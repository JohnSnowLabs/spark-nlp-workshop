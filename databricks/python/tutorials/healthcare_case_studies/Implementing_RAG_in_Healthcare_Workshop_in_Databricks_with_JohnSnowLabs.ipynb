{
 "cells": [
  {
   "cell_type": "markdown",
   "metadata": {
    "application/vnd.databricks.v1+cell": {
     "cellMetadata": {
      "byteLimit": 2048000,
      "rowLimit": 10000
     },
     "inputWidgets": {},
     "nuid": "c6283f2f-151a-4944-9f18-7cbbbf0fe481",
     "showTitle": false,
     "title": ""
    }
   },
   "source": [
    "# Augmenting Document Splits/ Chunks with Healthcare NLP for RAG Applications"
   ]
  },
  {
   "cell_type": "code",
   "execution_count": 0,
   "metadata": {
    "application/vnd.databricks.v1+cell": {
     "cellMetadata": {
      "byteLimit": 2048000,
      "rowLimit": 10000
     },
     "inputWidgets": {},
     "nuid": "70d971c7-c9ee-4afd-ad1e-af607d22ec93",
     "showTitle": false,
     "title": ""
    },
    "execution": {
     "iopub.execute_input": "2024-02-15T11:33:43.654920Z",
     "iopub.status.busy": "2024-02-15T11:33:43.654626Z",
     "iopub.status.idle": "2024-02-15T11:33:44.266636Z",
     "shell.execute_reply": "2024-02-15T11:33:44.265688Z",
     "shell.execute_reply.started": "2024-02-15T11:33:43.654895Z"
    },
    "tags": []
   },
   "outputs": [
    {
     "output_type": "stream",
     "name": "stdout",
     "output_type": "stream",
     "text": [
      "/databricks/python/lib/python3.9/site-packages/scipy/__init__.py:146: UserWarning: A NumPy version >=1.16.5 and <1.23.0 is required for this version of SciPy (detected version 1.26.4\n  warnings.warn(f\"A NumPy version >={np_minversion} and <{np_maxversion}\"\n\u001B[91m🚨 Your Spark-Healthcare is outdated, installed==5.2.1 but latest version==5.2.1\nYou can run \u001B[92m nlp.install() \u001B[39mto update Spark-Healthcare\n"
     ]
    },
    {
     "output_type": "display_data",
     "data": {
      "text/html": [
       "\n",
       "            <div>\n",
       "                <p><b>SparkSession - hive</b></p>\n",
       "                \n",
       "        <div>\n",
       "            <p><b>SparkContext</b></p>\n",
       "\n",
       "            <p><a href=\"/?o=7956323724731612#setting/sparkui/0725-092232-stftp6wi/driver-4886755231330626124\">Spark UI</a></p>\n",
       "\n",
       "            <dl>\n",
       "              <dt>Version</dt>\n",
       "                <dd><code>v3.3.0</code></dd>\n",
       "              <dt>Master</dt>\n",
       "                <dd><code>spark://10.139.64.11:7077</code></dd>\n",
       "              <dt>AppName</dt>\n",
       "                <dd><code>Databricks Shell</code></dd>\n",
       "            </dl>\n",
       "        </div>\n",
       "        \n",
       "            </div>\n",
       "        "
      ]
     },
     "metadata": {
      "application/vnd.databricks.v1+output": {
       "addedWidgets": {},
       "arguments": {},
       "data": "\n            <div>\n                <p><b>SparkSession - hive</b></p>\n                \n        <div>\n            <p><b>SparkContext</b></p>\n\n            <p><a href=\"/?o=7956323724731612#setting/sparkui/0725-092232-stftp6wi/driver-4886755231330626124\">Spark UI</a></p>\n\n            <dl>\n              <dt>Version</dt>\n                <dd><code>v3.3.0</code></dd>\n              <dt>Master</dt>\n                <dd><code>spark://10.139.64.11:7077</code></dd>\n              <dt>AppName</dt>\n                <dd><code>Databricks Shell</code></dd>\n            </dl>\n        </div>\n        \n            </div>\n        ",
       "datasetInfos": [],
       "metadata": {},
       "removedWidgets": [],
       "textData": null,
       "type": "htmlSandbox"
      }
     },
     "output_type": "display_data"
    }
   ],
   "source": [
    "from johnsnowlabs import nlp, medical\n",
    "\n",
    "spark"
   ]
  },
  {
   "cell_type": "markdown",
   "metadata": {
    "application/vnd.databricks.v1+cell": {
     "cellMetadata": {
      "byteLimit": 2048000,
      "rowLimit": 10000
     },
     "inputWidgets": {},
     "nuid": "6bc320d6-e54f-4566-9f0c-2006b19fc864",
     "showTitle": false,
     "title": ""
    }
   },
   "source": [
    "## Splitting with Medical Document Splitter"
   ]
  },
  {
   "cell_type": "markdown",
   "metadata": {
    "application/vnd.databricks.v1+cell": {
     "cellMetadata": {
      "byteLimit": 2048000,
      "rowLimit": 10000
     },
     "inputWidgets": {},
     "nuid": "f7a3b155-823d-4043-9c7c-8e4c16697895",
     "showTitle": false,
     "title": ""
    }
   },
   "source": [
    "This Annotator splits large documents into small documents. `InternalDocumentSplitter` has setSplitMode method to decide how to split documents.\n",
    "\n",
    "If splitMode is `recursive`, It takes the separators in order and splits subtexts if they are over the chunk length, considering optional overlap of the chunks.\n",
    "\n",
    "Additionally, you can set\n",
    "- custom patterns with setSplitPatterns\n",
    "- whether patterns should be interpreted as regex with setPatternsAreRegex\n",
    "- whether to keep the separators with setKeepSeparators\n",
    "- whether to trim whitespaces with setTrimWhitespace\n",
    "- whether to explode the splits to individual rows with setExplodeSplits\n",
    "\n",
    "**Parameters**:\n",
    "\n",
    "- `chunkSize`: Size of each chunk of text. This param is applicable only for \"recursive\" splitMode.\n",
    "- `chunkOverlap`: Length of the overlap between text chunks, by default `0`. This param is applicable only for `recursive` splitMode.\n",
    "- `splitPatterns`: Patterns to split the document.\n",
    "patternsAreRegex. Whether to interpret the split patterns as regular expressions, by default `True`.\n",
    "- `keepSeparators`: Whether to keep the separators in the final result , by default `True`. This param is applicable only for \"recursive\" splitMode.\n",
    "- `explodeSplits`: Whether to explode split chunks to separate rows , by default `False`.\n",
    "- `trimWhitespace`: Whether to trim whitespaces of extracted chunks , by default `True`.\n",
    "- `splitMode`: The split mode to determine how text should be segmented. Default: 'regex'. It should be one of the following values:\n",
    "  - \"char\": Split text based on individual characters.\n",
    "  - \"token\": Split text based on tokens. You should supply tokens from inputCols.\n",
    "  - \"sentence\": Split text based on sentences. You should supply sentences from inputCols.\n",
    "  - \"recursive\": Split text recursively using a specific algorithm.\n",
    "  - \"regex\": Split text based on a regular expression pattern.\n",
    "- `sentenceAwareness`: Whether to split the document by sentence awareness if possible.\n",
    "  - If true, it can stop the split process before maxLength.\n",
    "  - If true, you should supply sentences from inputCols. Default: `False`.\n",
    "  - This param is not applicable only for `regex` and `recursive` splitMode.\n",
    "- `maxLength`: The maximum length allowed for spitting. The mode in which the maximum length is specified:\n",
    "  - \"char\": Maximum length is measured in characters. Default: `512`\n",
    "  - \"token\": Maximum length is measured in tokens. Default: `128`\n",
    "  - \"sentence\": Maximum length is measured in sentences. Default: `8`\n",
    "- `customBoundsStrategy`: The custom bounds strategy for text splitting using regular expressions. This param is applicable only for `regex` splitMode.\n",
    "- `caseSensitive`: Whether to use case sensitive when matching regex, by default `False`. This param is applicable only for `regex` splitMode.\n",
    "-  `metaDataFields`: Metadata fields to add specified data in columns to the metadata of the split documents.         You should set column names to read columns.\n",
    "\n",
    "- `enableSentenceIncrement`: Whether the sentence index should be incremented in the metadata of the annotator.When set to true, the annotator will increment the sentence index in the metadata for each split documents. Default: `False`."
   ]
  },
  {
   "cell_type": "code",
   "execution_count": 0,
   "metadata": {
    "application/vnd.databricks.v1+cell": {
     "cellMetadata": {
      "byteLimit": 2048000,
      "rowLimit": 10000
     },
     "inputWidgets": {},
     "nuid": "8e5f0a0f-cfb9-4848-a614-6aeee8d1bde2",
     "showTitle": false,
     "title": ""
    },
    "execution": {
     "iopub.execute_input": "2024-02-15T11:27:43.470771Z",
     "iopub.status.busy": "2024-02-15T11:27:43.470607Z",
     "iopub.status.idle": "2024-02-15T11:27:53.902350Z",
     "shell.execute_reply": "2024-02-15T11:27:53.901660Z",
     "shell.execute_reply.started": "2024-02-15T11:27:43.470756Z"
    }
   },
   "outputs": [],
   "source": [
    "!wget -q https://raw.githubusercontent.com/JohnSnowLabs/spark-nlp-workshop/master/healthcare-nlp/data/mt_samples.csv"
   ]
  },
  {
   "cell_type": "code",
   "execution_count": 0,
   "metadata": {
    "application/vnd.databricks.v1+cell": {
     "cellMetadata": {
      "byteLimit": 2048000,
      "rowLimit": 10000
     },
     "inputWidgets": {},
     "nuid": "71b6cc6d-162b-441a-a0bf-e9dbdbfad754",
     "showTitle": false,
     "title": ""
    },
    "execution": {
     "iopub.execute_input": "2024-02-15T11:34:48.421039Z",
     "iopub.status.busy": "2024-02-15T11:34:48.420453Z",
     "iopub.status.idle": "2024-02-15T11:34:48.448649Z",
     "shell.execute_reply": "2024-02-15T11:34:48.447864Z",
     "shell.execute_reply.started": "2024-02-15T11:34:48.421019Z"
    },
    "tags": []
   },
   "outputs": [
    {
     "output_type": "display_data",
     "data": {
      "application/vnd.databricks.v1+bamboolib_hint": "{\"pd.DataFrames\": [], \"version\": \"0.0.1\"}",
      "text/plain": []
     },
     "metadata": {},
     "output_type": "display_data"
    },
    {
     "output_type": "display_data",
     "data": {
      "text/html": [
       "<div>\n",
       "<style scoped>\n",
       "    .dataframe tbody tr th:only-of-type {\n",
       "        vertical-align: middle;\n",
       "    }\n",
       "\n",
       "    .dataframe tbody tr th {\n",
       "        vertical-align: top;\n",
       "    }\n",
       "\n",
       "    .dataframe thead th {\n",
       "        text-align: right;\n",
       "    }\n",
       "</style>\n",
       "<table border=\"1\" class=\"dataframe\">\n",
       "  <thead>\n",
       "    <tr style=\"text-align: right;\">\n",
       "      <th></th>\n",
       "      <th>text</th>\n",
       "    </tr>\n",
       "  </thead>\n",
       "  <tbody>\n",
       "    <tr>\n",
       "      <th>0</th>\n",
       "      <td>Sample Type / Medical Specialty:\\nHematology -...</td>\n",
       "    </tr>\n",
       "    <tr>\n",
       "      <th>1</th>\n",
       "      <td>Sample Type / Medical Specialty:\\nHematology -...</td>\n",
       "    </tr>\n",
       "    <tr>\n",
       "      <th>2</th>\n",
       "      <td>Sample Type / Medical Specialty:\\nHematology -...</td>\n",
       "    </tr>\n",
       "    <tr>\n",
       "      <th>3</th>\n",
       "      <td>Sample Type / Medical Specialty:\\nHematology -...</td>\n",
       "    </tr>\n",
       "    <tr>\n",
       "      <th>4</th>\n",
       "      <td>Sample Type / Medical Specialty:\\nHematology -...</td>\n",
       "    </tr>\n",
       "  </tbody>\n",
       "</table>\n",
       "</div>"
      ]
     },
     "metadata": {
      "application/vnd.databricks.v1+output": {
       "addedWidgets": {},
       "arguments": {},
       "data": "<div>\n<style scoped>\n    .dataframe tbody tr th:only-of-type {\n        vertical-align: middle;\n    }\n\n    .dataframe tbody tr th {\n        vertical-align: top;\n    }\n\n    .dataframe thead th {\n        text-align: right;\n    }\n</style>\n<table border=\"1\" class=\"dataframe\">\n  <thead>\n    <tr style=\"text-align: right;\">\n      <th></th>\n      <th>text</th>\n    </tr>\n  </thead>\n  <tbody>\n    <tr>\n      <th>0</th>\n      <td>Sample Type / Medical Specialty:\\nHematology -...</td>\n    </tr>\n    <tr>\n      <th>1</th>\n      <td>Sample Type / Medical Specialty:\\nHematology -...</td>\n    </tr>\n    <tr>\n      <th>2</th>\n      <td>Sample Type / Medical Specialty:\\nHematology -...</td>\n    </tr>\n    <tr>\n      <th>3</th>\n      <td>Sample Type / Medical Specialty:\\nHematology -...</td>\n    </tr>\n    <tr>\n      <th>4</th>\n      <td>Sample Type / Medical Specialty:\\nHematology -...</td>\n    </tr>\n  </tbody>\n</table>\n</div>",
       "datasetInfos": [],
       "metadata": {},
       "removedWidgets": [],
       "textData": null,
       "type": "htmlSandbox"
      }
     },
     "output_type": "display_data"
    }
   ],
   "source": [
    "import pandas as pd\n",
    "\n",
    "df = pd.read_csv(\"mt_samples.csv\")\n",
    "df.head()"
   ]
  },
  {
   "cell_type": "code",
   "execution_count": 0,
   "metadata": {
    "application/vnd.databricks.v1+cell": {
     "cellMetadata": {
      "byteLimit": 2048000,
      "rowLimit": 10000
     },
     "inputWidgets": {},
     "nuid": "51f6328c-cf1b-421f-97c2-73a31b30497b",
     "showTitle": false,
     "title": ""
    },
    "execution": {
     "iopub.execute_input": "2024-02-15T11:34:49.450453Z",
     "iopub.status.busy": "2024-02-15T11:34:49.449864Z",
     "iopub.status.idle": "2024-02-15T11:34:49.458485Z",
     "shell.execute_reply": "2024-02-15T11:34:49.456783Z",
     "shell.execute_reply.started": "2024-02-15T11:34:49.450432Z"
    },
    "tags": []
   },
   "outputs": [
    {
     "output_type": "stream",
     "name": "stdout",
     "output_type": "stream",
     "text": [
      "Sample Type / Medical Specialty:\nHematology - Oncology\nSample Name:\nDischarge Summary - Mesothelioma - 1\nDescription:\nMesothelioma, pleural effusion, atrial fibrillation, anemia, ascites, esophageal reflux, and history of deep venous thrombosis.\n(Medical Transcription Sample Report)\nPRINCIPAL DIAGNOSIS:\nMesothelioma.\nSECONDARY DIAGNOSES:\nPleural effusion, atrial fibrillation, anemia, ascites, esophageal reflux, and history of deep venous thrombosis.\nPROCEDURES\n1. On August 24, 2007, decortication of the lung with pleural biopsy and transpleural fluoroscopy.\n2. On August 20, 2007, thoracentesis.\n3. On August 31, 2007, Port-A-Cath placement.\nHISTORY AND PHYSICAL:\nThe patient is a 41-year-old Vietnamese female with a nonproductive cough that started last week. She has had right-sided chest pain radiating to her back with fever starting yesterday. She has a history of pericarditis and pericardectomy in May 2006 and developed cough with right-sided chest pain, and went to an urgent care center. Chest x-ray revealed right-sided pleural effusion.\nPAST MEDICAL HISTORY\n1. Pericardectomy.\n2. Pericarditis.\n2. Atrial fibrillation.\n4. RNCA with intracranial thrombolytic treatment.\n5 PTA of MCA.\n6. Mesenteric venous thrombosis.\n7. Pericardial window.\n8. Cholecystectomy.\n9. Left thoracentesis.\nFAMILY HISTORY:\nNo family history of coronary artery disease, CVA, diabetes, CHF or MI. The patient has one family member, a sister, with history of cancer.\nSOCIAL HISTORY:\nShe is married. Employed with the US Post Office. She is a mother of three. Denies tobacco, alcohol or illicit drug use.\nMEDICATIONS\n1. Coumadin 1 mg daily. Last INR was on Tuesday, August 14, 2007, and her INR was 2.3.\n2. Amiodarone 100 mg p.o. daily.\nREVIEW OF SYSTEMS:\nComplete review of systems negative except as in pulmonary as noted above. The patient also reports occasional numbness and tingling of her left arm.\nPHYSICAL EXAMINATION\nVITAL SIGNS: Blood pressure 123/95, heart rate 83, respirations 20, temperature 97, and oxygen saturation 97%.\nGENERAL: Positive nonproductive cough and pain with coughing.\nHEENT: Pupils are equal and reactive to light and accommodation. Tympanic membranes are clear.\nNECK: Supple. No lymphadenopathy. No masses.\nRESPIRATORY: Pleural friction rub is noted.\nGI: Soft, nondistended, and nontender. Positive bowel sounds. No organomegaly.\nEXTREMITIES: No edema, no clubbing, no cyanosis, no tenderness. Full range of motion. Normal pulses in all extremities.\nSKIN: No breakdown or lesions. No ulcers.\nNEUROLOGIC: Grossly intact. No focal deficits. Awake, alert, and oriented to person, place, and time.\nLABORATORY DATA:\nLabs are pending.\nHOSPITAL COURSE:\nThe patient was admitted for a right-sided pleural effusion for thoracentesis on Monday by Dr. X. Her Coumadin was placed on hold. A repeat echocardiogram was checked. She was started on prophylaxis for DVT with Lovenox 40 mg subcutaneously. Her history dated back to March 2005 when she first sought medical attention for evidence of pericarditis, which was treated with pericardial window in an outside hospital, at that time she was also found to have mesenteric pain and thrombosis, is now anticoagulated. Her pericardial fluid was accumulated and she was seen by Dr. Y. At that time, she was recommended for pericardectomy, which was performed by Dr. Z. Review of her CT scan from March 2006 prior to her pericardectomy, already shows bilateral plural effusions. The patient improved clinically after the pericardectomy with resolution of her symptoms. Recently, she was readmitted to the hospital with chest pain and found to have bilateral pleural effusion, the right greater than the left. CT of the chest also revealed a large mediastinal lymph node. We reviewed the pathology obtained from the pericardectomy in March 2006, which was diagnostic of mesothelioma. At this time, chest tube placement for drainage of the fluid occurred and thoracoscopy with fluid biopsies, which were performed, which revealed epithelioid malignant mesothelioma. The patient was then stained with a PET CT, which showed extensive uptake in the chest, bilateral pleural pericardial effusions, and lymphadenopathy. She also had acidic fluid, pectoral and intramammary lymph nodes and uptake in L4 with SUV of 4. This was consistent with stage III disease. Her repeat echocardiogram showed an ejection fraction of 45% to 49%. She was transferred to Oncology service and started on chemotherapy on September 1, 2007 with cisplatin 75 mg/centimeter squared equaling 109 mg IV piggyback over 2 hours on September 1, 2007, Alimta 500 mg/ centimeter squared equaling 730 mg IV piggyback over 10 minutes. This was all initiated after a Port-A-Cath was placed. The chemotherapy was well tolerated and the patient was discharged the following day after discontinuing IV fluid and IV. Her Port-A-Cath was packed with heparin according to protocol.\nDISCHARGE MEDICATIONS:\nZofran, Phenergan, Coumadin, and Lovenox, and Vicodin\nDISCHARGE INSTRUCTIONS:\nShe was instructed to followup with Dr. XYZ in the office to check her INR on Tuesday. She was instructed to call if she had any other questions or concerns in the interim.\nKeywords:\nhematology - oncology, mesothelioma, pleural effusion, atrial fibrillation, anemia, ascites, esophageal reflux, deep venous thrombosis, port-a-cath placement, port a cath, iv piggyback, venous thrombosis, atrial, thrombosis, pericardial, lymphadenopathy, fluid, pericardectomy, chest, pleural,\n"
     ]
    }
   ],
   "source": [
    "note = df.loc[0,'text']\n",
    "print(note)"
   ]
  },
  {
   "cell_type": "code",
   "execution_count": 0,
   "metadata": {
    "application/vnd.databricks.v1+cell": {
     "cellMetadata": {
      "byteLimit": 2048000,
      "rowLimit": 10000
     },
     "inputWidgets": {},
     "nuid": "6fa38292-d85f-4d5d-975a-30b7165eca49",
     "showTitle": false,
     "title": ""
    },
    "execution": {
     "iopub.execute_input": "2024-02-15T11:34:50.908048Z",
     "iopub.status.busy": "2024-02-15T11:34:50.907523Z",
     "iopub.status.idle": "2024-02-15T11:34:50.913289Z",
     "shell.execute_reply": "2024-02-15T11:34:50.912779Z",
     "shell.execute_reply.started": "2024-02-15T11:34:50.908028Z"
    },
    "tags": []
   },
   "outputs": [],
   "source": [
    "import uuid\n",
    "import numpy as np\n",
    "\n",
    "df['document_id'] = [str(uuid.uuid4()) for _ in range(len(df))]\n",
    "\n",
    "df['patient_id'] = [\"pt_{}\".format(np.random.randint(5, 30)) for _ in range(len(df))]"
   ]
  },
  {
   "cell_type": "code",
   "execution_count": 0,
   "metadata": {
    "application/vnd.databricks.v1+cell": {
     "cellMetadata": {
      "byteLimit": 2048000,
      "rowLimit": 10000
     },
     "inputWidgets": {},
     "nuid": "0d4b05e0-0e84-4c3a-b29d-7b601c5993af",
     "showTitle": false,
     "title": ""
    },
    "execution": {
     "iopub.execute_input": "2024-02-15T11:34:51.170765Z",
     "iopub.status.busy": "2024-02-15T11:34:51.170269Z",
     "iopub.status.idle": "2024-02-15T11:34:51.177115Z",
     "shell.execute_reply": "2024-02-15T11:34:51.176427Z",
     "shell.execute_reply.started": "2024-02-15T11:34:51.170746Z"
    },
    "tags": []
   },
   "outputs": [
    {
     "output_type": "display_data",
     "data": {
      "text/html": [
       "<div>\n",
       "<style scoped>\n",
       "    .dataframe tbody tr th:only-of-type {\n",
       "        vertical-align: middle;\n",
       "    }\n",
       "\n",
       "    .dataframe tbody tr th {\n",
       "        vertical-align: top;\n",
       "    }\n",
       "\n",
       "    .dataframe thead th {\n",
       "        text-align: right;\n",
       "    }\n",
       "</style>\n",
       "<table border=\"1\" class=\"dataframe\">\n",
       "  <thead>\n",
       "    <tr style=\"text-align: right;\">\n",
       "      <th></th>\n",
       "      <th>text</th>\n",
       "      <th>document_id</th>\n",
       "      <th>patient_id</th>\n",
       "    </tr>\n",
       "  </thead>\n",
       "  <tbody>\n",
       "    <tr>\n",
       "      <th>0</th>\n",
       "      <td>Sample Type / Medical Specialty:\\nHematology -...</td>\n",
       "      <td>2fc10874-3f71-448b-94b1-f4ea02618f1a</td>\n",
       "      <td>pt_9</td>\n",
       "    </tr>\n",
       "    <tr>\n",
       "      <th>1</th>\n",
       "      <td>Sample Type / Medical Specialty:\\nHematology -...</td>\n",
       "      <td>4811cdb3-eb26-4313-914d-fb8c7867e3a1</td>\n",
       "      <td>pt_19</td>\n",
       "    </tr>\n",
       "    <tr>\n",
       "      <th>2</th>\n",
       "      <td>Sample Type / Medical Specialty:\\nHematology -...</td>\n",
       "      <td>c152183b-8c4f-4475-b3e2-d21f6ffa2259</td>\n",
       "      <td>pt_22</td>\n",
       "    </tr>\n",
       "    <tr>\n",
       "      <th>3</th>\n",
       "      <td>Sample Type / Medical Specialty:\\nHematology -...</td>\n",
       "      <td>b4e1f0ac-7ec9-4943-9efa-196f661fc116</td>\n",
       "      <td>pt_24</td>\n",
       "    </tr>\n",
       "    <tr>\n",
       "      <th>4</th>\n",
       "      <td>Sample Type / Medical Specialty:\\nHematology -...</td>\n",
       "      <td>e3dc12c2-57c4-4df1-a3b1-e2ec17bdbd16</td>\n",
       "      <td>pt_7</td>\n",
       "    </tr>\n",
       "  </tbody>\n",
       "</table>\n",
       "</div>"
      ]
     },
     "metadata": {
      "application/vnd.databricks.v1+output": {
       "addedWidgets": {},
       "arguments": {},
       "data": "<div>\n<style scoped>\n    .dataframe tbody tr th:only-of-type {\n        vertical-align: middle;\n    }\n\n    .dataframe tbody tr th {\n        vertical-align: top;\n    }\n\n    .dataframe thead th {\n        text-align: right;\n    }\n</style>\n<table border=\"1\" class=\"dataframe\">\n  <thead>\n    <tr style=\"text-align: right;\">\n      <th></th>\n      <th>text</th>\n      <th>document_id</th>\n      <th>patient_id</th>\n    </tr>\n  </thead>\n  <tbody>\n    <tr>\n      <th>0</th>\n      <td>Sample Type / Medical Specialty:\\nHematology -...</td>\n      <td>2fc10874-3f71-448b-94b1-f4ea02618f1a</td>\n      <td>pt_9</td>\n    </tr>\n    <tr>\n      <th>1</th>\n      <td>Sample Type / Medical Specialty:\\nHematology -...</td>\n      <td>4811cdb3-eb26-4313-914d-fb8c7867e3a1</td>\n      <td>pt_19</td>\n    </tr>\n    <tr>\n      <th>2</th>\n      <td>Sample Type / Medical Specialty:\\nHematology -...</td>\n      <td>c152183b-8c4f-4475-b3e2-d21f6ffa2259</td>\n      <td>pt_22</td>\n    </tr>\n    <tr>\n      <th>3</th>\n      <td>Sample Type / Medical Specialty:\\nHematology -...</td>\n      <td>b4e1f0ac-7ec9-4943-9efa-196f661fc116</td>\n      <td>pt_24</td>\n    </tr>\n    <tr>\n      <th>4</th>\n      <td>Sample Type / Medical Specialty:\\nHematology -...</td>\n      <td>e3dc12c2-57c4-4df1-a3b1-e2ec17bdbd16</td>\n      <td>pt_7</td>\n    </tr>\n  </tbody>\n</table>\n</div>",
       "datasetInfos": [],
       "metadata": {},
       "removedWidgets": [],
       "textData": null,
       "type": "htmlSandbox"
      }
     },
     "output_type": "display_data"
    }
   ],
   "source": [
    "df.head()"
   ]
  },
  {
   "cell_type": "code",
   "execution_count": 0,
   "metadata": {
    "application/vnd.databricks.v1+cell": {
     "cellMetadata": {
      "byteLimit": 2048000,
      "rowLimit": 10000
     },
     "inputWidgets": {},
     "nuid": "45769159-649a-40ea-a192-ebbac4240847",
     "showTitle": false,
     "title": ""
    },
    "execution": {
     "iopub.execute_input": "2024-02-15T11:34:52.104593Z",
     "iopub.status.busy": "2024-02-15T11:34:52.103944Z",
     "iopub.status.idle": "2024-02-15T11:34:56.498664Z",
     "shell.execute_reply": "2024-02-15T11:34:56.497872Z",
     "shell.execute_reply.started": "2024-02-15T11:34:52.104568Z"
    },
    "tags": []
   },
   "outputs": [],
   "source": [
    "import pandas as pd\n",
    "\n",
    "spark_df = spark.createDataFrame(df)\n",
    "\n",
    "spark_df.write.mode(\"overwrite\").parquet('dbfs:/mtsamples_clinical_records.parquet')\n"
   ]
  },
  {
   "cell_type": "code",
   "execution_count": 0,
   "metadata": {
    "application/vnd.databricks.v1+cell": {
     "cellMetadata": {
      "byteLimit": 2048000,
      "rowLimit": 10000
     },
     "inputWidgets": {},
     "nuid": "281b893c-a776-4de7-97fe-b45197adc143",
     "showTitle": false,
     "title": ""
    }
   },
   "outputs": [],
   "source": [
    "#spark_df = spark.read.parquet(\"dbfs:/mtsamples_clinical_records.parquet\")\n",
    "#spark_df.show(5)"
   ]
  },
  {
   "cell_type": "markdown",
   "metadata": {
    "application/vnd.databricks.v1+cell": {
     "cellMetadata": {
      "byteLimit": 2048000,
      "rowLimit": 10000
     },
     "inputWidgets": {},
     "nuid": "f60d10bd-8b05-4b94-b63a-1949c67bf3c8",
     "showTitle": false,
     "title": ""
    }
   },
   "source": [
    "### Split by LangChain"
   ]
  },
  {
   "cell_type": "code",
   "execution_count": 0,
   "metadata": {
    "application/vnd.databricks.v1+cell": {
     "cellMetadata": {
      "byteLimit": 2048000,
      "rowLimit": 10000
     },
     "inputWidgets": {},
     "nuid": "aff23d72-e882-454e-b805-f1bdb15619d3",
     "showTitle": false,
     "title": ""
    },
    "execution": {
     "iopub.execute_input": "2024-02-15T11:34:57.330783Z",
     "iopub.status.busy": "2024-02-15T11:34:57.330175Z",
     "iopub.status.idle": "2024-02-15T11:34:59.402563Z",
     "shell.execute_reply": "2024-02-15T11:34:59.401901Z",
     "shell.execute_reply.started": "2024-02-15T11:34:57.330761Z"
    },
    "tags": []
   },
   "outputs": [],
   "source": [
    "from langchain.document_loaders import PySparkDataFrameLoader\n",
    "\n",
    "loader = PySparkDataFrameLoader(spark, spark_df, page_content_column=\"text\")\n",
    "\n",
    "documents = loader.load()"
   ]
  },
  {
   "cell_type": "code",
   "execution_count": 0,
   "metadata": {
    "application/vnd.databricks.v1+cell": {
     "cellMetadata": {
      "byteLimit": 2048000,
      "rowLimit": 10000
     },
     "inputWidgets": {},
     "nuid": "a8e14930-6bf7-4467-9603-175c79f16628",
     "showTitle": false,
     "title": ""
    },
    "execution": {
     "iopub.execute_input": "2024-02-15T11:34:59.404572Z",
     "iopub.status.busy": "2024-02-15T11:34:59.404364Z",
     "iopub.status.idle": "2024-02-15T11:34:59.421376Z",
     "shell.execute_reply": "2024-02-15T11:34:59.420787Z",
     "shell.execute_reply.started": "2024-02-15T11:34:59.404554Z"
    },
    "tags": []
   },
   "outputs": [],
   "source": [
    "from langchain.text_splitter import RecursiveCharacterTextSplitter\n",
    "\n",
    "text_splitter = RecursiveCharacterTextSplitter(\n",
    "    chunk_size=1000,\n",
    "    chunk_overlap=50,\n",
    "    length_function=len,\n",
    "    is_separator_regex=False,\n",
    ")\n",
    "\n",
    "split_texts = text_splitter.split_documents(documents)"
   ]
  },
  {
   "cell_type": "code",
   "execution_count": 0,
   "metadata": {
    "application/vnd.databricks.v1+cell": {
     "cellMetadata": {
      "byteLimit": 2048000,
      "rowLimit": 10000
     },
     "inputWidgets": {},
     "nuid": "34099ea0-61f4-4ae5-a3e1-cdbf38d84f2d",
     "showTitle": false,
     "title": ""
    },
    "execution": {
     "iopub.execute_input": "2024-02-15T11:28:14.629386Z",
     "iopub.status.busy": "2024-02-15T11:28:14.629236Z",
     "iopub.status.idle": "2024-02-15T11:28:14.690292Z",
     "shell.execute_reply": "2024-02-15T11:28:14.689713Z",
     "shell.execute_reply.started": "2024-02-15T11:28:14.629368Z"
    },
    "tags": []
   },
   "outputs": [
    {
     "output_type": "stream",
     "name": "stdout",
     "output_type": "stream",
     "text": [
      "Out[11]: Document(page_content='Sample Type / Medical Specialty:\\nHematology - Oncology\\nSample Name:\\nDischarge Summary - Mesothelioma - 1\\nDescription:\\nMesothelioma, pleural effusion, atrial fibrillation, anemia, ascites, esophageal reflux, and history of deep venous thrombosis.\\n(Medical Transcription Sample Report)\\nPRINCIPAL DIAGNOSIS:\\nMesothelioma.\\nSECONDARY DIAGNOSES:\\nPleural effusion, atrial fibrillation, anemia, ascites, esophageal reflux, and history of deep venous thrombosis.\\nPROCEDURES\\n1. On August 24, 2007, decortication of the lung with pleural biopsy and transpleural fluoroscopy.\\n2. On August 20, 2007, thoracentesis.\\n3. On August 31, 2007, Port-A-Cath placement.\\nHISTORY AND PHYSICAL:', metadata={'document_id': '2fc10874-3f71-448b-94b1-f4ea02618f1a', 'patient_id': 'pt_9'})"
     ]
    }
   ],
   "source": [
    "split_texts[0]"
   ]
  },
  {
   "cell_type": "markdown",
   "metadata": {
    "application/vnd.databricks.v1+cell": {
     "cellMetadata": {
      "byteLimit": 2048000,
      "rowLimit": 10000
     },
     "inputWidgets": {},
     "nuid": "f5412777-6076-4a19-bd4d-3497ea139ccb",
     "showTitle": false,
     "title": ""
    }
   },
   "source": [
    "### Split by Medical Splitter"
   ]
  },
  {
   "cell_type": "markdown",
   "metadata": {
    "application/vnd.databricks.v1+cell": {
     "cellMetadata": {
      "byteLimit": 2048000,
      "rowLimit": 10000
     },
     "inputWidgets": {},
     "nuid": "dbc0f32a-1d62-4c6e-a550-97b0dbeb7a88",
     "showTitle": false,
     "title": ""
    }
   },
   "source": [
    "#### Split by Section Headers"
   ]
  },
  {
   "cell_type": "code",
   "execution_count": 0,
   "metadata": {
    "application/vnd.databricks.v1+cell": {
     "cellMetadata": {
      "byteLimit": 2048000,
      "rowLimit": 10000
     },
     "inputWidgets": {},
     "nuid": "bba64921-d792-424e-a1a5-01603e11c562",
     "showTitle": false,
     "title": ""
    },
    "execution": {
     "iopub.execute_input": "2024-02-15T11:35:02.959083Z",
     "iopub.status.busy": "2024-02-15T11:35:02.958594Z",
     "iopub.status.idle": "2024-02-15T11:35:16.043358Z",
     "shell.execute_reply": "2024-02-15T11:35:16.042700Z",
     "shell.execute_reply.started": "2024-02-15T11:35:02.959064Z"
    },
    "tags": []
   },
   "outputs": [
    {
     "output_type": "stream",
     "name": "stdout",
     "output_type": "stream",
     "text": [
      "embeddings_clinical download started this may take some time.\nApproximate size to download 1.6 GB\n\r[ | ]\r[OK!]\nner_jsl_slim download started this may take some time.\n\r[ | ]\r[OK!]\n"
     ]
    }
   ],
   "source": [
    "document_assembler = nlp.DocumentAssembler()\\\n",
    "      .setInputCol('text')\\\n",
    "      .setOutputCol('document')\n",
    "\n",
    "sentence_detector = nlp.SentenceDetector()\\\n",
    "      .setInputCols([\"document\"])\\\n",
    "      .setOutputCol(\"sentence\")\n",
    "\n",
    "tokenizer = nlp.Tokenizer()\\\n",
    "      .setInputCols(\"sentence\")\\\n",
    "      .setOutputCol(\"token\")\n",
    "\n",
    "embeddings = nlp.WordEmbeddingsModel.pretrained(\"embeddings_clinical\", \"en\",\"clinical/models\")\\\n",
    "      .setInputCols([\"sentence\", \"token\"])\\\n",
    "      .setOutputCol(\"word_embeddings\")\n",
    "\n",
    "clinical_ner = medical.NerModel.pretrained(\"ner_jsl_slim\", \"en\", \"clinical/models\")\\\n",
    "      .setInputCols([\"sentence\",\"token\", \"word_embeddings\"])\\\n",
    "      .setOutputCol(\"ner\")\n",
    "\n",
    "ner_converter = medical.NerConverter()\\\n",
    "      .setInputCols([\"sentence\", \"token\", \"ner\"])\\\n",
    "      .setOutputCol(\"ner_chunk\")\\\n",
    "      .setWhiteList([\"Header\"])\n",
    "\n",
    "pipeline = nlp.Pipeline().setStages([\n",
    "    document_assembler,\n",
    "    sentence_detector,\n",
    "    tokenizer,\n",
    "    embeddings,\n",
    "    clinical_ner,\n",
    "    ner_converter])\n",
    "\n",
    "section_model = pipeline.fit(spark_df)\n"
   ]
  },
  {
   "cell_type": "code",
   "execution_count": 0,
   "metadata": {
    "application/vnd.databricks.v1+cell": {
     "cellMetadata": {
      "byteLimit": 2048000,
      "rowLimit": 10000
     },
     "inputWidgets": {},
     "nuid": "1f9b5198-5631-4b4a-ae19-b7a508ebbb03",
     "showTitle": false,
     "title": ""
    },
    "execution": {
     "iopub.execute_input": "2024-02-15T11:35:16.045662Z",
     "iopub.status.busy": "2024-02-15T11:35:16.045403Z",
     "iopub.status.idle": "2024-02-15T11:35:16.101405Z",
     "shell.execute_reply": "2024-02-15T11:35:16.100660Z",
     "shell.execute_reply.started": "2024-02-15T11:35:16.045638Z"
    },
    "tags": []
   },
   "outputs": [],
   "source": [
    "section_model_lp = nlp.LightPipeline(section_model)"
   ]
  },
  {
   "cell_type": "code",
   "execution_count": 0,
   "metadata": {
    "application/vnd.databricks.v1+cell": {
     "cellMetadata": {
      "byteLimit": 2048000,
      "rowLimit": 10000
     },
     "inputWidgets": {},
     "nuid": "1bbf9199-9875-4e9a-ba84-7e353f3d6c85",
     "showTitle": false,
     "title": ""
    },
    "execution": {
     "iopub.execute_input": "2024-02-15T11:35:16.102542Z",
     "iopub.status.busy": "2024-02-15T11:35:16.102308Z",
     "iopub.status.idle": "2024-02-15T11:35:17.905952Z",
     "shell.execute_reply": "2024-02-15T11:35:17.905359Z",
     "shell.execute_reply.started": "2024-02-15T11:35:16.102506Z"
    },
    "tags": []
   },
   "outputs": [
    {
     "output_type": "stream",
     "name": "stdout",
     "output_type": "stream",
     "text": [
      "Out[14]: ['PRINCIPAL DIAGNOSIS:',\n 'SECONDARY DIAGNOSES:',\n 'PROCEDURES',\n 'HISTORY AND PHYSICAL:',\n 'PAST MEDICAL HISTORY',\n 'FAMILY HISTORY:',\n 'SOCIAL HISTORY:',\n 'MEDICATIONS',\n 'REVIEW OF SYSTEMS:',\n 'PHYSICAL EXAMINATION\\nVITAL SIGNS:',\n 'GENERAL:',\n 'LABORATORY DATA:',\n 'HOSPITAL COURSE:']"
     ]
    }
   ],
   "source": [
    "headers = section_model_lp.annotate(note)['ner_chunk']\n",
    "headers"
   ]
  },
  {
   "cell_type": "code",
   "execution_count": 0,
   "metadata": {
    "application/vnd.databricks.v1+cell": {
     "cellMetadata": {
      "byteLimit": 2048000,
      "rowLimit": 10000
     },
     "inputWidgets": {},
     "nuid": "6cf1ca91-e6f5-453f-a030-1dcf0ecf95e4",
     "showTitle": false,
     "title": ""
    }
   },
   "outputs": [
    {
     "output_type": "stream",
     "name": "stdout",
     "output_type": "stream",
     "text": [
      "+--------------------------------------------------------------+---------+----------+\n|chunk                                                         |ner_label|confidence|\n+--------------------------------------------------------------+---------+----------+\n|PRINCIPAL DIAGNOSIS:                                          |Header   |0.5713667 |\n|SECONDARY DIAGNOSES:                                          |Header   |0.6755    |\n|PROCEDURES                                                    |Header   |0.9934    |\n|HISTORY AND PHYSICAL:                                         |Header   |0.66112494|\n|PAST MEDICAL HISTORY                                          |Header   |0.69296664|\n|FAMILY HISTORY:                                               |Header   |0.7933    |\n|SOCIAL HISTORY:                                               |Header   |0.70523334|\n|MEDICATIONS                                                   |Header   |0.9037    |\n|REVIEW OF SYSTEMS:                                            |Header   |0.6896    |\n|PHYSICAL EXAMINATION\\nVITAL SIGNS:                            |Header   |0.59578   |\n|GENERAL:                                                      |Header   |0.5557    |\n|LABORATORY DATA:                                              |Header   |0.71576667|\n|HOSPITAL COURSE:                                              |Header   |0.73366666|\n|(Medical Transcription Sample Report)\\nPREOPERATIVE DIAGNOSIS:|Header   |0.52739996|\n|POSTOPERATIVE DIAGNOSIS:                                      |Header   |0.7541    |\n|TITLE OF OPERATION:                                           |Header   |0.4805    |\n|PROCEDURE:                                                    |Header   |0.85510004|\n|(Medical Transcription Sample Report)\\nDIAGNOSIS:             |Header   |0.5534375 |\n|CHIEF COMPLAINT:                                              |Header   |0.6915333 |\n|HISTORY:                                                      |Header   |0.8549    |\n+--------------------------------------------------------------+---------+----------+\nonly showing top 20 rows\n\n"
     ]
    }
   ],
   "source": [
    "from pyspark.sql import functions as F\n",
    "\n",
    "result = section_model.transform(spark_df)\n",
    "\n",
    "headers_df = result.select(F.explode(F.arrays_zip(result.ner_chunk.result,\n",
    "                                     result.ner_chunk.metadata)).alias(\"cols\")) \\\n",
    "      .select(F.expr(\"cols['0']\").alias(\"chunk\"),\n",
    "              F.expr(\"cols['1']['entity']\").alias(\"ner_label\"),\n",
    "              F.expr(\"cols['1']['confidence']\").alias(\"confidence\")).cache()\n",
    "\n",
    "headers_df.show(truncate=False)"
   ]
  },
  {
   "cell_type": "code",
   "execution_count": 0,
   "metadata": {
    "application/vnd.databricks.v1+cell": {
     "cellMetadata": {
      "byteLimit": 2048000,
      "rowLimit": 10000
     },
     "inputWidgets": {},
     "nuid": "34e51793-3a1d-4fdd-8827-798b0a70659c",
     "showTitle": false,
     "title": ""
    }
   },
   "outputs": [
    {
     "output_type": "stream",
     "name": "stdout",
     "output_type": "stream",
     "text": [
      "Out[16]: ['PAST MEDICAL HISTORY',\n 'LABORATORY DATA:',\n 'PRINCIPAL DIAGNOSIS:',\n 'PROCEDURES',\n 'HISTORY AND PHYSICAL:',\n 'FAMILY HISTORY:',\n 'GENERAL:',\n 'SOCIAL HISTORY:',\n 'POSTOPERATIVE DIAGNOSIS:',\n 'MEDICATIONS',\n 'PROCEDURE:',\n 'REVIEW OF SYSTEMS:',\n '(Medical Transcription Sample Report)\\nPREOPERATIVE DIAGNOSIS:',\n 'SECONDARY DIAGNOSES:',\n 'HOSPITAL COURSE:',\n 'PHYSICAL EXAMINATION\\nVITAL SIGNS:',\n 'TITLE OF OPERATION:',\n 'PAST SURGICAL HISTORY',\n 'PROCEDURE IN DETAIL:',\n 'SPECIMEN:',\n 'URINE OUTPUT:',\n 'ALLERGIES:',\n 'EBL:',\n 'FLUIDS:',\n 'FINDINGS:',\n 'IMAGINING DATA:',\n 'MEDICATIONS:',\n 'HISTORY OF PRESENT ILLNESS:',\n 'INDICATIONS FOR PROCEDURE:',\n 'COMPLICATIONS:',\n 'ASSESSMENT:',\n 'HISTORY OF PRESENTING ILLNESS:',\n 'GEN:',\n 'IMPRESSION:',\n 'PAST MEDICAL HISTORY:',\n 'ASSESSMENT/PLAN:',\n 'PAST MEDICAL AND SURGICAL HISTORY:',\n 'PHYSICAL EXAMINATION:\\nGENERAL:',\n 'PHYSICAL EXAM:\\nVITALS:',\n 'LABORATORY FINDINGS:',\n 'CURRENT MEDICATIONS:',\n 'PLAN:',\n '(Medical Transcription Sample Report)\\nREASON FOR CONSULTATION:',\n 'REASON FOR VISIT:',\n 'CHIEF COMPLAINT:',\n 'JUSTIFICATION:',\n 'ASSESSMENT AND PLAN:',\n '1.\\nPHYSICAL EXAMINATION:\\nVITAL SIGNS:',\n 'ANESTHESIA:',\n 'OPERATION:',\n 'PLANS:',\n 'PHYSICAL EXAM:',\n 'SPECIMENS:',\n 'PROCEDURE PERFORMED:',\n 'ANESTHESIA:\\nGeneral\\nNAME OF OPERATION:',\n 'ESTIMATED BLOOD LOSS:',\n 'INDICATION:',\n 'GROSS FINDINGS:',\n 'PHYSICAL EXAMINATION:',\n 'IMAGING:',\n 'DIAGNOSTIC DATA:',\n 'DRUG ALLERGIES:',\n 'OCCUPATION:',\n 'PERSONAL HISTORY:',\n 'DESCRIPTION OF PROCEDURE:',\n 'INDICATION FOR THE PROCEDURE:',\n 'VITAL SIGNS:',\n 'MEDICATIONS PRIOR TO ADMISSION:',\n 'IMPRESSION AND PLAN:',\n 'OPERATION PERFORMED:',\n 'PHYSICAL EXAMINATION\\nNECK:',\n 'INDICATIONS:',\n 'TECHNIQUE:',\n 'CURRENT MEDICATIONS',\n 'PAST SURGICAL HISTORY:',\n '(Medical Transcription Sample Report)\\nDIAGNOSIS:',\n 'RECOMMENDATIONS:',\n 'HISTORY:',\n 'CLINICAL HISTORY:',\n 'FINDINGS AND PROCEDURE:',\n 'Description:',\n 'PHYSICAL EXAMINATION:\\nVITAL SIGNS:',\n 'RADIOLOGIC DATA:',\n 'DESCRIPTION OF OPERATION:',\n 'SUMMARY:',\n 'LABORATORY STUDIES:',\n 'NOTE:',\n 'PEDIATRIC ONCOLOGY ATTENDING:',\n 'PROBLEMS DIAGNOSES:',\n 'Vital Signs:',\n 'PROCEDURES AND IMMUNIZATIONS:',\n 'IMPRESSION/PLAN:',\n 'DIAGNOSTIC STUDIES:',\n 'IMMUNIZATIONS:',\n 'GENITOURINARY:',\n 'PROCEDURES:',\n 'BLOOD LOSS:',\n 'PHYSICAL EXAM:\\nVIT:',\n 'CONDITION:',\n 'POSTOPERATIVE DIAGNOSES:',\n 'PROCEDURES PERFORMED:',\n 'CONSULTS:',\n 'REVIEW OF SYSTEMS',\n 'POSTOPERATIVE DIAGNOSES',\n 'PROCEDURE IN DETAIL',\n 'INDICATIONS FOR PROCEDURES',\n 'FACE:',\n 'PROCEDURE',\n 'REASON FOR EXAM:',\n 'PHYSICAL EXAMINATION:\\nVitals:',\n 'PHYSICAL EXAMINATION:\\nGeneral:',\n 'IMMUNIZATION HISTORY:',\n 'FAMILY MEDICAL HISTORY:',\n 'Lab:\\nLAB DATA:',\n 'IMPRESSION / DIAGNOSIS\\n:',\n 'BREAST CANCER HISTORY:',\n 'CHEMISTRY:',\n 'FOLLOW-UP INSTRUCTIONS:',\n 'TESTS ORDERED:',\n 'PATHOLOGY:',\n 'SCREENING TEST HISTORY:',\n 'SURGERY:',\n 'DISCUSSION:',\n 'RADIOLOGY:',\n 'STAGE:',\n 'PERSONAL AND SOCIAL HISTORY:']"
     ]
    }
   ],
   "source": [
    "unique_headers_df = headers_df.select('chunk').distinct()\n",
    "\n",
    "headers = [row['chunk'] for row in unique_headers_df.collect()]\n",
    "\n",
    "headers"
   ]
  },
  {
   "cell_type": "code",
   "execution_count": 0,
   "metadata": {
    "application/vnd.databricks.v1+cell": {
     "cellMetadata": {
      "byteLimit": 2048000,
      "rowLimit": 10000
     },
     "inputWidgets": {},
     "nuid": "b945b1f1-4639-4cde-8054-5130cdfb77e1",
     "showTitle": false,
     "title": ""
    },
    "execution": {
     "iopub.execute_input": "2024-02-15T11:35:17.907958Z",
     "iopub.status.busy": "2024-02-15T11:35:17.907521Z",
     "iopub.status.idle": "2024-02-15T11:35:17.922868Z",
     "shell.execute_reply": "2024-02-15T11:35:17.922286Z",
     "shell.execute_reply.started": "2024-02-15T11:35:17.907934Z"
    },
    "tags": []
   },
   "outputs": [],
   "source": [
    "document_assembler = nlp.DocumentAssembler()\\\n",
    "    .setInputCol(\"text\")\\\n",
    "    .setOutputCol(\"document\")\n",
    "\n",
    "document_splitter = medical.DocumentSplitter()\\\n",
    "    .setInputCols(\"document\")\\\n",
    "    .setOutputCol(\"splits\")\\\n",
    "    .setSplitMode(\"regex\")\\\n",
    "    .setExplodeSplits(True)\\\n",
    "    .setSplitPatterns(headers)\\\n",
    "    .setCaseSensitive(True) \\\n",
    "    .setCustomBoundsStrategy(\"prepend\")\n",
    "\n",
    "pipeline = nlp.Pipeline().setStages([\n",
    "    document_assembler,\n",
    "    document_splitter\n",
    "])\n",
    "\n",
    "splitter_model = pipeline.fit(spark_df)"
   ]
  },
  {
   "cell_type": "code",
   "execution_count": 0,
   "metadata": {
    "application/vnd.databricks.v1+cell": {
     "cellMetadata": {
      "byteLimit": 2048000,
      "rowLimit": 10000
     },
     "inputWidgets": {},
     "nuid": "f8861b7f-3a19-4ebe-918c-d2f7a5d6d57e",
     "showTitle": false,
     "title": ""
    },
    "execution": {
     "iopub.execute_input": "2024-02-15T11:35:17.924094Z",
     "iopub.status.busy": "2024-02-15T11:35:17.923559Z",
     "iopub.status.idle": "2024-02-15T11:35:17.996022Z",
     "shell.execute_reply": "2024-02-15T11:35:17.995472Z",
     "shell.execute_reply.started": "2024-02-15T11:35:17.924076Z"
    },
    "tags": []
   },
   "outputs": [],
   "source": [
    "splitter_model_lp = nlp.LightPipeline(splitter_model)"
   ]
  },
  {
   "cell_type": "code",
   "execution_count": 0,
   "metadata": {
    "application/vnd.databricks.v1+cell": {
     "cellMetadata": {
      "byteLimit": 2048000,
      "rowLimit": 10000
     },
     "inputWidgets": {},
     "nuid": "e25620bc-9006-452f-8276-ae65d8377808",
     "showTitle": false,
     "title": ""
    },
    "execution": {
     "iopub.execute_input": "2024-02-15T11:35:17.997212Z",
     "iopub.status.busy": "2024-02-15T11:35:17.996672Z",
     "iopub.status.idle": "2024-02-15T11:35:18.104975Z",
     "shell.execute_reply": "2024-02-15T11:35:18.104297Z",
     "shell.execute_reply.started": "2024-02-15T11:35:17.997195Z"
    },
    "tags": []
   },
   "outputs": [
    {
     "output_type": "stream",
     "name": "stdout",
     "output_type": "stream",
     "text": [
      "Sample Type / Medical Specialty:\nHematology - Oncology\nSample Name:\nDischarge Summary - Mesothelioma - 1 \n---------------------------\nDescription:\nMesothelioma, pleural effusion, atrial fibrillation, anemia, ascites, esophageal reflux, and history of deep venous thrombosis.\n(Medical Transcription Sample Report) \n---------------------------\nPRINCIPAL DIAGNOSIS:\nMesothelioma. \n---------------------------\nSECONDARY DIAGNOSES:\nPleural effusion, atrial fibrillation, anemia, ascites, esophageal reflux, and history of deep venous thrombosis. \n---------------------------\nPROCEDURES\n1. On August 24, 2007, decortication of the lung with pleural biopsy and transpleural fluoroscopy.\n2. On August 20, 2007, thoracentesis.\n3. On August 31, 2007, Port-A-Cath placement. \n---------------------------\nHISTORY AND PHYSICAL:\nThe patient is a 41-year-old Vietnamese female with a nonproductive cough that started last week. She has had right-sided chest pain radiating to her back with fever starting yesterday. She has a history of pericarditis and pericardectomy in May 2006 and developed cough with right-sided chest pain, and went to an urgent care center. Chest x-ray revealed right-sided pleural effusion. \n---------------------------\nPAST MEDICAL HISTORY\n1. Pericardectomy.\n2. Pericarditis.\n2. Atrial fibrillation.\n4. RNCA with intracranial thrombolytic treatment.\n5 PTA of MCA.\n6. Mesenteric venous thrombosis.\n7. Pericardial window.\n8. Cholecystectomy.\n9. Left thoracentesis. \n---------------------------\nFAMILY HISTORY:\nNo family history of coronary artery disease, CVA, diabetes, CHF or MI. The patient has one family member, a sister, with history of cancer. \n---------------------------\nSOCIAL HISTORY:\nShe is married. Employed with the US Post Office. She is a mother of three. Denies tobacco, alcohol or illicit drug use. \n---------------------------\nMEDICATIONS\n1. Coumadin 1 mg daily. Last INR was on Tuesday, August 14, 2007, and her INR was 2.3.\n2. Amiodarone 100 mg p.o. daily. \n---------------------------\nREVIEW OF SYSTEMS:\nComplete review of systems negative except as in pulmonary as noted above. The patient also reports occasional numbness and tingling of her left arm. \n---------------------------\nPHYSICAL EXAMINATION\nVITAL SIGNS: Blood pressure 123/95, heart rate 83, respirations 20, temperature 97, and oxygen saturation 97%. \n---------------------------\nGENERAL: Positive nonproductive cough and pain with coughing.\nHEENT: Pupils are equal and reactive to light and accommodation. Tympanic membranes are clear.\nNECK: Supple. No lymphadenopathy. No masses.\nRESPIRATORY: Pleural friction rub is noted.\nGI: Soft, nondistended, and nontender. Positive bowel sounds. No organomegaly.\nEXTREMITIES: No edema, no clubbing, no cyanosis, no tenderness. Full range of motion. Normal pulses in all extremities.\nSKIN: No breakdown or lesions. No ulcers.\nNEUROLOGIC: Grossly intact. No focal deficits. Awake, alert, and oriented to person, place, and time. \n---------------------------\nLABORATORY DATA:\nLabs are pending. \n---------------------------\nHOSPITAL COURSE:\nThe patient was admitted for a right-sided pleural effusion for thoracentesis on Monday by Dr. X. Her Coumadin was placed on hold. A repeat echocardiogram was checked. She was started on prophylaxis for DVT with Lovenox 40 mg subcutaneously. Her history dated back to March 2005 when she first sought medical attention for evidence of pericarditis, which was treated with pericardial window in an outside hospital, at that time she was also found to have mesenteric pain and thrombosis, is now anticoagulated. Her pericardial fluid was accumulated and she was seen by Dr. Y. At that time, she was recommended for pericardectomy, which was performed by Dr. Z. Review of her CT scan from March 2006 prior to her pericardectomy, already shows bilateral plural effusions. The patient improved clinically after the pericardectomy with resolution of her symptoms. Recently, she was readmitted to the hospital with chest pain and found to have bilateral pleural effusion, the right greater than the left. CT of the chest also revealed a large mediastinal lymph node. We reviewed the pathology obtained from the pericardectomy in March 2006, which was diagnostic of mesothelioma. At this time, chest tube placement for drainage of the fluid occurred and thoracoscopy with fluid biopsies, which were performed, which revealed epithelioid malignant mesothelioma. The patient was then stained with a PET CT, which showed extensive uptake in the chest, bilateral pleural pericardial effusions, and lymphadenopathy. She also had acidic fluid, pectoral and intramammary lymph nodes and uptake in L4 with SUV of 4. This was consistent with stage III disease. Her repeat echocardiogram showed an ejection fraction of 45% to 49%. She was transferred to Oncology service and started on chemotherapy on September 1, 2007 with cisplatin 75 mg/centimeter squared equaling 109 mg IV piggyback over 2 hours on September 1, 2007, Alimta 500 mg/ centimeter squared equaling 730 mg IV piggyback over 10 minutes. This was all initiated after a Port-A-Cath was placed. The chemotherapy was well tolerated and the patient was discharged the following day after discontinuing IV fluid and IV. Her Port-A-Cath was packed with heparin according to protocol.\nDISCHARGE \n---------------------------\nMEDICATIONS:\nZofran, Phenergan, Coumadin, and Lovenox, and Vicodin\nDISCHARGE INSTRUCTIONS:\nShe was instructed to followup with Dr. XYZ in the office to check her INR on Tuesday. She was instructed to call if she had any other questions or concerns in the interim.\nKeywords:\nhematology - oncology, mesothelioma, pleural effusion, atrial fibrillation, anemia, ascites, esophageal reflux, deep venous thrombosis, port-a-cath placement, port a cath, iv piggyback, venous thrombosis, atrial, thrombosis, pericardial, lymphadenopathy, fluid, pericardectomy, chest, pleural, \n---------------------------\n"
     ]
    }
   ],
   "source": [
    "for split in splitter_model_lp.annotate(note)['splits']:\n",
    "    print (split, '\\n---------------------------')"
   ]
  },
  {
   "cell_type": "markdown",
   "metadata": {
    "application/vnd.databricks.v1+cell": {
     "cellMetadata": {
      "byteLimit": 2048000,
      "rowLimit": 10000
     },
     "inputWidgets": {},
     "nuid": "a0002486-0234-437f-9599-61aa316f4836",
     "showTitle": false,
     "title": ""
    }
   },
   "source": [
    "#### Split by certain token length"
   ]
  },
  {
   "cell_type": "code",
   "execution_count": 0,
   "metadata": {
    "application/vnd.databricks.v1+cell": {
     "cellMetadata": {
      "byteLimit": 2048000,
      "rowLimit": 10000
     },
     "inputWidgets": {},
     "nuid": "2456a866-873f-43e2-a4ef-8e0f307d97ac",
     "showTitle": false,
     "title": ""
    },
    "execution": {
     "iopub.execute_input": "2024-02-15T11:35:18.105977Z",
     "iopub.status.busy": "2024-02-15T11:35:18.105802Z",
     "iopub.status.idle": "2024-02-15T11:35:18.235725Z",
     "shell.execute_reply": "2024-02-15T11:35:18.235031Z",
     "shell.execute_reply.started": "2024-02-15T11:35:18.105960Z"
    },
    "tags": []
   },
   "outputs": [],
   "source": [
    "document_assembler = nlp.DocumentAssembler()\\\n",
    "    .setInputCol(\"text\")\\\n",
    "    .setOutputCol(\"document\")\n",
    "\n",
    "tokenizer = nlp.Tokenizer()\\\n",
    "    .setInputCols(\"document\")\\\n",
    "    .setOutputCol(\"token\")\n",
    "\n",
    "document_splitter = medical.InternalDocumentSplitter()\\\n",
    "    .setInputCols(\"document\", \"token\")\\\n",
    "    .setOutputCol(\"splits\")\\\n",
    "    .setSplitMode(\"token\")\\\n",
    "    .setMaxLength(50)\\\n",
    "    .setExplodeSplits(True)\n",
    "\n",
    "token_splitter = nlp.Pipeline().setStages([\n",
    "    document_assembler,\n",
    "    tokenizer,\n",
    "    document_splitter\n",
    "])\n",
    "\n",
    "pipeline_token_splitter = token_splitter.fit(spark_df)\n",
    "token_splitter_model_lp = nlp.LightPipeline(pipeline_token_splitter)"
   ]
  },
  {
   "cell_type": "code",
   "execution_count": 0,
   "metadata": {
    "application/vnd.databricks.v1+cell": {
     "cellMetadata": {
      "byteLimit": 2048000,
      "rowLimit": 10000
     },
     "inputWidgets": {},
     "nuid": "ca5d676b-cb5d-4622-932a-0cb5bbfe38ed",
     "showTitle": false,
     "title": ""
    },
    "execution": {
     "iopub.execute_input": "2024-02-15T11:28:39.961150Z",
     "iopub.status.busy": "2024-02-15T11:28:39.960707Z",
     "iopub.status.idle": "2024-02-15T11:28:40.089587Z",
     "shell.execute_reply": "2024-02-15T11:28:40.089046Z",
     "shell.execute_reply.started": "2024-02-15T11:28:39.961125Z"
    },
    "tags": []
   },
   "outputs": [
    {
     "output_type": "stream",
     "name": "stdout",
     "output_type": "stream",
     "text": [
      "Out[21]: ['Sample Type / Medical Specialty:\\nHematology - Oncology\\nSample Name:\\nDischarge Summary - Mesothelioma - 1\\nDescription:\\nMesothelioma, pleural effusion,',\n 'atrial fibrillation, anemia, ascites, esophageal reflux, and history of deep venous thrombosis.\\n(Medical Transcription Sample Report)\\nPRINCIPAL DIAGNOSIS',\n ':\\nMesothelioma.\\nSECONDARY DIAGNOSES:\\nPleural effusion, atrial fibrillation, anemia, ascites, esophageal reflux, and history of deep venous thrombosis',\n '.\\nPROCEDURES\\n1. On August 24, 2007, decortication of the lung with pleural biopsy and transpleural fluoroscopy.\\n2. On August',\n '20, 2007, thoracentesis.\\n3. On August 31, 2007, Port-A-Cath placement.\\nHISTORY AND PHYSICAL:\\nThe patient is a',\n '41-year-old Vietnamese female with a nonproductive cough that started last week. She has had right-sided chest pain radiating to her back with fever starting',\n 'yesterday. She has a history of pericarditis and pericardectomy in May 2006 and developed cough with right-sided chest pain, and went to an',\n 'urgent care center. Chest x-ray revealed right-sided pleural effusion.\\nPAST MEDICAL HISTORY\\n1. Pericardectomy.\\n2. Pericarditis.\\n2. Atrial',\n 'fibrillation.\\n4. RNCA with intracranial thrombolytic treatment.\\n5 PTA of MCA.\\n6. Mesenteric venous thrombosis.\\n7. Pericardial window',\n '.\\n8. Cholecystectomy.\\n9. Left thoracentesis.\\nFAMILY HISTORY:\\nNo family history of coronary artery disease, CVA, diabetes,',\n 'CHF or MI. The patient has one family member, a sister, with history of cancer.\\nSOCIAL HISTORY:\\nShe is married',\n '. Employed with the US Post Office. She is a mother of three. Denies tobacco, alcohol or illicit drug use.\\nMEDICATIONS',\n '1. Coumadin 1 mg daily. Last INR was on Tuesday, August 14, 2007, and her INR was 2.3.\\n2',\n '. Amiodarone 100 mg p.o. daily.\\nREVIEW OF SYSTEMS:\\nComplete review of systems negative except as in pulmonary as noted above.',\n 'The patient also reports occasional numbness and tingling of her left arm.\\nPHYSICAL EXAMINATION\\nVITAL SIGNS: Blood pressure 123/95, heart rate 83',\n ', respirations 20, temperature 97, and oxygen saturation 97%.\\nGENERAL: Positive nonproductive cough and pain with coughing.\\nHEENT: Pupils',\n 'are equal and reactive to light and accommodation. Tympanic membranes are clear.\\nNECK: Supple. No lymphadenopathy. No masses.\\nRESPIRATORY',\n ': Pleural friction rub is noted.\\nGI: Soft, nondistended, and nontender. Positive bowel sounds. No organomegaly.\\nEXTREMITIES:',\n 'No edema, no clubbing, no cyanosis, no tenderness. Full range of motion. Normal pulses in all extremities.\\nSKIN:',\n 'No breakdown or lesions. No ulcers.\\nNEUROLOGIC: Grossly intact. No focal deficits. Awake, alert, and oriented to person',\n ', place, and time.\\nLABORATORY DATA:\\nLabs are pending.\\nHOSPITAL COURSE:\\nThe patient was admitted for a right-sided pleural effusion',\n 'for thoracentesis on Monday by Dr. X. Her Coumadin was placed on hold. A repeat echocardiogram was checked. She was started',\n 'on prophylaxis for DVT with Lovenox 40 mg subcutaneously. Her history dated back to March 2005 when she first sought medical attention for evidence',\n 'of pericarditis, which was treated with pericardial window in an outside hospital, at that time she was also found to have mesenteric pain',\n 'and thrombosis, is now anticoagulated. Her pericardial fluid was accumulated and she was seen by Dr. Y. At that time,',\n 'she was recommended for pericardectomy, which was performed by Dr. Z. Review of her CT scan from March 2006 prior to her',\n 'pericardectomy, already shows bilateral plural effusions. The patient improved clinically after the pericardectomy with resolution of her symptoms. Recently, she was',\n 'readmitted to the hospital with chest pain and found to have bilateral pleural effusion, the right greater than the left. CT of the',\n 'chest also revealed a large mediastinal lymph node. We reviewed the pathology obtained from the pericardectomy in March 2006, which was diagnostic of',\n 'mesothelioma. At this time, chest tube placement for drainage of the fluid occurred and thoracoscopy with fluid biopsies, which were performed,',\n 'which revealed epithelioid malignant mesothelioma. The patient was then stained with a PET CT, which showed extensive uptake in the chest, bilateral',\n 'pleural pericardial effusions, and lymphadenopathy. She also had acidic fluid, pectoral and intramammary lymph nodes and uptake in L4 with SUV of',\n '4. This was consistent with stage III disease. Her repeat echocardiogram showed an ejection fraction of 45% to 49%. She was transferred',\n 'to Oncology service and started on chemotherapy on September 1, 2007 with cisplatin 75 mg/centimeter squared equaling 109 mg IV piggyback over 2 hours',\n 'on September 1, 2007, Alimta 500 mg/ centimeter squared equaling 730 mg IV piggyback over 10 minutes. This was all initiated after',\n 'a Port-A-Cath was placed. The chemotherapy was well tolerated and the patient was discharged the following day after discontinuing IV fluid and IV.',\n 'Her Port-A-Cath was packed with heparin according to protocol.\\nDISCHARGE MEDICATIONS:\\nZofran, Phenergan, Coumadin, and Lovenox, and Vicodin\\nDISCHARGE',\n 'INSTRUCTIONS:\\nShe was instructed to followup with Dr. XYZ in the office to check her INR on Tuesday. She was instructed to',\n 'call if she had any other questions or concerns in the interim.\\nKeywords:\\nhematology - oncology, mesothelioma, pleural effusion, atrial',\n 'fibrillation, anemia, ascites, esophageal reflux, deep venous thrombosis, port-a-cath placement, port a cath, iv piggyback, venous thrombosis',\n ', atrial, thrombosis, pericardial, lymphadenopathy, fluid, pericardectomy, chest, pleural,']"
     ]
    }
   ],
   "source": [
    "token_splitter_model_lp.annotate(note)['splits']"
   ]
  },
  {
   "cell_type": "markdown",
   "metadata": {
    "application/vnd.databricks.v1+cell": {
     "cellMetadata": {
      "byteLimit": 2048000,
      "rowLimit": 10000
     },
     "inputWidgets": {},
     "nuid": "67654c0a-eb7f-40ba-bf64-aafd86be2f24",
     "showTitle": false,
     "title": ""
    }
   },
   "source": [
    "## Assign section header for each split"
   ]
  },
  {
   "cell_type": "code",
   "execution_count": 0,
   "metadata": {
    "application/vnd.databricks.v1+cell": {
     "cellMetadata": {
      "byteLimit": 2048000,
      "rowLimit": 10000
     },
     "inputWidgets": {},
     "nuid": "b244bae7-caa7-4ae3-bd56-529bdc4ca63e",
     "showTitle": false,
     "title": ""
    },
    "execution": {
     "iopub.execute_input": "2024-02-15T11:28:40.090833Z",
     "iopub.status.busy": "2024-02-15T11:28:40.090439Z",
     "iopub.status.idle": "2024-02-15T11:28:40.431545Z",
     "shell.execute_reply": "2024-02-15T11:28:40.430868Z",
     "shell.execute_reply.started": "2024-02-15T11:28:40.090808Z"
    },
    "tags": []
   },
   "outputs": [
    {
     "output_type": "stream",
     "name": "stdout",
     "output_type": "stream",
     "text": [
      "+--------------------+--------------------+----------+\n|                text|         document_id|patient_id|\n+--------------------+--------------------+----------+\n|Sample Type / Med...|2fc10874-3f71-448...|      pt_9|\n|Sample Type / Med...|4811cdb3-eb26-431...|     pt_19|\n|Sample Type / Med...|c152183b-8c4f-447...|     pt_22|\n|Sample Type / Med...|b4e1f0ac-7ec9-494...|     pt_24|\n|Sample Type / Med...|e3dc12c2-57c4-4df...|      pt_7|\n|Sample Type / Med...|846cb9bd-fffc-44a...|      pt_7|\n|Sample Type / Med...|2f3f6163-e1e5-486...|     pt_12|\n|Sample Type / Med...|40de77d5-79b7-424...|     pt_14|\n|Sample Type / Med...|45e753b0-ca09-4b8...|     pt_17|\n|Sample Type / Med...|8e50d2ac-cef6-46f...|     pt_21|\n|Sample Type / Med...|daeae18c-1260-45d...|      pt_5|\n|Sample Type / Med...|ea7b76f0-5135-4d6...|      pt_8|\n|Sample Type / Med...|678f9883-8502-418...|      pt_7|\n|Sample Type / Med...|2573205f-d300-480...|     pt_21|\n|Sample Type / Med...|c6c686f3-93ed-457...|     pt_16|\n|Sample Type / Med...|db6a1af8-ac77-44e...|      pt_6|\n|Sample Type / Med...|38b9a531-1d14-419...|     pt_27|\n|Sample Type / Med...|29d1b64f-0d96-45f...|     pt_13|\n|Sample Type / Med...|70099306-d564-492...|     pt_14|\n|Sample Type / Med...|32760fbc-c8bc-44f...|     pt_19|\n+--------------------+--------------------+----------+\nonly showing top 20 rows\n\n"
     ]
    }
   ],
   "source": [
    "spark_df.show()"
   ]
  },
  {
   "cell_type": "code",
   "execution_count": 0,
   "metadata": {
    "application/vnd.databricks.v1+cell": {
     "cellMetadata": {
      "byteLimit": 2048000,
      "rowLimit": 10000
     },
     "inputWidgets": {},
     "nuid": "11fb8eae-af69-4d91-a9f1-5c2ea8f025c8",
     "showTitle": false,
     "title": ""
    },
    "execution": {
     "iopub.execute_input": "2024-02-15T11:35:21.307825Z",
     "iopub.status.busy": "2024-02-15T11:35:21.307254Z",
     "iopub.status.idle": "2024-02-15T11:35:29.200974Z",
     "shell.execute_reply": "2024-02-15T11:35:29.200041Z",
     "shell.execute_reply.started": "2024-02-15T11:35:21.307804Z"
    },
    "tags": []
   },
   "outputs": [
    {
     "output_type": "stream",
     "name": "stdout",
     "output_type": "stream",
     "text": [
      "bert_sequence_classifier_clinical_sections download started this may take some time.\n\r[ | ]\r[OK!]\n"
     ]
    }
   ],
   "source": [
    "document_assembler = nlp.DocumentAssembler()\\\n",
    "    .setInputCol(\"text\")\\\n",
    "    .setOutputCol(\"document\")\n",
    "\n",
    "document_splitter = medical.DocumentSplitter()\\\n",
    "    .setInputCols(\"document\")\\\n",
    "    .setOutputCol(\"splits\")\\\n",
    "    .setSplitMode(\"regex\")\\\n",
    "    .setExplodeSplits(True)\\\n",
    "    .setSplitPatterns(headers)\\\n",
    "    .setCaseSensitive(True) \\\n",
    "    .setCustomBoundsStrategy(\"prepend\")\n",
    "\n",
    "tokenizer = nlp.Tokenizer()\\\n",
    "    .setInputCols([\"splits\"])\\\n",
    "    .setOutputCol(\"token\")\\\n",
    "\n",
    "sequenceClassifier = medical.BertForSequenceClassification\\\n",
    "    .pretrained('bert_sequence_classifier_clinical_sections', 'en', 'clinical/models')\\\n",
    "    .setInputCols([\"splits\", \"token\"])\\\n",
    "    .setOutputCol(\"section\")\\\n",
    "    .setCaseSensitive(False)\n",
    "\n",
    "pipeline = nlp.Pipeline().setStages([\n",
    "    document_assembler,\n",
    "    document_splitter,\n",
    "    tokenizer,\n",
    "    sequenceClassifier\n",
    "])\n",
    "\n",
    "result = pipeline.fit(spark_df).transform(spark_df)"
   ]
  },
  {
   "cell_type": "code",
   "execution_count": 0,
   "metadata": {
    "application/vnd.databricks.v1+cell": {
     "cellMetadata": {
      "byteLimit": 2048000,
      "rowLimit": 10000
     },
     "inputWidgets": {},
     "nuid": "6511dd60-3ac6-4b12-8166-6176a106137b",
     "showTitle": false,
     "title": ""
    },
    "execution": {
     "iopub.execute_input": "2024-02-15T11:35:29.204059Z",
     "iopub.status.busy": "2024-02-15T11:35:29.203569Z",
     "iopub.status.idle": "2024-02-15T11:35:43.977820Z",
     "shell.execute_reply": "2024-02-15T11:35:43.977105Z",
     "shell.execute_reply.started": "2024-02-15T11:35:29.204033Z"
    },
    "tags": []
   },
   "outputs": [
    {
     "output_type": "stream",
     "name": "stdout",
     "output_type": "stream",
     "text": [
      "+--------------------+--------------------+----------+--------------------+--------------------+--------------------+--------------------+\n|                text|         document_id|patient_id|            document|              splits|               token|             section|\n+--------------------+--------------------+----------+--------------------+--------------------+--------------------+--------------------+\n|Sample Type / Med...|2fc10874-3f71-448...|      pt_9|[{document, 0, 54...|[{document, 0, 10...|[{token, 0, 5, Sa...|[{category, 0, 10...|\n|Sample Type / Med...|2fc10874-3f71-448...|      pt_9|[{document, 0, 54...|[{document, 105, ...|[{token, 105, 115...|[{category, 105, ...|\n|Sample Type / Med...|2fc10874-3f71-448...|      pt_9|[{document, 0, 54...|[{document, 284, ...|[{token, 284, 292...|[{category, 284, ...|\n|Sample Type / Med...|2fc10874-3f71-448...|      pt_9|[{document, 0, 54...|[{document, 319, ...|[{token, 319, 327...|[{category, 319, ...|\n|Sample Type / Med...|2fc10874-3f71-448...|      pt_9|[{document, 0, 54...|[{document, 454, ...|[{token, 454, 463...|[{category, 454, ...|\n|Sample Type / Med...|2fc10874-3f71-448...|      pt_9|[{document, 0, 54...|[{document, 648, ...|[{token, 648, 654...|[{category, 648, ...|\n|Sample Type / Med...|2fc10874-3f71-448...|      pt_9|[{document, 0, 54...|[{document, 1056,...|[{token, 1056, 10...|[{category, 1056,...|\n|Sample Type / Med...|2fc10874-3f71-448...|      pt_9|[{document, 0, 54...|[{document, 1300,...|[{token, 1300, 13...|[{category, 1300,...|\n|Sample Type / Med...|2fc10874-3f71-448...|      pt_9|[{document, 0, 54...|[{document, 1457,...|[{token, 1457, 14...|[{category, 1457,...|\n|Sample Type / Med...|2fc10874-3f71-448...|      pt_9|[{document, 0, 54...|[{document, 1594,...|[{token, 1594, 16...|[{category, 1594,...|\n|Sample Type / Med...|2fc10874-3f71-448...|      pt_9|[{document, 0, 54...|[{document, 1726,...|[{token, 1726, 17...|[{category, 1726,...|\n|Sample Type / Med...|2fc10874-3f71-448...|      pt_9|[{document, 0, 54...|[{document, 1895,...|[{token, 1895, 19...|[{category, 1895,...|\n|Sample Type / Med...|2fc10874-3f71-448...|      pt_9|[{document, 0, 54...|[{document, 2027,...|[{token, 2027, 20...|[{category, 2027,...|\n|Sample Type / Med...|2fc10874-3f71-448...|      pt_9|[{document, 0, 54...|[{document, 2616,...|[{token, 2616, 26...|[{category, 2616,...|\n|Sample Type / Med...|2fc10874-3f71-448...|      pt_9|[{document, 0, 54...|[{document, 2651,...|[{token, 2651, 26...|[{category, 2651,...|\n|Sample Type / Med...|2fc10874-3f71-448...|      pt_9|[{document, 0, 54...|[{document, 4904,...|[{token, 4904, 49...|[{category, 4904,...|\n|Sample Type / Med...|4811cdb3-eb26-431...|     pt_19|[{document, 0, 32...|[{document, 0, 93...|[{token, 0, 5, Sa...|[{category, 0, 93...|\n|Sample Type / Med...|4811cdb3-eb26-431...|     pt_19|[{document, 0, 32...|[{document, 94, 3...|[{token, 94, 104,...|[{category, 94, 3...|\n|Sample Type / Med...|4811cdb3-eb26-431...|     pt_19|[{document, 0, 32...|[{document, 383, ...|[{token, 383, 395...|[{category, 383, ...|\n|Sample Type / Med...|4811cdb3-eb26-431...|     pt_19|[{document, 0, 32...|[{document, 463, ...|[{token, 463, 467...|[{category, 463, ...|\n+--------------------+--------------------+----------+--------------------+--------------------+--------------------+--------------------+\nonly showing top 20 rows\n\n"
     ]
    }
   ],
   "source": [
    "result.cache()\n",
    "result.show()"
   ]
  },
  {
   "cell_type": "code",
   "execution_count": 0,
   "metadata": {
    "application/vnd.databricks.v1+cell": {
     "cellMetadata": {
      "byteLimit": 2048000,
      "rowLimit": 10000
     },
     "inputWidgets": {},
     "nuid": "68485ae7-ab4f-4ac9-957d-83633f80a587",
     "showTitle": false,
     "title": ""
    },
    "execution": {
     "iopub.execute_input": "2024-02-15T11:35:43.979034Z",
     "iopub.status.busy": "2024-02-15T11:35:43.978766Z",
     "iopub.status.idle": "2024-02-15T11:35:44.148373Z",
     "shell.execute_reply": "2024-02-15T11:35:44.147701Z",
     "shell.execute_reply.started": "2024-02-15T11:35:43.979011Z"
    },
    "tags": []
   },
   "outputs": [
    {
     "output_type": "stream",
     "name": "stdout",
     "output_type": "stream",
     "text": [
      "+----------------------------------------------------------------------------------------------------+--------------------------------+\n|                                                                                              result|                          result|\n+----------------------------------------------------------------------------------------------------+--------------------------------+\n|[Sample Type / Medical Specialty:\\nHematology - Oncology\\nSample Name:\\nDischarge Summary - Mesot...|         [Discharge Information]|\n|[Description:\\nMesothelioma, pleural effusion, atrial fibrillation, anemia, ascites, esophageal r...|[Complications and Risk Factors]|\n|                                                               [PRINCIPAL DIAGNOSIS:\\nMesothelioma.]|[Diagnostic and Laboratory Data]|\n|[SECONDARY DIAGNOSES:\\nPleural effusion, atrial fibrillation, anemia, ascites, esophageal reflux,...|                    [Procedures]|\n|[PROCEDURES\\n1. On August 24, 2007, decortication of the lung with pleural biopsy and transpleura...|                    [Procedures]|\n|[HISTORY AND PHYSICAL:\\nThe patient is a 41-year-old Vietnamese female with a nonproductive cough...|                       [History]|\n|[PAST MEDICAL HISTORY\\n1. Pericardectomy.\\n2. Pericarditis.\\n2. Atrial fibrillation.\\n4. RNCA wit...|                       [History]|\n|[FAMILY HISTORY:\\nNo family history of coronary artery disease, CVA, diabetes, CHF or MI. The pat...|                       [History]|\n|[SOCIAL HISTORY:\\nShe is married. Employed with the US Post Office. She is a mother of three. Den...|                       [History]|\n|[MEDICATIONS\\n1. Coumadin 1 mg daily. Last INR was on Tuesday, August 14, 2007, and her INR was 2...|                       [History]|\n|[REVIEW OF SYSTEMS:\\nComplete review of systems negative except as in pulmonary as noted above. T...|[Diagnostic and Laboratory Data]|\n|[PHYSICAL EXAMINATION\\nVITAL SIGNS: Blood pressure 123/95, heart rate 83, respirations 20, temper...|[Diagnostic and Laboratory Data]|\n|[GENERAL: Positive nonproductive cough and pain with coughing.\\nHEENT: Pupils are equal and react...|[Diagnostic and Laboratory Data]|\n|                                                               [LABORATORY DATA:\\nLabs are pending.]|[Diagnostic and Laboratory Data]|\n|[HOSPITAL COURSE:\\nThe patient was admitted for a right-sided pleural effusion for thoracentesis ...|           [Patient Information]|\n|[MEDICATIONS:\\nZofran, Phenergan, Coumadin, and Lovenox, and Vicodin\\nDISCHARGE INSTRUCTIONS:\\nSh...|                       [History]|\n|  [Sample Type / Medical Specialty:\\nHematology - Oncology\\nSample Name:\\nBCCa Excision - Lower Lid]|[Diagnostic and Laboratory Data]|\n|[Description:\\nExcision of large basal cell carcinoma, right lower lid, and repaired with used do...|[Complications and Risk Factors]|\n|                  [POSTOPERATIVE DIAGNOSIS:\\nExtremely large basal cell carcinoma, right lower lid.]|                    [Procedures]|\n|[TITLE OF OPERATION:\\nExcision of large basal cell carcinoma, right lower lid, and repaired with ...|                    [Procedures]|\n+----------------------------------------------------------------------------------------------------+--------------------------------+\nonly showing top 20 rows\n\n"
     ]
    }
   ],
   "source": [
    "result.select('splits.result','section.result').show(truncate=100)"
   ]
  },
  {
   "cell_type": "code",
   "execution_count": 0,
   "metadata": {
    "application/vnd.databricks.v1+cell": {
     "cellMetadata": {
      "byteLimit": 2048000,
      "rowLimit": 10000
     },
     "inputWidgets": {},
     "nuid": "f1c99add-6642-415f-a78a-59cea3a278ac",
     "showTitle": false,
     "title": ""
    },
    "execution": {
     "iopub.execute_input": "2024-02-15T11:35:44.150220Z",
     "iopub.status.busy": "2024-02-15T11:35:44.149976Z",
     "iopub.status.idle": "2024-02-15T11:35:44.174313Z",
     "shell.execute_reply": "2024-02-15T11:35:44.173679Z",
     "shell.execute_reply.started": "2024-02-15T11:35:44.150196Z"
    },
    "jp-MarkdownHeadingCollapsed": true,
    "tags": []
   },
   "outputs": [],
   "source": [
    "import pandas as pd\n",
    "pd.set_option('display.max_colwidth', 0)"
   ]
  },
  {
   "cell_type": "code",
   "execution_count": 0,
   "metadata": {
    "application/vnd.databricks.v1+cell": {
     "cellMetadata": {
      "byteLimit": 2048000,
      "rowLimit": 10000
     },
     "inputWidgets": {},
     "nuid": "368ebe1c-2f1b-4637-af7b-9d8a2299861e",
     "showTitle": false,
     "title": ""
    },
    "execution": {
     "iopub.execute_input": "2024-02-15T11:35:44.175626Z",
     "iopub.status.busy": "2024-02-15T11:35:44.175387Z",
     "iopub.status.idle": "2024-02-15T11:35:44.400820Z",
     "shell.execute_reply": "2024-02-15T11:35:44.400172Z",
     "shell.execute_reply.started": "2024-02-15T11:35:44.175605Z"
    },
    "tags": []
   },
   "outputs": [
    {
     "output_type": "display_data",
     "data": {
      "text/html": [
       "<div>\n",
       "<style scoped>\n",
       "    .dataframe tbody tr th:only-of-type {\n",
       "        vertical-align: middle;\n",
       "    }\n",
       "\n",
       "    .dataframe tbody tr th {\n",
       "        vertical-align: top;\n",
       "    }\n",
       "\n",
       "    .dataframe thead th {\n",
       "        text-align: right;\n",
       "    }\n",
       "</style>\n",
       "<table border=\"1\" class=\"dataframe\">\n",
       "  <thead>\n",
       "    <tr style=\"text-align: right;\">\n",
       "      <th></th>\n",
       "      <th>result</th>\n",
       "      <th>result</th>\n",
       "    </tr>\n",
       "  </thead>\n",
       "  <tbody>\n",
       "    <tr>\n",
       "      <th>15</th>\n",
       "      <td>[FAMILY HISTORY:\\nNotable for heart disease. She had three brothers that died of complications from open heart surgery. Her parents and brothers all had hypertension. Her younger brother died at the age of 18 of infection from a butcher's shop. He was cutting Argentinean beef and contracted an infection and died within 24 hours. She has one brother that is living who has angina and a sister who is 84 with dementia. She has two adult sons who are in good health.]</td>\n",
       "      <td>[History]</td>\n",
       "    </tr>\n",
       "    <tr>\n",
       "      <th>10</th>\n",
       "      <td>[Description:\\nNewly diagnosed cholangiocarcinoma. The patient is noted to have an increase in her liver function tests on routine blood work. Ultrasound of the abdomen showed gallbladder sludge and gallbladder findings consistent with adenomyomatosis.\\n(Medical Transcription Sample Report)\\nREASON FOR CONSULTATION:\\nNewly diagnosed cholangiocarcinoma.]</td>\n",
       "      <td>[Consultation and Referral]</td>\n",
       "    </tr>\n",
       "    <tr>\n",
       "      <th>3</th>\n",
       "      <td>[OPERATION PERFORMED:\\nLeft neck dissection.]</td>\n",
       "      <td>[Procedures]</td>\n",
       "    </tr>\n",
       "    <tr>\n",
       "      <th>18</th>\n",
       "      <td>[PHYSICAL EXAM:\\nVITALS: BP: 108/60. HEART RATE: 80. TEMP: 98.5. Weight: 75 kg.]</td>\n",
       "      <td>[Patient Information]</td>\n",
       "    </tr>\n",
       "    <tr>\n",
       "      <th>20</th>\n",
       "      <td>[LABORATORY STUDIES:\\nSodium 141, glucose 111, total bilirubin 2.3, alkaline phosphatase 941, AST 161, and ALT 220. White blood cell count 4.3, hemoglobin 11.6, hematocrit 35, and platelets 156,000. Total bilirubin from August 25, 2010 was 1.6, alkaline phosphatase 735, AST 123, ALT 184, CA99 is 109. Bile duct brushings are notable for atypical cell clusters present, highly suspicious for carcinoma.]</td>\n",
       "      <td>[Diagnostic and Laboratory Data]</td>\n",
       "    </tr>\n",
       "    <tr>\n",
       "      <th>27</th>\n",
       "      <td>[SUMMARY:\\nThe patient was brought to the OR in satisfactory condition and placed supine on the OR table. Underwent general anesthesia along with Marcaine in the nasal tip areas for planned excision. The area was injected, after sterile prep and drape, with Marcaine 0.25% with 1:200,000 adrenaline.\\nThe specimen was sent to pathology. Margins were still positive at the inferior 6 o'clock ***** margin and this was resubmitted accordingly. Final margins were clear.\\nClosure consisted of undermining circumferentially. Advancement closure with dog ear removal distally and proximally was accomplished without difficulty. Closure with interrupted 5-0 Monocryl running 7-0 nylon followed by Xeroform gauze, light pressure dressing, and Steri-Strips.\\nThe patient is discharged on minocycline and Darvocet-N 100.]</td>\n",
       "      <td>[Diagnostic and Laboratory Data]</td>\n",
       "    </tr>\n",
       "    <tr>\n",
       "      <th>21</th>\n",
       "      <td>[ASSESSMENT/PLAN:\\nThis is a very pleasant 77-year-old female who has findings suspicious for a cholangiocarcinoma. The patient was referred to our office to discuss this diagnosis. I spent greater than an hour with the patient and her husband discussing this potential diagnosis, reviewing the anatomy and answering questions. She is yet to have a surgical consultation, and we discussed the difficulty that we sometimes have with patients meeting surgical criteria to manage cholangiocarcinoma. The patient also had questions about the Medical University and possibly seeking a second opinion. She will contact our office after her surgical consultation if she needs assistance with obtaining a second opinion. We also talked about our clinical research program here. Currently, we do have a Phase II Study for advanced gallbladder carcinoma or cholangiocarcinoma for patients that are unresectable. We will go ahead and provide her with a consent form so that she can look that over and it will give her some more information about the malignancy and treatment approaches. We will schedule her for followup in three weeks. We will also schedule her for PET/CT scan for staging.\\nKeywords:\\nhematology - oncology, liver function tests, gallbladder, sludge, adenomyomatosis, intrahepatic ductal dilatation, bile duct, ercp, mrcp, cholangiopancreatography, gastroenterology, common bile duct, oropharynx, cholangiocarcinoma,]</td>\n",
       "      <td>[Consultation and Referral]</td>\n",
       "    </tr>\n",
       "    <tr>\n",
       "      <th>11</th>\n",
       "      <td>[HISTORY OF PRESENT ILLNESS:\\nThe patient is a very pleasant 77-year-old female who is noted to have an increase in her liver function tests on routine blood work in December 2009. Ultrasound of the abdomen showed gallbladder sludge and gallbladder findings consistent with adenomyomatosis. Common bile duct was noted to be 10 mm in size on that ultrasound. She then underwent a CT scan of the abdomen in July 2010, which showed intrahepatic ductal dilatation with the common bile duct size being 12.7 mm. She then underwent an MRI MRCP, which was notable for stricture of the distal common bile duct. She was then referred to gastroenterology and underwent an ERCP. On August 24, 2010, she underwent the endoscopic retrograde cholangiopancreatography. She was noted to have a stricturing mass of the mid-to-proximal common bile duct consistent with cholangiocarcinoma. A temporary biliary stent was placed across the biliary stricture. Blood work was obtained during the hospitalization. She was also noted to have an elevated CA99. She comes in to clinic today for initial Medical Oncology consultation. After she sees me this morning, she has a follow-up consultation with a surgeon.]</td>\n",
       "      <td>[History]</td>\n",
       "    </tr>\n",
       "    <tr>\n",
       "      <th>28</th>\n",
       "      <td>[NOTE:\\nThe 2.6 mm loupe magnification was utilized throughout the procedure. No complications noted with excellent and all clear margins at the termination. An advancement closure technique was utilized.\\nKeywords:\\nhematology - oncology, basal cell carcinoma, closure, steri-strips, xeroform gauze, excision, light pressure dressing, loupe magnification, nasal tip, basal carcinoma, basal cell, cell carcinoma, biopsy, basal, carcinoma, nasal,]</td>\n",
       "      <td>[History]</td>\n",
       "    </tr>\n",
       "    <tr>\n",
       "      <th>24</th>\n",
       "      <td>[POSTOPERATIVE DIAGNOSIS:\\nBasal cell carcinoma, nasal tip, previous positive biopsy.]</td>\n",
       "      <td>[Procedures]</td>\n",
       "    </tr>\n",
       "  </tbody>\n",
       "</table>\n",
       "</div>"
      ]
     },
     "metadata": {
      "application/vnd.databricks.v1+output": {
       "addedWidgets": {},
       "arguments": {},
       "data": "<div>\n<style scoped>\n    .dataframe tbody tr th:only-of-type {\n        vertical-align: middle;\n    }\n\n    .dataframe tbody tr th {\n        vertical-align: top;\n    }\n\n    .dataframe thead th {\n        text-align: right;\n    }\n</style>\n<table border=\"1\" class=\"dataframe\">\n  <thead>\n    <tr style=\"text-align: right;\">\n      <th></th>\n      <th>result</th>\n      <th>result</th>\n    </tr>\n  </thead>\n  <tbody>\n    <tr>\n      <th>15</th>\n      <td>[FAMILY HISTORY:\\nNotable for heart disease. She had three brothers that died of complications from open heart surgery. Her parents and brothers all had hypertension. Her younger brother died at the age of 18 of infection from a butcher's shop. He was cutting Argentinean beef and contracted an infection and died within 24 hours. She has one brother that is living who has angina and a sister who is 84 with dementia. She has two adult sons who are in good health.]</td>\n      <td>[History]</td>\n    </tr>\n    <tr>\n      <th>10</th>\n      <td>[Description:\\nNewly diagnosed cholangiocarcinoma. The patient is noted to have an increase in her liver function tests on routine blood work. Ultrasound of the abdomen showed gallbladder sludge and gallbladder findings consistent with adenomyomatosis.\\n(Medical Transcription Sample Report)\\nREASON FOR CONSULTATION:\\nNewly diagnosed cholangiocarcinoma.]</td>\n      <td>[Consultation and Referral]</td>\n    </tr>\n    <tr>\n      <th>3</th>\n      <td>[OPERATION PERFORMED:\\nLeft neck dissection.]</td>\n      <td>[Procedures]</td>\n    </tr>\n    <tr>\n      <th>18</th>\n      <td>[PHYSICAL EXAM:\\nVITALS: BP: 108/60. HEART RATE: 80. TEMP: 98.5. Weight: 75 kg.]</td>\n      <td>[Patient Information]</td>\n    </tr>\n    <tr>\n      <th>20</th>\n      <td>[LABORATORY STUDIES:\\nSodium 141, glucose 111, total bilirubin 2.3, alkaline phosphatase 941, AST 161, and ALT 220. White blood cell count 4.3, hemoglobin 11.6, hematocrit 35, and platelets 156,000. Total bilirubin from August 25, 2010 was 1.6, alkaline phosphatase 735, AST 123, ALT 184, CA99 is 109. Bile duct brushings are notable for atypical cell clusters present, highly suspicious for carcinoma.]</td>\n      <td>[Diagnostic and Laboratory Data]</td>\n    </tr>\n    <tr>\n      <th>27</th>\n      <td>[SUMMARY:\\nThe patient was brought to the OR in satisfactory condition and placed supine on the OR table. Underwent general anesthesia along with Marcaine in the nasal tip areas for planned excision. The area was injected, after sterile prep and drape, with Marcaine 0.25% with 1:200,000 adrenaline.\\nThe specimen was sent to pathology. Margins were still positive at the inferior 6 o'clock ***** margin and this was resubmitted accordingly. Final margins were clear.\\nClosure consisted of undermining circumferentially. Advancement closure with dog ear removal distally and proximally was accomplished without difficulty. Closure with interrupted 5-0 Monocryl running 7-0 nylon followed by Xeroform gauze, light pressure dressing, and Steri-Strips.\\nThe patient is discharged on minocycline and Darvocet-N 100.]</td>\n      <td>[Diagnostic and Laboratory Data]</td>\n    </tr>\n    <tr>\n      <th>21</th>\n      <td>[ASSESSMENT/PLAN:\\nThis is a very pleasant 77-year-old female who has findings suspicious for a cholangiocarcinoma. The patient was referred to our office to discuss this diagnosis. I spent greater than an hour with the patient and her husband discussing this potential diagnosis, reviewing the anatomy and answering questions. She is yet to have a surgical consultation, and we discussed the difficulty that we sometimes have with patients meeting surgical criteria to manage cholangiocarcinoma. The patient also had questions about the Medical University and possibly seeking a second opinion. She will contact our office after her surgical consultation if she needs assistance with obtaining a second opinion. We also talked about our clinical research program here. Currently, we do have a Phase II Study for advanced gallbladder carcinoma or cholangiocarcinoma for patients that are unresectable. We will go ahead and provide her with a consent form so that she can look that over and it will give her some more information about the malignancy and treatment approaches. We will schedule her for followup in three weeks. We will also schedule her for PET/CT scan for staging.\\nKeywords:\\nhematology - oncology, liver function tests, gallbladder, sludge, adenomyomatosis, intrahepatic ductal dilatation, bile duct, ercp, mrcp, cholangiopancreatography, gastroenterology, common bile duct, oropharynx, cholangiocarcinoma,]</td>\n      <td>[Consultation and Referral]</td>\n    </tr>\n    <tr>\n      <th>11</th>\n      <td>[HISTORY OF PRESENT ILLNESS:\\nThe patient is a very pleasant 77-year-old female who is noted to have an increase in her liver function tests on routine blood work in December 2009. Ultrasound of the abdomen showed gallbladder sludge and gallbladder findings consistent with adenomyomatosis. Common bile duct was noted to be 10 mm in size on that ultrasound. She then underwent a CT scan of the abdomen in July 2010, which showed intrahepatic ductal dilatation with the common bile duct size being 12.7 mm. She then underwent an MRI MRCP, which was notable for stricture of the distal common bile duct. She was then referred to gastroenterology and underwent an ERCP. On August 24, 2010, she underwent the endoscopic retrograde cholangiopancreatography. She was noted to have a stricturing mass of the mid-to-proximal common bile duct consistent with cholangiocarcinoma. A temporary biliary stent was placed across the biliary stricture. Blood work was obtained during the hospitalization. She was also noted to have an elevated CA99. She comes in to clinic today for initial Medical Oncology consultation. After she sees me this morning, she has a follow-up consultation with a surgeon.]</td>\n      <td>[History]</td>\n    </tr>\n    <tr>\n      <th>28</th>\n      <td>[NOTE:\\nThe 2.6 mm loupe magnification was utilized throughout the procedure. No complications noted with excellent and all clear margins at the termination. An advancement closure technique was utilized.\\nKeywords:\\nhematology - oncology, basal cell carcinoma, closure, steri-strips, xeroform gauze, excision, light pressure dressing, loupe magnification, nasal tip, basal carcinoma, basal cell, cell carcinoma, biopsy, basal, carcinoma, nasal,]</td>\n      <td>[History]</td>\n    </tr>\n    <tr>\n      <th>24</th>\n      <td>[POSTOPERATIVE DIAGNOSIS:\\nBasal cell carcinoma, nasal tip, previous positive biopsy.]</td>\n      <td>[Procedures]</td>\n    </tr>\n  </tbody>\n</table>\n</div>",
       "datasetInfos": [],
       "metadata": {},
       "removedWidgets": [],
       "textData": null,
       "type": "htmlSandbox"
      }
     },
     "output_type": "display_data"
    }
   ],
   "source": [
    "result.select('splits.result','section.result').limit(30).toPandas().sample(10)"
   ]
  },
  {
   "cell_type": "markdown",
   "metadata": {
    "application/vnd.databricks.v1+cell": {
     "cellMetadata": {
      "byteLimit": 2048000,
      "rowLimit": 10000
     },
     "inputWidgets": {},
     "nuid": "9d5887b0-5d1b-47d8-984e-00c7d6486733",
     "showTitle": false,
     "title": ""
    }
   },
   "source": [
    "### Summarize notes"
   ]
  },
  {
   "cell_type": "code",
   "execution_count": 0,
   "metadata": {
    "application/vnd.databricks.v1+cell": {
     "cellMetadata": {
      "byteLimit": 2048000,
      "rowLimit": 10000
     },
     "inputWidgets": {},
     "nuid": "251168cf-098f-4fd7-83f9-72b7ba19c60b",
     "showTitle": false,
     "title": ""
    },
    "execution": {
     "iopub.execute_input": "2024-02-15T11:35:44.404356Z",
     "iopub.status.busy": "2024-02-15T11:35:44.402951Z",
     "iopub.status.idle": "2024-02-15T11:36:09.633379Z",
     "shell.execute_reply": "2024-02-15T11:36:09.632776Z",
     "shell.execute_reply.started": "2024-02-15T11:35:44.404338Z"
    },
    "tags": []
   },
   "outputs": [
    {
     "output_type": "stream",
     "name": "stdout",
     "output_type": "stream",
     "text": [
      "summarizer_clinical_jsl_augmented_pipeline download started this may take some time.\nApprox size to download 885.7 MB\n\r[ | ]\r[OK!]\n"
     ]
    }
   ],
   "source": [
    "from sparknlp.pretrained import PretrainedPipeline\n",
    "\n",
    "summarizer = PretrainedPipeline(\"summarizer_clinical_jsl_augmented_pipeline\", \"en\", \"clinical/models\")\n"
   ]
  },
  {
   "cell_type": "code",
   "execution_count": 0,
   "metadata": {
    "application/vnd.databricks.v1+cell": {
     "cellMetadata": {
      "byteLimit": 2048000,
      "rowLimit": 10000
     },
     "inputWidgets": {},
     "nuid": "45e82cd4-8eb6-44d4-af90-428d3aa80cd3",
     "showTitle": false,
     "title": ""
    },
    "execution": {
     "iopub.execute_input": "2024-02-15T11:36:09.634508Z",
     "iopub.status.busy": "2024-02-15T11:36:09.634310Z",
     "iopub.status.idle": "2024-02-15T11:37:01.936262Z",
     "shell.execute_reply": "2024-02-15T11:37:01.935572Z",
     "shell.execute_reply.started": "2024-02-15T11:36:09.634481Z"
    },
    "tags": []
   },
   "outputs": [
    {
     "output_type": "stream",
     "name": "stdout",
     "output_type": "stream",
     "text": [
      "Out[29]: {'document': ['Sample Type / Medical Specialty:\\nHematology - Oncology\\nSample Name:\\nDischarge Summary - Mesothelioma - 1\\nDescription:\\nMesothelioma, pleural effusion, atrial fibrillation, anemia, ascites, esophageal reflux, and history of deep venous thrombosis.\\n(Medical Transcription Sample Report)\\nPRINCIPAL DIAGNOSIS:\\nMesothelioma.\\nSECONDARY DIAGNOSES:\\nPleural effusion, atrial fibrillation, anemia, ascites, esophageal reflux, and history of deep venous thrombosis.\\nPROCEDURES\\n1. On August 24, 2007, decortication of the lung with pleural biopsy and transpleural fluoroscopy.\\n2. On August 20, 2007, thoracentesis.\\n3. On August 31, 2007, Port-A-Cath placement.\\nHISTORY AND PHYSICAL:\\nThe patient is a 41-year-old Vietnamese female with a nonproductive cough that started last week. She has had right-sided chest pain radiating to her back with fever starting yesterday. She has a history of pericarditis and pericardectomy in May 2006 and developed cough with right-sided chest pain, and went to an urgent care center. Chest x-ray revealed right-sided pleural effusion.\\nPAST MEDICAL HISTORY\\n1. Pericardectomy.\\n2. Pericarditis.\\n2. Atrial fibrillation.\\n4. RNCA with intracranial thrombolytic treatment.\\n5 PTA of MCA.\\n6. Mesenteric venous thrombosis.\\n7. Pericardial window.\\n8. Cholecystectomy.\\n9. Left thoracentesis.\\nFAMILY HISTORY:\\nNo family history of coronary artery disease, CVA, diabetes, CHF or MI. The patient has one family member, a sister, with history of cancer.\\nSOCIAL HISTORY:\\nShe is married. Employed with the US Post Office. She is a mother of three. Denies tobacco, alcohol or illicit drug use.\\nMEDICATIONS\\n1. Coumadin 1 mg daily. Last INR was on Tuesday, August 14, 2007, and her INR was 2.3.\\n2. Amiodarone 100 mg p.o. daily.\\nREVIEW OF SYSTEMS:\\nComplete review of systems negative except as in pulmonary as noted above. The patient also reports occasional numbness and tingling of her left arm.\\nPHYSICAL EXAMINATION\\nVITAL SIGNS: Blood pressure 123/95, heart rate 83, respirations 20, temperature 97, and oxygen saturation 97%.\\nGENERAL: Positive nonproductive cough and pain with coughing.\\nHEENT: Pupils are equal and reactive to light and accommodation. Tympanic membranes are clear.\\nNECK: Supple. No lymphadenopathy. No masses.\\nRESPIRATORY: Pleural friction rub is noted.\\nGI: Soft, nondistended, and nontender. Positive bowel sounds. No organomegaly.\\nEXTREMITIES: No edema, no clubbing, no cyanosis, no tenderness. Full range of motion. Normal pulses in all extremities.\\nSKIN: No breakdown or lesions. No ulcers.\\nNEUROLOGIC: Grossly intact. No focal deficits. Awake, alert, and oriented to person, place, and time.\\nLABORATORY DATA:\\nLabs are pending.\\nHOSPITAL COURSE:\\nThe patient was admitted for a right-sided pleural effusion for thoracentesis on Monday by Dr. X. Her Coumadin was placed on hold. A repeat echocardiogram was checked. She was started on prophylaxis for DVT with Lovenox 40 mg subcutaneously. Her history dated back to March 2005 when she first sought medical attention for evidence of pericarditis, which was treated with pericardial window in an outside hospital, at that time she was also found to have mesenteric pain and thrombosis, is now anticoagulated. Her pericardial fluid was accumulated and she was seen by Dr. Y. At that time, she was recommended for pericardectomy, which was performed by Dr. Z. Review of her CT scan from March 2006 prior to her pericardectomy, already shows bilateral plural effusions. The patient improved clinically after the pericardectomy with resolution of her symptoms. Recently, she was readmitted to the hospital with chest pain and found to have bilateral pleural effusion, the right greater than the left. CT of the chest also revealed a large mediastinal lymph node. We reviewed the pathology obtained from the pericardectomy in March 2006, which was diagnostic of mesothelioma. At this time, chest tube placement for drainage of the fluid occurred and thoracoscopy with fluid biopsies, which were performed, which revealed epithelioid malignant mesothelioma. The patient was then stained with a PET CT, which showed extensive uptake in the chest, bilateral pleural pericardial effusions, and lymphadenopathy. She also had acidic fluid, pectoral and intramammary lymph nodes and uptake in L4 with SUV of 4. This was consistent with stage III disease. Her repeat echocardiogram showed an ejection fraction of 45% to 49%. She was transferred to Oncology service and started on chemotherapy on September 1, 2007 with cisplatin 75 mg/centimeter squared equaling 109 mg IV piggyback over 2 hours on September 1, 2007, Alimta 500 mg/ centimeter squared equaling 730 mg IV piggyback over 10 minutes. This was all initiated after a Port-A-Cath was placed. The chemotherapy was well tolerated and the patient was discharged the following day after discontinuing IV fluid and IV. Her Port-A-Cath was packed with heparin according to protocol.\\nDISCHARGE MEDICATIONS:\\nZofran, Phenergan, Coumadin, and Lovenox, and Vicodin\\nDISCHARGE INSTRUCTIONS:\\nShe was instructed to followup with Dr. XYZ in the office to check her INR on Tuesday. She was instructed to call if she had any other questions or concerns in the interim.\\nKeywords:\\nhematology - oncology, mesothelioma, pleural effusion, atrial fibrillation, anemia, ascites, esophageal reflux, deep venous thrombosis, port-a-cath placement, port a cath, iv piggyback, venous thrombosis, atrial, thrombosis, pericardial, lymphadenopathy, fluid, pericardectomy, chest, pleural,'],\n 'summary': ['The patient is a 41-year-old Vietnamese female with a history of mesothelioma, pleural effusion, atrial fibrillation, anemia, ascites, esophageal reflux, and a history of deep venous thrombosis. She was admitted for a right-sided pleural effusion for thoracentesis and was started on prophylaxis for DVT with Lovenox. She was readmitted to the hospital with chest pain and found to have bilateral pleural effusion, the right greater than the left. She was started on chemotherapy on September 1, 2007 with cisplatin 75 mg/centimeter squared equaling 109 mg IV piggyback over 2 hours on September 1, 2007, and Alimta 500 mg/centimeter squared equaling 730 mg IV piggyback over 10 minutes. She was discharged the following day after discontinuing IV fluid and IV. She was instructed to follow up with Dr. XYZ in the office to check her INR on Tuesday.']}"
     ]
    }
   ],
   "source": [
    "summary = summarizer.annotate(note)\n",
    "summary"
   ]
  },
  {
   "cell_type": "code",
   "execution_count": 0,
   "metadata": {
    "application/vnd.databricks.v1+cell": {
     "cellMetadata": {
      "byteLimit": 2048000,
      "rowLimit": 10000
     },
     "inputWidgets": {},
     "nuid": "fa16d0bf-8330-44e5-877c-fe48049114e2",
     "showTitle": false,
     "title": ""
    },
    "execution": {
     "iopub.execute_input": "2024-02-15T11:37:01.937524Z",
     "iopub.status.busy": "2024-02-15T11:37:01.937314Z",
     "iopub.status.idle": "2024-02-15T11:37:01.941258Z",
     "shell.execute_reply": "2024-02-15T11:37:01.940683Z",
     "shell.execute_reply.started": "2024-02-15T11:37:01.937507Z"
    },
    "tags": []
   },
   "outputs": [
    {
     "output_type": "stream",
     "name": "stdout",
     "output_type": "stream",
     "text": [
      "Out[30]: ['The patient is a 41-year-old Vietnamese female with a history of mesothelioma, pleural effusion, atrial fibrillation, anemia, ascites, esophageal reflux, and a history of deep venous thrombosis. She was admitted for a right-sided pleural effusion for thoracentesis and was started on prophylaxis for DVT with Lovenox. She was readmitted to the hospital with chest pain and found to have bilateral pleural effusion, the right greater than the left. She was started on chemotherapy on September 1, 2007 with cisplatin 75 mg/centimeter squared equaling 109 mg IV piggyback over 2 hours on September 1, 2007, and Alimta 500 mg/centimeter squared equaling 730 mg IV piggyback over 10 minutes. She was discharged the following day after discontinuing IV fluid and IV. She was instructed to follow up with Dr. XYZ in the office to check her INR on Tuesday.']"
     ]
    }
   ],
   "source": [
    "summary['summary']"
   ]
  },
  {
   "cell_type": "markdown",
   "metadata": {
    "application/vnd.databricks.v1+cell": {
     "cellMetadata": {
      "byteLimit": 2048000,
      "rowLimit": 10000
     },
     "inputWidgets": {},
     "nuid": "ebf98534-cf0f-49e8-8a48-29b70e54275d",
     "showTitle": false,
     "title": ""
    }
   },
   "source": [
    "### Split augmentation using Healthcare NLP  "
   ]
  },
  {
   "cell_type": "code",
   "execution_count": 0,
   "metadata": {
    "application/vnd.databricks.v1+cell": {
     "cellMetadata": {
      "byteLimit": 2048000,
      "rowLimit": 10000
     },
     "inputWidgets": {},
     "nuid": "411cc976-9e0a-4d0f-9ea8-fda6a0a2ee78",
     "showTitle": false,
     "title": ""
    },
    "execution": {
     "iopub.execute_input": "2024-02-15T11:37:01.942154Z",
     "iopub.status.busy": "2024-02-15T11:37:01.941978Z",
     "iopub.status.idle": "2024-02-15T11:37:02.178009Z",
     "shell.execute_reply": "2024-02-15T11:37:02.177400Z",
     "shell.execute_reply.started": "2024-02-15T11:37:01.942138Z"
    },
    "tags": []
   },
   "outputs": [
    {
     "output_type": "display_data",
     "data": {
      "text/html": [
       "<div>\n",
       "<style scoped>\n",
       "    .dataframe tbody tr th:only-of-type {\n",
       "        vertical-align: middle;\n",
       "    }\n",
       "\n",
       "    .dataframe tbody tr th {\n",
       "        vertical-align: top;\n",
       "    }\n",
       "\n",
       "    .dataframe thead th {\n",
       "        text-align: right;\n",
       "    }\n",
       "</style>\n",
       "<table border=\"1\" class=\"dataframe\">\n",
       "  <thead>\n",
       "    <tr style=\"text-align: right;\">\n",
       "      <th></th>\n",
       "      <th>patient_id</th>\n",
       "      <th>document_id</th>\n",
       "      <th>result</th>\n",
       "      <th>result</th>\n",
       "    </tr>\n",
       "  </thead>\n",
       "  <tbody>\n",
       "    <tr>\n",
       "      <th>0</th>\n",
       "      <td>pt_9</td>\n",
       "      <td>2fc10874-3f71-448b-94b1-f4ea02618f1a</td>\n",
       "      <td>[Sample Type / Medical Specialty:\\nHematology - Oncology\\nSample Name:\\nDischarge Summary - Mesothelioma - 1]</td>\n",
       "      <td>[Discharge Information]</td>\n",
       "    </tr>\n",
       "    <tr>\n",
       "      <th>1</th>\n",
       "      <td>pt_9</td>\n",
       "      <td>2fc10874-3f71-448b-94b1-f4ea02618f1a</td>\n",
       "      <td>[Description:\\nMesothelioma, pleural effusion, atrial fibrillation, anemia, ascites, esophageal reflux, and history of deep venous thrombosis.\\n(Medical Transcription Sample Report)]</td>\n",
       "      <td>[Complications and Risk Factors]</td>\n",
       "    </tr>\n",
       "    <tr>\n",
       "      <th>2</th>\n",
       "      <td>pt_9</td>\n",
       "      <td>2fc10874-3f71-448b-94b1-f4ea02618f1a</td>\n",
       "      <td>[PRINCIPAL DIAGNOSIS:\\nMesothelioma.]</td>\n",
       "      <td>[Diagnostic and Laboratory Data]</td>\n",
       "    </tr>\n",
       "    <tr>\n",
       "      <th>3</th>\n",
       "      <td>pt_9</td>\n",
       "      <td>2fc10874-3f71-448b-94b1-f4ea02618f1a</td>\n",
       "      <td>[SECONDARY DIAGNOSES:\\nPleural effusion, atrial fibrillation, anemia, ascites, esophageal reflux, and history of deep venous thrombosis.]</td>\n",
       "      <td>[Procedures]</td>\n",
       "    </tr>\n",
       "    <tr>\n",
       "      <th>4</th>\n",
       "      <td>pt_9</td>\n",
       "      <td>2fc10874-3f71-448b-94b1-f4ea02618f1a</td>\n",
       "      <td>[PROCEDURES\\n1. On August 24, 2007, decortication of the lung with pleural biopsy and transpleural fluoroscopy.\\n2. On August 20, 2007, thoracentesis.\\n3. On August 31, 2007, Port-A-Cath placement.]</td>\n",
       "      <td>[Procedures]</td>\n",
       "    </tr>\n",
       "  </tbody>\n",
       "</table>\n",
       "</div>"
      ]
     },
     "metadata": {
      "application/vnd.databricks.v1+output": {
       "addedWidgets": {},
       "arguments": {},
       "data": "<div>\n<style scoped>\n    .dataframe tbody tr th:only-of-type {\n        vertical-align: middle;\n    }\n\n    .dataframe tbody tr th {\n        vertical-align: top;\n    }\n\n    .dataframe thead th {\n        text-align: right;\n    }\n</style>\n<table border=\"1\" class=\"dataframe\">\n  <thead>\n    <tr style=\"text-align: right;\">\n      <th></th>\n      <th>patient_id</th>\n      <th>document_id</th>\n      <th>result</th>\n      <th>result</th>\n    </tr>\n  </thead>\n  <tbody>\n    <tr>\n      <th>0</th>\n      <td>pt_9</td>\n      <td>2fc10874-3f71-448b-94b1-f4ea02618f1a</td>\n      <td>[Sample Type / Medical Specialty:\\nHematology - Oncology\\nSample Name:\\nDischarge Summary - Mesothelioma - 1]</td>\n      <td>[Discharge Information]</td>\n    </tr>\n    <tr>\n      <th>1</th>\n      <td>pt_9</td>\n      <td>2fc10874-3f71-448b-94b1-f4ea02618f1a</td>\n      <td>[Description:\\nMesothelioma, pleural effusion, atrial fibrillation, anemia, ascites, esophageal reflux, and history of deep venous thrombosis.\\n(Medical Transcription Sample Report)]</td>\n      <td>[Complications and Risk Factors]</td>\n    </tr>\n    <tr>\n      <th>2</th>\n      <td>pt_9</td>\n      <td>2fc10874-3f71-448b-94b1-f4ea02618f1a</td>\n      <td>[PRINCIPAL DIAGNOSIS:\\nMesothelioma.]</td>\n      <td>[Diagnostic and Laboratory Data]</td>\n    </tr>\n    <tr>\n      <th>3</th>\n      <td>pt_9</td>\n      <td>2fc10874-3f71-448b-94b1-f4ea02618f1a</td>\n      <td>[SECONDARY DIAGNOSES:\\nPleural effusion, atrial fibrillation, anemia, ascites, esophageal reflux, and history of deep venous thrombosis.]</td>\n      <td>[Procedures]</td>\n    </tr>\n    <tr>\n      <th>4</th>\n      <td>pt_9</td>\n      <td>2fc10874-3f71-448b-94b1-f4ea02618f1a</td>\n      <td>[PROCEDURES\\n1. On August 24, 2007, decortication of the lung with pleural biopsy and transpleural fluoroscopy.\\n2. On August 20, 2007, thoracentesis.\\n3. On August 31, 2007, Port-A-Cath placement.]</td>\n      <td>[Procedures]</td>\n    </tr>\n  </tbody>\n</table>\n</div>",
       "datasetInfos": [],
       "metadata": {},
       "removedWidgets": [],
       "textData": null,
       "type": "htmlSandbox"
      }
     },
     "output_type": "display_data"
    }
   ],
   "source": [
    "sample_split_df = result.select('patient_id','document_id','splits.result','section.result').limit(30).toPandas()\n",
    "sample_split_df.head()"
   ]
  },
  {
   "cell_type": "code",
   "execution_count": 0,
   "metadata": {
    "application/vnd.databricks.v1+cell": {
     "cellMetadata": {
      "byteLimit": 2048000,
      "rowLimit": 10000
     },
     "inputWidgets": {},
     "nuid": "197aeda2-6c24-4d0b-85c6-e8082c9e9f50",
     "showTitle": false,
     "title": ""
    },
    "execution": {
     "iopub.execute_input": "2024-02-15T12:17:25.377243Z",
     "iopub.status.busy": "2024-02-15T12:17:25.376930Z",
     "iopub.status.idle": "2024-02-15T12:17:48.901350Z",
     "shell.execute_reply": "2024-02-15T12:17:48.900696Z",
     "shell.execute_reply.started": "2024-02-15T12:17:25.377224Z"
    },
    "tags": []
   },
   "outputs": [
    {
     "output_type": "stream",
     "name": "stdout",
     "output_type": "stream",
     "text": [
      "embeddings_clinical download started this may take some time.\nApproximate size to download 1.6 GB\n\r[ | ]\r[OK!]\nner_clinical download started this may take some time.\n\r[ | ]\r[OK!]\nner_jsl_enriched download started this may take some time.\n\r[ | ]\r[OK!]\nner_drugs_large download started this may take some time.\n\r[ | ]\r[OK!]\ndrug_action_treatment_mapper download started this may take some time.\n\r[ | ]\r[OK!]\nassertion_dl download started this may take some time.\n\r[ | ]\r[OK!]\nsbiobert_base_cased_mli download started this may take some time.\nApproximate size to download 384.3 MB\n\r[ | ]\r[OK!]\nsbiobertresolve_icd10cm_generalised download started this may take some time.\n\r[ | ]\r[OK!]\nsbiobertresolve_rxnorm_augmented download started this may take some time.\n\r[ | ]\r[OK!]\n"
     ]
    }
   ],
   "source": [
    "documentAssembler = nlp.DocumentAssembler()\\\n",
    "    .setInputCol(\"text\")\\\n",
    "    .setOutputCol(\"document\")\n",
    "\n",
    "sentenceDetector = nlp.SentenceDetector()\\\n",
    "    .setInputCols(\"document\")\\\n",
    "    .setOutputCol(\"sentence\")\n",
    "\n",
    "tokenizer = nlp.Tokenizer()\\\n",
    "    .setInputCols(\"sentence\")\\\n",
    "    .setOutputCol(\"token\")\n",
    "\n",
    "word_embeddings = nlp.WordEmbeddingsModel.pretrained(\"embeddings_clinical\", \"en\", \"clinical/models\")\\\n",
    "    .setInputCols(\"sentence\", \"token\")\\\n",
    "    .setOutputCol(\"word_embeddings\")\n",
    "\n",
    "# to get PROBLEM entities\n",
    "clinical_ner = medical.NerModel().pretrained(\"ner_clinical\", \"en\", \"clinical/models\") \\\n",
    "    .setInputCols([\"sentence\", \"token\", \"word_embeddings\"]) \\\n",
    "    .setOutputCol(\"clinical_ner\")\n",
    "\n",
    "clinical_ner_chunk = medical.NerConverter()\\\n",
    "    .setInputCols(\"sentence\",\"token\",\"clinical_ner\")\\\n",
    "    .setOutputCol(\"clinical_ner_chunk\")\\\n",
    "    .setWhiteList([\"PROBLEM\"])\n",
    "\n",
    "# to get PROBLEM entitis\n",
    "jsl_ner = medical.NerModel().pretrained(\"ner_jsl_enriched\", \"en\", \"clinical/models\") \\\n",
    "    .setInputCols([\"sentence\", \"token\", \"word_embeddings\"]) \\\n",
    "    .setOutputCol(\"jsl_ner\")\n",
    "\n",
    "jsl_ner_chunk = medical.NerConverter()\\\n",
    "    .setInputCols(\"sentence\",\"token\",\"jsl_ner\")\\\n",
    "    .setOutputCol(\"jsl_ner_chunk\")\n",
    "\n",
    "# to get DRUG entities\n",
    "posology_ner = medical.NerModel().pretrained(\"ner_drugs_large\", \"en\", \"clinical/models\") \\\n",
    "    .setInputCols([\"sentence\", \"token\", \"word_embeddings\"]) \\\n",
    "    .setOutputCol(\"drugs_ner\")\n",
    "\n",
    "posology_ner_chunk = medical.NerConverter()\\\n",
    "    .setInputCols(\"sentence\",\"token\",\"drugs_ner\")\\\n",
    "    .setOutputCol(\"drugs_ner_chunk\")\\\n",
    "    .setWhiteList([\"DRUG\"])\n",
    "\n",
    "drug_mapper = medical.ChunkMapperModel.pretrained(\"drug_action_treatment_mapper\", \"en\", \"clinical/models\") \\\n",
    "    .setInputCols(\"drugs_ner_chunk\")\\\n",
    "    .setOutputCol(\"drug_action\")\\\n",
    "    .setRel(\"action\")\n",
    "\n",
    "# merge the chunks into a single ner_chunk\n",
    "chunk_merger = medical.ChunkMergeApproach()\\\n",
    "    .setInputCols(\"clinical_ner_chunk\",\"drugs_ner_chunk\")\\\n",
    "    .setOutputCol(\"merged_ner_chunk\")\\\n",
    "    .setMergeOverlapping(False)\n",
    "\n",
    "clinical_assertion = medical.AssertionDLModel.pretrained(\"assertion_dl\", \"en\", \"clinical/models\") \\\n",
    "    .setInputCols([\"sentence\", \"merged_ner_chunk\", \"word_embeddings\"]) \\\n",
    "    .setOutputCol(\"assertion\")\n",
    "\n",
    "assertion_filterer = medical.AssertionFilterer()\\\n",
    "    .setInputCols(\"sentence\",\"merged_ner_chunk\",\"assertion\")\\\n",
    "    .setOutputCol(\"assertion_filtered\")\\\n",
    "    .setCaseSensitive(False)\\\n",
    "    .setWhiteList([\"Present\"])\n",
    "\n",
    "chunk2doc = nlp.Chunk2Doc()\\\n",
    "    .setInputCols(\"assertion_filtered\")\\\n",
    "    .setOutputCol(\"doc_final_chunk\")\n",
    "\n",
    "sbiobert_embeddings = nlp.BertSentenceEmbeddings.pretrained(\"sbiobert_base_cased_mli\",\"en\",\"clinical/models\")\\\n",
    "    .setInputCols([\"doc_final_chunk\"])\\\n",
    "    .setOutputCol(\"sbert_embeddings\")\\\n",
    "    .setCaseSensitive(False)\n",
    "\n",
    "# filter PROBLEM entity embeddings\n",
    "router_sentence_icd10 = medical.Router() \\\n",
    "    .setInputCols(\"sbert_embeddings\") \\\n",
    "    .setFilterFieldsElements([\"PROBLEM\"]) \\\n",
    "    .setOutputCol(\"problem_embeddings\")\n",
    "\n",
    "# filter DRUG entity embeddings\n",
    "router_sentence_rxnorm = medical.Router() \\\n",
    "    .setInputCols(\"sbert_embeddings\") \\\n",
    "    .setFilterFieldsElements([\"DRUG\"]) \\\n",
    "    .setOutputCol(\"drug_embeddings\")\n",
    "\n",
    "# use problem_embeddings only\n",
    "icd_resolver = medical.SentenceEntityResolverModel.pretrained(\"sbiobertresolve_icd10cm_generalised\",\"en\", \"clinical/models\") \\\n",
    "    .setInputCols([\"problem_embeddings\"]) \\\n",
    "    .setOutputCol(\"icd10cm_code\")\\\n",
    "    .setDistanceFunction(\"EUCLIDEAN\")\n",
    "\n",
    "# use drug_embeddings only\n",
    "rxnorm_resolver = medical.SentenceEntityResolverModel.pretrained(\"sbiobertresolve_rxnorm_augmented\",\"en\", \"clinical/models\") \\\n",
    "    .setInputCols([\"drug_embeddings\"]) \\\n",
    "    .setOutputCol(\"rxnorm_code\")\\\n",
    "    .setDistanceFunction(\"EUCLIDEAN\")\n",
    "\n",
    "\n",
    "pipeline = nlp.Pipeline(\n",
    "    stages=[\n",
    "        documentAssembler,\n",
    "        sentenceDetector,\n",
    "        tokenizer,\n",
    "        word_embeddings,\n",
    "        clinical_ner,\n",
    "        clinical_ner_chunk,\n",
    "        jsl_ner,\n",
    "        jsl_ner_chunk,\n",
    "        posology_ner,\n",
    "        posology_ner_chunk,\n",
    "        drug_mapper,\n",
    "        chunk_merger,\n",
    "        clinical_assertion,\n",
    "        assertion_filterer,\n",
    "        chunk2doc,\n",
    "        sbiobert_embeddings,\n",
    "        router_sentence_icd10,\n",
    "        router_sentence_rxnorm,\n",
    "        icd_resolver,\n",
    "        rxnorm_resolver\n",
    "])\n",
    "\n",
    "empty_data = spark.createDataFrame([['']]).toDF(\"text\")\n",
    "model = pipeline.fit(empty_data)"
   ]
  },
  {
   "cell_type": "code",
   "execution_count": 0,
   "metadata": {
    "application/vnd.databricks.v1+cell": {
     "cellMetadata": {
      "byteLimit": 2048000,
      "rowLimit": 10000
     },
     "inputWidgets": {},
     "nuid": "25a3e4ec-dd37-427e-9903-bec42f7bc056",
     "showTitle": false,
     "title": ""
    },
    "execution": {
     "iopub.execute_input": "2024-02-15T12:18:09.358586Z",
     "iopub.status.busy": "2024-02-15T12:18:09.358077Z",
     "iopub.status.idle": "2024-02-15T12:18:09.453378Z",
     "shell.execute_reply": "2024-02-15T12:18:09.452838Z",
     "shell.execute_reply.started": "2024-02-15T12:18:09.358567Z"
    },
    "tags": []
   },
   "outputs": [],
   "source": [
    "\n",
    "light_model = nlp.LightPipeline(model)"
   ]
  },
  {
   "cell_type": "code",
   "execution_count": 0,
   "metadata": {
    "application/vnd.databricks.v1+cell": {
     "cellMetadata": {
      "byteLimit": 2048000,
      "rowLimit": 10000
     },
     "inputWidgets": {},
     "nuid": "4754276c-fcee-4d6e-aac3-f8126cc5c230",
     "showTitle": false,
     "title": ""
    },
    "execution": {
     "iopub.execute_input": "2024-02-15T12:18:11.931281Z",
     "iopub.status.busy": "2024-02-15T12:18:11.930698Z",
     "iopub.status.idle": "2024-02-15T12:18:46.241011Z",
     "shell.execute_reply": "2024-02-15T12:18:46.240278Z",
     "shell.execute_reply.started": "2024-02-15T12:18:11.931262Z"
    },
    "tags": []
   },
   "outputs": [],
   "source": [
    "result = light_model.fullAnnotate(note)"
   ]
  },
  {
   "cell_type": "code",
   "execution_count": 0,
   "metadata": {
    "application/vnd.databricks.v1+cell": {
     "cellMetadata": {
      "byteLimit": 2048000,
      "rowLimit": 10000
     },
     "inputWidgets": {},
     "nuid": "5ea34803-dc79-41c8-8465-09f32f5b9ca5",
     "showTitle": false,
     "title": ""
    },
    "execution": {
     "iopub.execute_input": "2024-02-15T12:18:52.703022Z",
     "iopub.status.busy": "2024-02-15T12:18:52.702504Z",
     "iopub.status.idle": "2024-02-15T12:18:52.706930Z",
     "shell.execute_reply": "2024-02-15T12:18:52.706279Z",
     "shell.execute_reply.started": "2024-02-15T12:18:52.703002Z"
    },
    "tags": []
   },
   "outputs": [
    {
     "output_type": "stream",
     "name": "stdout",
     "output_type": "stream",
     "text": [
      "Out[35]: dict_keys(['assertion_filtered', 'drug_action', 'document', 'word_embeddings', 'doc_final_chunk', 'jsl_ner_chunk', 'drugs_ner_chunk', 'assertion', 'drugs_ner', 'icd10cm_code', 'jsl_ner', 'clinical_ner', 'token', 'rxnorm_code', 'merged_ner_chunk', 'drug_embeddings', 'sbert_embeddings', 'clinical_ner_chunk', 'problem_embeddings', 'sentence'])"
     ]
    }
   ],
   "source": [
    "result[0].keys()"
   ]
  },
  {
   "cell_type": "code",
   "execution_count": 0,
   "metadata": {
    "application/vnd.databricks.v1+cell": {
     "cellMetadata": {
      "byteLimit": 2048000,
      "rowLimit": 10000
     },
     "inputWidgets": {},
     "nuid": "48a27543-68e0-4664-981d-51117d61029b",
     "showTitle": false,
     "title": ""
    },
    "execution": {
     "iopub.execute_input": "2024-02-15T12:19:12.229916Z",
     "iopub.status.busy": "2024-02-15T12:19:12.229438Z",
     "iopub.status.idle": "2024-02-15T12:19:12.332568Z",
     "shell.execute_reply": "2024-02-15T12:19:12.331941Z",
     "shell.execute_reply.started": "2024-02-15T12:19:12.229898Z"
    },
    "tags": []
   },
   "outputs": [
    {
     "output_type": "stream",
     "name": "stdout",
     "output_type": "stream",
     "text": [
      "Out[36]: [Annotation(chunk, 1163, 1174, thrombolytic, {'chunk': '0', 'confidence': '0.9072', 'ner_source': 'drugs_ner_chunk', 'entity': 'DRUG', 'sentence': '15'}, []),\n Annotation(chunk, 1609, 1621, Coumadin 1 mg, {'chunk': '1', 'confidence': '0.8162667', 'ner_source': 'drugs_ner_chunk', 'entity': 'DRUG', 'sentence': '28'}, []),\n Annotation(chunk, 1696, 1716, Amiodarone 100 mg p.o, {'chunk': '2', 'confidence': '0.88705003', 'ner_source': 'drugs_ner_chunk', 'entity': 'DRUG', 'sentence': '30'}, []),\n Annotation(chunk, 2770, 2777, Coumadin, {'chunk': '3', 'confidence': '0.9415', 'ner_source': 'drugs_ner_chunk', 'entity': 'DRUG', 'sentence': '53'}, []),\n Annotation(chunk, 4436, 4447, chemotherapy, {'chunk': '4', 'confidence': '0.9991', 'ner_source': 'drugs_ner_chunk', 'entity': 'DRUG', 'sentence': '67'}, []),\n Annotation(chunk, 4475, 4527, cisplatin 75 mg/centimeter squared equaling 109 mg IV, {'chunk': '5', 'confidence': '0.78065', 'ner_source': 'drugs_ner_chunk', 'entity': 'DRUG', 'sentence': '67'}, []),\n Annotation(chunk, 4574, 4625, Alimta 500 mg/ centimeter squared equaling 730 mg IV, {'chunk': '6', 'confidence': '0.7758667', 'ner_source': 'drugs_ner_chunk', 'entity': 'DRUG', 'sentence': '67'}, []),\n Annotation(chunk, 4713, 4724, chemotherapy, {'chunk': '7', 'confidence': '0.9989', 'ner_source': 'drugs_ner_chunk', 'entity': 'DRUG', 'sentence': '69'}, []),\n Annotation(chunk, 4817, 4829, fluid and IV., {'chunk': '8', 'confidence': '0.955225', 'ner_source': 'drugs_ner_chunk', 'entity': 'DRUG', 'sentence': '69'}, []),\n Annotation(chunk, 4863, 4869, heparin, {'chunk': '9', 'confidence': '0.9948', 'ner_source': 'drugs_ner_chunk', 'entity': 'DRUG', 'sentence': '70'}, []),\n Annotation(chunk, 4917, 4922, Zofran, {'chunk': '10', 'confidence': '0.996', 'ner_source': 'drugs_ner_chunk', 'entity': 'DRUG', 'sentence': '71'}, []),\n Annotation(chunk, 4925, 4933, Phenergan, {'chunk': '11', 'confidence': '0.997', 'ner_source': 'drugs_ner_chunk', 'entity': 'DRUG', 'sentence': '71'}, []),\n Annotation(chunk, 4936, 4943, Coumadin, {'chunk': '12', 'confidence': '0.9987', 'ner_source': 'drugs_ner_chunk', 'entity': 'DRUG', 'sentence': '71'}, []),\n Annotation(chunk, 4963, 4969, Vicodin, {'chunk': '13', 'confidence': '0.9896', 'ner_source': 'drugs_ner_chunk', 'entity': 'DRUG', 'sentence': '71'}, [])]"
     ]
    }
   ],
   "source": [
    "result[0]['drugs_ner_chunk']"
   ]
  },
  {
   "cell_type": "code",
   "execution_count": 0,
   "metadata": {
    "application/vnd.databricks.v1+cell": {
     "cellMetadata": {
      "byteLimit": 2048000,
      "rowLimit": 10000
     },
     "inputWidgets": {},
     "nuid": "2fa885b6-a4f5-4c27-bb54-3280e592d851",
     "showTitle": false,
     "title": ""
    },
    "execution": {
     "iopub.execute_input": "2024-02-15T12:19:27.468632Z",
     "iopub.status.busy": "2024-02-15T12:19:27.468101Z",
     "iopub.status.idle": "2024-02-15T12:19:28.145249Z",
     "shell.execute_reply": "2024-02-15T12:19:28.144598Z",
     "shell.execute_reply.started": "2024-02-15T12:19:27.468612Z"
    },
    "tags": []
   },
   "outputs": [
    {
     "output_type": "stream",
     "name": "stdout",
     "output_type": "stream",
     "text": [
      "Out[37]: [Annotation(chunk, 88, 99, Mesothelioma, {'chunk': '0', 'confidence': '0.973', 'ner_source': 'clinical_ner_chunk', 'entity': 'PROBLEM', 'sentence': '0'}, []),\n Annotation(chunk, 118, 129, Mesothelioma, {'chunk': '1', 'confidence': '0.9993', 'ner_source': 'clinical_ner_chunk', 'entity': 'PROBLEM', 'sentence': '0'}, []),\n Annotation(chunk, 132, 147, pleural effusion, {'chunk': '2', 'confidence': '0.99609995', 'ner_source': 'clinical_ner_chunk', 'entity': 'PROBLEM', 'sentence': '0'}, []),\n Annotation(chunk, 150, 168, atrial fibrillation, {'chunk': '3', 'confidence': '0.99815', 'ner_source': 'clinical_ner_chunk', 'entity': 'PROBLEM', 'sentence': '0'}, []),\n Annotation(chunk, 171, 176, anemia, {'chunk': '4', 'confidence': '0.9992', 'ner_source': 'clinical_ner_chunk', 'entity': 'PROBLEM', 'sentence': '0'}, []),\n Annotation(chunk, 179, 185, ascites, {'chunk': '5', 'confidence': '0.9996', 'ner_source': 'clinical_ner_chunk', 'entity': 'PROBLEM', 'sentence': '0'}, []),\n Annotation(chunk, 188, 204, esophageal reflux, {'chunk': '6', 'confidence': '0.99665', 'ner_source': 'clinical_ner_chunk', 'entity': 'PROBLEM', 'sentence': '0'}, []),\n Annotation(chunk, 222, 243, deep venous thrombosis, {'chunk': '7', 'confidence': '0.95006675', 'ner_source': 'clinical_ner_chunk', 'entity': 'PROBLEM', 'sentence': '0'}, []),\n Annotation(chunk, 305, 316, Mesothelioma, {'chunk': '8', 'confidence': '0.9967', 'ner_source': 'clinical_ner_chunk', 'entity': 'PROBLEM', 'sentence': '1'}, []),\n Annotation(chunk, 340, 355, Pleural effusion, {'chunk': '9', 'confidence': '0.97895', 'ner_source': 'clinical_ner_chunk', 'entity': 'PROBLEM', 'sentence': '2'}, []),\n Annotation(chunk, 358, 376, atrial fibrillation, {'chunk': '10', 'confidence': '0.99475', 'ner_source': 'clinical_ner_chunk', 'entity': 'PROBLEM', 'sentence': '2'}, []),\n Annotation(chunk, 379, 384, anemia, {'chunk': '11', 'confidence': '0.9984', 'ner_source': 'clinical_ner_chunk', 'entity': 'PROBLEM', 'sentence': '2'}, []),\n Annotation(chunk, 387, 393, ascites, {'chunk': '12', 'confidence': '0.9994', 'ner_source': 'clinical_ner_chunk', 'entity': 'PROBLEM', 'sentence': '2'}, []),\n Annotation(chunk, 396, 412, esophageal reflux, {'chunk': '13', 'confidence': '0.99724996', 'ner_source': 'clinical_ner_chunk', 'entity': 'PROBLEM', 'sentence': '2'}, []),\n Annotation(chunk, 430, 451, deep venous thrombosis, {'chunk': '14', 'confidence': '0.9550001', 'ner_source': 'clinical_ner_chunk', 'entity': 'PROBLEM', 'sentence': '2'}, []),\n Annotation(chunk, 722, 742, a nonproductive cough, {'chunk': '15', 'confidence': '0.96173334', 'ner_source': 'clinical_ner_chunk', 'entity': 'PROBLEM', 'sentence': '7'}, []),\n Annotation(chunk, 780, 801, right-sided chest pain, {'chunk': '16', 'confidence': '0.97246665', 'ner_source': 'clinical_ner_chunk', 'entity': 'PROBLEM', 'sentence': '8'}, []),\n Annotation(chunk, 830, 834, fever, {'chunk': '17', 'confidence': '0.9998', 'ner_source': 'clinical_ner_chunk', 'entity': 'PROBLEM', 'sentence': '8'}, []),\n Annotation(chunk, 877, 888, pericarditis, {'chunk': '18', 'confidence': '0.9228', 'ner_source': 'clinical_ner_chunk', 'entity': 'PROBLEM', 'sentence': '9'}, []),\n Annotation(chunk, 935, 939, cough, {'chunk': '19', 'confidence': '0.9977', 'ner_source': 'clinical_ner_chunk', 'entity': 'PROBLEM', 'sentence': '9'}, []),\n Annotation(chunk, 946, 967, right-sided chest pain, {'chunk': '20', 'confidence': '0.9766', 'ner_source': 'clinical_ner_chunk', 'entity': 'PROBLEM', 'sentence': '9'}, []),\n Annotation(chunk, 1026, 1053, right-sided pleural effusion, {'chunk': '21', 'confidence': '0.9479', 'ner_source': 'clinical_ner_chunk', 'entity': 'PROBLEM', 'sentence': '10'}, []),\n Annotation(chunk, 1099, 1110, Pericarditis, {'chunk': '22', 'confidence': '0.9861', 'ner_source': 'clinical_ner_chunk', 'entity': 'PROBLEM', 'sentence': '13'}, []),\n Annotation(chunk, 1116, 1134, Atrial fibrillation, {'chunk': '23', 'confidence': '0.9803', 'ner_source': 'clinical_ner_chunk', 'entity': 'PROBLEM', 'sentence': '14'}, []),\n Annotation(chunk, 1204, 1231, Mesenteric venous thrombosis, {'chunk': '24', 'confidence': '0.9354334', 'ner_source': 'clinical_ner_chunk', 'entity': 'PROBLEM', 'sentence': '17'}, []),\n Annotation(chunk, 1337, 1359, coronary artery disease, {'chunk': '25', 'confidence': '0.9825001', 'ner_source': 'clinical_ner_chunk', 'entity': 'PROBLEM', 'sentence': '21'}, []),\n Annotation(chunk, 1362, 1364, CVA, {'chunk': '26', 'confidence': '0.9996', 'ner_source': 'clinical_ner_chunk', 'entity': 'PROBLEM', 'sentence': '21'}, []),\n Annotation(chunk, 1367, 1374, diabetes, {'chunk': '27', 'confidence': '0.9993', 'ner_source': 'clinical_ner_chunk', 'entity': 'PROBLEM', 'sentence': '21'}, []),\n Annotation(chunk, 1377, 1379, CHF, {'chunk': '28', 'confidence': '0.9997', 'ner_source': 'clinical_ner_chunk', 'entity': 'PROBLEM', 'sentence': '21'}, []),\n Annotation(chunk, 1384, 1385, MI, {'chunk': '29', 'confidence': '0.9996', 'ner_source': 'clinical_ner_chunk', 'entity': 'PROBLEM', 'sentence': '21'}, []),\n Annotation(chunk, 1449, 1454, cancer, {'chunk': '30', 'confidence': '0.9749', 'ner_source': 'clinical_ner_chunk', 'entity': 'PROBLEM', 'sentence': '22'}, []),\n Annotation(chunk, 1845, 1863, occasional numbness, {'chunk': '31', 'confidence': '0.95554996', 'ner_source': 'clinical_ner_chunk', 'entity': 'PROBLEM', 'sentence': '32'}, []),\n Annotation(chunk, 1869, 1892, tingling of her left arm, {'chunk': '32', 'confidence': '0.77458', 'ner_source': 'clinical_ner_chunk', 'entity': 'PROBLEM', 'sentence': '32'}, []),\n Annotation(chunk, 2045, 2063, nonproductive cough, {'chunk': '33', 'confidence': '0.83985', 'ner_source': 'clinical_ner_chunk', 'entity': 'PROBLEM', 'sentence': '34'}, []),\n Annotation(chunk, 2069, 2072, pain, {'chunk': '34', 'confidence': '0.9951', 'ner_source': 'clinical_ner_chunk', 'entity': 'PROBLEM', 'sentence': '34'}, []),\n Annotation(chunk, 2079, 2086, coughing, {'chunk': '35', 'confidence': '0.9568', 'ner_source': 'clinical_ner_chunk', 'entity': 'PROBLEM', 'sentence': '34'}, []),\n Annotation(chunk, 2201, 2215, lymphadenopathy, {'chunk': '36', 'confidence': '0.9988', 'ner_source': 'clinical_ner_chunk', 'entity': 'PROBLEM', 'sentence': '38'}, []),\n Annotation(chunk, 2221, 2226, masses, {'chunk': '37', 'confidence': '0.9995', 'ner_source': 'clinical_ner_chunk', 'entity': 'PROBLEM', 'sentence': '39'}, []),\n Annotation(chunk, 2242, 2261, Pleural friction rub, {'chunk': '38', 'confidence': '0.89523333', 'ner_source': 'clinical_ner_chunk', 'entity': 'PROBLEM', 'sentence': '40'}, []),\n Annotation(chunk, 2283, 2294, nondistended, {'chunk': '39', 'confidence': '0.9994', 'ner_source': 'clinical_ner_chunk', 'entity': 'PROBLEM', 'sentence': '41'}, []),\n Annotation(chunk, 2301, 2309, nontender, {'chunk': '40', 'confidence': '0.9991', 'ner_source': 'clinical_ner_chunk', 'entity': 'PROBLEM', 'sentence': '41'}, []),\n Annotation(chunk, 2338, 2349, organomegaly, {'chunk': '41', 'confidence': '0.9977', 'ner_source': 'clinical_ner_chunk', 'entity': 'PROBLEM', 'sentence': '43'}, []),\n Annotation(chunk, 2368, 2372, edema, {'chunk': '42', 'confidence': '0.9985', 'ner_source': 'clinical_ner_chunk', 'entity': 'PROBLEM', 'sentence': '44'}, []),\n Annotation(chunk, 2378, 2385, clubbing, {'chunk': '43', 'confidence': '0.9961', 'ner_source': 'clinical_ner_chunk', 'entity': 'PROBLEM', 'sentence': '44'}, []),\n Annotation(chunk, 2391, 2398, cyanosis, {'chunk': '44', 'confidence': '0.9984', 'ner_source': 'clinical_ner_chunk', 'entity': 'PROBLEM', 'sentence': '44'}, []),\n Annotation(chunk, 2404, 2413, tenderness, {'chunk': '45', 'confidence': '0.9995', 'ner_source': 'clinical_ner_chunk', 'entity': 'PROBLEM', 'sentence': '44'}, []),\n Annotation(chunk, 2481, 2489, breakdown, {'chunk': '46', 'confidence': '0.9982', 'ner_source': 'clinical_ner_chunk', 'entity': 'PROBLEM', 'sentence': '47'}, []),\n Annotation(chunk, 2494, 2500, lesions, {'chunk': '47', 'confidence': '0.9937', 'ner_source': 'clinical_ner_chunk', 'entity': 'PROBLEM', 'sentence': '47'}, []),\n Annotation(chunk, 2506, 2511, ulcers, {'chunk': '48', 'confidence': '0.9985', 'ner_source': 'clinical_ner_chunk', 'entity': 'PROBLEM', 'sentence': '48'}, []),\n Annotation(chunk, 2545, 2558, focal deficits, {'chunk': '49', 'confidence': '0.93095005', 'ner_source': 'clinical_ner_chunk', 'entity': 'PROBLEM', 'sentence': '50'}, []),\n Annotation(chunk, 2697, 2726, a right-sided pleural effusion, {'chunk': '50', 'confidence': '0.72845', 'ner_source': 'clinical_ner_chunk', 'entity': 'PROBLEM', 'sentence': '53'}, []),\n Annotation(chunk, 2871, 2873, DVT, {'chunk': '51', 'confidence': '0.9983', 'ner_source': 'clinical_ner_chunk', 'entity': 'PROBLEM', 'sentence': '55'}, []),\n Annotation(chunk, 3003, 3014, pericarditis, {'chunk': '52', 'confidence': '0.8911', 'ner_source': 'clinical_ner_chunk', 'entity': 'PROBLEM', 'sentence': '56'}, []),\n Annotation(chunk, 3123, 3137, mesenteric pain, {'chunk': '53', 'confidence': '0.9893', 'ner_source': 'clinical_ner_chunk', 'entity': 'PROBLEM', 'sentence': '56'}, []),\n Annotation(chunk, 3143, 3152, thrombosis, {'chunk': '54', 'confidence': '0.9983', 'ner_source': 'clinical_ner_chunk', 'entity': 'PROBLEM', 'sentence': '56'}, []),\n Annotation(chunk, 3408, 3433, bilateral plural effusions, {'chunk': '55', 'confidence': '0.9345667', 'ner_source': 'clinical_ner_chunk', 'entity': 'PROBLEM', 'sentence': '57'}, []),\n Annotation(chunk, 3512, 3523, her symptoms, {'chunk': '56', 'confidence': '0.9017', 'ner_source': 'clinical_ner_chunk', 'entity': 'PROBLEM', 'sentence': '58'}, []),\n Annotation(chunk, 3576, 3585, chest pain, {'chunk': '57', 'confidence': '0.9956', 'ner_source': 'clinical_ner_chunk', 'entity': 'PROBLEM', 'sentence': '59'}, []),\n Annotation(chunk, 3605, 3630, bilateral pleural effusion, {'chunk': '58', 'confidence': '0.9514', 'ner_source': 'clinical_ner_chunk', 'entity': 'PROBLEM', 'sentence': '59'}, []),\n Annotation(chunk, 3696, 3725, a large mediastinal lymph node, {'chunk': '59', 'confidence': '0.8369201', 'ner_source': 'clinical_ner_chunk', 'entity': 'PROBLEM', 'sentence': '60'}, []),\n Annotation(chunk, 3826, 3837, mesothelioma, {'chunk': '60', 'confidence': '0.961', 'ner_source': 'clinical_ner_chunk', 'entity': 'PROBLEM', 'sentence': '61'}, []),\n Annotation(chunk, 3879, 3899, drainage of the fluid, {'chunk': '61', 'confidence': '0.7372', 'ner_source': 'clinical_ner_chunk', 'entity': 'PROBLEM', 'sentence': '62'}, []),\n Annotation(chunk, 3985, 4018, epithelioid malignant mesothelioma, {'chunk': '62', 'confidence': '0.97339994', 'ner_source': 'clinical_ner_chunk', 'entity': 'PROBLEM', 'sentence': '62'}, []),\n Annotation(chunk, 4078, 4106, extensive uptake in the chest, {'chunk': '63', 'confidence': '0.90375996', 'ner_source': 'clinical_ner_chunk', 'entity': 'PROBLEM', 'sentence': '63'}, []),\n Annotation(chunk, 4109, 4147, bilateral pleural pericardial effusions, {'chunk': '64', 'confidence': '0.96755', 'ner_source': 'clinical_ner_chunk', 'entity': 'PROBLEM', 'sentence': '63'}, []),\n Annotation(chunk, 4154, 4168, lymphadenopathy, {'chunk': '65', 'confidence': '0.9956', 'ner_source': 'clinical_ner_chunk', 'entity': 'PROBLEM', 'sentence': '63'}, []),\n Annotation(chunk, 4184, 4195, acidic fluid, {'chunk': '66', 'confidence': '0.98345', 'ner_source': 'clinical_ner_chunk', 'entity': 'PROBLEM', 'sentence': '64'}, []),\n Annotation(chunk, 4198, 4234, pectoral and intramammary lymph nodes, {'chunk': '67', 'confidence': '0.77232', 'ner_source': 'clinical_ner_chunk', 'entity': 'PROBLEM', 'sentence': '64'}, []),\n Annotation(chunk, 4240, 4251, uptake in L4, {'chunk': '68', 'confidence': '0.74363333', 'ner_source': 'clinical_ner_chunk', 'entity': 'PROBLEM', 'sentence': '64'}, []),\n Annotation(chunk, 4293, 4309, stage III disease, {'chunk': '69', 'confidence': '0.8791', 'ner_source': 'clinical_ner_chunk', 'entity': 'PROBLEM', 'sentence': '65'}, []),\n Annotation(chunk, 5201, 5212, mesothelioma, {'chunk': '70', 'confidence': '0.9981', 'ner_source': 'clinical_ner_chunk', 'entity': 'PROBLEM', 'sentence': '73'}, []),\n Annotation(chunk, 5215, 5230, pleural effusion, {'chunk': '71', 'confidence': '0.98370004', 'ner_source': 'clinical_ner_chunk', 'entity': 'PROBLEM', 'sentence': '73'}, []),\n Annotation(chunk, 5233, 5251, atrial fibrillation, {'chunk': '72', 'confidence': '0.9953', 'ner_source': 'clinical_ner_chunk', 'entity': 'PROBLEM', 'sentence': '73'}, []),\n Annotation(chunk, 5254, 5259, anemia, {'chunk': '73', 'confidence': '0.9981', 'ner_source': 'clinical_ner_chunk', 'entity': 'PROBLEM', 'sentence': '73'}, []),\n Annotation(chunk, 5262, 5268, ascites, {'chunk': '74', 'confidence': '0.999', 'ner_source': 'clinical_ner_chunk', 'entity': 'PROBLEM', 'sentence': '73'}, []),\n Annotation(chunk, 5271, 5287, esophageal reflux, {'chunk': '75', 'confidence': '0.9963', 'ner_source': 'clinical_ner_chunk', 'entity': 'PROBLEM', 'sentence': '73'}, []),\n Annotation(chunk, 5290, 5311, deep venous thrombosis, {'chunk': '76', 'confidence': '0.98296666', 'ner_source': 'clinical_ner_chunk', 'entity': 'PROBLEM', 'sentence': '73'}, []),\n Annotation(chunk, 5364, 5380, venous thrombosis, {'chunk': '77', 'confidence': '0.90615', 'ner_source': 'clinical_ner_chunk', 'entity': 'PROBLEM', 'sentence': '73'}, []),\n Annotation(chunk, 5383, 5388, atrial, {'chunk': '78', 'confidence': '0.6133', 'ner_source': 'clinical_ner_chunk', 'entity': 'PROBLEM', 'sentence': '73'}, []),\n Annotation(chunk, 5391, 5400, thrombosis, {'chunk': '79', 'confidence': '0.9317', 'ner_source': 'clinical_ner_chunk', 'entity': 'PROBLEM', 'sentence': '73'}, []),\n Annotation(chunk, 5416, 5430, lymphadenopathy, {'chunk': '80', 'confidence': '0.8981', 'ner_source': 'clinical_ner_chunk', 'entity': 'PROBLEM', 'sentence': '73'}, []),\n Annotation(chunk, 5433, 5437, fluid, {'chunk': '81', 'confidence': '0.6176', 'ner_source': 'clinical_ner_chunk', 'entity': 'PROBLEM', 'sentence': '73'}, []),\n Annotation(chunk, 5456, 5469, chest, pleural, {'chunk': '82', 'confidence': '0.7570999', 'ner_source': 'clinical_ner_chunk', 'entity': 'PROBLEM', 'sentence': '73'}, [])]"
     ]
    }
   ],
   "source": [
    "result[0]['clinical_ner_chunk']"
   ]
  },
  {
   "cell_type": "code",
   "execution_count": 0,
   "metadata": {
    "application/vnd.databricks.v1+cell": {
     "cellMetadata": {
      "byteLimit": 2048000,
      "rowLimit": 10000
     },
     "inputWidgets": {},
     "nuid": "bdcd8703-130d-4b4b-a27b-b8096a272278",
     "showTitle": false,
     "title": ""
    },
    "execution": {
     "iopub.execute_input": "2024-02-15T12:21:34.683715Z",
     "iopub.status.busy": "2024-02-15T12:21:34.683261Z",
     "iopub.status.idle": "2024-02-15T12:21:34.740297Z",
     "shell.execute_reply": "2024-02-15T12:21:34.739712Z",
     "shell.execute_reply.started": "2024-02-15T12:21:34.683697Z"
    },
    "tags": []
   },
   "outputs": [
    {
     "output_type": "stream",
     "name": "stdout",
     "output_type": "stream",
     "text": [
      "Out[38]: [('Discharge', 68, 76, 'Admission_Discharge', '0.9993'),\n ('Mesothelioma', 88, 99, 'Oncological', '0.9353'),\n ('Description', 105, 115, 'Section_Header', '0.9998'),\n ('Mesothelioma', 118, 129, 'Oncological', '0.9906'),\n ('pleural effusion', 132, 147, 'Disease_Syndrome_Disorder', '0.78805'),\n ('atrial fibrillation', 150, 168, 'Heart_Disease', '0.97745'),\n ('anemia', 171, 176, 'Disease_Syndrome_Disorder', '0.9965'),\n ('ascites', 179, 185, 'Disease_Syndrome_Disorder', '0.9642'),\n ('esophageal reflux', 188, 204, 'Disease_Syndrome_Disorder', '0.74625003'),\n ('deep venous thrombosis',\n  222,\n  243,\n  'Disease_Syndrome_Disorder',\n  '0.45533335'),\n ('PRINCIPAL DIAGNOSIS', 284, 302, 'Section_Header', '0.91955'),\n ('Mesothelioma', 305, 316, 'Oncological', '0.9835'),\n ('SECONDARY DIAGNOSES', 319, 337, 'Section_Header', '0.9634'),\n ('Pleural effusion', 340, 355, 'Disease_Syndrome_Disorder', '0.8196'),\n ('atrial fibrillation', 358, 376, 'Heart_Disease', '0.98144996'),\n ('anemia', 379, 384, 'Disease_Syndrome_Disorder', '0.9963'),\n ('ascites', 387, 393, 'Disease_Syndrome_Disorder', '0.9576'),\n ('esophageal reflux', 396, 412, 'Disease_Syndrome_Disorder', '0.7619'),\n ('deep venous thrombosis',\n  430,\n  451,\n  'Disease_Syndrome_Disorder',\n  '0.47393334'),\n ('PROCEDURES', 454, 463, 'Section_Header', '0.9995'),\n ('August 24, 2007', 471, 485, 'Date', '0.5715'),\n ('decortication of the lung', 488, 512, 'Procedure', '0.555025'),\n ('pleural biopsy', 519, 532, 'Procedure', '0.68299997'),\n ('transpleural fluoroscopy', 538, 561, 'Procedure', '0.5298'),\n ('August 20, 2007', 570, 584, 'Date', '0.63695'),\n ('thoracentesis', 587, 599, 'Procedure', '0.9961'),\n ('August 31, 2007', 608, 622, 'Date', '0.59284997'),\n ('Port-A-Cath placement', 625, 645, 'Procedure', '0.86010003'),\n ('HISTORY AND PHYSICAL', 648, 667, 'Section_Header', '0.6406'),\n ('41-year-old', 687, 697, 'Age', '0.9997'),\n ('Vietnamese', 699, 708, 'Race_Ethnicity', '0.9852'),\n ('female', 710, 715, 'Gender', '0.9993'),\n ('nonproductive', 724, 736, 'Modifier', '0.978'),\n ('cough', 738, 742, 'Symptom', '0.9964'),\n ('last week', 757, 765, 'RelativeDate', '0.45200002'),\n ('She', 768, 770, 'Gender', '1.0'),\n ('right-sided', 780, 790, 'Direction', '0.961'),\n ('chest pain', 792, 801, 'Symptom', '0.7604'),\n ('radiating', 803, 811, 'Modifier', '0.9902'),\n ('her', 816, 818, 'Gender', '0.9469'),\n ('back', 820, 823, 'External_body_part_or_region', '0.7626'),\n ('fever', 830, 834, 'VS_Finding', '0.9973'),\n ('yesterday', 845, 853, 'RelativeDate', '0.9985'),\n ('She', 856, 858, 'Gender', '1.0'),\n ('pericarditis', 877, 888, 'Disease_Syndrome_Disorder', '0.9809'),\n ('pericardectomy', 894, 907, 'Procedure', '0.9969'),\n ('May 2006', 912, 919, 'Date', '0.87315'),\n ('cough', 935, 939, 'Symptom', '0.9981'),\n ('right-sided', 946, 956, 'Direction', '0.9695'),\n ('chest pain', 958, 967, 'Symptom', '0.7758'),\n ('urgent care center', 985, 1002, 'Clinical_Dept', '0.54286665'),\n ('Chest x-ray', 1005, 1015, 'Test', '0.8367'),\n ('right-sided', 1026, 1036, 'Direction', '0.9908'),\n ('pleural effusion', 1038, 1053, 'Disease_Syndrome_Disorder', '0.69860005'),\n ('PAST MEDICAL HISTORY', 1056, 1075, 'Medical_History_Header', '0.96620005'),\n ('Pericardectomy', 1080, 1093, 'Procedure', '0.9926'),\n ('Pericarditis', 1099, 1110, 'Disease_Syndrome_Disorder', '0.9739'),\n ('Atrial fibrillation', 1116, 1134, 'Heart_Disease', '0.94554996'),\n ('RNCA', 1140, 1143, 'Drug_Ingredient', '0.102'),\n ('intracranial thrombolytic treatment',\n  1150,\n  1184,\n  'Procedure',\n  '0.45233333'),\n ('PTA of MCA', 1189, 1198, 'Procedure', '0.39673337'),\n ('Mesenteric venous thrombosis',\n  1204,\n  1231,\n  'Disease_Syndrome_Disorder',\n  '0.49863335'),\n ('Pericardial', 1237, 1247, 'Internal_organ_or_component', '0.9815'),\n ('Cholecystectomy', 1260, 1274, 'Procedure', '0.9942'),\n ('Left', 1280, 1283, 'Direction', '0.9727'),\n ('thoracentesis', 1285, 1297, 'Procedure', '0.9453'),\n ('FAMILY HISTORY', 1300, 1313, 'Family_History_Header', '0.9994'),\n ('coronary artery disease', 1337, 1359, 'Heart_Disease', '0.65173334'),\n ('CVA', 1362, 1364, 'Cerebrovascular_Disease', '0.9995'),\n ('diabetes', 1367, 1374, 'Diabetes', '0.9939'),\n ('CHF', 1377, 1379, 'Heart_Disease', '0.9964'),\n ('MI', 1384, 1385, 'Heart_Disease', '0.9861'),\n ('sister', 1425, 1430, 'Gender', '0.9577'),\n ('cancer', 1449, 1454, 'Oncological', '0.9815'),\n ('SOCIAL HISTORY', 1457, 1470, 'Social_History_Header', '0.99179995'),\n ('She', 1473, 1475, 'Gender', '0.9997'),\n ('married', 1480, 1486, 'Relationship_Status', '1.0'),\n ('US', 1507, 1508, 'Clinical_Dept', '0.8139'),\n ('She', 1523, 1525, 'Gender', '1.0'),\n ('mother', 1532, 1537, 'Gender', '0.983'),\n ('tobacco', 1556, 1562, 'Smoking', '0.9997'),\n ('alcohol', 1565, 1571, 'Alcohol', '0.9999'),\n ('illicit drug', 1576, 1587, 'Substance', '0.64250004'),\n ('MEDICATIONS', 1594, 1604, 'Section_Header', '0.9976'),\n ('Coumadin', 1609, 1616, 'Drug_BrandName', '0.9925'),\n ('1 mg', 1618, 1621, 'Strength', '0.90695'),\n ('daily', 1623, 1627, 'Frequency', '0.9972'),\n ('INR', 1635, 1637, 'Test', '0.9949'),\n ('Tuesday', 1646, 1652, 'RelativeDate', '0.4618'),\n ('August 14, 2007', 1655, 1669, 'Date', '0.6724'),\n ('her', 1676, 1678, 'Gender', '0.9941'),\n ('INR', 1680, 1682, 'Test', '0.9986'),\n ('2.3', 1688, 1690, 'Test_Result', '0.9187'),\n ('Amiodarone', 1696, 1705, 'Drug_Ingredient', '0.9978'),\n ('100 mg', 1707, 1712, 'Strength', '0.9056'),\n ('p.o', 1714, 1716, 'Route', '0.9984'),\n ('daily', 1719, 1723, 'Frequency', '0.7'),\n ('REVIEW OF SYSTEMS', 1726, 1742, 'Section_Header', '0.8228'),\n ('pulmonary', 1794, 1802, 'Internal_organ_or_component', '0.3338'),\n ('occasional', 1845, 1854, 'Modifier', '0.9865'),\n ('numbness', 1856, 1863, 'Symptom', '0.9981'),\n ('tingling', 1869, 1876, 'Symptom', '0.9998'),\n ('her', 1881, 1883, 'Gender', '0.5999'),\n ('left', 1885, 1888, 'Direction', '0.5026'),\n ('arm', 1890, 1892, 'External_body_part_or_region', '0.3558'),\n ('PHYSICAL EXAMINATION', 1895, 1914, 'Vital_Signs_Header', '0.96134996'),\n ('VITAL SIGNS', 1916, 1926, 'Vital_Signs_Header', '0.91735005'),\n ('Blood pressure 123/95', 1929, 1949, 'Blood_Pressure', '0.74430007'),\n ('heart rate 83', 1952, 1964, 'Pulse', '0.8529666'),\n ('respirations 20', 1967, 1981, 'Respiration', '0.9332'),\n ('temperature 97', 1984, 1997, 'Temperature', '0.8921'),\n ('oxygen saturation 97%', 2004, 2024, 'O2_Saturation', '0.74536663'),\n ('nonproductive', 2045, 2057, 'Modifier', '0.8756'),\n ('cough', 2059, 2063, 'Symptom', '0.9924'),\n ('pain', 2069, 2072, 'Symptom', '0.9998'),\n ('coughing', 2079, 2086, 'Symptom', '0.997'),\n ('Pupils', 2096, 2101, 'External_body_part_or_region', '0.9798'),\n ('Tympanic membranes', 2154, 2171, 'Internal_organ_or_component', '0.9164'),\n ('lymphadenopathy', 2201, 2215, 'Symptom', '0.9996'),\n ('masses', 2221, 2226, 'Symptom', '0.9986'),\n ('Pleural friction rub', 2242, 2261, 'Symptom', '0.41066667'),\n ('nondistended', 2283, 2294, 'Symptom', '0.99'),\n ('nontender', 2301, 2309, 'Symptom', '0.999'),\n ('bowel', 2321, 2325, 'Internal_organ_or_component', '0.9971'),\n ('organomegaly', 2338, 2349, 'Symptom', '0.9993'),\n ('edema', 2368, 2372, 'Symptom', '0.9989'),\n ('clubbing', 2378, 2385, 'Symptom', '0.9995'),\n ('cyanosis', 2391, 2398, 'VS_Finding', '0.9526'),\n ('tenderness', 2404, 2413, 'Symptom', '0.999'),\n ('extremities', 2459, 2469, 'External_body_part_or_region', '0.7368'),\n ('breakdown', 2481, 2489, 'Symptom', '0.9963'),\n ('lesions', 2494, 2500, 'Symptom', '0.9981'),\n ('ulcers', 2506, 2511, 'Symptom', '0.9494'),\n ('focal deficits', 2545, 2558, 'Symptom', '0.6749'),\n ('LABORATORY DATA', 2616, 2630, 'Section_Header', '0.96955'),\n ('HOSPITAL COURSE', 2651, 2665, 'Section_Header', '0.9602'),\n ('admitted', 2684, 2691, 'Admission_Discharge', '1.0'),\n ('right-sided', 2699, 2709, 'Direction', '0.9943'),\n ('pleural effusion', 2711, 2726, 'Disease_Syndrome_Disorder', '0.7446'),\n ('thoracentesis', 2732, 2744, 'Procedure', '0.9935'),\n ('Monday', 2749, 2754, 'RelativeDate', '0.7925'),\n ('Her', 2766, 2768, 'Gender', '0.9995'),\n ('Coumadin', 2770, 2777, 'Drug_BrandName', '0.9986'),\n ('echocardiogram', 2808, 2821, 'Test', '0.9972'),\n ('She', 2836, 2838, 'Gender', '1.0'),\n ('DVT', 2871, 2873, 'Disease_Syndrome_Disorder', '0.939'),\n ('Lovenox', 2880, 2886, 'Drug_BrandName', '0.9927'),\n ('40 mg', 2888, 2892, 'Strength', '0.9546'),\n ('subcutaneously', 2894, 2907, 'Route', '0.9998'),\n ('Her', 2910, 2912, 'Gender', '0.9999'),\n ('March 2005', 2936, 2945, 'Date', '0.8641'),\n ('she', 2952, 2954, 'Gender', '0.9955'),\n ('pericarditis', 3003, 3014, 'Disease_Syndrome_Disorder', '0.9838'),\n ('pericardial window', 3040, 3057, 'Procedure', '0.4712'),\n ('hospital', 3073, 3080, 'Clinical_Dept', '0.9217'),\n ('she', 3096, 3098, 'Gender', '0.9989'),\n ('mesenteric pain', 3123, 3137, 'Symptom', '0.80015'),\n ('thrombosis', 3143, 3152, 'Disease_Syndrome_Disorder', '0.9508'),\n ('anticoagulated', 3162, 3175, 'Drug_Ingredient', '0.9254'),\n ('Her', 3178, 3180, 'Gender', '0.9993'),\n ('pericardial fluid', 3182, 3198, 'Internal_organ_or_component', '0.448'),\n ('she', 3220, 3222, 'Gender', '0.9993'),\n ('she', 3257, 3259, 'Gender', '0.9994'),\n ('pericardectomy', 3281, 3294, 'Procedure', '0.9357'),\n ('her', 3337, 3339, 'Gender', '0.991'),\n ('CT scan', 3341, 3347, 'Test', '0.82705'),\n ('March 2006', 3354, 3363, 'Date', '0.75885'),\n ('her', 3374, 3376, 'Gender', '0.9828'),\n ('pericardectomy', 3378, 3391, 'Procedure', '0.9814'),\n ('bilateral', 3408, 3416, 'Direction', '0.9828'),\n ('plural effusions', 3418, 3433, 'Disease_Syndrome_Disorder', '0.31505'),\n ('pericardectomy', 3478, 3491, 'Procedure', '0.9844'),\n ('her', 3512, 3514, 'Gender', '0.9447'),\n ('she', 3536, 3538, 'Gender', '0.9991'),\n ('readmitted', 3544, 3553, 'Admission_Discharge', '1.0'),\n ('hospital', 3562, 3569, 'Clinical_Dept', '0.9888'),\n ('chest pain', 3576, 3585, 'Symptom', '0.6991'),\n ('bilateral', 3605, 3613, 'Direction', '0.9974'),\n ('pleural effusion', 3615, 3630, 'Disease_Syndrome_Disorder', '0.80015004'),\n ('right', 3637, 3641, 'Direction', '0.9059'),\n ('greater', 3643, 3649, 'Modifier', '0.7474'),\n ('left', 3660, 3663, 'Direction', '0.9809'),\n ('CT of the chest', 3666, 3680, 'Test', '0.498725'),\n ('large mediastinal lymph node', 3698, 3725, 'Symptom', '0.24954998'),\n ('pathology', 3744, 3752, 'Clinical_Dept', '0.9776'),\n ('pericardectomy', 3772, 3785, 'Procedure', '0.9853'),\n ('March 2006', 3790, 3799, 'Date', '0.9045'),\n ('mesothelioma', 3826, 3837, 'Oncological', '0.9339'),\n ('chest tube placement', 3854, 3873, 'Procedure', '0.5127333'),\n ('drainage of the fluid', 3879, 3899, 'Symptom', '0.30287498'),\n ('thoracoscopy', 3914, 3925, 'Procedure', '0.9961'),\n ('fluid biopsies', 3932, 3945, 'Procedure', '0.86285'),\n ('epithelioid malignant mesothelioma',\n  3985,\n  4018,\n  'Oncological',\n  '0.67466664'),\n ('PET CT', 4057, 4062, 'Test', '0.69624996'),\n ('extensive uptake', 4078, 4093, 'ImagingFindings', '0.45735002'),\n ('chest', 4102, 4106, 'External_body_part_or_region', '0.6544'),\n ('bilateral', 4109, 4117, 'Direction', '0.9968'),\n ('pleural pericardial effusions',\n  4119,\n  4147,\n  'Disease_Syndrome_Disorder',\n  '0.36453333'),\n ('lymphadenopathy', 4154, 4168, 'Symptom', '0.9972'),\n ('She', 4171, 4173, 'Gender', '0.9999'),\n ('acidic fluid', 4184, 4195, 'Symptom', '0.2013'),\n ('pectoral', 4198, 4205, 'Internal_organ_or_component', '0.9672'),\n ('intramammary lymph nodes',\n  4211,\n  4234,\n  'Internal_organ_or_component',\n  '0.38193333'),\n ('L4', 4250, 4251, 'Internal_organ_or_component', '0.7635'),\n ('stage III disease', 4293, 4309, 'Disease_Syndrome_Disorder', '0.22223334'),\n ('Her', 4312, 4314, 'Gender', '0.9999'),\n ('echocardiogram', 4323, 4336, 'Test', '0.9972'),\n ('ejection fraction', 4348, 4364, 'Test', '0.6564'),\n ('45% to 49%', 4369, 4378, 'Test_Result', '0.3271'),\n ('She', 4381, 4383, 'Gender', '1.0'),\n ('Oncology service', 4404, 4419, 'Clinical_Dept', '0.81200004'),\n ('chemotherapy', 4436, 4447, 'Treatment', '0.9964'),\n ('September 1, 2007', 4452, 4468, 'Date', '0.6602'),\n ('cisplatin', 4475, 4483, 'Drug_Ingredient', '0.9798'),\n ('75 mg/centimeter', 4485, 4500, 'Strength', '0.5286'),\n ('109 mg', 4519, 4524, 'Strength', '0.7824'),\n ('IV', 4526, 4527, 'Route', '0.9983'),\n ('over 2 hours', 4539, 4550, 'Duration', '0.2892'),\n ('September 1, 2007', 4555, 4571, 'Date', '0.58'),\n ('Alimta', 4574, 4579, 'Drug_BrandName', '0.9174'),\n ('500 mg/', 4581, 4587, 'Strength', '0.8253'),\n ('730 mg', 4617, 4622, 'Strength', '0.82895'),\n ('IV', 4624, 4625, 'Route', '0.9987'),\n ('over 10 minutes', 4637, 4651, 'Duration', '0.51523334'),\n ('Port-A-Cath', 4685, 4695, 'Medical_Device', '0.9983'),\n ('chemotherapy', 4713, 4724, 'Treatment', '0.9988'),\n ('discharged', 4765, 4774, 'Admission_Discharge', '1.0'),\n ('the following day after', 4776, 4798, 'RelativeDate', '0.726175'),\n ('IV', 4814, 4815, 'Route', '0.999'),\n ('fluid', 4817, 4821, 'Drug_Ingredient', '0.8356'),\n ('IV', 4827, 4828, 'Route', '0.992'),\n ('Her', 4831, 4833, 'Gender', '1.0'),\n ('Port-A-Cath', 4835, 4845, 'Medical_Device', '0.9969'),\n ('heparin', 4863, 4869, 'Drug_Ingredient', '0.9891'),\n ('DISCHARGE MEDICATIONS', 4894, 4914, 'Section_Header', '0.96695'),\n ('Zofran', 4917, 4922, 'Drug_BrandName', '0.9995'),\n ('Phenergan', 4925, 4933, 'Drug_BrandName', '0.9965'),\n ('Coumadin', 4936, 4943, 'Drug_BrandName', '0.999'),\n ('Lovenox', 4950, 4956, 'Drug_BrandName', '0.9989'),\n ('Vicodin', 4963, 4969, 'Drug_BrandName', '0.984'),\n ('She', 4995, 4997, 'Gender', '0.9999'),\n ('her', 5062, 5064, 'Gender', '0.986'),\n ('INR', 5066, 5068, 'Test', '0.9942'),\n ('Tuesday', 5073, 5079, 'RelativeDate', '0.837'),\n ('She', 5082, 5084, 'Gender', '1.0'),\n ('she', 5112, 5114, 'Gender', '0.9977'),\n ('mesothelioma', 5201, 5212, 'Oncological', '0.9705'),\n ('pleural effusion', 5215, 5230, 'Disease_Syndrome_Disorder', '0.46245'),\n ('atrial fibrillation', 5233, 5251, 'Heart_Disease', '0.79515'),\n ('anemia', 5254, 5259, 'Disease_Syndrome_Disorder', '0.8942')]"
     ]
    }
   ],
   "source": [
    "[(x.result, x.begin, x.end, x.metadata['entity'], x.metadata['confidence']) for x in result[0]['jsl_ner_chunk']]"
   ]
  },
  {
   "cell_type": "code",
   "execution_count": 0,
   "metadata": {
    "application/vnd.databricks.v1+cell": {
     "cellMetadata": {
      "byteLimit": 2048000,
      "rowLimit": 10000
     },
     "inputWidgets": {},
     "nuid": "a7653aaa-3995-4f05-92b7-c4fcce8ca8ee",
     "showTitle": false,
     "title": ""
    },
    "execution": {
     "iopub.execute_input": "2024-02-15T12:23:33.128328Z",
     "iopub.status.busy": "2024-02-15T12:23:33.127903Z",
     "iopub.status.idle": "2024-02-15T12:24:09.767427Z",
     "shell.execute_reply": "2024-02-15T12:24:09.766821Z",
     "shell.execute_reply.started": "2024-02-15T12:23:33.128308Z"
    },
    "tags": []
   },
   "outputs": [
    {
     "output_type": "stream",
     "name": "stdout",
     "output_type": "stream",
     "text": [
      "Warning::Spark Session already created, some configs may not take.\nWarning::Spark Session already created, some configs may not take.\n"
     ]
    },
    {
     "output_type": "display_data",
     "data": {
      "text/html": [
       "<div>\n",
       "<style scoped>\n",
       "    .dataframe tbody tr th:only-of-type {\n",
       "        vertical-align: middle;\n",
       "    }\n",
       "\n",
       "    .dataframe tbody tr th {\n",
       "        vertical-align: top;\n",
       "    }\n",
       "\n",
       "    .dataframe thead th {\n",
       "        text-align: right;\n",
       "    }\n",
       "</style>\n",
       "<table border=\"1\" class=\"dataframe\">\n",
       "  <thead>\n",
       "    <tr style=\"text-align: right;\">\n",
       "      <th></th>\n",
       "      <th>entities_jsl_ner_chunk</th>\n",
       "      <th>entities_jsl_ner_chunk_begin</th>\n",
       "      <th>entities_jsl_ner_chunk_end</th>\n",
       "      <th>entities_jsl_ner_chunk_origin_sentence</th>\n",
       "      <th>entities_jsl_ner_chunk_class</th>\n",
       "      <th>entities_jsl_ner_chunk_confidence</th>\n",
       "    </tr>\n",
       "  </thead>\n",
       "  <tbody>\n",
       "    <tr>\n",
       "      <th>0</th>\n",
       "      <td>Discharge</td>\n",
       "      <td>68</td>\n",
       "      <td>76</td>\n",
       "      <td>0</td>\n",
       "      <td>Admission_Discharge</td>\n",
       "      <td>0.9993</td>\n",
       "    </tr>\n",
       "    <tr>\n",
       "      <th>0</th>\n",
       "      <td>Mesothelioma</td>\n",
       "      <td>88</td>\n",
       "      <td>99</td>\n",
       "      <td>0</td>\n",
       "      <td>Oncological</td>\n",
       "      <td>0.9353</td>\n",
       "    </tr>\n",
       "    <tr>\n",
       "      <th>0</th>\n",
       "      <td>Description</td>\n",
       "      <td>105</td>\n",
       "      <td>115</td>\n",
       "      <td>0</td>\n",
       "      <td>Section_Header</td>\n",
       "      <td>0.9998</td>\n",
       "    </tr>\n",
       "    <tr>\n",
       "      <th>0</th>\n",
       "      <td>Mesothelioma</td>\n",
       "      <td>118</td>\n",
       "      <td>129</td>\n",
       "      <td>0</td>\n",
       "      <td>Oncological</td>\n",
       "      <td>0.9906</td>\n",
       "    </tr>\n",
       "    <tr>\n",
       "      <th>0</th>\n",
       "      <td>pleural effusion</td>\n",
       "      <td>132</td>\n",
       "      <td>147</td>\n",
       "      <td>0</td>\n",
       "      <td>Disease_Syndrome_Disorder</td>\n",
       "      <td>0.78805</td>\n",
       "    </tr>\n",
       "    <tr>\n",
       "      <th>0</th>\n",
       "      <td>atrial fibrillation</td>\n",
       "      <td>150</td>\n",
       "      <td>168</td>\n",
       "      <td>0</td>\n",
       "      <td>Heart_Disease</td>\n",
       "      <td>0.97745</td>\n",
       "    </tr>\n",
       "    <tr>\n",
       "      <th>0</th>\n",
       "      <td>anemia</td>\n",
       "      <td>171</td>\n",
       "      <td>176</td>\n",
       "      <td>0</td>\n",
       "      <td>Disease_Syndrome_Disorder</td>\n",
       "      <td>0.9965</td>\n",
       "    </tr>\n",
       "    <tr>\n",
       "      <th>0</th>\n",
       "      <td>ascites</td>\n",
       "      <td>179</td>\n",
       "      <td>185</td>\n",
       "      <td>0</td>\n",
       "      <td>Disease_Syndrome_Disorder</td>\n",
       "      <td>0.9642</td>\n",
       "    </tr>\n",
       "    <tr>\n",
       "      <th>0</th>\n",
       "      <td>esophageal reflux</td>\n",
       "      <td>188</td>\n",
       "      <td>204</td>\n",
       "      <td>0</td>\n",
       "      <td>Disease_Syndrome_Disorder</td>\n",
       "      <td>0.74625003</td>\n",
       "    </tr>\n",
       "    <tr>\n",
       "      <th>0</th>\n",
       "      <td>deep venous thrombosis</td>\n",
       "      <td>222</td>\n",
       "      <td>243</td>\n",
       "      <td>0</td>\n",
       "      <td>Disease_Syndrome_Disorder</td>\n",
       "      <td>0.45533335</td>\n",
       "    </tr>\n",
       "    <tr>\n",
       "      <th>0</th>\n",
       "      <td>PRINCIPAL DIAGNOSIS</td>\n",
       "      <td>284</td>\n",
       "      <td>302</td>\n",
       "      <td>1</td>\n",
       "      <td>Section_Header</td>\n",
       "      <td>0.91955</td>\n",
       "    </tr>\n",
       "    <tr>\n",
       "      <th>0</th>\n",
       "      <td>Mesothelioma</td>\n",
       "      <td>305</td>\n",
       "      <td>316</td>\n",
       "      <td>1</td>\n",
       "      <td>Oncological</td>\n",
       "      <td>0.9835</td>\n",
       "    </tr>\n",
       "    <tr>\n",
       "      <th>0</th>\n",
       "      <td>SECONDARY DIAGNOSES</td>\n",
       "      <td>319</td>\n",
       "      <td>337</td>\n",
       "      <td>2</td>\n",
       "      <td>Section_Header</td>\n",
       "      <td>0.9634</td>\n",
       "    </tr>\n",
       "    <tr>\n",
       "      <th>0</th>\n",
       "      <td>Pleural effusion</td>\n",
       "      <td>340</td>\n",
       "      <td>355</td>\n",
       "      <td>2</td>\n",
       "      <td>Disease_Syndrome_Disorder</td>\n",
       "      <td>0.8196</td>\n",
       "    </tr>\n",
       "    <tr>\n",
       "      <th>0</th>\n",
       "      <td>atrial fibrillation</td>\n",
       "      <td>358</td>\n",
       "      <td>376</td>\n",
       "      <td>2</td>\n",
       "      <td>Heart_Disease</td>\n",
       "      <td>0.98144996</td>\n",
       "    </tr>\n",
       "    <tr>\n",
       "      <th>0</th>\n",
       "      <td>anemia</td>\n",
       "      <td>379</td>\n",
       "      <td>384</td>\n",
       "      <td>2</td>\n",
       "      <td>Disease_Syndrome_Disorder</td>\n",
       "      <td>0.9963</td>\n",
       "    </tr>\n",
       "    <tr>\n",
       "      <th>0</th>\n",
       "      <td>ascites</td>\n",
       "      <td>387</td>\n",
       "      <td>393</td>\n",
       "      <td>2</td>\n",
       "      <td>Disease_Syndrome_Disorder</td>\n",
       "      <td>0.9576</td>\n",
       "    </tr>\n",
       "    <tr>\n",
       "      <th>0</th>\n",
       "      <td>esophageal reflux</td>\n",
       "      <td>396</td>\n",
       "      <td>412</td>\n",
       "      <td>2</td>\n",
       "      <td>Disease_Syndrome_Disorder</td>\n",
       "      <td>0.7619</td>\n",
       "    </tr>\n",
       "    <tr>\n",
       "      <th>0</th>\n",
       "      <td>deep venous thrombosis</td>\n",
       "      <td>430</td>\n",
       "      <td>451</td>\n",
       "      <td>2</td>\n",
       "      <td>Disease_Syndrome_Disorder</td>\n",
       "      <td>0.47393334</td>\n",
       "    </tr>\n",
       "    <tr>\n",
       "      <th>0</th>\n",
       "      <td>PROCEDURES</td>\n",
       "      <td>454</td>\n",
       "      <td>463</td>\n",
       "      <td>3</td>\n",
       "      <td>Section_Header</td>\n",
       "      <td>0.9995</td>\n",
       "    </tr>\n",
       "  </tbody>\n",
       "</table>\n",
       "</div>"
      ]
     },
     "metadata": {
      "application/vnd.databricks.v1+output": {
       "addedWidgets": {},
       "arguments": {},
       "data": "<div>\n<style scoped>\n    .dataframe tbody tr th:only-of-type {\n        vertical-align: middle;\n    }\n\n    .dataframe tbody tr th {\n        vertical-align: top;\n    }\n\n    .dataframe thead th {\n        text-align: right;\n    }\n</style>\n<table border=\"1\" class=\"dataframe\">\n  <thead>\n    <tr style=\"text-align: right;\">\n      <th></th>\n      <th>entities_jsl_ner_chunk</th>\n      <th>entities_jsl_ner_chunk_begin</th>\n      <th>entities_jsl_ner_chunk_end</th>\n      <th>entities_jsl_ner_chunk_origin_sentence</th>\n      <th>entities_jsl_ner_chunk_class</th>\n      <th>entities_jsl_ner_chunk_confidence</th>\n    </tr>\n  </thead>\n  <tbody>\n    <tr>\n      <th>0</th>\n      <td>Discharge</td>\n      <td>68</td>\n      <td>76</td>\n      <td>0</td>\n      <td>Admission_Discharge</td>\n      <td>0.9993</td>\n    </tr>\n    <tr>\n      <th>0</th>\n      <td>Mesothelioma</td>\n      <td>88</td>\n      <td>99</td>\n      <td>0</td>\n      <td>Oncological</td>\n      <td>0.9353</td>\n    </tr>\n    <tr>\n      <th>0</th>\n      <td>Description</td>\n      <td>105</td>\n      <td>115</td>\n      <td>0</td>\n      <td>Section_Header</td>\n      <td>0.9998</td>\n    </tr>\n    <tr>\n      <th>0</th>\n      <td>Mesothelioma</td>\n      <td>118</td>\n      <td>129</td>\n      <td>0</td>\n      <td>Oncological</td>\n      <td>0.9906</td>\n    </tr>\n    <tr>\n      <th>0</th>\n      <td>pleural effusion</td>\n      <td>132</td>\n      <td>147</td>\n      <td>0</td>\n      <td>Disease_Syndrome_Disorder</td>\n      <td>0.78805</td>\n    </tr>\n    <tr>\n      <th>0</th>\n      <td>atrial fibrillation</td>\n      <td>150</td>\n      <td>168</td>\n      <td>0</td>\n      <td>Heart_Disease</td>\n      <td>0.97745</td>\n    </tr>\n    <tr>\n      <th>0</th>\n      <td>anemia</td>\n      <td>171</td>\n      <td>176</td>\n      <td>0</td>\n      <td>Disease_Syndrome_Disorder</td>\n      <td>0.9965</td>\n    </tr>\n    <tr>\n      <th>0</th>\n      <td>ascites</td>\n      <td>179</td>\n      <td>185</td>\n      <td>0</td>\n      <td>Disease_Syndrome_Disorder</td>\n      <td>0.9642</td>\n    </tr>\n    <tr>\n      <th>0</th>\n      <td>esophageal reflux</td>\n      <td>188</td>\n      <td>204</td>\n      <td>0</td>\n      <td>Disease_Syndrome_Disorder</td>\n      <td>0.74625003</td>\n    </tr>\n    <tr>\n      <th>0</th>\n      <td>deep venous thrombosis</td>\n      <td>222</td>\n      <td>243</td>\n      <td>0</td>\n      <td>Disease_Syndrome_Disorder</td>\n      <td>0.45533335</td>\n    </tr>\n    <tr>\n      <th>0</th>\n      <td>PRINCIPAL DIAGNOSIS</td>\n      <td>284</td>\n      <td>302</td>\n      <td>1</td>\n      <td>Section_Header</td>\n      <td>0.91955</td>\n    </tr>\n    <tr>\n      <th>0</th>\n      <td>Mesothelioma</td>\n      <td>305</td>\n      <td>316</td>\n      <td>1</td>\n      <td>Oncological</td>\n      <td>0.9835</td>\n    </tr>\n    <tr>\n      <th>0</th>\n      <td>SECONDARY DIAGNOSES</td>\n      <td>319</td>\n      <td>337</td>\n      <td>2</td>\n      <td>Section_Header</td>\n      <td>0.9634</td>\n    </tr>\n    <tr>\n      <th>0</th>\n      <td>Pleural effusion</td>\n      <td>340</td>\n      <td>355</td>\n      <td>2</td>\n      <td>Disease_Syndrome_Disorder</td>\n      <td>0.8196</td>\n    </tr>\n    <tr>\n      <th>0</th>\n      <td>atrial fibrillation</td>\n      <td>358</td>\n      <td>376</td>\n      <td>2</td>\n      <td>Heart_Disease</td>\n      <td>0.98144996</td>\n    </tr>\n    <tr>\n      <th>0</th>\n      <td>anemia</td>\n      <td>379</td>\n      <td>384</td>\n      <td>2</td>\n      <td>Disease_Syndrome_Disorder</td>\n      <td>0.9963</td>\n    </tr>\n    <tr>\n      <th>0</th>\n      <td>ascites</td>\n      <td>387</td>\n      <td>393</td>\n      <td>2</td>\n      <td>Disease_Syndrome_Disorder</td>\n      <td>0.9576</td>\n    </tr>\n    <tr>\n      <th>0</th>\n      <td>esophageal reflux</td>\n      <td>396</td>\n      <td>412</td>\n      <td>2</td>\n      <td>Disease_Syndrome_Disorder</td>\n      <td>0.7619</td>\n    </tr>\n    <tr>\n      <th>0</th>\n      <td>deep venous thrombosis</td>\n      <td>430</td>\n      <td>451</td>\n      <td>2</td>\n      <td>Disease_Syndrome_Disorder</td>\n      <td>0.47393334</td>\n    </tr>\n    <tr>\n      <th>0</th>\n      <td>PROCEDURES</td>\n      <td>454</td>\n      <td>463</td>\n      <td>3</td>\n      <td>Section_Header</td>\n      <td>0.9995</td>\n    </tr>\n  </tbody>\n</table>\n</div>",
       "datasetInfos": [],
       "metadata": {},
       "removedWidgets": [],
       "textData": null,
       "type": "htmlSandbox"
      }
     },
     "output_type": "display_data"
    }
   ],
   "source": [
    "cols = [\n",
    "     'entities_jsl_ner_chunk',\n",
    "     'entities_jsl_ner_chunk_begin',\n",
    "     'entities_jsl_ner_chunk_end',\n",
    "     'entities_jsl_ner_chunk_origin_sentence',\n",
    "     'entities_jsl_ner_chunk_class',\n",
    "    'entities_jsl_ner_chunk_confidence'\n",
    "]\n",
    "df_clinical = nlp.nlu.to_pretty_df(model, note, positions=True, output_level='chunk')[cols].dropna()\n",
    "df_clinical.head(20)"
   ]
  },
  {
   "cell_type": "code",
   "execution_count": 0,
   "metadata": {
    "application/vnd.databricks.v1+cell": {
     "cellMetadata": {
      "byteLimit": 2048000,
      "rowLimit": 10000
     },
     "inputWidgets": {},
     "nuid": "86d8c612-7b8e-45f3-9163-fb1b23ebb191",
     "showTitle": false,
     "title": ""
    },
    "execution": {
     "iopub.execute_input": "2024-02-15T12:26:28.498554Z",
     "iopub.status.busy": "2024-02-15T12:26:28.497992Z",
     "iopub.status.idle": "2024-02-15T12:26:28.501730Z",
     "shell.execute_reply": "2024-02-15T12:26:28.501139Z",
     "shell.execute_reply.started": "2024-02-15T12:26:28.498533Z"
    },
    "tags": []
   },
   "outputs": [
    {
     "output_type": "stream",
     "name": "stdout",
     "output_type": "stream",
     "text": [
      "FAMILY HISTORY:\nNo family history of coronary artery disease, CVA, diabetes, CHF or MI. The patient has one family member, a sister, with history of cancer.\n"
     ]
    }
   ],
   "source": [
    "split =  sample_split_df.iloc[7,2][0]\n",
    "print (split) "
   ]
  },
  {
   "cell_type": "code",
   "execution_count": 0,
   "metadata": {
    "application/vnd.databricks.v1+cell": {
     "cellMetadata": {
      "byteLimit": 2048000,
      "rowLimit": 10000
     },
     "inputWidgets": {},
     "nuid": "976e278b-58d2-4687-9f92-a084db47a81d",
     "showTitle": false,
     "title": ""
    },
    "execution": {
     "iopub.execute_input": "2024-02-15T12:26:38.215871Z",
     "iopub.status.busy": "2024-02-15T12:26:38.215533Z",
     "iopub.status.idle": "2024-02-15T12:26:40.275430Z",
     "shell.execute_reply": "2024-02-15T12:26:40.274820Z",
     "shell.execute_reply.started": "2024-02-15T12:26:38.215852Z"
    },
    "tags": []
   },
   "outputs": [
    {
     "output_type": "stream",
     "name": "stdout",
     "output_type": "stream",
     "text": [
      "Warning::Spark Session already created, some configs may not take.\nWarning::Spark Session already created, some configs may not take.\n"
     ]
    },
    {
     "output_type": "display_data",
     "data": {
      "text/html": [
       "<div>\n",
       "<style scoped>\n",
       "    .dataframe tbody tr th:only-of-type {\n",
       "        vertical-align: middle;\n",
       "    }\n",
       "\n",
       "    .dataframe tbody tr th {\n",
       "        vertical-align: top;\n",
       "    }\n",
       "\n",
       "    .dataframe thead th {\n",
       "        text-align: right;\n",
       "    }\n",
       "</style>\n",
       "<table border=\"1\" class=\"dataframe\">\n",
       "  <thead>\n",
       "    <tr style=\"text-align: right;\">\n",
       "      <th></th>\n",
       "      <th>entities_jsl_ner_chunk</th>\n",
       "      <th>entities_jsl_ner_chunk_begin</th>\n",
       "      <th>entities_jsl_ner_chunk_end</th>\n",
       "      <th>entities_jsl_ner_chunk_origin_sentence</th>\n",
       "      <th>entities_jsl_ner_chunk_class</th>\n",
       "      <th>entities_jsl_ner_chunk_confidence</th>\n",
       "    </tr>\n",
       "  </thead>\n",
       "  <tbody>\n",
       "    <tr>\n",
       "      <th>0</th>\n",
       "      <td>FAMILY HISTORY</td>\n",
       "      <td>0</td>\n",
       "      <td>13</td>\n",
       "      <td>0</td>\n",
       "      <td>Family_History_Header</td>\n",
       "      <td>0.9994</td>\n",
       "    </tr>\n",
       "    <tr>\n",
       "      <th>0</th>\n",
       "      <td>coronary artery disease</td>\n",
       "      <td>37</td>\n",
       "      <td>59</td>\n",
       "      <td>0</td>\n",
       "      <td>Heart_Disease</td>\n",
       "      <td>0.65173334</td>\n",
       "    </tr>\n",
       "    <tr>\n",
       "      <th>0</th>\n",
       "      <td>CVA</td>\n",
       "      <td>62</td>\n",
       "      <td>64</td>\n",
       "      <td>0</td>\n",
       "      <td>Cerebrovascular_Disease</td>\n",
       "      <td>0.9995</td>\n",
       "    </tr>\n",
       "    <tr>\n",
       "      <th>0</th>\n",
       "      <td>diabetes</td>\n",
       "      <td>67</td>\n",
       "      <td>74</td>\n",
       "      <td>0</td>\n",
       "      <td>Diabetes</td>\n",
       "      <td>0.9939</td>\n",
       "    </tr>\n",
       "    <tr>\n",
       "      <th>0</th>\n",
       "      <td>CHF</td>\n",
       "      <td>77</td>\n",
       "      <td>79</td>\n",
       "      <td>0</td>\n",
       "      <td>Heart_Disease</td>\n",
       "      <td>0.9964</td>\n",
       "    </tr>\n",
       "    <tr>\n",
       "      <th>0</th>\n",
       "      <td>MI</td>\n",
       "      <td>84</td>\n",
       "      <td>85</td>\n",
       "      <td>0</td>\n",
       "      <td>Heart_Disease</td>\n",
       "      <td>0.9861</td>\n",
       "    </tr>\n",
       "    <tr>\n",
       "      <th>0</th>\n",
       "      <td>sister</td>\n",
       "      <td>125</td>\n",
       "      <td>130</td>\n",
       "      <td>1</td>\n",
       "      <td>Gender</td>\n",
       "      <td>0.9577</td>\n",
       "    </tr>\n",
       "    <tr>\n",
       "      <th>0</th>\n",
       "      <td>cancer</td>\n",
       "      <td>149</td>\n",
       "      <td>154</td>\n",
       "      <td>1</td>\n",
       "      <td>Oncological</td>\n",
       "      <td>0.9815</td>\n",
       "    </tr>\n",
       "  </tbody>\n",
       "</table>\n",
       "</div>"
      ]
     },
     "metadata": {
      "application/vnd.databricks.v1+output": {
       "addedWidgets": {},
       "arguments": {},
       "data": "<div>\n<style scoped>\n    .dataframe tbody tr th:only-of-type {\n        vertical-align: middle;\n    }\n\n    .dataframe tbody tr th {\n        vertical-align: top;\n    }\n\n    .dataframe thead th {\n        text-align: right;\n    }\n</style>\n<table border=\"1\" class=\"dataframe\">\n  <thead>\n    <tr style=\"text-align: right;\">\n      <th></th>\n      <th>entities_jsl_ner_chunk</th>\n      <th>entities_jsl_ner_chunk_begin</th>\n      <th>entities_jsl_ner_chunk_end</th>\n      <th>entities_jsl_ner_chunk_origin_sentence</th>\n      <th>entities_jsl_ner_chunk_class</th>\n      <th>entities_jsl_ner_chunk_confidence</th>\n    </tr>\n  </thead>\n  <tbody>\n    <tr>\n      <th>0</th>\n      <td>FAMILY HISTORY</td>\n      <td>0</td>\n      <td>13</td>\n      <td>0</td>\n      <td>Family_History_Header</td>\n      <td>0.9994</td>\n    </tr>\n    <tr>\n      <th>0</th>\n      <td>coronary artery disease</td>\n      <td>37</td>\n      <td>59</td>\n      <td>0</td>\n      <td>Heart_Disease</td>\n      <td>0.65173334</td>\n    </tr>\n    <tr>\n      <th>0</th>\n      <td>CVA</td>\n      <td>62</td>\n      <td>64</td>\n      <td>0</td>\n      <td>Cerebrovascular_Disease</td>\n      <td>0.9995</td>\n    </tr>\n    <tr>\n      <th>0</th>\n      <td>diabetes</td>\n      <td>67</td>\n      <td>74</td>\n      <td>0</td>\n      <td>Diabetes</td>\n      <td>0.9939</td>\n    </tr>\n    <tr>\n      <th>0</th>\n      <td>CHF</td>\n      <td>77</td>\n      <td>79</td>\n      <td>0</td>\n      <td>Heart_Disease</td>\n      <td>0.9964</td>\n    </tr>\n    <tr>\n      <th>0</th>\n      <td>MI</td>\n      <td>84</td>\n      <td>85</td>\n      <td>0</td>\n      <td>Heart_Disease</td>\n      <td>0.9861</td>\n    </tr>\n    <tr>\n      <th>0</th>\n      <td>sister</td>\n      <td>125</td>\n      <td>130</td>\n      <td>1</td>\n      <td>Gender</td>\n      <td>0.9577</td>\n    </tr>\n    <tr>\n      <th>0</th>\n      <td>cancer</td>\n      <td>149</td>\n      <td>154</td>\n      <td>1</td>\n      <td>Oncological</td>\n      <td>0.9815</td>\n    </tr>\n  </tbody>\n</table>\n</div>",
       "datasetInfos": [],
       "metadata": {},
       "removedWidgets": [],
       "textData": null,
       "type": "htmlSandbox"
      }
     },
     "output_type": "display_data"
    }
   ],
   "source": [
    "\n",
    "df_clinical = nlp.nlu.to_pretty_df(model, split, positions=True, output_level='chunk')[cols].dropna()\n",
    "df_clinical.head(20)"
   ]
  },
  {
   "cell_type": "code",
   "execution_count": 0,
   "metadata": {
    "application/vnd.databricks.v1+cell": {
     "cellMetadata": {
      "byteLimit": 2048000,
      "rowLimit": 10000
     },
     "inputWidgets": {},
     "nuid": "8b6bf71d-3204-49ab-bd0c-0f543b439e7c",
     "showTitle": false,
     "title": ""
    }
   },
   "outputs": [
    {
     "output_type": "stream",
     "name": "stdout",
     "output_type": "stream",
     "text": [
      "PAST MEDICAL HISTORY\n1. Pericardectomy.\n2. Pericarditis.\n2. Atrial fibrillation.\n4. RNCA with intracranial thrombolytic treatment.\n5 PTA of MCA.\n6. Mesenteric venous thrombosis.\n7. Pericardial window.\n8. Cholecystectomy.\n9. Left thoracentesis.\n"
     ]
    }
   ],
   "source": [
    "split =  sample_split_df.iloc[6,2][0]\n",
    "print (split) "
   ]
  },
  {
   "cell_type": "code",
   "execution_count": 0,
   "metadata": {
    "application/vnd.databricks.v1+cell": {
     "cellMetadata": {
      "byteLimit": 2048000,
      "rowLimit": 10000
     },
     "inputWidgets": {},
     "nuid": "9c34f94f-c715-428b-919b-e04ca37909f6",
     "showTitle": false,
     "title": ""
    }
   },
   "outputs": [],
   "source": [
    "split_result = light_model.fullAnnotate(split)"
   ]
  },
  {
   "cell_type": "code",
   "execution_count": 0,
   "metadata": {
    "application/vnd.databricks.v1+cell": {
     "cellMetadata": {
      "byteLimit": 2048000,
      "rowLimit": 10000
     },
     "inputWidgets": {},
     "nuid": "c84271e1-eb7d-4990-b348-3d0d8ba593c1",
     "showTitle": false,
     "title": ""
    }
   },
   "outputs": [
    {
     "output_type": "stream",
     "name": "stdout",
     "output_type": "stream",
     "text": [
      "Out[69]: [Annotation(chunk, 43, 54, Pericarditis, {'chunk': '0', 'confidence': '0.9861', 'ner_source': 'clinical_ner_chunk', 'entity': 'PROBLEM', 'sentence': '2'}, []),\n Annotation(chunk, 60, 78, Atrial fibrillation, {'chunk': '1', 'confidence': '0.9803', 'ner_source': 'clinical_ner_chunk', 'entity': 'PROBLEM', 'sentence': '3'}, []),\n Annotation(chunk, 148, 175, Mesenteric venous thrombosis, {'chunk': '2', 'confidence': '0.9354334', 'ner_source': 'clinical_ner_chunk', 'entity': 'PROBLEM', 'sentence': '6'}, [])]"
     ]
    }
   ],
   "source": [
    "split_result[0]['clinical_ner_chunk']"
   ]
  },
  {
   "cell_type": "code",
   "execution_count": 0,
   "metadata": {
    "application/vnd.databricks.v1+cell": {
     "cellMetadata": {
      "byteLimit": 2048000,
      "rowLimit": 10000
     },
     "inputWidgets": {},
     "nuid": "9eb10ffa-071f-463e-ba88-eed3eba4824b",
     "showTitle": false,
     "title": ""
    }
   },
   "outputs": [
    {
     "output_type": "stream",
     "name": "stdout",
     "output_type": "stream",
     "text": [
      "Out[70]: Annotation(entity, 43, 54, I31, {'chunk': '0', 'all_k_results': 'I31:::I30:::B33:::T46:::I32:::I09', 'all_k_distances': '0.0000:::4.8160:::5.9290:::6.6619:::6.9814:::7.2547', 'confidence': '0.9865', 'all_k_cosine_distances': '0.0000:::0.0393:::0.0593:::0.0724:::0.0822:::0.0868', 'all_k_resolutions': 'pericarditis:::infectious pericarditis:::viral pericarditis:::drug-induced pericarditis:::parasitic pericarditis:::rheumatic pericarditis', 'target_text': 'Pericarditis', 'all_k_aux_labels': 'no_aux_label_found:::no_aux_label_found:::no_aux_label_found:::no_aux_label_found:::no_aux_label_found:::no_aux_label_found', 'token': 'Pericarditis', 'resolved_text': 'pericarditis', 'all_k_confidences': '0.9865:::0.0080:::0.0026:::0.0013:::0.0009:::0.0007', 'distance': '0.0000', 'sentence': '2'}, [])"
     ]
    }
   ],
   "source": [
    "split_result[0]['icd10cm_code'][0] #['target_text']"
   ]
  },
  {
   "cell_type": "code",
   "execution_count": 0,
   "metadata": {
    "application/vnd.databricks.v1+cell": {
     "cellMetadata": {
      "byteLimit": 2048000,
      "rowLimit": 10000
     },
     "inputWidgets": {},
     "nuid": "24692ee0-1a5a-4c04-87c1-e170c4b01774",
     "showTitle": false,
     "title": ""
    }
   },
   "outputs": [
    {
     "output_type": "stream",
     "name": "stdout",
     "output_type": "stream",
     "text": [
      "Out[71]: 'Pericarditis'"
     ]
    }
   ],
   "source": [
    "split_result[0]['icd10cm_code'][0].metadata['target_text']"
   ]
  },
  {
   "cell_type": "code",
   "execution_count": 0,
   "metadata": {
    "application/vnd.databricks.v1+cell": {
     "cellMetadata": {
      "byteLimit": 2048000,
      "rowLimit": 10000
     },
     "inputWidgets": {},
     "nuid": "f61b1c3f-2549-4584-86b3-5f169916f051",
     "showTitle": false,
     "title": ""
    }
   },
   "outputs": [
    {
     "output_type": "stream",
     "name": "stdout",
     "output_type": "stream",
     "text": [
      "Out[72]: [('Pericarditis', 'I31', 'pericarditis', 43, 54, '0.9865'),\n ('Atrial fibrillation', 'I48', 'atrial fibrillation', 60, 78, '0.9960'),\n ('Mesenteric venous thrombosis',\n  'K55',\n  'mesenteric vein thrombosis',\n  148,\n  175,\n  '0.8964')]"
     ]
    }
   ],
   "source": [
    "[(x.metadata['target_text'], x.result, x.metadata['resolved_text'],x.begin, x.end, x.metadata['confidence']) for x in split_result[0]['icd10cm_code']]"
   ]
  },
  {
   "cell_type": "code",
   "execution_count": 0,
   "metadata": {
    "application/vnd.databricks.v1+cell": {
     "cellMetadata": {
      "byteLimit": 2048000,
      "rowLimit": 10000
     },
     "inputWidgets": {},
     "nuid": "e8e00fcb-c54b-49c2-a4a8-289b63fabb18",
     "showTitle": false,
     "title": ""
    }
   },
   "outputs": [
    {
     "output_type": "stream",
     "name": "stdout",
     "output_type": "stream",
     "text": [
      "Out[73]: [('thrombolytic', '1243768', 'thrombin Topical Spray', 107, 118, '0.1422')]"
     ]
    }
   ],
   "source": [
    "[(x.metadata['target_text'], x.result, x.metadata['resolved_text'],x.begin, x.end, x.metadata['confidence']) for x in split_result[0]['rxnorm_code']]"
   ]
  },
  {
   "cell_type": "code",
   "execution_count": 0,
   "metadata": {
    "application/vnd.databricks.v1+cell": {
     "cellMetadata": {
      "byteLimit": 2048000,
      "rowLimit": 10000
     },
     "inputWidgets": {},
     "nuid": "53ff68a3-3c2e-4316-ba84-e55f88224550",
     "showTitle": false,
     "title": ""
    }
   },
   "outputs": [
    {
     "output_type": "stream",
     "name": "stdout",
     "output_type": "stream",
     "text": [
      "Out[74]: [Annotation(labeled_dependency, 2770, 2777, anticoagulant, {'chunk': '3', '__trained__': 'Coumadin', 'relation': 'action', 'all_k_distances': '0.0:::0.0', '__distance_function__': 'levenshtein', 'confidence': '0.9415', 'all_k_resolutions': 'anticoagulant:::', 'target_text': 'Coumadin', 'ner_source': 'drugs_ner_chunk', 'ops': '0.0', 'all_relations': '', 'entity': 'Coumadin', 'resolved_text': 'anticoagulant', 'distance': '0.0', 'sentence': '53', '__relation_name__': 'action'}, []),\n Annotation(labeled_dependency, 2770, 2777, cerebrovascular accident, {'chunk': '3', '__trained__': 'Coumadin', 'relation': 'treatment', 'all_k_distances': '0.0:::0.0', '__distance_function__': 'levenshtein', 'confidence': '0.9415', 'all_k_resolutions': 'cerebrovascular accident:::pulmonary embolism:::heart attack:::af:::embolization', 'target_text': 'Coumadin', 'ner_source': 'drugs_ner_chunk', 'ops': '0.0', 'all_relations': 'pulmonary embolism:::heart attack:::af:::embolization', 'entity': 'Coumadin', 'resolved_text': 'cerebrovascular accident', 'distance': '0.0', 'sentence': '53', '__relation_name__': 'treatment'}, []),\n Annotation(labeled_dependency, 4863, 4869, anticoagulant, {'chunk': '9', '__trained__': 'heparin', 'relation': 'action', 'all_k_distances': '0.0:::0.0', '__distance_function__': 'levenshtein', 'confidence': '0.9948', 'all_k_resolutions': 'anticoagulant:::anti-inflammatory:::antiproliferative:::antithrombotic:::decongestant:::fibrinolytic:::local anesthetic:::vasoprotective', 'target_text': 'heparin', 'ner_source': 'drugs_ner_chunk', 'ops': '0.0', 'all_relations': 'anti-inflammatory:::antiproliferative:::antithrombotic:::decongestant:::fibrinolytic:::local anesthetic:::vasoprotective', 'entity': 'heparin', 'resolved_text': 'anticoagulant', 'distance': '0.0', 'sentence': '70', '__relation_name__': 'action'}, []),\n Annotation(labeled_dependency, 4863, 4869, pulmonary embolism, {'chunk': '9', '__trained__': 'heparin', 'relation': 'treatment', 'all_k_distances': '0.0:::0.0', '__distance_function__': 'levenshtein', 'confidence': '0.9948', 'all_k_resolutions': 'pulmonary embolism:::deep vein thrombosis:::thrombophlebitis', 'target_text': 'heparin', 'ner_source': 'drugs_ner_chunk', 'ops': '0.0', 'all_relations': 'deep vein thrombosis:::thrombophlebitis', 'entity': 'heparin', 'resolved_text': 'pulmonary embolism', 'distance': '0.0', 'sentence': '70', '__relation_name__': 'treatment'}, []),\n Annotation(labeled_dependency, 4917, 4922, anti-abstinence, {'chunk': '10', '__trained__': 'Zofran', 'relation': 'action', 'all_k_distances': '0.0:::0.0', '__distance_function__': 'levenshtein', 'confidence': '0.996', 'all_k_resolutions': 'anti-abstinence:::antiemetic', 'target_text': 'Zofran', 'ner_source': 'drugs_ner_chunk', 'ops': '0.0', 'all_relations': 'antiemetic', 'entity': 'Zofran', 'resolved_text': 'anti-abstinence', 'distance': '0.0', 'sentence': '71', '__relation_name__': 'action'}, []),\n Annotation(labeled_dependency, 4917, 4922, burping, {'chunk': '10', '__trained__': 'Zofran', 'relation': 'treatment', 'all_k_distances': '0.0:::0.0', '__distance_function__': 'levenshtein', 'confidence': '0.996', 'all_k_resolutions': 'burping:::morning sickness:::chemotherapy', 'target_text': 'Zofran', 'ner_source': 'drugs_ner_chunk', 'ops': '0.0', 'all_relations': 'morning sickness:::chemotherapy', 'entity': 'Zofran', 'resolved_text': 'burping', 'distance': '0.0', 'sentence': '71', '__relation_name__': 'treatment'}, []),\n Annotation(labeled_dependency, 4925, 4933, antiallergic, {'chunk': '11', '__trained__': 'Phenergan', 'relation': 'action', 'all_k_distances': '0.0:::0.0', '__distance_function__': 'levenshtein', 'confidence': '0.997', 'all_k_resolutions': 'antiallergic:::antiemetic:::antipruritics::: incl. antihistamines::: anesthetics::: etc:::hypnotic:::sedative', 'target_text': 'Phenergan', 'ner_source': 'drugs_ner_chunk', 'ops': '0.0', 'all_relations': 'antiemetic:::antipruritics::: incl. antihistamines::: anesthetics::: etc:::hypnotic:::sedative', 'entity': 'Phenergan', 'resolved_text': 'antiallergic', 'distance': '0.0', 'sentence': '71', '__relation_name__': 'action'}, []),\n Annotation(labeled_dependency, 4925, 4933, anaphylaxis, {'chunk': '11', '__trained__': 'Phenergan', 'relation': 'treatment', 'all_k_distances': '0.0:::0.0', '__distance_function__': 'levenshtein', 'confidence': '0.997', 'all_k_resolutions': 'anaphylaxis:::insomnia:::hives:::rhinitis:::hay fever', 'target_text': 'Phenergan', 'ner_source': 'drugs_ner_chunk', 'ops': '0.0', 'all_relations': 'insomnia:::hives:::rhinitis:::hay fever', 'entity': 'Phenergan', 'resolved_text': 'anaphylaxis', 'distance': '0.0', 'sentence': '71', '__relation_name__': 'treatment'}, []),\n Annotation(labeled_dependency, 4936, 4943, anticoagulant, {'chunk': '12', '__trained__': 'Coumadin', 'relation': 'action', 'all_k_distances': '0.0:::0.0', '__distance_function__': 'levenshtein', 'confidence': '0.9987', 'all_k_resolutions': 'anticoagulant:::', 'target_text': 'Coumadin', 'ner_source': 'drugs_ner_chunk', 'ops': '0.0', 'all_relations': '', 'entity': 'Coumadin', 'resolved_text': 'anticoagulant', 'distance': '0.0', 'sentence': '71', '__relation_name__': 'action'}, []),\n Annotation(labeled_dependency, 4936, 4943, cerebrovascular accident, {'chunk': '12', '__trained__': 'Coumadin', 'relation': 'treatment', 'all_k_distances': '0.0:::0.0', '__distance_function__': 'levenshtein', 'confidence': '0.9987', 'all_k_resolutions': 'cerebrovascular accident:::pulmonary embolism:::heart attack:::af:::embolization', 'target_text': 'Coumadin', 'ner_source': 'drugs_ner_chunk', 'ops': '0.0', 'all_relations': 'pulmonary embolism:::heart attack:::af:::embolization', 'entity': 'Coumadin', 'resolved_text': 'cerebrovascular accident', 'distance': '0.0', 'sentence': '71', '__relation_name__': 'treatment'}, [])]"
     ]
    }
   ],
   "source": [
    "[x for x in result[0]['drug_action'] if x.result!='NONE']"
   ]
  },
  {
   "cell_type": "code",
   "execution_count": 0,
   "metadata": {
    "application/vnd.databricks.v1+cell": {
     "cellMetadata": {
      "byteLimit": 2048000,
      "rowLimit": 10000
     },
     "inputWidgets": {},
     "nuid": "4fe65033-04ef-448d-b587-a73fc0923194",
     "showTitle": false,
     "title": ""
    }
   },
   "outputs": [
    {
     "output_type": "stream",
     "name": "stdout",
     "output_type": "stream",
     "text": [
      "Out[75]: [('anticoagulant', 2770, 2777, 'Coumadin', '0.9415'),\n ('anticoagulant', 4863, 4869, 'heparin', '0.9948'),\n ('anti-abstinence', 4917, 4922, 'Zofran', '0.996'),\n ('antiallergic', 4925, 4933, 'Phenergan', '0.997'),\n ('anticoagulant', 4936, 4943, 'Coumadin', '0.9987')]"
     ]
    }
   ],
   "source": [
    "[(x.result, x.begin, x.end, x.metadata['entity'], x.metadata['confidence']) for x in result[0]['drug_action'] if x.result!='NONE' and x.metadata['relation']=='action']"
   ]
  },
  {
   "cell_type": "code",
   "execution_count": 0,
   "metadata": {
    "application/vnd.databricks.v1+cell": {
     "cellMetadata": {
      "byteLimit": 2048000,
      "rowLimit": 10000
     },
     "inputWidgets": {},
     "nuid": "91d14b0f-59c1-4f4c-9bf3-057f6a52dac7",
     "showTitle": false,
     "title": ""
    }
   },
   "outputs": [
    {
     "output_type": "stream",
     "name": "stdout",
     "output_type": "stream",
     "text": [
      "Out[76]: [('cerebrovascular accident', 2770, 2777, 'Coumadin', '0.9415'),\n ('pulmonary embolism', 4863, 4869, 'heparin', '0.9948'),\n ('burping', 4917, 4922, 'Zofran', '0.996'),\n ('anaphylaxis', 4925, 4933, 'Phenergan', '0.997'),\n ('cerebrovascular accident', 4936, 4943, 'Coumadin', '0.9987')]"
     ]
    }
   ],
   "source": [
    "[(x.result, x.begin, x.end, x.metadata['entity'], x.metadata['confidence']) for x in result[0]['drug_action'] if x.result!='NONE' and x.metadata['relation']=='treatment']"
   ]
  },
  {
   "cell_type": "code",
   "execution_count": 0,
   "metadata": {
    "application/vnd.databricks.v1+cell": {
     "cellMetadata": {
      "byteLimit": 2048000,
      "rowLimit": 10000
     },
     "inputWidgets": {},
     "nuid": "4ca9b26f-0071-4d30-9637-b6b61bc1d37a",
     "showTitle": false,
     "title": ""
    }
   },
   "outputs": [],
   "source": [
    "txt =\"A 28-year-old female with a history of type-2 diabetes mellitus diagnosed eight years ago takes 500 mg metformin 3 times per day.\"\n",
    "\n",
    "txt_result = light_model.fullAnnotate(txt)"
   ]
  },
  {
   "cell_type": "code",
   "execution_count": 0,
   "metadata": {
    "application/vnd.databricks.v1+cell": {
     "cellMetadata": {
      "byteLimit": 2048000,
      "rowLimit": 10000
     },
     "inputWidgets": {},
     "nuid": "bba3b0d8-c8c3-4452-ac40-154aa68222a7",
     "showTitle": false,
     "title": ""
    }
   },
   "outputs": [
    {
     "output_type": "stream",
     "name": "stdout",
     "output_type": "stream",
     "text": [
      "Out[78]: []"
     ]
    }
   ],
   "source": [
    "[(x.result, x.begin, x.end, x.metadata['entity'], x.metadata['confidence']) for x in txt_result[0]['drug_action'] if x.result!='NONE' and x.metadata['relation']=='treatment']"
   ]
  },
  {
   "cell_type": "code",
   "execution_count": 0,
   "metadata": {
    "application/vnd.databricks.v1+cell": {
     "cellMetadata": {
      "byteLimit": 2048000,
      "rowLimit": 10000
     },
     "inputWidgets": {},
     "nuid": "7e070df8-ecdf-46b4-b246-890a240987de",
     "showTitle": false,
     "title": ""
    }
   },
   "outputs": [
    {
     "output_type": "stream",
     "name": "stdout",
     "output_type": "stream",
     "text": [
      "Out[54]: [Annotation(chunk, 103, 111, metformin, {'chunk': '0', 'confidence': '0.9991', 'ner_source': 'drugs_ner_chunk', 'entity': 'DRUG', 'sentence': '0'}, [])]"
     ]
    }
   ],
   "source": [
    "txt_result[0]['drugs_ner_chunk']"
   ]
  },
  {
   "cell_type": "code",
   "execution_count": 0,
   "metadata": {
    "application/vnd.databricks.v1+cell": {
     "cellMetadata": {
      "byteLimit": 2048000,
      "rowLimit": 10000
     },
     "inputWidgets": {},
     "nuid": "0eb83a74-a0e0-4c0b-a914-fd2c68402a3e",
     "showTitle": false,
     "title": ""
    }
   },
   "outputs": [],
   "source": [
    "#### We can keep doing these kinds of augmentations forever ...."
   ]
  },
  {
   "cell_type": "code",
   "execution_count": 0,
   "metadata": {
    "application/vnd.databricks.v1+cell": {
     "cellMetadata": {
      "byteLimit": 2048000,
      "rowLimit": 10000
     },
     "inputWidgets": {},
     "nuid": "3f6cb3fa-d9f5-43e9-81d2-281074606d40",
     "showTitle": false,
     "title": ""
    }
   },
   "outputs": [],
   "source": []
  }
 ],
 "metadata": {
  "application/vnd.databricks.v1+notebook": {
   "dashboards": [],
   "language": "python",
   "notebookMetadata": {
    "pythonIndentUnit": 2
   },
   "notebookName": "Implementing_RAG_in_Healthcare_Workshop_in_Databricks_with_JohnSnowLabs",
   "widgets": {}
  },
  "kernelspec": {
   "display_name": "Python 3 (ipykernel)",
   "language": "python",
   "name": "python3"
  },
  "language_info": {
   "codemirror_mode": {
    "name": "ipython",
    "version": 3
   },
   "file_extension": ".py",
   "mimetype": "text/x-python",
   "name": "python",
   "nbconvert_exporter": "python",
   "pygments_lexer": "ipython3",
   "version": "3.10.9"
  }
 },
 "nbformat": 4,
 "nbformat_minor": 0
}

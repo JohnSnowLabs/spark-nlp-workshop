{
 "cells": [
  {
   "cell_type": "markdown",
   "metadata": {
    "application/vnd.databricks.v1+cell": {
     "cellMetadata": {},
     "inputWidgets": {},
     "nuid": "e0f38c01-b530-4a83-a547-3dd46a0a7be5",
     "showTitle": false,
     "title": ""
    },
    "id": "GdzcyW3yBaOO"
   },
   "source": [
    "![JohnSnowLabs](https://nlp.johnsnowlabs.com/assets/images/logo.png)"
   ]
  },
  {
   "cell_type": "markdown",
   "metadata": {
    "application/vnd.databricks.v1+cell": {
     "cellMetadata": {},
     "inputWidgets": {},
     "nuid": "d65217bb-a380-4ce9-ab3b-32007cc7deb9",
     "showTitle": false,
     "title": ""
    },
    "id": "L6qvg0X7BbnU"
   },
   "source": [
    "[![Open In Colab](https://colab.research.google.com/assets/colab-badge.svg)](https://colab.research.google.com/github/JohnSnowLabs/spark-nlp-workshop/blob/master/tutorials/Certification_Trainings/Healthcare/3.1.Calculate_Medicare_Risk_Adjustment_Score.ipynb)"
   ]
  },
  {
   "cell_type": "markdown",
   "metadata": {
    "application/vnd.databricks.v1+cell": {
     "cellMetadata": {},
     "inputWidgets": {},
     "nuid": "3312a31b-ff20-4d22-a07d-beb8bb5f51cf",
     "showTitle": false,
     "title": ""
    },
    "id": "xSLNKU_Iulqo"
   },
   "source": [
    "## Medicare Risk Adjustment:\n",
    "In the United States, the Centers for Medicare & Medicaid Services sets reimbursement for private Medicare plan sponsors based on the assessed risk of their beneficiaries. Information found in unstructured medical records may be more indicative of member risk than existing structured data, creating more accurate risk pools."
   ]
  },
  {
   "cell_type": "code",
   "execution_count": 0,
   "metadata": {
    "application/vnd.databricks.v1+cell": {
     "cellMetadata": {
      "byteLimit": 2048000,
      "rowLimit": 10000
     },
     "inputWidgets": {},
     "nuid": "245016b1-756e-4f61-99be-2b78c9de4749",
     "showTitle": false,
     "title": ""
    }
   },
   "outputs": [
    {
     "output_type": "stream",
     "name": "stdout",
     "output_type": "stream",
     "text": [
      "Spark NLP Version : 5.1.0\nSpark NLP_JSL Version : 5.1.0\n"
     ]
    },
    {
     "output_type": "execute_result",
     "data": {
      "text/html": [
       "\n",
       "            <div>\n",
       "                <p><b>SparkSession - hive</b></p>\n",
       "                \n",
       "        <div>\n",
       "            <p><b>SparkContext</b></p>\n",
       "\n",
       "            <p><a href=\"/?o=7956323724731612#setting/sparkui/0725-092232-stftp6wi/driver-7522455661916067020\">Spark UI</a></p>\n",
       "\n",
       "            <dl>\n",
       "              <dt>Version</dt>\n",
       "                <dd><code>v3.4.1</code></dd>\n",
       "              <dt>Master</dt>\n",
       "                <dd><code>spark://10.139.64.10:7077</code></dd>\n",
       "              <dt>AppName</dt>\n",
       "                <dd><code>Databricks Shell</code></dd>\n",
       "            </dl>\n",
       "        </div>\n",
       "        \n",
       "            </div>\n",
       "        "
      ],
      "text/plain": [
       "<pyspark.sql.session.SparkSession at 0x7f00fb80eb90>"
      ]
     },
     "execution_count": 1,
     "metadata": {},
     "output_type": "execute_result"
    }
   ],
   "source": [
    "import os\n",
    "import json\n",
    "import string\n",
    "import numpy as np\n",
    "import pandas as pd\n",
    "\n",
    "import sparknlp\n",
    "import sparknlp_jsl\n",
    "from sparknlp.base import *\n",
    "from sparknlp.util import *\n",
    "from sparknlp.annotator import *\n",
    "from sparknlp_jsl.annotator import *\n",
    "from sparknlp.pretrained import ResourceDownloader\n",
    "\n",
    "from pyspark.sql import functions as F\n",
    "from pyspark.ml import Pipeline, PipelineModel\n",
    "\n",
    "pd.set_option('max_colwidth', 100)\n",
    "pd.set_option('display.max_columns', 100)  \n",
    "pd.set_option('display.expand_frame_repr', False)\n",
    "\n",
    "print(\"Spark NLP Version :\", sparknlp.version())\n",
    "print(\"Spark NLP_JSL Version :\", sparknlp_jsl.version())\n",
    "\n",
    "spark"
   ]
  },
  {
   "cell_type": "markdown",
   "metadata": {
    "application/vnd.databricks.v1+cell": {
     "cellMetadata": {},
     "inputWidgets": {},
     "nuid": "beddd0e1-da44-4ef2-a2e7-c3a29d17c445",
     "showTitle": false,
     "title": ""
    },
    "id": "5JEhvf8nUN-s"
   },
   "source": [
    "## Downloading oncology notes\n",
    "In this notebook we will use the clinical notes extracted from www.mtsamples.com."
   ]
  },
  {
   "cell_type": "code",
   "execution_count": 0,
   "metadata": {
    "application/vnd.databricks.v1+cell": {
     "cellMetadata": {
      "byteLimit": 2048000,
      "rowLimit": 10000
     },
     "inputWidgets": {},
     "nuid": "35206883-79cc-4d91-8bb8-b80b3f791dfb",
     "showTitle": false,
     "title": ""
    }
   },
   "outputs": [],
   "source": [
    "notes_path='/FileStore/HLS/nlp/data/'\n",
    "delta_path='/FileStore/HLS/nlp/delta/jsl/'\n",
    "\n",
    "dbutils.fs.mkdirs(notes_path)\n",
    "os.environ['notes_path']=f'/dbfs{notes_path}'"
   ]
  },
  {
   "cell_type": "code",
   "execution_count": 0,
   "metadata": {
    "application/vnd.databricks.v1+cell": {
     "cellMetadata": {
      "byteLimit": 2048000,
      "rowLimit": 10000
     },
     "inputWidgets": {},
     "nuid": "4ca4e79a-18ef-40f4-8982-c6978ec1a7f4",
     "showTitle": false,
     "title": ""
    },
    "id": "2-K07XIuBes-"
   },
   "outputs": [
    {
     "output_type": "stream",
     "name": "stdout",
     "output_type": "stream",
     "text": [
      "Archive:  mt_oncology_10.zip\n  inflating: mt_oncology_10/mt_note_02.txt  \n  inflating: mt_oncology_10/mt_note_03.txt  \n  inflating: mt_oncology_10/mt_note_01.txt  \n  inflating: mt_oncology_10/mt_note_10.txt  \n  inflating: mt_oncology_10/mt_note_04.txt  \n  inflating: __MACOSX/mt_oncology_10/._.DS_Store  \n  inflating: mt_oncology_10/mt_note_05.txt  \n  inflating: mt_oncology_10/mt_note_07.txt  \n  inflating: mt_oncology_10/mt_note_06.txt  \n  inflating: mt_oncology_10/mt_note_08.txt  \n  inflating: mt_oncology_10/mt_note_09.txt  \n"
     ]
    }
   ],
   "source": [
    "%sh\n",
    "cd $notes_path\n",
    "wget -q https://raw.githubusercontent.com/JohnSnowLabs/spark-nlp-workshop/master/tutorials/Certification_Trainings/Healthcare/data/mt_oncology_10.zip\n",
    "unzip -o mt_oncology_10.zip"
   ]
  },
  {
   "cell_type": "code",
   "execution_count": 0,
   "metadata": {
    "application/vnd.databricks.v1+cell": {
     "cellMetadata": {
      "byteLimit": 2048000,
      "rowLimit": 10000
     },
     "inputWidgets": {},
     "nuid": "9f6b1cd0-920a-4da7-ac33-1f75760cbe94",
     "showTitle": false,
     "title": ""
    }
   },
   "outputs": [
    {
     "output_type": "execute_result",
     "data": {
      "text/plain": [
       "[FileInfo(path='dbfs:/FileStore/HLS/nlp/data/mt_oncology_10/mt_note_01.txt', name='mt_note_01.txt', size=1371, modificationTime=1695884303000),\n",
       " FileInfo(path='dbfs:/FileStore/HLS/nlp/data/mt_oncology_10/mt_note_02.txt', name='mt_note_02.txt', size=1274, modificationTime=1695884303000),\n",
       " FileInfo(path='dbfs:/FileStore/HLS/nlp/data/mt_oncology_10/mt_note_03.txt', name='mt_note_03.txt', size=3699, modificationTime=1695884303000),\n",
       " FileInfo(path='dbfs:/FileStore/HLS/nlp/data/mt_oncology_10/mt_note_04.txt', name='mt_note_04.txt', size=8178, modificationTime=1695884304000),\n",
       " FileInfo(path='dbfs:/FileStore/HLS/nlp/data/mt_oncology_10/mt_note_05.txt', name='mt_note_05.txt', size=4707, modificationTime=1695884304000),\n",
       " FileInfo(path='dbfs:/FileStore/HLS/nlp/data/mt_oncology_10/mt_note_06.txt', name='mt_note_06.txt', size=4817, modificationTime=1695884304000),\n",
       " FileInfo(path='dbfs:/FileStore/HLS/nlp/data/mt_oncology_10/mt_note_07.txt', name='mt_note_07.txt', size=1727, modificationTime=1695884304000),\n",
       " FileInfo(path='dbfs:/FileStore/HLS/nlp/data/mt_oncology_10/mt_note_08.txt', name='mt_note_08.txt', size=3125, modificationTime=1695884304000),\n",
       " FileInfo(path='dbfs:/FileStore/HLS/nlp/data/mt_oncology_10/mt_note_09.txt', name='mt_note_09.txt', size=3153, modificationTime=1695884304000),\n",
       " FileInfo(path='dbfs:/FileStore/HLS/nlp/data/mt_oncology_10/mt_note_10.txt', name='mt_note_10.txt', size=1805, modificationTime=1695884303000)]"
      ]
     },
     "execution_count": 8,
     "metadata": {},
     "output_type": "execute_result"
    }
   ],
   "source": [
    "dbutils.fs.ls(f'{notes_path}/mt_oncology_10')"
   ]
  },
  {
   "cell_type": "code",
   "execution_count": 0,
   "metadata": {
    "application/vnd.databricks.v1+cell": {
     "cellMetadata": {
      "byteLimit": 2048000,
      "rowLimit": 10000
     },
     "inputWidgets": {},
     "nuid": "fb9252d2-04b9-4dc3-aa91-57f5a1ff49cc",
     "showTitle": false,
     "title": ""
    },
    "colab": {
     "base_uri": "https://localhost:8080/"
    },
    "id": "s8MqTaAcUqFc",
    "outputId": "03614445-00c1-417d-bd4a-1b35ffc0a967"
   },
   "outputs": [
    {
     "output_type": "stream",
     "name": "stdout",
     "output_type": "stream",
     "text": [
      "+--------------------------------------------------+--------------------------------------------------+\n|                                              path|                                              text|\n+--------------------------------------------------+--------------------------------------------------+\n|dbfs:/FileStore/HLS/nlp/data/mt_oncology_10/mt_...|\\nMedical Specialty:Hematology - Oncology\\nSamp...|\n|dbfs:/FileStore/HLS/nlp/data/mt_oncology_10/mt_...|Medical Specialty:Hematology - Oncology\\nSample...|\n|dbfs:/FileStore/HLS/nlp/data/mt_oncology_10/mt_...|Medical Specialty:Hematology - Oncology\\nSample...|\n|dbfs:/FileStore/HLS/nlp/data/mt_oncology_10/mt_...|Medical Specialty:Hematology - Oncology\\nSample...|\n|dbfs:/FileStore/HLS/nlp/data/mt_oncology_10/mt_...|Medical Specialty:Hematology - Oncology\\nSample...|\n|dbfs:/FileStore/HLS/nlp/data/mt_oncology_10/mt_...|Medical Specialty:Hematology - Oncology\\nSample...|\n|dbfs:/FileStore/HLS/nlp/data/mt_oncology_10/mt_...|Medical Specialty:Hematology - Oncology\\nSample...|\n|dbfs:/FileStore/HLS/nlp/data/mt_oncology_10/mt_...|Medical Specialty:Hematology - Oncology\\nSample...|\n|dbfs:/FileStore/HLS/nlp/data/mt_oncology_10/mt_...|Medical Specialty:Hematology - Oncology\\nSample...|\n|dbfs:/FileStore/HLS/nlp/data/mt_oncology_10/mt_...|Medical Specialty:Hematology - Oncology\\nSample...|\n+--------------------------------------------------+--------------------------------------------------+\n\n"
     ]
    }
   ],
   "source": [
    "df = spark.sparkContext.wholeTextFiles(f'{notes_path}/mt_oncology_10/mt_note_*.txt').toDF().withColumnRenamed('_1','path').withColumnRenamed('_2','text')\n",
    "df.show(truncate=50)"
   ]
  },
  {
   "cell_type": "code",
   "execution_count": 0,
   "metadata": {
    "application/vnd.databricks.v1+cell": {
     "cellMetadata": {
      "byteLimit": 2048000,
      "rowLimit": 10000
     },
     "inputWidgets": {},
     "nuid": "b7cc0387-47ce-4344-878c-3e2d67243752",
     "showTitle": false,
     "title": ""
    },
    "colab": {
     "base_uri": "https://localhost:8080/"
    },
    "id": "h01xDjxDkFnr",
    "outputId": "2ae3b1d1-96e3-496e-de37-4b12b663d769"
   },
   "outputs": [
    {
     "output_type": "display_data",
     "data": {
      "text/html": [
       "<style scoped>\n",
       "  .table-result-container {\n",
       "    max-height: 300px;\n",
       "    overflow: auto;\n",
       "  }\n",
       "  table, th, td {\n",
       "    border: 1px solid black;\n",
       "    border-collapse: collapse;\n",
       "  }\n",
       "  th, td {\n",
       "    padding: 5px;\n",
       "  }\n",
       "  th {\n",
       "    text-align: left;\n",
       "  }\n",
       "</style><div class='table-result-container'><table class='table-result'><thead style='background-color: white'><tr><th>path</th><th>name</th><th>size</th><th>modificationTime</th></tr></thead><tbody><tr><td>dbfs:/FileStore/HLS/nlp/delta/jsl/bronze/mt-oc-notes/_delta_log/</td><td>_delta_log/</td><td>0</td><td>1695884392000</td></tr><tr><td>dbfs:/FileStore/HLS/nlp/delta/jsl/bronze/mt-oc-notes/part-00000-0362e841-51bc-4a6e-b208-98e304a609e6-c000.snappy.parquet</td><td>part-00000-0362e841-51bc-4a6e-b208-98e304a609e6-c000.snappy.parquet</td><td>14465</td><td>1677436344000</td></tr><tr><td>dbfs:/FileStore/HLS/nlp/delta/jsl/bronze/mt-oc-notes/part-00000-0813bb9f-ab15-49ab-9a88-422df69bd614-c000.snappy.parquet</td><td>part-00000-0813bb9f-ab15-49ab-9a88-422df69bd614-c000.snappy.parquet</td><td>14465</td><td>1694720522000</td></tr><tr><td>dbfs:/FileStore/HLS/nlp/delta/jsl/bronze/mt-oc-notes/part-00000-0a7a9d5d-3e07-47b3-be75-e72b8d5ca574-c000.snappy.parquet</td><td>part-00000-0a7a9d5d-3e07-47b3-be75-e72b8d5ca574-c000.snappy.parquet</td><td>14465</td><td>1670935010000</td></tr><tr><td>dbfs:/FileStore/HLS/nlp/delta/jsl/bronze/mt-oc-notes/part-00000-0d47db17-d9cd-409b-ac8f-f3db8dbd813d-c000.snappy.parquet</td><td>part-00000-0d47db17-d9cd-409b-ac8f-f3db8dbd813d-c000.snappy.parquet</td><td>14465</td><td>1670889292000</td></tr><tr><td>dbfs:/FileStore/HLS/nlp/delta/jsl/bronze/mt-oc-notes/part-00000-0f791bf4-bdfc-433b-ac6e-d5728dc9e7ec-c000.snappy.parquet</td><td>part-00000-0f791bf4-bdfc-433b-ac6e-d5728dc9e7ec-c000.snappy.parquet</td><td>14465</td><td>1692343864000</td></tr><tr><td>dbfs:/FileStore/HLS/nlp/delta/jsl/bronze/mt-oc-notes/part-00000-0fbbef16-85cf-4966-a7cc-8c71ff6abcf3-c000.snappy.parquet</td><td>part-00000-0fbbef16-85cf-4966-a7cc-8c71ff6abcf3-c000.snappy.parquet</td><td>16863</td><td>1672316882000</td></tr><tr><td>dbfs:/FileStore/HLS/nlp/delta/jsl/bronze/mt-oc-notes/part-00000-18b61779-cba8-4d14-8690-5a3e2e816a79-c000.snappy.parquet</td><td>part-00000-18b61779-cba8-4d14-8690-5a3e2e816a79-c000.snappy.parquet</td><td>14982</td><td>1671462255000</td></tr><tr><td>dbfs:/FileStore/HLS/nlp/delta/jsl/bronze/mt-oc-notes/part-00000-21ed556d-0570-4172-b707-5d242be2fbc5-c000.snappy.parquet</td><td>part-00000-21ed556d-0570-4172-b707-5d242be2fbc5-c000.snappy.parquet</td><td>16863</td><td>1672621045000</td></tr><tr><td>dbfs:/FileStore/HLS/nlp/delta/jsl/bronze/mt-oc-notes/part-00000-27aa4670-5abf-4ef8-a878-9c838386e739-c000.snappy.parquet</td><td>part-00000-27aa4670-5abf-4ef8-a878-9c838386e739-c000.snappy.parquet</td><td>14465</td><td>1676300072000</td></tr><tr><td>dbfs:/FileStore/HLS/nlp/delta/jsl/bronze/mt-oc-notes/part-00000-3f757a37-8003-4e88-a180-872d0341bda1-c000.snappy.parquet</td><td>part-00000-3f757a37-8003-4e88-a180-872d0341bda1-c000.snappy.parquet</td><td>16863</td><td>1672668259000</td></tr><tr><td>dbfs:/FileStore/HLS/nlp/delta/jsl/bronze/mt-oc-notes/part-00000-444191fd-bbcd-4216-80cd-f9e5c1b06ed9-c000.snappy.parquet</td><td>part-00000-444191fd-bbcd-4216-80cd-f9e5c1b06ed9-c000.snappy.parquet</td><td>14465</td><td>1677663594000</td></tr><tr><td>dbfs:/FileStore/HLS/nlp/delta/jsl/bronze/mt-oc-notes/part-00000-4d3366ed-beab-4219-a350-97e3eec35d0c-c000.snappy.parquet</td><td>part-00000-4d3366ed-beab-4219-a350-97e3eec35d0c-c000.snappy.parquet</td><td>16863</td><td>1672618919000</td></tr><tr><td>dbfs:/FileStore/HLS/nlp/delta/jsl/bronze/mt-oc-notes/part-00000-5c297468-f717-4e29-b4d1-fa61634c5847-c000.snappy.parquet</td><td>part-00000-5c297468-f717-4e29-b4d1-fa61634c5847-c000.snappy.parquet</td><td>16863</td><td>1677766399000</td></tr><tr><td>dbfs:/FileStore/HLS/nlp/delta/jsl/bronze/mt-oc-notes/part-00000-5e0a1fcd-c964-49fe-8e4c-80ca8d17707c-c000.snappy.parquet</td><td>part-00000-5e0a1fcd-c964-49fe-8e4c-80ca8d17707c-c000.snappy.parquet</td><td>14982</td><td>1671462688000</td></tr><tr><td>dbfs:/FileStore/HLS/nlp/delta/jsl/bronze/mt-oc-notes/part-00000-5ff646a0-c9dd-46f3-99f6-44678702b08d-c000.snappy.parquet</td><td>part-00000-5ff646a0-c9dd-46f3-99f6-44678702b08d-c000.snappy.parquet</td><td>16863</td><td>1671278963000</td></tr><tr><td>dbfs:/FileStore/HLS/nlp/delta/jsl/bronze/mt-oc-notes/part-00000-62f4d2cf-fee7-4b94-ab2e-48affc55a172-c000.snappy.parquet</td><td>part-00000-62f4d2cf-fee7-4b94-ab2e-48affc55a172-c000.snappy.parquet</td><td>16863</td><td>1672668344000</td></tr><tr><td>dbfs:/FileStore/HLS/nlp/delta/jsl/bronze/mt-oc-notes/part-00000-64e29624-e281-4f48-a299-7ab2a5cceacb-c000.snappy.parquet</td><td>part-00000-64e29624-e281-4f48-a299-7ab2a5cceacb-c000.snappy.parquet</td><td>14465</td><td>1677074308000</td></tr><tr><td>dbfs:/FileStore/HLS/nlp/delta/jsl/bronze/mt-oc-notes/part-00000-8028dc4b-d771-409b-9d94-045bb6372fb2-c000.snappy.parquet</td><td>part-00000-8028dc4b-d771-409b-9d94-045bb6372fb2-c000.snappy.parquet</td><td>14465</td><td>1695884369000</td></tr><tr><td>dbfs:/FileStore/HLS/nlp/delta/jsl/bronze/mt-oc-notes/part-00000-8bff4b65-dc9f-4a44-9476-16debcb75ac4-c000.snappy.parquet</td><td>part-00000-8bff4b65-dc9f-4a44-9476-16debcb75ac4-c000.snappy.parquet</td><td>14465</td><td>1695233348000</td></tr><tr><td>dbfs:/FileStore/HLS/nlp/delta/jsl/bronze/mt-oc-notes/part-00000-962beb75-6e96-4a90-af29-59e79a3bcbc5-c000.snappy.parquet</td><td>part-00000-962beb75-6e96-4a90-af29-59e79a3bcbc5-c000.snappy.parquet</td><td>14465</td><td>1690550800000</td></tr><tr><td>dbfs:/FileStore/HLS/nlp/delta/jsl/bronze/mt-oc-notes/part-00000-a6d9fed4-8c74-4b45-a12d-c6278bf6041a-c000.snappy.parquet</td><td>part-00000-a6d9fed4-8c74-4b45-a12d-c6278bf6041a-c000.snappy.parquet</td><td>16863</td><td>1678470967000</td></tr><tr><td>dbfs:/FileStore/HLS/nlp/delta/jsl/bronze/mt-oc-notes/part-00000-adb57a98-3f35-47dd-8435-15bafd40573e-c000.snappy.parquet</td><td>part-00000-adb57a98-3f35-47dd-8435-15bafd40573e-c000.snappy.parquet</td><td>14465</td><td>1690460942000</td></tr><tr><td>dbfs:/FileStore/HLS/nlp/delta/jsl/bronze/mt-oc-notes/part-00000-b1f012c3-6ff2-4943-8d9b-8bfed68b1940-c000.snappy.parquet</td><td>part-00000-b1f012c3-6ff2-4943-8d9b-8bfed68b1940-c000.snappy.parquet</td><td>16863</td><td>1678463012000</td></tr><tr><td>dbfs:/FileStore/HLS/nlp/delta/jsl/bronze/mt-oc-notes/part-00000-b3876fcb-e550-45c2-b9a5-629b4ff0a20c-c000.snappy.parquet</td><td>part-00000-b3876fcb-e550-45c2-b9a5-629b4ff0a20c-c000.snappy.parquet</td><td>14465</td><td>1690876890000</td></tr><tr><td>dbfs:/FileStore/HLS/nlp/delta/jsl/bronze/mt-oc-notes/part-00000-bc911639-e91a-4772-b613-7981f6d10c3b-c000.snappy.parquet</td><td>part-00000-bc911639-e91a-4772-b613-7981f6d10c3b-c000.snappy.parquet</td><td>17346</td><td>1670419209000</td></tr><tr><td>dbfs:/FileStore/HLS/nlp/delta/jsl/bronze/mt-oc-notes/part-00000-caabd5ca-2b0f-46b9-8f19-8a64490543cc-c000.snappy.parquet</td><td>part-00000-caabd5ca-2b0f-46b9-8f19-8a64490543cc-c000.snappy.parquet</td><td>17346</td><td>1683111758000</td></tr><tr><td>dbfs:/FileStore/HLS/nlp/delta/jsl/bronze/mt-oc-notes/part-00000-d3e0c238-8f2e-40f1-87f3-efb80d90f867-c000.snappy.parquet</td><td>part-00000-d3e0c238-8f2e-40f1-87f3-efb80d90f867-c000.snappy.parquet</td><td>14465</td><td>1690548876000</td></tr><tr><td>dbfs:/FileStore/HLS/nlp/delta/jsl/bronze/mt-oc-notes/part-00000-d54b985d-3c47-4be0-ba5d-42aa33d3bfd4-c000.snappy.parquet</td><td>part-00000-d54b985d-3c47-4be0-ba5d-42aa33d3bfd4-c000.snappy.parquet</td><td>17346</td><td>1670586035000</td></tr><tr><td>dbfs:/FileStore/HLS/nlp/delta/jsl/bronze/mt-oc-notes/part-00000-d92738f1-f74e-486b-aad6-88fb7220d846-c000.snappy.parquet</td><td>part-00000-d92738f1-f74e-486b-aad6-88fb7220d846-c000.snappy.parquet</td><td>16863</td><td>1678186050000</td></tr><tr><td>dbfs:/FileStore/HLS/nlp/delta/jsl/bronze/mt-oc-notes/part-00000-de96fb7e-7887-4ce3-ad30-fee750f4bc92-c000.snappy.parquet</td><td>part-00000-de96fb7e-7887-4ce3-ad30-fee750f4bc92-c000.snappy.parquet</td><td>14465</td><td>1690551137000</td></tr><tr><td>dbfs:/FileStore/HLS/nlp/delta/jsl/bronze/mt-oc-notes/part-00000-ebe0d823-f629-400a-a886-08a355820975-c000.snappy.parquet</td><td>part-00000-ebe0d823-f629-400a-a886-08a355820975-c000.snappy.parquet</td><td>16863</td><td>1678117470000</td></tr><tr><td>dbfs:/FileStore/HLS/nlp/delta/jsl/bronze/mt-oc-notes/part-00001-048470bc-6764-433b-9d01-34d680366037-c000.snappy.parquet</td><td>part-00001-048470bc-6764-433b-9d01-34d680366037-c000.snappy.parquet</td><td>9773</td><td>1690876890000</td></tr><tr><td>dbfs:/FileStore/HLS/nlp/delta/jsl/bronze/mt-oc-notes/part-00001-0db039c4-519b-40db-b156-bce5ece1391f-c000.snappy.parquet</td><td>part-00001-0db039c4-519b-40db-b156-bce5ece1391f-c000.snappy.parquet</td><td>8886</td><td>1672668259000</td></tr><tr><td>dbfs:/FileStore/HLS/nlp/delta/jsl/bronze/mt-oc-notes/part-00001-0ef55dab-de0f-48ff-906f-beeeeda4fe8f-c000.snappy.parquet</td><td>part-00001-0ef55dab-de0f-48ff-906f-beeeeda4fe8f-c000.snappy.parquet</td><td>8988</td><td>1677663594000</td></tr><tr><td>dbfs:/FileStore/HLS/nlp/delta/jsl/bronze/mt-oc-notes/part-00001-11bb3666-a0b8-419e-8daf-6780e1eac307-c000.snappy.parquet</td><td>part-00001-11bb3666-a0b8-419e-8daf-6780e1eac307-c000.snappy.parquet</td><td>8988</td><td>1676300072000</td></tr><tr><td>dbfs:/FileStore/HLS/nlp/delta/jsl/bronze/mt-oc-notes/part-00001-202f9823-f59f-4fca-8e7a-605abc4cf72d-c000.snappy.parquet</td><td>part-00001-202f9823-f59f-4fca-8e7a-605abc4cf72d-c000.snappy.parquet</td><td>8886</td><td>1678470967000</td></tr><tr><td>dbfs:/FileStore/HLS/nlp/delta/jsl/bronze/mt-oc-notes/part-00001-2512a16a-60c4-450d-89e9-045cede51387-c000.snappy.parquet</td><td>part-00001-2512a16a-60c4-450d-89e9-045cede51387-c000.snappy.parquet</td><td>8886</td><td>1672316883000</td></tr><tr><td>dbfs:/FileStore/HLS/nlp/delta/jsl/bronze/mt-oc-notes/part-00001-2a72ae44-e0d0-441c-a0c6-640ebd6ab13c-c000.snappy.parquet</td><td>part-00001-2a72ae44-e0d0-441c-a0c6-640ebd6ab13c-c000.snappy.parquet</td><td>8886</td><td>1678463012000</td></tr><tr><td>dbfs:/FileStore/HLS/nlp/delta/jsl/bronze/mt-oc-notes/part-00001-2bace718-416f-49da-9065-9a8b2791d93c-c000.snappy.parquet</td><td>part-00001-2bace718-416f-49da-9065-9a8b2791d93c-c000.snappy.parquet</td><td>8886</td><td>1672668344000</td></tr><tr><td>dbfs:/FileStore/HLS/nlp/delta/jsl/bronze/mt-oc-notes/part-00001-2d2cc053-4bfc-46e8-8d0f-c597cef8b7ea-c000.snappy.parquet</td><td>part-00001-2d2cc053-4bfc-46e8-8d0f-c597cef8b7ea-c000.snappy.parquet</td><td>8886</td><td>1671278963000</td></tr><tr><td>dbfs:/FileStore/HLS/nlp/delta/jsl/bronze/mt-oc-notes/part-00001-2e950f45-d20c-452d-bfb4-18adbb72cff9-c000.snappy.parquet</td><td>part-00001-2e950f45-d20c-452d-bfb4-18adbb72cff9-c000.snappy.parquet</td><td>9773</td><td>1695233361000</td></tr><tr><td>dbfs:/FileStore/HLS/nlp/delta/jsl/bronze/mt-oc-notes/part-00001-2feeafbb-a970-49be-b85e-661ce301fc04-c000.snappy.parquet</td><td>part-00001-2feeafbb-a970-49be-b85e-661ce301fc04-c000.snappy.parquet</td><td>9361</td><td>1670419209000</td></tr><tr><td>dbfs:/FileStore/HLS/nlp/delta/jsl/bronze/mt-oc-notes/part-00001-3b2612a0-e28c-4879-9cbf-12b2955e9ed7-c000.snappy.parquet</td><td>part-00001-3b2612a0-e28c-4879-9cbf-12b2955e9ed7-c000.snappy.parquet</td><td>9491</td><td>1671462688000</td></tr><tr><td>dbfs:/FileStore/HLS/nlp/delta/jsl/bronze/mt-oc-notes/part-00001-3ebad6a4-8501-40da-a67e-e7c43bb74cf0-c000.snappy.parquet</td><td>part-00001-3ebad6a4-8501-40da-a67e-e7c43bb74cf0-c000.snappy.parquet</td><td>9361</td><td>1683111758000</td></tr><tr><td>dbfs:/FileStore/HLS/nlp/delta/jsl/bronze/mt-oc-notes/part-00001-45e588c1-03ea-4483-889a-d7dd43f0bddb-c000.snappy.parquet</td><td>part-00001-45e588c1-03ea-4483-889a-d7dd43f0bddb-c000.snappy.parquet</td><td>8988</td><td>1670889292000</td></tr><tr><td>dbfs:/FileStore/HLS/nlp/delta/jsl/bronze/mt-oc-notes/part-00001-59f86685-6fec-4302-91e8-369280ba509b-c000.snappy.parquet</td><td>part-00001-59f86685-6fec-4302-91e8-369280ba509b-c000.snappy.parquet</td><td>9773</td><td>1695884382000</td></tr><tr><td>dbfs:/FileStore/HLS/nlp/delta/jsl/bronze/mt-oc-notes/part-00001-6318b0dd-22c4-4382-aa78-c41163446194-c000.snappy.parquet</td><td>part-00001-6318b0dd-22c4-4382-aa78-c41163446194-c000.snappy.parquet</td><td>9361</td><td>1670586035000</td></tr><tr><td>dbfs:/FileStore/HLS/nlp/delta/jsl/bronze/mt-oc-notes/part-00001-7438b8ca-e4ab-4aca-a31d-9f19b74137f7-c000.snappy.parquet</td><td>part-00001-7438b8ca-e4ab-4aca-a31d-9f19b74137f7-c000.snappy.parquet</td><td>8988</td><td>1677436344000</td></tr><tr><td>dbfs:/FileStore/HLS/nlp/delta/jsl/bronze/mt-oc-notes/part-00001-7c29a912-5b90-42f6-9d55-1cdd13d33cfe-c000.snappy.parquet</td><td>part-00001-7c29a912-5b90-42f6-9d55-1cdd13d33cfe-c000.snappy.parquet</td><td>9491</td><td>1671462255000</td></tr><tr><td>dbfs:/FileStore/HLS/nlp/delta/jsl/bronze/mt-oc-notes/part-00001-7c627fd6-46a0-4926-a804-1eb3f789e425-c000.snappy.parquet</td><td>part-00001-7c627fd6-46a0-4926-a804-1eb3f789e425-c000.snappy.parquet</td><td>8988</td><td>1690548876000</td></tr><tr><td>dbfs:/FileStore/HLS/nlp/delta/jsl/bronze/mt-oc-notes/part-00001-803521d4-75ec-486c-8a93-9a6bd48226bd-c000.snappy.parquet</td><td>part-00001-803521d4-75ec-486c-8a93-9a6bd48226bd-c000.snappy.parquet</td><td>8988</td><td>1690460942000</td></tr><tr><td>dbfs:/FileStore/HLS/nlp/delta/jsl/bronze/mt-oc-notes/part-00001-86813fab-02ac-44fe-88d4-8ca90395dcbd-c000.snappy.parquet</td><td>part-00001-86813fab-02ac-44fe-88d4-8ca90395dcbd-c000.snappy.parquet</td><td>8886</td><td>1677766399000</td></tr><tr><td>dbfs:/FileStore/HLS/nlp/delta/jsl/bronze/mt-oc-notes/part-00001-87b2a93c-5ef2-4aa5-840f-f5abd378d616-c000.snappy.parquet</td><td>part-00001-87b2a93c-5ef2-4aa5-840f-f5abd378d616-c000.snappy.parquet</td><td>8988</td><td>1670935010000</td></tr><tr><td>dbfs:/FileStore/HLS/nlp/delta/jsl/bronze/mt-oc-notes/part-00001-a15a6a3c-b906-4837-9e1b-5c013c526f87-c000.snappy.parquet</td><td>part-00001-a15a6a3c-b906-4837-9e1b-5c013c526f87-c000.snappy.parquet</td><td>8988</td><td>1692343864000</td></tr><tr><td>dbfs:/FileStore/HLS/nlp/delta/jsl/bronze/mt-oc-notes/part-00001-a43a5f22-bc9b-4d80-ad1a-83f4ebf15aea-c000.snappy.parquet</td><td>part-00001-a43a5f22-bc9b-4d80-ad1a-83f4ebf15aea-c000.snappy.parquet</td><td>9773</td><td>1690550800000</td></tr><tr><td>dbfs:/FileStore/HLS/nlp/delta/jsl/bronze/mt-oc-notes/part-00001-c3db617c-a2f6-478c-ab32-e2d3cb535d8b-c000.snappy.parquet</td><td>part-00001-c3db617c-a2f6-478c-ab32-e2d3cb535d8b-c000.snappy.parquet</td><td>8886</td><td>1678186050000</td></tr><tr><td>dbfs:/FileStore/HLS/nlp/delta/jsl/bronze/mt-oc-notes/part-00001-cec66b40-af39-4c1f-a6f4-e07a5c27aa6a-c000.snappy.parquet</td><td>part-00001-cec66b40-af39-4c1f-a6f4-e07a5c27aa6a-c000.snappy.parquet</td><td>8886</td><td>1672621045000</td></tr><tr><td>dbfs:/FileStore/HLS/nlp/delta/jsl/bronze/mt-oc-notes/part-00001-d985d400-571d-45ad-ac80-be842622ca5b-c000.snappy.parquet</td><td>part-00001-d985d400-571d-45ad-ac80-be842622ca5b-c000.snappy.parquet</td><td>9773</td><td>1694720520000</td></tr><tr><td>dbfs:/FileStore/HLS/nlp/delta/jsl/bronze/mt-oc-notes/part-00001-e003c2c5-ec86-49d2-88fb-6c19f2529e07-c000.snappy.parquet</td><td>part-00001-e003c2c5-ec86-49d2-88fb-6c19f2529e07-c000.snappy.parquet</td><td>8886</td><td>1672618919000</td></tr><tr><td>dbfs:/FileStore/HLS/nlp/delta/jsl/bronze/mt-oc-notes/part-00001-e43a95a0-7f22-43e2-9807-77dbcb6e6a41-c000.snappy.parquet</td><td>part-00001-e43a95a0-7f22-43e2-9807-77dbcb6e6a41-c000.snappy.parquet</td><td>8988</td><td>1677074308000</td></tr><tr><td>dbfs:/FileStore/HLS/nlp/delta/jsl/bronze/mt-oc-notes/part-00001-e69f296e-11a0-413e-b261-c7d501f0e743-c000.snappy.parquet</td><td>part-00001-e69f296e-11a0-413e-b261-c7d501f0e743-c000.snappy.parquet</td><td>9773</td><td>1690551137000</td></tr><tr><td>dbfs:/FileStore/HLS/nlp/delta/jsl/bronze/mt-oc-notes/part-00001-fecf1428-3497-4693-a3a5-cf240bdfe6a9-c000.snappy.parquet</td><td>part-00001-fecf1428-3497-4693-a3a5-cf240bdfe6a9-c000.snappy.parquet</td><td>8886</td><td>1678117470000</td></tr></tbody></table></div>"
      ]
     },
     "metadata": {
      "application/vnd.databricks.v1+output": {
       "addedWidgets": {},
       "aggData": [],
       "aggError": "",
       "aggOverflow": false,
       "aggSchema": [],
       "aggSeriesLimitReached": false,
       "aggType": "",
       "arguments": {},
       "columnCustomDisplayInfos": {},
       "data": [
        [
         "dbfs:/FileStore/HLS/nlp/delta/jsl/bronze/mt-oc-notes/_delta_log/",
         "_delta_log/",
         0,
         1695884392000
        ],
        [
         "dbfs:/FileStore/HLS/nlp/delta/jsl/bronze/mt-oc-notes/part-00000-0362e841-51bc-4a6e-b208-98e304a609e6-c000.snappy.parquet",
         "part-00000-0362e841-51bc-4a6e-b208-98e304a609e6-c000.snappy.parquet",
         14465,
         1677436344000
        ],
        [
         "dbfs:/FileStore/HLS/nlp/delta/jsl/bronze/mt-oc-notes/part-00000-0813bb9f-ab15-49ab-9a88-422df69bd614-c000.snappy.parquet",
         "part-00000-0813bb9f-ab15-49ab-9a88-422df69bd614-c000.snappy.parquet",
         14465,
         1694720522000
        ],
        [
         "dbfs:/FileStore/HLS/nlp/delta/jsl/bronze/mt-oc-notes/part-00000-0a7a9d5d-3e07-47b3-be75-e72b8d5ca574-c000.snappy.parquet",
         "part-00000-0a7a9d5d-3e07-47b3-be75-e72b8d5ca574-c000.snappy.parquet",
         14465,
         1670935010000
        ],
        [
         "dbfs:/FileStore/HLS/nlp/delta/jsl/bronze/mt-oc-notes/part-00000-0d47db17-d9cd-409b-ac8f-f3db8dbd813d-c000.snappy.parquet",
         "part-00000-0d47db17-d9cd-409b-ac8f-f3db8dbd813d-c000.snappy.parquet",
         14465,
         1670889292000
        ],
        [
         "dbfs:/FileStore/HLS/nlp/delta/jsl/bronze/mt-oc-notes/part-00000-0f791bf4-bdfc-433b-ac6e-d5728dc9e7ec-c000.snappy.parquet",
         "part-00000-0f791bf4-bdfc-433b-ac6e-d5728dc9e7ec-c000.snappy.parquet",
         14465,
         1692343864000
        ],
        [
         "dbfs:/FileStore/HLS/nlp/delta/jsl/bronze/mt-oc-notes/part-00000-0fbbef16-85cf-4966-a7cc-8c71ff6abcf3-c000.snappy.parquet",
         "part-00000-0fbbef16-85cf-4966-a7cc-8c71ff6abcf3-c000.snappy.parquet",
         16863,
         1672316882000
        ],
        [
         "dbfs:/FileStore/HLS/nlp/delta/jsl/bronze/mt-oc-notes/part-00000-18b61779-cba8-4d14-8690-5a3e2e816a79-c000.snappy.parquet",
         "part-00000-18b61779-cba8-4d14-8690-5a3e2e816a79-c000.snappy.parquet",
         14982,
         1671462255000
        ],
        [
         "dbfs:/FileStore/HLS/nlp/delta/jsl/bronze/mt-oc-notes/part-00000-21ed556d-0570-4172-b707-5d242be2fbc5-c000.snappy.parquet",
         "part-00000-21ed556d-0570-4172-b707-5d242be2fbc5-c000.snappy.parquet",
         16863,
         1672621045000
        ],
        [
         "dbfs:/FileStore/HLS/nlp/delta/jsl/bronze/mt-oc-notes/part-00000-27aa4670-5abf-4ef8-a878-9c838386e739-c000.snappy.parquet",
         "part-00000-27aa4670-5abf-4ef8-a878-9c838386e739-c000.snappy.parquet",
         14465,
         1676300072000
        ],
        [
         "dbfs:/FileStore/HLS/nlp/delta/jsl/bronze/mt-oc-notes/part-00000-3f757a37-8003-4e88-a180-872d0341bda1-c000.snappy.parquet",
         "part-00000-3f757a37-8003-4e88-a180-872d0341bda1-c000.snappy.parquet",
         16863,
         1672668259000
        ],
        [
         "dbfs:/FileStore/HLS/nlp/delta/jsl/bronze/mt-oc-notes/part-00000-444191fd-bbcd-4216-80cd-f9e5c1b06ed9-c000.snappy.parquet",
         "part-00000-444191fd-bbcd-4216-80cd-f9e5c1b06ed9-c000.snappy.parquet",
         14465,
         1677663594000
        ],
        [
         "dbfs:/FileStore/HLS/nlp/delta/jsl/bronze/mt-oc-notes/part-00000-4d3366ed-beab-4219-a350-97e3eec35d0c-c000.snappy.parquet",
         "part-00000-4d3366ed-beab-4219-a350-97e3eec35d0c-c000.snappy.parquet",
         16863,
         1672618919000
        ],
        [
         "dbfs:/FileStore/HLS/nlp/delta/jsl/bronze/mt-oc-notes/part-00000-5c297468-f717-4e29-b4d1-fa61634c5847-c000.snappy.parquet",
         "part-00000-5c297468-f717-4e29-b4d1-fa61634c5847-c000.snappy.parquet",
         16863,
         1677766399000
        ],
        [
         "dbfs:/FileStore/HLS/nlp/delta/jsl/bronze/mt-oc-notes/part-00000-5e0a1fcd-c964-49fe-8e4c-80ca8d17707c-c000.snappy.parquet",
         "part-00000-5e0a1fcd-c964-49fe-8e4c-80ca8d17707c-c000.snappy.parquet",
         14982,
         1671462688000
        ],
        [
         "dbfs:/FileStore/HLS/nlp/delta/jsl/bronze/mt-oc-notes/part-00000-5ff646a0-c9dd-46f3-99f6-44678702b08d-c000.snappy.parquet",
         "part-00000-5ff646a0-c9dd-46f3-99f6-44678702b08d-c000.snappy.parquet",
         16863,
         1671278963000
        ],
        [
         "dbfs:/FileStore/HLS/nlp/delta/jsl/bronze/mt-oc-notes/part-00000-62f4d2cf-fee7-4b94-ab2e-48affc55a172-c000.snappy.parquet",
         "part-00000-62f4d2cf-fee7-4b94-ab2e-48affc55a172-c000.snappy.parquet",
         16863,
         1672668344000
        ],
        [
         "dbfs:/FileStore/HLS/nlp/delta/jsl/bronze/mt-oc-notes/part-00000-64e29624-e281-4f48-a299-7ab2a5cceacb-c000.snappy.parquet",
         "part-00000-64e29624-e281-4f48-a299-7ab2a5cceacb-c000.snappy.parquet",
         14465,
         1677074308000
        ],
        [
         "dbfs:/FileStore/HLS/nlp/delta/jsl/bronze/mt-oc-notes/part-00000-8028dc4b-d771-409b-9d94-045bb6372fb2-c000.snappy.parquet",
         "part-00000-8028dc4b-d771-409b-9d94-045bb6372fb2-c000.snappy.parquet",
         14465,
         1695884369000
        ],
        [
         "dbfs:/FileStore/HLS/nlp/delta/jsl/bronze/mt-oc-notes/part-00000-8bff4b65-dc9f-4a44-9476-16debcb75ac4-c000.snappy.parquet",
         "part-00000-8bff4b65-dc9f-4a44-9476-16debcb75ac4-c000.snappy.parquet",
         14465,
         1695233348000
        ],
        [
         "dbfs:/FileStore/HLS/nlp/delta/jsl/bronze/mt-oc-notes/part-00000-962beb75-6e96-4a90-af29-59e79a3bcbc5-c000.snappy.parquet",
         "part-00000-962beb75-6e96-4a90-af29-59e79a3bcbc5-c000.snappy.parquet",
         14465,
         1690550800000
        ],
        [
         "dbfs:/FileStore/HLS/nlp/delta/jsl/bronze/mt-oc-notes/part-00000-a6d9fed4-8c74-4b45-a12d-c6278bf6041a-c000.snappy.parquet",
         "part-00000-a6d9fed4-8c74-4b45-a12d-c6278bf6041a-c000.snappy.parquet",
         16863,
         1678470967000
        ],
        [
         "dbfs:/FileStore/HLS/nlp/delta/jsl/bronze/mt-oc-notes/part-00000-adb57a98-3f35-47dd-8435-15bafd40573e-c000.snappy.parquet",
         "part-00000-adb57a98-3f35-47dd-8435-15bafd40573e-c000.snappy.parquet",
         14465,
         1690460942000
        ],
        [
         "dbfs:/FileStore/HLS/nlp/delta/jsl/bronze/mt-oc-notes/part-00000-b1f012c3-6ff2-4943-8d9b-8bfed68b1940-c000.snappy.parquet",
         "part-00000-b1f012c3-6ff2-4943-8d9b-8bfed68b1940-c000.snappy.parquet",
         16863,
         1678463012000
        ],
        [
         "dbfs:/FileStore/HLS/nlp/delta/jsl/bronze/mt-oc-notes/part-00000-b3876fcb-e550-45c2-b9a5-629b4ff0a20c-c000.snappy.parquet",
         "part-00000-b3876fcb-e550-45c2-b9a5-629b4ff0a20c-c000.snappy.parquet",
         14465,
         1690876890000
        ],
        [
         "dbfs:/FileStore/HLS/nlp/delta/jsl/bronze/mt-oc-notes/part-00000-bc911639-e91a-4772-b613-7981f6d10c3b-c000.snappy.parquet",
         "part-00000-bc911639-e91a-4772-b613-7981f6d10c3b-c000.snappy.parquet",
         17346,
         1670419209000
        ],
        [
         "dbfs:/FileStore/HLS/nlp/delta/jsl/bronze/mt-oc-notes/part-00000-caabd5ca-2b0f-46b9-8f19-8a64490543cc-c000.snappy.parquet",
         "part-00000-caabd5ca-2b0f-46b9-8f19-8a64490543cc-c000.snappy.parquet",
         17346,
         1683111758000
        ],
        [
         "dbfs:/FileStore/HLS/nlp/delta/jsl/bronze/mt-oc-notes/part-00000-d3e0c238-8f2e-40f1-87f3-efb80d90f867-c000.snappy.parquet",
         "part-00000-d3e0c238-8f2e-40f1-87f3-efb80d90f867-c000.snappy.parquet",
         14465,
         1690548876000
        ],
        [
         "dbfs:/FileStore/HLS/nlp/delta/jsl/bronze/mt-oc-notes/part-00000-d54b985d-3c47-4be0-ba5d-42aa33d3bfd4-c000.snappy.parquet",
         "part-00000-d54b985d-3c47-4be0-ba5d-42aa33d3bfd4-c000.snappy.parquet",
         17346,
         1670586035000
        ],
        [
         "dbfs:/FileStore/HLS/nlp/delta/jsl/bronze/mt-oc-notes/part-00000-d92738f1-f74e-486b-aad6-88fb7220d846-c000.snappy.parquet",
         "part-00000-d92738f1-f74e-486b-aad6-88fb7220d846-c000.snappy.parquet",
         16863,
         1678186050000
        ],
        [
         "dbfs:/FileStore/HLS/nlp/delta/jsl/bronze/mt-oc-notes/part-00000-de96fb7e-7887-4ce3-ad30-fee750f4bc92-c000.snappy.parquet",
         "part-00000-de96fb7e-7887-4ce3-ad30-fee750f4bc92-c000.snappy.parquet",
         14465,
         1690551137000
        ],
        [
         "dbfs:/FileStore/HLS/nlp/delta/jsl/bronze/mt-oc-notes/part-00000-ebe0d823-f629-400a-a886-08a355820975-c000.snappy.parquet",
         "part-00000-ebe0d823-f629-400a-a886-08a355820975-c000.snappy.parquet",
         16863,
         1678117470000
        ],
        [
         "dbfs:/FileStore/HLS/nlp/delta/jsl/bronze/mt-oc-notes/part-00001-048470bc-6764-433b-9d01-34d680366037-c000.snappy.parquet",
         "part-00001-048470bc-6764-433b-9d01-34d680366037-c000.snappy.parquet",
         9773,
         1690876890000
        ],
        [
         "dbfs:/FileStore/HLS/nlp/delta/jsl/bronze/mt-oc-notes/part-00001-0db039c4-519b-40db-b156-bce5ece1391f-c000.snappy.parquet",
         "part-00001-0db039c4-519b-40db-b156-bce5ece1391f-c000.snappy.parquet",
         8886,
         1672668259000
        ],
        [
         "dbfs:/FileStore/HLS/nlp/delta/jsl/bronze/mt-oc-notes/part-00001-0ef55dab-de0f-48ff-906f-beeeeda4fe8f-c000.snappy.parquet",
         "part-00001-0ef55dab-de0f-48ff-906f-beeeeda4fe8f-c000.snappy.parquet",
         8988,
         1677663594000
        ],
        [
         "dbfs:/FileStore/HLS/nlp/delta/jsl/bronze/mt-oc-notes/part-00001-11bb3666-a0b8-419e-8daf-6780e1eac307-c000.snappy.parquet",
         "part-00001-11bb3666-a0b8-419e-8daf-6780e1eac307-c000.snappy.parquet",
         8988,
         1676300072000
        ],
        [
         "dbfs:/FileStore/HLS/nlp/delta/jsl/bronze/mt-oc-notes/part-00001-202f9823-f59f-4fca-8e7a-605abc4cf72d-c000.snappy.parquet",
         "part-00001-202f9823-f59f-4fca-8e7a-605abc4cf72d-c000.snappy.parquet",
         8886,
         1678470967000
        ],
        [
         "dbfs:/FileStore/HLS/nlp/delta/jsl/bronze/mt-oc-notes/part-00001-2512a16a-60c4-450d-89e9-045cede51387-c000.snappy.parquet",
         "part-00001-2512a16a-60c4-450d-89e9-045cede51387-c000.snappy.parquet",
         8886,
         1672316883000
        ],
        [
         "dbfs:/FileStore/HLS/nlp/delta/jsl/bronze/mt-oc-notes/part-00001-2a72ae44-e0d0-441c-a0c6-640ebd6ab13c-c000.snappy.parquet",
         "part-00001-2a72ae44-e0d0-441c-a0c6-640ebd6ab13c-c000.snappy.parquet",
         8886,
         1678463012000
        ],
        [
         "dbfs:/FileStore/HLS/nlp/delta/jsl/bronze/mt-oc-notes/part-00001-2bace718-416f-49da-9065-9a8b2791d93c-c000.snappy.parquet",
         "part-00001-2bace718-416f-49da-9065-9a8b2791d93c-c000.snappy.parquet",
         8886,
         1672668344000
        ],
        [
         "dbfs:/FileStore/HLS/nlp/delta/jsl/bronze/mt-oc-notes/part-00001-2d2cc053-4bfc-46e8-8d0f-c597cef8b7ea-c000.snappy.parquet",
         "part-00001-2d2cc053-4bfc-46e8-8d0f-c597cef8b7ea-c000.snappy.parquet",
         8886,
         1671278963000
        ],
        [
         "dbfs:/FileStore/HLS/nlp/delta/jsl/bronze/mt-oc-notes/part-00001-2e950f45-d20c-452d-bfb4-18adbb72cff9-c000.snappy.parquet",
         "part-00001-2e950f45-d20c-452d-bfb4-18adbb72cff9-c000.snappy.parquet",
         9773,
         1695233361000
        ],
        [
         "dbfs:/FileStore/HLS/nlp/delta/jsl/bronze/mt-oc-notes/part-00001-2feeafbb-a970-49be-b85e-661ce301fc04-c000.snappy.parquet",
         "part-00001-2feeafbb-a970-49be-b85e-661ce301fc04-c000.snappy.parquet",
         9361,
         1670419209000
        ],
        [
         "dbfs:/FileStore/HLS/nlp/delta/jsl/bronze/mt-oc-notes/part-00001-3b2612a0-e28c-4879-9cbf-12b2955e9ed7-c000.snappy.parquet",
         "part-00001-3b2612a0-e28c-4879-9cbf-12b2955e9ed7-c000.snappy.parquet",
         9491,
         1671462688000
        ],
        [
         "dbfs:/FileStore/HLS/nlp/delta/jsl/bronze/mt-oc-notes/part-00001-3ebad6a4-8501-40da-a67e-e7c43bb74cf0-c000.snappy.parquet",
         "part-00001-3ebad6a4-8501-40da-a67e-e7c43bb74cf0-c000.snappy.parquet",
         9361,
         1683111758000
        ],
        [
         "dbfs:/FileStore/HLS/nlp/delta/jsl/bronze/mt-oc-notes/part-00001-45e588c1-03ea-4483-889a-d7dd43f0bddb-c000.snappy.parquet",
         "part-00001-45e588c1-03ea-4483-889a-d7dd43f0bddb-c000.snappy.parquet",
         8988,
         1670889292000
        ],
        [
         "dbfs:/FileStore/HLS/nlp/delta/jsl/bronze/mt-oc-notes/part-00001-59f86685-6fec-4302-91e8-369280ba509b-c000.snappy.parquet",
         "part-00001-59f86685-6fec-4302-91e8-369280ba509b-c000.snappy.parquet",
         9773,
         1695884382000
        ],
        [
         "dbfs:/FileStore/HLS/nlp/delta/jsl/bronze/mt-oc-notes/part-00001-6318b0dd-22c4-4382-aa78-c41163446194-c000.snappy.parquet",
         "part-00001-6318b0dd-22c4-4382-aa78-c41163446194-c000.snappy.parquet",
         9361,
         1670586035000
        ],
        [
         "dbfs:/FileStore/HLS/nlp/delta/jsl/bronze/mt-oc-notes/part-00001-7438b8ca-e4ab-4aca-a31d-9f19b74137f7-c000.snappy.parquet",
         "part-00001-7438b8ca-e4ab-4aca-a31d-9f19b74137f7-c000.snappy.parquet",
         8988,
         1677436344000
        ],
        [
         "dbfs:/FileStore/HLS/nlp/delta/jsl/bronze/mt-oc-notes/part-00001-7c29a912-5b90-42f6-9d55-1cdd13d33cfe-c000.snappy.parquet",
         "part-00001-7c29a912-5b90-42f6-9d55-1cdd13d33cfe-c000.snappy.parquet",
         9491,
         1671462255000
        ],
        [
         "dbfs:/FileStore/HLS/nlp/delta/jsl/bronze/mt-oc-notes/part-00001-7c627fd6-46a0-4926-a804-1eb3f789e425-c000.snappy.parquet",
         "part-00001-7c627fd6-46a0-4926-a804-1eb3f789e425-c000.snappy.parquet",
         8988,
         1690548876000
        ],
        [
         "dbfs:/FileStore/HLS/nlp/delta/jsl/bronze/mt-oc-notes/part-00001-803521d4-75ec-486c-8a93-9a6bd48226bd-c000.snappy.parquet",
         "part-00001-803521d4-75ec-486c-8a93-9a6bd48226bd-c000.snappy.parquet",
         8988,
         1690460942000
        ],
        [
         "dbfs:/FileStore/HLS/nlp/delta/jsl/bronze/mt-oc-notes/part-00001-86813fab-02ac-44fe-88d4-8ca90395dcbd-c000.snappy.parquet",
         "part-00001-86813fab-02ac-44fe-88d4-8ca90395dcbd-c000.snappy.parquet",
         8886,
         1677766399000
        ],
        [
         "dbfs:/FileStore/HLS/nlp/delta/jsl/bronze/mt-oc-notes/part-00001-87b2a93c-5ef2-4aa5-840f-f5abd378d616-c000.snappy.parquet",
         "part-00001-87b2a93c-5ef2-4aa5-840f-f5abd378d616-c000.snappy.parquet",
         8988,
         1670935010000
        ],
        [
         "dbfs:/FileStore/HLS/nlp/delta/jsl/bronze/mt-oc-notes/part-00001-a15a6a3c-b906-4837-9e1b-5c013c526f87-c000.snappy.parquet",
         "part-00001-a15a6a3c-b906-4837-9e1b-5c013c526f87-c000.snappy.parquet",
         8988,
         1692343864000
        ],
        [
         "dbfs:/FileStore/HLS/nlp/delta/jsl/bronze/mt-oc-notes/part-00001-a43a5f22-bc9b-4d80-ad1a-83f4ebf15aea-c000.snappy.parquet",
         "part-00001-a43a5f22-bc9b-4d80-ad1a-83f4ebf15aea-c000.snappy.parquet",
         9773,
         1690550800000
        ],
        [
         "dbfs:/FileStore/HLS/nlp/delta/jsl/bronze/mt-oc-notes/part-00001-c3db617c-a2f6-478c-ab32-e2d3cb535d8b-c000.snappy.parquet",
         "part-00001-c3db617c-a2f6-478c-ab32-e2d3cb535d8b-c000.snappy.parquet",
         8886,
         1678186050000
        ],
        [
         "dbfs:/FileStore/HLS/nlp/delta/jsl/bronze/mt-oc-notes/part-00001-cec66b40-af39-4c1f-a6f4-e07a5c27aa6a-c000.snappy.parquet",
         "part-00001-cec66b40-af39-4c1f-a6f4-e07a5c27aa6a-c000.snappy.parquet",
         8886,
         1672621045000
        ],
        [
         "dbfs:/FileStore/HLS/nlp/delta/jsl/bronze/mt-oc-notes/part-00001-d985d400-571d-45ad-ac80-be842622ca5b-c000.snappy.parquet",
         "part-00001-d985d400-571d-45ad-ac80-be842622ca5b-c000.snappy.parquet",
         9773,
         1694720520000
        ],
        [
         "dbfs:/FileStore/HLS/nlp/delta/jsl/bronze/mt-oc-notes/part-00001-e003c2c5-ec86-49d2-88fb-6c19f2529e07-c000.snappy.parquet",
         "part-00001-e003c2c5-ec86-49d2-88fb-6c19f2529e07-c000.snappy.parquet",
         8886,
         1672618919000
        ],
        [
         "dbfs:/FileStore/HLS/nlp/delta/jsl/bronze/mt-oc-notes/part-00001-e43a95a0-7f22-43e2-9807-77dbcb6e6a41-c000.snappy.parquet",
         "part-00001-e43a95a0-7f22-43e2-9807-77dbcb6e6a41-c000.snappy.parquet",
         8988,
         1677074308000
        ],
        [
         "dbfs:/FileStore/HLS/nlp/delta/jsl/bronze/mt-oc-notes/part-00001-e69f296e-11a0-413e-b261-c7d501f0e743-c000.snappy.parquet",
         "part-00001-e69f296e-11a0-413e-b261-c7d501f0e743-c000.snappy.parquet",
         9773,
         1690551137000
        ],
        [
         "dbfs:/FileStore/HLS/nlp/delta/jsl/bronze/mt-oc-notes/part-00001-fecf1428-3497-4693-a3a5-cf240bdfe6a9-c000.snappy.parquet",
         "part-00001-fecf1428-3497-4693-a3a5-cf240bdfe6a9-c000.snappy.parquet",
         8886,
         1678117470000
        ]
       ],
       "datasetInfos": [],
       "dbfsResultPath": null,
       "isJsonSchema": true,
       "metadata": {},
       "overflow": false,
       "plotOptions": {
        "customPlotOptions": {},
        "displayType": "table",
        "pivotAggregation": null,
        "pivotColumns": null,
        "xColumns": null,
        "yColumns": null
       },
       "removedWidgets": [],
       "schema": [
        {
         "metadata": "{}",
         "name": "path",
         "type": "\"string\""
        },
        {
         "metadata": "{}",
         "name": "name",
         "type": "\"string\""
        },
        {
         "metadata": "{}",
         "name": "size",
         "type": "\"long\""
        },
        {
         "metadata": "{}",
         "name": "modificationTime",
         "type": "\"long\""
        }
       ],
       "type": "table"
      }
     },
     "output_type": "display_data"
    }
   ],
   "source": [
    "df.write.format('delta').mode('overwrite').save(f'{delta_path}/bronze/mt-oc-notes')\n",
    "display(dbutils.fs.ls(f'{delta_path}/bronze/mt-oc-notes'))"
   ]
  },
  {
   "cell_type": "markdown",
   "metadata": {
    "application/vnd.databricks.v1+cell": {
     "cellMetadata": {},
     "inputWidgets": {},
     "nuid": "e0347d65-6801-4db6-b1dc-311559a258f0",
     "showTitle": false,
     "title": ""
    },
    "id": "ciRfY4rPWJAW"
   },
   "source": [
    "## ICD-10 code extraction\n",
    "Now, we will create a pipeline to extract ICD10 codes. This pipeline will find diseases and problems and then map their ICD10 codes. We will also check if this problem is still present or not."
   ]
  },
  {
   "cell_type": "code",
   "execution_count": 0,
   "metadata": {
    "application/vnd.databricks.v1+cell": {
     "cellMetadata": {
      "byteLimit": 2048000,
      "rowLimit": 10000
     },
     "inputWidgets": {},
     "nuid": "05b8506c-fcd8-4607-b51f-840d80c6e416",
     "showTitle": false,
     "title": ""
    },
    "colab": {
     "base_uri": "https://localhost:8080/"
    },
    "id": "afLEPJk0WK5w",
    "outputId": "940562df-77d2-4497-b45b-cb8ff880d044"
   },
   "outputs": [
    {
     "output_type": "stream",
     "name": "stdout",
     "output_type": "stream",
     "text": [
      "sentence_detector_dl download started this may take some time.\nApproximate size to download 354.6 KB\n\r[ | ]\r[ / ]\r[ — ]\r[ \\ ]\r[ | ]\r[OK!]\nembeddings_clinical download started this may take some time.\nApproximate size to download 1.6 GB\n\r[ | ]\r[ / ]\r[ — ]\r[ \\ ]\r[ | ]\r[ / ]\r[ — ]\r[ \\ ]\r[ | ]\r[ / ]\r[ — ]\r[ \\ ]\r[ | ]\r[ / ]\r[ — ]\r[ \\ ]\r[ | ]\r[ / ]\r[ — ]\r[ \\ ]\r[ | ]\r[ / ]\r[ — ]\r[ \\ ]\r[ | ]\r[ / ]\r[ — ]\r[ \\ ]\r[ | ]\r[ / ]\r[ — ]\r[ \\ ]\r[ | ]\r[ / ]\r[ — ]\r[ \\ ]\r[ | ]\r[ / ]\r[ — ]\r[ \\ ]\r[ | ]\r[ / ]\r[ — ]\r[ \\ ]\r[ | ]\r[ / ]\r[ — ]\r[OK!]\nner_jsl download started this may take some time.\n\r[ | ]\r[ / ]\r[ — ]\r[ \\ ]\r[ | ]\r[ / ]\r[ — ]\r[ \\ ]\r[ | ]\r[ / ]\r[ — ]\r[ \\ ]\r[ | ]\r[ / ]\r[ — ]\r[ \\ ]\r[ | ]\r[ / ]\r[ — ]\r[ \\ ]\r[ | ]\r[ / ]\r[ — ]\r[ \\ ]\r[ | ]\r[ / ]\r[ — ]\r[ \\ ]\r[ | ]\r[ / ]\r[ — ]\r[ \\ ]\r[ | ]\r[ / ]\r[ — ]\r[ \\ ]\r[ | ]\r[ / ]\r[ — ]\r[ \\ ]\r[ | ]\r[ / ]\r[ — ]\r[ \\ ]\r[ | ]\r[ / ]\r[OK!]\nsbiobert_base_cased_mli download started this may take some time.\nApproximate size to download 384.3 MB\n\r[ | ]\r[ / ]\r[ — ]\r[ \\ ]\r[ | ]\r[ / ]\r[ — ]\r[ \\ ]\r[ | ]\r[ / ]\r[ — ]\r[OK!]\nsbiobertresolve_icd10cm_augmented_billable_hcc download started this may take some time.\n\r[ | ]\r[ / ]\r[ — ]\r[ \\ ]\r[ | ]\r[ / ]\r[ — ]\r[ \\ ]\r[ | ]\r[ / ]\r[ — ]\r[ \\ ]\r[ | ]\r[ / ]\r[ — ]\r[ \\ ]\r[ | ]\r[ / ]\r[ — ]\r[ \\ ]\r[ | ]\r[ / ]\r[ — ]\r[ \\ ]\r[OK!]\njsl_assertion_wip download started this may take some time.\n\r[ | ]\r[ / ]\r[ — ]\r[OK!]\n"
     ]
    }
   ],
   "source": [
    "documentAssembler = DocumentAssembler()\\\n",
    "      .setInputCol(\"text\")\\\n",
    "      .setOutputCol(\"document\")\n",
    "\n",
    "sentenceDetector = SentenceDetectorDLModel.pretrained()\\\n",
    "      .setInputCols([\"document\"])\\\n",
    "      .setOutputCol(\"sentence\")\n",
    "\n",
    "tokenizer = Tokenizer()\\\n",
    "      .setInputCols([\"sentence\"])\\\n",
    "      .setOutputCol(\"token\")\\\n",
    "\n",
    "word_embeddings = WordEmbeddingsModel.pretrained(\"embeddings_clinical\", \"en\", \"clinical/models\")\\\n",
    "      .setInputCols([\"sentence\", \"token\"])\\\n",
    "      .setOutputCol(\"embeddings\")\n",
    "\n",
    "c2doc = Chunk2Doc()\\\n",
    "      .setInputCols(\"ner_chunk\")\\\n",
    "      .setOutputCol(\"ner_chunk_doc\")\n",
    "\n",
    "clinical_ner = MedicalNerModel.pretrained(\"ner_jsl\", \"en\", \"clinical/models\") \\\n",
    "      .setInputCols([\"sentence\", \"token\", \"embeddings\"]) \\\n",
    "      .setOutputCol(\"ner\")\n",
    "\n",
    "ner_converter = NerConverterInternal() \\\n",
    "      .setInputCols([\"sentence\", \"token\", \"ner\"]) \\\n",
    "      .setOutputCol(\"ner_chunk\")\\\n",
    "      .setWhiteList([\"Oncological\", \"Disease_Syndrome_Disorder\", \"Heart_Disease\"])\n",
    "\n",
    "sbert_embedder = BertSentenceEmbeddings\\\n",
    "      .pretrained(\"sbiobert_base_cased_mli\",'en','clinical/models')\\\n",
    "      .setInputCols([\"ner_chunk_doc\"])\\\n",
    "      .setOutputCol(\"sbert_embeddings\")\\\n",
    "      .setCaseSensitive(False)\n",
    "\n",
    "icd10_resolver = SentenceEntityResolverModel.pretrained(\"sbiobertresolve_icd10cm_augmented_billable_hcc\",\"en\", \"clinical/models\")\\\n",
    "    .setInputCols([\"sbert_embeddings\"])\\\n",
    "    .setOutputCol(\"icd10cm_code\")\\\n",
    "    .setDistanceFunction(\"EUCLIDEAN\")\\\n",
    "    .setReturnCosineDistances(True)\n",
    "\n",
    "clinical_assertion = AssertionDLModel.pretrained(\"jsl_assertion_wip\", \"en\", \"clinical/models\") \\\n",
    "    .setInputCols([\"sentence\", \"ner_chunk\", \"embeddings\"]) \\\n",
    "    .setOutputCol(\"assertion\")\n",
    "\n",
    "resolver_pipeline = Pipeline(\n",
    "    stages = [\n",
    "        documentAssembler,\n",
    "        sentenceDetector,\n",
    "        tokenizer,\n",
    "        word_embeddings,\n",
    "        clinical_ner,\n",
    "        ner_converter,\n",
    "        c2doc,\n",
    "        sbert_embedder,\n",
    "        icd10_resolver,\n",
    "        clinical_assertion\n",
    "    ])\n",
    "\n",
    "data_ner = spark.createDataFrame([[\"\"]]).toDF(\"text\")\n",
    "\n",
    "icd_model = resolver_pipeline.fit(data_ner)"
   ]
  },
  {
   "cell_type": "markdown",
   "metadata": {
    "application/vnd.databricks.v1+cell": {
     "cellMetadata": {},
     "inputWidgets": {},
     "nuid": "1e4a3da1-9a41-42f2-8341-182da33357af",
     "showTitle": false,
     "title": ""
    },
    "id": "A7jqBrypWSVB"
   },
   "source": [
    "We can transform the data. In path column, we have long path. Instead we will use filename column. Every file name refers to different patient.\n"
   ]
  },
  {
   "cell_type": "code",
   "execution_count": 0,
   "metadata": {
    "application/vnd.databricks.v1+cell": {
     "cellMetadata": {
      "byteLimit": 2048000,
      "rowLimit": 10000
     },
     "inputWidgets": {},
     "nuid": "8f83920e-96fa-4247-b595-04c2a1383163",
     "showTitle": false,
     "title": ""
    },
    "id": "Irk4IZ-3WRIn"
   },
   "outputs": [
    {
     "output_type": "stream",
     "name": "stderr",
     "output_type": "stream",
     "text": [
      "/databricks/spark/python/pyspark/sql/column.py:464: FutureWarning: A column as 'key' in getItem is deprecated as of Spark 3.0, and will not be supported in the future release. Use `column[key]` or `column.key` syntax instead.\n  warnings.warn(\n"
     ]
    }
   ],
   "source": [
    "path_array = F.split(df['path'], '/')\n",
    "df = df.withColumn('filename', path_array.getItem(F.size(path_array)- 1)).select(['filename', 'text'])\n",
    "\n",
    "icd10_sdf = icd_model.transform(df)"
   ]
  },
  {
   "cell_type": "code",
   "execution_count": 0,
   "metadata": {
    "application/vnd.databricks.v1+cell": {
     "cellMetadata": {
      "byteLimit": 2048000,
      "rowLimit": 10000
     },
     "inputWidgets": {},
     "nuid": "33b04c68-8682-40e5-aefa-41ba944558be",
     "showTitle": false,
     "title": ""
    }
   },
   "outputs": [
    {
     "output_type": "stream",
     "name": "stdout",
     "output_type": "stream",
     "text": [
      "Medical Specialty:Hematology - Oncology\nSample Name: Mullerian Adenosarcoma\nDescription: Discharge summary of a patient presenting with a large mass aborted through the cervix.\n(Medical Transcription Sample Report)\nPRINCIPAL DIAGNOSIS:  Mullerian adenosarcoma.\nHISTORY OF PRESENT ILLNESS:  The patient is a 56-year-old presenting with a large mass aborted through the cervix.\nPHYSICAL EXAM:CHEST: Clear. There is no heart murmur. ABDOMEN: Nontender.\nPELVIC: There is a large mass in the vagina.\nHOSPITAL COURSE:  The patient went to surgery on the day of admission. The postoperative course was marked by fever and ileus. The patient regained bowel function. She was discharged on the morning of the seventh postoperative day.\nOPERATIONS:  July 25, 2006: Total abdominal hysterectomy, bilateral salpingo-oophorectomy.\nDISCHARGE CONDITION:  Stable.\nPLAN:  The patient will remain at rest initially with progressive ambulation thereafter. She will avoid lifting, driving, stairs, or intercourse. She will call me for fevers, drainage, bleeding, or pain. Family history, social history, and psychosocial needs per the social worker. The patient will follow up in my office in one week.\nPATHOLOGY: Mullerian adenosarcoma.\nMEDICATIONS: Percocet 5, #40, one q.3 h. p.r.n. pain.\n\n"
     ]
    }
   ],
   "source": [
    "sample_text = df.select(\"text\").take(2)[1][0]\n",
    "print(sample_text)"
   ]
  },
  {
   "cell_type": "code",
   "execution_count": 0,
   "metadata": {
    "application/vnd.databricks.v1+cell": {
     "cellMetadata": {
      "byteLimit": 2048000,
      "rowLimit": 10000
     },
     "inputWidgets": {},
     "nuid": "b559cdaa-c725-40fc-b405-20f5bbd6eae5",
     "showTitle": false,
     "title": ""
    }
   },
   "outputs": [],
   "source": [
    "sample_text = \"\"\"\n",
    "Medical Specialty:Hematology - Oncology\n",
    "Sample Name: Mullerian Adenosarcoma\n",
    "Description: Discharge summary of a patient presenting with a large mass aborted through the cervix.\n",
    "(Medical Transcription Sample Report)\n",
    "PRINCIPAL DIAGNOSIS:  Mullerian adenosarcoma.\n",
    "HISTORY OF PRESENT ILLNESS:  The patient is a 56-year-old presenting with a large mass aborted through the cervix.\n",
    "PHYSICAL EXAM:CHEST: Clear. There is no heart murmur. ABDOMEN: Nontender.\n",
    "PELVIC: There is a large mass in the vagina.\n",
    "HOSPITAL COURSE:  The patient went to surgery on the day of admission. The postoperative course was marked by fever and ileus. The patient regained bowel function. She was discharged on the morning of the seventh postoperative day.\n",
    "OPERATIONS:  July 25, 2006: Total abdominal hysterectomy, bilateral salpingo-oophorectomy.\n",
    "DISCHARGE CONDITION:  Stable.\n",
    "PLAN:  The patient will remain at rest initially with progressive ambulation thereafter. She will avoid lifting, driving, stairs, or intercourse. She will call me for fevers, drainage, bleeding, or pain. Family history, social history, and psychosocial needs per the social worker. The patient will follow up in my office in one week.\n",
    "PATHOLOGY: Mullerian adenosarcoma.\n",
    "MEDICATIONS: Percocet 5, #40, one q.3 h. p.r.n. pain.\n",
    "\"\"\""
   ]
  },
  {
   "cell_type": "markdown",
   "metadata": {
    "application/vnd.databricks.v1+cell": {
     "cellMetadata": {},
     "inputWidgets": {},
     "nuid": "0b11f112-6326-4d88-a3eb-e2b659a59f7c",
     "showTitle": false,
     "title": ""
    },
    "id": "BWPSPlA5WYGA"
   },
   "source": [
    "Let's see how our model extracted ICD Codes on a sample."
   ]
  },
  {
   "cell_type": "code",
   "execution_count": 0,
   "metadata": {
    "application/vnd.databricks.v1+cell": {
     "cellMetadata": {
      "byteLimit": 2048000,
      "rowLimit": 10000
     },
     "inputWidgets": {},
     "nuid": "4152c9fc-bdfd-4e07-8620-f954811732c2",
     "showTitle": false,
     "title": ""
    },
    "colab": {
     "base_uri": "https://localhost:8080/",
     "height": 698
    },
    "id": "GfMjuAvpWXrf",
    "outputId": "7727fc28-6604-4314-db66-32895ad16bd2"
   },
   "outputs": [
    {
     "output_type": "display_data",
     "data": {
      "text/html": [
       "\n",
       "<style>\n",
       "    @import url('https://fonts.googleapis.com/css2?family=Montserrat:wght@300;400;500;600;700&display=swap');\n",
       "    @import url('https://fonts.googleapis.com/css2?family=Vistol Regular:wght@300;400;500;600;700&display=swap');\n",
       "    \n",
       "    .spark-nlp-display-scroll-entities {\n",
       "        border: 1px solid #E7EDF0;\n",
       "        border-radius: 3px;\n",
       "        text-align: justify;\n",
       "        \n",
       "    }\n",
       "    .spark-nlp-display-scroll-entities span {  \n",
       "        font-size: 14px;\n",
       "        line-height: 24px;\n",
       "        color: #536B76;\n",
       "        font-family: 'Montserrat', sans-serif !important;\n",
       "    }\n",
       "    \n",
       "    .spark-nlp-display-entity-wrapper{\n",
       "    \n",
       "        display: inline-grid;\n",
       "        text-align: center;\n",
       "        border-radius: 4px;\n",
       "        margin: 0 2px 5px 2px;\n",
       "        padding: 1px\n",
       "    }\n",
       "    .spark-nlp-display-entity-name{\n",
       "        font-size: 14px;\n",
       "        line-height: 24px;\n",
       "        font-family: 'Montserrat', sans-serif !important;\n",
       "        \n",
       "        background: #f1f2f3;\n",
       "        border-width: medium;\n",
       "        text-align: center;\n",
       "        \n",
       "        font-weight: 400;\n",
       "        \n",
       "        border-radius: 5px;\n",
       "        padding: 2px 5px;\n",
       "        display: block;\n",
       "        margin: 3px 2px;\n",
       "    \n",
       "    }\n",
       "    .spark-nlp-display-entity-type{\n",
       "        font-size: 14px;\n",
       "        line-height: 24px;\n",
       "        color: #ffffff;\n",
       "        font-family: 'Montserrat', sans-serif !important;\n",
       "        \n",
       "        text-transform: uppercase;\n",
       "        \n",
       "        font-weight: 500;\n",
       "\n",
       "        display: block;\n",
       "        padding: 3px 5px;\n",
       "    }\n",
       "    \n",
       "    .spark-nlp-display-entity-resolution{\n",
       "        font-size: 14px;\n",
       "        line-height: 24px;\n",
       "        color: #ffffff;\n",
       "        font-family: 'Vistol Regular', sans-serif !important;\n",
       "        \n",
       "        text-transform: uppercase;\n",
       "        \n",
       "        font-weight: 500;\n",
       "\n",
       "        display: block;\n",
       "        padding: 3px 5px;\n",
       "    }\n",
       "    \n",
       "    .spark-nlp-display-others{\n",
       "        font-size: 14px;\n",
       "        line-height: 24px;\n",
       "        font-family: 'Montserrat', sans-serif !important;\n",
       "        \n",
       "        font-weight: 400;\n",
       "    }\n",
       "\n",
       "</style>\n",
       " <span class=\"spark-nlp-display-others\" style=\"background-color: white\"><br>Medical Specialty:Hematology - Oncology<br>Sample Name: </span><span class=\"spark-nlp-display-entity-wrapper\" style=\"background-color: #7F5180B3\"><span class=\"spark-nlp-display-entity-name\">Mullerian Adenosarcoma </span><span class=\"spark-nlp-display-entity-type\">Oncological</span><span class=\"spark-nlp-display-entity-resolution\" style=\"background-color: #7F5180FF\">C53.9 </span><span class=\"spark-nlp-display-entity-resolution\" style=\"background-color: #7F5180CC\">cervical adenosarcoma [malignant neoplasm of cervix uteri, unspecified]</span></span><span class=\"spark-nlp-display-others\" style=\"background-color: white\"><br>Description: Discharge summary of a patient presenting with a large mass aborted through the cervix.<br>(Medical Transcription Sample Report)<br>PRINCIPAL DIAGNOSIS:  </span><span class=\"spark-nlp-display-entity-wrapper\" style=\"background-color: #7F5180B3\"><span class=\"spark-nlp-display-entity-name\">Mullerian adenosarcoma </span><span class=\"spark-nlp-display-entity-type\">Oncological</span><span class=\"spark-nlp-display-entity-resolution\" style=\"background-color: #7F5180FF\">C53.9 </span><span class=\"spark-nlp-display-entity-resolution\" style=\"background-color: #7F5180CC\">cervical adenosarcoma [malignant neoplasm of cervix uteri, unspecified]</span></span><span class=\"spark-nlp-display-others\" style=\"background-color: white\">.<br>HISTORY OF PRESENT ILLNESS:  The patient is a 56-year-old presenting with a large mass aborted through the cervix.<br>PHYSICAL EXAM:CHEST: Clear. There is no heart murmur. ABDOMEN: Nontender.<br>PELVIC: There is a large mass in the vagina.<br>HOSPITAL COURSE:  The patient went to surgery on the day of admission. The postoperative course was marked by fever and ileus. The patient regained bowel function. She was discharged on the morning of the seventh postoperative day.<br>OPERATIONS:  July 25, 2006: Total abdominal hysterectomy, bilateral salpingo-oophorectomy.<br>DISCHARGE CONDITION:  Stable.<br>PLAN:  The patient will remain at rest initially with progressive ambulation thereafter. She will avoid lifting, driving, stairs, or intercourse. She will call me for fevers, drainage, bleeding, or pain. Family history, social history, and psychosocial needs per the social worker. The patient will follow up in my office in one week.<br>PATHOLOGY: </span><span class=\"spark-nlp-display-entity-wrapper\" style=\"background-color: #7F5180B3\"><span class=\"spark-nlp-display-entity-name\">Mullerian adenosarcoma </span><span class=\"spark-nlp-display-entity-type\">Oncological</span><span class=\"spark-nlp-display-entity-resolution\" style=\"background-color: #7F5180FF\">C53.9 </span><span class=\"spark-nlp-display-entity-resolution\" style=\"background-color: #7F5180CC\">cervical adenosarcoma [malignant neoplasm of cervix uteri, unspecified]</span></span><span class=\"spark-nlp-display-others\" style=\"background-color: white\">.<br>MEDICATIONS: Percocet 5, #40, one q.3 h. p.r.n. pain.<br></span></div>"
      ],
      "text/plain": [
       "<IPython.core.display.HTML object>"
      ]
     },
     "metadata": {},
     "output_type": "display_data"
    }
   ],
   "source": [
    "light_model = LightPipeline(icd_model)\n",
    "\n",
    "light_result = light_model.fullAnnotate(sample_text)\n",
    "\n",
    "from sparknlp_display import EntityResolverVisualizer\n",
    "\n",
    "vis = EntityResolverVisualizer()\n",
    "\n",
    "# Change color of an entity label\n",
    "vis.set_label_colors({'PROBLEM':'#008080'})\n",
    "\n",
    "vis.display(light_result[0], 'ner_chunk', 'icd10cm_code')"
   ]
  },
  {
   "cell_type": "code",
   "execution_count": 0,
   "metadata": {
    "application/vnd.databricks.v1+cell": {
     "cellMetadata": {
      "byteLimit": 2048000,
      "rowLimit": 10000
     },
     "inputWidgets": {},
     "nuid": "1aa9f74e-d872-41d6-92b3-f129810de85b",
     "showTitle": false,
     "title": ""
    },
    "colab": {
     "base_uri": "https://localhost:8080/",
     "height": 206
    },
    "id": "d4WsG58TWcUM",
    "outputId": "2fdda27e-8ef0-4971-a81f-f269209c3366"
   },
   "outputs": [
    {
     "output_type": "execute_result",
     "data": {
      "text/html": [
       "<div>\n",
       "<style scoped>\n",
       "    .dataframe tbody tr th:only-of-type {\n",
       "        vertical-align: middle;\n",
       "    }\n",
       "\n",
       "    .dataframe tbody tr th {\n",
       "        vertical-align: top;\n",
       "    }\n",
       "\n",
       "    .dataframe thead th {\n",
       "        text-align: right;\n",
       "    }\n",
       "</style>\n",
       "<table border=\"1\" class=\"dataframe\">\n",
       "  <thead>\n",
       "    <tr style=\"text-align: right;\">\n",
       "      <th></th>\n",
       "      <th>filename</th>\n",
       "      <th>chunk</th>\n",
       "      <th>icd10_code</th>\n",
       "      <th>assertion</th>\n",
       "    </tr>\n",
       "  </thead>\n",
       "  <tbody>\n",
       "    <tr>\n",
       "      <th>0</th>\n",
       "      <td>mt_note_01.txt</td>\n",
       "      <td>breast cancer</td>\n",
       "      <td>C50.92</td>\n",
       "      <td>Family</td>\n",
       "    </tr>\n",
       "    <tr>\n",
       "      <th>1</th>\n",
       "      <td>mt_note_01.txt</td>\n",
       "      <td>breast cancer</td>\n",
       "      <td>C50.92</td>\n",
       "      <td>Someoneelse</td>\n",
       "    </tr>\n",
       "    <tr>\n",
       "      <th>2</th>\n",
       "      <td>mt_note_01.txt</td>\n",
       "      <td>dysplasia</td>\n",
       "      <td>P61.4</td>\n",
       "      <td>Absent</td>\n",
       "    </tr>\n",
       "    <tr>\n",
       "      <th>3</th>\n",
       "      <td>mt_note_01.txt</td>\n",
       "      <td>cancer</td>\n",
       "      <td>C80.1</td>\n",
       "      <td>Absent</td>\n",
       "    </tr>\n",
       "    <tr>\n",
       "      <th>4</th>\n",
       "      <td>mt_note_02.txt</td>\n",
       "      <td>Name: Mullerian Adenosarcoma</td>\n",
       "      <td>C53.9</td>\n",
       "      <td>Present</td>\n",
       "    </tr>\n",
       "  </tbody>\n",
       "</table>\n",
       "</div>"
      ],
      "text/plain": [
       "         filename                         chunk icd10_code    assertion\n",
       "0  mt_note_01.txt                 breast cancer     C50.92       Family\n",
       "1  mt_note_01.txt                 breast cancer     C50.92  Someoneelse\n",
       "2  mt_note_01.txt                     dysplasia      P61.4       Absent\n",
       "3  mt_note_01.txt                        cancer      C80.1       Absent\n",
       "4  mt_note_02.txt  Name: Mullerian Adenosarcoma      C53.9      Present"
      ]
     },
     "execution_count": 17,
     "metadata": {},
     "output_type": "execute_result"
    }
   ],
   "source": [
    "icd10_df = icd10_sdf.select(\"filename\", F.explode(F.arrays_zip(icd10_sdf.ner_chunk.result,\n",
    "                                                               icd10_sdf.icd10cm_code.result,\n",
    "                                                               icd10_sdf.assertion.result\n",
    "                                                                  )).alias(\"cols\")) \\\n",
    "                            .select(\"filename\", F.expr(\"cols['0']\").alias(\"chunk\"),\n",
    "                                    F.expr(\"cols['1']\").alias(\"icd10_code\"),\n",
    "                                    F.expr(\"cols['2']\").alias(\"assertion\")\n",
    "                                   ).toPandas()\n",
    "\n",
    "icd10_df.head()"
   ]
  },
  {
   "cell_type": "code",
   "execution_count": 0,
   "metadata": {
    "application/vnd.databricks.v1+cell": {
     "cellMetadata": {
      "byteLimit": 2048000,
      "rowLimit": 10000
     },
     "inputWidgets": {},
     "nuid": "c03f4476-a103-43a4-a66f-7d082d306c39",
     "showTitle": false,
     "title": ""
    },
    "id": "AuuVn8M4WWTO"
   },
   "outputs": [],
   "source": [
    "icd10_df = icd10_df[~icd10_df.assertion.isin([\"Family\", \"Past\"])][['filename','chunk','icd10_code']].drop_duplicates()"
   ]
  },
  {
   "cell_type": "markdown",
   "metadata": {
    "application/vnd.databricks.v1+cell": {
     "cellMetadata": {},
     "inputWidgets": {},
     "nuid": "463f88e1-4dbb-4d96-bb02-8486dea6468b",
     "showTitle": false,
     "title": ""
    },
    "id": "x7ccMU1eWoG0"
   },
   "source": [
    "Now, we will create an ICD_code list column"
   ]
  },
  {
   "cell_type": "code",
   "execution_count": 0,
   "metadata": {
    "application/vnd.databricks.v1+cell": {
     "cellMetadata": {
      "byteLimit": 2048000,
      "rowLimit": 10000
     },
     "inputWidgets": {},
     "nuid": "ed595fb1-e943-4ad2-a279-b6b5bd6b3e04",
     "showTitle": false,
     "title": ""
    },
    "colab": {
     "base_uri": "https://localhost:8080/",
     "height": 363
    },
    "id": "JWfrTe0hWWQe",
    "outputId": "e90c112c-4fa5-4714-c2d0-6a83562f7b86"
   },
   "outputs": [
    {
     "output_type": "execute_result",
     "data": {
      "text/html": [
       "<div>\n",
       "<style scoped>\n",
       "    .dataframe tbody tr th:only-of-type {\n",
       "        vertical-align: middle;\n",
       "    }\n",
       "\n",
       "    .dataframe tbody tr th {\n",
       "        vertical-align: top;\n",
       "    }\n",
       "\n",
       "    .dataframe thead th {\n",
       "        text-align: right;\n",
       "    }\n",
       "</style>\n",
       "<table border=\"1\" class=\"dataframe\">\n",
       "  <thead>\n",
       "    <tr style=\"text-align: right;\">\n",
       "      <th></th>\n",
       "      <th>filename</th>\n",
       "      <th>chunk</th>\n",
       "      <th>icd10_code</th>\n",
       "      <th>Extracted_Entities_vs_ICD_Codes</th>\n",
       "    </tr>\n",
       "  </thead>\n",
       "  <tbody>\n",
       "    <tr>\n",
       "      <th>1</th>\n",
       "      <td>mt_note_01.txt</td>\n",
       "      <td>breast cancer</td>\n",
       "      <td>C50.92</td>\n",
       "      <td>(breast cancer, C50.92)</td>\n",
       "    </tr>\n",
       "    <tr>\n",
       "      <th>2</th>\n",
       "      <td>mt_note_01.txt</td>\n",
       "      <td>dysplasia</td>\n",
       "      <td>P61.4</td>\n",
       "      <td>(dysplasia, P61.4)</td>\n",
       "    </tr>\n",
       "    <tr>\n",
       "      <th>3</th>\n",
       "      <td>mt_note_01.txt</td>\n",
       "      <td>cancer</td>\n",
       "      <td>C80.1</td>\n",
       "      <td>(cancer, C80.1)</td>\n",
       "    </tr>\n",
       "    <tr>\n",
       "      <th>4</th>\n",
       "      <td>mt_note_02.txt</td>\n",
       "      <td>Name: Mullerian Adenosarcoma</td>\n",
       "      <td>C53.9</td>\n",
       "      <td>(Name: Mullerian Adenosarcoma, C53.9)</td>\n",
       "    </tr>\n",
       "    <tr>\n",
       "      <th>5</th>\n",
       "      <td>mt_note_02.txt</td>\n",
       "      <td>Mullerian adenosarcoma</td>\n",
       "      <td>C53.9</td>\n",
       "      <td>(Mullerian adenosarcoma, C53.9)</td>\n",
       "    </tr>\n",
       "    <tr>\n",
       "      <th>7</th>\n",
       "      <td>mt_note_03.txt</td>\n",
       "      <td>leiomyosarcoma</td>\n",
       "      <td>C49.9</td>\n",
       "      <td>(leiomyosarcoma, C49.9)</td>\n",
       "    </tr>\n",
       "    <tr>\n",
       "      <th>10</th>\n",
       "      <td>mt_note_03.txt</td>\n",
       "      <td>pneumonia</td>\n",
       "      <td>J18.9</td>\n",
       "      <td>(pneumonia, J18.9)</td>\n",
       "    </tr>\n",
       "    <tr>\n",
       "      <th>11</th>\n",
       "      <td>mt_note_03.txt</td>\n",
       "      <td>Leiomyosarcoma</td>\n",
       "      <td>C49.9</td>\n",
       "      <td>(Leiomyosarcoma, C49.9)</td>\n",
       "    </tr>\n",
       "    <tr>\n",
       "      <th>13</th>\n",
       "      <td>mt_note_03.txt</td>\n",
       "      <td>Pancytopenia</td>\n",
       "      <td>D61.81</td>\n",
       "      <td>(Pancytopenia, D61.81)</td>\n",
       "    </tr>\n",
       "    <tr>\n",
       "      <th>15</th>\n",
       "      <td>mt_note_03.txt</td>\n",
       "      <td>pulmonary embolism</td>\n",
       "      <td>I26</td>\n",
       "      <td>(pulmonary embolism, I26)</td>\n",
       "    </tr>\n",
       "  </tbody>\n",
       "</table>\n",
       "</div>"
      ],
      "text/plain": [
       "          filename                         chunk icd10_code        Extracted_Entities_vs_ICD_Codes\n",
       "1   mt_note_01.txt                 breast cancer     C50.92                (breast cancer, C50.92)\n",
       "2   mt_note_01.txt                     dysplasia      P61.4                     (dysplasia, P61.4)\n",
       "3   mt_note_01.txt                        cancer      C80.1                        (cancer, C80.1)\n",
       "4   mt_note_02.txt  Name: Mullerian Adenosarcoma      C53.9  (Name: Mullerian Adenosarcoma, C53.9)\n",
       "5   mt_note_02.txt        Mullerian adenosarcoma      C53.9        (Mullerian adenosarcoma, C53.9)\n",
       "7   mt_note_03.txt                leiomyosarcoma      C49.9                (leiomyosarcoma, C49.9)\n",
       "10  mt_note_03.txt                     pneumonia      J18.9                     (pneumonia, J18.9)\n",
       "11  mt_note_03.txt                Leiomyosarcoma      C49.9                (Leiomyosarcoma, C49.9)\n",
       "13  mt_note_03.txt                  Pancytopenia     D61.81                 (Pancytopenia, D61.81)\n",
       "15  mt_note_03.txt            pulmonary embolism        I26              (pulmonary embolism, I26)"
      ]
     },
     "execution_count": 19,
     "metadata": {},
     "output_type": "execute_result"
    }
   ],
   "source": [
    "icd10_df['Extracted_Entities_vs_ICD_Codes'] = list(zip(icd10_df.chunk, icd10_df.icd10_code))\n",
    "icd10_df.head(10)"
   ]
  },
  {
   "cell_type": "code",
   "execution_count": 0,
   "metadata": {
    "application/vnd.databricks.v1+cell": {
     "cellMetadata": {
      "byteLimit": 2048000,
      "rowLimit": 10000
     },
     "inputWidgets": {},
     "nuid": "a1a20721-ef83-4318-86f1-978de68b7ca9",
     "showTitle": false,
     "title": ""
    },
    "colab": {
     "base_uri": "https://localhost:8080/",
     "height": 363
    },
    "id": "wCCAKRAhWWNz",
    "outputId": "c827ae41-2cba-4f84-926c-b3d1b52263d2"
   },
   "outputs": [
    {
     "output_type": "execute_result",
     "data": {
      "text/html": [
       "<div>\n",
       "<style scoped>\n",
       "    .dataframe tbody tr th:only-of-type {\n",
       "        vertical-align: middle;\n",
       "    }\n",
       "\n",
       "    .dataframe tbody tr th {\n",
       "        vertical-align: top;\n",
       "    }\n",
       "\n",
       "    .dataframe thead th {\n",
       "        text-align: right;\n",
       "    }\n",
       "</style>\n",
       "<table border=\"1\" class=\"dataframe\">\n",
       "  <thead>\n",
       "    <tr style=\"text-align: right;\">\n",
       "      <th></th>\n",
       "      <th>filename</th>\n",
       "      <th>icd10_code</th>\n",
       "      <th>Extracted_Entities_vs_ICD_Codes</th>\n",
       "    </tr>\n",
       "  </thead>\n",
       "  <tbody>\n",
       "    <tr>\n",
       "      <th>0</th>\n",
       "      <td>mt_note_01.txt</td>\n",
       "      <td>[C50.92, P61.4, C80.1]</td>\n",
       "      <td>[(breast cancer, C50.92), (dysplasia, P61.4), (cancer, C80.1)]</td>\n",
       "    </tr>\n",
       "    <tr>\n",
       "      <th>1</th>\n",
       "      <td>mt_note_02.txt</td>\n",
       "      <td>[C53.9, C53.9]</td>\n",
       "      <td>[(Name: Mullerian Adenosarcoma, C53.9), (Mullerian adenosarcoma, C53.9)]</td>\n",
       "    </tr>\n",
       "    <tr>\n",
       "      <th>2</th>\n",
       "      <td>mt_note_03.txt</td>\n",
       "      <td>[C49.9, J18.9, C49.9, D61.81, I26, M06.9]</td>\n",
       "      <td>[(leiomyosarcoma, C49.9), (pneumonia, J18.9), (Leiomyosarcoma, C49.9), (Pancytopenia, D61.81), (...</td>\n",
       "    </tr>\n",
       "    <tr>\n",
       "      <th>3</th>\n",
       "      <td>mt_note_04.txt</td>\n",
       "      <td>[C44.9, C44.9, M62.40, N64.81, C44.90, I80.9, R23.8, H02.4, I80.2, P39.9, T78.40, C44.9]</td>\n",
       "      <td>[(basal cell carcinoma, C44.9), (Basal cell carcinoma, C44.9), (capsular contracture, M62.40), (...</td>\n",
       "    </tr>\n",
       "    <tr>\n",
       "      <th>4</th>\n",
       "      <td>mt_note_05.txt</td>\n",
       "      <td>[C50.92, C50.91, C50.9, C50.92, C50.9, C80.0, T78.40, R50.9, G25.81, P39.9, I97.2, C50.92]</td>\n",
       "      <td>[(Breast Cancer, C50.92), (ductal carcinoma of the left breast, C50.91), (breast carcinoma, C50....</td>\n",
       "    </tr>\n",
       "    <tr>\n",
       "      <th>5</th>\n",
       "      <td>mt_note_06.txt</td>\n",
       "      <td>[C45, F31.9, Q40.1, D35.00, R18, D20.1, F31.9, L72.0]</td>\n",
       "      <td>[(Name: Intraperitoneal Mesothelioma, C45), (type 1 bipolar disease, F31.9), (hiatal hernia, Q40...</td>\n",
       "    </tr>\n",
       "    <tr>\n",
       "      <th>6</th>\n",
       "      <td>mt_note_07.txt</td>\n",
       "      <td>[C45]</td>\n",
       "      <td>[(Mesothelioma, C45)]</td>\n",
       "    </tr>\n",
       "    <tr>\n",
       "      <th>7</th>\n",
       "      <td>mt_note_08.txt</td>\n",
       "      <td>[J90, C45.9, J90, C45, C80.0]</td>\n",
       "      <td>[(Description: Right pleural effusion, J90), (malignant mesothelioma, C45.9), (pleural effusion,...</td>\n",
       "    </tr>\n",
       "    <tr>\n",
       "      <th>8</th>\n",
       "      <td>mt_note_09.txt</td>\n",
       "      <td>[D50.8, D57.0, O99.0, D57.02, K55.05, M46.42]</td>\n",
       "      <td>[(Name: Sickle Cell Anemia, D50.8), (sickle cell anemia, D57.0), (sickle cell, O99.0), (Sickle c...</td>\n",
       "    </tr>\n",
       "    <tr>\n",
       "      <th>9</th>\n",
       "      <td>mt_note_10.txt</td>\n",
       "      <td>[C69.60, C69.60]</td>\n",
       "      <td>[(Rhabdomyosarcoma of the left orbit, C69.60), (rhabdomyosarcoma of the left orbit, C69.60)]</td>\n",
       "    </tr>\n",
       "  </tbody>\n",
       "</table>\n",
       "</div>"
      ],
      "text/plain": [
       "         filename                                                                                  icd10_code                                                                      Extracted_Entities_vs_ICD_Codes\n",
       "0  mt_note_01.txt                                                                      [C50.92, P61.4, C80.1]                                       [(breast cancer, C50.92), (dysplasia, P61.4), (cancer, C80.1)]\n",
       "1  mt_note_02.txt                                                                              [C53.9, C53.9]                             [(Name: Mullerian Adenosarcoma, C53.9), (Mullerian adenosarcoma, C53.9)]\n",
       "2  mt_note_03.txt                                                   [C49.9, J18.9, C49.9, D61.81, I26, M06.9]  [(leiomyosarcoma, C49.9), (pneumonia, J18.9), (Leiomyosarcoma, C49.9), (Pancytopenia, D61.81), (...\n",
       "3  mt_note_04.txt    [C44.9, C44.9, M62.40, N64.81, C44.90, I80.9, R23.8, H02.4, I80.2, P39.9, T78.40, C44.9]  [(basal cell carcinoma, C44.9), (Basal cell carcinoma, C44.9), (capsular contracture, M62.40), (...\n",
       "4  mt_note_05.txt  [C50.92, C50.91, C50.9, C50.92, C50.9, C80.0, T78.40, R50.9, G25.81, P39.9, I97.2, C50.92]  [(Breast Cancer, C50.92), (ductal carcinoma of the left breast, C50.91), (breast carcinoma, C50....\n",
       "5  mt_note_06.txt                                       [C45, F31.9, Q40.1, D35.00, R18, D20.1, F31.9, L72.0]  [(Name: Intraperitoneal Mesothelioma, C45), (type 1 bipolar disease, F31.9), (hiatal hernia, Q40...\n",
       "6  mt_note_07.txt                                                                                       [C45]                                                                                [(Mesothelioma, C45)]\n",
       "7  mt_note_08.txt                                                               [J90, C45.9, J90, C45, C80.0]  [(Description: Right pleural effusion, J90), (malignant mesothelioma, C45.9), (pleural effusion,...\n",
       "8  mt_note_09.txt                                               [D50.8, D57.0, O99.0, D57.02, K55.05, M46.42]  [(Name: Sickle Cell Anemia, D50.8), (sickle cell anemia, D57.0), (sickle cell, O99.0), (Sickle c...\n",
       "9  mt_note_10.txt                                                                            [C69.60, C69.60]         [(Rhabdomyosarcoma of the left orbit, C69.60), (rhabdomyosarcoma of the left orbit, C69.60)]"
      ]
     },
     "execution_count": 20,
     "metadata": {},
     "output_type": "execute_result"
    }
   ],
   "source": [
    "icd10_codes= icd10_df.groupby(\"filename\").icd10_code.apply(lambda x: list(x)).reset_index()\n",
    "icd10_vs_entities = icd10_df.groupby(\"filename\").Extracted_Entities_vs_ICD_Codes.apply(lambda x: list(x)).reset_index()\n",
    "\n",
    "icd10_df_all = icd10_codes.merge(icd10_vs_entities)\n",
    "\n",
    "icd10_df_all"
   ]
  },
  {
   "cell_type": "markdown",
   "metadata": {
    "application/vnd.databricks.v1+cell": {
     "cellMetadata": {},
     "inputWidgets": {},
     "nuid": "2d9e280b-af56-41d2-b8ad-9fd72a50e898",
     "showTitle": false,
     "title": ""
    },
    "id": "t57HOf9KW_uZ"
   },
   "source": [
    "## Gender Classification\n",
    "\n",
    "In Spark NLP, we have a pretrained model to detect gender of patient. Let's use it by `ClassifierDLModel`"
   ]
  },
  {
   "cell_type": "code",
   "execution_count": 0,
   "metadata": {
    "application/vnd.databricks.v1+cell": {
     "cellMetadata": {
      "byteLimit": 2048000,
      "rowLimit": 10000
     },
     "inputWidgets": {},
     "nuid": "68c453b9-cd53-48ef-9a74-b4ab1fa4cb19",
     "showTitle": false,
     "title": ""
    },
    "colab": {
     "base_uri": "https://localhost:8080/"
    },
    "id": "CNFKbURXWWK_",
    "outputId": "ed5bafdd-bd61-4bbb-a533-005dfd208b71"
   },
   "outputs": [
    {
     "output_type": "stream",
     "name": "stdout",
     "output_type": "stream",
     "text": [
      "biobert_pubmed_base_cased download started this may take some time.\nApproximate size to download 386.4 MB\n\r[ | ]\r[ / ]\r[ — ]\r[ \\ ]\r[ | ]\r[ / ]\r[ — ]\r[ \\ ]\r[ | ]\r[ / ]\r[OK!]\nclassifierdl_gender_biobert download started this may take some time.\nApproximate size to download 21 MB\n\r[ | ]\r[ / ]\r[ — ]\r[ \\ ]\r[OK!]\n"
     ]
    }
   ],
   "source": [
    "documentAssembler = DocumentAssembler()\\\n",
    "      .setInputCol(\"text\")\\\n",
    "      .setOutputCol(\"document\")\n",
    "\n",
    "tokenizer = Tokenizer()\\\n",
    "      .setInputCols([\"document\"])\\\n",
    "      .setOutputCol(\"token\")\\\n",
    "\n",
    "biobert_embeddings = BertEmbeddings().pretrained('biobert_pubmed_base_cased') \\\n",
    "        .setInputCols([\"document\",'token'])\\\n",
    "        .setOutputCol(\"bert_embeddings\")\n",
    "\n",
    "sentence_embeddings = SentenceEmbeddings() \\\n",
    "     .setInputCols([\"document\", \"bert_embeddings\"]) \\\n",
    "     .setOutputCol(\"sentence_bert_embeddings\") \\\n",
    "     .setPoolingStrategy(\"AVERAGE\")\n",
    "\n",
    "genderClassifier = ClassifierDLModel.pretrained('classifierdl_gender_biobert', 'en', 'clinical/models') \\\n",
    "       .setInputCols([\"sentence_bert_embeddings\"]) \\\n",
    "       .setOutputCol(\"gender\")\n",
    "\n",
    "gender_pipeline = Pipeline(stages=[documentAssembler,\n",
    "                                   #sentenceDetector,\n",
    "                                   tokenizer,\n",
    "                                   biobert_embeddings,\n",
    "                                   sentence_embeddings,\n",
    "                                   genderClassifier])"
   ]
  },
  {
   "cell_type": "code",
   "execution_count": 0,
   "metadata": {
    "application/vnd.databricks.v1+cell": {
     "cellMetadata": {
      "byteLimit": 2048000,
      "rowLimit": 10000
     },
     "inputWidgets": {},
     "nuid": "d0f67216-4134-447a-8e40-9e557ffb5a35",
     "showTitle": false,
     "title": ""
    },
    "id": "ou3PXnLxWWIA"
   },
   "outputs": [],
   "source": [
    "data_ner = spark.createDataFrame([[\"\"]]).toDF(\"text\")\n",
    "\n",
    "gender_model = gender_pipeline.fit(data_ner)\n",
    "\n",
    "gender_df = gender_model.transform(df)"
   ]
  },
  {
   "cell_type": "code",
   "execution_count": 0,
   "metadata": {
    "application/vnd.databricks.v1+cell": {
     "cellMetadata": {
      "byteLimit": 2048000,
      "rowLimit": 10000
     },
     "inputWidgets": {},
     "nuid": "c1d8d848-b454-4972-b399-8ea40d21add0",
     "showTitle": false,
     "title": ""
    },
    "id": "e2f64hGWWV-3"
   },
   "outputs": [],
   "source": [
    "gender_pd_df = gender_df.select(\"filename\", F.explode(F.arrays_zip(gender_df.gender.result,\n",
    "                                                                   gender_df.gender.metadata)).alias(\"cols\")) \\\n",
    "                       .select(\"filename\",\n",
    "                               F.expr(\"cols['0']\").alias(\"Gender\"),\n",
    "                               F.expr(\"cols['1']['Female']\").alias(\"Female\"),\n",
    "                               F.expr(\"cols['1']['Male']\").alias(\"Male\")).toPandas()\n",
    "\n",
    "gender_pd_df['Gender'] = gender_pd_df.apply(lambda x : \"F\" if float(x['Female']) >= float(x['Male']) else \"M\", axis=1)\n",
    "\n",
    "gender_pd_df = gender_pd_df[['filename', 'Gender']]"
   ]
  },
  {
   "cell_type": "markdown",
   "metadata": {
    "application/vnd.databricks.v1+cell": {
     "cellMetadata": {},
     "inputWidgets": {},
     "nuid": "9aaa0af2-854d-4ad0-8454-c4ca28b95527",
     "showTitle": false,
     "title": ""
    },
    "id": "QOMshADmXohQ"
   },
   "source": [
    "All patients' gender is ready in a dataframe."
   ]
  },
  {
   "cell_type": "code",
   "execution_count": 0,
   "metadata": {
    "application/vnd.databricks.v1+cell": {
     "cellMetadata": {
      "byteLimit": 2048000,
      "rowLimit": 10000
     },
     "inputWidgets": {},
     "nuid": "b0b76394-71c4-431b-80d4-dae8a068d78f",
     "showTitle": false,
     "title": ""
    },
    "colab": {
     "base_uri": "https://localhost:8080/",
     "height": 363
    },
    "id": "y2X-ODjfOzEA",
    "outputId": "90e6b0f0-92c3-46d6-a143-5033468578bf"
   },
   "outputs": [
    {
     "output_type": "execute_result",
     "data": {
      "text/html": [
       "<div>\n",
       "<style scoped>\n",
       "    .dataframe tbody tr th:only-of-type {\n",
       "        vertical-align: middle;\n",
       "    }\n",
       "\n",
       "    .dataframe tbody tr th {\n",
       "        vertical-align: top;\n",
       "    }\n",
       "\n",
       "    .dataframe thead th {\n",
       "        text-align: right;\n",
       "    }\n",
       "</style>\n",
       "<table border=\"1\" class=\"dataframe\">\n",
       "  <thead>\n",
       "    <tr style=\"text-align: right;\">\n",
       "      <th></th>\n",
       "      <th>filename</th>\n",
       "      <th>Gender</th>\n",
       "    </tr>\n",
       "  </thead>\n",
       "  <tbody>\n",
       "    <tr>\n",
       "      <th>0</th>\n",
       "      <td>mt_note_01.txt</td>\n",
       "      <td>F</td>\n",
       "    </tr>\n",
       "    <tr>\n",
       "      <th>1</th>\n",
       "      <td>mt_note_02.txt</td>\n",
       "      <td>F</td>\n",
       "    </tr>\n",
       "    <tr>\n",
       "      <th>2</th>\n",
       "      <td>mt_note_03.txt</td>\n",
       "      <td>F</td>\n",
       "    </tr>\n",
       "    <tr>\n",
       "      <th>3</th>\n",
       "      <td>mt_note_04.txt</td>\n",
       "      <td>F</td>\n",
       "    </tr>\n",
       "    <tr>\n",
       "      <th>4</th>\n",
       "      <td>mt_note_05.txt</td>\n",
       "      <td>F</td>\n",
       "    </tr>\n",
       "    <tr>\n",
       "      <th>5</th>\n",
       "      <td>mt_note_06.txt</td>\n",
       "      <td>F</td>\n",
       "    </tr>\n",
       "    <tr>\n",
       "      <th>6</th>\n",
       "      <td>mt_note_07.txt</td>\n",
       "      <td>M</td>\n",
       "    </tr>\n",
       "    <tr>\n",
       "      <th>7</th>\n",
       "      <td>mt_note_08.txt</td>\n",
       "      <td>F</td>\n",
       "    </tr>\n",
       "    <tr>\n",
       "      <th>8</th>\n",
       "      <td>mt_note_09.txt</td>\n",
       "      <td>M</td>\n",
       "    </tr>\n",
       "    <tr>\n",
       "      <th>9</th>\n",
       "      <td>mt_note_10.txt</td>\n",
       "      <td>M</td>\n",
       "    </tr>\n",
       "  </tbody>\n",
       "</table>\n",
       "</div>"
      ],
      "text/plain": [
       "         filename Gender\n",
       "0  mt_note_01.txt      F\n",
       "1  mt_note_02.txt      F\n",
       "2  mt_note_03.txt      F\n",
       "3  mt_note_04.txt      F\n",
       "4  mt_note_05.txt      F\n",
       "5  mt_note_06.txt      F\n",
       "6  mt_note_07.txt      M\n",
       "7  mt_note_08.txt      F\n",
       "8  mt_note_09.txt      M\n",
       "9  mt_note_10.txt      M"
      ]
     },
     "execution_count": 24,
     "metadata": {},
     "output_type": "execute_result"
    }
   ],
   "source": [
    "gender_pd_df"
   ]
  },
  {
   "cell_type": "markdown",
   "metadata": {
    "application/vnd.databricks.v1+cell": {
     "cellMetadata": {},
     "inputWidgets": {},
     "nuid": "4aace068-8c13-4e0a-b0e6-36b94ab87c1a",
     "showTitle": false,
     "title": ""
    },
    "id": "CrGP9pJKYAaQ"
   },
   "source": [
    "## Age\n",
    "We can get patient's age forom the notes by another pipeline. We are creating an age pipeline to get AGE labelled entities. In a note, more than one age entity can be extracted. We will get the first age entity as patient's age."
   ]
  },
  {
   "cell_type": "code",
   "execution_count": 0,
   "metadata": {
    "application/vnd.databricks.v1+cell": {
     "cellMetadata": {
      "byteLimit": 2048000,
      "rowLimit": 10000
     },
     "inputWidgets": {},
     "nuid": "c5acbb7e-4fd8-46e0-b5c9-b3c1e9e2364c",
     "showTitle": false,
     "title": ""
    },
    "colab": {
     "base_uri": "https://localhost:8080/"
    },
    "id": "CK1MnIMAYLoT",
    "outputId": "dbd95ab3-0f52-48bf-876c-027f4f964bed"
   },
   "outputs": [
    {
     "output_type": "stream",
     "name": "stdout",
     "output_type": "stream",
     "text": [
      "sentence_detector_dl download started this may take some time.\nApproximate size to download 354.6 KB\n\r[ | ]\r[OK!]\nembeddings_clinical download started this may take some time.\nApproximate size to download 1.6 GB\n\r[ | ]\r[OK!]\nner_jsl_enriched download started this may take some time.\n\r[ | ]\r[ / ]\r[ — ]\r[OK!]\n"
     ]
    }
   ],
   "source": [
    "documentAssembler = DocumentAssembler()\\\n",
    "      .setInputCol(\"text\")\\\n",
    "      .setOutputCol(\"document\")\n",
    "\n",
    "sentenceDetector = SentenceDetectorDLModel.pretrained()\\\n",
    "      .setInputCols([\"document\"])\\\n",
    "      .setOutputCol(\"sentence\")\n",
    "\n",
    "tokenizer = Tokenizer()\\\n",
    "      .setInputCols([\"sentence\"])\\\n",
    "      .setOutputCol(\"token\")\\\n",
    "\n",
    "word_embeddings = WordEmbeddingsModel.pretrained(\"embeddings_clinical\", \"en\", \"clinical/models\")\\\n",
    "      .setInputCols([\"sentence\", \"token\"])\\\n",
    "      .setOutputCol(\"embeddings\")\n",
    "\n",
    "clinical_ner = MedicalNerModel.pretrained(\"ner_jsl_enriched\", \"en\", \"clinical/models\") \\\n",
    "      .setInputCols([\"sentence\", \"token\", \"embeddings\"]) \\\n",
    "      .setOutputCol(\"ner\")\n",
    "\n",
    "date_ner_converter = NerConverterInternal() \\\n",
    "      .setInputCols([\"sentence\", \"token\", \"ner\"]) \\\n",
    "      .setOutputCol(\"ner_chunk\")\\\n",
    "      .setWhiteList([\"Age\"])\n",
    "\n",
    "age_pipeline = Pipeline(\n",
    "    stages = [\n",
    "        documentAssembler,\n",
    "        sentenceDetector,\n",
    "        tokenizer,\n",
    "        word_embeddings,\n",
    "        clinical_ner,\n",
    "        date_ner_converter\n",
    "    ])\n",
    "\n",
    "data_ner = spark.createDataFrame([[\"\"]]).toDF(\"text\")\n",
    "\n",
    "age_model = age_pipeline.fit(data_ner)"
   ]
  },
  {
   "cell_type": "code",
   "execution_count": 0,
   "metadata": {
    "application/vnd.databricks.v1+cell": {
     "cellMetadata": {
      "byteLimit": 2048000,
      "rowLimit": 10000
     },
     "inputWidgets": {},
     "nuid": "40001009-f5c2-470f-9dba-dbd9f6fb51af",
     "showTitle": false,
     "title": ""
    },
    "colab": {
     "base_uri": "https://localhost:8080/",
     "height": 400
    },
    "id": "Hpkline3YPIU",
    "outputId": "4bc97093-f6c3-4818-c3cc-164aa60f6566"
   },
   "outputs": [
    {
     "output_type": "display_data",
     "data": {
      "text/html": [
       "\n",
       "<style>\n",
       "    @import url('https://fonts.googleapis.com/css2?family=Montserrat:wght@300;400;500;600;700&display=swap');\n",
       "    @import url('https://fonts.googleapis.com/css2?family=Vistol Regular:wght@300;400;500;600;700&display=swap');\n",
       "    \n",
       "    .spark-nlp-display-scroll-entities {\n",
       "        border: 1px solid #E7EDF0;\n",
       "        border-radius: 3px;\n",
       "        text-align: justify;\n",
       "        \n",
       "    }\n",
       "    .spark-nlp-display-scroll-entities span {  \n",
       "        font-size: 14px;\n",
       "        line-height: 24px;\n",
       "        color: #536B76;\n",
       "        font-family: 'Montserrat', sans-serif !important;\n",
       "    }\n",
       "    \n",
       "    .spark-nlp-display-entity-wrapper{\n",
       "    \n",
       "        display: inline-grid;\n",
       "        text-align: center;\n",
       "        border-radius: 4px;\n",
       "        margin: 0 2px 5px 2px;\n",
       "        padding: 1px\n",
       "    }\n",
       "    .spark-nlp-display-entity-name{\n",
       "        font-size: 14px;\n",
       "        line-height: 24px;\n",
       "        font-family: 'Montserrat', sans-serif !important;\n",
       "        \n",
       "        background: #f1f2f3;\n",
       "        border-width: medium;\n",
       "        text-align: center;\n",
       "        \n",
       "        font-weight: 400;\n",
       "        \n",
       "        border-radius: 5px;\n",
       "        padding: 2px 5px;\n",
       "        display: block;\n",
       "        margin: 3px 2px;\n",
       "    \n",
       "    }\n",
       "    .spark-nlp-display-entity-type{\n",
       "        font-size: 14px;\n",
       "        line-height: 24px;\n",
       "        color: #ffffff;\n",
       "        font-family: 'Montserrat', sans-serif !important;\n",
       "        \n",
       "        text-transform: uppercase;\n",
       "        \n",
       "        font-weight: 500;\n",
       "\n",
       "        display: block;\n",
       "        padding: 3px 5px;\n",
       "    }\n",
       "    \n",
       "    .spark-nlp-display-entity-resolution{\n",
       "        font-size: 14px;\n",
       "        line-height: 24px;\n",
       "        color: #ffffff;\n",
       "        font-family: 'Vistol Regular', sans-serif !important;\n",
       "        \n",
       "        text-transform: uppercase;\n",
       "        \n",
       "        font-weight: 500;\n",
       "\n",
       "        display: block;\n",
       "        padding: 3px 5px;\n",
       "    }\n",
       "    \n",
       "    .spark-nlp-display-others{\n",
       "        font-size: 14px;\n",
       "        line-height: 24px;\n",
       "        font-family: 'Montserrat', sans-serif !important;\n",
       "        \n",
       "        font-weight: 400;\n",
       "    }\n",
       "\n",
       "</style>\n",
       " <span class=\"spark-nlp-display-others\" style=\"background-color: white\"><br>Medical Specialty:Hematology - Oncology<br>Sample Name: Mullerian Adenosarcoma<br>Description: Discharge summary of a patient presenting with a large mass aborted through the cervix.<br>(Medical Transcription Sample Report)<br>PRINCIPAL DIAGNOSIS:  Mullerian adenosarcoma.<br>HISTORY OF PRESENT ILLNESS:  The patient is a </span><span class=\"spark-nlp-display-entity-wrapper\" style=\"background-color: #ffe0ac\"><span class=\"spark-nlp-display-entity-name\">56-year-old </span><span class=\"spark-nlp-display-entity-type\">Age</span></span><span class=\"spark-nlp-display-others\" style=\"background-color: white\"> presenting with a large mass aborted through the cervix.<br>PHYSICAL EXAM:CHEST: Clear. There is no heart murmur. ABDOMEN: Nontender.<br>PELVIC: There is a large mass in the vagina.<br>HOSPITAL COURSE:  The patient went to surgery on the day of admission. The postoperative course was marked by fever and ileus. The patient regained bowel function. She was discharged on the morning of the seventh postoperative day.<br>OPERATIONS:  July 25, 2006: Total abdominal hysterectomy, bilateral salpingo-oophorectomy.<br>DISCHARGE CONDITION:  Stable.<br>PLAN:  The patient will remain at rest initially with progressive ambulation thereafter. She will avoid lifting, driving, stairs, or intercourse. She will call me for fevers, drainage, bleeding, or pain. Family history, social history, and psychosocial needs per the social worker. The patient will follow up in my office in one week.<br>PATHOLOGY: Mullerian adenosarcoma.<br>MEDICATIONS: Percocet 5, #40, one q.3 h. p.r.n. pain.<br></span></div>"
      ],
      "text/plain": [
       "<IPython.core.display.HTML object>"
      ]
     },
     "metadata": {},
     "output_type": "display_data"
    }
   ],
   "source": [
    "light_model = LightPipeline(age_model)\n",
    "\n",
    "light_result = light_model.fullAnnotate(sample_text)\n",
    "\n",
    "from sparknlp_display import NerVisualizer\n",
    "\n",
    "visualiser = NerVisualizer()\n",
    "\n",
    "ner_vis = visualiser.display(light_result[0], label_col='ner_chunk', document_col='document')"
   ]
  },
  {
   "cell_type": "code",
   "execution_count": 0,
   "metadata": {
    "application/vnd.databricks.v1+cell": {
     "cellMetadata": {
      "byteLimit": 2048000,
      "rowLimit": 10000
     },
     "inputWidgets": {},
     "nuid": "239ff937-0feb-460c-9c34-e930e071cc22",
     "showTitle": false,
     "title": ""
    },
    "id": "XFiSM6JdYTFl"
   },
   "outputs": [],
   "source": [
    "age_result = age_model.transform(df)\n",
    "\n",
    "age_df = age_result.select(\"filename\",F.explode(F.arrays_zip(age_result.ner_chunk.result,\n",
    "                                                             age_result.ner_chunk.metadata)).alias(\"cols\")) \\\n",
    "                   .select(\"filename\",\n",
    "                           F.expr(\"cols['0']\").alias(\"Age\"),\n",
    "                           F.expr(\"cols['1']['entity']\").alias(\"ner_label\")).toPandas().groupby('filename').first().reset_index()"
   ]
  },
  {
   "cell_type": "code",
   "execution_count": 0,
   "metadata": {
    "application/vnd.databricks.v1+cell": {
     "cellMetadata": {
      "byteLimit": 2048000,
      "rowLimit": 10000
     },
     "inputWidgets": {},
     "nuid": "a2663b5a-9e86-4639-aa26-7d99f567f3a8",
     "showTitle": false,
     "title": ""
    },
    "colab": {
     "base_uri": "https://localhost:8080/",
     "height": 206
    },
    "id": "WV34O4LKYXg2",
    "outputId": "a4e4a5b4-41b8-4ca6-c1ce-41b8e92c9be8"
   },
   "outputs": [
    {
     "output_type": "execute_result",
     "data": {
      "text/html": [
       "<div>\n",
       "<style scoped>\n",
       "    .dataframe tbody tr th:only-of-type {\n",
       "        vertical-align: middle;\n",
       "    }\n",
       "\n",
       "    .dataframe tbody tr th {\n",
       "        vertical-align: top;\n",
       "    }\n",
       "\n",
       "    .dataframe thead th {\n",
       "        text-align: right;\n",
       "    }\n",
       "</style>\n",
       "<table border=\"1\" class=\"dataframe\">\n",
       "  <thead>\n",
       "    <tr style=\"text-align: right;\">\n",
       "      <th></th>\n",
       "      <th>filename</th>\n",
       "      <th>Age</th>\n",
       "    </tr>\n",
       "  </thead>\n",
       "  <tbody>\n",
       "    <tr>\n",
       "      <th>0</th>\n",
       "      <td>mt_note_01.txt</td>\n",
       "      <td>59</td>\n",
       "    </tr>\n",
       "    <tr>\n",
       "      <th>1</th>\n",
       "      <td>mt_note_02.txt</td>\n",
       "      <td>56</td>\n",
       "    </tr>\n",
       "    <tr>\n",
       "      <th>2</th>\n",
       "      <td>mt_note_03.txt</td>\n",
       "      <td>66</td>\n",
       "    </tr>\n",
       "    <tr>\n",
       "      <th>3</th>\n",
       "      <td>mt_note_04.txt</td>\n",
       "      <td>61</td>\n",
       "    </tr>\n",
       "    <tr>\n",
       "      <th>4</th>\n",
       "      <td>mt_note_05.txt</td>\n",
       "      <td>57</td>\n",
       "    </tr>\n",
       "  </tbody>\n",
       "</table>\n",
       "</div>"
      ],
      "text/plain": [
       "         filename  Age\n",
       "0  mt_note_01.txt   59\n",
       "1  mt_note_02.txt   56\n",
       "2  mt_note_03.txt   66\n",
       "3  mt_note_04.txt   61\n",
       "4  mt_note_05.txt   57"
      ]
     },
     "execution_count": 28,
     "metadata": {},
     "output_type": "execute_result"
    }
   ],
   "source": [
    "age_df.Age = age_df.Age.replace(r\"\\D\", \"\", regex = True).astype(int)\n",
    "age_df.drop('ner_label', axis=1, inplace=True)\n",
    "age_df.head()"
   ]
  },
  {
   "cell_type": "markdown",
   "metadata": {
    "application/vnd.databricks.v1+cell": {
     "cellMetadata": {},
     "inputWidgets": {},
     "nuid": "fbd29639-e5e3-4284-801e-68f61b383271",
     "showTitle": false,
     "title": ""
    },
    "id": "HxyyB8VquKGq"
   },
   "source": [
    "## Calculating Medicare Risk Adjusment Score\n",
    "Now, we have all data which can be extracted from clinical notes. Now we can calculate Medicare Risk Adjusment Score by Spark NLP Healthcare CMS-HCC risk-adjustment score calculation module.\n",
    "\n",
    "This module supports V22, V23, V24, V28 and ESRDV21 of the **CMS-HCC** risk adjustment model.\n",
    "\n",
    "It also supports V05 and V08 of **CMS-RxHCC** risk adjustment model.\n",
    "\n",
    "It needs the following parameters in order to calculate the risk score:\n",
    "\n",
    "- ICD Codes\n",
    "- Age\n",
    "- Gender\n",
    "- The eligibility segment of the patient\n",
    "- The original reason for entitlement\n",
    "- If the patient is in Medicaid or not\n"
   ]
  },
  {
   "cell_type": "code",
   "execution_count": 0,
   "metadata": {
    "application/vnd.databricks.v1+cell": {
     "cellMetadata": {
      "byteLimit": 2048000,
      "rowLimit": 10000
     },
     "inputWidgets": {},
     "nuid": "120a52f2-c377-4372-9bd8-b7854f96b39a",
     "showTitle": false,
     "title": ""
    },
    "id": "GjoSNJLEYkAb"
   },
   "outputs": [],
   "source": [
    "patient_df = age_df.merge(icd10_df_all, on='filename', how = \"left\")\\\n",
    "                   .merge(gender_pd_df, on='filename', how = \"left\")\n",
    "\n",
    "patient_df = patient_df.dropna()"
   ]
  },
  {
   "cell_type": "code",
   "execution_count": 0,
   "metadata": {
    "application/vnd.databricks.v1+cell": {
     "cellMetadata": {
      "byteLimit": 2048000,
      "rowLimit": 10000
     },
     "inputWidgets": {},
     "nuid": "22e8e5e3-82a8-4409-9f78-305e898196fd",
     "showTitle": false,
     "title": ""
    },
    "colab": {
     "base_uri": "https://localhost:8080/"
    },
    "id": "x1lVc24v1mF1",
    "outputId": "08ae1235-2b1f-4b06-a059-deb6e5ef27fb"
   },
   "outputs": [
    {
     "output_type": "stream",
     "name": "stdout",
     "output_type": "stream",
     "text": [
      "<class 'pandas.core.frame.DataFrame'>\nInt64Index: 10 entries, 0 to 9\nData columns (total 5 columns):\n #   Column                           Non-Null Count  Dtype \n---  ------                           --------------  ----- \n 0   filename                         10 non-null     object\n 1   Age                              10 non-null     int64 \n 2   icd10_code                       10 non-null     object\n 3   Extracted_Entities_vs_ICD_Codes  10 non-null     object\n 4   Gender                           10 non-null     object\ndtypes: int64(1), object(4)\nmemory usage: 480.0+ bytes\n"
     ]
    }
   ],
   "source": [
    "patient_df.info()"
   ]
  },
  {
   "cell_type": "code",
   "execution_count": 0,
   "metadata": {
    "application/vnd.databricks.v1+cell": {
     "cellMetadata": {
      "byteLimit": 2048000,
      "rowLimit": 10000
     },
     "inputWidgets": {},
     "nuid": "29cb7023-9929-43c2-b240-60898ed33860",
     "showTitle": false,
     "title": ""
    },
    "colab": {
     "base_uri": "https://localhost:8080/"
    },
    "id": "JG4YhPeMu_SO",
    "outputId": "63a2bcb3-c1b3-44e9-a014-5fc176bbe7f0"
   },
   "outputs": [
    {
     "output_type": "stream",
     "name": "stdout",
     "output_type": "stream",
     "text": [
      "+--------------+---+------------------------------------------------------------------------------------------+---------------------------------------------------------------------------------------------------------------------------------------------------------------------------------------------------------------------------------------------------------------------------------------------------------------------------------------------------------+------+\n|filename      |Age|icd10_code                                                                                |Extracted_Entities_vs_ICD_Codes                                                                                                                                                                                                                                                                                                                          |Gender|\n+--------------+---+------------------------------------------------------------------------------------------+---------------------------------------------------------------------------------------------------------------------------------------------------------------------------------------------------------------------------------------------------------------------------------------------------------------------------------------------------------+------+\n|mt_note_01.txt|59 |[C50.92, P61.4, C80.1]                                                                    |[[breast cancer, C50.92], [dysplasia, P61.4], [cancer, C80.1]]                                                                                                                                                                                                                                                                                           |F     |\n|mt_note_02.txt|56 |[C53.9, C53.9]                                                                            |[[Name: Mullerian Adenosarcoma, C53.9], [Mullerian adenosarcoma, C53.9]]                                                                                                                                                                                                                                                                                 |F     |\n|mt_note_03.txt|66 |[C49.9, J18.9, C49.9, D61.81, I26, M06.9]                                                 |[[leiomyosarcoma, C49.9], [pneumonia, J18.9], [Leiomyosarcoma, C49.9], [Pancytopenia, D61.81], [pulmonary embolism, I26], [rheumatoid arthritis, M06.9]]                                                                                                                                                                                                 |F     |\n|mt_note_04.txt|61 |[C44.9, C44.9, M62.40, N64.81, C44.90, I80.9, R23.8, H02.4, I80.2, P39.9, T78.40, C44.9]  |[[basal cell carcinoma, C44.9], [Basal cell carcinoma, C44.9], [capsular contracture, M62.40], [Breast ptosis, N64.81], [skin cancer, C44.90], [phlebitis, I80.9], [actinic skin damage, R23.8], [Ptosis, H02.4], [deep venous thrombosis, I80.2], [infection, P39.9], [allergic reaction, T78.40], [recurrence of the skin cancer, C44.9]]              |F     |\n|mt_note_05.txt|57 |[C50.92, C50.91, C50.9, C50.92, C50.9, C80.0, T78.40, R50.9, G25.81, P39.9, I97.2, C50.92]|[[Breast Cancer, C50.92], [ductal carcinoma of the left breast, C50.91], [breast carcinoma, C50.9], [breast cancer, C50.92], [ductal carcinoma, C50.9], [metastatic disease, C80.0], [ALLERGIES, T78.40], [febrile illnesses, R50.9], [restless leg syndrome, G25.81], [infection, P39.9], [upper extremity lymphedema, I97.2], [breast cancers, C50.92]]|F     |\n|mt_note_06.txt|63 |[C45, F31.9, Q40.1, D35.00, R18, D20.1, F31.9, L72.0]                                     |[[Name: Intraperitoneal Mesothelioma, C45], [type 1 bipolar disease, F31.9], [hiatal hernia, Q40.1], [adrenal adenoma, D35.00], [ascites, R18], [Intraperitoneal mesothelioma, D20.1], [Type 1 bipolar disease, F31.9], [cyst, L72.0]]                                                                                                                   |F     |\n|mt_note_07.txt|74 |[C45]                                                                                     |[[Mesothelioma, C45]]                                                                                                                                                                                                                                                                                                                                    |M     |\n|mt_note_08.txt|66 |[J90, C45.9, J90, C45, C80.0]                                                             |[[Description: Right pleural effusion, J90], [malignant mesothelioma, C45.9], [pleural effusion, J90], [mesothelioma, C45], [metastatic disease, C80.0]]                                                                                                                                                                                                 |F     |\n|mt_note_09.txt|19 |[D50.8, D57.0, O99.0, D57.02, K55.05, M46.42]                                             |[[Name: Sickle Cell Anemia, D50.8], [sickle cell anemia, D57.0], [sickle cell, O99.0], [Sickle cell crisis, D57.02], [Veno-occlusive crisis, K55.05], [diskitis, M46.42]]                                                                                                                                                                                |M     |\n|mt_note_10.txt|16 |[C69.60, C69.60]                                                                          |[[Rhabdomyosarcoma of the left orbit, C69.60], [rhabdomyosarcoma of the left orbit, C69.60]]                                                                                                                                                                                                                                                             |M     |\n+--------------+---+------------------------------------------------------------------------------------------+---------------------------------------------------------------------------------------------------------------------------------------------------------------------------------------------------------------------------------------------------------------------------------------------------------------------------------------------------------+------+\n\n"
     ]
    }
   ],
   "source": [
    "df = spark.createDataFrame(patient_df)\n",
    "df.show(truncate=False)"
   ]
  },
  {
   "cell_type": "code",
   "execution_count": 0,
   "metadata": {
    "application/vnd.databricks.v1+cell": {
     "cellMetadata": {
      "byteLimit": 2048000,
      "rowLimit": 10000
     },
     "inputWidgets": {},
     "nuid": "4f8a6aec-6cbf-4e80-ba22-6c039499feaf",
     "showTitle": false,
     "title": ""
    },
    "id": "AghLJ-udtfjW"
   },
   "outputs": [],
   "source": [
    "from pyspark.sql.types import MapType, IntegerType, DoubleType, StringType, StructType, StructField, FloatType\n",
    "import pyspark.sql.functions as f\n",
    "\n",
    "schema = StructType([\n",
    "            StructField('risk_score', FloatType()),\n",
    "            StructField('hcc_lst', StringType()),\n",
    "            StructField('parameters', StringType()),\n",
    "            StructField('details', StringType())])"
   ]
  },
  {
   "cell_type": "code",
   "execution_count": 0,
   "metadata": {
    "application/vnd.databricks.v1+cell": {
     "cellMetadata": {
      "byteLimit": 2048000,
      "rowLimit": 10000
     },
     "inputWidgets": {},
     "nuid": "1abaf8cb-2166-4665-bd30-8463a24af411",
     "showTitle": false,
     "title": ""
    },
    "colab": {
     "base_uri": "https://localhost:8080/"
    },
    "id": "FiUdIuuu0p0S",
    "outputId": "7e70dffc-2c59-48d4-cce6-0d569e42b9e2"
   },
   "outputs": [
    {
     "output_type": "stream",
     "name": "stdout",
     "output_type": "stream",
     "text": [
      "+--------------+-----------+----+--------+----------+\n|filename      |eligibility|orec|medicaid|DOB       |\n+--------------+-----------+----+--------+----------+\n|mt_note_01.txt|CFA        |0   |true    |1961-10-12|\n|mt_note_03.txt|CND        |1   |false   |1956-05-30|\n|mt_note_05.txt|CPA        |3   |true    |1963-08-12|\n|mt_note_06.txt|CFA        |0   |false   |1959-07-24|\n|mt_note_08.txt|CND        |1   |true    |1956-03-17|\n|mt_note_09.txt|CPA        |3   |true    |2003-06-11|\n|mt_note_10.txt|CFA        |2   |false   |2006-02-14|\n+--------------+-----------+----+--------+----------+\n\n"
     ]
    }
   ],
   "source": [
    "extra_columns = pd.DataFrame({\"filename\" : [\"mt_note_01.txt\", \"mt_note_03.txt\", \"mt_note_05.txt\", \"mt_note_06.txt\",\n",
    "                                            \"mt_note_08.txt\", \"mt_note_09.txt\", \"mt_note_10.txt\", ],\n",
    "                              \"eligibility\" : [\"CFA\", \"CND\", \"CPA\", \"CFA\", \"CND\", \"CPA\", \"CFA\"],\n",
    "                      \"orec\" : [\"0\", \"1\", \"3\", \"0\", \"1\", \"3\", \"2\"],\n",
    "                      \"medicaid\":[True, False, True, False, True, True, False],\n",
    "                      \"DOB\" : ['1961-10-12', \"1956-05-30\", '1963-08-12', \"1959-07-24\", '1956-03-17', \"2003-06-11\", '2006-02-14']\n",
    "                      })\n",
    "\n",
    "df_extra = spark.createDataFrame(extra_columns)\n",
    "df_extra.show(truncate=False)"
   ]
  },
  {
   "cell_type": "markdown",
   "metadata": {
    "application/vnd.databricks.v1+cell": {
     "cellMetadata": {},
     "inputWidgets": {},
     "nuid": "e9ddf6bb-22cb-401f-87b1-5188c7b414c1",
     "showTitle": false,
     "title": ""
    },
    "id": "j5eYZryyXIoH"
   },
   "source": [
    "If we don't have age information in documents and have date of birth for each patient, we can calculate the age with following functions."
   ]
  },
  {
   "cell_type": "markdown",
   "metadata": {
    "application/vnd.databricks.v1+cell": {
     "cellMetadata": {},
     "inputWidgets": {},
     "nuid": "a1702ce0-a8d7-4658-a15f-f34dbe100a08",
     "showTitle": false,
     "title": ""
    },
    "id": "We4DVWCzYy3j"
   },
   "source": [
    "```python\n",
    "from pyspark.sql import functions as F\n",
    "\n",
    "df_extra = df_extra.withColumn(\"DOB\", F.to_date(F.col(\"DOB\")))\n",
    "df_extra = df_extra.withColumn(\"Age\", F.datediff(F.current_date(), F.col(\"DOB\"))/365)\n",
    "df_extra.show()\n",
    "```\n",
    "```bash\n",
    "+--------------+-----------+----+--------+----------+------------------+\n",
    "|      filename|eligibility|orec|medicaid|       DOB|               Age|\n",
    "+--------------+-----------+----+--------+----------+------------------+\n",
    "|mt_note_01.txt|        CFA|   0|    true|1961-10-12| 60.93972602739726|\n",
    "|mt_note_03.txt|        CND|   1|   false|1956-05-30| 66.31232876712329|\n",
    "|mt_note_05.txt|        CPA|   3|    true|1963-08-12|59.106849315068494|\n",
    "|mt_note_06.txt|        CFA|   0|   false|1959-07-24| 63.16164383561644|\n",
    "|mt_note_08.txt|        CND|   1|    true|1956-03-17| 66.51506849315068|\n",
    "|mt_note_09.txt|        CPA|   3|    true|2003-06-11| 19.24931506849315|\n",
    "|mt_note_10.txt|        CFA|   2|   false|2006-02-14|16.567123287671233|\n",
    "+--------------+-----------+----+--------+----------+------------------+\n",
    "```"
   ]
  },
  {
   "cell_type": "code",
   "execution_count": 0,
   "metadata": {
    "application/vnd.databricks.v1+cell": {
     "cellMetadata": {
      "byteLimit": 2048000,
      "rowLimit": 10000
     },
     "inputWidgets": {},
     "nuid": "912206e7-ba8d-4ce2-bed4-88a9f208866c",
     "showTitle": false,
     "title": ""
    },
    "id": "yVItJDvi51Td"
   },
   "outputs": [],
   "source": [
    "hcc_df = df.join(df_extra, on= \"filename\")"
   ]
  },
  {
   "cell_type": "code",
   "execution_count": 0,
   "metadata": {
    "application/vnd.databricks.v1+cell": {
     "cellMetadata": {
      "byteLimit": 2048000,
      "rowLimit": 10000
     },
     "inputWidgets": {},
     "nuid": "34610b97-0642-4796-9494-7e20c7fe4d87",
     "showTitle": false,
     "title": ""
    },
    "colab": {
     "base_uri": "https://localhost:8080/"
    },
    "id": "Fz9SB3Tc65GR",
    "outputId": "b9ce28f8-ba15-4d1c-fd3f-7d4961a06aac"
   },
   "outputs": [
    {
     "output_type": "stream",
     "name": "stdout",
     "output_type": "stream",
     "text": [
      "+--------------+---+--------------------+-------------------------------+------+-----------+----+--------+----------+\n|      filename|Age|          icd10_code|Extracted_Entities_vs_ICD_Codes|Gender|eligibility|orec|medicaid|       DOB|\n+--------------+---+--------------------+-------------------------------+------+-----------+----+--------+----------+\n|mt_note_01.txt| 59|[C50.92, P61.4, C...|           [[breast cancer, ...|     F|        CFA|   0|    true|1961-10-12|\n|mt_note_03.txt| 66|[C49.9, J18.9, C4...|           [[leiomyosarcoma,...|     F|        CND|   1|   false|1956-05-30|\n|mt_note_05.txt| 57|[C50.92, C50.91, ...|           [[Breast Cancer, ...|     F|        CPA|   3|    true|1963-08-12|\n|mt_note_06.txt| 63|[C45, F31.9, Q40....|           [[Name: Intraperi...|     F|        CFA|   0|   false|1959-07-24|\n|mt_note_08.txt| 66|[J90, C45.9, J90,...|           [[Description: Ri...|     F|        CND|   1|    true|1956-03-17|\n|mt_note_09.txt| 19|[D50.8, D57.0, O9...|           [[Name: Sickle Ce...|     M|        CPA|   3|    true|2003-06-11|\n|mt_note_10.txt| 16|    [C69.60, C69.60]|           [[Rhabdomyosarcom...|     M|        CFA|   2|   false|2006-02-14|\n+--------------+---+--------------------+-------------------------------+------+-----------+----+--------+----------+\n\n"
     ]
    }
   ],
   "source": [
    "hcc_df.show()"
   ]
  },
  {
   "cell_type": "markdown",
   "metadata": {
    "application/vnd.databricks.v1+cell": {
     "cellMetadata": {},
     "inputWidgets": {},
     "nuid": "22a87683-4f4a-4259-932f-512dda182304",
     "showTitle": false,
     "title": ""
    },
    "id": "evliqd5kuUe5"
   },
   "source": [
    "## Importing the model version\n",
    "\n",
    "You can import one of the following function calculate the score.\n",
    "\n",
    "```\n",
    "- profileV22Y17   - profileV23Y18  - profileV24Y17  - profileV28    - profileESRDV21Y19 - profileRxHCCV05Y20 - profileRxHCCV08Y22                                                           \n",
    "- profileV22Y18   - profileV23Y19  - profileV24Y18  - profileV28Y24                     - profileRxHCCV05Y21 - profileRxHCCV08Y23\n",
    "- profileV22Y19                    - profileV24Y19                                      - profileRxHCCV05Y22\n",
    "- profileV22Y20                    - profileV24Y20                                      - profileRxHCCV05Y23\n",
    "- profileV22Y21                    - profileV24Y21\n",
    "- profileV22Y22                    - profileV24Y22\n",
    "                                   - profileV24\n",
    "```"
   ]
  },
  {
   "cell_type": "code",
   "execution_count": 0,
   "metadata": {
    "application/vnd.databricks.v1+cell": {
     "cellMetadata": {
      "byteLimit": 2048000,
      "rowLimit": 10000
     },
     "inputWidgets": {},
     "nuid": "47de8c44-a2f0-4607-9a0a-7936bae87c4f",
     "showTitle": false,
     "title": ""
    },
    "id": "aC4n76cH0Pk0"
   },
   "outputs": [],
   "source": [
    "from sparknlp_jsl.functions import profileV28Y24"
   ]
  },
  {
   "cell_type": "code",
   "execution_count": 0,
   "metadata": {
    "application/vnd.databricks.v1+cell": {
     "cellMetadata": {
      "byteLimit": 2048000,
      "rowLimit": 10000
     },
     "inputWidgets": {},
     "nuid": "00b82311-6c35-41da-b79d-d8977b86cd0e",
     "showTitle": false,
     "title": ""
    },
    "colab": {
     "base_uri": "https://localhost:8080/"
    },
    "id": "Sx0lbp0Xsj9Q",
    "outputId": "8e91f10b-768d-43ab-9888-84f16979dd33"
   },
   "outputs": [
    {
     "output_type": "stream",
     "name": "stdout",
     "output_type": "stream",
     "text": [
      "+----------+------------------------------------------------------------------------------------------+---+------+\n|risk_score|icd10_code                                                                                |Age|Gender|\n+----------+------------------------------------------------------------------------------------------+---+------+\n|0.196     |[C50.92, P61.4, C80.1]                                                                    |59 |F     |\n|1.01      |[C49.9, J18.9, C49.9, D61.81, I26, M06.9]                                                 |66 |F     |\n|2.166     |[C50.92, C50.91, C50.9, C50.92, C50.9, C80.0, T78.40, R50.9, G25.81, P39.9, I97.2, C50.92]|57 |F     |\n|0.349     |[C45, F31.9, Q40.1, D35.00, R18, D20.1, F31.9, L72.0]                                     |63 |F     |\n|2.486     |[J90, C45.9, J90, C45, C80.0]                                                             |66 |F     |\n|0.303     |[D50.8, D57.0, O99.0, D57.02, K55.05, M46.42]                                             |19 |M     |\n|0.196     |[C69.60, C69.60]                                                                          |16 |M     |\n+----------+------------------------------------------------------------------------------------------+---+------+\n\n-RECORD 0-------------------------------------------------------------------------------------------------------------------------------\n filename                        | mt_note_01.txt                                                                                       \n Age                             | 59                                                                                                   \n icd10_code                      | [C50.92, P61.4, C80.1]                                                                               \n Extracted_Entities_vs_ICD_Codes | [[breast cancer, C50.92], [dysplasia, P61.4], [cancer, C80.1]]                                       \n Gender                          | F                                                                                                    \n eligibility                     | CFA                                                                                                  \n orec                            | 0                                                                                                    \n medicaid                        | true                                                                                                 \n DOB                             | 1961-10-12                                                                                           \n hcc_profile                     | {0.196, [\"D1\",\"HCC23\"], {\"elig\":\"CFA\",\"age\":59,\"sex\":\"F\",\"origds\":false,\"disabled\":false,\"medicai... \n risk_score                      | 0.196                                                                                                \n hcc_lst                         | [\"D1\",\"HCC23\"]                                                                                       \n parameters                      | {\"elig\":\"CFA\",\"age\":59,\"sex\":\"F\",\"origds\":false,\"disabled\":false,\"medicaid\":true}                    \n details                         | {\"\":0.0,\"CFA_LTIMCAID\":0.0,\"CFA_D1\":0.0,\"CFA_HCC23\":0.196}                                           \n-RECORD 1-------------------------------------------------------------------------------------------------------------------------------\n filename                        | mt_note_03.txt                                                                                       \n Age                             | 66                                                                                                   \n icd10_code                      | [C49.9, J18.9, C49.9, D61.81, I26, M06.9]                                                            \n Extracted_Entities_vs_ICD_Codes | [[leiomyosarcoma, C49.9], [pneumonia, J18.9], [Leiomyosarcoma, C49.9], [Pancytopenia, D61.81], [p... \n Gender                          | F                                                                                                    \n eligibility                     | CND                                                                                                  \n orec                            | 1                                                                                                    \n medicaid                        | false                                                                                                \n DOB                             | 1956-05-30                                                                                           \n hcc_profile                     | {1.01, [\"HCC21\",\"D2\",\"HCC93\"], {\"elig\":\"CND\",\"age\":66,\"sex\":\"F\",\"origds\":true,\"disabled\":false,\"m... \n risk_score                      | 1.01                                                                                                 \n hcc_lst                         | [\"HCC21\",\"D2\",\"HCC93\"]                                                                               \n parameters                      | {\"elig\":\"CND\",\"age\":66,\"sex\":\"F\",\"origds\":true,\"disabled\":false,\"medicaid\":false}                    \n details                         | {\"\":0.0,\"CND_HCC93\":0.47,\"CND_D2\":0.0,\"CND_OriginallyDisabled_Female\":0.0,\"CND_HCC21\":0.54}          \n-RECORD 2-------------------------------------------------------------------------------------------------------------------------------\n filename                        | mt_note_05.txt                                                                                       \n Age                             | 57                                                                                                   \n icd10_code                      | [C50.92, C50.91, C50.9, C50.92, C50.9, C80.0, T78.40, R50.9, G25.81, P39.9, I97.2, C50.92]           \n Extracted_Entities_vs_ICD_Codes | [[Breast Cancer, C50.92], [ductal carcinoma of the left breast, C50.91], [breast carcinoma, C50.9... \n Gender                          | F                                                                                                    \n eligibility                     | CPA                                                                                                  \n orec                            | 3                                                                                                    \n medicaid                        | true                                                                                                 \n DOB                             | 1963-08-12                                                                                           \n hcc_profile                     | {2.166, [\"HCC18\",\"D1\",\"DISABLED_CANCER\"], {\"elig\":\"CPA\",\"age\":57,\"sex\":\"F\",\"origds\":false,\"disabl... \n risk_score                      | 2.166                                                                                                \n hcc_lst                         | [\"HCC18\",\"D1\",\"DISABLED_CANCER\"]                                                                     \n parameters                      | {\"elig\":\"CPA\",\"age\":57,\"sex\":\"F\",\"origds\":false,\"disabled\":true,\"medicaid\":true}                     \n details                         | {\"\":0.0,\"CPA_DISABLED_CANCER\":0.0,\"CPA_HCC18\":2.166,\"CPA_D1\":0.0,\"CPA_LTIMCAID\":0.0}                 \n-RECORD 3-------------------------------------------------------------------------------------------------------------------------------\n filename                        | mt_note_06.txt                                                                                       \n Age                             | 63                                                                                                   \n icd10_code                      | [C45, F31.9, Q40.1, D35.00, R18, D20.1, F31.9, L72.0]                                                \n Extracted_Entities_vs_ICD_Codes | [[Name: Intraperitoneal Mesothelioma, C45], [type 1 bipolar disease, F31.9], [hiatal hernia, Q40.... \n Gender                          | F                                                                                                    \n eligibility                     | CFA                                                                                                  \n orec                            | 0                                                                                                    \n medicaid                        | false                                                                                                \n DOB                             | 1959-07-24                                                                                           \n hcc_profile                     | {0.349, [\"HCC154\",\"D1\"], {\"elig\":\"CFA\",\"age\":63,\"sex\":\"F\",\"origds\":false,\"disabled\":false,\"medica... \n risk_score                      | 0.349                                                                                                \n hcc_lst                         | [\"HCC154\",\"D1\"]                                                                                      \n parameters                      | {\"elig\":\"CFA\",\"age\":63,\"sex\":\"F\",\"origds\":false,\"disabled\":false,\"medicaid\":false}                   \n details                         | {\"\":0.0,\"CFA_HCC154\":0.349,\"CFA_D1\":0.0}                                                             \n-RECORD 4-------------------------------------------------------------------------------------------------------------------------------\n filename                        | mt_note_08.txt                                                                                       \n Age                             | 66                                                                                                   \n icd10_code                      | [J90, C45.9, J90, C45, C80.0]                                                                        \n Extracted_Entities_vs_ICD_Codes | [[Description: Right pleural effusion, J90], [malignant mesothelioma, C45.9], [pleural effusion, ... \n Gender                          | F                                                                                                    \n eligibility                     | CND                                                                                                  \n orec                            | 1                                                                                                    \n medicaid                        | true                                                                                                 \n DOB                             | 1956-03-17                                                                                           \n hcc_profile                     | {2.486, [\"HCC18\",\"D1\"], {\"elig\":\"CND\",\"age\":66,\"sex\":\"F\",\"origds\":true,\"disabled\":false,\"medicaid... \n risk_score                      | 2.486                                                                                                \n hcc_lst                         | [\"HCC18\",\"D1\"]                                                                                       \n parameters                      | {\"elig\":\"CND\",\"age\":66,\"sex\":\"F\",\"origds\":true,\"disabled\":false,\"medicaid\":true}                     \n details                         | {\"\":0.0,\"CND_OriginallyDisabled_Female\":0.0,\"CND_HCC18\":2.486,\"CND_D1\":0.0,\"CND_LTIMCAID\":0.0}       \n-RECORD 5-------------------------------------------------------------------------------------------------------------------------------\n filename                        | mt_note_09.txt                                                                                       \n Age                             | 19                                                                                                   \n icd10_code                      | [D50.8, D57.0, O99.0, D57.02, K55.05, M46.42]                                                        \n Extracted_Entities_vs_ICD_Codes | [[Name: Sickle Cell Anemia, D50.8], [sickle cell anemia, D57.0], [sickle cell, O99.0], [Sickle ce... \n Gender                          | M                                                                                                    \n eligibility                     | CPA                                                                                                  \n orec                            | 3                                                                                                    \n medicaid                        | true                                                                                                 \n DOB                             | 2003-06-11                                                                                           \n hcc_profile                     | {0.303, [\"HCC107\",\"D1\"], {\"elig\":\"CPA\",\"age\":19,\"sex\":\"M\",\"origds\":false,\"disabled\":true,\"medicai... \n risk_score                      | 0.303                                                                                                \n hcc_lst                         | [\"HCC107\",\"D1\"]                                                                                      \n parameters                      | {\"elig\":\"CPA\",\"age\":19,\"sex\":\"M\",\"origds\":false,\"disabled\":true,\"medicaid\":true}                     \n details                         | {\"\":0.0,\"CPA_LTIMCAID\":0.0,\"CPA_HCC107\":0.303,\"CPA_D1\":0.0}                                          \n-RECORD 6-------------------------------------------------------------------------------------------------------------------------------\n filename                        | mt_note_10.txt                                                                                       \n Age                             | 16                                                                                                   \n icd10_code                      | [C69.60, C69.60]                                                                                     \n Extracted_Entities_vs_ICD_Codes | [[Rhabdomyosarcoma of the left orbit, C69.60], [rhabdomyosarcoma of the left orbit, C69.60]]         \n Gender                          | M                                                                                                    \n eligibility                     | CFA                                                                                                  \n orec                            | 2                                                                                                    \n medicaid                        | false                                                                                                \n DOB                             | 2006-02-14                                                                                           \n hcc_profile                     | {0.196, [\"D1\",\"DISABLED_CANCER\",\"HCC23\"], {\"elig\":\"CFA\",\"age\":16,\"sex\":\"M\",\"origds\":false,\"disabl... \n risk_score                      | 0.196                                                                                                \n hcc_lst                         | [\"D1\",\"DISABLED_CANCER\",\"HCC23\"]                                                                     \n parameters                      | {\"elig\":\"CFA\",\"age\":16,\"sex\":\"M\",\"origds\":false,\"disabled\":true,\"medicaid\":false}                    \n details                         | {\"\":0.0,\"CFA_D1\":0.0,\"CFA_DISABLED_CANCER\":0.0,\"CFA_HCC23\":0.196}                                    \n\n"
     ]
    }
   ],
   "source": [
    "hcc_df = hcc_df.withColumn(\"hcc_profile\", profileV28Y24(hcc_df.icd10_code, hcc_df.Age, hcc_df.Gender, hcc_df.eligibility, hcc_df.orec, hcc_df.medicaid))\n",
    "\n",
    "hcc_df = hcc_df.withColumn(\"hcc_profile\", F.from_json(F.col(\"hcc_profile\"), schema))\n",
    "hcc_df = hcc_df.withColumn(\"risk_score\", hcc_df.hcc_profile.getItem(\"risk_score\"))\\\n",
    "               .withColumn(\"hcc_lst\", hcc_df.hcc_profile.getItem(\"hcc_lst\"))\\\n",
    "               .withColumn(\"parameters\", hcc_df.hcc_profile.getItem(\"parameters\"))\\\n",
    "               .withColumn(\"details\", hcc_df.hcc_profile.getItem(\"details\"))\\\n",
    "\n",
    "hcc_df.select('risk_score','icd10_code', 'Age', 'Gender').show(truncate=False )\n",
    "\n",
    "hcc_df.show(truncate=100, vertical=True)"
   ]
  },
  {
   "cell_type": "markdown",
   "metadata": {
    "application/vnd.databricks.v1+cell": {
     "cellMetadata": {},
     "inputWidgets": {},
     "nuid": "9d218240-9ce3-44fa-87e6-dee7efee7466",
     "showTitle": false,
     "title": ""
    },
    "id": "8ilRaMumviEI"
   },
   "source": [
    "# Risk Score Calculation With RxHCC"
   ]
  },
  {
   "cell_type": "code",
   "execution_count": 0,
   "metadata": {
    "application/vnd.databricks.v1+cell": {
     "cellMetadata": {
      "byteLimit": 2048000,
      "rowLimit": 10000
     },
     "inputWidgets": {},
     "nuid": "cc11db25-63ca-41e9-9160-8f87def74589",
     "showTitle": false,
     "title": ""
    },
    "colab": {
     "base_uri": "https://localhost:8080/"
    },
    "id": "KLp3gDzBvp3Q",
    "outputId": "753f99c4-0ea3-4393-f9a3-0fd775057f6a"
   },
   "outputs": [
    {
     "output_type": "stream",
     "name": "stdout",
     "output_type": "stream",
     "text": [
      "+--------------+--------------+----+-----+----------+\n|filename      |eligibility   |orec|esrd |DOB       |\n+--------------+--------------+----+-----+----------+\n|mt_note_01.txt|CE_NoLowNoAged|0   |true |1961-10-12|\n|mt_note_03.txt|CE_NoLowAged  |1   |false|1956-05-30|\n|mt_note_05.txt|CE_LTI        |3   |true |1963-08-12|\n|mt_note_06.txt|NE_Lo         |0   |false|1959-07-24|\n|mt_note_08.txt|NE_NoLo       |1   |true |1956-03-17|\n|mt_note_09.txt|CE_LowNoAged  |3   |true |2003-06-11|\n|mt_note_10.txt|NE_LTI        |2   |false|2006-02-14|\n+--------------+--------------+----+-----+----------+\n\n"
     ]
    }
   ],
   "source": [
    "extra_columns = pd.DataFrame({\"filename\" : [\"mt_note_01.txt\", \"mt_note_03.txt\", \"mt_note_05.txt\", \"mt_note_06.txt\",\n",
    "                                            \"mt_note_08.txt\", \"mt_note_09.txt\", \"mt_note_10.txt\", ],\n",
    "                              \"eligibility\" : [\"CE_NoLowNoAged\", \"CE_NoLowAged\", \"CE_LTI\", \"NE_Lo\", \"NE_NoLo\", \"CE_LowNoAged\", \"NE_LTI\"],\n",
    "                              \"orec\" : [\"0\", \"1\", \"3\", \"0\", \"1\", \"3\", \"2\"],\n",
    "                              \"esrd\":[True, False, True, False, True, True, False],\n",
    "                              \"DOB\" : ['1961-10-12', \"1956-05-30\", '1963-08-12', \"1959-07-24\", '1956-03-17', \"2003-06-11\", '2006-02-14']\n",
    "                      })\n",
    "\n",
    "rxhcc_df_extra = spark.createDataFrame(extra_columns)\n",
    "rxhcc_df_extra.show(truncate=False)"
   ]
  },
  {
   "cell_type": "code",
   "execution_count": 0,
   "metadata": {
    "application/vnd.databricks.v1+cell": {
     "cellMetadata": {
      "byteLimit": 2048000,
      "rowLimit": 10000
     },
     "inputWidgets": {},
     "nuid": "585ab8f9-39c0-4890-b836-11ee1d2dc586",
     "showTitle": false,
     "title": ""
    },
    "colab": {
     "base_uri": "https://localhost:8080/"
    },
    "id": "giY23YwuKYC1",
    "outputId": "360f7ebb-d0c1-43ce-8fa0-c06d5b85ae81"
   },
   "outputs": [
    {
     "output_type": "stream",
     "name": "stdout",
     "output_type": "stream",
     "text": [
      "+--------------+---+--------------------+-------------------------------+------+\n|      filename|Age|          icd10_code|Extracted_Entities_vs_ICD_Codes|Gender|\n+--------------+---+--------------------+-------------------------------+------+\n|mt_note_01.txt| 59|[C50.92, P61.4, C...|           [[breast cancer, ...|     F|\n|mt_note_02.txt| 56|      [C53.9, C53.9]|           [[Name: Mullerian...|     F|\n|mt_note_03.txt| 66|[C49.9, J18.9, C4...|           [[leiomyosarcoma,...|     F|\n|mt_note_04.txt| 61|[C44.9, C44.9, M6...|           [[basal cell carc...|     F|\n|mt_note_05.txt| 57|[C50.92, C50.91, ...|           [[Breast Cancer, ...|     F|\n|mt_note_06.txt| 63|[C45, F31.9, Q40....|           [[Name: Intraperi...|     F|\n|mt_note_07.txt| 74|               [C45]|           [[Mesothelioma, C...|     M|\n|mt_note_08.txt| 66|[J90, C45.9, J90,...|           [[Description: Ri...|     F|\n|mt_note_09.txt| 19|[D50.8, D57.0, O9...|           [[Name: Sickle Ce...|     M|\n|mt_note_10.txt| 16|    [C69.60, C69.60]|           [[Rhabdomyosarcom...|     M|\n+--------------+---+--------------------+-------------------------------+------+\n\n"
     ]
    }
   ],
   "source": [
    "df.show()"
   ]
  },
  {
   "cell_type": "code",
   "execution_count": 0,
   "metadata": {
    "application/vnd.databricks.v1+cell": {
     "cellMetadata": {
      "byteLimit": 2048000,
      "rowLimit": 10000
     },
     "inputWidgets": {},
     "nuid": "70cd7a20-5bd4-43a3-8b00-e464ced7f8fe",
     "showTitle": false,
     "title": ""
    },
    "colab": {
     "base_uri": "https://localhost:8080/"
    },
    "id": "rlg5j19Twz9L",
    "outputId": "2ff040e8-9ce8-499e-a0e7-91f5b51f0280"
   },
   "outputs": [
    {
     "output_type": "stream",
     "name": "stdout",
     "output_type": "stream",
     "text": [
      "+--------------+---+------------------------------------------------------------------------------------------+------------------------------------------------------------------------------------------------------------------------------------------------------+------+--------------+----+-----+----------+\n|      filename|Age|                                                                                icd10_code|                                                                                                                       Extracted_Entities_vs_ICD_Codes|Gender|   eligibility|orec| esrd|       DOB|\n+--------------+---+------------------------------------------------------------------------------------------+------------------------------------------------------------------------------------------------------------------------------------------------------+------+--------------+----+-----+----------+\n|mt_note_01.txt| 59|                                                                    [C50.92, P61.4, C80.1]|                                                                                        [[breast cancer, C50.92], [dysplasia, P61.4], [cancer, C80.1]]|     F|CE_NoLowNoAged|   0| true|1961-10-12|\n|mt_note_03.txt| 66|                                                 [C49.9, J18.9, C49.9, D61.81, I26, M06.9]|[[leiomyosarcoma, C49.9], [pneumonia, J18.9], [Leiomyosarcoma, C49.9], [Pancytopenia, D61.81], [pulmonary embolism, I26], [rheumatoid arthritis, M0...|     F|  CE_NoLowAged|   1|false|1956-05-30|\n|mt_note_05.txt| 57|[C50.92, C50.91, C50.9, C50.92, C50.9, C80.0, T78.40, R50.9, G25.81, P39.9, I97.2, C50.92]|[[Breast Cancer, C50.92], [ductal carcinoma of the left breast, C50.91], [breast carcinoma, C50.9], [breast cancer, C50.92], [ductal carcinoma, C50...|     F|        CE_LTI|   3| true|1963-08-12|\n|mt_note_06.txt| 63|                                     [C45, F31.9, Q40.1, D35.00, R18, D20.1, F31.9, L72.0]|[[Name: Intraperitoneal Mesothelioma, C45], [type 1 bipolar disease, F31.9], [hiatal hernia, Q40.1], [adrenal adenoma, D35.00], [ascites, R18], [In...|     F|         NE_Lo|   0|false|1959-07-24|\n|mt_note_08.txt| 66|                                                             [J90, C45.9, J90, C45, C80.0]|[[Description: Right pleural effusion, J90], [malignant mesothelioma, C45.9], [pleural effusion, J90], [mesothelioma, C45], [metastatic disease, C8...|     F|       NE_NoLo|   1| true|1956-03-17|\n|mt_note_09.txt| 19|                                             [D50.8, D57.0, O99.0, D57.02, K55.05, M46.42]|[[Name: Sickle Cell Anemia, D50.8], [sickle cell anemia, D57.0], [sickle cell, O99.0], [Sickle cell crisis, D57.02], [Veno-occlusive crisis, K55.05...|     M|  CE_LowNoAged|   3| true|2003-06-11|\n|mt_note_10.txt| 16|                                                                          [C69.60, C69.60]|                                                          [[Rhabdomyosarcoma of the left orbit, C69.60], [rhabdomyosarcoma of the left orbit, C69.60]]|     M|        NE_LTI|   2|false|2006-02-14|\n+--------------+---+------------------------------------------------------------------------------------------+------------------------------------------------------------------------------------------------------------------------------------------------------+------+--------------+----+-----+----------+\n\n"
     ]
    }
   ],
   "source": [
    "rxhcc_df = df.join(rxhcc_df_extra, on= \"filename\")\n",
    "rxhcc_df.show(truncate=150)"
   ]
  },
  {
   "cell_type": "markdown",
   "metadata": {
    "application/vnd.databricks.v1+cell": {
     "cellMetadata": {},
     "inputWidgets": {},
     "nuid": "ecf963da-8623-412f-9e52-c1302b1241cf",
     "showTitle": false,
     "title": ""
    },
    "id": "dx8Fcn1HxAfZ"
   },
   "source": [
    "## Importing the model version"
   ]
  },
  {
   "cell_type": "code",
   "execution_count": 0,
   "metadata": {
    "application/vnd.databricks.v1+cell": {
     "cellMetadata": {
      "byteLimit": 2048000,
      "rowLimit": 10000
     },
     "inputWidgets": {},
     "nuid": "c44630df-46a3-46b8-a49c-2266d1bf295e",
     "showTitle": false,
     "title": ""
    },
    "id": "7NlVeMM1uvE1"
   },
   "outputs": [],
   "source": [
    "from sparknlp_jsl.functions import profileRxHCCV08Y23"
   ]
  },
  {
   "cell_type": "code",
   "execution_count": 0,
   "metadata": {
    "application/vnd.databricks.v1+cell": {
     "cellMetadata": {
      "byteLimit": 2048000,
      "rowLimit": 10000
     },
     "inputWidgets": {},
     "nuid": "78c0e719-e467-4d09-aad4-f2a97053199a",
     "showTitle": false,
     "title": ""
    },
    "colab": {
     "base_uri": "https://localhost:8080/"
    },
    "id": "V2_hZIvGuvE2",
    "outputId": "bc76603d-e146-4144-b669-b6a785a8ee23"
   },
   "outputs": [
    {
     "output_type": "stream",
     "name": "stdout",
     "output_type": "stream",
     "text": [
      "+----------+------------------------------------------------------------------------------------------+---+------+\n|risk_score|icd10_code                                                                                |Age|Gender|\n+----------+------------------------------------------------------------------------------------------+---+------+\n|0.367     |[C50.92, P61.4, C80.1]                                                                    |59 |F     |\n|0.575     |[C49.9, J18.9, C49.9, D61.81, I26, M06.9]                                                 |66 |F     |\n|1.677     |[C50.92, C50.91, C50.9, C50.92, C50.9, C80.0, T78.40, R50.9, G25.81, P39.9, I97.2, C50.92]|57 |F     |\n|1.645     |[C45, F31.9, Q40.1, D35.00, R18, D20.1, F31.9, L72.0]                                     |63 |F     |\n|1.703     |[J90, C45.9, J90, C45, C80.0]                                                             |66 |F     |\n|1.38      |[D50.8, D57.0, O99.0, D57.02, K55.05, M46.42]                                             |19 |M     |\n|2.729     |[C69.60, C69.60]                                                                          |16 |M     |\n+----------+------------------------------------------------------------------------------------------+---+------+\n\n-RECORD 0-------------------------------------------------------------------------------------------------------------------------------\n filename                        | mt_note_01.txt                                                                                       \n Age                             | 59                                                                                                   \n icd10_code                      | [C50.92, P61.4, C80.1]                                                                               \n Extracted_Entities_vs_ICD_Codes | [[breast cancer, C50.92], [dysplasia, P61.4], [cancer, C80.1]]                                       \n Gender                          | F                                                                                                    \n eligibility                     | CE_NoLowNoAged                                                                                       \n orec                            | 0                                                                                                    \n esrd                            | true                                                                                                 \n DOB                             | 1961-10-12                                                                                           \n rxhcc_profile                   | {0.367, NULL, {\"elig\":\"CE_NoLowNoAged\",\"age\":59,\"sex\":\"F\",\"esrd\":true,\"origds\":false,\"disabled\":f... \n risk_score                      | 0.367                                                                                                \n parameters                      | {\"elig\":\"CE_NoLowNoAged\",\"age\":59,\"sex\":\"F\",\"esrd\":true,\"origds\":false,\"disabled\":false,\"NonAged\"... \n details                         | {\"Rx_CE_NoLowNoAged_F55_59\":0.367}                                                                   \n-RECORD 1-------------------------------------------------------------------------------------------------------------------------------\n filename                        | mt_note_03.txt                                                                                       \n Age                             | 66                                                                                                   \n icd10_code                      | [C49.9, J18.9, C49.9, D61.81, I26, M06.9]                                                            \n Extracted_Entities_vs_ICD_Codes | [[leiomyosarcoma, C49.9], [pneumonia, J18.9], [Leiomyosarcoma, C49.9], [Pancytopenia, D61.81], [p... \n Gender                          | F                                                                                                    \n eligibility                     | CE_NoLowAged                                                                                         \n orec                            | 1                                                                                                    \n esrd                            | false                                                                                                \n DOB                             | 1956-05-30                                                                                           \n rxhcc_profile                   | {0.575, NULL, {\"elig\":\"CE_NoLowAged\",\"age\":66,\"sex\":\"F\",\"esrd\":false,\"origds\":true,\"disabled\":fal... \n risk_score                      | 0.575                                                                                                \n parameters                      | {\"elig\":\"CE_NoLowAged\",\"age\":66,\"sex\":\"F\",\"esrd\":false,\"origds\":true,\"disabled\":false,\"NonAged\":f... \n details                         | {\"Rx_CE_NoLowAged_F65_69\":0.156,\"Rx_CE_NoLowAged_F65OD\":0.063,\"Rx_CE_NoLowAged_RXHCC22\":0.1,\"Rx_C... \n-RECORD 2-------------------------------------------------------------------------------------------------------------------------------\n filename                        | mt_note_05.txt                                                                                       \n Age                             | 57                                                                                                   \n icd10_code                      | [C50.92, C50.91, C50.9, C50.92, C50.9, C80.0, T78.40, R50.9, G25.81, P39.9, I97.2, C50.92]           \n Extracted_Entities_vs_ICD_Codes | [[Breast Cancer, C50.92], [ductal carcinoma of the left breast, C50.91], [breast carcinoma, C50.9... \n Gender                          | F                                                                                                    \n eligibility                     | CE_LTI                                                                                               \n orec                            | 3                                                                                                    \n esrd                            | true                                                                                                 \n DOB                             | 1963-08-12                                                                                           \n rxhcc_profile                   | {1.677, NULL, {\"elig\":\"CE_LTI\",\"age\":57,\"sex\":\"F\",\"esrd\":true,\"origds\":false,\"disabled\":true,\"Non... \n risk_score                      | 1.677                                                                                                \n parameters                      | {\"elig\":\"CE_LTI\",\"age\":57,\"sex\":\"F\",\"esrd\":true,\"origds\":false,\"disabled\":true,\"NonAged\":true}       \n details                         | {\"Rx_CE_LTI_F55_59\":1.538,\"Rx_CE_LTI_RXHCC20\":0.139}                                                 \n-RECORD 3-------------------------------------------------------------------------------------------------------------------------------\n filename                        | mt_note_06.txt                                                                                       \n Age                             | 63                                                                                                   \n icd10_code                      | [C45, F31.9, Q40.1, D35.00, R18, D20.1, F31.9, L72.0]                                                \n Extracted_Entities_vs_ICD_Codes | [[Name: Intraperitoneal Mesothelioma, C45], [type 1 bipolar disease, F31.9], [hiatal hernia, Q40.... \n Gender                          | F                                                                                                    \n eligibility                     | NE_Lo                                                                                                \n orec                            | 0                                                                                                    \n esrd                            | false                                                                                                \n DOB                             | 1959-07-24                                                                                           \n rxhcc_profile                   | {1.645, NULL, {\"elig\":\"NE_Lo\",\"age\":63,\"sex\":\"F\",\"esrd\":false,\"origds\":false,\"disabled\":false,\"No... \n risk_score                      | 1.645                                                                                                \n parameters                      | {\"elig\":\"NE_Lo\",\"age\":63,\"sex\":\"F\",\"esrd\":false,\"origds\":false,\"disabled\":false,\"NonAged\":false}     \n details                         | {\"Rx_NE_Lo_NESRD_NOD_x_F60_64\":1.645}                                                                \n-RECORD 4-------------------------------------------------------------------------------------------------------------------------------\n filename                        | mt_note_08.txt                                                                                       \n Age                             | 66                                                                                                   \n icd10_code                      | [J90, C45.9, J90, C45, C80.0]                                                                        \n Extracted_Entities_vs_ICD_Codes | [[Description: Right pleural effusion, J90], [malignant mesothelioma, C45.9], [pleural effusion, ... \n Gender                          | F                                                                                                    \n eligibility                     | NE_NoLo                                                                                              \n orec                            | 1                                                                                                    \n esrd                            | true                                                                                                 \n DOB                             | 1956-03-17                                                                                           \n rxhcc_profile                   | {1.703, NULL, {\"elig\":\"NE_NoLo\",\"age\":66,\"sex\":\"F\",\"esrd\":true,\"origds\":true,\"disabled\":false,\"No... \n risk_score                      | 1.703                                                                                                \n parameters                      | {\"elig\":\"NE_NoLo\",\"age\":66,\"sex\":\"F\",\"esrd\":true,\"origds\":true,\"disabled\":false,\"NonAged\":false}     \n details                         | {\"Rx_NE_NoLo_ESRD_OD_x_F66\":1.703}                                                                   \n-RECORD 5-------------------------------------------------------------------------------------------------------------------------------\n filename                        | mt_note_09.txt                                                                                       \n Age                             | 19                                                                                                   \n icd10_code                      | [D50.8, D57.0, O99.0, D57.02, K55.05, M46.42]                                                        \n Extracted_Entities_vs_ICD_Codes | [[Name: Sickle Cell Anemia, D50.8], [sickle cell anemia, D57.0], [sickle cell, O99.0], [Sickle ce... \n Gender                          | M                                                                                                    \n eligibility                     | CE_LowNoAged                                                                                         \n orec                            | 3                                                                                                    \n esrd                            | true                                                                                                 \n DOB                             | 2003-06-11                                                                                           \n rxhcc_profile                   | {1.38, NULL, {\"elig\":\"CE_LowNoAged\",\"age\":19,\"sex\":\"M\",\"esrd\":true,\"origds\":false,\"disabled\":true... \n risk_score                      | 1.38                                                                                                 \n parameters                      | {\"elig\":\"CE_LowNoAged\",\"age\":19,\"sex\":\"M\",\"esrd\":true,\"origds\":false,\"disabled\":true,\"NonAged\":true} \n details                         | {\"Rx_CE_LowNoAged_M0_34\":0.498,\"Rx_CE_LowNoAged_RXHCC95\":0.882}                                      \n-RECORD 6-------------------------------------------------------------------------------------------------------------------------------\n filename                        | mt_note_10.txt                                                                                       \n Age                             | 16                                                                                                   \n icd10_code                      | [C69.60, C69.60]                                                                                     \n Extracted_Entities_vs_ICD_Codes | [[Rhabdomyosarcoma of the left orbit, C69.60], [rhabdomyosarcoma of the left orbit, C69.60]]         \n Gender                          | M                                                                                                    \n eligibility                     | NE_LTI                                                                                               \n orec                            | 2                                                                                                    \n esrd                            | false                                                                                                \n DOB                             | 2006-02-14                                                                                           \n rxhcc_profile                   | {2.729, NULL, {\"elig\":\"NE_LTI\",\"age\":16,\"sex\":\"M\",\"esrd\":false,\"origds\":false,\"disabled\":true,\"No... \n risk_score                      | 2.729                                                                                                \n parameters                      | {\"elig\":\"NE_LTI\",\"age\":16,\"sex\":\"M\",\"esrd\":false,\"origds\":false,\"disabled\":true,\"NonAged\":false}     \n details                         | {\"Rx_NE_LTI_NESRD_NOD_x_M0_34\":2.729}                                                                \n\n"
     ]
    }
   ],
   "source": [
    "rxhcc_df = rxhcc_df.withColumn(\"rxhcc_profile\", profileRxHCCV08Y23(rxhcc_df.icd10_code, rxhcc_df.Age, rxhcc_df.Gender, rxhcc_df.eligibility, rxhcc_df.orec, rxhcc_df.esrd))\n",
    "\n",
    "rxhcc_df = rxhcc_df.withColumn(\"rxhcc_profile\", F.from_json(F.col(\"rxhcc_profile\"), schema))\n",
    "rxhcc_df= rxhcc_df.withColumn(\"risk_score\", rxhcc_df.rxhcc_profile.getItem(\"risk_score\"))\\\n",
    "                  .withColumn(\"parameters\", rxhcc_df.rxhcc_profile.getItem(\"parameters\"))\\\n",
    "                  .withColumn(\"details\", rxhcc_df.rxhcc_profile.getItem(\"details\"))\\\n",
    "\n",
    "rxhcc_df.select('risk_score','icd10_code', 'Age', 'Gender').show(truncate=False )\n",
    "\n",
    "rxhcc_df.show(truncate=100, vertical=True)"
   ]
  },
  {
   "cell_type": "markdown",
   "metadata": {
    "application/vnd.databricks.v1+cell": {
     "cellMetadata": {},
     "inputWidgets": {},
     "nuid": "ec95344b-9b7e-4177-a843-ca389e39720e",
     "showTitle": false,
     "title": ""
    },
    "id": "kMnvdtsbDv7C"
   },
   "source": [
    "# Using Question Answer Model"
   ]
  },
  {
   "cell_type": "code",
   "execution_count": 0,
   "metadata": {
    "application/vnd.databricks.v1+cell": {
     "cellMetadata": {
      "byteLimit": 2048000,
      "rowLimit": 10000
     },
     "inputWidgets": {},
     "nuid": "4af1cec4-7727-4b49-b6cd-b8ef7b14d0f6",
     "showTitle": false,
     "title": ""
    },
    "id": "cJNn8FsoRP8d"
   },
   "outputs": [],
   "source": [
    "import pyspark.sql.functions as F"
   ]
  },
  {
   "cell_type": "code",
   "execution_count": 0,
   "metadata": {
    "application/vnd.databricks.v1+cell": {
     "cellMetadata": {
      "byteLimit": 2048000,
      "rowLimit": 10000
     },
     "inputWidgets": {},
     "nuid": "dce7c132-5e9d-4098-9c32-cdbeaebc83ee",
     "showTitle": false,
     "title": ""
    },
    "id": "Ez5vtdAkZBhN"
   },
   "outputs": [],
   "source": [
    "sample_texts = [\"\"\"Medical Specialty:Hematology - Oncology\n",
    "Sample Name: Consult - Breast Cancer - 1\n",
    "Description: The patient is a 57-year-old female with invasive ductal carcinoma of the left breast, T1c, Nx, M0 left breast carcinoma.\n",
    "(Medical Transcription Sample Report)\n",
    "CHIEF COMPLAINT:  Left breast cancer.\n",
    "HISTORY: The patient is a 57-year-old female, who I initially saw in the office on 12/27/07, as a referral from the Tomball Breast Center. On 12/21/07, the patient underwent image-guided needle core biopsy of a 1.5 cm lesion at the 7 o'clock position of the left breast (inferomedial). The biopsy returned showing infiltrating ductal carcinoma high histologic grade. The patient stated that she had recently felt and her physician had felt a palpable mass in that area prior to her breast imaging. She prior to that area, denied any complaints. She had no nipple discharge. No trauma history. She has had been on no estrogen supplementation. She has had no other personal history of breast cancer. Her family history is positive for her mother having breast cancer at age 48. The patient has had no children and no pregnancies. She denies any change in the right breast. Subsequent to the office visit and tissue diagnosis of breast cancer, she has had medical oncology consultation with Dr. X and radiation oncology consultation with Dr. Y. I have discussed the case with Dr. X and Dr. Y, who are both in agreement with proceeding with surgery prior to adjuvant therapy. The patient's metastatic workup has otherwise been negative with MRI scan and CT scanning. The MRI scan showed some close involvement possibly involving the left pectoralis muscle, although thought to also possibly represent biopsy artifact. CT scan of the neck, chest, and abdomen is negative for metastatic disease. PAST MEDICAL HISTORY: Previous surgery is history of benign breast biopsy in 1972, laparotomy in 1981, 1982, and 1984, right oophorectomy in 1984, and ganglion cyst removal of the hand in 1987.\n",
    "MEDICATIONS: She is currently on omeprazole for reflux and indigestion.\n",
    "ALLERGIES: SHE HAS NO KNOWN DRUG ALLERGIES.\n",
    "REVIEW OF SYSTEMS: Negative for any recent febrile illnesses, chest pains or shortness of breath. Positive for restless leg syndrome. Negative for any unexplained weight loss and no change in bowel or bladder habits.\n",
    "FAMILY HISTORY: Positive for breast cancer in her mother and also mesothelioma from possible asbestosis or asbestos exposure.\n",
    "SOCIAL HISTORY: The patient works as a school teacher and teaching high school.\n",
    "PHYSICAL EXAMINATION: GENERAL: The patient is a white female, alert and oriented x 3, appears her stated age of 57.\n",
    "HEENT: Head is atraumatic and normocephalic. Sclerae are anicteric. NECK: Supple.\n",
    "CHEST: Clear. HEART: Regular rate and rhythm. BREASTS: Exam reveals an approximately 1.5 cm relatively mobile focal palpable mass in the inferomedial left breast at the 7 o'clock position, which clinically is not fixed to the underlying pectoralis muscle. There are no nipple retractions. No skin dimpling. There is some, at the time of the office visit, ecchymosis from recent biopsy. There is no axillary adenopathy. The remainder of the left breast is without abnormality. The right breast is without abnormality. The axillary areas are negative for adenopathy bilaterally. ABDOMEN: Soft, nontender without masses. No gross organomegaly. No CVA or flank tenderness. EXTREMITIES: Grossly neurovascularly intact.\n",
    "IMPRESSION:  The patient is a 57-year-old female with invasive ductal carcinoma of the left breast, T1c, Nx, M0 left breast carcinoma.\n",
    "RECOMMENDATIONS:  I have discussed with the patient in detail about the diagnosis of breast cancer and the surgical options, and medical oncologist has discussed with her issues about adjuvant or neoadjuvant chemotherapy. We have decided to recommend to the patient breast conservation surgery with left breast lumpectomy with preoperative sentinel lymph node injection and mapping and left axillary dissection. The possibility of further surgery requiring wider lumpectomy or even completion mastectomy was explained to the patient. The procedure and risks of the surgery were explained to include, but not limited to extra bleeding, infection, unsightly scar formation, the possibility of local recurrence, the possibility of left upper extremity lymphedema was explained. Local numbness, paresthesias or chronic pain was explained. The patient was given an educational brochure and several brochures about the diagnosis and treatment of breast cancers. She was certainly encouraged to obtain further surgical medical opinions prior to proceeding. I believe the patient has given full informed consent and desires to proceed with the above.\n",
    "\"\"\"]\n",
    "\n"
   ]
  },
  {
   "cell_type": "code",
   "execution_count": 0,
   "metadata": {
    "application/vnd.databricks.v1+cell": {
     "cellMetadata": {
      "byteLimit": 2048000,
      "rowLimit": 10000
     },
     "inputWidgets": {},
     "nuid": "fe707401-e5c7-45b7-85fa-b33431496283",
     "showTitle": false,
     "title": ""
    },
    "id": "8N2b-nkZZEJV"
   },
   "outputs": [],
   "source": [
    "new_text = []\n",
    "questions = {0: [\"What is the patient's age?\"],\n",
    "             1: [\"What is the patient's gender?\"],\n",
    "             2: [\"What is the patient's diagnosis?\"],\n",
    "}\n",
    "\n",
    "for i in range(3):\n",
    "        for x in questions[i]:\n",
    "            new_text.append([x, sample_texts[0]])\n",
    "\n",
    "example = spark.createDataFrame(new_text).toDF(\"question\", \"context\")\n"
   ]
  },
  {
   "cell_type": "code",
   "execution_count": 0,
   "metadata": {
    "application/vnd.databricks.v1+cell": {
     "cellMetadata": {
      "byteLimit": 2048000,
      "rowLimit": 10000
     },
     "inputWidgets": {},
     "nuid": "dea8db12-d878-4156-8918-075934f35672",
     "showTitle": false,
     "title": ""
    },
    "colab": {
     "base_uri": "https://localhost:8080/"
    },
    "id": "lcSgm-aqD07u",
    "outputId": "27439a77-b207-41a4-9434-8da1e4ee2819"
   },
   "outputs": [
    {
     "output_type": "stream",
     "name": "stdout",
     "output_type": "stream",
     "text": [
      "clinical_notes_qa_base download started this may take some time.\n\r[ | ]\r[ / ]\r[ — ]\r[ \\ ]\r[ | ]\r[ / ]\r[ — ]\r[ \\ ]\r[ | ]\r[ / ]\r[ — ]\r[ \\ ]\r[ | ]\r[ / ]\r[ — ]\r[ \\ ]\r[ | ]\r[ / ]\r[ — ]\r[ \\ ]\r[ | ]\r[ / ]\r[ — ]\r[ \\ ]\r[ | ]\r[ / ]\r[ — ]\r[ \\ ]\r[ | ]\r[ / ]\r[ — ]\r[ \\ ]\r[ | ]\r[ / ]\r[ — ]\r[ \\ ]\r[ | ]\r[ / ]\r[ — ]\r[ \\ ]\r[ | ]\r[ / ]\r[ — ]\r[ \\ ]\r[ | ]\r[ / ]\r[ — ]\r[ \\ ]\r[ | ]\r[ / ]\r[ — ]\r[ \\ ]\r[ | ]\r[ / ]\r[ — ]\r[ \\ ]\r[ | ]\r[ / ]\r[OK!]\n"
     ]
    }
   ],
   "source": [
    "document_assembler = MultiDocumentAssembler()\\\n",
    "    .setInputCols(\"question\", \"context\")\\\n",
    "    .setOutputCols(\"document_question\", \"document_context\")\n",
    "\n",
    "med_qa  = sparknlp_jsl.annotators.MedicalQuestionAnswering()\\\n",
    "    .pretrained(\"clinical_notes_qa_base\", \"en\", \"clinical/models\")\\\n",
    "    .setInputCols([\"document_question\", \"document_context\"])\\\n",
    "    .setCustomPrompt(\"Context: {context} \\n Question: {question} \\n Answer: \")\\\n",
    "    .setOutputCol(\"answer\")\\\n",
    "\n",
    "pipeline = Pipeline(stages=[document_assembler, med_qa])\n",
    "\n",
    "\n",
    "result = pipeline.fit(example).transform(example)"
   ]
  },
  {
   "cell_type": "code",
   "execution_count": 0,
   "metadata": {
    "application/vnd.databricks.v1+cell": {
     "cellMetadata": {
      "byteLimit": 2048000,
      "rowLimit": 10000
     },
     "inputWidgets": {},
     "nuid": "d4e76590-957b-4242-86f9-1373b9f502ba",
     "showTitle": false,
     "title": ""
    },
    "colab": {
     "base_uri": "https://localhost:8080/"
    },
    "id": "NWVwcsJLj8rP",
    "outputId": "658c9154-4ff5-43c3-cca3-c4f0631ec475"
   },
   "outputs": [
    {
     "output_type": "stream",
     "name": "stdout",
     "output_type": "stream",
     "text": [
      "+----------------------------------+------------------------------------------------------------------------------------------------+--------+\n|Question                          |Answer                                                                                          |filename|\n+----------------------------------+------------------------------------------------------------------------------------------------+--------+\n|[What is the patient's age?]      |The patient is 57 years old.                                                                    |text_01 |\n|[What is the patient's gender?]   |The patient is a white female.                                                                  |text_01 |\n|[What is the patient's diagnosis?]|The patient has invasive ductal carcinoma of the left breast, T1c, Nx, M0 left breast carcinoma.|text_01 |\n+----------------------------------+------------------------------------------------------------------------------------------------+--------+\n\n"
     ]
    }
   ],
   "source": [
    "df = result.selectExpr(\"document_question.result as Question\", \"answer.result as Answer\")\n",
    "\n",
    "#Convert array answers to string\n",
    "df = df.withColumn(\"Answer\", F.concat_ws(\" \", df[\"Answer\"]))\n",
    "\n",
    "#Create a new common column to combine the df's we will obtain in the future in a common column\n",
    "df = df.withColumn(\"filename\", F.lit(\"text_01\"))## açıklama yap\n",
    "\n",
    "df.show(truncate=False)"
   ]
  },
  {
   "cell_type": "code",
   "execution_count": 0,
   "metadata": {
    "application/vnd.databricks.v1+cell": {
     "cellMetadata": {
      "byteLimit": 2048000,
      "rowLimit": 10000
     },
     "inputWidgets": {},
     "nuid": "420c64f0-eb26-4095-ac32-c204099bef3e",
     "showTitle": false,
     "title": ""
    },
    "colab": {
     "base_uri": "https://localhost:8080/"
    },
    "id": "4FJz2pt0enyz",
    "outputId": "bbf2df7e-2517-47dc-e7e1-2ac27cb5f645"
   },
   "outputs": [
    {
     "output_type": "stream",
     "name": "stdout",
     "output_type": "stream",
     "text": [
      "sentence_detector_dl download started this may take some time.\nApproximate size to download 354.6 KB\n\r[ | ]\r[OK!]\nembeddings_clinical download started this may take some time.\nApproximate size to download 1.6 GB\n\r[ | ]\r[OK!]\nner_jsl download started this may take some time.\n\r[ | ]\r[OK!]\nsbiobert_base_cased_mli download started this may take some time.\nApproximate size to download 384.3 MB\n\r[ | ]\r[ / ]\r[OK!]\nsbiobertresolve_icd10cm_augmented_billable_hcc download started this may take some time.\n\r[ | ]\r[OK!]\n"
     ]
    }
   ],
   "source": [
    "documentAssembler = DocumentAssembler()\\\n",
    "      .setInputCol(\"Answer\")\\\n",
    "      .setOutputCol(\"document\")\n",
    "\n",
    "sentenceDetector = SentenceDetectorDLModel.pretrained()\\\n",
    "      .setInputCols([\"document\"])\\\n",
    "      .setOutputCol(\"sentence\")\n",
    "\n",
    "tokenizer = Tokenizer()\\\n",
    "      .setInputCols([\"sentence\"])\\\n",
    "      .setOutputCol(\"token\")\\\n",
    "\n",
    "word_embeddings = WordEmbeddingsModel.pretrained(\"embeddings_clinical\", \"en\", \"clinical/models\")\\\n",
    "      .setInputCols([\"sentence\", \"token\"])\\\n",
    "      .setOutputCol(\"embeddings\")\n",
    "\n",
    "c2doc = Chunk2Doc()\\\n",
    "      .setInputCols(\"ner_chunk\")\\\n",
    "      .setOutputCol(\"ner_chunk_doc\")\n",
    "\n",
    "clinical_ner = MedicalNerModel.pretrained(\"ner_jsl\", \"en\", \"clinical/models\") \\\n",
    "      .setInputCols([\"sentence\", \"token\", \"embeddings\"]) \\\n",
    "      .setOutputCol(\"ner\")\n",
    "\n",
    "ner_converter = NerConverterInternal() \\\n",
    "      .setInputCols([\"sentence\", \"token\", \"ner\"]) \\\n",
    "      .setOutputCol(\"ner_chunk\")\\\n",
    "      .setWhiteList([\"Oncological\", \"Disease_Syndrome_Disorder\", \"Heart_Disease\"])\n",
    "\n",
    "sbert_embedder = BertSentenceEmbeddings\\\n",
    "      .pretrained(\"sbiobert_base_cased_mli\",'en','clinical/models')\\\n",
    "      .setInputCols([\"ner_chunk_doc\"])\\\n",
    "      .setOutputCol(\"sbert_embeddings\")\n",
    "\n",
    "icd10_resolver = SentenceEntityResolverModel.pretrained(\"sbiobertresolve_icd10cm_augmented_billable_hcc\",\"en\", \"clinical/models\")\\\n",
    "    .setInputCols([\"sbert_embeddings\"])\\\n",
    "    .setOutputCol(\"icd10cm_code\")\\\n",
    "    .setDistanceFunction(\"EUCLIDEAN\")\\\n",
    "    .setReturnCosineDistances(True)\n",
    "\n",
    "resolver_pipeline = Pipeline(\n",
    "    stages = [\n",
    "        documentAssembler,\n",
    "        sentenceDetector,\n",
    "        tokenizer,\n",
    "        word_embeddings,\n",
    "        clinical_ner,\n",
    "        ner_converter,\n",
    "        c2doc,\n",
    "        sbert_embedder,\n",
    "        icd10_resolver\n",
    "    ])\n",
    "\n",
    "data_ner = spark.createDataFrame([[\"\"]]).toDF(\"Answer\")\n",
    "\n",
    "icd_model = resolver_pipeline.fit(data_ner)"
   ]
  },
  {
   "cell_type": "code",
   "execution_count": 0,
   "metadata": {
    "application/vnd.databricks.v1+cell": {
     "cellMetadata": {
      "byteLimit": 2048000,
      "rowLimit": 10000
     },
     "inputWidgets": {},
     "nuid": "a1685d91-141c-43c2-9aca-fd66a60c5a4b",
     "showTitle": false,
     "title": ""
    },
    "id": "wEr99PnYmOZX"
   },
   "outputs": [],
   "source": [
    "icd10_sdf = icd_model.transform(df)"
   ]
  },
  {
   "cell_type": "code",
   "execution_count": 0,
   "metadata": {
    "application/vnd.databricks.v1+cell": {
     "cellMetadata": {
      "byteLimit": 2048000,
      "rowLimit": 10000
     },
     "inputWidgets": {},
     "nuid": "4e7dae93-596c-44a0-8c13-5dfec035d151",
     "showTitle": false,
     "title": ""
    },
    "colab": {
     "base_uri": "https://localhost:8080/",
     "height": 112
    },
    "id": "95xf9PJFqRU6",
    "outputId": "c62ec739-7893-450c-abfe-4d5a9993ba3f"
   },
   "outputs": [
    {
     "output_type": "execute_result",
     "data": {
      "text/html": [
       "<div>\n",
       "<style scoped>\n",
       "    .dataframe tbody tr th:only-of-type {\n",
       "        vertical-align: middle;\n",
       "    }\n",
       "\n",
       "    .dataframe tbody tr th {\n",
       "        vertical-align: top;\n",
       "    }\n",
       "\n",
       "    .dataframe thead th {\n",
       "        text-align: right;\n",
       "    }\n",
       "</style>\n",
       "<table border=\"1\" class=\"dataframe\">\n",
       "  <thead>\n",
       "    <tr style=\"text-align: right;\">\n",
       "      <th></th>\n",
       "      <th>filename</th>\n",
       "      <th>chunk</th>\n",
       "      <th>icd10_code</th>\n",
       "      <th>entity</th>\n",
       "    </tr>\n",
       "  </thead>\n",
       "  <tbody>\n",
       "    <tr>\n",
       "      <th>0</th>\n",
       "      <td>text_01</td>\n",
       "      <td>ductal carcinoma of the left breast</td>\n",
       "      <td>C50.91</td>\n",
       "      <td>Oncological</td>\n",
       "    </tr>\n",
       "    <tr>\n",
       "      <th>1</th>\n",
       "      <td>text_01</td>\n",
       "      <td>breast carcinoma</td>\n",
       "      <td>C50.9</td>\n",
       "      <td>Oncological</td>\n",
       "    </tr>\n",
       "  </tbody>\n",
       "</table>\n",
       "</div>"
      ],
      "text/plain": [
       "  filename                                chunk icd10_code       entity\n",
       "0  text_01  ductal carcinoma of the left breast     C50.91  Oncological\n",
       "1  text_01                     breast carcinoma      C50.9  Oncological"
      ]
     },
     "execution_count": 52,
     "metadata": {},
     "output_type": "execute_result"
    }
   ],
   "source": [
    "icd10_df = icd10_sdf.select(\"filename\",F.explode(F.arrays_zip(icd10_sdf.ner_chunk.result,\n",
    "                                                   icd10_sdf.icd10cm_code.result,\n",
    "                                                   icd10_sdf.ner_chunk.metadata,\n",
    "\n",
    "                                                    )).alias(\"cols\")) \\\n",
    "                            .select(\"filename\",F.expr(\"cols['0']\").alias(\"chunk\"),\n",
    "                                    F.expr(\"cols['1']\").alias(\"icd10_code\"),\n",
    "                                    F.expr(\"cols['2']['entity']\").alias(\"entity\"),\n",
    "                                                     ).toPandas()\n",
    "\n",
    "icd10_df.head()"
   ]
  },
  {
   "cell_type": "code",
   "execution_count": 0,
   "metadata": {
    "application/vnd.databricks.v1+cell": {
     "cellMetadata": {
      "byteLimit": 2048000,
      "rowLimit": 10000
     },
     "inputWidgets": {},
     "nuid": "b6545a59-ea9c-49be-887e-713edb1eeb38",
     "showTitle": false,
     "title": ""
    },
    "id": "_eKJi_TJrZLO"
   },
   "outputs": [],
   "source": [
    "icd10_df['Extracted_Entities_vs_ICD_Codes'] = list(zip(icd10_df.chunk, icd10_df.icd10_code))"
   ]
  },
  {
   "cell_type": "code",
   "execution_count": 0,
   "metadata": {
    "application/vnd.databricks.v1+cell": {
     "cellMetadata": {
      "byteLimit": 2048000,
      "rowLimit": 10000
     },
     "inputWidgets": {},
     "nuid": "bf9e5fd5-0f47-4845-98c6-cbcc23f2b790",
     "showTitle": false,
     "title": ""
    },
    "colab": {
     "base_uri": "https://localhost:8080/",
     "height": 81
    },
    "id": "yqaFR7--q0fn",
    "outputId": "635abdf7-f10b-4ae8-e1a1-60f943d0ce78"
   },
   "outputs": [
    {
     "output_type": "execute_result",
     "data": {
      "text/html": [
       "<div>\n",
       "<style scoped>\n",
       "    .dataframe tbody tr th:only-of-type {\n",
       "        vertical-align: middle;\n",
       "    }\n",
       "\n",
       "    .dataframe tbody tr th {\n",
       "        vertical-align: top;\n",
       "    }\n",
       "\n",
       "    .dataframe thead th {\n",
       "        text-align: right;\n",
       "    }\n",
       "</style>\n",
       "<table border=\"1\" class=\"dataframe\">\n",
       "  <thead>\n",
       "    <tr style=\"text-align: right;\">\n",
       "      <th></th>\n",
       "      <th>filename</th>\n",
       "      <th>icd10_code</th>\n",
       "      <th>Extracted_Entities_vs_ICD_Codes</th>\n",
       "    </tr>\n",
       "  </thead>\n",
       "  <tbody>\n",
       "    <tr>\n",
       "      <th>0</th>\n",
       "      <td>text_01</td>\n",
       "      <td>[C50.91, C50.9]</td>\n",
       "      <td>[(ductal carcinoma of the left breast, C50.91), (breast carcinoma, C50.9)]</td>\n",
       "    </tr>\n",
       "  </tbody>\n",
       "</table>\n",
       "</div>"
      ],
      "text/plain": [
       "  filename       icd10_code                                             Extracted_Entities_vs_ICD_Codes\n",
       "0  text_01  [C50.91, C50.9]  [(ductal carcinoma of the left breast, C50.91), (breast carcinoma, C50.9)]"
      ]
     },
     "execution_count": 54,
     "metadata": {},
     "output_type": "execute_result"
    }
   ],
   "source": [
    "icd10_codes= icd10_df.groupby(\"filename\").icd10_code.apply(lambda x: list(x)).reset_index()\n",
    "icd10_vs_entities = icd10_df.groupby(\"filename\").Extracted_Entities_vs_ICD_Codes.apply(lambda x: list(x)).reset_index()\n",
    "\n",
    "icd10_df_all = icd10_codes.merge(icd10_vs_entities)\n",
    "\n",
    "icd10_df_all"
   ]
  },
  {
   "cell_type": "markdown",
   "metadata": {
    "application/vnd.databricks.v1+cell": {
     "cellMetadata": {},
     "inputWidgets": {},
     "nuid": "72dc5f1c-9bc1-4090-8f09-d1c8ecd19174",
     "showTitle": false,
     "title": ""
    },
    "id": "2zYSbqyX8_YD"
   },
   "source": [
    "## Gender Classification\n",
    "\n",
    "In Spark NLP, we have a pretrained model to detect gender of patient. Let's use it by `ClassifierDLModel`"
   ]
  },
  {
   "cell_type": "code",
   "execution_count": 0,
   "metadata": {
    "application/vnd.databricks.v1+cell": {
     "cellMetadata": {
      "byteLimit": 2048000,
      "rowLimit": 10000
     },
     "inputWidgets": {},
     "nuid": "c051cf54-b94e-4de9-b06b-f1759bf37467",
     "showTitle": false,
     "title": ""
    },
    "colab": {
     "base_uri": "https://localhost:8080/"
    },
    "id": "aN8tWltL8_YD",
    "outputId": "cdb5aee0-c724-404d-b0a6-fd3f891e162f"
   },
   "outputs": [
    {
     "output_type": "stream",
     "name": "stdout",
     "output_type": "stream",
     "text": [
      "biobert_pubmed_base_cased download started this may take some time.\nApproximate size to download 386.4 MB\n\r[ | ]\r[OK!]\nclassifierdl_gender_biobert download started this may take some time.\nApproximate size to download 21 MB\n\r[ | ]\r[OK!]\n"
     ]
    }
   ],
   "source": [
    "documentAssembler = DocumentAssembler()\\\n",
    "      .setInputCol(\"Answer\")\\\n",
    "      .setOutputCol(\"document\")\n",
    "\n",
    "tokenizer = Tokenizer()\\\n",
    "      .setInputCols([\"document\"])\\\n",
    "      .setOutputCol(\"token\")\\\n",
    "\n",
    "biobert_embeddings = BertEmbeddings().pretrained('biobert_pubmed_base_cased') \\\n",
    "        .setInputCols([\"document\",'token'])\\\n",
    "        .setOutputCol(\"bert_embeddings\")\n",
    "\n",
    "sentence_embeddings = SentenceEmbeddings() \\\n",
    "     .setInputCols([\"document\", \"bert_embeddings\"]) \\\n",
    "     .setOutputCol(\"sentence_bert_embeddings\") \\\n",
    "     .setPoolingStrategy(\"AVERAGE\")\n",
    "\n",
    "genderClassifier = ClassifierDLModel.pretrained('classifierdl_gender_biobert', 'en', 'clinical/models') \\\n",
    "       .setInputCols([\"sentence_bert_embeddings\"]) \\\n",
    "       .setOutputCol(\"gender\")\n",
    "\n",
    "gender_pipeline = Pipeline(stages=[documentAssembler,\n",
    "                                   #sentenceDetector,\n",
    "                                   tokenizer,\n",
    "                                   biobert_embeddings,\n",
    "                                   sentence_embeddings,\n",
    "                                   genderClassifier])\n",
    "\n",
    "data_ner = spark.createDataFrame([[\"\"]]).toDF(\"Answer\")\n",
    "\n",
    "gender_model = gender_pipeline.fit(data_ner)"
   ]
  },
  {
   "cell_type": "code",
   "execution_count": 0,
   "metadata": {
    "application/vnd.databricks.v1+cell": {
     "cellMetadata": {
      "byteLimit": 2048000,
      "rowLimit": 10000
     },
     "inputWidgets": {},
     "nuid": "57965d45-2c64-47bc-89b2-9ce441739e98",
     "showTitle": false,
     "title": ""
    },
    "colab": {
     "base_uri": "https://localhost:8080/"
    },
    "id": "tHDh-M2vixzl",
    "outputId": "4100023c-d29f-445e-be4c-265e3f50f8e3"
   },
   "outputs": [
    {
     "output_type": "stream",
     "name": "stdout",
     "output_type": "stream",
     "text": [
      "+--------+------------------------------------------------------------------------------------------------------------------------------------------------------------+\n|filename|Answer                                                                                                                                                      |\n+--------+------------------------------------------------------------------------------------------------------------------------------------------------------------+\n|text_01 |The patient is 57 years old. The patient has invasive ductal carcinoma of the left breast, T1c, Nx, M0 left breast carcinoma. The patient is a white female.|\n+--------+------------------------------------------------------------------------------------------------------------------------------------------------------------+\n\n"
     ]
    }
   ],
   "source": [
    "# answers converted to a single text\n",
    "concatenated_text_df = df.groupBy(\"filename\").agg(F.concat_ws(\" \", F.collect_list(\"Answer\")).alias(\"Answer\"))\n",
    "\n",
    "concatenated_text_df.show(truncate=False)"
   ]
  },
  {
   "cell_type": "code",
   "execution_count": 0,
   "metadata": {
    "application/vnd.databricks.v1+cell": {
     "cellMetadata": {
      "byteLimit": 2048000,
      "rowLimit": 10000
     },
     "inputWidgets": {},
     "nuid": "8f69e4cc-efd8-40f3-b772-3ae8b2222368",
     "showTitle": false,
     "title": ""
    },
    "id": "RJQx5Z7R8_YF"
   },
   "outputs": [],
   "source": [
    "gender_df = gender_model.transform(concatenated_text_df)\n",
    "\n",
    "gender_pd_df = gender_df.select(\"filename\", F.explode(F.arrays_zip(gender_df.gender.result,\n",
    "                                                                   gender_df.gender.metadata)).alias(\"cols\")) \\\n",
    "                       .select(\"filename\",F.expr(\"cols['0']\").alias(\"Gender\"),\n",
    "                               F.expr(\"cols['1']['Female']\").alias(\"Female\"),\n",
    "                               F.expr(\"cols['1']['Male']\").alias(\"Male\")).toPandas()\n",
    "\n",
    "gender_pd_df['Gender'] = gender_pd_df.apply(lambda x : \"F\" if float(x['Female']) >= float(x['Male']) else \"M\", axis=1)\n",
    "\n",
    "gender_pd_df = gender_pd_df[['filename', 'Gender']]"
   ]
  },
  {
   "cell_type": "markdown",
   "metadata": {
    "application/vnd.databricks.v1+cell": {
     "cellMetadata": {},
     "inputWidgets": {},
     "nuid": "54004102-a6de-4599-8835-9bc670466037",
     "showTitle": false,
     "title": ""
    },
    "id": "fkIDcqVO8_YF"
   },
   "source": [
    "All patients' gender is ready in a dataframe."
   ]
  },
  {
   "cell_type": "code",
   "execution_count": 0,
   "metadata": {
    "application/vnd.databricks.v1+cell": {
     "cellMetadata": {
      "byteLimit": 2048000,
      "rowLimit": 10000
     },
     "inputWidgets": {},
     "nuid": "e0471bb5-0da0-4528-8a2a-c537e71e4b20",
     "showTitle": false,
     "title": ""
    },
    "colab": {
     "base_uri": "https://localhost:8080/",
     "height": 81
    },
    "id": "m_uuiAJl8_YG",
    "outputId": "0760856a-ba0a-4de4-fdf1-fe226269a68d"
   },
   "outputs": [
    {
     "output_type": "execute_result",
     "data": {
      "text/html": [
       "<div>\n",
       "<style scoped>\n",
       "    .dataframe tbody tr th:only-of-type {\n",
       "        vertical-align: middle;\n",
       "    }\n",
       "\n",
       "    .dataframe tbody tr th {\n",
       "        vertical-align: top;\n",
       "    }\n",
       "\n",
       "    .dataframe thead th {\n",
       "        text-align: right;\n",
       "    }\n",
       "</style>\n",
       "<table border=\"1\" class=\"dataframe\">\n",
       "  <thead>\n",
       "    <tr style=\"text-align: right;\">\n",
       "      <th></th>\n",
       "      <th>filename</th>\n",
       "      <th>Gender</th>\n",
       "    </tr>\n",
       "  </thead>\n",
       "  <tbody>\n",
       "    <tr>\n",
       "      <th>0</th>\n",
       "      <td>text_01</td>\n",
       "      <td>F</td>\n",
       "    </tr>\n",
       "  </tbody>\n",
       "</table>\n",
       "</div>"
      ],
      "text/plain": [
       "  filename Gender\n",
       "0  text_01      F"
      ]
     },
     "execution_count": 58,
     "metadata": {},
     "output_type": "execute_result"
    }
   ],
   "source": [
    "gender_pd_df"
   ]
  },
  {
   "cell_type": "markdown",
   "metadata": {
    "application/vnd.databricks.v1+cell": {
     "cellMetadata": {},
     "inputWidgets": {},
     "nuid": "56858d30-d745-4f9a-96ec-10adf12993c7",
     "showTitle": false,
     "title": ""
    },
    "id": "9bbXVHut8_YG"
   },
   "source": [
    "## Age\n",
    "We can get patient's age forom the notes by another pipeline. We are creating an age pipeline to get AGE labelled entities. In a note, more than one age entity can be extracted. We will get the first age entity as patient's age."
   ]
  },
  {
   "cell_type": "code",
   "execution_count": 0,
   "metadata": {
    "application/vnd.databricks.v1+cell": {
     "cellMetadata": {
      "byteLimit": 2048000,
      "rowLimit": 10000
     },
     "inputWidgets": {},
     "nuid": "b160dfda-49a4-4812-8ba8-5fa579733864",
     "showTitle": false,
     "title": ""
    },
    "colab": {
     "base_uri": "https://localhost:8080/"
    },
    "id": "ixOAnn3J8_YG",
    "outputId": "ee7baad5-ad3a-4d70-e3b1-0b6782f89dd4"
   },
   "outputs": [
    {
     "output_type": "stream",
     "name": "stdout",
     "output_type": "stream",
     "text": [
      "sentence_detector_dl download started this may take some time.\nApproximate size to download 354.6 KB\n\r[ | ]\r[OK!]\nembeddings_clinical download started this may take some time.\nApproximate size to download 1.6 GB\n\r[ | ]\r[OK!]\nner_jsl_enriched download started this may take some time.\n\r[ | ]\r[OK!]\n"
     ]
    }
   ],
   "source": [
    "documentAssembler = DocumentAssembler()\\\n",
    "      .setInputCol(\"Answer\")\\\n",
    "      .setOutputCol(\"document\")\n",
    "\n",
    "sentenceDetector = SentenceDetectorDLModel.pretrained()\\\n",
    "      .setInputCols([\"document\"])\\\n",
    "      .setOutputCol(\"sentence\")\n",
    "\n",
    "tokenizer = Tokenizer()\\\n",
    "      .setInputCols([\"sentence\"])\\\n",
    "      .setOutputCol(\"token\")\\\n",
    "\n",
    "word_embeddings = WordEmbeddingsModel.pretrained(\"embeddings_clinical\", \"en\", \"clinical/models\")\\\n",
    "      .setInputCols([\"sentence\", \"token\"])\\\n",
    "      .setOutputCol(\"embeddings\")\n",
    "\n",
    "clinical_ner = MedicalNerModel.pretrained(\"ner_jsl_enriched\", \"en\", \"clinical/models\") \\\n",
    "      .setInputCols([\"sentence\", \"token\", \"embeddings\"]) \\\n",
    "      .setOutputCol(\"ner\")\n",
    "\n",
    "date_ner_converter = NerConverterInternal() \\\n",
    "      .setInputCols([\"sentence\", \"token\", \"ner\"]) \\\n",
    "      .setOutputCol(\"ner_chunk\")\\\n",
    "      .setWhiteList([\"Age\"])\n",
    "\n",
    "age_pipeline = Pipeline(\n",
    "    stages = [\n",
    "        documentAssembler,\n",
    "        sentenceDetector,\n",
    "        tokenizer,\n",
    "        word_embeddings,\n",
    "        clinical_ner,\n",
    "        date_ner_converter\n",
    "    ])\n",
    "\n",
    "data_ner = spark.createDataFrame([[\"\"]]).toDF(\"Answer\")\n",
    "\n",
    "age_model = age_pipeline.fit(data_ner)"
   ]
  },
  {
   "cell_type": "code",
   "execution_count": 0,
   "metadata": {
    "application/vnd.databricks.v1+cell": {
     "cellMetadata": {
      "byteLimit": 2048000,
      "rowLimit": 10000
     },
     "inputWidgets": {},
     "nuid": "4b78bcc2-6b6e-4234-87f8-80b4bf3823a9",
     "showTitle": false,
     "title": ""
    },
    "id": "NmBtdpGZ8_YI"
   },
   "outputs": [],
   "source": [
    "age_result = age_model.transform(concatenated_text_df)\n",
    "\n",
    "age_df = age_result.select(\"filename\",F.explode(F.arrays_zip(age_result.ner_chunk.result,\n",
    "                                                             age_result.ner_chunk.metadata)).alias(\"cols\")) \\\n",
    "                   .select(\"filename\",F.expr(\"cols['0']\").alias(\"Age\"),\n",
    "                           F.expr(\"cols['1']['entity']\").alias(\"ner_label\")).toPandas()"
   ]
  },
  {
   "cell_type": "code",
   "execution_count": 0,
   "metadata": {
    "application/vnd.databricks.v1+cell": {
     "cellMetadata": {
      "byteLimit": 2048000,
      "rowLimit": 10000
     },
     "inputWidgets": {},
     "nuid": "1e363590-ad94-421a-866a-086f30c9e6b5",
     "showTitle": false,
     "title": ""
    },
    "colab": {
     "base_uri": "https://localhost:8080/",
     "height": 81
    },
    "id": "oYmVaF-PnqU-",
    "outputId": "1183e593-1137-47b2-be16-de1db233ac1c"
   },
   "outputs": [
    {
     "output_type": "execute_result",
     "data": {
      "text/html": [
       "<div>\n",
       "<style scoped>\n",
       "    .dataframe tbody tr th:only-of-type {\n",
       "        vertical-align: middle;\n",
       "    }\n",
       "\n",
       "    .dataframe tbody tr th {\n",
       "        vertical-align: top;\n",
       "    }\n",
       "\n",
       "    .dataframe thead th {\n",
       "        text-align: right;\n",
       "    }\n",
       "</style>\n",
       "<table border=\"1\" class=\"dataframe\">\n",
       "  <thead>\n",
       "    <tr style=\"text-align: right;\">\n",
       "      <th></th>\n",
       "      <th>filename</th>\n",
       "      <th>Age</th>\n",
       "      <th>ner_label</th>\n",
       "    </tr>\n",
       "  </thead>\n",
       "  <tbody>\n",
       "    <tr>\n",
       "      <th>0</th>\n",
       "      <td>text_01</td>\n",
       "      <td>57 years old</td>\n",
       "      <td>Age</td>\n",
       "    </tr>\n",
       "  </tbody>\n",
       "</table>\n",
       "</div>"
      ],
      "text/plain": [
       "  filename           Age ner_label\n",
       "0  text_01  57 years old       Age"
      ]
     },
     "execution_count": 61,
     "metadata": {},
     "output_type": "execute_result"
    }
   ],
   "source": [
    "age_df"
   ]
  },
  {
   "cell_type": "code",
   "execution_count": 0,
   "metadata": {
    "application/vnd.databricks.v1+cell": {
     "cellMetadata": {
      "byteLimit": 2048000,
      "rowLimit": 10000
     },
     "inputWidgets": {},
     "nuid": "5f6a2c8c-e4ef-4090-83b1-8e1ae6508558",
     "showTitle": false,
     "title": ""
    },
    "colab": {
     "base_uri": "https://localhost:8080/",
     "height": 81
    },
    "id": "CA0K34Eu8_YI",
    "outputId": "a2a3cf3b-0f91-44cb-89bf-5d4195c8d685"
   },
   "outputs": [
    {
     "output_type": "execute_result",
     "data": {
      "text/html": [
       "<div>\n",
       "<style scoped>\n",
       "    .dataframe tbody tr th:only-of-type {\n",
       "        vertical-align: middle;\n",
       "    }\n",
       "\n",
       "    .dataframe tbody tr th {\n",
       "        vertical-align: top;\n",
       "    }\n",
       "\n",
       "    .dataframe thead th {\n",
       "        text-align: right;\n",
       "    }\n",
       "</style>\n",
       "<table border=\"1\" class=\"dataframe\">\n",
       "  <thead>\n",
       "    <tr style=\"text-align: right;\">\n",
       "      <th></th>\n",
       "      <th>filename</th>\n",
       "      <th>Age</th>\n",
       "    </tr>\n",
       "  </thead>\n",
       "  <tbody>\n",
       "    <tr>\n",
       "      <th>0</th>\n",
       "      <td>text_01</td>\n",
       "      <td>57</td>\n",
       "    </tr>\n",
       "  </tbody>\n",
       "</table>\n",
       "</div>"
      ],
      "text/plain": [
       "  filename  Age\n",
       "0  text_01   57"
      ]
     },
     "execution_count": 62,
     "metadata": {},
     "output_type": "execute_result"
    }
   ],
   "source": [
    "age_df.Age = age_df.Age.replace(r\"\\D\", \"\", regex = True).astype(int)\n",
    "age_df.drop('ner_label', axis=1, inplace=True)\n",
    "age_df.head()"
   ]
  },
  {
   "cell_type": "markdown",
   "metadata": {
    "application/vnd.databricks.v1+cell": {
     "cellMetadata": {},
     "inputWidgets": {},
     "nuid": "48093d09-b9c4-45d7-a705-da7adff592f1",
     "showTitle": false,
     "title": ""
    },
    "id": "UT5hsCELc3Uw"
   },
   "source": [
    "## Calculating Medicare Risk Adjusment Score\n",
    "Now, we have all data which can be extracted from clinical notes. Now we can calculate Medicare Risk Adjusment Score by Spark NLP Healthcare CMS-HCC risk-adjustment score calculation module.\n",
    "\n",
    "This module supports V22, V23, V24, V28 and ESRDV21 of the CMS-HCC risk adjustment model.\n",
    "\n",
    "It also supports V05 and V08 of CMS-RxHCC risk adjustment model.\n",
    "\n",
    "It needs the following parameters in order to calculate the risk score:\n",
    "\n",
    "- ICD Codes\n",
    "- Age\n",
    "- Gender\n",
    "- The eligibility segment of the patient\n",
    "- The original reason for entitlement\n",
    "- If the patient is in Medicaid or not\n"
   ]
  },
  {
   "cell_type": "code",
   "execution_count": 0,
   "metadata": {
    "application/vnd.databricks.v1+cell": {
     "cellMetadata": {
      "byteLimit": 2048000,
      "rowLimit": 10000
     },
     "inputWidgets": {},
     "nuid": "f307de1a-7b7a-4f72-b44d-01487bd2d660",
     "showTitle": false,
     "title": ""
    },
    "id": "STORth29n4un"
   },
   "outputs": [],
   "source": [
    "patient_df = age_df.merge(icd10_df_all, on='filename', how = \"left\")\\\n",
    "                   .merge(gender_pd_df, on='filename', how = \"left\")\n",
    "\n",
    "patient_df = patient_df.dropna()"
   ]
  },
  {
   "cell_type": "code",
   "execution_count": 0,
   "metadata": {
    "application/vnd.databricks.v1+cell": {
     "cellMetadata": {
      "byteLimit": 2048000,
      "rowLimit": 10000
     },
     "inputWidgets": {},
     "nuid": "a41b98a8-dc6d-47ba-a0a3-76ece57405b4",
     "showTitle": false,
     "title": ""
    },
    "colab": {
     "base_uri": "https://localhost:8080/",
     "height": 81
    },
    "id": "l9xE7LYkcuD_",
    "outputId": "582e2bf9-e29d-4e8e-e31c-1b2930fbd4d1"
   },
   "outputs": [
    {
     "output_type": "execute_result",
     "data": {
      "text/html": [
       "<div>\n",
       "<style scoped>\n",
       "    .dataframe tbody tr th:only-of-type {\n",
       "        vertical-align: middle;\n",
       "    }\n",
       "\n",
       "    .dataframe tbody tr th {\n",
       "        vertical-align: top;\n",
       "    }\n",
       "\n",
       "    .dataframe thead th {\n",
       "        text-align: right;\n",
       "    }\n",
       "</style>\n",
       "<table border=\"1\" class=\"dataframe\">\n",
       "  <thead>\n",
       "    <tr style=\"text-align: right;\">\n",
       "      <th></th>\n",
       "      <th>filename</th>\n",
       "      <th>Age</th>\n",
       "      <th>icd10_code</th>\n",
       "      <th>Extracted_Entities_vs_ICD_Codes</th>\n",
       "      <th>Gender</th>\n",
       "    </tr>\n",
       "  </thead>\n",
       "  <tbody>\n",
       "    <tr>\n",
       "      <th>0</th>\n",
       "      <td>text_01</td>\n",
       "      <td>57</td>\n",
       "      <td>[C50.91, C50.9]</td>\n",
       "      <td>[(ductal carcinoma of the left breast, C50.91), (breast carcinoma, C50.9)]</td>\n",
       "      <td>F</td>\n",
       "    </tr>\n",
       "  </tbody>\n",
       "</table>\n",
       "</div>"
      ],
      "text/plain": [
       "  filename  Age       icd10_code                                             Extracted_Entities_vs_ICD_Codes Gender\n",
       "0  text_01   57  [C50.91, C50.9]  [(ductal carcinoma of the left breast, C50.91), (breast carcinoma, C50.9)]      F"
      ]
     },
     "execution_count": 64,
     "metadata": {},
     "output_type": "execute_result"
    }
   ],
   "source": [
    "patient_df"
   ]
  },
  {
   "cell_type": "code",
   "execution_count": 0,
   "metadata": {
    "application/vnd.databricks.v1+cell": {
     "cellMetadata": {
      "byteLimit": 2048000,
      "rowLimit": 10000
     },
     "inputWidgets": {},
     "nuid": "1155cc3c-26ef-459b-bac1-405775157e04",
     "showTitle": false,
     "title": ""
    },
    "colab": {
     "base_uri": "https://localhost:8080/"
    },
    "id": "wJXrZOOYc3Ux",
    "outputId": "b28a876b-7dbf-4199-ebe4-d5616fb2964c"
   },
   "outputs": [
    {
     "output_type": "stream",
     "name": "stdout",
     "output_type": "stream",
     "text": [
      "<class 'pandas.core.frame.DataFrame'>\nInt64Index: 1 entries, 0 to 0\nData columns (total 5 columns):\n #   Column                           Non-Null Count  Dtype \n---  ------                           --------------  ----- \n 0   filename                         1 non-null      object\n 1   Age                              1 non-null      int64 \n 2   icd10_code                       1 non-null      object\n 3   Extracted_Entities_vs_ICD_Codes  1 non-null      object\n 4   Gender                           1 non-null      object\ndtypes: int64(1), object(4)\nmemory usage: 48.0+ bytes\n"
     ]
    }
   ],
   "source": [
    "patient_df.info()"
   ]
  },
  {
   "cell_type": "code",
   "execution_count": 0,
   "metadata": {
    "application/vnd.databricks.v1+cell": {
     "cellMetadata": {
      "byteLimit": 2048000,
      "rowLimit": 10000
     },
     "inputWidgets": {},
     "nuid": "73f41e53-9f87-4c17-a024-f0bce47c9d70",
     "showTitle": false,
     "title": ""
    },
    "colab": {
     "base_uri": "https://localhost:8080/"
    },
    "id": "Ts9J4HX-c3Ux",
    "outputId": "083afa1b-1a81-43c8-8ed6-48453d70ceb3"
   },
   "outputs": [
    {
     "output_type": "stream",
     "name": "stdout",
     "output_type": "stream",
     "text": [
      "+--------+---+---------------+--------------------------------------------------------------------------+------+\n|filename|Age|icd10_code     |Extracted_Entities_vs_ICD_Codes                                           |Gender|\n+--------+---+---------------+--------------------------------------------------------------------------+------+\n|text_01 |57 |[C50.91, C50.9]|[[ductal carcinoma of the left breast, C50.91], [breast carcinoma, C50.9]]|F     |\n+--------+---+---------------+--------------------------------------------------------------------------+------+\n\n"
     ]
    }
   ],
   "source": [
    "df = spark.createDataFrame(patient_df)\n",
    "df.show(truncate=False)"
   ]
  },
  {
   "cell_type": "code",
   "execution_count": 0,
   "metadata": {
    "application/vnd.databricks.v1+cell": {
     "cellMetadata": {
      "byteLimit": 2048000,
      "rowLimit": 10000
     },
     "inputWidgets": {},
     "nuid": "5aff8f81-cf4f-44e9-88a0-a722b6f2753e",
     "showTitle": false,
     "title": ""
    },
    "id": "tt7OdyAzc3Ux"
   },
   "outputs": [],
   "source": [
    "from pyspark.sql.types import MapType, IntegerType, DoubleType, StringType, StructType, StructField, FloatType\n",
    "import pyspark.sql.functions as f\n",
    "\n",
    "schema = StructType([\n",
    "            StructField('risk_score', FloatType()),\n",
    "            StructField('hcc_lst', StringType()),\n",
    "            StructField('parameters', StringType()),\n",
    "            StructField('details', StringType())])"
   ]
  },
  {
   "cell_type": "code",
   "execution_count": 0,
   "metadata": {
    "application/vnd.databricks.v1+cell": {
     "cellMetadata": {
      "byteLimit": 2048000,
      "rowLimit": 10000
     },
     "inputWidgets": {},
     "nuid": "ff87ed1d-38c1-48fd-869a-2fd45d479dfd",
     "showTitle": false,
     "title": ""
    },
    "colab": {
     "base_uri": "https://localhost:8080/"
    },
    "id": "pULJCduTc3Ux",
    "outputId": "03d923ce-1b89-4c11-89fa-ec9348a1ee93"
   },
   "outputs": [
    {
     "output_type": "stream",
     "name": "stdout",
     "output_type": "stream",
     "text": [
      "+--------+-----------+----+--------+\n|filename|eligibility|orec|medicaid|\n+--------+-----------+----+--------+\n|text_01 |INS        |0   |false   |\n+--------+-----------+----+--------+\n\n"
     ]
    }
   ],
   "source": [
    "extra_columns = pd.DataFrame({\"filename\" : [\"text_01\"],\n",
    "                              \"eligibility\" : [\"INS\" ],\n",
    "                      \"orec\" : [\"0\"],\n",
    "                      \"medicaid\":[False],\n",
    "                          })\n",
    "\n",
    "df_extra = spark.createDataFrame(extra_columns)\n",
    "df_extra.show(truncate=False)"
   ]
  },
  {
   "cell_type": "code",
   "execution_count": 0,
   "metadata": {
    "application/vnd.databricks.v1+cell": {
     "cellMetadata": {
      "byteLimit": 2048000,
      "rowLimit": 10000
     },
     "inputWidgets": {},
     "nuid": "f4c78214-9dd1-4a88-9e1e-0b598552bd29",
     "showTitle": false,
     "title": ""
    },
    "id": "IgHsRAqfc3Ux"
   },
   "outputs": [],
   "source": [
    "df = df.join(df_extra, on= \"filename\")"
   ]
  },
  {
   "cell_type": "code",
   "execution_count": 0,
   "metadata": {
    "application/vnd.databricks.v1+cell": {
     "cellMetadata": {
      "byteLimit": 2048000,
      "rowLimit": 10000
     },
     "inputWidgets": {},
     "nuid": "2469be78-4e50-4629-8bcd-d3773d1320ae",
     "showTitle": false,
     "title": ""
    },
    "colab": {
     "base_uri": "https://localhost:8080/"
    },
    "id": "NrY55l8yc3Ux",
    "outputId": "9db107ec-d6cb-4c24-96cb-ecc98180ac00"
   },
   "outputs": [
    {
     "output_type": "stream",
     "name": "stdout",
     "output_type": "stream",
     "text": [
      "+--------+---+---------------+-------------------------------+------+-----------+----+--------+\n|filename|Age|     icd10_code|Extracted_Entities_vs_ICD_Codes|Gender|eligibility|orec|medicaid|\n+--------+---+---------------+-------------------------------+------+-----------+----+--------+\n| text_01| 57|[C50.91, C50.9]|           [[ductal carcinom...|     F|        INS|   0|   false|\n+--------+---+---------------+-------------------------------+------+-----------+----+--------+\n\n"
     ]
    }
   ],
   "source": [
    "df.show()"
   ]
  },
  {
   "cell_type": "markdown",
   "metadata": {
    "application/vnd.databricks.v1+cell": {
     "cellMetadata": {},
     "inputWidgets": {},
     "nuid": "93d38557-f2d1-43d9-a54f-7814b9d80abc",
     "showTitle": false,
     "title": ""
    },
    "id": "lEneDHTyvOUy"
   },
   "source": [
    "## Importing the model version\n",
    "\n",
    "You can import one of the following function calculate the score.\n",
    "\n",
    "```\n",
    "- profileV22Y17   - profileV23Y18  - profileV24Y17  - profileV28    - profileESRDV21Y19 - profileRxHCCV05Y20 - profileRxHCCV08Y22                                                           \n",
    "- profileV22Y18   - profileV23Y19  - profileV24Y18  - profileV28Y24                     - profileRxHCCV05Y21 - profileRxHCCV08Y23\n",
    "- profileV22Y19                    - profileV24Y19                                      - profileRxHCCV05Y22\n",
    "- profileV22Y20                    - profileV24Y20                                      - profileRxHCCV05Y23\n",
    "- profileV22Y21                    - profileV24Y21\n",
    "- profileV22Y22                    - profileV24Y22\n",
    "                                   - profileV24\n",
    "```"
   ]
  },
  {
   "cell_type": "code",
   "execution_count": 0,
   "metadata": {
    "application/vnd.databricks.v1+cell": {
     "cellMetadata": {
      "byteLimit": 2048000,
      "rowLimit": 10000
     },
     "inputWidgets": {},
     "nuid": "e138118d-25d9-41c8-9078-f516137d248e",
     "showTitle": false,
     "title": ""
    },
    "id": "0q3JH4lJezns"
   },
   "outputs": [],
   "source": [
    "from sparknlp_jsl.functions import profileV22Y17"
   ]
  },
  {
   "cell_type": "code",
   "execution_count": 0,
   "metadata": {
    "application/vnd.databricks.v1+cell": {
     "cellMetadata": {
      "byteLimit": 2048000,
      "rowLimit": 10000
     },
     "inputWidgets": {},
     "nuid": "43be70a4-4182-4a62-8243-31a662baea7f",
     "showTitle": false,
     "title": ""
    },
    "colab": {
     "base_uri": "https://localhost:8080/"
    },
    "id": "8DiC10-mezns",
    "outputId": "9f74cc84-18e5-44b5-d62f-bbf20bbbff3d"
   },
   "outputs": [
    {
     "output_type": "stream",
     "name": "stdout",
     "output_type": "stream",
     "text": [
      "+----------+---------------+---+------+\n|risk_score|icd10_code     |Age|Gender|\n+----------+---------------+---+------+\n|0.986     |[C50.91, C50.9]|57 |F     |\n+----------+---------------+---+------+\n\n-RECORD 0-------------------------------------------------------------------------------------------------------------------------------\n filename                        | text_01                                                                                              \n Age                             | 57                                                                                                   \n icd10_code                      | [C50.91, C50.9]                                                                                      \n Extracted_Entities_vs_ICD_Codes | [[ductal carcinoma of the left breast, C50.91], [breast carcinoma, C50.9]]                           \n Gender                          | F                                                                                                    \n eligibility                     | INS                                                                                                  \n orec                            | 0                                                                                                    \n medicaid                        | false                                                                                                \n hcc_profile                     | {0.986, [], {\"elig\":\"INS\",\"age\":57,\"sex\":\"F\",\"origds\":false,\"disabled\":false,\"medicaid\":false}, {... \n risk_score                      | 0.986                                                                                                \n hcc_lst                         | []                                                                                                   \n parameters                      | {\"elig\":\"INS\",\"age\":57,\"sex\":\"F\",\"origds\":false,\"disabled\":false,\"medicaid\":false}                   \n details                         | {\"INS_F55_59\":0.986}                                                                                 \n\n"
     ]
    }
   ],
   "source": [
    "df = df.withColumn(\"hcc_profile\", profileV22Y17(df.icd10_code, df.Age, df.Gender, df.eligibility, df.orec, df.medicaid))\n",
    "\n",
    "df = df.withColumn(\"hcc_profile\", F.from_json(F.col(\"hcc_profile\"), schema))\n",
    "df= df.withColumn(\"risk_score\", df.hcc_profile.getItem(\"risk_score\"))\\\n",
    "      .withColumn(\"hcc_lst\", df.hcc_profile.getItem(\"hcc_lst\"))\\\n",
    "      .withColumn(\"parameters\", df.hcc_profile.getItem(\"parameters\"))\\\n",
    "      .withColumn(\"details\", df.hcc_profile.getItem(\"details\"))\\\n",
    "\n",
    "df.select('risk_score','icd10_code', 'Age', 'Gender').show(truncate=False )\n",
    "\n",
    "df.show(truncate=100, vertical=True)"
   ]
  },
  {
   "cell_type": "code",
   "execution_count": 0,
   "metadata": {
    "application/vnd.databricks.v1+cell": {
     "cellMetadata": {},
     "inputWidgets": {},
     "nuid": "84ce002a-9bbb-4714-9a96-0d195f98abca",
     "showTitle": false,
     "title": ""
    }
   },
   "outputs": [],
   "source": []
  }
 ],
 "metadata": {
  "accelerator": "TPU",
  "application/vnd.databricks.v1+notebook": {
   "dashboards": [],
   "language": "python",
   "notebookMetadata": {
    "mostRecentlyExecutedCommandWithImplicitDF": {
     "commandId": 3329034214926005,
     "dataframes": [
      "_sqldf"
     ]
    },
    "pythonIndentUnit": 2
   },
   "notebookName": "3.1.Calculate_Medicare_Risk_Adjustment_Score",
   "widgets": {}
  },
  "colab": {
   "machine_shape": "hm",
   "provenance": []
  },
  "kernelspec": {
   "display_name": "Python 3",
   "name": "python3"
  },
  "language_info": {
   "name": "python"
  }
 },
 "nbformat": 4,
 "nbformat_minor": 0
}

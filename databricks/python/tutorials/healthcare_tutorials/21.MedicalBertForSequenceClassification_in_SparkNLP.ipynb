{
 "cells": [
  {
   "cell_type": "markdown",
   "metadata": {
    "application/vnd.databricks.v1+cell": {
     "cellMetadata": {
      "byteLimit": 2048000,
      "rowLimit": 10000
     },
     "inputWidgets": {},
     "nuid": "97d563fe-b831-4ed9-8b6d-6f9957ee07e1",
     "showTitle": false,
     "title": ""
    },
    "id": "YvRh1Ab-oAdP"
   },
   "source": [
    "![JohnSnowLabs](https://nlp.johnsnowlabs.com/assets/images/logo.png)"
   ]
  },
  {
   "cell_type": "markdown",
   "metadata": {
    "application/vnd.databricks.v1+cell": {
     "cellMetadata": {
      "byteLimit": 2048000,
      "rowLimit": 10000
     },
     "inputWidgets": {},
     "nuid": "e264df0f-18ed-47c9-ad51-871d452a3d22",
     "showTitle": false,
     "title": ""
    },
    "id": "ivXOsOEms8e-"
   },
   "source": [
    "# MedicalBertForSequenceClassification Models"
   ]
  },
  {
   "cell_type": "markdown",
   "metadata": {
    "application/vnd.databricks.v1+cell": {
     "cellMetadata": {
      "byteLimit": 2048000,
      "rowLimit": 10000
     },
     "inputWidgets": {},
     "nuid": "7ebae3ed-f307-4382-8b82-d832edb5197b",
     "showTitle": false,
     "title": ""
    },
    "id": "_MTxULVLu_wH"
   },
   "source": [
    "🔎 `MedicalBertForTokenClassification` annotator can load BERT Models with sequence classification/regression head on top (a linear layer on top of the pooled output) e.g. for multi-class document classification tasks.\n",
    "\n",
    "Transformer models are compatible with Spark NLP library. So if you want to train and import a transformer based `BertForSequenceClassification` model to Spark NLP, you can do it by using [Import Transformers Into Spark NLP](https://github.com/JohnSnowLabs/spark-nlp-workshop/blob/master/tutorials/Certification_Trainings/Public/15.Import_Transformers_Into_Spark_NLP.ipynb) notebook. **BUT**, don't forget to use `BertForSequenceClassification` open source annotator while importing."
   ]
  },
  {
   "cell_type": "markdown",
   "metadata": {
    "application/vnd.databricks.v1+cell": {
     "cellMetadata": {
      "byteLimit": 2048000,
      "rowLimit": 10000
     },
     "inputWidgets": {},
     "nuid": "d8811def-e76b-4dc4-9ddc-87a5d2c8038d",
     "showTitle": false,
     "title": ""
    },
    "id": "JO_pm50Cwg88"
   },
   "source": [
    "📌 Pretrained models can be loaded with pretrained() of the companion object.\n",
    "\n",
    "📌 The default model is `bert_sequence_classifier_ade`, if no name is provided."
   ]
  },
  {
   "cell_type": "markdown",
   "metadata": {
    "application/vnd.databricks.v1+cell": {
     "cellMetadata": {
      "byteLimit": 2048000,
      "rowLimit": 10000
     },
     "inputWidgets": {},
     "nuid": "85933f4d-2b4b-4abc-bfee-a586b97f6179",
     "showTitle": false,
     "title": ""
    },
    "id": "169e15mO4uA7"
   },
   "source": [
    "<center><b> MODEL LIST </b>\n",
    "\n",
    "| model name                                                                                                                                                                    | model name | model name |\n",
    "|-------------------------------------------------------------------------------------------------------------------------------------------------------------------------------| -------------------------------------------------------------------------------------------------------------------------------------------------------------------------------|-------------------------------------------------------------------------------------------------------------------------------------------------------------------------------|\n",
    "|<b>🔎PUBLIC HEALTH</b> |<b>🔎CLINICAL TRIALS</b>|<b>🔎MBFSC Models in Other Languages</b>|\n",
    "|<b>MBFSC Models related to Mentions and Statements👇🏻</b>|<b> MBFSC Models related to RCT(Randomize Clinical Trials👇🏻</b>|<b>German:👇🏻</b> |\n",
    "|[bert_sequence_classifier_health_mentions](https://nlp.johnsnowlabs.com/2022/07/25/bert_sequence_classifier_health_mentions_en_3_0.html)|[bert_sequence_classifier_rct_biobert](https://nlp.johnsnowlabs.com/2022/03/01/bert_sequence_classifier_rct_biobert_en_3_0.html)|[bert_sequence_classifier_health_mentions_gbert_large](https://nlp.johnsnowlabs.com/2022/08/10/bert_sequence_classifier_health_mentions_gbert_large_de_3_0.html)|\n",
    "|[bert_sequence_classifier_question_statement_clinical](https://nlp.johnsnowlabs.com/2021/11/05/bert_sequence_classifier_question_statement_clinical_en.html)|[bert_sequence_classifier_binary_rct_biobert](https://nlp.johnsnowlabs.com/2022/04/25/bert_sequence_classifier_binary_rct_biobert_en_3_0.html)             |[bert_sequence_classifier_health_mentions_bert](https://nlp.johnsnowlabs.com/2022/08/10/bert_sequence_classifier_health_mentions_bert_de_3_0.html) |[bert_sequence_classifier_patient_complaint](https://nlp.johnsnowlabs.com/2023/08/31/bert_sequence_classifier_patient_complaint_en.html)|\n",
    "[bert_sequence_classifier_patient_complaint](https://nlp.johnsnowlabs.com/2023/08/31/bert_sequence_classifier_patient_complaint_en.html)|[bert_sequence_classifier_health_mentions_gbert](https://nlp.johnsnowlabs.com/2022/08/10/bert_sequence_classifier_health_mentions_gbert_de_3_0.html)|[bert_sequence_classifier_covid_sentiment](https://nlp.johnsnowlabs.com/2022/08/01/bert_sequence_classifier_covid_sentiment_en_3_0.html)||\n",
    "[bert_sequence_classifier_patient_urgency](https://nlp.johnsnowlabs.com/2023/07/09/bert_sequence_classifier_patient_urgency_en.html)\n",
    "<b>MBFSC Models related to Covid👇🏻</b> ||[bert_sequence_classifier_health_mentions_medbert](https://nlp.johnsnowlabs.com/2022/08/10/bert_sequence_classifier_health_mentions_medbert_de_3_0.html)|\n",
    "|[bert_sequence_classifier_vaccine_sentiment](https://nlp.johnsnowlabs.com/2022/07/28/bert_sequence_classifier_vaccine_sentiment_en_3_0.html)             | |<b>Spanish:👇🏻</b> |\n",
    "|[bert_sequence_classifier_self_reported_vaccine_status_tweet](https://nlp.johnsnowlabs.com/2022/07/29/bert_sequence_classifier_self_reported_vaccine_status_tweet_en_3_0.html)     |        |[bert_sequence_classifier_self_reported_symptoms_tweet](https://nlp.johnsnowlabs.com/2022/07/28/bert_sequence_classifier_self_reported_symptoms_tweet_es_3_0.html)|\n",
    "|[bert_sequence_classifier_health_mandates_stance_tweet](https://nlp.johnsnowlabs.com/2022/08/08/bert_sequence_classifier_health_mandates_stance_tweet_en_3_0.html)             |\n",
    "|[bert_sequence_classifier_health_mandates_premise_tweet](https://nlp.johnsnowlabs.com/2022/08/08/bert_sequence_classifier_health_mandates_premise_tweet_en_3_0.html)             |\n",
    "|<b>MBFSC Models related to Mental, Emotional and Social Relationships👇🏻</b>                                                                                                            |\n",
    "|[bert_sequence_classifier_stress](https://nlp.johnsnowlabs.com/2022/06/28/bert_sequence_classifier_stress_en_3_0.html)|\n",
    "|[bert_sequence_classifier_stressor](https://nlp.johnsnowlabs.com/2022/07/27/bert_sequence_classifier_stressor_en_3_0.html)| |\n",
    "|[bert_sequence_classifier_self_reported_stress_tweet](https://nlp.johnsnowlabs.com/2022/07/29/bert_sequence_classifier_self_reported_stress_tweet_en_3_0.html )|\n",
    "|[bert_sequence_classifier_depression](https://nlp.johnsnowlabs.com/2022/08/09/bert_sequence_classifier_depression_en_3_0.html)|\n",
    "|[bert_sequence_classifier_depression_binary](https://nlp.johnsnowlabs.com/2022/08/10/bert_sequence_classifier_depression_binary_en_3_0.html)|\n",
    "|[bert_sequence_classifier_depression_twitter](https://nlp.johnsnowlabs.com/2022/08/09/bert_sequence_classifier_depression_twitter_en_3_0.html)|\n",
    "|[bert_sequence_classifier_self_reported_partner_violence_tweet](https://nlp.johnsnowlabs.com/2022/07/28/bert_sequence_classifier_self_reported_partner_violence_tweet_en_3_0.html)|\n",
    "|<b>MBFSC Models related to Treatment👇🏻 </b>                                                                                                                                                                  |\n",
    "|[bert_sequence_classifier_ade](https://nlp.johnsnowlabs.com/2022/02/08/bert_sequence_classifier_ade_en.html)                |\n",
    "|[bert_sequence_classifier_ade_augmented](https://nlp.johnsnowlabs.com/2022/07/27/bert_sequence_classifier_ade_augmented_en_3_0.html)|\n",
    "|[bert_sequence_classifier_drug_reviews_webmd](https://nlp.johnsnowlabs.com/2022/07/28/bert_sequence_classifier_drug_reviews_webmd_en_3_0.html)|\n",
    "|[bert_sequence_classifier_treatment_changes_sentiment_tweet](https://nlp.johnsnowlabs.com/2022/08/04/bert_sequence_classifier_treatment_changes_sentiment_tweet_en_3_0.html)|\n",
    "|<b>MBFSC Models related to Gender and Age👇🏻</b>                                                                                                                                                                   |\n",
    "|[bert_sequence_classifier_gender_biobert](https://nlp.johnsnowlabs.com/2022/02/08/bert_sequence_classifier_gender_biobert_en.html)                |\n",
    "|[bert_sequence_classifier_exact_age_reddit](https://nlp.johnsnowlabs.com/2022/07/26/bert_sequence_classifier_exact_age_reddit_en_3_0.html)|\n",
    "|[bert_sequence_classifier_self_reported_age_tweet](https://nlp.johnsnowlabs.com/2022/07/26/bert_sequence_classifier_self_reported_age_tweet_en_3_0.html)|\n",
    "|<b>MBFSC Models related to Social Determinant of Health👇🏻</b>                                                                                                                                                                   |\n",
    "|[bert_sequence_classifier_sdoh_community_absent_status](https://nlp.johnsnowlabs.com/2022/12/18/bert_sequence_classifier_sdoh_community_absent_status_en.html)  |\n",
    "|[bert_sequence_classifier_sdoh_community_present_status](https://nlp.johnsnowlabs.com/2022/12/18/bert_sequence_classifier_sdoh_community_present_status_en.html)|\n",
    "|[bert_sequence_classifier_sdoh_environment_status](https://nlp.johnsnowlabs.com/2022/12/18/bert_sequence_classifier_sdoh_environment_status_en.html)            |\n",
    "\n",
    "\n",
    "\n"
   ]
  },
  {
   "cell_type": "markdown",
   "metadata": {
    "application/vnd.databricks.v1+cell": {
     "cellMetadata": {
      "byteLimit": 2048000,
      "rowLimit": 10000
     },
     "inputWidgets": {},
     "nuid": "ab852854-69b3-4d73-824d-16b9e56b2e63",
     "showTitle": false,
     "title": ""
    },
    "id": "5wt0ecx8oRll"
   },
   "source": [
    "# Setup"
   ]
  },
  {
   "cell_type": "code",
   "execution_count": 0,
   "metadata": {
    "application/vnd.databricks.v1+cell": {
     "cellMetadata": {
      "byteLimit": 2048000,
      "rowLimit": 10000
     },
     "inputWidgets": {},
     "nuid": "46e51645-8d4c-482d-85a5-03542ed0ca67",
     "showTitle": false,
     "title": ""
    },
    "colab": {
     "base_uri": "https://localhost:8080/",
     "height": 244
    },
    "id": "jIDHAUFnoVnq",
    "outputId": "534fa007-0612-497f-f2c6-35dde36f78a6"
   },
   "outputs": [
    {
     "output_type": "stream",
     "name": "stdout",
     "output_type": "stream",
     "text": [
      "sparknlp.version :  5.1.0\nsparknlp_jsl.version :  5.1.0\n"
     ]
    },
    {
     "output_type": "execute_result",
     "data": {
      "text/html": [
       "\n",
       "            <div>\n",
       "                <p><b>SparkSession - hive</b></p>\n",
       "                \n",
       "        <div>\n",
       "            <p><b>SparkContext</b></p>\n",
       "\n",
       "            <p><a href=\"/?o=7956323724731612#setting/sparkui/0725-092232-stftp6wi/driver-3770771420661461362\">Spark UI</a></p>\n",
       "\n",
       "            <dl>\n",
       "              <dt>Version</dt>\n",
       "                <dd><code>v3.4.1</code></dd>\n",
       "              <dt>Master</dt>\n",
       "                <dd><code>spark://10.139.64.11:7077</code></dd>\n",
       "              <dt>AppName</dt>\n",
       "                <dd><code>Databricks Shell</code></dd>\n",
       "            </dl>\n",
       "        </div>\n",
       "        \n",
       "            </div>\n",
       "        "
      ],
      "text/plain": [
       "<pyspark.sql.session.SparkSession at 0x7f7c22f1c430>"
      ]
     },
     "execution_count": 1,
     "metadata": {},
     "output_type": "execute_result"
    }
   ],
   "source": [
    "import os\n",
    "import json\n",
    "import string\n",
    "import numpy as np\n",
    "import pandas as pd\n",
    "\n",
    "\n",
    "import sparknlp\n",
    "import sparknlp_jsl\n",
    "from sparknlp.base import *\n",
    "from sparknlp.util import *\n",
    "from sparknlp.annotator import *\n",
    "from sparknlp_jsl.annotator import *\n",
    "from sparknlp.pretrained import ResourceDownloader\n",
    "from sparknlp.pretrained import  PretrainedPipeline\n",
    "from pyspark.sql.types import StringType,IntegerType\n",
    "\n",
    "from pyspark.sql import functions as F\n",
    "from pyspark.ml import Pipeline, PipelineModel\n",
    "\n",
    "import warnings\n",
    "warnings.filterwarnings('ignore')\n",
    "\n",
    "pd.set_option('max_colwidth', 100)\n",
    "pd.set_option('display.max_columns', 100)  \n",
    "pd.set_option('display.expand_frame_repr', False)\n",
    "\n",
    "print('sparknlp.version : ',sparknlp.version())\n",
    "print('sparknlp_jsl.version : ',sparknlp_jsl.version())\n",
    "\n",
    "\n",
    "spark"
   ]
  },
  {
   "cell_type": "markdown",
   "metadata": {
    "application/vnd.databricks.v1+cell": {
     "cellMetadata": {
      "byteLimit": 2048000,
      "rowLimit": 10000
     },
     "inputWidgets": {},
     "nuid": "a05f58f4-9874-4440-819a-62741ac03b41",
     "showTitle": false,
     "title": ""
    },
    "id": "hBny-lKK2eIh"
   },
   "source": [
    "# 🔎PUBLIC HEALTH"
   ]
  },
  {
   "cell_type": "markdown",
   "metadata": {
    "application/vnd.databricks.v1+cell": {
     "cellMetadata": {
      "byteLimit": 2048000,
      "rowLimit": 10000
     },
     "inputWidgets": {},
     "nuid": "fe5431ae-c724-4e9c-a1e4-2e97a66af91c",
     "showTitle": false,
     "title": ""
    }
   },
   "source": [
    "> ### 📌Social Determinant of Health Classifier Model"
   ]
  },
  {
   "cell_type": "markdown",
   "metadata": {
    "application/vnd.databricks.v1+cell": {
     "cellMetadata": {
      "byteLimit": 2048000,
      "rowLimit": 10000
     },
     "inputWidgets": {},
     "nuid": "9419af96-6bee-4667-9789-4d7517c8f475",
     "showTitle": false,
     "title": ""
    },
    "id": "-I9-T7D5RmV0"
   },
   "source": [
    "## 🔹 MBFSC Models related to Social Determinants of Health"
   ]
  },
  {
   "cell_type": "markdown",
   "metadata": {
    "application/vnd.databricks.v1+cell": {
     "cellMetadata": {
      "byteLimit": 2048000,
      "rowLimit": 10000
     },
     "inputWidgets": {},
     "nuid": "95bac54d-7329-494b-8831-55379c5ba6e8",
     "showTitle": false,
     "title": ""
    }
   },
   "source": [
    "+ `MedicalBertForSequenceClassification` models that can be used in Social Determinant of Health related classification tasks:\n",
    "\n",
    "| model name                                                                                                                                                                    | description                                                                             | predicted entities                                         |\n",
    "|-------------------------------------------------------------------------------------------------------------------------------------------------------------------------------|-----------------------------------------------------------------------------------------|------------------------------------------------------------|\n",
    "| [bert_sequence_classifier_sdoh_community_absent_status]()           \t| Classifies the clinical texts related to the loss of social support such as a family member or friend in the clinical documents. A discharge summary was classified True for Community-Absent if the discharge summary had passages related to the loss of social support and False if such passages were not found in the discharge summary.                                                                     \t| `True` `False`                \t|\n",
    "| [bert_sequence_classifier_sdoh_community_present_status]() \t| Classifies the clinical texts related to social support such as a family member or friend in the clinical documents. A discharge summary was classified True for Community-Present if the discharge summary had passages related to active social support and False if such passages were not found in the discharge summary.                                                        \t| `True` `False`               \t|\n",
    "| [bert_sequence_classifier_sdoh_environment_status]()     \t| Classifies the clinical texts related to environment situation such as any indication of housing, homeless or no related passage. A discharge summary was classified as True for the SDOH Environment if there was any indication of housing, False if the patient was homeless and None if there was no related passage.                                                     \t| `True` `False` `None`               \t|"
   ]
  },
  {
   "cell_type": "markdown",
   "metadata": {
    "application/vnd.databricks.v1+cell": {
     "cellMetadata": {
      "byteLimit": 2048000,
      "rowLimit": 10000
     },
     "inputWidgets": {},
     "nuid": "eacff66f-98b5-4c48-8756-6be2b96153ab",
     "showTitle": false,
     "title": ""
    },
    "id": "4G1z2Oz7ThFH"
   },
   "source": [
    "*`bert_sequence_classifier_sdoh_community_present_status`*"
   ]
  },
  {
   "cell_type": "code",
   "execution_count": 0,
   "metadata": {
    "application/vnd.databricks.v1+cell": {
     "cellMetadata": {
      "byteLimit": 2048000,
      "rowLimit": 10000
     },
     "inputWidgets": {},
     "nuid": "688fc8c6-92ca-42b1-a1c1-2a77618eeedb",
     "showTitle": false,
     "title": ""
    },
    "colab": {
     "base_uri": "https://localhost:8080/"
    },
    "id": "u6JZFiacTglJ",
    "outputId": "cbb35eb7-af81-4fcf-db0f-16c6dd913afb"
   },
   "outputs": [
    {
     "output_type": "stream",
     "name": "stdout",
     "output_type": "stream",
     "text": [
      "bert_sequence_classifier_sdoh_community_present_status download started this may take some time.\n\r[ | ]\r[ / ]\r[ — ]\r[ \\ ]\r[ | ]\r[ / ]\r[ — ]\r[ \\ ]\r[ | ]\r[ / ]\r[ — ]\r[ \\ ]\r[ | ]\r[ / ]\r[ — ]\r[ \\ ]\r[ | ]\r[ / ]\r[ — ]\r[ \\ ]\r[ | ]\r[ / ]\r[ — ]\r[ \\ ]\r[ | ]\r[ / ]\r[ — ]\r[OK!]\n+----------------------------------------------------------------------------------------------------------------------------------------------------------------------------------------------------------------------------------------------------------------------+-------+\n|text                                                                                                                                                                                                                                                                  |result |\n+----------------------------------------------------------------------------------------------------------------------------------------------------------------------------------------------------------------------------------------------------------------------+-------+\n|Right inguinal hernia repair in childhood Cervical discectomy 3 years ago Umbilical hernia repair 2137. Retired schoolteacher, now substitutes. Lives with wife in location 1439. Has a 27 yo son and a 25 yo daughter. Name (NI) past or present smoking hx, no EtOH.|[True] |\n|Atrial Septal Defect with Right Atrial Thrombus Pulmonary Hypertension Obesity, Obstructive Sleep Apnea. Denies tobacco and ETOH. Works as cafeteria worker.                                                                                                          |[False]|\n+----------------------------------------------------------------------------------------------------------------------------------------------------------------------------------------------------------------------------------------------------------------------+-------+\n\n"
     ]
    }
   ],
   "source": [
    "document_assembler = DocumentAssembler() \\\n",
    "    .setInputCol(\"text\") \\\n",
    "    .setOutputCol(\"document\")\n",
    "\n",
    "tokenizer = Tokenizer() \\\n",
    "    .setInputCols([\"document\"]) \\\n",
    "    .setOutputCol(\"token\")\n",
    "\n",
    "sequenceClassifier = MedicalBertForSequenceClassification.pretrained(\"bert_sequence_classifier_sdoh_community_present_status\", \"en\", \"clinical/models\")\\\n",
    "    .setInputCols([\"document\",\"token\"])\\\n",
    "    .setOutputCol(\"classes\")\n",
    "\n",
    "pipeline = Pipeline(stages=[\n",
    "    document_assembler,\n",
    "    tokenizer,\n",
    "    sequenceClassifier\n",
    "])\n",
    "\n",
    "model = pipeline.fit(spark.createDataFrame([[\"\"]]).toDF(\"text\"))\n",
    "\n",
    "data = spark.createDataFrame([[\"Right inguinal hernia repair in childhood Cervical discectomy 3 years ago Umbilical hernia repair 2137. Retired schoolteacher, now substitutes. Lives with wife in location 1439. Has a 27 yo son and a 25 yo daughter. Name (NI) past or present smoking hx, no EtOH.\"],\n",
    "                              [\"Atrial Septal Defect with Right Atrial Thrombus Pulmonary Hypertension Obesity, Obstructive Sleep Apnea. Denies tobacco and ETOH. Works as cafeteria worker.\"]]).toDF(\"text\")\n",
    "\n",
    "result = model.transform(data)\n",
    "\n",
    "result.select(\"text\", \"classes.result\").show(truncate=False)"
   ]
  },
  {
   "cell_type": "markdown",
   "metadata": {
    "application/vnd.databricks.v1+cell": {
     "cellMetadata": {
      "byteLimit": 2048000,
      "rowLimit": 10000
     },
     "inputWidgets": {},
     "nuid": "3fbec52d-bc1f-46f8-9de8-8ffcd6b8a497",
     "showTitle": false,
     "title": ""
    }
   },
   "source": [
    "> ### 📌Public Health Mention Classifier Model"
   ]
  },
  {
   "cell_type": "markdown",
   "metadata": {
    "application/vnd.databricks.v1+cell": {
     "cellMetadata": {
      "byteLimit": 2048000,
      "rowLimit": 10000
     },
     "inputWidgets": {},
     "nuid": "5e0ef895-8a35-4ef7-a36f-b548692343a9",
     "showTitle": false,
     "title": ""
    }
   },
   "source": [
    "## 🔹 MBFSC Models related to Health Mentions and Statements:"
   ]
  },
  {
   "cell_type": "markdown",
   "metadata": {
    "application/vnd.databricks.v1+cell": {
     "cellMetadata": {
      "byteLimit": 2048000,
      "rowLimit": 10000
     },
     "inputWidgets": {},
     "nuid": "1de6c21a-5e34-48cb-a282-7f1c34d1af9d",
     "showTitle": false,
     "title": ""
    }
   },
   "source": [
    "| model name                                                                                                                                                                    | description                                                                             | predicted entities                                         |\n",
    "|-------------------------------------------------------------------------------------------------------------------------------------------------------------------------------|-----------------------------------------------------------------------------------------|------------------------------------------------------------|\n",
    "|[bert_sequence_classifier_health_mentions](https://nlp.johnsnowlabs.com/2022/07/25/bert_sequence_classifier_health_mentions_en_3_0.html)                | This model is a PHS-BERT based sequence classification model that can classify public health mentions in social media text. | `health_mention` `other_mention` `figurative_mention`                  |\n",
    "|[bert_sequence_classifier_question_statement_clinical](https://nlp.johnsnowlabs.com/2021/11/05/bert_sequence_classifier_question_statement_clinical_en.html)| This model makes sentence classification by distinguishing between Questions and Statements in the Clinical domain.      | `question` `statement`|"
   ]
  },
  {
   "cell_type": "markdown",
   "metadata": {
    "application/vnd.databricks.v1+cell": {
     "cellMetadata": {
      "byteLimit": 2048000,
      "rowLimit": 10000
     },
     "inputWidgets": {},
     "nuid": "4acd3a5a-7244-43fb-930f-ccdf94df39a6",
     "showTitle": false,
     "title": ""
    }
   },
   "source": [
    "*`bert_sequence_classifier_health_mentions`*"
   ]
  },
  {
   "cell_type": "code",
   "execution_count": 0,
   "metadata": {
    "application/vnd.databricks.v1+cell": {
     "cellMetadata": {
      "byteLimit": 2048000,
      "rowLimit": 10000
     },
     "inputWidgets": {},
     "nuid": "cc6188d4-5185-484f-b66d-e0240840bd24",
     "showTitle": false,
     "title": ""
    }
   },
   "outputs": [
    {
     "output_type": "stream",
     "name": "stdout",
     "output_type": "stream",
     "text": [
      "bert_sequence_classifier_health_mentions download started this may take some time.\n\r[ | ]\r[ / ]\r[ — ]\r[ \\ ]\r[ | ]\r[ / ]\r[ — ]\r[ \\ ]\r[ | ]\r[ / ]\r[ — ]\r[ \\ ]\r[ | ]\r[ / ]\r[ — ]\r[ \\ ]\r[ | ]\r[ / ]\r[ — ]\r[ \\ ]\r[ | ]\r[ / ]\r[ — ]\r[OK!]\n+-------------------------------------------------------------------------------------------------------------------------------+----------------+\n|text                                                                                                                           |result          |\n+-------------------------------------------------------------------------------------------------------------------------------+----------------+\n|Another uncle of mine had a heart attack and passed away. Will be cremated Saturday I think I ve gone numb again RIP Uncle Mike|[health_mention]|\n+-------------------------------------------------------------------------------------------------------------------------------+----------------+\n\n"
     ]
    }
   ],
   "source": [
    "document_assembler = DocumentAssembler() \\\n",
    "    .setInputCol(\"text\") \\\n",
    "    .setOutputCol(\"document\")\n",
    "\n",
    "tokenizer = Tokenizer() \\\n",
    "    .setInputCols([\"document\"]) \\\n",
    "    .setOutputCol(\"token\")\n",
    "\n",
    "sequenceClassifier = MedicalBertForSequenceClassification.pretrained(\"bert_sequence_classifier_health_mentions\", \"en\", \"clinical/models\")\\\n",
    "    .setInputCols([\"document\",\"token\"])\\\n",
    "    .setOutputCol(\"classes\")\n",
    "\n",
    "pipeline = Pipeline(stages=[\n",
    "    document_assembler,\n",
    "    tokenizer,\n",
    "    sequenceClassifier\n",
    "])\n",
    "\n",
    "model = pipeline.fit(spark.createDataFrame([[\"\"]]).toDF(\"text\"))\n",
    "\n",
    "data = spark.createDataFrame([[\"Another uncle of mine had a heart attack and passed away. Will be cremated Saturday I think I ve gone numb again RIP Uncle Mike\"]]).toDF(\"text\")\n",
    "\n",
    "result = model.transform(data)\n",
    "\n",
    "result.select(\"text\", \"classes.result\").show(truncate=False)"
   ]
  },
  {
   "cell_type": "markdown",
   "metadata": {
    "application/vnd.databricks.v1+cell": {
     "cellMetadata": {
      "byteLimit": 2048000,
      "rowLimit": 10000
     },
     "inputWidgets": {},
     "nuid": "770c9822-99b7-4799-afb1-3017ad07a5c7",
     "showTitle": false,
     "title": ""
    },
    "id": "ICqFXkaqai6L"
   },
   "source": [
    "### 🔎with LightPipeline"
   ]
  },
  {
   "cell_type": "markdown",
   "metadata": {
    "application/vnd.databricks.v1+cell": {
     "cellMetadata": {
      "byteLimit": 2048000,
      "rowLimit": 10000
     },
     "inputWidgets": {},
     "nuid": "d4767031-5213-4712-aff1-97e2761afe39",
     "showTitle": false,
     "title": ""
    },
    "id": "q_i-k-mcd8S3"
   },
   "source": [
    "📌Let's show how we can use our same model as LightPipeline"
   ]
  },
  {
   "cell_type": "code",
   "execution_count": 0,
   "metadata": {
    "application/vnd.databricks.v1+cell": {
     "cellMetadata": {
      "byteLimit": 2048000,
      "rowLimit": 10000
     },
     "inputWidgets": {},
     "nuid": "c287e89e-801c-47e4-ba87-61be23b95db5",
     "showTitle": false,
     "title": ""
    },
    "id": "9w8T9veEd-q8"
   },
   "outputs": [],
   "source": [
    "sample_text = \"I don't wanna fall in love. If I ever did that, I think I'd have a heart attack\"\n",
    "\n",
    "light_model = LightPipeline(model)\n",
    "light_result = light_model.fullAnnotate(sample_text)"
   ]
  },
  {
   "cell_type": "code",
   "execution_count": 0,
   "metadata": {
    "application/vnd.databricks.v1+cell": {
     "cellMetadata": {
      "byteLimit": 2048000,
      "rowLimit": 10000
     },
     "inputWidgets": {},
     "nuid": "1485a0d5-e27f-46d7-a051-4b9bdb6c9112",
     "showTitle": false,
     "title": ""
    },
    "colab": {
     "base_uri": "https://localhost:8080/",
     "height": 34
    },
    "id": "S-i7s0ajoLt-",
    "outputId": "58b7352f-d84e-470f-bd88-c25daca3a21f"
   },
   "outputs": [
    {
     "output_type": "execute_result",
     "data": {
      "text/plain": [
       "'figurative_mention'"
      ]
     },
     "execution_count": 5,
     "metadata": {},
     "output_type": "execute_result"
    }
   ],
   "source": [
    "light_result[0]['classes'][0].result"
   ]
  },
  {
   "cell_type": "markdown",
   "metadata": {
    "application/vnd.databricks.v1+cell": {
     "cellMetadata": {
      "byteLimit": 2048000,
      "rowLimit": 10000
     },
     "inputWidgets": {},
     "nuid": "79b8d484-4b98-41b2-b1ea-1c2b9ddd6612",
     "showTitle": false,
     "title": ""
    },
    "id": "70iI1_dWJbh-"
   },
   "source": [
    "## 🔹 MBFSC Models Related to Covid"
   ]
  },
  {
   "cell_type": "markdown",
   "metadata": {
    "application/vnd.databricks.v1+cell": {
     "cellMetadata": {
      "byteLimit": 2048000,
      "rowLimit": 10000
     },
     "inputWidgets": {},
     "nuid": "8c0944b4-ab50-4755-9ad2-db304b31c144",
     "showTitle": false,
     "title": ""
    },
    "id": "JsLD2mI5EC7Z"
   },
   "source": [
    "| model name                                                                                                                                                                    | description                                                                             | predicted entities                                         |\n",
    "|-------------------------------------------------------------------------------------------------------------------------------------------------------------------------------|-----------------------------------------------------------------------------------------|------------------------------------------------------------|\n",
    "|[bert_sequence_classifier_covid_sentiment](https://nlp.johnsnowlabs.com/2022/08/01/bert_sequence_classifier_covid_sentiment_en_3_0.html)                                           | This model is a BioBERT based sentiment analysis model that can extract information from COVID-19 pandemic-related tweets.                       | `neutral` `positive` `negative`                                              |\n",
    "|[bert_sequence_classifier_vaccine_sentiment](https://nlp.johnsnowlabs.com/2022/07/28/bert_sequence_classifier_vaccine_sentiment_en_3_0.html)             | This model is a BioBERT based sentimental analysis model that can extract information from COVID-19 Vaccine-related tweets.                            | `neutral` `positive` `negative`                                   |\n",
    "|[bert_sequence_classifier_self_reported_vaccine_status_tweet](https://nlp.johnsnowlabs.com/2022/07/29/bert_sequence_classifier_self_reported_vaccine_status_tweet_en_3_0.html)             | Classification of tweets indicating self-reported COVID-19 vaccination status. This model involves the identification of self-reported COVID-19 vaccination status in English tweets.                           | `Vaccine_chatter` `Self_reports`                                   |\n",
    "|[bert_sequence_classifier_health_mandates_stance_tweet](https://nlp.johnsnowlabs.com/2022/08/08/bert_sequence_classifier_health_mandates_stance_tweet_en_3_0.html)             | This model is a BioBERT based classifier that can classify stance about health mandates related to Covid-19 from tweets.  | `Support` `Disapproval` `Not stated `                                   |\n",
    "|[bert_sequence_classifier_health_mandates_premise_tweet](https://nlp.johnsnowlabs.com/2022/08/08/bert_sequence_classifier_health_mandates_premise_tweet_en_3_0.html)             | This model is a BioBERT based classifier that can classify premise about health mandates related to Covid-19 from tweets. | `Has premise (argument)` `Has no premise (no argument)`                                  |"
   ]
  },
  {
   "cell_type": "markdown",
   "metadata": {
    "application/vnd.databricks.v1+cell": {
     "cellMetadata": {
      "byteLimit": 2048000,
      "rowLimit": 10000
     },
     "inputWidgets": {},
     "nuid": "ebb5cd8a-e4f1-4695-a416-77089e827163",
     "showTitle": false,
     "title": ""
    },
    "id": "Ai9wg7Mc4oGL"
   },
   "source": [
    "> ### 📌Covid-19 Sentiment Classification Model\n",
    "\n",
    "*`bert_sequence_classifier_covid_sentiment`*"
   ]
  },
  {
   "cell_type": "code",
   "execution_count": 0,
   "metadata": {
    "application/vnd.databricks.v1+cell": {
     "cellMetadata": {
      "byteLimit": 2048000,
      "rowLimit": 10000
     },
     "inputWidgets": {},
     "nuid": "c71aae70-80fa-4ce6-a3d1-e35a55fd1931",
     "showTitle": false,
     "title": ""
    },
    "colab": {
     "base_uri": "https://localhost:8080/"
    },
    "id": "2EkA0iGK4ZSO",
    "outputId": "5235a236-9fa8-451c-8bfe-445145a77849"
   },
   "outputs": [
    {
     "output_type": "stream",
     "name": "stdout",
     "output_type": "stream",
     "text": [
      "bert_sequence_classifier_covid_sentiment download started this may take some time.\n\r[ | ]\r[ / ]\r[ — ]\r[ \\ ]\r[ | ]\r[ / ]\r[ — ]\r[ \\ ]\r[ | ]\r[ / ]\r[ — ]\r[ \\ ]\r[ | ]\r[ / ]\r[ — ]\r[ \\ ]\r[OK!]\n+---------------------------------------------------------------------------------------------------------+----------+\n|text                                                                                                     |result    |\n+---------------------------------------------------------------------------------------------------------+----------+\n|British Department of Health confirms first two cases of in UK                                           |[neutral] |\n|so my trip to visit my australian exchange student just got canceled bc of coronavirus. im heartbroken :(|[negative]|\n|I wish everyone to be safe at home and stop pandemic                                                     |[positive]|\n+---------------------------------------------------------------------------------------------------------+----------+\n\n"
     ]
    }
   ],
   "source": [
    "sequenceClassifier = MedicalBertForSequenceClassification.pretrained(\"bert_sequence_classifier_covid_sentiment\", \"en\", \"clinical/models\")\\\n",
    "    .setInputCols([\"document\",\"token\"])\\\n",
    "    .setOutputCol(\"class\")\n",
    "\n",
    "pipeline = Pipeline(stages=[\n",
    "    document_assembler, \n",
    "    tokenizer,\n",
    "    sequenceClassifier    \n",
    "])\n",
    "\n",
    "data = spark.createDataFrame([\n",
    "    [\"British Department of Health confirms first two cases of in UK\"],\n",
    "    [\"so my trip to visit my australian exchange student just got canceled bc of coronavirus. im heartbroken :(\"], \n",
    "    [ \"I wish everyone to be safe at home and stop pandemic\"]]\n",
    ").toDF(\"text\")\n",
    "\n",
    "result = pipeline.fit(data).transform(data)\n",
    "\n",
    "result.select(\"text\", \"class.result\").show(truncate=False)"
   ]
  },
  {
   "cell_type": "markdown",
   "metadata": {
    "application/vnd.databricks.v1+cell": {
     "cellMetadata": {
      "byteLimit": 2048000,
      "rowLimit": 10000
     },
     "inputWidgets": {},
     "nuid": "19bffbb1-83be-452e-8b53-33b023ba4e3e",
     "showTitle": false,
     "title": ""
    },
    "id": "ybNyMSfGKmcs"
   },
   "source": [
    "## 🔹 MBFSC Models related to Stress, Depression and Partner Violence"
   ]
  },
  {
   "cell_type": "markdown",
   "metadata": {
    "application/vnd.databricks.v1+cell": {
     "cellMetadata": {
      "byteLimit": 2048000,
      "rowLimit": 10000
     },
     "inputWidgets": {},
     "nuid": "5fb59f1e-f98a-4401-ab64-8ae90fe6ffb7",
     "showTitle": false,
     "title": ""
    },
    "id": "mIJwgkFlNFDU"
   },
   "source": [
    "| model name                                                                                                                                                                    | description                                                                             | predicted entities                                         |\n",
    "|-------------------------------------------------------------------------------------------------------------------------------------------------------------------------------|-----------------------------------------------------------------------------------------|------------------------------------------------------------|\n",
    "|[bert_sequence_classifier_stress](https://nlp.johnsnowlabs.com/2022/06/28/bert_sequence_classifier_stress_en_3_0.html)| This model is a PHS-BERT-based classifier that can classify whether the content of a text expresses emotional stress.         | `stress` `no-stress`|\n",
    "|[bert_sequence_classifier_stressor](https://nlp.johnsnowlabs.com/2022/07/27/bert_sequence_classifier_stressor_en_3_0.html)| This model is a bioBERT based classifier that can classify source of emotional stress in text.        | `Family_Issues` `Financial_Problem` `Health_Fatigue_or_Physical` `Pain` `Other``School` `Work` `Social_Relationships`|\n",
    "|[bert_sequence_classifier_self_reported_stress_tweet](https://nlp.johnsnowlabs.com/2022/07/29/bert_sequence_classifier_self_reported_stress_tweet_en_3_0.html )                | This model classifies stress in social media (Twitter) posts in the self-disclosure category.| `stressed` `not-stressed`                   |\n",
    "|[bert_sequence_classifier_depression](https://nlp.johnsnowlabs.com/2022/08/09/bert_sequence_classifier_depression_en_3_0.html)| This model is a PHS-BERT based text classification model that can classify depression level of social media text into three levels.         | `no-depression` `minimum` `high-depression`|\n",
    "|[bert_sequence_classifier_depression_binary](https://nlp.johnsnowlabs.com/2022/08/10/bert_sequence_classifier_depression_binary_en_3_0.html)| This model is a PHS-BERT based text classification model that can classify whether a social media text expresses depression or not.          | `no-depression` `depression`|\n",
    "|[bert_sequence_classifier_depression_twitter](https://nlp.johnsnowlabs.com/2022/08/09/bert_sequence_classifier_depression_twitter_en_3_0.html)| This model is a PHS-BERT based tweet classification model that can classify whether tweets contain depressive text.        | `no-depression` `depression`|\n",
    "|[bert_sequence_classifier_self_reported_partner_violence_tweet](https://nlp.johnsnowlabs.com/2022/07/28/bert_sequence_classifier_self_reported_partner_violence_tweet_en_3_0.html)| This model classifies self-reported Intimate partner violence (IPV) in tweets.          | `intimate_partner_violence` `non_intimate_partner_violence`|"
   ]
  },
  {
   "cell_type": "markdown",
   "metadata": {
    "application/vnd.databricks.v1+cell": {
     "cellMetadata": {
      "byteLimit": 2048000,
      "rowLimit": 10000
     },
     "inputWidgets": {},
     "nuid": "b670b4d5-5475-45a2-b63e-6410f79e6a38",
     "showTitle": false,
     "title": ""
    },
    "id": "j681HOsk-Tec"
   },
   "source": [
    "> ### 📌 Depression Level Classifier Model\n",
    "\n",
    "*`bert_sequence_classifier_depression`*"
   ]
  },
  {
   "cell_type": "code",
   "execution_count": 0,
   "metadata": {
    "application/vnd.databricks.v1+cell": {
     "cellMetadata": {
      "byteLimit": 2048000,
      "rowLimit": 10000
     },
     "inputWidgets": {},
     "nuid": "1e52b2b4-7ff0-4952-83a3-176a69558e9d",
     "showTitle": false,
     "title": ""
    },
    "colab": {
     "base_uri": "https://localhost:8080/"
    },
    "id": "1EN0mKN78vPb",
    "outputId": "491f335b-b7c5-4bbb-bc7d-ffe005b810f7"
   },
   "outputs": [
    {
     "output_type": "stream",
     "name": "stdout",
     "output_type": "stream",
     "text": [
      "bert_sequence_classifier_depression download started this may take some time.\n\r[ | ]\r[ / ]\r[ — ]\r[ \\ ]\r[ | ]\r[ / ]\r[ — ]\r[ \\ ]\r[ | ]\r[ / ]\r[ — ]\r[ \\ ]\r[ | ]\r[ / ]\r[ — ]\r[ \\ ]\r[ | ]\r[ / ]\r[ — ]\r[ \\ ]\r[ | ]\r[ / ]\r[ — ]\r[ \\ ]\r[ | ]\r[ / ]\r[ — ]\r[ \\ ]\r[ | ]\r[ / ]\r[ — ]\r[ \\ ]\r[ | ]\r[ / ]\r[ — ]\r[ \\ ]\r[ | ]\r[ / ]\r[OK!]\n+---------------------------------------------------------------------------------------------------------------------------------+-----------------+\n|text                                                                                                                             |result           |\n+---------------------------------------------------------------------------------------------------------------------------------+-----------------+\n|None that I know of. Any mental health issue needs to be cared for like any other health issue. Doctors and medications can help.|[no-depression]  |\n|I don’t know. Was this okay? Should I hate him? Or was it just something new? I really don’t know what to make of the situation. |[minimum]        |\n|It makes me so disappointed in myself because I hate what I've become and I hate feeling so helpless.                            |[high-depression]|\n+---------------------------------------------------------------------------------------------------------------------------------+-----------------+\n\n"
     ]
    }
   ],
   "source": [
    "sequenceClassifier = MedicalBertForSequenceClassification.pretrained(\"bert_sequence_classifier_depression\", \"en\", \"clinical/models\")\\\n",
    "    .setInputCols([\"document\",\"token\"])\\\n",
    "    .setOutputCol(\"class\")\n",
    "\n",
    "pipeline = Pipeline(stages=[\n",
    "    document_assembler, \n",
    "    tokenizer,\n",
    "    sequenceClassifier    \n",
    "])\n",
    "\n",
    "data = spark.createDataFrame([\n",
    "             [\"None that I know of. Any mental health issue needs to be cared for like any other health issue. Doctors and medications can help.\"], \n",
    "             [\"I don’t know. Was this okay? Should I hate him? Or was it just something new? I really don’t know what to make of the situation.\"], \n",
    "             [\"It makes me so disappointed in myself because I hate what I've become and I hate feeling so helpless.\"]\n",
    "    ]).toDF(\"text\")\n",
    "\n",
    "result = pipeline.fit(data).transform(data)\n",
    "result.select(\"text\", \"class.result\").show(truncate=False)"
   ]
  },
  {
   "cell_type": "markdown",
   "metadata": {
    "application/vnd.databricks.v1+cell": {
     "cellMetadata": {
      "byteLimit": 2048000,
      "rowLimit": 10000
     },
     "inputWidgets": {},
     "nuid": "ba7e8a01-6d6c-4ec7-97d7-20d2150c973d",
     "showTitle": false,
     "title": ""
    },
    "id": "UUWe-qJeNyRK"
   },
   "source": [
    "> ### 📌Self Reported Partner Violence Classifier Model\n",
    "\n",
    "*`bert_sequence_classifier_self_reported_partner_violence_tweet`*"
   ]
  },
  {
   "cell_type": "code",
   "execution_count": 0,
   "metadata": {
    "application/vnd.databricks.v1+cell": {
     "cellMetadata": {
      "byteLimit": 2048000,
      "rowLimit": 10000
     },
     "inputWidgets": {},
     "nuid": "1a9847e1-1482-4a96-9de0-c527b3228676",
     "showTitle": false,
     "title": ""
    },
    "colab": {
     "base_uri": "https://localhost:8080/"
    },
    "id": "Cnclf0Y_NvyQ",
    "outputId": "25d86a21-52d7-4746-9b5b-dcd415597118"
   },
   "outputs": [
    {
     "output_type": "stream",
     "name": "stdout",
     "output_type": "stream",
     "text": [
      "bert_sequence_classifier_self_reported_partner_violence_tweet download started this may take some time.\n\r[ | ]\r[ / ]\r[ — ]\r[ \\ ]\r[ | ]\r[ / ]\r[ — ]\r[ \\ ]\r[ | ]\r[ / ]\r[ — ]\r[ \\ ]\r[ | ]\r[OK!]\n+----------------------------------------------------------------------------------------------------+-------------------------------+\n|                                                                                                text|                         result|\n+----------------------------------------------------------------------------------------------------+-------------------------------+\n|                                             I am fed up with this toxic relation.I hate my husband.|[non-intimate_partner_violence]|\n|Can i say something real quick I ve never been one to publicly drag an ex partner and sometimes I...|    [intimate_partner_violence]|\n+----------------------------------------------------------------------------------------------------+-------------------------------+\n\n"
     ]
    }
   ],
   "source": [
    "sequenceClassifier = MedicalBertForSequenceClassification.pretrained(\"bert_sequence_classifier_self_reported_partner_violence_tweet\", \"en\", \"clinical/models\")\\\n",
    "    .setInputCols([\"document\",'token'])\\\n",
    "    .setOutputCol(\"class\")\n",
    "\n",
    "pipeline = Pipeline(stages=[\n",
    "    document_assembler, \n",
    "    tokenizer,\n",
    "    sequenceClassifier    \n",
    "])\n",
    "\n",
    "example = spark.createDataFrame([\"I am fed up with this toxic relation.I hate my husband.\",\n",
    "                                 \"Can i say something real quick I ve never been one to publicly drag an ex partner and sometimes I regret that. I ve been reflecting on the harm, abuse and violence that was done to me and those bitches are truly lucky I chose peace amp therapy because they are trash forreal.\"], StringType()).toDF(\"text\")\n",
    "\n",
    "result = pipeline.fit(example).transform(example)\n",
    "\n",
    "result.select(\"text\", \"class.result\").show(truncate=100)"
   ]
  },
  {
   "cell_type": "markdown",
   "metadata": {
    "application/vnd.databricks.v1+cell": {
     "cellMetadata": {
      "byteLimit": 2048000,
      "rowLimit": 10000
     },
     "inputWidgets": {},
     "nuid": "bef3a77f-1c1b-4d42-ac6a-c0da75eec66b",
     "showTitle": false,
     "title": ""
    },
    "id": "BCqR4TV6OOJb"
   },
   "source": [
    "## 🔹 MBFSC Models related to Treatment"
   ]
  },
  {
   "cell_type": "markdown",
   "metadata": {
    "application/vnd.databricks.v1+cell": {
     "cellMetadata": {
      "byteLimit": 2048000,
      "rowLimit": 10000
     },
     "inputWidgets": {},
     "nuid": "20f28117-34e8-42b9-87fe-5e3336f5bda3",
     "showTitle": false,
     "title": ""
    },
    "id": "NIZa749XQCMb"
   },
   "source": [
    "| model name                                                                                                                                                                    | description                                                                             | predicted entities                                         |\n",
    "|-------------------------------------------------------------------------------------------------------------------------------------------------------------------------------|-----------------------------------------------------------------------------------------|------------------------------------------------------------|\n",
    "|[bert_sequence_classifier_ade](https://nlp.johnsnowlabs.com/2022/02/08/bert_sequence_classifier_ade_en.html)                | This model is a BioBERT based classifier that classifies texts/sentences into two categories as True and False.| `True` `False`                   |\n",
    "|[bert_sequence_classifier_ade_augmented](https://nlp.johnsnowlabs.com/2022/07/27/bert_sequence_classifier_ade_augmented_en_3_0.html)| This model is a [BioBERT-based] (https://github.com/dmis-lab/biobert) classifier that can classify tweets reporting ADEs (Adverse Drug Events).        | `ADE` `no-ADE`|\n",
    "|[bert_sequence_classifier_drug_reviews_webmd](https://nlp.johnsnowlabs.com/2022/07/28/bert_sequence_classifier_drug_reviews_webmd_en_3_0.html)| This model is a BioBERT based classifier that can classify drug reviews from WebMD.com         | `negative` `positive`|\n",
    "|[bert_sequence_classifier_treatment_changes_sentiment_tweet](https://nlp.johnsnowlabs.com/2022/08/04/bert_sequence_classifier_treatment_changes_sentiment_tweet_en_3_0.html)| This model is a BioBERT based classifier that can classify patients non-adherent to their treatments and their reasons on Twitter.        | `negative` `positive`|"
   ]
  },
  {
   "cell_type": "markdown",
   "metadata": {
    "application/vnd.databricks.v1+cell": {
     "cellMetadata": {
      "byteLimit": 2048000,
      "rowLimit": 10000
     },
     "inputWidgets": {},
     "nuid": "43908a94-eaf9-42c6-8a33-d41b5fe5ead3",
     "showTitle": false,
     "title": ""
    },
    "id": "X8RcLh_wrHFa"
   },
   "source": [
    "> ## 📌Adverse Drug Event Classifier Model\n",
    "\n",
    "*`bert_sequence_classifier_ade_augmented`*"
   ]
  },
  {
   "cell_type": "code",
   "execution_count": 0,
   "metadata": {
    "application/vnd.databricks.v1+cell": {
     "cellMetadata": {
      "byteLimit": 2048000,
      "rowLimit": 10000
     },
     "inputWidgets": {},
     "nuid": "cc63dedb-6334-4bce-8d66-05484c59f730",
     "showTitle": false,
     "title": ""
    },
    "colab": {
     "base_uri": "https://localhost:8080/"
    },
    "id": "MEULIOHzjk8S",
    "outputId": "903af896-3dda-49e9-c350-6249b4d3dd94"
   },
   "outputs": [
    {
     "output_type": "stream",
     "name": "stdout",
     "output_type": "stream",
     "text": [
      "bert_sequence_classifier_ade_augmented download started this may take some time.\n\r[ | ]\r[ / ]\r[ — ]\r[ \\ ]\r[ | ]\r[ / ]\r[ — ]\r[ \\ ]\r[ | ]\r[ / ]\r[ — ]\r[ \\ ]\r[ | ]\r[OK!]\n+-----------------------------------------------------------------------------------------------------------------------+-------+\n|text                                                                                                                   |result |\n+-----------------------------------------------------------------------------------------------------------------------+-------+\n|So glad I am off effexor, so sad it ruined my teeth. tip Please be carefull taking antideppresiva and read about it 1st|[ADE]  |\n|Religare Capital Ranbaxy has been accepting approval for Diovan since 2012                                             |[noADE]|\n+-----------------------------------------------------------------------------------------------------------------------+-------+\n\n"
     ]
    }
   ],
   "source": [
    "sequenceClassifier = MedicalBertForSequenceClassification.pretrained(\"bert_sequence_classifier_ade_augmented\", \"en\", \"clinical/models\")\\\n",
    "    .setInputCols([\"document\",\"token\"])\\\n",
    "    .setOutputCol(\"class\")\n",
    "\n",
    "pipeline = Pipeline(stages=[\n",
    "    document_assembler, \n",
    "    tokenizer,\n",
    "    sequenceClassifier\n",
    "])\n",
    "\n",
    "data = spark.createDataFrame([\"So glad I am off effexor, so sad it ruined my teeth. tip Please be carefull taking antideppresiva and read about it 1st\",\n",
    "                              \"Religare Capital Ranbaxy has been accepting approval for Diovan since 2012\"], StringType()).toDF(\"text\")\n",
    "              \n",
    "result = pipeline.fit(data).transform(data)\n",
    "\n",
    "result.select(\"text\", \"class.result\").show(truncate=False)"
   ]
  },
  {
   "cell_type": "markdown",
   "metadata": {
    "application/vnd.databricks.v1+cell": {
     "cellMetadata": {
      "byteLimit": 2048000,
      "rowLimit": 10000
     },
     "inputWidgets": {},
     "nuid": "b3dc5ca0-b838-4d96-9153-7ab9ce8e5253",
     "showTitle": false,
     "title": ""
    },
    "id": "KZKFrFoTA8-8"
   },
   "source": [
    "> ### 📌Treatment Changes Sentiment Classifier Model\n",
    "\n",
    "*`bert_sequence_classifier_treatment_changes_sentiment_tweet`*"
   ]
  },
  {
   "cell_type": "code",
   "execution_count": 0,
   "metadata": {
    "application/vnd.databricks.v1+cell": {
     "cellMetadata": {
      "byteLimit": 2048000,
      "rowLimit": 10000
     },
     "inputWidgets": {},
     "nuid": "c99eea73-a032-4c70-b2ee-6b5a6f02388b",
     "showTitle": false,
     "title": ""
    },
    "colab": {
     "base_uri": "https://localhost:8080/"
    },
    "id": "2hySZZAG_wKl",
    "outputId": "a9cd26a9-4356-4d06-e418-87f03e1c192a"
   },
   "outputs": [
    {
     "output_type": "stream",
     "name": "stdout",
     "output_type": "stream",
     "text": [
      "bert_sequence_classifier_treatment_changes_sentiment_tweet download started this may take some time.\n\r[ | ]\r[ / ]\r[ — ]\r[ \\ ]\r[ | ]\r[ / ]\r[ — ]\r[ \\ ]\r[ | ]\r[ / ]\r[ — ]\r[ \\ ]\r[ | ]\r[ / ]\r[ — ]\r[ \\ ]\r[ | ]\r[ / ]\r[ — ]\r[ \\ ]\r[ | ]\r[OK!]\n+---------------------------------------------------------------------------------------------------------+----------+\n|text                                                                                                     |result    |\n+---------------------------------------------------------------------------------------------------------+----------+\n|I love when they say things like this. I took that ambien instead of my thyroid pill.                    |[positive]|\n|I am a 30 year old man who is not overweight but is still on the verge of needing a Lipitor prescription.|[negative]|\n+---------------------------------------------------------------------------------------------------------+----------+\n\n"
     ]
    }
   ],
   "source": [
    "sequenceClassifier = MedicalBertForSequenceClassification.pretrained(\"bert_sequence_classifier_treatment_changes_sentiment_tweet\", \"en\", \"clinical/models\")\\\n",
    "    .setInputCols([\"document\",'token'])\\\n",
    "    .setOutputCol(\"class\")\n",
    "\n",
    "pipeline = Pipeline(stages=[\n",
    "    document_assembler, \n",
    "    tokenizer,\n",
    "    sequenceClassifier\n",
    "])\n",
    "\n",
    "data = spark.createDataFrame([\n",
    "                             [\"I love when they say things like this. I took that ambien instead of my thyroid pill.\"],\n",
    "                             [\"I am a 30 year old man who is not overweight but is still on the verge of needing a Lipitor prescription.\"]\n",
    "                             ]).toDF(\"text\")\n",
    "                          \n",
    "result = pipeline.fit(data).transform(data)\n",
    "\n",
    "result.select(\"text\", \"class.result\").show(truncate=False)"
   ]
  },
  {
   "cell_type": "markdown",
   "metadata": {
    "application/vnd.databricks.v1+cell": {
     "cellMetadata": {
      "byteLimit": 2048000,
      "rowLimit": 10000
     },
     "inputWidgets": {},
     "nuid": "fb7bb5c6-da0c-475d-b529-a84cf817c8fd",
     "showTitle": false,
     "title": ""
    },
    "id": "tfWvQvrPQRDS"
   },
   "source": [
    "## 🔹 MBFSC Models related to Gender and Age"
   ]
  },
  {
   "cell_type": "markdown",
   "metadata": {
    "application/vnd.databricks.v1+cell": {
     "cellMetadata": {
      "byteLimit": 2048000,
      "rowLimit": 10000
     },
     "inputWidgets": {},
     "nuid": "28bf131c-f0b5-45c0-a897-fa3670697f5e",
     "showTitle": false,
     "title": ""
    },
    "id": "EAnXc3BAQ-xS"
   },
   "source": [
    "| model name                                                                                                                                                                    | description                                                                             | predicted entities                                         |\n",
    "|-------------------------------------------------------------------------------------------------------------------------------------------------------------------------------|-----------------------------------------------------------------------------------------|------------------------------------------------------------|\n",
    "|[bert_sequence_classifier_gender_biobert](https://nlp.johnsnowlabs.com/2022/02/08/bert_sequence_classifier_gender_biobert_en.html)                | This model classifies the gender of a patient in a clinical document using context.| `Female` `Male` `Unknown`                  |\n",
    "|[bert_sequence_classifier_exact_age_reddit](https://nlp.johnsnowlabs.com/2022/07/26/bert_sequence_classifier_exact_age_reddit_en_3_0.html)| This model is a BioBERT based classifier that can classify self-report the exact age into social media forum (Reddit) posts.       | `self_report_age` `no_report`|\n",
    "|[bert_sequence_classifier_self_reported_age_tweet](https://nlp.johnsnowlabs.com/2022/07/26/bert_sequence_classifier_self_reported_age_tweet_en_3_0.html)| This model is a BioBERT based classifier that can classify self-report the exact age into social media data.        | `self_report_age` `no_report`|"
   ]
  },
  {
   "cell_type": "markdown",
   "metadata": {
    "application/vnd.databricks.v1+cell": {
     "cellMetadata": {
      "byteLimit": 2048000,
      "rowLimit": 10000
     },
     "inputWidgets": {},
     "nuid": "b058fd6a-46b6-4ff3-827f-7d87156f265c",
     "showTitle": false,
     "title": ""
    },
    "id": "-zzPze9nrMlM"
   },
   "source": [
    "> ### 📌Gender Classifier Model\n",
    "\n",
    "*`bert_sequence_classifier_gender_biobert`*"
   ]
  },
  {
   "cell_type": "code",
   "execution_count": 0,
   "metadata": {
    "application/vnd.databricks.v1+cell": {
     "cellMetadata": {
      "byteLimit": 2048000,
      "rowLimit": 10000
     },
     "inputWidgets": {},
     "nuid": "45b7b635-8395-4a14-a870-1cd4c4621028",
     "showTitle": false,
     "title": ""
    },
    "colab": {
     "base_uri": "https://localhost:8080/"
    },
    "id": "Fhk3ptIPll9b",
    "outputId": "e0c89f79-0a73-44f1-d88a-f532f5b13f3d"
   },
   "outputs": [
    {
     "output_type": "stream",
     "name": "stdout",
     "output_type": "stream",
     "text": [
      "bert_sequence_classifier_gender_biobert download started this may take some time.\n\r[ | ]\r[ / ]\r[ — ]\r[ \\ ]\r[ | ]\r[ / ]\r[ — ]\r[ \\ ]\r[ | ]\r[ / ]\r[ — ]\r[ \\ ]\r[ | ]\r[ / ]\r[OK!]\n+--------------------------------------------------------------+------+\n|text                                                          |result|\n+--------------------------------------------------------------+------+\n|The patient took Advil and he experienced an adverse reaction.|[Male]|\n+--------------------------------------------------------------+------+\n\n"
     ]
    }
   ],
   "source": [
    "sequenceClassifier = MedicalBertForSequenceClassification.pretrained(\"bert_sequence_classifier_gender_biobert\", \"en\", \"clinical/models\")\\\n",
    "  .setInputCols([\"document\",\"token\"]) \\\n",
    "  .setOutputCol(\"class\") \\\n",
    "  .setCaseSensitive(True) \\\n",
    "  .setMaxSentenceLength(512)\n",
    "\n",
    "\n",
    "pipeline = Pipeline(stages=[\n",
    "      document_assembler, \n",
    "      tokenizer,\n",
    "      sequenceClassifier    \n",
    "      ])\n",
    "\n",
    "\n",
    "data = spark.createDataFrame([[\"The patient took Advil and he experienced an adverse reaction.\"]]).toDF(\"text\")\n",
    "result = pipeline.fit(data).transform(data)\n",
    "\n",
    "result.select(\"text\", \"class.result\").show(truncate=False)"
   ]
  },
  {
   "cell_type": "markdown",
   "metadata": {
    "application/vnd.databricks.v1+cell": {
     "cellMetadata": {
      "byteLimit": 2048000,
      "rowLimit": 10000
     },
     "inputWidgets": {},
     "nuid": "9ef6d643-5f2b-4a47-867f-06b677fcade4",
     "showTitle": false,
     "title": ""
    },
    "id": "VNtgECD3Ty7x"
   },
   "source": [
    "# 🔎CLINICAL TRIALS"
   ]
  },
  {
   "cell_type": "markdown",
   "metadata": {
    "application/vnd.databricks.v1+cell": {
     "cellMetadata": {
      "byteLimit": 2048000,
      "rowLimit": 10000
     },
     "inputWidgets": {},
     "nuid": "54bddca3-2c81-413c-8cce-1bef97f391bd",
     "showTitle": false,
     "title": ""
    },
    "id": "atlhJXivUHnc"
   },
   "source": [
    "## 🔹 MBFSC Models related to RCT(Randomized Clinical Trials)"
   ]
  },
  {
   "cell_type": "markdown",
   "metadata": {
    "application/vnd.databricks.v1+cell": {
     "cellMetadata": {
      "byteLimit": 2048000,
      "rowLimit": 10000
     },
     "inputWidgets": {},
     "nuid": "7e5918cd-14a5-493f-acc5-1f5ecad571a0",
     "showTitle": false,
     "title": ""
    },
    "id": "5IvsreUrU641"
   },
   "source": [
    "| model name                                                                                                                                                                    | description                                                                             | predicted entities                                         |\n",
    "|-------------------------------------------------------------------------------------------------------------------------------------------------------------------------------|-----------------------------------------------------------------------------------------|------------------------------------------------------------|\n",
    "|[bert_sequence_classifier_rct_biobert](https://nlp.johnsnowlabs.com/2022/03/01/bert_sequence_classifier_rct_biobert_en_3_0.html)                                           | This model is a BioBERT-based classifier that can classify the sections within the abstracts of scientific articles regarding randomized clinical trials (RCT).                       | `BACKGROUND` `CONCLUSIONS` `METHODS` `OBJECTIVE` `RESULTS`                                          |\n",
    "|[bert_sequence_classifier_binary_rct_biobert](https://nlp.johnsnowlabs.com/2022/04/25/bert_sequence_classifier_binary_rct_biobert_en_3_0.html)             | This model is a BioBERT based classifier that can classify if an article is a randomized clinical trial (RCT) or not.                            | `True` `False                               |"
   ]
  },
  {
   "cell_type": "markdown",
   "metadata": {
    "application/vnd.databricks.v1+cell": {
     "cellMetadata": {
      "byteLimit": 2048000,
      "rowLimit": 10000
     },
     "inputWidgets": {},
     "nuid": "5d0a50fe-ebe7-4ed6-95eb-2010a75f3005",
     "showTitle": false,
     "title": ""
    },
    "id": "za5sfg09U_UK"
   },
   "source": [
    "### 📌RCT Classifier Model\n",
    "\n",
    "*`bert_sequence_classifier_rct_biobert`*"
   ]
  },
  {
   "cell_type": "code",
   "execution_count": 0,
   "metadata": {
    "application/vnd.databricks.v1+cell": {
     "cellMetadata": {
      "byteLimit": 2048000,
      "rowLimit": 10000
     },
     "inputWidgets": {},
     "nuid": "2778e725-2694-4e0c-84e8-fd0aff8b8cdf",
     "showTitle": false,
     "title": ""
    },
    "colab": {
     "base_uri": "https://localhost:8080/"
    },
    "id": "ZZYE5eFuU-z1",
    "outputId": "cb2a7e12-dad7-4db7-9065-2e98d0862a14"
   },
   "outputs": [
    {
     "output_type": "stream",
     "name": "stdout",
     "output_type": "stream",
     "text": [
      "bert_sequence_classifier_rct_biobert download started this may take some time.\n\r[ | ]\r[ / ]\r[ — ]\r[ \\ ]\r[ | ]\r[ / ]\r[ — ]\r[ \\ ]\r[ | ]\r[ / ]\r[ — ]\r[ \\ ]\r[ | ]\r[ / ]\r[ — ]\r[ \\ ]\r[ | ]\r[ / ]\r[ — ]\r[ \\ ]\r[ | ]\r[OK!]\n+----------------------------------------------------------------------------------------------------+------------+\n|                                                                                                text|      result|\n+----------------------------------------------------------------------------------------------------+------------+\n|Previous attempts to prevent all the unwanted postoperative responses to major surgery with an ep...|[BACKGROUND]|\n+----------------------------------------------------------------------------------------------------+------------+\n\n"
     ]
    }
   ],
   "source": [
    "sequenceClassifier_loaded = MedicalBertForSequenceClassification.pretrained(\"bert_sequence_classifier_rct_biobert\", \"en\", \"clinical/models\")\\\n",
    "  .setInputCols([\"document\",'token'])\\\n",
    "  .setOutputCol(\"class\")\n",
    "\n",
    "\n",
    "pipeline = Pipeline(stages=[\n",
    "  document_assembler, \n",
    "  tokenizer,\n",
    "  sequenceClassifier_loaded   \n",
    "  ])\n",
    "\n",
    "\n",
    "data = spark.createDataFrame([[\"\"\"Previous attempts to prevent all the unwanted postoperative responses to major surgery with an epidural hydrophilic opioid , morphine , have not succeeded . The authors ' hypothesis was that the lipophilic opioid fentanyl , infused epidurally close to the spinal-cord opioid receptors corresponding to the dermatome of the surgical incision , gives equal pain relief but attenuates postoperative hormonal and metabolic responses more effectively than does systemic fentanyl .\"\"\"]]).toDF(\"text\")\n",
    "\n",
    "result = pipeline.fit(data).transform(data)\n",
    "\n",
    "result.select(\"text\", \"class.result\").show(truncate=100)"
   ]
  },
  {
   "cell_type": "markdown",
   "metadata": {
    "application/vnd.databricks.v1+cell": {
     "cellMetadata": {
      "byteLimit": 2048000,
      "rowLimit": 10000
     },
     "inputWidgets": {},
     "nuid": "f290e070-f0cd-4f55-8a29-a740efe72243",
     "showTitle": false,
     "title": ""
    },
    "id": "EUaUwOvwcXme"
   },
   "source": [
    "# **☞ MBFSC Models in Other Languages**"
   ]
  },
  {
   "cell_type": "markdown",
   "metadata": {
    "application/vnd.databricks.v1+cell": {
     "cellMetadata": {
      "byteLimit": 2048000,
      "rowLimit": 10000
     },
     "inputWidgets": {},
     "nuid": "161cbf43-adfa-4ea1-8f2d-1cac7fd641a9",
     "showTitle": false,
     "title": ""
    },
    "id": "G0qjx_VaceYR"
   },
   "source": [
    "## 🔎German"
   ]
  },
  {
   "cell_type": "markdown",
   "metadata": {
    "application/vnd.databricks.v1+cell": {
     "cellMetadata": {
      "byteLimit": 2048000,
      "rowLimit": 10000
     },
     "inputWidgets": {},
     "nuid": "cfb78a9f-03e6-469e-ad30-d2654795fd14",
     "showTitle": false,
     "title": ""
    },
    "id": "sRiflW6YjhQh"
   },
   "source": [
    "| model name                                                                                                                                                                    | description                                                                             | predicted entities                                         |\n",
    "|-------------------------------------------------------------------------------------------------------------------------------------------------------------------------------|-----------------------------------------------------------------------------------------|------------------------------------------------------------|\n",
    "|[bert_sequence_classifier_health_mentions_gbert_large](https://nlp.johnsnowlabs.com/2022/08/10/bert_sequence_classifier_health_mentions_gbert_large_de_3_0.html)                                           | This model is a GBERT-large based sequence classification model that can classify public health mentions in German social media text.                    | `non-health` `health-related`                                           |\n",
    "|[bert_sequence_classifier_health_mentions_bert](https://nlp.johnsnowlabs.com/2022/08/10/bert_sequence_classifier_health_mentions_bert_de_3_0.html)                                           | This model is a bert-base-german based sequence classification model that can classify public health mentions in German social media text.                     | `non-health` `health-related`                                           |\n",
    "|[bert_sequence_classifier_health_mentions_gbert](https://nlp.johnsnowlabs.com/2022/08/10/bert_sequence_classifier_health_mentions_gbert_de_3_0.html)                                           | This model is a GBERT-base based sequence classification model that can classify public health mentions in German social media text.                    | `non-health` `health-related`                                          |\n",
    "|[bert_sequence_classifier_health_mentions_medbert](https://nlp.johnsnowlabs.com/2022/08/10/bert_sequence_classifier_health_mentions_medbert_de_3_0.html)                                           | This model is a German-MedBERT based sequence classification model that can classify public health mentions in German social media text.                    |  `non-health` `health-related`                                          |"
   ]
  },
  {
   "cell_type": "markdown",
   "metadata": {
    "application/vnd.databricks.v1+cell": {
     "cellMetadata": {
      "byteLimit": 2048000,
      "rowLimit": 10000
     },
     "inputWidgets": {},
     "nuid": "7e326453-70a0-4e40-9799-393d1210d63d",
     "showTitle": false,
     "title": ""
    },
    "id": "UrfbJq08joNl"
   },
   "source": [
    "### 📌Public Health Mention Classifier Model\n",
    "\n",
    "*`bert_sequence_classifier_health_mentions_gbert_large`*"
   ]
  },
  {
   "cell_type": "code",
   "execution_count": 0,
   "metadata": {
    "application/vnd.databricks.v1+cell": {
     "cellMetadata": {
      "byteLimit": 2048000,
      "rowLimit": 10000
     },
     "inputWidgets": {},
     "nuid": "f0a155ac-08c0-49e4-884f-ba22ec45058c",
     "showTitle": false,
     "title": ""
    },
    "colab": {
     "base_uri": "https://localhost:8080/"
    },
    "id": "XWEF2Ot1iEHM",
    "outputId": "f4c17442-e6b4-46e5-9820-4d56c830cbd5"
   },
   "outputs": [
    {
     "output_type": "stream",
     "name": "stdout",
     "output_type": "stream",
     "text": [
      "bert_sequence_classifier_health_mentions_bert download started this may take some time.\n\r[ | ]\r[ / ]\r[ — ]\r[ \\ ]\r[ | ]\r[ / ]\r[ — ]\r[ \\ ]\r[ | ]\r[ / ]\r[ — ]\r[ \\ ]\r[ | ]\r[ / ]\r[ — ]\r[ \\ ]\r[ | ]\r[ / ]\r[ — ]\r[ \\ ]\r[ | ]\r[ / ]\r[ — ]\r[OK!]\n+---------------------------------------------------------------------------------------------------+----------------+\n|text                                                                                               |result          |\n+---------------------------------------------------------------------------------------------------+----------------+\n|Durch jahrelanges Rauchen habe ich meine Lunge einfach zu sehr geschädigt - Punkt.                 |[health-related]|\n|die Schatzsuche war das Highlight beim Kindergeburtstag, die kids haben noch lange davon gesprochen|[non-health]    |\n+---------------------------------------------------------------------------------------------------+----------------+\n\n"
     ]
    }
   ],
   "source": [
    "sequenceClassifier = MedicalBertForSequenceClassification.pretrained(\"bert_sequence_classifier_health_mentions_bert\", \"de\", \"clinical/models\")\\\n",
    "    .setInputCols([\"document\",\"token\"])\\\n",
    "    .setOutputCol(\"class\")\n",
    "\n",
    "pipeline = Pipeline(stages=[\n",
    "    document_assembler, \n",
    "    tokenizer,\n",
    "    sequenceClassifier    \n",
    "])\n",
    "\n",
    "data = spark.createDataFrame([\n",
    "      [\"Durch jahrelanges Rauchen habe ich meine Lunge einfach zu sehr geschädigt - Punkt.\"],\n",
    "      [\"die Schatzsuche war das Highlight beim Kindergeburtstag, die kids haben noch lange davon gesprochen\"]\n",
    "      ]).toDF(\"text\")\n",
    "\n",
    "result = pipeline.fit(data).transform(data)\n",
    "\n",
    "result.select(\"text\", \"class.result\").show(truncate=False)"
   ]
  },
  {
   "cell_type": "markdown",
   "metadata": {
    "application/vnd.databricks.v1+cell": {
     "cellMetadata": {
      "byteLimit": 2048000,
      "rowLimit": 10000
     },
     "inputWidgets": {},
     "nuid": "34cc031a-6f4b-47fc-8490-4e15a3f5bfbf",
     "showTitle": false,
     "title": ""
    },
    "id": "zBmbwKrtjv9a"
   },
   "source": [
    "## 🔎Spanish"
   ]
  },
  {
   "cell_type": "markdown",
   "metadata": {
    "application/vnd.databricks.v1+cell": {
     "cellMetadata": {
      "byteLimit": 2048000,
      "rowLimit": 10000
     },
     "inputWidgets": {},
     "nuid": "f82632a3-72ce-4b68-a853-0be27a8090fe",
     "showTitle": false,
     "title": ""
    },
    "id": "JNKshydqkUix"
   },
   "source": [
    "| model name                                                                                                                                                                    | description                                                                             | predicted entities                                         |\n",
    "|-------------------------------------------------------------------------------------------------------------------------------------------------------------------------------|-----------------------------------------------------------------------------------------|------------------------------------------------------------|\n",
    "|[bert_sequence_classifier_self_reported_symptoms_tweet](https://nlp.johnsnowlabs.com/2022/07/28/bert_sequence_classifier_self_reported_symptoms_tweet_es_3_0.html)                                           | This model is a BERT based classifier that can classify the origin of symptoms related to Covid-19 from Spanish tweets.                     | `Lit-News_mentions` `Self_reports` ` non-personal_reports`                                        |"
   ]
  },
  {
   "cell_type": "markdown",
   "metadata": {
    "application/vnd.databricks.v1+cell": {
     "cellMetadata": {
      "byteLimit": 2048000,
      "rowLimit": 10000
     },
     "inputWidgets": {},
     "nuid": "7a41ff7c-ae19-4534-88dc-431e7fc5ee27",
     "showTitle": false,
     "title": ""
    },
    "id": "ztOmd_WakX3Q"
   },
   "source": [
    "### 📌Self Reported Symptoms Classifier Model\n",
    "\n",
    "*`bert_sequence_classifier_self_reported_symptoms_tweet`*"
   ]
  },
  {
   "cell_type": "code",
   "execution_count": 0,
   "metadata": {
    "application/vnd.databricks.v1+cell": {
     "cellMetadata": {
      "byteLimit": 2048000,
      "rowLimit": 10000
     },
     "inputWidgets": {},
     "nuid": "79e38007-f5f7-44ff-beb3-76bdc0905a31",
     "showTitle": false,
     "title": ""
    },
    "colab": {
     "base_uri": "https://localhost:8080/"
    },
    "id": "uf55syfuj3TM",
    "outputId": "5e31e11c-c830-428b-9ad9-07028e2e90a1"
   },
   "outputs": [
    {
     "output_type": "stream",
     "name": "stdout",
     "output_type": "stream",
     "text": [
      "bert_sequence_classifier_self_reported_symptoms_tweet download started this may take some time.\n\r[ | ]\r[ / ]\r[ — ]\r[ \\ ]\r[ | ]\r[ / ]\r[ — ]\r[ \\ ]\r[ | ]\r[ / ]\r[ — ]\r[ \\ ]\r[ | ]\r[ / ]\r[ — ]\r[ \\ ]\r[ | ]\r[ / ]\r[ — ]\r[ \\ ]\r[ | ]\r[ / ]\r[ — ]\r[ \\ ]\r[ | ]\r[OK!]\n+-------------------------------------------------------------------------------------------------------------------------------------------------+----------------------+\n|text                                                                                                                                             |result                |\n+-------------------------------------------------------------------------------------------------------------------------------------------------+----------------------+\n|Las vacunas 3 y hablamos inminidad vivo  Son bichito vivo dentro de lÃ­quido de la vacuna suelen tener reacciones alÃorgicas si que sepan        |[non-personal_reports]|\n|Yo pense que me estaba dando el  coronavirus porque cuando me levante  casi no podia respirar pero que si era que tenia la nariz topada de mocos.|[Self_reports]        |\n|Tos, dolor de garganta y fiebre, los síntomas más reportados por los porteños con coronavirus                                                    |[Lit-News_mentions]   |\n+-------------------------------------------------------------------------------------------------------------------------------------------------+----------------------+\n\n"
     ]
    }
   ],
   "source": [
    "sequenceClassifier = MedicalBertForSequenceClassification.pretrained(\"bert_sequence_classifier_self_reported_symptoms_tweet\", \"es\", \"clinical/models\")\\\n",
    "    .setInputCols([\"document\", \"token\"])\\\n",
    "    .setOutputCol(\"class\")\\\n",
    "    .setCaseSensitive(True)\\\n",
    "    .setMaxSentenceLength(512)\n",
    "\n",
    "pipeline = Pipeline(stages=[\n",
    "    document_assembler, \n",
    "    tokenizer,\n",
    "    sequenceClassifier\n",
    "    ])\n",
    "\n",
    "\n",
    "\n",
    "data = spark.createDataFrame([\"Las vacunas 3 y hablamos inminidad vivo  Son bichito vivo dentro de lÃ­quido de la vacuna suelen tener reacciones alÃorgicas si que sepan\",\n",
    "                              \"Yo pense que me estaba dando el  coronavirus porque cuando me levante  casi no podia respirar pero que si era que tenia la nariz topada de mocos.\",\n",
    "                              \"Tos, dolor de garganta y fiebre, los síntomas más reportados por los porteños con coronavirus\"], StringType()).toDF(\"text\")\n",
    "\n",
    "result = pipeline.fit(data).transform(data)\n",
    "\n",
    "result.select(\"text\", \"class.result\").show(truncate=False)"
   ]
  }
 ],
 "metadata": {
  "application/vnd.databricks.v1+notebook": {
   "dashboards": [],
   "language": "python",
   "notebookMetadata": {
    "pythonIndentUnit": 2
   },
   "notebookName": "21.MedicalBertForSequenceClassification_in_SparkNLP",
   "widgets": {}
  },
  "colab": {
   "collapsed_sections": [],
   "machine_shape": "hm",
   "provenance": []
  },
  "kernelspec": {
   "display_name": "Python 3",
   "name": "python3"
  },
  "language_info": {
   "name": "python"
  }
 },
 "nbformat": 4,
 "nbformat_minor": 0
}

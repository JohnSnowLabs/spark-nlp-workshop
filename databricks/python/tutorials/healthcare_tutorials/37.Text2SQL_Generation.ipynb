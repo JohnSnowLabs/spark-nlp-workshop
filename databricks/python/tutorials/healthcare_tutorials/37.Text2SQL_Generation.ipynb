{
 "cells": [
  {
   "cell_type": "markdown",
   "metadata": {
    "application/vnd.databricks.v1+cell": {
     "cellMetadata": {},
     "inputWidgets": {},
     "nuid": "8c85ea53-9ec1-43c9-9f02-6a1e4e5a823d",
     "showTitle": false,
     "title": ""
    },
    "id": "JWCwiy5flBq7"
   },
   "source": [
    "![JohnSnowLabs](https://nlp.johnsnowlabs.com/assets/images/logo.png)\n"
   ]
  },
  {
   "cell_type": "markdown",
   "metadata": {
    "application/vnd.databricks.v1+cell": {
     "cellMetadata": {},
     "inputWidgets": {},
     "nuid": "df7d2b7a-4138-4ee0-954f-170626655199",
     "showTitle": false,
     "title": ""
    },
    "id": "5hzypXmUlNYC"
   },
   "source": [
    "# **Text2SQL Generation**"
   ]
  },
  {
   "cell_type": "markdown",
   "metadata": {
    "application/vnd.databricks.v1+cell": {
     "cellMetadata": {},
     "inputWidgets": {},
     "nuid": "39839c45-6348-44d9-85c9-8b3b4f2c47f6",
     "showTitle": false,
     "title": ""
    },
    "id": "cR1mia8SxJVA"
   },
   "source": [
    "The Text-to-SQL task, which involves automatically converting natural language questions into corresponding SQL queries, has seen significant advancements with the application of state-of-the-art models. In this direction, We are excited to introduce our new Text2SQL annotator. This powerful tool revolutionizes the way you interact with databases by effortlessly translating natural language text prompts into accurate and effective SQL queries. With the integration of a state-of-the-art LLM, this annotator opens new possibilities for enhanced data retrieval and manipulation, streamlining your workflow and boosting efficiency.\n",
    "\n",
    "Also we have a new text2sql_mimicsql model that is specifically finetuned on MIMIC-III dataset schema for enhancing the precision of SQL queries derived from medical natural language queries on MIMIC dataset.\n",
    "\n",
    "In addition, we introduced two models can generate SQL queries from natural questions and custom database schemas with a single table. It is based on a large-size LLM, which is finetuned by John Snow Labs on a dataset having schemas with single tables.\n",
    "\n",
    "The model \"***text2sql_with_schema_single_table_augmented***\" trained on an augmented dataset achieves the new State-Of-The-Art (SOTA) for this task.\n",
    "\n",
    "\n",
    "Available models can be found at the [Models Hub](https://nlp.johnsnowlabs.com/models?annotator=Text2SQL).\n"
   ]
  },
  {
   "cell_type": "code",
   "execution_count": 0,
   "metadata": {
    "application/vnd.databricks.v1+cell": {
     "cellMetadata": {
      "byteLimit": 2048000,
      "rowLimit": 10000
     },
     "inputWidgets": {},
     "nuid": "8c39e7f2-a508-491b-abfd-2636fd52b20f",
     "showTitle": false,
     "title": ""
    },
    "colab": {
     "base_uri": "https://localhost:8080/",
     "height": 271
    },
    "id": "L1LFkCjFMyxi",
    "outputId": "bee29900-ad1c-4248-a9c6-d39bf86a17dc"
   },
   "outputs": [
    {
     "output_type": "stream",
     "name": "stdout",
     "output_type": "stream",
     "text": [
      "sparknlp.version :  5.1.0\nsparknlp_jsl.version :  5.1.0\n"
     ]
    },
    {
     "output_type": "execute_result",
     "data": {
      "text/html": [
       "\n",
       "            <div>\n",
       "                <p><b>SparkSession - hive</b></p>\n",
       "                \n",
       "        <div>\n",
       "            <p><b>SparkContext</b></p>\n",
       "\n",
       "            <p><a href=\"/?o=7956323724731612#setting/sparkui/0725-092232-stftp6wi/driver-5080057209118411441\">Spark UI</a></p>\n",
       "\n",
       "            <dl>\n",
       "              <dt>Version</dt>\n",
       "                <dd><code>v3.4.1</code></dd>\n",
       "              <dt>Master</dt>\n",
       "                <dd><code>spark://10.139.64.10:7077</code></dd>\n",
       "              <dt>AppName</dt>\n",
       "                <dd><code>Databricks Shell</code></dd>\n",
       "            </dl>\n",
       "        </div>\n",
       "        \n",
       "            </div>\n",
       "        "
      ],
      "text/plain": [
       "<pyspark.sql.session.SparkSession at 0x7f209b2611b0>"
      ]
     },
     "execution_count": 1,
     "metadata": {},
     "output_type": "execute_result"
    }
   ],
   "source": [
    "import functools \n",
    "import numpy as np\n",
    "import pandas as pd\n",
    "from scipy import spatial\n",
    "\n",
    "import pyspark.sql.types as T\n",
    "from pyspark.ml import Pipeline\n",
    "from pyspark.sql import SparkSession\n",
    "from pyspark.sql import functions as F\n",
    "\n",
    "import sparknlp\n",
    "import sparknlp_jsl\n",
    "from sparknlp.base import *\n",
    "from sparknlp.annotator import *\n",
    "from sparknlp_jsl.annotator import *\n",
    "\n",
    "\n",
    "pd.set_option('max_colwidth', 100)\n",
    "pd.set_option('display.max_columns', 100)  \n",
    "pd.set_option('display.expand_frame_repr', False)\n",
    "\n",
    "\n",
    "print('sparknlp.version : ',sparknlp.version())\n",
    "print('sparknlp_jsl.version : ',sparknlp_jsl.version())\n",
    "\n",
    "spark"
   ]
  },
  {
   "cell_type": "markdown",
   "metadata": {
    "application/vnd.databricks.v1+cell": {
     "cellMetadata": {},
     "inputWidgets": {},
     "nuid": "48abc4e9-ae81-4f2d-b9dd-d6d1c6fd29fb",
     "showTitle": false,
     "title": ""
    },
    "id": "7Nv8ISD_ltNo"
   },
   "source": [
    "# 🔎 MODELS"
   ]
  },
  {
   "cell_type": "markdown",
   "metadata": {
    "application/vnd.databricks.v1+cell": {
     "cellMetadata": {},
     "inputWidgets": {},
     "nuid": "156b6721-06ce-4519-8019-d7032003069e",
     "showTitle": false,
     "title": ""
    },
    "id": "7ymKYxvOVI89"
   },
   "source": [
    "<div align=\"center\">\n",
    "\n",
    "| **Index** | **Text2SQL models**        |\n",
    "|---------------|----------------------|\n",
    "| 1        |  [text2sql_mimicsql](https://nlp.johnsnowlabs.com/2023/08/14/text2sql_mimicsql_en.html)     |\n",
    "  2       |   [text2sql_with_schema_single_table](https://nlp.johnsnowlabs.com/2023/09/02/text2sql_with_schema_single_table_en.html)   \n",
    "  3      | [text2sql_with_schema_single_table_augmented](https://nlp.johnsnowlabs.com/2023/09/25/text2sql_with_schema_single_table_augmented_en.html)\n",
    "\n",
    "\n",
    "</div>"
   ]
  },
  {
   "cell_type": "markdown",
   "metadata": {
    "application/vnd.databricks.v1+cell": {
     "cellMetadata": {},
     "inputWidgets": {},
     "nuid": "84c4437d-3bdc-42fb-aaaa-ff3a7a5b4d66",
     "showTitle": false,
     "title": ""
    },
    "id": "EUP83I58lxPD"
   },
   "source": [
    "## 📑  **Text2SQL_MIMICSQL**\n",
    "\n",
    "This model is based on the LLM FlanT5-Large, which is finetuned with a biomedical dataset (MIMICSQL) by John Snow Labs. It can generate SQL queries from medical natural language questions on MIMIC-III dataset."
   ]
  },
  {
   "cell_type": "code",
   "execution_count": 0,
   "metadata": {
    "application/vnd.databricks.v1+cell": {
     "cellMetadata": {
      "byteLimit": 2048000,
      "rowLimit": 10000
     },
     "inputWidgets": {},
     "nuid": "3b0b0dcc-82a4-404d-b63a-5f6d0b26f606",
     "showTitle": false,
     "title": ""
    },
    "id": "zb26jOqQdoQh"
   },
   "outputs": [
    {
     "output_type": "stream",
     "name": "stdout",
     "output_type": "stream",
     "text": [
      "text2sql_mimicsql download started this may take some time.\n\r[ | ]\r[ / ]\r[ — ]\r[ \\ ]\r[ | ]\r[ / ]\r[ — ]\r[ \\ ]\r[ | ]\r[ / ]\r[ — ]\r[ \\ ]\r[ | ]\r[ / ]\r[ — ]\r[ \\ ]\r[ | ]\r[ / ]\r[ — ]\r[ \\ ]\r[ | ]\r[ / ]\r[ — ]\r[ \\ ]\r[ | ]\r[ / ]\r[ — ]\r[ \\ ]\r[ | ]\r[ / ]\r[ — ]\r[ \\ ]\r[ | ]\r[ / ]\r[ — ]\r[ \\ ]\r[ | ]\r[ / ]\r[ — ]\r[ \\ ]\r[ | ]\r[ / ]\r[ — ]\r[ \\ ]\r[ | ]\r[ / ]\r[ — ]\r[ \\ ]\r[ | ]\r[OK!]\n"
     ]
    }
   ],
   "source": [
    "document_assembler = DocumentAssembler()\\\n",
    "    .setInputCol(\"prompt\")\\\n",
    "    .setOutputCol(\"document_prompt\")\n",
    "\n",
    "text2sql_mimicsql  = Text2SQL.pretrained(\"text2sql_mimicsql\", \"en\", \"clinical/models\")\\\n",
    "    .setInputCols(\"document_prompt\")\\\n",
    "    .setOutputCol(\"sql_query\")\\\n",
    "\n",
    "pipeline = Pipeline(stages=[document_assembler, text2sql_mimicsql])\n",
    "\n",
    "model = pipeline.fit(spark.createDataFrame([[\"\"]]).toDF(\"prompt\"))"
   ]
  },
  {
   "cell_type": "code",
   "execution_count": 0,
   "metadata": {
    "application/vnd.databricks.v1+cell": {
     "cellMetadata": {
      "byteLimit": 2048000,
      "rowLimit": 10000
     },
     "inputWidgets": {},
     "nuid": "3a3819d4-e92b-4d28-a21f-a82d7b61f359",
     "showTitle": false,
     "title": ""
    },
    "colab": {
     "base_uri": "https://localhost:8080/"
    },
    "id": "2r6gRCtnpFMi",
    "outputId": "64afd022-16e9-46f6-8ebc-32bd754784f2"
   },
   "outputs": [
    {
     "output_type": "stream",
     "name": "stdout",
     "output_type": "stream",
     "text": [
      "+-------------------------------------------------------------------------------------------------------------------------------------------------------------------------------------------------------------------------------------------------------------------------+\n|result                                                                                                                                                                                                                                                                   |\n+-------------------------------------------------------------------------------------------------------------------------------------------------------------------------------------------------------------------------------------------------------------------------+\n|[SELECT AVG ( DEMOGRAPHIC.\"AGE\" ) FROM DEMOGRAPHIC INNER JOIN DIAGNOSES on DEMOGRAPHIC.HADM_ID = DIAGNOSES.HADM_ID INNER JOIN PRESCRIPTIONS on DEMOGRAPHIC.HADM_ID = PRESCRIPTIONS.HADM_ID WHERE DIAGNOSES.\"SHORT_TITLE\" = \"Specific hst\" AND PRESCRIPTIONS.\"DRUG\" = \"1\"]|\n|[SELECT COUNT ( DISTINCT DEMOGRAPHIC.\"SUBJECT_ID\" ) FROM DEMOGRAPHIC INNER JOIN PROCEDURES on DEMOGRAPHIC.HADM_ID = PROCEDURES.HADM_ID WHERE PROCEDURES.\"SHORT_TITLE\" = \"1 int mam-cor art bypass\"]                                                                      |\n|[SELECT PRESCRIPTIONS.\"FORMULARY_DRUG_CD\",PRESCRIPTIONS.\"DRUG_DOSE\" FROM DEMOGRAPHIC INNER JOIN PRESCRIPTIONS on DEMOGRAPHIC.HADM_ID = PRESCRIPTIONS.HADM_ID WHERE DEMOGRAPHIC.\"NAME\" = \"Anna Johnson\"]                                                                  |\n|[SELECT MIN ( DEMOGRAPHIC.\"AGE\" ) FROM DEMOGRAPHIC WHERE DEMOGRAPHIC.\"MARITAL_STATUS\" = \"MARRIED\" AND DEMOGRAPHIC.\"ADMISSION_TYPE\" = \"ELECTIVE\"]                                                                                                                         |\n|[SELECT MAX ( DEMOGRAPHIC.\"AGE\" ) FROM DEMOGRAPHIC WHERE DEMOGRAPHIC.\"DAYS_STAY\" = \"20\" AND DEMOGRAPHIC.\"DOD_YEAR\" < \"2023.0\"]                                                                                                                                           |\n+-------------------------------------------------------------------------------------------------------------------------------------------------------------------------------------------------------------------------------------------------------------------------+\n\n"
     ]
    }
   ],
   "source": [
    "text = [\"Find the average number of prescriptions per patient for patients with a specific diagnosis.\",\n",
    "        \"give me the number of patients who had single internal mammary-coronary artery bypass.\",\n",
    "        \"provide the drug code and drug dose for anna johnson.\",\n",
    "        \"calculate the minimum age of married patients who had elective type hospital admission.\",\n",
    "        \"What is the maximum age of patients who were hospitalized for 20 days and died before 2023 ?\"]\n",
    "\n",
    "data = spark.createDataFrame([(prompt,) for prompt in text], [\"prompt\"])\n",
    "\n",
    "result = model.transform(data)\n",
    "\n",
    "result.select(\"sql_query.result\").show(truncate=False)"
   ]
  },
  {
   "cell_type": "markdown",
   "metadata": {
    "application/vnd.databricks.v1+cell": {
     "cellMetadata": {},
     "inputWidgets": {},
     "nuid": "fb873e7c-7fb3-4a3c-b8b4-d18f8a46c1f3",
     "showTitle": false,
     "title": ""
    },
    "id": "4GjbnXm0ghO7"
   },
   "source": [
    "### **📍 LightPipelines**"
   ]
  },
  {
   "cell_type": "code",
   "execution_count": 0,
   "metadata": {
    "application/vnd.databricks.v1+cell": {
     "cellMetadata": {
      "byteLimit": 2048000,
      "rowLimit": 10000
     },
     "inputWidgets": {},
     "nuid": "7e252f06-d21a-4fea-ba7c-88ac5b6b475a",
     "showTitle": false,
     "title": ""
    },
    "id": "iKkS0XACWiit"
   },
   "outputs": [],
   "source": [
    "light_model = LightPipeline(model)\n",
    "light_result = light_model.annotate(text)"
   ]
  },
  {
   "cell_type": "code",
   "execution_count": 0,
   "metadata": {
    "application/vnd.databricks.v1+cell": {
     "cellMetadata": {
      "byteLimit": 2048000,
      "rowLimit": 10000
     },
     "inputWidgets": {},
     "nuid": "00188a23-58f8-4a12-8449-e9454798c452",
     "showTitle": false,
     "title": ""
    },
    "colab": {
     "base_uri": "https://localhost:8080/"
    },
    "id": "WER8CYY1WigZ",
    "outputId": "4248129a-382f-4c73-e630-70be7e795c93"
   },
   "outputs": [
    {
     "output_type": "stream",
     "name": "stdout",
     "output_type": "stream",
     "text": [
      "➤ User query: 1: \nFind the average number of prescriptions per patient for patients with a specific diagnosis.\n\n\n➤ SQL query 1: \nSELECT AVG ( DEMOGRAPHIC.\"AGE\" ) FROM DEMOGRAPHIC INNER JOIN DIAGNOSES on DEMOGRAPHIC.HADM_ID = DIAGNOSES.HADM_ID INNER JOIN PRESCRIPTIONS on DEMOGRAPHIC.HADM_ID = PRESCRIPTIONS.HADM_ID WHERE DIAGNOSES.\"SHORT_TITLE\" = \"Specific hst\" AND PRESCRIPTIONS.\"DRUG\" = \"1\"\n\n\n➤ User query: 2: \ngive me the number of patients who had single internal mammary-coronary artery bypass.\n\n\n➤ SQL query 2: \nSELECT COUNT ( DISTINCT DEMOGRAPHIC.\"SUBJECT_ID\" ) FROM DEMOGRAPHIC INNER JOIN PROCEDURES on DEMOGRAPHIC.HADM_ID = PROCEDURES.HADM_ID WHERE PROCEDURES.\"SHORT_TITLE\" = \"1 int mam-cor art bypass\"\n\n\n➤ User query: 3: \nprovide the drug code and drug dose for anna johnson.\n\n\n➤ SQL query 3: \nSELECT PRESCRIPTIONS.\"FORMULARY_DRUG_CD\",PRESCRIPTIONS.\"DRUG_DOSE\" FROM DEMOGRAPHIC INNER JOIN PRESCRIPTIONS on DEMOGRAPHIC.HADM_ID = PRESCRIPTIONS.HADM_ID WHERE DEMOGRAPHIC.\"NAME\" = \"Anna Johnson\"\n\n\n➤ User query: 4: \ncalculate the minimum age of married patients who had elective type hospital admission.\n\n\n➤ SQL query 4: \nSELECT MIN ( DEMOGRAPHIC.\"AGE\" ) FROM DEMOGRAPHIC WHERE DEMOGRAPHIC.\"MARITAL_STATUS\" = \"MARRIED\" AND DEMOGRAPHIC.\"ADMISSION_TYPE\" = \"ELECTIVE\"\n\n\n➤ User query: 5: \nWhat is the maximum age of patients who were hospitalized for 20 days and died before 2023 ?\n\n\n➤ SQL query 5: \nSELECT MAX ( DEMOGRAPHIC.\"AGE\" ) FROM DEMOGRAPHIC WHERE DEMOGRAPHIC.\"DAYS_STAY\" = \"20\" AND DEMOGRAPHIC.\"DOD_YEAR\" < \"2023.0\"\n\n\n"
     ]
    }
   ],
   "source": [
    "for i in range(len(light_result)):\n",
    "    document_text = light_result[i]['document_prompt'][0]\n",
    "    summary_text = light_result[i]['sql_query'][0]\n",
    "\n",
    "    print(\"➤ User query: {}: \\n{}\".format(i+1, document_text))\n",
    "    print(\"\\n\")\n",
    "    print(\"➤ SQL query {}: \\n{}\".format(i+1, summary_text))\n",
    "    print(\"\\n\")"
   ]
  },
  {
   "cell_type": "markdown",
   "metadata": {
    "application/vnd.databricks.v1+cell": {
     "cellMetadata": {},
     "inputWidgets": {},
     "nuid": "5c3813b5-5544-410a-b0dc-e6b6676cbbc5",
     "showTitle": false,
     "title": ""
    }
   },
   "source": [
    "<b><h1><font color='darkred'>!!! ATTENTION !!! </font><h1><b>\n",
    "\n",
    "<b>Before continue, <font color='darkred'>Please chek your spark-nlp version it must be 5.1.1</font> <b>\n"
   ]
  },
  {
   "cell_type": "markdown",
   "metadata": {
    "application/vnd.databricks.v1+cell": {
     "cellMetadata": {},
     "inputWidgets": {},
     "nuid": "58fb05f4-48c9-46e2-86b7-194ff6694540",
     "showTitle": false,
     "title": ""
    },
    "id": "RFaz3NkAoX8J"
   },
   "source": [
    "## 📑  **Text2SQL_With_Schema_Single_Table**\n",
    "\n",
    "\n",
    "This model can generate SQL queries from natural questions and custom database schemas with a single table. It is based on a large-size LLM, which is finetuned by John Snow Labs on a dataset having schemas with single tables."
   ]
  },
  {
   "cell_type": "code",
   "execution_count": 0,
   "metadata": {
    "application/vnd.databricks.v1+cell": {
     "cellMetadata": {},
     "inputWidgets": {},
     "nuid": "c8f121ef-37a1-49eb-95c3-e252f4eaadae",
     "showTitle": false,
     "title": ""
    }
   },
   "outputs": [],
   "source": [
    "query_schema = {\"patient\": [\"ID\",\"Name\",\"Age\",\"Gender\",\"BloodType\",\"Weight\",\"Height\",\"Address\",\"Email\",\"Phone\"] }\n",
    "\n",
    "text2sql_with_schema_single_table = Text2SQL.pretrained(\"text2sql_with_schema_single_table\", \"en\", \"clinical/models\")\\\n",
    "    .setMaxNewTokens(200)\\\n",
    "    .setSchema(query_schema)\\\n",
    "    .setInputCols([\"document_prompt\"])\\\n",
    "    .setOutputCol(\"sql_query\")\n",
    "\n",
    "pipeline = Pipeline(stages=[document_assembler, text2sql_with_schema_single_table])\n",
    "\n",
    "model = pipeline.fit(spark.createDataFrame([[\"\"]]).toDF(\"prompt\"))"
   ]
  },
  {
   "cell_type": "code",
   "execution_count": 0,
   "metadata": {
    "application/vnd.databricks.v1+cell": {
     "cellMetadata": {},
     "inputWidgets": {},
     "nuid": "b0f09c3b-e7a7-48ee-8ba9-f7ea8ddbd481",
     "showTitle": false,
     "title": ""
    }
   },
   "outputs": [],
   "source": [
    "text = [\"Calculate the average age of patients with blood type 'A-'\",\n",
    "        \"Retrieve the names and email addresses of patients with blood type 'B+'\",\n",
    "        \"Calculate the number of patients with blood type A- and weight above 100kg\"\n",
    "        ]\n",
    "\n",
    "data = spark.createDataFrame([(prompt,) for prompt in text], [\"prompt\"])\n",
    "\n",
    "result = model.transform(data)\n",
    "\n",
    "result.select(\"sql_query.result\").show(truncate=False)"
   ]
  },
  {
   "cell_type": "markdown",
   "metadata": {
    "application/vnd.databricks.v1+cell": {
     "cellMetadata": {},
     "inputWidgets": {},
     "nuid": "c318a7e6-497b-4b75-916a-0d27be6de1c5",
     "showTitle": false,
     "title": ""
    },
    "id": "LcMXQlHGv2j2"
   },
   "source": [
    "Let's test with another custom database schema:"
   ]
  },
  {
   "cell_type": "code",
   "execution_count": 0,
   "metadata": {
    "application/vnd.databricks.v1+cell": {
     "cellMetadata": {},
     "inputWidgets": {},
     "nuid": "9604ab9b-ebd0-4442-a147-5931535018bb",
     "showTitle": false,
     "title": ""
    }
   },
   "outputs": [],
   "source": [
    "query_schema = {\"drug\": [\"ID\",\"Name\",\"Manufacturer\",\"Price\",\"ExpiryDate\",\"PrescriptionRequired\",\"SideEffects\",\"Dosage\",\"Quantity\"] }\n",
    "text2sql_with_schema_single_table.setSchema(query_schema)\n",
    "\n",
    "text = [\"Retrieve the names and dosages of drugs containing '50mcg'\",\n",
    "        \"Calculate the average price of drugs with a prescription requirement\",\n",
    "        \"Retrieve the names and prices of drugs containing '600mg'\"\n",
    "        ]\n",
    "\n",
    "data = spark.createDataFrame([(prompt,) for prompt in text], [\"prompt\"])\n",
    "\n",
    "result = model.transform(data)\n",
    "\n",
    "result.select(\"sql_query.result\").show(truncate=False)"
   ]
  },
  {
   "cell_type": "markdown",
   "metadata": {
    "application/vnd.databricks.v1+cell": {
     "cellMetadata": {},
     "inputWidgets": {},
     "nuid": "186bc513-7341-411a-bf97-99bfca9fb4e7",
     "showTitle": false,
     "title": ""
    },
    "id": "sAmqNL2Lw_OV"
   },
   "source": [
    "### **📍 LightPipelines**"
   ]
  },
  {
   "cell_type": "code",
   "execution_count": 0,
   "metadata": {
    "application/vnd.databricks.v1+cell": {
     "cellMetadata": {},
     "inputWidgets": {},
     "nuid": "1745d436-fe47-4b7e-a9fd-b85d627a2973",
     "showTitle": false,
     "title": ""
    }
   },
   "outputs": [],
   "source": [
    "light_model = LightPipeline(model)\n",
    "light_result = light_model.annotate(text)\n",
    "\n",
    "for i in range(len(light_result)):\n",
    "    document_text = light_result[i]['document_prompt'][0]\n",
    "    summary_text = light_result[i]['sql_query'][0]\n",
    "    print(\"➤ User query: {}: \\n{}\".format(i+1, document_text))\n",
    "    print(\"\\n\")\n",
    "    print(\"➤ SQL query {}: \\n{}\".format(i+1, summary_text))\n",
    "    print(\"\\n\")"
   ]
  },
  {
   "cell_type": "markdown",
   "metadata": {
    "application/vnd.databricks.v1+cell": {
     "cellMetadata": {},
     "inputWidgets": {},
     "nuid": "dcab7dd0-fe3b-40fc-8793-07b5f6945f68",
     "showTitle": false,
     "title": ""
    },
    "id": "xRr8gaw_ilKo"
   },
   "source": [
    "## 📑  **Text2SQL_With_Schema_Single_Table_Augmented**\n",
    "\n",
    "\n",
    "This model is the State-of-the-Art (SOTA) for generating SQL queries from natural questions and custom database schemas with a single table. It is based on a large-size LLM, which is finetuned by John Snow Labs on an augmented dataset having schemas with single tables."
   ]
  },
  {
   "cell_type": "code",
   "execution_count": 0,
   "metadata": {
    "application/vnd.databricks.v1+cell": {
     "cellMetadata": {},
     "inputWidgets": {},
     "nuid": "7c05c8bf-f8fe-4fca-bd42-0c292226014b",
     "showTitle": false,
     "title": ""
    }
   },
   "outputs": [],
   "source": [
    "query_schema = {\n",
    "    \"medical_treatment\": [\"patient_id\",\"patient_name\",\"age\",\"gender\",\"diagnosis\",\"treatment\",\"doctor_name\",\"hospital_name\",\"admission_date\",\"discharge_date\"]\n",
    "}\n",
    "\n",
    "text2sql_with_schema_single_table_augmented = Text2SQL.pretrained(\"text2sql_with_schema_single_table_augmented\", \"en\", \"clinical/models\")\\\n",
    "    .setMaxNewTokens(200)\\\n",
    "    .setSchema(query_schema)\\\n",
    "    .setInputCols([\"document_prompt\"])\\\n",
    "    .setOutputCol(\"sql_query\")\n",
    "\n",
    "pipeline = Pipeline(stages=[document_assembler, text2sql_with_schema_single_table_augmented])\n",
    "\n",
    "model = pipeline.fit(spark.createDataFrame([[\"\"]]).toDF(\"prompt\"))"
   ]
  },
  {
   "cell_type": "code",
   "execution_count": 0,
   "metadata": {
    "application/vnd.databricks.v1+cell": {
     "cellMetadata": {},
     "inputWidgets": {},
     "nuid": "e4c193b7-dde3-40f7-95c8-d43e8c2453fc",
     "showTitle": false,
     "title": ""
    }
   },
   "outputs": [],
   "source": [
    "text = [\"Which patients were admitted in September 2023?\",\n",
    "        \"What is the average age of female patients with 'Diabetes'?\",\n",
    "        \"Who are the patients treated by 'Dr. Brown'?\"\n",
    "        ]\n",
    "\n",
    "data = spark.createDataFrame([(prompt,) for prompt in text], [\"prompt\"])\n",
    "\n",
    "result = model.transform(data)\n",
    "\n",
    "result.select(\"sql_query.result\").show(truncate=False)"
   ]
  },
  {
   "cell_type": "markdown",
   "metadata": {
    "application/vnd.databricks.v1+cell": {
     "cellMetadata": {},
     "inputWidgets": {},
     "nuid": "985e2770-c613-40a6-8989-ae6d774c12d2",
     "showTitle": false,
     "title": ""
    },
    "id": "K4wq8v1CilKy"
   },
   "source": [
    "### **📍 LightPipelines**"
   ]
  },
  {
   "cell_type": "code",
   "execution_count": 0,
   "metadata": {
    "application/vnd.databricks.v1+cell": {
     "cellMetadata": {},
     "inputWidgets": {},
     "nuid": "3120eaf0-bfbb-4360-a2a3-b61aa01ae436",
     "showTitle": false,
     "title": ""
    }
   },
   "outputs": [],
   "source": [
    "light_model = LightPipeline(model)\n",
    "light_result = light_model.annotate(text)\n",
    "\n",
    "for i in range(len(light_result)):\n",
    "    document_text = light_result[i]['document_prompt'][0]\n",
    "    summary_text = light_result[i]['sql_query'][0]\n",
    "\n",
    "    print(\"➤ User query: {}: \\n{}\".format(i+1, document_text))\n",
    "    print(\"\\n\")\n",
    "    print(\"➤ SQL query {}: \\n{}\".format(i+1, summary_text))\n",
    "    print(\"\\n\")"
   ]
  },
  {
   "cell_type": "code",
   "execution_count": 0,
   "metadata": {
    "application/vnd.databricks.v1+cell": {
     "cellMetadata": {},
     "inputWidgets": {},
     "nuid": "47bf43e1-f502-4c59-b4df-bf3f9ad85c16",
     "showTitle": false,
     "title": ""
    }
   },
   "outputs": [],
   "source": []
  }
 ],
 "metadata": {
  "accelerator": "TPU",
  "application/vnd.databricks.v1+notebook": {
   "dashboards": [],
   "language": "python",
   "notebookMetadata": {
    "pythonIndentUnit": 2
   },
   "notebookName": "37.Text2SQL_Generation",
   "widgets": {}
  },
  "colab": {
   "machine_shape": "hm",
   "provenance": [],
   "toc_visible": true
  },
  "kernelspec": {
   "display_name": "Python 3",
   "name": "python3"
  },
  "language_info": {
   "name": "python"
  }
 },
 "nbformat": 4,
 "nbformat_minor": 0
}

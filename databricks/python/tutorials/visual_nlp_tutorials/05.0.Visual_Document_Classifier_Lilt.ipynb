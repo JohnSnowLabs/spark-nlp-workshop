{
 "cells": [
  {
   "cell_type": "markdown",
   "metadata": {
    "application/vnd.databricks.v1+cell": {
     "cellMetadata": {
      "byteLimit": 2048000,
      "rowLimit": 10000
     },
     "inputWidgets": {},
     "nuid": "1c9a7541-6350-4e85-94fc-c8d40b77234c",
     "showTitle": false,
     "title": ""
    }
   },
   "source": [
    "## Visual Document Classifier Lilt"
   ]
  },
  {
   "cell_type": "code",
   "execution_count": 0,
   "metadata": {
    "application/vnd.databricks.v1+cell": {
     "cellMetadata": {
      "byteLimit": 2048000,
      "rowLimit": 10000
     },
     "inputWidgets": {},
     "nuid": "9a2a8e4a-3dfc-4d4e-9251-105d5b42d252",
     "showTitle": false,
     "title": ""
    }
   },
   "outputs": [
    {
     "output_type": "stream",
     "name": "stderr",
     "output_type": "stream",
     "text": [
      "07:56:46, INFO Received command c on object id p0\n07:56:47, INFO Received command c on object id p0\n"
     ]
    }
   ],
   "source": [
    "from johnsnowlabs import nlp,medical,visual"
   ]
  },
  {
   "cell_type": "code",
   "execution_count": 0,
   "metadata": {
    "application/vnd.databricks.v1+cell": {
     "cellMetadata": {
      "byteLimit": 2048000,
      "rowLimit": 10000
     },
     "inputWidgets": {},
     "nuid": "4fb733ac-6a8a-4660-9a0c-4fd23c83a84e",
     "showTitle": false,
     "title": ""
    }
   },
   "outputs": [
    {
     "output_type": "stream",
     "name": "stderr",
     "output_type": "stream",
     "text": [
      "07:58:07, INFO Received command c on object id p1\n"
     ]
    }
   ],
   "source": [
    "import pkg_resources\n",
    "\n",
    "from pyspark.ml import PipelineModel\n",
    "from pyspark.sql import functions as F"
   ]
  },
  {
   "cell_type": "code",
   "execution_count": 0,
   "metadata": {
    "application/vnd.databricks.v1+cell": {
     "cellMetadata": {
      "byteLimit": 2048000,
      "rowLimit": 10000
     },
     "inputWidgets": {},
     "nuid": "bde2d120-fa7e-4ed6-b173-48981a19d886",
     "showTitle": false,
     "title": ""
    }
   },
   "outputs": [
    {
     "output_type": "display_data",
     "data": {
      "text/html": [
       "<style scoped>\n",
       "  .table-result-container {\n",
       "    max-height: 300px;\n",
       "    overflow: auto;\n",
       "  }\n",
       "  table, th, td {\n",
       "    border: 1px solid black;\n",
       "    border-collapse: collapse;\n",
       "  }\n",
       "  th, td {\n",
       "    padding: 5px;\n",
       "  }\n",
       "  th {\n",
       "    text-align: left;\n",
       "  }\n",
       "</style><div class='table-result-container'><table class='table-result'><thead style='background-color: white'><tr><th>path</th><th>name</th><th>size</th><th>modificationTime</th></tr></thead><tbody><tr><td>dbfs:/FileStore/examples/ocr/images/tiff/00556614_00556648.tif</td><td>00556614_00556648.tif</td><td>375950</td><td>1694634306000</td></tr></tbody></table></div>"
      ]
     },
     "metadata": {
      "application/vnd.databricks.v1+output": {
       "addedWidgets": {},
       "aggData": [],
       "aggError": "",
       "aggOverflow": false,
       "aggSchema": [],
       "aggSeriesLimitReached": false,
       "aggType": "",
       "arguments": {},
       "columnCustomDisplayInfos": {},
       "data": [
        [
         "dbfs:/FileStore/examples/ocr/images/tiff/00556614_00556648.tif",
         "00556614_00556648.tif",
         375950,
         1694634306000
        ]
       ],
       "datasetInfos": [],
       "dbfsResultPath": null,
       "isJsonSchema": true,
       "metadata": {
        "isDbfsCommandResult": false
       },
       "overflow": false,
       "plotOptions": {
        "customPlotOptions": {},
        "displayType": "table",
        "pivotAggregation": null,
        "pivotColumns": null,
        "xColumns": null,
        "yColumns": null
       },
       "removedWidgets": [],
       "schema": [
        {
         "metadata": "{}",
         "name": "path",
         "type": "\"string\""
        },
        {
         "metadata": "{}",
         "name": "name",
         "type": "\"string\""
        },
        {
         "metadata": "{}",
         "name": "size",
         "type": "\"long\""
        },
        {
         "metadata": "{}",
         "name": "modificationTime",
         "type": "\"long\""
        }
       ],
       "type": "table"
      }
     },
     "output_type": "display_data"
    }
   ],
   "source": [
    "%fs ls /FileStore/examples/ocr/images/tiff/00556614_00556648.tif"
   ]
  },
  {
   "cell_type": "markdown",
   "metadata": {
    "application/vnd.databricks.v1+cell": {
     "cellMetadata": {},
     "inputWidgets": {},
     "nuid": "de9e6b37-47b9-48bd-bff2-a95eb86e2b3f",
     "showTitle": false,
     "title": ""
    }
   },
   "source": [
    "## Load test images"
   ]
  },
  {
   "cell_type": "code",
   "execution_count": 0,
   "metadata": {
    "application/vnd.databricks.v1+cell": {
     "cellMetadata": {
      "byteLimit": 2048000,
      "rowLimit": 10000
     },
     "inputWidgets": {},
     "nuid": "fa8c6bdc-39c2-418c-bee9-ad9b1bfe2265",
     "showTitle": false,
     "title": ""
    }
   },
   "outputs": [
    {
     "output_type": "stream",
     "name": "stderr",
     "output_type": "stream",
     "text": [
      "07:59:11, INFO Received command c on object id p1\n07:59:11, INFO Received command c on object id p0\n07:59:12, INFO Received command c on object id p0\n07:59:13, INFO Received command c on object id p0\n07:59:14, INFO Received command c on object id p0\n07:59:15, INFO Received command c on object id p0\n07:59:16, INFO Received command c on object id p0\n07:59:17, INFO Received command c on object id p0\n07:59:18, INFO Received command c on object id p0\n07:59:19, INFO Received command c on object id p0\n07:59:20, INFO Received command c on object id p0\n07:59:21, INFO Received command c on object id p0\n07:59:22, INFO Received command c on object id p0\n07:59:23, INFO Received command c on object id p0\n07:59:24, INFO Received command c on object id p0\n07:59:25, INFO Received command c on object id p0\n07:59:26, INFO Received command c on object id p0\n07:59:27, INFO Received command c on object id p0\n07:59:28, INFO Received command c on object id p0\n07:59:29, INFO Received command c on object id p0\n07:59:30, INFO Received command c on object id p0\n07:59:31, INFO Received command c on object id p0\n07:59:32, INFO Received command c on object id p0\n07:59:33, INFO Received command c on object id p0\n07:59:34, INFO Received command c on object id p0\n07:59:35, INFO Received command c on object id p0\n07:59:36, INFO Received command c on object id p0\n07:59:37, INFO Received command c on object id p0\n07:59:38, INFO Received command c on object id p0\n07:59:38, INFO Python Server ready to receive messages\n07:59:38, INFO Received command c on object id p0\n"
     ]
    },
    {
     "output_type": "display_data",
     "data": {
      "text/html": [
       "<style scoped>\n",
       "  .table-result-container {\n",
       "    max-height: 300px;\n",
       "    overflow: auto;\n",
       "  }\n",
       "  table, th, td {\n",
       "    border: 1px solid black;\n",
       "    border-collapse: collapse;\n",
       "  }\n",
       "  th, td {\n",
       "    padding: 5px;\n",
       "  }\n",
       "  th {\n",
       "    text-align: left;\n",
       "  }\n",
       "</style><div class='table-result-container'><table class='table-result'><thead style='background-color: white'><tr><th>path</th><th>modificationTime</th><th>length</th><th>content</th></tr></thead><tbody><tr><td>dbfs:/FileStore/examples/ocr/images/tiff/00556614_00556648.tif</td><td>2023-09-13T19:45:06Z</td><td>375950</td><td>List(SUkqALi5BQCB/4H/yf8D5//56oH/gf+B/63/5f8C6vz9gf+B/4H/gf+B/5D/7v8B/P75/wOtdPDSgf+B/4H/gf+B/6r/Adz06//u/w9zUnJoW02+9unGx491iv/8/f8A/YH/gf+N/wD+gf+B/6b/ATWq6//w/xH7iwIAHjwEaNU= (truncated), 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)</td></tr></tbody></table></div>"
      ]
     },
     "metadata": {
      "application/vnd.databricks.v1+output": {
       "addedWidgets": {},
       "aggData": [],
       "aggError": "",
       "aggOverflow": false,
       "aggSchema": [],
       "aggSeriesLimitReached": false,
       "aggType": "",
       "arguments": {},
       "columnCustomDisplayInfos": {
        "content": {
         "dataType": "image",
         "defaultDisplayFields": [
          "content"
         ],
         "downloadResultsFields": [
          "content"
         ]
        }
       },
       "data": [
        [
         "dbfs:/FileStore/examples/ocr/images/tiff/00556614_00556648.tif",
         "2023-09-13T19:45:06Z",
         375950,
         [
          "SUkqALi5BQCB/4H/yf8D5//56oH/gf+B/63/5f8C6vz9gf+B/4H/gf+B/5D/7v8B/P75/wOtdPDSgf+B/4H/gf+B/6r/Adz06//u/w9zUnJoW02+9unGx491iv/8/f8A/YH/gf+N/wD+gf+B/6b/ATWq6//w/xH7iwIAHjwEaNU= (truncated)",
          "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"
         ]
        ]
       ],
       "datasetInfos": [],
       "dbfsResultPath": null,
       "isJsonSchema": true,
       "metadata": {},
       "overflow": false,
       "plotOptions": {
        "customPlotOptions": {},
        "displayType": "table",
        "pivotAggregation": null,
        "pivotColumns": null,
        "xColumns": null,
        "yColumns": null
       },
       "removedWidgets": [],
       "schema": [
        {
         "metadata": "{}",
         "name": "path",
         "type": "\"string\""
        },
        {
         "metadata": "{}",
         "name": "modificationTime",
         "type": "\"timestamp\""
        },
        {
         "metadata": "{}",
         "name": "length",
         "type": "\"long\""
        },
        {
         "metadata": "{}",
         "name": "content",
         "type": "{\"type\":\"struct\",\"fields\":[{\"name\":\"content\",\"type\":\"binary\",\"nullable\":true,\"metadata\":{}},{\"name\":\"thumbnail\",\"type\":\"binary\",\"nullable\":true,\"metadata\":{}}]}"
        }
       ],
       "type": "table"
      }
     },
     "output_type": "display_data"
    }
   ],
   "source": [
    "file_path='dbfs:/FileStore/examples/ocr/images/tiff/00556614_00556648.tif'\n",
    "doc_df = spark.read.format(\"binaryFile\").load(file_path)\n",
    "display(doc_df)"
   ]
  },
  {
   "cell_type": "code",
   "execution_count": 0,
   "metadata": {
    "application/vnd.databricks.v1+cell": {
     "cellMetadata": {
      "byteLimit": 2048000,
      "rowLimit": 10000
     },
     "inputWidgets": {},
     "nuid": "cd98f822-c2a6-42e9-a3f1-464529748562",
     "showTitle": false,
     "title": ""
    }
   },
   "outputs": [
    {
     "output_type": "stream",
     "name": "stderr",
     "output_type": "stream",
     "text": [
      "08:00:22, INFO Received command c on object id p1\n08:00:23, INFO Received command c on object id p0\n08:00:24, INFO Received command c on object id p0\n08:00:25, INFO Received command c on object id p0\n08:00:26, INFO Received command c on object id p0\n08:00:27, INFO Received command c on object id p0\n08:00:28, INFO Received command c on object id p0\n08:00:29, INFO Received command c on object id p0\n08:00:30, INFO Received command c on object id p0\n08:00:31, INFO Received command c on object id p0\n08:00:32, INFO Received command c on object id p0\n08:00:33, INFO Received command c on object id p0\n08:00:34, INFO Received command c on object id p0\n08:00:35, INFO Received command c on object id p0\n08:00:36, INFO Received command c on object id p0\n08:00:37, INFO Received command c on object id p0\n08:00:38, INFO Received command c on object id p0\n08:00:39, INFO Received command c on object id p0\n08:00:40, INFO Received command c on object id p0\n08:00:41, INFO Received command c on object id p0\n08:00:42, INFO Received command c on object id p0\n08:00:43, INFO Received command c on object id p0\n08:00:44, INFO Received command c on object id p0\n08:00:45, INFO Received command c on object id p0\n08:00:46, INFO Received command c on object id p0\n08:00:46, INFO Received command c on object id p0\n"
     ]
    },
    {
     "output_type": "display_data",
     "data": {
      "text/html": [
       "<ul style='list-style-type:none; padding-inline-start: 0px;'>\n",
       "            <li style='padding: 20px; background-color: rgba(0,0,0,.03);'>\n",
       "              <ul style='padding-inline-start: 0px;list-style-type:none;'>\n",
       "                <li><b>Origin:</b> dbfs:/FileStore/examples/ocr/images/tiff/00556614_00556648.tif</li>\n",
       "                <li><b>Resolution:</b> 72 dpi</li>\n",
       "                <li><b>Width:</b> 784 px</li>\n",
       "                <li><b>Height:</b> 1000 px</li>\n",
       "                <li><b>Mode:</b> Greyscale</li>\n",
       "                <li><b>Number of channels:</b> 1</li>\n",
       "               </ul>\n",
       "            </li>\n",
       "            <li style='padding: 10px; background-color: rgba(0,0,0,.01);'>\n",
       "              <img src ='/files/tmp/97bc11a4-7c7a-11ee-98af-00163e44bd01.png' width='800'>\n",
       "            </li></ul>"
      ]
     },
     "metadata": {},
     "output_type": "display_data"
    }
   ],
   "source": [
    "visual.display_images(visual.BinaryToImage().transform(doc_df))"
   ]
  },
  {
   "cell_type": "markdown",
   "metadata": {
    "application/vnd.databricks.v1+cell": {
     "cellMetadata": {},
     "inputWidgets": {},
     "nuid": "0baa9b89-1c81-4afe-9662-8396c61bef47",
     "showTitle": false,
     "title": ""
    }
   },
   "source": [
    "## Define pipeline"
   ]
  },
  {
   "cell_type": "code",
   "execution_count": 0,
   "metadata": {
    "application/vnd.databricks.v1+cell": {
     "cellMetadata": {
      "byteLimit": 2048000,
      "rowLimit": 10000
     },
     "inputWidgets": {},
     "nuid": "72e9f296-c039-4538-a025-52e67e7e0687",
     "showTitle": false,
     "title": ""
    }
   },
   "outputs": [
    {
     "output_type": "stream",
     "name": "stderr",
     "output_type": "stream",
     "text": [
      "08:02:19, INFO Received command c on object id p1\n08:02:19, INFO Received command c on object id p0\n08:02:20, INFO Received command c on object id p0\n08:02:21, INFO Received command c on object id p0\n08:02:22, INFO Received command c on object id p0\n08:02:23, INFO Received command c on object id p0\n08:02:24, INFO Received command c on object id p0\n08:02:25, INFO Received command c on object id p0\n08:02:26, INFO Received command c on object id p0\n08:02:27, INFO Received command c on object id p0\n08:02:28, INFO Received command c on object id p0\n08:02:29, INFO Received command c on object id p0\n08:02:30, INFO Received command c on object id p0\n08:02:31, INFO Received command c on object id p0\n08:02:32, INFO Received command c on object id p0\n08:02:33, INFO Received command c on object id p0\n08:02:34, INFO Received command c on object id p0\n08:02:35, INFO Received command c on object id p0\n08:02:36, INFO Received command c on object id p0\n08:02:37, INFO Received command c on object id p0\n08:02:38, INFO Received command c on object id p0\n08:02:39, INFO Received command c on object id p0\n08:02:40, INFO Received command c on object id p0\n08:02:41, INFO Received command c on object id p0\n08:02:42, INFO Received command c on object id p0\n08:02:43, INFO Received command c on object id p0\n08:02:44, INFO Received command c on object id p0\n08:02:45, INFO Received command c on object id p0\n08:02:46, INFO Received command c on object id p0\n08:02:47, INFO Received command c on object id p0\n08:02:48, INFO Received command c on object id p0\n08:02:49, INFO Received command c on object id p0\n08:02:50, INFO Received command c on object id p0\n08:02:51, INFO Received command c on object id p0\n08:02:52, INFO Received command c on object id p0\n08:02:53, INFO Received command c on object id p0\n08:02:54, INFO Received command c on object id p0\n08:02:55, INFO Received command c on object id p0\n08:02:56, INFO Received command c on object id p0\n08:02:57, INFO Received command c on object id p0\n08:02:58, INFO Received command c on object id p0\n08:02:59, INFO Received command c on object id p0\n08:03:00, INFO Received command c on object id p0\n08:03:01, INFO Received command c on object id p0\n08:03:02, INFO Received command c on object id p0\n08:03:03, INFO Received command c on object id p0\n08:03:04, INFO Received command c on object id p0\n08:03:05, INFO Received command c on object id p0\n08:03:06, INFO Received command c on object id p0\n08:03:07, INFO Received command c on object id p0\n08:03:08, INFO Received command c on object id p0\n08:03:09, INFO Received command c on object id p0\n08:03:10, INFO Received command c on object id p0\n08:03:11, INFO Received command c on object id p0\n08:03:12, INFO Received command c on object id p0\n08:03:13, INFO Received command c on object id p0\n08:03:14, INFO Received command c on object id p0\n08:03:15, INFO Received command c on object id p0\n08:03:16, INFO Received command c on object id p0\n08:03:17, INFO Received command c on object id p0\n08:03:18, INFO Received command c on object id p0\n08:03:19, INFO Received command c on object id p0\n08:03:20, INFO Received command c on object id p0\n08:03:21, INFO Received command c on object id p0\n08:03:22, INFO Received command c on object id p0\n08:03:23, INFO Received command c on object id p0\n08:03:24, INFO Received command c on object id p0\n08:03:25, INFO Received command c on object id p0\n08:03:26, INFO Received command c on object id p0\n08:03:27, INFO Received command c on object id p0\n08:03:28, INFO Received command c on object id p0\n08:03:29, INFO Received command c on object id p0\n08:03:30, INFO Received command c on object id p0\n08:03:31, INFO Received command c on object id p0\n08:03:32, INFO Received command c on object id p0\n"
     ]
    }
   ],
   "source": [
    "binary_to_image = visual.BinaryToImage()\\\n",
    "    .setOutputCol(\"image\") \\\n",
    "    .setImageType(visual.ImageType.TYPE_3BYTE_BGR)\n",
    "\n",
    "img_to_hocr = visual.ImageToHocr()\\\n",
    "    .setInputCol(\"image\")\\\n",
    "    .setOutputCol(\"hocr\")\\\n",
    "    .setIgnoreResolution(False)\\\n",
    "    .setOcrParams([\"preserve_interword_spaces=0\"])\n",
    "\n",
    "doc_class = visual.VisualDocumentClassifierLilt() \\\n",
    "    .pretrained(\"lilt_rvl_cdip_296K\", \"en\", \"clinical/ocr\") \\\n",
    "    .setInputCol(\"hocr\") \\\n",
    "    .setOutputCol(\"label\")\n",
    "\n",
    "# OCR pipeline\n",
    "pipeline = nlp.PipelineModel(stages=[\n",
    "    binary_to_image,\n",
    "    img_to_hocr,\n",
    "    doc_class\n",
    "])"
   ]
  },
  {
   "cell_type": "markdown",
   "metadata": {
    "application/vnd.databricks.v1+cell": {
     "cellMetadata": {},
     "inputWidgets": {},
     "nuid": "7bc2442c-fcb3-4492-9da0-aaf7dab81f37",
     "showTitle": false,
     "title": ""
    }
   },
   "source": [
    "## Call pipeline"
   ]
  },
  {
   "cell_type": "code",
   "execution_count": 0,
   "metadata": {
    "application/vnd.databricks.v1+cell": {
     "cellMetadata": {
      "byteLimit": 2048000,
      "rowLimit": 10000
     },
     "inputWidgets": {},
     "nuid": "af9f191f-a0d7-48a5-9182-e89d13a98350",
     "showTitle": false,
     "title": ""
    }
   },
   "outputs": [
    {
     "output_type": "stream",
     "name": "stderr",
     "output_type": "stream",
     "text": [
      "08:04:13, INFO Received command c on object id p1\n08:04:14, INFO Received command c on object id p0\n"
     ]
    }
   ],
   "source": [
    "results = pipeline.transform(doc_df).cache()"
   ]
  },
  {
   "cell_type": "markdown",
   "metadata": {
    "application/vnd.databricks.v1+cell": {
     "cellMetadata": {},
     "inputWidgets": {},
     "nuid": "4ecc2d13-dbb4-4740-8975-fc553ecb7d72",
     "showTitle": false,
     "title": ""
    }
   },
   "source": [
    "## Show results"
   ]
  },
  {
   "cell_type": "code",
   "execution_count": 0,
   "metadata": {
    "application/vnd.databricks.v1+cell": {
     "cellMetadata": {
      "byteLimit": 2048000,
      "implicitDf": true,
      "rowLimit": 10000
     },
     "inputWidgets": {},
     "nuid": "69ad6a70-4dd4-4b5f-af9a-e92ce5137bd3",
     "showTitle": false,
     "title": ""
    }
   },
   "outputs": [
    {
     "output_type": "stream",
     "name": "stderr",
     "output_type": "stream",
     "text": [
      "08:04:24, INFO Received command c on object id p1\n08:04:25, INFO Received command c on object id p0\n08:04:26, INFO Received command c on object id p0\n08:04:27, INFO Received command c on object id p0\n08:04:28, INFO Received command c on object id p0\n08:04:29, INFO Received command c on object id p0\n08:04:30, INFO Received command c on object id p0\n08:04:31, INFO Received command c on object id p0\n08:04:32, INFO Received command c on object id p0\n08:04:33, INFO Received command c on object id p0\n08:04:34, INFO Received command c on object id p0\n08:04:35, INFO Received command c on object id p0\n08:04:36, INFO Received command c on object id p0\n08:04:36, INFO Received command c on object id p0\n"
     ]
    },
    {
     "output_type": "stream",
     "name": "stdout",
     "output_type": "stream",
     "text": [
      "+-------+\n|label  |\n+-------+\n|invoice|\n+-------+\n\n"
     ]
    }
   ],
   "source": [
    "results.select([\"label\"]) \\\n",
    "    .show(50, truncate=False)"
   ]
  }
 ],
 "metadata": {
  "application/vnd.databricks.v1+notebook": {
   "dashboards": [],
   "language": "python",
   "notebookMetadata": {
    "mostRecentlyExecutedCommandWithImplicitDF": {
     "commandId": 841391139380037,
     "dataframes": [
      "_sqldf"
     ]
    },
    "pythonIndentUnit": 2
   },
   "notebookName": "Visual_Document_Classifier_Lilt_jsl",
   "widgets": {}
  }
 },
 "nbformat": 4,
 "nbformat_minor": 0
}

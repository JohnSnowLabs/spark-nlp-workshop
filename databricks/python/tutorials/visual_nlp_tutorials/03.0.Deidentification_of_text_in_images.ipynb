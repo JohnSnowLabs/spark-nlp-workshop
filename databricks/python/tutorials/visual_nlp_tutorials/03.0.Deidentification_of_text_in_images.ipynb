{
 "cells": [
  {
   "cell_type": "markdown",
   "metadata": {
    "application/vnd.databricks.v1+cell": {
     "cellMetadata": {
      "byteLimit": 2048000,
      "rowLimit": 10000
     },
     "inputWidgets": {},
     "nuid": "b660a1cb-e3ff-43ec-a965-074a61581c4f",
     "showTitle": false,
     "title": ""
    }
   },
   "source": [
    "##De-identification in Spark OCR"
   ]
  },
  {
   "cell_type": "markdown",
   "metadata": {
    "application/vnd.databricks.v1+cell": {
     "cellMetadata": {
      "byteLimit": 2048000,
      "rowLimit": 10000
     },
     "inputWidgets": {},
     "nuid": "683d15fb-4cc9-42f2-8fdf-d5f17ceaeb6c",
     "showTitle": false,
     "title": ""
    }
   },
   "source": [
    "####0 Import libs"
   ]
  },
  {
   "cell_type": "code",
   "execution_count": 0,
   "metadata": {
    "application/vnd.databricks.v1+cell": {
     "cellMetadata": {
      "byteLimit": 2048000,
      "rowLimit": 10000
     },
     "inputWidgets": {},
     "nuid": "f4f6883b-7aba-4112-8aae-1546e280cf5f",
     "showTitle": false,
     "title": ""
    }
   },
   "outputs": [
    {
     "output_type": "stream",
     "name": "stderr",
     "output_type": "stream",
     "text": [
      "21:06:40, INFO Received command c on object id p0\n21:06:41, INFO Received command c on object id p0\n"
     ]
    }
   ],
   "source": [
    "from johnsnowlabs import nlp,medical,visual"
   ]
  },
  {
   "cell_type": "code",
   "execution_count": 0,
   "metadata": {
    "application/vnd.databricks.v1+cell": {
     "cellMetadata": {
      "byteLimit": 2048000,
      "rowLimit": 10000
     },
     "inputWidgets": {},
     "nuid": "ea706731-a784-4737-a844-c9a5952da37c",
     "showTitle": false,
     "title": ""
    }
   },
   "outputs": [
    {
     "output_type": "stream",
     "name": "stderr",
     "output_type": "stream",
     "text": [
      "21:14:03, INFO Received command c on object id p1\n"
     ]
    }
   ],
   "source": [
    "import pkg_resources\n",
    "\n",
    "from pyspark.ml import PipelineModel, Pipeline\n",
    "from pyspark.sql import functions as F"
   ]
  },
  {
   "cell_type": "markdown",
   "metadata": {
    "application/vnd.databricks.v1+cell": {
     "cellMetadata": {
      "byteLimit": 2048000,
      "rowLimit": 10000
     },
     "inputWidgets": {},
     "nuid": "ecc1c691-2976-4564-a14b-8b5371600a81",
     "showTitle": false,
     "title": ""
    }
   },
   "source": [
    "###1 Define Spark NLP de-identification pipeline"
   ]
  },
  {
   "cell_type": "code",
   "execution_count": 0,
   "metadata": {
    "application/vnd.databricks.v1+cell": {
     "cellMetadata": {
      "byteLimit": 2048000,
      "rowLimit": 10000
     },
     "inputWidgets": {},
     "nuid": "eec4eaaf-1abd-4f96-88d8-90a435af5eb3",
     "showTitle": false,
     "title": ""
    }
   },
   "outputs": [
    {
     "output_type": "stream",
     "name": "stderr",
     "output_type": "stream",
     "text": [
      "21:13:03, INFO Received command c on object id p1\n"
     ]
    }
   ],
   "source": [
    "def deidentification_nlp_pipeline(input_column, prefix = \"\"):\n",
    "    document_assembler = nlp.DocumentAssembler() \\\n",
    "        .setInputCol(input_column) \\\n",
    "        .setOutputCol(prefix + \"document\")\n",
    "\n",
    "    # Sentence Detector annotator, processes various sentences per line\n",
    "    sentence_detector = nlp.SentenceDetector() \\\n",
    "        .setInputCols([prefix + \"document\"]) \\\n",
    "        .setOutputCol(prefix + \"sentence\")\n",
    "\n",
    "    tokenizer = nlp.Tokenizer() \\\n",
    "        .setInputCols([prefix + \"sentence\"]) \\\n",
    "        .setOutputCol(prefix + \"token\")\n",
    "\n",
    "    # Clinical word embeddings\n",
    "    word_embeddings = nlp.WordEmbeddingsModel.pretrained(\"embeddings_clinical\", \"en\", \"clinical/models\") \\\n",
    "        .setInputCols([prefix + \"sentence\", prefix + \"token\"]) \\\n",
    "        .setOutputCol(prefix + \"embeddings\")\n",
    "\n",
    "    # NER model trained on i2b2 (sampled from MIMIC) dataset\n",
    "    clinical_ner = medical.NerModel.pretrained(\"ner_deid_large\", \"en\", \"clinical/models\") \\\n",
    "        .setInputCols([prefix + \"sentence\", prefix + \"token\", prefix + \"embeddings\"]) \\\n",
    "        .setOutputCol(prefix + \"ner\")\n",
    "\n",
    "    custom_ner_converter = nlp.NerConverter() \\\n",
    "        .setInputCols([prefix + \"sentence\", prefix + \"token\", prefix + \"ner\"]) \\\n",
    "        .setOutputCol(prefix + \"ner_chunk\") \\\n",
    "        .setWhiteList(['NAME', 'AGE', 'CONTACT', 'LOCATION', 'PROFESSION', 'PERSON', 'DATE'])\n",
    "\n",
    "    nlp_pipeline = Pipeline(stages=[\n",
    "            document_assembler,\n",
    "            sentence_detector,\n",
    "            tokenizer,\n",
    "            word_embeddings,\n",
    "            clinical_ner,\n",
    "            custom_ner_converter\n",
    "        ])\n",
    "    empty_data = spark.createDataFrame([[\"\"]]).toDF(input_column)\n",
    "    nlp_model = nlp_pipeline.fit(empty_data)\n",
    "    return nlp_model"
   ]
  },
  {
   "cell_type": "markdown",
   "metadata": {
    "application/vnd.databricks.v1+cell": {
     "cellMetadata": {
      "byteLimit": 2048000,
      "rowLimit": 10000
     },
     "inputWidgets": {},
     "nuid": "b2246e4c-5e06-40fe-8cc9-3aadcb1b2dc5",
     "showTitle": false,
     "title": ""
    }
   },
   "source": [
    "###2 Define Spark OCR pipeline"
   ]
  },
  {
   "cell_type": "code",
   "execution_count": 0,
   "metadata": {
    "application/vnd.databricks.v1+cell": {
     "cellMetadata": {
      "byteLimit": 2048000,
      "rowLimit": 10000
     },
     "inputWidgets": {},
     "nuid": "4e66479e-df20-49e1-af79-68ff509c74f9",
     "showTitle": false,
     "title": ""
    }
   },
   "outputs": [
    {
     "output_type": "stream",
     "name": "stderr",
     "output_type": "stream",
     "text": [
      "21:19:02, INFO Received command c on object id p1\n21:19:02, INFO Received command c on object id p0\n"
     ]
    },
    {
     "output_type": "stream",
     "name": "stdout",
     "output_type": "stream",
     "text": [
      "embeddings_clinical download started this may take some time.\n"
     ]
    },
    {
     "output_type": "stream",
     "name": "stderr",
     "output_type": "stream",
     "text": [
      "21:19:03, INFO Received command c on object id p0\n21:19:04, INFO Received command c on object id p0\n"
     ]
    },
    {
     "output_type": "stream",
     "name": "stdout",
     "output_type": "stream",
     "text": [
      "Approximate size to download 1.6 GB\n\r[ | ]"
     ]
    },
    {
     "output_type": "stream",
     "name": "stderr",
     "output_type": "stream",
     "text": [
      "21:19:05, INFO Received command c on object id p0\n21:19:06, INFO Received command c on object id p0\n"
     ]
    },
    {
     "output_type": "stream",
     "name": "stdout",
     "output_type": "stream",
     "text": [
      "\r[ / ]"
     ]
    },
    {
     "output_type": "stream",
     "name": "stderr",
     "output_type": "stream",
     "text": [
      "21:19:07, INFO Received command c on object id p0\n21:19:08, INFO Received command c on object id p0\n21:19:09, INFO Received command c on object id p0\n"
     ]
    },
    {
     "output_type": "stream",
     "name": "stdout",
     "output_type": "stream",
     "text": [
      "\r[ — ]"
     ]
    },
    {
     "output_type": "stream",
     "name": "stderr",
     "output_type": "stream",
     "text": [
      "21:19:10, INFO Received command c on object id p0\n21:19:11, INFO Received command c on object id p0\n"
     ]
    },
    {
     "output_type": "stream",
     "name": "stdout",
     "output_type": "stream",
     "text": [
      "\r[ \\ ]"
     ]
    },
    {
     "output_type": "stream",
     "name": "stderr",
     "output_type": "stream",
     "text": [
      "21:19:12, INFO Received command c on object id p0\n21:19:13, INFO Received command c on object id p0\n21:19:14, INFO Received command c on object id p0\n"
     ]
    },
    {
     "output_type": "stream",
     "name": "stdout",
     "output_type": "stream",
     "text": [
      "\r[ | ]"
     ]
    },
    {
     "output_type": "stream",
     "name": "stderr",
     "output_type": "stream",
     "text": [
      "21:19:15, INFO Received command c on object id p0\n21:19:16, INFO Received command c on object id p0\n"
     ]
    },
    {
     "output_type": "stream",
     "name": "stdout",
     "output_type": "stream",
     "text": [
      "\r[ / ]"
     ]
    },
    {
     "output_type": "stream",
     "name": "stderr",
     "output_type": "stream",
     "text": [
      "21:19:17, INFO Received command c on object id p0\n21:19:18, INFO Received command c on object id p0\n21:19:19, INFO Received command c on object id p0\n"
     ]
    },
    {
     "output_type": "stream",
     "name": "stdout",
     "output_type": "stream",
     "text": [
      "\r[ — ]"
     ]
    },
    {
     "output_type": "stream",
     "name": "stderr",
     "output_type": "stream",
     "text": [
      "21:19:20, INFO Received command c on object id p0\n21:19:21, INFO Received command c on object id p0\n"
     ]
    },
    {
     "output_type": "stream",
     "name": "stdout",
     "output_type": "stream",
     "text": [
      "\r[ \\ ]"
     ]
    },
    {
     "output_type": "stream",
     "name": "stderr",
     "output_type": "stream",
     "text": [
      "21:19:22, INFO Received command c on object id p0\n21:19:23, INFO Received command c on object id p0\n21:19:24, INFO Received command c on object id p0\n"
     ]
    },
    {
     "output_type": "stream",
     "name": "stdout",
     "output_type": "stream",
     "text": [
      "\r[ | ]"
     ]
    },
    {
     "output_type": "stream",
     "name": "stderr",
     "output_type": "stream",
     "text": [
      "21:19:25, INFO Received command c on object id p0\n21:19:26, INFO Received command c on object id p0\n"
     ]
    },
    {
     "output_type": "stream",
     "name": "stdout",
     "output_type": "stream",
     "text": [
      "\r[ / ]"
     ]
    },
    {
     "output_type": "stream",
     "name": "stderr",
     "output_type": "stream",
     "text": [
      "21:19:27, INFO Received command c on object id p0\n21:19:28, INFO Received command c on object id p0\n21:19:29, INFO Received command c on object id p0\n"
     ]
    },
    {
     "output_type": "stream",
     "name": "stdout",
     "output_type": "stream",
     "text": [
      "\r[ — ]"
     ]
    },
    {
     "output_type": "stream",
     "name": "stderr",
     "output_type": "stream",
     "text": [
      "21:19:30, INFO Received command c on object id p0\n21:19:31, INFO Received command c on object id p0\n"
     ]
    },
    {
     "output_type": "stream",
     "name": "stdout",
     "output_type": "stream",
     "text": [
      "\r[ \\ ]"
     ]
    },
    {
     "output_type": "stream",
     "name": "stderr",
     "output_type": "stream",
     "text": [
      "21:19:32, INFO Received command c on object id p0\n21:19:33, INFO Received command c on object id p0\n21:19:34, INFO Received command c on object id p0\n"
     ]
    },
    {
     "output_type": "stream",
     "name": "stdout",
     "output_type": "stream",
     "text": [
      "\r[ | ]"
     ]
    },
    {
     "output_type": "stream",
     "name": "stderr",
     "output_type": "stream",
     "text": [
      "21:19:35, INFO Received command c on object id p0\n21:19:36, INFO Received command c on object id p0\n"
     ]
    },
    {
     "output_type": "stream",
     "name": "stdout",
     "output_type": "stream",
     "text": [
      "\r[ / ]"
     ]
    },
    {
     "output_type": "stream",
     "name": "stderr",
     "output_type": "stream",
     "text": [
      "21:19:37, INFO Received command c on object id p0\n21:19:38, INFO Received command c on object id p0\n21:19:39, INFO Received command c on object id p0\n"
     ]
    },
    {
     "output_type": "stream",
     "name": "stdout",
     "output_type": "stream",
     "text": [
      "\r[ — ]"
     ]
    },
    {
     "output_type": "stream",
     "name": "stderr",
     "output_type": "stream",
     "text": [
      "21:19:40, INFO Received command c on object id p0\n21:19:41, INFO Received command c on object id p0\n"
     ]
    },
    {
     "output_type": "stream",
     "name": "stdout",
     "output_type": "stream",
     "text": [
      "\r[ \\ ]"
     ]
    },
    {
     "output_type": "stream",
     "name": "stderr",
     "output_type": "stream",
     "text": [
      "21:19:42, INFO Received command c on object id p0\n21:19:43, INFO Received command c on object id p0\n21:19:44, INFO Received command c on object id p0\n"
     ]
    },
    {
     "output_type": "stream",
     "name": "stdout",
     "output_type": "stream",
     "text": [
      "\r[ | ]"
     ]
    },
    {
     "output_type": "stream",
     "name": "stderr",
     "output_type": "stream",
     "text": [
      "21:19:45, INFO Received command c on object id p0\n21:19:46, INFO Received command c on object id p0\n"
     ]
    },
    {
     "output_type": "stream",
     "name": "stdout",
     "output_type": "stream",
     "text": [
      "\r[ / ]"
     ]
    },
    {
     "output_type": "stream",
     "name": "stderr",
     "output_type": "stream",
     "text": [
      "21:19:47, INFO Received command c on object id p0\n21:19:48, INFO Received command c on object id p0\n21:19:49, INFO Received command c on object id p0\n"
     ]
    },
    {
     "output_type": "stream",
     "name": "stdout",
     "output_type": "stream",
     "text": [
      "\r[ — ]"
     ]
    },
    {
     "output_type": "stream",
     "name": "stderr",
     "output_type": "stream",
     "text": [
      "21:19:50, INFO Received command c on object id p0\n21:19:51, INFO Received command c on object id p0\n"
     ]
    },
    {
     "output_type": "stream",
     "name": "stdout",
     "output_type": "stream",
     "text": [
      "\r[ \\ ]"
     ]
    },
    {
     "output_type": "stream",
     "name": "stderr",
     "output_type": "stream",
     "text": [
      "21:19:52, INFO Received command c on object id p0\n21:19:53, INFO Received command c on object id p0\n21:19:54, INFO Received command c on object id p0\n"
     ]
    },
    {
     "output_type": "stream",
     "name": "stdout",
     "output_type": "stream",
     "text": [
      "\r[ | ]"
     ]
    },
    {
     "output_type": "stream",
     "name": "stderr",
     "output_type": "stream",
     "text": [
      "21:19:55, INFO Received command c on object id p0\n21:19:56, INFO Received command c on object id p0\n"
     ]
    },
    {
     "output_type": "stream",
     "name": "stdout",
     "output_type": "stream",
     "text": [
      "\r[ / ]"
     ]
    },
    {
     "output_type": "stream",
     "name": "stderr",
     "output_type": "stream",
     "text": [
      "21:19:57, INFO Received command c on object id p0\n21:19:58, INFO Received command c on object id p0\n21:19:59, INFO Received command c on object id p0\n"
     ]
    },
    {
     "output_type": "stream",
     "name": "stdout",
     "output_type": "stream",
     "text": [
      "\r[ — ]"
     ]
    },
    {
     "output_type": "stream",
     "name": "stderr",
     "output_type": "stream",
     "text": [
      "21:20:00, INFO Received command c on object id p0\n21:20:01, INFO Received command c on object id p0\n"
     ]
    },
    {
     "output_type": "stream",
     "name": "stdout",
     "output_type": "stream",
     "text": [
      "\r[ \\ ]"
     ]
    },
    {
     "output_type": "stream",
     "name": "stderr",
     "output_type": "stream",
     "text": [
      "21:20:02, INFO Received command c on object id p0\n21:20:03, INFO Received command c on object id p0\n21:20:04, INFO Received command c on object id p0\n"
     ]
    },
    {
     "output_type": "stream",
     "name": "stdout",
     "output_type": "stream",
     "text": [
      "\r[ | ]"
     ]
    },
    {
     "output_type": "stream",
     "name": "stderr",
     "output_type": "stream",
     "text": [
      "21:20:05, INFO Received command c on object id p0\n21:20:06, INFO Received command c on object id p0\n"
     ]
    },
    {
     "output_type": "stream",
     "name": "stdout",
     "output_type": "stream",
     "text": [
      "\r[ / ]"
     ]
    },
    {
     "output_type": "stream",
     "name": "stderr",
     "output_type": "stream",
     "text": [
      "21:20:07, INFO Received command c on object id p0\n21:20:08, INFO Received command c on object id p0\n21:20:09, INFO Received command c on object id p0\n"
     ]
    },
    {
     "output_type": "stream",
     "name": "stdout",
     "output_type": "stream",
     "text": [
      "\r[ — ]"
     ]
    },
    {
     "output_type": "stream",
     "name": "stderr",
     "output_type": "stream",
     "text": [
      "21:20:10, INFO Received command c on object id p0\n21:20:11, INFO Received command c on object id p0\n"
     ]
    },
    {
     "output_type": "stream",
     "name": "stdout",
     "output_type": "stream",
     "text": [
      "\r[ \\ ]"
     ]
    },
    {
     "output_type": "stream",
     "name": "stderr",
     "output_type": "stream",
     "text": [
      "21:20:12, INFO Received command c on object id p0\n21:20:13, INFO Received command c on object id p0\n21:20:14, INFO Received command c on object id p0\n"
     ]
    },
    {
     "output_type": "stream",
     "name": "stdout",
     "output_type": "stream",
     "text": [
      "\r[ | ]"
     ]
    },
    {
     "output_type": "stream",
     "name": "stderr",
     "output_type": "stream",
     "text": [
      "21:20:15, INFO Received command c on object id p0\n21:20:16, INFO Received command c on object id p0\n"
     ]
    },
    {
     "output_type": "stream",
     "name": "stdout",
     "output_type": "stream",
     "text": [
      "\r[ / ]"
     ]
    },
    {
     "output_type": "stream",
     "name": "stderr",
     "output_type": "stream",
     "text": [
      "21:20:17, INFO Received command c on object id p0\n21:20:18, INFO Received command c on object id p0\n21:20:19, INFO Received command c on object id p0\n"
     ]
    },
    {
     "output_type": "stream",
     "name": "stdout",
     "output_type": "stream",
     "text": [
      "\r[ — ]"
     ]
    },
    {
     "output_type": "stream",
     "name": "stderr",
     "output_type": "stream",
     "text": [
      "21:20:20, INFO Received command c on object id p0\n21:20:21, INFO Received command c on object id p0\n"
     ]
    },
    {
     "output_type": "stream",
     "name": "stdout",
     "output_type": "stream",
     "text": [
      "\r[ \\ ]"
     ]
    },
    {
     "output_type": "stream",
     "name": "stderr",
     "output_type": "stream",
     "text": [
      "21:20:22, INFO Received command c on object id p0\n21:20:23, INFO Received command c on object id p0\n21:20:24, INFO Received command c on object id p0\n"
     ]
    },
    {
     "output_type": "stream",
     "name": "stdout",
     "output_type": "stream",
     "text": [
      "\r[ | ]"
     ]
    },
    {
     "output_type": "stream",
     "name": "stderr",
     "output_type": "stream",
     "text": [
      "21:20:25, INFO Received command c on object id p0\n21:20:26, INFO Received command c on object id p0\n"
     ]
    },
    {
     "output_type": "stream",
     "name": "stdout",
     "output_type": "stream",
     "text": [
      "\r[ / ]"
     ]
    },
    {
     "output_type": "stream",
     "name": "stderr",
     "output_type": "stream",
     "text": [
      "21:20:27, INFO Received command c on object id p0\n21:20:28, INFO Received command c on object id p0\n21:20:29, INFO Received command c on object id p0\n"
     ]
    },
    {
     "output_type": "stream",
     "name": "stdout",
     "output_type": "stream",
     "text": [
      "\r[ — ]"
     ]
    },
    {
     "output_type": "stream",
     "name": "stderr",
     "output_type": "stream",
     "text": [
      "21:20:30, INFO Received command c on object id p0\n21:20:31, INFO Received command c on object id p0\n"
     ]
    },
    {
     "output_type": "stream",
     "name": "stdout",
     "output_type": "stream",
     "text": [
      "\r[ \\ ]"
     ]
    },
    {
     "output_type": "stream",
     "name": "stderr",
     "output_type": "stream",
     "text": [
      "21:20:32, INFO Received command c on object id p0\n21:20:33, INFO Received command c on object id p0\n21:20:34, INFO Received command c on object id p0\n"
     ]
    },
    {
     "output_type": "stream",
     "name": "stdout",
     "output_type": "stream",
     "text": [
      "\r[ | ]"
     ]
    },
    {
     "output_type": "stream",
     "name": "stderr",
     "output_type": "stream",
     "text": [
      "21:20:35, INFO Received command c on object id p0\n21:20:36, INFO Received command c on object id p0\n"
     ]
    },
    {
     "output_type": "stream",
     "name": "stdout",
     "output_type": "stream",
     "text": [
      "\r[ / ]"
     ]
    },
    {
     "output_type": "stream",
     "name": "stderr",
     "output_type": "stream",
     "text": [
      "21:20:37, INFO Received command c on object id p0\n21:20:38, INFO Received command c on object id p0\n21:20:39, INFO Received command c on object id p0\n"
     ]
    },
    {
     "output_type": "stream",
     "name": "stdout",
     "output_type": "stream",
     "text": [
      "\r[ — ]"
     ]
    },
    {
     "output_type": "stream",
     "name": "stderr",
     "output_type": "stream",
     "text": [
      "21:20:40, INFO Received command c on object id p0\n21:20:41, INFO Received command c on object id p0\n"
     ]
    },
    {
     "output_type": "stream",
     "name": "stdout",
     "output_type": "stream",
     "text": [
      "\r[ \\ ]"
     ]
    },
    {
     "output_type": "stream",
     "name": "stderr",
     "output_type": "stream",
     "text": [
      "21:20:42, INFO Received command c on object id p0\n21:20:43, INFO Received command c on object id p0\n21:20:44, INFO Received command c on object id p0\n"
     ]
    },
    {
     "output_type": "stream",
     "name": "stdout",
     "output_type": "stream",
     "text": [
      "\r[ | ]"
     ]
    },
    {
     "output_type": "stream",
     "name": "stderr",
     "output_type": "stream",
     "text": [
      "21:20:45, INFO Received command c on object id p0\n21:20:46, INFO Received command c on object id p0\n"
     ]
    },
    {
     "output_type": "stream",
     "name": "stdout",
     "output_type": "stream",
     "text": [
      "\r[ / ]"
     ]
    },
    {
     "output_type": "stream",
     "name": "stderr",
     "output_type": "stream",
     "text": [
      "21:20:47, INFO Received command c on object id p0\n21:20:48, INFO Received command c on object id p0\n21:20:49, INFO Received command c on object id p0\n"
     ]
    },
    {
     "output_type": "stream",
     "name": "stdout",
     "output_type": "stream",
     "text": [
      "\r[ — ]"
     ]
    },
    {
     "output_type": "stream",
     "name": "stderr",
     "output_type": "stream",
     "text": [
      "21:20:50, INFO Received command c on object id p0\n21:20:51, INFO Received command c on object id p0\n"
     ]
    },
    {
     "output_type": "stream",
     "name": "stdout",
     "output_type": "stream",
     "text": [
      "\r[ \\ ]"
     ]
    },
    {
     "output_type": "stream",
     "name": "stderr",
     "output_type": "stream",
     "text": [
      "21:20:52, INFO Received command c on object id p0\n21:20:53, INFO Received command c on object id p0\n21:20:54, INFO Received command c on object id p0\n"
     ]
    },
    {
     "output_type": "stream",
     "name": "stdout",
     "output_type": "stream",
     "text": [
      "\r[ | ]"
     ]
    },
    {
     "output_type": "stream",
     "name": "stderr",
     "output_type": "stream",
     "text": [
      "21:20:55, INFO Received command c on object id p0\n21:20:56, INFO Received command c on object id p0\n"
     ]
    },
    {
     "output_type": "stream",
     "name": "stdout",
     "output_type": "stream",
     "text": [
      "\r[ / ]"
     ]
    },
    {
     "output_type": "stream",
     "name": "stderr",
     "output_type": "stream",
     "text": [
      "21:20:57, INFO Received command c on object id p0\n21:20:58, INFO Received command c on object id p0\n21:20:59, INFO Received command c on object id p0\n"
     ]
    },
    {
     "output_type": "stream",
     "name": "stdout",
     "output_type": "stream",
     "text": [
      "\r[ — ]"
     ]
    },
    {
     "output_type": "stream",
     "name": "stderr",
     "output_type": "stream",
     "text": [
      "21:21:00, INFO Received command c on object id p0\n21:21:01, INFO Received command c on object id p0\n"
     ]
    },
    {
     "output_type": "stream",
     "name": "stdout",
     "output_type": "stream",
     "text": [
      "\r[ \\ ]"
     ]
    },
    {
     "output_type": "stream",
     "name": "stderr",
     "output_type": "stream",
     "text": [
      "21:21:02, INFO Received command c on object id p0\n21:21:03, INFO Received command c on object id p0\n21:21:04, INFO Received command c on object id p0\n"
     ]
    },
    {
     "output_type": "stream",
     "name": "stdout",
     "output_type": "stream",
     "text": [
      "\r[ | ]"
     ]
    },
    {
     "output_type": "stream",
     "name": "stderr",
     "output_type": "stream",
     "text": [
      "21:21:05, INFO Received command c on object id p0\n21:21:06, INFO Received command c on object id p0\n"
     ]
    },
    {
     "output_type": "stream",
     "name": "stdout",
     "output_type": "stream",
     "text": [
      "\r[ / ]"
     ]
    },
    {
     "output_type": "stream",
     "name": "stderr",
     "output_type": "stream",
     "text": [
      "21:21:07, INFO Received command c on object id p0\n21:21:08, INFO Received command c on object id p0\n21:21:09, INFO Received command c on object id p0\n"
     ]
    },
    {
     "output_type": "stream",
     "name": "stdout",
     "output_type": "stream",
     "text": [
      "\r[ — ]"
     ]
    },
    {
     "output_type": "stream",
     "name": "stderr",
     "output_type": "stream",
     "text": [
      "21:21:10, INFO Received command c on object id p0\n21:21:11, INFO Received command c on object id p0\n"
     ]
    },
    {
     "output_type": "stream",
     "name": "stdout",
     "output_type": "stream",
     "text": [
      "\r[ \\ ]"
     ]
    },
    {
     "output_type": "stream",
     "name": "stderr",
     "output_type": "stream",
     "text": [
      "21:21:12, INFO Received command c on object id p0\n21:21:13, INFO Received command c on object id p0\n21:21:14, INFO Received command c on object id p0\n"
     ]
    },
    {
     "output_type": "stream",
     "name": "stdout",
     "output_type": "stream",
     "text": [
      "\r[ | ]"
     ]
    },
    {
     "output_type": "stream",
     "name": "stderr",
     "output_type": "stream",
     "text": [
      "21:21:15, INFO Received command c on object id p0\n21:21:16, INFO Received command c on object id p0\n"
     ]
    },
    {
     "output_type": "stream",
     "name": "stdout",
     "output_type": "stream",
     "text": [
      "\r[ / ]"
     ]
    },
    {
     "output_type": "stream",
     "name": "stderr",
     "output_type": "stream",
     "text": [
      "21:21:17, INFO Received command c on object id p0\n21:21:18, INFO Received command c on object id p0\n21:21:19, INFO Received command c on object id p0\n"
     ]
    },
    {
     "output_type": "stream",
     "name": "stdout",
     "output_type": "stream",
     "text": [
      "\r[ — ]"
     ]
    },
    {
     "output_type": "stream",
     "name": "stderr",
     "output_type": "stream",
     "text": [
      "21:21:20, INFO Received command c on object id p0\n21:21:21, INFO Received command c on object id p0\n"
     ]
    },
    {
     "output_type": "stream",
     "name": "stdout",
     "output_type": "stream",
     "text": [
      "\r[ \\ ]"
     ]
    },
    {
     "output_type": "stream",
     "name": "stderr",
     "output_type": "stream",
     "text": [
      "21:21:22, INFO Received command c on object id p0\n21:21:23, INFO Received command c on object id p0\n21:21:24, INFO Received command c on object id p0\n"
     ]
    },
    {
     "output_type": "stream",
     "name": "stdout",
     "output_type": "stream",
     "text": [
      "\r[OK!]\nner_deid_large download started this may take some time.\n\r[ | ]"
     ]
    },
    {
     "output_type": "stream",
     "name": "stderr",
     "output_type": "stream",
     "text": [
      "21:21:25, INFO Received command c on object id p0\n21:21:26, INFO Received command c on object id p0\n"
     ]
    },
    {
     "output_type": "stream",
     "name": "stdout",
     "output_type": "stream",
     "text": [
      "\r[ / ]"
     ]
    },
    {
     "output_type": "stream",
     "name": "stderr",
     "output_type": "stream",
     "text": [
      "21:21:27, INFO Received command c on object id p0\n21:21:28, INFO Received command c on object id p0\n21:21:29, INFO Received command c on object id p0\n"
     ]
    },
    {
     "output_type": "stream",
     "name": "stdout",
     "output_type": "stream",
     "text": [
      "\r[ — ]"
     ]
    },
    {
     "output_type": "stream",
     "name": "stderr",
     "output_type": "stream",
     "text": [
      "21:21:30, INFO Received command c on object id p0\n21:21:31, INFO Received command c on object id p0\n"
     ]
    },
    {
     "output_type": "stream",
     "name": "stdout",
     "output_type": "stream",
     "text": [
      "\r[ \\ ]"
     ]
    },
    {
     "output_type": "stream",
     "name": "stderr",
     "output_type": "stream",
     "text": [
      "21:21:32, INFO Received command c on object id p0\n21:21:33, INFO Received command c on object id p0\n21:21:34, INFO Received command c on object id p0\n"
     ]
    },
    {
     "output_type": "stream",
     "name": "stdout",
     "output_type": "stream",
     "text": [
      "\r[ | ]"
     ]
    },
    {
     "output_type": "stream",
     "name": "stderr",
     "output_type": "stream",
     "text": [
      "21:21:35, INFO Received command c on object id p0\n21:21:36, INFO Received command c on object id p0\n"
     ]
    },
    {
     "output_type": "stream",
     "name": "stdout",
     "output_type": "stream",
     "text": [
      "\r[ / ]"
     ]
    },
    {
     "output_type": "stream",
     "name": "stderr",
     "output_type": "stream",
     "text": [
      "21:21:37, INFO Received command c on object id p0\n21:21:38, INFO Received command c on object id p0\n21:21:39, INFO Received command c on object id p0\n"
     ]
    },
    {
     "output_type": "stream",
     "name": "stdout",
     "output_type": "stream",
     "text": [
      "\r[ — ]"
     ]
    },
    {
     "output_type": "stream",
     "name": "stderr",
     "output_type": "stream",
     "text": [
      "21:21:40, INFO Received command c on object id p0\n21:21:41, INFO Received command c on object id p0\n"
     ]
    },
    {
     "output_type": "stream",
     "name": "stdout",
     "output_type": "stream",
     "text": [
      "\r[ \\ ]"
     ]
    },
    {
     "output_type": "stream",
     "name": "stderr",
     "output_type": "stream",
     "text": [
      "21:21:42, INFO Received command c on object id p0\n21:21:43, INFO Received command c on object id p0\n21:21:44, INFO Received command c on object id p0\n"
     ]
    },
    {
     "output_type": "stream",
     "name": "stdout",
     "output_type": "stream",
     "text": [
      "\r[ | ]"
     ]
    },
    {
     "output_type": "stream",
     "name": "stderr",
     "output_type": "stream",
     "text": [
      "21:21:45, INFO Received command c on object id p0\n21:21:46, INFO Received command c on object id p0\n"
     ]
    },
    {
     "output_type": "stream",
     "name": "stdout",
     "output_type": "stream",
     "text": [
      "\r[ / ]"
     ]
    },
    {
     "output_type": "stream",
     "name": "stderr",
     "output_type": "stream",
     "text": [
      "21:21:47, INFO Received command c on object id p0\n21:21:48, INFO Received command c on object id p0\n21:21:49, INFO Received command c on object id p0\n"
     ]
    },
    {
     "output_type": "stream",
     "name": "stdout",
     "output_type": "stream",
     "text": [
      "\r[ — ]"
     ]
    },
    {
     "output_type": "stream",
     "name": "stderr",
     "output_type": "stream",
     "text": [
      "21:21:50, INFO Received command c on object id p0\n21:21:51, INFO Received command c on object id p0\n"
     ]
    },
    {
     "output_type": "stream",
     "name": "stdout",
     "output_type": "stream",
     "text": [
      "\r[ \\ ]"
     ]
    },
    {
     "output_type": "stream",
     "name": "stderr",
     "output_type": "stream",
     "text": [
      "21:21:52, INFO Received command c on object id p0\n21:21:53, INFO Received command c on object id p0\n21:21:54, INFO Received command c on object id p0\n"
     ]
    },
    {
     "output_type": "stream",
     "name": "stdout",
     "output_type": "stream",
     "text": [
      "\r[ | ]"
     ]
    },
    {
     "output_type": "stream",
     "name": "stderr",
     "output_type": "stream",
     "text": [
      "21:21:55, INFO Received command c on object id p0\n21:21:56, INFO Received command c on object id p0\n"
     ]
    },
    {
     "output_type": "stream",
     "name": "stdout",
     "output_type": "stream",
     "text": [
      "\r[ / ]"
     ]
    },
    {
     "output_type": "stream",
     "name": "stderr",
     "output_type": "stream",
     "text": [
      "21:21:57, INFO Received command c on object id p0\n21:21:58, INFO Received command c on object id p0\n21:21:59, INFO Received command c on object id p0\n"
     ]
    },
    {
     "output_type": "stream",
     "name": "stdout",
     "output_type": "stream",
     "text": [
      "\r[ — ]"
     ]
    },
    {
     "output_type": "stream",
     "name": "stderr",
     "output_type": "stream",
     "text": [
      "21:22:00, INFO Received command c on object id p0\n21:22:01, INFO Received command c on object id p0\n"
     ]
    },
    {
     "output_type": "stream",
     "name": "stdout",
     "output_type": "stream",
     "text": [
      "\r[ \\ ]"
     ]
    },
    {
     "output_type": "stream",
     "name": "stderr",
     "output_type": "stream",
     "text": [
      "21:22:02, INFO Received command c on object id p0\n21:22:03, INFO Received command c on object id p0\n21:22:04, INFO Received command c on object id p0\n"
     ]
    },
    {
     "output_type": "stream",
     "name": "stdout",
     "output_type": "stream",
     "text": [
      "\r[ | ]"
     ]
    },
    {
     "output_type": "stream",
     "name": "stderr",
     "output_type": "stream",
     "text": [
      "21:22:05, INFO Received command c on object id p0\n21:22:06, INFO Received command c on object id p0\n"
     ]
    },
    {
     "output_type": "stream",
     "name": "stdout",
     "output_type": "stream",
     "text": [
      "\r[ / ]"
     ]
    },
    {
     "output_type": "stream",
     "name": "stderr",
     "output_type": "stream",
     "text": [
      "21:22:07, INFO Received command c on object id p0\n21:22:08, INFO Received command c on object id p0\n21:22:09, INFO Received command c on object id p0\n"
     ]
    },
    {
     "output_type": "stream",
     "name": "stdout",
     "output_type": "stream",
     "text": [
      "\r[ — ]"
     ]
    },
    {
     "output_type": "stream",
     "name": "stderr",
     "output_type": "stream",
     "text": [
      "21:22:10, INFO Received command c on object id p0\n21:22:11, INFO Received command c on object id p0\n"
     ]
    },
    {
     "output_type": "stream",
     "name": "stdout",
     "output_type": "stream",
     "text": [
      "\r[ \\ ]"
     ]
    },
    {
     "output_type": "stream",
     "name": "stderr",
     "output_type": "stream",
     "text": [
      "21:22:12, INFO Received command c on object id p0\n21:22:13, INFO Received command c on object id p0\n21:22:14, INFO Received command c on object id p0\n"
     ]
    },
    {
     "output_type": "stream",
     "name": "stdout",
     "output_type": "stream",
     "text": [
      "\r[ | ]"
     ]
    },
    {
     "output_type": "stream",
     "name": "stderr",
     "output_type": "stream",
     "text": [
      "21:22:15, INFO Received command c on object id p0\n21:22:16, INFO Received command c on object id p0\n"
     ]
    },
    {
     "output_type": "stream",
     "name": "stdout",
     "output_type": "stream",
     "text": [
      "\r[ / ]"
     ]
    },
    {
     "output_type": "stream",
     "name": "stderr",
     "output_type": "stream",
     "text": [
      "21:22:17, INFO Received command c on object id p0\n21:22:18, INFO Received command c on object id p0\n21:22:19, INFO Received command c on object id p0\n"
     ]
    },
    {
     "output_type": "stream",
     "name": "stdout",
     "output_type": "stream",
     "text": [
      "\r[ — ]"
     ]
    },
    {
     "output_type": "stream",
     "name": "stderr",
     "output_type": "stream",
     "text": [
      "21:22:20, INFO Received command c on object id p0\n21:22:21, INFO Received command c on object id p0\n"
     ]
    },
    {
     "output_type": "stream",
     "name": "stdout",
     "output_type": "stream",
     "text": [
      "\r[ \\ ]"
     ]
    },
    {
     "output_type": "stream",
     "name": "stderr",
     "output_type": "stream",
     "text": [
      "21:22:22, INFO Received command c on object id p0\n21:22:23, INFO Received command c on object id p0\n21:22:24, INFO Received command c on object id p0\n"
     ]
    },
    {
     "output_type": "stream",
     "name": "stdout",
     "output_type": "stream",
     "text": [
      "\r[ | ]"
     ]
    },
    {
     "output_type": "stream",
     "name": "stderr",
     "output_type": "stream",
     "text": [
      "21:22:25, INFO Received command c on object id p0\n21:22:26, INFO Received command c on object id p0\n"
     ]
    },
    {
     "output_type": "stream",
     "name": "stdout",
     "output_type": "stream",
     "text": [
      "\r[ / ]"
     ]
    },
    {
     "output_type": "stream",
     "name": "stderr",
     "output_type": "stream",
     "text": [
      "21:22:27, INFO Received command c on object id p0\n21:22:28, INFO Received command c on object id p0\n21:22:29, INFO Received command c on object id p0\n"
     ]
    },
    {
     "output_type": "stream",
     "name": "stdout",
     "output_type": "stream",
     "text": [
      "\r[ — ]"
     ]
    },
    {
     "output_type": "stream",
     "name": "stderr",
     "output_type": "stream",
     "text": [
      "21:22:30, INFO Received command c on object id p0\n21:22:31, INFO Received command c on object id p0\n"
     ]
    },
    {
     "output_type": "stream",
     "name": "stdout",
     "output_type": "stream",
     "text": [
      "\r[ \\ ]"
     ]
    },
    {
     "output_type": "stream",
     "name": "stderr",
     "output_type": "stream",
     "text": [
      "21:22:32, INFO Received command c on object id p0\n21:22:33, INFO Received command c on object id p0\n21:22:34, INFO Received command c on object id p0\n"
     ]
    },
    {
     "output_type": "stream",
     "name": "stdout",
     "output_type": "stream",
     "text": [
      "\r[ | ]"
     ]
    },
    {
     "output_type": "stream",
     "name": "stderr",
     "output_type": "stream",
     "text": [
      "21:22:35, INFO Received command c on object id p0\n21:22:36, INFO Received command c on object id p0\n"
     ]
    },
    {
     "output_type": "stream",
     "name": "stdout",
     "output_type": "stream",
     "text": [
      "\r[ / ]"
     ]
    },
    {
     "output_type": "stream",
     "name": "stderr",
     "output_type": "stream",
     "text": [
      "21:22:37, INFO Received command c on object id p0\n21:22:38, INFO Received command c on object id p0\n21:22:39, INFO Received command c on object id p0\n"
     ]
    },
    {
     "output_type": "stream",
     "name": "stdout",
     "output_type": "stream",
     "text": [
      "\r[ — ]"
     ]
    },
    {
     "output_type": "stream",
     "name": "stderr",
     "output_type": "stream",
     "text": [
      "21:22:40, INFO Received command c on object id p0\n21:22:41, INFO Received command c on object id p0\n"
     ]
    },
    {
     "output_type": "stream",
     "name": "stdout",
     "output_type": "stream",
     "text": [
      "\r[ \\ ]"
     ]
    },
    {
     "output_type": "stream",
     "name": "stderr",
     "output_type": "stream",
     "text": [
      "21:22:42, INFO Received command c on object id p0\n21:22:43, INFO Received command c on object id p0\n21:22:44, INFO Received command c on object id p0\n"
     ]
    },
    {
     "output_type": "stream",
     "name": "stdout",
     "output_type": "stream",
     "text": [
      "\r[ | ]"
     ]
    },
    {
     "output_type": "stream",
     "name": "stderr",
     "output_type": "stream",
     "text": [
      "21:22:45, INFO Received command c on object id p0\n21:22:46, INFO Received command c on object id p0\n"
     ]
    },
    {
     "output_type": "stream",
     "name": "stdout",
     "output_type": "stream",
     "text": [
      "\r[ / ]"
     ]
    },
    {
     "output_type": "stream",
     "name": "stderr",
     "output_type": "stream",
     "text": [
      "21:22:47, INFO Received command c on object id p0\n21:22:48, INFO Received command c on object id p0\n21:22:49, INFO Received command c on object id p0\n"
     ]
    },
    {
     "output_type": "stream",
     "name": "stdout",
     "output_type": "stream",
     "text": [
      "\r[ — ]"
     ]
    },
    {
     "output_type": "stream",
     "name": "stderr",
     "output_type": "stream",
     "text": [
      "21:22:50, INFO Received command c on object id p0\n21:22:51, INFO Received command c on object id p0\n"
     ]
    },
    {
     "output_type": "stream",
     "name": "stdout",
     "output_type": "stream",
     "text": [
      "\r[ \\ ]"
     ]
    },
    {
     "output_type": "stream",
     "name": "stderr",
     "output_type": "stream",
     "text": [
      "21:22:52, INFO Received command c on object id p0\n21:22:53, INFO Received command c on object id p0\n21:22:54, INFO Received command c on object id p0\n"
     ]
    },
    {
     "output_type": "stream",
     "name": "stdout",
     "output_type": "stream",
     "text": [
      "\r[ | ]"
     ]
    },
    {
     "output_type": "stream",
     "name": "stderr",
     "output_type": "stream",
     "text": [
      "21:22:55, INFO Received command c on object id p0\n21:22:56, INFO Received command c on object id p0\n"
     ]
    },
    {
     "output_type": "stream",
     "name": "stdout",
     "output_type": "stream",
     "text": [
      "\r[ / ]"
     ]
    },
    {
     "output_type": "stream",
     "name": "stderr",
     "output_type": "stream",
     "text": [
      "21:22:58, INFO Received command c on object id p0\n21:22:58, INFO Received command c on object id p0\n21:22:59, INFO Received command c on object id p0\n"
     ]
    },
    {
     "output_type": "stream",
     "name": "stdout",
     "output_type": "stream",
     "text": [
      "\r[ — ]"
     ]
    },
    {
     "output_type": "stream",
     "name": "stderr",
     "output_type": "stream",
     "text": [
      "21:23:00, INFO Received command c on object id p0\n21:23:01, INFO Received command c on object id p0\n"
     ]
    },
    {
     "output_type": "stream",
     "name": "stdout",
     "output_type": "stream",
     "text": [
      "\r[ \\ ]"
     ]
    },
    {
     "output_type": "stream",
     "name": "stderr",
     "output_type": "stream",
     "text": [
      "21:23:02, INFO Received command c on object id p0\n21:23:03, INFO Received command c on object id p0\n21:23:04, INFO Received command c on object id p0\n"
     ]
    },
    {
     "output_type": "stream",
     "name": "stdout",
     "output_type": "stream",
     "text": [
      "\r[ | ]"
     ]
    },
    {
     "output_type": "stream",
     "name": "stderr",
     "output_type": "stream",
     "text": [
      "21:23:05, INFO Received command c on object id p0\n21:23:06, INFO Received command c on object id p0\n"
     ]
    },
    {
     "output_type": "stream",
     "name": "stdout",
     "output_type": "stream",
     "text": [
      "\r[ / ]"
     ]
    },
    {
     "output_type": "stream",
     "name": "stderr",
     "output_type": "stream",
     "text": [
      "21:23:07, INFO Received command c on object id p0\n21:23:08, INFO Received command c on object id p0\n21:23:09, INFO Received command c on object id p0\n"
     ]
    },
    {
     "output_type": "stream",
     "name": "stdout",
     "output_type": "stream",
     "text": [
      "\r[ — ]"
     ]
    },
    {
     "output_type": "stream",
     "name": "stderr",
     "output_type": "stream",
     "text": [
      "21:23:10, INFO Received command c on object id p0\n21:23:11, INFO Received command c on object id p0\n"
     ]
    },
    {
     "output_type": "stream",
     "name": "stdout",
     "output_type": "stream",
     "text": [
      "\r[ \\ ]"
     ]
    },
    {
     "output_type": "stream",
     "name": "stderr",
     "output_type": "stream",
     "text": [
      "21:23:12, INFO Received command c on object id p0\n21:23:13, INFO Received command c on object id p0\n21:23:14, INFO Received command c on object id p0\n"
     ]
    },
    {
     "output_type": "stream",
     "name": "stdout",
     "output_type": "stream",
     "text": [
      "\r[ | ]"
     ]
    },
    {
     "output_type": "stream",
     "name": "stderr",
     "output_type": "stream",
     "text": [
      "21:23:15, INFO Received command c on object id p0\n21:23:16, INFO Received command c on object id p0\n"
     ]
    },
    {
     "output_type": "stream",
     "name": "stdout",
     "output_type": "stream",
     "text": [
      "\r[ / ]"
     ]
    },
    {
     "output_type": "stream",
     "name": "stderr",
     "output_type": "stream",
     "text": [
      "21:23:17, INFO Received command c on object id p0\n21:23:18, INFO Received command c on object id p0\n21:23:19, INFO Received command c on object id p0\n"
     ]
    },
    {
     "output_type": "stream",
     "name": "stdout",
     "output_type": "stream",
     "text": [
      "\r[ — ]"
     ]
    },
    {
     "output_type": "stream",
     "name": "stderr",
     "output_type": "stream",
     "text": [
      "21:23:20, INFO Received command c on object id p0\n21:23:21, INFO Received command c on object id p0\n"
     ]
    },
    {
     "output_type": "stream",
     "name": "stdout",
     "output_type": "stream",
     "text": [
      "\r[ \\ ]"
     ]
    },
    {
     "output_type": "stream",
     "name": "stderr",
     "output_type": "stream",
     "text": [
      "21:23:22, INFO Received command c on object id p0\n21:23:23, INFO Received command c on object id p0\n21:23:24, INFO Received command c on object id p0\n"
     ]
    },
    {
     "output_type": "stream",
     "name": "stdout",
     "output_type": "stream",
     "text": [
      "\r[ | ]"
     ]
    },
    {
     "output_type": "stream",
     "name": "stderr",
     "output_type": "stream",
     "text": [
      "21:23:25, INFO Received command c on object id p0\n21:23:26, INFO Received command c on object id p0\n"
     ]
    },
    {
     "output_type": "stream",
     "name": "stdout",
     "output_type": "stream",
     "text": [
      "\r[ / ]"
     ]
    },
    {
     "output_type": "stream",
     "name": "stderr",
     "output_type": "stream",
     "text": [
      "21:23:27, INFO Received command c on object id p0\n21:23:28, INFO Received command c on object id p0\n21:23:29, INFO Received command c on object id p0\n"
     ]
    },
    {
     "output_type": "stream",
     "name": "stdout",
     "output_type": "stream",
     "text": [
      "\r[ — ]"
     ]
    },
    {
     "output_type": "stream",
     "name": "stderr",
     "output_type": "stream",
     "text": [
      "21:23:30, INFO Received command c on object id p0\n21:23:31, INFO Received command c on object id p0\n"
     ]
    },
    {
     "output_type": "stream",
     "name": "stdout",
     "output_type": "stream",
     "text": [
      "\r[ \\ ]"
     ]
    },
    {
     "output_type": "stream",
     "name": "stderr",
     "output_type": "stream",
     "text": [
      "21:23:32, INFO Received command c on object id p0\n21:23:33, INFO Received command c on object id p0\n21:23:34, INFO Received command c on object id p0\n"
     ]
    },
    {
     "output_type": "stream",
     "name": "stdout",
     "output_type": "stream",
     "text": [
      "\r[ | ]"
     ]
    },
    {
     "output_type": "stream",
     "name": "stderr",
     "output_type": "stream",
     "text": [
      "21:23:35, INFO Received command c on object id p0\n21:23:36, INFO Received command c on object id p0\n"
     ]
    },
    {
     "output_type": "stream",
     "name": "stdout",
     "output_type": "stream",
     "text": [
      "\r[ / ]"
     ]
    },
    {
     "output_type": "stream",
     "name": "stderr",
     "output_type": "stream",
     "text": [
      "21:23:37, INFO Received command c on object id p0\n21:23:38, INFO Received command c on object id p0\n21:23:39, INFO Received command c on object id p0\n"
     ]
    },
    {
     "output_type": "stream",
     "name": "stdout",
     "output_type": "stream",
     "text": [
      "\r[ — ]"
     ]
    },
    {
     "output_type": "stream",
     "name": "stderr",
     "output_type": "stream",
     "text": [
      "21:23:40, INFO Received command c on object id p0\n21:23:41, INFO Received command c on object id p0\n"
     ]
    },
    {
     "output_type": "stream",
     "name": "stdout",
     "output_type": "stream",
     "text": [
      "\r[ \\ ]"
     ]
    },
    {
     "output_type": "stream",
     "name": "stderr",
     "output_type": "stream",
     "text": [
      "21:23:42, INFO Received command c on object id p0\n21:23:43, INFO Received command c on object id p0\n21:23:44, INFO Received command c on object id p0\n"
     ]
    },
    {
     "output_type": "stream",
     "name": "stdout",
     "output_type": "stream",
     "text": [
      "\r[ | ]"
     ]
    },
    {
     "output_type": "stream",
     "name": "stderr",
     "output_type": "stream",
     "text": [
      "21:23:45, INFO Received command c on object id p0\n21:23:46, INFO Received command c on object id p0\n"
     ]
    },
    {
     "output_type": "stream",
     "name": "stdout",
     "output_type": "stream",
     "text": [
      "\r[ / ]"
     ]
    },
    {
     "output_type": "stream",
     "name": "stderr",
     "output_type": "stream",
     "text": [
      "21:23:47, INFO Received command c on object id p0\n21:23:48, INFO Received command c on object id p0\n21:23:49, INFO Received command c on object id p0\n"
     ]
    },
    {
     "output_type": "stream",
     "name": "stdout",
     "output_type": "stream",
     "text": [
      "\r[ — ]"
     ]
    },
    {
     "output_type": "stream",
     "name": "stderr",
     "output_type": "stream",
     "text": [
      "21:23:50, INFO Received command c on object id p0\n21:23:51, INFO Received command c on object id p0\n"
     ]
    },
    {
     "output_type": "stream",
     "name": "stdout",
     "output_type": "stream",
     "text": [
      "\r[ \\ ]"
     ]
    },
    {
     "output_type": "stream",
     "name": "stderr",
     "output_type": "stream",
     "text": [
      "21:23:52, INFO Received command c on object id p0\n21:23:53, INFO Received command c on object id p0\n21:23:54, INFO Received command c on object id p0\n"
     ]
    },
    {
     "output_type": "stream",
     "name": "stdout",
     "output_type": "stream",
     "text": [
      "\r[ | ]"
     ]
    },
    {
     "output_type": "stream",
     "name": "stderr",
     "output_type": "stream",
     "text": [
      "21:23:55, INFO Received command c on object id p0\n21:23:56, INFO Received command c on object id p0\n"
     ]
    },
    {
     "output_type": "stream",
     "name": "stdout",
     "output_type": "stream",
     "text": [
      "\r[ / ]"
     ]
    },
    {
     "output_type": "stream",
     "name": "stderr",
     "output_type": "stream",
     "text": [
      "21:23:57, INFO Received command c on object id p0\n21:23:58, INFO Received command c on object id p0\n21:23:59, INFO Received command c on object id p0\n"
     ]
    },
    {
     "output_type": "stream",
     "name": "stdout",
     "output_type": "stream",
     "text": [
      "\r[ — ]"
     ]
    },
    {
     "output_type": "stream",
     "name": "stderr",
     "output_type": "stream",
     "text": [
      "21:24:00, INFO Received command c on object id p0\n21:24:01, INFO Received command c on object id p0\n21:24:02, INFO Received command c on object id p0\n"
     ]
    },
    {
     "output_type": "stream",
     "name": "stdout",
     "output_type": "stream",
     "text": [
      "\r[ \\ ]"
     ]
    },
    {
     "output_type": "stream",
     "name": "stderr",
     "output_type": "stream",
     "text": [
      "21:24:03, INFO Received command c on object id p0\n21:24:04, INFO Received command c on object id p0\n"
     ]
    },
    {
     "output_type": "stream",
     "name": "stdout",
     "output_type": "stream",
     "text": [
      "\r[ | ]"
     ]
    },
    {
     "output_type": "stream",
     "name": "stderr",
     "output_type": "stream",
     "text": [
      "21:24:05, INFO Received command c on object id p0\n21:24:06, INFO Received command c on object id p0\n21:24:07, INFO Received command c on object id p0\n"
     ]
    },
    {
     "output_type": "stream",
     "name": "stdout",
     "output_type": "stream",
     "text": [
      "\r[ / ]"
     ]
    },
    {
     "output_type": "stream",
     "name": "stderr",
     "output_type": "stream",
     "text": [
      "21:24:08, INFO Received command c on object id p0\n21:24:09, INFO Received command c on object id p0\n"
     ]
    },
    {
     "output_type": "stream",
     "name": "stdout",
     "output_type": "stream",
     "text": [
      "\r[ — ]"
     ]
    },
    {
     "output_type": "stream",
     "name": "stderr",
     "output_type": "stream",
     "text": [
      "21:24:10, INFO Received command c on object id p0\n21:24:11, INFO Received command c on object id p0\n21:24:12, INFO Received command c on object id p0\n"
     ]
    },
    {
     "output_type": "stream",
     "name": "stdout",
     "output_type": "stream",
     "text": [
      "\r[ \\ ]"
     ]
    },
    {
     "output_type": "stream",
     "name": "stderr",
     "output_type": "stream",
     "text": [
      "21:24:13, INFO Received command c on object id p0\n21:24:14, INFO Received command c on object id p0\n"
     ]
    },
    {
     "output_type": "stream",
     "name": "stdout",
     "output_type": "stream",
     "text": [
      "\r[ | ]"
     ]
    },
    {
     "output_type": "stream",
     "name": "stderr",
     "output_type": "stream",
     "text": [
      "21:24:15, INFO Received command c on object id p0\n21:24:16, INFO Received command c on object id p0\n21:24:17, INFO Received command c on object id p0\n"
     ]
    },
    {
     "output_type": "stream",
     "name": "stdout",
     "output_type": "stream",
     "text": [
      "\r[ / ]"
     ]
    },
    {
     "output_type": "stream",
     "name": "stderr",
     "output_type": "stream",
     "text": [
      "21:24:18, INFO Received command c on object id p0\n21:24:19, INFO Received command c on object id p0\n"
     ]
    },
    {
     "output_type": "stream",
     "name": "stdout",
     "output_type": "stream",
     "text": [
      "\r[ — ]"
     ]
    },
    {
     "output_type": "stream",
     "name": "stderr",
     "output_type": "stream",
     "text": [
      "21:24:20, INFO Received command c on object id p0\n21:24:21, INFO Received command c on object id p0\n21:24:22, INFO Received command c on object id p0\n"
     ]
    },
    {
     "output_type": "stream",
     "name": "stdout",
     "output_type": "stream",
     "text": [
      "\r[ \\ ]"
     ]
    },
    {
     "output_type": "stream",
     "name": "stderr",
     "output_type": "stream",
     "text": [
      "21:24:23, INFO Received command c on object id p0\n21:24:24, INFO Received command c on object id p0\n"
     ]
    },
    {
     "output_type": "stream",
     "name": "stdout",
     "output_type": "stream",
     "text": [
      "\r[ | ]"
     ]
    },
    {
     "output_type": "stream",
     "name": "stderr",
     "output_type": "stream",
     "text": [
      "21:24:25, INFO Received command c on object id p0\n21:24:26, INFO Received command c on object id p0\n21:24:27, INFO Received command c on object id p0\n"
     ]
    },
    {
     "output_type": "stream",
     "name": "stdout",
     "output_type": "stream",
     "text": [
      "\r[ / ]"
     ]
    },
    {
     "output_type": "stream",
     "name": "stderr",
     "output_type": "stream",
     "text": [
      "21:24:28, INFO Received command c on object id p0\n21:24:29, INFO Received command c on object id p0\n"
     ]
    },
    {
     "output_type": "stream",
     "name": "stdout",
     "output_type": "stream",
     "text": [
      "\r[ — ]"
     ]
    },
    {
     "output_type": "stream",
     "name": "stderr",
     "output_type": "stream",
     "text": [
      "21:24:30, INFO Received command c on object id p0\n21:24:31, INFO Received command c on object id p0\n21:24:32, INFO Received command c on object id p0\n"
     ]
    },
    {
     "output_type": "stream",
     "name": "stdout",
     "output_type": "stream",
     "text": [
      "\r[ \\ ]"
     ]
    },
    {
     "output_type": "stream",
     "name": "stderr",
     "output_type": "stream",
     "text": [
      "21:24:33, INFO Received command c on object id p0\n21:24:34, INFO Received command c on object id p0\n"
     ]
    },
    {
     "output_type": "stream",
     "name": "stdout",
     "output_type": "stream",
     "text": [
      "\r[ | ]"
     ]
    },
    {
     "output_type": "stream",
     "name": "stderr",
     "output_type": "stream",
     "text": [
      "21:24:35, INFO Received command c on object id p0\n21:24:36, INFO Received command c on object id p0\n21:24:37, INFO Received command c on object id p0\n"
     ]
    },
    {
     "output_type": "stream",
     "name": "stdout",
     "output_type": "stream",
     "text": [
      "\r[ / ]"
     ]
    },
    {
     "output_type": "stream",
     "name": "stderr",
     "output_type": "stream",
     "text": [
      "21:24:38, INFO Received command c on object id p0\n21:24:39, INFO Received command c on object id p0\n"
     ]
    },
    {
     "output_type": "stream",
     "name": "stdout",
     "output_type": "stream",
     "text": [
      "\r[ — ]"
     ]
    },
    {
     "output_type": "stream",
     "name": "stderr",
     "output_type": "stream",
     "text": [
      "21:24:40, INFO Received command c on object id p0\n21:24:41, INFO Received command c on object id p0\n21:24:42, INFO Received command c on object id p0\n"
     ]
    },
    {
     "output_type": "stream",
     "name": "stdout",
     "output_type": "stream",
     "text": [
      "\r[ \\ ]"
     ]
    },
    {
     "output_type": "stream",
     "name": "stderr",
     "output_type": "stream",
     "text": [
      "21:24:43, INFO Received command c on object id p0\n21:24:44, INFO Received command c on object id p0\n"
     ]
    },
    {
     "output_type": "stream",
     "name": "stdout",
     "output_type": "stream",
     "text": [
      "\r[ | ]"
     ]
    },
    {
     "output_type": "stream",
     "name": "stderr",
     "output_type": "stream",
     "text": [
      "21:24:45, INFO Received command c on object id p0\n21:24:46, INFO Received command c on object id p0\n21:24:47, INFO Received command c on object id p0\n"
     ]
    },
    {
     "output_type": "stream",
     "name": "stdout",
     "output_type": "stream",
     "text": [
      "\r[ / ]"
     ]
    },
    {
     "output_type": "stream",
     "name": "stderr",
     "output_type": "stream",
     "text": [
      "21:24:48, INFO Received command c on object id p0\n21:24:49, INFO Received command c on object id p0\n"
     ]
    },
    {
     "output_type": "stream",
     "name": "stdout",
     "output_type": "stream",
     "text": [
      "\r[ — ]"
     ]
    },
    {
     "output_type": "stream",
     "name": "stderr",
     "output_type": "stream",
     "text": [
      "21:24:50, INFO Received command c on object id p0\n21:24:51, INFO Received command c on object id p0\n21:24:52, INFO Received command c on object id p0\n"
     ]
    },
    {
     "output_type": "stream",
     "name": "stdout",
     "output_type": "stream",
     "text": [
      "\r[ \\ ]"
     ]
    },
    {
     "output_type": "stream",
     "name": "stderr",
     "output_type": "stream",
     "text": [
      "21:24:53, INFO Received command c on object id p0\n21:24:54, INFO Received command c on object id p0\n"
     ]
    },
    {
     "output_type": "stream",
     "name": "stdout",
     "output_type": "stream",
     "text": [
      "\r[ | ]"
     ]
    },
    {
     "output_type": "stream",
     "name": "stderr",
     "output_type": "stream",
     "text": [
      "21:24:55, INFO Received command c on object id p0\n21:24:56, INFO Received command c on object id p0\n21:24:57, INFO Received command c on object id p0\n"
     ]
    },
    {
     "output_type": "stream",
     "name": "stdout",
     "output_type": "stream",
     "text": [
      "\r[ / ]"
     ]
    },
    {
     "output_type": "stream",
     "name": "stderr",
     "output_type": "stream",
     "text": [
      "21:24:58, INFO Received command c on object id p0\n21:24:59, INFO Received command c on object id p0\n"
     ]
    },
    {
     "output_type": "stream",
     "name": "stdout",
     "output_type": "stream",
     "text": [
      "\r[ — ]"
     ]
    },
    {
     "output_type": "stream",
     "name": "stderr",
     "output_type": "stream",
     "text": [
      "21:25:00, INFO Received command c on object id p0\n21:25:01, INFO Received command c on object id p0\n21:25:02, INFO Received command c on object id p0\n"
     ]
    },
    {
     "output_type": "stream",
     "name": "stdout",
     "output_type": "stream",
     "text": [
      "\r[ \\ ]"
     ]
    },
    {
     "output_type": "stream",
     "name": "stderr",
     "output_type": "stream",
     "text": [
      "21:25:03, INFO Received command c on object id p0\n21:25:04, INFO Received command c on object id p0\n"
     ]
    },
    {
     "output_type": "stream",
     "name": "stdout",
     "output_type": "stream",
     "text": [
      "\r[ | ]"
     ]
    },
    {
     "output_type": "stream",
     "name": "stderr",
     "output_type": "stream",
     "text": [
      "21:25:05, INFO Received command c on object id p0\n21:25:06, INFO Received command c on object id p0\n21:25:07, INFO Received command c on object id p0\n"
     ]
    },
    {
     "output_type": "stream",
     "name": "stdout",
     "output_type": "stream",
     "text": [
      "\r[ / ]"
     ]
    },
    {
     "output_type": "stream",
     "name": "stderr",
     "output_type": "stream",
     "text": [
      "21:25:08, INFO Received command c on object id p0\n21:25:09, INFO Received command c on object id p0\n"
     ]
    },
    {
     "output_type": "stream",
     "name": "stdout",
     "output_type": "stream",
     "text": [
      "\r[ — ]"
     ]
    },
    {
     "output_type": "stream",
     "name": "stderr",
     "output_type": "stream",
     "text": [
      "21:25:10, INFO Received command c on object id p0\n21:25:11, INFO Received command c on object id p0\n21:25:12, INFO Received command c on object id p0\n"
     ]
    },
    {
     "output_type": "stream",
     "name": "stdout",
     "output_type": "stream",
     "text": [
      "\r[ \\ ]"
     ]
    },
    {
     "output_type": "stream",
     "name": "stderr",
     "output_type": "stream",
     "text": [
      "21:25:13, INFO Received command c on object id p0\n21:25:14, INFO Received command c on object id p0\n"
     ]
    },
    {
     "output_type": "stream",
     "name": "stdout",
     "output_type": "stream",
     "text": [
      "\r[ | ]"
     ]
    },
    {
     "output_type": "stream",
     "name": "stderr",
     "output_type": "stream",
     "text": [
      "21:25:15, INFO Received command c on object id p0\n21:25:16, INFO Received command c on object id p0\n21:25:17, INFO Received command c on object id p0\n"
     ]
    },
    {
     "output_type": "stream",
     "name": "stdout",
     "output_type": "stream",
     "text": [
      "\r[ / ]"
     ]
    },
    {
     "output_type": "stream",
     "name": "stderr",
     "output_type": "stream",
     "text": [
      "21:25:18, INFO Received command c on object id p0\n21:25:19, INFO Received command c on object id p0\n"
     ]
    },
    {
     "output_type": "stream",
     "name": "stdout",
     "output_type": "stream",
     "text": [
      "\r[ — ]"
     ]
    },
    {
     "output_type": "stream",
     "name": "stderr",
     "output_type": "stream",
     "text": [
      "21:25:20, INFO Received command c on object id p0\n21:25:21, INFO Received command c on object id p0\n21:25:22, INFO Received command c on object id p0\n"
     ]
    },
    {
     "output_type": "stream",
     "name": "stdout",
     "output_type": "stream",
     "text": [
      "\r[ \\ ]"
     ]
    },
    {
     "output_type": "stream",
     "name": "stderr",
     "output_type": "stream",
     "text": [
      "21:25:23, INFO Received command c on object id p0\n21:25:24, INFO Received command c on object id p0\n"
     ]
    },
    {
     "output_type": "stream",
     "name": "stdout",
     "output_type": "stream",
     "text": [
      "\r[ | ]"
     ]
    },
    {
     "output_type": "stream",
     "name": "stderr",
     "output_type": "stream",
     "text": [
      "21:25:25, INFO Received command c on object id p0\n21:25:26, INFO Received command c on object id p0\n21:25:27, INFO Received command c on object id p0\n"
     ]
    },
    {
     "output_type": "stream",
     "name": "stdout",
     "output_type": "stream",
     "text": [
      "\r[ / ]"
     ]
    },
    {
     "output_type": "stream",
     "name": "stderr",
     "output_type": "stream",
     "text": [
      "21:25:28, INFO Received command c on object id p0\n21:25:29, INFO Received command c on object id p0\n"
     ]
    },
    {
     "output_type": "stream",
     "name": "stdout",
     "output_type": "stream",
     "text": [
      "\r[ — ]"
     ]
    },
    {
     "output_type": "stream",
     "name": "stderr",
     "output_type": "stream",
     "text": [
      "21:25:30, INFO Received command c on object id p0\n21:25:31, INFO Received command c on object id p0\n21:25:32, INFO Received command c on object id p0\n"
     ]
    },
    {
     "output_type": "stream",
     "name": "stdout",
     "output_type": "stream",
     "text": [
      "\r[ \\ ]"
     ]
    },
    {
     "output_type": "stream",
     "name": "stderr",
     "output_type": "stream",
     "text": [
      "21:25:33, INFO Received command c on object id p0\n21:25:34, INFO Received command c on object id p0\n"
     ]
    },
    {
     "output_type": "stream",
     "name": "stdout",
     "output_type": "stream",
     "text": [
      "\r[ | ]"
     ]
    },
    {
     "output_type": "stream",
     "name": "stderr",
     "output_type": "stream",
     "text": [
      "21:25:35, INFO Received command c on object id p0\n21:25:36, INFO Received command c on object id p0\n21:25:37, INFO Received command c on object id p0\n"
     ]
    },
    {
     "output_type": "stream",
     "name": "stdout",
     "output_type": "stream",
     "text": [
      "\r[ / ]"
     ]
    },
    {
     "output_type": "stream",
     "name": "stderr",
     "output_type": "stream",
     "text": [
      "21:25:38, INFO Received command c on object id p0\n21:25:39, INFO Received command c on object id p0\n"
     ]
    },
    {
     "output_type": "stream",
     "name": "stdout",
     "output_type": "stream",
     "text": [
      "\r[ — ]"
     ]
    },
    {
     "output_type": "stream",
     "name": "stderr",
     "output_type": "stream",
     "text": [
      "21:25:40, INFO Received command c on object id p0\n21:25:41, INFO Received command c on object id p0\n21:25:42, INFO Received command c on object id p0\n"
     ]
    },
    {
     "output_type": "stream",
     "name": "stdout",
     "output_type": "stream",
     "text": [
      "\r[ \\ ]"
     ]
    },
    {
     "output_type": "stream",
     "name": "stderr",
     "output_type": "stream",
     "text": [
      "21:25:43, INFO Received command c on object id p0\n21:25:44, INFO Received command c on object id p0\n"
     ]
    },
    {
     "output_type": "stream",
     "name": "stdout",
     "output_type": "stream",
     "text": [
      "\r[ | ]"
     ]
    },
    {
     "output_type": "stream",
     "name": "stderr",
     "output_type": "stream",
     "text": [
      "21:25:45, INFO Received command c on object id p0\n21:25:46, INFO Received command c on object id p0\n21:25:47, INFO Received command c on object id p0\n"
     ]
    },
    {
     "output_type": "stream",
     "name": "stdout",
     "output_type": "stream",
     "text": [
      "\r[ / ]"
     ]
    },
    {
     "output_type": "stream",
     "name": "stderr",
     "output_type": "stream",
     "text": [
      "21:25:48, INFO Received command c on object id p0\n21:25:49, INFO Received command c on object id p0\n"
     ]
    },
    {
     "output_type": "stream",
     "name": "stdout",
     "output_type": "stream",
     "text": [
      "\r[ — ]"
     ]
    },
    {
     "output_type": "stream",
     "name": "stderr",
     "output_type": "stream",
     "text": [
      "21:25:50, INFO Received command c on object id p0\n21:25:51, INFO Received command c on object id p0\n21:25:52, INFO Received command c on object id p0\n"
     ]
    },
    {
     "output_type": "stream",
     "name": "stdout",
     "output_type": "stream",
     "text": [
      "\r[ \\ ]"
     ]
    },
    {
     "output_type": "stream",
     "name": "stderr",
     "output_type": "stream",
     "text": [
      "21:25:53, INFO Received command c on object id p0\n21:25:54, INFO Received command c on object id p0\n"
     ]
    },
    {
     "output_type": "stream",
     "name": "stdout",
     "output_type": "stream",
     "text": [
      "\r[ | ]"
     ]
    },
    {
     "output_type": "stream",
     "name": "stderr",
     "output_type": "stream",
     "text": [
      "21:25:55, INFO Received command c on object id p0\n21:25:56, INFO Received command c on object id p0\n21:25:57, INFO Received command c on object id p0\n"
     ]
    },
    {
     "output_type": "stream",
     "name": "stdout",
     "output_type": "stream",
     "text": [
      "\r[ / ]"
     ]
    },
    {
     "output_type": "stream",
     "name": "stderr",
     "output_type": "stream",
     "text": [
      "21:25:58, INFO Received command c on object id p0\n21:25:59, INFO Received command c on object id p0\n"
     ]
    },
    {
     "output_type": "stream",
     "name": "stdout",
     "output_type": "stream",
     "text": [
      "\r[ — ]"
     ]
    },
    {
     "output_type": "stream",
     "name": "stderr",
     "output_type": "stream",
     "text": [
      "21:26:00, INFO Received command c on object id p0\n21:26:01, INFO Received command c on object id p0\n21:26:02, INFO Received command c on object id p0\n"
     ]
    },
    {
     "output_type": "stream",
     "name": "stdout",
     "output_type": "stream",
     "text": [
      "\r[ \\ ]"
     ]
    },
    {
     "output_type": "stream",
     "name": "stderr",
     "output_type": "stream",
     "text": [
      "21:26:03, INFO Received command c on object id p0\n21:26:04, INFO Received command c on object id p0\n"
     ]
    },
    {
     "output_type": "stream",
     "name": "stdout",
     "output_type": "stream",
     "text": [
      "\r[ | ]"
     ]
    },
    {
     "output_type": "stream",
     "name": "stderr",
     "output_type": "stream",
     "text": [
      "21:26:05, INFO Received command c on object id p0\n21:26:06, INFO Received command c on object id p0\n21:26:07, INFO Received command c on object id p0\n"
     ]
    },
    {
     "output_type": "stream",
     "name": "stdout",
     "output_type": "stream",
     "text": [
      "\r[ / ]"
     ]
    },
    {
     "output_type": "stream",
     "name": "stderr",
     "output_type": "stream",
     "text": [
      "21:26:08, INFO Received command c on object id p0\n21:26:09, INFO Received command c on object id p0\n"
     ]
    },
    {
     "output_type": "stream",
     "name": "stdout",
     "output_type": "stream",
     "text": [
      "\r[ — ]"
     ]
    },
    {
     "output_type": "stream",
     "name": "stderr",
     "output_type": "stream",
     "text": [
      "21:26:10, INFO Received command c on object id p0\n21:26:11, INFO Received command c on object id p0\n21:26:12, INFO Received command c on object id p0\n"
     ]
    },
    {
     "output_type": "stream",
     "name": "stdout",
     "output_type": "stream",
     "text": [
      "\r[ \\ ]"
     ]
    },
    {
     "output_type": "stream",
     "name": "stderr",
     "output_type": "stream",
     "text": [
      "21:26:13, INFO Received command c on object id p0\n21:26:14, INFO Received command c on object id p0\n"
     ]
    },
    {
     "output_type": "stream",
     "name": "stdout",
     "output_type": "stream",
     "text": [
      "\r[ | ]"
     ]
    },
    {
     "output_type": "stream",
     "name": "stderr",
     "output_type": "stream",
     "text": [
      "21:26:15, INFO Received command c on object id p0\n21:26:16, INFO Received command c on object id p0\n21:26:17, INFO Received command c on object id p0\n"
     ]
    },
    {
     "output_type": "stream",
     "name": "stdout",
     "output_type": "stream",
     "text": [
      "\r[OK!]\n"
     ]
    },
    {
     "output_type": "stream",
     "name": "stderr",
     "output_type": "stream",
     "text": [
      "21:26:18, INFO Received command c on object id p0\n21:26:19, INFO Received command c on object id p0\n21:26:20, INFO Received command c on object id p0\n21:26:21, INFO Received command c on object id p0\n21:26:22, INFO Received command c on object id p0\n21:26:23, INFO Received command c on object id p0\n21:26:24, INFO Received command c on object id p0\n21:26:25, INFO Received command c on object id p0\n21:26:26, INFO Received command c on object id p0\n"
     ]
    }
   ],
   "source": [
    "# Read Pdf as image\n",
    "pdf_to_image = visual.PdfToImage()\\\n",
    "  .setInputCol(\"content\")\\\n",
    "  .setOutputCol(\"image_raw\")\\\n",
    "  .setResolution(400)\n",
    "\n",
    "# Extract text from image\n",
    "ocr = visual.ImageToText() \\\n",
    "    .setInputCol(\"image_raw\") \\\n",
    "    .setOutputCol(\"text\") \\\n",
    "    .setIgnoreResolution(False) \\\n",
    "    .setPageIteratorLevel(visual.PageIteratorLevel.SYMBOL) \\\n",
    "    .setPageSegMode(visual.PageSegmentationMode.SPARSE_TEXT) \\\n",
    "    .setWithSpaces(True) \\\n",
    "    .setConfidenceThreshold(70)\n",
    "\n",
    "# Found coordinates of sensitive data\n",
    "position_finder = visual.PositionFinder() \\\n",
    "    .setInputCols(\"ner_chunk\") \\\n",
    "    .setOutputCol(\"coordinates\") \\\n",
    "    .setPageMatrixCol(\"positions\") \\\n",
    "    .setPadding(1)\n",
    "\n",
    "# Draw filled rectangle for hide sensitive data\n",
    "drawRegions = visual.ImageDrawRegions()  \\\n",
    "    .setInputCol(\"image_raw\")  \\\n",
    "    .setInputRegionsCol(\"coordinates\")  \\\n",
    "    .setOutputCol(\"image_with_regions\")  \\\n",
    "    .setFilledRect(True) \\\n",
    "    .setRectColor(visual.Color.black)\n",
    "    \n",
    "# OCR pipeline\n",
    "deid_pipeline = nlp.PipelineModel(stages=[\n",
    "    pdf_to_image,\n",
    "    ocr,\n",
    "    deidentification_nlp_pipeline(input_column=\"text\"),\n",
    "    position_finder,\n",
    "    drawRegions\n",
    "])"
   ]
  },
  {
   "cell_type": "markdown",
   "metadata": {
    "application/vnd.databricks.v1+cell": {
     "cellMetadata": {
      "byteLimit": 2048000,
      "rowLimit": 10000
     },
     "inputWidgets": {},
     "nuid": "e2be087b-4c3f-4c55-92ea-a1c29944a7ca",
     "showTitle": false,
     "title": ""
    }
   },
   "source": [
    "###3 Prepare documents"
   ]
  },
  {
   "cell_type": "code",
   "execution_count": 0,
   "metadata": {
    "application/vnd.databricks.v1+cell": {
     "cellMetadata": {
      "byteLimit": 2048000,
      "rowLimit": 10000
     },
     "inputWidgets": {},
     "nuid": "b9924d52-983e-430c-888d-aab336e6a829",
     "showTitle": false,
     "title": ""
    }
   },
   "outputs": [
    {
     "output_type": "stream",
     "name": "stderr",
     "output_type": "stream",
     "text": [
      "21:26:43, INFO Received command c on object id p1\n"
     ]
    }
   ],
   "source": [
    "%sh\n",
    "OCR_DIR=/dbfs/tmp/deid_ocr3\n",
    "if [ ! -d \"$OCR_DIR\" ]; then\n",
    "    mkdir $OCR_DIR\n",
    "    cd $OCR_DIR\n",
    "    for i in {0..3}\n",
    "    do\n",
    "      wget https://raw.githubusercontent.com/JohnSnowLabs/spark-nlp-workshop/master/tutorials/Certification_Trainings/Healthcare/data/ocr/MT_0$i.pdf\n",
    "    done\n",
    "fi"
   ]
  },
  {
   "cell_type": "code",
   "execution_count": 0,
   "metadata": {
    "application/vnd.databricks.v1+cell": {
     "cellMetadata": {
      "byteLimit": 2048000,
      "rowLimit": 10000
     },
     "inputWidgets": {},
     "nuid": "50492452-5c39-4f07-b7cb-4aca857d919c",
     "showTitle": false,
     "title": ""
    }
   },
   "outputs": [
    {
     "output_type": "stream",
     "name": "stderr",
     "output_type": "stream",
     "text": [
      "21:26:55, INFO Received command c on object id p1\n21:26:56, INFO Received command c on object id p0\n"
     ]
    },
    {
     "output_type": "display_data",
     "data": {
      "text/html": [
       "<style scoped>\n",
       "  .table-result-container {\n",
       "    max-height: 300px;\n",
       "    overflow: auto;\n",
       "  }\n",
       "  table, th, td {\n",
       "    border: 1px solid black;\n",
       "    border-collapse: collapse;\n",
       "  }\n",
       "  th, td {\n",
       "    padding: 5px;\n",
       "  }\n",
       "  th {\n",
       "    text-align: left;\n",
       "  }\n",
       "</style><div class='table-result-container'><table class='table-result'><thead style='background-color: white'><tr><th>path</th><th>name</th><th>size</th><th>modificationTime</th></tr></thead><tbody><tr><td>dbfs:/tmp/deid_ocr3/MT_00.pdf</td><td>MT_00.pdf</td><td>528022</td><td>1653323962000</td></tr><tr><td>dbfs:/tmp/deid_ocr3/MT_01.pdf</td><td>MT_01.pdf</td><td>165397</td><td>1653323962000</td></tr><tr><td>dbfs:/tmp/deid_ocr3/MT_02.pdf</td><td>MT_02.pdf</td><td>309334</td><td>1653323962000</td></tr><tr><td>dbfs:/tmp/deid_ocr3/MT_03.pdf</td><td>MT_03.pdf</td><td>248334</td><td>1653323963000</td></tr></tbody></table></div>"
      ]
     },
     "metadata": {
      "application/vnd.databricks.v1+output": {
       "addedWidgets": {},
       "aggData": [],
       "aggError": "",
       "aggOverflow": false,
       "aggSchema": [],
       "aggSeriesLimitReached": false,
       "aggType": "",
       "arguments": {},
       "columnCustomDisplayInfos": {},
       "data": [
        [
         "dbfs:/tmp/deid_ocr3/MT_00.pdf",
         "MT_00.pdf",
         528022,
         1653323962000
        ],
        [
         "dbfs:/tmp/deid_ocr3/MT_01.pdf",
         "MT_01.pdf",
         165397,
         1653323962000
        ],
        [
         "dbfs:/tmp/deid_ocr3/MT_02.pdf",
         "MT_02.pdf",
         309334,
         1653323962000
        ],
        [
         "dbfs:/tmp/deid_ocr3/MT_03.pdf",
         "MT_03.pdf",
         248334,
         1653323963000
        ]
       ],
       "datasetInfos": [],
       "dbfsResultPath": null,
       "isJsonSchema": true,
       "metadata": {},
       "overflow": false,
       "plotOptions": {
        "customPlotOptions": {},
        "displayType": "table",
        "pivotAggregation": null,
        "pivotColumns": null,
        "xColumns": null,
        "yColumns": null
       },
       "removedWidgets": [],
       "schema": [
        {
         "metadata": "{}",
         "name": "path",
         "type": "\"string\""
        },
        {
         "metadata": "{}",
         "name": "name",
         "type": "\"string\""
        },
        {
         "metadata": "{}",
         "name": "size",
         "type": "\"long\""
        },
        {
         "metadata": "{}",
         "name": "modificationTime",
         "type": "\"long\""
        }
       ],
       "type": "table"
      }
     },
     "output_type": "display_data"
    }
   ],
   "source": [
    "display(dbutils.fs.ls(\"dbfs:/tmp/deid_ocr3/\"))"
   ]
  },
  {
   "cell_type": "code",
   "execution_count": 0,
   "metadata": {
    "application/vnd.databricks.v1+cell": {
     "cellMetadata": {
      "byteLimit": 2048000,
      "rowLimit": 10000
     },
     "inputWidgets": {},
     "nuid": "7a4d4c3a-27bb-47c2-ab60-ff5b5764e4fb",
     "showTitle": false,
     "title": ""
    }
   },
   "outputs": [
    {
     "output_type": "stream",
     "name": "stderr",
     "output_type": "stream",
     "text": [
      "21:27:05, INFO Received command c on object id p1\n21:27:06, INFO Received command c on object id p0\n21:27:07, INFO Received command c on object id p0\n21:27:08, INFO Received command c on object id p0\n21:27:09, INFO Received command c on object id p0\n21:27:10, INFO Python Server ready to receive messages\n21:27:10, INFO Received command c on object id p0\n"
     ]
    },
    {
     "output_type": "stream",
     "name": "stdout",
     "output_type": "stream",
     "text": [
      "+--------------------+-------------------+------+--------------------+\n|                path|   modificationTime|length|             content|\n+--------------------+-------------------+------+--------------------+\n|dbfs:/tmp/deid_oc...|2022-05-23 16:39:22|528022|[25 50 44 46 2D 3...|\n|dbfs:/tmp/deid_oc...|2022-05-23 16:39:22|309334|[25 50 44 46 2D 3...|\n|dbfs:/tmp/deid_oc...|2022-05-23 16:39:23|248334|[25 50 44 46 2D 3...|\n|dbfs:/tmp/deid_oc...|2022-05-23 16:39:22|165397|[25 50 44 46 2D 3...|\n+--------------------+-------------------+------+--------------------+\n\n"
     ]
    }
   ],
   "source": [
    "file_path='dbfs:/tmp/deid_ocr3/*.pdf'\n",
    "pdfs = spark.read.format(\"binaryFile\").load(file_path)\n",
    "pdfs.show()"
   ]
  },
  {
   "cell_type": "code",
   "execution_count": 0,
   "metadata": {
    "application/vnd.databricks.v1+cell": {
     "cellMetadata": {
      "byteLimit": 2048000,
      "rowLimit": 10000
     },
     "inputWidgets": {},
     "nuid": "0c5ddc14-c1de-46c2-b51b-286b54cc0e66",
     "showTitle": false,
     "title": ""
    }
   },
   "outputs": [
    {
     "output_type": "stream",
     "name": "stderr",
     "output_type": "stream",
     "text": [
      "21:27:49, INFO Received command c on object id p0\n21:27:50, INFO Received command c on object id p0\n21:27:51, INFO Received command c on object id p0\n21:27:52, INFO Received command c on object id p0\n21:27:53, INFO Received command c on object id p0\n21:27:54, INFO Received command c on object id p0\n21:27:55, INFO Received command c on object id p0\n21:27:56, INFO Received command c on object id p0\n21:27:57, INFO Received command c on object id p0\n21:27:57, INFO Received command c on object id p0\n"
     ]
    },
    {
     "output_type": "display_data",
     "data": {
      "text/html": [
       "<ul style='list-style-type:none; padding-inline-start: 0px;'>\n",
       "            <li style='padding: 20px; background-color: rgba(0,0,0,.03);'>\n",
       "              <ul style='padding-inline-start: 0px;list-style-type:none;'>\n",
       "                <li><b>Origin:</b> dbfs:/tmp/deid_ocr3/MT_03.pdf</li>\n",
       "                <li><b>Resolution:</b> 300 dpi</li>\n",
       "                <li><b>Width:</b> 2250 px</li>\n",
       "                <li><b>Height:</b> 3249 px</li>\n",
       "                <li><b>Mode:</b> Greyscale</li>\n",
       "                <li><b>Number of channels:</b> 1</li>\n",
       "               </ul>\n",
       "            </li>\n",
       "            <li style='padding: 10px; background-color: rgba(0,0,0,.01);'>\n",
       "              <img src ='/files/tmp/3032cff8-7c22-11ee-aa1a-00163e0f6956.png' width='800'>\n",
       "            </li>\n",
       "            <li style='padding: 20px; background-color: rgba(0,0,0,.03);'>\n",
       "              <ul style='padding-inline-start: 0px;list-style-type:none;'>\n",
       "                <li><b>Origin:</b> dbfs:/tmp/deid_ocr3/MT_03.pdf</li>\n",
       "                <li><b>Resolution:</b> 300 dpi</li>\n",
       "                <li><b>Width:</b> 2250 px</li>\n",
       "                <li><b>Height:</b> 3249 px</li>\n",
       "                <li><b>Mode:</b> Greyscale</li>\n",
       "                <li><b>Number of channels:</b> 1</li>\n",
       "               </ul>\n",
       "            </li>\n",
       "            <li style='padding: 10px; background-color: rgba(0,0,0,.01);'>\n",
       "              <img src ='/files/tmp/305e2a90-7c22-11ee-aa1a-00163e0f6956.png' width='800'>\n",
       "            </li></ul>"
      ]
     },
     "metadata": {},
     "output_type": "display_data"
    }
   ],
   "source": [
    "from sparkocr.databricks import display_images\n",
    "display_images(visual.PdfToImage().transform(pdfs).limit(2))"
   ]
  },
  {
   "cell_type": "markdown",
   "metadata": {
    "application/vnd.databricks.v1+cell": {
     "cellMetadata": {
      "byteLimit": 2048000,
      "rowLimit": 10000
     },
     "inputWidgets": {},
     "nuid": "b6c8baa4-4f86-438b-8c97-163edc61e450",
     "showTitle": false,
     "title": ""
    }
   },
   "source": [
    "###4 Run pipeline"
   ]
  },
  {
   "cell_type": "code",
   "execution_count": 0,
   "metadata": {
    "application/vnd.databricks.v1+cell": {
     "cellMetadata": {
      "byteLimit": 2048000,
      "rowLimit": 10000
     },
     "inputWidgets": {},
     "nuid": "690c1902-b185-4172-bdd4-4d850da48887",
     "showTitle": false,
     "title": ""
    }
   },
   "outputs": [
    {
     "output_type": "stream",
     "name": "stderr",
     "output_type": "stream",
     "text": [
      "21:28:27, INFO Received command c on object id p1\n21:28:28, INFO Received command c on object id p0\n"
     ]
    }
   ],
   "source": [
    "deid_results = deid_pipeline.transform(pdfs).cache()"
   ]
  },
  {
   "cell_type": "markdown",
   "metadata": {
    "application/vnd.databricks.v1+cell": {
     "cellMetadata": {
      "byteLimit": 2048000,
      "rowLimit": 10000
     },
     "inputWidgets": {},
     "nuid": "5a3d87e3-6958-4607-a0df-a732878c776b",
     "showTitle": false,
     "title": ""
    }
   },
   "source": [
    "#### Display Ner chunks"
   ]
  },
  {
   "cell_type": "code",
   "execution_count": 0,
   "metadata": {
    "application/vnd.databricks.v1+cell": {
     "cellMetadata": {
      "byteLimit": 2048000,
      "rowLimit": 10000
     },
     "inputWidgets": {},
     "nuid": "dbb4e92a-9d4a-45e7-a31a-7bf66aa188c7",
     "showTitle": false,
     "title": ""
    }
   },
   "outputs": [
    {
     "output_type": "stream",
     "name": "stderr",
     "output_type": "stream",
     "text": [
      "21:28:33, INFO Received command c on object id p1\n21:28:33, INFO Received command c on object id p0\n21:28:34, INFO Received command c on object id p0\n21:28:35, INFO Received command c on object id p0\n21:28:36, INFO Received command c on object id p0\n21:28:37, INFO Received command c on object id p0\n21:28:38, INFO Received command c on object id p0\n21:28:39, INFO Received command c on object id p0\n21:28:40, INFO Received command c on object id p0\n21:28:41, INFO Received command c on object id p0\n21:28:42, INFO Received command c on object id p0\n21:28:43, INFO Received command c on object id p0\n21:28:44, INFO Received command c on object id p0\n21:28:45, INFO Received command c on object id p0\n21:28:46, INFO Received command c on object id p0\n21:28:47, INFO Received command c on object id p0\n21:28:48, INFO Received command c on object id p0\n21:28:49, INFO Received command c on object id p0\n21:28:50, INFO Received command c on object id p0\n21:28:51, INFO Received command c on object id p0\n21:28:52, INFO Received command c on object id p0\n21:28:53, INFO Received command c on object id p0\n21:28:54, INFO Received command c on object id p0\n21:28:55, INFO Received command c on object id p0\n21:28:56, INFO Received command c on object id p0\n21:28:57, INFO Received command c on object id p0\n21:28:58, INFO Received command c on object id p0\n21:28:59, INFO Received command c on object id p0\n21:29:00, INFO Received command c on object id p0\n21:29:01, INFO Received command c on object id p0\n21:29:02, INFO Received command c on object id p0\n21:29:03, INFO Received command c on object id p0\n21:29:04, INFO Received command c on object id p0\n21:29:05, INFO Received command c on object id p0\n21:29:06, INFO Received command c on object id p0\n21:29:07, INFO Received command c on object id p0\n21:29:08, INFO Received command c on object id p0\n21:29:08, INFO Received command c on object id p0\n"
     ]
    },
    {
     "output_type": "display_data",
     "data": {
      "text/html": [
       "<style scoped>\n",
       "  .table-result-container {\n",
       "    max-height: 300px;\n",
       "    overflow: auto;\n",
       "  }\n",
       "  table, th, td {\n",
       "    border: 1px solid black;\n",
       "    border-collapse: collapse;\n",
       "  }\n",
       "  th, td {\n",
       "    padding: 5px;\n",
       "  }\n",
       "  th {\n",
       "    text-align: left;\n",
       "  }\n",
       "</style><div class='table-result-container'><table class='table-result'><thead style='background-color: white'><tr><th>ner_chunk</th></tr></thead><tbody><tr><td>List()</td></tr><tr><td>List(List(chunk, 1146, 1147, 65, Map(entity -> AGE, sentence -> 12, chunk -> 0, confidence -> 0.9984), List()), List(chunk, 1313, 1314, 86, Map(entity -> AGE, sentence -> 14, chunk -> 1, confidence -> 0.9997), List()), List(chunk, 1674, 1685, South Dakota, Map(entity -> LOCATION, sentence -> 22, chunk -> 2, confidence -> 0.94990003), List()), List(chunk, 1701, 1708, Colorado, Map(entity -> LOCATION, sentence -> 23, chunk -> 3, confidence -> 0.99), List()), List(chunk, 1752, 1770, Colorado University, Map(entity -> LOCATION, sentence -> 24, chunk -> 4, confidence -> 0.99565), List()), List(chunk, 1790, 1803, public account, Map(entity -> PROFESSION, sentence -> 25, chunk -> 5, confidence -> 0.6761), List()))</td></tr></tbody></table></div>"
      ]
     },
     "metadata": {
      "application/vnd.databricks.v1+output": {
       "addedWidgets": {},
       "aggData": [],
       "aggError": "",
       "aggOverflow": false,
       "aggSchema": [],
       "aggSeriesLimitReached": false,
       "aggType": "",
       "arguments": {},
       "columnCustomDisplayInfos": {},
       "data": [
        [
         []
        ],
        [
         [
          [
           "chunk",
           1146,
           1147,
           "65",
           {
            "chunk": "0",
            "confidence": "0.9984",
            "entity": "AGE",
            "sentence": "12"
           },
           []
          ],
          [
           "chunk",
           1313,
           1314,
           "86",
           {
            "chunk": "1",
            "confidence": "0.9997",
            "entity": "AGE",
            "sentence": "14"
           },
           []
          ],
          [
           "chunk",
           1674,
           1685,
           "South Dakota",
           {
            "chunk": "2",
            "confidence": "0.94990003",
            "entity": "LOCATION",
            "sentence": "22"
           },
           []
          ],
          [
           "chunk",
           1701,
           1708,
           "Colorado",
           {
            "chunk": "3",
            "confidence": "0.99",
            "entity": "LOCATION",
            "sentence": "23"
           },
           []
          ],
          [
           "chunk",
           1752,
           1770,
           "Colorado University",
           {
            "chunk": "4",
            "confidence": "0.99565",
            "entity": "LOCATION",
            "sentence": "24"
           },
           []
          ],
          [
           "chunk",
           1790,
           1803,
           "public account",
           {
            "chunk": "5",
            "confidence": "0.6761",
            "entity": "PROFESSION",
            "sentence": "25"
           },
           []
          ]
         ]
        ]
       ],
       "datasetInfos": [],
       "dbfsResultPath": null,
       "isJsonSchema": true,
       "metadata": {},
       "overflow": false,
       "plotOptions": {
        "customPlotOptions": {},
        "displayType": "table",
        "pivotAggregation": null,
        "pivotColumns": null,
        "xColumns": null,
        "yColumns": null
       },
       "removedWidgets": [],
       "schema": [
        {
         "metadata": "{\"annotatorType\":\"chunk\"}",
         "name": "ner_chunk",
         "type": "{\"type\":\"array\",\"elementType\":{\"type\":\"struct\",\"fields\":[{\"name\":\"annotatorType\",\"type\":\"string\",\"nullable\":true,\"metadata\":{}},{\"name\":\"begin\",\"type\":\"integer\",\"nullable\":false,\"metadata\":{}},{\"name\":\"end\",\"type\":\"integer\",\"nullable\":false,\"metadata\":{}},{\"name\":\"result\",\"type\":\"string\",\"nullable\":true,\"metadata\":{}},{\"name\":\"metadata\",\"type\":{\"type\":\"map\",\"keyType\":\"string\",\"valueType\":\"string\",\"valueContainsNull\":true},\"nullable\":true,\"metadata\":{}},{\"name\":\"embeddings\",\"type\":{\"type\":\"array\",\"elementType\":\"float\",\"containsNull\":false},\"nullable\":true,\"metadata\":{}}]},\"containsNull\":true}"
        }
       ],
       "type": "table"
      }
     },
     "output_type": "display_data"
    }
   ],
   "source": [
    "display(deid_results.select(\"ner_chunk\").limit(2))"
   ]
  },
  {
   "cell_type": "markdown",
   "metadata": {
    "application/vnd.databricks.v1+cell": {
     "cellMetadata": {
      "byteLimit": 2048000,
      "rowLimit": 10000
     },
     "inputWidgets": {},
     "nuid": "2890e254-724f-426b-aad6-46023cc86fd5",
     "showTitle": false,
     "title": ""
    }
   },
   "source": [
    "####Display coordinates of text which need to hide"
   ]
  },
  {
   "cell_type": "code",
   "execution_count": 0,
   "metadata": {
    "application/vnd.databricks.v1+cell": {
     "cellMetadata": {
      "byteLimit": 2048000,
      "rowLimit": 10000
     },
     "inputWidgets": {},
     "nuid": "0f395b48-bb95-4a24-9c6e-fa7bbd233501",
     "showTitle": false,
     "title": ""
    }
   },
   "outputs": [
    {
     "output_type": "stream",
     "name": "stderr",
     "output_type": "stream",
     "text": [
      "21:29:14, INFO Received command c on object id p1\n21:29:14, INFO Received command c on object id p0\n21:29:14, INFO Received command c on object id p0\n"
     ]
    },
    {
     "output_type": "display_data",
     "data": {
      "text/html": [
       "<style scoped>\n",
       "  .table-result-container {\n",
       "    max-height: 300px;\n",
       "    overflow: auto;\n",
       "  }\n",
       "  table, th, td {\n",
       "    border: 1px solid black;\n",
       "    border-collapse: collapse;\n",
       "  }\n",
       "  th, td {\n",
       "    padding: 5px;\n",
       "  }\n",
       "  th {\n",
       "    text-align: left;\n",
       "  }\n",
       "</style><div class='table-result-container'><table class='table-result'><thead style='background-color: white'><tr><th>coordinates</th></tr></thead><tbody><tr><td>List()</td></tr><tr><td>List(List(0, 0, 931.0, 2108.0, 82.5, 40.0, 0.0, 0, 0.0), List(1, 0, 752.0, 2253.0, 84.0, 40.0, 0.0, 0, 0.0), List(2, 0, 1563.0, 3020.5833, 427.9167, 37.416668, 0.0, 0, 0.0), List(3, 0, 2262.0, 3023.25, 252.0, 34.75, 0.0, 0, 0.0), List(4, 0, 1280.0, 3093.8948, 612.6316, 38.263157, 0.0, 0, 0.0), List(5, 0, 2143.0, 3097.7856, 355.71426, 33.57143, 0.0, 0, 0.0))</td></tr></tbody></table></div>"
      ]
     },
     "metadata": {
      "application/vnd.databricks.v1+output": {
       "addedWidgets": {},
       "aggData": [],
       "aggError": "",
       "aggOverflow": false,
       "aggSchema": [],
       "aggSeriesLimitReached": false,
       "aggType": "",
       "arguments": {},
       "columnCustomDisplayInfos": {},
       "data": [
        [
         []
        ],
        [
         [
          [
           0,
           0,
           931.0,
           2108.0,
           82.5,
           40.0,
           0.0,
           "0",
           0.0
          ],
          [
           1,
           0,
           752.0,
           2253.0,
           84.0,
           40.0,
           0.0,
           "0",
           0.0
          ],
          [
           2,
           0,
           1563.0,
           3020.5833,
           427.9167,
           37.416668,
           0.0,
           "0",
           0.0
          ],
          [
           3,
           0,
           2262.0,
           3023.25,
           252.0,
           34.75,
           0.0,
           "0",
           0.0
          ],
          [
           4,
           0,
           1280.0,
           3093.8948,
           612.6316,
           38.263157,
           0.0,
           "0",
           0.0
          ],
          [
           5,
           0,
           2143.0,
           3097.7856,
           355.71426,
           33.57143,
           0.0,
           "0",
           0.0
          ]
         ]
        ]
       ],
       "datasetInfos": [],
       "dbfsResultPath": null,
       "isJsonSchema": true,
       "metadata": {},
       "overflow": false,
       "plotOptions": {
        "customPlotOptions": {},
        "displayType": "table",
        "pivotAggregation": null,
        "pivotColumns": null,
        "xColumns": null,
        "yColumns": null
       },
       "removedWidgets": [],
       "schema": [
        {
         "metadata": "{\"annotatorType\":\"chunk\"}",
         "name": "coordinates",
         "type": "{\"type\":\"array\",\"elementType\":{\"type\":\"struct\",\"fields\":[{\"name\":\"index\",\"type\":\"integer\",\"nullable\":false,\"metadata\":{}},{\"name\":\"page\",\"type\":\"integer\",\"nullable\":false,\"metadata\":{}},{\"name\":\"x\",\"type\":\"float\",\"nullable\":false,\"metadata\":{}},{\"name\":\"y\",\"type\":\"float\",\"nullable\":false,\"metadata\":{}},{\"name\":\"width\",\"type\":\"float\",\"nullable\":false,\"metadata\":{}},{\"name\":\"height\",\"type\":\"float\",\"nullable\":false,\"metadata\":{}},{\"name\":\"score\",\"type\":\"float\",\"nullable\":false,\"metadata\":{}},{\"name\":\"label\",\"type\":\"string\",\"nullable\":true,\"metadata\":{}},{\"name\":\"angle\",\"type\":\"float\",\"nullable\":false,\"metadata\":{}}]},\"containsNull\":true}"
        }
       ],
       "type": "table"
      }
     },
     "output_type": "display_data"
    }
   ],
   "source": [
    "display(deid_results.select('coordinates').limit(2))"
   ]
  },
  {
   "cell_type": "markdown",
   "metadata": {
    "application/vnd.databricks.v1+cell": {
     "cellMetadata": {
      "byteLimit": 2048000,
      "rowLimit": 10000
     },
     "inputWidgets": {},
     "nuid": "b2330076-d4ed-4439-924a-694291967be7",
     "showTitle": false,
     "title": ""
    }
   },
   "source": [
    "###4 Display original and de-identified results"
   ]
  },
  {
   "cell_type": "code",
   "execution_count": 0,
   "metadata": {
    "application/vnd.databricks.v1+cell": {
     "cellMetadata": {
      "byteLimit": 2048000,
      "rowLimit": 10000
     },
     "inputWidgets": {},
     "nuid": "da12ca82-77ac-4fd9-98ac-7bd19f7e2420",
     "showTitle": false,
     "title": ""
    }
   },
   "outputs": [],
   "source": [
    "import pkg_resources"
   ]
  },
  {
   "cell_type": "code",
   "execution_count": 0,
   "metadata": {
    "application/vnd.databricks.v1+cell": {
     "cellMetadata": {
      "byteLimit": 2048000,
      "rowLimit": 10000
     },
     "inputWidgets": {},
     "nuid": "302e3dcb-7fa9-455a-8158-2b7326d462d3",
     "showTitle": false,
     "title": ""
    }
   },
   "outputs": [
    {
     "output_type": "stream",
     "name": "stderr",
     "output_type": "stream",
     "text": [
      "21:37:29, INFO Received command c on object id p0\n21:37:29, INFO Received command c on object id p0\n21:37:30, INFO Received command c on object id p0\n21:37:31, INFO Received command c on object id p0\n21:37:32, INFO Received command c on object id p0\n21:37:33, INFO Received command c on object id p0\n"
     ]
    },
    {
     "output_type": "display_data",
     "data": {
      "image/png": "[encoded data removed]",
      "text/plain": [
       "<Figure size 2400x1600 with 2 Axes>"
      ]
     },
     "metadata": {},
     "output_type": "display_data"
    }
   ],
   "source": [
    "r = deid_results.select(\"image_raw\", \"image_with_regions\").collect()[0]\n",
    "img_orig = r.image_raw\n",
    "img_deid = r.image_with_regions\n",
    "\n",
    "img_pil_orig = visual.to_pil_image(img_orig, img_orig.mode)\n",
    "img_pil_deid = visual.to_pil_image(img_deid, img_deid.mode)\n",
    "\n",
    "plt.figure(figsize=(24,16))\n",
    "plt.subplot(1, 2, 1)\n",
    "plt.imshow(img_pil_orig, cmap='gray')\n",
    "plt.title('original')\n",
    "plt.subplot(1, 2, 2)\n",
    "plt.imshow(img_pil_deid, cmap='gray')\n",
    "plt.title(\"de-id'd\")\n",
    "plt.show()"
   ]
  }
 ],
 "metadata": {
  "application/vnd.databricks.v1+notebook": {
   "dashboards": [],
   "language": "python",
   "notebookMetadata": {
    "mostRecentlyExecutedCommandWithImplicitDF": {
     "commandId": 3264275436245557,
     "dataframes": [
      "_sqldf"
     ]
    },
    "pythonIndentUnit": 2
   },
   "notebookName": "4. Deidentification of text in images ",
   "widgets": {}
  }
 },
 "nbformat": 4,
 "nbformat_minor": 0
}

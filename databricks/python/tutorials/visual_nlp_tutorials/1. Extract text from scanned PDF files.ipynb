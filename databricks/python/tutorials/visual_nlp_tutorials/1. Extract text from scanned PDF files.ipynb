{
 "cells": [
  {
   "cell_type": "markdown",
   "metadata": {
    "application/vnd.databricks.v1+cell": {
     "cellMetadata": {
      "byteLimit": 2048000,
      "rowLimit": 10000
     },
     "inputWidgets": {},
     "nuid": "4cdea391-1ca0-4bca-b5b1-a41595ef3bbb",
     "showTitle": false,
     "title": ""
    }
   },
   "source": [
    "# Extract text from scanned documents with Spark OCR\n",
    "\n",
    "This notebook will illustrates how to:\n",
    "* Load example PDF\n",
    "* Preview it\n",
    "* Recognize text"
   ]
  },
  {
   "cell_type": "markdown",
   "metadata": {
    "application/vnd.databricks.v1+cell": {
     "cellMetadata": {
      "byteLimit": 2048000,
      "rowLimit": 10000
     },
     "inputWidgets": {},
     "nuid": "51a053dd-a1bf-49e2-9a0f-e41135a1832d",
     "showTitle": false,
     "title": ""
    }
   },
   "source": [
    "## Import OCR transformers and utils"
   ]
  },
  {
   "cell_type": "code",
   "execution_count": 0,
   "metadata": {
    "application/vnd.databricks.v1+cell": {
     "cellMetadata": {
      "byteLimit": 2048000,
      "rowLimit": 10000
     },
     "inputWidgets": {},
     "nuid": "4f1f8def-74a8-47bf-b729-6c003e04a73d",
     "showTitle": false,
     "title": ""
    }
   },
   "outputs": [
    {
     "output_type": "display_data",
     "data": {
      "text/html": [
       "<style scoped>\n",
       "  .ansiout {\n",
       "    display: block;\n",
       "    unicode-bidi: embed;\n",
       "    white-space: pre-wrap;\n",
       "    word-wrap: break-word;\n",
       "    word-break: break-all;\n",
       "    font-family: \"Source Code Pro\", \"Menlo\", monospace;;\n",
       "    font-size: 13px;\n",
       "    color: #555;\n",
       "    margin-left: 4px;\n",
       "    line-height: 19px;\n",
       "  }\n",
       "</style>\n",
       "<div class=\"ansiout\">10:27:34, INFO Received command c on object id p0\n",
       "10:27:34, INFO Received command c on object id p0\n",
       "10:27:34, INFO Received command c on object id p0\n",
       "10:27:34, INFO Received command c on object id p0\n",
       "10:27:34, INFO Received command c on object id p0\n",
       "10:27:34, INFO Received command c on object id p0\n",
       "10:27:34, INFO Received command c on object id p0\n",
       "</div>"
      ]
     },
     "metadata": {
      "application/vnd.databricks.v1+output": {
       "addedWidgets": {},
       "arguments": {},
       "data": "<div class=\"ansiout\">10:27:34, INFO Received command c on object id p0\n10:27:34, INFO Received command c on object id p0\n10:27:34, INFO Received command c on object id p0\n10:27:34, INFO Received command c on object id p0\n10:27:34, INFO Received command c on object id p0\n10:27:34, INFO Received command c on object id p0\n10:27:34, INFO Received command c on object id p0\n</div>",
       "datasetInfos": [],
       "metadata": {},
       "removedWidgets": [],
       "type": "html"
      }
     },
     "output_type": "display_data"
    }
   ],
   "source": [
    "from sparkocr.transformers import *\n",
    "from sparkocr.databricks import display_images\n",
    "from pyspark.ml import PipelineModel"
   ]
  },
  {
   "cell_type": "markdown",
   "metadata": {
    "application/vnd.databricks.v1+cell": {
     "cellMetadata": {
      "byteLimit": 2048000,
      "rowLimit": 10000
     },
     "inputWidgets": {},
     "nuid": "cbbc423b-1389-4ac0-ab3d-61f0243a3e82",
     "showTitle": false,
     "title": ""
    }
   },
   "source": [
    "## Define OCR transformers and pipeline\n",
    "* Transforrm binary data to Image schema using [BinaryToImage](https://nlp.johnsnowlabs.com/docs/en/ocr_pipeline_components#binarytoimage). More details about Image Schema [here](https://nlp.johnsnowlabs.com/docs/en/ocr_structures#image-schema).\n",
    "* Recognize text using [ImageToText](https://nlp.johnsnowlabs.com/docs/en/ocr_pipeline_components#imagetotext) transformer."
   ]
  },
  {
   "cell_type": "code",
   "execution_count": 0,
   "metadata": {
    "application/vnd.databricks.v1+cell": {
     "cellMetadata": {
      "byteLimit": 2048000,
      "rowLimit": 10000
     },
     "inputWidgets": {},
     "nuid": "c78d8b8d-e3b5-4fdd-af81-af9531938ff9",
     "showTitle": false,
     "title": ""
    }
   },
   "outputs": [
    {
     "output_type": "display_data",
     "data": {
      "text/html": [
       "<style scoped>\n",
       "  .ansiout {\n",
       "    display: block;\n",
       "    unicode-bidi: embed;\n",
       "    white-space: pre-wrap;\n",
       "    word-wrap: break-word;\n",
       "    word-break: break-all;\n",
       "    font-family: \"Source Code Pro\", \"Menlo\", monospace;;\n",
       "    font-size: 13px;\n",
       "    color: #555;\n",
       "    margin-left: 4px;\n",
       "    line-height: 19px;\n",
       "  }\n",
       "</style>\n",
       "<div class=\"ansiout\">10:27:34, INFO Received command c on object id p0\n",
       "10:27:34, INFO Received command c on object id p0\n",
       "10:27:34, INFO Received command c on object id p0\n",
       "10:27:34, INFO Received command c on object id p0\n",
       "</div>"
      ]
     },
     "metadata": {
      "application/vnd.databricks.v1+output": {
       "addedWidgets": {},
       "arguments": {},
       "data": "<div class=\"ansiout\">10:27:34, INFO Received command c on object id p0\n10:27:34, INFO Received command c on object id p0\n10:27:34, INFO Received command c on object id p0\n10:27:34, INFO Received command c on object id p0\n</div>",
       "datasetInfos": [],
       "metadata": {},
       "removedWidgets": [],
       "type": "html"
      }
     },
     "output_type": "display_data"
    }
   ],
   "source": [
    "def pipeline():\n",
    "    \n",
    "    # Transforrm PDF document to struct image format\n",
    "    pdf_to_image = PdfToImage()\n",
    "    pdf_to_image.setInputCol(\"content\")\n",
    "    pdf_to_image.setOutputCol(\"image\")\n",
    "    pdf_to_image.setResolution(200)\n",
    "    pdf_to_image.setPartitionNum(8)\n",
    "\n",
    "    # Run OCR\n",
    "    ocr = ImageToText()\n",
    "    ocr.setInputCol(\"image\")\n",
    "    ocr.setOutputCol(\"text\")\n",
    "    ocr.setConfidenceThreshold(65)\n",
    "    \n",
    "    pipeline = PipelineModel(stages=[\n",
    "        pdf_to_image,\n",
    "        ocr\n",
    "    ])\n",
    "    \n",
    "    return pipeline"
   ]
  },
  {
   "cell_type": "markdown",
   "metadata": {
    "application/vnd.databricks.v1+cell": {
     "cellMetadata": {
      "byteLimit": 2048000,
      "rowLimit": 10000
     },
     "inputWidgets": {},
     "nuid": "c0e3e7cf-d79c-4a2f-a0b4-6400f01f8cea",
     "showTitle": false,
     "title": ""
    }
   },
   "source": [
    "## Copy example files from OCR resources to DBFS"
   ]
  },
  {
   "cell_type": "code",
   "execution_count": 0,
   "metadata": {
    "application/vnd.databricks.v1+cell": {
     "cellMetadata": {
      "byteLimit": 2048000,
      "rowLimit": 10000
     },
     "inputWidgets": {},
     "nuid": "17bc34bb-d14c-4493-8595-4ecb6376f588",
     "showTitle": false,
     "title": ""
    }
   },
   "outputs": [
    {
     "output_type": "display_data",
     "data": {
      "text/html": [
       "<style scoped>\n",
       "  .ansiout {\n",
       "    display: block;\n",
       "    unicode-bidi: embed;\n",
       "    white-space: pre-wrap;\n",
       "    word-wrap: break-word;\n",
       "    word-break: break-all;\n",
       "    font-family: \"Source Code Pro\", \"Menlo\", monospace;;\n",
       "    font-size: 13px;\n",
       "    color: #555;\n",
       "    margin-left: 4px;\n",
       "    line-height: 19px;\n",
       "  }\n",
       "</style>\n",
       "<div class=\"ansiout\">10:27:34, INFO Received command c on object id p0\n",
       "10:27:34, INFO Received command c on object id p0\n",
       "10:27:34, INFO Received command c on object id p0\n",
       "10:27:34, INFO Received command c on object id p0\n",
       "</div>"
      ]
     },
     "metadata": {
      "application/vnd.databricks.v1+output": {
       "addedWidgets": {},
       "arguments": {},
       "data": "<div class=\"ansiout\">10:27:34, INFO Received command c on object id p0\n10:27:34, INFO Received command c on object id p0\n10:27:34, INFO Received command c on object id p0\n10:27:34, INFO Received command c on object id p0\n</div>",
       "datasetInfos": [],
       "metadata": {},
       "removedWidgets": [],
       "type": "html"
      }
     },
     "output_type": "display_data"
    }
   ],
   "source": [
    "import pkg_resources\n",
    "import shutil, os\n",
    "ocr_examples = \"/dbfs/FileStore/examples\"\n",
    "resources = pkg_resources.resource_filename('sparkocr', 'resources')\n",
    "if not os.path.exists(ocr_examples):\n",
    "  shutil.copytree(resources, ocr_examples)"
   ]
  },
  {
   "cell_type": "code",
   "execution_count": 0,
   "metadata": {
    "application/vnd.databricks.v1+cell": {
     "cellMetadata": {
      "byteLimit": 2048000,
      "rowLimit": 10000
     },
     "inputWidgets": {},
     "nuid": "4013da1d-c86f-48ae-8196-28e674f1a588",
     "showTitle": false,
     "title": ""
    }
   },
   "outputs": [
    {
     "output_type": "display_data",
     "data": {
      "text/html": [
       "<style scoped>\n",
       "  .table-result-container {\n",
       "    max-height: 300px;\n",
       "    overflow: auto;\n",
       "  }\n",
       "  table, th, td {\n",
       "    border: 1px solid black;\n",
       "    border-collapse: collapse;\n",
       "  }\n",
       "  th, td {\n",
       "    padding: 5px;\n",
       "  }\n",
       "  th {\n",
       "    text-align: left;\n",
       "  }\n",
       "</style><div class='table-result-container'><table class='table-result'><thead style='background-color: white'><tr><th>path</th><th>name</th><th>size</th></tr></thead><tbody><tr><td>dbfs:/FileStore/examples/ocr/pdfs/alexandria_multi_page.pdf</td><td>alexandria_multi_page.pdf</td><td>70556</td></tr><tr><td>dbfs:/FileStore/examples/ocr/pdfs/fonts.pdf</td><td>fonts.pdf</td><td>11601</td></tr><tr><td>dbfs:/FileStore/examples/ocr/pdfs/genomics/</td><td>genomics/</td><td>0</td></tr><tr><td>dbfs:/FileStore/examples/ocr/pdfs/multiplepages/</td><td>multiplepages/</td><td>0</td></tr><tr><td>dbfs:/FileStore/examples/ocr/pdfs/rotated/</td><td>rotated/</td><td>0</td></tr><tr><td>dbfs:/FileStore/examples/ocr/pdfs/tabular-pdf/</td><td>tabular-pdf/</td><td>0</td></tr><tr><td>dbfs:/FileStore/examples/ocr/pdfs/test_document.pdf</td><td>test_document.pdf</td><td>693743</td></tr></tbody></table></div>"
      ]
     },
     "metadata": {
      "application/vnd.databricks.v1+output": {
       "addedWidgets": {},
       "aggData": [],
       "aggError": "",
       "aggOverflow": false,
       "aggSchema": [],
       "aggSeriesLimitReached": false,
       "aggType": "",
       "arguments": {},
       "columnCustomDisplayInfos": {},
       "data": [
        [
         "dbfs:/FileStore/examples/ocr/pdfs/alexandria_multi_page.pdf",
         "alexandria_multi_page.pdf",
         70556
        ],
        [
         "dbfs:/FileStore/examples/ocr/pdfs/fonts.pdf",
         "fonts.pdf",
         11601
        ],
        [
         "dbfs:/FileStore/examples/ocr/pdfs/genomics/",
         "genomics/",
         0
        ],
        [
         "dbfs:/FileStore/examples/ocr/pdfs/multiplepages/",
         "multiplepages/",
         0
        ],
        [
         "dbfs:/FileStore/examples/ocr/pdfs/rotated/",
         "rotated/",
         0
        ],
        [
         "dbfs:/FileStore/examples/ocr/pdfs/tabular-pdf/",
         "tabular-pdf/",
         0
        ],
        [
         "dbfs:/FileStore/examples/ocr/pdfs/test_document.pdf",
         "test_document.pdf",
         693743
        ]
       ],
       "datasetInfos": [],
       "dbfsResultPath": null,
       "isJsonSchema": true,
       "metadata": {
        "isDbfsCommandResult": false
       },
       "overflow": false,
       "plotOptions": {
        "customPlotOptions": {},
        "displayType": "table",
        "pivotAggregation": null,
        "pivotColumns": null,
        "xColumns": null,
        "yColumns": null
       },
       "removedWidgets": [],
       "schema": [
        {
         "metadata": "{}",
         "name": "path",
         "type": "\"string\""
        },
        {
         "metadata": "{}",
         "name": "name",
         "type": "\"string\""
        },
        {
         "metadata": "{}",
         "name": "size",
         "type": "\"long\""
        }
       ],
       "type": "table"
      }
     },
     "output_type": "display_data"
    }
   ],
   "source": [
    "%fs ls /FileStore/examples/ocr/pdfs"
   ]
  },
  {
   "cell_type": "markdown",
   "metadata": {
    "application/vnd.databricks.v1+cell": {
     "cellMetadata": {
      "byteLimit": 2048000,
      "rowLimit": 10000
     },
     "inputWidgets": {},
     "nuid": "360e7100-12fe-47c0-9f72-11798a8e9d96",
     "showTitle": false,
     "title": ""
    }
   },
   "source": [
    "## Read PDF document as binary file from DBFS"
   ]
  },
  {
   "cell_type": "code",
   "execution_count": 0,
   "metadata": {
    "application/vnd.databricks.v1+cell": {
     "cellMetadata": {
      "byteLimit": 2048000,
      "rowLimit": 10000
     },
     "inputWidgets": {},
     "nuid": "ae479179-1f41-4066-9373-881cf5a5671d",
     "showTitle": false,
     "title": ""
    }
   },
   "outputs": [
    {
     "output_type": "display_data",
     "data": {
      "text/html": [
       "<style scoped>\n",
       "  .ansiout {\n",
       "    display: block;\n",
       "    unicode-bidi: embed;\n",
       "    white-space: pre-wrap;\n",
       "    word-wrap: break-word;\n",
       "    word-break: break-all;\n",
       "    font-family: \"Source Code Pro\", \"Menlo\", monospace;;\n",
       "    font-size: 13px;\n",
       "    color: #555;\n",
       "    margin-left: 4px;\n",
       "    line-height: 19px;\n",
       "  }\n",
       "</style>\n",
       "<div class=\"ansiout\">10:27:43, INFO Received command c on object id p0\n",
       "10:27:43, INFO Received command c on object id p0\n",
       "10:27:43, INFO Received command c on object id p0\n",
       "10:27:43, INFO Received command c on object id p0\n",
       "10:27:43, INFO Received command c on object id p0\n",
       "10:27:43, INFO Received command c on object id p0\n",
       "10:27:43, INFO Received command c on object id p0\n",
       "10:27:43, INFO Received command c on object id p0\n",
       "10:27:43, INFO Received command c on object id p0\n",
       "</div>"
      ]
     },
     "metadata": {
      "application/vnd.databricks.v1+output": {
       "addedWidgets": {},
       "arguments": {},
       "data": "<div class=\"ansiout\">10:27:43, INFO Received command c on object id p0\n10:27:43, INFO Received command c on object id p0\n10:27:43, INFO Received command c on object id p0\n10:27:43, INFO Received command c on object id p0\n10:27:43, INFO Received command c on object id p0\n10:27:43, INFO Received command c on object id p0\n10:27:43, INFO Received command c on object id p0\n10:27:43, INFO Received command c on object id p0\n10:27:43, INFO Received command c on object id p0\n</div>",
       "datasetInfos": [],
       "metadata": {},
       "removedWidgets": [],
       "type": "html"
      }
     },
     "output_type": "display_data"
    },
    {
     "output_type": "display_data",
     "data": {
      "text/html": [
       "<style scoped>\n",
       "  .table-result-container {\n",
       "    max-height: 300px;\n",
       "    overflow: auto;\n",
       "  }\n",
       "  table, th, td {\n",
       "    border: 1px solid black;\n",
       "    border-collapse: collapse;\n",
       "  }\n",
       "  th, td {\n",
       "    padding: 5px;\n",
       "  }\n",
       "  th {\n",
       "    text-align: left;\n",
       "  }\n",
       "</style><div class='table-result-container'><table class='table-result'><thead style='background-color: white'><tr><th>path</th><th>modificationTime</th><th>length</th><th>content</th></tr></thead><tbody><tr><td>dbfs:/FileStore/examples/ocr/pdfs/test_document.pdf</td><td>2021-07-05T11:13:33.000+0000</td><td>693743</td><td>JVBERi0xLjQgCjEgMCBvYmoKPDwKL1BhZ2VzIDIgMCBSCi9UeXBlIC9DYXRhbG9nCj4+CmVuZG9iagoyIDAgb2JqCjw8Ci9UeXBlIC9QYWdlcwovS2lkcyBbIDMgMCBSIDE3IDAgUiBdCi9Db3VudCAyCj4+CmVuZG9iagozIDA= (truncated)</td></tr></tbody></table></div>"
      ]
     },
     "metadata": {
      "application/vnd.databricks.v1+output": {
       "addedWidgets": {},
       "aggData": [],
       "aggError": "",
       "aggOverflow": false,
       "aggSchema": [],
       "aggSeriesLimitReached": false,
       "aggType": "",
       "arguments": {},
       "columnCustomDisplayInfos": {},
       "data": [
        [
         "dbfs:/FileStore/examples/ocr/pdfs/test_document.pdf",
         "2021-07-05T11:13:33.000+0000",
         693743,
         "JVBERi0xLjQgCjEgMCBvYmoKPDwKL1BhZ2VzIDIgMCBSCi9UeXBlIC9DYXRhbG9nCj4+CmVuZG9iagoyIDAgb2JqCjw8Ci9UeXBlIC9QYWdlcwovS2lkcyBbIDMgMCBSIDE3IDAgUiBdCi9Db3VudCAyCj4+CmVuZG9iagozIDA= (truncated)"
        ]
       ],
       "datasetInfos": [],
       "dbfsResultPath": null,
       "isJsonSchema": true,
       "metadata": {},
       "overflow": false,
       "plotOptions": {
        "customPlotOptions": {},
        "displayType": "table",
        "pivotAggregation": null,
        "pivotColumns": null,
        "xColumns": null,
        "yColumns": null
       },
       "removedWidgets": [],
       "schema": [
        {
         "metadata": "{}",
         "name": "path",
         "type": "\"string\""
        },
        {
         "metadata": "{}",
         "name": "modificationTime",
         "type": "\"timestamp\""
        },
        {
         "metadata": "{}",
         "name": "length",
         "type": "\"long\""
        },
        {
         "metadata": "{\"spark.contentAnnotation\":\"{\\\"mimeType\\\":\\\"application/pdf\\\"}\"}",
         "name": "content",
         "type": "\"binary\""
        }
       ],
       "type": "table"
      }
     },
     "output_type": "display_data"
    },
    {
     "output_type": "display_data",
     "data": {
      "text/html": [
       "<style scoped>\n",
       "  .ansiout {\n",
       "    display: block;\n",
       "    unicode-bidi: embed;\n",
       "    white-space: pre-wrap;\n",
       "    word-wrap: break-word;\n",
       "    word-break: break-all;\n",
       "    font-family: \"Source Code Pro\", \"Menlo\", monospace;;\n",
       "    font-size: 13px;\n",
       "    color: #555;\n",
       "    margin-left: 4px;\n",
       "    line-height: 19px;\n",
       "  }\n",
       "</style>\n",
       "<div class=\"ansiout\">10:27:43, INFO Received command c on object id p0\n",
       "10:27:43, INFO Received command c on object id p0\n",
       "10:27:43, INFO Received command c on object id p0\n",
       "10:27:43, INFO Received command c on object id p0\n",
       "10:27:43, INFO Received command c on object id p0\n",
       "</div>"
      ]
     },
     "metadata": {
      "application/vnd.databricks.v1+output": {
       "addedWidgets": {},
       "arguments": {},
       "data": "<div class=\"ansiout\">10:27:43, INFO Received command c on object id p0\n10:27:43, INFO Received command c on object id p0\n10:27:43, INFO Received command c on object id p0\n10:27:43, INFO Received command c on object id p0\n10:27:43, INFO Received command c on object id p0\n</div>",
       "datasetInfos": [],
       "metadata": {},
       "removedWidgets": [],
       "type": "html"
      }
     },
     "output_type": "display_data"
    }
   ],
   "source": [
    "pdf_example = '/FileStore/examples/ocr/pdfs/test_document.pdf'\n",
    "pdf_example_df = spark.read.format(\"binaryFile\").load(pdf_example).cache()\n",
    "display(pdf_example_df)"
   ]
  },
  {
   "cell_type": "markdown",
   "metadata": {
    "application/vnd.databricks.v1+cell": {
     "cellMetadata": {
      "byteLimit": 2048000,
      "rowLimit": 10000
     },
     "inputWidgets": {},
     "nuid": "f8f321ba-31e8-431a-a3c7-e6f0e3814745",
     "showTitle": false,
     "title": ""
    }
   },
   "source": [
    "## Preview PDF using _display_images_ function"
   ]
  },
  {
   "cell_type": "code",
   "execution_count": 0,
   "metadata": {
    "application/vnd.databricks.v1+cell": {
     "cellMetadata": {
      "byteLimit": 2048000,
      "rowLimit": 10000
     },
     "inputWidgets": {},
     "nuid": "3094cb0b-37a0-4c2f-b2f1-20b6005aa7b4",
     "showTitle": false,
     "title": ""
    }
   },
   "outputs": [
    {
     "output_type": "display_data",
     "data": {
      "text/html": [
       "<style scoped>\n",
       "  .ansiout {\n",
       "    display: block;\n",
       "    unicode-bidi: embed;\n",
       "    white-space: pre-wrap;\n",
       "    word-wrap: break-word;\n",
       "    word-break: break-all;\n",
       "    font-family: \"Source Code Pro\", \"Menlo\", monospace;;\n",
       "    font-size: 13px;\n",
       "    color: #555;\n",
       "    margin-left: 4px;\n",
       "    line-height: 19px;\n",
       "  }\n",
       "</style>\n",
       "<div class=\"ansiout\">10:30:06, INFO Received command c on object id p0\n",
       "10:30:06, INFO Received command c on object id p0\n",
       "10:30:06, INFO Received command c on object id p0\n",
       "10:30:06, INFO Received command c on object id p0\n",
       "10:30:06, INFO Received command c on object id p0\n",
       "10:30:06, INFO Received command c on object id p0\n",
       "10:30:06, INFO Received command c on object id p0\n",
       "10:30:06, INFO Received command c on object id p0\n",
       "10:30:06, INFO Received command c on object id p0\n",
       "10:30:06, INFO Received command c on object id p0\n",
       "10:30:06, INFO Received command c on object id p0\n",
       "10:30:07, INFO Received command c on object id p0\n",
       "10:30:07, INFO Received command c on object id p0\n",
       "10:30:07, INFO Received command c on object id p0\n",
       "10:30:07, INFO Received command c on object id p0\n",
       "10:30:07, INFO Received command c on object id p0\n",
       "10:30:07, INFO Received command c on object id p0\n",
       "10:30:07, INFO Received command c on object id p0\n",
       "10:30:07, INFO Received command c on object id p0\n",
       "10:30:07, INFO Received command c on object id p0\n",
       "10:30:07, INFO Received command c on object id p0\n",
       "10:30:07, INFO Received command c on object id p0\n",
       "10:30:07, INFO Received command c on object id p0\n",
       "10:30:07, INFO Received command c on object id p0\n",
       "10:30:07, INFO Received command c on object id p0\n",
       "10:30:07, INFO Received command c on object id p0\n",
       "10:30:07, INFO Received command c on object id p0\n",
       "10:30:07, INFO Received command c on object id p0\n",
       "10:30:07, INFO Received command c on object id p0\n",
       "10:30:07, INFO Received command c on object id p0\n",
       "10:30:07, INFO Received command c on object id p0\n",
       "10:30:07, INFO Received command c on object id p0\n",
       "10:30:07, INFO Received command c on object id p0\n",
       "10:30:07, INFO Received command c on object id p0\n",
       "10:30:07, INFO Received command c on object id p0\n",
       "10:30:07, INFO Received command c on object id p0\n",
       "10:30:07, INFO Received command c on object id p0\n",
       "10:30:08, INFO Received command c on object id p0\n",
       "10:30:08, INFO Received command c on object id p0\n",
       "10:30:08, INFO Received command c on object id p0\n",
       "10:30:08, INFO Received command c on object id p0\n",
       "10:30:08, INFO Received command c on object id p0\n",
       "10:30:08, INFO Received command c on object id p0\n",
       "10:30:08, INFO Received command c on object id p0\n",
       "10:30:08, INFO Received command c on object id p0\n",
       "10:30:08, INFO Received command c on object id p0\n",
       "10:30:08, INFO Received command c on object id p0\n",
       "10:30:08, INFO Received command c on object id p0\n",
       "10:30:08, INFO Received command c on object id p0\n",
       "10:30:08, INFO Received command c on object id p0\n",
       "10:30:08, INFO Received command c on object id p0\n",
       "10:30:08, INFO Received command c on object id p0\n",
       "10:30:08, INFO Received command c on object id p0\n",
       "10:30:08, INFO Received command c on object id p0\n",
       "10:30:08, INFO Received command c on object id p0\n",
       "10:30:08, INFO Received command c on object id p0\n",
       "10:30:08, INFO Received command c on object id p0\n",
       "10:30:08, INFO Received command c on object id p0\n",
       "10:30:08, INFO Received command c on object id p0\n",
       "10:30:08, INFO Received command c on object id p0\n",
       "10:30:08, INFO Received command c on object id p0\n",
       "10:30:08, INFO Received command c on object id p0\n",
       "10:30:09, INFO Received command c on object id p0\n",
       "10:30:09, INFO Received command c on object id p0\n",
       "10:30:09, INFO Received command c on object id p0\n",
       "10:30:09, INFO Received command c on object id p0\n",
       "10:30:09, INFO Received command c on object id p0\n",
       "10:30:09, INFO Received command c on object id p0\n",
       "10:30:09, INFO Received command c on object id p0\n",
       "10:30:09, INFO Received command c on object id p0\n",
       "10:30:09, INFO Received command c on object id p0\n",
       "10:30:09, INFO Received command c on object id p0\n",
       "10:30:09, INFO Received command c on object id p0\n",
       "10:30:09, INFO Received command c on object id p0\n",
       "10:30:09, INFO Received command c on object id p0\n",
       "10:30:09, INFO Received command c on object id p0\n",
       "10:30:09, INFO Received command c on object id p0\n",
       "10:30:09, INFO Received command c on object id p0\n",
       "10:30:09, INFO Received command c on object id p0\n",
       "10:30:09, INFO Received command c on object id p0\n",
       "10:30:09, INFO Received command c on object id p0\n",
       "10:30:09, INFO Received command c on object id p0\n",
       "10:30:09, INFO Received command c on object id p0\n",
       "10:30:09, INFO Received command c on object id p0\n",
       "10:30:09, INFO Received command c on object id p0\n",
       "10:30:09, INFO Received command c on object id p0\n",
       "10:30:09, INFO Received command c on object id p0\n",
       "10:30:09, INFO Received command c on object id p0\n",
       "10:30:10, INFO Received command c on object id p0\n",
       "10:30:10, INFO Received command c on object id p0\n",
       "10:30:10, INFO Received command c on object id p0\n",
       "10:30:10, INFO Received command c on object id p0\n",
       "10:30:10, INFO Received command c on object id p0\n",
       "10:30:10, INFO Received command c on object id p0\n",
       "10:30:10, INFO Received command c on object id p0\n",
       "10:30:10, INFO Received command c on object id p0\n",
       "10:30:10, INFO Received command c on object id p0\n",
       "10:30:10, INFO Received command c on object id p0\n",
       "10:30:10, INFO Received command c on object id p0\n",
       "10:30:10, INFO Received command c on object id p0\n",
       "10:30:10, INFO Received command c on object id p0\n",
       "10:30:10, INFO Received command c on object id p0\n",
       "10:30:10, INFO Received command c on object id p0\n",
       "10:30:10, INFO Received command c on object id p0\n",
       "10:30:10, INFO Received command c on object id p0\n",
       "10:30:10, INFO Received command c on object id p0\n",
       "10:30:10, INFO Received command c on object id p0\n",
       "10:30:10, INFO Received command c on object id p0\n",
       "10:30:10, INFO Received command c on object id p0\n",
       "10:30:10, INFO Received command c on object id p0\n",
       "10:30:10, INFO Received command c on object id p0\n",
       "10:30:10, INFO Received command c on object id p0\n",
       "10:30:10, INFO Received command c on object id p0\n",
       "10:30:10, INFO Received command c on object id p0\n",
       "10:30:11, INFO Received command c on object id p0\n",
       "10:30:11, INFO Received command c on object id p0\n",
       "10:30:11, INFO Received command c on object id p0\n",
       "10:30:11, INFO Received command c on object id p0\n",
       "10:30:11, INFO Received command c on object id p0\n",
       "10:30:11, INFO Received command c on object id p0\n",
       "10:30:11, INFO Received command c on object id p0\n",
       "10:30:11, INFO Received command c on object id p0\n",
       "10:30:11, INFO Received command c on object id p0\n",
       "10:30:11, INFO Received command c on object id p0\n",
       "10:30:11, INFO Received command c on object id p0\n",
       "10:30:11, INFO Received command c on object id p0\n",
       "10:30:11, INFO Received command c on object id p0\n",
       "10:30:11, INFO Received command c on object id p0\n",
       "10:30:11, INFO Received command c on object id p0\n",
       "10:30:11, INFO Received command c on object id p0\n",
       "10:30:11, INFO Received command c on object id p0\n",
       "10:30:11, INFO Received command c on object id p0\n",
       "10:30:11, INFO Received command c on object id p0\n",
       "10:30:11, INFO Received command c on object id p0\n",
       "10:30:11, INFO Received command c on object id p0\n",
       "10:30:11, INFO Received command c on object id p0\n",
       "10:30:11, INFO Received command c on object id p0\n",
       "10:30:11, INFO Received command c on object id p0\n",
       "10:30:11, INFO Received command c on object id p0\n",
       "10:30:11, INFO Received command c on object id p0\n",
       "10:30:12, INFO Received command c on object id p0\n",
       "10:30:12, INFO Received command c on object id p0\n",
       "10:30:12, INFO Received command c on object id p0\n",
       "10:30:12, INFO Received command c on object id p0\n",
       "10:30:12, INFO Received command c on object id p0\n",
       "10:30:12, INFO Received command c on object id p0\n",
       "10:30:12, INFO Received command c on object id p0\n",
       "10:30:12, INFO Received command c on object id p0\n",
       "10:30:12, INFO Received command c on object id p0\n",
       "10:30:12, INFO Received command c on object id p0\n",
       "10:30:12, INFO Received command c on object id p0\n",
       "10:30:12, INFO Received command c on object id p0\n",
       "10:30:12, INFO Received command c on object id p0\n",
       "10:30:12, INFO Received command c on object id p0\n",
       "10:30:12, INFO Received command c on object id p0\n",
       "10:30:12, INFO Received command c on object id p0\n",
       "10:30:12, INFO Received command c on object id p0\n",
       "10:30:12, INFO Received command c on object id p0\n",
       "10:30:12, INFO Received command c on object id p0\n",
       "10:30:12, INFO Received command c on object id p0\n",
       "10:30:12, INFO Received command c on object id p0\n",
       "10:30:12, INFO Received command c on object id p0\n",
       "10:30:12, INFO Received command c on object id p0\n",
       "10:30:12, INFO Received command c on object id p0\n",
       "10:30:12, INFO Received command c on object id p0\n",
       "10:30:12, INFO Received command c on object id p0\n",
       "10:30:13, INFO Received command c on object id p0\n",
       "10:30:13, INFO Received command c on object id p0\n",
       "10:30:13, INFO Received command c on object id p0\n",
       "10:30:13, INFO Received command c on object id p0\n",
       "10:30:13, INFO Received command c on object id p0\n",
       "10:30:13, INFO Received command c on object id p0\n",
       "10:30:13, INFO Received command c on object id p0\n",
       "10:30:13, INFO Received command c on object id p0\n",
       "10:30:13, INFO Received command c on object id p0\n",
       "10:30:13, INFO Received command c on object id p0\n",
       "10:30:13, INFO Received command c on object id p0\n",
       "10:30:13, INFO Received command c on object id p0\n",
       "10:30:13, INFO Received command c on object id p0\n",
       "10:30:13, INFO Received command c on object id p0\n",
       "10:30:13, INFO Received command c on object id p0\n",
       "10:30:13, INFO Received command c on object id p0\n",
       "10:30:13, INFO Received command c on object id p0\n",
       "10:30:13, INFO Received command c on object id p0\n",
       "10:30:13, INFO Received command c on object id p0\n",
       "10:30:13, INFO Received command c on object id p0\n",
       "10:30:13, INFO Received command c on object id p0\n",
       "10:30:13, INFO Received command c on object id p0\n",
       "10:30:13, INFO Received command c on object id p0\n",
       "10:30:13, INFO Received command c on object id p0\n",
       "10:30:13, INFO Received command c on object id p0\n",
       "10:30:13, INFO Received command c on object id p0\n",
       "10:30:14, INFO Received command c on object id p0\n",
       "10:30:14, INFO Received command c on object id p0\n",
       "10:30:14, INFO Received command c on object id p0\n",
       "10:30:14, INFO Received command c on object id p0\n",
       "10:30:14, INFO Received command c on object id p0\n",
       "10:30:14, INFO Received command c on object id p0\n",
       "10:30:14, INFO Received command c on object id p0\n",
       "10:30:14, INFO Received command c on object id p0\n",
       "10:30:14, INFO Received command c on object id p0\n",
       "10:30:14, INFO Received command c on object id p0\n",
       "10:30:14, INFO Received command c on object id p0\n",
       "10:30:14, INFO Received command c on object id p0\n",
       "10:30:14, INFO Received command c on object id p0\n",
       "10:30:14, INFO Received command c on object id p0\n",
       "10:30:14, INFO Received command c on object id p0\n",
       "10:30:14, INFO Received command c on object id p0\n",
       "10:30:14, INFO Received command c on object id p0\n",
       "10:30:14, INFO Received command c on object id p0\n",
       "10:30:14, INFO Received command c on object id p0\n",
       "10:30:14, INFO Received command c on object id p0\n",
       "10:30:14, INFO Received command c on object id p0\n",
       "10:30:14, INFO Received command c on object id p0\n",
       "10:30:14, INFO Received command c on object id p0\n",
       "10:30:15, INFO Received command c on object id p0\n",
       "10:30:15, INFO Received command c on object id p0\n",
       "10:30:15, INFO Received command c on object id p0\n",
       "10:30:15, INFO Received command c on object id p0\n",
       "10:30:15, INFO Received command c on object id p0\n",
       "10:30:15, INFO Received command c on object id p0\n",
       "10:30:15, INFO Received command c on object id p0\n",
       "10:30:15, INFO Received command c on object id p0\n",
       "10:30:15, INFO Received command c on object id p0\n",
       "10:30:15, INFO Received command c on object id p0\n",
       "10:30:15, INFO Received command c on object id p0\n",
       "10:30:15, INFO Received command c on object id p0\n",
       "10:30:15, INFO Received command c on object id p0\n",
       "10:30:15, INFO Received command c on object id p0\n",
       "10:30:15, INFO Received command c on object id p0\n",
       "10:30:15, INFO Received command c on object id p0\n",
       "10:30:15, INFO Received command c on object id p0\n",
       "10:30:15, INFO Received command c on object id p0\n",
       "10:30:15, INFO Received command c on object id p0\n",
       "10:30:15, INFO Received command c on object id p0\n",
       "10:30:15, INFO Received command c on object id p0\n",
       "10:30:15, INFO Received command c on object id p0\n",
       "10:30:15, INFO Received command c on object id p0\n",
       "10:30:15, INFO Received command c on object id p0\n",
       "10:30:15, INFO Received command c on object id p0\n",
       "10:30:15, INFO Received command c on object id p0\n",
       "10:30:16, INFO Received command c on object id p0\n",
       "10:30:16, INFO Received command c on object id p0\n",
       "10:30:16, INFO Received command c on object id p0\n",
       "10:30:16, INFO Received command c on object id p0\n",
       "10:30:16, INFO Received command c on object id p0\n",
       "10:30:16, INFO Received command c on object id p0\n",
       "10:30:16, INFO Received command c on object id p0\n",
       "10:30:16, INFO Received command c on object id p0\n",
       "10:30:16, INFO Received command c on object id p0\n",
       "10:30:16, INFO Received command c on object id p0\n",
       "10:30:16, INFO Received command c on object id p0\n",
       "10:30:16, INFO Received command c on object id p0\n",
       "10:30:16, INFO Received command c on object id p0\n",
       "10:30:16, INFO Received command c on object id p0\n",
       "10:30:16, INFO Received command c on object id p0\n",
       "10:30:16, INFO Received command c on object id p0\n",
       "10:30:16, INFO Received command c on object id p0\n",
       "10:30:16, INFO Received command c on object id p0\n",
       "10:30:16, INFO Received command c on object id p0\n",
       "10:30:16, INFO Received command c on object id p0\n",
       "10:30:16, INFO Received command c on object id p0\n",
       "10:30:16, INFO Received command c on object id p0\n",
       "10:30:16, INFO Received command c on object id p0\n",
       "10:30:16, INFO Received command c on object id p0\n",
       "10:30:16, INFO Received command c on object id p0\n",
       "10:30:16, INFO Received command c on object id p0\n",
       "10:30:17, INFO Received command c on object id p0\n",
       "10:30:17, INFO Received command c on object id p0\n",
       "10:30:17, INFO Received command c on object id p0\n",
       "10:30:17, INFO Received command c on object id p0\n",
       "10:30:17, INFO Received command c on object id p0\n",
       "10:30:17, INFO Received command c on object id p0\n",
       "10:30:17, INFO Received command c on object id p0\n",
       "10:30:17, INFO Received command c on object id p0\n",
       "10:30:17, INFO Received command c on object id p0\n",
       "10:30:17, INFO Received command c on object id p0\n",
       "10:30:17, INFO Received command c on object id p0\n",
       "10:30:17, INFO Received command c on object id p0\n",
       "10:30:17, INFO Received command c on object id p0\n",
       "10:30:17, INFO Received command c on object id p0\n",
       "10:30:17, INFO Received command c on object id p0\n",
       "10:30:17, INFO Received command c on object id p0\n",
       "10:30:17, INFO Received command c on object id p0\n",
       "10:30:17, INFO Received command c on object id p0\n",
       "10:30:17, INFO Received command c on object id p0\n",
       "10:30:17, INFO Received command c on object id p0\n",
       "10:30:17, INFO Received command c on object id p0\n",
       "10:30:17, INFO Received command c on object id p0\n",
       "10:30:17, INFO Received command c on object id p0\n",
       "10:30:17, INFO Received command c on object id p0\n",
       "10:30:17, INFO Received command c on object id p0\n",
       "</div>"
      ]
     },
     "metadata": {
      "application/vnd.databricks.v1+output": {
       "addedWidgets": {},
       "arguments": {},
       "data": "<div class=\"ansiout\">10:30:06, INFO Received command c on object id p0\n10:30:06, INFO Received command c on object id p0\n10:30:06, INFO Received command c on object id p0\n10:30:06, INFO Received command c on object id p0\n10:30:06, INFO Received command c on object id p0\n10:30:06, INFO Received command c on object id p0\n10:30:06, INFO Received command c on object id p0\n10:30:06, INFO Received command c on object id p0\n10:30:06, INFO Received command c on object id p0\n10:30:06, INFO Received command c on object id p0\n10:30:06, INFO Received command c on object id p0\n10:30:07, INFO Received command c on object id p0\n10:30:07, INFO Received command c on object id p0\n10:30:07, INFO Received command c on object id p0\n10:30:07, INFO Received command c on object id p0\n10:30:07, INFO Received command c on object id p0\n10:30:07, INFO Received command c on object id p0\n10:30:07, INFO Received command c on object id p0\n10:30:07, INFO Received command c on object id p0\n10:30:07, INFO Received command c on object id p0\n10:30:07, INFO Received command c on object id p0\n10:30:07, INFO Received command c on object id p0\n10:30:07, INFO Received command c on object id p0\n10:30:07, INFO Received command c on object id p0\n10:30:07, INFO Received command c on object id p0\n10:30:07, INFO Received command c on object id p0\n10:30:07, INFO Received command c on object id p0\n10:30:07, INFO Received command c on object id p0\n10:30:07, INFO Received command c on object id p0\n10:30:07, INFO Received command c on object id p0\n10:30:07, INFO Received command c on object id p0\n10:30:07, INFO Received command c on object id p0\n10:30:07, INFO Received command c on object id p0\n10:30:07, INFO Received command c on object id p0\n10:30:07, INFO Received command c on object id p0\n10:30:07, INFO Received command c on object id p0\n10:30:07, INFO Received command c on object id p0\n10:30:08, INFO Received command c on object id p0\n10:30:08, INFO Received command c on object id p0\n10:30:08, INFO Received command c on object id p0\n10:30:08, INFO Received command c on object id p0\n10:30:08, INFO Received command c on object id p0\n10:30:08, INFO Received command c on object id p0\n10:30:08, INFO Received command c on object id p0\n10:30:08, INFO Received command c on object id p0\n10:30:08, INFO Received command c on object id p0\n10:30:08, INFO Received command c on object id p0\n10:30:08, INFO Received command c on object id p0\n10:30:08, INFO Received command c on object id p0\n10:30:08, INFO Received command c on object id p0\n10:30:08, INFO Received command c on object id p0\n10:30:08, INFO Received command c on object id p0\n10:30:08, INFO Received command c on object id p0\n10:30:08, INFO Received command c on object id p0\n10:30:08, INFO Received command c on object id p0\n10:30:08, INFO Received command c on object id p0\n10:30:08, INFO Received command c on object id p0\n10:30:08, INFO Received command c on object id p0\n10:30:08, INFO Received command c on object id p0\n10:30:08, INFO Received command c on object id p0\n10:30:08, INFO Received command c on object id p0\n10:30:08, INFO Received command c on object id p0\n10:30:09, INFO Received command c on object id p0\n10:30:09, INFO Received command c on object id p0\n10:30:09, INFO Received command c on object id p0\n10:30:09, INFO Received command c on object id p0\n10:30:09, INFO Received command c on object id p0\n10:30:09, INFO Received command c on object id p0\n10:30:09, INFO Received command c on object id p0\n10:30:09, INFO Received command c on object id p0\n10:30:09, INFO Received command c on object id p0\n10:30:09, INFO Received command c on object id p0\n10:30:09, INFO Received command c on object id p0\n10:30:09, INFO Received command c on object id p0\n10:30:09, INFO Received command c on object id p0\n10:30:09, INFO Received command c on object id p0\n10:30:09, INFO Received command c on object id p0\n10:30:09, INFO Received command c on object id p0\n10:30:09, INFO Received command c on object id p0\n10:30:09, INFO Received command c on object id p0\n10:30:09, INFO Received command c on object id p0\n10:30:09, INFO Received command c on object id p0\n10:30:09, INFO Received command c on object id p0\n10:30:09, INFO Received command c on object id p0\n10:30:09, INFO Received command c on object id p0\n10:30:09, INFO Received command c on object id p0\n10:30:09, INFO Received command c on object id p0\n10:30:09, INFO Received command c on object id p0\n10:30:10, INFO Received command c on object id p0\n10:30:10, INFO Received command c on object id p0\n10:30:10, INFO Received command c on object id p0\n10:30:10, INFO Received command c on object id p0\n10:30:10, INFO Received command c on object id p0\n10:30:10, INFO Received command c on object id p0\n10:30:10, INFO Received command c on object id p0\n10:30:10, INFO Received command c on object id p0\n10:30:10, INFO Received command c on object id p0\n10:30:10, INFO Received command c on object id p0\n10:30:10, INFO Received command c on object id p0\n10:30:10, INFO Received command c on object id p0\n10:30:10, INFO Received command c on object id p0\n10:30:10, INFO Received command c on object id p0\n10:30:10, INFO Received command c on object id p0\n10:30:10, INFO Received command c on object id p0\n10:30:10, INFO Received command c on object id p0\n10:30:10, INFO Received command c on object id p0\n10:30:10, INFO Received command c on object id p0\n10:30:10, INFO Received command c on object id p0\n10:30:10, INFO Received command c on object id p0\n10:30:10, INFO Received command c on object id p0\n10:30:10, INFO Received command c on object id p0\n10:30:10, INFO Received command c on object id p0\n10:30:10, INFO Received command c on object id p0\n10:30:10, INFO Received command c on object id p0\n10:30:11, INFO Received command c on object id p0\n10:30:11, INFO Received command c on object id p0\n10:30:11, INFO Received command c on object id p0\n10:30:11, INFO Received command c on object id p0\n10:30:11, INFO Received command c on object id p0\n10:30:11, INFO Received command c on object id p0\n10:30:11, INFO Received command c on object id p0\n10:30:11, INFO Received command c on object id p0\n10:30:11, INFO Received command c on object id p0\n10:30:11, INFO Received command c on object id p0\n10:30:11, INFO Received command c on object id p0\n10:30:11, INFO Received command c on object id p0\n10:30:11, INFO Received command c on object id p0\n10:30:11, INFO Received command c on object id p0\n10:30:11, INFO Received command c on object id p0\n10:30:11, INFO Received command c on object id p0\n10:30:11, INFO Received command c on object id p0\n10:30:11, INFO Received command c on object id p0\n10:30:11, INFO Received command c on object id p0\n10:30:11, INFO Received command c on object id p0\n10:30:11, INFO Received command c on object id p0\n10:30:11, INFO Received command c on object id p0\n10:30:11, INFO Received command c on object id p0\n10:30:11, INFO Received command c on object id p0\n10:30:11, INFO Received command c on object id p0\n10:30:11, INFO Received command c on object id p0\n10:30:12, INFO Received command c on object id p0\n10:30:12, INFO Received command c on object id p0\n10:30:12, INFO Received command c on object id p0\n10:30:12, INFO Received command c on object id p0\n10:30:12, INFO Received command c on object id p0\n10:30:12, INFO Received command c on object id p0\n10:30:12, INFO Received command c on object id p0\n10:30:12, INFO Received command c on object id p0\n10:30:12, INFO Received command c on object id p0\n10:30:12, INFO Received command c on object id p0\n10:30:12, INFO Received command c on object id p0\n10:30:12, INFO Received command c on object id p0\n10:30:12, INFO Received command c on object id p0\n10:30:12, INFO Received command c on object id p0\n10:30:12, INFO Received command c on object id p0\n10:30:12, INFO Received command c on object id p0\n10:30:12, INFO Received command c on object id p0\n10:30:12, INFO Received command c on object id p0\n10:30:12, INFO Received command c on object id p0\n10:30:12, INFO Received command c on object id p0\n10:30:12, INFO Received command c on object id p0\n10:30:12, INFO Received command c on object id p0\n10:30:12, INFO Received command c on object id p0\n10:30:12, INFO Received command c on object id p0\n10:30:12, INFO Received command c on object id p0\n10:30:12, INFO Received command c on object id p0\n10:30:13, INFO Received command c on object id p0\n10:30:13, INFO Received command c on object id p0\n10:30:13, INFO Received command c on object id p0\n10:30:13, INFO Received command c on object id p0\n10:30:13, INFO Received command c on object id p0\n10:30:13, INFO Received command c on object id p0\n10:30:13, INFO Received command c on object id p0\n10:30:13, INFO Received command c on object id p0\n10:30:13, INFO Received command c on object id p0\n10:30:13, INFO Received command c on object id p0\n10:30:13, INFO Received command c on object id p0\n10:30:13, INFO Received command c on object id p0\n10:30:13, INFO Received command c on object id p0\n10:30:13, INFO Received command c on object id p0\n10:30:13, INFO Received command c on object id p0\n10:30:13, INFO Received command c on object id p0\n10:30:13, INFO Received command c on object id p0\n10:30:13, INFO Received command c on object id p0\n10:30:13, INFO Received command c on object id p0\n10:30:13, INFO Received command c on object id p0\n10:30:13, INFO Received command c on object id p0\n10:30:13, INFO Received command c on object id p0\n10:30:13, INFO Received command c on object id p0\n10:30:13, INFO Received command c on object id p0\n10:30:13, INFO Received command c on object id p0\n10:30:13, INFO Received command c on object id p0\n10:30:14, INFO Received command c on object id p0\n10:30:14, INFO Received command c on object id p0\n10:30:14, INFO Received command c on object id p0\n10:30:14, INFO Received command c on object id p0\n10:30:14, INFO Received command c on object id p0\n10:30:14, INFO Received command c on object id p0\n10:30:14, INFO Received command c on object id p0\n10:30:14, INFO Received command c on object id p0\n10:30:14, INFO Received command c on object id p0\n10:30:14, INFO Received command c on object id p0\n10:30:14, INFO Received command c on object id p0\n10:30:14, INFO Received command c on object id p0\n10:30:14, INFO Received command c on object id p0\n10:30:14, INFO Received command c on object id p0\n10:30:14, INFO Received command c on object id p0\n10:30:14, INFO Received command c on object id p0\n10:30:14, INFO Received command c on object id p0\n10:30:14, INFO Received command c on object id p0\n10:30:14, INFO Received command c on object id p0\n10:30:14, INFO Received command c on object id p0\n10:30:14, INFO Received command c on object id p0\n10:30:14, INFO Received command c on object id p0\n10:30:14, INFO Received command c on object id p0\n10:30:15, INFO Received command c on object id p0\n10:30:15, INFO Received command c on object id p0\n10:30:15, INFO Received command c on object id p0\n10:30:15, INFO Received command c on object id p0\n10:30:15, INFO Received command c on object id p0\n10:30:15, INFO Received command c on object id p0\n10:30:15, INFO Received command c on object id p0\n10:30:15, INFO Received command c on object id p0\n10:30:15, INFO Received command c on object id p0\n10:30:15, INFO Received command c on object id p0\n10:30:15, INFO Received command c on object id p0\n10:30:15, INFO Received command c on object id p0\n10:30:15, INFO Received command c on object id p0\n10:30:15, INFO Received command c on object id p0\n10:30:15, INFO Received command c on object id p0\n10:30:15, INFO Received command c on object id p0\n10:30:15, INFO Received command c on object id p0\n10:30:15, INFO Received command c on object id p0\n10:30:15, INFO Received command c on object id p0\n10:30:15, INFO Received command c on object id p0\n10:30:15, INFO Received command c on object id p0\n10:30:15, INFO Received command c on object id p0\n10:30:15, INFO Received command c on object id p0\n10:30:15, INFO Received command c on object id p0\n10:30:15, INFO Received command c on object id p0\n10:30:15, INFO Received command c on object id p0\n10:30:16, INFO Received command c on object id p0\n10:30:16, INFO Received command c on object id p0\n10:30:16, INFO Received command c on object id p0\n10:30:16, INFO Received command c on object id p0\n10:30:16, INFO Received command c on object id p0\n10:30:16, INFO Received command c on object id p0\n10:30:16, INFO Received command c on object id p0\n10:30:16, INFO Received command c on object id p0\n10:30:16, INFO Received command c on object id p0\n10:30:16, INFO Received command c on object id p0\n10:30:16, INFO Received command c on object id p0\n10:30:16, INFO Received command c on object id p0\n10:30:16, INFO Received command c on object id p0\n10:30:16, INFO Received command c on object id p0\n10:30:16, INFO Received command c on object id p0\n10:30:16, INFO Received command c on object id p0\n10:30:16, INFO Received command c on object id p0\n10:30:16, INFO Received command c on object id p0\n10:30:16, INFO Received command c on object id p0\n10:30:16, INFO Received command c on object id p0\n10:30:16, INFO Received command c on object id p0\n10:30:16, INFO Received command c on object id p0\n10:30:16, INFO Received command c on object id p0\n10:30:16, INFO Received command c on object id p0\n10:30:16, INFO Received command c on object id p0\n10:30:16, INFO Received command c on object id p0\n10:30:17, INFO Received command c on object id p0\n10:30:17, INFO Received command c on object id p0\n10:30:17, INFO Received command c on object id p0\n10:30:17, INFO Received command c on object id p0\n10:30:17, INFO Received command c on object id p0\n10:30:17, INFO Received command c on object id p0\n10:30:17, INFO Received command c on object id p0\n10:30:17, INFO Received command c on object id p0\n10:30:17, INFO Received command c on object id p0\n10:30:17, INFO Received command c on object id p0\n10:30:17, INFO Received command c on object id p0\n10:30:17, INFO Received command c on object id p0\n10:30:17, INFO Received command c on object id p0\n10:30:17, INFO Received command c on object id p0\n10:30:17, INFO Received command c on object id p0\n10:30:17, INFO Received command c on object id p0\n10:30:17, INFO Received command c on object id p0\n10:30:17, INFO Received command c on object id p0\n10:30:17, INFO Received command c on object id p0\n10:30:17, INFO Received command c on object id p0\n10:30:17, INFO Received command c on object id p0\n10:30:17, INFO Received command c on object id p0\n10:30:17, INFO Received command c on object id p0\n10:30:17, INFO Received command c on object id p0\n10:30:17, INFO Received command c on object id p0\n</div>",
       "datasetInfos": [],
       "metadata": {},
       "removedWidgets": [],
       "type": "html"
      }
     },
     "output_type": "display_data"
    },
    {
     "output_type": "display_data",
     "data": {
      "text/html": [
       "<ul style='list-style-type:none; padding-inline-start: 0px;'>\n",
       "            <li style='padding: 20px; background-color: rgba(0,0,0,.03);'>\n",
       "              <ul style='padding-inline-start: 0px;list-style-type:none;'>\n",
       "                <li><b>Origin:</b> dbfs:/FileStore/examples/ocr/pdfs/test_document.pdf</li>\n",
       "                <li><b>Resolution:</b> 300 dpi</li>\n",
       "                <li><b>Width:</b> 5024 px</li>\n",
       "                <li><b>Height:</b> 6615 px</li>\n",
       "                <li><b>Mode:</b> Greyscale</li>\n",
       "                <li><b>Number of channels:</b> 1</li>\n",
       "               </ul>\n",
       "            </li>\n",
       "            <li style='padding: 10px; background-color: rgba(0,0,0,.01);'>\n",
       "              <img src ='/files/tmp/86c5bc26-5220-11ee-a796-00163eb6990c.png' width='800'>\n",
       "            </li>\n",
       "            <li style='padding: 20px; background-color: rgba(0,0,0,.03);'>\n",
       "              <ul style='padding-inline-start: 0px;list-style-type:none;'>\n",
       "                <li><b>Origin:</b> dbfs:/FileStore/examples/ocr/pdfs/test_document.pdf</li>\n",
       "                <li><b>Resolution:</b> 300 dpi</li>\n",
       "                <li><b>Width:</b> 5074 px</li>\n",
       "                <li><b>Height:</b> 6599 px</li>\n",
       "                <li><b>Mode:</b> Greyscale</li>\n",
       "                <li><b>Number of channels:</b> 1</li>\n",
       "               </ul>\n",
       "            </li>\n",
       "            <li style='padding: 10px; background-color: rgba(0,0,0,.01);'>\n",
       "              <img src ='/files/tmp/87f4158e-5220-11ee-a796-00163eb6990c.png' width='800'>\n",
       "            </li></ul>"
      ]
     },
     "metadata": {
      "application/vnd.databricks.v1+output": {
       "addedWidgets": {},
       "arguments": {},
       "data": "<ul style='list-style-type:none; padding-inline-start: 0px;'>\n            <li style='padding: 20px; background-color: rgba(0,0,0,.03);'>\n              <ul style='padding-inline-start: 0px;list-style-type:none;'>\n                <li><b>Origin:</b> dbfs:/FileStore/examples/ocr/pdfs/test_document.pdf</li>\n                <li><b>Resolution:</b> 300 dpi</li>\n                <li><b>Width:</b> 5024 px</li>\n                <li><b>Height:</b> 6615 px</li>\n                <li><b>Mode:</b> Greyscale</li>\n                <li><b>Number of channels:</b> 1</li>\n               </ul>\n            </li>\n            <li style='padding: 10px; background-color: rgba(0,0,0,.01);'>\n              <img src ='/files/tmp/86c5bc26-5220-11ee-a796-00163eb6990c.png' width='800'>\n            </li>\n            <li style='padding: 20px; background-color: rgba(0,0,0,.03);'>\n              <ul style='padding-inline-start: 0px;list-style-type:none;'>\n                <li><b>Origin:</b> dbfs:/FileStore/examples/ocr/pdfs/test_document.pdf</li>\n                <li><b>Resolution:</b> 300 dpi</li>\n                <li><b>Width:</b> 5074 px</li>\n                <li><b>Height:</b> 6599 px</li>\n                <li><b>Mode:</b> Greyscale</li>\n                <li><b>Number of channels:</b> 1</li>\n               </ul>\n            </li>\n            <li style='padding: 10px; background-color: rgba(0,0,0,.01);'>\n              <img src ='/files/tmp/87f4158e-5220-11ee-a796-00163eb6990c.png' width='800'>\n            </li></ul>",
       "datasetInfos": [],
       "metadata": {},
       "removedWidgets": [],
       "textData": null,
       "type": "htmlSandbox"
      }
     },
     "output_type": "display_data"
    },
    {
     "output_type": "display_data",
     "data": {
      "text/html": [
       "<style scoped>\n",
       "  .ansiout {\n",
       "    display: block;\n",
       "    unicode-bidi: embed;\n",
       "    white-space: pre-wrap;\n",
       "    word-wrap: break-word;\n",
       "    word-break: break-all;\n",
       "    font-family: \"Source Code Pro\", \"Menlo\", monospace;;\n",
       "    font-size: 13px;\n",
       "    color: #555;\n",
       "    margin-left: 4px;\n",
       "    line-height: 19px;\n",
       "  }\n",
       "</style>\n",
       "<div class=\"ansiout\">10:30:17, INFO Received command c on object id p0\n",
       "10:30:17, INFO Received command c on object id p0\n",
       "10:30:17, INFO Received command c on object id p0\n",
       "10:30:17, INFO Received command c on object id p0\n",
       "10:30:17, INFO Received command c on object id p0\n",
       "</div>"
      ]
     },
     "metadata": {
      "application/vnd.databricks.v1+output": {
       "addedWidgets": {},
       "arguments": {},
       "data": "<div class=\"ansiout\">10:30:17, INFO Received command c on object id p0\n10:30:17, INFO Received command c on object id p0\n10:30:17, INFO Received command c on object id p0\n10:30:17, INFO Received command c on object id p0\n10:30:17, INFO Received command c on object id p0\n</div>",
       "datasetInfos": [],
       "metadata": {},
       "removedWidgets": [],
       "type": "html"
      }
     },
     "output_type": "display_data"
    }
   ],
   "source": [
    "display_images(PdfToImage().setOutputCol(\"image\").transform(pdf_example_df), limit=3)"
   ]
  },
  {
   "cell_type": "markdown",
   "metadata": {
    "application/vnd.databricks.v1+cell": {
     "cellMetadata": {
      "byteLimit": 2048000,
      "rowLimit": 10000
     },
     "inputWidgets": {},
     "nuid": "010a180e-d833-49ed-828b-45f983cf2ba6",
     "showTitle": false,
     "title": ""
    }
   },
   "source": [
    "## Run OCR pipelines"
   ]
  },
  {
   "cell_type": "code",
   "execution_count": 0,
   "metadata": {
    "application/vnd.databricks.v1+cell": {
     "cellMetadata": {
      "byteLimit": 2048000,
      "rowLimit": 10000
     },
     "inputWidgets": {},
     "nuid": "5e5a5675-90f2-426c-bc11-80c429a5a2fb",
     "showTitle": false,
     "title": ""
    }
   },
   "outputs": [
    {
     "output_type": "display_data",
     "data": {
      "text/html": [
       "<style scoped>\n",
       "  .ansiout {\n",
       "    display: block;\n",
       "    unicode-bidi: embed;\n",
       "    white-space: pre-wrap;\n",
       "    word-wrap: break-word;\n",
       "    word-break: break-all;\n",
       "    font-family: \"Source Code Pro\", \"Menlo\", monospace;;\n",
       "    font-size: 13px;\n",
       "    color: #555;\n",
       "    margin-left: 4px;\n",
       "    line-height: 19px;\n",
       "  }\n",
       "</style>\n",
       "<div class=\"ansiout\">10:30:18, INFO Received command c on object id p0\n",
       "10:30:18, INFO Received command c on object id p0\n",
       "10:30:18, INFO Received command c on object id p0\n",
       "10:30:18, INFO Received command c on object id p0\n",
       "10:30:18, INFO Received command c on object id p0\n",
       "10:30:18, INFO Received command c on object id p0\n",
       "10:30:18, INFO Received command c on object id p0\n",
       "10:30:18, INFO Received command c on object id p0\n",
       "10:30:18, INFO Received command c on object id p0\n",
       "10:30:18, INFO Received command c on object id p0\n",
       "10:30:18, INFO Received command c on object id p0\n",
       "10:30:18, INFO Received command c on object id p0\n",
       "</div>"
      ]
     },
     "metadata": {
      "application/vnd.databricks.v1+output": {
       "addedWidgets": {},
       "arguments": {},
       "data": "<div class=\"ansiout\">10:30:18, INFO Received command c on object id p0\n10:30:18, INFO Received command c on object id p0\n10:30:18, INFO Received command c on object id p0\n10:30:18, INFO Received command c on object id p0\n10:30:18, INFO Received command c on object id p0\n10:30:18, INFO Received command c on object id p0\n10:30:18, INFO Received command c on object id p0\n10:30:18, INFO Received command c on object id p0\n10:30:18, INFO Received command c on object id p0\n10:30:18, INFO Received command c on object id p0\n10:30:18, INFO Received command c on object id p0\n10:30:18, INFO Received command c on object id p0\n</div>",
       "datasetInfos": [],
       "metadata": {},
       "removedWidgets": [],
       "type": "html"
      }
     },
     "output_type": "display_data"
    }
   ],
   "source": [
    "result = pipeline().transform(pdf_example_df).cache()"
   ]
  },
  {
   "cell_type": "markdown",
   "metadata": {
    "application/vnd.databricks.v1+cell": {
     "cellMetadata": {
      "byteLimit": 2048000,
      "rowLimit": 10000
     },
     "inputWidgets": {},
     "nuid": "3dc6f259-d4e8-40c8-a5af-8aa879afc32f",
     "showTitle": false,
     "title": ""
    }
   },
   "source": [
    "## Display results"
   ]
  },
  {
   "cell_type": "code",
   "execution_count": 0,
   "metadata": {
    "application/vnd.databricks.v1+cell": {
     "cellMetadata": {
      "byteLimit": 2048000,
      "rowLimit": 10000
     },
     "inputWidgets": {},
     "nuid": "e3dab3ce-54b3-4ba1-9efa-ca784af01493",
     "showTitle": false,
     "title": ""
    }
   },
   "outputs": [
    {
     "output_type": "display_data",
     "data": {
      "text/html": [
       "<style scoped>\n",
       "  .table-result-container {\n",
       "    max-height: 300px;\n",
       "    overflow: auto;\n",
       "  }\n",
       "  table, th, td {\n",
       "    border: 1px solid black;\n",
       "    border-collapse: collapse;\n",
       "  }\n",
       "  th, td {\n",
       "    padding: 5px;\n",
       "  }\n",
       "  th {\n",
       "    text-align: left;\n",
       "  }\n",
       "</style><div class='table-result-container'><table class='table-result'><thead style='background-color: white'><tr><th>pagenum</th><th>text</th><th>confidence</th></tr></thead><tbody><tr><td>1</td><td>Patient Name\n",
       "Financial Number\n",
       "Date of Birth\n",
       "Patient Location\n",
       "\n",
       "Random Hospital\n",
       "\n",
       " \n",
       "\n",
       " \n",
       "\n",
       " \n",
       "\n",
       "H & P\n",
       "Anemia\n",
       "At baseline\n",
       "Arthritis\n",
       "\n",
       "Tylenol for pain. Patient also takes Percocei al home, will add this cn.\n",
       "Chronic kidney disease\n",
       "AY baseline. tMonitor while diuresing.\n",
       "Hypertension\n",
       "Blood pressures within tolerable ranges.\n",
       "Pulmonary hypertension\n",
       "Tricuspid regurgitation\n",
       "Wild-to-moderaic on echocardiogram last year\n",
       "\n",
       "Attending physician note-the patient was interviewed and examined. The appropriaic\n",
       "information in power chart was reviewed. The patient was discussed wilh Dr, Persad.\n",
       "Patient may have & mild degree of heart failurc. He and his wife were morc concernce with\n",
       "Ins peripheral edema. He has underlying renal insufficiency as well. We'll try to diurese\n",
       "him 10 his “dry\" weight. We will then try to adjust hie medications to kcep him within a\n",
       "natrow range of that weight. We will stop his atenolol this point since he ts relatively\n",
       "bradycardic and observe his heart rate on the cardiac monitor. He will progress with his\n",
       "care and aclivily as tolerated.\n",
       "\n",
       "Printed: 7/17/2017 13:01 EDT Page 17 of 42\n",
       "\n",
       " \n",
       "\n",
       " \n",
       "\n",
       " \n",
       "\n",
       "Vitamin D2 $0,000 intl units (1.25 mg) oral\n",
       "capsule, 1 TAB, PO, Weexly-Tue\n",
       "\n",
       "Allergies\n",
       "shelliisn (cout)\n",
       "\n",
       "sulfa drug (maculopapular rash)\n",
       "\n",
       "Social History\n",
       "\n",
       " \n",
       "\n",
       "Ever Smoked Tobacco: Former Smoker\n",
       "Alcohol use - frequency: None\n",
       "\n",
       "Drug use: Never\n",
       "\n",
       "Lab Results\n",
       "\n",
       "102\n",
       "\n",
       "3.61H 401 1.23\\\n",
       "\n",
       "07/16/17 05:30 to 07/16/17 05:30\n",
       "\n",
       "L125\n",
       "\n",
       "fL 32.4 \\\n",
       "\n",
       "BMP\n",
       "\n",
       "GLU\n",
       "\n",
       "NA\n",
       "\n",
       "K\n",
       "\n",
       "CL\n",
       "\n",
       "TOTAL CO2\n",
       "BUN\n",
       "\n",
       "CRT\n",
       "\n",
       "ANION GAP\n",
       "CA\n",
       "\n",
       "CBC with diff\n",
       "\n",
       "WBC\n",
       "HGB\n",
       "HCT\n",
       "RBC\n",
       "VMICV\n",
       "MICH\n",
       "MCHC\n",
       "RDW\n",
       "MPV\n",
       "\n",
       "O7/16/17\n",
       "05:30\n",
       "\n",
       "102 mg/dL\n",
       "143 MMOL/L\n",
       "3.6 MMOL/L\n",
       "98 MMOL/L\n",
       "40 MMOL/L\n",
       "26 mg/dL.\n",
       "1.23 mg/dL\n",
       "5\n",
       "\n",
       "7.9 mg/dL\n",
       "07/16/17\n",
       "05:30\n",
       "\n",
       "3.4/ nl\n",
       "\n",
       "10.1 G/DL\n",
       "32.4 Go\n",
       "\n",
       "3.41 /PL\n",
       "95.0 FL\n",
       "29.6 pg\n",
       "31.2 %\n",
       "\n",
       "15.9 %\n",
       "\n",
       "10.7 FL\n",
       "\n",
       "PowerChart\n",
       "</td><td>79.89152243477957</td></tr><tr><td>0</td><td>Patient Nam\n",
       "Financial Numbe\n",
       "\n",
       "Random Hospital Date of Birth\n",
       "\n",
       "Patient Location\n",
       "\n",
       "  \n",
       "   \n",
       " \n",
       " \n",
       "\n",
       " \n",
       "\n",
       " \n",
       "\n",
       " \n",
       "\n",
       "Chief Complaint\n",
       "Shortness of breath\n",
       "\n",
       "History of Present Illness\n",
       "\n",
       " \n",
       "\n",
       "Patient is an 84-year-old male wilh a past medical history of hypertension, HFpEF las\n",
       "Known EF 55%c, mild to moderate TA, pulmonary hypertension, permanent atrial\n",
       "fibrillation on Eliquis, history of GI blesd, CK-I48, and anemia who presents with full weeks\n",
       "oi ccneralized fatigue and fcoling unwell. He also notes some shortness oi breath and\n",
       "worsening dyspnea wilh minimal exertion. His major complaints are shoulder ard joint\n",
       "pains. diffuscly. He also complains of \"bone pain’. He denics having any fevers or chills.\n",
       "\n",
       "e demes having any chest pain, palpitations. He denies any worse extremity\n",
       "swelling than his baseline. He states he’s bccn compliant with his medications. Although\n",
       "he stales he ran out of his Eliquis & few weeks ago, He denies having any blood in his\n",
       "stools or mc!cna, although he does take iron pills and states his stools arc irequently black.\n",
       "His hemeglobin is al baseline.\n",
       "\n",
       "Twelve-lead EKG showing atrial fibrillation, RBBB, LAFB, PVC. Chest x-ray showing new\n",
       "small right creater than left pleural effusions with mild pulmonary vascular congestion. BNP\n",
       "increased to 2800, up fram 1900. Tropoain 0.03. Renal function at baseline. Hemoglobin\n",
       "ai baseline.\n",
       "\n",
       "She normally takes 80 mg of oral Lasix daily. He was given 80 mg of IV Lasix in the ED.\n",
       "He is currently net nogative close to 1 L. He is stillon 2 L nasal cannula.\n",
       "\n",
       "y s 5\n",
       "A 10 system review of sysiems was completed and negative except as documented in HPI.\n",
       "\n",
       "Physical Exam\n",
       "\n",
       " \n",
       "\n",
       "Vilals & Measurements\n",
       "T: 36.8 °C (Oral) TMIN: 36.8 \"C (Oral) TMAX: 37.0 °C (Oral) HR: 54 RR: 17\n",
       "BP: 140/63 WT: 100.3 KG\n",
       "Pulse Ox: 100 % Oxygen: 2 Limin via Nasal Cannula\n",
       "GENERAL: no acule distress\n",
       "HEAD: normecephalic\n",
       "EYES‘EARS/NOSE/THAROAT: oupils are equal. normal oropharynx\n",
       "NECK: normal inspection\n",
       "RESPIRATORY: no respiratory distress, no rales on my exam\n",
       "CARDIOVASCULAR: irregular. brady. no murmurs. rubs or galleps\n",
       "ABDOMEN: soft, non-tendes\n",
       "EXTREMITIES: Bilateral chronic venous stasis changes\n",
       "NEUROLOGIC: alert and osieniec x 3, no gross motar or sensory deficils\n",
       "\n",
       " \n",
       "\n",
       "AssessmenvPlan\n",
       "\n",
       "Acute on chronic diastolic CHF (congestive heart failure)\n",
       "Acute on chronic diastolic heart failure exacerbation. Small pleural effusions odilaterally\n",
       "with mild pulmonary vascular congestion on chest x-ray, slight elevation in BNP. We'll\n",
       "continue 1 more day af IV diuresis with 20 mg IV Lasix. He may have had 2 viral infection\n",
       "which precipitated this. We'll add Tylenol for his joint pains. Continue atenctol and\n",
       "chlorthalidone.\n",
       "\n",
       "AF - Atrial fibrillation\n",
       "Permanent atrial iibrillation. Rates bradycardic in the &0s. Continue atenolol with hold\n",
       "\n",
       "parameters. Continue Eliquis for stroke prevention. No evidence oj vieeding, hemog!obin\n",
       "at baseline.\n",
       "\n",
       " \n",
       "\n",
       "Printed; 7/17/2017 13:01 EDT Page 16 of 42\n",
       "\n",
       " \n",
       "\n",
       "Arincitis\n",
       "\n",
       "CHF - Congestive heart failure\n",
       "\n",
       "Chronic kidney disease\n",
       "\n",
       "Chronic venous insufficiency\n",
       "\n",
       "Edema\n",
       "\n",
       "GI bleeding\n",
       "\n",
       "Glaucoma\n",
       "\n",
       "Gout\n",
       "\n",
       "ypertension\n",
       "\n",
       "Peptic ulcer\n",
       "\n",
       "Peripheral ncusopathy\n",
       "\n",
       "Peripheral vascular disease\n",
       "\n",
       "Pulmonary hypertension\n",
       "\n",
       "Tricuspid regurgitation\n",
       "Historical\n",
       "\n",
       "No qualifying data\n",
       "\n",
       "Procedure/Surgical History\n",
       "\n",
       "duodenal resection, duodenojcjunostomy.\n",
       "small bowel enterolomy, removal of foreign\n",
       "object and repair oj enterotomy (05/2 1/20 14).\n",
       "colonoscopy (12/10/2013), egd (12/09/2013),\n",
       "H/O endoscopy (07/2013), HO colonoscopy\n",
       "(03/2013), pifonidal cyst removal at base of\n",
       "spine (1981), laser eye surgery ior glaucoma.\n",
       "lesions on small intestine closed up.\n",
       "\n",
       "Home Medications\n",
       "\n",
       "Home\n",
       "\n",
       "allopurinol 300 mg oral tablet, 300 MG= 1\n",
       "TAB, PO. Daily\n",
       "\n",
       "atenolol 25 mg oral tablet, 25 MG= 1 TAB,\n",
       "PO, Daily\n",
       "\n",
       "chtorthalidone 25 mg oral tablet, 25 MG=\n",
       "1 TAB, PO, MiWVF\n",
       "\n",
       "Combigan 0.2%-0.5% ophthalmic\n",
       "solution, 1 DROP, Both Eyes, Q12H\n",
       "\n",
       "Eliquis 5 mg oral lablet,. 3 MG= 1 TAB,\n",
       "PO, BID\n",
       "\n",
       "lerrous sulfate 325 mg (65 nig elemental\n",
       "iron) oral tablet, 325 MG= 1 TAB, PO,\n",
       "Daily\n",
       "\n",
       "Lasix 80 mg oral tabie:. 80 MG= | TAB.\n",
       "PO, BID\n",
       "\n",
       "omeprazole 20 mg oral delayed release\n",
       "capsule, 20 MG= 1 CAP, PO, BID\n",
       "\n",
       "Percoce? 5/325 oral tablet. | TAB, PO.\n",
       "QAM\n",
       "\n",
       "potassium chloride 20 mEq oral tablet,\n",
       "extended release, 20 MEQ= 1 TAB, PO,\n",
       "Daily\n",
       "\n",
       "sertraline 50 mg oral tablet, 75 MG= 1,5\n",
       "TAB, PQ. Daily\n",
       "\n",
       "lriamcinotone 0.71% lopical cream, 1 APP,\n",
       "Topical, Daily\n",
       "\n",
       "lriamemotone 0.1% topical omniment, 1\n",
       "APP, Topical, Daily\n",
       "\n",
       " \n",
       "\n",
       "PowerChart\n",
       "</td><td>89.45067443847657</td></tr></tbody></table></div>"
      ]
     },
     "metadata": {
      "application/vnd.databricks.v1+output": {
       "addedWidgets": {},
       "aggData": [],
       "aggError": "",
       "aggOverflow": false,
       "aggSchema": [],
       "aggSeriesLimitReached": false,
       "aggType": "",
       "arguments": {},
       "columnCustomDisplayInfos": {},
       "data": [
        [
         1,
         "Patient Name\nFinancial Number\nDate of Birth\nPatient Location\n\nRandom Hospital\n\n \n\n \n\n \n\nH & P\nAnemia\nAt baseline\nArthritis\n\nTylenol for pain. Patient also takes Percocei al home, will add this cn.\nChronic kidney disease\nAY baseline. tMonitor while diuresing.\nHypertension\nBlood pressures within tolerable ranges.\nPulmonary hypertension\nTricuspid regurgitation\nWild-to-moderaic on echocardiogram last year\n\nAttending physician note-the patient was interviewed and examined. The appropriaic\ninformation in power chart was reviewed. The patient was discussed wilh Dr, Persad.\nPatient may have & mild degree of heart failurc. He and his wife were morc concernce with\nIns peripheral edema. He has underlying renal insufficiency as well. We'll try to diurese\nhim 10 his “dry\" weight. We will then try to adjust hie medications to kcep him within a\nnatrow range of that weight. We will stop his atenolol this point since he ts relatively\nbradycardic and observe his heart rate on the cardiac monitor. He will progress with his\ncare and aclivily as tolerated.\n\nPrinted: 7/17/2017 13:01 EDT Page 17 of 42\n\n \n\n \n\n \n\nVitamin D2 $0,000 intl units (1.25 mg) oral\ncapsule, 1 TAB, PO, Weexly-Tue\n\nAllergies\nshelliisn (cout)\n\nsulfa drug (maculopapular rash)\n\nSocial History\n\n \n\nEver Smoked Tobacco: Former Smoker\nAlcohol use - frequency: None\n\nDrug use: Never\n\nLab Results\n\n102\n\n3.61H 401 1.23\\\n\n07/16/17 05:30 to 07/16/17 05:30\n\nL125\n\nfL 32.4 \\\n\nBMP\n\nGLU\n\nNA\n\nK\n\nCL\n\nTOTAL CO2\nBUN\n\nCRT\n\nANION GAP\nCA\n\nCBC with diff\n\nWBC\nHGB\nHCT\nRBC\nVMICV\nMICH\nMCHC\nRDW\nMPV\n\nO7/16/17\n05:30\n\n102 mg/dL\n143 MMOL/L\n3.6 MMOL/L\n98 MMOL/L\n40 MMOL/L\n26 mg/dL.\n1.23 mg/dL\n5\n\n7.9 mg/dL\n07/16/17\n05:30\n\n3.4/ nl\n\n10.1 G/DL\n32.4 Go\n\n3.41 /PL\n95.0 FL\n29.6 pg\n31.2 %\n\n15.9 %\n\n10.7 FL\n\nPowerChart\n",
         79.89152243477957
        ],
        [
         0,
         "Patient Nam\nFinancial Numbe\n\nRandom Hospital Date of Birth\n\nPatient Location\n\n  \n   \n \n \n\n \n\n \n\n \n\nChief Complaint\nShortness of breath\n\nHistory of Present Illness\n\n \n\nPatient is an 84-year-old male wilh a past medical history of hypertension, HFpEF las\nKnown EF 55%c, mild to moderate TA, pulmonary hypertension, permanent atrial\nfibrillation on Eliquis, history of GI blesd, CK-I48, and anemia who presents with full weeks\noi ccneralized fatigue and fcoling unwell. He also notes some shortness oi breath and\nworsening dyspnea wilh minimal exertion. His major complaints are shoulder ard joint\npains. diffuscly. He also complains of \"bone pain’. He denics having any fevers or chills.\n\ne demes having any chest pain, palpitations. He denies any worse extremity\nswelling than his baseline. He states he’s bccn compliant with his medications. Although\nhe stales he ran out of his Eliquis & few weeks ago, He denies having any blood in his\nstools or mc!cna, although he does take iron pills and states his stools arc irequently black.\nHis hemeglobin is al baseline.\n\nTwelve-lead EKG showing atrial fibrillation, RBBB, LAFB, PVC. Chest x-ray showing new\nsmall right creater than left pleural effusions with mild pulmonary vascular congestion. BNP\nincreased to 2800, up fram 1900. Tropoain 0.03. Renal function at baseline. Hemoglobin\nai baseline.\n\nShe normally takes 80 mg of oral Lasix daily. He was given 80 mg of IV Lasix in the ED.\nHe is currently net nogative close to 1 L. He is stillon 2 L nasal cannula.\n\ny s 5\nA 10 system review of sysiems was completed and negative except as documented in HPI.\n\nPhysical Exam\n\n \n\nVilals & Measurements\nT: 36.8 °C (Oral) TMIN: 36.8 \"C (Oral) TMAX: 37.0 °C (Oral) HR: 54 RR: 17\nBP: 140/63 WT: 100.3 KG\nPulse Ox: 100 % Oxygen: 2 Limin via Nasal Cannula\nGENERAL: no acule distress\nHEAD: normecephalic\nEYES‘EARS/NOSE/THAROAT: oupils are equal. normal oropharynx\nNECK: normal inspection\nRESPIRATORY: no respiratory distress, no rales on my exam\nCARDIOVASCULAR: irregular. brady. no murmurs. rubs or galleps\nABDOMEN: soft, non-tendes\nEXTREMITIES: Bilateral chronic venous stasis changes\nNEUROLOGIC: alert and osieniec x 3, no gross motar or sensory deficils\n\n \n\nAssessmenvPlan\n\nAcute on chronic diastolic CHF (congestive heart failure)\nAcute on chronic diastolic heart failure exacerbation. Small pleural effusions odilaterally\nwith mild pulmonary vascular congestion on chest x-ray, slight elevation in BNP. We'll\ncontinue 1 more day af IV diuresis with 20 mg IV Lasix. He may have had 2 viral infection\nwhich precipitated this. We'll add Tylenol for his joint pains. Continue atenctol and\nchlorthalidone.\n\nAF - Atrial fibrillation\nPermanent atrial iibrillation. Rates bradycardic in the &0s. Continue atenolol with hold\n\nparameters. Continue Eliquis for stroke prevention. No evidence oj vieeding, hemog!obin\nat baseline.\n\n \n\nPrinted; 7/17/2017 13:01 EDT Page 16 of 42\n\n \n\nArincitis\n\nCHF - Congestive heart failure\n\nChronic kidney disease\n\nChronic venous insufficiency\n\nEdema\n\nGI bleeding\n\nGlaucoma\n\nGout\n\nypertension\n\nPeptic ulcer\n\nPeripheral ncusopathy\n\nPeripheral vascular disease\n\nPulmonary hypertension\n\nTricuspid regurgitation\nHistorical\n\nNo qualifying data\n\nProcedure/Surgical History\n\nduodenal resection, duodenojcjunostomy.\nsmall bowel enterolomy, removal of foreign\nobject and repair oj enterotomy (05/2 1/20 14).\ncolonoscopy (12/10/2013), egd (12/09/2013),\nH/O endoscopy (07/2013), HO colonoscopy\n(03/2013), pifonidal cyst removal at base of\nspine (1981), laser eye surgery ior glaucoma.\nlesions on small intestine closed up.\n\nHome Medications\n\nHome\n\nallopurinol 300 mg oral tablet, 300 MG= 1\nTAB, PO. Daily\n\natenolol 25 mg oral tablet, 25 MG= 1 TAB,\nPO, Daily\n\nchtorthalidone 25 mg oral tablet, 25 MG=\n1 TAB, PO, MiWVF\n\nCombigan 0.2%-0.5% ophthalmic\nsolution, 1 DROP, Both Eyes, Q12H\n\nEliquis 5 mg oral lablet,. 3 MG= 1 TAB,\nPO, BID\n\nlerrous sulfate 325 mg (65 nig elemental\niron) oral tablet, 325 MG= 1 TAB, PO,\nDaily\n\nLasix 80 mg oral tabie:. 80 MG= | TAB.\nPO, BID\n\nomeprazole 20 mg oral delayed release\ncapsule, 20 MG= 1 CAP, PO, BID\n\nPercoce? 5/325 oral tablet. | TAB, PO.\nQAM\n\npotassium chloride 20 mEq oral tablet,\nextended release, 20 MEQ= 1 TAB, PO,\nDaily\n\nsertraline 50 mg oral tablet, 75 MG= 1,5\nTAB, PQ. Daily\n\nlriamcinotone 0.71% lopical cream, 1 APP,\nTopical, Daily\n\nlriamemotone 0.1% topical omniment, 1\nAPP, Topical, Daily\n\n \n\nPowerChart\n",
         89.45067443847657
        ]
       ],
       "datasetInfos": [],
       "dbfsResultPath": null,
       "isJsonSchema": true,
       "metadata": {},
       "overflow": false,
       "plotOptions": {
        "customPlotOptions": {},
        "displayType": "table",
        "pivotAggregation": null,
        "pivotColumns": null,
        "xColumns": null,
        "yColumns": null
       },
       "removedWidgets": [],
       "schema": [
        {
         "metadata": "{}",
         "name": "pagenum",
         "type": "\"integer\""
        },
        {
         "metadata": "{}",
         "name": "text",
         "type": "\"string\""
        },
        {
         "metadata": "{}",
         "name": "confidence",
         "type": "\"double\""
        }
       ],
       "type": "table"
      }
     },
     "output_type": "display_data"
    },
    {
     "output_type": "display_data",
     "data": {
      "text/html": [
       "<style scoped>\n",
       "  .ansiout {\n",
       "    display: block;\n",
       "    unicode-bidi: embed;\n",
       "    white-space: pre-wrap;\n",
       "    word-wrap: break-word;\n",
       "    word-break: break-all;\n",
       "    font-family: \"Source Code Pro\", \"Menlo\", monospace;;\n",
       "    font-size: 13px;\n",
       "    color: #555;\n",
       "    margin-left: 4px;\n",
       "    line-height: 19px;\n",
       "  }\n",
       "</style>\n",
       "<div class=\"ansiout\">10:30:18, INFO Received command c on object id p0\n",
       "10:30:18, INFO Received command c on object id p0\n",
       "10:30:18, INFO Received command c on object id p0\n",
       "10:30:18, INFO Received command c on object id p0\n",
       "</div>"
      ]
     },
     "metadata": {
      "application/vnd.databricks.v1+output": {
       "addedWidgets": {},
       "arguments": {},
       "data": "<div class=\"ansiout\">10:30:18, INFO Received command c on object id p0\n10:30:18, INFO Received command c on object id p0\n10:30:18, INFO Received command c on object id p0\n10:30:18, INFO Received command c on object id p0\n</div>",
       "datasetInfos": [],
       "metadata": {},
       "removedWidgets": [],
       "type": "html"
      }
     },
     "output_type": "display_data"
    }
   ],
   "source": [
    "display(result.select(\"pagenum\", \"text\", \"confidence\"))"
   ]
  },
  {
   "cell_type": "markdown",
   "metadata": {
    "application/vnd.databricks.v1+cell": {
     "cellMetadata": {
      "byteLimit": 2048000,
      "rowLimit": 10000
     },
     "inputWidgets": {},
     "nuid": "39b3cf48-e023-4da4-81a1-dc76eb9e940f",
     "showTitle": false,
     "title": ""
    }
   },
   "source": [
    "## Clear cache"
   ]
  },
  {
   "cell_type": "code",
   "execution_count": 0,
   "metadata": {
    "application/vnd.databricks.v1+cell": {
     "cellMetadata": {
      "byteLimit": 2048000,
      "rowLimit": 10000
     },
     "inputWidgets": {},
     "nuid": "24b15a99-fad1-4b17-adb4-a5a4dbfbde43",
     "showTitle": false,
     "title": ""
    }
   },
   "outputs": [
    {
     "output_type": "display_data",
     "data": {
      "text/html": [
       "<style scoped>\n",
       "  .ansiout {\n",
       "    display: block;\n",
       "    unicode-bidi: embed;\n",
       "    white-space: pre-wrap;\n",
       "    word-wrap: break-word;\n",
       "    word-break: break-all;\n",
       "    font-family: \"Source Code Pro\", \"Menlo\", monospace;;\n",
       "    font-size: 13px;\n",
       "    color: #555;\n",
       "    margin-left: 4px;\n",
       "    line-height: 19px;\n",
       "  }\n",
       "</style>\n",
       "<div class=\"ansiout\">Out[8]: DataFrame[path: string, modificationTime: timestamp, length: bigint, content: binary]10:32:29, INFO Received command c on object id p0\n",
       "10:32:29, INFO Received command c on object id p0\n",
       "10:32:29, INFO Received command c on object id p0\n",
       "10:32:29, INFO Received command c on object id p0\n",
       "</div>"
      ]
     },
     "metadata": {
      "application/vnd.databricks.v1+output": {
       "addedWidgets": {},
       "arguments": {},
       "data": "<div class=\"ansiout\">Out[8]: DataFrame[path: string, modificationTime: timestamp, length: bigint, content: binary]10:32:29, INFO Received command c on object id p0\n10:32:29, INFO Received command c on object id p0\n10:32:29, INFO Received command c on object id p0\n10:32:29, INFO Received command c on object id p0\n</div>",
       "datasetInfos": [],
       "metadata": {},
       "removedWidgets": [],
       "type": "html"
      }
     },
     "output_type": "display_data"
    }
   ],
   "source": [
    "result.unpersist()\n",
    "pdf_example_df.unpersist()"
   ]
  }
 ],
 "metadata": {
  "application/vnd.databricks.v1+notebook": {
   "dashboards": [],
   "language": "python",
   "notebookMetadata": {
    "mostRecentlyExecutedCommandWithImplicitDF": {
     "commandId": 2477198187297857,
     "dataframes": [
      "_sqldf"
     ]
    },
    "pythonIndentUnit": 2
   },
   "notebookName": "1. Extract text from scanned PDF files",
   "widgets": {}
  },
  "kernelspec": {
   "display_name": "Python 3",
   "language": "python",
   "name": "python3"
  },
  "language_info": {
   "codemirror_mode": {
    "name": "ipython",
    "version": 3
   },
   "file_extension": ".py",
   "mimetype": "text/x-python",
   "name": "python",
   "nbconvert_exporter": "python",
   "pygments_lexer": "ipython3",
   "version": "3.8.3"
  },
  "name": "SparkOcrPdfProcessing",
  "notebookId": 1491686919094405
 },
 "nbformat": 4,
 "nbformat_minor": 0
}

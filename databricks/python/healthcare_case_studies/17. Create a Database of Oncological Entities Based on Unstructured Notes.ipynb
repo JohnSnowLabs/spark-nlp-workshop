{
 "cells": [
  {
   "cell_type": "markdown",
   "source": [
    "# Create a Database of Oncological Entities Based on Unstructured Notes\n",
    "In this notebook, we create a database of entities based on extracted terms from the notes in previous notebooks. \n",
    "This database can be used for dashboarding using [Databricks SQL](https://databricks.com/product/databricks-sql). "
   ],
   "metadata": {}
  },
  {
   "cell_type": "code",
   "execution_count": null,
   "source": [
    "delta_path='/FileStore/HLS/nlp/delta/jsl/'"
   ],
   "outputs": [],
   "metadata": {}
  },
  {
   "cell_type": "markdown",
   "source": [
    "## 1. Create Temporary Views"
   ],
   "metadata": {}
  },
  {
   "cell_type": "code",
   "execution_count": null,
   "source": [
    "spark.read.load(f\"{delta_path}/silver/icd10-hcc-df\").createOrReplaceTempView('icd10Hcc')\n",
    "spark.read.load(f\"{delta_path}/gold/best-icd-mapped\").createOrReplaceTempView('bestIcdMapped')\n",
    "spark.read.load(f\"{delta_path}/gold/rxnorm-res-cleaned\").createOrReplaceTempView('rxnormRes')\n",
    "spark.read.load(f\"{delta_path}/silver/rxnorm-code-greedy-res\").createOrReplaceTempView('rxnormCodeGreedy')\n",
    "spark.read.load(f\"{delta_path}/silver/temporal-re\").createOrReplaceTempView('temporalRe')\n",
    "spark.read.load(f\"{delta_path}/silver/bodypart-relationships\").createOrReplaceTempView('bodypartRelationships')\n",
    "spark.read.load(f\"{delta_path}/silver/cpt\").createOrReplaceTempView('cpt')\n",
    "spark.read.load(f\"{delta_path}/silver/assertion\").createOrReplaceTempView('assertion')"
   ],
   "outputs": [],
   "metadata": {}
  },
  {
   "cell_type": "markdown",
   "source": [
    "## 2. Create the Database"
   ],
   "metadata": {}
  },
  {
   "cell_type": "code",
   "execution_count": null,
   "source": [
    "database_name='jsl_onc'\n",
    "DatabaseName=''.join([st.capitalize() for st in database_name.split('_')])\n",
    "database_path=f\"{delta_path}tables/{database_name}\"\n",
    "print(f\"{DatabaseName} database tables will be stored in {database_path}\")"
   ],
   "outputs": [],
   "metadata": {}
  },
  {
   "cell_type": "code",
   "execution_count": null,
   "source": [
    "sql(f\"DROP DATABASE IF EXISTS {DatabaseName} CASCADE;\")\n",
    "sql(f\"CREATE DATABASE IF NOT EXISTS {DatabaseName} LOCATION '{database_path}'\")\n",
    "sql(f\"USE {DatabaseName};\")"
   ],
   "outputs": [],
   "metadata": {}
  },
  {
   "cell_type": "markdown",
   "source": [
    "## 3. Create Tables"
   ],
   "metadata": {}
  },
  {
   "cell_type": "code",
   "execution_count": null,
   "source": [
    "CREATE OR REPLACE TABLE Rxnorm_Res AS (\n",
    "  select md5(path) as note_id,path,confidence, drug_chunk,rxnorm_code,drugs as drug from rxnormRes\n",
    ");"
   ],
   "outputs": [],
   "metadata": {}
  },
  {
   "cell_type": "code",
   "execution_count": null,
   "source": [
    "CREATE OR REPLACE TABLE CPT AS (\n",
    "  select md5(path) as note_id, path, confidence, chunks, entity,cpt_code,cpt\n",
    "from cpt)"
   ],
   "outputs": [],
   "metadata": {}
  },
  {
   "cell_type": "code",
   "execution_count": null,
   "source": [
    "CREATE OR REPLACE TABLE ASSERTION AS (\n",
    "  select md5(path) as note_id, path, chunk, entity,assertion from assertion\n",
    ")"
   ],
   "outputs": [],
   "metadata": {}
  },
  {
   "cell_type": "code",
   "execution_count": null,
   "source": [
    "CREATE OR REPLACE TABLE TEMPORAL_RE AS (\n",
    "  select md5(path) as note_id, * from temporalRe\n",
    ")"
   ],
   "outputs": [],
   "metadata": {}
  },
  {
   "cell_type": "code",
   "execution_count": null,
   "source": [
    "CREATE OR REPLACE TABLE BEST_ICD AS (\n",
    "  select * from bestIcdMapped\n",
    ")"
   ],
   "outputs": [],
   "metadata": {}
  },
  {
   "cell_type": "code",
   "execution_count": null,
   "source": [
    "CREATE OR REPLACE TABLE ICD10_HCC AS (\n",
    "  select md5(path) as note_id, path, confidence, final_chunk, entity,icd10_code,icd_codes_names,icd_code_billable\n",
    "  from icd10Hcc\n",
    ")"
   ],
   "outputs": [],
   "metadata": {}
  },
  {
   "cell_type": "code",
   "execution_count": null,
   "source": [
    "select * from ICD10_HCC"
   ],
   "outputs": [],
   "metadata": {}
  },
  {
   "cell_type": "markdown",
   "source": [
    "Copyright / License info of the notebook. Copyright Databricks, Inc. [2021].  The source in this notebook is provided subject to the [Databricks License](https://databricks.com/db-license-source)."
   ],
   "metadata": {}
  }
 ],
 "metadata": {
  "orig_nbformat": 4,
  "language_info": {
   "name": "python"
  }
 },
 "nbformat": 4,
 "nbformat_minor": 2
}
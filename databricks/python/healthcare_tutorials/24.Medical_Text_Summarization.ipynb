{
 "cells": [
  {
   "attachments": {},
   "cell_type": "markdown",
   "metadata": {
    "application/vnd.databricks.v1+cell": {
     "cellMetadata": {},
     "inputWidgets": {},
     "nuid": "e08441e2-7a5a-4820-8661-ae132710fe74",
     "showTitle": false,
     "title": ""
    },
    "id": "JWCwiy5flBq7"
   },
   "source": [
    "![JohnSnowLabs](https://nlp.johnsnowlabs.com/assets/images/logo.png)"
   ]
  },
  {
   "cell_type": "code",
   "execution_count": null,
   "metadata": {
    "application/vnd.databricks.v1+cell": {
     "cellMetadata": {
      "byteLimit": 2048000,
      "rowLimit": 10000
     },
     "inputWidgets": {},
     "nuid": "1ec82708-71a2-48cf-bd8d-545b60a5cf06",
     "showTitle": false,
     "title": ""
    }
   },
   "outputs": [
    {
     "data": {
      "text/html": [
       "<style scoped>\n",
       "  .ansiout {\n",
       "    display: block;\n",
       "    unicode-bidi: embed;\n",
       "    white-space: pre-wrap;\n",
       "    word-wrap: break-word;\n",
       "    word-break: break-all;\n",
       "    font-family: \"Source Code Pro\", \"Menlo\", monospace;;\n",
       "    font-size: 13px;\n",
       "    color: #555;\n",
       "    margin-left: 4px;\n",
       "    line-height: 19px;\n",
       "  }\n",
       "</style>\n",
       "<div class=\"ansiout\">sparknlp.version :  4.4.4\n",
       "sparknlp_jsl.version :  4.4.4\n",
       "Out[1]: </div>"
      ]
     },
     "metadata": {
      "application/vnd.databricks.v1+output": {
       "addedWidgets": {},
       "arguments": {},
       "data": "<div class=\"ansiout\">sparknlp.version :  4.4.4\nsparknlp_jsl.version :  4.4.4\nOut[1]: </div>",
       "datasetInfos": [],
       "metadata": {},
       "removedWidgets": [],
       "type": "html"
      }
     },
     "output_type": "display_data"
    },
    {
     "data": {
      "text/html": [
       "\n",
       "            <div>\n",
       "                <p><b>SparkSession - hive</b></p>\n",
       "                \n",
       "        <div>\n",
       "            <p><b>SparkContext</b></p>\n",
       "\n",
       "            <p><a href=\"/?o=7956323724731612#setting/sparkui/0531-075359-yrqpsusp/driver-5772807307878627925\">Spark UI</a></p>\n",
       "\n",
       "            <dl>\n",
       "              <dt>Version</dt>\n",
       "                <dd><code>v3.1.2</code></dd>\n",
       "              <dt>Master</dt>\n",
       "                <dd><code>spark://10.139.64.5:7077</code></dd>\n",
       "              <dt>AppName</dt>\n",
       "                <dd><code>Databricks Shell</code></dd>\n",
       "            </dl>\n",
       "        </div>\n",
       "        \n",
       "            </div>\n",
       "        "
      ]
     },
     "metadata": {
      "application/vnd.databricks.v1+output": {
       "addedWidgets": {},
       "arguments": {},
       "data": "\n            <div>\n                <p><b>SparkSession - hive</b></p>\n                \n        <div>\n            <p><b>SparkContext</b></p>\n\n            <p><a href=\"/?o=7956323724731612#setting/sparkui/0531-075359-yrqpsusp/driver-5772807307878627925\">Spark UI</a></p>\n\n            <dl>\n              <dt>Version</dt>\n                <dd><code>v3.1.2</code></dd>\n              <dt>Master</dt>\n                <dd><code>spark://10.139.64.5:7077</code></dd>\n              <dt>AppName</dt>\n                <dd><code>Databricks Shell</code></dd>\n            </dl>\n        </div>\n        \n            </div>\n        ",
       "datasetInfos": [],
       "metadata": {},
       "removedWidgets": [],
       "textData": null,
       "type": "htmlSandbox"
      }
     },
     "output_type": "display_data"
    }
   ],
   "source": [
    "import os\n",
    "import json\n",
    "import string\n",
    "import numpy as np\n",
    "import pandas as pd\n",
    "\n",
    "import sparknlp\n",
    "import sparknlp_jsl\n",
    "from sparknlp.base import *\n",
    "from sparknlp.util import *\n",
    "from sparknlp.annotator import *\n",
    "from sparknlp_jsl.annotator import *\n",
    "from sparknlp.pretrained import ResourceDownloader\n",
    "from sparknlp.pretrained import  PretrainedPipeline\n",
    "\n",
    "from pyspark.sql import functions as F\n",
    "from pyspark.ml import Pipeline, PipelineModel\n",
    "\n",
    "pd.set_option('max_colwidth', 100)\n",
    "pd.set_option('display.max_columns', 100)  \n",
    "pd.set_option('display.expand_frame_repr', False)\n",
    "import textwrap\n",
    "\n",
    "print('sparknlp.version : ',sparknlp.version())\n",
    "print('sparknlp_jsl.version : ',sparknlp_jsl.version())\n",
    "\n",
    "spark"
   ]
  },
  {
   "attachments": {},
   "cell_type": "markdown",
   "metadata": {
    "application/vnd.databricks.v1+cell": {
     "cellMetadata": {},
     "inputWidgets": {},
     "nuid": "bff2cfeb-015e-4d66-9933-b20ae5b056cf",
     "showTitle": false,
     "title": ""
    }
   },
   "source": [
    "# 🪄 Medical Text Summarization"
   ]
  },
  {
   "attachments": {},
   "cell_type": "markdown",
   "metadata": {
    "application/vnd.databricks.v1+cell": {
     "cellMetadata": {},
     "inputWidgets": {},
     "nuid": "130466f5-ecab-47e6-8f1f-86b3e52e73e1",
     "showTitle": false,
     "title": ""
    }
   },
   "source": [
    "![IMAGE](https://github.com/JohnSnowLabs/spark-nlp-workshop/blob/master/databricks/python/data/Automated_Summarization_Clinical_Notes.png?raw=true)"
   ]
  },
  {
   "attachments": {},
   "cell_type": "markdown",
   "metadata": {
    "application/vnd.databricks.v1+cell": {
     "cellMetadata": {},
     "inputWidgets": {},
     "nuid": "dd752f9b-f9ef-46a3-9309-d50d3938c1a3",
     "showTitle": false,
     "title": ""
    },
    "id": "5hzypXmUlNYC"
   },
   "source": [
    "🔎 Text Summarization is a natural language processing (NLP) task that involves condensing a lengthy text document into a shorter, more compact version while still retaining the most important information and meaning. The goal is to produce a summary that accurately represents the content of the original text in a concise form.\n",
    "\n",
    "🔎There are `different approaches` to text summarization, including `extractive methods that` identify and extract important sentences or phrases from the text, and `abstractive methods` that generate new text based on the content of the original text."
   ]
  },
  {
   "attachments": {},
   "cell_type": "markdown",
   "metadata": {
    "application/vnd.databricks.v1+cell": {
     "cellMetadata": {},
     "inputWidgets": {},
     "nuid": "4d2da9f3-3241-4193-a75e-9c0be4009166",
     "showTitle": false,
     "title": ""
    }
   },
   "source": [
    "![IMAGE](https://github.com/JohnSnowLabs/spark-nlp-workshop/blob/master/databricks/python/data/Summarization_Methods_vs_Quality_Dimensions.png?raw=true)"
   ]
  },
  {
   "attachments": {},
   "cell_type": "markdown",
   "metadata": {
    "application/vnd.databricks.v1+cell": {
     "cellMetadata": {},
     "inputWidgets": {},
     "nuid": "09a9e40a-5c67-461d-98fa-dc5e7eb00618",
     "showTitle": false,
     "title": ""
    }
   },
   "source": [
    "# 📍Text Summarization with Abstractive Approach"
   ]
  },
  {
   "attachments": {},
   "cell_type": "markdown",
   "metadata": {
    "application/vnd.databricks.v1+cell": {
     "cellMetadata": {},
     "inputWidgets": {},
     "nuid": "1949e4df-1734-4060-a0a6-b6aeb8c2391d",
     "showTitle": false,
     "title": ""
    }
   },
   "source": [
    "### 🔎 Models"
   ]
  },
  {
   "attachments": {},
   "cell_type": "markdown",
   "metadata": {
    "application/vnd.databricks.v1+cell": {
     "cellMetadata": {},
     "inputWidgets": {},
     "nuid": "33a0f32f-3f90-4f0e-bbf8-e255a4fa4c7b",
     "showTitle": false,
     "title": ""
    }
   },
   "source": [
    "<div align=\"center\">\n",
    "\n",
    "| **Index** | **Summarizer Models**        |\n",
    "|---------------|----------------------|\n",
    "| 1        | [summarizer_clinical_jsl](https://nlp.johnsnowlabs.com/2023/03/25/summarizer_clinical_jsl.html)     |\n",
    "| 2          | [summarizer_clinical_jsl_augmented](https://nlp.johnsnowlabs.com/2023/03/30/summarizer_clinical_jsl_augmented_en.html)       |\n",
    "| 3      | [summarizer_biomedical_pubmed](https://nlp.johnsnowlabs.com/2023/04/03/summarizer_biomedical_pubmed_en.html)    |\n",
    "| 4      | [summarizer_generic_jsl](https://nlp.johnsnowlabs.com/2023/03/30/summarizer_generic_jsl_en.html)    |\n",
    "| 5    | [summarizer_clinical_questions](https://nlp.johnsnowlabs.com/2023/04/03/summarizer_clinical_questions_en.html) |\n",
    "| 6    | [summarizer_radiology](https://nlp.johnsnowlabs.com/2023/04/23/summarizer_jsl_radiology_en.html) |\n",
    "| 7    | [summarizer_clinical_guidelines_large](https://nlp.johnsnowlabs.com/2023/05/08/summarizer_clinical_guidelines_large_en.html) |\n",
    "| 8    | [summarizer_clinical_laymen](https://nlp.johnsnowlabs.com/2023/05/31/summarizer_clinical_laymen_en.html) |\n",
    "</div>"
   ]
  },
  {
   "attachments": {},
   "cell_type": "markdown",
   "metadata": {
    "application/vnd.databricks.v1+cell": {
     "cellMetadata": {},
     "inputWidgets": {},
     "nuid": "d27255fe-6029-4176-b1a9-671742ab8b59",
     "showTitle": false,
     "title": ""
    },
    "id": "z5iquY3ZRQPV"
   },
   "source": [
    "## 📍Benchmark Report\n",
    "\n",
    "Our clinical summarizer models with only 250M parameters perform 30-35% better than non-clinical SOTA text summarizers with 500M parameters, in terms of Bleu and Rouge benchmarks. That is, we achieve 30% better with half of the parameters that other LLMs have. See the details below.\n",
    "\n",
    "\n",
    "### 🔎Benchmark on Samsum Dataset\n",
    "\n",
    "| model_name | model_size | rouge | bleu | bertscore_precision | bertscore_recall: | bertscore_f1 |\n",
    "|--|--|--|--|--|--|--|\n",
    "philschmid/flan-t5-base-samsum | 240M | 0.2734 | 0.1813 | 0.8938 | 0.9133 | 0.9034 | \n",
    "linydub/bart-large-samsum | 500M | 0.3060 | 0.2168 | 0.8961 | 0.9065 | 0.9013 |\n",
    "philschmid/bart-large-cnn-samsum | 500M | 0.3794 | 0.1262 | 0.8599 | 0.9153 | 0.8867 | \n",
    "transformersbook/pegasus-samsum | 570M | 0.3049 | 0.1543 | 0.8942 | 0.9183 | 0.9061 | \n",
    "summarizer_generic_jsl | 240M | 0.2703 | 0.1932 | 0.8944 | 0.9161 | 0.9051 |\n",
    "\n",
    "\n",
    "### 🔎Benchmark on MtSamples Summarization Dataset\n",
    "\n",
    "| model_name | model_size | rouge | bleu | bertscore_precision | bertscore_recall: | bertscore_f1 |\n",
    "|--|--|--|--|--|--|--|\n",
    "philschmid/flan-t5-base-samsum | 250M | 0.1919 | 0.1124 | 0.8409 | 0.8964 | 0.8678 | \n",
    "linydub/bart-large-samsum | 500M | 0.1586 | 0.0732 | 0.8747 | 0.8184 | 0.8456 | \n",
    "philschmid/bart-large-cnn-samsum |  500M | 0.2170 | 0.1299 | 0.8846 | 0.8436 | 0.8636 |\n",
    "transformersbook/pegasus-samsum | 500M | 0.1924 | 0.0965 | 0.8920 | 0.8149 | 0.8517 | \n",
    "summarizer_clinical_jsl | 250M | 0.4836 | 0.4188 | 0.9041 | 0.9374 | 0.9204 | \n",
    "summarizer_clinical_jsl_augmented | 250M | 0.5119 | 0.4545 | 0.9282 | 0.9526 | 0.9402 |\n",
    "\n",
    "\n",
    "### 🔎Benchmark on MIMIC Summarization Dataset\n",
    "\n",
    "| model_name | model_size | rouge | bleu | bertscore_precision | bertscore_recall: | bertscore_f1 |\n",
    "|--|--|--|--|--|--|--|\n",
    "philschmid/flan-t5-base-samsum | 250M | 0.1910 | 0.1037 | 0.8708 | 0.9056 | 0.8879 | \n",
    "linydub/bart-large-samsum | 500M | 0.1252 | 0.0382 | 0.8933 | 0.8440 | 0.8679 |\n",
    "philschmid/bart-large-cnn-samsum | 500M | 0.1795 | 0.0889 | 0.9172 | 0.8978 | 0.9074 | \n",
    "transformersbook/pegasus-samsum | 570M | 0.1425 | 0.0582 | 0.9171 | 0.8682 | 0.8920 |\n",
    "summarizer_clinical_jsl | 250M | 0.395 | 0.2962 | 0.895 | 0.9316 | 0.913 | \n",
    "summarizer_clinical_jsl_augmented | 250M | 0.3964 | 0.307 | 0.9109 | 0.9452 | 0.9227 |"
   ]
  },
  {
   "attachments": {},
   "cell_type": "markdown",
   "metadata": {
    "application/vnd.databricks.v1+cell": {
     "cellMetadata": {},
     "inputWidgets": {},
     "nuid": "56a07337-2781-45eb-9e63-a566a23776d3",
     "showTitle": false,
     "title": ""
    },
    "id": "EUP83I58lxPD"
   },
   "source": [
    "## 📃 summarizer_clinical_jsl\n",
    "\n",
    "This summarization model can quickly summarize clinical notes, encounters, critical care notes, discharge notes, reports, etc. It is based on a large language model that is finetuned with healthcare-specific additional data curated by medical doctors at John Snow Labs. It can generate summaries up to 512 tokens given an input text (max 1024 tokens)."
   ]
  },
  {
   "cell_type": "code",
   "execution_count": null,
   "metadata": {
    "application/vnd.databricks.v1+cell": {
     "cellMetadata": {
      "byteLimit": 2048000,
      "rowLimit": 10000
     },
     "inputWidgets": {},
     "nuid": "f42717dc-ab2f-44e4-b96e-1ae58af612f2",
     "showTitle": false,
     "title": ""
    },
    "colab": {
     "base_uri": "https://localhost:8080/"
    },
    "id": "zCAJbr5re3f2",
    "outputId": "159dcdb3-8725-4680-fec3-0d06f1ad2a29"
   },
   "outputs": [
    {
     "data": {
      "text/html": [
       "<style scoped>\n",
       "  .ansiout {\n",
       "    display: block;\n",
       "    unicode-bidi: embed;\n",
       "    white-space: pre-wrap;\n",
       "    word-wrap: break-word;\n",
       "    word-break: break-all;\n",
       "    font-family: \"Source Code Pro\", \"Menlo\", monospace;;\n",
       "    font-size: 13px;\n",
       "    color: #555;\n",
       "    margin-left: 4px;\n",
       "    line-height: 19px;\n",
       "  }\n",
       "</style>\n",
       "<div class=\"ansiout\">+------------------------------------------------------------+\n",
       "                                                        text|\n",
       "+------------------------------------------------------------+\n",
       " Patient with hypertension, syncope, and spinal stenosis ...|\n",
       "+------------------------------------------------------------+\n",
       "\n",
       "</div>"
      ]
     },
     "metadata": {
      "application/vnd.databricks.v1+output": {
       "addedWidgets": {},
       "arguments": {},
       "data": "<div class=\"ansiout\">+------------------------------------------------------------+\n|                                                        text|\n+------------------------------------------------------------+\n| Patient with hypertension, syncope, and spinal stenosis ...|\n+------------------------------------------------------------+\n\n</div>",
       "datasetInfos": [],
       "metadata": {},
       "removedWidgets": [],
       "type": "html"
      }
     },
     "output_type": "display_data"
    }
   ],
   "source": [
    "text = \"\"\" Patient with hypertension, syncope, and spinal stenosis - for recheck.\n",
    " (Medical Transcription Sample Report)\n",
    " SUBJECTIVE:\n",
    " The patient is a 78-year-old female who returns for recheck. She has hypertension. She denies difficulty with chest pain, palpations, orthopnea, nocturnal dyspnea, or edema.\n",
    " PAST MEDICAL HISTORY / SURGERY / HOSPITALIZATIONS:\n",
    " Reviewed and unchanged from the dictation on 12/03/2003.\n",
    " MEDICATIONS:\n",
    " Atenolol 50 mg daily, Premarin 0.625 mg daily, calcium with vitamin D two to three pills daily, multivitamin daily, aspirin as needed, and TriViFlor 25 mg two pills daily. She also has Elocon cream 0.1% and Synalar cream 0.01% that she uses as needed for rash.\"\"\"\n",
    " \n",
    " \n",
    "data = spark.createDataFrame([[text]]).toDF(\"text\")\n",
    "data.show(truncate = 60)"
   ]
  },
  {
   "cell_type": "code",
   "execution_count": null,
   "metadata": {
    "application/vnd.databricks.v1+cell": {
     "cellMetadata": {
      "byteLimit": 2048000,
      "rowLimit": 10000
     },
     "inputWidgets": {},
     "nuid": "5921844e-d483-4270-b024-773723021029",
     "showTitle": false,
     "title": ""
    },
    "colab": {
     "base_uri": "https://localhost:8080/"
    },
    "id": "FY7jlMeXtq-G",
    "outputId": "dbded6bb-a66c-45e8-c779-9013e3ff49c7"
   },
   "outputs": [
    {
     "data": {
      "text/html": [
       "<style scoped>\n",
       "  .ansiout {\n",
       "    display: block;\n",
       "    unicode-bidi: embed;\n",
       "    white-space: pre-wrap;\n",
       "    word-wrap: break-word;\n",
       "    word-break: break-all;\n",
       "    font-family: \"Source Code Pro\", \"Menlo\", monospace;;\n",
       "    font-size: 13px;\n",
       "    color: #555;\n",
       "    margin-left: 4px;\n",
       "    line-height: 19px;\n",
       "  }\n",
       "</style>\n",
       "<div class=\"ansiout\">summarizer_clinical_jsl download started this may take some time.\n",
       "\r[ | ]\r[ / ]\r[ — ]\r[ \\ ]\r[ | ]\r[ / ]\r[ — ]\r[ \\ ]\r[ | ]\r[ / ]\r[ — ]\r[ \\ ]\r[ | ]\r[ / ]\r[ — ]\r[ \\ ]\r[ | ]\r[ / ]\r[ — ]\r[ \\ ]\r[ | ]\r[ / ]\r[ — ]\r[ \\ ]\r[ | ]\r[ / ]\r[ — ]\r[ \\ ]\r[ | ]\r[ / ]\r[OK!]\n",
       "+--------------------+--------------------+--------------------+\n",
       "                text|            document|             summary|\n",
       "+--------------------+--------------------+--------------------+\n",
       " Patient with hyp...|[{document, 0, 68...|[{document, 0, 24...|\n",
       "+--------------------+--------------------+--------------------+\n",
       "\n",
       "</div>"
      ]
     },
     "metadata": {
      "application/vnd.databricks.v1+output": {
       "addedWidgets": {},
       "arguments": {},
       "data": "<div class=\"ansiout\">summarizer_clinical_jsl download started this may take some time.\n\r[ | ]\r[ / ]\r[ — ]\r[ \\ ]\r[ | ]\r[ / ]\r[ — ]\r[ \\ ]\r[ | ]\r[ / ]\r[ — ]\r[ \\ ]\r[ | ]\r[ / ]\r[ — ]\r[ \\ ]\r[ | ]\r[ / ]\r[ — ]\r[ \\ ]\r[ | ]\r[ / ]\r[ — ]\r[ \\ ]\r[ | ]\r[ / ]\r[ — ]\r[ \\ ]\r[ | ]\r[ / ]\r[OK!]\n+--------------------+--------------------+--------------------+\n|                text|            document|             summary|\n+--------------------+--------------------+--------------------+\n| Patient with hyp...|[{document, 0, 68...|[{document, 0, 24...|\n+--------------------+--------------------+--------------------+\n\n</div>",
       "datasetInfos": [],
       "metadata": {},
       "removedWidgets": [],
       "type": "html"
      }
     },
     "output_type": "display_data"
    }
   ],
   "source": [
    "document_assembler = DocumentAssembler()\\\n",
    "            .setInputCol('text')\\\n",
    "            .setOutputCol('document')\n",
    "\n",
    "summarizer = MedicalSummarizer.pretrained(\"summarizer_clinical_jsl\", \"en\", \"clinical/models\")\\\n",
    "            .setInputCols(['document'])\\\n",
    "            .setOutputCol('summary')\\\n",
    "            .setMaxTextLength(512)\\\n",
    "            .setMaxNewTokens(512)\n",
    "\n",
    "pipeline = Pipeline(stages=[\n",
    "            document_assembler,\n",
    "            summarizer])\n",
    "\n",
    "model = pipeline.fit(spark.createDataFrame([[\"\"]]).toDF(\"text\"))\n",
    "\n",
    "result = model.transform(data)\n",
    "\n",
    "result.show()"
   ]
  },
  {
   "cell_type": "code",
   "execution_count": null,
   "metadata": {
    "application/vnd.databricks.v1+cell": {
     "cellMetadata": {
      "byteLimit": 2048000,
      "rowLimit": 10000
     },
     "inputWidgets": {},
     "nuid": "3a59aeee-ccdb-43bc-9623-2b0226302c6c",
     "showTitle": false,
     "title": ""
    },
    "colab": {
     "base_uri": "https://localhost:8080/"
    },
    "id": "UmMxbWByfWg2",
    "outputId": "ff798aab-ef5b-4485-829f-914cccd03f57"
   },
   "outputs": [
    {
     "data": {
      "text/html": [
       "<style scoped>\n",
       "  .ansiout {\n",
       "    display: block;\n",
       "    unicode-bidi: embed;\n",
       "    white-space: pre-wrap;\n",
       "    word-wrap: break-word;\n",
       "    word-break: break-all;\n",
       "    font-family: \"Source Code Pro\", \"Menlo\", monospace;;\n",
       "    font-size: 13px;\n",
       "    color: #555;\n",
       "    margin-left: 4px;\n",
       "    line-height: 19px;\n",
       "  }\n",
       "</style>\n",
       "<div class=\"ansiout\">+------------------------------------------------------------------------------------------------------------------------------------------------------------------------------------------------------------------------------------------------------+\n",
       "result                                                                                                                                                                                                                                                |\n",
       "+------------------------------------------------------------------------------------------------------------------------------------------------------------------------------------------------------------------------------------------------------+\n",
       "[A 78-year-old female with hypertension, syncope, and spinal stenosis returns for recheck. She denies chest pain, palpations, orthopnea, nocturnal dyspnea, or edema. She is on multiple medications and has Elocon cream and Synalar cream for rash.]|\n",
       "+------------------------------------------------------------------------------------------------------------------------------------------------------------------------------------------------------------------------------------------------------+\n",
       "\n",
       "</div>"
      ]
     },
     "metadata": {
      "application/vnd.databricks.v1+output": {
       "addedWidgets": {},
       "arguments": {},
       "data": "<div class=\"ansiout\">+------------------------------------------------------------------------------------------------------------------------------------------------------------------------------------------------------------------------------------------------------+\n|result                                                                                                                                                                                                                                                |\n+------------------------------------------------------------------------------------------------------------------------------------------------------------------------------------------------------------------------------------------------------+\n|[A 78-year-old female with hypertension, syncope, and spinal stenosis returns for recheck. She denies chest pain, palpations, orthopnea, nocturnal dyspnea, or edema. She is on multiple medications and has Elocon cream and Synalar cream for rash.]|\n+------------------------------------------------------------------------------------------------------------------------------------------------------------------------------------------------------------------------------------------------------+\n\n</div>",
       "datasetInfos": [],
       "metadata": {},
       "removedWidgets": [],
       "type": "html"
      }
     },
     "output_type": "display_data"
    }
   ],
   "source": [
    "result.select(\"summary.result\").show(truncate=False)"
   ]
  },
  {
   "attachments": {},
   "cell_type": "markdown",
   "metadata": {
    "application/vnd.databricks.v1+cell": {
     "cellMetadata": {},
     "inputWidgets": {},
     "nuid": "6161eb79-8fd7-40be-9e3f-eea660b79627",
     "showTitle": false,
     "title": ""
    },
    "id": "qrssZMYozT_U"
   },
   "source": [
    "### 📍 LightPipelines"
   ]
  },
  {
   "cell_type": "code",
   "execution_count": null,
   "metadata": {
    "application/vnd.databricks.v1+cell": {
     "cellMetadata": {
      "byteLimit": 2048000,
      "rowLimit": 10000
     },
     "inputWidgets": {},
     "nuid": "bd5fca97-9526-46c6-b48d-d024e1e26b4d",
     "showTitle": false,
     "title": ""
    },
    "colab": {
     "base_uri": "https://localhost:8080/"
    },
    "id": "sT_PHXXTxtV3",
    "outputId": "a984534e-93fe-4101-ea99-a14abd8799ae"
   },
   "outputs": [
    {
     "data": {
      "text/html": [
       "<style scoped>\n",
       "  .ansiout {\n",
       "    display: block;\n",
       "    unicode-bidi: embed;\n",
       "    white-space: pre-wrap;\n",
       "    word-wrap: break-word;\n",
       "    word-break: break-all;\n",
       "    font-family: \"Source Code Pro\", \"Menlo\", monospace;;\n",
       "    font-size: 13px;\n",
       "    color: #555;\n",
       "    margin-left: 4px;\n",
       "    line-height: 19px;\n",
       "  }\n",
       "</style>\n",
       "<div class=\"ansiout\">➤ DOCUMENT: \n",
       " The patient is a pleasant 17-year-old gentleman who was playing basketball today in gym. Two hours prior to presentation, he started to fall and someone stepped on his ankle and kind of twisted his right ankle and he cannot bear weight on it now. It hurts to move or bear weight. No other injuries noted. He does not think he has had injuries to his ankle in the past.\n",
       "SOCIAL HISTORY: He does not drink or smoke.\n",
       "MEDICAL DECISION MAKING:\n",
       "He had an x-ray of his ankle that showed a small ossicle versus avulsion fracture of the talonavicular joint on the lateral view. He has had no pain over the metatarsals themselves. This may be a fracture based upon his exam. He does want to have me to put him in a splint. He was given Motrin here. He will be discharged home to follow up with Dr. X from Orthopedics.\n",
       "DISPOSITION: Crutches and splint were administered here. I gave him a prescription for Motrin and some Darvocet if he needs to length his sleep and if he has continued pain to follow up with Dr. X. Return if any worsening problems.\n",
       "\n",
       "\n",
       "➤ SUMMARY: \n",
       "A 17-year-old man fell and twisted his right ankle, causing pain to move or bear weight. An x-ray showed a small ossicle\n",
       "or avulsion fracture of the talonavicular joint on the lateral view, which may be a fracture based upon his exam. He was\n",
       "given Motrin and discharged home with crutches and a prescription for Motrin and Darvocet. He was advised to follow up\n",
       "with his doctor if pain worsens and return if any worsening problems worsen.\n",
       "\n",
       "\n",
       "</div>"
      ]
     },
     "metadata": {
      "application/vnd.databricks.v1+output": {
       "addedWidgets": {},
       "arguments": {},
       "data": "<div class=\"ansiout\">➤ DOCUMENT: \n The patient is a pleasant 17-year-old gentleman who was playing basketball today in gym. Two hours prior to presentation, he started to fall and someone stepped on his ankle and kind of twisted his right ankle and he cannot bear weight on it now. It hurts to move or bear weight. No other injuries noted. He does not think he has had injuries to his ankle in the past.\nSOCIAL HISTORY: He does not drink or smoke.\nMEDICAL DECISION MAKING:\nHe had an x-ray of his ankle that showed a small ossicle versus avulsion fracture of the talonavicular joint on the lateral view. He has had no pain over the metatarsals themselves. This may be a fracture based upon his exam. He does want to have me to put him in a splint. He was given Motrin here. He will be discharged home to follow up with Dr. X from Orthopedics.\nDISPOSITION: Crutches and splint were administered here. I gave him a prescription for Motrin and some Darvocet if he needs to length his sleep and if he has continued pain to follow up with Dr. X. Return if any worsening problems.\n\n\n➤ SUMMARY: \nA 17-year-old man fell and twisted his right ankle, causing pain to move or bear weight. An x-ray showed a small ossicle\nor avulsion fracture of the talonavicular joint on the lateral view, which may be a fracture based upon his exam. He was\ngiven Motrin and discharged home with crutches and a prescription for Motrin and Darvocet. He was advised to follow up\nwith his doctor if pain worsens and return if any worsening problems worsen.\n\n\n</div>",
       "datasetInfos": [],
       "metadata": {},
       "removedWidgets": [],
       "type": "html"
      }
     },
     "output_type": "display_data"
    }
   ],
   "source": [
    "text = \"\"\"The patient is a pleasant 17-year-old gentleman who was playing basketball today in gym. Two hours prior to presentation, he started to fall and someone stepped on his ankle and kind of twisted his right ankle and he cannot bear weight on it now. It hurts to move or bear weight. No other injuries noted. He does not think he has had injuries to his ankle in the past.\n",
    "SOCIAL HISTORY: He does not drink or smoke.\n",
    "MEDICAL DECISION MAKING:\n",
    "He had an x-ray of his ankle that showed a small ossicle versus avulsion fracture of the talonavicular joint on the lateral view. He has had no pain over the metatarsals themselves. This may be a fracture based upon his exam. He does want to have me to put him in a splint. He was given Motrin here. He will be discharged home to follow up with Dr. X from Orthopedics.\n",
    "DISPOSITION: Crutches and splint were administered here. I gave him a prescription for Motrin and some Darvocet if he needs to length his sleep and if he has continued pain to follow up with Dr. X. Return if any worsening problems.\"\"\"\n",
    "\n",
    "light_model = LightPipeline(model)\n",
    "light_result = light_model.annotate(text)\n",
    "\n",
    "print(\"➤ DOCUMENT: \\n\", light_result[\"document\"][0]) \n",
    "print(\"\\n\") \n",
    "wrapped_text = textwrap.fill(light_result[\"summary\"][0], width=120) \n",
    "print(\"➤ SUMMARY: \\n{}\".format(wrapped_text)) \n",
    "print(\"\\n\")"
   ]
  },
  {
   "attachments": {},
   "cell_type": "markdown",
   "metadata": {
    "application/vnd.databricks.v1+cell": {
     "cellMetadata": {},
     "inputWidgets": {},
     "nuid": "cb2ba1f9-bc0d-402d-ac04-c2f731fa20d4",
     "showTitle": false,
     "title": ""
    },
    "id": "Bi-kpVjOpJX8"
   },
   "source": [
    "### 🚩 summaries from paragraphs in text"
   ]
  },
  {
   "cell_type": "code",
   "execution_count": null,
   "metadata": {
    "application/vnd.databricks.v1+cell": {
     "cellMetadata": {
      "byteLimit": 2048000,
      "rowLimit": 10000
     },
     "inputWidgets": {},
     "nuid": "64de2e97-6c2a-4428-bdc8-79c68f8d9435",
     "showTitle": false,
     "title": ""
    },
    "colab": {
     "base_uri": "https://localhost:8080/"
    },
    "id": "HGV_eUhWhPqX",
    "outputId": "c74be0b5-d900-4681-caa6-93c10b68b918"
   },
   "outputs": [
    {
     "data": {
      "text/html": [
       "<style scoped>\n",
       "  .ansiout {\n",
       "    display: block;\n",
       "    unicode-bidi: embed;\n",
       "    white-space: pre-wrap;\n",
       "    word-wrap: break-word;\n",
       "    word-break: break-all;\n",
       "    font-family: \"Source Code Pro\", \"Menlo\", monospace;;\n",
       "    font-size: 13px;\n",
       "    color: #555;\n",
       "    margin-left: 4px;\n",
       "    line-height: 19px;\n",
       "  }\n",
       "</style>\n",
       "<div class=\"ansiout\">sentence_detector_dl_healthcare download started this may take some time.\n",
       "Approximate size to download 367.3 KB\n",
       "\r[ | ]\r[ / ]\r[OK!]\n",
       "summarizer_clinical_jsl download started this may take some time.\n",
       "\r[ | ]\r[OK!]\n",
       "</div>"
      ]
     },
     "metadata": {
      "application/vnd.databricks.v1+output": {
       "addedWidgets": {},
       "arguments": {},
       "data": "<div class=\"ansiout\">sentence_detector_dl_healthcare download started this may take some time.\nApproximate size to download 367.3 KB\n\r[ | ]\r[ / ]\r[OK!]\nsummarizer_clinical_jsl download started this may take some time.\n\r[ | ]\r[OK!]\n</div>",
       "datasetInfos": [],
       "metadata": {},
       "removedWidgets": [],
       "type": "html"
      }
     },
     "output_type": "display_data"
    }
   ],
   "source": [
    "document_assembler = DocumentAssembler()\\\n",
    "            .setInputCol('text')\\\n",
    "            .setOutputCol('document')\n",
    " \n",
    "sentenceDetector = SentenceDetectorDLModel\\\n",
    "            .pretrained(\"sentence_detector_dl_healthcare\",\"en\",\"clinical/models\")\\\n",
    "            .setInputCols([\"document\"])\\\n",
    "            .setOutputCol(\"sentence\")\\\n",
    "            .setCustomBounds([\"\\n\"])\\\n",
    "            .setUseCustomBoundsOnly(True)\n",
    "\n",
    "summarizer = MedicalSummarizer\\\n",
    "            .pretrained(\"summarizer_clinical_jsl\")\\\n",
    "            .setInputCols(['sentence'])\\\n",
    "            .setOutputCol('summary')\\\n",
    "            .setMaxTextLength(512)\\\n",
    "            .setMaxNewTokens(512)\n",
    "\n",
    "pipeline = Pipeline(stages=[\n",
    "            document_assembler,\n",
    "            sentenceDetector,\n",
    "            summarizer])\n",
    "\n",
    "model = pipeline.fit(spark.createDataFrame([[\"\"]]).toDF(\"text\"))"
   ]
  },
  {
   "cell_type": "code",
   "execution_count": null,
   "metadata": {
    "application/vnd.databricks.v1+cell": {
     "cellMetadata": {
      "byteLimit": 2048000,
      "rowLimit": 10000
     },
     "inputWidgets": {},
     "nuid": "637b7fd0-5620-467a-a0b3-3cfd8617be44",
     "showTitle": false,
     "title": ""
    },
    "id": "yygOStZlnieC"
   },
   "outputs": [
    {
     "data": {
      "text/html": [
       "<style scoped>\n",
       "  .ansiout {\n",
       "    display: block;\n",
       "    unicode-bidi: embed;\n",
       "    white-space: pre-wrap;\n",
       "    word-wrap: break-word;\n",
       "    word-break: break-all;\n",
       "    font-family: \"Source Code Pro\", \"Menlo\", monospace;;\n",
       "    font-size: 13px;\n",
       "    color: #555;\n",
       "    margin-left: 4px;\n",
       "    line-height: 19px;\n",
       "  }\n",
       "</style>\n",
       "<div class=\"ansiout\"></div>"
      ]
     },
     "metadata": {
      "application/vnd.databricks.v1+output": {
       "addedWidgets": {},
       "arguments": {},
       "data": "<div class=\"ansiout\"></div>",
       "datasetInfos": [],
       "metadata": {},
       "removedWidgets": [],
       "type": "html"
      }
     },
     "output_type": "display_data"
    }
   ],
   "source": [
    "text = \"\"\"PRESENT ILLNESS: The patient is a 28-year-old, who is status post gastric bypass surgery nearly one year ago. He has lost about 200 pounds and was otherwise doing well until yesterday evening around 7:00-8:00 when he developed nausea and right upper quadrant pain, which apparently wrapped around toward his right side and back. He feels like he was on it but has not done so. He has overall malaise and a low-grade temperature of 100.3. He denies any prior similar or lesser symptoms. His last normal bowel movement was yesterday. He denies any outright chills or blood per rectum.\n",
    "\n",
    "PHYSICAL EXAMINATION: His temperature is 100.3, blood pressure 129/59, respirations 16, heart rate 84. He is drowsy, but easily arousable and appropriate with conversation. He is oriented to person, place, and situation. He is normocephalic, atraumatic. His sclerae are anicteric. His mucous membranes are somewhat tacky. His neck is supple and symmetric. His respirations are unlabored and clear. He has a regular rate and rhythm. His abdomen is soft. He has diffuse right upper quadrant tenderness, worse focally, but no rebound or guarding. He otherwise has no organomegaly, masses, or abdominal hernias evident. His extremities are symmetrical with no edema. His posterior tibial pulses are palpable and symmetric. He is grossly nonfocal neurologically.\n",
    "\n",
    "PLAN: He will be admitted and placed on IV antibiotics. We will get an ultrasound this morning. He will need his gallbladder out, probably with intraoperative cholangiogram. Hopefully, the stone will pass this way. Due to his anatomy, an ERCP would prove quite difficult if not impossible unless laparoscopic assisted. Dr. X will see him later this morning and discuss the plan further. The patient understands.\"\"\"\n",
    "\n",
    "light_model = LightPipeline(model)\n",
    "light_result = light_model.annotate(text)"
   ]
  },
  {
   "cell_type": "code",
   "execution_count": null,
   "metadata": {
    "application/vnd.databricks.v1+cell": {
     "cellMetadata": {
      "byteLimit": 2048000,
      "rowLimit": 10000
     },
     "inputWidgets": {},
     "nuid": "d2d292cc-7062-4f8b-8fa3-d8a81f76cd3c",
     "showTitle": false,
     "title": ""
    },
    "colab": {
     "base_uri": "https://localhost:8080/"
    },
    "id": "eXASK1OKsDHp",
    "outputId": "eade1987-551f-42fd-858f-dd15f440b2f3"
   },
   "outputs": [
    {
     "data": {
      "text/html": [
       "<style scoped>\n",
       "  .ansiout {\n",
       "    display: block;\n",
       "    unicode-bidi: embed;\n",
       "    white-space: pre-wrap;\n",
       "    word-wrap: break-word;\n",
       "    word-break: break-all;\n",
       "    font-family: \"Source Code Pro\", \"Menlo\", monospace;;\n",
       "    font-size: 13px;\n",
       "    color: #555;\n",
       "    margin-left: 4px;\n",
       "    line-height: 19px;\n",
       "  }\n",
       "</style>\n",
       "<div class=\"ansiout\">➤ Document 1: \n",
       "PRESENT ILLNESS: The patient is a 28-year-old, who is status post gastric bypass surgery nearly one year ago. He has\n",
       "lost about 200 pounds and was otherwise doing well until yesterday evening around 7:00-8:00 when he developed nausea and\n",
       "right upper quadrant pain, which apparently wrapped around toward his right side and back. He feels like he was on it\n",
       "but has not done so. He has overall malaise and a low-grade temperature of 100.3. He denies any prior similar or lesser\n",
       "symptoms. His last normal bowel movement was yesterday. He denies any outright chills or blood per rectum.\n",
       "\n",
       "\n",
       "➤ Summary 1: \n",
       "A 28-year-old patient who had gastric bypass surgery nearly one year ago developed nausea and right upper quadrant pain,\n",
       "which wrapped around his right side and back. He has malaise and a low-grade temperature of 100.3. He denies any\n",
       "previous symptoms and has no other symptoms.\n",
       "\n",
       "\n",
       "➤ Document 2: \n",
       "PHYSICAL EXAMINATION: His temperature is 100.3, blood pressure 129/59, respirations 16, heart rate 84. He is drowsy, but\n",
       "easily arousable and appropriate with conversation. He is oriented to person, place, and situation. He is normocephalic,\n",
       "atraumatic. His sclerae are anicteric. His mucous membranes are somewhat tacky. His neck is supple and symmetric. His\n",
       "respirations are unlabored and clear. He has a regular rate and rhythm. His abdomen is soft. He has diffuse right upper\n",
       "quadrant tenderness, worse focally, but no rebound or guarding. He otherwise has no organomegaly, masses, or abdominal\n",
       "hernias evident. His extremities are symmetrical with no edema. His posterior tibial pulses are palpable and symmetric.\n",
       "He is grossly nonfocal neurologically.\n",
       "\n",
       "\n",
       "➤ Summary 2: \n",
       "The patient has a temperature of 100.3, blood pressure of 129/59, respirations of 16, and heart rate of 84. He is drowsy\n",
       "but oriented to person, place, and situation. He has normalocephalic, atraumatic, and supple and symmetric neck. His\n",
       "respiratory rhythm is unlabored and clear, and his abdomen is soft. He has diffuse right upper quadrant tenderness,\n",
       "worse focally, but no rebound or guarding. He has no organomegaly, masses, or abdominal hernias evident. His extremities\n",
       "are symmetrical with no edema, and his posterior tibial pulses are palpable and symmetric. He is grossly nonfocal\n",
       "neurologically.\n",
       "\n",
       "\n",
       "➤ Document 3: \n",
       "PLAN: He will be admitted and placed on IV antibiotics. We will get an ultrasound this morning. He will need his\n",
       "gallbladder out, probably with intraoperative cholangiogram. Hopefully, the stone will pass this way. Due to his\n",
       "anatomy, an ERCP would prove quite difficult if not impossible unless laparoscopic assisted. Dr. X will see him later\n",
       "this morning and discuss the plan further. The patient understands.\n",
       "\n",
       "\n",
       "➤ Summary 3: \n",
       "The patient will be admitted and placed on IV antibiotics. An ultrasound will be done to remove the gallbladder, which\n",
       "will be done with intraoperative cholangiogram. The stone will pass through the gallbladder, and an ERCP is difficult\n",
       "due to the patient&#39;s anatomy. The plan will be discussed with the patient later this morning.\n",
       "\n",
       "\n",
       "</div>"
      ]
     },
     "metadata": {
      "application/vnd.databricks.v1+output": {
       "addedWidgets": {},
       "arguments": {},
       "data": "<div class=\"ansiout\">➤ Document 1: \nPRESENT ILLNESS: The patient is a 28-year-old, who is status post gastric bypass surgery nearly one year ago. He has\nlost about 200 pounds and was otherwise doing well until yesterday evening around 7:00-8:00 when he developed nausea and\nright upper quadrant pain, which apparently wrapped around toward his right side and back. He feels like he was on it\nbut has not done so. He has overall malaise and a low-grade temperature of 100.3. He denies any prior similar or lesser\nsymptoms. His last normal bowel movement was yesterday. He denies any outright chills or blood per rectum.\n\n\n➤ Summary 1: \nA 28-year-old patient who had gastric bypass surgery nearly one year ago developed nausea and right upper quadrant pain,\nwhich wrapped around his right side and back. He has malaise and a low-grade temperature of 100.3. He denies any\nprevious symptoms and has no other symptoms.\n\n\n➤ Document 2: \nPHYSICAL EXAMINATION: His temperature is 100.3, blood pressure 129/59, respirations 16, heart rate 84. He is drowsy, but\neasily arousable and appropriate with conversation. He is oriented to person, place, and situation. He is normocephalic,\natraumatic. His sclerae are anicteric. His mucous membranes are somewhat tacky. His neck is supple and symmetric. His\nrespirations are unlabored and clear. He has a regular rate and rhythm. His abdomen is soft. He has diffuse right upper\nquadrant tenderness, worse focally, but no rebound or guarding. He otherwise has no organomegaly, masses, or abdominal\nhernias evident. His extremities are symmetrical with no edema. His posterior tibial pulses are palpable and symmetric.\nHe is grossly nonfocal neurologically.\n\n\n➤ Summary 2: \nThe patient has a temperature of 100.3, blood pressure of 129/59, respirations of 16, and heart rate of 84. He is drowsy\nbut oriented to person, place, and situation. He has normalocephalic, atraumatic, and supple and symmetric neck. His\nrespiratory rhythm is unlabored and clear, and his abdomen is soft. He has diffuse right upper quadrant tenderness,\nworse focally, but no rebound or guarding. He has no organomegaly, masses, or abdominal hernias evident. His extremities\nare symmetrical with no edema, and his posterior tibial pulses are palpable and symmetric. He is grossly nonfocal\nneurologically.\n\n\n➤ Document 3: \nPLAN: He will be admitted and placed on IV antibiotics. We will get an ultrasound this morning. He will need his\ngallbladder out, probably with intraoperative cholangiogram. Hopefully, the stone will pass this way. Due to his\nanatomy, an ERCP would prove quite difficult if not impossible unless laparoscopic assisted. Dr. X will see him later\nthis morning and discuss the plan further. The patient understands.\n\n\n➤ Summary 3: \nThe patient will be admitted and placed on IV antibiotics. An ultrasound will be done to remove the gallbladder, which\nwill be done with intraoperative cholangiogram. The stone will pass through the gallbladder, and an ERCP is difficult\ndue to the patient&#39;s anatomy. The plan will be discussed with the patient later this morning.\n\n\n</div>",
       "datasetInfos": [],
       "metadata": {},
       "removedWidgets": [],
       "type": "html"
      }
     },
     "output_type": "display_data"
    }
   ],
   "source": [
    "for i in range(len(light_result['sentence'])):\n",
    "    document_text = textwrap.fill(light_result['sentence'][i], width=120)\n",
    "    summary_text = textwrap.fill(light_result['summary'][i], width=120)\n",
    "    \n",
    "    print(\"➤ Document {}: \\n{}\".format(i+1, document_text))\n",
    "    print(\"\\n\")\n",
    "    print(\"➤ Summary {}: \\n{}\".format(i+1, summary_text))\n",
    "    print(\"\\n\")"
   ]
  },
  {
   "attachments": {},
   "cell_type": "markdown",
   "metadata": {
    "application/vnd.databricks.v1+cell": {
     "cellMetadata": {},
     "inputWidgets": {},
     "nuid": "533e212e-8e32-493b-9d0e-3e2f5227c0e8",
     "showTitle": false,
     "title": ""
    }
   },
   "source": [
    "### 🚩 setRefineSummary"
   ]
  },
  {
   "attachments": {},
   "cell_type": "markdown",
   "metadata": {
    "application/vnd.databricks.v1+cell": {
     "cellMetadata": {},
     "inputWidgets": {},
     "nuid": "f40171a5-d24b-4cd1-8180-f647a0da3b4d",
     "showTitle": false,
     "title": ""
    }
   },
   "source": [
    "**We've Made Significant Enhancements To Our Text Summarization Method, Which Now Utilizes A Map-Reduce Approach For Section-Wise Summarization.**\n",
    "\n",
    "We are excited to announce the integration of new parameters into our `MedicalSummarizer` annotator, empowering users to overcome token limitations and attain heightened flexibility in their medical summarization endeavors. These advanced parameters significantly augment the annotator's functionality, enabling users to generate more accurate and comprehensive summaries of medical documents. By employing a map-reduce approach, the `MedicalSummarizer` efficiently condenses distinct text segments until the desired length is achieved.\n",
    "\n",
    "The following parameters have been introduced:\n",
    "\n",
    "- `setRefineSummary`: Set to True for refined summarization with increased computational cost.\n",
    "- `setRefineSummaryTargetLength`: Define the target length of summarizations in tokens (delimited by whitespace). Effective only when setRefineSummary=True.\n",
    "- `setRefineChunkSize`: Specify the desired size of refined chunks. Should correspond to the LLM context window size in tokens. Effective only when - `setRefineSummary=True`.\n",
    "- `setRefineMaxAttempts`: Determine the number of attempts for re-summarizing chunks exceeding the setRefineSummaryTargetLength before discontinuing. Effective only when `setRefineSummary=True`.\n",
    "\n",
    "These enhancements to the MedicalSummarizer annotator represent our ongoing commitment to providing state-of-the-art tools for healthcare professionals and researchers, facilitating more efficient and accurate medical text analysis."
   ]
  },
  {
   "cell_type": "code",
   "execution_count": null,
   "metadata": {
    "application/vnd.databricks.v1+cell": {
     "cellMetadata": {
      "byteLimit": 2048000,
      "rowLimit": 10000
     },
     "inputWidgets": {},
     "nuid": "29183c24-1c34-4ca4-a1ef-36979b228e6b",
     "showTitle": false,
     "title": ""
    }
   },
   "outputs": [
    {
     "data": {
      "text/html": [
       "<style scoped>\n",
       "  .ansiout {\n",
       "    display: block;\n",
       "    unicode-bidi: embed;\n",
       "    white-space: pre-wrap;\n",
       "    word-wrap: break-word;\n",
       "    word-break: break-all;\n",
       "    font-family: \"Source Code Pro\", \"Menlo\", monospace;;\n",
       "    font-size: 13px;\n",
       "    color: #555;\n",
       "    margin-left: 4px;\n",
       "    line-height: 19px;\n",
       "  }\n",
       "</style>\n",
       "<div class=\"ansiout\">summarizer_clinical_jsl download started this may take some time.\n",
       "\r[ | ]\r[OK!]\n",
       "</div>"
      ]
     },
     "metadata": {
      "application/vnd.databricks.v1+output": {
       "addedWidgets": {},
       "arguments": {},
       "data": "<div class=\"ansiout\">summarizer_clinical_jsl download started this may take some time.\n\r[ | ]\r[OK!]\n</div>",
       "datasetInfos": [],
       "metadata": {},
       "removedWidgets": [],
       "type": "html"
      }
     },
     "output_type": "display_data"
    }
   ],
   "source": [
    "document_assembler = DocumentAssembler()\\\n",
    "            .setInputCol('text')\\\n",
    "            .setOutputCol('document')\n",
    "\n",
    "summarizer = MedicalSummarizer.pretrained(\"summarizer_clinical_jsl\", \"en\", \"clinical/models\")\\\n",
    "            .setInputCols([\"document\"])\\\n",
    "            .setOutputCol(\"summary\")\\\n",
    "            .setMaxTextLength(512)\\\n",
    "            .setMaxNewTokens(512)\\\n",
    "            .setDoSample(True)\\\n",
    "            .setRefineSummary(True)\\\n",
    "            .setRefineSummaryTargetLength(100)\\\n",
    "            .setRefineMaxAttempts(3)\\\n",
    "            .setRefineChunkSize(512)\\\n",
    "            \n",
    "pipeline = Pipeline(stages=[\n",
    "            document_assembler,\n",
    "            summarizer])\n",
    "\n",
    "model = pipeline.fit(spark.createDataFrame([[\"\"]]).toDF(\"text\"))"
   ]
  },
  {
   "cell_type": "code",
   "execution_count": null,
   "metadata": {
    "application/vnd.databricks.v1+cell": {
     "cellMetadata": {
      "byteLimit": 2048000,
      "rowLimit": 10000
     },
     "inputWidgets": {},
     "nuid": "7d41408d-a13c-459d-93ef-ba8e7f5f93d2",
     "showTitle": false,
     "title": ""
    }
   },
   "outputs": [
    {
     "data": {
      "text/html": [
       "<style scoped>\n",
       "  .ansiout {\n",
       "    display: block;\n",
       "    unicode-bidi: embed;\n",
       "    white-space: pre-wrap;\n",
       "    word-wrap: break-word;\n",
       "    word-break: break-all;\n",
       "    font-family: \"Source Code Pro\", \"Menlo\", monospace;;\n",
       "    font-size: 13px;\n",
       "    color: #555;\n",
       "    margin-left: 4px;\n",
       "    line-height: 19px;\n",
       "  }\n",
       "</style>\n",
       "<div class=\"ansiout\"></div>"
      ]
     },
     "metadata": {
      "application/vnd.databricks.v1+output": {
       "addedWidgets": {},
       "arguments": {},
       "data": "<div class=\"ansiout\"></div>",
       "datasetInfos": [],
       "metadata": {},
       "removedWidgets": [],
       "type": "html"
      }
     },
     "output_type": "display_data"
    }
   ],
   "source": [
    "text = \"\"\"The patient is a pleasant 17-year-old gentleman who was playing basketball today in gym. Two hours prior to presentation, he started to fall and someone stepped on his ankle and kind of twisted his right ankle and he cannot bear weight on it now. It hurts to move or bear weight. No other injuries noted. He does not think he has had injuries to his ankle in the past.\n",
    "SOCIAL HISTORY: He does not drink or smoke.\n",
    "MEDICAL DECISION MAKING:\n",
    "He had an x-ray of his ankle that showed a small ossicle versus avulsion fracture of the talonavicular joint on the lateral view. He has had no pain over the metatarsals themselves. This may be a fracture based upon his exam. He does want to have me to put him in a splint. He was given Motrin here. He will be discharged home to follow up with Dr. X from Orthopedics.\n",
    "DISPOSITION: Crutches and splint were administered here. I gave him a prescription for Motrin and some Darvocet if he needs to length his sleep and if he has continued pain to follow up with Dr. X. Return if any worsening problems.\"\"\"\n",
    "\n",
    "light_model = LightPipeline(model)\n",
    "light_result = light_model.annotate(text)"
   ]
  },
  {
   "cell_type": "code",
   "execution_count": null,
   "metadata": {
    "application/vnd.databricks.v1+cell": {
     "cellMetadata": {
      "byteLimit": 2048000,
      "rowLimit": 10000
     },
     "inputWidgets": {},
     "nuid": "7e4e14dc-8757-4ebb-97b2-8854b4883364",
     "showTitle": false,
     "title": ""
    }
   },
   "outputs": [
    {
     "data": {
      "text/html": [
       "<style scoped>\n",
       "  .ansiout {\n",
       "    display: block;\n",
       "    unicode-bidi: embed;\n",
       "    white-space: pre-wrap;\n",
       "    word-wrap: break-word;\n",
       "    word-break: break-all;\n",
       "    font-family: \"Source Code Pro\", \"Menlo\", monospace;;\n",
       "    font-size: 13px;\n",
       "    color: #555;\n",
       "    margin-left: 4px;\n",
       "    line-height: 19px;\n",
       "  }\n",
       "</style>\n",
       "<div class=\"ansiout\">Out[17]: [&#39;An xray showed an acute fracture of his right foot after falling while basketball in ice hockey. A patient had no other injury reported, but an angiogram revealed small osseus or anvulon rupture. He had sputtons placed and a Moritic and sprain treatment. He was given MoturiN for shortness and Darvicac for continued pain. Followup appointments were planned with the orthopestive doctor and returned for further treatment if symptoms persists and further complications occur in future.&#39;]</div>"
      ]
     },
     "metadata": {
      "application/vnd.databricks.v1+output": {
       "addedWidgets": {},
       "arguments": {},
       "data": "<div class=\"ansiout\">Out[17]: [&#39;An xray showed an acute fracture of his right foot after falling while basketball in ice hockey. A patient had no other injury reported, but an angiogram revealed small osseus or anvulon rupture. He had sputtons placed and a Moritic and sprain treatment. He was given MoturiN for shortness and Darvicac for continued pain. Followup appointments were planned with the orthopestive doctor and returned for further treatment if symptoms persists and further complications occur in future.&#39;]</div>",
       "datasetInfos": [],
       "metadata": {},
       "removedWidgets": [],
       "type": "html"
      }
     },
     "output_type": "display_data"
    }
   ],
   "source": [
    "light_result[\"summary\"]"
   ]
  },
  {
   "cell_type": "code",
   "execution_count": null,
   "metadata": {
    "application/vnd.databricks.v1+cell": {
     "cellMetadata": {
      "byteLimit": 2048000,
      "rowLimit": 10000
     },
     "inputWidgets": {},
     "nuid": "3e363628-b5f9-422e-bef1-c171c5842715",
     "showTitle": false,
     "title": ""
    }
   },
   "outputs": [
    {
     "data": {
      "text/html": [
       "<style scoped>\n",
       "  .ansiout {\n",
       "    display: block;\n",
       "    unicode-bidi: embed;\n",
       "    white-space: pre-wrap;\n",
       "    word-wrap: break-word;\n",
       "    word-break: break-all;\n",
       "    font-family: \"Source Code Pro\", \"Menlo\", monospace;;\n",
       "    font-size: 13px;\n",
       "    color: #555;\n",
       "    margin-left: 4px;\n",
       "    line-height: 19px;\n",
       "  }\n",
       "</style>\n",
       "<div class=\"ansiout\">➤ Document 1: \n",
       "The patient is a pleasant 17-year-old gentleman who was playing basketball today in gym. Two hours prior to\n",
       "presentation, he started to fall and someone stepped on his ankle and kind of twisted his right ankle and he cannot bear\n",
       "weight on it now. It hurts to move or bear weight. No other injuries noted. He does not think he has had injuries to his\n",
       "ankle in the past. SOCIAL HISTORY: He does not drink or smoke. MEDICAL DECISION MAKING: He had an x-ray of his ankle\n",
       "that showed a small ossicle versus avulsion fracture of the talonavicular joint on the lateral view. He has had no pain\n",
       "over the metatarsals themselves. This may be a fracture based upon his exam. He does want to have me to put him in a\n",
       "splint. He was given Motrin here. He will be discharged home to follow up with Dr. X from Orthopedics. DISPOSITION:\n",
       "Crutches and splint were administered here. I gave him a prescription for Motrin and some Darvocet if he needs to length\n",
       "his sleep and if he has continued pain to follow up with Dr. X. Return if any worsening problems.\n",
       "\n",
       "\n",
       "➤ Summary 1: \n",
       "An xray showed an acute fracture of his right foot after falling while basketball in ice hockey. A patient had no other\n",
       "injury reported, but an angiogram revealed small osseus or anvulon rupture. He had sputtons placed and a Moritic and\n",
       "sprain treatment. He was given MoturiN for shortness and Darvicac for continued pain. Followup appointments were planned\n",
       "with the orthopestive doctor and returned for further treatment if symptoms persists and further complications occur in\n",
       "future.\n",
       "\n",
       "\n",
       "</div>"
      ]
     },
     "metadata": {
      "application/vnd.databricks.v1+output": {
       "addedWidgets": {},
       "arguments": {},
       "data": "<div class=\"ansiout\">➤ Document 1: \nThe patient is a pleasant 17-year-old gentleman who was playing basketball today in gym. Two hours prior to\npresentation, he started to fall and someone stepped on his ankle and kind of twisted his right ankle and he cannot bear\nweight on it now. It hurts to move or bear weight. No other injuries noted. He does not think he has had injuries to his\nankle in the past. SOCIAL HISTORY: He does not drink or smoke. MEDICAL DECISION MAKING: He had an x-ray of his ankle\nthat showed a small ossicle versus avulsion fracture of the talonavicular joint on the lateral view. He has had no pain\nover the metatarsals themselves. This may be a fracture based upon his exam. He does want to have me to put him in a\nsplint. He was given Motrin here. He will be discharged home to follow up with Dr. X from Orthopedics. DISPOSITION:\nCrutches and splint were administered here. I gave him a prescription for Motrin and some Darvocet if he needs to length\nhis sleep and if he has continued pain to follow up with Dr. X. Return if any worsening problems.\n\n\n➤ Summary 1: \nAn xray showed an acute fracture of his right foot after falling while basketball in ice hockey. A patient had no other\ninjury reported, but an angiogram revealed small osseus or anvulon rupture. He had sputtons placed and a Moritic and\nsprain treatment. He was given MoturiN for shortness and Darvicac for continued pain. Followup appointments were planned\nwith the orthopestive doctor and returned for further treatment if symptoms persists and further complications occur in\nfuture.\n\n\n</div>",
       "datasetInfos": [],
       "metadata": {},
       "removedWidgets": [],
       "type": "html"
      }
     },
     "output_type": "display_data"
    }
   ],
   "source": [
    "for i in range(len(light_result['document'])):\n",
    "    document_text = textwrap.fill(light_result['document'][i], width=120)\n",
    "    summary_text = textwrap.fill(light_result['summary'][i], width=120)\n",
    "    \n",
    "    print(\"➤ Document {}: \\n{}\".format(i+1, document_text))\n",
    "    print(\"\\n\")\n",
    "    print(\"➤ Summary {}: \\n{}\".format(i+1, summary_text))\n",
    "    print(\"\\n\")"
   ]
  },
  {
   "cell_type": "code",
   "execution_count": null,
   "metadata": {
    "application/vnd.databricks.v1+cell": {
     "cellMetadata": {
      "byteLimit": 2048000,
      "rowLimit": 10000
     },
     "inputWidgets": {},
     "nuid": "7ae5a7d7-dfec-4dcc-b818-87484ca909fb",
     "showTitle": false,
     "title": ""
    }
   },
   "outputs": [
    {
     "data": {
      "text/html": [
       "<style scoped>\n",
       "  .ansiout {\n",
       "    display: block;\n",
       "    unicode-bidi: embed;\n",
       "    white-space: pre-wrap;\n",
       "    word-wrap: break-word;\n",
       "    word-break: break-all;\n",
       "    font-family: \"Source Code Pro\", \"Menlo\", monospace;;\n",
       "    font-size: 13px;\n",
       "    color: #555;\n",
       "    margin-left: 4px;\n",
       "    line-height: 19px;\n",
       "  }\n",
       "</style>\n",
       "<div class=\"ansiout\"></div>"
      ]
     },
     "metadata": {
      "application/vnd.databricks.v1+output": {
       "addedWidgets": {},
       "arguments": {},
       "data": "<div class=\"ansiout\"></div>",
       "datasetInfos": [],
       "metadata": {},
       "removedWidgets": [],
       "type": "html"
      }
     },
     "output_type": "display_data"
    }
   ],
   "source": [
    "text = \"\"\"To determine whether a course of low-dose indomethacin therapy, when initiated within 24 hours of birth, would decrease ductal shunting in premature infants who received prophylactic surfactant in the delivery room. Ninety infants, with birth weights of 600 to 1250 gm, were entered into a prospective, randomized, controlled trial to receive either indomethacin, 0.1 mg/kg per dose, or placebo less than 24 hours and again every 24 hours for six doses. Echocardiography was performed on day 1 before treatment and on day 7, 24 hours after treatment. A hemodynamically significant patent ductus arteriosus (PDA) was confirmed with an out-of-study echocardiogram, and the nonresponders were treated with standard indomethacin or ligation. Forty-three infants received indomethacin (birth weight, 915 +/- 209 gm; gestational age, 26.4 +/- 1.6 weeks; 25 boys), and 47 received placebo (birth weight, 879 +/- 202 gm; gestational age, 26.4 +/- 1.8 weeks; 22 boys) (P = not significant). Of 90 infants, 77 (86%) had a PDA by echocardiogram on the first day of life before study treatment; 84% of these PDAs were moderate or large in size in the indomethacin-treated group compared with 93% in the placebo group. Nine of forty indomethacin-treated infants (21%) were study-dose nonresponders compared with 22 (47%) of 47 placebo-treated infants (p < 0.018). There were no significant differences between both groups in any of the long-term outcome variables, including intraventricular hemorrhage, duration of oxygen therapy, endotracheal intubation, duration of stay in neonatal intensive care unit, time to regain birth weight or reach full caloric intake, incidence of bronchopulmonary dysplasia, and survival. No significant differences were noted in the incidence of oliguria, elevated plasma creatinine concentration, thrombocytopenia, pulmonary hemorrhage, or necrotizing enterocolitis. The prophylactic use of low doses of indomethacin, when initiated in the first 24 hours of life in low birth weight infants who receive prophylactic surfactant in the delivery room, decreases the incidence of left-to-right shunting at the level of the ductus arteriosus.\"\"\"\n",
    "\n",
    "light_result = light_model.annotate(text)"
   ]
  },
  {
   "cell_type": "code",
   "execution_count": null,
   "metadata": {
    "application/vnd.databricks.v1+cell": {
     "cellMetadata": {
      "byteLimit": 2048000,
      "rowLimit": 10000
     },
     "inputWidgets": {},
     "nuid": "d710f69a-fa7c-4ee7-8d09-8bb0538df7b9",
     "showTitle": false,
     "title": ""
    }
   },
   "outputs": [
    {
     "data": {
      "text/html": [
       "<style scoped>\n",
       "  .ansiout {\n",
       "    display: block;\n",
       "    unicode-bidi: embed;\n",
       "    white-space: pre-wrap;\n",
       "    word-wrap: break-word;\n",
       "    word-break: break-all;\n",
       "    font-family: \"Source Code Pro\", \"Menlo\", monospace;;\n",
       "    font-size: 13px;\n",
       "    color: #555;\n",
       "    margin-left: 4px;\n",
       "    line-height: 19px;\n",
       "  }\n",
       "</style>\n",
       "<div class=\"ansiout\">Out[20]: [&#39;The text suggests that low dose intraveginal titration (ETTs) in premature babies, which may reduce left ductular sway, should not be initiated in the delivery day due the presence or presence in ductals argurosis of the patent coronarian veins (PCV) and the presence of an ejection fluid (EFD) in the pulmonary embaryolithic (PBD) vein, which may be related. The use and management plan of low- doses of TCT are recommended.&#39;]</div>"
      ]
     },
     "metadata": {
      "application/vnd.databricks.v1+output": {
       "addedWidgets": {},
       "arguments": {},
       "data": "<div class=\"ansiout\">Out[20]: [&#39;The text suggests that low dose intraveginal titration (ETTs) in premature babies, which may reduce left ductular sway, should not be initiated in the delivery day due the presence or presence in ductals argurosis of the patent coronarian veins (PCV) and the presence of an ejection fluid (EFD) in the pulmonary embaryolithic (PBD) vein, which may be related. The use and management plan of low- doses of TCT are recommended.&#39;]</div>",
       "datasetInfos": [],
       "metadata": {},
       "removedWidgets": [],
       "type": "html"
      }
     },
     "output_type": "display_data"
    }
   ],
   "source": [
    "light_result[\"summary\"]"
   ]
  },
  {
   "attachments": {},
   "cell_type": "markdown",
   "metadata": {
    "application/vnd.databricks.v1+cell": {
     "cellMetadata": {},
     "inputWidgets": {},
     "nuid": "96c09711-5cf8-4f1d-bbb0-dfe2c3589325",
     "showTitle": false,
     "title": ""
    },
    "id": "8jI0eKmaK7pu"
   },
   "source": [
    "## 📃 summarizer_clinical_jsl_augmented\n",
    "\n",
    "This summarization model can quickly summarize clinical notes, encounters, critical care notes, discharge notes, reports, etc. It is based on a large language model that is finetuned with healthcare-specific additional data curated by medical doctors at John Snow Labs. This model is further optimized by augmenting the training methodology, and dataset. It can generate summaries up to 512 tokens given an input text (max 1024 tokens)."
   ]
  },
  {
   "cell_type": "code",
   "execution_count": null,
   "metadata": {
    "application/vnd.databricks.v1+cell": {
     "cellMetadata": {
      "byteLimit": 2048000,
      "rowLimit": 10000
     },
     "inputWidgets": {},
     "nuid": "e99c9147-8780-484a-8cbb-57b0ae260e60",
     "showTitle": false,
     "title": ""
    },
    "colab": {
     "base_uri": "https://localhost:8080/"
    },
    "id": "vmGXdvh1LGE6",
    "outputId": "9c5d979d-9142-49be-c101-711be6dd76d0"
   },
   "outputs": [
    {
     "data": {
      "text/html": [
       "<style scoped>\n",
       "  .ansiout {\n",
       "    display: block;\n",
       "    unicode-bidi: embed;\n",
       "    white-space: pre-wrap;\n",
       "    word-wrap: break-word;\n",
       "    word-break: break-all;\n",
       "    font-family: \"Source Code Pro\", \"Menlo\", monospace;;\n",
       "    font-size: 13px;\n",
       "    color: #555;\n",
       "    margin-left: 4px;\n",
       "    line-height: 19px;\n",
       "  }\n",
       "</style>\n",
       "<div class=\"ansiout\">summarizer_clinical_jsl_augmented download started this may take some time.\n",
       "\r[ | ]\r[ / ]\r[ — ]\r[ \\ ]\r[ | ]\r[ / ]\r[ — ]\r[ \\ ]\r[ | ]\r[ / ]\r[ — ]\r[ \\ ]\r[ | ]\r[ / ]\r[ — ]\r[ \\ ]\r[ | ]\r[ / ]\r[ — ]\r[ \\ ]\r[ | ]\r[ / ]\r[ — ]\r[ \\ ]\r[ | ]\r[ / ]\r[ — ]\r[ \\ ]\r[OK!]\n",
       "</div>"
      ]
     },
     "metadata": {
      "application/vnd.databricks.v1+output": {
       "addedWidgets": {},
       "arguments": {},
       "data": "<div class=\"ansiout\">summarizer_clinical_jsl_augmented download started this may take some time.\n\r[ | ]\r[ / ]\r[ — ]\r[ \\ ]\r[ | ]\r[ / ]\r[ — ]\r[ \\ ]\r[ | ]\r[ / ]\r[ — ]\r[ \\ ]\r[ | ]\r[ / ]\r[ — ]\r[ \\ ]\r[ | ]\r[ / ]\r[ — ]\r[ \\ ]\r[ | ]\r[ / ]\r[ — ]\r[ \\ ]\r[ | ]\r[ / ]\r[ — ]\r[ \\ ]\r[OK!]\n</div>",
       "datasetInfos": [],
       "metadata": {},
       "removedWidgets": [],
       "type": "html"
      }
     },
     "output_type": "display_data"
    }
   ],
   "source": [
    "document_assembler = DocumentAssembler()\\\n",
    "    .setInputCol('text')\\\n",
    "    .setOutputCol('document')\n",
    "            \n",
    "med_summarizer  = MedicalSummarizer()\\\n",
    "    .pretrained(\"summarizer_clinical_jsl_augmented\")\\\n",
    "    .setInputCols(\"document\")\\\n",
    "    .setOutputCol(\"summary\")\\\n",
    "    .setMaxNewTokens(115)\\\n",
    "    .setMaxTextLength(1024)\n",
    "    \n",
    "pipeline = Pipeline(stages=[document_assembler, \n",
    "                            med_summarizer])\n",
    "\n",
    "\n",
    "model = pipeline.fit(spark.createDataFrame([[\"\"]]).toDF(\"text\"))\n",
    "light_model = LightPipeline(model)"
   ]
  },
  {
   "cell_type": "code",
   "execution_count": null,
   "metadata": {
    "application/vnd.databricks.v1+cell": {
     "cellMetadata": {
      "byteLimit": 2048000,
      "rowLimit": 10000
     },
     "inputWidgets": {},
     "nuid": "50f05b6c-d153-47e7-96a0-ad8052b8d7fa",
     "showTitle": false,
     "title": ""
    },
    "colab": {
     "base_uri": "https://localhost:8080/"
    },
    "id": "0-USmv2VLZqL",
    "outputId": "f6f0ad88-dd5c-4a04-c5d0-7788fcf0f544"
   },
   "outputs": [
    {
     "data": {
      "text/html": [
       "<style scoped>\n",
       "  .ansiout {\n",
       "    display: block;\n",
       "    unicode-bidi: embed;\n",
       "    white-space: pre-wrap;\n",
       "    word-wrap: break-word;\n",
       "    word-break: break-all;\n",
       "    font-family: \"Source Code Pro\", \"Menlo\", monospace;;\n",
       "    font-size: 13px;\n",
       "    color: #555;\n",
       "    margin-left: 4px;\n",
       "    line-height: 19px;\n",
       "  }\n",
       "</style>\n",
       "<div class=\"ansiout\">➤ DOCUMENT: \n",
       " Residual disease after initial surgery for ovarian cancer is the strongest prognostic factor for survival. However, the extent of surgical resection required to achieve optimal cytoreduction is controversial. Our goal was to estimate the effect of aggressive surgical resection on ovarian cancer patient survival.\\n A retrospective cohort study of consecutive patients with International Federation of Gynecology and Obstetrics stage IIIC ovarian cancer undergoing primary surgery was conducted between January 1, 1994, and December 31, 1998. The main outcome measures were residual disease after cytoreduction, frequency of radical surgical resection, and 5-year disease-specific survival.\\n The study comprised 194 patients, including 144 with carcinomatosis. The mean patient age and follow-up time were 64.4 and 3.5 years, respectively. After surgery, 131 (67.5%) of the 194 patients had less than 1 cm of residual disease (definition of optimal cytoreduction). Considering all patients, residual disease was the only independent predictor of survival; the need to perform radical procedures to achieve optimal cytoreduction was not associated with a decrease in survival. For the subgroup of patients with carcinomatosis, residual disease and the performance of radical surgical procedures were the only independent predictors. Disease-specific survival was markedly improved for patients with carcinomatosis operated on by surgeons who most frequently used radical procedures compared with those least likely to use radical procedures (44% versus 17%, P &lt; .001).\\n Overall, residual disease was the only independent predictor of survival. Minimizing residual disease through aggressive surgical resection was beneficial, especially in patients with carcinomatosis.\n",
       "\n",
       "\n",
       "➤ SUMMARY: \n",
       "The study of a patient with stage IIIC ovarian cancer undergoing primary surgery revealed residual disease after initial\n",
       "surgery, frequency of radical surgical resection, and 5-year disease-specific survival. The study showed that aggressive\n",
       "surgical resection was the only independent predictor of survival, with less than 1 cm of residual disease. Disease-\n",
       "specific survival was improved for patients with carcinomatosis operated on by surgeons who most frequently used radical\n",
       "procedures compared to those least likely to use radical procedures. Minimizing residual disease through aggressive\n",
       "surgical resection was\n",
       "\n",
       "\n",
       "</div>"
      ]
     },
     "metadata": {
      "application/vnd.databricks.v1+output": {
       "addedWidgets": {},
       "arguments": {},
       "data": "<div class=\"ansiout\">➤ DOCUMENT: \n Residual disease after initial surgery for ovarian cancer is the strongest prognostic factor for survival. However, the extent of surgical resection required to achieve optimal cytoreduction is controversial. Our goal was to estimate the effect of aggressive surgical resection on ovarian cancer patient survival.\\n A retrospective cohort study of consecutive patients with International Federation of Gynecology and Obstetrics stage IIIC ovarian cancer undergoing primary surgery was conducted between January 1, 1994, and December 31, 1998. The main outcome measures were residual disease after cytoreduction, frequency of radical surgical resection, and 5-year disease-specific survival.\\n The study comprised 194 patients, including 144 with carcinomatosis. The mean patient age and follow-up time were 64.4 and 3.5 years, respectively. After surgery, 131 (67.5%) of the 194 patients had less than 1 cm of residual disease (definition of optimal cytoreduction). Considering all patients, residual disease was the only independent predictor of survival; the need to perform radical procedures to achieve optimal cytoreduction was not associated with a decrease in survival. For the subgroup of patients with carcinomatosis, residual disease and the performance of radical surgical procedures were the only independent predictors. Disease-specific survival was markedly improved for patients with carcinomatosis operated on by surgeons who most frequently used radical procedures compared with those least likely to use radical procedures (44% versus 17%, P &lt; .001).\\n Overall, residual disease was the only independent predictor of survival. Minimizing residual disease through aggressive surgical resection was beneficial, especially in patients with carcinomatosis.\n\n\n➤ SUMMARY: \nThe study of a patient with stage IIIC ovarian cancer undergoing primary surgery revealed residual disease after initial\nsurgery, frequency of radical surgical resection, and 5-year disease-specific survival. The study showed that aggressive\nsurgical resection was the only independent predictor of survival, with less than 1 cm of residual disease. Disease-\nspecific survival was improved for patients with carcinomatosis operated on by surgeons who most frequently used radical\nprocedures compared to those least likely to use radical procedures. Minimizing residual disease through aggressive\nsurgical resection was\n\n\n</div>",
       "datasetInfos": [],
       "metadata": {},
       "removedWidgets": [],
       "type": "html"
      }
     },
     "output_type": "display_data"
    }
   ],
   "source": [
    "text = \"\"\"Residual disease after initial surgery for ovarian cancer is the strongest prognostic factor for survival. However, the extent of surgical resection required to achieve optimal cytoreduction is controversial. Our goal was to estimate the effect of aggressive surgical resection on ovarian cancer patient survival.\\\\n A retrospective cohort study of consecutive patients with International Federation of Gynecology and Obstetrics stage IIIC ovarian cancer undergoing primary surgery was conducted between January 1, 1994, and December 31, 1998. The main outcome measures were residual disease after cytoreduction, frequency of radical surgical resection, and 5-year disease-specific survival.\\\\n The study comprised 194 patients, including 144 with carcinomatosis. The mean patient age and follow-up time were 64.4 and 3.5 years, respectively. After surgery, 131 (67.5%) of the 194 patients had less than 1 cm of residual disease (definition of optimal cytoreduction). Considering all patients, residual disease was the only independent predictor of survival; the need to perform radical procedures to achieve optimal cytoreduction was not associated with a decrease in survival. For the subgroup of patients with carcinomatosis, residual disease and the performance of radical surgical procedures were the only independent predictors. Disease-specific survival was markedly improved for patients with carcinomatosis operated on by surgeons who most frequently used radical procedures compared with those least likely to use radical procedures (44% versus 17%, P < .001).\\\\n Overall, residual disease was the only independent predictor of survival. Minimizing residual disease through aggressive surgical resection was beneficial, especially in patients with carcinomatosis.\"\"\"\n",
    "\n",
    "light_model = LightPipeline(model)\n",
    "light_result = light_model.annotate(text)\n",
    "\n",
    "print(\"➤ DOCUMENT: \\n\", light_result[\"document\"][0]) \n",
    "print(\"\\n\") \n",
    "wrapped_text = textwrap.fill(light_result[\"summary\"][0], width=120) \n",
    "print(\"➤ SUMMARY: \\n{}\".format(wrapped_text)) \n",
    "print(\"\\n\")"
   ]
  },
  {
   "cell_type": "code",
   "execution_count": null,
   "metadata": {
    "application/vnd.databricks.v1+cell": {
     "cellMetadata": {
      "byteLimit": 2048000,
      "rowLimit": 10000
     },
     "inputWidgets": {},
     "nuid": "0033a014-0f35-4355-bd34-91ce5c922dd6",
     "showTitle": false,
     "title": ""
    }
   },
   "outputs": [
    {
     "data": {
      "text/html": [
       "<style scoped>\n",
       "  .ansiout {\n",
       "    display: block;\n",
       "    unicode-bidi: embed;\n",
       "    white-space: pre-wrap;\n",
       "    word-wrap: break-word;\n",
       "    word-break: break-all;\n",
       "    font-family: \"Source Code Pro\", \"Menlo\", monospace;;\n",
       "    font-size: 13px;\n",
       "    color: #555;\n",
       "    margin-left: 4px;\n",
       "    line-height: 19px;\n",
       "  }\n",
       "</style>\n",
       "<div class=\"ansiout\"></div>"
      ]
     },
     "metadata": {
      "application/vnd.databricks.v1+output": {
       "addedWidgets": {},
       "arguments": {},
       "data": "<div class=\"ansiout\"></div>",
       "datasetInfos": [],
       "metadata": {},
       "removedWidgets": [],
       "type": "html"
      }
     },
     "output_type": "display_data"
    }
   ],
   "source": [
    "text = \"\"\"Medical Specialty: Neurology, Sample Name: Ulnar Nerve Transposition\n",
    "Description: Subcutaneous ulnar nerve transposition. A curvilinear incision was made over the medial elbow, starting proximally at the medial intermuscular septum, curving posterior to the medial epicondyle, then curving anteriorly along the path of the ulnar nerve. Dissection was carried down to the ulnar nerve. (Medical Transcription Sample Report)\n",
    "\n",
    "PROCEDURE: Subcutaneous ulnar nerve transposition.\n",
    "\n",
    "PROCEDURE IN DETAIL: After administering appropriate antibiotics and MAC anesthesia, the upper extremity was prepped and draped in the usual standard fashion. The arm was exsanguinated with Esmarch, and the tourniquet inflated to 250 mmHg.\n",
    "\n",
    "A curvilinear incision was made over the medial elbow, starting proximally at the medial intermuscular septum, curving posterior to the medial epicondyle, then curving anteriorly along the path of the ulnar nerve. Dissection was carried down to the ulnar nerve. Branches of the medial antebrachial and the medial brachial cutaneous nerves were identified and protected.\n",
    "\n",
    "Osborne's fascia was released, an ulnar neurolysis performed, and the ulnar nerve was mobilized. Six cm of the medial intermuscular septum was excised, and the deep periosteal origin of the flexor carpi ulnaris was released to avoid kinking of the nerve as it was moved anteriorly.\n",
    "\n",
    "The subcutaneous plane just superficial to the flexor-pronator mass was developed. Meticulous hemostasis was maintained with bipolar electrocautery. The nerve was transposed anteriorly, superficial to the flexor-pronator mass. Motor branches were dissected proximally and distally to avoid tethering or kinking the ulnar nerve.\n",
    "\n",
    "A semicircular medially based flap of flexor-pronator fascia was raised and sutured to the subcutaneous tissue in such a way as to prevent the nerve from relocating. The subcutaneous tissue and skin were closed with simple interrupted sutures. Marcaine with epinephrine was injected into the wound. The elbow was dressed and splinted. The patient was awakened and sent to the recovery room in good condition, having tolerated the procedure well.\n",
    "\"\"\""
   ]
  },
  {
   "cell_type": "code",
   "execution_count": null,
   "metadata": {
    "application/vnd.databricks.v1+cell": {
     "cellMetadata": {
      "byteLimit": 2048000,
      "rowLimit": 10000
     },
     "inputWidgets": {},
     "nuid": "5af21f4e-7c83-4a61-bbb9-7bd1b04808d4",
     "showTitle": false,
     "title": ""
    }
   },
   "outputs": [
    {
     "data": {
      "text/html": [
       "<style scoped>\n",
       "  .ansiout {\n",
       "    display: block;\n",
       "    unicode-bidi: embed;\n",
       "    white-space: pre-wrap;\n",
       "    word-wrap: break-word;\n",
       "    word-break: break-all;\n",
       "    font-family: \"Source Code Pro\", \"Menlo\", monospace;;\n",
       "    font-size: 13px;\n",
       "    color: #555;\n",
       "    margin-left: 4px;\n",
       "    line-height: 19px;\n",
       "  }\n",
       "</style>\n",
       "<div class=\"ansiout\">Out[39]: [&#39;The report describes a subcutaneous ulnar nerve transposition procedure performed on a patient under MAC anesthesia. The procedure involved making an incision over the medial elbow, excising the medial intermuscular septum, performing an ulnar neurolysis, and mobilizing the ulnar nerve. The nerve was transposed anteriorly and motor branches were dissected to avoid tethering or kinking. A flap of flexor-pronator fascia was raised and sutured to prevent the&#39;]</div>"
      ]
     },
     "metadata": {
      "application/vnd.databricks.v1+output": {
       "addedWidgets": {},
       "arguments": {},
       "data": "<div class=\"ansiout\">Out[39]: [&#39;The report describes a subcutaneous ulnar nerve transposition procedure performed on a patient under MAC anesthesia. The procedure involved making an incision over the medial elbow, excising the medial intermuscular septum, performing an ulnar neurolysis, and mobilizing the ulnar nerve. The nerve was transposed anteriorly and motor branches were dissected to avoid tethering or kinking. A flap of flexor-pronator fascia was raised and sutured to prevent the&#39;]</div>",
       "datasetInfos": [],
       "metadata": {},
       "removedWidgets": [],
       "type": "html"
      }
     },
     "output_type": "display_data"
    }
   ],
   "source": [
    "light_result = light_model.annotate(text)\n",
    "light_result[\"summary\"]"
   ]
  },
  {
   "attachments": {},
   "cell_type": "markdown",
   "metadata": {
    "application/vnd.databricks.v1+cell": {
     "cellMetadata": {},
     "inputWidgets": {},
     "nuid": "0d13804c-3b51-4c0e-8f1e-080face0e38a",
     "showTitle": false,
     "title": ""
    },
    "id": "9SbcXkZP4Fpk"
   },
   "source": [
    "## 📃 summarizer_biomedical_pubmed\n",
    "\n",
    "This summarization model can quickly summarize biomedical research or short papers. It is based on a large language model that is finetuned with healthcare-specific additional data curated by medical doctors at John Snow Labs. It can generate summaries up to 512 tokens given an input text (max 1024 tokens)."
   ]
  },
  {
   "attachments": {},
   "cell_type": "markdown",
   "metadata": {
    "application/vnd.databricks.v1+cell": {
     "cellMetadata": {
      "byteLimit": 2048000,
      "rowLimit": 10000
     },
     "inputWidgets": {},
     "nuid": "fc329256-9957-418f-ad0e-e6bfa3eb90ed",
     "showTitle": false,
     "title": ""
    }
   },
   "source": [
    "![image](https://github.com/JohnSnowLabs/spark-nlp-workshop/blob/master/databricks/python/data/Automated_Summarization_Clinical_Notes_pubmed.png?raw=true)"
   ]
  },
  {
   "cell_type": "code",
   "execution_count": null,
   "metadata": {
    "application/vnd.databricks.v1+cell": {
     "cellMetadata": {
      "byteLimit": 2048000,
      "rowLimit": 10000
     },
     "inputWidgets": {},
     "nuid": "c2e203f0-51c3-4cea-abf9-1569e77b934b",
     "showTitle": false,
     "title": ""
    },
    "colab": {
     "base_uri": "https://localhost:8080/"
    },
    "id": "GO98WdAH4EfT",
    "outputId": "f7b52d09-ed17-414d-eb3c-db7238680ec6"
   },
   "outputs": [
    {
     "data": {
      "text/html": [
       "<style scoped>\n",
       "  .ansiout {\n",
       "    display: block;\n",
       "    unicode-bidi: embed;\n",
       "    white-space: pre-wrap;\n",
       "    word-wrap: break-word;\n",
       "    word-break: break-all;\n",
       "    font-family: \"Source Code Pro\", \"Menlo\", monospace;;\n",
       "    font-size: 13px;\n",
       "    color: #555;\n",
       "    margin-left: 4px;\n",
       "    line-height: 19px;\n",
       "  }\n",
       "</style>\n",
       "<div class=\"ansiout\">summarizer_biomedical_pubmed download started this may take some time.\n",
       "\r[ | ]\r[ / ]\r[ — ]\r[ \\ ]\r[ | ]\r[ / ]\r[ — ]\r[ \\ ]\r[ | ]\r[ / ]\r[ — ]\r[ \\ ]\r[ | ]\r[ / ]\r[ — ]\r[ \\ ]\r[ | ]\r[ / ]\r[ — ]\r[ \\ ]\r[ | ]\r[ / ]\r[ — ]\r[ \\ ]\r[ | ]\r[ / ]\r[ — ]\r[ \\ ]\r[ | ]\r[ / ]\r[ — ]\r[ \\ ]\r[ | ]\r[ / ]\r[ — ]\r[ \\ ]\r[ | ]\r[ / ]\r[ — ]\r[ \\ ]\r[ | ]\r[ / ]\r[ — ]\r[ \\ ]\r[ | ]\r[ / ]\r[ — ]\r[ \\ ]\r[ | ]\r[ / ]\r[OK!]\n",
       "</div>"
      ]
     },
     "metadata": {
      "application/vnd.databricks.v1+output": {
       "addedWidgets": {},
       "arguments": {},
       "data": "<div class=\"ansiout\">summarizer_biomedical_pubmed download started this may take some time.\n\r[ | ]\r[ / ]\r[ — ]\r[ \\ ]\r[ | ]\r[ / ]\r[ — ]\r[ \\ ]\r[ | ]\r[ / ]\r[ — ]\r[ \\ ]\r[ | ]\r[ / ]\r[ — ]\r[ \\ ]\r[ | ]\r[ / ]\r[ — ]\r[ \\ ]\r[ | ]\r[ / ]\r[ — ]\r[ \\ ]\r[ | ]\r[ / ]\r[ — ]\r[ \\ ]\r[ | ]\r[ / ]\r[ — ]\r[ \\ ]\r[ | ]\r[ / ]\r[ — ]\r[ \\ ]\r[ | ]\r[ / ]\r[ — ]\r[ \\ ]\r[ | ]\r[ / ]\r[ — ]\r[ \\ ]\r[ | ]\r[ / ]\r[ — ]\r[ \\ ]\r[ | ]\r[ / ]\r[OK!]\n</div>",
       "datasetInfos": [],
       "metadata": {},
       "removedWidgets": [],
       "type": "html"
      }
     },
     "output_type": "display_data"
    }
   ],
   "source": [
    "document_assembler = DocumentAssembler()\\\n",
    "    .setInputCol(\"text\")\\\n",
    "    .setOutputCol(\"document\")\n",
    "\n",
    "summarizer = MedicalSummarizer()\\\n",
    "    .pretrained(\"summarizer_biomedical_pubmed\")\\\n",
    "    .setInputCols([\"document\"])\\\n",
    "    .setOutputCol(\"summary\")\\\n",
    "    .setMaxTextLength(512)\\\n",
    "    .setMaxNewTokens(512)\n",
    "\n",
    "pipeline = Pipeline(stages=[\n",
    "    document_assembler,\n",
    "    summarizer  \n",
    "])\n",
    "\n",
    "model = pipeline.fit(spark.createDataFrame([[\"\"]]).toDF(\"text\"))\n",
    "light_model = LightPipeline(model)"
   ]
  },
  {
   "cell_type": "code",
   "execution_count": null,
   "metadata": {
    "application/vnd.databricks.v1+cell": {
     "cellMetadata": {
      "byteLimit": 2048000,
      "rowLimit": 10000
     },
     "inputWidgets": {},
     "nuid": "532fe974-f5bc-4666-b87e-df9461308a1f",
     "showTitle": false,
     "title": ""
    },
    "colab": {
     "base_uri": "https://localhost:8080/"
    },
    "id": "vrftNptnINSG",
    "outputId": "570573e3-2a8b-4f59-924b-35b85c226346"
   },
   "outputs": [
    {
     "data": {
      "text/html": [
       "<style scoped>\n",
       "  .ansiout {\n",
       "    display: block;\n",
       "    unicode-bidi: embed;\n",
       "    white-space: pre-wrap;\n",
       "    word-wrap: break-word;\n",
       "    word-break: break-all;\n",
       "    font-family: \"Source Code Pro\", \"Menlo\", monospace;;\n",
       "    font-size: 13px;\n",
       "    color: #555;\n",
       "    margin-left: 4px;\n",
       "    line-height: 19px;\n",
       "  }\n",
       "</style>\n",
       "<div class=\"ansiout\">➤ DOCUMENT: \n",
       " Residual disease after initial surgery for ovarian cancer is the strongest prognostic factor for survival. However, the extent of surgical resection required to achieve optimal cytoreduction is controversial. Our goal was to estimate the effect of aggressive surgical resection on ovarian cancer patient survival.\\n A retrospective cohort study of consecutive patients with International Federation of Gynecology and Obstetrics stage IIIC ovarian cancer undergoing primary surgery was conducted between January 1, 1994, and December 31, 1998. The main outcome measures were residual disease after cytoreduction, frequency of radical surgical resection, and 5-year disease-specific survival.\\n The study comprised 194 patients, including 144 with carcinomatosis. The mean patient age and follow-up time were 64.4 and 3.5 years, respectively. After surgery, 131 (67.5%) of the 194 patients had less than 1 cm of residual disease (definition of optimal cytoreduction). Considering all patients, residual disease was the only independent predictor of survival; the need to perform radical procedures to achieve optimal cytoreduction was not associated with a decrease in survival. For the subgroup of patients with carcinomatosis, residual disease and the performance of radical surgical procedures were the only independent predictors. Disease-specific survival was markedly improved for patients with carcinomatosis operated on by surgeons who most frequently used radical procedures compared with those least likely to use radical procedures (44% versus 17%, P &lt; .001).\\n Overall, residual disease was the only independent predictor of survival. Minimizing residual disease through aggressive surgical resection was beneficial, especially in patients with carcinomatosis.\n",
       "\n",
       "\n",
       "➤ SUMMARY: \n",
       "The study of a patient with stage IIIC ovarian cancer undergoing primary surgery revealed residual disease after initial\n",
       "surgery, frequency of radical surgical resection, and 5-year disease-specific survival. The study showed that aggressive\n",
       "surgical resection was the only independent predictor of survival, with less than 1 cm of residual disease. Disease-\n",
       "specific survival was improved for patients with carcinomatosis operated on by surgeons who most frequently used radical\n",
       "procedures compared to those least likely to use radical procedures. Minimizing residual disease through aggressive\n",
       "surgical resection was\n",
       "\n",
       "\n",
       "</div>"
      ]
     },
     "metadata": {
      "application/vnd.databricks.v1+output": {
       "addedWidgets": {},
       "arguments": {},
       "data": "<div class=\"ansiout\">➤ DOCUMENT: \n Residual disease after initial surgery for ovarian cancer is the strongest prognostic factor for survival. However, the extent of surgical resection required to achieve optimal cytoreduction is controversial. Our goal was to estimate the effect of aggressive surgical resection on ovarian cancer patient survival.\\n A retrospective cohort study of consecutive patients with International Federation of Gynecology and Obstetrics stage IIIC ovarian cancer undergoing primary surgery was conducted between January 1, 1994, and December 31, 1998. The main outcome measures were residual disease after cytoreduction, frequency of radical surgical resection, and 5-year disease-specific survival.\\n The study comprised 194 patients, including 144 with carcinomatosis. The mean patient age and follow-up time were 64.4 and 3.5 years, respectively. After surgery, 131 (67.5%) of the 194 patients had less than 1 cm of residual disease (definition of optimal cytoreduction). Considering all patients, residual disease was the only independent predictor of survival; the need to perform radical procedures to achieve optimal cytoreduction was not associated with a decrease in survival. For the subgroup of patients with carcinomatosis, residual disease and the performance of radical surgical procedures were the only independent predictors. Disease-specific survival was markedly improved for patients with carcinomatosis operated on by surgeons who most frequently used radical procedures compared with those least likely to use radical procedures (44% versus 17%, P &lt; .001).\\n Overall, residual disease was the only independent predictor of survival. Minimizing residual disease through aggressive surgical resection was beneficial, especially in patients with carcinomatosis.\n\n\n➤ SUMMARY: \nThe study of a patient with stage IIIC ovarian cancer undergoing primary surgery revealed residual disease after initial\nsurgery, frequency of radical surgical resection, and 5-year disease-specific survival. The study showed that aggressive\nsurgical resection was the only independent predictor of survival, with less than 1 cm of residual disease. Disease-\nspecific survival was improved for patients with carcinomatosis operated on by surgeons who most frequently used radical\nprocedures compared to those least likely to use radical procedures. Minimizing residual disease through aggressive\nsurgical resection was\n\n\n</div>",
       "datasetInfos": [],
       "metadata": {},
       "removedWidgets": [],
       "type": "html"
      }
     },
     "output_type": "display_data"
    }
   ],
   "source": [
    "text = \"\"\"Residual disease after initial surgery for ovarian cancer is the strongest prognostic factor for survival. However, the extent of surgical resection required to achieve optimal cytoreduction is controversial. Our goal was to estimate the effect of aggressive surgical resection on ovarian cancer patient survival.\\\\n A retrospective cohort study of consecutive patients with International Federation of Gynecology and Obstetrics stage IIIC ovarian cancer undergoing primary surgery was conducted between January 1, 1994, and December 31, 1998. The main outcome measures were residual disease after cytoreduction, frequency of radical surgical resection, and 5-year disease-specific survival.\\\\n The study comprised 194 patients, including 144 with carcinomatosis. The mean patient age and follow-up time were 64.4 and 3.5 years, respectively. After surgery, 131 (67.5%) of the 194 patients had less than 1 cm of residual disease (definition of optimal cytoreduction). Considering all patients, residual disease was the only independent predictor of survival; the need to perform radical procedures to achieve optimal cytoreduction was not associated with a decrease in survival. For the subgroup of patients with carcinomatosis, residual disease and the performance of radical surgical procedures were the only independent predictors. Disease-specific survival was markedly improved for patients with carcinomatosis operated on by surgeons who most frequently used radical procedures compared with those least likely to use radical procedures (44% versus 17%, P < .001).\\\\n Overall, residual disease was the only independent predictor of survival. Minimizing residual disease through aggressive surgical resection was beneficial, especially in patients with carcinomatosis.\"\"\"\n",
    "\n",
    "light_result = light_model.annotate(text)\n",
    "\n",
    "print(\"➤ DOCUMENT: \\n\", light_result[\"document\"][0]) \n",
    "print(\"\\n\") \n",
    "wrapped_text = textwrap.fill(light_result[\"summary\"][0], width=120) \n",
    "print(\"➤ SUMMARY: \\n{}\".format(wrapped_text)) \n",
    "print(\"\\n\")"
   ]
  },
  {
   "attachments": {},
   "cell_type": "markdown",
   "metadata": {
    "application/vnd.databricks.v1+cell": {
     "cellMetadata": {},
     "inputWidgets": {},
     "nuid": "4582a726-a733-4fcc-aa5c-83f1238fa249",
     "showTitle": false,
     "title": ""
    },
    "id": "fZIpLiRB5nTi"
   },
   "source": [
    "## 📃 summarizer_clinical_questions\n",
    "\n",
    "This summarization model efficiently summarizes medical questions from a range of clinical sources, providing concise summaries and generating relevant questions. It is based on a large language model that is finetuned with healthcare-specific additional data curated by medical doctors at John Snow Labs. It can generate summaries up to 512 tokens given an input text (max 1024 tokens).\n"
   ]
  },
  {
   "cell_type": "code",
   "execution_count": null,
   "metadata": {
    "application/vnd.databricks.v1+cell": {
     "cellMetadata": {
      "byteLimit": 2048000,
      "rowLimit": 10000
     },
     "inputWidgets": {},
     "nuid": "bfc15fa0-3aee-4c09-a861-7ff0ec69dc44",
     "showTitle": false,
     "title": ""
    },
    "colab": {
     "base_uri": "https://localhost:8080/"
    },
    "id": "2uYnqxeS5Me1",
    "outputId": "591ff6ce-41dc-42aa-8977-6f9f3b0d61e9"
   },
   "outputs": [
    {
     "data": {
      "text/html": [
       "<style scoped>\n",
       "  .ansiout {\n",
       "    display: block;\n",
       "    unicode-bidi: embed;\n",
       "    white-space: pre-wrap;\n",
       "    word-wrap: break-word;\n",
       "    word-break: break-all;\n",
       "    font-family: \"Source Code Pro\", \"Menlo\", monospace;;\n",
       "    font-size: 13px;\n",
       "    color: #555;\n",
       "    margin-left: 4px;\n",
       "    line-height: 19px;\n",
       "  }\n",
       "</style>\n",
       "<div class=\"ansiout\">summarizer_clinical_questions download started this may take some time.\n",
       "\r[ | ]\r[ / ]\r[ — ]\r[ \\ ]\r[ | ]\r[ / ]\r[ — ]\r[ \\ ]\r[ | ]\r[ / ]\r[ — ]\r[ \\ ]\r[ | ]\r[ / ]\r[ — ]\r[ \\ ]\r[ | ]\r[ / ]\r[ — ]\r[ \\ ]\r[ | ]\r[ / ]\r[ — ]\r[ \\ ]\r[ | ]\r[ / ]\r[ — ]\r[ \\ ]\r[ | ]\r[ / ]\r[ — ]\r[ \\ ]\r[OK!]\n",
       "</div>"
      ]
     },
     "metadata": {
      "application/vnd.databricks.v1+output": {
       "addedWidgets": {},
       "arguments": {},
       "data": "<div class=\"ansiout\">summarizer_clinical_questions download started this may take some time.\n\r[ | ]\r[ / ]\r[ — ]\r[ \\ ]\r[ | ]\r[ / ]\r[ — ]\r[ \\ ]\r[ | ]\r[ / ]\r[ — ]\r[ \\ ]\r[ | ]\r[ / ]\r[ — ]\r[ \\ ]\r[ | ]\r[ / ]\r[ — ]\r[ \\ ]\r[ | ]\r[ / ]\r[ — ]\r[ \\ ]\r[ | ]\r[ / ]\r[ — ]\r[ \\ ]\r[ | ]\r[ / ]\r[ — ]\r[ \\ ]\r[OK!]\n</div>",
       "datasetInfos": [],
       "metadata": {},
       "removedWidgets": [],
       "type": "html"
      }
     },
     "output_type": "display_data"
    }
   ],
   "source": [
    "summarizer = MedicalSummarizer()\\\n",
    "    .pretrained(\"summarizer_clinical_questions\")\\\n",
    "    .setInputCols([\"document\"])\\\n",
    "    .setOutputCol(\"summary\")\\\n",
    "    .setMaxTextLength(512)\\\n",
    "    .setMaxNewTokens(512)\n",
    "\n",
    "pipeline = Pipeline(stages=[\n",
    "    document_assembler,\n",
    "    summarizer  \n",
    "])\n",
    "\n",
    "model = pipeline.fit(spark.createDataFrame([[\"\"]]).toDF(\"text\"))\n",
    "light_model = LightPipeline(model)"
   ]
  },
  {
   "cell_type": "code",
   "execution_count": null,
   "metadata": {
    "application/vnd.databricks.v1+cell": {
     "cellMetadata": {
      "byteLimit": 2048000,
      "rowLimit": 10000
     },
     "inputWidgets": {},
     "nuid": "3a0ba693-31f9-4421-a29f-97a85197d863",
     "showTitle": false,
     "title": ""
    },
    "colab": {
     "base_uri": "https://localhost:8080/"
    },
    "id": "OD-os5oj8wkg",
    "outputId": "4ce1b1ae-1ee5-438b-8ab2-0ba357cbe692"
   },
   "outputs": [
    {
     "data": {
      "text/html": [
       "<style scoped>\n",
       "  .ansiout {\n",
       "    display: block;\n",
       "    unicode-bidi: embed;\n",
       "    white-space: pre-wrap;\n",
       "    word-wrap: break-word;\n",
       "    word-break: break-all;\n",
       "    font-family: \"Source Code Pro\", \"Menlo\", monospace;;\n",
       "    font-size: 13px;\n",
       "    color: #555;\n",
       "    margin-left: 4px;\n",
       "    line-height: 19px;\n",
       "  }\n",
       "</style>\n",
       "<div class=\"ansiout\">➤ DOCUMENT: \n",
       "  \n",
       "Hello,I&#39;m 20 year old girl. I&#39;m diagnosed with hyperthyroid 1 month ago. I was feeling weak, light headed,poor digestion, panic attacks, depression, left chest pain, increased heart rate, rapidly weight loss, from 4 months. Because of this, I stayed in the hospital and just discharged from hospital. I had many other blood tests, brain mri, ultrasound scan, endoscopy because of some dumb doctors bcs they were not able to diagnose actual problem. Finally I got an appointment with a homeopathy doctor finally he find that i was suffering from hyperthyroid and my TSH was 0.15 T3 and T4 is normal . Also i have b12 deficiency and vitamin D deficiency so I&#39;m taking weekly supplement of vitamin D and 1000 mcg b12 daily. I&#39;m taking homeopathy medicine for 40 days and took 2nd test after 30 days. My TSH is 0.5 now. I feel a little bit relief from weakness and depression but I&#39;m facing with 2 new problem from last week that is breathtaking problem and very rapid heartrate. I just want to know if i should start allopathy medicine or homeopathy is okay? Bcs i heard that thyroid take time to start recover. So please let me know if both of medicines take same time. Because some of my friends advising me to start allopathy and never take a chance as i can develop some serious problems.Sorry for my poor english😐Thank you.\n",
       "\n",
       "\n",
       "\n",
       "➤ SUMMARY: \n",
       "What are the treatments for hyperthyroidism?\n",
       "\n",
       "\n",
       "</div>"
      ]
     },
     "metadata": {
      "application/vnd.databricks.v1+output": {
       "addedWidgets": {},
       "arguments": {},
       "data": "<div class=\"ansiout\">➤ DOCUMENT: \n  \nHello,I&#39;m 20 year old girl. I&#39;m diagnosed with hyperthyroid 1 month ago. I was feeling weak, light headed,poor digestion, panic attacks, depression, left chest pain, increased heart rate, rapidly weight loss, from 4 months. Because of this, I stayed in the hospital and just discharged from hospital. I had many other blood tests, brain mri, ultrasound scan, endoscopy because of some dumb doctors bcs they were not able to diagnose actual problem. Finally I got an appointment with a homeopathy doctor finally he find that i was suffering from hyperthyroid and my TSH was 0.15 T3 and T4 is normal . Also i have b12 deficiency and vitamin D deficiency so I&#39;m taking weekly supplement of vitamin D and 1000 mcg b12 daily. I&#39;m taking homeopathy medicine for 40 days and took 2nd test after 30 days. My TSH is 0.5 now. I feel a little bit relief from weakness and depression but I&#39;m facing with 2 new problem from last week that is breathtaking problem and very rapid heartrate. I just want to know if i should start allopathy medicine or homeopathy is okay? Bcs i heard that thyroid take time to start recover. So please let me know if both of medicines take same time. Because some of my friends advising me to start allopathy and never take a chance as i can develop some serious problems.Sorry for my poor english😐Thank you.\n\n\n\n➤ SUMMARY: \nWhat are the treatments for hyperthyroidism?\n\n\n</div>",
       "datasetInfos": [],
       "metadata": {},
       "removedWidgets": [],
       "type": "html"
      }
     },
     "output_type": "display_data"
    }
   ],
   "source": [
    "text = \"\"\" \n",
    "Hello,I'm 20 year old girl. I'm diagnosed with hyperthyroid 1 month ago. I was feeling weak, light headed,poor digestion, panic attacks, depression, left chest pain, increased heart rate, rapidly weight loss, from 4 months. Because of this, I stayed in the hospital and just discharged from hospital. I had many other blood tests, brain mri, ultrasound scan, endoscopy because of some dumb doctors bcs they were not able to diagnose actual problem. Finally I got an appointment with a homeopathy doctor finally he find that i was suffering from hyperthyroid and my TSH was 0.15 T3 and T4 is normal . Also i have b12 deficiency and vitamin D deficiency so I'm taking weekly supplement of vitamin D and 1000 mcg b12 daily. I'm taking homeopathy medicine for 40 days and took 2nd test after 30 days. My TSH is 0.5 now. I feel a little bit relief from weakness and depression but I'm facing with 2 new problem from last week that is breathtaking problem and very rapid heartrate. I just want to know if i should start allopathy medicine or homeopathy is okay? Bcs i heard that thyroid take time to start recover. So please let me know if both of medicines take same time. Because some of my friends advising me to start allopathy and never take a chance as i can develop some serious problems.Sorry for my poor english😐Thank you.\n",
    "\"\"\"\n",
    "\n",
    "light_result = light_model.annotate(text)\n",
    "\n",
    "print(\"➤ DOCUMENT: \\n\", light_result[\"document\"][0]) \n",
    "print(\"\\n\") \n",
    "wrapped_text = textwrap.fill(light_result[\"summary\"][0], width=120) \n",
    "print(\"➤ SUMMARY: \\n{}\".format(wrapped_text)) \n",
    "print(\"\\n\")\n"
   ]
  },
  {
   "attachments": {},
   "cell_type": "markdown",
   "metadata": {
    "application/vnd.databricks.v1+cell": {
     "cellMetadata": {},
     "inputWidgets": {},
     "nuid": "feac8e1e-4952-4c31-8da2-811130fa3d2d",
     "showTitle": false,
     "title": ""
    },
    "id": "JIGQ_jNZSziX"
   },
   "source": [
    "## 📃 summarizer_radiology\n",
    "\n",
    "This summarization model enables users to rapidly access a succinct synopsis of a report’s key findings without compromising on essential details. It is based on a large language model that is finetuned with healthcare-specific additional data curated by medical doctors at John Snow Labs. It can generate summaries up to 512 tokens given an input text (max 1024 tokens)."
   ]
  },
  {
   "cell_type": "code",
   "execution_count": null,
   "metadata": {
    "application/vnd.databricks.v1+cell": {
     "cellMetadata": {
      "byteLimit": 2048000,
      "rowLimit": 10000
     },
     "inputWidgets": {},
     "nuid": "0b11554d-f654-43f2-b0df-af1f740ff4f3",
     "showTitle": false,
     "title": ""
    },
    "colab": {
     "base_uri": "https://localhost:8080/"
    },
    "id": "rTDCt3ZeSziX",
    "outputId": "2cecf408-c4a1-491c-81af-afdd43307a59"
   },
   "outputs": [
    {
     "data": {
      "text/html": [
       "<style scoped>\n",
       "  .ansiout {\n",
       "    display: block;\n",
       "    unicode-bidi: embed;\n",
       "    white-space: pre-wrap;\n",
       "    word-wrap: break-word;\n",
       "    word-break: break-all;\n",
       "    font-family: \"Source Code Pro\", \"Menlo\", monospace;;\n",
       "    font-size: 13px;\n",
       "    color: #555;\n",
       "    margin-left: 4px;\n",
       "    line-height: 19px;\n",
       "  }\n",
       "</style>\n",
       "<div class=\"ansiout\">summarizer_radiology download started this may take some time.\n",
       "\r[ | ]\r[ / ]\r[ — ]\r[ \\ ]\r[ | ]\r[ / ]\r[ — ]\r[ \\ ]\r[ | ]\r[ / ]\r[ — ]\r[ \\ ]\r[ | ]\r[ / ]\r[ — ]\r[ \\ ]\r[ | ]\r[ / ]\r[ — ]\r[ \\ ]\r[ | ]\r[ / ]\r[ — ]\r[ \\ ]\r[ | ]\r[ / ]\r[ — ]\r[ \\ ]\r[ | ]\r[ / ]\r[ — ]\r[ \\ ]\r[ | ]\r[OK!]\n",
       "</div>"
      ]
     },
     "metadata": {
      "application/vnd.databricks.v1+output": {
       "addedWidgets": {},
       "arguments": {},
       "data": "<div class=\"ansiout\">summarizer_radiology download started this may take some time.\n\r[ | ]\r[ / ]\r[ — ]\r[ \\ ]\r[ | ]\r[ / ]\r[ — ]\r[ \\ ]\r[ | ]\r[ / ]\r[ — ]\r[ \\ ]\r[ | ]\r[ / ]\r[ — ]\r[ \\ ]\r[ | ]\r[ / ]\r[ — ]\r[ \\ ]\r[ | ]\r[ / ]\r[ — ]\r[ \\ ]\r[ | ]\r[ / ]\r[ — ]\r[ \\ ]\r[ | ]\r[ / ]\r[ — ]\r[ \\ ]\r[ | ]\r[OK!]\n</div>",
       "datasetInfos": [],
       "metadata": {},
       "removedWidgets": [],
       "type": "html"
      }
     },
     "output_type": "display_data"
    }
   ],
   "source": [
    "document_assembler = DocumentAssembler()\\\n",
    "    .setInputCol(\"text\")\\\n",
    "    .setOutputCol(\"document\")\n",
    "    \n",
    "summarizer = MedicalSummarizer()\\\n",
    "    .pretrained(\"summarizer_radiology\", \"en\", \"clinical/models\")\\\n",
    "    .setInputCols([\"document\"])\\\n",
    "    .setOutputCol(\"summary\")\\\n",
    "    .setMaxTextLength(512)\\\n",
    "    .setMaxNewTokens(512)\n",
    "\n",
    "pipeline = Pipeline(stages=[\n",
    "    document_assembler,\n",
    "    summarizer  \n",
    "])\n",
    "\n",
    "model = pipeline.fit(spark.createDataFrame([[\"\"]]).toDF(\"text\"))\n",
    "light_model = LightPipeline(model)"
   ]
  },
  {
   "cell_type": "code",
   "execution_count": null,
   "metadata": {
    "application/vnd.databricks.v1+cell": {
     "cellMetadata": {
      "byteLimit": 2048000,
      "rowLimit": 10000
     },
     "inputWidgets": {},
     "nuid": "cf7f82fe-b2c3-49f7-a137-8500f1fbb17c",
     "showTitle": false,
     "title": ""
    },
    "colab": {
     "base_uri": "https://localhost:8080/"
    },
    "id": "yGrXzB7fSziX",
    "outputId": "3d6aa4c1-db4d-4bed-8c8d-d5c524c02ecf"
   },
   "outputs": [
    {
     "data": {
      "text/html": [
       "<style scoped>\n",
       "  .ansiout {\n",
       "    display: block;\n",
       "    unicode-bidi: embed;\n",
       "    white-space: pre-wrap;\n",
       "    word-wrap: break-word;\n",
       "    word-break: break-all;\n",
       "    font-family: \"Source Code Pro\", \"Menlo\", monospace;;\n",
       "    font-size: 13px;\n",
       "    color: #555;\n",
       "    margin-left: 4px;\n",
       "    line-height: 19px;\n",
       "  }\n",
       "</style>\n",
       "<div class=\"ansiout\">➤ DOCUMENT: \n",
       " INDICATIONS: Peripheral vascular disease with claudication.\n",
       "\n",
       "RIGHT:\n",
       "1. Normal arterial imaging of right lower extremity.\n",
       "2. Peak systolic velocity is normal.\n",
       "3. Arterial waveform is triphasic.\n",
       "4. Ankle brachial index is 0.96.\n",
       "\n",
       "LEFT:\n",
       "1. Normal arterial imaging of left lower extremity.\n",
       "2. Peak systolic velocity is normal.\n",
       "3. Arterial waveform is triphasic throughout except in posterior tibial artery where it is biphasic.\n",
       "4. Ankle brachial index is 1.06.\n",
       "\n",
       "IMPRESSION: \n",
       "Normal arterial imaging of both lower lobes.\n",
       "\n",
       "\n",
       "\n",
       "➤ SUMMARY: \n",
       "The patient has peripheral vascular disease with claudication. The right lower extremity shows normal arterial imaging,\n",
       "but the peak systolic velocity is normal. The arterial waveform is triphasic throughout, except for the posterior tibial\n",
       "artery, which is biphasic. The ankle brachial index is 0.96. The impression is normal arterial imaging of both lower\n",
       "lobes.\n",
       "\n",
       "\n",
       "</div>"
      ]
     },
     "metadata": {
      "application/vnd.databricks.v1+output": {
       "addedWidgets": {},
       "arguments": {},
       "data": "<div class=\"ansiout\">➤ DOCUMENT: \n INDICATIONS: Peripheral vascular disease with claudication.\n\nRIGHT:\n1. Normal arterial imaging of right lower extremity.\n2. Peak systolic velocity is normal.\n3. Arterial waveform is triphasic.\n4. Ankle brachial index is 0.96.\n\nLEFT:\n1. Normal arterial imaging of left lower extremity.\n2. Peak systolic velocity is normal.\n3. Arterial waveform is triphasic throughout except in posterior tibial artery where it is biphasic.\n4. Ankle brachial index is 1.06.\n\nIMPRESSION: \nNormal arterial imaging of both lower lobes.\n\n\n\n➤ SUMMARY: \nThe patient has peripheral vascular disease with claudication. The right lower extremity shows normal arterial imaging,\nbut the peak systolic velocity is normal. The arterial waveform is triphasic throughout, except for the posterior tibial\nartery, which is biphasic. The ankle brachial index is 0.96. The impression is normal arterial imaging of both lower\nlobes.\n\n\n</div>",
       "datasetInfos": [],
       "metadata": {},
       "removedWidgets": [],
       "type": "html"
      }
     },
     "output_type": "display_data"
    }
   ],
   "source": [
    "text = \"\"\"INDICATIONS: Peripheral vascular disease with claudication.\n",
    "\n",
    "RIGHT:\n",
    "1. Normal arterial imaging of right lower extremity.\n",
    "2. Peak systolic velocity is normal.\n",
    "3. Arterial waveform is triphasic.\n",
    "4. Ankle brachial index is 0.96.\n",
    "\n",
    "LEFT:\n",
    "1. Normal arterial imaging of left lower extremity.\n",
    "2. Peak systolic velocity is normal.\n",
    "3. Arterial waveform is triphasic throughout except in posterior tibial artery where it is biphasic.\n",
    "4. Ankle brachial index is 1.06.\n",
    "\n",
    "IMPRESSION: \n",
    "Normal arterial imaging of both lower lobes.\n",
    "\"\"\"\n",
    "\n",
    "light_result = light_model.annotate(text)\n",
    "\n",
    "print(\"➤ DOCUMENT: \\n\", light_result[\"document\"][0]) \n",
    "print(\"\\n\") \n",
    "wrapped_text = textwrap.fill(light_result[\"summary\"][0], width=120) \n",
    "print(\"➤ SUMMARY: \\n{}\".format(wrapped_text)) \n",
    "print(\"\\n\")\n"
   ]
  },
  {
   "attachments": {},
   "cell_type": "markdown",
   "metadata": {
    "application/vnd.databricks.v1+cell": {
     "cellMetadata": {},
     "inputWidgets": {},
     "nuid": "71b537e8-4e73-4f1c-8b72-d820f000377c",
     "showTitle": false,
     "title": ""
    }
   },
   "source": [
    "## 📃 summarizer_clinical_guidelines_large\n",
    "\n",
    "This innovative Medical Summarizer Model is adept at providing succinct summarizations of clinical guidelines. \n",
    "\n",
    "One of the notable features of this model is its ability to neatly categorize summarizations into four distinct sections: Overview, Causes, Symptoms, and Treatments. This systematic segregation facilitates ease of understanding and aids in extracting specific information more efficiently.\n",
    "\n",
    "An additional technical specification to note is the model’s context length, which stands at 768 tokens. This parameter ensures an optimal balance between detail and brevity, allowing for comprehensive yet concise summarizations. It is based on a large language model that is finetuned with healthcare-specific additional data curated by medical doctors at John Snow Labs. "
   ]
  },
  {
   "cell_type": "code",
   "execution_count": null,
   "metadata": {
    "application/vnd.databricks.v1+cell": {
     "cellMetadata": {
      "byteLimit": 2048000,
      "rowLimit": 10000
     },
     "inputWidgets": {},
     "nuid": "541a4c25-001d-49c4-9520-bb25c9d00650",
     "showTitle": false,
     "title": ""
    }
   },
   "outputs": [
    {
     "data": {
      "text/html": [
       "<style scoped>\n",
       "  .ansiout {\n",
       "    display: block;\n",
       "    unicode-bidi: embed;\n",
       "    white-space: pre-wrap;\n",
       "    word-wrap: break-word;\n",
       "    word-break: break-all;\n",
       "    font-family: \"Source Code Pro\", \"Menlo\", monospace;;\n",
       "    font-size: 13px;\n",
       "    color: #555;\n",
       "    margin-left: 4px;\n",
       "    line-height: 19px;\n",
       "  }\n",
       "</style>\n",
       "<div class=\"ansiout\">summarizer_clinical_guidelines_large download started this may take some time.\n",
       "\r[ | ]\r[ / ]\r[ — ]\r[ \\ ]\r[ | ]\r[ / ]\r[ — ]\r[ \\ ]\r[ | ]\r[ / ]\r[ — ]\r[ \\ ]\r[ | ]\r[ / ]\r[ — ]\r[ \\ ]\r[ | ]\r[ / ]\r[ — ]\r[ \\ ]\r[ | ]\r[ / ]\r[ — ]\r[ \\ ]\r[ | ]\r[ / ]\r[ — ]\r[ \\ ]\r[ | ]\r[ / ]\r[ — ]\r[ \\ ]\r[ | ]\r[ / ]\r[ — ]\r[ \\ ]\r[ | ]\r[ / ]\r[ — ]\r[ \\ ]\r[ | ]\r[ / ]\r[ — ]\r[ \\ ]\r[ | ]\r[ / ]\r[ — ]\r[ \\ ]\r[ | ]\r[ / ]\r[ — ]\r[ \\ ]\r[ | ]\r[ / ]\r[ — ]\r[ \\ ]\r[ | ]\r[ / ]\r[ — ]\r[ \\ ]\r[ | ]\r[ / ]\r[ — ]\r[ \\ ]\r[ | ]\r[ / ]\r[ — ]\r[ \\ ]\r[ | ]\r[ / ]\r[ — ]\r[ \\ ]\r[ | ]\r[ / ]\r[ — ]\r[ \\ ]\r[ | ]\r[ / ]\r[ — ]\r[ \\ ]\r[ | ]\r[ / ]\r[ — ]\r[ \\ ]\r[ | ]\r[ / ]\r[ — ]\r[ \\ ]\r[ | ]\r[ / ]\r[ — ]\r[ \\ ]\r[ | ]\r[ / ]\r[ — ]\r[ \\ ]\r[ | ]\r[ / ]\r[ — ]\r[ \\ ]\r[ | ]\r[ / ]\r[ — ]\r[ \\ ]\r[ | ]\r[ / ]\r[ — ]\r[ \\ ]\r[ | ]\r[ / ]\r[ — ]\r[ \\ ]\r[ | ]\r[ / ]\r[ — ]\r[ \\ ]\r[ | ]\r[ / ]\r[ — ]\r[ \\ ]\r[ | ]\r[OK!]\n",
       "</div>"
      ]
     },
     "metadata": {
      "application/vnd.databricks.v1+output": {
       "addedWidgets": {},
       "arguments": {},
       "data": "<div class=\"ansiout\">summarizer_clinical_guidelines_large download started this may take some time.\n\r[ | ]\r[ / ]\r[ — ]\r[ \\ ]\r[ | ]\r[ / ]\r[ — ]\r[ \\ ]\r[ | ]\r[ / ]\r[ — ]\r[ \\ ]\r[ | ]\r[ / ]\r[ — ]\r[ \\ ]\r[ | ]\r[ / ]\r[ — ]\r[ \\ ]\r[ | ]\r[ / ]\r[ — ]\r[ \\ ]\r[ | ]\r[ / ]\r[ — ]\r[ \\ ]\r[ | ]\r[ / ]\r[ — ]\r[ \\ ]\r[ | ]\r[ / ]\r[ — ]\r[ \\ ]\r[ | ]\r[ / ]\r[ — ]\r[ \\ ]\r[ | ]\r[ / ]\r[ — ]\r[ \\ ]\r[ | ]\r[ / ]\r[ — ]\r[ \\ ]\r[ | ]\r[ / ]\r[ — ]\r[ \\ ]\r[ | ]\r[ / ]\r[ — ]\r[ \\ ]\r[ | ]\r[ / ]\r[ — ]\r[ \\ ]\r[ | ]\r[ / ]\r[ — ]\r[ \\ ]\r[ | ]\r[ / ]\r[ — ]\r[ \\ ]\r[ | ]\r[ / ]\r[ — ]\r[ \\ ]\r[ | ]\r[ / ]\r[ — ]\r[ \\ ]\r[ | ]\r[ / ]\r[ — ]\r[ \\ ]\r[ | ]\r[ / ]\r[ — ]\r[ \\ ]\r[ | ]\r[ / ]\r[ — ]\r[ \\ ]\r[ | ]\r[ / ]\r[ — ]\r[ \\ ]\r[ | ]\r[ / ]\r[ — ]\r[ \\ ]\r[ | ]\r[ / ]\r[ — ]\r[ \\ ]\r[ | ]\r[ / ]\r[ — ]\r[ \\ ]\r[ | ]\r[ / ]\r[ — ]\r[ \\ ]\r[ | ]\r[ / ]\r[ — ]\r[ \\ ]\r[ | ]\r[ / ]\r[ — ]\r[ \\ ]\r[ | ]\r[ / ]\r[ — ]\r[ \\ ]\r[ | ]\r[OK!]\n</div>",
       "datasetInfos": [],
       "metadata": {},
       "removedWidgets": [],
       "type": "html"
      }
     },
     "output_type": "display_data"
    }
   ],
   "source": [
    "document = DocumentAssembler()\\\n",
    "    .setInputCol(\"text\")\\\n",
    "    .setOutputCol(\"document\")\n",
    "\n",
    "summarizer = MedicalSummarizer.pretrained(\"summarizer_clinical_guidelines_large\", \"en\", \"clinical/models\")\\\n",
    "    .setInputCols([\"document\"])\\\n",
    "    .setOutputCol(\"summary\")\\\n",
    "    .setMaxTextLength(768)\\\n",
    "    .setMaxNewTokens(512)\n",
    "\n",
    "pipeline = Pipeline(stages=[\n",
    "    document,\n",
    "    summarizer  \n",
    "])\n",
    "\n",
    "model = pipeline.fit(spark.createDataFrame([[\"\"]]).toDF(\"text\"))\n",
    "light_model = LightPipeline(model)"
   ]
  },
  {
   "cell_type": "code",
   "execution_count": null,
   "metadata": {
    "application/vnd.databricks.v1+cell": {
     "cellMetadata": {
      "byteLimit": 2048000,
      "rowLimit": 10000
     },
     "inputWidgets": {},
     "nuid": "e413deba-351d-417c-8d84-c7ab8445a3c2",
     "showTitle": false,
     "title": ""
    }
   },
   "outputs": [
    {
     "data": {
      "text/html": [
       "<style scoped>\n",
       "  .ansiout {\n",
       "    display: block;\n",
       "    unicode-bidi: embed;\n",
       "    white-space: pre-wrap;\n",
       "    word-wrap: break-word;\n",
       "    word-break: break-all;\n",
       "    font-family: \"Source Code Pro\", \"Menlo\", monospace;;\n",
       "    font-size: 13px;\n",
       "    color: #555;\n",
       "    margin-left: 4px;\n",
       "    line-height: 19px;\n",
       "  }\n",
       "</style>\n",
       "<div class=\"ansiout\">➤ DOCUMENT: \n",
       " Clinical Guidelines for Breast Cancer:\n",
       "Breast cancer is the most common type of cancer among women. It occurs when the cells in the breast start growing abnormally, forming a lump or mass. This can result in the spread of cancerous cells to other parts of the body. Breast cancer may occur in both men and women but is more prevalent in women.\n",
       "The exact cause of breast cancer is unknown. However, several risk factors can increase your likelihood of developing breast cancer, such as:\n",
       "- A personal or family history of breast cancer\n",
       "- A genetic mutation, such as BRCA1 or BRCA2\n",
       "- Exposure to radiation\n",
       "- Age (most commonly occurring in women over 50)\n",
       "- Early onset of menstruation or late menopause\n",
       "- Obesity\n",
       "- Hormonal factors, such as taking hormone replacement therapy\n",
       "Breast cancer may not present symptoms during its early stages. Symptoms typically manifest as the disease progresses. Some notable symptoms include:\n",
       "- A lump or thickening in the breast or underarm area\n",
       "- Changes in the size or shape of the breast\n",
       "- Nipple discharge\n",
       "- Nipple changes in appearance, such as inversion or flattening\n",
       "- Redness or swelling in the breast\n",
       "Treatment for breast cancer depends on several factors, including the stage of the cancer, the location of the tumor, and the individual&#39;s overall health. Common treatment options include:\n",
       "- Surgery (such as lumpectomy or mastectomy)\n",
       "- Radiation therapy\n",
       "- Chemotherapy\n",
       "- Hormone therapy\n",
       "- Targeted therapy\n",
       "Early detection is crucial for the successful treatment of breast cancer. Women are advised to routinely perform self-examinations and undergo regular mammogram testing starting at age 40. If you notice any changes in your breast tissue, consult with your healthcare provider immediately.\n",
       "\n",
       "\n",
       "➤ SUMMARY: \n",
       "Overview of the disease: Breast cancer is the most common type of cancer among women, occurring when the cells in the\n",
       "breast start growing abnormally, forming a lump or mass. It can result in the spread of cancerous cells to other parts\n",
       "of the body. Causes: The exact cause of breast cancer is unknown, but several risk factors can increase the likelihood\n",
       "of developing it, such as a personal or family history, a genetic mutation, exposure to radiation, age, early onset of\n",
       "menstruation or late menopause, obesity, and hormonal factors. Symptoms: Symptoms of breast cancer typically manifest as\n",
       "the disease progresses, including a lump or thickening in the breast or underarm area, changes in the size or shape of\n",
       "the breast, nipple discharge, nipple changes in appearance, and redness or swelling in the breast. Treatment\n",
       "recommendations: Treatment for breast cancer depends on several factors, including the stage of the cancer, the location\n",
       "of the tumor, and the individual&#39;s overall health. Common treatment options include surgery, radiation therapy,\n",
       "chemotherapy, hormone therapy, and targeted therapy. Early detection is crucial for successful treatment of breast\n",
       "cancer. Women are advised to routinely perform self-examinations and undergo regular mammogram testing starting at age\n",
       "40.\n",
       "\n",
       "\n",
       "</div>"
      ]
     },
     "metadata": {
      "application/vnd.databricks.v1+output": {
       "addedWidgets": {},
       "arguments": {},
       "data": "<div class=\"ansiout\">➤ DOCUMENT: \n Clinical Guidelines for Breast Cancer:\nBreast cancer is the most common type of cancer among women. It occurs when the cells in the breast start growing abnormally, forming a lump or mass. This can result in the spread of cancerous cells to other parts of the body. Breast cancer may occur in both men and women but is more prevalent in women.\nThe exact cause of breast cancer is unknown. However, several risk factors can increase your likelihood of developing breast cancer, such as:\n- A personal or family history of breast cancer\n- A genetic mutation, such as BRCA1 or BRCA2\n- Exposure to radiation\n- Age (most commonly occurring in women over 50)\n- Early onset of menstruation or late menopause\n- Obesity\n- Hormonal factors, such as taking hormone replacement therapy\nBreast cancer may not present symptoms during its early stages. Symptoms typically manifest as the disease progresses. Some notable symptoms include:\n- A lump or thickening in the breast or underarm area\n- Changes in the size or shape of the breast\n- Nipple discharge\n- Nipple changes in appearance, such as inversion or flattening\n- Redness or swelling in the breast\nTreatment for breast cancer depends on several factors, including the stage of the cancer, the location of the tumor, and the individual&#39;s overall health. Common treatment options include:\n- Surgery (such as lumpectomy or mastectomy)\n- Radiation therapy\n- Chemotherapy\n- Hormone therapy\n- Targeted therapy\nEarly detection is crucial for the successful treatment of breast cancer. Women are advised to routinely perform self-examinations and undergo regular mammogram testing starting at age 40. If you notice any changes in your breast tissue, consult with your healthcare provider immediately.\n\n\n➤ SUMMARY: \nOverview of the disease: Breast cancer is the most common type of cancer among women, occurring when the cells in the\nbreast start growing abnormally, forming a lump or mass. It can result in the spread of cancerous cells to other parts\nof the body. Causes: The exact cause of breast cancer is unknown, but several risk factors can increase the likelihood\nof developing it, such as a personal or family history, a genetic mutation, exposure to radiation, age, early onset of\nmenstruation or late menopause, obesity, and hormonal factors. Symptoms: Symptoms of breast cancer typically manifest as\nthe disease progresses, including a lump or thickening in the breast or underarm area, changes in the size or shape of\nthe breast, nipple discharge, nipple changes in appearance, and redness or swelling in the breast. Treatment\nrecommendations: Treatment for breast cancer depends on several factors, including the stage of the cancer, the location\nof the tumor, and the individual&#39;s overall health. Common treatment options include surgery, radiation therapy,\nchemotherapy, hormone therapy, and targeted therapy. Early detection is crucial for successful treatment of breast\ncancer. Women are advised to routinely perform self-examinations and undergo regular mammogram testing starting at age\n40.\n\n\n</div>",
       "datasetInfos": [],
       "metadata": {},
       "removedWidgets": [],
       "type": "html"
      }
     },
     "output_type": "display_data"
    }
   ],
   "source": [
    "text = \"\"\"Clinical Guidelines for Breast Cancer:\n",
    "Breast cancer is the most common type of cancer among women. It occurs when the cells in the breast start growing abnormally, forming a lump or mass. This can result in the spread of cancerous cells to other parts of the body. Breast cancer may occur in both men and women but is more prevalent in women.\n",
    "The exact cause of breast cancer is unknown. However, several risk factors can increase your likelihood of developing breast cancer, such as:\n",
    "- A personal or family history of breast cancer\n",
    "- A genetic mutation, such as BRCA1 or BRCA2\n",
    "- Exposure to radiation\n",
    "- Age (most commonly occurring in women over 50)\n",
    "- Early onset of menstruation or late menopause\n",
    "- Obesity\n",
    "- Hormonal factors, such as taking hormone replacement therapy\n",
    "Breast cancer may not present symptoms during its early stages. Symptoms typically manifest as the disease progresses. Some notable symptoms include:\n",
    "- A lump or thickening in the breast or underarm area\n",
    "- Changes in the size or shape of the breast\n",
    "- Nipple discharge\n",
    "- Nipple changes in appearance, such as inversion or flattening\n",
    "- Redness or swelling in the breast\n",
    "Treatment for breast cancer depends on several factors, including the stage of the cancer, the location of the tumor, and the individual's overall health. Common treatment options include:\n",
    "- Surgery (such as lumpectomy or mastectomy)\n",
    "- Radiation therapy\n",
    "- Chemotherapy\n",
    "- Hormone therapy\n",
    "- Targeted therapy\n",
    "Early detection is crucial for the successful treatment of breast cancer. Women are advised to routinely perform self-examinations and undergo regular mammogram testing starting at age 40. If you notice any changes in your breast tissue, consult with your healthcare provider immediately.\"\"\" \n",
    " \n",
    "\n",
    "light_result = light_model.annotate(text)\n",
    "\n",
    "print(\"➤ DOCUMENT: \\n\", light_result[\"document\"][0]) \n",
    "print(\"\\n\") \n",
    "wrapped_text = textwrap.fill(light_result[\"summary\"][0], width=120) \n",
    "print(\"➤ SUMMARY: \\n{}\".format(wrapped_text)) \n",
    "print(\"\\n\")"
   ]
  },
  {
   "attachments": {},
   "cell_type": "markdown",
   "metadata": {
    "application/vnd.databricks.v1+cell": {
     "cellMetadata": {},
     "inputWidgets": {},
     "nuid": "ea8f2461-0144-4edb-968b-264a56b408b3",
     "showTitle": false,
     "title": ""
    }
   },
   "source": [
    "## 📃 summarizer_clinical_laymen\n",
    "\n",
    "This model has been carefully fine-tuned with a custom dataset curated by John Snow Labs, expressly designed to minimize the use of clinical terminology in the generated summaries. The summarizer_clinical_laymen model is capable of producing summaries of up to 512 tokens from an input text of a maximum of 1024 tokens.\n",
    "\n",
    "This innovation embodies our commitment to providing user-friendly and accessible NLP solutions, making it easier for non-clinical personnel and patients to comprehend medical summaries without losing critical information."
   ]
  },
  {
   "cell_type": "code",
   "execution_count": null,
   "metadata": {
    "application/vnd.databricks.v1+cell": {
     "cellMetadata": {
      "byteLimit": 2048000,
      "rowLimit": 10000
     },
     "inputWidgets": {},
     "nuid": "ef9e01b8-cef0-4283-8f39-6e2f95617572",
     "showTitle": false,
     "title": ""
    }
   },
   "outputs": [
    {
     "data": {
      "text/html": [
       "<style scoped>\n",
       "  .ansiout {\n",
       "    display: block;\n",
       "    unicode-bidi: embed;\n",
       "    white-space: pre-wrap;\n",
       "    word-wrap: break-word;\n",
       "    word-break: break-all;\n",
       "    font-family: \"Source Code Pro\", \"Menlo\", monospace;;\n",
       "    font-size: 13px;\n",
       "    color: #555;\n",
       "    margin-left: 4px;\n",
       "    line-height: 19px;\n",
       "  }\n",
       "</style>\n",
       "<div class=\"ansiout\">summarizer_clinical_laymen download started this may take some time.\n",
       "\r[ | ]\r[ / ]\r[ — ]\r[ \\ ]\r[ | ]\r[ / ]\r[ — ]\r[ \\ ]\r[ | ]\r[ / ]\r[ — ]\r[ \\ ]\r[ | ]\r[ / ]\r[ — ]\r[ \\ ]\r[ | ]\r[ / ]\r[ — ]\r[ \\ ]\r[ | ]\r[ / ]\r[ — ]\r[ \\ ]\r[ | ]\r[ / ]\r[ — ]\r[ \\ ]\r[ | ]\r[ / ]\r[ — ]\r[ \\ ]\r[ | ]\r[ / ]\r[OK!]\n",
       "</div>"
      ]
     },
     "metadata": {
      "application/vnd.databricks.v1+output": {
       "addedWidgets": {},
       "arguments": {},
       "data": "<div class=\"ansiout\">summarizer_clinical_laymen download started this may take some time.\n\r[ | ]\r[ / ]\r[ — ]\r[ \\ ]\r[ | ]\r[ / ]\r[ — ]\r[ \\ ]\r[ | ]\r[ / ]\r[ — ]\r[ \\ ]\r[ | ]\r[ / ]\r[ — ]\r[ \\ ]\r[ | ]\r[ / ]\r[ — ]\r[ \\ ]\r[ | ]\r[ / ]\r[ — ]\r[ \\ ]\r[ | ]\r[ / ]\r[ — ]\r[ \\ ]\r[ | ]\r[ / ]\r[ — ]\r[ \\ ]\r[ | ]\r[ / ]\r[OK!]\n</div>",
       "datasetInfos": [],
       "metadata": {},
       "removedWidgets": [],
       "type": "html"
      }
     },
     "output_type": "display_data"
    }
   ],
   "source": [
    "document_assembler = DocumentAssembler()\\\n",
    "    .setInputCol(\"text\")\\\n",
    "    .setOutputCol(\"document\")\n",
    "\n",
    "summarizer = MedicalSummarizer.pretrained(\"summarizer_clinical_laymen\", \"en\", \"clinical/models\")\\\n",
    "    .setInputCols([\"document\"])\\\n",
    "    .setOutputCol(\"summary\")\\\n",
    "    .setMaxNewTokens(512)\\\n",
    "    .setRefineSummary(True)\\\n",
    "    .setRefineSummaryTargetLength(100)\\\n",
    "    .setRefineMaxAttempts(3)\\\n",
    "    .setRefineChunkSize(512)\n",
    "\n",
    "pipeline = Pipeline(stages=[\n",
    "    document_assembler,\n",
    "    summarizer\n",
    "])\n",
    "\n",
    "model = pipeline.fit(spark.createDataFrame([[\"\"]]).toDF(\"text\"))\n",
    "light_model = LightPipeline(model)"
   ]
  },
  {
   "cell_type": "code",
   "execution_count": null,
   "metadata": {
    "application/vnd.databricks.v1+cell": {
     "cellMetadata": {
      "byteLimit": 2048000,
      "rowLimit": 10000
     },
     "inputWidgets": {},
     "nuid": "d730f917-575c-4714-88bb-d139a48086ff",
     "showTitle": false,
     "title": ""
    }
   },
   "outputs": [
    {
     "data": {
      "text/html": [
       "<style scoped>\n",
       "  .ansiout {\n",
       "    display: block;\n",
       "    unicode-bidi: embed;\n",
       "    white-space: pre-wrap;\n",
       "    word-wrap: break-word;\n",
       "    word-break: break-all;\n",
       "    font-family: \"Source Code Pro\", \"Menlo\", monospace;;\n",
       "    font-size: 13px;\n",
       "    color: #555;\n",
       "    margin-left: 4px;\n",
       "    line-height: 19px;\n",
       "  }\n",
       "</style>\n",
       "<div class=\"ansiout\">➤ DOCUMENT: \n",
       " Olivia Smith was seen in my office for evaluation for elective surgical weight loss on October 6, 2008. Olivia Smith is a 34-year-old female with a BMI of 43. She is 5&#39;6&#34; tall and weighs 267 pounds. She is motivated to attempt surgical weight loss because she has been overweight for over 20 years and wants to have more energy and improve her self-image. She is not only affected physically, but also socially by her weight. When she loses weight she always regains it and she always gains back more weight than she has lost. At one time, she lost 100 pounds and gained the weight back within a year. She has tried numerous commercial weight loss programs including Weight Watcher&#39;s for four months in 1992 with 15-pound weight loss, RS for two months in 1990 with six-pound weight loss, Slim Fast for six weeks in 2004 with eight-pound weight loss, an exercise program for two months in 2007 with a five-pound weight loss, Atkin&#39;s Diet for three months in 2008 with a ten-pound weight loss, and Dexatrim for one month in 2005 with a five-pound weight loss. She has also tried numerous fat reduction or fad diets. She was on Redux for nine months with a 100-pound weight loss.\n",
       "PAST MEDICAL HISTORY: She has a history of hypertension and shortness of breath.\n",
       "PAST SURGICAL HISTORY: Pertinent for cholecystectomy.\n",
       "PSYCHOLOGICAL HISTORY: Negative.\n",
       "SOCIAL HISTORY: She is single. She drinks alcohol once a week. She does not smoke.\n",
       "FAMILY HISTORY: Pertinent for obesity and hypertension.\n",
       "MEDICATIONS: Include Topamax 100 mg twice daily, Zoloft 100 mg twice daily, Abilify 5 mg daily, Motrin 800 mg daily, and a multivitamin.\n",
       "\n",
       "ALLERGIES: She has no known drug allergies.REVIEW OF SYSTEMS: Negative.\n",
       "PHYSICAL EXAM: This is a pleasant female in no acute distress. Alert and oriented x 3. HEENT: Normocephalic, atraumatic. Extraocular muscles intact, nonicteric sclerae. Chest is clear to auscultation bilaterally. Cardiovascular is normal sinus rhythm. Abdomen is obese, soft, nontender and nondistended. Extremities show no edema, clubbing or cyanosis\n",
       "ASSESSMENT/PLAN: This is a 34-year-old female with a BMI of 43 who is interested in surgical weight via the gastric bypass as opposed to Lap-Band. Olivia Smith will be asking for a letter of medical necessity from Dr. Andrew Johnson. She will also see my nutritionist and social worker and have an upper endoscopy. Once this is completed, we will submit her to her insurance company for approval.\n",
       "\n",
       "\n",
       "\n",
       "➤ SUMMARY: \n",
       "This is a clinical note about a 34-year-old woman who is interested in having weight loss surgery. She has been\n",
       "overweight for over 20 years and wants to have more energy and improve her self-image. She has tried many diets and\n",
       "weight loss programs, but has not been successful in keeping the weight off. She has a history of hypertension and\n",
       "shortness of breath, but is not allergic to any medications. She will have an upper endoscopy and will be contacted by a\n",
       "nutritionist and social worker. The plan is to have her weight loss surgery through the gastric bypass, rather than Lap-\n",
       "Band.\n",
       "\n",
       "\n",
       "</div>"
      ]
     },
     "metadata": {
      "application/vnd.databricks.v1+output": {
       "addedWidgets": {},
       "arguments": {},
       "data": "<div class=\"ansiout\">➤ DOCUMENT: \n Olivia Smith was seen in my office for evaluation for elective surgical weight loss on October 6, 2008. Olivia Smith is a 34-year-old female with a BMI of 43. She is 5&#39;6&#34; tall and weighs 267 pounds. She is motivated to attempt surgical weight loss because she has been overweight for over 20 years and wants to have more energy and improve her self-image. She is not only affected physically, but also socially by her weight. When she loses weight she always regains it and she always gains back more weight than she has lost. At one time, she lost 100 pounds and gained the weight back within a year. She has tried numerous commercial weight loss programs including Weight Watcher&#39;s for four months in 1992 with 15-pound weight loss, RS for two months in 1990 with six-pound weight loss, Slim Fast for six weeks in 2004 with eight-pound weight loss, an exercise program for two months in 2007 with a five-pound weight loss, Atkin&#39;s Diet for three months in 2008 with a ten-pound weight loss, and Dexatrim for one month in 2005 with a five-pound weight loss. She has also tried numerous fat reduction or fad diets. She was on Redux for nine months with a 100-pound weight loss.\nPAST MEDICAL HISTORY: She has a history of hypertension and shortness of breath.\nPAST SURGICAL HISTORY: Pertinent for cholecystectomy.\nPSYCHOLOGICAL HISTORY: Negative.\nSOCIAL HISTORY: She is single. She drinks alcohol once a week. She does not smoke.\nFAMILY HISTORY: Pertinent for obesity and hypertension.\nMEDICATIONS: Include Topamax 100 mg twice daily, Zoloft 100 mg twice daily, Abilify 5 mg daily, Motrin 800 mg daily, and a multivitamin.\n\nALLERGIES: She has no known drug allergies.REVIEW OF SYSTEMS: Negative.\nPHYSICAL EXAM: This is a pleasant female in no acute distress. Alert and oriented x 3. HEENT: Normocephalic, atraumatic. Extraocular muscles intact, nonicteric sclerae. Chest is clear to auscultation bilaterally. Cardiovascular is normal sinus rhythm. Abdomen is obese, soft, nontender and nondistended. Extremities show no edema, clubbing or cyanosis\nASSESSMENT/PLAN: This is a 34-year-old female with a BMI of 43 who is interested in surgical weight via the gastric bypass as opposed to Lap-Band. Olivia Smith will be asking for a letter of medical necessity from Dr. Andrew Johnson. She will also see my nutritionist and social worker and have an upper endoscopy. Once this is completed, we will submit her to her insurance company for approval.\n\n\n\n➤ SUMMARY: \nThis is a clinical note about a 34-year-old woman who is interested in having weight loss surgery. She has been\noverweight for over 20 years and wants to have more energy and improve her self-image. She has tried many diets and\nweight loss programs, but has not been successful in keeping the weight off. She has a history of hypertension and\nshortness of breath, but is not allergic to any medications. She will have an upper endoscopy and will be contacted by a\nnutritionist and social worker. The plan is to have her weight loss surgery through the gastric bypass, rather than Lap-\nBand.\n\n\n</div>",
       "datasetInfos": [],
       "metadata": {},
       "removedWidgets": [],
       "type": "html"
      }
     },
     "output_type": "display_data"
    }
   ],
   "source": [
    "text =\"\"\"Olivia Smith was seen in my office for evaluation for elective surgical weight loss on October 6, 2008. Olivia Smith is a 34-year-old female with a BMI of 43. She is 5'6\" tall and weighs 267 pounds. She is motivated to attempt surgical weight loss because she has been overweight for over 20 years and wants to have more energy and improve her self-image. She is not only affected physically, but also socially by her weight. When she loses weight she always regains it and she always gains back more weight than she has lost. At one time, she lost 100 pounds and gained the weight back within a year. She has tried numerous commercial weight loss programs including Weight Watcher's for four months in 1992 with 15-pound weight loss, RS for two months in 1990 with six-pound weight loss, Slim Fast for six weeks in 2004 with eight-pound weight loss, an exercise program for two months in 2007 with a five-pound weight loss, Atkin's Diet for three months in 2008 with a ten-pound weight loss, and Dexatrim for one month in 2005 with a five-pound weight loss. She has also tried numerous fat reduction or fad diets. She was on Redux for nine months with a 100-pound weight loss.\n",
    "PAST MEDICAL HISTORY: She has a history of hypertension and shortness of breath.\n",
    "PAST SURGICAL HISTORY: Pertinent for cholecystectomy.\n",
    "PSYCHOLOGICAL HISTORY: Negative.\n",
    "SOCIAL HISTORY: She is single. She drinks alcohol once a week. She does not smoke.\n",
    "FAMILY HISTORY: Pertinent for obesity and hypertension.\n",
    "MEDICATIONS: Include Topamax 100 mg twice daily, Zoloft 100 mg twice daily, Abilify 5 mg daily, Motrin 800 mg daily, and a multivitamin.\\n\\nALLERGIES: She has no known drug allergies.REVIEW OF SYSTEMS: Negative.\n",
    "PHYSICAL EXAM: This is a pleasant female in no acute distress. Alert and oriented x 3. HEENT: Normocephalic, atraumatic. Extraocular muscles intact, nonicteric sclerae. Chest is clear to auscultation bilaterally. Cardiovascular is normal sinus rhythm. Abdomen is obese, soft, nontender and nondistended. Extremities show no edema, clubbing or cyanosis\n",
    "ASSESSMENT/PLAN: This is a 34-year-old female with a BMI of 43 who is interested in surgical weight via the gastric bypass as opposed to Lap-Band. Olivia Smith will be asking for a letter of medical necessity from Dr. Andrew Johnson. She will also see my nutritionist and social worker and have an upper endoscopy. Once this is completed, we will submit her to her insurance company for approval.\n",
    "\"\"\"\n",
    "\n",
    "\n",
    "light_result = light_model.annotate(text)\n",
    "\n",
    "print(\"➤ DOCUMENT: \\n\", light_result[\"document\"][0]) \n",
    "print(\"\\n\") \n",
    "wrapped_text = textwrap.fill(light_result[\"summary\"][0], width=120) \n",
    "print(\"➤ SUMMARY: \\n{}\".format(wrapped_text)) \n",
    "print(\"\\n\")"
   ]
  },
  {
   "attachments": {},
   "cell_type": "markdown",
   "metadata": {
    "application/vnd.databricks.v1+cell": {
     "cellMetadata": {},
     "inputWidgets": {},
     "nuid": "cb0dc857-165d-42ec-bc3d-c6e7cadfed07",
     "showTitle": false,
     "title": ""
    }
   },
   "source": [
    "![image](https://github.com/JohnSnowLabs/spark-nlp-workshop/blob/master/databricks/python/data/Spark_NLP_for_Healthcare_vs_Others.png?raw=true)"
   ]
  },
  {
   "attachments": {},
   "cell_type": "markdown",
   "metadata": {
    "application/vnd.databricks.v1+cell": {
     "cellMetadata": {},
     "inputWidgets": {},
     "nuid": "b7044476-9ab5-4a0d-993e-de982a24a916",
     "showTitle": false,
     "title": ""
    }
   },
   "source": [
    "# 📍Text Summarization with Extractive Approach"
   ]
  },
  {
   "attachments": {},
   "cell_type": "markdown",
   "metadata": {
    "application/vnd.databricks.v1+cell": {
     "cellMetadata": {},
     "inputWidgets": {},
     "nuid": "7376f8bb-c7d3-4159-96d3-209d1e87a056",
     "showTitle": false,
     "title": ""
    }
   },
   "source": [
    "## ExtractiveSummarization"
   ]
  },
  {
   "attachments": {},
   "cell_type": "markdown",
   "metadata": {
    "application/vnd.databricks.v1+cell": {
     "cellMetadata": {},
     "inputWidgets": {},
     "nuid": "5d422859-92b2-4198-875e-0e42de2d502d",
     "showTitle": false,
     "title": ""
    }
   },
   "source": [
    "**Extractive summarization** is a technique used in Natural Language Processing (NLP) that aims to generate a concise summary by extracting the most important information from a given text. Unlike ***abstractive summarization***, which involves generating new sentences to capture the essence of the content, ***extractive summarization*** directly selects and concatenates existing sentences or phrases from the original text.\n",
    "\n",
    "Extractive summarization  focuses on extracting the most relevant information rather than generating new content. The process typically includes preprocessing the text, identifying important sentences using various criteria, ranking them based on their importance, and selecting the top-ranked sentences for the final summary. Extractive summarization is favored for its objectivity, preserving the factual accuracy of the original text.\n",
    "\n",
    "**Parameters**\n",
    "\n",
    "\n",
    "- `similarityThreshold`: Sets the minimal cosine similarity between sentences to consider them similar.\n",
    "\n",
    "- `summarySize`: Sets the number of sentences to summarize the text"
   ]
  },
  {
   "cell_type": "code",
   "execution_count": null,
   "metadata": {
    "application/vnd.databricks.v1+cell": {
     "cellMetadata": {
      "byteLimit": 2048000,
      "rowLimit": 10000
     },
     "inputWidgets": {},
     "nuid": "2a01453d-2034-4189-865c-aebc965a8b40",
     "showTitle": false,
     "title": ""
    }
   },
   "outputs": [
    {
     "data": {
      "text/html": [
       "<style scoped>\n",
       "  .ansiout {\n",
       "    display: block;\n",
       "    unicode-bidi: embed;\n",
       "    white-space: pre-wrap;\n",
       "    word-wrap: break-word;\n",
       "    word-break: break-all;\n",
       "    font-family: \"Source Code Pro\", \"Menlo\", monospace;;\n",
       "    font-size: 13px;\n",
       "    color: #555;\n",
       "    margin-left: 4px;\n",
       "    line-height: 19px;\n",
       "  }\n",
       "</style>\n",
       "<div class=\"ansiout\">sentence_detector_dl download started this may take some time.\n",
       "Approximate size to download 354.6 KB\n",
       "\r[ | ]\r[ / ]\r[OK!]\n",
       "sent_small_bert_L2_128 download started this may take some time.\n",
       "Approximate size to download 16.1 MB\n",
       "\r[ | ]\r[ / ]\r[OK!]\n",
       "</div>"
      ]
     },
     "metadata": {
      "application/vnd.databricks.v1+output": {
       "addedWidgets": {},
       "arguments": {},
       "data": "<div class=\"ansiout\">sentence_detector_dl download started this may take some time.\nApproximate size to download 354.6 KB\n\r[ | ]\r[ / ]\r[OK!]\nsent_small_bert_L2_128 download started this may take some time.\nApproximate size to download 16.1 MB\n\r[ | ]\r[ / ]\r[OK!]\n</div>",
       "datasetInfos": [],
       "metadata": {},
       "removedWidgets": [],
       "type": "html"
      }
     },
     "output_type": "display_data"
    }
   ],
   "source": [
    "documenter = DocumentAssembler() \\\n",
    "    .setInputCol(\"text\")\\\n",
    "    .setOutputCol(\"documents\")\n",
    "\n",
    "sentence_detector = SentenceDetectorDLModel() \\\n",
    "    .pretrained()\\\n",
    "    .setInputCols(\"documents\") \\\n",
    "    .setOutputCol(\"sentences\")\n",
    "\n",
    "sentence_embeddings = BertSentenceEmbeddings()\\\n",
    "    .pretrained(\"sent_small_bert_L2_128\")\\\n",
    "    .setInputCols([\"sentences\"])\\\n",
    "    .setOutputCol(\"sentence_embeddings\")\n",
    "\n",
    "summarizer = ExtractiveSummarization()\\\n",
    "    .setInputCols([\"sentences\", \"sentence_embeddings\"])\\\n",
    "    .setOutputCol(\"summaries\")\\\n",
    "    .setSummarySize(2)\\\n",
    "    .setSimilarityThreshold(0)\n",
    "\n",
    "pipeline = Pipeline(\n",
    "    stages=[\n",
    "        documenter,\n",
    "        sentence_detector,\n",
    "        sentence_embeddings,\n",
    "        summarizer\n",
    "        ])\n",
    "\n",
    "model = pipeline.fit(spark.createDataFrame([[\"\"]]).toDF(\"text\"))"
   ]
  },
  {
   "cell_type": "code",
   "execution_count": null,
   "metadata": {
    "application/vnd.databricks.v1+cell": {
     "cellMetadata": {
      "byteLimit": 2048000,
      "rowLimit": 10000
     },
     "inputWidgets": {},
     "nuid": "cc558fb1-b351-4162-b60c-6551980b3254",
     "showTitle": false,
     "title": ""
    }
   },
   "outputs": [
    {
     "data": {
      "text/html": [
       "<style scoped>\n",
       "  .ansiout {\n",
       "    display: block;\n",
       "    unicode-bidi: embed;\n",
       "    white-space: pre-wrap;\n",
       "    word-wrap: break-word;\n",
       "    word-break: break-all;\n",
       "    font-family: \"Source Code Pro\", \"Menlo\", monospace;;\n",
       "    font-size: 13px;\n",
       "    color: #555;\n",
       "    margin-left: 4px;\n",
       "    line-height: 19px;\n",
       "  }\n",
       "</style>\n",
       "<div class=\"ansiout\">Out[9]: &#39;One of David Cameron \\&#39;s closest friends and Conservative allies, George Osborne rose rapidly after becoming MP for Tatton in 2001. Michael Howard promoted him from shadow chief secretary to the Treasury to shadow chancellor in May 2005, at the age of 34. Mr Osborne took a key role in the election campaign and has been at the forefront of the debate on how to deal with the recession and the UK\\&#39;s spending deficit. Even before Mr Cameron became leader the two were being likened to Labour\\&#39;s Blair/Brown duo. The two have emulated them by becoming prime minister and chancellor, but will want to avoid the spats. Before entering Parliament, he was a special adviser in the agriculture department when the Tories were in government and later served as political secretary to William Hague. The BBC understands that as chancellor, Mr Osborne, along with the Treasury will retain responsibility for overseeing banks and financial regulation. Mr Osborne said the coalition government was planning to change the tax system &#34;to make it fairer for people on low and middle incomes&#34;, and undertake &#34;long-termstructural reform&#34; of the banking sector, education and the welfare state.&#39;</div>"
      ]
     },
     "metadata": {
      "application/vnd.databricks.v1+output": {
       "addedWidgets": {},
       "arguments": {},
       "data": "<div class=\"ansiout\">Out[9]: &#39;One of David Cameron \\&#39;s closest friends and Conservative allies, George Osborne rose rapidly after becoming MP for Tatton in 2001. Michael Howard promoted him from shadow chief secretary to the Treasury to shadow chancellor in May 2005, at the age of 34. Mr Osborne took a key role in the election campaign and has been at the forefront of the debate on how to deal with the recession and the UK\\&#39;s spending deficit. Even before Mr Cameron became leader the two were being likened to Labour\\&#39;s Blair/Brown duo. The two have emulated them by becoming prime minister and chancellor, but will want to avoid the spats. Before entering Parliament, he was a special adviser in the agriculture department when the Tories were in government and later served as political secretary to William Hague. The BBC understands that as chancellor, Mr Osborne, along with the Treasury will retain responsibility for overseeing banks and financial regulation. Mr Osborne said the coalition government was planning to change the tax system &#34;to make it fairer for people on low and middle incomes&#34;, and undertake &#34;long-termstructural reform&#34; of the banking sector, education and the welfare state.&#39;</div>",
       "datasetInfos": [],
       "metadata": {},
       "removedWidgets": [],
       "type": "html"
      }
     },
     "output_type": "display_data"
    }
   ],
   "source": [
    "sampleText = \"\"\"\n",
    "One of David Cameron 's closest friends and Conservative allies, George Osborne rose rapidly after becoming MP for Tatton in 2001. Michael Howard promoted him from shadow chief secretary to the Treasury to shadow chancellor in May 2005, at the age of 34. Mr Osborne took a key role in the election campaign and has been at the forefront of the debate on how to deal with the recession and the UK's spending deficit. Even before Mr Cameron became leader the two were being likened to Labour's Blair/Brown duo. The two have emulated them by becoming prime minister and chancellor, but will want to avoid the spats. Before entering Parliament, he was a special adviser in the agriculture department when the Tories were in government and later served as political secretary to William Hague. The BBC understands that as chancellor, Mr Osborne, along with the Treasury will retain responsibility for overseeing banks and financial regulation. Mr Osborne said the coalition government was planning to change the tax system \"to make it fairer for people on low and middle incomes\", and undertake \"long-termstructural reform\" of the banking sector, education and the welfare state.\n",
    "\"\"\".strip()\n",
    "\n",
    "sampleText"
   ]
  },
  {
   "cell_type": "code",
   "execution_count": null,
   "metadata": {
    "application/vnd.databricks.v1+cell": {
     "cellMetadata": {
      "byteLimit": 2048000,
      "rowLimit": 10000
     },
     "inputWidgets": {},
     "nuid": "ad07e172-4e7e-45bf-a7a8-a03bc48a7a2a",
     "showTitle": false,
     "title": ""
    }
   },
   "outputs": [
    {
     "data": {
      "text/html": [
       "<style scoped>\n",
       "  .ansiout {\n",
       "    display: block;\n",
       "    unicode-bidi: embed;\n",
       "    white-space: pre-wrap;\n",
       "    word-wrap: break-word;\n",
       "    word-break: break-all;\n",
       "    font-family: \"Source Code Pro\", \"Menlo\", monospace;;\n",
       "    font-size: 13px;\n",
       "    color: #555;\n",
       "    margin-left: 4px;\n",
       "    line-height: 19px;\n",
       "  }\n",
       "</style>\n",
       "<div class=\"ansiout\"></div>"
      ]
     },
     "metadata": {
      "application/vnd.databricks.v1+output": {
       "addedWidgets": {},
       "arguments": {},
       "data": "<div class=\"ansiout\"></div>",
       "datasetInfos": [],
       "metadata": {},
       "removedWidgets": [],
       "type": "html"
      }
     },
     "output_type": "display_data"
    }
   ],
   "source": [
    "data = spark.createDataFrame([[sampleText]]).toDF(\"text\")\n",
    "\n",
    "result = model.transform(data)"
   ]
  },
  {
   "cell_type": "code",
   "execution_count": null,
   "metadata": {
    "application/vnd.databricks.v1+cell": {
     "cellMetadata": {
      "byteLimit": 2048000,
      "rowLimit": 10000
     },
     "inputWidgets": {},
     "nuid": "e2f8f03b-2e3b-4178-9073-7a92b4fcdeb4",
     "showTitle": false,
     "title": ""
    }
   },
   "outputs": [
    {
     "data": {
      "text/html": [
       "<style scoped>\n",
       "  .ansiout {\n",
       "    display: block;\n",
       "    unicode-bidi: embed;\n",
       "    white-space: pre-wrap;\n",
       "    word-wrap: break-word;\n",
       "    word-break: break-all;\n",
       "    font-family: \"Source Code Pro\", \"Menlo\", monospace;;\n",
       "    font-size: 13px;\n",
       "    color: #555;\n",
       "    margin-left: 4px;\n",
       "    line-height: 19px;\n",
       "  }\n",
       "</style>\n",
       "<div class=\"ansiout\">Out[11]: [&#34;Mr Osborne took a key role in the election campaign and has been at the forefront of the debate on how to deal with the recession and the UK&#39;s spending deficit. The BBC understands that as chancellor, Mr Osborne, along with the Treasury will retain responsibility for overseeing banks and financial regulation.&#34;]</div>"
      ]
     },
     "metadata": {
      "application/vnd.databricks.v1+output": {
       "addedWidgets": {},
       "arguments": {},
       "data": "<div class=\"ansiout\">Out[11]: [&#34;Mr Osborne took a key role in the election campaign and has been at the forefront of the debate on how to deal with the recession and the UK&#39;s spending deficit. The BBC understands that as chancellor, Mr Osborne, along with the Treasury will retain responsibility for overseeing banks and financial regulation.&#34;]</div>",
       "datasetInfos": [],
       "metadata": {},
       "removedWidgets": [],
       "type": "html"
      }
     },
     "output_type": "display_data"
    }
   ],
   "source": [
    "light_model = LightPipeline(model)\n",
    "\n",
    "light_result = light_model.annotate(sampleText)\n",
    "\n",
    "light_result[\"summaries\"]"
   ]
  },
  {
   "attachments": {},
   "cell_type": "markdown",
   "metadata": {
    "application/vnd.databricks.v1+cell": {
     "cellMetadata": {},
     "inputWidgets": {},
     "nuid": "48f081ed-b174-4a18-b916-8da462c9d68c",
     "showTitle": false,
     "title": ""
    }
   },
   "source": [
    "### pubmed data"
   ]
  },
  {
   "cell_type": "code",
   "execution_count": null,
   "metadata": {
    "application/vnd.databricks.v1+cell": {
     "cellMetadata": {
      "byteLimit": 2048000,
      "rowLimit": 10000
     },
     "inputWidgets": {},
     "nuid": "d112cf71-7d58-4ee6-b7cc-d79dfd8615d7",
     "showTitle": false,
     "title": ""
    }
   },
   "outputs": [
    {
     "data": {
      "text/html": [
       "<style scoped>\n",
       "  .ansiout {\n",
       "    display: block;\n",
       "    unicode-bidi: embed;\n",
       "    white-space: pre-wrap;\n",
       "    word-wrap: break-word;\n",
       "    word-break: break-all;\n",
       "    font-family: \"Source Code Pro\", \"Menlo\", monospace;;\n",
       "    font-size: 13px;\n",
       "    color: #555;\n",
       "    margin-left: 4px;\n",
       "    line-height: 19px;\n",
       "  }\n",
       "</style>\n",
       "<div class=\"ansiout\">Out[22]: &#39;Residual disease after initial surgery for ovarian cancer is the strongest prognostic factor for survival. However, the extent of surgical resection required to achieve optimal cytoreduction is controversial. Our goal was to estimate the effect of aggressive surgical resection on ovarian cancer patient survival.\\nA retrospective cohort study of consecutive patients with International Federation of Gynecology and Obstetrics stage IIIC ovarian cancer undergoing primary surgery was conducted between January 1, 1994, and December 31, 1998. The main outcome measures were residual disease after cytoreduction, frequency of radical surgical resection, and 5-year disease-specific survival.\\nThe study comprised 194 patients, including 144 with carcinomatosis. The mean patient age and follow-up time were 64.4 and 3.5 years, respectively. After surgery, 131 (67.5%) of the 194 patients had less than 1 cm of residual disease (definition of optimal cytoreduction). Considering all patients, residual disease was the only independent predictor of survival; the need to perform radical procedures to achieve optimal cytoreduction was not associated with a decrease in survival. For the subgroup of patients with carcinomatosis, residual disease and the performance of radical surgical procedures were the only independent predictors. Disease-specific survival was markedly improved for patients with carcinomatosis operated on by surgeons who most frequently used radical procedures compared with those least likely to use radical procedures (44% versus 17%, P &lt; .001).\\nOverall, residual disease was the only independent predictor of survival. Minimizing residual disease through aggressive surgical resection was beneficial, especially in patients with carcinomatosis.&#39;</div>"
      ]
     },
     "metadata": {
      "application/vnd.databricks.v1+output": {
       "addedWidgets": {},
       "arguments": {},
       "data": "<div class=\"ansiout\">Out[22]: &#39;Residual disease after initial surgery for ovarian cancer is the strongest prognostic factor for survival. However, the extent of surgical resection required to achieve optimal cytoreduction is controversial. Our goal was to estimate the effect of aggressive surgical resection on ovarian cancer patient survival.\\nA retrospective cohort study of consecutive patients with International Federation of Gynecology and Obstetrics stage IIIC ovarian cancer undergoing primary surgery was conducted between January 1, 1994, and December 31, 1998. The main outcome measures were residual disease after cytoreduction, frequency of radical surgical resection, and 5-year disease-specific survival.\\nThe study comprised 194 patients, including 144 with carcinomatosis. The mean patient age and follow-up time were 64.4 and 3.5 years, respectively. After surgery, 131 (67.5%) of the 194 patients had less than 1 cm of residual disease (definition of optimal cytoreduction). Considering all patients, residual disease was the only independent predictor of survival; the need to perform radical procedures to achieve optimal cytoreduction was not associated with a decrease in survival. For the subgroup of patients with carcinomatosis, residual disease and the performance of radical surgical procedures were the only independent predictors. Disease-specific survival was markedly improved for patients with carcinomatosis operated on by surgeons who most frequently used radical procedures compared with those least likely to use radical procedures (44% versus 17%, P &lt; .001).\\nOverall, residual disease was the only independent predictor of survival. Minimizing residual disease through aggressive surgical resection was beneficial, especially in patients with carcinomatosis.&#39;</div>",
       "datasetInfos": [],
       "metadata": {},
       "removedWidgets": [],
       "type": "html"
      }
     },
     "output_type": "display_data"
    }
   ],
   "source": [
    "text = \"\"\"Residual disease after initial surgery for ovarian cancer is the strongest prognostic factor for survival. However, the extent of surgical resection required to achieve optimal cytoreduction is controversial. Our goal was to estimate the effect of aggressive surgical resection on ovarian cancer patient survival.\n",
    "A retrospective cohort study of consecutive patients with International Federation of Gynecology and Obstetrics stage IIIC ovarian cancer undergoing primary surgery was conducted between January 1, 1994, and December 31, 1998. The main outcome measures were residual disease after cytoreduction, frequency of radical surgical resection, and 5-year disease-specific survival.\n",
    "The study comprised 194 patients, including 144 with carcinomatosis. The mean patient age and follow-up time were 64.4 and 3.5 years, respectively. After surgery, 131 (67.5%) of the 194 patients had less than 1 cm of residual disease (definition of optimal cytoreduction). Considering all patients, residual disease was the only independent predictor of survival; the need to perform radical procedures to achieve optimal cytoreduction was not associated with a decrease in survival. For the subgroup of patients with carcinomatosis, residual disease and the performance of radical surgical procedures were the only independent predictors. Disease-specific survival was markedly improved for patients with carcinomatosis operated on by surgeons who most frequently used radical procedures compared with those least likely to use radical procedures (44% versus 17%, P < .001).\n",
    "Overall, residual disease was the only independent predictor of survival. Minimizing residual disease through aggressive surgical resection was beneficial, especially in patients with carcinomatosis.\"\"\"\n",
    "\n",
    "text"
   ]
  },
  {
   "cell_type": "code",
   "execution_count": null,
   "metadata": {
    "application/vnd.databricks.v1+cell": {
     "cellMetadata": {
      "byteLimit": 2048000,
      "rowLimit": 10000
     },
     "inputWidgets": {},
     "nuid": "8e3b60d0-6d64-4325-8a0f-a95116b41b37",
     "showTitle": false,
     "title": ""
    }
   },
   "outputs": [
    {
     "data": {
      "text/html": [
       "<style scoped>\n",
       "  .ansiout {\n",
       "    display: block;\n",
       "    unicode-bidi: embed;\n",
       "    white-space: pre-wrap;\n",
       "    word-wrap: break-word;\n",
       "    word-break: break-all;\n",
       "    font-family: \"Source Code Pro\", \"Menlo\", monospace;;\n",
       "    font-size: 13px;\n",
       "    color: #555;\n",
       "    margin-left: 4px;\n",
       "    line-height: 19px;\n",
       "  }\n",
       "</style>\n",
       "<div class=\"ansiout\">Out[23]: [&#39;Residual disease after initial surgery for ovarian cancer is the strongest prognostic factor for survival. However, the extent of surgical resection required to achieve optimal cytoreduction is controversial. Our goal was to estimate the effect of aggressive surgical resection on ovarian cancer patient survival.\\nA retrospective cohort study of consecutive patients with International Federation of Gynecology and Obstetrics stage IIIC ovarian cancer undergoing primary surgery was conducted between January 1, 1994, and December 31, 1998. The main outcome measures were residual disease after cytoreduction, frequency of radical surgical resection, and 5-year disease-specific survival.\\nThe study comprised 194 patients, including 144 with carcinomatosis. The mean patient age and follow-up time were 64.4 and 3.5 years, respectively. After surgery, 131 (67.5%) of the 194 patients had less than 1 cm of residual disease (definition of optimal cytoreduction). Considering all patients, residual disease was the only independent predictor of survival; the need to perform radical procedures to achieve optimal cytoreduction was not associated with a decrease in survival. For the subgroup of patients with carcinomatosis, residual disease and the performance of radical surgical procedures were the only independent predictors. Disease-specific survival was markedly improved for patients with carcinomatosis operated on by surgeons who most frequently used radical procedures compared with those least likely to use radical procedures (44% versus 17%, P &lt; .001). Overall, residual disease was the only independent predictor of survival. Minimizing residual disease through aggressive surgical resection was beneficial, especially in patients with carcinomatosis.&#39;]</div>"
      ]
     },
     "metadata": {
      "application/vnd.databricks.v1+output": {
       "addedWidgets": {},
       "arguments": {},
       "data": "<div class=\"ansiout\">Out[23]: [&#39;Residual disease after initial surgery for ovarian cancer is the strongest prognostic factor for survival. However, the extent of surgical resection required to achieve optimal cytoreduction is controversial. Our goal was to estimate the effect of aggressive surgical resection on ovarian cancer patient survival.\\nA retrospective cohort study of consecutive patients with International Federation of Gynecology and Obstetrics stage IIIC ovarian cancer undergoing primary surgery was conducted between January 1, 1994, and December 31, 1998. The main outcome measures were residual disease after cytoreduction, frequency of radical surgical resection, and 5-year disease-specific survival.\\nThe study comprised 194 patients, including 144 with carcinomatosis. The mean patient age and follow-up time were 64.4 and 3.5 years, respectively. After surgery, 131 (67.5%) of the 194 patients had less than 1 cm of residual disease (definition of optimal cytoreduction). Considering all patients, residual disease was the only independent predictor of survival; the need to perform radical procedures to achieve optimal cytoreduction was not associated with a decrease in survival. For the subgroup of patients with carcinomatosis, residual disease and the performance of radical surgical procedures were the only independent predictors. Disease-specific survival was markedly improved for patients with carcinomatosis operated on by surgeons who most frequently used radical procedures compared with those least likely to use radical procedures (44% versus 17%, P &lt; .001). Overall, residual disease was the only independent predictor of survival. Minimizing residual disease through aggressive surgical resection was beneficial, especially in patients with carcinomatosis.&#39;]</div>",
       "datasetInfos": [],
       "metadata": {},
       "removedWidgets": [],
       "type": "html"
      }
     },
     "output_type": "display_data"
    }
   ],
   "source": [
    "light_result = light_model.annotate(text)\n",
    "light_result[\"summaries\"]"
   ]
  },
  {
   "attachments": {},
   "cell_type": "markdown",
   "metadata": {
    "application/vnd.databricks.v1+cell": {
     "cellMetadata": {},
     "inputWidgets": {},
     "nuid": "e75abd73-c244-4998-9d3c-0a9aa3edb18c",
     "showTitle": false,
     "title": ""
    }
   },
   "source": [
    "### ➤ summarySize\n",
    "\n",
    "Sets the number of sentences to summarize the text"
   ]
  },
  {
   "cell_type": "code",
   "execution_count": null,
   "metadata": {
    "application/vnd.databricks.v1+cell": {
     "cellMetadata": {
      "byteLimit": 2048000,
      "rowLimit": 10000
     },
     "inputWidgets": {},
     "nuid": "59b49abd-f1c6-4442-bd95-866cd6f37e9a",
     "showTitle": false,
     "title": ""
    }
   },
   "outputs": [
    {
     "data": {
      "text/html": [
       "<style scoped>\n",
       "  .ansiout {\n",
       "    display: block;\n",
       "    unicode-bidi: embed;\n",
       "    white-space: pre-wrap;\n",
       "    word-wrap: break-word;\n",
       "    word-break: break-all;\n",
       "    font-family: \"Source Code Pro\", \"Menlo\", monospace;;\n",
       "    font-size: 13px;\n",
       "    color: #555;\n",
       "    margin-left: 4px;\n",
       "    line-height: 19px;\n",
       "  }\n",
       "</style>\n",
       "<div class=\"ansiout\"></div>"
      ]
     },
     "metadata": {
      "application/vnd.databricks.v1+output": {
       "addedWidgets": {},
       "arguments": {},
       "data": "<div class=\"ansiout\"></div>",
       "datasetInfos": [],
       "metadata": {},
       "removedWidgets": [],
       "type": "html"
      }
     },
     "output_type": "display_data"
    }
   ],
   "source": [
    "summarizer = ExtractiveSummarization()\\\n",
    "    .setInputCols([\"sentences\", \"sentence_embeddings\"])\\\n",
    "    .setOutputCol(\"summaries\")\\\n",
    "    .setSummarySize(4)\\\n",
    "    .setSimilarityThreshold(0)\n",
    "\n",
    "pipeline = Pipeline(\n",
    "    stages=[\n",
    "        documenter,\n",
    "        sentence_detector,\n",
    "        sentence_embeddings,\n",
    "        summarizer\n",
    "        ])\n",
    "\n",
    "model = pipeline.fit(spark.createDataFrame([[\"\"]]).toDF(\"text\"))\n",
    "\n",
    "light_model = LightPipeline(model)\n",
    "\n",
    "\n"
   ]
  },
  {
   "attachments": {},
   "cell_type": "markdown",
   "metadata": {
    "application/vnd.databricks.v1+cell": {
     "cellMetadata": {
      "byteLimit": 2048000,
      "rowLimit": 10000
     },
     "inputWidgets": {},
     "nuid": "6f8e63b4-d2f9-486c-be1c-2e47e0476ff6",
     "showTitle": false,
     "title": ""
    }
   },
   "source": [
    "### Patient posts"
   ]
  },
  {
   "cell_type": "code",
   "execution_count": null,
   "metadata": {
    "application/vnd.databricks.v1+cell": {
     "cellMetadata": {
      "byteLimit": 2048000,
      "rowLimit": 10000
     },
     "inputWidgets": {},
     "nuid": "a5d80417-1f93-4a2f-a0f4-dcc89d0da8fd",
     "showTitle": false,
     "title": ""
    }
   },
   "outputs": [
    {
     "data": {
      "text/html": [
       "<style scoped>\n",
       "  .ansiout {\n",
       "    display: block;\n",
       "    unicode-bidi: embed;\n",
       "    white-space: pre-wrap;\n",
       "    word-wrap: break-word;\n",
       "    word-break: break-all;\n",
       "    font-family: \"Source Code Pro\", \"Menlo\", monospace;;\n",
       "    font-size: 13px;\n",
       "    color: #555;\n",
       "    margin-left: 4px;\n",
       "    line-height: 19px;\n",
       "  }\n",
       "</style>\n",
       "<div class=\"ansiout\">Out[15]: [&#34;Finally I got an appointment with a homeopathy doctor finally he find that i was suffering from hyperthyroid and my TSH was 0.15 T3 and T4 is normal . Also i have b12 deficiency and vitamin D deficiency so I&#39;m taking weekly supplement of vitamin D and 1000 mcg b12 daily. I feel a little bit relief from weakness and depression but I&#39;m facing with 2 new problem from last week that is breathtaking problem and very rapid heartrate. Bcs i heard that thyroid take time to start recover. Because some of my friends advising me to start allopathy and never take a chance as i can develop some serious problems.&#34;]</div>"
      ]
     },
     "metadata": {
      "application/vnd.databricks.v1+output": {
       "addedWidgets": {},
       "arguments": {},
       "data": "<div class=\"ansiout\">Out[15]: [&#34;Finally I got an appointment with a homeopathy doctor finally he find that i was suffering from hyperthyroid and my TSH was 0.15 T3 and T4 is normal . Also i have b12 deficiency and vitamin D deficiency so I&#39;m taking weekly supplement of vitamin D and 1000 mcg b12 daily. I feel a little bit relief from weakness and depression but I&#39;m facing with 2 new problem from last week that is breathtaking problem and very rapid heartrate. Bcs i heard that thyroid take time to start recover. Because some of my friends advising me to start allopathy and never take a chance as i can develop some serious problems.&#34;]</div>",
       "datasetInfos": [],
       "metadata": {},
       "removedWidgets": [],
       "type": "html"
      }
     },
     "output_type": "display_data"
    }
   ],
   "source": [
    "text = \"\"\"\n",
    "Hello,I'm 20 year old girl. I'm diagnosed with hyperthyroid 1 month ago. I was feeling weak, light headed,poor digestion, panic attacks, depression, left chest pain, increased heart rate, rapidly weight loss, from 4 months.\n",
    "Because of this, I stayed in the hospital and just discharged from hospital. I had many other blood tests, brain mri, ultrasound scan, endoscopy because of some dumb doctors bcs they were not able to diagnose actual problem.\n",
    "Finally I got an appointment with a homeopathy doctor finally he find that i was suffering from hyperthyroid and my TSH was 0.15 T3 and T4 is normal . Also i have b12 deficiency and vitamin D deficiency so I'm taking weekly supplement of vitamin D and 1000 mcg b12 daily.\n",
    "I'm taking homeopathy medicine for 40 days and took 2nd test after 30 days. My TSH is 0.5 now. I feel a little bit relief from weakness and depression but I'm facing with 2 new problem from last week that is breathtaking problem and very rapid heartrate.\n",
    "I just want to know if i should start allopathy medicine or homeopathy is okay? Bcs i heard that thyroid take time to start recover. So please let me know if both of medicines take same time. Because some of my friends advising me to start allopathy and never take a chance as i can develop some serious problems.Sorry for my poor english😐Thank you.\n",
    "\"\"\"\n",
    "\n",
    "light_result = light_model.annotate(text)\n",
    "light_result[\"summaries\"]"
   ]
  },
  {
   "attachments": {},
   "cell_type": "markdown",
   "metadata": {
    "application/vnd.databricks.v1+cell": {
     "cellMetadata": {},
     "inputWidgets": {},
     "nuid": "8e40458a-77de-44a2-8392-4749495c43aa",
     "showTitle": false,
     "title": ""
    }
   },
   "source": [
    "### clinical data"
   ]
  },
  {
   "cell_type": "code",
   "execution_count": null,
   "metadata": {
    "application/vnd.databricks.v1+cell": {
     "cellMetadata": {
      "byteLimit": 2048000,
      "rowLimit": 10000
     },
     "inputWidgets": {},
     "nuid": "3bb78830-e7ef-4bb2-b21b-02ce4919f1a0",
     "showTitle": false,
     "title": ""
    }
   },
   "outputs": [
    {
     "data": {
      "text/html": [
       "<style scoped>\n",
       "  .ansiout {\n",
       "    display: block;\n",
       "    unicode-bidi: embed;\n",
       "    white-space: pre-wrap;\n",
       "    word-wrap: break-word;\n",
       "    word-break: break-all;\n",
       "    font-family: \"Source Code Pro\", \"Menlo\", monospace;;\n",
       "    font-size: 13px;\n",
       "    color: #555;\n",
       "    margin-left: 4px;\n",
       "    line-height: 19px;\n",
       "  }\n",
       "</style>\n",
       "<div class=\"ansiout\"></div>"
      ]
     },
     "metadata": {
      "application/vnd.databricks.v1+output": {
       "addedWidgets": {},
       "arguments": {},
       "data": "<div class=\"ansiout\"></div>",
       "datasetInfos": [],
       "metadata": {},
       "removedWidgets": [],
       "type": "html"
      }
     },
     "output_type": "display_data"
    }
   ],
   "source": [
    "summarizer = ExtractiveSummarization()\\\n",
    "    .setInputCols([\"sentences\", \"sentence_embeddings\"])\\\n",
    "    .setOutputCol(\"summaries\")\\\n",
    "    .setSummarySize(10)\\\n",
    "    .setSimilarityThreshold(0)\n",
    "\n",
    "pipeline = Pipeline(\n",
    "    stages=[\n",
    "        documenter,\n",
    "        sentence_detector,\n",
    "        sentence_embeddings,\n",
    "        summarizer\n",
    "        ])\n",
    "\n",
    "model = pipeline.fit(spark.createDataFrame([[\"\"]]).toDF(\"text\"))\n",
    "\n",
    "light_model = LightPipeline(model)"
   ]
  },
  {
   "cell_type": "code",
   "execution_count": null,
   "metadata": {
    "application/vnd.databricks.v1+cell": {
     "cellMetadata": {
      "byteLimit": 2048000,
      "rowLimit": 10000
     },
     "inputWidgets": {},
     "nuid": "ac1146f9-43a1-41da-b670-f2a03446a7e9",
     "showTitle": false,
     "title": ""
    }
   },
   "outputs": [
    {
     "data": {
      "text/html": [
       "<style scoped>\n",
       "  .ansiout {\n",
       "    display: block;\n",
       "    unicode-bidi: embed;\n",
       "    white-space: pre-wrap;\n",
       "    word-wrap: break-word;\n",
       "    word-break: break-all;\n",
       "    font-family: \"Source Code Pro\", \"Menlo\", monospace;;\n",
       "    font-size: 13px;\n",
       "    color: #555;\n",
       "    margin-left: 4px;\n",
       "    line-height: 19px;\n",
       "  }\n",
       "</style>\n",
       "<div class=\"ansiout\">Out[17]: [&#39;She is motivated to attempt surgical weight loss because she has been overweight for over 20 years and wants to have more energy and improve her self-image. She is not only affected physically, but also socially by her weight. She has also tried numerous fat reduction or fad diets. She was on Redux for nine months with a 100-pound weight loss. PAST MEDICAL HISTORY: She has a history of hypertension and shortness of breath. FAMILY HISTORY: Pertinent for obesity and hypertension. PHYSICAL EXAM: This is a pleasant female in no acute distress. Cardiovascular is normal sinus rhythm. This is a 34-year-old female with a BMI of 43 who is interested in surgical weight via the gastric bypass as opposed to Lap-Band. She will also see my nutritionist and social worker and have an upper endoscopy.&#39;]</div>"
      ]
     },
     "metadata": {
      "application/vnd.databricks.v1+output": {
       "addedWidgets": {},
       "arguments": {},
       "data": "<div class=\"ansiout\">Out[17]: [&#39;She is motivated to attempt surgical weight loss because she has been overweight for over 20 years and wants to have more energy and improve her self-image. She is not only affected physically, but also socially by her weight. She has also tried numerous fat reduction or fad diets. She was on Redux for nine months with a 100-pound weight loss. PAST MEDICAL HISTORY: She has a history of hypertension and shortness of breath. FAMILY HISTORY: Pertinent for obesity and hypertension. PHYSICAL EXAM: This is a pleasant female in no acute distress. Cardiovascular is normal sinus rhythm. This is a 34-year-old female with a BMI of 43 who is interested in surgical weight via the gastric bypass as opposed to Lap-Band. She will also see my nutritionist and social worker and have an upper endoscopy.&#39;]</div>",
       "datasetInfos": [],
       "metadata": {},
       "removedWidgets": [],
       "type": "html"
      }
     },
     "output_type": "display_data"
    }
   ],
   "source": [
    "text =\"\"\"Olivia Smith was seen in my office for evaluation for elective surgical weight loss on October 6, 2008. Olivia Smith is a 34-year-old female with a BMI of 43.\n",
    "She is 5'6\" tall and weighs 267 pounds. She is motivated to attempt surgical weight loss because she has been overweight for over 20 years and wants to have more energy and improve her self-image.\n",
    "She is not only affected physically, but also socially by her weight. When she loses weight she always regains it and she always gains back more weight than she has lost. At one time, she lost 100 pounds and gained the weight back within a year.\n",
    "She has tried numerous commercial weight loss programs including Weight Watcher's for four months in 1992 with 15-pound weight loss, RS for two months in 1990 with six-pound weight loss, Slim Fast for six weeks in 2004 with eight-pound weight loss, an exercise program for two months in 2007 with a five-pound weight loss, Atkin's Diet for three months in 2008 with a ten-pound weight loss, and Dexatrim for one month in 2005 with a five-pound weight loss.\n",
    "She has also tried numerous fat reduction or fad diets. She was on Redux for nine months with a 100-pound weight loss.\n",
    "PAST MEDICAL HISTORY: She has a history of hypertension and shortness of breath.\n",
    "PAST SURGICAL HISTORY: Pertinent for cholecystectomy.\n",
    "PSYCHOLOGICAL HISTORY: Negative.\n",
    "SOCIAL HISTORY: She is single. She drinks alcohol once a week. She does not smoke.\n",
    "FAMILY HISTORY: Pertinent for obesity and hypertension.\n",
    "MEDICATIONS: Include Topamax 100 mg twice daily, Zoloft 100 mg twice daily, Abilify 5 mg daily, Motrin 800 mg daily, and a multivitamin.\n",
    "ALLERGIES: She has no known drug allergies.\n",
    "REVIEW OF SYSTEMS: Negative.\n",
    "PHYSICAL EXAM: This is a pleasant female in no acute distress. Alert and oriented x 3. HEENT: Normocephalic, atraumatic. Extraocular muscles intact, nonicteric sclerae. Chest is clear to auscultation bilaterally. Cardiovascular is normal sinus rhythm. Abdomen is obese, soft, nontender and nondistended. Extremities show no edema, clubbing or cyanosis.\\n\\nASSESSMENT/PLAN: This is a 34-year-old female with a BMI of 43 who is interested in surgical weight via the gastric bypass as opposed to Lap-Band. Olivia Smith will be asking for a letter of medical necessity from Dr. Andrew Johnson. She will also see my nutritionist and social worker and have an upper endoscopy. Once this is completed, we will submit her to her insurance company for approval.\n",
    "\"\"\"\n",
    "\n",
    "light_result = light_model.annotate(text)\n",
    "light_result[\"summaries\"]"
   ]
  },
  {
   "attachments": {},
   "cell_type": "markdown",
   "metadata": {
    "application/vnd.databricks.v1+cell": {
     "cellMetadata": {},
     "inputWidgets": {},
     "nuid": "092a5274-6f3a-4abc-9171-b9e0033d3bc8",
     "showTitle": false,
     "title": ""
    }
   },
   "source": [
    "### ➤similarityThreshold\n",
    "\n",
    "\n",
    "Sets the minimal cosine similarity between sentences to consider them\n",
    "similar."
   ]
  },
  {
   "cell_type": "code",
   "execution_count": null,
   "metadata": {
    "application/vnd.databricks.v1+cell": {
     "cellMetadata": {
      "byteLimit": 2048000,
      "rowLimit": 10000
     },
     "inputWidgets": {},
     "nuid": "0f2515f5-e728-4e6b-b0d7-19db6154fabf",
     "showTitle": false,
     "title": ""
    }
   },
   "outputs": [
    {
     "data": {
      "text/html": [
       "<style scoped>\n",
       "  .ansiout {\n",
       "    display: block;\n",
       "    unicode-bidi: embed;\n",
       "    white-space: pre-wrap;\n",
       "    word-wrap: break-word;\n",
       "    word-break: break-all;\n",
       "    font-family: \"Source Code Pro\", \"Menlo\", monospace;;\n",
       "    font-size: 13px;\n",
       "    color: #555;\n",
       "    margin-left: 4px;\n",
       "    line-height: 19px;\n",
       "  }\n",
       "</style>\n",
       "<div class=\"ansiout\"></div>"
      ]
     },
     "metadata": {
      "application/vnd.databricks.v1+output": {
       "addedWidgets": {},
       "arguments": {},
       "data": "<div class=\"ansiout\"></div>",
       "datasetInfos": [],
       "metadata": {},
       "removedWidgets": [],
       "type": "html"
      }
     },
     "output_type": "display_data"
    }
   ],
   "source": [
    "summarizer = ExtractiveSummarization()\\\n",
    "    .setInputCols([\"sentences\", \"sentence_embeddings\"])\\\n",
    "    .setOutputCol(\"summaries\")\\\n",
    "    .setSummarySize(10)\\\n",
    "    .setSimilarityThreshold(0.8)\n",
    "\n",
    "pipeline = Pipeline(\n",
    "    stages=[\n",
    "        documenter,\n",
    "        sentence_detector,\n",
    "        sentence_embeddings,\n",
    "        summarizer\n",
    "        ])\n",
    "\n",
    "model = pipeline.fit(spark.createDataFrame([[\"\"]]).toDF(\"text\"))\n",
    "\n",
    "light_model = LightPipeline(model)"
   ]
  },
  {
   "cell_type": "code",
   "execution_count": null,
   "metadata": {
    "application/vnd.databricks.v1+cell": {
     "cellMetadata": {
      "byteLimit": 2048000,
      "rowLimit": 10000
     },
     "inputWidgets": {},
     "nuid": "36e262d9-33bd-4296-aca6-70bed88c1614",
     "showTitle": false,
     "title": ""
    }
   },
   "outputs": [
    {
     "data": {
      "text/html": [
       "<style scoped>\n",
       "  .ansiout {\n",
       "    display: block;\n",
       "    unicode-bidi: embed;\n",
       "    white-space: pre-wrap;\n",
       "    word-wrap: break-word;\n",
       "    word-break: break-all;\n",
       "    font-family: \"Source Code Pro\", \"Menlo\", monospace;;\n",
       "    font-size: 13px;\n",
       "    color: #555;\n",
       "    margin-left: 4px;\n",
       "    line-height: 19px;\n",
       "  }\n",
       "</style>\n",
       "<div class=\"ansiout\">Out[19]: [&#39;Extraocular muscles intact, nonicteric sclerae. Chest is clear to auscultation bilaterally. Cardiovascular is normal sinus rhythm. Abdomen is obese, soft, nontender and nondistended. Extremities show no edema, clubbing or cyanosis. ASSESSMENT/PLAN: This is a 34-year-old female with a BMI of 43 who is interested in surgical weight via the gastric bypass as opposed to Lap-Band. Olivia Smith will be asking for a letter of medical necessity from Dr. Andrew Johnson. She will also see my nutritionist and social worker and have an upper endoscopy.  Once this is completed, we will submit her to her insurance company for approval.\\n&#39;]</div>"
      ]
     },
     "metadata": {
      "application/vnd.databricks.v1+output": {
       "addedWidgets": {},
       "arguments": {},
       "data": "<div class=\"ansiout\">Out[19]: [&#39;Extraocular muscles intact, nonicteric sclerae. Chest is clear to auscultation bilaterally. Cardiovascular is normal sinus rhythm. Abdomen is obese, soft, nontender and nondistended. Extremities show no edema, clubbing or cyanosis. ASSESSMENT/PLAN: This is a 34-year-old female with a BMI of 43 who is interested in surgical weight via the gastric bypass as opposed to Lap-Band. Olivia Smith will be asking for a letter of medical necessity from Dr. Andrew Johnson. She will also see my nutritionist and social worker and have an upper endoscopy.  Once this is completed, we will submit her to her insurance company for approval.\\n&#39;]</div>",
       "datasetInfos": [],
       "metadata": {},
       "removedWidgets": [],
       "type": "html"
      }
     },
     "output_type": "display_data"
    }
   ],
   "source": [
    "text =\"\"\"Olivia Smith was seen in my office for evaluation for elective surgical weight loss on October 6, 2008. Olivia Smith is a 34-year-old female with a BMI of 43.\n",
    "She is 5'6\" tall and weighs 267 pounds. She is motivated to attempt surgical weight loss because she has been overweight for over 20 years and wants to have more energy and improve her self-image.\n",
    "She is not only affected physically, but also socially by her weight. When she loses weight she always regains it and she always gains back more weight than she has lost. At one time, she lost 100 pounds and gained the weight back within a year.\n",
    "She has tried numerous commercial weight loss programs including Weight Watcher's for four months in 1992 with 15-pound weight loss, RS for two months in 1990 with six-pound weight loss, Slim Fast for six weeks in 2004 with eight-pound weight loss, an exercise program for two months in 2007 with a five-pound weight loss, Atkin's Diet for three months in 2008 with a ten-pound weight loss, and Dexatrim for one month in 2005 with a five-pound weight loss.\n",
    "She has also tried numerous fat reduction or fad diets. She was on Redux for nine months with a 100-pound weight loss.\n",
    "PAST MEDICAL HISTORY: She has a history of hypertension and shortness of breath.\n",
    "PAST SURGICAL HISTORY: Pertinent for cholecystectomy.\n",
    "PSYCHOLOGICAL HISTORY: Negative.\n",
    "SOCIAL HISTORY: She is single. She drinks alcohol once a week. She does not smoke.\n",
    "FAMILY HISTORY: Pertinent for obesity and hypertension.\n",
    "MEDICATIONS: Include Topamax 100 mg twice daily, Zoloft 100 mg twice daily, Abilify 5 mg daily, Motrin 800 mg daily, and a multivitamin.\n",
    "ALLERGIES: She has no known drug allergies.\n",
    "REVIEW OF SYSTEMS: Negative.\n",
    "PHYSICAL EXAM: This is a pleasant female in no acute distress. Alert and oriented x 3. HEENT: Normocephalic, atraumatic. Extraocular muscles intact, nonicteric sclerae. Chest is clear to auscultation bilaterally. Cardiovascular is normal sinus rhythm. Abdomen is obese, soft, nontender and nondistended. Extremities show no edema, clubbing or cyanosis.\\n\\nASSESSMENT/PLAN: This is a 34-year-old female with a BMI of 43 who is interested in surgical weight via the gastric bypass as opposed to Lap-Band. Olivia Smith will be asking for a letter of medical necessity from Dr. Andrew Johnson. She will also see my nutritionist and social worker and have an upper endoscopy. Once this is completed, we will submit her to her insurance company for approval.\n",
    "\"\"\"\n",
    "\n",
    "light_result = light_model.annotate(text)\n",
    "light_result[\"summaries\"]"
   ]
  },
  {
   "attachments": {},
   "cell_type": "markdown",
   "metadata": {
    "application/vnd.databricks.v1+cell": {
     "cellMetadata": {},
     "inputWidgets": {},
     "nuid": "71f00806-d054-4b0d-adff-40db5f0d2473",
     "showTitle": false,
     "title": ""
    }
   },
   "source": [
    "### ➤ setReturnSingleDocument\n",
    "\n",
    "\n",
    "Determines whether to compile the selected sentences into a single document."
   ]
  },
  {
   "cell_type": "code",
   "execution_count": null,
   "metadata": {
    "application/vnd.databricks.v1+cell": {
     "cellMetadata": {
      "byteLimit": 2048000,
      "rowLimit": 10000
     },
     "inputWidgets": {},
     "nuid": "77938910-ca6d-4027-85c9-ca3721af3cf8",
     "showTitle": false,
     "title": ""
    }
   },
   "outputs": [
    {
     "data": {
      "text/html": [
       "<style scoped>\n",
       "  .ansiout {\n",
       "    display: block;\n",
       "    unicode-bidi: embed;\n",
       "    white-space: pre-wrap;\n",
       "    word-wrap: break-word;\n",
       "    word-break: break-all;\n",
       "    font-family: \"Source Code Pro\", \"Menlo\", monospace;;\n",
       "    font-size: 13px;\n",
       "    color: #555;\n",
       "    margin-left: 4px;\n",
       "    line-height: 19px;\n",
       "  }\n",
       "</style>\n",
       "<div class=\"ansiout\"></div>"
      ]
     },
     "metadata": {
      "application/vnd.databricks.v1+output": {
       "addedWidgets": {},
       "arguments": {},
       "data": "<div class=\"ansiout\"></div>",
       "datasetInfos": [],
       "metadata": {},
       "removedWidgets": [],
       "type": "html"
      }
     },
     "output_type": "display_data"
    }
   ],
   "source": [
    "summarizer = ExtractiveSummarization()\\\n",
    "    .setInputCols([\"sentences\", \"sentence_embeddings\"])\\\n",
    "    .setOutputCol(\"summaries\")\\\n",
    "    .setSummarySize(10)\\\n",
    "    .setSimilarityThreshold(0.8)\\\n",
    "    .setReturnSingleDocument(True)\n",
    "\n",
    "pipeline = Pipeline(\n",
    "    stages=[\n",
    "        documenter,\n",
    "        sentence_detector,\n",
    "        sentence_embeddings,\n",
    "        summarizer\n",
    "        ])\n",
    "\n",
    "model = pipeline.fit(spark.createDataFrame([[\"\"]]).toDF(\"text\"))\n",
    "\n",
    "light_model = LightPipeline(model)"
   ]
  },
  {
   "cell_type": "code",
   "execution_count": null,
   "metadata": {
    "application/vnd.databricks.v1+cell": {
     "cellMetadata": {
      "byteLimit": 2048000,
      "rowLimit": 10000
     },
     "inputWidgets": {},
     "nuid": "a5d4f343-2fbf-4276-838d-52d8aa922e72",
     "showTitle": false,
     "title": ""
    }
   },
   "outputs": [
    {
     "data": {
      "text/html": [
       "<style scoped>\n",
       "  .ansiout {\n",
       "    display: block;\n",
       "    unicode-bidi: embed;\n",
       "    white-space: pre-wrap;\n",
       "    word-wrap: break-word;\n",
       "    word-break: break-all;\n",
       "    font-family: \"Source Code Pro\", \"Menlo\", monospace;;\n",
       "    font-size: 13px;\n",
       "    color: #555;\n",
       "    margin-left: 4px;\n",
       "    line-height: 19px;\n",
       "  }\n",
       "</style>\n",
       "<div class=\"ansiout\">Out[25]: [&#39;Residual disease after initial surgery for ovarian cancer is the strongest prognostic factor for survival. However, the extent of surgical resection required to achieve optimal cytoreduction is controversial. Our goal was to estimate the effect of aggressive surgical resection on ovarian cancer patient survival.\\nA retrospective cohort study of consecutive patients with International Federation of Gynecology and Obstetrics stage IIIC ovarian cancer undergoing primary surgery was conducted between January 1, 1994, and December 31, 1998. The main outcome measures were residual disease after cytoreduction, frequency of radical surgical resection, and 5-year disease-specific survival.\\nThe study comprised 194 patients, including 144 with carcinomatosis. The mean patient age and follow-up time were 64.4 and 3.5 years, respectively. After surgery, 131 (67.5%) of the 194 patients had less than 1 cm of residual disease (definition of optimal cytoreduction). Considering all patients, residual disease was the only independent predictor of survival; the need to perform radical procedures to achieve optimal cytoreduction was not associated with a decrease in survival. For the subgroup of patients with carcinomatosis, residual disease and the performance of radical surgical procedures were the only independent predictors. Disease-specific survival was markedly improved for patients with carcinomatosis operated on by surgeons who most frequently used radical procedures compared with those least likely to use radical procedures (44% versus 17%, P &lt; .001). Overall, residual disease was the only independent predictor of survival. Minimizing residual disease through aggressive surgical resection was beneficial, especially in patients with carcinomatosis.&#39;]</div>"
      ]
     },
     "metadata": {
      "application/vnd.databricks.v1+output": {
       "addedWidgets": {},
       "arguments": {},
       "data": "<div class=\"ansiout\">Out[25]: [&#39;Residual disease after initial surgery for ovarian cancer is the strongest prognostic factor for survival. However, the extent of surgical resection required to achieve optimal cytoreduction is controversial. Our goal was to estimate the effect of aggressive surgical resection on ovarian cancer patient survival.\\nA retrospective cohort study of consecutive patients with International Federation of Gynecology and Obstetrics stage IIIC ovarian cancer undergoing primary surgery was conducted between January 1, 1994, and December 31, 1998. The main outcome measures were residual disease after cytoreduction, frequency of radical surgical resection, and 5-year disease-specific survival.\\nThe study comprised 194 patients, including 144 with carcinomatosis. The mean patient age and follow-up time were 64.4 and 3.5 years, respectively. After surgery, 131 (67.5%) of the 194 patients had less than 1 cm of residual disease (definition of optimal cytoreduction). Considering all patients, residual disease was the only independent predictor of survival; the need to perform radical procedures to achieve optimal cytoreduction was not associated with a decrease in survival. For the subgroup of patients with carcinomatosis, residual disease and the performance of radical surgical procedures were the only independent predictors. Disease-specific survival was markedly improved for patients with carcinomatosis operated on by surgeons who most frequently used radical procedures compared with those least likely to use radical procedures (44% versus 17%, P &lt; .001). Overall, residual disease was the only independent predictor of survival. Minimizing residual disease through aggressive surgical resection was beneficial, especially in patients with carcinomatosis.&#39;]</div>",
       "datasetInfos": [],
       "metadata": {},
       "removedWidgets": [],
       "type": "html"
      }
     },
     "output_type": "display_data"
    }
   ],
   "source": [
    "light_result = light_model.annotate(text)\n",
    "light_result[\"summaries\"]"
   ]
  },
  {
   "attachments": {},
   "cell_type": "markdown",
   "metadata": {
    "application/vnd.databricks.v1+cell": {
     "cellMetadata": {
      "byteLimit": 2048000,
      "rowLimit": 10000
     },
     "inputWidgets": {},
     "nuid": "31056edd-ecd4-4f1c-bfbd-aa778f63d2b1",
     "showTitle": false,
     "title": ""
    }
   },
   "source": [
    "# 📍 Two-Stage Text Summarization : Extractive methods & Abstractive methods"
   ]
  },
  {
   "attachments": {},
   "cell_type": "markdown",
   "metadata": {
    "application/vnd.databricks.v1+cell": {
     "cellMetadata": {},
     "inputWidgets": {},
     "nuid": "efa61bf8-d3bf-4f8e-9a82-afb1cd72da93",
     "showTitle": false,
     "title": ""
    }
   },
   "source": [
    "✔︎ When working with extensive texts, our primary objective is to extract the most pertinent and significant information embedded within. To achieve this, we initially employ the 'ExtractiveSummarization' approach, which selects the most important sentences while preserving the original context and factual accuracy of the text. This step effectively strips the text of superfluous details while retaining key information. Subsequently, this condensed text, distilled to its most vital sentences, is input into our 'Medical Summarizer' model. This model further abbreviates the text within a medical context, enabling us to generate a manageable and contextually accurate summarization of extensive medical documents. This two-tier approach facilitates maximum information extraction from texts and captures the essence of medical texts more efficiently and swiftly."
   ]
  },
  {
   "attachments": {},
   "cell_type": "markdown",
   "metadata": {
    "application/vnd.databricks.v1+cell": {
     "cellMetadata": {
      "byteLimit": 2048000,
      "rowLimit": 10000
     },
     "inputWidgets": {},
     "nuid": "23ca7946-75b4-40d1-9185-2ba0d8a2c0ea",
     "showTitle": false,
     "title": ""
    }
   },
   "source": [
    "➤ So, to illustrate our two-step approach, let's consider an example:"
   ]
  },
  {
   "cell_type": "code",
   "execution_count": null,
   "metadata": {
    "application/vnd.databricks.v1+cell": {
     "cellMetadata": {
      "byteLimit": 2048000,
      "rowLimit": 10000
     },
     "inputWidgets": {},
     "nuid": "c8b38f3d-a63d-4141-86bc-39387a92aad5",
     "showTitle": false,
     "title": ""
    }
   },
   "outputs": [
    {
     "data": {
      "text/html": [
       "<style scoped>\n",
       "  .ansiout {\n",
       "    display: block;\n",
       "    unicode-bidi: embed;\n",
       "    white-space: pre-wrap;\n",
       "    word-wrap: break-word;\n",
       "    word-break: break-all;\n",
       "    font-family: \"Source Code Pro\", \"Menlo\", monospace;;\n",
       "    font-size: 13px;\n",
       "    color: #555;\n",
       "    margin-left: 4px;\n",
       "    line-height: 19px;\n",
       "  }\n",
       "</style>\n",
       "<div class=\"ansiout\">sentence_detector_dl download started this may take some time.\n",
       "Approximate size to download 354.6 KB\n",
       "\r[ | ]\r[OK!]\n",
       "sent_small_bert_L2_128 download started this may take some time.\n",
       "Approximate size to download 16.1 MB\n",
       "\r[ | ]\r[OK!]\n",
       "summarizer_biomedical_pubmed download started this may take some time.\n",
       "\r[ | ]\r[ / ]\r[ — ]\r[ \\ ]\r[ | ]\r[ / ]\r[ — ]\r[ \\ ]\r[ | ]\r[ / ]\r[ — ]\r[ \\ ]\r[ | ]\r[ / ]\r[ — ]\r[ \\ ]\r[ | ]\r[ / ]\r[ — ]\r[ \\ ]\r[ | ]\r[ / ]\r[ — ]\r[ \\ ]\r[ | ]\r[ / ]\r[ — ]\r[ \\ ]\r[ | ]\r[ / ]\r[ — ]\r[ \\ ]\r[ | ]\r[ / ]\r[ — ]\r[OK!]\n",
       "</div>"
      ]
     },
     "metadata": {
      "application/vnd.databricks.v1+output": {
       "addedWidgets": {},
       "arguments": {},
       "data": "<div class=\"ansiout\">sentence_detector_dl download started this may take some time.\nApproximate size to download 354.6 KB\n\r[ | ]\r[OK!]\nsent_small_bert_L2_128 download started this may take some time.\nApproximate size to download 16.1 MB\n\r[ | ]\r[OK!]\nsummarizer_biomedical_pubmed download started this may take some time.\n\r[ | ]\r[ / ]\r[ — ]\r[ \\ ]\r[ | ]\r[ / ]\r[ — ]\r[ \\ ]\r[ | ]\r[ / ]\r[ — ]\r[ \\ ]\r[ | ]\r[ / ]\r[ — ]\r[ \\ ]\r[ | ]\r[ / ]\r[ — ]\r[ \\ ]\r[ | ]\r[ / ]\r[ — ]\r[ \\ ]\r[ | ]\r[ / ]\r[ — ]\r[ \\ ]\r[ | ]\r[ / ]\r[ — ]\r[ \\ ]\r[ | ]\r[ / ]\r[ — ]\r[OK!]\n</div>",
       "datasetInfos": [],
       "metadata": {},
       "removedWidgets": [],
       "type": "html"
      }
     },
     "output_type": "display_data"
    }
   ],
   "source": [
    "documenter = DocumentAssembler() \\\n",
    "    .setInputCol(\"text\")\\\n",
    "    .setOutputCol(\"documents\")\n",
    "\n",
    "sentence_detector = SentenceDetectorDLModel() \\\n",
    "    .pretrained()\\\n",
    "    .setInputCols(\"documents\") \\\n",
    "    .setOutputCol(\"sentences\")\n",
    "\n",
    "sentence_embeddings = BertSentenceEmbeddings()\\\n",
    "    .pretrained(\"sent_small_bert_L2_128\")\\\n",
    "    .setInputCols([\"sentences\"])\\\n",
    "    .setOutputCol(\"sentence_embeddings\")\n",
    "    \n",
    "summarizer = ExtractiveSummarization()\\\n",
    "    .setInputCols([\"sentences\", \"sentence_embeddings\"])\\\n",
    "    .setOutputCol(\"extractive_summaries\")\\\n",
    "    .setSummarySize(12)\\\n",
    "    .setSimilarityThreshold(0.5)\\\n",
    "    .setReturnSingleDocument(True)\n",
    "\n",
    "medical_summarizer = MedicalSummarizer.pretrained(\"summarizer_biomedical_pubmed\", \"en\", \"clinical/models\")\\\n",
    "    .setInputCols([\"extractive_summaries\"])\\\n",
    "    .setOutputCol(\"medical_summaries\")\\\n",
    "    .setMaxTextLength(768)\\\n",
    "    .setMaxNewTokens(512)\\\n",
    "    .setDoSample(True)\\\n",
    "    .setRefineSummary(True)\\\n",
    "    .setRefineSummaryTargetLength(100)\\\n",
    "    .setRefineMaxAttempts(3)\\\n",
    "    .setRefineChunkSize(512)\n",
    "\n",
    "pipeline = Pipeline(\n",
    "    stages=[\n",
    "        documenter,\n",
    "        sentence_detector,\n",
    "        sentence_embeddings,\n",
    "        summarizer,\n",
    "        medical_summarizer\n",
    "        ])\n",
    "\n",
    "model = pipeline.fit(spark.createDataFrame([[\"\"]]).toDF(\"text\"))\n",
    "\n",
    "light_model = LightPipeline(model)"
   ]
  },
  {
   "cell_type": "code",
   "execution_count": null,
   "metadata": {
    "application/vnd.databricks.v1+cell": {
     "cellMetadata": {
      "byteLimit": 2048000,
      "rowLimit": 10000
     },
     "inputWidgets": {},
     "nuid": "4c938679-f1c4-4c3c-9755-f99ced3c501e",
     "showTitle": false,
     "title": ""
    }
   },
   "outputs": [
    {
     "data": {
      "text/html": [
       "<style scoped>\n",
       "  .ansiout {\n",
       "    display: block;\n",
       "    unicode-bidi: embed;\n",
       "    white-space: pre-wrap;\n",
       "    word-wrap: break-word;\n",
       "    word-break: break-all;\n",
       "    font-family: \"Source Code Pro\", \"Menlo\", monospace;;\n",
       "    font-size: 13px;\n",
       "    color: #555;\n",
       "    margin-left: 4px;\n",
       "    line-height: 19px;\n",
       "  }\n",
       "</style>\n",
       "<div class=\"ansiout\"></div>"
      ]
     },
     "metadata": {
      "application/vnd.databricks.v1+output": {
       "addedWidgets": {},
       "arguments": {},
       "data": "<div class=\"ansiout\"></div>",
       "datasetInfos": [],
       "metadata": {},
       "removedWidgets": [],
       "type": "html"
      }
     },
     "output_type": "display_data"
    }
   ],
   "source": [
    "text = \"\"\"Cancer continues to be one of the leading causes of death globally, despite advancements in our understanding of its biology and the development of more effective treatments. It's a complex disease with various types and subtypes, each characterized by rapid cell growth and the ability to invade other tissues.\n",
    "\n",
    "Over the years, research has revealed that cancer is fundamentally a genetic disease, driven by mutations in the DNA. These mutations can be inherited or acquired, and they disrupt the normal regulation of cell growth, leading to uncontrolled proliferation and eventually tumor formation. Common genes associated with cancer, known as oncogenes and tumor suppressor genes, have been identified and extensively studied, providing valuable insights into the molecular mechanisms of cancer and leading to the development of targeted therapies.\n",
    "\n",
    "Yet, the fight against cancer is far from over. The disease's complexity, along with its ability to adapt and evolve, poses significant challenges to treatment. Many cancers develop resistance to therapy, and metastatic disease - where the cancer spreads to other parts of the body - remains hard to treat.\n",
    "\n",
    "One promising area of research is immunotherapy, which involves harnessing the power of the immune system to fight cancer. Several immunotherapies, including immune checkpoint inhibitors and CAR-T cell therapy, have shown remarkable success in treating certain types of cancer. However, they are not effective for all patients and can cause serious side effects, highlighting the need for further research.\n",
    "\n",
    "Moreover, early detection of cancer significantly increases the chances of successful treatment. As such, there is a great deal of interest in developing more accurate and reliable methods for early cancer detection, such as liquid biopsy and novel imaging technologies.\n",
    "\n",
    "Cancer research is a highly active field with rapid advancements. Continued research and innovation, driven by a deeper understanding of cancer biology, are crucial to developing more effective strategies for prevention, detection, and treatment of this formidable disease.\"\"\""
   ]
  },
  {
   "cell_type": "code",
   "execution_count": null,
   "metadata": {
    "application/vnd.databricks.v1+cell": {
     "cellMetadata": {
      "byteLimit": 2048000,
      "rowLimit": 10000
     },
     "inputWidgets": {},
     "nuid": "58936fb1-61df-45b2-aeb7-44f090660cc6",
     "showTitle": false,
     "title": ""
    }
   },
   "outputs": [
    {
     "data": {
      "text/html": [
       "<style scoped>\n",
       "  .ansiout {\n",
       "    display: block;\n",
       "    unicode-bidi: embed;\n",
       "    white-space: pre-wrap;\n",
       "    word-wrap: break-word;\n",
       "    word-break: break-all;\n",
       "    font-family: \"Source Code Pro\", \"Menlo\", monospace;;\n",
       "    font-size: 13px;\n",
       "    color: #555;\n",
       "    margin-left: 4px;\n",
       "    line-height: 19px;\n",
       "  }\n",
       "</style>\n",
       "<div class=\"ansiout\"></div>"
      ]
     },
     "metadata": {
      "application/vnd.databricks.v1+output": {
       "addedWidgets": {},
       "arguments": {},
       "data": "<div class=\"ansiout\"></div>",
       "datasetInfos": [],
       "metadata": {},
       "removedWidgets": [],
       "type": "html"
      }
     },
     "output_type": "display_data"
    }
   ],
   "source": [
    "light_result = light_model.annotate(text)"
   ]
  },
  {
   "cell_type": "code",
   "execution_count": null,
   "metadata": {
    "application/vnd.databricks.v1+cell": {
     "cellMetadata": {
      "byteLimit": 2048000,
      "rowLimit": 10000
     },
     "inputWidgets": {},
     "nuid": "252a1d89-784d-4f73-8246-8b2e435a1d86",
     "showTitle": false,
     "title": ""
    }
   },
   "outputs": [
    {
     "data": {
      "text/html": [
       "<style scoped>\n",
       "  .ansiout {\n",
       "    display: block;\n",
       "    unicode-bidi: embed;\n",
       "    white-space: pre-wrap;\n",
       "    word-wrap: break-word;\n",
       "    word-break: break-all;\n",
       "    font-family: \"Source Code Pro\", \"Menlo\", monospace;;\n",
       "    font-size: 13px;\n",
       "    color: #555;\n",
       "    margin-left: 4px;\n",
       "    line-height: 19px;\n",
       "  }\n",
       "</style>\n",
       "<div class=\"ansiout\">Out[31]: [&#34;These mutations can be inherited or acquired, and they disrupt the normal regulation of cell growth, leading to uncontrolled proliferation and eventually tumor formation. Common genes associated with cancer, known as oncogenes and tumor suppressor genes, have been identified and extensively studied, providing valuable insights into the molecular mechanisms of cancer and leading to the development of targeted therapies. Yet, the fight against cancer is far from over. The disease&#39;s complexity, along with its ability to adapt and evolve, poses significant challenges to treatment. Many cancers develop resistance to therapy, and metastatic disease - where the cancer spreads to other parts of the body - remains hard to treat. One promising area of research is immunotherapy, which involves harnessing the power of the immune system to fight cancer. Several immunotherapies, including immune checkpoint inhibitors and CAR-T cell therapy, have shown remarkable success in treating certain types of cancer. However, they are not effective for all patients and can cause serious side effects, highlighting the need for further research. Moreover, early detection of cancer significantly increases the chances of successful treatment. As such, there is a great deal of interest in developing more accurate and reliable methods for early cancer detection, such as liquid biopsy and novel imaging technologies. Cancer research is a highly active field with rapid advancements. Continued research and innovation, driven by a deeper understanding of cancer biology, are crucial to developing more effective strategies for prevention, detection, and treatment of this formidable disease.&#34;]</div>"
      ]
     },
     "metadata": {
      "application/vnd.databricks.v1+output": {
       "addedWidgets": {},
       "arguments": {},
       "data": "<div class=\"ansiout\">Out[31]: [&#34;These mutations can be inherited or acquired, and they disrupt the normal regulation of cell growth, leading to uncontrolled proliferation and eventually tumor formation. Common genes associated with cancer, known as oncogenes and tumor suppressor genes, have been identified and extensively studied, providing valuable insights into the molecular mechanisms of cancer and leading to the development of targeted therapies. Yet, the fight against cancer is far from over. The disease&#39;s complexity, along with its ability to adapt and evolve, poses significant challenges to treatment. Many cancers develop resistance to therapy, and metastatic disease - where the cancer spreads to other parts of the body - remains hard to treat. One promising area of research is immunotherapy, which involves harnessing the power of the immune system to fight cancer. Several immunotherapies, including immune checkpoint inhibitors and CAR-T cell therapy, have shown remarkable success in treating certain types of cancer. However, they are not effective for all patients and can cause serious side effects, highlighting the need for further research. Moreover, early detection of cancer significantly increases the chances of successful treatment. As such, there is a great deal of interest in developing more accurate and reliable methods for early cancer detection, such as liquid biopsy and novel imaging technologies. Cancer research is a highly active field with rapid advancements. Continued research and innovation, driven by a deeper understanding of cancer biology, are crucial to developing more effective strategies for prevention, detection, and treatment of this formidable disease.&#34;]</div>",
       "datasetInfos": [],
       "metadata": {},
       "removedWidgets": [],
       "type": "html"
      }
     },
     "output_type": "display_data"
    }
   ],
   "source": [
    "# Result of ExtractiveSummarization\n",
    "light_result[\"extractive_summaries\"]"
   ]
  },
  {
   "cell_type": "code",
   "execution_count": null,
   "metadata": {
    "application/vnd.databricks.v1+cell": {
     "cellMetadata": {
      "byteLimit": 2048000,
      "rowLimit": 10000
     },
     "inputWidgets": {},
     "nuid": "870d2fac-46ad-4ec3-a4ed-5d89586cafbf",
     "showTitle": false,
     "title": ""
    }
   },
   "outputs": [
    {
     "data": {
      "text/html": [
       "<style scoped>\n",
       "  .ansiout {\n",
       "    display: block;\n",
       "    unicode-bidi: embed;\n",
       "    white-space: pre-wrap;\n",
       "    word-wrap: break-word;\n",
       "    word-break: break-all;\n",
       "    font-family: \"Source Code Pro\", \"Menlo\", monospace;;\n",
       "    font-size: 13px;\n",
       "    color: #555;\n",
       "    margin-left: 4px;\n",
       "    line-height: 19px;\n",
       "  }\n",
       "</style>\n",
       "<div class=\"ansiout\">Out[32]: [&#39;Several new and promising methods for early cancer detection have been identified. The number, type and frequency mutation patterns associated in these new therapies is increasing and the number and quality settings of new therapies is increasing as well as the size and duration. The potential of this development for new therapies is not fully established and the number of people currently receiving treatment has increased significantly since the early 2000s, although the cancer burden is increasing. The number and type of new drugs and the quality and quantity are still unclear.&#39;]</div>"
      ]
     },
     "metadata": {
      "application/vnd.databricks.v1+output": {
       "addedWidgets": {},
       "arguments": {},
       "data": "<div class=\"ansiout\">Out[32]: [&#39;Several new and promising methods for early cancer detection have been identified. The number, type and frequency mutation patterns associated in these new therapies is increasing and the number and quality settings of new therapies is increasing as well as the size and duration. The potential of this development for new therapies is not fully established and the number of people currently receiving treatment has increased significantly since the early 2000s, although the cancer burden is increasing. The number and type of new drugs and the quality and quantity are still unclear.&#39;]</div>",
       "datasetInfos": [],
       "metadata": {},
       "removedWidgets": [],
       "type": "html"
      }
     },
     "output_type": "display_data"
    }
   ],
   "source": [
    "# Result of MedicalSummarization\n",
    "light_result[\"medical_summaries\"]"
   ]
  },
  {
   "attachments": {},
   "cell_type": "markdown",
   "metadata": {
    "application/vnd.databricks.v1+cell": {
     "cellMetadata": {
      "byteLimit": 2048000,
      "rowLimit": 10000
     },
     "inputWidgets": {},
     "nuid": "315b6252-2404-4c73-9228-c1e3b1813178",
     "showTitle": false,
     "title": ""
    }
   },
   "source": [
    "# 📍 Comparing Map-Reduce Based MedicalSummarizer and Extractive Summarization"
   ]
  },
  {
   "cell_type": "code",
   "execution_count": null,
   "metadata": {
    "application/vnd.databricks.v1+cell": {
     "cellMetadata": {
      "byteLimit": 2048000,
      "rowLimit": 10000
     },
     "inputWidgets": {},
     "nuid": "e27aa8a6-f7dd-4a96-b06a-6ce3b821df2f",
     "showTitle": false,
     "title": ""
    }
   },
   "outputs": [
    {
     "data": {
      "text/html": [
       "<style scoped>\n",
       "  .ansiout {\n",
       "    display: block;\n",
       "    unicode-bidi: embed;\n",
       "    white-space: pre-wrap;\n",
       "    word-wrap: break-word;\n",
       "    word-break: break-all;\n",
       "    font-family: \"Source Code Pro\", \"Menlo\", monospace;;\n",
       "    font-size: 13px;\n",
       "    color: #555;\n",
       "    margin-left: 4px;\n",
       "    line-height: 19px;\n",
       "  }\n",
       "</style>\n",
       "<div class=\"ansiout\"></div>"
      ]
     },
     "metadata": {
      "application/vnd.databricks.v1+output": {
       "addedWidgets": {},
       "arguments": {},
       "data": "<div class=\"ansiout\"></div>",
       "datasetInfos": [],
       "metadata": {},
       "removedWidgets": [],
       "type": "html"
      }
     },
     "output_type": "display_data"
    }
   ],
   "source": [
    "text = \"\"\"Medical Specialty: Gastroenterology, Sample Name: Wound Check - Status Post APR\n",
    "Description: This is a pleasant 50-year-old female who has undergone an APR secondary to refractory ulcerative colitis. Overall, her quality of life has significantly improved since she had her APR. She is functioning well with her ileostomy. (Medical Transcription Sample Report)\n",
    "\n",
    "HISTORY OF PRESENT ILLNESS: Ms. Connor is a 50-year-old female who returns to clinic for a wound check. The patient underwent an APR secondary to refractory ulcerative colitis. Subsequently, she developed a wound infection, which has since healed. On our most recent visit to our clinic, she has her perineal stitches removed and presents today for followup of her perineal wound. She describes no drainage or erythema from her bottom. She is having good ostomy output. She does not describe any fevers, chills, nausea, or vomiting. The patient does describe some intermittent pain beneath the upper portion of the incision as well as in the right lower quadrant below her ostomy. She has been taking Percocet for this pain and it does work. She has since run out has been trying extra strength Tylenol, which will occasionally help this intermittent pain. She is requesting additional pain medications for this occasional abdominal pain, which she still experiences.\n",
    "\n",
    "PHYSICAL EXAMINATION: Temperature 95.8, pulse 68, blood pressure 132/73, and weight 159 pounds. This is a pleasant female in no acute distress. The patient's abdomen is soft, nontender, nondistended with a well-healed midline scar. There is an ileostomy in the right hemiabdomen, which is pink, patent, productive, and protuberant. There are no signs of masses or hernias over the patient's abdomen.\n",
    "\n",
    "ASSESSMENT AND PLAN: This is a pleasant 50-year-old female who has undergone an APR secondary to refractory ulcerative colitis. Overall, her quality of life has significantly improved since she had her APR. She is functioning well with her ileostomy. She did have concerns or questions about her diet and we discussed the BRAT diet, which consisted of foods that would slow down the digestive tract such as bananas, rice, toast, cheese, and peanut butter. I discussed the need to monitor her ileostomy output and preferential amount of daily output is 2 liters or less. I have counseled her on refraining from soft drinks and fruit drinks. I have also discussed with her that this diet is moreover a trial and error and that she may try certain foods that did not agree with her ileostomy, however others may and that this is something she will just have to perform trials with over the next several months until she finds what foods that she can and cannot eat with her ileostomy. She also had questions about her occasional abdominal pain. I told her that this was probably continue to improve as months went by and I gave her a refill of her Percocet for the continued occasional pain. I told her that this would the last time I would refill the Percocet and if she has continued pain after she finishes this bottle then she would need to start ibuprofen or Tylenol if she had continued pain. The patient then brought up some right hand and arm numbness, which has been there postsurgically and was thought to be from positioning during surgery. This is all primarily gone away except for a little bit of numbness at the tip of the third digit as well as some occasional forearm muscle cramping. I told her that I felt that this would continue to improve as it has done over the past two months since her surgery. I told her to continue doing hand exercises as she has been doing and this seems to be working for her. Overall, I think she has healed from her surgery and is doing very well. Again, her quality of life is significantly improved. She is happy with her performance. We will see her back in six months just for a general routine checkup and see how she is doing at that time.\"\"\""
   ]
  },
  {
   "attachments": {},
   "cell_type": "markdown",
   "metadata": {
    "application/vnd.databricks.v1+cell": {
     "cellMetadata": {},
     "inputWidgets": {},
     "nuid": "df4ac6f4-b649-4939-802f-29fa0e5c46e5",
     "showTitle": false,
     "title": ""
    }
   },
   "source": [
    "## ➮ Map-Reduce Based MedicalSummarizer"
   ]
  },
  {
   "attachments": {},
   "cell_type": "markdown",
   "metadata": {
    "application/vnd.databricks.v1+cell": {
     "cellMetadata": {},
     "inputWidgets": {},
     "nuid": "8df921d0-93be-4f9f-bad5-4c4de8ddb0bc",
     "showTitle": false,
     "title": ""
    }
   },
   "source": [
    "✔︎ Our MedicalSummarizer model, in conjunction with the Map-Reduce Approach parameters, generates a more abstract summary that rephrases and rewrites the text to condense it further and take up less space. This helps in making the summary more comprehensible and manageable."
   ]
  },
  {
   "cell_type": "code",
   "execution_count": null,
   "metadata": {
    "application/vnd.databricks.v1+cell": {
     "cellMetadata": {
      "byteLimit": 2048000,
      "rowLimit": 10000
     },
     "inputWidgets": {},
     "nuid": "85f48ca8-a8e0-456d-8165-fecc571dc23c",
     "showTitle": false,
     "title": ""
    }
   },
   "outputs": [
    {
     "data": {
      "text/html": [
       "<style scoped>\n",
       "  .ansiout {\n",
       "    display: block;\n",
       "    unicode-bidi: embed;\n",
       "    white-space: pre-wrap;\n",
       "    word-wrap: break-word;\n",
       "    word-break: break-all;\n",
       "    font-family: \"Source Code Pro\", \"Menlo\", monospace;;\n",
       "    font-size: 13px;\n",
       "    color: #555;\n",
       "    margin-left: 4px;\n",
       "    line-height: 19px;\n",
       "  }\n",
       "</style>\n",
       "<div class=\"ansiout\">summarizer_clinical_jsl_augmented download started this may take some time.\n",
       "\r[ | ]\r[ / ]\r[ — ]\r[ \\ ]\r[ | ]\r[ / ]\r[ — ]\r[ \\ ]\r[ | ]\r[ / ]\r[ — ]\r[ \\ ]\r[ | ]\r[ / ]\r[ — ]\r[ \\ ]\r[ | ]\r[ / ]\r[ — ]\r[ \\ ]\r[ | ]\r[ / ]\r[ — ]\r[ \\ ]\r[ | ]\r[ / ]\r[ — ]\r[ \\ ]\r[ | ]\r[ / ]\r[ — ]\r[ \\ ]\r[ | ]\r[ / ]\r[ — ]\r[ \\ ]\r[ | ]\r[ / ]\r[ — ]\r[ \\ ]\r[ | ]\r[ / ]\r[ — ]\r[ \\ ]\r[ | ]\r[ / ]\r[ — ]\r[ \\ ]\r[ | ]\r[ / ]\r[ — ]\r[ \\ ]\r[ | ]\r[ / ]\r[ — ]\r[ \\ ]\r[ | ]\r[ / ]\r[ — ]\r[ \\ ]\r[ | ]\r[ / ]\r[ — ]\r[ \\ ]\r[OK!]\n",
       "</div>"
      ]
     },
     "metadata": {
      "application/vnd.databricks.v1+output": {
       "addedWidgets": {},
       "arguments": {},
       "data": "<div class=\"ansiout\">summarizer_clinical_jsl_augmented download started this may take some time.\n\r[ | ]\r[ / ]\r[ — ]\r[ \\ ]\r[ | ]\r[ / ]\r[ — ]\r[ \\ ]\r[ | ]\r[ / ]\r[ — ]\r[ \\ ]\r[ | ]\r[ / ]\r[ — ]\r[ \\ ]\r[ | ]\r[ / ]\r[ — ]\r[ \\ ]\r[ | ]\r[ / ]\r[ — ]\r[ \\ ]\r[ | ]\r[ / ]\r[ — ]\r[ \\ ]\r[ | ]\r[ / ]\r[ — ]\r[ \\ ]\r[ | ]\r[ / ]\r[ — ]\r[ \\ ]\r[ | ]\r[ / ]\r[ — ]\r[ \\ ]\r[ | ]\r[ / ]\r[ — ]\r[ \\ ]\r[ | ]\r[ / ]\r[ — ]\r[ \\ ]\r[ | ]\r[ / ]\r[ — ]\r[ \\ ]\r[ | ]\r[ / ]\r[ — ]\r[ \\ ]\r[ | ]\r[ / ]\r[ — ]\r[ \\ ]\r[ | ]\r[ / ]\r[ — ]\r[ \\ ]\r[OK!]\n</div>",
       "datasetInfos": [],
       "metadata": {},
       "removedWidgets": [],
       "type": "html"
      }
     },
     "output_type": "display_data"
    }
   ],
   "source": [
    "document_assembler = DocumentAssembler()\\\n",
    "            .setInputCol('text')\\\n",
    "            .setOutputCol('document')\n",
    "\n",
    "summarizer = MedicalSummarizer.pretrained(\"summarizer_clinical_jsl_augmented\", \"en\", \"clinical/models\")\\\n",
    "            .setInputCols([\"document\"])\\\n",
    "            .setOutputCol(\"summary\")\\\n",
    "            .setMaxTextLength(768)\\\n",
    "            .setMaxNewTokens(512)\\\n",
    "            .setDoSample(True)\\\n",
    "            .setRefineSummary(True)\\\n",
    "            .setRefineSummaryTargetLength(100)\\\n",
    "            .setRefineMaxAttempts(3)\\\n",
    "            .setRefineChunkSize(512)\\\n",
    "            \n",
    "pipeline = Pipeline(stages=[\n",
    "            document_assembler,\n",
    "            summarizer])\n",
    "\n",
    "model = pipeline.fit(spark.createDataFrame([[\"\"]]).toDF(\"text\"))\n",
    "light_model = LightPipeline(model)"
   ]
  },
  {
   "cell_type": "code",
   "execution_count": null,
   "metadata": {
    "application/vnd.databricks.v1+cell": {
     "cellMetadata": {
      "byteLimit": 2048000,
      "rowLimit": 10000
     },
     "inputWidgets": {},
     "nuid": "e855c424-3946-48c4-9bc8-1ebb469f4ea9",
     "showTitle": false,
     "title": ""
    }
   },
   "outputs": [
    {
     "data": {
      "text/html": [
       "<style scoped>\n",
       "  .ansiout {\n",
       "    display: block;\n",
       "    unicode-bidi: embed;\n",
       "    white-space: pre-wrap;\n",
       "    word-wrap: break-word;\n",
       "    word-break: break-all;\n",
       "    font-family: \"Source Code Pro\", \"Menlo\", monospace;;\n",
       "    font-size: 13px;\n",
       "    color: #555;\n",
       "    margin-left: 4px;\n",
       "    line-height: 19px;\n",
       "  }\n",
       "</style>\n",
       "<div class=\"ansiout\">Out[19]: [&#39;An invasive colony with ulcerating Cocci disease returned with followup of wound and improved gastrointestinal function but experienced persistent osimal discomfort and Pain. She has been prescribed a ILEostO and ilbulator for occasional discomfort, followed by monitoring and refills of PerCocet for painfulness. A routine check was performed to determine underlying causes and prescribe hands and movements. Hand movements and hands were also recommended, and recur in six weeks. The reason for the discomfort was probably from position during surgery, but hand exercises were encouraged to improve the condition and maintaining symptom relief.&#39;]</div>"
      ]
     },
     "metadata": {
      "application/vnd.databricks.v1+output": {
       "addedWidgets": {},
       "arguments": {},
       "data": "<div class=\"ansiout\">Out[19]: [&#39;An invasive colony with ulcerating Cocci disease returned with followup of wound and improved gastrointestinal function but experienced persistent osimal discomfort and Pain. She has been prescribed a ILEostO and ilbulator for occasional discomfort, followed by monitoring and refills of PerCocet for painfulness. A routine check was performed to determine underlying causes and prescribe hands and movements. Hand movements and hands were also recommended, and recur in six weeks. The reason for the discomfort was probably from position during surgery, but hand exercises were encouraged to improve the condition and maintaining symptom relief.&#39;]</div>",
       "datasetInfos": [],
       "metadata": {},
       "removedWidgets": [],
       "type": "html"
      }
     },
     "output_type": "display_data"
    }
   ],
   "source": [
    "light_result = light_model.annotate(text)\n",
    "light_result[\"summary\"]"
   ]
  },
  {
   "attachments": {},
   "cell_type": "markdown",
   "metadata": {
    "application/vnd.databricks.v1+cell": {
     "cellMetadata": {},
     "inputWidgets": {},
     "nuid": "377fec2d-83e6-4546-b334-0413e0719cac",
     "showTitle": false,
     "title": ""
    }
   },
   "source": [
    "## ➮ Extractive Summarization"
   ]
  },
  {
   "attachments": {},
   "cell_type": "markdown",
   "metadata": {
    "application/vnd.databricks.v1+cell": {
     "cellMetadata": {},
     "inputWidgets": {},
     "nuid": "c39cf20e-3217-434b-b327-9f082e1986cf",
     "showTitle": false,
     "title": ""
    }
   },
   "source": [
    "✔︎ Extractive Summarization formulates a summary by identifying and extracting the most pertinent sentences from the source text. Rather than generating new content, the selected sentences maintain their original form and structure. The advantage of this method lies in its prioritization of factual accuracy by preserving the original context of the information. It also has a lower tendency to produce misleading or incorrect information since it utilizes direct portions of the text. This is particularly valuable in summarizing sensitive and complex documents, such as medical texts."
   ]
  },
  {
   "cell_type": "code",
   "execution_count": null,
   "metadata": {
    "application/vnd.databricks.v1+cell": {
     "cellMetadata": {
      "byteLimit": 2048000,
      "rowLimit": 10000
     },
     "inputWidgets": {},
     "nuid": "47f21d7b-ce6f-4127-8452-8e18010b2412",
     "showTitle": false,
     "title": ""
    }
   },
   "outputs": [
    {
     "data": {
      "text/html": [
       "<style scoped>\n",
       "  .ansiout {\n",
       "    display: block;\n",
       "    unicode-bidi: embed;\n",
       "    white-space: pre-wrap;\n",
       "    word-wrap: break-word;\n",
       "    word-break: break-all;\n",
       "    font-family: \"Source Code Pro\", \"Menlo\", monospace;;\n",
       "    font-size: 13px;\n",
       "    color: #555;\n",
       "    margin-left: 4px;\n",
       "    line-height: 19px;\n",
       "  }\n",
       "</style>\n",
       "<div class=\"ansiout\">sentence_detector_dl download started this may take some time.\n",
       "Approximate size to download 354.6 KB\n",
       "\r[ | ]\r[OK!]\n",
       "sent_small_bert_L2_128 download started this may take some time.\n",
       "Approximate size to download 16.1 MB\n",
       "\r[ | ]\r[OK!]\n",
       "</div>"
      ]
     },
     "metadata": {
      "application/vnd.databricks.v1+output": {
       "addedWidgets": {},
       "arguments": {},
       "data": "<div class=\"ansiout\">sentence_detector_dl download started this may take some time.\nApproximate size to download 354.6 KB\n\r[ | ]\r[OK!]\nsent_small_bert_L2_128 download started this may take some time.\nApproximate size to download 16.1 MB\n\r[ | ]\r[OK!]\n</div>",
       "datasetInfos": [],
       "metadata": {},
       "removedWidgets": [],
       "type": "html"
      }
     },
     "output_type": "display_data"
    }
   ],
   "source": [
    "sentence_detector = SentenceDetectorDLModel() \\\n",
    "    .pretrained()\\\n",
    "    .setInputCols(\"document\") \\\n",
    "    .setOutputCol(\"sentences\")\n",
    "\n",
    "sentence_embeddings = BertSentenceEmbeddings()\\\n",
    "    .pretrained(\"sent_small_bert_L2_128\")\\\n",
    "    .setInputCols([\"sentences\"])\\\n",
    "    .setOutputCol(\"sentence_embeddings\")\n",
    "    \n",
    "summarizer = ExtractiveSummarization()\\\n",
    "    .setInputCols([\"sentences\", \"sentence_embeddings\"])\\\n",
    "    .setOutputCol(\"extractive_summaries\")\\\n",
    "    .setSummarySize(10)\\\n",
    "    .setSimilarityThreshold(0)\\\n",
    "    .setReturnSingleDocument(True)\n",
    "\n",
    "pipeline = Pipeline(stages=[\n",
    "            document_assembler,\n",
    "            sentence_detector,\n",
    "            sentence_embeddings,\n",
    "            summarizer])\n",
    "\n",
    "model = pipeline.fit(spark.createDataFrame([[\"\"]]).toDF(\"text\"))\n",
    "light_model = LightPipeline(model)"
   ]
  },
  {
   "cell_type": "code",
   "execution_count": null,
   "metadata": {
    "application/vnd.databricks.v1+cell": {
     "cellMetadata": {
      "byteLimit": 2048000,
      "rowLimit": 10000
     },
     "inputWidgets": {},
     "nuid": "a3a9e6ae-b5eb-4bff-ad58-6f1c43ca9f9e",
     "showTitle": false,
     "title": ""
    }
   },
   "outputs": [
    {
     "data": {
      "text/html": [
       "<style scoped>\n",
       "  .ansiout {\n",
       "    display: block;\n",
       "    unicode-bidi: embed;\n",
       "    white-space: pre-wrap;\n",
       "    word-wrap: break-word;\n",
       "    word-break: break-all;\n",
       "    font-family: \"Source Code Pro\", \"Menlo\", monospace;;\n",
       "    font-size: 13px;\n",
       "    color: #555;\n",
       "    margin-left: 4px;\n",
       "    line-height: 19px;\n",
       "  }\n",
       "</style>\n",
       "<div class=\"ansiout\">Out[21]: [&#39;She is functioning well with her ileostomy. On our most recent visit to our clinic, she has her perineal stitches removed and presents today for followup of her perineal wound. The patient does describe some intermittent pain beneath the upper portion of the incision as well as in the right lower quadrant below her ostomy. She has been taking Percocet for this pain and it does work. She has since run out has been trying extra strength Tylenol, which will occasionally help this intermittent pain. She is requesting additional pain medications for this occasional abdominal pain, which she still experiences. There is an ileostomy in the right hemiabdomen, which is pink, patent, productive, and protuberant. She is functioning well with her ileostomy. I have also discussed with her that this diet is moreover a trial and error and that she may try certain foods that did not agree with her ileostomy, however others may and that this is something she will just have to perform trials with over the next several months until she finds what foods that she can and cannot eat with her ileostomy. The patient then brought up some right hand and arm numbness, which has been there postsurgically and was thought to be from positioning during surgery.&#39;]</div>"
      ]
     },
     "metadata": {
      "application/vnd.databricks.v1+output": {
       "addedWidgets": {},
       "arguments": {},
       "data": "<div class=\"ansiout\">Out[21]: [&#39;She is functioning well with her ileostomy. On our most recent visit to our clinic, she has her perineal stitches removed and presents today for followup of her perineal wound. The patient does describe some intermittent pain beneath the upper portion of the incision as well as in the right lower quadrant below her ostomy. She has been taking Percocet for this pain and it does work. She has since run out has been trying extra strength Tylenol, which will occasionally help this intermittent pain. She is requesting additional pain medications for this occasional abdominal pain, which she still experiences. There is an ileostomy in the right hemiabdomen, which is pink, patent, productive, and protuberant. She is functioning well with her ileostomy. I have also discussed with her that this diet is moreover a trial and error and that she may try certain foods that did not agree with her ileostomy, however others may and that this is something she will just have to perform trials with over the next several months until she finds what foods that she can and cannot eat with her ileostomy. The patient then brought up some right hand and arm numbness, which has been there postsurgically and was thought to be from positioning during surgery.&#39;]</div>",
       "datasetInfos": [],
       "metadata": {},
       "removedWidgets": [],
       "type": "html"
      }
     },
     "output_type": "display_data"
    }
   ],
   "source": [
    "light_result = light_model.annotate(text)\n",
    "light_result[\"extractive_summaries\"]"
   ]
  },
  {
   "attachments": {},
   "cell_type": "markdown",
   "metadata": {
    "application/vnd.databricks.v1+cell": {
     "cellMetadata": {},
     "inputWidgets": {},
     "nuid": "e356197a-31ff-4ea2-9c07-aafa99fc6e5b",
     "showTitle": false,
     "title": ""
    }
   },
   "source": [
    "📌 While Extractive Summarization provides a more detailed and objective summary by preserving the original context and meaning of the text, MedicalSummarizer, with its map-reduce parameters, compresses the text into a more condensed format to facilitate a broader overview."
   ]
  },
  {
   "attachments": {},
   "cell_type": "markdown",
   "metadata": {
    "application/vnd.databricks.v1+cell": {
     "cellMetadata": {},
     "inputWidgets": {},
     "nuid": "fd2f642e-071a-4c09-960f-96f6c0b4f614",
     "showTitle": false,
     "title": ""
    }
   },
   "source": [
    "# 📍 Medical Text Summarization Comparison"
   ]
  },
  {
   "attachments": {},
   "cell_type": "markdown",
   "metadata": {
    "application/vnd.databricks.v1+cell": {
     "cellMetadata": {},
     "inputWidgets": {},
     "nuid": "26063d37-1039-4283-98ec-01000fc10496",
     "showTitle": false,
     "title": ""
    }
   },
   "source": [
    "## ➮ Spark NLP for Healthcare vs Other SOTA Models"
   ]
  },
  {
   "attachments": {},
   "cell_type": "markdown",
   "metadata": {
    "application/vnd.databricks.v1+cell": {
     "cellMetadata": {},
     "inputWidgets": {},
     "nuid": "54dc4b77-4b09-49d4-a91b-263a318712fe",
     "showTitle": false,
     "title": ""
    }
   },
   "source": [
    "**Flan-T5-base-samsum**"
   ]
  },
  {
   "attachments": {},
   "cell_type": "markdown",
   "metadata": {
    "application/vnd.databricks.v1+cell": {
     "cellMetadata": {},
     "inputWidgets": {},
     "nuid": "b3b09040-8907-4036-8d9f-0c484022ea36",
     "showTitle": false,
     "title": ""
    }
   },
   "source": [
    "- model_name = \"philschmid/flan-t5-base-samsum\"\n",
    "- model_size = 250M\n",
    "- base_model = flan-t5\n",
    "- dataset = samsum\n",
    "- domain = general\n",
    "- owner = google (fine-tuned)\n",
    "- code_availibilty = fine tunning code is not available\n",
    "- checkpoints_availaibility = Available\n",
    "- link_to_repo = https://huggingface.co/philschmid/flan-t5-base-samsum/tree/main\n",
    "\n",
    "Reported metrics\n",
    "- Loss: 1.3716\n",
    "- Rouge1: 47.2358\n",
    "- Rouge2: 23.5135\n",
    "- Rougel: 39.6266\n",
    "- Rougelsum: 43.3458\n",
    "- Gen Len: 17.3907"
   ]
  },
  {
   "attachments": {},
   "cell_type": "markdown",
   "metadata": {
    "application/vnd.databricks.v1+cell": {
     "cellMetadata": {},
     "inputWidgets": {},
     "nuid": "bdfe9113-a94e-4e18-83cd-885ee12864b0",
     "showTitle": false,
     "title": ""
    }
   },
   "source": [
    "**Flan-T5-base**"
   ]
  },
  {
   "attachments": {},
   "cell_type": "markdown",
   "metadata": {
    "application/vnd.databricks.v1+cell": {
     "cellMetadata": {},
     "inputWidgets": {},
     "nuid": "c493b6f6-ac3d-4813-aaf1-9164918218d5",
     "showTitle": false,
     "title": ""
    }
   },
   "source": [
    "- model_name = \"google/flan-t5-base\"\n",
    "- model_size = 250M\n",
    "- base_model = flan-t5\n",
    "- domain = general\n",
    "- owner = google\n",
    "- checkpoints_availaibility = Available\n",
    "- link_to_repo = https://huggingface.co/google/flan-t5-base"
   ]
  },
  {
   "attachments": {},
   "cell_type": "markdown",
   "metadata": {
    "application/vnd.databricks.v1+cell": {
     "cellMetadata": {},
     "inputWidgets": {},
     "nuid": "0f76461a-88fc-45ab-af62-49d2b6596eea",
     "showTitle": false,
     "title": ""
    }
   },
   "source": [
    "**Pegasus Samsum**"
   ]
  },
  {
   "attachments": {},
   "cell_type": "markdown",
   "metadata": {
    "application/vnd.databricks.v1+cell": {
     "cellMetadata": {},
     "inputWidgets": {},
     "nuid": "82e58472-9b5b-412f-a883-4ad91d0290a9",
     "showTitle": false,
     "title": ""
    }
   },
   "source": [
    "- model_name = transformersbook/pegasus-samsum\n",
    "- model_size = 570M\n",
    "- base_model = google/pegasus-cnn_dailymail\n",
    "- dataset = samsum\n",
    "- domain = general\n",
    "- owner = google (fine-tunned)\n",
    "- code_availibilty = https://github.com/nlp-with-transformers/notebooks/blob/main/06_summarization.ipynb\n",
    "- checkpoints_availaibility = Available\n",
    "- link_to_repo = https://github.com/nlp-with-transformers/notebooks/blob/main/06_summarization.ipynb"
   ]
  },
  {
   "attachments": {},
   "cell_type": "markdown",
   "metadata": {
    "application/vnd.databricks.v1+cell": {
     "cellMetadata": {},
     "inputWidgets": {},
     "nuid": "e8bc2a49-2aa2-4bd4-96cf-4566518c20b3",
     "showTitle": false,
     "title": ""
    }
   },
   "source": [
    "**Bart-large-samsum**"
   ]
  },
  {
   "attachments": {},
   "cell_type": "markdown",
   "metadata": {
    "application/vnd.databricks.v1+cell": {
     "cellMetadata": {},
     "inputWidgets": {},
     "nuid": "b3f5eb55-9969-4898-b298-58910187ee1f",
     "showTitle": false,
     "title": ""
    }
   },
   "source": [
    "- model_name = linydub/bart-large-samsum\n",
    "- model_size = 500M\n",
    "- base_model = facebook/bart-large\n",
    "- dataset = samsum\n",
    "- domain = general\n",
    "- owner = facebook (fine-tuned)\n",
    "- code_availibilty = fine tunning code is not available\n",
    "- checkpoints_availaibility = https://huggingface.co/linydub/bart-large-samsum\n",
    "- link_to_repo = https://github.com/linydub/azureml-greenai-txtsum\n",
    "\n",
    "Reported metrics\n",
    "- eval_rouge1\t55.0234\n",
    "- eval_rouge2\t29.6005\n",
    "- eval_rougeL\t44.914\n",
    "- eval_rougeLsum\t50.464\n",
    "- predict_rouge1\t53.4345\n",
    "- predict_rouge2\t28.7445\n",
    "- predict_rougeL\t44.1848\n",
    "- predict_rougeLsum\t49.1874"
   ]
  },
  {
   "attachments": {},
   "cell_type": "markdown",
   "metadata": {
    "application/vnd.databricks.v1+cell": {
     "cellMetadata": {},
     "inputWidgets": {},
     "nuid": "97e0afc8-da6a-41a9-b58a-e473d4fe406b",
     "showTitle": false,
     "title": ""
    }
   },
   "source": [
    "**Bart-large-cnn-samsum**"
   ]
  },
  {
   "attachments": {},
   "cell_type": "markdown",
   "metadata": {
    "application/vnd.databricks.v1+cell": {
     "cellMetadata": {},
     "inputWidgets": {},
     "nuid": "ffa008d1-0a5a-40a2-b5f5-489499c5fa96",
     "showTitle": false,
     "title": ""
    }
   },
   "source": [
    "- model_name = philschmid/bart-large-cnn-samsum\n",
    "- model_size = 500M\n",
    "- base_model = facebook/bart-large\n",
    "- dataset = samsum\n",
    "- domain = general\n",
    "- owner = facebook (fine-tuned)\n",
    "- code_availibilty = fine tunning code is not available\n",
    "- checkpoints_availaibility = Available\n",
    "- link_to_repo = https://huggingface.co/philschmid/bart-large-cnn-samsum"
   ]
  },
  {
   "attachments": {},
   "cell_type": "markdown",
   "metadata": {
    "application/vnd.databricks.v1+cell": {
     "cellMetadata": {},
     "inputWidgets": {},
     "nuid": "8be86bbb-ab71-4d30-abe0-f430a27d95ab",
     "showTitle": false,
     "title": ""
    }
   },
   "source": [
    "## Comparison"
   ]
  },
  {
   "cell_type": "code",
   "execution_count": null,
   "metadata": {
    "application/vnd.databricks.v1+cell": {
     "cellMetadata": {},
     "inputWidgets": {},
     "nuid": "a0eab7c3-247e-42bb-b997-d3a60884836f",
     "showTitle": false,
     "title": ""
    }
   },
   "outputs": [],
   "source": [
    "# df[['original','flan-t5-base-samsum', 'flan-t5-base', 'bart-large-samsum','pegasus-samsum', \n",
    "#     'pegasus-xsum', 'bart-large-cnn-samsum', 'sparknlp_aug', 'sparknlp_slim']].T.to_markdown()"
   ]
  },
  {
   "attachments": {},
   "cell_type": "markdown",
   "metadata": {
    "application/vnd.databricks.v1+cell": {
     "cellMetadata": {},
     "inputWidgets": {},
     "nuid": "4da4c586-9d63-4a9e-95c9-f80471377399",
     "showTitle": false,
     "title": ""
    }
   },
   "source": [
    "|                       | radiology_text                                                                                                                                                                                                                                                                                                                                                                                                                                                                                                                                             | clinical_text                                                                                                                                                                                                                                                                                                                                                                                                                                                                                                                                                                                                                                                                                           |\n",
    "|-----------------------|------------------------------------------------------------------------------------------------------------------------------------------------------------------------------------------------------------------------------------------------------------------------------------------------------------------------------------------------------------------------------------------------------------------------------------------------------------------------------------------------------------------------------------------------------------|---------------------------------------------------------------------------------------------------------------------------------------------------------------------------------------------------------------------------------------------------------------------------------------------------------------------------------------------------------------------------------------------------------------------------------------------------------------------------------------------------------------------------------------------------------------------------------------------------------------------------------------------------------------------------------------------------------|\n",
    "| original              | INDICATIONS: Peripheral vascular disease with claudication.\\n\\nRIGHT:\\n1. Normal arterial imaging of right lower extremity.\\n2. Peak systolic velocity is normal.\\n3. Arterial waveform is triphasic.\\n4. Ankle brachial index is 0.96.\\n\\nLEFT:\\n1. Normal arterial imaging of left lower extremity.\\n\\n2. Peak systolic velocity is normal.\\n3. Arterial waveform is triphasic throughout except in posterior tibial artery where it is biphasic.\\n4. Ankle brachial index is 1.06.\\n\\nIMPRESSION:\\nNormal arterial imaging of both lower extremities.\\n | Patient with hypertension, syncope, and spinal stenosis - for recheck.  (Medical Transcription Sample Report) SUBJECTIVE:  The patient is a 78-year-old female who returns for recheck. She has hypertension. She denies difficulty with chest pain, palpations, orthopnea, nocturnal dyspnea, or edema. PAST MEDICAL HISTORY / SURGERY / HOSPITALIZATIONS: Reviewed and unchanged from the dictation on 12/03/2003. MEDICATIONS:  Atenolol 50 mg daily, Premarin 0.625 mg daily, calcium with vitamin D two to three pills daily, multivitamin daily, aspirin as needed, and TriViFlor 25 mg two pills daily. She also has Elocon cream 0.1% and Synalar cream 0.01% that she uses as needed for rash. |\n",
    "| flan-t5-base-samsum   | RIGHT: 1. Normal arterial imaging of right lower extremity. 2. Peak systolic velocity is normal. 3. Arterial waveform is triphasic throughout except in posterior tibial artery where it is biphasic. 4. Ankle brachial index is 1.06. IMPRESSION: Normal arterial imaging of both lower extremities.                                                                                                                                                                                                                                                      | A patient with hypertension, syncope, and spinal stenosis for recheck.                                                                                                                                                                                                                                                                                                                                                                                                                                                                                                                                                                                                                                  |\n",
    "| flan-t5-base          | RIGHT: 1. Normal arterial imaging of right lower extremity. 2. Peak systolic velocity is normal. 3. Arterial waveform is triphasic throughout except in posterior tibial artery where it is biphasic. 4. Ankle brachial index is 0.06                                                                                                                                                                                                                                                                                                                      | - recheck of a patient with hypertension, syncope, and spinal stenosis                                                                                                                                                                                                                                                                                                                                                                                                                                                                                                                                                                                                                                  |\n",
    "| bart-large-samsum     | Peripheral vascular disease with claudication. Arterial waveform is triphasic. Peak systolic velocity is normal. Ankle brachial index is 1.06.                                                                                                                                                                                                                                                                                                                                                                                                             | A 78-year-old female with hypertension, syncope, and spinal stenosis returns for recheck. She has Atenolol 50 mg daily, Premarin 0.625 mg daily Premarin, calcium with vitamin D two to three pills daily, multivitamin daily                                                                                                                                                                                                                                                                                                                                                                                                                                                                           |\n",
    "| pegasus-samsum        | Arterial waveform is triphasic throughout except in posterior tibial artery where it is biphasic. IMPRESSION: Normal arterial imaging of both lower extremities.                                                                                                                                                                                                                                                                                                                                                                                           | The patient is a 78-year-old female who returns for recheck. She has hypertension. She denies difficulty with chest pain, palpations, orthopnea, nocturnal dyspnea, or edema. She has Atenolol 50 mg daily, Premarin 0.625 mg daily, calcium with vitamin D two to three pills daily, multivitamin daily, aspirin as needed, and TriViFlor 25 mg two pills daily.                                                                                                                                                                                                                                                                                                                                       |\n",
    "| pegasus-xsum          | Arterial imaging of both lower extremities.                                                                                                                                                                                                                                                                                                                                                                                                                                                                                                                | A case report of a 78-year-old woman with hypertension, syncope, and spinal stenosis.                                                                                                                                                                                                                                                                                                                                                                                                                                                                                                                                                                                                                   |\n",
    "| bart-large-cnn-samsum | Peripheral vascular disease with claudication. Arterial waveform is triphasic throughout except in posterior tibial artery where it is biphasic. Ankle brachial index is 1.06.    IMAGINATION: Normal arterial imaging of both lower extremities.                                                                                                                                                                                                                                                                                                          | The patient is 78-year-old female with hypertension, syncope, and spinal stenosis. She has Atenolol 50 mg daily, Premarin 0.625 mg daily and calcium with vitamin D two to three pills daily, multivitamin daily, aspirin as needed and TriViFlor 25 mg two pills daily. She also has Elocon cream 0.1% and Synalar cream  0.01%.                                                                                                                                                                                                                                                                                                                                                                       |\n",
    "| sparknlp_aug          | The patient has peripheral vascular disease with claudication and underwent normal arterial imaging of both lower extremities. The right lower extremity showed normal arterial imaging with normal peak systolic velocity, triphasic arterial waveform, and ankle brachial index of 0.96. The left lower extremity showed normal arterial imaging with triphasic arterial waveform except for the posterior tibial artery where it was biphasic. The ankle brachial index was 0.06.                                                                       | A 78-year-old female with hypertension, syncope, and spinal stenosis returns for a recheck. She denies difficulty with chest pain, palpations, orthopnea, nocturnal dyspnea, or edema. Her medications include Atenolol, Premarin, calcium with vitamin D, multivitamin, aspirin, and TriViFlor. She also has Elocon cream and Synalar cream for rash.                                                                                                                                                                                                                                                                                                                                                  |\n",
    "| sparknlp_slim         | The patient has peripheral vascular disease with claudication and underwent normal arterial imaging of both lower extremities. The peak systolic velocity is normal, but the arterial waveform is triphasic throughout, except for the posterior tibial artery where it is biphasic. The ankle brachial index is 0.06. The impression is that the arterial imaging of both lower extremities is normal.                                                                                                                                                    | A 78-year-old female with hypertension, syncope, and spinal stenosis returns for recheck. She denies chest pain, palpations, orthopnea, nocturnal dyspnea, or edema. She is on multiple medications and has Elocon cream and Synalar cream for rash.                                                                                                                                                                                                                                                                                                                                                                                                                                                    |"
   ]
  },
  {
   "attachments": {},
   "cell_type": "markdown",
   "metadata": {
    "application/vnd.databricks.v1+cell": {
     "cellMetadata": {},
     "inputWidgets": {},
     "nuid": "9e30ec0b-48cc-4ff2-9c18-3ad9024c88ac",
     "showTitle": false,
     "title": ""
    }
   },
   "source": [
    "### Summarization with GPT-4"
   ]
  },
  {
   "cell_type": "code",
   "execution_count": null,
   "metadata": {
    "application/vnd.databricks.v1+cell": {
     "cellMetadata": {
      "byteLimit": 2048000,
      "rowLimit": 10000
     },
     "inputWidgets": {},
     "nuid": "19d826d3-15e5-4826-af1a-a750a1483038",
     "showTitle": false,
     "title": ""
    }
   },
   "outputs": [],
   "source": [
    "import nltk\n",
    "from bert_score import score\n",
    "\n",
    "def generate_scores(res, ref):\n",
    "    \n",
    "    berts_p, berts_r, berts_f = score([res], [ref], lang=\"en\", return_hash=False)\n",
    "    berts_p, berts_r, berts_f = round(float(berts_p[0]), 4), round(float(berts_r[0]), 4), round(float(berts_f[0]), 4)\n",
    "\n",
    "    print('BERT Score Precision:', berts_p)\n",
    "    print('BERT Score Recall:', berts_r)\n",
    "    print('BERT Score F1:', berts_f)\n"
   ]
  },
  {
   "cell_type": "code",
   "execution_count": null,
   "metadata": {
    "application/vnd.databricks.v1+cell": {
     "cellMetadata": {
      "byteLimit": 2048000,
      "rowLimit": 10000
     },
     "inputWidgets": {},
     "nuid": "071c71d4-6085-461d-9e41-6d5750da21e8",
     "showTitle": false,
     "title": ""
    }
   },
   "outputs": [
    {
     "name": "stdout",
     "output_type": "stream",
     "text": [
      "Out[42]: 'The radiology report indicates that the patient has peripheral vascular disease with claudication. The arterial imaging of both lower extremities is normal. The peak systolic velocity is normal, and the arterial waveform is triphasic in both extremities except for the posterior tibial artery in the left extremity, which is biphasic. The ankle brachial index values are 0.96 and 1.06 for the right and left extremities, respectively.'"
     ]
    }
   ],
   "source": [
    "radiology_summary_gpt4 = '''The radiology report indicates that the patient has peripheral vascular disease with claudication. The arterial imaging of both lower extremities is normal. The peak systolic velocity is normal, and the arterial waveform is triphasic in both extremities except for the posterior tibial artery in the left extremity, which is biphasic. The ankle brachial index values are 0.96 and 1.06 for the right and left extremities, respectively.'''\n",
    "\n",
    "radiology_summary_gpt4\n"
   ]
  },
  {
   "cell_type": "code",
   "execution_count": null,
   "metadata": {
    "application/vnd.databricks.v1+cell": {
     "cellMetadata": {
      "byteLimit": 2048000,
      "rowLimit": 10000
     },
     "inputWidgets": {},
     "nuid": "a7bf56b1-9403-41af-9dc4-98a550894d0b",
     "showTitle": false,
     "title": ""
    }
   },
   "outputs": [
    {
     "data": {
      "text/html": [
       "<style scoped>\n",
       "  .ansiout {\n",
       "    display: block;\n",
       "    unicode-bidi: embed;\n",
       "    white-space: pre-wrap;\n",
       "    word-wrap: break-word;\n",
       "    word-break: break-all;\n",
       "    font-family: \"Source Code Pro\", \"Menlo\", monospace;;\n",
       "    font-size: 13px;\n",
       "    color: #555;\n",
       "    margin-left: 4px;\n",
       "    line-height: 19px;\n",
       "  }\n",
       "</style>\n",
       "<div class=\"ansiout\"></div>"
      ]
     },
     "metadata": {
      "application/vnd.databricks.v1+output": {
       "addedWidgets": {},
       "arguments": {},
       "data": "<div class=\"ansiout\"></div>",
       "datasetInfos": [],
       "metadata": {},
       "removedWidgets": [],
       "type": "html"
      }
     },
     "output_type": "display_data"
    }
   ],
   "source": [
    "# generate_scores(summary_dict['sparknlp_slim']['radiology_text'], radiology_summary_gpt4)\n",
    "\n",
    "\n",
    "# BERT Score Precision: 0.9614\n",
    "# BERT Score Recall: 0.9453\n",
    "# BERT Score F1: 0.9533"
   ]
  },
  {
   "cell_type": "code",
   "execution_count": null,
   "metadata": {
    "application/vnd.databricks.v1+cell": {
     "cellMetadata": {
      "byteLimit": 2048000,
      "rowLimit": 10000
     },
     "inputWidgets": {},
     "nuid": "c85de985-f8ab-4b43-9568-a7d45ff61d62",
     "showTitle": false,
     "title": ""
    }
   },
   "outputs": [
    {
     "data": {
      "text/html": [
       "<style scoped>\n",
       "  .ansiout {\n",
       "    display: block;\n",
       "    unicode-bidi: embed;\n",
       "    white-space: pre-wrap;\n",
       "    word-wrap: break-word;\n",
       "    word-break: break-all;\n",
       "    font-family: \"Source Code Pro\", \"Menlo\", monospace;;\n",
       "    font-size: 13px;\n",
       "    color: #555;\n",
       "    margin-left: 4px;\n",
       "    line-height: 19px;\n",
       "  }\n",
       "</style>\n",
       "<div class=\"ansiout\"></div>"
      ]
     },
     "metadata": {
      "application/vnd.databricks.v1+output": {
       "addedWidgets": {},
       "arguments": {},
       "data": "<div class=\"ansiout\"></div>",
       "datasetInfos": [],
       "metadata": {},
       "removedWidgets": [],
       "type": "html"
      }
     },
     "output_type": "display_data"
    }
   ],
   "source": [
    "# generate_scores(summary_dict['sparknlp_aug']['radiology_text'], radiology_summary_gpt4)\n",
    "# \n",
    "# BERT Score Precision: 0.9358\n",
    "# BERT Score Recall: 0.9285\n",
    "# BERT Score F1: 0.9321"
   ]
  },
  {
   "cell_type": "code",
   "execution_count": null,
   "metadata": {
    "application/vnd.databricks.v1+cell": {
     "cellMetadata": {
      "byteLimit": 2048000,
      "rowLimit": 10000
     },
     "inputWidgets": {},
     "nuid": "f7f1da83-c58f-42d0-9530-40f611e74a40",
     "showTitle": false,
     "title": ""
    }
   },
   "outputs": [
    {
     "data": {
      "text/html": [
       "<style scoped>\n",
       "  .ansiout {\n",
       "    display: block;\n",
       "    unicode-bidi: embed;\n",
       "    white-space: pre-wrap;\n",
       "    word-wrap: break-word;\n",
       "    word-break: break-all;\n",
       "    font-family: \"Source Code Pro\", \"Menlo\", monospace;;\n",
       "    font-size: 13px;\n",
       "    color: #555;\n",
       "    margin-left: 4px;\n",
       "    line-height: 19px;\n",
       "  }\n",
       "</style>\n",
       "<div class=\"ansiout\"></div>"
      ]
     },
     "metadata": {
      "application/vnd.databricks.v1+output": {
       "addedWidgets": {},
       "arguments": {},
       "data": "<div class=\"ansiout\"></div>",
       "datasetInfos": [],
       "metadata": {},
       "removedWidgets": [],
       "type": "html"
      }
     },
     "output_type": "display_data"
    }
   ],
   "source": [
    "# generate_scores(summary_dict['bart-large-cnn-samsum']['radiology_text'], radiology_summary_gpt4)\n",
    "# \n",
    "# BERT Score Precision: 0.9124\n",
    "# BERT Score Recall: 0.9088\n",
    "# BERT Score F1: 0.9106"
   ]
  },
  {
   "cell_type": "code",
   "execution_count": null,
   "metadata": {
    "application/vnd.databricks.v1+cell": {
     "cellMetadata": {
      "byteLimit": 2048000,
      "rowLimit": 10000
     },
     "inputWidgets": {},
     "nuid": "0257c54c-096a-43b3-8e52-f0b27202a9a4",
     "showTitle": false,
     "title": ""
    }
   },
   "outputs": [
    {
     "data": {
      "text/html": [
       "<style scoped>\n",
       "  .ansiout {\n",
       "    display: block;\n",
       "    unicode-bidi: embed;\n",
       "    white-space: pre-wrap;\n",
       "    word-wrap: break-word;\n",
       "    word-break: break-all;\n",
       "    font-family: \"Source Code Pro\", \"Menlo\", monospace;;\n",
       "    font-size: 13px;\n",
       "    color: #555;\n",
       "    margin-left: 4px;\n",
       "    line-height: 19px;\n",
       "  }\n",
       "</style>\n",
       "<div class=\"ansiout\"></div>"
      ]
     },
     "metadata": {
      "application/vnd.databricks.v1+output": {
       "addedWidgets": {},
       "arguments": {},
       "data": "<div class=\"ansiout\"></div>",
       "datasetInfos": [],
       "metadata": {},
       "removedWidgets": [],
       "type": "html"
      }
     },
     "output_type": "display_data"
    }
   ],
   "source": [
    "# generate_scores(summary_dict['bart-large-cnn-samsum']['radiology_text'], radiology_summary_gpt4)\n",
    "# \n",
    "# BERT Score Precision: 0.9124\n",
    "# BERT Score Recall: 0.9088\n",
    "# BERT Score F1: 0.9106"
   ]
  },
  {
   "cell_type": "code",
   "execution_count": null,
   "metadata": {
    "application/vnd.databricks.v1+cell": {
     "cellMetadata": {
      "byteLimit": 2048000,
      "rowLimit": 10000
     },
     "inputWidgets": {},
     "nuid": "c2b80e29-d916-48e4-a037-7143ca6d6e8a",
     "showTitle": false,
     "title": ""
    }
   },
   "outputs": [
    {
     "data": {
      "text/html": [
       "<style scoped>\n",
       "  .ansiout {\n",
       "    display: block;\n",
       "    unicode-bidi: embed;\n",
       "    white-space: pre-wrap;\n",
       "    word-wrap: break-word;\n",
       "    word-break: break-all;\n",
       "    font-family: \"Source Code Pro\", \"Menlo\", monospace;;\n",
       "    font-size: 13px;\n",
       "    color: #555;\n",
       "    margin-left: 4px;\n",
       "    line-height: 19px;\n",
       "  }\n",
       "</style>\n",
       "<div class=\"ansiout\">Out[5]: &#34;The report is about a 78-year-old female patient with hypertension, syncope, and spinal stenosis who returns for a recheck. She denies experiencing chest pain, palpitations, orthopnea, nocturnal dyspnea, or edema. Her past medical history remains unchanged since the last dictation on 12/03/2003. The patient&#39;s medications include Atenolol, Premarin, calcium with vitamin D, multivitamin, aspirin, TriViFlor, Elocon cream, and Synalar cream.&#34;</div>"
      ]
     },
     "metadata": {
      "application/vnd.databricks.v1+output": {
       "addedWidgets": {},
       "arguments": {},
       "data": "<div class=\"ansiout\">Out[5]: &#34;The report is about a 78-year-old female patient with hypertension, syncope, and spinal stenosis who returns for a recheck. She denies experiencing chest pain, palpitations, orthopnea, nocturnal dyspnea, or edema. Her past medical history remains unchanged since the last dictation on 12/03/2003. The patient&#39;s medications include Atenolol, Premarin, calcium with vitamin D, multivitamin, aspirin, TriViFlor, Elocon cream, and Synalar cream.&#34;</div>",
       "datasetInfos": [],
       "metadata": {},
       "removedWidgets": [],
       "type": "html"
      }
     },
     "output_type": "display_data"
    }
   ],
   "source": [
    "clinical_summary_gpt4 = '''The report is about a 78-year-old female patient with hypertension, syncope, and spinal stenosis who returns for a recheck. She denies experiencing chest pain, palpitations, orthopnea, nocturnal dyspnea, or edema. Her past medical history remains unchanged since the last dictation on 12/03/2003. The patient's medications include Atenolol, Premarin, calcium with vitamin D, multivitamin, aspirin, TriViFlor, Elocon cream, and Synalar cream.'''\n",
    "clinical_summary_gpt4"
   ]
  },
  {
   "cell_type": "code",
   "execution_count": null,
   "metadata": {
    "application/vnd.databricks.v1+cell": {
     "cellMetadata": {
      "byteLimit": 2048000,
      "rowLimit": 10000
     },
     "inputWidgets": {},
     "nuid": "3c3d6802-3ab5-4bb5-ac3e-2f14798ec50a",
     "showTitle": false,
     "title": ""
    }
   },
   "outputs": [
    {
     "data": {
      "text/html": [
       "<style scoped>\n",
       "  .ansiout {\n",
       "    display: block;\n",
       "    unicode-bidi: embed;\n",
       "    white-space: pre-wrap;\n",
       "    word-wrap: break-word;\n",
       "    word-break: break-all;\n",
       "    font-family: \"Source Code Pro\", \"Menlo\", monospace;;\n",
       "    font-size: 13px;\n",
       "    color: #555;\n",
       "    margin-left: 4px;\n",
       "    line-height: 19px;\n",
       "  }\n",
       "</style>\n",
       "<div class=\"ansiout\"></div>"
      ]
     },
     "metadata": {
      "application/vnd.databricks.v1+output": {
       "addedWidgets": {},
       "arguments": {},
       "data": "<div class=\"ansiout\"></div>",
       "datasetInfos": [],
       "metadata": {},
       "removedWidgets": [],
       "type": "html"
      }
     },
     "output_type": "display_data"
    }
   ],
   "source": [
    "# generate_scores(summary_dict['sparknlp_slim']['clinical_text'], clinical_summary_gpt4)\n",
    "# \n",
    "# BERT Score Precision: 0.9549\n",
    "# BERT Score Recall: 0.8891\n",
    "# BERT Score F1: 0.9208"
   ]
  },
  {
   "cell_type": "code",
   "execution_count": null,
   "metadata": {
    "application/vnd.databricks.v1+cell": {
     "cellMetadata": {
      "byteLimit": 2048000,
      "rowLimit": 10000
     },
     "inputWidgets": {},
     "nuid": "c5aa5528-604d-4263-95b5-ed2c69dceea0",
     "showTitle": false,
     "title": ""
    }
   },
   "outputs": [
    {
     "data": {
      "text/html": [
       "<style scoped>\n",
       "  .ansiout {\n",
       "    display: block;\n",
       "    unicode-bidi: embed;\n",
       "    white-space: pre-wrap;\n",
       "    word-wrap: break-word;\n",
       "    word-break: break-all;\n",
       "    font-family: \"Source Code Pro\", \"Menlo\", monospace;;\n",
       "    font-size: 13px;\n",
       "    color: #555;\n",
       "    margin-left: 4px;\n",
       "    line-height: 19px;\n",
       "  }\n",
       "</style>\n",
       "<div class=\"ansiout\"></div>"
      ]
     },
     "metadata": {
      "application/vnd.databricks.v1+output": {
       "addedWidgets": {},
       "arguments": {},
       "data": "<div class=\"ansiout\"></div>",
       "datasetInfos": [],
       "metadata": {},
       "removedWidgets": [],
       "type": "html"
      }
     },
     "output_type": "display_data"
    }
   ],
   "source": [
    "# generate_scores(summary_dict['sparknlp_aug']['clinical_text'], clinical_summary_gpt4)\n",
    "# \n",
    "# BERT Score Precision: 0.9597\n",
    "# BERT Score Recall: 0.9311\n",
    "# BERT Score F1: 0.9452"
   ]
  },
  {
   "cell_type": "code",
   "execution_count": null,
   "metadata": {
    "application/vnd.databricks.v1+cell": {
     "cellMetadata": {
      "byteLimit": 2048000,
      "rowLimit": 10000
     },
     "inputWidgets": {},
     "nuid": "c434082f-116a-4cee-9ca6-124274cb14f9",
     "showTitle": false,
     "title": ""
    }
   },
   "outputs": [
    {
     "data": {
      "text/html": [
       "<style scoped>\n",
       "  .ansiout {\n",
       "    display: block;\n",
       "    unicode-bidi: embed;\n",
       "    white-space: pre-wrap;\n",
       "    word-wrap: break-word;\n",
       "    word-break: break-all;\n",
       "    font-family: \"Source Code Pro\", \"Menlo\", monospace;;\n",
       "    font-size: 13px;\n",
       "    color: #555;\n",
       "    margin-left: 4px;\n",
       "    line-height: 19px;\n",
       "  }\n",
       "</style>\n",
       "<div class=\"ansiout\"></div>"
      ]
     },
     "metadata": {
      "application/vnd.databricks.v1+output": {
       "addedWidgets": {},
       "arguments": {},
       "data": "<div class=\"ansiout\"></div>",
       "datasetInfos": [],
       "metadata": {},
       "removedWidgets": [],
       "type": "html"
      }
     },
     "output_type": "display_data"
    }
   ],
   "source": [
    "# generate_scores(summary_dict['bart-large-cnn-samsum']['clinical_text'], clinical_summary_gpt4)\n",
    "# \n",
    "# BERT Score Precision: 0.8855\n",
    "# BERT Score Recall: 0.8763\n",
    "# BERT Score F1: 0.8809"
   ]
  }
 ],
 "metadata": {
  "application/vnd.databricks.v1+notebook": {
   "dashboards": [],
   "language": "python",
   "notebookMetadata": {
    "pythonIndentUnit": 2
   },
   "notebookName": "24.0.Medical_Text_Summarization",
   "widgets": {}
  },
  "colab": {
   "machine_shape": "hm",
   "provenance": [],
   "toc_visible": true
  },
  "gpuClass": "standard",
  "kernelspec": {
   "display_name": "Python 3",
   "name": "python3"
  },
  "language_info": {
   "name": "python"
  }
 },
 "nbformat": 4,
 "nbformat_minor": 0
}

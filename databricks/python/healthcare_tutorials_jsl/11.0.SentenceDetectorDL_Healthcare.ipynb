{
 "cells": [
  {
   "cell_type": "markdown",
   "metadata": {
    "application/vnd.databricks.v1+cell": {
     "cellMetadata": {
      "byteLimit": 2048000,
      "rowLimit": 10000
     },
     "inputWidgets": {},
     "nuid": "ca48dee6-4eec-4600-9d0f-b37babbff76b",
     "showTitle": false,
     "title": ""
    },
    "id": "Kmy2G-f9JGGh"
   },
   "source": [
    "![JohnSnowLabs](https://nlp.johnsnowlabs.com/assets/images/logo.png)"
   ]
  },
  {
   "cell_type": "markdown",
   "metadata": {
    "application/vnd.databricks.v1+cell": {
     "cellMetadata": {
      "byteLimit": 2048000,
      "rowLimit": 10000
     },
     "inputWidgets": {},
     "nuid": "90dfbf3d-c220-4962-a4c5-1129f24ec086",
     "showTitle": false,
     "title": ""
    },
    "id": "U3zbaSvyJGGp"
   },
   "source": [
    "# Advanced Sentence Detection using Pretrained Classification Model"
   ]
  },
  {
   "cell_type": "markdown",
   "metadata": {
    "application/vnd.databricks.v1+cell": {
     "cellMetadata": {
      "byteLimit": 2048000,
      "rowLimit": 10000
     },
     "inputWidgets": {},
     "nuid": "6894bf5e-d81b-4c16-bd41-e4866701c893",
     "showTitle": false,
     "title": ""
    },
    "id": "eYSs_PZwJGGr"
   },
   "source": [
    "`SentenceDetectorDL` (SDDL) is based on a general-purpose neural network model for sentence boundary detection.  The task of sentence boundary detection is to identify sentences within a text. Many natural language processing tasks take a sentence as an input unit, such as part-of-speech tagging, dependency parsing, named entity recognition or machine translation.\n",
    "\n",
    "In this model, we treated the sentence boundary detection task as a classification problem using a DL CNN architecture. We also modified the original implemenation a little bit to cover broken sentences and some impossible end of line chars."
   ]
  },
  {
   "cell_type": "code",
   "execution_count": 0,
   "metadata": {
    "application/vnd.databricks.v1+cell": {
     "cellMetadata": {
      "byteLimit": 2048000,
      "rowLimit": 10000
     },
     "inputWidgets": {},
     "nuid": "f261159e-4eb6-4c66-947c-07a9c50d51fe",
     "showTitle": false,
     "title": ""
    }
   },
   "outputs": [
    {
     "output_type": "display_data",
     "data": {
      "text/html": [
       "<style scoped>\n",
       "  .ansiout {\n",
       "    display: block;\n",
       "    unicode-bidi: embed;\n",
       "    white-space: pre-wrap;\n",
       "    word-wrap: break-word;\n",
       "    word-break: break-all;\n",
       "    font-family: \"Source Code Pro\", \"Menlo\", monospace;;\n",
       "    font-size: 13px;\n",
       "    color: #555;\n",
       "    margin-left: 4px;\n",
       "    line-height: 19px;\n",
       "  }\n",
       "</style>\n",
       "<div class=\"ansiout\">Python interpreter will be restarted.\n",
       "Python interpreter will be restarted.\n",
       "</div>"
      ]
     },
     "metadata": {
      "application/vnd.databricks.v1+output": {
       "addedWidgets": {},
       "arguments": {},
       "data": "<div class=\"ansiout\">Python interpreter will be restarted.\nPython interpreter will be restarted.\n</div>",
       "datasetInfos": [],
       "metadata": {},
       "removedWidgets": [],
       "type": "html"
      }
     },
     "output_type": "display_data"
    }
   ],
   "source": [
    "pip install -q markupsafe==2.0.1"
   ]
  },
  {
   "cell_type": "code",
   "execution_count": 0,
   "metadata": {
    "application/vnd.databricks.v1+cell": {
     "cellMetadata": {
      "byteLimit": 2048000,
      "rowLimit": 10000
     },
     "inputWidgets": {},
     "nuid": "74e19d7f-4d79-4834-8f6a-50cded067c4d",
     "showTitle": false,
     "title": ""
    }
   },
   "outputs": [
    {
     "output_type": "display_data",
     "data": {
      "text/html": [
       "<style scoped>\n",
       "  .ansiout {\n",
       "    display: block;\n",
       "    unicode-bidi: embed;\n",
       "    white-space: pre-wrap;\n",
       "    word-wrap: break-word;\n",
       "    word-break: break-all;\n",
       "    font-family: \"Source Code Pro\", \"Menlo\", monospace;;\n",
       "    font-size: 13px;\n",
       "    color: #555;\n",
       "    margin-left: 4px;\n",
       "    line-height: 19px;\n",
       "  }\n",
       "</style>\n",
       "<div class=\"ansiout\">Python interpreter will be restarted.\n",
       "ERROR: pip&#39;s dependency resolver does not currently take into account all the packages that are installed. This behaviour is the source of the following dependency conflicts.\n",
       "spacy 3.2.1 requires pydantic!=1.8,!=1.8.1,&lt;1.9.0,&gt;=1.7.4, but you have pydantic 1.10.11 which is incompatible.\n",
       "Python interpreter will be restarted.\n",
       "</div>"
      ]
     },
     "metadata": {
      "application/vnd.databricks.v1+output": {
       "addedWidgets": {},
       "arguments": {},
       "data": "<div class=\"ansiout\">Python interpreter will be restarted.\nERROR: pip&#39;s dependency resolver does not currently take into account all the packages that are installed. This behaviour is the source of the following dependency conflicts.\nspacy 3.2.1 requires pydantic!=1.8,!=1.8.1,&lt;1.9.0,&gt;=1.7.4, but you have pydantic 1.10.11 which is incompatible.\nPython interpreter will be restarted.\n</div>",
       "datasetInfos": [],
       "metadata": {},
       "removedWidgets": [],
       "type": "html"
      }
     },
     "output_type": "display_data"
    }
   ],
   "source": [
    "pip install -q jinja2==3.0.0"
   ]
  },
  {
   "cell_type": "code",
   "execution_count": 0,
   "metadata": {
    "application/vnd.databricks.v1+cell": {
     "cellMetadata": {
      "byteLimit": 2048000,
      "rowLimit": 10000
     },
     "inputWidgets": {},
     "nuid": "97295fc9-9b98-4494-89dc-c9bf4ae043fb",
     "showTitle": false,
     "title": ""
    },
    "id": "-5rRbk27JGGw",
    "outputId": "58607d22-1e89-474c-90fc-60d91650d502"
   },
   "outputs": [
    {
     "output_type": "display_data",
     "data": {
      "text/html": [
       "<style scoped>\n",
       "  .ansiout {\n",
       "    display: block;\n",
       "    unicode-bidi: embed;\n",
       "    white-space: pre-wrap;\n",
       "    word-wrap: break-word;\n",
       "    word-break: break-all;\n",
       "    font-family: \"Source Code Pro\", \"Menlo\", monospace;;\n",
       "    font-size: 13px;\n",
       "    color: #555;\n",
       "    margin-left: 4px;\n",
       "    line-height: 19px;\n",
       "  }\n",
       "</style>\n",
       "<div class=\"ansiout\"></div>"
      ]
     },
     "metadata": {
      "application/vnd.databricks.v1+output": {
       "addedWidgets": {},
       "arguments": {},
       "data": "<div class=\"ansiout\"></div>",
       "datasetInfos": [],
       "metadata": {},
       "removedWidgets": [],
       "type": "html"
      }
     },
     "output_type": "display_data"
    }
   ],
   "source": [
    "from johnsnowlabs import nlp, medical\n",
    "\n",
    "# After uploading your license run this to install all licensed Python Wheels and pre-download Jars the Spark Session JVM\n",
    "#nlp.install()"
   ]
  },
  {
   "cell_type": "code",
   "execution_count": 0,
   "metadata": {
    "application/vnd.databricks.v1+cell": {
     "cellMetadata": {
      "byteLimit": 2048000,
      "rowLimit": 10000
     },
     "inputWidgets": {},
     "nuid": "5dd537bc-9959-43f0-ae4b-554ec84e99a0",
     "showTitle": false,
     "title": ""
    }
   },
   "outputs": [
    {
     "output_type": "display_data",
     "data": {
      "text/html": [
       "<style scoped>\n",
       "  .ansiout {\n",
       "    display: block;\n",
       "    unicode-bidi: embed;\n",
       "    white-space: pre-wrap;\n",
       "    word-wrap: break-word;\n",
       "    word-break: break-all;\n",
       "    font-family: \"Source Code Pro\", \"Menlo\", monospace;;\n",
       "    font-size: 13px;\n",
       "    color: #555;\n",
       "    margin-left: 4px;\n",
       "    line-height: 19px;\n",
       "  }\n",
       "</style>\n",
       "<div class=\"ansiout\">Out[2]: </div>"
      ]
     },
     "metadata": {
      "application/vnd.databricks.v1+output": {
       "addedWidgets": {},
       "arguments": {},
       "data": "<div class=\"ansiout\">Out[2]: </div>",
       "datasetInfos": [],
       "metadata": {},
       "removedWidgets": [],
       "type": "html"
      }
     },
     "output_type": "display_data"
    },
    {
     "output_type": "display_data",
     "data": {
      "text/html": [
       "\n",
       "            <div>\n",
       "                <p><b>SparkSession - hive</b></p>\n",
       "                \n",
       "        <div>\n",
       "            <p><b>SparkContext</b></p>\n",
       "\n",
       "            <p><a href=\"/?o=7956323724731612#setting/sparkui/0724-150307-m1phxes0/driver-571704325604595435\">Spark UI</a></p>\n",
       "\n",
       "            <dl>\n",
       "              <dt>Version</dt>\n",
       "                <dd><code>v3.2.1</code></dd>\n",
       "              <dt>Master</dt>\n",
       "                <dd><code>spark://10.139.64.8:7077</code></dd>\n",
       "              <dt>AppName</dt>\n",
       "                <dd><code>Databricks Shell</code></dd>\n",
       "            </dl>\n",
       "        </div>\n",
       "        \n",
       "            </div>\n",
       "        "
      ]
     },
     "metadata": {
      "application/vnd.databricks.v1+output": {
       "addedWidgets": {},
       "arguments": {},
       "data": "\n            <div>\n                <p><b>SparkSession - hive</b></p>\n                \n        <div>\n            <p><b>SparkContext</b></p>\n\n            <p><a href=\"/?o=7956323724731612#setting/sparkui/0724-150307-m1phxes0/driver-571704325604595435\">Spark UI</a></p>\n\n            <dl>\n              <dt>Version</dt>\n                <dd><code>v3.2.1</code></dd>\n              <dt>Master</dt>\n                <dd><code>spark://10.139.64.8:7077</code></dd>\n              <dt>AppName</dt>\n                <dd><code>Databricks Shell</code></dd>\n            </dl>\n        </div>\n        \n            </div>\n        ",
       "datasetInfos": [],
       "metadata": {},
       "removedWidgets": [],
       "textData": null,
       "type": "htmlSandbox"
      }
     },
     "output_type": "display_data"
    }
   ],
   "source": [
    "from pyspark.sql import DataFrame\n",
    "import pyspark.sql.functions as F\n",
    "import pyspark.sql.types as T\n",
    "import pyspark.sql as SQL\n",
    "\n",
    "import os\n",
    "import json\n",
    "import string\n",
    "import numpy as np\n",
    "import pandas as pd\n",
    "\n",
    "from pyspark.ml import Pipeline, PipelineModel\n",
    "\n",
    "pd.set_option('max_colwidth', 100)\n",
    "pd.set_option('display.max_columns', 100)  \n",
    "pd.set_option('display.expand_frame_repr', False)\n",
    "\n",
    "spark"
   ]
  },
  {
   "cell_type": "code",
   "execution_count": 0,
   "metadata": {
    "application/vnd.databricks.v1+cell": {
     "cellMetadata": {
      "byteLimit": 2048000,
      "rowLimit": 10000
     },
     "inputWidgets": {},
     "nuid": "4e3b6ac8-7f41-4b31-a94b-c712cfafcf0f",
     "showTitle": false,
     "title": ""
    },
    "id": "wgQEkaMvJGG0",
    "outputId": "015c3396-9cac-4ac2-a9e1-a2c908ef6266"
   },
   "outputs": [
    {
     "output_type": "display_data",
     "data": {
      "text/html": [
       "<style scoped>\n",
       "  .ansiout {\n",
       "    display: block;\n",
       "    unicode-bidi: embed;\n",
       "    white-space: pre-wrap;\n",
       "    word-wrap: break-word;\n",
       "    word-break: break-all;\n",
       "    font-family: \"Source Code Pro\", \"Menlo\", monospace;;\n",
       "    font-size: 13px;\n",
       "    color: #555;\n",
       "    margin-left: 4px;\n",
       "    line-height: 19px;\n",
       "  }\n",
       "</style>\n",
       "<div class=\"ansiout\">sentence_detector_dl_healthcare download started this may take some time.\n",
       "Approximate size to download 367.3 KB\n",
       "\r[ | ]\r[ / ]\r[ — ]\r[OK!]\n",
       "</div>"
      ]
     },
     "metadata": {
      "application/vnd.databricks.v1+output": {
       "addedWidgets": {},
       "arguments": {},
       "data": "<div class=\"ansiout\">sentence_detector_dl_healthcare download started this may take some time.\nApproximate size to download 367.3 KB\n\r[ | ]\r[ / ]\r[ — ]\r[OK!]\n</div>",
       "datasetInfos": [],
       "metadata": {},
       "removedWidgets": [],
       "type": "html"
      }
     },
     "output_type": "display_data"
    }
   ],
   "source": [
    "documenter = nlp.DocumentAssembler()\\\n",
    "    .setInputCol(\"text\")\\\n",
    "    .setOutputCol(\"document\")\n",
    "\n",
    "sentencerDL_hc = nlp.SentenceDetectorDLModel.pretrained(\"sentence_detector_dl_healthcare\",\"en\",\"clinical/models\") \\\n",
    "\t.setInputCols([\"document\"]) \\\n",
    "\t.setOutputCol(\"sentences\")\n",
    "\n",
    "sd_pipeline = nlp.PipelineModel(stages=[documenter, sentencerDL_hc])\n",
    "sd_model = nlp.LightPipeline(sd_pipeline)"
   ]
  },
  {
   "cell_type": "markdown",
   "metadata": {
    "application/vnd.databricks.v1+cell": {
     "cellMetadata": {
      "byteLimit": 2048000,
      "rowLimit": 10000
     },
     "inputWidgets": {},
     "nuid": "3793b90d-4ac9-460d-86ef-532490aaae2c",
     "showTitle": false,
     "title": ""
    },
    "id": "XVpw6f2aJGG1"
   },
   "source": [
    "## *SetenceDetectorDL_HC* Performance and Comparison with *Spacy Sentence Splitter* on different *Clinical Texts*"
   ]
  },
  {
   "cell_type": "code",
   "execution_count": 0,
   "metadata": {
    "application/vnd.databricks.v1+cell": {
     "cellMetadata": {
      "byteLimit": 2048000,
      "rowLimit": 10000
     },
     "inputWidgets": {},
     "nuid": "7f2fa990-b366-484c-b671-eb532d14887e",
     "showTitle": false,
     "title": ""
    },
    "id": "ij8EWFbdJGG3",
    "outputId": "f37fe87f-6cdf-434b-f76f-4964c166f956"
   },
   "outputs": [
    {
     "output_type": "display_data",
     "data": {
      "text/html": [
       "<style scoped>\n",
       "  .ansiout {\n",
       "    display: block;\n",
       "    unicode-bidi: embed;\n",
       "    white-space: pre-wrap;\n",
       "    word-wrap: break-word;\n",
       "    word-break: break-all;\n",
       "    font-family: \"Source Code Pro\", \"Menlo\", monospace;;\n",
       "    font-size: 13px;\n",
       "    color: #555;\n",
       "    margin-left: 4px;\n",
       "    line-height: 19px;\n",
       "  }\n",
       "</style>\n",
       "<div class=\"ansiout\"></div>"
      ]
     },
     "metadata": {
      "application/vnd.databricks.v1+output": {
       "addedWidgets": {},
       "arguments": {},
       "data": "<div class=\"ansiout\"></div>",
       "datasetInfos": [],
       "metadata": {},
       "removedWidgets": [],
       "type": "html"
      }
     },
     "output_type": "display_data"
    }
   ],
   "source": [
    "def get_sentences_sddl(text):\n",
    "\n",
    "    print ('with Spark NLP SentenceDetectorDL_HC')\n",
    "    print ('=======================================') \n",
    "    \n",
    "    for anno in sd_model.fullAnnotate(text)[0][\"sentences\"]:\n",
    "      \n",
    "        print(\"{}\\t{}\".format(\n",
    "            anno.metadata[\"sentence\"], anno.result.replace('\\n',''))) #anno.begin, anno.end,\n",
    "    return"
   ]
  },
  {
   "cell_type": "code",
   "execution_count": 0,
   "metadata": {
    "application/vnd.databricks.v1+cell": {
     "cellMetadata": {
      "byteLimit": 2048000,
      "rowLimit": 10000
     },
     "inputWidgets": {},
     "nuid": "77db2825-fbde-4e0f-b67a-245a860267be",
     "showTitle": false,
     "title": ""
    },
    "id": "PidoWaiGJGG8",
    "outputId": "9246a219-6c9c-4794-9a00-420b06679507"
   },
   "outputs": [
    {
     "output_type": "display_data",
     "data": {
      "text/html": [
       "<style scoped>\n",
       "  .ansiout {\n",
       "    display: block;\n",
       "    unicode-bidi: embed;\n",
       "    white-space: pre-wrap;\n",
       "    word-wrap: break-word;\n",
       "    word-break: break-all;\n",
       "    font-family: \"Source Code Pro\", \"Menlo\", monospace;;\n",
       "    font-size: 13px;\n",
       "    color: #555;\n",
       "    margin-left: 4px;\n",
       "    line-height: 19px;\n",
       "  }\n",
       "</style>\n",
       "<div class=\"ansiout\">Requirement already satisfied: spacy in /databricks/python3/lib/python3.8/site-packages (3.2.1)\r\n",
       "Requirement already satisfied: tqdm&lt;5.0.0,&gt;=4.38.0 in /databricks/python3/lib/python3.8/site-packages (from spacy) (4.59.0)\r\n",
       "Requirement already satisfied: pathy&gt;=0.3.5 in /databricks/python3/lib/python3.8/site-packages (from spacy) (0.6.0)\r\n",
       "Collecting pydantic!=1.8,!=1.8.1,&lt;1.9.0,&gt;=1.7.4\r\n",
       "  Downloading pydantic-1.8.2-cp38-cp38-manylinux2014_x86_64.whl (13.7 MB)\r\n",
       "                                | 10 kB 25.0 MB/s eta 0:00:01\r     |                                | 20 kB 26.5 MB/s eta 0:00:01\r     |                                | 30 kB 33.0 MB/s eta 0:00:01\r     |                                | 40 kB 22.6 MB/s eta 0:00:01\r     |▏                               | 51 kB 25.4 MB/s eta 0:00:01\r     |▏                               | 61 kB 28.6 MB/s eta 0:00:01\r     |▏                               | 71 kB 22.0 MB/s eta 0:00:01\r     |▏                               | 81 kB 23.7 MB/s eta 0:00:01\r     |▏                               | 92 kB 25.3 MB/s eta 0:00:01\r     |▎                               | 102 kB 21.2 MB/s eta 0:00:01\r     |▎                               | 112 kB 21.2 MB/s eta 0:00:01\r     |▎                               | 122 kB 21.2 MB/s eta 0:00:01\r     |▎                               | 133 kB 21.2 MB/s eta 0:00:01\r     |▍                               | 143 kB 21.2 MB/s eta 0:00:01\r     |▍                               | 153 kB 21.2 MB/s eta 0:00:01\r     |▍                               | 163 kB 21.2 MB/s eta 0:00:01\r     |▍                               | 174 kB 21.2 MB/s eta 0:00:01\r     |▍                               | 184 kB 21.2 MB/s eta 0:00:01\r     |▌                               | 194 kB 21.2 MB/s eta 0:00:01\r     |▌                               | 204 kB 21.2 MB/s eta 0:00:01\r     |▌                               | 215 kB 21.2 MB/s eta 0:00:01\r     |▌                               | 225 kB 21.2 MB/s eta 0:00:01\r     |▌                               | 235 kB 21.2 MB/s eta 0:00:01\r     |▋                               | 245 kB 21.2 MB/s eta 0:00:01\r     |▋                               | 256 kB 21.2 MB/s eta 0:00:01\r     |▋                               | 266 kB 21.2 MB/s eta 0:00:01\r     |▋                               | 276 kB 21.2 MB/s eta 0:00:01\r     |▊                               | 286 kB 21.2 MB/s eta 0:00:01\r     |▊                               | 296 kB 21.2 MB/s eta 0:00:01\r     |▊                               | 307 kB 21.2 MB/s eta 0:00:01\r     |▊                               | 317 kB 21.2 MB/s eta 0:00:01\r     |▊                               | 327 kB 21.2 MB/s eta 0:00:01\r     |▉                               | 337 kB 21.2 MB/s eta 0:00:01\r     |▉                               | 348 kB 21.2 MB/s eta 0:00:01\r     |▉                               | 358 kB 21.2 MB/s eta 0:00:01\r     |▉                               | 368 kB 21.2 MB/s eta 0:00:01\r     |▉                               | 378 kB 21.2 MB/s eta 0:00:01\r     |█                               | 389 kB 21.2 MB/s eta 0:00:01\r     |█                               | 399 kB 21.2 MB/s eta 0:00:01\r     |█                               | 409 kB 21.2 MB/s eta 0:00:01\r     |█                               | 419 kB 21.2 MB/s eta 0:00:01\r     |█                               | 430 kB 21.2 MB/s eta 0:00:01\r     |█                               | 440 kB 21.2 MB/s eta 0:00:01\r     |█                               | 450 kB 21.2 MB/s eta 0:00:01\r     |█                               | 460 kB 21.2 MB/s eta 0:00:01\r     |█                               | 471 kB 21.2 MB/s eta 0:00:01\r     |█▏                              | 481 kB 21.2 MB/s eta 0:00:01\r     |█▏                              | 491 kB 21.2 MB/s eta 0:00:01\r     |█▏                              | 501 kB 21.2 MB/s eta 0:00:01\r     |█▏                              | 512 kB 21.2 MB/s eta 0:00:01\r     |█▏                              | 522 kB 21.2 MB/s eta 0:00:01\r     |█▎                              | 532 kB 21.2 MB/s eta 0:00:01\r     |█▎                              | 542 kB 21.2 MB/s eta 0:00:01\r     |█▎                              | 552 kB 21.2 MB/s eta 0:00:01\r     |█▎                              | 563 kB 21.2 MB/s eta 0:00:01\r     |█▍                              | 573 kB 21.2 MB/s eta 0:00:01\r     |█▍                              | 583 kB 21.2 MB/s eta 0:00:01\r     |█▍                              | 593 kB 21.2 MB/s eta 0:00:01\r     |█▍                              | 604 kB 21.2 MB/s eta 0:00:01\r     |█▍                              | 614 kB 21.2 MB/s eta 0:00:01\r     |█▌                              | 624 kB 21.2 MB/s eta 0:00:01\r     |█▌                              | 634 kB 21.2 MB/s eta 0:00:01\r     |█▌                              | 645 kB 21.2 MB/s eta 0:00:01\r     |█▌                              | 655 kB 21.2 MB/s eta 0:00:01\r     |█▌                              | 665 kB 21.2 MB/s eta 0:00:01\r     |█▋                              | 675 kB 21.2 MB/s eta 0:00:01\r     |█▋                              | 686 kB 21.2 MB/s eta 0:00:01\r     |█▋                              | 696 kB 21.2 MB/s eta 0:00:01\r     |█▋                              | 706 kB 21.2 MB/s eta 0:00:01\r     |█▊                              | 716 kB 21.2 MB/s eta 0:00:01\r     |█▊                              | 727 kB 21.2 MB/s eta 0:00:01\r     |█▊                              | 737 kB 21.2 MB/s eta 0:00:01\r     |█▊                              | 747 kB 21.2 MB/s eta 0:00:01\r     |█▊                              | 757 kB 21.2 MB/s eta 0:00:01\r     |█▉                              | 768 kB 21.2 MB/s eta 0:00:01\r     |█▉                              | 778 kB 21.2 MB/s eta 0:00:01\r     |█▉                              | 788 kB 21.2 MB/s eta 0:00:01\r     |█▉                              | 798 kB 21.2 MB/s eta 0:00:01\r     |██                              | 808 kB 21.2 MB/s eta 0:00:01\r     |██                              | 819 kB 21.2 MB/s eta 0:00:01\r     |██                              | 829 kB 21.2 MB/s eta 0:00:01\r     |██                              | 839 kB 21.2 MB/s eta 0:00:01\r     |██                              | 849 kB 21.2 MB/s eta 0:00:01\r     |██                              | 860 kB 21.2 MB/s eta 0:00:01\r     |██                              | 870 kB 21.2 MB/s eta 0:00:01\r     |██                              | 880 kB 21.2 MB/s eta 0:00:01\r     |██                              | 890 kB 21.2 MB/s eta 0:00:01\r     |██                              | 901 kB 21.2 MB/s eta 0:00:01\r     |██▏                             | 911 kB 21.2 MB/s eta 0:00:01\r     |██▏                             | 921 kB 21.2 MB/s eta 0:00:01\r     |██▏                             | 931 kB 21.2 MB/s eta 0:00:01\r     |██▏                             | 942 kB 21.2 MB/s eta 0:00:01\r     |██▎                             | 952 kB 21.2 MB/s eta 0:00:01\r     |██▎                             | 962 kB 21.2 MB/s eta 0:00:01\r     |██▎                             | 972 kB 21.2 MB/s eta 0:00:01\r     |██▎                             | 983 kB 21.2 MB/s eta 0:00:01\r     |██▎                             | 993 kB 21.2 MB/s eta 0:00:01\r     |██▍                             | 1.0 MB 21.2 MB/s eta 0:00:01\r     |██▍                             | 1.0 MB 21.2 MB/s eta 0:00:01\r     |██▍                             | 1.0 MB 21.2 MB/s eta 0:00:01\r     |██▍                             | 1.0 MB 21.2 MB/s eta 0:00:01\r     |██▍                             | 1.0 MB 21.2 MB/s eta 0:00:01\r     |██▌                             | 1.1 MB 21.2 MB/s eta 0:00:01\r     |██▌                             | 1.1 MB 21.2 MB/s eta 0:00:01\r     |██▌                             | 1.1 MB 21.2 MB/s eta 0:00:01\r     |██▌                             | 1.1 MB 21.2 MB/s eta 0:00:01\r     |██▋                             | 1.1 MB 21.2 MB/s eta 0:00:01\r     |██▋                             | 1.1 MB 21.2 MB/s eta 0:00:01\r     |██▋                             | 1.1 MB 21.2 MB/s eta 0:00:01\r     |██▋                             | 1.1 MB 21.2 MB/s eta 0:00:01\r     |██▋                             | 1.1 MB 21.2 MB/s eta 0:00:01\r     |██▊                             | 1.1 MB 21.2 MB/s eta 0:00:01\r     |██▊                             | 1.2 MB 21.2 MB/s eta 0:00:01\r     |██▊                             | 1.2 MB 21.2 MB/s eta 0:00:01\r     |██▊                             | 1.2 MB 21.2 MB/s eta 0:00:01\r     |██▊                             | 1.2 MB 21.2 MB/s eta 0:00:01\r     |██▉                             | 1.2 MB 21.2 MB/s eta 0:00:01\r     |██▉                             | 1.2 MB 21.2 MB/s eta 0:00:01\r     |██▉                             | 1.2 MB 21.2 MB/s eta 0:00:01\r     |██▉                             | 1.2 MB 21.2 MB/s eta 0:00:01\r     |███                             | 1.2 MB 21.2 MB/s eta 0:00:01\r     |███                             | 1.2 MB 21.2 MB/s eta 0:00:01\r     |███                             | 1.3 MB 21.2 MB/s eta 0:00:01\r     |███                             | 1.3 MB 21.2 MB/s eta 0:00:01\r     |███                             | 1.3 MB 21.2 MB/s eta 0:00:01\r     |███                             | 1.3 MB 21.2 MB/s eta 0:00:01\r     |███                             | 1.3 MB 21.2 MB/s eta 0:00:01\r     |███                             | 1.3 MB 21.2 MB/s eta 0:00:01\r     |███                             | 1.3 MB 21.2 MB/s eta 0:00:01\r     |███                             | 1.3 MB 21.2 MB/s eta 0:00:01\r     |███▏                            | 1.3 MB 21.2 MB/s eta 0:00:01\r     |███▏                            | 1.4 MB 21.2 MB/s eta 0:00:01\r     |███▏                            | 1.4 MB 21.2 MB/s eta 0:00:01\r     |███▏                            | 1.4 MB 21.2 MB/s eta 0:00:01\r     |███▎                            | 1.4 MB 21.2 MB/s eta 0:00:01\r     |███▎                            | 1.4 MB 21.2 MB/s eta 0:00:01\r     |███▎                            | 1.4 MB 21.2 MB/s eta 0:00:01\r     |███▎                            | 1.4 MB 21.2 MB/s eta 0:00:01\r     |███▎                            | 1.4 MB 21.2 MB/s eta 0:00:01\r     |███▍                            | 1.4 MB 21.2 MB/s eta 0:00:01\r     |███▍                            | 1.4 MB 21.2 MB/s eta 0:00:01\r     |███▍                            | 1.5 MB 21.2 MB/s eta 0:00:01\r     |███▍                            | 1.5 MB 21.2 MB/s eta 0:00:01\r     |███▍                            | 1.5 MB 21.2 MB/s eta 0:00:01\r     |███▌                            | 1.5 MB 21.2 MB/s eta 0:00:01\r     |███▌                            | 1.5 MB 21.2 MB/s eta 0:00:01\r     |███▌                            | 1.5 MB 21.2 MB/s eta 0:00:01\r     |███▌                            | 1.5 MB 21.2 MB/s eta 0:00:01\r     |███▋                            | 1.5 MB 21.2 MB/s eta 0:00:01\r     |███▋                            | 1.5 MB 21.2 MB/s eta 0:00:01\r     |███▋                            | 1.5 MB 21.2 MB/s eta 0:00:01\r     |███▋                            | 1.6 MB 21.2 MB/s eta 0:00:01\r     |███▋                            | 1.6 MB 21.2 MB/s eta 0:00:01\r     |███▊                            | 1.6 MB 21.2 MB/s eta 0:00:01\r     |███▊                            | 1.6 MB 21.2 MB/s eta 0:00:01\r     |███▊                            | 1.6 MB 21.2 MB/s eta 0:00:01\r     |███▊                            | 1.6 MB 21.2 MB/s eta 0:00:01\r     |███▉                            | 1.6 MB 21.2 MB/s eta 0:00:01\r     |███▉                            | 1.6 MB 21.2 MB/s eta 0:00:01\r     |███▉                            | 1.6 MB 21.2 MB/s eta 0:00:01\r     |███▉                            | 1.6 MB 21.2 MB/s eta 0:00:01\r     |███▉                            | 1.7 MB 21.2 MB/s eta 0:00:01\r     |████                            | 1.7 MB 21.2 MB/s eta 0:00:01\r     |████                            | 1.7 MB 21.2 MB/s eta 0:00:01\r     |████                            | 1.7 MB 21.2 MB/s eta 0:00:01\r     |████                            | 1.7 MB 21.2 MB/s eta 0:00:01\r     |████                            | 1.7 MB 21.2 MB/s eta 0:00:01\r     |████                            | 1.7 MB 21.2 MB/s eta 0:00:01\r     |████                            | 1.7 MB 21.2 MB/s eta 0:00:01\r     |████                            | 1.7 MB 21.2 MB/s eta 0:00:01\r     |████                            | 1.8 MB 21.2 MB/s eta 0:00:01\r     |████▏                           | 1.8 MB 21.2 MB/s eta 0:00:01\r     |████▏                           | 1.8 MB 21.2 MB/s eta 0:00:01\r     |████▏                           | 1.8 MB 21.2 MB/s eta 0:00:01\r     |████▏                           | 1.8 MB 21.2 MB/s eta 0:00:01\r     |████▏                           | 1.8 MB 21.2 MB/s eta 0:00:01\r     |████▎                           | 1.8 MB 21.2 MB/s eta 0:00:01\r     |████▎                           | 1.8 MB 21.2 MB/s eta 0:00:01\r     |████▎                           | 1.8 MB 21.2 MB/s eta 0:00:01\r     |████▎                           | 1.8 MB 21.2 MB/s eta 0:00:01\r     |████▎                           | 1.9 MB 21.2 MB/s eta 0:00:01\r     |████▍                           | 1.9 MB 21.2 MB/s eta 0:00:01\r     |████▍                           | 1.9 MB 21.2 MB/s eta 0:00:01\r     |████▍                           | 1.9 MB 21.2 MB/s eta 0:00:01\r     |████▍                           | 1.9 MB 21.2 MB/s eta 0:00:01\r     |████▌                           | 1.9 MB 21.2 MB/s eta 0:00:01\r     |████▌                           | 1.9 MB 21.2 MB/s eta 0:00:01\r     |████▌                           | 1.9 MB 21.2 MB/s eta 0:00:01\r     |████▌                           | 1.9 MB 21.2 MB/s eta 0:00:01\r     |████▌                           | 1.9 MB 21.2 MB/s eta 0:00:01\r     |████▋                           | 2.0 MB 21.2 MB/s eta 0:00:01\r     |████▋                           | 2.0 MB 21.2 MB/s eta 0:00:01\r     |████▋                           | 2.0 MB 21.2 MB/s eta 0:00:01\r     |████▋                           | 2.0 MB 21.2 MB/s eta 0:00:01\r     |████▋                           | 2.0 MB 21.2 MB/s eta 0:00:01\r     |████▊                           | 2.0 MB 21.2 MB/s eta 0:00:01\r     |████▊                           | 2.0 MB 21.2 MB/s eta 0:00:01\r     |████▊                           | 2.0 MB 21.2 MB/s eta 0:00:01\r     |████▊                           | 2.0 MB 21.2 MB/s eta 0:00:01\r     |████▉                           | 2.0 MB 21.2 MB/s eta 0:00:01\r     |████▉                           | 2.1 MB 21.2 MB/s eta 0:00:01\r     |████▉                           | 2.1 MB 21.2 MB/s eta 0:00:01\r     |████▉                           | 2.1 MB 21.2 MB/s eta 0:00:01\r     |████▉                           | 2.1 MB 21.2 MB/s eta 0:00:01\r     |█████                           | 2.1 MB 21.2 MB/s eta 0:00:01\r     |█████                           | 2.1 MB 21.2 MB/s eta 0:00:01\r     |█████                           | 2.1 MB 21.2 MB/s eta 0:00:01\r     |█████                           | 2.1 MB 21.2 MB/s eta 0:00:01\r     |█████                           | 2.1 MB 21.2 MB/s eta 0:00:01\r     |█████                           | 2.2 MB 21.2 MB/s eta 0:00:01\r     |█████                           | 2.2 MB 21.2 MB/s eta 0:00:01\r     |█████                           | 2.2 MB 21.2 MB/s eta 0:00:01\r     |█████                           | 2.2 MB 21.2 MB/s eta 0:00:01\r     |█████▏                          | 2.2 MB 21.2 MB/s eta 0:00:01\r     |█████▏                          | 2.2 MB 21.2 MB/s eta 0:00:01\r     |█████▏                          | 2.2 MB 21.2 MB/s eta 0:00:01\r     |█████▏                          | 2.2 MB 21.2 MB/s eta 0:00:01\r     |█████▏                          | 2.2 MB 21.2 MB/s eta 0:00:01\r     |█████▎                          | 2.2 MB 21.2 MB/s eta 0:00:01\r     |█████▎                          | 2.3 MB 21.2 MB/s eta 0:00:01\r     |█████▎                          | 2.3 MB 21.2 MB/s eta 0:00:01\r     |█████▎                          | 2.3 MB 21.2 MB/s eta 0:00:01\r     |█████▎                          | 2.3 MB 21.2 MB/s eta 0:00:01\r     |█████▍                          | 2.3 MB 21.2 MB/s eta 0:00:01\r     |█████▍                          | 2.3 MB 21.2 MB/s eta 0:00:01\r     |█████▍                          | 2.3 MB 21.2 MB/s eta 0:00:01\r     |█████▍                          | 2.3 MB 21.2 MB/s eta 0:00:01\r     |█████▌                          | 2.3 MB 21.2 MB/s eta 0:00:01\r     |█████▌                          | 2.3 MB 21.2 MB/s eta 0:00:01\r     |█████▌                          | 2.4 MB 21.2 MB/s eta 0:00:01\r     |█████▌                          | 2.4 MB 21.2 MB/s eta 0:00:01\r     |█████▌                          | 2.4 MB 21.2 MB/s eta 0:00:01\r     |█████▋                          | 2.4 MB 21.2 MB/s eta 0:00:01\r     |█████▋                          | 2.4 MB 21.2 MB/s eta 0:00:01\r     |█████▋                          | 2.4 MB 21.2 MB/s eta 0:00:01\r     |█████▋                          | 2.4 MB 21.2 MB/s eta 0:00:01\r     |█████▊                          | 2.4 MB 21.2 MB/s eta 0:00:01\r     |█████▊                          | 2.4 MB 21.2 MB/s eta 0:00:01\r     |█████▊                          | 2.4 MB 21.2 MB/s eta 0:00:01\r     |█████▊                          | 2.5 MB 21.2 MB/s eta 0:00:01\r     |█████▊                          | 2.5 MB 21.2 MB/s eta 0:00:01\r     |█████▉                          | 2.5 MB 21.2 MB/s eta 0:00:01\r     |█████▉                          | 2.5 MB 21.2 MB/s eta 0:00:01\r     |█████▉                          | 2.5 MB 21.2 MB/s eta 0:00:01\r     |█████▉                          | 2.5 MB 21.2 MB/s eta 0:00:01\r     |█████▉                          | 2.5 MB 21.2 MB/s eta 0:00:01\r     |██████                          | 2.5 MB 21.2 MB/s eta 0:00:01\r     |██████                          | 2.5 MB 21.2 MB/s eta 0:00:01\r     |██████                          | 2.5 MB 21.2 MB/s eta 0:00:01\r     |██████                          | 2.6 MB 21.2 MB/s eta 0:00:01\r     |██████                          | 2.6 MB 21.2 MB/s eta 0:00:01\r     |██████                          | 2.6 MB 21.2 MB/s eta 0:00:01\r     |██████                          | 2.6 MB 21.2 MB/s eta 0:00:01\r     |██████                          | 2.6 MB 21.2 MB/s eta 0:00:01\r     |██████                          | 2.6 MB 21.2 MB/s eta 0:00:01\r     |██████▏                         | 2.6 MB 21.2 MB/s eta 0:00:01\r     |██████▏                         | 2.6 MB 21.2 MB/s eta 0:00:01\r     |██████▏                         | 2.6 MB 21.2 MB/s eta 0:00:01\r     |██████▏                         | 2.7 MB 21.2 MB/s eta 0:00:01\r     |██████▏                         | 2.7 MB 21.2 MB/s eta 0:00:01\r     |██████▎                         | 2.7 MB 21.2 MB/s eta 0:00:01\r     |██████▎                         | 2.7 MB 21.2 MB/s eta 0:00:01\r     |██████▎                         | 2.7 MB 21.2 MB/s eta 0:00:01\r     |██████▎                         | 2.7 MB 21.2 MB/s eta 0:00:01\r     |██████▍                         | 2.7 MB 21.2 MB/s eta 0:00:01\r     |██████▍                         | 2.7 MB 21.2 MB/s eta 0:00:01\r     |██████▍                         | 2.7 MB 21.2 MB/s eta 0:00:01\r     |██████▍                         | 2.7 MB 21.2 MB/s eta 0:00:01\r     |██████▍                         | 2.8 MB 21.2 MB/s eta 0:00:01\r     |██████▌                         | 2.8 MB 21.2 MB/s eta 0:00:01\r     |██████▌                         | 2.8 MB 21.2 MB/s eta 0:00:01\r     |██████▌                         | 2.8 MB 21.2 MB/s eta 0:00:01\r     |██████▌                         | 2.8 MB 21.2 MB/s eta 0:00:01\r     |██████▌                         | 2.8 MB 21.2 MB/s eta 0:00:01\r     |██████▋                         | 2.8 MB 21.2 MB/s eta 0:00:01\r     |██████▋                         | 2.8 MB 21.2 MB/s eta 0:00:01\r     |██████▋                         | 2.8 MB 21.2 MB/s eta 0:00:01\r     |██████▋                         | 2.8 MB 21.2 MB/s eta 0:00:01\r     |██████▊                         | 2.9 MB 21.2 MB/s eta 0:00:01\r     |██████▊                         | 2.9 MB 21.2 MB/s eta 0:00:01\r     |██████▊                         | 2.9 MB 21.2 MB/s eta 0:00:01\r     |██████▊                         | 2.9 MB 21.2 MB/s eta 0:00:01\r     |██████▊                         | 2.9 MB 21.2 MB/s eta 0:00:01\r     |██████▉                         | 2.9 MB 21.2 MB/s eta 0:00:01\r     |██████▉                         | 2.9 MB 21.2 MB/s eta 0:00:01\r     |██████▉                         | 2.9 MB 21.2 MB/s eta 0:00:01\r     |██████▉                         | 2.9 MB 21.2 MB/s eta 0:00:01\r     |██████▉                         | 2.9 MB 21.2 MB/s eta 0:00:01\r     |███████                         | 3.0 MB 21.2 MB/s eta 0:00:01\r     |███████                         | 3.0 MB 21.2 MB/s eta 0:00:01\r     |███████                         | 3.0 MB 21.2 MB/s eta 0:00:01\r     |███████                         | 3.0 MB 21.2 MB/s eta 0:00:01\r     |███████                         | 3.0 MB 21.2 MB/s eta 0:00:01\r     |███████                         | 3.0 MB 21.2 MB/s eta 0:00:01\r     |███████                         | 3.0 MB 21.2 MB/s eta 0:00:01\r     |███████                         | 3.0 MB 21.2 MB/s eta 0:00:01\r     |███████                         | 3.0 MB 21.2 MB/s eta 0:00:01\r     |███████▏                        | 3.1 MB 21.2 MB/s eta 0:00:01\r     |███████▏                        | 3.1 MB 21.2 MB/s eta 0:00:01\r     |███████▏                        | 3.1 MB 21.2 MB/s eta 0:00:01\r     |███████▏                        | 3.1 MB 21.2 MB/s eta 0:00:01\r     |███████▏                        | 3.1 MB 21.2 MB/s eta 0:00:01\r     |███████▎                        | 3.1 MB 21.2 MB/s eta 0:00:01\r     |███████▎                        | 3.1 MB 21.2 MB/s eta 0:00:01\r     |███████▎                        | 3.1 MB 21.2 MB/s eta 0:00:01\r     |███████▎                        | 3.1 MB 21.2 MB/s eta 0:00:01\r     |███████▍                        | 3.1 MB 21.2 MB/s eta 0:00:01\r     |███████▍                        | 3.2 MB 21.2 MB/s eta 0:00:01\r     |███████▍                        | 3.2 MB 21.2 MB/s eta 0:00:01\r     |███████▍                        | 3.2 MB 21.2 MB/s eta 0:00:01\r     |███████▍                        | 3.2 MB 21.2 MB/s eta 0:00:01\r     |███████▌                        | 3.2 MB 21.2 MB/s eta 0:00:01\r     |███████▌                        | 3.2 MB 21.2 MB/s eta 0:00:01\r     |███████▌                        | 3.2 MB 21.2 MB/s eta 0:00:01\r     |███████▌                        | 3.2 MB 21.2 MB/s eta 0:00:01\r     |███████▋                        | 3.2 MB 21.2 MB/s eta 0:00:01\r     |███████▋                        | 3.2 MB 21.2 MB/s eta 0:00:01\r     |███████▋                        | 3.3 MB 21.2 MB/s eta 0:00:01\r     |███████▋                        | 3.3 MB 21.2 MB/s eta 0:00:01\r     |███████▋                        | 3.3 MB 21.2 MB/s eta 0:00:01\r     |███████▊                        | 3.3 MB 21.2 MB/s eta 0:00:01\r     |███████▊                        | 3.3 MB 21.2 MB/s eta 0:00:01\r     |███████▊                        | 3.3 MB 21.2 MB/s eta 0:00:01\r     |███████▊                        | 3.3 MB 21.2 MB/s eta 0:00:01\r     |███████▊                        | 3.3 MB 21.2 MB/s eta 0:00:01\r     |███████▉                        | 3.3 MB 21.2 MB/s eta 0:00:01\r     |███████▉                        | 3.3 MB 21.2 MB/s eta 0:00:01\r     |███████▉                        | 3.4 MB 21.2 MB/s eta 0:00:01\r     |███████▉                        | 3.4 MB 21.2 MB/s eta 0:00:01\r     |████████                        | 3.4 MB 21.2 MB/s eta 0:00:01\r     |████████                        | 3.4 MB 21.2 MB/s eta 0:00:01\r     |████████                        | 3.4 MB 21.2 MB/s eta 0:00:01\r     |████████                        | 3.4 MB 21.2 MB/s eta 0:00:01\r     |████████                        | 3.4 MB 21.2 MB/s eta 0:00:01\r     |████████                        | 3.4 MB 21.2 MB/s eta 0:00:01\r     |████████                        | 3.4 MB 21.2 MB/s eta 0:00:01\r     |████████                        | 3.5 MB 21.2 MB/s eta 0:00:01\r     |████████                        | 3.5 MB 21.2 MB/s eta 0:00:01\r     |████████                        | 3.5 MB 21.2 MB/s eta 0:00:01\r     |████████▏                       | 3.5 MB 21.2 MB/s eta 0:00:01\r     |████████▏                       | 3.5 MB 21.2 MB/s eta 0:00:01\r     |████████▏                       | 3.5 MB 21.2 MB/s eta 0:00:01\r     |████████▏                       | 3.5 MB 21.2 MB/s eta 0:00:01\r     |████████▎                       | 3.5 MB 21.2 MB/s eta 0:00:01\r     |████████▎                       | 3.5 MB 21.2 MB/s eta 0:00:01\r     |████████▎                       | 3.5 MB 21.2 MB/s eta 0:00:01\r     |████████▎                       | 3.6 MB 21.2 MB/s eta 0:00:01\r     |████████▎                       | 3.6 MB 21.2 MB/s eta 0:00:01\r     |████████▍                       | 3.6 MB 21.2 MB/s eta 0:00:01\r     |████████▍                       | 3.6 MB 21.2 MB/s eta 0:00:01\r     |████████▍                       | 3.6 MB 21.2 MB/s eta 0:00:01\r     |████████▍                       | 3.6 MB 21.2 MB/s eta 0:00:01\r     |████████▍                       | 3.6 MB 21.2 MB/s eta 0:00:01\r     |████████▌                       | 3.6 MB 21.2 MB/s eta 0:00:01\r     |████████▌                       | 3.6 MB 21.2 MB/s eta 0:00:01\r     |████████▌                       | 3.6 MB 21.2 MB/s eta 0:00:01\r     |████████▌                       | 3.7 MB 21.2 MB/s eta 0:00:01\r     |████████▋                       | 3.7 MB 21.2 MB/s eta 0:00:01\r     |████████▋                       | 3.7 MB 21.2 MB/s eta 0:00:01\r     |████████▋                       | 3.7 MB 21.2 MB/s eta 0:00:01\r     |████████▋                       | 3.7 MB 21.2 MB/s eta 0:00:01\r     |████████▋                       | 3.7 MB 21.2 MB/s eta 0:00:01\r     |████████▊                       | 3.7 MB 21.2 MB/s eta 0:00:01\r     |████████▊                       | 3.7 MB 21.2 MB/s eta 0:00:01\r     |████████▊                       | 3.7 MB 21.2 MB/s eta 0:00:01\r     |████████▊                       | 3.7 MB 21.2 MB/s eta 0:00:01\r     |████████▊                       | 3.8 MB 21.2 MB/s eta 0:00:01\r     |████████▉                       | 3.8 MB 21.2 MB/s eta 0:00:01\r     |████████▉                       | 3.8 MB 21.2 MB/s eta 0:00:01\r     |████████▉                       | 3.8 MB 21.2 MB/s eta 0:00:01\r     |████████▉                       | 3.8 MB 21.2 MB/s eta 0:00:01\r     |█████████                       | 3.8 MB 21.2 MB/s eta 0:00:01\r     |█████████                       | 3.8 MB 21.2 MB/s eta 0:00:01\r     |█████████                       | 3.8 MB 21.2 MB/s eta 0:00:01\r     |█████████                       | 3.8 MB 21.2 MB/s eta 0:00:01\r     |█████████                       | 3.9 MB 21.2 MB/s eta 0:00:01\r     |█████████                       | 3.9 MB 21.2 MB/s eta 0:00:01\r     |█████████                       | 3.9 MB 21.2 MB/s eta 0:00:01\r     |█████████                       | 3.9 MB 21.2 MB/s eta 0:00:01\r     |█████████                       | 3.9 MB 21.2 MB/s eta 0:00:01\r     |█████████▏                      | 3.9 MB 21.2 MB/s eta 0:00:01\r     |█████████▏                      | 3.9 MB 21.2 MB/s eta 0:00:01\r     |█████████▏                      | 3.9 MB 21.2 MB/s eta 0:00:01\r     |█████████▏                      | 3.9 MB 21.2 MB/s eta 0:00:01\r     |█████████▏                      | 3.9 MB 21.2 MB/s eta 0:00:01\r     |█████████▎                      | 4.0 MB 21.2 MB/s eta 0:00:01\r     |█████████▎                      | 4.0 MB 21.2 MB/s eta 0:00:01\r     |█████████▎                      | 4.0 MB 21.2 MB/s eta 0:00:01\r     |█████████▎                      | 4.0 MB 21.2 MB/s eta 0:00:01\r     |█████████▎                      | 4.0 MB 21.2 MB/s eta 0:00:01\r     |█████████▍                      | 4.0 MB 21.2 MB/s eta 0:00:01\r     |█████████▍                      | 4.0 MB 21.2 MB/s eta 0:00:01\r     |█████████▍                      | 4.0 MB 21.2 MB/s eta 0:00:01\r     |█████████▍                      | 4.0 MB 21.2 MB/s eta 0:00:01\r     |█████████▌                      | 4.0 MB 21.2 MB/s eta 0:00:01\r     |█████████▌                      | 4.1 MB 21.2 MB/s eta 0:00:01\r     |█████████▌                      | 4.1 MB 21.2 MB/s eta 0:00:01\r     |█████████▌                      | 4.1 MB 21.2 MB/s eta 0:00:01\r     |█████████▌                      | 4.1 MB 21.2 MB/s eta 0:00:01\r     |█████████▋                      | 4.1 MB 21.2 MB/s eta 0:00:01\r     |█████████▋                      | 4.1 MB 21.2 MB/s eta 0:00:01\r     |█████████▋                      | 4.1 MB 21.2 MB/s eta 0:00:01\r     |█████████▋                      | 4.1 MB 21.2 MB/s eta 0:00:01\r     |█████████▋                      | 4.1 MB 21.2 MB/s eta 0:00:01\r     |█████████▊                      | 4.1 MB 21.2 MB/s eta 0:00:01\r     |█████████▊                      | 4.2 MB 21.2 MB/s eta 0:00:01\r     |█████████▊                      | 4.2 MB 21.2 MB/s eta 0:00:01\r     |█████████▊                      | 4.2 MB 21.2 MB/s eta 0:00:01\r     |█████████▉                      | 4.2 MB 21.2 MB/s eta 0:00:01\r     |█████████▉                      | 4.2 MB 21.2 MB/s eta 0:00:01\r     |█████████▉                      | 4.2 MB 21.2 MB/s eta 0:00:01\r     |█████████▉                      | 4.2 MB 21.2 MB/s eta 0:00:01\r     |█████████▉                      | 4.2 MB 21.2 MB/s eta 0:00:01\r     |██████████                      | 4.2 MB 21.2 MB/s eta 0:00:01\r     |██████████                      | 4.2 MB 21.2 MB/s eta 0:00:01\r     |██████████                      | 4.3 MB 21.2 MB/s eta 0:00:01\r     |██████████                      | 4.3 MB 21.2 MB/s eta 0:00:01\r     |██████████                      | 4.3 MB 21.2 MB/s eta 0:00:01\r     |██████████                      | 4.3 MB 21.2 MB/s eta 0:00:01\r     |██████████                      | 4.3 MB 21.2 MB/s eta 0:00:01\r     |██████████                      | 4.3 MB 21.2 MB/s eta 0:00:01\r     |██████████                      | 4.3 MB 21.2 MB/s eta 0:00:01\r     |██████████▏                     | 4.3 MB 21.2 MB/s eta 0:00:01\r     |██████████▏                     | 4.3 MB 21.2 MB/s eta 0:00:01\r     |██████████▏                     | 4.4 MB 21.2 MB/s eta 0:00:01\r     |██████████▏                     | 4.4 MB 21.2 MB/s eta 0:00:01\r     |██████████▏                     | 4.4 MB 21.2 MB/s eta 0:00:01\r     |██████████▎                     | 4.4 MB 21.2 MB/s eta 0:00:01\r     |██████████▎                     | 4.4 MB 21.2 MB/s eta 0:00:01\r     |██████████▎                     | 4.4 MB 21.2 MB/s eta 0:00:01\r     |██████████▎                     | 4.4 MB 21.2 MB/s eta 0:00:01\r     |██████████▎                     | 4.4 MB 21.2 MB/s eta 0:00:01\r     |██████████▍                     | 4.4 MB 21.2 MB/s eta 0:00:01\r     |██████████▍                     | 4.4 MB 21.2 MB/s eta 0:00:01\r     |██████████▍                     | 4.5 MB 21.2 MB/s eta 0:00:01\r     |██████████▍                     | 4.5 MB 21.2 MB/s eta 0:00:01\r     |██████████▌                     | 4.5 MB 21.2 MB/s eta 0:00:01\r     |██████████▌                     | 4.5 MB 21.2 MB/s eta 0:00:01\r     |██████████▌                     | 4.5 MB 21.2 MB/s eta 0:00:01\r     |██████████▌                     | 4.5 MB 21.2 MB/s eta 0:00:01\r     |██████████▌                     | 4.5 MB 21.2 MB/s eta 0:00:01\r     |██████████▋                     | 4.5 MB 21.2 MB/s eta 0:00:01\r     |██████████▋                     | 4.5 MB 21.2 MB/s eta 0:00:01\r     |██████████▋                     | 4.5 MB 21.2 MB/s eta 0:00:01\r     |██████████▋                     | 4.6 MB 21.2 MB/s eta 0:00:01\r     |██████████▋                     | 4.6 MB 21.2 MB/s eta 0:00:01\r     |██████████▊                     | 4.6 MB 21.2 MB/s eta 0:00:01\r     |██████████▊                     | 4.6 MB 21.2 MB/s eta 0:00:01\r     |██████████▊                     | 4.6 MB 21.2 MB/s eta 0:00:01\r     |██████████▊                     | 4.6 MB 21.2 MB/s eta 0:00:01\r     |██████████▉                     | 4.6 MB 21.2 MB/s eta 0:00:01\r     |██████████▉                     | 4.6 MB 21.2 MB/s eta 0:00:01\r     |██████████▉                     | 4.6 MB 21.2 MB/s eta 0:00:01\r     |██████████▉                     | 4.6 MB 21.2 MB/s eta 0:00:01\r     |██████████▉                     | 4.7 MB 21.2 MB/s eta 0:00:01\r     |███████████                     | 4.7 MB 21.2 MB/s eta 0:00:01\r     |███████████                     | 4.7 MB 21.2 MB/s eta 0:00:01\r     |███████████                     | 4.7 MB 21.2 MB/s eta 0:00:01\r     |███████████                     | 4.7 MB 21.2 MB/s eta 0:00:01\r     |███████████                     | 4.7 MB 21.2 MB/s eta 0:00:01\r     |███████████                     | 4.7 MB 21.2 MB/s eta 0:00:01\r     |███████████                     | 4.7 MB 21.2 MB/s eta 0:00:01\r     |███████████                     | 4.7 MB 21.2 MB/s eta 0:00:01\r     |███████████                     | 4.8 MB 21.2 MB/s eta 0:00:01\r     |███████████▏                    | 4.8 MB 21.2 MB/s eta 0:00:01\r     |███████████▏                    | 4.8 MB 21.2 MB/s eta 0:00:01\r     |███████████▏                    | 4.8 MB 21.2 MB/s eta 0:00:01\r     |███████████▏                    | 4.8 MB 21.2 MB/s eta 0:00:01\r     |███████████▏                    | 4.8 MB 21.2 MB/s eta 0:00:01\r     |███████████▎                    | 4.8 MB 21.2 MB/s eta 0:00:01\r     |███████████▎                    | 4.8 MB 21.2 MB/s eta 0:00:01\r     |███████████▎                    | 4.8 MB 21.2 MB/s eta 0:00:01\r     |███████████▎                    | 4.8 MB 21.2 MB/s eta 0:00:01\r     |███████████▍                    | 4.9 MB 21.2 MB/s eta 0:00:01\r     |███████████▍                    | 4.9 MB 21.2 MB/s eta 0:00:01\r     |███████████▍                    | 4.9 MB 21.2 MB/s eta 0:00:01\r     |███████████▍                    | 4.9 MB 21.2 MB/s eta 0:00:01\r     |███████████▍                    | 4.9 MB 21.2 MB/s eta 0:00:01\r     |███████████▌                    | 4.9 MB 21.2 MB/s eta 0:00:01\r     |███████████▌                    | 4.9 MB 21.2 MB/s eta 0:00:01\r     |███████████▌                    | 4.9 MB 21.2 MB/s eta 0:00:01\r     |███████████▌                    | 4.9 MB 21.2 MB/s eta 0:00:01\r     |███████████▌                    | 4.9 MB 21.2 MB/s eta 0:00:01\r     |███████████▋                    | 5.0 MB 21.2 MB/s eta 0:00:01\r     |███████████▋                    | 5.0 MB 21.2 MB/s eta 0:00:01\r     |███████████▋                    | 5.0 MB 21.2 MB/s eta 0:00:01\r     |███████████▋                    | 5.0 MB 21.2 MB/s eta 0:00:01\r     |███████████▊                    | 5.0 MB 21.2 MB/s eta 0:00:01\r     |███████████▊                    | 5.0 MB 21.2 MB/s eta 0:00:01\r     |███████████▊                    | 5.0 MB 21.2 MB/s eta 0:00:01\r     |███████████▊                    | 5.0 MB 21.2 MB/s eta 0:00:01\r     |███████████▊                    | 5.0 MB 21.2 MB/s eta 0:00:01\r     |███████████▉                    | 5.0 MB 21.2 MB/s eta 0:00:01\r     |███████████▉                    | 5.1 MB 21.2 MB/s eta 0:00:01\r     |███████████▉                    | 5.1 MB 21.2 MB/s eta 0:00:01\r     |███████████▉                    | 5.1 MB 21.2 MB/s eta 0:00:01\r     |███████████▉                    | 5.1 MB 21.2 MB/s eta 0:00:01\r     |████████████                    | 5.1 MB 21.2 MB/s eta 0:00:01\r     |████████████                    | 5.1 MB 21.2 MB/s eta 0:00:01\r     |████████████                    | 5.1 MB 21.2 MB/s eta 0:00:01\r     |████████████                    | 5.1 MB 21.2 MB/s eta 0:00:01\r     |████████████                    | 5.1 MB 21.2 MB/s eta 0:00:01\r     |████████████                    | 5.2 MB 21.2 MB/s eta 0:00:01\r     |████████████                    | 5.2 MB 21.2 MB/s eta 0:00:01\r     |████████████                    | 5.2 MB 21.2 MB/s eta 0:00:01\r     |████████████                    | 5.2 MB 21.2 MB/s eta 0:00:01\r     |████████████▏                   | 5.2 MB 21.2 MB/s eta 0:00:01\r     |████████████▏                   | 5.2 MB 21.2 MB/s eta 0:00:01\r     |████████████▏                   | 5.2 MB 21.2 MB/s eta 0:00:01\r     |████████████▏                   | 5.2 MB 21.2 MB/s eta 0:00:01\r     |████████████▏                   | 5.2 MB 21.2 MB/s eta 0:00:01\r     |████████████▎                   | 5.2 MB 21.2 MB/s eta 0:00:01\r     |████████████▎                   | 5.3 MB 21.2 MB/s eta 0:00:01\r     |████████████▎                   | 5.3 MB 21.2 MB/s eta 0:00:01\r     |████████████▎                   | 5.3 MB 21.2 MB/s eta 0:00:01\r     |████████████▍                   | 5.3 MB 21.2 MB/s eta 0:00:01\r     |████████████▍                   | 5.3 MB 21.2 MB/s eta 0:00:01\r     |████████████▍                   | 5.3 MB 21.2 MB/s eta 0:00:01\r     |████████████▍                   | 5.3 MB 21.2 MB/s eta 0:00:01\r     |████████████▍                   | 5.3 MB 21.2 MB/s eta 0:00:01\r     |████████████▌                   | 5.3 MB 21.2 MB/s eta 0:00:01\r     |████████████▌                   | 5.3 MB 21.2 MB/s eta 0:00:01\r     |████████████▌                   | 5.4 MB 21.2 MB/s eta 0:00:01\r     |████████████▌                   | 5.4 MB 21.2 MB/s eta 0:00:01\r     |████████████▌                   | 5.4 MB 21.2 MB/s eta 0:00:01\r     |████████████▋                   | 5.4 MB 21.2 MB/s eta 0:00:01\r     |████████████▋                   | 5.4 MB 21.2 MB/s eta 0:00:01\r     |████████████▋                   | 5.4 MB 21.2 MB/s eta 0:00:01\r     |████████████▋                   | 5.4 MB 21.2 MB/s eta 0:00:01\r     |████████████▊                   | 5.4 MB 21.2 MB/s eta 0:00:01\r     |████████████▊                   | 5.4 MB 21.2 MB/s eta 0:00:01\r     |████████████▊                   | 5.4 MB 21.2 MB/s eta 0:00:01\r     |████████████▊                   | 5.5 MB 21.2 MB/s eta 0:00:01\r     |████████████▊                   | 5.5 MB 21.2 MB/s eta 0:00:01\r     |████████████▉                   | 5.5 MB 21.2 MB/s eta 0:00:01\r     |████████████▉                   | 5.5 MB 21.2 MB/s eta 0:00:01\r     |████████████▉                   | 5.5 MB 21.2 MB/s eta 0:00:01\r     |████████████▉                   | 5.5 MB 21.2 MB/s eta 0:00:01\r     |█████████████                   | 5.5 MB 21.2 MB/s eta 0:00:01\r     |█████████████                   | 5.5 MB 21.2 MB/s eta 0:00:01\r     |█████████████                   | 5.5 MB 21.2 MB/s eta 0:00:01\r     |█████████████                   | 5.6 MB 21.2 MB/s eta 0:00:01\r     |█████████████                   | 5.6 MB 21.2 MB/s eta 0:00:01\r     |█████████████                   | 5.6 MB 21.2 MB/s eta 0:00:01\r     |█████████████                   | 5.6 MB 21.2 MB/s eta 0:00:01\r     |█████████████                   | 5.6 MB 21.2 MB/s eta 0:00:01\r     |█████████████                   | 5.6 MB 21.2 MB/s eta 0:00:01\r     |█████████████                   | 5.6 MB 21.2 MB/s eta 0:00:01\r     |█████████████▏                  | 5.6 MB 21.2 MB/s eta 0:00:01\r     |█████████████▏                  | 5.6 MB 21.2 MB/s eta 0:00:01\r     |█████████████▏                  | 5.6 MB 21.2 MB/s eta 0:00:01\r     |█████████████▏                  | 5.7 MB 21.2 MB/s eta 0:00:01\r     |█████████████▎                  | 5.7 MB 21.2 MB/s eta 0:00:01\r     |█████████████▎                  | 5.7 MB 21.2 MB/s eta 0:00:01\r     |█████████████▎                  | 5.7 MB 21.2 MB/s eta 0:00:01\r     |█████████████▎                  | 5.7 MB 21.2 MB/s eta 0:00:01\r     |█████████████▎                  | 5.7 MB 21.2 MB/s eta 0:00:01\r     |█████████████▍                  | 5.7 MB 21.2 MB/s eta 0:00:01\r     |█████████████▍                  | 5.7 MB 21.2 MB/s eta 0:00:01\r     |█████████████▍                  | 5.7 MB 21.2 MB/s eta 0:00:01\r     |█████████████▍                  | 5.7 MB 21.2 MB/s eta 0:00:01\r     |█████████████▍                  | 5.8 MB 21.2 MB/s eta 0:00:01\r     |█████████████▌                  | 5.8 MB 21.2 MB/s eta 0:00:01\r     |█████████████▌                  | 5.8 MB 21.2 MB/s eta 0:00:01\r     |█████████████▌                  | 5.8 MB 21.2 MB/s eta 0:00:01\r     |█████████████▌                  | 5.8 MB 21.2 MB/s eta 0:00:01\r     |█████████████▋                  | 5.8 MB 21.2 MB/s eta 0:00:01\r     |█████████████▋                  | 5.8 MB 21.2 MB/s eta 0:00:01\r     |█████████████▋                  | 5.8 MB 21.2 MB/s eta 0:00:01\r     |█████████████▋                  | 5.8 MB 21.2 MB/s eta 0:00:01\r     |█████████████▋                  | 5.8 MB 21.2 MB/s eta 0:00:01\r     |█████████████▊                  | 5.9 MB 21.2 MB/s eta 0:00:01\r     |█████████████▊                  | 5.9 MB 21.2 MB/s eta 0:00:01\r     |█████████████▊                  | 5.9 MB 21.2 MB/s eta 0:00:01\r     |█████████████▊                  | 5.9 MB 21.2 MB/s eta 0:00:01\r     |█████████████▊                  | 5.9 MB 21.2 MB/s eta 0:00:01\r     |█████████████▉                  | 5.9 MB 21.2 MB/s eta 0:00:01\r     |█████████████▉                  | 5.9 MB 21.2 MB/s eta 0:00:01\r     |█████████████▉                  | 5.9 MB 21.2 MB/s eta 0:00:01\r     |█████████████▉                  | 5.9 MB 21.2 MB/s eta 0:00:01\r     |██████████████                  | 5.9 MB 21.2 MB/s eta 0:00:01\r     |██████████████                  | 6.0 MB 21.2 MB/s eta 0:00:01\r     |██████████████                  | 6.0 MB 21.2 MB/s eta 0:00:01\r     |██████████████                  | 6.0 MB 21.2 MB/s eta 0:00:01\r     |██████████████                  | 6.0 MB 21.2 MB/s eta 0:00:01\r     |██████████████                  | 6.0 MB 21.2 MB/s eta 0:00:01\r     |██████████████                  | 6.0 MB 21.2 MB/s eta 0:00:01\r     |██████████████                  | 6.0 MB 21.2 MB/s eta 0:00:01\r     |██████████████                  | 6.0 MB 21.2 MB/s eta 0:00:01\r     |██████████████                  | 6.0 MB 21.2 MB/s eta 0:00:01\r     |██████████████▏                 | 6.1 MB 21.2 MB/s eta 0:00:01\r     |██████████████▏                 | 6.1 MB 21.2 MB/s eta 0:00:01\r     |██████████████▏                 | 6.1 MB 21.2 MB/s eta 0:00:01\r     |██████████████▏                 | 6.1 MB 21.2 MB/s eta 0:00:01\r     |██████████████▎                 | 6.1 MB 21.2 MB/s eta 0:00:01\r     |██████████████▎                 | 6.1 MB 21.2 MB/s eta 0:00:01\r     |██████████████▎                 | 6.1 MB 21.2 MB/s eta 0:00:01\r     |██████████████▎                 | 6.1 MB 21.2 MB/s eta 0:00:01\r     |██████████████▎                 | 6.1 MB 21.2 MB/s eta 0:00:01\r     |██████████████▍                 | 6.1 MB 21.2 MB/s eta 0:00:01\r     |██████████████▍                 | 6.2 MB 21.2 MB/s eta 0:00:01\r     |██████████████▍                 | 6.2 MB 21.2 MB/s eta 0:00:01\r     |██████████████▍                 | 6.2 MB 21.2 MB/s eta 0:00:01\r     |██████████████▍                 | 6.2 MB 21.2 MB/s eta 0:00:01\r     |██████████████▌                 | 6.2 MB 21.2 MB/s eta 0:00:01\r     |██████████████▌                 | 6.2 MB 21.2 MB/s eta 0:00:01\r     |██████████████▌                 | 6.2 MB 21.2 MB/s eta 0:00:01\r     |██████████████▌                 | 6.2 MB 21.2 MB/s eta 0:00:01\r     |██████████████▋                 | 6.2 MB 21.2 MB/s eta 0:00:01\r     |██████████████▋                 | 6.2 MB 21.2 MB/s eta 0:00:01\r     |██████████████▋                 | 6.3 MB 21.2 MB/s eta 0:00:01\r     |██████████████▋                 | 6.3 MB 21.2 MB/s eta 0:00:01\r     |██████████████▋                 | 6.3 MB 21.2 MB/s eta 0:00:01\r     |██████████████▊                 | 6.3 MB 21.2 MB/s eta 0:00:01\r     |██████████████▊                 | 6.3 MB 21.2 MB/s eta 0:00:01\r     |██████████████▊                 | 6.3 MB 21.2 MB/s eta 0:00:01\r     |██████████████▊                 | 6.3 MB 21.2 MB/s eta 0:00:01\r     |██████████████▉                 | 6.3 MB 21.2 MB/s eta 0:00:01\r     |██████████████▉                 | 6.3 MB 21.2 MB/s eta 0:00:01\r     |██████████████▉                 | 6.3 MB 21.2 MB/s eta 0:00:01\r     |██████████████▉                 | 6.4 MB 21.2 MB/s eta 0:00:01\r     |██████████████▉                 | 6.4 MB 21.2 MB/s eta 0:00:01\r     |███████████████                 | 6.4 MB 21.2 MB/s eta 0:00:01\r     |███████████████                 | 6.4 MB 21.2 MB/s eta 0:00:01\r     |███████████████                 | 6.4 MB 21.2 MB/s eta 0:00:01\r     |███████████████                 | 6.4 MB 21.2 MB/s eta 0:00:01\r     |███████████████                 | 6.4 MB 21.2 MB/s eta 0:00:01\r     |███████████████                 | 6.4 MB 21.2 MB/s eta 0:00:01\r     |███████████████                 | 6.4 MB 21.2 MB/s eta 0:00:01\r     |███████████████                 | 6.5 MB 21.2 MB/s eta 0:00:01\r     |███████████████                 | 6.5 MB 21.2 MB/s eta 0:00:01\r     |███████████████▏                | 6.5 MB 21.2 MB/s eta 0:00:01\r     |███████████████▏                | 6.5 MB 21.2 MB/s eta 0:00:01\r     |███████████████▏                | 6.5 MB 21.2 MB/s eta 0:00:01\r     |███████████████▏                | 6.5 MB 21.2 MB/s eta 0:00:01\r     |███████████████▏                | 6.5 MB 21.2 MB/s eta 0:00:01\r     |███████████████▎                | 6.5 MB 21.2 MB/s eta 0:00:01\r     |███████████████▎                | 6.5 MB 21.2 MB/s eta 0:00:01\r     |███████████████▎                | 6.5 MB 21.2 MB/s eta 0:00:01\r     |███████████████▎                | 6.6 MB 21.2 MB/s eta 0:00:01\r     |███████████████▎                | 6.6 MB 21.2 MB/s eta 0:00:01\r     |███████████████▍                | 6.6 MB 21.2 MB/s eta 0:00:01\r     |███████████████▍                | 6.6 MB 21.2 MB/s eta 0:00:01\r     |███████████████▍                | 6.6 MB 21.2 MB/s eta 0:00:01\r     |███████████████▍                | 6.6 MB 21.2 MB/s eta 0:00:01\r     |███████████████▌                | 6.6 MB 21.2 MB/s eta 0:00:01\r     |███████████████▌                | 6.6 MB 21.2 MB/s eta 0:00:01\r     |███████████████▌                | 6.6 MB 21.2 MB/s eta 0:00:01\r     |███████████████▌                | 6.6 MB 21.2 MB/s eta 0:00:01\r     |███████████████▌                | 6.7 MB 21.2 MB/s eta 0:00:01\r     |███████████████▋                | 6.7 MB 21.2 MB/s eta 0:00:01\r     |███████████████▋                | 6.7 MB 21.2 MB/s eta 0:00:01\r     |███████████████▋                | 6.7 MB 21.2 MB/s eta 0:00:01\r     |███████████████▋                | 6.7 MB 21.2 MB/s eta 0:00:01\r     |███████████████▋                | 6.7 MB 21.2 MB/s eta 0:00:01\r     |███████████████▊                | 6.7 MB 21.2 MB/s eta 0:00:01\r     |███████████████▊                | 6.7 MB 21.2 MB/s eta 0:00:01\r     |███████████████▊                | 6.7 MB 21.2 MB/s eta 0:00:01\r     |███████████████▊                | 6.7 MB 21.2 MB/s eta 0:00:01\r     |███████████████▉                | 6.8 MB 21.2 MB/s eta 0:00:01\r     |███████████████▉                | 6.8 MB 21.2 MB/s eta 0:00:01\r     |███████████████▉                | 6.8 MB 21.2 MB/s eta 0:00:01\r     |███████████████▉                | 6.8 MB 21.2 MB/s eta 0:00:01\r     |███████████████▉                | 6.8 MB 21.2 MB/s eta 0:00:01\r     |████████████████                | 6.8 MB 21.2 MB/s eta 0:00:01\r     |████████████████                | 6.8 MB 21.2 MB/s eta 0:00:01\r     |████████████████                | 6.8 MB 21.2 MB/s eta 0:00:01\r     |████████████████                | 6.8 MB 21.2 MB/s eta 0:00:01\r     |████████████████                | 6.9 MB 21.2 MB/s eta 0:00:01\r     |████████████████                | 6.9 MB 21.2 MB/s eta 0:00:01\r     |████████████████                | 6.9 MB 21.2 MB/s eta 0:00:01\r     |████████████████                | 6.9 MB 21.2 MB/s eta 0:00:01\r     |████████████████                | 6.9 MB 21.2 MB/s eta 0:00:01\r     |████████████████▏               | 6.9 MB 21.2 MB/s eta 0:00:01\r     |████████████████▏               | 6.9 MB 21.2 MB/s eta 0:00:01\r     |████████████████▏               | 6.9 MB 21.2 MB/s eta 0:00:01\r     |████████████████▏               | 6.9 MB 21.2 MB/s eta 0:00:01\r     |████████████████▏               | 6.9 MB 21.2 MB/s eta 0:00:01\r     |████████████████▎               | 7.0 MB 21.2 MB/s eta 0:00:01\r     |████████████████▎               | 7.0 MB 21.2 MB/s eta 0:00:01\r     |████████████████▎               | 7.0 MB 21.2 MB/s eta 0:00:01\r     |████████████████▎               | 7.0 MB 21.2 MB/s eta 0:00:01\r     |████████████████▍               | 7.0 MB 21.2 MB/s eta 0:00:01\r     |████████████████▍               | 7.0 MB 21.2 MB/s eta 0:00:01\r     |████████████████▍               | 7.0 MB 21.2 MB/s eta 0:00:01\r     |████████████████▍               | 7.0 MB 21.2 MB/s eta 0:00:01\r     |████████████████▍               | 7.0 MB 21.2 MB/s eta 0:00:01\r     |████████████████▌               | 7.0 MB 21.2 MB/s eta 0:00:01\r\n",
       "*** WARNING: skipped 151556 bytes of output ***\n",
       "\n",
       "Requirement already satisfied: spacy&lt;3.3.0,&gt;=3.2.0 in /databricks/python3/lib/python3.8/site-packages (from en-core-web-sm==3.2.0) (3.2.1)\r\n",
       "Requirement already satisfied: tqdm&lt;5.0.0,&gt;=4.38.0 in /databricks/python3/lib/python3.8/site-packages (from spacy&lt;3.3.0,&gt;=3.2.0-&gt;en-core-web-sm==3.2.0) (4.59.0)\r\n",
       "Requirement already satisfied: pathy&gt;=0.3.5 in /databricks/python3/lib/python3.8/site-packages (from spacy&lt;3.3.0,&gt;=3.2.0-&gt;en-core-web-sm==3.2.0) (0.6.0)\r\n",
       "Requirement already satisfied: pydantic!=1.8,!=1.8.1,&lt;1.9.0,&gt;=1.7.4 in /local_disk0/.ephemeral_nfs/envs/pythonEnv-ae9f22fd-d029-48d6-a021-b35c4c7123ee/lib/python3.8/site-packages (from spacy&lt;3.3.0,&gt;=3.2.0-&gt;en-core-web-sm==3.2.0) (1.8.2)\r\n",
       "Requirement already satisfied: spacy-loggers&lt;2.0.0,&gt;=1.0.0 in /databricks/python3/lib/python3.8/site-packages (from spacy&lt;3.3.0,&gt;=3.2.0-&gt;en-core-web-sm==3.2.0) (1.0.1)\r\n",
       "Requirement already satisfied: preshed&lt;3.1.0,&gt;=3.0.2 in /databricks/python3/lib/python3.8/site-packages (from spacy&lt;3.3.0,&gt;=3.2.0-&gt;en-core-web-sm==3.2.0) (3.0.5)\r\n",
       "Requirement already satisfied: requests&lt;3.0.0,&gt;=2.13.0 in /databricks/python3/lib/python3.8/site-packages (from spacy&lt;3.3.0,&gt;=3.2.0-&gt;en-core-web-sm==3.2.0) (2.25.1)\r\n",
       "Requirement already satisfied: spacy-legacy&lt;3.1.0,&gt;=3.0.8 in /databricks/python3/lib/python3.8/site-packages (from spacy&lt;3.3.0,&gt;=3.2.0-&gt;en-core-web-sm==3.2.0) (3.0.8)\r\n",
       "Requirement already satisfied: thinc&lt;8.1.0,&gt;=8.0.12 in /databricks/python3/lib/python3.8/site-packages (from spacy&lt;3.3.0,&gt;=3.2.0-&gt;en-core-web-sm==3.2.0) (8.0.12)\r\n",
       "Requirement already satisfied: numpy&gt;=1.15.0 in /databricks/python3/lib/python3.8/site-packages (from spacy&lt;3.3.0,&gt;=3.2.0-&gt;en-core-web-sm==3.2.0) (1.22.4)\r\n",
       "Requirement already satisfied: setuptools in /usr/local/lib/python3.8/dist-packages (from spacy&lt;3.3.0,&gt;=3.2.0-&gt;en-core-web-sm==3.2.0) (52.0.0)\r\n",
       "Requirement already satisfied: catalogue&lt;2.1.0,&gt;=2.0.6 in /databricks/python3/lib/python3.8/site-packages (from spacy&lt;3.3.0,&gt;=3.2.0-&gt;en-core-web-sm==3.2.0) (2.0.6)\r\n",
       "Requirement already satisfied: blis&lt;0.8.0,&gt;=0.4.0 in /databricks/python3/lib/python3.8/site-packages (from spacy&lt;3.3.0,&gt;=3.2.0-&gt;en-core-web-sm==3.2.0) (0.7.4)\r\n",
       "Requirement already satisfied: murmurhash&lt;1.1.0,&gt;=0.28.0 in /databricks/python3/lib/python3.8/site-packages (from spacy&lt;3.3.0,&gt;=3.2.0-&gt;en-core-web-sm==3.2.0) (1.0.5)\r\n",
       "Requirement already satisfied: srsly&lt;3.0.0,&gt;=2.4.1 in /databricks/python3/lib/python3.8/site-packages (from spacy&lt;3.3.0,&gt;=3.2.0-&gt;en-core-web-sm==3.2.0) (2.4.1)\r\n",
       "Requirement already satisfied: typer&lt;0.5.0,&gt;=0.3.0 in /databricks/python3/lib/python3.8/site-packages (from spacy&lt;3.3.0,&gt;=3.2.0-&gt;en-core-web-sm==3.2.0) (0.3.2)\r\n",
       "Requirement already satisfied: jinja2 in /local_disk0/.ephemeral_nfs/envs/pythonEnv-ae9f22fd-d029-48d6-a021-b35c4c7123ee/lib/python3.8/site-packages (from spacy&lt;3.3.0,&gt;=3.2.0-&gt;en-core-web-sm==3.2.0) (3.0.0)\r\n",
       "Requirement already satisfied: packaging&gt;=20.0 in /databricks/python3/lib/python3.8/site-packages (from spacy&lt;3.3.0,&gt;=3.2.0-&gt;en-core-web-sm==3.2.0) (21.3)\r\n",
       "Requirement already satisfied: cymem&lt;2.1.0,&gt;=2.0.2 in /databricks/python3/lib/python3.8/site-packages (from spacy&lt;3.3.0,&gt;=3.2.0-&gt;en-core-web-sm==3.2.0) (2.0.5)\r\n",
       "Requirement already satisfied: wasabi&lt;1.1.0,&gt;=0.8.1 in /databricks/python3/lib/python3.8/site-packages (from spacy&lt;3.3.0,&gt;=3.2.0-&gt;en-core-web-sm==3.2.0) (0.8.2)\r\n",
       "Requirement already satisfied: langcodes&lt;4.0.0,&gt;=3.2.0 in /databricks/python3/lib/python3.8/site-packages (from spacy&lt;3.3.0,&gt;=3.2.0-&gt;en-core-web-sm==3.2.0) (3.3.0)\r\n",
       "Requirement already satisfied: pyparsing!=3.0.5,&gt;=2.0.2 in /databricks/python3/lib/python3.8/site-packages (from packaging&gt;=20.0-&gt;spacy&lt;3.3.0,&gt;=3.2.0-&gt;en-core-web-sm==3.2.0) (2.4.7)\r\n",
       "Requirement already satisfied: smart-open&lt;6.0.0,&gt;=5.0.0 in /databricks/python3/lib/python3.8/site-packages (from pathy&gt;=0.3.5-&gt;spacy&lt;3.3.0,&gt;=3.2.0-&gt;en-core-web-sm==3.2.0) (5.2.0)\r\n",
       "Requirement already satisfied: typing-extensions&gt;=3.7.4.3 in /databricks/python3/lib/python3.8/site-packages (from pydantic!=1.8,!=1.8.1,&lt;1.9.0,&gt;=1.7.4-&gt;spacy&lt;3.3.0,&gt;=3.2.0-&gt;en-core-web-sm==3.2.0) (4.7.1)\r\n",
       "Requirement already satisfied: urllib3&lt;1.27,&gt;=1.21.1 in /databricks/python3/lib/python3.8/site-packages (from requests&lt;3.0.0,&gt;=2.13.0-&gt;spacy&lt;3.3.0,&gt;=3.2.0-&gt;en-core-web-sm==3.2.0) (1.25.11)\r\n",
       "Requirement already satisfied: certifi&gt;=2017.4.17 in /databricks/python3/lib/python3.8/site-packages (from requests&lt;3.0.0,&gt;=2.13.0-&gt;spacy&lt;3.3.0,&gt;=3.2.0-&gt;en-core-web-sm==3.2.0) (2020.12.5)\r\n",
       "Requirement already satisfied: chardet&lt;5,&gt;=3.0.2 in /databricks/python3/lib/python3.8/site-packages (from requests&lt;3.0.0,&gt;=2.13.0-&gt;spacy&lt;3.3.0,&gt;=3.2.0-&gt;en-core-web-sm==3.2.0) (4.0.0)\r\n",
       "Requirement already satisfied: idna&lt;3,&gt;=2.5 in /databricks/python3/lib/python3.8/site-packages (from requests&lt;3.0.0,&gt;=2.13.0-&gt;spacy&lt;3.3.0,&gt;=3.2.0-&gt;en-core-web-sm==3.2.0) (2.10)\r\n",
       "Requirement already satisfied: click&lt;7.2.0,&gt;=7.1.1 in /databricks/python3/lib/python3.8/site-packages (from typer&lt;0.5.0,&gt;=0.3.0-&gt;spacy&lt;3.3.0,&gt;=3.2.0-&gt;en-core-web-sm==3.2.0) (7.1.2)\r\n",
       "Requirement already satisfied: MarkupSafe&gt;=2.0.0rc2 in /databricks/python3/lib/python3.8/site-packages (from jinja2-&gt;spacy&lt;3.3.0,&gt;=3.2.0-&gt;en-core-web-sm==3.2.0) (2.0.1)\r\n",
       "Installing collected packages: en-core-web-sm\r\n",
       "Successfully installed en-core-web-sm-3.2.0\r\n",
       "<span class=\"ansi-yellow-fg\">WARNING: You are using pip version 21.0.1; however, version 23.2.1 is available.\r\n",
       "You should consider upgrading via the &#39;/local_disk0/.ephemeral_nfs/envs/pythonEnv-ae9f22fd-d029-48d6-a021-b35c4c7123ee/bin/python3 -m pip install --upgrade pip&#39; command.</span>\r\n",
       "<span class=\"ansi-green-fg\">✔ Download and installation successful</span>\r\n",
       "You can now load the package via spacy.load(&#39;en_core_web_sm&#39;)\r\n",
       "</div>"
      ]
     },
     "metadata": {
      "application/vnd.databricks.v1+output": {
       "addedWidgets": {},
       "arguments": {},
       "data": "<div class=\"ansiout\">Requirement already satisfied: spacy in /databricks/python3/lib/python3.8/site-packages (3.2.1)\r\nRequirement already satisfied: tqdm&lt;5.0.0,&gt;=4.38.0 in /databricks/python3/lib/python3.8/site-packages (from spacy) (4.59.0)\r\nRequirement already satisfied: pathy&gt;=0.3.5 in /databricks/python3/lib/python3.8/site-packages (from spacy) (0.6.0)\r\nCollecting pydantic!=1.8,!=1.8.1,&lt;1.9.0,&gt;=1.7.4\r\n  Downloading pydantic-1.8.2-cp38-cp38-manylinux2014_x86_64.whl (13.7 MB)\r\n\r     |                                | 10 kB 25.0 MB/s eta 0:00:01\r     |                                | 20 kB 26.5 MB/s eta 0:00:01\r     |                                | 30 kB 33.0 MB/s eta 0:00:01\r     |                                | 40 kB 22.6 MB/s eta 0:00:01\r     |▏                               | 51 kB 25.4 MB/s eta 0:00:01\r     |▏                               | 61 kB 28.6 MB/s eta 0:00:01\r     |▏                               | 71 kB 22.0 MB/s eta 0:00:01\r     |▏                               | 81 kB 23.7 MB/s eta 0:00:01\r     |▏                               | 92 kB 25.3 MB/s eta 0:00:01\r     |▎                               | 102 kB 21.2 MB/s eta 0:00:01\r     |▎                               | 112 kB 21.2 MB/s eta 0:00:01\r     |▎                               | 122 kB 21.2 MB/s eta 0:00:01\r     |▎                               | 133 kB 21.2 MB/s eta 0:00:01\r     |▍                               | 143 kB 21.2 MB/s eta 0:00:01\r     |▍                               | 153 kB 21.2 MB/s eta 0:00:01\r     |▍                               | 163 kB 21.2 MB/s eta 0:00:01\r     |▍                               | 174 kB 21.2 MB/s eta 0:00:01\r     |▍                               | 184 kB 21.2 MB/s eta 0:00:01\r     |▌                               | 194 kB 21.2 MB/s eta 0:00:01\r     |▌                               | 204 kB 21.2 MB/s eta 0:00:01\r     |▌                               | 215 kB 21.2 MB/s eta 0:00:01\r     |▌                               | 225 kB 21.2 MB/s eta 0:00:01\r     |▌                               | 235 kB 21.2 MB/s eta 0:00:01\r     |▋                               | 245 kB 21.2 MB/s eta 0:00:01\r     |▋                               | 256 kB 21.2 MB/s eta 0:00:01\r     |▋                               | 266 kB 21.2 MB/s eta 0:00:01\r     |▋                               | 276 kB 21.2 MB/s eta 0:00:01\r     |▊                               | 286 kB 21.2 MB/s eta 0:00:01\r     |▊                               | 296 kB 21.2 MB/s eta 0:00:01\r     |▊                               | 307 kB 21.2 MB/s eta 0:00:01\r     |▊                               | 317 kB 21.2 MB/s eta 0:00:01\r     |▊                               | 327 kB 21.2 MB/s eta 0:00:01\r     |▉                               | 337 kB 21.2 MB/s eta 0:00:01\r     |▉                               | 348 kB 21.2 MB/s eta 0:00:01\r     |▉                               | 358 kB 21.2 MB/s eta 0:00:01\r     |▉                               | 368 kB 21.2 MB/s eta 0:00:01\r     |▉                               | 378 kB 21.2 MB/s eta 0:00:01\r     |█                               | 389 kB 21.2 MB/s eta 0:00:01\r     |█                               | 399 kB 21.2 MB/s eta 0:00:01\r     |█                               | 409 kB 21.2 MB/s eta 0:00:01\r     |█                               | 419 kB 21.2 MB/s eta 0:00:01\r     |█                               | 430 kB 21.2 MB/s eta 0:00:01\r     |█                               | 440 kB 21.2 MB/s eta 0:00:01\r     |█                               | 450 kB 21.2 MB/s eta 0:00:01\r     |█                               | 460 kB 21.2 MB/s eta 0:00:01\r     |█                               | 471 kB 21.2 MB/s eta 0:00:01\r     |█▏                              | 481 kB 21.2 MB/s eta 0:00:01\r     |█▏                              | 491 kB 21.2 MB/s eta 0:00:01\r     |█▏                              | 501 kB 21.2 MB/s eta 0:00:01\r     |█▏                              | 512 kB 21.2 MB/s eta 0:00:01\r     |█▏                              | 522 kB 21.2 MB/s eta 0:00:01\r     |█▎                              | 532 kB 21.2 MB/s eta 0:00:01\r     |█▎                              | 542 kB 21.2 MB/s eta 0:00:01\r     |█▎                              | 552 kB 21.2 MB/s eta 0:00:01\r     |█▎                              | 563 kB 21.2 MB/s eta 0:00:01\r     |█▍                              | 573 kB 21.2 MB/s eta 0:00:01\r     |█▍                              | 583 kB 21.2 MB/s eta 0:00:01\r     |█▍                              | 593 kB 21.2 MB/s eta 0:00:01\r     |█▍                              | 604 kB 21.2 MB/s eta 0:00:01\r     |█▍                              | 614 kB 21.2 MB/s eta 0:00:01\r     |█▌                              | 624 kB 21.2 MB/s eta 0:00:01\r     |█▌                              | 634 kB 21.2 MB/s eta 0:00:01\r     |█▌                              | 645 kB 21.2 MB/s eta 0:00:01\r     |█▌                              | 655 kB 21.2 MB/s eta 0:00:01\r     |█▌                              | 665 kB 21.2 MB/s eta 0:00:01\r     |█▋                              | 675 kB 21.2 MB/s eta 0:00:01\r     |█▋                              | 686 kB 21.2 MB/s eta 0:00:01\r     |█▋                              | 696 kB 21.2 MB/s eta 0:00:01\r     |█▋                              | 706 kB 21.2 MB/s eta 0:00:01\r     |█▊                              | 716 kB 21.2 MB/s eta 0:00:01\r     |█▊                              | 727 kB 21.2 MB/s eta 0:00:01\r     |█▊                              | 737 kB 21.2 MB/s eta 0:00:01\r     |█▊                              | 747 kB 21.2 MB/s eta 0:00:01\r     |█▊                              | 757 kB 21.2 MB/s eta 0:00:01\r     |█▉                              | 768 kB 21.2 MB/s eta 0:00:01\r     |█▉                              | 778 kB 21.2 MB/s eta 0:00:01\r     |█▉                              | 788 kB 21.2 MB/s eta 0:00:01\r     |█▉                              | 798 kB 21.2 MB/s eta 0:00:01\r     |██                              | 808 kB 21.2 MB/s eta 0:00:01\r     |██                              | 819 kB 21.2 MB/s eta 0:00:01\r     |██                              | 829 kB 21.2 MB/s eta 0:00:01\r     |██                              | 839 kB 21.2 MB/s eta 0:00:01\r     |██                              | 849 kB 21.2 MB/s eta 0:00:01\r     |██                              | 860 kB 21.2 MB/s eta 0:00:01\r     |██                              | 870 kB 21.2 MB/s eta 0:00:01\r     |██                              | 880 kB 21.2 MB/s eta 0:00:01\r     |██                              | 890 kB 21.2 MB/s eta 0:00:01\r     |██                              | 901 kB 21.2 MB/s eta 0:00:01\r     |██▏                             | 911 kB 21.2 MB/s eta 0:00:01\r     |██▏                             | 921 kB 21.2 MB/s eta 0:00:01\r     |██▏                             | 931 kB 21.2 MB/s eta 0:00:01\r     |██▏                             | 942 kB 21.2 MB/s eta 0:00:01\r     |██▎                             | 952 kB 21.2 MB/s eta 0:00:01\r     |██▎                             | 962 kB 21.2 MB/s eta 0:00:01\r     |██▎                             | 972 kB 21.2 MB/s eta 0:00:01\r     |██▎                             | 983 kB 21.2 MB/s eta 0:00:01\r     |██▎                             | 993 kB 21.2 MB/s eta 0:00:01\r     |██▍                             | 1.0 MB 21.2 MB/s eta 0:00:01\r     |██▍                             | 1.0 MB 21.2 MB/s eta 0:00:01\r     |██▍                             | 1.0 MB 21.2 MB/s eta 0:00:01\r     |██▍                             | 1.0 MB 21.2 MB/s eta 0:00:01\r     |██▍                             | 1.0 MB 21.2 MB/s eta 0:00:01\r     |██▌                             | 1.1 MB 21.2 MB/s eta 0:00:01\r     |██▌                             | 1.1 MB 21.2 MB/s eta 0:00:01\r     |██▌                             | 1.1 MB 21.2 MB/s eta 0:00:01\r     |██▌                             | 1.1 MB 21.2 MB/s eta 0:00:01\r     |██▋                             | 1.1 MB 21.2 MB/s eta 0:00:01\r     |██▋                             | 1.1 MB 21.2 MB/s eta 0:00:01\r     |██▋                             | 1.1 MB 21.2 MB/s eta 0:00:01\r     |██▋                             | 1.1 MB 21.2 MB/s eta 0:00:01\r     |██▋                             | 1.1 MB 21.2 MB/s eta 0:00:01\r     |██▊                             | 1.1 MB 21.2 MB/s eta 0:00:01\r     |██▊                             | 1.2 MB 21.2 MB/s eta 0:00:01\r     |██▊                             | 1.2 MB 21.2 MB/s eta 0:00:01\r     |██▊                             | 1.2 MB 21.2 MB/s eta 0:00:01\r     |██▊                             | 1.2 MB 21.2 MB/s eta 0:00:01\r     |██▉                             | 1.2 MB 21.2 MB/s eta 0:00:01\r     |██▉                             | 1.2 MB 21.2 MB/s eta 0:00:01\r     |██▉                             | 1.2 MB 21.2 MB/s eta 0:00:01\r     |██▉                             | 1.2 MB 21.2 MB/s eta 0:00:01\r     |███                             | 1.2 MB 21.2 MB/s eta 0:00:01\r     |███                             | 1.2 MB 21.2 MB/s eta 0:00:01\r     |███                             | 1.3 MB 21.2 MB/s eta 0:00:01\r     |███                             | 1.3 MB 21.2 MB/s eta 0:00:01\r     |███                             | 1.3 MB 21.2 MB/s eta 0:00:01\r     |███                             | 1.3 MB 21.2 MB/s eta 0:00:01\r     |███                             | 1.3 MB 21.2 MB/s eta 0:00:01\r     |███                             | 1.3 MB 21.2 MB/s eta 0:00:01\r     |███                             | 1.3 MB 21.2 MB/s eta 0:00:01\r     |███                             | 1.3 MB 21.2 MB/s eta 0:00:01\r     |███▏                            | 1.3 MB 21.2 MB/s eta 0:00:01\r     |███▏                            | 1.4 MB 21.2 MB/s eta 0:00:01\r     |███▏                            | 1.4 MB 21.2 MB/s eta 0:00:01\r     |███▏                            | 1.4 MB 21.2 MB/s eta 0:00:01\r     |███▎                            | 1.4 MB 21.2 MB/s eta 0:00:01\r     |███▎                            | 1.4 MB 21.2 MB/s eta 0:00:01\r     |███▎                            | 1.4 MB 21.2 MB/s eta 0:00:01\r     |███▎                            | 1.4 MB 21.2 MB/s eta 0:00:01\r     |███▎                            | 1.4 MB 21.2 MB/s eta 0:00:01\r     |███▍                            | 1.4 MB 21.2 MB/s eta 0:00:01\r     |███▍                            | 1.4 MB 21.2 MB/s eta 0:00:01\r     |███▍                            | 1.5 MB 21.2 MB/s eta 0:00:01\r     |███▍                            | 1.5 MB 21.2 MB/s eta 0:00:01\r     |███▍                            | 1.5 MB 21.2 MB/s eta 0:00:01\r     |███▌                            | 1.5 MB 21.2 MB/s eta 0:00:01\r     |███▌                            | 1.5 MB 21.2 MB/s eta 0:00:01\r     |███▌                            | 1.5 MB 21.2 MB/s eta 0:00:01\r     |███▌                            | 1.5 MB 21.2 MB/s eta 0:00:01\r     |███▋                            | 1.5 MB 21.2 MB/s eta 0:00:01\r     |███▋                            | 1.5 MB 21.2 MB/s eta 0:00:01\r     |███▋                            | 1.5 MB 21.2 MB/s eta 0:00:01\r     |███▋                            | 1.6 MB 21.2 MB/s eta 0:00:01\r     |███▋                            | 1.6 MB 21.2 MB/s eta 0:00:01\r     |███▊                            | 1.6 MB 21.2 MB/s eta 0:00:01\r     |███▊                            | 1.6 MB 21.2 MB/s eta 0:00:01\r     |███▊                            | 1.6 MB 21.2 MB/s eta 0:00:01\r     |███▊                            | 1.6 MB 21.2 MB/s eta 0:00:01\r     |███▉                            | 1.6 MB 21.2 MB/s eta 0:00:01\r     |███▉                            | 1.6 MB 21.2 MB/s eta 0:00:01\r     |███▉                            | 1.6 MB 21.2 MB/s eta 0:00:01\r     |███▉                            | 1.6 MB 21.2 MB/s eta 0:00:01\r     |███▉                            | 1.7 MB 21.2 MB/s eta 0:00:01\r     |████                            | 1.7 MB 21.2 MB/s eta 0:00:01\r     |████                            | 1.7 MB 21.2 MB/s eta 0:00:01\r     |████                            | 1.7 MB 21.2 MB/s eta 0:00:01\r     |████                            | 1.7 MB 21.2 MB/s eta 0:00:01\r     |████                            | 1.7 MB 21.2 MB/s eta 0:00:01\r     |████                            | 1.7 MB 21.2 MB/s eta 0:00:01\r     |████                            | 1.7 MB 21.2 MB/s eta 0:00:01\r     |████                            | 1.7 MB 21.2 MB/s eta 0:00:01\r     |████                            | 1.8 MB 21.2 MB/s eta 0:00:01\r     |████▏                           | 1.8 MB 21.2 MB/s eta 0:00:01\r     |████▏                           | 1.8 MB 21.2 MB/s eta 0:00:01\r     |████▏                           | 1.8 MB 21.2 MB/s eta 0:00:01\r     |████▏                           | 1.8 MB 21.2 MB/s eta 0:00:01\r     |████▏                           | 1.8 MB 21.2 MB/s eta 0:00:01\r     |████▎                           | 1.8 MB 21.2 MB/s eta 0:00:01\r     |████▎                           | 1.8 MB 21.2 MB/s eta 0:00:01\r     |████▎                           | 1.8 MB 21.2 MB/s eta 0:00:01\r     |████▎                           | 1.8 MB 21.2 MB/s eta 0:00:01\r     |████▎                           | 1.9 MB 21.2 MB/s eta 0:00:01\r     |████▍                           | 1.9 MB 21.2 MB/s eta 0:00:01\r     |████▍                           | 1.9 MB 21.2 MB/s eta 0:00:01\r     |████▍                           | 1.9 MB 21.2 MB/s eta 0:00:01\r     |████▍                           | 1.9 MB 21.2 MB/s eta 0:00:01\r     |████▌                           | 1.9 MB 21.2 MB/s eta 0:00:01\r     |████▌                           | 1.9 MB 21.2 MB/s eta 0:00:01\r     |████▌                           | 1.9 MB 21.2 MB/s eta 0:00:01\r     |████▌                           | 1.9 MB 21.2 MB/s eta 0:00:01\r     |████▌                           | 1.9 MB 21.2 MB/s eta 0:00:01\r     |████▋                           | 2.0 MB 21.2 MB/s eta 0:00:01\r     |████▋                           | 2.0 MB 21.2 MB/s eta 0:00:01\r     |████▋                           | 2.0 MB 21.2 MB/s eta 0:00:01\r     |████▋                           | 2.0 MB 21.2 MB/s eta 0:00:01\r     |████▋                           | 2.0 MB 21.2 MB/s eta 0:00:01\r     |████▊                           | 2.0 MB 21.2 MB/s eta 0:00:01\r     |████▊                           | 2.0 MB 21.2 MB/s eta 0:00:01\r     |████▊                           | 2.0 MB 21.2 MB/s eta 0:00:01\r     |████▊                           | 2.0 MB 21.2 MB/s eta 0:00:01\r     |████▉                           | 2.0 MB 21.2 MB/s eta 0:00:01\r     |████▉                           | 2.1 MB 21.2 MB/s eta 0:00:01\r     |████▉                           | 2.1 MB 21.2 MB/s eta 0:00:01\r     |████▉                           | 2.1 MB 21.2 MB/s eta 0:00:01\r     |████▉                           | 2.1 MB 21.2 MB/s eta 0:00:01\r     |█████                           | 2.1 MB 21.2 MB/s eta 0:00:01\r     |█████                           | 2.1 MB 21.2 MB/s eta 0:00:01\r     |█████                           | 2.1 MB 21.2 MB/s eta 0:00:01\r     |█████                           | 2.1 MB 21.2 MB/s eta 0:00:01\r     |█████                           | 2.1 MB 21.2 MB/s eta 0:00:01\r     |█████                           | 2.2 MB 21.2 MB/s eta 0:00:01\r     |█████                           | 2.2 MB 21.2 MB/s eta 0:00:01\r     |█████                           | 2.2 MB 21.2 MB/s eta 0:00:01\r     |█████                           | 2.2 MB 21.2 MB/s eta 0:00:01\r     |█████▏                          | 2.2 MB 21.2 MB/s eta 0:00:01\r     |█████▏                          | 2.2 MB 21.2 MB/s eta 0:00:01\r     |█████▏                          | 2.2 MB 21.2 MB/s eta 0:00:01\r     |█████▏                          | 2.2 MB 21.2 MB/s eta 0:00:01\r     |█████▏                          | 2.2 MB 21.2 MB/s eta 0:00:01\r     |█████▎                          | 2.2 MB 21.2 MB/s eta 0:00:01\r     |█████▎                          | 2.3 MB 21.2 MB/s eta 0:00:01\r     |█████▎                          | 2.3 MB 21.2 MB/s eta 0:00:01\r     |█████▎                          | 2.3 MB 21.2 MB/s eta 0:00:01\r     |█████▎                          | 2.3 MB 21.2 MB/s eta 0:00:01\r     |█████▍                          | 2.3 MB 21.2 MB/s eta 0:00:01\r     |█████▍                          | 2.3 MB 21.2 MB/s eta 0:00:01\r     |█████▍                          | 2.3 MB 21.2 MB/s eta 0:00:01\r     |█████▍                          | 2.3 MB 21.2 MB/s eta 0:00:01\r     |█████▌                          | 2.3 MB 21.2 MB/s eta 0:00:01\r     |█████▌                          | 2.3 MB 21.2 MB/s eta 0:00:01\r     |█████▌                          | 2.4 MB 21.2 MB/s eta 0:00:01\r     |█████▌                          | 2.4 MB 21.2 MB/s eta 0:00:01\r     |█████▌                          | 2.4 MB 21.2 MB/s eta 0:00:01\r     |█████▋                          | 2.4 MB 21.2 MB/s eta 0:00:01\r     |█████▋                          | 2.4 MB 21.2 MB/s eta 0:00:01\r     |█████▋                          | 2.4 MB 21.2 MB/s eta 0:00:01\r     |█████▋                          | 2.4 MB 21.2 MB/s eta 0:00:01\r     |█████▊                          | 2.4 MB 21.2 MB/s eta 0:00:01\r     |█████▊                          | 2.4 MB 21.2 MB/s eta 0:00:01\r     |█████▊                          | 2.4 MB 21.2 MB/s eta 0:00:01\r     |█████▊                          | 2.5 MB 21.2 MB/s eta 0:00:01\r     |█████▊                          | 2.5 MB 21.2 MB/s eta 0:00:01\r     |█████▉                          | 2.5 MB 21.2 MB/s eta 0:00:01\r     |█████▉                          | 2.5 MB 21.2 MB/s eta 0:00:01\r     |█████▉                          | 2.5 MB 21.2 MB/s eta 0:00:01\r     |█████▉                          | 2.5 MB 21.2 MB/s eta 0:00:01\r     |█████▉                          | 2.5 MB 21.2 MB/s eta 0:00:01\r     |██████                          | 2.5 MB 21.2 MB/s eta 0:00:01\r     |██████                          | 2.5 MB 21.2 MB/s eta 0:00:01\r     |██████                          | 2.5 MB 21.2 MB/s eta 0:00:01\r     |██████                          | 2.6 MB 21.2 MB/s eta 0:00:01\r     |██████                          | 2.6 MB 21.2 MB/s eta 0:00:01\r     |██████                          | 2.6 MB 21.2 MB/s eta 0:00:01\r     |██████                          | 2.6 MB 21.2 MB/s eta 0:00:01\r     |██████                          | 2.6 MB 21.2 MB/s eta 0:00:01\r     |██████                          | 2.6 MB 21.2 MB/s eta 0:00:01\r     |██████▏                         | 2.6 MB 21.2 MB/s eta 0:00:01\r     |██████▏                         | 2.6 MB 21.2 MB/s eta 0:00:01\r     |██████▏                         | 2.6 MB 21.2 MB/s eta 0:00:01\r     |██████▏                         | 2.7 MB 21.2 MB/s eta 0:00:01\r     |██████▏                         | 2.7 MB 21.2 MB/s eta 0:00:01\r     |██████▎                         | 2.7 MB 21.2 MB/s eta 0:00:01\r     |██████▎                         | 2.7 MB 21.2 MB/s eta 0:00:01\r     |██████▎                         | 2.7 MB 21.2 MB/s eta 0:00:01\r     |██████▎                         | 2.7 MB 21.2 MB/s eta 0:00:01\r     |██████▍                         | 2.7 MB 21.2 MB/s eta 0:00:01\r     |██████▍                         | 2.7 MB 21.2 MB/s eta 0:00:01\r     |██████▍                         | 2.7 MB 21.2 MB/s eta 0:00:01\r     |██████▍                         | 2.7 MB 21.2 MB/s eta 0:00:01\r     |██████▍                         | 2.8 MB 21.2 MB/s eta 0:00:01\r     |██████▌                         | 2.8 MB 21.2 MB/s eta 0:00:01\r     |██████▌                         | 2.8 MB 21.2 MB/s eta 0:00:01\r     |██████▌                         | 2.8 MB 21.2 MB/s eta 0:00:01\r     |██████▌                         | 2.8 MB 21.2 MB/s eta 0:00:01\r     |██████▌                         | 2.8 MB 21.2 MB/s eta 0:00:01\r     |██████▋                         | 2.8 MB 21.2 MB/s eta 0:00:01\r     |██████▋                         | 2.8 MB 21.2 MB/s eta 0:00:01\r     |██████▋                         | 2.8 MB 21.2 MB/s eta 0:00:01\r     |██████▋                         | 2.8 MB 21.2 MB/s eta 0:00:01\r     |██████▊                         | 2.9 MB 21.2 MB/s eta 0:00:01\r     |██████▊                         | 2.9 MB 21.2 MB/s eta 0:00:01\r     |██████▊                         | 2.9 MB 21.2 MB/s eta 0:00:01\r     |██████▊                         | 2.9 MB 21.2 MB/s eta 0:00:01\r     |██████▊                         | 2.9 MB 21.2 MB/s eta 0:00:01\r     |██████▉                         | 2.9 MB 21.2 MB/s eta 0:00:01\r     |██████▉                         | 2.9 MB 21.2 MB/s eta 0:00:01\r     |██████▉                         | 2.9 MB 21.2 MB/s eta 0:00:01\r     |██████▉                         | 2.9 MB 21.2 MB/s eta 0:00:01\r     |██████▉                         | 2.9 MB 21.2 MB/s eta 0:00:01\r     |███████                         | 3.0 MB 21.2 MB/s eta 0:00:01\r     |███████                         | 3.0 MB 21.2 MB/s eta 0:00:01\r     |███████                         | 3.0 MB 21.2 MB/s eta 0:00:01\r     |███████                         | 3.0 MB 21.2 MB/s eta 0:00:01\r     |███████                         | 3.0 MB 21.2 MB/s eta 0:00:01\r     |███████                         | 3.0 MB 21.2 MB/s eta 0:00:01\r     |███████                         | 3.0 MB 21.2 MB/s eta 0:00:01\r     |███████                         | 3.0 MB 21.2 MB/s eta 0:00:01\r     |███████                         | 3.0 MB 21.2 MB/s eta 0:00:01\r     |███████▏                        | 3.1 MB 21.2 MB/s eta 0:00:01\r     |███████▏                        | 3.1 MB 21.2 MB/s eta 0:00:01\r     |███████▏                        | 3.1 MB 21.2 MB/s eta 0:00:01\r     |███████▏                        | 3.1 MB 21.2 MB/s eta 0:00:01\r     |███████▏                        | 3.1 MB 21.2 MB/s eta 0:00:01\r     |███████▎                        | 3.1 MB 21.2 MB/s eta 0:00:01\r     |███████▎                        | 3.1 MB 21.2 MB/s eta 0:00:01\r     |███████▎                        | 3.1 MB 21.2 MB/s eta 0:00:01\r     |███████▎                        | 3.1 MB 21.2 MB/s eta 0:00:01\r     |███████▍                        | 3.1 MB 21.2 MB/s eta 0:00:01\r     |███████▍                        | 3.2 MB 21.2 MB/s eta 0:00:01\r     |███████▍                        | 3.2 MB 21.2 MB/s eta 0:00:01\r     |███████▍                        | 3.2 MB 21.2 MB/s eta 0:00:01\r     |███████▍                        | 3.2 MB 21.2 MB/s eta 0:00:01\r     |███████▌                        | 3.2 MB 21.2 MB/s eta 0:00:01\r     |███████▌                        | 3.2 MB 21.2 MB/s eta 0:00:01\r     |███████▌                        | 3.2 MB 21.2 MB/s eta 0:00:01\r     |███████▌                        | 3.2 MB 21.2 MB/s eta 0:00:01\r     |███████▋                        | 3.2 MB 21.2 MB/s eta 0:00:01\r     |███████▋                        | 3.2 MB 21.2 MB/s eta 0:00:01\r     |███████▋                        | 3.3 MB 21.2 MB/s eta 0:00:01\r     |███████▋                        | 3.3 MB 21.2 MB/s eta 0:00:01\r     |███████▋                        | 3.3 MB 21.2 MB/s eta 0:00:01\r     |███████▊                        | 3.3 MB 21.2 MB/s eta 0:00:01\r     |███████▊                        | 3.3 MB 21.2 MB/s eta 0:00:01\r     |███████▊                        | 3.3 MB 21.2 MB/s eta 0:00:01\r     |███████▊                        | 3.3 MB 21.2 MB/s eta 0:00:01\r     |███████▊                        | 3.3 MB 21.2 MB/s eta 0:00:01\r     |███████▉                        | 3.3 MB 21.2 MB/s eta 0:00:01\r     |███████▉                        | 3.3 MB 21.2 MB/s eta 0:00:01\r     |███████▉                        | 3.4 MB 21.2 MB/s eta 0:00:01\r     |███████▉                        | 3.4 MB 21.2 MB/s eta 0:00:01\r     |████████                        | 3.4 MB 21.2 MB/s eta 0:00:01\r     |████████                        | 3.4 MB 21.2 MB/s eta 0:00:01\r     |████████                        | 3.4 MB 21.2 MB/s eta 0:00:01\r     |████████                        | 3.4 MB 21.2 MB/s eta 0:00:01\r     |████████                        | 3.4 MB 21.2 MB/s eta 0:00:01\r     |████████                        | 3.4 MB 21.2 MB/s eta 0:00:01\r     |████████                        | 3.4 MB 21.2 MB/s eta 0:00:01\r     |████████                        | 3.5 MB 21.2 MB/s eta 0:00:01\r     |████████                        | 3.5 MB 21.2 MB/s eta 0:00:01\r     |████████                        | 3.5 MB 21.2 MB/s eta 0:00:01\r     |████████▏                       | 3.5 MB 21.2 MB/s eta 0:00:01\r     |████████▏                       | 3.5 MB 21.2 MB/s eta 0:00:01\r     |████████▏                       | 3.5 MB 21.2 MB/s eta 0:00:01\r     |████████▏                       | 3.5 MB 21.2 MB/s eta 0:00:01\r     |████████▎                       | 3.5 MB 21.2 MB/s eta 0:00:01\r     |████████▎                       | 3.5 MB 21.2 MB/s eta 0:00:01\r     |████████▎                       | 3.5 MB 21.2 MB/s eta 0:00:01\r     |████████▎                       | 3.6 MB 21.2 MB/s eta 0:00:01\r     |████████▎                       | 3.6 MB 21.2 MB/s eta 0:00:01\r     |████████▍                       | 3.6 MB 21.2 MB/s eta 0:00:01\r     |████████▍                       | 3.6 MB 21.2 MB/s eta 0:00:01\r     |████████▍                       | 3.6 MB 21.2 MB/s eta 0:00:01\r     |████████▍                       | 3.6 MB 21.2 MB/s eta 0:00:01\r     |████████▍                       | 3.6 MB 21.2 MB/s eta 0:00:01\r     |████████▌                       | 3.6 MB 21.2 MB/s eta 0:00:01\r     |████████▌                       | 3.6 MB 21.2 MB/s eta 0:00:01\r     |████████▌                       | 3.6 MB 21.2 MB/s eta 0:00:01\r     |████████▌                       | 3.7 MB 21.2 MB/s eta 0:00:01\r     |████████▋                       | 3.7 MB 21.2 MB/s eta 0:00:01\r     |████████▋                       | 3.7 MB 21.2 MB/s eta 0:00:01\r     |████████▋                       | 3.7 MB 21.2 MB/s eta 0:00:01\r     |████████▋                       | 3.7 MB 21.2 MB/s eta 0:00:01\r     |████████▋                       | 3.7 MB 21.2 MB/s eta 0:00:01\r     |████████▊                       | 3.7 MB 21.2 MB/s eta 0:00:01\r     |████████▊                       | 3.7 MB 21.2 MB/s eta 0:00:01\r     |████████▊                       | 3.7 MB 21.2 MB/s eta 0:00:01\r     |████████▊                       | 3.7 MB 21.2 MB/s eta 0:00:01\r     |████████▊                       | 3.8 MB 21.2 MB/s eta 0:00:01\r     |████████▉                       | 3.8 MB 21.2 MB/s eta 0:00:01\r     |████████▉                       | 3.8 MB 21.2 MB/s eta 0:00:01\r     |████████▉                       | 3.8 MB 21.2 MB/s eta 0:00:01\r     |████████▉                       | 3.8 MB 21.2 MB/s eta 0:00:01\r     |█████████                       | 3.8 MB 21.2 MB/s eta 0:00:01\r     |█████████                       | 3.8 MB 21.2 MB/s eta 0:00:01\r     |█████████                       | 3.8 MB 21.2 MB/s eta 0:00:01\r     |█████████                       | 3.8 MB 21.2 MB/s eta 0:00:01\r     |█████████                       | 3.9 MB 21.2 MB/s eta 0:00:01\r     |█████████                       | 3.9 MB 21.2 MB/s eta 0:00:01\r     |█████████                       | 3.9 MB 21.2 MB/s eta 0:00:01\r     |█████████                       | 3.9 MB 21.2 MB/s eta 0:00:01\r     |█████████                       | 3.9 MB 21.2 MB/s eta 0:00:01\r     |█████████▏                      | 3.9 MB 21.2 MB/s eta 0:00:01\r     |█████████▏                      | 3.9 MB 21.2 MB/s eta 0:00:01\r     |█████████▏                      | 3.9 MB 21.2 MB/s eta 0:00:01\r     |█████████▏                      | 3.9 MB 21.2 MB/s eta 0:00:01\r     |█████████▏                      | 3.9 MB 21.2 MB/s eta 0:00:01\r     |█████████▎                      | 4.0 MB 21.2 MB/s eta 0:00:01\r     |█████████▎                      | 4.0 MB 21.2 MB/s eta 0:00:01\r     |█████████▎                      | 4.0 MB 21.2 MB/s eta 0:00:01\r     |█████████▎                      | 4.0 MB 21.2 MB/s eta 0:00:01\r     |█████████▎                      | 4.0 MB 21.2 MB/s eta 0:00:01\r     |█████████▍                      | 4.0 MB 21.2 MB/s eta 0:00:01\r     |█████████▍                      | 4.0 MB 21.2 MB/s eta 0:00:01\r     |█████████▍                      | 4.0 MB 21.2 MB/s eta 0:00:01\r     |█████████▍                      | 4.0 MB 21.2 MB/s eta 0:00:01\r     |█████████▌                      | 4.0 MB 21.2 MB/s eta 0:00:01\r     |█████████▌                      | 4.1 MB 21.2 MB/s eta 0:00:01\r     |█████████▌                      | 4.1 MB 21.2 MB/s eta 0:00:01\r     |█████████▌                      | 4.1 MB 21.2 MB/s eta 0:00:01\r     |█████████▌                      | 4.1 MB 21.2 MB/s eta 0:00:01\r     |█████████▋                      | 4.1 MB 21.2 MB/s eta 0:00:01\r     |█████████▋                      | 4.1 MB 21.2 MB/s eta 0:00:01\r     |█████████▋                      | 4.1 MB 21.2 MB/s eta 0:00:01\r     |█████████▋                      | 4.1 MB 21.2 MB/s eta 0:00:01\r     |█████████▋                      | 4.1 MB 21.2 MB/s eta 0:00:01\r     |█████████▊                      | 4.1 MB 21.2 MB/s eta 0:00:01\r     |█████████▊                      | 4.2 MB 21.2 MB/s eta 0:00:01\r     |█████████▊                      | 4.2 MB 21.2 MB/s eta 0:00:01\r     |█████████▊                      | 4.2 MB 21.2 MB/s eta 0:00:01\r     |█████████▉                      | 4.2 MB 21.2 MB/s eta 0:00:01\r     |█████████▉                      | 4.2 MB 21.2 MB/s eta 0:00:01\r     |█████████▉                      | 4.2 MB 21.2 MB/s eta 0:00:01\r     |█████████▉                      | 4.2 MB 21.2 MB/s eta 0:00:01\r     |█████████▉                      | 4.2 MB 21.2 MB/s eta 0:00:01\r     |██████████                      | 4.2 MB 21.2 MB/s eta 0:00:01\r     |██████████                      | 4.2 MB 21.2 MB/s eta 0:00:01\r     |██████████                      | 4.3 MB 21.2 MB/s eta 0:00:01\r     |██████████                      | 4.3 MB 21.2 MB/s eta 0:00:01\r     |██████████                      | 4.3 MB 21.2 MB/s eta 0:00:01\r     |██████████                      | 4.3 MB 21.2 MB/s eta 0:00:01\r     |██████████                      | 4.3 MB 21.2 MB/s eta 0:00:01\r     |██████████                      | 4.3 MB 21.2 MB/s eta 0:00:01\r     |██████████                      | 4.3 MB 21.2 MB/s eta 0:00:01\r     |██████████▏                     | 4.3 MB 21.2 MB/s eta 0:00:01\r     |██████████▏                     | 4.3 MB 21.2 MB/s eta 0:00:01\r     |██████████▏                     | 4.4 MB 21.2 MB/s eta 0:00:01\r     |██████████▏                     | 4.4 MB 21.2 MB/s eta 0:00:01\r     |██████████▏                     | 4.4 MB 21.2 MB/s eta 0:00:01\r     |██████████▎                     | 4.4 MB 21.2 MB/s eta 0:00:01\r     |██████████▎                     | 4.4 MB 21.2 MB/s eta 0:00:01\r     |██████████▎                     | 4.4 MB 21.2 MB/s eta 0:00:01\r     |██████████▎                     | 4.4 MB 21.2 MB/s eta 0:00:01\r     |██████████▎                     | 4.4 MB 21.2 MB/s eta 0:00:01\r     |██████████▍                     | 4.4 MB 21.2 MB/s eta 0:00:01\r     |██████████▍                     | 4.4 MB 21.2 MB/s eta 0:00:01\r     |██████████▍                     | 4.5 MB 21.2 MB/s eta 0:00:01\r     |██████████▍                     | 4.5 MB 21.2 MB/s eta 0:00:01\r     |██████████▌                     | 4.5 MB 21.2 MB/s eta 0:00:01\r     |██████████▌                     | 4.5 MB 21.2 MB/s eta 0:00:01\r     |██████████▌                     | 4.5 MB 21.2 MB/s eta 0:00:01\r     |██████████▌                     | 4.5 MB 21.2 MB/s eta 0:00:01\r     |██████████▌                     | 4.5 MB 21.2 MB/s eta 0:00:01\r     |██████████▋                     | 4.5 MB 21.2 MB/s eta 0:00:01\r     |██████████▋                     | 4.5 MB 21.2 MB/s eta 0:00:01\r     |██████████▋                     | 4.5 MB 21.2 MB/s eta 0:00:01\r     |██████████▋                     | 4.6 MB 21.2 MB/s eta 0:00:01\r     |██████████▋                     | 4.6 MB 21.2 MB/s eta 0:00:01\r     |██████████▊                     | 4.6 MB 21.2 MB/s eta 0:00:01\r     |██████████▊                     | 4.6 MB 21.2 MB/s eta 0:00:01\r     |██████████▊                     | 4.6 MB 21.2 MB/s eta 0:00:01\r     |██████████▊                     | 4.6 MB 21.2 MB/s eta 0:00:01\r     |██████████▉                     | 4.6 MB 21.2 MB/s eta 0:00:01\r     |██████████▉                     | 4.6 MB 21.2 MB/s eta 0:00:01\r     |██████████▉                     | 4.6 MB 21.2 MB/s eta 0:00:01\r     |██████████▉                     | 4.6 MB 21.2 MB/s eta 0:00:01\r     |██████████▉                     | 4.7 MB 21.2 MB/s eta 0:00:01\r     |███████████                     | 4.7 MB 21.2 MB/s eta 0:00:01\r     |███████████                     | 4.7 MB 21.2 MB/s eta 0:00:01\r     |███████████                     | 4.7 MB 21.2 MB/s eta 0:00:01\r     |███████████                     | 4.7 MB 21.2 MB/s eta 0:00:01\r     |███████████                     | 4.7 MB 21.2 MB/s eta 0:00:01\r     |███████████                     | 4.7 MB 21.2 MB/s eta 0:00:01\r     |███████████                     | 4.7 MB 21.2 MB/s eta 0:00:01\r     |███████████                     | 4.7 MB 21.2 MB/s eta 0:00:01\r     |███████████                     | 4.8 MB 21.2 MB/s eta 0:00:01\r     |███████████▏                    | 4.8 MB 21.2 MB/s eta 0:00:01\r     |███████████▏                    | 4.8 MB 21.2 MB/s eta 0:00:01\r     |███████████▏                    | 4.8 MB 21.2 MB/s eta 0:00:01\r     |███████████▏                    | 4.8 MB 21.2 MB/s eta 0:00:01\r     |███████████▏                    | 4.8 MB 21.2 MB/s eta 0:00:01\r     |███████████▎                    | 4.8 MB 21.2 MB/s eta 0:00:01\r     |███████████▎                    | 4.8 MB 21.2 MB/s eta 0:00:01\r     |███████████▎                    | 4.8 MB 21.2 MB/s eta 0:00:01\r     |███████████▎                    | 4.8 MB 21.2 MB/s eta 0:00:01\r     |███████████▍                    | 4.9 MB 21.2 MB/s eta 0:00:01\r     |███████████▍                    | 4.9 MB 21.2 MB/s eta 0:00:01\r     |███████████▍                    | 4.9 MB 21.2 MB/s eta 0:00:01\r     |███████████▍                    | 4.9 MB 21.2 MB/s eta 0:00:01\r     |███████████▍                    | 4.9 MB 21.2 MB/s eta 0:00:01\r     |███████████▌                    | 4.9 MB 21.2 MB/s eta 0:00:01\r     |███████████▌                    | 4.9 MB 21.2 MB/s eta 0:00:01\r     |███████████▌                    | 4.9 MB 21.2 MB/s eta 0:00:01\r     |███████████▌                    | 4.9 MB 21.2 MB/s eta 0:00:01\r     |███████████▌                    | 4.9 MB 21.2 MB/s eta 0:00:01\r     |███████████▋                    | 5.0 MB 21.2 MB/s eta 0:00:01\r     |███████████▋                    | 5.0 MB 21.2 MB/s eta 0:00:01\r     |███████████▋                    | 5.0 MB 21.2 MB/s eta 0:00:01\r     |███████████▋                    | 5.0 MB 21.2 MB/s eta 0:00:01\r     |███████████▊                    | 5.0 MB 21.2 MB/s eta 0:00:01\r     |███████████▊                    | 5.0 MB 21.2 MB/s eta 0:00:01\r     |███████████▊                    | 5.0 MB 21.2 MB/s eta 0:00:01\r     |███████████▊                    | 5.0 MB 21.2 MB/s eta 0:00:01\r     |███████████▊                    | 5.0 MB 21.2 MB/s eta 0:00:01\r     |███████████▉                    | 5.0 MB 21.2 MB/s eta 0:00:01\r     |███████████▉                    | 5.1 MB 21.2 MB/s eta 0:00:01\r     |███████████▉                    | 5.1 MB 21.2 MB/s eta 0:00:01\r     |███████████▉                    | 5.1 MB 21.2 MB/s eta 0:00:01\r     |███████████▉                    | 5.1 MB 21.2 MB/s eta 0:00:01\r     |████████████                    | 5.1 MB 21.2 MB/s eta 0:00:01\r     |████████████                    | 5.1 MB 21.2 MB/s eta 0:00:01\r     |████████████                    | 5.1 MB 21.2 MB/s eta 0:00:01\r     |████████████                    | 5.1 MB 21.2 MB/s eta 0:00:01\r     |████████████                    | 5.1 MB 21.2 MB/s eta 0:00:01\r     |████████████                    | 5.2 MB 21.2 MB/s eta 0:00:01\r     |████████████                    | 5.2 MB 21.2 MB/s eta 0:00:01\r     |████████████                    | 5.2 MB 21.2 MB/s eta 0:00:01\r     |████████████                    | 5.2 MB 21.2 MB/s eta 0:00:01\r     |████████████▏                   | 5.2 MB 21.2 MB/s eta 0:00:01\r     |████████████▏                   | 5.2 MB 21.2 MB/s eta 0:00:01\r     |████████████▏                   | 5.2 MB 21.2 MB/s eta 0:00:01\r     |████████████▏                   | 5.2 MB 21.2 MB/s eta 0:00:01\r     |████████████▏                   | 5.2 MB 21.2 MB/s eta 0:00:01\r     |████████████▎                   | 5.2 MB 21.2 MB/s eta 0:00:01\r     |████████████▎                   | 5.3 MB 21.2 MB/s eta 0:00:01\r     |████████████▎                   | 5.3 MB 21.2 MB/s eta 0:00:01\r     |████████████▎                   | 5.3 MB 21.2 MB/s eta 0:00:01\r     |████████████▍                   | 5.3 MB 21.2 MB/s eta 0:00:01\r     |████████████▍                   | 5.3 MB 21.2 MB/s eta 0:00:01\r     |████████████▍                   | 5.3 MB 21.2 MB/s eta 0:00:01\r     |████████████▍                   | 5.3 MB 21.2 MB/s eta 0:00:01\r     |████████████▍                   | 5.3 MB 21.2 MB/s eta 0:00:01\r     |████████████▌                   | 5.3 MB 21.2 MB/s eta 0:00:01\r     |████████████▌                   | 5.3 MB 21.2 MB/s eta 0:00:01\r     |████████████▌                   | 5.4 MB 21.2 MB/s eta 0:00:01\r     |████████████▌                   | 5.4 MB 21.2 MB/s eta 0:00:01\r     |████████████▌                   | 5.4 MB 21.2 MB/s eta 0:00:01\r     |████████████▋                   | 5.4 MB 21.2 MB/s eta 0:00:01\r     |████████████▋                   | 5.4 MB 21.2 MB/s eta 0:00:01\r     |████████████▋                   | 5.4 MB 21.2 MB/s eta 0:00:01\r     |████████████▋                   | 5.4 MB 21.2 MB/s eta 0:00:01\r     |████████████▊                   | 5.4 MB 21.2 MB/s eta 0:00:01\r     |████████████▊                   | 5.4 MB 21.2 MB/s eta 0:00:01\r     |████████████▊                   | 5.4 MB 21.2 MB/s eta 0:00:01\r     |████████████▊                   | 5.5 MB 21.2 MB/s eta 0:00:01\r     |████████████▊                   | 5.5 MB 21.2 MB/s eta 0:00:01\r     |████████████▉                   | 5.5 MB 21.2 MB/s eta 0:00:01\r     |████████████▉                   | 5.5 MB 21.2 MB/s eta 0:00:01\r     |████████████▉                   | 5.5 MB 21.2 MB/s eta 0:00:01\r     |████████████▉                   | 5.5 MB 21.2 MB/s eta 0:00:01\r     |█████████████                   | 5.5 MB 21.2 MB/s eta 0:00:01\r     |█████████████                   | 5.5 MB 21.2 MB/s eta 0:00:01\r     |█████████████                   | 5.5 MB 21.2 MB/s eta 0:00:01\r     |█████████████                   | 5.6 MB 21.2 MB/s eta 0:00:01\r     |█████████████                   | 5.6 MB 21.2 MB/s eta 0:00:01\r     |█████████████                   | 5.6 MB 21.2 MB/s eta 0:00:01\r     |█████████████                   | 5.6 MB 21.2 MB/s eta 0:00:01\r     |█████████████                   | 5.6 MB 21.2 MB/s eta 0:00:01\r     |█████████████                   | 5.6 MB 21.2 MB/s eta 0:00:01\r     |█████████████                   | 5.6 MB 21.2 MB/s eta 0:00:01\r     |█████████████▏                  | 5.6 MB 21.2 MB/s eta 0:00:01\r     |█████████████▏                  | 5.6 MB 21.2 MB/s eta 0:00:01\r     |█████████████▏                  | 5.6 MB 21.2 MB/s eta 0:00:01\r     |█████████████▏                  | 5.7 MB 21.2 MB/s eta 0:00:01\r     |█████████████▎                  | 5.7 MB 21.2 MB/s eta 0:00:01\r     |█████████████▎                  | 5.7 MB 21.2 MB/s eta 0:00:01\r     |█████████████▎                  | 5.7 MB 21.2 MB/s eta 0:00:01\r     |█████████████▎                  | 5.7 MB 21.2 MB/s eta 0:00:01\r     |█████████████▎                  | 5.7 MB 21.2 MB/s eta 0:00:01\r     |█████████████▍                  | 5.7 MB 21.2 MB/s eta 0:00:01\r     |█████████████▍                  | 5.7 MB 21.2 MB/s eta 0:00:01\r     |█████████████▍                  | 5.7 MB 21.2 MB/s eta 0:00:01\r     |█████████████▍                  | 5.7 MB 21.2 MB/s eta 0:00:01\r     |█████████████▍                  | 5.8 MB 21.2 MB/s eta 0:00:01\r     |█████████████▌                  | 5.8 MB 21.2 MB/s eta 0:00:01\r     |█████████████▌                  | 5.8 MB 21.2 MB/s eta 0:00:01\r     |█████████████▌                  | 5.8 MB 21.2 MB/s eta 0:00:01\r     |█████████████▌                  | 5.8 MB 21.2 MB/s eta 0:00:01\r     |█████████████▋                  | 5.8 MB 21.2 MB/s eta 0:00:01\r     |█████████████▋                  | 5.8 MB 21.2 MB/s eta 0:00:01\r     |█████████████▋                  | 5.8 MB 21.2 MB/s eta 0:00:01\r     |█████████████▋                  | 5.8 MB 21.2 MB/s eta 0:00:01\r     |█████████████▋                  | 5.8 MB 21.2 MB/s eta 0:00:01\r     |█████████████▊                  | 5.9 MB 21.2 MB/s eta 0:00:01\r     |█████████████▊                  | 5.9 MB 21.2 MB/s eta 0:00:01\r     |█████████████▊                  | 5.9 MB 21.2 MB/s eta 0:00:01\r     |█████████████▊                  | 5.9 MB 21.2 MB/s eta 0:00:01\r     |█████████████▊                  | 5.9 MB 21.2 MB/s eta 0:00:01\r     |█████████████▉                  | 5.9 MB 21.2 MB/s eta 0:00:01\r     |█████████████▉                  | 5.9 MB 21.2 MB/s eta 0:00:01\r     |█████████████▉                  | 5.9 MB 21.2 MB/s eta 0:00:01\r     |█████████████▉                  | 5.9 MB 21.2 MB/s eta 0:00:01\r     |██████████████                  | 5.9 MB 21.2 MB/s eta 0:00:01\r     |██████████████                  | 6.0 MB 21.2 MB/s eta 0:00:01\r     |██████████████                  | 6.0 MB 21.2 MB/s eta 0:00:01\r     |██████████████                  | 6.0 MB 21.2 MB/s eta 0:00:01\r     |██████████████                  | 6.0 MB 21.2 MB/s eta 0:00:01\r     |██████████████                  | 6.0 MB 21.2 MB/s eta 0:00:01\r     |██████████████                  | 6.0 MB 21.2 MB/s eta 0:00:01\r     |██████████████                  | 6.0 MB 21.2 MB/s eta 0:00:01\r     |██████████████                  | 6.0 MB 21.2 MB/s eta 0:00:01\r     |██████████████                  | 6.0 MB 21.2 MB/s eta 0:00:01\r     |██████████████▏                 | 6.1 MB 21.2 MB/s eta 0:00:01\r     |██████████████▏                 | 6.1 MB 21.2 MB/s eta 0:00:01\r     |██████████████▏                 | 6.1 MB 21.2 MB/s eta 0:00:01\r     |██████████████▏                 | 6.1 MB 21.2 MB/s eta 0:00:01\r     |██████████████▎                 | 6.1 MB 21.2 MB/s eta 0:00:01\r     |██████████████▎                 | 6.1 MB 21.2 MB/s eta 0:00:01\r     |██████████████▎                 | 6.1 MB 21.2 MB/s eta 0:00:01\r     |██████████████▎                 | 6.1 MB 21.2 MB/s eta 0:00:01\r     |██████████████▎                 | 6.1 MB 21.2 MB/s eta 0:00:01\r     |██████████████▍                 | 6.1 MB 21.2 MB/s eta 0:00:01\r     |██████████████▍                 | 6.2 MB 21.2 MB/s eta 0:00:01\r     |██████████████▍                 | 6.2 MB 21.2 MB/s eta 0:00:01\r     |██████████████▍                 | 6.2 MB 21.2 MB/s eta 0:00:01\r     |██████████████▍                 | 6.2 MB 21.2 MB/s eta 0:00:01\r     |██████████████▌                 | 6.2 MB 21.2 MB/s eta 0:00:01\r     |██████████████▌                 | 6.2 MB 21.2 MB/s eta 0:00:01\r     |██████████████▌                 | 6.2 MB 21.2 MB/s eta 0:00:01\r     |██████████████▌                 | 6.2 MB 21.2 MB/s eta 0:00:01\r     |██████████████▋                 | 6.2 MB 21.2 MB/s eta 0:00:01\r     |██████████████▋                 | 6.2 MB 21.2 MB/s eta 0:00:01\r     |██████████████▋                 | 6.3 MB 21.2 MB/s eta 0:00:01\r     |██████████████▋                 | 6.3 MB 21.2 MB/s eta 0:00:01\r     |██████████████▋                 | 6.3 MB 21.2 MB/s eta 0:00:01\r     |██████████████▊                 | 6.3 MB 21.2 MB/s eta 0:00:01\r     |██████████████▊                 | 6.3 MB 21.2 MB/s eta 0:00:01\r     |██████████████▊                 | 6.3 MB 21.2 MB/s eta 0:00:01\r     |██████████████▊                 | 6.3 MB 21.2 MB/s eta 0:00:01\r     |██████████████▉                 | 6.3 MB 21.2 MB/s eta 0:00:01\r     |██████████████▉                 | 6.3 MB 21.2 MB/s eta 0:00:01\r     |██████████████▉                 | 6.3 MB 21.2 MB/s eta 0:00:01\r     |██████████████▉                 | 6.4 MB 21.2 MB/s eta 0:00:01\r     |██████████████▉                 | 6.4 MB 21.2 MB/s eta 0:00:01\r     |███████████████                 | 6.4 MB 21.2 MB/s eta 0:00:01\r     |███████████████                 | 6.4 MB 21.2 MB/s eta 0:00:01\r     |███████████████                 | 6.4 MB 21.2 MB/s eta 0:00:01\r     |███████████████                 | 6.4 MB 21.2 MB/s eta 0:00:01\r     |███████████████                 | 6.4 MB 21.2 MB/s eta 0:00:01\r     |███████████████                 | 6.4 MB 21.2 MB/s eta 0:00:01\r     |███████████████                 | 6.4 MB 21.2 MB/s eta 0:00:01\r     |███████████████                 | 6.5 MB 21.2 MB/s eta 0:00:01\r     |███████████████                 | 6.5 MB 21.2 MB/s eta 0:00:01\r     |███████████████▏                | 6.5 MB 21.2 MB/s eta 0:00:01\r     |███████████████▏                | 6.5 MB 21.2 MB/s eta 0:00:01\r     |███████████████▏                | 6.5 MB 21.2 MB/s eta 0:00:01\r     |███████████████▏                | 6.5 MB 21.2 MB/s eta 0:00:01\r     |███████████████▏                | 6.5 MB 21.2 MB/s eta 0:00:01\r     |███████████████▎                | 6.5 MB 21.2 MB/s eta 0:00:01\r     |███████████████▎                | 6.5 MB 21.2 MB/s eta 0:00:01\r     |███████████████▎                | 6.5 MB 21.2 MB/s eta 0:00:01\r     |███████████████▎                | 6.6 MB 21.2 MB/s eta 0:00:01\r     |███████████████▎                | 6.6 MB 21.2 MB/s eta 0:00:01\r     |███████████████▍                | 6.6 MB 21.2 MB/s eta 0:00:01\r     |███████████████▍                | 6.6 MB 21.2 MB/s eta 0:00:01\r     |███████████████▍                | 6.6 MB 21.2 MB/s eta 0:00:01\r     |███████████████▍                | 6.6 MB 21.2 MB/s eta 0:00:01\r     |███████████████▌                | 6.6 MB 21.2 MB/s eta 0:00:01\r     |███████████████▌                | 6.6 MB 21.2 MB/s eta 0:00:01\r     |███████████████▌                | 6.6 MB 21.2 MB/s eta 0:00:01\r     |███████████████▌                | 6.6 MB 21.2 MB/s eta 0:00:01\r     |███████████████▌                | 6.7 MB 21.2 MB/s eta 0:00:01\r     |███████████████▋                | 6.7 MB 21.2 MB/s eta 0:00:01\r     |███████████████▋                | 6.7 MB 21.2 MB/s eta 0:00:01\r     |███████████████▋                | 6.7 MB 21.2 MB/s eta 0:00:01\r     |███████████████▋                | 6.7 MB 21.2 MB/s eta 0:00:01\r     |███████████████▋                | 6.7 MB 21.2 MB/s eta 0:00:01\r     |███████████████▊                | 6.7 MB 21.2 MB/s eta 0:00:01\r     |███████████████▊                | 6.7 MB 21.2 MB/s eta 0:00:01\r     |███████████████▊                | 6.7 MB 21.2 MB/s eta 0:00:01\r     |███████████████▊                | 6.7 MB 21.2 MB/s eta 0:00:01\r     |███████████████▉                | 6.8 MB 21.2 MB/s eta 0:00:01\r     |███████████████▉                | 6.8 MB 21.2 MB/s eta 0:00:01\r     |███████████████▉                | 6.8 MB 21.2 MB/s eta 0:00:01\r     |███████████████▉                | 6.8 MB 21.2 MB/s eta 0:00:01\r     |███████████████▉                | 6.8 MB 21.2 MB/s eta 0:00:01\r     |████████████████                | 6.8 MB 21.2 MB/s eta 0:00:01\r     |████████████████                | 6.8 MB 21.2 MB/s eta 0:00:01\r     |████████████████                | 6.8 MB 21.2 MB/s eta 0:00:01\r     |████████████████                | 6.8 MB 21.2 MB/s eta 0:00:01\r     |████████████████                | 6.9 MB 21.2 MB/s eta 0:00:01\r     |████████████████                | 6.9 MB 21.2 MB/s eta 0:00:01\r     |████████████████                | 6.9 MB 21.2 MB/s eta 0:00:01\r     |████████████████                | 6.9 MB 21.2 MB/s eta 0:00:01\r     |████████████████                | 6.9 MB 21.2 MB/s eta 0:00:01\r     |████████████████▏               | 6.9 MB 21.2 MB/s eta 0:00:01\r     |████████████████▏               | 6.9 MB 21.2 MB/s eta 0:00:01\r     |████████████████▏               | 6.9 MB 21.2 MB/s eta 0:00:01\r     |████████████████▏               | 6.9 MB 21.2 MB/s eta 0:00:01\r     |████████████████▏               | 6.9 MB 21.2 MB/s eta 0:00:01\r     |████████████████▎               | 7.0 MB 21.2 MB/s eta 0:00:01\r     |████████████████▎               | 7.0 MB 21.2 MB/s eta 0:00:01\r     |████████████████▎               | 7.0 MB 21.2 MB/s eta 0:00:01\r     |████████████████▎               | 7.0 MB 21.2 MB/s eta 0:00:01\r     |████████████████▍               | 7.0 MB 21.2 MB/s eta 0:00:01\r     |████████████████▍               | 7.0 MB 21.2 MB/s eta 0:00:01\r     |████████████████▍               | 7.0 MB 21.2 MB/s eta 0:00:01\r     |████████████████▍               | 7.0 MB 21.2 MB/s eta 0:00:01\r     |████████████████▍               | 7.0 MB 21.2 MB/s eta 0:00:01\r     |████████████████▌               | 7.0 MB 21.2 MB/s eta 0:00:01\r\n*** WARNING: skipped 151556 bytes of output ***\n\nRequirement already satisfied: spacy&lt;3.3.0,&gt;=3.2.0 in /databricks/python3/lib/python3.8/site-packages (from en-core-web-sm==3.2.0) (3.2.1)\r\nRequirement already satisfied: tqdm&lt;5.0.0,&gt;=4.38.0 in /databricks/python3/lib/python3.8/site-packages (from spacy&lt;3.3.0,&gt;=3.2.0-&gt;en-core-web-sm==3.2.0) (4.59.0)\r\nRequirement already satisfied: pathy&gt;=0.3.5 in /databricks/python3/lib/python3.8/site-packages (from spacy&lt;3.3.0,&gt;=3.2.0-&gt;en-core-web-sm==3.2.0) (0.6.0)\r\nRequirement already satisfied: pydantic!=1.8,!=1.8.1,&lt;1.9.0,&gt;=1.7.4 in /local_disk0/.ephemeral_nfs/envs/pythonEnv-ae9f22fd-d029-48d6-a021-b35c4c7123ee/lib/python3.8/site-packages (from spacy&lt;3.3.0,&gt;=3.2.0-&gt;en-core-web-sm==3.2.0) (1.8.2)\r\nRequirement already satisfied: spacy-loggers&lt;2.0.0,&gt;=1.0.0 in /databricks/python3/lib/python3.8/site-packages (from spacy&lt;3.3.0,&gt;=3.2.0-&gt;en-core-web-sm==3.2.0) (1.0.1)\r\nRequirement already satisfied: preshed&lt;3.1.0,&gt;=3.0.2 in /databricks/python3/lib/python3.8/site-packages (from spacy&lt;3.3.0,&gt;=3.2.0-&gt;en-core-web-sm==3.2.0) (3.0.5)\r\nRequirement already satisfied: requests&lt;3.0.0,&gt;=2.13.0 in /databricks/python3/lib/python3.8/site-packages (from spacy&lt;3.3.0,&gt;=3.2.0-&gt;en-core-web-sm==3.2.0) (2.25.1)\r\nRequirement already satisfied: spacy-legacy&lt;3.1.0,&gt;=3.0.8 in /databricks/python3/lib/python3.8/site-packages (from spacy&lt;3.3.0,&gt;=3.2.0-&gt;en-core-web-sm==3.2.0) (3.0.8)\r\nRequirement already satisfied: thinc&lt;8.1.0,&gt;=8.0.12 in /databricks/python3/lib/python3.8/site-packages (from spacy&lt;3.3.0,&gt;=3.2.0-&gt;en-core-web-sm==3.2.0) (8.0.12)\r\nRequirement already satisfied: numpy&gt;=1.15.0 in /databricks/python3/lib/python3.8/site-packages (from spacy&lt;3.3.0,&gt;=3.2.0-&gt;en-core-web-sm==3.2.0) (1.22.4)\r\nRequirement already satisfied: setuptools in /usr/local/lib/python3.8/dist-packages (from spacy&lt;3.3.0,&gt;=3.2.0-&gt;en-core-web-sm==3.2.0) (52.0.0)\r\nRequirement already satisfied: catalogue&lt;2.1.0,&gt;=2.0.6 in /databricks/python3/lib/python3.8/site-packages (from spacy&lt;3.3.0,&gt;=3.2.0-&gt;en-core-web-sm==3.2.0) (2.0.6)\r\nRequirement already satisfied: blis&lt;0.8.0,&gt;=0.4.0 in /databricks/python3/lib/python3.8/site-packages (from spacy&lt;3.3.0,&gt;=3.2.0-&gt;en-core-web-sm==3.2.0) (0.7.4)\r\nRequirement already satisfied: murmurhash&lt;1.1.0,&gt;=0.28.0 in /databricks/python3/lib/python3.8/site-packages (from spacy&lt;3.3.0,&gt;=3.2.0-&gt;en-core-web-sm==3.2.0) (1.0.5)\r\nRequirement already satisfied: srsly&lt;3.0.0,&gt;=2.4.1 in /databricks/python3/lib/python3.8/site-packages (from spacy&lt;3.3.0,&gt;=3.2.0-&gt;en-core-web-sm==3.2.0) (2.4.1)\r\nRequirement already satisfied: typer&lt;0.5.0,&gt;=0.3.0 in /databricks/python3/lib/python3.8/site-packages (from spacy&lt;3.3.0,&gt;=3.2.0-&gt;en-core-web-sm==3.2.0) (0.3.2)\r\nRequirement already satisfied: jinja2 in /local_disk0/.ephemeral_nfs/envs/pythonEnv-ae9f22fd-d029-48d6-a021-b35c4c7123ee/lib/python3.8/site-packages (from spacy&lt;3.3.0,&gt;=3.2.0-&gt;en-core-web-sm==3.2.0) (3.0.0)\r\nRequirement already satisfied: packaging&gt;=20.0 in /databricks/python3/lib/python3.8/site-packages (from spacy&lt;3.3.0,&gt;=3.2.0-&gt;en-core-web-sm==3.2.0) (21.3)\r\nRequirement already satisfied: cymem&lt;2.1.0,&gt;=2.0.2 in /databricks/python3/lib/python3.8/site-packages (from spacy&lt;3.3.0,&gt;=3.2.0-&gt;en-core-web-sm==3.2.0) (2.0.5)\r\nRequirement already satisfied: wasabi&lt;1.1.0,&gt;=0.8.1 in /databricks/python3/lib/python3.8/site-packages (from spacy&lt;3.3.0,&gt;=3.2.0-&gt;en-core-web-sm==3.2.0) (0.8.2)\r\nRequirement already satisfied: langcodes&lt;4.0.0,&gt;=3.2.0 in /databricks/python3/lib/python3.8/site-packages (from spacy&lt;3.3.0,&gt;=3.2.0-&gt;en-core-web-sm==3.2.0) (3.3.0)\r\nRequirement already satisfied: pyparsing!=3.0.5,&gt;=2.0.2 in /databricks/python3/lib/python3.8/site-packages (from packaging&gt;=20.0-&gt;spacy&lt;3.3.0,&gt;=3.2.0-&gt;en-core-web-sm==3.2.0) (2.4.7)\r\nRequirement already satisfied: smart-open&lt;6.0.0,&gt;=5.0.0 in /databricks/python3/lib/python3.8/site-packages (from pathy&gt;=0.3.5-&gt;spacy&lt;3.3.0,&gt;=3.2.0-&gt;en-core-web-sm==3.2.0) (5.2.0)\r\nRequirement already satisfied: typing-extensions&gt;=3.7.4.3 in /databricks/python3/lib/python3.8/site-packages (from pydantic!=1.8,!=1.8.1,&lt;1.9.0,&gt;=1.7.4-&gt;spacy&lt;3.3.0,&gt;=3.2.0-&gt;en-core-web-sm==3.2.0) (4.7.1)\r\nRequirement already satisfied: urllib3&lt;1.27,&gt;=1.21.1 in /databricks/python3/lib/python3.8/site-packages (from requests&lt;3.0.0,&gt;=2.13.0-&gt;spacy&lt;3.3.0,&gt;=3.2.0-&gt;en-core-web-sm==3.2.0) (1.25.11)\r\nRequirement already satisfied: certifi&gt;=2017.4.17 in /databricks/python3/lib/python3.8/site-packages (from requests&lt;3.0.0,&gt;=2.13.0-&gt;spacy&lt;3.3.0,&gt;=3.2.0-&gt;en-core-web-sm==3.2.0) (2020.12.5)\r\nRequirement already satisfied: chardet&lt;5,&gt;=3.0.2 in /databricks/python3/lib/python3.8/site-packages (from requests&lt;3.0.0,&gt;=2.13.0-&gt;spacy&lt;3.3.0,&gt;=3.2.0-&gt;en-core-web-sm==3.2.0) (4.0.0)\r\nRequirement already satisfied: idna&lt;3,&gt;=2.5 in /databricks/python3/lib/python3.8/site-packages (from requests&lt;3.0.0,&gt;=2.13.0-&gt;spacy&lt;3.3.0,&gt;=3.2.0-&gt;en-core-web-sm==3.2.0) (2.10)\r\nRequirement already satisfied: click&lt;7.2.0,&gt;=7.1.1 in /databricks/python3/lib/python3.8/site-packages (from typer&lt;0.5.0,&gt;=0.3.0-&gt;spacy&lt;3.3.0,&gt;=3.2.0-&gt;en-core-web-sm==3.2.0) (7.1.2)\r\nRequirement already satisfied: MarkupSafe&gt;=2.0.0rc2 in /databricks/python3/lib/python3.8/site-packages (from jinja2-&gt;spacy&lt;3.3.0,&gt;=3.2.0-&gt;en-core-web-sm==3.2.0) (2.0.1)\r\nInstalling collected packages: en-core-web-sm\r\nSuccessfully installed en-core-web-sm-3.2.0\r\n<span class=\"ansi-yellow-fg\">WARNING: You are using pip version 21.0.1; however, version 23.2.1 is available.\r\nYou should consider upgrading via the &#39;/local_disk0/.ephemeral_nfs/envs/pythonEnv-ae9f22fd-d029-48d6-a021-b35c4c7123ee/bin/python3 -m pip install --upgrade pip&#39; command.</span>\r\n<span class=\"ansi-green-fg\">✔ Download and installation successful</span>\r\nYou can now load the package via spacy.load(&#39;en_core_web_sm&#39;)\r\n</div>",
       "datasetInfos": [],
       "metadata": {},
       "removedWidgets": [],
       "type": "html"
      }
     },
     "output_type": "display_data"
    }
   ],
   "source": [
    "!pip install spacy\n",
    "!python3 -m spacy download en_core_web_sm"
   ]
  },
  {
   "cell_type": "code",
   "execution_count": 0,
   "metadata": {
    "application/vnd.databricks.v1+cell": {
     "cellMetadata": {
      "byteLimit": 2048000,
      "rowLimit": 10000
     },
     "inputWidgets": {},
     "nuid": "22372f2a-b49b-4174-9b84-c47931c56d29",
     "showTitle": false,
     "title": ""
    },
    "id": "lwbJpuQiJGHA",
    "outputId": "8aeeb4d0-552b-4de2-f485-bf6fc99b0881"
   },
   "outputs": [
    {
     "output_type": "display_data",
     "data": {
      "text/html": [
       "<style scoped>\n",
       "  .ansiout {\n",
       "    display: block;\n",
       "    unicode-bidi: embed;\n",
       "    white-space: pre-wrap;\n",
       "    word-wrap: break-word;\n",
       "    word-break: break-all;\n",
       "    font-family: \"Source Code Pro\", \"Menlo\", monospace;;\n",
       "    font-size: 13px;\n",
       "    color: #555;\n",
       "    margin-left: 4px;\n",
       "    line-height: 19px;\n",
       "  }\n",
       "</style>\n",
       "<div class=\"ansiout\"></div>"
      ]
     },
     "metadata": {
      "application/vnd.databricks.v1+output": {
       "addedWidgets": {},
       "arguments": {},
       "data": "<div class=\"ansiout\"></div>",
       "datasetInfos": [],
       "metadata": {},
       "removedWidgets": [],
       "type": "html"
      }
     },
     "output_type": "display_data"
    }
   ],
   "source": [
    "import sys\n",
    "\n",
    "sys.path.append('/databricks/driver/')\n",
    "sys.path.append('/databricks/driver/spacy.py')\n",
    "sys.path.append('/databricks/driver/en_core_web_sm.py')\n",
    "\n",
    "import spacy\n",
    "import en_core_web_sm\n",
    "nlp = en_core_web_sm.load()"
   ]
  },
  {
   "cell_type": "code",
   "execution_count": 0,
   "metadata": {
    "application/vnd.databricks.v1+cell": {
     "cellMetadata": {
      "byteLimit": 2048000,
      "rowLimit": 10000
     },
     "inputWidgets": {},
     "nuid": "5da9f941-78d4-4fca-bb53-a7e73f541ccf",
     "showTitle": false,
     "title": ""
    },
    "id": "A0fCRujPJGHD",
    "outputId": "422271d5-a583-49d2-eb4d-e9a1804186fe"
   },
   "outputs": [
    {
     "output_type": "display_data",
     "data": {
      "text/html": [
       "<style scoped>\n",
       "  .ansiout {\n",
       "    display: block;\n",
       "    unicode-bidi: embed;\n",
       "    white-space: pre-wrap;\n",
       "    word-wrap: break-word;\n",
       "    word-break: break-all;\n",
       "    font-family: \"Source Code Pro\", \"Menlo\", monospace;;\n",
       "    font-size: 13px;\n",
       "    color: #555;\n",
       "    margin-left: 4px;\n",
       "    line-height: 19px;\n",
       "  }\n",
       "</style>\n",
       "<div class=\"ansiout\"></div>"
      ]
     },
     "metadata": {
      "application/vnd.databricks.v1+output": {
       "addedWidgets": {},
       "arguments": {},
       "data": "<div class=\"ansiout\"></div>",
       "datasetInfos": [],
       "metadata": {},
       "removedWidgets": [],
       "type": "html"
      }
     },
     "output_type": "display_data"
    }
   ],
   "source": [
    "def get_sentences_spacy(text):\n",
    "\n",
    "    print()\n",
    "    print ('with Spacy Sentence Detection')\n",
    "    print ('===================================')\n",
    "    for i,sent in enumerate(nlp(text).sents):\n",
    "        print(i, '\\t',str(sent).replace('\\n',''))# removing \\n to beutify printing\n",
    "\n",
    "    return"
   ]
  },
  {
   "cell_type": "code",
   "execution_count": 0,
   "metadata": {
    "application/vnd.databricks.v1+cell": {
     "cellMetadata": {
      "byteLimit": 2048000,
      "rowLimit": 10000
     },
     "inputWidgets": {},
     "nuid": "c5cf907e-45d7-4273-95b3-8f61c498f272",
     "showTitle": false,
     "title": ""
    },
    "id": "B_1iuMPqJGHF",
    "outputId": "f2805160-eb7b-4ad7-d21f-f8d1a2634acd"
   },
   "outputs": [
    {
     "output_type": "display_data",
     "data": {
      "text/html": [
       "<style scoped>\n",
       "  .ansiout {\n",
       "    display: block;\n",
       "    unicode-bidi: embed;\n",
       "    white-space: pre-wrap;\n",
       "    word-wrap: break-word;\n",
       "    word-break: break-all;\n",
       "    font-family: \"Source Code Pro\", \"Menlo\", monospace;;\n",
       "    font-size: 13px;\n",
       "    color: #555;\n",
       "    margin-left: 4px;\n",
       "    line-height: 19px;\n",
       "  }\n",
       "</style>\n",
       "<div class=\"ansiout\"></div>"
      ]
     },
     "metadata": {
      "application/vnd.databricks.v1+output": {
       "addedWidgets": {},
       "arguments": {},
       "data": "<div class=\"ansiout\"></div>",
       "datasetInfos": [],
       "metadata": {},
       "removedWidgets": [],
       "type": "html"
      }
     },
     "output_type": "display_data"
    }
   ],
   "source": [
    "text_1 = '''He was given boluses of MS04 with some effect, he has since been placed on a PCA - he take 80mg of oxycontin at home, his PCA dose is ~ 2 the morphine dose of the oxycontin, he has also received ativan for anxiety.Repleted with 20 meq kcl po, 30 mmol K-phos iv and 2 gms mag so4 iv. LASIX CHANGED TO 40 PO BID WHICH IS SAME AS HE TAKES AT HOME - RECEIVED 40 PO IN AM - 700CC U/O TOTAL FOR FLUID NEGATIVE ~ 600 THUS FAR TODAY, ~ 600 NEG LOS. pt initially hypertensive 160s-180s gave prn doses if IV hydralazine without effect, labetalol increased from 100 mg to 200 mg PO TID which kept SBP > 160 for rest of night.Transferred to the EW found to be hypertensive BP 253/167 HR 132 ST treated with IV NTG gtt 20-120mcg/ and captopril 12.5mg sl x3. During the day pt's resp status has been very tenuous, responded to lasix in the am but then became hypotensive around 1800 tx with 500cc NS bolus and a unit of RBC did improve her BP to 90-100/60 but also became increasingly more tachypneic, RR 30-40's crackles went from bases bilaterally to [**2-14**] way up bilaterally.Lasix given 10mg x 2 during the evening without much change in her respiratory status.10units iv insulin given, 1 amps of 50%dextrose, 1amp of sodium bicard, 2gm calc gluconate.LOPRESSOR 7MG IV Q6H, ENALAPRIL 0.625MG IV Q6H TOLERATED.\n",
    "ID: Continues to receive flagyl, linazolid, pipercillin, ambisome, gent, and acyclovir, the acyclovir was changed from PO to IV-to be given after dialysis.Meds- Lipitor, procardia, synthroid, lisinopril, pepcid, actonel, calcium, MVI Social- Denies tobacco and drugs.'''"
   ]
  },
  {
   "cell_type": "code",
   "execution_count": 0,
   "metadata": {
    "application/vnd.databricks.v1+cell": {
     "cellMetadata": {
      "byteLimit": 2048000,
      "rowLimit": 10000
     },
     "inputWidgets": {},
     "nuid": "3bb60959-d97d-46de-be36-03d38b1dc8ad",
     "showTitle": false,
     "title": ""
    },
    "id": "URa0rdUAJGHG",
    "outputId": "4c1a402d-a84f-4abc-dfd1-95df9de310b2"
   },
   "outputs": [
    {
     "output_type": "display_data",
     "data": {
      "text/html": [
       "<style scoped>\n",
       "  .ansiout {\n",
       "    display: block;\n",
       "    unicode-bidi: embed;\n",
       "    white-space: pre-wrap;\n",
       "    word-wrap: break-word;\n",
       "    word-break: break-all;\n",
       "    font-family: \"Source Code Pro\", \"Menlo\", monospace;;\n",
       "    font-size: 13px;\n",
       "    color: #555;\n",
       "    margin-left: 4px;\n",
       "    line-height: 19px;\n",
       "  }\n",
       "</style>\n",
       "<div class=\"ansiout\">with Spark NLP SentenceDetectorDL_HC\n",
       "=======================================\n",
       "0\tHe was given boluses of MS04 with some effect, he has since been placed on a PCA - he take 80mg of oxycontin at home, his PCA dose is ~ 2 the morphine dose of the oxycontin, he has also received ativan for anxiety.\n",
       "1\tRepleted with 20 meq kcl po, 30 mmol K-phos iv and 2 gms mag so4 iv.\n",
       "2\tLASIX CHANGED TO 40 PO BID WHICH IS SAME AS HE TAKES AT HOME - RECEIVED 40 PO IN AM - 700CC U/O TOTAL FOR FLUID NEGATIVE ~ 600 THUS FAR TODAY, ~ 600 NEG LOS.\n",
       "3\tpt initially hypertensive 160s-180s gave prn doses if IV hydralazine without effect, labetalol increased from 100 mg to 200 mg PO TID which kept SBP &gt; 160 for rest of night.\n",
       "4\tTransferred to the EW found to be hypertensive BP 253/167 HR 132 ST treated with IV NTG gtt 20-120mcg/ and captopril 12.5mg sl x3.\n",
       "5\tDuring the day pt&#39;s resp status has been very tenuous, responded to lasix in the am but then became hypotensive around 1800 tx with 500cc NS bolus and a unit of RBC did improve her BP to 90-100/60 but also became increasingly more tachypneic, RR 30-40&#39;s crackles went from bases bilaterally to [**2-14**] way up bilaterally.\n",
       "6\tLasix given 10mg x 2 during the evening without much change in her respiratory status.\n",
       "7\t10units iv insulin given, 1 amps of 50%dextrose, 1amp of sodium bicard, 2gm calc gluconate.\n",
       "8\tLOPRESSOR 7MG IV Q6H, ENALAPRIL 0.625MG IV Q6H TOLERATED.\n",
       "9\tID: Continues to receive flagyl, linazolid, pipercillin, ambisome, gent, and acyclovir, the acyclovir was changed from PO to IV-to be given after dialysis.\n",
       "10\tMeds- Lipitor, procardia, synthroid, lisinopril, pepcid, actonel, calcium, MVI Social- Denies tobacco and drugs.\n",
       "\n",
       "with Spacy Sentence Detection\n",
       "===================================\n",
       "0 \t He was given boluses of MS04 with some effect, he has since been placed on a PCA - he take 80mg of oxycontin at home, his PCA dose is ~ 2 the morphine dose of the oxycontin, he has also received ativan for anxiety.\n",
       "1 \t Repleted with 20 meq kcl po, 30 mmol K-phos iv and 2 gms mag so4 iv.\n",
       "2 \t LASIX CHANGED TO 40 PO BID WHICH IS SAME AS HE TAKES AT HOME - RECEIVED 40 PO IN AM - 700CC U/O TOTAL FOR FLUID NEGATIVE ~ 600 THUS FAR TODAY, ~ 600 NEG LOS.\n",
       "3 \t pt initially hypertensive 160s-180s gave prn doses if IV hydralazine without effect, labetalol increased from 100 mg to 200 mg PO TID which kept SBP &gt; 160 for rest of night.\n",
       "4 \t Transferred to the EW found to be hypertensive BP 253/167 HR 132 ST treated with IV NTG gtt 20-120mcg/ and captopril 12.5mg sl x3.\n",
       "5 \t During the day pt&#39;s resp status has been very tenuous, responded to lasix in the am but then became hypotensive around 1800 tx with 500cc NS bolus and a unit of RBC did improve her BP to 90-100/60 but also became increasingly more tachypneic, RR 30-40&#39;s crackles went from bases bilaterally to [**2-14**] way up bilaterally.\n",
       "6 \t Lasix given 10mg x 2 during the evening without much change in her respiratory status.10units iv insulin given, 1 amps of 50%dextrose, 1amp of sodium bicard, 2gm calc gluconate.\n",
       "7 \t LOPRESSOR 7MG IV Q6H, ENALAPRIL 0.625MG IV Q6H TOLERATED.\n",
       "8 \t ID: Continues to receive flagyl, linazolid, pipercillin, ambisome, gent, and acyclovir, the acyclovir was changed from PO to IV-to be given after dialysis.\n",
       "9 \t Meds-\n",
       "10 \t Lipitor, procardia, synthroid, lisinopril, pepcid, actonel, calcium, MVI Social- Denies tobacco and drugs.\n",
       "</div>"
      ]
     },
     "metadata": {
      "application/vnd.databricks.v1+output": {
       "addedWidgets": {},
       "arguments": {},
       "data": "<div class=\"ansiout\">with Spark NLP SentenceDetectorDL_HC\n=======================================\n0\tHe was given boluses of MS04 with some effect, he has since been placed on a PCA - he take 80mg of oxycontin at home, his PCA dose is ~ 2 the morphine dose of the oxycontin, he has also received ativan for anxiety.\n1\tRepleted with 20 meq kcl po, 30 mmol K-phos iv and 2 gms mag so4 iv.\n2\tLASIX CHANGED TO 40 PO BID WHICH IS SAME AS HE TAKES AT HOME - RECEIVED 40 PO IN AM - 700CC U/O TOTAL FOR FLUID NEGATIVE ~ 600 THUS FAR TODAY, ~ 600 NEG LOS.\n3\tpt initially hypertensive 160s-180s gave prn doses if IV hydralazine without effect, labetalol increased from 100 mg to 200 mg PO TID which kept SBP &gt; 160 for rest of night.\n4\tTransferred to the EW found to be hypertensive BP 253/167 HR 132 ST treated with IV NTG gtt 20-120mcg/ and captopril 12.5mg sl x3.\n5\tDuring the day pt&#39;s resp status has been very tenuous, responded to lasix in the am but then became hypotensive around 1800 tx with 500cc NS bolus and a unit of RBC did improve her BP to 90-100/60 but also became increasingly more tachypneic, RR 30-40&#39;s crackles went from bases bilaterally to [**2-14**] way up bilaterally.\n6\tLasix given 10mg x 2 during the evening without much change in her respiratory status.\n7\t10units iv insulin given, 1 amps of 50%dextrose, 1amp of sodium bicard, 2gm calc gluconate.\n8\tLOPRESSOR 7MG IV Q6H, ENALAPRIL 0.625MG IV Q6H TOLERATED.\n9\tID: Continues to receive flagyl, linazolid, pipercillin, ambisome, gent, and acyclovir, the acyclovir was changed from PO to IV-to be given after dialysis.\n10\tMeds- Lipitor, procardia, synthroid, lisinopril, pepcid, actonel, calcium, MVI Social- Denies tobacco and drugs.\n\nwith Spacy Sentence Detection\n===================================\n0 \t He was given boluses of MS04 with some effect, he has since been placed on a PCA - he take 80mg of oxycontin at home, his PCA dose is ~ 2 the morphine dose of the oxycontin, he has also received ativan for anxiety.\n1 \t Repleted with 20 meq kcl po, 30 mmol K-phos iv and 2 gms mag so4 iv.\n2 \t LASIX CHANGED TO 40 PO BID WHICH IS SAME AS HE TAKES AT HOME - RECEIVED 40 PO IN AM - 700CC U/O TOTAL FOR FLUID NEGATIVE ~ 600 THUS FAR TODAY, ~ 600 NEG LOS.\n3 \t pt initially hypertensive 160s-180s gave prn doses if IV hydralazine without effect, labetalol increased from 100 mg to 200 mg PO TID which kept SBP &gt; 160 for rest of night.\n4 \t Transferred to the EW found to be hypertensive BP 253/167 HR 132 ST treated with IV NTG gtt 20-120mcg/ and captopril 12.5mg sl x3.\n5 \t During the day pt&#39;s resp status has been very tenuous, responded to lasix in the am but then became hypotensive around 1800 tx with 500cc NS bolus and a unit of RBC did improve her BP to 90-100/60 but also became increasingly more tachypneic, RR 30-40&#39;s crackles went from bases bilaterally to [**2-14**] way up bilaterally.\n6 \t Lasix given 10mg x 2 during the evening without much change in her respiratory status.10units iv insulin given, 1 amps of 50%dextrose, 1amp of sodium bicard, 2gm calc gluconate.\n7 \t LOPRESSOR 7MG IV Q6H, ENALAPRIL 0.625MG IV Q6H TOLERATED.\n8 \t ID: Continues to receive flagyl, linazolid, pipercillin, ambisome, gent, and acyclovir, the acyclovir was changed from PO to IV-to be given after dialysis.\n9 \t Meds-\n10 \t Lipitor, procardia, synthroid, lisinopril, pepcid, actonel, calcium, MVI Social- Denies tobacco and drugs.\n</div>",
       "datasetInfos": [],
       "metadata": {},
       "removedWidgets": [],
       "type": "html"
      }
     },
     "output_type": "display_data"
    }
   ],
   "source": [
    "get_sentences_sddl(text_1)  \n",
    "get_sentences_spacy(text_1) "
   ]
  },
  {
   "cell_type": "code",
   "execution_count": 0,
   "metadata": {
    "application/vnd.databricks.v1+cell": {
     "cellMetadata": {
      "byteLimit": 2048000,
      "rowLimit": 10000
     },
     "inputWidgets": {},
     "nuid": "dbf9bf09-2026-4b06-830d-797583643653",
     "showTitle": false,
     "title": ""
    },
    "id": "LVFP6QQUJGHJ",
    "outputId": "1cffeddd-7c10-4027-8088-de25ac4615e8"
   },
   "outputs": [
    {
     "output_type": "display_data",
     "data": {
      "text/html": [
       "<style scoped>\n",
       "  .ansiout {\n",
       "    display: block;\n",
       "    unicode-bidi: embed;\n",
       "    white-space: pre-wrap;\n",
       "    word-wrap: break-word;\n",
       "    word-break: break-all;\n",
       "    font-family: \"Source Code Pro\", \"Menlo\", monospace;;\n",
       "    font-size: 13px;\n",
       "    color: #555;\n",
       "    margin-left: 4px;\n",
       "    line-height: 19px;\n",
       "  }\n",
       "</style>\n",
       "<div class=\"ansiout\"></div>"
      ]
     },
     "metadata": {
      "application/vnd.databricks.v1+output": {
       "addedWidgets": {},
       "arguments": {},
       "data": "<div class=\"ansiout\"></div>",
       "datasetInfos": [],
       "metadata": {},
       "removedWidgets": [],
       "type": "html"
      }
     },
     "output_type": "display_data"
    }
   ],
   "source": [
    "text_2 = '''ST 109-120. Pt had two 10 beat runs and one 9 beat run of SVT s/p PICC line placement. Stable BP, VT nonsustained.Pt denies CP/SOB.EKG and echo obtained. Cyclying enzymes first CK 69.Cardiology consulted, awaiting echo report.Pt to be started on beta blocker for treatment of NSVT.Secondary to severe illness.K+ 3.4 IV. IVF with 20meq KCL at 200cc/hr. S/p NSVT pt. rec'd 40meq po and 40 meq IV KCL. K+ 3.9 repeat K+ at 8pm. Mg and Ca repleted. Please follow electrolyte SS.\n",
    "'''"
   ]
  },
  {
   "cell_type": "code",
   "execution_count": 0,
   "metadata": {
    "application/vnd.databricks.v1+cell": {
     "cellMetadata": {
      "byteLimit": 2048000,
      "rowLimit": 10000
     },
     "inputWidgets": {},
     "nuid": "8b7077e4-5a15-4fd8-8e82-a0f049db5b1b",
     "showTitle": false,
     "title": ""
    },
    "id": "ua7vbS9DJGHL",
    "outputId": "23542e10-3d9e-4769-e200-97837de73063"
   },
   "outputs": [
    {
     "output_type": "display_data",
     "data": {
      "text/html": [
       "<style scoped>\n",
       "  .ansiout {\n",
       "    display: block;\n",
       "    unicode-bidi: embed;\n",
       "    white-space: pre-wrap;\n",
       "    word-wrap: break-word;\n",
       "    word-break: break-all;\n",
       "    font-family: \"Source Code Pro\", \"Menlo\", monospace;;\n",
       "    font-size: 13px;\n",
       "    color: #555;\n",
       "    margin-left: 4px;\n",
       "    line-height: 19px;\n",
       "  }\n",
       "</style>\n",
       "<div class=\"ansiout\">with Spark NLP SentenceDetectorDL_HC\n",
       "=======================================\n",
       "0\tST 109-120.\n",
       "1\tPt had two 10 beat runs and one 9 beat run of SVT s/p PICC line placement.\n",
       "2\tStable BP, VT nonsustained.\n",
       "3\tPt denies CP/SOB.\n",
       "4\tEKG and echo obtained.\n",
       "5\tCyclying enzymes first CK 69.\n",
       "6\tCardiology consulted, awaiting echo report.\n",
       "7\tPt to be started on beta blocker for treatment of NSVT.\n",
       "8\tSecondary to severe illness.\n",
       "9\tK+ 3.4 IV.\n",
       "10\tIVF with 20meq KCL at 200cc/hr.\n",
       "11\tS/p NSVT pt. rec&#39;d 40meq po and 40 meq IV KCL.\n",
       "12\tK+ 3.9 repeat K+ at 8pm. Mg and Ca repleted.\n",
       "13\tPlease follow electrolyte SS.\n",
       "\n",
       "with Spacy Sentence Detection\n",
       "===================================\n",
       "0 \t ST 109-120.\n",
       "1 \t Pt had two 10 beat runs and one 9 beat run of SVT s/p PICC line placement.\n",
       "2 \t Stable BP, VT nonsustained.\n",
       "3 \t Pt denies CP/SOB.EKG and echo obtained.\n",
       "4 \t Cyclying enzymes first CK 69.Cardiology consulted, awaiting echo report.\n",
       "5 \t Pt to be started on beta blocker for treatment of NSVT.Secondary to severe illness.\n",
       "6 \t K+ 3.4 IV.\n",
       "7 \t IVF with 20meq KCL at 200cc/hr.\n",
       "8 \t S/p NSVT pt. rec&#39;d 40meq po and 40 meq IV KCL.\n",
       "9 \t K+ 3.9 repeat K+ at 8pm.\n",
       "10 \t Mg and Ca repleted.\n",
       "11 \t Please follow electrolyte SS.\n",
       "</div>"
      ]
     },
     "metadata": {
      "application/vnd.databricks.v1+output": {
       "addedWidgets": {},
       "arguments": {},
       "data": "<div class=\"ansiout\">with Spark NLP SentenceDetectorDL_HC\n=======================================\n0\tST 109-120.\n1\tPt had two 10 beat runs and one 9 beat run of SVT s/p PICC line placement.\n2\tStable BP, VT nonsustained.\n3\tPt denies CP/SOB.\n4\tEKG and echo obtained.\n5\tCyclying enzymes first CK 69.\n6\tCardiology consulted, awaiting echo report.\n7\tPt to be started on beta blocker for treatment of NSVT.\n8\tSecondary to severe illness.\n9\tK+ 3.4 IV.\n10\tIVF with 20meq KCL at 200cc/hr.\n11\tS/p NSVT pt. rec&#39;d 40meq po and 40 meq IV KCL.\n12\tK+ 3.9 repeat K+ at 8pm. Mg and Ca repleted.\n13\tPlease follow electrolyte SS.\n\nwith Spacy Sentence Detection\n===================================\n0 \t ST 109-120.\n1 \t Pt had two 10 beat runs and one 9 beat run of SVT s/p PICC line placement.\n2 \t Stable BP, VT nonsustained.\n3 \t Pt denies CP/SOB.EKG and echo obtained.\n4 \t Cyclying enzymes first CK 69.Cardiology consulted, awaiting echo report.\n5 \t Pt to be started on beta blocker for treatment of NSVT.Secondary to severe illness.\n6 \t K+ 3.4 IV.\n7 \t IVF with 20meq KCL at 200cc/hr.\n8 \t S/p NSVT pt. rec&#39;d 40meq po and 40 meq IV KCL.\n9 \t K+ 3.9 repeat K+ at 8pm.\n10 \t Mg and Ca repleted.\n11 \t Please follow electrolyte SS.\n</div>",
       "datasetInfos": [],
       "metadata": {},
       "removedWidgets": [],
       "type": "html"
      }
     },
     "output_type": "display_data"
    }
   ],
   "source": [
    "get_sentences_sddl(text_2)  \n",
    "get_sentences_spacy(text_2) "
   ]
  },
  {
   "cell_type": "code",
   "execution_count": 0,
   "metadata": {
    "application/vnd.databricks.v1+cell": {
     "cellMetadata": {
      "byteLimit": 2048000,
      "rowLimit": 10000
     },
     "inputWidgets": {},
     "nuid": "fabee76f-322b-453d-a092-221663a328b9",
     "showTitle": false,
     "title": ""
    },
    "id": "caQRuN0oJGHQ",
    "outputId": "ae5a0453-9209-4e4b-ca5f-c89c09f42cd5"
   },
   "outputs": [
    {
     "output_type": "display_data",
     "data": {
      "text/html": [
       "<style scoped>\n",
       "  .ansiout {\n",
       "    display: block;\n",
       "    unicode-bidi: embed;\n",
       "    white-space: pre-wrap;\n",
       "    word-wrap: break-word;\n",
       "    word-break: break-all;\n",
       "    font-family: \"Source Code Pro\", \"Menlo\", monospace;;\n",
       "    font-size: 13px;\n",
       "    color: #555;\n",
       "    margin-left: 4px;\n",
       "    line-height: 19px;\n",
       "  }\n",
       "</style>\n",
       "<div class=\"ansiout\"></div>"
      ]
     },
     "metadata": {
      "application/vnd.databricks.v1+output": {
       "addedWidgets": {},
       "arguments": {},
       "data": "<div class=\"ansiout\"></div>",
       "datasetInfos": [],
       "metadata": {},
       "removedWidgets": [],
       "type": "html"
      }
     },
     "output_type": "display_data"
    }
   ],
   "source": [
    "text_3 = '''PT. IS A 56 Y/O FEMALE S/P CRANIOTOMY ON 7/16 FOR REMOVAL OF BENIGN CYSTIC LESION. SURGERY PERFORMED AT BIDMC.STARTED ON DILANTIN POST-OP FOR SEIZURE PROPHYLAXIS. 2 DAYS PRIOR TO ADMISSION PT DEVELOPED BILAT. EYE DISCHARGE-- SEEN BY EYE MD AND TREATED WITH SULFATE OPTHALMIC DROPS.ALSO DEVELOPED ORAL SORES AND RASH ON CHEST AND RAPIDLY SPREAD TO TRUNK, ARMS, THIGHS, BUTTOCKS, AND FACE WITHIN 24 HRS.UNABLE TO EAT DUE TO MOUTH PAIN. + FEVER, + DIARRHEA, WEAKNESS. PRESENTED TO EW ON 8/4 WITH TEMP 104.3 SBP 90'S.GIVEN NS FLUID BOLUS, TYLENOL FOR TEMP. SHE PUSTULAR RED RASH ON FACE, RED RASH NOTED ON TRUNK, UPPER EXTREMITIES AND THIGHS. ALSO BOTH EYES DRAINING GREENISH-YELLOW DRAINAGE. ADMITTED TO CCU ( MICU BORDER) FOR CLOSE OBSERVATION.\n",
    "'''"
   ]
  },
  {
   "cell_type": "code",
   "execution_count": 0,
   "metadata": {
    "application/vnd.databricks.v1+cell": {
     "cellMetadata": {
      "byteLimit": 2048000,
      "rowLimit": 10000
     },
     "inputWidgets": {},
     "nuid": "f3ac53b1-22c0-4e08-ab36-e1e73e977362",
     "showTitle": false,
     "title": ""
    },
    "id": "YA6fYfaNJGHQ",
    "outputId": "73e4c328-319c-46e9-b17c-d08a6eabbc78"
   },
   "outputs": [
    {
     "output_type": "display_data",
     "data": {
      "text/html": [
       "<style scoped>\n",
       "  .ansiout {\n",
       "    display: block;\n",
       "    unicode-bidi: embed;\n",
       "    white-space: pre-wrap;\n",
       "    word-wrap: break-word;\n",
       "    word-break: break-all;\n",
       "    font-family: \"Source Code Pro\", \"Menlo\", monospace;;\n",
       "    font-size: 13px;\n",
       "    color: #555;\n",
       "    margin-left: 4px;\n",
       "    line-height: 19px;\n",
       "  }\n",
       "</style>\n",
       "<div class=\"ansiout\">with Spark NLP SentenceDetectorDL_HC\n",
       "=======================================\n",
       "0\tPT. IS A 56 Y/O FEMALE S/P CRANIOTOMY ON 7/16 FOR REMOVAL OF BENIGN CYSTIC LESION.\n",
       "1\tSURGERY PERFORMED AT BIDMC.\n",
       "2\tSTARTED ON DILANTIN POST-OP FOR SEIZURE PROPHYLAXIS. 2 DAYS PRIOR TO ADMISSION PT DEVELOPED BILAT.\n",
       "3\tEYE DISCHARGE-- SEEN BY EYE MD AND TREATED WITH SULFATE OPTHALMIC DROPS.\n",
       "4\tALSO DEVELOPED ORAL SORES AND RASH ON CHEST AND RAPIDLY SPREAD TO TRUNK, ARMS, THIGHS, BUTTOCKS, AND FACE WITHIN 24 HRS.\n",
       "5\tUNABLE TO EAT DUE TO MOUTH PAIN. + FEVER, + DIARRHEA, WEAKNESS.\n",
       "6\tPRESENTED TO EW ON 8/4 WITH TEMP 104.3 SBP 90&#39;S.\n",
       "7\tGIVEN NS FLUID BOLUS, TYLENOL FOR TEMP.\n",
       "8\tSHE PUSTULAR RED RASH ON FACE, RED RASH NOTED ON TRUNK, UPPER EXTREMITIES AND THIGHS.\n",
       "9\tALSO BOTH EYES DRAINING GREENISH-YELLOW DRAINAGE.\n",
       "10\tADMITTED TO CCU ( MICU BORDER) FOR CLOSE OBSERVATION.\n",
       "\n",
       "with Spacy Sentence Detection\n",
       "===================================\n",
       "0 \t PT.\n",
       "1 \t IS A 56 Y/O FEMALE S/P CRANIOTOMY ON 7/16 FOR REMOVAL OF BENIGN CYSTIC LESION.\n",
       "2 \t SURGERY PERFORMED AT BIDMC.STARTED ON DILANTIN POST-OP FOR SEIZURE PROPHYLAXIS.\n",
       "3 \t 2 DAYS PRIOR TO ADMISSION PT DEVELOPED BILAT.\n",
       "4 \t EYE DISCHARGE-- SEEN BY EYE MD AND TREATED WITH SULFATE OPTHALMIC DROPS.ALSO\n",
       "5 \t DEVELOPED ORAL SORES AND RASH ON CHEST AND RAPIDLY SPREAD TO TRUNK, ARMS, THIGHS, BUTTOCKS, AND FACE WITHIN 24 HRS.UNABLE TO EAT DUE TO MOUTH PAIN.\n",
       "6 \t + FEVER, + DIARRHEA, WEAKNESS.\n",
       "7 \t PRESENTED TO EW ON 8/4 WITH TEMP 104.3 SBP 90&#39;S.GIVEN NS FLUID BOLUS, TYLENOL FOR TEMP.\n",
       "8 \t SHE PUSTULAR RED RASH ON FACE, RED RASH NOTED ON TRUNK, UPPER EXTREMITIES AND THIGHS.\n",
       "9 \t ALSO BOTH EYES DRAINING GREENISH-YELLOW DRAINAGE.\n",
       "10 \t ADMITTED TO CCU ( MICU BORDER) FOR CLOSE OBSERVATION.\n",
       "11 \t \n",
       "</div>"
      ]
     },
     "metadata": {
      "application/vnd.databricks.v1+output": {
       "addedWidgets": {},
       "arguments": {},
       "data": "<div class=\"ansiout\">with Spark NLP SentenceDetectorDL_HC\n=======================================\n0\tPT. IS A 56 Y/O FEMALE S/P CRANIOTOMY ON 7/16 FOR REMOVAL OF BENIGN CYSTIC LESION.\n1\tSURGERY PERFORMED AT BIDMC.\n2\tSTARTED ON DILANTIN POST-OP FOR SEIZURE PROPHYLAXIS. 2 DAYS PRIOR TO ADMISSION PT DEVELOPED BILAT.\n3\tEYE DISCHARGE-- SEEN BY EYE MD AND TREATED WITH SULFATE OPTHALMIC DROPS.\n4\tALSO DEVELOPED ORAL SORES AND RASH ON CHEST AND RAPIDLY SPREAD TO TRUNK, ARMS, THIGHS, BUTTOCKS, AND FACE WITHIN 24 HRS.\n5\tUNABLE TO EAT DUE TO MOUTH PAIN. + FEVER, + DIARRHEA, WEAKNESS.\n6\tPRESENTED TO EW ON 8/4 WITH TEMP 104.3 SBP 90&#39;S.\n7\tGIVEN NS FLUID BOLUS, TYLENOL FOR TEMP.\n8\tSHE PUSTULAR RED RASH ON FACE, RED RASH NOTED ON TRUNK, UPPER EXTREMITIES AND THIGHS.\n9\tALSO BOTH EYES DRAINING GREENISH-YELLOW DRAINAGE.\n10\tADMITTED TO CCU ( MICU BORDER) FOR CLOSE OBSERVATION.\n\nwith Spacy Sentence Detection\n===================================\n0 \t PT.\n1 \t IS A 56 Y/O FEMALE S/P CRANIOTOMY ON 7/16 FOR REMOVAL OF BENIGN CYSTIC LESION.\n2 \t SURGERY PERFORMED AT BIDMC.STARTED ON DILANTIN POST-OP FOR SEIZURE PROPHYLAXIS.\n3 \t 2 DAYS PRIOR TO ADMISSION PT DEVELOPED BILAT.\n4 \t EYE DISCHARGE-- SEEN BY EYE MD AND TREATED WITH SULFATE OPTHALMIC DROPS.ALSO\n5 \t DEVELOPED ORAL SORES AND RASH ON CHEST AND RAPIDLY SPREAD TO TRUNK, ARMS, THIGHS, BUTTOCKS, AND FACE WITHIN 24 HRS.UNABLE TO EAT DUE TO MOUTH PAIN.\n6 \t + FEVER, + DIARRHEA, WEAKNESS.\n7 \t PRESENTED TO EW ON 8/4 WITH TEMP 104.3 SBP 90&#39;S.GIVEN NS FLUID BOLUS, TYLENOL FOR TEMP.\n8 \t SHE PUSTULAR RED RASH ON FACE, RED RASH NOTED ON TRUNK, UPPER EXTREMITIES AND THIGHS.\n9 \t ALSO BOTH EYES DRAINING GREENISH-YELLOW DRAINAGE.\n10 \t ADMITTED TO CCU ( MICU BORDER) FOR CLOSE OBSERVATION.\n11 \t \n</div>",
       "datasetInfos": [],
       "metadata": {},
       "removedWidgets": [],
       "type": "html"
      }
     },
     "output_type": "display_data"
    }
   ],
   "source": [
    "get_sentences_sddl(text_3)  \n",
    "get_sentences_spacy(text_3) "
   ]
  },
  {
   "cell_type": "code",
   "execution_count": 0,
   "metadata": {
    "application/vnd.databricks.v1+cell": {
     "cellMetadata": {
      "byteLimit": 2048000,
      "rowLimit": 10000
     },
     "inputWidgets": {},
     "nuid": "93aa9af6-538a-43f1-81de-e6f56aaea51f",
     "showTitle": false,
     "title": ""
    },
    "id": "JD7W18lHJGHS",
    "outputId": "4d328883-fed5-41d8-fed4-a54facc85c8d"
   },
   "outputs": [
    {
     "output_type": "display_data",
     "data": {
      "text/html": [
       "<style scoped>\n",
       "  .ansiout {\n",
       "    display: block;\n",
       "    unicode-bidi: embed;\n",
       "    white-space: pre-wrap;\n",
       "    word-wrap: break-word;\n",
       "    word-break: break-all;\n",
       "    font-family: \"Source Code Pro\", \"Menlo\", monospace;;\n",
       "    font-size: 13px;\n",
       "    color: #555;\n",
       "    margin-left: 4px;\n",
       "    line-height: 19px;\n",
       "  }\n",
       "</style>\n",
       "<div class=\"ansiout\"></div>"
      ]
     },
     "metadata": {
      "application/vnd.databricks.v1+output": {
       "addedWidgets": {},
       "arguments": {},
       "data": "<div class=\"ansiout\"></div>",
       "datasetInfos": [],
       "metadata": {},
       "removedWidgets": [],
       "type": "html"
      }
     },
     "output_type": "display_data"
    }
   ],
   "source": [
    "text_4 = ''' Tylenol 650mg po q6h CVS: Aspirin 121.5mg po daily for graft patency, npn 7p-7a: ccu nsg progress note: s/o: does understand and speak some eng, family visiting this eve and states that pt is oriented and appropriate for them resp--ls w/crackles approx 1/2 up, rr 20's, appeared sl sob, on 4l sat when sitting straight up 95-99%, when lying flat or turning s-s sat does drop to 88-93%, pt does not c/o feeling sob, sat does come back up when sitting up, did rec 40mg iv lasix cardiac hr 90's sr w/occ pvc's, bp 95-106/50's, did not c/o any cp during the noc, conts on hep at 600u/hr, ptt during noc 79, am labs pnd, remains off pressors, at this time no further plans to swan pt or for her to go to cath lab, gi--abd soft, non tender to palpation, (+)bs, passing sm amt of brown soft stool, tol po's w/out diff renal--u/o cont'd low during the eve, team decided to give lasix 40mg in setting of crackles, decreased u/o and sob, did diuresis well to lasix, pt approx 700cc neg today access--pt has 3 peripheral iv's in place, all working, unable to draw bloods from pt d/t poor veins, pt is going to need access to draw bloods, central line or picc line social--son & dtr in visiting w/their famlies tonight, pt awake and conversing w/them a/p: cont to monitor/asses cvs follow resp status, additional lasix f/u w/team re: plan of care for her will need iv access for blood draws keep family & pt updated w/plan, Neuro:On propofol gtt dose increased from 20 to 40mcg/kg/min,moves all extrimities to pain,awaken to stimuly easily,purposeful movements.PERL,had an episode of seizure at 1815 <1min when neuro team in for exam ,responded to 2mg ativan on keprra Iv BID.2 grams mag sulfate given, IVF bolus 250 cc started, approx 50 cc in then dc'd d/t PAD's,2.5 mg IV lopressor given x 2 without effect. CCU NURSING 4P-7P S DENIES CP/SOB O. SEE CAREVUE FLOWSHEET FOR COMPLETE VS 1600 O2 SAT 91% ON 5L N/C, 1 U PRBC'S INFUSING, LUNGS CRACKLES BILATERALLY, LASIX 40MG IV ORDERED, 1200 CC U/O W/IMPROVED O2 SATS ON 4L N/C, IABP AT 1:1 BP 81-107/90-117/48-57, HR 70'S SR, GROIN SITES D+I, HEPARIN REMAINS AT 950 U/HR INTEGRELIN AT 2 MCGS/KG A: IMPROVED U/O AFTER LASIX, AWAITING CARDIAC SURGERY P: CONT SUPPORTIVE CARE, REPEAT HCT POST- TRANSFUSION, CHECK LYTES POST-DIURESIS AND REPLACE AS NEEDED, AWAITING CABG-DATE.Given 50mg IV benadryl and 2mg morphine as well as one aspirin PO and inch of NT paste. When pt remained tachycardic w/ frequent ectopy s/p KCL and tylenol for temp - Orders given by Dr. [**Last Name (STitle) 2025**] to increase diltiazem to 120mg PO QID and NS 250ml given X1 w/ moderate effect.Per team, the pts IV sedation was weaned over the course of the day and now infusing @ 110mcg/hr IV Fentanyl & 9mg/hr IV Verced c pt able to open eyes to verbal stimuli and nod head appropriately to simple commands (are you in pain?).  A/P: 73 y/o male remains intubated, IVF boluses x2 for CVP <12, pt continues in NSR on PO amio 400 TID, dopamine gtt weaned down for MAPs>65 but the team felt he is overall receiving about the same amt fentanyl now as he has been in past few days, as the fentanyl patch 100 mcg was added a 48 hrs ago to replace the decrease in the IV fentanyl gtt today (fent patch takes at least 24 hrs to kick in).Started valium 10mg po q6hrs at 1300 with prn IV valium as needed.'''"
   ]
  },
  {
   "cell_type": "code",
   "execution_count": 0,
   "metadata": {
    "application/vnd.databricks.v1+cell": {
     "cellMetadata": {
      "byteLimit": 2048000,
      "rowLimit": 10000
     },
     "inputWidgets": {},
     "nuid": "d9c44cdc-441c-43cd-a07d-be7f184f6c3d",
     "showTitle": false,
     "title": ""
    },
    "id": "7D2WVm_2JGHS",
    "outputId": "11115a4e-85a6-4bc1-8e19-e8ad19665b27"
   },
   "outputs": [
    {
     "output_type": "display_data",
     "data": {
      "text/html": [
       "<style scoped>\n",
       "  .ansiout {\n",
       "    display: block;\n",
       "    unicode-bidi: embed;\n",
       "    white-space: pre-wrap;\n",
       "    word-wrap: break-word;\n",
       "    word-break: break-all;\n",
       "    font-family: \"Source Code Pro\", \"Menlo\", monospace;;\n",
       "    font-size: 13px;\n",
       "    color: #555;\n",
       "    margin-left: 4px;\n",
       "    line-height: 19px;\n",
       "  }\n",
       "</style>\n",
       "<div class=\"ansiout\">with Spark NLP SentenceDetectorDL_HC\n",
       "=======================================\n",
       "0\tTylenol 650mg po q6h CVS: Aspirin 121.5mg po daily for graft patency, npn 7p-7a: ccu nsg progress note: s/o: does understand and speak some eng, family visiting this eve and states that pt is oriented and appropriate for them resp--ls w/crackles approx 1/2 up, rr 20&#39;s, appeared sl sob, on 4l sat when sitting straight up 95-99%, when lying flat or turning s-s sat does drop to 88-93%, pt does not c/o feeling sob, sat does come back up when sitting up, did rec 40mg iv lasix cardiac hr 90&#39;s sr w/occ pvc&#39;s, bp 95-106/50&#39;s, did not c/o any cp during the noc, conts on hep at 600u/hr, ptt during noc 79, am labs pnd, remains off pressors, at this time no further plans to swan pt or for her to go to cath lab, gi--abd soft, non tender to palpation, (+)bs, passing sm amt of brown soft stool, tol po&#39;s w/out diff renal--u/o cont&#39;d low during the eve, team decided to give lasix 40mg in setting of crackles, decreased u/o and sob, did diuresis well to lasix, pt approx 700cc neg today access--pt has 3 peripheral iv&#39;s in place, all working, unable to draw bloods from pt d/t poor veins, pt is going to need access to draw bloods, central line or picc line social--son &amp; dtr in visiting w/their famlies tonight, pt awake and conversing w/them a/p: cont to monitor/asses cvs follow resp status, additional lasix f/u w/team re: plan of care for her will need iv access for blood draws keep family &amp; pt updated w/plan, Neuro:\n",
       "1\tOn propofol gtt dose increased from 20 to 40mcg/kg/min,moves all extrimities to pain,awaken to stimuly easily,purposeful movements.\n",
       "2\tPERL,had an episode of seizure at 1815 &lt;1min when neuro team in for exam ,responded to 2mg ativan on keprra Iv BID.2 grams mag sulfate given, IVF bolus 250 cc started, approx 50 cc in then dc&#39;d d/t PAD&#39;s,2.5 mg IV lopressor given x 2 without effect.\n",
       "3\tCCU NURSING 4P-7P S DENIES CP/SOB O. SEE CAREVUE FLOWSHEET FOR COMPLETE VS 1600 O2 SAT 91% ON 5L N/C, 1 U PRBC&#39;S INFUSING, LUNGS CRACKLES BILATERALLY, LASIX 40MG IV ORDERED, 1200 CC U/O W/IMPROVED O2 SATS ON 4L N/C, IABP AT 1:1 BP 81-107/90-117/48-57, HR 70&#39;S SR, GROIN SITES D+I, HEPARIN REMAINS AT 950 U/HR INTEGRELIN AT 2 MCGS/KG A: IMPROVED U/O AFTER LASIX, AWAITING CARDIAC SURGERY P: CONT SUPPORTIVE CARE, REPEAT HCT POST- TRANSFUSION, CHECK LYTES POST-DIURESIS AND REPLACE AS NEEDED, AWAITING CABG-DATE.\n",
       "4\tGiven 50mg IV benadryl and 2mg morphine as well as one aspirin PO and inch of NT paste.\n",
       "5\tWhen pt remained tachycardic w/ frequent ectopy s/p KCL and tylenol for temp - Orders given by Dr. [**Last Name (STitle) 2025**] to increase diltiazem to 120mg PO QID and NS 250ml given X1 w/ moderate effect.\n",
       "6\tPer team, the pts IV sedation was weaned over the course of the day and now infusing @ 110mcg/hr IV Fentanyl &amp; 9mg/hr IV Verced c pt able to open eyes to verbal stimuli and nod head appropriately to simple commands (are you in pain?).\n",
       "7\tA/P: 73 y/o male remains intubated, IVF boluses x2 for CVP &lt;12, pt continues in NSR on PO amio 400 TID, dopamine gtt weaned down for MAPs&gt;65 but the team felt he is overall receiving about the same amt fentanyl now as he has been in past few days, as the fentanyl patch 100 mcg was added a 48 hrs ago to replace the decrease in the IV fentanyl gtt today (fent patch takes at least 24 hrs to kick in).\n",
       "8\tStarted valium 10mg po q6hrs at 1300 with prn IV valium as needed.\n",
       "\n",
       "with Spacy Sentence Detection\n",
       "===================================\n",
       "0 \t  Tylenol 650mg po q6h CVS: Aspirin 121.5mg po daily for graft patency, npn 7p-7a: ccu nsg progress note: s/o: does understand and speak some eng, family visiting this eve and states that pt is oriented and appropriate for them resp--\n",
       "1 \t ls w/crackles approx 1/2 up, rr 20&#39;s, appeared sl sob, on 4l sat when sitting straight up 95-99%, when lying flat or turning s-s sat does drop to 88-93%, pt does not c/o feeling sob, sat does come back up when sitting up, did rec 40mg iv lasix cardiac hr 90&#39;s sr w/occ pvc&#39;s, bp 95-106/50&#39;s, did not c/o any cp during the noc, conts on hep at 600u/hr, ptt during noc 79, am labs pnd, remains off pressors, at this time no further plans to swan pt or for her to go to cath lab, gi--abd soft, non tender to palpation, (+)bs, passing sm amt of brown soft stool, tol po&#39;s w/out diff renal--u/o cont&#39;d low during the eve, team decided to give lasix 40mg in setting of crackles, decreased u/o and sob, did diuresis well to lasix, pt approx 700cc neg today access--pt has 3 peripheral iv&#39;s in place, all working, unable to draw bloods from pt d/t poor veins, pt is going to need access to draw bloods, central line or picc line social--son &amp; dtr in visiting w/their famlies tonight, pt awake and conversing w/them a/p: cont to monitor/asses cvs follow resp status, additional lasix f/u w/team re: plan of care for her will need iv access for blood draws keep family &amp; pt updated w/plan, Neuro:On propofol gtt dose increased from 20 to 40mcg/kg/min,moves all extrimities to pain,awaken to stimuly easily,purposeful movements.\n",
       "2 \t PERL,had an episode of seizure at 1815 &lt;1min when neuro team in for exam ,responded to 2mg ativan on keprra Iv BID.2 grams mag sulfate given, IVF bolus 250 cc started, approx 50 cc in then dc&#39;d d/t PAD&#39;s,2.5 mg IV lopressor given x 2 without effect.\n",
       "3 \t CCU NURSING 4P-7P S DENIES CP/SOB O. SEE CAREVUE FLOWSHEET FOR COMPLETE VS 1600 O2 SAT 91% ON 5L N/C, 1 U PRBC&#39;S INFUSING, LUNGS CRACKLES BILATERALLY, LASIX 40MG\n",
       "4 \t IV ORDERED, 1200 CC U/O W/IMPROVED O2 SATS ON 4L N/C, IABP AT 1:1 BP 81-107/90-117/48-57, HR 70&#39;S SR, GROIN SITES D+I, HEPARIN REMAINS AT 950 U/HR INTEGRELIN AT 2 MCGS/KG A: IMPROVED U/O AFTER LASIX, AWAITING CARDIAC SURGERY P: CONT SUPPORTIVE CARE, REPEAT HCT POST- TRANSFUSION, CHECK LYTES POST-DIURESIS AND REPLACE\n",
       "5 \t AS NEEDED, AWAITING CABG-DATE.Given 50mg IV benadryl and 2mg morphine as well as one aspirin PO and inch of NT paste.\n",
       "6 \t When pt remained tachycardic w/ frequent ectopy s/p KCL and tylenol for temp - Orders given by Dr.\n",
       "7 \t [**Last Name (STitle) 2025**] to increase diltiazem to 120mg PO QID and NS 250ml given X1 w/ moderate effect.\n",
       "8 \t Per team, the pts IV sedation was weaned over the course of the day and now infusing @ 110mcg/hr IV Fentanyl &amp; 9mg/hr IV Verced c pt able to open eyes to verbal stimuli and nod head appropriately to simple commands (are you in pain?).\n",
       "9 \t  A/P: 73 y/o male remains intubated, IVF boluses x2 for CVP &lt;12, pt continues in NSR on PO amio 400 TID, dopamine gtt weaned down for MAPs&gt;65 but the team felt he is overall receiving about the same amt fentanyl now as he has been in past few days, as the fentanyl patch 100 mcg was added a 48 hrs ago to replace the decrease in the IV fentanyl gtt today (fent patch takes at least 24 hrs to kick in).Started valium 10mg po q6hrs at 1300 with prn IV valium as needed.\n",
       "</div>"
      ]
     },
     "metadata": {
      "application/vnd.databricks.v1+output": {
       "addedWidgets": {},
       "arguments": {},
       "data": "<div class=\"ansiout\">with Spark NLP SentenceDetectorDL_HC\n=======================================\n0\tTylenol 650mg po q6h CVS: Aspirin 121.5mg po daily for graft patency, npn 7p-7a: ccu nsg progress note: s/o: does understand and speak some eng, family visiting this eve and states that pt is oriented and appropriate for them resp--ls w/crackles approx 1/2 up, rr 20&#39;s, appeared sl sob, on 4l sat when sitting straight up 95-99%, when lying flat or turning s-s sat does drop to 88-93%, pt does not c/o feeling sob, sat does come back up when sitting up, did rec 40mg iv lasix cardiac hr 90&#39;s sr w/occ pvc&#39;s, bp 95-106/50&#39;s, did not c/o any cp during the noc, conts on hep at 600u/hr, ptt during noc 79, am labs pnd, remains off pressors, at this time no further plans to swan pt or for her to go to cath lab, gi--abd soft, non tender to palpation, (+)bs, passing sm amt of brown soft stool, tol po&#39;s w/out diff renal--u/o cont&#39;d low during the eve, team decided to give lasix 40mg in setting of crackles, decreased u/o and sob, did diuresis well to lasix, pt approx 700cc neg today access--pt has 3 peripheral iv&#39;s in place, all working, unable to draw bloods from pt d/t poor veins, pt is going to need access to draw bloods, central line or picc line social--son &amp; dtr in visiting w/their famlies tonight, pt awake and conversing w/them a/p: cont to monitor/asses cvs follow resp status, additional lasix f/u w/team re: plan of care for her will need iv access for blood draws keep family &amp; pt updated w/plan, Neuro:\n1\tOn propofol gtt dose increased from 20 to 40mcg/kg/min,moves all extrimities to pain,awaken to stimuly easily,purposeful movements.\n2\tPERL,had an episode of seizure at 1815 &lt;1min when neuro team in for exam ,responded to 2mg ativan on keprra Iv BID.2 grams mag sulfate given, IVF bolus 250 cc started, approx 50 cc in then dc&#39;d d/t PAD&#39;s,2.5 mg IV lopressor given x 2 without effect.\n3\tCCU NURSING 4P-7P S DENIES CP/SOB O. SEE CAREVUE FLOWSHEET FOR COMPLETE VS 1600 O2 SAT 91% ON 5L N/C, 1 U PRBC&#39;S INFUSING, LUNGS CRACKLES BILATERALLY, LASIX 40MG IV ORDERED, 1200 CC U/O W/IMPROVED O2 SATS ON 4L N/C, IABP AT 1:1 BP 81-107/90-117/48-57, HR 70&#39;S SR, GROIN SITES D+I, HEPARIN REMAINS AT 950 U/HR INTEGRELIN AT 2 MCGS/KG A: IMPROVED U/O AFTER LASIX, AWAITING CARDIAC SURGERY P: CONT SUPPORTIVE CARE, REPEAT HCT POST- TRANSFUSION, CHECK LYTES POST-DIURESIS AND REPLACE AS NEEDED, AWAITING CABG-DATE.\n4\tGiven 50mg IV benadryl and 2mg morphine as well as one aspirin PO and inch of NT paste.\n5\tWhen pt remained tachycardic w/ frequent ectopy s/p KCL and tylenol for temp - Orders given by Dr. [**Last Name (STitle) 2025**] to increase diltiazem to 120mg PO QID and NS 250ml given X1 w/ moderate effect.\n6\tPer team, the pts IV sedation was weaned over the course of the day and now infusing @ 110mcg/hr IV Fentanyl &amp; 9mg/hr IV Verced c pt able to open eyes to verbal stimuli and nod head appropriately to simple commands (are you in pain?).\n7\tA/P: 73 y/o male remains intubated, IVF boluses x2 for CVP &lt;12, pt continues in NSR on PO amio 400 TID, dopamine gtt weaned down for MAPs&gt;65 but the team felt he is overall receiving about the same amt fentanyl now as he has been in past few days, as the fentanyl patch 100 mcg was added a 48 hrs ago to replace the decrease in the IV fentanyl gtt today (fent patch takes at least 24 hrs to kick in).\n8\tStarted valium 10mg po q6hrs at 1300 with prn IV valium as needed.\n\nwith Spacy Sentence Detection\n===================================\n0 \t  Tylenol 650mg po q6h CVS: Aspirin 121.5mg po daily for graft patency, npn 7p-7a: ccu nsg progress note: s/o: does understand and speak some eng, family visiting this eve and states that pt is oriented and appropriate for them resp--\n1 \t ls w/crackles approx 1/2 up, rr 20&#39;s, appeared sl sob, on 4l sat when sitting straight up 95-99%, when lying flat or turning s-s sat does drop to 88-93%, pt does not c/o feeling sob, sat does come back up when sitting up, did rec 40mg iv lasix cardiac hr 90&#39;s sr w/occ pvc&#39;s, bp 95-106/50&#39;s, did not c/o any cp during the noc, conts on hep at 600u/hr, ptt during noc 79, am labs pnd, remains off pressors, at this time no further plans to swan pt or for her to go to cath lab, gi--abd soft, non tender to palpation, (+)bs, passing sm amt of brown soft stool, tol po&#39;s w/out diff renal--u/o cont&#39;d low during the eve, team decided to give lasix 40mg in setting of crackles, decreased u/o and sob, did diuresis well to lasix, pt approx 700cc neg today access--pt has 3 peripheral iv&#39;s in place, all working, unable to draw bloods from pt d/t poor veins, pt is going to need access to draw bloods, central line or picc line social--son &amp; dtr in visiting w/their famlies tonight, pt awake and conversing w/them a/p: cont to monitor/asses cvs follow resp status, additional lasix f/u w/team re: plan of care for her will need iv access for blood draws keep family &amp; pt updated w/plan, Neuro:On propofol gtt dose increased from 20 to 40mcg/kg/min,moves all extrimities to pain,awaken to stimuly easily,purposeful movements.\n2 \t PERL,had an episode of seizure at 1815 &lt;1min when neuro team in for exam ,responded to 2mg ativan on keprra Iv BID.2 grams mag sulfate given, IVF bolus 250 cc started, approx 50 cc in then dc&#39;d d/t PAD&#39;s,2.5 mg IV lopressor given x 2 without effect.\n3 \t CCU NURSING 4P-7P S DENIES CP/SOB O. SEE CAREVUE FLOWSHEET FOR COMPLETE VS 1600 O2 SAT 91% ON 5L N/C, 1 U PRBC&#39;S INFUSING, LUNGS CRACKLES BILATERALLY, LASIX 40MG\n4 \t IV ORDERED, 1200 CC U/O W/IMPROVED O2 SATS ON 4L N/C, IABP AT 1:1 BP 81-107/90-117/48-57, HR 70&#39;S SR, GROIN SITES D+I, HEPARIN REMAINS AT 950 U/HR INTEGRELIN AT 2 MCGS/KG A: IMPROVED U/O AFTER LASIX, AWAITING CARDIAC SURGERY P: CONT SUPPORTIVE CARE, REPEAT HCT POST- TRANSFUSION, CHECK LYTES POST-DIURESIS AND REPLACE\n5 \t AS NEEDED, AWAITING CABG-DATE.Given 50mg IV benadryl and 2mg morphine as well as one aspirin PO and inch of NT paste.\n6 \t When pt remained tachycardic w/ frequent ectopy s/p KCL and tylenol for temp - Orders given by Dr.\n7 \t [**Last Name (STitle) 2025**] to increase diltiazem to 120mg PO QID and NS 250ml given X1 w/ moderate effect.\n8 \t Per team, the pts IV sedation was weaned over the course of the day and now infusing @ 110mcg/hr IV Fentanyl &amp; 9mg/hr IV Verced c pt able to open eyes to verbal stimuli and nod head appropriately to simple commands (are you in pain?).\n9 \t  A/P: 73 y/o male remains intubated, IVF boluses x2 for CVP &lt;12, pt continues in NSR on PO amio 400 TID, dopamine gtt weaned down for MAPs&gt;65 but the team felt he is overall receiving about the same amt fentanyl now as he has been in past few days, as the fentanyl patch 100 mcg was added a 48 hrs ago to replace the decrease in the IV fentanyl gtt today (fent patch takes at least 24 hrs to kick in).Started valium 10mg po q6hrs at 1300 with prn IV valium as needed.\n</div>",
       "datasetInfos": [],
       "metadata": {},
       "removedWidgets": [],
       "type": "html"
      }
     },
     "output_type": "display_data"
    }
   ],
   "source": [
    "get_sentences_sddl(text_4)  \n",
    "get_sentences_spacy(text_4) "
   ]
  },
  {
   "cell_type": "markdown",
   "metadata": {
    "application/vnd.databricks.v1+cell": {
     "cellMetadata": {
      "byteLimit": 2048000,
      "rowLimit": 10000
     },
     "inputWidgets": {},
     "nuid": "422ed5a6-5c3f-4895-8690-4ee6343ed985",
     "showTitle": false,
     "title": ""
    },
    "id": "N81puEXqJGHV"
   },
   "source": [
    "## *SetenceDetectorDL_HC* Performance and Comparison with *Spacy Sentence Splitter* on *Broken Clinical Texts*"
   ]
  },
  {
   "cell_type": "code",
   "execution_count": 0,
   "metadata": {
    "application/vnd.databricks.v1+cell": {
     "cellMetadata": {
      "byteLimit": 2048000,
      "rowLimit": 10000
     },
     "inputWidgets": {},
     "nuid": "c63196f2-8abb-46aa-a23b-caf023226c94",
     "showTitle": false,
     "title": ""
    },
    "id": "8N3bzs7RJGHW",
    "outputId": "98ae04f4-220f-4df3-ec27-e82a8027501a"
   },
   "outputs": [
    {
     "output_type": "display_data",
     "data": {
      "text/html": [
       "<style scoped>\n",
       "  .ansiout {\n",
       "    display: block;\n",
       "    unicode-bidi: embed;\n",
       "    white-space: pre-wrap;\n",
       "    word-wrap: break-word;\n",
       "    word-break: break-all;\n",
       "    font-family: \"Source Code Pro\", \"Menlo\", monospace;;\n",
       "    font-size: 13px;\n",
       "    color: #555;\n",
       "    margin-left: 4px;\n",
       "    line-height: 19px;\n",
       "  }\n",
       "</style>\n",
       "<div class=\"ansiout\"></div>"
      ]
     },
     "metadata": {
      "application/vnd.databricks.v1+output": {
       "addedWidgets": {},
       "arguments": {},
       "data": "<div class=\"ansiout\"></div>",
       "datasetInfos": [],
       "metadata": {},
       "removedWidgets": [],
       "type": "html"
      }
     },
     "output_type": "display_data"
    }
   ],
   "source": [
    "random_broken_text_1 = '''He was given boluses of MS04 with some effect, he has since been placed on a PCA \n",
    "- he take 80mg of oxycontin at home, his PCA dose is ~ 2 the morphine dose of the oxycontin, he has also received ativan for anxiety.Repleted with 20 meq kcl po, 30 m\n",
    "mol K-phos iv and 2 gms mag so4 iv. LASIX CHANGED TO 40 PO BID WHICH IS SAME AS HE TAKES AT HOME - RECEIVED 40 PO IN AM - 700CC U/O TOTAL FOR FLUID NEGATIVE ~ 600 THUS FAR TODAY, ~ 600 NEG LOS pt initially hypertensive 160s-180s gave prn doses if IV hydralazine without effect, labetalol increased from 100 mg to 200 mg PO TID which kept SBP > 160 for rest of night.Transferred to the EW found to be hypertensive BP 253/167 HR 132 ST treated with IV NTG gtt 20-120mcg/ and captopril 12.5mg sl x3. During the day pt's resp status has been very tenuous, responded to lasix in the am but then became hypotensive around 1800 tx with 500cc NS bolus and a unit of RBC did improve her BP to 90-100/60 but also became increasingly more tachypneic, RR 30-40's crackles went from bases bilaterally to [**2-14**] way up bilaterally.Lasix given 10\n",
    "mg x 2 during the evening without much change in her respiratory status.10units iv insulin given, 1 amps of 50%dextrose, 1amp of sodium bicard, 2gm calc gluconate.LOPRESSOR 7MG IV Q6H, ENALAPRIL 0.625MG IV Q6H TOLERATED.\n",
    "ID: Continues to receive flagyl, linazolid, pipercillin, ambisome, gent, and acyclovir, the acyclovir was changed from PO to IV-to be given after dialysis.Meds- Lipitor, procardia, synthroid, lisinopril, pepcid, actonel, calcium, MVI Social- Denies tobacco and drugs.'''"
   ]
  },
  {
   "cell_type": "code",
   "execution_count": 0,
   "metadata": {
    "application/vnd.databricks.v1+cell": {
     "cellMetadata": {
      "byteLimit": 2048000,
      "rowLimit": 10000
     },
     "inputWidgets": {},
     "nuid": "a9a1be56-b032-4a40-bf20-5ca3fd9db052",
     "showTitle": false,
     "title": ""
    },
    "id": "I_6XaGgYJGHY",
    "outputId": "5ca2eaae-9c05-46b9-b1e8-4ed9f7cb3912"
   },
   "outputs": [
    {
     "output_type": "display_data",
     "data": {
      "text/html": [
       "<style scoped>\n",
       "  .ansiout {\n",
       "    display: block;\n",
       "    unicode-bidi: embed;\n",
       "    white-space: pre-wrap;\n",
       "    word-wrap: break-word;\n",
       "    word-break: break-all;\n",
       "    font-family: \"Source Code Pro\", \"Menlo\", monospace;;\n",
       "    font-size: 13px;\n",
       "    color: #555;\n",
       "    margin-left: 4px;\n",
       "    line-height: 19px;\n",
       "  }\n",
       "</style>\n",
       "<div class=\"ansiout\">with Spark NLP SentenceDetectorDL_HC\n",
       "=======================================\n",
       "0\tHe was given boluses of MS04 with some effect, he has since been placed on a PCA - he take 80mg of oxycontin at home, his PCA dose is ~ 2 the morphine dose of the oxycontin, he has also received ativan for anxiety.\n",
       "1\tRepleted with 20 meq kcl po, 30 mmol K-phos iv and 2 gms mag so4 iv.\n",
       "2\tLASIX CHANGED TO 40 PO BID WHICH IS SAME AS HE TAKES AT HOME - RECEIVED 40 PO IN AM - 700CC U/O TOTAL FOR FLUID NEGATIVE ~ 600 THUS FAR TODAY, ~ 600 NEG LOS pt initially hypertensive 160s-180s gave prn doses if IV hydralazine without effect, labetalol increased from 100 mg to 200 mg PO TID which kept SBP &gt; 160 for rest of night.\n",
       "3\tTransferred to the EW found to be hypertensive BP 253/167 HR 132 ST treated with IV NTG gtt 20-120mcg/ and captopril 12.5mg sl x3.\n",
       "4\tDuring the day pt&#39;s resp status has been very tenuous, responded to lasix in the am but then became hypotensive around 1800 tx with 500cc NS bolus and a unit of RBC did improve her BP to 90-100/60 but also became increasingly more tachypneic, RR 30-40&#39;s crackles went from bases bilaterally to [**2-14**] way up bilaterally.\n",
       "5\tLasix given 10mg x 2 during the evening without much change in her respiratory status.\n",
       "6\t10units iv insulin given, 1 amps of 50%dextrose, 1amp of sodium bicard, 2gm calc gluconate.\n",
       "7\tLOPRESSOR 7MG IV Q6H, ENALAPRIL 0.625MG IV Q6H TOLERATED.\n",
       "8\tID: Continues to receive flagyl, linazolid, pipercillin, ambisome, gent, and acyclovir, the acyclovir was changed from PO to IV-to be given after dialysis.\n",
       "9\tMeds- Lipitor, procardia, synthroid, lisinopril, pepcid, actonel, calcium, MVI Social- Denies tobacco and drugs.\n",
       "\n",
       "with Spacy Sentence Detection\n",
       "===================================\n",
       "0 \t He was given boluses of MS04 with some effect, he has since been placed on a PCA - he take 80mg of oxycontin at home, his PCA dose is ~ 2 the morphine dose of the oxycontin, he has also received ativan for anxiety.\n",
       "1 \t Repleted with 20 meq kcl po, 30 mmol K-phos iv and 2 gms mag so4 iv.\n",
       "2 \t LASIX CHANGED TO 40 PO BID WHICH IS SAME AS HE TAKES AT HOME - RECEIVED 40 PO IN AM - 700CC U/O TOTAL FOR FLUID NEGATIVE ~ 600 THUS FAR TODAY, ~ 600 NEG LOS pt initially hypertensive 160s-180s gave prn doses if IV hydralazine without effect, labetalol increased from 100 mg to 200 mg PO TID which kept SBP &gt; 160 for rest of night.\n",
       "3 \t Transferred to the EW found to be hypertensive BP 253/167 HR 132 ST treated with IV NTG gtt 20-120mcg/ and captopril 12.5mg sl x3.\n",
       "4 \t During the day pt&#39;s resp status has been very tenuous, responded to lasix in the am but then became hypotensive around 1800 tx with 500cc NS bolus and a unit of RBC did improve her BP to 90-100/60 but also became increasingly more tachypneic, RR 30-40&#39;s crackles went from bases bilaterally to [**2-14**] way up bilaterally.\n",
       "5 \t Lasix given 10mg x 2 during the evening without much change in her respiratory status.10units iv insulin given, 1 amps of 50%dextrose, 1amp of sodium bicard, 2gm calc gluconate.\n",
       "6 \t LOPRESSOR 7MG IV Q6H, ENALAPRIL 0.625MG IV Q6H TOLERATED.\n",
       "7 \t ID: Continues to receive flagyl, linazolid, pipercillin, ambisome, gent, and acyclovir, the acyclovir was changed from PO to IV-to be given after dialysis.\n",
       "8 \t Meds-\n",
       "9 \t Lipitor, procardia, synthroid, lisinopril, pepcid, actonel, calcium, MVI Social- Denies tobacco and drugs.\n",
       "</div>"
      ]
     },
     "metadata": {
      "application/vnd.databricks.v1+output": {
       "addedWidgets": {},
       "arguments": {},
       "data": "<div class=\"ansiout\">with Spark NLP SentenceDetectorDL_HC\n=======================================\n0\tHe was given boluses of MS04 with some effect, he has since been placed on a PCA - he take 80mg of oxycontin at home, his PCA dose is ~ 2 the morphine dose of the oxycontin, he has also received ativan for anxiety.\n1\tRepleted with 20 meq kcl po, 30 mmol K-phos iv and 2 gms mag so4 iv.\n2\tLASIX CHANGED TO 40 PO BID WHICH IS SAME AS HE TAKES AT HOME - RECEIVED 40 PO IN AM - 700CC U/O TOTAL FOR FLUID NEGATIVE ~ 600 THUS FAR TODAY, ~ 600 NEG LOS pt initially hypertensive 160s-180s gave prn doses if IV hydralazine without effect, labetalol increased from 100 mg to 200 mg PO TID which kept SBP &gt; 160 for rest of night.\n3\tTransferred to the EW found to be hypertensive BP 253/167 HR 132 ST treated with IV NTG gtt 20-120mcg/ and captopril 12.5mg sl x3.\n4\tDuring the day pt&#39;s resp status has been very tenuous, responded to lasix in the am but then became hypotensive around 1800 tx with 500cc NS bolus and a unit of RBC did improve her BP to 90-100/60 but also became increasingly more tachypneic, RR 30-40&#39;s crackles went from bases bilaterally to [**2-14**] way up bilaterally.\n5\tLasix given 10mg x 2 during the evening without much change in her respiratory status.\n6\t10units iv insulin given, 1 amps of 50%dextrose, 1amp of sodium bicard, 2gm calc gluconate.\n7\tLOPRESSOR 7MG IV Q6H, ENALAPRIL 0.625MG IV Q6H TOLERATED.\n8\tID: Continues to receive flagyl, linazolid, pipercillin, ambisome, gent, and acyclovir, the acyclovir was changed from PO to IV-to be given after dialysis.\n9\tMeds- Lipitor, procardia, synthroid, lisinopril, pepcid, actonel, calcium, MVI Social- Denies tobacco and drugs.\n\nwith Spacy Sentence Detection\n===================================\n0 \t He was given boluses of MS04 with some effect, he has since been placed on a PCA - he take 80mg of oxycontin at home, his PCA dose is ~ 2 the morphine dose of the oxycontin, he has also received ativan for anxiety.\n1 \t Repleted with 20 meq kcl po, 30 mmol K-phos iv and 2 gms mag so4 iv.\n2 \t LASIX CHANGED TO 40 PO BID WHICH IS SAME AS HE TAKES AT HOME - RECEIVED 40 PO IN AM - 700CC U/O TOTAL FOR FLUID NEGATIVE ~ 600 THUS FAR TODAY, ~ 600 NEG LOS pt initially hypertensive 160s-180s gave prn doses if IV hydralazine without effect, labetalol increased from 100 mg to 200 mg PO TID which kept SBP &gt; 160 for rest of night.\n3 \t Transferred to the EW found to be hypertensive BP 253/167 HR 132 ST treated with IV NTG gtt 20-120mcg/ and captopril 12.5mg sl x3.\n4 \t During the day pt&#39;s resp status has been very tenuous, responded to lasix in the am but then became hypotensive around 1800 tx with 500cc NS bolus and a unit of RBC did improve her BP to 90-100/60 but also became increasingly more tachypneic, RR 30-40&#39;s crackles went from bases bilaterally to [**2-14**] way up bilaterally.\n5 \t Lasix given 10mg x 2 during the evening without much change in her respiratory status.10units iv insulin given, 1 amps of 50%dextrose, 1amp of sodium bicard, 2gm calc gluconate.\n6 \t LOPRESSOR 7MG IV Q6H, ENALAPRIL 0.625MG IV Q6H TOLERATED.\n7 \t ID: Continues to receive flagyl, linazolid, pipercillin, ambisome, gent, and acyclovir, the acyclovir was changed from PO to IV-to be given after dialysis.\n8 \t Meds-\n9 \t Lipitor, procardia, synthroid, lisinopril, pepcid, actonel, calcium, MVI Social- Denies tobacco and drugs.\n</div>",
       "datasetInfos": [],
       "metadata": {},
       "removedWidgets": [],
       "type": "html"
      }
     },
     "output_type": "display_data"
    }
   ],
   "source": [
    "get_sentences_sddl(random_broken_text_1)\n",
    "get_sentences_spacy(random_broken_text_1)  "
   ]
  },
  {
   "cell_type": "code",
   "execution_count": 0,
   "metadata": {
    "application/vnd.databricks.v1+cell": {
     "cellMetadata": {
      "byteLimit": 2048000,
      "rowLimit": 10000
     },
     "inputWidgets": {},
     "nuid": "5ef7ffac-5380-4a6d-88ec-dca8ffbebc35",
     "showTitle": false,
     "title": ""
    },
    "id": "svZ_iXWSJGHZ",
    "outputId": "3eb51b20-fd4b-4fe1-ba1d-cc1205d84e52"
   },
   "outputs": [
    {
     "output_type": "display_data",
     "data": {
      "text/html": [
       "<style scoped>\n",
       "  .ansiout {\n",
       "    display: block;\n",
       "    unicode-bidi: embed;\n",
       "    white-space: pre-wrap;\n",
       "    word-wrap: break-word;\n",
       "    word-break: break-all;\n",
       "    font-family: \"Source Code Pro\", \"Menlo\", monospace;;\n",
       "    font-size: 13px;\n",
       "    color: #555;\n",
       "    margin-left: 4px;\n",
       "    line-height: 19px;\n",
       "  }\n",
       "</style>\n",
       "<div class=\"ansiout\"></div>"
      ]
     },
     "metadata": {
      "application/vnd.databricks.v1+output": {
       "addedWidgets": {},
       "arguments": {},
       "data": "<div class=\"ansiout\"></div>",
       "datasetInfos": [],
       "metadata": {},
       "removedWidgets": [],
       "type": "html"
      }
     },
     "output_type": "display_data"
    }
   ],
   "source": [
    "random_broken_text_2 = '''A 28-year-\n",
    "old female with a history of gestational diabetes mellitus diagnosed eight years prior to presentation and subsequent type two diabetes mellitus ( \n",
    "T2DM ), \n",
    "one prior episode of HTG-induced pancreatitis three years prior to presentation,  associated with an acute hepatitis , and obesity with a body mass index ( BMI ) of 33.5 \n",
    "kg/m2 , presented with a one-\n",
    "week history of polyuria , polydipsia , poor appetite , and vomiting.Two weeks prior to presentation , she was treated with a five-day course of \n",
    "amoxicillin for a respiratory tract infection.She was on metformin , glipizide , and dapagliflozin for T2DM and atorvastatin and gemfibrozil for HTG . She had been on dapagliflozin for six months at the time of \n",
    "presentation. Physical examination on presentation was significant for dry oral mucosa ; significantly , her abdominal examination was benign with no tenderness , guarding , or rigidity . \n",
    "Pertinent laboratory findings on admission were : serum glucose 111 mg\n",
    "/dl , bicarbonate 18 mmol/l , \n",
    "anion gap 20 , creatinine 0.4 mg/dL , triglycerides 508 mg\n",
    "/dL , total cholesterol 122 \n",
    "mg/dL , glycated hemoglobin ( HbA1c \n",
    ") 10% , and venous pH 7.27 .Serum lipase was normal at 43U/L .Serum acetone levels could not be assessed as blood samples kept hemolyzing due to significant lipemia.The patient was initially admitted for starvation ketosis , as she reported poor oral intake for three days prior to admission.However , serum chemistry obtained six hours after presentation revealed her glucose was\n",
    " 186 mg/dL , the anion gap was still elevated at 21 , serum bicarbonate was 16 mmol/L , triglyceride level peaked at 2050 \n",
    " mg/dL , and lipase was 52 U/L.The β-hydroxybutyrate level was obtained and found to be elevated at 5.\n",
    " 29 \n",
    " mmol/L - \n",
    " the original sample was centrifuged and the chylomicron layer removed prior to analysis due to interference from turbidity caused by lipemia again.The patient was treated with an insulin drip for euDKA \n",
    " and HTG with a reduction in the anion gap to 13 and triglycerides to 1400 mg/\n",
    " dL , within 24 hours.Her euDKA was thought to be precipitated by her respiratory tract infection in the setting of SGLT2 inhibitor use . \n",
    " The patient was seen by the endocrinology service and she was discharged on 40\n",
    "  units of insulin glargine at night , \n",
    "12 units of insulin lispro with meals , and metformin 1000 mg two times a day.It was determined that all SGLT2 inhibitors should be discontinued indefinitely .'''"
   ]
  },
  {
   "cell_type": "code",
   "execution_count": 0,
   "metadata": {
    "application/vnd.databricks.v1+cell": {
     "cellMetadata": {
      "byteLimit": 2048000,
      "rowLimit": 10000
     },
     "inputWidgets": {},
     "nuid": "1e424226-caeb-4672-8af3-ea7e64e2e861",
     "showTitle": false,
     "title": ""
    },
    "id": "k302fMLfJGHa",
    "outputId": "90bdc8a3-9f3d-4240-90a5-9f8fbe4cb333"
   },
   "outputs": [
    {
     "output_type": "display_data",
     "data": {
      "text/html": [
       "<style scoped>\n",
       "  .ansiout {\n",
       "    display: block;\n",
       "    unicode-bidi: embed;\n",
       "    white-space: pre-wrap;\n",
       "    word-wrap: break-word;\n",
       "    word-break: break-all;\n",
       "    font-family: \"Source Code Pro\", \"Menlo\", monospace;;\n",
       "    font-size: 13px;\n",
       "    color: #555;\n",
       "    margin-left: 4px;\n",
       "    line-height: 19px;\n",
       "  }\n",
       "</style>\n",
       "<div class=\"ansiout\">with Spark NLP SentenceDetectorDL_HC\n",
       "=======================================\n",
       "0\tA 28-year-old female with a history of gestational diabetes mellitus diagnosed eight years prior to presentation and subsequent type two diabetes mellitus ( T2DM ), one prior episode of HTG-induced pancreatitis three years prior to presentation,  associated with an acute hepatitis , and obesity with a body mass index ( BMI ) of 33.5 kg/m2 , presented with a one-week history of polyuria , polydipsia , poor appetite , and vomiting.\n",
       "1\tTwo weeks prior to presentation , she was treated with a five-day course of amoxicillin for a respiratory tract infection.\n",
       "2\tShe was on metformin , glipizide , and dapagliflozin for T2DM and atorvastatin and gemfibrozil for HTG .\n",
       "3\tShe had been on dapagliflozin for six months at the time of presentation.\n",
       "4\tPhysical examination on presentation was significant for dry oral mucosa ; significantly , her abdominal examination was benign with no tenderness , guarding , or rigidity .\n",
       "5\tPertinent laboratory findings on admission were : serum glucose 111 mg/dl , bicarbonate 18 mmol/l , anion gap 20 , creatinine 0.4 mg/dL , triglycerides 508 mg/dL , total cholesterol 122 mg/dL , glycated hemoglobin ( HbA1c ) 10% , and venous pH 7.27 .\n",
       "6\tSerum lipase was normal at 43U/L .\n",
       "7\tSerum acetone levels could not be assessed as blood samples kept hemolyzing due to significant lipemia.\n",
       "8\tThe patient was initially admitted for starvation ketosis , as she reported poor oral intake for three days prior to admission.\n",
       "9\tHowever , serum chemistry obtained six hours after presentation revealed her glucose was\n",
       "10\t186 mg/dL , the anion gap was still elevated at 21 , serum bicarbonate was 16 mmol/L , triglyceride level peaked at 2050  mg/dL , and lipase was 52 U/L.\n",
       "11\tThe β-hydroxybutyrate level was obtained and found to be elevated at 5. 29  mmol/L -  the original sample was centrifuged and the chylomicron layer removed prior to analysis due to interference from turbidity caused by lipemia again.\n",
       "12\tThe patient was treated with an insulin drip for euDKA  and HTG with a reduction in the anion gap to 13 and triglycerides to 1400 mg/ dL , within 24 hours.\n",
       "13\tHer euDKA was thought to be precipitated by her respiratory tract infection in the setting of SGLT2 inhibitor use .\n",
       "14\tThe patient was seen by the endocrinology service and she was discharged on 40  units of insulin glargine at night , 12 units of insulin lispro with meals , and metformin 1000 mg two times a day.\n",
       "15\tIt was determined that all SGLT2 inhibitors should be discontinued indefinitely .\n",
       "\n",
       "with Spacy Sentence Detection\n",
       "===================================\n",
       "0 \t A 28-year-old female with a history of gestational diabetes mellitus diagnosed eight years prior to presentation and subsequent type two diabetes mellitus ( T2DM ), one prior episode of HTG-induced pancreatitis three years prior to presentation,  associated with an acute hepatitis , and obesity with a body mass index ( BMI ) of 33.5 kg/m2 , presented with a one-week history of polyuria , polydipsia , poor appetite , and vomiting.\n",
       "1 \t Two weeks prior to presentation , she was treated with a five-day course of amoxicillin for a respiratory tract infection.\n",
       "2 \t She was on metformin , glipizide , and dapagliflozin for T2DM and atorvastatin and gemfibrozil for HTG .\n",
       "3 \t She had been on dapagliflozin for six months at the time of presentation.\n",
       "4 \t Physical examination on presentation was significant for dry oral mucosa ; significantly , her abdominal examination was benign with no tenderness , guarding , or rigidity .\n",
       "5 \t Pertinent laboratory findings on admission were : serum glucose 111 mg/dl , bicarbonate 18 mmol/l , anion gap 20 , creatinine 0.4 mg/dL , triglycerides 508 mg/dL , total cholesterol 122 mg/dL , glycated hemoglobin ( HbA1c ) 10% , and venous pH 7.27 .Serum\n",
       "6 \t lipase was normal at 43U/L .Serum\n",
       "7 \t acetone levels could not be assessed as blood samples kept hemolyzing due to significant lipemia.\n",
       "8 \t The patient was initially admitted for starvation ketosis , as she reported poor oral intake for three days prior to admission.\n",
       "9 \t However , serum chemistry obtained six hours after presentation revealed her glucose was 186 mg/dL , the anion gap was still elevated at 21 , serum bicarbonate was 16 mmol/L , triglyceride level peaked at 2050  mg/dL , and lipase was 52 U/L.The β-hydroxybutyrate level was obtained and found to be elevated at 5.\n",
       "10 \t  29  mmol/L -  the original sample was centrifuged and the chylomicron layer removed prior to analysis due to interference from turbidity caused by lipemia again.\n",
       "11 \t The patient was treated with an insulin drip for euDKA  and HTG with a reduction in the anion gap to 13 and triglycerides to 1400 mg/ dL , within 24 hours.\n",
       "12 \t Her euDKA was thought to be precipitated by her respiratory tract infection in the setting of SGLT2 inhibitor use .\n",
       "13 \t  The patient was seen by the endocrinology service and she was discharged on 40  units of insulin glargine at night , 12 units of insulin lispro with meals , and metformin 1000 mg two times a day.\n",
       "14 \t It was determined that all SGLT2 inhibitors should be discontinued indefinitely .\n",
       "</div>"
      ]
     },
     "metadata": {
      "application/vnd.databricks.v1+output": {
       "addedWidgets": {},
       "arguments": {},
       "data": "<div class=\"ansiout\">with Spark NLP SentenceDetectorDL_HC\n=======================================\n0\tA 28-year-old female with a history of gestational diabetes mellitus diagnosed eight years prior to presentation and subsequent type two diabetes mellitus ( T2DM ), one prior episode of HTG-induced pancreatitis three years prior to presentation,  associated with an acute hepatitis , and obesity with a body mass index ( BMI ) of 33.5 kg/m2 , presented with a one-week history of polyuria , polydipsia , poor appetite , and vomiting.\n1\tTwo weeks prior to presentation , she was treated with a five-day course of amoxicillin for a respiratory tract infection.\n2\tShe was on metformin , glipizide , and dapagliflozin for T2DM and atorvastatin and gemfibrozil for HTG .\n3\tShe had been on dapagliflozin for six months at the time of presentation.\n4\tPhysical examination on presentation was significant for dry oral mucosa ; significantly , her abdominal examination was benign with no tenderness , guarding , or rigidity .\n5\tPertinent laboratory findings on admission were : serum glucose 111 mg/dl , bicarbonate 18 mmol/l , anion gap 20 , creatinine 0.4 mg/dL , triglycerides 508 mg/dL , total cholesterol 122 mg/dL , glycated hemoglobin ( HbA1c ) 10% , and venous pH 7.27 .\n6\tSerum lipase was normal at 43U/L .\n7\tSerum acetone levels could not be assessed as blood samples kept hemolyzing due to significant lipemia.\n8\tThe patient was initially admitted for starvation ketosis , as she reported poor oral intake for three days prior to admission.\n9\tHowever , serum chemistry obtained six hours after presentation revealed her glucose was\n10\t186 mg/dL , the anion gap was still elevated at 21 , serum bicarbonate was 16 mmol/L , triglyceride level peaked at 2050  mg/dL , and lipase was 52 U/L.\n11\tThe β-hydroxybutyrate level was obtained and found to be elevated at 5. 29  mmol/L -  the original sample was centrifuged and the chylomicron layer removed prior to analysis due to interference from turbidity caused by lipemia again.\n12\tThe patient was treated with an insulin drip for euDKA  and HTG with a reduction in the anion gap to 13 and triglycerides to 1400 mg/ dL , within 24 hours.\n13\tHer euDKA was thought to be precipitated by her respiratory tract infection in the setting of SGLT2 inhibitor use .\n14\tThe patient was seen by the endocrinology service and she was discharged on 40  units of insulin glargine at night , 12 units of insulin lispro with meals , and metformin 1000 mg two times a day.\n15\tIt was determined that all SGLT2 inhibitors should be discontinued indefinitely .\n\nwith Spacy Sentence Detection\n===================================\n0 \t A 28-year-old female with a history of gestational diabetes mellitus diagnosed eight years prior to presentation and subsequent type two diabetes mellitus ( T2DM ), one prior episode of HTG-induced pancreatitis three years prior to presentation,  associated with an acute hepatitis , and obesity with a body mass index ( BMI ) of 33.5 kg/m2 , presented with a one-week history of polyuria , polydipsia , poor appetite , and vomiting.\n1 \t Two weeks prior to presentation , she was treated with a five-day course of amoxicillin for a respiratory tract infection.\n2 \t She was on metformin , glipizide , and dapagliflozin for T2DM and atorvastatin and gemfibrozil for HTG .\n3 \t She had been on dapagliflozin for six months at the time of presentation.\n4 \t Physical examination on presentation was significant for dry oral mucosa ; significantly , her abdominal examination was benign with no tenderness , guarding , or rigidity .\n5 \t Pertinent laboratory findings on admission were : serum glucose 111 mg/dl , bicarbonate 18 mmol/l , anion gap 20 , creatinine 0.4 mg/dL , triglycerides 508 mg/dL , total cholesterol 122 mg/dL , glycated hemoglobin ( HbA1c ) 10% , and venous pH 7.27 .Serum\n6 \t lipase was normal at 43U/L .Serum\n7 \t acetone levels could not be assessed as blood samples kept hemolyzing due to significant lipemia.\n8 \t The patient was initially admitted for starvation ketosis , as she reported poor oral intake for three days prior to admission.\n9 \t However , serum chemistry obtained six hours after presentation revealed her glucose was 186 mg/dL , the anion gap was still elevated at 21 , serum bicarbonate was 16 mmol/L , triglyceride level peaked at 2050  mg/dL , and lipase was 52 U/L.The β-hydroxybutyrate level was obtained and found to be elevated at 5.\n10 \t  29  mmol/L -  the original sample was centrifuged and the chylomicron layer removed prior to analysis due to interference from turbidity caused by lipemia again.\n11 \t The patient was treated with an insulin drip for euDKA  and HTG with a reduction in the anion gap to 13 and triglycerides to 1400 mg/ dL , within 24 hours.\n12 \t Her euDKA was thought to be precipitated by her respiratory tract infection in the setting of SGLT2 inhibitor use .\n13 \t  The patient was seen by the endocrinology service and she was discharged on 40  units of insulin glargine at night , 12 units of insulin lispro with meals , and metformin 1000 mg two times a day.\n14 \t It was determined that all SGLT2 inhibitors should be discontinued indefinitely .\n</div>",
       "datasetInfos": [],
       "metadata": {},
       "removedWidgets": [],
       "type": "html"
      }
     },
     "output_type": "display_data"
    }
   ],
   "source": [
    "get_sentences_sddl(random_broken_text_2)\n",
    "get_sentences_spacy(random_broken_text_2)  "
   ]
  },
  {
   "cell_type": "code",
   "execution_count": 0,
   "metadata": {
    "application/vnd.databricks.v1+cell": {
     "cellMetadata": {
      "byteLimit": 2048000,
      "rowLimit": 10000
     },
     "inputWidgets": {},
     "nuid": "2b1d0950-474e-4984-8bee-07d78616d2a4",
     "showTitle": false,
     "title": ""
    },
    "id": "mRhwHi3ZJGHb",
    "outputId": "0282c4c9-da15-49fd-b7bf-42a5aae16516"
   },
   "outputs": [
    {
     "output_type": "display_data",
     "data": {
      "text/html": [
       "<style scoped>\n",
       "  .ansiout {\n",
       "    display: block;\n",
       "    unicode-bidi: embed;\n",
       "    white-space: pre-wrap;\n",
       "    word-wrap: break-word;\n",
       "    word-break: break-all;\n",
       "    font-family: \"Source Code Pro\", \"Menlo\", monospace;;\n",
       "    font-size: 13px;\n",
       "    color: #555;\n",
       "    margin-left: 4px;\n",
       "    line-height: 19px;\n",
       "  }\n",
       "</style>\n",
       "<div class=\"ansiout\"></div>"
      ]
     },
     "metadata": {
      "application/vnd.databricks.v1+output": {
       "addedWidgets": {},
       "arguments": {},
       "data": "<div class=\"ansiout\"></div>",
       "datasetInfos": [],
       "metadata": {},
       "removedWidgets": [],
       "type": "html"
      }
     },
     "output_type": "display_data"
    }
   ],
   "source": [
    "random_broken_text_3 = ''' Tylenol 650mg po q6h CVS: Aspirin 121.5mg po daily for graft patency.npn 7p-7a: ccu nsg progress note: s/o: does understand and speak some eng, family visiting this eve and states that pt is oriented and appropriate for them resp--ls w/crackles approx 1/2 up, rr 20's, appeared sl sob, on 4l sat when sitting straight up 95-99%, when lying flat or turning s-s sat does drop to 88-93%, pt does not c/o feeling sob, \n",
    "sat does come back up when sitting up, did rec 40\n",
    "mg iv lasix cardiac--hr 90's sr w/occ pvc's, bp 95-\n",
    "106/50's, did not c/o any cp during the noc, conts on hep at 600u/\n",
    "hr, ptt during noc 79, am labs pnd, remains off pressors, at this time no further plans to swan pt or for her to go to cath lab, gi--abd soft, non tender to palpation, (+)bs, passing sm amt of brown soft stool, tol po's w/out diff renal--u/o cont'd low during the eve,\n",
    " team decided to give lasix 40mg in setting of crackles, decreased u/o \n",
    "and sob, did diuresis well to lasix, pt approx 700cc neg today access--pt has 3 peripheral iv's in place, all working, unable to draw bloods from pt d/t poor veins, pt is going to need access to draw bloods, ?central line or picc line social--son & dtr in visiting w/their famlies tonight, pt awake and conversing w/them a/p: cont to monitor/asses cvs follow resp status, additional\n",
    " lasix f/u w/team re: plan of care for her will need iv access for blood draws keep family & pt updated w/plan, Neuro:On propofol gtt dose increased from 20 to 40mcg/kg/min,moves all extrimities to pain,awaken to stimuly easily,purposeful movements.PERL,had an episode of seizure at 1815 <1min when neuro team in for exam ,responded to 2mg ativan on keprra Iv BID.2 grams mag sulfate given, IVF bolus 250 cc started, approx 50 cc in then dc'd d/t PAD's, \n",
    " 2.5 mg IV lopressor given x 2 without effect. CCU NURSING 4P-7P S DENIES CP/SOB O. SEE CAREVUE FLOWSHEET FOR COMPLETE VS 1600 O2 SAT 91% ON 5L N/C, 1 U PRBC'S INFUSING, LUNGS CRACKLES BILATERALLY, LASIX 40MG IV ORDERED, 1200 CC U/O W/IMPROVED O2 SATS ON 4L N/C, IABP AT 1:1 BP 81-107/90-117/48-57, HR 70'S SR, GROIN SITES D+I, HEPARIN REMAINS AT 950 U/HR INTEGRELIN AT 2 MCGS/KG A: IMPROVED U/O AFTER LASIX, AWAITING CARDIAC SURGERY P: CONT SUPPORTIVE CARE, \n",
    " REPEAT HCT POST-TRANSFUSION, CHECK LYTES POST-DIURESIS AND REPLACE AS NEEDED, AWAITING CABG -DATE.Given 50mg IV benadryl and 2mg morphine as well as one aspirin PO and inch of NT paste. When pt remained tachycardic w/ frequent ectopy s/p KCL and tylenol for temp - Orders given by Dr. [**Last Name (STitle) 2025**] to increase diltiazem to 120mg PO QID and NS 250ml given X1 w/ moderate effect.Per team, the pts IV sedation was weaned over the course of the \n",
    " day and now infusing @ 110mcg/hr IV Fentanyl & 9mg/hr IV Verced c pt able to open eyes to verbal stimuli and nod head appropriately to simple commands (are you in pain?) .  A/P: 73 y/o male remains intubated, IVF boluses x2 for CVP <12, pt continues in NSR on PO amio 400 TID, dopamine gtt weaned down for MAPs>65 but the team felt he is overall receiving about the same amt fentanyl now as he has been in past few days, as the fentanyl patch 100\n",
    "mcg was added a 48 hrs ago to replace the decrease in the IV fentanyl gtt today (fent patch takes at least 24 hrs to kick in).Started valium 10mg po q6hrs at 1300 with prn IV valium as needed.'''"
   ]
  },
  {
   "cell_type": "code",
   "execution_count": 0,
   "metadata": {
    "application/vnd.databricks.v1+cell": {
     "cellMetadata": {
      "byteLimit": 2048000,
      "rowLimit": 10000
     },
     "inputWidgets": {},
     "nuid": "ead12803-8dc0-4f6d-be0c-17df4a123a91",
     "showTitle": false,
     "title": ""
    },
    "id": "26mKxfT-JGHc",
    "outputId": "bbe8b139-a4bb-46d4-dcea-28c9cae311ef"
   },
   "outputs": [
    {
     "output_type": "display_data",
     "data": {
      "text/html": [
       "<style scoped>\n",
       "  .ansiout {\n",
       "    display: block;\n",
       "    unicode-bidi: embed;\n",
       "    white-space: pre-wrap;\n",
       "    word-wrap: break-word;\n",
       "    word-break: break-all;\n",
       "    font-family: \"Source Code Pro\", \"Menlo\", monospace;;\n",
       "    font-size: 13px;\n",
       "    color: #555;\n",
       "    margin-left: 4px;\n",
       "    line-height: 19px;\n",
       "  }\n",
       "</style>\n",
       "<div class=\"ansiout\">with Spark NLP SentenceDetectorDL_HC\n",
       "=======================================\n",
       "0\tTylenol 650mg po q6h CVS: Aspirin 121.5mg po daily for graft patency.\n",
       "1\tnpn 7p-7a: ccu nsg progress note: s/o: does understand and speak some eng, family visiting this eve and states that pt is oriented and appropriate for them resp--ls w/crackles approx 1/2 up, rr 20&#39;s, appeared sl sob, on 4l sat when sitting straight up 95-99%, when lying flat or turning s-s sat does drop to 88-93%, pt does not c/o feeling sob, sat does come back up when sitting up, did rec 40mg iv lasix cardiac--hr 90&#39;s sr w/occ pvc&#39;s, bp 95-106/50&#39;s, did not c/o any cp during the noc, conts on hep at 600u/hr, ptt during noc 79, am labs pnd, remains off pressors, at this time no further plans to swan pt or for her to go to cath lab, gi--abd soft, non tender to palpation, (+)bs, passing sm amt of brown soft stool, tol po&#39;s w/out diff renal--u/o cont&#39;d low during the eve, team decided to give lasix 40mg in setting of crackles, decreased u/o and sob, did diuresis well to lasix, pt approx 700cc neg today access--pt has 3 peripheral iv&#39;s in place, all working, unable to draw bloods from pt d/t poor veins, pt is going to need access to draw bloods, ?central line or picc line social--son &amp; dtr in visiting w/their famlies tonight, pt awake and conversing w/them a/p: cont to monitor/asses cvs follow resp status, additional lasix f/u w/team re: plan of care for her will need iv access for blood draws keep family &amp; pt updated w/plan, Neuro:\n",
       "2\tOn propofol gtt dose increased from 20 to 40mcg/kg/min,moves all extrimities to pain,awaken to stimuly easily,purposeful movements.\n",
       "3\tPERL,had an episode of seizure at 1815 &lt;1min when neuro team in for exam ,responded to 2mg ativan on keprra Iv BID.2 grams mag sulfate given, IVF bolus 250 cc started, approx 50 cc in then dc&#39;d d/t PAD&#39;s,  2.5 mg IV lopressor given x 2 without effect.\n",
       "4\tCCU NURSING 4P-7P S DENIES CP/SOB O. SEE CAREVUE FLOWSHEET FOR COMPLETE VS 1600 O2 SAT 91% ON 5L N/C, 1 U PRBC&#39;S INFUSING, LUNGS CRACKLES BILATERALLY, LASIX 40MG IV ORDERED, 1200 CC U/O W/IMPROVED O2 SATS ON 4L N/C, IABP AT 1:1 BP 81-107/90-117/48-57, HR 70&#39;S SR, GROIN SITES D+I, HEPARIN REMAINS AT 950 U/HR INTEGRELIN AT 2 MCGS/KG A: IMPROVED U/O AFTER LASIX, AWAITING CARDIAC SURGERY P: CONT SUPPORTIVE CARE,  REPEAT HCT POST-TRANSFUSION, CHECK LYTES POST-DIURESIS AND REPLACE AS NEEDED, AWAITING CABG -DATE.\n",
       "5\tGiven 50mg IV benadryl and 2mg morphine as well as one aspirin PO and inch of NT paste.\n",
       "6\tWhen pt remained tachycardic w/ frequent ectopy s/p KCL and tylenol for temp - Orders given by Dr. [**Last Name (STitle) 2025**] to increase diltiazem to 120mg PO QID and NS 250ml given X1 w/ moderate effect.\n",
       "7\tPer team, the pts IV sedation was weaned over the course of the  day and now infusing @ 110mcg/hr IV Fentanyl &amp; 9mg/hr IV Verced c pt able to open eyes to verbal stimuli and nod head appropriately to simple commands (are you in pain?) .\n",
       "8\tA/P: 73 y/o male remains intubated, IVF boluses x2 for CVP &lt;12, pt continues in NSR on PO amio 400 TID, dopamine gtt weaned down for MAPs&gt;65 but the team felt he is overall receiving about the same amt fentanyl now as he has been in past few days, as the fentanyl patch 100mcg was added a 48 hrs ago to replace the decrease in the IV fentanyl gtt today (fent patch takes at least 24 hrs to kick in).\n",
       "9\tStarted valium 10mg po q6hrs at 1300 with prn IV valium as needed.\n",
       "\n",
       "with Spacy Sentence Detection\n",
       "===================================\n",
       "0 \t  Tylenol 650mg po q6h CVS: Aspirin 121.5mg po daily for graft patency.npn 7p-7a: ccu nsg progress note: s/o: does understand and speak some eng, family visiting this eve and states that pt is oriented and appropriate for them resp--\n",
       "1 \t ls w/crackles approx 1/2 up, rr 20&#39;s, appeared sl sob, on 4l sat when sitting straight up 95-99%, when lying flat or turning s-s sat does drop to 88-93%, pt does not c/o feeling sob, sat does come back up when sitting up, did rec 40mg iv lasix cardiac--hr 90&#39;s sr w/occ pvc&#39;s,\n",
       "2 \t bp\n",
       "3 \t 95-106/50&#39;s, did not c/o any cp during the noc, conts on hep at 600u/hr, ptt during noc 79, am labs pnd, remains off pressors, at this time no further plans to swan pt or for her to go to cath lab, gi--abd soft, non tender to palpation, (+)bs, passing sm amt of brown soft stool, tol po&#39;s w/out diff renal--u/o cont&#39;d low during the eve, team decided to give lasix 40mg in setting of crackles, decreased u/o and sob, did diuresis well to lasix, pt approx 700cc neg today access--pt has 3 peripheral iv&#39;s in place, all working, unable to draw bloods from pt d/t poor veins, pt is going to need access to draw bloods, ?central line or picc line social--son &amp; dtr in visiting w/their famlies tonight, pt awake and conversing w/them a/p: cont to monitor/asses cvs follow resp status, additional lasix f/u w/team re: plan of care for her will need iv access for blood draws keep family &amp; pt updated w/plan, Neuro:On propofol gtt dose increased from 20 to 40mcg/kg/min,moves all extrimities to pain,awaken to stimuly easily,purposeful movements.\n",
       "4 \t PERL,had an episode of seizure at 1815 &lt;1min when neuro team in for exam ,responded to 2mg ativan on keprra Iv BID.2 grams mag sulfate given, IVF bolus 250 cc started, approx 50 cc in then dc&#39;d d/t PAD&#39;s,  2.5 mg IV lopressor given x 2 without effect.\n",
       "5 \t CCU NURSING 4P-7P S DENIES CP/SOB O. SEE CAREVUE FLOWSHEET FOR COMPLETE VS 1600 O2 SAT 91% ON 5L N/C, 1 U PRBC&#39;S INFUSING, LUNGS CRACKLES BILATERALLY, LASIX 40MG\n",
       "6 \t IV ORDERED, 1200 CC U/O W/IMPROVED O2 SATS ON 4L N/C, IABP AT 1:1 BP 81-107/90-117/48-57, HR 70&#39;S SR, GROIN SITES D+I, HEPARIN REMAINS AT 950 U/HR INTEGRELIN AT 2 MCGS/KG A: IMPROVED U/O AFTER LASIX, AWAITING CARDIAC SURGERY P: CONT SUPPORTIVE CARE,  REPEAT HCT POST-TRANSFUSION, CHECK LYTES POST-DIURESIS AND REPLACE AS NEEDED, AWAITING CABG -DATE.Given 50mg IV benadryl and 2mg morphine as well as one aspirin PO and inch of NT paste.\n",
       "7 \t When pt remained tachycardic w/ frequent ectopy s/p KCL and tylenol for temp - Orders given by Dr.\n",
       "8 \t [**Last Name (STitle) 2025**] to increase diltiazem to 120mg PO QID and NS 250ml given X1 w/ moderate effect.\n",
       "9 \t Per team, the pts IV sedation was weaned over the course of the  day and now infusing @ 110mcg/hr IV Fentanyl &amp; 9mg/hr IV Verced c pt able to open eyes to verbal stimuli and nod head appropriately to simple commands (are you in pain?) .\n",
       "10 \t  A/P: 73 y/o male remains intubated, IVF boluses x2 for CVP &lt;12, pt continues in NSR on PO amio 400 TID, dopamine gtt weaned down for MAPs&gt;65 but the team felt he is overall receiving about the same amt fentanyl now as he has been in past few days, as the fentanyl patch 100mcg was added a 48 hrs ago to replace the decrease in the IV fentanyl gtt today (fent patch takes at least 24 hrs to kick in).Started valium 10mg po q6hrs at 1300 with prn IV valium as needed.\n",
       "</div>"
      ]
     },
     "metadata": {
      "application/vnd.databricks.v1+output": {
       "addedWidgets": {},
       "arguments": {},
       "data": "<div class=\"ansiout\">with Spark NLP SentenceDetectorDL_HC\n=======================================\n0\tTylenol 650mg po q6h CVS: Aspirin 121.5mg po daily for graft patency.\n1\tnpn 7p-7a: ccu nsg progress note: s/o: does understand and speak some eng, family visiting this eve and states that pt is oriented and appropriate for them resp--ls w/crackles approx 1/2 up, rr 20&#39;s, appeared sl sob, on 4l sat when sitting straight up 95-99%, when lying flat or turning s-s sat does drop to 88-93%, pt does not c/o feeling sob, sat does come back up when sitting up, did rec 40mg iv lasix cardiac--hr 90&#39;s sr w/occ pvc&#39;s, bp 95-106/50&#39;s, did not c/o any cp during the noc, conts on hep at 600u/hr, ptt during noc 79, am labs pnd, remains off pressors, at this time no further plans to swan pt or for her to go to cath lab, gi--abd soft, non tender to palpation, (+)bs, passing sm amt of brown soft stool, tol po&#39;s w/out diff renal--u/o cont&#39;d low during the eve, team decided to give lasix 40mg in setting of crackles, decreased u/o and sob, did diuresis well to lasix, pt approx 700cc neg today access--pt has 3 peripheral iv&#39;s in place, all working, unable to draw bloods from pt d/t poor veins, pt is going to need access to draw bloods, ?central line or picc line social--son &amp; dtr in visiting w/their famlies tonight, pt awake and conversing w/them a/p: cont to monitor/asses cvs follow resp status, additional lasix f/u w/team re: plan of care for her will need iv access for blood draws keep family &amp; pt updated w/plan, Neuro:\n2\tOn propofol gtt dose increased from 20 to 40mcg/kg/min,moves all extrimities to pain,awaken to stimuly easily,purposeful movements.\n3\tPERL,had an episode of seizure at 1815 &lt;1min when neuro team in for exam ,responded to 2mg ativan on keprra Iv BID.2 grams mag sulfate given, IVF bolus 250 cc started, approx 50 cc in then dc&#39;d d/t PAD&#39;s,  2.5 mg IV lopressor given x 2 without effect.\n4\tCCU NURSING 4P-7P S DENIES CP/SOB O. SEE CAREVUE FLOWSHEET FOR COMPLETE VS 1600 O2 SAT 91% ON 5L N/C, 1 U PRBC&#39;S INFUSING, LUNGS CRACKLES BILATERALLY, LASIX 40MG IV ORDERED, 1200 CC U/O W/IMPROVED O2 SATS ON 4L N/C, IABP AT 1:1 BP 81-107/90-117/48-57, HR 70&#39;S SR, GROIN SITES D+I, HEPARIN REMAINS AT 950 U/HR INTEGRELIN AT 2 MCGS/KG A: IMPROVED U/O AFTER LASIX, AWAITING CARDIAC SURGERY P: CONT SUPPORTIVE CARE,  REPEAT HCT POST-TRANSFUSION, CHECK LYTES POST-DIURESIS AND REPLACE AS NEEDED, AWAITING CABG -DATE.\n5\tGiven 50mg IV benadryl and 2mg morphine as well as one aspirin PO and inch of NT paste.\n6\tWhen pt remained tachycardic w/ frequent ectopy s/p KCL and tylenol for temp - Orders given by Dr. [**Last Name (STitle) 2025**] to increase diltiazem to 120mg PO QID and NS 250ml given X1 w/ moderate effect.\n7\tPer team, the pts IV sedation was weaned over the course of the  day and now infusing @ 110mcg/hr IV Fentanyl &amp; 9mg/hr IV Verced c pt able to open eyes to verbal stimuli and nod head appropriately to simple commands (are you in pain?) .\n8\tA/P: 73 y/o male remains intubated, IVF boluses x2 for CVP &lt;12, pt continues in NSR on PO amio 400 TID, dopamine gtt weaned down for MAPs&gt;65 but the team felt he is overall receiving about the same amt fentanyl now as he has been in past few days, as the fentanyl patch 100mcg was added a 48 hrs ago to replace the decrease in the IV fentanyl gtt today (fent patch takes at least 24 hrs to kick in).\n9\tStarted valium 10mg po q6hrs at 1300 with prn IV valium as needed.\n\nwith Spacy Sentence Detection\n===================================\n0 \t  Tylenol 650mg po q6h CVS: Aspirin 121.5mg po daily for graft patency.npn 7p-7a: ccu nsg progress note: s/o: does understand and speak some eng, family visiting this eve and states that pt is oriented and appropriate for them resp--\n1 \t ls w/crackles approx 1/2 up, rr 20&#39;s, appeared sl sob, on 4l sat when sitting straight up 95-99%, when lying flat or turning s-s sat does drop to 88-93%, pt does not c/o feeling sob, sat does come back up when sitting up, did rec 40mg iv lasix cardiac--hr 90&#39;s sr w/occ pvc&#39;s,\n2 \t bp\n3 \t 95-106/50&#39;s, did not c/o any cp during the noc, conts on hep at 600u/hr, ptt during noc 79, am labs pnd, remains off pressors, at this time no further plans to swan pt or for her to go to cath lab, gi--abd soft, non tender to palpation, (+)bs, passing sm amt of brown soft stool, tol po&#39;s w/out diff renal--u/o cont&#39;d low during the eve, team decided to give lasix 40mg in setting of crackles, decreased u/o and sob, did diuresis well to lasix, pt approx 700cc neg today access--pt has 3 peripheral iv&#39;s in place, all working, unable to draw bloods from pt d/t poor veins, pt is going to need access to draw bloods, ?central line or picc line social--son &amp; dtr in visiting w/their famlies tonight, pt awake and conversing w/them a/p: cont to monitor/asses cvs follow resp status, additional lasix f/u w/team re: plan of care for her will need iv access for blood draws keep family &amp; pt updated w/plan, Neuro:On propofol gtt dose increased from 20 to 40mcg/kg/min,moves all extrimities to pain,awaken to stimuly easily,purposeful movements.\n4 \t PERL,had an episode of seizure at 1815 &lt;1min when neuro team in for exam ,responded to 2mg ativan on keprra Iv BID.2 grams mag sulfate given, IVF bolus 250 cc started, approx 50 cc in then dc&#39;d d/t PAD&#39;s,  2.5 mg IV lopressor given x 2 without effect.\n5 \t CCU NURSING 4P-7P S DENIES CP/SOB O. SEE CAREVUE FLOWSHEET FOR COMPLETE VS 1600 O2 SAT 91% ON 5L N/C, 1 U PRBC&#39;S INFUSING, LUNGS CRACKLES BILATERALLY, LASIX 40MG\n6 \t IV ORDERED, 1200 CC U/O W/IMPROVED O2 SATS ON 4L N/C, IABP AT 1:1 BP 81-107/90-117/48-57, HR 70&#39;S SR, GROIN SITES D+I, HEPARIN REMAINS AT 950 U/HR INTEGRELIN AT 2 MCGS/KG A: IMPROVED U/O AFTER LASIX, AWAITING CARDIAC SURGERY P: CONT SUPPORTIVE CARE,  REPEAT HCT POST-TRANSFUSION, CHECK LYTES POST-DIURESIS AND REPLACE AS NEEDED, AWAITING CABG -DATE.Given 50mg IV benadryl and 2mg morphine as well as one aspirin PO and inch of NT paste.\n7 \t When pt remained tachycardic w/ frequent ectopy s/p KCL and tylenol for temp - Orders given by Dr.\n8 \t [**Last Name (STitle) 2025**] to increase diltiazem to 120mg PO QID and NS 250ml given X1 w/ moderate effect.\n9 \t Per team, the pts IV sedation was weaned over the course of the  day and now infusing @ 110mcg/hr IV Fentanyl &amp; 9mg/hr IV Verced c pt able to open eyes to verbal stimuli and nod head appropriately to simple commands (are you in pain?) .\n10 \t  A/P: 73 y/o male remains intubated, IVF boluses x2 for CVP &lt;12, pt continues in NSR on PO amio 400 TID, dopamine gtt weaned down for MAPs&gt;65 but the team felt he is overall receiving about the same amt fentanyl now as he has been in past few days, as the fentanyl patch 100mcg was added a 48 hrs ago to replace the decrease in the IV fentanyl gtt today (fent patch takes at least 24 hrs to kick in).Started valium 10mg po q6hrs at 1300 with prn IV valium as needed.\n</div>",
       "datasetInfos": [],
       "metadata": {},
       "removedWidgets": [],
       "type": "html"
      }
     },
     "output_type": "display_data"
    }
   ],
   "source": [
    "get_sentences_sddl(random_broken_text_3)\n",
    "get_sentences_spacy(random_broken_text_3)  "
   ]
  },
  {
   "cell_type": "markdown",
   "metadata": {
    "application/vnd.databricks.v1+cell": {
     "cellMetadata": {
      "byteLimit": 2048000,
      "rowLimit": 10000
     },
     "inputWidgets": {},
     "nuid": "32dab596-d8e4-42a2-b1d2-3f8540491eb8",
     "showTitle": false,
     "title": ""
    },
    "id": "SpF6kCJtJGHd"
   },
   "source": [
    "End of Notebook #"
   ]
  }
 ],
 "metadata": {
  "application/vnd.databricks.v1+notebook": {
   "dashboards": [],
   "language": "python",
   "notebookMetadata": {
    "pythonIndentUnit": 2
   },
   "notebookName": "11.0.SentenceDetectorDL_Healthcare",
   "widgets": {}
  },
  "colab": {
   "provenance": []
  },
  "kernelspec": {
   "display_name": "Python 3",
   "language": "python",
   "name": "python3"
  },
  "language_info": {
   "codemirror_mode": {
    "name": "ipython",
    "version": 3
   },
   "file_extension": ".py",
   "mimetype": "text/x-python",
   "name": "python",
   "nbconvert_exporter": "python",
   "pygments_lexer": "ipython3",
   "version": "3.8.3"
  }
 },
 "nbformat": 4,
 "nbformat_minor": 0
}

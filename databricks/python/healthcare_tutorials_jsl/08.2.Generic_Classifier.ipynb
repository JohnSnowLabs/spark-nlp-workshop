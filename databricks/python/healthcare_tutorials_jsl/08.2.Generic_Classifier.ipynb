{
 "cells": [
  {
   "cell_type": "markdown",
   "metadata": {
    "application/vnd.databricks.v1+cell": {
     "cellMetadata": {
      "byteLimit": 2048000,
      "rowLimit": 10000
     },
     "inputWidgets": {},
     "nuid": "c6768fe1-ddbb-4799-8eb0-76d53107d1fa",
     "showTitle": false,
     "title": ""
    },
    "id": "_gMgspigI3rV"
   },
   "source": [
    "![JohnSnowLabs](https://nlp.johnsnowlabs.com/assets/images/logo.png)"
   ]
  },
  {
   "cell_type": "markdown",
   "metadata": {
    "application/vnd.databricks.v1+cell": {
     "cellMetadata": {
      "byteLimit": 2048000,
      "rowLimit": 10000
     },
     "inputWidgets": {},
     "nuid": "198ee648-32d9-4be7-8e38-c78189521b15",
     "showTitle": false,
     "title": ""
    },
    "id": "-g9xwuFPI3rc"
   },
   "source": [
    "# Trainining a Text Classification Model"
   ]
  },
  {
   "cell_type": "code",
   "execution_count": null,
   "metadata": {
    "application/vnd.databricks.v1+cell": {
     "cellMetadata": {
      "byteLimit": 2048000,
      "rowLimit": 10000
     },
     "inputWidgets": {},
     "nuid": "1dd7f21a-7e8c-4938-ba6b-b6699234f6e3",
     "showTitle": false,
     "title": ""
    },
    "id": "v0pw1cCrI3ri",
    "outputId": "2ea04500-17d8-442d-fa5c-90400adaee70"
   },
   "outputs": [
    {
     "data": {
      "text/plain": [
       "True"
      ]
     },
     "execution_count": 1,
     "metadata": {},
     "output_type": "execute_result"
    }
   ],
   "source": [
    " !wget -q https://raw.githubusercontent.com/JohnSnowLabs/spark-nlp-workshop/master/tutorials/Certification_Trainings/Healthcare/data/petfinder-mini.csv\n",
    " \n",
    " dbutils.fs.cp(\"file:/databricks/driver/petfinder-mini.csv\", \"dbfs:/\") "
   ]
  },
  {
   "cell_type": "code",
   "execution_count": null,
   "metadata": {
    "application/vnd.databricks.v1+cell": {
     "cellMetadata": {
      "byteLimit": 2048000,
      "rowLimit": 10000
     },
     "inputWidgets": {},
     "nuid": "b02b554b-ca15-4826-9e80-db2870bb3210",
     "showTitle": false,
     "title": ""
    }
   },
   "outputs": [],
   "source": [
    "from johnsnowlabs import nlp, medical\n",
    "\n",
    "# After uploading your license run this to install all licensed Python Wheels and pre-download Jars the Spark Session JVM\n",
    "#nlp.install()"
   ]
  },
  {
   "cell_type": "code",
   "execution_count": null,
   "metadata": {
    "application/vnd.databricks.v1+cell": {
     "cellMetadata": {
      "byteLimit": 2048000,
      "rowLimit": 10000
     },
     "inputWidgets": {},
     "nuid": "864db12b-27c0-4222-bb1e-51d8c08a64d9",
     "showTitle": false,
     "title": ""
    }
   },
   "outputs": [
    {
     "data": {
      "text/html": [
       "\n",
       "            <div>\n",
       "                <p><b>SparkSession - hive</b></p>\n",
       "                \n",
       "        <div>\n",
       "            <p><b>SparkContext</b></p>\n",
       "\n",
       "            <p><a href=\"/?o=7956323724731612#setting/sparkui/0913-163204-fxwn7480/driver-3932152558833267941\">Spark UI</a></p>\n",
       "\n",
       "            <dl>\n",
       "              <dt>Version</dt>\n",
       "                <dd><code>v3.4.1</code></dd>\n",
       "              <dt>Master</dt>\n",
       "                <dd><code>spark://10.139.64.11:7077</code></dd>\n",
       "              <dt>AppName</dt>\n",
       "                <dd><code>Databricks Shell</code></dd>\n",
       "            </dl>\n",
       "        </div>\n",
       "        \n",
       "            </div>\n",
       "        "
      ],
      "text/plain": [
       "<pyspark.sql.session.SparkSession at 0x7f97c883a350>"
      ]
     },
     "execution_count": 3,
     "metadata": {},
     "output_type": "execute_result"
    }
   ],
   "source": [
    "from pyspark.sql import DataFrame\n",
    "import pyspark.sql.functions as F\n",
    "import pyspark.sql.types as T\n",
    "import pyspark.sql as SQL\n",
    "from pyspark import keyword_only\n",
    "\n",
    "import os\n",
    "import json\n",
    "import string\n",
    "import numpy as np\n",
    "import pandas as pd\n",
    "\n",
    "from pyspark.ml import Pipeline, PipelineModel\n",
    "\n",
    "pd.set_option('max_colwidth', 100)\n",
    "pd.set_option('display.max_columns', 100)  \n",
    "pd.set_option('display.expand_frame_repr', False)\n",
    "\n",
    "spark"
   ]
  },
  {
   "cell_type": "markdown",
   "metadata": {
    "application/vnd.databricks.v1+cell": {
     "cellMetadata": {
      "byteLimit": 2048000,
      "rowLimit": 10000
     },
     "inputWidgets": {},
     "nuid": "cfe0436c-8f68-4ecd-8394-415fd204ea77",
     "showTitle": false,
     "title": ""
    },
    "id": "HnG9SuyiI3rh"
   },
   "source": [
    "## Load dataset"
   ]
  },
  {
   "cell_type": "code",
   "execution_count": null,
   "metadata": {
    "application/vnd.databricks.v1+cell": {
     "cellMetadata": {
      "byteLimit": 2048000,
      "rowLimit": 10000
     },
     "inputWidgets": {},
     "nuid": "5cee9236-adaf-4f58-90fa-bf4a4a9894de",
     "showTitle": false,
     "title": ""
    },
    "id": "5BmKKdIGI3ri",
    "outputId": "a8db8ac1-e2a7-4759-f08a-d8db6f0b0468"
   },
   "outputs": [],
   "source": [
    "dataframe = pd.read_csv('petfinder-mini.csv')"
   ]
  },
  {
   "cell_type": "code",
   "execution_count": null,
   "metadata": {
    "application/vnd.databricks.v1+cell": {
     "cellMetadata": {
      "byteLimit": 2048000,
      "rowLimit": 10000
     },
     "inputWidgets": {},
     "nuid": "13b0b443-7e66-40ad-9bef-fc24ee654c07",
     "showTitle": false,
     "title": ""
    },
    "id": "INhq5BaLI3rj",
    "outputId": "d3bf83f2-6a27-41c5-cb19-7c4092484516"
   },
   "outputs": [],
   "source": [
    "# In the original dataset \"4\" indicates the pet was not adopted.\n",
    "\n",
    "dataframe['target'] = np.where(dataframe['AdoptionSpeed']==4, 0, 1)"
   ]
  },
  {
   "cell_type": "code",
   "execution_count": null,
   "metadata": {
    "application/vnd.databricks.v1+cell": {
     "cellMetadata": {
      "byteLimit": 2048000,
      "rowLimit": 10000
     },
     "inputWidgets": {},
     "nuid": "03ff7ad3-261e-411c-be1d-d67f88d3963a",
     "showTitle": false,
     "title": ""
    },
    "id": "IQkbFQtXI3rk",
    "outputId": "f9620837-14f4-4d7b-e5f9-42ecd2c76fb1"
   },
   "outputs": [],
   "source": [
    "dataframe = dataframe.drop(['AdoptionSpeed'], axis=1)"
   ]
  },
  {
   "cell_type": "code",
   "execution_count": null,
   "metadata": {
    "application/vnd.databricks.v1+cell": {
     "cellMetadata": {
      "byteLimit": 2048000,
      "rowLimit": 10000
     },
     "inputWidgets": {},
     "nuid": "344e780f-efb7-4975-b838-a1bdda44d4a8",
     "showTitle": false,
     "title": ""
    },
    "id": "_jKwqL_DI3rk",
    "outputId": "90136778-7129-4304-9959-29e66daaeee8"
   },
   "outputs": [
    {
     "data": {
      "text/html": [
       "<div>\n",
       "<style scoped>\n",
       "    .dataframe tbody tr th:only-of-type {\n",
       "        vertical-align: middle;\n",
       "    }\n",
       "\n",
       "    .dataframe tbody tr th {\n",
       "        vertical-align: top;\n",
       "    }\n",
       "\n",
       "    .dataframe thead th {\n",
       "        text-align: right;\n",
       "    }\n",
       "</style>\n",
       "<table border=\"1\" class=\"dataframe\">\n",
       "  <thead>\n",
       "    <tr style=\"text-align: right;\">\n",
       "      <th></th>\n",
       "      <th>Type</th>\n",
       "      <th>Age</th>\n",
       "      <th>Breed1</th>\n",
       "      <th>Gender</th>\n",
       "      <th>Color1</th>\n",
       "      <th>Color2</th>\n",
       "      <th>MaturitySize</th>\n",
       "      <th>FurLength</th>\n",
       "      <th>Vaccinated</th>\n",
       "      <th>Sterilized</th>\n",
       "      <th>Health</th>\n",
       "      <th>Fee</th>\n",
       "      <th>Description</th>\n",
       "      <th>PhotoAmt</th>\n",
       "      <th>target</th>\n",
       "    </tr>\n",
       "  </thead>\n",
       "  <tbody>\n",
       "    <tr>\n",
       "      <th>0</th>\n",
       "      <td>Cat</td>\n",
       "      <td>3</td>\n",
       "      <td>Tabby</td>\n",
       "      <td>Male</td>\n",
       "      <td>Black</td>\n",
       "      <td>White</td>\n",
       "      <td>Small</td>\n",
       "      <td>Short</td>\n",
       "      <td>No</td>\n",
       "      <td>No</td>\n",
       "      <td>Healthy</td>\n",
       "      <td>100</td>\n",
       "      <td>Nibble is a 3+ month old ball of cuteness. He is energetic and playful. I rescued a couple of ca...</td>\n",
       "      <td>1</td>\n",
       "      <td>1</td>\n",
       "    </tr>\n",
       "    <tr>\n",
       "      <th>1</th>\n",
       "      <td>Cat</td>\n",
       "      <td>1</td>\n",
       "      <td>Domestic Medium Hair</td>\n",
       "      <td>Male</td>\n",
       "      <td>Black</td>\n",
       "      <td>Brown</td>\n",
       "      <td>Medium</td>\n",
       "      <td>Medium</td>\n",
       "      <td>Not Sure</td>\n",
       "      <td>Not Sure</td>\n",
       "      <td>Healthy</td>\n",
       "      <td>0</td>\n",
       "      <td>I just found it alone yesterday near my apartment. It was shaking so I had to bring it home to p...</td>\n",
       "      <td>2</td>\n",
       "      <td>1</td>\n",
       "    </tr>\n",
       "    <tr>\n",
       "      <th>2</th>\n",
       "      <td>Dog</td>\n",
       "      <td>1</td>\n",
       "      <td>Mixed Breed</td>\n",
       "      <td>Male</td>\n",
       "      <td>Brown</td>\n",
       "      <td>White</td>\n",
       "      <td>Medium</td>\n",
       "      <td>Medium</td>\n",
       "      <td>Yes</td>\n",
       "      <td>No</td>\n",
       "      <td>Healthy</td>\n",
       "      <td>0</td>\n",
       "      <td>Their pregnant mother was dumped by her irresponsible owner at the roadside near some shops in S...</td>\n",
       "      <td>7</td>\n",
       "      <td>1</td>\n",
       "    </tr>\n",
       "    <tr>\n",
       "      <th>3</th>\n",
       "      <td>Dog</td>\n",
       "      <td>4</td>\n",
       "      <td>Mixed Breed</td>\n",
       "      <td>Female</td>\n",
       "      <td>Black</td>\n",
       "      <td>Brown</td>\n",
       "      <td>Medium</td>\n",
       "      <td>Short</td>\n",
       "      <td>Yes</td>\n",
       "      <td>No</td>\n",
       "      <td>Healthy</td>\n",
       "      <td>150</td>\n",
       "      <td>Good guard dog, very alert, active, obedience waiting for her good master, plz call or sms for m...</td>\n",
       "      <td>8</td>\n",
       "      <td>1</td>\n",
       "    </tr>\n",
       "    <tr>\n",
       "      <th>4</th>\n",
       "      <td>Dog</td>\n",
       "      <td>1</td>\n",
       "      <td>Mixed Breed</td>\n",
       "      <td>Male</td>\n",
       "      <td>Black</td>\n",
       "      <td>No Color</td>\n",
       "      <td>Medium</td>\n",
       "      <td>Short</td>\n",
       "      <td>No</td>\n",
       "      <td>No</td>\n",
       "      <td>Healthy</td>\n",
       "      <td>0</td>\n",
       "      <td>This handsome yet cute boy is up for adoption. He is the most playful pal we've seen in our pupp...</td>\n",
       "      <td>3</td>\n",
       "      <td>1</td>\n",
       "    </tr>\n",
       "  </tbody>\n",
       "</table>\n",
       "</div>"
      ],
      "text/plain": [
       "  Type  Age                Breed1  Gender Color1    Color2 MaturitySize FurLength Vaccinated Sterilized   Health  Fee                                                                                          Description  PhotoAmt  target\n",
       "0  Cat    3                 Tabby    Male  Black     White        Small     Short         No         No  Healthy  100  Nibble is a 3+ month old ball of cuteness. He is energetic and playful. I rescued a couple of ca...         1       1\n",
       "1  Cat    1  Domestic Medium Hair    Male  Black     Brown       Medium    Medium   Not Sure   Not Sure  Healthy    0  I just found it alone yesterday near my apartment. It was shaking so I had to bring it home to p...         2       1\n",
       "2  Dog    1           Mixed Breed    Male  Brown     White       Medium    Medium        Yes         No  Healthy    0  Their pregnant mother was dumped by her irresponsible owner at the roadside near some shops in S...         7       1\n",
       "3  Dog    4           Mixed Breed  Female  Black     Brown       Medium     Short        Yes         No  Healthy  150  Good guard dog, very alert, active, obedience waiting for her good master, plz call or sms for m...         8       1\n",
       "4  Dog    1           Mixed Breed    Male  Black  No Color       Medium     Short         No         No  Healthy    0  This handsome yet cute boy is up for adoption. He is the most playful pal we've seen in our pupp...         3       1"
      ]
     },
     "execution_count": 7,
     "metadata": {},
     "output_type": "execute_result"
    }
   ],
   "source": [
    "dataframe.head()"
   ]
  },
  {
   "cell_type": "code",
   "execution_count": null,
   "metadata": {
    "application/vnd.databricks.v1+cell": {
     "cellMetadata": {
      "byteLimit": 2048000,
      "rowLimit": 10000
     },
     "inputWidgets": {},
     "nuid": "6f7282fa-b75f-4224-be5a-7c688fa5e47e",
     "showTitle": false,
     "title": ""
    },
    "id": "TLYZ9l3II3rl",
    "outputId": "45a1986b-0d7a-4aaf-b9e3-93d947dd1ef3"
   },
   "outputs": [
    {
     "data": {
      "text/plain": [
       "Index(['Type', 'Age', 'Breed1', 'Gender', 'Color1', 'Color2', 'MaturitySize',\n",
       "       'FurLength', 'Vaccinated', 'Sterilized', 'Health', 'Fee', 'Description',\n",
       "       'PhotoAmt', 'target'],\n",
       "      dtype='object')"
      ]
     },
     "execution_count": 8,
     "metadata": {},
     "output_type": "execute_result"
    }
   ],
   "source": [
    "dataframe.columns"
   ]
  },
  {
   "cell_type": "code",
   "execution_count": null,
   "metadata": {
    "application/vnd.databricks.v1+cell": {
     "cellMetadata": {
      "byteLimit": 2048000,
      "rowLimit": 10000
     },
     "inputWidgets": {},
     "nuid": "37a3dcd5-44ef-419a-8ec0-481cc9c8cc60",
     "showTitle": false,
     "title": ""
    },
    "id": "0-O6OG5UI3rm",
    "outputId": "206763d8-07e3-4a26-cace-e40936003f59"
   },
   "outputs": [
    {
     "name": "stdout",
     "output_type": "stream",
     "text": [
      "<class 'pandas.core.frame.DataFrame'>\n",
      "RangeIndex: 11537 entries, 0 to 11536\n",
      "Data columns (total 15 columns):\n",
      " #   Column        Non-Null Count  Dtype \n",
      "---  ------        --------------  ----- \n",
      " 0   Type          11537 non-null  object\n",
      " 1   Age           11537 non-null  int64 \n",
      " 2   Breed1        11537 non-null  object\n",
      " 3   Gender        11537 non-null  object\n",
      " 4   Color1        11537 non-null  object\n",
      " 5   Color2        11537 non-null  object\n",
      " 6   MaturitySize  11537 non-null  object\n",
      " 7   FurLength     11537 non-null  object\n",
      " 8   Vaccinated    11537 non-null  object\n",
      " 9   Sterilized    11537 non-null  object\n",
      " 10  Health        11537 non-null  object\n",
      " 11  Fee           11537 non-null  int64 \n",
      " 12  Description   11528 non-null  object\n",
      " 13  PhotoAmt      11537 non-null  int64 \n",
      " 14  target        11537 non-null  int64 \n",
      "dtypes: int64(4), object(11)\n",
      "memory usage: 1.3+ MB\n"
     ]
    }
   ],
   "source": [
    "dataframe.info()"
   ]
  },
  {
   "cell_type": "code",
   "execution_count": null,
   "metadata": {
    "application/vnd.databricks.v1+cell": {
     "cellMetadata": {
      "byteLimit": 2048000,
      "rowLimit": 10000
     },
     "inputWidgets": {},
     "nuid": "80617500-a7c0-49b1-9483-90da4427f457",
     "showTitle": false,
     "title": ""
    },
    "id": "5-VqF2eTI3rn",
    "outputId": "6dfa1984-3f42-4a66-a123-36db96b18835"
   },
   "outputs": [
    {
     "data": {
      "text/plain": [
       "1    8457\n",
       "0    3080\n",
       "Name: target, dtype: int64"
      ]
     },
     "execution_count": 10,
     "metadata": {},
     "output_type": "execute_result"
    }
   ],
   "source": [
    "dataframe.target.value_counts()"
   ]
  },
  {
   "cell_type": "code",
   "execution_count": null,
   "metadata": {
    "application/vnd.databricks.v1+cell": {
     "cellMetadata": {
      "byteLimit": 2048000,
      "rowLimit": 10000
     },
     "inputWidgets": {},
     "nuid": "7d0783d0-4d90-4fe7-9806-f84292d08fcb",
     "showTitle": false,
     "title": ""
    },
    "id": "cf_BEot1I3ro",
    "outputId": "32678e2a-1c6b-47cb-bda1-2e86371b95a7"
   },
   "outputs": [],
   "source": [
    "dataframe.Description = dataframe.Description.fillna('- no description -')"
   ]
  },
  {
   "cell_type": "markdown",
   "metadata": {
    "application/vnd.databricks.v1+cell": {
     "cellMetadata": {
      "byteLimit": 2048000,
      "rowLimit": 10000
     },
     "inputWidgets": {},
     "nuid": "8c0422d4-27cf-4cf6-90a6-61028d2425f6",
     "showTitle": false,
     "title": ""
    },
    "id": "yJpJUD8EI3rp"
   },
   "source": [
    "## Featurize with Sklearn Column Transformer"
   ]
  },
  {
   "cell_type": "code",
   "execution_count": null,
   "metadata": {
    "application/vnd.databricks.v1+cell": {
     "cellMetadata": {
      "byteLimit": 2048000,
      "rowLimit": 10000
     },
     "inputWidgets": {},
     "nuid": "642f557d-6706-49a8-ab79-37fcb2ff0fa0",
     "showTitle": false,
     "title": ""
    },
    "id": "ABGU1TwII3rp",
    "outputId": "bbacc5be-ddb7-4c4b-c597-4fa19399ab8e"
   },
   "outputs": [],
   "source": [
    "from sklearn.compose import make_column_transformer\n",
    "from sklearn.compose import ColumnTransformer\n",
    "from sklearn.feature_extraction.text import CountVectorizer, TfidfVectorizer\n",
    "from sklearn.preprocessing import OneHotEncoder, StandardScaler\n",
    "from sklearn.linear_model import LogisticRegression\n",
    "from sklearn.model_selection import train_test_split\n",
    "\n",
    "column_trans = make_column_transformer(\n",
    "     (OneHotEncoder(handle_unknown='ignore', categories='auto'), ['Type', 'Breed1', 'Gender', 'Color1', 'Color2', 'MaturitySize',\n",
    "       'FurLength', 'Vaccinated', 'Sterilized', 'Health']),\n",
    "     (TfidfVectorizer(max_features=100,  norm='l2', ngram_range=(1, 3)), 'Description'),\n",
    "     remainder=StandardScaler())\n",
    "\n",
    "X = column_trans.fit_transform(dataframe.drop(['target'], axis=1))\n",
    "\n",
    "y = dataframe.target"
   ]
  },
  {
   "cell_type": "code",
   "execution_count": null,
   "metadata": {
    "application/vnd.databricks.v1+cell": {
     "cellMetadata": {
      "byteLimit": 2048000,
      "rowLimit": 10000
     },
     "inputWidgets": {},
     "nuid": "e9ec05ef-bb43-4ea9-9b27-db9356fade58",
     "showTitle": false,
     "title": ""
    },
    "id": "IYPAwe2OI3rs",
    "outputId": "68c65e58-27b8-48f0-c160-2628c1011447"
   },
   "outputs": [
    {
     "data": {
      "text/plain": [
       "2"
      ]
     },
     "execution_count": 13,
     "metadata": {},
     "output_type": "execute_result"
    }
   ],
   "source": [
    "y.nunique()\n"
   ]
  },
  {
   "cell_type": "code",
   "execution_count": null,
   "metadata": {
    "application/vnd.databricks.v1+cell": {
     "cellMetadata": {
      "byteLimit": 2048000,
      "rowLimit": 10000
     },
     "inputWidgets": {},
     "nuid": "3102e9f4-541e-43a6-9cb4-432377593e10",
     "showTitle": false,
     "title": ""
    },
    "id": "z3ekjejkI3rs",
    "outputId": "016c7e17-1286-4657-d141-6cfdd0b4552b"
   },
   "outputs": [
    {
     "data": {
      "text/plain": [
       "(11537, 302)"
      ]
     },
     "execution_count": 14,
     "metadata": {},
     "output_type": "execute_result"
    }
   ],
   "source": [
    "X.shape"
   ]
  },
  {
   "cell_type": "code",
   "execution_count": null,
   "metadata": {
    "application/vnd.databricks.v1+cell": {
     "cellMetadata": {
      "byteLimit": 2048000,
      "rowLimit": 10000
     },
     "inputWidgets": {},
     "nuid": "bef2eae5-c018-46f0-88d7-42e6387343f6",
     "showTitle": false,
     "title": ""
    },
    "id": "8mPUXd7sI3rt",
    "outputId": "5c3000c9-5b93-4da7-fe49-7aa00411b2af"
   },
   "outputs": [],
   "source": [
    "input_dim = X.shape[1]"
   ]
  },
  {
   "cell_type": "code",
   "execution_count": null,
   "metadata": {
    "application/vnd.databricks.v1+cell": {
     "cellMetadata": {
      "byteLimit": 2048000,
      "rowLimit": 10000
     },
     "inputWidgets": {},
     "nuid": "0db83aa5-580e-4611-be66-a9c6078fff86",
     "showTitle": false,
     "title": ""
    },
    "id": "DpSlH5TEI3ru",
    "outputId": "b37a797d-2de9-4ea8-a36a-4e2b282570f6"
   },
   "outputs": [
    {
     "data": {
      "text/plain": [
       "302"
      ]
     },
     "execution_count": 16,
     "metadata": {},
     "output_type": "execute_result"
    }
   ],
   "source": [
    "input_dim"
   ]
  },
  {
   "cell_type": "code",
   "execution_count": null,
   "metadata": {
    "application/vnd.databricks.v1+cell": {
     "cellMetadata": {
      "byteLimit": 2048000,
      "rowLimit": 10000
     },
     "inputWidgets": {},
     "nuid": "d7da8187-a1bc-4ed5-bcb5-d979d879f138",
     "showTitle": false,
     "title": ""
    },
    "id": "ILUEOF78I3ru",
    "outputId": "ffb082aa-2314-4a0d-c5c3-5cded5fce1a3"
   },
   "outputs": [
    {
     "data": {
      "text/html": [
       "<div>\n",
       "<style scoped>\n",
       "    .dataframe tbody tr th:only-of-type {\n",
       "        vertical-align: middle;\n",
       "    }\n",
       "\n",
       "    .dataframe tbody tr th {\n",
       "        vertical-align: top;\n",
       "    }\n",
       "\n",
       "    .dataframe thead th {\n",
       "        text-align: right;\n",
       "    }\n",
       "</style>\n",
       "<table border=\"1\" class=\"dataframe\">\n",
       "  <thead>\n",
       "    <tr style=\"text-align: right;\">\n",
       "      <th></th>\n",
       "      <th>col_0</th>\n",
       "      <th>col_1</th>\n",
       "      <th>col_2</th>\n",
       "      <th>col_3</th>\n",
       "      <th>col_4</th>\n",
       "      <th>col_5</th>\n",
       "      <th>col_6</th>\n",
       "      <th>col_7</th>\n",
       "      <th>col_8</th>\n",
       "      <th>col_9</th>\n",
       "      <th>col_10</th>\n",
       "      <th>col_11</th>\n",
       "      <th>col_12</th>\n",
       "      <th>col_13</th>\n",
       "      <th>col_14</th>\n",
       "      <th>col_15</th>\n",
       "      <th>col_16</th>\n",
       "      <th>col_17</th>\n",
       "      <th>col_18</th>\n",
       "      <th>col_19</th>\n",
       "      <th>col_20</th>\n",
       "      <th>col_21</th>\n",
       "      <th>col_22</th>\n",
       "      <th>col_23</th>\n",
       "      <th>col_24</th>\n",
       "      <th>col_25</th>\n",
       "      <th>col_26</th>\n",
       "      <th>col_27</th>\n",
       "      <th>col_28</th>\n",
       "      <th>col_29</th>\n",
       "      <th>col_30</th>\n",
       "      <th>col_31</th>\n",
       "      <th>col_32</th>\n",
       "      <th>col_33</th>\n",
       "      <th>col_34</th>\n",
       "      <th>col_35</th>\n",
       "      <th>col_36</th>\n",
       "      <th>col_37</th>\n",
       "      <th>col_38</th>\n",
       "      <th>col_39</th>\n",
       "      <th>col_40</th>\n",
       "      <th>col_41</th>\n",
       "      <th>col_42</th>\n",
       "      <th>col_43</th>\n",
       "      <th>col_44</th>\n",
       "      <th>col_45</th>\n",
       "      <th>col_46</th>\n",
       "      <th>col_47</th>\n",
       "      <th>col_48</th>\n",
       "      <th>col_49</th>\n",
       "      <th>...</th>\n",
       "      <th>col_253</th>\n",
       "      <th>col_254</th>\n",
       "      <th>col_255</th>\n",
       "      <th>col_256</th>\n",
       "      <th>col_257</th>\n",
       "      <th>col_258</th>\n",
       "      <th>col_259</th>\n",
       "      <th>col_260</th>\n",
       "      <th>col_261</th>\n",
       "      <th>col_262</th>\n",
       "      <th>col_263</th>\n",
       "      <th>col_264</th>\n",
       "      <th>col_265</th>\n",
       "      <th>col_266</th>\n",
       "      <th>col_267</th>\n",
       "      <th>col_268</th>\n",
       "      <th>col_269</th>\n",
       "      <th>col_270</th>\n",
       "      <th>col_271</th>\n",
       "      <th>col_272</th>\n",
       "      <th>col_273</th>\n",
       "      <th>col_274</th>\n",
       "      <th>col_275</th>\n",
       "      <th>col_276</th>\n",
       "      <th>col_277</th>\n",
       "      <th>col_278</th>\n",
       "      <th>col_279</th>\n",
       "      <th>col_280</th>\n",
       "      <th>col_281</th>\n",
       "      <th>col_282</th>\n",
       "      <th>col_283</th>\n",
       "      <th>col_284</th>\n",
       "      <th>col_285</th>\n",
       "      <th>col_286</th>\n",
       "      <th>col_287</th>\n",
       "      <th>col_288</th>\n",
       "      <th>col_289</th>\n",
       "      <th>col_290</th>\n",
       "      <th>col_291</th>\n",
       "      <th>col_292</th>\n",
       "      <th>col_293</th>\n",
       "      <th>col_294</th>\n",
       "      <th>col_295</th>\n",
       "      <th>col_296</th>\n",
       "      <th>col_297</th>\n",
       "      <th>col_298</th>\n",
       "      <th>col_299</th>\n",
       "      <th>col_300</th>\n",
       "      <th>col_301</th>\n",
       "      <th>target</th>\n",
       "    </tr>\n",
       "  </thead>\n",
       "  <tbody>\n",
       "    <tr>\n",
       "      <th>0</th>\n",
       "      <td>1.0</td>\n",
       "      <td>0.0</td>\n",
       "      <td>0.0</td>\n",
       "      <td>0.0</td>\n",
       "      <td>0.0</td>\n",
       "      <td>0.0</td>\n",
       "      <td>0.0</td>\n",
       "      <td>0.0</td>\n",
       "      <td>0.0</td>\n",
       "      <td>0.0</td>\n",
       "      <td>0.0</td>\n",
       "      <td>0.0</td>\n",
       "      <td>0.0</td>\n",
       "      <td>0.0</td>\n",
       "      <td>0.0</td>\n",
       "      <td>0.0</td>\n",
       "      <td>0.0</td>\n",
       "      <td>0.0</td>\n",
       "      <td>0.0</td>\n",
       "      <td>0.0</td>\n",
       "      <td>0.0</td>\n",
       "      <td>0.0</td>\n",
       "      <td>0.0</td>\n",
       "      <td>0.0</td>\n",
       "      <td>0.0</td>\n",
       "      <td>0.0</td>\n",
       "      <td>0.0</td>\n",
       "      <td>0.0</td>\n",
       "      <td>0.0</td>\n",
       "      <td>0.0</td>\n",
       "      <td>0.0</td>\n",
       "      <td>0.0</td>\n",
       "      <td>0.0</td>\n",
       "      <td>0.0</td>\n",
       "      <td>0.0</td>\n",
       "      <td>0.0</td>\n",
       "      <td>0.0</td>\n",
       "      <td>0.0</td>\n",
       "      <td>0.0</td>\n",
       "      <td>0.0</td>\n",
       "      <td>0.0</td>\n",
       "      <td>0.0</td>\n",
       "      <td>0.0</td>\n",
       "      <td>0.0</td>\n",
       "      <td>0.0</td>\n",
       "      <td>0.0</td>\n",
       "      <td>0.0</td>\n",
       "      <td>0.0</td>\n",
       "      <td>0.0</td>\n",
       "      <td>0.0</td>\n",
       "      <td>...</td>\n",
       "      <td>0.000000</td>\n",
       "      <td>0.000000</td>\n",
       "      <td>0.000000</td>\n",
       "      <td>0.171825</td>\n",
       "      <td>0.0</td>\n",
       "      <td>0.137765</td>\n",
       "      <td>0.0</td>\n",
       "      <td>0.000000</td>\n",
       "      <td>0.283609</td>\n",
       "      <td>0.0</td>\n",
       "      <td>0.220992</td>\n",
       "      <td>0.151594</td>\n",
       "      <td>0.000000</td>\n",
       "      <td>0.000000</td>\n",
       "      <td>0.0</td>\n",
       "      <td>0.000000</td>\n",
       "      <td>0.0</td>\n",
       "      <td>0.000000</td>\n",
       "      <td>0.144907</td>\n",
       "      <td>0.000000</td>\n",
       "      <td>0.0</td>\n",
       "      <td>0.158869</td>\n",
       "      <td>0.0</td>\n",
       "      <td>0.0</td>\n",
       "      <td>0.000000</td>\n",
       "      <td>0.170202</td>\n",
       "      <td>0.000000</td>\n",
       "      <td>0.192465</td>\n",
       "      <td>0.190783</td>\n",
       "      <td>0.000000</td>\n",
       "      <td>0.132427</td>\n",
       "      <td>0.176639</td>\n",
       "      <td>0.151246</td>\n",
       "      <td>0.000000</td>\n",
       "      <td>0.0</td>\n",
       "      <td>0.000000</td>\n",
       "      <td>0.000000</td>\n",
       "      <td>0.257843</td>\n",
       "      <td>0.000000</td>\n",
       "      <td>0.000000</td>\n",
       "      <td>0.0</td>\n",
       "      <td>0.000000</td>\n",
       "      <td>0.0</td>\n",
       "      <td>0.000000</td>\n",
       "      <td>0.000000</td>\n",
       "      <td>0.0</td>\n",
       "      <td>-0.452479</td>\n",
       "      <td>0.950288</td>\n",
       "      <td>-0.829762</td>\n",
       "      <td>1</td>\n",
       "    </tr>\n",
       "    <tr>\n",
       "      <th>1</th>\n",
       "      <td>1.0</td>\n",
       "      <td>0.0</td>\n",
       "      <td>0.0</td>\n",
       "      <td>0.0</td>\n",
       "      <td>0.0</td>\n",
       "      <td>0.0</td>\n",
       "      <td>0.0</td>\n",
       "      <td>0.0</td>\n",
       "      <td>0.0</td>\n",
       "      <td>0.0</td>\n",
       "      <td>0.0</td>\n",
       "      <td>0.0</td>\n",
       "      <td>0.0</td>\n",
       "      <td>0.0</td>\n",
       "      <td>0.0</td>\n",
       "      <td>0.0</td>\n",
       "      <td>0.0</td>\n",
       "      <td>0.0</td>\n",
       "      <td>0.0</td>\n",
       "      <td>0.0</td>\n",
       "      <td>0.0</td>\n",
       "      <td>0.0</td>\n",
       "      <td>0.0</td>\n",
       "      <td>0.0</td>\n",
       "      <td>0.0</td>\n",
       "      <td>0.0</td>\n",
       "      <td>0.0</td>\n",
       "      <td>0.0</td>\n",
       "      <td>0.0</td>\n",
       "      <td>0.0</td>\n",
       "      <td>0.0</td>\n",
       "      <td>0.0</td>\n",
       "      <td>0.0</td>\n",
       "      <td>0.0</td>\n",
       "      <td>0.0</td>\n",
       "      <td>0.0</td>\n",
       "      <td>0.0</td>\n",
       "      <td>0.0</td>\n",
       "      <td>0.0</td>\n",
       "      <td>0.0</td>\n",
       "      <td>0.0</td>\n",
       "      <td>0.0</td>\n",
       "      <td>0.0</td>\n",
       "      <td>0.0</td>\n",
       "      <td>0.0</td>\n",
       "      <td>0.0</td>\n",
       "      <td>0.0</td>\n",
       "      <td>0.0</td>\n",
       "      <td>0.0</td>\n",
       "      <td>0.0</td>\n",
       "      <td>...</td>\n",
       "      <td>0.000000</td>\n",
       "      <td>0.000000</td>\n",
       "      <td>0.000000</td>\n",
       "      <td>0.000000</td>\n",
       "      <td>0.0</td>\n",
       "      <td>0.228484</td>\n",
       "      <td>0.0</td>\n",
       "      <td>0.000000</td>\n",
       "      <td>0.000000</td>\n",
       "      <td>0.0</td>\n",
       "      <td>0.000000</td>\n",
       "      <td>0.000000</td>\n",
       "      <td>0.000000</td>\n",
       "      <td>0.000000</td>\n",
       "      <td>0.0</td>\n",
       "      <td>0.000000</td>\n",
       "      <td>0.0</td>\n",
       "      <td>0.000000</td>\n",
       "      <td>0.000000</td>\n",
       "      <td>0.000000</td>\n",
       "      <td>0.0</td>\n",
       "      <td>0.000000</td>\n",
       "      <td>0.0</td>\n",
       "      <td>0.0</td>\n",
       "      <td>0.256152</td>\n",
       "      <td>0.000000</td>\n",
       "      <td>0.000000</td>\n",
       "      <td>0.000000</td>\n",
       "      <td>0.000000</td>\n",
       "      <td>0.000000</td>\n",
       "      <td>0.000000</td>\n",
       "      <td>0.000000</td>\n",
       "      <td>0.250843</td>\n",
       "      <td>0.000000</td>\n",
       "      <td>0.0</td>\n",
       "      <td>0.000000</td>\n",
       "      <td>0.000000</td>\n",
       "      <td>0.213817</td>\n",
       "      <td>0.000000</td>\n",
       "      <td>0.000000</td>\n",
       "      <td>0.0</td>\n",
       "      <td>0.000000</td>\n",
       "      <td>0.0</td>\n",
       "      <td>0.000000</td>\n",
       "      <td>0.000000</td>\n",
       "      <td>0.0</td>\n",
       "      <td>-0.555981</td>\n",
       "      <td>-0.299388</td>\n",
       "      <td>-0.511871</td>\n",
       "      <td>1</td>\n",
       "    </tr>\n",
       "    <tr>\n",
       "      <th>2</th>\n",
       "      <td>0.0</td>\n",
       "      <td>1.0</td>\n",
       "      <td>0.0</td>\n",
       "      <td>0.0</td>\n",
       "      <td>0.0</td>\n",
       "      <td>0.0</td>\n",
       "      <td>0.0</td>\n",
       "      <td>0.0</td>\n",
       "      <td>0.0</td>\n",
       "      <td>0.0</td>\n",
       "      <td>0.0</td>\n",
       "      <td>0.0</td>\n",
       "      <td>0.0</td>\n",
       "      <td>0.0</td>\n",
       "      <td>0.0</td>\n",
       "      <td>0.0</td>\n",
       "      <td>0.0</td>\n",
       "      <td>0.0</td>\n",
       "      <td>0.0</td>\n",
       "      <td>0.0</td>\n",
       "      <td>0.0</td>\n",
       "      <td>0.0</td>\n",
       "      <td>0.0</td>\n",
       "      <td>0.0</td>\n",
       "      <td>0.0</td>\n",
       "      <td>0.0</td>\n",
       "      <td>0.0</td>\n",
       "      <td>0.0</td>\n",
       "      <td>0.0</td>\n",
       "      <td>0.0</td>\n",
       "      <td>0.0</td>\n",
       "      <td>0.0</td>\n",
       "      <td>0.0</td>\n",
       "      <td>0.0</td>\n",
       "      <td>0.0</td>\n",
       "      <td>0.0</td>\n",
       "      <td>0.0</td>\n",
       "      <td>0.0</td>\n",
       "      <td>0.0</td>\n",
       "      <td>0.0</td>\n",
       "      <td>0.0</td>\n",
       "      <td>0.0</td>\n",
       "      <td>0.0</td>\n",
       "      <td>0.0</td>\n",
       "      <td>0.0</td>\n",
       "      <td>0.0</td>\n",
       "      <td>0.0</td>\n",
       "      <td>0.0</td>\n",
       "      <td>0.0</td>\n",
       "      <td>0.0</td>\n",
       "      <td>...</td>\n",
       "      <td>0.000000</td>\n",
       "      <td>0.000000</td>\n",
       "      <td>0.141649</td>\n",
       "      <td>0.000000</td>\n",
       "      <td>0.0</td>\n",
       "      <td>0.000000</td>\n",
       "      <td>0.0</td>\n",
       "      <td>0.172449</td>\n",
       "      <td>0.000000</td>\n",
       "      <td>0.0</td>\n",
       "      <td>0.000000</td>\n",
       "      <td>0.000000</td>\n",
       "      <td>0.000000</td>\n",
       "      <td>0.000000</td>\n",
       "      <td>0.0</td>\n",
       "      <td>0.307225</td>\n",
       "      <td>0.0</td>\n",
       "      <td>0.178193</td>\n",
       "      <td>0.000000</td>\n",
       "      <td>0.000000</td>\n",
       "      <td>0.0</td>\n",
       "      <td>0.000000</td>\n",
       "      <td>0.0</td>\n",
       "      <td>0.0</td>\n",
       "      <td>0.000000</td>\n",
       "      <td>0.000000</td>\n",
       "      <td>0.000000</td>\n",
       "      <td>0.210999</td>\n",
       "      <td>0.209155</td>\n",
       "      <td>0.209619</td>\n",
       "      <td>0.000000</td>\n",
       "      <td>0.000000</td>\n",
       "      <td>0.414527</td>\n",
       "      <td>0.179294</td>\n",
       "      <td>0.0</td>\n",
       "      <td>0.000000</td>\n",
       "      <td>0.000000</td>\n",
       "      <td>0.141336</td>\n",
       "      <td>0.000000</td>\n",
       "      <td>0.000000</td>\n",
       "      <td>0.0</td>\n",
       "      <td>0.000000</td>\n",
       "      <td>0.0</td>\n",
       "      <td>0.000000</td>\n",
       "      <td>0.000000</td>\n",
       "      <td>0.0</td>\n",
       "      <td>-0.555981</td>\n",
       "      <td>-0.299388</td>\n",
       "      <td>1.077583</td>\n",
       "      <td>1</td>\n",
       "    </tr>\n",
       "    <tr>\n",
       "      <th>3</th>\n",
       "      <td>0.0</td>\n",
       "      <td>1.0</td>\n",
       "      <td>0.0</td>\n",
       "      <td>0.0</td>\n",
       "      <td>0.0</td>\n",
       "      <td>0.0</td>\n",
       "      <td>0.0</td>\n",
       "      <td>0.0</td>\n",
       "      <td>0.0</td>\n",
       "      <td>0.0</td>\n",
       "      <td>0.0</td>\n",
       "      <td>0.0</td>\n",
       "      <td>0.0</td>\n",
       "      <td>0.0</td>\n",
       "      <td>0.0</td>\n",
       "      <td>0.0</td>\n",
       "      <td>0.0</td>\n",
       "      <td>0.0</td>\n",
       "      <td>0.0</td>\n",
       "      <td>0.0</td>\n",
       "      <td>0.0</td>\n",
       "      <td>0.0</td>\n",
       "      <td>0.0</td>\n",
       "      <td>0.0</td>\n",
       "      <td>0.0</td>\n",
       "      <td>0.0</td>\n",
       "      <td>0.0</td>\n",
       "      <td>0.0</td>\n",
       "      <td>0.0</td>\n",
       "      <td>0.0</td>\n",
       "      <td>0.0</td>\n",
       "      <td>0.0</td>\n",
       "      <td>0.0</td>\n",
       "      <td>0.0</td>\n",
       "      <td>0.0</td>\n",
       "      <td>0.0</td>\n",
       "      <td>0.0</td>\n",
       "      <td>0.0</td>\n",
       "      <td>0.0</td>\n",
       "      <td>0.0</td>\n",
       "      <td>0.0</td>\n",
       "      <td>0.0</td>\n",
       "      <td>0.0</td>\n",
       "      <td>0.0</td>\n",
       "      <td>0.0</td>\n",
       "      <td>0.0</td>\n",
       "      <td>0.0</td>\n",
       "      <td>0.0</td>\n",
       "      <td>0.0</td>\n",
       "      <td>0.0</td>\n",
       "      <td>...</td>\n",
       "      <td>0.000000</td>\n",
       "      <td>0.000000</td>\n",
       "      <td>0.000000</td>\n",
       "      <td>0.000000</td>\n",
       "      <td>0.0</td>\n",
       "      <td>0.000000</td>\n",
       "      <td>0.0</td>\n",
       "      <td>0.000000</td>\n",
       "      <td>0.000000</td>\n",
       "      <td>0.0</td>\n",
       "      <td>0.000000</td>\n",
       "      <td>0.000000</td>\n",
       "      <td>0.000000</td>\n",
       "      <td>0.000000</td>\n",
       "      <td>0.0</td>\n",
       "      <td>0.257886</td>\n",
       "      <td>0.0</td>\n",
       "      <td>0.000000</td>\n",
       "      <td>0.000000</td>\n",
       "      <td>0.000000</td>\n",
       "      <td>0.0</td>\n",
       "      <td>0.000000</td>\n",
       "      <td>0.0</td>\n",
       "      <td>0.0</td>\n",
       "      <td>0.000000</td>\n",
       "      <td>0.000000</td>\n",
       "      <td>0.000000</td>\n",
       "      <td>0.000000</td>\n",
       "      <td>0.000000</td>\n",
       "      <td>0.000000</td>\n",
       "      <td>0.000000</td>\n",
       "      <td>0.000000</td>\n",
       "      <td>0.000000</td>\n",
       "      <td>0.000000</td>\n",
       "      <td>0.0</td>\n",
       "      <td>0.000000</td>\n",
       "      <td>0.198538</td>\n",
       "      <td>0.000000</td>\n",
       "      <td>0.000000</td>\n",
       "      <td>0.000000</td>\n",
       "      <td>0.0</td>\n",
       "      <td>0.000000</td>\n",
       "      <td>0.0</td>\n",
       "      <td>0.000000</td>\n",
       "      <td>0.226480</td>\n",
       "      <td>0.0</td>\n",
       "      <td>-0.400729</td>\n",
       "      <td>1.575125</td>\n",
       "      <td>1.395473</td>\n",
       "      <td>1</td>\n",
       "    </tr>\n",
       "    <tr>\n",
       "      <th>4</th>\n",
       "      <td>0.0</td>\n",
       "      <td>1.0</td>\n",
       "      <td>0.0</td>\n",
       "      <td>0.0</td>\n",
       "      <td>0.0</td>\n",
       "      <td>0.0</td>\n",
       "      <td>0.0</td>\n",
       "      <td>0.0</td>\n",
       "      <td>0.0</td>\n",
       "      <td>0.0</td>\n",
       "      <td>0.0</td>\n",
       "      <td>0.0</td>\n",
       "      <td>0.0</td>\n",
       "      <td>0.0</td>\n",
       "      <td>0.0</td>\n",
       "      <td>0.0</td>\n",
       "      <td>0.0</td>\n",
       "      <td>0.0</td>\n",
       "      <td>0.0</td>\n",
       "      <td>0.0</td>\n",
       "      <td>0.0</td>\n",
       "      <td>0.0</td>\n",
       "      <td>0.0</td>\n",
       "      <td>0.0</td>\n",
       "      <td>0.0</td>\n",
       "      <td>0.0</td>\n",
       "      <td>0.0</td>\n",
       "      <td>0.0</td>\n",
       "      <td>0.0</td>\n",
       "      <td>0.0</td>\n",
       "      <td>0.0</td>\n",
       "      <td>0.0</td>\n",
       "      <td>0.0</td>\n",
       "      <td>0.0</td>\n",
       "      <td>0.0</td>\n",
       "      <td>0.0</td>\n",
       "      <td>0.0</td>\n",
       "      <td>0.0</td>\n",
       "      <td>0.0</td>\n",
       "      <td>0.0</td>\n",
       "      <td>0.0</td>\n",
       "      <td>0.0</td>\n",
       "      <td>0.0</td>\n",
       "      <td>0.0</td>\n",
       "      <td>0.0</td>\n",
       "      <td>0.0</td>\n",
       "      <td>0.0</td>\n",
       "      <td>0.0</td>\n",
       "      <td>0.0</td>\n",
       "      <td>0.0</td>\n",
       "      <td>...</td>\n",
       "      <td>0.126763</td>\n",
       "      <td>0.113263</td>\n",
       "      <td>0.000000</td>\n",
       "      <td>0.000000</td>\n",
       "      <td>0.0</td>\n",
       "      <td>0.000000</td>\n",
       "      <td>0.0</td>\n",
       "      <td>0.000000</td>\n",
       "      <td>0.000000</td>\n",
       "      <td>0.0</td>\n",
       "      <td>0.081638</td>\n",
       "      <td>0.000000</td>\n",
       "      <td>0.105362</td>\n",
       "      <td>0.128186</td>\n",
       "      <td>0.0</td>\n",
       "      <td>0.000000</td>\n",
       "      <td>0.0</td>\n",
       "      <td>0.000000</td>\n",
       "      <td>0.107062</td>\n",
       "      <td>0.086649</td>\n",
       "      <td>0.0</td>\n",
       "      <td>0.000000</td>\n",
       "      <td>0.0</td>\n",
       "      <td>0.0</td>\n",
       "      <td>0.000000</td>\n",
       "      <td>0.125751</td>\n",
       "      <td>0.218471</td>\n",
       "      <td>0.142200</td>\n",
       "      <td>0.000000</td>\n",
       "      <td>0.000000</td>\n",
       "      <td>0.195683</td>\n",
       "      <td>0.000000</td>\n",
       "      <td>0.111746</td>\n",
       "      <td>0.120832</td>\n",
       "      <td>0.0</td>\n",
       "      <td>0.120993</td>\n",
       "      <td>0.000000</td>\n",
       "      <td>0.000000</td>\n",
       "      <td>0.223069</td>\n",
       "      <td>0.117846</td>\n",
       "      <td>0.0</td>\n",
       "      <td>0.198113</td>\n",
       "      <td>0.0</td>\n",
       "      <td>0.133816</td>\n",
       "      <td>0.181835</td>\n",
       "      <td>0.0</td>\n",
       "      <td>-0.555981</td>\n",
       "      <td>-0.299388</td>\n",
       "      <td>-0.193980</td>\n",
       "      <td>1</td>\n",
       "    </tr>\n",
       "  </tbody>\n",
       "</table>\n",
       "<p>5 rows × 303 columns</p>\n",
       "</div>"
      ],
      "text/plain": [
       "   col_0  col_1  col_2  col_3  col_4  col_5  col_6  col_7  col_8  col_9  col_10  col_11  col_12  col_13  col_14  col_15  col_16  col_17  col_18  col_19  col_20  col_21  col_22  col_23  col_24  col_25  col_26  col_27  col_28  col_29  col_30  col_31  col_32  col_33  col_34  col_35  col_36  col_37  col_38  col_39  col_40  col_41  col_42  col_43  col_44  col_45  col_46  col_47  col_48  col_49  ...   col_253   col_254   col_255   col_256  col_257   col_258  col_259   col_260   col_261  col_262   col_263   col_264   col_265   col_266  col_267   col_268  col_269   col_270   col_271   col_272  col_273   col_274  col_275  col_276   col_277   col_278   col_279   col_280   col_281   col_282   col_283   col_284   col_285   col_286  col_287   col_288   col_289   col_290   col_291   col_292  col_293   col_294  col_295   col_296   col_297  col_298   col_299   col_300   col_301  target\n",
       "0    1.0    0.0    0.0    0.0    0.0    0.0    0.0    0.0    0.0    0.0     0.0     0.0     0.0     0.0     0.0     0.0     0.0     0.0     0.0     0.0     0.0     0.0     0.0     0.0     0.0     0.0     0.0     0.0     0.0     0.0     0.0     0.0     0.0     0.0     0.0     0.0     0.0     0.0     0.0     0.0     0.0     0.0     0.0     0.0     0.0     0.0     0.0     0.0     0.0     0.0  ...  0.000000  0.000000  0.000000  0.171825      0.0  0.137765      0.0  0.000000  0.283609      0.0  0.220992  0.151594  0.000000  0.000000      0.0  0.000000      0.0  0.000000  0.144907  0.000000      0.0  0.158869      0.0      0.0  0.000000  0.170202  0.000000  0.192465  0.190783  0.000000  0.132427  0.176639  0.151246  0.000000      0.0  0.000000  0.000000  0.257843  0.000000  0.000000      0.0  0.000000      0.0  0.000000  0.000000      0.0 -0.452479  0.950288 -0.829762       1\n",
       "1    1.0    0.0    0.0    0.0    0.0    0.0    0.0    0.0    0.0    0.0     0.0     0.0     0.0     0.0     0.0     0.0     0.0     0.0     0.0     0.0     0.0     0.0     0.0     0.0     0.0     0.0     0.0     0.0     0.0     0.0     0.0     0.0     0.0     0.0     0.0     0.0     0.0     0.0     0.0     0.0     0.0     0.0     0.0     0.0     0.0     0.0     0.0     0.0     0.0     0.0  ...  0.000000  0.000000  0.000000  0.000000      0.0  0.228484      0.0  0.000000  0.000000      0.0  0.000000  0.000000  0.000000  0.000000      0.0  0.000000      0.0  0.000000  0.000000  0.000000      0.0  0.000000      0.0      0.0  0.256152  0.000000  0.000000  0.000000  0.000000  0.000000  0.000000  0.000000  0.250843  0.000000      0.0  0.000000  0.000000  0.213817  0.000000  0.000000      0.0  0.000000      0.0  0.000000  0.000000      0.0 -0.555981 -0.299388 -0.511871       1\n",
       "2    0.0    1.0    0.0    0.0    0.0    0.0    0.0    0.0    0.0    0.0     0.0     0.0     0.0     0.0     0.0     0.0     0.0     0.0     0.0     0.0     0.0     0.0     0.0     0.0     0.0     0.0     0.0     0.0     0.0     0.0     0.0     0.0     0.0     0.0     0.0     0.0     0.0     0.0     0.0     0.0     0.0     0.0     0.0     0.0     0.0     0.0     0.0     0.0     0.0     0.0  ...  0.000000  0.000000  0.141649  0.000000      0.0  0.000000      0.0  0.172449  0.000000      0.0  0.000000  0.000000  0.000000  0.000000      0.0  0.307225      0.0  0.178193  0.000000  0.000000      0.0  0.000000      0.0      0.0  0.000000  0.000000  0.000000  0.210999  0.209155  0.209619  0.000000  0.000000  0.414527  0.179294      0.0  0.000000  0.000000  0.141336  0.000000  0.000000      0.0  0.000000      0.0  0.000000  0.000000      0.0 -0.555981 -0.299388  1.077583       1\n",
       "3    0.0    1.0    0.0    0.0    0.0    0.0    0.0    0.0    0.0    0.0     0.0     0.0     0.0     0.0     0.0     0.0     0.0     0.0     0.0     0.0     0.0     0.0     0.0     0.0     0.0     0.0     0.0     0.0     0.0     0.0     0.0     0.0     0.0     0.0     0.0     0.0     0.0     0.0     0.0     0.0     0.0     0.0     0.0     0.0     0.0     0.0     0.0     0.0     0.0     0.0  ...  0.000000  0.000000  0.000000  0.000000      0.0  0.000000      0.0  0.000000  0.000000      0.0  0.000000  0.000000  0.000000  0.000000      0.0  0.257886      0.0  0.000000  0.000000  0.000000      0.0  0.000000      0.0      0.0  0.000000  0.000000  0.000000  0.000000  0.000000  0.000000  0.000000  0.000000  0.000000  0.000000      0.0  0.000000  0.198538  0.000000  0.000000  0.000000      0.0  0.000000      0.0  0.000000  0.226480      0.0 -0.400729  1.575125  1.395473       1\n",
       "4    0.0    1.0    0.0    0.0    0.0    0.0    0.0    0.0    0.0    0.0     0.0     0.0     0.0     0.0     0.0     0.0     0.0     0.0     0.0     0.0     0.0     0.0     0.0     0.0     0.0     0.0     0.0     0.0     0.0     0.0     0.0     0.0     0.0     0.0     0.0     0.0     0.0     0.0     0.0     0.0     0.0     0.0     0.0     0.0     0.0     0.0     0.0     0.0     0.0     0.0  ...  0.126763  0.113263  0.000000  0.000000      0.0  0.000000      0.0  0.000000  0.000000      0.0  0.081638  0.000000  0.105362  0.128186      0.0  0.000000      0.0  0.000000  0.107062  0.086649      0.0  0.000000      0.0      0.0  0.000000  0.125751  0.218471  0.142200  0.000000  0.000000  0.195683  0.000000  0.111746  0.120832      0.0  0.120993  0.000000  0.000000  0.223069  0.117846      0.0  0.198113      0.0  0.133816  0.181835      0.0 -0.555981 -0.299388 -0.193980       1\n",
       "\n",
       "[5 rows x 303 columns]"
      ]
     },
     "execution_count": 17,
     "metadata": {},
     "output_type": "execute_result"
    }
   ],
   "source": [
    "import scipy.sparse\n",
    "\n",
    "df = pd.DataFrame.sparse.from_spmatrix(X)\n",
    "\n",
    "df.columns = ['col_{}'.format(i) for i in range(input_dim)]\n",
    "\n",
    "df = df.fillna(0)\n",
    "\n",
    "df['target']= y\n",
    "\n",
    "df.head()"
   ]
  },
  {
   "cell_type": "markdown",
   "metadata": {
    "application/vnd.databricks.v1+cell": {
     "cellMetadata": {
      "byteLimit": 2048000,
      "rowLimit": 10000
     },
     "inputWidgets": {},
     "nuid": "e0391099-cff7-4139-9be6-2ce4d3e6e94c",
     "showTitle": false,
     "title": ""
    },
    "id": "7Hca9pLmI3ru"
   },
   "source": [
    "## Train with Spark NLP Generic Classifier"
   ]
  },
  {
   "cell_type": "markdown",
   "metadata": {
    "application/vnd.databricks.v1+cell": {
     "cellMetadata": {
      "byteLimit": 2048000,
      "rowLimit": 10000
     },
     "inputWidgets": {},
     "nuid": "fc2fd4cc-f6a1-4315-a4cb-f9861d1339a0",
     "showTitle": false,
     "title": ""
    },
    "id": "B6aaf2dGI3ru"
   },
   "source": [
    "**Building a pipeline**\n",
    "\n",
    "The FeaturesAssembler is used to collect features from different columns. It can collect features from single value columns (anything which can be cast to a float, if casts fails then the value is set to 0), array columns or SparkNLP annotations (if the annotation is an embedding, it takes the embedding, otherwise tries to cast the 'result' field). The output of the transformer is a FEATURE_VECTOR annotation (the numeric vector is in the 'embeddings' field).\n",
    "\n",
    "The GenericClassifierApproach takes FEATURE_VECTOR annotations as input, classifies them and outputs CATEGORY annotations. The operation of the classifier is controled by the following methods:\n",
    "\n",
    "*setEpochsNumber(int)* - Determines how many epochs the model is trained.\n",
    "\n",
    "*setBatchSize(int)* - Sets the batch size during training.\n",
    "\n",
    "*setLearningRate(float)* - Sets the learning rate.\n",
    "\n",
    "*setValidationSplit(float)* - Sets the proportion of examples in the training set used for validation.\n",
    "\n",
    "*setModelFile(string)* - Loads a model from the specified location and uses it instead of the default model.\n",
    "\n",
    "*setFixImbalance(boolean)* - If set to true, it tries to balance the training set by weighting the classes according to the inverse of the examples they have.\n",
    "\n",
    "*setFeatureScaling(string)* - Normalizes the feature factors using the specified method (\"zscore\", \"minmax\" or empty for no normalization).\n",
    "\n",
    "*setOutputLogsPath(string)* - Sets the path to a folder where logs of training progress will be saved. No logs are generated if no path is specified."
   ]
  },
  {
   "cell_type": "code",
   "execution_count": null,
   "metadata": {
    "application/vnd.databricks.v1+cell": {
     "cellMetadata": {
      "byteLimit": 2048000,
      "rowLimit": 10000
     },
     "inputWidgets": {},
     "nuid": "206a4ba2-c7c0-4c65-b413-f199a17ca386",
     "showTitle": false,
     "title": ""
    },
    "id": "GA2ixcW1I3rv",
    "outputId": "79fae49b-e5f0-4bc7-bc13-2b7bf3754590"
   },
   "outputs": [
    {
     "name": "stdout",
     "output_type": "stream",
     "text": [
      "+-------+-------+-------+-------+-------+-------+-------------------+--------------------+-------------------+------+\n",
      "|col_293|col_294|col_295|col_296|col_297|col_298|            col_299|             col_300|            col_301|target|\n",
      "+-------+-------+-------+-------+-------+-------+-------------------+--------------------+-------------------+------+\n",
      "|    0.0|    0.0|    0.0|    0.0|    0.0|    0.0|-0.4524794726808656|  0.9502875792756131|-0.8297616989552165|     1|\n",
      "|    0.0|    0.0|    0.0|    0.0|    0.0|    0.0| -0.555981017719065|-0.29938816657135553|-0.5118709929431844|     1|\n",
      "+-------+-------+-------+-------+-------+-------+-------------------+--------------------+-------------------+------+\n",
      "only showing top 2 rows\n",
      "\n"
     ]
    }
   ],
   "source": [
    "spark_df = spark.createDataFrame(df)\n",
    "spark_df.select(spark_df.columns[-10:]).show(2)"
   ]
  },
  {
   "cell_type": "code",
   "execution_count": null,
   "metadata": {
    "application/vnd.databricks.v1+cell": {
     "cellMetadata": {
      "byteLimit": 2048000,
      "rowLimit": 10000
     },
     "inputWidgets": {},
     "nuid": "34869e9d-de62-4dc5-a7d0-5ada9c2d2f83",
     "showTitle": false,
     "title": ""
    },
    "id": "wHQkfrcBI3rv",
    "outputId": "b11ee4c7-f924-4b43-aa21-b4bb7be0ec6d"
   },
   "outputs": [
    {
     "name": "stdout",
     "output_type": "stream",
     "text": [
      "Training Dataset Count: 9169\n",
      "Test Dataset Count: 2368\n"
     ]
    }
   ],
   "source": [
    "(training_data, test_data) = spark_df.randomSplit([0.8, 0.2], seed = 100)\n",
    "\n",
    "print(\"Training Dataset Count: \" + str(training_data.count()))\n",
    "print(\"Test Dataset Count: \" + str(test_data.count()))"
   ]
  },
  {
   "cell_type": "markdown",
   "metadata": {
    "application/vnd.databricks.v1+cell": {
     "cellMetadata": {
      "byteLimit": 2048000,
      "rowLimit": 10000
     },
     "inputWidgets": {},
     "nuid": "f059d942-31f0-4e39-83f6-15e47842e264",
     "showTitle": false,
     "title": ""
    },
    "id": "D0zmFqzwI3rv"
   },
   "source": [
    "Training with a custom graph"
   ]
  },
  {
   "cell_type": "code",
   "execution_count": null,
   "metadata": {
    "application/vnd.databricks.v1+cell": {
     "cellMetadata": {
      "byteLimit": 2048000,
      "rowLimit": 10000
     },
     "inputWidgets": {},
     "nuid": "6aba9495-ff96-4e92-9c5e-913b41d75416",
     "showTitle": false,
     "title": ""
    },
    "id": "CTtxRBfoI3rw"
   },
   "outputs": [
    {
     "data": {
      "text/plain": [
       "'\\n!wget -q https://raw.githubusercontent.com/JohnSnowLabs/spark-nlp-workshop/master/tutorials/Certification_Trainings/Healthcare/generic_classifier_graph/pet.in1202D.out2.pb -P /databricks/driver/gc_graph\\n'"
      ]
     },
     "execution_count": 20,
     "metadata": {},
     "output_type": "execute_result"
    }
   ],
   "source": [
    "#or just use the one we already have in the repo\n",
    "'''\n",
    "!wget -q https://raw.githubusercontent.com/JohnSnowLabs/spark-nlp-workshop/master/tutorials/Certification_Trainings/Healthcare/generic_classifier_graph/pet.in1202D.out2.pb -P /databricks/driver/gc_graph\n",
    "'''"
   ]
  },
  {
   "cell_type": "code",
   "execution_count": null,
   "metadata": {
    "application/vnd.databricks.v1+cell": {
     "cellMetadata": {
      "byteLimit": 2048000,
      "rowLimit": 10000
     },
     "inputWidgets": {},
     "nuid": "3c32371b-86f8-492f-9c8a-a0536961c310",
     "showTitle": false,
     "title": ""
    },
    "id": "RwkA_ugpI3rw",
    "outputId": "39c873a5-2aed-4295-b98b-5a7da9faaf8e"
   },
   "outputs": [
    {
     "data": {
      "text/html": [
       "<style scoped>\n",
       "  .ansiout {\n",
       "    display: block;\n",
       "    unicode-bidi: embed;\n",
       "    white-space: pre-wrap;\n",
       "    word-wrap: break-word;\n",
       "    word-break: break-all;\n",
       "    font-family: \"Source Code Pro\", \"Menlo\", monospace;;\n",
       "    font-size: 13px;\n",
       "    color: #555;\n",
       "    margin-left: 4px;\n",
       "    line-height: 19px;\n",
       "  }\n",
       "</style>\n",
       "<div class=\"ansiout\">res0: Boolean = true\n",
       "</div>"
      ]
     },
     "metadata": {
      "application/vnd.databricks.v1+output": {
       "addedWidgets": {},
       "arguments": {},
       "data": "<div class=\"ansiout\">res0: Boolean = true\n</div>",
       "datasetInfos": [],
       "metadata": {
        "isDbfsCommandResult": false
       },
       "removedWidgets": [],
       "type": "html"
      }
     },
     "output_type": "display_data"
    }
   ],
   "source": [
    "%fs mkdirs file:/dbfs/gc_graph"
   ]
  },
  {
   "cell_type": "code",
   "execution_count": null,
   "metadata": {
    "application/vnd.databricks.v1+cell": {
     "cellMetadata": {
      "byteLimit": 2048000,
      "rowLimit": 10000
     },
     "inputWidgets": {},
     "nuid": "31f1efeb-65a1-4ed6-8208-d169e0e76c6d",
     "showTitle": false,
     "title": ""
    },
    "id": "BEfjQZV9I3rw",
    "outputId": "140459f0-e6cf-4b37-cb77-23f73461b999"
   },
   "outputs": [
    {
     "data": {
      "text/html": [
       "<style scoped>\n",
       "  .ansiout {\n",
       "    display: block;\n",
       "    unicode-bidi: embed;\n",
       "    white-space: pre-wrap;\n",
       "    word-wrap: break-word;\n",
       "    word-break: break-all;\n",
       "    font-family: \"Source Code Pro\", \"Menlo\", monospace;;\n",
       "    font-size: 13px;\n",
       "    color: #555;\n",
       "    margin-left: 4px;\n",
       "    line-height: 19px;\n",
       "  }\n",
       "</style>\n",
       "<div class=\"ansiout\">res1: Boolean = true\n",
       "</div>"
      ]
     },
     "metadata": {
      "application/vnd.databricks.v1+output": {
       "addedWidgets": {},
       "arguments": {},
       "data": "<div class=\"ansiout\">res1: Boolean = true\n</div>",
       "datasetInfos": [],
       "metadata": {
        "isDbfsCommandResult": false
       },
       "removedWidgets": [],
       "type": "html"
      }
     },
     "output_type": "display_data"
    }
   ],
   "source": [
    "%fs mkdirs file:/dbfs/generic_logs"
   ]
  },
  {
   "cell_type": "markdown",
   "metadata": {
    "application/vnd.databricks.v1+cell": {
     "cellMetadata": {
      "byteLimit": 2048000,
      "rowLimit": 10000
     },
     "inputWidgets": {},
     "nuid": "ebbcb949-ed47-4b03-9e2d-999e429f5bab",
     "showTitle": false,
     "title": ""
    },
    "id": "wihiDXVqI3rw"
   },
   "source": [
    "Graph and log folder has been created. <br/>\n",
    "We will create a custom graph and train the model. <br/>"
   ]
  },
  {
   "cell_type": "code",
   "execution_count": null,
   "metadata": {
    "application/vnd.databricks.v1+cell": {
     "cellMetadata": {
      "byteLimit": 2048000,
      "rowLimit": 10000
     },
     "inputWidgets": {},
     "nuid": "b08aa32a-9b9a-4615-9fc9-adfc35e16b04",
     "showTitle": false,
     "title": ""
    }
   },
   "outputs": [
    {
     "name": "stdout",
     "output_type": "stream",
     "text": [
      "\r\n",
      "\u001b[1m[\u001b[0m\u001b[34;49mnotice\u001b[0m\u001b[1;39;49m]\u001b[0m\u001b[39;49m A new release of pip available: \u001b[0m\u001b[31;49m22.2.2\u001b[0m\u001b[39;49m -> \u001b[0m\u001b[32;49m23.2.1\u001b[0m\r\n",
      "\u001b[1m[\u001b[0m\u001b[34;49mnotice\u001b[0m\u001b[1;39;49m]\u001b[0m\u001b[39;49m To update, run: \u001b[0m\u001b[32;49mpip install --upgrade pip\u001b[0m\r\n",
      "\r\n",
      "\u001b[1m[\u001b[0m\u001b[34;49mnotice\u001b[0m\u001b[1;39;49m]\u001b[0m\u001b[39;49m A new release of pip available: \u001b[0m\u001b[31;49m22.2.2\u001b[0m\u001b[39;49m -> \u001b[0m\u001b[32;49m23.2.1\u001b[0m\r\n",
      "\u001b[1m[\u001b[0m\u001b[34;49mnotice\u001b[0m\u001b[1;39;49m]\u001b[0m\u001b[39;49m To update, run: \u001b[0m\u001b[32;49mpip install --upgrade pip\u001b[0m\r\n"
     ]
    }
   ],
   "source": [
    "#!pip install -q tensorflow==2.12.0\n",
    "#!pip install -q tensorflow-addons"
   ]
  },
  {
   "cell_type": "code",
   "execution_count": null,
   "metadata": {
    "application/vnd.databricks.v1+cell": {
     "cellMetadata": {
      "byteLimit": 2048000,
      "rowLimit": 10000
     },
     "inputWidgets": {},
     "nuid": "977ca63b-79b6-4416-be3e-55e9ed868234",
     "showTitle": false,
     "title": ""
    },
    "id": "la3mw2oEI3rx",
    "outputId": "351708b7-94cd-48dd-be92-021b18644627"
   },
   "outputs": [
    {
     "name": "stderr",
     "output_type": "stream",
     "text": [
      "WARNING:tensorflow:From /local_disk0/.ephemeral_nfs/cluster_libraries/python/lib/python3.10/site-packages/keras/layers/normalization/batch_normalization.py:581: _colocate_with (from tensorflow.python.framework.ops) is deprecated and will be removed in a future version.\n",
      "Instructions for updating:\n",
      "Colocations handled automatically by placer.\n"
     ]
    },
    {
     "name": "stdout",
     "output_type": "stream",
     "text": [
      "generic_classifier graph exported to file:/dbfs/gc_graph/gcl.302.2.pb\n"
     ]
    }
   ],
   "source": [
    "DL_params = {\"input_dim\": input_dim, \n",
    "             \"output_dim\": y.nunique(), \n",
    "             \"hidden_layers\": [300, 200, 100], \n",
    "             \"hidden_act\": \"tanh\",\n",
    "             'hidden_act_l2':1,\n",
    "             'batch_norm':1}\n",
    "\n",
    "\n",
    "medical.tf_graph.build(\"generic_classifier\",\n",
    "               build_params=DL_params, \n",
    "               model_location=\"file:/dbfs/gc_graph\",\n",
    "               model_filename=\"auto\")"
   ]
  },
  {
   "cell_type": "code",
   "execution_count": null,
   "metadata": {
    "application/vnd.databricks.v1+cell": {
     "cellMetadata": {
      "byteLimit": 2048000,
      "rowLimit": 10000
     },
     "inputWidgets": {},
     "nuid": "e3b8145d-a749-445e-830e-620a479ab6b2",
     "showTitle": false,
     "title": ""
    },
    "id": "kWQ9rUToI3rx",
    "outputId": "e4895998-e4a5-4fc9-c120-b5957dbb16b7"
   },
   "outputs": [],
   "source": [
    "#from sparknlp_jsl.base import *\n",
    "\n",
    "\n",
    "features_asm = medical.FeaturesAssembler()\\\n",
    "      .setInputCols(['col_{}'.format(i) for i in range(X.shape[1])])\\\n",
    "      .setOutputCol(\"features\")\n",
    "\n",
    "gen_clf = medical.GenericClassifierApproach()\\\n",
    "    .setLabelColumn(\"target\")\\\n",
    "    .setInputCols([\"features\"])\\\n",
    "    .setOutputCol(\"prediction\")\\\n",
    "    .setModelFile('file:/dbfs/gc_graph/gcl.302.2.pb')\\\n",
    "    .setEpochsNumber(50)\\\n",
    "    .setBatchSize(100)\\\n",
    "    .setFeatureScaling(\"zscore\")\\\n",
    "    .setFixImbalance(True)\\\n",
    "    .setLearningRate(0.001)\\\n",
    "    .setOutputLogsPath(\"dbfs:/generic_logs\")\\\n",
    "    .setValidationSplit(0.2) # keep 20% of the data for validation purposes\n",
    "\n",
    "clf_Pipeline = nlp.Pipeline(stages=[\n",
    "    features_asm, \n",
    "    gen_clf])"
   ]
  },
  {
   "cell_type": "code",
   "execution_count": null,
   "metadata": {
    "application/vnd.databricks.v1+cell": {
     "cellMetadata": {
      "byteLimit": 2048000,
      "rowLimit": 10000
     },
     "inputWidgets": {},
     "nuid": "dff22e0a-e39e-4cc6-8138-6580cf78629d",
     "showTitle": false,
     "title": ""
    },
    "id": "RbD3kxGHI3ry",
    "outputId": "30ef9b78-b3c0-4853-ca41-d96e9103f0a3"
   },
   "outputs": [],
   "source": [
    "clf_model = clf_Pipeline.fit(training_data)"
   ]
  },
  {
   "cell_type": "markdown",
   "metadata": {
    "application/vnd.databricks.v1+cell": {
     "cellMetadata": {
      "byteLimit": 2048000,
      "rowLimit": 10000
     },
     "inputWidgets": {},
     "nuid": "48691c93-125b-4d8e-97ee-d28877ce35a6",
     "showTitle": false,
     "title": ""
    },
    "id": "avkdhKr6I3rz"
   },
   "source": [
    "Getting predictions"
   ]
  },
  {
   "cell_type": "code",
   "execution_count": null,
   "metadata": {
    "application/vnd.databricks.v1+cell": {
     "cellMetadata": {
      "byteLimit": 2048000,
      "rowLimit": 10000
     },
     "inputWidgets": {},
     "nuid": "de530d22-8dc0-4c66-9c60-818a72880514",
     "showTitle": false,
     "title": ""
    },
    "id": "HdAh0aS1I3rz",
    "outputId": "91f8aa2d-29a0-474a-c693-121ec9d3371d"
   },
   "outputs": [],
   "source": [
    "pred_df = clf_model.transform(test_data)"
   ]
  },
  {
   "cell_type": "code",
   "execution_count": null,
   "metadata": {
    "application/vnd.databricks.v1+cell": {
     "cellMetadata": {
      "byteLimit": 2048000,
      "rowLimit": 10000
     },
     "inputWidgets": {},
     "nuid": "7ddaddad-bcb8-43a5-b74f-ae0895180ccb",
     "showTitle": false,
     "title": ""
    },
    "id": "JW-ZCgSLI3rz",
    "outputId": "4225ec53-ae27-4798-f29a-11a845640969"
   },
   "outputs": [
    {
     "name": "stdout",
     "output_type": "stream",
     "text": [
      "+------+------+\n",
      "|target|result|\n",
      "+------+------+\n",
      "|     0|   [1]|\n",
      "|     1|   [0]|\n",
      "|     1|   [1]|\n",
      "|     1|   [1]|\n",
      "|     1|   [1]|\n",
      "|     1|   [1]|\n",
      "|     0|   [1]|\n",
      "|     1|   [1]|\n",
      "|     1|   [1]|\n",
      "|     1|   [1]|\n",
      "|     1|   [1]|\n",
      "|     1|   [1]|\n",
      "|     0|   [0]|\n",
      "|     1|   [1]|\n",
      "|     0|   [0]|\n",
      "|     1|   [1]|\n",
      "|     1|   [1]|\n",
      "|     1|   [1]|\n",
      "|     0|   [0]|\n",
      "|     1|   [1]|\n",
      "+------+------+\n",
      "only showing top 20 rows\n",
      "\n"
     ]
    }
   ],
   "source": [
    "pred_df.select('target','prediction.result').show()"
   ]
  },
  {
   "cell_type": "code",
   "execution_count": null,
   "metadata": {
    "application/vnd.databricks.v1+cell": {
     "cellMetadata": {
      "byteLimit": 2048000,
      "rowLimit": 10000
     },
     "inputWidgets": {},
     "nuid": "6304e396-c975-4153-a95c-6bbffc240938",
     "showTitle": false,
     "title": ""
    },
    "id": "_klzhdcDI3rz",
    "outputId": "0a17eb11-d0d5-4dff-dfe5-4a513b7a1936"
   },
   "outputs": [],
   "source": [
    "preds_df = pred_df.select('target','prediction.result').toPandas()\n",
    "\n",
    "# Let's explode the array and get the item(s) inside of result column out\n",
    "preds_df['result'] = preds_df['result'].apply(lambda x : int(x[0]))"
   ]
  },
  {
   "cell_type": "code",
   "execution_count": null,
   "metadata": {
    "application/vnd.databricks.v1+cell": {
     "cellMetadata": {
      "byteLimit": 2048000,
      "rowLimit": 10000
     },
     "inputWidgets": {},
     "nuid": "6e35c94c-e76d-42b0-91af-6186d91a4856",
     "showTitle": false,
     "title": ""
    },
    "id": "OWLMFkLGI3r0",
    "outputId": "fd76a9b5-a251-49ae-de89-2f008b1bc6ae"
   },
   "outputs": [
    {
     "name": "stdout",
     "output_type": "stream",
     "text": [
      "              precision    recall  f1-score   support\n",
      "\n",
      "           0     0.4548    0.5125    0.4819       560\n",
      "           1     0.8428    0.8097    0.8260      1808\n",
      "\n",
      "    accuracy                         0.7394      2368\n",
      "   macro avg     0.6488    0.6611    0.6539      2368\n",
      "weighted avg     0.7511    0.7394    0.7446      2368\n",
      "\n",
      "0.7394425675675675\n"
     ]
    }
   ],
   "source": [
    "# We are going to use sklearn to evalute the results on test dataset\n",
    "from sklearn.metrics import classification_report, accuracy_score\n",
    "\n",
    "print (classification_report(preds_df['result'], preds_df['target'], digits=4))\n",
    "\n",
    "print (accuracy_score(preds_df['result'], preds_df['target']))"
   ]
  },
  {
   "cell_type": "markdown",
   "metadata": {
    "application/vnd.databricks.v1+cell": {
     "cellMetadata": {
      "byteLimit": 2048000,
      "rowLimit": 10000
     },
     "inputWidgets": {},
     "nuid": "63489f49-5764-43b5-b150-0e3f39e299d7",
     "showTitle": false,
     "title": ""
    }
   },
   "source": [
    "## Create a custom DL architecture with TF"
   ]
  },
  {
   "cell_type": "code",
   "execution_count": null,
   "metadata": {
    "application/vnd.databricks.v1+cell": {
     "cellMetadata": {
      "byteLimit": 2048000,
      "rowLimit": 10000
     },
     "inputWidgets": {},
     "nuid": "8ed44fb7-ba2f-4bf2-8915-b77083ece780",
     "showTitle": false,
     "title": ""
    }
   },
   "outputs": [],
   "source": [
    "graph_folder = \"gc_graph\"\n",
    "\n",
    "gc_graph_builder = medical.TFGraphBuilder()\\\n",
    "    .setModelName(\"generic_classifier\")\\\n",
    "    .setInputCols([\"features\"])\\\n",
    "    .setLabelColumn(\"target\")\\\n",
    "    .setHiddenLayers([300, 200, 100])\\\n",
    "    .setHiddenAct(\"tanh\")\\\n",
    "    .setHiddenActL2(True)\\\n",
    "    .setBatchNorm(True)\\\n",
    "    .setGraphFolder(graph_folder)\\\n",
    "    .setGraphFile(\"gcf_graph.pb\")"
   ]
  },
  {
   "cell_type": "code",
   "execution_count": null,
   "metadata": {
    "application/vnd.databricks.v1+cell": {
     "cellMetadata": {
      "byteLimit": 2048000,
      "rowLimit": 10000
     },
     "inputWidgets": {},
     "nuid": "e309ca04-ca60-4042-8502-ef2bbd51f14b",
     "showTitle": false,
     "title": ""
    }
   },
   "outputs": [
    {
     "data": {
      "text/plain": [
       "'\\n# or just use the one we already have in the repo\\n\\n!wget -q https://raw.githubusercontent.com/JohnSnowLabs/spark-nlp-workshop/master/tutorials/Certification_Trainings/Healthcare/generic_classifier_graph/pet.in1202D.out2.pb -P /content/gc_graph\\n'"
      ]
     },
     "execution_count": 30,
     "metadata": {},
     "output_type": "execute_result"
    }
   ],
   "source": [
    "'''\n",
    "# Create custom graph\n",
    "\n",
    "# If this method is used, graph folder should be added to training\n",
    "# model as `.setGraphFolder(graph_folder_path)`\n",
    "\n",
    "!mkdir gc_graph\n",
    "\n",
    "medical.tf_graph.print_model_params(\"generic_classifier\")\n",
    "\n",
    "DL_params = {\"input_dim\": input_dim,\n",
    "             \"output_dim\": y.nunique(),\n",
    "             \"hidden_layers\": [300, 200, 100],\n",
    "             \"hidden_act\": \"tanh\",\n",
    "             'hidden_act_l2':1,\n",
    "             'batch_norm':1}\n",
    "\n",
    "\n",
    "medical.tf_graph.build(\"generic_classifier\",\n",
    "               build_params=DL_params,\n",
    "               model_location=\"/content/gc_graph\",\n",
    "               model_filename=\"auto\")\n",
    "'''\n",
    "\n",
    "'''\n",
    "# or just use the one we already have in the repo\n",
    "\n",
    "!wget -q https://raw.githubusercontent.com/JohnSnowLabs/spark-nlp-workshop/master/tutorials/Certification_Trainings/Healthcare/generic_classifier_graph/pet.in1202D.out2.pb -P /content/gc_graph\n",
    "'''"
   ]
  },
  {
   "cell_type": "code",
   "execution_count": null,
   "metadata": {
    "application/vnd.databricks.v1+cell": {
     "cellMetadata": {
      "byteLimit": 2048000,
      "rowLimit": 10000
     },
     "inputWidgets": {},
     "nuid": "6b656845-a193-4c3f-8ec0-3fcaf8fc4ae1",
     "showTitle": false,
     "title": ""
    }
   },
   "outputs": [
    {
     "name": "stdout",
     "output_type": "stream",
     "text": [
      "mkdir: cannot create directory ‘logs’: File exists\r\n"
     ]
    }
   ],
   "source": [
    "!mkdir logs\n",
    "\n",
    "features_asm = medical.FeaturesAssembler()\\\n",
    "    .setInputCols(['col_{}'.format(i) for i in range(X.shape[1])])\\\n",
    "    .setOutputCol(\"features\")\n",
    "\n",
    "gen_clf = medical.GenericClassifierApproach()\\\n",
    "    .setLabelColumn(\"target\")\\\n",
    "    .setInputCols(\"features\")\\\n",
    "    .setOutputCol(\"prediction\")\\\n",
    "    .setModelFile(f\"{graph_folder}/gcf_graph.pb\")\\\n",
    "    .setEpochsNumber(50)\\\n",
    "    .setBatchSize(100)\\\n",
    "    .setFeatureScaling(\"zscore\")\\\n",
    "    .setFixImbalance(True)\\\n",
    "    .setLearningRate(0.002)\\\n",
    "    .setOutputLogsPath(\"logs\")\\\n",
    "    .setValidationSplit(0.2) # keep 20% of the data for validation purposes\n",
    "\n",
    "clf_Pipeline = nlp.Pipeline(stages=[\n",
    "    features_asm,\n",
    "    gc_graph_builder,\n",
    "    gen_clf])\n"
   ]
  },
  {
   "cell_type": "code",
   "execution_count": null,
   "metadata": {
    "application/vnd.databricks.v1+cell": {
     "cellMetadata": {
      "byteLimit": 2048000,
      "rowLimit": 10000
     },
     "inputWidgets": {},
     "nuid": "10bd27e2-e2bc-49d4-910a-23480f2c643d",
     "showTitle": false,
     "title": ""
    }
   },
   "outputs": [
    {
     "name": "stdout",
     "output_type": "stream",
     "text": [
      "TF Graph Builder configuration:\n",
      "Model name: generic_classifier\n",
      "Graph folder: gc_graph\n",
      "Graph file name: gcf_graph.pb\n",
      "Build params: {'input_dim': 302, 'output_dim': 2, 'hidden_layers': [300, 200, 100], 'hidden_act': 'tanh', 'hidden_act_l2': True, 'batch_norm': True}\n",
      "generic_classifier graph exported to gc_graph/gcf_graph.pb\n",
      "CPU times: user 1.29 s, sys: 71.9 ms, total: 1.36 s\n",
      "Wall time: 19.4 s\n"
     ]
    }
   ],
   "source": [
    "%%time\n",
    "\n",
    "# train 50 epochs (takes around 1 min)\n",
    "\n",
    "clf_model = clf_Pipeline.fit(training_data)"
   ]
  },
  {
   "cell_type": "code",
   "execution_count": null,
   "metadata": {
    "application/vnd.databricks.v1+cell": {
     "cellMetadata": {
      "byteLimit": 2048000,
      "rowLimit": 10000
     },
     "inputWidgets": {},
     "nuid": "3ac11acd-8d7b-448f-90ad-34ae1f6bdc27",
     "showTitle": false,
     "title": ""
    },
    "jupyter": {
     "outputs_hidden": true
    }
   },
   "outputs": [
    {
     "name": "stdout",
     "output_type": "stream",
     "text": [
      "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\n",
      "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\n",
      "\n",
      "*** WARNING: max output size exceeded, skipping output. ***\n",
      "\n",
      "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\n",
      "\n"
     ]
    }
   ],
   "source": [
    "import os\n",
    "log_file_name = os.listdir(\"logs\")[0]\n",
    "\n",
    "with open(\"logs/\"+log_file_name, \"r\") as log_file :\n",
    "    print(log_file.read())"
   ]
  },
  {
   "cell_type": "code",
   "execution_count": null,
   "metadata": {
    "application/vnd.databricks.v1+cell": {
     "cellMetadata": {
      "byteLimit": 2048000,
      "rowLimit": 10000
     },
     "inputWidgets": {},
     "nuid": "f6b6cf2f-836d-49d1-aefd-dba01a29fb11",
     "showTitle": false,
     "title": ""
    }
   },
   "outputs": [],
   "source": [
    "pred_df = clf_model.transform(test_data)"
   ]
  },
  {
   "cell_type": "code",
   "execution_count": null,
   "metadata": {
    "application/vnd.databricks.v1+cell": {
     "cellMetadata": {
      "byteLimit": 2048000,
      "rowLimit": 10000
     },
     "inputWidgets": {},
     "nuid": "63e38a1b-7467-4ef2-b767-f66c1a35fecf",
     "showTitle": false,
     "title": ""
    }
   },
   "outputs": [
    {
     "name": "stdout",
     "output_type": "stream",
     "text": [
      "+------+------+\n",
      "|target|result|\n",
      "+------+------+\n",
      "|     0|   [0]|\n",
      "|     1|   [1]|\n",
      "|     1|   [1]|\n",
      "|     1|   [1]|\n",
      "|     1|   [1]|\n",
      "|     1|   [1]|\n",
      "|     0|   [1]|\n",
      "|     1|   [1]|\n",
      "|     1|   [1]|\n",
      "|     1|   [0]|\n",
      "|     1|   [1]|\n",
      "|     1|   [1]|\n",
      "|     0|   [0]|\n",
      "|     1|   [1]|\n",
      "|     0|   [0]|\n",
      "|     1|   [1]|\n",
      "|     1|   [1]|\n",
      "|     1|   [1]|\n",
      "|     0|   [0]|\n",
      "|     1|   [1]|\n",
      "+------+------+\n",
      "only showing top 20 rows\n",
      "\n"
     ]
    }
   ],
   "source": [
    "pred_df.select('target','prediction.result').show()"
   ]
  },
  {
   "cell_type": "code",
   "execution_count": null,
   "metadata": {
    "application/vnd.databricks.v1+cell": {
     "cellMetadata": {
      "byteLimit": 2048000,
      "rowLimit": 10000
     },
     "inputWidgets": {},
     "nuid": "431f485c-5751-4af1-9189-ae3af748846e",
     "showTitle": false,
     "title": ""
    }
   },
   "outputs": [],
   "source": [
    "preds_df = pred_df.select('target','prediction.result').toPandas()\n",
    "\n",
    "# Let's explode the array and get the item(s) inside of result column out\n",
    "preds_df['result'] = preds_df['result'].apply(lambda x : int(x[0]))\n"
   ]
  },
  {
   "cell_type": "code",
   "execution_count": null,
   "metadata": {
    "application/vnd.databricks.v1+cell": {
     "cellMetadata": {
      "byteLimit": 2048000,
      "rowLimit": 10000
     },
     "inputWidgets": {},
     "nuid": "b8ad5693-608f-4c13-ba80-6bf883982b6b",
     "showTitle": false,
     "title": ""
    }
   },
   "outputs": [
    {
     "data": {
      "text/html": [
       "<div>\n",
       "<style scoped>\n",
       "    .dataframe tbody tr th:only-of-type {\n",
       "        vertical-align: middle;\n",
       "    }\n",
       "\n",
       "    .dataframe tbody tr th {\n",
       "        vertical-align: top;\n",
       "    }\n",
       "\n",
       "    .dataframe thead th {\n",
       "        text-align: right;\n",
       "    }\n",
       "</style>\n",
       "<table border=\"1\" class=\"dataframe\">\n",
       "  <thead>\n",
       "    <tr style=\"text-align: right;\">\n",
       "      <th></th>\n",
       "      <th>target</th>\n",
       "      <th>result</th>\n",
       "    </tr>\n",
       "  </thead>\n",
       "  <tbody>\n",
       "    <tr>\n",
       "      <th>935</th>\n",
       "      <td>1</td>\n",
       "      <td>1</td>\n",
       "    </tr>\n",
       "    <tr>\n",
       "      <th>231</th>\n",
       "      <td>1</td>\n",
       "      <td>1</td>\n",
       "    </tr>\n",
       "    <tr>\n",
       "      <th>1224</th>\n",
       "      <td>1</td>\n",
       "      <td>1</td>\n",
       "    </tr>\n",
       "    <tr>\n",
       "      <th>2307</th>\n",
       "      <td>1</td>\n",
       "      <td>1</td>\n",
       "    </tr>\n",
       "    <tr>\n",
       "      <th>536</th>\n",
       "      <td>1</td>\n",
       "      <td>1</td>\n",
       "    </tr>\n",
       "    <tr>\n",
       "      <th>39</th>\n",
       "      <td>1</td>\n",
       "      <td>1</td>\n",
       "    </tr>\n",
       "    <tr>\n",
       "      <th>934</th>\n",
       "      <td>1</td>\n",
       "      <td>1</td>\n",
       "    </tr>\n",
       "    <tr>\n",
       "      <th>63</th>\n",
       "      <td>1</td>\n",
       "      <td>1</td>\n",
       "    </tr>\n",
       "    <tr>\n",
       "      <th>2216</th>\n",
       "      <td>0</td>\n",
       "      <td>0</td>\n",
       "    </tr>\n",
       "    <tr>\n",
       "      <th>419</th>\n",
       "      <td>0</td>\n",
       "      <td>1</td>\n",
       "    </tr>\n",
       "  </tbody>\n",
       "</table>\n",
       "</div>"
      ],
      "text/plain": [
       "      target  result\n",
       "935        1       1\n",
       "231        1       1\n",
       "1224       1       1\n",
       "2307       1       1\n",
       "536        1       1\n",
       "39         1       1\n",
       "934        1       1\n",
       "63         1       1\n",
       "2216       0       0\n",
       "419        0       1"
      ]
     },
     "execution_count": 37,
     "metadata": {},
     "output_type": "execute_result"
    }
   ],
   "source": [
    "preds_df.sample(10)"
   ]
  },
  {
   "cell_type": "code",
   "execution_count": null,
   "metadata": {
    "application/vnd.databricks.v1+cell": {
     "cellMetadata": {
      "byteLimit": 2048000,
      "rowLimit": 10000
     },
     "inputWidgets": {},
     "nuid": "27b85f06-1aaf-4502-9389-82cfd6980cac",
     "showTitle": false,
     "title": ""
    }
   },
   "outputs": [
    {
     "name": "stdout",
     "output_type": "stream",
     "text": [
      "              precision    recall  f1-score   support\n",
      "\n",
      "           0     0.5257    0.4707    0.4967       631\n",
      "           1     0.8148    0.8457    0.8299      1737\n",
      "\n",
      "    accuracy                         0.7458      2368\n",
      "   macro avg     0.6702    0.6582    0.6633      2368\n",
      "weighted avg     0.7377    0.7458    0.7411      2368\n",
      "\n",
      "0.745777027027027\n"
     ]
    }
   ],
   "source": [
    "# We are going to use sklearn to evalute the results on test dataset\n",
    "from sklearn.metrics import classification_report, accuracy_score\n",
    "\n",
    "print (classification_report(preds_df['target'], preds_df['result'], digits=4))\n",
    "\n",
    "print (accuracy_score(preds_df['target'], preds_df['result']))\n"
   ]
  },
  {
   "cell_type": "markdown",
   "metadata": {
    "application/vnd.databricks.v1+cell": {
     "cellMetadata": {
      "byteLimit": 2048000,
      "rowLimit": 10000
     },
     "inputWidgets": {},
     "nuid": "d7ce7022-b696-4723-b04c-644900553aa5",
     "showTitle": false,
     "title": ""
    }
   },
   "source": [
    "## get prediction for random input"
   ]
  },
  {
   "cell_type": "code",
   "execution_count": null,
   "metadata": {
    "application/vnd.databricks.v1+cell": {
     "cellMetadata": {
      "byteLimit": 2048000,
      "rowLimit": 10000
     },
     "inputWidgets": {},
     "nuid": "f40c4f5b-2b80-46f0-8054-52e8dfa26718",
     "showTitle": false,
     "title": ""
    }
   },
   "outputs": [
    {
     "data": {
      "text/html": [
       "<div>\n",
       "<style scoped>\n",
       "    .dataframe tbody tr th:only-of-type {\n",
       "        vertical-align: middle;\n",
       "    }\n",
       "\n",
       "    .dataframe tbody tr th {\n",
       "        vertical-align: top;\n",
       "    }\n",
       "\n",
       "    .dataframe thead th {\n",
       "        text-align: right;\n",
       "    }\n",
       "</style>\n",
       "<table border=\"1\" class=\"dataframe\">\n",
       "  <thead>\n",
       "    <tr style=\"text-align: right;\">\n",
       "      <th></th>\n",
       "      <th>Type</th>\n",
       "      <th>Age</th>\n",
       "      <th>Breed1</th>\n",
       "      <th>Gender</th>\n",
       "      <th>Color1</th>\n",
       "      <th>Color2</th>\n",
       "      <th>MaturitySize</th>\n",
       "      <th>FurLength</th>\n",
       "      <th>Vaccinated</th>\n",
       "      <th>Sterilized</th>\n",
       "      <th>Health</th>\n",
       "      <th>Fee</th>\n",
       "      <th>Description</th>\n",
       "      <th>PhotoAmt</th>\n",
       "      <th>target</th>\n",
       "    </tr>\n",
       "  </thead>\n",
       "  <tbody>\n",
       "    <tr>\n",
       "      <th>0</th>\n",
       "      <td>Dog</td>\n",
       "      <td>2</td>\n",
       "      <td>Mixed Breed</td>\n",
       "      <td>Female</td>\n",
       "      <td>Black</td>\n",
       "      <td>Brown</td>\n",
       "      <td>Medium</td>\n",
       "      <td>Medium</td>\n",
       "      <td>Yes</td>\n",
       "      <td>Yes</td>\n",
       "      <td>Healthy</td>\n",
       "      <td>10</td>\n",
       "      <td>Friendly and pampered female puppy looking for a beautiful home</td>\n",
       "      <td>2</td>\n",
       "      <td>1</td>\n",
       "    </tr>\n",
       "  </tbody>\n",
       "</table>\n",
       "</div>"
      ],
      "text/plain": [
       "  Type  Age       Breed1  Gender Color1 Color2 MaturitySize FurLength Vaccinated Sterilized   Health  Fee                                                      Description  PhotoAmt  target\n",
       "0  Dog    2  Mixed Breed  Female  Black  Brown       Medium    Medium        Yes        Yes  Healthy   10  Friendly and pampered female puppy looking for a beautiful home         2       1"
      ]
     },
     "execution_count": 39,
     "metadata": {},
     "output_type": "execute_result"
    }
   ],
   "source": [
    "pd.DataFrame([dataframe.loc[5191].to_dict()])"
   ]
  },
  {
   "cell_type": "code",
   "execution_count": null,
   "metadata": {
    "application/vnd.databricks.v1+cell": {
     "cellMetadata": {
      "byteLimit": 2048000,
      "rowLimit": 10000
     },
     "inputWidgets": {},
     "nuid": "d11b891a-aa89-46e9-bf8a-0860ae33a403",
     "showTitle": false,
     "title": ""
    }
   },
   "outputs": [],
   "source": [
    "input_X = column_trans.transform(pd.DataFrame([dataframe.loc[0].to_dict()]).drop(['target'], axis=1))\n",
    "\n",
    "input_y = dataframe.target[0]\n"
   ]
  },
  {
   "cell_type": "code",
   "execution_count": null,
   "metadata": {
    "application/vnd.databricks.v1+cell": {
     "cellMetadata": {
      "byteLimit": 2048000,
      "rowLimit": 10000
     },
     "inputWidgets": {},
     "nuid": "678bca5b-d683-4b3d-8a47-c46d12f769ed",
     "showTitle": false,
     "title": ""
    }
   },
   "outputs": [
    {
     "data": {
      "text/html": [
       "<div>\n",
       "<style scoped>\n",
       "    .dataframe tbody tr th:only-of-type {\n",
       "        vertical-align: middle;\n",
       "    }\n",
       "\n",
       "    .dataframe tbody tr th {\n",
       "        vertical-align: top;\n",
       "    }\n",
       "\n",
       "    .dataframe thead th {\n",
       "        text-align: right;\n",
       "    }\n",
       "</style>\n",
       "<table border=\"1\" class=\"dataframe\">\n",
       "  <thead>\n",
       "    <tr style=\"text-align: right;\">\n",
       "      <th></th>\n",
       "      <th>col_0</th>\n",
       "      <th>col_1</th>\n",
       "      <th>col_2</th>\n",
       "      <th>col_3</th>\n",
       "      <th>col_4</th>\n",
       "      <th>col_5</th>\n",
       "      <th>col_6</th>\n",
       "      <th>col_7</th>\n",
       "      <th>col_8</th>\n",
       "      <th>col_9</th>\n",
       "      <th>col_10</th>\n",
       "      <th>col_11</th>\n",
       "      <th>col_12</th>\n",
       "      <th>col_13</th>\n",
       "      <th>col_14</th>\n",
       "      <th>col_15</th>\n",
       "      <th>col_16</th>\n",
       "      <th>col_17</th>\n",
       "      <th>col_18</th>\n",
       "      <th>col_19</th>\n",
       "      <th>col_20</th>\n",
       "      <th>col_21</th>\n",
       "      <th>col_22</th>\n",
       "      <th>col_23</th>\n",
       "      <th>col_24</th>\n",
       "      <th>col_25</th>\n",
       "      <th>col_26</th>\n",
       "      <th>col_27</th>\n",
       "      <th>col_28</th>\n",
       "      <th>col_29</th>\n",
       "      <th>col_30</th>\n",
       "      <th>col_31</th>\n",
       "      <th>col_32</th>\n",
       "      <th>col_33</th>\n",
       "      <th>col_34</th>\n",
       "      <th>col_35</th>\n",
       "      <th>col_36</th>\n",
       "      <th>col_37</th>\n",
       "      <th>col_38</th>\n",
       "      <th>col_39</th>\n",
       "      <th>col_40</th>\n",
       "      <th>col_41</th>\n",
       "      <th>col_42</th>\n",
       "      <th>col_43</th>\n",
       "      <th>col_44</th>\n",
       "      <th>col_45</th>\n",
       "      <th>col_46</th>\n",
       "      <th>col_47</th>\n",
       "      <th>col_48</th>\n",
       "      <th>col_49</th>\n",
       "      <th>...</th>\n",
       "      <th>col_253</th>\n",
       "      <th>col_254</th>\n",
       "      <th>col_255</th>\n",
       "      <th>col_256</th>\n",
       "      <th>col_257</th>\n",
       "      <th>col_258</th>\n",
       "      <th>col_259</th>\n",
       "      <th>col_260</th>\n",
       "      <th>col_261</th>\n",
       "      <th>col_262</th>\n",
       "      <th>col_263</th>\n",
       "      <th>col_264</th>\n",
       "      <th>col_265</th>\n",
       "      <th>col_266</th>\n",
       "      <th>col_267</th>\n",
       "      <th>col_268</th>\n",
       "      <th>col_269</th>\n",
       "      <th>col_270</th>\n",
       "      <th>col_271</th>\n",
       "      <th>col_272</th>\n",
       "      <th>col_273</th>\n",
       "      <th>col_274</th>\n",
       "      <th>col_275</th>\n",
       "      <th>col_276</th>\n",
       "      <th>col_277</th>\n",
       "      <th>col_278</th>\n",
       "      <th>col_279</th>\n",
       "      <th>col_280</th>\n",
       "      <th>col_281</th>\n",
       "      <th>col_282</th>\n",
       "      <th>col_283</th>\n",
       "      <th>col_284</th>\n",
       "      <th>col_285</th>\n",
       "      <th>col_286</th>\n",
       "      <th>col_287</th>\n",
       "      <th>col_288</th>\n",
       "      <th>col_289</th>\n",
       "      <th>col_290</th>\n",
       "      <th>col_291</th>\n",
       "      <th>col_292</th>\n",
       "      <th>col_293</th>\n",
       "      <th>col_294</th>\n",
       "      <th>col_295</th>\n",
       "      <th>col_296</th>\n",
       "      <th>col_297</th>\n",
       "      <th>col_298</th>\n",
       "      <th>col_299</th>\n",
       "      <th>col_300</th>\n",
       "      <th>col_301</th>\n",
       "      <th>target</th>\n",
       "    </tr>\n",
       "  </thead>\n",
       "  <tbody>\n",
       "    <tr>\n",
       "      <th>0</th>\n",
       "      <td>1.0</td>\n",
       "      <td>0.0</td>\n",
       "      <td>0.0</td>\n",
       "      <td>0.0</td>\n",
       "      <td>0.0</td>\n",
       "      <td>0.0</td>\n",
       "      <td>0.0</td>\n",
       "      <td>0.0</td>\n",
       "      <td>0.0</td>\n",
       "      <td>0.0</td>\n",
       "      <td>0.0</td>\n",
       "      <td>0.0</td>\n",
       "      <td>0.0</td>\n",
       "      <td>0.0</td>\n",
       "      <td>0.0</td>\n",
       "      <td>0.0</td>\n",
       "      <td>0.0</td>\n",
       "      <td>0.0</td>\n",
       "      <td>0.0</td>\n",
       "      <td>0.0</td>\n",
       "      <td>0.0</td>\n",
       "      <td>0.0</td>\n",
       "      <td>0.0</td>\n",
       "      <td>0.0</td>\n",
       "      <td>0.0</td>\n",
       "      <td>0.0</td>\n",
       "      <td>0.0</td>\n",
       "      <td>0.0</td>\n",
       "      <td>0.0</td>\n",
       "      <td>0.0</td>\n",
       "      <td>0.0</td>\n",
       "      <td>0.0</td>\n",
       "      <td>0.0</td>\n",
       "      <td>0.0</td>\n",
       "      <td>0.0</td>\n",
       "      <td>0.0</td>\n",
       "      <td>0.0</td>\n",
       "      <td>0.0</td>\n",
       "      <td>0.0</td>\n",
       "      <td>0.0</td>\n",
       "      <td>0.0</td>\n",
       "      <td>0.0</td>\n",
       "      <td>0.0</td>\n",
       "      <td>0.0</td>\n",
       "      <td>0.0</td>\n",
       "      <td>0.0</td>\n",
       "      <td>0.0</td>\n",
       "      <td>0.0</td>\n",
       "      <td>0.0</td>\n",
       "      <td>0.0</td>\n",
       "      <td>...</td>\n",
       "      <td>0.0</td>\n",
       "      <td>0.0</td>\n",
       "      <td>0.0</td>\n",
       "      <td>0.171825</td>\n",
       "      <td>0.0</td>\n",
       "      <td>0.137765</td>\n",
       "      <td>0.0</td>\n",
       "      <td>0.0</td>\n",
       "      <td>0.283609</td>\n",
       "      <td>0.0</td>\n",
       "      <td>0.220992</td>\n",
       "      <td>0.151594</td>\n",
       "      <td>0.0</td>\n",
       "      <td>0.0</td>\n",
       "      <td>0.0</td>\n",
       "      <td>0.0</td>\n",
       "      <td>0.0</td>\n",
       "      <td>0.0</td>\n",
       "      <td>0.144907</td>\n",
       "      <td>0.0</td>\n",
       "      <td>0.0</td>\n",
       "      <td>0.158869</td>\n",
       "      <td>0.0</td>\n",
       "      <td>0.0</td>\n",
       "      <td>0.0</td>\n",
       "      <td>0.170202</td>\n",
       "      <td>0.0</td>\n",
       "      <td>0.192465</td>\n",
       "      <td>0.190783</td>\n",
       "      <td>0.0</td>\n",
       "      <td>0.132427</td>\n",
       "      <td>0.176639</td>\n",
       "      <td>0.151246</td>\n",
       "      <td>0.0</td>\n",
       "      <td>0.0</td>\n",
       "      <td>0.0</td>\n",
       "      <td>0.0</td>\n",
       "      <td>0.257843</td>\n",
       "      <td>0.0</td>\n",
       "      <td>0.0</td>\n",
       "      <td>0.0</td>\n",
       "      <td>0.0</td>\n",
       "      <td>0.0</td>\n",
       "      <td>0.0</td>\n",
       "      <td>0.0</td>\n",
       "      <td>0.0</td>\n",
       "      <td>-0.452479</td>\n",
       "      <td>0.950288</td>\n",
       "      <td>-0.829762</td>\n",
       "      <td>1</td>\n",
       "    </tr>\n",
       "  </tbody>\n",
       "</table>\n",
       "<p>1 rows × 303 columns</p>\n",
       "</div>"
      ],
      "text/plain": [
       "   col_0  col_1  col_2  col_3  col_4  col_5  col_6  col_7  col_8  col_9  col_10  col_11  col_12  col_13  col_14  col_15  col_16  col_17  col_18  col_19  col_20  col_21  col_22  col_23  col_24  col_25  col_26  col_27  col_28  col_29  col_30  col_31  col_32  col_33  col_34  col_35  col_36  col_37  col_38  col_39  col_40  col_41  col_42  col_43  col_44  col_45  col_46  col_47  col_48  col_49  ...  col_253  col_254  col_255   col_256  col_257   col_258  col_259  col_260   col_261  col_262   col_263   col_264  col_265  col_266  col_267  col_268  col_269  col_270   col_271  col_272  col_273   col_274  col_275  col_276  col_277   col_278  col_279   col_280   col_281  col_282   col_283   col_284   col_285  col_286  col_287  col_288  col_289   col_290  col_291  col_292  col_293  col_294  col_295  col_296  col_297  col_298   col_299   col_300   col_301  target\n",
       "0    1.0    0.0    0.0    0.0    0.0    0.0    0.0    0.0    0.0    0.0     0.0     0.0     0.0     0.0     0.0     0.0     0.0     0.0     0.0     0.0     0.0     0.0     0.0     0.0     0.0     0.0     0.0     0.0     0.0     0.0     0.0     0.0     0.0     0.0     0.0     0.0     0.0     0.0     0.0     0.0     0.0     0.0     0.0     0.0     0.0     0.0     0.0     0.0     0.0     0.0  ...      0.0      0.0      0.0  0.171825      0.0  0.137765      0.0      0.0  0.283609      0.0  0.220992  0.151594      0.0      0.0      0.0      0.0      0.0      0.0  0.144907      0.0      0.0  0.158869      0.0      0.0      0.0  0.170202      0.0  0.192465  0.190783      0.0  0.132427  0.176639  0.151246      0.0      0.0      0.0      0.0  0.257843      0.0      0.0      0.0      0.0      0.0      0.0      0.0      0.0 -0.452479  0.950288 -0.829762       1\n",
       "\n",
       "[1 rows x 303 columns]"
      ]
     },
     "execution_count": 41,
     "metadata": {},
     "output_type": "execute_result"
    }
   ],
   "source": [
    "input_df = pd.DataFrame.sparse.from_spmatrix(input_X)\n",
    "\n",
    "input_df.columns = ['col_{}'.format(i) for i in range(input_X.shape[1])]\n",
    "\n",
    "input_df['target']= input_y\n",
    "\n",
    "input_df.head()"
   ]
  },
  {
   "cell_type": "code",
   "execution_count": null,
   "metadata": {
    "application/vnd.databricks.v1+cell": {
     "cellMetadata": {
      "byteLimit": 2048000,
      "rowLimit": 10000
     },
     "inputWidgets": {},
     "nuid": "8f6c8dd1-17df-4f1e-8108-6669defb7a92",
     "showTitle": false,
     "title": ""
    }
   },
   "outputs": [
    {
     "name": "stdout",
     "output_type": "stream",
     "text": [
      "+-----+-----+-----+-----+-----+-----+-----+-----+-----+-----+------+------+------+------+------+------+------+------+------+------+------+------+------+------+------+------+------+------+------+------+------+------+------+------+------+------+------+------+------+------+------+------+------+------+------+------+------+------+------+------+------+------+------+------+------+------+------+------+------+------+------+------+------+------+------+------+------+------+------+------+------+------+------+------+------+------+------+------+------+------+------+------+------+------+------+------+------+------+------+------+------+------+------+------+------+------+------+------+------+------+-------+-------+-------+-------+-------+-------+-------+-------+-------+-------+-------+-------+-------+-------+-------+-------+-------+-------+-------+-------+-------+-------+-------+-------+-------+-------+-------+-------+-------+-------+-------+-------+-------+-------+-------+-------+-------+-------+-------+-------+-------+-------+-------+-------+-------+-------+-------+-------+-------+-------+-------+-------+-------+-------+-------+-------+-------+-------+-------+-------+-------+-------+-------+-------+-------+-------+-------+-------+-------+-------+-------+-------+-------+-------+-------+-------+-------+-------+-------+-------+-------+-------+-------+-------+-------+-------+-------+-------+-------+-------+-------+-------+-------+-------+-------+-------+-------+-------+-------+-------+-------+-------+-------+-------+-------+-------------------+-------+-----------------+-------+-------+-------+------------------+-------+-------+-------+------------------+-------+-------------------+-------+-------+-------+-------+-------+-------+------------------+-------+-------+-------+-------+-------+-------+-------+-------------------+------------------+-------------------+-------+-------+-------+-------+-------+-------+-------+-------+------------------+-------+-------------------+-------+-------+-------+-------+-------------------+-------------------+-------+-------+-------+-------+------------------+-------+------------------+-------+-------+-------------------+-------+------------------+-------------------+-------+-------+-------+-------+-------+-------+-------------------+-------+-------+------------------+-------+-------+-------+------------------+-------+-------------------+-------------------+-------+-------------------+-------------------+-------------------+-------+-------+-------+-------+------------------+-------+-------+-------+-------+-------+-------+-------+-------+-------------------+------------------+-------------------+------+\n",
      "|col_0|col_1|col_2|col_3|col_4|col_5|col_6|col_7|col_8|col_9|col_10|col_11|col_12|col_13|col_14|col_15|col_16|col_17|col_18|col_19|col_20|col_21|col_22|col_23|col_24|col_25|col_26|col_27|col_28|col_29|col_30|col_31|col_32|col_33|col_34|col_35|col_36|col_37|col_38|col_39|col_40|col_41|col_42|col_43|col_44|col_45|col_46|col_47|col_48|col_49|col_50|col_51|col_52|col_53|col_54|col_55|col_56|col_57|col_58|col_59|col_60|col_61|col_62|col_63|col_64|col_65|col_66|col_67|col_68|col_69|col_70|col_71|col_72|col_73|col_74|col_75|col_76|col_77|col_78|col_79|col_80|col_81|col_82|col_83|col_84|col_85|col_86|col_87|col_88|col_89|col_90|col_91|col_92|col_93|col_94|col_95|col_96|col_97|col_98|col_99|col_100|col_101|col_102|col_103|col_104|col_105|col_106|col_107|col_108|col_109|col_110|col_111|col_112|col_113|col_114|col_115|col_116|col_117|col_118|col_119|col_120|col_121|col_122|col_123|col_124|col_125|col_126|col_127|col_128|col_129|col_130|col_131|col_132|col_133|col_134|col_135|col_136|col_137|col_138|col_139|col_140|col_141|col_142|col_143|col_144|col_145|col_146|col_147|col_148|col_149|col_150|col_151|col_152|col_153|col_154|col_155|col_156|col_157|col_158|col_159|col_160|col_161|col_162|col_163|col_164|col_165|col_166|col_167|col_168|col_169|col_170|col_171|col_172|col_173|col_174|col_175|col_176|col_177|col_178|col_179|col_180|col_181|col_182|col_183|col_184|col_185|col_186|col_187|col_188|col_189|col_190|col_191|col_192|col_193|col_194|col_195|col_196|col_197|col_198|col_199|col_200|col_201|col_202|col_203|col_204|            col_205|col_206|          col_207|col_208|col_209|col_210|           col_211|col_212|col_213|col_214|           col_215|col_216|            col_217|col_218|col_219|col_220|col_221|col_222|col_223|           col_224|col_225|col_226|col_227|col_228|col_229|col_230|col_231|            col_232|           col_233|            col_234|col_235|col_236|col_237|col_238|col_239|col_240|col_241|col_242|           col_243|col_244|            col_245|col_246|col_247|col_248|col_249|            col_250|            col_251|col_252|col_253|col_254|col_255|           col_256|col_257|           col_258|col_259|col_260|            col_261|col_262|           col_263|            col_264|col_265|col_266|col_267|col_268|col_269|col_270|            col_271|col_272|col_273|           col_274|col_275|col_276|col_277|           col_278|col_279|            col_280|            col_281|col_282|            col_283|            col_284|            col_285|col_286|col_287|col_288|col_289|           col_290|col_291|col_292|col_293|col_294|col_295|col_296|col_297|col_298|            col_299|           col_300|            col_301|target|\n",
      "+-----+-----+-----+-----+-----+-----+-----+-----+-----+-----+------+------+------+------+------+------+------+------+------+------+------+------+------+------+------+------+------+------+------+------+------+------+------+------+------+------+------+------+------+------+------+------+------+------+------+------+------+------+------+------+------+------+------+------+------+------+------+------+------+------+------+------+------+------+------+------+------+------+------+------+------+------+------+------+------+------+------+------+------+------+------+------+------+------+------+------+------+------+------+------+------+------+------+------+------+------+------+------+------+------+-------+-------+-------+-------+-------+-------+-------+-------+-------+-------+-------+-------+-------+-------+-------+-------+-------+-------+-------+-------+-------+-------+-------+-------+-------+-------+-------+-------+-------+-------+-------+-------+-------+-------+-------+-------+-------+-------+-------+-------+-------+-------+-------+-------+-------+-------+-------+-------+-------+-------+-------+-------+-------+-------+-------+-------+-------+-------+-------+-------+-------+-------+-------+-------+-------+-------+-------+-------+-------+-------+-------+-------+-------+-------+-------+-------+-------+-------+-------+-------+-------+-------+-------+-------+-------+-------+-------+-------+-------+-------+-------+-------+-------+-------+-------+-------+-------+-------+-------+-------+-------+-------+-------+-------+-------+-------------------+-------+-----------------+-------+-------+-------+------------------+-------+-------+-------+------------------+-------+-------------------+-------+-------+-------+-------+-------+-------+------------------+-------+-------+-------+-------+-------+-------+-------+-------------------+------------------+-------------------+-------+-------+-------+-------+-------+-------+-------+-------+------------------+-------+-------------------+-------+-------+-------+-------+-------------------+-------------------+-------+-------+-------+-------+------------------+-------+------------------+-------+-------+-------------------+-------+------------------+-------------------+-------+-------+-------+-------+-------+-------+-------------------+-------+-------+------------------+-------+-------+-------+------------------+-------+-------------------+-------------------+-------+-------------------+-------------------+-------------------+-------+-------+-------+-------+------------------+-------+-------+-------+-------+-------+-------+-------+-------+-------------------+------------------+-------------------+------+\n",
      "|  1.0|  0.0|  0.0|  0.0|  0.0|  0.0|  0.0|  0.0|  0.0|  0.0|   0.0|   0.0|   0.0|   0.0|   0.0|   0.0|   0.0|   0.0|   0.0|   0.0|   0.0|   0.0|   0.0|   0.0|   0.0|   0.0|   0.0|   0.0|   0.0|   0.0|   0.0|   0.0|   0.0|   0.0|   0.0|   0.0|   0.0|   0.0|   0.0|   0.0|   0.0|   0.0|   0.0|   0.0|   0.0|   0.0|   0.0|   0.0|   0.0|   0.0|   0.0|   0.0|   0.0|   0.0|   0.0|   0.0|   0.0|   0.0|   0.0|   0.0|   0.0|   0.0|   0.0|   0.0|   0.0|   0.0|   0.0|   0.0|   0.0|   0.0|   0.0|   0.0|   0.0|   0.0|   0.0|   0.0|   0.0|   0.0|   0.0|   0.0|   0.0|   0.0|   0.0|   0.0|   0.0|   0.0|   0.0|   0.0|   0.0|   0.0|   0.0|   0.0|   0.0|   0.0|   0.0|   0.0|   0.0|   0.0|   0.0|   0.0|    0.0|    0.0|    0.0|    0.0|    0.0|    0.0|    0.0|    0.0|    0.0|    0.0|    0.0|    0.0|    0.0|    0.0|    0.0|    0.0|    0.0|    0.0|    0.0|    0.0|    0.0|    0.0|    0.0|    0.0|    0.0|    0.0|    0.0|    0.0|    0.0|    0.0|    0.0|    0.0|    0.0|    0.0|    0.0|    0.0|    0.0|    0.0|    0.0|    0.0|    0.0|    0.0|    0.0|    0.0|    0.0|    0.0|    0.0|    0.0|    0.0|    1.0|    0.0|    0.0|    0.0|    0.0|    0.0|    0.0|    0.0|    0.0|    0.0|    0.0|    0.0|    0.0|    0.0|    0.0|    0.0|    0.0|    0.0|    0.0|    0.0|    1.0|    1.0|    0.0|    0.0|    0.0|    0.0|    0.0|    0.0|    0.0|    0.0|    0.0|    0.0|    0.0|    1.0|    0.0|    0.0|    0.0|    1.0|    0.0|    0.0|    1.0|    1.0|    0.0|    0.0|    1.0|    0.0|    0.0|    1.0|    0.0|    0.0|    0.0|    0.0|    0.0|    0.0|    0.0|    0.0|0.14790666983217132|    0.0|0.141901216032228|    0.0|    0.0|    0.0|0.1394459499679825|    0.0|    0.0|    0.0|0.3265838806573452|    0.0|0.36344974543439396|    0.0|    0.0|    0.0|    0.0|    0.0|    0.0|0.1745124543418815|    0.0|    0.0|    0.0|    0.0|    0.0|    0.0|    0.0|0.13723100321630188|0.1315239445466759|0.15807938231468016|    0.0|    0.0|    0.0|    0.0|    0.0|    0.0|    0.0|    0.0|0.2222896574945158|    0.0|0.16411338759316998|    0.0|    0.0|    0.0|    0.0|0.14625259628872844|0.15159355410175562|    0.0|    0.0|    0.0|    0.0|0.1718247773680313|    0.0|0.1377650292351999|    0.0|    0.0|0.28360934353718825|    0.0|0.2209915956836379|0.15159355410175562|    0.0|    0.0|    0.0|    0.0|    0.0|    0.0|0.14490710928857287|    0.0|    0.0|0.1588694335049109|    0.0|    0.0|    0.0|0.1702023164362113|    0.0|0.19246519270780896|0.19078292304252875|    0.0|0.13242713485040372|0.17663873912979317|0.15124611730800605|    0.0|    0.0|    0.0|    0.0|0.2578425424693542|    0.0|    0.0|    0.0|    0.0|    0.0|    0.0|    0.0|    0.0|-0.4524794726808656|0.9502875792756131|-0.8297616989552165|     1|\n",
      "+-----+-----+-----+-----+-----+-----+-----+-----+-----+-----+------+------+------+------+------+------+------+------+------+------+------+------+------+------+------+------+------+------+------+------+------+------+------+------+------+------+------+------+------+------+------+------+------+------+------+------+------+------+------+------+------+------+------+------+------+------+------+------+------+------+------+------+------+------+------+------+------+------+------+------+------+------+------+------+------+------+------+------+------+------+------+------+------+------+------+------+------+------+------+------+------+------+------+------+------+------+------+------+------+------+-------+-------+-------+-------+-------+-------+-------+-------+-------+-------+-------+-------+-------+-------+-------+-------+-------+-------+-------+-------+-------+-------+-------+-------+-------+-------+-------+-------+-------+-------+-------+-------+-------+-------+-------+-------+-------+-------+-------+-------+-------+-------+-------+-------+-------+-------+-------+-------+-------+-------+-------+-------+-------+-------+-------+-------+-------+-------+-------+-------+-------+-------+-------+-------+-------+-------+-------+-------+-------+-------+-------+-------+-------+-------+-------+-------+-------+-------+-------+-------+-------+-------+-------+-------+-------+-------+-------+-------+-------+-------+-------+-------+-------+-------+-------+-------+-------+-------+-------+-------+-------+-------+-------+-------+-------+-------------------+-------+-----------------+-------+-------+-------+------------------+-------+-------+-------+------------------+-------+-------------------+-------+-------+-------+-------+-------+-------+------------------+-------+-------+-------+-------+-------+-------+-------+-------------------+------------------+-------------------+-------+-------+-------+-------+-------+-------+-------+-------+------------------+-------+-------------------+-------+-------+-------+-------+-------------------+-------------------+-------+-------+-------+-------+------------------+-------+------------------+-------+-------+-------------------+-------+------------------+-------------------+-------+-------+-------+-------+-------+-------+-------------------+-------+-------+------------------+-------+-------+-------+------------------+-------+-------------------+-------------------+-------+-------------------+-------------------+-------------------+-------+-------+-------+-------+------------------+-------+-------+-------+-------+-------+-------+-------+-------+-------------------+------------------+-------------------+------+\n",
      "\n"
     ]
    }
   ],
   "source": [
    "input_spark_df = spark.createDataFrame(input_df)\n",
    "input_spark_df.show(2)"
   ]
  },
  {
   "cell_type": "code",
   "execution_count": null,
   "metadata": {
    "application/vnd.databricks.v1+cell": {
     "cellMetadata": {
      "byteLimit": 2048000,
      "rowLimit": 10000
     },
     "inputWidgets": {},
     "nuid": "a7a0014c-3e8b-4eef-820e-7e12cdc91e49",
     "showTitle": false,
     "title": ""
    }
   },
   "outputs": [
    {
     "name": "stdout",
     "output_type": "stream",
     "text": [
      "+------+------+\n",
      "|target|result|\n",
      "+------+------+\n",
      "|     1|   [1]|\n",
      "+------+------+\n",
      "\n"
     ]
    }
   ],
   "source": [
    "clf_model.transform(input_spark_df).select('target','prediction.result').show()"
   ]
  },
  {
   "cell_type": "markdown",
   "metadata": {
    "application/vnd.databricks.v1+cell": {
     "cellMetadata": {
      "byteLimit": 2048000,
      "rowLimit": 10000
     },
     "inputWidgets": {},
     "nuid": "900cd3de-5f8f-4c0c-a93f-2b9b13f9680f",
     "showTitle": false,
     "title": ""
    },
    "id": "_Tgo746qI3r0"
   },
   "source": [
    "# Case Study: Alexa Review Classification"
   ]
  },
  {
   "cell_type": "code",
   "execution_count": null,
   "metadata": {
    "application/vnd.databricks.v1+cell": {
     "cellMetadata": {
      "byteLimit": 2048000,
      "rowLimit": 10000
     },
     "inputWidgets": {},
     "nuid": "d999214b-2e14-4521-a39e-2276e2d84f5b",
     "showTitle": false,
     "title": ""
    },
    "id": "cx_hs3OdI3r0",
    "outputId": "5569ab92-4419-49d0-977f-b256fc9fdee0"
   },
   "outputs": [],
   "source": [
    "! wget -q https://raw.githubusercontent.com/JohnSnowLabs/spark-nlp-workshop/master/tutorials/Certification_Trainings/Public/data/amazon_alexa.tsv -P /dbfs/"
   ]
  },
  {
   "cell_type": "code",
   "execution_count": null,
   "metadata": {
    "application/vnd.databricks.v1+cell": {
     "cellMetadata": {
      "byteLimit": 2048000,
      "rowLimit": 10000
     },
     "inputWidgets": {},
     "nuid": "2b980d10-4e25-4538-b2f3-66b6ee8d4598",
     "showTitle": false,
     "title": ""
    },
    "id": "ImoUa6FoI3r1",
    "outputId": "e303e254-81c1-4da3-83d8-44194f7331bb"
   },
   "outputs": [
    {
     "data": {
      "text/html": [
       "<div>\n",
       "<style scoped>\n",
       "    .dataframe tbody tr th:only-of-type {\n",
       "        vertical-align: middle;\n",
       "    }\n",
       "\n",
       "    .dataframe tbody tr th {\n",
       "        vertical-align: top;\n",
       "    }\n",
       "\n",
       "    .dataframe thead th {\n",
       "        text-align: right;\n",
       "    }\n",
       "</style>\n",
       "<table border=\"1\" class=\"dataframe\">\n",
       "  <thead>\n",
       "    <tr style=\"text-align: right;\">\n",
       "      <th></th>\n",
       "      <th>rating</th>\n",
       "      <th>date</th>\n",
       "      <th>variation</th>\n",
       "      <th>verified_reviews</th>\n",
       "      <th>feedback</th>\n",
       "    </tr>\n",
       "  </thead>\n",
       "  <tbody>\n",
       "    <tr>\n",
       "      <th>0</th>\n",
       "      <td>5</td>\n",
       "      <td>31-Jul-18</td>\n",
       "      <td>Charcoal Fabric</td>\n",
       "      <td>Love my Echo!</td>\n",
       "      <td>1</td>\n",
       "    </tr>\n",
       "    <tr>\n",
       "      <th>1</th>\n",
       "      <td>5</td>\n",
       "      <td>31-Jul-18</td>\n",
       "      <td>Charcoal Fabric</td>\n",
       "      <td>Loved it!</td>\n",
       "      <td>1</td>\n",
       "    </tr>\n",
       "    <tr>\n",
       "      <th>2</th>\n",
       "      <td>4</td>\n",
       "      <td>31-Jul-18</td>\n",
       "      <td>Walnut Finish</td>\n",
       "      <td>Sometimes while playing a game, you can answer a question correctly but Alexa says you got it wr...</td>\n",
       "      <td>1</td>\n",
       "    </tr>\n",
       "    <tr>\n",
       "      <th>3</th>\n",
       "      <td>5</td>\n",
       "      <td>31-Jul-18</td>\n",
       "      <td>Charcoal Fabric</td>\n",
       "      <td>I have had a lot of fun with this thing. My 4 yr old learns about dinosaurs, i control the light...</td>\n",
       "      <td>1</td>\n",
       "    </tr>\n",
       "    <tr>\n",
       "      <th>4</th>\n",
       "      <td>5</td>\n",
       "      <td>31-Jul-18</td>\n",
       "      <td>Charcoal Fabric</td>\n",
       "      <td>Music</td>\n",
       "      <td>1</td>\n",
       "    </tr>\n",
       "    <tr>\n",
       "      <th>...</th>\n",
       "      <td>...</td>\n",
       "      <td>...</td>\n",
       "      <td>...</td>\n",
       "      <td>...</td>\n",
       "      <td>...</td>\n",
       "    </tr>\n",
       "    <tr>\n",
       "      <th>3145</th>\n",
       "      <td>5</td>\n",
       "      <td>30-Jul-18</td>\n",
       "      <td>Black  Dot</td>\n",
       "      <td>Perfect for kids, adults and everyone in between!!</td>\n",
       "      <td>1</td>\n",
       "    </tr>\n",
       "    <tr>\n",
       "      <th>3146</th>\n",
       "      <td>5</td>\n",
       "      <td>30-Jul-18</td>\n",
       "      <td>Black  Dot</td>\n",
       "      <td>Listening to music, searching locations, checking time, looking up weather. There are many more ...</td>\n",
       "      <td>1</td>\n",
       "    </tr>\n",
       "    <tr>\n",
       "      <th>3147</th>\n",
       "      <td>5</td>\n",
       "      <td>30-Jul-18</td>\n",
       "      <td>Black  Dot</td>\n",
       "      <td>I do love these things, i have them running my entire home, TV, all my lights, my thermostat, my...</td>\n",
       "      <td>1</td>\n",
       "    </tr>\n",
       "    <tr>\n",
       "      <th>3148</th>\n",
       "      <td>5</td>\n",
       "      <td>30-Jul-18</td>\n",
       "      <td>White  Dot</td>\n",
       "      <td>Only complaint I have is that the sound quality isn't great. I mostly use it for commands though...</td>\n",
       "      <td>1</td>\n",
       "    </tr>\n",
       "    <tr>\n",
       "      <th>3149</th>\n",
       "      <td>4</td>\n",
       "      <td>29-Jul-18</td>\n",
       "      <td>Black  Dot</td>\n",
       "      <td>Good</td>\n",
       "      <td>1</td>\n",
       "    </tr>\n",
       "  </tbody>\n",
       "</table>\n",
       "<p>3150 rows × 5 columns</p>\n",
       "</div>"
      ],
      "text/plain": [
       "      rating       date         variation                                                                                     verified_reviews  feedback\n",
       "0          5  31-Jul-18  Charcoal Fabric                                                                                         Love my Echo!         1\n",
       "1          5  31-Jul-18  Charcoal Fabric                                                                                             Loved it!         1\n",
       "2          4  31-Jul-18    Walnut Finish   Sometimes while playing a game, you can answer a question correctly but Alexa says you got it wr...         1\n",
       "3          5  31-Jul-18  Charcoal Fabric   I have had a lot of fun with this thing. My 4 yr old learns about dinosaurs, i control the light...         1\n",
       "4          5  31-Jul-18  Charcoal Fabric                                                                                                 Music         1\n",
       "...      ...        ...               ...                                                                                                  ...       ...\n",
       "3145       5  30-Jul-18        Black  Dot                                                   Perfect for kids, adults and everyone in between!!         1\n",
       "3146       5  30-Jul-18        Black  Dot  Listening to music, searching locations, checking time, looking up weather. There are many more ...         1\n",
       "3147       5  30-Jul-18        Black  Dot  I do love these things, i have them running my entire home, TV, all my lights, my thermostat, my...         1\n",
       "3148       5  30-Jul-18        White  Dot  Only complaint I have is that the sound quality isn't great. I mostly use it for commands though...         1\n",
       "3149       4  29-Jul-18        Black  Dot                                                                                                 Good         1\n",
       "\n",
       "[3150 rows x 5 columns]"
      ]
     },
     "execution_count": 45,
     "metadata": {},
     "output_type": "execute_result"
    }
   ],
   "source": [
    "import pandas as pd\n",
    "df = pd.read_csv('/dbfs/amazon_alexa.tsv', sep='\\t')\n",
    "df"
   ]
  },
  {
   "cell_type": "code",
   "execution_count": null,
   "metadata": {
    "application/vnd.databricks.v1+cell": {
     "cellMetadata": {
      "byteLimit": 2048000,
      "rowLimit": 10000
     },
     "inputWidgets": {},
     "nuid": "6a86afcb-dab8-4b11-b998-60ac8a704a2a",
     "showTitle": false,
     "title": ""
    },
    "id": "rm1eLJV3I3r1",
    "outputId": "4858d14e-1e58-47ef-bcf1-15b4a85114c0"
   },
   "outputs": [],
   "source": [
    "df.verified_reviews = df.verified_reviews.str.lower()"
   ]
  },
  {
   "cell_type": "code",
   "execution_count": null,
   "metadata": {
    "application/vnd.databricks.v1+cell": {
     "cellMetadata": {
      "byteLimit": 2048000,
      "rowLimit": 10000
     },
     "inputWidgets": {},
     "nuid": "93570891-5f04-4bfa-bc8e-1c13345760ef",
     "showTitle": false,
     "title": ""
    },
    "id": "II1HfCMoI3r2",
    "outputId": "2d0a43f1-939f-4a52-a164-5a1a944674f1"
   },
   "outputs": [
    {
     "data": {
      "text/plain": [
       "1    2893\n",
       "0     257\n",
       "Name: feedback, dtype: int64"
      ]
     },
     "execution_count": 47,
     "metadata": {},
     "output_type": "execute_result"
    }
   ],
   "source": [
    "df.feedback.value_counts()"
   ]
  },
  {
   "cell_type": "code",
   "execution_count": null,
   "metadata": {
    "application/vnd.databricks.v1+cell": {
     "cellMetadata": {
      "byteLimit": 2048000,
      "rowLimit": 10000
     },
     "inputWidgets": {},
     "nuid": "e5744ec9-86e4-4293-ae11-84de563ad925",
     "showTitle": false,
     "title": ""
    },
    "id": "gfMH_ZbII3r3",
    "outputId": "8c0496c4-4d2d-4566-bc66-67f84fb8c39b"
   },
   "outputs": [],
   "source": [
    "from sklearn.compose import make_column_transformer\n",
    "from sklearn.compose import ColumnTransformer\n",
    "from sklearn.feature_extraction.text import CountVectorizer, TfidfVectorizer\n",
    "from sklearn.preprocessing import OneHotEncoder, StandardScaler\n",
    "from sklearn.linear_model import LogisticRegression\n",
    "from sklearn.model_selection import train_test_split\n",
    "\n",
    "column_trans = make_column_transformer(\n",
    "     (TfidfVectorizer(max_features=1000,  norm='l2', ngram_range=(1, 3)), 'verified_reviews'))\n",
    "\n",
    "X = column_trans.fit_transform(df.drop(['feedback'], axis=1))\n",
    "\n",
    "y = df.feedback"
   ]
  },
  {
   "cell_type": "code",
   "execution_count": null,
   "metadata": {
    "application/vnd.databricks.v1+cell": {
     "cellMetadata": {
      "byteLimit": 2048000,
      "rowLimit": 10000
     },
     "inputWidgets": {},
     "nuid": "2de95387-38ed-427c-9a91-2dacbc970a48",
     "showTitle": false,
     "title": ""
    },
    "id": "TcswqkkMI3r3",
    "outputId": "101c9ae1-d0b6-4879-b6f3-01cc6e6f7c57"
   },
   "outputs": [
    {
     "data": {
      "text/html": [
       "<div>\n",
       "<style scoped>\n",
       "    .dataframe tbody tr th:only-of-type {\n",
       "        vertical-align: middle;\n",
       "    }\n",
       "\n",
       "    .dataframe tbody tr th {\n",
       "        vertical-align: top;\n",
       "    }\n",
       "\n",
       "    .dataframe thead th {\n",
       "        text-align: right;\n",
       "    }\n",
       "</style>\n",
       "<table border=\"1\" class=\"dataframe\">\n",
       "  <thead>\n",
       "    <tr style=\"text-align: right;\">\n",
       "      <th></th>\n",
       "      <th>col_0</th>\n",
       "      <th>col_1</th>\n",
       "      <th>col_2</th>\n",
       "      <th>col_3</th>\n",
       "      <th>col_4</th>\n",
       "      <th>col_5</th>\n",
       "      <th>col_6</th>\n",
       "      <th>col_7</th>\n",
       "      <th>col_8</th>\n",
       "      <th>col_9</th>\n",
       "      <th>col_10</th>\n",
       "      <th>col_11</th>\n",
       "      <th>col_12</th>\n",
       "      <th>col_13</th>\n",
       "      <th>col_14</th>\n",
       "      <th>col_15</th>\n",
       "      <th>col_16</th>\n",
       "      <th>col_17</th>\n",
       "      <th>col_18</th>\n",
       "      <th>col_19</th>\n",
       "      <th>col_20</th>\n",
       "      <th>col_21</th>\n",
       "      <th>col_22</th>\n",
       "      <th>col_23</th>\n",
       "      <th>col_24</th>\n",
       "      <th>col_25</th>\n",
       "      <th>col_26</th>\n",
       "      <th>col_27</th>\n",
       "      <th>col_28</th>\n",
       "      <th>col_29</th>\n",
       "      <th>col_30</th>\n",
       "      <th>col_31</th>\n",
       "      <th>col_32</th>\n",
       "      <th>col_33</th>\n",
       "      <th>col_34</th>\n",
       "      <th>col_35</th>\n",
       "      <th>col_36</th>\n",
       "      <th>col_37</th>\n",
       "      <th>col_38</th>\n",
       "      <th>col_39</th>\n",
       "      <th>col_40</th>\n",
       "      <th>col_41</th>\n",
       "      <th>col_42</th>\n",
       "      <th>col_43</th>\n",
       "      <th>col_44</th>\n",
       "      <th>col_45</th>\n",
       "      <th>col_46</th>\n",
       "      <th>col_47</th>\n",
       "      <th>col_48</th>\n",
       "      <th>col_49</th>\n",
       "      <th>...</th>\n",
       "      <th>col_951</th>\n",
       "      <th>col_952</th>\n",
       "      <th>col_953</th>\n",
       "      <th>col_954</th>\n",
       "      <th>col_955</th>\n",
       "      <th>col_956</th>\n",
       "      <th>col_957</th>\n",
       "      <th>col_958</th>\n",
       "      <th>col_959</th>\n",
       "      <th>col_960</th>\n",
       "      <th>col_961</th>\n",
       "      <th>col_962</th>\n",
       "      <th>col_963</th>\n",
       "      <th>col_964</th>\n",
       "      <th>col_965</th>\n",
       "      <th>col_966</th>\n",
       "      <th>col_967</th>\n",
       "      <th>col_968</th>\n",
       "      <th>col_969</th>\n",
       "      <th>col_970</th>\n",
       "      <th>col_971</th>\n",
       "      <th>col_972</th>\n",
       "      <th>col_973</th>\n",
       "      <th>col_974</th>\n",
       "      <th>col_975</th>\n",
       "      <th>col_976</th>\n",
       "      <th>col_977</th>\n",
       "      <th>col_978</th>\n",
       "      <th>col_979</th>\n",
       "      <th>col_980</th>\n",
       "      <th>col_981</th>\n",
       "      <th>col_982</th>\n",
       "      <th>col_983</th>\n",
       "      <th>col_984</th>\n",
       "      <th>col_985</th>\n",
       "      <th>col_986</th>\n",
       "      <th>col_987</th>\n",
       "      <th>col_988</th>\n",
       "      <th>col_989</th>\n",
       "      <th>col_990</th>\n",
       "      <th>col_991</th>\n",
       "      <th>col_992</th>\n",
       "      <th>col_993</th>\n",
       "      <th>col_994</th>\n",
       "      <th>col_995</th>\n",
       "      <th>col_996</th>\n",
       "      <th>col_997</th>\n",
       "      <th>col_998</th>\n",
       "      <th>col_999</th>\n",
       "      <th>feedback</th>\n",
       "    </tr>\n",
       "  </thead>\n",
       "  <tbody>\n",
       "    <tr>\n",
       "      <th>0</th>\n",
       "      <td>0.0</td>\n",
       "      <td>0.0</td>\n",
       "      <td>0.0</td>\n",
       "      <td>0.0</td>\n",
       "      <td>0.0</td>\n",
       "      <td>0.0</td>\n",
       "      <td>0.0</td>\n",
       "      <td>0.000000</td>\n",
       "      <td>0.000000</td>\n",
       "      <td>0.00000</td>\n",
       "      <td>0.0</td>\n",
       "      <td>0.0</td>\n",
       "      <td>0.0</td>\n",
       "      <td>0.0</td>\n",
       "      <td>0.0</td>\n",
       "      <td>0.0</td>\n",
       "      <td>0.0</td>\n",
       "      <td>0.0</td>\n",
       "      <td>0.0</td>\n",
       "      <td>0.0</td>\n",
       "      <td>0.0</td>\n",
       "      <td>0.0</td>\n",
       "      <td>0.0</td>\n",
       "      <td>0.0</td>\n",
       "      <td>0.0</td>\n",
       "      <td>0.0</td>\n",
       "      <td>0.0</td>\n",
       "      <td>0.0</td>\n",
       "      <td>0.0</td>\n",
       "      <td>0.000000</td>\n",
       "      <td>0.0</td>\n",
       "      <td>0.0</td>\n",
       "      <td>0.0</td>\n",
       "      <td>0.0</td>\n",
       "      <td>0.0</td>\n",
       "      <td>0.0</td>\n",
       "      <td>0.0</td>\n",
       "      <td>0.0</td>\n",
       "      <td>0.0</td>\n",
       "      <td>0.0</td>\n",
       "      <td>0.0</td>\n",
       "      <td>0.0</td>\n",
       "      <td>0.0</td>\n",
       "      <td>0.0</td>\n",
       "      <td>0.0</td>\n",
       "      <td>0.0</td>\n",
       "      <td>0.0</td>\n",
       "      <td>0.0</td>\n",
       "      <td>0.0</td>\n",
       "      <td>0.0</td>\n",
       "      <td>...</td>\n",
       "      <td>0.0</td>\n",
       "      <td>0.0</td>\n",
       "      <td>0.000000</td>\n",
       "      <td>0.0</td>\n",
       "      <td>0.0</td>\n",
       "      <td>0.0</td>\n",
       "      <td>0.0</td>\n",
       "      <td>0.0</td>\n",
       "      <td>0.0</td>\n",
       "      <td>0.0</td>\n",
       "      <td>0.0</td>\n",
       "      <td>0.0</td>\n",
       "      <td>0.0</td>\n",
       "      <td>0.000000</td>\n",
       "      <td>0.0</td>\n",
       "      <td>0.0</td>\n",
       "      <td>0.0</td>\n",
       "      <td>0.0</td>\n",
       "      <td>0.0</td>\n",
       "      <td>0.000000</td>\n",
       "      <td>0.0</td>\n",
       "      <td>0.0</td>\n",
       "      <td>0.0</td>\n",
       "      <td>0.0</td>\n",
       "      <td>0.0</td>\n",
       "      <td>0.0</td>\n",
       "      <td>0.0</td>\n",
       "      <td>0.0</td>\n",
       "      <td>0.0</td>\n",
       "      <td>0.0</td>\n",
       "      <td>0.0</td>\n",
       "      <td>0.0</td>\n",
       "      <td>0.0</td>\n",
       "      <td>0.0</td>\n",
       "      <td>0.0</td>\n",
       "      <td>0.0</td>\n",
       "      <td>0.0</td>\n",
       "      <td>0.0</td>\n",
       "      <td>0.0</td>\n",
       "      <td>0.0</td>\n",
       "      <td>0.0</td>\n",
       "      <td>0.000000</td>\n",
       "      <td>0.0</td>\n",
       "      <td>0.000000</td>\n",
       "      <td>0.0</td>\n",
       "      <td>0.0</td>\n",
       "      <td>0.0</td>\n",
       "      <td>0.0</td>\n",
       "      <td>0.0</td>\n",
       "      <td>1</td>\n",
       "    </tr>\n",
       "    <tr>\n",
       "      <th>1</th>\n",
       "      <td>0.0</td>\n",
       "      <td>0.0</td>\n",
       "      <td>0.0</td>\n",
       "      <td>0.0</td>\n",
       "      <td>0.0</td>\n",
       "      <td>0.0</td>\n",
       "      <td>0.0</td>\n",
       "      <td>0.000000</td>\n",
       "      <td>0.000000</td>\n",
       "      <td>0.00000</td>\n",
       "      <td>0.0</td>\n",
       "      <td>0.0</td>\n",
       "      <td>0.0</td>\n",
       "      <td>0.0</td>\n",
       "      <td>0.0</td>\n",
       "      <td>0.0</td>\n",
       "      <td>0.0</td>\n",
       "      <td>0.0</td>\n",
       "      <td>0.0</td>\n",
       "      <td>0.0</td>\n",
       "      <td>0.0</td>\n",
       "      <td>0.0</td>\n",
       "      <td>0.0</td>\n",
       "      <td>0.0</td>\n",
       "      <td>0.0</td>\n",
       "      <td>0.0</td>\n",
       "      <td>0.0</td>\n",
       "      <td>0.0</td>\n",
       "      <td>0.0</td>\n",
       "      <td>0.000000</td>\n",
       "      <td>0.0</td>\n",
       "      <td>0.0</td>\n",
       "      <td>0.0</td>\n",
       "      <td>0.0</td>\n",
       "      <td>0.0</td>\n",
       "      <td>0.0</td>\n",
       "      <td>0.0</td>\n",
       "      <td>0.0</td>\n",
       "      <td>0.0</td>\n",
       "      <td>0.0</td>\n",
       "      <td>0.0</td>\n",
       "      <td>0.0</td>\n",
       "      <td>0.0</td>\n",
       "      <td>0.0</td>\n",
       "      <td>0.0</td>\n",
       "      <td>0.0</td>\n",
       "      <td>0.0</td>\n",
       "      <td>0.0</td>\n",
       "      <td>0.0</td>\n",
       "      <td>0.0</td>\n",
       "      <td>...</td>\n",
       "      <td>0.0</td>\n",
       "      <td>0.0</td>\n",
       "      <td>0.000000</td>\n",
       "      <td>0.0</td>\n",
       "      <td>0.0</td>\n",
       "      <td>0.0</td>\n",
       "      <td>0.0</td>\n",
       "      <td>0.0</td>\n",
       "      <td>0.0</td>\n",
       "      <td>0.0</td>\n",
       "      <td>0.0</td>\n",
       "      <td>0.0</td>\n",
       "      <td>0.0</td>\n",
       "      <td>0.000000</td>\n",
       "      <td>0.0</td>\n",
       "      <td>0.0</td>\n",
       "      <td>0.0</td>\n",
       "      <td>0.0</td>\n",
       "      <td>0.0</td>\n",
       "      <td>0.000000</td>\n",
       "      <td>0.0</td>\n",
       "      <td>0.0</td>\n",
       "      <td>0.0</td>\n",
       "      <td>0.0</td>\n",
       "      <td>0.0</td>\n",
       "      <td>0.0</td>\n",
       "      <td>0.0</td>\n",
       "      <td>0.0</td>\n",
       "      <td>0.0</td>\n",
       "      <td>0.0</td>\n",
       "      <td>0.0</td>\n",
       "      <td>0.0</td>\n",
       "      <td>0.0</td>\n",
       "      <td>0.0</td>\n",
       "      <td>0.0</td>\n",
       "      <td>0.0</td>\n",
       "      <td>0.0</td>\n",
       "      <td>0.0</td>\n",
       "      <td>0.0</td>\n",
       "      <td>0.0</td>\n",
       "      <td>0.0</td>\n",
       "      <td>0.000000</td>\n",
       "      <td>0.0</td>\n",
       "      <td>0.000000</td>\n",
       "      <td>0.0</td>\n",
       "      <td>0.0</td>\n",
       "      <td>0.0</td>\n",
       "      <td>0.0</td>\n",
       "      <td>0.0</td>\n",
       "      <td>1</td>\n",
       "    </tr>\n",
       "    <tr>\n",
       "      <th>2</th>\n",
       "      <td>0.0</td>\n",
       "      <td>0.0</td>\n",
       "      <td>0.0</td>\n",
       "      <td>0.0</td>\n",
       "      <td>0.0</td>\n",
       "      <td>0.0</td>\n",
       "      <td>0.0</td>\n",
       "      <td>0.145963</td>\n",
       "      <td>0.146283</td>\n",
       "      <td>0.00000</td>\n",
       "      <td>0.0</td>\n",
       "      <td>0.0</td>\n",
       "      <td>0.0</td>\n",
       "      <td>0.0</td>\n",
       "      <td>0.0</td>\n",
       "      <td>0.0</td>\n",
       "      <td>0.0</td>\n",
       "      <td>0.0</td>\n",
       "      <td>0.0</td>\n",
       "      <td>0.0</td>\n",
       "      <td>0.0</td>\n",
       "      <td>0.0</td>\n",
       "      <td>0.0</td>\n",
       "      <td>0.0</td>\n",
       "      <td>0.0</td>\n",
       "      <td>0.0</td>\n",
       "      <td>0.0</td>\n",
       "      <td>0.0</td>\n",
       "      <td>0.0</td>\n",
       "      <td>0.094944</td>\n",
       "      <td>0.0</td>\n",
       "      <td>0.0</td>\n",
       "      <td>0.0</td>\n",
       "      <td>0.0</td>\n",
       "      <td>0.0</td>\n",
       "      <td>0.0</td>\n",
       "      <td>0.0</td>\n",
       "      <td>0.0</td>\n",
       "      <td>0.0</td>\n",
       "      <td>0.0</td>\n",
       "      <td>0.0</td>\n",
       "      <td>0.0</td>\n",
       "      <td>0.0</td>\n",
       "      <td>0.0</td>\n",
       "      <td>0.0</td>\n",
       "      <td>0.0</td>\n",
       "      <td>0.0</td>\n",
       "      <td>0.0</td>\n",
       "      <td>0.0</td>\n",
       "      <td>0.0</td>\n",
       "      <td>...</td>\n",
       "      <td>0.0</td>\n",
       "      <td>0.0</td>\n",
       "      <td>0.327234</td>\n",
       "      <td>0.0</td>\n",
       "      <td>0.0</td>\n",
       "      <td>0.0</td>\n",
       "      <td>0.0</td>\n",
       "      <td>0.0</td>\n",
       "      <td>0.0</td>\n",
       "      <td>0.0</td>\n",
       "      <td>0.0</td>\n",
       "      <td>0.0</td>\n",
       "      <td>0.0</td>\n",
       "      <td>0.000000</td>\n",
       "      <td>0.0</td>\n",
       "      <td>0.0</td>\n",
       "      <td>0.0</td>\n",
       "      <td>0.0</td>\n",
       "      <td>0.0</td>\n",
       "      <td>0.000000</td>\n",
       "      <td>0.0</td>\n",
       "      <td>0.0</td>\n",
       "      <td>0.0</td>\n",
       "      <td>0.0</td>\n",
       "      <td>0.0</td>\n",
       "      <td>0.0</td>\n",
       "      <td>0.0</td>\n",
       "      <td>0.0</td>\n",
       "      <td>0.0</td>\n",
       "      <td>0.0</td>\n",
       "      <td>0.0</td>\n",
       "      <td>0.0</td>\n",
       "      <td>0.0</td>\n",
       "      <td>0.0</td>\n",
       "      <td>0.0</td>\n",
       "      <td>0.0</td>\n",
       "      <td>0.0</td>\n",
       "      <td>0.0</td>\n",
       "      <td>0.0</td>\n",
       "      <td>0.0</td>\n",
       "      <td>0.0</td>\n",
       "      <td>0.324472</td>\n",
       "      <td>0.0</td>\n",
       "      <td>0.149662</td>\n",
       "      <td>0.0</td>\n",
       "      <td>0.0</td>\n",
       "      <td>0.0</td>\n",
       "      <td>0.0</td>\n",
       "      <td>0.0</td>\n",
       "      <td>1</td>\n",
       "    </tr>\n",
       "    <tr>\n",
       "      <th>3</th>\n",
       "      <td>0.0</td>\n",
       "      <td>0.0</td>\n",
       "      <td>0.0</td>\n",
       "      <td>0.0</td>\n",
       "      <td>0.0</td>\n",
       "      <td>0.0</td>\n",
       "      <td>0.0</td>\n",
       "      <td>0.000000</td>\n",
       "      <td>0.000000</td>\n",
       "      <td>0.16371</td>\n",
       "      <td>0.0</td>\n",
       "      <td>0.0</td>\n",
       "      <td>0.0</td>\n",
       "      <td>0.0</td>\n",
       "      <td>0.0</td>\n",
       "      <td>0.0</td>\n",
       "      <td>0.0</td>\n",
       "      <td>0.0</td>\n",
       "      <td>0.0</td>\n",
       "      <td>0.0</td>\n",
       "      <td>0.0</td>\n",
       "      <td>0.0</td>\n",
       "      <td>0.0</td>\n",
       "      <td>0.0</td>\n",
       "      <td>0.0</td>\n",
       "      <td>0.0</td>\n",
       "      <td>0.0</td>\n",
       "      <td>0.0</td>\n",
       "      <td>0.0</td>\n",
       "      <td>0.000000</td>\n",
       "      <td>0.0</td>\n",
       "      <td>0.0</td>\n",
       "      <td>0.0</td>\n",
       "      <td>0.0</td>\n",
       "      <td>0.0</td>\n",
       "      <td>0.0</td>\n",
       "      <td>0.0</td>\n",
       "      <td>0.0</td>\n",
       "      <td>0.0</td>\n",
       "      <td>0.0</td>\n",
       "      <td>0.0</td>\n",
       "      <td>0.0</td>\n",
       "      <td>0.0</td>\n",
       "      <td>0.0</td>\n",
       "      <td>0.0</td>\n",
       "      <td>0.0</td>\n",
       "      <td>0.0</td>\n",
       "      <td>0.0</td>\n",
       "      <td>0.0</td>\n",
       "      <td>0.0</td>\n",
       "      <td>...</td>\n",
       "      <td>0.0</td>\n",
       "      <td>0.0</td>\n",
       "      <td>0.000000</td>\n",
       "      <td>0.0</td>\n",
       "      <td>0.0</td>\n",
       "      <td>0.0</td>\n",
       "      <td>0.0</td>\n",
       "      <td>0.0</td>\n",
       "      <td>0.0</td>\n",
       "      <td>0.0</td>\n",
       "      <td>0.0</td>\n",
       "      <td>0.0</td>\n",
       "      <td>0.0</td>\n",
       "      <td>0.104466</td>\n",
       "      <td>0.0</td>\n",
       "      <td>0.0</td>\n",
       "      <td>0.0</td>\n",
       "      <td>0.0</td>\n",
       "      <td>0.0</td>\n",
       "      <td>0.210616</td>\n",
       "      <td>0.0</td>\n",
       "      <td>0.0</td>\n",
       "      <td>0.0</td>\n",
       "      <td>0.0</td>\n",
       "      <td>0.0</td>\n",
       "      <td>0.0</td>\n",
       "      <td>0.0</td>\n",
       "      <td>0.0</td>\n",
       "      <td>0.0</td>\n",
       "      <td>0.0</td>\n",
       "      <td>0.0</td>\n",
       "      <td>0.0</td>\n",
       "      <td>0.0</td>\n",
       "      <td>0.0</td>\n",
       "      <td>0.0</td>\n",
       "      <td>0.0</td>\n",
       "      <td>0.0</td>\n",
       "      <td>0.0</td>\n",
       "      <td>0.0</td>\n",
       "      <td>0.0</td>\n",
       "      <td>0.0</td>\n",
       "      <td>0.000000</td>\n",
       "      <td>0.0</td>\n",
       "      <td>0.000000</td>\n",
       "      <td>0.0</td>\n",
       "      <td>0.0</td>\n",
       "      <td>0.0</td>\n",
       "      <td>0.0</td>\n",
       "      <td>0.0</td>\n",
       "      <td>1</td>\n",
       "    </tr>\n",
       "    <tr>\n",
       "      <th>4</th>\n",
       "      <td>0.0</td>\n",
       "      <td>0.0</td>\n",
       "      <td>0.0</td>\n",
       "      <td>0.0</td>\n",
       "      <td>0.0</td>\n",
       "      <td>0.0</td>\n",
       "      <td>0.0</td>\n",
       "      <td>0.000000</td>\n",
       "      <td>0.000000</td>\n",
       "      <td>0.00000</td>\n",
       "      <td>0.0</td>\n",
       "      <td>0.0</td>\n",
       "      <td>0.0</td>\n",
       "      <td>0.0</td>\n",
       "      <td>0.0</td>\n",
       "      <td>0.0</td>\n",
       "      <td>0.0</td>\n",
       "      <td>0.0</td>\n",
       "      <td>0.0</td>\n",
       "      <td>0.0</td>\n",
       "      <td>0.0</td>\n",
       "      <td>0.0</td>\n",
       "      <td>0.0</td>\n",
       "      <td>0.0</td>\n",
       "      <td>0.0</td>\n",
       "      <td>0.0</td>\n",
       "      <td>0.0</td>\n",
       "      <td>0.0</td>\n",
       "      <td>0.0</td>\n",
       "      <td>0.000000</td>\n",
       "      <td>0.0</td>\n",
       "      <td>0.0</td>\n",
       "      <td>0.0</td>\n",
       "      <td>0.0</td>\n",
       "      <td>0.0</td>\n",
       "      <td>0.0</td>\n",
       "      <td>0.0</td>\n",
       "      <td>0.0</td>\n",
       "      <td>0.0</td>\n",
       "      <td>0.0</td>\n",
       "      <td>0.0</td>\n",
       "      <td>0.0</td>\n",
       "      <td>0.0</td>\n",
       "      <td>0.0</td>\n",
       "      <td>0.0</td>\n",
       "      <td>0.0</td>\n",
       "      <td>0.0</td>\n",
       "      <td>0.0</td>\n",
       "      <td>0.0</td>\n",
       "      <td>0.0</td>\n",
       "      <td>...</td>\n",
       "      <td>0.0</td>\n",
       "      <td>0.0</td>\n",
       "      <td>0.000000</td>\n",
       "      <td>0.0</td>\n",
       "      <td>0.0</td>\n",
       "      <td>0.0</td>\n",
       "      <td>0.0</td>\n",
       "      <td>0.0</td>\n",
       "      <td>0.0</td>\n",
       "      <td>0.0</td>\n",
       "      <td>0.0</td>\n",
       "      <td>0.0</td>\n",
       "      <td>0.0</td>\n",
       "      <td>0.000000</td>\n",
       "      <td>0.0</td>\n",
       "      <td>0.0</td>\n",
       "      <td>0.0</td>\n",
       "      <td>0.0</td>\n",
       "      <td>0.0</td>\n",
       "      <td>0.000000</td>\n",
       "      <td>0.0</td>\n",
       "      <td>0.0</td>\n",
       "      <td>0.0</td>\n",
       "      <td>0.0</td>\n",
       "      <td>0.0</td>\n",
       "      <td>0.0</td>\n",
       "      <td>0.0</td>\n",
       "      <td>0.0</td>\n",
       "      <td>0.0</td>\n",
       "      <td>0.0</td>\n",
       "      <td>0.0</td>\n",
       "      <td>0.0</td>\n",
       "      <td>0.0</td>\n",
       "      <td>0.0</td>\n",
       "      <td>0.0</td>\n",
       "      <td>0.0</td>\n",
       "      <td>0.0</td>\n",
       "      <td>0.0</td>\n",
       "      <td>0.0</td>\n",
       "      <td>0.0</td>\n",
       "      <td>0.0</td>\n",
       "      <td>0.000000</td>\n",
       "      <td>0.0</td>\n",
       "      <td>0.000000</td>\n",
       "      <td>0.0</td>\n",
       "      <td>0.0</td>\n",
       "      <td>0.0</td>\n",
       "      <td>0.0</td>\n",
       "      <td>0.0</td>\n",
       "      <td>1</td>\n",
       "    </tr>\n",
       "  </tbody>\n",
       "</table>\n",
       "<p>5 rows × 1001 columns</p>\n",
       "</div>"
      ],
      "text/plain": [
       "   col_0  col_1  col_2  col_3  col_4  col_5  col_6     col_7     col_8    col_9  col_10  col_11  col_12  col_13  col_14  col_15  col_16  col_17  col_18  col_19  col_20  col_21  col_22  col_23  col_24  col_25  col_26  col_27  col_28    col_29  col_30  col_31  col_32  col_33  col_34  col_35  col_36  col_37  col_38  col_39  col_40  col_41  col_42  col_43  col_44  col_45  col_46  col_47  col_48  col_49  ...  col_951  col_952   col_953  col_954  col_955  col_956  col_957  col_958  col_959  col_960  col_961  col_962  col_963   col_964  col_965  col_966  col_967  col_968  col_969   col_970  col_971  col_972  col_973  col_974  col_975  col_976  col_977  col_978  col_979  col_980  col_981  col_982  col_983  col_984  col_985  col_986  col_987  col_988  col_989  col_990  col_991   col_992  col_993   col_994  col_995  col_996  col_997  col_998  col_999  feedback\n",
       "0    0.0    0.0    0.0    0.0    0.0    0.0    0.0  0.000000  0.000000  0.00000     0.0     0.0     0.0     0.0     0.0     0.0     0.0     0.0     0.0     0.0     0.0     0.0     0.0     0.0     0.0     0.0     0.0     0.0     0.0  0.000000     0.0     0.0     0.0     0.0     0.0     0.0     0.0     0.0     0.0     0.0     0.0     0.0     0.0     0.0     0.0     0.0     0.0     0.0     0.0     0.0  ...      0.0      0.0  0.000000      0.0      0.0      0.0      0.0      0.0      0.0      0.0      0.0      0.0      0.0  0.000000      0.0      0.0      0.0      0.0      0.0  0.000000      0.0      0.0      0.0      0.0      0.0      0.0      0.0      0.0      0.0      0.0      0.0      0.0      0.0      0.0      0.0      0.0      0.0      0.0      0.0      0.0      0.0  0.000000      0.0  0.000000      0.0      0.0      0.0      0.0      0.0         1\n",
       "1    0.0    0.0    0.0    0.0    0.0    0.0    0.0  0.000000  0.000000  0.00000     0.0     0.0     0.0     0.0     0.0     0.0     0.0     0.0     0.0     0.0     0.0     0.0     0.0     0.0     0.0     0.0     0.0     0.0     0.0  0.000000     0.0     0.0     0.0     0.0     0.0     0.0     0.0     0.0     0.0     0.0     0.0     0.0     0.0     0.0     0.0     0.0     0.0     0.0     0.0     0.0  ...      0.0      0.0  0.000000      0.0      0.0      0.0      0.0      0.0      0.0      0.0      0.0      0.0      0.0  0.000000      0.0      0.0      0.0      0.0      0.0  0.000000      0.0      0.0      0.0      0.0      0.0      0.0      0.0      0.0      0.0      0.0      0.0      0.0      0.0      0.0      0.0      0.0      0.0      0.0      0.0      0.0      0.0  0.000000      0.0  0.000000      0.0      0.0      0.0      0.0      0.0         1\n",
       "2    0.0    0.0    0.0    0.0    0.0    0.0    0.0  0.145963  0.146283  0.00000     0.0     0.0     0.0     0.0     0.0     0.0     0.0     0.0     0.0     0.0     0.0     0.0     0.0     0.0     0.0     0.0     0.0     0.0     0.0  0.094944     0.0     0.0     0.0     0.0     0.0     0.0     0.0     0.0     0.0     0.0     0.0     0.0     0.0     0.0     0.0     0.0     0.0     0.0     0.0     0.0  ...      0.0      0.0  0.327234      0.0      0.0      0.0      0.0      0.0      0.0      0.0      0.0      0.0      0.0  0.000000      0.0      0.0      0.0      0.0      0.0  0.000000      0.0      0.0      0.0      0.0      0.0      0.0      0.0      0.0      0.0      0.0      0.0      0.0      0.0      0.0      0.0      0.0      0.0      0.0      0.0      0.0      0.0  0.324472      0.0  0.149662      0.0      0.0      0.0      0.0      0.0         1\n",
       "3    0.0    0.0    0.0    0.0    0.0    0.0    0.0  0.000000  0.000000  0.16371     0.0     0.0     0.0     0.0     0.0     0.0     0.0     0.0     0.0     0.0     0.0     0.0     0.0     0.0     0.0     0.0     0.0     0.0     0.0  0.000000     0.0     0.0     0.0     0.0     0.0     0.0     0.0     0.0     0.0     0.0     0.0     0.0     0.0     0.0     0.0     0.0     0.0     0.0     0.0     0.0  ...      0.0      0.0  0.000000      0.0      0.0      0.0      0.0      0.0      0.0      0.0      0.0      0.0      0.0  0.104466      0.0      0.0      0.0      0.0      0.0  0.210616      0.0      0.0      0.0      0.0      0.0      0.0      0.0      0.0      0.0      0.0      0.0      0.0      0.0      0.0      0.0      0.0      0.0      0.0      0.0      0.0      0.0  0.000000      0.0  0.000000      0.0      0.0      0.0      0.0      0.0         1\n",
       "4    0.0    0.0    0.0    0.0    0.0    0.0    0.0  0.000000  0.000000  0.00000     0.0     0.0     0.0     0.0     0.0     0.0     0.0     0.0     0.0     0.0     0.0     0.0     0.0     0.0     0.0     0.0     0.0     0.0     0.0  0.000000     0.0     0.0     0.0     0.0     0.0     0.0     0.0     0.0     0.0     0.0     0.0     0.0     0.0     0.0     0.0     0.0     0.0     0.0     0.0     0.0  ...      0.0      0.0  0.000000      0.0      0.0      0.0      0.0      0.0      0.0      0.0      0.0      0.0      0.0  0.000000      0.0      0.0      0.0      0.0      0.0  0.000000      0.0      0.0      0.0      0.0      0.0      0.0      0.0      0.0      0.0      0.0      0.0      0.0      0.0      0.0      0.0      0.0      0.0      0.0      0.0      0.0      0.0  0.000000      0.0  0.000000      0.0      0.0      0.0      0.0      0.0         1\n",
       "\n",
       "[5 rows x 1001 columns]"
      ]
     },
     "execution_count": 49,
     "metadata": {},
     "output_type": "execute_result"
    }
   ],
   "source": [
    "import scipy.sparse\n",
    "\n",
    "sdf = pd.DataFrame.sparse.from_spmatrix(X)\n",
    "\n",
    "sdf.columns = ['col_{}'.format(i) for i in range(X.shape[1])]\n",
    "\n",
    "sdf = sdf.fillna(0)\n",
    "\n",
    "sdf['feedback']= y\n",
    "\n",
    "sdf.head()"
   ]
  },
  {
   "cell_type": "code",
   "execution_count": null,
   "metadata": {
    "application/vnd.databricks.v1+cell": {
     "cellMetadata": {
      "byteLimit": 2048000,
      "rowLimit": 10000
     },
     "inputWidgets": {},
     "nuid": "853040ea-6b10-4fb8-9918-bb902b5c8f29",
     "showTitle": false,
     "title": ""
    },
    "id": "-ps3PB3LI3r4",
    "outputId": "351cb0b3-e4c8-4b87-c75b-4ae0821539a1"
   },
   "outputs": [],
   "source": [
    "input_spark_df = spark.createDataFrame(sdf)"
   ]
  },
  {
   "cell_type": "code",
   "execution_count": null,
   "metadata": {
    "application/vnd.databricks.v1+cell": {
     "cellMetadata": {
      "byteLimit": 2048000,
      "rowLimit": 10000
     },
     "inputWidgets": {},
     "nuid": "4cc2bcd6-125c-471c-af85-eb4b5c66ee48",
     "showTitle": false,
     "title": ""
    },
    "id": "0RuXso9XI3r4",
    "outputId": "595c9c0c-dc9b-4412-818d-d9d26446b184"
   },
   "outputs": [
    {
     "name": "stdout",
     "output_type": "stream",
     "text": [
      "Training Dataset Count: 2475\n",
      "Test Dataset Count: 675\n"
     ]
    }
   ],
   "source": [
    "(training_data, test_data) = input_spark_df.randomSplit([0.8, 0.2], seed = 100)\n",
    "\n",
    "print(\"Training Dataset Count: \" + str(training_data.count()))\n",
    "print(\"Test Dataset Count: \" + str(test_data.count()))"
   ]
  },
  {
   "cell_type": "code",
   "execution_count": null,
   "metadata": {
    "application/vnd.databricks.v1+cell": {
     "cellMetadata": {
      "byteLimit": 2048000,
      "rowLimit": 10000
     },
     "inputWidgets": {},
     "nuid": "5c60e2d0-40de-49f6-912b-4981b0d092c4",
     "showTitle": false,
     "title": ""
    },
    "id": "ZlzC2GeDI3r5",
    "outputId": "043969b7-4be7-4421-93b6-2045e2a7bd22"
   },
   "outputs": [],
   "source": [
    "#from sparknlp_jsl.base import *\n",
    "\n",
    "features_asm = medical.FeaturesAssembler()\\\n",
    "      .setInputCols(['col_{}'.format(i) for i in range(X.shape[1])])\\\n",
    "      .setOutputCol(\"features\")\n",
    "        \n",
    "gen_clf = medical.GenericClassifierApproach()\\\n",
    "    .setLabelColumn(\"feedback\")\\\n",
    "    .setInputCols([\"features\"])\\\n",
    "    .setOutputCol(\"prediction\")\\\n",
    "    .setEpochsNumber(50)\\\n",
    "    .setBatchSize(100)\\\n",
    "    .setFeatureScaling(\"zscore\")\\\n",
    "    .setFixImbalance(True)\\\n",
    "    .setLearningRate(0.001)\\\n",
    "    .setOutputLogsPath(\"file:/databricks/driver/generic_logs\")\\\n",
    "   #.setModelFile(\"/databricks/driver/gc_graph/pet_in1202D_out2.pb\")\n",
    "    \n",
    "\n",
    "clf_Pipeline = nlp.Pipeline(stages=[\n",
    "    features_asm, \n",
    "    gen_clf])\n",
    "\n",
    "clf_model = clf_Pipeline.fit(training_data)\n"
   ]
  },
  {
   "cell_type": "code",
   "execution_count": null,
   "metadata": {
    "application/vnd.databricks.v1+cell": {
     "cellMetadata": {
      "byteLimit": 2048000,
      "rowLimit": 10000
     },
     "inputWidgets": {},
     "nuid": "2028c4f7-1bef-42bb-b0ff-8d4843bc6d75",
     "showTitle": false,
     "title": ""
    },
    "id": "dZN30blzI3r6",
    "outputId": "53679d19-01ef-495c-af24-bfd9fdc6a644"
   },
   "outputs": [
    {
     "name": "stdout",
     "output_type": "stream",
     "text": [
      "              precision    recall  f1-score   support\n",
      "\n",
      "           0     0.6296    0.4096    0.4964        83\n",
      "           1     0.9211    0.9662    0.9431       592\n",
      "\n",
      "    accuracy                         0.8978       675\n",
      "   macro avg     0.7754    0.6879    0.7197       675\n",
      "weighted avg     0.8853    0.8978    0.8882       675\n",
      "\n",
      "0.8977777777777778\n"
     ]
    }
   ],
   "source": [
    "pred_df = clf_model.transform(test_data)\n",
    "\n",
    "preds_df = pred_df.select('feedback','prediction.result').toPandas()\n",
    "\n",
    "# Let's explode the array and get the item(s) inside of result column out\n",
    "preds_df['result'] = preds_df['result'].apply(lambda x : int(x[0]))\n",
    "\n",
    "# We are going to use sklearn to evalute the results on test dataset\n",
    "from sklearn.metrics import classification_report, accuracy_score\n",
    "\n",
    "print (classification_report(preds_df['result'], preds_df['feedback'], digits=4))\n",
    "\n",
    "print (accuracy_score(preds_df['result'], preds_df['feedback']))\n"
   ]
  },
  {
   "cell_type": "code",
   "execution_count": null,
   "metadata": {
    "application/vnd.databricks.v1+cell": {
     "cellMetadata": {
      "byteLimit": 2048000,
      "rowLimit": 10000
     },
     "inputWidgets": {},
     "nuid": "e4e0883f-2fd1-475d-9b6d-b01c61a24648",
     "showTitle": false,
     "title": ""
    }
   },
   "outputs": [],
   "source": []
  }
 ],
 "metadata": {
  "application/vnd.databricks.v1+notebook": {
   "dashboards": [],
   "language": "python",
   "notebookMetadata": {
    "mostRecentlyExecutedCommandWithImplicitDF": {
     "commandId": 354456587042367,
     "dataframes": [
      "_sqldf"
     ]
    },
    "pythonIndentUnit": 2
   },
   "notebookName": "08.2.Generic_Classifier.ipynb",
   "widgets": {}
  },
  "colab": {
   "provenance": []
  },
  "kernelspec": {
   "display_name": "Python 3",
   "language": "python",
   "name": "python3"
  },
  "language_info": {
   "codemirror_mode": {
    "name": "ipython",
    "version": 3
   },
   "file_extension": ".py",
   "mimetype": "text/x-python",
   "name": "python",
   "nbconvert_exporter": "python",
   "pygments_lexer": "ipython3",
   "version": "3.8.3"
  }
 },
 "nbformat": 4,
 "nbformat_minor": 0
}

{
 "cells": [
  {
   "cell_type": "markdown",
   "metadata": {
    "application/vnd.databricks.v1+cell": {
     "cellMetadata": {
      "byteLimit": 2048000,
      "rowLimit": 10000
     },
     "inputWidgets": {},
     "nuid": "c6768fe1-ddbb-4799-8eb0-76d53107d1fa",
     "showTitle": false,
     "title": ""
    },
    "id": "_gMgspigI3rV"
   },
   "source": [
    "![JohnSnowLabs](https://nlp.johnsnowlabs.com/assets/images/logo.png)"
   ]
  },
  {
   "cell_type": "markdown",
   "metadata": {
    "application/vnd.databricks.v1+cell": {
     "cellMetadata": {
      "byteLimit": 2048000,
      "rowLimit": 10000
     },
     "inputWidgets": {},
     "nuid": "198ee648-32d9-4be7-8e38-c78189521b15",
     "showTitle": false,
     "title": ""
    },
    "id": "-g9xwuFPI3rc"
   },
   "source": [
    "# Trainining a Text Classification Model"
   ]
  },
  {
   "cell_type": "code",
   "execution_count": 0,
   "metadata": {
    "application/vnd.databricks.v1+cell": {
     "cellMetadata": {
      "byteLimit": 2048000,
      "rowLimit": 10000
     },
     "inputWidgets": {},
     "nuid": "1dd7f21a-7e8c-4938-ba6b-b6699234f6e3",
     "showTitle": false,
     "title": ""
    },
    "id": "v0pw1cCrI3ri",
    "outputId": "2ea04500-17d8-442d-fa5c-90400adaee70"
   },
   "outputs": [
    {
     "output_type": "stream",
     "name": "stdout",
     "output_type": "stream",
     "text": [
      "Out[1]: True"
     ]
    }
   ],
   "source": [
    " !wget -q https://raw.githubusercontent.com/JohnSnowLabs/spark-nlp-workshop/master/tutorials/Certification_Trainings/Healthcare/data/petfinder-mini.csv\n",
    " \n",
    " dbutils.fs.cp(\"file:/databricks/driver/petfinder-mini.csv\", \"dbfs:/\") "
   ]
  },
  {
   "cell_type": "code",
   "execution_count": 0,
   "metadata": {
    "application/vnd.databricks.v1+cell": {
     "cellMetadata": {
      "byteLimit": 2048000,
      "rowLimit": 10000
     },
     "inputWidgets": {},
     "nuid": "b02b554b-ca15-4826-9e80-db2870bb3210",
     "showTitle": false,
     "title": ""
    }
   },
   "outputs": [],
   "source": [
    "from johnsnowlabs import nlp, medical\n",
    "\n",
    "# After uploading your license run this to install all licensed Python Wheels and pre-download Jars the Spark Session JVM\n",
    "#nlp.install()"
   ]
  },
  {
   "cell_type": "code",
   "execution_count": 0,
   "metadata": {
    "application/vnd.databricks.v1+cell": {
     "cellMetadata": {
      "byteLimit": 2048000,
      "rowLimit": 10000
     },
     "inputWidgets": {},
     "nuid": "864db12b-27c0-4222-bb1e-51d8c08a64d9",
     "showTitle": false,
     "title": ""
    }
   },
   "outputs": [
    {
     "output_type": "display_data",
     "data": {
      "application/vnd.databricks.v1+bamboolib_hint": "{\"pd.DataFrames\": [], \"version\": \"0.0.1\"}",
      "text/plain": []
     },
     "metadata": {},
     "output_type": "display_data"
    },
    {
     "output_type": "display_data",
     "data": {
      "text/html": [
       "\n",
       "            <div>\n",
       "                <p><b>SparkSession - hive</b></p>\n",
       "                \n",
       "        <div>\n",
       "            <p><b>SparkContext</b></p>\n",
       "\n",
       "            <p><a href=\"/?o=7956323724731612#setting/sparkui/0725-092232-stftp6wi/driver-5665821981575292793\">Spark UI</a></p>\n",
       "\n",
       "            <dl>\n",
       "              <dt>Version</dt>\n",
       "                <dd><code>v3.3.2</code></dd>\n",
       "              <dt>Master</dt>\n",
       "                <dd><code>spark://10.139.64.10:7077</code></dd>\n",
       "              <dt>AppName</dt>\n",
       "                <dd><code>Databricks Shell</code></dd>\n",
       "            </dl>\n",
       "        </div>\n",
       "        \n",
       "            </div>\n",
       "        "
      ]
     },
     "metadata": {
      "application/vnd.databricks.v1+output": {
       "addedWidgets": {},
       "arguments": {},
       "data": "\n            <div>\n                <p><b>SparkSession - hive</b></p>\n                \n        <div>\n            <p><b>SparkContext</b></p>\n\n            <p><a href=\"/?o=7956323724731612#setting/sparkui/0725-092232-stftp6wi/driver-5665821981575292793\">Spark UI</a></p>\n\n            <dl>\n              <dt>Version</dt>\n                <dd><code>v3.3.2</code></dd>\n              <dt>Master</dt>\n                <dd><code>spark://10.139.64.10:7077</code></dd>\n              <dt>AppName</dt>\n                <dd><code>Databricks Shell</code></dd>\n            </dl>\n        </div>\n        \n            </div>\n        ",
       "datasetInfos": [],
       "metadata": {},
       "removedWidgets": [],
       "textData": null,
       "type": "htmlSandbox"
      }
     },
     "output_type": "display_data"
    }
   ],
   "source": [
    "from pyspark.sql import DataFrame\n",
    "import pyspark.sql.functions as F\n",
    "import pyspark.sql.types as T\n",
    "import pyspark.sql as SQL\n",
    "from pyspark import keyword_only\n",
    "\n",
    "import os\n",
    "import json\n",
    "import string\n",
    "import numpy as np\n",
    "import pandas as pd\n",
    "\n",
    "from pyspark.ml import Pipeline, PipelineModel\n",
    "\n",
    "pd.set_option('max_colwidth', 100)\n",
    "pd.set_option('display.max_columns', 100)  \n",
    "pd.set_option('display.expand_frame_repr', False)\n",
    "\n",
    "spark"
   ]
  },
  {
   "cell_type": "markdown",
   "metadata": {
    "application/vnd.databricks.v1+cell": {
     "cellMetadata": {
      "byteLimit": 2048000,
      "rowLimit": 10000
     },
     "inputWidgets": {},
     "nuid": "cfe0436c-8f68-4ecd-8394-415fd204ea77",
     "showTitle": false,
     "title": ""
    },
    "id": "HnG9SuyiI3rh"
   },
   "source": [
    "## Load dataset"
   ]
  },
  {
   "cell_type": "code",
   "execution_count": 0,
   "metadata": {
    "application/vnd.databricks.v1+cell": {
     "cellMetadata": {
      "byteLimit": 2048000,
      "rowLimit": 10000
     },
     "inputWidgets": {},
     "nuid": "5cee9236-adaf-4f58-90fa-bf4a4a9894de",
     "showTitle": false,
     "title": ""
    },
    "id": "5BmKKdIGI3ri",
    "outputId": "a8db8ac1-e2a7-4759-f08a-d8db6f0b0468"
   },
   "outputs": [],
   "source": [
    "dataframe = pd.read_csv('petfinder-mini.csv')"
   ]
  },
  {
   "cell_type": "code",
   "execution_count": 0,
   "metadata": {
    "application/vnd.databricks.v1+cell": {
     "cellMetadata": {
      "byteLimit": 2048000,
      "rowLimit": 10000
     },
     "inputWidgets": {},
     "nuid": "13b0b443-7e66-40ad-9bef-fc24ee654c07",
     "showTitle": false,
     "title": ""
    },
    "id": "INhq5BaLI3rj",
    "outputId": "d3bf83f2-6a27-41c5-cb19-7c4092484516"
   },
   "outputs": [],
   "source": [
    "# In the original dataset \"4\" indicates the pet was not adopted.\n",
    "\n",
    "dataframe['target'] = np.where(dataframe['AdoptionSpeed']==4, 0, 1)"
   ]
  },
  {
   "cell_type": "code",
   "execution_count": 0,
   "metadata": {
    "application/vnd.databricks.v1+cell": {
     "cellMetadata": {
      "byteLimit": 2048000,
      "rowLimit": 10000
     },
     "inputWidgets": {},
     "nuid": "03ff7ad3-261e-411c-be1d-d67f88d3963a",
     "showTitle": false,
     "title": ""
    },
    "id": "IQkbFQtXI3rk",
    "outputId": "f9620837-14f4-4d7b-e5f9-42ecd2c76fb1"
   },
   "outputs": [],
   "source": [
    "dataframe = dataframe.drop(['AdoptionSpeed'], axis=1)"
   ]
  },
  {
   "cell_type": "code",
   "execution_count": 0,
   "metadata": {
    "application/vnd.databricks.v1+cell": {
     "cellMetadata": {
      "byteLimit": 2048000,
      "rowLimit": 10000
     },
     "inputWidgets": {},
     "nuid": "344e780f-efb7-4975-b838-a1bdda44d4a8",
     "showTitle": false,
     "title": ""
    },
    "id": "_jKwqL_DI3rk",
    "outputId": "90136778-7129-4304-9959-29e66daaeee8"
   },
   "outputs": [
    {
     "output_type": "display_data",
     "data": {
      "text/html": [
       "<div>\n",
       "<style scoped>\n",
       "    .dataframe tbody tr th:only-of-type {\n",
       "        vertical-align: middle;\n",
       "    }\n",
       "\n",
       "    .dataframe tbody tr th {\n",
       "        vertical-align: top;\n",
       "    }\n",
       "\n",
       "    .dataframe thead th {\n",
       "        text-align: right;\n",
       "    }\n",
       "</style>\n",
       "<table border=\"1\" class=\"dataframe\">\n",
       "  <thead>\n",
       "    <tr style=\"text-align: right;\">\n",
       "      <th></th>\n",
       "      <th>Type</th>\n",
       "      <th>Age</th>\n",
       "      <th>Breed1</th>\n",
       "      <th>Gender</th>\n",
       "      <th>Color1</th>\n",
       "      <th>Color2</th>\n",
       "      <th>MaturitySize</th>\n",
       "      <th>FurLength</th>\n",
       "      <th>Vaccinated</th>\n",
       "      <th>Sterilized</th>\n",
       "      <th>Health</th>\n",
       "      <th>Fee</th>\n",
       "      <th>Description</th>\n",
       "      <th>PhotoAmt</th>\n",
       "      <th>target</th>\n",
       "    </tr>\n",
       "  </thead>\n",
       "  <tbody>\n",
       "    <tr>\n",
       "      <th>0</th>\n",
       "      <td>Cat</td>\n",
       "      <td>3</td>\n",
       "      <td>Tabby</td>\n",
       "      <td>Male</td>\n",
       "      <td>Black</td>\n",
       "      <td>White</td>\n",
       "      <td>Small</td>\n",
       "      <td>Short</td>\n",
       "      <td>No</td>\n",
       "      <td>No</td>\n",
       "      <td>Healthy</td>\n",
       "      <td>100</td>\n",
       "      <td>Nibble is a 3+ month old ball of cuteness. He is energetic and playful. I rescued a couple of ca...</td>\n",
       "      <td>1</td>\n",
       "      <td>1</td>\n",
       "    </tr>\n",
       "    <tr>\n",
       "      <th>1</th>\n",
       "      <td>Cat</td>\n",
       "      <td>1</td>\n",
       "      <td>Domestic Medium Hair</td>\n",
       "      <td>Male</td>\n",
       "      <td>Black</td>\n",
       "      <td>Brown</td>\n",
       "      <td>Medium</td>\n",
       "      <td>Medium</td>\n",
       "      <td>Not Sure</td>\n",
       "      <td>Not Sure</td>\n",
       "      <td>Healthy</td>\n",
       "      <td>0</td>\n",
       "      <td>I just found it alone yesterday near my apartment. It was shaking so I had to bring it home to p...</td>\n",
       "      <td>2</td>\n",
       "      <td>1</td>\n",
       "    </tr>\n",
       "    <tr>\n",
       "      <th>2</th>\n",
       "      <td>Dog</td>\n",
       "      <td>1</td>\n",
       "      <td>Mixed Breed</td>\n",
       "      <td>Male</td>\n",
       "      <td>Brown</td>\n",
       "      <td>White</td>\n",
       "      <td>Medium</td>\n",
       "      <td>Medium</td>\n",
       "      <td>Yes</td>\n",
       "      <td>No</td>\n",
       "      <td>Healthy</td>\n",
       "      <td>0</td>\n",
       "      <td>Their pregnant mother was dumped by her irresponsible owner at the roadside near some shops in S...</td>\n",
       "      <td>7</td>\n",
       "      <td>1</td>\n",
       "    </tr>\n",
       "    <tr>\n",
       "      <th>3</th>\n",
       "      <td>Dog</td>\n",
       "      <td>4</td>\n",
       "      <td>Mixed Breed</td>\n",
       "      <td>Female</td>\n",
       "      <td>Black</td>\n",
       "      <td>Brown</td>\n",
       "      <td>Medium</td>\n",
       "      <td>Short</td>\n",
       "      <td>Yes</td>\n",
       "      <td>No</td>\n",
       "      <td>Healthy</td>\n",
       "      <td>150</td>\n",
       "      <td>Good guard dog, very alert, active, obedience waiting for her good master, plz call or sms for m...</td>\n",
       "      <td>8</td>\n",
       "      <td>1</td>\n",
       "    </tr>\n",
       "    <tr>\n",
       "      <th>4</th>\n",
       "      <td>Dog</td>\n",
       "      <td>1</td>\n",
       "      <td>Mixed Breed</td>\n",
       "      <td>Male</td>\n",
       "      <td>Black</td>\n",
       "      <td>No Color</td>\n",
       "      <td>Medium</td>\n",
       "      <td>Short</td>\n",
       "      <td>No</td>\n",
       "      <td>No</td>\n",
       "      <td>Healthy</td>\n",
       "      <td>0</td>\n",
       "      <td>This handsome yet cute boy is up for adoption. He is the most playful pal we've seen in our pupp...</td>\n",
       "      <td>3</td>\n",
       "      <td>1</td>\n",
       "    </tr>\n",
       "  </tbody>\n",
       "</table>\n",
       "</div>"
      ]
     },
     "metadata": {
      "application/vnd.databricks.v1+output": {
       "addedWidgets": {},
       "arguments": {},
       "data": "<div>\n<style scoped>\n    .dataframe tbody tr th:only-of-type {\n        vertical-align: middle;\n    }\n\n    .dataframe tbody tr th {\n        vertical-align: top;\n    }\n\n    .dataframe thead th {\n        text-align: right;\n    }\n</style>\n<table border=\"1\" class=\"dataframe\">\n  <thead>\n    <tr style=\"text-align: right;\">\n      <th></th>\n      <th>Type</th>\n      <th>Age</th>\n      <th>Breed1</th>\n      <th>Gender</th>\n      <th>Color1</th>\n      <th>Color2</th>\n      <th>MaturitySize</th>\n      <th>FurLength</th>\n      <th>Vaccinated</th>\n      <th>Sterilized</th>\n      <th>Health</th>\n      <th>Fee</th>\n      <th>Description</th>\n      <th>PhotoAmt</th>\n      <th>target</th>\n    </tr>\n  </thead>\n  <tbody>\n    <tr>\n      <th>0</th>\n      <td>Cat</td>\n      <td>3</td>\n      <td>Tabby</td>\n      <td>Male</td>\n      <td>Black</td>\n      <td>White</td>\n      <td>Small</td>\n      <td>Short</td>\n      <td>No</td>\n      <td>No</td>\n      <td>Healthy</td>\n      <td>100</td>\n      <td>Nibble is a 3+ month old ball of cuteness. He is energetic and playful. I rescued a couple of ca...</td>\n      <td>1</td>\n      <td>1</td>\n    </tr>\n    <tr>\n      <th>1</th>\n      <td>Cat</td>\n      <td>1</td>\n      <td>Domestic Medium Hair</td>\n      <td>Male</td>\n      <td>Black</td>\n      <td>Brown</td>\n      <td>Medium</td>\n      <td>Medium</td>\n      <td>Not Sure</td>\n      <td>Not Sure</td>\n      <td>Healthy</td>\n      <td>0</td>\n      <td>I just found it alone yesterday near my apartment. It was shaking so I had to bring it home to p...</td>\n      <td>2</td>\n      <td>1</td>\n    </tr>\n    <tr>\n      <th>2</th>\n      <td>Dog</td>\n      <td>1</td>\n      <td>Mixed Breed</td>\n      <td>Male</td>\n      <td>Brown</td>\n      <td>White</td>\n      <td>Medium</td>\n      <td>Medium</td>\n      <td>Yes</td>\n      <td>No</td>\n      <td>Healthy</td>\n      <td>0</td>\n      <td>Their pregnant mother was dumped by her irresponsible owner at the roadside near some shops in S...</td>\n      <td>7</td>\n      <td>1</td>\n    </tr>\n    <tr>\n      <th>3</th>\n      <td>Dog</td>\n      <td>4</td>\n      <td>Mixed Breed</td>\n      <td>Female</td>\n      <td>Black</td>\n      <td>Brown</td>\n      <td>Medium</td>\n      <td>Short</td>\n      <td>Yes</td>\n      <td>No</td>\n      <td>Healthy</td>\n      <td>150</td>\n      <td>Good guard dog, very alert, active, obedience waiting for her good master, plz call or sms for m...</td>\n      <td>8</td>\n      <td>1</td>\n    </tr>\n    <tr>\n      <th>4</th>\n      <td>Dog</td>\n      <td>1</td>\n      <td>Mixed Breed</td>\n      <td>Male</td>\n      <td>Black</td>\n      <td>No Color</td>\n      <td>Medium</td>\n      <td>Short</td>\n      <td>No</td>\n      <td>No</td>\n      <td>Healthy</td>\n      <td>0</td>\n      <td>This handsome yet cute boy is up for adoption. He is the most playful pal we've seen in our pupp...</td>\n      <td>3</td>\n      <td>1</td>\n    </tr>\n  </tbody>\n</table>\n</div>",
       "datasetInfos": [],
       "metadata": {},
       "removedWidgets": [],
       "textData": null,
       "type": "htmlSandbox"
      }
     },
     "output_type": "display_data"
    }
   ],
   "source": [
    "dataframe.head()"
   ]
  },
  {
   "cell_type": "code",
   "execution_count": 0,
   "metadata": {
    "application/vnd.databricks.v1+cell": {
     "cellMetadata": {
      "byteLimit": 2048000,
      "rowLimit": 10000
     },
     "inputWidgets": {},
     "nuid": "6f7282fa-b75f-4224-be5a-7c688fa5e47e",
     "showTitle": false,
     "title": ""
    },
    "id": "TLYZ9l3II3rl",
    "outputId": "45a1986b-0d7a-4aaf-b9e3-93d947dd1ef3"
   },
   "outputs": [
    {
     "output_type": "stream",
     "name": "stdout",
     "output_type": "stream",
     "text": [
      "Out[8]: Index(['Type', 'Age', 'Breed1', 'Gender', 'Color1', 'Color2', 'MaturitySize',\n       'FurLength', 'Vaccinated', 'Sterilized', 'Health', 'Fee', 'Description',\n       'PhotoAmt', 'target'],\n      dtype='object')"
     ]
    }
   ],
   "source": [
    "dataframe.columns"
   ]
  },
  {
   "cell_type": "code",
   "execution_count": 0,
   "metadata": {
    "application/vnd.databricks.v1+cell": {
     "cellMetadata": {
      "byteLimit": 2048000,
      "rowLimit": 10000
     },
     "inputWidgets": {},
     "nuid": "37a3dcd5-44ef-419a-8ec0-481cc9c8cc60",
     "showTitle": false,
     "title": ""
    },
    "id": "0-O6OG5UI3rm",
    "outputId": "206763d8-07e3-4a26-cace-e40936003f59"
   },
   "outputs": [
    {
     "output_type": "stream",
     "name": "stdout",
     "output_type": "stream",
     "text": [
      "<class 'pandas.core.frame.DataFrame'>\nRangeIndex: 11537 entries, 0 to 11536\nData columns (total 15 columns):\n #   Column        Non-Null Count  Dtype \n---  ------        --------------  ----- \n 0   Type          11537 non-null  object\n 1   Age           11537 non-null  int64 \n 2   Breed1        11537 non-null  object\n 3   Gender        11537 non-null  object\n 4   Color1        11537 non-null  object\n 5   Color2        11537 non-null  object\n 6   MaturitySize  11537 non-null  object\n 7   FurLength     11537 non-null  object\n 8   Vaccinated    11537 non-null  object\n 9   Sterilized    11537 non-null  object\n 10  Health        11537 non-null  object\n 11  Fee           11537 non-null  int64 \n 12  Description   11528 non-null  object\n 13  PhotoAmt      11537 non-null  int64 \n 14  target        11537 non-null  int64 \ndtypes: int64(4), object(11)\nmemory usage: 1.3+ MB\n"
     ]
    }
   ],
   "source": [
    "dataframe.info()"
   ]
  },
  {
   "cell_type": "code",
   "execution_count": 0,
   "metadata": {
    "application/vnd.databricks.v1+cell": {
     "cellMetadata": {
      "byteLimit": 2048000,
      "rowLimit": 10000
     },
     "inputWidgets": {},
     "nuid": "80617500-a7c0-49b1-9483-90da4427f457",
     "showTitle": false,
     "title": ""
    },
    "id": "5-VqF2eTI3rn",
    "outputId": "6dfa1984-3f42-4a66-a123-36db96b18835"
   },
   "outputs": [
    {
     "output_type": "stream",
     "name": "stdout",
     "output_type": "stream",
     "text": [
      "Out[10]: 1    8457\n0    3080\nName: target, dtype: int64"
     ]
    }
   ],
   "source": [
    "dataframe.target.value_counts()"
   ]
  },
  {
   "cell_type": "code",
   "execution_count": 0,
   "metadata": {
    "application/vnd.databricks.v1+cell": {
     "cellMetadata": {
      "byteLimit": 2048000,
      "rowLimit": 10000
     },
     "inputWidgets": {},
     "nuid": "7d0783d0-4d90-4fe7-9806-f84292d08fcb",
     "showTitle": false,
     "title": ""
    },
    "id": "cf_BEot1I3ro",
    "outputId": "32678e2a-1c6b-47cb-bda1-2e86371b95a7"
   },
   "outputs": [],
   "source": [
    "dataframe.Description = dataframe.Description.fillna('- no description -')"
   ]
  },
  {
   "cell_type": "markdown",
   "metadata": {
    "application/vnd.databricks.v1+cell": {
     "cellMetadata": {
      "byteLimit": 2048000,
      "rowLimit": 10000
     },
     "inputWidgets": {},
     "nuid": "8c0422d4-27cf-4cf6-90a6-61028d2425f6",
     "showTitle": false,
     "title": ""
    },
    "id": "yJpJUD8EI3rp"
   },
   "source": [
    "## Featurize with Sklearn Column Transformer"
   ]
  },
  {
   "cell_type": "code",
   "execution_count": 0,
   "metadata": {
    "application/vnd.databricks.v1+cell": {
     "cellMetadata": {
      "byteLimit": 2048000,
      "rowLimit": 10000
     },
     "inputWidgets": {},
     "nuid": "642f557d-6706-49a8-ab79-37fcb2ff0fa0",
     "showTitle": false,
     "title": ""
    },
    "id": "ABGU1TwII3rp",
    "outputId": "bbacc5be-ddb7-4c4b-c597-4fa19399ab8e"
   },
   "outputs": [],
   "source": [
    "from sklearn.compose import make_column_transformer\n",
    "from sklearn.compose import ColumnTransformer\n",
    "from sklearn.feature_extraction.text import CountVectorizer, TfidfVectorizer\n",
    "from sklearn.preprocessing import OneHotEncoder, StandardScaler\n",
    "from sklearn.linear_model import LogisticRegression\n",
    "from sklearn.model_selection import train_test_split\n",
    "\n",
    "column_trans = make_column_transformer(\n",
    "     (OneHotEncoder(handle_unknown='ignore', categories='auto'), ['Type', 'Breed1', 'Gender', 'Color1', 'Color2', 'MaturitySize',\n",
    "       'FurLength', 'Vaccinated', 'Sterilized', 'Health']),\n",
    "     (TfidfVectorizer(max_features=100,  norm='l2', ngram_range=(1, 3)), 'Description'),\n",
    "     remainder=StandardScaler())\n",
    "\n",
    "X = column_trans.fit_transform(dataframe.drop(['target'], axis=1))\n",
    "\n",
    "y = dataframe.target"
   ]
  },
  {
   "cell_type": "code",
   "execution_count": 0,
   "metadata": {
    "application/vnd.databricks.v1+cell": {
     "cellMetadata": {
      "byteLimit": 2048000,
      "rowLimit": 10000
     },
     "inputWidgets": {},
     "nuid": "e9ec05ef-bb43-4ea9-9b27-db9356fade58",
     "showTitle": false,
     "title": ""
    },
    "id": "IYPAwe2OI3rs",
    "outputId": "68c65e58-27b8-48f0-c160-2628c1011447"
   },
   "outputs": [
    {
     "output_type": "stream",
     "name": "stdout",
     "output_type": "stream",
     "text": [
      "Out[13]: 2"
     ]
    }
   ],
   "source": [
    "y.nunique()\n"
   ]
  },
  {
   "cell_type": "code",
   "execution_count": 0,
   "metadata": {
    "application/vnd.databricks.v1+cell": {
     "cellMetadata": {
      "byteLimit": 2048000,
      "rowLimit": 10000
     },
     "inputWidgets": {},
     "nuid": "3102e9f4-541e-43a6-9cb4-432377593e10",
     "showTitle": false,
     "title": ""
    },
    "id": "z3ekjejkI3rs",
    "outputId": "016c7e17-1286-4657-d141-6cfdd0b4552b"
   },
   "outputs": [
    {
     "output_type": "stream",
     "name": "stdout",
     "output_type": "stream",
     "text": [
      "Out[14]: (11537, 302)"
     ]
    }
   ],
   "source": [
    "X.shape"
   ]
  },
  {
   "cell_type": "code",
   "execution_count": 0,
   "metadata": {
    "application/vnd.databricks.v1+cell": {
     "cellMetadata": {
      "byteLimit": 2048000,
      "rowLimit": 10000
     },
     "inputWidgets": {},
     "nuid": "bef2eae5-c018-46f0-88d7-42e6387343f6",
     "showTitle": false,
     "title": ""
    },
    "id": "8mPUXd7sI3rt",
    "outputId": "5c3000c9-5b93-4da7-fe49-7aa00411b2af"
   },
   "outputs": [],
   "source": [
    "input_dim = X.shape[1]"
   ]
  },
  {
   "cell_type": "code",
   "execution_count": 0,
   "metadata": {
    "application/vnd.databricks.v1+cell": {
     "cellMetadata": {
      "byteLimit": 2048000,
      "rowLimit": 10000
     },
     "inputWidgets": {},
     "nuid": "0db83aa5-580e-4611-be66-a9c6078fff86",
     "showTitle": false,
     "title": ""
    },
    "id": "DpSlH5TEI3ru",
    "outputId": "b37a797d-2de9-4ea8-a36a-4e2b282570f6"
   },
   "outputs": [
    {
     "output_type": "stream",
     "name": "stdout",
     "output_type": "stream",
     "text": [
      "Out[16]: 302"
     ]
    }
   ],
   "source": [
    "input_dim"
   ]
  },
  {
   "cell_type": "code",
   "execution_count": 0,
   "metadata": {
    "application/vnd.databricks.v1+cell": {
     "cellMetadata": {
      "byteLimit": 2048000,
      "rowLimit": 10000
     },
     "inputWidgets": {},
     "nuid": "d7da8187-a1bc-4ed5-bcb5-d979d879f138",
     "showTitle": false,
     "title": ""
    },
    "id": "ILUEOF78I3ru",
    "outputId": "ffb082aa-2314-4a0d-c5c3-5cded5fce1a3"
   },
   "outputs": [
    {
     "output_type": "display_data",
     "data": {
      "text/html": [
       "<div>\n",
       "<style scoped>\n",
       "    .dataframe tbody tr th:only-of-type {\n",
       "        vertical-align: middle;\n",
       "    }\n",
       "\n",
       "    .dataframe tbody tr th {\n",
       "        vertical-align: top;\n",
       "    }\n",
       "\n",
       "    .dataframe thead th {\n",
       "        text-align: right;\n",
       "    }\n",
       "</style>\n",
       "<table border=\"1\" class=\"dataframe\">\n",
       "  <thead>\n",
       "    <tr style=\"text-align: right;\">\n",
       "      <th></th>\n",
       "      <th>col_0</th>\n",
       "      <th>col_1</th>\n",
       "      <th>col_2</th>\n",
       "      <th>col_3</th>\n",
       "      <th>col_4</th>\n",
       "      <th>col_5</th>\n",
       "      <th>col_6</th>\n",
       "      <th>col_7</th>\n",
       "      <th>col_8</th>\n",
       "      <th>col_9</th>\n",
       "      <th>col_10</th>\n",
       "      <th>col_11</th>\n",
       "      <th>col_12</th>\n",
       "      <th>col_13</th>\n",
       "      <th>col_14</th>\n",
       "      <th>col_15</th>\n",
       "      <th>col_16</th>\n",
       "      <th>col_17</th>\n",
       "      <th>col_18</th>\n",
       "      <th>col_19</th>\n",
       "      <th>col_20</th>\n",
       "      <th>col_21</th>\n",
       "      <th>col_22</th>\n",
       "      <th>col_23</th>\n",
       "      <th>col_24</th>\n",
       "      <th>col_25</th>\n",
       "      <th>col_26</th>\n",
       "      <th>col_27</th>\n",
       "      <th>col_28</th>\n",
       "      <th>col_29</th>\n",
       "      <th>col_30</th>\n",
       "      <th>col_31</th>\n",
       "      <th>col_32</th>\n",
       "      <th>col_33</th>\n",
       "      <th>col_34</th>\n",
       "      <th>col_35</th>\n",
       "      <th>col_36</th>\n",
       "      <th>col_37</th>\n",
       "      <th>col_38</th>\n",
       "      <th>col_39</th>\n",
       "      <th>col_40</th>\n",
       "      <th>col_41</th>\n",
       "      <th>col_42</th>\n",
       "      <th>col_43</th>\n",
       "      <th>col_44</th>\n",
       "      <th>col_45</th>\n",
       "      <th>col_46</th>\n",
       "      <th>col_47</th>\n",
       "      <th>col_48</th>\n",
       "      <th>col_49</th>\n",
       "      <th>...</th>\n",
       "      <th>col_253</th>\n",
       "      <th>col_254</th>\n",
       "      <th>col_255</th>\n",
       "      <th>col_256</th>\n",
       "      <th>col_257</th>\n",
       "      <th>col_258</th>\n",
       "      <th>col_259</th>\n",
       "      <th>col_260</th>\n",
       "      <th>col_261</th>\n",
       "      <th>col_262</th>\n",
       "      <th>col_263</th>\n",
       "      <th>col_264</th>\n",
       "      <th>col_265</th>\n",
       "      <th>col_266</th>\n",
       "      <th>col_267</th>\n",
       "      <th>col_268</th>\n",
       "      <th>col_269</th>\n",
       "      <th>col_270</th>\n",
       "      <th>col_271</th>\n",
       "      <th>col_272</th>\n",
       "      <th>col_273</th>\n",
       "      <th>col_274</th>\n",
       "      <th>col_275</th>\n",
       "      <th>col_276</th>\n",
       "      <th>col_277</th>\n",
       "      <th>col_278</th>\n",
       "      <th>col_279</th>\n",
       "      <th>col_280</th>\n",
       "      <th>col_281</th>\n",
       "      <th>col_282</th>\n",
       "      <th>col_283</th>\n",
       "      <th>col_284</th>\n",
       "      <th>col_285</th>\n",
       "      <th>col_286</th>\n",
       "      <th>col_287</th>\n",
       "      <th>col_288</th>\n",
       "      <th>col_289</th>\n",
       "      <th>col_290</th>\n",
       "      <th>col_291</th>\n",
       "      <th>col_292</th>\n",
       "      <th>col_293</th>\n",
       "      <th>col_294</th>\n",
       "      <th>col_295</th>\n",
       "      <th>col_296</th>\n",
       "      <th>col_297</th>\n",
       "      <th>col_298</th>\n",
       "      <th>col_299</th>\n",
       "      <th>col_300</th>\n",
       "      <th>col_301</th>\n",
       "      <th>target</th>\n",
       "    </tr>\n",
       "  </thead>\n",
       "  <tbody>\n",
       "    <tr>\n",
       "      <th>0</th>\n",
       "      <td>1.0</td>\n",
       "      <td>0.0</td>\n",
       "      <td>0.0</td>\n",
       "      <td>0.0</td>\n",
       "      <td>0.0</td>\n",
       "      <td>0.0</td>\n",
       "      <td>0.0</td>\n",
       "      <td>0.0</td>\n",
       "      <td>0.0</td>\n",
       "      <td>0.0</td>\n",
       "      <td>0.0</td>\n",
       "      <td>0.0</td>\n",
       "      <td>0.0</td>\n",
       "      <td>0.0</td>\n",
       "      <td>0.0</td>\n",
       "      <td>0.0</td>\n",
       "      <td>0.0</td>\n",
       "      <td>0.0</td>\n",
       "      <td>0.0</td>\n",
       "      <td>0.0</td>\n",
       "      <td>0.0</td>\n",
       "      <td>0.0</td>\n",
       "      <td>0.0</td>\n",
       "      <td>0.0</td>\n",
       "      <td>0.0</td>\n",
       "      <td>0.0</td>\n",
       "      <td>0.0</td>\n",
       "      <td>0.0</td>\n",
       "      <td>0.0</td>\n",
       "      <td>0.0</td>\n",
       "      <td>0.0</td>\n",
       "      <td>0.0</td>\n",
       "      <td>0.0</td>\n",
       "      <td>0.0</td>\n",
       "      <td>0.0</td>\n",
       "      <td>0.0</td>\n",
       "      <td>0.0</td>\n",
       "      <td>0.0</td>\n",
       "      <td>0.0</td>\n",
       "      <td>0.0</td>\n",
       "      <td>0.0</td>\n",
       "      <td>0.0</td>\n",
       "      <td>0.0</td>\n",
       "      <td>0.0</td>\n",
       "      <td>0.0</td>\n",
       "      <td>0.0</td>\n",
       "      <td>0.0</td>\n",
       "      <td>0.0</td>\n",
       "      <td>0.0</td>\n",
       "      <td>0.0</td>\n",
       "      <td>...</td>\n",
       "      <td>0.000000</td>\n",
       "      <td>0.000000</td>\n",
       "      <td>0.000000</td>\n",
       "      <td>0.171825</td>\n",
       "      <td>0.0</td>\n",
       "      <td>0.137765</td>\n",
       "      <td>0.0</td>\n",
       "      <td>0.000000</td>\n",
       "      <td>0.283609</td>\n",
       "      <td>0.0</td>\n",
       "      <td>0.220992</td>\n",
       "      <td>0.151594</td>\n",
       "      <td>0.000000</td>\n",
       "      <td>0.000000</td>\n",
       "      <td>0.0</td>\n",
       "      <td>0.000000</td>\n",
       "      <td>0.0</td>\n",
       "      <td>0.000000</td>\n",
       "      <td>0.144907</td>\n",
       "      <td>0.000000</td>\n",
       "      <td>0.0</td>\n",
       "      <td>0.158869</td>\n",
       "      <td>0.0</td>\n",
       "      <td>0.0</td>\n",
       "      <td>0.000000</td>\n",
       "      <td>0.170202</td>\n",
       "      <td>0.000000</td>\n",
       "      <td>0.192465</td>\n",
       "      <td>0.190783</td>\n",
       "      <td>0.000000</td>\n",
       "      <td>0.132427</td>\n",
       "      <td>0.176639</td>\n",
       "      <td>0.151246</td>\n",
       "      <td>0.000000</td>\n",
       "      <td>0.0</td>\n",
       "      <td>0.000000</td>\n",
       "      <td>0.000000</td>\n",
       "      <td>0.257843</td>\n",
       "      <td>0.000000</td>\n",
       "      <td>0.000000</td>\n",
       "      <td>0.0</td>\n",
       "      <td>0.000000</td>\n",
       "      <td>0.0</td>\n",
       "      <td>0.000000</td>\n",
       "      <td>0.000000</td>\n",
       "      <td>0.0</td>\n",
       "      <td>-0.452479</td>\n",
       "      <td>0.950288</td>\n",
       "      <td>-0.829762</td>\n",
       "      <td>1</td>\n",
       "    </tr>\n",
       "    <tr>\n",
       "      <th>1</th>\n",
       "      <td>1.0</td>\n",
       "      <td>0.0</td>\n",
       "      <td>0.0</td>\n",
       "      <td>0.0</td>\n",
       "      <td>0.0</td>\n",
       "      <td>0.0</td>\n",
       "      <td>0.0</td>\n",
       "      <td>0.0</td>\n",
       "      <td>0.0</td>\n",
       "      <td>0.0</td>\n",
       "      <td>0.0</td>\n",
       "      <td>0.0</td>\n",
       "      <td>0.0</td>\n",
       "      <td>0.0</td>\n",
       "      <td>0.0</td>\n",
       "      <td>0.0</td>\n",
       "      <td>0.0</td>\n",
       "      <td>0.0</td>\n",
       "      <td>0.0</td>\n",
       "      <td>0.0</td>\n",
       "      <td>0.0</td>\n",
       "      <td>0.0</td>\n",
       "      <td>0.0</td>\n",
       "      <td>0.0</td>\n",
       "      <td>0.0</td>\n",
       "      <td>0.0</td>\n",
       "      <td>0.0</td>\n",
       "      <td>0.0</td>\n",
       "      <td>0.0</td>\n",
       "      <td>0.0</td>\n",
       "      <td>0.0</td>\n",
       "      <td>0.0</td>\n",
       "      <td>0.0</td>\n",
       "      <td>0.0</td>\n",
       "      <td>0.0</td>\n",
       "      <td>0.0</td>\n",
       "      <td>0.0</td>\n",
       "      <td>0.0</td>\n",
       "      <td>0.0</td>\n",
       "      <td>0.0</td>\n",
       "      <td>0.0</td>\n",
       "      <td>0.0</td>\n",
       "      <td>0.0</td>\n",
       "      <td>0.0</td>\n",
       "      <td>0.0</td>\n",
       "      <td>0.0</td>\n",
       "      <td>0.0</td>\n",
       "      <td>0.0</td>\n",
       "      <td>0.0</td>\n",
       "      <td>0.0</td>\n",
       "      <td>...</td>\n",
       "      <td>0.000000</td>\n",
       "      <td>0.000000</td>\n",
       "      <td>0.000000</td>\n",
       "      <td>0.000000</td>\n",
       "      <td>0.0</td>\n",
       "      <td>0.228484</td>\n",
       "      <td>0.0</td>\n",
       "      <td>0.000000</td>\n",
       "      <td>0.000000</td>\n",
       "      <td>0.0</td>\n",
       "      <td>0.000000</td>\n",
       "      <td>0.000000</td>\n",
       "      <td>0.000000</td>\n",
       "      <td>0.000000</td>\n",
       "      <td>0.0</td>\n",
       "      <td>0.000000</td>\n",
       "      <td>0.0</td>\n",
       "      <td>0.000000</td>\n",
       "      <td>0.000000</td>\n",
       "      <td>0.000000</td>\n",
       "      <td>0.0</td>\n",
       "      <td>0.000000</td>\n",
       "      <td>0.0</td>\n",
       "      <td>0.0</td>\n",
       "      <td>0.256152</td>\n",
       "      <td>0.000000</td>\n",
       "      <td>0.000000</td>\n",
       "      <td>0.000000</td>\n",
       "      <td>0.000000</td>\n",
       "      <td>0.000000</td>\n",
       "      <td>0.000000</td>\n",
       "      <td>0.000000</td>\n",
       "      <td>0.250843</td>\n",
       "      <td>0.000000</td>\n",
       "      <td>0.0</td>\n",
       "      <td>0.000000</td>\n",
       "      <td>0.000000</td>\n",
       "      <td>0.213817</td>\n",
       "      <td>0.000000</td>\n",
       "      <td>0.000000</td>\n",
       "      <td>0.0</td>\n",
       "      <td>0.000000</td>\n",
       "      <td>0.0</td>\n",
       "      <td>0.000000</td>\n",
       "      <td>0.000000</td>\n",
       "      <td>0.0</td>\n",
       "      <td>-0.555981</td>\n",
       "      <td>-0.299388</td>\n",
       "      <td>-0.511871</td>\n",
       "      <td>1</td>\n",
       "    </tr>\n",
       "    <tr>\n",
       "      <th>2</th>\n",
       "      <td>0.0</td>\n",
       "      <td>1.0</td>\n",
       "      <td>0.0</td>\n",
       "      <td>0.0</td>\n",
       "      <td>0.0</td>\n",
       "      <td>0.0</td>\n",
       "      <td>0.0</td>\n",
       "      <td>0.0</td>\n",
       "      <td>0.0</td>\n",
       "      <td>0.0</td>\n",
       "      <td>0.0</td>\n",
       "      <td>0.0</td>\n",
       "      <td>0.0</td>\n",
       "      <td>0.0</td>\n",
       "      <td>0.0</td>\n",
       "      <td>0.0</td>\n",
       "      <td>0.0</td>\n",
       "      <td>0.0</td>\n",
       "      <td>0.0</td>\n",
       "      <td>0.0</td>\n",
       "      <td>0.0</td>\n",
       "      <td>0.0</td>\n",
       "      <td>0.0</td>\n",
       "      <td>0.0</td>\n",
       "      <td>0.0</td>\n",
       "      <td>0.0</td>\n",
       "      <td>0.0</td>\n",
       "      <td>0.0</td>\n",
       "      <td>0.0</td>\n",
       "      <td>0.0</td>\n",
       "      <td>0.0</td>\n",
       "      <td>0.0</td>\n",
       "      <td>0.0</td>\n",
       "      <td>0.0</td>\n",
       "      <td>0.0</td>\n",
       "      <td>0.0</td>\n",
       "      <td>0.0</td>\n",
       "      <td>0.0</td>\n",
       "      <td>0.0</td>\n",
       "      <td>0.0</td>\n",
       "      <td>0.0</td>\n",
       "      <td>0.0</td>\n",
       "      <td>0.0</td>\n",
       "      <td>0.0</td>\n",
       "      <td>0.0</td>\n",
       "      <td>0.0</td>\n",
       "      <td>0.0</td>\n",
       "      <td>0.0</td>\n",
       "      <td>0.0</td>\n",
       "      <td>0.0</td>\n",
       "      <td>...</td>\n",
       "      <td>0.000000</td>\n",
       "      <td>0.000000</td>\n",
       "      <td>0.141649</td>\n",
       "      <td>0.000000</td>\n",
       "      <td>0.0</td>\n",
       "      <td>0.000000</td>\n",
       "      <td>0.0</td>\n",
       "      <td>0.172449</td>\n",
       "      <td>0.000000</td>\n",
       "      <td>0.0</td>\n",
       "      <td>0.000000</td>\n",
       "      <td>0.000000</td>\n",
       "      <td>0.000000</td>\n",
       "      <td>0.000000</td>\n",
       "      <td>0.0</td>\n",
       "      <td>0.307225</td>\n",
       "      <td>0.0</td>\n",
       "      <td>0.178193</td>\n",
       "      <td>0.000000</td>\n",
       "      <td>0.000000</td>\n",
       "      <td>0.0</td>\n",
       "      <td>0.000000</td>\n",
       "      <td>0.0</td>\n",
       "      <td>0.0</td>\n",
       "      <td>0.000000</td>\n",
       "      <td>0.000000</td>\n",
       "      <td>0.000000</td>\n",
       "      <td>0.210999</td>\n",
       "      <td>0.209155</td>\n",
       "      <td>0.209619</td>\n",
       "      <td>0.000000</td>\n",
       "      <td>0.000000</td>\n",
       "      <td>0.414527</td>\n",
       "      <td>0.179294</td>\n",
       "      <td>0.0</td>\n",
       "      <td>0.000000</td>\n",
       "      <td>0.000000</td>\n",
       "      <td>0.141336</td>\n",
       "      <td>0.000000</td>\n",
       "      <td>0.000000</td>\n",
       "      <td>0.0</td>\n",
       "      <td>0.000000</td>\n",
       "      <td>0.0</td>\n",
       "      <td>0.000000</td>\n",
       "      <td>0.000000</td>\n",
       "      <td>0.0</td>\n",
       "      <td>-0.555981</td>\n",
       "      <td>-0.299388</td>\n",
       "      <td>1.077583</td>\n",
       "      <td>1</td>\n",
       "    </tr>\n",
       "    <tr>\n",
       "      <th>3</th>\n",
       "      <td>0.0</td>\n",
       "      <td>1.0</td>\n",
       "      <td>0.0</td>\n",
       "      <td>0.0</td>\n",
       "      <td>0.0</td>\n",
       "      <td>0.0</td>\n",
       "      <td>0.0</td>\n",
       "      <td>0.0</td>\n",
       "      <td>0.0</td>\n",
       "      <td>0.0</td>\n",
       "      <td>0.0</td>\n",
       "      <td>0.0</td>\n",
       "      <td>0.0</td>\n",
       "      <td>0.0</td>\n",
       "      <td>0.0</td>\n",
       "      <td>0.0</td>\n",
       "      <td>0.0</td>\n",
       "      <td>0.0</td>\n",
       "      <td>0.0</td>\n",
       "      <td>0.0</td>\n",
       "      <td>0.0</td>\n",
       "      <td>0.0</td>\n",
       "      <td>0.0</td>\n",
       "      <td>0.0</td>\n",
       "      <td>0.0</td>\n",
       "      <td>0.0</td>\n",
       "      <td>0.0</td>\n",
       "      <td>0.0</td>\n",
       "      <td>0.0</td>\n",
       "      <td>0.0</td>\n",
       "      <td>0.0</td>\n",
       "      <td>0.0</td>\n",
       "      <td>0.0</td>\n",
       "      <td>0.0</td>\n",
       "      <td>0.0</td>\n",
       "      <td>0.0</td>\n",
       "      <td>0.0</td>\n",
       "      <td>0.0</td>\n",
       "      <td>0.0</td>\n",
       "      <td>0.0</td>\n",
       "      <td>0.0</td>\n",
       "      <td>0.0</td>\n",
       "      <td>0.0</td>\n",
       "      <td>0.0</td>\n",
       "      <td>0.0</td>\n",
       "      <td>0.0</td>\n",
       "      <td>0.0</td>\n",
       "      <td>0.0</td>\n",
       "      <td>0.0</td>\n",
       "      <td>0.0</td>\n",
       "      <td>...</td>\n",
       "      <td>0.000000</td>\n",
       "      <td>0.000000</td>\n",
       "      <td>0.000000</td>\n",
       "      <td>0.000000</td>\n",
       "      <td>0.0</td>\n",
       "      <td>0.000000</td>\n",
       "      <td>0.0</td>\n",
       "      <td>0.000000</td>\n",
       "      <td>0.000000</td>\n",
       "      <td>0.0</td>\n",
       "      <td>0.000000</td>\n",
       "      <td>0.000000</td>\n",
       "      <td>0.000000</td>\n",
       "      <td>0.000000</td>\n",
       "      <td>0.0</td>\n",
       "      <td>0.257886</td>\n",
       "      <td>0.0</td>\n",
       "      <td>0.000000</td>\n",
       "      <td>0.000000</td>\n",
       "      <td>0.000000</td>\n",
       "      <td>0.0</td>\n",
       "      <td>0.000000</td>\n",
       "      <td>0.0</td>\n",
       "      <td>0.0</td>\n",
       "      <td>0.000000</td>\n",
       "      <td>0.000000</td>\n",
       "      <td>0.000000</td>\n",
       "      <td>0.000000</td>\n",
       "      <td>0.000000</td>\n",
       "      <td>0.000000</td>\n",
       "      <td>0.000000</td>\n",
       "      <td>0.000000</td>\n",
       "      <td>0.000000</td>\n",
       "      <td>0.000000</td>\n",
       "      <td>0.0</td>\n",
       "      <td>0.000000</td>\n",
       "      <td>0.198538</td>\n",
       "      <td>0.000000</td>\n",
       "      <td>0.000000</td>\n",
       "      <td>0.000000</td>\n",
       "      <td>0.0</td>\n",
       "      <td>0.000000</td>\n",
       "      <td>0.0</td>\n",
       "      <td>0.000000</td>\n",
       "      <td>0.226480</td>\n",
       "      <td>0.0</td>\n",
       "      <td>-0.400729</td>\n",
       "      <td>1.575125</td>\n",
       "      <td>1.395473</td>\n",
       "      <td>1</td>\n",
       "    </tr>\n",
       "    <tr>\n",
       "      <th>4</th>\n",
       "      <td>0.0</td>\n",
       "      <td>1.0</td>\n",
       "      <td>0.0</td>\n",
       "      <td>0.0</td>\n",
       "      <td>0.0</td>\n",
       "      <td>0.0</td>\n",
       "      <td>0.0</td>\n",
       "      <td>0.0</td>\n",
       "      <td>0.0</td>\n",
       "      <td>0.0</td>\n",
       "      <td>0.0</td>\n",
       "      <td>0.0</td>\n",
       "      <td>0.0</td>\n",
       "      <td>0.0</td>\n",
       "      <td>0.0</td>\n",
       "      <td>0.0</td>\n",
       "      <td>0.0</td>\n",
       "      <td>0.0</td>\n",
       "      <td>0.0</td>\n",
       "      <td>0.0</td>\n",
       "      <td>0.0</td>\n",
       "      <td>0.0</td>\n",
       "      <td>0.0</td>\n",
       "      <td>0.0</td>\n",
       "      <td>0.0</td>\n",
       "      <td>0.0</td>\n",
       "      <td>0.0</td>\n",
       "      <td>0.0</td>\n",
       "      <td>0.0</td>\n",
       "      <td>0.0</td>\n",
       "      <td>0.0</td>\n",
       "      <td>0.0</td>\n",
       "      <td>0.0</td>\n",
       "      <td>0.0</td>\n",
       "      <td>0.0</td>\n",
       "      <td>0.0</td>\n",
       "      <td>0.0</td>\n",
       "      <td>0.0</td>\n",
       "      <td>0.0</td>\n",
       "      <td>0.0</td>\n",
       "      <td>0.0</td>\n",
       "      <td>0.0</td>\n",
       "      <td>0.0</td>\n",
       "      <td>0.0</td>\n",
       "      <td>0.0</td>\n",
       "      <td>0.0</td>\n",
       "      <td>0.0</td>\n",
       "      <td>0.0</td>\n",
       "      <td>0.0</td>\n",
       "      <td>0.0</td>\n",
       "      <td>...</td>\n",
       "      <td>0.126763</td>\n",
       "      <td>0.113263</td>\n",
       "      <td>0.000000</td>\n",
       "      <td>0.000000</td>\n",
       "      <td>0.0</td>\n",
       "      <td>0.000000</td>\n",
       "      <td>0.0</td>\n",
       "      <td>0.000000</td>\n",
       "      <td>0.000000</td>\n",
       "      <td>0.0</td>\n",
       "      <td>0.081638</td>\n",
       "      <td>0.000000</td>\n",
       "      <td>0.105362</td>\n",
       "      <td>0.128186</td>\n",
       "      <td>0.0</td>\n",
       "      <td>0.000000</td>\n",
       "      <td>0.0</td>\n",
       "      <td>0.000000</td>\n",
       "      <td>0.107062</td>\n",
       "      <td>0.086649</td>\n",
       "      <td>0.0</td>\n",
       "      <td>0.000000</td>\n",
       "      <td>0.0</td>\n",
       "      <td>0.0</td>\n",
       "      <td>0.000000</td>\n",
       "      <td>0.125751</td>\n",
       "      <td>0.218471</td>\n",
       "      <td>0.142200</td>\n",
       "      <td>0.000000</td>\n",
       "      <td>0.000000</td>\n",
       "      <td>0.195683</td>\n",
       "      <td>0.000000</td>\n",
       "      <td>0.111746</td>\n",
       "      <td>0.120832</td>\n",
       "      <td>0.0</td>\n",
       "      <td>0.120993</td>\n",
       "      <td>0.000000</td>\n",
       "      <td>0.000000</td>\n",
       "      <td>0.223069</td>\n",
       "      <td>0.117846</td>\n",
       "      <td>0.0</td>\n",
       "      <td>0.198113</td>\n",
       "      <td>0.0</td>\n",
       "      <td>0.133816</td>\n",
       "      <td>0.181835</td>\n",
       "      <td>0.0</td>\n",
       "      <td>-0.555981</td>\n",
       "      <td>-0.299388</td>\n",
       "      <td>-0.193980</td>\n",
       "      <td>1</td>\n",
       "    </tr>\n",
       "  </tbody>\n",
       "</table>\n",
       "<p>5 rows × 303 columns</p>\n",
       "</div>"
      ]
     },
     "metadata": {
      "application/vnd.databricks.v1+output": {
       "addedWidgets": {},
       "arguments": {},
       "data": "<div>\n<style scoped>\n    .dataframe tbody tr th:only-of-type {\n        vertical-align: middle;\n    }\n\n    .dataframe tbody tr th {\n        vertical-align: top;\n    }\n\n    .dataframe thead th {\n        text-align: right;\n    }\n</style>\n<table border=\"1\" class=\"dataframe\">\n  <thead>\n    <tr style=\"text-align: right;\">\n      <th></th>\n      <th>col_0</th>\n      <th>col_1</th>\n      <th>col_2</th>\n      <th>col_3</th>\n      <th>col_4</th>\n      <th>col_5</th>\n      <th>col_6</th>\n      <th>col_7</th>\n      <th>col_8</th>\n      <th>col_9</th>\n      <th>col_10</th>\n      <th>col_11</th>\n      <th>col_12</th>\n      <th>col_13</th>\n      <th>col_14</th>\n      <th>col_15</th>\n      <th>col_16</th>\n      <th>col_17</th>\n      <th>col_18</th>\n      <th>col_19</th>\n      <th>col_20</th>\n      <th>col_21</th>\n      <th>col_22</th>\n      <th>col_23</th>\n      <th>col_24</th>\n      <th>col_25</th>\n      <th>col_26</th>\n      <th>col_27</th>\n      <th>col_28</th>\n      <th>col_29</th>\n      <th>col_30</th>\n      <th>col_31</th>\n      <th>col_32</th>\n      <th>col_33</th>\n      <th>col_34</th>\n      <th>col_35</th>\n      <th>col_36</th>\n      <th>col_37</th>\n      <th>col_38</th>\n      <th>col_39</th>\n      <th>col_40</th>\n      <th>col_41</th>\n      <th>col_42</th>\n      <th>col_43</th>\n      <th>col_44</th>\n      <th>col_45</th>\n      <th>col_46</th>\n      <th>col_47</th>\n      <th>col_48</th>\n      <th>col_49</th>\n      <th>...</th>\n      <th>col_253</th>\n      <th>col_254</th>\n      <th>col_255</th>\n      <th>col_256</th>\n      <th>col_257</th>\n      <th>col_258</th>\n      <th>col_259</th>\n      <th>col_260</th>\n      <th>col_261</th>\n      <th>col_262</th>\n      <th>col_263</th>\n      <th>col_264</th>\n      <th>col_265</th>\n      <th>col_266</th>\n      <th>col_267</th>\n      <th>col_268</th>\n      <th>col_269</th>\n      <th>col_270</th>\n      <th>col_271</th>\n      <th>col_272</th>\n      <th>col_273</th>\n      <th>col_274</th>\n      <th>col_275</th>\n      <th>col_276</th>\n      <th>col_277</th>\n      <th>col_278</th>\n      <th>col_279</th>\n      <th>col_280</th>\n      <th>col_281</th>\n      <th>col_282</th>\n      <th>col_283</th>\n      <th>col_284</th>\n      <th>col_285</th>\n      <th>col_286</th>\n      <th>col_287</th>\n      <th>col_288</th>\n      <th>col_289</th>\n      <th>col_290</th>\n      <th>col_291</th>\n      <th>col_292</th>\n      <th>col_293</th>\n      <th>col_294</th>\n      <th>col_295</th>\n      <th>col_296</th>\n      <th>col_297</th>\n      <th>col_298</th>\n      <th>col_299</th>\n      <th>col_300</th>\n      <th>col_301</th>\n      <th>target</th>\n    </tr>\n  </thead>\n  <tbody>\n    <tr>\n      <th>0</th>\n      <td>1.0</td>\n      <td>0.0</td>\n      <td>0.0</td>\n      <td>0.0</td>\n      <td>0.0</td>\n      <td>0.0</td>\n      <td>0.0</td>\n      <td>0.0</td>\n      <td>0.0</td>\n      <td>0.0</td>\n      <td>0.0</td>\n      <td>0.0</td>\n      <td>0.0</td>\n      <td>0.0</td>\n      <td>0.0</td>\n      <td>0.0</td>\n      <td>0.0</td>\n      <td>0.0</td>\n      <td>0.0</td>\n      <td>0.0</td>\n      <td>0.0</td>\n      <td>0.0</td>\n      <td>0.0</td>\n      <td>0.0</td>\n      <td>0.0</td>\n      <td>0.0</td>\n      <td>0.0</td>\n      <td>0.0</td>\n      <td>0.0</td>\n      <td>0.0</td>\n      <td>0.0</td>\n      <td>0.0</td>\n      <td>0.0</td>\n      <td>0.0</td>\n      <td>0.0</td>\n      <td>0.0</td>\n      <td>0.0</td>\n      <td>0.0</td>\n      <td>0.0</td>\n      <td>0.0</td>\n      <td>0.0</td>\n      <td>0.0</td>\n      <td>0.0</td>\n      <td>0.0</td>\n      <td>0.0</td>\n      <td>0.0</td>\n      <td>0.0</td>\n      <td>0.0</td>\n      <td>0.0</td>\n      <td>0.0</td>\n      <td>...</td>\n      <td>0.000000</td>\n      <td>0.000000</td>\n      <td>0.000000</td>\n      <td>0.171825</td>\n      <td>0.0</td>\n      <td>0.137765</td>\n      <td>0.0</td>\n      <td>0.000000</td>\n      <td>0.283609</td>\n      <td>0.0</td>\n      <td>0.220992</td>\n      <td>0.151594</td>\n      <td>0.000000</td>\n      <td>0.000000</td>\n      <td>0.0</td>\n      <td>0.000000</td>\n      <td>0.0</td>\n      <td>0.000000</td>\n      <td>0.144907</td>\n      <td>0.000000</td>\n      <td>0.0</td>\n      <td>0.158869</td>\n      <td>0.0</td>\n      <td>0.0</td>\n      <td>0.000000</td>\n      <td>0.170202</td>\n      <td>0.000000</td>\n      <td>0.192465</td>\n      <td>0.190783</td>\n      <td>0.000000</td>\n      <td>0.132427</td>\n      <td>0.176639</td>\n      <td>0.151246</td>\n      <td>0.000000</td>\n      <td>0.0</td>\n      <td>0.000000</td>\n      <td>0.000000</td>\n      <td>0.257843</td>\n      <td>0.000000</td>\n      <td>0.000000</td>\n      <td>0.0</td>\n      <td>0.000000</td>\n      <td>0.0</td>\n      <td>0.000000</td>\n      <td>0.000000</td>\n      <td>0.0</td>\n      <td>-0.452479</td>\n      <td>0.950288</td>\n      <td>-0.829762</td>\n      <td>1</td>\n    </tr>\n    <tr>\n      <th>1</th>\n      <td>1.0</td>\n      <td>0.0</td>\n      <td>0.0</td>\n      <td>0.0</td>\n      <td>0.0</td>\n      <td>0.0</td>\n      <td>0.0</td>\n      <td>0.0</td>\n      <td>0.0</td>\n      <td>0.0</td>\n      <td>0.0</td>\n      <td>0.0</td>\n      <td>0.0</td>\n      <td>0.0</td>\n      <td>0.0</td>\n      <td>0.0</td>\n      <td>0.0</td>\n      <td>0.0</td>\n      <td>0.0</td>\n      <td>0.0</td>\n      <td>0.0</td>\n      <td>0.0</td>\n      <td>0.0</td>\n      <td>0.0</td>\n      <td>0.0</td>\n      <td>0.0</td>\n      <td>0.0</td>\n      <td>0.0</td>\n      <td>0.0</td>\n      <td>0.0</td>\n      <td>0.0</td>\n      <td>0.0</td>\n      <td>0.0</td>\n      <td>0.0</td>\n      <td>0.0</td>\n      <td>0.0</td>\n      <td>0.0</td>\n      <td>0.0</td>\n      <td>0.0</td>\n      <td>0.0</td>\n      <td>0.0</td>\n      <td>0.0</td>\n      <td>0.0</td>\n      <td>0.0</td>\n      <td>0.0</td>\n      <td>0.0</td>\n      <td>0.0</td>\n      <td>0.0</td>\n      <td>0.0</td>\n      <td>0.0</td>\n      <td>...</td>\n      <td>0.000000</td>\n      <td>0.000000</td>\n      <td>0.000000</td>\n      <td>0.000000</td>\n      <td>0.0</td>\n      <td>0.228484</td>\n      <td>0.0</td>\n      <td>0.000000</td>\n      <td>0.000000</td>\n      <td>0.0</td>\n      <td>0.000000</td>\n      <td>0.000000</td>\n      <td>0.000000</td>\n      <td>0.000000</td>\n      <td>0.0</td>\n      <td>0.000000</td>\n      <td>0.0</td>\n      <td>0.000000</td>\n      <td>0.000000</td>\n      <td>0.000000</td>\n      <td>0.0</td>\n      <td>0.000000</td>\n      <td>0.0</td>\n      <td>0.0</td>\n      <td>0.256152</td>\n      <td>0.000000</td>\n      <td>0.000000</td>\n      <td>0.000000</td>\n      <td>0.000000</td>\n      <td>0.000000</td>\n      <td>0.000000</td>\n      <td>0.000000</td>\n      <td>0.250843</td>\n      <td>0.000000</td>\n      <td>0.0</td>\n      <td>0.000000</td>\n      <td>0.000000</td>\n      <td>0.213817</td>\n      <td>0.000000</td>\n      <td>0.000000</td>\n      <td>0.0</td>\n      <td>0.000000</td>\n      <td>0.0</td>\n      <td>0.000000</td>\n      <td>0.000000</td>\n      <td>0.0</td>\n      <td>-0.555981</td>\n      <td>-0.299388</td>\n      <td>-0.511871</td>\n      <td>1</td>\n    </tr>\n    <tr>\n      <th>2</th>\n      <td>0.0</td>\n      <td>1.0</td>\n      <td>0.0</td>\n      <td>0.0</td>\n      <td>0.0</td>\n      <td>0.0</td>\n      <td>0.0</td>\n      <td>0.0</td>\n      <td>0.0</td>\n      <td>0.0</td>\n      <td>0.0</td>\n      <td>0.0</td>\n      <td>0.0</td>\n      <td>0.0</td>\n      <td>0.0</td>\n      <td>0.0</td>\n      <td>0.0</td>\n      <td>0.0</td>\n      <td>0.0</td>\n      <td>0.0</td>\n      <td>0.0</td>\n      <td>0.0</td>\n      <td>0.0</td>\n      <td>0.0</td>\n      <td>0.0</td>\n      <td>0.0</td>\n      <td>0.0</td>\n      <td>0.0</td>\n      <td>0.0</td>\n      <td>0.0</td>\n      <td>0.0</td>\n      <td>0.0</td>\n      <td>0.0</td>\n      <td>0.0</td>\n      <td>0.0</td>\n      <td>0.0</td>\n      <td>0.0</td>\n      <td>0.0</td>\n      <td>0.0</td>\n      <td>0.0</td>\n      <td>0.0</td>\n      <td>0.0</td>\n      <td>0.0</td>\n      <td>0.0</td>\n      <td>0.0</td>\n      <td>0.0</td>\n      <td>0.0</td>\n      <td>0.0</td>\n      <td>0.0</td>\n      <td>0.0</td>\n      <td>...</td>\n      <td>0.000000</td>\n      <td>0.000000</td>\n      <td>0.141649</td>\n      <td>0.000000</td>\n      <td>0.0</td>\n      <td>0.000000</td>\n      <td>0.0</td>\n      <td>0.172449</td>\n      <td>0.000000</td>\n      <td>0.0</td>\n      <td>0.000000</td>\n      <td>0.000000</td>\n      <td>0.000000</td>\n      <td>0.000000</td>\n      <td>0.0</td>\n      <td>0.307225</td>\n      <td>0.0</td>\n      <td>0.178193</td>\n      <td>0.000000</td>\n      <td>0.000000</td>\n      <td>0.0</td>\n      <td>0.000000</td>\n      <td>0.0</td>\n      <td>0.0</td>\n      <td>0.000000</td>\n      <td>0.000000</td>\n      <td>0.000000</td>\n      <td>0.210999</td>\n      <td>0.209155</td>\n      <td>0.209619</td>\n      <td>0.000000</td>\n      <td>0.000000</td>\n      <td>0.414527</td>\n      <td>0.179294</td>\n      <td>0.0</td>\n      <td>0.000000</td>\n      <td>0.000000</td>\n      <td>0.141336</td>\n      <td>0.000000</td>\n      <td>0.000000</td>\n      <td>0.0</td>\n      <td>0.000000</td>\n      <td>0.0</td>\n      <td>0.000000</td>\n      <td>0.000000</td>\n      <td>0.0</td>\n      <td>-0.555981</td>\n      <td>-0.299388</td>\n      <td>1.077583</td>\n      <td>1</td>\n    </tr>\n    <tr>\n      <th>3</th>\n      <td>0.0</td>\n      <td>1.0</td>\n      <td>0.0</td>\n      <td>0.0</td>\n      <td>0.0</td>\n      <td>0.0</td>\n      <td>0.0</td>\n      <td>0.0</td>\n      <td>0.0</td>\n      <td>0.0</td>\n      <td>0.0</td>\n      <td>0.0</td>\n      <td>0.0</td>\n      <td>0.0</td>\n      <td>0.0</td>\n      <td>0.0</td>\n      <td>0.0</td>\n      <td>0.0</td>\n      <td>0.0</td>\n      <td>0.0</td>\n      <td>0.0</td>\n      <td>0.0</td>\n      <td>0.0</td>\n      <td>0.0</td>\n      <td>0.0</td>\n      <td>0.0</td>\n      <td>0.0</td>\n      <td>0.0</td>\n      <td>0.0</td>\n      <td>0.0</td>\n      <td>0.0</td>\n      <td>0.0</td>\n      <td>0.0</td>\n      <td>0.0</td>\n      <td>0.0</td>\n      <td>0.0</td>\n      <td>0.0</td>\n      <td>0.0</td>\n      <td>0.0</td>\n      <td>0.0</td>\n      <td>0.0</td>\n      <td>0.0</td>\n      <td>0.0</td>\n      <td>0.0</td>\n      <td>0.0</td>\n      <td>0.0</td>\n      <td>0.0</td>\n      <td>0.0</td>\n      <td>0.0</td>\n      <td>0.0</td>\n      <td>...</td>\n      <td>0.000000</td>\n      <td>0.000000</td>\n      <td>0.000000</td>\n      <td>0.000000</td>\n      <td>0.0</td>\n      <td>0.000000</td>\n      <td>0.0</td>\n      <td>0.000000</td>\n      <td>0.000000</td>\n      <td>0.0</td>\n      <td>0.000000</td>\n      <td>0.000000</td>\n      <td>0.000000</td>\n      <td>0.000000</td>\n      <td>0.0</td>\n      <td>0.257886</td>\n      <td>0.0</td>\n      <td>0.000000</td>\n      <td>0.000000</td>\n      <td>0.000000</td>\n      <td>0.0</td>\n      <td>0.000000</td>\n      <td>0.0</td>\n      <td>0.0</td>\n      <td>0.000000</td>\n      <td>0.000000</td>\n      <td>0.000000</td>\n      <td>0.000000</td>\n      <td>0.000000</td>\n      <td>0.000000</td>\n      <td>0.000000</td>\n      <td>0.000000</td>\n      <td>0.000000</td>\n      <td>0.000000</td>\n      <td>0.0</td>\n      <td>0.000000</td>\n      <td>0.198538</td>\n      <td>0.000000</td>\n      <td>0.000000</td>\n      <td>0.000000</td>\n      <td>0.0</td>\n      <td>0.000000</td>\n      <td>0.0</td>\n      <td>0.000000</td>\n      <td>0.226480</td>\n      <td>0.0</td>\n      <td>-0.400729</td>\n      <td>1.575125</td>\n      <td>1.395473</td>\n      <td>1</td>\n    </tr>\n    <tr>\n      <th>4</th>\n      <td>0.0</td>\n      <td>1.0</td>\n      <td>0.0</td>\n      <td>0.0</td>\n      <td>0.0</td>\n      <td>0.0</td>\n      <td>0.0</td>\n      <td>0.0</td>\n      <td>0.0</td>\n      <td>0.0</td>\n      <td>0.0</td>\n      <td>0.0</td>\n      <td>0.0</td>\n      <td>0.0</td>\n      <td>0.0</td>\n      <td>0.0</td>\n      <td>0.0</td>\n      <td>0.0</td>\n      <td>0.0</td>\n      <td>0.0</td>\n      <td>0.0</td>\n      <td>0.0</td>\n      <td>0.0</td>\n      <td>0.0</td>\n      <td>0.0</td>\n      <td>0.0</td>\n      <td>0.0</td>\n      <td>0.0</td>\n      <td>0.0</td>\n      <td>0.0</td>\n      <td>0.0</td>\n      <td>0.0</td>\n      <td>0.0</td>\n      <td>0.0</td>\n      <td>0.0</td>\n      <td>0.0</td>\n      <td>0.0</td>\n      <td>0.0</td>\n      <td>0.0</td>\n      <td>0.0</td>\n      <td>0.0</td>\n      <td>0.0</td>\n      <td>0.0</td>\n      <td>0.0</td>\n      <td>0.0</td>\n      <td>0.0</td>\n      <td>0.0</td>\n      <td>0.0</td>\n      <td>0.0</td>\n      <td>0.0</td>\n      <td>...</td>\n      <td>0.126763</td>\n      <td>0.113263</td>\n      <td>0.000000</td>\n      <td>0.000000</td>\n      <td>0.0</td>\n      <td>0.000000</td>\n      <td>0.0</td>\n      <td>0.000000</td>\n      <td>0.000000</td>\n      <td>0.0</td>\n      <td>0.081638</td>\n      <td>0.000000</td>\n      <td>0.105362</td>\n      <td>0.128186</td>\n      <td>0.0</td>\n      <td>0.000000</td>\n      <td>0.0</td>\n      <td>0.000000</td>\n      <td>0.107062</td>\n      <td>0.086649</td>\n      <td>0.0</td>\n      <td>0.000000</td>\n      <td>0.0</td>\n      <td>0.0</td>\n      <td>0.000000</td>\n      <td>0.125751</td>\n      <td>0.218471</td>\n      <td>0.142200</td>\n      <td>0.000000</td>\n      <td>0.000000</td>\n      <td>0.195683</td>\n      <td>0.000000</td>\n      <td>0.111746</td>\n      <td>0.120832</td>\n      <td>0.0</td>\n      <td>0.120993</td>\n      <td>0.000000</td>\n      <td>0.000000</td>\n      <td>0.223069</td>\n      <td>0.117846</td>\n      <td>0.0</td>\n      <td>0.198113</td>\n      <td>0.0</td>\n      <td>0.133816</td>\n      <td>0.181835</td>\n      <td>0.0</td>\n      <td>-0.555981</td>\n      <td>-0.299388</td>\n      <td>-0.193980</td>\n      <td>1</td>\n    </tr>\n  </tbody>\n</table>\n<p>5 rows × 303 columns</p>\n</div>",
       "datasetInfos": [],
       "metadata": {},
       "removedWidgets": [],
       "textData": null,
       "type": "htmlSandbox"
      }
     },
     "output_type": "display_data"
    }
   ],
   "source": [
    "import scipy.sparse\n",
    "\n",
    "df = pd.DataFrame.sparse.from_spmatrix(X)\n",
    "\n",
    "df.columns = ['col_{}'.format(i) for i in range(input_dim)]\n",
    "\n",
    "df = df.fillna(0)\n",
    "\n",
    "df['target']= y\n",
    "\n",
    "df.head()"
   ]
  },
  {
   "cell_type": "markdown",
   "metadata": {
    "application/vnd.databricks.v1+cell": {
     "cellMetadata": {
      "byteLimit": 2048000,
      "rowLimit": 10000
     },
     "inputWidgets": {},
     "nuid": "e0391099-cff7-4139-9be6-2ce4d3e6e94c",
     "showTitle": false,
     "title": ""
    },
    "id": "7Hca9pLmI3ru"
   },
   "source": [
    "## Train with Spark NLP Generic Classifier"
   ]
  },
  {
   "cell_type": "markdown",
   "metadata": {
    "application/vnd.databricks.v1+cell": {
     "cellMetadata": {
      "byteLimit": 2048000,
      "rowLimit": 10000
     },
     "inputWidgets": {},
     "nuid": "fc2fd4cc-f6a1-4315-a4cb-f9861d1339a0",
     "showTitle": false,
     "title": ""
    },
    "id": "B6aaf2dGI3ru"
   },
   "source": [
    "**Building a pipeline**\n",
    "\n",
    "The FeaturesAssembler is used to collect features from different columns. It can collect features from single value columns (anything which can be cast to a float, if casts fails then the value is set to 0), array columns or SparkNLP annotations (if the annotation is an embedding, it takes the embedding, otherwise tries to cast the 'result' field). The output of the transformer is a FEATURE_VECTOR annotation (the numeric vector is in the 'embeddings' field).\n",
    "\n",
    "The GenericClassifierApproach takes FEATURE_VECTOR annotations as input, classifies them and outputs CATEGORY annotations. The operation of the classifier is controled by the following methods:\n",
    "\n",
    "*setEpochsNumber(int)* - Determines how many epochs the model is trained.\n",
    "\n",
    "*setBatchSize(int)* - Sets the batch size during training.\n",
    "\n",
    "*setLearningRate(float)* - Sets the learning rate.\n",
    "\n",
    "*setValidationSplit(float)* - Sets the proportion of examples in the training set used for validation.\n",
    "\n",
    "*setModelFile(string)* - Loads a model from the specified location and uses it instead of the default model.\n",
    "\n",
    "*setFixImbalance(boolean)* - If set to true, it tries to balance the training set by weighting the classes according to the inverse of the examples they have.\n",
    "\n",
    "*setFeatureScaling(string)* - Normalizes the feature factors using the specified method (\"zscore\", \"minmax\" or empty for no normalization).\n",
    "\n",
    "*setOutputLogsPath(string)* - Sets the path to a folder where logs of training progress will be saved. No logs are generated if no path is specified."
   ]
  },
  {
   "cell_type": "code",
   "execution_count": 0,
   "metadata": {
    "application/vnd.databricks.v1+cell": {
     "cellMetadata": {
      "byteLimit": 2048000,
      "rowLimit": 10000
     },
     "inputWidgets": {},
     "nuid": "206a4ba2-c7c0-4c65-b413-f199a17ca386",
     "showTitle": false,
     "title": ""
    },
    "id": "GA2ixcW1I3rv",
    "outputId": "79fae49b-e5f0-4bc7-bc13-2b7bf3754590"
   },
   "outputs": [
    {
     "output_type": "stream",
     "name": "stdout",
     "output_type": "stream",
     "text": [
      "+-------+-------+-------+-------+-------+-------+-------------------+--------------------+-------------------+------+\n|col_293|col_294|col_295|col_296|col_297|col_298|            col_299|             col_300|            col_301|target|\n+-------+-------+-------+-------+-------+-------+-------------------+--------------------+-------------------+------+\n|    0.0|    0.0|    0.0|    0.0|    0.0|    0.0|-0.4524794726808656|  0.9502875792756131|-0.8297616989552165|     1|\n|    0.0|    0.0|    0.0|    0.0|    0.0|    0.0| -0.555981017719065|-0.29938816657135553|-0.5118709929431844|     1|\n+-------+-------+-------+-------+-------+-------+-------------------+--------------------+-------------------+------+\nonly showing top 2 rows\n\n"
     ]
    }
   ],
   "source": [
    "spark_df = spark.createDataFrame(df)\n",
    "spark_df.select(spark_df.columns[-10:]).show(2)"
   ]
  },
  {
   "cell_type": "code",
   "execution_count": 0,
   "metadata": {
    "application/vnd.databricks.v1+cell": {
     "cellMetadata": {
      "byteLimit": 2048000,
      "rowLimit": 10000
     },
     "inputWidgets": {},
     "nuid": "34869e9d-de62-4dc5-a7d0-5ada9c2d2f83",
     "showTitle": false,
     "title": ""
    },
    "id": "wHQkfrcBI3rv",
    "outputId": "b11ee4c7-f924-4b43-aa21-b4bb7be0ec6d"
   },
   "outputs": [
    {
     "output_type": "stream",
     "name": "stdout",
     "output_type": "stream",
     "text": [
      "Training Dataset Count: 9169\nTest Dataset Count: 2368\n"
     ]
    }
   ],
   "source": [
    "(training_data, test_data) = spark_df.randomSplit([0.8, 0.2], seed = 100)\n",
    "\n",
    "print(\"Training Dataset Count: \" + str(training_data.count()))\n",
    "print(\"Test Dataset Count: \" + str(test_data.count()))"
   ]
  },
  {
   "cell_type": "markdown",
   "metadata": {
    "application/vnd.databricks.v1+cell": {
     "cellMetadata": {
      "byteLimit": 2048000,
      "rowLimit": 10000
     },
     "inputWidgets": {},
     "nuid": "f059d942-31f0-4e39-83f6-15e47842e264",
     "showTitle": false,
     "title": ""
    },
    "id": "D0zmFqzwI3rv"
   },
   "source": [
    "Training with a custom graph"
   ]
  },
  {
   "cell_type": "code",
   "execution_count": 0,
   "metadata": {
    "application/vnd.databricks.v1+cell": {
     "cellMetadata": {
      "byteLimit": 2048000,
      "rowLimit": 10000
     },
     "inputWidgets": {},
     "nuid": "6aba9495-ff96-4e92-9c5e-913b41d75416",
     "showTitle": false,
     "title": ""
    },
    "id": "CTtxRBfoI3rw"
   },
   "outputs": [
    {
     "output_type": "stream",
     "name": "stdout",
     "output_type": "stream",
     "text": [
      "Out[20]: '\\n!wget -q https://raw.githubusercontent.com/JohnSnowLabs/spark-nlp-workshop/master/tutorials/Certification_Trainings/Healthcare/generic_classifier_graph/pet.in1202D.out2.pb -P /databricks/driver/gc_graph\\n'"
     ]
    }
   ],
   "source": [
    "#or just use the one we already have in the repo\n",
    "'''\n",
    "!wget -q https://raw.githubusercontent.com/JohnSnowLabs/spark-nlp-workshop/master/tutorials/Certification_Trainings/Healthcare/generic_classifier_graph/pet.in1202D.out2.pb -P /databricks/driver/gc_graph\n",
    "'''"
   ]
  },
  {
   "cell_type": "code",
   "execution_count": 0,
   "metadata": {
    "application/vnd.databricks.v1+cell": {
     "cellMetadata": {
      "byteLimit": 2048000,
      "rowLimit": 10000
     },
     "inputWidgets": {},
     "nuid": "3c32371b-86f8-492f-9c8a-a0536961c310",
     "showTitle": false,
     "title": ""
    },
    "id": "RwkA_ugpI3rw",
    "outputId": "39c873a5-2aed-4295-b98b-5a7da9faaf8e"
   },
   "outputs": [
    {
     "output_type": "display_data",
     "data": {
      "text/html": [
       "<style scoped>\n",
       "  .ansiout {\n",
       "    display: block;\n",
       "    unicode-bidi: embed;\n",
       "    white-space: pre-wrap;\n",
       "    word-wrap: break-word;\n",
       "    word-break: break-all;\n",
       "    font-family: \"Menlo\", \"Monaco\", \"Consolas\", \"Ubuntu Mono\", \"Source Code Pro\", monospace;\n",
       "    font-size: 13px;\n",
       "    color: #555;\n",
       "    margin-left: 4px;\n",
       "    line-height: 19px;\n",
       "  }\n",
       "</style>\n",
       "<div class=\"ansiout\">res0: Boolean = true\n",
       "</div>"
      ]
     },
     "metadata": {
      "application/vnd.databricks.v1+output": {
       "addedWidgets": {},
       "arguments": {},
       "data": "<div class=\"ansiout\">res0: Boolean = true\n</div>",
       "datasetInfos": [],
       "metadata": {
        "isDbfsCommandResult": false
       },
       "removedWidgets": [],
       "type": "html"
      }
     },
     "output_type": "display_data"
    }
   ],
   "source": [
    "%fs mkdirs file:/dbfs/gc_graph"
   ]
  },
  {
   "cell_type": "code",
   "execution_count": 0,
   "metadata": {
    "application/vnd.databricks.v1+cell": {
     "cellMetadata": {
      "byteLimit": 2048000,
      "rowLimit": 10000
     },
     "inputWidgets": {},
     "nuid": "31f1efeb-65a1-4ed6-8208-d169e0e76c6d",
     "showTitle": false,
     "title": ""
    },
    "id": "BEfjQZV9I3rw",
    "outputId": "140459f0-e6cf-4b37-cb77-23f73461b999"
   },
   "outputs": [
    {
     "output_type": "display_data",
     "data": {
      "text/html": [
       "<style scoped>\n",
       "  .ansiout {\n",
       "    display: block;\n",
       "    unicode-bidi: embed;\n",
       "    white-space: pre-wrap;\n",
       "    word-wrap: break-word;\n",
       "    word-break: break-all;\n",
       "    font-family: \"Menlo\", \"Monaco\", \"Consolas\", \"Ubuntu Mono\", \"Source Code Pro\", monospace;\n",
       "    font-size: 13px;\n",
       "    color: #555;\n",
       "    margin-left: 4px;\n",
       "    line-height: 19px;\n",
       "  }\n",
       "</style>\n",
       "<div class=\"ansiout\">res1: Boolean = true\n",
       "</div>"
      ]
     },
     "metadata": {
      "application/vnd.databricks.v1+output": {
       "addedWidgets": {},
       "arguments": {},
       "data": "<div class=\"ansiout\">res1: Boolean = true\n</div>",
       "datasetInfos": [],
       "metadata": {
        "isDbfsCommandResult": false
       },
       "removedWidgets": [],
       "type": "html"
      }
     },
     "output_type": "display_data"
    }
   ],
   "source": [
    "%fs mkdirs file:/dbfs/generic_logs"
   ]
  },
  {
   "cell_type": "markdown",
   "metadata": {
    "application/vnd.databricks.v1+cell": {
     "cellMetadata": {
      "byteLimit": 2048000,
      "rowLimit": 10000
     },
     "inputWidgets": {},
     "nuid": "ebbcb949-ed47-4b03-9e2d-999e429f5bab",
     "showTitle": false,
     "title": ""
    },
    "id": "wihiDXVqI3rw"
   },
   "source": [
    "Graph and log folder has been created. <br/>\n",
    "We will create a custom graph and train the model. <br/>"
   ]
  },
  {
   "cell_type": "code",
   "execution_count": 0,
   "metadata": {
    "application/vnd.databricks.v1+cell": {
     "cellMetadata": {
      "byteLimit": 2048000,
      "rowLimit": 10000
     },
     "inputWidgets": {},
     "nuid": "b08aa32a-9b9a-4615-9fc9-adfc35e16b04",
     "showTitle": false,
     "title": ""
    }
   },
   "outputs": [],
   "source": [
    "#!pip install -q tensorflow==2.12.0\n",
    "#!pip install -q tensorflow-addons"
   ]
  },
  {
   "cell_type": "code",
   "execution_count": 0,
   "metadata": {
    "application/vnd.databricks.v1+cell": {
     "cellMetadata": {
      "byteLimit": 2048000,
      "rowLimit": 10000
     },
     "inputWidgets": {},
     "nuid": "977ca63b-79b6-4416-be3e-55e9ed868234",
     "showTitle": false,
     "title": ""
    },
    "id": "la3mw2oEI3rx",
    "outputId": "351708b7-94cd-48dd-be92-021b18644627"
   },
   "outputs": [
    {
     "output_type": "stream",
     "name": "stderr",
     "output_type": "stream",
     "text": [
      "WARNING:tensorflow:From /local_disk0/.ephemeral_nfs/cluster_libraries/python/lib/python3.9/site-packages/keras/layers/normalization/batch_normalization.py:581: _colocate_with (from tensorflow.python.framework.ops) is deprecated and will be removed in a future version.\nInstructions for updating:\nColocations handled automatically by placer.\n"
     ]
    },
    {
     "output_type": "stream",
     "name": "stdout",
     "output_type": "stream",
     "text": [
      "generic_classifier graph exported to file:/dbfs/gc_graph/gcl.302.2.pb\n"
     ]
    }
   ],
   "source": [
    "DL_params = {\"input_dim\": input_dim, \n",
    "             \"output_dim\": y.nunique(), \n",
    "             \"hidden_layers\": [300, 200, 100], \n",
    "             \"hidden_act\": \"tanh\",\n",
    "             'hidden_act_l2':1,\n",
    "             'batch_norm':1}\n",
    "\n",
    "\n",
    "medical.tf_graph.build(\"generic_classifier\",\n",
    "               build_params=DL_params, \n",
    "               model_location=\"file:/dbfs/gc_graph\",\n",
    "               model_filename=\"auto\")"
   ]
  },
  {
   "cell_type": "code",
   "execution_count": 0,
   "metadata": {
    "application/vnd.databricks.v1+cell": {
     "cellMetadata": {
      "byteLimit": 2048000,
      "rowLimit": 10000
     },
     "inputWidgets": {},
     "nuid": "e3b8145d-a749-445e-830e-620a479ab6b2",
     "showTitle": false,
     "title": ""
    },
    "id": "kWQ9rUToI3rx",
    "outputId": "e4895998-e4a5-4fc9-c120-b5957dbb16b7"
   },
   "outputs": [],
   "source": [
    "#from sparknlp_jsl.base import *\n",
    "\n",
    "\n",
    "features_asm = medical.FeaturesAssembler()\\\n",
    "      .setInputCols(['col_{}'.format(i) for i in range(X.shape[1])])\\\n",
    "      .setOutputCol(\"features\")\n",
    "\n",
    "gen_clf = medical.GenericClassifierApproach()\\\n",
    "    .setLabelColumn(\"target\")\\\n",
    "    .setInputCols([\"features\"])\\\n",
    "    .setOutputCol(\"prediction\")\\\n",
    "    .setModelFile('file:/dbfs/gc_graph/gcl.302.2.pb')\\\n",
    "    .setEpochsNumber(50)\\\n",
    "    .setBatchSize(100)\\\n",
    "    .setFeatureScaling(\"zscore\")\\\n",
    "    .setFixImbalance(True)\\\n",
    "    .setLearningRate(0.001)\\\n",
    "    .setOutputLogsPath(\"dbfs:/generic_logs\")\\\n",
    "    .setValidationSplit(0.2) # keep 20% of the data for validation purposes\n",
    "\n",
    "clf_Pipeline = nlp.Pipeline(stages=[\n",
    "    features_asm, \n",
    "    gen_clf])"
   ]
  },
  {
   "cell_type": "code",
   "execution_count": 0,
   "metadata": {
    "application/vnd.databricks.v1+cell": {
     "cellMetadata": {
      "byteLimit": 2048000,
      "rowLimit": 10000
     },
     "inputWidgets": {},
     "nuid": "dff22e0a-e39e-4cc6-8138-6580cf78629d",
     "showTitle": false,
     "title": ""
    },
    "id": "RbD3kxGHI3ry",
    "outputId": "30ef9b78-b3c0-4853-ca41-d96e9103f0a3"
   },
   "outputs": [],
   "source": [
    "clf_model = clf_Pipeline.fit(training_data)"
   ]
  },
  {
   "cell_type": "markdown",
   "metadata": {
    "application/vnd.databricks.v1+cell": {
     "cellMetadata": {
      "byteLimit": 2048000,
      "rowLimit": 10000
     },
     "inputWidgets": {},
     "nuid": "48691c93-125b-4d8e-97ee-d28877ce35a6",
     "showTitle": false,
     "title": ""
    },
    "id": "avkdhKr6I3rz"
   },
   "source": [
    "Getting predictions"
   ]
  },
  {
   "cell_type": "code",
   "execution_count": 0,
   "metadata": {
    "application/vnd.databricks.v1+cell": {
     "cellMetadata": {
      "byteLimit": 2048000,
      "rowLimit": 10000
     },
     "inputWidgets": {},
     "nuid": "de530d22-8dc0-4c66-9c60-818a72880514",
     "showTitle": false,
     "title": ""
    },
    "id": "HdAh0aS1I3rz",
    "outputId": "91f8aa2d-29a0-474a-c693-121ec9d3371d"
   },
   "outputs": [],
   "source": [
    "pred_df = clf_model.transform(test_data)"
   ]
  },
  {
   "cell_type": "code",
   "execution_count": 0,
   "metadata": {
    "application/vnd.databricks.v1+cell": {
     "cellMetadata": {
      "byteLimit": 2048000,
      "rowLimit": 10000
     },
     "inputWidgets": {},
     "nuid": "7ddaddad-bcb8-43a5-b74f-ae0895180ccb",
     "showTitle": false,
     "title": ""
    },
    "id": "JW-ZCgSLI3rz",
    "outputId": "4225ec53-ae27-4798-f29a-11a845640969"
   },
   "outputs": [
    {
     "output_type": "stream",
     "name": "stdout",
     "output_type": "stream",
     "text": [
      "+------+------+\n|target|result|\n+------+------+\n|     0|   [1]|\n|     1|   [0]|\n|     1|   [1]|\n|     1|   [1]|\n|     1|   [1]|\n|     1|   [1]|\n|     0|   [1]|\n|     1|   [1]|\n|     1|   [1]|\n|     1|   [1]|\n|     1|   [1]|\n|     1|   [1]|\n|     0|   [0]|\n|     1|   [1]|\n|     0|   [1]|\n|     1|   [1]|\n|     1|   [1]|\n|     1|   [1]|\n|     0|   [0]|\n|     1|   [1]|\n+------+------+\nonly showing top 20 rows\n\n"
     ]
    }
   ],
   "source": [
    "pred_df.select('target','prediction.result').show()"
   ]
  },
  {
   "cell_type": "code",
   "execution_count": 0,
   "metadata": {
    "application/vnd.databricks.v1+cell": {
     "cellMetadata": {
      "byteLimit": 2048000,
      "rowLimit": 10000
     },
     "inputWidgets": {},
     "nuid": "6304e396-c975-4153-a95c-6bbffc240938",
     "showTitle": false,
     "title": ""
    },
    "id": "_klzhdcDI3rz",
    "outputId": "0a17eb11-d0d5-4dff-dfe5-4a513b7a1936"
   },
   "outputs": [],
   "source": [
    "preds_df = pred_df.select('target','prediction.result').toPandas()\n",
    "\n",
    "# Let's explode the array and get the item(s) inside of result column out\n",
    "preds_df['result'] = preds_df['result'].apply(lambda x : int(x[0]))"
   ]
  },
  {
   "cell_type": "code",
   "execution_count": 0,
   "metadata": {
    "application/vnd.databricks.v1+cell": {
     "cellMetadata": {
      "byteLimit": 2048000,
      "rowLimit": 10000
     },
     "inputWidgets": {},
     "nuid": "6e35c94c-e76d-42b0-91af-6186d91a4856",
     "showTitle": false,
     "title": ""
    },
    "id": "OWLMFkLGI3r0",
    "outputId": "fd76a9b5-a251-49ae-de89-2f008b1bc6ae"
   },
   "outputs": [
    {
     "output_type": "stream",
     "name": "stdout",
     "output_type": "stream",
     "text": [
      "              precision    recall  f1-score   support\n\n           0     0.4406    0.5483    0.4886       507\n           1     0.8682    0.8103    0.8382      1861\n\n    accuracy                         0.7542      2368\n   macro avg     0.6544    0.6793    0.6634      2368\nweighted avg     0.7766    0.7542    0.7634      2368\n\n0.754222972972973\n"
     ]
    }
   ],
   "source": [
    "# We are going to use sklearn to evalute the results on test dataset\n",
    "from sklearn.metrics import classification_report, accuracy_score\n",
    "\n",
    "print (classification_report(preds_df['result'], preds_df['target'], digits=4))\n",
    "\n",
    "print (accuracy_score(preds_df['result'], preds_df['target']))"
   ]
  },
  {
   "cell_type": "markdown",
   "metadata": {
    "application/vnd.databricks.v1+cell": {
     "cellMetadata": {
      "byteLimit": 2048000,
      "rowLimit": 10000
     },
     "inputWidgets": {},
     "nuid": "63489f49-5764-43b5-b150-0e3f39e299d7",
     "showTitle": false,
     "title": ""
    }
   },
   "source": [
    "## Create a custom DL architecture with TF"
   ]
  },
  {
   "cell_type": "code",
   "execution_count": 0,
   "metadata": {
    "application/vnd.databricks.v1+cell": {
     "cellMetadata": {
      "byteLimit": 2048000,
      "rowLimit": 10000
     },
     "inputWidgets": {},
     "nuid": "8ed44fb7-ba2f-4bf2-8915-b77083ece780",
     "showTitle": false,
     "title": ""
    }
   },
   "outputs": [],
   "source": [
    "graph_folder = \"gc_graph\"\n",
    "\n",
    "gc_graph_builder = medical.TFGraphBuilder()\\\n",
    "    .setModelName(\"generic_classifier\")\\\n",
    "    .setInputCols([\"features\"])\\\n",
    "    .setLabelColumn(\"target\")\\\n",
    "    .setHiddenLayers([300, 200, 100])\\\n",
    "    .setHiddenAct(\"tanh\")\\\n",
    "    .setHiddenActL2(True)\\\n",
    "    .setBatchNorm(True)\\\n",
    "    .setGraphFolder(graph_folder)\\\n",
    "    .setGraphFile(\"gcf_graph.pb\")"
   ]
  },
  {
   "cell_type": "code",
   "execution_count": 0,
   "metadata": {
    "application/vnd.databricks.v1+cell": {
     "cellMetadata": {
      "byteLimit": 2048000,
      "rowLimit": 10000
     },
     "inputWidgets": {},
     "nuid": "e309ca04-ca60-4042-8502-ef2bbd51f14b",
     "showTitle": false,
     "title": ""
    }
   },
   "outputs": [
    {
     "output_type": "stream",
     "name": "stdout",
     "output_type": "stream",
     "text": [
      "Out[30]: '\\n# or just use the one we already have in the repo\\n\\n!wget -q https://raw.githubusercontent.com/JohnSnowLabs/spark-nlp-workshop/master/tutorials/Certification_Trainings/Healthcare/generic_classifier_graph/pet.in1202D.out2.pb -P /content/gc_graph\\n'"
     ]
    }
   ],
   "source": [
    "'''\n",
    "# Create custom graph\n",
    "\n",
    "# If this method is used, graph folder should be added to training\n",
    "# model as `.setGraphFolder(graph_folder_path)`\n",
    "\n",
    "!mkdir gc_graph\n",
    "\n",
    "medical.tf_graph.print_model_params(\"generic_classifier\")\n",
    "\n",
    "DL_params = {\"input_dim\": input_dim,\n",
    "             \"output_dim\": y.nunique(),\n",
    "             \"hidden_layers\": [300, 200, 100],\n",
    "             \"hidden_act\": \"tanh\",\n",
    "             'hidden_act_l2':1,\n",
    "             'batch_norm':1}\n",
    "\n",
    "\n",
    "medical.tf_graph.build(\"generic_classifier\",\n",
    "               build_params=DL_params,\n",
    "               model_location=\"/content/gc_graph\",\n",
    "               model_filename=\"auto\")\n",
    "'''\n",
    "\n",
    "'''\n",
    "# or just use the one we already have in the repo\n",
    "\n",
    "!wget -q https://raw.githubusercontent.com/JohnSnowLabs/spark-nlp-workshop/master/tutorials/Certification_Trainings/Healthcare/generic_classifier_graph/pet.in1202D.out2.pb -P /content/gc_graph\n",
    "'''"
   ]
  },
  {
   "cell_type": "code",
   "execution_count": 0,
   "metadata": {
    "application/vnd.databricks.v1+cell": {
     "cellMetadata": {
      "byteLimit": 2048000,
      "rowLimit": 10000
     },
     "inputWidgets": {},
     "nuid": "6b656845-a193-4c3f-8ec0-3fcaf8fc4ae1",
     "showTitle": false,
     "title": ""
    }
   },
   "outputs": [
    {
     "output_type": "stream",
     "name": "stdout",
     "output_type": "stream",
     "text": [
      "mkdir: cannot create directory ‘logs’: File exists\r\n"
     ]
    }
   ],
   "source": [
    "!mkdir logs\n",
    "\n",
    "features_asm = medical.FeaturesAssembler()\\\n",
    "    .setInputCols(['col_{}'.format(i) for i in range(X.shape[1])])\\\n",
    "    .setOutputCol(\"features\")\n",
    "\n",
    "gen_clf = medical.GenericClassifierApproach()\\\n",
    "    .setLabelColumn(\"target\")\\\n",
    "    .setInputCols(\"features\")\\\n",
    "    .setOutputCol(\"prediction\")\\\n",
    "    .setModelFile(f\"{graph_folder}/gcf_graph.pb\")\\\n",
    "    .setEpochsNumber(50)\\\n",
    "    .setBatchSize(100)\\\n",
    "    .setFeatureScaling(\"zscore\")\\\n",
    "    .setFixImbalance(True)\\\n",
    "    .setLearningRate(0.002)\\\n",
    "    .setOutputLogsPath(\"logs\")\\\n",
    "    .setValidationSplit(0.2) # keep 20% of the data for validation purposes\n",
    "\n",
    "clf_Pipeline = nlp.Pipeline(stages=[\n",
    "    features_asm,\n",
    "    gc_graph_builder,\n",
    "    gen_clf])\n"
   ]
  },
  {
   "cell_type": "code",
   "execution_count": 0,
   "metadata": {
    "application/vnd.databricks.v1+cell": {
     "cellMetadata": {
      "byteLimit": 2048000,
      "rowLimit": 10000
     },
     "inputWidgets": {},
     "nuid": "10bd27e2-e2bc-49d4-910a-23480f2c643d",
     "showTitle": false,
     "title": ""
    }
   },
   "outputs": [
    {
     "output_type": "stream",
     "name": "stdout",
     "output_type": "stream",
     "text": [
      "TF Graph Builder configuration:\nModel name: generic_classifier\nGraph folder: gc_graph\nGraph file name: gcf_graph.pb\nBuild params: {'input_dim': 302, 'output_dim': 2, 'hidden_layers': [300, 200, 100], 'hidden_act': 'tanh', 'hidden_act_l2': True, 'batch_norm': True}\ngeneric_classifier graph exported to gc_graph/gcf_graph.pb\nCPU times: user 1.28 s, sys: 129 ms, total: 1.41 s\nWall time: 35.4 s\n"
     ]
    }
   ],
   "source": [
    "%%time\n",
    "\n",
    "# train 50 epochs (takes around 1 min)\n",
    "\n",
    "clf_model = clf_Pipeline.fit(training_data)"
   ]
  },
  {
   "cell_type": "code",
   "execution_count": 0,
   "metadata": {
    "application/vnd.databricks.v1+cell": {
     "cellMetadata": {
      "byteLimit": 2048000,
      "rowLimit": 10000
     },
     "inputWidgets": {},
     "nuid": "3ac11acd-8d7b-448f-90ad-34ae1f6bdc27",
     "showTitle": false,
     "title": ""
    }
   },
   "outputs": [
    {
     "output_type": "stream",
     "name": "stdout",
     "output_type": "stream",
     "text": [
      "23/11/21 08:00:17 INFO DriverDaemon$: {\"metric\":\"serviceUptime\",\"tags\":{\"driverPublicDns\":\"20.185.238.11\",\"numPerClusterInitScriptsV2S3\":\"0\",\"numPerClusterInitScriptsV2Gcs\":\"0\",\"opType\":\"TimerTask\",\"clusterScalingType\":\"fixed_size\",\"attribute_tag_dust_execution_env\":\"\",\"driverContainerId\":\"524ecaa1e16940e184ce401394ca5bea\",\"numPerClusterInitScriptsV2Volumes\":\"0\",\"clusterState\":\"Pending\",\"ignoreTerminationEventInAlerting\":\"false\",\"clusterLogDeliveryEnabled\":\"false\",\"sparkEnvVarContainsSingleQuotes\":\"false\",\"driverNodeType\":\"Standard_DS4_v2\",\"shardName\":\"\",\"azureSubscriptionId\":\"bc5674c1-2f09-4eff-8497-b97f5466158f\",\"databricksCommit\":\"24e017641399d00ca97844e026495137927d24f9\",\"numPerClusterInitScriptsV2Abfss\":\"0\",\"sparkMasterUrlType\":\"None\",\"userProvidedRemoteVolumeCount\":\"0\",\"clusterUnityCatalogMode\":\"CUSTOM\",\"hostName\":\"0725-092232-stftp6wi-10-139-64-10\",\"enableJdbcAutoStart\":\"true\",\"driverInstanceId\":\"5f6ab79b8c424237be6bea99b4a8bb88\",\"orgId\":\"7956323724731612\",\"sparkVersion\":\"12.2.x-scala2.12\",\"clusterOwnerOrgId\":\"7956323724731612\",\"enableGlueCatalogCredentialPassthrough\":\"false\",\"cloudProvider\":\"Azure\",\"clusterName\":\"test v5.1.3\",\"clusterPythonVersion\":\"3\",\"numPerClusterInitScriptsV2Workspace\":\"0\",\"clusterAllTags\":\"[{\\\"key\\\":\\\"Vendor\\\",\\\"value\\\":\\\"Databricks\\\"},{\\\"key\\\":\\\"Creator\\\",\\\"value\\\":\\\"cabir@johnsnowlabs.com\\\"},{\\\"key\\\":\\\"ClusterName\\\",\\\"value\\\":\\\"test v5.1.3\\\"},{\\\"key\\\":\\\"ClusterId\\\",\\\"value\\\":\\\"0725-092232-stftp6wi\\\"},{\\\"ke[TRUNCATED]\",\"clusterResourceClass\":\"default\",\"enableSqlAclsOnly\":\"false\",\"containerType\":\"LXC\",\"attribute_tag_dust_suite\":\"\",\"messageSequenceNumber\":\"4711\",\"userId\":\"4915690538170453\",\"messageServerUuid\":\"FqleFKRsQymg6sYnXT836g==\",\"driverContainerPrivateIp\":\"10.139.64.10\",\"enableElasticDisk\":\"true\",\"clusterSizeType\":\"VM_CONTAINER\",\"dataPlaneRegion\":\"eastus\",\"instanceWorkerEnvNetworkType\":\"default\",\"sparkEnvVarContainsEscape\":\"false\",\"userProvidedSparkVersion\":\"12.2.x-scala2.12\",\"instanceWorkerEnvId\":\"workerenv-7956323724731612\",\"isServicePrincipalCluster\":\"false\",\"clusterPinned\":\"true\",\"clusterNodeType\":\"Standard_DS4_v2\",\"clusterNumCustomTags\":\"0\",\"clusterSku\":\"STANDARD_SKU\",\"attribute_tag_dust_maintainer\":\"\",\"ngrokNpipEnabled\":\"false\",\"numPerClusterInitScriptsV2Dbfs\":\"0\",\"clusterFirstOnDemand\":\"1\",\"enableCredentialPassthrough\":\"false\",\"clusterLastActivityTime\":\"1700519530290\",\"clusterLogDestination\":\"\",\"isSingleUserCluster\":\"false\",\"managedResourceGroup\":\"databricks-rg-sparknlp-27ewr6mu3hzpy\",\"driverInstancePrivateIp\":\"10.139.0.11\",\"sparkEnvVarContainsDollarSign\":\"false\",\"isIMv2Enabled\":\"false\",\"clusterTargetWorkers\":\"2\",\"numPerGlobalInitScriptsV2\":\"0\",\"numPerClusterInitScriptsV2\":\"0\",\"enableJobsAutostart\":\"true\",\"clusterStateMessage\":\"Starting Spark\",\"sparkImageLabel\":\"release__12.2.x-snapshot-scala2.12__databricks-universe__12.2.17__cf9fd7d__24e0176__jenkins__f5a8971__format-3\",\"apacheCommit\":\"990bee9c58ea9abd8c4f04f20c78c6d5b720406a\",\"effectiveSparkVersion\":\"12.2.x-scala2.12\",\"projectName\":\"driver\",\"region\":\"eastus\",\"userProvidedRemoteVolumeSizeGb\":\"0\",\"attribute_tag_service\":\"\",\"sparkEnvVarContainsDoubleQuotes\":\"false\",\"clusterGeneration\":\"156\",\"autoTerminationMinutes\":\"20\",\"clusterId\":\"0725-092232-stftp6wi\",\"numPerClusterInitScriptsV2File\":\"0\",\"clusterAvailability\":\"ON_DEMAND_AZURE\",\"parentOpId\":\"Thread-14\",\"hailEnabled\":\"false\",\"clusterSpotBidMaxPrice\":\"-1.0\",\"workerEnvironmentId\":\"workerenv-7956323724731612\",\"sparkEnvVarContainsNewline\":\"false\",\"tier\":\"tier-0\",\"enableDfAcls\":\"false\",\"rootOpId\":\"TimerTask-efd576e209618e08\",\"clusterNoDriverDaemon\":\"false\",\"clusterOwnerUserId\":\"4915690538170453\",\"privateLinkEnabled\":\"false\",\"clusterCreator\":\"Webapp\",\"enableLocalDiskEncryption\":\"false\",\"isDpCpPrivateLinkEnabled\":\"false\",\"runtimeEngine\":\"STANDARD\",\"buildHash\":\"cf9fd7d07e2877c0359aa5dc38a50005f9454052\",\"clusterNumSshKeys\":\"0\",\"opId\":\"TimerTask-efd576e209618e08\",\"branchName\":\"instance-manager_2023-11-14_23.31.26Z_clusters-branch_2023-10-25_39d190fb_d7849844_1949571662\",\"userProvidedRemoteVolumeType\":\"azure_disk_volume_type: PREMIUM_LRS\\n\",\"sparkEnvVarContainsBacktick\":\"false\",\"opTarget\":\"UptimeLogger:driver\",\"clusterMetastoreAccessType\":\"RDS_DIRECT\",\"attribute_tag_budget\":\"\",\"clusterWorkers\":\"2\"},\"timestamp\":1700553617853,\"v\":3,\"quantity\":30000.0,\"blob\":null}\n23/11/21 08:00:33 INFO PythonDriverWrapper: Repl ReplId-37d80-cad9e-873b2-9 executing (python,clinical_note = \"\"\"The patient is a 41-year-old Vietnamese female with a cough that started last week. \nShe has had right-sided chest pain radiating to her back with fever starting yesterday. \nShe has a history of pericarditis in May 2006 and developed cough with right-sided chest pain. \nMEDICATIONS\n1. Coumadin 1 mg daily. Last INR was on Tuesday, August 14, 2007, and her INR was 2.3.\n2. Amiodarone 100 mg p.o. daily.\n\"\"\",4023980206884076329_8065215512836899686_c7fa6c728c1144bb891118bc7c7ba650)\n23/11/21 08:00:33 INFO JupyterDriverLocal: Executing cmd clinical_note = \"\"\"The patient is a 41-year-old Vietnamese female with a cough that started last week. \nShe has had right-sided chest pain radiating to her back with fever starting yesterday. \nShe has a history of pericarditis in May 2006 and developed cough with right-sided chest pain. \nMEDICATIONS\n1. Coumadin 1 mg daily. Last INR was on Tuesday, August 14, 2007, and her INR was 2.3.\n2. Amiodarone 100 mg p.o. daily.\n\"\"\" (type:python jobGroup:4023980206884076329_8065215512836899686_c7fa6c728c1144bb891118bc7c7ba650 Map() clinical_note = \"\"\"The patient is a 41-year-old... 4023980206884076329)\n23/11/21 08:00:33 INFO PythonDriverWrapper: Repl ReplId-37d80-cad9e-873b2-9 executing (python,df = spark.createDataFrame([[clinical_note]]).toDF(\"text\")\n\nresult = model.transform(df),4023980206884076329_6385308888745073438_c7fa6c728c1144bb891118bc7c7ba650)\n23/11/21 08:00:33 INFO JupyterDriverLocal: Executing cmd df = spark.createDataFrame([[clinical_note]]).toDF(\"text\")\n\nresult = model.transform(df) (type:python jobGroup:4023980206884076329_6385308888745073438_c7fa6c728c1144bb891118bc7c7ba650 Map() df = spark.createDataFrame([[clinical_note]]).t... 4023980206884076329)\n23/11/21 08:00:34 INFO PythonDriverWrapper: Repl ReplId-37d80-cad9e-873b2-9 executing (python,icd10_result = get_codes_from_df(result, 'clinical_ner_chunk', 'icd10cm_code', hcc=True),4023980206884076329_6305946415070901555_c7fa6c728c1144bb891118bc7c7ba650)\n23/11/21 08:00:34 INFO JupyterDriverLocal: Executing cmd icd10_result = get_codes_from_df(result, 'clinical_ner_chunk', 'icd10cm_code', hcc=True) (type:python jobGroup:4023980206884076329_6305946415070901555_c7fa6c728c1144bb891118bc7c7ba650 Map() icd10_result = get_codes_from_df(result, 'clini... 4023980206884076329)\n23/11/21 08:00:47 INFO DriverDaemon$: {\"metric\":\"serviceUptime\",\"tags\":{\"driverPublicDns\":\"20.185.238.11\",\"numPerClusterInitScriptsV2S3\":\"0\",\"numPerClusterInitScriptsV2Gcs\":\"0\",\"opType\":\"TimerTask\",\"clusterScalingType\":\"fixed_size\",\"attribute_tag_dust_execution_env\":\"\",\"driverContainerId\":\"524ecaa1e16940e184ce401394ca5bea\",\"numPerClusterInitScriptsV2Volumes\":\"0\",\"clusterState\":\"Pending\",\"ignoreTerminationEventInAlerting\":\"false\",\"clusterLogDeliveryEnabled\":\"false\",\"sparkEnvVarContainsSingleQuotes\":\"false\",\"driverNodeType\":\"Standard_DS4_v2\",\"shardName\":\"\",\"azureSubscriptionId\":\"bc5674c1-2f09-4eff-8497-b97f5466158f\",\"databricksCommit\":\"24e017641399d00ca97844e026495137927d24f9\",\"numPerClusterInitScriptsV2Abfss\":\"0\",\"sparkMasterUrlType\":\"None\",\"userProvidedRemoteVolumeCount\":\"0\",\"clusterUnityCatalogMode\":\"CUSTOM\",\"hostName\":\"0725-092232-stftp6wi-10-139-64-10\",\"enableJdbcAutoStart\":\"true\",\"driverInstanceId\":\"5f6ab79b8c424237be6bea99b4a8bb88\",\"orgId\":\"7956323724731612\",\"sparkVersion\":\"12.2.x-scala2.12\",\"clusterOwnerOrgId\":\"7956323724731612\",\"enableGlueCatalogCredentialPassthrough\":\"false\",\"cloudProvider\":\"Azure\",\"clusterName\":\"test v5.1.3\",\"clusterPythonVersion\":\"3\",\"numPerClusterInitScriptsV2Workspace\":\"0\",\"clusterAllTags\":\"[{\\\"key\\\":\\\"Vendor\\\",\\\"value\\\":\\\"Databricks\\\"},{\\\"key\\\":\\\"Creator\\\",\\\"value\\\":\\\"cabir@johnsnowlabs.com\\\"},{\\\"key\\\":\\\"ClusterName\\\",\\\"value\\\":\\\"test v5.1.3\\\"},{\\\"key\\\":\\\"ClusterId\\\",\\\"value\\\":\\\"0725-092232-stftp6wi\\\"},{\\\"ke[TRUNCATED]\",\"clusterResourceClass\":\"default\",\"enableSqlAclsOnly\":\"false\",\"containerType\":\"LXC\",\"attribute_tag_dust_suite\":\"\",\"messageSequenceNumber\":\"4804\",\"userId\":\"4915690538170453\",\"messageServerUuid\":\"FqleFKRsQymg6sYnXT836g==\",\"driverContainerPrivateIp\":\"10.139.64.10\",\"enableElasticDisk\":\"true\",\"clusterSizeType\":\"VM_CONTAINER\",\"dataPlaneRegion\":\"eastus\",\"instanceWorkerEnvNetworkType\":\"default\",\"sparkEnvVarContainsEscape\":\"false\",\"userProvidedSparkVersion\":\"12.2.x-scala2.12\",\"instanceWorkerEnvId\":\"workerenv-7956323724731612\",\"isServicePrincipalCluster\":\"false\",\"clusterPinned\":\"true\",\"clusterNodeType\":\"Standard_DS4_v2\",\"clusterNumCustomTags\":\"0\",\"clusterSku\":\"STANDARD_SKU\",\"attribute_tag_dust_maintainer\":\"\",\"ngrokNpipEnabled\":\"false\",\"numPerClusterInitScriptsV2Dbfs\":\"0\",\"clusterFirstOnDemand\":\"1\",\"enableCredentialPassthrough\":\"false\",\"clusterLastActivityTime\":\"1700519530290\",\"clusterLogDestination\":\"\",\"isSingleUserCluster\":\"false\",\"managedResourceGroup\":\"databricks-rg-sparknlp-27ewr6mu3hzpy\",\"driverInstancePrivateIp\":\"10.139.0.11\",\"sparkEnvVarContainsDollarSign\":\"false\",\"isIMv2Enabled\":\"false\",\"clusterTargetWorkers\":\"2\",\"numPerGlobalInitScriptsV2\":\"0\",\"numPerClusterInitScriptsV2\":\"0\",\"enableJobsAutostart\":\"true\",\"clusterStateMessage\":\"Starting Spark\",\"sparkImageLabel\":\"release__12.2.x-snapshot-scala2.12__databricks-universe__12.2.17__cf9fd7d__24e0176__jenkins__f5a8971__format-3\",\"apacheCommit\":\"990bee9c58ea9abd8c4f04f20c78c6d5b720406a\",\"effectiveSparkVersion\":\"12.2.x-scala2.12\",\"projectName\":\"driver\",\"region\":\"eastus\",\"userProvidedRemoteVolumeSizeGb\":\"0\",\"attribute_tag_service\":\"\",\"sparkEnvVarContainsDoubleQuotes\":\"false\",\"clusterGeneration\":\"156\",\"autoTerminationMinutes\":\"20\",\"clusterId\":\"0725-092232-stftp6wi\",\"numPerClusterInitScriptsV2File\":\"0\",\"clusterAvailability\":\"ON_DEMAND_AZURE\",\"parentOpId\":\"Thread-14\",\"hailEnabled\":\"false\",\"clusterSpotBidMaxPrice\":\"-1.0\",\"workerEnvironmentId\":\"workerenv-7956323724731612\",\"sparkEnvVarContainsNewline\":\"false\",\"tier\":\"tier-0\",\"enableDfAcls\":\"false\",\"rootOpId\":\"TimerTask-efd576e209618fc4\",\"clusterNoDriverDaemon\":\"false\",\"clusterOwnerUserId\":\"4915690538170453\",\"privateLinkEnabled\":\"false\",\"clusterCreator\":\"Webapp\",\"enableLocalDiskEncryption\":\"false\",\"isDpCpPrivateLinkEnabled\":\"false\",\"runtimeEngine\":\"STANDARD\",\"buildHash\":\"cf9fd7d07e2877c0359aa5dc38a50005f9454052\",\"clusterNumSshKeys\":\"0\",\"opId\":\"TimerTask-efd576e209618fc4\",\"branchName\":\"instance-manager_2023-11-14_23.31.26Z_clusters-branch_2023-10-25_39d190fb_d7849844_1949571662\",\"userProvidedRemoteVolumeType\":\"azure_disk_volume_type: PREMIUM_LRS\\n\",\"sparkEnvVarContainsBacktick\":\"false\",\"opTarget\":\"UptimeLogger:driver\",\"clusterMetastoreAccessType\":\"RDS_DIRECT\",\"attribute_tag_budget\":\"\",\"clusterWorkers\":\"2\"},\"timestamp\":1700553647852,\"v\":3,\"quantity\":30000.0,\"blob\":null}\n23/11/21 08:00:56 INFO PythonDriverWrapper: Repl ReplId-37d80-cad9e-873b2-9 executing (python,# extract HCC informationinto different columns\n\nicd10_result[\"billable\"] = icd10_result[\"hcc_list\"].apply(extract_billable).apply(pd.Series).iloc[:,0]    \nicd10_result[\"hcc_status\"] = icd10_result[\"hcc_list\"].apply(extract_billable).apply(pd.Series).iloc[:,1]\nicd10_result[\"hcc_code\"] = icd10_result[\"hcc_list\"].apply(extract_billable).apply(pd.Series).iloc[:,2]\n\nicd10_result.drop(\"hcc_list\", axis=1, inplace= True),4023980206884076329_8175788044111673013_c7fa6c728c1144bb891118bc7c7ba650)\n23/11/21 08:00:56 INFO JupyterDriverLocal: Executing cmd # extract HCC informationinto different columns\n\nicd10_result[\"billable\"] = icd10_result[\"hcc_list\"].apply(extract_billable).apply(pd.Series).iloc[:,0]    \nicd10_result[\"hcc_status\"] = icd10_result[\"hcc_list\"].apply(extract_billable).apply(pd.Series).iloc[:,1]\nicd10_result[\"hcc_code\"] = icd10_result[\"hcc_list\"].apply(extract_billable).apply(pd.Series).iloc[:,2]\n\nicd10_result.drop(\"hcc_list\", axis=1, inplace= True) (type:python jobGroup:4023980206884076329_8175788044111673013_c7fa6c728c1144bb891118bc7c7ba650 Map() # extract HCC informationinto different columns... 4023980206884076329)\n23/11/21 08:00:56 INFO PythonDriverWrapper: Repl ReplId-37d80-cad9e-873b2-9 executing (python,icd10_result.head(15),4023980206884076329_5005247936589670891_c7fa6c728c1144bb891118bc7c7ba650)\n23/11/21 08:00:56 INFO JupyterDriverLocal: Executing cmd icd10_result.head(15) (type:python jobGroup:4023980206884076329_5005247936589670891_c7fa6c728c1144bb891118bc7c7ba650 Map() icd10_result.head(15) 4023980206884076329)\n23/11/21 08:00:57 INFO PythonDriverWrapper: Repl ReplId-37d80-cad9e-873b2-9 executing (python,rxnorm_result = get_codes_from_df(result, 'posology_ner_chunk', 'rxnorm_code', hcc=False)\n\nrxnorm_result.head(),4023980206884076329_6713702797868913011_c7fa6c728c1144bb891118bc7c7ba650)\n23/11/21 08:00:57 INFO JupyterDriverLocal: Executing cmd rxnorm_result = get_codes_from_df(result, 'posology_ner_chunk', 'rxnorm_code', hcc=False)\n\nrxnorm_result.head() (type:python jobGroup:4023980206884076329_6713702797868913011_c7fa6c728c1144bb891118bc7c7ba650 Map() rxnorm_result = get_codes_from_df(result, 'poso... 4023980206884076329)\n23/11/21 08:01:18 INFO DriverDaemon$: {\"metric\":\"serviceUptime\",\"tags\":{\"driverPublicDns\":\"20.185.238.11\",\"numPerClusterInitScriptsV2S3\":\"0\",\"numPerClusterInitScriptsV2Gcs\":\"0\",\"opType\":\"TimerTask\",\"clusterScalingType\":\"fixed_size\",\"attribute_tag_dust_execution_env\":\"\",\"driverContainerId\":\"524ecaa1e16940e184ce401394ca5bea\",\"numPerClusterInitScriptsV2Volumes\":\"0\",\"clusterState\":\"Pending\",\"ignoreTerminationEventInAlerting\":\"false\",\"clusterLogDeliveryEnabled\":\"false\",\"sparkEnvVarContainsSingleQuotes\":\"false\",\"driverNodeType\":\"Standard_DS4_v2\",\"shardName\":\"\",\"azureSubscriptionId\":\"bc5674c1-2f09-4eff-8497-b97f5466158f\",\"databricksCommit\":\"24e017641399d00ca97844e026495137927d24f9\",\"numPerClusterInitScriptsV2Abfss\":\"0\",\"sparkMasterUrlType\":\"None\",\"userProvidedRemoteVolumeCount\":\"0\",\"clusterUnityCatalogMode\":\"CUSTOM\",\"hostName\":\"0725-092232-stftp6wi-10-139-64-10\",\"enableJdbcAutoStart\":\"true\",\"driverInstanceId\":\"5f6ab79b8c424237be6bea99b4a8bb88\",\"orgId\":\"7956323724731612\",\"sparkVersion\":\"12.2.x-scala2.12\",\"clusterOwnerOrgId\":\"7956323724731612\",\"enableGlueCatalogCredentialPassthrough\":\"false\",\"cloudProvider\":\"Azure\",\"clusterName\":\"test v5.1.3\",\"clusterPythonVersion\":\"3\",\"numPerClusterInitScriptsV2Workspace\":\"0\",\"clusterAllTags\":\"[{\\\"key\\\":\\\"Vendor\\\",\\\"value\\\":\\\"Databricks\\\"},{\\\"key\\\":\\\"Creator\\\",\\\"value\\\":\\\"cabir@johnsnowlabs.com\\\"},{\\\"key\\\":\\\"ClusterName\\\",\\\"value\\\":\\\"test v5.1.3\\\"},{\\\"key\\\":\\\"ClusterId\\\",\\\"value\\\":\\\"0725-092232-stftp6wi\\\"},{\\\"ke[TRUNCATED]\",\"clusterResourceClass\":\"default\",\"enableSqlAclsOnly\":\"false\",\"containerType\":\"LXC\",\"attribute_tag_dust_suite\":\"\",\"messageSequenceNumber\":\"4863\",\"userId\":\"4915690538170453\",\"messageServerUuid\":\"FqleFKRsQymg6sYnXT836g==\",\"driverContainerPrivateIp\":\"10.139.64.10\",\"enableElasticDisk\":\"true\",\"clusterSizeType\":\"VM_CONTAINER\",\"dataPlaneRegion\":\"eastus\",\"instanceWorkerEnvNetworkType\":\"default\",\"sparkEnvVarContainsEscape\":\"false\",\"userProvidedSparkVersion\":\"12.2.x-scala2.12\",\"instanceWorkerEnvId\":\"workerenv-7956323724731612\",\"isServicePrincipalCluster\":\"false\",\"clusterPinned\":\"true\",\"clusterNodeType\":\"Standard_DS4_v2\",\"clusterNumCustomTags\":\"0\",\"clusterSku\":\"STANDARD_SKU\",\"attribute_tag_dust_maintainer\":\"\",\"ngrokNpipEnabled\":\"false\",\"numPerClusterInitScriptsV2Dbfs\":\"0\",\"clusterFirstOnDemand\":\"1\",\"enableCredentialPassthrough\":\"false\",\"clusterLastActivityTime\":\"1700519530290\",\"clusterLogDestination\":\"\",\"isSingleUserCluster\":\"false\",\"managedResourceGroup\":\"databricks-rg-sparknlp-27ewr6mu3hzpy\",\"driverInstancePrivateIp\":\"10.139.0.11\",\"sparkEnvVarContainsDollarSign\":\"false\",\"isIMv2Enabled\":\"false\",\"clusterTargetWorkers\":\"2\",\"numPerGlobalInitScriptsV2\":\"0\",\"numPerClusterInitScriptsV2\":\"0\",\"enableJobsAutostart\":\"true\",\"clusterStateMessage\":\"Starting Spark\",\"sparkImageLabel\":\"release__12.2.x-snapshot-scala2.12__databricks-universe__12.2.17__cf9fd7d__24e0176__jenkins__f5a8971__format-3\",\"apacheCommit\":\"990bee9c58ea9abd8c4f04f20c78c6d5b720406a\",\"effectiveSparkVersion\":\"12.2.x-scala2.12\",\"projectName\":\"driver\",\"region\":\"eastus\",\"userProvidedRemoteVolumeSizeGb\":\"0\",\"attribute_tag_service\":\"\",\"sparkEnvVarContainsDoubleQuotes\":\"false\",\"clusterGeneration\":\"156\",\"autoTerminationMinutes\":\"20\",\"clusterId\":\"0725-092232-stftp6wi\",\"numPerClusterInitScriptsV2File\":\"0\",\"clusterAvailability\":\"ON_DEMAND_AZURE\",\"parentOpId\":\"Thread-14\",\"hailEnabled\":\"false\",\"clusterSpotBidMaxPrice\":\"-1.0\",\"workerEnvironmentId\":\"workerenv-7956323724731612\",\"sparkEnvVarContainsNewline\":\"false\",\"tier\":\"tier-0\",\"enableDfAcls\":\"false\",\"rootOpId\":\"TimerTask-efd576e209619115\",\"clusterNoDriverDaemon\":\"false\",\"clusterOwnerUserId\":\"4915690538170453\",\"privateLinkEnabled\":\"false\",\"clusterCreator\":\"Webapp\",\"enableLocalDiskEncryption\":\"false\",\"isDpCpPrivateLinkEnabled\":\"false\",\"runtimeEngine\":\"STANDARD\",\"buildHash\":\"cf9fd7d07e2877c0359aa5dc38a50005f9454052\",\"clusterNumSshKeys\":\"0\",\"opId\":\"TimerTask-efd576e209619115\",\"branchName\":\"instance-manager_2023-11-14_23.31.26Z_clusters-branch_2023-10-25_39d190fb_d7849844_1949571662\",\"userProvidedRemoteVolumeType\":\"azure_disk_volume_type: PREMIUM_LRS\\n\",\"sparkEnvVarContainsBacktick\":\"false\",\"opTarget\":\"UptimeLogger:driver\",\"clusterMetastoreAccessType\":\"RDS_DIRECT\",\"attribute_tag_budget\":\"\",\"clusterWorkers\":\"2\"},\"timestamp\":1700553678677,\"v\":3,\"quantity\":30000.0,\"blob\":null}\n23/11/21 08:02:03 INFO DriverDaemon$: {\"metric\":\"serviceUptime\",\"tags\":{\"driverPublicDns\":\"20.185.238.11\",\"numPerClusterInitScriptsV2S3\":\"0\",\"numPerClusterInitScriptsV2Gcs\":\"0\",\"opType\":\"TimerTask\",\"clusterScalingType\":\"fixed_size\",\"attribute_tag_dust_execution_env\":\"\",\"driverContainerId\":\"524ecaa1e16940e184ce401394ca5bea\",\"numPerClusterInitScriptsV2Volumes\":\"0\",\"clusterState\":\"Pending\",\"ignoreTerminationEventInAlerting\":\"false\",\"clusterLogDeliveryEnabled\":\"false\",\"sparkEnvVarContainsSingleQuotes\":\"false\",\"driverNodeType\":\"Standard_DS4_v2\",\"shardName\":\"\",\"azureSubscriptionId\":\"bc5674c1-2f09-4eff-8497-b97f5466158f\",\"databricksCommit\":\"24e017641399d00ca97844e026495137927d24f9\",\"numPerClusterInitScriptsV2Abfss\":\"0\",\"sparkMasterUrlType\":\"None\",\"userProvidedRemoteVolumeCount\":\"0\",\"clusterUnityCatalogMode\":\"CUSTOM\",\"hostName\":\"0725-092232-stftp6wi-10-139-64-10\",\"enableJdbcAutoStart\":\"true\",\"driverInstanceId\":\"5f6ab79b8c424237be6bea99b4a8bb88\",\"orgId\":\"7956323724731612\",\"sparkVersion\":\"12.2.x-scala2.12\",\"clusterOwnerOrgId\":\"7956323724731612\",\"enableGlueCatalogCredentialPassthrough\":\"false\",\"cloudProvider\":\"Azure\",\"clusterName\":\"test v5.1.3\",\"clusterPythonVersion\":\"3\",\"numPerClusterInitScriptsV2Workspace\":\"0\",\"clusterAllTags\":\"[{\\\"key\\\":\\\"Vendor\\\",\\\"value\\\":\\\"Databricks\\\"},{\\\"key\\\":\\\"Creator\\\",\\\"value\\\":\\\"cabir@johnsnowlabs.com\\\"},{\\\"key\\\":\\\"ClusterName\\\",\\\"value\\\":\\\"test v5.1.3\\\"},{\\\"key\\\":\\\"ClusterId\\\",\\\"value\\\":\\\"0725-092232-stftp6wi\\\"},{\\\"ke[TRUNCATED]\",\"clusterResourceClass\":\"default\",\"enableSqlAclsOnly\":\"false\",\"containerType\":\"LXC\",\"attribute_tag_dust_suite\":\"\",\"messageSequenceNumber\":\"4872\",\"userId\":\"4915690538170453\",\"messageServerUuid\":\"FqleFKRsQymg6sYnXT836g==\",\"driverContainerPrivateIp\":\"10.139.64.10\",\"enableElasticDisk\":\"true\",\"clusterSizeType\":\"VM_CONTAINER\",\"dataPlaneRegion\":\"eastus\",\"instanceWorkerEnvNetworkType\":\"default\",\"sparkEnvVarContainsEscape\":\"false\",\"userProvidedSparkVersion\":\"12.2.x-scala2.12\",\"instanceWorkerEnvId\":\"workerenv-7956323724731612\",\"isServicePrincipalCluster\":\"false\",\"clusterPinned\":\"true\",\"clusterNodeType\":\"Standard_DS4_v2\",\"clusterNumCustomTags\":\"0\",\"clusterSku\":\"STANDARD_SKU\",\"attribute_tag_dust_maintainer\":\"\",\"ngrokNpipEnabled\":\"false\",\"numPerClusterInitScriptsV2Dbfs\":\"0\",\"clusterFirstOnDemand\":\"1\",\"enableCredentialPassthrough\":\"false\",\"clusterLastActivityTime\":\"1700519530290\",\"clusterLogDestination\":\"\",\"isSingleUserCluster\":\"false\",\"managedResourceGroup\":\"databricks-rg-sparknlp-27ewr6mu3hzpy\",\"driverInstancePrivateIp\":\"10.139.0.11\",\"sparkEnvVarContainsDollarSign\":\"false\",\"isIMv2Enabled\":\"false\",\"clusterTargetWorkers\":\"2\",\"numPerGlobalInitScriptsV2\":\"0\",\"numPerClusterInitScriptsV2\":\"0\",\"enableJobsAutostart\":\"true\",\"clusterStateMessage\":\"Starting Spark\",\"sparkImageLabel\":\"release__12.2.x-snapshot-scala2.12__databricks-universe__12.2.17__cf9fd7d__24e0176__jenkins__f5a8971__format-3\",\"apacheCommit\":\"990bee9c58ea9abd8c4f04f20c78c6d5b720406a\",\"effectiveSparkVersion\":\"12.2.x-scala2.12\",\"projectName\":\"driver\",\"region\":\"eastus\",\"userProvidedRemoteVolumeSizeGb\":\"0\",\"attribute_tag_service\":\"\",\"sparkEnvVarContainsDoubleQuotes\":\"false\",\"clusterGeneration\":\"156\",\"autoTerminationMinutes\":\"20\",\"clusterId\":\"0725-092232-stftp6wi\",\"numPerClusterInitScriptsV2File\":\"0\",\"clusterAvailability\":\"ON_DEMAND_AZURE\",\"parentOpId\":\"Thread-14\",\"hailEnabled\":\"false\",\"clusterSpotBidMaxPrice\":\"-1.0\",\"workerEnvironmentId\":\"workerenv-7956323724731612\",\"sparkEnvVarContainsNewline\":\"false\",\"tier\":\"tier-0\",\"enableDfAcls\":\"false\",\"rootOpId\":\"TimerTask-efd576e209619197\",\"clusterNoDriverDaemon\":\"false\",\"clusterOwnerUserId\":\"4915690538170453\",\"privateLinkEnabled\":\"false\",\"clusterCreator\":\"Webapp\",\"enableLocalDiskEncryption\":\"false\",\"isDpCpPrivateLinkEnabled\":\"false\",\"runtimeEngine\":\"STANDARD\",\"buildHash\":\"cf9fd7d07e2877c0359aa5dc38a50005f9454052\",\"clusterNumSshKeys\":\"0\",\"opId\":\"TimerTask-efd576e209619197\",\"branchName\":\"instance-manager_2023-11-14_23.31.26Z_clusters-branch_2023-10-25_39d190fb_d7849844_1949571662\",\"userProvidedRemoteVolumeType\":\"azure_disk_volume_type: PREMIUM_LRS\\n\",\"sparkEnvVarContainsBacktick\":\"false\",\"opTarget\":\"UptimeLogger:driver\",\"clusterMetastoreAccessType\":\"RDS_DIRECT\",\"attribute_tag_budget\":\"\",\"clusterWorkers\":\"2\"},\"timestamp\":1700553720972,\"v\":3,\"quantity\":30000.0,\"blob\":null}\n23/11/21 08:02:49 INFO ThrottledLogger$: SAFE FLAG: databricks.common.database.nestedConnectionMonitoringMode=None, rtCtx=None, ctx=StaticContext(None,None,None,Some(development),None,None)\n23/11/21 08:02:49 INFO DriverDaemon$: {\"metric\":\"serviceUptime\",\"tags\":{\"driverPublicDns\":\"20.185.238.11\",\"numPerClusterInitScriptsV2S3\":\"0\",\"numPerClusterInitScriptsV2Gcs\":\"0\",\"opType\":\"TimerTask\",\"clusterScalingType\":\"fixed_size\",\"attribute_tag_dust_execution_env\":\"\",\"driverContainerId\":\"524ecaa1e16940e184ce401394ca5bea\",\"numPerClusterInitScriptsV2Volumes\":\"0\",\"clusterState\":\"Pending\",\"ignoreTerminationEventInAlerting\":\"false\",\"clusterLogDeliveryEnabled\":\"false\",\"sparkEnvVarContainsSingleQuotes\":\"false\",\"driverNodeType\":\"Standard_DS4_v2\",\"shardName\":\"\",\"azureSubscriptionId\":\"bc5674c1-2f09-4eff-8497-b97f5466158f\",\"databricksCommit\":\"24e017641399d00ca97844e026495137927d24f9\",\"numPerClusterInitScriptsV2Abfss\":\"0\",\"sparkMasterUrlType\":\"None\",\"userProvidedRemoteVolumeCount\":\"0\",\"clusterUnityCatalogMode\":\"CUSTOM\",\"hostName\":\"0725-092232-stftp6wi-10-139-64-10\",\"enableJdbcAutoStart\":\"true\",\"driverInstanceId\":\"5f6ab79b8c424237be6bea99b4a8bb88\",\"orgId\":\"7956323724731612\",\"sparkVersion\":\"12.2.x-scala2.12\",\"clusterOwnerOrgId\":\"7956323724731612\",\"enableGlueCatalogCredentialPassthrough\":\"false\",\"cloudProvider\":\"Azure\",\"clusterName\":\"test v5.1.3\",\"clusterPythonVersion\":\"3\",\"numPerClusterInitScriptsV2Workspace\":\"0\",\"clusterAllTags\":\"[{\\\"key\\\":\\\"Vendor\\\",\\\"value\\\":\\\"Databricks\\\"},{\\\"key\\\":\\\"Creator\\\",\\\"value\\\":\\\"cabir@johnsnowlabs.com\\\"},{\\\"key\\\":\\\"ClusterName\\\",\\\"value\\\":\\\"test v5.1.3\\\"},{\\\"key\\\":\\\"ClusterId\\\",\\\"value\\\":\\\"0725-092232-stftp6wi\\\"},{\\\"ke[TRUNCATED]\",\"clusterResourceClass\":\"default\",\"enableSqlAclsOnly\":\"false\",\"containerType\":\"LXC\",\"attribute_tag_dust_suite\":\"\",\"messageSequenceNumber\":\"4874\",\"userId\":\"4915690538170453\",\"messageServerUuid\":\"FqleFKRsQymg6sYnXT836g==\",\"driverContainerPrivateIp\":\"10.139.64.10\",\"enableElasticDisk\":\"true\",\"clusterSizeType\":\"VM_CONTAINER\",\"dataPlaneRegion\":\"eastus\",\"instanceWorkerEnvNetworkType\":\"default\",\"sparkEnvVarContainsEscape\":\"false\",\"userProvidedSparkVersion\":\"12.2.x-scala2.12\",\"instanceWorkerEnvId\":\"workerenv-7956323724731612\",\"isServicePrincipalCluster\":\"false\",\"clusterPinned\":\"true\",\"clusterNodeType\":\"Standard_DS4_v2\",\"clusterNumCustomTags\":\"0\",\"clusterSku\":\"STANDARD_SKU\",\"attribute_tag_dust_maintainer\":\"\",\"ngrokNpipEnabled\":\"false\",\"numPerClusterInitScriptsV2Dbfs\":\"0\",\"clusterFirstOnDemand\":\"1\",\"enableCredentialPassthrough\":\"false\",\"clusterLastActivityTime\":\"1700519530290\",\"clusterLogDestination\":\"\",\"isSingleUserCluster\":\"false\",\"managedResourceGroup\":\"databricks-rg-sparknlp-27ewr6mu3hzpy\",\"driverInstancePrivateIp\":\"10.139.0.11\",\"sparkEnvVarContainsDollarSign\":\"false\",\"isIMv2Enabled\":\"false\",\"clusterTargetWorkers\":\"2\",\"numPerGlobalInitScriptsV2\":\"0\",\"numPerClusterInitScriptsV2\":\"0\",\"enableJobsAutostart\":\"true\",\"clusterStateMessage\":\"Starting Spark\",\"sparkImageLabel\":\"release__12.2.x-snapshot-scala2.12__databricks-universe__12.2.17__cf9fd7d__24e0176__jenkins__f5a8971__format-3\",\"apacheCommit\":\"990bee9c58ea9abd8c4f04f20c78c6d5b720406a\",\"effectiveSparkVersion\":\"12.2.x-scala2.12\",\"projectName\":\"driver\",\"region\":\"eastus\",\"userProvidedRemoteVolumeSizeGb\":\"0\",\"att\n\n*** WARNING: max output size exceeded, skipping output. ***\n\n25-092232-stftp6wi\\\"},{\\\"ke[TRUNCATED]\",\"clusterResourceClass\":\"default\",\"enableSqlAclsOnly\":\"false\",\"containerType\":\"LXC\",\"attribute_tag_dust_suite\":\"\",\"messageSequenceNumber\":\"6953\",\"userId\":\"4915690538170453\",\"messageServerUuid\":\"FqleFKRsQymg6sYnXT836g==\",\"driverContainerPrivateIp\":\"10.139.64.10\",\"enableElasticDisk\":\"true\",\"clusterSizeType\":\"VM_CONTAINER\",\"dataPlaneRegion\":\"eastus\",\"instanceWorkerEnvNetworkType\":\"default\",\"sparkEnvVarContainsEscape\":\"false\",\"userProvidedSparkVersion\":\"12.2.x-scala2.12\",\"instanceWorkerEnvId\":\"workerenv-7956323724731612\",\"isServicePrincipalCluster\":\"false\",\"clusterPinned\":\"true\",\"clusterNodeType\":\"Standard_DS4_v2\",\"clusterNumCustomTags\":\"0\",\"clusterSku\":\"STANDARD_SKU\",\"attribute_tag_dust_maintainer\":\"\",\"ngrokNpipEnabled\":\"false\",\"numPerClusterInitScriptsV2Dbfs\":\"0\",\"clusterFirstOnDemand\":\"1\",\"enableCredentialPassthrough\":\"false\",\"clusterLastActivityTime\":\"1700519530290\",\"clusterLogDestination\":\"\",\"isSingleUserCluster\":\"false\",\"managedResourceGroup\":\"databricks-rg-sparknlp-27ewr6mu3hzpy\",\"driverInstancePrivateIp\":\"10.139.0.11\",\"sparkEnvVarContainsDollarSign\":\"false\",\"isIMv2Enabled\":\"false\",\"clusterTargetWorkers\":\"2\",\"numPerGlobalInitScriptsV2\":\"0\",\"numPerClusterInitScriptsV2\":\"0\",\"enableJobsAutostart\":\"true\",\"clusterStateMessage\":\"Starting Spark\",\"sparkImageLabel\":\"release__12.2.x-snapshot-scala2.12__databricks-universe__12.2.17__cf9fd7d__24e0176__jenkins__f5a8971__format-3\",\"apacheCommit\":\"990bee9c58ea9abd8c4f04f20c78c6d5b720406a\",\"effectiveSparkVersion\":\"12.2.x-scala2.12\",\"projectName\":\"driver\",\"region\":\"eastus\",\"userProvidedRemoteVolumeSizeGb\":\"0\",\"attribute_tag_service\":\"\",\"sparkEnvVarContainsDoubleQuotes\":\"false\",\"clusterGeneration\":\"156\",\"autoTerminationMinutes\":\"20\",\"clusterId\":\"0725-092232-stftp6wi\",\"numPerClusterInitScriptsV2File\":\"0\",\"clusterAvailability\":\"ON_DEMAND_AZURE\",\"parentOpId\":\"Thread-14\",\"hailEnabled\":\"false\",\"clusterSpotBidMaxPrice\":\"-1.0\",\"workerEnvironmentId\":\"workerenv-7956323724731612\",\"sparkEnvVarContainsNewline\":\"false\",\"tier\":\"tier-0\",\"enableDfAcls\":\"false\",\"rootOpId\":\"TimerTask-efd576e20961e1a7\",\"clusterNoDriverDaemon\":\"false\",\"clusterOwnerUserId\":\"4915690538170453\",\"privateLinkEnabled\":\"false\",\"clusterCreator\":\"Webapp\",\"enableLocalDiskEncryption\":\"false\",\"isDpCpPrivateLinkEnabled\":\"false\",\"runtimeEngine\":\"STANDARD\",\"buildHash\":\"cf9fd7d07e2877c0359aa5dc38a50005f9454052\",\"clusterNumSshKeys\":\"0\",\"opId\":\"TimerTask-efd576e20961e1a7\",\"branchName\":\"instance-manager_2023-11-14_23.31.26Z_clusters-branch_2023-10-25_39d190fb_d7849844_1949571662\",\"userProvidedRemoteVolumeType\":\"azure_disk_volume_type: PREMIUM_LRS\\n\",\"sparkEnvVarContainsBacktick\":\"false\",\"opTarget\":\"UptimeLogger:driver\",\"clusterMetastoreAccessType\":\"RDS_DIRECT\",\"attribute_tag_budget\":\"\",\"clusterWorkers\":\"2\"},\"timestamp\":1700555048992,\"v\":3,\"quantity\":30000.0,\"blob\":null}\n23/11/21 08:24:10 INFO ScalaDriverWrapper: Repl ReplId-7daae-24d7e-3b253-f executing (scala,dbutils.fs.mkdirs(\"file:/dbfs/generic_logs\") // SAFE COMMAND FROM MACRO,9055298823239968063_6255166638567191283_31d14c1d051c4cb59a6a796c35861ba1)\n23/11/21 08:24:10 INFO ScalaDriverLocal: Executing cmd dbutils.fs.mkdirs(\"file:/dbfs/generic_logs\") // SAFE COMMAND FROM MACRO (type:scala jobGroup:9055298823239968063_6255166638567191283_31d14c1d051c4cb59a6a796c35861ba1 Map() dbutils.fs.mkdirs(\"file:/dbfs/generic_logs\") //... 9055298823239968063)\n23/11/21 08:24:10 INFO PythonDriverWrapper: Repl ReplId-343c6-c5a65-b9732-c executing (python,#!pip install -q tensorflow==2.12.0\n#!pip install -q tensorflow-addons,3764002524084400940_9054041284608112971_31d14c1d051c4cb59a6a796c35861ba1)\n23/11/21 08:24:10 INFO JupyterDriverLocal: Executing cmd #!pip install -q tensorflow==2.12.0\n#!pip install -q tensorflow-addons (type:python jobGroup:3764002524084400940_9054041284608112971_31d14c1d051c4cb59a6a796c35861ba1 Map() #!pip install -q tensorflow==2.12.0\n#!pip insta... 3764002524084400940)\n23/11/21 08:24:10 INFO PythonDriverWrapper: Repl ReplId-343c6-c5a65-b9732-c executing (python,DL_params = {\"input_dim\": input_dim, \n             \"output_dim\": y.nunique(), \n             \"hidden_layers\": [300, 200, 100], \n             \"hidden_act\": \"tanh\",\n             'hidden_act_l2':1,\n             'batch_norm':1}\n\n\nmedical.tf_graph.build(\"generic_classifier\",\n               build_params=DL_params, \n               model_location=\"file:/dbfs/gc_graph\",\n               model_filename=\"auto\"),3764002524084400940_7879854694738418866_31d14c1d051c4cb59a6a796c35861ba1)\n23/11/21 08:24:10 INFO JupyterDriverLocal: Executing cmd DL_params = {\"input_dim\": input_dim, \n             \"output_dim\": y.nunique(), \n             \"hidden_layers\": [300, 200, 100], \n             \"hidden_act\": \"tanh\",\n             'hidden_act_l2':1,\n             'batch_norm':1}\n\n\nmedical.tf_graph.build(\"generic_classifier\",\n               build_params=DL_params, \n               model_location=\"file:/dbfs/gc_graph\",\n               model_filename=\"auto\") (type:python jobGroup:3764002524084400940_7879854694738418866_31d14c1d051c4cb59a6a796c35861ba1 Map() DL_params = {\"input_dim\": input_dim, \n         ... 3764002524084400940)\n23/11/21 08:24:17 INFO PythonDriverWrapper: Repl ReplId-343c6-c5a65-b9732-c executing (python,#from sparknlp_jsl.base import *\n\n\nfeatures_asm = medical.FeaturesAssembler()\\\n      .setInputCols(['col_{}'.format(i) for i in range(X.shape[1])])\\\n      .setOutputCol(\"features\")\n\ngen_clf = medical.GenericClassifierApproach()\\\n    .setLabelColumn(\"target\")\\\n    .setInputCols([\"features\"])\\\n    .setOutputCol(\"prediction\")\\\n    .setModelFile('file:/dbfs/gc_graph/gcl.302.2.pb')\\\n    .setEpochsNumber(50)\\\n    .setBatchSize(100)\\\n    .setFeatureScaling(\"zscore\")\\\n    .setFixImbalance(True)\\\n    .setLearningRate(0.001)\\\n    .setOutputLogsPath(\"dbfs:/generic_logs\")\\\n    .setValidationSplit(0.2) # keep 20% of the data for validation purposes\n\nclf_Pipeline = nlp.Pipeline(stages=[\n    features_asm, \n    gen_clf]),3764002524084400940_6113538415730808346_31d14c1d051c4cb59a6a796c35861ba1)\n23/11/21 08:24:17 INFO JupyterDriverLocal: Executing cmd #from sparknlp_jsl.base import *\n\n\nfeatures_asm = medical.FeaturesAssembler()\\\n      .setInputCols(['col_{}'.format(i) for i in range(X.shape[1])])\\\n      .setOutputCol(\"features\")\n\ngen_clf = medical.GenericClassifierApproach()\\\n    .setLabelColumn(\"target\")\\\n    .setInputCols([\"features\"])\\\n    .setOutputCol(\"prediction\")\\\n    .setModelFile('file:/dbfs/gc_graph/gcl.302.2.pb')\\\n    .setEpochsNumber(50)\\\n    .setBatchSize(100)\\\n    .setFeatureScaling(\"zscore\")\\\n    .setFixImbalance(True)\\\n    .setLearningRate(0.001)\\\n    .setOutputLogsPath(\"dbfs:/generic_logs\")\\\n    .setValidationSplit(0.2) # keep 20% of the data for validation purposes\n\nclf_Pipeline = nlp.Pipeline(stages=[\n    features_asm, \n    gen_clf]) (type:python jobGroup:3764002524084400940_6113538415730808346_31d14c1d051c4cb59a6a796c35861ba1 Map() #from sparknlp_jsl.base import *\n\n\nfeatures_asm... 3764002524084400940)\n23/11/21 08:24:17 INFO PythonDriverWrapper: Repl ReplId-343c6-c5a65-b9732-c executing (python,clf_model = clf_Pipeline.fit(training_data),3764002524084400940_8308851230064762562_31d14c1d051c4cb59a6a796c35861ba1)\n23/11/21 08:24:17 INFO JupyterDriverLocal: Executing cmd clf_model = clf_Pipeline.fit(training_data) (type:python jobGroup:3764002524084400940_8308851230064762562_31d14c1d051c4cb59a6a796c35861ba1 Map() clf_model = clf_Pipeline.fit(training_data) 3764002524084400940)\n23/11/21 08:24:38 INFO DriverDaemon$: {\"metric\":\"serviceUptime\",\"tags\":{\"driverPublicDns\":\"20.185.238.11\",\"numPerClusterInitScriptsV2S3\":\"0\",\"numPerClusterInitScriptsV2Gcs\":\"0\",\"opType\":\"TimerTask\",\"clusterScalingType\":\"fixed_size\",\"attribute_tag_dust_execution_env\":\"\",\"driverContainerId\":\"524ecaa1e16940e184ce401394ca5bea\",\"numPerClusterInitScriptsV2Volumes\":\"0\",\"clusterState\":\"Pending\",\"ignoreTerminationEventInAlerting\":\"false\",\"clusterLogDeliveryEnabled\":\"false\",\"sparkEnvVarContainsSingleQuotes\":\"false\",\"driverNodeType\":\"Standard_DS4_v2\",\"shardName\":\"\",\"azureSubscriptionId\":\"bc5674c1-2f09-4eff-8497-b97f5466158f\",\"databricksCommit\":\"24e017641399d00ca97844e026495137927d24f9\",\"numPerClusterInitScriptsV2Abfss\":\"0\",\"sparkMasterUrlType\":\"None\",\"userProvidedRemoteVolumeCount\":\"0\",\"clusterUnityCatalogMode\":\"CUSTOM\",\"hostName\":\"0725-092232-stftp6wi-10-139-64-10\",\"enableJdbcAutoStart\":\"true\",\"driverInstanceId\":\"5f6ab79b8c424237be6bea99b4a8bb88\",\"orgId\":\"7956323724731612\",\"sparkVersion\":\"12.2.x-scala2.12\",\"clusterOwnerOrgId\":\"7956323724731612\",\"enableGlueCatalogCredentialPassthrough\":\"false\",\"cloudProvider\":\"Azure\",\"clusterName\":\"test v5.1.3\",\"clusterPythonVersion\":\"3\",\"numPerClusterInitScriptsV2Workspace\":\"0\",\"clusterAllTags\":\"[{\\\"key\\\":\\\"Vendor\\\",\\\"value\\\":\\\"Databricks\\\"},{\\\"key\\\":\\\"Creator\\\",\\\"value\\\":\\\"cabir@johnsnowlabs.com\\\"},{\\\"key\\\":\\\"ClusterName\\\",\\\"value\\\":\\\"test v5.1.3\\\"},{\\\"key\\\":\\\"ClusterId\\\",\\\"value\\\":\\\"0725-092232-stftp6wi\\\"},{\\\"ke[TRUNCATED]\",\"clusterResourceClass\":\"default\",\"enableSqlAclsOnly\":\"false\",\"containerType\":\"LXC\",\"attribute_tag_dust_suite\":\"\",\"messageSequenceNumber\":\"7015\",\"userId\":\"4915690538170453\",\"messageServerUuid\":\"FqleFKRsQymg6sYnXT836g==\",\"driverContainerPrivateIp\":\"10.139.64.10\",\"enableElasticDisk\":\"true\",\"clusterSizeType\":\"VM_CONTAINER\",\"dataPlaneRegion\":\"eastus\",\"instanceWorkerEnvNetworkType\":\"default\",\"sparkEnvVarContainsEscape\":\"false\",\"userProvidedSparkVersion\":\"12.2.x-scala2.12\",\"instanceWorkerEnvId\":\"workerenv-7956323724731612\",\"isServicePrincipalCluster\":\"false\",\"clusterPinned\":\"true\",\"clusterNodeType\":\"Standard_DS4_v2\",\"clusterNumCustomTags\":\"0\",\"clusterSku\":\"STANDARD_SKU\",\"attribute_tag_dust_maintainer\":\"\",\"ngrokNpipEnabled\":\"false\",\"numPerClusterInitScriptsV2Dbfs\":\"0\",\"clusterFirstOnDemand\":\"1\",\"enableCredentialPassthrough\":\"false\",\"clusterLastActivityTime\":\"1700519530290\",\"clusterLogDestination\":\"\",\"isSingleUserCluster\":\"false\",\"managedResourceGroup\":\"databricks-rg-sparknlp-27ewr6mu3hzpy\",\"driverInstancePrivateIp\":\"10.139.0.11\",\"sparkEnvVarContainsDollarSign\":\"false\",\"isIMv2Enabled\":\"false\",\"clusterTargetWorkers\":\"2\",\"numPerGlobalInitScriptsV2\":\"0\",\"numPerClusterInitScriptsV2\":\"0\",\"enableJobsAutostart\":\"true\",\"clusterStateMessage\":\"Starting Spark\",\"sparkImageLabel\":\"release__12.2.x-snapshot-scala2.12__databricks-universe__12.2.17__cf9fd7d__24e0176__jenkins__f5a8971__format-3\",\"apacheCommit\":\"990bee9c58ea9abd8c4f04f20c78c6d5b720406a\",\"effectiveSparkVersion\":\"12.2.x-scala2.12\",\"projectName\":\"driver\",\"region\":\"eastus\",\"userProvidedRemoteVolumeSizeGb\":\"0\",\"attribute_tag_service\":\"\",\"sparkEnvVarContainsDoubleQuotes\":\"false\",\"clusterGeneration\":\"156\",\"autoTerminationMinutes\":\"20\",\"clusterId\":\"0725-092232-stftp6wi\",\"numPerClusterInitScriptsV2File\":\"0\",\"clusterAvailability\":\"ON_DEMAND_AZURE\",\"parentOpId\":\"Thread-14\",\"hailEnabled\":\"false\",\"clusterSpotBidMaxPrice\":\"-1.0\",\"workerEnvironmentId\":\"workerenv-7956323724731612\",\"sparkEnvVarContainsNewline\":\"false\",\"tier\":\"tier-0\",\"enableDfAcls\":\"false\",\"rootOpId\":\"TimerTask-efd576e20961e45f\",\"clusterNoDriverDaemon\":\"false\",\"clusterOwnerUserId\":\"4915690538170453\",\"privateLinkEnabled\":\"false\",\"clusterCreator\":\"Webapp\",\"enableLocalDiskEncryption\":\"false\",\"isDpCpPrivateLinkEnabled\":\"false\",\"runtimeEngine\":\"STANDARD\",\"buildHash\":\"cf9fd7d07e2877c0359aa5dc38a50005f9454052\",\"clusterNumSshKeys\":\"0\",\"opId\":\"TimerTask-efd576e20961e45f\",\"branchName\":\"instance-manager_2023-11-14_23.31.26Z_clusters-branch_2023-10-25_39d190fb_d7849844_1949571662\",\"userProvidedRemoteVolumeType\":\"azure_disk_volume_type: PREMIUM_LRS\\n\",\"sparkEnvVarContainsBacktick\":\"false\",\"opTarget\":\"UptimeLogger:driver\",\"clusterMetastoreAccessType\":\"RDS_DIRECT\",\"attribute_tag_budget\":\"\",\"clusterWorkers\":\"2\"},\"timestamp\":1700555078992,\"v\":3,\"quantity\":30000.0,\"blob\":null}\n23/11/21 08:24:54 INFO PythonDriverWrapper: Repl ReplId-343c6-c5a65-b9732-c executing (python,pred_df = clf_model.transform(test_data),3764002524084400940_8265752963956134607_31d14c1d051c4cb59a6a796c35861ba1)\n23/11/21 08:24:54 INFO JupyterDriverLocal: Executing cmd pred_df = clf_model.transform(test_data) (type:python jobGroup:3764002524084400940_8265752963956134607_31d14c1d051c4cb59a6a796c35861ba1 Map() pred_df = clf_model.transform(test_data) 3764002524084400940)\n23/11/21 08:24:56 INFO PythonDriverWrapper: Repl ReplId-343c6-c5a65-b9732-c executing (python,pred_df.select('target','prediction.result').show(),3764002524084400940_4786095850375866357_31d14c1d051c4cb59a6a796c35861ba1)\n23/11/21 08:24:56 INFO JupyterDriverLocal: Executing cmd pred_df.select('target','prediction.result').show() (type:python jobGroup:3764002524084400940_4786095850375866357_31d14c1d051c4cb59a6a796c35861ba1 Map() pred_df.select('target','prediction.result').sh... 3764002524084400940)\n23/11/21 08:24:58 INFO PythonDriverWrapper: Repl ReplId-343c6-c5a65-b9732-c executing (python,preds_df = pred_df.select('target','prediction.result').toPandas()\n\n# Let's explode the array and get the item(s) inside of result column out\npreds_df['result'] = preds_df['result'].apply(lambda x : int(x[0])),3764002524084400940_7835287645348903665_31d14c1d051c4cb59a6a796c35861ba1)\n23/11/21 08:24:58 INFO JupyterDriverLocal: Executing cmd preds_df = pred_df.select('target','prediction.result').toPandas()\n\n# Let's explode the array and get the item(s) inside of result column out\npreds_df['result'] = preds_df['result'].apply(lambda x : int(x[0])) (type:python jobGroup:3764002524084400940_7835287645348903665_31d14c1d051c4cb59a6a796c35861ba1 Map() preds_df = pred_df.select('target','prediction.... 3764002524084400940)\n23/11/21 08:25:01 INFO PythonDriverWrapper: Repl ReplId-343c6-c5a65-b9732-c executing (python,# We are going to use sklearn to evalute the results on test dataset\nfrom sklearn.metrics import classification_report, accuracy_score\n\nprint (classification_report(preds_df['result'], preds_df['target'], digits=4))\n\nprint (accuracy_score(preds_df['result'], preds_df['target'])),3764002524084400940_9072012289678214972_31d14c1d051c4cb59a6a796c35861ba1)\n23/11/21 08:25:01 INFO JupyterDriverLocal: Executing cmd # We are going to use sklearn to evalute the results on test dataset\nfrom sklearn.metrics import classification_report, accuracy_score\n\nprint (classification_report(preds_df['result'], preds_df['target'], digits=4))\n\nprint (accuracy_score(preds_df['result'], preds_df['target'])) (type:python jobGroup:3764002524084400940_9072012289678214972_31d14c1d051c4cb59a6a796c35861ba1 Map() # We are going to use sklearn to evalute the re... 3764002524084400940)\n23/11/21 08:25:01 INFO PythonDriverWrapper: Repl ReplId-343c6-c5a65-b9732-c executing (python,graph_folder = \"gc_graph\"\n\ngc_graph_builder = medical.TFGraphBuilder()\\\n    .setModelName(\"generic_classifier\")\\\n    .setInputCols([\"features\"])\\\n    .setLabelColumn(\"target\")\\\n    .setHiddenLayers([300, 200, 100])\\\n    .setHiddenAct(\"tanh\")\\\n    .setHiddenActL2(True)\\\n    .setBatchNorm(True)\\\n    .setGraphFolder(graph_folder)\\\n    .setGraphFile(\"gcf_graph.pb\"),3764002524084400940_8779830438070243830_31d14c1d051c4cb59a6a796c35861ba1)\n23/11/21 08:25:01 INFO JupyterDriverLocal: Executing cmd graph_folder = \"gc_graph\"\n\ngc_graph_builder = medical.TFGraphBuilder()\\\n    .setModelName(\"generic_classifier\")\\\n    .setInputCols([\"features\"])\\\n    .setLabelColumn(\"target\")\\\n    .setHiddenLayers([300, 200, 100])\\\n    .setHiddenAct(\"tanh\")\\\n    .setHiddenActL2(True)\\\n    .setBatchNorm(True)\\\n    .setGraphFolder(graph_folder)\\\n    .setGraphFile(\"gcf_graph.pb\") (type:python jobGroup:3764002524084400940_8779830438070243830_31d14c1d051c4cb59a6a796c35861ba1 Map() graph_folder = \"gc_graph\"\n\ngc_graph_builder = m... 3764002524084400940)\n23/11/21 08:25:01 INFO PythonDriverWrapper: Repl ReplId-343c6-c5a65-b9732-c executing (python,'''\n# Create custom graph\n\n# If this method is used, graph folder should be added to training\n# model as `.setGraphFolder(graph_folder_path)`\n\n!mkdir gc_graph\n\nmedical.tf_graph.print_model_params(\"generic_classifier\")\n\nDL_params = {\"input_dim\": input_dim,\n             \"output_dim\": y.nunique(),\n             \"hidden_layers\": [300, 200, 100],\n             \"hidden_act\": \"tanh\",\n             'hidden_act_l2':1,\n             'batch_norm':1}\n\n\nmedical.tf_graph.build(\"generic_classifier\",\n               build_params=DL_params,\n               model_location=\"/content/gc_graph\",\n               model_filename=\"auto\")\n'''\n\n'''\n# or just use the one we already have in the repo\n\n!wget -q https://raw.githubusercontent.com/JohnSnowLabs/spark-nlp-workshop/master/tutorials/Certification_Trainings/Healthcare/generic_classifier_graph/pet.in1202D.out2.pb -P /content/gc_graph\n''',3764002524084400940_6630617584758888266_31d14c1d051c4cb59a6a796c35861ba1)\n23/11/21 08:25:01 INFO JupyterDriverLocal: Executing cmd '''\n# Create custom graph\n\n# If this method is used, graph folder should be added to training\n# model as `.setGraphFolder(graph_folder_path)`\n\n!mkdir gc_graph\n\nmedical.tf_graph.print_model_params(\"generic_classifier\")\n\nDL_params = {\"input_dim\": input_dim,\n             \"output_dim\": y.nunique(),\n             \"hidden_layers\": [300, 200, 100],\n             \"hidden_act\": \"tanh\",\n             'hidden_act_l2':1,\n             'batch_norm':1}\n\n\nmedical.tf_graph.build(\"generic_classifier\",\n               build_params=DL_params,\n               model_location=\"/content/gc_graph\",\n               model_filename=\"auto\")\n'''\n\n'''\n# or just use the one we already have in the repo\n\n!wget -q https://raw.githubusercontent.com/JohnSnowLabs/spark-nlp-workshop/master/tutorials/Certification_Trainings/Healthcare/generic_classifier_graph/pet.in1202D.out2.pb -P /content/gc_graph\n''' (type:python jobGroup:3764002524084400940_6630617584758888266_31d14c1d051c4cb59a6a796c35861ba1 Map() '''\n# Create custom graph\n\n# If this method is ... 3764002524084400940)\n23/11/21 08:25:01 INFO PythonDriverWrapper: Repl ReplId-343c6-c5a65-b9732-c executing (python,!mkdir logs\n\nfeatures_asm = medical.FeaturesAssembler()\\\n    .setInputCols(['col_{}'.format(i) for i in range(X.shape[1])])\\\n    .setOutputCol(\"features\")\n\ngen_clf = medical.GenericClassifierApproach()\\\n    .setLabelColumn(\"target\")\\\n    .setInputCols(\"features\")\\\n    .setOutputCol(\"prediction\")\\\n    .setModelFile(f\"{graph_folder}/gcf_graph.pb\")\\\n    .setEpochsNumber(50)\\\n    .setBatchSize(100)\\\n    .setFeatureScaling(\"zscore\")\\\n    .setFixImbalance(True)\\\n    .setLearningRate(0.002)\\\n    .setOutputLogsPath(\"logs\")\\\n    .setValidationSplit(0.2) # keep 20% of the data for validation purposes\n\nclf_Pipeline = nlp.Pipeline(stages=[\n    features_asm,\n    gc_graph_builder,\n    gen_clf])\n,3764002524084400940_6661697588158854723_31d14c1d051c4cb59a6a796c35861ba1)\n23/11/21 08:25:01 INFO JupyterDriverLocal: Executing cmd !mkdir logs\n\nfeatures_asm = medical.FeaturesAssembler()\\\n    .setInputCols(['col_{}'.format(i) for i in range(X.shape[1])])\\\n    .setOutputCol(\"features\")\n\ngen_clf = medical.GenericClassifierApproach()\\\n    .setLabelColumn(\"target\")\\\n    .setInputCols(\"features\")\\\n    .setOutputCol(\"prediction\")\\\n    .setModelFile(f\"{graph_folder}/gcf_graph.pb\")\\\n    .setEpochsNumber(50)\\\n    .setBatchSize(100)\\\n    .setFeatureScaling(\"zscore\")\\\n    .setFixImbalance(True)\\\n    .setLearningRate(0.002)\\\n    .setOutputLogsPath(\"logs\")\\\n    .setValidationSplit(0.2) # keep 20% of the data for validation purposes\n\nclf_Pipeline = nlp.Pipeline(stages=[\n    features_asm,\n    gc_graph_builder,\n    gen_clf])\n (type:python jobGroup:3764002524084400940_6661697588158854723_31d14c1d051c4cb59a6a796c35861ba1 Map() !mkdir logs\n\nfeatures_asm = medical.FeaturesAss... 3764002524084400940)\n23/11/21 08:25:02 INFO PythonDriverWrapper: Repl ReplId-343c6-c5a65-b9732-c executing (python,%%time\n\n# train 50 epochs (takes around 1 min)\n\nclf_model = clf_Pipeline.fit(training_data),3764002524084400940_8501843241535748455_31d14c1d051c4cb59a6a796c35861ba1)\n23/11/21 08:25:02 INFO JupyterDriverLocal: Executing cmd %%time\n\n# train 50 epochs (takes around 1 min)\n\nclf_model = clf_Pipeline.fit(training_data) (type:python jobGroup:3764002524084400940_8501843241535748455_31d14c1d051c4cb59a6a796c35861ba1 Map() %%time\n\n# train 50 epochs (takes around 1 min)\n... 3764002524084400940)\n23/11/21 08:25:08 INFO DriverDaemon$: {\"metric\":\"serviceUptime\",\"tags\":{\"driverPublicDns\":\"20.185.238.11\",\"numPerClusterInitScriptsV2S3\":\"0\",\"numPerClusterInitScriptsV2Gcs\":\"0\",\"opType\":\"TimerTask\",\"clusterScalingType\":\"fixed_size\",\"attribute_tag_dust_execution_env\":\"\",\"driverContainerId\":\"524ecaa1e16940e184ce401394ca5bea\",\"numPerClusterInitScriptsV2Volumes\":\"0\",\"clusterState\":\"Pending\",\"ignoreTerminationEventInAlerting\":\"false\",\"clusterLogDeliveryEnabled\":\"false\",\"sparkEnvVarContainsSingleQuotes\":\"false\",\"driverNodeType\":\"Standard_DS4_v2\",\"shardName\":\"\",\"azureSubscriptionId\":\"bc5674c1-2f09-4eff-8497-b97f5466158f\",\"databricksCommit\":\"24e017641399d00ca97844e026495137927d24f9\",\"numPerClusterInitScriptsV2Abfss\":\"0\",\"sparkMasterUrlType\":\"None\",\"userProvidedRemoteVolumeCount\":\"0\",\"clusterUnityCatalogMode\":\"CUSTOM\",\"hostName\":\"0725-092232-stftp6wi-10-139-64-10\",\"enableJdbcAutoStart\":\"true\",\"driverInstanceId\":\"5f6ab79b8c424237be6bea99b4a8bb88\",\"orgId\":\"7956323724731612\",\"sparkVersion\":\"12.2.x-scala2.12\",\"clusterOwnerOrgId\":\"7956323724731612\",\"enableGlueCatalogCredentialPassthrough\":\"false\",\"cloudProvider\":\"Azure\",\"clusterName\":\"test v5.1.3\",\"clusterPythonVersion\":\"3\",\"numPerClusterInitScriptsV2Workspace\":\"0\",\"clusterAllTags\":\"[{\\\"key\\\":\\\"Vendor\\\",\\\"value\\\":\\\"Databricks\\\"},{\\\"key\\\":\\\"Creator\\\",\\\"value\\\":\\\"cabir@johnsnowlabs.com\\\"},{\\\"key\\\":\\\"ClusterName\\\",\\\"value\\\":\\\"test v5.1.3\\\"},{\\\"key\\\":\\\"ClusterId\\\",\\\"value\\\":\\\"0725-092232-stftp6wi\\\"},{\\\"ke[TRUNCATED]\",\"clusterResourceClass\":\"default\",\"enableSqlAclsOnly\":\"false\",\"containerType\":\"LXC\",\"attribute_tag_dust_suite\":\"\",\"messageSequenceNumber\":\"7142\",\"userId\":\"4915690538170453\",\"messageServerUuid\":\"FqleFKRsQymg6sYnXT836g==\",\"driverContainerPrivateIp\":\"10.139.64.10\",\"enableElasticDisk\":\"true\",\"clusterSizeType\":\"VM_CONTAINER\",\"dataPlaneRegion\":\"eastus\",\"instanceWorkerEnvNetworkType\":\"default\",\"sparkEnvVarContainsEscape\":\"false\",\"userProvidedSparkVersion\":\"12.2.x-scala2.12\",\"instanceWorkerEnvId\":\"workerenv-7956323724731612\",\"isServicePrincipalCluster\":\"false\",\"clusterPinned\":\"true\",\"clusterNodeType\":\"Standard_DS4_v2\",\"clusterNumCustomTags\":\"0\",\"clusterSku\":\"STANDARD_SKU\",\"attribute_tag_dust_maintainer\":\"\",\"ngrokNpipEnabled\":\"false\",\"numPerClusterInitScriptsV2Dbfs\":\"0\",\"clusterFirstOnDemand\":\"1\",\"enableCredentialPassthrough\":\"false\",\"clusterLastActivityTime\":\"1700519530290\",\"clusterLogDestination\":\"\",\"isSingleUserCluster\":\"false\",\"managedResourceGroup\":\"databricks-rg-sparknlp-27ewr6mu3hzpy\",\"driverInstancePrivateIp\":\"10.139.0.11\",\"sparkEnvVarContainsDollarSign\":\"false\",\"isIMv2Enabled\":\"false\",\"clusterTargetWorkers\":\"2\",\"numPerGlobalInitScriptsV2\":\"0\",\"numPerClusterInitScriptsV2\":\"0\",\"enableJobsAutostart\":\"true\",\"clusterStateMessage\":\"Starting Spark\",\"sparkImageLabel\":\"release__12.2.x-snapshot-scala2.12__databricks-universe__12.2.17__cf9fd7d__24e0176__jenkins__f5a8971__format-3\",\"apacheCommit\":\"990bee9c58ea9abd8c4f04f20c78c6d5b720406a\",\"effectiveSparkVersion\":\"12.2.x-scala2.12\",\"projectName\":\"driver\",\"region\":\"eastus\",\"userProvidedRemoteVolumeSizeGb\":\"0\",\"attribute_tag_service\":\"\",\"sparkEnvVarContainsDoubleQuotes\":\"false\",\"clusterGeneration\":\"156\",\"autoTerminationMinutes\":\"20\",\"clusterId\":\"0725-092232-stftp6wi\",\"numPerClusterInitScriptsV2File\":\"0\",\"clusterAvailability\":\"ON_DEMAND_AZURE\",\"parentOpId\":\"Thread-14\",\"hailEnabled\":\"false\",\"clusterSpotBidMaxPrice\":\"-1.0\",\"workerEnvironmentId\":\"workerenv-7956323724731612\",\"sparkEnvVarContainsNewline\":\"false\",\"tier\":\"tier-0\",\"enableDfAcls\":\"false\",\"rootOpId\":\"TimerTask-efd576e20961e7b6\",\"clusterNoDriverDaemon\":\"false\",\"clusterOwnerUserId\":\"4915690538170453\",\"privateLinkEnabled\":\"false\",\"clusterCreator\":\"Webapp\",\"enableLocalDiskEncryption\":\"false\",\"isDpCpPrivateLinkEnabled\":\"false\",\"runtimeEngine\":\"STANDARD\",\"buildHash\":\"cf9fd7d07e2877c0359aa5dc38a50005f9454052\",\"clusterNumSshKeys\":\"0\",\"opId\":\"TimerTask-efd576e20961e7b6\",\"branchName\":\"instance-manager_2023-11-14_23.31.26Z_clusters-branch_2023-10-25_39d190fb_d7849844_1949571662\",\"userProvidedRemoteVolumeType\":\"azure_disk_volume_type: PREMIUM_LRS\\n\",\"sparkEnvVarContainsBacktick\":\"false\",\"opTarget\":\"UptimeLogger:driver\",\"clusterMetastoreAccessType\":\"RDS_DIRECT\",\"attribute_tag_budget\":\"\",\"clusterWorkers\":\"2\"},\"timestamp\":1700555108992,\"v\":3,\"quantity\":30000.0,\"blob\":null}\n23/11/21 08:25:38 INFO PythonDriverWrapper: Repl ReplId-343c6-c5a65-b9732-c executing (python,import os\nlog_file_name = os.listdir(\"logs\")[0]\n\nwith open(\"logs/\"+log_file_name, \"r\") as log_file :\n    print(log_file.read()),3764002524084400940_4824548981538386986_31d14c1d051c4cb59a6a796c35861ba1)\n23/11/21 08:25:38 INFO JupyterDriverLocal: Executing cmd import os\nlog_file_name = os.listdir(\"logs\")[0]\n\nwith open(\"logs/\"+log_file_name, \"r\") as log_file :\n    print(log_file.read()) (type:python jobGroup:3764002524084400940_4824548981538386986_31d14c1d051c4cb59a6a796c35861ba1 Map() import os\nlog_file_name = os.listdir(\"logs\")[0]... 3764002524084400940)\n\n"
     ]
    }
   ],
   "source": [
    "import os\n",
    "log_file_name = os.listdir(\"logs\")[0]\n",
    "\n",
    "with open(\"logs/\"+log_file_name, \"r\") as log_file :\n",
    "    print(log_file.read())"
   ]
  },
  {
   "cell_type": "code",
   "execution_count": 0,
   "metadata": {
    "application/vnd.databricks.v1+cell": {
     "cellMetadata": {
      "byteLimit": 2048000,
      "rowLimit": 10000
     },
     "inputWidgets": {},
     "nuid": "f6b6cf2f-836d-49d1-aefd-dba01a29fb11",
     "showTitle": false,
     "title": ""
    }
   },
   "outputs": [],
   "source": [
    "pred_df = clf_model.transform(test_data)"
   ]
  },
  {
   "cell_type": "code",
   "execution_count": 0,
   "metadata": {
    "application/vnd.databricks.v1+cell": {
     "cellMetadata": {
      "byteLimit": 2048000,
      "rowLimit": 10000
     },
     "inputWidgets": {},
     "nuid": "63e38a1b-7467-4ef2-b767-f66c1a35fecf",
     "showTitle": false,
     "title": ""
    }
   },
   "outputs": [
    {
     "output_type": "stream",
     "name": "stdout",
     "output_type": "stream",
     "text": [
      "+------+------+\n|target|result|\n+------+------+\n|     0|   [0]|\n|     1|   [1]|\n|     1|   [1]|\n|     1|   [1]|\n|     1|   [1]|\n|     1|   [1]|\n|     0|   [1]|\n|     1|   [1]|\n|     1|   [1]|\n|     1|   [1]|\n|     1|   [1]|\n|     1|   [1]|\n|     0|   [1]|\n|     1|   [1]|\n|     0|   [1]|\n|     1|   [1]|\n|     1|   [1]|\n|     1|   [1]|\n|     0|   [1]|\n|     1|   [1]|\n+------+------+\nonly showing top 20 rows\n\n"
     ]
    }
   ],
   "source": [
    "pred_df.select('target','prediction.result').show()"
   ]
  },
  {
   "cell_type": "code",
   "execution_count": 0,
   "metadata": {
    "application/vnd.databricks.v1+cell": {
     "cellMetadata": {
      "byteLimit": 2048000,
      "rowLimit": 10000
     },
     "inputWidgets": {},
     "nuid": "431f485c-5751-4af1-9189-ae3af748846e",
     "showTitle": false,
     "title": ""
    }
   },
   "outputs": [],
   "source": [
    "preds_df = pred_df.select('target','prediction.result').toPandas()\n",
    "\n",
    "# Let's explode the array and get the item(s) inside of result column out\n",
    "preds_df['result'] = preds_df['result'].apply(lambda x : int(x[0]))\n"
   ]
  },
  {
   "cell_type": "code",
   "execution_count": 0,
   "metadata": {
    "application/vnd.databricks.v1+cell": {
     "cellMetadata": {
      "byteLimit": 2048000,
      "rowLimit": 10000
     },
     "inputWidgets": {},
     "nuid": "b8ad5693-608f-4c13-ba80-6bf883982b6b",
     "showTitle": false,
     "title": ""
    }
   },
   "outputs": [
    {
     "output_type": "display_data",
     "data": {
      "text/html": [
       "<div>\n",
       "<style scoped>\n",
       "    .dataframe tbody tr th:only-of-type {\n",
       "        vertical-align: middle;\n",
       "    }\n",
       "\n",
       "    .dataframe tbody tr th {\n",
       "        vertical-align: top;\n",
       "    }\n",
       "\n",
       "    .dataframe thead th {\n",
       "        text-align: right;\n",
       "    }\n",
       "</style>\n",
       "<table border=\"1\" class=\"dataframe\">\n",
       "  <thead>\n",
       "    <tr style=\"text-align: right;\">\n",
       "      <th></th>\n",
       "      <th>target</th>\n",
       "      <th>result</th>\n",
       "    </tr>\n",
       "  </thead>\n",
       "  <tbody>\n",
       "    <tr>\n",
       "      <th>78</th>\n",
       "      <td>0</td>\n",
       "      <td>0</td>\n",
       "    </tr>\n",
       "    <tr>\n",
       "      <th>624</th>\n",
       "      <td>1</td>\n",
       "      <td>1</td>\n",
       "    </tr>\n",
       "    <tr>\n",
       "      <th>2057</th>\n",
       "      <td>1</td>\n",
       "      <td>1</td>\n",
       "    </tr>\n",
       "    <tr>\n",
       "      <th>1665</th>\n",
       "      <td>1</td>\n",
       "      <td>1</td>\n",
       "    </tr>\n",
       "    <tr>\n",
       "      <th>1893</th>\n",
       "      <td>1</td>\n",
       "      <td>1</td>\n",
       "    </tr>\n",
       "    <tr>\n",
       "      <th>543</th>\n",
       "      <td>1</td>\n",
       "      <td>1</td>\n",
       "    </tr>\n",
       "    <tr>\n",
       "      <th>2056</th>\n",
       "      <td>1</td>\n",
       "      <td>1</td>\n",
       "    </tr>\n",
       "    <tr>\n",
       "      <th>657</th>\n",
       "      <td>0</td>\n",
       "      <td>0</td>\n",
       "    </tr>\n",
       "    <tr>\n",
       "      <th>1470</th>\n",
       "      <td>1</td>\n",
       "      <td>0</td>\n",
       "    </tr>\n",
       "    <tr>\n",
       "      <th>151</th>\n",
       "      <td>1</td>\n",
       "      <td>1</td>\n",
       "    </tr>\n",
       "  </tbody>\n",
       "</table>\n",
       "</div>"
      ]
     },
     "metadata": {
      "application/vnd.databricks.v1+output": {
       "addedWidgets": {},
       "arguments": {},
       "data": "<div>\n<style scoped>\n    .dataframe tbody tr th:only-of-type {\n        vertical-align: middle;\n    }\n\n    .dataframe tbody tr th {\n        vertical-align: top;\n    }\n\n    .dataframe thead th {\n        text-align: right;\n    }\n</style>\n<table border=\"1\" class=\"dataframe\">\n  <thead>\n    <tr style=\"text-align: right;\">\n      <th></th>\n      <th>target</th>\n      <th>result</th>\n    </tr>\n  </thead>\n  <tbody>\n    <tr>\n      <th>78</th>\n      <td>0</td>\n      <td>0</td>\n    </tr>\n    <tr>\n      <th>624</th>\n      <td>1</td>\n      <td>1</td>\n    </tr>\n    <tr>\n      <th>2057</th>\n      <td>1</td>\n      <td>1</td>\n    </tr>\n    <tr>\n      <th>1665</th>\n      <td>1</td>\n      <td>1</td>\n    </tr>\n    <tr>\n      <th>1893</th>\n      <td>1</td>\n      <td>1</td>\n    </tr>\n    <tr>\n      <th>543</th>\n      <td>1</td>\n      <td>1</td>\n    </tr>\n    <tr>\n      <th>2056</th>\n      <td>1</td>\n      <td>1</td>\n    </tr>\n    <tr>\n      <th>657</th>\n      <td>0</td>\n      <td>0</td>\n    </tr>\n    <tr>\n      <th>1470</th>\n      <td>1</td>\n      <td>0</td>\n    </tr>\n    <tr>\n      <th>151</th>\n      <td>1</td>\n      <td>1</td>\n    </tr>\n  </tbody>\n</table>\n</div>",
       "datasetInfos": [],
       "metadata": {},
       "removedWidgets": [],
       "textData": null,
       "type": "htmlSandbox"
      }
     },
     "output_type": "display_data"
    }
   ],
   "source": [
    "preds_df.sample(10)"
   ]
  },
  {
   "cell_type": "code",
   "execution_count": 0,
   "metadata": {
    "application/vnd.databricks.v1+cell": {
     "cellMetadata": {
      "byteLimit": 2048000,
      "rowLimit": 10000
     },
     "inputWidgets": {},
     "nuid": "27b85f06-1aaf-4502-9389-82cfd6980cac",
     "showTitle": false,
     "title": ""
    }
   },
   "outputs": [
    {
     "output_type": "stream",
     "name": "stdout",
     "output_type": "stream",
     "text": [
      "              precision    recall  f1-score   support\n\n           0     0.5467    0.5008    0.5227       631\n           1     0.8240    0.8492    0.8364      1737\n\n    accuracy                         0.7563      2368\n   macro avg     0.6854    0.6750    0.6796      2368\nweighted avg     0.7501    0.7563    0.7528      2368\n\n0.7563344594594594\n"
     ]
    }
   ],
   "source": [
    "# We are going to use sklearn to evalute the results on test dataset\n",
    "from sklearn.metrics import classification_report, accuracy_score\n",
    "\n",
    "print (classification_report(preds_df['target'], preds_df['result'], digits=4))\n",
    "\n",
    "print (accuracy_score(preds_df['target'], preds_df['result']))\n"
   ]
  },
  {
   "cell_type": "markdown",
   "metadata": {
    "application/vnd.databricks.v1+cell": {
     "cellMetadata": {
      "byteLimit": 2048000,
      "rowLimit": 10000
     },
     "inputWidgets": {},
     "nuid": "d7ce7022-b696-4723-b04c-644900553aa5",
     "showTitle": false,
     "title": ""
    }
   },
   "source": [
    "## get prediction for random input"
   ]
  },
  {
   "cell_type": "code",
   "execution_count": 0,
   "metadata": {
    "application/vnd.databricks.v1+cell": {
     "cellMetadata": {
      "byteLimit": 2048000,
      "rowLimit": 10000
     },
     "inputWidgets": {},
     "nuid": "f40c4f5b-2b80-46f0-8054-52e8dfa26718",
     "showTitle": false,
     "title": ""
    }
   },
   "outputs": [
    {
     "output_type": "display_data",
     "data": {
      "text/html": [
       "<div>\n",
       "<style scoped>\n",
       "    .dataframe tbody tr th:only-of-type {\n",
       "        vertical-align: middle;\n",
       "    }\n",
       "\n",
       "    .dataframe tbody tr th {\n",
       "        vertical-align: top;\n",
       "    }\n",
       "\n",
       "    .dataframe thead th {\n",
       "        text-align: right;\n",
       "    }\n",
       "</style>\n",
       "<table border=\"1\" class=\"dataframe\">\n",
       "  <thead>\n",
       "    <tr style=\"text-align: right;\">\n",
       "      <th></th>\n",
       "      <th>Type</th>\n",
       "      <th>Age</th>\n",
       "      <th>Breed1</th>\n",
       "      <th>Gender</th>\n",
       "      <th>Color1</th>\n",
       "      <th>Color2</th>\n",
       "      <th>MaturitySize</th>\n",
       "      <th>FurLength</th>\n",
       "      <th>Vaccinated</th>\n",
       "      <th>Sterilized</th>\n",
       "      <th>Health</th>\n",
       "      <th>Fee</th>\n",
       "      <th>Description</th>\n",
       "      <th>PhotoAmt</th>\n",
       "      <th>target</th>\n",
       "    </tr>\n",
       "  </thead>\n",
       "  <tbody>\n",
       "    <tr>\n",
       "      <th>0</th>\n",
       "      <td>Dog</td>\n",
       "      <td>2</td>\n",
       "      <td>Mixed Breed</td>\n",
       "      <td>Female</td>\n",
       "      <td>Black</td>\n",
       "      <td>Brown</td>\n",
       "      <td>Medium</td>\n",
       "      <td>Medium</td>\n",
       "      <td>Yes</td>\n",
       "      <td>Yes</td>\n",
       "      <td>Healthy</td>\n",
       "      <td>10</td>\n",
       "      <td>Friendly and pampered female puppy looking for a beautiful home</td>\n",
       "      <td>2</td>\n",
       "      <td>1</td>\n",
       "    </tr>\n",
       "  </tbody>\n",
       "</table>\n",
       "</div>"
      ]
     },
     "metadata": {
      "application/vnd.databricks.v1+output": {
       "addedWidgets": {},
       "arguments": {},
       "data": "<div>\n<style scoped>\n    .dataframe tbody tr th:only-of-type {\n        vertical-align: middle;\n    }\n\n    .dataframe tbody tr th {\n        vertical-align: top;\n    }\n\n    .dataframe thead th {\n        text-align: right;\n    }\n</style>\n<table border=\"1\" class=\"dataframe\">\n  <thead>\n    <tr style=\"text-align: right;\">\n      <th></th>\n      <th>Type</th>\n      <th>Age</th>\n      <th>Breed1</th>\n      <th>Gender</th>\n      <th>Color1</th>\n      <th>Color2</th>\n      <th>MaturitySize</th>\n      <th>FurLength</th>\n      <th>Vaccinated</th>\n      <th>Sterilized</th>\n      <th>Health</th>\n      <th>Fee</th>\n      <th>Description</th>\n      <th>PhotoAmt</th>\n      <th>target</th>\n    </tr>\n  </thead>\n  <tbody>\n    <tr>\n      <th>0</th>\n      <td>Dog</td>\n      <td>2</td>\n      <td>Mixed Breed</td>\n      <td>Female</td>\n      <td>Black</td>\n      <td>Brown</td>\n      <td>Medium</td>\n      <td>Medium</td>\n      <td>Yes</td>\n      <td>Yes</td>\n      <td>Healthy</td>\n      <td>10</td>\n      <td>Friendly and pampered female puppy looking for a beautiful home</td>\n      <td>2</td>\n      <td>1</td>\n    </tr>\n  </tbody>\n</table>\n</div>",
       "datasetInfos": [],
       "metadata": {},
       "removedWidgets": [],
       "textData": null,
       "type": "htmlSandbox"
      }
     },
     "output_type": "display_data"
    }
   ],
   "source": [
    "pd.DataFrame([dataframe.loc[5191].to_dict()])"
   ]
  },
  {
   "cell_type": "code",
   "execution_count": 0,
   "metadata": {
    "application/vnd.databricks.v1+cell": {
     "cellMetadata": {
      "byteLimit": 2048000,
      "rowLimit": 10000
     },
     "inputWidgets": {},
     "nuid": "d11b891a-aa89-46e9-bf8a-0860ae33a403",
     "showTitle": false,
     "title": ""
    }
   },
   "outputs": [],
   "source": [
    "input_X = column_trans.transform(pd.DataFrame([dataframe.loc[0].to_dict()]).drop(['target'], axis=1))\n",
    "\n",
    "input_y = dataframe.target[0]\n"
   ]
  },
  {
   "cell_type": "code",
   "execution_count": 0,
   "metadata": {
    "application/vnd.databricks.v1+cell": {
     "cellMetadata": {
      "byteLimit": 2048000,
      "rowLimit": 10000
     },
     "inputWidgets": {},
     "nuid": "678bca5b-d683-4b3d-8a47-c46d12f769ed",
     "showTitle": false,
     "title": ""
    }
   },
   "outputs": [
    {
     "output_type": "display_data",
     "data": {
      "text/html": [
       "<div>\n",
       "<style scoped>\n",
       "    .dataframe tbody tr th:only-of-type {\n",
       "        vertical-align: middle;\n",
       "    }\n",
       "\n",
       "    .dataframe tbody tr th {\n",
       "        vertical-align: top;\n",
       "    }\n",
       "\n",
       "    .dataframe thead th {\n",
       "        text-align: right;\n",
       "    }\n",
       "</style>\n",
       "<table border=\"1\" class=\"dataframe\">\n",
       "  <thead>\n",
       "    <tr style=\"text-align: right;\">\n",
       "      <th></th>\n",
       "      <th>col_0</th>\n",
       "      <th>col_1</th>\n",
       "      <th>col_2</th>\n",
       "      <th>col_3</th>\n",
       "      <th>col_4</th>\n",
       "      <th>col_5</th>\n",
       "      <th>col_6</th>\n",
       "      <th>col_7</th>\n",
       "      <th>col_8</th>\n",
       "      <th>col_9</th>\n",
       "      <th>col_10</th>\n",
       "      <th>col_11</th>\n",
       "      <th>col_12</th>\n",
       "      <th>col_13</th>\n",
       "      <th>col_14</th>\n",
       "      <th>col_15</th>\n",
       "      <th>col_16</th>\n",
       "      <th>col_17</th>\n",
       "      <th>col_18</th>\n",
       "      <th>col_19</th>\n",
       "      <th>col_20</th>\n",
       "      <th>col_21</th>\n",
       "      <th>col_22</th>\n",
       "      <th>col_23</th>\n",
       "      <th>col_24</th>\n",
       "      <th>col_25</th>\n",
       "      <th>col_26</th>\n",
       "      <th>col_27</th>\n",
       "      <th>col_28</th>\n",
       "      <th>col_29</th>\n",
       "      <th>col_30</th>\n",
       "      <th>col_31</th>\n",
       "      <th>col_32</th>\n",
       "      <th>col_33</th>\n",
       "      <th>col_34</th>\n",
       "      <th>col_35</th>\n",
       "      <th>col_36</th>\n",
       "      <th>col_37</th>\n",
       "      <th>col_38</th>\n",
       "      <th>col_39</th>\n",
       "      <th>col_40</th>\n",
       "      <th>col_41</th>\n",
       "      <th>col_42</th>\n",
       "      <th>col_43</th>\n",
       "      <th>col_44</th>\n",
       "      <th>col_45</th>\n",
       "      <th>col_46</th>\n",
       "      <th>col_47</th>\n",
       "      <th>col_48</th>\n",
       "      <th>col_49</th>\n",
       "      <th>...</th>\n",
       "      <th>col_253</th>\n",
       "      <th>col_254</th>\n",
       "      <th>col_255</th>\n",
       "      <th>col_256</th>\n",
       "      <th>col_257</th>\n",
       "      <th>col_258</th>\n",
       "      <th>col_259</th>\n",
       "      <th>col_260</th>\n",
       "      <th>col_261</th>\n",
       "      <th>col_262</th>\n",
       "      <th>col_263</th>\n",
       "      <th>col_264</th>\n",
       "      <th>col_265</th>\n",
       "      <th>col_266</th>\n",
       "      <th>col_267</th>\n",
       "      <th>col_268</th>\n",
       "      <th>col_269</th>\n",
       "      <th>col_270</th>\n",
       "      <th>col_271</th>\n",
       "      <th>col_272</th>\n",
       "      <th>col_273</th>\n",
       "      <th>col_274</th>\n",
       "      <th>col_275</th>\n",
       "      <th>col_276</th>\n",
       "      <th>col_277</th>\n",
       "      <th>col_278</th>\n",
       "      <th>col_279</th>\n",
       "      <th>col_280</th>\n",
       "      <th>col_281</th>\n",
       "      <th>col_282</th>\n",
       "      <th>col_283</th>\n",
       "      <th>col_284</th>\n",
       "      <th>col_285</th>\n",
       "      <th>col_286</th>\n",
       "      <th>col_287</th>\n",
       "      <th>col_288</th>\n",
       "      <th>col_289</th>\n",
       "      <th>col_290</th>\n",
       "      <th>col_291</th>\n",
       "      <th>col_292</th>\n",
       "      <th>col_293</th>\n",
       "      <th>col_294</th>\n",
       "      <th>col_295</th>\n",
       "      <th>col_296</th>\n",
       "      <th>col_297</th>\n",
       "      <th>col_298</th>\n",
       "      <th>col_299</th>\n",
       "      <th>col_300</th>\n",
       "      <th>col_301</th>\n",
       "      <th>target</th>\n",
       "    </tr>\n",
       "  </thead>\n",
       "  <tbody>\n",
       "    <tr>\n",
       "      <th>0</th>\n",
       "      <td>1.0</td>\n",
       "      <td>0.0</td>\n",
       "      <td>0.0</td>\n",
       "      <td>0.0</td>\n",
       "      <td>0.0</td>\n",
       "      <td>0.0</td>\n",
       "      <td>0.0</td>\n",
       "      <td>0.0</td>\n",
       "      <td>0.0</td>\n",
       "      <td>0.0</td>\n",
       "      <td>0.0</td>\n",
       "      <td>0.0</td>\n",
       "      <td>0.0</td>\n",
       "      <td>0.0</td>\n",
       "      <td>0.0</td>\n",
       "      <td>0.0</td>\n",
       "      <td>0.0</td>\n",
       "      <td>0.0</td>\n",
       "      <td>0.0</td>\n",
       "      <td>0.0</td>\n",
       "      <td>0.0</td>\n",
       "      <td>0.0</td>\n",
       "      <td>0.0</td>\n",
       "      <td>0.0</td>\n",
       "      <td>0.0</td>\n",
       "      <td>0.0</td>\n",
       "      <td>0.0</td>\n",
       "      <td>0.0</td>\n",
       "      <td>0.0</td>\n",
       "      <td>0.0</td>\n",
       "      <td>0.0</td>\n",
       "      <td>0.0</td>\n",
       "      <td>0.0</td>\n",
       "      <td>0.0</td>\n",
       "      <td>0.0</td>\n",
       "      <td>0.0</td>\n",
       "      <td>0.0</td>\n",
       "      <td>0.0</td>\n",
       "      <td>0.0</td>\n",
       "      <td>0.0</td>\n",
       "      <td>0.0</td>\n",
       "      <td>0.0</td>\n",
       "      <td>0.0</td>\n",
       "      <td>0.0</td>\n",
       "      <td>0.0</td>\n",
       "      <td>0.0</td>\n",
       "      <td>0.0</td>\n",
       "      <td>0.0</td>\n",
       "      <td>0.0</td>\n",
       "      <td>0.0</td>\n",
       "      <td>...</td>\n",
       "      <td>0.0</td>\n",
       "      <td>0.0</td>\n",
       "      <td>0.0</td>\n",
       "      <td>0.171825</td>\n",
       "      <td>0.0</td>\n",
       "      <td>0.137765</td>\n",
       "      <td>0.0</td>\n",
       "      <td>0.0</td>\n",
       "      <td>0.283609</td>\n",
       "      <td>0.0</td>\n",
       "      <td>0.220992</td>\n",
       "      <td>0.151594</td>\n",
       "      <td>0.0</td>\n",
       "      <td>0.0</td>\n",
       "      <td>0.0</td>\n",
       "      <td>0.0</td>\n",
       "      <td>0.0</td>\n",
       "      <td>0.0</td>\n",
       "      <td>0.144907</td>\n",
       "      <td>0.0</td>\n",
       "      <td>0.0</td>\n",
       "      <td>0.158869</td>\n",
       "      <td>0.0</td>\n",
       "      <td>0.0</td>\n",
       "      <td>0.0</td>\n",
       "      <td>0.170202</td>\n",
       "      <td>0.0</td>\n",
       "      <td>0.192465</td>\n",
       "      <td>0.190783</td>\n",
       "      <td>0.0</td>\n",
       "      <td>0.132427</td>\n",
       "      <td>0.176639</td>\n",
       "      <td>0.151246</td>\n",
       "      <td>0.0</td>\n",
       "      <td>0.0</td>\n",
       "      <td>0.0</td>\n",
       "      <td>0.0</td>\n",
       "      <td>0.257843</td>\n",
       "      <td>0.0</td>\n",
       "      <td>0.0</td>\n",
       "      <td>0.0</td>\n",
       "      <td>0.0</td>\n",
       "      <td>0.0</td>\n",
       "      <td>0.0</td>\n",
       "      <td>0.0</td>\n",
       "      <td>0.0</td>\n",
       "      <td>-0.452479</td>\n",
       "      <td>0.950288</td>\n",
       "      <td>-0.829762</td>\n",
       "      <td>1</td>\n",
       "    </tr>\n",
       "  </tbody>\n",
       "</table>\n",
       "<p>1 rows × 303 columns</p>\n",
       "</div>"
      ]
     },
     "metadata": {
      "application/vnd.databricks.v1+output": {
       "addedWidgets": {},
       "arguments": {},
       "data": "<div>\n<style scoped>\n    .dataframe tbody tr th:only-of-type {\n        vertical-align: middle;\n    }\n\n    .dataframe tbody tr th {\n        vertical-align: top;\n    }\n\n    .dataframe thead th {\n        text-align: right;\n    }\n</style>\n<table border=\"1\" class=\"dataframe\">\n  <thead>\n    <tr style=\"text-align: right;\">\n      <th></th>\n      <th>col_0</th>\n      <th>col_1</th>\n      <th>col_2</th>\n      <th>col_3</th>\n      <th>col_4</th>\n      <th>col_5</th>\n      <th>col_6</th>\n      <th>col_7</th>\n      <th>col_8</th>\n      <th>col_9</th>\n      <th>col_10</th>\n      <th>col_11</th>\n      <th>col_12</th>\n      <th>col_13</th>\n      <th>col_14</th>\n      <th>col_15</th>\n      <th>col_16</th>\n      <th>col_17</th>\n      <th>col_18</th>\n      <th>col_19</th>\n      <th>col_20</th>\n      <th>col_21</th>\n      <th>col_22</th>\n      <th>col_23</th>\n      <th>col_24</th>\n      <th>col_25</th>\n      <th>col_26</th>\n      <th>col_27</th>\n      <th>col_28</th>\n      <th>col_29</th>\n      <th>col_30</th>\n      <th>col_31</th>\n      <th>col_32</th>\n      <th>col_33</th>\n      <th>col_34</th>\n      <th>col_35</th>\n      <th>col_36</th>\n      <th>col_37</th>\n      <th>col_38</th>\n      <th>col_39</th>\n      <th>col_40</th>\n      <th>col_41</th>\n      <th>col_42</th>\n      <th>col_43</th>\n      <th>col_44</th>\n      <th>col_45</th>\n      <th>col_46</th>\n      <th>col_47</th>\n      <th>col_48</th>\n      <th>col_49</th>\n      <th>...</th>\n      <th>col_253</th>\n      <th>col_254</th>\n      <th>col_255</th>\n      <th>col_256</th>\n      <th>col_257</th>\n      <th>col_258</th>\n      <th>col_259</th>\n      <th>col_260</th>\n      <th>col_261</th>\n      <th>col_262</th>\n      <th>col_263</th>\n      <th>col_264</th>\n      <th>col_265</th>\n      <th>col_266</th>\n      <th>col_267</th>\n      <th>col_268</th>\n      <th>col_269</th>\n      <th>col_270</th>\n      <th>col_271</th>\n      <th>col_272</th>\n      <th>col_273</th>\n      <th>col_274</th>\n      <th>col_275</th>\n      <th>col_276</th>\n      <th>col_277</th>\n      <th>col_278</th>\n      <th>col_279</th>\n      <th>col_280</th>\n      <th>col_281</th>\n      <th>col_282</th>\n      <th>col_283</th>\n      <th>col_284</th>\n      <th>col_285</th>\n      <th>col_286</th>\n      <th>col_287</th>\n      <th>col_288</th>\n      <th>col_289</th>\n      <th>col_290</th>\n      <th>col_291</th>\n      <th>col_292</th>\n      <th>col_293</th>\n      <th>col_294</th>\n      <th>col_295</th>\n      <th>col_296</th>\n      <th>col_297</th>\n      <th>col_298</th>\n      <th>col_299</th>\n      <th>col_300</th>\n      <th>col_301</th>\n      <th>target</th>\n    </tr>\n  </thead>\n  <tbody>\n    <tr>\n      <th>0</th>\n      <td>1.0</td>\n      <td>0.0</td>\n      <td>0.0</td>\n      <td>0.0</td>\n      <td>0.0</td>\n      <td>0.0</td>\n      <td>0.0</td>\n      <td>0.0</td>\n      <td>0.0</td>\n      <td>0.0</td>\n      <td>0.0</td>\n      <td>0.0</td>\n      <td>0.0</td>\n      <td>0.0</td>\n      <td>0.0</td>\n      <td>0.0</td>\n      <td>0.0</td>\n      <td>0.0</td>\n      <td>0.0</td>\n      <td>0.0</td>\n      <td>0.0</td>\n      <td>0.0</td>\n      <td>0.0</td>\n      <td>0.0</td>\n      <td>0.0</td>\n      <td>0.0</td>\n      <td>0.0</td>\n      <td>0.0</td>\n      <td>0.0</td>\n      <td>0.0</td>\n      <td>0.0</td>\n      <td>0.0</td>\n      <td>0.0</td>\n      <td>0.0</td>\n      <td>0.0</td>\n      <td>0.0</td>\n      <td>0.0</td>\n      <td>0.0</td>\n      <td>0.0</td>\n      <td>0.0</td>\n      <td>0.0</td>\n      <td>0.0</td>\n      <td>0.0</td>\n      <td>0.0</td>\n      <td>0.0</td>\n      <td>0.0</td>\n      <td>0.0</td>\n      <td>0.0</td>\n      <td>0.0</td>\n      <td>0.0</td>\n      <td>...</td>\n      <td>0.0</td>\n      <td>0.0</td>\n      <td>0.0</td>\n      <td>0.171825</td>\n      <td>0.0</td>\n      <td>0.137765</td>\n      <td>0.0</td>\n      <td>0.0</td>\n      <td>0.283609</td>\n      <td>0.0</td>\n      <td>0.220992</td>\n      <td>0.151594</td>\n      <td>0.0</td>\n      <td>0.0</td>\n      <td>0.0</td>\n      <td>0.0</td>\n      <td>0.0</td>\n      <td>0.0</td>\n      <td>0.144907</td>\n      <td>0.0</td>\n      <td>0.0</td>\n      <td>0.158869</td>\n      <td>0.0</td>\n      <td>0.0</td>\n      <td>0.0</td>\n      <td>0.170202</td>\n      <td>0.0</td>\n      <td>0.192465</td>\n      <td>0.190783</td>\n      <td>0.0</td>\n      <td>0.132427</td>\n      <td>0.176639</td>\n      <td>0.151246</td>\n      <td>0.0</td>\n      <td>0.0</td>\n      <td>0.0</td>\n      <td>0.0</td>\n      <td>0.257843</td>\n      <td>0.0</td>\n      <td>0.0</td>\n      <td>0.0</td>\n      <td>0.0</td>\n      <td>0.0</td>\n      <td>0.0</td>\n      <td>0.0</td>\n      <td>0.0</td>\n      <td>-0.452479</td>\n      <td>0.950288</td>\n      <td>-0.829762</td>\n      <td>1</td>\n    </tr>\n  </tbody>\n</table>\n<p>1 rows × 303 columns</p>\n</div>",
       "datasetInfos": [],
       "metadata": {},
       "removedWidgets": [],
       "textData": null,
       "type": "htmlSandbox"
      }
     },
     "output_type": "display_data"
    }
   ],
   "source": [
    "input_df = pd.DataFrame.sparse.from_spmatrix(input_X)\n",
    "\n",
    "input_df.columns = ['col_{}'.format(i) for i in range(input_X.shape[1])]\n",
    "\n",
    "input_df['target']= input_y\n",
    "\n",
    "input_df.head()"
   ]
  },
  {
   "cell_type": "code",
   "execution_count": 0,
   "metadata": {
    "application/vnd.databricks.v1+cell": {
     "cellMetadata": {
      "byteLimit": 2048000,
      "rowLimit": 10000
     },
     "inputWidgets": {},
     "nuid": "8f6c8dd1-17df-4f1e-8108-6669defb7a92",
     "showTitle": false,
     "title": ""
    }
   },
   "outputs": [
    {
     "output_type": "stream",
     "name": "stdout",
     "output_type": "stream",
     "text": [
      "+-----+-----+-----+-----+-----+-----+-----+-----+-----+-----+------+------+------+------+------+------+------+------+------+------+------+------+------+------+------+------+------+------+------+------+------+------+------+------+------+------+------+------+------+------+------+------+------+------+------+------+------+------+------+------+------+------+------+------+------+------+------+------+------+------+------+------+------+------+------+------+------+------+------+------+------+------+------+------+------+------+------+------+------+------+------+------+------+------+------+------+------+------+------+------+------+------+------+------+------+------+------+------+------+------+-------+-------+-------+-------+-------+-------+-------+-------+-------+-------+-------+-------+-------+-------+-------+-------+-------+-------+-------+-------+-------+-------+-------+-------+-------+-------+-------+-------+-------+-------+-------+-------+-------+-------+-------+-------+-------+-------+-------+-------+-------+-------+-------+-------+-------+-------+-------+-------+-------+-------+-------+-------+-------+-------+-------+-------+-------+-------+-------+-------+-------+-------+-------+-------+-------+-------+-------+-------+-------+-------+-------+-------+-------+-------+-------+-------+-------+-------+-------+-------+-------+-------+-------+-------+-------+-------+-------+-------+-------+-------+-------+-------+-------+-------+-------+-------+-------+-------+-------+-------+-------+-------+-------+-------+-------+------------------+-------+-------------------+-------+-------+-------+-------------------+-------+-------+-------+-------------------+-------+-------------------+-------+-------+-------+-------+-------+-------+-------------------+-------+-------+-------+-------+-------+-------+-------+-------------------+------------------+-------------------+-------+-------+-------+-------+-------+-------+-------+-------+------------------+-------+-------------------+-------+-------+-------+-------+------------------+------------------+-------+-------+-------+-------+-------------------+-------+-------------------+-------+-------+------------------+-------+-------------------+------------------+-------+-------+-------+-------+-------+-------+-------------------+-------+-------+-------------------+-------+-------+-------+-------------------+-------+-------------------+-------------------+-------+------------------+-------------------+-----------------+-------+-------+-------+-------+------------------+-------+-------+-------+-------+-------+-------+-------+-------+-------------------+------------------+-------------------+------+\n|col_0|col_1|col_2|col_3|col_4|col_5|col_6|col_7|col_8|col_9|col_10|col_11|col_12|col_13|col_14|col_15|col_16|col_17|col_18|col_19|col_20|col_21|col_22|col_23|col_24|col_25|col_26|col_27|col_28|col_29|col_30|col_31|col_32|col_33|col_34|col_35|col_36|col_37|col_38|col_39|col_40|col_41|col_42|col_43|col_44|col_45|col_46|col_47|col_48|col_49|col_50|col_51|col_52|col_53|col_54|col_55|col_56|col_57|col_58|col_59|col_60|col_61|col_62|col_63|col_64|col_65|col_66|col_67|col_68|col_69|col_70|col_71|col_72|col_73|col_74|col_75|col_76|col_77|col_78|col_79|col_80|col_81|col_82|col_83|col_84|col_85|col_86|col_87|col_88|col_89|col_90|col_91|col_92|col_93|col_94|col_95|col_96|col_97|col_98|col_99|col_100|col_101|col_102|col_103|col_104|col_105|col_106|col_107|col_108|col_109|col_110|col_111|col_112|col_113|col_114|col_115|col_116|col_117|col_118|col_119|col_120|col_121|col_122|col_123|col_124|col_125|col_126|col_127|col_128|col_129|col_130|col_131|col_132|col_133|col_134|col_135|col_136|col_137|col_138|col_139|col_140|col_141|col_142|col_143|col_144|col_145|col_146|col_147|col_148|col_149|col_150|col_151|col_152|col_153|col_154|col_155|col_156|col_157|col_158|col_159|col_160|col_161|col_162|col_163|col_164|col_165|col_166|col_167|col_168|col_169|col_170|col_171|col_172|col_173|col_174|col_175|col_176|col_177|col_178|col_179|col_180|col_181|col_182|col_183|col_184|col_185|col_186|col_187|col_188|col_189|col_190|col_191|col_192|col_193|col_194|col_195|col_196|col_197|col_198|col_199|col_200|col_201|col_202|col_203|col_204|           col_205|col_206|            col_207|col_208|col_209|col_210|            col_211|col_212|col_213|col_214|            col_215|col_216|            col_217|col_218|col_219|col_220|col_221|col_222|col_223|            col_224|col_225|col_226|col_227|col_228|col_229|col_230|col_231|            col_232|           col_233|            col_234|col_235|col_236|col_237|col_238|col_239|col_240|col_241|col_242|           col_243|col_244|            col_245|col_246|col_247|col_248|col_249|           col_250|           col_251|col_252|col_253|col_254|col_255|            col_256|col_257|            col_258|col_259|col_260|           col_261|col_262|            col_263|           col_264|col_265|col_266|col_267|col_268|col_269|col_270|            col_271|col_272|col_273|            col_274|col_275|col_276|col_277|            col_278|col_279|            col_280|            col_281|col_282|           col_283|            col_284|          col_285|col_286|col_287|col_288|col_289|           col_290|col_291|col_292|col_293|col_294|col_295|col_296|col_297|col_298|            col_299|           col_300|            col_301|target|\n+-----+-----+-----+-----+-----+-----+-----+-----+-----+-----+------+------+------+------+------+------+------+------+------+------+------+------+------+------+------+------+------+------+------+------+------+------+------+------+------+------+------+------+------+------+------+------+------+------+------+------+------+------+------+------+------+------+------+------+------+------+------+------+------+------+------+------+------+------+------+------+------+------+------+------+------+------+------+------+------+------+------+------+------+------+------+------+------+------+------+------+------+------+------+------+------+------+------+------+------+------+------+------+------+------+-------+-------+-------+-------+-------+-------+-------+-------+-------+-------+-------+-------+-------+-------+-------+-------+-------+-------+-------+-------+-------+-------+-------+-------+-------+-------+-------+-------+-------+-------+-------+-------+-------+-------+-------+-------+-------+-------+-------+-------+-------+-------+-------+-------+-------+-------+-------+-------+-------+-------+-------+-------+-------+-------+-------+-------+-------+-------+-------+-------+-------+-------+-------+-------+-------+-------+-------+-------+-------+-------+-------+-------+-------+-------+-------+-------+-------+-------+-------+-------+-------+-------+-------+-------+-------+-------+-------+-------+-------+-------+-------+-------+-------+-------+-------+-------+-------+-------+-------+-------+-------+-------+-------+-------+-------+------------------+-------+-------------------+-------+-------+-------+-------------------+-------+-------+-------+-------------------+-------+-------------------+-------+-------+-------+-------+-------+-------+-------------------+-------+-------+-------+-------+-------+-------+-------+-------------------+------------------+-------------------+-------+-------+-------+-------+-------+-------+-------+-------+------------------+-------+-------------------+-------+-------+-------+-------+------------------+------------------+-------+-------+-------+-------+-------------------+-------+-------------------+-------+-------+------------------+-------+-------------------+------------------+-------+-------+-------+-------+-------+-------+-------------------+-------+-------+-------------------+-------+-------+-------+-------------------+-------+-------------------+-------------------+-------+------------------+-------------------+-----------------+-------+-------+-------+-------+------------------+-------+-------+-------+-------+-------+-------+-------+-------+-------------------+------------------+-------------------+------+\n|  1.0|  0.0|  0.0|  0.0|  0.0|  0.0|  0.0|  0.0|  0.0|  0.0|   0.0|   0.0|   0.0|   0.0|   0.0|   0.0|   0.0|   0.0|   0.0|   0.0|   0.0|   0.0|   0.0|   0.0|   0.0|   0.0|   0.0|   0.0|   0.0|   0.0|   0.0|   0.0|   0.0|   0.0|   0.0|   0.0|   0.0|   0.0|   0.0|   0.0|   0.0|   0.0|   0.0|   0.0|   0.0|   0.0|   0.0|   0.0|   0.0|   0.0|   0.0|   0.0|   0.0|   0.0|   0.0|   0.0|   0.0|   0.0|   0.0|   0.0|   0.0|   0.0|   0.0|   0.0|   0.0|   0.0|   0.0|   0.0|   0.0|   0.0|   0.0|   0.0|   0.0|   0.0|   0.0|   0.0|   0.0|   0.0|   0.0|   0.0|   0.0|   0.0|   0.0|   0.0|   0.0|   0.0|   0.0|   0.0|   0.0|   0.0|   0.0|   0.0|   0.0|   0.0|   0.0|   0.0|   0.0|   0.0|   0.0|   0.0|    0.0|    0.0|    0.0|    0.0|    0.0|    0.0|    0.0|    0.0|    0.0|    0.0|    0.0|    0.0|    0.0|    0.0|    0.0|    0.0|    0.0|    0.0|    0.0|    0.0|    0.0|    0.0|    0.0|    0.0|    0.0|    0.0|    0.0|    0.0|    0.0|    0.0|    0.0|    0.0|    0.0|    0.0|    0.0|    0.0|    0.0|    0.0|    0.0|    0.0|    0.0|    0.0|    0.0|    0.0|    0.0|    0.0|    0.0|    0.0|    0.0|    1.0|    0.0|    0.0|    0.0|    0.0|    0.0|    0.0|    0.0|    0.0|    0.0|    0.0|    0.0|    0.0|    0.0|    0.0|    0.0|    0.0|    0.0|    0.0|    0.0|    1.0|    1.0|    0.0|    0.0|    0.0|    0.0|    0.0|    0.0|    0.0|    0.0|    0.0|    0.0|    0.0|    1.0|    0.0|    0.0|    0.0|    1.0|    0.0|    0.0|    1.0|    1.0|    0.0|    0.0|    1.0|    0.0|    0.0|    1.0|    0.0|    0.0|    0.0|    0.0|    0.0|    0.0|    0.0|    0.0|0.1479066698321713|    0.0|0.14190121603222797|    0.0|    0.0|    0.0|0.13944594996798249|    0.0|    0.0|    0.0|0.32658388065734517|    0.0|0.36344974543439384|    0.0|    0.0|    0.0|    0.0|    0.0|    0.0|0.17451245434188148|    0.0|    0.0|    0.0|    0.0|    0.0|    0.0|    0.0|0.13723100321630186|0.1315239445466759|0.15807938231468013|    0.0|    0.0|    0.0|    0.0|    0.0|    0.0|    0.0|    0.0|0.2222896574945158|    0.0|0.16411338759316996|    0.0|    0.0|    0.0|    0.0|0.1462525962887284|0.1515935541017556|    0.0|    0.0|    0.0|    0.0|0.17182477736803126|    0.0|0.13776502923519987|    0.0|    0.0|0.2836093435371882|    0.0|0.22099159568363785|0.1515935541017556|    0.0|    0.0|    0.0|    0.0|    0.0|    0.0|0.14490710928857284|    0.0|    0.0|0.15886943350491084|    0.0|    0.0|    0.0|0.17020231643621125|    0.0|0.19246519270780893|0.19078292304252875|    0.0|0.1324271348504037|0.17663873912979308|0.151246117308006|    0.0|    0.0|    0.0|    0.0|0.2578425424693541|    0.0|    0.0|    0.0|    0.0|    0.0|    0.0|    0.0|    0.0|-0.4524794726808656|0.9502875792756131|-0.8297616989552165|     1|\n+-----+-----+-----+-----+-----+-----+-----+-----+-----+-----+------+------+------+------+------+------+------+------+------+------+------+------+------+------+------+------+------+------+------+------+------+------+------+------+------+------+------+------+------+------+------+------+------+------+------+------+------+------+------+------+------+------+------+------+------+------+------+------+------+------+------+------+------+------+------+------+------+------+------+------+------+------+------+------+------+------+------+------+------+------+------+------+------+------+------+------+------+------+------+------+------+------+------+------+------+------+------+------+------+------+-------+-------+-------+-------+-------+-------+-------+-------+-------+-------+-------+-------+-------+-------+-------+-------+-------+-------+-------+-------+-------+-------+-------+-------+-------+-------+-------+-------+-------+-------+-------+-------+-------+-------+-------+-------+-------+-------+-------+-------+-------+-------+-------+-------+-------+-------+-------+-------+-------+-------+-------+-------+-------+-------+-------+-------+-------+-------+-------+-------+-------+-------+-------+-------+-------+-------+-------+-------+-------+-------+-------+-------+-------+-------+-------+-------+-------+-------+-------+-------+-------+-------+-------+-------+-------+-------+-------+-------+-------+-------+-------+-------+-------+-------+-------+-------+-------+-------+-------+-------+-------+-------+-------+-------+-------+------------------+-------+-------------------+-------+-------+-------+-------------------+-------+-------+-------+-------------------+-------+-------------------+-------+-------+-------+-------+-------+-------+-------------------+-------+-------+-------+-------+-------+-------+-------+-------------------+------------------+-------------------+-------+-------+-------+-------+-------+-------+-------+-------+------------------+-------+-------------------+-------+-------+-------+-------+------------------+------------------+-------+-------+-------+-------+-------------------+-------+-------------------+-------+-------+------------------+-------+-------------------+------------------+-------+-------+-------+-------+-------+-------+-------------------+-------+-------+-------------------+-------+-------+-------+-------------------+-------+-------------------+-------------------+-------+------------------+-------------------+-----------------+-------+-------+-------+-------+------------------+-------+-------+-------+-------+-------+-------+-------+-------+-------------------+------------------+-------------------+------+\n\n"
     ]
    }
   ],
   "source": [
    "input_spark_df = spark.createDataFrame(input_df)\n",
    "input_spark_df.show(2)"
   ]
  },
  {
   "cell_type": "code",
   "execution_count": 0,
   "metadata": {
    "application/vnd.databricks.v1+cell": {
     "cellMetadata": {
      "byteLimit": 2048000,
      "rowLimit": 10000
     },
     "inputWidgets": {},
     "nuid": "a7a0014c-3e8b-4eef-820e-7e12cdc91e49",
     "showTitle": false,
     "title": ""
    }
   },
   "outputs": [
    {
     "output_type": "stream",
     "name": "stdout",
     "output_type": "stream",
     "text": [
      "+------+------+\n|target|result|\n+------+------+\n|     1|   [1]|\n+------+------+\n\n"
     ]
    }
   ],
   "source": [
    "clf_model.transform(input_spark_df).select('target','prediction.result').show()"
   ]
  },
  {
   "cell_type": "markdown",
   "metadata": {
    "application/vnd.databricks.v1+cell": {
     "cellMetadata": {
      "byteLimit": 2048000,
      "rowLimit": 10000
     },
     "inputWidgets": {},
     "nuid": "900cd3de-5f8f-4c0c-a93f-2b9b13f9680f",
     "showTitle": false,
     "title": ""
    },
    "id": "_Tgo746qI3r0"
   },
   "source": [
    "# Case Study: Alexa Review Classification"
   ]
  },
  {
   "cell_type": "code",
   "execution_count": 0,
   "metadata": {
    "application/vnd.databricks.v1+cell": {
     "cellMetadata": {
      "byteLimit": 2048000,
      "rowLimit": 10000
     },
     "inputWidgets": {},
     "nuid": "d999214b-2e14-4521-a39e-2276e2d84f5b",
     "showTitle": false,
     "title": ""
    },
    "id": "cx_hs3OdI3r0",
    "outputId": "5569ab92-4419-49d0-977f-b256fc9fdee0"
   },
   "outputs": [],
   "source": [
    "! wget -q https://raw.githubusercontent.com/JohnSnowLabs/spark-nlp-workshop/master/tutorials/Certification_Trainings/Public/data/amazon_alexa.tsv -P /dbfs/"
   ]
  },
  {
   "cell_type": "code",
   "execution_count": 0,
   "metadata": {
    "application/vnd.databricks.v1+cell": {
     "cellMetadata": {
      "byteLimit": 2048000,
      "rowLimit": 10000
     },
     "inputWidgets": {},
     "nuid": "2b980d10-4e25-4538-b2f3-66b6ee8d4598",
     "showTitle": false,
     "title": ""
    },
    "id": "ImoUa6FoI3r1",
    "outputId": "e303e254-81c1-4da3-83d8-44194f7331bb"
   },
   "outputs": [
    {
     "output_type": "display_data",
     "data": {
      "text/html": [
       "<div>\n",
       "<style scoped>\n",
       "    .dataframe tbody tr th:only-of-type {\n",
       "        vertical-align: middle;\n",
       "    }\n",
       "\n",
       "    .dataframe tbody tr th {\n",
       "        vertical-align: top;\n",
       "    }\n",
       "\n",
       "    .dataframe thead th {\n",
       "        text-align: right;\n",
       "    }\n",
       "</style>\n",
       "<table border=\"1\" class=\"dataframe\">\n",
       "  <thead>\n",
       "    <tr style=\"text-align: right;\">\n",
       "      <th></th>\n",
       "      <th>rating</th>\n",
       "      <th>date</th>\n",
       "      <th>variation</th>\n",
       "      <th>verified_reviews</th>\n",
       "      <th>feedback</th>\n",
       "    </tr>\n",
       "  </thead>\n",
       "  <tbody>\n",
       "    <tr>\n",
       "      <th>0</th>\n",
       "      <td>5</td>\n",
       "      <td>31-Jul-18</td>\n",
       "      <td>Charcoal Fabric</td>\n",
       "      <td>Love my Echo!</td>\n",
       "      <td>1</td>\n",
       "    </tr>\n",
       "    <tr>\n",
       "      <th>1</th>\n",
       "      <td>5</td>\n",
       "      <td>31-Jul-18</td>\n",
       "      <td>Charcoal Fabric</td>\n",
       "      <td>Loved it!</td>\n",
       "      <td>1</td>\n",
       "    </tr>\n",
       "    <tr>\n",
       "      <th>2</th>\n",
       "      <td>4</td>\n",
       "      <td>31-Jul-18</td>\n",
       "      <td>Walnut Finish</td>\n",
       "      <td>Sometimes while playing a game, you can answer a question correctly but Alexa says you got it wr...</td>\n",
       "      <td>1</td>\n",
       "    </tr>\n",
       "    <tr>\n",
       "      <th>3</th>\n",
       "      <td>5</td>\n",
       "      <td>31-Jul-18</td>\n",
       "      <td>Charcoal Fabric</td>\n",
       "      <td>I have had a lot of fun with this thing. My 4 yr old learns about dinosaurs, i control the light...</td>\n",
       "      <td>1</td>\n",
       "    </tr>\n",
       "    <tr>\n",
       "      <th>4</th>\n",
       "      <td>5</td>\n",
       "      <td>31-Jul-18</td>\n",
       "      <td>Charcoal Fabric</td>\n",
       "      <td>Music</td>\n",
       "      <td>1</td>\n",
       "    </tr>\n",
       "    <tr>\n",
       "      <th>...</th>\n",
       "      <td>...</td>\n",
       "      <td>...</td>\n",
       "      <td>...</td>\n",
       "      <td>...</td>\n",
       "      <td>...</td>\n",
       "    </tr>\n",
       "    <tr>\n",
       "      <th>3145</th>\n",
       "      <td>5</td>\n",
       "      <td>30-Jul-18</td>\n",
       "      <td>Black  Dot</td>\n",
       "      <td>Perfect for kids, adults and everyone in between!!</td>\n",
       "      <td>1</td>\n",
       "    </tr>\n",
       "    <tr>\n",
       "      <th>3146</th>\n",
       "      <td>5</td>\n",
       "      <td>30-Jul-18</td>\n",
       "      <td>Black  Dot</td>\n",
       "      <td>Listening to music, searching locations, checking time, looking up weather. There are many more ...</td>\n",
       "      <td>1</td>\n",
       "    </tr>\n",
       "    <tr>\n",
       "      <th>3147</th>\n",
       "      <td>5</td>\n",
       "      <td>30-Jul-18</td>\n",
       "      <td>Black  Dot</td>\n",
       "      <td>I do love these things, i have them running my entire home, TV, all my lights, my thermostat, my...</td>\n",
       "      <td>1</td>\n",
       "    </tr>\n",
       "    <tr>\n",
       "      <th>3148</th>\n",
       "      <td>5</td>\n",
       "      <td>30-Jul-18</td>\n",
       "      <td>White  Dot</td>\n",
       "      <td>Only complaint I have is that the sound quality isn't great. I mostly use it for commands though...</td>\n",
       "      <td>1</td>\n",
       "    </tr>\n",
       "    <tr>\n",
       "      <th>3149</th>\n",
       "      <td>4</td>\n",
       "      <td>29-Jul-18</td>\n",
       "      <td>Black  Dot</td>\n",
       "      <td>Good</td>\n",
       "      <td>1</td>\n",
       "    </tr>\n",
       "  </tbody>\n",
       "</table>\n",
       "<p>3150 rows × 5 columns</p>\n",
       "</div>"
      ]
     },
     "metadata": {
      "application/vnd.databricks.v1+output": {
       "addedWidgets": {},
       "arguments": {},
       "data": "<div>\n<style scoped>\n    .dataframe tbody tr th:only-of-type {\n        vertical-align: middle;\n    }\n\n    .dataframe tbody tr th {\n        vertical-align: top;\n    }\n\n    .dataframe thead th {\n        text-align: right;\n    }\n</style>\n<table border=\"1\" class=\"dataframe\">\n  <thead>\n    <tr style=\"text-align: right;\">\n      <th></th>\n      <th>rating</th>\n      <th>date</th>\n      <th>variation</th>\n      <th>verified_reviews</th>\n      <th>feedback</th>\n    </tr>\n  </thead>\n  <tbody>\n    <tr>\n      <th>0</th>\n      <td>5</td>\n      <td>31-Jul-18</td>\n      <td>Charcoal Fabric</td>\n      <td>Love my Echo!</td>\n      <td>1</td>\n    </tr>\n    <tr>\n      <th>1</th>\n      <td>5</td>\n      <td>31-Jul-18</td>\n      <td>Charcoal Fabric</td>\n      <td>Loved it!</td>\n      <td>1</td>\n    </tr>\n    <tr>\n      <th>2</th>\n      <td>4</td>\n      <td>31-Jul-18</td>\n      <td>Walnut Finish</td>\n      <td>Sometimes while playing a game, you can answer a question correctly but Alexa says you got it wr...</td>\n      <td>1</td>\n    </tr>\n    <tr>\n      <th>3</th>\n      <td>5</td>\n      <td>31-Jul-18</td>\n      <td>Charcoal Fabric</td>\n      <td>I have had a lot of fun with this thing. My 4 yr old learns about dinosaurs, i control the light...</td>\n      <td>1</td>\n    </tr>\n    <tr>\n      <th>4</th>\n      <td>5</td>\n      <td>31-Jul-18</td>\n      <td>Charcoal Fabric</td>\n      <td>Music</td>\n      <td>1</td>\n    </tr>\n    <tr>\n      <th>...</th>\n      <td>...</td>\n      <td>...</td>\n      <td>...</td>\n      <td>...</td>\n      <td>...</td>\n    </tr>\n    <tr>\n      <th>3145</th>\n      <td>5</td>\n      <td>30-Jul-18</td>\n      <td>Black  Dot</td>\n      <td>Perfect for kids, adults and everyone in between!!</td>\n      <td>1</td>\n    </tr>\n    <tr>\n      <th>3146</th>\n      <td>5</td>\n      <td>30-Jul-18</td>\n      <td>Black  Dot</td>\n      <td>Listening to music, searching locations, checking time, looking up weather. There are many more ...</td>\n      <td>1</td>\n    </tr>\n    <tr>\n      <th>3147</th>\n      <td>5</td>\n      <td>30-Jul-18</td>\n      <td>Black  Dot</td>\n      <td>I do love these things, i have them running my entire home, TV, all my lights, my thermostat, my...</td>\n      <td>1</td>\n    </tr>\n    <tr>\n      <th>3148</th>\n      <td>5</td>\n      <td>30-Jul-18</td>\n      <td>White  Dot</td>\n      <td>Only complaint I have is that the sound quality isn't great. I mostly use it for commands though...</td>\n      <td>1</td>\n    </tr>\n    <tr>\n      <th>3149</th>\n      <td>4</td>\n      <td>29-Jul-18</td>\n      <td>Black  Dot</td>\n      <td>Good</td>\n      <td>1</td>\n    </tr>\n  </tbody>\n</table>\n<p>3150 rows × 5 columns</p>\n</div>",
       "datasetInfos": [],
       "metadata": {},
       "removedWidgets": [],
       "textData": null,
       "type": "htmlSandbox"
      }
     },
     "output_type": "display_data"
    }
   ],
   "source": [
    "import pandas as pd\n",
    "df = pd.read_csv('/dbfs/amazon_alexa.tsv', sep='\\t')\n",
    "df"
   ]
  },
  {
   "cell_type": "code",
   "execution_count": 0,
   "metadata": {
    "application/vnd.databricks.v1+cell": {
     "cellMetadata": {
      "byteLimit": 2048000,
      "rowLimit": 10000
     },
     "inputWidgets": {},
     "nuid": "6a86afcb-dab8-4b11-b998-60ac8a704a2a",
     "showTitle": false,
     "title": ""
    },
    "id": "rm1eLJV3I3r1",
    "outputId": "4858d14e-1e58-47ef-bcf1-15b4a85114c0"
   },
   "outputs": [],
   "source": [
    "df.verified_reviews = df.verified_reviews.str.lower()"
   ]
  },
  {
   "cell_type": "code",
   "execution_count": 0,
   "metadata": {
    "application/vnd.databricks.v1+cell": {
     "cellMetadata": {
      "byteLimit": 2048000,
      "rowLimit": 10000
     },
     "inputWidgets": {},
     "nuid": "93570891-5f04-4bfa-bc8e-1c13345760ef",
     "showTitle": false,
     "title": ""
    },
    "id": "II1HfCMoI3r2",
    "outputId": "2d0a43f1-939f-4a52-a164-5a1a944674f1"
   },
   "outputs": [
    {
     "output_type": "stream",
     "name": "stdout",
     "output_type": "stream",
     "text": [
      "Out[47]: 1    2893\n0     257\nName: feedback, dtype: int64"
     ]
    }
   ],
   "source": [
    "df.feedback.value_counts()"
   ]
  },
  {
   "cell_type": "code",
   "execution_count": 0,
   "metadata": {
    "application/vnd.databricks.v1+cell": {
     "cellMetadata": {
      "byteLimit": 2048000,
      "rowLimit": 10000
     },
     "inputWidgets": {},
     "nuid": "e5744ec9-86e4-4293-ae11-84de563ad925",
     "showTitle": false,
     "title": ""
    },
    "id": "gfMH_ZbII3r3",
    "outputId": "8c0496c4-4d2d-4566-bc66-67f84fb8c39b"
   },
   "outputs": [],
   "source": [
    "from sklearn.compose import make_column_transformer\n",
    "from sklearn.compose import ColumnTransformer\n",
    "from sklearn.feature_extraction.text import CountVectorizer, TfidfVectorizer\n",
    "from sklearn.preprocessing import OneHotEncoder, StandardScaler\n",
    "from sklearn.linear_model import LogisticRegression\n",
    "from sklearn.model_selection import train_test_split\n",
    "\n",
    "column_trans = make_column_transformer(\n",
    "     (TfidfVectorizer(max_features=1000,  norm='l2', ngram_range=(1, 3)), 'verified_reviews'))\n",
    "\n",
    "X = column_trans.fit_transform(df.drop(['feedback'], axis=1))\n",
    "\n",
    "y = df.feedback"
   ]
  },
  {
   "cell_type": "code",
   "execution_count": 0,
   "metadata": {
    "application/vnd.databricks.v1+cell": {
     "cellMetadata": {
      "byteLimit": 2048000,
      "rowLimit": 10000
     },
     "inputWidgets": {},
     "nuid": "2de95387-38ed-427c-9a91-2dacbc970a48",
     "showTitle": false,
     "title": ""
    },
    "id": "TcswqkkMI3r3",
    "outputId": "101c9ae1-d0b6-4879-b6f3-01cc6e6f7c57"
   },
   "outputs": [
    {
     "output_type": "display_data",
     "data": {
      "text/html": [
       "<div>\n",
       "<style scoped>\n",
       "    .dataframe tbody tr th:only-of-type {\n",
       "        vertical-align: middle;\n",
       "    }\n",
       "\n",
       "    .dataframe tbody tr th {\n",
       "        vertical-align: top;\n",
       "    }\n",
       "\n",
       "    .dataframe thead th {\n",
       "        text-align: right;\n",
       "    }\n",
       "</style>\n",
       "<table border=\"1\" class=\"dataframe\">\n",
       "  <thead>\n",
       "    <tr style=\"text-align: right;\">\n",
       "      <th></th>\n",
       "      <th>col_0</th>\n",
       "      <th>col_1</th>\n",
       "      <th>col_2</th>\n",
       "      <th>col_3</th>\n",
       "      <th>col_4</th>\n",
       "      <th>col_5</th>\n",
       "      <th>col_6</th>\n",
       "      <th>col_7</th>\n",
       "      <th>col_8</th>\n",
       "      <th>col_9</th>\n",
       "      <th>col_10</th>\n",
       "      <th>col_11</th>\n",
       "      <th>col_12</th>\n",
       "      <th>col_13</th>\n",
       "      <th>col_14</th>\n",
       "      <th>col_15</th>\n",
       "      <th>col_16</th>\n",
       "      <th>col_17</th>\n",
       "      <th>col_18</th>\n",
       "      <th>col_19</th>\n",
       "      <th>col_20</th>\n",
       "      <th>col_21</th>\n",
       "      <th>col_22</th>\n",
       "      <th>col_23</th>\n",
       "      <th>col_24</th>\n",
       "      <th>col_25</th>\n",
       "      <th>col_26</th>\n",
       "      <th>col_27</th>\n",
       "      <th>col_28</th>\n",
       "      <th>col_29</th>\n",
       "      <th>col_30</th>\n",
       "      <th>col_31</th>\n",
       "      <th>col_32</th>\n",
       "      <th>col_33</th>\n",
       "      <th>col_34</th>\n",
       "      <th>col_35</th>\n",
       "      <th>col_36</th>\n",
       "      <th>col_37</th>\n",
       "      <th>col_38</th>\n",
       "      <th>col_39</th>\n",
       "      <th>col_40</th>\n",
       "      <th>col_41</th>\n",
       "      <th>col_42</th>\n",
       "      <th>col_43</th>\n",
       "      <th>col_44</th>\n",
       "      <th>col_45</th>\n",
       "      <th>col_46</th>\n",
       "      <th>col_47</th>\n",
       "      <th>col_48</th>\n",
       "      <th>col_49</th>\n",
       "      <th>...</th>\n",
       "      <th>col_951</th>\n",
       "      <th>col_952</th>\n",
       "      <th>col_953</th>\n",
       "      <th>col_954</th>\n",
       "      <th>col_955</th>\n",
       "      <th>col_956</th>\n",
       "      <th>col_957</th>\n",
       "      <th>col_958</th>\n",
       "      <th>col_959</th>\n",
       "      <th>col_960</th>\n",
       "      <th>col_961</th>\n",
       "      <th>col_962</th>\n",
       "      <th>col_963</th>\n",
       "      <th>col_964</th>\n",
       "      <th>col_965</th>\n",
       "      <th>col_966</th>\n",
       "      <th>col_967</th>\n",
       "      <th>col_968</th>\n",
       "      <th>col_969</th>\n",
       "      <th>col_970</th>\n",
       "      <th>col_971</th>\n",
       "      <th>col_972</th>\n",
       "      <th>col_973</th>\n",
       "      <th>col_974</th>\n",
       "      <th>col_975</th>\n",
       "      <th>col_976</th>\n",
       "      <th>col_977</th>\n",
       "      <th>col_978</th>\n",
       "      <th>col_979</th>\n",
       "      <th>col_980</th>\n",
       "      <th>col_981</th>\n",
       "      <th>col_982</th>\n",
       "      <th>col_983</th>\n",
       "      <th>col_984</th>\n",
       "      <th>col_985</th>\n",
       "      <th>col_986</th>\n",
       "      <th>col_987</th>\n",
       "      <th>col_988</th>\n",
       "      <th>col_989</th>\n",
       "      <th>col_990</th>\n",
       "      <th>col_991</th>\n",
       "      <th>col_992</th>\n",
       "      <th>col_993</th>\n",
       "      <th>col_994</th>\n",
       "      <th>col_995</th>\n",
       "      <th>col_996</th>\n",
       "      <th>col_997</th>\n",
       "      <th>col_998</th>\n",
       "      <th>col_999</th>\n",
       "      <th>feedback</th>\n",
       "    </tr>\n",
       "  </thead>\n",
       "  <tbody>\n",
       "    <tr>\n",
       "      <th>0</th>\n",
       "      <td>0.0</td>\n",
       "      <td>0.0</td>\n",
       "      <td>0.0</td>\n",
       "      <td>0.0</td>\n",
       "      <td>0.0</td>\n",
       "      <td>0.0</td>\n",
       "      <td>0.0</td>\n",
       "      <td>0.000000</td>\n",
       "      <td>0.000000</td>\n",
       "      <td>0.00000</td>\n",
       "      <td>0.0</td>\n",
       "      <td>0.0</td>\n",
       "      <td>0.0</td>\n",
       "      <td>0.0</td>\n",
       "      <td>0.0</td>\n",
       "      <td>0.0</td>\n",
       "      <td>0.0</td>\n",
       "      <td>0.0</td>\n",
       "      <td>0.0</td>\n",
       "      <td>0.0</td>\n",
       "      <td>0.0</td>\n",
       "      <td>0.0</td>\n",
       "      <td>0.0</td>\n",
       "      <td>0.0</td>\n",
       "      <td>0.0</td>\n",
       "      <td>0.0</td>\n",
       "      <td>0.0</td>\n",
       "      <td>0.0</td>\n",
       "      <td>0.0</td>\n",
       "      <td>0.000000</td>\n",
       "      <td>0.0</td>\n",
       "      <td>0.0</td>\n",
       "      <td>0.0</td>\n",
       "      <td>0.0</td>\n",
       "      <td>0.0</td>\n",
       "      <td>0.0</td>\n",
       "      <td>0.0</td>\n",
       "      <td>0.0</td>\n",
       "      <td>0.0</td>\n",
       "      <td>0.0</td>\n",
       "      <td>0.0</td>\n",
       "      <td>0.0</td>\n",
       "      <td>0.0</td>\n",
       "      <td>0.0</td>\n",
       "      <td>0.0</td>\n",
       "      <td>0.0</td>\n",
       "      <td>0.0</td>\n",
       "      <td>0.0</td>\n",
       "      <td>0.0</td>\n",
       "      <td>0.0</td>\n",
       "      <td>...</td>\n",
       "      <td>0.0</td>\n",
       "      <td>0.0</td>\n",
       "      <td>0.000000</td>\n",
       "      <td>0.0</td>\n",
       "      <td>0.0</td>\n",
       "      <td>0.0</td>\n",
       "      <td>0.0</td>\n",
       "      <td>0.0</td>\n",
       "      <td>0.0</td>\n",
       "      <td>0.0</td>\n",
       "      <td>0.0</td>\n",
       "      <td>0.0</td>\n",
       "      <td>0.0</td>\n",
       "      <td>0.000000</td>\n",
       "      <td>0.0</td>\n",
       "      <td>0.0</td>\n",
       "      <td>0.0</td>\n",
       "      <td>0.0</td>\n",
       "      <td>0.0</td>\n",
       "      <td>0.000000</td>\n",
       "      <td>0.0</td>\n",
       "      <td>0.0</td>\n",
       "      <td>0.0</td>\n",
       "      <td>0.0</td>\n",
       "      <td>0.0</td>\n",
       "      <td>0.0</td>\n",
       "      <td>0.0</td>\n",
       "      <td>0.0</td>\n",
       "      <td>0.0</td>\n",
       "      <td>0.0</td>\n",
       "      <td>0.0</td>\n",
       "      <td>0.0</td>\n",
       "      <td>0.0</td>\n",
       "      <td>0.0</td>\n",
       "      <td>0.0</td>\n",
       "      <td>0.0</td>\n",
       "      <td>0.0</td>\n",
       "      <td>0.0</td>\n",
       "      <td>0.0</td>\n",
       "      <td>0.0</td>\n",
       "      <td>0.0</td>\n",
       "      <td>0.000000</td>\n",
       "      <td>0.0</td>\n",
       "      <td>0.000000</td>\n",
       "      <td>0.0</td>\n",
       "      <td>0.0</td>\n",
       "      <td>0.0</td>\n",
       "      <td>0.0</td>\n",
       "      <td>0.0</td>\n",
       "      <td>1</td>\n",
       "    </tr>\n",
       "    <tr>\n",
       "      <th>1</th>\n",
       "      <td>0.0</td>\n",
       "      <td>0.0</td>\n",
       "      <td>0.0</td>\n",
       "      <td>0.0</td>\n",
       "      <td>0.0</td>\n",
       "      <td>0.0</td>\n",
       "      <td>0.0</td>\n",
       "      <td>0.000000</td>\n",
       "      <td>0.000000</td>\n",
       "      <td>0.00000</td>\n",
       "      <td>0.0</td>\n",
       "      <td>0.0</td>\n",
       "      <td>0.0</td>\n",
       "      <td>0.0</td>\n",
       "      <td>0.0</td>\n",
       "      <td>0.0</td>\n",
       "      <td>0.0</td>\n",
       "      <td>0.0</td>\n",
       "      <td>0.0</td>\n",
       "      <td>0.0</td>\n",
       "      <td>0.0</td>\n",
       "      <td>0.0</td>\n",
       "      <td>0.0</td>\n",
       "      <td>0.0</td>\n",
       "      <td>0.0</td>\n",
       "      <td>0.0</td>\n",
       "      <td>0.0</td>\n",
       "      <td>0.0</td>\n",
       "      <td>0.0</td>\n",
       "      <td>0.000000</td>\n",
       "      <td>0.0</td>\n",
       "      <td>0.0</td>\n",
       "      <td>0.0</td>\n",
       "      <td>0.0</td>\n",
       "      <td>0.0</td>\n",
       "      <td>0.0</td>\n",
       "      <td>0.0</td>\n",
       "      <td>0.0</td>\n",
       "      <td>0.0</td>\n",
       "      <td>0.0</td>\n",
       "      <td>0.0</td>\n",
       "      <td>0.0</td>\n",
       "      <td>0.0</td>\n",
       "      <td>0.0</td>\n",
       "      <td>0.0</td>\n",
       "      <td>0.0</td>\n",
       "      <td>0.0</td>\n",
       "      <td>0.0</td>\n",
       "      <td>0.0</td>\n",
       "      <td>0.0</td>\n",
       "      <td>...</td>\n",
       "      <td>0.0</td>\n",
       "      <td>0.0</td>\n",
       "      <td>0.000000</td>\n",
       "      <td>0.0</td>\n",
       "      <td>0.0</td>\n",
       "      <td>0.0</td>\n",
       "      <td>0.0</td>\n",
       "      <td>0.0</td>\n",
       "      <td>0.0</td>\n",
       "      <td>0.0</td>\n",
       "      <td>0.0</td>\n",
       "      <td>0.0</td>\n",
       "      <td>0.0</td>\n",
       "      <td>0.000000</td>\n",
       "      <td>0.0</td>\n",
       "      <td>0.0</td>\n",
       "      <td>0.0</td>\n",
       "      <td>0.0</td>\n",
       "      <td>0.0</td>\n",
       "      <td>0.000000</td>\n",
       "      <td>0.0</td>\n",
       "      <td>0.0</td>\n",
       "      <td>0.0</td>\n",
       "      <td>0.0</td>\n",
       "      <td>0.0</td>\n",
       "      <td>0.0</td>\n",
       "      <td>0.0</td>\n",
       "      <td>0.0</td>\n",
       "      <td>0.0</td>\n",
       "      <td>0.0</td>\n",
       "      <td>0.0</td>\n",
       "      <td>0.0</td>\n",
       "      <td>0.0</td>\n",
       "      <td>0.0</td>\n",
       "      <td>0.0</td>\n",
       "      <td>0.0</td>\n",
       "      <td>0.0</td>\n",
       "      <td>0.0</td>\n",
       "      <td>0.0</td>\n",
       "      <td>0.0</td>\n",
       "      <td>0.0</td>\n",
       "      <td>0.000000</td>\n",
       "      <td>0.0</td>\n",
       "      <td>0.000000</td>\n",
       "      <td>0.0</td>\n",
       "      <td>0.0</td>\n",
       "      <td>0.0</td>\n",
       "      <td>0.0</td>\n",
       "      <td>0.0</td>\n",
       "      <td>1</td>\n",
       "    </tr>\n",
       "    <tr>\n",
       "      <th>2</th>\n",
       "      <td>0.0</td>\n",
       "      <td>0.0</td>\n",
       "      <td>0.0</td>\n",
       "      <td>0.0</td>\n",
       "      <td>0.0</td>\n",
       "      <td>0.0</td>\n",
       "      <td>0.0</td>\n",
       "      <td>0.145963</td>\n",
       "      <td>0.146283</td>\n",
       "      <td>0.00000</td>\n",
       "      <td>0.0</td>\n",
       "      <td>0.0</td>\n",
       "      <td>0.0</td>\n",
       "      <td>0.0</td>\n",
       "      <td>0.0</td>\n",
       "      <td>0.0</td>\n",
       "      <td>0.0</td>\n",
       "      <td>0.0</td>\n",
       "      <td>0.0</td>\n",
       "      <td>0.0</td>\n",
       "      <td>0.0</td>\n",
       "      <td>0.0</td>\n",
       "      <td>0.0</td>\n",
       "      <td>0.0</td>\n",
       "      <td>0.0</td>\n",
       "      <td>0.0</td>\n",
       "      <td>0.0</td>\n",
       "      <td>0.0</td>\n",
       "      <td>0.0</td>\n",
       "      <td>0.094944</td>\n",
       "      <td>0.0</td>\n",
       "      <td>0.0</td>\n",
       "      <td>0.0</td>\n",
       "      <td>0.0</td>\n",
       "      <td>0.0</td>\n",
       "      <td>0.0</td>\n",
       "      <td>0.0</td>\n",
       "      <td>0.0</td>\n",
       "      <td>0.0</td>\n",
       "      <td>0.0</td>\n",
       "      <td>0.0</td>\n",
       "      <td>0.0</td>\n",
       "      <td>0.0</td>\n",
       "      <td>0.0</td>\n",
       "      <td>0.0</td>\n",
       "      <td>0.0</td>\n",
       "      <td>0.0</td>\n",
       "      <td>0.0</td>\n",
       "      <td>0.0</td>\n",
       "      <td>0.0</td>\n",
       "      <td>...</td>\n",
       "      <td>0.0</td>\n",
       "      <td>0.0</td>\n",
       "      <td>0.327234</td>\n",
       "      <td>0.0</td>\n",
       "      <td>0.0</td>\n",
       "      <td>0.0</td>\n",
       "      <td>0.0</td>\n",
       "      <td>0.0</td>\n",
       "      <td>0.0</td>\n",
       "      <td>0.0</td>\n",
       "      <td>0.0</td>\n",
       "      <td>0.0</td>\n",
       "      <td>0.0</td>\n",
       "      <td>0.000000</td>\n",
       "      <td>0.0</td>\n",
       "      <td>0.0</td>\n",
       "      <td>0.0</td>\n",
       "      <td>0.0</td>\n",
       "      <td>0.0</td>\n",
       "      <td>0.000000</td>\n",
       "      <td>0.0</td>\n",
       "      <td>0.0</td>\n",
       "      <td>0.0</td>\n",
       "      <td>0.0</td>\n",
       "      <td>0.0</td>\n",
       "      <td>0.0</td>\n",
       "      <td>0.0</td>\n",
       "      <td>0.0</td>\n",
       "      <td>0.0</td>\n",
       "      <td>0.0</td>\n",
       "      <td>0.0</td>\n",
       "      <td>0.0</td>\n",
       "      <td>0.0</td>\n",
       "      <td>0.0</td>\n",
       "      <td>0.0</td>\n",
       "      <td>0.0</td>\n",
       "      <td>0.0</td>\n",
       "      <td>0.0</td>\n",
       "      <td>0.0</td>\n",
       "      <td>0.0</td>\n",
       "      <td>0.0</td>\n",
       "      <td>0.324472</td>\n",
       "      <td>0.0</td>\n",
       "      <td>0.149662</td>\n",
       "      <td>0.0</td>\n",
       "      <td>0.0</td>\n",
       "      <td>0.0</td>\n",
       "      <td>0.0</td>\n",
       "      <td>0.0</td>\n",
       "      <td>1</td>\n",
       "    </tr>\n",
       "    <tr>\n",
       "      <th>3</th>\n",
       "      <td>0.0</td>\n",
       "      <td>0.0</td>\n",
       "      <td>0.0</td>\n",
       "      <td>0.0</td>\n",
       "      <td>0.0</td>\n",
       "      <td>0.0</td>\n",
       "      <td>0.0</td>\n",
       "      <td>0.000000</td>\n",
       "      <td>0.000000</td>\n",
       "      <td>0.16371</td>\n",
       "      <td>0.0</td>\n",
       "      <td>0.0</td>\n",
       "      <td>0.0</td>\n",
       "      <td>0.0</td>\n",
       "      <td>0.0</td>\n",
       "      <td>0.0</td>\n",
       "      <td>0.0</td>\n",
       "      <td>0.0</td>\n",
       "      <td>0.0</td>\n",
       "      <td>0.0</td>\n",
       "      <td>0.0</td>\n",
       "      <td>0.0</td>\n",
       "      <td>0.0</td>\n",
       "      <td>0.0</td>\n",
       "      <td>0.0</td>\n",
       "      <td>0.0</td>\n",
       "      <td>0.0</td>\n",
       "      <td>0.0</td>\n",
       "      <td>0.0</td>\n",
       "      <td>0.000000</td>\n",
       "      <td>0.0</td>\n",
       "      <td>0.0</td>\n",
       "      <td>0.0</td>\n",
       "      <td>0.0</td>\n",
       "      <td>0.0</td>\n",
       "      <td>0.0</td>\n",
       "      <td>0.0</td>\n",
       "      <td>0.0</td>\n",
       "      <td>0.0</td>\n",
       "      <td>0.0</td>\n",
       "      <td>0.0</td>\n",
       "      <td>0.0</td>\n",
       "      <td>0.0</td>\n",
       "      <td>0.0</td>\n",
       "      <td>0.0</td>\n",
       "      <td>0.0</td>\n",
       "      <td>0.0</td>\n",
       "      <td>0.0</td>\n",
       "      <td>0.0</td>\n",
       "      <td>0.0</td>\n",
       "      <td>...</td>\n",
       "      <td>0.0</td>\n",
       "      <td>0.0</td>\n",
       "      <td>0.000000</td>\n",
       "      <td>0.0</td>\n",
       "      <td>0.0</td>\n",
       "      <td>0.0</td>\n",
       "      <td>0.0</td>\n",
       "      <td>0.0</td>\n",
       "      <td>0.0</td>\n",
       "      <td>0.0</td>\n",
       "      <td>0.0</td>\n",
       "      <td>0.0</td>\n",
       "      <td>0.0</td>\n",
       "      <td>0.104466</td>\n",
       "      <td>0.0</td>\n",
       "      <td>0.0</td>\n",
       "      <td>0.0</td>\n",
       "      <td>0.0</td>\n",
       "      <td>0.0</td>\n",
       "      <td>0.210616</td>\n",
       "      <td>0.0</td>\n",
       "      <td>0.0</td>\n",
       "      <td>0.0</td>\n",
       "      <td>0.0</td>\n",
       "      <td>0.0</td>\n",
       "      <td>0.0</td>\n",
       "      <td>0.0</td>\n",
       "      <td>0.0</td>\n",
       "      <td>0.0</td>\n",
       "      <td>0.0</td>\n",
       "      <td>0.0</td>\n",
       "      <td>0.0</td>\n",
       "      <td>0.0</td>\n",
       "      <td>0.0</td>\n",
       "      <td>0.0</td>\n",
       "      <td>0.0</td>\n",
       "      <td>0.0</td>\n",
       "      <td>0.0</td>\n",
       "      <td>0.0</td>\n",
       "      <td>0.0</td>\n",
       "      <td>0.0</td>\n",
       "      <td>0.000000</td>\n",
       "      <td>0.0</td>\n",
       "      <td>0.000000</td>\n",
       "      <td>0.0</td>\n",
       "      <td>0.0</td>\n",
       "      <td>0.0</td>\n",
       "      <td>0.0</td>\n",
       "      <td>0.0</td>\n",
       "      <td>1</td>\n",
       "    </tr>\n",
       "    <tr>\n",
       "      <th>4</th>\n",
       "      <td>0.0</td>\n",
       "      <td>0.0</td>\n",
       "      <td>0.0</td>\n",
       "      <td>0.0</td>\n",
       "      <td>0.0</td>\n",
       "      <td>0.0</td>\n",
       "      <td>0.0</td>\n",
       "      <td>0.000000</td>\n",
       "      <td>0.000000</td>\n",
       "      <td>0.00000</td>\n",
       "      <td>0.0</td>\n",
       "      <td>0.0</td>\n",
       "      <td>0.0</td>\n",
       "      <td>0.0</td>\n",
       "      <td>0.0</td>\n",
       "      <td>0.0</td>\n",
       "      <td>0.0</td>\n",
       "      <td>0.0</td>\n",
       "      <td>0.0</td>\n",
       "      <td>0.0</td>\n",
       "      <td>0.0</td>\n",
       "      <td>0.0</td>\n",
       "      <td>0.0</td>\n",
       "      <td>0.0</td>\n",
       "      <td>0.0</td>\n",
       "      <td>0.0</td>\n",
       "      <td>0.0</td>\n",
       "      <td>0.0</td>\n",
       "      <td>0.0</td>\n",
       "      <td>0.000000</td>\n",
       "      <td>0.0</td>\n",
       "      <td>0.0</td>\n",
       "      <td>0.0</td>\n",
       "      <td>0.0</td>\n",
       "      <td>0.0</td>\n",
       "      <td>0.0</td>\n",
       "      <td>0.0</td>\n",
       "      <td>0.0</td>\n",
       "      <td>0.0</td>\n",
       "      <td>0.0</td>\n",
       "      <td>0.0</td>\n",
       "      <td>0.0</td>\n",
       "      <td>0.0</td>\n",
       "      <td>0.0</td>\n",
       "      <td>0.0</td>\n",
       "      <td>0.0</td>\n",
       "      <td>0.0</td>\n",
       "      <td>0.0</td>\n",
       "      <td>0.0</td>\n",
       "      <td>0.0</td>\n",
       "      <td>...</td>\n",
       "      <td>0.0</td>\n",
       "      <td>0.0</td>\n",
       "      <td>0.000000</td>\n",
       "      <td>0.0</td>\n",
       "      <td>0.0</td>\n",
       "      <td>0.0</td>\n",
       "      <td>0.0</td>\n",
       "      <td>0.0</td>\n",
       "      <td>0.0</td>\n",
       "      <td>0.0</td>\n",
       "      <td>0.0</td>\n",
       "      <td>0.0</td>\n",
       "      <td>0.0</td>\n",
       "      <td>0.000000</td>\n",
       "      <td>0.0</td>\n",
       "      <td>0.0</td>\n",
       "      <td>0.0</td>\n",
       "      <td>0.0</td>\n",
       "      <td>0.0</td>\n",
       "      <td>0.000000</td>\n",
       "      <td>0.0</td>\n",
       "      <td>0.0</td>\n",
       "      <td>0.0</td>\n",
       "      <td>0.0</td>\n",
       "      <td>0.0</td>\n",
       "      <td>0.0</td>\n",
       "      <td>0.0</td>\n",
       "      <td>0.0</td>\n",
       "      <td>0.0</td>\n",
       "      <td>0.0</td>\n",
       "      <td>0.0</td>\n",
       "      <td>0.0</td>\n",
       "      <td>0.0</td>\n",
       "      <td>0.0</td>\n",
       "      <td>0.0</td>\n",
       "      <td>0.0</td>\n",
       "      <td>0.0</td>\n",
       "      <td>0.0</td>\n",
       "      <td>0.0</td>\n",
       "      <td>0.0</td>\n",
       "      <td>0.0</td>\n",
       "      <td>0.000000</td>\n",
       "      <td>0.0</td>\n",
       "      <td>0.000000</td>\n",
       "      <td>0.0</td>\n",
       "      <td>0.0</td>\n",
       "      <td>0.0</td>\n",
       "      <td>0.0</td>\n",
       "      <td>0.0</td>\n",
       "      <td>1</td>\n",
       "    </tr>\n",
       "  </tbody>\n",
       "</table>\n",
       "<p>5 rows × 1001 columns</p>\n",
       "</div>"
      ]
     },
     "metadata": {
      "application/vnd.databricks.v1+output": {
       "addedWidgets": {},
       "arguments": {},
       "data": "<div>\n<style scoped>\n    .dataframe tbody tr th:only-of-type {\n        vertical-align: middle;\n    }\n\n    .dataframe tbody tr th {\n        vertical-align: top;\n    }\n\n    .dataframe thead th {\n        text-align: right;\n    }\n</style>\n<table border=\"1\" class=\"dataframe\">\n  <thead>\n    <tr style=\"text-align: right;\">\n      <th></th>\n      <th>col_0</th>\n      <th>col_1</th>\n      <th>col_2</th>\n      <th>col_3</th>\n      <th>col_4</th>\n      <th>col_5</th>\n      <th>col_6</th>\n      <th>col_7</th>\n      <th>col_8</th>\n      <th>col_9</th>\n      <th>col_10</th>\n      <th>col_11</th>\n      <th>col_12</th>\n      <th>col_13</th>\n      <th>col_14</th>\n      <th>col_15</th>\n      <th>col_16</th>\n      <th>col_17</th>\n      <th>col_18</th>\n      <th>col_19</th>\n      <th>col_20</th>\n      <th>col_21</th>\n      <th>col_22</th>\n      <th>col_23</th>\n      <th>col_24</th>\n      <th>col_25</th>\n      <th>col_26</th>\n      <th>col_27</th>\n      <th>col_28</th>\n      <th>col_29</th>\n      <th>col_30</th>\n      <th>col_31</th>\n      <th>col_32</th>\n      <th>col_33</th>\n      <th>col_34</th>\n      <th>col_35</th>\n      <th>col_36</th>\n      <th>col_37</th>\n      <th>col_38</th>\n      <th>col_39</th>\n      <th>col_40</th>\n      <th>col_41</th>\n      <th>col_42</th>\n      <th>col_43</th>\n      <th>col_44</th>\n      <th>col_45</th>\n      <th>col_46</th>\n      <th>col_47</th>\n      <th>col_48</th>\n      <th>col_49</th>\n      <th>...</th>\n      <th>col_951</th>\n      <th>col_952</th>\n      <th>col_953</th>\n      <th>col_954</th>\n      <th>col_955</th>\n      <th>col_956</th>\n      <th>col_957</th>\n      <th>col_958</th>\n      <th>col_959</th>\n      <th>col_960</th>\n      <th>col_961</th>\n      <th>col_962</th>\n      <th>col_963</th>\n      <th>col_964</th>\n      <th>col_965</th>\n      <th>col_966</th>\n      <th>col_967</th>\n      <th>col_968</th>\n      <th>col_969</th>\n      <th>col_970</th>\n      <th>col_971</th>\n      <th>col_972</th>\n      <th>col_973</th>\n      <th>col_974</th>\n      <th>col_975</th>\n      <th>col_976</th>\n      <th>col_977</th>\n      <th>col_978</th>\n      <th>col_979</th>\n      <th>col_980</th>\n      <th>col_981</th>\n      <th>col_982</th>\n      <th>col_983</th>\n      <th>col_984</th>\n      <th>col_985</th>\n      <th>col_986</th>\n      <th>col_987</th>\n      <th>col_988</th>\n      <th>col_989</th>\n      <th>col_990</th>\n      <th>col_991</th>\n      <th>col_992</th>\n      <th>col_993</th>\n      <th>col_994</th>\n      <th>col_995</th>\n      <th>col_996</th>\n      <th>col_997</th>\n      <th>col_998</th>\n      <th>col_999</th>\n      <th>feedback</th>\n    </tr>\n  </thead>\n  <tbody>\n    <tr>\n      <th>0</th>\n      <td>0.0</td>\n      <td>0.0</td>\n      <td>0.0</td>\n      <td>0.0</td>\n      <td>0.0</td>\n      <td>0.0</td>\n      <td>0.0</td>\n      <td>0.000000</td>\n      <td>0.000000</td>\n      <td>0.00000</td>\n      <td>0.0</td>\n      <td>0.0</td>\n      <td>0.0</td>\n      <td>0.0</td>\n      <td>0.0</td>\n      <td>0.0</td>\n      <td>0.0</td>\n      <td>0.0</td>\n      <td>0.0</td>\n      <td>0.0</td>\n      <td>0.0</td>\n      <td>0.0</td>\n      <td>0.0</td>\n      <td>0.0</td>\n      <td>0.0</td>\n      <td>0.0</td>\n      <td>0.0</td>\n      <td>0.0</td>\n      <td>0.0</td>\n      <td>0.000000</td>\n      <td>0.0</td>\n      <td>0.0</td>\n      <td>0.0</td>\n      <td>0.0</td>\n      <td>0.0</td>\n      <td>0.0</td>\n      <td>0.0</td>\n      <td>0.0</td>\n      <td>0.0</td>\n      <td>0.0</td>\n      <td>0.0</td>\n      <td>0.0</td>\n      <td>0.0</td>\n      <td>0.0</td>\n      <td>0.0</td>\n      <td>0.0</td>\n      <td>0.0</td>\n      <td>0.0</td>\n      <td>0.0</td>\n      <td>0.0</td>\n      <td>...</td>\n      <td>0.0</td>\n      <td>0.0</td>\n      <td>0.000000</td>\n      <td>0.0</td>\n      <td>0.0</td>\n      <td>0.0</td>\n      <td>0.0</td>\n      <td>0.0</td>\n      <td>0.0</td>\n      <td>0.0</td>\n      <td>0.0</td>\n      <td>0.0</td>\n      <td>0.0</td>\n      <td>0.000000</td>\n      <td>0.0</td>\n      <td>0.0</td>\n      <td>0.0</td>\n      <td>0.0</td>\n      <td>0.0</td>\n      <td>0.000000</td>\n      <td>0.0</td>\n      <td>0.0</td>\n      <td>0.0</td>\n      <td>0.0</td>\n      <td>0.0</td>\n      <td>0.0</td>\n      <td>0.0</td>\n      <td>0.0</td>\n      <td>0.0</td>\n      <td>0.0</td>\n      <td>0.0</td>\n      <td>0.0</td>\n      <td>0.0</td>\n      <td>0.0</td>\n      <td>0.0</td>\n      <td>0.0</td>\n      <td>0.0</td>\n      <td>0.0</td>\n      <td>0.0</td>\n      <td>0.0</td>\n      <td>0.0</td>\n      <td>0.000000</td>\n      <td>0.0</td>\n      <td>0.000000</td>\n      <td>0.0</td>\n      <td>0.0</td>\n      <td>0.0</td>\n      <td>0.0</td>\n      <td>0.0</td>\n      <td>1</td>\n    </tr>\n    <tr>\n      <th>1</th>\n      <td>0.0</td>\n      <td>0.0</td>\n      <td>0.0</td>\n      <td>0.0</td>\n      <td>0.0</td>\n      <td>0.0</td>\n      <td>0.0</td>\n      <td>0.000000</td>\n      <td>0.000000</td>\n      <td>0.00000</td>\n      <td>0.0</td>\n      <td>0.0</td>\n      <td>0.0</td>\n      <td>0.0</td>\n      <td>0.0</td>\n      <td>0.0</td>\n      <td>0.0</td>\n      <td>0.0</td>\n      <td>0.0</td>\n      <td>0.0</td>\n      <td>0.0</td>\n      <td>0.0</td>\n      <td>0.0</td>\n      <td>0.0</td>\n      <td>0.0</td>\n      <td>0.0</td>\n      <td>0.0</td>\n      <td>0.0</td>\n      <td>0.0</td>\n      <td>0.000000</td>\n      <td>0.0</td>\n      <td>0.0</td>\n      <td>0.0</td>\n      <td>0.0</td>\n      <td>0.0</td>\n      <td>0.0</td>\n      <td>0.0</td>\n      <td>0.0</td>\n      <td>0.0</td>\n      <td>0.0</td>\n      <td>0.0</td>\n      <td>0.0</td>\n      <td>0.0</td>\n      <td>0.0</td>\n      <td>0.0</td>\n      <td>0.0</td>\n      <td>0.0</td>\n      <td>0.0</td>\n      <td>0.0</td>\n      <td>0.0</td>\n      <td>...</td>\n      <td>0.0</td>\n      <td>0.0</td>\n      <td>0.000000</td>\n      <td>0.0</td>\n      <td>0.0</td>\n      <td>0.0</td>\n      <td>0.0</td>\n      <td>0.0</td>\n      <td>0.0</td>\n      <td>0.0</td>\n      <td>0.0</td>\n      <td>0.0</td>\n      <td>0.0</td>\n      <td>0.000000</td>\n      <td>0.0</td>\n      <td>0.0</td>\n      <td>0.0</td>\n      <td>0.0</td>\n      <td>0.0</td>\n      <td>0.000000</td>\n      <td>0.0</td>\n      <td>0.0</td>\n      <td>0.0</td>\n      <td>0.0</td>\n      <td>0.0</td>\n      <td>0.0</td>\n      <td>0.0</td>\n      <td>0.0</td>\n      <td>0.0</td>\n      <td>0.0</td>\n      <td>0.0</td>\n      <td>0.0</td>\n      <td>0.0</td>\n      <td>0.0</td>\n      <td>0.0</td>\n      <td>0.0</td>\n      <td>0.0</td>\n      <td>0.0</td>\n      <td>0.0</td>\n      <td>0.0</td>\n      <td>0.0</td>\n      <td>0.000000</td>\n      <td>0.0</td>\n      <td>0.000000</td>\n      <td>0.0</td>\n      <td>0.0</td>\n      <td>0.0</td>\n      <td>0.0</td>\n      <td>0.0</td>\n      <td>1</td>\n    </tr>\n    <tr>\n      <th>2</th>\n      <td>0.0</td>\n      <td>0.0</td>\n      <td>0.0</td>\n      <td>0.0</td>\n      <td>0.0</td>\n      <td>0.0</td>\n      <td>0.0</td>\n      <td>0.145963</td>\n      <td>0.146283</td>\n      <td>0.00000</td>\n      <td>0.0</td>\n      <td>0.0</td>\n      <td>0.0</td>\n      <td>0.0</td>\n      <td>0.0</td>\n      <td>0.0</td>\n      <td>0.0</td>\n      <td>0.0</td>\n      <td>0.0</td>\n      <td>0.0</td>\n      <td>0.0</td>\n      <td>0.0</td>\n      <td>0.0</td>\n      <td>0.0</td>\n      <td>0.0</td>\n      <td>0.0</td>\n      <td>0.0</td>\n      <td>0.0</td>\n      <td>0.0</td>\n      <td>0.094944</td>\n      <td>0.0</td>\n      <td>0.0</td>\n      <td>0.0</td>\n      <td>0.0</td>\n      <td>0.0</td>\n      <td>0.0</td>\n      <td>0.0</td>\n      <td>0.0</td>\n      <td>0.0</td>\n      <td>0.0</td>\n      <td>0.0</td>\n      <td>0.0</td>\n      <td>0.0</td>\n      <td>0.0</td>\n      <td>0.0</td>\n      <td>0.0</td>\n      <td>0.0</td>\n      <td>0.0</td>\n      <td>0.0</td>\n      <td>0.0</td>\n      <td>...</td>\n      <td>0.0</td>\n      <td>0.0</td>\n      <td>0.327234</td>\n      <td>0.0</td>\n      <td>0.0</td>\n      <td>0.0</td>\n      <td>0.0</td>\n      <td>0.0</td>\n      <td>0.0</td>\n      <td>0.0</td>\n      <td>0.0</td>\n      <td>0.0</td>\n      <td>0.0</td>\n      <td>0.000000</td>\n      <td>0.0</td>\n      <td>0.0</td>\n      <td>0.0</td>\n      <td>0.0</td>\n      <td>0.0</td>\n      <td>0.000000</td>\n      <td>0.0</td>\n      <td>0.0</td>\n      <td>0.0</td>\n      <td>0.0</td>\n      <td>0.0</td>\n      <td>0.0</td>\n      <td>0.0</td>\n      <td>0.0</td>\n      <td>0.0</td>\n      <td>0.0</td>\n      <td>0.0</td>\n      <td>0.0</td>\n      <td>0.0</td>\n      <td>0.0</td>\n      <td>0.0</td>\n      <td>0.0</td>\n      <td>0.0</td>\n      <td>0.0</td>\n      <td>0.0</td>\n      <td>0.0</td>\n      <td>0.0</td>\n      <td>0.324472</td>\n      <td>0.0</td>\n      <td>0.149662</td>\n      <td>0.0</td>\n      <td>0.0</td>\n      <td>0.0</td>\n      <td>0.0</td>\n      <td>0.0</td>\n      <td>1</td>\n    </tr>\n    <tr>\n      <th>3</th>\n      <td>0.0</td>\n      <td>0.0</td>\n      <td>0.0</td>\n      <td>0.0</td>\n      <td>0.0</td>\n      <td>0.0</td>\n      <td>0.0</td>\n      <td>0.000000</td>\n      <td>0.000000</td>\n      <td>0.16371</td>\n      <td>0.0</td>\n      <td>0.0</td>\n      <td>0.0</td>\n      <td>0.0</td>\n      <td>0.0</td>\n      <td>0.0</td>\n      <td>0.0</td>\n      <td>0.0</td>\n      <td>0.0</td>\n      <td>0.0</td>\n      <td>0.0</td>\n      <td>0.0</td>\n      <td>0.0</td>\n      <td>0.0</td>\n      <td>0.0</td>\n      <td>0.0</td>\n      <td>0.0</td>\n      <td>0.0</td>\n      <td>0.0</td>\n      <td>0.000000</td>\n      <td>0.0</td>\n      <td>0.0</td>\n      <td>0.0</td>\n      <td>0.0</td>\n      <td>0.0</td>\n      <td>0.0</td>\n      <td>0.0</td>\n      <td>0.0</td>\n      <td>0.0</td>\n      <td>0.0</td>\n      <td>0.0</td>\n      <td>0.0</td>\n      <td>0.0</td>\n      <td>0.0</td>\n      <td>0.0</td>\n      <td>0.0</td>\n      <td>0.0</td>\n      <td>0.0</td>\n      <td>0.0</td>\n      <td>0.0</td>\n      <td>...</td>\n      <td>0.0</td>\n      <td>0.0</td>\n      <td>0.000000</td>\n      <td>0.0</td>\n      <td>0.0</td>\n      <td>0.0</td>\n      <td>0.0</td>\n      <td>0.0</td>\n      <td>0.0</td>\n      <td>0.0</td>\n      <td>0.0</td>\n      <td>0.0</td>\n      <td>0.0</td>\n      <td>0.104466</td>\n      <td>0.0</td>\n      <td>0.0</td>\n      <td>0.0</td>\n      <td>0.0</td>\n      <td>0.0</td>\n      <td>0.210616</td>\n      <td>0.0</td>\n      <td>0.0</td>\n      <td>0.0</td>\n      <td>0.0</td>\n      <td>0.0</td>\n      <td>0.0</td>\n      <td>0.0</td>\n      <td>0.0</td>\n      <td>0.0</td>\n      <td>0.0</td>\n      <td>0.0</td>\n      <td>0.0</td>\n      <td>0.0</td>\n      <td>0.0</td>\n      <td>0.0</td>\n      <td>0.0</td>\n      <td>0.0</td>\n      <td>0.0</td>\n      <td>0.0</td>\n      <td>0.0</td>\n      <td>0.0</td>\n      <td>0.000000</td>\n      <td>0.0</td>\n      <td>0.000000</td>\n      <td>0.0</td>\n      <td>0.0</td>\n      <td>0.0</td>\n      <td>0.0</td>\n      <td>0.0</td>\n      <td>1</td>\n    </tr>\n    <tr>\n      <th>4</th>\n      <td>0.0</td>\n      <td>0.0</td>\n      <td>0.0</td>\n      <td>0.0</td>\n      <td>0.0</td>\n      <td>0.0</td>\n      <td>0.0</td>\n      <td>0.000000</td>\n      <td>0.000000</td>\n      <td>0.00000</td>\n      <td>0.0</td>\n      <td>0.0</td>\n      <td>0.0</td>\n      <td>0.0</td>\n      <td>0.0</td>\n      <td>0.0</td>\n      <td>0.0</td>\n      <td>0.0</td>\n      <td>0.0</td>\n      <td>0.0</td>\n      <td>0.0</td>\n      <td>0.0</td>\n      <td>0.0</td>\n      <td>0.0</td>\n      <td>0.0</td>\n      <td>0.0</td>\n      <td>0.0</td>\n      <td>0.0</td>\n      <td>0.0</td>\n      <td>0.000000</td>\n      <td>0.0</td>\n      <td>0.0</td>\n      <td>0.0</td>\n      <td>0.0</td>\n      <td>0.0</td>\n      <td>0.0</td>\n      <td>0.0</td>\n      <td>0.0</td>\n      <td>0.0</td>\n      <td>0.0</td>\n      <td>0.0</td>\n      <td>0.0</td>\n      <td>0.0</td>\n      <td>0.0</td>\n      <td>0.0</td>\n      <td>0.0</td>\n      <td>0.0</td>\n      <td>0.0</td>\n      <td>0.0</td>\n      <td>0.0</td>\n      <td>...</td>\n      <td>0.0</td>\n      <td>0.0</td>\n      <td>0.000000</td>\n      <td>0.0</td>\n      <td>0.0</td>\n      <td>0.0</td>\n      <td>0.0</td>\n      <td>0.0</td>\n      <td>0.0</td>\n      <td>0.0</td>\n      <td>0.0</td>\n      <td>0.0</td>\n      <td>0.0</td>\n      <td>0.000000</td>\n      <td>0.0</td>\n      <td>0.0</td>\n      <td>0.0</td>\n      <td>0.0</td>\n      <td>0.0</td>\n      <td>0.000000</td>\n      <td>0.0</td>\n      <td>0.0</td>\n      <td>0.0</td>\n      <td>0.0</td>\n      <td>0.0</td>\n      <td>0.0</td>\n      <td>0.0</td>\n      <td>0.0</td>\n      <td>0.0</td>\n      <td>0.0</td>\n      <td>0.0</td>\n      <td>0.0</td>\n      <td>0.0</td>\n      <td>0.0</td>\n      <td>0.0</td>\n      <td>0.0</td>\n      <td>0.0</td>\n      <td>0.0</td>\n      <td>0.0</td>\n      <td>0.0</td>\n      <td>0.0</td>\n      <td>0.000000</td>\n      <td>0.0</td>\n      <td>0.000000</td>\n      <td>0.0</td>\n      <td>0.0</td>\n      <td>0.0</td>\n      <td>0.0</td>\n      <td>0.0</td>\n      <td>1</td>\n    </tr>\n  </tbody>\n</table>\n<p>5 rows × 1001 columns</p>\n</div>",
       "datasetInfos": [],
       "metadata": {},
       "removedWidgets": [],
       "textData": null,
       "type": "htmlSandbox"
      }
     },
     "output_type": "display_data"
    }
   ],
   "source": [
    "import scipy.sparse\n",
    "\n",
    "sdf = pd.DataFrame.sparse.from_spmatrix(X)\n",
    "\n",
    "sdf.columns = ['col_{}'.format(i) for i in range(X.shape[1])]\n",
    "\n",
    "sdf = sdf.fillna(0)\n",
    "\n",
    "sdf['feedback']= y\n",
    "\n",
    "sdf.head()"
   ]
  },
  {
   "cell_type": "code",
   "execution_count": 0,
   "metadata": {
    "application/vnd.databricks.v1+cell": {
     "cellMetadata": {
      "byteLimit": 2048000,
      "rowLimit": 10000
     },
     "inputWidgets": {},
     "nuid": "853040ea-6b10-4fb8-9918-bb902b5c8f29",
     "showTitle": false,
     "title": ""
    },
    "id": "-ps3PB3LI3r4",
    "outputId": "351cb0b3-e4c8-4b87-c75b-4ae0821539a1"
   },
   "outputs": [],
   "source": [
    "input_spark_df = spark.createDataFrame(sdf)"
   ]
  },
  {
   "cell_type": "code",
   "execution_count": 0,
   "metadata": {
    "application/vnd.databricks.v1+cell": {
     "cellMetadata": {
      "byteLimit": 2048000,
      "rowLimit": 10000
     },
     "inputWidgets": {},
     "nuid": "4cc2bcd6-125c-471c-af85-eb4b5c66ee48",
     "showTitle": false,
     "title": ""
    },
    "id": "0RuXso9XI3r4",
    "outputId": "595c9c0c-dc9b-4412-818d-d9d26446b184"
   },
   "outputs": [
    {
     "output_type": "stream",
     "name": "stdout",
     "output_type": "stream",
     "text": [
      "Training Dataset Count: 2475\nTest Dataset Count: 675\n"
     ]
    }
   ],
   "source": [
    "(training_data, test_data) = input_spark_df.randomSplit([0.8, 0.2], seed = 100)\n",
    "\n",
    "print(\"Training Dataset Count: \" + str(training_data.count()))\n",
    "print(\"Test Dataset Count: \" + str(test_data.count()))"
   ]
  },
  {
   "cell_type": "code",
   "execution_count": 0,
   "metadata": {
    "application/vnd.databricks.v1+cell": {
     "cellMetadata": {
      "byteLimit": 2048000,
      "rowLimit": 10000
     },
     "inputWidgets": {},
     "nuid": "5c60e2d0-40de-49f6-912b-4981b0d092c4",
     "showTitle": false,
     "title": ""
    },
    "id": "ZlzC2GeDI3r5",
    "outputId": "043969b7-4be7-4421-93b6-2045e2a7bd22"
   },
   "outputs": [],
   "source": [
    "#from sparknlp_jsl.base import *\n",
    "\n",
    "features_asm = medical.FeaturesAssembler()\\\n",
    "      .setInputCols(['col_{}'.format(i) for i in range(X.shape[1])])\\\n",
    "      .setOutputCol(\"features\")\n",
    "        \n",
    "gen_clf = medical.GenericClassifierApproach()\\\n",
    "    .setLabelColumn(\"feedback\")\\\n",
    "    .setInputCols([\"features\"])\\\n",
    "    .setOutputCol(\"prediction\")\\\n",
    "    .setEpochsNumber(50)\\\n",
    "    .setBatchSize(100)\\\n",
    "    .setFeatureScaling(\"zscore\")\\\n",
    "    .setFixImbalance(True)\\\n",
    "    .setLearningRate(0.001)\\\n",
    "    .setOutputLogsPath(\"file:/databricks/driver/generic_logs\")\\\n",
    "   #.setModelFile(\"/databricks/driver/gc_graph/pet_in1202D_out2.pb\")\n",
    "    \n",
    "\n",
    "clf_Pipeline = nlp.Pipeline(stages=[\n",
    "    features_asm, \n",
    "    gen_clf])\n",
    "\n",
    "clf_model = clf_Pipeline.fit(training_data)\n"
   ]
  },
  {
   "cell_type": "code",
   "execution_count": 0,
   "metadata": {
    "application/vnd.databricks.v1+cell": {
     "cellMetadata": {
      "byteLimit": 2048000,
      "rowLimit": 10000
     },
     "inputWidgets": {},
     "nuid": "2028c4f7-1bef-42bb-b0ff-8d4843bc6d75",
     "showTitle": false,
     "title": ""
    },
    "id": "dZN30blzI3r6",
    "outputId": "53679d19-01ef-495c-af24-bfd9fdc6a644"
   },
   "outputs": [
    {
     "output_type": "stream",
     "name": "stdout",
     "output_type": "stream",
     "text": [
      "              precision    recall  f1-score   support\n\n           0     0.5741    0.4627    0.5124        67\n           1     0.9420    0.9622    0.9520       608\n\n    accuracy                         0.9126       675\n   macro avg     0.7581    0.7124    0.7322       675\nweighted avg     0.9055    0.9126    0.9084       675\n\n0.9125925925925926\n"
     ]
    }
   ],
   "source": [
    "pred_df = clf_model.transform(test_data)\n",
    "\n",
    "preds_df = pred_df.select('feedback','prediction.result').toPandas()\n",
    "\n",
    "# Let's explode the array and get the item(s) inside of result column out\n",
    "preds_df['result'] = preds_df['result'].apply(lambda x : int(x[0]))\n",
    "\n",
    "# We are going to use sklearn to evalute the results on test dataset\n",
    "from sklearn.metrics import classification_report, accuracy_score\n",
    "\n",
    "print (classification_report(preds_df['result'], preds_df['feedback'], digits=4))\n",
    "\n",
    "print (accuracy_score(preds_df['result'], preds_df['feedback']))\n"
   ]
  },
  {
   "cell_type": "code",
   "execution_count": 0,
   "metadata": {
    "application/vnd.databricks.v1+cell": {
     "cellMetadata": {
      "byteLimit": 2048000,
      "rowLimit": 10000
     },
     "inputWidgets": {},
     "nuid": "e4e0883f-2fd1-475d-9b6d-b01c61a24648",
     "showTitle": false,
     "title": ""
    }
   },
   "outputs": [],
   "source": []
  }
 ],
 "metadata": {
  "application/vnd.databricks.v1+notebook": {
   "dashboards": [],
   "language": "python",
   "notebookMetadata": {
    "mostRecentlyExecutedCommandWithImplicitDF": {
     "commandId": 1233127189636833,
     "dataframes": [
      "_sqldf"
     ]
    },
    "pythonIndentUnit": 2
   },
   "notebookName": "08.2.Generic_Classifier",
   "widgets": {}
  },
  "colab": {
   "provenance": []
  },
  "kernelspec": {
   "display_name": "Python 3",
   "language": "python",
   "name": "python3"
  },
  "language_info": {
   "codemirror_mode": {
    "name": "ipython",
    "version": 3
   },
   "file_extension": ".py",
   "mimetype": "text/x-python",
   "name": "python",
   "nbconvert_exporter": "python",
   "pygments_lexer": "ipython3",
   "version": "3.8.3"
  }
 },
 "nbformat": 4,
 "nbformat_minor": 0
}

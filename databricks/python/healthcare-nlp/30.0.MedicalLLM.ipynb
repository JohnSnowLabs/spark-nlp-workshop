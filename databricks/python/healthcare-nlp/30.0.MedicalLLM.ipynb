{
 "cells": [
  {
   "cell_type": "markdown",
   "metadata": {
    "application/vnd.databricks.v1+cell": {
     "cellMetadata": {},
     "inputWidgets": {},
     "nuid": "c572eefe-973c-4dd5-b008-f872870c0eab",
     "showTitle": false,
     "tableResultSettingsMap": {},
     "title": ""
    }
   },
   "source": [
    "![JohnSnowLabs](https://nlp.johnsnowlabs.com/assets/images/logo.png)"
   ]
  },
  {
   "cell_type": "markdown",
   "metadata": {
    "application/vnd.databricks.v1+cell": {
     "cellMetadata": {},
     "inputWidgets": {},
     "nuid": "58927d08-c4d0-4009-bb7e-2e433635a3f9",
     "showTitle": false,
     "tableResultSettingsMap": {},
     "title": ""
    }
   },
   "source": [
    "# Loading Medical and Open Souce LLMs\n"
   ]
  },
  {
   "cell_type": "markdown",
   "metadata": {
    "application/vnd.databricks.v1+cell": {
     "cellMetadata": {},
     "inputWidgets": {},
     "nuid": "8c7eabed-0cfa-4857-bcf9-f5f0a4cb76bc",
     "showTitle": false,
     "tableResultSettingsMap": {},
     "title": ""
    }
   },
   "source": [
    "`LLMLoader` is designed to interact with a LLMs that are converted into gguf format. This module allows using John Snow Labs' licensed LLMs at various sizes that are finetuned on medical context for certain tasks. It provides various methods for setting parameters, loading models, generating text, and retrieving metadata. The `LLMLoader` includes methods for setting various parameters such as input prefix, suffix, cache prompt, number of tokens to predict, sampling techniques, temperature, penalties, and more. Overall, the `LLMLoader`  provides a flexible and extensible framework for interacting with language models in a Python and Scala environment using PySpark and Java."
   ]
  },
  {
   "cell_type": "code",
   "execution_count": 0,
   "metadata": {
    "application/vnd.databricks.v1+cell": {
     "cellMetadata": {
      "byteLimit": 2048000,
      "rowLimit": 10000
     },
     "collapsed": true,
     "inputWidgets": {},
     "nuid": "ac2962be-61c4-4baf-a7af-1c9140c31798",
     "showTitle": false,
     "tableResultSettingsMap": {},
     "title": ""
    }
   },
   "outputs": [],
   "source": [
    "from johnsnowlabs import nlp, medical"
   ]
  },
  {
   "cell_type": "code",
   "execution_count": 0,
   "metadata": {
    "application/vnd.databricks.v1+cell": {
     "cellMetadata": {
      "byteLimit": 2048000,
      "rowLimit": 10000
     },
     "inputWidgets": {},
     "nuid": "abe14921-a5d3-451b-870a-0273a537b7e8",
     "showTitle": false,
     "tableResultSettingsMap": {},
     "title": ""
    }
   },
   "outputs": [
    {
     "data": {
      "text/html": [
       "\n",
       "            <div>\n",
       "                <p><b>SparkSession - hive</b></p>\n",
       "                \n",
       "        <div>\n",
       "            <p><b>SparkContext</b></p>\n",
       "\n",
       "            <p><a href=\"/?o=7956323724731612#setting/sparkui/0923-123147-nl9wh1de/driver-1375953276978428551\">Spark UI</a></p>\n",
       "\n",
       "            <dl>\n",
       "              <dt>Version</dt>\n",
       "                <dd><code>v3.4.1</code></dd>\n",
       "              <dt>Master</dt>\n",
       "                <dd><code>spark://10.139.64.10:7077</code></dd>\n",
       "              <dt>AppName</dt>\n",
       "                <dd><code>Databricks Shell</code></dd>\n",
       "            </dl>\n",
       "        </div>\n",
       "        \n",
       "            </div>\n",
       "        "
      ],
      "text/plain": [
       "<pyspark.sql.session.SparkSession at 0x7ff59d007bb0>"
      ]
     },
     "execution_count": 2,
     "metadata": {},
     "output_type": "execute_result"
    }
   ],
   "source": [
    "\n",
    "from pyspark.sql import DataFrame\n",
    "import pyspark.sql.functions as F\n",
    "import pyspark.sql.types as T\n",
    "import pyspark.sql as SQL\n",
    "\n",
    "import os\n",
    "import json\n",
    "import string\n",
    "import numpy as np\n",
    "import pandas as pd\n",
    "\n",
    "from pyspark.ml import Pipeline, PipelineModel\n",
    "\n",
    "pd.set_option('max_colwidth', 100)\n",
    "pd.set_option('display.max_columns', 100)  \n",
    "pd.set_option('display.expand_frame_repr', False)\n",
    "\n",
    "spark"
   ]
  },
  {
   "cell_type": "markdown",
   "metadata": {
    "application/vnd.databricks.v1+cell": {
     "cellMetadata": {},
     "inputWidgets": {},
     "nuid": "454fb3a5-20eb-4ae1-9d2e-43220d35106a",
     "showTitle": false,
     "tableResultSettingsMap": {},
     "title": ""
    }
   },
   "source": [
    "# Medical LLMs"
   ]
  },
  {
   "cell_type": "markdown",
   "metadata": {
    "application/vnd.databricks.v1+cell": {
     "cellMetadata": {},
     "inputWidgets": {},
     "nuid": "c62d4187-4fc6-48b0-868d-c9e74ff77a34",
     "showTitle": false,
     "tableResultSettingsMap": {},
     "title": ""
    }
   },
   "source": [
    "| **Model Name**             | **Quantization Options**   | **Description**   |\n",
    "| -------------------------- | -------------------------- | ----------------- |\n",
    "| JSL_MedM_v1                | [q4](https://nlp.johnsnowlabs.com/2024/07/12/jsl_medm_q4_v1_en.html), [q8](https://nlp.johnsnowlabs.com/2024/07/12/jsl_medm_q8_v1_en.html), [q16](https://nlp.johnsnowlabs.com/2024/07/12/jsl_medm_q16_v1_en.html) | Summarization, Q&A, RAG, and Chat      |\n",
    "| JSL_MedM_v2                | [q4](https://nlp.johnsnowlabs.com/2024/10/06/jsl_medm_q4_v2_en.html), [q8](https://nlp.johnsnowlabs.com/2024/10/06/jsl_medm_q8_v2_en.html), [q16](https://nlp.johnsnowlabs.com/2024/10/08/jsl_medm_q16_v2_en.html) | Summarization, Q&A, RAG, and Chat      |\n",
    "| JSL_MedM_v3                | [q4](https://nlp.johnsnowlabs.com/2024/10/06/jsl_medm_q4_v3_en.html), [q8](https://nlp.johnsnowlabs.com/2024/10/08/jsl_medm_q8_v3_en.html), [q16](https://nlp.johnsnowlabs.com/2024/10/23/jsl_medm_q16_v3_en.html) | Summarization, Q&A, RAG, and Chat      |\n",
    "| JSL_MedS_v1                | [q4](https://nlp.johnsnowlabs.com/2024/10/05/jsl_meds_q4_v1_en.html), [q8](https://nlp.johnsnowlabs.com/2024/10/05/jsl_meds_q8_v1_en.html), [q16](https://nlp.johnsnowlabs.com/2024/10/05/jsl_meds_q16_v1_en.html) | Summarization, Q&A, RAG |\n",
    "| JSL_MedS_v2                | [q4](https://nlp.johnsnowlabs.com/2024/10/05/jsl_meds_q4_v2_en.html), [q8](https://nlp.johnsnowlabs.com/2024/10/05/jsl_meds_q8_v2_en.html), [q16](https://nlp.johnsnowlabs.com/2024/10/05/jsl_meds_q16_v2_en.html) | Summarization, Q&A, RAG |\n",
    "| JSL_MedS_v3                | [q4](https://nlp.johnsnowlabs.com/2024/10/05/jsl_meds_q4_v3_en.html), [q8](https://nlp.johnsnowlabs.com/2024/10/05/jsl_meds_q8_v3_en.html), [q16](https://nlp.johnsnowlabs.com/2024/10/05/jsl_meds_q16_v3_en.html) | Summarization, Q&A, RAG |\n",
    "| JSL_MedS_8B_v4             | [q4](https://nlp.johnsnowlabs.com/2025/08/05/jsl_meds_8b_q4_v4_en.html), [q8](https://nlp.johnsnowlabs.com/2025/08/05/jsl_meds_8b_q8_v4_en.html), [q16](https://nlp.johnsnowlabs.com/2025/08/05/jsl_meds_8b_q16_v4_en.html) | Summarization, Q&A, RAG |\n",
    "| JSL_MedS_4B_v4             | [q4](https://nlp.johnsnowlabs.com/2025/08/05/jsl_meds_4b_q4_v4_en.html), [q8](https://nlp.johnsnowlabs.com/2025/08/05/jsl_meds_4b_q8_v4_en.html), [q16](https://nlp.johnsnowlabs.com/2025/08/05/jsl_meds_4b_q16_v4_en.html) | Summarization, Q&A, RAG |\n",
    "| JSL_MedS_4B_v5             | [q4](https://nlp.johnsnowlabs.com/2025/08/05/jsl_meds_4b_q4_v5_en.html), [q8](), [q16](https://nlp.johnsnowlabs.com/2025/08/05/jsl_meds_4b_q16_v5_en.html) | Summarization, Q&A, RAG |\n",
    "| JSL_MedS_NER_ZS_v1         | [q4](https://nlp.johnsnowlabs.com/2024/10/04/jsl_meds_ner_zs_q4_v1_en.html), [q8](https://nlp.johnsnowlabs.com/2024/10/04/jsl_meds_ner_zs_q8_v1_en.html), [q16](https://nlp.johnsnowlabs.com/2024/10/04/jsl_meds_ner_zs_q16_v1_en.html) | Extract and link medical named entities |\n",
    "| JSL_MedS_NER_v2            | [q4](https://nlp.johnsnowlabs.com/2024/10/01/jsl_meds_ner_q4_v2_en.html), [q8](https://nlp.johnsnowlabs.com/2024/10/04/jsl_meds_ner_q8_v2_en.html), [q16](https://nlp.johnsnowlabs.com/2024/10/04/jsl_meds_ner_q16_v2_en.html) | Extract and link medical named entities |\n",
    "| JSL_MedS_NER_v3            | [q4](https://nlp.johnsnowlabs.com/2025/06/20/jsl_meds_ner_q4_v3_en.html), [q8](https://nlp.johnsnowlabs.com/2025/06/20/jsl_meds_ner_q8_v3_en.html), [q16](https://nlp.johnsnowlabs.com/2025/06/20/jsl_meds_ner_q16_v3_en.html) | Extract and link medical named entities |\n",
    "| JSL_MedS_NER_v4            | [q4](https://nlp.johnsnowlabs.com/2025/07/01/jsl_meds_ner_q4_v4_en.html), [q8](https://nlp.johnsnowlabs.com/2025/07/01/jsl_meds_ner_q8_v4_en.html) | Extract and link medical named entities |\n",
    "| JSL_MedS_NER_OpenVINO_v4   | [q4](https://nlp.johnsnowlabs.com/2025/06/30/jsl_meds_ner_openvino_q4_v4_en.html), [q8](https://nlp.johnsnowlabs.com/2025/07/01/jsl_meds_ner_openvino_q8_v4_en.html), [q16](https://nlp.johnsnowlabs.com/2025/07/01/jsl_meds_ner_openvino_q16_v4_en.html) | Extract and link medical named entities |\n",
    "| JSL_MedS_RAG_v1            | [q4](https://nlp.johnsnowlabs.com/2024/10/05/jsl_meds_rag_q4_v1_en.html), [q8](https://nlp.johnsnowlabs.com/2024/10/05/jsl_meds_rag_q8_v1_en.html), [q16](https://nlp.johnsnowlabs.com/2024/10/05/jsl_meds_rag_q16_v1_en.html) | LLM component of Retrieval Augmented Generation (RAG) |\n",
    "| JSL_MedS_Text2SOAP_v1      |                [base](https://nlp.johnsnowlabs.com/2025/04/09/jsl_meds_text2soap_v1_en.html) | Generate structured SOAP (Subjective, Objective, Assessment, Plan) summaries |\n",
    "| JSL_MEDS_TEXT2SQL_1B_v1      |                [q16](https://nlp.johnsnowlabs.com/2025/08/04/jsl_meds_text2sql_1b_q16_v1_en.html) | Transforming natural language queries into SQL |\n",
    "| JSL_MedS_VLM_3B_v1         | [q4](https://nlp.johnsnowlabs.com/2025/08/08/jsl_meds_vlm_3b_q8_v1_en.html), [q8](https://nlp.johnsnowlabs.com/2025/08/08/jsl_meds_vlm_3b_q4_v1_en.html), [q16](https://nlp.johnsnowlabs.com/2025/08/08/jsl_meds_vlm_3b_q16_v1_en.html) | Extract and link structured medical named entities |\n",
    "| JSL_MedS_NER_VLM_2B_v1         | [q4](https://nlp.johnsnowlabs.com/2025/08/08/jsl_meds_ner_vlm_2b_q4_v1_en.html), [q8](https://nlp.johnsnowlabs.com/2025/08/10/jsl_meds_ner_vlm_2b_q8_v1_en.html), [q16](https://nlp.johnsnowlabs.com/2025/08/10/jsl_meds_ner_vlm_2b_q16_v1_en.html) | Extract and link structured medical named entities |\n",
    "| JSL_MedS_NER_VLM_2B_v2         | [q4](https://nlp.johnsnowlabs.com/2025/08/10/jsl_meds_ner_vlm_2b_q4_v2_en.html), [q8](https://nlp.johnsnowlabs.com/2025/08/10/jsl_meds_ner_vlm_2b_q8_v2_en.html), [q16](https://nlp.johnsnowlabs.com/2025/08/10/jsl_meds_ner_vlm_2b_q16_v2_en.html) | Extract and link structured medical named entities |\n",
    "\n",
    "\n",
    "\n",
    "**We recommend using 8b quantized versions of the models as the qualitative performance difference between q16 and q8 versions is very negligible.**\n"
   ]
  },
  {
   "cell_type": "markdown",
   "metadata": {
    "application/vnd.databricks.v1+cell": {
     "cellMetadata": {},
     "inputWidgets": {},
     "nuid": "f006c38d-041f-4435-987b-1a345222ad73",
     "showTitle": false,
     "tableResultSettingsMap": {},
     "title": ""
    }
   },
   "source": [
    "# Medical Small LLMs\n",
    "\n",
    "| Model Name             | Disk Size | Model Size | Modality   | Available quantizations | Gpu memory required | Token/sec | Max Context Window **\\*** | Tasks                                                         |\n",
    "|-------------------------|-----------|-------------|------------|-------------------------|---------------------|-----------|--------------------|---------------------------------------------------------------|\n",
    "| JSL_MedM_v3            | 8.2G      | 14B         | text-only  | [q4](https://nlp.johnsnowlabs.com/2024/10/06/jsl_medm_q4_v3_en.html) | 24GB | 79  | 32,768  | Summarization, Q&A, RAG, and Chat |\n",
    "|                         | 14G       | 14B         | text-only  | [q8](https://nlp.johnsnowlabs.com/2024/10/08/jsl_medm_q8_v3_en.html) | 24GB | 84  | 32,768  | Summarization, Q&A, RAG, and Chat |\n",
    "|                         | 21.9G     | 14B         | text-only  | [q16](https://nlp.johnsnowlabs.com/2024/10/23/jsl_medm_q16_v3_en.html) | 24GB | 253 | 32,768  | Summarization, Q&A, RAG, and Chat |\n",
    "| JSL_MedS_v3            | 2.2G      | 3.5B        | text-only  | [q4](https://nlp.johnsnowlabs.com/2024/10/05/jsl_meds_q4_v3_en.html) | 10GB | 28.5 | 131,072 | Summarization, Q&A, RAG |\n",
    "|                         | 3.7G      | 3.5B        | text-only  | [q8](https://nlp.johnsnowlabs.com/2024/10/05/jsl_meds_q8_v3_en.html) | 10GB | 18.7 | 131,072 | Summarization, Q&A, RAG |\n",
    "|                         | 5.6G      | 3.5B        | text-only  | [q16](https://nlp.johnsnowlabs.com/2024/10/05/jsl_meds_q16_v3_en.html) | 10GB | 50.2 | 131,072 | Summarization, Q&A, RAG |\n",
    "| JSL_MedS_8B_v4         | 4.6G      | 8B          | text-only  | [q4](https://nlp.johnsnowlabs.com/2025/08/05/jsl_meds_8b_q4_v4_en.html) | 16GB | 83  | 32,768  | Summarization, Q&A, RAG |\n",
    "|                         | 7.8G      | 8B          | text-only  | [q8](https://nlp.johnsnowlabs.com/2025/08/05/jsl_meds_8b_q8_v4_en.html) | 16GB | 84  | 32,768  | Summarization, Q&A, RAG |\n",
    "|                         | 12.2G     | 8B          | text-only  | [q16](https://nlp.johnsnowlabs.com/2025/08/05/jsl_meds_8b_q16_v4_en.html) | 16GB | 272 | 32,768  | Summarization, Q&A, RAG |\n",
    "| JSL_MedS_NER_v4        | 2.2G      | 3.5B        | text-only  | [q4](https://nlp.johnsnowlabs.com/2025/07/01/jsl_meds_ner_q4_v4_en.html) | 10GB | 28.5 | 131,072 | Extract and link medical named entities |\n",
    "|                         | 3.7G      | 3.5B        | text-only  | [q8](https://nlp.johnsnowlabs.com/2025/07/01/jsl_meds_ner_q8_v4_en.html) | 10GB | 18.7 | 131,072 | Extract and link medical named entities |\n",
    "| JSL_MedS_RAG_v1        | 2.2G      | 3B          | text-only  | [q4](https://nlp.johnsnowlabs.com/2024/10/05/jsl_meds_rag_q4_v1_en.html) | 10GB | 30  | 32,768  | LLM component of Retrieval Augmented Generation (RAG) |\n",
    "|                         | 3.7G      | 3B          | text-only  | [q8](https://nlp.johnsnowlabs.com/2024/10/05/jsl_meds_rag_q8_v1_en.html) | 10GB | 20  | 32,768  | LLM component of Retrieval Augmented Generation (RAG) |\n",
    "|                         | 5.6G      | 3B          | text-only  | [q16](https://nlp.johnsnowlabs.com/2024/10/05/jsl_meds_rag_q16_v1_en.html) | 10GB | 53  | 32,768  | LLM component of Retrieval Augmented Generation (RAG) |\n",
    "| JSL_MedS_Text2SOAP_v1  | 2.2G      | 3B          | text-only  | [base](https://nlp.johnsnowlabs.com/2025/04/09/jsl_meds_text2soap_v1_en.html) | 10GB | 53  | 32,768  | Generate structured SOAP (Subjective, Objective, Assessment, Plan) summaries |\n",
    "| JSL_MedS_VLM_3B_v1     | 2.5G      | 3B          | multimodal | [q4](https://nlp.johnsnowlabs.com/2025/08/08/jsl_meds_vlm_3b_q8_v1_en.html) | 10GB | 8   | 128,000 | Extract and link structured medical named entities |\n",
    "|                         | 3.6G      | 3B          | multimodal | [q8](https://nlp.johnsnowlabs.com/2025/08/08/jsl_meds_vlm_3b_q4_v1_en.html) | 10GB | 11  | 128,000 | Extract and link structured medical named entities |\n",
    "|                         | 5.6G      | 3B          | multimodal | [q16](https://nlp.johnsnowlabs.com/2025/08/08/jsl_meds_vlm_3b_q16_v1_en.html) | 10GB | 40.1| 128,000 | Extract and link structured medical named entities |\n",
    "| JSL_MedS_NER_VLM_2B_v2 | 1.5G      | 2B          | multimodal | [q4](https://nlp.johnsnowlabs.com/2025/08/10/jsl_meds_ner_vlm_2b_q4_v2_en.html) | 10GB | 25.5| 32,768  | Extract and link structured medical named entities |\n",
    "|                         | 2.1G      | 2B          | multimodal | [q8](https://nlp.johnsnowlabs.com/2025/08/10/jsl_meds_ner_vlm_2b_q8_v2_en.html) | 10GB | 13.7| 32,768  | Extract and link structured medical named entities |\n",
    "|                         | 3.3G      | 2B          | multimodal | [q16](https://nlp.johnsnowlabs.com/2025/08/10/jsl_meds_ner_vlm_2b_q16_v2_en.html) | 10GB | 48.9| 32,768  | Extract and link structured medical named entities |\n",
    "\n",
    "<br>\n",
    "\n",
    "> **\\*** Larger context window requires larger GPU Memory\n"
   ]
  },
  {
   "cell_type": "markdown",
   "metadata": {
    "application/vnd.databricks.v1+cell": {
     "cellMetadata": {},
     "inputWidgets": {},
     "nuid": "1925e434-d0cf-491e-bba0-ac869383c3f7",
     "showTitle": false,
     "tableResultSettingsMap": {},
     "title": ""
    }
   },
   "source": [
    "# MedicalLLM Annotator (AutoGGUFModel)"
   ]
  },
  {
   "cell_type": "markdown",
   "metadata": {
    "application/vnd.databricks.v1+cell": {
     "cellMetadata": {},
     "inputWidgets": {},
     "nuid": "a9819bbd-291b-4206-8c7c-08039c119e5a",
     "showTitle": false,
     "tableResultSettingsMap": {},
     "title": ""
    }
   },
   "source": [
    "`MedicalLLM` was designed to load and run large language models (LLMs) in GGUF format with scalable performance. Ideal for clinical and healthcare applications, MedicalLLM supports tasks like medical entity extraction, summarization, Q&A, Retrieval Augmented Generation (RAG), and conversational AI. With simple integration into Spark NLP pipelines, it allows for customizable batch sizes, prediction settings, and chat templates. GPU optimization is also available, enhancing its capabilities for high-performance environments. MedicalLLM empowers users to link medical entities and perform complex NLP tasks with efficiency and precision."
   ]
  },
  {
   "cell_type": "markdown",
   "metadata": {
    "application/vnd.databricks.v1+cell": {
     "cellMetadata": {},
     "inputWidgets": {},
     "nuid": "a8f64719-6282-4ce9-a0d3-ee1f2633a4ce",
     "showTitle": false,
     "tableResultSettingsMap": {},
     "title": ""
    }
   },
   "source": [
    "## JSL_MedS\n"
   ]
  },
  {
   "cell_type": "code",
   "execution_count": 0,
   "metadata": {
    "application/vnd.databricks.v1+cell": {
     "cellMetadata": {
      "byteLimit": 2048000,
      "rowLimit": 10000
     },
     "inputWidgets": {},
     "nuid": "b7cb4637-0033-403d-8832-b4b7a25fb553",
     "showTitle": false,
     "tableResultSettingsMap": {},
     "title": ""
    }
   },
   "outputs": [
    {
     "name": "stdout",
     "output_type": "stream",
     "text": [
      "jsl_meds_4b_q16_v5 download started this may take some time.\n",
      "Approximate size to download 5.7 GB\n",
      "\r[ | ]\r[ / ]\r[ — ]\r[ \\ ]\r[ | ]\r[ / ]\r[ — ]\r[ \\ ]\r[ | ]\r[ / ]\r[ — ]\r[ \\ ]\r[ | ]\r[ / ]\r[ — ]\r[ \\ ]\r[OK!]\n"
     ]
    }
   ],
   "source": [
    "document_assembler = nlp.DocumentAssembler()\\\n",
    "    .setInputCol(\"text\")\\\n",
    "    .setOutputCol(\"document\")\n",
    "\n",
    "medical_llm = medical.AutoGGUFModel.pretrained(\"jsl_meds_4b_q16_v5\", \"en\", \"clinical/models\")\\\n",
    "    .setInputCols(\"document\")\\\n",
    "    .setOutputCol(\"completions\")\\\n",
    "    .setBatchSize(1)\\\n",
    "    .setNPredict(100)\\\n",
    "    .setUseChatTemplate(True)\\\n",
    "    .setTemperature(0)\n",
    "\n",
    "pipeline = nlp.Pipeline(stages=[\n",
    "    document_assembler,\n",
    "    medical_llm\n",
    "])"
   ]
  },
  {
   "cell_type": "markdown",
   "metadata": {
    "application/vnd.databricks.v1+cell": {
     "cellMetadata": {},
     "inputWidgets": {},
     "nuid": "606430c7-0be9-4e4e-989d-7bd048fe9703",
     "showTitle": false,
     "tableResultSettingsMap": {},
     "title": ""
    }
   },
   "source": [
    "**Close Ended Question Answering**"
   ]
  },
  {
   "cell_type": "code",
   "execution_count": 0,
   "metadata": {
    "application/vnd.databricks.v1+cell": {
     "cellMetadata": {
      "byteLimit": 2048000,
      "rowLimit": 10000
     },
     "inputWidgets": {},
     "nuid": "4ac8162c-290a-4ee2-92e2-a6aedb0908c6",
     "showTitle": false,
     "tableResultSettingsMap": {},
     "title": ""
    }
   },
   "outputs": [],
   "source": [
    "prompt = \"\"\"\n",
    "A 23-year-old pregnant woman at 22 weeks gestation presents with burning upon urination. She states it started 1 day ago and has been worsening despite drinking more water and taking cranberry extract. She otherwise feels well and is followed by a doctor for her pregnancy. Her temperature is 97.7°F (36.5°C), blood pressure is 122/77 mmHg, pulse is 80/min, respirations are 19/min, and oxygen saturation is 98% on room air. Physical exam is notable for an absence of costovertebral angle tenderness and a gravid uterus.\n",
    "Which of the following is the best treatment for this patient?\n",
    "A: Ampicillin\n",
    "B: Ceftriaxone\n",
    "C: Ciprofloxacin\n",
    "D: Doxycycline\n",
    "E: Nitrofurantoin\n",
    "\"\"\"\n",
    "\n",
    "data = spark.createDataFrame([[prompt]]).toDF(\"text\")"
   ]
  },
  {
   "cell_type": "code",
   "execution_count": 0,
   "metadata": {
    "application/vnd.databricks.v1+cell": {
     "cellMetadata": {
      "byteLimit": 2048000,
      "rowLimit": 10000
     },
     "inputWidgets": {},
     "nuid": "a922cb8f-016b-4f96-b434-60e4d2f18ef2",
     "showTitle": false,
     "tableResultSettingsMap": {},
     "title": ""
    }
   },
   "outputs": [],
   "source": [
    "results = pipeline.fit(data).transform(data).cache()"
   ]
  },
  {
   "cell_type": "code",
   "execution_count": 0,
   "metadata": {
    "application/vnd.databricks.v1+cell": {
     "cellMetadata": {
      "byteLimit": 2048000,
      "rowLimit": 10000
     },
     "inputWidgets": {},
     "nuid": "99d96a3c-1b8c-48ab-a1c7-4cfebfd0d3ce",
     "showTitle": false,
     "tableResultSettingsMap": {},
     "title": ""
    }
   },
   "outputs": [
    {
     "name": "stdout",
     "output_type": "stream",
     "text": [
      "+-----------------------------------------------------------------------------------------------------------------------------------------------------------------------------------------------------------------------------------------------------------------------------------------------------------------------------------------------------------------------------------------------------------------------------------------------------------------------------------------------------------------------------------------+\n",
      "|completions                                                                                                                                                                                                                                                                                                                                                                                                                                                                                                                              |\n",
      "+-----------------------------------------------------------------------------------------------------------------------------------------------------------------------------------------------------------------------------------------------------------------------------------------------------------------------------------------------------------------------------------------------------------------------------------------------------------------------------------------------------------------------------------------+\n",
      "|[{document, 0, 473, The patient presents with symptoms suggestive of a urinary tract infection (UTI) during pregnancy. Given the gestational age of 22 weeks, the most appropriate treatment option is **E: Nitrofurantoin**.\\n\\nHere's why:\\n\\n*   **Nitrofurantoin:** Nitrofurantoin is a commonly used and generally safe antibiotic for UTIs in pregnancy, especially in the first and second trimesters. It concentrates well in the urine and has a relatively low risk of systemic side effects compared to, {sentence -> 0}, []}]|\n",
      "+-----------------------------------------------------------------------------------------------------------------------------------------------------------------------------------------------------------------------------------------------------------------------------------------------------------------------------------------------------------------------------------------------------------------------------------------------------------------------------------------------------------------------------------------+\n",
      "\n"
     ]
    }
   ],
   "source": [
    "results.select(\"completions\").show(truncate=False)"
   ]
  },
  {
   "cell_type": "code",
   "execution_count": 0,
   "metadata": {
    "application/vnd.databricks.v1+cell": {
     "cellMetadata": {
      "byteLimit": 2048000,
      "rowLimit": 10000
     },
     "inputWidgets": {},
     "nuid": "7a81517c-4745-4356-8802-e6c495b0cfa9",
     "showTitle": false,
     "tableResultSettingsMap": {},
     "title": ""
    }
   },
   "outputs": [
    {
     "name": "stdout",
     "output_type": "stream",
     "text": [
      "The patient presents with symptoms suggestive of a urinary tract infection (UTI) during pregnancy. Given the gestational age of 22 weeks, the most appropriate treatment option is **E: Nitrofurantoin**.\n",
      "\n",
      "Here's why:\n",
      "\n",
      "*   **Nitrofurantoin:** Nitrofurantoin is a commonly used and generally safe antibiotic for UTIs in pregnancy, especially in the first and second trimesters. It concentrates well in the urine and has a relatively low risk of systemic side effects compared to\n"
     ]
    }
   ],
   "source": [
    "print(results.select(\"completions\").collect()[0].completions[0].result)"
   ]
  },
  {
   "cell_type": "markdown",
   "metadata": {
    "application/vnd.databricks.v1+cell": {
     "cellMetadata": {},
     "inputWidgets": {},
     "nuid": "932002bb-4464-4c70-934c-8ff805c2feb2",
     "showTitle": false,
     "tableResultSettingsMap": {},
     "title": ""
    }
   },
   "source": [
    "**Open-Ended Question**"
   ]
  },
  {
   "cell_type": "code",
   "execution_count": 0,
   "metadata": {
    "application/vnd.databricks.v1+cell": {
     "cellMetadata": {
      "byteLimit": 2048000,
      "rowLimit": 10000
     },
     "inputWidgets": {},
     "nuid": "f26c9339-67ae-4f38-9da6-84c5ea266e25",
     "showTitle": false,
     "tableResultSettingsMap": {},
     "title": ""
    }
   },
   "outputs": [],
   "source": [
    "prompt = \"\"\"### Instruction:\n",
    "You will be given a health-related question. Provide a clear, accurate, and concise answer in no more than 3 sentences.\n",
    "Base your answer only on medically accepted and verifiable information.\n",
    "Do not add personal opinions or unverified claims.\n",
    "\n",
    "### Question:\n",
    "What is hypertension?\n",
    "\n",
    "### Response:\n",
    "\"\"\"\n",
    "\n",
    "data = spark.createDataFrame([[prompt]]).toDF(\"text\")"
   ]
  },
  {
   "cell_type": "code",
   "execution_count": 0,
   "metadata": {
    "application/vnd.databricks.v1+cell": {
     "cellMetadata": {
      "byteLimit": 2048000,
      "rowLimit": 10000
     },
     "inputWidgets": {},
     "nuid": "6e648659-56ab-4a79-8703-6f4158912252",
     "showTitle": false,
     "tableResultSettingsMap": {},
     "title": ""
    }
   },
   "outputs": [
    {
     "name": "stdout",
     "output_type": "stream",
     "text": [
      "+-------------------------------------------------------------------------------------------------------------------------------------------------------------------------------------------------------------------------------------------------------------------------------------------------------------------------------------------------------------------------------+\n",
      "|completions                                                                                                                                                                                                                                                                                                                                                                    |\n",
      "+-------------------------------------------------------------------------------------------------------------------------------------------------------------------------------------------------------------------------------------------------------------------------------------------------------------------------------------------------------------------------------+\n",
      "|[{document, 0, 322, Hypertension, or high blood pressure, is a condition in which the force of your blood against your artery walls is consistently too high. This can damage your heart, blood vessels, kidneys, and other organs. It is often called the \"silent killer\" because it usually has no symptoms until it causes serious health problems.\\n, {sentence -> 0}, []}]|\n",
      "+-------------------------------------------------------------------------------------------------------------------------------------------------------------------------------------------------------------------------------------------------------------------------------------------------------------------------------------------------------------------------------+\n",
      "\n"
     ]
    }
   ],
   "source": [
    "result = pipeline.fit(data).transform(data).cache()\n",
    "result.select(\"completions\").show(truncate=False)"
   ]
  },
  {
   "cell_type": "code",
   "execution_count": 0,
   "metadata": {
    "application/vnd.databricks.v1+cell": {
     "cellMetadata": {
      "byteLimit": 2048000,
      "rowLimit": 10000
     },
     "inputWidgets": {},
     "nuid": "ced2f497-147e-45df-a996-d71a46002f87",
     "showTitle": false,
     "tableResultSettingsMap": {},
     "title": ""
    }
   },
   "outputs": [
    {
     "name": "stdout",
     "output_type": "stream",
     "text": [
      "Hypertension, or high blood pressure, is a condition in which the force of your blood against your artery walls is consistently too high. This can damage your heart, blood vessels, kidneys, and other organs. It is often called the \"silent killer\" because it usually has no symptoms until it causes serious health problems.\n",
      "\n"
     ]
    }
   ],
   "source": [
    "print(result.select(\"completions\").collect()[0].completions[0].result)"
   ]
  },
  {
   "cell_type": "markdown",
   "metadata": {
    "application/vnd.databricks.v1+cell": {
     "cellMetadata": {},
     "inputWidgets": {},
     "nuid": "dc42d91e-fa35-472d-9a45-b387f701a21d",
     "showTitle": false,
     "tableResultSettingsMap": {},
     "title": ""
    }
   },
   "source": [
    "**Summarization**\n"
   ]
  },
  {
   "cell_type": "code",
   "execution_count": 0,
   "metadata": {
    "application/vnd.databricks.v1+cell": {
     "cellMetadata": {
      "byteLimit": 2048000,
      "rowLimit": 10000
     },
     "inputWidgets": {},
     "nuid": "e9117390-9175-45f4-95f5-d1646154b229",
     "showTitle": false,
     "tableResultSettingsMap": {},
     "title": ""
    }
   },
   "outputs": [],
   "source": [
    "prompt = \"\"\"### Instruction:\n",
    "You will be given a long piece of text. Summarize it into a **short version that is no more than 30–40% of the original length**.\n",
    "Keep only the main ideas and key facts, removing all unnecessary details or examples.\n",
    "Do not add new information that is not in the text.\n",
    "\n",
    "### Text:\n",
    "Climate change refers to long-term shifts in temperatures and weather patterns. These shifts may be natural,\n",
    "but since the 1800s, human activities have been the main driver, primarily due to burning fossil fuels like coal,\n",
    "oil, and gas. Burning these materials releases greenhouse gases, which trap the sun’s heat and raise global temperatures.\n",
    "Consequences include rising sea levels, more extreme weather events, and disruptions to food and water supply.\n",
    "\n",
    "### Response:\n",
    "\"\"\"\n",
    "\n",
    "\n",
    "data = spark.createDataFrame([[prompt]]).toDF(\"text\")"
   ]
  },
  {
   "cell_type": "code",
   "execution_count": 0,
   "metadata": {
    "application/vnd.databricks.v1+cell": {
     "cellMetadata": {
      "byteLimit": 2048000,
      "rowLimit": 10000
     },
     "inputWidgets": {},
     "nuid": "15b5cb2e-9e89-4266-87a4-6831ce942a3b",
     "showTitle": false,
     "tableResultSettingsMap": {},
     "title": ""
    }
   },
   "outputs": [
    {
     "name": "stdout",
     "output_type": "stream",
     "text": [
      "+------------------------------------------------------------------------------------------------------------------------------------------------------------------------------------------------------------------------------------------------------------------------------------------------------------------------------------------------------------------------------+\n",
      "|completions                                                                                                                                                                                                                                                                                                                                                                   |\n",
      "+------------------------------------------------------------------------------------------------------------------------------------------------------------------------------------------------------------------------------------------------------------------------------------------------------------------------------------------------------------------------------+\n",
      "|[{document, 0, 321, Climate change is a long-term shift in temperatures and weather patterns, primarily driven by human activities since the 1800s. Burning fossil fuels releases greenhouse gases, trapping heat and raising global temperatures. This leads to rising sea levels, more extreme weather, and disruptions to food and water supplies.\\n, {sentence -> 0}, []}]|\n",
      "+------------------------------------------------------------------------------------------------------------------------------------------------------------------------------------------------------------------------------------------------------------------------------------------------------------------------------------------------------------------------------+\n",
      "\n"
     ]
    }
   ],
   "source": [
    "results = pipeline.fit(data).transform(data).cache()\n",
    "results.select(\"completions\").show(truncate=False)"
   ]
  },
  {
   "cell_type": "code",
   "execution_count": 0,
   "metadata": {
    "application/vnd.databricks.v1+cell": {
     "cellMetadata": {
      "byteLimit": 2048000,
      "rowLimit": 10000
     },
     "inputWidgets": {},
     "nuid": "722898d6-fe22-4dab-874d-8191ec94b334",
     "showTitle": false,
     "tableResultSettingsMap": {},
     "title": ""
    }
   },
   "outputs": [
    {
     "name": "stdout",
     "output_type": "stream",
     "text": [
      "Climate change is a long-term shift in temperatures and weather patterns, primarily driven by human activities since the 1800s. Burning fossil fuels releases greenhouse gases, trapping heat and raising global temperatures. This leads to rising sea levels, more extreme weather, and disruptions to food and water supplies.\n",
      "\n"
     ]
    }
   ],
   "source": [
    "print(results.select(\"completions\").collect()[0].completions[0].result)"
   ]
  },
  {
   "cell_type": "markdown",
   "metadata": {
    "application/vnd.databricks.v1+cell": {
     "cellMetadata": {},
     "inputWidgets": {},
     "nuid": "66c7b49f-db45-4440-a47d-44821b8198de",
     "showTitle": false,
     "tableResultSettingsMap": {},
     "title": ""
    }
   },
   "source": [
    "**Named Entity Recognition**"
   ]
  },
  {
   "cell_type": "code",
   "execution_count": 0,
   "metadata": {
    "application/vnd.databricks.v1+cell": {
     "cellMetadata": {
      "byteLimit": 2048000,
      "rowLimit": 10000
     },
     "inputWidgets": {},
     "nuid": "d2bab7fb-636e-41b9-b3f4-317b0044abd8",
     "showTitle": false,
     "tableResultSettingsMap": {},
     "title": ""
    }
   },
   "outputs": [
    {
     "name": "stdout",
     "output_type": "stream",
     "text": [
      "+----------------------------------------------------------------------------------------------------+\n",
      "|                                                                                                text|\n",
      "+----------------------------------------------------------------------------------------------------+\n",
      "|\\n### Template:\\n{\\n    \"drugs\": [\\n        {\\n            \"name\": \"\",\\n            \"reactions\": ...|\n",
      "+----------------------------------------------------------------------------------------------------+\n",
      "\n"
     ]
    }
   ],
   "source": [
    "med_ner_prompt = \"\"\"\n",
    "### Template:\n",
    "{\n",
    "    \"drugs\": [\n",
    "        {\n",
    "            \"name\": \"\",\n",
    "            \"reactions\": []\n",
    "        }\n",
    "    ],\n",
    "    \"chunks_with_labels\": [\n",
    "        {\n",
    "            \"text\": \"\",\n",
    "            \"label\": \"\"\n",
    "        }\n",
    "    ]\n",
    "}\n",
    "\n",
    "### Instructions:\n",
    "Extract entities from the Text and return:\n",
    "1) The required JSON under the \"drugs\" key EXACTLY in the schema above:\n",
    "   - \"name\": the drug name or brand as written in the text.\n",
    "   - \"reactions\": a list of adverse effects mentioned for that drug (strings only, no extra fields).\n",
    "2) Additionally, return a flat list of all extracted chunks and their labels under \"chunks_with_labels\":\n",
    "   - Each item must have \"text\" (the exact span from the text) and \"label\" (e.g., DRUG, REACTION, DOSAGE, FREQUENCY, DURATION).\n",
    "   - Do not invent information not present in the text.\n",
    "   - Use the exact casing and wording from the text.\n",
    "   - If something is not present, return an empty list for that section.\n",
    "\n",
    "Only use information from the Text. Output valid JSON matching the Template.\n",
    "\n",
    "### Text:\n",
    "I feel a bit drowsy & have a little blurred vision , and some gastric problems .\n",
    "I 've been on Arthrotec 50 for over 10 years on and off , only taking it when I needed it .\n",
    "Due to my arthritis getting progressively worse , to the point where I am in tears with the agony.\n",
    "Gp 's started me on 75 twice a day and I have to take it every day for the next month to see how I get on , here goes .\n",
    "So far its been very good , pains almost gone , but I feel a bit weird , did n't have that when on 50.\n",
    "\"\"\"\n",
    "\n",
    "\n",
    "data = spark.createDataFrame([[med_ner_prompt]]).toDF(\"text\")\n",
    "data.show(truncate=100)"
   ]
  },
  {
   "cell_type": "code",
   "execution_count": 0,
   "metadata": {
    "application/vnd.databricks.v1+cell": {
     "cellMetadata": {
      "byteLimit": 2048000,
      "rowLimit": 10000
     },
     "inputWidgets": {},
     "nuid": "291f3cd2-23aa-4700-b7b9-d90c497038c4",
     "showTitle": false,
     "tableResultSettingsMap": {},
     "title": ""
    }
   },
   "outputs": [
    {
     "name": "stdout",
     "output_type": "stream",
     "text": [
      "+-------------------------------------------------------------------------------------------------------------------------------------------------------------------------------------------------------------------------------------------------------------------------------------------------------------------------------------------------------------------------------------------------------------------------------------------------+\n",
      "|completions                                                                                                                                                                                                                                                                                                                                                                                                                                      |\n",
      "+-------------------------------------------------------------------------------------------------------------------------------------------------------------------------------------------------------------------------------------------------------------------------------------------------------------------------------------------------------------------------------------------------------------------------------------------------+\n",
      "|[{document, 0, 370, ```json\\n{\\n    \"drugs\": [\\n        {\\n            \"name\": \"Arthrotec 50\",\\n            \"reactions\": [\\n                \"drowsy\",\\n                \"blurred vision\",\\n                \"gastric problems\",\\n                \"weird\"\\n            ]\\n        },\\n        {\\n            \"name\": \"Arthrotec 75\",\\n            \"reactions\": [\\n                \"weird\"\\n            ]\\n        }\\n    ],\\n, {sentence -> 0}, []}]|\n",
      "+-------------------------------------------------------------------------------------------------------------------------------------------------------------------------------------------------------------------------------------------------------------------------------------------------------------------------------------------------------------------------------------------------------------------------------------------------+\n",
      "\n",
      "CPU times: user 14 ms, sys: 11.5 ms, total: 25.5 ms\n",
      "Wall time: 21.9 s\n"
     ]
    }
   ],
   "source": [
    "%%time\n",
    "results = pipeline.fit(data).transform(data).cache()\n",
    "results.select(\"completions\").show(truncate=False)"
   ]
  },
  {
   "cell_type": "code",
   "execution_count": 0,
   "metadata": {
    "application/vnd.databricks.v1+cell": {
     "cellMetadata": {
      "byteLimit": 2048000,
      "rowLimit": 10000
     },
     "inputWidgets": {},
     "nuid": "909ebba9-7beb-4f19-b927-1785de13126b",
     "showTitle": false,
     "tableResultSettingsMap": {},
     "title": ""
    }
   },
   "outputs": [
    {
     "name": "stdout",
     "output_type": "stream",
     "text": [
      "```json\n",
      "{\n",
      "    \"drugs\": [\n",
      "        {\n",
      "            \"name\": \"Arthrotec 50\",\n",
      "            \"reactions\": [\n",
      "                \"drowsy\",\n",
      "                \"blurred vision\",\n",
      "                \"gastric problems\",\n",
      "                \"weird\"\n",
      "            ]\n",
      "        },\n",
      "        {\n",
      "            \"name\": \"Arthrotec 75\",\n",
      "            \"reactions\": [\n",
      "                \"weird\"\n",
      "            ]\n",
      "        }\n",
      "    ],\n",
      "\n"
     ]
    }
   ],
   "source": [
    "print(results.select(\"completions\").collect()[0].completions[0].result)"
   ]
  },
  {
   "cell_type": "markdown",
   "metadata": {
    "application/vnd.databricks.v1+cell": {
     "cellMetadata": {},
     "inputWidgets": {},
     "nuid": "3cc069ac-b569-492a-baef-53a80e1162a8",
     "showTitle": false,
     "tableResultSettingsMap": {},
     "title": ""
    }
   },
   "source": [
    "**Retriveal Augmented Generation**"
   ]
  },
  {
   "cell_type": "code",
   "execution_count": 0,
   "metadata": {
    "application/vnd.databricks.v1+cell": {
     "cellMetadata": {
      "byteLimit": 2048000,
      "rowLimit": 10000
     },
     "inputWidgets": {},
     "nuid": "17d490e4-044b-4d0b-b179-ee1d1b01a33a",
     "showTitle": false,
     "tableResultSettingsMap": {},
     "title": ""
    }
   },
   "outputs": [
    {
     "name": "stdout",
     "output_type": "stream",
     "text": [
      "+----------------------------------------------------------------------------------------------------+\n",
      "|                                                                                                text|\n",
      "+----------------------------------------------------------------------------------------------------+\n",
      "|\\n### Template:\\nUse the following pieces of context to answer the user's question. If you return...|\n",
      "+----------------------------------------------------------------------------------------------------+\n",
      "\n"
     ]
    }
   ],
   "source": [
    "prompt = \"\"\"\n",
    "### Template:\n",
    "Use the following pieces of context to answer the user's question. If you return an answer, end with 'It's my pleasure'.\n",
    "If you don't know the answer, just say that you don't know, don't try to make up an answer.\n",
    "\n",
    "### Context:\n",
    "'Hypertension is a chronic medical condition in which the blood pressure in the arteries is persistently elevated. Long-term high blood pressure is a major risk factor for stroke, heart disease, and kidney failure.',\n",
    "'Several studies have shown that dietary habits, physical inactivity, and high sodium intake contribute significantly to the development of hypertension. Lifestyle modifications such as reducing salt intake, exercising regularly, and maintaining a healthy weight can help prevent and manage the condition.',\n",
    "\n",
    "### Questions:\n",
    "impact of high sodium intake on hypertension?\n",
    "\"\"\"\n",
    "\n",
    "data = spark.createDataFrame([[prompt]]).toDF(\"text\")\n",
    "data.show(truncate=100)"
   ]
  },
  {
   "cell_type": "code",
   "execution_count": 0,
   "metadata": {
    "application/vnd.databricks.v1+cell": {
     "cellMetadata": {
      "byteLimit": 2048000,
      "rowLimit": 10000
     },
     "inputWidgets": {},
     "nuid": "afaf20c5-8351-40bc-ae82-8f108dba533f",
     "showTitle": false,
     "tableResultSettingsMap": {},
     "title": ""
    }
   },
   "outputs": [
    {
     "name": "stdout",
     "output_type": "stream",
     "text": [
      "+----------------------------------------------------------------------------------------------------------------------------------------------+\n",
      "|completions                                                                                                                                   |\n",
      "+----------------------------------------------------------------------------------------------------------------------------------------------+\n",
      "|[{document, 0, 98, High sodium intake contributes significantly to the development of hypertension. It's my pleasure.\\n, {sentence -> 0}, []}]|\n",
      "+----------------------------------------------------------------------------------------------------------------------------------------------+\n",
      "\n",
      "CPU times: user 14.4 ms, sys: 0 ns, total: 14.4 ms\n",
      "Wall time: 6.18 s\n"
     ]
    }
   ],
   "source": [
    "%%time\n",
    "results = pipeline.fit(data).transform(data).cache()\n",
    "results.select(\"completions\").show(truncate=False)"
   ]
  },
  {
   "cell_type": "code",
   "execution_count": 0,
   "metadata": {
    "application/vnd.databricks.v1+cell": {
     "cellMetadata": {
      "byteLimit": 2048000,
      "rowLimit": 10000
     },
     "inputWidgets": {},
     "nuid": "52df5afe-e713-41ee-acc1-ba9e1f16bc8f",
     "showTitle": false,
     "tableResultSettingsMap": {},
     "title": ""
    }
   },
   "outputs": [
    {
     "name": "stdout",
     "output_type": "stream",
     "text": [
      "High sodium intake contributes significantly to the development of hypertension. It's my pleasure.\n",
      "\n"
     ]
    }
   ],
   "source": [
    "print(results.select(\"completions\").collect()[0].completions[0].result)"
   ]
  },
  {
   "cell_type": "markdown",
   "metadata": {
    "application/vnd.databricks.v1+cell": {
     "cellMetadata": {},
     "inputWidgets": {},
     "nuid": "9e60a3f3-8c71-4c2f-a7c7-8f2e969af041",
     "showTitle": false,
     "tableResultSettingsMap": {},
     "title": ""
    }
   },
   "source": [
    "**Text to SQL**"
   ]
  },
  {
   "cell_type": "code",
   "execution_count": 0,
   "metadata": {
    "application/vnd.databricks.v1+cell": {
     "cellMetadata": {
      "byteLimit": 2048000,
      "rowLimit": 10000
     },
     "inputWidgets": {},
     "nuid": "aff26849-b0ca-4f91-b133-7a529d94530d",
     "showTitle": false,
     "tableResultSettingsMap": {},
     "title": ""
    }
   },
   "outputs": [],
   "source": [
    "prompt = \"\"\"### Instruction:\n",
    "Table: HospitalVisits\n",
    "- visit_id (INT)\n",
    "- patient_id (INT)\n",
    "- visit_date (DATE)\n",
    "- department (VARCHAR)\n",
    "- doctor_name (VARCHAR)\n",
    "- diagnosis (VARCHAR)\n",
    "\n",
    "Retrieve the visit dates and doctor names for patients diagnosed with pneumonia.\n",
    "\n",
    "### Response:\n",
    "\"\"\"\n",
    "\n",
    "data = spark.createDataFrame([[prompt]]).toDF(\"text\")\n"
   ]
  },
  {
   "cell_type": "code",
   "execution_count": 0,
   "metadata": {
    "application/vnd.databricks.v1+cell": {
     "cellMetadata": {
      "byteLimit": 2048000,
      "rowLimit": 10000
     },
     "inputWidgets": {},
     "nuid": "346387ec-22af-48f8-9cab-f14a155d44dc",
     "showTitle": false,
     "tableResultSettingsMap": {},
     "title": ""
    }
   },
   "outputs": [
    {
     "name": "stdout",
     "output_type": "stream",
     "text": [
      "+----------------------------------------------------------------------------------------------------------------------------------------------------+\n",
      "|completions                                                                                                                                         |\n",
      "+----------------------------------------------------------------------------------------------------------------------------------------------------+\n",
      "|[{document, 0, 100, ```sql\\nSELECT DISTINCT visit_date, doctor_name\\nFROM HospitalVisits\\nWHERE diagnosis = 'Pneumonia';\\n```, {sentence -> 0}, []}]|\n",
      "+----------------------------------------------------------------------------------------------------------------------------------------------------+\n",
      "\n"
     ]
    }
   ],
   "source": [
    "result = pipeline.fit(data).transform(data).cache()\n",
    "result.select(\"completions\").show(truncate=False)"
   ]
  },
  {
   "cell_type": "code",
   "execution_count": 0,
   "metadata": {
    "application/vnd.databricks.v1+cell": {
     "cellMetadata": {
      "byteLimit": 2048000,
      "rowLimit": 10000
     },
     "inputWidgets": {},
     "nuid": "a7d3094b-5d0e-42b6-bab4-1034e28c805c",
     "showTitle": false,
     "tableResultSettingsMap": {},
     "title": ""
    }
   },
   "outputs": [
    {
     "name": "stdout",
     "output_type": "stream",
     "text": [
      "```sql\n",
      "SELECT DISTINCT visit_date, doctor_name\n",
      "FROM HospitalVisits\n",
      "WHERE diagnosis = 'Pneumonia';\n",
      "```\n"
     ]
    }
   ],
   "source": [
    "example_output  = result.select(\"completions\").collect()[0].completions[0].result\n",
    "print(example_output)"
   ]
  },
  {
   "cell_type": "markdown",
   "metadata": {
    "application/vnd.databricks.v1+cell": {
     "cellMetadata": {},
     "inputWidgets": {},
     "nuid": "c6f46393-141f-4827-b53d-a57ff63ae785",
     "showTitle": false,
     "tableResultSettingsMap": {},
     "title": ""
    }
   },
   "source": [
    "## JSL_MedS_NER\n",
    "\n",
    "This LLM model is trained to extract and link entities in a document. Users needs to define an input schema as explained in the example section. Drug is defined as a list which tells the model that there could be multiple drugs in the document and it has to extract all of them. Each drug has properties like \"name\" and \"reaction\". Since \"name\" is only one, it is a string, but there could be multiple reactions, hence it is a list. Similarly, users can define any schema for any type of entity."
   ]
  },
  {
   "cell_type": "code",
   "execution_count": 0,
   "metadata": {
    "application/vnd.databricks.v1+cell": {
     "cellMetadata": {
      "byteLimit": 2048000,
      "rowLimit": 10000
     },
     "inputWidgets": {},
     "nuid": "d8cc2640-dc19-4363-929a-c9efd36ab99d",
     "showTitle": false,
     "tableResultSettingsMap": {},
     "title": ""
    }
   },
   "outputs": [
    {
     "name": "stdout",
     "output_type": "stream",
     "text": [
      "jsl_meds_ner_q8_v4 download started this may take some time.\n",
      "Approximate size to download 3.7 GB\n",
      "\r[ | ]\r[ / ]\r[ — ]\r[ \\ ]\r[ | ]\r[OK!]\n"
     ]
    }
   ],
   "source": [
    "document_assembler = nlp.DocumentAssembler()\\\n",
    "    .setInputCol(\"text\")\\\n",
    "    .setOutputCol(\"document\")\n",
    "\n",
    "medical_llm = medical.AutoGGUFModel.pretrained(\"jsl_meds_ner_q8_v4\", \"en\", \"clinical/models\")\\\n",
    "    .setInputCols(\"document\")\\\n",
    "    .setOutputCol(\"completions\")\\\n",
    "    .setBatchSize(1)\\\n",
    "    .setNPredict(100)\\\n",
    "    .setUseChatTemplate(True)\\\n",
    "    .setTemperature(0)\\\n",
    "    #.setNGpuLayers(100) # if you have GPU\n",
    "\n",
    "\n",
    "pipeline = nlp.Pipeline(\n",
    "    stages = [\n",
    "        document_assembler,\n",
    "        medical_llm\n",
    "])"
   ]
  },
  {
   "cell_type": "code",
   "execution_count": 0,
   "metadata": {
    "application/vnd.databricks.v1+cell": {
     "cellMetadata": {
      "byteLimit": 2048000,
      "rowLimit": 10000
     },
     "inputWidgets": {},
     "nuid": "d0f46037-6080-4c76-9ada-6596bb839764",
     "showTitle": false,
     "tableResultSettingsMap": {},
     "title": ""
    }
   },
   "outputs": [
    {
     "name": "stdout",
     "output_type": "stream",
     "text": [
      "+----------------------------------------------------------------------------------------------------+\n",
      "|                                                                                                text|\n",
      "+----------------------------------------------------------------------------------------------------+\n",
      "|\\n### Template:\\n{\\n    \"drugs\": [\\n        {\\n            \"name\": \"\",\\n            \"reactions\": ...|\n",
      "+----------------------------------------------------------------------------------------------------+\n",
      "\n"
     ]
    }
   ],
   "source": [
    "med_ner_prompt = \"\"\"\n",
    "### Template:\n",
    "{\n",
    "    \"drugs\": [\n",
    "        {\n",
    "            \"name\": \"\",\n",
    "            \"reactions\": []\n",
    "        }\n",
    "    ]\n",
    "}\n",
    "### Text:\n",
    "I feel a bit drowsy & have a little blurred vision , and some gastric problems .\n",
    "I 've been on Arthrotec 50 for over 10 years on and off , only taking it when I needed it .\n",
    "Due to my arthritis getting progressively worse , to the point where I am in tears with the agony.\n",
    "Gp 's started me on 75 twice a day and I have to take it every day for the next month to see how I get on , here goes .\n",
    "So far its been very good , pains almost gone , but I feel a bit weird , did n't have that when on 50.\n",
    "\"\"\"\n",
    "\n",
    "data = spark.createDataFrame([[med_ner_prompt]]).toDF(\"text\")\n",
    "data.show(truncate=100)"
   ]
  },
  {
   "cell_type": "code",
   "execution_count": 0,
   "metadata": {
    "application/vnd.databricks.v1+cell": {
     "cellMetadata": {
      "byteLimit": 2048000,
      "rowLimit": 10000
     },
     "inputWidgets": {},
     "nuid": "d65bc251-c4fd-48d6-a96d-b3dcb96b0877",
     "showTitle": false,
     "tableResultSettingsMap": {},
     "title": ""
    }
   },
   "outputs": [
    {
     "name": "stdout",
     "output_type": "stream",
     "text": [
      "+------------------------------------------------------------------------------------------------------------------------------------------------------------------------------------------------------------------------------------------------------------------------------------------------------------------------------------------------------------------------------------------------------+\n",
      "|completions                                                                                                                                                                                                                                                                                                                                                                                           |\n",
      "+------------------------------------------------------------------------------------------------------------------------------------------------------------------------------------------------------------------------------------------------------------------------------------------------------------------------------------------------------------------------------------------------------+\n",
      "|[{document, 0, 328, {\\n    \"drugs\": [\\n        {\\n            \"name\": \"Arthrotec 50\",\\n            \"reactions\": [\\n                \"drowsy\",\\n                \"blurred vision\",\\n                \"gastric problems\"\\n            ]\\n        },\\n        {\\n            \"name\": \"75\",\\n            \"reactions\": [\\n                \"weird\"\\n            ]\\n        }\\n    ]\\n}\\n, {sentence -> 0}, []}]|\n",
      "+------------------------------------------------------------------------------------------------------------------------------------------------------------------------------------------------------------------------------------------------------------------------------------------------------------------------------------------------------------------------------------------------------+\n",
      "\n",
      "CPU times: user 115 ms, sys: 13.7 ms, total: 129 ms\n",
      "Wall time: 16.4 s\n"
     ]
    }
   ],
   "source": [
    "%%time\n",
    "results = pipeline.fit(data).transform(data).cache()\n",
    "results.select(\"completions\").show(truncate=False)"
   ]
  },
  {
   "cell_type": "code",
   "execution_count": 0,
   "metadata": {
    "application/vnd.databricks.v1+cell": {
     "cellMetadata": {
      "byteLimit": 2048000,
      "rowLimit": 10000
     },
     "inputWidgets": {},
     "nuid": "0a51c564-892b-4437-b14f-2d9b6419fcc0",
     "showTitle": false,
     "tableResultSettingsMap": {},
     "title": ""
    }
   },
   "outputs": [
    {
     "name": "stdout",
     "output_type": "stream",
     "text": [
      "{\n",
      "    \"drugs\": [\n",
      "        {\n",
      "            \"name\": \"Arthrotec 50\",\n",
      "            \"reactions\": [\n",
      "                \"drowsy\",\n",
      "                \"blurred vision\",\n",
      "                \"gastric problems\"\n",
      "            ]\n",
      "        },\n",
      "        {\n",
      "            \"name\": \"75\",\n",
      "            \"reactions\": [\n",
      "                \"weird\"\n",
      "            ]\n",
      "        }\n",
      "    ]\n",
      "}\n",
      "\n"
     ]
    }
   ],
   "source": [
    "print(results.select(\"completions\").collect()[0].completions[0].result)"
   ]
  },
  {
   "cell_type": "markdown",
   "metadata": {
    "application/vnd.databricks.v1+cell": {
     "cellMetadata": {},
     "inputWidgets": {},
     "nuid": "381b8e14-ae7e-4250-ac6e-ae6b1b55eb49",
     "showTitle": false,
     "tableResultSettingsMap": {},
     "title": ""
    }
   },
   "source": [
    "## JSL_MedS_RAG\n"
   ]
  },
  {
   "cell_type": "code",
   "execution_count": 0,
   "metadata": {
    "application/vnd.databricks.v1+cell": {
     "cellMetadata": {
      "byteLimit": 2048000,
      "rowLimit": 10000
     },
     "inputWidgets": {},
     "nuid": "ea0598ee-c57e-41ba-bb74-12ee1e6e5dfd",
     "showTitle": false,
     "tableResultSettingsMap": {},
     "title": ""
    }
   },
   "outputs": [
    {
     "name": "stdout",
     "output_type": "stream",
     "text": [
      "jsl_meds_rag_q8_v1 download started this may take some time.\n",
      "Approximate size to download 3.7 GB\n",
      "\r[ | ]\r[ / ]\r[ — ]\r[ \\ ]\r[ | ]\r[OK!]\n"
     ]
    }
   ],
   "source": [
    "document_assembler = nlp.DocumentAssembler()\\\n",
    "    .setInputCol(\"text\")\\\n",
    "    .setOutputCol(\"document\")\n",
    "\n",
    "medical_llm = medical.AutoGGUFModel.pretrained(\"jsl_meds_rag_q8_v1\", \"en\", \"clinical/models\")\\\n",
    "    .setInputCols(\"document\")\\\n",
    "    .setOutputCol(\"completions\")\\\n",
    "    .setBatchSize(1)\\\n",
    "    .setNPredict(100)\\\n",
    "    .setUseChatTemplate(True)\\\n",
    "    .setTemperature(0)\n",
    "\n",
    "\n",
    "pipeline = nlp.Pipeline(\n",
    "    stages = [\n",
    "        document_assembler,\n",
    "        medical_llm\n",
    "])"
   ]
  },
  {
   "cell_type": "code",
   "execution_count": 0,
   "metadata": {
    "application/vnd.databricks.v1+cell": {
     "cellMetadata": {
      "byteLimit": 2048000,
      "rowLimit": 10000
     },
     "inputWidgets": {},
     "nuid": "b06babfe-8df7-46b7-963f-7eeb2f64282c",
     "showTitle": false,
     "tableResultSettingsMap": {},
     "title": ""
    }
   },
   "outputs": [
    {
     "name": "stdout",
     "output_type": "stream",
     "text": [
      "+----------------------------------------------------------------------------------------------------+\n",
      "|                                                                                                text|\n",
      "+----------------------------------------------------------------------------------------------------+\n",
      "|\\n### Template:\\nUse the following pieces of context to answer the user's question. If you return...|\n",
      "+----------------------------------------------------------------------------------------------------+\n",
      "\n"
     ]
    }
   ],
   "source": [
    "prompt = \"\"\"\n",
    "### Template:\n",
    "Use the following pieces of context to answer the user's question. If you return an answer, end with 'It's my pleasure'.\n",
    "If you don't know the answer, just say that you don't know, don't try to make up an answer .\n",
    "\n",
    "\n",
    "### Context:\n",
    "'Background: Diabetes is referred to a group of diseases characterized by high glucose levels in blood. It is caused by a deficiency in the production or function of insulin or both, which can occur because of different reasons, resulting in protein and lipid metabolic disorders. The aim of this study was to systematically review the prevalence and incidence of type 1 diabetes in the world.',\n",
    "'A higher prevalence of diabetes mellitus was observed in Addis Ababa public health institutions. Factors such as age, alcohol drinking, HDL, triglycerides, and vagarious physical activity were associated with diabetes mellitus. Concerned bodies need to work over the ever-increasing diabetes mellitus in Addis Ababa.',\n",
    "\n",
    "### Questions:\n",
    "relationship between diabetes and obesity?\n",
    "\"\"\"\n",
    "\n",
    "data = spark.createDataFrame([[prompt]]).toDF(\"text\")\n",
    "data.show(truncate=100)"
   ]
  },
  {
   "cell_type": "code",
   "execution_count": 0,
   "metadata": {
    "application/vnd.databricks.v1+cell": {
     "cellMetadata": {
      "byteLimit": 2048000,
      "rowLimit": 10000
     },
     "inputWidgets": {},
     "nuid": "8fafa147-c58d-4df2-a1af-08a9923034f9",
     "showTitle": false,
     "tableResultSettingsMap": {},
     "title": ""
    }
   },
   "outputs": [
    {
     "name": "stdout",
     "output_type": "stream",
     "text": [
      "+--------------------------------------------------------------------------------------------------------------------------------------------------------------------------------------------------------------------------------------------------------------------------------------------------------------------------------------------------------------------------------------------------------------------------------------------------------------------------+\n",
      "|completions                                                                                                                                                                                                                                                                                                                                                                                                                                                               |\n",
      "+--------------------------------------------------------------------------------------------------------------------------------------------------------------------------------------------------------------------------------------------------------------------------------------------------------------------------------------------------------------------------------------------------------------------------------------------------------------------------+\n",
      "|[{document, 0, 413, \\nDiabetes and obesity are closely related conditions. Obesity is a significant risk factor for the development of type 2 diabetes. Excess body fat, particularly around the abdomen, can increase the body's resistance to insulin, leading to higher blood glucose levels. This insulin resistance can eventually result in type 2 diabetes. Additionally, obesity can exacerbate the complications associated with diabetes,, {sentence -> 0}, []}]|\n",
      "+--------------------------------------------------------------------------------------------------------------------------------------------------------------------------------------------------------------------------------------------------------------------------------------------------------------------------------------------------------------------------------------------------------------------------------------------------------------------------+\n",
      "\n",
      "CPU times: user 110 ms, sys: 6.95 ms, total: 117 ms\n",
      "Wall time: 17.6 s\n"
     ]
    }
   ],
   "source": [
    "%%time\n",
    "results = pipeline.fit(data).transform(data).cache()\n",
    "results.select(\"completions\").show(truncate=False)"
   ]
  },
  {
   "cell_type": "code",
   "execution_count": 0,
   "metadata": {
    "application/vnd.databricks.v1+cell": {
     "cellMetadata": {
      "byteLimit": 2048000,
      "rowLimit": 10000
     },
     "inputWidgets": {},
     "nuid": "22555262-c9cb-44bb-8084-f9ce88149b65",
     "showTitle": false,
     "tableResultSettingsMap": {},
     "title": ""
    }
   },
   "outputs": [
    {
     "name": "stdout",
     "output_type": "stream",
     "text": [
      "\n",
      "Diabetes and obesity are closely related conditions. Obesity is a significant risk factor for the development of type 2 diabetes. Excess body fat, particularly around the abdomen, can increase the body's resistance to insulin, leading to higher blood glucose levels. This insulin resistance can eventually result in type 2 diabetes. Additionally, obesity can exacerbate the complications associated with diabetes,\n"
     ]
    }
   ],
   "source": [
    "print(results.select(\"completions\").collect()[0].completions[0].result)"
   ]
  },
  {
   "cell_type": "markdown",
   "metadata": {
    "application/vnd.databricks.v1+cell": {
     "cellMetadata": {},
     "inputWidgets": {},
     "nuid": "3f66e035-dd7e-401c-83e6-db854e037ab2",
     "showTitle": false,
     "tableResultSettingsMap": {},
     "title": ""
    }
   },
   "source": [
    "## Medical SOAP Note Generator (Text2SOAP)"
   ]
  },
  {
   "cell_type": "code",
   "execution_count": 0,
   "metadata": {
    "application/vnd.databricks.v1+cell": {
     "cellMetadata": {
      "byteLimit": 2048000,
      "rowLimit": 10000
     },
     "inputWidgets": {},
     "nuid": "a85456e3-4028-4dd6-aa8f-cddf4de784c3",
     "showTitle": false,
     "tableResultSettingsMap": {},
     "title": ""
    }
   },
   "outputs": [
    {
     "name": "stdout",
     "output_type": "stream",
     "text": [
      "jsl_meds_text2soap_v1 download started this may take some time.\n",
      "Approximate size to download 4.6 GB\n",
      "\r[ | ]\r[ / ]\r[ — ]\r[ \\ ]\r[ | ]\r[ / ]\r[ — ]\r[OK!]\n"
     ]
    }
   ],
   "source": [
    "document_assembler = nlp.DocumentAssembler()\\\n",
    "    .setInputCol(\"text\")\\\n",
    "    .setOutputCol(\"document\")\n",
    "\n",
    "medical_llm = medical.AutoGGUFModel.pretrained(\"jsl_meds_text2soap_v1\", \"en\", \"clinical/models\")\\\n",
    "    .setInputCols(\"document\")\\\n",
    "    .setOutputCol(\"completions\")\\\n",
    "    .setBatchSize(1)\\\n",
    "    .setNPredict(1024)\\\n",
    "    .setUseChatTemplate(True)\\\n",
    "    .setTemperature(0)\\\n",
    "    .setNGpuLayers(1024)\n",
    "\n",
    "pipeline = nlp.Pipeline(\n",
    "    stages = [\n",
    "        document_assembler,\n",
    "        medical_llm\n",
    "])"
   ]
  },
  {
   "cell_type": "code",
   "execution_count": 0,
   "metadata": {
    "application/vnd.databricks.v1+cell": {
     "cellMetadata": {
      "byteLimit": 2048000,
      "rowLimit": 10000
     },
     "inputWidgets": {},
     "nuid": "75f00af4-626f-4e4b-bdaa-f1808ac7af10",
     "showTitle": false,
     "tableResultSettingsMap": {},
     "title": ""
    }
   },
   "outputs": [],
   "source": [
    "text = '''\n",
    "A 28-year-old female with a history of gestational diabetes mellitus diagnosed eight years prior to presentation and subsequent type two diabetes mellitus ( T2DM ), one prior episode of HTG-induced pancreatitis three years prior to presentation , and associated with an acute hepatitis , presented with a one-week history of polyuria , poor appetite , and vomiting .\n",
    "She was on metformin , glipizide , and dapagliflozin for T2DM and atorvastatin and gemfibrozil for HTG . She had been on dapagliflozin for six months at the time of presentation .\n",
    "Physical examination on presentation was significant for dry oral mucosa ; significantly , her abdominal examination was benign with no tenderness , guarding , or rigidity . Pertinent laboratory findings on admission were : serum glucose 111 mg/dl ,  creatinine 0.4 mg/dL , triglycerides 508 mg/dL , total cholesterol 122 mg/dL , and venous pH 7.27 .\n",
    "'''"
   ]
  },
  {
   "cell_type": "code",
   "execution_count": 0,
   "metadata": {
    "application/vnd.databricks.v1+cell": {
     "cellMetadata": {
      "byteLimit": 2048000,
      "rowLimit": 10000
     },
     "inputWidgets": {},
     "nuid": "e0324ec4-bbba-44c1-be30-bf6d39b81910",
     "showTitle": false,
     "tableResultSettingsMap": {},
     "title": ""
    }
   },
   "outputs": [
    {
     "name": "stdout",
     "output_type": "stream",
     "text": [
      "+----------------------------------------------------------------------------------------------------+\n",
      "|                                                                                                text|\n",
      "+----------------------------------------------------------------------------------------------------+\n",
      "|\\n<|im_start|>user\\nYou are an expert medical professor assisting in the creation of medically ac...|\n",
      "+----------------------------------------------------------------------------------------------------+\n",
      "\n"
     ]
    }
   ],
   "source": [
    "text_with_prompt = f\"\"\"\n",
    "<|im_start|>user\n",
    "You are an expert medical professor assisting in the creation of medically accurate SOAP summaries.\n",
    "Please ensure the response follows the structured format: S:, O:, A:, P: without using markdown or special formatting.\n",
    "Create a Medical SOAP note summary from the dialogue, following these guidelines:\n",
    "    S (Subjective): Summarize the patient's reported symptoms, including chief complaint and relevant history. Rely on the patient's statements as the primary source and ensure standardized terminology.\n",
    "    O (Objective): Highlight critical findings such as vital signs, lab results, and imaging, emphasizing important details like the side of the body affected and specific dosages. Include normal ranges where relevant.\n",
    "    A (Assessment): Offer a concise assessment combining subjective and objective data. State the primary diagnosis and any differential diagnoses, noting potential complications and the prognostic outlook.\n",
    "    P (Plan): Outline the management plan, covering medication, diet, consultations, and education. Ensure to mention necessary referrals to other specialties and address compliance challenges.\n",
    "    Considerations: Compile the report based solely on the transcript provided. Maintain confidentiality and document sensitively. Use concise medical jargon and abbreviations for effective doctor communication.\n",
    "    Please format the summary in a clean, simple list format without using markdown or bullet points. Use 'S:', 'O:', 'A:', 'P:' directly followed by the text. Avoid any styling or special characters.\n",
    "### Dialogue:\n",
    "{text}\n",
    "<|im_end|>\n",
    "<|im_start|>assistant\n",
    "\"\"\"\n",
    "\n",
    "data = spark.createDataFrame([[text_with_prompt]]).toDF(\"text\")\n",
    "data.show(truncate=100)"
   ]
  },
  {
   "cell_type": "code",
   "execution_count": 0,
   "metadata": {
    "application/vnd.databricks.v1+cell": {
     "cellMetadata": {
      "byteLimit": 2048000,
      "rowLimit": 10000
     },
     "inputWidgets": {},
     "nuid": "5e8ef8be-ebff-4e83-9701-1a5d6118619d",
     "showTitle": false,
     "tableResultSettingsMap": {},
     "title": ""
    }
   },
   "outputs": [
    {
     "name": "stdout",
     "output_type": "stream",
     "text": [
      "+---------------------------------------------------------------------------------------------------------------------------------------------------------------------------------------------------------------------------------------------------------------------------------------------------------------------------------------------------------------------------------------------------------------------------------------------------------------------------------------------------------------------------------------------------------------------------------------------------------------------------------------------------------------------------------------------------------------------------------------------------------------------------------------------------------------------------------------------------------------------------------------------------------------------------------------------------------------------------------------------------------------------------------------------------------------------------------------------------------------------------------------------------------------------------------------------------------------------------------------------------------------------------------------------------------------------------------------------------------------------------------------------------------------------------------------------------------------------------------------------------------------------------------------------------------------------------------------------------------------------------------------------------------------------------+\n",
      "|completions                                                                                                                                                                                                                                                                                                                                                                                                                                                                                                                                                                                                                                                                                                                                                                                                                                                                                                                                                                                                                                                                                                                                                                                                                                                                                                                                                                                                                                                                                                                                                                                                                                                                |\n",
      "+---------------------------------------------------------------------------------------------------------------------------------------------------------------------------------------------------------------------------------------------------------------------------------------------------------------------------------------------------------------------------------------------------------------------------------------------------------------------------------------------------------------------------------------------------------------------------------------------------------------------------------------------------------------------------------------------------------------------------------------------------------------------------------------------------------------------------------------------------------------------------------------------------------------------------------------------------------------------------------------------------------------------------------------------------------------------------------------------------------------------------------------------------------------------------------------------------------------------------------------------------------------------------------------------------------------------------------------------------------------------------------------------------------------------------------------------------------------------------------------------------------------------------------------------------------------------------------------------------------------------------------------------------------------------------+\n",
      "|[{document, 0, 1563, S: The patient is a 28-year-old female with a history of gestational diabetes mellitus diagnosed eight years ago and type two diabetes mellitus (T2DM), with a prior episode of HTG-induced pancreatitis three years ago. She presented with a one-week history of polyuria, poor appetite, and vomiting. She has been on metformin, glipizide, dapagliflozin, atorvastatin, and gemfibrozil for her conditions.\\nO: Physical examination showed dry oral mucosa but was otherwise benign with no tenderness, guarding, or rigidity. Laboratory findings revealed serum glucose at 111 mg/dL, creatinine at 0.4 mg/dL, triglycerides at 508 mg/dL, total cholesterol at 122 mg/dL, and venous pH at 7.27. She was on dapagliflozin for six months prior to presentation.\\nA: The primary diagnosis is diabetic ketoacidosis (DKA) based on the patient's symptoms of polyuria, poor appetite, vomiting, and elevated triglycerides and total cholesterol. Differential diagnoses include complications from her underlying diabetes and HTG. The patient's history of HTG-induced pancreatitis and recent use of dapagliflozin are also relevant.\\nP: The management plan includes close monitoring of her glucose levels and electrolyte balance. She will be started on intravenous insulin and hydration to treat DKA. Dietary adjustments will be made to manage her diabetes and HTG. Regular follow-up appointments will be scheduled to monitor her glucose levels and adjust her medications as necessary. Education on the importance of adherence to the treatment plan and lifestyle modifications will be provided., {sentence -> 0}, []}]|\n",
      "+---------------------------------------------------------------------------------------------------------------------------------------------------------------------------------------------------------------------------------------------------------------------------------------------------------------------------------------------------------------------------------------------------------------------------------------------------------------------------------------------------------------------------------------------------------------------------------------------------------------------------------------------------------------------------------------------------------------------------------------------------------------------------------------------------------------------------------------------------------------------------------------------------------------------------------------------------------------------------------------------------------------------------------------------------------------------------------------------------------------------------------------------------------------------------------------------------------------------------------------------------------------------------------------------------------------------------------------------------------------------------------------------------------------------------------------------------------------------------------------------------------------------------------------------------------------------------------------------------------------------------------------------------------------------------+\n",
      "\n"
     ]
    }
   ],
   "source": [
    "results = pipeline.fit(data).transform(data)\n",
    "\n",
    "results.select(\"completions\").show(truncate=False)"
   ]
  },
  {
   "cell_type": "code",
   "execution_count": 0,
   "metadata": {
    "application/vnd.databricks.v1+cell": {
     "cellMetadata": {
      "byteLimit": 2048000,
      "rowLimit": 10000
     },
     "inputWidgets": {},
     "nuid": "a22a710d-2531-43d5-9a4c-dd4b002472db",
     "showTitle": false,
     "tableResultSettingsMap": {},
     "title": ""
    }
   },
   "outputs": [
    {
     "name": "stdout",
     "output_type": "stream",
     "text": [
      "S: The patient is a 28-year-old female with a history of gestational diabetes mellitus diagnosed eight years ago and type two diabetes mellitus (T2DM), with a prior episode of HTG-induced pancreatitis three years ago. She presented with a one-week history of polyuria, poor appetite, and vomiting. She has been on metformin, glipizide, dapagliflozin, atorvastatin, and gemfibrozil for her conditions.\n",
      "O: Physical examination showed dry oral mucosa but was otherwise benign with no tenderness, guarding, or rigidity. Laboratory findings revealed serum glucose at 111 mg/dL, creatinine at 0.4 mg/dL, triglycerides at 508 mg/dL, total cholesterol at 122 mg/dL, and venous pH at 7.27. She was on dapagliflozin for six months prior to presentation.\n",
      "A: The primary diagnosis is diabetic ketoacidosis (DKA) based on the patient's symptoms of polyuria, poor appetite, vomiting, and elevated triglycerides and total cholesterol. Differential diagnoses include complications from her underlying diabetes and HTG. The patient's history of HTG-induced pancreatitis and recent use of dapagliflozin are also relevant.\n",
      "P: The management plan includes close monitoring of her glucose levels and electrolyte balance. She will be started on intravenous insulin and hydration to treat DKA. Dietary adjustments will be made to manage her diabetes and HTG. Regular follow-up appointments will be scheduled to monitor her glucose levels and adjust her medications as necessary. Education on the importance of adherence to the treatment plan and lifestyle modifications will be provided.\n"
     ]
    }
   ],
   "source": [
    "example_output  = results.select(\"completions\").collect()[0].completions[0].result\n",
    "print(example_output)"
   ]
  },
  {
   "cell_type": "markdown",
   "metadata": {
    "application/vnd.databricks.v1+cell": {
     "cellMetadata": {},
     "inputWidgets": {},
     "nuid": "1a1cf166-fa7b-48fd-8474-973212ba6332",
     "showTitle": false,
     "tableResultSettingsMap": {},
     "title": ""
    }
   },
   "source": [
    "## JSL_MedM\n",
    "\n",
    "This LLM model is trained to perform Summarization and Q&A based on a given context."
   ]
  },
  {
   "cell_type": "code",
   "execution_count": 0,
   "metadata": {
    "application/vnd.databricks.v1+cell": {
     "cellMetadata": {
      "byteLimit": 2048000,
      "rowLimit": 10000
     },
     "inputWidgets": {},
     "nuid": "06f7724c-c4d6-42db-80f1-51f7a324a6b3",
     "showTitle": false,
     "tableResultSettingsMap": {},
     "title": ""
    }
   },
   "outputs": [
    {
     "name": "stdout",
     "output_type": "stream",
     "text": [
      "jsl_medm_q8_v3 download started this may take some time.\n",
      "Approximate size to download 14 GB\n",
      "\r[ | ]\r[ / ]\r[ — ]\r[ \\ ]\r[ | ]\r[ / ]\r[ — ]\r[ \\ ]\r[ | ]\r[ / ]\r[ — ]\r[ \\ ]\r[ | ]\r[ / ]\r[ — ]\r[ \\ ]\r[ | ]\r[ / ]\r[ — ]\r[ \\ ]\r[ | ]\r[ / ]\r[ — ]\r[OK!]\n"
     ]
    }
   ],
   "source": [
    "document_assembler = nlp.DocumentAssembler()\\\n",
    "    .setInputCol(\"text\")\\\n",
    "    .setOutputCol(\"document\")\n",
    "\n",
    "medical_llm = medical.AutoGGUFModel.pretrained(\"jsl_medm_q8_v3\", \"en\", \"clinical/models\")\\\n",
    "    .setInputCols(\"document\")\\\n",
    "    .setOutputCol(\"completions\")\\\n",
    "    .setBatchSize(1)\\\n",
    "    .setNPredict(100)\\\n",
    "    .setUseChatTemplate(True)\\\n",
    "    .setTemperature(0)\\\n",
    "    #.setNGpuLayers(100) # if you have GPU\n",
    "\n",
    "pipeline = nlp.Pipeline(\n",
    "    stages = [\n",
    "        document_assembler,\n",
    "        medical_llm\n",
    "])"
   ]
  },
  {
   "cell_type": "code",
   "execution_count": 0,
   "metadata": {
    "application/vnd.databricks.v1+cell": {
     "cellMetadata": {
      "byteLimit": 2048000,
      "rowLimit": 10000
     },
     "inputWidgets": {},
     "nuid": "593c09fb-7cac-4b60-a8d2-f68495297ca3",
     "showTitle": false,
     "tableResultSettingsMap": {},
     "title": ""
    }
   },
   "outputs": [
    {
     "name": "stdout",
     "output_type": "stream",
     "text": [
      "+----------------------------------------------------------------------------------------------------+\n",
      "|                                                                                                text|\n",
      "+----------------------------------------------------------------------------------------------------+\n",
      "|\\nsummarize the following content.\\n\\n content:\\n ---------------------------- INDICATIONS AND US...|\n",
      "+----------------------------------------------------------------------------------------------------+\n",
      "\n"
     ]
    }
   ],
   "source": [
    "medm_prompt = \"\"\"\n",
    "summarize the following content.\n",
    "\n",
    " content:\n",
    " ---------------------------- INDICATIONS AND USAGE ---------------------------\n",
    " KISUNLA is an amyloid beta-directed antibody indicated for the\n",
    " treatment of Alzheimer’s disease. Treatment with KISUNLA should be\n",
    " initiated in patients with mild cognitive impairment or mild dementia\n",
    " stage of disease, the population in which treatment was initiated in the\n",
    " clinical trials. (1)\n",
    " ------------------------DOSAGE AND ADMINISTRATION-----------------------\n",
    " • Confirm the presence of amyloid beta pathology prior to initiating\n",
    " treatment. (2.1)\n",
    " • The recommended dosage of KISUNLA is 700 mg administered as\n",
    " an intravenous infusion over approximately 30 minutes every four\n",
    " weeks for the first three doses, followed by 1400 mg every four\n",
    " weeks. (2.2)\n",
    " • Consider stopping dosing with KISUNLA based on reduction of\n",
    " amyloid plaques to minimal levels on amyloid PET imaging. (2.2)\n",
    " • Obtain a recent baseline brain MRI prior to initiating treatment.\n",
    " (2.3, 5.1)\n",
    " • Obtain an MRI prior to the 2nd, 3rd, 4th, and 7th infusions. If\n",
    " radiographically observed ARIA occurs, treatment\n",
    " recommendations are based on type, severity, and presence of\n",
    " symptoms. (2.3, 5.1)\n",
    " • Dilution to a final concentration of 4 mg/mL to 10 mg/mL with 0.9%\n",
    " Sodium Chloride Injection, is required prior to administration. (2.4)\n",
    " ----------------------DOSAGE FORMS AND STRENGTHS---------------------\n",
    " Injection: 350 mg/20 mL (17.5 mg/mL) in a single-dose vial. (3)\n",
    " ------------------------------- CONTRAINDICATIONS ------------------------------\n",
    " KISUNLA is contraindicated in patients with known serious\n",
    " hypersensitivity to donanemab-azbt or to any of the excipients. (4, 5.2)\n",
    " ------------------------WARNINGS AND PRECAUTIONS-----------------------\n",
    " • Amyloid Related Imaging Abnormalities (ARIA): Enhanced clinical\n",
    " vigilance for ARIA is recommended during the first 24 weeks of\n",
    " treatment with KISUNLA. Risk of ARIA, including symptomatic\n",
    " ARIA, was increased in apolipoprotein E ε4 (ApoE ε4)\n",
    " homozygotes compared to heterozygotes and noncarriers. The risk\n",
    " of ARIA-E and ARIA-H is increased in KISUNLA-treated patients\n",
    " with pretreatment microhemorrhages and/or superficial siderosis. If\n",
    " a patient experiences symptoms suggestive of ARIA, clinical\n",
    " evaluation should be performed, including MRI scanning if\n",
    " indicated. (2.3, 5.1)\n",
    " • Infusion-Related Reactions: The infusion rate may be reduced, or\n",
    " the infusion may be discontinued, and appropriate therapy initiated\n",
    " as clinically indicated. Consider pre-treatment with antihistamines,\n",
    " acetaminophen, or corticosteroids prior to subsequent dosing. (5.3)\n",
    " -------------------------------ADVERSE REACTIONS------------------------------\n",
    " Most common adverse reactions (at least 10% and higher incidence\n",
    " compared to placebo): ARIA-E, ARIA-H microhemorrhage, ARIA-H\n",
    " superficial siderosis, and headache. (6.1)\n",
    "\"\"\"\n",
    "\n",
    "data = spark.createDataFrame([[medm_prompt]]).toDF(\"text\")\n",
    "data.show(truncate=100)"
   ]
  },
  {
   "cell_type": "code",
   "execution_count": 0,
   "metadata": {
    "application/vnd.databricks.v1+cell": {
     "cellMetadata": {
      "byteLimit": 2048000,
      "rowLimit": 10000
     },
     "inputWidgets": {},
     "nuid": "e8a2b6f4-dd59-4b0c-9fa5-c65c231e158b",
     "showTitle": false,
     "tableResultSettingsMap": {},
     "title": ""
    }
   },
   "outputs": [
    {
     "name": "stdout",
     "output_type": "stream",
     "text": [
      "+-------------------------------------------------------------------------------------------------------------------------------------------------------------------------------------------------------------------------------------------------------------------------------------------------------------------------------------------------------------------------------------------------------------------------------------------------------------------------------------------------------------------------------+\n",
      "|completions                                                                                                                                                                                                                                                                                                                                                                                                                                                                                                                    |\n",
      "+-------------------------------------------------------------------------------------------------------------------------------------------------------------------------------------------------------------------------------------------------------------------------------------------------------------------------------------------------------------------------------------------------------------------------------------------------------------------------------------------------------------------------------+\n",
      "|[{document, 0, 467, KISUNLA is an amyloid beta-directed antibody used to treat Alzheimer's disease, specifically in patients with mild cognitive impairment or mild dementia. The recommended dosage is 700 mg administered intravenously over 30 minutes every four weeks for the first three doses, followed by 1400 mg every four weeks. Treatment should be initiated after confirming the presence of amyloid beta pathology and obtaining a baseline brain MRI. The drug is available as a 350 mg/, {sentence -> 0}, []}]|\n",
      "+-------------------------------------------------------------------------------------------------------------------------------------------------------------------------------------------------------------------------------------------------------------------------------------------------------------------------------------------------------------------------------------------------------------------------------------------------------------------------------------------------------------------------------+\n",
      "\n",
      "CPU times: user 858 ms, sys: 40.1 ms, total: 899 ms\n",
      "Wall time: 1min 15s\n"
     ]
    }
   ],
   "source": [
    "%%time\n",
    "results = pipeline.fit(data).transform(data).cache()\n",
    "results.select(\"completions\").show(truncate=False)"
   ]
  },
  {
   "cell_type": "code",
   "execution_count": 0,
   "metadata": {
    "application/vnd.databricks.v1+cell": {
     "cellMetadata": {
      "byteLimit": 2048000,
      "rowLimit": 10000
     },
     "inputWidgets": {},
     "nuid": "baa4232e-65e0-4a98-a064-02b549be342d",
     "showTitle": false,
     "tableResultSettingsMap": {},
     "title": ""
    }
   },
   "outputs": [
    {
     "name": "stdout",
     "output_type": "stream",
     "text": [
      "KISUNLA is an amyloid beta-directed antibody used to treat Alzheimer's disease, specifically in patients with mild cognitive impairment or mild dementia. The recommended dosage is 700 mg administered intravenously over 30 minutes every four weeks for the first three doses, followed by 1400 mg every four weeks. Treatment should be initiated after confirming the presence of amyloid beta pathology and obtaining a baseline brain MRI. The drug is available as a 350 mg/\n"
     ]
    }
   ],
   "source": [
    "print(results.select(\"completions\").collect()[0].completions[0].result)"
   ]
  },
  {
   "cell_type": "markdown",
   "metadata": {
    "application/vnd.databricks.v1+cell": {
     "cellMetadata": {},
     "inputWidgets": {},
     "nuid": "9a0ac446-d437-4ebc-983a-f8e1235637e7",
     "showTitle": false,
     "tableResultSettingsMap": {},
     "title": ""
    }
   },
   "source": [
    "## Multimodal Process\n",
    "\n",
    "We can obtain results from PDF files using our LLM models with Reader2Doc annotators."
   ]
  },
  {
   "cell_type": "code",
   "execution_count": 0,
   "metadata": {
    "application/vnd.databricks.v1+cell": {
     "cellMetadata": {
      "byteLimit": 2048000,
      "rowLimit": 10000
     },
     "inputWidgets": {},
     "nuid": "f749bd5f-ac0b-4b6d-947d-25e1c595cddc",
     "showTitle": false,
     "tableResultSettingsMap": {},
     "title": ""
    }
   },
   "outputs": [
    {
     "name": "stdout",
     "output_type": "stream",
     "text": [
      "--2025-10-14 13:18:54--  https://raw.githubusercontent.com/JohnSnowLabs/spark-nlp-workshop/master/healthcare-nlp/data/mt_sample_01.pdf\r\n",
      "Resolving raw.githubusercontent.com (raw.githubusercontent.com)... 185.199.110.133, 185.199.111.133, 185.199.108.133, ...\r\n",
      "Connecting to raw.githubusercontent.com (raw.githubusercontent.com)|185.199.110.133|:443... connected.\r\n",
      "HTTP request sent, awaiting response... 200 OK\r\n",
      "Length: 41382 (40K) [application/octet-stream]\r\n",
      "Saving to: ‘pdf_files/mt_sample.pdf’\r\n",
      "\r\n",
      "\rpdf_files/mt_sample   0%[                    ]       0  --.-KB/s               \rpdf_files/mt_sample 100%[===================>]  40.41K  --.-KB/s    in 0.002s  \r\n",
      "\r\n",
      "2025-10-14 13:18:55 (22.2 MB/s) - ‘pdf_files/mt_sample.pdf’ saved [41382/41382]\r\n",
      "\r\n"
     ]
    }
   ],
   "source": [
    "! mkdir -p pdf_files\n",
    "\n",
    "! wget -O pdf_files/mt_sample.pdf \"https://raw.githubusercontent.com/JohnSnowLabs/spark-nlp-workshop/master/healthcare-nlp/data/mt_sample_01.pdf\""
   ]
  },
  {
   "cell_type": "code",
   "execution_count": 0,
   "metadata": {
    "application/vnd.databricks.v1+cell": {
     "cellMetadata": {
      "byteLimit": 2048000,
      "rowLimit": 10000
     },
     "inputWidgets": {},
     "nuid": "f33fb168-36bc-4494-ab71-51a416390fa0",
     "showTitle": false,
     "tableResultSettingsMap": {},
     "title": ""
    }
   },
   "outputs": [
    {
     "data": {
      "text/html": [
       "<style scoped>\n",
       "  .ansiout {\n",
       "    display: block;\n",
       "    unicode-bidi: embed;\n",
       "    white-space: pre-wrap;\n",
       "    word-wrap: break-word;\n",
       "    word-break: break-all;\n",
       "    font-family: \"Menlo\", \"Monaco\", \"Consolas\", \"Ubuntu Mono\", \"Source Code Pro\", monospace;\n",
       "    font-size: 13px;\n",
       "    color: #555;\n",
       "    margin-left: 4px;\n",
       "    line-height: 19px;\n",
       "  }\n",
       "</style>\n",
       "<div class=\"ansiout\">res0: Boolean = true\n",
       "</div>"
      ]
     },
     "metadata": {
      "application/vnd.databricks.v1+output": {
       "addedWidgets": {},
       "arguments": {},
       "data": "<div class=\"ansiout\">res0: Boolean = true\n</div>",
       "datasetInfos": [],
       "metadata": {
        "isDbfsCommandResult": false
       },
       "removedWidgets": [],
       "type": "html"
      }
     },
     "output_type": "display_data"
    }
   ],
   "source": [
    "%fs cp file:/databricks/driver/pdf_files/mt_sample.pdf dbfs:/FileStore/mt_sample.pdf\n"
   ]
  },
  {
   "cell_type": "code",
   "execution_count": 0,
   "metadata": {
    "application/vnd.databricks.v1+cell": {
     "cellMetadata": {
      "byteLimit": 2048000,
      "rowLimit": 10000
     },
     "inputWidgets": {},
     "nuid": "6ebdfc68-e6f8-4974-980b-e05f40bf7758",
     "showTitle": false,
     "tableResultSettingsMap": {},
     "title": ""
    }
   },
   "outputs": [
    {
     "name": "stdout",
     "output_type": "stream",
     "text": [
      "+-------------+---------------------------------------------------------------------------------------------------------------------------------------------------------------------------------------------------------------------------------------------------------------------------------------------------------------------------------------------------------------------------------------------------------------------------------------------------------------------------------------------------------------------------------------------------------------------------------------------------------------------------------------------------------------------------------------------------------------------------------------------------------------------------------------------------------------------------------------------------------------------------------------------------------------------------------------------------------------------------------------------------------------------------------------------------------------------------------------------------------------------------------------------------------------------------------------------------------------------------------------------------------------------------------------------------------------------------------------------------------------------------------------------------------------------------------------------------------------------------------------------------------------------------------------------------------------------------------------------------------------------------------------------------------------------------------------------------------------------------------------------------------------------------------------------------------------------------------------------------------------------------------------------------------------------------------------------------------------------------------------------------------------------------------------------------------------------------------------------------------------------------------------------------------------------------------------------------------------------------------------------------------------------------------------------------------------------------------------------------------------------------------------------------------------------------------------------------------------------------------------------------------------------------------------------------------------------------------------+---------+\n",
      "|fileName     |raw_text                                                                                                                                                                                                                                                                                                                                                                                                                                                                                                                                                                                                                                                                                                                                                                                                                                                                                                                                                                                                                                                                                                                                                                                                                                                                                                                                                                                                                                                                                                                                                                                                                                                                                                                                                                                                                                                                                                                                                                                                                                                                                                                                                                                                                                                                                                                                                                                                                                                                                                                                                                               |exception|\n",
      "+-------------+---------------------------------------------------------------------------------------------------------------------------------------------------------------------------------------------------------------------------------------------------------------------------------------------------------------------------------------------------------------------------------------------------------------------------------------------------------------------------------------------------------------------------------------------------------------------------------------------------------------------------------------------------------------------------------------------------------------------------------------------------------------------------------------------------------------------------------------------------------------------------------------------------------------------------------------------------------------------------------------------------------------------------------------------------------------------------------------------------------------------------------------------------------------------------------------------------------------------------------------------------------------------------------------------------------------------------------------------------------------------------------------------------------------------------------------------------------------------------------------------------------------------------------------------------------------------------------------------------------------------------------------------------------------------------------------------------------------------------------------------------------------------------------------------------------------------------------------------------------------------------------------------------------------------------------------------------------------------------------------------------------------------------------------------------------------------------------------------------------------------------------------------------------------------------------------------------------------------------------------------------------------------------------------------------------------------------------------------------------------------------------------------------------------------------------------------------------------------------------------------------------------------------------------------------------------------------------------+---------+\n",
      "|mt_sample.pdf|[{document, 0, 31, Sample Type / Medical Specialty:, {}, []}, {document, 32, 52, Hematology - Oncology, {}, []}, {document, 53, 64, Sample Name:, {}, []}, {document, 65, 100, Discharge Summary - Mesothelioma - 1, {}, []}, {document, 101, 142, Record date: 2093-01-13, David Hale, M.D.,, {}, []}, {document, 143, 178, Name: Hendrickson, Ora MR. # 7194334, {}, []}, {document, 179, 189, Descrip7on:, {}, []}, {document, 190, 277, Mesothelioma, pleural eﬀusion, atrial ﬁbrillaIon, anemia, ascites, esophageal reﬂux, and, {}, []}, {document, 278, 311, history of deep venous thrombosis., {}, []}, {document, 312, 347, (Medical TranscripIon Sample Report), {}, []}, {document, 348, 367, PRINCIPAL DIAGNOSIS:, {}, []}, {document, 368, 380, Mesothelioma., {}, []}, {document, 381, 400, SECONDARY DIAGNOSES:, {}, []}, {document, 401, 490, Pleural eﬀusion, atrial ﬁbrillaIon, anemia, ascites, esophageal reﬂux, and history of deep, {}, []}, {document, 491, 508, venous thrombosis., {}, []}, {document, 509, 518, PROCEDURES, {}, []}, {document, 519, 601, 1. On August 24, 2007, decorIcaIon of the lung with pleural biopsy and transpleural, {}, []}, {document, 602, 612, ﬂuoroscopy., {}, []}, {document, 613, 649, 2. On August 20, 2007, thoracentesis., {}, []}, {document, 650, 694, 3. On August 31, 2007, Port-A-Cath placement., {}, []}, {document, 695, 715, HISTORY AND PHYSICAL:, {}, []}, {document, 716, 804, The paIent is a 41-year-old Vietnamese female with a nonproducIve cough that started last, {}, []}, {document, 805, 895, week. She has had right-sided chest pain radiaIng to her back with fever starIng yesterday., {}, []}, {document, 896, 983, She has a history of pericardiIs and pericardectomy in May 2006 and developed cough with, {}, []}, {document, 984, 1074, right-sided chest pain, and went to an urgent care center. Chest x-ray revealed right-sided, {}, []}, {document, 1075, 1090, pleural eﬀusion., {}, []}, {document, 1091, 1110, PAST MEDICAL HISTORY, {}, []}, {document, 1111, 1128, 1. Pericardectomy., {}, []}, {document, 1129, 1143, 2. PericardiIs., {}, []}, {document, 1144, 1164, 2. Atrial ﬁbrillaIon., {}, []}, {document, 1165, 1212, 4. RNCA with intracranial thrombolyIc treatment., {}, []}, {document, 1213, 1225, 5 PTA of MCA., {}, []}, {document, 1226, 1257, 6. Mesenteric venous thrombosis., {}, []}, {document, 1258, 1279, 7. Pericardial window., {}, []}, {document, 1280, 1298, 8. Cholecystectomy., {}, []}, {document, 1299, 1319, 9. LeZ thoracentesis., {}, []}]|NULL     |\n",
      "+-------------+---------------------------------------------------------------------------------------------------------------------------------------------------------------------------------------------------------------------------------------------------------------------------------------------------------------------------------------------------------------------------------------------------------------------------------------------------------------------------------------------------------------------------------------------------------------------------------------------------------------------------------------------------------------------------------------------------------------------------------------------------------------------------------------------------------------------------------------------------------------------------------------------------------------------------------------------------------------------------------------------------------------------------------------------------------------------------------------------------------------------------------------------------------------------------------------------------------------------------------------------------------------------------------------------------------------------------------------------------------------------------------------------------------------------------------------------------------------------------------------------------------------------------------------------------------------------------------------------------------------------------------------------------------------------------------------------------------------------------------------------------------------------------------------------------------------------------------------------------------------------------------------------------------------------------------------------------------------------------------------------------------------------------------------------------------------------------------------------------------------------------------------------------------------------------------------------------------------------------------------------------------------------------------------------------------------------------------------------------------------------------------------------------------------------------------------------------------------------------------------------------------------------------------------------------------------------------------------+---------+\n",
      "\n"
     ]
    }
   ],
   "source": [
    "from sparknlp.reader.reader2doc import Reader2Doc\n",
    "\n",
    "reader2doc = Reader2Doc() \\\n",
    "    .setContentType(\"application/pdf\")\\\n",
    "    .setContentPath(\"dbfs:/FileStore/mt_sample.pdf\")\\\n",
    "    .setOutputCol(\"raw_text\")\\\n",
    "    .setExplodeDocs(False)\\\n",
    "    .setFlattenOutput(True)\\\n",
    "    .setOutputFormat(\"plain-text\")\n",
    "\n",
    "pipeline = nlp.Pipeline(stages=[reader2doc])\n",
    "\n",
    "empty_df = spark.createDataFrame([], \"string\").toDF(\"text\")\n",
    "\n",
    "model = pipeline.fit(empty_df)\n",
    "\n",
    "result_df = model.transform(empty_df)\n",
    "\n",
    "result_df.show(truncate=False)"
   ]
  },
  {
   "cell_type": "code",
   "execution_count": 0,
   "metadata": {
    "application/vnd.databricks.v1+cell": {
     "cellMetadata": {
      "byteLimit": 2048000,
      "rowLimit": 10000
     },
     "inputWidgets": {},
     "nuid": "bfb4b3e3-5a2d-416a-bbbc-4c18648371f0",
     "showTitle": false,
     "tableResultSettingsMap": {},
     "title": ""
    }
   },
   "outputs": [
    {
     "name": "stdout",
     "output_type": "stream",
     "text": [
      "jsl_meds_ner_vlm_2b_q16_v1 download started this may take some time.\n",
      "Approximate size to download 3.3 GB\n",
      "\r[ | ]\r[ / ]\r[ — ]\r[ \\ ]\r[ | ]\r[ / ]\r[ — ]\r[ \\ ]\r[ | ]\r[ / ]\r[ — ]\r[ \\ ]\r[ | ]\r[ / ]\r[ — ]\r[ \\ ]\r[ | ]\r[ / ]\r[ — ]\r[ \\ ]\r[ | ]\r[ / ]\r[ — ]\r[ \\ ]\r[ | ]\r[ / ]\r[ — ]\r[ \\ ]\r[ | ]\r[ / ]\r[ — ]\r[ \\ ]\r[ | ]\r[ / ]\r[ — ]\r[ \\ ]\r[ | ]\r[ / ]\r[ — ]\r[ \\ ]\r[ | ]\r[ / ]\r[ — ]\r[ \\ ]\r[ | ]\r[ / ]\r[ — ]\r[ \\ ]\r[ | ]\r[ / ]\r[ — ]\r[ \\ ]\r[ | ]\r[ / ]\r[ — ]\r[ \\ ]\r[ | ]\r[ / ]\r[ — ]\r[ \\ ]\r[ | ]\r[ / ]\r[ — ]\r[ \\ ]\r[ | ]\r[ / ]\r[ — ]\r[ \\ ]\r[ | ]\r[ / ]\r[ — ]\r[ \\ ]\r[ | ]\r[ / ]\r[ — ]\r[ \\ ]\r[ | ]\r[ / ]\r[ — ]\r[ \\ ]\r[ | ]\r[ / ]\r[ — ]\r[ \\ ]\r[ | ]\r[ / ]\r[ — ]\r[ \\ ]\r[ | ]\r[ / ]\r[ — ]\r[ \\ ]\r[ | ]\r[ / ]\r[ — ]\r[ \\ ]\r[ | ]\r[ / ]\r[ — ]\r[ \\ ]\r[ | ]\r[ / ]\r[ — ]\r[ \\ ]\r[ | ]\r[ / ]\r[ — ]\r[ \\ ]\r[ | ]\r[ / ]\r[ — ]\r[ \\ ]\r[ | ]\r[ / ]\r[ — ]\r[ \\ ]\r[ | ]\r[ / ]\r[ — ]\r[ \\ ]\r[ | ]\r[ / ]\r[ — ]\r[ \\ ]\r[OK!]\n"
     ]
    }
   ],
   "source": [
    "prompt = \"\"\"\n",
    "### Template:\n",
    "{\n",
    "  \"clinical\":\n",
    "    [\n",
    "        \"disease\":[],\n",
    "        \"sympthom\":[]\n",
    "    ],\n",
    "\n",
    "  \"demographic\":\n",
    "    [\n",
    "        \"name\":[],\n",
    "        \"date\":[],\n",
    "        \"id\":[]\n",
    "    ]\n",
    "}\n",
    "### Text:\n",
    "\"\"\"\n",
    "\n",
    "medical_llm = medical.AutoGGUFModel.pretrained(\"jsl_meds_ner_vlm_2b_q16_v1\", \"en\", \"clinical/models\")\\\n",
    "    .setInputCols(\"document\")\\\n",
    "    .setOutputCol(\"completions\")\\\n",
    "    .setBatchSize(1)\\\n",
    "    .setNPredict(10000)\\\n",
    "    .setUseChatTemplate(True)\\\n",
    "    .setTemperature(0)\\\n",
    "    .setNGpuLayers(100)"
   ]
  },
  {
   "cell_type": "markdown",
   "metadata": {
    "application/vnd.databricks.v1+cell": {
     "cellMetadata": {},
     "inputWidgets": {},
     "nuid": "8223217b-5f61-4898-87ba-fc396d9f9746",
     "showTitle": false,
     "tableResultSettingsMap": {},
     "title": ""
    }
   },
   "source": [
    "**`custom_llm_preprocessor`** is a function designed to help you transform annotations within a DataFrame. We modify the relevant Spark DF by adding the NER prompt as a prefix to the input column."
   ]
  },
  {
   "cell_type": "code",
   "execution_count": 0,
   "metadata": {
    "application/vnd.databricks.v1+cell": {
     "cellMetadata": {
      "byteLimit": 2048000,
      "rowLimit": 10000
     },
     "inputWidgets": {},
     "nuid": "b1fc9e73-8da9-4d0f-92ae-8f51a2950f44",
     "showTitle": false,
     "tableResultSettingsMap": {},
     "title": ""
    }
   },
   "outputs": [],
   "source": [
    "def custom_llm_preprocessor(annotations):\n",
    "    new_annotations = []\n",
    "    flattened_docs = \"\"\n",
    "\n",
    "    for annotation in annotations: # annotations here are document annotations\n",
    "        document_text = annotation.result\n",
    "        if document_text:\n",
    "            flattened_docs +=  (\"\\n\" + document_text)\n",
    "    result =  prompt + flattened_docs\n",
    "    absolute_end = len(result)\n",
    "    new_annotations.append(\n",
    "        nlp.Annotation(\n",
    "            annotatorType=\"document\",  # Sentence annotations are typically 'document' type\n",
    "            begin=0,\n",
    "            end=absolute_end -1 ,\n",
    "            result=result,\n",
    "            metadata=annotation.metadata,\n",
    "            embeddings=annotation.embeddings,\n",
    "        )\n",
    "    )\n",
    "    return new_annotations"
   ]
  },
  {
   "cell_type": "code",
   "execution_count": 0,
   "metadata": {
    "application/vnd.databricks.v1+cell": {
     "cellMetadata": {
      "byteLimit": 2048000,
      "rowLimit": 10000
     },
     "inputWidgets": {},
     "nuid": "02fd8887-f256-473a-b883-e1be0a4c83df",
     "showTitle": false,
     "tableResultSettingsMap": {},
     "title": ""
    }
   },
   "outputs": [
    {
     "name": "stdout",
     "output_type": "stream",
     "text": [
      "\n"
     ]
    }
   ],
   "source": [
    "custom_llm_preprocessor_converter = medical.AnnotationConverter(f=custom_llm_preprocessor)\\\n",
    "    .setInputCol(\"raw_text\")\\\n",
    "    .setOutputCol(\"document\")\\\n",
    "    .setOutputAnnotatorType(\"document\") # Output type is 'document' for sentences\n",
    "\n",
    "pipeline = nlp.Pipeline(\n",
    "    stages=[\n",
    "        reader2doc,\n",
    "        custom_llm_preprocessor_converter,\n",
    "        medical_llm\n",
    "])"
   ]
  },
  {
   "cell_type": "code",
   "execution_count": 0,
   "metadata": {
    "application/vnd.databricks.v1+cell": {
     "cellMetadata": {
      "byteLimit": 2048000,
      "rowLimit": 10000
     },
     "inputWidgets": {},
     "nuid": "51cb57ba-b7a7-4ba0-bb64-9ce7287e8cde",
     "showTitle": false,
     "tableResultSettingsMap": {},
     "title": ""
    }
   },
   "outputs": [],
   "source": [
    "empty_df = spark.createDataFrame([], \"string\").toDF(\"text\")\n",
    "\n",
    "result_df = pipeline.fit(empty_df).transform(empty_df).cache()"
   ]
  },
  {
   "cell_type": "code",
   "execution_count": 0,
   "metadata": {
    "application/vnd.databricks.v1+cell": {
     "cellMetadata": {
      "byteLimit": 2048000,
      "rowLimit": 10000
     },
     "inputWidgets": {},
     "nuid": "49ba5202-0000-4eda-a9ad-c0e024c84573",
     "showTitle": false,
     "tableResultSettingsMap": {},
     "title": ""
    }
   },
   "outputs": [
    {
     "name": "stdout",
     "output_type": "stream",
     "text": [
      "CPU times: user 709 µs, sys: 3.23 ms, total: 3.94 ms\n",
      "Wall time: 308 ms\n"
     ]
    }
   ],
   "source": [
    "%%time\n",
    "collected_result = result_df.collect()"
   ]
  },
  {
   "cell_type": "code",
   "execution_count": 0,
   "metadata": {
    "application/vnd.databricks.v1+cell": {
     "cellMetadata": {
      "byteLimit": 2048000,
      "rowLimit": 10000
     },
     "inputWidgets": {},
     "nuid": "5fbc5477-11a7-49e5-95c9-d98840e0b0f5",
     "showTitle": false,
     "tableResultSettingsMap": {},
     "title": ""
    }
   },
   "outputs": [
    {
     "name": "stdout",
     "output_type": "stream",
     "text": [
      "+-------------+---------------------------------------------------------------------------------------------------------------------------------------------------------------------------------------------------------------------------------------------------------------------------------------------------------------------------------------------------------------------------------------------------------------------------------------------------------------------------------------------------------------------------------------------------------------------------------------------------------------------------------------------------------------------------------------------------------------------------------------------------------------------------------------------------------------------------------------------------------------------------------------------------------------------------------------------------------------------------------------------------------------------------------------------------------------------------------------------------------------------------------------------------------------------------------------------------------------------------------------------------------------------------------------------------------------------------------------------------------------------------------------------------------------------------------------------------------------------------------------------------------------------------------------------------------------------------------------------------------------------------------------------------------------------------------------------------------------------------------------------------------------------------------------------------------------------------------------------------------------------------------------------------------------------------------------------------------------------------------------------------------------------------------------------------------------------------------------------------------------------------------------------------------------------------------------------------------------------------------------------------------------------------------------------------------------------------------------------------------------------------------------------------------------------------------------------------------------------------------------------------------------------------------------------------------------------------------------+---------+\n",
      "|fileName     |raw_text                                                                                                                                                                                                                                                                                                                                                                                                                                                                                                                                                                                                                                                                                                                                                                                                                                                                                                                                                                                                                                                                                                                                                                                                                                                                                                                                                                                                                                                                                                                                                                                                                                                                                                                                                                                                                                                                                                                                                                                                                                                                                                                                                                                                                                                                                                                                                                                                                                                                                                                                                                               |exception|\n",
      "+-------------+---------------------------------------------------------------------------------------------------------------------------------------------------------------------------------------------------------------------------------------------------------------------------------------------------------------------------------------------------------------------------------------------------------------------------------------------------------------------------------------------------------------------------------------------------------------------------------------------------------------------------------------------------------------------------------------------------------------------------------------------------------------------------------------------------------------------------------------------------------------------------------------------------------------------------------------------------------------------------------------------------------------------------------------------------------------------------------------------------------------------------------------------------------------------------------------------------------------------------------------------------------------------------------------------------------------------------------------------------------------------------------------------------------------------------------------------------------------------------------------------------------------------------------------------------------------------------------------------------------------------------------------------------------------------------------------------------------------------------------------------------------------------------------------------------------------------------------------------------------------------------------------------------------------------------------------------------------------------------------------------------------------------------------------------------------------------------------------------------------------------------------------------------------------------------------------------------------------------------------------------------------------------------------------------------------------------------------------------------------------------------------------------------------------------------------------------------------------------------------------------------------------------------------------------------------------------------------------+---------+\n",
      "|mt_sample.pdf|[{document, 0, 31, Sample Type / Medical Specialty:, {}, []}, {document, 32, 52, Hematology - Oncology, {}, []}, {document, 53, 64, Sample Name:, {}, []}, {document, 65, 100, Discharge Summary - Mesothelioma - 1, {}, []}, {document, 101, 142, Record date: 2093-01-13, David Hale, M.D.,, {}, []}, {document, 143, 178, Name: Hendrickson, Ora MR. # 7194334, {}, []}, {document, 179, 189, Descrip7on:, {}, []}, {document, 190, 277, Mesothelioma, pleural eﬀusion, atrial ﬁbrillaIon, anemia, ascites, esophageal reﬂux, and, {}, []}, {document, 278, 311, history of deep venous thrombosis., {}, []}, {document, 312, 347, (Medical TranscripIon Sample Report), {}, []}, {document, 348, 367, PRINCIPAL DIAGNOSIS:, {}, []}, {document, 368, 380, Mesothelioma., {}, []}, {document, 381, 400, SECONDARY DIAGNOSES:, {}, []}, {document, 401, 490, Pleural eﬀusion, atrial ﬁbrillaIon, anemia, ascites, esophageal reﬂux, and history of deep, {}, []}, {document, 491, 508, venous thrombosis., {}, []}, {document, 509, 518, PROCEDURES, {}, []}, {document, 519, 601, 1. On August 24, 2007, decorIcaIon of the lung with pleural biopsy and transpleural, {}, []}, {document, 602, 612, ﬂuoroscopy., {}, []}, {document, 613, 649, 2. On August 20, 2007, thoracentesis., {}, []}, {document, 650, 694, 3. On August 31, 2007, Port-A-Cath placement., {}, []}, {document, 695, 715, HISTORY AND PHYSICAL:, {}, []}, {document, 716, 804, The paIent is a 41-year-old Vietnamese female with a nonproducIve cough that started last, {}, []}, {document, 805, 895, week. She has had right-sided chest pain radiaIng to her back with fever starIng yesterday., {}, []}, {document, 896, 983, She has a history of pericardiIs and pericardectomy in May 2006 and developed cough with, {}, []}, {document, 984, 1074, right-sided chest pain, and went to an urgent care center. Chest x-ray revealed right-sided, {}, []}, {document, 1075, 1090, pleural eﬀusion., {}, []}, {document, 1091, 1110, PAST MEDICAL HISTORY, {}, []}, {document, 1111, 1128, 1. Pericardectomy., {}, []}, {document, 1129, 1143, 2. PericardiIs., {}, []}, {document, 1144, 1164, 2. Atrial ﬁbrillaIon., {}, []}, {document, 1165, 1212, 4. RNCA with intracranial thrombolyIc treatment., {}, []}, {document, 1213, 1225, 5 PTA of MCA., {}, []}, {document, 1226, 1257, 6. Mesenteric venous thrombosis., {}, []}, {document, 1258, 1279, 7. Pericardial window., {}, []}, {document, 1280, 1298, 8. Cholecystectomy., {}, []}, {document, 1299, 1319, 9. LeZ thoracentesis., {}, []}]|NULL     |\n",
      "+-------------+---------------------------------------------------------------------------------------------------------------------------------------------------------------------------------------------------------------------------------------------------------------------------------------------------------------------------------------------------------------------------------------------------------------------------------------------------------------------------------------------------------------------------------------------------------------------------------------------------------------------------------------------------------------------------------------------------------------------------------------------------------------------------------------------------------------------------------------------------------------------------------------------------------------------------------------------------------------------------------------------------------------------------------------------------------------------------------------------------------------------------------------------------------------------------------------------------------------------------------------------------------------------------------------------------------------------------------------------------------------------------------------------------------------------------------------------------------------------------------------------------------------------------------------------------------------------------------------------------------------------------------------------------------------------------------------------------------------------------------------------------------------------------------------------------------------------------------------------------------------------------------------------------------------------------------------------------------------------------------------------------------------------------------------------------------------------------------------------------------------------------------------------------------------------------------------------------------------------------------------------------------------------------------------------------------------------------------------------------------------------------------------------------------------------------------------------------------------------------------------------------------------------------------------------------------------------------------------+---------+\n",
      "\n"
     ]
    }
   ],
   "source": [
    "result_df.show(truncate=False)\n"
   ]
  },
  {
   "cell_type": "code",
   "execution_count": 0,
   "metadata": {
    "application/vnd.databricks.v1+cell": {
     "cellMetadata": {
      "byteLimit": 2048000,
      "rowLimit": 10000
     },
     "inputWidgets": {},
     "nuid": "30cf8b9c-d97e-467f-91cf-5e15a0dcbcf8",
     "showTitle": false,
     "tableResultSettingsMap": {},
     "title": ""
    }
   },
   "outputs": [
    {
     "name": "stdout",
     "output_type": "stream",
     "text": [
      "Sample Type / Medical Specialty:\n"
     ]
    }
   ],
   "source": [
    "collected_result = result_df.collect()\n",
    "print(collected_result[0].raw_text[0].result)\n"
   ]
  },
  {
   "cell_type": "code",
   "execution_count": 0,
   "metadata": {
    "application/vnd.databricks.v1+cell": {
     "cellMetadata": {
      "byteLimit": 2048000,
      "rowLimit": 10000
     },
     "inputWidgets": {},
     "nuid": "10ec56c6-c001-4456-b55a-06313e6e1095",
     "showTitle": false,
     "tableResultSettingsMap": {},
     "title": ""
    }
   },
   "outputs": [
    {
     "name": "stdout",
     "output_type": "stream",
     "text": [
      "Sample Type / Medical Specialty:\n",
      "Hematology - Oncology\n",
      "Sample Name:\n",
      "Discharge Summary - Mesothelioma - 1\n",
      "Record date: 2093-01-13, David Hale, M.D.,\n",
      "Name: Hendrickson, Ora MR. # 7194334\n",
      "Descrip7on:\n",
      "Mesothelioma, pleural eﬀusion, atrial ﬁbrillaIon, anemia, ascites, esophageal reﬂux, and\n",
      "history of deep venous thrombosis.\n",
      "(Medical TranscripIon Sample Report)\n",
      "PRINCIPAL DIAGNOSIS:\n",
      "Mesothelioma.\n",
      "SECONDARY DIAGNOSES:\n",
      "Pleural eﬀusion, atrial ﬁbrillaIon, anemia, ascites, esophageal reﬂux, and history of deep\n",
      "venous thrombosis.\n",
      "PROCEDURES\n",
      "1. On August 24, 2007, decorIcaIon of the lung with pleural biopsy and transpleural\n",
      "ﬂuoroscopy.\n",
      "2. On August 20, 2007, thoracentesis.\n",
      "3. On August 31, 2007, Port-A-Cath placement.\n",
      "HISTORY AND PHYSICAL:\n",
      "The paIent is a 41-year-old Vietnamese female with a nonproducIve cough that started last\n",
      "week. She has had right-sided chest pain radiaIng to her back with fever starIng yesterday.\n",
      "She has a history of pericardiIs and pericardectomy in May 2006 and developed cough with\n",
      "right-sided chest pain, and went to an urgent care center. Chest x-ray revealed right-sided\n",
      "pleural eﬀusion.\n",
      "PAST MEDICAL HISTORY\n",
      "1. Pericardectomy.\n",
      "2. PericardiIs.\n",
      "2. Atrial ﬁbrillaIon.\n",
      "4. RNCA with intracranial thrombolyIc treatment.\n",
      "5 PTA of MCA.\n",
      "6. Mesenteric venous thrombosis.\n",
      "7. Pericardial window.\n",
      "8. Cholecystectomy.\n",
      "9. LeZ thoracentesis.\n"
     ]
    }
   ],
   "source": [
    "for page in collected_result[0].raw_text:\n",
    "    print(page.result)\n"
   ]
  },
  {
   "cell_type": "markdown",
   "metadata": {
    "application/vnd.databricks.v1+cell": {
     "cellMetadata": {},
     "inputWidgets": {},
     "nuid": "38c0f351-fedd-4fe4-81ec-300bdb19a0fd",
     "showTitle": false,
     "tableResultSettingsMap": {},
     "title": ""
    }
   },
   "source": [
    "## Pretrained Pipeline"
   ]
  },
  {
   "cell_type": "markdown",
   "metadata": {
    "application/vnd.databricks.v1+cell": {
     "cellMetadata": {},
     "inputWidgets": {},
     "nuid": "0fc4d566-5332-4fd9-9b09-f9169e685614",
     "showTitle": false,
     "tableResultSettingsMap": {},
     "title": ""
    }
   },
   "source": [
    "| Model Name                                                            |      Description            |\n",
    "|-----------------------------------------------------------------------|-----------------------------|\n",
    "| [`jsl_meds_4b_q16_v4_pipeline`](https://nlp.johnsnowlabs.com/2025/08/16/jsl_meds_4b_q16_v4_pipeline_en.html) |  Q&A, NER, Summarization, RAG, and Chat. |\n",
    "| [`jsl_meds_8b_q8_v4_pipeline`](https://nlp.johnsnowlabs.com/2025/08/16/jsl_meds_8b_q8_v4_pipeline_en.html) |  Q&A, NER, Summarization, RAG, and Chat. |\n",
    "| [`jsl_meds_ner_2b_q16_v2_pipeline`](https://nlp.johnsnowlabs.com/2025/08/16/jsl_meds_ner_2b_q16_v2_pipeline_en.html) |  Q&A, NER, Summarization, RAG, and Chat. |\n",
    "| [`jsl_meds_ner_q16_v4_pipeline`](https://nlp.johnsnowlabs.com/2025/08/16/jsl_meds_ner_q16_v4_pipeline_en.html) |  Q&A, NER |\n",
    "| [`jsl_meds_ner_vlm_2b_q16_v2_pipeline`](https://nlp.johnsnowlabs.com/2025/08/16/jsl_meds_ner_vlm_2b_q16_v2_pipeline_en.html) |  Q&A, NER |"
   ]
  },
  {
   "cell_type": "code",
   "execution_count": 0,
   "metadata": {
    "application/vnd.databricks.v1+cell": {
     "cellMetadata": {
      "byteLimit": 2048000,
      "rowLimit": 10000
     },
     "inputWidgets": {},
     "nuid": "f330178e-ab57-4ee9-997b-89d38d45ebf9",
     "showTitle": false,
     "tableResultSettingsMap": {},
     "title": ""
    }
   },
   "outputs": [
    {
     "name": "stdout",
     "output_type": "stream",
     "text": [
      "jsl_meds_ner_2b_q16_v2_pipeline download started this may take some time.\n",
      "Approx size to download 2.3 GB\n",
      "\r[ | ]\r[ / ]\r[ — ]\r[ \\ ]\r[ | ]\r[ / ]\r[ — ]\r[ \\ ]\r[ | ]\r[ / ]\r[ — ]\r[ \\ ]\r[ | ]\r[ / ]\r[ — ]\r[ \\ ]\r[ | ]\r[ / ]\r[ — ]\r[ \\ ]\r[ | ]\r[ / ]\r[ — ]\r[ \\ ]\r[ | ]\r[ / ]\r[ — ]\r[ \\ ]\r[ | ]\r[ / ]\r[ — ]\r[ \\ ]\r[ | ]\r[ / ]\r[ — ]\r[ \\ ]\r[ | ]\r[ / ]\r[ — ]\r[ \\ ]\r[ | ]\r[ / ]\r[ — ]\r[ \\ ]\r[ | ]\r[ / ]\r[ — ]\r[ \\ ]\r[ | ]\r[ / ]\r[ — ]\r[ \\ ]\r[ | ]\r[ / ]\r[ — ]\r[ \\ ]\r[ | ]\r[ / ]\r[ — ]\r[ \\ ]\r[ | ]\r[ / ]\r[ — ]\r[ \\ ]\r[ | ]\r[ / ]\r[ — ]\r[ \\ ]\r[ | ]\r[ / ]\r[ — ]\r[ \\ ]\r[ | ]\r[ / ]\r[ — ]\r[ \\ ]\r[ | ]\r[ / ]\r[ — ]\r[ \\ ]\r[ | ]\r[ / ]\r[ — ]\r[ \\ ]\r[ | ]\r[ / ]\r[ — ]\r[ \\ ]\r[OK!]\n"
     ]
    }
   ],
   "source": [
    "pipeline = nlp.PretrainedPipeline(\"jsl_meds_ner_2b_q16_v2_pipeline\", \"en\", \"clinical/models\")"
   ]
  },
  {
   "cell_type": "code",
   "execution_count": 0,
   "metadata": {
    "application/vnd.databricks.v1+cell": {
     "cellMetadata": {
      "byteLimit": 2048000,
      "rowLimit": 10000
     },
     "inputWidgets": {},
     "nuid": "0cf2011d-51c5-438b-87e8-d827f48359d2",
     "showTitle": false,
     "tableResultSettingsMap": {},
     "title": ""
    }
   },
   "outputs": [
    {
     "name": "stdout",
     "output_type": "stream",
     "text": [
      "+----------------------------------------------------------------------------------------------------+\n",
      "|                                                                                                text|\n",
      "+----------------------------------------------------------------------------------------------------+\n",
      "|\\n# Template:\\n{\\n  \"Patient Name\": \"string\",\\n  \"Patient Age\": \"integer\",\\n  \"Patient Gender\": \"...|\n",
      "+----------------------------------------------------------------------------------------------------+\n",
      "\n"
     ]
    }
   ],
   "source": [
    "text = \"\"\"\n",
    "# Template:\n",
    "{\n",
    "  \"Patient Name\": \"string\",\n",
    "  \"Patient Age\": \"integer\",\n",
    "  \"Patient Gender\": \"string\",\n",
    "  \"Hospital Number\": \"string\",\n",
    "  \"Episode Number\": \"string\",\n",
    "  \"Episode Date\": \"date-time\"\n",
    "}\n",
    "# Context:\n",
    "The patient, Johnathan Miller, is a 54-year-old male admitted under hospital number HN382914.\n",
    "His most recent episode number is EP2024-1178, recorded on 2025-08-10.\n",
    "The patient presented with chronic knee pain and swelling.\n",
    "Past medical history includes hypertension and type 2 diabetes.\n",
    "\"\"\"\n",
    "\n",
    "data = spark.createDataFrame([[text]]).toDF(\"text\")\n",
    "data.show(truncate=100)"
   ]
  },
  {
   "cell_type": "code",
   "execution_count": 0,
   "metadata": {
    "application/vnd.databricks.v1+cell": {
     "cellMetadata": {
      "byteLimit": 2048000,
      "rowLimit": 10000
     },
     "inputWidgets": {},
     "nuid": "1cc075b8-dece-4d4c-ac54-acdd2e3938bb",
     "showTitle": false,
     "tableResultSettingsMap": {},
     "title": ""
    }
   },
   "outputs": [
    {
     "name": "stdout",
     "output_type": "stream",
     "text": [
      "+--------------------------------------------------------------------------------------------------------------------------------------------------------------------------------------------------------------------------+\n",
      "|completions                                                                                                                                                                                                               |\n",
      "+--------------------------------------------------------------------------------------------------------------------------------------------------------------------------------------------------------------------------+\n",
      "|[{document, 0, 174, {\"Patient Name\": \"Johnathan Miller\", \"Patient Age\": 54, \"Patient Gender\": \"male\", \"Hospital Number\": \"HN382914\", \"Episode Number\": \"EP2024-1178\", \"Episode Date\": \"2025-08-10\"}, {sentence -> 0}, []}]|\n",
      "+--------------------------------------------------------------------------------------------------------------------------------------------------------------------------------------------------------------------------+\n",
      "\n",
      "CPU times: user 10.3 ms, sys: 5.35 ms, total: 15.6 ms\n",
      "Wall time: 9.08 s\n"
     ]
    }
   ],
   "source": [
    "%%time\n",
    "results = pipeline.transform(data).cache()\n",
    "results.select(\"completions\").show(truncate=False)"
   ]
  },
  {
   "cell_type": "markdown",
   "metadata": {
    "application/vnd.databricks.v1+cell": {
     "cellMetadata": {},
     "inputWidgets": {},
     "nuid": "8a1dedcc-8975-4910-bdbf-6d25a7018b87",
     "showTitle": false,
     "tableResultSettingsMap": {},
     "title": ""
    }
   },
   "source": [
    "# LLMLoader"
   ]
  },
  {
   "cell_type": "markdown",
   "metadata": {
    "application/vnd.databricks.v1+cell": {
     "cellMetadata": {},
     "inputWidgets": {},
     "nuid": "9c508523-9530-498d-a82a-a661ec8925fb",
     "showTitle": false,
     "tableResultSettingsMap": {},
     "title": ""
    }
   },
   "source": [
    "`LLMLoader` is designed to interact with a LLMs that are converted into gguf format. This module allows using John Snow Labs' licensed LLMs at various sizes that are finetuned on medical context for certain tasks. It provides various methods for setting parameters, loading models, generating text, and retrieving metadata. The `LLMLoader` includes methods for setting various parameters such as input prefix, suffix, cache prompt, number of tokens to predict, sampling techniques, temperature, penalties, and more. Overall, the `LLMLoader`  provides a flexible and extensible framework for interacting with language models in a Python and Scala environment using PySpark and Java.\n",
    "\n",
    "The `LLMLoader`, now based on the llama cpp dependency, allows loading models (either `AutoGGUFModel` or `MedicalLLM`) via pretrained and load methods. It can also load any other gguf model outside of the Models Hub. It automatically detects whether a model is licensed and can also load GGUF files directly using the `loadGGUF` method. This streamlines model loading and usage without requiring the inclusion of the llama cpp dependency."
   ]
  },
  {
   "cell_type": "markdown",
   "metadata": {
    "application/vnd.databricks.v1+cell": {
     "cellMetadata": {},
     "inputWidgets": {},
     "nuid": "f953c321-14f2-4fec-9356-98798f6097a5",
     "showTitle": false,
     "tableResultSettingsMap": {},
     "title": ""
    }
   },
   "source": [
    "## JSL_MedS\n",
    "\n",
    "\n",
    "This LLM model is trained to perform Summarization and Q&A based on a given context."
   ]
  },
  {
   "cell_type": "code",
   "execution_count": 0,
   "metadata": {
    "application/vnd.databricks.v1+cell": {
     "cellMetadata": {
      "byteLimit": 2048000,
      "rowLimit": 10000
     },
     "inputWidgets": {},
     "nuid": "5bbb2bd0-d34f-41e3-9ba4-fef3f99cf956",
     "showTitle": false,
     "tableResultSettingsMap": {},
     "title": ""
    }
   },
   "outputs": [],
   "source": [
    "jsl_meds_llm = medical.LLMLoader(spark).pretrained(\"jsl_meds_q8_v3\", \"en\", \"clinical/models\")"
   ]
  },
  {
   "cell_type": "code",
   "execution_count": 0,
   "metadata": {
    "application/vnd.databricks.v1+cell": {
     "cellMetadata": {
      "byteLimit": 2048000,
      "rowLimit": 10000
     },
     "inputWidgets": {},
     "nuid": "5287e980-8867-490e-b0e1-f4369c1ea842",
     "showTitle": false,
     "tableResultSettingsMap": {},
     "title": ""
    }
   },
   "outputs": [],
   "source": [
    "prompt = \"\"\"\n",
    "Based on the following text, what age group is most susceptible to breast cancer?\n",
    "\n",
    "## Text:\n",
    "The exact cause of breast cancer is unknown. However, several risk factors can increase your likelihood of developing breast cancer, such as:\n",
    "- A personal or family history of breast cancer\n",
    "- A genetic mutation, such as BRCA1 or BRCA2\n",
    "- Exposure to radiation\n",
    "- Age (most commonly occurring in women over 50)\n",
    "- Early onset of menstruation or late menopause\n",
    "- Obesity\n",
    "- Hormonal factors, such as taking hormone replacement therapy\n",
    "\"\"\"\n",
    "\n",
    "response = jsl_meds_llm.generate(prompt)"
   ]
  },
  {
   "cell_type": "code",
   "execution_count": 0,
   "metadata": {
    "application/vnd.databricks.v1+cell": {
     "cellMetadata": {
      "byteLimit": 2048000,
      "rowLimit": 10000
     },
     "inputWidgets": {},
     "nuid": "a52f5ff2-5924-45d2-9c01-533ac7293917",
     "showTitle": false,
     "tableResultSettingsMap": {},
     "title": ""
    }
   },
   "outputs": [
    {
     "name": "stdout",
     "output_type": "stream",
     "text": [
      "\n",
      "Based on the provided text, the age group most susceptible to breast cancer is women over the age of 50. This is because the text explicitly states that breast cancer is most commonly occurring in women over 50. While other risk factors such as genetic mutations, exposure to radiation, early onset of menstruation, late menopause, obesity, and hormonal factors can increase the likelihood of developing breast cancer, age is specifically mentioned as a significant risk factor. Therefore, women in the age group of 50 and above are at a higher risk of developing breast cancer. It is important to note that while age is a significant risk factor, it does not guarantee the development of breast cancer, and other factors should also be considered. Regular screenings and early detection can help in managing and treating breast cancer effectively.\n"
     ]
    }
   ],
   "source": [
    "print(response)"
   ]
  },
  {
   "cell_type": "markdown",
   "metadata": {
    "application/vnd.databricks.v1+cell": {
     "cellMetadata": {},
     "inputWidgets": {},
     "nuid": "778a9f15-2a2b-409a-9ec3-c0abeda62f9d",
     "showTitle": false,
     "tableResultSettingsMap": {},
     "title": ""
    }
   },
   "source": [
    "## JSL_MedM\n",
    "\n",
    "\n",
    "This LLM model is trained to perform Q&A, Summarization, RAG, and Chat."
   ]
  },
  {
   "cell_type": "code",
   "execution_count": 0,
   "metadata": {
    "application/vnd.databricks.v1+cell": {
     "cellMetadata": {
      "byteLimit": 2048000,
      "rowLimit": 10000
     },
     "inputWidgets": {},
     "nuid": "0d10c397-3bda-446a-95a8-b892e6d1d254",
     "showTitle": false,
     "tableResultSettingsMap": {},
     "title": ""
    }
   },
   "outputs": [],
   "source": [
    "jsl_medm_llm = medical.LLMLoader(spark).pretrained(\"jsl_medm_q8_v3\", \"en\", \"clinical/models\")"
   ]
  },
  {
   "cell_type": "code",
   "execution_count": 0,
   "metadata": {
    "application/vnd.databricks.v1+cell": {
     "cellMetadata": {
      "byteLimit": 2048000,
      "rowLimit": 10000
     },
     "inputWidgets": {},
     "nuid": "5554de6d-ec04-4d10-91bb-efb4a36e117f",
     "showTitle": false,
     "tableResultSettingsMap": {},
     "title": ""
    }
   },
   "outputs": [],
   "source": [
    "prompt = \"\"\"\n",
    "A 23-year-old pregnant woman at 22 weeks gestation presents with burning upon urination. She states it started 1 day ago and has been worsening despite drinking more water and taking cranberry extract. She otherwise feels well and is followed by a doctor for her pregnancy. Her temperature is 97.7°F (36.5°C), blood pressure is 122/77 mmHg, pulse is 80/min, respirations are 19/min, and oxygen saturation is 98% on room air. Physical exam is notable for an absence of costovertebral angle tenderness and a gravid uterus.\n",
    "Which of the following is the best treatment for this patient?\n",
    "A: Ampicillin\n",
    "B: Ceftriaxone\n",
    "C: Ciprofloxacin\n",
    "D: Doxycycline\n",
    "E: Nitrofurantoin\n",
    "\"\"\"\n",
    "\n",
    "response = jsl_medm_llm.generate(prompt)"
   ]
  },
  {
   "cell_type": "code",
   "execution_count": 0,
   "metadata": {
    "application/vnd.databricks.v1+cell": {
     "cellMetadata": {
      "byteLimit": 2048000,
      "rowLimit": 10000
     },
     "inputWidgets": {},
     "nuid": "5be69891-3e68-4559-889c-010ca9952110",
     "showTitle": false,
     "tableResultSettingsMap": {},
     "title": ""
    }
   },
   "outputs": [
    {
     "name": "stdout",
     "output_type": "stream",
     "text": [
      "The best treatment for this patient is E: Nitrofurantoin.\n",
      "\n",
      "Explanation:\n",
      "The patient presents with symptoms of a urinary tract infection (UTI), specifically cystitis, which is characterized by burning upon urination. The absence of costovertebral angle tenderness suggests that the infection is not extending into the kidneys, which would be indicated by flank pain and fever. The patient is pregnant, which is a significant factor in choosing an appropriate antibiotic.\n",
      "\n",
      "Ampicillin (A) is not the best choice because it is not typically used for uncomplicated cystitis in pregnant women due to its potential for causing diarrhea and other gastrointestinal side effects.\n",
      "\n",
      "Ceftriaxone (B) is a broad-spectrum antibiotic that is generally reserved for more severe infections or when there is a high suspicion of pyelonephritis. It is not the first-line treatment for uncomplicated cystitis.\n",
      "\n",
      "Ciprofloxacin (C) is contraindicated in pregnancy due to its potential to cause harm to the developing fetus, particularly affecting bone and cartilage development.\n",
      "\n",
      "Doxycycline (D) is also contraindicated in pregnancy because it can cause fetal harm, including inhibition of bone growth and discoloration of teeth.\n",
      "\n",
      "Nitrofurantoin (E) is the preferred treatment for uncomplicated cystitis in pregnant women. It is effective against the common pathogens causing UTIs and is considered safe for use during pregnancy, particularly in the second and third trimesters. It is important to note that nitrofurantoin is not recommended for use in the first trimester due to potential risks to the fetus.\n",
      "\n",
      "Therefore, the best treatment for this patient is Nitrofurantoin.\n"
     ]
    }
   ],
   "source": [
    "print(response)"
   ]
  },
  {
   "cell_type": "markdown",
   "metadata": {
    "application/vnd.databricks.v1+cell": {
     "cellMetadata": {},
     "inputWidgets": {},
     "nuid": "116732e8-aeba-4810-bbb3-b71f73fb8757",
     "showTitle": false,
     "tableResultSettingsMap": {},
     "title": ""
    }
   },
   "source": [
    "## Opensource LLM"
   ]
  },
  {
   "cell_type": "markdown",
   "metadata": {
    "application/vnd.databricks.v1+cell": {
     "cellMetadata": {},
     "inputWidgets": {},
     "nuid": "d0f48220-af4b-4983-9861-539f3fa1c6b8",
     "showTitle": false,
     "tableResultSettingsMap": {},
     "title": ""
    }
   },
   "source": [
    "### mistral-7b"
   ]
  },
  {
   "cell_type": "code",
   "execution_count": 0,
   "metadata": {
    "application/vnd.databricks.v1+cell": {
     "cellMetadata": {
      "byteLimit": 2048000,
      "rowLimit": 10000
     },
     "inputWidgets": {},
     "nuid": "9254269a-07a1-4955-b3ec-a368a36908a7",
     "showTitle": false,
     "tableResultSettingsMap": {},
     "title": ""
    }
   },
   "outputs": [
    {
     "name": "stdout",
     "output_type": "stream",
     "text": [
      "/bin/bash: line 1: huggingface-cli: command not found\r\n"
     ]
    }
   ],
   "source": [
    "# ! pip install huggingface-hub\n",
    "\n",
    "!huggingface-cli download TheBloke/Mistral-7B-v0.1-GGUF mistral-7b-v0.1.Q4_K_M.gguf --local-dir . --local-dir-use-symlinks False\n"
   ]
  },
  {
   "cell_type": "code",
   "execution_count": 0,
   "metadata": {
    "application/vnd.databricks.v1+cell": {
     "cellMetadata": {
      "byteLimit": 2048000,
      "rowLimit": 10000
     },
     "inputWidgets": {},
     "nuid": "947f54af-6cdd-4c81-98b5-53ac3a416583",
     "showTitle": false,
     "tableResultSettingsMap": {},
     "title": ""
    }
   },
   "outputs": [],
   "source": [
    "llm_loader = medical.LLMLoader(spark)"
   ]
  },
  {
   "cell_type": "code",
   "execution_count": 0,
   "metadata": {
    "application/vnd.databricks.v1+cell": {
     "cellMetadata": {
      "byteLimit": 2048000,
      "rowLimit": 10000
     },
     "inputWidgets": {},
     "nuid": "a7730395-dddd-4a95-b672-b622b178bab7",
     "showTitle": false,
     "tableResultSettingsMap": {},
     "title": ""
    }
   },
   "outputs": [],
   "source": [
    "%%time\n",
    "\n",
    "llm_loader\\\n",
    "    .setUseChatTemplate(True)\\\n",
    "    .setTemperature(0.0)\\\n",
    "    .setStopStrings([\"<|im_end|>\"])\\\n",
    "    .loadGGUF(\"./mistral-7b-v0.1.Q4_K_M.gguf\")"
   ]
  },
  {
   "cell_type": "code",
   "execution_count": 0,
   "metadata": {
    "application/vnd.databricks.v1+cell": {
     "cellMetadata": {
      "byteLimit": 2048000,
      "rowLimit": 10000
     },
     "inputWidgets": {},
     "nuid": "121bfd39-d16c-4793-a0fa-2892cccd1514",
     "showTitle": false,
     "tableResultSettingsMap": {},
     "title": ""
    }
   },
   "outputs": [],
   "source": [
    "%%time\n",
    "prompt = \"What is the indication for the drug Methadone?\"\n",
    "response = llm_loader.generate(prompt)"
   ]
  },
  {
   "cell_type": "code",
   "execution_count": 0,
   "metadata": {
    "application/vnd.databricks.v1+cell": {
     "cellMetadata": {
      "byteLimit": 2048000,
      "rowLimit": 10000
     },
     "inputWidgets": {},
     "nuid": "691214b3-ffac-4706-a78b-8e985f970a42",
     "showTitle": false,
     "tableResultSettingsMap": {},
     "title": ""
    }
   },
   "outputs": [
    {
     "name": "stdout",
     "output_type": "stream",
     "text": [
      "The best treatment for this patient is E: Nitrofurantoin.\n",
      "\n",
      "Explanation:\n",
      "The patient presents with symptoms of a urinary tract infection (UTI), specifically cystitis, which is characterized by burning upon urination. The absence of costovertebral angle tenderness suggests that the infection is not extending into the kidneys, which would be indicated by flank pain and fever. The patient is pregnant, which is a significant factor in choosing an appropriate antibiotic.\n",
      "\n",
      "Ampicillin (A) is not the best choice because it is not typically used for uncomplicated cystitis in pregnant women due to its potential for causing diarrhea and other gastrointestinal side effects.\n",
      "\n",
      "Ceftriaxone (B) is a broad-spectrum antibiotic that is generally reserved for more severe infections or when there is a high suspicion of pyelonephritis. It is not the first-line treatment for uncomplicated cystitis.\n",
      "\n",
      "Ciprofloxacin (C) is contraindicated in pregnancy due to its potential to cause harm to the developing fetus, particularly affecting bone and cartilage development.\n",
      "\n",
      "Doxycycline (D) is also contraindicated in pregnancy because it can cause fetal harm, including inhibition of bone growth and discoloration of teeth.\n",
      "\n",
      "Nitrofurantoin (E) is the preferred treatment for uncomplicated cystitis in pregnant women. It is effective against the common pathogens causing UTIs and is considered safe for use during pregnancy, particularly in the second and third trimesters. It is important to note that nitrofurantoin is not recommended for use in the first trimester due to potential risks to the fetus.\n",
      "\n",
      "Therefore, the best treatment for this patient is Nitrofurantoin.\n"
     ]
    }
   ],
   "source": [
    "print(response)"
   ]
  }
 ],
 "metadata": {
  "application/vnd.databricks.v1+notebook": {
   "computePreferences": null,
   "dashboards": [],
   "environmentMetadata": {
    "base_environment": "",
    "environment_version": "4"
   },
   "inputWidgetPreferences": null,
   "language": "python",
   "notebookMetadata": {
    "mostRecentlyExecutedCommandWithImplicitDF": {
     "commandId": 5825782561544846,
     "dataframes": [
      "_sqldf"
     ]
    },
    "pythonIndentUnit": 2
   },
   "notebookName": "MedicalLLM",
   "widgets": {}
  },
  "language_info": {
   "name": "python"
  }
 },
 "nbformat": 4,
 "nbformat_minor": 0
}

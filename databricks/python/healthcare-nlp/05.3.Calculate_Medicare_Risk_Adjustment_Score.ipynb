{
 "cells": [
  {
   "cell_type": "markdown",
   "metadata": {
    "application/vnd.databricks.v1+cell": {
     "cellMetadata": {
      "byteLimit": 2048000,
      "rowLimit": 10000
     },
     "inputWidgets": {},
     "nuid": "c22e3205-f976-4dec-9768-25f835cd5e5a",
     "showTitle": false,
     "title": ""
    }
   },
   "source": [
    "## Medicare Risk Adjustment: \n",
    "In the United States, the Centers for Medicare & Medicaid Services sets reimbursement for private Medicare plan sponsors based on the assessed risk of their beneficiaries. Information found in unstructured medical records may be more indicative of member risk than existing structured data, creating more accurate risk pools."
   ]
  },
  {
   "cell_type": "markdown",
   "metadata": {
    "application/vnd.databricks.v1+cell": {
     "cellMetadata": {
      "byteLimit": 2048000,
      "rowLimit": 10000
     },
     "inputWidgets": {},
     "nuid": "f2cc6512-4ec4-4da9-8812-4fcbcd27f73c",
     "showTitle": false,
     "title": ""
    }
   },
   "source": [
    "#### Initial configurations"
   ]
  },
  {
   "cell_type": "code",
   "execution_count": 0,
   "metadata": {
    "application/vnd.databricks.v1+cell": {
     "cellMetadata": {
      "byteLimit": 2048000,
      "rowLimit": 10000
     },
     "inputWidgets": {},
     "nuid": "d62122ee-2128-4c7c-8080-32161b8efcb5",
     "showTitle": false,
     "title": ""
    }
   },
   "outputs": [],
   "source": [
    "from johnsnowlabs import nlp, medical\n",
    "\n",
    "# After uploading your license run this to install all licensed Python Wheels and pre-download Jars the Spark Session JVM\n",
    "#nlp.install()"
   ]
  },
  {
   "cell_type": "code",
   "execution_count": 0,
   "metadata": {
    "application/vnd.databricks.v1+cell": {
     "cellMetadata": {
      "byteLimit": 2048000,
      "rowLimit": 10000
     },
     "inputWidgets": {},
     "nuid": "37f05dc7-aaf0-48e7-acf4-3a203c3d2976",
     "showTitle": false,
     "title": ""
    }
   },
   "outputs": [
    {
     "output_type": "display_data",
     "data": {
      "application/vnd.databricks.v1+bamboolib_hint": "{\"pd.DataFrames\": [], \"version\": \"0.0.1\"}",
      "text/plain": []
     },
     "metadata": {},
     "output_type": "display_data"
    },
    {
     "output_type": "display_data",
     "data": {
      "text/html": [
       "\n",
       "            <div>\n",
       "                <p><b>SparkSession - hive</b></p>\n",
       "                \n",
       "        <div>\n",
       "            <p><b>SparkContext</b></p>\n",
       "\n",
       "            <p><a href=\"/?o=7956323724731612#setting/sparkui/0725-092232-stftp6wi/driver-2553622844450812496\">Spark UI</a></p>\n",
       "\n",
       "            <dl>\n",
       "              <dt>Version</dt>\n",
       "                <dd><code>v3.3.2</code></dd>\n",
       "              <dt>Master</dt>\n",
       "                <dd><code>spark://10.139.64.10:7077</code></dd>\n",
       "              <dt>AppName</dt>\n",
       "                <dd><code>Databricks Shell</code></dd>\n",
       "            </dl>\n",
       "        </div>\n",
       "        \n",
       "            </div>\n",
       "        "
      ]
     },
     "metadata": {
      "application/vnd.databricks.v1+output": {
       "addedWidgets": {},
       "arguments": {},
       "data": "\n            <div>\n                <p><b>SparkSession - hive</b></p>\n                \n        <div>\n            <p><b>SparkContext</b></p>\n\n            <p><a href=\"/?o=7956323724731612#setting/sparkui/0725-092232-stftp6wi/driver-2553622844450812496\">Spark UI</a></p>\n\n            <dl>\n              <dt>Version</dt>\n                <dd><code>v3.3.2</code></dd>\n              <dt>Master</dt>\n                <dd><code>spark://10.139.64.10:7077</code></dd>\n              <dt>AppName</dt>\n                <dd><code>Databricks Shell</code></dd>\n            </dl>\n        </div>\n        \n            </div>\n        ",
       "datasetInfos": [],
       "metadata": {},
       "removedWidgets": [],
       "textData": null,
       "type": "htmlSandbox"
      }
     },
     "output_type": "display_data"
    }
   ],
   "source": [
    "from pyspark.sql import DataFrame\n",
    "import pyspark.sql.functions as F\n",
    "import pyspark.sql.types as T\n",
    "import pyspark.sql as SQL\n",
    "\n",
    "import os\n",
    "import json\n",
    "import string\n",
    "import numpy as np\n",
    "import pandas as pd\n",
    "\n",
    "from pyspark.ml import Pipeline, PipelineModel\n",
    "\n",
    "pd.set_option('max_colwidth', 100)\n",
    "pd.set_option('display.max_columns', 100)  \n",
    "pd.set_option('display.expand_frame_repr', False)\n",
    "\n",
    "spark"
   ]
  },
  {
   "cell_type": "markdown",
   "metadata": {
    "application/vnd.databricks.v1+cell": {
     "cellMetadata": {
      "byteLimit": 2048000,
      "rowLimit": 10000
     },
     "inputWidgets": {},
     "nuid": "103d2866-363d-4c23-8164-c946acc7cfb2",
     "showTitle": false,
     "title": ""
    }
   },
   "source": [
    "## Download oncology notes\n",
    "\n",
    "In this notebook we will use the clinical notes extracted from www.mtsamples.com"
   ]
  },
  {
   "cell_type": "markdown",
   "metadata": {
    "application/vnd.databricks.v1+cell": {
     "cellMetadata": {
      "byteLimit": 2048000,
      "rowLimit": 10000
     },
     "inputWidgets": {},
     "nuid": "c7074efa-2e41-4cc0-8985-00475999bedf",
     "showTitle": false,
     "title": ""
    }
   },
   "source": [
    "Let's create the folder which we will store the notes."
   ]
  },
  {
   "cell_type": "code",
   "execution_count": 0,
   "metadata": {
    "application/vnd.databricks.v1+cell": {
     "cellMetadata": {
      "byteLimit": 2048000,
      "rowLimit": 10000
     },
     "inputWidgets": {},
     "nuid": "06aace76-8485-4d36-838c-2e70990a5587",
     "showTitle": false,
     "title": ""
    }
   },
   "outputs": [],
   "source": [
    "notes_path='/FileStore/HLS/nlp/data/'\n",
    "delta_path='/FileStore/HLS/nlp/delta/jsl/'\n",
    "\n",
    "dbutils.fs.mkdirs(notes_path)\n",
    "os.environ['notes_path']=f'/dbfs{notes_path}'"
   ]
  },
  {
   "cell_type": "code",
   "execution_count": 0,
   "metadata": {
    "application/vnd.databricks.v1+cell": {
     "cellMetadata": {
      "byteLimit": 2048000,
      "rowLimit": 10000
     },
     "inputWidgets": {},
     "nuid": "5e44567d-1efd-4f85-899c-2b6e139132b1",
     "showTitle": false,
     "title": ""
    }
   },
   "outputs": [
    {
     "output_type": "stream",
     "name": "stdout",
     "output_type": "stream",
     "text": [
      "Archive:  mt_oncology_10.zip\n  inflating: mt_oncology_10/mt_note_02.txt  \n  inflating: mt_oncology_10/mt_note_03.txt  \n  inflating: mt_oncology_10/mt_note_01.txt  \n  inflating: mt_oncology_10/mt_note_10.txt  \n  inflating: mt_oncology_10/mt_note_04.txt  \n  inflating: __MACOSX/mt_oncology_10/._.DS_Store  \n  inflating: mt_oncology_10/mt_note_05.txt  \n  inflating: mt_oncology_10/mt_note_07.txt  \n  inflating: mt_oncology_10/mt_note_06.txt  \n  inflating: mt_oncology_10/mt_note_08.txt  \n  inflating: mt_oncology_10/mt_note_09.txt  \n"
     ]
    }
   ],
   "source": [
    "%sh\n",
    "cd $notes_path\n",
    "wget -q https://raw.githubusercontent.com/JohnSnowLabs/spark-nlp-workshop/master/tutorials/Certification_Trainings/Healthcare/data/mt_oncology_10.zip\n",
    "unzip -o mt_oncology_10.zip"
   ]
  },
  {
   "cell_type": "code",
   "execution_count": 0,
   "metadata": {
    "application/vnd.databricks.v1+cell": {
     "cellMetadata": {
      "byteLimit": 2048000,
      "rowLimit": 10000
     },
     "inputWidgets": {},
     "nuid": "9b8d018f-6e37-4f8e-93b1-27f66e71c6f0",
     "showTitle": false,
     "title": ""
    }
   },
   "outputs": [
    {
     "output_type": "stream",
     "name": "stdout",
     "output_type": "stream",
     "text": [
      "Out[5]: [FileInfo(path='dbfs:/FileStore/HLS/nlp/data/mt_oncology_10/mt_note_01.txt', name='mt_note_01.txt', size=1371, modificationTime=1700485110000),\n FileInfo(path='dbfs:/FileStore/HLS/nlp/data/mt_oncology_10/mt_note_02.txt', name='mt_note_02.txt', size=1274, modificationTime=1700485110000),\n FileInfo(path='dbfs:/FileStore/HLS/nlp/data/mt_oncology_10/mt_note_03.txt', name='mt_note_03.txt', size=3699, modificationTime=1700485110000),\n FileInfo(path='dbfs:/FileStore/HLS/nlp/data/mt_oncology_10/mt_note_04.txt', name='mt_note_04.txt', size=8178, modificationTime=1700485111000),\n FileInfo(path='dbfs:/FileStore/HLS/nlp/data/mt_oncology_10/mt_note_05.txt', name='mt_note_05.txt', size=4707, modificationTime=1700485111000),\n FileInfo(path='dbfs:/FileStore/HLS/nlp/data/mt_oncology_10/mt_note_06.txt', name='mt_note_06.txt', size=4817, modificationTime=1700485111000),\n FileInfo(path='dbfs:/FileStore/HLS/nlp/data/mt_oncology_10/mt_note_07.txt', name='mt_note_07.txt', size=1727, modificationTime=1700485111000),\n FileInfo(path='dbfs:/FileStore/HLS/nlp/data/mt_oncology_10/mt_note_08.txt', name='mt_note_08.txt', size=3125, modificationTime=1700485111000),\n FileInfo(path='dbfs:/FileStore/HLS/nlp/data/mt_oncology_10/mt_note_09.txt', name='mt_note_09.txt', size=3153, modificationTime=1700485111000),\n FileInfo(path='dbfs:/FileStore/HLS/nlp/data/mt_oncology_10/mt_note_10.txt', name='mt_note_10.txt', size=1805, modificationTime=1700485111000)]"
     ]
    }
   ],
   "source": [
    "dbutils.fs.ls(f'{notes_path}/mt_oncology_10')"
   ]
  },
  {
   "cell_type": "markdown",
   "metadata": {
    "application/vnd.databricks.v1+cell": {
     "cellMetadata": {
      "byteLimit": 2048000,
      "rowLimit": 10000
     },
     "inputWidgets": {},
     "nuid": "99975c41-3bbb-4870-ab7a-ee3fb4bccf5f",
     "showTitle": false,
     "title": ""
    }
   },
   "source": [
    "## Read Data and Write to Bronze Delta Layer\n",
    "\n",
    "There are 50 clinical notes stored in delta table. We read the data and write the raw notes data into bronze delta tables"
   ]
  },
  {
   "cell_type": "code",
   "execution_count": 0,
   "metadata": {
    "application/vnd.databricks.v1+cell": {
     "cellMetadata": {
      "byteLimit": 2048000,
      "rowLimit": 10000
     },
     "inputWidgets": {},
     "nuid": "375e1298-5886-4678-905b-4869408b3952",
     "showTitle": false,
     "title": ""
    }
   },
   "outputs": [
    {
     "output_type": "display_data",
     "data": {
      "text/html": [
       "<style scoped>\n",
       "  .table-result-container {\n",
       "    max-height: 300px;\n",
       "    overflow: auto;\n",
       "  }\n",
       "  table, th, td {\n",
       "    border: 1px solid black;\n",
       "    border-collapse: collapse;\n",
       "  }\n",
       "  th, td {\n",
       "    padding: 5px;\n",
       "  }\n",
       "  th {\n",
       "    text-align: left;\n",
       "  }\n",
       "</style><div class='table-result-container'><table class='table-result'><thead style='background-color: white'><tr><th>path</th><th>text</th></tr></thead><tbody><tr><td>dbfs:/FileStore/HLS/nlp/data/mt_oncology_10/mt_note_01.txt</td><td>\n",
       "Medical Specialty:Hematology - Oncology\n",
       "Sample Name: BRCA-2 mutation\n",
       "Description: Discharge summary of a patient with a BRCA-2 mutation.\n",
       "(Medical Transcription Sample Report)\n",
       "DISCHARGE DIAGNOSES: BRCA-2 mutation.\n",
       "HISTORY OF PRESENT ILLNESS: The patient is a 59-year-old with a BRCA-2 mutation. Her sister died of breast cancer at age 32 and her daughter had breast cancer at age 27.\n",
       "PHYSICAL EXAMINATION: The chest was clear. The abdomen was nontender. Pelvic examination shows no masses. No heart murmur.\n",
       "HOSPITAL COURSE: The patient underwent surgery on the day of admission. In the postoperative course she was afebrile and unremarkable. The patient regained bowel function and was discharged on the morning of the fourth postoperative day.\n",
       "OPERATIONS AND PROCEDURES:  Total abdominal hysterectomy/bilateral salpingo-oophorectomy with resection of ovarian fossa peritoneum en bloc on July 25, 2006.\n",
       "PATHOLOGY:  A 105-gram uterus without dysplasia or cancer.\n",
       "CONDITION ON DISCHARGE:  Stable.\n",
       "PLAN: The patient will remain at rest initially with progressive ambulation after. She will avoid lifting, driving or intercourse. She will call me if any fevers, drainage, bleeding, or pain. Follow up in my office in four weeks. Family history, social history, psychosocial needs per the social worker.\n",
       "DISCHARGE MEDICATIONS:  Percocet 5 #40 one every 3 hours p.r.n. pain.\n",
       "</td></tr><tr><td>dbfs:/FileStore/HLS/nlp/data/mt_oncology_10/mt_note_02.txt</td><td>Medical Specialty:Hematology - Oncology\n",
       "Sample Name: Mullerian Adenosarcoma\n",
       "Description: Discharge summary of a patient presenting with a large mass aborted through the cervix.\n",
       "(Medical Transcription Sample Report)\n",
       "PRINCIPAL DIAGNOSIS:  Mullerian adenosarcoma.\n",
       "HISTORY OF PRESENT ILLNESS:  The patient is a 56-year-old presenting with a large mass aborted through the cervix.\n",
       "PHYSICAL EXAM:CHEST: Clear. There is no heart murmur. ABDOMEN: Nontender.\n",
       "PELVIC: There is a large mass in the vagina.\n",
       "HOSPITAL COURSE:  The patient went to surgery on the day of admission. The postoperative course was marked by fever and ileus. The patient regained bowel function. She was discharged on the morning of the seventh postoperative day.\n",
       "OPERATIONS:  July 25, 2006: Total abdominal hysterectomy, bilateral salpingo-oophorectomy.\n",
       "DISCHARGE CONDITION:  Stable.\n",
       "PLAN:  The patient will remain at rest initially with progressive ambulation thereafter. She will avoid lifting, driving, stairs, or intercourse. She will call me for fevers, drainage, bleeding, or pain. Family history, social history, and psychosocial needs per the social worker. The patient will follow up in my office in one week.\n",
       "PATHOLOGY: Mullerian adenosarcoma.\n",
       "MEDICATIONS: Percocet 5, #40, one q.3 h. p.r.n. pain.\n",
       "</td></tr><tr><td>dbfs:/FileStore/HLS/nlp/data/mt_oncology_10/mt_note_03.txt</td><td>Medical Specialty:Hematology - Oncology\n",
       "Sample Name: Leiomyosarcoma\n",
       "Description: Discharge summary of patient with leiomyosarcoma and history of pulmonary embolism, subdural hematoma, pancytopenia, and pneumonia.\n",
       "(Medical Transcription Sample Report)\n",
       "ADMITTING DIAGNOSES:1. Leiomyosarcoma.2. History of pulmonary embolism.3. History of subdural hematoma.4. Pancytopenia.5. History of pneumonia.\n",
       "PROCEDURES DURING HOSPITALIZATION:1. Cycle six of CIVI-CAD (Cytoxan, Adriamycin, and DTIC) from 07/22/2008 to 07/29/2008.2. CTA, chest PE study showing no evidence for pulmonary embolism.\n",
       "3. Head CT showing no evidence of acute intracranial abnormalities.4. Sinus CT, normal mini-CT of the paranasal sinuses.\n",
       "HISTORY OF PRESENT ILLNESS: Ms. ABC is a pleasant 66-year-old Caucasian female who first palpated a mass in the left posterior arm in spring of 2007. The mass increased in size and she was seen by her primary care physician and referred to orthopedic surgeon. MRI showed inflammation and was thought to be secondary to rheumatoid arthritis. The mass increased in size. She eventually underwent a partial resection found to have pathologic grade 2 leiomyosarcoma, margins were impossible to assess, but were likely positive. She was evaluated by Dr. X and Dr. Y and a decision was made to proceed with preoperative chemotherapy. She began treatment with CIVI-CAD in December 2007. Her course was complicated by pulmonary embolus, pneumonia, and subdural hematoma while on anticoagulation. She eventually underwent surgical resection on May 1, 2008 with small area of residual disease, but otherwise clear margins.\n",
       "HOSPITAL COURSE:1. Leiomyosarcoma, the patient was admitted to Hem/Onco B Service under attending Dr. XYZ for cycle six of continuous IV infusion Cytoxan, Adriamycin, and DTIC, which she tolerated well.2. History of pulmonary embolism. Upon admission, the patient reported an approximate two-week history of dyspnea on exertion and some mild chest pain. She underwent a CTA, which showed no evidence of pulmonary embolism and the patient was started on prophylactic doses of Lovenox at 40 mg a day. She had no further complaints throughout the hospitalization with any shortness of breath or chest pain.3. History of subdural hematoma, also on admission the patient noted some mild intermittent headaches that were fleeting in nature, several a day that would resolve on their own. Her headaches were not responding to pain medication and so on 07/24/2008, we obtained a head CT that showed no evidence of acute intracranial abnormalities. The patient also had a history of sinusitis and so a sinus CT scan was obtained, which was normal.4. Pancytopenia. On admission, the patient's white blood count was 3.4, hemoglobin 11.3, platelet count 82, and ANC of 2400. The patient's counts were followed throughout admission. She did not require transfusion of red blood cells or platelets; however, on 07/26/2008 her ANC did dip to 900 and she was placed on neutropenic diet. At discharge her ANC is back up to 1100 and she is taken off neutropenic diet. Her white blood cell count at discharge was 1.4 and her hemoglobin was 11.2 with a platelet count of 140.\n",
       "5. History of pneumonia. During admission, the patient did not exhibit any signs or symptoms of pneumonia.\n",
       "DISPOSITION:  Home in stable condition.\n",
       "DIET:  Regular and less neutropenic.\n",
       "ACTIVITY:  Resume same activity.\n",
       "FOLLOWUP: The patient will have lab work at Dr. XYZ on 08/05/2008 and she will also return to the cancer center on 08/12/2008 at 10:20 a.m. The patient is also advised to monitor for any fevers greater than 100.5 and should she have any further problems in the meantime to please call in to be seen sooner.\n",
       "</td></tr><tr><td>dbfs:/FileStore/HLS/nlp/data/mt_oncology_10/mt_note_04.txt</td><td>Medical Specialty:Hematology - Oncology\n",
       "Sample Name: BCCa Excision - Cheek\n",
       "Description: Excision of basal cell carcinoma. Closure complex, open wound. Bilateral capsulectomies. Bilateral explantation and removal of ruptured silicone gel implants\n",
       "(Medical Transcription Sample Report)\n",
       "PREOPERATIVE DIAGNOSES1. Basal cell carcinoma, right cheek.2. Basal cell carcinoma, left cheek.3. Bilateral ruptured silicone gel implants.4. Bilateral Baker grade IV capsular contracture.5. Breast ptosis.\n",
       "POSTOPERATIVE DIAGNOSES1. Basal cell carcinoma, right cheek.2. Basal cell carcinoma, left cheek.\n",
       "3. Bilateral ruptured silicone gel implants.4. Bilateral Baker grade IV capsular contracture.5. Breast ptosis.\n",
       "PROCEDURE1. Excision of basal cell carcinoma, right cheek, 2.7 cm x 1.5 cm.2. Excision of basal cell carcinoma, left cheek, 2.3 x 1.5 cm.3. Closure complex, open wound utilizing local tissue advancement flap, right cheek.4. Closure complex, open wound, left cheek utilizing local tissue advancement flap.5. Bilateral explantation and removal of ruptured silicone gel implants.\n",
       "6. Bilateral capsulectomies.7. Replacement with bilateral silicone gel implants, 325 cc.\n",
       "INDICATIONS FOR PROCEDURESThe patient is a 61-year-old woman who presents with a history of biopsy-proven basal cell carcinoma, right and left cheek. She had no prior history of skin cancer. She is status post bilateral cosmetic breast augmentation many years ago and the records are not available for this procedure. She has noted progressive hardening and distortion of the implant. She desires to have the implants removed, capsulectomy and replacement of implants. She would like to go slightly smaller than her current size as she has ptosis going with a smaller implant combined with capsulectomy will result in worsening of her ptosis. She may require a lift. She is not consenting to lift due to the surgical scars.\n",
       "PAST MEDICAL HISTORYSignificant for deep venous thrombosis and acid reflux.\n",
       "PAST SURGICAL HISTORY\n",
       "Significant for appendectomy, colonoscopy and BAM.\n",
       "MEDICATIONS:\n",
       "Coumadin. She stopped her Coumadin five days prior to the procedures.2. Lipitor3. Effexor.4. Klonopin.\n",
       "ALLERGIES: None.\n",
       "REVIEW OF SYSTEMS: Negative for dyspnea on exertion, palpitations, chest pain, and phlebitis.\n",
       "PHYSICAL EXAMINATION: VITAL SIGNS: Height 5'8\", weight 155 pounds. FACE: Examination of the face demonstrates basal cell carcinoma, right and left cheek. No lesions are noted in the regional lymph node base and no mass is appreciated.\n",
       "BREAST: Examination of the breast demonstrates bilateral grade IV capsular contracture. She has asymmetry in distortion of the breast. No masses are appreciated in the breast or the axilla. The implants appear to be subglandular.\n",
       "CHEST: Clear to auscultation and percussion.\n",
       "CARDIOVASCULAR: Regular rate and rhythm.\n",
       "EXTREMITIES: Show full range of motion. No clubbing, cyanosis or edema. SKIN: Significant environmental actinic skin damage.I recommended excision of basal cell cancers with frozen section control of the margin, closure will require local tissue flaps. I recommended exchange of the implants with reaugmentation. No final size is guaranteed or implied. We will decrease the size of the implants based on the intraoperative findings as the size is not known. Several options are available. Sizer implants will be placed to best estimate postoperative size. Ptosis will be worse following capsulectomy and going with a smaller implant. She may require a lift in the future. We have obtained preoperative clearance from the patient's cardiologist, Dr. K. The patient has been taken off Coumadin for five days and will be placed back on Coumadin the day after the surgery. The risk of deep venous thrombosis is discussed. Other risk including bleeding, infection, allergic reaction, pain, scarring, hypertrophic scarring and poor cosmetic resolve, worsening of ptosis, exposure, extrusion, the rupture of the implants, numbness of the nipple-areolar complex, hematoma, need for additional surgery, recurrent capsular contracture and recurrence of the skin cancer was all discussed, which she understands and informed consent is obtained.\n",
       "PROCEDURE IN DETAILAfter appropriate informed consent was obtained, the patient was placed in the preoperative holding area with **** input. She was then taken to the major operating room with ABCD Surgery Center, placed in a supine position. Intravenous antibiotics were given. TED hose and SCDs were placed. After the induction of adequate general endotracheal anesthesia, she was prepped and draped in the usual sterile fashion. Sites for excision and skin cancers were carefully marked with 5 mm margin. These were injected with 1% lidocaine with epinephrine.After allowing adequate time for basal constriction hemostasis, excision was performed, full thickness of the skin. They were tagged at the 12 o'clock position and sent for frozen section. Hemostasis was achieved using electrocautery. Once margins were determined to be free of involvement, local tissue flaps were designed for advancement. Undermining was performed. Hemostasis was achieved using electrocautery. Closure was performed under moderate tension with interrupted 5-0 Vicryl. Skin was closed under loop magnification paying meticulous attention and cosmetic details with 6-0 Prolene. Attention was then turned to the breast, clothes were changed, gloves were changed, incision was planned and the previous inframammary incision beginning on the right incision was made. Dissection was carried down to the capsule. It was extremely calcified. Dissection of the anterior surface of the capsule was performed. The implant was subglandular, the capsule was entered, implant was noted to be grossly intact; however, there was free silicone. Implant was removed and noted to be ruptured. No marking as to the size of the implant was found.Capsulectomy was performed leaving a small portion in the axilla in the inframammary fold. Pocket was modified to medialize the implant by placing 2-0 Prolene laterally in mattress sutures to restrict the pocket. In identical fashion, capsulectomy was performed on the left. Implant was noted to be grossly ruptured. No marking was found for the size of the implant. The entire content was weighed and found to be 350 grams. Right side was weighed and noted to be 338 grams, although some silicone was lost in the transfer and most likely was identical 350 grams. The implants appeared to be double lumen with the saline portion deflated. Completion of the capsulectomy was performed on the left.The pocket was again fashioned to improve symmetry with the right with Prolene. Pockets were thoroughly irrigated. Hemostasis was achieved using electrocautery, checked for symmetry, which is determined to be excellent. Several liters of normal saline were utilized to irrigate the pocket. Hemostasis was determined to be excellent. Drains were placed. 2-0 Vicryl sutures were preplaced. Pockets were checked for hemostasis, irrigated with normal saline, sizing was performed with placement of 275 cc implants. She was placed in a sitting position. This significantly worsened ptosis and for this reason, 325 cc implants were chosen. She is placed back in a supine position. Pockets were irrigated with antibiotic solution, 2-0 Vicryl sutures were preplaced and gloves were changed. The patient was reprepped with Betadine, towels were changed.These were soaked in antibiotic solution. Gloves were changed, gowns were changed, the patient was reprepped, towels were changed and implants were placed. The patient was placed in a sitting position. Symmetry was excellent. There was noted to be a decrease of volume of approximately 40 cc from the capsulectomy as well as the additional reduction of 25 cc. Ptosis was slightly worse; however, excellent shape of the breast. She was placed back in a supine position, preplaced 2-0 Vicryl sutures were tied; a second layer subcutaneous of 3-0 Vicryl was placed followed by a third of 4-0 Vicryl. The skin was closed with a running 4-0 Prolene. Drains were secured. All sponge and needle counts were correct. Dressing was applied.\n",
       "COMPLICATIONSNone.\n",
       "DISPOSITIONTo recovery room.\n",
       "</td></tr><tr><td>dbfs:/FileStore/HLS/nlp/data/mt_oncology_10/mt_note_05.txt</td><td>Medical Specialty:Hematology - Oncology\n",
       "Sample Name: Consult - Breast Cancer - 1\n",
       "Description: The patient is a 57-year-old female with invasive ductal carcinoma of the left breast, T1c, Nx, M0 left breast carcinoma.\n",
       "(Medical Transcription Sample Report)\n",
       "CHIEF COMPLAINT:  Left breast cancer.\n",
       "HISTORY: The patient is a 57-year-old female, who I initially saw in the office on 12/27/07, as a referral from the Tomball Breast Center. On 12/21/07, the patient underwent image-guided needle core biopsy of a 1.5 cm lesion at the 7 o'clock position of the left breast (inferomedial). The biopsy returned showing infiltrating ductal carcinoma high histologic grade. The patient stated that she had recently felt and her physician had felt a palpable mass in that area prior to her breast imaging. She prior to that area, denied any complaints. She had no nipple discharge. No trauma history. She has had been on no estrogen supplementation. She has had no other personal history of breast cancer. Her family history is positive for her mother having breast cancer at age 48. The patient has had no children and no pregnancies. She denies any change in the right breast. Subsequent to the office visit and tissue diagnosis of breast cancer, she has had medical oncology consultation with Dr. X and radiation oncology consultation with Dr. Y. I have discussed the case with Dr. X and Dr. Y, who are both in agreement with proceeding with surgery prior to adjuvant therapy. The patient's metastatic workup has otherwise been negative with MRI scan and CT scanning. The MRI scan showed some close involvement possibly involving the left pectoralis muscle, although thought to also possibly represent biopsy artifact. CT scan of the neck, chest, and abdomen is negative for metastatic disease. PAST MEDICAL HISTORY: Previous surgery is history of benign breast biopsy in 1972, laparotomy in 1981, 1982, and 1984, right oophorectomy in 1984, and ganglion cyst removal of the hand in 1987.\n",
       "MEDICATIONS: She is currently on omeprazole for reflux and indigestion.\n",
       "ALLERGIES: SHE HAS NO KNOWN DRUG ALLERGIES.\n",
       "REVIEW OF SYSTEMS: Negative for any recent febrile illnesses, chest pains or shortness of breath. Positive for restless leg syndrome. Negative for any unexplained weight loss and no change in bowel or bladder habits.\n",
       "FAMILY HISTORY: Positive for breast cancer in her mother and also mesothelioma from possible asbestosis or asbestos exposure.\n",
       "SOCIAL HISTORY: The patient works as a school teacher and teaching high school.\n",
       "PHYSICAL EXAMINATION: GENERAL: The patient is a white female, alert and oriented x 3, appears her stated age of 57.\n",
       "HEENT: Head is atraumatic and normocephalic. Sclerae are anicteric. NECK: Supple.\n",
       "CHEST: Clear. HEART: Regular rate and rhythm. BREASTS: Exam reveals an approximately 1.5 cm relatively mobile focal palpable mass in the inferomedial left breast at the 7 o'clock position, which clinically is not fixed to the underlying pectoralis muscle. There are no nipple retractions. No skin dimpling. There is some, at the time of the office visit, ecchymosis from recent biopsy. There is no axillary adenopathy. The remainder of the left breast is without abnormality. The right breast is without abnormality. The axillary areas are negative for adenopathy bilaterally. ABDOMEN: Soft, nontender without masses. No gross organomegaly. No CVA or flank tenderness. EXTREMITIES: Grossly neurovascularly intact.\n",
       "IMPRESSION:  The patient is a 57-year-old female with invasive ductal carcinoma of the left breast, T1c, Nx, M0 left breast carcinoma.\n",
       "RECOMMENDATIONS:  I have discussed with the patient in detail about the diagnosis of breast cancer and the surgical options, and medical oncologist has discussed with her issues about adjuvant or neoadjuvant chemotherapy. We have decided to recommend to the patient breast conservation surgery with left breast lumpectomy with preoperative sentinel lymph node injection and mapping and left axillary dissection. The possibility of further surgery requiring wider lumpectomy or even completion mastectomy was explained to the patient. The procedure and risks of the surgery were explained to include, but not limited to extra bleeding, infection, unsightly scar formation, the possibility of local recurrence, the possibility of left upper extremity lymphedema was explained. Local numbness, paresthesias or chronic pain was explained. The patient was given an educational brochure and several brochures about the diagnosis and treatment of breast cancers. She was certainly encouraged to obtain further surgical medical opinions prior to proceeding. I believe the patient has given full informed consent and desires to proceed with the above.\n",
       "</td></tr></tbody></table></div>"
      ]
     },
     "metadata": {
      "application/vnd.databricks.v1+output": {
       "addedWidgets": {},
       "aggData": [],
       "aggError": "",
       "aggOverflow": false,
       "aggSchema": [],
       "aggSeriesLimitReached": false,
       "aggType": "",
       "arguments": {},
       "columnCustomDisplayInfos": {},
       "data": [
        [
         "dbfs:/FileStore/HLS/nlp/data/mt_oncology_10/mt_note_01.txt",
         "\nMedical Specialty:Hematology - Oncology\nSample Name: BRCA-2 mutation\nDescription: Discharge summary of a patient with a BRCA-2 mutation.\n(Medical Transcription Sample Report)\nDISCHARGE DIAGNOSES: BRCA-2 mutation.\nHISTORY OF PRESENT ILLNESS: The patient is a 59-year-old with a BRCA-2 mutation. Her sister died of breast cancer at age 32 and her daughter had breast cancer at age 27.\nPHYSICAL EXAMINATION: The chest was clear. The abdomen was nontender. Pelvic examination shows no masses. No heart murmur.\nHOSPITAL COURSE: The patient underwent surgery on the day of admission. In the postoperative course she was afebrile and unremarkable. The patient regained bowel function and was discharged on the morning of the fourth postoperative day.\nOPERATIONS AND PROCEDURES:  Total abdominal hysterectomy/bilateral salpingo-oophorectomy with resection of ovarian fossa peritoneum en bloc on July 25, 2006.\nPATHOLOGY:  A 105-gram uterus without dysplasia or cancer.\nCONDITION ON DISCHARGE:  Stable.\nPLAN: The patient will remain at rest initially with progressive ambulation after. She will avoid lifting, driving or intercourse. She will call me if any fevers, drainage, bleeding, or pain. Follow up in my office in four weeks. Family history, social history, psychosocial needs per the social worker.\nDISCHARGE MEDICATIONS:  Percocet 5 #40 one every 3 hours p.r.n. pain.\n"
        ],
        [
         "dbfs:/FileStore/HLS/nlp/data/mt_oncology_10/mt_note_02.txt",
         "Medical Specialty:Hematology - Oncology\nSample Name: Mullerian Adenosarcoma\nDescription: Discharge summary of a patient presenting with a large mass aborted through the cervix.\n(Medical Transcription Sample Report)\nPRINCIPAL DIAGNOSIS:  Mullerian adenosarcoma.\nHISTORY OF PRESENT ILLNESS:  The patient is a 56-year-old presenting with a large mass aborted through the cervix.\nPHYSICAL EXAM:CHEST: Clear. There is no heart murmur. ABDOMEN: Nontender.\nPELVIC: There is a large mass in the vagina.\nHOSPITAL COURSE:  The patient went to surgery on the day of admission. The postoperative course was marked by fever and ileus. The patient regained bowel function. She was discharged on the morning of the seventh postoperative day.\nOPERATIONS:  July 25, 2006: Total abdominal hysterectomy, bilateral salpingo-oophorectomy.\nDISCHARGE CONDITION:  Stable.\nPLAN:  The patient will remain at rest initially with progressive ambulation thereafter. She will avoid lifting, driving, stairs, or intercourse. She will call me for fevers, drainage, bleeding, or pain. Family history, social history, and psychosocial needs per the social worker. The patient will follow up in my office in one week.\nPATHOLOGY: Mullerian adenosarcoma.\nMEDICATIONS: Percocet 5, #40, one q.3 h. p.r.n. pain.\n"
        ],
        [
         "dbfs:/FileStore/HLS/nlp/data/mt_oncology_10/mt_note_03.txt",
         "Medical Specialty:Hematology - Oncology\nSample Name: Leiomyosarcoma\nDescription: Discharge summary of patient with leiomyosarcoma and history of pulmonary embolism, subdural hematoma, pancytopenia, and pneumonia.\n(Medical Transcription Sample Report)\nADMITTING DIAGNOSES:1. Leiomyosarcoma.2. History of pulmonary embolism.3. History of subdural hematoma.4. Pancytopenia.5. History of pneumonia.\nPROCEDURES DURING HOSPITALIZATION:1. Cycle six of CIVI-CAD (Cytoxan, Adriamycin, and DTIC) from 07/22/2008 to 07/29/2008.2. CTA, chest PE study showing no evidence for pulmonary embolism.\n3. Head CT showing no evidence of acute intracranial abnormalities.4. Sinus CT, normal mini-CT of the paranasal sinuses.\nHISTORY OF PRESENT ILLNESS: Ms. ABC is a pleasant 66-year-old Caucasian female who first palpated a mass in the left posterior arm in spring of 2007. The mass increased in size and she was seen by her primary care physician and referred to orthopedic surgeon. MRI showed inflammation and was thought to be secondary to rheumatoid arthritis. The mass increased in size. She eventually underwent a partial resection found to have pathologic grade 2 leiomyosarcoma, margins were impossible to assess, but were likely positive. She was evaluated by Dr. X and Dr. Y and a decision was made to proceed with preoperative chemotherapy. She began treatment with CIVI-CAD in December 2007. Her course was complicated by pulmonary embolus, pneumonia, and subdural hematoma while on anticoagulation. She eventually underwent surgical resection on May 1, 2008 with small area of residual disease, but otherwise clear margins.\nHOSPITAL COURSE:1. Leiomyosarcoma, the patient was admitted to Hem/Onco B Service under attending Dr. XYZ for cycle six of continuous IV infusion Cytoxan, Adriamycin, and DTIC, which she tolerated well.2. History of pulmonary embolism. Upon admission, the patient reported an approximate two-week history of dyspnea on exertion and some mild chest pain. She underwent a CTA, which showed no evidence of pulmonary embolism and the patient was started on prophylactic doses of Lovenox at 40 mg a day. She had no further complaints throughout the hospitalization with any shortness of breath or chest pain.3. History of subdural hematoma, also on admission the patient noted some mild intermittent headaches that were fleeting in nature, several a day that would resolve on their own. Her headaches were not responding to pain medication and so on 07/24/2008, we obtained a head CT that showed no evidence of acute intracranial abnormalities. The patient also had a history of sinusitis and so a sinus CT scan was obtained, which was normal.4. Pancytopenia. On admission, the patient's white blood count was 3.4, hemoglobin 11.3, platelet count 82, and ANC of 2400. The patient's counts were followed throughout admission. She did not require transfusion of red blood cells or platelets; however, on 07/26/2008 her ANC did dip to 900 and she was placed on neutropenic diet. At discharge her ANC is back up to 1100 and she is taken off neutropenic diet. Her white blood cell count at discharge was 1.4 and her hemoglobin was 11.2 with a platelet count of 140.\n5. History of pneumonia. During admission, the patient did not exhibit any signs or symptoms of pneumonia.\nDISPOSITION:  Home in stable condition.\nDIET:  Regular and less neutropenic.\nACTIVITY:  Resume same activity.\nFOLLOWUP: The patient will have lab work at Dr. XYZ on 08/05/2008 and she will also return to the cancer center on 08/12/2008 at 10:20 a.m. The patient is also advised to monitor for any fevers greater than 100.5 and should she have any further problems in the meantime to please call in to be seen sooner.\n"
        ],
        [
         "dbfs:/FileStore/HLS/nlp/data/mt_oncology_10/mt_note_04.txt",
         "Medical Specialty:Hematology - Oncology\nSample Name: BCCa Excision - Cheek\nDescription: Excision of basal cell carcinoma. Closure complex, open wound. Bilateral capsulectomies. Bilateral explantation and removal of ruptured silicone gel implants\n(Medical Transcription Sample Report)\nPREOPERATIVE DIAGNOSES1. Basal cell carcinoma, right cheek.2. Basal cell carcinoma, left cheek.3. Bilateral ruptured silicone gel implants.4. Bilateral Baker grade IV capsular contracture.5. Breast ptosis.\nPOSTOPERATIVE DIAGNOSES1. Basal cell carcinoma, right cheek.2. Basal cell carcinoma, left cheek.\n3. Bilateral ruptured silicone gel implants.4. Bilateral Baker grade IV capsular contracture.5. Breast ptosis.\nPROCEDURE1. Excision of basal cell carcinoma, right cheek, 2.7 cm x 1.5 cm.2. Excision of basal cell carcinoma, left cheek, 2.3 x 1.5 cm.3. Closure complex, open wound utilizing local tissue advancement flap, right cheek.4. Closure complex, open wound, left cheek utilizing local tissue advancement flap.5. Bilateral explantation and removal of ruptured silicone gel implants.\n6. Bilateral capsulectomies.7. Replacement with bilateral silicone gel implants, 325 cc.\nINDICATIONS FOR PROCEDURESThe patient is a 61-year-old woman who presents with a history of biopsy-proven basal cell carcinoma, right and left cheek. She had no prior history of skin cancer. She is status post bilateral cosmetic breast augmentation many years ago and the records are not available for this procedure. She has noted progressive hardening and distortion of the implant. She desires to have the implants removed, capsulectomy and replacement of implants. She would like to go slightly smaller than her current size as she has ptosis going with a smaller implant combined with capsulectomy will result in worsening of her ptosis. She may require a lift. She is not consenting to lift due to the surgical scars.\nPAST MEDICAL HISTORYSignificant for deep venous thrombosis and acid reflux.\nPAST SURGICAL HISTORY\nSignificant for appendectomy, colonoscopy and BAM.\nMEDICATIONS:\nCoumadin. She stopped her Coumadin five days prior to the procedures.2. Lipitor3. Effexor.4. Klonopin.\nALLERGIES: None.\nREVIEW OF SYSTEMS: Negative for dyspnea on exertion, palpitations, chest pain, and phlebitis.\nPHYSICAL EXAMINATION: VITAL SIGNS: Height 5'8\", weight 155 pounds. FACE: Examination of the face demonstrates basal cell carcinoma, right and left cheek. No lesions are noted in the regional lymph node base and no mass is appreciated.\nBREAST: Examination of the breast demonstrates bilateral grade IV capsular contracture. She has asymmetry in distortion of the breast. No masses are appreciated in the breast or the axilla. The implants appear to be subglandular.\nCHEST: Clear to auscultation and percussion.\nCARDIOVASCULAR: Regular rate and rhythm.\nEXTREMITIES: Show full range of motion. No clubbing, cyanosis or edema. SKIN: Significant environmental actinic skin damage.I recommended excision of basal cell cancers with frozen section control of the margin, closure will require local tissue flaps. I recommended exchange of the implants with reaugmentation. No final size is guaranteed or implied. We will decrease the size of the implants based on the intraoperative findings as the size is not known. Several options are available. Sizer implants will be placed to best estimate postoperative size. Ptosis will be worse following capsulectomy and going with a smaller implant. She may require a lift in the future. We have obtained preoperative clearance from the patient's cardiologist, Dr. K. The patient has been taken off Coumadin for five days and will be placed back on Coumadin the day after the surgery. The risk of deep venous thrombosis is discussed. Other risk including bleeding, infection, allergic reaction, pain, scarring, hypertrophic scarring and poor cosmetic resolve, worsening of ptosis, exposure, extrusion, the rupture of the implants, numbness of the nipple-areolar complex, hematoma, need for additional surgery, recurrent capsular contracture and recurrence of the skin cancer was all discussed, which she understands and informed consent is obtained.\nPROCEDURE IN DETAILAfter appropriate informed consent was obtained, the patient was placed in the preoperative holding area with **** input. She was then taken to the major operating room with ABCD Surgery Center, placed in a supine position. Intravenous antibiotics were given. TED hose and SCDs were placed. After the induction of adequate general endotracheal anesthesia, she was prepped and draped in the usual sterile fashion. Sites for excision and skin cancers were carefully marked with 5 mm margin. These were injected with 1% lidocaine with epinephrine.After allowing adequate time for basal constriction hemostasis, excision was performed, full thickness of the skin. They were tagged at the 12 o'clock position and sent for frozen section. Hemostasis was achieved using electrocautery. Once margins were determined to be free of involvement, local tissue flaps were designed for advancement. Undermining was performed. Hemostasis was achieved using electrocautery. Closure was performed under moderate tension with interrupted 5-0 Vicryl. Skin was closed under loop magnification paying meticulous attention and cosmetic details with 6-0 Prolene. Attention was then turned to the breast, clothes were changed, gloves were changed, incision was planned and the previous inframammary incision beginning on the right incision was made. Dissection was carried down to the capsule. It was extremely calcified. Dissection of the anterior surface of the capsule was performed. The implant was subglandular, the capsule was entered, implant was noted to be grossly intact; however, there was free silicone. Implant was removed and noted to be ruptured. No marking as to the size of the implant was found.Capsulectomy was performed leaving a small portion in the axilla in the inframammary fold. Pocket was modified to medialize the implant by placing 2-0 Prolene laterally in mattress sutures to restrict the pocket. In identical fashion, capsulectomy was performed on the left. Implant was noted to be grossly ruptured. No marking was found for the size of the implant. The entire content was weighed and found to be 350 grams. Right side was weighed and noted to be 338 grams, although some silicone was lost in the transfer and most likely was identical 350 grams. The implants appeared to be double lumen with the saline portion deflated. Completion of the capsulectomy was performed on the left.The pocket was again fashioned to improve symmetry with the right with Prolene. Pockets were thoroughly irrigated. Hemostasis was achieved using electrocautery, checked for symmetry, which is determined to be excellent. Several liters of normal saline were utilized to irrigate the pocket. Hemostasis was determined to be excellent. Drains were placed. 2-0 Vicryl sutures were preplaced. Pockets were checked for hemostasis, irrigated with normal saline, sizing was performed with placement of 275 cc implants. She was placed in a sitting position. This significantly worsened ptosis and for this reason, 325 cc implants were chosen. She is placed back in a supine position. Pockets were irrigated with antibiotic solution, 2-0 Vicryl sutures were preplaced and gloves were changed. The patient was reprepped with Betadine, towels were changed.These were soaked in antibiotic solution. Gloves were changed, gowns were changed, the patient was reprepped, towels were changed and implants were placed. The patient was placed in a sitting position. Symmetry was excellent. There was noted to be a decrease of volume of approximately 40 cc from the capsulectomy as well as the additional reduction of 25 cc. Ptosis was slightly worse; however, excellent shape of the breast. She was placed back in a supine position, preplaced 2-0 Vicryl sutures were tied; a second layer subcutaneous of 3-0 Vicryl was placed followed by a third of 4-0 Vicryl. The skin was closed with a running 4-0 Prolene. Drains were secured. All sponge and needle counts were correct. Dressing was applied.\nCOMPLICATIONSNone.\nDISPOSITIONTo recovery room.\n"
        ],
        [
         "dbfs:/FileStore/HLS/nlp/data/mt_oncology_10/mt_note_05.txt",
         "Medical Specialty:Hematology - Oncology\nSample Name: Consult - Breast Cancer - 1\nDescription: The patient is a 57-year-old female with invasive ductal carcinoma of the left breast, T1c, Nx, M0 left breast carcinoma.\n(Medical Transcription Sample Report)\nCHIEF COMPLAINT:  Left breast cancer.\nHISTORY: The patient is a 57-year-old female, who I initially saw in the office on 12/27/07, as a referral from the Tomball Breast Center. On 12/21/07, the patient underwent image-guided needle core biopsy of a 1.5 cm lesion at the 7 o'clock position of the left breast (inferomedial). The biopsy returned showing infiltrating ductal carcinoma high histologic grade. The patient stated that she had recently felt and her physician had felt a palpable mass in that area prior to her breast imaging. She prior to that area, denied any complaints. She had no nipple discharge. No trauma history. She has had been on no estrogen supplementation. She has had no other personal history of breast cancer. Her family history is positive for her mother having breast cancer at age 48. The patient has had no children and no pregnancies. She denies any change in the right breast. Subsequent to the office visit and tissue diagnosis of breast cancer, she has had medical oncology consultation with Dr. X and radiation oncology consultation with Dr. Y. I have discussed the case with Dr. X and Dr. Y, who are both in agreement with proceeding with surgery prior to adjuvant therapy. The patient's metastatic workup has otherwise been negative with MRI scan and CT scanning. The MRI scan showed some close involvement possibly involving the left pectoralis muscle, although thought to also possibly represent biopsy artifact. CT scan of the neck, chest, and abdomen is negative for metastatic disease. PAST MEDICAL HISTORY: Previous surgery is history of benign breast biopsy in 1972, laparotomy in 1981, 1982, and 1984, right oophorectomy in 1984, and ganglion cyst removal of the hand in 1987.\nMEDICATIONS: She is currently on omeprazole for reflux and indigestion.\nALLERGIES: SHE HAS NO KNOWN DRUG ALLERGIES.\nREVIEW OF SYSTEMS: Negative for any recent febrile illnesses, chest pains or shortness of breath. Positive for restless leg syndrome. Negative for any unexplained weight loss and no change in bowel or bladder habits.\nFAMILY HISTORY: Positive for breast cancer in her mother and also mesothelioma from possible asbestosis or asbestos exposure.\nSOCIAL HISTORY: The patient works as a school teacher and teaching high school.\nPHYSICAL EXAMINATION: GENERAL: The patient is a white female, alert and oriented x 3, appears her stated age of 57.\nHEENT: Head is atraumatic and normocephalic. Sclerae are anicteric. NECK: Supple.\nCHEST: Clear. HEART: Regular rate and rhythm. BREASTS: Exam reveals an approximately 1.5 cm relatively mobile focal palpable mass in the inferomedial left breast at the 7 o'clock position, which clinically is not fixed to the underlying pectoralis muscle. There are no nipple retractions. No skin dimpling. There is some, at the time of the office visit, ecchymosis from recent biopsy. There is no axillary adenopathy. The remainder of the left breast is without abnormality. The right breast is without abnormality. The axillary areas are negative for adenopathy bilaterally. ABDOMEN: Soft, nontender without masses. No gross organomegaly. No CVA or flank tenderness. EXTREMITIES: Grossly neurovascularly intact.\nIMPRESSION:  The patient is a 57-year-old female with invasive ductal carcinoma of the left breast, T1c, Nx, M0 left breast carcinoma.\nRECOMMENDATIONS:  I have discussed with the patient in detail about the diagnosis of breast cancer and the surgical options, and medical oncologist has discussed with her issues about adjuvant or neoadjuvant chemotherapy. We have decided to recommend to the patient breast conservation surgery with left breast lumpectomy with preoperative sentinel lymph node injection and mapping and left axillary dissection. The possibility of further surgery requiring wider lumpectomy or even completion mastectomy was explained to the patient. The procedure and risks of the surgery were explained to include, but not limited to extra bleeding, infection, unsightly scar formation, the possibility of local recurrence, the possibility of left upper extremity lymphedema was explained. Local numbness, paresthesias or chronic pain was explained. The patient was given an educational brochure and several brochures about the diagnosis and treatment of breast cancers. She was certainly encouraged to obtain further surgical medical opinions prior to proceeding. I believe the patient has given full informed consent and desires to proceed with the above.\n"
        ]
       ],
       "datasetInfos": [],
       "dbfsResultPath": null,
       "isJsonSchema": true,
       "metadata": {},
       "overflow": false,
       "plotOptions": {
        "customPlotOptions": {},
        "displayType": "table",
        "pivotAggregation": null,
        "pivotColumns": [],
        "xColumns": [],
        "yColumns": []
       },
       "removedWidgets": [],
       "schema": [
        {
         "metadata": "{}",
         "name": "path",
         "type": "\"string\""
        },
        {
         "metadata": "{}",
         "name": "text",
         "type": "\"string\""
        }
       ],
       "type": "table"
      }
     },
     "output_type": "display_data"
    }
   ],
   "source": [
    "df = sc.wholeTextFiles(f'{notes_path}/mt_oncology_10/mt_note_*.txt').toDF().withColumnRenamed('_1','path').withColumnRenamed('_2','text')\n",
    "display(df.limit(5))"
   ]
  },
  {
   "cell_type": "code",
   "execution_count": 0,
   "metadata": {
    "application/vnd.databricks.v1+cell": {
     "cellMetadata": {
      "byteLimit": 2048000,
      "rowLimit": 10000
     },
     "inputWidgets": {},
     "nuid": "87dfec2b-2661-4782-81f5-21607530cac6",
     "showTitle": false,
     "title": ""
    }
   },
   "outputs": [
    {
     "output_type": "display_data",
     "data": {
      "text/html": [
       "<style scoped>\n",
       "  .table-result-container {\n",
       "    max-height: 300px;\n",
       "    overflow: auto;\n",
       "  }\n",
       "  table, th, td {\n",
       "    border: 1px solid black;\n",
       "    border-collapse: collapse;\n",
       "  }\n",
       "  th, td {\n",
       "    padding: 5px;\n",
       "  }\n",
       "  th {\n",
       "    text-align: left;\n",
       "  }\n",
       "</style><div class='table-result-container'><table class='table-result'><thead style='background-color: white'><tr><th>path</th><th>name</th><th>size</th><th>modificationTime</th></tr></thead><tbody><tr><td>dbfs:/FileStore/HLS/nlp/delta/jsl/bronze/mt-oc-notes/_delta_log/</td><td>_delta_log/</td><td>0</td><td>1700485143000</td></tr><tr><td>dbfs:/FileStore/HLS/nlp/delta/jsl/bronze/mt-oc-notes/part-00000-0362e841-51bc-4a6e-b208-98e304a609e6-c000.snappy.parquet</td><td>part-00000-0362e841-51bc-4a6e-b208-98e304a609e6-c000.snappy.parquet</td><td>14465</td><td>1677436344000</td></tr><tr><td>dbfs:/FileStore/HLS/nlp/delta/jsl/bronze/mt-oc-notes/part-00000-0813bb9f-ab15-49ab-9a88-422df69bd614-c000.snappy.parquet</td><td>part-00000-0813bb9f-ab15-49ab-9a88-422df69bd614-c000.snappy.parquet</td><td>14465</td><td>1694720522000</td></tr><tr><td>dbfs:/FileStore/HLS/nlp/delta/jsl/bronze/mt-oc-notes/part-00000-0a7a9d5d-3e07-47b3-be75-e72b8d5ca574-c000.snappy.parquet</td><td>part-00000-0a7a9d5d-3e07-47b3-be75-e72b8d5ca574-c000.snappy.parquet</td><td>14465</td><td>1670935010000</td></tr><tr><td>dbfs:/FileStore/HLS/nlp/delta/jsl/bronze/mt-oc-notes/part-00000-0d47db17-d9cd-409b-ac8f-f3db8dbd813d-c000.snappy.parquet</td><td>part-00000-0d47db17-d9cd-409b-ac8f-f3db8dbd813d-c000.snappy.parquet</td><td>14465</td><td>1670889292000</td></tr><tr><td>dbfs:/FileStore/HLS/nlp/delta/jsl/bronze/mt-oc-notes/part-00000-0f791bf4-bdfc-433b-ac6e-d5728dc9e7ec-c000.snappy.parquet</td><td>part-00000-0f791bf4-bdfc-433b-ac6e-d5728dc9e7ec-c000.snappy.parquet</td><td>14465</td><td>1692343864000</td></tr><tr><td>dbfs:/FileStore/HLS/nlp/delta/jsl/bronze/mt-oc-notes/part-00000-0fbbef16-85cf-4966-a7cc-8c71ff6abcf3-c000.snappy.parquet</td><td>part-00000-0fbbef16-85cf-4966-a7cc-8c71ff6abcf3-c000.snappy.parquet</td><td>16863</td><td>1672316882000</td></tr><tr><td>dbfs:/FileStore/HLS/nlp/delta/jsl/bronze/mt-oc-notes/part-00000-18b61779-cba8-4d14-8690-5a3e2e816a79-c000.snappy.parquet</td><td>part-00000-18b61779-cba8-4d14-8690-5a3e2e816a79-c000.snappy.parquet</td><td>14982</td><td>1671462255000</td></tr><tr><td>dbfs:/FileStore/HLS/nlp/delta/jsl/bronze/mt-oc-notes/part-00000-21ed556d-0570-4172-b707-5d242be2fbc5-c000.snappy.parquet</td><td>part-00000-21ed556d-0570-4172-b707-5d242be2fbc5-c000.snappy.parquet</td><td>16863</td><td>1672621045000</td></tr><tr><td>dbfs:/FileStore/HLS/nlp/delta/jsl/bronze/mt-oc-notes/part-00000-27aa4670-5abf-4ef8-a878-9c838386e739-c000.snappy.parquet</td><td>part-00000-27aa4670-5abf-4ef8-a878-9c838386e739-c000.snappy.parquet</td><td>14465</td><td>1676300072000</td></tr><tr><td>dbfs:/FileStore/HLS/nlp/delta/jsl/bronze/mt-oc-notes/part-00000-3f757a37-8003-4e88-a180-872d0341bda1-c000.snappy.parquet</td><td>part-00000-3f757a37-8003-4e88-a180-872d0341bda1-c000.snappy.parquet</td><td>16863</td><td>1672668259000</td></tr><tr><td>dbfs:/FileStore/HLS/nlp/delta/jsl/bronze/mt-oc-notes/part-00000-444191fd-bbcd-4216-80cd-f9e5c1b06ed9-c000.snappy.parquet</td><td>part-00000-444191fd-bbcd-4216-80cd-f9e5c1b06ed9-c000.snappy.parquet</td><td>14465</td><td>1677663594000</td></tr><tr><td>dbfs:/FileStore/HLS/nlp/delta/jsl/bronze/mt-oc-notes/part-00000-4d3366ed-beab-4219-a350-97e3eec35d0c-c000.snappy.parquet</td><td>part-00000-4d3366ed-beab-4219-a350-97e3eec35d0c-c000.snappy.parquet</td><td>16863</td><td>1672618919000</td></tr><tr><td>dbfs:/FileStore/HLS/nlp/delta/jsl/bronze/mt-oc-notes/part-00000-5c297468-f717-4e29-b4d1-fa61634c5847-c000.snappy.parquet</td><td>part-00000-5c297468-f717-4e29-b4d1-fa61634c5847-c000.snappy.parquet</td><td>16863</td><td>1677766399000</td></tr><tr><td>dbfs:/FileStore/HLS/nlp/delta/jsl/bronze/mt-oc-notes/part-00000-5e0a1fcd-c964-49fe-8e4c-80ca8d17707c-c000.snappy.parquet</td><td>part-00000-5e0a1fcd-c964-49fe-8e4c-80ca8d17707c-c000.snappy.parquet</td><td>14982</td><td>1671462688000</td></tr><tr><td>dbfs:/FileStore/HLS/nlp/delta/jsl/bronze/mt-oc-notes/part-00000-5ff646a0-c9dd-46f3-99f6-44678702b08d-c000.snappy.parquet</td><td>part-00000-5ff646a0-c9dd-46f3-99f6-44678702b08d-c000.snappy.parquet</td><td>16863</td><td>1671278963000</td></tr><tr><td>dbfs:/FileStore/HLS/nlp/delta/jsl/bronze/mt-oc-notes/part-00000-62f4d2cf-fee7-4b94-ab2e-48affc55a172-c000.snappy.parquet</td><td>part-00000-62f4d2cf-fee7-4b94-ab2e-48affc55a172-c000.snappy.parquet</td><td>16863</td><td>1672668344000</td></tr><tr><td>dbfs:/FileStore/HLS/nlp/delta/jsl/bronze/mt-oc-notes/part-00000-64e29624-e281-4f48-a299-7ab2a5cceacb-c000.snappy.parquet</td><td>part-00000-64e29624-e281-4f48-a299-7ab2a5cceacb-c000.snappy.parquet</td><td>14465</td><td>1677074308000</td></tr><tr><td>dbfs:/FileStore/HLS/nlp/delta/jsl/bronze/mt-oc-notes/part-00000-8028dc4b-d771-409b-9d94-045bb6372fb2-c000.snappy.parquet</td><td>part-00000-8028dc4b-d771-409b-9d94-045bb6372fb2-c000.snappy.parquet</td><td>14465</td><td>1695884369000</td></tr><tr><td>dbfs:/FileStore/HLS/nlp/delta/jsl/bronze/mt-oc-notes/part-00000-8bff4b65-dc9f-4a44-9476-16debcb75ac4-c000.snappy.parquet</td><td>part-00000-8bff4b65-dc9f-4a44-9476-16debcb75ac4-c000.snappy.parquet</td><td>14465</td><td>1695233348000</td></tr><tr><td>dbfs:/FileStore/HLS/nlp/delta/jsl/bronze/mt-oc-notes/part-00000-962beb75-6e96-4a90-af29-59e79a3bcbc5-c000.snappy.parquet</td><td>part-00000-962beb75-6e96-4a90-af29-59e79a3bcbc5-c000.snappy.parquet</td><td>14465</td><td>1690550800000</td></tr><tr><td>dbfs:/FileStore/HLS/nlp/delta/jsl/bronze/mt-oc-notes/part-00000-a6d9fed4-8c74-4b45-a12d-c6278bf6041a-c000.snappy.parquet</td><td>part-00000-a6d9fed4-8c74-4b45-a12d-c6278bf6041a-c000.snappy.parquet</td><td>16863</td><td>1678470967000</td></tr><tr><td>dbfs:/FileStore/HLS/nlp/delta/jsl/bronze/mt-oc-notes/part-00000-adb57a98-3f35-47dd-8435-15bafd40573e-c000.snappy.parquet</td><td>part-00000-adb57a98-3f35-47dd-8435-15bafd40573e-c000.snappy.parquet</td><td>14465</td><td>1690460942000</td></tr><tr><td>dbfs:/FileStore/HLS/nlp/delta/jsl/bronze/mt-oc-notes/part-00000-b1f012c3-6ff2-4943-8d9b-8bfed68b1940-c000.snappy.parquet</td><td>part-00000-b1f012c3-6ff2-4943-8d9b-8bfed68b1940-c000.snappy.parquet</td><td>16863</td><td>1678463012000</td></tr><tr><td>dbfs:/FileStore/HLS/nlp/delta/jsl/bronze/mt-oc-notes/part-00000-b3876fcb-e550-45c2-b9a5-629b4ff0a20c-c000.snappy.parquet</td><td>part-00000-b3876fcb-e550-45c2-b9a5-629b4ff0a20c-c000.snappy.parquet</td><td>14465</td><td>1690876890000</td></tr><tr><td>dbfs:/FileStore/HLS/nlp/delta/jsl/bronze/mt-oc-notes/part-00000-bc911639-e91a-4772-b613-7981f6d10c3b-c000.snappy.parquet</td><td>part-00000-bc911639-e91a-4772-b613-7981f6d10c3b-c000.snappy.parquet</td><td>17346</td><td>1670419209000</td></tr><tr><td>dbfs:/FileStore/HLS/nlp/delta/jsl/bronze/mt-oc-notes/part-00000-caabd5ca-2b0f-46b9-8f19-8a64490543cc-c000.snappy.parquet</td><td>part-00000-caabd5ca-2b0f-46b9-8f19-8a64490543cc-c000.snappy.parquet</td><td>17346</td><td>1683111758000</td></tr><tr><td>dbfs:/FileStore/HLS/nlp/delta/jsl/bronze/mt-oc-notes/part-00000-d3da3053-78e7-4f65-bc4b-f5acc8027716-c000.snappy.parquet</td><td>part-00000-d3da3053-78e7-4f65-bc4b-f5acc8027716-c000.snappy.parquet</td><td>14465</td><td>1700485132000</td></tr><tr><td>dbfs:/FileStore/HLS/nlp/delta/jsl/bronze/mt-oc-notes/part-00000-d3e0c238-8f2e-40f1-87f3-efb80d90f867-c000.snappy.parquet</td><td>part-00000-d3e0c238-8f2e-40f1-87f3-efb80d90f867-c000.snappy.parquet</td><td>14465</td><td>1690548876000</td></tr><tr><td>dbfs:/FileStore/HLS/nlp/delta/jsl/bronze/mt-oc-notes/part-00000-d54b985d-3c47-4be0-ba5d-42aa33d3bfd4-c000.snappy.parquet</td><td>part-00000-d54b985d-3c47-4be0-ba5d-42aa33d3bfd4-c000.snappy.parquet</td><td>17346</td><td>1670586035000</td></tr><tr><td>dbfs:/FileStore/HLS/nlp/delta/jsl/bronze/mt-oc-notes/part-00000-d92738f1-f74e-486b-aad6-88fb7220d846-c000.snappy.parquet</td><td>part-00000-d92738f1-f74e-486b-aad6-88fb7220d846-c000.snappy.parquet</td><td>16863</td><td>1678186050000</td></tr><tr><td>dbfs:/FileStore/HLS/nlp/delta/jsl/bronze/mt-oc-notes/part-00000-de96fb7e-7887-4ce3-ad30-fee750f4bc92-c000.snappy.parquet</td><td>part-00000-de96fb7e-7887-4ce3-ad30-fee750f4bc92-c000.snappy.parquet</td><td>14465</td><td>1690551137000</td></tr><tr><td>dbfs:/FileStore/HLS/nlp/delta/jsl/bronze/mt-oc-notes/part-00000-ebe0d823-f629-400a-a886-08a355820975-c000.snappy.parquet</td><td>part-00000-ebe0d823-f629-400a-a886-08a355820975-c000.snappy.parquet</td><td>16863</td><td>1678117470000</td></tr><tr><td>dbfs:/FileStore/HLS/nlp/delta/jsl/bronze/mt-oc-notes/part-00001-048470bc-6764-433b-9d01-34d680366037-c000.snappy.parquet</td><td>part-00001-048470bc-6764-433b-9d01-34d680366037-c000.snappy.parquet</td><td>9773</td><td>1690876890000</td></tr><tr><td>dbfs:/FileStore/HLS/nlp/delta/jsl/bronze/mt-oc-notes/part-00001-0db039c4-519b-40db-b156-bce5ece1391f-c000.snappy.parquet</td><td>part-00001-0db039c4-519b-40db-b156-bce5ece1391f-c000.snappy.parquet</td><td>8886</td><td>1672668259000</td></tr><tr><td>dbfs:/FileStore/HLS/nlp/delta/jsl/bronze/mt-oc-notes/part-00001-0ef55dab-de0f-48ff-906f-beeeeda4fe8f-c000.snappy.parquet</td><td>part-00001-0ef55dab-de0f-48ff-906f-beeeeda4fe8f-c000.snappy.parquet</td><td>8988</td><td>1677663594000</td></tr><tr><td>dbfs:/FileStore/HLS/nlp/delta/jsl/bronze/mt-oc-notes/part-00001-11bb3666-a0b8-419e-8daf-6780e1eac307-c000.snappy.parquet</td><td>part-00001-11bb3666-a0b8-419e-8daf-6780e1eac307-c000.snappy.parquet</td><td>8988</td><td>1676300072000</td></tr><tr><td>dbfs:/FileStore/HLS/nlp/delta/jsl/bronze/mt-oc-notes/part-00001-202f9823-f59f-4fca-8e7a-605abc4cf72d-c000.snappy.parquet</td><td>part-00001-202f9823-f59f-4fca-8e7a-605abc4cf72d-c000.snappy.parquet</td><td>8886</td><td>1678470967000</td></tr><tr><td>dbfs:/FileStore/HLS/nlp/delta/jsl/bronze/mt-oc-notes/part-00001-2512a16a-60c4-450d-89e9-045cede51387-c000.snappy.parquet</td><td>part-00001-2512a16a-60c4-450d-89e9-045cede51387-c000.snappy.parquet</td><td>8886</td><td>1672316883000</td></tr><tr><td>dbfs:/FileStore/HLS/nlp/delta/jsl/bronze/mt-oc-notes/part-00001-2a72ae44-e0d0-441c-a0c6-640ebd6ab13c-c000.snappy.parquet</td><td>part-00001-2a72ae44-e0d0-441c-a0c6-640ebd6ab13c-c000.snappy.parquet</td><td>8886</td><td>1678463012000</td></tr><tr><td>dbfs:/FileStore/HLS/nlp/delta/jsl/bronze/mt-oc-notes/part-00001-2bace718-416f-49da-9065-9a8b2791d93c-c000.snappy.parquet</td><td>part-00001-2bace718-416f-49da-9065-9a8b2791d93c-c000.snappy.parquet</td><td>8886</td><td>1672668344000</td></tr><tr><td>dbfs:/FileStore/HLS/nlp/delta/jsl/bronze/mt-oc-notes/part-00001-2d2cc053-4bfc-46e8-8d0f-c597cef8b7ea-c000.snappy.parquet</td><td>part-00001-2d2cc053-4bfc-46e8-8d0f-c597cef8b7ea-c000.snappy.parquet</td><td>8886</td><td>1671278963000</td></tr><tr><td>dbfs:/FileStore/HLS/nlp/delta/jsl/bronze/mt-oc-notes/part-00001-2e950f45-d20c-452d-bfb4-18adbb72cff9-c000.snappy.parquet</td><td>part-00001-2e950f45-d20c-452d-bfb4-18adbb72cff9-c000.snappy.parquet</td><td>9773</td><td>1695233361000</td></tr><tr><td>dbfs:/FileStore/HLS/nlp/delta/jsl/bronze/mt-oc-notes/part-00001-2feeafbb-a970-49be-b85e-661ce301fc04-c000.snappy.parquet</td><td>part-00001-2feeafbb-a970-49be-b85e-661ce301fc04-c000.snappy.parquet</td><td>9361</td><td>1670419209000</td></tr><tr><td>dbfs:/FileStore/HLS/nlp/delta/jsl/bronze/mt-oc-notes/part-00001-3b2612a0-e28c-4879-9cbf-12b2955e9ed7-c000.snappy.parquet</td><td>part-00001-3b2612a0-e28c-4879-9cbf-12b2955e9ed7-c000.snappy.parquet</td><td>9491</td><td>1671462688000</td></tr><tr><td>dbfs:/FileStore/HLS/nlp/delta/jsl/bronze/mt-oc-notes/part-00001-3ebad6a4-8501-40da-a67e-e7c43bb74cf0-c000.snappy.parquet</td><td>part-00001-3ebad6a4-8501-40da-a67e-e7c43bb74cf0-c000.snappy.parquet</td><td>9361</td><td>1683111758000</td></tr><tr><td>dbfs:/FileStore/HLS/nlp/delta/jsl/bronze/mt-oc-notes/part-00001-45e588c1-03ea-4483-889a-d7dd43f0bddb-c000.snappy.parquet</td><td>part-00001-45e588c1-03ea-4483-889a-d7dd43f0bddb-c000.snappy.parquet</td><td>8988</td><td>1670889292000</td></tr><tr><td>dbfs:/FileStore/HLS/nlp/delta/jsl/bronze/mt-oc-notes/part-00001-59f86685-6fec-4302-91e8-369280ba509b-c000.snappy.parquet</td><td>part-00001-59f86685-6fec-4302-91e8-369280ba509b-c000.snappy.parquet</td><td>9773</td><td>1695884382000</td></tr><tr><td>dbfs:/FileStore/HLS/nlp/delta/jsl/bronze/mt-oc-notes/part-00001-6318b0dd-22c4-4382-aa78-c41163446194-c000.snappy.parquet</td><td>part-00001-6318b0dd-22c4-4382-aa78-c41163446194-c000.snappy.parquet</td><td>9361</td><td>1670586035000</td></tr><tr><td>dbfs:/FileStore/HLS/nlp/delta/jsl/bronze/mt-oc-notes/part-00001-7438b8ca-e4ab-4aca-a31d-9f19b74137f7-c000.snappy.parquet</td><td>part-00001-7438b8ca-e4ab-4aca-a31d-9f19b74137f7-c000.snappy.parquet</td><td>8988</td><td>1677436344000</td></tr><tr><td>dbfs:/FileStore/HLS/nlp/delta/jsl/bronze/mt-oc-notes/part-00001-767ea426-0af2-4374-a8f9-b7122462d6f7-c000.snappy.parquet</td><td>part-00001-767ea426-0af2-4374-a8f9-b7122462d6f7-c000.snappy.parquet</td><td>9773</td><td>1700485135000</td></tr><tr><td>dbfs:/FileStore/HLS/nlp/delta/jsl/bronze/mt-oc-notes/part-00001-7c29a912-5b90-42f6-9d55-1cdd13d33cfe-c000.snappy.parquet</td><td>part-00001-7c29a912-5b90-42f6-9d55-1cdd13d33cfe-c000.snappy.parquet</td><td>9491</td><td>1671462255000</td></tr><tr><td>dbfs:/FileStore/HLS/nlp/delta/jsl/bronze/mt-oc-notes/part-00001-7c627fd6-46a0-4926-a804-1eb3f789e425-c000.snappy.parquet</td><td>part-00001-7c627fd6-46a0-4926-a804-1eb3f789e425-c000.snappy.parquet</td><td>8988</td><td>1690548876000</td></tr><tr><td>dbfs:/FileStore/HLS/nlp/delta/jsl/bronze/mt-oc-notes/part-00001-803521d4-75ec-486c-8a93-9a6bd48226bd-c000.snappy.parquet</td><td>part-00001-803521d4-75ec-486c-8a93-9a6bd48226bd-c000.snappy.parquet</td><td>8988</td><td>1690460942000</td></tr><tr><td>dbfs:/FileStore/HLS/nlp/delta/jsl/bronze/mt-oc-notes/part-00001-86813fab-02ac-44fe-88d4-8ca90395dcbd-c000.snappy.parquet</td><td>part-00001-86813fab-02ac-44fe-88d4-8ca90395dcbd-c000.snappy.parquet</td><td>8886</td><td>1677766399000</td></tr><tr><td>dbfs:/FileStore/HLS/nlp/delta/jsl/bronze/mt-oc-notes/part-00001-87b2a93c-5ef2-4aa5-840f-f5abd378d616-c000.snappy.parquet</td><td>part-00001-87b2a93c-5ef2-4aa5-840f-f5abd378d616-c000.snappy.parquet</td><td>8988</td><td>1670935010000</td></tr><tr><td>dbfs:/FileStore/HLS/nlp/delta/jsl/bronze/mt-oc-notes/part-00001-a15a6a3c-b906-4837-9e1b-5c013c526f87-c000.snappy.parquet</td><td>part-00001-a15a6a3c-b906-4837-9e1b-5c013c526f87-c000.snappy.parquet</td><td>8988</td><td>1692343864000</td></tr><tr><td>dbfs:/FileStore/HLS/nlp/delta/jsl/bronze/mt-oc-notes/part-00001-a43a5f22-bc9b-4d80-ad1a-83f4ebf15aea-c000.snappy.parquet</td><td>part-00001-a43a5f22-bc9b-4d80-ad1a-83f4ebf15aea-c000.snappy.parquet</td><td>9773</td><td>1690550800000</td></tr><tr><td>dbfs:/FileStore/HLS/nlp/delta/jsl/bronze/mt-oc-notes/part-00001-c3db617c-a2f6-478c-ab32-e2d3cb535d8b-c000.snappy.parquet</td><td>part-00001-c3db617c-a2f6-478c-ab32-e2d3cb535d8b-c000.snappy.parquet</td><td>8886</td><td>1678186050000</td></tr><tr><td>dbfs:/FileStore/HLS/nlp/delta/jsl/bronze/mt-oc-notes/part-00001-cec66b40-af39-4c1f-a6f4-e07a5c27aa6a-c000.snappy.parquet</td><td>part-00001-cec66b40-af39-4c1f-a6f4-e07a5c27aa6a-c000.snappy.parquet</td><td>8886</td><td>1672621045000</td></tr><tr><td>dbfs:/FileStore/HLS/nlp/delta/jsl/bronze/mt-oc-notes/part-00001-d985d400-571d-45ad-ac80-be842622ca5b-c000.snappy.parquet</td><td>part-00001-d985d400-571d-45ad-ac80-be842622ca5b-c000.snappy.parquet</td><td>9773</td><td>1694720520000</td></tr><tr><td>dbfs:/FileStore/HLS/nlp/delta/jsl/bronze/mt-oc-notes/part-00001-e003c2c5-ec86-49d2-88fb-6c19f2529e07-c000.snappy.parquet</td><td>part-00001-e003c2c5-ec86-49d2-88fb-6c19f2529e07-c000.snappy.parquet</td><td>8886</td><td>1672618919000</td></tr><tr><td>dbfs:/FileStore/HLS/nlp/delta/jsl/bronze/mt-oc-notes/part-00001-e43a95a0-7f22-43e2-9807-77dbcb6e6a41-c000.snappy.parquet</td><td>part-00001-e43a95a0-7f22-43e2-9807-77dbcb6e6a41-c000.snappy.parquet</td><td>8988</td><td>1677074308000</td></tr><tr><td>dbfs:/FileStore/HLS/nlp/delta/jsl/bronze/mt-oc-notes/part-00001-e69f296e-11a0-413e-b261-c7d501f0e743-c000.snappy.parquet</td><td>part-00001-e69f296e-11a0-413e-b261-c7d501f0e743-c000.snappy.parquet</td><td>9773</td><td>1690551137000</td></tr><tr><td>dbfs:/FileStore/HLS/nlp/delta/jsl/bronze/mt-oc-notes/part-00001-fecf1428-3497-4693-a3a5-cf240bdfe6a9-c000.snappy.parquet</td><td>part-00001-fecf1428-3497-4693-a3a5-cf240bdfe6a9-c000.snappy.parquet</td><td>8886</td><td>1678117470000</td></tr></tbody></table></div>"
      ]
     },
     "metadata": {
      "application/vnd.databricks.v1+output": {
       "addedWidgets": {},
       "aggData": [],
       "aggError": "",
       "aggOverflow": false,
       "aggSchema": [],
       "aggSeriesLimitReached": false,
       "aggType": "",
       "arguments": {},
       "columnCustomDisplayInfos": {},
       "data": [
        [
         "dbfs:/FileStore/HLS/nlp/delta/jsl/bronze/mt-oc-notes/_delta_log/",
         "_delta_log/",
         0,
         1700485143000
        ],
        [
         "dbfs:/FileStore/HLS/nlp/delta/jsl/bronze/mt-oc-notes/part-00000-0362e841-51bc-4a6e-b208-98e304a609e6-c000.snappy.parquet",
         "part-00000-0362e841-51bc-4a6e-b208-98e304a609e6-c000.snappy.parquet",
         14465,
         1677436344000
        ],
        [
         "dbfs:/FileStore/HLS/nlp/delta/jsl/bronze/mt-oc-notes/part-00000-0813bb9f-ab15-49ab-9a88-422df69bd614-c000.snappy.parquet",
         "part-00000-0813bb9f-ab15-49ab-9a88-422df69bd614-c000.snappy.parquet",
         14465,
         1694720522000
        ],
        [
         "dbfs:/FileStore/HLS/nlp/delta/jsl/bronze/mt-oc-notes/part-00000-0a7a9d5d-3e07-47b3-be75-e72b8d5ca574-c000.snappy.parquet",
         "part-00000-0a7a9d5d-3e07-47b3-be75-e72b8d5ca574-c000.snappy.parquet",
         14465,
         1670935010000
        ],
        [
         "dbfs:/FileStore/HLS/nlp/delta/jsl/bronze/mt-oc-notes/part-00000-0d47db17-d9cd-409b-ac8f-f3db8dbd813d-c000.snappy.parquet",
         "part-00000-0d47db17-d9cd-409b-ac8f-f3db8dbd813d-c000.snappy.parquet",
         14465,
         1670889292000
        ],
        [
         "dbfs:/FileStore/HLS/nlp/delta/jsl/bronze/mt-oc-notes/part-00000-0f791bf4-bdfc-433b-ac6e-d5728dc9e7ec-c000.snappy.parquet",
         "part-00000-0f791bf4-bdfc-433b-ac6e-d5728dc9e7ec-c000.snappy.parquet",
         14465,
         1692343864000
        ],
        [
         "dbfs:/FileStore/HLS/nlp/delta/jsl/bronze/mt-oc-notes/part-00000-0fbbef16-85cf-4966-a7cc-8c71ff6abcf3-c000.snappy.parquet",
         "part-00000-0fbbef16-85cf-4966-a7cc-8c71ff6abcf3-c000.snappy.parquet",
         16863,
         1672316882000
        ],
        [
         "dbfs:/FileStore/HLS/nlp/delta/jsl/bronze/mt-oc-notes/part-00000-18b61779-cba8-4d14-8690-5a3e2e816a79-c000.snappy.parquet",
         "part-00000-18b61779-cba8-4d14-8690-5a3e2e816a79-c000.snappy.parquet",
         14982,
         1671462255000
        ],
        [
         "dbfs:/FileStore/HLS/nlp/delta/jsl/bronze/mt-oc-notes/part-00000-21ed556d-0570-4172-b707-5d242be2fbc5-c000.snappy.parquet",
         "part-00000-21ed556d-0570-4172-b707-5d242be2fbc5-c000.snappy.parquet",
         16863,
         1672621045000
        ],
        [
         "dbfs:/FileStore/HLS/nlp/delta/jsl/bronze/mt-oc-notes/part-00000-27aa4670-5abf-4ef8-a878-9c838386e739-c000.snappy.parquet",
         "part-00000-27aa4670-5abf-4ef8-a878-9c838386e739-c000.snappy.parquet",
         14465,
         1676300072000
        ],
        [
         "dbfs:/FileStore/HLS/nlp/delta/jsl/bronze/mt-oc-notes/part-00000-3f757a37-8003-4e88-a180-872d0341bda1-c000.snappy.parquet",
         "part-00000-3f757a37-8003-4e88-a180-872d0341bda1-c000.snappy.parquet",
         16863,
         1672668259000
        ],
        [
         "dbfs:/FileStore/HLS/nlp/delta/jsl/bronze/mt-oc-notes/part-00000-444191fd-bbcd-4216-80cd-f9e5c1b06ed9-c000.snappy.parquet",
         "part-00000-444191fd-bbcd-4216-80cd-f9e5c1b06ed9-c000.snappy.parquet",
         14465,
         1677663594000
        ],
        [
         "dbfs:/FileStore/HLS/nlp/delta/jsl/bronze/mt-oc-notes/part-00000-4d3366ed-beab-4219-a350-97e3eec35d0c-c000.snappy.parquet",
         "part-00000-4d3366ed-beab-4219-a350-97e3eec35d0c-c000.snappy.parquet",
         16863,
         1672618919000
        ],
        [
         "dbfs:/FileStore/HLS/nlp/delta/jsl/bronze/mt-oc-notes/part-00000-5c297468-f717-4e29-b4d1-fa61634c5847-c000.snappy.parquet",
         "part-00000-5c297468-f717-4e29-b4d1-fa61634c5847-c000.snappy.parquet",
         16863,
         1677766399000
        ],
        [
         "dbfs:/FileStore/HLS/nlp/delta/jsl/bronze/mt-oc-notes/part-00000-5e0a1fcd-c964-49fe-8e4c-80ca8d17707c-c000.snappy.parquet",
         "part-00000-5e0a1fcd-c964-49fe-8e4c-80ca8d17707c-c000.snappy.parquet",
         14982,
         1671462688000
        ],
        [
         "dbfs:/FileStore/HLS/nlp/delta/jsl/bronze/mt-oc-notes/part-00000-5ff646a0-c9dd-46f3-99f6-44678702b08d-c000.snappy.parquet",
         "part-00000-5ff646a0-c9dd-46f3-99f6-44678702b08d-c000.snappy.parquet",
         16863,
         1671278963000
        ],
        [
         "dbfs:/FileStore/HLS/nlp/delta/jsl/bronze/mt-oc-notes/part-00000-62f4d2cf-fee7-4b94-ab2e-48affc55a172-c000.snappy.parquet",
         "part-00000-62f4d2cf-fee7-4b94-ab2e-48affc55a172-c000.snappy.parquet",
         16863,
         1672668344000
        ],
        [
         "dbfs:/FileStore/HLS/nlp/delta/jsl/bronze/mt-oc-notes/part-00000-64e29624-e281-4f48-a299-7ab2a5cceacb-c000.snappy.parquet",
         "part-00000-64e29624-e281-4f48-a299-7ab2a5cceacb-c000.snappy.parquet",
         14465,
         1677074308000
        ],
        [
         "dbfs:/FileStore/HLS/nlp/delta/jsl/bronze/mt-oc-notes/part-00000-8028dc4b-d771-409b-9d94-045bb6372fb2-c000.snappy.parquet",
         "part-00000-8028dc4b-d771-409b-9d94-045bb6372fb2-c000.snappy.parquet",
         14465,
         1695884369000
        ],
        [
         "dbfs:/FileStore/HLS/nlp/delta/jsl/bronze/mt-oc-notes/part-00000-8bff4b65-dc9f-4a44-9476-16debcb75ac4-c000.snappy.parquet",
         "part-00000-8bff4b65-dc9f-4a44-9476-16debcb75ac4-c000.snappy.parquet",
         14465,
         1695233348000
        ],
        [
         "dbfs:/FileStore/HLS/nlp/delta/jsl/bronze/mt-oc-notes/part-00000-962beb75-6e96-4a90-af29-59e79a3bcbc5-c000.snappy.parquet",
         "part-00000-962beb75-6e96-4a90-af29-59e79a3bcbc5-c000.snappy.parquet",
         14465,
         1690550800000
        ],
        [
         "dbfs:/FileStore/HLS/nlp/delta/jsl/bronze/mt-oc-notes/part-00000-a6d9fed4-8c74-4b45-a12d-c6278bf6041a-c000.snappy.parquet",
         "part-00000-a6d9fed4-8c74-4b45-a12d-c6278bf6041a-c000.snappy.parquet",
         16863,
         1678470967000
        ],
        [
         "dbfs:/FileStore/HLS/nlp/delta/jsl/bronze/mt-oc-notes/part-00000-adb57a98-3f35-47dd-8435-15bafd40573e-c000.snappy.parquet",
         "part-00000-adb57a98-3f35-47dd-8435-15bafd40573e-c000.snappy.parquet",
         14465,
         1690460942000
        ],
        [
         "dbfs:/FileStore/HLS/nlp/delta/jsl/bronze/mt-oc-notes/part-00000-b1f012c3-6ff2-4943-8d9b-8bfed68b1940-c000.snappy.parquet",
         "part-00000-b1f012c3-6ff2-4943-8d9b-8bfed68b1940-c000.snappy.parquet",
         16863,
         1678463012000
        ],
        [
         "dbfs:/FileStore/HLS/nlp/delta/jsl/bronze/mt-oc-notes/part-00000-b3876fcb-e550-45c2-b9a5-629b4ff0a20c-c000.snappy.parquet",
         "part-00000-b3876fcb-e550-45c2-b9a5-629b4ff0a20c-c000.snappy.parquet",
         14465,
         1690876890000
        ],
        [
         "dbfs:/FileStore/HLS/nlp/delta/jsl/bronze/mt-oc-notes/part-00000-bc911639-e91a-4772-b613-7981f6d10c3b-c000.snappy.parquet",
         "part-00000-bc911639-e91a-4772-b613-7981f6d10c3b-c000.snappy.parquet",
         17346,
         1670419209000
        ],
        [
         "dbfs:/FileStore/HLS/nlp/delta/jsl/bronze/mt-oc-notes/part-00000-caabd5ca-2b0f-46b9-8f19-8a64490543cc-c000.snappy.parquet",
         "part-00000-caabd5ca-2b0f-46b9-8f19-8a64490543cc-c000.snappy.parquet",
         17346,
         1683111758000
        ],
        [
         "dbfs:/FileStore/HLS/nlp/delta/jsl/bronze/mt-oc-notes/part-00000-d3da3053-78e7-4f65-bc4b-f5acc8027716-c000.snappy.parquet",
         "part-00000-d3da3053-78e7-4f65-bc4b-f5acc8027716-c000.snappy.parquet",
         14465,
         1700485132000
        ],
        [
         "dbfs:/FileStore/HLS/nlp/delta/jsl/bronze/mt-oc-notes/part-00000-d3e0c238-8f2e-40f1-87f3-efb80d90f867-c000.snappy.parquet",
         "part-00000-d3e0c238-8f2e-40f1-87f3-efb80d90f867-c000.snappy.parquet",
         14465,
         1690548876000
        ],
        [
         "dbfs:/FileStore/HLS/nlp/delta/jsl/bronze/mt-oc-notes/part-00000-d54b985d-3c47-4be0-ba5d-42aa33d3bfd4-c000.snappy.parquet",
         "part-00000-d54b985d-3c47-4be0-ba5d-42aa33d3bfd4-c000.snappy.parquet",
         17346,
         1670586035000
        ],
        [
         "dbfs:/FileStore/HLS/nlp/delta/jsl/bronze/mt-oc-notes/part-00000-d92738f1-f74e-486b-aad6-88fb7220d846-c000.snappy.parquet",
         "part-00000-d92738f1-f74e-486b-aad6-88fb7220d846-c000.snappy.parquet",
         16863,
         1678186050000
        ],
        [
         "dbfs:/FileStore/HLS/nlp/delta/jsl/bronze/mt-oc-notes/part-00000-de96fb7e-7887-4ce3-ad30-fee750f4bc92-c000.snappy.parquet",
         "part-00000-de96fb7e-7887-4ce3-ad30-fee750f4bc92-c000.snappy.parquet",
         14465,
         1690551137000
        ],
        [
         "dbfs:/FileStore/HLS/nlp/delta/jsl/bronze/mt-oc-notes/part-00000-ebe0d823-f629-400a-a886-08a355820975-c000.snappy.parquet",
         "part-00000-ebe0d823-f629-400a-a886-08a355820975-c000.snappy.parquet",
         16863,
         1678117470000
        ],
        [
         "dbfs:/FileStore/HLS/nlp/delta/jsl/bronze/mt-oc-notes/part-00001-048470bc-6764-433b-9d01-34d680366037-c000.snappy.parquet",
         "part-00001-048470bc-6764-433b-9d01-34d680366037-c000.snappy.parquet",
         9773,
         1690876890000
        ],
        [
         "dbfs:/FileStore/HLS/nlp/delta/jsl/bronze/mt-oc-notes/part-00001-0db039c4-519b-40db-b156-bce5ece1391f-c000.snappy.parquet",
         "part-00001-0db039c4-519b-40db-b156-bce5ece1391f-c000.snappy.parquet",
         8886,
         1672668259000
        ],
        [
         "dbfs:/FileStore/HLS/nlp/delta/jsl/bronze/mt-oc-notes/part-00001-0ef55dab-de0f-48ff-906f-beeeeda4fe8f-c000.snappy.parquet",
         "part-00001-0ef55dab-de0f-48ff-906f-beeeeda4fe8f-c000.snappy.parquet",
         8988,
         1677663594000
        ],
        [
         "dbfs:/FileStore/HLS/nlp/delta/jsl/bronze/mt-oc-notes/part-00001-11bb3666-a0b8-419e-8daf-6780e1eac307-c000.snappy.parquet",
         "part-00001-11bb3666-a0b8-419e-8daf-6780e1eac307-c000.snappy.parquet",
         8988,
         1676300072000
        ],
        [
         "dbfs:/FileStore/HLS/nlp/delta/jsl/bronze/mt-oc-notes/part-00001-202f9823-f59f-4fca-8e7a-605abc4cf72d-c000.snappy.parquet",
         "part-00001-202f9823-f59f-4fca-8e7a-605abc4cf72d-c000.snappy.parquet",
         8886,
         1678470967000
        ],
        [
         "dbfs:/FileStore/HLS/nlp/delta/jsl/bronze/mt-oc-notes/part-00001-2512a16a-60c4-450d-89e9-045cede51387-c000.snappy.parquet",
         "part-00001-2512a16a-60c4-450d-89e9-045cede51387-c000.snappy.parquet",
         8886,
         1672316883000
        ],
        [
         "dbfs:/FileStore/HLS/nlp/delta/jsl/bronze/mt-oc-notes/part-00001-2a72ae44-e0d0-441c-a0c6-640ebd6ab13c-c000.snappy.parquet",
         "part-00001-2a72ae44-e0d0-441c-a0c6-640ebd6ab13c-c000.snappy.parquet",
         8886,
         1678463012000
        ],
        [
         "dbfs:/FileStore/HLS/nlp/delta/jsl/bronze/mt-oc-notes/part-00001-2bace718-416f-49da-9065-9a8b2791d93c-c000.snappy.parquet",
         "part-00001-2bace718-416f-49da-9065-9a8b2791d93c-c000.snappy.parquet",
         8886,
         1672668344000
        ],
        [
         "dbfs:/FileStore/HLS/nlp/delta/jsl/bronze/mt-oc-notes/part-00001-2d2cc053-4bfc-46e8-8d0f-c597cef8b7ea-c000.snappy.parquet",
         "part-00001-2d2cc053-4bfc-46e8-8d0f-c597cef8b7ea-c000.snappy.parquet",
         8886,
         1671278963000
        ],
        [
         "dbfs:/FileStore/HLS/nlp/delta/jsl/bronze/mt-oc-notes/part-00001-2e950f45-d20c-452d-bfb4-18adbb72cff9-c000.snappy.parquet",
         "part-00001-2e950f45-d20c-452d-bfb4-18adbb72cff9-c000.snappy.parquet",
         9773,
         1695233361000
        ],
        [
         "dbfs:/FileStore/HLS/nlp/delta/jsl/bronze/mt-oc-notes/part-00001-2feeafbb-a970-49be-b85e-661ce301fc04-c000.snappy.parquet",
         "part-00001-2feeafbb-a970-49be-b85e-661ce301fc04-c000.snappy.parquet",
         9361,
         1670419209000
        ],
        [
         "dbfs:/FileStore/HLS/nlp/delta/jsl/bronze/mt-oc-notes/part-00001-3b2612a0-e28c-4879-9cbf-12b2955e9ed7-c000.snappy.parquet",
         "part-00001-3b2612a0-e28c-4879-9cbf-12b2955e9ed7-c000.snappy.parquet",
         9491,
         1671462688000
        ],
        [
         "dbfs:/FileStore/HLS/nlp/delta/jsl/bronze/mt-oc-notes/part-00001-3ebad6a4-8501-40da-a67e-e7c43bb74cf0-c000.snappy.parquet",
         "part-00001-3ebad6a4-8501-40da-a67e-e7c43bb74cf0-c000.snappy.parquet",
         9361,
         1683111758000
        ],
        [
         "dbfs:/FileStore/HLS/nlp/delta/jsl/bronze/mt-oc-notes/part-00001-45e588c1-03ea-4483-889a-d7dd43f0bddb-c000.snappy.parquet",
         "part-00001-45e588c1-03ea-4483-889a-d7dd43f0bddb-c000.snappy.parquet",
         8988,
         1670889292000
        ],
        [
         "dbfs:/FileStore/HLS/nlp/delta/jsl/bronze/mt-oc-notes/part-00001-59f86685-6fec-4302-91e8-369280ba509b-c000.snappy.parquet",
         "part-00001-59f86685-6fec-4302-91e8-369280ba509b-c000.snappy.parquet",
         9773,
         1695884382000
        ],
        [
         "dbfs:/FileStore/HLS/nlp/delta/jsl/bronze/mt-oc-notes/part-00001-6318b0dd-22c4-4382-aa78-c41163446194-c000.snappy.parquet",
         "part-00001-6318b0dd-22c4-4382-aa78-c41163446194-c000.snappy.parquet",
         9361,
         1670586035000
        ],
        [
         "dbfs:/FileStore/HLS/nlp/delta/jsl/bronze/mt-oc-notes/part-00001-7438b8ca-e4ab-4aca-a31d-9f19b74137f7-c000.snappy.parquet",
         "part-00001-7438b8ca-e4ab-4aca-a31d-9f19b74137f7-c000.snappy.parquet",
         8988,
         1677436344000
        ],
        [
         "dbfs:/FileStore/HLS/nlp/delta/jsl/bronze/mt-oc-notes/part-00001-767ea426-0af2-4374-a8f9-b7122462d6f7-c000.snappy.parquet",
         "part-00001-767ea426-0af2-4374-a8f9-b7122462d6f7-c000.snappy.parquet",
         9773,
         1700485135000
        ],
        [
         "dbfs:/FileStore/HLS/nlp/delta/jsl/bronze/mt-oc-notes/part-00001-7c29a912-5b90-42f6-9d55-1cdd13d33cfe-c000.snappy.parquet",
         "part-00001-7c29a912-5b90-42f6-9d55-1cdd13d33cfe-c000.snappy.parquet",
         9491,
         1671462255000
        ],
        [
         "dbfs:/FileStore/HLS/nlp/delta/jsl/bronze/mt-oc-notes/part-00001-7c627fd6-46a0-4926-a804-1eb3f789e425-c000.snappy.parquet",
         "part-00001-7c627fd6-46a0-4926-a804-1eb3f789e425-c000.snappy.parquet",
         8988,
         1690548876000
        ],
        [
         "dbfs:/FileStore/HLS/nlp/delta/jsl/bronze/mt-oc-notes/part-00001-803521d4-75ec-486c-8a93-9a6bd48226bd-c000.snappy.parquet",
         "part-00001-803521d4-75ec-486c-8a93-9a6bd48226bd-c000.snappy.parquet",
         8988,
         1690460942000
        ],
        [
         "dbfs:/FileStore/HLS/nlp/delta/jsl/bronze/mt-oc-notes/part-00001-86813fab-02ac-44fe-88d4-8ca90395dcbd-c000.snappy.parquet",
         "part-00001-86813fab-02ac-44fe-88d4-8ca90395dcbd-c000.snappy.parquet",
         8886,
         1677766399000
        ],
        [
         "dbfs:/FileStore/HLS/nlp/delta/jsl/bronze/mt-oc-notes/part-00001-87b2a93c-5ef2-4aa5-840f-f5abd378d616-c000.snappy.parquet",
         "part-00001-87b2a93c-5ef2-4aa5-840f-f5abd378d616-c000.snappy.parquet",
         8988,
         1670935010000
        ],
        [
         "dbfs:/FileStore/HLS/nlp/delta/jsl/bronze/mt-oc-notes/part-00001-a15a6a3c-b906-4837-9e1b-5c013c526f87-c000.snappy.parquet",
         "part-00001-a15a6a3c-b906-4837-9e1b-5c013c526f87-c000.snappy.parquet",
         8988,
         1692343864000
        ],
        [
         "dbfs:/FileStore/HLS/nlp/delta/jsl/bronze/mt-oc-notes/part-00001-a43a5f22-bc9b-4d80-ad1a-83f4ebf15aea-c000.snappy.parquet",
         "part-00001-a43a5f22-bc9b-4d80-ad1a-83f4ebf15aea-c000.snappy.parquet",
         9773,
         1690550800000
        ],
        [
         "dbfs:/FileStore/HLS/nlp/delta/jsl/bronze/mt-oc-notes/part-00001-c3db617c-a2f6-478c-ab32-e2d3cb535d8b-c000.snappy.parquet",
         "part-00001-c3db617c-a2f6-478c-ab32-e2d3cb535d8b-c000.snappy.parquet",
         8886,
         1678186050000
        ],
        [
         "dbfs:/FileStore/HLS/nlp/delta/jsl/bronze/mt-oc-notes/part-00001-cec66b40-af39-4c1f-a6f4-e07a5c27aa6a-c000.snappy.parquet",
         "part-00001-cec66b40-af39-4c1f-a6f4-e07a5c27aa6a-c000.snappy.parquet",
         8886,
         1672621045000
        ],
        [
         "dbfs:/FileStore/HLS/nlp/delta/jsl/bronze/mt-oc-notes/part-00001-d985d400-571d-45ad-ac80-be842622ca5b-c000.snappy.parquet",
         "part-00001-d985d400-571d-45ad-ac80-be842622ca5b-c000.snappy.parquet",
         9773,
         1694720520000
        ],
        [
         "dbfs:/FileStore/HLS/nlp/delta/jsl/bronze/mt-oc-notes/part-00001-e003c2c5-ec86-49d2-88fb-6c19f2529e07-c000.snappy.parquet",
         "part-00001-e003c2c5-ec86-49d2-88fb-6c19f2529e07-c000.snappy.parquet",
         8886,
         1672618919000
        ],
        [
         "dbfs:/FileStore/HLS/nlp/delta/jsl/bronze/mt-oc-notes/part-00001-e43a95a0-7f22-43e2-9807-77dbcb6e6a41-c000.snappy.parquet",
         "part-00001-e43a95a0-7f22-43e2-9807-77dbcb6e6a41-c000.snappy.parquet",
         8988,
         1677074308000
        ],
        [
         "dbfs:/FileStore/HLS/nlp/delta/jsl/bronze/mt-oc-notes/part-00001-e69f296e-11a0-413e-b261-c7d501f0e743-c000.snappy.parquet",
         "part-00001-e69f296e-11a0-413e-b261-c7d501f0e743-c000.snappy.parquet",
         9773,
         1690551137000
        ],
        [
         "dbfs:/FileStore/HLS/nlp/delta/jsl/bronze/mt-oc-notes/part-00001-fecf1428-3497-4693-a3a5-cf240bdfe6a9-c000.snappy.parquet",
         "part-00001-fecf1428-3497-4693-a3a5-cf240bdfe6a9-c000.snappy.parquet",
         8886,
         1678117470000
        ]
       ],
       "datasetInfos": [],
       "dbfsResultPath": null,
       "isJsonSchema": true,
       "metadata": {},
       "overflow": false,
       "plotOptions": {
        "customPlotOptions": {},
        "displayType": "table",
        "pivotAggregation": null,
        "pivotColumns": [],
        "xColumns": [],
        "yColumns": []
       },
       "removedWidgets": [],
       "schema": [
        {
         "metadata": "{}",
         "name": "path",
         "type": "\"string\""
        },
        {
         "metadata": "{}",
         "name": "name",
         "type": "\"string\""
        },
        {
         "metadata": "{}",
         "name": "size",
         "type": "\"long\""
        },
        {
         "metadata": "{}",
         "name": "modificationTime",
         "type": "\"long\""
        }
       ],
       "type": "table"
      }
     },
     "output_type": "display_data"
    }
   ],
   "source": [
    "df.write.format('delta').mode('overwrite').save(f'{delta_path}/bronze/mt-oc-notes')\n",
    "display(dbutils.fs.ls(f'{delta_path}/bronze/mt-oc-notes'))"
   ]
  },
  {
   "cell_type": "markdown",
   "metadata": {
    "application/vnd.databricks.v1+cell": {
     "cellMetadata": {
      "byteLimit": 2048000,
      "rowLimit": 10000
     },
     "inputWidgets": {},
     "nuid": "df9f6391-bb78-4a10-889a-5be209c0c1cf",
     "showTitle": false,
     "title": ""
    }
   },
   "source": [
    "## ICD-10 code extraction\n",
    "Now, we will create a pipeline to extract ICD10 codes. This pipeline will find diseases and problems and then map their ICD10 codes. We will also check if this problem is still present or not."
   ]
  },
  {
   "cell_type": "code",
   "execution_count": 0,
   "metadata": {
    "application/vnd.databricks.v1+cell": {
     "cellMetadata": {
      "byteLimit": 2048000,
      "rowLimit": 10000
     },
     "inputWidgets": {},
     "nuid": "5e8319af-7624-43e0-9168-23867b34e11f",
     "showTitle": false,
     "title": ""
    }
   },
   "outputs": [
    {
     "output_type": "stream",
     "name": "stdout",
     "output_type": "stream",
     "text": [
      "sentence_detector_dl download started this may take some time.\nApproximate size to download 354.6 KB\n\r[ | ]\r[ / ]\r[OK!]\nembeddings_clinical download started this may take some time.\nApproximate size to download 1.6 GB\n\r[ | ]\r[OK!]\nner_jsl download started this may take some time.\n\r[ | ]\r[ / ]\r[ — ]\r[OK!]\nsbiobert_base_cased_mli download started this may take some time.\nApproximate size to download 384.3 MB\n\r[ | ]\r[OK!]\nsbiobertresolve_icd10cm_augmented_billable_hcc download started this may take some time.\n\r[ | ]\r[OK!]\nassertion_jsl_augmented download started this may take some time.\n\r[ | ]\r[ / ]\r[OK!]\n"
     ]
    }
   ],
   "source": [
    "documentAssembler = nlp.DocumentAssembler()\\\n",
    "      .setInputCol(\"text\")\\\n",
    "      .setOutputCol(\"document\")\n",
    " \n",
    "sentenceDetector = nlp.SentenceDetectorDLModel.pretrained()\\\n",
    "      .setInputCols([\"document\"])\\\n",
    "      .setOutputCol(\"sentence\")\n",
    " \n",
    "tokenizer = nlp.Tokenizer()\\\n",
    "      .setInputCols([\"sentence\"])\\\n",
    "      .setOutputCol(\"token\")\\\n",
    " \n",
    "word_embeddings = nlp.WordEmbeddingsModel.pretrained(\"embeddings_clinical\", \"en\", \"clinical/models\")\\\n",
    "      .setInputCols([\"sentence\", \"token\"])\\\n",
    "      .setOutputCol(\"embeddings\")\n",
    " \n",
    "c2doc = nlp.Chunk2Doc()\\\n",
    "      .setInputCols(\"ner_chunk\")\\\n",
    "      .setOutputCol(\"ner_chunk_doc\") \n",
    " \n",
    "clinical_ner = medical.NerModel.pretrained(\"ner_jsl\", \"en\", \"clinical/models\") \\\n",
    "      .setInputCols([\"sentence\", \"token\", \"embeddings\"]) \\\n",
    "      .setOutputCol(\"ner\")\n",
    " \n",
    "ner_converter = medical.NerConverterInternal() \\\n",
    "      .setInputCols([\"sentence\", \"token\", \"ner\"]) \\\n",
    "      .setOutputCol(\"ner_chunk\")\\\n",
    "      .setWhiteList([\"Oncological\", \"Disease_Syndrome_Disorder\", \"Heart_Disease\"])\n",
    " \n",
    "sbert_embedder = nlp.BertSentenceEmbeddings\\\n",
    "      .pretrained(\"sbiobert_base_cased_mli\",'en','clinical/models')\\\n",
    "      .setInputCols([\"ner_chunk_doc\"])\\\n",
    "      .setOutputCol(\"sbert_embeddings\")\\\n",
    "      .setCaseSensitive(False)\n",
    " \n",
    "icd10_resolver = medical.SentenceEntityResolverModel.pretrained(\"sbiobertresolve_icd10cm_augmented_billable_hcc\",\"en\", \"clinical/models\")\\\n",
    "      .setInputCols([\"sbert_embeddings\"])\\\n",
    "      .setOutputCol(\"icd10cm_code\")\\\n",
    "      .setDistanceFunction(\"EUCLIDEAN\")\\\n",
    "      .setReturnCosineDistances(True)\n",
    " \n",
    "clinical_assertion = medical.AssertionDLModel.pretrained(\"assertion_jsl_augmented\", \"en\", \"clinical/models\") \\\n",
    "      .setInputCols([\"sentence\", \"ner_chunk\", \"embeddings\"]) \\\n",
    "      .setOutputCol(\"assertion\")\n",
    " \n",
    "resolver_pipeline = nlp.Pipeline(\n",
    "    stages = [\n",
    "        documentAssembler,\n",
    "        sentenceDetector,\n",
    "        tokenizer,\n",
    "        word_embeddings,\n",
    "        clinical_ner,\n",
    "        ner_converter,\n",
    "        c2doc,\n",
    "        sbert_embedder,\n",
    "        icd10_resolver,\n",
    "        clinical_assertion\n",
    "    ])\n",
    " \n",
    "data_ner = spark.createDataFrame([[\"\"]]).toDF(\"text\")\n",
    " \n",
    "icd_model = resolver_pipeline.fit(data_ner)"
   ]
  },
  {
   "cell_type": "markdown",
   "metadata": {
    "application/vnd.databricks.v1+cell": {
     "cellMetadata": {
      "byteLimit": 2048000,
      "rowLimit": 10000
     },
     "inputWidgets": {},
     "nuid": "efe36518-76f5-464b-9539-7f6837a479e2",
     "showTitle": false,
     "title": ""
    }
   },
   "source": [
    "We can transform the data. In path column, we have long path. Instead we will use filename column. Every file name refers to different patient."
   ]
  },
  {
   "cell_type": "code",
   "execution_count": 0,
   "metadata": {
    "application/vnd.databricks.v1+cell": {
     "cellMetadata": {
      "byteLimit": 2048000,
      "rowLimit": 10000
     },
     "inputWidgets": {},
     "nuid": "afd262f5-a380-4f4b-bdda-956c1275bb2c",
     "showTitle": false,
     "title": ""
    }
   },
   "outputs": [],
   "source": [
    "path_array = F.split(df['path'], '/')\n",
    "df = df.withColumn('filename', path_array.getItem(F.size(path_array)- 1)).select(['filename', 'text'])\n",
    "\n",
    "icd10_sdf = icd_model.transform(df)"
   ]
  },
  {
   "cell_type": "code",
   "execution_count": 0,
   "metadata": {
    "application/vnd.databricks.v1+cell": {
     "cellMetadata": {
      "byteLimit": 2048000,
      "rowLimit": 10000
     },
     "inputWidgets": {},
     "nuid": "04969cef-a803-4aa2-9f84-e7e017d7c7b8",
     "showTitle": false,
     "title": ""
    }
   },
   "outputs": [
    {
     "output_type": "stream",
     "name": "stdout",
     "output_type": "stream",
     "text": [
      "Medical Specialty:Hematology - Oncology\nSample Name: Mullerian Adenosarcoma\nDescription: Discharge summary of a patient presenting with a large mass aborted through the cervix.\n(Medical Transcription Sample Report)\nPRINCIPAL DIAGNOSIS:  Mullerian adenosarcoma.\nHISTORY OF PRESENT ILLNESS:  The patient is a 56-year-old presenting with a large mass aborted through the cervix.\nPHYSICAL EXAM:CHEST: Clear. There is no heart murmur. ABDOMEN: Nontender.\nPELVIC: There is a large mass in the vagina.\nHOSPITAL COURSE:  The patient went to surgery on the day of admission. The postoperative course was marked by fever and ileus. The patient regained bowel function. She was discharged on the morning of the seventh postoperative day.\nOPERATIONS:  July 25, 2006: Total abdominal hysterectomy, bilateral salpingo-oophorectomy.\nDISCHARGE CONDITION:  Stable.\nPLAN:  The patient will remain at rest initially with progressive ambulation thereafter. She will avoid lifting, driving, stairs, or intercourse. She will call me for fevers, drainage, bleeding, or pain. Family history, social history, and psychosocial needs per the social worker. The patient will follow up in my office in one week.\nPATHOLOGY: Mullerian adenosarcoma.\nMEDICATIONS: Percocet 5, #40, one q.3 h. p.r.n. pain.\n\n"
     ]
    }
   ],
   "source": [
    "sample_text = df.select(\"text\").take(2)[1][0]\n",
    "print(sample_text)"
   ]
  },
  {
   "cell_type": "markdown",
   "metadata": {
    "application/vnd.databricks.v1+cell": {
     "cellMetadata": {
      "byteLimit": 2048000,
      "rowLimit": 10000
     },
     "inputWidgets": {},
     "nuid": "10c02d36-bd96-464b-b3d7-fa2053339a54",
     "showTitle": false,
     "title": ""
    }
   },
   "source": [
    "Let's see how our model extracted ICD Codes on a sample."
   ]
  },
  {
   "cell_type": "code",
   "execution_count": 0,
   "metadata": {
    "application/vnd.databricks.v1+cell": {
     "cellMetadata": {
      "byteLimit": 2048000,
      "rowLimit": 10000
     },
     "inputWidgets": {},
     "nuid": "b54c968e-f82f-44b5-b49b-60590efaf236",
     "showTitle": false,
     "title": ""
    }
   },
   "outputs": [],
   "source": [
    "sample_text = \"\"\"\n",
    "Medical Specialty:Hematology - Oncology\n",
    "Sample Name: Mullerian Adenosarcoma\n",
    "Description: Discharge summary of a patient presenting with a large mass aborted through the cervix.\n",
    "(Medical Transcription Sample Report)\n",
    "PRINCIPAL DIAGNOSIS:  Mullerian adenosarcoma.\n",
    "HISTORY OF PRESENT ILLNESS:  The patient is a 56-year-old presenting with a large mass aborted through the cervix.\n",
    "PHYSICAL EXAM:CHEST: Clear. There is no heart murmur. ABDOMEN: Nontender.\n",
    "PELVIC: There is a large mass in the vagina.\n",
    "HOSPITAL COURSE:  The patient went to surgery on the day of admission. The postoperative course was marked by fever and ileus. The patient regained bowel function. She was discharged on the morning of the seventh postoperative day.\n",
    "OPERATIONS:  July 25, 2006: Total abdominal hysterectomy, bilateral salpingo-oophorectomy.\n",
    "DISCHARGE CONDITION:  Stable.\n",
    "PLAN:  The patient will remain at rest initially with progressive ambulation thereafter. She will avoid lifting, driving, stairs, or intercourse. She will call me for fevers, drainage, bleeding, or pain. Family history, social history, and psychosocial needs per the social worker. The patient will follow up in my office in one week.\n",
    "PATHOLOGY: Mullerian adenosarcoma.\n",
    "MEDICATIONS: Percocet 5, #40, one q.3 h. p.r.n. pain.\n",
    "\"\"\""
   ]
  },
  {
   "cell_type": "code",
   "execution_count": 0,
   "metadata": {
    "application/vnd.databricks.v1+cell": {
     "cellMetadata": {
      "byteLimit": 2048000,
      "rowLimit": 10000
     },
     "inputWidgets": {},
     "nuid": "2235f602-0433-4f55-9960-899c8a3adc3f",
     "showTitle": false,
     "title": ""
    }
   },
   "outputs": [
    {
     "output_type": "display_data",
     "data": {
      "text/html": [
       "\n",
       "<style>\n",
       "    @import url('https://fonts.googleapis.com/css2?family=Montserrat:wght@300;400;500;600;700&display=swap');\n",
       "    @import url('https://fonts.googleapis.com/css2?family=Vistol Regular:wght@300;400;500;600;700&display=swap');\n",
       "    \n",
       "    .spark-nlp-display-scroll-entities {\n",
       "        border: 1px solid #E7EDF0;\n",
       "        border-radius: 3px;\n",
       "        text-align: justify;\n",
       "        \n",
       "    }\n",
       "    .spark-nlp-display-scroll-entities span {  \n",
       "        font-size: 14px;\n",
       "        line-height: 24px;\n",
       "        color: #536B76;\n",
       "        font-family: 'Montserrat', sans-serif !important;\n",
       "    }\n",
       "    \n",
       "    .spark-nlp-display-entity-wrapper{\n",
       "    \n",
       "        display: inline-grid;\n",
       "        text-align: center;\n",
       "        border-radius: 4px;\n",
       "        margin: 0 2px 5px 2px;\n",
       "        padding: 1px\n",
       "    }\n",
       "    .spark-nlp-display-entity-name{\n",
       "        font-size: 14px;\n",
       "        line-height: 24px;\n",
       "        font-family: 'Montserrat', sans-serif !important;\n",
       "        \n",
       "        background: #f1f2f3;\n",
       "        border-width: medium;\n",
       "        text-align: center;\n",
       "        \n",
       "        font-weight: 400;\n",
       "        \n",
       "        border-radius: 5px;\n",
       "        padding: 2px 5px;\n",
       "        display: block;\n",
       "        margin: 3px 2px;\n",
       "    \n",
       "    }\n",
       "    .spark-nlp-display-entity-type{\n",
       "        font-size: 14px;\n",
       "        line-height: 24px;\n",
       "        color: #ffffff;\n",
       "        font-family: 'Montserrat', sans-serif !important;\n",
       "        \n",
       "        text-transform: uppercase;\n",
       "        \n",
       "        font-weight: 500;\n",
       "\n",
       "        display: block;\n",
       "        padding: 3px 5px;\n",
       "    }\n",
       "    \n",
       "    .spark-nlp-display-entity-resolution{\n",
       "        font-size: 14px;\n",
       "        line-height: 24px;\n",
       "        color: #ffffff;\n",
       "        font-family: 'Vistol Regular', sans-serif !important;\n",
       "        \n",
       "        text-transform: uppercase;\n",
       "        \n",
       "        font-weight: 500;\n",
       "\n",
       "        display: block;\n",
       "        padding: 3px 5px;\n",
       "    }\n",
       "    \n",
       "    .spark-nlp-display-others{\n",
       "        font-size: 14px;\n",
       "        line-height: 24px;\n",
       "        font-family: 'Montserrat', sans-serif !important;\n",
       "        \n",
       "        font-weight: 400;\n",
       "    }\n",
       "\n",
       "</style>\n",
       " <span class=\"spark-nlp-display-others\" style=\"background-color: white\"><br>Medical Specialty:Hematology - Oncology<br>Sample Name: </span><span class=\"spark-nlp-display-entity-wrapper\" style=\"background-color: #C368C8B3\"><span class=\"spark-nlp-display-entity-name\">Mullerian Adenosarcoma </span><span class=\"spark-nlp-display-entity-type\">Oncological</span><span class=\"spark-nlp-display-entity-resolution\" style=\"background-color: #C368C8FF\">C53.9 </span><span class=\"spark-nlp-display-entity-resolution\" style=\"background-color: #C368C8CC\">cervical adenosarcoma [malignant neoplasm of cervix uteri, unspecified]</span></span><span class=\"spark-nlp-display-others\" style=\"background-color: white\"><br>Description: Discharge summary of a patient presenting with a large mass aborted through the cervix.<br>(Medical Transcription Sample Report)<br>PRINCIPAL DIAGNOSIS:  </span><span class=\"spark-nlp-display-entity-wrapper\" style=\"background-color: #C368C8B3\"><span class=\"spark-nlp-display-entity-name\">Mullerian adenosarcoma </span><span class=\"spark-nlp-display-entity-type\">Oncological</span><span class=\"spark-nlp-display-entity-resolution\" style=\"background-color: #C368C8FF\">C53.9 </span><span class=\"spark-nlp-display-entity-resolution\" style=\"background-color: #C368C8CC\">cervical adenosarcoma [malignant neoplasm of cervix uteri, unspecified]</span></span><span class=\"spark-nlp-display-others\" style=\"background-color: white\">.<br>HISTORY OF PRESENT ILLNESS:  The patient is a 56-year-old presenting with a large mass aborted through the cervix.<br>PHYSICAL EXAM:CHEST: Clear. There is no heart murmur. ABDOMEN: Nontender.<br>PELVIC: There is a large mass in the vagina.<br>HOSPITAL COURSE:  The patient went to surgery on the day of admission. The postoperative course was marked by fever and ileus. The patient regained bowel function. She was discharged on the morning of the seventh postoperative day.<br>OPERATIONS:  July 25, 2006: Total abdominal hysterectomy, bilateral salpingo-oophorectomy.<br>DISCHARGE CONDITION:  Stable.<br>PLAN:  The patient will remain at rest initially with progressive ambulation thereafter. She will avoid lifting, driving, stairs, or intercourse. She will call me for fevers, drainage, bleeding, or pain. Family history, social history, and psychosocial needs per the social worker. The patient will follow up in my office in one week.<br>PATHOLOGY: </span><span class=\"spark-nlp-display-entity-wrapper\" style=\"background-color: #C368C8B3\"><span class=\"spark-nlp-display-entity-name\">Mullerian adenosarcoma </span><span class=\"spark-nlp-display-entity-type\">Oncological</span><span class=\"spark-nlp-display-entity-resolution\" style=\"background-color: #C368C8FF\">C53.9 </span><span class=\"spark-nlp-display-entity-resolution\" style=\"background-color: #C368C8CC\">cervical adenosarcoma [malignant neoplasm of cervix uteri, unspecified]</span></span><span class=\"spark-nlp-display-others\" style=\"background-color: white\">.<br>MEDICATIONS: Percocet 5, #40, one q.3 h. p.r.n. pain.<br></span></div>"
      ]
     },
     "metadata": {
      "application/vnd.databricks.v1+output": {
       "addedWidgets": {},
       "arguments": {},
       "data": "\n<style>\n    @import url('https://fonts.googleapis.com/css2?family=Montserrat:wght@300;400;500;600;700&display=swap');\n    @import url('https://fonts.googleapis.com/css2?family=Vistol Regular:wght@300;400;500;600;700&display=swap');\n    \n    .spark-nlp-display-scroll-entities {\n        border: 1px solid #E7EDF0;\n        border-radius: 3px;\n        text-align: justify;\n        \n    }\n    .spark-nlp-display-scroll-entities span {  \n        font-size: 14px;\n        line-height: 24px;\n        color: #536B76;\n        font-family: 'Montserrat', sans-serif !important;\n    }\n    \n    .spark-nlp-display-entity-wrapper{\n    \n        display: inline-grid;\n        text-align: center;\n        border-radius: 4px;\n        margin: 0 2px 5px 2px;\n        padding: 1px\n    }\n    .spark-nlp-display-entity-name{\n        font-size: 14px;\n        line-height: 24px;\n        font-family: 'Montserrat', sans-serif !important;\n        \n        background: #f1f2f3;\n        border-width: medium;\n        text-align: center;\n        \n        font-weight: 400;\n        \n        border-radius: 5px;\n        padding: 2px 5px;\n        display: block;\n        margin: 3px 2px;\n    \n    }\n    .spark-nlp-display-entity-type{\n        font-size: 14px;\n        line-height: 24px;\n        color: #ffffff;\n        font-family: 'Montserrat', sans-serif !important;\n        \n        text-transform: uppercase;\n        \n        font-weight: 500;\n\n        display: block;\n        padding: 3px 5px;\n    }\n    \n    .spark-nlp-display-entity-resolution{\n        font-size: 14px;\n        line-height: 24px;\n        color: #ffffff;\n        font-family: 'Vistol Regular', sans-serif !important;\n        \n        text-transform: uppercase;\n        \n        font-weight: 500;\n\n        display: block;\n        padding: 3px 5px;\n    }\n    \n    .spark-nlp-display-others{\n        font-size: 14px;\n        line-height: 24px;\n        font-family: 'Montserrat', sans-serif !important;\n        \n        font-weight: 400;\n    }\n\n</style>\n <span class=\"spark-nlp-display-others\" style=\"background-color: white\"><br>Medical Specialty:Hematology - Oncology<br>Sample Name: </span><span class=\"spark-nlp-display-entity-wrapper\" style=\"background-color: #C368C8B3\"><span class=\"spark-nlp-display-entity-name\">Mullerian Adenosarcoma </span><span class=\"spark-nlp-display-entity-type\">Oncological</span><span class=\"spark-nlp-display-entity-resolution\" style=\"background-color: #C368C8FF\">C53.9 </span><span class=\"spark-nlp-display-entity-resolution\" style=\"background-color: #C368C8CC\">cervical adenosarcoma [malignant neoplasm of cervix uteri, unspecified]</span></span><span class=\"spark-nlp-display-others\" style=\"background-color: white\"><br>Description: Discharge summary of a patient presenting with a large mass aborted through the cervix.<br>(Medical Transcription Sample Report)<br>PRINCIPAL DIAGNOSIS:  </span><span class=\"spark-nlp-display-entity-wrapper\" style=\"background-color: #C368C8B3\"><span class=\"spark-nlp-display-entity-name\">Mullerian adenosarcoma </span><span class=\"spark-nlp-display-entity-type\">Oncological</span><span class=\"spark-nlp-display-entity-resolution\" style=\"background-color: #C368C8FF\">C53.9 </span><span class=\"spark-nlp-display-entity-resolution\" style=\"background-color: #C368C8CC\">cervical adenosarcoma [malignant neoplasm of cervix uteri, unspecified]</span></span><span class=\"spark-nlp-display-others\" style=\"background-color: white\">.<br>HISTORY OF PRESENT ILLNESS:  The patient is a 56-year-old presenting with a large mass aborted through the cervix.<br>PHYSICAL EXAM:CHEST: Clear. There is no heart murmur. ABDOMEN: Nontender.<br>PELVIC: There is a large mass in the vagina.<br>HOSPITAL COURSE:  The patient went to surgery on the day of admission. The postoperative course was marked by fever and ileus. The patient regained bowel function. She was discharged on the morning of the seventh postoperative day.<br>OPERATIONS:  July 25, 2006: Total abdominal hysterectomy, bilateral salpingo-oophorectomy.<br>DISCHARGE CONDITION:  Stable.<br>PLAN:  The patient will remain at rest initially with progressive ambulation thereafter. She will avoid lifting, driving, stairs, or intercourse. She will call me for fevers, drainage, bleeding, or pain. Family history, social history, and psychosocial needs per the social worker. The patient will follow up in my office in one week.<br>PATHOLOGY: </span><span class=\"spark-nlp-display-entity-wrapper\" style=\"background-color: #C368C8B3\"><span class=\"spark-nlp-display-entity-name\">Mullerian adenosarcoma </span><span class=\"spark-nlp-display-entity-type\">Oncological</span><span class=\"spark-nlp-display-entity-resolution\" style=\"background-color: #C368C8FF\">C53.9 </span><span class=\"spark-nlp-display-entity-resolution\" style=\"background-color: #C368C8CC\">cervical adenosarcoma [malignant neoplasm of cervix uteri, unspecified]</span></span><span class=\"spark-nlp-display-others\" style=\"background-color: white\">.<br>MEDICATIONS: Percocet 5, #40, one q.3 h. p.r.n. pain.<br></span></div>",
       "datasetInfos": [],
       "metadata": {},
       "removedWidgets": [],
       "textData": null,
       "type": "htmlSandbox"
      }
     },
     "output_type": "display_data"
    }
   ],
   "source": [
    "light_model = nlp.LightPipeline(icd_model)\n",
    "\n",
    "light_result = light_model.fullAnnotate(sample_text)\n",
    "\n",
    "vis = nlp.viz.EntityResolverVisualizer()\n",
    "\n",
    "# Change color of an entity label\n",
    "vis.set_label_colors({'PROBLEM':'#008080'})\n",
    "\n",
    "icd_vis = vis.display(light_result[0], 'ner_chunk', 'icd10cm_code', return_html=True)\n",
    "\n",
    "displayHTML(icd_vis)"
   ]
  },
  {
   "cell_type": "markdown",
   "metadata": {
    "application/vnd.databricks.v1+cell": {
     "cellMetadata": {
      "byteLimit": 2048000,
      "rowLimit": 10000
     },
     "inputWidgets": {},
     "nuid": "562038f0-f7e8-44d6-b03f-c12565656790",
     "showTitle": false,
     "title": ""
    }
   },
   "source": [
    "ICD resolver can also tell us HCC status. HCC status is 1 if the Medicare Risk Adjusment model contains ICD code."
   ]
  },
  {
   "cell_type": "code",
   "execution_count": 0,
   "metadata": {
    "application/vnd.databricks.v1+cell": {
     "cellMetadata": {
      "byteLimit": 2048000,
      "rowLimit": 10000
     },
     "inputWidgets": {},
     "nuid": "799d07fa-94ae-48ab-8d80-b9b9e4ccb4b8",
     "showTitle": false,
     "title": ""
    }
   },
   "outputs": [
    {
     "output_type": "display_data",
     "data": {
      "text/html": [
       "<div>\n",
       "<style scoped>\n",
       "    .dataframe tbody tr th:only-of-type {\n",
       "        vertical-align: middle;\n",
       "    }\n",
       "\n",
       "    .dataframe tbody tr th {\n",
       "        vertical-align: top;\n",
       "    }\n",
       "\n",
       "    .dataframe thead th {\n",
       "        text-align: right;\n",
       "    }\n",
       "</style>\n",
       "<table border=\"1\" class=\"dataframe\">\n",
       "  <thead>\n",
       "    <tr style=\"text-align: right;\">\n",
       "      <th></th>\n",
       "      <th>filename</th>\n",
       "      <th>chunk</th>\n",
       "      <th>icd10_code</th>\n",
       "      <th>assertion</th>\n",
       "    </tr>\n",
       "  </thead>\n",
       "  <tbody>\n",
       "    <tr>\n",
       "      <th>0</th>\n",
       "      <td>mt_note_01.txt</td>\n",
       "      <td>breast cancer</td>\n",
       "      <td>C50.92</td>\n",
       "      <td>Family</td>\n",
       "    </tr>\n",
       "    <tr>\n",
       "      <th>1</th>\n",
       "      <td>mt_note_01.txt</td>\n",
       "      <td>breast cancer</td>\n",
       "      <td>C50.92</td>\n",
       "      <td>Family</td>\n",
       "    </tr>\n",
       "    <tr>\n",
       "      <th>2</th>\n",
       "      <td>mt_note_01.txt</td>\n",
       "      <td>dysplasia</td>\n",
       "      <td>P61.4</td>\n",
       "      <td>Absent</td>\n",
       "    </tr>\n",
       "    <tr>\n",
       "      <th>3</th>\n",
       "      <td>mt_note_01.txt</td>\n",
       "      <td>cancer</td>\n",
       "      <td>C80.1</td>\n",
       "      <td>Absent</td>\n",
       "    </tr>\n",
       "    <tr>\n",
       "      <th>4</th>\n",
       "      <td>mt_note_02.txt</td>\n",
       "      <td>Name: Mullerian Adenosarcoma</td>\n",
       "      <td>C53.9</td>\n",
       "      <td>Present</td>\n",
       "    </tr>\n",
       "  </tbody>\n",
       "</table>\n",
       "</div>"
      ]
     },
     "metadata": {
      "application/vnd.databricks.v1+output": {
       "addedWidgets": {},
       "arguments": {},
       "data": "<div>\n<style scoped>\n    .dataframe tbody tr th:only-of-type {\n        vertical-align: middle;\n    }\n\n    .dataframe tbody tr th {\n        vertical-align: top;\n    }\n\n    .dataframe thead th {\n        text-align: right;\n    }\n</style>\n<table border=\"1\" class=\"dataframe\">\n  <thead>\n    <tr style=\"text-align: right;\">\n      <th></th>\n      <th>filename</th>\n      <th>chunk</th>\n      <th>icd10_code</th>\n      <th>assertion</th>\n    </tr>\n  </thead>\n  <tbody>\n    <tr>\n      <th>0</th>\n      <td>mt_note_01.txt</td>\n      <td>breast cancer</td>\n      <td>C50.92</td>\n      <td>Family</td>\n    </tr>\n    <tr>\n      <th>1</th>\n      <td>mt_note_01.txt</td>\n      <td>breast cancer</td>\n      <td>C50.92</td>\n      <td>Family</td>\n    </tr>\n    <tr>\n      <th>2</th>\n      <td>mt_note_01.txt</td>\n      <td>dysplasia</td>\n      <td>P61.4</td>\n      <td>Absent</td>\n    </tr>\n    <tr>\n      <th>3</th>\n      <td>mt_note_01.txt</td>\n      <td>cancer</td>\n      <td>C80.1</td>\n      <td>Absent</td>\n    </tr>\n    <tr>\n      <th>4</th>\n      <td>mt_note_02.txt</td>\n      <td>Name: Mullerian Adenosarcoma</td>\n      <td>C53.9</td>\n      <td>Present</td>\n    </tr>\n  </tbody>\n</table>\n</div>",
       "datasetInfos": [],
       "metadata": {},
       "removedWidgets": [],
       "textData": null,
       "type": "htmlSandbox"
      }
     },
     "output_type": "display_data"
    }
   ],
   "source": [
    "icd10_df = icd10_sdf.select(\"filename\", F.explode(F.arrays_zip(icd10_sdf.ner_chunk.result,\n",
    "                                                                   icd10_sdf.icd10cm_code.result,\n",
    "                                                                   icd10_sdf.assertion.result\n",
    "                                                                  )).alias(\"cols\")) \\\n",
    "                            .select(\"filename\", F.expr(\"cols['0']\").alias(\"chunk\"),\n",
    "                                    F.expr(\"cols['1']\").alias(\"icd10_code\"),\n",
    "                                    F.expr(\"cols['2']\").alias(\"assertion\")\n",
    "                                   ).toPandas()\n",
    "\n",
    "icd10_df.head()"
   ]
  },
  {
   "cell_type": "code",
   "execution_count": 0,
   "metadata": {
    "application/vnd.databricks.v1+cell": {
     "cellMetadata": {
      "byteLimit": 2048000,
      "rowLimit": 10000
     },
     "inputWidgets": {},
     "nuid": "bbb899ad-bb8a-4d1f-a58a-fdc716507377",
     "showTitle": false,
     "title": ""
    }
   },
   "outputs": [],
   "source": [
    "icd10_df = icd10_df[~icd10_df.assertion.isin([\"Family\", \"Past\"])][['filename','chunk','icd10_code']].drop_duplicates()"
   ]
  },
  {
   "cell_type": "markdown",
   "metadata": {
    "application/vnd.databricks.v1+cell": {
     "cellMetadata": {
      "byteLimit": 2048000,
      "rowLimit": 10000
     },
     "inputWidgets": {},
     "nuid": "03c10be2-b324-4de1-b9c6-52b0d57d06ff",
     "showTitle": false,
     "title": ""
    }
   },
   "source": [
    "Now, we will create an ICD_code list column"
   ]
  },
  {
   "cell_type": "code",
   "execution_count": 0,
   "metadata": {
    "application/vnd.databricks.v1+cell": {
     "cellMetadata": {
      "byteLimit": 2048000,
      "rowLimit": 10000
     },
     "inputWidgets": {},
     "nuid": "10d5841f-f450-458c-b4f4-1fd5f4bdbb76",
     "showTitle": false,
     "title": ""
    }
   },
   "outputs": [
    {
     "output_type": "display_data",
     "data": {
      "text/html": [
       "<div>\n",
       "<style scoped>\n",
       "    .dataframe tbody tr th:only-of-type {\n",
       "        vertical-align: middle;\n",
       "    }\n",
       "\n",
       "    .dataframe tbody tr th {\n",
       "        vertical-align: top;\n",
       "    }\n",
       "\n",
       "    .dataframe thead th {\n",
       "        text-align: right;\n",
       "    }\n",
       "</style>\n",
       "<table border=\"1\" class=\"dataframe\">\n",
       "  <thead>\n",
       "    <tr style=\"text-align: right;\">\n",
       "      <th></th>\n",
       "      <th>filename</th>\n",
       "      <th>chunk</th>\n",
       "      <th>icd10_code</th>\n",
       "      <th>Extracted_Entities_vs_ICD_Codes</th>\n",
       "    </tr>\n",
       "  </thead>\n",
       "  <tbody>\n",
       "    <tr>\n",
       "      <th>2</th>\n",
       "      <td>mt_note_01.txt</td>\n",
       "      <td>dysplasia</td>\n",
       "      <td>P61.4</td>\n",
       "      <td>(dysplasia, P61.4)</td>\n",
       "    </tr>\n",
       "    <tr>\n",
       "      <th>3</th>\n",
       "      <td>mt_note_01.txt</td>\n",
       "      <td>cancer</td>\n",
       "      <td>C80.1</td>\n",
       "      <td>(cancer, C80.1)</td>\n",
       "    </tr>\n",
       "    <tr>\n",
       "      <th>4</th>\n",
       "      <td>mt_note_02.txt</td>\n",
       "      <td>Name: Mullerian Adenosarcoma</td>\n",
       "      <td>C53.9</td>\n",
       "      <td>(Name: Mullerian Adenosarcoma, C53.9)</td>\n",
       "    </tr>\n",
       "    <tr>\n",
       "      <th>5</th>\n",
       "      <td>mt_note_02.txt</td>\n",
       "      <td>Mullerian adenosarcoma</td>\n",
       "      <td>C53.9</td>\n",
       "      <td>(Mullerian adenosarcoma, C53.9)</td>\n",
       "    </tr>\n",
       "    <tr>\n",
       "      <th>7</th>\n",
       "      <td>mt_note_03.txt</td>\n",
       "      <td>leiomyosarcoma</td>\n",
       "      <td>C49.9</td>\n",
       "      <td>(leiomyosarcoma, C49.9)</td>\n",
       "    </tr>\n",
       "    <tr>\n",
       "      <th>8</th>\n",
       "      <td>mt_note_03.txt</td>\n",
       "      <td>pulmonary embolism</td>\n",
       "      <td>I26</td>\n",
       "      <td>(pulmonary embolism, I26)</td>\n",
       "    </tr>\n",
       "    <tr>\n",
       "      <th>9</th>\n",
       "      <td>mt_note_03.txt</td>\n",
       "      <td>pancytopenia</td>\n",
       "      <td>D61.81</td>\n",
       "      <td>(pancytopenia, D61.81)</td>\n",
       "    </tr>\n",
       "    <tr>\n",
       "      <th>10</th>\n",
       "      <td>mt_note_03.txt</td>\n",
       "      <td>pneumonia</td>\n",
       "      <td>J18.9</td>\n",
       "      <td>(pneumonia, J18.9)</td>\n",
       "    </tr>\n",
       "    <tr>\n",
       "      <th>11</th>\n",
       "      <td>mt_note_03.txt</td>\n",
       "      <td>Leiomyosarcoma</td>\n",
       "      <td>C49.9</td>\n",
       "      <td>(Leiomyosarcoma, C49.9)</td>\n",
       "    </tr>\n",
       "    <tr>\n",
       "      <th>13</th>\n",
       "      <td>mt_note_03.txt</td>\n",
       "      <td>Pancytopenia</td>\n",
       "      <td>D61.81</td>\n",
       "      <td>(Pancytopenia, D61.81)</td>\n",
       "    </tr>\n",
       "  </tbody>\n",
       "</table>\n",
       "</div>"
      ]
     },
     "metadata": {
      "application/vnd.databricks.v1+output": {
       "addedWidgets": {},
       "arguments": {},
       "data": "<div>\n<style scoped>\n    .dataframe tbody tr th:only-of-type {\n        vertical-align: middle;\n    }\n\n    .dataframe tbody tr th {\n        vertical-align: top;\n    }\n\n    .dataframe thead th {\n        text-align: right;\n    }\n</style>\n<table border=\"1\" class=\"dataframe\">\n  <thead>\n    <tr style=\"text-align: right;\">\n      <th></th>\n      <th>filename</th>\n      <th>chunk</th>\n      <th>icd10_code</th>\n      <th>Extracted_Entities_vs_ICD_Codes</th>\n    </tr>\n  </thead>\n  <tbody>\n    <tr>\n      <th>2</th>\n      <td>mt_note_01.txt</td>\n      <td>dysplasia</td>\n      <td>P61.4</td>\n      <td>(dysplasia, P61.4)</td>\n    </tr>\n    <tr>\n      <th>3</th>\n      <td>mt_note_01.txt</td>\n      <td>cancer</td>\n      <td>C80.1</td>\n      <td>(cancer, C80.1)</td>\n    </tr>\n    <tr>\n      <th>4</th>\n      <td>mt_note_02.txt</td>\n      <td>Name: Mullerian Adenosarcoma</td>\n      <td>C53.9</td>\n      <td>(Name: Mullerian Adenosarcoma, C53.9)</td>\n    </tr>\n    <tr>\n      <th>5</th>\n      <td>mt_note_02.txt</td>\n      <td>Mullerian adenosarcoma</td>\n      <td>C53.9</td>\n      <td>(Mullerian adenosarcoma, C53.9)</td>\n    </tr>\n    <tr>\n      <th>7</th>\n      <td>mt_note_03.txt</td>\n      <td>leiomyosarcoma</td>\n      <td>C49.9</td>\n      <td>(leiomyosarcoma, C49.9)</td>\n    </tr>\n    <tr>\n      <th>8</th>\n      <td>mt_note_03.txt</td>\n      <td>pulmonary embolism</td>\n      <td>I26</td>\n      <td>(pulmonary embolism, I26)</td>\n    </tr>\n    <tr>\n      <th>9</th>\n      <td>mt_note_03.txt</td>\n      <td>pancytopenia</td>\n      <td>D61.81</td>\n      <td>(pancytopenia, D61.81)</td>\n    </tr>\n    <tr>\n      <th>10</th>\n      <td>mt_note_03.txt</td>\n      <td>pneumonia</td>\n      <td>J18.9</td>\n      <td>(pneumonia, J18.9)</td>\n    </tr>\n    <tr>\n      <th>11</th>\n      <td>mt_note_03.txt</td>\n      <td>Leiomyosarcoma</td>\n      <td>C49.9</td>\n      <td>(Leiomyosarcoma, C49.9)</td>\n    </tr>\n    <tr>\n      <th>13</th>\n      <td>mt_note_03.txt</td>\n      <td>Pancytopenia</td>\n      <td>D61.81</td>\n      <td>(Pancytopenia, D61.81)</td>\n    </tr>\n  </tbody>\n</table>\n</div>",
       "datasetInfos": [],
       "metadata": {},
       "removedWidgets": [],
       "textData": null,
       "type": "htmlSandbox"
      }
     },
     "output_type": "display_data"
    }
   ],
   "source": [
    "icd10_df['Extracted_Entities_vs_ICD_Codes'] = list(zip(icd10_df.chunk, icd10_df.icd10_code))\n",
    "icd10_df.head(10)"
   ]
  },
  {
   "cell_type": "code",
   "execution_count": 0,
   "metadata": {
    "application/vnd.databricks.v1+cell": {
     "cellMetadata": {
      "byteLimit": 2048000,
      "rowLimit": 10000
     },
     "inputWidgets": {},
     "nuid": "adf5bb10-9923-49a3-968e-3e8426558e7d",
     "showTitle": false,
     "title": ""
    }
   },
   "outputs": [
    {
     "output_type": "display_data",
     "data": {
      "text/html": [
       "<div>\n",
       "<style scoped>\n",
       "    .dataframe tbody tr th:only-of-type {\n",
       "        vertical-align: middle;\n",
       "    }\n",
       "\n",
       "    .dataframe tbody tr th {\n",
       "        vertical-align: top;\n",
       "    }\n",
       "\n",
       "    .dataframe thead th {\n",
       "        text-align: right;\n",
       "    }\n",
       "</style>\n",
       "<table border=\"1\" class=\"dataframe\">\n",
       "  <thead>\n",
       "    <tr style=\"text-align: right;\">\n",
       "      <th></th>\n",
       "      <th>filename</th>\n",
       "      <th>icd10_code</th>\n",
       "      <th>Extracted_Entities_vs_ICD_Codes</th>\n",
       "    </tr>\n",
       "  </thead>\n",
       "  <tbody>\n",
       "    <tr>\n",
       "      <th>0</th>\n",
       "      <td>mt_note_01.txt</td>\n",
       "      <td>[P61.4, C80.1]</td>\n",
       "      <td>[(dysplasia, P61.4), (cancer, C80.1)]</td>\n",
       "    </tr>\n",
       "    <tr>\n",
       "      <th>1</th>\n",
       "      <td>mt_note_02.txt</td>\n",
       "      <td>[C53.9, C53.9]</td>\n",
       "      <td>[(Name: Mullerian Adenosarcoma, C53.9), (Mullerian adenosarcoma, C53.9)]</td>\n",
       "    </tr>\n",
       "    <tr>\n",
       "      <th>2</th>\n",
       "      <td>mt_note_03.txt</td>\n",
       "      <td>[C49.9, I26, D61.81, J18.9, C49.9, D61.81, M06.9, C44.9, I26, J32.9]</td>\n",
       "      <td>[(leiomyosarcoma, C49.9), (pulmonary embolism, I26), (pancytopenia, D61.81), (pneumonia, J18.9),...</td>\n",
       "    </tr>\n",
       "    <tr>\n",
       "      <th>3</th>\n",
       "      <td>mt_note_04.txt</td>\n",
       "      <td>[C44.9, C44.9, N64.81, C44.90, R06.8, I80.9, R23.8, H02.4, I80.2, P39.9]</td>\n",
       "      <td>[(basal cell carcinoma, C44.9), (Basal cell carcinoma, C44.9), (Breast ptosis, N64.81), (skin ca...</td>\n",
       "    </tr>\n",
       "    <tr>\n",
       "      <th>4</th>\n",
       "      <td>mt_note_05.txt</td>\n",
       "      <td>[C50.92, C50.91, C50.9, C50.92, C80.0, T78.40, R50.9, G25.81, P39.9, C50.92]</td>\n",
       "      <td>[(Breast Cancer, C50.92), (ductal carcinoma of the left breast, C50.91), (ductal carcinoma, C50....</td>\n",
       "    </tr>\n",
       "    <tr>\n",
       "      <th>5</th>\n",
       "      <td>mt_note_06.txt</td>\n",
       "      <td>[C45, D20.1, F31.9, R18, D20.1, F31.9, L72.0]</td>\n",
       "      <td>[(Name: Intraperitoneal Mesothelioma, C45), (peritoneal mesothelioma, D20.1), (type 1 bipolar di...</td>\n",
       "    </tr>\n",
       "    <tr>\n",
       "      <th>6</th>\n",
       "      <td>mt_note_08.txt</td>\n",
       "      <td>[J90, C45.9, J90]</td>\n",
       "      <td>[(Description: Right pleural effusion, J90), (malignant mesothelioma, C45.9), (pleural effusion,...</td>\n",
       "    </tr>\n",
       "    <tr>\n",
       "      <th>7</th>\n",
       "      <td>mt_note_09.txt</td>\n",
       "      <td>[D50.8, D57.0, O99.0, D57.02]</td>\n",
       "      <td>[(Name: Sickle Cell Anemia, D50.8), (sickle cell anemia, D57.0), (sickle cell, O99.0), (Sickle c...</td>\n",
       "    </tr>\n",
       "    <tr>\n",
       "      <th>8</th>\n",
       "      <td>mt_note_10.txt</td>\n",
       "      <td>[C69.60, C69.60]</td>\n",
       "      <td>[(Rhabdomyosarcoma of the left orbit, C69.60), (rhabdomyosarcoma of the left orbit, C69.60)]</td>\n",
       "    </tr>\n",
       "  </tbody>\n",
       "</table>\n",
       "</div>"
      ]
     },
     "metadata": {
      "application/vnd.databricks.v1+output": {
       "addedWidgets": {},
       "arguments": {},
       "data": "<div>\n<style scoped>\n    .dataframe tbody tr th:only-of-type {\n        vertical-align: middle;\n    }\n\n    .dataframe tbody tr th {\n        vertical-align: top;\n    }\n\n    .dataframe thead th {\n        text-align: right;\n    }\n</style>\n<table border=\"1\" class=\"dataframe\">\n  <thead>\n    <tr style=\"text-align: right;\">\n      <th></th>\n      <th>filename</th>\n      <th>icd10_code</th>\n      <th>Extracted_Entities_vs_ICD_Codes</th>\n    </tr>\n  </thead>\n  <tbody>\n    <tr>\n      <th>0</th>\n      <td>mt_note_01.txt</td>\n      <td>[P61.4, C80.1]</td>\n      <td>[(dysplasia, P61.4), (cancer, C80.1)]</td>\n    </tr>\n    <tr>\n      <th>1</th>\n      <td>mt_note_02.txt</td>\n      <td>[C53.9, C53.9]</td>\n      <td>[(Name: Mullerian Adenosarcoma, C53.9), (Mullerian adenosarcoma, C53.9)]</td>\n    </tr>\n    <tr>\n      <th>2</th>\n      <td>mt_note_03.txt</td>\n      <td>[C49.9, I26, D61.81, J18.9, C49.9, D61.81, M06.9, C44.9, I26, J32.9]</td>\n      <td>[(leiomyosarcoma, C49.9), (pulmonary embolism, I26), (pancytopenia, D61.81), (pneumonia, J18.9),...</td>\n    </tr>\n    <tr>\n      <th>3</th>\n      <td>mt_note_04.txt</td>\n      <td>[C44.9, C44.9, N64.81, C44.90, R06.8, I80.9, R23.8, H02.4, I80.2, P39.9]</td>\n      <td>[(basal cell carcinoma, C44.9), (Basal cell carcinoma, C44.9), (Breast ptosis, N64.81), (skin ca...</td>\n    </tr>\n    <tr>\n      <th>4</th>\n      <td>mt_note_05.txt</td>\n      <td>[C50.92, C50.91, C50.9, C50.92, C80.0, T78.40, R50.9, G25.81, P39.9, C50.92]</td>\n      <td>[(Breast Cancer, C50.92), (ductal carcinoma of the left breast, C50.91), (ductal carcinoma, C50....</td>\n    </tr>\n    <tr>\n      <th>5</th>\n      <td>mt_note_06.txt</td>\n      <td>[C45, D20.1, F31.9, R18, D20.1, F31.9, L72.0]</td>\n      <td>[(Name: Intraperitoneal Mesothelioma, C45), (peritoneal mesothelioma, D20.1), (type 1 bipolar di...</td>\n    </tr>\n    <tr>\n      <th>6</th>\n      <td>mt_note_08.txt</td>\n      <td>[J90, C45.9, J90]</td>\n      <td>[(Description: Right pleural effusion, J90), (malignant mesothelioma, C45.9), (pleural effusion,...</td>\n    </tr>\n    <tr>\n      <th>7</th>\n      <td>mt_note_09.txt</td>\n      <td>[D50.8, D57.0, O99.0, D57.02]</td>\n      <td>[(Name: Sickle Cell Anemia, D50.8), (sickle cell anemia, D57.0), (sickle cell, O99.0), (Sickle c...</td>\n    </tr>\n    <tr>\n      <th>8</th>\n      <td>mt_note_10.txt</td>\n      <td>[C69.60, C69.60]</td>\n      <td>[(Rhabdomyosarcoma of the left orbit, C69.60), (rhabdomyosarcoma of the left orbit, C69.60)]</td>\n    </tr>\n  </tbody>\n</table>\n</div>",
       "datasetInfos": [],
       "metadata": {},
       "removedWidgets": [],
       "textData": null,
       "type": "htmlSandbox"
      }
     },
     "output_type": "display_data"
    }
   ],
   "source": [
    "icd10_codes= icd10_df.groupby(\"filename\").icd10_code.apply(lambda x: list(x)).reset_index()\n",
    "icd10_vs_entities = icd10_df.groupby(\"filename\").Extracted_Entities_vs_ICD_Codes.apply(lambda x: list(x)).reset_index()\n",
    "\n",
    "icd10_df_all = icd10_codes.merge(icd10_vs_entities)\n",
    "\n",
    "icd10_df_all"
   ]
  },
  {
   "cell_type": "markdown",
   "metadata": {
    "application/vnd.databricks.v1+cell": {
     "cellMetadata": {
      "byteLimit": 2048000,
      "rowLimit": 10000
     },
     "inputWidgets": {},
     "nuid": "3a0c4d98-a594-4a0f-8398-18d3e7735596",
     "showTitle": false,
     "title": ""
    }
   },
   "source": [
    "## Gender Classification"
   ]
  },
  {
   "cell_type": "markdown",
   "metadata": {
    "application/vnd.databricks.v1+cell": {
     "cellMetadata": {
      "byteLimit": 2048000,
      "rowLimit": 10000
     },
     "inputWidgets": {},
     "nuid": "88ecdf9d-f6ad-4115-b320-14695c51d79e",
     "showTitle": false,
     "title": ""
    }
   },
   "source": [
    "In Spark NLP, we have a pretrained model to detect gender of patient. Let's use it by `ClassifierDLModel`"
   ]
  },
  {
   "cell_type": "code",
   "execution_count": 0,
   "metadata": {
    "application/vnd.databricks.v1+cell": {
     "cellMetadata": {
      "byteLimit": 2048000,
      "rowLimit": 10000
     },
     "inputWidgets": {},
     "nuid": "ff41590b-0e96-4efe-abfd-ea1a92971f3c",
     "showTitle": false,
     "title": ""
    }
   },
   "outputs": [
    {
     "output_type": "stream",
     "name": "stdout",
     "output_type": "stream",
     "text": [
      "biobert_pubmed_base_cased download started this may take some time.\nApproximate size to download 386.4 MB\n\r[ | ]\r[ / ]\r[ — ]\r[ \\ ]\r[ | ]\r[ / ]\r[ — ]\r[ \\ ]\r[ | ]\r[ / ]\r[ — ]\r[ \\ ]\r[ | ]\r[ / ]\r[OK!]\nclassifierdl_gender_biobert download started this may take some time.\nApproximate size to download 21 MB\n\r[ | ]\r[ / ]\r[ — ]\r[ \\ ]\r[ | ]\r[OK!]\n"
     ]
    }
   ],
   "source": [
    "documentAssembler = nlp.DocumentAssembler()\\\n",
    "      .setInputCol(\"text\")\\\n",
    "      .setOutputCol(\"document\")\n",
    "\n",
    "tokenizer = nlp.Tokenizer()\\\n",
    "      .setInputCols([\"document\"])\\\n",
    "      .setOutputCol(\"token\")\\\n",
    "\n",
    "biobert_embeddings = nlp.BertEmbeddings().pretrained('biobert_pubmed_base_cased') \\\n",
    "        .setInputCols([\"document\",'token'])\\\n",
    "        .setOutputCol(\"bert_embeddings\")\n",
    "\n",
    "sentence_embeddings = nlp.SentenceEmbeddings() \\\n",
    "     .setInputCols([\"document\", \"bert_embeddings\"]) \\\n",
    "     .setOutputCol(\"sentence_bert_embeddings\") \\\n",
    "     .setPoolingStrategy(\"AVERAGE\")\n",
    "\n",
    "genderClassifier = nlp.ClassifierDLModel.pretrained('classifierdl_gender_biobert', 'en', 'clinical/models') \\\n",
    "       .setInputCols([\"sentence_bert_embeddings\"]) \\\n",
    "       .setOutputCol(\"gender\")\n",
    "\n",
    "gender_pipeline = nlp.Pipeline(stages=[documentAssembler,\n",
    "                                   #sentenceDetector,\n",
    "                                   tokenizer, \n",
    "                                   biobert_embeddings, \n",
    "                                   sentence_embeddings, \n",
    "                                   genderClassifier])"
   ]
  },
  {
   "cell_type": "code",
   "execution_count": 0,
   "metadata": {
    "application/vnd.databricks.v1+cell": {
     "cellMetadata": {
      "byteLimit": 2048000,
      "rowLimit": 10000
     },
     "inputWidgets": {},
     "nuid": "f58e1ba2-e1eb-4f60-b050-46daadf250da",
     "showTitle": false,
     "title": ""
    }
   },
   "outputs": [],
   "source": [
    "data_ner = spark.createDataFrame([[\"\"]]).toDF(\"text\")\n",
    "\n",
    "gender_model = gender_pipeline.fit(data_ner)\n",
    "\n",
    "gender_df = gender_model.transform(df)"
   ]
  },
  {
   "cell_type": "code",
   "execution_count": 0,
   "metadata": {
    "application/vnd.databricks.v1+cell": {
     "cellMetadata": {
      "byteLimit": 2048000,
      "rowLimit": 10000
     },
     "inputWidgets": {},
     "nuid": "b42c5bcc-dab4-461e-b8a6-26141d7307ce",
     "showTitle": false,
     "title": ""
    }
   },
   "outputs": [],
   "source": [
    "gender_pd_df = gender_df.select(\"filename\", F.explode(F.arrays_zip(gender_df.gender.result,\n",
    "                                                                   gender_df.gender.metadata)).alias(\"cols\")) \\\n",
    "                       .select(\"filename\",\n",
    "                               F.expr(\"cols['0']\").alias(\"Gender\"),\n",
    "                               F.expr(\"cols['1']['Female']\").alias(\"Female\"),\n",
    "                               F.expr(\"cols['1']['Male']\").alias(\"Male\")).toPandas()\n",
    "\n",
    "gender_pd_df['Gender'] = gender_pd_df.apply(lambda x : \"F\" if float(x['Female']) >= float(x['Male']) else \"M\", axis=1)\n",
    "\n",
    "gender_pd_df = gender_pd_df[['filename', 'Gender']]"
   ]
  },
  {
   "cell_type": "markdown",
   "metadata": {
    "application/vnd.databricks.v1+cell": {
     "cellMetadata": {
      "byteLimit": 2048000,
      "rowLimit": 10000
     },
     "inputWidgets": {},
     "nuid": "5fd1bacd-e95a-4ba3-ad06-7ba9b59ece5a",
     "showTitle": false,
     "title": ""
    }
   },
   "source": [
    "All patients' gender is ready in a dataframe."
   ]
  },
  {
   "cell_type": "code",
   "execution_count": 0,
   "metadata": {
    "application/vnd.databricks.v1+cell": {
     "cellMetadata": {
      "byteLimit": 2048000,
      "rowLimit": 10000
     },
     "inputWidgets": {},
     "nuid": "5f784f1d-5d59-430b-8fe6-2545fc51b150",
     "showTitle": false,
     "title": ""
    }
   },
   "outputs": [
    {
     "output_type": "display_data",
     "data": {
      "text/html": [
       "<div>\n",
       "<style scoped>\n",
       "    .dataframe tbody tr th:only-of-type {\n",
       "        vertical-align: middle;\n",
       "    }\n",
       "\n",
       "    .dataframe tbody tr th {\n",
       "        vertical-align: top;\n",
       "    }\n",
       "\n",
       "    .dataframe thead th {\n",
       "        text-align: right;\n",
       "    }\n",
       "</style>\n",
       "<table border=\"1\" class=\"dataframe\">\n",
       "  <thead>\n",
       "    <tr style=\"text-align: right;\">\n",
       "      <th></th>\n",
       "      <th>filename</th>\n",
       "      <th>Gender</th>\n",
       "    </tr>\n",
       "  </thead>\n",
       "  <tbody>\n",
       "    <tr>\n",
       "      <th>0</th>\n",
       "      <td>mt_note_01.txt</td>\n",
       "      <td>F</td>\n",
       "    </tr>\n",
       "    <tr>\n",
       "      <th>1</th>\n",
       "      <td>mt_note_02.txt</td>\n",
       "      <td>F</td>\n",
       "    </tr>\n",
       "    <tr>\n",
       "      <th>2</th>\n",
       "      <td>mt_note_03.txt</td>\n",
       "      <td>F</td>\n",
       "    </tr>\n",
       "    <tr>\n",
       "      <th>3</th>\n",
       "      <td>mt_note_04.txt</td>\n",
       "      <td>F</td>\n",
       "    </tr>\n",
       "    <tr>\n",
       "      <th>4</th>\n",
       "      <td>mt_note_05.txt</td>\n",
       "      <td>F</td>\n",
       "    </tr>\n",
       "    <tr>\n",
       "      <th>5</th>\n",
       "      <td>mt_note_06.txt</td>\n",
       "      <td>F</td>\n",
       "    </tr>\n",
       "    <tr>\n",
       "      <th>6</th>\n",
       "      <td>mt_note_07.txt</td>\n",
       "      <td>M</td>\n",
       "    </tr>\n",
       "    <tr>\n",
       "      <th>7</th>\n",
       "      <td>mt_note_08.txt</td>\n",
       "      <td>F</td>\n",
       "    </tr>\n",
       "    <tr>\n",
       "      <th>8</th>\n",
       "      <td>mt_note_09.txt</td>\n",
       "      <td>M</td>\n",
       "    </tr>\n",
       "    <tr>\n",
       "      <th>9</th>\n",
       "      <td>mt_note_10.txt</td>\n",
       "      <td>M</td>\n",
       "    </tr>\n",
       "  </tbody>\n",
       "</table>\n",
       "</div>"
      ]
     },
     "metadata": {
      "application/vnd.databricks.v1+output": {
       "addedWidgets": {},
       "arguments": {},
       "data": "<div>\n<style scoped>\n    .dataframe tbody tr th:only-of-type {\n        vertical-align: middle;\n    }\n\n    .dataframe tbody tr th {\n        vertical-align: top;\n    }\n\n    .dataframe thead th {\n        text-align: right;\n    }\n</style>\n<table border=\"1\" class=\"dataframe\">\n  <thead>\n    <tr style=\"text-align: right;\">\n      <th></th>\n      <th>filename</th>\n      <th>Gender</th>\n    </tr>\n  </thead>\n  <tbody>\n    <tr>\n      <th>0</th>\n      <td>mt_note_01.txt</td>\n      <td>F</td>\n    </tr>\n    <tr>\n      <th>1</th>\n      <td>mt_note_02.txt</td>\n      <td>F</td>\n    </tr>\n    <tr>\n      <th>2</th>\n      <td>mt_note_03.txt</td>\n      <td>F</td>\n    </tr>\n    <tr>\n      <th>3</th>\n      <td>mt_note_04.txt</td>\n      <td>F</td>\n    </tr>\n    <tr>\n      <th>4</th>\n      <td>mt_note_05.txt</td>\n      <td>F</td>\n    </tr>\n    <tr>\n      <th>5</th>\n      <td>mt_note_06.txt</td>\n      <td>F</td>\n    </tr>\n    <tr>\n      <th>6</th>\n      <td>mt_note_07.txt</td>\n      <td>M</td>\n    </tr>\n    <tr>\n      <th>7</th>\n      <td>mt_note_08.txt</td>\n      <td>F</td>\n    </tr>\n    <tr>\n      <th>8</th>\n      <td>mt_note_09.txt</td>\n      <td>M</td>\n    </tr>\n    <tr>\n      <th>9</th>\n      <td>mt_note_10.txt</td>\n      <td>M</td>\n    </tr>\n  </tbody>\n</table>\n</div>",
       "datasetInfos": [],
       "metadata": {},
       "removedWidgets": [],
       "textData": null,
       "type": "htmlSandbox"
      }
     },
     "output_type": "display_data"
    }
   ],
   "source": [
    "gender_pd_df"
   ]
  },
  {
   "cell_type": "markdown",
   "metadata": {
    "application/vnd.databricks.v1+cell": {
     "cellMetadata": {
      "byteLimit": 2048000,
      "rowLimit": 10000
     },
     "inputWidgets": {},
     "nuid": "eae06030-89b8-4c87-b8b0-020d18a6bba6",
     "showTitle": false,
     "title": ""
    }
   },
   "source": [
    "## Age"
   ]
  },
  {
   "cell_type": "markdown",
   "metadata": {
    "application/vnd.databricks.v1+cell": {
     "cellMetadata": {
      "byteLimit": 2048000,
      "rowLimit": 10000
     },
     "inputWidgets": {},
     "nuid": "0a7efbe6-e7b3-4068-893f-6ed5d50b412e",
     "showTitle": false,
     "title": ""
    }
   },
   "source": [
    "We can get patient's age from the notes by another pipeline. We are creating an age pipeline to get `AGE` labelled entities. In a note, more than one age entity can be extracted. We will get the first age entity as patient's age."
   ]
  },
  {
   "cell_type": "code",
   "execution_count": 0,
   "metadata": {
    "application/vnd.databricks.v1+cell": {
     "cellMetadata": {
      "byteLimit": 2048000,
      "rowLimit": 10000
     },
     "inputWidgets": {},
     "nuid": "2ea29f2b-dfeb-43dd-b3fa-6325837065b1",
     "showTitle": false,
     "title": ""
    }
   },
   "outputs": [
    {
     "output_type": "stream",
     "name": "stdout",
     "output_type": "stream",
     "text": [
      "sentence_detector_dl download started this may take some time.\nApproximate size to download 354.6 KB\n\r[ | ]\r[OK!]\nembeddings_clinical download started this may take some time.\nApproximate size to download 1.6 GB\n\r[ | ]\r[OK!]\nner_jsl_enriched download started this may take some time.\n\r[ | ]\r[ / ]\r[ — ]\r[OK!]\n"
     ]
    }
   ],
   "source": [
    "documentAssembler = nlp.DocumentAssembler()\\\n",
    "      .setInputCol(\"text\")\\\n",
    "      .setOutputCol(\"document\")\n",
    "\n",
    "sentenceDetector = nlp.SentenceDetectorDLModel.pretrained()\\\n",
    "      .setInputCols([\"document\"])\\\n",
    "      .setOutputCol(\"sentence\")\n",
    " \n",
    "tokenizer = nlp.Tokenizer()\\\n",
    "      .setInputCols([\"sentence\"])\\\n",
    "      .setOutputCol(\"token\")\n",
    "\n",
    "word_embeddings = nlp.WordEmbeddingsModel.pretrained(\"embeddings_clinical\", \"en\", \"clinical/models\")\\\n",
    "      .setInputCols([\"sentence\", \"token\"])\\\n",
    "      .setOutputCol(\"embeddings\")\n",
    " \n",
    "clinical_ner = medical.NerModel.pretrained(\"ner_jsl_enriched\", \"en\", \"clinical/models\") \\\n",
    "      .setInputCols([\"sentence\", \"token\", \"embeddings\"]) \\\n",
    "      .setOutputCol(\"ner\")\n",
    "\n",
    "date_ner_converter = medical.NerConverterInternal() \\\n",
    "      .setInputCols([\"sentence\", \"token\", \"ner\"]) \\\n",
    "      .setOutputCol(\"ner_chunk\")\\\n",
    "      .setWhiteList([\"Age\"])\n",
    "\n",
    "age_pipeline = nlp.Pipeline(\n",
    "    stages = [\n",
    "        documentAssembler,\n",
    "        sentenceDetector,\n",
    "        tokenizer,\n",
    "        word_embeddings,\n",
    "        clinical_ner,\n",
    "        date_ner_converter\n",
    "    ])\n",
    "\n",
    "data_ner = spark.createDataFrame([[\"\"]]).toDF(\"text\")\n",
    "\n",
    "age_model = age_pipeline.fit(data_ner)"
   ]
  },
  {
   "cell_type": "code",
   "execution_count": 0,
   "metadata": {
    "application/vnd.databricks.v1+cell": {
     "cellMetadata": {
      "byteLimit": 2048000,
      "rowLimit": 10000
     },
     "inputWidgets": {},
     "nuid": "77227cea-b02d-47fb-b04b-4e152a8c6b34",
     "showTitle": false,
     "title": ""
    }
   },
   "outputs": [
    {
     "output_type": "display_data",
     "data": {
      "text/html": [
       "\n",
       "<style>\n",
       "    @import url('https://fonts.googleapis.com/css2?family=Montserrat:wght@300;400;500;600;700&display=swap');\n",
       "    @import url('https://fonts.googleapis.com/css2?family=Vistol Regular:wght@300;400;500;600;700&display=swap');\n",
       "    \n",
       "    .spark-nlp-display-scroll-entities {\n",
       "        border: 1px solid #E7EDF0;\n",
       "        border-radius: 3px;\n",
       "        text-align: justify;\n",
       "        \n",
       "    }\n",
       "    .spark-nlp-display-scroll-entities span {  \n",
       "        font-size: 14px;\n",
       "        line-height: 24px;\n",
       "        color: #536B76;\n",
       "        font-family: 'Montserrat', sans-serif !important;\n",
       "    }\n",
       "    \n",
       "    .spark-nlp-display-entity-wrapper{\n",
       "    \n",
       "        display: inline-grid;\n",
       "        text-align: center;\n",
       "        border-radius: 4px;\n",
       "        margin: 0 2px 5px 2px;\n",
       "        padding: 1px\n",
       "    }\n",
       "    .spark-nlp-display-entity-name{\n",
       "        font-size: 14px;\n",
       "        line-height: 24px;\n",
       "        font-family: 'Montserrat', sans-serif !important;\n",
       "        \n",
       "        background: #f1f2f3;\n",
       "        border-width: medium;\n",
       "        text-align: center;\n",
       "        \n",
       "        font-weight: 400;\n",
       "        \n",
       "        border-radius: 5px;\n",
       "        padding: 2px 5px;\n",
       "        display: block;\n",
       "        margin: 3px 2px;\n",
       "    \n",
       "    }\n",
       "    .spark-nlp-display-entity-type{\n",
       "        font-size: 14px;\n",
       "        line-height: 24px;\n",
       "        color: #ffffff;\n",
       "        font-family: 'Montserrat', sans-serif !important;\n",
       "        \n",
       "        text-transform: uppercase;\n",
       "        \n",
       "        font-weight: 500;\n",
       "\n",
       "        display: block;\n",
       "        padding: 3px 5px;\n",
       "    }\n",
       "    \n",
       "    .spark-nlp-display-entity-resolution{\n",
       "        font-size: 14px;\n",
       "        line-height: 24px;\n",
       "        color: #ffffff;\n",
       "        font-family: 'Vistol Regular', sans-serif !important;\n",
       "        \n",
       "        text-transform: uppercase;\n",
       "        \n",
       "        font-weight: 500;\n",
       "\n",
       "        display: block;\n",
       "        padding: 3px 5px;\n",
       "    }\n",
       "    \n",
       "    .spark-nlp-display-others{\n",
       "        font-size: 14px;\n",
       "        line-height: 24px;\n",
       "        font-family: 'Montserrat', sans-serif !important;\n",
       "        \n",
       "        font-weight: 400;\n",
       "    }\n",
       "\n",
       "</style>\n",
       " <span class=\"spark-nlp-display-others\" style=\"background-color: white\"><br>Medical Specialty:Hematology - Oncology<br>Sample Name: Mullerian Adenosarcoma<br>Description: Discharge summary of a patient presenting with a large mass aborted through the cervix.<br>(Medical Transcription Sample Report)<br>PRINCIPAL DIAGNOSIS:  Mullerian adenosarcoma.<br>HISTORY OF PRESENT ILLNESS:  The patient is a </span><span class=\"spark-nlp-display-entity-wrapper\" style=\"background-color: #ffe0ac\"><span class=\"spark-nlp-display-entity-name\">56-year-old </span><span class=\"spark-nlp-display-entity-type\">Age</span></span><span class=\"spark-nlp-display-others\" style=\"background-color: white\"> presenting with a large mass aborted through the cervix.<br>PHYSICAL EXAM:CHEST: Clear. There is no heart murmur. ABDOMEN: Nontender.<br>PELVIC: There is a large mass in the vagina.<br>HOSPITAL COURSE:  The patient went to surgery on the day of admission. The postoperative course was marked by fever and ileus. The patient regained bowel function. She was discharged on the morning of the seventh postoperative day.<br>OPERATIONS:  July 25, 2006: Total abdominal hysterectomy, bilateral salpingo-oophorectomy.<br>DISCHARGE CONDITION:  Stable.<br>PLAN:  The patient will remain at rest initially with progressive ambulation thereafter. She will avoid lifting, driving, stairs, or intercourse. She will call me for fevers, drainage, bleeding, or pain. Family history, social history, and psychosocial needs per the social worker. The patient will follow up in my office in one week.<br>PATHOLOGY: Mullerian adenosarcoma.<br>MEDICATIONS: Percocet 5, #40, one q.3 h. p.r.n. pain.<br></span></div>"
      ]
     },
     "metadata": {
      "application/vnd.databricks.v1+output": {
       "addedWidgets": {},
       "arguments": {},
       "data": "\n<style>\n    @import url('https://fonts.googleapis.com/css2?family=Montserrat:wght@300;400;500;600;700&display=swap');\n    @import url('https://fonts.googleapis.com/css2?family=Vistol Regular:wght@300;400;500;600;700&display=swap');\n    \n    .spark-nlp-display-scroll-entities {\n        border: 1px solid #E7EDF0;\n        border-radius: 3px;\n        text-align: justify;\n        \n    }\n    .spark-nlp-display-scroll-entities span {  \n        font-size: 14px;\n        line-height: 24px;\n        color: #536B76;\n        font-family: 'Montserrat', sans-serif !important;\n    }\n    \n    .spark-nlp-display-entity-wrapper{\n    \n        display: inline-grid;\n        text-align: center;\n        border-radius: 4px;\n        margin: 0 2px 5px 2px;\n        padding: 1px\n    }\n    .spark-nlp-display-entity-name{\n        font-size: 14px;\n        line-height: 24px;\n        font-family: 'Montserrat', sans-serif !important;\n        \n        background: #f1f2f3;\n        border-width: medium;\n        text-align: center;\n        \n        font-weight: 400;\n        \n        border-radius: 5px;\n        padding: 2px 5px;\n        display: block;\n        margin: 3px 2px;\n    \n    }\n    .spark-nlp-display-entity-type{\n        font-size: 14px;\n        line-height: 24px;\n        color: #ffffff;\n        font-family: 'Montserrat', sans-serif !important;\n        \n        text-transform: uppercase;\n        \n        font-weight: 500;\n\n        display: block;\n        padding: 3px 5px;\n    }\n    \n    .spark-nlp-display-entity-resolution{\n        font-size: 14px;\n        line-height: 24px;\n        color: #ffffff;\n        font-family: 'Vistol Regular', sans-serif !important;\n        \n        text-transform: uppercase;\n        \n        font-weight: 500;\n\n        display: block;\n        padding: 3px 5px;\n    }\n    \n    .spark-nlp-display-others{\n        font-size: 14px;\n        line-height: 24px;\n        font-family: 'Montserrat', sans-serif !important;\n        \n        font-weight: 400;\n    }\n\n</style>\n <span class=\"spark-nlp-display-others\" style=\"background-color: white\"><br>Medical Specialty:Hematology - Oncology<br>Sample Name: Mullerian Adenosarcoma<br>Description: Discharge summary of a patient presenting with a large mass aborted through the cervix.<br>(Medical Transcription Sample Report)<br>PRINCIPAL DIAGNOSIS:  Mullerian adenosarcoma.<br>HISTORY OF PRESENT ILLNESS:  The patient is a </span><span class=\"spark-nlp-display-entity-wrapper\" style=\"background-color: #ffe0ac\"><span class=\"spark-nlp-display-entity-name\">56-year-old </span><span class=\"spark-nlp-display-entity-type\">Age</span></span><span class=\"spark-nlp-display-others\" style=\"background-color: white\"> presenting with a large mass aborted through the cervix.<br>PHYSICAL EXAM:CHEST: Clear. There is no heart murmur. ABDOMEN: Nontender.<br>PELVIC: There is a large mass in the vagina.<br>HOSPITAL COURSE:  The patient went to surgery on the day of admission. The postoperative course was marked by fever and ileus. The patient regained bowel function. She was discharged on the morning of the seventh postoperative day.<br>OPERATIONS:  July 25, 2006: Total abdominal hysterectomy, bilateral salpingo-oophorectomy.<br>DISCHARGE CONDITION:  Stable.<br>PLAN:  The patient will remain at rest initially with progressive ambulation thereafter. She will avoid lifting, driving, stairs, or intercourse. She will call me for fevers, drainage, bleeding, or pain. Family history, social history, and psychosocial needs per the social worker. The patient will follow up in my office in one week.<br>PATHOLOGY: Mullerian adenosarcoma.<br>MEDICATIONS: Percocet 5, #40, one q.3 h. p.r.n. pain.<br></span></div>",
       "datasetInfos": [],
       "metadata": {},
       "removedWidgets": [],
       "textData": null,
       "type": "htmlSandbox"
      }
     },
     "output_type": "display_data"
    }
   ],
   "source": [
    "light_model = nlp.LightPipeline(age_model)\n",
    "\n",
    "light_result = light_model.fullAnnotate(sample_text)\n",
    "\n",
    "visualiser = nlp.viz.NerVisualizer()\n",
    "\n",
    "ner_vis = visualiser.display(light_result[0], label_col='ner_chunk', document_col='document', return_html=True)\n",
    "\n",
    "displayHTML(ner_vis)"
   ]
  },
  {
   "cell_type": "code",
   "execution_count": 0,
   "metadata": {
    "application/vnd.databricks.v1+cell": {
     "cellMetadata": {
      "byteLimit": 2048000,
      "rowLimit": 10000
     },
     "inputWidgets": {},
     "nuid": "192a88a8-6878-4ca5-ab62-167a8fd03c34",
     "showTitle": false,
     "title": ""
    }
   },
   "outputs": [],
   "source": [
    "age_result = age_model.transform(df)\n",
    " \n",
    "age_df = age_result.select(\"filename\",F.explode(F.arrays_zip(age_result.ner_chunk.result, \n",
    "                                                             age_result.ner_chunk.metadata)).alias(\"cols\")) \\\n",
    "                   .select(\"filename\", \n",
    "                           F.expr(\"cols['0']\").alias(\"Age\"),\n",
    "                           F.expr(\"cols['1']['entity']\").alias(\"ner_label\")).toPandas().groupby('filename').first().reset_index()"
   ]
  },
  {
   "cell_type": "code",
   "execution_count": 0,
   "metadata": {
    "application/vnd.databricks.v1+cell": {
     "cellMetadata": {
      "byteLimit": 2048000,
      "rowLimit": 10000
     },
     "inputWidgets": {},
     "nuid": "60312256-97a9-4f23-b721-c8171a666bbc",
     "showTitle": false,
     "title": ""
    }
   },
   "outputs": [
    {
     "output_type": "display_data",
     "data": {
      "text/html": [
       "<div>\n",
       "<style scoped>\n",
       "    .dataframe tbody tr th:only-of-type {\n",
       "        vertical-align: middle;\n",
       "    }\n",
       "\n",
       "    .dataframe tbody tr th {\n",
       "        vertical-align: top;\n",
       "    }\n",
       "\n",
       "    .dataframe thead th {\n",
       "        text-align: right;\n",
       "    }\n",
       "</style>\n",
       "<table border=\"1\" class=\"dataframe\">\n",
       "  <thead>\n",
       "    <tr style=\"text-align: right;\">\n",
       "      <th></th>\n",
       "      <th>filename</th>\n",
       "      <th>Age</th>\n",
       "    </tr>\n",
       "  </thead>\n",
       "  <tbody>\n",
       "    <tr>\n",
       "      <th>0</th>\n",
       "      <td>mt_note_01.txt</td>\n",
       "      <td>59</td>\n",
       "    </tr>\n",
       "    <tr>\n",
       "      <th>1</th>\n",
       "      <td>mt_note_02.txt</td>\n",
       "      <td>56</td>\n",
       "    </tr>\n",
       "    <tr>\n",
       "      <th>2</th>\n",
       "      <td>mt_note_03.txt</td>\n",
       "      <td>66</td>\n",
       "    </tr>\n",
       "    <tr>\n",
       "      <th>3</th>\n",
       "      <td>mt_note_04.txt</td>\n",
       "      <td>61</td>\n",
       "    </tr>\n",
       "    <tr>\n",
       "      <th>4</th>\n",
       "      <td>mt_note_05.txt</td>\n",
       "      <td>57</td>\n",
       "    </tr>\n",
       "  </tbody>\n",
       "</table>\n",
       "</div>"
      ]
     },
     "metadata": {
      "application/vnd.databricks.v1+output": {
       "addedWidgets": {},
       "arguments": {},
       "data": "<div>\n<style scoped>\n    .dataframe tbody tr th:only-of-type {\n        vertical-align: middle;\n    }\n\n    .dataframe tbody tr th {\n        vertical-align: top;\n    }\n\n    .dataframe thead th {\n        text-align: right;\n    }\n</style>\n<table border=\"1\" class=\"dataframe\">\n  <thead>\n    <tr style=\"text-align: right;\">\n      <th></th>\n      <th>filename</th>\n      <th>Age</th>\n    </tr>\n  </thead>\n  <tbody>\n    <tr>\n      <th>0</th>\n      <td>mt_note_01.txt</td>\n      <td>59</td>\n    </tr>\n    <tr>\n      <th>1</th>\n      <td>mt_note_02.txt</td>\n      <td>56</td>\n    </tr>\n    <tr>\n      <th>2</th>\n      <td>mt_note_03.txt</td>\n      <td>66</td>\n    </tr>\n    <tr>\n      <th>3</th>\n      <td>mt_note_04.txt</td>\n      <td>61</td>\n    </tr>\n    <tr>\n      <th>4</th>\n      <td>mt_note_05.txt</td>\n      <td>57</td>\n    </tr>\n  </tbody>\n</table>\n</div>",
       "datasetInfos": [],
       "metadata": {},
       "removedWidgets": [],
       "textData": null,
       "type": "htmlSandbox"
      }
     },
     "output_type": "display_data"
    }
   ],
   "source": [
    "age_df.Age = age_df.Age.replace(r\"\\D\", \"\", regex = True).astype(int)\n",
    "age_df.drop('ner_label', axis=1, inplace=True)\n",
    "age_df.head()"
   ]
  },
  {
   "cell_type": "markdown",
   "metadata": {
    "application/vnd.databricks.v1+cell": {
     "cellMetadata": {
      "byteLimit": 2048000,
      "rowLimit": 10000
     },
     "inputWidgets": {},
     "nuid": "7a593cbf-fb5b-4e91-8c64-52b89062252a",
     "showTitle": false,
     "title": ""
    }
   },
   "source": [
    "# Calculating Medicare Risk Adjusment Score"
   ]
  },
  {
   "cell_type": "markdown",
   "metadata": {
    "application/vnd.databricks.v1+cell": {
     "cellMetadata": {
      "byteLimit": 2048000,
      "rowLimit": 10000
     },
     "inputWidgets": {},
     "nuid": "3f12a313-5c69-4f87-82cd-9c13bfef91ae",
     "showTitle": false,
     "title": ""
    }
   },
   "source": [
    "Now, we have all data which can be extracted from clinical notes. Now we can calculate Medicare Risk Adjusment Score by Spark NLP Healthcare CMS-HCC risk-adjustment score calculation module.\n",
    "\n",
    "**This module supports V22, V23, V24 and V28 of the CMS-HCC risk adjustment model.**\n",
    "\n",
    "It needs the following parameters in order to calculate the risk score:\n",
    "\n",
    "- ICD Codes\n",
    "- Age\n",
    "- Gender\n",
    "- The eligibility segment of the patient\n",
    "- The original reason for entitlement\n",
    "- If the patient is in Medicaid or not"
   ]
  },
  {
   "cell_type": "code",
   "execution_count": 0,
   "metadata": {
    "application/vnd.databricks.v1+cell": {
     "cellMetadata": {
      "byteLimit": 2048000,
      "rowLimit": 10000
     },
     "inputWidgets": {},
     "nuid": "b102adaa-7ac3-474d-9d30-6d3becfdab12",
     "showTitle": false,
     "title": ""
    }
   },
   "outputs": [],
   "source": [
    "patient_df = age_df.merge(icd10_df_all, on='filename', how = \"left\")\\\n",
    "                   .merge(gender_pd_df, on='filename', how = \"left\")\n",
    " \n",
    "patient_df = patient_df.dropna()"
   ]
  },
  {
   "cell_type": "code",
   "execution_count": 0,
   "metadata": {
    "application/vnd.databricks.v1+cell": {
     "cellMetadata": {
      "byteLimit": 2048000,
      "rowLimit": 10000
     },
     "inputWidgets": {},
     "nuid": "1fbb7671-7273-41db-986f-4e4a4def90dc",
     "showTitle": false,
     "title": ""
    }
   },
   "outputs": [
    {
     "output_type": "stream",
     "name": "stdout",
     "output_type": "stream",
     "text": [
      "<class 'pandas.core.frame.DataFrame'>\nInt64Index: 9 entries, 0 to 9\nData columns (total 5 columns):\n #   Column                           Non-Null Count  Dtype \n---  ------                           --------------  ----- \n 0   filename                         9 non-null      object\n 1   Age                              9 non-null      int64 \n 2   icd10_code                       9 non-null      object\n 3   Extracted_Entities_vs_ICD_Codes  9 non-null      object\n 4   Gender                           9 non-null      object\ndtypes: int64(1), object(4)\nmemory usage: 432.0+ bytes\n"
     ]
    }
   ],
   "source": [
    "patient_df.info()"
   ]
  },
  {
   "cell_type": "code",
   "execution_count": 0,
   "metadata": {
    "application/vnd.databricks.v1+cell": {
     "cellMetadata": {
      "byteLimit": 2048000,
      "rowLimit": 10000
     },
     "inputWidgets": {},
     "nuid": "e5080a8b-0b27-44d0-9119-bf4d9db0a073",
     "showTitle": false,
     "title": ""
    }
   },
   "outputs": [
    {
     "output_type": "stream",
     "name": "stdout",
     "output_type": "stream",
     "text": [
      "+--------------+---+----------------------------------------------------------------------------+-----------------------------------------------------------------------------------------------------------------------------------------------------------------------------------------------------------------------------------------------------------------------------------------+------+\n|filename      |Age|icd10_code                                                                  |Extracted_Entities_vs_ICD_Codes                                                                                                                                                                                                                                                          |Gender|\n+--------------+---+----------------------------------------------------------------------------+-----------------------------------------------------------------------------------------------------------------------------------------------------------------------------------------------------------------------------------------------------------------------------------------+------+\n|mt_note_01.txt|59 |[P61.4, C80.1]                                                              |[[dysplasia, P61.4], [cancer, C80.1]]                                                                                                                                                                                                                                                    |F     |\n|mt_note_02.txt|56 |[C53.9, C53.9]                                                              |[[Name: Mullerian Adenosarcoma, C53.9], [Mullerian adenosarcoma, C53.9]]                                                                                                                                                                                                                 |F     |\n|mt_note_03.txt|66 |[C49.9, I26, D61.81, J18.9, C49.9, D61.81, M06.9, C44.9, I26, J32.9]        |[[leiomyosarcoma, C49.9], [pulmonary embolism, I26], [pancytopenia, D61.81], [pneumonia, J18.9], [Leiomyosarcoma, C49.9], [Pancytopenia, D61.81], [rheumatoid arthritis, M06.9], [grade 2 leiomyosarcoma, C44.9], [pulmonary embolus, I26], [sinusitis, J32.9]]                          |F     |\n|mt_note_04.txt|61 |[C44.9, C44.9, N64.81, C44.90, R06.8, I80.9, R23.8, H02.4, I80.2, P39.9]    |[[basal cell carcinoma, C44.9], [Basal cell carcinoma, C44.9], [Breast ptosis, N64.81], [skin cancer, C44.90], [acid reflux, R06.8], [phlebitis, I80.9], [actinic skin damage, R23.8], [Ptosis, H02.4], [deep venous thrombosis, I80.2], [infection, P39.9]]                             |F     |\n|mt_note_05.txt|57 |[C50.92, C50.91, C50.9, C50.92, C80.0, T78.40, R50.9, G25.81, P39.9, C50.92]|[[Breast Cancer, C50.92], [ductal carcinoma of the left breast, C50.91], [ductal carcinoma, C50.9], [breast cancer, C50.92], [metastatic disease, C80.0], [ALLERGIES, T78.40], [febrile illnesses, R50.9], [restless leg syndrome, G25.81], [infection, P39.9], [breast cancers, C50.92]]|F     |\n|mt_note_06.txt|63 |[C45, D20.1, F31.9, R18, D20.1, F31.9, L72.0]                               |[[Name: Intraperitoneal Mesothelioma, C45], [peritoneal mesothelioma, D20.1], [type 1 bipolar disease, F31.9], [ascites, R18], [Intraperitoneal mesothelioma, D20.1], [Type 1 bipolar disease, F31.9], [cyst, L72.0]]                                                                    |F     |\n|mt_note_08.txt|66 |[J90, C45.9, J90]                                                           |[[Description: Right pleural effusion, J90], [malignant mesothelioma, C45.9], [pleural effusion, J90]]                                                                                                                                                                                   |F     |\n|mt_note_09.txt|19 |[D50.8, D57.0, O99.0, D57.02]                                               |[[Name: Sickle Cell Anemia, D50.8], [sickle cell anemia, D57.0], [sickle cell, O99.0], [Sickle cell crisis, D57.02]]                                                                                                                                                                     |M     |\n|mt_note_10.txt|16 |[C69.60, C69.60]                                                            |[[Rhabdomyosarcoma of the left orbit, C69.60], [rhabdomyosarcoma of the left orbit, C69.60]]                                                                                                                                                                                             |M     |\n+--------------+---+----------------------------------------------------------------------------+-----------------------------------------------------------------------------------------------------------------------------------------------------------------------------------------------------------------------------------------------------------------------------------------+------+\n\n"
     ]
    }
   ],
   "source": [
    "df = spark.createDataFrame(patient_df)\n",
    "df.show(truncate=False)"
   ]
  },
  {
   "cell_type": "code",
   "execution_count": 0,
   "metadata": {
    "application/vnd.databricks.v1+cell": {
     "cellMetadata": {
      "byteLimit": 2048000,
      "rowLimit": 10000
     },
     "inputWidgets": {},
     "nuid": "ff1a2221-b023-4141-a111-781584742b95",
     "showTitle": false,
     "title": ""
    }
   },
   "outputs": [],
   "source": [
    "schema = T.StructType([\n",
    "            T.StructField('risk_score', T.FloatType()),\n",
    "            T.StructField('hcc_lst', T.StringType()),\n",
    "            T.StructField('parameters', T.StringType()),\n",
    "            T.StructField('details', T.StringType())])"
   ]
  },
  {
   "cell_type": "code",
   "execution_count": 0,
   "metadata": {
    "application/vnd.databricks.v1+cell": {
     "cellMetadata": {
      "byteLimit": 2048000,
      "rowLimit": 10000
     },
     "inputWidgets": {},
     "nuid": "1d40f128-6301-4f91-b940-dfd4e0b48f7c",
     "showTitle": false,
     "title": ""
    }
   },
   "outputs": [
    {
     "output_type": "stream",
     "name": "stdout",
     "output_type": "stream",
     "text": [
      "+--------------+-----------+----+--------+----------+\n|filename      |eligibility|orec|medicaid|DOB       |\n+--------------+-----------+----+--------+----------+\n|mt_note_01.txt|CFA        |0   |true    |1961-10-12|\n|mt_note_03.txt|CND        |1   |false   |1956-05-30|\n|mt_note_05.txt|CPA        |3   |true    |1963-08-12|\n|mt_note_06.txt|CFA        |0   |false   |1959-07-24|\n|mt_note_08.txt|CND        |1   |true    |1956-03-17|\n|mt_note_09.txt|CPA        |3   |true    |2003-06-11|\n|mt_note_10.txt|CFA        |2   |false   |2006-02-14|\n+--------------+-----------+----+--------+----------+\n\n"
     ]
    }
   ],
   "source": [
    "extra_columns = pd.DataFrame({\"filename\" : [\"mt_note_01.txt\", \"mt_note_03.txt\", \"mt_note_05.txt\", \"mt_note_06.txt\", \n",
    "                                            \"mt_note_08.txt\", \"mt_note_09.txt\", \"mt_note_10.txt\", ],\n",
    "                              \"eligibility\" : [\"CFA\", \"CND\", \"CPA\", \"CFA\", \"CND\", \"CPA\", \"CFA\"],\n",
    "                      \"orec\" : [\"0\", \"1\", \"3\", \"0\", \"1\", \"3\", \"2\"],\n",
    "                      \"medicaid\":[True, False, True, False, True, True, False],\n",
    "                      \"DOB\" : ['1961-10-12', \"1956-05-30\", '1963-08-12', \"1959-07-24\", '1956-03-17', \"2003-06-11\", '2006-02-14']\n",
    "                      })\n",
    "\n",
    "df_extra = spark.createDataFrame(extra_columns)\n",
    "df_extra.show(truncate=False)"
   ]
  },
  {
   "cell_type": "markdown",
   "metadata": {
    "application/vnd.databricks.v1+cell": {
     "cellMetadata": {
      "byteLimit": 2048000,
      "rowLimit": 10000
     },
     "inputWidgets": {},
     "nuid": "af4fbd88-4548-4a70-ae7d-fb323c5341c1",
     "showTitle": false,
     "title": ""
    }
   },
   "source": [
    "If we don't have age information in documents and have date of birth for each patient, we can calculate the age with following functions."
   ]
  },
  {
   "cell_type": "markdown",
   "metadata": {
    "application/vnd.databricks.v1+cell": {
     "cellMetadata": {
      "byteLimit": 2048000,
      "rowLimit": 10000
     },
     "inputWidgets": {},
     "nuid": "550fa79b-103a-49bc-8193-085ffce8925a",
     "showTitle": false,
     "title": ""
    }
   },
   "source": [
    "```python\n",
    "from pyspark.sql import functions as F\n",
    "\n",
    "df_extra = df_extra.withColumn(\"DOB\", F.to_date(F.col(\"DOB\")))\n",
    "df_extra = df_extra.withColumn(\"Age\", F.datediff(F.current_date(), F.col(\"DOB\"))/365)\n",
    "df_extra.show()\n",
    "```\n",
    "```bash\n",
    "+--------------+-----------+----+--------+----------+------------------+\n",
    "|      filename|eligibility|orec|medicaid|       DOB|               Age|\n",
    "+--------------+-----------+----+--------+----------+------------------+\n",
    "|mt_note_01.txt|        CFA|   0|    true|1961-10-12| 60.93972602739726|\n",
    "|mt_note_03.txt|        CND|   1|   false|1956-05-30| 66.31232876712329|\n",
    "|mt_note_05.txt|        CPA|   3|    true|1963-08-12|59.106849315068494|\n",
    "|mt_note_06.txt|        CFA|   0|   false|1959-07-24| 63.16164383561644|\n",
    "|mt_note_08.txt|        CND|   1|    true|1956-03-17| 66.51506849315068|\n",
    "|mt_note_09.txt|        CPA|   3|    true|2003-06-11| 19.24931506849315|\n",
    "|mt_note_10.txt|        CFA|   2|   false|2006-02-14|16.567123287671233|\n",
    "+--------------+-----------+----+--------+----------+------------------+\n",
    "```"
   ]
  },
  {
   "cell_type": "code",
   "execution_count": 0,
   "metadata": {
    "application/vnd.databricks.v1+cell": {
     "cellMetadata": {
      "byteLimit": 2048000,
      "rowLimit": 10000
     },
     "inputWidgets": {},
     "nuid": "37b1bdbb-6d0b-46bd-be1d-b0c482d069af",
     "showTitle": false,
     "title": ""
    }
   },
   "outputs": [],
   "source": [
    "df = df.join(df_extra, on= \"filename\")"
   ]
  },
  {
   "cell_type": "code",
   "execution_count": 0,
   "metadata": {
    "application/vnd.databricks.v1+cell": {
     "cellMetadata": {
      "byteLimit": 2048000,
      "rowLimit": 10000
     },
     "inputWidgets": {},
     "nuid": "82497b36-fdfa-4f82-8cc0-5344f31973b5",
     "showTitle": false,
     "title": ""
    }
   },
   "outputs": [
    {
     "output_type": "stream",
     "name": "stdout",
     "output_type": "stream",
     "text": [
      "+--------------+---+--------------------+-------------------------------+------+-----------+----+--------+----------+\n|      filename|Age|          icd10_code|Extracted_Entities_vs_ICD_Codes|Gender|eligibility|orec|medicaid|       DOB|\n+--------------+---+--------------------+-------------------------------+------+-----------+----+--------+----------+\n|mt_note_01.txt| 59|      [P61.4, C80.1]|           [[dysplasia, P61....|     F|        CFA|   0|    true|1961-10-12|\n|mt_note_03.txt| 66|[C49.9, I26, D61....|           [[leiomyosarcoma,...|     F|        CND|   1|   false|1956-05-30|\n|mt_note_05.txt| 57|[C50.92, C50.91, ...|           [[Breast Cancer, ...|     F|        CPA|   3|    true|1963-08-12|\n|mt_note_06.txt| 63|[C45, D20.1, F31....|           [[Name: Intraperi...|     F|        CFA|   0|   false|1959-07-24|\n|mt_note_08.txt| 66|   [J90, C45.9, J90]|           [[Description: Ri...|     F|        CND|   1|    true|1956-03-17|\n|mt_note_09.txt| 19|[D50.8, D57.0, O9...|           [[Name: Sickle Ce...|     M|        CPA|   3|    true|2003-06-11|\n|mt_note_10.txt| 16|    [C69.60, C69.60]|           [[Rhabdomyosarcom...|     M|        CFA|   2|   false|2006-02-14|\n+--------------+---+--------------------+-------------------------------+------+-----------+----+--------+----------+\n\n"
     ]
    }
   ],
   "source": [
    "df.show()"
   ]
  },
  {
   "cell_type": "markdown",
   "metadata": {
    "application/vnd.databricks.v1+cell": {
     "cellMetadata": {
      "byteLimit": 2048000,
      "rowLimit": 10000
     },
     "inputWidgets": {},
     "nuid": "18cbda4c-10f5-41d5-9e13-e1f431e1fb64",
     "showTitle": false,
     "title": ""
    }
   },
   "source": [
    "## Importing the model version\n",
    "\n",
    "You can import one of the following function calculate the score. \n",
    "\n",
    "```\n",
    "- profileV22Y17   - profileV23Y18  - profileV24Y19  - profileV28Y24 - profileESRDV21Y19 - profileRxHCCV05Y20 - profileRxHCCV08Y22                                                           \n",
    "- profileV22Y18   - profileV23Y19  - profileV24Y20  - profileV28                        - profileRxHCCV05Y21 - profileRxHCCV08Y23\n",
    "- profileV22Y19   - profileV23     - profileV24Y21                                      - profileRxHCCV05Y22\n",
    "- profileV22Y20                    - profileV24Y22                                      - profileRxHCCV05Y23\n",
    "- profileV22Y21                    - profileV24\n",
    "- profileV22Y22                     \n",
    "- profileV22                        \n",
    "```"
   ]
  },
  {
   "cell_type": "code",
   "execution_count": 0,
   "metadata": {
    "application/vnd.databricks.v1+cell": {
     "cellMetadata": {
      "byteLimit": 2048000,
      "rowLimit": 10000
     },
     "inputWidgets": {},
     "nuid": "1aaaee69-ca28-4cfe-a91a-196d7d8ee366",
     "showTitle": false,
     "title": ""
    }
   },
   "outputs": [
    {
     "output_type": "stream",
     "name": "stdout",
     "output_type": "stream",
     "text": [
      "+----------+----------------------------------------------------------------------------+---+------+\n|risk_score|icd10_code                                                                  |Age|Gender|\n+----------+----------------------------------------------------------------------------+---+------+\n|0.196     |[P61.4, C80.1]                                                              |59 |F     |\n|1.01      |[C49.9, I26, D61.81, J18.9, C49.9, D61.81, M06.9, C44.9, I26, J32.9]        |66 |F     |\n|2.166     |[C50.92, C50.91, C50.9, C50.92, C80.0, T78.40, R50.9, G25.81, P39.9, C50.92]|57 |F     |\n|0.349     |[C45, D20.1, F31.9, R18, D20.1, F31.9, L72.0]                               |63 |F     |\n|1.989     |[J90, C45.9, J90]                                                           |66 |F     |\n|0.303     |[D50.8, D57.0, O99.0, D57.02]                                               |19 |M     |\n|0.196     |[C69.60, C69.60]                                                            |16 |M     |\n+----------+----------------------------------------------------------------------------+---+------+\n\n-RECORD 0-------------------------------------------------------------------------------------------------------------------------------\n filename                        | mt_note_01.txt                                                                                       \n Age                             | 59                                                                                                   \n icd10_code                      | [P61.4, C80.1]                                                                                       \n Extracted_Entities_vs_ICD_Codes | [[dysplasia, P61.4], [cancer, C80.1]]                                                                \n Gender                          | F                                                                                                    \n eligibility                     | CFA                                                                                                  \n orec                            | 0                                                                                                    \n medicaid                        | true                                                                                                 \n DOB                             | 1961-10-12                                                                                           \n hcc_profile                     | {0.196, [\"D1\",\"HCC23\"], {\"elig\":\"CFA\",\"age\":59,\"sex\":\"F\",\"origds\":false,\"disabled\":false,\"medicai... \n risk_score                      | 0.196                                                                                                \n hcc_lst                         | [\"D1\",\"HCC23\"]                                                                                       \n parameters                      | {\"elig\":\"CFA\",\"age\":59,\"sex\":\"F\",\"origds\":false,\"disabled\":false,\"medicaid\":true}                    \n details                         | {\"\":0.0,\"CFA_LTIMCAID\":0.0,\"CFA_D1\":0.0,\"CFA_HCC23\":0.196}                                           \n-RECORD 1-------------------------------------------------------------------------------------------------------------------------------\n filename                        | mt_note_03.txt                                                                                       \n Age                             | 66                                                                                                   \n icd10_code                      | [C49.9, I26, D61.81, J18.9, C49.9, D61.81, M06.9, C44.9, I26, J32.9]                                 \n Extracted_Entities_vs_ICD_Codes | [[leiomyosarcoma, C49.9], [pulmonary embolism, I26], [pancytopenia, D61.81], [pneumonia, J18.9], ... \n Gender                          | F                                                                                                    \n eligibility                     | CND                                                                                                  \n orec                            | 1                                                                                                    \n medicaid                        | false                                                                                                \n DOB                             | 1956-05-30                                                                                           \n hcc_profile                     | {1.01, [\"HCC21\",\"D2\",\"HCC93\"], {\"elig\":\"CND\",\"age\":66,\"sex\":\"F\",\"origds\":true,\"disabled\":false,\"m... \n risk_score                      | 1.01                                                                                                 \n hcc_lst                         | [\"HCC21\",\"D2\",\"HCC93\"]                                                                               \n parameters                      | {\"elig\":\"CND\",\"age\":66,\"sex\":\"F\",\"origds\":true,\"disabled\":false,\"medicaid\":false}                    \n details                         | {\"\":0.0,\"CND_HCC93\":0.47,\"CND_D2\":0.0,\"CND_OriginallyDisabled_Female\":0.0,\"CND_HCC21\":0.54}          \n-RECORD 2-------------------------------------------------------------------------------------------------------------------------------\n filename                        | mt_note_05.txt                                                                                       \n Age                             | 57                                                                                                   \n icd10_code                      | [C50.92, C50.91, C50.9, C50.92, C80.0, T78.40, R50.9, G25.81, P39.9, C50.92]                         \n Extracted_Entities_vs_ICD_Codes | [[Breast Cancer, C50.92], [ductal carcinoma of the left breast, C50.91], [ductal carcinoma, C50.9... \n Gender                          | F                                                                                                    \n eligibility                     | CPA                                                                                                  \n orec                            | 3                                                                                                    \n medicaid                        | true                                                                                                 \n DOB                             | 1963-08-12                                                                                           \n hcc_profile                     | {2.166, [\"HCC18\",\"D1\",\"DISABLED_CANCER\"], {\"elig\":\"CPA\",\"age\":57,\"sex\":\"F\",\"origds\":false,\"disabl... \n risk_score                      | 2.166                                                                                                \n hcc_lst                         | [\"HCC18\",\"D1\",\"DISABLED_CANCER\"]                                                                     \n parameters                      | {\"elig\":\"CPA\",\"age\":57,\"sex\":\"F\",\"origds\":false,\"disabled\":true,\"medicaid\":true}                     \n details                         | {\"\":0.0,\"CPA_DISABLED_CANCER\":0.0,\"CPA_HCC18\":2.166,\"CPA_D1\":0.0,\"CPA_LTIMCAID\":0.0}                 \n-RECORD 3-------------------------------------------------------------------------------------------------------------------------------\n filename                        | mt_note_06.txt                                                                                       \n Age                             | 63                                                                                                   \n icd10_code                      | [C45, D20.1, F31.9, R18, D20.1, F31.9, L72.0]                                                        \n Extracted_Entities_vs_ICD_Codes | [[Name: Intraperitoneal Mesothelioma, C45], [peritoneal mesothelioma, D20.1], [type 1 bipolar dis... \n Gender                          | F                                                                                                    \n eligibility                     | CFA                                                                                                  \n orec                            | 0                                                                                                    \n medicaid                        | false                                                                                                \n DOB                             | 1959-07-24                                                                                           \n hcc_profile                     | {0.349, [\"HCC154\",\"D1\"], {\"elig\":\"CFA\",\"age\":63,\"sex\":\"F\",\"origds\":false,\"disabled\":false,\"medica... \n risk_score                      | 0.349                                                                                                \n hcc_lst                         | [\"HCC154\",\"D1\"]                                                                                      \n parameters                      | {\"elig\":\"CFA\",\"age\":63,\"sex\":\"F\",\"origds\":false,\"disabled\":false,\"medicaid\":false}                   \n details                         | {\"\":0.0,\"CFA_HCC154\":0.349,\"CFA_D1\":0.0}                                                             \n-RECORD 4-------------------------------------------------------------------------------------------------------------------------------\n filename                        | mt_note_08.txt                                                                                       \n Age                             | 66                                                                                                   \n icd10_code                      | [J90, C45.9, J90]                                                                                    \n Extracted_Entities_vs_ICD_Codes | [[Description: Right pleural effusion, J90], [malignant mesothelioma, C45.9], [pleural effusion, ... \n Gender                          | F                                                                                                    \n eligibility                     | CND                                                                                                  \n orec                            | 1                                                                                                    \n medicaid                        | true                                                                                                 \n DOB                             | 1956-03-17                                                                                           \n hcc_profile                     | {1.989, [\"D1\",\"HCC19\"], {\"elig\":\"CND\",\"age\":66,\"sex\":\"F\",\"origds\":true,\"disabled\":false,\"medicaid... \n risk_score                      | 1.989                                                                                                \n hcc_lst                         | [\"D1\",\"HCC19\"]                                                                                       \n parameters                      | {\"elig\":\"CND\",\"age\":66,\"sex\":\"F\",\"origds\":true,\"disabled\":false,\"medicaid\":true}                     \n details                         | {\"\":0.0,\"CND_OriginallyDisabled_Female\":0.0,\"CND_HCC19\":1.989,\"CND_D1\":0.0,\"CND_LTIMCAID\":0.0}       \n-RECORD 5-------------------------------------------------------------------------------------------------------------------------------\n filename                        | mt_note_09.txt                                                                                       \n Age                             | 19                                                                                                   \n icd10_code                      | [D50.8, D57.0, O99.0, D57.02]                                                                        \n Extracted_Entities_vs_ICD_Codes | [[Name: Sickle Cell Anemia, D50.8], [sickle cell anemia, D57.0], [sickle cell, O99.0], [Sickle ce... \n Gender                          | M                                                                                                    \n eligibility                     | CPA                                                                                                  \n orec                            | 3                                                                                                    \n medicaid                        | true                                                                                                 \n DOB                             | 2003-06-11                                                                                           \n hcc_profile                     | {0.303, [\"HCC107\",\"D1\"], {\"elig\":\"CPA\",\"age\":19,\"sex\":\"M\",\"origds\":false,\"disabled\":true,\"medicai... \n risk_score                      | 0.303                                                                                                \n hcc_lst                         | [\"HCC107\",\"D1\"]                                                                                      \n parameters                      | {\"elig\":\"CPA\",\"age\":19,\"sex\":\"M\",\"origds\":false,\"disabled\":true,\"medicaid\":true}                     \n details                         | {\"\":0.0,\"CPA_LTIMCAID\":0.0,\"CPA_HCC107\":0.303,\"CPA_D1\":0.0}                                          \n-RECORD 6-------------------------------------------------------------------------------------------------------------------------------\n filename                        | mt_note_10.txt                                                                                       \n Age                             | 16                                                                                                   \n icd10_code                      | [C69.60, C69.60]                                                                                     \n Extracted_Entities_vs_ICD_Codes | [[Rhabdomyosarcoma of the left orbit, C69.60], [rhabdomyosarcoma of the left orbit, C69.60]]         \n Gender                          | M                                                                                                    \n eligibility                     | CFA                                                                                                  \n orec                            | 2                                                                                                    \n medicaid                        | false                                                                                                \n DOB                             | 2006-02-14                                                                                           \n hcc_profile                     | {0.196, [\"D1\",\"DISABLED_CANCER\",\"HCC23\"], {\"elig\":\"CFA\",\"age\":16,\"sex\":\"M\",\"origds\":false,\"disabl... \n risk_score                      | 0.196                                                                                                \n hcc_lst                         | [\"D1\",\"DISABLED_CANCER\",\"HCC23\"]                                                                     \n parameters                      | {\"elig\":\"CFA\",\"age\":16,\"sex\":\"M\",\"origds\":false,\"disabled\":true,\"medicaid\":false}                    \n details                         | {\"\":0.0,\"CFA_D1\":0.0,\"CFA_DISABLED_CANCER\":0.0,\"CFA_HCC23\":0.196}                                    \n\n"
     ]
    }
   ],
   "source": [
    "df = df.withColumn(\"hcc_profile\", medical.profileV28Y24(df.icd10_code, df.Age, df.Gender, df.eligibility, df.orec, df.medicaid))\n",
    "\n",
    "df = df.withColumn(\"hcc_profile\", F.from_json(F.col(\"hcc_profile\"), schema))\n",
    "df= df.withColumn(\"risk_score\", df.hcc_profile.getItem(\"risk_score\"))\\\n",
    "      .withColumn(\"hcc_lst\", df.hcc_profile.getItem(\"hcc_lst\"))\\\n",
    "      .withColumn(\"parameters\", df.hcc_profile.getItem(\"parameters\"))\\\n",
    "      .withColumn(\"details\", df.hcc_profile.getItem(\"details\"))\\\n",
    "\n",
    "df.select('risk_score','icd10_code', 'Age', 'Gender').show(truncate=False )\n",
    "\n",
    "df.show(truncate=100, vertical=True)"
   ]
  },
  {
   "cell_type": "markdown",
   "metadata": {
    "application/vnd.databricks.v1+cell": {
     "cellMetadata": {
      "byteLimit": 2048000,
      "rowLimit": 10000
     },
     "inputWidgets": {},
     "nuid": "ec629936-436c-45b8-a7e6-601a9f307ddc",
     "showTitle": false,
     "title": ""
    }
   },
   "source": [
    "# Using Question Answer Model"
   ]
  },
  {
   "cell_type": "code",
   "execution_count": 0,
   "metadata": {
    "application/vnd.databricks.v1+cell": {
     "cellMetadata": {
      "byteLimit": 2048000,
      "rowLimit": 10000
     },
     "inputWidgets": {},
     "nuid": "16bebe19-faeb-4e68-9242-fdb508088d61",
     "showTitle": false,
     "title": ""
    }
   },
   "outputs": [],
   "source": [
    "import pyspark.sql.functions as F"
   ]
  },
  {
   "cell_type": "code",
   "execution_count": 0,
   "metadata": {
    "application/vnd.databricks.v1+cell": {
     "cellMetadata": {
      "byteLimit": 2048000,
      "rowLimit": 10000
     },
     "inputWidgets": {},
     "nuid": "5519fba1-2c3e-4545-8aec-d1185c5b6e96",
     "showTitle": false,
     "title": ""
    }
   },
   "outputs": [],
   "source": [
    "sample_texts = [\"\"\"Medical Specialty:Hematology - Oncology\n",
    "Sample Name: Consult - Breast Cancer - 1\n",
    "Description: The patient is a 57-year-old female with invasive ductal carcinoma of the left breast, T1c, Nx, M0 left breast carcinoma.\n",
    "(Medical Transcription Sample Report)\n",
    "CHIEF COMPLAINT:  Left breast cancer.\n",
    "HISTORY: The patient is a 57-year-old female, who I initially saw in the office on 12/27/07, as a referral from the Tomball Breast Center. On 12/21/07, the patient underwent image-guided needle core biopsy of a 1.5 cm lesion at the 7 o'clock position of the left breast (inferomedial). The biopsy returned showing infiltrating ductal carcinoma high histologic grade. The patient stated that she had recently felt and her physician had felt a palpable mass in that area prior to her breast imaging. She prior to that area, denied any complaints. She had no nipple discharge. No trauma history. She has had been on no estrogen supplementation. She has had no other personal history of breast cancer. Her family history is positive for her mother having breast cancer at age 48. The patient has had no children and no pregnancies. She denies any change in the right breast. Subsequent to the office visit and tissue diagnosis of breast cancer, she has had medical oncology consultation with Dr. X and radiation oncology consultation with Dr. Y. I have discussed the case with Dr. X and Dr. Y, who are both in agreement with proceeding with surgery prior to adjuvant therapy. The patient's metastatic workup has otherwise been negative with MRI scan and CT scanning. The MRI scan showed some close involvement possibly involving the left pectoralis muscle, although thought to also possibly represent biopsy artifact. CT scan of the neck, chest, and abdomen is negative for metastatic disease. PAST MEDICAL HISTORY: Previous surgery is history of benign breast biopsy in 1972, laparotomy in 1981, 1982, and 1984, right oophorectomy in 1984, and ganglion cyst removal of the hand in 1987.\n",
    "MEDICATIONS: She is currently on omeprazole for reflux and indigestion.\n",
    "ALLERGIES: SHE HAS NO KNOWN DRUG ALLERGIES.\n",
    "REVIEW OF SYSTEMS: Negative for any recent febrile illnesses, chest pains or shortness of breath. Positive for restless leg syndrome. Negative for any unexplained weight loss and no change in bowel or bladder habits.\n",
    "FAMILY HISTORY: Positive for breast cancer in her mother and also mesothelioma from possible asbestosis or asbestos exposure.\n",
    "SOCIAL HISTORY: The patient works as a school teacher and teaching high school.\n",
    "PHYSICAL EXAMINATION: GENERAL: The patient is a white female, alert and oriented x 3, appears her stated age of 57.\n",
    "HEENT: Head is atraumatic and normocephalic. Sclerae are anicteric. NECK: Supple.\n",
    "CHEST: Clear. HEART: Regular rate and rhythm. BREASTS: Exam reveals an approximately 1.5 cm relatively mobile focal palpable mass in the inferomedial left breast at the 7 o'clock position, which clinically is not fixed to the underlying pectoralis muscle. There are no nipple retractions. No skin dimpling. There is some, at the time of the office visit, ecchymosis from recent biopsy. There is no axillary adenopathy. The remainder of the left breast is without abnormality. The right breast is without abnormality. The axillary areas are negative for adenopathy bilaterally. ABDOMEN: Soft, nontender without masses. No gross organomegaly. No CVA or flank tenderness. EXTREMITIES: Grossly neurovascularly intact.\n",
    "IMPRESSION:  The patient is a 57-year-old female with invasive ductal carcinoma of the left breast, T1c, Nx, M0 left breast carcinoma.\n",
    "RECOMMENDATIONS:  I have discussed with the patient in detail about the diagnosis of breast cancer and the surgical options, and medical oncologist has discussed with her issues about adjuvant or neoadjuvant chemotherapy. We have decided to recommend to the patient breast conservation surgery with left breast lumpectomy with preoperative sentinel lymph node injection and mapping and left axillary dissection. The possibility of further surgery requiring wider lumpectomy or even completion mastectomy was explained to the patient. The procedure and risks of the surgery were explained to include, but not limited to extra bleeding, infection, unsightly scar formation, the possibility of local recurrence, the possibility of left upper extremity lymphedema was explained. Local numbness, paresthesias or chronic pain was explained. The patient was given an educational brochure and several brochures about the diagnosis and treatment of breast cancers. She was certainly encouraged to obtain further surgical medical opinions prior to proceeding. I believe the patient has given full informed consent and desires to proceed with the above.\n",
    "\"\"\"]\n",
    "\n"
   ]
  },
  {
   "cell_type": "code",
   "execution_count": 0,
   "metadata": {
    "application/vnd.databricks.v1+cell": {
     "cellMetadata": {
      "byteLimit": 2048000,
      "rowLimit": 10000
     },
     "inputWidgets": {},
     "nuid": "4e912490-0c39-403d-b0dc-0c2535f34d48",
     "showTitle": false,
     "title": ""
    }
   },
   "outputs": [],
   "source": [
    "new_text = []\n",
    "questions = {0: [\"What is the patient's age?\"],\n",
    "             1: [\"What is the patient's gender?\"],\n",
    "             2: [\"What is the patient's diagnosis?\"],\n",
    "}\n",
    "\n",
    "for i in range(3):\n",
    "        for x in questions[i]:\n",
    "            new_text.append([x, sample_texts[0]])\n",
    "\n",
    "example = spark.createDataFrame(new_text).toDF(\"question\", \"context\")\n"
   ]
  },
  {
   "cell_type": "code",
   "execution_count": 0,
   "metadata": {
    "application/vnd.databricks.v1+cell": {
     "cellMetadata": {
      "byteLimit": 2048000,
      "rowLimit": 10000
     },
     "inputWidgets": {},
     "nuid": "e1519fe3-2c1e-4916-8fd1-1c3b4cc27e8d",
     "showTitle": false,
     "title": ""
    }
   },
   "outputs": [
    {
     "output_type": "stream",
     "name": "stdout",
     "output_type": "stream",
     "text": [
      "clinical_notes_qa_base download started this may take some time.\n\r[ | ]\r[ / ]\r[ — ]\r[ \\ ]\r[ | ]\r[ / ]\r[ — ]\r[ \\ ]\r[ | ]\r[ / ]\r[ — ]\r[ \\ ]\r[ | ]\r[ / ]\r[ — ]\r[ \\ ]\r[ | ]\r[ / ]\r[ — ]\r[ \\ ]\r[ | ]\r[ / ]\r[ — ]\r[ \\ ]\r[ | ]\r[ / ]\r[ — ]\r[ \\ ]\r[ | ]\r[ / ]\r[ — ]\r[ \\ ]\r[ | ]\r[ / ]\r[ — ]\r[ \\ ]\r[ | ]\r[ / ]\r[ — ]\r[ \\ ]\r[ | ]\r[ / ]\r[ — ]\r[ \\ ]\r[ | ]\r[ / ]\r[ — ]\r[ \\ ]\r[OK!]\n"
     ]
    }
   ],
   "source": [
    "document_assembler = nlp.MultiDocumentAssembler()\\\n",
    "    .setInputCols(\"question\", \"context\")\\\n",
    "    .setOutputCols(\"document_question\", \"document_context\")\n",
    "\n",
    "med_qa  = medical.QuestionAnswering()\\\n",
    "    .pretrained(\"clinical_notes_qa_base\", \"en\", \"clinical/models\")\\\n",
    "    .setInputCols([\"document_question\", \"document_context\"])\\\n",
    "    .setCustomPrompt(\"Context: {context} \\n Question: {question} \\n Answer: \")\\\n",
    "    .setOutputCol(\"answer\")\\\n",
    "\n",
    "pipeline = nlp.Pipeline(stages=[document_assembler, med_qa])\n",
    "\n",
    "\n",
    "result = pipeline.fit(example).transform(example)"
   ]
  },
  {
   "cell_type": "code",
   "execution_count": 0,
   "metadata": {
    "application/vnd.databricks.v1+cell": {
     "cellMetadata": {
      "byteLimit": 2048000,
      "rowLimit": 10000
     },
     "inputWidgets": {},
     "nuid": "418a69a5-cc7b-4f34-a3a1-de56f287b9d1",
     "showTitle": false,
     "title": ""
    }
   },
   "outputs": [
    {
     "output_type": "stream",
     "name": "stdout",
     "output_type": "stream",
     "text": [
      "+----------------------------------+------------------------------------------------------------------------------------------------+--------+\n|Question                          |Answer                                                                                          |filename|\n+----------------------------------+------------------------------------------------------------------------------------------------+--------+\n|[What is the patient's age?]      |The patient is 57 years old.                                                                    |text_01 |\n|[What is the patient's gender?]   |The patient is a white female.                                                                  |text_01 |\n|[What is the patient's diagnosis?]|The patient has invasive ductal carcinoma of the left breast, T1c, Nx, M0 left breast carcinoma.|text_01 |\n+----------------------------------+------------------------------------------------------------------------------------------------+--------+\n\n"
     ]
    }
   ],
   "source": [
    "df = result.selectExpr(\"document_question.result as Question\", \"answer.result as Answer\")\n",
    "\n",
    "#Convert array answers to string\n",
    "df = df.withColumn(\"Answer\", F.concat_ws(\" \", df[\"Answer\"]))\n",
    "\n",
    "#Create a new common column to combine the df's we will obtain in the future in a common column\n",
    "df = df.withColumn(\"filename\", F.lit(\"text_01\"))## açıklama yap\n",
    "\n",
    "df.show(truncate=False)"
   ]
  },
  {
   "cell_type": "code",
   "execution_count": 0,
   "metadata": {
    "application/vnd.databricks.v1+cell": {
     "cellMetadata": {
      "byteLimit": 2048000,
      "rowLimit": 10000
     },
     "inputWidgets": {},
     "nuid": "8178e870-0d90-4d41-9ef3-5c958ac063da",
     "showTitle": false,
     "title": ""
    }
   },
   "outputs": [
    {
     "output_type": "stream",
     "name": "stdout",
     "output_type": "stream",
     "text": [
      "sentence_detector_dl download started this may take some time.\nApproximate size to download 354.6 KB\n\r[ | ]\r[OK!]\nembeddings_clinical download started this may take some time.\nApproximate size to download 1.6 GB\n\r[ | ]\r[OK!]\nner_jsl download started this may take some time.\n\r[ | ]\r[OK!]\nsbiobert_base_cased_mli download started this may take some time.\nApproximate size to download 384.3 MB\n\r[ | ]\r[OK!]\nsbiobertresolve_icd10cm_augmented_billable_hcc download started this may take some time.\n\r[ | ]\r[OK!]\n"
     ]
    }
   ],
   "source": [
    "documentAssembler = nlp.DocumentAssembler()\\\n",
    "      .setInputCol(\"Answer\")\\\n",
    "      .setOutputCol(\"document\")\n",
    "\n",
    "sentenceDetector = nlp.SentenceDetectorDLModel.pretrained()\\\n",
    "      .setInputCols([\"document\"])\\\n",
    "      .setOutputCol(\"sentence\")\n",
    "\n",
    "tokenizer = nlp.Tokenizer()\\\n",
    "      .setInputCols([\"sentence\"])\\\n",
    "      .setOutputCol(\"token\")\\\n",
    "\n",
    "word_embeddings = nlp.WordEmbeddingsModel.pretrained(\"embeddings_clinical\", \"en\", \"clinical/models\")\\\n",
    "      .setInputCols([\"sentence\", \"token\"])\\\n",
    "      .setOutputCol(\"embeddings\")\n",
    "\n",
    "c2doc = nlp.Chunk2Doc()\\\n",
    "      .setInputCols(\"ner_chunk\")\\\n",
    "      .setOutputCol(\"ner_chunk_doc\")\n",
    "\n",
    "clinical_ner = medical.NerModel.pretrained(\"ner_jsl\", \"en\", \"clinical/models\") \\\n",
    "      .setInputCols([\"sentence\", \"token\", \"embeddings\"]) \\\n",
    "      .setOutputCol(\"ner\")\n",
    "\n",
    "ner_converter = medical.NerConverterInternal() \\\n",
    "      .setInputCols([\"sentence\", \"token\", \"ner\"]) \\\n",
    "      .setOutputCol(\"ner_chunk\")\\\n",
    "      .setWhiteList([\"Oncological\", \"Disease_Syndrome_Disorder\", \"Heart_Disease\"])\n",
    "\n",
    "sbert_embedder = nlp.BertSentenceEmbeddings\\\n",
    "      .pretrained(\"sbiobert_base_cased_mli\",'en','clinical/models')\\\n",
    "      .setInputCols([\"ner_chunk_doc\"])\\\n",
    "      .setOutputCol(\"sbert_embeddings\")\n",
    "\n",
    "icd10_resolver = medical.SentenceEntityResolverModel.pretrained(\"sbiobertresolve_icd10cm_augmented_billable_hcc\",\"en\", \"clinical/models\")\\\n",
    "    .setInputCols([\"sbert_embeddings\"])\\\n",
    "    .setOutputCol(\"icd10cm_code\")\\\n",
    "    .setDistanceFunction(\"EUCLIDEAN\")\\\n",
    "    .setReturnCosineDistances(True)\n",
    "\n",
    "resolver_pipeline = nlp.Pipeline(\n",
    "    stages = [\n",
    "        documentAssembler,\n",
    "        sentenceDetector,\n",
    "        tokenizer,\n",
    "        word_embeddings,\n",
    "        clinical_ner,\n",
    "        ner_converter,\n",
    "        c2doc,\n",
    "        sbert_embedder,\n",
    "        icd10_resolver\n",
    "    ])\n",
    "\n",
    "data_ner = spark.createDataFrame([[\"\"]]).toDF(\"Answer\")\n",
    "\n",
    "icd_model = resolver_pipeline.fit(data_ner)"
   ]
  },
  {
   "cell_type": "code",
   "execution_count": 0,
   "metadata": {
    "application/vnd.databricks.v1+cell": {
     "cellMetadata": {
      "byteLimit": 2048000,
      "rowLimit": 10000
     },
     "inputWidgets": {},
     "nuid": "2ec976f0-bfe7-483e-9fc6-a644027292a2",
     "showTitle": false,
     "title": ""
    }
   },
   "outputs": [],
   "source": [
    "icd10_sdf = icd_model.transform(df)"
   ]
  },
  {
   "cell_type": "code",
   "execution_count": 0,
   "metadata": {
    "application/vnd.databricks.v1+cell": {
     "cellMetadata": {
      "byteLimit": 2048000,
      "rowLimit": 10000
     },
     "inputWidgets": {},
     "nuid": "a9c2c285-9b62-45f8-a94d-2b9059d80bb1",
     "showTitle": false,
     "title": ""
    }
   },
   "outputs": [
    {
     "output_type": "display_data",
     "data": {
      "text/html": [
       "<div>\n",
       "<style scoped>\n",
       "    .dataframe tbody tr th:only-of-type {\n",
       "        vertical-align: middle;\n",
       "    }\n",
       "\n",
       "    .dataframe tbody tr th {\n",
       "        vertical-align: top;\n",
       "    }\n",
       "\n",
       "    .dataframe thead th {\n",
       "        text-align: right;\n",
       "    }\n",
       "</style>\n",
       "<table border=\"1\" class=\"dataframe\">\n",
       "  <thead>\n",
       "    <tr style=\"text-align: right;\">\n",
       "      <th></th>\n",
       "      <th>filename</th>\n",
       "      <th>chunk</th>\n",
       "      <th>icd10_code</th>\n",
       "      <th>entity</th>\n",
       "    </tr>\n",
       "  </thead>\n",
       "  <tbody>\n",
       "    <tr>\n",
       "      <th>0</th>\n",
       "      <td>text_01</td>\n",
       "      <td>ductal carcinoma of the left breast</td>\n",
       "      <td>C50.91</td>\n",
       "      <td>Oncological</td>\n",
       "    </tr>\n",
       "    <tr>\n",
       "      <th>1</th>\n",
       "      <td>text_01</td>\n",
       "      <td>breast carcinoma</td>\n",
       "      <td>C50.9</td>\n",
       "      <td>Oncological</td>\n",
       "    </tr>\n",
       "  </tbody>\n",
       "</table>\n",
       "</div>"
      ]
     },
     "metadata": {
      "application/vnd.databricks.v1+output": {
       "addedWidgets": {},
       "arguments": {},
       "data": "<div>\n<style scoped>\n    .dataframe tbody tr th:only-of-type {\n        vertical-align: middle;\n    }\n\n    .dataframe tbody tr th {\n        vertical-align: top;\n    }\n\n    .dataframe thead th {\n        text-align: right;\n    }\n</style>\n<table border=\"1\" class=\"dataframe\">\n  <thead>\n    <tr style=\"text-align: right;\">\n      <th></th>\n      <th>filename</th>\n      <th>chunk</th>\n      <th>icd10_code</th>\n      <th>entity</th>\n    </tr>\n  </thead>\n  <tbody>\n    <tr>\n      <th>0</th>\n      <td>text_01</td>\n      <td>ductal carcinoma of the left breast</td>\n      <td>C50.91</td>\n      <td>Oncological</td>\n    </tr>\n    <tr>\n      <th>1</th>\n      <td>text_01</td>\n      <td>breast carcinoma</td>\n      <td>C50.9</td>\n      <td>Oncological</td>\n    </tr>\n  </tbody>\n</table>\n</div>",
       "datasetInfos": [],
       "metadata": {},
       "removedWidgets": [],
       "textData": null,
       "type": "htmlSandbox"
      }
     },
     "output_type": "display_data"
    }
   ],
   "source": [
    "icd10_df = icd10_sdf.select(\"filename\",F.explode(F.arrays_zip(icd10_sdf.ner_chunk.result,\n",
    "                                                   icd10_sdf.icd10cm_code.result,\n",
    "                                                   icd10_sdf.ner_chunk.metadata,\n",
    "\n",
    "                                                    )).alias(\"cols\")) \\\n",
    "                            .select(\"filename\",F.expr(\"cols['0']\").alias(\"chunk\"),\n",
    "                                    F.expr(\"cols['1']\").alias(\"icd10_code\"),\n",
    "                                    F.expr(\"cols['2']['entity']\").alias(\"entity\"),\n",
    "                                                     ).toPandas()\n",
    "\n",
    "icd10_df.head()"
   ]
  },
  {
   "cell_type": "code",
   "execution_count": 0,
   "metadata": {
    "application/vnd.databricks.v1+cell": {
     "cellMetadata": {
      "byteLimit": 2048000,
      "rowLimit": 10000
     },
     "inputWidgets": {},
     "nuid": "27de00a3-d4c5-4709-b276-351e2aa0fe01",
     "showTitle": false,
     "title": ""
    }
   },
   "outputs": [],
   "source": [
    "icd10_df['Extracted_Entities_vs_ICD_Codes'] = list(zip(icd10_df.chunk, icd10_df.icd10_code))"
   ]
  },
  {
   "cell_type": "code",
   "execution_count": 0,
   "metadata": {
    "application/vnd.databricks.v1+cell": {
     "cellMetadata": {
      "byteLimit": 2048000,
      "rowLimit": 10000
     },
     "inputWidgets": {},
     "nuid": "d5a1ffa9-5477-48ec-8342-e519e6c6f8ab",
     "showTitle": false,
     "title": ""
    }
   },
   "outputs": [
    {
     "output_type": "display_data",
     "data": {
      "text/html": [
       "<div>\n",
       "<style scoped>\n",
       "    .dataframe tbody tr th:only-of-type {\n",
       "        vertical-align: middle;\n",
       "    }\n",
       "\n",
       "    .dataframe tbody tr th {\n",
       "        vertical-align: top;\n",
       "    }\n",
       "\n",
       "    .dataframe thead th {\n",
       "        text-align: right;\n",
       "    }\n",
       "</style>\n",
       "<table border=\"1\" class=\"dataframe\">\n",
       "  <thead>\n",
       "    <tr style=\"text-align: right;\">\n",
       "      <th></th>\n",
       "      <th>filename</th>\n",
       "      <th>icd10_code</th>\n",
       "      <th>Extracted_Entities_vs_ICD_Codes</th>\n",
       "    </tr>\n",
       "  </thead>\n",
       "  <tbody>\n",
       "    <tr>\n",
       "      <th>0</th>\n",
       "      <td>text_01</td>\n",
       "      <td>[C50.91, C50.9]</td>\n",
       "      <td>[(ductal carcinoma of the left breast, C50.91), (breast carcinoma, C50.9)]</td>\n",
       "    </tr>\n",
       "  </tbody>\n",
       "</table>\n",
       "</div>"
      ]
     },
     "metadata": {
      "application/vnd.databricks.v1+output": {
       "addedWidgets": {},
       "arguments": {},
       "data": "<div>\n<style scoped>\n    .dataframe tbody tr th:only-of-type {\n        vertical-align: middle;\n    }\n\n    .dataframe tbody tr th {\n        vertical-align: top;\n    }\n\n    .dataframe thead th {\n        text-align: right;\n    }\n</style>\n<table border=\"1\" class=\"dataframe\">\n  <thead>\n    <tr style=\"text-align: right;\">\n      <th></th>\n      <th>filename</th>\n      <th>icd10_code</th>\n      <th>Extracted_Entities_vs_ICD_Codes</th>\n    </tr>\n  </thead>\n  <tbody>\n    <tr>\n      <th>0</th>\n      <td>text_01</td>\n      <td>[C50.91, C50.9]</td>\n      <td>[(ductal carcinoma of the left breast, C50.91), (breast carcinoma, C50.9)]</td>\n    </tr>\n  </tbody>\n</table>\n</div>",
       "datasetInfos": [],
       "metadata": {},
       "removedWidgets": [],
       "textData": null,
       "type": "htmlSandbox"
      }
     },
     "output_type": "display_data"
    }
   ],
   "source": [
    "icd10_codes= icd10_df.groupby(\"filename\").icd10_code.apply(lambda x: list(x)).reset_index()\n",
    "icd10_vs_entities = icd10_df.groupby(\"filename\").Extracted_Entities_vs_ICD_Codes.apply(lambda x: list(x)).reset_index()\n",
    "\n",
    "icd10_df_all = icd10_codes.merge(icd10_vs_entities)\n",
    "\n",
    "icd10_df_all"
   ]
  },
  {
   "cell_type": "markdown",
   "metadata": {
    "application/vnd.databricks.v1+cell": {
     "cellMetadata": {
      "byteLimit": 2048000,
      "rowLimit": 10000
     },
     "inputWidgets": {},
     "nuid": "8eae5e30-7617-4124-8e94-5840466a290e",
     "showTitle": false,
     "title": ""
    }
   },
   "source": [
    "## Gender Classification\n",
    "\n",
    "In Spark NLP, we have a pretrained model to detect gender of patient. Let's use it by `ClassifierDLModel`"
   ]
  },
  {
   "cell_type": "code",
   "execution_count": 0,
   "metadata": {
    "application/vnd.databricks.v1+cell": {
     "cellMetadata": {
      "byteLimit": 2048000,
      "rowLimit": 10000
     },
     "inputWidgets": {},
     "nuid": "4f001c97-71cd-4ed8-8c1f-01461a60c47d",
     "showTitle": false,
     "title": ""
    }
   },
   "outputs": [
    {
     "output_type": "stream",
     "name": "stdout",
     "output_type": "stream",
     "text": [
      "biobert_pubmed_base_cased download started this may take some time.\nApproximate size to download 386.4 MB\n\r[ | ]\r[OK!]\nclassifierdl_gender_biobert download started this may take some time.\nApproximate size to download 21 MB\n\r[ | ]\r[OK!]\n"
     ]
    }
   ],
   "source": [
    "documentAssembler = nlp.DocumentAssembler()\\\n",
    "      .setInputCol(\"Answer\")\\\n",
    "      .setOutputCol(\"document\")\n",
    "\n",
    "tokenizer = nlp.Tokenizer()\\\n",
    "      .setInputCols([\"document\"])\\\n",
    "      .setOutputCol(\"token\")\\\n",
    "\n",
    "biobert_embeddings = nlp.BertEmbeddings().pretrained('biobert_pubmed_base_cased') \\\n",
    "        .setInputCols([\"document\",'token'])\\\n",
    "        .setOutputCol(\"bert_embeddings\")\n",
    "\n",
    "sentence_embeddings = nlp.SentenceEmbeddings() \\\n",
    "     .setInputCols([\"document\", \"bert_embeddings\"]) \\\n",
    "     .setOutputCol(\"sentence_bert_embeddings\") \\\n",
    "     .setPoolingStrategy(\"AVERAGE\")\n",
    "\n",
    "genderClassifier = nlp.ClassifierDLModel.pretrained('classifierdl_gender_biobert', 'en', 'clinical/models') \\\n",
    "       .setInputCols([\"sentence_bert_embeddings\"]) \\\n",
    "       .setOutputCol(\"gender\")\n",
    "\n",
    "gender_pipeline = nlp.Pipeline(stages=[documentAssembler,\n",
    "                                   #sentenceDetector,\n",
    "                                   tokenizer,\n",
    "                                   biobert_embeddings,\n",
    "                                   sentence_embeddings,\n",
    "                                   genderClassifier])\n",
    "\n",
    "data_ner = spark.createDataFrame([[\"\"]]).toDF(\"Answer\")\n",
    "\n",
    "gender_model = gender_pipeline.fit(data_ner)"
   ]
  },
  {
   "cell_type": "code",
   "execution_count": 0,
   "metadata": {
    "application/vnd.databricks.v1+cell": {
     "cellMetadata": {
      "byteLimit": 2048000,
      "rowLimit": 10000
     },
     "inputWidgets": {},
     "nuid": "a29d3ab0-be66-4647-bf51-6872429b65b6",
     "showTitle": false,
     "title": ""
    }
   },
   "outputs": [
    {
     "output_type": "stream",
     "name": "stdout",
     "output_type": "stream",
     "text": [
      "+--------+------------------------------------------------------------------------------------------------------------------------------------------------------------+\n|filename|Answer                                                                                                                                                      |\n+--------+------------------------------------------------------------------------------------------------------------------------------------------------------------+\n|text_01 |The patient is 57 years old. The patient has invasive ductal carcinoma of the left breast, T1c, Nx, M0 left breast carcinoma. The patient is a white female.|\n+--------+------------------------------------------------------------------------------------------------------------------------------------------------------------+\n\n"
     ]
    }
   ],
   "source": [
    "# answers converted to a single text\n",
    "concatenated_text_df = df.groupBy(\"filename\").agg(F.concat_ws(\" \", F.collect_list(\"Answer\")).alias(\"Answer\"))\n",
    "\n",
    "concatenated_text_df.show(truncate=False)"
   ]
  },
  {
   "cell_type": "code",
   "execution_count": 0,
   "metadata": {
    "application/vnd.databricks.v1+cell": {
     "cellMetadata": {
      "byteLimit": 2048000,
      "rowLimit": 10000
     },
     "inputWidgets": {},
     "nuid": "f06abcd5-3551-4520-a909-ba6ab4468527",
     "showTitle": false,
     "title": ""
    }
   },
   "outputs": [],
   "source": [
    "gender_df = gender_model.transform(concatenated_text_df)\n",
    "\n",
    "gender_pd_df = gender_df.select(\"filename\", F.explode(F.arrays_zip(gender_df.gender.result,\n",
    "                                                                   gender_df.gender.metadata)).alias(\"cols\")) \\\n",
    "                       .select(\"filename\",F.expr(\"cols['0']\").alias(\"Gender\"),\n",
    "                               F.expr(\"cols['1']['Female']\").alias(\"Female\"),\n",
    "                               F.expr(\"cols['1']['Male']\").alias(\"Male\")).toPandas()\n",
    "\n",
    "gender_pd_df['Gender'] = gender_pd_df.apply(lambda x : \"F\" if float(x['Female']) >= float(x['Male']) else \"M\", axis=1)\n",
    "\n",
    "gender_pd_df = gender_pd_df[['filename', 'Gender']]"
   ]
  },
  {
   "cell_type": "code",
   "execution_count": 0,
   "metadata": {
    "application/vnd.databricks.v1+cell": {
     "cellMetadata": {
      "byteLimit": 2048000,
      "rowLimit": 10000
     },
     "inputWidgets": {},
     "nuid": "046d2a63-9c4b-4633-b30b-4108dd3e825a",
     "showTitle": false,
     "title": ""
    }
   },
   "outputs": [
    {
     "output_type": "display_data",
     "data": {
      "text/html": [
       "<div>\n",
       "<style scoped>\n",
       "    .dataframe tbody tr th:only-of-type {\n",
       "        vertical-align: middle;\n",
       "    }\n",
       "\n",
       "    .dataframe tbody tr th {\n",
       "        vertical-align: top;\n",
       "    }\n",
       "\n",
       "    .dataframe thead th {\n",
       "        text-align: right;\n",
       "    }\n",
       "</style>\n",
       "<table border=\"1\" class=\"dataframe\">\n",
       "  <thead>\n",
       "    <tr style=\"text-align: right;\">\n",
       "      <th></th>\n",
       "      <th>filename</th>\n",
       "      <th>Gender</th>\n",
       "    </tr>\n",
       "  </thead>\n",
       "  <tbody>\n",
       "    <tr>\n",
       "      <th>0</th>\n",
       "      <td>text_01</td>\n",
       "      <td>F</td>\n",
       "    </tr>\n",
       "  </tbody>\n",
       "</table>\n",
       "</div>"
      ]
     },
     "metadata": {
      "application/vnd.databricks.v1+output": {
       "addedWidgets": {},
       "arguments": {},
       "data": "<div>\n<style scoped>\n    .dataframe tbody tr th:only-of-type {\n        vertical-align: middle;\n    }\n\n    .dataframe tbody tr th {\n        vertical-align: top;\n    }\n\n    .dataframe thead th {\n        text-align: right;\n    }\n</style>\n<table border=\"1\" class=\"dataframe\">\n  <thead>\n    <tr style=\"text-align: right;\">\n      <th></th>\n      <th>filename</th>\n      <th>Gender</th>\n    </tr>\n  </thead>\n  <tbody>\n    <tr>\n      <th>0</th>\n      <td>text_01</td>\n      <td>F</td>\n    </tr>\n  </tbody>\n</table>\n</div>",
       "datasetInfos": [],
       "metadata": {},
       "removedWidgets": [],
       "textData": null,
       "type": "htmlSandbox"
      }
     },
     "output_type": "display_data"
    }
   ],
   "source": [
    "gender_pd_df"
   ]
  },
  {
   "cell_type": "markdown",
   "metadata": {
    "application/vnd.databricks.v1+cell": {
     "cellMetadata": {
      "byteLimit": 2048000,
      "rowLimit": 10000
     },
     "inputWidgets": {},
     "nuid": "411d3247-1291-4db3-9c5b-d33258343696",
     "showTitle": false,
     "title": ""
    }
   },
   "source": [
    "## Age\n",
    "We can get patient's age forom the notes by another pipeline. We are creating an age pipeline to get AGE labelled entities. In a note, more than one age entity can be extracted. We will get the first age entity as patient's age."
   ]
  },
  {
   "cell_type": "code",
   "execution_count": 0,
   "metadata": {
    "application/vnd.databricks.v1+cell": {
     "cellMetadata": {
      "byteLimit": 2048000,
      "rowLimit": 10000
     },
     "inputWidgets": {},
     "nuid": "0ccbdd0d-81f6-44fd-9c8f-2806b1e9727f",
     "showTitle": false,
     "title": ""
    }
   },
   "outputs": [
    {
     "output_type": "stream",
     "name": "stdout",
     "output_type": "stream",
     "text": [
      "sentence_detector_dl download started this may take some time.\nApproximate size to download 354.6 KB\n\r[ | ]\r[OK!]\nembeddings_clinical download started this may take some time.\nApproximate size to download 1.6 GB\n\r[ | ]\r[OK!]\nner_jsl_enriched download started this may take some time.\n\r[ | ]\r[OK!]\n"
     ]
    }
   ],
   "source": [
    "documentAssembler = nlp.DocumentAssembler()\\\n",
    "      .setInputCol(\"Answer\")\\\n",
    "      .setOutputCol(\"document\")\n",
    "\n",
    "sentenceDetector = nlp.SentenceDetectorDLModel.pretrained()\\\n",
    "      .setInputCols([\"document\"])\\\n",
    "      .setOutputCol(\"sentence\")\n",
    "\n",
    "tokenizer = nlp.Tokenizer()\\\n",
    "      .setInputCols([\"sentence\"])\\\n",
    "      .setOutputCol(\"token\")\\\n",
    "\n",
    "word_embeddings = nlp.WordEmbeddingsModel.pretrained(\"embeddings_clinical\", \"en\", \"clinical/models\")\\\n",
    "      .setInputCols([\"sentence\", \"token\"])\\\n",
    "      .setOutputCol(\"embeddings\")\n",
    "\n",
    "clinical_ner = medical.NerModel.pretrained(\"ner_jsl_enriched\", \"en\", \"clinical/models\") \\\n",
    "      .setInputCols([\"sentence\", \"token\", \"embeddings\"]) \\\n",
    "      .setOutputCol(\"ner\")\n",
    "\n",
    "date_ner_converter = medical.NerConverterInternal() \\\n",
    "      .setInputCols([\"sentence\", \"token\", \"ner\"]) \\\n",
    "      .setOutputCol(\"ner_chunk\")\\\n",
    "      .setWhiteList([\"Age\"])\n",
    "\n",
    "age_pipeline = nlp.Pipeline(\n",
    "    stages = [\n",
    "        documentAssembler,\n",
    "        sentenceDetector,\n",
    "        tokenizer,\n",
    "        word_embeddings,\n",
    "        clinical_ner,\n",
    "        date_ner_converter\n",
    "    ])\n",
    "\n",
    "data_ner = spark.createDataFrame([[\"\"]]).toDF(\"Answer\")\n",
    "\n",
    "age_model = age_pipeline.fit(data_ner)"
   ]
  },
  {
   "cell_type": "code",
   "execution_count": 0,
   "metadata": {
    "application/vnd.databricks.v1+cell": {
     "cellMetadata": {
      "byteLimit": 2048000,
      "rowLimit": 10000
     },
     "inputWidgets": {},
     "nuid": "bc8c1b75-48a6-4f03-852f-3c91a40c33e0",
     "showTitle": false,
     "title": ""
    }
   },
   "outputs": [],
   "source": [
    "age_result = age_model.transform(concatenated_text_df)\n",
    "\n",
    "age_df = age_result.select(\"filename\",F.explode(F.arrays_zip(age_result.ner_chunk.result,\n",
    "                                                             age_result.ner_chunk.metadata)).alias(\"cols\")) \\\n",
    "                   .select(\"filename\",F.expr(\"cols['0']\").alias(\"Age\"),\n",
    "                           F.expr(\"cols['1']['entity']\").alias(\"ner_label\")).toPandas()"
   ]
  },
  {
   "cell_type": "code",
   "execution_count": 0,
   "metadata": {
    "application/vnd.databricks.v1+cell": {
     "cellMetadata": {
      "byteLimit": 2048000,
      "rowLimit": 10000
     },
     "inputWidgets": {},
     "nuid": "ac6442ff-d522-480f-8a7f-3a5fd9ad5554",
     "showTitle": false,
     "title": ""
    }
   },
   "outputs": [
    {
     "output_type": "display_data",
     "data": {
      "text/html": [
       "<div>\n",
       "<style scoped>\n",
       "    .dataframe tbody tr th:only-of-type {\n",
       "        vertical-align: middle;\n",
       "    }\n",
       "\n",
       "    .dataframe tbody tr th {\n",
       "        vertical-align: top;\n",
       "    }\n",
       "\n",
       "    .dataframe thead th {\n",
       "        text-align: right;\n",
       "    }\n",
       "</style>\n",
       "<table border=\"1\" class=\"dataframe\">\n",
       "  <thead>\n",
       "    <tr style=\"text-align: right;\">\n",
       "      <th></th>\n",
       "      <th>filename</th>\n",
       "      <th>Age</th>\n",
       "      <th>ner_label</th>\n",
       "    </tr>\n",
       "  </thead>\n",
       "  <tbody>\n",
       "    <tr>\n",
       "      <th>0</th>\n",
       "      <td>text_01</td>\n",
       "      <td>57 years old</td>\n",
       "      <td>Age</td>\n",
       "    </tr>\n",
       "  </tbody>\n",
       "</table>\n",
       "</div>"
      ]
     },
     "metadata": {
      "application/vnd.databricks.v1+output": {
       "addedWidgets": {},
       "arguments": {},
       "data": "<div>\n<style scoped>\n    .dataframe tbody tr th:only-of-type {\n        vertical-align: middle;\n    }\n\n    .dataframe tbody tr th {\n        vertical-align: top;\n    }\n\n    .dataframe thead th {\n        text-align: right;\n    }\n</style>\n<table border=\"1\" class=\"dataframe\">\n  <thead>\n    <tr style=\"text-align: right;\">\n      <th></th>\n      <th>filename</th>\n      <th>Age</th>\n      <th>ner_label</th>\n    </tr>\n  </thead>\n  <tbody>\n    <tr>\n      <th>0</th>\n      <td>text_01</td>\n      <td>57 years old</td>\n      <td>Age</td>\n    </tr>\n  </tbody>\n</table>\n</div>",
       "datasetInfos": [],
       "metadata": {},
       "removedWidgets": [],
       "textData": null,
       "type": "htmlSandbox"
      }
     },
     "output_type": "display_data"
    }
   ],
   "source": [
    "age_df"
   ]
  },
  {
   "cell_type": "code",
   "execution_count": 0,
   "metadata": {
    "application/vnd.databricks.v1+cell": {
     "cellMetadata": {
      "byteLimit": 2048000,
      "rowLimit": 10000
     },
     "inputWidgets": {},
     "nuid": "3d25f90a-eba2-40a0-84a3-f883e47bef6e",
     "showTitle": false,
     "title": ""
    }
   },
   "outputs": [
    {
     "output_type": "display_data",
     "data": {
      "text/html": [
       "<div>\n",
       "<style scoped>\n",
       "    .dataframe tbody tr th:only-of-type {\n",
       "        vertical-align: middle;\n",
       "    }\n",
       "\n",
       "    .dataframe tbody tr th {\n",
       "        vertical-align: top;\n",
       "    }\n",
       "\n",
       "    .dataframe thead th {\n",
       "        text-align: right;\n",
       "    }\n",
       "</style>\n",
       "<table border=\"1\" class=\"dataframe\">\n",
       "  <thead>\n",
       "    <tr style=\"text-align: right;\">\n",
       "      <th></th>\n",
       "      <th>filename</th>\n",
       "      <th>Age</th>\n",
       "    </tr>\n",
       "  </thead>\n",
       "  <tbody>\n",
       "    <tr>\n",
       "      <th>0</th>\n",
       "      <td>text_01</td>\n",
       "      <td>57</td>\n",
       "    </tr>\n",
       "  </tbody>\n",
       "</table>\n",
       "</div>"
      ]
     },
     "metadata": {
      "application/vnd.databricks.v1+output": {
       "addedWidgets": {},
       "arguments": {},
       "data": "<div>\n<style scoped>\n    .dataframe tbody tr th:only-of-type {\n        vertical-align: middle;\n    }\n\n    .dataframe tbody tr th {\n        vertical-align: top;\n    }\n\n    .dataframe thead th {\n        text-align: right;\n    }\n</style>\n<table border=\"1\" class=\"dataframe\">\n  <thead>\n    <tr style=\"text-align: right;\">\n      <th></th>\n      <th>filename</th>\n      <th>Age</th>\n    </tr>\n  </thead>\n  <tbody>\n    <tr>\n      <th>0</th>\n      <td>text_01</td>\n      <td>57</td>\n    </tr>\n  </tbody>\n</table>\n</div>",
       "datasetInfos": [],
       "metadata": {},
       "removedWidgets": [],
       "textData": null,
       "type": "htmlSandbox"
      }
     },
     "output_type": "display_data"
    }
   ],
   "source": [
    "age_df.Age = age_df.Age.replace(r\"\\D\", \"\", regex = True).astype(int)\n",
    "age_df.drop('ner_label', axis=1, inplace=True)\n",
    "age_df.head()"
   ]
  },
  {
   "cell_type": "markdown",
   "metadata": {
    "application/vnd.databricks.v1+cell": {
     "cellMetadata": {
      "byteLimit": 2048000,
      "rowLimit": 10000
     },
     "inputWidgets": {},
     "nuid": "e7e0ceaa-19de-4d86-a56b-124a1ae5a830",
     "showTitle": false,
     "title": ""
    }
   },
   "source": [
    "## Calculating Medicare Risk Adjusment Score\n",
    "Now, we have all data which can be extracted from clinical notes. Now we can calculate Medicare Risk Adjusment Score by Spark NLP Healthcare CMS-HCC risk-adjustment score calculation module.\n",
    "\n",
    "This module supports V22, V23, V24, V28 and ESRDV21 of the CMS-HCC risk adjustment model.\n",
    "\n",
    "It also supports V05 and V08 of CMS-RxHCC risk adjustment model.\n",
    "\n",
    "It needs the following parameters in order to calculate the risk score:\n",
    "\n",
    "- ICD Codes\n",
    "- Age\n",
    "- Gender\n",
    "- The eligibility segment of the patient\n",
    "- The original reason for entitlement\n",
    "- If the patient is in Medicaid or not\n"
   ]
  },
  {
   "cell_type": "code",
   "execution_count": 0,
   "metadata": {
    "application/vnd.databricks.v1+cell": {
     "cellMetadata": {
      "byteLimit": 2048000,
      "rowLimit": 10000
     },
     "inputWidgets": {},
     "nuid": "0db36005-8620-4753-a7af-ec3d46454849",
     "showTitle": false,
     "title": ""
    }
   },
   "outputs": [],
   "source": [
    "patient_df = age_df.merge(icd10_df_all, on='filename', how = \"left\")\\\n",
    "                   .merge(gender_pd_df, on='filename', how = \"left\")\n",
    "\n",
    "patient_df = patient_df.dropna()"
   ]
  },
  {
   "cell_type": "code",
   "execution_count": 0,
   "metadata": {
    "application/vnd.databricks.v1+cell": {
     "cellMetadata": {
      "byteLimit": 2048000,
      "rowLimit": 10000
     },
     "inputWidgets": {},
     "nuid": "8e8bca97-3695-4af0-982f-213f3f371ba4",
     "showTitle": false,
     "title": ""
    }
   },
   "outputs": [
    {
     "output_type": "display_data",
     "data": {
      "text/html": [
       "<div>\n",
       "<style scoped>\n",
       "    .dataframe tbody tr th:only-of-type {\n",
       "        vertical-align: middle;\n",
       "    }\n",
       "\n",
       "    .dataframe tbody tr th {\n",
       "        vertical-align: top;\n",
       "    }\n",
       "\n",
       "    .dataframe thead th {\n",
       "        text-align: right;\n",
       "    }\n",
       "</style>\n",
       "<table border=\"1\" class=\"dataframe\">\n",
       "  <thead>\n",
       "    <tr style=\"text-align: right;\">\n",
       "      <th></th>\n",
       "      <th>filename</th>\n",
       "      <th>Age</th>\n",
       "      <th>icd10_code</th>\n",
       "      <th>Extracted_Entities_vs_ICD_Codes</th>\n",
       "      <th>Gender</th>\n",
       "    </tr>\n",
       "  </thead>\n",
       "  <tbody>\n",
       "    <tr>\n",
       "      <th>0</th>\n",
       "      <td>text_01</td>\n",
       "      <td>57</td>\n",
       "      <td>[C50.91, C50.9]</td>\n",
       "      <td>[(ductal carcinoma of the left breast, C50.91), (breast carcinoma, C50.9)]</td>\n",
       "      <td>F</td>\n",
       "    </tr>\n",
       "  </tbody>\n",
       "</table>\n",
       "</div>"
      ]
     },
     "metadata": {
      "application/vnd.databricks.v1+output": {
       "addedWidgets": {},
       "arguments": {},
       "data": "<div>\n<style scoped>\n    .dataframe tbody tr th:only-of-type {\n        vertical-align: middle;\n    }\n\n    .dataframe tbody tr th {\n        vertical-align: top;\n    }\n\n    .dataframe thead th {\n        text-align: right;\n    }\n</style>\n<table border=\"1\" class=\"dataframe\">\n  <thead>\n    <tr style=\"text-align: right;\">\n      <th></th>\n      <th>filename</th>\n      <th>Age</th>\n      <th>icd10_code</th>\n      <th>Extracted_Entities_vs_ICD_Codes</th>\n      <th>Gender</th>\n    </tr>\n  </thead>\n  <tbody>\n    <tr>\n      <th>0</th>\n      <td>text_01</td>\n      <td>57</td>\n      <td>[C50.91, C50.9]</td>\n      <td>[(ductal carcinoma of the left breast, C50.91), (breast carcinoma, C50.9)]</td>\n      <td>F</td>\n    </tr>\n  </tbody>\n</table>\n</div>",
       "datasetInfos": [],
       "metadata": {},
       "removedWidgets": [],
       "textData": null,
       "type": "htmlSandbox"
      }
     },
     "output_type": "display_data"
    }
   ],
   "source": [
    "patient_df"
   ]
  },
  {
   "cell_type": "code",
   "execution_count": 0,
   "metadata": {
    "application/vnd.databricks.v1+cell": {
     "cellMetadata": {
      "byteLimit": 2048000,
      "rowLimit": 10000
     },
     "inputWidgets": {},
     "nuid": "df8eb6c4-9832-4aec-8346-b43c163d6d9e",
     "showTitle": false,
     "title": ""
    }
   },
   "outputs": [
    {
     "output_type": "stream",
     "name": "stdout",
     "output_type": "stream",
     "text": [
      "<class 'pandas.core.frame.DataFrame'>\nInt64Index: 1 entries, 0 to 0\nData columns (total 5 columns):\n #   Column                           Non-Null Count  Dtype \n---  ------                           --------------  ----- \n 0   filename                         1 non-null      object\n 1   Age                              1 non-null      int64 \n 2   icd10_code                       1 non-null      object\n 3   Extracted_Entities_vs_ICD_Codes  1 non-null      object\n 4   Gender                           1 non-null      object\ndtypes: int64(1), object(4)\nmemory usage: 48.0+ bytes\n"
     ]
    }
   ],
   "source": [
    "patient_df.info()"
   ]
  },
  {
   "cell_type": "code",
   "execution_count": 0,
   "metadata": {
    "application/vnd.databricks.v1+cell": {
     "cellMetadata": {
      "byteLimit": 2048000,
      "rowLimit": 10000
     },
     "inputWidgets": {},
     "nuid": "671329d9-f92e-4e93-ab8c-c5d63894864a",
     "showTitle": false,
     "title": ""
    }
   },
   "outputs": [
    {
     "output_type": "stream",
     "name": "stdout",
     "output_type": "stream",
     "text": [
      "+--------+---+---------------+--------------------------------------------------------------------------+------+\n|filename|Age|icd10_code     |Extracted_Entities_vs_ICD_Codes                                           |Gender|\n+--------+---+---------------+--------------------------------------------------------------------------+------+\n|text_01 |57 |[C50.91, C50.9]|[[ductal carcinoma of the left breast, C50.91], [breast carcinoma, C50.9]]|F     |\n+--------+---+---------------+--------------------------------------------------------------------------+------+\n\n"
     ]
    }
   ],
   "source": [
    "df = spark.createDataFrame(patient_df)\n",
    "df.show(truncate=False)"
   ]
  },
  {
   "cell_type": "code",
   "execution_count": 0,
   "metadata": {
    "application/vnd.databricks.v1+cell": {
     "cellMetadata": {
      "byteLimit": 2048000,
      "rowLimit": 10000
     },
     "inputWidgets": {},
     "nuid": "e3a21c67-d1f2-4611-918c-88a1fa644468",
     "showTitle": false,
     "title": ""
    }
   },
   "outputs": [],
   "source": [
    "from pyspark.sql.types import MapType, IntegerType, DoubleType, StringType, StructType, StructField, FloatType\n",
    "import pyspark.sql.functions as f\n",
    "\n",
    "schema = StructType([\n",
    "            StructField('risk_score', FloatType()),\n",
    "            StructField('hcc_lst', StringType()),\n",
    "            StructField('parameters', StringType()),\n",
    "            StructField('details', StringType())])"
   ]
  },
  {
   "cell_type": "code",
   "execution_count": 0,
   "metadata": {
    "application/vnd.databricks.v1+cell": {
     "cellMetadata": {
      "byteLimit": 2048000,
      "rowLimit": 10000
     },
     "inputWidgets": {},
     "nuid": "b54acb3c-b909-48ce-b9ca-166e23b23449",
     "showTitle": false,
     "title": ""
    }
   },
   "outputs": [
    {
     "output_type": "stream",
     "name": "stdout",
     "output_type": "stream",
     "text": [
      "+--------+-----------+----+--------+\n|filename|eligibility|orec|medicaid|\n+--------+-----------+----+--------+\n|text_01 |INS        |0   |false   |\n+--------+-----------+----+--------+\n\n"
     ]
    }
   ],
   "source": [
    "extra_columns = pd.DataFrame({\"filename\" : [\"text_01\"],\n",
    "                              \"eligibility\" : [\"INS\" ],\n",
    "                      \"orec\" : [\"0\"],\n",
    "                      \"medicaid\":[False],\n",
    "                          })\n",
    "\n",
    "df_extra = spark.createDataFrame(extra_columns)\n",
    "df_extra.show(truncate=False)"
   ]
  },
  {
   "cell_type": "code",
   "execution_count": 0,
   "metadata": {
    "application/vnd.databricks.v1+cell": {
     "cellMetadata": {
      "byteLimit": 2048000,
      "rowLimit": 10000
     },
     "inputWidgets": {},
     "nuid": "9737759f-d8bd-43bc-965a-382a28b39f24",
     "showTitle": false,
     "title": ""
    }
   },
   "outputs": [],
   "source": [
    "df = df.join(df_extra, on= \"filename\")"
   ]
  },
  {
   "cell_type": "code",
   "execution_count": 0,
   "metadata": {
    "application/vnd.databricks.v1+cell": {
     "cellMetadata": {
      "byteLimit": 2048000,
      "rowLimit": 10000
     },
     "inputWidgets": {},
     "nuid": "1c561973-e63a-4e36-9f66-2d5276a01ec0",
     "showTitle": false,
     "title": ""
    }
   },
   "outputs": [
    {
     "output_type": "stream",
     "name": "stdout",
     "output_type": "stream",
     "text": [
      "+--------+---+---------------+-------------------------------+------+-----------+----+--------+\n|filename|Age|     icd10_code|Extracted_Entities_vs_ICD_Codes|Gender|eligibility|orec|medicaid|\n+--------+---+---------------+-------------------------------+------+-----------+----+--------+\n| text_01| 57|[C50.91, C50.9]|           [[ductal carcinom...|     F|        INS|   0|   false|\n+--------+---+---------------+-------------------------------+------+-----------+----+--------+\n\n"
     ]
    }
   ],
   "source": [
    "df.show()"
   ]
  },
  {
   "cell_type": "markdown",
   "metadata": {
    "application/vnd.databricks.v1+cell": {
     "cellMetadata": {
      "byteLimit": 2048000,
      "rowLimit": 10000
     },
     "inputWidgets": {},
     "nuid": "ce68aec1-2f61-4edb-9598-f9fa981377b9",
     "showTitle": false,
     "title": ""
    }
   },
   "source": [
    "## Importing the model version\n",
    "\n",
    "You can import one of the following function calculate the score.\n",
    "\n",
    "```\n",
    "- profileV22Y17   - profileV23Y18  - profileV24Y17  - profileV28    - profileESRDV21Y19 - profileRxHCCV05Y20 - profileRxHCCV08Y22                                                           \n",
    "- profileV22Y18   - profileV23Y19  - profileV24Y18  - profileV28Y24                     - profileRxHCCV05Y21 - profileRxHCCV08Y23\n",
    "- profileV22Y19                    - profileV24Y19                                      - profileRxHCCV05Y22\n",
    "- profileV22Y20                    - profileV24Y20                                      - profileRxHCCV05Y23\n",
    "- profileV22Y21                    - profileV24Y21\n",
    "- profileV22Y22                    - profileV24Y22\n",
    "                                   - profileV24\n",
    "```"
   ]
  },
  {
   "cell_type": "code",
   "execution_count": 0,
   "metadata": {
    "application/vnd.databricks.v1+cell": {
     "cellMetadata": {
      "byteLimit": 2048000,
      "rowLimit": 10000
     },
     "inputWidgets": {},
     "nuid": "722eb320-2ff4-4122-ac92-fd1cad267d25",
     "showTitle": false,
     "title": ""
    }
   },
   "outputs": [
    {
     "output_type": "stream",
     "name": "stdout",
     "output_type": "stream",
     "text": [
      "+----------+---------------+---+------+\n|risk_score|icd10_code     |Age|Gender|\n+----------+---------------+---+------+\n|0.986     |[C50.91, C50.9]|57 |F     |\n+----------+---------------+---+------+\n\n-RECORD 0-------------------------------------------------------------------------------------------------------------------------------\n filename                        | text_01                                                                                              \n Age                             | 57                                                                                                   \n icd10_code                      | [C50.91, C50.9]                                                                                      \n Extracted_Entities_vs_ICD_Codes | [[ductal carcinoma of the left breast, C50.91], [breast carcinoma, C50.9]]                           \n Gender                          | F                                                                                                    \n eligibility                     | INS                                                                                                  \n orec                            | 0                                                                                                    \n medicaid                        | false                                                                                                \n hcc_profile                     | {0.986, [], {\"elig\":\"INS\",\"age\":57,\"sex\":\"F\",\"origds\":false,\"disabled\":false,\"medicaid\":false}, {... \n risk_score                      | 0.986                                                                                                \n hcc_lst                         | []                                                                                                   \n parameters                      | {\"elig\":\"INS\",\"age\":57,\"sex\":\"F\",\"origds\":false,\"disabled\":false,\"medicaid\":false}                   \n details                         | {\"INS_F55_59\":0.986}                                                                                 \n\n"
     ]
    }
   ],
   "source": [
    "df = df.withColumn(\"hcc_profile\", medical.profileV22Y17(df.icd10_code, df.Age, df.Gender, df.eligibility, df.orec, df.medicaid))\n",
    "\n",
    "df = df.withColumn(\"hcc_profile\", F.from_json(F.col(\"hcc_profile\"), schema))\n",
    "df= df.withColumn(\"risk_score\", df.hcc_profile.getItem(\"risk_score\"))\\\n",
    "      .withColumn(\"hcc_lst\", df.hcc_profile.getItem(\"hcc_lst\"))\\\n",
    "      .withColumn(\"parameters\", df.hcc_profile.getItem(\"parameters\"))\\\n",
    "      .withColumn(\"details\", df.hcc_profile.getItem(\"details\"))\\\n",
    "\n",
    "df.select('risk_score','icd10_code', 'Age', 'Gender').show(truncate=False )\n",
    "\n",
    "df.show(truncate=100, vertical=True)"
   ]
  },
  {
   "cell_type": "markdown",
   "metadata": {
    "application/vnd.databricks.v1+cell": {
     "cellMetadata": {
      "byteLimit": 2048000,
      "rowLimit": 10000
     },
     "inputWidgets": {},
     "nuid": "3080b281-8af3-45ac-993b-a2a9e8aceae2",
     "showTitle": false,
     "title": ""
    }
   },
   "source": [
    "## License\n",
    "Copyright / License info of the notebook. Copyright [2021] the Notebook Authors.  The source in this notebook is provided subject to the [Apache 2.0 License](https://spdx.org/licenses/Apache-2.0.html).  All included or referenced third party libraries are subject to the licenses set forth below.\n",
    "\n",
    "|Library Name|Library License|Library License URL|Library Source URL|\n",
    "| :-: | :-:| :-: | :-:|\n",
    "|Pandas |BSD 3-Clause License| https://github.com/pandas-dev/pandas/blob/master/LICENSE | https://github.com/pandas-dev/pandas|\n",
    "|Numpy |BSD 3-Clause License| https://github.com/numpy/numpy/blob/main/LICENSE.txt | https://github.com/numpy/numpy|\n",
    "|Apache Spark |Apache License 2.0| https://github.com/apache/spark/blob/master/LICENSE | https://github.com/apache/spark/tree/master/python/pyspark|\n",
    "|BeautifulSoup|MIT License|https://www.crummy.com/software/BeautifulSoup/#Download|https://www.crummy.com/software/BeautifulSoup/bs4/download/|\n",
    "|Requests|Apache License 2.0|https://github.com/psf/requests/blob/main/LICENSE|https://github.com/psf/requests|\n",
    "|Spark NLP Display|Apache License 2.0|https://github.com/JohnSnowLabs/spark-nlp-display/blob/main/LICENSE|https://github.com/JohnSnowLabs/spark-nlp-display|\n",
    "|Spark NLP |Apache License 2.0| https://github.com/JohnSnowLabs/spark-nlp/blob/master/LICENSE | https://github.com/JohnSnowLabs/spark-nlp|\n",
    "|Spark NLP for Healthcare|[Proprietary license - John Snow Labs Inc.](https://www.johnsnowlabs.com/spark-nlp-health/) |NA|NA|\n",
    "\n",
    "\n",
    "\n",
    "|Author|\n",
    "|-|\n",
    "|Databricks Inc.|\n",
    "|John Snow Labs Inc.|"
   ]
  },
  {
   "cell_type": "markdown",
   "metadata": {
    "application/vnd.databricks.v1+cell": {
     "cellMetadata": {
      "byteLimit": 2048000,
      "rowLimit": 10000
     },
     "inputWidgets": {},
     "nuid": "816148aa-fec8-4623-95a5-35892349fcf0",
     "showTitle": false,
     "title": ""
    }
   },
   "source": [
    "## Disclaimers\n",
    "Databricks Inc. (“Databricks”) does not dispense medical, diagnosis, or treatment advice. This Solution Accelerator (“tool”) is for informational purposes only and may not be used as a substitute for professional medical advice, treatment, or diagnosis. This tool may not be used within Databricks to process Protected Health Information (“PHI”) as defined in the Health Insurance Portability and Accountability Act of 1996, unless you have executed with Databricks a contract that allows for processing PHI, an accompanying Business Associate Agreement (BAA), and are running this notebook within a HIPAA Account.  Please note that if you run this notebook within Azure Databricks, your contract with Microsoft applies."
   ]
  },
  {
   "cell_type": "code",
   "execution_count": 0,
   "metadata": {
    "application/vnd.databricks.v1+cell": {
     "cellMetadata": {
      "byteLimit": 2048000,
      "rowLimit": 10000
     },
     "inputWidgets": {},
     "nuid": "1148575d-6a49-4d4e-ad5d-a417dd8dbc70",
     "showTitle": false,
     "title": ""
    }
   },
   "outputs": [],
   "source": []
  }
 ],
 "metadata": {
  "application/vnd.databricks.v1+notebook": {
   "dashboards": [],
   "language": "python",
   "notebookMetadata": {
    "mostRecentlyExecutedCommandWithImplicitDF": {
     "commandId": 1233127189636438,
     "dataframes": [
      "_sqldf"
     ]
    },
    "pythonIndentUnit": 2
   },
   "notebookName": "05.3.Calculate_Medicare_Risk_Adjustment_Score",
   "widgets": {}
  },
  "kernelspec": {
   "display_name": "Python 3",
   "language": "python",
   "name": "python3"
  },
  "language_info": {
   "codemirror_mode": {
    "name": "ipython",
    "version": 3
   },
   "file_extension": ".py",
   "mimetype": "text/x-python",
   "name": "python",
   "nbconvert_exporter": "python",
   "pygments_lexer": "ipython3",
   "version": "3.7.6"
  }
 },
 "nbformat": 4,
 "nbformat_minor": 0
}

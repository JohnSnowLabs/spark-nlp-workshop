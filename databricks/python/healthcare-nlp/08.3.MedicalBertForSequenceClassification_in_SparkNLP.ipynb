{
 "cells": [
  {
   "cell_type": "markdown",
   "metadata": {
    "application/vnd.databricks.v1+cell": {
     "cellMetadata": {
      "byteLimit": 2048000,
      "rowLimit": 10000
     },
     "inputWidgets": {},
     "nuid": "97d563fe-b831-4ed9-8b6d-6f9957ee07e1",
     "showTitle": false,
     "tableResultSettingsMap": {},
     "title": ""
    },
    "id": "YvRh1Ab-oAdP"
   },
   "source": [
    "![JohnSnowLabs](https://nlp.johnsnowlabs.com/assets/images/logo.png)"
   ]
  },
  {
   "cell_type": "markdown",
   "metadata": {
    "application/vnd.databricks.v1+cell": {
     "cellMetadata": {
      "byteLimit": 2048000,
      "rowLimit": 10000
     },
     "inputWidgets": {},
     "nuid": "e264df0f-18ed-47c9-ad51-871d452a3d22",
     "showTitle": false,
     "tableResultSettingsMap": {},
     "title": ""
    },
    "id": "ivXOsOEms8e-"
   },
   "source": [
    "# MedicalBertForSequenceClassification Models"
   ]
  },
  {
   "cell_type": "markdown",
   "metadata": {
    "application/vnd.databricks.v1+cell": {
     "cellMetadata": {
      "byteLimit": 2048000,
      "rowLimit": 10000
     },
     "inputWidgets": {},
     "nuid": "7ebae3ed-f307-4382-8b82-d832edb5197b",
     "showTitle": false,
     "tableResultSettingsMap": {},
     "title": ""
    },
    "id": "_MTxULVLu_wH"
   },
   "source": [
    "🔎 `MedicalBertForTokenClassification` annotator can load BERT Models with sequence classification/regression head on top (a linear layer on top of the pooled output) e.g. for multi-class document classification tasks.\n",
    "\n",
    "Transformer models are compatible with Spark NLP library. So if you want to train and import a transformer based `BertForSequenceClassification` model to Spark NLP, you can do it by using [Import Transformers Into Spark NLP](https://github.com/JohnSnowLabs/spark-nlp-workshop/blob/master/tutorials/Certification_Trainings/Public/15.Import_Transformers_Into_Spark_NLP.ipynb) notebook. **BUT**, don't forget to use `BertForSequenceClassification` open source annotator while importing."
   ]
  },
  {
   "cell_type": "markdown",
   "metadata": {
    "application/vnd.databricks.v1+cell": {
     "cellMetadata": {
      "byteLimit": 2048000,
      "rowLimit": 10000
     },
     "inputWidgets": {},
     "nuid": "d8811def-e76b-4dc4-9ddc-87a5d2c8038d",
     "showTitle": false,
     "tableResultSettingsMap": {},
     "title": ""
    },
    "id": "JO_pm50Cwg88"
   },
   "source": [
    "📌 Pretrained models can be loaded with pretrained() of the companion object.\n",
    "\n",
    "📌 The default model is `bert_sequence_classifier_ade`, if no name is provided."
   ]
  },
  {
   "cell_type": "markdown",
   "metadata": {
    "application/vnd.databricks.v1+cell": {
     "cellMetadata": {
      "byteLimit": 2048000,
      "rowLimit": 10000
     },
     "inputWidgets": {},
     "nuid": "85933f4d-2b4b-4abc-bfee-a586b97f6179",
     "showTitle": false,
     "tableResultSettingsMap": {},
     "title": ""
    },
    "id": "169e15mO4uA7"
   },
   "source": [
    "<center><b> MODEL LIST </b>\n",
    "\n",
    "| model name                                                                                                                                                                    | model name | model name |\n",
    "|-------------------------------------------------------------------------------------------------------------------------------------------------------------------------------| -------------------------------------------------------------------------------------------------------------------------------------------------------------------------------|-------------------------------------------------------------------------------------------------------------------------------------------------------------------------------|\n",
    "|<b>🔎PUBLIC HEALTH</b> |<b>🔎CLINICAL TRIALS</b>|<b>🔎MBFSC Models in Other Languages</b>|\n",
    "|<b>MBFSC Models related to Mentions and Statements👇🏻</b>|<b> MBFSC Models related to RCT(Randomize Clinical Trials👇🏻</b>|<b>German:👇🏻</b> |\n",
    "|[bert_sequence_classifier_health_mentions](https://nlp.johnsnowlabs.com/2022/07/25/bert_sequence_classifier_health_mentions_en_3_0.html)|[bert_sequence_classifier_rct_biobert](https://nlp.johnsnowlabs.com/2022/03/01/bert_sequence_classifier_rct_biobert_en_3_0.html)|[bert_sequence_classifier_health_mentions_gbert_large](https://nlp.johnsnowlabs.com/2022/08/10/bert_sequence_classifier_health_mentions_gbert_large_de_3_0.html)|\n",
    "|[bert_sequence_classifier_question_statement_clinical](https://nlp.johnsnowlabs.com/2021/11/05/bert_sequence_classifier_question_statement_clinical_en.html)|[bert_sequence_classifier_binary_rct_biobert](https://nlp.johnsnowlabs.com/2022/04/25/bert_sequence_classifier_binary_rct_biobert_en_3_0.html)             |[bert_sequence_classifier_health_mentions_bert](https://nlp.johnsnowlabs.com/2022/08/10/bert_sequence_classifier_health_mentions_bert_de_3_0.html) |[bert_sequence_classifier_patient_complaint](https://nlp.johnsnowlabs.com/2023/08/31/bert_sequence_classifier_patient_complaint_en.html)|\n",
    "[bert_sequence_classifier_patient_complaint](https://nlp.johnsnowlabs.com/2023/08/31/bert_sequence_classifier_patient_complaint_en.html)|[bert_sequence_classifier_health_mentions_gbert](https://nlp.johnsnowlabs.com/2022/08/10/bert_sequence_classifier_health_mentions_gbert_de_3_0.html)|[bert_sequence_classifier_covid_sentiment](https://nlp.johnsnowlabs.com/2022/08/01/bert_sequence_classifier_covid_sentiment_en_3_0.html)||\n",
    "[bert_sequence_classifier_patient_urgency](https://nlp.johnsnowlabs.com/2023/07/09/bert_sequence_classifier_patient_urgency_en.html)\n",
    "<b>MBFSC Models related to Covid👇🏻</b> ||[bert_sequence_classifier_health_mentions_medbert](https://nlp.johnsnowlabs.com/2022/08/10/bert_sequence_classifier_health_mentions_medbert_de_3_0.html)|\n",
    "|[bert_sequence_classifier_vaccine_sentiment](https://nlp.johnsnowlabs.com/2022/07/28/bert_sequence_classifier_vaccine_sentiment_en_3_0.html)             | |<b>Spanish:👇🏻</b> |\n",
    "|[bert_sequence_classifier_self_reported_vaccine_status_tweet](https://nlp.johnsnowlabs.com/2022/07/29/bert_sequence_classifier_self_reported_vaccine_status_tweet_en_3_0.html)     |        |[bert_sequence_classifier_self_reported_symptoms_tweet](https://nlp.johnsnowlabs.com/2022/07/28/bert_sequence_classifier_self_reported_symptoms_tweet_es_3_0.html)|\n",
    "|[bert_sequence_classifier_health_mandates_stance_tweet](https://nlp.johnsnowlabs.com/2022/08/08/bert_sequence_classifier_health_mandates_stance_tweet_en_3_0.html)             |\n",
    "|[bert_sequence_classifier_health_mandates_premise_tweet](https://nlp.johnsnowlabs.com/2022/08/08/bert_sequence_classifier_health_mandates_premise_tweet_en_3_0.html)             |\n",
    "|<b>MBFSC Models related to Mental, Emotional and Social Relationships👇🏻</b>                                                                                                            |\n",
    "|[bert_sequence_classifier_stress](https://nlp.johnsnowlabs.com/2022/06/28/bert_sequence_classifier_stress_en_3_0.html)|\n",
    "|[bert_sequence_classifier_stressor](https://nlp.johnsnowlabs.com/2022/07/27/bert_sequence_classifier_stressor_en_3_0.html)| |\n",
    "|[bert_sequence_classifier_self_reported_stress_tweet](https://nlp.johnsnowlabs.com/2022/07/29/bert_sequence_classifier_self_reported_stress_tweet_en_3_0.html )|\n",
    "|[bert_sequence_classifier_depression](https://nlp.johnsnowlabs.com/2022/08/09/bert_sequence_classifier_depression_en_3_0.html)|\n",
    "|[bert_sequence_classifier_depression_binary](https://nlp.johnsnowlabs.com/2022/08/10/bert_sequence_classifier_depression_binary_en_3_0.html)|\n",
    "|[bert_sequence_classifier_depression_twitter](https://nlp.johnsnowlabs.com/2022/08/09/bert_sequence_classifier_depression_twitter_en_3_0.html)|\n",
    "|[bert_sequence_classifier_self_reported_partner_violence_tweet](https://nlp.johnsnowlabs.com/2022/07/28/bert_sequence_classifier_self_reported_partner_violence_tweet_en_3_0.html)|\n",
    "|<b>MBFSC Models related to Treatment👇🏻 </b>                                                                                                                                                                  |\n",
    "|[bert_sequence_classifier_ade](https://nlp.johnsnowlabs.com/2022/02/08/bert_sequence_classifier_ade_en.html)                |\n",
    "|[bert_sequence_classifier_ade_augmented](https://nlp.johnsnowlabs.com/2022/07/27/bert_sequence_classifier_ade_augmented_en_3_0.html)|\n",
    "|[bert_sequence_classifier_drug_reviews_webmd](https://nlp.johnsnowlabs.com/2022/07/28/bert_sequence_classifier_drug_reviews_webmd_en_3_0.html)|\n",
    "|[bert_sequence_classifier_treatment_changes_sentiment_tweet](https://nlp.johnsnowlabs.com/2022/08/04/bert_sequence_classifier_treatment_changes_sentiment_tweet_en_3_0.html)|\n",
    "|<b>MBFSC Models related to Biomarker👇🏻</b>                                                                                                                                                                   |\n",
    "|[bert_sequence_classifier_biomarker](https://nlp.johnsnowlabs.com/2024/02/13/bert_sequence_classifier_biomarker_en.html)                |\n",
    "|<b>MBFSC Models related to Gender and Age👇🏻</b>                                                                                                                                                                   |\n",
    "|[bert_sequence_classifier_gender_biobert](https://nlp.johnsnowlabs.com/2022/02/08/bert_sequence_classifier_gender_biobert_en.html)                |\n",
    "|[bert_sequence_classifier_exact_age_reddit](https://nlp.johnsnowlabs.com/2022/07/26/bert_sequence_classifier_exact_age_reddit_en_3_0.html)|\n",
    "|[bert_sequence_classifier_self_reported_age_tweet](https://nlp.johnsnowlabs.com/2022/07/26/bert_sequence_classifier_self_reported_age_tweet_en_3_0.html)|\n",
    "|<b>MBFSC Models related to Social Determinant of Health👇🏻</b>                                                                                                                                                                   |\n",
    "|[bert_sequence_classifier_sdoh_community_absent_status](https://nlp.johnsnowlabs.com/2022/12/18/bert_sequence_classifier_sdoh_community_absent_status_en.html)  |\n",
    "|[bert_sequence_classifier_sdoh_community_present_status](https://nlp.johnsnowlabs.com/2022/12/18/bert_sequence_classifier_sdoh_community_present_status_en.html)|\n",
    "|[bert_sequence_classifier_sdoh_environment_status](https://nlp.johnsnowlabs.com/2022/12/18/bert_sequence_classifier_sdoh_environment_status_en.html)            |\n",
    "|[bert_sequence_classifier_sdoh_violence_abuse](https://nlp.johnsnowlabs.com/2023/12/20/bert_sequence_classifier_sdoh_violence_abuse_en.html)  |\n",
    "|[bert_sequence_classifier_sdoh_mental_health](https://nlp.johnsnowlabs.com/2023/12/20/bert_sequence_classifier_sdoh_mental_health_en.html)|\n",
    "|[bert_sequence_classifier_sdoh_frailty_vulnerability](https://nlp.johnsnowlabs.com/2023/12/20/bert_sequence_classifier_sdoh_frailty_vulnerability_en.html)|\n",
    "|[bert_sequence_classifier_sdoh_frailty](https://nlp.johnsnowlabs.com/2023/11/05/bert_sequence_classifier_sdoh_frailty_en.html)\n"
   ]
  },
  {
   "cell_type": "markdown",
   "metadata": {
    "application/vnd.databricks.v1+cell": {
     "cellMetadata": {
      "byteLimit": 2048000,
      "rowLimit": 10000
     },
     "inputWidgets": {},
     "nuid": "c50f7e5c-abcd-4b5f-a219-1bad44603a05",
     "showTitle": false,
     "tableResultSettingsMap": {},
     "title": ""
    }
   },
   "source": [
    "## Healthcare NLP for Data Scientists Course\n",
    "\n",
    "If you are not familiar with the components in this notebook, you can check [Healthcare NLP for Data Scientists Udemy Course](https://www.udemy.com/course/healthcare-nlp-for-data-scientists/) and the [MOOC Notebooks](https://github.com/JohnSnowLabs/spark-nlp-workshop/tree/master/Spark_NLP_Udemy_MOOC/Healthcare_NLP) for each components."
   ]
  },
  {
   "cell_type": "markdown",
   "metadata": {
    "application/vnd.databricks.v1+cell": {
     "cellMetadata": {
      "byteLimit": 2048000,
      "rowLimit": 10000
     },
     "inputWidgets": {},
     "nuid": "ab852854-69b3-4d73-824d-16b9e56b2e63",
     "showTitle": false,
     "tableResultSettingsMap": {},
     "title": ""
    },
    "id": "5wt0ecx8oRll"
   },
   "source": [
    "# Setup"
   ]
  },
  {
   "cell_type": "code",
   "execution_count": 0,
   "metadata": {
    "application/vnd.databricks.v1+cell": {
     "cellMetadata": {
      "byteLimit": 2048000,
      "rowLimit": 10000
     },
     "inputWidgets": {},
     "nuid": "46e51645-8d4c-482d-85a5-03542ed0ca67",
     "showTitle": false,
     "tableResultSettingsMap": {},
     "title": ""
    },
    "colab": {
     "base_uri": "https://localhost:8080/",
     "height": 244
    },
    "id": "jIDHAUFnoVnq",
    "outputId": "534fa007-0612-497f-f2c6-35dde36f78a6"
   },
   "outputs": [],
   "source": [
    "from johnsnowlabs import nlp, medical\n",
    "nlp.settings.enforce_versions=False\n",
    "\n",
    "#We have already initiated the session, and the nlp.start() function is being utilized to update the credentials.\n",
    "nlp.start()"
   ]
  },
  {
   "cell_type": "code",
   "execution_count": 0,
   "metadata": {
    "application/vnd.databricks.v1+cell": {
     "cellMetadata": {
      "byteLimit": 2048000,
      "rowLimit": 10000
     },
     "inputWidgets": {},
     "nuid": "d817a8f1-d324-4aad-b690-ec0fdb725089",
     "showTitle": false,
     "tableResultSettingsMap": {},
     "title": ""
    }
   },
   "outputs": [
    {
     "output_type": "execute_result",
     "data": {
      "text/html": [
       "\n",
       "            <div>\n",
       "                <p><b>SparkSession - hive</b></p>\n",
       "                \n",
       "        <div>\n",
       "            <p><b>SparkContext</b></p>\n",
       "\n",
       "            <p><a href=\"/?o=7956323724731612#setting/sparkui/1112-201629-lg699ln8/driver-390310785323309735\">Spark UI</a></p>\n",
       "\n",
       "            <dl>\n",
       "              <dt>Version</dt>\n",
       "                <dd><code>v3.4.1</code></dd>\n",
       "              <dt>Master</dt>\n",
       "                <dd><code>spark://10.139.64.10:7077</code></dd>\n",
       "              <dt>AppName</dt>\n",
       "                <dd><code>Databricks Shell</code></dd>\n",
       "            </dl>\n",
       "        </div>\n",
       "        \n",
       "            </div>\n",
       "        "
      ],
      "text/plain": [
       "<pyspark.sql.session.SparkSession at 0x7f7e171f6890>"
      ]
     },
     "execution_count": 3,
     "metadata": {},
     "output_type": "execute_result"
    }
   ],
   "source": [
    "from pyspark.sql import DataFrame\n",
    "import pyspark.sql.functions as F\n",
    "import pyspark.sql.types as T\n",
    "import pyspark.sql as SQL\n",
    "\n",
    "import os\n",
    "import json\n",
    "import string\n",
    "import numpy as np\n",
    "import pandas as pd\n",
    "\n",
    "from pyspark.ml import Pipeline, PipelineModel\n",
    "\n",
    "pd.set_option('max_colwidth', 100)\n",
    "pd.set_option('display.max_columns', 100)  \n",
    "pd.set_option('display.expand_frame_repr', False)\n",
    "\n",
    "spark"
   ]
  },
  {
   "cell_type": "markdown",
   "metadata": {
    "application/vnd.databricks.v1+cell": {
     "cellMetadata": {
      "byteLimit": 2048000,
      "rowLimit": 10000
     },
     "inputWidgets": {},
     "nuid": "a05f58f4-9874-4440-819a-62741ac03b41",
     "showTitle": false,
     "tableResultSettingsMap": {},
     "title": ""
    },
    "id": "hBny-lKK2eIh"
   },
   "source": [
    "# 🔎PUBLIC HEALTH"
   ]
  },
  {
   "cell_type": "markdown",
   "metadata": {
    "application/vnd.databricks.v1+cell": {
     "cellMetadata": {
      "byteLimit": 2048000,
      "rowLimit": 10000
     },
     "inputWidgets": {},
     "nuid": "8c0726e3-856d-463f-935b-1bb139f5059a",
     "showTitle": false,
     "tableResultSettingsMap": {},
     "title": ""
    }
   },
   "source": [
    "> ### 📌Social Determinant of Health Classifier Model"
   ]
  },
  {
   "cell_type": "markdown",
   "metadata": {
    "application/vnd.databricks.v1+cell": {
     "cellMetadata": {
      "byteLimit": 2048000,
      "rowLimit": 10000
     },
     "inputWidgets": {},
     "nuid": "9419af96-6bee-4667-9789-4d7517c8f475",
     "showTitle": false,
     "tableResultSettingsMap": {},
     "title": ""
    },
    "id": "-I9-T7D5RmV0"
   },
   "source": [
    "## 🔹 MBFSC Models related to Social Determinants of Health"
   ]
  },
  {
   "cell_type": "markdown",
   "metadata": {
    "application/vnd.databricks.v1+cell": {
     "cellMetadata": {
      "byteLimit": 2048000,
      "rowLimit": 10000
     },
     "inputWidgets": {},
     "nuid": "4b4517c1-1442-457b-a2be-efd2a375c5da",
     "showTitle": false,
     "tableResultSettingsMap": {},
     "title": ""
    },
    "id": "HwUK8RQsS9dI"
   },
   "source": [
    "\n",
    "+ `MedicalBertForSequenceClassification` models that can be used in Social Determinant of Health related classification tasks:\n",
    "\n",
    "| model name                                           \t| description                                                                                                                                        \t| predicted entities                          \t|\n",
    "|------------------------------------------------------\t|----------------------------------------------------------------------------------------------------------------------------------------------------\t|---------------------------------------------\t|\n",
    "| [bert_sequence_classifier_sdoh_community_absent_status]()           \t:| - Classifies the clinical texts related to the loss of social support such as a family member or friend in the clinical documents.                                                                     \t| `True` `False`                \t|\n",
    "|  |A discharge summary was classified True for Community-Absent if the discharge summary had passages related to the loss\n",
    "|  | of social support and False if such passages were not found in the discharge summary.\n",
    "|  |\n",
    "|  |\n",
    "| [bert_sequence_classifier_sdoh_community_present_status]() \t:| - Classifies the clinical texts related to social support such as a family member or friend in the clinical documents.                                                        \t| `True` `False`               \t|\n",
    "|  | A discharge summary was classified True for Community-Present if the discharge summary had passages related to active\n",
    "|  |social support and False if such passages were not found in the discharge summary.\n",
    "|  |\n",
    "|  |\n",
    "| [bert_sequence_classifier_sdoh_environment_status]()     \t:| - Classifies the clinical texts related to environment situation such as any indication of housing, homeless or no related passage.                                                     \t| `True` `False` `None`               \t|\n",
    "|  |A discharge summary was classified as True for the SDOH Environment if there was any indication of housing, False if the patient\n",
    "|  | was homeless and None if there was no related passage.\n",
    "|  |\n",
    "|  |\n",
    "| [bert_sequence_classifier_sdoh_violence_abuse]()        \t:| - Classifies the clinical texts related to Violence and Abuse. A discharge summary was classified as; Domestic_Violence_Abuse:                                                 \t| `Personal_Violence_Abuse` `Personal_Violence_Abuse` `No_Violence_Abuse` `Unknown`               \t|\n",
    "|  |This category refers to a pattern of behavior in any relationship that is aimed at gaining or maintaining power and\n",
    "|  |control over an intimate partner or family member. Personal_Violence_Abuse: This category encompasses any form of violence\n",
    "|  | or abuse that is directed towards an individual, whether admitted by the perpetrator or recognized by the victim.\n",
    "|  |No_Violence_Abuse: This category denotes the complete absence of violence and abuse in any form. Unknown: This category\n",
    "|  | covers when the nature or type of violence or abuse within a given text cannot be clearly identified or defined.\n",
    "|  |\n",
    "|  |\n",
    "| [bert_sequence_classifier_sdoh_mental_health]()        \t:| - Classifies the clinical texts related a wide range of mental health conditions that affect a person’s mood, thinking, behavior, and overall                                                     \t| `Mental_Disorder` `No_Or_Not_Mentioned`               \t|\n",
    "|  | psychological well-being. A discharge summary was classified as Mental_Disorder if the patient has mental health\n",
    "|  | problems, No_Or_Not_Mentioned if the patient has no mental health problems or it is not mentioned in the clinical notes.\n",
    "|  |\n",
    "|  |\n",
    "| [bert_sequence_classifier_sdoh_frailty_vulnerability]()        \t:| - Classifies the clinical texts related to Frailty and Vulnerability such as any indication of concerns, signs or symptoms associated with frailty                                                     \t| `Frailty_Vulnerability` `No_Or_Unknown`               \t|\n",
    "|  |and/or vulnerability conditions. A discharge summary was classified as Frailty_Vulnerability for frailty and/or vulnerability conditions,\n",
    "|  |No_Or_Unknown do not present any identifiable concerns related to frailty/vulnerability or where the presence or extent of  \n",
    "|  |frailty/ vulnerability is indeterminate.\n",
    "|  |\n",
    "|  |\n",
    "| [bert_sequence_classifier_sdoh_frailty]()        \t:| - Classifies the clinical texts related to Frailty. A discharge summary was classified as High_or_Low_Frailty: This category encompasses                                                    \t| `High_or_Low_Frailty` `No_Frailty_or_Unknown`               \t|\n",
    "|  | statements that indicate the presence of significant concerns or symptoms related to frailty conditions, suggesting either high or low risks.\n",
    "|  | This labelreflects substantial worries about frailty and the need for relevant medical measures. No_Frailty_or_Unknown:\n",
    "|  | This category includes statements that do not contain clear concerns related to frailty or where the frailty condition is unknown.  \n",
    "|  |This label indicates the absence of frailty-related issues or insufficient information in the text.\n",
    "\n",
    "\n"
   ]
  },
  {
   "cell_type": "markdown",
   "metadata": {
    "application/vnd.databricks.v1+cell": {
     "cellMetadata": {
      "byteLimit": 2048000,
      "rowLimit": 10000
     },
     "inputWidgets": {},
     "nuid": "eacff66f-98b5-4c48-8756-6be2b96153ab",
     "showTitle": false,
     "tableResultSettingsMap": {},
     "title": ""
    },
    "id": "4G1z2Oz7ThFH"
   },
   "source": [
    "*`bert_sequence_classifier_sdoh_community_present_status`*"
   ]
  },
  {
   "cell_type": "code",
   "execution_count": 0,
   "metadata": {
    "application/vnd.databricks.v1+cell": {
     "cellMetadata": {
      "byteLimit": 2048000,
      "rowLimit": 10000
     },
     "inputWidgets": {},
     "nuid": "688fc8c6-92ca-42b1-a1c1-2a77618eeedb",
     "showTitle": false,
     "tableResultSettingsMap": {},
     "title": ""
    },
    "colab": {
     "base_uri": "https://localhost:8080/"
    },
    "id": "u6JZFiacTglJ",
    "outputId": "cbb35eb7-af81-4fcf-db0f-16c6dd913afb"
   },
   "outputs": [
    {
     "output_type": "stream",
     "name": "stdout",
     "output_type": "stream",
     "text": [
      "bert_sequence_classifier_sdoh_community_present_status download started this may take some time.\n\r[ | ]\r[ / ]\r[ — ]\r[ \\ ]\r[ | ]\r[ / ]\r[ — ]\r[ \\ ]\r[ | ]\r[ / ]\r[ — ]\r[ \\ ]\r[OK!]\n+----------------------------------------------------------------------------------------------------------------------------------------------------------------------------------------------------------------------------------------------------------------------+-------+\n|text                                                                                                                                                                                                                                                                  |result |\n+----------------------------------------------------------------------------------------------------------------------------------------------------------------------------------------------------------------------------------------------------------------------+-------+\n|Right inguinal hernia repair in childhood Cervical discectomy 3 years ago Umbilical hernia repair 2137. Retired schoolteacher, now substitutes. Lives with wife in location 1439. Has a 27 yo son and a 25 yo daughter. Name (NI) past or present smoking hx, no EtOH.|[True] |\n|Atrial Septal Defect with Right Atrial Thrombus Pulmonary Hypertension Obesity, Obstructive Sleep Apnea. Denies tobacco and ETOH. Works as cafeteria worker.                                                                                                          |[False]|\n+----------------------------------------------------------------------------------------------------------------------------------------------------------------------------------------------------------------------------------------------------------------------+-------+\n\n"
     ]
    }
   ],
   "source": [
    "document_assembler = nlp.DocumentAssembler() \\\n",
    "    .setInputCol(\"text\") \\\n",
    "    .setOutputCol(\"document\")\n",
    "\n",
    "tokenizer = nlp.Tokenizer() \\\n",
    "    .setInputCols([\"document\"]) \\\n",
    "    .setOutputCol(\"token\")\n",
    "\n",
    "sequenceClassifier = medical.BertForSequenceClassification.pretrained(\"bert_sequence_classifier_sdoh_community_present_status\", \"en\", \"clinical/models\")\\\n",
    "    .setInputCols([\"document\",\"token\"])\\\n",
    "    .setOutputCol(\"predicted_class\")\n",
    "\n",
    "pipeline = nlp.Pipeline(stages=[\n",
    "    document_assembler, \n",
    "    tokenizer,\n",
    "    sequenceClassifier    \n",
    "])\n",
    "\n",
    "model = pipeline.fit(spark.createDataFrame([[\"\"]]).toDF(\"text\"))\n",
    "\n",
    "data = spark.createDataFrame([[\"Right inguinal hernia repair in childhood Cervical discectomy 3 years ago Umbilical hernia repair 2137. Retired schoolteacher, now substitutes. Lives with wife in location 1439. Has a 27 yo son and a 25 yo daughter. Name (NI) past or present smoking hx, no EtOH.\"],\n",
    "                              [\"Atrial Septal Defect with Right Atrial Thrombus Pulmonary Hypertension Obesity, Obstructive Sleep Apnea. Denies tobacco and ETOH. Works as cafeteria worker.\"]]).toDF(\"text\")\n",
    "\n",
    "result = model.transform(data)\n",
    "\n",
    "result.select(\"text\", \"predicted_class.result\").show(truncate=False)"
   ]
  },
  {
   "cell_type": "markdown",
   "metadata": {
    "application/vnd.databricks.v1+cell": {
     "cellMetadata": {
      "byteLimit": 2048000,
      "rowLimit": 10000
     },
     "inputWidgets": {},
     "nuid": "0cd33583-3a7c-451c-a299-9062379f4ddf",
     "showTitle": false,
     "tableResultSettingsMap": {},
     "title": ""
    }
   },
   "source": [
    "> ### 📌Public Health Mention Classifier Model"
   ]
  },
  {
   "cell_type": "markdown",
   "metadata": {
    "application/vnd.databricks.v1+cell": {
     "cellMetadata": {
      "byteLimit": 2048000,
      "rowLimit": 10000
     },
     "inputWidgets": {},
     "nuid": "875533d8-c5d9-411c-b37d-ed700657033b",
     "showTitle": false,
     "tableResultSettingsMap": {},
     "title": ""
    }
   },
   "source": [
    "## 🔹 MBFSC Models related to Health Mentions and Statements:"
   ]
  },
  {
   "cell_type": "markdown",
   "metadata": {
    "application/vnd.databricks.v1+cell": {
     "cellMetadata": {
      "byteLimit": 2048000,
      "rowLimit": 10000
     },
     "inputWidgets": {},
     "nuid": "75008db6-ca15-4414-83e6-280b810a229d",
     "showTitle": false,
     "tableResultSettingsMap": {},
     "title": ""
    }
   },
   "source": [
    "| model name                                                                                                                                                                    | description                                                                             | predicted entities                                         |\n",
    "|-------------------------------------------------------------------------------------------------------------------------------------------------------------------------------|-----------------------------------------------------------------------------------------|------------------------------------------------------------|\n",
    "|[bert_sequence_classifier_health_mentions](https://nlp.johnsnowlabs.com/2022/07/25/bert_sequence_classifier_health_mentions_en_3_0.html)                | This model is a PHS-BERT based sequence classification model that can classify public health mentions in social media text. | `health_mention` `other_mention` `figurative_mention`                  |\n",
    "|[bert_sequence_classifier_question_statement_clinical](https://nlp.johnsnowlabs.com/2021/11/05/bert_sequence_classifier_question_statement_clinical_en.html)| This model makes sentence classification by distinguishing between Questions and Statements in the Clinical domain.      | `question` `statement`|\n",
    "|[Bert_sequence_classifier_patient_complaint](https://nlp.johnsnowlabs.com/2023/08/31/bert_sequence_classifier_patient_complaint_en.html)|This model classifies the health-related sentiments |`complaint / no-complaint`|\n",
    "[bert_sequence_classifier_patient_urgency](https://nlp.johnsnowlabs.com/2023/07/09/bert_sequence_classifier_patient_urgency_en.html) |This Patient Urgency Text Classifier is for analyzing the emergency level of medical situations that require immediate assistance from the medical organizations.|`High` `Medium` `Low`|"
   ]
  },
  {
   "cell_type": "markdown",
   "metadata": {
    "application/vnd.databricks.v1+cell": {
     "cellMetadata": {
      "byteLimit": 2048000,
      "rowLimit": 10000
     },
     "inputWidgets": {},
     "nuid": "876e4b4b-c46d-452d-b511-bdc8b1d9a7ce",
     "showTitle": false,
     "tableResultSettingsMap": {},
     "title": ""
    }
   },
   "source": [
    "*`bert_sequence_classifier_health_mentions`*"
   ]
  },
  {
   "cell_type": "code",
   "execution_count": 0,
   "metadata": {
    "application/vnd.databricks.v1+cell": {
     "cellMetadata": {
      "byteLimit": 2048000,
      "rowLimit": 10000
     },
     "inputWidgets": {},
     "nuid": "03f20516-7cc5-4d15-b35d-e12b5616068e",
     "showTitle": false,
     "tableResultSettingsMap": {},
     "title": ""
    }
   },
   "outputs": [
    {
     "output_type": "stream",
     "name": "stdout",
     "output_type": "stream",
     "text": [
      "bert_sequence_classifier_health_mentions download started this may take some time.\n\r[ | ]\r[OK!]\n+-------------------------------------------------------------------------------------------------------------------------------+----------------+\n|text                                                                                                                           |result          |\n+-------------------------------------------------------------------------------------------------------------------------------+----------------+\n|Another uncle of mine had a heart attack and passed away. Will be cremated Saturday I think I ve gone numb again RIP Uncle Mike|[health_mention]|\n+-------------------------------------------------------------------------------------------------------------------------------+----------------+\n\n"
     ]
    }
   ],
   "source": [
    "document_assembler = nlp.DocumentAssembler() \\\n",
    "    .setInputCol(\"text\") \\\n",
    "    .setOutputCol(\"document\")\n",
    "\n",
    "tokenizer = nlp.Tokenizer() \\\n",
    "    .setInputCols([\"document\"]) \\\n",
    "    .setOutputCol(\"token\")\n",
    "\n",
    "sequenceClassifier = medical.BertForSequenceClassification.pretrained(\"bert_sequence_classifier_health_mentions\", \"en\", \"clinical/models\")\\\n",
    "    .setInputCols([\"document\",\"token\"])\\\n",
    "    .setOutputCol(\"predicted_class\")\n",
    "\n",
    "pipeline = nlp.Pipeline(stages=[\n",
    "    document_assembler,\n",
    "    tokenizer,\n",
    "    sequenceClassifier\n",
    "])\n",
    "\n",
    "model_mention = pipeline.fit(spark.createDataFrame([[\"\"]]).toDF(\"text\"))\n",
    "\n",
    "data = spark.createDataFrame([[\"Another uncle of mine had a heart attack and passed away. Will be cremated Saturday I think I ve gone numb again RIP Uncle Mike\"]]).toDF(\"text\")\n",
    "\n",
    "result = model_mention.transform(data)\n",
    "\n",
    "result.select(\"text\", \"predicted_class.result\").show(truncate=False)"
   ]
  },
  {
   "cell_type": "markdown",
   "metadata": {
    "application/vnd.databricks.v1+cell": {
     "cellMetadata": {
      "byteLimit": 2048000,
      "rowLimit": 10000
     },
     "inputWidgets": {},
     "nuid": "770c9822-99b7-4799-afb1-3017ad07a5c7",
     "showTitle": false,
     "tableResultSettingsMap": {},
     "title": ""
    },
    "id": "ICqFXkaqai6L"
   },
   "source": [
    "### 🔎with LightPipeline"
   ]
  },
  {
   "cell_type": "markdown",
   "metadata": {
    "application/vnd.databricks.v1+cell": {
     "cellMetadata": {
      "byteLimit": 2048000,
      "rowLimit": 10000
     },
     "inputWidgets": {},
     "nuid": "d4767031-5213-4712-aff1-97e2761afe39",
     "showTitle": false,
     "tableResultSettingsMap": {},
     "title": ""
    },
    "id": "q_i-k-mcd8S3"
   },
   "source": [
    "📌Let's show how we can use our same model as LightPipeline"
   ]
  },
  {
   "cell_type": "code",
   "execution_count": 0,
   "metadata": {
    "application/vnd.databricks.v1+cell": {
     "cellMetadata": {
      "byteLimit": 2048000,
      "rowLimit": 10000
     },
     "inputWidgets": {},
     "nuid": "c287e89e-801c-47e4-ba87-61be23b95db5",
     "showTitle": false,
     "tableResultSettingsMap": {},
     "title": ""
    },
    "id": "9w8T9veEd-q8"
   },
   "outputs": [],
   "source": [
    "sample_text = \"I don't wanna fall in love. If I ever did that, I think I'd have a heart attack\"\n",
    "\n",
    "light_model = nlp.LightPipeline(model_mention)\n",
    "light_result = light_model.fullAnnotate(sample_text)"
   ]
  },
  {
   "cell_type": "code",
   "execution_count": 0,
   "metadata": {
    "application/vnd.databricks.v1+cell": {
     "cellMetadata": {
      "byteLimit": 2048000,
      "rowLimit": 10000
     },
     "inputWidgets": {},
     "nuid": "1485a0d5-e27f-46d7-a051-4b9bdb6c9112",
     "showTitle": false,
     "tableResultSettingsMap": {},
     "title": ""
    },
    "colab": {
     "base_uri": "https://localhost:8080/",
     "height": 34
    },
    "id": "S-i7s0ajoLt-",
    "outputId": "58b7352f-d84e-470f-bd88-c25daca3a21f"
   },
   "outputs": [
    {
     "output_type": "execute_result",
     "data": {
      "text/plain": [
       "'figurative_mention'"
      ]
     },
     "execution_count": 11,
     "metadata": {},
     "output_type": "execute_result"
    }
   ],
   "source": [
    "light_result[0]['predicted_class'][0].result"
   ]
  },
  {
   "cell_type": "markdown",
   "metadata": {
    "application/vnd.databricks.v1+cell": {
     "cellMetadata": {
      "byteLimit": 2048000,
      "rowLimit": 10000
     },
     "inputWidgets": {},
     "nuid": "350260c3-22e4-4d92-87a3-f84855bf3a6e",
     "showTitle": false,
     "tableResultSettingsMap": {},
     "title": ""
    }
   },
   "source": [
    "### PipelineTracer and PipelineOutputParser"
   ]
  },
  {
   "cell_type": "code",
   "execution_count": 0,
   "metadata": {
    "application/vnd.databricks.v1+cell": {
     "cellMetadata": {
      "byteLimit": 2048000,
      "rowLimit": 10000
     },
     "inputWidgets": {},
     "nuid": "4207ceda-0996-4864-8488-32aa69549197",
     "showTitle": false,
     "tableResultSettingsMap": {},
     "title": ""
    }
   },
   "outputs": [],
   "source": [
    "from sparknlp_jsl.pipeline_tracer import PipelineTracer\n",
    "import pandas as pd"
   ]
  },
  {
   "cell_type": "code",
   "execution_count": 0,
   "metadata": {
    "application/vnd.databricks.v1+cell": {
     "cellMetadata": {
      "byteLimit": 2048000,
      "rowLimit": 10000
     },
     "inputWidgets": {},
     "nuid": "73070f2a-0681-4735-98f2-15a082913db7",
     "showTitle": false,
     "tableResultSettingsMap": {},
     "title": ""
    }
   },
   "outputs": [
    {
     "output_type": "execute_result",
     "data": {
      "text/plain": [
       "{'document_identifier': 'bert_sequence_classifier_health_mentions',\n",
       " 'document_text': 'document',\n",
       " 'entities': [],\n",
       " 'assertions': [],\n",
       " 'resolutions': [],\n",
       " 'relations': [],\n",
       " 'summaries': [],\n",
       " 'deidentifications': [],\n",
       " 'classifications': [{'classification_column_name': 'predicted_class',\n",
       "   'sentence_column_name': 'document'}]}"
      ]
     },
     "execution_count": 18,
     "metadata": {},
     "output_type": "execute_result"
    }
   ],
   "source": [
    "pipeline_tracer = PipelineTracer(model_mention)\n",
    "\n",
    "column_maps = pipeline_tracer.createParserDictionary()\n",
    "column_maps.update({\"document_identifier\": \"bert_sequence_classifier_health_mentions\"})\n",
    "column_maps"
   ]
  },
  {
   "cell_type": "code",
   "execution_count": 0,
   "metadata": {
    "application/vnd.databricks.v1+cell": {
     "cellMetadata": {
      "byteLimit": 2048000,
      "rowLimit": 10000
     },
     "inputWidgets": {},
     "nuid": "4e3c055d-0d28-4764-80db-483d779f2043",
     "showTitle": false,
     "tableResultSettingsMap": {},
     "title": ""
    }
   },
   "outputs": [
    {
     "output_type": "execute_result",
     "data": {
      "text/plain": [
       "{'document_identifier': 'bert_sequence_classifier_health_mentions',\n",
       " 'document_id': 0,\n",
       " 'document_text': [\"I don't wanna fall in love. If I ever did that, I think I'd have a heart attack\"],\n",
       " 'entities': [],\n",
       " 'assertions': [],\n",
       " 'resolutions': [],\n",
       " 'relations': [],\n",
       " 'summaries': [],\n",
       " 'deidentifications': [],\n",
       " 'classifications': [{'category': 'figurative_mention',\n",
       "   'sentence': \"I don't wanna fall in love. If I ever did that, I think I'd have a heart attack\",\n",
       "   'sentence_id': None}]}"
      ]
     },
     "execution_count": 20,
     "metadata": {},
     "output_type": "execute_result"
    }
   ],
   "source": [
    "column_maps = {\n",
    "    'document_identifier': 'bert_sequence_classifier_health_mentions',\n",
    "    'document_text': 'document',\n",
    "    'entities': [],\n",
    "    'assertions': [],\n",
    "    'resolutions': [],\n",
    "    'relations': [],\n",
    "    'summaries': [],\n",
    "    'deidentifications': [],\n",
    "    'classifications': [\n",
    "        {\n",
    "            'classification_column_name': 'predicted_class',\n",
    "            'sentence_column_name': 'document'\n",
    "        }\n",
    "    ]\n",
    "}\n",
    "\n",
    "pipeline_parser = medical.PipelineOutputParser(column_maps)\n",
    "result = pipeline_parser.run(light_result, return_relation_entities=True )\n",
    "\n",
    "result['result'][0]"
   ]
  },
  {
   "cell_type": "code",
   "execution_count": 0,
   "metadata": {
    "application/vnd.databricks.v1+cell": {
     "cellMetadata": {
      "byteLimit": 2048000,
      "rowLimit": 10000
     },
     "inputWidgets": {},
     "nuid": "5d349a70-445c-432e-8240-d5b831405c87",
     "showTitle": false,
     "tableResultSettingsMap": {},
     "title": ""
    }
   },
   "outputs": [
    {
     "output_type": "execute_result",
     "data": {
      "text/html": [
       "<div>\n",
       "<style scoped>\n",
       "    .dataframe tbody tr th:only-of-type {\n",
       "        vertical-align: middle;\n",
       "    }\n",
       "\n",
       "    .dataframe tbody tr th {\n",
       "        vertical-align: top;\n",
       "    }\n",
       "\n",
       "    .dataframe thead th {\n",
       "        text-align: right;\n",
       "    }\n",
       "</style>\n",
       "<table border=\"1\" class=\"dataframe\">\n",
       "  <thead>\n",
       "    <tr style=\"text-align: right;\">\n",
       "      <th></th>\n",
       "      <th>category</th>\n",
       "      <th>sentence</th>\n",
       "    </tr>\n",
       "  </thead>\n",
       "  <tbody>\n",
       "    <tr>\n",
       "      <th>0</th>\n",
       "      <td>figurative_mention</td>\n",
       "      <td>I don't wanna fall in love. If I ever did that, I think I'd have a heart attack</td>\n",
       "    </tr>\n",
       "  </tbody>\n",
       "</table>\n",
       "</div>"
      ],
      "text/plain": [
       "             category                                                                         sentence\n",
       "0  figurative_mention  I don't wanna fall in love. If I ever did that, I think I'd have a heart attack"
      ]
     },
     "execution_count": 22,
     "metadata": {},
     "output_type": "execute_result"
    }
   ],
   "source": [
    "classifications_df = pd.DataFrame.from_dict(result[\"result\"][0][\"classifications\"]).drop(columns=('sentence_id'))\n",
    "classifications_df"
   ]
  },
  {
   "cell_type": "markdown",
   "metadata": {
    "application/vnd.databricks.v1+cell": {
     "cellMetadata": {
      "byteLimit": 2048000,
      "rowLimit": 10000
     },
     "inputWidgets": {},
     "nuid": "d20912bb-b359-40d8-b0ef-dece37103f68",
     "showTitle": false,
     "tableResultSettingsMap": {},
     "title": ""
    }
   },
   "source": [
    "### 📌 Patient Urgency Classifier (BioBERT)"
   ]
  },
  {
   "cell_type": "code",
   "execution_count": 0,
   "metadata": {
    "application/vnd.databricks.v1+cell": {
     "cellMetadata": {
      "byteLimit": 2048000,
      "rowLimit": 10000
     },
     "inputWidgets": {},
     "nuid": "434d6734-88ec-4323-81c4-ea9c87a1a275",
     "showTitle": false,
     "tableResultSettingsMap": {},
     "title": ""
    }
   },
   "outputs": [],
   "source": [
    "from sparknlp_jsl.annotator import *"
   ]
  },
  {
   "cell_type": "code",
   "execution_count": 0,
   "metadata": {
    "application/vnd.databricks.v1+cell": {
     "cellMetadata": {
      "byteLimit": 2048000,
      "rowLimit": 10000
     },
     "inputWidgets": {},
     "nuid": "c7ad821a-1af0-4bb7-b63c-10e9c12198e0",
     "showTitle": false,
     "tableResultSettingsMap": {},
     "title": ""
    }
   },
   "outputs": [
    {
     "output_type": "stream",
     "name": "stdout",
     "output_type": "stream",
     "text": [
      "bert_sequence_classifier_patient_urgency download started this may take some time.\n\r[ | ]\r[ / ]\r[ — ]\r[ \\ ]\r[ | ]\r[ / ]\r[ — ]\r[ \\ ]\r[ | ]\r[ / ]\r[ — ]\r[OK!]\n"
     ]
    }
   ],
   "source": [
    "document_assembler = nlp.DocumentAssembler()\\\n",
    "    .setInputCol(\"text\")\\\n",
    "    .setOutputCol(\"document\")\n",
    "\n",
    "tokenizer = nlp.Tokenizer() \\\n",
    "    .setInputCols([\"document\"]) \\\n",
    "    .setOutputCol(\"token\")\n",
    "\n",
    "sequenceClassifier = MedicalBertForSequenceClassification.pretrained(\"bert_sequence_classifier_patient_urgency\", \"en\", \"clinical/models\")\\\n",
    "    .setInputCols([\"document\", \"token\"])\\\n",
    "    .setOutputCol(\"prediction\")\n",
    "\n",
    "clf_Pipeline = nlp.Pipeline(stages=[\n",
    "    document_assembler,\n",
    "    tokenizer,\n",
    "    sequenceClassifier])\n",
    "\n",
    "data = spark.createDataFrame([[\"\"\"I think my father is having a stroke. His face is drooping, he can’t move his right side and he’s slurring his speech. He is breathing, but it’s really ragged. And, he is not responding when I talk to him…he seems out of it.\"\"\"],\n",
    " [\"\"\"My old neighbor has fallen and cannot get up. She is conscious, but she is in a lot of pain and cannot move.\"\"\"],\n",
    " [\"\"\"My wife has been in pain all morning. She had an operation a few days ago. This morning, she woke up in pain and is having a hard time moving around. The pain is around the surgery area. It is not severe, but it’s making her uncomfortable. She does not have fever, nausea or vomiting. There’s some slight feeling of being bloated.\"\"\"],\n",
    " ]).toDF(\"text\")\n",
    "\n",
    "result = clf_Pipeline.fit(data).transform(data)"
   ]
  },
  {
   "cell_type": "code",
   "execution_count": 0,
   "metadata": {
    "application/vnd.databricks.v1+cell": {
     "cellMetadata": {
      "byteLimit": 2048000,
      "rowLimit": 10000
     },
     "inputWidgets": {},
     "nuid": "2101496c-de37-4817-895b-302d1a4e549b",
     "showTitle": false,
     "tableResultSettingsMap": {},
     "title": ""
    }
   },
   "outputs": [
    {
     "output_type": "execute_result",
     "data": {
      "text/plain": [
       "['High', 'Low', 'Medium']"
      ]
     },
     "execution_count": 28,
     "metadata": {},
     "output_type": "execute_result"
    }
   ],
   "source": [
    "sequenceClassifier.getClasses()"
   ]
  },
  {
   "cell_type": "code",
   "execution_count": 0,
   "metadata": {
    "application/vnd.databricks.v1+cell": {
     "cellMetadata": {
      "byteLimit": 2048000,
      "rowLimit": 10000
     },
     "inputWidgets": {},
     "nuid": "e4990bb0-66c8-482c-8369-1c08adb73507",
     "showTitle": false,
     "tableResultSettingsMap": {},
     "title": ""
    }
   },
   "outputs": [
    {
     "output_type": "stream",
     "name": "stdout",
     "output_type": "stream",
     "text": [
      "+--------+------------------------------------------------------------------------------------------------------------------------------------------------------------------------------------------------------------------------------------------------------------------------------------------------------------------------------------------+\n|result  |text                                                                                                                                                                                                                                                                                                                                      |\n+--------+------------------------------------------------------------------------------------------------------------------------------------------------------------------------------------------------------------------------------------------------------------------------------------------------------------------------------------------+\n|[High]  |I think my father is having a stroke. His face is drooping, he can’t move his right side and he’s slurring his speech. He is breathing, but it’s really ragged. And, he is not responding when I talk to him…he seems out of it.                                                                                                          |\n|[Medium]|My old neighbor has fallen and cannot get up. She is conscious, but she is in a lot of pain and cannot move.                                                                                                                                                                                                                              |\n|[Low]   |My wife has been in pain all morning. She had an operation a few days ago. This morning, she woke up in pain and is having a hard time moving around. The pain is around the surgery area. It is not severe, but it’s making her uncomfortable. She does not have fever, nausea or vomiting. There’s some slight feeling of being bloated.|\n+--------+------------------------------------------------------------------------------------------------------------------------------------------------------------------------------------------------------------------------------------------------------------------------------------------------------------------------------------------+\n\n"
     ]
    }
   ],
   "source": [
    "result.select(\"prediction.result\", \"text\").show(truncate=False)"
   ]
  },
  {
   "cell_type": "markdown",
   "metadata": {
    "application/vnd.databricks.v1+cell": {
     "cellMetadata": {
      "byteLimit": 2048000,
      "rowLimit": 10000
     },
     "inputWidgets": {},
     "nuid": "16be6625-133d-4cd2-9131-993f02e34356",
     "showTitle": false,
     "tableResultSettingsMap": {},
     "title": ""
    }
   },
   "source": [
    "> ### 📌Covid-19 Sentiment Classification Model"
   ]
  },
  {
   "cell_type": "markdown",
   "metadata": {
    "application/vnd.databricks.v1+cell": {
     "cellMetadata": {
      "byteLimit": 2048000,
      "rowLimit": 10000
     },
     "inputWidgets": {},
     "nuid": "79b8d484-4b98-41b2-b1ea-1c2b9ddd6612",
     "showTitle": false,
     "tableResultSettingsMap": {},
     "title": ""
    },
    "id": "70iI1_dWJbh-"
   },
   "source": [
    "## 🔹 MBFSC Models Related to Covid"
   ]
  },
  {
   "cell_type": "markdown",
   "metadata": {
    "application/vnd.databricks.v1+cell": {
     "cellMetadata": {
      "byteLimit": 2048000,
      "rowLimit": 10000
     },
     "inputWidgets": {},
     "nuid": "8c0944b4-ab50-4755-9ad2-db304b31c144",
     "showTitle": false,
     "tableResultSettingsMap": {},
     "title": ""
    },
    "id": "JsLD2mI5EC7Z"
   },
   "source": [
    "| model name                                                                                                                                                                    | description                                                                             | predicted entities                                         |\n",
    "|-------------------------------------------------------------------------------------------------------------------------------------------------------------------------------|-----------------------------------------------------------------------------------------|------------------------------------------------------------|\n",
    "|[bert_sequence_classifier_covid_sentiment](https://nlp.johnsnowlabs.com/2022/08/01/bert_sequence_classifier_covid_sentiment_en_3_0.html)                                           | This model is a BioBERT based sentiment analysis model that can extract information from COVID-19 pandemic-related tweets.                       | `neutral` `positive` `negative`                                              |\n",
    "|[bert_sequence_classifier_vaccine_sentiment](https://nlp.johnsnowlabs.com/2022/07/28/bert_sequence_classifier_vaccine_sentiment_en_3_0.html)             | This model is a BioBERT based sentimental analysis model that can extract information from COVID-19 Vaccine-related tweets.                            | `neutral` `positive` `negative`                                   |\n",
    "|[bert_sequence_classifier_self_reported_vaccine_status_tweet](https://nlp.johnsnowlabs.com/2022/07/29/bert_sequence_classifier_self_reported_vaccine_status_tweet_en_3_0.html)             | Classification of tweets indicating self-reported COVID-19 vaccination status. This model involves the identification of self-reported COVID-19 vaccination status in English tweets.                           | `Vaccine_chatter` `Self_reports`                                   |\n",
    "|[bert_sequence_classifier_health_mandates_stance_tweet](https://nlp.johnsnowlabs.com/2022/08/08/bert_sequence_classifier_health_mandates_stance_tweet_en_3_0.html)             | This model is a BioBERT based classifier that can classify stance about health mandates related to Covid-19 from tweets.  | `Support` `Disapproval` `Not stated `                                   |\n",
    "|[bert_sequence_classifier_health_mandates_premise_tweet](https://nlp.johnsnowlabs.com/2022/08/08/bert_sequence_classifier_health_mandates_premise_tweet_en_3_0.html)             | This model is a BioBERT based classifier that can classify premise about health mandates related to Covid-19 from tweets. | `Has premise (argument)` `Has no premise (no argument)`                                  |"
   ]
  },
  {
   "cell_type": "markdown",
   "metadata": {
    "application/vnd.databricks.v1+cell": {
     "cellMetadata": {
      "byteLimit": 2048000,
      "rowLimit": 10000
     },
     "inputWidgets": {},
     "nuid": "ebb5cd8a-e4f1-4695-a416-77089e827163",
     "showTitle": false,
     "tableResultSettingsMap": {},
     "title": ""
    },
    "id": "Ai9wg7Mc4oGL"
   },
   "source": [
    "*`bert_sequence_classifier_covid_sentiment`*"
   ]
  },
  {
   "cell_type": "code",
   "execution_count": 0,
   "metadata": {
    "application/vnd.databricks.v1+cell": {
     "cellMetadata": {
      "byteLimit": 2048000,
      "rowLimit": 10000
     },
     "inputWidgets": {},
     "nuid": "c71aae70-80fa-4ce6-a3d1-e35a55fd1931",
     "showTitle": false,
     "tableResultSettingsMap": {},
     "title": ""
    },
    "colab": {
     "base_uri": "https://localhost:8080/"
    },
    "id": "2EkA0iGK4ZSO",
    "outputId": "5235a236-9fa8-451c-8bfe-445145a77849"
   },
   "outputs": [
    {
     "output_type": "stream",
     "name": "stdout",
     "output_type": "stream",
     "text": [
      "bert_sequence_classifier_covid_sentiment download started this may take some time.\n\r[ | ]\r[ / ]\r[ — ]\r[ \\ ]\r[ | ]\r[ / ]\r[ — ]\r[ \\ ]\r[ | ]\r[ / ]\r[ — ]\r[ \\ ]\r[ | ]\r[ / ]\r[ — ]\r[ \\ ]\r[OK!]\n+---------------------------------------------------------------------------------------------------------+----------+\n|text                                                                                                     |result    |\n+---------------------------------------------------------------------------------------------------------+----------+\n|British Department of Health confirms first two cases of in UK                                           |[neutral] |\n|so my trip to visit my australian exchange student just got canceled bc of coronavirus. im heartbroken :(|[negative]|\n|I wish everyone to be safe at home and stop pandemic                                                     |[positive]|\n+---------------------------------------------------------------------------------------------------------+----------+\n\n"
     ]
    }
   ],
   "source": [
    "sequenceClassifier = medical.BertForSequenceClassification.pretrained(\"bert_sequence_classifier_covid_sentiment\", \"en\", \"clinical/models\")\\\n",
    "    .setInputCols([\"document\",\"token\"])\\\n",
    "    .setOutputCol(\"predicted_class\")\n",
    "\n",
    "pipeline = nlp.Pipeline(stages=[\n",
    "    document_assembler, \n",
    "    tokenizer,\n",
    "    sequenceClassifier    \n",
    "])\n",
    "\n",
    "data = spark.createDataFrame([\n",
    "    [\"British Department of Health confirms first two cases of in UK\"],\n",
    "    [\"so my trip to visit my australian exchange student just got canceled bc of coronavirus. im heartbroken :(\"], \n",
    "    [ \"I wish everyone to be safe at home and stop pandemic\"]]\n",
    ").toDF(\"text\")\n",
    "\n",
    "result = pipeline.fit(data).transform(data)\n",
    "\n",
    "result.select(\"text\", \"predicted_class.result\").show(truncate=False)"
   ]
  },
  {
   "cell_type": "markdown",
   "metadata": {
    "application/vnd.databricks.v1+cell": {
     "cellMetadata": {
      "byteLimit": 2048000,
      "rowLimit": 10000
     },
     "inputWidgets": {},
     "nuid": "98ce21c8-5aed-4eca-b836-44db21f3e53c",
     "showTitle": false,
     "tableResultSettingsMap": {},
     "title": ""
    }
   },
   "source": [
    "> ### 📌 Depression Level Classifier Model"
   ]
  },
  {
   "cell_type": "markdown",
   "metadata": {
    "application/vnd.databricks.v1+cell": {
     "cellMetadata": {
      "byteLimit": 2048000,
      "rowLimit": 10000
     },
     "inputWidgets": {},
     "nuid": "19bffbb1-83be-452e-8b53-33b023ba4e3e",
     "showTitle": false,
     "tableResultSettingsMap": {},
     "title": ""
    },
    "id": "ybNyMSfGKmcs"
   },
   "source": [
    "## 🔹 MBFSC Models related to Stress, Depression and Partner Violence"
   ]
  },
  {
   "cell_type": "markdown",
   "metadata": {
    "application/vnd.databricks.v1+cell": {
     "cellMetadata": {
      "byteLimit": 2048000,
      "rowLimit": 10000
     },
     "inputWidgets": {},
     "nuid": "5fb59f1e-f98a-4401-ab64-8ae90fe6ffb7",
     "showTitle": false,
     "tableResultSettingsMap": {},
     "title": ""
    },
    "id": "mIJwgkFlNFDU"
   },
   "source": [
    "| model name                                                                                                                                                                    | description                                                                             | predicted entities                                         |\n",
    "|-------------------------------------------------------------------------------------------------------------------------------------------------------------------------------|-----------------------------------------------------------------------------------------|------------------------------------------------------------|\n",
    "|[bert_sequence_classifier_stress](https://nlp.johnsnowlabs.com/2022/06/28/bert_sequence_classifier_stress_en_3_0.html)| This model is a PHS-BERT-based classifier that can classify whether the content of a text expresses emotional stress.         | `stress` `no-stress`|\n",
    "|[bert_sequence_classifier_stressor](https://nlp.johnsnowlabs.com/2022/07/27/bert_sequence_classifier_stressor_en_3_0.html)| This model is a bioBERT based classifier that can classify source of emotional stress in text.        | `Family_Issues` `Financial_Problem` `Health_Fatigue_or_Physical` `Pain` `Other``School` `Work` `Social_Relationships`|\n",
    "|[bert_sequence_classifier_self_reported_stress_tweet](https://nlp.johnsnowlabs.com/2022/07/29/bert_sequence_classifier_self_reported_stress_tweet_en_3_0.html )                | This model classifies stress in social media (Twitter) posts in the self-disclosure category.| `stressed` `not-stressed`                   |\n",
    "|[bert_sequence_classifier_depression](https://nlp.johnsnowlabs.com/2022/08/09/bert_sequence_classifier_depression_en_3_0.html)| This model is a PHS-BERT based text classification model that can classify depression level of social media text into three levels.         | `no-depression` `minimum` `high-depression`|\n",
    "|[bert_sequence_classifier_depression_binary](https://nlp.johnsnowlabs.com/2022/08/10/bert_sequence_classifier_depression_binary_en_3_0.html)| This model is a PHS-BERT based text classification model that can classify whether a social media text expresses depression or not.          | `no-depression` `depression`|\n",
    "|[bert_sequence_classifier_depression_twitter](https://nlp.johnsnowlabs.com/2022/08/09/bert_sequence_classifier_depression_twitter_en_3_0.html)| This model is a PHS-BERT based tweet classification model that can classify whether tweets contain depressive text.        | `no-depression` `depression`|\n",
    "|[bert_sequence_classifier_self_reported_partner_violence_tweet](https://nlp.johnsnowlabs.com/2022/07/28/bert_sequence_classifier_self_reported_partner_violence_tweet_en_3_0.html)| This model classifies self-reported Intimate partner violence (IPV) in tweets.          | `intimate_partner_violence` `non_intimate_partner_violence`|"
   ]
  },
  {
   "cell_type": "markdown",
   "metadata": {
    "application/vnd.databricks.v1+cell": {
     "cellMetadata": {
      "byteLimit": 2048000,
      "rowLimit": 10000
     },
     "inputWidgets": {},
     "nuid": "b670b4d5-5475-45a2-b63e-6410f79e6a38",
     "showTitle": false,
     "tableResultSettingsMap": {},
     "title": ""
    },
    "id": "j681HOsk-Tec"
   },
   "source": [
    "*`bert_sequence_classifier_depression`*"
   ]
  },
  {
   "cell_type": "code",
   "execution_count": 0,
   "metadata": {
    "application/vnd.databricks.v1+cell": {
     "cellMetadata": {
      "byteLimit": 2048000,
      "rowLimit": 10000
     },
     "inputWidgets": {},
     "nuid": "1e52b2b4-7ff0-4952-83a3-176a69558e9d",
     "showTitle": false,
     "tableResultSettingsMap": {},
     "title": ""
    },
    "colab": {
     "base_uri": "https://localhost:8080/"
    },
    "id": "1EN0mKN78vPb",
    "outputId": "491f335b-b7c5-4bbb-bc7d-ffe005b810f7"
   },
   "outputs": [
    {
     "output_type": "stream",
     "name": "stdout",
     "output_type": "stream",
     "text": [
      "bert_sequence_classifier_depression download started this may take some time.\n\r[ | ]\r[OK!]\n+---------------------------------------------------------------------------------------------------------------------------------+-----------------+\n|text                                                                                                                             |result           |\n+---------------------------------------------------------------------------------------------------------------------------------+-----------------+\n|None that I know of. Any mental health issue needs to be cared for like any other health issue. Doctors and medications can help.|[no-depression]  |\n|I don’t know. Was this okay? Should I hate him? Or was it just something new? I really don’t know what to make of the situation. |[minimum]        |\n|It makes me so disappointed in myself because I hate what I've become and I hate feeling so helpless.                            |[high-depression]|\n+---------------------------------------------------------------------------------------------------------------------------------+-----------------+\n\n"
     ]
    }
   ],
   "source": [
    "sequenceClassifier = medical.BertForSequenceClassification.pretrained(\"bert_sequence_classifier_depression\", \"en\", \"clinical/models\")\\\n",
    "    .setInputCols([\"document\",\"token\"])\\\n",
    "    .setOutputCol(\"predicted_class\")\n",
    "\n",
    "pipeline = nlp.Pipeline(stages=[\n",
    "    document_assembler, \n",
    "    tokenizer,\n",
    "    sequenceClassifier    \n",
    "])\n",
    "\n",
    "data = spark.createDataFrame([\n",
    "             [\"None that I know of. Any mental health issue needs to be cared for like any other health issue. Doctors and medications can help.\"], \n",
    "             [\"I don’t know. Was this okay? Should I hate him? Or was it just something new? I really don’t know what to make of the situation.\"], \n",
    "             [\"It makes me so disappointed in myself because I hate what I've become and I hate feeling so helpless.\"]\n",
    "    ]).toDF(\"text\")\n",
    "\n",
    "result = pipeline.fit(data).transform(data)\n",
    "result.select(\"text\", \"predicted_class.result\").show(truncate=False)"
   ]
  },
  {
   "cell_type": "markdown",
   "metadata": {
    "application/vnd.databricks.v1+cell": {
     "cellMetadata": {
      "byteLimit": 2048000,
      "rowLimit": 10000
     },
     "inputWidgets": {},
     "nuid": "ba7e8a01-6d6c-4ec7-97d7-20d2150c973d",
     "showTitle": false,
     "tableResultSettingsMap": {},
     "title": ""
    },
    "id": "UUWe-qJeNyRK"
   },
   "source": [
    "> ### 📌Self Reported Partner Violence Classifier Model\n",
    "\n",
    "*`bert_sequence_classifier_self_reported_partner_violence_tweet`*"
   ]
  },
  {
   "cell_type": "code",
   "execution_count": 0,
   "metadata": {
    "application/vnd.databricks.v1+cell": {
     "cellMetadata": {
      "byteLimit": 2048000,
      "rowLimit": 10000
     },
     "inputWidgets": {},
     "nuid": "1a9847e1-1482-4a96-9de0-c527b3228676",
     "showTitle": false,
     "tableResultSettingsMap": {},
     "title": ""
    },
    "colab": {
     "base_uri": "https://localhost:8080/"
    },
    "id": "Cnclf0Y_NvyQ",
    "outputId": "25d86a21-52d7-4746-9b5b-dcd415597118"
   },
   "outputs": [
    {
     "output_type": "stream",
     "name": "stdout",
     "output_type": "stream",
     "text": [
      "bert_sequence_classifier_self_reported_partner_violence_tweet download started this may take some time.\n\r[ | ]\r[ / ]\r[ — ]\r[ \\ ]\r[ | ]\r[ / ]\r[ — ]\r[ \\ ]\r[ | ]\r[ / ]\r[ — ]\r[OK!]\n+----------------------------------------------------------------------------------------------------+-------------------------------+\n|                                                                                                text|                         result|\n+----------------------------------------------------------------------------------------------------+-------------------------------+\n|                                             I am fed up with this toxic relation.I hate my husband.|[non-intimate_partner_violence]|\n|Can i say something real quick I ve never been one to publicly drag an ex partner and sometimes I...|    [intimate_partner_violence]|\n+----------------------------------------------------------------------------------------------------+-------------------------------+\n\n"
     ]
    }
   ],
   "source": [
    "sequenceClassifier = medical.BertForSequenceClassification.pretrained(\"bert_sequence_classifier_self_reported_partner_violence_tweet\", \"en\", \"clinical/models\")\\\n",
    "    .setInputCols([\"document\",'token'])\\\n",
    "    .setOutputCol(\"predicted_class\")\n",
    "\n",
    "pipeline = nlp.Pipeline(stages=[\n",
    "    document_assembler, \n",
    "    tokenizer,\n",
    "    sequenceClassifier    \n",
    "])\n",
    "\n",
    "example = spark.createDataFrame([\"I am fed up with this toxic relation.I hate my husband.\",\n",
    "                                 \"Can i say something real quick I ve never been one to publicly drag an ex partner and sometimes I regret that. I ve been reflecting on the harm, abuse and violence that was done to me and those bitches are truly lucky I chose peace amp therapy because they are trash forreal.\"], F.StringType()).toDF(\"text\")\n",
    "\n",
    "result = pipeline.fit(example).transform(example)\n",
    "\n",
    "result.select(\"text\", \"predicted_class.result\").show(truncate=100)"
   ]
  },
  {
   "cell_type": "markdown",
   "metadata": {
    "application/vnd.databricks.v1+cell": {
     "cellMetadata": {
      "byteLimit": 2048000,
      "rowLimit": 10000
     },
     "inputWidgets": {},
     "nuid": "4c49ca9b-bf59-4b11-bc54-cf0bcff744ce",
     "showTitle": false,
     "tableResultSettingsMap": {},
     "title": ""
    }
   },
   "source": [
    "> ## 📌Adverse Drug Event Classifier Model"
   ]
  },
  {
   "cell_type": "markdown",
   "metadata": {
    "application/vnd.databricks.v1+cell": {
     "cellMetadata": {
      "byteLimit": 2048000,
      "rowLimit": 10000
     },
     "inputWidgets": {},
     "nuid": "bef3a77f-1c1b-4d42-ac6a-c0da75eec66b",
     "showTitle": false,
     "tableResultSettingsMap": {},
     "title": ""
    },
    "id": "BCqR4TV6OOJb"
   },
   "source": [
    "## 🔹 MBFSC Models related to Treatment"
   ]
  },
  {
   "cell_type": "markdown",
   "metadata": {
    "application/vnd.databricks.v1+cell": {
     "cellMetadata": {
      "byteLimit": 2048000,
      "rowLimit": 10000
     },
     "inputWidgets": {},
     "nuid": "20f28117-34e8-42b9-87fe-5e3336f5bda3",
     "showTitle": false,
     "tableResultSettingsMap": {},
     "title": ""
    },
    "id": "NIZa749XQCMb"
   },
   "source": [
    "| model name                                                                                                                                                                    | description                                                                             | predicted entities                                         |\n",
    "|-------------------------------------------------------------------------------------------------------------------------------------------------------------------------------|-----------------------------------------------------------------------------------------|------------------------------------------------------------|\n",
    "|[bert_sequence_classifier_ade](https://nlp.johnsnowlabs.com/2022/02/08/bert_sequence_classifier_ade_en.html)                | This model is a BioBERT based classifier that classifies texts/sentences into two categories as True and False.| `True` `False`                   |\n",
    "|[bert_sequence_classifier_ade_augmented](https://nlp.johnsnowlabs.com/2022/07/27/bert_sequence_classifier_ade_augmented_en_3_0.html)| This model is a [BioBERT-based] (https://github.com/dmis-lab/biobert) classifier that can classify tweets reporting ADEs (Adverse Drug Events).        | `ADE` `no-ADE`|\n",
    "|[bert_sequence_classifier_drug_reviews_webmd](https://nlp.johnsnowlabs.com/2022/07/28/bert_sequence_classifier_drug_reviews_webmd_en_3_0.html)| This model is a BioBERT based classifier that can classify drug reviews from WebMD.com         | `negative` `positive`|\n",
    "|[bert_sequence_classifier_treatment_changes_sentiment_tweet](https://nlp.johnsnowlabs.com/2022/08/04/bert_sequence_classifier_treatment_changes_sentiment_tweet_en_3_0.html)| This model is a BioBERT based classifier that can classify patients non-adherent to their treatments and their reasons on Twitter.        | `negative` `positive`|"
   ]
  },
  {
   "cell_type": "markdown",
   "metadata": {
    "application/vnd.databricks.v1+cell": {
     "cellMetadata": {
      "byteLimit": 2048000,
      "rowLimit": 10000
     },
     "inputWidgets": {},
     "nuid": "43908a94-eaf9-42c6-8a33-d41b5fe5ead3",
     "showTitle": false,
     "tableResultSettingsMap": {},
     "title": ""
    },
    "id": "X8RcLh_wrHFa"
   },
   "source": [
    "*`bert_sequence_classifier_ade_augmented`*"
   ]
  },
  {
   "cell_type": "code",
   "execution_count": 0,
   "metadata": {
    "application/vnd.databricks.v1+cell": {
     "cellMetadata": {
      "byteLimit": 2048000,
      "rowLimit": 10000
     },
     "inputWidgets": {},
     "nuid": "cc63dedb-6334-4bce-8d66-05484c59f730",
     "showTitle": false,
     "tableResultSettingsMap": {},
     "title": ""
    },
    "colab": {
     "base_uri": "https://localhost:8080/"
    },
    "id": "MEULIOHzjk8S",
    "outputId": "903af896-3dda-49e9-c350-6249b4d3dd94"
   },
   "outputs": [
    {
     "output_type": "stream",
     "name": "stdout",
     "output_type": "stream",
     "text": [
      "bert_sequence_classifier_ade_augmented download started this may take some time.\n\r[ | ]\r[ / ]\r[ — ]\r[ \\ ]\r[ | ]\r[ / ]\r[ — ]\r[ \\ ]\r[ | ]\r[ / ]\r[ — ]\r[ \\ ]\r[ | ]\r[OK!]\n+-----------------------------------------------------------------------------------------------------------------------+-------+\n|text                                                                                                                   |result |\n+-----------------------------------------------------------------------------------------------------------------------+-------+\n|So glad I am off effexor, so sad it ruined my teeth. tip Please be carefull taking antideppresiva and read about it 1st|[ADE]  |\n|Religare Capital Ranbaxy has been accepting approval for Diovan since 2012                                             |[noADE]|\n+-----------------------------------------------------------------------------------------------------------------------+-------+\n\n"
     ]
    }
   ],
   "source": [
    "sequenceClassifier = medical.BertForSequenceClassification.pretrained(\"bert_sequence_classifier_ade_augmented\", \"en\", \"clinical/models\")\\\n",
    "    .setInputCols([\"document\",\"token\"])\\\n",
    "    .setOutputCol(\"predicted_class\")\n",
    "\n",
    "pipeline = nlp.Pipeline(stages=[\n",
    "    document_assembler, \n",
    "    tokenizer,\n",
    "    sequenceClassifier\n",
    "])\n",
    "\n",
    "data = spark.createDataFrame([\"So glad I am off effexor, so sad it ruined my teeth. tip Please be carefull taking antideppresiva and read about it 1st\",\n",
    "                              \"Religare Capital Ranbaxy has been accepting approval for Diovan since 2012\"], F.StringType()).toDF(\"text\")\n",
    "              \n",
    "result = pipeline.fit(data).transform(data)\n",
    "\n",
    "result.select(\"text\", \"predicted_class.result\").show(truncate=False)"
   ]
  },
  {
   "cell_type": "markdown",
   "metadata": {
    "application/vnd.databricks.v1+cell": {
     "cellMetadata": {
      "byteLimit": 2048000,
      "rowLimit": 10000
     },
     "inputWidgets": {},
     "nuid": "b3dc5ca0-b838-4d96-9153-7ab9ce8e5253",
     "showTitle": false,
     "tableResultSettingsMap": {},
     "title": ""
    },
    "id": "KZKFrFoTA8-8"
   },
   "source": [
    "> ### 📌Treatment Changes Sentiment Classifier Model\n",
    "\n",
    "*`bert_sequence_classifier_treatment_changes_sentiment_tweet`*"
   ]
  },
  {
   "cell_type": "code",
   "execution_count": 0,
   "metadata": {
    "application/vnd.databricks.v1+cell": {
     "cellMetadata": {
      "byteLimit": 2048000,
      "rowLimit": 10000
     },
     "inputWidgets": {},
     "nuid": "c99eea73-a032-4c70-b2ee-6b5a6f02388b",
     "showTitle": false,
     "tableResultSettingsMap": {},
     "title": ""
    },
    "colab": {
     "base_uri": "https://localhost:8080/"
    },
    "id": "2hySZZAG_wKl",
    "outputId": "a9cd26a9-4356-4d06-e418-87f03e1c192a"
   },
   "outputs": [
    {
     "output_type": "stream",
     "name": "stdout",
     "output_type": "stream",
     "text": [
      "bert_sequence_classifier_treatment_changes_sentiment_tweet download started this may take some time.\n\r[ | ]\r[ / ]\r[ — ]\r[ \\ ]\r[ | ]\r[ / ]\r[ — ]\r[ \\ ]\r[ | ]\r[ / ]\r[ — ]\r[ \\ ]\r[ | ]\r[ / ]\r[ — ]\r[OK!]\n+---------------------------------------------------------------------------------------------------------+----------+\n|text                                                                                                     |result    |\n+---------------------------------------------------------------------------------------------------------+----------+\n|I love when they say things like this. I took that ambien instead of my thyroid pill.                    |[positive]|\n|I am a 30 year old man who is not overweight but is still on the verge of needing a Lipitor prescription.|[negative]|\n+---------------------------------------------------------------------------------------------------------+----------+\n\n"
     ]
    }
   ],
   "source": [
    "sequenceClassifier = medical.BertForSequenceClassification.pretrained(\"bert_sequence_classifier_treatment_changes_sentiment_tweet\", \"en\", \"clinical/models\")\\\n",
    "    .setInputCols([\"document\",'token'])\\\n",
    "    .setOutputCol(\"predicted_class\")\n",
    "\n",
    "pipeline = nlp.Pipeline(stages=[\n",
    "    document_assembler, \n",
    "    tokenizer,\n",
    "    sequenceClassifier\n",
    "])\n",
    "\n",
    "data = spark.createDataFrame([\n",
    "                             [\"I love when they say things like this. I took that ambien instead of my thyroid pill.\"],\n",
    "                             [\"I am a 30 year old man who is not overweight but is still on the verge of needing a Lipitor prescription.\"]\n",
    "                             ]).toDF(\"text\")\n",
    "                          \n",
    "result = pipeline.fit(data).transform(data)\n",
    "\n",
    "result.select(\"text\", \"predicted_class.result\").show(truncate=False)"
   ]
  },
  {
   "cell_type": "markdown",
   "metadata": {
    "application/vnd.databricks.v1+cell": {
     "cellMetadata": {
      "byteLimit": 2048000,
      "rowLimit": 10000
     },
     "inputWidgets": {},
     "nuid": "90b90e0b-cdbf-4afe-97dc-af5bc003a2e2",
     "showTitle": false,
     "tableResultSettingsMap": {},
     "title": ""
    }
   },
   "source": [
    "> ## 📌Biomarker Classifier Model\n",
    "\n",
    "\n",
    "| model name                                                                                                                                                                    | description                                                                             | predicted entities                                         |\n",
    "|-------------------------------------------------------------------------------------------------------------------------------------------------------------------------------|-----------------------------------------------------------------------------------------|------------------------------------------------------------|\n",
    "|[bert_sequence_classifier_rct_biobert](https://nlp.johnsnowlabs.com/2022/03/01/bert_sequence_classifier_rct_biobert_en_3_0.html)                                           | This model is a BioBERT based sentence classification model that can determine whether the clinical sentences include terms related to biomarkers or not.                      | `1: Contains ` `0: Doesn’t contain `                                        |\n",
    "\n",
    "*`bert_sequence_classifier_biomarker`*"
   ]
  },
  {
   "cell_type": "code",
   "execution_count": 0,
   "metadata": {
    "application/vnd.databricks.v1+cell": {
     "cellMetadata": {
      "byteLimit": 2048000,
      "rowLimit": 10000
     },
     "inputWidgets": {},
     "nuid": "65868de4-39b1-49f9-871a-6f4edf728b65",
     "showTitle": false,
     "tableResultSettingsMap": {},
     "title": ""
    }
   },
   "outputs": [
    {
     "output_type": "stream",
     "name": "stdout",
     "output_type": "stream",
     "text": [
      "sentence_detector_dl_healthcare download started this may take some time.\nApproximate size to download 367.3 KB\n\r[ | ]\r[OK!]\nbert_sequence_classifier_biomarker download started this may take some time.\n\r[ | ]\r[ / ]\r[ — ]\r[ \\ ]\r[ | ]\r[ / ]\r[ — ]\r[ \\ ]\r[ | ]\r[ / ]\r[ — ]\r[ \\ ]\r[ | ]\r[ / ]\r[ — ]\r[ \\ ]\r[ | ]\r[ / ]\r[ — ]\r[ \\ ]\r[ | ]\r[ / ]\r[ — ]\r[ \\ ]\r[ | ]\r[ / ]\r[ — ]\r[ \\ ]\r[ | ]\r[ / ]\r[ — ]\r[ \\ ]\r[ | ]\r[ / ]\r[ — ]\r[ \\ ]\r[ | ]\r[ / ]\r[OK!]\n"
     ]
    }
   ],
   "source": [
    "document_assembler = nlp.DocumentAssembler() \\\n",
    "    .setInputCol('text') \\\n",
    "    .setOutputCol('document')\n",
    "\n",
    "sentence_detector = nlp.SentenceDetectorDLModel.pretrained(\"sentence_detector_dl_healthcare\",\"en\",\"clinical/models\") \\\n",
    "    .setInputCols([\"document\"]) \\\n",
    "    .setOutputCol(\"sentence\")\n",
    "\n",
    "tokenizer = nlp.Tokenizer() \\\n",
    "    .setInputCols(['sentence']) \\\n",
    "    .setOutputCol('token')\n",
    "\n",
    "sequenceClassifier = medical.BertForSequenceClassification.pretrained(\"bert_sequence_classifier_biomarker\",\"en\",\"clinical/models\")\\\n",
    "    .setInputCols([\"sentence\",'token'])\\\n",
    "    .setOutputCol(\"prediction\")\n",
    "\n",
    "pipeline = nlp.Pipeline(stages=[\n",
    "    document_assembler,\n",
    "    sentence_detector,\n",
    "    tokenizer,\n",
    "    sequenceClassifier\n",
    "])\n",
    "sample_text = \"\"\"In the realm of cancer research, several biomarkers have emerged as crucial indicators of disease progression and treatment response.\n",
    "  For instance, the expression levels of HER2/neu, a protein receptor, have been linked to aggressive forms of breast cancer.\n",
    "  Additionally, the presence of prostate-specific antigen (PSA) is often monitored to track the progression of prostate cancer.\n",
    "  Moreover, in cardiovascular health, high-sensitivity C-reactive protein (hs-CRP) serves as a biomarker for inflammation and potential risk of heart disease.\n",
    "  Meanwhile, elevated levels of troponin T are indicative of myocardial damage, commonly observed in acute coronary syndrome.\n",
    "  In the field of diabetes management, glycated hemoglobin is a widely used to assess long-term blood sugar control.\n",
    "  Its levels reflect the average blood glucose concentration over the past two to three months, offering valuable insights into disease management strategies.\"\"\"\n",
    "\n",
    "data = spark.createDataFrame([[sample_text]]).toDF(\"text\")\n",
    "\n",
    "model = pipeline.fit(data)\n",
    "result = model.transform(data)"
   ]
  },
  {
   "cell_type": "code",
   "execution_count": 0,
   "metadata": {
    "application/vnd.databricks.v1+cell": {
     "cellMetadata": {
      "byteLimit": 2048000,
      "rowLimit": 10000
     },
     "inputWidgets": {},
     "nuid": "3366a3c6-91d8-445e-a91f-9c82bd466949",
     "showTitle": false,
     "tableResultSettingsMap": {},
     "title": ""
    }
   },
   "outputs": [],
   "source": [
    "import pyspark.sql.functions as F"
   ]
  },
  {
   "cell_type": "code",
   "execution_count": 0,
   "metadata": {
    "application/vnd.databricks.v1+cell": {
     "cellMetadata": {
      "byteLimit": 2048000,
      "rowLimit": 10000
     },
     "inputWidgets": {},
     "nuid": "7e0b36f0-3391-408e-a0a9-6d935e872919",
     "showTitle": false,
     "tableResultSettingsMap": {},
     "title": ""
    }
   },
   "outputs": [
    {
     "output_type": "stream",
     "name": "stdout",
     "output_type": "stream",
     "text": [
      "+------------------------------------------------------------------------------------------------------------------------------------------------------------+----------+\n|sentence                                                                                                                                                    |prediction|\n+------------------------------------------------------------------------------------------------------------------------------------------------------------+----------+\n|In the realm of cancer research, several biomarkers have emerged as crucial indicators of disease progression and treatment response.                       |0         |\n|For instance, the expression levels of HER2/neu, a protein receptor, have been linked to aggressive forms of breast cancer.                                 |1         |\n|Additionally, the presence of prostate-specific antigen (PSA) is often monitored to track the progression of prostate cancer.                               |1         |\n|Moreover, in cardiovascular health, high-sensitivity C-reactive protein (hs-CRP) serves as a biomarker for inflammation and potential risk of heart disease.|1         |\n|Meanwhile, elevated levels of troponin T are indicative of myocardial damage, commonly observed in acute coronary syndrome.                                 |0         |\n|In the field of diabetes management, glycated hemoglobin is a widely used to assess long-term blood sugar control.                                          |0         |\n|Its levels reflect the average blood glucose concentration over the past two to three months, offering valuable insights into disease management strategies.|0         |\n+------------------------------------------------------------------------------------------------------------------------------------------------------------+----------+\n\n"
     ]
    }
   ],
   "source": [
    "result.select(F.explode(F.arrays_zip(result.sentence.result,\n",
    "                                     result.prediction.result)).alias(\"col\"))\\\n",
    "    .select(F.expr(\"col['0']\").alias(\"sentence\"),\n",
    "            F.expr(\"col['1']\").alias(\"prediction\")\n",
    "            ).show(truncate=False)"
   ]
  },
  {
   "cell_type": "code",
   "execution_count": 0,
   "metadata": {
    "application/vnd.databricks.v1+cell": {
     "cellMetadata": {
      "byteLimit": 2048000,
      "rowLimit": 10000
     },
     "inputWidgets": {},
     "nuid": "61126693-9ce9-46fb-ad14-36ff0d51f1f3",
     "showTitle": false,
     "tableResultSettingsMap": {},
     "title": ""
    }
   },
   "outputs": [],
   "source": [
    "light_model = nlp.LightPipeline(model)\n",
    "light_result = light_model.fullAnnotate(sample_text)"
   ]
  },
  {
   "cell_type": "code",
   "execution_count": 0,
   "metadata": {
    "application/vnd.databricks.v1+cell": {
     "cellMetadata": {
      "byteLimit": 2048000,
      "rowLimit": 10000
     },
     "inputWidgets": {},
     "nuid": "a1982e88-d45b-4c2e-97a9-6291880885ee",
     "showTitle": false,
     "tableResultSettingsMap": {},
     "title": ""
    }
   },
   "outputs": [],
   "source": [
    "pipeline_tracer = PipelineTracer(model)\n",
    "\n",
    "column_maps = pipeline_tracer.createParserDictionary()\n",
    "column_maps.update({\"document_identifier\": \"bert_sequence_classifier_treatment_changes_sentiment_tweet\"})\n",
    "#column_maps"
   ]
  },
  {
   "cell_type": "code",
   "execution_count": 0,
   "metadata": {
    "application/vnd.databricks.v1+cell": {
     "cellMetadata": {
      "byteLimit": 2048000,
      "rowLimit": 10000
     },
     "inputWidgets": {},
     "nuid": "ea6dfb56-3551-4e12-ae9c-9edc60cb17df",
     "showTitle": false,
     "tableResultSettingsMap": {},
     "title": ""
    }
   },
   "outputs": [
    {
     "output_type": "execute_result",
     "data": {
      "text/plain": [
       "{'document_identifier': 'bert_sequence_classifier_treatment_changes_sentiment_tweet',\n",
       " 'document_id': 0,\n",
       " 'document_text': ['In the realm of cancer research, several biomarkers have emerged as crucial indicators of disease progression and treatment response.\\n  For instance, the expression levels of HER2/neu, a protein receptor, have been linked to aggressive forms of breast cancer.\\n  Additionally, the presence of prostate-specific antigen (PSA) is often monitored to track the progression of prostate cancer.\\n  Moreover, in cardiovascular health, high-sensitivity C-reactive protein (hs-CRP) serves as a biomarker for inflammation and potential risk of heart disease.\\n  Meanwhile, elevated levels of troponin T are indicative of myocardial damage, commonly observed in acute coronary syndrome.\\n  In the field of diabetes management, glycated hemoglobin is a widely used to assess long-term blood sugar control.\\n  Its levels reflect the average blood glucose concentration over the past two to three months, offering valuable insights into disease management strategies.'],\n",
       " 'entities': [],\n",
       " 'assertions': [],\n",
       " 'resolutions': [],\n",
       " 'relations': [],\n",
       " 'summaries': [],\n",
       " 'deidentifications': [],\n",
       " 'classifications': [{'category': '0',\n",
       "   'sentence': 'In the realm of cancer research, several biomarkers have emerged as crucial indicators of disease progression and treatment response.',\n",
       "   'sentence_id': '0'},\n",
       "  {'category': '1',\n",
       "   'sentence': 'For instance, the expression levels of HER2/neu, a protein receptor, have been linked to aggressive forms of breast cancer.',\n",
       "   'sentence_id': '1'},\n",
       "  {'category': '1',\n",
       "   'sentence': 'Additionally, the presence of prostate-specific antigen (PSA) is often monitored to track the progression of prostate cancer.',\n",
       "   'sentence_id': '2'},\n",
       "  {'category': '1',\n",
       "   'sentence': 'Moreover, in cardiovascular health, high-sensitivity C-reactive protein (hs-CRP) serves as a biomarker for inflammation and potential risk of heart disease.',\n",
       "   'sentence_id': '3'},\n",
       "  {'category': '0',\n",
       "   'sentence': 'Meanwhile, elevated levels of troponin T are indicative of myocardial damage, commonly observed in acute coronary syndrome.',\n",
       "   'sentence_id': '4'},\n",
       "  {'category': '0',\n",
       "   'sentence': 'In the field of diabetes management, glycated hemoglobin is a widely used to assess long-term blood sugar control.',\n",
       "   'sentence_id': '5'},\n",
       "  {'category': '0',\n",
       "   'sentence': 'Its levels reflect the average blood glucose concentration over the past two to three months, offering valuable insights into disease management strategies.',\n",
       "   'sentence_id': '6'}]}"
      ]
     },
     "execution_count": 20,
     "metadata": {},
     "output_type": "execute_result"
    }
   ],
   "source": [
    "pipeline_parser = medical.PipelineOutputParser(column_maps,)\n",
    "result = pipeline_parser.run(light_result, return_relation_entities=True )\n",
    "\n",
    "result['result'][0]"
   ]
  },
  {
   "cell_type": "code",
   "execution_count": 0,
   "metadata": {
    "application/vnd.databricks.v1+cell": {
     "cellMetadata": {
      "byteLimit": 2048000,
      "rowLimit": 10000
     },
     "inputWidgets": {},
     "nuid": "8beaaef5-7a16-400c-9ed4-7eeaf30aff91",
     "showTitle": false,
     "tableResultSettingsMap": {},
     "title": ""
    }
   },
   "outputs": [
    {
     "output_type": "execute_result",
     "data": {
      "text/html": [
       "<div>\n",
       "<style scoped>\n",
       "    .dataframe tbody tr th:only-of-type {\n",
       "        vertical-align: middle;\n",
       "    }\n",
       "\n",
       "    .dataframe tbody tr th {\n",
       "        vertical-align: top;\n",
       "    }\n",
       "\n",
       "    .dataframe thead th {\n",
       "        text-align: right;\n",
       "    }\n",
       "</style>\n",
       "<table border=\"1\" class=\"dataframe\">\n",
       "  <thead>\n",
       "    <tr style=\"text-align: right;\">\n",
       "      <th></th>\n",
       "      <th>category</th>\n",
       "      <th>sentence</th>\n",
       "      <th>sentence_id</th>\n",
       "    </tr>\n",
       "  </thead>\n",
       "  <tbody>\n",
       "    <tr>\n",
       "      <th>0</th>\n",
       "      <td>0</td>\n",
       "      <td>In the realm of cancer research, several biomarkers have emerged as crucial indicators of diseas...</td>\n",
       "      <td>0</td>\n",
       "    </tr>\n",
       "    <tr>\n",
       "      <th>1</th>\n",
       "      <td>1</td>\n",
       "      <td>For instance, the expression levels of HER2/neu, a protein receptor, have been linked to aggress...</td>\n",
       "      <td>1</td>\n",
       "    </tr>\n",
       "    <tr>\n",
       "      <th>2</th>\n",
       "      <td>1</td>\n",
       "      <td>Additionally, the presence of prostate-specific antigen (PSA) is often monitored to track the pr...</td>\n",
       "      <td>2</td>\n",
       "    </tr>\n",
       "    <tr>\n",
       "      <th>3</th>\n",
       "      <td>1</td>\n",
       "      <td>Moreover, in cardiovascular health, high-sensitivity C-reactive protein (hs-CRP) serves as a bio...</td>\n",
       "      <td>3</td>\n",
       "    </tr>\n",
       "    <tr>\n",
       "      <th>4</th>\n",
       "      <td>0</td>\n",
       "      <td>Meanwhile, elevated levels of troponin T are indicative of myocardial damage, commonly observed ...</td>\n",
       "      <td>4</td>\n",
       "    </tr>\n",
       "    <tr>\n",
       "      <th>5</th>\n",
       "      <td>0</td>\n",
       "      <td>In the field of diabetes management, glycated hemoglobin is a widely used to assess long-term bl...</td>\n",
       "      <td>5</td>\n",
       "    </tr>\n",
       "    <tr>\n",
       "      <th>6</th>\n",
       "      <td>0</td>\n",
       "      <td>Its levels reflect the average blood glucose concentration over the past two to three months, of...</td>\n",
       "      <td>6</td>\n",
       "    </tr>\n",
       "  </tbody>\n",
       "</table>\n",
       "</div>"
      ],
      "text/plain": [
       "  category                                                                                             sentence sentence_id\n",
       "0        0  In the realm of cancer research, several biomarkers have emerged as crucial indicators of diseas...           0\n",
       "1        1  For instance, the expression levels of HER2/neu, a protein receptor, have been linked to aggress...           1\n",
       "2        1  Additionally, the presence of prostate-specific antigen (PSA) is often monitored to track the pr...           2\n",
       "3        1  Moreover, in cardiovascular health, high-sensitivity C-reactive protein (hs-CRP) serves as a bio...           3\n",
       "4        0  Meanwhile, elevated levels of troponin T are indicative of myocardial damage, commonly observed ...           4\n",
       "5        0  In the field of diabetes management, glycated hemoglobin is a widely used to assess long-term bl...           5\n",
       "6        0  Its levels reflect the average blood glucose concentration over the past two to three months, of...           6"
      ]
     },
     "execution_count": 21,
     "metadata": {},
     "output_type": "execute_result"
    }
   ],
   "source": [
    "classifications_df = pd.DataFrame.from_dict(result[\"result\"][0][\"classifications\"])\n",
    "classifications_df"
   ]
  },
  {
   "cell_type": "markdown",
   "metadata": {
    "application/vnd.databricks.v1+cell": {
     "cellMetadata": {
      "byteLimit": 2048000,
      "rowLimit": 10000
     },
     "inputWidgets": {},
     "nuid": "12be65e6-7547-4f8e-bc14-4b4d0c159ee5",
     "showTitle": false,
     "tableResultSettingsMap": {},
     "title": ""
    }
   },
   "source": [
    "> ### 📌Gender Classifier Model"
   ]
  },
  {
   "cell_type": "markdown",
   "metadata": {
    "application/vnd.databricks.v1+cell": {
     "cellMetadata": {
      "byteLimit": 2048000,
      "rowLimit": 10000
     },
     "inputWidgets": {},
     "nuid": "fb7bb5c6-da0c-475d-b529-a84cf817c8fd",
     "showTitle": false,
     "tableResultSettingsMap": {},
     "title": ""
    },
    "id": "tfWvQvrPQRDS"
   },
   "source": [
    "## 🔹 MBFSC Models related to Gender and Age"
   ]
  },
  {
   "cell_type": "markdown",
   "metadata": {
    "application/vnd.databricks.v1+cell": {
     "cellMetadata": {
      "byteLimit": 2048000,
      "rowLimit": 10000
     },
     "inputWidgets": {},
     "nuid": "28bf131c-f0b5-45c0-a897-fa3670697f5e",
     "showTitle": false,
     "tableResultSettingsMap": {},
     "title": ""
    },
    "id": "EAnXc3BAQ-xS"
   },
   "source": [
    "| model name                                                                                                                                                                    | description                                                                             | predicted entities                                         |\n",
    "|-------------------------------------------------------------------------------------------------------------------------------------------------------------------------------|-----------------------------------------------------------------------------------------|------------------------------------------------------------|\n",
    "|[bert_sequence_classifier_gender_biobert](https://nlp.johnsnowlabs.com/2022/02/08/bert_sequence_classifier_gender_biobert_en.html)                | This model classifies the gender of a patient in a clinical document using context.| `Female` `Male` `Unknown`                  |\n",
    "|[bert_sequence_classifier_exact_age_reddit](https://nlp.johnsnowlabs.com/2022/07/26/bert_sequence_classifier_exact_age_reddit_en_3_0.html)| This model is a BioBERT based classifier that can classify self-report the exact age into social media forum (Reddit) posts.       | `self_report_age` `no_report`|\n",
    "|[bert_sequence_classifier_self_reported_age_tweet](https://nlp.johnsnowlabs.com/2022/07/26/bert_sequence_classifier_self_reported_age_tweet_en_3_0.html)| This model is a BioBERT based classifier that can classify self-report the exact age into social media data.        | `self_report_age` `no_report`|"
   ]
  },
  {
   "cell_type": "markdown",
   "metadata": {
    "application/vnd.databricks.v1+cell": {
     "cellMetadata": {
      "byteLimit": 2048000,
      "rowLimit": 10000
     },
     "inputWidgets": {},
     "nuid": "b058fd6a-46b6-4ff3-827f-7d87156f265c",
     "showTitle": false,
     "tableResultSettingsMap": {},
     "title": ""
    },
    "id": "-zzPze9nrMlM"
   },
   "source": [
    "*`bert_sequence_classifier_gender_biobert`*"
   ]
  },
  {
   "cell_type": "code",
   "execution_count": 0,
   "metadata": {
    "application/vnd.databricks.v1+cell": {
     "cellMetadata": {
      "byteLimit": 2048000,
      "rowLimit": 10000
     },
     "inputWidgets": {},
     "nuid": "45b7b635-8395-4a14-a870-1cd4c4621028",
     "showTitle": false,
     "tableResultSettingsMap": {},
     "title": ""
    },
    "colab": {
     "base_uri": "https://localhost:8080/"
    },
    "id": "Fhk3ptIPll9b",
    "outputId": "e0c89f79-0a73-44f1-d88a-f532f5b13f3d"
   },
   "outputs": [
    {
     "output_type": "stream",
     "name": "stdout",
     "output_type": "stream",
     "text": [
      "bert_sequence_classifier_gender_biobert download started this may take some time.\n\r[ | ]\r[ / ]\r[ — ]\r[ \\ ]\r[ | ]\r[ / ]\r[ — ]\r[ \\ ]\r[ | ]\r[ / ]\r[ — ]\r[ \\ ]\r[ | ]\r[OK!]\n+--------------------------------------------------------------+------+\n|text                                                          |result|\n+--------------------------------------------------------------+------+\n|The patient took Advil and he experienced an adverse reaction.|[Male]|\n+--------------------------------------------------------------+------+\n\n"
     ]
    }
   ],
   "source": [
    "document_assembler = nlp.DocumentAssembler() \\\n",
    "  .setInputCol(\"text\") \\\n",
    "  .setOutputCol(\"document\")\n",
    "\n",
    "tokenizer = nlp.Tokenizer() \\\n",
    "  .setInputCols([\"document\"]) \\\n",
    "  .setOutputCol(\"token\")\n",
    "\n",
    "sequenceClassifier = medical.BertForSequenceClassification.pretrained(\"bert_sequence_classifier_gender_biobert\", \"en\", \"clinical/models\")\\\n",
    "  .setInputCols([\"document\",\"token\"]) \\\n",
    "  .setOutputCol(\"class\") \\\n",
    "  .setCaseSensitive(True) \\\n",
    "  .setMaxSentenceLength(512)\n",
    "\n",
    "\n",
    "pipeline = nlp.Pipeline(stages=[\n",
    "    document_assembler,\n",
    "    tokenizer,\n",
    "    sequenceClassifier\n",
    "      ])\n",
    "\n",
    "\n",
    "data = spark.createDataFrame([[\"The patient took Advil and he experienced an adverse reaction.\"]]).toDF(\"text\")\n",
    "result = pipeline.fit(data).transform(data)\n",
    "\n",
    "result.select(\"text\", \"class.result\").show(truncate=False)"
   ]
  },
  {
   "cell_type": "markdown",
   "metadata": {
    "application/vnd.databricks.v1+cell": {
     "cellMetadata": {
      "byteLimit": 2048000,
      "rowLimit": 10000
     },
     "inputWidgets": {},
     "nuid": "9ef6d643-5f2b-4a47-867f-06b677fcade4",
     "showTitle": false,
     "tableResultSettingsMap": {},
     "title": ""
    },
    "id": "VNtgECD3Ty7x"
   },
   "source": [
    "# 🔎CLINICAL TRIALS"
   ]
  },
  {
   "cell_type": "markdown",
   "metadata": {
    "application/vnd.databricks.v1+cell": {
     "cellMetadata": {
      "byteLimit": 2048000,
      "rowLimit": 10000
     },
     "inputWidgets": {},
     "nuid": "712710b5-c79c-47a2-8d8e-76e3e6ba3e98",
     "showTitle": false,
     "tableResultSettingsMap": {},
     "title": ""
    }
   },
   "source": [
    "> ### 📌RCT Classifier Model"
   ]
  },
  {
   "cell_type": "markdown",
   "metadata": {
    "application/vnd.databricks.v1+cell": {
     "cellMetadata": {
      "byteLimit": 2048000,
      "rowLimit": 10000
     },
     "inputWidgets": {},
     "nuid": "54bddca3-2c81-413c-8cce-1bef97f391bd",
     "showTitle": false,
     "tableResultSettingsMap": {},
     "title": ""
    },
    "id": "atlhJXivUHnc"
   },
   "source": [
    "## 🔹 MBFSC Models related to RCT(Randomized Clinical Trials)"
   ]
  },
  {
   "cell_type": "markdown",
   "metadata": {
    "application/vnd.databricks.v1+cell": {
     "cellMetadata": {
      "byteLimit": 2048000,
      "rowLimit": 10000
     },
     "inputWidgets": {},
     "nuid": "7e5918cd-14a5-493f-acc5-1f5ecad571a0",
     "showTitle": false,
     "tableResultSettingsMap": {},
     "title": ""
    },
    "id": "5IvsreUrU641"
   },
   "source": [
    "| model name                                                                                                                                                                    | description                                                                             | predicted entities                                         |\n",
    "|-------------------------------------------------------------------------------------------------------------------------------------------------------------------------------|-----------------------------------------------------------------------------------------|------------------------------------------------------------|\n",
    "|[bert_sequence_classifier_rct_biobert](https://nlp.johnsnowlabs.com/2022/03/01/bert_sequence_classifier_rct_biobert_en_3_0.html)                                           | This model is a BioBERT-based classifier that can classify the sections within the abstracts of scientific articles regarding randomized clinical trials (RCT).                       | `BACKGROUND` `CONCLUSIONS` `METHODS` `OBJECTIVE` `RESULTS`                                          |\n",
    "|[bert_sequence_classifier_binary_rct_biobert](https://nlp.johnsnowlabs.com/2022/04/25/bert_sequence_classifier_binary_rct_biobert_en_3_0.html)             | This model is a BioBERT based classifier that can classify if an article is a randomized clinical trial (RCT) or not.                            | `True` `False                               |"
   ]
  },
  {
   "cell_type": "markdown",
   "metadata": {
    "application/vnd.databricks.v1+cell": {
     "cellMetadata": {
      "byteLimit": 2048000,
      "rowLimit": 10000
     },
     "inputWidgets": {},
     "nuid": "5d0a50fe-ebe7-4ed6-95eb-2010a75f3005",
     "showTitle": false,
     "tableResultSettingsMap": {},
     "title": ""
    },
    "id": "za5sfg09U_UK"
   },
   "source": [
    "*`bert_sequence_classifier_rct_biobert`*"
   ]
  },
  {
   "cell_type": "code",
   "execution_count": 0,
   "metadata": {
    "application/vnd.databricks.v1+cell": {
     "cellMetadata": {
      "byteLimit": 2048000,
      "rowLimit": 10000
     },
     "inputWidgets": {},
     "nuid": "2778e725-2694-4e0c-84e8-fd0aff8b8cdf",
     "showTitle": false,
     "tableResultSettingsMap": {},
     "title": ""
    },
    "colab": {
     "base_uri": "https://localhost:8080/"
    },
    "id": "ZZYE5eFuU-z1",
    "outputId": "cb2a7e12-dad7-4db7-9065-2e98d0862a14"
   },
   "outputs": [
    {
     "output_type": "stream",
     "name": "stdout",
     "output_type": "stream",
     "text": [
      "bert_sequence_classifier_rct_biobert download started this may take some time.\n\r[ | ]\r[OK!]\n+----------------------------------------------------------------------------------------------------+------------+\n|                                                                                                text|      result|\n+----------------------------------------------------------------------------------------------------+------------+\n|Previous attempts to prevent all the unwanted postoperative responses to major surgery with an ep...|[BACKGROUND]|\n+----------------------------------------------------------------------------------------------------+------------+\n\n"
     ]
    }
   ],
   "source": [
    "sequenceClassifier_loaded = medical.BertForSequenceClassification.pretrained(\"bert_sequence_classifier_rct_biobert\", \"en\", \"clinical/models\")\\\n",
    "  .setInputCols([\"document\",'token'])\\\n",
    "  .setOutputCol(\"predicted_class\")\n",
    "\n",
    "\n",
    "pipeline = nlp.Pipeline(stages=[\n",
    "  document_assembler, \n",
    "  tokenizer,\n",
    "  sequenceClassifier_loaded   \n",
    "  ])\n",
    "\n",
    "\n",
    "data = spark.createDataFrame([[\"\"\"Previous attempts to prevent all the unwanted postoperative responses to major surgery with an epidural hydrophilic opioid , morphine , have not succeeded . The authors ' hypothesis was that the lipophilic opioid fentanyl , infused epidurally close to the spinal-cord opioid receptors corresponding to the dermatome of the surgical incision , gives equal pain relief but attenuates postoperative hormonal and metabolic responses more effectively than does systemic fentanyl .\"\"\"]]).toDF(\"text\")\n",
    "\n",
    "result = pipeline.fit(data).transform(data)\n",
    "\n",
    "result.select(\"text\", \"predicted_class.result\").show(truncate=100)"
   ]
  },
  {
   "cell_type": "markdown",
   "metadata": {
    "application/vnd.databricks.v1+cell": {
     "cellMetadata": {
      "byteLimit": 2048000,
      "rowLimit": 10000
     },
     "inputWidgets": {},
     "nuid": "f290e070-f0cd-4f55-8a29-a740efe72243",
     "showTitle": false,
     "tableResultSettingsMap": {},
     "title": ""
    },
    "id": "EUaUwOvwcXme"
   },
   "source": [
    "# ☞ MBFSC Models in Other Languages**"
   ]
  },
  {
   "cell_type": "markdown",
   "metadata": {
    "application/vnd.databricks.v1+cell": {
     "cellMetadata": {
      "byteLimit": 2048000,
      "rowLimit": 10000
     },
     "inputWidgets": {},
     "nuid": "161cbf43-adfa-4ea1-8f2d-1cac7fd641a9",
     "showTitle": false,
     "tableResultSettingsMap": {},
     "title": ""
    },
    "id": "G0qjx_VaceYR"
   },
   "source": [
    "## 🔎German"
   ]
  },
  {
   "cell_type": "markdown",
   "metadata": {
    "application/vnd.databricks.v1+cell": {
     "cellMetadata": {
      "byteLimit": 2048000,
      "rowLimit": 10000
     },
     "inputWidgets": {},
     "nuid": "cfb78a9f-03e6-469e-ad30-d2654795fd14",
     "showTitle": false,
     "tableResultSettingsMap": {},
     "title": ""
    },
    "id": "sRiflW6YjhQh"
   },
   "source": [
    "| model name                                                                                                                                                                    | description                                                                             | predicted entities                                         |\n",
    "|-------------------------------------------------------------------------------------------------------------------------------------------------------------------------------|-----------------------------------------------------------------------------------------|------------------------------------------------------------|\n",
    "|[bert_sequence_classifier_health_mentions_gbert_large](https://nlp.johnsnowlabs.com/2022/08/10/bert_sequence_classifier_health_mentions_gbert_large_de_3_0.html)                                           | This model is a GBERT-large based sequence classification model that can classify public health mentions in German social media text.                    | `non-health` `health-related`                                           |\n",
    "|[bert_sequence_classifier_health_mentions_bert](https://nlp.johnsnowlabs.com/2022/08/10/bert_sequence_classifier_health_mentions_bert_de_3_0.html)                                           | This model is a bert-base-german based sequence classification model that can classify public health mentions in German social media text.                     | `non-health` `health-related`                                           |\n",
    "|[bert_sequence_classifier_health_mentions_gbert](https://nlp.johnsnowlabs.com/2022/08/10/bert_sequence_classifier_health_mentions_gbert_de_3_0.html)                                           | This model is a GBERT-base based sequence classification model that can classify public health mentions in German social media text.                    | `non-health` `health-related`                                          |\n",
    "|[bert_sequence_classifier_health_mentions_medbert](https://nlp.johnsnowlabs.com/2022/08/10/bert_sequence_classifier_health_mentions_medbert_de_3_0.html)                                           | This model is a German-MedBERT based sequence classification model that can classify public health mentions in German social media text.                    |  `non-health` `health-related`                                          |"
   ]
  },
  {
   "cell_type": "markdown",
   "metadata": {
    "application/vnd.databricks.v1+cell": {
     "cellMetadata": {
      "byteLimit": 2048000,
      "rowLimit": 10000
     },
     "inputWidgets": {},
     "nuid": "7e326453-70a0-4e40-9799-393d1210d63d",
     "showTitle": false,
     "tableResultSettingsMap": {},
     "title": ""
    },
    "id": "UrfbJq08joNl"
   },
   "source": [
    "> ### 📌Public Health Mention Classifier Model\n",
    "\n",
    "*`bert_sequence_classifier_health_mentions_gbert_large`*"
   ]
  },
  {
   "cell_type": "code",
   "execution_count": 0,
   "metadata": {
    "application/vnd.databricks.v1+cell": {
     "cellMetadata": {
      "byteLimit": 2048000,
      "rowLimit": 10000
     },
     "inputWidgets": {},
     "nuid": "f0a155ac-08c0-49e4-884f-ba22ec45058c",
     "showTitle": false,
     "tableResultSettingsMap": {},
     "title": ""
    },
    "colab": {
     "base_uri": "https://localhost:8080/"
    },
    "id": "XWEF2Ot1iEHM",
    "outputId": "f4c17442-e6b4-46e5-9820-4d56c830cbd5"
   },
   "outputs": [
    {
     "output_type": "stream",
     "name": "stdout",
     "output_type": "stream",
     "text": [
      "bert_sequence_classifier_health_mentions_bert download started this may take some time.\n\r[ | ]\r[OK!]\n+---------------------------------------------------------------------------------------------------+----------------+\n|text                                                                                               |result          |\n+---------------------------------------------------------------------------------------------------+----------------+\n|Durch jahrelanges Rauchen habe ich meine Lunge einfach zu sehr geschädigt - Punkt.                 |[health-related]|\n|die Schatzsuche war das Highlight beim Kindergeburtstag, die kids haben noch lange davon gesprochen|[non-health]    |\n+---------------------------------------------------------------------------------------------------+----------------+\n\n"
     ]
    }
   ],
   "source": [
    "sequenceClassifier = medical.BertForSequenceClassification.pretrained(\"bert_sequence_classifier_health_mentions_bert\", \"de\", \"clinical/models\")\\\n",
    "    .setInputCols([\"document\",\"token\"])\\\n",
    "    .setOutputCol(\"predicted_class\")\n",
    "\n",
    "pipeline = nlp.Pipeline(stages=[\n",
    "    document_assembler, \n",
    "    tokenizer,\n",
    "    sequenceClassifier    \n",
    "])\n",
    "\n",
    "data = spark.createDataFrame([\n",
    "      [\"Durch jahrelanges Rauchen habe ich meine Lunge einfach zu sehr geschädigt - Punkt.\"],\n",
    "      [\"die Schatzsuche war das Highlight beim Kindergeburtstag, die kids haben noch lange davon gesprochen\"]\n",
    "      ]).toDF(\"text\")\n",
    "\n",
    "result = pipeline.fit(data).transform(data)\n",
    "\n",
    "result.select(\"text\", \"predicted_class.result\").show(truncate=False)"
   ]
  },
  {
   "cell_type": "markdown",
   "metadata": {
    "application/vnd.databricks.v1+cell": {
     "cellMetadata": {
      "byteLimit": 2048000,
      "rowLimit": 10000
     },
     "inputWidgets": {},
     "nuid": "34cc031a-6f4b-47fc-8490-4e15a3f5bfbf",
     "showTitle": false,
     "tableResultSettingsMap": {},
     "title": ""
    },
    "id": "zBmbwKrtjv9a"
   },
   "source": [
    "## 🔎Spanish"
   ]
  },
  {
   "cell_type": "markdown",
   "metadata": {
    "application/vnd.databricks.v1+cell": {
     "cellMetadata": {
      "byteLimit": 2048000,
      "rowLimit": 10000
     },
     "inputWidgets": {},
     "nuid": "f82632a3-72ce-4b68-a853-0be27a8090fe",
     "showTitle": false,
     "tableResultSettingsMap": {},
     "title": ""
    },
    "id": "JNKshydqkUix"
   },
   "source": [
    "| model name                                                                                                                                                                    | description                                                                             | predicted entities                                         |\n",
    "|-------------------------------------------------------------------------------------------------------------------------------------------------------------------------------|-----------------------------------------------------------------------------------------|------------------------------------------------------------|\n",
    "|[bert_sequence_classifier_self_reported_symptoms_tweet](https://nlp.johnsnowlabs.com/2022/07/28/bert_sequence_classifier_self_reported_symptoms_tweet_es_3_0.html)                                           | This model is a BERT based classifier that can classify the origin of symptoms related to Covid-19 from Spanish tweets.                     | `Lit-News_mentions` `Self_reports` ` non-personal_reports`                                        |"
   ]
  },
  {
   "cell_type": "markdown",
   "metadata": {
    "application/vnd.databricks.v1+cell": {
     "cellMetadata": {
      "byteLimit": 2048000,
      "rowLimit": 10000
     },
     "inputWidgets": {},
     "nuid": "7a41ff7c-ae19-4534-88dc-431e7fc5ee27",
     "showTitle": false,
     "tableResultSettingsMap": {},
     "title": ""
    },
    "id": "ztOmd_WakX3Q"
   },
   "source": [
    "### 📌Self Reported Symptoms Classifier Model\n",
    "\n",
    "*`bert_sequence_classifier_self_reported_symptoms_tweet`*"
   ]
  },
  {
   "cell_type": "code",
   "execution_count": 0,
   "metadata": {
    "application/vnd.databricks.v1+cell": {
     "cellMetadata": {
      "byteLimit": 2048000,
      "rowLimit": 10000
     },
     "inputWidgets": {},
     "nuid": "79e38007-f5f7-44ff-beb3-76bdc0905a31",
     "showTitle": false,
     "tableResultSettingsMap": {},
     "title": ""
    },
    "colab": {
     "base_uri": "https://localhost:8080/"
    },
    "id": "uf55syfuj3TM",
    "outputId": "5e31e11c-c830-428b-9ad9-07028e2e90a1"
   },
   "outputs": [
    {
     "output_type": "stream",
     "name": "stdout",
     "output_type": "stream",
     "text": [
      "bert_sequence_classifier_self_reported_symptoms_tweet download started this may take some time.\n\r[ | ]\r[OK!]\n+-------------------------------------------------------------------------------------------------------------------------------------------------+----------------------+\n|text                                                                                                                                             |result                |\n+-------------------------------------------------------------------------------------------------------------------------------------------------+----------------------+\n|Las vacunas 3 y hablamos inminidad vivo  Son bichito vivo dentro de lÃ­quido de la vacuna suelen tener reacciones alÃorgicas si que sepan        |[non-personal_reports]|\n|Yo pense que me estaba dando el  coronavirus porque cuando me levante  casi no podia respirar pero que si era que tenia la nariz topada de mocos.|[Self_reports]        |\n|Tos, dolor de garganta y fiebre, los síntomas más reportados por los porteños con coronavirus                                                    |[Lit-News_mentions]   |\n+-------------------------------------------------------------------------------------------------------------------------------------------------+----------------------+\n\n"
     ]
    }
   ],
   "source": [
    "sequenceClassifier = medical.BertForSequenceClassification.pretrained(\"bert_sequence_classifier_self_reported_symptoms_tweet\", \"es\", \"clinical/models\")\\\n",
    "    .setInputCols([\"document\", \"token\"])\\\n",
    "    .setOutputCol(\"predicted_class\")\\\n",
    "    .setCaseSensitive(True)\\\n",
    "    .setMaxSentenceLength(512)\n",
    "\n",
    "pipeline = nlp.Pipeline(stages=[\n",
    "    document_assembler, \n",
    "    tokenizer,\n",
    "    sequenceClassifier\n",
    "    ])\n",
    "\n",
    "\n",
    "\n",
    "data = spark.createDataFrame([\"Las vacunas 3 y hablamos inminidad vivo  Son bichito vivo dentro de lÃ­quido de la vacuna suelen tener reacciones alÃorgicas si que sepan\",\n",
    "                              \"Yo pense que me estaba dando el  coronavirus porque cuando me levante  casi no podia respirar pero que si era que tenia la nariz topada de mocos.\",\n",
    "                              \"Tos, dolor de garganta y fiebre, los síntomas más reportados por los porteños con coronavirus\"], F.StringType()).toDF(\"text\")\n",
    "\n",
    "result = pipeline.fit(data).transform(data)\n",
    "\n",
    "result.select(\"text\", \"predicted_class.result\").show(truncate=False)"
   ]
  }
 ],
 "metadata": {
  "application/vnd.databricks.v1+notebook": {
   "computePreferences": null,
   "dashboards": [],
   "environmentMetadata": null,
   "language": "python",
   "notebookMetadata": {
    "pythonIndentUnit": 2
   },
   "notebookName": "08.3.MedicalBertForSequenceClassification_in_SparkNLP",
   "widgets": {}
  },
  "colab": {
   "collapsed_sections": [],
   "machine_shape": "hm",
   "provenance": []
  },
  "kernelspec": {
   "display_name": "Python 3",
   "name": "python3"
  },
  "language_info": {
   "name": "python"
  }
 },
 "nbformat": 4,
 "nbformat_minor": 0
}
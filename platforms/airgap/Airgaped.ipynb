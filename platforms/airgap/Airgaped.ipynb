{
  "nbformat": 4,
  "nbformat_minor": 0,
  "metadata": {
    "colab": {
      "provenance": [],
      "collapsed_sections": [],
      "toc_visible": true
    },
    "kernelspec": {
      "name": "python3",
      "display_name": "Python 3"
    },
    "language_info": {
      "name": "python"
    }
  },
  "cells": [
    {
      "cell_type": "markdown",
      "source": [
        "![JohnSnowLabs](https://nlp.johnsnowlabs.com/assets/images/logo.png)"
      ],
      "metadata": {
        "id": "3WlC622OOXzz"
      }
    },
    {
      "cell_type": "markdown",
      "source": [
        "[![Open In Colab](https://colab.research.google.com/assets/colab-badge.svg)](https://colab.research.google.com/github/JohnSnowLabs/spark-nlp-workshop/blob/master/platforms/airgap/Airgaped.ipynb)"
      ],
      "metadata": {
        "id": "juEnXn5nKR49"
      }
    },
    {
      "cell_type": "markdown",
      "source": [
        "# Installing Spark NLP offline mode\n",
        "\n",
        "\n"
      ],
      "metadata": {
        "id": "V0a21Skcd2KE"
      }
    },
    {
      "cell_type": "markdown",
      "source": [
        "Spark-nlp installation Doc : https://nlp.johnsnowlabs.com/docs/en/install#offline\n",
        "\n",
        "Medium Airgapped https://medium.com/spark-nlp/installing-spark-nlp-and-spark-ocr-in-air-gapped-networks-offline-mode-f42a1ee6b7a8\n",
        "\n",
        "\n",
        "installation platform : https://github.com/JohnSnowLabs/spark-nlp-workshop/tree/master/platforms\n",
        "\n",
        "sparknlp from pypi : https://pypi.org/project/spark-nlp/3.4.2/#files\n",
        "\n",
        "CPUvsGPUbenchmark: https://nlp.johnsnowlabs.com/docs/en/CPUvsGPUbenchmark"
      ],
      "metadata": {
        "id": "eWKAuvO5d3Kf"
      }
    },
    {
      "cell_type": "markdown",
      "source": [
        "## install pyspark v3.1.2"
      ],
      "metadata": {
        "id": "L6AkLTQY1Now"
      }
    },
    {
      "cell_type": "code",
      "source": [
        "!pip install pyspark==3.1.2"
      ],
      "metadata": {
        "id": "JKxAaVnJoBK5"
      },
      "execution_count": null,
      "outputs": []
    },
    {
      "cell_type": "markdown",
      "source": [
        "## license key"
      ],
      "metadata": {
        "id": "eCbqVbxooItu"
      }
    },
    {
      "cell_type": "code",
      "source": [
        "import json, os\n",
        "from google.colab import files\n",
        "\n",
        "if 'spark_jsl.json' not in os.listdir():\n",
        "  license_keys = files.upload()\n",
        "  os.rename(list(license_keys.keys())[0], 'spark_jsl.json')\n",
        "\n",
        "with open('spark_jsl.json') as f:\n",
        "    license_keys = json.load(f)\n",
        "\n",
        "# Defining license key-value pairs as local variables\n",
        "locals().update(license_keys)\n",
        "os.environ.update(license_keys)"
      ],
      "metadata": {
        "id": "5VVdSienjgr3"
      },
      "execution_count": null,
      "outputs": []
    },
    {
      "cell_type": "code",
      "source": [
        "license_keys.keys()"
      ],
      "metadata": {
        "colab": {
          "base_uri": "https://localhost:8080/"
        },
        "id": "IzWWn1ctmf9A",
        "outputId": "2bf6c6f4-54c4-45e0-8ac8-9590191fdd66"
      },
      "execution_count": 3,
      "outputs": [
        {
          "output_type": "execute_result",
          "data": {
            "text/plain": [
              "dict_keys(['SPARK_NLP_LICENSE', 'SECRET', 'JSL_VERSION', 'PUBLIC_VERSION', 'AWS_ACCESS_KEY_ID', 'AWS_SECRET_ACCESS_KEY', 'SPARK_OCR_LICENSE', 'SPARK_OCR_SECRET', 'OCR_VERSION'])"
            ]
          },
          "metadata": {},
          "execution_count": 3
        }
      ]
    },
    {
      "cell_type": "markdown",
      "source": [
        "## download Spark NLP jars from S3"
      ],
      "metadata": {
        "id": "iqx-FY1DoNuh"
      }
    },
    {
      "cell_type": "code",
      "source": [
        "!pip install -q awscli"
      ],
      "metadata": {
        "id": "6lZTvdh8igxR"
      },
      "execution_count": null,
      "outputs": []
    },
    {
      "cell_type": "code",
      "source": [
        "# public jar\n",
        "!aws s3 cp --region us-east-2 s3://auxdata.johnsnowlabs.com/public/jars/spark-nlp-assembly-$PUBLIC_VERSION.jar ./spark-nlp-$PUBLIC_VERSION.jar\n",
        "\n",
        "# healthcare jar\n",
        "!aws s3 cp --region us-east-2 s3://pypi.johnsnowlabs.com/$SECRET/spark-nlp-jsl-$JSL_VERSION.jar ./spark-nlp-jsl-$JSL_VERSION.jar\n",
        "\n",
        "# healthcare  whl\n",
        "!aws s3 cp --region us-east-2 s3://pypi.johnsnowlabs.com/$SECRET/spark-nlp-jsl/spark_nlp_jsl-$JSL_VERSION-py3-none-any.whl ./spark_nlp_jsl-$JSL_VERSION-py3-none-any.whl"
      ],
      "metadata": {
        "id": "XKkegG-gmJxs"
      },
      "execution_count": null,
      "outputs": []
    },
    {
      "cell_type": "code",
      "source": [
        "# public whl from pypi  https://pypi.org/project/spark-nlp/#files \n",
        "# get the whl download link \n",
        "!wget https://files.pythonhosted.org/packages/3c/7c/e9128ce97050c0f08465c0751ffb5b05da157811ea392b5128f3964bcfec/spark_nlp-4.1.0-py2.py3-none-any.whl"
      ],
      "metadata": {
        "id": "thCxn8MRprUB"
      },
      "execution_count": null,
      "outputs": []
    },
    {
      "cell_type": "markdown",
      "source": [
        "## install "
      ],
      "metadata": {
        "id": "z7ZwUz99pg0o"
      }
    },
    {
      "cell_type": "code",
      "source": [
        "! pip install ./spark_nlp-$PUBLIC_VERSION-py2.py3-none-any.whl\n",
        "! pip install ./spark_nlp_jsl-$JSL_VERSION-py3-none-any.whl"
      ],
      "metadata": {
        "id": "ES5ru180jnBQ"
      },
      "execution_count": null,
      "outputs": []
    },
    {
      "cell_type": "markdown",
      "source": [
        "## session start"
      ],
      "metadata": {
        "id": "r99pRmlaoa-T"
      }
    },
    {
      "cell_type": "code",
      "source": [
        "import json\n",
        "import os\n",
        "\n",
        "import sparknlp\n",
        "import sparknlp_jsl\n",
        "\n",
        "from sparknlp.base import *\n",
        "from sparknlp.annotator import *\n",
        "from sparknlp_jsl.annotator import *\n",
        "\n",
        "from sparknlp.base import LightPipeline\n",
        "\n",
        "from pyspark.sql import SparkSession\n",
        "from pyspark.sql import functions as F\n",
        "from pyspark.ml import Pipeline,PipelineModel"
      ],
      "metadata": {
        "id": "5xvsBTjJZVD0"
      },
      "execution_count": 7,
      "outputs": []
    },
    {
      "cell_type": "code",
      "source": [
        "from pyspark.sql import SparkSession\n",
        "\n",
        "def start(SECRET):\n",
        "    builder = SparkSession.builder \\\n",
        "        .appName(\"Spark NLP Licensed\") \\\n",
        "        .master(\"local[*]\") \\\n",
        "        .config(\"spark.driver.memory\", \"16G\") \\\n",
        "        .config(\"spark.serializer\", \"org.apache.spark.serializer.KryoSerializer\") \\\n",
        "        .config(\"spark.kryoserializer.buffer.max\", \"2000M\") \\\n",
        "        .config(\"spark.jars\", f\"./spark-nlp-jsl-{JSL_VERSION}.jar,./spark-nlp-{PUBLIC_VERSION}.jar\" )\n",
        "\n",
        "    return builder.getOrCreate()\n"
      ],
      "metadata": {
        "id": "6EhkDXeMARHA"
      },
      "execution_count": 8,
      "outputs": []
    },
    {
      "cell_type": "code",
      "source": [
        "#  SECRET is in your Licence key\n",
        "\n",
        "spark = start(SECRET)\n",
        "\n",
        "spark"
      ],
      "metadata": {
        "colab": {
          "base_uri": "https://localhost:8080/",
          "height": 222
        },
        "id": "j7baISmToo33",
        "outputId": "81e298b8-c7f1-4f29-9aff-0b34998da8f8"
      },
      "execution_count": 9,
      "outputs": [
        {
          "output_type": "execute_result",
          "data": {
            "text/plain": [
              "<pyspark.sql.session.SparkSession at 0x7f3b4d0c4390>"
            ],
            "text/html": [
              "\n",
              "            <div>\n",
              "                <p><b>SparkSession - in-memory</b></p>\n",
              "                \n",
              "        <div>\n",
              "            <p><b>SparkContext</b></p>\n",
              "\n",
              "            <p><a href=\"http://23904e052ced:4040\">Spark UI</a></p>\n",
              "\n",
              "            <dl>\n",
              "              <dt>Version</dt>\n",
              "                <dd><code>v3.1.2</code></dd>\n",
              "              <dt>Master</dt>\n",
              "                <dd><code>local[*]</code></dd>\n",
              "              <dt>AppName</dt>\n",
              "                <dd><code>Spark NLP Licensed</code></dd>\n",
              "            </dl>\n",
              "        </div>\n",
              "        \n",
              "            </div>\n",
              "        "
            ]
          },
          "metadata": {},
          "execution_count": 9
        }
      ]
    },
    {
      "cell_type": "markdown",
      "source": [
        "## online mode pipeline\n",
        "USING THE RESOURCE DOWNLOADER   `.pretrained()`"
      ],
      "metadata": {
        "id": "ekmMi4iY18CO"
      }
    },
    {
      "cell_type": "code",
      "source": [
        "# Annotator that transforms a text column from dataframe into an Annotation ready for NLP\n",
        "documentAssembler = DocumentAssembler()\\\n",
        "    .setInputCol(\"text\")\\\n",
        "    .setOutputCol(\"document\")\n",
        "        \n",
        "sentenceDetector = SentenceDetector()\\\n",
        "    .setInputCols([\"document\"])\\\n",
        "    .setOutputCol(\"sentence\")\n",
        " \n",
        "# Tokenizer splits words in a relevant format for NLP\n",
        "tokenizer = Tokenizer()\\\n",
        "    .setInputCols([\"sentence\"])\\\n",
        "    .setOutputCol(\"token\")\n",
        "\n",
        "# Clinical word embeddings trained on PubMED dataset\n",
        "word_embeddings = WordEmbeddingsModel.pretrained(\"embeddings_clinical\",\"en\",\"clinical/models\")\\\n",
        "    .setInputCols([\"sentence\",\"token\"])\\\n",
        "    .setOutputCol(\"embeddings\")\n",
        "\n",
        "# NER model trained on i2b2 (sampled from MIMIC) dataset\n",
        "clinical_ner = MedicalNerModel.pretrained(\"ner_clinical_large\",\"en\",\"clinical/models\")\\\n",
        "    .setInputCols([\"sentence\",\"token\",\"embeddings\"])\\\n",
        "    .setOutputCol(\"ner\")\\\n",
        "    .setLabelCasing(\"upper\") #decide if we want to return the tags in upper or lower case \n",
        "\n",
        "ner_converter = NerConverter()\\\n",
        "    .setInputCols([\"sentence\",\"token\",\"ner\"])\\\n",
        "    .setOutputCol(\"ner_chunk\")\n",
        "\n",
        "nlpPipeline = Pipeline(stages=[\n",
        "        documentAssembler,\n",
        "        sentenceDetector,\n",
        "        tokenizer,\n",
        "        word_embeddings,\n",
        "        clinical_ner,\n",
        "        ner_converter])\n",
        "\n",
        "\n",
        "empty_data = spark.createDataFrame([[\"\"]]).toDF(\"text\")\n",
        "\n",
        "model = nlpPipeline.fit(empty_data)"
      ],
      "metadata": {
        "id": "mgH3h2VgrF2F"
      },
      "execution_count": null,
      "outputs": []
    },
    {
      "cell_type": "code",
      "source": [
        "# fullAnnotate in LightPipeline\n",
        "\n",
        "text = '''\n",
        "A 28-year-old female with a history of gestational diabetes mellitus diagnosed eight years prior to presentation and subsequent type two diabetes mellitus ( T2DM ), one prior episode of HTG-induced pancreatitis three years prior to presentation , and associated with an acute hepatitis , presented with a one-week history of polyuria , poor appetite , and vomiting . \n",
        "She was on metformin , glipizide , and dapagliflozin for T2DM and atorvastatin and gemfibrozil for HTG . She had been on dapagliflozin for six months at the time of presentation . \n",
        "Physical examination on presentation was significant for dry oral mucosa ; significantly , her abdominal examination was benign with no tenderness , guarding , or rigidity . Pertinent laboratory findings on admission were : serum glucose 111 mg/dl ,  creatinine 0.4 mg/dL , triglycerides 508 mg/dL , total cholesterol 122 mg/dL , and venous pH 7.27 . \n",
        "'''\n",
        "\n",
        "print (text)\n",
        "\n",
        "light_model = LightPipeline(model)\n",
        "\n",
        "light_result = light_model.fullAnnotate(text)\n",
        "\n",
        "\n",
        "chunks = []\n",
        "entities = []\n",
        "sentence= []\n",
        "begin = []\n",
        "end = []\n",
        "\n",
        "for n in light_result[0]['ner_chunk']:\n",
        "        \n",
        "    begin.append(n.begin)\n",
        "    end.append(n.end)\n",
        "    chunks.append(n.result)\n",
        "    entities.append(n.metadata['entity']) \n",
        "    sentence.append(n.metadata['sentence'])\n",
        "    \n",
        "    \n",
        "import pandas as pd\n",
        "\n",
        "df_clinical = pd.DataFrame({'chunks':chunks, \n",
        "                            'begin': begin, \n",
        "                            'end':end, \n",
        "                            'sentence_id':sentence, \n",
        "                            'entities':entities})\n",
        "\n",
        "df_clinical.head(20)"
      ],
      "metadata": {
        "colab": {
          "base_uri": "https://localhost:8080/",
          "height": 787
        },
        "id": "13M4EeTZ2Gdh",
        "outputId": "e6633191-c399-4777-cac7-7ebf0edef6fe"
      },
      "execution_count": 20,
      "outputs": [
        {
          "output_type": "stream",
          "name": "stdout",
          "text": [
            "\n",
            "A 28-year-old female with a history of gestational diabetes mellitus diagnosed eight years prior to presentation and subsequent type two diabetes mellitus ( T2DM ), one prior episode of HTG-induced pancreatitis three years prior to presentation , and associated with an acute hepatitis , presented with a one-week history of polyuria , poor appetite , and vomiting . \n",
            "She was on metformin , glipizide , and dapagliflozin for T2DM and atorvastatin and gemfibrozil for HTG . She had been on dapagliflozin for six months at the time of presentation . \n",
            "Physical examination on presentation was significant for dry oral mucosa ; significantly , her abdominal examination was benign with no tenderness , guarding , or rigidity . Pertinent laboratory findings on admission were : serum glucose 111 mg/dl ,  creatinine 0.4 mg/dL , triglycerides 508 mg/dL , total cholesterol 122 mg/dL , and venous pH 7.27 . \n",
            "\n"
          ]
        },
        {
          "output_type": "execute_result",
          "data": {
            "text/plain": [
              "                                   chunks  begin  end sentence_id   entities\n",
              "0           gestational diabetes mellitus     40   68           0    PROBLEM\n",
              "1   subsequent type two diabetes mellitus    118  154           0    PROBLEM\n",
              "2                                    T2DM    158  161           0    PROBLEM\n",
              "3                HTG-induced pancreatitis    187  210           0    PROBLEM\n",
              "4                      an acute hepatitis    268  285           0    PROBLEM\n",
              "5                                polyuria    326  333           0    PROBLEM\n",
              "6                           poor appetite    337  349           0    PROBLEM\n",
              "7                                vomiting    357  364           0    PROBLEM\n",
              "8                               metformin    380  388           1  TREATMENT\n",
              "9                               glipizide    392  400           1  TREATMENT\n",
              "10                          dapagliflozin    408  420           1  TREATMENT\n",
              "11                                   T2DM    426  429           1    PROBLEM\n",
              "12                           atorvastatin    435  446           1  TREATMENT\n",
              "13                            gemfibrozil    452  462           1  TREATMENT\n",
              "14                                    HTG    468  470           1    PROBLEM\n",
              "15                          dapagliflozin    490  502           2  TREATMENT\n",
              "16                   Physical examination    550  569           3       TEST\n",
              "17                        dry oral mucosa    607  621           3    PROBLEM\n",
              "18              her abdominal examination    641  665           4       TEST\n",
              "19                             tenderness    686  695           4    PROBLEM"
            ],
            "text/html": [
              "\n",
              "  <div id=\"df-e2847a36-deef-4613-826c-3c4bf48a9ef4\">\n",
              "    <div class=\"colab-df-container\">\n",
              "      <div>\n",
              "<style scoped>\n",
              "    .dataframe tbody tr th:only-of-type {\n",
              "        vertical-align: middle;\n",
              "    }\n",
              "\n",
              "    .dataframe tbody tr th {\n",
              "        vertical-align: top;\n",
              "    }\n",
              "\n",
              "    .dataframe thead th {\n",
              "        text-align: right;\n",
              "    }\n",
              "</style>\n",
              "<table border=\"1\" class=\"dataframe\">\n",
              "  <thead>\n",
              "    <tr style=\"text-align: right;\">\n",
              "      <th></th>\n",
              "      <th>chunks</th>\n",
              "      <th>begin</th>\n",
              "      <th>end</th>\n",
              "      <th>sentence_id</th>\n",
              "      <th>entities</th>\n",
              "    </tr>\n",
              "  </thead>\n",
              "  <tbody>\n",
              "    <tr>\n",
              "      <th>0</th>\n",
              "      <td>gestational diabetes mellitus</td>\n",
              "      <td>40</td>\n",
              "      <td>68</td>\n",
              "      <td>0</td>\n",
              "      <td>PROBLEM</td>\n",
              "    </tr>\n",
              "    <tr>\n",
              "      <th>1</th>\n",
              "      <td>subsequent type two diabetes mellitus</td>\n",
              "      <td>118</td>\n",
              "      <td>154</td>\n",
              "      <td>0</td>\n",
              "      <td>PROBLEM</td>\n",
              "    </tr>\n",
              "    <tr>\n",
              "      <th>2</th>\n",
              "      <td>T2DM</td>\n",
              "      <td>158</td>\n",
              "      <td>161</td>\n",
              "      <td>0</td>\n",
              "      <td>PROBLEM</td>\n",
              "    </tr>\n",
              "    <tr>\n",
              "      <th>3</th>\n",
              "      <td>HTG-induced pancreatitis</td>\n",
              "      <td>187</td>\n",
              "      <td>210</td>\n",
              "      <td>0</td>\n",
              "      <td>PROBLEM</td>\n",
              "    </tr>\n",
              "    <tr>\n",
              "      <th>4</th>\n",
              "      <td>an acute hepatitis</td>\n",
              "      <td>268</td>\n",
              "      <td>285</td>\n",
              "      <td>0</td>\n",
              "      <td>PROBLEM</td>\n",
              "    </tr>\n",
              "    <tr>\n",
              "      <th>5</th>\n",
              "      <td>polyuria</td>\n",
              "      <td>326</td>\n",
              "      <td>333</td>\n",
              "      <td>0</td>\n",
              "      <td>PROBLEM</td>\n",
              "    </tr>\n",
              "    <tr>\n",
              "      <th>6</th>\n",
              "      <td>poor appetite</td>\n",
              "      <td>337</td>\n",
              "      <td>349</td>\n",
              "      <td>0</td>\n",
              "      <td>PROBLEM</td>\n",
              "    </tr>\n",
              "    <tr>\n",
              "      <th>7</th>\n",
              "      <td>vomiting</td>\n",
              "      <td>357</td>\n",
              "      <td>364</td>\n",
              "      <td>0</td>\n",
              "      <td>PROBLEM</td>\n",
              "    </tr>\n",
              "    <tr>\n",
              "      <th>8</th>\n",
              "      <td>metformin</td>\n",
              "      <td>380</td>\n",
              "      <td>388</td>\n",
              "      <td>1</td>\n",
              "      <td>TREATMENT</td>\n",
              "    </tr>\n",
              "    <tr>\n",
              "      <th>9</th>\n",
              "      <td>glipizide</td>\n",
              "      <td>392</td>\n",
              "      <td>400</td>\n",
              "      <td>1</td>\n",
              "      <td>TREATMENT</td>\n",
              "    </tr>\n",
              "    <tr>\n",
              "      <th>10</th>\n",
              "      <td>dapagliflozin</td>\n",
              "      <td>408</td>\n",
              "      <td>420</td>\n",
              "      <td>1</td>\n",
              "      <td>TREATMENT</td>\n",
              "    </tr>\n",
              "    <tr>\n",
              "      <th>11</th>\n",
              "      <td>T2DM</td>\n",
              "      <td>426</td>\n",
              "      <td>429</td>\n",
              "      <td>1</td>\n",
              "      <td>PROBLEM</td>\n",
              "    </tr>\n",
              "    <tr>\n",
              "      <th>12</th>\n",
              "      <td>atorvastatin</td>\n",
              "      <td>435</td>\n",
              "      <td>446</td>\n",
              "      <td>1</td>\n",
              "      <td>TREATMENT</td>\n",
              "    </tr>\n",
              "    <tr>\n",
              "      <th>13</th>\n",
              "      <td>gemfibrozil</td>\n",
              "      <td>452</td>\n",
              "      <td>462</td>\n",
              "      <td>1</td>\n",
              "      <td>TREATMENT</td>\n",
              "    </tr>\n",
              "    <tr>\n",
              "      <th>14</th>\n",
              "      <td>HTG</td>\n",
              "      <td>468</td>\n",
              "      <td>470</td>\n",
              "      <td>1</td>\n",
              "      <td>PROBLEM</td>\n",
              "    </tr>\n",
              "    <tr>\n",
              "      <th>15</th>\n",
              "      <td>dapagliflozin</td>\n",
              "      <td>490</td>\n",
              "      <td>502</td>\n",
              "      <td>2</td>\n",
              "      <td>TREATMENT</td>\n",
              "    </tr>\n",
              "    <tr>\n",
              "      <th>16</th>\n",
              "      <td>Physical examination</td>\n",
              "      <td>550</td>\n",
              "      <td>569</td>\n",
              "      <td>3</td>\n",
              "      <td>TEST</td>\n",
              "    </tr>\n",
              "    <tr>\n",
              "      <th>17</th>\n",
              "      <td>dry oral mucosa</td>\n",
              "      <td>607</td>\n",
              "      <td>621</td>\n",
              "      <td>3</td>\n",
              "      <td>PROBLEM</td>\n",
              "    </tr>\n",
              "    <tr>\n",
              "      <th>18</th>\n",
              "      <td>her abdominal examination</td>\n",
              "      <td>641</td>\n",
              "      <td>665</td>\n",
              "      <td>4</td>\n",
              "      <td>TEST</td>\n",
              "    </tr>\n",
              "    <tr>\n",
              "      <th>19</th>\n",
              "      <td>tenderness</td>\n",
              "      <td>686</td>\n",
              "      <td>695</td>\n",
              "      <td>4</td>\n",
              "      <td>PROBLEM</td>\n",
              "    </tr>\n",
              "  </tbody>\n",
              "</table>\n",
              "</div>\n",
              "      <button class=\"colab-df-convert\" onclick=\"convertToInteractive('df-e2847a36-deef-4613-826c-3c4bf48a9ef4')\"\n",
              "              title=\"Convert this dataframe to an interactive table.\"\n",
              "              style=\"display:none;\">\n",
              "        \n",
              "  <svg xmlns=\"http://www.w3.org/2000/svg\" height=\"24px\"viewBox=\"0 0 24 24\"\n",
              "       width=\"24px\">\n",
              "    <path d=\"M0 0h24v24H0V0z\" fill=\"none\"/>\n",
              "    <path d=\"M18.56 5.44l.94 2.06.94-2.06 2.06-.94-2.06-.94-.94-2.06-.94 2.06-2.06.94zm-11 1L8.5 8.5l.94-2.06 2.06-.94-2.06-.94L8.5 2.5l-.94 2.06-2.06.94zm10 10l.94 2.06.94-2.06 2.06-.94-2.06-.94-.94-2.06-.94 2.06-2.06.94z\"/><path d=\"M17.41 7.96l-1.37-1.37c-.4-.4-.92-.59-1.43-.59-.52 0-1.04.2-1.43.59L10.3 9.45l-7.72 7.72c-.78.78-.78 2.05 0 2.83L4 21.41c.39.39.9.59 1.41.59.51 0 1.02-.2 1.41-.59l7.78-7.78 2.81-2.81c.8-.78.8-2.07 0-2.86zM5.41 20L4 18.59l7.72-7.72 1.47 1.35L5.41 20z\"/>\n",
              "  </svg>\n",
              "      </button>\n",
              "      \n",
              "  <style>\n",
              "    .colab-df-container {\n",
              "      display:flex;\n",
              "      flex-wrap:wrap;\n",
              "      gap: 12px;\n",
              "    }\n",
              "\n",
              "    .colab-df-convert {\n",
              "      background-color: #E8F0FE;\n",
              "      border: none;\n",
              "      border-radius: 50%;\n",
              "      cursor: pointer;\n",
              "      display: none;\n",
              "      fill: #1967D2;\n",
              "      height: 32px;\n",
              "      padding: 0 0 0 0;\n",
              "      width: 32px;\n",
              "    }\n",
              "\n",
              "    .colab-df-convert:hover {\n",
              "      background-color: #E2EBFA;\n",
              "      box-shadow: 0px 1px 2px rgba(60, 64, 67, 0.3), 0px 1px 3px 1px rgba(60, 64, 67, 0.15);\n",
              "      fill: #174EA6;\n",
              "    }\n",
              "\n",
              "    [theme=dark] .colab-df-convert {\n",
              "      background-color: #3B4455;\n",
              "      fill: #D2E3FC;\n",
              "    }\n",
              "\n",
              "    [theme=dark] .colab-df-convert:hover {\n",
              "      background-color: #434B5C;\n",
              "      box-shadow: 0px 1px 3px 1px rgba(0, 0, 0, 0.15);\n",
              "      filter: drop-shadow(0px 1px 2px rgba(0, 0, 0, 0.3));\n",
              "      fill: #FFFFFF;\n",
              "    }\n",
              "  </style>\n",
              "\n",
              "      <script>\n",
              "        const buttonEl =\n",
              "          document.querySelector('#df-e2847a36-deef-4613-826c-3c4bf48a9ef4 button.colab-df-convert');\n",
              "        buttonEl.style.display =\n",
              "          google.colab.kernel.accessAllowed ? 'block' : 'none';\n",
              "\n",
              "        async function convertToInteractive(key) {\n",
              "          const element = document.querySelector('#df-e2847a36-deef-4613-826c-3c4bf48a9ef4');\n",
              "          const dataTable =\n",
              "            await google.colab.kernel.invokeFunction('convertToInteractive',\n",
              "                                                     [key], {});\n",
              "          if (!dataTable) return;\n",
              "\n",
              "          const docLinkHtml = 'Like what you see? Visit the ' +\n",
              "            '<a target=\"_blank\" href=https://colab.research.google.com/notebooks/data_table.ipynb>data table notebook</a>'\n",
              "            + ' to learn more about interactive tables.';\n",
              "          element.innerHTML = '';\n",
              "          dataTable['output_type'] = 'display_data';\n",
              "          await google.colab.output.renderOutput(dataTable, element);\n",
              "          const docLink = document.createElement('div');\n",
              "          docLink.innerHTML = docLinkHtml;\n",
              "          element.appendChild(docLink);\n",
              "        }\n",
              "      </script>\n",
              "    </div>\n",
              "  </div>\n",
              "  "
            ]
          },
          "metadata": {},
          "execution_count": 20
        }
      ]
    },
    {
      "cell_type": "markdown",
      "source": [
        "## offline mode pipeline\n",
        "\n",
        "MANUALLY DOWNLOADING  `.load()`"
      ],
      "metadata": {
        "id": "OInYr_DU2InU"
      }
    },
    {
      "cell_type": "markdown",
      "source": [
        "### using boto3 for download "
      ],
      "metadata": {
        "id": "tVH35_442xok"
      }
    },
    {
      "cell_type": "code",
      "source": [
        "! pip install -q boto3"
      ],
      "metadata": {
        "id": "MrvaYrst25Yi"
      },
      "execution_count": null,
      "outputs": []
    },
    {
      "cell_type": "markdown",
      "source": [],
      "metadata": {
        "id": "M96TlyUQ3AvX"
      }
    },
    {
      "cell_type": "code",
      "source": [
        "license_keys.keys()"
      ],
      "metadata": {
        "colab": {
          "base_uri": "https://localhost:8080/"
        },
        "id": "Ir5Gbt8J3QfU",
        "outputId": "e0e23ebb-0de0-4950-b7f2-48bafd6d1b92"
      },
      "execution_count": null,
      "outputs": [
        {
          "output_type": "execute_result",
          "data": {
            "text/plain": [
              "dict_keys(['SPARK_NLP_LICENSE', 'SECRET', 'JSL_VERSION', 'PUBLIC_VERSION', 'AWS_ACCESS_KEY_ID', 'AWS_SECRET_ACCESS_KEY', 'SPARK_OCR_LICENSE', 'SPARK_OCR_SECRET', 'OCR_VERSION'])"
            ]
          },
          "metadata": {},
          "execution_count": 13
        }
      ]
    },
    {
      "cell_type": "code",
      "source": [
        "import shutil\n",
        "import boto3\n",
        "\n",
        "# Add your credentials \n",
        "ACCESS_KEY = AWS_ACCESS_KEY_ID\n",
        "SECRET_KEY = AWS_SECRET_ACCESS_KEY\n",
        "\n",
        "# Connect\n",
        "s3 = boto3.resource('s3', aws_access_key_id=ACCESS_KEY, aws_secret_access_key=SECRET_KEY)\n",
        "buck_auxdata = s3.Bucket('auxdata.johnsnowlabs.com')"
      ],
      "metadata": {
        "id": "tb3uwbm22w3l"
      },
      "execution_count": 14,
      "outputs": []
    },
    {
      "cell_type": "code",
      "source": [
        "!mkdir ./zip_files ./models"
      ],
      "metadata": {
        "id": "QRp84xFN4SqS"
      },
      "execution_count": 15,
      "outputs": []
    },
    {
      "cell_type": "markdown",
      "source": [
        "**Download the embedding model**"
      ],
      "metadata": {
        "id": "Ge6YpxfO5ZmA"
      }
    },
    {
      "cell_type": "code",
      "source": [
        "# Download the embedding model \n",
        "buck_auxdata.download_file('clinical/models/embeddings_clinical_en_2.4.0_2.4_1580237286004.zip',\n",
        "'zip_files/embeddings_clinical_en_2.4.0_2.4_1580237286004.zip')\n",
        "\n",
        "# Unzip\n",
        "shutil.unpack_archive('zip_files/embeddings_clinical_en_2.4.0_2.4_1580237286004.zip',\n",
        "'models/embeddings_clinical', 'zip')"
      ],
      "metadata": {
        "id": "3dOls8Iz2w1N"
      },
      "execution_count": 16,
      "outputs": []
    },
    {
      "cell_type": "markdown",
      "source": [
        "**Download the ner_clinical_large model**"
      ],
      "metadata": {
        "id": "grmyM73X5Xnv"
      }
    },
    {
      "cell_type": "code",
      "source": [
        "# Download the ner_clinical_large model \n",
        "buck_auxdata.download_file('clinical/models/ner_clinical_large_en_3.0.0_3.0_1617206114650.zip',\n",
        "'zip_files/ner_clinical_large_en_3.0.0_3.0_1617206114650.zip')\n",
        "\n",
        "# Unzip\n",
        "shutil.unpack_archive('zip_files/ner_clinical_large_en_3.0.0_3.0_1617206114650.zip',\n",
        "'models/ner_clinical_large', 'zip')"
      ],
      "metadata": {
        "id": "bosA_V0i2wy3"
      },
      "execution_count": 17,
      "outputs": []
    },
    {
      "cell_type": "markdown",
      "source": [
        "**ner pipeline**"
      ],
      "metadata": {
        "id": "58j1TK7e70_m"
      }
    },
    {
      "cell_type": "code",
      "source": [
        "# Annotator that transforms a text column from dataframe into an Annotation ready for NLP\n",
        "documentAssembler = DocumentAssembler()\\\n",
        "    .setInputCol(\"text\")\\\n",
        "    .setOutputCol(\"document\")\n",
        "        \n",
        "sentenceDetector = SentenceDetector()\\\n",
        "    .setInputCols([\"document\"])\\\n",
        "    .setOutputCol(\"sentence\")\n",
        " \n",
        "# Tokenizer splits words in a relevant format for NLP\n",
        "tokenizer = Tokenizer()\\\n",
        "    .setInputCols([\"sentence\"])\\\n",
        "    .setOutputCol(\"token\")\n",
        "\n",
        "# Clinical word embeddings trained on PubMED dataset\n",
        "word_embeddings_loaded = WordEmbeddingsModel.load(\"./models/embeddings_clinical\")\\\n",
        "    .setInputCols([\"sentence\",\"token\"])\\\n",
        "    .setOutputCol(\"embeddings\")\n",
        "\n",
        "# NER model trained on i2b2 (sampled from MIMIC) dataset\n",
        "clinical_ner_loaded = MedicalNerModel.load(\"./models/ner_clinical_large\")\\\n",
        "    .setInputCols([\"sentence\",\"token\",\"embeddings\"])\\\n",
        "    .setOutputCol(\"ner\")\\\n",
        "    .setLabelCasing(\"upper\") #decide if we want to return the tags in upper or lower case \n",
        "\n",
        "ner_converter = NerConverter()\\\n",
        "    .setInputCols([\"sentence\",\"token\",\"ner\"])\\\n",
        "    .setOutputCol(\"ner_chunk\")\n",
        "\n",
        "nlpPipeline = Pipeline(stages=[\n",
        "        documentAssembler,\n",
        "        sentenceDetector,\n",
        "        tokenizer,\n",
        "        word_embeddings_loaded,\n",
        "        clinical_ner_loaded,\n",
        "        ner_converter])\n",
        "\n",
        "\n",
        "empty_data = spark.createDataFrame([[\"\"]]).toDF(\"text\")\n",
        "\n",
        "model = nlpPipeline.fit(empty_data)"
      ],
      "metadata": {
        "id": "C8L0t5b1orKW"
      },
      "execution_count": 18,
      "outputs": []
    },
    {
      "cell_type": "code",
      "source": [
        "# fullAnnotate in LightPipeline\n",
        "\n",
        "text = '''\n",
        "A 28-year-old female with a history of gestational diabetes mellitus diagnosed eight years prior to presentation and subsequent type two diabetes mellitus ( T2DM ), one prior episode of HTG-induced pancreatitis three years prior to presentation , and associated with an acute hepatitis , presented with a one-week history of polyuria , poor appetite , and vomiting . \n",
        "She was on metformin , glipizide , and dapagliflozin for T2DM and atorvastatin and gemfibrozil for HTG . She had been on dapagliflozin for six months at the time of presentation . \n",
        "Physical examination on presentation was significant for dry oral mucosa ; significantly , her abdominal examination was benign with no tenderness , guarding , or rigidity . Pertinent laboratory findings on admission were : serum glucose 111 mg/dl ,  creatinine 0.4 mg/dL , triglycerides 508 mg/dL , total cholesterol 122 mg/dL , and venous pH 7.27 . \n",
        "'''\n",
        "\n",
        "print (text)\n",
        "\n",
        "light_model = LightPipeline(model)\n",
        "\n",
        "light_result = light_model.fullAnnotate(text)\n",
        "\n",
        "\n",
        "chunks = []\n",
        "entities = []\n",
        "sentence= []\n",
        "begin = []\n",
        "end = []\n",
        "\n",
        "for n in light_result[0]['ner_chunk']:\n",
        "        \n",
        "    begin.append(n.begin)\n",
        "    end.append(n.end)\n",
        "    chunks.append(n.result)\n",
        "    entities.append(n.metadata['entity']) \n",
        "    sentence.append(n.metadata['sentence'])\n",
        "    \n",
        "    \n",
        "import pandas as pd\n",
        "\n",
        "df_clinical = pd.DataFrame({'chunks':chunks, \n",
        "                            'begin': begin, \n",
        "                            'end':end, \n",
        "                            'sentence_id':sentence, \n",
        "                            'entities':entities})\n",
        "\n",
        "df_clinical.head(20)"
      ],
      "metadata": {
        "colab": {
          "base_uri": "https://localhost:8080/",
          "height": 787
        },
        "id": "aQEXtxVQrpl0",
        "outputId": "e1269c4a-f21f-4104-a961-499356780548"
      },
      "execution_count": 19,
      "outputs": [
        {
          "output_type": "stream",
          "name": "stdout",
          "text": [
            "\n",
            "A 28-year-old female with a history of gestational diabetes mellitus diagnosed eight years prior to presentation and subsequent type two diabetes mellitus ( T2DM ), one prior episode of HTG-induced pancreatitis three years prior to presentation , and associated with an acute hepatitis , presented with a one-week history of polyuria , poor appetite , and vomiting . \n",
            "She was on metformin , glipizide , and dapagliflozin for T2DM and atorvastatin and gemfibrozil for HTG . She had been on dapagliflozin for six months at the time of presentation . \n",
            "Physical examination on presentation was significant for dry oral mucosa ; significantly , her abdominal examination was benign with no tenderness , guarding , or rigidity . Pertinent laboratory findings on admission were : serum glucose 111 mg/dl ,  creatinine 0.4 mg/dL , triglycerides 508 mg/dL , total cholesterol 122 mg/dL , and venous pH 7.27 . \n",
            "\n"
          ]
        },
        {
          "output_type": "execute_result",
          "data": {
            "text/plain": [
              "                                   chunks  begin  end sentence_id   entities\n",
              "0           gestational diabetes mellitus     40   68           0    PROBLEM\n",
              "1   subsequent type two diabetes mellitus    118  154           0    PROBLEM\n",
              "2                                    T2DM    158  161           0    PROBLEM\n",
              "3                HTG-induced pancreatitis    187  210           0    PROBLEM\n",
              "4                      an acute hepatitis    268  285           0    PROBLEM\n",
              "5                                polyuria    326  333           0    PROBLEM\n",
              "6                           poor appetite    337  349           0    PROBLEM\n",
              "7                                vomiting    357  364           0    PROBLEM\n",
              "8                               metformin    380  388           1  TREATMENT\n",
              "9                               glipizide    392  400           1  TREATMENT\n",
              "10                          dapagliflozin    408  420           1  TREATMENT\n",
              "11                                   T2DM    426  429           1    PROBLEM\n",
              "12                           atorvastatin    435  446           1  TREATMENT\n",
              "13                            gemfibrozil    452  462           1  TREATMENT\n",
              "14                                    HTG    468  470           1    PROBLEM\n",
              "15                          dapagliflozin    490  502           2  TREATMENT\n",
              "16                   Physical examination    550  569           3       TEST\n",
              "17                        dry oral mucosa    607  621           3    PROBLEM\n",
              "18              her abdominal examination    641  665           4       TEST\n",
              "19                             tenderness    686  695           4    PROBLEM"
            ],
            "text/html": [
              "\n",
              "  <div id=\"df-434133a5-d540-4b03-8c81-58f0923787a8\">\n",
              "    <div class=\"colab-df-container\">\n",
              "      <div>\n",
              "<style scoped>\n",
              "    .dataframe tbody tr th:only-of-type {\n",
              "        vertical-align: middle;\n",
              "    }\n",
              "\n",
              "    .dataframe tbody tr th {\n",
              "        vertical-align: top;\n",
              "    }\n",
              "\n",
              "    .dataframe thead th {\n",
              "        text-align: right;\n",
              "    }\n",
              "</style>\n",
              "<table border=\"1\" class=\"dataframe\">\n",
              "  <thead>\n",
              "    <tr style=\"text-align: right;\">\n",
              "      <th></th>\n",
              "      <th>chunks</th>\n",
              "      <th>begin</th>\n",
              "      <th>end</th>\n",
              "      <th>sentence_id</th>\n",
              "      <th>entities</th>\n",
              "    </tr>\n",
              "  </thead>\n",
              "  <tbody>\n",
              "    <tr>\n",
              "      <th>0</th>\n",
              "      <td>gestational diabetes mellitus</td>\n",
              "      <td>40</td>\n",
              "      <td>68</td>\n",
              "      <td>0</td>\n",
              "      <td>PROBLEM</td>\n",
              "    </tr>\n",
              "    <tr>\n",
              "      <th>1</th>\n",
              "      <td>subsequent type two diabetes mellitus</td>\n",
              "      <td>118</td>\n",
              "      <td>154</td>\n",
              "      <td>0</td>\n",
              "      <td>PROBLEM</td>\n",
              "    </tr>\n",
              "    <tr>\n",
              "      <th>2</th>\n",
              "      <td>T2DM</td>\n",
              "      <td>158</td>\n",
              "      <td>161</td>\n",
              "      <td>0</td>\n",
              "      <td>PROBLEM</td>\n",
              "    </tr>\n",
              "    <tr>\n",
              "      <th>3</th>\n",
              "      <td>HTG-induced pancreatitis</td>\n",
              "      <td>187</td>\n",
              "      <td>210</td>\n",
              "      <td>0</td>\n",
              "      <td>PROBLEM</td>\n",
              "    </tr>\n",
              "    <tr>\n",
              "      <th>4</th>\n",
              "      <td>an acute hepatitis</td>\n",
              "      <td>268</td>\n",
              "      <td>285</td>\n",
              "      <td>0</td>\n",
              "      <td>PROBLEM</td>\n",
              "    </tr>\n",
              "    <tr>\n",
              "      <th>5</th>\n",
              "      <td>polyuria</td>\n",
              "      <td>326</td>\n",
              "      <td>333</td>\n",
              "      <td>0</td>\n",
              "      <td>PROBLEM</td>\n",
              "    </tr>\n",
              "    <tr>\n",
              "      <th>6</th>\n",
              "      <td>poor appetite</td>\n",
              "      <td>337</td>\n",
              "      <td>349</td>\n",
              "      <td>0</td>\n",
              "      <td>PROBLEM</td>\n",
              "    </tr>\n",
              "    <tr>\n",
              "      <th>7</th>\n",
              "      <td>vomiting</td>\n",
              "      <td>357</td>\n",
              "      <td>364</td>\n",
              "      <td>0</td>\n",
              "      <td>PROBLEM</td>\n",
              "    </tr>\n",
              "    <tr>\n",
              "      <th>8</th>\n",
              "      <td>metformin</td>\n",
              "      <td>380</td>\n",
              "      <td>388</td>\n",
              "      <td>1</td>\n",
              "      <td>TREATMENT</td>\n",
              "    </tr>\n",
              "    <tr>\n",
              "      <th>9</th>\n",
              "      <td>glipizide</td>\n",
              "      <td>392</td>\n",
              "      <td>400</td>\n",
              "      <td>1</td>\n",
              "      <td>TREATMENT</td>\n",
              "    </tr>\n",
              "    <tr>\n",
              "      <th>10</th>\n",
              "      <td>dapagliflozin</td>\n",
              "      <td>408</td>\n",
              "      <td>420</td>\n",
              "      <td>1</td>\n",
              "      <td>TREATMENT</td>\n",
              "    </tr>\n",
              "    <tr>\n",
              "      <th>11</th>\n",
              "      <td>T2DM</td>\n",
              "      <td>426</td>\n",
              "      <td>429</td>\n",
              "      <td>1</td>\n",
              "      <td>PROBLEM</td>\n",
              "    </tr>\n",
              "    <tr>\n",
              "      <th>12</th>\n",
              "      <td>atorvastatin</td>\n",
              "      <td>435</td>\n",
              "      <td>446</td>\n",
              "      <td>1</td>\n",
              "      <td>TREATMENT</td>\n",
              "    </tr>\n",
              "    <tr>\n",
              "      <th>13</th>\n",
              "      <td>gemfibrozil</td>\n",
              "      <td>452</td>\n",
              "      <td>462</td>\n",
              "      <td>1</td>\n",
              "      <td>TREATMENT</td>\n",
              "    </tr>\n",
              "    <tr>\n",
              "      <th>14</th>\n",
              "      <td>HTG</td>\n",
              "      <td>468</td>\n",
              "      <td>470</td>\n",
              "      <td>1</td>\n",
              "      <td>PROBLEM</td>\n",
              "    </tr>\n",
              "    <tr>\n",
              "      <th>15</th>\n",
              "      <td>dapagliflozin</td>\n",
              "      <td>490</td>\n",
              "      <td>502</td>\n",
              "      <td>2</td>\n",
              "      <td>TREATMENT</td>\n",
              "    </tr>\n",
              "    <tr>\n",
              "      <th>16</th>\n",
              "      <td>Physical examination</td>\n",
              "      <td>550</td>\n",
              "      <td>569</td>\n",
              "      <td>3</td>\n",
              "      <td>TEST</td>\n",
              "    </tr>\n",
              "    <tr>\n",
              "      <th>17</th>\n",
              "      <td>dry oral mucosa</td>\n",
              "      <td>607</td>\n",
              "      <td>621</td>\n",
              "      <td>3</td>\n",
              "      <td>PROBLEM</td>\n",
              "    </tr>\n",
              "    <tr>\n",
              "      <th>18</th>\n",
              "      <td>her abdominal examination</td>\n",
              "      <td>641</td>\n",
              "      <td>665</td>\n",
              "      <td>4</td>\n",
              "      <td>TEST</td>\n",
              "    </tr>\n",
              "    <tr>\n",
              "      <th>19</th>\n",
              "      <td>tenderness</td>\n",
              "      <td>686</td>\n",
              "      <td>695</td>\n",
              "      <td>4</td>\n",
              "      <td>PROBLEM</td>\n",
              "    </tr>\n",
              "  </tbody>\n",
              "</table>\n",
              "</div>\n",
              "      <button class=\"colab-df-convert\" onclick=\"convertToInteractive('df-434133a5-d540-4b03-8c81-58f0923787a8')\"\n",
              "              title=\"Convert this dataframe to an interactive table.\"\n",
              "              style=\"display:none;\">\n",
              "        \n",
              "  <svg xmlns=\"http://www.w3.org/2000/svg\" height=\"24px\"viewBox=\"0 0 24 24\"\n",
              "       width=\"24px\">\n",
              "    <path d=\"M0 0h24v24H0V0z\" fill=\"none\"/>\n",
              "    <path d=\"M18.56 5.44l.94 2.06.94-2.06 2.06-.94-2.06-.94-.94-2.06-.94 2.06-2.06.94zm-11 1L8.5 8.5l.94-2.06 2.06-.94-2.06-.94L8.5 2.5l-.94 2.06-2.06.94zm10 10l.94 2.06.94-2.06 2.06-.94-2.06-.94-.94-2.06-.94 2.06-2.06.94z\"/><path d=\"M17.41 7.96l-1.37-1.37c-.4-.4-.92-.59-1.43-.59-.52 0-1.04.2-1.43.59L10.3 9.45l-7.72 7.72c-.78.78-.78 2.05 0 2.83L4 21.41c.39.39.9.59 1.41.59.51 0 1.02-.2 1.41-.59l7.78-7.78 2.81-2.81c.8-.78.8-2.07 0-2.86zM5.41 20L4 18.59l7.72-7.72 1.47 1.35L5.41 20z\"/>\n",
              "  </svg>\n",
              "      </button>\n",
              "      \n",
              "  <style>\n",
              "    .colab-df-container {\n",
              "      display:flex;\n",
              "      flex-wrap:wrap;\n",
              "      gap: 12px;\n",
              "    }\n",
              "\n",
              "    .colab-df-convert {\n",
              "      background-color: #E8F0FE;\n",
              "      border: none;\n",
              "      border-radius: 50%;\n",
              "      cursor: pointer;\n",
              "      display: none;\n",
              "      fill: #1967D2;\n",
              "      height: 32px;\n",
              "      padding: 0 0 0 0;\n",
              "      width: 32px;\n",
              "    }\n",
              "\n",
              "    .colab-df-convert:hover {\n",
              "      background-color: #E2EBFA;\n",
              "      box-shadow: 0px 1px 2px rgba(60, 64, 67, 0.3), 0px 1px 3px 1px rgba(60, 64, 67, 0.15);\n",
              "      fill: #174EA6;\n",
              "    }\n",
              "\n",
              "    [theme=dark] .colab-df-convert {\n",
              "      background-color: #3B4455;\n",
              "      fill: #D2E3FC;\n",
              "    }\n",
              "\n",
              "    [theme=dark] .colab-df-convert:hover {\n",
              "      background-color: #434B5C;\n",
              "      box-shadow: 0px 1px 3px 1px rgba(0, 0, 0, 0.15);\n",
              "      filter: drop-shadow(0px 1px 2px rgba(0, 0, 0, 0.3));\n",
              "      fill: #FFFFFF;\n",
              "    }\n",
              "  </style>\n",
              "\n",
              "      <script>\n",
              "        const buttonEl =\n",
              "          document.querySelector('#df-434133a5-d540-4b03-8c81-58f0923787a8 button.colab-df-convert');\n",
              "        buttonEl.style.display =\n",
              "          google.colab.kernel.accessAllowed ? 'block' : 'none';\n",
              "\n",
              "        async function convertToInteractive(key) {\n",
              "          const element = document.querySelector('#df-434133a5-d540-4b03-8c81-58f0923787a8');\n",
              "          const dataTable =\n",
              "            await google.colab.kernel.invokeFunction('convertToInteractive',\n",
              "                                                     [key], {});\n",
              "          if (!dataTable) return;\n",
              "\n",
              "          const docLinkHtml = 'Like what you see? Visit the ' +\n",
              "            '<a target=\"_blank\" href=https://colab.research.google.com/notebooks/data_table.ipynb>data table notebook</a>'\n",
              "            + ' to learn more about interactive tables.';\n",
              "          element.innerHTML = '';\n",
              "          dataTable['output_type'] = 'display_data';\n",
              "          await google.colab.output.renderOutput(dataTable, element);\n",
              "          const docLink = document.createElement('div');\n",
              "          docLink.innerHTML = docLinkHtml;\n",
              "          element.appendChild(docLink);\n",
              "        }\n",
              "      </script>\n",
              "    </div>\n",
              "  </div>\n",
              "  "
            ]
          },
          "metadata": {},
          "execution_count": 19
        }
      ]
    },
    {
      "cell_type": "code",
      "source": [],
      "metadata": {
        "id": "t3qkvQiF5LuR"
      },
      "execution_count": null,
      "outputs": []
    },
    {
      "cell_type": "code",
      "source": [],
      "metadata": {
        "id": "r0eNgIOMHIua"
      },
      "execution_count": null,
      "outputs": []
    },
    {
      "cell_type": "markdown",
      "source": [
        "### using ResourceDownloader"
      ],
      "metadata": {
        "id": "3VgXryE0HLV1"
      }
    },
    {
      "cell_type": "code",
      "source": [
        "from sparknlp.pretrained import ResourceDownloader\n",
        "\n",
        "#The first argument is the path to the zip file and the second one is the folder.\n",
        "ResourceDownloader.downloadModelDirectly(\"clinical/models/embeddings_clinical_en_2.4.0_2.4_1580237286004.zip\", \"clinical/models\")  \n",
        "ResourceDownloader.downloadModelDirectly(\"clinical/models/ner_clinical_large_en_3.0.0_3.0_1617206114650.zip\", \"clinical/models\") "
      ],
      "metadata": {
        "id": "x7VJa_WzHLV1"
      },
      "execution_count": 20,
      "outputs": []
    },
    {
      "cell_type": "code",
      "source": [
        "WordEmbeddingsPath =  \"/root/cache_pretrained/embeddings_clinical_en_2.4.0_2.4_1580237286004\"\n",
        "NerModelPath = \"/root/cache_pretrained/ner_clinical_large_en_3.0.0_3.0_1617206114650\""
      ],
      "metadata": {
        "id": "Q27IP_muHLV2"
      },
      "execution_count": 21,
      "outputs": []
    },
    {
      "cell_type": "markdown",
      "source": [
        "**ner pipeline**"
      ],
      "metadata": {
        "id": "PDgseSlRHLV3"
      }
    },
    {
      "cell_type": "code",
      "source": [
        "# Annotator that transforms a text column from dataframe into an Annotation ready for NLP\n",
        "documentAssembler = DocumentAssembler()\\\n",
        "    .setInputCol(\"text\")\\\n",
        "    .setOutputCol(\"document\")\n",
        "        \n",
        "sentenceDetector = SentenceDetector()\\\n",
        "    .setInputCols([\"document\"])\\\n",
        "    .setOutputCol(\"sentence\")\n",
        " \n",
        "# Tokenizer splits words in a relevant format for NLP\n",
        "tokenizer = Tokenizer()\\\n",
        "    .setInputCols([\"sentence\"])\\\n",
        "    .setOutputCol(\"token\")\n",
        "\n",
        "# Clinical word embeddings trained on PubMED dataset\n",
        "word_embeddings = WordEmbeddingsModel.load(WordEmbeddingsPath)\\\n",
        "    .setInputCols([\"sentence\", \"token\"])\\\n",
        "    .setOutputCol(\"embeddings\")\n",
        "\n",
        "# NER model trained on i2b2 (sampled from MIMIC) dataset\n",
        "jsl_ner = MedicalNerModel.load(NerModelPath) \\\n",
        "    .setInputCols([\"sentence\", \"token\", \"embeddings\"]) \\\n",
        "    .setOutputCol(\"ner\")\\\n",
        "    .setLabelCasing(\"upper\") #decide if we want to return the tags in upper or lower case \n",
        "\n",
        "ner_converter = NerConverter()\\\n",
        "    .setInputCols([\"sentence\",\"token\",\"ner\"])\\\n",
        "    .setOutputCol(\"ner_chunk\")\n",
        "\n",
        "nlpPipeline = Pipeline(stages=[\n",
        "        documentAssembler,\n",
        "        sentenceDetector,\n",
        "        tokenizer,\n",
        "        word_embeddings,\n",
        "        jsl_ner,\n",
        "        ner_converter])\n",
        "\n",
        "\n",
        "empty_data = spark.createDataFrame([[\"\"]]).toDF(\"text\")\n",
        "\n",
        "model = nlpPipeline.fit(empty_data)"
      ],
      "metadata": {
        "id": "c_NfezboHLV3"
      },
      "execution_count": 22,
      "outputs": []
    },
    {
      "cell_type": "code",
      "source": [
        "# fullAnnotate in LightPipeline\n",
        "\n",
        "text = '''\n",
        "A 28-year-old female with a history of gestational diabetes mellitus diagnosed eight years prior to presentation and subsequent type two diabetes mellitus ( T2DM ), one prior episode of HTG-induced pancreatitis three years prior to presentation , and associated with an acute hepatitis , presented with a one-week history of polyuria , poor appetite , and vomiting . \n",
        "She was on metformin , glipizide , and dapagliflozin for T2DM and atorvastatin and gemfibrozil for HTG . She had been on dapagliflozin for six months at the time of presentation . \n",
        "Physical examination on presentation was significant for dry oral mucosa ; significantly , her abdominal examination was benign with no tenderness , guarding , or rigidity . Pertinent laboratory findings on admission were : serum glucose 111 mg/dl ,  creatinine 0.4 mg/dL , triglycerides 508 mg/dL , total cholesterol 122 mg/dL , and venous pH 7.27 . \n",
        "'''\n",
        "\n",
        "print (text)\n",
        "\n",
        "light_model = LightPipeline(model)\n",
        "\n",
        "light_result = light_model.fullAnnotate(text)\n",
        "\n",
        "\n",
        "chunks = []\n",
        "entities = []\n",
        "sentence= []\n",
        "begin = []\n",
        "end = []\n",
        "\n",
        "for n in light_result[0]['ner_chunk']:\n",
        "        \n",
        "    begin.append(n.begin)\n",
        "    end.append(n.end)\n",
        "    chunks.append(n.result)\n",
        "    entities.append(n.metadata['entity']) \n",
        "    sentence.append(n.metadata['sentence'])\n",
        "    \n",
        "    \n",
        "import pandas as pd\n",
        "\n",
        "df_clinical = pd.DataFrame({'chunks':chunks, \n",
        "                            'begin': begin, \n",
        "                            'end':end, \n",
        "                            'sentence_id':sentence, \n",
        "                            'entities':entities})\n",
        "\n",
        "df_clinical.head(20)"
      ],
      "metadata": {
        "colab": {
          "base_uri": "https://localhost:8080/",
          "height": 787
        },
        "outputId": "2a799b3e-cf50-4ca1-f372-488fef3d4660",
        "id": "R1Wwg5fhHLV3"
      },
      "execution_count": 23,
      "outputs": [
        {
          "output_type": "stream",
          "name": "stdout",
          "text": [
            "\n",
            "A 28-year-old female with a history of gestational diabetes mellitus diagnosed eight years prior to presentation and subsequent type two diabetes mellitus ( T2DM ), one prior episode of HTG-induced pancreatitis three years prior to presentation , and associated with an acute hepatitis , presented with a one-week history of polyuria , poor appetite , and vomiting . \n",
            "She was on metformin , glipizide , and dapagliflozin for T2DM and atorvastatin and gemfibrozil for HTG . She had been on dapagliflozin for six months at the time of presentation . \n",
            "Physical examination on presentation was significant for dry oral mucosa ; significantly , her abdominal examination was benign with no tenderness , guarding , or rigidity . Pertinent laboratory findings on admission were : serum glucose 111 mg/dl ,  creatinine 0.4 mg/dL , triglycerides 508 mg/dL , total cholesterol 122 mg/dL , and venous pH 7.27 . \n",
            "\n"
          ]
        },
        {
          "output_type": "execute_result",
          "data": {
            "text/plain": [
              "                                   chunks  begin  end sentence_id   entities\n",
              "0           gestational diabetes mellitus     40   68           0    PROBLEM\n",
              "1   subsequent type two diabetes mellitus    118  154           0    PROBLEM\n",
              "2                                    T2DM    158  161           0    PROBLEM\n",
              "3                HTG-induced pancreatitis    187  210           0    PROBLEM\n",
              "4                      an acute hepatitis    268  285           0    PROBLEM\n",
              "5                                polyuria    326  333           0    PROBLEM\n",
              "6                           poor appetite    337  349           0    PROBLEM\n",
              "7                                vomiting    357  364           0    PROBLEM\n",
              "8                               metformin    380  388           1  TREATMENT\n",
              "9                               glipizide    392  400           1  TREATMENT\n",
              "10                          dapagliflozin    408  420           1  TREATMENT\n",
              "11                                   T2DM    426  429           1    PROBLEM\n",
              "12                           atorvastatin    435  446           1  TREATMENT\n",
              "13                            gemfibrozil    452  462           1  TREATMENT\n",
              "14                                    HTG    468  470           1    PROBLEM\n",
              "15                          dapagliflozin    490  502           2  TREATMENT\n",
              "16                   Physical examination    550  569           3       TEST\n",
              "17                        dry oral mucosa    607  621           3    PROBLEM\n",
              "18              her abdominal examination    641  665           4       TEST\n",
              "19                             tenderness    686  695           4    PROBLEM"
            ],
            "text/html": [
              "\n",
              "  <div id=\"df-fc505bf0-d41a-40b0-84d7-a414aebd6dc5\">\n",
              "    <div class=\"colab-df-container\">\n",
              "      <div>\n",
              "<style scoped>\n",
              "    .dataframe tbody tr th:only-of-type {\n",
              "        vertical-align: middle;\n",
              "    }\n",
              "\n",
              "    .dataframe tbody tr th {\n",
              "        vertical-align: top;\n",
              "    }\n",
              "\n",
              "    .dataframe thead th {\n",
              "        text-align: right;\n",
              "    }\n",
              "</style>\n",
              "<table border=\"1\" class=\"dataframe\">\n",
              "  <thead>\n",
              "    <tr style=\"text-align: right;\">\n",
              "      <th></th>\n",
              "      <th>chunks</th>\n",
              "      <th>begin</th>\n",
              "      <th>end</th>\n",
              "      <th>sentence_id</th>\n",
              "      <th>entities</th>\n",
              "    </tr>\n",
              "  </thead>\n",
              "  <tbody>\n",
              "    <tr>\n",
              "      <th>0</th>\n",
              "      <td>gestational diabetes mellitus</td>\n",
              "      <td>40</td>\n",
              "      <td>68</td>\n",
              "      <td>0</td>\n",
              "      <td>PROBLEM</td>\n",
              "    </tr>\n",
              "    <tr>\n",
              "      <th>1</th>\n",
              "      <td>subsequent type two diabetes mellitus</td>\n",
              "      <td>118</td>\n",
              "      <td>154</td>\n",
              "      <td>0</td>\n",
              "      <td>PROBLEM</td>\n",
              "    </tr>\n",
              "    <tr>\n",
              "      <th>2</th>\n",
              "      <td>T2DM</td>\n",
              "      <td>158</td>\n",
              "      <td>161</td>\n",
              "      <td>0</td>\n",
              "      <td>PROBLEM</td>\n",
              "    </tr>\n",
              "    <tr>\n",
              "      <th>3</th>\n",
              "      <td>HTG-induced pancreatitis</td>\n",
              "      <td>187</td>\n",
              "      <td>210</td>\n",
              "      <td>0</td>\n",
              "      <td>PROBLEM</td>\n",
              "    </tr>\n",
              "    <tr>\n",
              "      <th>4</th>\n",
              "      <td>an acute hepatitis</td>\n",
              "      <td>268</td>\n",
              "      <td>285</td>\n",
              "      <td>0</td>\n",
              "      <td>PROBLEM</td>\n",
              "    </tr>\n",
              "    <tr>\n",
              "      <th>5</th>\n",
              "      <td>polyuria</td>\n",
              "      <td>326</td>\n",
              "      <td>333</td>\n",
              "      <td>0</td>\n",
              "      <td>PROBLEM</td>\n",
              "    </tr>\n",
              "    <tr>\n",
              "      <th>6</th>\n",
              "      <td>poor appetite</td>\n",
              "      <td>337</td>\n",
              "      <td>349</td>\n",
              "      <td>0</td>\n",
              "      <td>PROBLEM</td>\n",
              "    </tr>\n",
              "    <tr>\n",
              "      <th>7</th>\n",
              "      <td>vomiting</td>\n",
              "      <td>357</td>\n",
              "      <td>364</td>\n",
              "      <td>0</td>\n",
              "      <td>PROBLEM</td>\n",
              "    </tr>\n",
              "    <tr>\n",
              "      <th>8</th>\n",
              "      <td>metformin</td>\n",
              "      <td>380</td>\n",
              "      <td>388</td>\n",
              "      <td>1</td>\n",
              "      <td>TREATMENT</td>\n",
              "    </tr>\n",
              "    <tr>\n",
              "      <th>9</th>\n",
              "      <td>glipizide</td>\n",
              "      <td>392</td>\n",
              "      <td>400</td>\n",
              "      <td>1</td>\n",
              "      <td>TREATMENT</td>\n",
              "    </tr>\n",
              "    <tr>\n",
              "      <th>10</th>\n",
              "      <td>dapagliflozin</td>\n",
              "      <td>408</td>\n",
              "      <td>420</td>\n",
              "      <td>1</td>\n",
              "      <td>TREATMENT</td>\n",
              "    </tr>\n",
              "    <tr>\n",
              "      <th>11</th>\n",
              "      <td>T2DM</td>\n",
              "      <td>426</td>\n",
              "      <td>429</td>\n",
              "      <td>1</td>\n",
              "      <td>PROBLEM</td>\n",
              "    </tr>\n",
              "    <tr>\n",
              "      <th>12</th>\n",
              "      <td>atorvastatin</td>\n",
              "      <td>435</td>\n",
              "      <td>446</td>\n",
              "      <td>1</td>\n",
              "      <td>TREATMENT</td>\n",
              "    </tr>\n",
              "    <tr>\n",
              "      <th>13</th>\n",
              "      <td>gemfibrozil</td>\n",
              "      <td>452</td>\n",
              "      <td>462</td>\n",
              "      <td>1</td>\n",
              "      <td>TREATMENT</td>\n",
              "    </tr>\n",
              "    <tr>\n",
              "      <th>14</th>\n",
              "      <td>HTG</td>\n",
              "      <td>468</td>\n",
              "      <td>470</td>\n",
              "      <td>1</td>\n",
              "      <td>PROBLEM</td>\n",
              "    </tr>\n",
              "    <tr>\n",
              "      <th>15</th>\n",
              "      <td>dapagliflozin</td>\n",
              "      <td>490</td>\n",
              "      <td>502</td>\n",
              "      <td>2</td>\n",
              "      <td>TREATMENT</td>\n",
              "    </tr>\n",
              "    <tr>\n",
              "      <th>16</th>\n",
              "      <td>Physical examination</td>\n",
              "      <td>550</td>\n",
              "      <td>569</td>\n",
              "      <td>3</td>\n",
              "      <td>TEST</td>\n",
              "    </tr>\n",
              "    <tr>\n",
              "      <th>17</th>\n",
              "      <td>dry oral mucosa</td>\n",
              "      <td>607</td>\n",
              "      <td>621</td>\n",
              "      <td>3</td>\n",
              "      <td>PROBLEM</td>\n",
              "    </tr>\n",
              "    <tr>\n",
              "      <th>18</th>\n",
              "      <td>her abdominal examination</td>\n",
              "      <td>641</td>\n",
              "      <td>665</td>\n",
              "      <td>4</td>\n",
              "      <td>TEST</td>\n",
              "    </tr>\n",
              "    <tr>\n",
              "      <th>19</th>\n",
              "      <td>tenderness</td>\n",
              "      <td>686</td>\n",
              "      <td>695</td>\n",
              "      <td>4</td>\n",
              "      <td>PROBLEM</td>\n",
              "    </tr>\n",
              "  </tbody>\n",
              "</table>\n",
              "</div>\n",
              "      <button class=\"colab-df-convert\" onclick=\"convertToInteractive('df-fc505bf0-d41a-40b0-84d7-a414aebd6dc5')\"\n",
              "              title=\"Convert this dataframe to an interactive table.\"\n",
              "              style=\"display:none;\">\n",
              "        \n",
              "  <svg xmlns=\"http://www.w3.org/2000/svg\" height=\"24px\"viewBox=\"0 0 24 24\"\n",
              "       width=\"24px\">\n",
              "    <path d=\"M0 0h24v24H0V0z\" fill=\"none\"/>\n",
              "    <path d=\"M18.56 5.44l.94 2.06.94-2.06 2.06-.94-2.06-.94-.94-2.06-.94 2.06-2.06.94zm-11 1L8.5 8.5l.94-2.06 2.06-.94-2.06-.94L8.5 2.5l-.94 2.06-2.06.94zm10 10l.94 2.06.94-2.06 2.06-.94-2.06-.94-.94-2.06-.94 2.06-2.06.94z\"/><path d=\"M17.41 7.96l-1.37-1.37c-.4-.4-.92-.59-1.43-.59-.52 0-1.04.2-1.43.59L10.3 9.45l-7.72 7.72c-.78.78-.78 2.05 0 2.83L4 21.41c.39.39.9.59 1.41.59.51 0 1.02-.2 1.41-.59l7.78-7.78 2.81-2.81c.8-.78.8-2.07 0-2.86zM5.41 20L4 18.59l7.72-7.72 1.47 1.35L5.41 20z\"/>\n",
              "  </svg>\n",
              "      </button>\n",
              "      \n",
              "  <style>\n",
              "    .colab-df-container {\n",
              "      display:flex;\n",
              "      flex-wrap:wrap;\n",
              "      gap: 12px;\n",
              "    }\n",
              "\n",
              "    .colab-df-convert {\n",
              "      background-color: #E8F0FE;\n",
              "      border: none;\n",
              "      border-radius: 50%;\n",
              "      cursor: pointer;\n",
              "      display: none;\n",
              "      fill: #1967D2;\n",
              "      height: 32px;\n",
              "      padding: 0 0 0 0;\n",
              "      width: 32px;\n",
              "    }\n",
              "\n",
              "    .colab-df-convert:hover {\n",
              "      background-color: #E2EBFA;\n",
              "      box-shadow: 0px 1px 2px rgba(60, 64, 67, 0.3), 0px 1px 3px 1px rgba(60, 64, 67, 0.15);\n",
              "      fill: #174EA6;\n",
              "    }\n",
              "\n",
              "    [theme=dark] .colab-df-convert {\n",
              "      background-color: #3B4455;\n",
              "      fill: #D2E3FC;\n",
              "    }\n",
              "\n",
              "    [theme=dark] .colab-df-convert:hover {\n",
              "      background-color: #434B5C;\n",
              "      box-shadow: 0px 1px 3px 1px rgba(0, 0, 0, 0.15);\n",
              "      filter: drop-shadow(0px 1px 2px rgba(0, 0, 0, 0.3));\n",
              "      fill: #FFFFFF;\n",
              "    }\n",
              "  </style>\n",
              "\n",
              "      <script>\n",
              "        const buttonEl =\n",
              "          document.querySelector('#df-fc505bf0-d41a-40b0-84d7-a414aebd6dc5 button.colab-df-convert');\n",
              "        buttonEl.style.display =\n",
              "          google.colab.kernel.accessAllowed ? 'block' : 'none';\n",
              "\n",
              "        async function convertToInteractive(key) {\n",
              "          const element = document.querySelector('#df-fc505bf0-d41a-40b0-84d7-a414aebd6dc5');\n",
              "          const dataTable =\n",
              "            await google.colab.kernel.invokeFunction('convertToInteractive',\n",
              "                                                     [key], {});\n",
              "          if (!dataTable) return;\n",
              "\n",
              "          const docLinkHtml = 'Like what you see? Visit the ' +\n",
              "            '<a target=\"_blank\" href=https://colab.research.google.com/notebooks/data_table.ipynb>data table notebook</a>'\n",
              "            + ' to learn more about interactive tables.';\n",
              "          element.innerHTML = '';\n",
              "          dataTable['output_type'] = 'display_data';\n",
              "          await google.colab.output.renderOutput(dataTable, element);\n",
              "          const docLink = document.createElement('div');\n",
              "          docLink.innerHTML = docLinkHtml;\n",
              "          element.appendChild(docLink);\n",
              "        }\n",
              "      </script>\n",
              "    </div>\n",
              "  </div>\n",
              "  "
            ]
          },
          "metadata": {},
          "execution_count": 23
        }
      ]
    },
    {
      "cell_type": "code",
      "source": [],
      "metadata": {
        "id": "i60arGatHLV4"
      },
      "execution_count": null,
      "outputs": []
    },
    {
      "cell_type": "code",
      "source": [
        "clinical_ner = MedicalNerModel.pretrained(\"ner_clinical_large\",\"en\",\"clinical/models\")\\\n",
        "    .setInputCols([\"sentence\",\"token\",\"embeddings\"])\\\n",
        "    .setOutputCol(\"ner\")"
      ],
      "metadata": {
        "colab": {
          "base_uri": "https://localhost:8080/"
        },
        "id": "q-cBUyXIHLV4",
        "outputId": "87736594-493a-4bc4-cda8-109328c7c63f"
      },
      "execution_count": 24,
      "outputs": [
        {
          "output_type": "stream",
          "name": "stdout",
          "text": [
            "ner_clinical_large download started this may take some time.\n",
            "[OK!]\n"
          ]
        }
      ]
    },
    {
      "cell_type": "markdown",
      "source": [
        "## offline mode public models"
      ],
      "metadata": {
        "id": "zk3wwYtnCXPC"
      }
    },
    {
      "cell_type": "markdown",
      "source": [
        "**Download the embedding model from Model Hub and Upload *zip_files* folder** \n",
        "\n",
        "https://nlp.johnsnowlabs.com/2020/01/22/glove_100d.html\n",
        "\n",
        "https://s3.amazonaws.com/auxdata.johnsnowlabs.com/public/models/glove_100d_en_2.4.0_2.4_1579690104032.zip"
      ],
      "metadata": {
        "id": "AwAP0h4ABVqo"
      }
    },
    {
      "cell_type": "code",
      "source": [
        "# or you can use internet connection\n",
        "# !wget https://s3.amazonaws.com/auxdata.johnsnowlabs.com/public/models/glove_100d_en_2.4.0_2.4_1579690104032.zip "
      ],
      "metadata": {
        "id": "9UrYru7REKC0"
      },
      "execution_count": null,
      "outputs": []
    },
    {
      "cell_type": "markdown",
      "source": [
        "drug and drop"
      ],
      "metadata": {
        "id": "vqvea7OGZmYu"
      }
    },
    {
      "cell_type": "code",
      "source": [
        "# Unzip\n",
        "shutil.unpack_archive('zip_files/glove_100d_en_2.4.0_2.4_1579690104032.zip',\n",
        "'modelhub_files/glove_100d', 'zip')"
      ],
      "metadata": {
        "id": "-Dj5i9HtCB4P"
      },
      "execution_count": null,
      "outputs": []
    },
    {
      "cell_type": "markdown",
      "source": [
        "**Download the ner_clinical_large model from Model Hub and Upload *zip_files* folder**\n",
        "\n",
        "https://nlp.johnsnowlabs.com/2020/03/19/ner_dl_en.html\n",
        "\n",
        "https://s3.amazonaws.com/auxdata.johnsnowlabs.com/public/models/ner_dl_en_2.4.3_2.4_1584624950746.zip"
      ],
      "metadata": {
        "id": "kcyrFucoCCPA"
      }
    },
    {
      "cell_type": "markdown",
      "source": [
        "drug and drop"
      ],
      "metadata": {
        "id": "SO5yKEhrZzAr"
      }
    },
    {
      "cell_type": "code",
      "source": [
        "# Unzip\n",
        "shutil.unpack_archive('zip_files/ner_dl_en_2.4.3_2.4_1584624950746.zip',\n",
        "'modelhub_files/ner_dl', 'zip')"
      ],
      "metadata": {
        "id": "t25lQkUbCCsc"
      },
      "execution_count": null,
      "outputs": []
    },
    {
      "cell_type": "markdown",
      "source": [
        "pipeline"
      ],
      "metadata": {
        "id": "ytUhZwslZqii"
      }
    },
    {
      "cell_type": "code",
      "source": [
        "documentAssembler = DocumentAssembler()\\\n",
        "    .setInputCol(\"text\")\\\n",
        "    .setOutputCol(\"document\")\n",
        "\n",
        "tokenizer = Tokenizer() \\\n",
        "    .setInputCols([\"document\"]) \\\n",
        "    .setOutputCol(\"token\")\n",
        "\n",
        "# ner_dl model is trained with glove_100d. So we use the same embeddings in the pipeline\n",
        "glove_embeddings = WordEmbeddingsModel.load('/content/modelhub_files/glove_100d')\\\n",
        "    .setInputCols([\"document\", 'token'])\\\n",
        "    .setOutputCol(\"embeddings\")\n",
        "\n",
        "public_ner = NerDLModel.load(\"/content/modelhub_files/ner_dl\")\\\n",
        "    .setInputCols([\"document\", \"token\", \"embeddings\"])\\\n",
        "    .setOutputCol(\"ner\")\n",
        "\n",
        "ner_converter = NerConverter() \\\n",
        "    .setInputCols([\"document\", \"token\", \"ner\"]) \\\n",
        "    .setOutputCol(\"ner_chunk\")\n",
        "\n",
        "nlpPipeline = Pipeline(stages=[\n",
        "    documentAssembler, \n",
        "    tokenizer,\n",
        "    glove_embeddings,\n",
        "    public_ner,\n",
        "    ner_converter\n",
        " ])\n",
        "\n",
        "empty_df = spark.createDataFrame([['']]).toDF(\"text\")\n",
        "\n",
        "pipelineModel = nlpPipeline.fit(empty_df)"
      ],
      "metadata": {
        "id": "VnfdIlXM77tl"
      },
      "execution_count": null,
      "outputs": []
    },
    {
      "cell_type": "code",
      "source": [
        "# fullAnnotate in LightPipeline\n",
        "\n",
        "light_model = LightPipeline(pipelineModel)\n",
        "\n",
        "light_result = light_model.annotate('Peter Parker is a nice persn and lives in New York. Bruce Wayne is also a nice guy and lives in Gotham City.')\n",
        "\n",
        "list(zip(light_result['token'], light_result['ner']))"
      ],
      "metadata": {
        "colab": {
          "base_uri": "https://localhost:8080/"
        },
        "id": "BNDD3fZjCssE",
        "outputId": "8ce85fcc-7048-4349-9544-93f0872767e6"
      },
      "execution_count": null,
      "outputs": [
        {
          "output_type": "execute_result",
          "data": {
            "text/plain": [
              "[('Peter', 'B-PER'),\n",
              " ('Parker', 'I-PER'),\n",
              " ('is', 'O'),\n",
              " ('a', 'O'),\n",
              " ('nice', 'O'),\n",
              " ('persn', 'O'),\n",
              " ('and', 'O'),\n",
              " ('lives', 'O'),\n",
              " ('in', 'O'),\n",
              " ('New', 'B-LOC'),\n",
              " ('York', 'I-LOC'),\n",
              " ('.', 'O'),\n",
              " ('Bruce', 'B-PER'),\n",
              " ('Wayne', 'I-PER'),\n",
              " ('is', 'O'),\n",
              " ('also', 'O'),\n",
              " ('a', 'O'),\n",
              " ('nice', 'O'),\n",
              " ('guy', 'O'),\n",
              " ('and', 'O'),\n",
              " ('lives', 'O'),\n",
              " ('in', 'O'),\n",
              " ('Gotham', 'B-LOC'),\n",
              " ('City', 'I-LOC'),\n",
              " ('.', 'O')]"
            ]
          },
          "metadata": {},
          "execution_count": 37
        }
      ]
    },
    {
      "cell_type": "code",
      "source": [
        "light_model = LightPipeline(pipelineModel)\n",
        "\n",
        "light_result = light_model.fullAnnotate('Peter Parker is a nice persn and lives in New York. Bruce Wayne is also a nice guy and lives in Gotham City.')\n",
        "\n",
        "\n",
        "chunks = []\n",
        "entities = []\n",
        "\n",
        "for n in light_result[0]['ner_chunk']:\n",
        "        \n",
        "    chunks.append(n.result)\n",
        "    entities.append(n.metadata['entity']) \n",
        "    \n",
        "    \n",
        "import pandas as pd\n",
        "\n",
        "df = pd.DataFrame({'chunks':chunks, 'entities':entities})\n",
        "\n",
        "df"
      ],
      "metadata": {
        "colab": {
          "base_uri": "https://localhost:8080/",
          "height": 174
        },
        "id": "Q-2bPorEFP1x",
        "outputId": "4af7e486-01ec-4b5a-cd10-2cc3db79f6f7"
      },
      "execution_count": null,
      "outputs": [
        {
          "output_type": "execute_result",
          "data": {
            "text/plain": [
              "         chunks entities\n",
              "0  Peter Parker      PER\n",
              "1      New York      LOC\n",
              "2   Bruce Wayne      PER\n",
              "3   Gotham City      LOC"
            ],
            "text/html": [
              "\n",
              "  <div id=\"df-62ceaa87-1d94-42ce-a85f-627597792d86\">\n",
              "    <div class=\"colab-df-container\">\n",
              "      <div>\n",
              "<style scoped>\n",
              "    .dataframe tbody tr th:only-of-type {\n",
              "        vertical-align: middle;\n",
              "    }\n",
              "\n",
              "    .dataframe tbody tr th {\n",
              "        vertical-align: top;\n",
              "    }\n",
              "\n",
              "    .dataframe thead th {\n",
              "        text-align: right;\n",
              "    }\n",
              "</style>\n",
              "<table border=\"1\" class=\"dataframe\">\n",
              "  <thead>\n",
              "    <tr style=\"text-align: right;\">\n",
              "      <th></th>\n",
              "      <th>chunks</th>\n",
              "      <th>entities</th>\n",
              "    </tr>\n",
              "  </thead>\n",
              "  <tbody>\n",
              "    <tr>\n",
              "      <th>0</th>\n",
              "      <td>Peter Parker</td>\n",
              "      <td>PER</td>\n",
              "    </tr>\n",
              "    <tr>\n",
              "      <th>1</th>\n",
              "      <td>New York</td>\n",
              "      <td>LOC</td>\n",
              "    </tr>\n",
              "    <tr>\n",
              "      <th>2</th>\n",
              "      <td>Bruce Wayne</td>\n",
              "      <td>PER</td>\n",
              "    </tr>\n",
              "    <tr>\n",
              "      <th>3</th>\n",
              "      <td>Gotham City</td>\n",
              "      <td>LOC</td>\n",
              "    </tr>\n",
              "  </tbody>\n",
              "</table>\n",
              "</div>\n",
              "      <button class=\"colab-df-convert\" onclick=\"convertToInteractive('df-62ceaa87-1d94-42ce-a85f-627597792d86')\"\n",
              "              title=\"Convert this dataframe to an interactive table.\"\n",
              "              style=\"display:none;\">\n",
              "        \n",
              "  <svg xmlns=\"http://www.w3.org/2000/svg\" height=\"24px\"viewBox=\"0 0 24 24\"\n",
              "       width=\"24px\">\n",
              "    <path d=\"M0 0h24v24H0V0z\" fill=\"none\"/>\n",
              "    <path d=\"M18.56 5.44l.94 2.06.94-2.06 2.06-.94-2.06-.94-.94-2.06-.94 2.06-2.06.94zm-11 1L8.5 8.5l.94-2.06 2.06-.94-2.06-.94L8.5 2.5l-.94 2.06-2.06.94zm10 10l.94 2.06.94-2.06 2.06-.94-2.06-.94-.94-2.06-.94 2.06-2.06.94z\"/><path d=\"M17.41 7.96l-1.37-1.37c-.4-.4-.92-.59-1.43-.59-.52 0-1.04.2-1.43.59L10.3 9.45l-7.72 7.72c-.78.78-.78 2.05 0 2.83L4 21.41c.39.39.9.59 1.41.59.51 0 1.02-.2 1.41-.59l7.78-7.78 2.81-2.81c.8-.78.8-2.07 0-2.86zM5.41 20L4 18.59l7.72-7.72 1.47 1.35L5.41 20z\"/>\n",
              "  </svg>\n",
              "      </button>\n",
              "      \n",
              "  <style>\n",
              "    .colab-df-container {\n",
              "      display:flex;\n",
              "      flex-wrap:wrap;\n",
              "      gap: 12px;\n",
              "    }\n",
              "\n",
              "    .colab-df-convert {\n",
              "      background-color: #E8F0FE;\n",
              "      border: none;\n",
              "      border-radius: 50%;\n",
              "      cursor: pointer;\n",
              "      display: none;\n",
              "      fill: #1967D2;\n",
              "      height: 32px;\n",
              "      padding: 0 0 0 0;\n",
              "      width: 32px;\n",
              "    }\n",
              "\n",
              "    .colab-df-convert:hover {\n",
              "      background-color: #E2EBFA;\n",
              "      box-shadow: 0px 1px 2px rgba(60, 64, 67, 0.3), 0px 1px 3px 1px rgba(60, 64, 67, 0.15);\n",
              "      fill: #174EA6;\n",
              "    }\n",
              "\n",
              "    [theme=dark] .colab-df-convert {\n",
              "      background-color: #3B4455;\n",
              "      fill: #D2E3FC;\n",
              "    }\n",
              "\n",
              "    [theme=dark] .colab-df-convert:hover {\n",
              "      background-color: #434B5C;\n",
              "      box-shadow: 0px 1px 3px 1px rgba(0, 0, 0, 0.15);\n",
              "      filter: drop-shadow(0px 1px 2px rgba(0, 0, 0, 0.3));\n",
              "      fill: #FFFFFF;\n",
              "    }\n",
              "  </style>\n",
              "\n",
              "      <script>\n",
              "        const buttonEl =\n",
              "          document.querySelector('#df-62ceaa87-1d94-42ce-a85f-627597792d86 button.colab-df-convert');\n",
              "        buttonEl.style.display =\n",
              "          google.colab.kernel.accessAllowed ? 'block' : 'none';\n",
              "\n",
              "        async function convertToInteractive(key) {\n",
              "          const element = document.querySelector('#df-62ceaa87-1d94-42ce-a85f-627597792d86');\n",
              "          const dataTable =\n",
              "            await google.colab.kernel.invokeFunction('convertToInteractive',\n",
              "                                                     [key], {});\n",
              "          if (!dataTable) return;\n",
              "\n",
              "          const docLinkHtml = 'Like what you see? Visit the ' +\n",
              "            '<a target=\"_blank\" href=https://colab.research.google.com/notebooks/data_table.ipynb>data table notebook</a>'\n",
              "            + ' to learn more about interactive tables.';\n",
              "          element.innerHTML = '';\n",
              "          dataTable['output_type'] = 'display_data';\n",
              "          await google.colab.output.renderOutput(dataTable, element);\n",
              "          const docLink = document.createElement('div');\n",
              "          docLink.innerHTML = docLinkHtml;\n",
              "          element.appendChild(docLink);\n",
              "        }\n",
              "      </script>\n",
              "    </div>\n",
              "  </div>\n",
              "  "
            ]
          },
          "metadata": {},
          "execution_count": 39
        }
      ]
    }
  ]
}
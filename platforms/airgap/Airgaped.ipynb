{
  "cells": [
    {
      "cell_type": "markdown",
      "metadata": {
        "id": "3WlC622OOXzz"
      },
      "source": [
        "![JohnSnowLabs](https://nlp.johnsnowlabs.com/assets/images/logo.png)"
      ]
    },
    {
      "cell_type": "markdown",
      "metadata": {
        "id": "V0a21Skcd2KE"
      },
      "source": [
        "# Installing Spark NLP offline mode\n",
        "\n",
        "\n"
      ]
    },
    {
      "cell_type": "markdown",
      "metadata": {
        "id": "eWKAuvO5d3Kf"
      },
      "source": [
        "Spark-nlp installation Doc : https://nlp.johnsnowlabs.com/docs/en/install#offline\n",
        "\n",
        "Medium Airgapped https://medium.com/spark-nlp/installing-spark-nlp-and-spark-ocr-in-air-gapped-networks-offline-mode-f42a1ee6b7a8\n",
        "\n",
        "\n",
        "installation platform : https://github.com/JohnSnowLabs/spark-nlp-workshop/tree/master/platforms\n",
        "\n",
        "sparknlp from pypi : https://pypi.org/project/spark-nlp/3.4.2/#files\n",
        "\n",
        "CPUvsGPUbenchmark: https://nlp.johnsnowlabs.com/docs/en/CPUvsGPUbenchmark"
      ]
    },
    {
      "cell_type": "markdown",
      "metadata": {
        "id": "L6AkLTQY1Now"
      },
      "source": [
        "## install pyspark v3.1.2"
      ]
    },
    {
      "cell_type": "code",
      "execution_count": null,
      "metadata": {
        "id": "JKxAaVnJoBK5"
      },
      "outputs": [],
      "source": [
        "!pip -q install pyspark==3.1.2"
      ]
    },
    {
      "cell_type": "markdown",
      "metadata": {
        "id": "eCbqVbxooItu"
      },
      "source": [
        "## license key"
      ]
    },
    {
      "cell_type": "code",
      "execution_count": null,
      "metadata": {
        "id": "5VVdSienjgr3"
      },
      "outputs": [],
      "source": [
        "import json, os\n",
        "from google.colab import files\n",
        "\n",
        "if 'spark_jsl.json' not in os.listdir():\n",
        "  license_keys = files.upload()\n",
        "  os.rename(list(license_keys.keys())[0], 'spark_jsl.json')\n",
        "\n",
        "with open('spark_jsl.json') as f:\n",
        "    license_keys = json.load(f)\n",
        "\n",
        "# Defining license key-value pairs as local variables\n",
        "locals().update(license_keys)\n",
        "os.environ.update(license_keys)"
      ]
    },
    {
      "cell_type": "code",
      "execution_count": 3,
      "metadata": {
        "colab": {
          "base_uri": "https://localhost:8080/"
        },
        "id": "IzWWn1ctmf9A",
        "outputId": "f9ca604c-f31f-4ac4-8160-35354c7721e8"
      },
      "outputs": [
        {
          "data": {
            "text/plain": [
              "dict_keys(['SPARK_NLP_LICENSE', 'SECRET', 'JSL_VERSION', 'PUBLIC_VERSION', 'AWS_ACCESS_KEY_ID', 'AWS_SECRET_ACCESS_KEY', 'SPARK_OCR_LICENSE', 'SPARK_OCR_SECRET', 'OCR_VERSION'])"
            ]
          },
          "execution_count": 3,
          "metadata": {},
          "output_type": "execute_result"
        }
      ],
      "source": [
        "license_keys.keys()"
      ]
    },
    {
      "cell_type": "markdown",
      "metadata": {
        "id": "iqx-FY1DoNuh"
      },
      "source": [
        "## download Spark NLP jars from S3"
      ]
    },
    {
      "cell_type": "code",
      "execution_count": null,
      "metadata": {
        "id": "6lZTvdh8igxR"
      },
      "outputs": [],
      "source": [
        "!pip -q install -q awscli"
      ]
    },
    {
      "cell_type": "code",
      "execution_count": null,
      "metadata": {
        "id": "XKkegG-gmJxs"
      },
      "outputs": [],
      "source": [
        "# public jar\n",
        "!aws  s3 cp --region us-east-2 s3://auxdata.johnsnowlabs.com/public/jars/spark-nlp-assembly-$PUBLIC_VERSION.jar /content/spark-nlp-$PUBLIC_VERSION.jar\n",
        "\n",
        "# healthcare jar\n",
        "!aws  s3 cp --region us-east-2 s3://pypi.johnsnowlabs.com/$SECRET/spark-nlp-jsl-$JSL_VERSION.jar /content/spark-nlp-jsl-$JSL_VERSION.jar\n",
        "\n",
        "# healthcare  whl\n",
        "!aws  s3 cp --region us-east-2 s3://pypi.johnsnowlabs.com/$SECRET/spark-nlp-jsl/spark_nlp_jsl-$JSL_VERSION-py3-none-any.whl /content/spark_nlp_jsl-$JSL_VERSION-py3-none-any.whl"
      ]
    },
    {
      "cell_type": "code",
      "execution_count": null,
      "metadata": {
        "id": "thCxn8MRprUB"
      },
      "outputs": [],
      "source": [
        "# public whl from pypi  https://pypi.org/project/spark-nlp/#files \n",
        "# get the whl download link \n",
        "\n",
        "!wget https://files.pythonhosted.org/packages/d3/4a/68da710afc1dec749063313d9d63f22350521f0181cfedecec05ce4dc069/spark_nlp-3.4.4-py2.py3-none-any.whl"
      ]
    },
    {
      "cell_type": "markdown",
      "metadata": {
        "id": "z7ZwUz99pg0o"
      },
      "source": [
        "## install "
      ]
    },
    {
      "cell_type": "code",
      "execution_count": null,
      "metadata": {
        "id": "ES5ru180jnBQ"
      },
      "outputs": [],
      "source": [
        "! pip install /content/spark_nlp-$PUBLIC_VERSION-py2.py3-none-any.whl\n",
        "! pip install /content/spark_nlp_jsl-$JSL_VERSION-py3-none-any.whl"
      ]
    },
    {
      "cell_type": "markdown",
      "metadata": {
        "id": "r99pRmlaoa-T"
      },
      "source": [
        "## session start"
      ]
    },
    {
      "cell_type": "code",
      "execution_count": 15,
      "metadata": {
        "colab": {
          "base_uri": "https://localhost:8080/"
        },
        "id": "5xvsBTjJZVD0",
        "outputId": "0a80403d-e306-4410-80a1-61ce962c3651"
      },
      "outputs": [
        {
          "name": "stdout",
          "output_type": "stream",
          "text": [
            "Spark NLP Version : 3.4.4\n",
            "Spark NLP_JSL Version : 3.5.2\n"
          ]
        }
      ],
      "source": [
        "import json\n",
        "import os\n",
        "\n",
        "import sparknlp\n",
        "import sparknlp_jsl\n",
        "\n",
        "from sparknlp.base import *\n",
        "from sparknlp.annotator import *\n",
        "from sparknlp_jsl.annotator import *\n",
        "\n",
        "from sparknlp.base import LightPipeline\n",
        "\n",
        "from pyspark.sql import SparkSession\n",
        "from pyspark.sql import functions as F\n",
        "from pyspark.ml import Pipeline,PipelineModel\n",
        "\n",
        "print (\"Spark NLP Version :\", sparknlp.version())\n",
        "print (\"Spark NLP_JSL Version :\", sparknlp_jsl.version())"
      ]
    },
    {
      "cell_type": "code",
      "execution_count": 11,
      "metadata": {
        "id": "6EhkDXeMARHA"
      },
      "outputs": [],
      "source": [
        "def start(SECRET):\n",
        "    builder = SparkSession.builder \\\n",
        "        .appName(\"Spark NLP Licensed\") \\\n",
        "        .master(\"local[*]\") \\\n",
        "        .config(\"spark.driver.memory\", \"16G\") \\\n",
        "        .config(\"spark.serializer\", \"org.apache.spark.serializer.KryoSerializer\") \\\n",
        "        .config(\"spark.kryoserializer.buffer.max\", \"2000M\") \\\n",
        "        .config(\"spark.jars\", f\"/content/spark-nlp-jsl-{JSL_VERSION}.jar,/content/spark-nlp-{PUBLIC_VERSION}.jar\" )\n",
        "\n",
        "    return builder.getOrCreate()\n"
      ]
    },
    {
      "cell_type": "code",
      "execution_count": 12,
      "metadata": {
        "colab": {
          "base_uri": "https://localhost:8080/",
          "height": 222
        },
        "id": "j7baISmToo33",
        "outputId": "6aefbac9-c4c6-4c34-c18a-18853e590011"
      },
      "outputs": [
        {
          "data": {
            "text/html": [
              "\n",
              "            <div>\n",
              "                <p><b>SparkSession - in-memory</b></p>\n",
              "                \n",
              "        <div>\n",
              "            <p><b>SparkContext</b></p>\n",
              "\n",
              "            <p><a href=\"http://29bcc648b8bf:4040\">Spark UI</a></p>\n",
              "\n",
              "            <dl>\n",
              "              <dt>Version</dt>\n",
              "                <dd><code>v3.1.2</code></dd>\n",
              "              <dt>Master</dt>\n",
              "                <dd><code>local[*]</code></dd>\n",
              "              <dt>AppName</dt>\n",
              "                <dd><code>Spark NLP Licensed</code></dd>\n",
              "            </dl>\n",
              "        </div>\n",
              "        \n",
              "            </div>\n",
              "        "
            ],
            "text/plain": [
              "<pyspark.sql.session.SparkSession at 0x7f3496080e10>"
            ]
          },
          "execution_count": 12,
          "metadata": {},
          "output_type": "execute_result"
        }
      ],
      "source": [
        "#  SECRET is in your Licence key\n",
        "\n",
        "spark = start(SECRET)\n",
        "\n",
        "spark"
      ]
    },
    {
      "cell_type": "markdown",
      "metadata": {
        "id": "ekmMi4iY18CO"
      },
      "source": [
        "## online mode pipeline\n",
        "USING THE RESOURCE DOWNLOADER   `.pretrained()`"
      ]
    },
    {
      "cell_type": "code",
      "execution_count": 13,
      "metadata": {
        "colab": {
          "base_uri": "https://localhost:8080/"
        },
        "id": "mgH3h2VgrF2F",
        "outputId": "6299b433-b3e3-41c3-8729-47651d04b44f"
      },
      "outputs": [
        {
          "name": "stdout",
          "output_type": "stream",
          "text": [
            "embeddings_clinical download started this may take some time.\n",
            "Approximate size to download 1.6 GB\n",
            "[OK!]\n",
            "ner_clinical_large download started this may take some time.\n",
            "[OK!]\n"
          ]
        }
      ],
      "source": [
        "# Annotator that transforms a text column from dataframe into an Annotation ready for NLP\n",
        "documentAssembler = DocumentAssembler()\\\n",
        "    .setInputCol(\"text\")\\\n",
        "    .setOutputCol(\"document\")\n",
        "        \n",
        "sentenceDetector = SentenceDetector()\\\n",
        "    .setInputCols([\"document\"])\\\n",
        "    .setOutputCol(\"sentence\")\n",
        " \n",
        "# Tokenizer splits words in a relevant format for NLP\n",
        "tokenizer = Tokenizer()\\\n",
        "    .setInputCols([\"sentence\"])\\\n",
        "    .setOutputCol(\"token\")\n",
        "\n",
        "# Clinical word embeddings trained on PubMED dataset\n",
        "word_embeddings = WordEmbeddingsModel.pretrained(\"embeddings_clinical\",\"en\",\"clinical/models\")\\\n",
        "    .setInputCols([\"sentence\",\"token\"])\\\n",
        "    .setOutputCol(\"embeddings\")\n",
        "\n",
        "# NER model trained on i2b2 (sampled from MIMIC) dataset\n",
        "clinical_ner = MedicalNerModel.pretrained(\"ner_clinical_large\",\"en\",\"clinical/models\")\\\n",
        "    .setInputCols([\"sentence\",\"token\",\"embeddings\"])\\\n",
        "    .setOutputCol(\"ner\")\\\n",
        "    .setLabelCasing(\"upper\") #decide if we want to return the tags in upper or lower case \n",
        "\n",
        "ner_converter = NerConverter()\\\n",
        "    .setInputCols([\"sentence\",\"token\",\"ner\"])\\\n",
        "    .setOutputCol(\"ner_chunk\")\n",
        "\n",
        "nlpPipeline = Pipeline(stages=[\n",
        "        documentAssembler,\n",
        "        sentenceDetector,\n",
        "        tokenizer,\n",
        "        word_embeddings,\n",
        "        clinical_ner,\n",
        "        ner_converter])\n",
        "\n",
        "\n",
        "empty_data = spark.createDataFrame([[\"\"]]).toDF(\"text\")\n",
        "\n",
        "model = nlpPipeline.fit(empty_data)"
      ]
    },
    {
      "cell_type": "code",
      "execution_count": 14,
      "metadata": {
        "colab": {
          "base_uri": "https://localhost:8080/",
          "height": 787
        },
        "id": "13M4EeTZ2Gdh",
        "outputId": "8dcffb37-0589-40b1-8433-5ad389f8670d"
      },
      "outputs": [
        {
          "name": "stdout",
          "output_type": "stream",
          "text": [
            "\n",
            "A 28-year-old female with a history of gestational diabetes mellitus diagnosed eight years prior to presentation and subsequent type two diabetes mellitus ( T2DM ), one prior episode of HTG-induced pancreatitis three years prior to presentation , and associated with an acute hepatitis , presented with a one-week history of polyuria , poor appetite , and vomiting . \n",
            "She was on metformin , glipizide , and dapagliflozin for T2DM and atorvastatin and gemfibrozil for HTG . She had been on dapagliflozin for six months at the time of presentation . \n",
            "Physical examination on presentation was significant for dry oral mucosa ; significantly , her abdominal examination was benign with no tenderness , guarding , or rigidity . Pertinent laboratory findings on admission were : serum glucose 111 mg/dl ,  creatinine 0.4 mg/dL , triglycerides 508 mg/dL , total cholesterol 122 mg/dL , and venous pH 7.27 . \n",
            "\n"
          ]
        },
        {
          "data": {
            "text/html": [
              "\n",
              "  <div id=\"df-16959d45-c7d0-4f2c-9283-a6574d328edb\">\n",
              "    <div class=\"colab-df-container\">\n",
              "      <div>\n",
              "<style scoped>\n",
              "    .dataframe tbody tr th:only-of-type {\n",
              "        vertical-align: middle;\n",
              "    }\n",
              "\n",
              "    .dataframe tbody tr th {\n",
              "        vertical-align: top;\n",
              "    }\n",
              "\n",
              "    .dataframe thead th {\n",
              "        text-align: right;\n",
              "    }\n",
              "</style>\n",
              "<table border=\"1\" class=\"dataframe\">\n",
              "  <thead>\n",
              "    <tr style=\"text-align: right;\">\n",
              "      <th></th>\n",
              "      <th>chunks</th>\n",
              "      <th>begin</th>\n",
              "      <th>end</th>\n",
              "      <th>sentence_id</th>\n",
              "      <th>entities</th>\n",
              "    </tr>\n",
              "  </thead>\n",
              "  <tbody>\n",
              "    <tr>\n",
              "      <th>0</th>\n",
              "      <td>gestational diabetes mellitus</td>\n",
              "      <td>40</td>\n",
              "      <td>68</td>\n",
              "      <td>0</td>\n",
              "      <td>PROBLEM</td>\n",
              "    </tr>\n",
              "    <tr>\n",
              "      <th>1</th>\n",
              "      <td>subsequent type two diabetes mellitus</td>\n",
              "      <td>118</td>\n",
              "      <td>154</td>\n",
              "      <td>0</td>\n",
              "      <td>PROBLEM</td>\n",
              "    </tr>\n",
              "    <tr>\n",
              "      <th>2</th>\n",
              "      <td>T2DM</td>\n",
              "      <td>158</td>\n",
              "      <td>161</td>\n",
              "      <td>0</td>\n",
              "      <td>PROBLEM</td>\n",
              "    </tr>\n",
              "    <tr>\n",
              "      <th>3</th>\n",
              "      <td>HTG-induced pancreatitis</td>\n",
              "      <td>187</td>\n",
              "      <td>210</td>\n",
              "      <td>0</td>\n",
              "      <td>PROBLEM</td>\n",
              "    </tr>\n",
              "    <tr>\n",
              "      <th>4</th>\n",
              "      <td>an acute hepatitis</td>\n",
              "      <td>268</td>\n",
              "      <td>285</td>\n",
              "      <td>0</td>\n",
              "      <td>PROBLEM</td>\n",
              "    </tr>\n",
              "    <tr>\n",
              "      <th>5</th>\n",
              "      <td>polyuria</td>\n",
              "      <td>326</td>\n",
              "      <td>333</td>\n",
              "      <td>0</td>\n",
              "      <td>PROBLEM</td>\n",
              "    </tr>\n",
              "    <tr>\n",
              "      <th>6</th>\n",
              "      <td>poor appetite</td>\n",
              "      <td>337</td>\n",
              "      <td>349</td>\n",
              "      <td>0</td>\n",
              "      <td>PROBLEM</td>\n",
              "    </tr>\n",
              "    <tr>\n",
              "      <th>7</th>\n",
              "      <td>vomiting</td>\n",
              "      <td>357</td>\n",
              "      <td>364</td>\n",
              "      <td>0</td>\n",
              "      <td>PROBLEM</td>\n",
              "    </tr>\n",
              "    <tr>\n",
              "      <th>8</th>\n",
              "      <td>metformin</td>\n",
              "      <td>380</td>\n",
              "      <td>388</td>\n",
              "      <td>1</td>\n",
              "      <td>TREATMENT</td>\n",
              "    </tr>\n",
              "    <tr>\n",
              "      <th>9</th>\n",
              "      <td>glipizide</td>\n",
              "      <td>392</td>\n",
              "      <td>400</td>\n",
              "      <td>1</td>\n",
              "      <td>TREATMENT</td>\n",
              "    </tr>\n",
              "    <tr>\n",
              "      <th>10</th>\n",
              "      <td>dapagliflozin</td>\n",
              "      <td>408</td>\n",
              "      <td>420</td>\n",
              "      <td>1</td>\n",
              "      <td>TREATMENT</td>\n",
              "    </tr>\n",
              "    <tr>\n",
              "      <th>11</th>\n",
              "      <td>T2DM</td>\n",
              "      <td>426</td>\n",
              "      <td>429</td>\n",
              "      <td>1</td>\n",
              "      <td>PROBLEM</td>\n",
              "    </tr>\n",
              "    <tr>\n",
              "      <th>12</th>\n",
              "      <td>atorvastatin</td>\n",
              "      <td>435</td>\n",
              "      <td>446</td>\n",
              "      <td>1</td>\n",
              "      <td>TREATMENT</td>\n",
              "    </tr>\n",
              "    <tr>\n",
              "      <th>13</th>\n",
              "      <td>gemfibrozil</td>\n",
              "      <td>452</td>\n",
              "      <td>462</td>\n",
              "      <td>1</td>\n",
              "      <td>TREATMENT</td>\n",
              "    </tr>\n",
              "    <tr>\n",
              "      <th>14</th>\n",
              "      <td>HTG</td>\n",
              "      <td>468</td>\n",
              "      <td>470</td>\n",
              "      <td>1</td>\n",
              "      <td>PROBLEM</td>\n",
              "    </tr>\n",
              "    <tr>\n",
              "      <th>15</th>\n",
              "      <td>dapagliflozin</td>\n",
              "      <td>490</td>\n",
              "      <td>502</td>\n",
              "      <td>2</td>\n",
              "      <td>TREATMENT</td>\n",
              "    </tr>\n",
              "    <tr>\n",
              "      <th>16</th>\n",
              "      <td>Physical examination</td>\n",
              "      <td>550</td>\n",
              "      <td>569</td>\n",
              "      <td>3</td>\n",
              "      <td>TEST</td>\n",
              "    </tr>\n",
              "    <tr>\n",
              "      <th>17</th>\n",
              "      <td>dry oral mucosa</td>\n",
              "      <td>607</td>\n",
              "      <td>621</td>\n",
              "      <td>3</td>\n",
              "      <td>PROBLEM</td>\n",
              "    </tr>\n",
              "    <tr>\n",
              "      <th>18</th>\n",
              "      <td>her abdominal examination</td>\n",
              "      <td>641</td>\n",
              "      <td>665</td>\n",
              "      <td>4</td>\n",
              "      <td>TEST</td>\n",
              "    </tr>\n",
              "    <tr>\n",
              "      <th>19</th>\n",
              "      <td>tenderness</td>\n",
              "      <td>686</td>\n",
              "      <td>695</td>\n",
              "      <td>4</td>\n",
              "      <td>PROBLEM</td>\n",
              "    </tr>\n",
              "  </tbody>\n",
              "</table>\n",
              "</div>\n",
              "      <button class=\"colab-df-convert\" onclick=\"convertToInteractive('df-16959d45-c7d0-4f2c-9283-a6574d328edb')\"\n",
              "              title=\"Convert this dataframe to an interactive table.\"\n",
              "              style=\"display:none;\">\n",
              "        \n",
              "  <svg xmlns=\"http://www.w3.org/2000/svg\" height=\"24px\"viewBox=\"0 0 24 24\"\n",
              "       width=\"24px\">\n",
              "    <path d=\"M0 0h24v24H0V0z\" fill=\"none\"/>\n",
              "    <path d=\"M18.56 5.44l.94 2.06.94-2.06 2.06-.94-2.06-.94-.94-2.06-.94 2.06-2.06.94zm-11 1L8.5 8.5l.94-2.06 2.06-.94-2.06-.94L8.5 2.5l-.94 2.06-2.06.94zm10 10l.94 2.06.94-2.06 2.06-.94-2.06-.94-.94-2.06-.94 2.06-2.06.94z\"/><path d=\"M17.41 7.96l-1.37-1.37c-.4-.4-.92-.59-1.43-.59-.52 0-1.04.2-1.43.59L10.3 9.45l-7.72 7.72c-.78.78-.78 2.05 0 2.83L4 21.41c.39.39.9.59 1.41.59.51 0 1.02-.2 1.41-.59l7.78-7.78 2.81-2.81c.8-.78.8-2.07 0-2.86zM5.41 20L4 18.59l7.72-7.72 1.47 1.35L5.41 20z\"/>\n",
              "  </svg>\n",
              "      </button>\n",
              "      \n",
              "  <style>\n",
              "    .colab-df-container {\n",
              "      display:flex;\n",
              "      flex-wrap:wrap;\n",
              "      gap: 12px;\n",
              "    }\n",
              "\n",
              "    .colab-df-convert {\n",
              "      background-color: #E8F0FE;\n",
              "      border: none;\n",
              "      border-radius: 50%;\n",
              "      cursor: pointer;\n",
              "      display: none;\n",
              "      fill: #1967D2;\n",
              "      height: 32px;\n",
              "      padding: 0 0 0 0;\n",
              "      width: 32px;\n",
              "    }\n",
              "\n",
              "    .colab-df-convert:hover {\n",
              "      background-color: #E2EBFA;\n",
              "      box-shadow: 0px 1px 2px rgba(60, 64, 67, 0.3), 0px 1px 3px 1px rgba(60, 64, 67, 0.15);\n",
              "      fill: #174EA6;\n",
              "    }\n",
              "\n",
              "    [theme=dark] .colab-df-convert {\n",
              "      background-color: #3B4455;\n",
              "      fill: #D2E3FC;\n",
              "    }\n",
              "\n",
              "    [theme=dark] .colab-df-convert:hover {\n",
              "      background-color: #434B5C;\n",
              "      box-shadow: 0px 1px 3px 1px rgba(0, 0, 0, 0.15);\n",
              "      filter: drop-shadow(0px 1px 2px rgba(0, 0, 0, 0.3));\n",
              "      fill: #FFFFFF;\n",
              "    }\n",
              "  </style>\n",
              "\n",
              "      <script>\n",
              "        const buttonEl =\n",
              "          document.querySelector('#df-16959d45-c7d0-4f2c-9283-a6574d328edb button.colab-df-convert');\n",
              "        buttonEl.style.display =\n",
              "          google.colab.kernel.accessAllowed ? 'block' : 'none';\n",
              "\n",
              "        async function convertToInteractive(key) {\n",
              "          const element = document.querySelector('#df-16959d45-c7d0-4f2c-9283-a6574d328edb');\n",
              "          const dataTable =\n",
              "            await google.colab.kernel.invokeFunction('convertToInteractive',\n",
              "                                                     [key], {});\n",
              "          if (!dataTable) return;\n",
              "\n",
              "          const docLinkHtml = 'Like what you see? Visit the ' +\n",
              "            '<a target=\"_blank\" href=https://colab.research.google.com/notebooks/data_table.ipynb>data table notebook</a>'\n",
              "            + ' to learn more about interactive tables.';\n",
              "          element.innerHTML = '';\n",
              "          dataTable['output_type'] = 'display_data';\n",
              "          await google.colab.output.renderOutput(dataTable, element);\n",
              "          const docLink = document.createElement('div');\n",
              "          docLink.innerHTML = docLinkHtml;\n",
              "          element.appendChild(docLink);\n",
              "        }\n",
              "      </script>\n",
              "    </div>\n",
              "  </div>\n",
              "  "
            ],
            "text/plain": [
              "                                   chunks  begin  end sentence_id   entities\n",
              "0           gestational diabetes mellitus     40   68           0    PROBLEM\n",
              "1   subsequent type two diabetes mellitus    118  154           0    PROBLEM\n",
              "2                                    T2DM    158  161           0    PROBLEM\n",
              "3                HTG-induced pancreatitis    187  210           0    PROBLEM\n",
              "4                      an acute hepatitis    268  285           0    PROBLEM\n",
              "5                                polyuria    326  333           0    PROBLEM\n",
              "6                           poor appetite    337  349           0    PROBLEM\n",
              "7                                vomiting    357  364           0    PROBLEM\n",
              "8                               metformin    380  388           1  TREATMENT\n",
              "9                               glipizide    392  400           1  TREATMENT\n",
              "10                          dapagliflozin    408  420           1  TREATMENT\n",
              "11                                   T2DM    426  429           1    PROBLEM\n",
              "12                           atorvastatin    435  446           1  TREATMENT\n",
              "13                            gemfibrozil    452  462           1  TREATMENT\n",
              "14                                    HTG    468  470           1    PROBLEM\n",
              "15                          dapagliflozin    490  502           2  TREATMENT\n",
              "16                   Physical examination    550  569           3       TEST\n",
              "17                        dry oral mucosa    607  621           3    PROBLEM\n",
              "18              her abdominal examination    641  665           4       TEST\n",
              "19                             tenderness    686  695           4    PROBLEM"
            ]
          },
          "execution_count": 14,
          "metadata": {},
          "output_type": "execute_result"
        }
      ],
      "source": [
        "# fullAnnotate in LightPipeline\n",
        "\n",
        "text = '''\n",
        "A 28-year-old female with a history of gestational diabetes mellitus diagnosed eight years prior to presentation and subsequent type two diabetes mellitus ( T2DM ), one prior episode of HTG-induced pancreatitis three years prior to presentation , and associated with an acute hepatitis , presented with a one-week history of polyuria , poor appetite , and vomiting . \n",
        "She was on metformin , glipizide , and dapagliflozin for T2DM and atorvastatin and gemfibrozil for HTG . She had been on dapagliflozin for six months at the time of presentation . \n",
        "Physical examination on presentation was significant for dry oral mucosa ; significantly , her abdominal examination was benign with no tenderness , guarding , or rigidity . Pertinent laboratory findings on admission were : serum glucose 111 mg/dl ,  creatinine 0.4 mg/dL , triglycerides 508 mg/dL , total cholesterol 122 mg/dL , and venous pH 7.27 . \n",
        "'''\n",
        "\n",
        "print (text)\n",
        "\n",
        "light_model = LightPipeline(model)\n",
        "\n",
        "light_result = light_model.fullAnnotate(text)\n",
        "\n",
        "\n",
        "chunks = []\n",
        "entities = []\n",
        "sentence= []\n",
        "begin = []\n",
        "end = []\n",
        "\n",
        "for n in light_result[0]['ner_chunk']:\n",
        "        \n",
        "    begin.append(n.begin)\n",
        "    end.append(n.end)\n",
        "    chunks.append(n.result)\n",
        "    entities.append(n.metadata['entity']) \n",
        "    sentence.append(n.metadata['sentence'])\n",
        "    \n",
        "    \n",
        "import pandas as pd\n",
        "\n",
        "df_clinical = pd.DataFrame({'chunks':chunks, \n",
        "                            'begin': begin, \n",
        "                            'end':end, \n",
        "                            'sentence_id':sentence, \n",
        "                            'entities':entities})\n",
        "\n",
        "df_clinical.head(20)"
      ]
    },
    {
      "cell_type": "markdown",
      "metadata": {
        "id": "OInYr_DU2InU"
      },
      "source": [
        "## offline mode pipeline\n",
        "\n",
        "MANUALLY DOWNLOADING  `.load()`"
      ]
    },
    {
      "cell_type": "markdown",
      "metadata": {
        "id": "tVH35_442xok"
      },
      "source": [
        "### using boto3 for download "
      ]
    },
    {
      "cell_type": "code",
      "execution_count": null,
      "metadata": {
        "id": "MrvaYrst25Yi"
      },
      "outputs": [],
      "source": [
        "! pip install -q boto3"
      ]
    },
    {
      "cell_type": "markdown",
      "metadata": {
        "id": "M96TlyUQ3AvX"
      },
      "source": []
    },
    {
      "cell_type": "code",
      "execution_count": null,
      "metadata": {
        "colab": {
          "base_uri": "https://localhost:8080/"
        },
        "id": "Ir5Gbt8J3QfU",
        "outputId": "e0e23ebb-0de0-4950-b7f2-48bafd6d1b92"
      },
      "outputs": [
        {
          "data": {
            "text/plain": [
              "dict_keys(['SPARK_NLP_LICENSE', 'SECRET', 'JSL_VERSION', 'PUBLIC_VERSION', 'AWS_ACCESS_KEY_ID', 'AWS_SECRET_ACCESS_KEY', 'SPARK_OCR_LICENSE', 'SPARK_OCR_SECRET', 'OCR_VERSION'])"
            ]
          },
          "execution_count": 13,
          "metadata": {},
          "output_type": "execute_result"
        }
      ],
      "source": [
        "license_keys.keys()"
      ]
    },
    {
      "cell_type": "code",
      "execution_count": null,
      "metadata": {
        "id": "tb3uwbm22w3l"
      },
      "outputs": [],
      "source": [
        "import shutil\n",
        "import boto3\n",
        "\n",
        "# Add your credentials \n",
        "ACCESS_KEY = AWS_ACCESS_KEY_ID\n",
        "SECRET_KEY = AWS_SECRET_ACCESS_KEY\n",
        "\n",
        "# Connect\n",
        "s3 = boto3.resource('s3', aws_access_key_id=ACCESS_KEY, aws_secret_access_key=SECRET_KEY)\n",
        "buck_auxdata = s3.Bucket('auxdata.johnsnowlabs.com')"
      ]
    },
    {
      "cell_type": "markdown",
      "metadata": {
        "id": "PnU-Rw4ElMWa"
      },
      "source": []
    },
    {
      "cell_type": "code",
      "execution_count": null,
      "metadata": {
        "id": "QRp84xFN4SqS"
      },
      "outputs": [],
      "source": [
        "!mkdir /content/zip_files /content/models"
      ]
    },
    {
      "cell_type": "markdown",
      "metadata": {
        "id": "Ge6YpxfO5ZmA"
      },
      "source": [
        "**Download the embedding model**"
      ]
    },
    {
      "cell_type": "code",
      "execution_count": null,
      "metadata": {
        "id": "3dOls8Iz2w1N"
      },
      "outputs": [],
      "source": [
        "# Download the embedding model \n",
        "buck_auxdata.download_file('clinical/models/embeddings_clinical_en_2.4.0_2.4_1580237286004.zip',\n",
        "'zip_files/embeddings_clinical_en_2.4.0_2.4_1580237286004.zip')\n",
        "\n",
        "# Unzip\n",
        "shutil.unpack_archive('zip_files/embeddings_clinical_en_2.4.0_2.4_1580237286004.zip',\n",
        "'models/embeddings_clinical', 'zip')"
      ]
    },
    {
      "cell_type": "markdown",
      "metadata": {
        "id": "grmyM73X5Xnv"
      },
      "source": [
        "**Download the ner_clinical_large model**"
      ]
    },
    {
      "cell_type": "code",
      "execution_count": null,
      "metadata": {
        "id": "bosA_V0i2wy3"
      },
      "outputs": [],
      "source": [
        "# Download the ner_clinical_large model \n",
        "buck_auxdata.download_file('clinical/models/ner_clinical_large_en_3.0.0_3.0_1617206114650.zip',\n",
        "'zip_files/ner_clinical_large_en_3.0.0_3.0_1617206114650.zip')\n",
        "\n",
        "# Unzip\n",
        "shutil.unpack_archive('zip_files/ner_clinical_large_en_3.0.0_3.0_1617206114650.zip',\n",
        "'models/ner_clinical_large', 'zip')"
      ]
    },
    {
      "cell_type": "markdown",
      "metadata": {
        "id": "58j1TK7e70_m"
      },
      "source": [
        "**ner pipeline**"
      ]
    },
    {
      "cell_type": "code",
      "execution_count": null,
      "metadata": {
        "id": "C8L0t5b1orKW"
      },
      "outputs": [],
      "source": [
        "# Annotator that transforms a text column from dataframe into an Annotation ready for NLP\n",
        "documentAssembler = DocumentAssembler()\\\n",
        "    .setInputCol(\"text\")\\\n",
        "    .setOutputCol(\"document\")\n",
        "        \n",
        "sentenceDetector = SentenceDetector()\\\n",
        "    .setInputCols([\"document\"])\\\n",
        "    .setOutputCol(\"sentence\")\n",
        " \n",
        "# Tokenizer splits words in a relevant format for NLP\n",
        "tokenizer = Tokenizer()\\\n",
        "    .setInputCols([\"sentence\"])\\\n",
        "    .setOutputCol(\"token\")\n",
        "\n",
        "# Clinical word embeddings trained on PubMED dataset\n",
        "word_embeddings_loaded = WordEmbeddingsModel.load(\"/content/models/embeddings_clinical\")\\\n",
        "    .setInputCols([\"sentence\",\"token\"])\\\n",
        "    .setOutputCol(\"embeddings\")\n",
        "\n",
        "# NER model trained on i2b2 (sampled from MIMIC) dataset\n",
        "clinical_ner_loaded = MedicalNerModel.load(\"/content/models/ner_clinical_large\")\\\n",
        "    .setInputCols([\"sentence\",\"token\",\"embeddings\"])\\\n",
        "    .setOutputCol(\"ner\")\\\n",
        "    .setLabelCasing(\"upper\") #decide if we want to return the tags in upper or lower case \n",
        "\n",
        "ner_converter = NerConverter()\\\n",
        "    .setInputCols([\"sentence\",\"token\",\"ner\"])\\\n",
        "    .setOutputCol(\"ner_chunk\")\n",
        "\n",
        "nlpPipeline = Pipeline(stages=[\n",
        "        documentAssembler,\n",
        "        sentenceDetector,\n",
        "        tokenizer,\n",
        "        word_embeddings_loaded,\n",
        "        clinical_ner_loaded,\n",
        "        ner_converter])\n",
        "\n",
        "\n",
        "empty_data = spark.createDataFrame([[\"\"]]).toDF(\"text\")\n",
        "\n",
        "model = nlpPipeline.fit(empty_data)"
      ]
    },
    {
      "cell_type": "code",
      "execution_count": null,
      "metadata": {
        "colab": {
          "base_uri": "https://localhost:8080/",
          "height": 783
        },
        "id": "aQEXtxVQrpl0",
        "outputId": "056cdc2b-f269-4af0-ee84-e4ffdf12a53e"
      },
      "outputs": [
        {
          "name": "stdout",
          "output_type": "stream",
          "text": [
            "\n",
            "A 28-year-old female with a history of gestational diabetes mellitus diagnosed eight years prior to presentation and subsequent type two diabetes mellitus ( T2DM ), one prior episode of HTG-induced pancreatitis three years prior to presentation , and associated with an acute hepatitis , presented with a one-week history of polyuria , poor appetite , and vomiting . \n",
            "She was on metformin , glipizide , and dapagliflozin for T2DM and atorvastatin and gemfibrozil for HTG . She had been on dapagliflozin for six months at the time of presentation . \n",
            "Physical examination on presentation was significant for dry oral mucosa ; significantly , her abdominal examination was benign with no tenderness , guarding , or rigidity . Pertinent laboratory findings on admission were : serum glucose 111 mg/dl ,  creatinine 0.4 mg/dL , triglycerides 508 mg/dL , total cholesterol 122 mg/dL , and venous pH 7.27 . \n",
            "\n"
          ]
        },
        {
          "data": {
            "text/html": [
              "\n",
              "  <div id=\"df-83a13093-19f2-44ed-8c74-0a25c11d9485\">\n",
              "    <div class=\"colab-df-container\">\n",
              "      <div>\n",
              "<style scoped>\n",
              "    .dataframe tbody tr th:only-of-type {\n",
              "        vertical-align: middle;\n",
              "    }\n",
              "\n",
              "    .dataframe tbody tr th {\n",
              "        vertical-align: top;\n",
              "    }\n",
              "\n",
              "    .dataframe thead th {\n",
              "        text-align: right;\n",
              "    }\n",
              "</style>\n",
              "<table border=\"1\" class=\"dataframe\">\n",
              "  <thead>\n",
              "    <tr style=\"text-align: right;\">\n",
              "      <th></th>\n",
              "      <th>chunks</th>\n",
              "      <th>begin</th>\n",
              "      <th>end</th>\n",
              "      <th>sentence_id</th>\n",
              "      <th>entities</th>\n",
              "    </tr>\n",
              "  </thead>\n",
              "  <tbody>\n",
              "    <tr>\n",
              "      <th>0</th>\n",
              "      <td>gestational diabetes mellitus</td>\n",
              "      <td>40</td>\n",
              "      <td>68</td>\n",
              "      <td>0</td>\n",
              "      <td>PROBLEM</td>\n",
              "    </tr>\n",
              "    <tr>\n",
              "      <th>1</th>\n",
              "      <td>subsequent type two diabetes mellitus</td>\n",
              "      <td>118</td>\n",
              "      <td>154</td>\n",
              "      <td>0</td>\n",
              "      <td>PROBLEM</td>\n",
              "    </tr>\n",
              "    <tr>\n",
              "      <th>2</th>\n",
              "      <td>T2DM</td>\n",
              "      <td>158</td>\n",
              "      <td>161</td>\n",
              "      <td>0</td>\n",
              "      <td>PROBLEM</td>\n",
              "    </tr>\n",
              "    <tr>\n",
              "      <th>3</th>\n",
              "      <td>HTG-induced pancreatitis</td>\n",
              "      <td>187</td>\n",
              "      <td>210</td>\n",
              "      <td>0</td>\n",
              "      <td>PROBLEM</td>\n",
              "    </tr>\n",
              "    <tr>\n",
              "      <th>4</th>\n",
              "      <td>an acute hepatitis</td>\n",
              "      <td>268</td>\n",
              "      <td>285</td>\n",
              "      <td>0</td>\n",
              "      <td>PROBLEM</td>\n",
              "    </tr>\n",
              "    <tr>\n",
              "      <th>5</th>\n",
              "      <td>polyuria</td>\n",
              "      <td>326</td>\n",
              "      <td>333</td>\n",
              "      <td>0</td>\n",
              "      <td>PROBLEM</td>\n",
              "    </tr>\n",
              "    <tr>\n",
              "      <th>6</th>\n",
              "      <td>poor appetite</td>\n",
              "      <td>337</td>\n",
              "      <td>349</td>\n",
              "      <td>0</td>\n",
              "      <td>PROBLEM</td>\n",
              "    </tr>\n",
              "    <tr>\n",
              "      <th>7</th>\n",
              "      <td>vomiting</td>\n",
              "      <td>357</td>\n",
              "      <td>364</td>\n",
              "      <td>0</td>\n",
              "      <td>PROBLEM</td>\n",
              "    </tr>\n",
              "    <tr>\n",
              "      <th>8</th>\n",
              "      <td>metformin</td>\n",
              "      <td>380</td>\n",
              "      <td>388</td>\n",
              "      <td>1</td>\n",
              "      <td>TREATMENT</td>\n",
              "    </tr>\n",
              "    <tr>\n",
              "      <th>9</th>\n",
              "      <td>glipizide</td>\n",
              "      <td>392</td>\n",
              "      <td>400</td>\n",
              "      <td>1</td>\n",
              "      <td>TREATMENT</td>\n",
              "    </tr>\n",
              "    <tr>\n",
              "      <th>10</th>\n",
              "      <td>dapagliflozin</td>\n",
              "      <td>408</td>\n",
              "      <td>420</td>\n",
              "      <td>1</td>\n",
              "      <td>TREATMENT</td>\n",
              "    </tr>\n",
              "    <tr>\n",
              "      <th>11</th>\n",
              "      <td>T2DM</td>\n",
              "      <td>426</td>\n",
              "      <td>429</td>\n",
              "      <td>1</td>\n",
              "      <td>PROBLEM</td>\n",
              "    </tr>\n",
              "    <tr>\n",
              "      <th>12</th>\n",
              "      <td>atorvastatin</td>\n",
              "      <td>435</td>\n",
              "      <td>446</td>\n",
              "      <td>1</td>\n",
              "      <td>TREATMENT</td>\n",
              "    </tr>\n",
              "    <tr>\n",
              "      <th>13</th>\n",
              "      <td>gemfibrozil</td>\n",
              "      <td>452</td>\n",
              "      <td>462</td>\n",
              "      <td>1</td>\n",
              "      <td>TREATMENT</td>\n",
              "    </tr>\n",
              "    <tr>\n",
              "      <th>14</th>\n",
              "      <td>HTG</td>\n",
              "      <td>468</td>\n",
              "      <td>470</td>\n",
              "      <td>1</td>\n",
              "      <td>PROBLEM</td>\n",
              "    </tr>\n",
              "    <tr>\n",
              "      <th>15</th>\n",
              "      <td>dapagliflozin</td>\n",
              "      <td>490</td>\n",
              "      <td>502</td>\n",
              "      <td>2</td>\n",
              "      <td>TREATMENT</td>\n",
              "    </tr>\n",
              "    <tr>\n",
              "      <th>16</th>\n",
              "      <td>Physical examination</td>\n",
              "      <td>550</td>\n",
              "      <td>569</td>\n",
              "      <td>3</td>\n",
              "      <td>TEST</td>\n",
              "    </tr>\n",
              "    <tr>\n",
              "      <th>17</th>\n",
              "      <td>dry oral mucosa</td>\n",
              "      <td>607</td>\n",
              "      <td>621</td>\n",
              "      <td>3</td>\n",
              "      <td>PROBLEM</td>\n",
              "    </tr>\n",
              "    <tr>\n",
              "      <th>18</th>\n",
              "      <td>her abdominal examination</td>\n",
              "      <td>641</td>\n",
              "      <td>665</td>\n",
              "      <td>4</td>\n",
              "      <td>TEST</td>\n",
              "    </tr>\n",
              "    <tr>\n",
              "      <th>19</th>\n",
              "      <td>tenderness</td>\n",
              "      <td>686</td>\n",
              "      <td>695</td>\n",
              "      <td>4</td>\n",
              "      <td>PROBLEM</td>\n",
              "    </tr>\n",
              "  </tbody>\n",
              "</table>\n",
              "</div>\n",
              "      <button class=\"colab-df-convert\" onclick=\"convertToInteractive('df-83a13093-19f2-44ed-8c74-0a25c11d9485')\"\n",
              "              title=\"Convert this dataframe to an interactive table.\"\n",
              "              style=\"display:none;\">\n",
              "        \n",
              "  <svg xmlns=\"http://www.w3.org/2000/svg\" height=\"24px\"viewBox=\"0 0 24 24\"\n",
              "       width=\"24px\">\n",
              "    <path d=\"M0 0h24v24H0V0z\" fill=\"none\"/>\n",
              "    <path d=\"M18.56 5.44l.94 2.06.94-2.06 2.06-.94-2.06-.94-.94-2.06-.94 2.06-2.06.94zm-11 1L8.5 8.5l.94-2.06 2.06-.94-2.06-.94L8.5 2.5l-.94 2.06-2.06.94zm10 10l.94 2.06.94-2.06 2.06-.94-2.06-.94-.94-2.06-.94 2.06-2.06.94z\"/><path d=\"M17.41 7.96l-1.37-1.37c-.4-.4-.92-.59-1.43-.59-.52 0-1.04.2-1.43.59L10.3 9.45l-7.72 7.72c-.78.78-.78 2.05 0 2.83L4 21.41c.39.39.9.59 1.41.59.51 0 1.02-.2 1.41-.59l7.78-7.78 2.81-2.81c.8-.78.8-2.07 0-2.86zM5.41 20L4 18.59l7.72-7.72 1.47 1.35L5.41 20z\"/>\n",
              "  </svg>\n",
              "      </button>\n",
              "      \n",
              "  <style>\n",
              "    .colab-df-container {\n",
              "      display:flex;\n",
              "      flex-wrap:wrap;\n",
              "      gap: 12px;\n",
              "    }\n",
              "\n",
              "    .colab-df-convert {\n",
              "      background-color: #E8F0FE;\n",
              "      border: none;\n",
              "      border-radius: 50%;\n",
              "      cursor: pointer;\n",
              "      display: none;\n",
              "      fill: #1967D2;\n",
              "      height: 32px;\n",
              "      padding: 0 0 0 0;\n",
              "      width: 32px;\n",
              "    }\n",
              "\n",
              "    .colab-df-convert:hover {\n",
              "      background-color: #E2EBFA;\n",
              "      box-shadow: 0px 1px 2px rgba(60, 64, 67, 0.3), 0px 1px 3px 1px rgba(60, 64, 67, 0.15);\n",
              "      fill: #174EA6;\n",
              "    }\n",
              "\n",
              "    [theme=dark] .colab-df-convert {\n",
              "      background-color: #3B4455;\n",
              "      fill: #D2E3FC;\n",
              "    }\n",
              "\n",
              "    [theme=dark] .colab-df-convert:hover {\n",
              "      background-color: #434B5C;\n",
              "      box-shadow: 0px 1px 3px 1px rgba(0, 0, 0, 0.15);\n",
              "      filter: drop-shadow(0px 1px 2px rgba(0, 0, 0, 0.3));\n",
              "      fill: #FFFFFF;\n",
              "    }\n",
              "  </style>\n",
              "\n",
              "      <script>\n",
              "        const buttonEl =\n",
              "          document.querySelector('#df-83a13093-19f2-44ed-8c74-0a25c11d9485 button.colab-df-convert');\n",
              "        buttonEl.style.display =\n",
              "          google.colab.kernel.accessAllowed ? 'block' : 'none';\n",
              "\n",
              "        async function convertToInteractive(key) {\n",
              "          const element = document.querySelector('#df-83a13093-19f2-44ed-8c74-0a25c11d9485');\n",
              "          const dataTable =\n",
              "            await google.colab.kernel.invokeFunction('convertToInteractive',\n",
              "                                                     [key], {});\n",
              "          if (!dataTable) return;\n",
              "\n",
              "          const docLinkHtml = 'Like what you see? Visit the ' +\n",
              "            '<a target=\"_blank\" href=https://colab.research.google.com/notebooks/data_table.ipynb>data table notebook</a>'\n",
              "            + ' to learn more about interactive tables.';\n",
              "          element.innerHTML = '';\n",
              "          dataTable['output_type'] = 'display_data';\n",
              "          await google.colab.output.renderOutput(dataTable, element);\n",
              "          const docLink = document.createElement('div');\n",
              "          docLink.innerHTML = docLinkHtml;\n",
              "          element.appendChild(docLink);\n",
              "        }\n",
              "      </script>\n",
              "    </div>\n",
              "  </div>\n",
              "  "
            ],
            "text/plain": [
              "                                   chunks  begin  end sentence_id   entities\n",
              "0           gestational diabetes mellitus     40   68           0    PROBLEM\n",
              "1   subsequent type two diabetes mellitus    118  154           0    PROBLEM\n",
              "2                                    T2DM    158  161           0    PROBLEM\n",
              "3                HTG-induced pancreatitis    187  210           0    PROBLEM\n",
              "4                      an acute hepatitis    268  285           0    PROBLEM\n",
              "5                                polyuria    326  333           0    PROBLEM\n",
              "6                           poor appetite    337  349           0    PROBLEM\n",
              "7                                vomiting    357  364           0    PROBLEM\n",
              "8                               metformin    380  388           1  TREATMENT\n",
              "9                               glipizide    392  400           1  TREATMENT\n",
              "10                          dapagliflozin    408  420           1  TREATMENT\n",
              "11                                   T2DM    426  429           1    PROBLEM\n",
              "12                           atorvastatin    435  446           1  TREATMENT\n",
              "13                            gemfibrozil    452  462           1  TREATMENT\n",
              "14                                    HTG    468  470           1    PROBLEM\n",
              "15                          dapagliflozin    490  502           2  TREATMENT\n",
              "16                   Physical examination    550  569           3       TEST\n",
              "17                        dry oral mucosa    607  621           3    PROBLEM\n",
              "18              her abdominal examination    641  665           4       TEST\n",
              "19                             tenderness    686  695           4    PROBLEM"
            ]
          },
          "execution_count": 24,
          "metadata": {},
          "output_type": "execute_result"
        }
      ],
      "source": [
        "# fullAnnotate in LightPipeline\n",
        "\n",
        "text = '''\n",
        "A 28-year-old female with a history of gestational diabetes mellitus diagnosed eight years prior to presentation and subsequent type two diabetes mellitus ( T2DM ), one prior episode of HTG-induced pancreatitis three years prior to presentation , and associated with an acute hepatitis , presented with a one-week history of polyuria , poor appetite , and vomiting . \n",
        "She was on metformin , glipizide , and dapagliflozin for T2DM and atorvastatin and gemfibrozil for HTG . She had been on dapagliflozin for six months at the time of presentation . \n",
        "Physical examination on presentation was significant for dry oral mucosa ; significantly , her abdominal examination was benign with no tenderness , guarding , or rigidity . Pertinent laboratory findings on admission were : serum glucose 111 mg/dl ,  creatinine 0.4 mg/dL , triglycerides 508 mg/dL , total cholesterol 122 mg/dL , and venous pH 7.27 . \n",
        "'''\n",
        "\n",
        "print (text)\n",
        "\n",
        "light_model = LightPipeline(model)\n",
        "\n",
        "light_result = light_model.fullAnnotate(text)\n",
        "\n",
        "\n",
        "chunks = []\n",
        "entities = []\n",
        "sentence= []\n",
        "begin = []\n",
        "end = []\n",
        "\n",
        "for n in light_result[0]['ner_chunk']:\n",
        "        \n",
        "    begin.append(n.begin)\n",
        "    end.append(n.end)\n",
        "    chunks.append(n.result)\n",
        "    entities.append(n.metadata['entity']) \n",
        "    sentence.append(n.metadata['sentence'])\n",
        "    \n",
        "    \n",
        "import pandas as pd\n",
        "\n",
        "df_clinical = pd.DataFrame({'chunks':chunks, \n",
        "                            'begin': begin, \n",
        "                            'end':end, \n",
        "                            'sentence_id':sentence, \n",
        "                            'entities':entities})\n",
        "\n",
        "df_clinical.head(20)"
      ]
    },
    {
      "cell_type": "markdown",
      "metadata": {
        "id": "zk3wwYtnCXPC"
      },
      "source": [
        "## offline mode public models"
      ]
    },
    {
      "cell_type": "markdown",
      "metadata": {
        "id": "AwAP0h4ABVqo"
      },
      "source": [
        "**Download the embedding model from Model Hub and Upload *zip_files* folder** \n",
        "\n",
        "https://nlp.johnsnowlabs.com/2020/01/22/glove_100d.html\n",
        "\n",
        "https://s3.amazonaws.com/auxdata.johnsnowlabs.com/public/models/glove_100d_en_2.4.0_2.4_1579690104032.zip"
      ]
    },
    {
      "cell_type": "code",
      "execution_count": null,
      "metadata": {
        "id": "9UrYru7REKC0"
      },
      "outputs": [],
      "source": [
        "# or you can use internet connection\n",
        "# !wget https://s3.amazonaws.com/auxdata.johnsnowlabs.com/public/models/glove_100d_en_2.4.0_2.4_1579690104032.zip "
      ]
    },
    {
      "cell_type": "markdown",
      "metadata": {
        "id": "vqvea7OGZmYu"
      },
      "source": [
        "drug and drop"
      ]
    },
    {
      "cell_type": "code",
      "execution_count": null,
      "metadata": {
        "id": "-Dj5i9HtCB4P"
      },
      "outputs": [],
      "source": [
        "# Unzip\n",
        "shutil.unpack_archive('zip_files/glove_100d_en_2.4.0_2.4_1579690104032.zip',\n",
        "'modelhub_files/glove_100d', 'zip')"
      ]
    },
    {
      "cell_type": "markdown",
      "metadata": {
        "id": "kcyrFucoCCPA"
      },
      "source": [
        "**Download the ner_clinical_large model from Model Hub and Upload *zip_files* folder**\n",
        "\n",
        "https://nlp.johnsnowlabs.com/2020/03/19/ner_dl_en.html\n",
        "\n",
        "https://s3.amazonaws.com/auxdata.johnsnowlabs.com/public/models/ner_dl_en_2.4.3_2.4_1584624950746.zip"
      ]
    },
    {
      "cell_type": "markdown",
      "metadata": {
        "id": "SO5yKEhrZzAr"
      },
      "source": [
        "drug and drop"
      ]
    },
    {
      "cell_type": "code",
      "execution_count": null,
      "metadata": {
        "id": "t25lQkUbCCsc"
      },
      "outputs": [],
      "source": [
        "# Unzip\n",
        "shutil.unpack_archive('zip_files/ner_dl_en_2.4.3_2.4_1584624950746.zip',\n",
        "'modelhub_files/ner_dl', 'zip')"
      ]
    },
    {
      "cell_type": "markdown",
      "metadata": {
        "id": "ytUhZwslZqii"
      },
      "source": [
        "pipeline"
      ]
    },
    {
      "cell_type": "code",
      "execution_count": null,
      "metadata": {
        "id": "VnfdIlXM77tl"
      },
      "outputs": [],
      "source": [
        "documentAssembler = DocumentAssembler()\\\n",
        "    .setInputCol(\"text\")\\\n",
        "    .setOutputCol(\"document\")\n",
        "\n",
        "tokenizer = Tokenizer() \\\n",
        "    .setInputCols([\"document\"]) \\\n",
        "    .setOutputCol(\"token\")\n",
        "\n",
        "# ner_dl model is trained with glove_100d. So we use the same embeddings in the pipeline\n",
        "glove_embeddings = WordEmbeddingsModel.load('/content/modelhub_files/glove_100d')\\\n",
        "    .setInputCols([\"document\", 'token'])\\\n",
        "    .setOutputCol(\"embeddings\")\n",
        "\n",
        "public_ner = NerDLModel.load(\"/content/modelhub_files/ner_dl\")\\\n",
        "    .setInputCols([\"document\", \"token\", \"embeddings\"])\\\n",
        "    .setOutputCol(\"ner\")\n",
        "\n",
        "ner_converter = NerConverter() \\\n",
        "    .setInputCols([\"document\", \"token\", \"ner\"]) \\\n",
        "    .setOutputCol(\"ner_chunk\")\n",
        "\n",
        "nlpPipeline = Pipeline(stages=[\n",
        "    documentAssembler, \n",
        "    tokenizer,\n",
        "    glove_embeddings,\n",
        "    public_ner,\n",
        "    ner_converter\n",
        " ])\n",
        "\n",
        "empty_df = spark.createDataFrame([['']]).toDF(\"text\")\n",
        "\n",
        "pipelineModel = nlpPipeline.fit(empty_df)"
      ]
    },
    {
      "cell_type": "code",
      "execution_count": null,
      "metadata": {
        "colab": {
          "base_uri": "https://localhost:8080/"
        },
        "id": "BNDD3fZjCssE",
        "outputId": "8ce85fcc-7048-4349-9544-93f0872767e6"
      },
      "outputs": [
        {
          "data": {
            "text/plain": [
              "[('Peter', 'B-PER'),\n",
              " ('Parker', 'I-PER'),\n",
              " ('is', 'O'),\n",
              " ('a', 'O'),\n",
              " ('nice', 'O'),\n",
              " ('persn', 'O'),\n",
              " ('and', 'O'),\n",
              " ('lives', 'O'),\n",
              " ('in', 'O'),\n",
              " ('New', 'B-LOC'),\n",
              " ('York', 'I-LOC'),\n",
              " ('.', 'O'),\n",
              " ('Bruce', 'B-PER'),\n",
              " ('Wayne', 'I-PER'),\n",
              " ('is', 'O'),\n",
              " ('also', 'O'),\n",
              " ('a', 'O'),\n",
              " ('nice', 'O'),\n",
              " ('guy', 'O'),\n",
              " ('and', 'O'),\n",
              " ('lives', 'O'),\n",
              " ('in', 'O'),\n",
              " ('Gotham', 'B-LOC'),\n",
              " ('City', 'I-LOC'),\n",
              " ('.', 'O')]"
            ]
          },
          "execution_count": 37,
          "metadata": {},
          "output_type": "execute_result"
        }
      ],
      "source": [
        "# fullAnnotate in LightPipeline\n",
        "\n",
        "light_model = LightPipeline(pipelineModel)\n",
        "\n",
        "light_result = light_model.annotate('Peter Parker is a nice persn and lives in New York. Bruce Wayne is also a nice guy and lives in Gotham City.')\n",
        "\n",
        "list(zip(light_result['token'], light_result['ner']))"
      ]
    },
    {
      "cell_type": "code",
      "execution_count": null,
      "metadata": {
        "colab": {
          "base_uri": "https://localhost:8080/",
          "height": 174
        },
        "id": "Q-2bPorEFP1x",
        "outputId": "4af7e486-01ec-4b5a-cd10-2cc3db79f6f7"
      },
      "outputs": [
        {
          "data": {
            "text/html": [
              "\n",
              "  <div id=\"df-62ceaa87-1d94-42ce-a85f-627597792d86\">\n",
              "    <div class=\"colab-df-container\">\n",
              "      <div>\n",
              "<style scoped>\n",
              "    .dataframe tbody tr th:only-of-type {\n",
              "        vertical-align: middle;\n",
              "    }\n",
              "\n",
              "    .dataframe tbody tr th {\n",
              "        vertical-align: top;\n",
              "    }\n",
              "\n",
              "    .dataframe thead th {\n",
              "        text-align: right;\n",
              "    }\n",
              "</style>\n",
              "<table border=\"1\" class=\"dataframe\">\n",
              "  <thead>\n",
              "    <tr style=\"text-align: right;\">\n",
              "      <th></th>\n",
              "      <th>chunks</th>\n",
              "      <th>entities</th>\n",
              "    </tr>\n",
              "  </thead>\n",
              "  <tbody>\n",
              "    <tr>\n",
              "      <th>0</th>\n",
              "      <td>Peter Parker</td>\n",
              "      <td>PER</td>\n",
              "    </tr>\n",
              "    <tr>\n",
              "      <th>1</th>\n",
              "      <td>New York</td>\n",
              "      <td>LOC</td>\n",
              "    </tr>\n",
              "    <tr>\n",
              "      <th>2</th>\n",
              "      <td>Bruce Wayne</td>\n",
              "      <td>PER</td>\n",
              "    </tr>\n",
              "    <tr>\n",
              "      <th>3</th>\n",
              "      <td>Gotham City</td>\n",
              "      <td>LOC</td>\n",
              "    </tr>\n",
              "  </tbody>\n",
              "</table>\n",
              "</div>\n",
              "      <button class=\"colab-df-convert\" onclick=\"convertToInteractive('df-62ceaa87-1d94-42ce-a85f-627597792d86')\"\n",
              "              title=\"Convert this dataframe to an interactive table.\"\n",
              "              style=\"display:none;\">\n",
              "        \n",
              "  <svg xmlns=\"http://www.w3.org/2000/svg\" height=\"24px\"viewBox=\"0 0 24 24\"\n",
              "       width=\"24px\">\n",
              "    <path d=\"M0 0h24v24H0V0z\" fill=\"none\"/>\n",
              "    <path d=\"M18.56 5.44l.94 2.06.94-2.06 2.06-.94-2.06-.94-.94-2.06-.94 2.06-2.06.94zm-11 1L8.5 8.5l.94-2.06 2.06-.94-2.06-.94L8.5 2.5l-.94 2.06-2.06.94zm10 10l.94 2.06.94-2.06 2.06-.94-2.06-.94-.94-2.06-.94 2.06-2.06.94z\"/><path d=\"M17.41 7.96l-1.37-1.37c-.4-.4-.92-.59-1.43-.59-.52 0-1.04.2-1.43.59L10.3 9.45l-7.72 7.72c-.78.78-.78 2.05 0 2.83L4 21.41c.39.39.9.59 1.41.59.51 0 1.02-.2 1.41-.59l7.78-7.78 2.81-2.81c.8-.78.8-2.07 0-2.86zM5.41 20L4 18.59l7.72-7.72 1.47 1.35L5.41 20z\"/>\n",
              "  </svg>\n",
              "      </button>\n",
              "      \n",
              "  <style>\n",
              "    .colab-df-container {\n",
              "      display:flex;\n",
              "      flex-wrap:wrap;\n",
              "      gap: 12px;\n",
              "    }\n",
              "\n",
              "    .colab-df-convert {\n",
              "      background-color: #E8F0FE;\n",
              "      border: none;\n",
              "      border-radius: 50%;\n",
              "      cursor: pointer;\n",
              "      display: none;\n",
              "      fill: #1967D2;\n",
              "      height: 32px;\n",
              "      padding: 0 0 0 0;\n",
              "      width: 32px;\n",
              "    }\n",
              "\n",
              "    .colab-df-convert:hover {\n",
              "      background-color: #E2EBFA;\n",
              "      box-shadow: 0px 1px 2px rgba(60, 64, 67, 0.3), 0px 1px 3px 1px rgba(60, 64, 67, 0.15);\n",
              "      fill: #174EA6;\n",
              "    }\n",
              "\n",
              "    [theme=dark] .colab-df-convert {\n",
              "      background-color: #3B4455;\n",
              "      fill: #D2E3FC;\n",
              "    }\n",
              "\n",
              "    [theme=dark] .colab-df-convert:hover {\n",
              "      background-color: #434B5C;\n",
              "      box-shadow: 0px 1px 3px 1px rgba(0, 0, 0, 0.15);\n",
              "      filter: drop-shadow(0px 1px 2px rgba(0, 0, 0, 0.3));\n",
              "      fill: #FFFFFF;\n",
              "    }\n",
              "  </style>\n",
              "\n",
              "      <script>\n",
              "        const buttonEl =\n",
              "          document.querySelector('#df-62ceaa87-1d94-42ce-a85f-627597792d86 button.colab-df-convert');\n",
              "        buttonEl.style.display =\n",
              "          google.colab.kernel.accessAllowed ? 'block' : 'none';\n",
              "\n",
              "        async function convertToInteractive(key) {\n",
              "          const element = document.querySelector('#df-62ceaa87-1d94-42ce-a85f-627597792d86');\n",
              "          const dataTable =\n",
              "            await google.colab.kernel.invokeFunction('convertToInteractive',\n",
              "                                                     [key], {});\n",
              "          if (!dataTable) return;\n",
              "\n",
              "          const docLinkHtml = 'Like what you see? Visit the ' +\n",
              "            '<a target=\"_blank\" href=https://colab.research.google.com/notebooks/data_table.ipynb>data table notebook</a>'\n",
              "            + ' to learn more about interactive tables.';\n",
              "          element.innerHTML = '';\n",
              "          dataTable['output_type'] = 'display_data';\n",
              "          await google.colab.output.renderOutput(dataTable, element);\n",
              "          const docLink = document.createElement('div');\n",
              "          docLink.innerHTML = docLinkHtml;\n",
              "          element.appendChild(docLink);\n",
              "        }\n",
              "      </script>\n",
              "    </div>\n",
              "  </div>\n",
              "  "
            ],
            "text/plain": [
              "         chunks entities\n",
              "0  Peter Parker      PER\n",
              "1      New York      LOC\n",
              "2   Bruce Wayne      PER\n",
              "3   Gotham City      LOC"
            ]
          },
          "execution_count": 39,
          "metadata": {},
          "output_type": "execute_result"
        }
      ],
      "source": [
        "light_model = LightPipeline(pipelineModel)\n",
        "\n",
        "light_result = light_model.fullAnnotate('Peter Parker is a nice persn and lives in New York. Bruce Wayne is also a nice guy and lives in Gotham City.')\n",
        "\n",
        "\n",
        "chunks = []\n",
        "entities = []\n",
        "\n",
        "for n in light_result[0]['ner_chunk']:\n",
        "        \n",
        "    chunks.append(n.result)\n",
        "    entities.append(n.metadata['entity']) \n",
        "    \n",
        "    \n",
        "import pandas as pd\n",
        "\n",
        "df = pd.DataFrame({'chunks':chunks, 'entities':entities})\n",
        "\n",
        "df"
      ]
    }
  ],
  "metadata": {
    "colab": {
      "collapsed_sections": [],
      "name": "Airgaped.ipynb",
      "provenance": [],
      "toc_visible": true
    },
    "kernelspec": {
      "display_name": "Python 3",
      "name": "python3"
    },
    "language_info": {
      "name": "python"
    }
  },
  "nbformat": 4,
  "nbformat_minor": 0
}

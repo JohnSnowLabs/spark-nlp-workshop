{
 "cells": [
  {
   "cell_type": "markdown",
   "id": "7cec5853",
   "metadata": {},
   "source": [
    "# Read Your Key and Set Env"
   ]
  },
  {
   "cell_type": "code",
   "execution_count": null,
   "id": "8980ca2e",
   "metadata": {},
   "outputs": [],
   "source": [
    "# first step everytime you need to run\n",
    "\n",
    "import json\n",
    "import os\n",
    "# Upload your spark_nlp_for_healthcare.json  to the default directory and then run this cell to authenticate \n",
    "with open('4.0.0.spark_nlp_for_healthcare.json', 'r') as f:\n",
    "    for k, v in json.load(f).items():\n",
    "        %set_env $k=$v\n",
    "\n",
    "%set_env PYSPARK=3.2.2\n",
    "%set_env SPARK_HOME=/home/ec2-user/SageMaker/spark-3.2.2-bin-hadoop2.7\n",
    "\n",
    "\n",
    "with open('4.0.0.spark_nlp_for_healthcare.json') as f:\n",
    "    license_keys = json.load(f)\n",
    "\n",
    "# Defining license key-value pairs as local variables\n",
    "locals().update(license_keys)\n",
    "\n",
    "\n",
    "!java -version"
   ]
  },
  {
   "cell_type": "markdown",
   "id": "cb44cb68",
   "metadata": {},
   "source": [
    "# Dowload and Install OCR"
   ]
  },
  {
   "cell_type": "code",
   "execution_count": 2,
   "id": "0c7beb41",
   "metadata": {},
   "outputs": [
    {
     "name": "stdout",
     "output_type": "stream",
     "text": [
      "wget: missing URL\n",
      "Usage: wget [OPTION]... [URL]...\n",
      "\n",
      "Try `wget --help' for more options.\n",
      "setup SageMaker for PySpark 3.2.2 and Spark NLP 4.0.0 and Spark OCR 4.0.0 and Spark NLP for Healthcare 4.0.0\n",
      "alternatives version 1.7.4 - Copyright (C) 2001 Red Hat, Inc.\n",
      "This may be freely redistributed under the terms of the GNU Public License.\n",
      "\n",
      "usage: alternatives --install <link> <name> <path> <priority>\n",
      "                    [--initscript <service>]\n",
      "                    [--family <family>]\n",
      "                    [--slave <link> <name> <path>]*\n",
      "       alternatives --remove <name> <path>\n",
      "       alternatives --auto <name>\n",
      "       alternatives --config <name>\n",
      "       alternatives --display <name>\n",
      "       alternatives --set <name> <path>\n",
      "       alternatives --list\n",
      "\n",
      "common options: --verbose --test --help --usage --version --keep-missing\n",
      "                --altdir <directory> --admindir <directory>\n",
      "\u001b[31mERROR: pip's dependency resolver does not currently take into account all the packages that are installed. This behaviour is the source of the following dependency conflicts.\n",
      "sagemaker-pyspark 1.4.2 requires pyspark==2.4.0, but you have pyspark 3.2.2 which is incompatible.\u001b[0m\u001b[31m\n",
      "\u001b[0m\u001b[33mWARNING: You are using pip version 22.0.4; however, version 22.2 is available.\n",
      "You should consider upgrading via the '/home/ec2-user/anaconda3/envs/python3/bin/python -m pip install --upgrade pip' command.\u001b[0m\u001b[33m\n",
      "\u001b[0m\u001b[33mWARNING: You are using pip version 22.0.4; however, version 22.2 is available.\n",
      "You should consider upgrading via the '/home/ec2-user/anaconda3/envs/python3/bin/python -m pip install --upgrade pip' command.\u001b[0m\u001b[33m\n",
      "\u001b[0m\u001b[31mERROR: pip's dependency resolver does not currently take into account all the packages that are installed. This behaviour is the source of the following dependency conflicts.\n",
      "daal4py 2021.3.0 requires daal==2021.2.3, which is not installed.\n",
      "sagemaker-pyspark 1.4.2 requires pyspark==2.4.0, but you have pyspark 3.2.1 which is incompatible.\n",
      "numba 0.54.1 requires numpy<1.21,>=1.17, but you have numpy 1.21.6 which is incompatible.\u001b[0m\u001b[31m\n",
      "\u001b[0m\u001b[33mWARNING: You are using pip version 22.0.4; however, version 22.2 is available.\n",
      "You should consider upgrading via the '/home/ec2-user/anaconda3/envs/python3/bin/python -m pip install --upgrade pip' command.\u001b[0m\u001b[33m\n",
      "\u001b[0m"
     ]
    }
   ],
   "source": [
    "# second step only run when intalling or reinstalling the library \n",
    "# No need to run it over and over\n",
    "\n",
    "!wget -O https://raw.githubusercontent.com/JohnSnowLabs/spark-nlp-workshop/master/jsl_sagemaker_setup_with_OCR.sh -O jsl_sagemaker_setup_with_OCR.sh\n",
    "!bash jsl_sagemaker_setup_with_OCR.sh"
   ]
  },
  {
   "cell_type": "markdown",
   "id": "bcb16736",
   "metadata": {},
   "source": [
    "# Start Your Sessions"
   ]
  },
  {
   "cell_type": "code",
   "execution_count": 4,
   "id": "cf06011e",
   "metadata": {},
   "outputs": [
    {
     "name": "stdout",
     "output_type": "stream",
     "text": [
      "Spark version: 3.2.1\n",
      "Spark NLP version: 4.0.0\n",
      "Spark NLP for Healthcare version: 4.0.0\n",
      "Spark OCR version: 4.0.0\n",
      "\n"
     ]
    },
    {
     "name": "stderr",
     "output_type": "stream",
     "text": [
      "22/07/25 20:38:00 INFO LicenseValidator$: Using legacy license, can not register for credential notifications.\n",
      "22/07/25 20:38:00 INFO LicenseValidator$: Using legacy license, cannot start periodic credential refresh.\n"
     ]
    },
    {
     "data": {
      "text/html": [
       "\n",
       "            <div>\n",
       "                <p><b>SparkSession - in-memory</b></p>\n",
       "                \n",
       "        <div>\n",
       "            <p><b>SparkContext</b></p>\n",
       "\n",
       "            <p><a href=\"http://ip-172-16-91-143.us-east-2.compute.internal:4040\">Spark UI</a></p>\n",
       "\n",
       "            <dl>\n",
       "              <dt>Version</dt>\n",
       "                <dd><code>v3.2.2</code></dd>\n",
       "              <dt>Master</dt>\n",
       "                <dd><code>local[*]</code></dd>\n",
       "              <dt>AppName</dt>\n",
       "                <dd><code>Spark OCR</code></dd>\n",
       "            </dl>\n",
       "        </div>\n",
       "        \n",
       "            </div>\n",
       "        "
      ],
      "text/plain": [
       "<pyspark.sql.session.SparkSession at 0x7f5c84077c70>"
      ]
     },
     "execution_count": 4,
     "metadata": {},
     "output_type": "execute_result"
    }
   ],
   "source": [
    "import sys, os\n",
    "import base64\n",
    "os.environ['TF_CPP_MIN_LOG_LEVEL'] = '3'\n",
    "\n",
    "import sparkocr\n",
    "from sparkocr import start\n",
    "from sparkocr.enums import *\n",
    "from sparkocr.utils import *\n",
    "from sparkocr.metrics import score\n",
    "from sparkocr.transformers import *\n",
    "\n",
    "from pyspark.ml import PipelineModel\n",
    "from pyspark.sql import functions as F\n",
    "from pyspark.sql import SparkSession\n",
    "\n",
    "import pkg_resources\n",
    "\n",
    "# Start spark\n",
    "spark = sparkocr.start(secret=SPARK_OCR_SECRET, \n",
    "                       nlp_version=PUBLIC_VERSION\n",
    "                       )\n",
    "\n",
    "spark.sparkContext.setLogLevel(\"ERROR\")\n",
    "\n",
    "# check that spark started\n",
    "spark"
   ]
  },
  {
   "cell_type": "markdown",
   "id": "39d6dab9",
   "metadata": {},
   "source": [
    "# Create Pipeline"
   ]
  },
  {
   "cell_type": "code",
   "execution_count": 6,
   "id": "3ec2fc2e",
   "metadata": {},
   "outputs": [],
   "source": [
    "!wget -q -O sample_doc.pdf http://www.asx.com.au/asxpdf/20171103/pdf/43nyyw9r820c6r.pdf"
   ]
  },
  {
   "cell_type": "code",
   "execution_count": 7,
   "id": "3bf397c4",
   "metadata": {},
   "outputs": [
    {
     "name": "stderr",
     "output_type": "stream",
     "text": [
      "[Stage 0:>                                                          (0 + 1) / 1]\r"
     ]
    },
    {
     "name": "stdout",
     "output_type": "stream",
     "text": [
      "+-------+--------------------+-----------------+\n",
      "|pagenum|                text|       confidence|\n",
      "+-------+--------------------+-----------------+\n",
      "|      0|ASX ANNOUNCEMENT\\...|90.42361619737413|\n",
      "+-------+--------------------+-----------------+\n",
      "\n"
     ]
    },
    {
     "name": "stderr",
     "output_type": "stream",
     "text": [
      "                                                                                \r"
     ]
    }
   ],
   "source": [
    "# Transform PDF document to images per page\n",
    "pdf_to_image = PdfToImage()\\\n",
    "      .setInputCol(\"content\")\\\n",
    "      .setOutputCol(\"image\")\n",
    "# Run OCR\n",
    "ocr = ImageToText()\\\n",
    "      .setInputCol(\"image\")\\\n",
    "      .setOutputCol(\"text\")\\\n",
    "      .setConfidenceThreshold(65)\n",
    "      # .setKeepLayout(True) \\ # to preserve the layout of the input\n",
    "pdf_to_text_pipeline = PipelineModel(stages=[\n",
    "    pdf_to_image,\n",
    "    ocr\n",
    "])\n",
    "pdf = 'sample_doc.pdf'\n",
    "pdf_example_df = spark.read.format(\"binaryFile\").load(pdf).cache()\n",
    "result = pdf_to_text_pipeline.transform(pdf_example_df).cache()\n",
    "result.select(\"pagenum\",\"text\", \"confidence\").show()"
   ]
  },
  {
   "cell_type": "code",
   "execution_count": null,
   "id": "2cfaf0d4",
   "metadata": {},
   "outputs": [],
   "source": []
  }
 ],
 "metadata": {
  "kernelspec": {
   "display_name": "conda_python3",
   "language": "python",
   "name": "conda_python3"
  },
  "language_info": {
   "codemirror_mode": {
    "name": "ipython",
    "version": 3
   },
   "file_extension": ".py",
   "mimetype": "text/x-python",
   "name": "python",
   "nbconvert_exporter": "python",
   "pygments_lexer": "ipython3",
   "version": "3.8.12"
  }
 },
 "nbformat": 4,
 "nbformat_minor": 5
}

{
 "cells": [
  {
   "cell_type": "code",
   "execution_count": 1,
   "id": "5b8dd934-f52f-4d4c-a52d-e4d707cbc323",
   "metadata": {
    "execution": {
     "iopub.execute_input": "2025-05-13T08:42:30.481770Z",
     "iopub.status.busy": "2025-05-13T08:42:30.481447Z",
     "iopub.status.idle": "2025-05-13T08:42:56.092490Z",
     "shell.execute_reply": "2025-05-13T08:42:56.091953Z",
     "shell.execute_reply.started": "2025-05-13T08:42:30.481739Z"
    },
    "tags": []
   },
   "outputs": [
    {
     "data": {
      "application/vnd.jupyter.widget-view+json": {
       "model_id": "a2cbd07531c94d88b1f5b8e6ec7f6c59",
       "version_major": 2,
       "version_minor": 0
      },
      "text/plain": [
       "VBox()"
      ]
     },
     "metadata": {},
     "output_type": "display_data"
    },
    {
     "name": "stdout",
     "output_type": "stream",
     "text": [
      "Starting Spark application\n"
     ]
    },
    {
     "data": {
      "text/html": [
       "<table>\n",
       "<tbody><tr><th>ID</th><th>YARN Application ID</th><th>Kind</th><th>State</th><th>Spark UI</th><th>Driver log</th><th>User</th><th>Current session?</th></tr><tr><td>1</td><td>application_1747123548282_0002</td><td>pyspark</td><td>idle</td><td><a target=\"_blank\" href=\"http://ip-172-31-96-41.ec2.internal:20888/proxy/application_1747123548282_0002/\" class=\"emr-proxy-link j-25Y2MW2P2PXVT application_1747123548282_0002\" emr-resource=\"j-25Y2MW2P2PXVT\n",
       "\" application-id=\"application_1747123548282_0002\">Link</a></td><td><a target=\"_blank\" href=\"http://ip-172-31-96-41.ec2.internal:8042/node/containerlogs/container_1747123548282_0002_01_000001/livy\">Link</a></td><td>None</td><td>✔</td></tr></tbody></table>"
      ],
      "text/plain": [
       "<IPython.core.display.HTML object>"
      ]
     },
     "metadata": {},
     "output_type": "display_data"
    },
    {
     "data": {
      "application/vnd.jupyter.widget-view+json": {
       "model_id": "",
       "version_major": 2,
       "version_minor": 0
      },
      "text/plain": [
       "FloatProgress(value=0.0, bar_style='info', description='Progress:', layout=Layout(height='25px', width='50%'),…"
      ]
     },
     "metadata": {},
     "output_type": "display_data"
    },
    {
     "name": "stdout",
     "output_type": "stream",
     "text": [
      "SparkSession available as 'spark'.\n"
     ]
    },
    {
     "data": {
      "application/vnd.jupyter.widget-view+json": {
       "model_id": "",
       "version_major": 2,
       "version_minor": 0
      },
      "text/plain": [
       "FloatProgress(value=0.0, bar_style='info', description='Progress:', layout=Layout(height='25px', width='50%'),…"
      ]
     },
     "metadata": {},
     "output_type": "display_data"
    },
    {
     "name": "stdout",
     "output_type": "stream",
     "text": [
      "<pyspark.sql.session.SparkSession object at 0x7f4c13f3b910>"
     ]
    }
   ],
   "source": [
    "spark"
   ]
  },
  {
   "cell_type": "code",
   "execution_count": 2,
   "id": "ef901872-9f9b-4b38-a9a7-268d10b944c6",
   "metadata": {
    "execution": {
     "iopub.execute_input": "2025-05-13T08:42:56.097026Z",
     "iopub.status.busy": "2025-05-13T08:42:56.096873Z",
     "iopub.status.idle": "2025-05-13T08:42:56.852042Z",
     "shell.execute_reply": "2025-05-13T08:42:56.851514Z",
     "shell.execute_reply.started": "2025-05-13T08:42:56.097005Z"
    },
    "tags": []
   },
   "outputs": [
    {
     "data": {
      "application/vnd.jupyter.widget-view+json": {
       "model_id": "7bc2a630874b462f936920c58131332c",
       "version_major": 2,
       "version_minor": 0
      },
      "text/plain": [
       "VBox()"
      ]
     },
     "metadata": {},
     "output_type": "display_data"
    },
    {
     "data": {
      "application/vnd.jupyter.widget-view+json": {
       "model_id": "",
       "version_major": 2,
       "version_minor": 0
      },
      "text/plain": [
       "FloatProgress(value=0.0, bar_style='info', description='Progress:', layout=Layout(height='25px', width='50%'),…"
      ]
     },
     "metadata": {},
     "output_type": "display_data"
    }
   ],
   "source": [
    "import os\n",
    "import json\n",
    "\n",
    "import pyspark\n",
    "from pyspark.ml import PipelineModel, Pipeline\n",
    "from pyspark.sql import functions as F\n",
    "\n",
    "import sparknlp\n",
    "import sparknlp_jsl\n",
    "from sparknlp_jsl.annotator import *\n",
    "from sparknlp_jsl import *\n",
    "from sparknlp.annotator import *\n",
    "from sparknlp.base import *\n",
    "from sparknlp.pretrained import PretrainedPipeline\n",
    "from sparknlp_jsl.pipeline_tracer import PipelineTracer\n",
    "from sparknlp_jsl.pipeline_output_parser import PipelineOutputParser\n",
    "from pyspark.ml import PipelineModel, Pipeline"
   ]
  },
  {
   "cell_type": "code",
   "execution_count": 3,
   "id": "145a5c03",
   "metadata": {
    "execution": {
     "iopub.execute_input": "2025-05-13T08:42:56.853044Z",
     "iopub.status.busy": "2025-05-13T08:42:56.852878Z",
     "iopub.status.idle": "2025-05-13T08:42:56.892879Z",
     "shell.execute_reply": "2025-05-13T08:42:56.892349Z",
     "shell.execute_reply.started": "2025-05-13T08:42:56.853021Z"
    },
    "tags": []
   },
   "outputs": [
    {
     "data": {
      "application/vnd.jupyter.widget-view+json": {
       "model_id": "168036d2c562429384209dfde45d88e3",
       "version_major": 2,
       "version_minor": 0
      },
      "text/plain": [
       "VBox()"
      ]
     },
     "metadata": {},
     "output_type": "display_data"
    },
    {
     "data": {
      "application/vnd.jupyter.widget-view+json": {
       "model_id": "",
       "version_major": 2,
       "version_minor": 0
      },
      "text/plain": [
       "FloatProgress(value=0.0, bar_style='info', description='Progress:', layout=Layout(height='25px', width='50%'),…"
      ]
     },
     "metadata": {},
     "output_type": "display_data"
    },
    {
     "name": "stdout",
     "output_type": "stream",
     "text": [
      "PySpark version: 3.5.0+amzn.0\n",
      "Spark NLP Version : 6.0.0\n",
      "Spark NLP_JSL Version : 6.0.0"
     ]
    }
   ],
   "source": [
    "print(\"PySpark version:\", pyspark.__version__)\n",
    "print(\"Spark NLP Version :\", sparknlp.version())\n",
    "print(\"Spark NLP_JSL Version :\", sparknlp_jsl.version())"
   ]
  },
  {
   "cell_type": "code",
   "execution_count": 4,
   "id": "c061f80c-2f23-43d0-a482-08d40798d630",
   "metadata": {
    "execution": {
     "iopub.execute_input": "2025-05-13T08:42:56.893877Z",
     "iopub.status.busy": "2025-05-13T08:42:56.893716Z",
     "iopub.status.idle": "2025-05-13T08:44:10.383455Z",
     "shell.execute_reply": "2025-05-13T08:44:10.382921Z",
     "shell.execute_reply.started": "2025-05-13T08:42:56.893854Z"
    },
    "tags": []
   },
   "outputs": [
    {
     "data": {
      "application/vnd.jupyter.widget-view+json": {
       "model_id": "d60a45399e6a4c33a2ccdffcb567b782",
       "version_major": 2,
       "version_minor": 0
      },
      "text/plain": [
       "VBox()"
      ]
     },
     "metadata": {},
     "output_type": "display_data"
    },
    {
     "data": {
      "application/vnd.jupyter.widget-view+json": {
       "model_id": "",
       "version_major": 2,
       "version_minor": 0
      },
      "text/plain": [
       "FloatProgress(value=0.0, bar_style='info', description='Progress:', layout=Layout(height='25px', width='50%'),…"
      ]
     },
     "metadata": {},
     "output_type": "display_data"
    }
   ],
   "source": [
    "document_assembler = DocumentAssembler() \\\n",
    "    .setInputCol(\"text\") \\\n",
    "    .setOutputCol(\"document\")\n",
    "\n",
    "sentence_detector_dl = SentenceDetectorDLModel.load(\"s3://johnsnowlabs-emr-189352970232/workspace-storage/e-ASLPH2P2XWFN3IABGUI2PKJVS/models/sentence_detector_dl_healthcare_en_3.2.0_3.0_1628678815210/\") \\\n",
    "    .setInputCols([\"document\"]) \\\n",
    "    .setOutputCol(\"sentence\")\n",
    "\n",
    "tokenizer = Tokenizer() \\\n",
    "    .setInputCols([\"sentence\"]) \\\n",
    "    .setOutputCol(\"token\")\n",
    "\n",
    "word_embeddings = WordEmbeddingsModel.load(\"s3://johnsnowlabs-emr-189352970232/workspace-storage/e-ASLPH2P2XWFN3IABGUI2PKJVS/models/embeddings_clinical_en_2.4.0_2.4_1580237286004/\") \\\n",
    "    .setInputCols([\"sentence\", \"token\"]) \\\n",
    "    .setOutputCol(\"embeddings\")\n",
    "\n",
    "clinical_ner = MedicalNerModel.load(\"s3://johnsnowlabs-emr-189352970232/workspace-storage/e-ASLPH2P2XWFN3IABGUI2PKJVS/models/ner_deid_subentity_augmented_en_3.2.0_2.4_1630671569402/\") \\\n",
    "    .setInputCols([\"sentence\", \"token\", \"embeddings\"]) \\\n",
    "    .setOutputCol(\"ner\")\n",
    "\n",
    "ner_converter = NerConverterInternal() \\\n",
    "    .setInputCols([\"sentence\", \"token\", \"ner\"]) \\\n",
    "    .setOutputCol(\"ner_chunk\")\n",
    "\n",
    "pretrained_zero_shot_ner = PretrainedZeroShotNER().load(\"s3://johnsnowlabs-emr-189352970232/workspace-storage/e-ASLPH2P2XWFN3IABGUI2PKJVS/models/zeroshot_ner_deid_subentity_merged_medium_en_5.5.0_3.0_1732701620086/\") \\\n",
    "    .setInputCols(\"sentence\", \"token\") \\\n",
    "    .setOutputCol(\"zero_shot_ner\")\n",
    "\n",
    "zero_shot_ner_converter = NerConverterInternal() \\\n",
    "    .setInputCols(\"sentence\", \"token\", \"zero_shot_ner\") \\\n",
    "    .setOutputCol(\"zero_shot_ner_chunk\")\n",
    "\n",
    "chunk_merge = ChunkMergeModel() \\\n",
    "    .setInputCols(\"zero_shot_ner_chunk\", \"ner\") \\\n",
    "    .setOutputCol(\"deid_merged_chunk\")\n",
    "\n",
    "deidentification = DeIdentification() \\\n",
    "    .setInputCols([\"sentence\", \"token\", \"deid_merged_chunk\"]) \\\n",
    "    .setOutputCol(\"deidentified\") \\\n",
    "    .setMode(\"obfuscate\") \\\n",
    "    .setObfuscateDate(True) \\\n",
    "    .setIgnoreRegex(True) \\\n",
    "    .setSeed(111) \\\n",
    "    .setDays(20)\n",
    "\n",
    "pipeline = Pipeline(stages=[\n",
    "    document_assembler, \n",
    "    sentence_detector_dl, \n",
    "    tokenizer, \n",
    "    word_embeddings,\n",
    "    clinical_ner, \n",
    "    ner_converter, \n",
    "    pretrained_zero_shot_ner,\n",
    "    zero_shot_ner_converter, \n",
    "    chunk_merge, deidentification\n",
    "])\n",
    "\n",
    "empty_data = spark.createDataFrame([[\"\"]]).toDF(\"text\")\n",
    "model = pipeline.fit(empty_data)"
   ]
  },
  {
   "cell_type": "code",
   "execution_count": 5,
   "id": "a792ec9b-0356-4e04-87ad-bb3cc48e15b2",
   "metadata": {
    "execution": {
     "iopub.execute_input": "2025-05-13T08:44:10.384487Z",
     "iopub.status.busy": "2025-05-13T08:44:10.384314Z",
     "iopub.status.idle": "2025-05-13T08:44:10.421201Z",
     "shell.execute_reply": "2025-05-13T08:44:10.420691Z",
     "shell.execute_reply.started": "2025-05-13T08:44:10.384464Z"
    },
    "tags": []
   },
   "outputs": [
    {
     "data": {
      "application/vnd.jupyter.widget-view+json": {
       "model_id": "e26be5cdc5644db7a8f62bf9b9bc4529",
       "version_major": 2,
       "version_minor": 0
      },
      "text/plain": [
       "VBox()"
      ]
     },
     "metadata": {},
     "output_type": "display_data"
    },
    {
     "data": {
      "application/vnd.jupyter.widget-view+json": {
       "model_id": "",
       "version_major": 2,
       "version_minor": 0
      },
      "text/plain": [
       "FloatProgress(value=0.0, bar_style='info', description='Progress:', layout=Layout(height='25px', width='50%'),…"
      ]
     },
     "metadata": {},
     "output_type": "display_data"
    }
   ],
   "source": [
    "text = \"\"\"Patient Name: John Matthews  \n",
    "Date of Birth: 03/14/1975  \n",
    "Visit Date: 04/22/2023  \n",
    "Age: 48  \n",
    "Country: United States  \n",
    "City: San Francisco  \n",
    "Primary Care Physician: Dr. Elizabeth Warren  \n",
    "\n",
    "Chief Complaint:  \n",
    "Mr. Matthews presented to the clinic with persistent chest discomfort and occasional shortness of breath for the past two weeks.\n",
    "\n",
    "Medical History:  \n",
    "The patient has a history of hypertension and was previously treated in Toronto, Canada. He reported no known allergies.\n",
    "\n",
    "Physical Examination:  \n",
    "Vitals were stable. BP: 130/85, HR: 78 bpm. Lungs were clear on auscultation.\n",
    "\n",
    "Assessment and Plan:  \n",
    "Suspected angina. Scheduled for a stress test on 04/25/2023. Continue Lisinopril 10 mg daily and follow up with Dr. Warren in two weeks.\"\"\""
   ]
  },
  {
   "cell_type": "code",
   "execution_count": 6,
   "id": "ca081789-f8ba-4fa4-b0cf-07fb4a12ef20",
   "metadata": {
    "execution": {
     "iopub.execute_input": "2025-05-13T08:44:10.422723Z",
     "iopub.status.busy": "2025-05-13T08:44:10.422563Z",
     "iopub.status.idle": "2025-05-13T08:44:11.171219Z",
     "shell.execute_reply": "2025-05-13T08:44:11.170699Z",
     "shell.execute_reply.started": "2025-05-13T08:44:10.422701Z"
    },
    "tags": []
   },
   "outputs": [
    {
     "data": {
      "application/vnd.jupyter.widget-view+json": {
       "model_id": "c553a76affb84498913f3cf4de8e7d80",
       "version_major": 2,
       "version_minor": 0
      },
      "text/plain": [
       "VBox()"
      ]
     },
     "metadata": {},
     "output_type": "display_data"
    },
    {
     "data": {
      "application/vnd.jupyter.widget-view+json": {
       "model_id": "",
       "version_major": 2,
       "version_minor": 0
      },
      "text/plain": [
       "FloatProgress(value=0.0, bar_style='info', description='Progress:', layout=Layout(height='25px', width='50%'),…"
      ]
     },
     "metadata": {},
     "output_type": "display_data"
    }
   ],
   "source": [
    "text_df = spark.createDataFrame([[text]]).toDF(\"text\")\n",
    "result_df = model.transform(text_df)"
   ]
  },
  {
   "cell_type": "code",
   "execution_count": null,
   "id": "ba052ee6-f040-4e6e-a344-edb97c2b5d63",
   "metadata": {
    "execution": {
     "iopub.execute_input": "2025-05-13T08:44:11.172345Z",
     "iopub.status.busy": "2025-05-13T08:44:11.172186Z"
    },
    "tags": []
   },
   "outputs": [
    {
     "data": {
      "application/vnd.jupyter.widget-view+json": {
       "model_id": "1fd6916e85ac440d943f7e9a5fbf5b3b",
       "version_major": 2,
       "version_minor": 0
      },
      "text/plain": [
       "VBox()"
      ]
     },
     "metadata": {},
     "output_type": "display_data"
    },
    {
     "data": {
      "application/vnd.jupyter.widget-view+json": {
       "model_id": "abf06e7ea8414e45aa97365ab5743f74",
       "version_major": 2,
       "version_minor": 0
      },
      "text/plain": [
       "FloatProgress(value=0.0, bar_style='info', description='Progress:', layout=Layout(height='25px', width='50%'),…"
      ]
     },
     "metadata": {},
     "output_type": "display_data"
    }
   ],
   "source": [
    "collected = result_df.select(\"document\",\"sentence\", \"deidentified\").collect()"
   ]
  },
  {
   "cell_type": "code",
   "execution_count": 8,
   "id": "37321113-e3dc-4319-a2d5-7e9f07b1fab5",
   "metadata": {
    "execution": {
     "iopub.execute_input": "2025-05-13T08:22:42.278303Z",
     "iopub.status.busy": "2025-05-13T08:22:42.278076Z",
     "iopub.status.idle": "2025-05-13T08:22:42.320836Z",
     "shell.execute_reply": "2025-05-13T08:22:42.320325Z",
     "shell.execute_reply.started": "2025-05-13T08:22:42.278276Z"
    },
    "tags": []
   },
   "outputs": [
    {
     "data": {
      "application/vnd.jupyter.widget-view+json": {
       "model_id": "f53185f9272b4fefadeb4191e992c19e",
       "version_major": 2,
       "version_minor": 0
      },
      "text/plain": [
       "VBox()"
      ]
     },
     "metadata": {},
     "output_type": "display_data"
    },
    {
     "data": {
      "application/vnd.jupyter.widget-view+json": {
       "model_id": "",
       "version_major": 2,
       "version_minor": 0
      },
      "text/plain": [
       "FloatProgress(value=0.0, bar_style='info', description='Progress:', layout=Layout(height='25px', width='50%'),…"
      ]
     },
     "metadata": {},
     "output_type": "display_data"
    },
    {
     "name": "stdout",
     "output_type": "stream",
     "text": [
      "Patient Name: Drusilla Fallen  \n",
      "Date of Birth: 04/03/1975  \n",
      "Visit Date: 05/12/2023  \n",
      "Age: 47  \n",
      "Country: Cayman Islands  \n",
      "City: Berea  \n",
      "Primary Care Physician: Dr. Jeanice Branch  \n",
      "\n",
      "Chief Complaint:  \n",
      "Mr. Fallen presented to the clinic with persistent chest discomfort and occasional shortness of breath for the past two weeks.\n",
      "\n",
      "Medical History:  \n",
      "The patient has a history of hypertension and was previously treated in Sac city, Poland. He reported no known allergies.\n",
      "\n",
      "Physical Examination:  \n",
      "Vitals were stable. BP: 130/85, HR: 78 bpm. Lungs were clear on auscultation.\n",
      "\n",
      "Assessment and Plan:  \n",
      "Suspected angina. Scheduled for a stress test on 05/15/2023. Continue Lisinopril 10 mg daily and follow up with Dr. Branch in two weeks."
     ]
    }
   ],
   "source": [
    "for row in collected:\n",
    "    deidentifieds = row[\"deidentified\"]\n",
    "    document = str(row[\"document\"][0].result)\n",
    "    sentences = row[\"sentence\"]\n",
    "    sentence_begin = 0\n",
    "    obfuscated_str = \"\"\n",
    "    for index, sent in enumerate(sentences):\n",
    "        obfuscated_str += document[sentence_begin:sent.begin]\n",
    "        obfuscated_str += deidentifieds[index].result\n",
    "        sentence_begin = sent.end + 1\n",
    "        \n",
    "    print(obfuscated_str)"
   ]
  },
  {
   "cell_type": "code",
   "execution_count": null,
   "id": "742214f7-1f17-4b54-b559-304eeaac2769",
   "metadata": {},
   "outputs": [],
   "source": []
  }
 ],
 "metadata": {
  "kernelspec": {
   "display_name": "PySpark",
   "language": "python",
   "name": "pysparkkernel"
  },
  "language_info": {
   "codemirror_mode": {
    "name": "python",
    "version": 3
   },
   "file_extension": ".py",
   "mimetype": "text/x-python",
   "name": "pyspark",
   "pygments_lexer": "python3"
  }
 },
 "nbformat": 4,
 "nbformat_minor": 5
}

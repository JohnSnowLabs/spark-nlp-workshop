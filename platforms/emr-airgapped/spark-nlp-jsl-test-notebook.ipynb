{
 "cells": [
  {
   "cell_type": "code",
   "execution_count": 1,
   "metadata": {
    "execution": {
     "iopub.execute_input": "2025-07-14T12:54:58.141766Z",
     "iopub.status.busy": "2025-07-14T12:54:58.141386Z",
     "iopub.status.idle": "2025-07-14T12:55:50.612067Z",
     "shell.execute_reply": "2025-07-14T12:55:50.611533Z",
     "shell.execute_reply.started": "2025-07-14T12:54:58.141724Z"
    }
   },
   "outputs": [
    {
     "data": {
      "application/vnd.jupyter.widget-view+json": {
       "model_id": "d498b29149184ddda309f18e9270aba6",
       "version_major": 2,
       "version_minor": 0
      },
      "text/plain": [
       "VBox()"
      ]
     },
     "metadata": {},
     "output_type": "display_data"
    },
    {
     "name": "stdout",
     "output_type": "stream",
     "text": [
      "Starting Spark application\n"
     ]
    },
    {
     "data": {
      "text/html": [
       "<table>\n<tbody><tr><th>ID</th><th>YARN Application ID</th><th>Kind</th><th>State</th><th>Spark UI</th><th>Driver log</th><th>User</th><th>Current session?</th></tr><tr><td>0</td><td>application_1752496586445_0001</td><td>pyspark</td><td>idle</td><td><a target=\"_blank\" href=\"http://ip-172-31-110-250.ec2.internal:20888/proxy/application_1752496586445_0001/\" class=\"emr-proxy-link j-3LRAL4J83DYKJ application_1752496586445_0001\" emr-resource=\"j-3LRAL4J83DYKJ\n\" application-id=\"application_1752496586445_0001\">Link</a></td><td><a target=\"_blank\" href=\"http://ip-172-31-102-84.ec2.internal:8042/node/containerlogs/container_1752496586445_0001_01_000001/livy\">Link</a></td><td>None</td><td>✔</td></tr></tbody></table>"
      ],
      "text/plain": [
       "<IPython.core.display.HTML object>"
      ]
     },
     "metadata": {},
     "output_type": "display_data"
    },
    {
     "data": {
      "application/vnd.jupyter.widget-view+json": {
       "model_id": "",
       "version_major": 2,
       "version_minor": 0
      },
      "text/plain": [
       "FloatProgress(value=0.0, bar_style='info', description='Progress:', layout=Layout(height='25px', width='50%'),…"
      ]
     },
     "metadata": {},
     "output_type": "display_data"
    },
    {
     "name": "stdout",
     "output_type": "stream",
     "text": [
      "SparkSession available as 'spark'.\n"
     ]
    },
    {
     "data": {
      "application/vnd.jupyter.widget-view+json": {
       "model_id": "",
       "version_major": 2,
       "version_minor": 0
      },
      "text/plain": [
       "FloatProgress(value=0.0, bar_style='info', description='Progress:', layout=Layout(height='25px', width='50%'),…"
      ]
     },
     "metadata": {},
     "output_type": "display_data"
    },
    {
     "name": "stdout",
     "output_type": "stream",
     "text": [
      "<pyspark.sql.session.SparkSession object at 0x7fbdeb8bed00>"
     ]
    }
   ],
   "source": [
    "spark"
   ]
  },
  {
   "cell_type": "code",
   "execution_count": 2,
   "metadata": {
    "execution": {
     "iopub.execute_input": "2025-07-14T12:55:50.613128Z",
     "iopub.status.busy": "2025-07-14T12:55:50.612972Z",
     "iopub.status.idle": "2025-07-14T12:55:51.381989Z",
     "shell.execute_reply": "2025-07-14T12:55:51.381301Z",
     "shell.execute_reply.started": "2025-07-14T12:55:50.613107Z"
    }
   },
   "outputs": [
    {
     "data": {
      "application/vnd.jupyter.widget-view+json": {
       "model_id": "68b0b877f27f4d709100e414271f1339",
       "version_major": 2,
       "version_minor": 0
      },
      "text/plain": [
       "VBox()"
      ]
     },
     "metadata": {},
     "output_type": "display_data"
    },
    {
     "data": {
      "application/vnd.jupyter.widget-view+json": {
       "model_id": "",
       "version_major": 2,
       "version_minor": 0
      },
      "text/plain": [
       "FloatProgress(value=0.0, bar_style='info', description='Progress:', layout=Layout(height='25px', width='50%'),…"
      ]
     },
     "metadata": {},
     "output_type": "display_data"
    }
   ],
   "source": [
    "import os\n",
    "import json\n",
    "\n",
    "import pyspark\n",
    "from pyspark.ml import PipelineModel, Pipeline\n",
    "from pyspark.sql import functions as F\n",
    "\n",
    "import sparknlp\n",
    "import sparknlp_jsl\n",
    "from sparknlp_jsl.annotator import *\n",
    "from sparknlp_jsl import *\n",
    "from sparknlp.annotator import *\n",
    "from sparknlp.base import *\n",
    "from sparknlp.pretrained import PretrainedPipeline\n",
    "from sparknlp_jsl.pipeline_tracer import PipelineTracer\n",
    "from sparknlp_jsl.pipeline_output_parser import PipelineOutputParser\n",
    "from pyspark.ml import PipelineModel, Pipeline"
   ]
  },
  {
   "cell_type": "code",
   "execution_count": 3,
   "metadata": {
    "execution": {
     "iopub.execute_input": "2025-07-14T12:55:51.383973Z",
     "iopub.status.busy": "2025-07-14T12:55:51.383736Z",
     "iopub.status.idle": "2025-07-14T12:55:51.444081Z",
     "shell.execute_reply": "2025-07-14T12:55:51.443299Z",
     "shell.execute_reply.started": "2025-07-14T12:55:51.383940Z"
    }
   },
   "outputs": [
    {
     "data": {
      "application/vnd.jupyter.widget-view+json": {
       "model_id": "4b2db888d73043ffa7fd98c294ff6a45",
       "version_major": 2,
       "version_minor": 0
      },
      "text/plain": [
       "VBox()"
      ]
     },
     "metadata": {},
     "output_type": "display_data"
    },
    {
     "data": {
      "application/vnd.jupyter.widget-view+json": {
       "model_id": "",
       "version_major": 2,
       "version_minor": 0
      },
      "text/plain": [
       "FloatProgress(value=0.0, bar_style='info', description='Progress:', layout=Layout(height='25px', width='50%'),…"
      ]
     },
     "metadata": {},
     "output_type": "display_data"
    },
    {
     "name": "stdout",
     "output_type": "stream",
     "text": [
      "PySpark version: 3.5.2+amzn.1\n",
      "Spark NLP Version : 6.0.3\n",
      "Spark NLP_JSL Version : 6.0.3"
     ]
    }
   ],
   "source": [
    "print(\"PySpark version:\", pyspark.__version__)\n",
    "print(\"Spark NLP Version :\", sparknlp.version())\n",
    "print(\"Spark NLP_JSL Version :\", sparknlp_jsl.version())"
   ]
  },
  {
   "cell_type": "code",
   "execution_count": 4,
   "metadata": {
    "execution": {
     "iopub.execute_input": "2025-07-14T12:55:51.446070Z",
     "iopub.status.busy": "2025-07-14T12:55:51.445667Z",
     "iopub.status.idle": "2025-07-14T12:57:29.082209Z",
     "shell.execute_reply": "2025-07-14T12:57:29.081655Z",
     "shell.execute_reply.started": "2025-07-14T12:55:51.446033Z"
    }
   },
   "outputs": [
    {
     "data": {
      "application/vnd.jupyter.widget-view+json": {
       "model_id": "644133ef6c154d8d968fbfffca74dc36",
       "version_major": 2,
       "version_minor": 0
      },
      "text/plain": [
       "VBox()"
      ]
     },
     "metadata": {},
     "output_type": "display_data"
    },
    {
     "data": {
      "application/vnd.jupyter.widget-view+json": {
       "model_id": "",
       "version_major": 2,
       "version_minor": 0
      },
      "text/plain": [
       "FloatProgress(value=0.0, bar_style='info', description='Progress:', layout=Layout(height='25px', width='50%'),…"
      ]
     },
     "metadata": {},
     "output_type": "display_data"
    }
   ],
   "source": [
    "document_assembler = DocumentAssembler() \\\n",
    "    .setInputCol(\"text\") \\\n",
    "    .setOutputCol(\"document\")\n",
    "\n",
    "sentence_detector_dl = SentenceDetectorDLModel.load(\"s3://johnsnowlabs-emr-189352970232/workspace-storage/e-ASLPH2P2XWFN3IABGUI2PKJVS/models/sentence_detector_dl_healthcare_en_3.2.0_3.0_1628678815210/\") \\\n",
    "    .setInputCols([\"document\"]) \\\n",
    "    .setOutputCol(\"sentence\")\n",
    "\n",
    "tokenizer = Tokenizer() \\\n",
    "    .setInputCols([\"sentence\"]) \\\n",
    "    .setOutputCol(\"token\")\n",
    "\n",
    "word_embeddings = WordEmbeddingsModel.load(\"s3://johnsnowlabs-emr-189352970232/workspace-storage/e-ASLPH2P2XWFN3IABGUI2PKJVS/models/embeddings_clinical_en_2.4.0_2.4_1580237286004/\") \\\n",
    "    .setInputCols([\"sentence\", \"token\"]) \\\n",
    "    .setOutputCol(\"embeddings\")\n",
    "\n",
    "clinical_ner = MedicalNerModel.load(\"s3://johnsnowlabs-emr-189352970232/workspace-storage/e-ASLPH2P2XWFN3IABGUI2PKJVS/models/ner_deid_subentity_augmented_en_3.2.0_2.4_1630671569402/\") \\\n",
    "    .setInputCols([\"sentence\", \"token\", \"embeddings\"]) \\\n",
    "    .setOutputCol(\"ner\")\n",
    "\n",
    "ner_converter = NerConverterInternal() \\\n",
    "    .setInputCols([\"sentence\", \"token\", \"ner\"]) \\\n",
    "    .setOutputCol(\"ner_chunk\")\n",
    "\n",
    "pretrained_zero_shot_ner = PretrainedZeroShotNER().load(\"s3://johnsnowlabs-emr-189352970232/workspace-storage/e-ASLPH2P2XWFN3IABGUI2PKJVS/models/zeroshot_ner_deid_subentity_merged_medium_en_5.5.0_3.0_1732701620086/\") \\\n",
    "    .setInputCols(\"sentence\", \"token\") \\\n",
    "    .setOutputCol(\"zero_shot_ner\")\n",
    "\n",
    "zero_shot_ner_converter = NerConverterInternal() \\\n",
    "    .setInputCols(\"sentence\", \"token\", \"zero_shot_ner\") \\\n",
    "    .setOutputCol(\"zero_shot_ner_chunk\")\n",
    "\n",
    "chunk_merge = ChunkMergeModel() \\\n",
    "    .setInputCols(\"zero_shot_ner_chunk\", \"ner\") \\\n",
    "    .setOutputCol(\"deid_merged_chunk\")\n",
    "\n",
    "deidentification = DeIdentification() \\\n",
    "    .setInputCols([\"sentence\", \"token\", \"deid_merged_chunk\"]) \\\n",
    "    .setOutputCol(\"deidentified\") \\\n",
    "    .setMode(\"obfuscate\") \\\n",
    "    .setObfuscateDate(True) \\\n",
    "    .setIgnoreRegex(True) \\\n",
    "    .setSeed(111) \\\n",
    "    .setDays(20)\n",
    "\n",
    "pipeline = Pipeline(stages=[\n",
    "    document_assembler, \n",
    "    sentence_detector_dl, \n",
    "    tokenizer, \n",
    "    word_embeddings,\n",
    "    clinical_ner, \n",
    "    ner_converter, \n",
    "    pretrained_zero_shot_ner,\n",
    "    zero_shot_ner_converter, \n",
    "    chunk_merge, deidentification\n",
    "])\n",
    "\n",
    "empty_data = spark.createDataFrame([[\"\"]]).toDF(\"text\")\n",
    "model = pipeline.fit(empty_data)"
   ]
  },
  {
   "cell_type": "code",
   "execution_count": 5,
   "metadata": {
    "execution": {
     "iopub.execute_input": "2025-07-14T12:57:29.083207Z",
     "iopub.status.busy": "2025-07-14T12:57:29.082982Z",
     "iopub.status.idle": "2025-07-14T12:57:29.124422Z",
     "shell.execute_reply": "2025-07-14T12:57:29.123796Z",
     "shell.execute_reply.started": "2025-07-14T12:57:29.083186Z"
    }
   },
   "outputs": [
    {
     "data": {
      "application/vnd.jupyter.widget-view+json": {
       "model_id": "593f07adf01045758fe58977074248be",
       "version_major": 2,
       "version_minor": 0
      },
      "text/plain": [
       "VBox()"
      ]
     },
     "metadata": {},
     "output_type": "display_data"
    },
    {
     "data": {
      "application/vnd.jupyter.widget-view+json": {
       "model_id": "",
       "version_major": 2,
       "version_minor": 0
      },
      "text/plain": [
       "FloatProgress(value=0.0, bar_style='info', description='Progress:', layout=Layout(height='25px', width='50%'),…"
      ]
     },
     "metadata": {},
     "output_type": "display_data"
    }
   ],
   "source": [
    "text = \"\"\"Patient Name: John Matthews  \n",
    "Date of Birth: 03/14/1975  \n",
    "Visit Date: 04/22/2023  \n",
    "Age: 48  \n",
    "Country: United States  \n",
    "City: San Francisco  \n",
    "Primary Care Physician: Dr. Elizabeth Warren  \n",
    "\n",
    "Chief Complaint:  \n",
    "Mr. Matthews presented to the clinic with persistent chest discomfort and occasional shortness of breath for the past two weeks.\n",
    "\n",
    "Medical History:  \n",
    "The patient has a history of hypertension and was previously treated in Toronto, Canada. He reported no known allergies.\n",
    "\n",
    "Physical Examination:  \n",
    "Vitals were stable. BP: 130/85, HR: 78 bpm. Lungs were clear on auscultation.\n",
    "\n",
    "Assessment and Plan:  \n",
    "Suspected angina. Scheduled for a stress test on 04/25/2023. Continue Lisinopril 10 mg daily and follow up with Dr. Warren in two weeks.\"\"\""
   ]
  },
  {
   "cell_type": "code",
   "execution_count": 6,
   "metadata": {
    "execution": {
     "iopub.execute_input": "2025-07-14T12:57:29.125696Z",
     "iopub.status.busy": "2025-07-14T12:57:29.125477Z",
     "iopub.status.idle": "2025-07-14T12:57:29.879235Z",
     "shell.execute_reply": "2025-07-14T12:57:29.878526Z",
     "shell.execute_reply.started": "2025-07-14T12:57:29.125665Z"
    }
   },
   "outputs": [
    {
     "data": {
      "application/vnd.jupyter.widget-view+json": {
       "model_id": "77255bf5283c4385b0e1f3fcd4f721e4",
       "version_major": 2,
       "version_minor": 0
      },
      "text/plain": [
       "VBox()"
      ]
     },
     "metadata": {},
     "output_type": "display_data"
    },
    {
     "data": {
      "application/vnd.jupyter.widget-view+json": {
       "model_id": "",
       "version_major": 2,
       "version_minor": 0
      },
      "text/plain": [
       "FloatProgress(value=0.0, bar_style='info', description='Progress:', layout=Layout(height='25px', width='50%'),…"
      ]
     },
     "metadata": {},
     "output_type": "display_data"
    }
   ],
   "source": [
    "text_df = spark.createDataFrame([[text]]).toDF(\"text\")\n",
    "result_df = model.transform(text_df)"
   ]
  },
  {
   "cell_type": "code",
   "execution_count": 7,
   "metadata": {
    "execution": {
     "iopub.execute_input": "2025-07-14T12:57:29.880271Z",
     "iopub.status.busy": "2025-07-14T12:57:29.880100Z",
     "iopub.status.idle": "2025-07-14T12:57:45.190557Z",
     "shell.execute_reply": "2025-07-14T12:57:45.189983Z",
     "shell.execute_reply.started": "2025-07-14T12:57:29.880242Z"
    }
   },
   "outputs": [
    {
     "data": {
      "application/vnd.jupyter.widget-view+json": {
       "model_id": "f6bccd6b501e435f984674cf694501a8",
       "version_major": 2,
       "version_minor": 0
      },
      "text/plain": [
       "VBox()"
      ]
     },
     "metadata": {},
     "output_type": "display_data"
    },
    {
     "data": {
      "application/vnd.jupyter.widget-view+json": {
       "model_id": "",
       "version_major": 2,
       "version_minor": 0
      },
      "text/plain": [
       "FloatProgress(value=0.0, bar_style='info', description='Progress:', layout=Layout(height='25px', width='50%'),…"
      ]
     },
     "metadata": {},
     "output_type": "display_data"
    }
   ],
   "source": [
    "collected = result_df.select(\"document\",\"sentence\", \"deidentified\").collect()"
   ]
  },
  {
   "cell_type": "code",
   "execution_count": 8,
   "metadata": {
    "execution": {
     "iopub.execute_input": "2025-07-14T12:57:45.192028Z",
     "iopub.status.busy": "2025-07-14T12:57:45.191877Z",
     "iopub.status.idle": "2025-07-14T12:57:45.232524Z",
     "shell.execute_reply": "2025-07-14T12:57:45.231864Z",
     "shell.execute_reply.started": "2025-07-14T12:57:45.192009Z"
    },
    "tags": []
   },
   "outputs": [
    {
     "data": {
      "application/vnd.jupyter.widget-view+json": {
       "model_id": "709f559b66da491e85477589e14342d6",
       "version_major": 2,
       "version_minor": 0
      },
      "text/plain": [
       "VBox()"
      ]
     },
     "metadata": {},
     "output_type": "display_data"
    },
    {
     "data": {
      "application/vnd.jupyter.widget-view+json": {
       "model_id": "",
       "version_major": 2,
       "version_minor": 0
      },
      "text/plain": [
       "FloatProgress(value=0.0, bar_style='info', description='Progress:', layout=Layout(height='25px', width='50%'),…"
      ]
     },
     "metadata": {},
     "output_type": "display_data"
    },
    {
     "name": "stdout",
     "output_type": "stream",
     "text": [
      "Patient Name: Drusilla Fallen  \n",
      "Date of Birth: 04/03/1975  \n",
      "Visit Date: 05/12/2023  \n",
      "Age: 47  \n",
      "Country: United States  \n",
      "City: Berea  \n",
      "Primary Care Physician: Dr. Jeanice Branch  \n",
      "\n",
      "Chief Complaint:  \n",
      "Mr. Fallen presented to the clinic with persistent chest discomfort and occasional shortness of breath for the past two weeks.\n",
      "\n",
      "Medical History:  \n",
      "The patient has a history of hypertension and was previously treated in Sac City, Canada. He reported no known allergies.\n",
      "\n",
      "Physical Examination:  \n",
      "Vitals were stable. BP: 130/85, HR: 78 bpm. Lungs were clear on auscultation.\n",
      "\n",
      "Assessment and Plan:  \n",
      "Suspected angina. Scheduled for a stress test on 05/15/2023. Continue Lisinopril 10 mg daily and follow up with Dr. Branch in two weeks."
     ]
    }
   ],
   "source": [
    "for row in collected:\n",
    "    deidentifieds = row[\"deidentified\"]\n",
    "    document = str(row[\"document\"][0].result)\n",
    "    sentences = row[\"sentence\"]\n",
    "    sentence_begin = 0\n",
    "    obfuscated_str = \"\"\n",
    "    for index, sent in enumerate(sentences):\n",
    "        obfuscated_str += document[sentence_begin:sent.begin]\n",
    "        obfuscated_str += deidentifieds[index].result\n",
    "        sentence_begin = sent.end + 1\n",
    "        \n",
    "    print(obfuscated_str)"
   ]
  },
  {
   "cell_type": "code",
   "execution_count": null,
   "metadata": {},
   "outputs": [],
   "source": []
  }
 ],
 "metadata": {
  "kernelspec": {
   "display_name": "PySpark",
   "language": "python",
   "name": "pysparkkernel"
  },
  "language_info": {
   "codemirror_mode": {
    "name": "python",
    "version": 3
   },
   "file_extension": ".py",
   "mimetype": "text/x-python",
   "name": "pyspark",
   "pygments_lexer": "python3"
  }
 },
 "nbformat": 4,
 "nbformat_minor": 4
}

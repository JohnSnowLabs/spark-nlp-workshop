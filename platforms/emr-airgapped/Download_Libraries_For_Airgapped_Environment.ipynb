{
 "nbformat": 4,
 "nbformat_minor": 0,
 "metadata": {
  "colab": {
   "provenance": [],
   "toc_visible": true
  },
  "kernelspec": {
   "name": "python3",
   "display_name": "Python 3"
  },
  "language_info": {
   "name": "python"
  }
 },
 "cells": [
  {
   "cell_type": "markdown",
   "source": [
    "![JohnSnowLabs](https://nlp.johnsnowlabs.com/assets/images/logo.png)"
   ],
   "metadata": {
    "id": "2KHtMpXQO8lv"
   }
  },
  {
   "cell_type": "markdown",
   "source": [
    "[![Open In Colab](https://colab.research.google.com/assets/colab-badge.svg)](https://colab.research.google.com/github/JohnSnowLabs/spark-nlp-workshop/blob/master/platforms/emr-airgapped/Download_Libraries_For_Airgapped_Environment.ipynb)"
   ],
   "metadata": {
    "id": "q1_1VQQXO79s"
   }
  },
  {
   "cell_type": "markdown",
   "source": [
    "## 📦 Air-Gapped Setup: Spark NLP for Healthcare\n",
    "\n",
    "This notebook demonstrates how to **download and prepare all necessary libraries and dependencies** for running **Spark NLP for Healthcare** in **air-gapped environments** — where direct internet access is restricted or completely unavailable.\n",
    "\n",
    "It covers downloading essential resources such as:\n",
    "- ✅ Spark NLP and Spark NLP for Healthcare **JAR** files  \n",
    "- ✅ Corresponding **Python wheel (.whl)** packages  \n",
    "\n",
    "Once downloaded, these files should be **uploaded to an internal storage** location (e.g., an **S3 bucket within your private VPC**) so they can be securely used within your air-gapped cluster.\n",
    "\n",
    "**Impotant Note**:\n",
    "- This notebook is designed for **Google Colab**. If you are using a different environment, you may need to adjust the code accordingly.\n",
    "- **numpy** and **pandas** libraries should be downloaded according to the Python version used in your air-gapped cluster. You can download the specific versions of these libraries from the [Python Package Index (PyPI)](https://pypi.org/) or use the `pip download` command to get the appropriate versions.\n"
   ],
   "metadata": {
    "id": "jgo2p9qZ1oJk"
   }
  },
  {
   "cell_type": "markdown",
   "source": [
    "# Define Variables"
   ],
   "metadata": {
    "id": "3G1fxE2d1KcV"
   }
  },
  {
   "cell_type": "code",
   "execution_count": null,
   "metadata": {
    "id": "0e_yxOIouluZ"
   },
   "outputs": [],
   "source": [
    "import json, os\n",
    "from google.colab import files\n",
    "\n",
    "if 'spark_jsl.json' not in os.listdir():\n",
    "  license_keys = files.upload()\n",
    "  os.rename(list(license_keys.keys())[0], 'spark_jsl.json')\n",
    "\n",
    "with open('spark_jsl.json') as f:\n",
    "    license_keys = json.load(f)\n",
    "\n",
    "# Defining license key-value pairs as local variables\n",
    "locals().update(license_keys)\n",
    "os.environ.update(license_keys)"
   ]
  },
  {
   "cell_type": "code",
   "source": [
    "license_keys.keys()"
   ],
   "metadata": {
    "colab": {
     "base_uri": "https://localhost:8080/"
    },
    "id": "Qq3PK8lxvVUY",
    "outputId": "ae7ab4e9-4559-42f2-897a-b6a62bcf331d"
   },
   "execution_count": 2,
   "outputs": [
    {
     "output_type": "execute_result",
     "data": {
      "text/plain": [
       "dict_keys(['SPARK_NLP_LICENSE', 'SECRET', 'JSL_VERSION', 'PUBLIC_VERSION', 'SPARK_OCR_LICENSE', 'SPARK_OCR_SECRET', 'OCR_VERSION', 'AWS_ACCESS_KEY_ID', 'AWS_SECRET_ACCESS_KEY'])"
      ]
     },
     "metadata": {},
     "execution_count": 2
    }
   ]
  },
  {
   "cell_type": "markdown",
   "source": [
    "# Download Jars"
   ],
   "metadata": {
    "id": "GEpOVckguor8"
   }
  },
  {
   "cell_type": "code",
   "source": [
    "# Install awscli\n",
    "!pip install -q awscli"
   ],
   "metadata": {
    "id": "ib7Q5Ku3vis4"
   },
   "execution_count": null,
   "outputs": []
  },
  {
   "cell_type": "code",
   "source": [
    "# Download the appropriate Spark NLP assembly JAR depending on the environment.\n",
    "# Only one of these JARs is needed:\n",
    "# - If the machine has a GPU, download the GPU-optimized assembly JAR.\n",
    "# - If the machine does not have a GPU, download the standard CPU assembly JAR.\n",
    "#\n",
    "# Both download commands are shown below for reference, but **you only need to run one of them**\n",
    "# depending on your environment. Do not use both at the same time.\n",
    "\n",
    "# Download Spark NLP assembly jar\n",
    "!aws s3 cp --region us-east-2 s3://auxdata.johnsnowlabs.com/public/jars/spark-nlp-assembly-{PUBLIC_VERSION}.jar ./jars/spark-nlp-assembly-{PUBLIC_VERSION}.jar\n",
    "\n",
    "# Download Spark NLP GPU jar\n",
    "!aws s3 cp --region us-east-2 s3://auxdata.johnsnowlabs.com/public/jars/spark-nlp-gpu-assembly-{PUBLIC_VERSION}.jar ./jars/spark-nlp-gpu-assembly-{PUBLIC_VERSION}.jar\n"
   ],
   "metadata": {
    "colab": {
     "base_uri": "https://localhost:8080/"
    },
    "id": "4xS_GCtpvm5d",
    "outputId": "a1891136-7ecd-4003-e92c-8b347534ba08"
   },
   "execution_count": 4,
   "outputs": [
    {
     "output_type": "stream",
     "name": "stdout",
     "text": [
      "download: s3://auxdata.johnsnowlabs.com/public/jars/spark-nlp-assembly-6.0.3.jar to jars/spark-nlp-assembly-6.0.3.jar\n",
      "download: s3://auxdata.johnsnowlabs.com/public/jars/spark-nlp-gpu-assembly-6.0.3.jar to jars/spark-nlp-gpu-assembly-6.0.3.jar\n"
     ]
    }
   ]
  },
  {
   "cell_type": "code",
   "source": [
    "# Download Spark NLP for Healthcare jar\n",
    "!aws s3 cp --region us-east-2 s3://pypi.johnsnowlabs.com/{SECRET}/spark-nlp-jsl-{JSL_VERSION}.jar ./jars/spark-nlp-jsl-{JSL_VERSION}.jar"
   ],
   "metadata": {
    "id": "Qkjc6faERl8v"
   },
   "execution_count": null,
   "outputs": []
  },
  {
   "cell_type": "markdown",
   "source": [
    "# Download Python packages"
   ],
   "metadata": {
    "id": "C1fDtrat09uy"
   }
  },
  {
   "cell_type": "code",
   "source": [
    "# Download Spark NLP Python package\n",
    "!pip download spark-nlp=={PUBLIC_VERSION} --dest ./python_libs"
   ],
   "metadata": {
    "colab": {
     "base_uri": "https://localhost:8080/"
    },
    "id": "WyQt8w_hwm2b",
    "outputId": "522bec6b-73e7-490b-d2e3-7b23329109c8"
   },
   "execution_count": 6,
   "outputs": [
    {
     "output_type": "stream",
     "name": "stdout",
     "text": [
      "Collecting spark-nlp==6.0.3\n",
      "  Downloading spark_nlp-6.0.3-py2.py3-none-any.whl.metadata (19 kB)\n",
      "Downloading spark_nlp-6.0.3-py2.py3-none-any.whl (713 kB)\n",
      "\u001B[?25l   \u001B[90m━━━━━━━━━━━━━━━━━━━━━━━━━━━━━━━━━━━━━━━━\u001B[0m \u001B[32m0.0/713.0 kB\u001B[0m \u001B[31m?\u001B[0m eta \u001B[36m-:--:--\u001B[0m\r\u001B[2K   \u001B[91m━━━━━━━━━━\u001B[0m\u001B[91m╸\u001B[0m\u001B[90m━━━━━━━━━━━━━━━━━━━━━━━━━━━━━\u001B[0m \u001B[32m194.6/713.0 kB\u001B[0m \u001B[31m5.8 MB/s\u001B[0m eta \u001B[36m0:00:01\u001B[0m\r\u001B[2K   \u001B[91m━━━━━━━━━━━━━━━━━━━━━━━━━━━━━━━━━━━━━━━\u001B[0m\u001B[91m╸\u001B[0m \u001B[32m706.6/713.0 kB\u001B[0m \u001B[31m12.2 MB/s\u001B[0m eta \u001B[36m0:00:01\u001B[0m\r\u001B[2K   \u001B[90m━━━━━━━━━━━━━━━━━━━━━━━━━━━━━━━━━━━━━━━━\u001B[0m \u001B[32m713.0/713.0 kB\u001B[0m \u001B[31m9.4 MB/s\u001B[0m eta \u001B[36m0:00:00\u001B[0m\n",
      "\u001B[?25hSaved ./python_libs/spark_nlp-6.0.3-py2.py3-none-any.whl\n",
      "Successfully downloaded spark-nlp\n"
     ]
    }
   ]
  },
  {
   "cell_type": "code",
   "source": [
    "# Download Spark NLP for Healthcare Python package\n",
    "!pip download spark-nlp-jsl=={JSL_VERSION} --extra-index-url https://pypi.johnsnowlabs.com/{SECRET} --dest ./python_libs"
   ],
   "metadata": {
    "id": "ac-x6huGznhG"
   },
   "execution_count": null,
   "outputs": []
  },
  {
   "cell_type": "code",
   "source": [
    "# Specify which Python version will you use in the EMR cluster, Default is Python3.9 on the EMR clusters.\n",
    "PYTHON_VERSION = \"3.9\" # 3.11"
   ],
   "metadata": {
    "id": "38d977jyP2Ml"
   },
   "execution_count": 8,
   "outputs": []
  },
  {
   "cell_type": "code",
   "source": [
    "# Download numpy\n",
    "!python -m pip download numpy --only-binary=:all: --dest ./python_libs --python-version $PYTHON_VERSION --platform manylinux2014_x86_64 --implementation cp"
   ],
   "metadata": {
    "colab": {
     "base_uri": "https://localhost:8080/"
    },
    "id": "OTqGBgUZznd7",
    "outputId": "338570f1-b6f3-4891-82b2-3df0585f0d5a"
   },
   "execution_count": 9,
   "outputs": [
    {
     "output_type": "stream",
     "name": "stdout",
     "text": [
      "Collecting numpy\n",
      "  Downloading numpy-2.0.2-cp39-cp39-manylinux_2_17_x86_64.manylinux2014_x86_64.whl.metadata (60 kB)\n",
      "\u001B[2K     \u001B[90m━━━━━━━━━━━━━━━━━━━━━━━━━━━━━━━━━━━━━━━━\u001B[0m \u001B[32m60.9/60.9 kB\u001B[0m \u001B[31m2.6 MB/s\u001B[0m eta \u001B[36m0:00:00\u001B[0m\n",
      "\u001B[?25hDownloading numpy-2.0.2-cp39-cp39-manylinux_2_17_x86_64.manylinux2014_x86_64.whl (19.5 MB)\n",
      "\u001B[2K   \u001B[90m━━━━━━━━━━━━━━━━━━━━━━━━━━━━━━━━━━━━━━━━\u001B[0m \u001B[32m19.5/19.5 MB\u001B[0m \u001B[31m18.0 MB/s\u001B[0m eta \u001B[36m0:00:00\u001B[0m\n",
      "\u001B[?25hSaved ./python_libs/numpy-2.0.2-cp39-cp39-manylinux_2_17_x86_64.manylinux2014_x86_64.whl\n",
      "Successfully downloaded numpy\n"
     ]
    }
   ]
  },
  {
   "cell_type": "code",
   "source": [
    "# Download pandas\n",
    "# Note: Installing `pandas` is optional when using Spark NLP.\n",
    "# You can safely skip it unless you specifically need it for other purposes or some util functions\n",
    "# or DataFrame conversions (e.g., using `.toPandas()`).\n",
    "!python -m pip download pandas --only-binary=:all: --dest ./python_libs --python-version $PYTHON_VERSION --platform manylinux2014_x86_64 --implementation cp"
   ],
   "metadata": {
    "colab": {
     "base_uri": "https://localhost:8080/"
    },
    "id": "TcaU6G64znbA",
    "outputId": "b5786a8f-480d-4100-83a6-99246eb1922a"
   },
   "execution_count": 10,
   "outputs": [
    {
     "output_type": "stream",
     "name": "stdout",
     "text": [
      "Collecting pandas\n",
      "  Downloading pandas-2.3.1-cp39-cp39-manylinux_2_17_x86_64.manylinux2014_x86_64.whl.metadata (91 kB)\n",
      "\u001B[?25l     \u001B[90m━━━━━━━━━━━━━━━━━━━━━━━━━━━━━━━━━━━━━━━━\u001B[0m \u001B[32m0.0/91.2 kB\u001B[0m \u001B[31m?\u001B[0m eta \u001B[36m-:--:--\u001B[0m\r\u001B[2K     \u001B[90m━━━━━━━━━━━━━━━━━━━━━━━━━━━━━━━━━━━━━━━━\u001B[0m \u001B[32m91.2/91.2 kB\u001B[0m \u001B[31m3.1 MB/s\u001B[0m eta \u001B[36m0:00:00\u001B[0m\n",
      "\u001B[?25hCollecting numpy>=1.23.2 (from pandas)\n",
      "  File was already downloaded /content/python_libs/numpy-2.0.2-cp39-cp39-manylinux_2_17_x86_64.manylinux2014_x86_64.whl\n",
      "Collecting python-dateutil>=2.8.2 (from pandas)\n",
      "  Downloading python_dateutil-2.9.0.post0-py2.py3-none-any.whl.metadata (8.4 kB)\n",
      "Collecting pytz>=2020.1 (from pandas)\n",
      "  Downloading pytz-2025.2-py2.py3-none-any.whl.metadata (22 kB)\n",
      "Collecting tzdata>=2022.7 (from pandas)\n",
      "  Downloading tzdata-2025.2-py2.py3-none-any.whl.metadata (1.4 kB)\n",
      "Collecting six>=1.5 (from python-dateutil>=2.8.2->pandas)\n",
      "  Downloading six-1.17.0-py2.py3-none-any.whl.metadata (1.7 kB)\n",
      "Downloading pandas-2.3.1-cp39-cp39-manylinux_2_17_x86_64.manylinux2014_x86_64.whl (12.4 MB)\n",
      "\u001B[2K   \u001B[90m━━━━━━━━━━━━━━━━━━━━━━━━━━━━━━━━━━━━━━━━\u001B[0m \u001B[32m12.4/12.4 MB\u001B[0m \u001B[31m68.4 MB/s\u001B[0m eta \u001B[36m0:00:00\u001B[0m\n",
      "\u001B[?25hDownloading python_dateutil-2.9.0.post0-py2.py3-none-any.whl (229 kB)\n",
      "\u001B[2K   \u001B[90m━━━━━━━━━━━━━━━━━━━━━━━━━━━━━━━━━━━━━━━━\u001B[0m \u001B[32m229.9/229.9 kB\u001B[0m \u001B[31m7.8 MB/s\u001B[0m eta \u001B[36m0:00:00\u001B[0m\n",
      "\u001B[?25hDownloading pytz-2025.2-py2.py3-none-any.whl (509 kB)\n",
      "\u001B[2K   \u001B[90m━━━━━━━━━━━━━━━━━━━━━━━━━━━━━━━━━━━━━━━━\u001B[0m \u001B[32m509.2/509.2 kB\u001B[0m \u001B[31m19.9 MB/s\u001B[0m eta \u001B[36m0:00:00\u001B[0m\n",
      "\u001B[?25hDownloading tzdata-2025.2-py2.py3-none-any.whl (347 kB)\n",
      "\u001B[2K   \u001B[90m━━━━━━━━━━━━━━━━━━━━━━━━━━━━━━━━━━━━━━━━\u001B[0m \u001B[32m347.8/347.8 kB\u001B[0m \u001B[31m11.5 MB/s\u001B[0m eta \u001B[36m0:00:00\u001B[0m\n",
      "\u001B[?25hDownloading six-1.17.0-py2.py3-none-any.whl (11 kB)\n",
      "Saved ./python_libs/pandas-2.3.1-cp39-cp39-manylinux_2_17_x86_64.manylinux2014_x86_64.whl\n",
      "Saved ./python_libs/python_dateutil-2.9.0.post0-py2.py3-none-any.whl\n",
      "Saved ./python_libs/pytz-2025.2-py2.py3-none-any.whl\n",
      "Saved ./python_libs/tzdata-2025.2-py2.py3-none-any.whl\n",
      "Saved ./python_libs/six-1.17.0-py2.py3-none-any.whl\n",
      "Successfully downloaded pandas numpy python-dateutil pytz tzdata six\n"
     ]
    }
   ]
  },
  {
   "cell_type": "markdown",
   "source": [
    "Upload the ./jars and ./python_libs folders to your private storage to use them inside the air-gapped cluster."
   ],
   "metadata": {
    "id": "BYvaac1Z2mU4"
   }
  }
 ]
}

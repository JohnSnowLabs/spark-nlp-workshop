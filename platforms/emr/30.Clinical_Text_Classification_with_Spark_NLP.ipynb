{
 "cells": [
  {
   "cell_type": "markdown",
   "metadata": {
    "id": "5ltDwXLQlNs3"
   },
   "source": [
    "![JohnSnowLabs](https://nlp.johnsnowlabs.com/assets/images/logo.png)"
   ]
  },
  {
   "cell_type": "markdown",
   "metadata": {
    "id": "Aua6Y3mBlNs5"
   },
   "source": [
    "[![Open In Colab](https://colab.research.google.com/assets/colab-badge.svg)](https://colab.research.google.com/github/JohnSnowLabs/spark-nlp-workshop/blob/master/tutorials/Certification_Trainings/Healthcare/30.Clinical_Text_Classification_with_Spark_NLP.ipynb)"
   ]
  },
  {
   "cell_type": "markdown",
   "metadata": {
    "id": "T70JAFhuB_hY"
   },
   "source": [
    "# Spark Setup"
   ]
  },
  {
   "cell_type": "code",
   "execution_count": 1,
   "metadata": {
    "execution": {
     "iopub.execute_input": "2023-09-01T05:01:02.403680Z",
     "iopub.status.busy": "2023-09-01T05:01:02.403404Z",
     "iopub.status.idle": "2023-09-01T05:01:48.290156Z",
     "shell.execute_reply": "2023-09-01T05:01:48.289272Z",
     "shell.execute_reply.started": "2023-09-01T05:01:02.403648Z"
    },
    "id": "MRTflinqmhKL",
    "tags": []
   },
   "outputs": [
    {
     "data": {
      "application/vnd.jupyter.widget-view+json": {
       "model_id": "0b70f73beb15400e94673b3e4cb10db3",
       "version_major": 2,
       "version_minor": 0
      },
      "text/plain": [
       "VBox()"
      ]
     },
     "metadata": {},
     "output_type": "display_data"
    },
    {
     "name": "stdout",
     "output_type": "stream",
     "text": [
      "Starting Spark application\n"
     ]
    },
    {
     "data": {
      "text/html": [
       "<table>\n<tbody><tr><th>ID</th><th>YARN Application ID</th><th>Kind</th><th>State</th><th>Spark UI</th><th>Driver log</th><th>Current session?</th></tr><tr><td>8</td><td>application_1693496626641_0009</td><td>pyspark</td><td>idle</td><td><a target=\"_blank\" href=\"http://ip-172-31-20-11.ec2.internal:20888/proxy/application_1693496626641_0009/\" class=\"emr-proxy-link j-4D8933HG3MZ9 application_1693496626641_0009\" emr-resource=\"j-4D8933HG3MZ9\n\" application-id=\"application_1693496626641_0009\">Link</a></td><td><a target=\"_blank\" href=\"http://ip-172-31-29-7.ec2.internal:8042/node/containerlogs/container_1693496626641_0009_01_000001/livy\">Link</a></td><td>✔</td></tr></tbody></table>"
      ],
      "text/plain": [
       "<IPython.core.display.HTML object>"
      ]
     },
     "metadata": {},
     "output_type": "display_data"
    },
    {
     "data": {
      "application/vnd.jupyter.widget-view+json": {
       "model_id": "",
       "version_major": 2,
       "version_minor": 0
      },
      "text/plain": [
       "FloatProgress(value=0.0, bar_style='info', description='Progress:', layout=Layout(height='25px', width='50%'),…"
      ]
     },
     "metadata": {},
     "output_type": "display_data"
    },
    {
     "name": "stdout",
     "output_type": "stream",
     "text": [
      "SparkSession available as 'spark'.\n"
     ]
    },
    {
     "data": {
      "application/vnd.jupyter.widget-view+json": {
       "model_id": "",
       "version_major": 2,
       "version_minor": 0
      },
      "text/plain": [
       "FloatProgress(value=0.0, bar_style='info', description='Progress:', layout=Layout(height='25px', width='50%'),…"
      ]
     },
     "metadata": {},
     "output_type": "display_data"
    },
    {
     "name": "stdout",
     "output_type": "stream",
     "text": [
      "Spark Session already created, some configs may not take.\n",
      "📋 Loading license number 0 from /lib/.johnsnowlabs/johnsnowlabs/licenses/license_number_0_for_Spark-Healthcare.json"
     ]
    }
   ],
   "source": [
    "from johnsnowlabs import nlp, medical\n",
    "spark = nlp.start()"
   ]
  },
  {
   "cell_type": "code",
   "execution_count": 2,
   "metadata": {
    "execution": {
     "iopub.execute_input": "2023-08-30T02:43:32.586742Z",
     "iopub.status.busy": "2023-08-30T02:43:32.586510Z",
     "iopub.status.idle": "2023-08-30T02:43:32.657786Z",
     "shell.execute_reply": "2023-08-30T02:43:32.657028Z",
     "shell.execute_reply.started": "2023-08-30T02:43:32.586711Z"
    },
    "id": "oTL31oMyrj_d"
   },
   "outputs": [
    {
     "data": {
      "application/vnd.jupyter.widget-view+json": {
       "model_id": "4a7b285b62bf4e8f86f5f2c942810fca",
       "version_major": 2,
       "version_minor": 0
      },
      "text/plain": [
       "VBox()"
      ]
     },
     "metadata": {},
     "output_type": "display_data"
    },
    {
     "data": {
      "application/vnd.jupyter.widget-view+json": {
       "model_id": "",
       "version_major": 2,
       "version_minor": 0
      },
      "text/plain": [
       "FloatProgress(value=0.0, bar_style='info', description='Progress:', layout=Layout(height='25px', width='50%'),…"
      ]
     },
     "metadata": {},
     "output_type": "display_data"
    }
   ],
   "source": [
    "# !pip install -q tensorflow==2.11.0\n",
    "# !pip install -q tensorflow-addons"
   ]
  },
  {
   "cell_type": "code",
   "execution_count": 2,
   "metadata": {
    "colab": {
     "base_uri": "https://localhost:8080/",
     "height": 259
    },
    "execution": {
     "iopub.execute_input": "2023-09-01T05:03:57.823933Z",
     "iopub.status.busy": "2023-09-01T05:03:57.823660Z",
     "iopub.status.idle": "2023-09-01T05:03:58.596122Z",
     "shell.execute_reply": "2023-09-01T05:03:58.594897Z",
     "shell.execute_reply.started": "2023-09-01T05:03:57.823897Z"
    },
    "executionInfo": {
     "elapsed": 36246,
     "status": "ok",
     "timestamp": 1689689563663,
     "user": {
      "displayName": "Ahmet Mesut BİROL",
      "userId": "04340760882990254267"
     },
     "user_tz": -180
    },
    "id": "_em57ItxLnJm",
    "outputId": "25bf2db6-e098-4f72-a041-a96910136da0",
    "tags": []
   },
   "outputs": [
    {
     "data": {
      "application/vnd.jupyter.widget-view+json": {
       "model_id": "03fca1efce3440febca5383ca926bf5e",
       "version_major": 2,
       "version_minor": 0
      },
      "text/plain": [
       "VBox()"
      ]
     },
     "metadata": {},
     "output_type": "display_data"
    },
    {
     "data": {
      "application/vnd.jupyter.widget-view+json": {
       "model_id": "",
       "version_major": 2,
       "version_minor": 0
      },
      "text/plain": [
       "FloatProgress(value=0.0, bar_style='info', description='Progress:', layout=Layout(height='25px', width='50%'),…"
      ]
     },
     "metadata": {},
     "output_type": "display_data"
    }
   ],
   "source": [
    "import pandas as pd\n",
    "from sklearn.metrics import confusion_matrix, classification_report, accuracy_score\n",
    "\n",
    "import sparknlp\n",
    "import sparknlp_jsl\n",
    "\n",
    "from sparknlp.base import *\n",
    "from sparknlp.annotator import *\n",
    "from sparknlp_jsl.base import *\n",
    "from sparknlp_jsl.annotator import *\n",
    "\n",
    "from pyspark.sql import SparkSession\n",
    "from pyspark.ml import Pipeline,PipelineModel\n",
    "\n",
    "import warnings\n",
    "warnings.filterwarnings('ignore')\n",
    "\n",
    "# params = {\"spark.driver.memory\":\"24G\",\n",
    "#           \"spark.kryoserializer.buffer.max\":\"2000M\",\n",
    "#           \"spark.driver.maxResultSize\":\"2000M\"}\n",
    "\n",
    "# spark = sparknlp_jsl.start(license_keys['SECRET'],params=params, gpu=True)\n",
    "\n",
    "# print (\"Spark NLP Version :\", sparknlp.version())\n",
    "# print (\"Spark NLP_JSL Version :\", sparknlp_jsl.version())\n",
    "\n",
    "# spark"
   ]
  },
  {
   "cell_type": "markdown",
   "metadata": {
    "id": "seqQtw6ryhDm"
   },
   "source": [
    "# Classifiers\n",
    "\n",
    "The below classifiers will be used in this notebook.ClassifierDL, MultiClassifierDL, and GenericClassifier will be trained using healthcare_100d, embeddingd_clinical, and bert sentence embeddings(sbiobert_base_cased_mli). DocumentLogRegClassifier accepts tokens, so sentence embeddings are not utilized during DocumentLogRegClassifier training.\n",
    "\n",
    "## ClassifierDL\n",
    "\n",
    "ClassifierDL is a generic Multi-class Text Classification annotator. ClassifierDL uses the state-of-the-art Universal Sentence Encoder as an input for text classifications. The ClassifierDL annotator uses a deep learning model (DNNs) built inside TensorFlow and supports up to 100 classes. For more information please [follow the link](https://nlp.johnsnowlabs.com/docs/en/annotators#classifierdl).\n",
    "\n",
    "\n",
    "##  MultiClassifierDL\n",
    "\n",
    "MultiClassifierDL is a Multi-label Text Classification annotator.MultiClassifierDL uses a Bidirectional GRU with a convolutional model built inside TensorFlow and supports up to 100 classes.  For more information please [follow the link](https://nlp.johnsnowlabs.com/docs/en/annotators#multiclassifierdl).\n",
    "\n",
    "\n",
    "## GenericClassifier\n",
    "\n",
    "GenericClassifier is a TensorFlow model for the generic classification of feature vectors in Healthcare  Lİbrary. It takes FEATURE_VECTOR annotations from FeaturesAssembler as input, classifies them, and outputs CATEGORY annotations. Please see [the link](https://nlp.johnsnowlabs.com/docs/en/licensed_annotators#genericclassifier) for more information.\n",
    "\n",
    "Here are some Social Determinants of Health (SDOH) models that trained with GenericClassifier:\n",
    "\n",
    "|index|model|\n",
    "|-----:|:-----|\n",
    "|1|[genericclassifier_sdoh_economics_binary_sbiobert_cased_mli](https://nlp.johnsnowlabs.com/2023/01/14/genericclassifier_sdoh_economics_binary_sbiobert_cased_mli_en.html)|\n",
    "|2|[genericclassifier_sdoh_substance_usage_binary_sbiobert_cased_mli](https://nlp.johnsnowlabs.com/2023/01/14/genericclassifier_sdoh_substance_usage_binary_sbiobert_cased_mli_en.html)|\n",
    "|3|[genericclassifier_sdoh_tobacco_usage_sbiobert_cased_mli](https://nlp.johnsnowlabs.com/2023/01/14/genericclassifier_sdoh_tobacco_usage_sbiobert_cased_mli_en.html)|\n",
    "|4|[genericclassifier_sdoh_alcohol_usage_sbiobert_cased_mli](https://nlp.johnsnowlabs.com/2023/01/14/genericclassifier_sdoh_alcohol_usage_sbiobert_cased_mli_en.html)|\n",
    "|5|[genericclassifier_sdoh_alcohol_usage_binary_sbiobert_cased_mli](https://nlp.johnsnowlabs.com/2023/01/14/genericclassifier_sdoh_alcohol_usage_binary_sbiobert_cased_mli_en.html)|\n",
    "|6|[genericclassifier_sdoh_housing_insecurity_sbiobert_cased_mli](https://nlp.johnsnowlabs.com/2023/04/10/genericclassifier_sdoh_housing_insecurity_sbiobert_cased_mli_en.html)\n",
    "|7|[genericclassifier_sdoh_mental_health_clinical](https://nlp.johnsnowlabs.com/2023/04/10/genericclassifier_sdoh_mental_health_clinical_en.html)\n",
    "|8|[genericclassifier_sdoh_under_treatment_sbiobert_cased_mli](https://nlp.johnsnowlabs.com/2023/04/10/genericclassifier_sdoh_under_treatment_sbiobert_cased_mli_en.html)\n",
    "\n",
    "## GenericLogRegClassifier\n",
    "\n",
    "`GenericLogRegClassifier` is a derivative of GenericClassifier which implements a multinomial *Logistic Regression*. This is a single layer neural network with the logistic function at the output. The input to the model is `FeatureVector` and the output is `Category` annotations with labels and corresponding confidence scores varying between 0 and 1. Training data requires \"text\" and their \"label\" columns only and the trained model will be a `GenericLogRegClassifierModel()`.\n",
    "\n",
    "|index|model|\n",
    "|-----:|:-----|\n",
    "|1|[generic_logreg_classifier_ade](https://nlp.johnsnowlabs.com/2023/05/09/generic_logreg_classifier_ade_en.html)\n",
    "\n",
    "\n",
    "\n",
    "## GenericSVMClassifier\n",
    "\n",
    "`GenericSVMClassifier` is a derivative of GenericClassifier which implements *SVM (Support Vector Machine)* classification. The input to the model is `FeatureVector` and the output is `Category` annotations with labels and corresponding confidence scores. The scores are standardized using the logistic function so that they vary between 0 and 1. Taining data requires \"text\" and their \"label\" columns only and the trained model will be a `GenericSVMClassifierModel()`\n",
    "\n",
    "|index|model|\n",
    "|-----:|:-----|\n",
    "|1|[generic_svm_classifier_ade](https://nlp.johnsnowlabs.com/2023/05/09/generic_svm_classifier_ade_en.html)\n",
    "\n",
    "## DocumentLogRegClassifier\n",
    "\n",
    "DocumentLogRegClassifier is a model to classify documents with a Logarithmic Regression algorithm in Healthcare  Library. Training data requires columns for text and labels. The result is a trained DocumentLogRegClassifierModel. you can get more info [here](https://nlp.johnsnowlabs.com/docs/en/licensed_annotators#documentlogregclassifier).\n",
    "\n",
    "|index|model|\n",
    "|-----:|:-----|\n",
    "|1|[classifier_logreg_ade](https://nlp.johnsnowlabs.com/2023/05/16/classifier_logreg_ade_en.html)|\n"
   ]
  },
  {
   "cell_type": "markdown",
   "metadata": {
    "id": "V9VJxCgQDbci"
   },
   "source": [
    "# ADE Dataset"
   ]
  },
  {
   "cell_type": "markdown",
   "metadata": {
    "id": "26_3aTINil5M"
   },
   "source": [
    "### Data Preprocessing"
   ]
  },
  {
   "cell_type": "code",
   "execution_count": 5,
   "metadata": {
    "execution": {
     "iopub.execute_input": "2023-08-30T02:43:33.523872Z",
     "iopub.status.busy": "2023-08-30T02:43:33.523657Z",
     "iopub.status.idle": "2023-08-30T02:43:33.603860Z",
     "shell.execute_reply": "2023-08-30T02:43:33.603103Z",
     "shell.execute_reply.started": "2023-08-30T02:43:33.523842Z"
    }
   },
   "outputs": [
    {
     "data": {
      "application/vnd.jupyter.widget-view+json": {
       "model_id": "ca1d785b68da45d582aaa9b18a2f6e09",
       "version_major": 2,
       "version_minor": 0
      },
      "text/plain": [
       "VBox()"
      ]
     },
     "metadata": {},
     "output_type": "display_data"
    },
    {
     "data": {
      "application/vnd.jupyter.widget-view+json": {
       "model_id": "",
       "version_major": 2,
       "version_minor": 0
      },
      "text/plain": [
       "FloatProgress(value=0.0, bar_style='info', description='Progress:', layout=Layout(height='25px', width='50%'),…"
      ]
     },
     "metadata": {},
     "output_type": "display_data"
    }
   ],
   "source": [
    "#downloading sample datasets"
   ]
  },
  {
   "cell_type": "code",
   "execution_count": 3,
   "metadata": {
    "execution": {
     "iopub.execute_input": "2023-09-01T05:04:25.649297Z",
     "iopub.status.busy": "2023-09-01T05:04:25.649032Z",
     "iopub.status.idle": "2023-09-01T05:04:25.895617Z",
     "shell.execute_reply": "2023-09-01T05:04:25.894746Z",
     "shell.execute_reply.started": "2023-09-01T05:04:25.649266Z"
    },
    "tags": []
   },
   "outputs": [],
   "source": [
    "%%sh\n",
    "wget -q -O /tmp/DRUG-AE.rel https://raw.githubusercontent.com/JohnSnowLabs/spark-nlp-workshop/master/tutorials/Certification_Trainings/Healthcare/data/ADE_Corpus_V2/DRUG-AE.rel"
   ]
  },
  {
   "cell_type": "code",
   "execution_count": 4,
   "metadata": {
    "execution": {
     "iopub.execute_input": "2023-09-01T05:04:25.897252Z",
     "iopub.status.busy": "2023-09-01T05:04:25.897025Z",
     "iopub.status.idle": "2023-09-01T05:04:25.953689Z",
     "shell.execute_reply": "2023-09-01T05:04:25.952998Z",
     "shell.execute_reply.started": "2023-09-01T05:04:25.897220Z"
    },
    "tags": []
   },
   "outputs": [
    {
     "data": {
      "application/vnd.jupyter.widget-view+json": {
       "model_id": "f7c99066f6a1482fb0178cd094e890c7",
       "version_major": 2,
       "version_minor": 0
      },
      "text/plain": [
       "VBox()"
      ]
     },
     "metadata": {},
     "output_type": "display_data"
    },
    {
     "data": {
      "application/vnd.jupyter.widget-view+json": {
       "model_id": "",
       "version_major": 2,
       "version_minor": 0
      },
      "text/plain": [
       "FloatProgress(value=0.0, bar_style='info', description='Progress:', layout=Layout(height='25px', width='50%'),…"
      ]
     },
     "metadata": {},
     "output_type": "display_data"
    }
   ],
   "source": [
    "# %%sh\n",
    "# hdfs dfs -copyFromLocal /tmp/DRUG-AE.rel /user/hadoop/DRUG-AE.rel"
   ]
  },
  {
   "cell_type": "code",
   "execution_count": 5,
   "metadata": {
    "execution": {
     "iopub.execute_input": "2023-09-01T05:04:25.955226Z",
     "iopub.status.busy": "2023-09-01T05:04:25.955014Z",
     "iopub.status.idle": "2023-09-01T05:04:26.201457Z",
     "shell.execute_reply": "2023-09-01T05:04:26.200539Z",
     "shell.execute_reply.started": "2023-09-01T05:04:25.955197Z"
    },
    "tags": []
   },
   "outputs": [],
   "source": [
    "%%sh\n",
    "wget -q -O /tmp/ADE-NEG.txt https://raw.githubusercontent.com/JohnSnowLabs/spark-nlp-workshop/master/tutorials/Certification_Trainings/Healthcare/data/ADE_Corpus_V2/ADE-NEG.txt"
   ]
  },
  {
   "cell_type": "code",
   "execution_count": 6,
   "metadata": {
    "execution": {
     "iopub.execute_input": "2023-09-01T05:04:26.203159Z",
     "iopub.status.busy": "2023-09-01T05:04:26.202939Z",
     "iopub.status.idle": "2023-09-01T05:04:26.261733Z",
     "shell.execute_reply": "2023-09-01T05:04:26.260793Z",
     "shell.execute_reply.started": "2023-09-01T05:04:26.203127Z"
    },
    "tags": []
   },
   "outputs": [
    {
     "data": {
      "application/vnd.jupyter.widget-view+json": {
       "model_id": "228db1443e9f413b90b40d8bb5bd17a1",
       "version_major": 2,
       "version_minor": 0
      },
      "text/plain": [
       "VBox()"
      ]
     },
     "metadata": {},
     "output_type": "display_data"
    },
    {
     "data": {
      "application/vnd.jupyter.widget-view+json": {
       "model_id": "",
       "version_major": 2,
       "version_minor": 0
      },
      "text/plain": [
       "FloatProgress(value=0.0, bar_style='info', description='Progress:', layout=Layout(height='25px', width='50%'),…"
      ]
     },
     "metadata": {},
     "output_type": "display_data"
    }
   ],
   "source": [
    "# %%sh\n",
    "# hdfs dfs -copyFromLocal /tmp/ADE-NEG.tx /user/hadoop/ADE-NEG.tx"
   ]
  },
  {
   "cell_type": "markdown",
   "metadata": {
    "id": "CcjKu0_XrfLy"
   },
   "source": [
    "**ADE Negative Dataset**"
   ]
  },
  {
   "cell_type": "code",
   "execution_count": 7,
   "metadata": {
    "colab": {
     "base_uri": "https://localhost:8080/",
     "height": 206
    },
    "execution": {
     "iopub.execute_input": "2023-09-01T05:04:26.262958Z",
     "iopub.status.busy": "2023-09-01T05:04:26.262734Z",
     "iopub.status.idle": "2023-09-01T05:04:26.522707Z",
     "shell.execute_reply": "2023-09-01T05:04:26.521968Z",
     "shell.execute_reply.started": "2023-09-01T05:04:26.262928Z"
    },
    "executionInfo": {
     "elapsed": 627,
     "status": "ok",
     "timestamp": 1689689565002,
     "user": {
      "displayName": "Ahmet Mesut BİROL",
      "userId": "04340760882990254267"
     },
     "user_tz": -180
    },
    "id": "Y8bRpYvWilZB",
    "outputId": "bee54917-05a9-437d-a16e-aa511112317f",
    "tags": []
   },
   "outputs": [
    {
     "data": {
      "application/vnd.jupyter.widget-view+json": {
       "model_id": "cc67d377f807492d8923af32315e7e8d",
       "version_major": 2,
       "version_minor": 0
      },
      "text/plain": [
       "VBox()"
      ]
     },
     "metadata": {},
     "output_type": "display_data"
    },
    {
     "data": {
      "application/vnd.jupyter.widget-view+json": {
       "model_id": "",
       "version_major": 2,
       "version_minor": 0
      },
      "text/plain": [
       "FloatProgress(value=0.0, bar_style='info', description='Progress:', layout=Layout(height='25px', width='50%'),…"
      ]
     },
     "metadata": {},
     "output_type": "display_data"
    }
   ],
   "source": [
    "df_neg= pd.read_csv(\"/tmp/ADE-NEG.txt\", header=None, delimiter=\"\\t\", names=[\"col1\"])"
   ]
  },
  {
   "cell_type": "code",
   "execution_count": 8,
   "metadata": {
    "execution": {
     "iopub.execute_input": "2023-09-01T05:04:26.523882Z",
     "iopub.status.busy": "2023-09-01T05:04:26.523659Z",
     "iopub.status.idle": "2023-09-01T05:04:40.214303Z",
     "shell.execute_reply": "2023-09-01T05:04:40.213618Z",
     "shell.execute_reply.started": "2023-09-01T05:04:26.523852Z"
    },
    "tags": []
   },
   "outputs": [
    {
     "data": {
      "application/vnd.jupyter.widget-view+json": {
       "model_id": "",
       "version_major": 2,
       "version_minor": 0
      },
      "text/plain": [
       "FloatProgress(value=0.0, bar_style='info', description='Progress:', layout=Layout(height='25px', width='50%'),…"
      ]
     },
     "metadata": {},
     "output_type": "display_data"
    },
    {
     "data": {
      "application/vnd.jupyter.widget-view+json": {
       "model_id": "bab010ac8d90451887f717d1761dcd06",
       "version_major": 2,
       "version_minor": 0
      },
      "text/plain": [
       "VBox(children=(HBox(children=(HTML(value='Type:'), Button(description='Table', layout=Layout(width='70px'), st…"
      ]
     },
     "metadata": {},
     "output_type": "display_data"
    },
    {
     "data": {
      "application/vnd.jupyter.widget-view+json": {
       "model_id": "cf8e3a9d23f74e25b2136dfb2dc58c52",
       "version_major": 2,
       "version_minor": 0
      },
      "text/plain": [
       "Output()"
      ]
     },
     "metadata": {},
     "output_type": "display_data"
    }
   ],
   "source": [
    "%%display\n",
    "spark.createDataFrame(df_neg.head())"
   ]
  },
  {
   "cell_type": "code",
   "execution_count": 9,
   "metadata": {
    "colab": {
     "base_uri": "https://localhost:8080/",
     "height": 206
    },
    "execution": {
     "iopub.execute_input": "2023-09-01T05:04:40.215546Z",
     "iopub.status.busy": "2023-09-01T05:04:40.215332Z",
     "iopub.status.idle": "2023-09-01T05:04:40.707016Z",
     "shell.execute_reply": "2023-09-01T05:04:40.706262Z",
     "shell.execute_reply.started": "2023-09-01T05:04:40.215516Z"
    },
    "executionInfo": {
     "elapsed": 48,
     "status": "ok",
     "timestamp": 1689689565003,
     "user": {
      "displayName": "Ahmet Mesut BİROL",
      "userId": "04340760882990254267"
     },
     "user_tz": -180
    },
    "id": "wrPm_XSyv-R2",
    "outputId": "8b9c535e-e68d-404b-c158-44acc230d691",
    "tags": []
   },
   "outputs": [
    {
     "data": {
      "application/vnd.jupyter.widget-view+json": {
       "model_id": "a26a23011eb84d4c9da0a7d290f5af5f",
       "version_major": 2,
       "version_minor": 0
      },
      "text/plain": [
       "VBox()"
      ]
     },
     "metadata": {},
     "output_type": "display_data"
    },
    {
     "data": {
      "application/vnd.jupyter.widget-view+json": {
       "model_id": "",
       "version_major": 2,
       "version_minor": 0
      },
      "text/plain": [
       "FloatProgress(value=0.0, bar_style='info', description='Progress:', layout=Layout(height='25px', width='50%'),…"
      ]
     },
     "metadata": {},
     "output_type": "display_data"
    }
   ],
   "source": [
    "df_neg['text'] =  df_neg.col1.str.split('NEG').str[1]\n",
    "df_neg[\"category\"] = \"neg\"\n",
    "df_neg= df_neg[[\"text\", \"category\"]]"
   ]
  },
  {
   "cell_type": "code",
   "execution_count": 10,
   "metadata": {
    "execution": {
     "iopub.execute_input": "2023-09-01T05:04:40.709294Z",
     "iopub.status.busy": "2023-09-01T05:04:40.709075Z",
     "iopub.status.idle": "2023-09-01T05:04:41.630834Z",
     "shell.execute_reply": "2023-09-01T05:04:41.630162Z",
     "shell.execute_reply.started": "2023-09-01T05:04:40.709265Z"
    },
    "tags": []
   },
   "outputs": [
    {
     "data": {
      "application/vnd.jupyter.widget-view+json": {
       "model_id": "",
       "version_major": 2,
       "version_minor": 0
      },
      "text/plain": [
       "FloatProgress(value=0.0, bar_style='info', description='Progress:', layout=Layout(height='25px', width='50%'),…"
      ]
     },
     "metadata": {},
     "output_type": "display_data"
    },
    {
     "data": {
      "application/vnd.jupyter.widget-view+json": {
       "model_id": "cbdaf800ddf143a5ab00d0a13c4310ee",
       "version_major": 2,
       "version_minor": 0
      },
      "text/plain": [
       "VBox(children=(HBox(children=(HTML(value='Type:'), Button(description='Table', layout=Layout(width='70px'), st…"
      ]
     },
     "metadata": {},
     "output_type": "display_data"
    },
    {
     "data": {
      "application/vnd.jupyter.widget-view+json": {
       "model_id": "53e79e047d664880af9d2621776b566e",
       "version_major": 2,
       "version_minor": 0
      },
      "text/plain": [
       "Output()"
      ]
     },
     "metadata": {},
     "output_type": "display_data"
    }
   ],
   "source": [
    "%%display\n",
    "spark.createDataFrame(df_neg.head())"
   ]
  },
  {
   "cell_type": "markdown",
   "metadata": {
    "id": "gzu9ELiirkMf"
   },
   "source": [
    "**ADE Positive Dataset**"
   ]
  },
  {
   "cell_type": "code",
   "execution_count": 11,
   "metadata": {
    "colab": {
     "base_uri": "https://localhost:8080/",
     "height": 206
    },
    "execution": {
     "iopub.execute_input": "2023-09-01T05:04:41.632478Z",
     "iopub.status.busy": "2023-09-01T05:04:41.632242Z",
     "iopub.status.idle": "2023-09-01T05:04:41.892525Z",
     "shell.execute_reply": "2023-09-01T05:04:41.891790Z",
     "shell.execute_reply.started": "2023-09-01T05:04:41.632446Z"
    },
    "executionInfo": {
     "elapsed": 45,
     "status": "ok",
     "timestamp": 1689689565003,
     "user": {
      "displayName": "Ahmet Mesut BİROL",
      "userId": "04340760882990254267"
     },
     "user_tz": -180
    },
    "id": "F4Y20JbRqcLP",
    "outputId": "85aff156-23e9-4872-ee42-fc818876f8ff",
    "tags": []
   },
   "outputs": [
    {
     "data": {
      "application/vnd.jupyter.widget-view+json": {
       "model_id": "be60d03aa02946f69ef8c4dc854f775b",
       "version_major": 2,
       "version_minor": 0
      },
      "text/plain": [
       "VBox()"
      ]
     },
     "metadata": {},
     "output_type": "display_data"
    },
    {
     "data": {
      "application/vnd.jupyter.widget-view+json": {
       "model_id": "",
       "version_major": 2,
       "version_minor": 0
      },
      "text/plain": [
       "FloatProgress(value=0.0, bar_style='info', description='Progress:', layout=Layout(height='25px', width='50%'),…"
      ]
     },
     "metadata": {},
     "output_type": "display_data"
    }
   ],
   "source": [
    "df_pos= pd.read_csv(\"/tmp/DRUG-AE.rel\", header=None, delimiter=\"|\")"
   ]
  },
  {
   "cell_type": "code",
   "execution_count": 12,
   "metadata": {
    "execution": {
     "iopub.execute_input": "2023-09-01T05:04:41.893755Z",
     "iopub.status.busy": "2023-09-01T05:04:41.893527Z",
     "iopub.status.idle": "2023-09-01T05:04:42.844254Z",
     "shell.execute_reply": "2023-09-01T05:04:42.843534Z",
     "shell.execute_reply.started": "2023-09-01T05:04:41.893724Z"
    },
    "tags": []
   },
   "outputs": [
    {
     "data": {
      "application/vnd.jupyter.widget-view+json": {
       "model_id": "",
       "version_major": 2,
       "version_minor": 0
      },
      "text/plain": [
       "FloatProgress(value=0.0, bar_style='info', description='Progress:', layout=Layout(height='25px', width='50%'),…"
      ]
     },
     "metadata": {},
     "output_type": "display_data"
    },
    {
     "data": {
      "application/vnd.jupyter.widget-view+json": {
       "model_id": "06bc2aa566914b9a8077fc607abbf24c",
       "version_major": 2,
       "version_minor": 0
      },
      "text/plain": [
       "VBox(children=(HBox(children=(HTML(value='Type:'), Button(description='Table', layout=Layout(width='70px'), st…"
      ]
     },
     "metadata": {},
     "output_type": "display_data"
    },
    {
     "data": {
      "application/vnd.jupyter.widget-view+json": {
       "model_id": "6b933a207c494ab9baa27073005a11f8",
       "version_major": 2,
       "version_minor": 0
      },
      "text/plain": [
       "Output()"
      ]
     },
     "metadata": {},
     "output_type": "display_data"
    }
   ],
   "source": [
    "%%display\n",
    "spark.createDataFrame(df_pos.head())"
   ]
  },
  {
   "cell_type": "code",
   "execution_count": 13,
   "metadata": {
    "colab": {
     "base_uri": "https://localhost:8080/",
     "height": 206
    },
    "execution": {
     "iopub.execute_input": "2023-09-01T05:04:42.845543Z",
     "iopub.status.busy": "2023-09-01T05:04:42.845292Z",
     "iopub.status.idle": "2023-09-01T05:04:42.915083Z",
     "shell.execute_reply": "2023-09-01T05:04:42.914197Z",
     "shell.execute_reply.started": "2023-09-01T05:04:42.845511Z"
    },
    "executionInfo": {
     "elapsed": 45,
     "status": "ok",
     "timestamp": 1689689565004,
     "user": {
      "displayName": "Ahmet Mesut BİROL",
      "userId": "04340760882990254267"
     },
     "user_tz": -180
    },
    "id": "ICMIXpnHrc5u",
    "outputId": "80acb3a8-2fdc-49ec-a294-0d42010ad01a",
    "tags": []
   },
   "outputs": [
    {
     "data": {
      "application/vnd.jupyter.widget-view+json": {
       "model_id": "c387bc9bca8c43ebb22c9333c08c9dde",
       "version_major": 2,
       "version_minor": 0
      },
      "text/plain": [
       "VBox()"
      ]
     },
     "metadata": {},
     "output_type": "display_data"
    },
    {
     "data": {
      "application/vnd.jupyter.widget-view+json": {
       "model_id": "",
       "version_major": 2,
       "version_minor": 0
      },
      "text/plain": [
       "FloatProgress(value=0.0, bar_style='info', description='Progress:', layout=Layout(height='25px', width='50%'),…"
      ]
     },
     "metadata": {},
     "output_type": "display_data"
    }
   ],
   "source": [
    "df_pos[\"category\"]= \"pos\"\n",
    "df_pos.rename(columns={1: \"text\"}, inplace=True)\n",
    "df_pos= df_pos[[\"text\", \"category\"]]"
   ]
  },
  {
   "cell_type": "code",
   "execution_count": 14,
   "metadata": {
    "execution": {
     "iopub.execute_input": "2023-09-01T05:04:42.916185Z",
     "iopub.status.busy": "2023-09-01T05:04:42.915972Z",
     "iopub.status.idle": "2023-09-01T05:04:43.723938Z",
     "shell.execute_reply": "2023-09-01T05:04:43.723205Z",
     "shell.execute_reply.started": "2023-09-01T05:04:42.916155Z"
    },
    "tags": []
   },
   "outputs": [
    {
     "data": {
      "application/vnd.jupyter.widget-view+json": {
       "model_id": "",
       "version_major": 2,
       "version_minor": 0
      },
      "text/plain": [
       "FloatProgress(value=0.0, bar_style='info', description='Progress:', layout=Layout(height='25px', width='50%'),…"
      ]
     },
     "metadata": {},
     "output_type": "display_data"
    },
    {
     "data": {
      "application/vnd.jupyter.widget-view+json": {
       "model_id": "ea6c0928c7864d479d1b84145c79a9f2",
       "version_major": 2,
       "version_minor": 0
      },
      "text/plain": [
       "VBox(children=(HBox(children=(HTML(value='Type:'), Button(description='Table', layout=Layout(width='70px'), st…"
      ]
     },
     "metadata": {},
     "output_type": "display_data"
    },
    {
     "data": {
      "application/vnd.jupyter.widget-view+json": {
       "model_id": "683468c4343d42358cbd6768a5e4f688",
       "version_major": 2,
       "version_minor": 0
      },
      "text/plain": [
       "Output()"
      ]
     },
     "metadata": {},
     "output_type": "display_data"
    }
   ],
   "source": [
    "%%display\n",
    "spark.createDataFrame(df_pos.head())"
   ]
  },
  {
   "cell_type": "markdown",
   "metadata": {
    "id": "V2iOoomSwTeH"
   },
   "source": [
    "**Merging Positive and Negative dataset**"
   ]
  },
  {
   "cell_type": "code",
   "execution_count": 15,
   "metadata": {
    "colab": {
     "base_uri": "https://localhost:8080/",
     "height": 206
    },
    "execution": {
     "iopub.execute_input": "2023-09-01T05:04:43.725146Z",
     "iopub.status.busy": "2023-09-01T05:04:43.724886Z",
     "iopub.status.idle": "2023-09-01T05:04:43.780881Z",
     "shell.execute_reply": "2023-09-01T05:04:43.780165Z",
     "shell.execute_reply.started": "2023-09-01T05:04:43.725113Z"
    },
    "executionInfo": {
     "elapsed": 44,
     "status": "ok",
     "timestamp": 1689689565005,
     "user": {
      "displayName": "Ahmet Mesut BİROL",
      "userId": "04340760882990254267"
     },
     "user_tz": -180
    },
    "id": "3ju23pYJrcxT",
    "outputId": "09d11cca-7c3a-4313-c759-971a67581869",
    "tags": []
   },
   "outputs": [
    {
     "data": {
      "application/vnd.jupyter.widget-view+json": {
       "model_id": "dc88d079b8b44e1aa146fee0093b12b4",
       "version_major": 2,
       "version_minor": 0
      },
      "text/plain": [
       "VBox()"
      ]
     },
     "metadata": {},
     "output_type": "display_data"
    },
    {
     "data": {
      "application/vnd.jupyter.widget-view+json": {
       "model_id": "",
       "version_major": 2,
       "version_minor": 0
      },
      "text/plain": [
       "FloatProgress(value=0.0, bar_style='info', description='Progress:', layout=Layout(height='25px', width='50%'),…"
      ]
     },
     "metadata": {},
     "output_type": "display_data"
    }
   ],
   "source": [
    "ade_df= pd.concat([df_neg, df_pos])\n",
    "# ade_df.head()"
   ]
  },
  {
   "cell_type": "code",
   "execution_count": 16,
   "metadata": {
    "execution": {
     "iopub.execute_input": "2023-09-01T05:04:43.782044Z",
     "iopub.status.busy": "2023-09-01T05:04:43.781837Z",
     "iopub.status.idle": "2023-09-01T05:04:44.706963Z",
     "shell.execute_reply": "2023-09-01T05:04:44.706293Z",
     "shell.execute_reply.started": "2023-09-01T05:04:43.782015Z"
    },
    "tags": []
   },
   "outputs": [
    {
     "data": {
      "application/vnd.jupyter.widget-view+json": {
       "model_id": "",
       "version_major": 2,
       "version_minor": 0
      },
      "text/plain": [
       "FloatProgress(value=0.0, bar_style='info', description='Progress:', layout=Layout(height='25px', width='50%'),…"
      ]
     },
     "metadata": {},
     "output_type": "display_data"
    },
    {
     "data": {
      "application/vnd.jupyter.widget-view+json": {
       "model_id": "2a6a8d8d828643d882d299ac9aab1f71",
       "version_major": 2,
       "version_minor": 0
      },
      "text/plain": [
       "VBox(children=(HBox(children=(HTML(value='Type:'), Button(description='Table', layout=Layout(width='70px'), st…"
      ]
     },
     "metadata": {},
     "output_type": "display_data"
    },
    {
     "data": {
      "application/vnd.jupyter.widget-view+json": {
       "model_id": "2026d7077ea544a0b65902ab44002969",
       "version_major": 2,
       "version_minor": 0
      },
      "text/plain": [
       "Output()"
      ]
     },
     "metadata": {},
     "output_type": "display_data"
    }
   ],
   "source": [
    "%%display\n",
    "spark.createDataFrame(ade_df.head())"
   ]
  },
  {
   "cell_type": "code",
   "execution_count": 17,
   "metadata": {
    "colab": {
     "base_uri": "https://localhost:8080/"
    },
    "execution": {
     "iopub.execute_input": "2023-09-01T05:04:44.708130Z",
     "iopub.status.busy": "2023-09-01T05:04:44.707916Z",
     "iopub.status.idle": "2023-09-01T05:04:44.771083Z",
     "shell.execute_reply": "2023-09-01T05:04:44.770374Z",
     "shell.execute_reply.started": "2023-09-01T05:04:44.708100Z"
    },
    "executionInfo": {
     "elapsed": 42,
     "status": "ok",
     "timestamp": 1689689565005,
     "user": {
      "displayName": "Ahmet Mesut BİROL",
      "userId": "04340760882990254267"
     },
     "user_tz": -180
    },
    "id": "Lg_RjRi1lFUa",
    "outputId": "a34197d1-1996-43bd-e1ff-5937c1278184",
    "tags": []
   },
   "outputs": [
    {
     "data": {
      "application/vnd.jupyter.widget-view+json": {
       "model_id": "df21a400678a46d898672bbcdbeca087",
       "version_major": 2,
       "version_minor": 0
      },
      "text/plain": [
       "VBox()"
      ]
     },
     "metadata": {},
     "output_type": "display_data"
    },
    {
     "data": {
      "application/vnd.jupyter.widget-view+json": {
       "model_id": "",
       "version_major": 2,
       "version_minor": 0
      },
      "text/plain": [
       "FloatProgress(value=0.0, bar_style='info', description='Progress:', layout=Layout(height='25px', width='50%'),…"
      ]
     },
     "metadata": {},
     "output_type": "display_data"
    },
    {
     "name": "stdout",
     "output_type": "stream",
     "text": [
      "neg    16695\n",
      "pos     6821\n",
      "Name: category, dtype: int64"
     ]
    }
   ],
   "source": [
    "ade_df[\"category\"].value_counts()"
   ]
  },
  {
   "cell_type": "code",
   "execution_count": 18,
   "metadata": {
    "colab": {
     "base_uri": "https://localhost:8080/"
    },
    "execution": {
     "iopub.execute_input": "2023-09-01T05:04:44.772487Z",
     "iopub.status.busy": "2023-09-01T05:04:44.772215Z",
     "iopub.status.idle": "2023-09-01T05:04:45.157372Z",
     "shell.execute_reply": "2023-09-01T05:04:45.156456Z",
     "shell.execute_reply.started": "2023-09-01T05:04:44.772443Z"
    },
    "executionInfo": {
     "elapsed": 26,
     "status": "ok",
     "timestamp": 1689689565006,
     "user": {
      "displayName": "Ahmet Mesut BİROL",
      "userId": "04340760882990254267"
     },
     "user_tz": -180
    },
    "id": "wMWdhHvjzGRp",
    "outputId": "c7c6442c-b1a1-47ff-a8f5-677b6e92daa5",
    "tags": []
   },
   "outputs": [
    {
     "data": {
      "application/vnd.jupyter.widget-view+json": {
       "model_id": "859f8c08e1f941cb9e2c08a1ba754edf",
       "version_major": 2,
       "version_minor": 0
      },
      "text/plain": [
       "VBox()"
      ]
     },
     "metadata": {},
     "output_type": "display_data"
    },
    {
     "data": {
      "application/vnd.jupyter.widget-view+json": {
       "model_id": "",
       "version_major": 2,
       "version_minor": 0
      },
      "text/plain": [
       "FloatProgress(value=0.0, bar_style='info', description='Progress:', layout=Layout(height='25px', width='50%'),…"
      ]
     },
     "metadata": {},
     "output_type": "display_data"
    },
    {
     "name": "stdout",
     "output_type": "stream",
     "text": [
      "<class 'pandas.core.frame.DataFrame'>\n",
      "Int64Index: 23516 entries, 0 to 6820\n",
      "Data columns (total 2 columns):\n",
      " #   Column    Non-Null Count  Dtype \n",
      "---  ------    --------------  ----- \n",
      " 0   text      23516 non-null  object\n",
      " 1   category  23516 non-null  object\n",
      "dtypes: object(2)\n",
      "memory usage: 551.2+ KB"
     ]
    }
   ],
   "source": [
    "ade_df.info()"
   ]
  },
  {
   "cell_type": "markdown",
   "metadata": {
    "id": "Gd0njm6qac8Q"
   },
   "source": [
    "We take 30% of the data to make a faster run. You can use all data for better scores."
   ]
  },
  {
   "cell_type": "code",
   "execution_count": 19,
   "metadata": {
    "colab": {
     "base_uri": "https://localhost:8080/"
    },
    "execution": {
     "iopub.execute_input": "2023-09-01T05:04:45.158843Z",
     "iopub.status.busy": "2023-09-01T05:04:45.158552Z",
     "iopub.status.idle": "2023-09-01T05:04:48.552902Z",
     "shell.execute_reply": "2023-09-01T05:04:48.552190Z",
     "shell.execute_reply.started": "2023-09-01T05:04:45.158805Z"
    },
    "executionInfo": {
     "elapsed": 6525,
     "status": "ok",
     "timestamp": 1689689571511,
     "user": {
      "displayName": "Ahmet Mesut BİROL",
      "userId": "04340760882990254267"
     },
     "user_tz": -180
    },
    "id": "54RWnCr0yWL5",
    "outputId": "0322f782-2acb-45a2-eece-2fd0079aa92a",
    "tags": []
   },
   "outputs": [
    {
     "data": {
      "application/vnd.jupyter.widget-view+json": {
       "model_id": "653913ec95a84fcbb4c11ef6e4cb31cc",
       "version_major": 2,
       "version_minor": 0
      },
      "text/plain": [
       "VBox()"
      ]
     },
     "metadata": {},
     "output_type": "display_data"
    },
    {
     "data": {
      "application/vnd.jupyter.widget-view+json": {
       "model_id": "",
       "version_major": 2,
       "version_minor": 0
      },
      "text/plain": [
       "FloatProgress(value=0.0, bar_style='info', description='Progress:', layout=Layout(height='25px', width='50%'),…"
      ]
     },
     "metadata": {},
     "output_type": "display_data"
    },
    {
     "name": "stdout",
     "output_type": "stream",
     "text": [
      "Training Dataset Count: 5531\n",
      "Test Dataset Count: 1427"
     ]
    }
   ],
   "source": [
    "spark_df = spark.createDataFrame(ade_df).sample(0.3, 3) # limit the data\n",
    "\n",
    "trainingData, testData = spark_df.randomSplit([0.8, 0.2], seed = 100)\n",
    "\n",
    "print(\"Training Dataset Count: \" + str(trainingData.count()))\n",
    "print(\"Test Dataset Count: \" + str(testData.count()))"
   ]
  },
  {
   "cell_type": "code",
   "execution_count": 20,
   "metadata": {
    "execution": {
     "iopub.execute_input": "2023-09-01T05:04:48.554237Z",
     "iopub.status.busy": "2023-09-01T05:04:48.554003Z",
     "iopub.status.idle": "2023-09-01T05:04:48.815362Z",
     "shell.execute_reply": "2023-09-01T05:04:48.814633Z",
     "shell.execute_reply.started": "2023-09-01T05:04:48.554207Z"
    },
    "tags": []
   },
   "outputs": [
    {
     "data": {
      "application/vnd.jupyter.widget-view+json": {
       "model_id": "4e699583889d4442a4a1770d8546be32",
       "version_major": 2,
       "version_minor": 0
      },
      "text/plain": [
       "VBox()"
      ]
     },
     "metadata": {},
     "output_type": "display_data"
    },
    {
     "data": {
      "application/vnd.jupyter.widget-view+json": {
       "model_id": "",
       "version_major": 2,
       "version_minor": 0
      },
      "text/plain": [
       "FloatProgress(value=0.0, bar_style='info', description='Progress:', layout=Layout(height='25px', width='50%'),…"
      ]
     },
     "metadata": {},
     "output_type": "display_data"
    },
    {
     "name": "stdout",
     "output_type": "stream",
     "text": [
      "+--------------------+--------+\n",
      "|                text|category|\n",
      "+--------------------+--------+\n",
      "| \"Syndrome malin\"...|     neg|\n",
      "| 'Bail-out' bival...|     neg|\n",
      "| (4) The acute re...|     neg|\n",
      "| 2 months later s...|     neg|\n",
      "| 2-Chlordeoxyaden...|     neg|\n",
      "| 2. Prior to the ...|     neg|\n",
      "| 4-en-VPA (2-prop...|     neg|\n",
      "| 4. More than hal...|     neg|\n",
      "| A 13-year-old bo...|     neg|\n",
      "| A 16-year-old gi...|     neg|\n",
      "| A 16-year-old gi...|     neg|\n",
      "| A 21-year-old wo...|     neg|\n",
      "| A 27-year-old ma...|     neg|\n",
      "| A 28 year-old ma...|     neg|\n",
      "| A 28-y-old male ...|     neg|\n",
      "| A 28-year-old fe...|     neg|\n",
      "| A 3-year-old boy...|     neg|\n",
      "| A 31-year-old Bl...|     neg|\n",
      "| A 31-year-old, w...|     neg|\n",
      "| A 32-year-old ma...|     neg|\n",
      "+--------------------+--------+\n",
      "only showing top 20 rows"
     ]
    }
   ],
   "source": [
    "trainingData.show()"
   ]
  },
  {
   "cell_type": "code",
   "execution_count": 21,
   "metadata": {
    "colab": {
     "base_uri": "https://localhost:8080/"
    },
    "execution": {
     "iopub.execute_input": "2023-09-01T05:04:48.816610Z",
     "iopub.status.busy": "2023-09-01T05:04:48.816397Z",
     "iopub.status.idle": "2023-09-01T05:04:49.741933Z",
     "shell.execute_reply": "2023-09-01T05:04:49.741146Z",
     "shell.execute_reply.started": "2023-09-01T05:04:48.816580Z"
    },
    "executionInfo": {
     "elapsed": 867,
     "status": "ok",
     "timestamp": 1689689572362,
     "user": {
      "displayName": "Ahmet Mesut BİROL",
      "userId": "04340760882990254267"
     },
     "user_tz": -180
    },
    "id": "c3nAmtMmcu_q",
    "outputId": "ab90bc8e-0b01-4479-92ca-05b0a3c408c4",
    "tags": []
   },
   "outputs": [
    {
     "data": {
      "application/vnd.jupyter.widget-view+json": {
       "model_id": "43a369554b0c43f19db4c37b995f4913",
       "version_major": 2,
       "version_minor": 0
      },
      "text/plain": [
       "VBox()"
      ]
     },
     "metadata": {},
     "output_type": "display_data"
    },
    {
     "data": {
      "application/vnd.jupyter.widget-view+json": {
       "model_id": "",
       "version_major": 2,
       "version_minor": 0
      },
      "text/plain": [
       "FloatProgress(value=0.0, bar_style='info', description='Progress:', layout=Layout(height='25px', width='50%'),…"
      ]
     },
     "metadata": {},
     "output_type": "display_data"
    },
    {
     "name": "stdout",
     "output_type": "stream",
     "text": [
      "+--------+-----+\n",
      "|category|count|\n",
      "+--------+-----+\n",
      "|     pos| 2026|\n",
      "|     neg| 4932|\n",
      "+--------+-----+"
     ]
    }
   ],
   "source": [
    "spark_df.groupBy(\"category\").count().show()"
   ]
  },
  {
   "cell_type": "code",
   "execution_count": 22,
   "metadata": {
    "colab": {
     "base_uri": "https://localhost:8080/"
    },
    "execution": {
     "iopub.execute_input": "2023-09-01T05:04:49.743166Z",
     "iopub.status.busy": "2023-09-01T05:04:49.742949Z",
     "iopub.status.idle": "2023-09-01T05:04:49.797499Z",
     "shell.execute_reply": "2023-09-01T05:04:49.796722Z",
     "shell.execute_reply.started": "2023-09-01T05:04:49.743137Z"
    },
    "executionInfo": {
     "elapsed": 12,
     "status": "ok",
     "timestamp": 1689689572363,
     "user": {
      "displayName": "Ahmet Mesut BİROL",
      "userId": "04340760882990254267"
     },
     "user_tz": -180
    },
    "id": "UXGiAxzX_RJd",
    "outputId": "a8641122-01eb-4f8d-e0a6-5c6e5ea85914",
    "tags": []
   },
   "outputs": [
    {
     "data": {
      "application/vnd.jupyter.widget-view+json": {
       "model_id": "a8249d9fb8124d2b968acba3c0bd6343",
       "version_major": 2,
       "version_minor": 0
      },
      "text/plain": [
       "VBox()"
      ]
     },
     "metadata": {},
     "output_type": "display_data"
    },
    {
     "data": {
      "application/vnd.jupyter.widget-view+json": {
       "model_id": "",
       "version_major": 2,
       "version_minor": 0
      },
      "text/plain": [
       "FloatProgress(value=0.0, bar_style='info', description='Progress:', layout=Layout(height='25px', width='50%'),…"
      ]
     },
     "metadata": {},
     "output_type": "display_data"
    },
    {
     "name": "stdout",
     "output_type": "stream",
     "text": [
      "root\n",
      " |-- text: string (nullable = true)\n",
      " |-- category: string (nullable = true)"
     ]
    }
   ],
   "source": [
    "spark_df.printSchema()"
   ]
  },
  {
   "cell_type": "code",
   "execution_count": 23,
   "metadata": {
    "colab": {
     "base_uri": "https://localhost:8080/"
    },
    "execution": {
     "iopub.execute_input": "2023-09-01T05:04:49.798607Z",
     "iopub.status.busy": "2023-09-01T05:04:49.798398Z",
     "iopub.status.idle": "2023-09-01T05:04:50.056149Z",
     "shell.execute_reply": "2023-09-01T05:04:50.055423Z",
     "shell.execute_reply.started": "2023-09-01T05:04:49.798579Z"
    },
    "executionInfo": {
     "elapsed": 464,
     "status": "ok",
     "timestamp": 1689689572820,
     "user": {
      "displayName": "Ahmet Mesut BİROL",
      "userId": "04340760882990254267"
     },
     "user_tz": -180
    },
    "id": "fnTr4Bs_seoA",
    "outputId": "8ff07e5b-e301-4ed2-d83f-9b38d8cc73b0",
    "tags": []
   },
   "outputs": [
    {
     "data": {
      "application/vnd.jupyter.widget-view+json": {
       "model_id": "9ea8ad210d2345918eaba5d5cdc070f0",
       "version_major": 2,
       "version_minor": 0
      },
      "text/plain": [
       "VBox()"
      ]
     },
     "metadata": {},
     "output_type": "display_data"
    },
    {
     "data": {
      "application/vnd.jupyter.widget-view+json": {
       "model_id": "",
       "version_major": 2,
       "version_minor": 0
      },
      "text/plain": [
       "FloatProgress(value=0.0, bar_style='info', description='Progress:', layout=Layout(height='25px', width='50%'),…"
      ]
     },
     "metadata": {},
     "output_type": "display_data"
    },
    {
     "name": "stdout",
     "output_type": "stream",
     "text": [
      "[Row(text=' Clioquinol intoxication occurring in the treatment of acrodermatitis enteropathica with reference to SMON outside of Japan.', category='neg'), Row(text=' A 42-year-old woman had uneventful bilateral laser-assisted subepithelial keratectomy (LASEK) to correct myopia.', category='neg'), Row(text=' A 16-year-old girl with erosive, polyarticular JRA showed no detectable change in her articular disease following nine exchanges.', category='neg')]"
     ]
    }
   ],
   "source": [
    "spark_df.head(3)"
   ]
  },
  {
   "cell_type": "markdown",
   "metadata": {
    "id": "BCAJFO4YDbcj"
   },
   "source": [
    "## 100 Dimension Healthcare Embeddings (embeddings_healthcare_100d)\n",
    "\n"
   ]
  },
  {
   "cell_type": "markdown",
   "metadata": {
    "id": "oDySIR35ECjy"
   },
   "source": [
    "Now we will extract [healthcare_100d embeddings](https://nlp.johnsnowlabs.com/2020/05/29/embeddings_healthcare_100d_en.html) and use it in the classificaiton model training."
   ]
  },
  {
   "cell_type": "code",
   "execution_count": 24,
   "metadata": {
    "colab": {
     "base_uri": "https://localhost:8080/"
    },
    "execution": {
     "iopub.execute_input": "2023-09-01T05:04:50.057400Z",
     "iopub.status.busy": "2023-09-01T05:04:50.057184Z",
     "iopub.status.idle": "2023-09-01T05:05:11.974567Z",
     "shell.execute_reply": "2023-09-01T05:05:11.973836Z",
     "shell.execute_reply.started": "2023-09-01T05:04:50.057370Z"
    },
    "executionInfo": {
     "elapsed": 19489,
     "status": "ok",
     "timestamp": 1689689592286,
     "user": {
      "displayName": "Ahmet Mesut BİROL",
      "userId": "04340760882990254267"
     },
     "user_tz": -180
    },
    "id": "oxFX8bVEDbcj",
    "outputId": "a902e1e5-3ec9-45c6-c302-c49b7d636250",
    "tags": []
   },
   "outputs": [
    {
     "data": {
      "application/vnd.jupyter.widget-view+json": {
       "model_id": "23b8850aa2eb424887ad6adb96da1de8",
       "version_major": 2,
       "version_minor": 0
      },
      "text/plain": [
       "VBox()"
      ]
     },
     "metadata": {},
     "output_type": "display_data"
    },
    {
     "data": {
      "application/vnd.jupyter.widget-view+json": {
       "model_id": "",
       "version_major": 2,
       "version_minor": 0
      },
      "text/plain": [
       "FloatProgress(value=0.0, bar_style='info', description='Progress:', layout=Layout(height='25px', width='50%'),…"
      ]
     },
     "metadata": {},
     "output_type": "display_data"
    },
    {
     "name": "stdout",
     "output_type": "stream",
     "text": [
      "embeddings_healthcare_100d download started this may take some time.\n",
      "Approximate size to download 475.8 MB\n",
      "[OK!]"
     ]
    }
   ],
   "source": [
    "document_assembler = DocumentAssembler()\\\n",
    "        .setInputCol(\"text\")\\\n",
    "        .setOutputCol(\"document\")\n",
    "\n",
    "tokenizer = Tokenizer() \\\n",
    "            .setInputCols([\"document\"]) \\\n",
    "            .setOutputCol(\"token\")\n",
    "\n",
    "word_embeddings = WordEmbeddingsModel.pretrained(\"embeddings_healthcare_100d\",\"en\",\"clinical/models\")\\\n",
    "        .setInputCols([\"document\",\"token\"])\\\n",
    "        .setOutputCol(\"word_embeddings\")\n",
    "\n",
    "sentence_embeddings = SentenceEmbeddings() \\\n",
    "        .setInputCols([\"document\", \"word_embeddings\"]) \\\n",
    "        .setOutputCol(\"sentence_embeddings\") \\\n",
    "        .setPoolingStrategy(\"AVERAGE\")\n",
    "\n",
    "embeddings_pipeline = Pipeline(\n",
    "    stages = [\n",
    "        document_assembler,\n",
    "        tokenizer,\n",
    "        word_embeddings,\n",
    "        sentence_embeddings,\n",
    "\n",
    "    ])"
   ]
  },
  {
   "cell_type": "code",
   "execution_count": 25,
   "metadata": {
    "colab": {
     "base_uri": "https://localhost:8080/"
    },
    "execution": {
     "iopub.execute_input": "2023-09-01T05:05:11.978727Z",
     "iopub.status.busy": "2023-09-01T05:05:11.978505Z",
     "iopub.status.idle": "2023-09-01T05:05:15.264953Z",
     "shell.execute_reply": "2023-09-01T05:05:15.264187Z",
     "shell.execute_reply.started": "2023-09-01T05:05:11.978697Z"
    },
    "executionInfo": {
     "elapsed": 1383,
     "status": "ok",
     "timestamp": 1689689593633,
     "user": {
      "displayName": "Ahmet Mesut BİROL",
      "userId": "04340760882990254267"
     },
     "user_tz": -180
    },
    "id": "ihBi5IicDbcj",
    "outputId": "2e433106-8839-4431-a340-54eed3f31656",
    "tags": []
   },
   "outputs": [
    {
     "data": {
      "application/vnd.jupyter.widget-view+json": {
       "model_id": "fc962422b09b455785453ad5908153a3",
       "version_major": 2,
       "version_minor": 0
      },
      "text/plain": [
       "VBox()"
      ]
     },
     "metadata": {},
     "output_type": "display_data"
    },
    {
     "data": {
      "application/vnd.jupyter.widget-view+json": {
       "model_id": "",
       "version_major": 2,
       "version_minor": 0
      },
      "text/plain": [
       "FloatProgress(value=0.0, bar_style='info', description='Progress:', layout=Layout(height='25px', width='50%'),…"
      ]
     },
     "metadata": {},
     "output_type": "display_data"
    },
    {
     "name": "stdout",
     "output_type": "stream",
     "text": [
      "+------------------------------------------------------------+--------+------------------------------------------------------------+\n",
      "|                                                        text|category|                                         sentence_embeddings|\n",
      "+------------------------------------------------------------+--------+------------------------------------------------------------+\n",
      "| \"Syndrome malin\"-like symptoms probably due to interacti...|     neg|[{sentence_embeddings, 0, 109,  \"Syndrome malin\"-like sym...|\n",
      "| 'Bail-out' bivalirudin use in patients with thrombotic c...|     neg|[{sentence_embeddings, 0, 150,  'Bail-out' bivalirudin us...|\n",
      "+------------------------------------------------------------+--------+------------------------------------------------------------+\n",
      "only showing top 2 rows"
     ]
    }
   ],
   "source": [
    "trainingData_with_embeddings = embeddings_pipeline.fit(trainingData).transform(trainingData)\n",
    "trainingData_with_embeddings = trainingData_with_embeddings.select(\"text\",\"category\",\"sentence_embeddings\")\n",
    "trainingData_with_embeddings.show(2,truncate=60)"
   ]
  },
  {
   "cell_type": "code",
   "execution_count": 26,
   "metadata": {
    "colab": {
     "base_uri": "https://localhost:8080/"
    },
    "execution": {
     "iopub.execute_input": "2023-09-01T05:05:15.267466Z",
     "iopub.status.busy": "2023-09-01T05:05:15.267237Z",
     "iopub.status.idle": "2023-09-01T05:05:16.116028Z",
     "shell.execute_reply": "2023-09-01T05:05:16.115263Z",
     "shell.execute_reply.started": "2023-09-01T05:05:15.267435Z"
    },
    "executionInfo": {
     "elapsed": 445,
     "status": "ok",
     "timestamp": 1689689594076,
     "user": {
      "displayName": "Ahmet Mesut BİROL",
      "userId": "04340760882990254267"
     },
     "user_tz": -180
    },
    "id": "yGWfNABSDbck",
    "outputId": "784e14ee-8118-476b-8782-d9f47d7df951",
    "tags": []
   },
   "outputs": [
    {
     "data": {
      "application/vnd.jupyter.widget-view+json": {
       "model_id": "f21b287025f24722b9212f5d47f7e756",
       "version_major": 2,
       "version_minor": 0
      },
      "text/plain": [
       "VBox()"
      ]
     },
     "metadata": {},
     "output_type": "display_data"
    },
    {
     "data": {
      "application/vnd.jupyter.widget-view+json": {
       "model_id": "",
       "version_major": 2,
       "version_minor": 0
      },
      "text/plain": [
       "FloatProgress(value=0.0, bar_style='info', description='Progress:', layout=Layout(height='25px', width='50%'),…"
      ]
     },
     "metadata": {},
     "output_type": "display_data"
    },
    {
     "name": "stdout",
     "output_type": "stream",
     "text": [
      "+------------------------------------------------------------+--------+------------------------------------------------------------+\n",
      "|                                                        text|category|                                         sentence_embeddings|\n",
      "+------------------------------------------------------------+--------+------------------------------------------------------------+\n",
      "| 1 previously untreated patient with plasma-cell leukaemi...|     neg|[{sentence_embeddings, 0, 166,  1 previously untreated pa...|\n",
      "| A 15-year-old boy had temporary hypertropia, supraductio...|     neg|[{sentence_embeddings, 0, 262,  A 15-year-old boy had tem...|\n",
      "+------------------------------------------------------------+--------+------------------------------------------------------------+\n",
      "only showing top 2 rows"
     ]
    }
   ],
   "source": [
    "testData_with_embeddings = embeddings_pipeline.fit(testData).transform(testData)\n",
    "testData_with_embeddings = testData_with_embeddings.select(\"text\",\"category\",\"sentence_embeddings\")\n",
    "testData_with_embeddings.show(2,truncate=60)"
   ]
  },
  {
   "cell_type": "code",
   "execution_count": 27,
   "metadata": {
    "colab": {
     "base_uri": "https://localhost:8080/"
    },
    "execution": {
     "iopub.execute_input": "2023-09-01T05:05:16.117267Z",
     "iopub.status.busy": "2023-09-01T05:05:16.117042Z",
     "iopub.status.idle": "2023-09-01T05:05:16.169814Z",
     "shell.execute_reply": "2023-09-01T05:05:16.169140Z",
     "shell.execute_reply.started": "2023-09-01T05:05:16.117236Z"
    },
    "executionInfo": {
     "elapsed": 7,
     "status": "ok",
     "timestamp": 1689689594076,
     "user": {
      "displayName": "Ahmet Mesut BİROL",
      "userId": "04340760882990254267"
     },
     "user_tz": -180
    },
    "id": "jC4RxfRuqrj1",
    "outputId": "c55ba089-02f1-4812-8310-148cf3636d40",
    "tags": []
   },
   "outputs": [
    {
     "data": {
      "application/vnd.jupyter.widget-view+json": {
       "model_id": "0aa8fcd93a044bce94e2fb759eba1f07",
       "version_major": 2,
       "version_minor": 0
      },
      "text/plain": [
       "VBox()"
      ]
     },
     "metadata": {},
     "output_type": "display_data"
    },
    {
     "data": {
      "application/vnd.jupyter.widget-view+json": {
       "model_id": "",
       "version_major": 2,
       "version_minor": 0
      },
      "text/plain": [
       "FloatProgress(value=0.0, bar_style='info', description='Progress:', layout=Layout(height='25px', width='50%'),…"
      ]
     },
     "metadata": {},
     "output_type": "display_data"
    },
    {
     "name": "stdout",
     "output_type": "stream",
     "text": [
      "root\n",
      " |-- text: string (nullable = true)\n",
      " |-- category: string (nullable = true)\n",
      " |-- sentence_embeddings: array (nullable = true)\n",
      " |    |-- element: struct (containsNull = true)\n",
      " |    |    |-- annotatorType: string (nullable = true)\n",
      " |    |    |-- begin: integer (nullable = false)\n",
      " |    |    |-- end: integer (nullable = false)\n",
      " |    |    |-- result: string (nullable = true)\n",
      " |    |    |-- metadata: map (nullable = true)\n",
      " |    |    |    |-- key: string\n",
      " |    |    |    |-- value: string (valueContainsNull = true)\n",
      " |    |    |-- embeddings: array (nullable = true)\n",
      " |    |    |    |-- element: float (containsNull = false)"
     ]
    }
   ],
   "source": [
    "testData_with_embeddings.printSchema()"
   ]
  },
  {
   "cell_type": "code",
   "execution_count": 28,
   "metadata": {
    "colab": {
     "base_uri": "https://localhost:8080/"
    },
    "execution": {
     "iopub.execute_input": "2023-09-01T05:05:16.170908Z",
     "iopub.status.busy": "2023-09-01T05:05:16.170701Z",
     "iopub.status.idle": "2023-09-01T05:05:16.940191Z",
     "shell.execute_reply": "2023-09-01T05:05:16.939498Z",
     "shell.execute_reply.started": "2023-09-01T05:05:16.170880Z"
    },
    "executionInfo": {
     "elapsed": 300,
     "status": "ok",
     "timestamp": 1689689594373,
     "user": {
      "displayName": "Ahmet Mesut BİROL",
      "userId": "04340760882990254267"
     },
     "user_tz": -180
    },
    "id": "YfN3PwLxqS4r",
    "outputId": "4323e970-010e-4c4e-b24e-1a57ada97352",
    "tags": []
   },
   "outputs": [
    {
     "data": {
      "application/vnd.jupyter.widget-view+json": {
       "model_id": "b8c64648a78244dca04941f7febab743",
       "version_major": 2,
       "version_minor": 0
      },
      "text/plain": [
       "VBox()"
      ]
     },
     "metadata": {},
     "output_type": "display_data"
    },
    {
     "data": {
      "application/vnd.jupyter.widget-view+json": {
       "model_id": "",
       "version_major": 2,
       "version_minor": 0
      },
      "text/plain": [
       "FloatProgress(value=0.0, bar_style='info', description='Progress:', layout=Layout(height='25px', width='50%'),…"
      ]
     },
     "metadata": {},
     "output_type": "display_data"
    },
    {
     "name": "stdout",
     "output_type": "stream",
     "text": [
      "+------------------------------------------------------------------------------------------------------------------------+\n",
      "|                                                                                          sentence_embeddings.embeddings|\n",
      "+------------------------------------------------------------------------------------------------------------------------+\n",
      "|[[0.022050034, -0.015850784, 0.11884041, 0.16476665, -0.14348501, -0.1576596, -0.031154968, -0.1393246, 0.008547665, ...|\n",
      "|[[0.036828704, 0.052321058, 0.11382609, -0.05798419, -0.1450678, 0.13031518, 0.13105926, 0.077215254, -0.11359191, -0...|\n",
      "|[[0.06133546, 0.08840095, 0.15639272, 0.114668004, -0.2140057, -0.08125059, 0.08913489, -0.1002837, 0.004876906, -0.0...|\n",
      "+------------------------------------------------------------------------------------------------------------------------+\n",
      "only showing top 3 rows"
     ]
    }
   ],
   "source": [
    "testData_with_embeddings.select(testData_with_embeddings.sentence_embeddings.embeddings).show(3,truncate=120)"
   ]
  },
  {
   "cell_type": "code",
   "execution_count": 29,
   "metadata": {
    "execution": {
     "iopub.execute_input": "2023-09-01T05:05:16.941377Z",
     "iopub.status.busy": "2023-09-01T05:05:16.941162Z",
     "iopub.status.idle": "2023-09-01T05:05:18.920918Z",
     "shell.execute_reply": "2023-09-01T05:05:18.919847Z",
     "shell.execute_reply.started": "2023-09-01T05:05:16.941346Z"
    },
    "tags": []
   },
   "outputs": [
    {
     "name": "stderr",
     "output_type": "stream",
     "text": [
      "SLF4J: Class path contains multiple SLF4J bindings.\n",
      "SLF4J: Found binding in [jar:file:/usr/lib/hadoop/lib/slf4j-log4j12-1.7.25.jar!/org/slf4j/impl/StaticLoggerBinder.class]\n",
      "SLF4J: Found binding in [jar:file:/usr/share/aws/emr/emrfs/lib/slf4j-log4j12-1.7.12.jar!/org/slf4j/impl/StaticLoggerBinder.class]\n",
      "SLF4J: See http://www.slf4j.org/codes.html#multiple_bindings for an explanation.\n",
      "SLF4J: Actual binding is of type [org.slf4j.impl.Log4jLoggerFactory]\n"
     ]
    }
   ],
   "source": [
    "%%sh\n",
    "hadoop fs -mkdir /tmp/ADE_logs_healthcare_100d"
   ]
  },
  {
   "cell_type": "code",
   "execution_count": 30,
   "metadata": {
    "execution": {
     "iopub.execute_input": "2023-09-01T05:05:18.923019Z",
     "iopub.status.busy": "2023-09-01T05:05:18.922668Z",
     "iopub.status.idle": "2023-09-01T05:05:20.965711Z",
     "shell.execute_reply": "2023-09-01T05:05:20.964609Z",
     "shell.execute_reply.started": "2023-09-01T05:05:18.922966Z"
    },
    "tags": []
   },
   "outputs": [
    {
     "name": "stdout",
     "output_type": "stream",
     "text": [
      "Found 4 items\n",
      "drwxr-xr-x   - emr-notebook hdfsadmingroup          0 2023-09-01 05:05 /tmp/ADE_logs_healthcare_100d\n",
      "drwxrwxrwt   - yarn         hdfsadmingroup          0 2023-08-31 15:53 /tmp/entity-file-history\n",
      "drwxrwxrwx   - mapred       mapred                  0 2023-08-31 15:43 /tmp/hadoop-yarn\n",
      "drwxr-xr-x   - livy         hdfsadmingroup          0 2023-09-01 02:13 /tmp/livy\n"
     ]
    },
    {
     "name": "stderr",
     "output_type": "stream",
     "text": [
      "SLF4J: Class path contains multiple SLF4J bindings.\n",
      "SLF4J: Found binding in [jar:file:/usr/lib/hadoop/lib/slf4j-log4j12-1.7.25.jar!/org/slf4j/impl/StaticLoggerBinder.class]\n",
      "SLF4J: Found binding in [jar:file:/usr/share/aws/emr/emrfs/lib/slf4j-log4j12-1.7.12.jar!/org/slf4j/impl/StaticLoggerBinder.class]\n",
      "SLF4J: See http://www.slf4j.org/codes.html#multiple_bindings for an explanation.\n",
      "SLF4J: Actual binding is of type [org.slf4j.impl.Log4jLoggerFactory]\n"
     ]
    }
   ],
   "source": [
    "%%sh\n",
    "hadoop fs -ls /tmp/"
   ]
  },
  {
   "cell_type": "code",
   "execution_count": 31,
   "metadata": {
    "execution": {
     "iopub.execute_input": "2023-09-01T05:05:20.967797Z",
     "iopub.status.busy": "2023-09-01T05:05:20.967429Z",
     "iopub.status.idle": "2023-09-01T05:05:21.036014Z",
     "shell.execute_reply": "2023-09-01T05:05:21.035075Z",
     "shell.execute_reply.started": "2023-09-01T05:05:20.967743Z"
    },
    "id": "C4nDUXMnadqo",
    "tags": []
   },
   "outputs": [
    {
     "data": {
      "application/vnd.jupyter.widget-view+json": {
       "model_id": "f900c234b3044fa48728b90a1d78e536",
       "version_major": 2,
       "version_minor": 0
      },
      "text/plain": [
       "VBox()"
      ]
     },
     "metadata": {},
     "output_type": "display_data"
    },
    {
     "data": {
      "application/vnd.jupyter.widget-view+json": {
       "model_id": "",
       "version_major": 2,
       "version_minor": 0
      },
      "text/plain": [
       "FloatProgress(value=0.0, bar_style='info', description='Progress:', layout=Layout(height='25px', width='50%'),…"
      ]
     },
     "metadata": {},
     "output_type": "display_data"
    }
   ],
   "source": [
    "log_folder=\"/tmp/ADE_logs_healthcare_100d\"\n",
    "# !mkdir -p $log_folder"
   ]
  },
  {
   "cell_type": "markdown",
   "metadata": {
    "id": "Q9MywCqKDbck"
   },
   "source": [
    "### ClassifierDL"
   ]
  },
  {
   "cell_type": "code",
   "execution_count": 32,
   "metadata": {
    "execution": {
     "iopub.execute_input": "2023-09-01T05:05:21.039234Z",
     "iopub.status.busy": "2023-09-01T05:05:21.039009Z",
     "iopub.status.idle": "2023-09-01T05:05:21.283062Z",
     "shell.execute_reply": "2023-09-01T05:05:21.282110Z",
     "shell.execute_reply.started": "2023-09-01T05:05:21.039203Z"
    },
    "id": "EhvRGlkmDbck",
    "tags": []
   },
   "outputs": [
    {
     "data": {
      "application/vnd.jupyter.widget-view+json": {
       "model_id": "37f8c50a240f4103b85776e1d171be37",
       "version_major": 2,
       "version_minor": 0
      },
      "text/plain": [
       "VBox()"
      ]
     },
     "metadata": {},
     "output_type": "display_data"
    },
    {
     "data": {
      "application/vnd.jupyter.widget-view+json": {
       "model_id": "",
       "version_major": 2,
       "version_minor": 0
      },
      "text/plain": [
       "FloatProgress(value=0.0, bar_style='info', description='Progress:', layout=Layout(height='25px', width='50%'),…"
      ]
     },
     "metadata": {},
     "output_type": "display_data"
    }
   ],
   "source": [
    "classifier_dl = ClassifierDLApproach()\\\n",
    "        .setInputCols([\"sentence_embeddings\"])\\\n",
    "        .setOutputCol(\"prediction\")\\\n",
    "        .setLabelColumn(\"category\")\\\n",
    "        .setBatchSize(16)\\\n",
    "        .setMaxEpochs(30)\\\n",
    "        .setLr(0.002)\\\n",
    "        .setDropout(0.3)\\\n",
    "        .setEnableOutputLogs(True)\\\n",
    "        .setOutputLogsPath(log_folder)\\\n",
    "        # .setValidationSplit(0.1)\n",
    "\n",
    "classifier_dl_pipeline = Pipeline(\n",
    "    stages = [\n",
    "        classifier_dl\n",
    "    ])"
   ]
  },
  {
   "cell_type": "code",
   "execution_count": 33,
   "metadata": {
    "execution": {
     "iopub.execute_input": "2023-09-01T05:05:21.285759Z",
     "iopub.status.busy": "2023-09-01T05:05:21.284558Z",
     "iopub.status.idle": "2023-09-01T05:06:07.028243Z",
     "shell.execute_reply": "2023-09-01T05:06:07.027502Z",
     "shell.execute_reply.started": "2023-09-01T05:05:21.285707Z"
    },
    "id": "lM7Dpdx7Dbck",
    "tags": []
   },
   "outputs": [
    {
     "data": {
      "application/vnd.jupyter.widget-view+json": {
       "model_id": "c0816f33f77942beafb5117fd96188ae",
       "version_major": 2,
       "version_minor": 0
      },
      "text/plain": [
       "VBox()"
      ]
     },
     "metadata": {},
     "output_type": "display_data"
    },
    {
     "data": {
      "application/vnd.jupyter.widget-view+json": {
       "model_id": "",
       "version_major": 2,
       "version_minor": 0
      },
      "text/plain": [
       "FloatProgress(value=0.0, bar_style='info', description='Progress:', layout=Layout(height='25px', width='50%'),…"
      ]
     },
     "metadata": {},
     "output_type": "display_data"
    }
   ],
   "source": [
    "clfDL_model_hc100 = classifier_dl_pipeline.fit(trainingData_with_embeddings)"
   ]
  },
  {
   "cell_type": "code",
   "execution_count": 34,
   "metadata": {
    "execution": {
     "iopub.execute_input": "2023-09-01T05:06:07.029451Z",
     "iopub.status.busy": "2023-09-01T05:06:07.029235Z",
     "iopub.status.idle": "2023-09-01T05:06:09.062912Z",
     "shell.execute_reply": "2023-09-01T05:06:09.062109Z",
     "shell.execute_reply.started": "2023-09-01T05:06:07.029422Z"
    },
    "tags": []
   },
   "outputs": [
    {
     "name": "stdout",
     "output_type": "stream",
     "text": [
      "-rw-r--r--   1 livy hdfsadmingroup       2199 2023-09-01 05:06 /tmp/ADE_logs_healthcare_100d/ClassifierDLApproach_721535809ab8.log\n"
     ]
    },
    {
     "name": "stderr",
     "output_type": "stream",
     "text": [
      "SLF4J: Class path contains multiple SLF4J bindings.\n",
      "SLF4J: Found binding in [jar:file:/usr/lib/hadoop/lib/slf4j-log4j12-1.7.25.jar!/org/slf4j/impl/StaticLoggerBinder.class]\n",
      "SLF4J: Found binding in [jar:file:/usr/share/aws/emr/emrfs/lib/slf4j-log4j12-1.7.12.jar!/org/slf4j/impl/StaticLoggerBinder.class]\n",
      "SLF4J: See http://www.slf4j.org/codes.html#multiple_bindings for an explanation.\n",
      "SLF4J: Actual binding is of type [org.slf4j.impl.Log4jLoggerFactory]\n"
     ]
    }
   ],
   "source": [
    "%%sh\n",
    "hadoop fs -ls /tmp/ADE_logs_healthcare_100d/ClassifierDLApproach_*"
   ]
  },
  {
   "cell_type": "code",
   "execution_count": 35,
   "metadata": {
    "execution": {
     "iopub.execute_input": "2023-09-01T05:06:09.064509Z",
     "iopub.status.busy": "2023-09-01T05:06:09.064279Z",
     "iopub.status.idle": "2023-09-01T05:06:11.229656Z",
     "shell.execute_reply": "2023-09-01T05:06:11.228800Z",
     "shell.execute_reply.started": "2023-09-01T05:06:09.064477Z"
    },
    "tags": []
   },
   "outputs": [
    {
     "name": "stdout",
     "output_type": "stream",
     "text": [
      "Training started - epochs: 30 - learning_rate: 0.002 - batch_size: 16 - training_examples: 5531 - classes: 2\n",
      "Epoch 0/30 - 1.60s - loss: 187.70439 - acc: 0.759552 - batches: 346\n",
      "Epoch 1/30 - 1.10s - loss: 176.14748 - acc: 0.8116271 - batches: 346\n",
      "Epoch 2/30 - 1.10s - loss: 175.5478 - acc: 0.82938075 - batches: 346\n",
      "Epoch 3/30 - 1.11s - loss: 174.23607 - acc: 0.8406126 - batches: 346\n",
      "Epoch 4/30 - 1.08s - loss: 172.32031 - acc: 0.846772 - batches: 346\n",
      "Epoch 5/30 - 1.10s - loss: 170.58084 - acc: 0.85456187 - batches: 346\n",
      "Epoch 6/30 - 1.07s - loss: 169.14948 - acc: 0.8599967 - batches: 346\n",
      "Epoch 7/30 - 1.10s - loss: 168.06482 - acc: 0.8623518 - batches: 346\n",
      "Epoch 8/30 - 1.06s - loss: 167.17068 - acc: 0.8652503 - batches: 346\n",
      "Epoch 9/30 - 1.08s - loss: 166.39902 - acc: 0.86869234 - batches: 346\n",
      "Epoch 10/30 - 1.08s - loss: 165.6691 - acc: 0.8710474 - batches: 346\n",
      "Epoch 11/30 - 1.10s - loss: 165.0651 - acc: 0.8723155 - batches: 346\n",
      "Epoch 12/30 - 1.07s - loss: 164.51015 - acc: 0.8744894 - batches: 346\n",
      "Epoch 13/30 - 1.07s - loss: 164.0307 - acc: 0.8759387 - batches: 346\n",
      "Epoch 14/30 - 1.09s - loss: 163.5846 - acc: 0.87873846 - batches: 346\n",
      "Epoch 15/30 - 1.06s - loss: 163.15201 - acc: 0.8810935 - batches: 346\n",
      "Epoch 16/30 - 1.07s - loss: 162.73299 - acc: 0.88236165 - batches: 346\n",
      "Epoch 17/30 - 1.06s - loss: 162.3384 - acc: 0.88362974 - batches: 346\n",
      "Epoch 18/30 - 1.05s - loss: 161.93977 - acc: 0.8865283 - batches: 346\n",
      "Epoch 19/30 - 1.19s - loss: 161.55153 - acc: 0.8874341 - batches: 346\n",
      "Epoch 20/30 - 1.11s - loss: 161.16264 - acc: 0.8892457 - batches: 346\n",
      "Epoch 21/30 - 1.07s - loss: 160.79025 - acc: 0.89033264 - batches: 346\n",
      "Epoch 22/30 - 1.08s - loss: 160.4151 - acc: 0.89214426 - batches: 346\n",
      "Epoch 23/30 - 1.07s - loss: 160.02498 - acc: 0.8932312 - batches: 346\n",
      "Epoch 24/30 - 1.08s - loss: 159.67603 - acc: 0.894137 - batches: 346\n",
      "Epoch 25/30 - 1.09s - loss: 159.31735 - acc: 0.8946805 - batches: 346\n",
      "Epoch 26/30 - 1.07s - loss: 158.99078 - acc: 0.8959486 - batches: 346\n",
      "Epoch 27/30 - 1.06s - loss: 158.66356 - acc: 0.89649206 - batches: 346\n",
      "Epoch 28/30 - 1.06s - loss: 158.35133 - acc: 0.89703554 - batches: 346\n",
      "Epoch 29/30 - 1.05s - loss: 158.05151 - acc: 0.8977602 - batches: 346\n"
     ]
    },
    {
     "name": "stderr",
     "output_type": "stream",
     "text": [
      "SLF4J: Class path contains multiple SLF4J bindings.\n",
      "SLF4J: Found binding in [jar:file:/usr/lib/hadoop/lib/slf4j-log4j12-1.7.25.jar!/org/slf4j/impl/StaticLoggerBinder.class]\n",
      "SLF4J: Found binding in [jar:file:/usr/share/aws/emr/emrfs/lib/slf4j-log4j12-1.7.12.jar!/org/slf4j/impl/StaticLoggerBinder.class]\n",
      "SLF4J: See http://www.slf4j.org/codes.html#multiple_bindings for an explanation.\n",
      "SLF4J: Actual binding is of type [org.slf4j.impl.Log4jLoggerFactory]\n"
     ]
    }
   ],
   "source": [
    "%%sh\n",
    "hadoop fs -cat /tmp/ADE_logs_healthcare_100d/ClassifierDLApproach_*"
   ]
  },
  {
   "cell_type": "code",
   "execution_count": 36,
   "metadata": {
    "execution": {
     "iopub.execute_input": "2023-09-01T05:06:11.231290Z",
     "iopub.status.busy": "2023-09-01T05:06:11.231061Z",
     "iopub.status.idle": "2023-09-01T05:06:11.495751Z",
     "shell.execute_reply": "2023-09-01T05:06:11.495055Z",
     "shell.execute_reply.started": "2023-09-01T05:06:11.231257Z"
    },
    "id": "w7Wzu_40qH6T",
    "tags": []
   },
   "outputs": [
    {
     "data": {
      "application/vnd.jupyter.widget-view+json": {
       "model_id": "f8be175ce0ba47ffbbdefb480bdfd85c",
       "version_major": 2,
       "version_minor": 0
      },
      "text/plain": [
       "VBox()"
      ]
     },
     "metadata": {},
     "output_type": "display_data"
    },
    {
     "data": {
      "application/vnd.jupyter.widget-view+json": {
       "model_id": "",
       "version_major": 2,
       "version_minor": 0
      },
      "text/plain": [
       "FloatProgress(value=0.0, bar_style='info', description='Progress:', layout=Layout(height='25px', width='50%'),…"
      ]
     },
     "metadata": {},
     "output_type": "display_data"
    }
   ],
   "source": [
    "preds = clfDL_model_hc100.transform(testData_with_embeddings)"
   ]
  },
  {
   "cell_type": "code",
   "execution_count": 37,
   "metadata": {
    "colab": {
     "base_uri": "https://localhost:8080/"
    },
    "execution": {
     "iopub.execute_input": "2023-09-01T05:06:11.497055Z",
     "iopub.status.busy": "2023-09-01T05:06:11.496806Z",
     "iopub.status.idle": "2023-09-01T05:06:16.793519Z",
     "shell.execute_reply": "2023-09-01T05:06:16.792564Z",
     "shell.execute_reply.started": "2023-09-01T05:06:11.497024Z"
    },
    "executionInfo": {
     "elapsed": 3871,
     "status": "ok",
     "timestamp": 1689689650896,
     "user": {
      "displayName": "Ahmet Mesut BİROL",
      "userId": "04340760882990254267"
     },
     "user_tz": -180
    },
    "id": "oeqPLNbZvuJQ",
    "outputId": "b7805413-5682-4922-d4b5-698740102896",
    "tags": []
   },
   "outputs": [
    {
     "data": {
      "application/vnd.jupyter.widget-view+json": {
       "model_id": "efa6bb5d237d40de90890069ee42ab6d",
       "version_major": 2,
       "version_minor": 0
      },
      "text/plain": [
       "VBox()"
      ]
     },
     "metadata": {},
     "output_type": "display_data"
    },
    {
     "data": {
      "application/vnd.jupyter.widget-view+json": {
       "model_id": "",
       "version_major": 2,
       "version_minor": 0
      },
      "text/plain": [
       "FloatProgress(value=0.0, bar_style='info', description='Progress:', layout=Layout(height='25px', width='50%'),…"
      ]
     },
     "metadata": {},
     "output_type": "display_data"
    },
    {
     "name": "stdout",
     "output_type": "stream",
     "text": [
      "root\n",
      " |-- text: string (nullable = true)\n",
      " |-- category: string (nullable = true)\n",
      " |-- sentence_embeddings: array (nullable = true)\n",
      " |    |-- element: struct (containsNull = true)\n",
      " |    |    |-- annotatorType: string (nullable = true)\n",
      " |    |    |-- begin: integer (nullable = false)\n",
      " |    |    |-- end: integer (nullable = false)\n",
      " |    |    |-- result: string (nullable = true)\n",
      " |    |    |-- metadata: map (nullable = true)\n",
      " |    |    |    |-- key: string\n",
      " |    |    |    |-- value: string (valueContainsNull = true)\n",
      " |    |    |-- embeddings: array (nullable = true)\n",
      " |    |    |    |-- element: float (containsNull = false)\n",
      " |-- prediction: array (nullable = true)\n",
      " |    |-- element: struct (containsNull = true)\n",
      " |    |    |-- annotatorType: string (nullable = true)\n",
      " |    |    |-- begin: integer (nullable = false)\n",
      " |    |    |-- end: integer (nullable = false)\n",
      " |    |    |-- result: string (nullable = true)\n",
      " |    |    |-- metadata: map (nullable = true)\n",
      " |    |    |    |-- key: string\n",
      " |    |    |    |-- value: string (valueContainsNull = true)\n",
      " |    |    |-- embeddings: array (nullable = true)\n",
      " |    |    |    |-- element: float (containsNull = false)\n",
      "\n",
      "+--------------------------------------------------------------------------------------+\n",
      "|prediction                                                                            |\n",
      "+--------------------------------------------------------------------------------------+\n",
      "|[{category, 0, 166, neg, {sentence -> 0, pos -> 1.6018769E-4, neg -> 0.9998398}, []}] |\n",
      "|[{category, 0, 262, neg, {sentence -> 0, pos -> 3.2119175E-7, neg -> 0.99999964}, []}]|\n",
      "|[{category, 0, 172, neg, {sentence -> 0, pos -> 0.0362756, neg -> 0.9637244}, []}]    |\n",
      "|[{category, 0, 93, neg, {sentence -> 0, pos -> 0.02353036, neg -> 0.9764697}, []}]    |\n",
      "|[{category, 0, 136, neg, {sentence -> 0, pos -> 0.07279321, neg -> 0.9272068}, []}]   |\n",
      "+--------------------------------------------------------------------------------------+\n",
      "only showing top 5 rows\n",
      "\n",
      "+--------+-----------------+\n",
      "|category|prediction.result|\n",
      "+--------+-----------------+\n",
      "|neg     |[neg]            |\n",
      "|neg     |[neg]            |\n",
      "|neg     |[neg]            |\n",
      "|neg     |[neg]            |\n",
      "|neg     |[neg]            |\n",
      "+--------+-----------------+\n",
      "only showing top 5 rows"
     ]
    }
   ],
   "source": [
    "preds.printSchema()\n",
    "preds.select(preds.prediction).show(5, truncate=False)\n",
    "preds.select(preds.category, preds.prediction.result).show(5, truncate=False)"
   ]
  },
  {
   "cell_type": "code",
   "execution_count": 38,
   "metadata": {
    "colab": {
     "base_uri": "https://localhost:8080/"
    },
    "execution": {
     "iopub.execute_input": "2023-09-01T05:06:16.794892Z",
     "iopub.status.busy": "2023-09-01T05:06:16.794647Z",
     "iopub.status.idle": "2023-09-01T05:06:18.060548Z",
     "shell.execute_reply": "2023-09-01T05:06:18.059865Z",
     "shell.execute_reply.started": "2023-09-01T05:06:16.794859Z"
    },
    "executionInfo": {
     "elapsed": 460,
     "status": "ok",
     "timestamp": 1689689651353,
     "user": {
      "displayName": "Ahmet Mesut BİROL",
      "userId": "04340760882990254267"
     },
     "user_tz": -180
    },
    "id": "l0yEqGcJDbck",
    "outputId": "d228b500-9c61-4014-e68e-66617176bb28",
    "tags": []
   },
   "outputs": [
    {
     "data": {
      "application/vnd.jupyter.widget-view+json": {
       "model_id": "6cfa6fea6f224bf296c3366906370161",
       "version_major": 2,
       "version_minor": 0
      },
      "text/plain": [
       "VBox()"
      ]
     },
     "metadata": {},
     "output_type": "display_data"
    },
    {
     "data": {
      "application/vnd.jupyter.widget-view+json": {
       "model_id": "",
       "version_major": 2,
       "version_minor": 0
      },
      "text/plain": [
       "FloatProgress(value=0.0, bar_style='info', description='Progress:', layout=Layout(height='25px', width='50%'),…"
      ]
     },
     "metadata": {},
     "output_type": "display_data"
    },
    {
     "name": "stdout",
     "output_type": "stream",
     "text": [
      "              precision    recall  f1-score   support\n",
      "\n",
      "         neg       0.86      0.91      0.89       982\n",
      "         pos       0.77      0.68      0.72       445\n",
      "\n",
      "    accuracy                           0.84      1427\n",
      "   macro avg       0.82      0.80      0.80      1427\n",
      "weighted avg       0.83      0.84      0.84      1427"
     ]
    }
   ],
   "source": [
    "preds_df = preds.select(\"category\",\"text\",\"prediction.result\").toPandas()\n",
    "preds_df[\"result\"] = preds_df[\"result\"].apply(lambda x : x[0])\n",
    "\n",
    "print (classification_report(preds_df[\"category\"], preds_df[\"result\"]))"
   ]
  },
  {
   "cell_type": "code",
   "execution_count": 39,
   "metadata": {
    "colab": {
     "base_uri": "https://localhost:8080/",
     "height": 81
    },
    "execution": {
     "iopub.execute_input": "2023-09-01T05:06:18.061789Z",
     "iopub.status.busy": "2023-09-01T05:06:18.061574Z",
     "iopub.status.idle": "2023-09-01T05:06:18.318778Z",
     "shell.execute_reply": "2023-09-01T05:06:18.317885Z",
     "shell.execute_reply.started": "2023-09-01T05:06:18.061760Z"
    },
    "executionInfo": {
     "elapsed": 8,
     "status": "ok",
     "timestamp": 1689689651354,
     "user": {
      "displayName": "Ahmet Mesut BİROL",
      "userId": "04340760882990254267"
     },
     "user_tz": -180
    },
    "id": "TRBwhI8LWiWV",
    "outputId": "599677f7-02c9-4cd0-fc45-5a73f523e2cc",
    "tags": []
   },
   "outputs": [
    {
     "data": {
      "application/vnd.jupyter.widget-view+json": {
       "model_id": "d7b39b4dc617495b9e5ae2bea17e4527",
       "version_major": 2,
       "version_minor": 0
      },
      "text/plain": [
       "VBox()"
      ]
     },
     "metadata": {},
     "output_type": "display_data"
    },
    {
     "data": {
      "application/vnd.jupyter.widget-view+json": {
       "model_id": "",
       "version_major": 2,
       "version_minor": 0
      },
      "text/plain": [
       "FloatProgress(value=0.0, bar_style='info', description='Progress:', layout=Layout(height='25px', width='50%'),…"
      ]
     },
     "metadata": {},
     "output_type": "display_data"
    },
    {
     "name": "stdout",
     "output_type": "stream",
     "text": [
      "                   pos-f1-score  accuracy\n",
      "ClassifierDL_100d      0.724014  0.838122"
     ]
    }
   ],
   "source": [
    "res = classification_report(preds_df[\"category\"], preds_df[\"result\"], output_dict=True)\n",
    "results_df = pd.DataFrame(columns=[\"pos-f1-score\",\"accuracy\"])\n",
    "results_df.loc[\"ClassifierDL_100d\"] = [res[\"pos\"][\"f1-score\"], res[\"accuracy\"]]\n",
    "results_df"
   ]
  },
  {
   "cell_type": "code",
   "execution_count": 40,
   "metadata": {
    "execution": {
     "iopub.execute_input": "2023-09-01T05:06:18.320084Z",
     "iopub.status.busy": "2023-09-01T05:06:18.319844Z",
     "iopub.status.idle": "2023-09-01T05:06:19.266156Z",
     "shell.execute_reply": "2023-09-01T05:06:19.265454Z",
     "shell.execute_reply.started": "2023-09-01T05:06:18.320052Z"
    },
    "tags": []
   },
   "outputs": [
    {
     "data": {
      "application/vnd.jupyter.widget-view+json": {
       "model_id": "",
       "version_major": 2,
       "version_minor": 0
      },
      "text/plain": [
       "FloatProgress(value=0.0, bar_style='info', description='Progress:', layout=Layout(height='25px', width='50%'),…"
      ]
     },
     "metadata": {},
     "output_type": "display_data"
    },
    {
     "data": {
      "application/vnd.jupyter.widget-view+json": {
       "model_id": "e0c6b19bda2f4735b78aeda2c846b79d",
       "version_major": 2,
       "version_minor": 0
      },
      "text/plain": [
       "VBox(children=(HBox(children=(HTML(value='Type:'), Button(description='Table', layout=Layout(width='70px'), st…"
      ]
     },
     "metadata": {},
     "output_type": "display_data"
    },
    {
     "data": {
      "application/vnd.jupyter.widget-view+json": {
       "model_id": "e27ac9f200244eeab5e1d3e50dfc04c4",
       "version_major": 2,
       "version_minor": 0
      },
      "text/plain": [
       "Output()"
      ]
     },
     "metadata": {},
     "output_type": "display_data"
    }
   ],
   "source": [
    "%%display\n",
    "spark.createDataFrame(results_df)"
   ]
  },
  {
   "cell_type": "markdown",
   "metadata": {
    "id": "3NRB48Jd8PBL"
   },
   "source": [
    "### MultiClassifierDL"
   ]
  },
  {
   "cell_type": "markdown",
   "metadata": {
    "id": "fHNzlFhIi1IU"
   },
   "source": [
    "We will use MultiClassifierDL built by using Bidirectional GRU and CNNs inside TensorFlow that supports up to 100 classes. It is designed for multi-label classification purposes. Here we will use MultiClassifierDL as a binary classifier."
   ]
  },
  {
   "cell_type": "code",
   "execution_count": 41,
   "metadata": {
    "execution": {
     "iopub.execute_input": "2023-09-01T05:06:19.267375Z",
     "iopub.status.busy": "2023-09-01T05:06:19.267142Z",
     "iopub.status.idle": "2023-09-01T05:06:19.331934Z",
     "shell.execute_reply": "2023-09-01T05:06:19.331245Z",
     "shell.execute_reply.started": "2023-09-01T05:06:19.267346Z"
    },
    "id": "H7BFPBvBkRXm",
    "tags": []
   },
   "outputs": [
    {
     "data": {
      "application/vnd.jupyter.widget-view+json": {
       "model_id": "89f0648a2c2a43f5920322bf1dc8d7f3",
       "version_major": 2,
       "version_minor": 0
      },
      "text/plain": [
       "VBox()"
      ]
     },
     "metadata": {},
     "output_type": "display_data"
    },
    {
     "data": {
      "application/vnd.jupyter.widget-view+json": {
       "model_id": "",
       "version_major": 2,
       "version_minor": 0
      },
      "text/plain": [
       "FloatProgress(value=0.0, bar_style='info', description='Progress:', layout=Layout(height='25px', width='50%'),…"
      ]
     },
     "metadata": {},
     "output_type": "display_data"
    }
   ],
   "source": [
    "# MultiClassifierDL accepts list of strings as input label. So we convert label column to array type.\n",
    "trainingData_with_embeddings = trainingData_with_embeddings.withColumn(\"category_array\", F.array(F.col(\"category\")))\n",
    "testData_with_embeddings = testData_with_embeddings.withColumn(\"category_array\", F.array(F.col(\"category\")))"
   ]
  },
  {
   "cell_type": "code",
   "execution_count": 42,
   "metadata": {
    "execution": {
     "iopub.execute_input": "2023-09-01T05:06:19.333230Z",
     "iopub.status.busy": "2023-09-01T05:06:19.332992Z",
     "iopub.status.idle": "2023-09-01T05:06:20.081941Z",
     "shell.execute_reply": "2023-09-01T05:06:20.081034Z",
     "shell.execute_reply.started": "2023-09-01T05:06:19.333201Z"
    },
    "id": "qfayOhW1QGuZ",
    "tags": []
   },
   "outputs": [
    {
     "data": {
      "application/vnd.jupyter.widget-view+json": {
       "model_id": "0a610ed71ea74a6ca9dd49d46c8488a6",
       "version_major": 2,
       "version_minor": 0
      },
      "text/plain": [
       "VBox()"
      ]
     },
     "metadata": {},
     "output_type": "display_data"
    },
    {
     "data": {
      "application/vnd.jupyter.widget-view+json": {
       "model_id": "",
       "version_major": 2,
       "version_minor": 0
      },
      "text/plain": [
       "FloatProgress(value=0.0, bar_style='info', description='Progress:', layout=Layout(height='25px', width='50%'),…"
      ]
     },
     "metadata": {},
     "output_type": "display_data"
    }
   ],
   "source": [
    "multiClassifier = MultiClassifierDLApproach()\\\n",
    "  .setInputCols(\"sentence_embeddings\")\\\n",
    "  .setOutputCol(\"prediction\")\\\n",
    "  .setLabelColumn(\"category_array\")\\\n",
    "  .setBatchSize(16)\\\n",
    "  .setMaxEpochs(15)\\\n",
    "  .setLr(9e-3)\\\n",
    "  .setThreshold(0.5)\\\n",
    "  .setShufflePerEpoch(False)\\\n",
    "  .setEnableOutputLogs(True)\\\n",
    "  .setOutputLogsPath(log_folder)\\\n",
    "#   .setValidationSplit(0.1)\n",
    "\n",
    "multiClassifier_pipeline = Pipeline(\n",
    "    stages = [\n",
    "        multiClassifier\n",
    "    ])"
   ]
  },
  {
   "cell_type": "code",
   "execution_count": 43,
   "metadata": {
    "execution": {
     "iopub.execute_input": "2023-09-01T05:06:20.083246Z",
     "iopub.status.busy": "2023-09-01T05:06:20.083004Z",
     "iopub.status.idle": "2023-09-01T05:07:44.117194Z",
     "shell.execute_reply": "2023-09-01T05:07:44.116468Z",
     "shell.execute_reply.started": "2023-09-01T05:06:20.083214Z"
    },
    "id": "uis9foJpQ56_",
    "tags": []
   },
   "outputs": [
    {
     "data": {
      "application/vnd.jupyter.widget-view+json": {
       "model_id": "45b98d29e296417abbe3adea727756b1",
       "version_major": 2,
       "version_minor": 0
      },
      "text/plain": [
       "VBox()"
      ]
     },
     "metadata": {},
     "output_type": "display_data"
    },
    {
     "data": {
      "application/vnd.jupyter.widget-view+json": {
       "model_id": "",
       "version_major": 2,
       "version_minor": 0
      },
      "text/plain": [
       "FloatProgress(value=0.0, bar_style='info', description='Progress:', layout=Layout(height='25px', width='50%'),…"
      ]
     },
     "metadata": {},
     "output_type": "display_data"
    }
   ],
   "source": [
    "multiClassifier_model_hc100 = multiClassifier_pipeline.fit(trainingData_with_embeddings)"
   ]
  },
  {
   "cell_type": "code",
   "execution_count": 44,
   "metadata": {
    "execution": {
     "iopub.execute_input": "2023-09-01T05:07:44.118367Z",
     "iopub.status.busy": "2023-09-01T05:07:44.118154Z",
     "iopub.status.idle": "2023-09-01T05:07:46.170210Z",
     "shell.execute_reply": "2023-09-01T05:07:46.169317Z",
     "shell.execute_reply.started": "2023-09-01T05:07:44.118337Z"
    },
    "tags": []
   },
   "outputs": [
    {
     "name": "stdout",
     "output_type": "stream",
     "text": [
      "-rw-r--r--   1 livy hdfsadmingroup       2199 2023-09-01 05:06 /tmp/ADE_logs_healthcare_100d/ClassifierDLApproach_721535809ab8.log\n"
     ]
    },
    {
     "name": "stderr",
     "output_type": "stream",
     "text": [
      "SLF4J: Class path contains multiple SLF4J bindings.\n",
      "SLF4J: Found binding in [jar:file:/usr/lib/hadoop/lib/slf4j-log4j12-1.7.25.jar!/org/slf4j/impl/StaticLoggerBinder.class]\n",
      "SLF4J: Found binding in [jar:file:/usr/share/aws/emr/emrfs/lib/slf4j-log4j12-1.7.12.jar!/org/slf4j/impl/StaticLoggerBinder.class]\n",
      "SLF4J: See http://www.slf4j.org/codes.html#multiple_bindings for an explanation.\n",
      "SLF4J: Actual binding is of type [org.slf4j.impl.Log4jLoggerFactory]\n"
     ]
    }
   ],
   "source": [
    "%%sh\n",
    "hadoop fs -ls  /tmp/ADE_logs_healthcare_100d/ClassifierDLApproach_*"
   ]
  },
  {
   "cell_type": "code",
   "execution_count": 45,
   "metadata": {
    "colab": {
     "base_uri": "https://localhost:8080/"
    },
    "execution": {
     "iopub.execute_input": "2023-09-01T05:07:46.171794Z",
     "iopub.status.busy": "2023-09-01T05:07:46.171551Z",
     "iopub.status.idle": "2023-09-01T05:07:48.340166Z",
     "shell.execute_reply": "2023-09-01T05:07:48.339253Z",
     "shell.execute_reply.started": "2023-09-01T05:07:46.171760Z"
    },
    "executionInfo": {
     "elapsed": 39,
     "status": "ok",
     "timestamp": 1689689732799,
     "user": {
      "displayName": "Ahmet Mesut BİROL",
      "userId": "04340760882990254267"
     },
     "user_tz": -180
    },
    "id": "oZ4muaEcQ56_",
    "outputId": "d5f7c35d-85cf-4c26-e97b-3e6503185e63",
    "tags": []
   },
   "outputs": [
    {
     "name": "stdout",
     "output_type": "stream",
     "text": [
      "Training started - epochs: 30 - learning_rate: 0.002 - batch_size: 16 - training_examples: 5531 - classes: 2\n",
      "Epoch 0/30 - 1.60s - loss: 187.70439 - acc: 0.759552 - batches: 346\n",
      "Epoch 1/30 - 1.10s - loss: 176.14748 - acc: 0.8116271 - batches: 346\n",
      "Epoch 2/30 - 1.10s - loss: 175.5478 - acc: 0.82938075 - batches: 346\n",
      "Epoch 3/30 - 1.11s - loss: 174.23607 - acc: 0.8406126 - batches: 346\n",
      "Epoch 4/30 - 1.08s - loss: 172.32031 - acc: 0.846772 - batches: 346\n",
      "Epoch 5/30 - 1.10s - loss: 170.58084 - acc: 0.85456187 - batches: 346\n",
      "Epoch 6/30 - 1.07s - loss: 169.14948 - acc: 0.8599967 - batches: 346\n",
      "Epoch 7/30 - 1.10s - loss: 168.06482 - acc: 0.8623518 - batches: 346\n",
      "Epoch 8/30 - 1.06s - loss: 167.17068 - acc: 0.8652503 - batches: 346\n",
      "Epoch 9/30 - 1.08s - loss: 166.39902 - acc: 0.86869234 - batches: 346\n",
      "Epoch 10/30 - 1.08s - loss: 165.6691 - acc: 0.8710474 - batches: 346\n",
      "Epoch 11/30 - 1.10s - loss: 165.0651 - acc: 0.8723155 - batches: 346\n",
      "Epoch 12/30 - 1.07s - loss: 164.51015 - acc: 0.8744894 - batches: 346\n",
      "Epoch 13/30 - 1.07s - loss: 164.0307 - acc: 0.8759387 - batches: 346\n",
      "Epoch 14/30 - 1.09s - loss: 163.5846 - acc: 0.87873846 - batches: 346\n",
      "Epoch 15/30 - 1.06s - loss: 163.15201 - acc: 0.8810935 - batches: 346\n",
      "Epoch 16/30 - 1.07s - loss: 162.73299 - acc: 0.88236165 - batches: 346\n",
      "Epoch 17/30 - 1.06s - loss: 162.3384 - acc: 0.88362974 - batches: 346\n",
      "Epoch 18/30 - 1.05s - loss: 161.93977 - acc: 0.8865283 - batches: 346\n",
      "Epoch 19/30 - 1.19s - loss: 161.55153 - acc: 0.8874341 - batches: 346\n",
      "Epoch 20/30 - 1.11s - loss: 161.16264 - acc: 0.8892457 - batches: 346\n",
      "Epoch 21/30 - 1.07s - loss: 160.79025 - acc: 0.89033264 - batches: 346\n",
      "Epoch 22/30 - 1.08s - loss: 160.4151 - acc: 0.89214426 - batches: 346\n",
      "Epoch 23/30 - 1.07s - loss: 160.02498 - acc: 0.8932312 - batches: 346\n",
      "Epoch 24/30 - 1.08s - loss: 159.67603 - acc: 0.894137 - batches: 346\n",
      "Epoch 25/30 - 1.09s - loss: 159.31735 - acc: 0.8946805 - batches: 346\n",
      "Epoch 26/30 - 1.07s - loss: 158.99078 - acc: 0.8959486 - batches: 346\n",
      "Epoch 27/30 - 1.06s - loss: 158.66356 - acc: 0.89649206 - batches: 346\n",
      "Epoch 28/30 - 1.06s - loss: 158.35133 - acc: 0.89703554 - batches: 346\n",
      "Epoch 29/30 - 1.05s - loss: 158.05151 - acc: 0.8977602 - batches: 346\n"
     ]
    },
    {
     "name": "stderr",
     "output_type": "stream",
     "text": [
      "SLF4J: Class path contains multiple SLF4J bindings.\n",
      "SLF4J: Found binding in [jar:file:/usr/lib/hadoop/lib/slf4j-log4j12-1.7.25.jar!/org/slf4j/impl/StaticLoggerBinder.class]\n",
      "SLF4J: Found binding in [jar:file:/usr/share/aws/emr/emrfs/lib/slf4j-log4j12-1.7.12.jar!/org/slf4j/impl/StaticLoggerBinder.class]\n",
      "SLF4J: See http://www.slf4j.org/codes.html#multiple_bindings for an explanation.\n",
      "SLF4J: Actual binding is of type [org.slf4j.impl.Log4jLoggerFactory]\n"
     ]
    }
   ],
   "source": [
    "%%sh\n",
    "hadoop fs -cat /tmp/ADE_logs_healthcare_100d/ClassifierDLApproach_*"
   ]
  },
  {
   "cell_type": "code",
   "execution_count": 46,
   "metadata": {
    "execution": {
     "iopub.execute_input": "2023-09-01T05:07:48.341732Z",
     "iopub.status.busy": "2023-09-01T05:07:48.341488Z",
     "iopub.status.idle": "2023-09-01T05:07:48.618104Z",
     "shell.execute_reply": "2023-09-01T05:07:48.617399Z",
     "shell.execute_reply.started": "2023-09-01T05:07:48.341688Z"
    },
    "id": "aU71yDTEQ57A"
   },
   "outputs": [
    {
     "data": {
      "application/vnd.jupyter.widget-view+json": {
       "model_id": "653f297634f442e6b63b065967f396ad",
       "version_major": 2,
       "version_minor": 0
      },
      "text/plain": [
       "VBox()"
      ]
     },
     "metadata": {},
     "output_type": "display_data"
    },
    {
     "data": {
      "application/vnd.jupyter.widget-view+json": {
       "model_id": "",
       "version_major": 2,
       "version_minor": 0
      },
      "text/plain": [
       "FloatProgress(value=0.0, bar_style='info', description='Progress:', layout=Layout(height='25px', width='50%'),…"
      ]
     },
     "metadata": {},
     "output_type": "display_data"
    }
   ],
   "source": [
    "preds = multiClassifier_model_hc100.transform(testData_with_embeddings)"
   ]
  },
  {
   "cell_type": "code",
   "execution_count": 47,
   "metadata": {
    "colab": {
     "base_uri": "https://localhost:8080/"
    },
    "execution": {
     "iopub.execute_input": "2023-09-01T05:07:48.619239Z",
     "iopub.status.busy": "2023-09-01T05:07:48.619028Z",
     "iopub.status.idle": "2023-09-01T05:08:19.972899Z",
     "shell.execute_reply": "2023-09-01T05:08:19.972148Z",
     "shell.execute_reply.started": "2023-09-01T05:07:48.619209Z"
    },
    "executionInfo": {
     "elapsed": 18188,
     "status": "ok",
     "timestamp": 1689689750983,
     "user": {
      "displayName": "Ahmet Mesut BİROL",
      "userId": "04340760882990254267"
     },
     "user_tz": -180
    },
    "id": "sMqK2PTaQ57A",
    "outputId": "ebb54946-0264-4504-9e5c-546d0b161437",
    "tags": []
   },
   "outputs": [
    {
     "data": {
      "application/vnd.jupyter.widget-view+json": {
       "model_id": "2b0788f57f574a1aa81877441d76b3bd",
       "version_major": 2,
       "version_minor": 0
      },
      "text/plain": [
       "VBox()"
      ]
     },
     "metadata": {},
     "output_type": "display_data"
    },
    {
     "data": {
      "application/vnd.jupyter.widget-view+json": {
       "model_id": "",
       "version_major": 2,
       "version_minor": 0
      },
      "text/plain": [
       "FloatProgress(value=0.0, bar_style='info', description='Progress:', layout=Layout(height='25px', width='50%'),…"
      ]
     },
     "metadata": {},
     "output_type": "display_data"
    },
    {
     "name": "stdout",
     "output_type": "stream",
     "text": [
      "root\n",
      " |-- text: string (nullable = true)\n",
      " |-- category: string (nullable = true)\n",
      " |-- sentence_embeddings: array (nullable = true)\n",
      " |    |-- element: struct (containsNull = true)\n",
      " |    |    |-- annotatorType: string (nullable = true)\n",
      " |    |    |-- begin: integer (nullable = false)\n",
      " |    |    |-- end: integer (nullable = false)\n",
      " |    |    |-- result: string (nullable = true)\n",
      " |    |    |-- metadata: map (nullable = true)\n",
      " |    |    |    |-- key: string\n",
      " |    |    |    |-- value: string (valueContainsNull = true)\n",
      " |    |    |-- embeddings: array (nullable = true)\n",
      " |    |    |    |-- element: float (containsNull = false)\n",
      " |-- category_array: array (nullable = false)\n",
      " |    |-- element: string (containsNull = true)\n",
      " |-- prediction: array (nullable = true)\n",
      " |    |-- element: struct (containsNull = true)\n",
      " |    |    |-- annotatorType: string (nullable = true)\n",
      " |    |    |-- begin: integer (nullable = false)\n",
      " |    |    |-- end: integer (nullable = false)\n",
      " |    |    |-- result: string (nullable = true)\n",
      " |    |    |-- metadata: map (nullable = true)\n",
      " |    |    |    |-- key: string\n",
      " |    |    |    |-- value: string (valueContainsNull = true)\n",
      " |    |    |-- embeddings: array (nullable = true)\n",
      " |    |    |    |-- element: float (containsNull = false)\n",
      "\n",
      "+--------------------------------------------------------------------------------------+\n",
      "|prediction                                                                            |\n",
      "+--------------------------------------------------------------------------------------+\n",
      "|[{category, 0, 166, neg, {sentence -> 0, pos -> 0.021725476, neg -> 0.9781736}, []}]  |\n",
      "|[{category, 0, 262, neg, {sentence -> 0, pos -> 0.0019716322, neg -> 0.99804777}, []}]|\n",
      "|[{category, 0, 172, neg, {sentence -> 0, pos -> 0.3879296, neg -> 0.6110594}, []}]    |\n",
      "|[{category, 0, 93, neg, {sentence -> 0, pos -> 0.3173188, neg -> 0.6799346}, []}]     |\n",
      "|[{category, 0, 136, neg, {sentence -> 0, pos -> 0.3725564, neg -> 0.6302144}, []}]    |\n",
      "+--------------------------------------------------------------------------------------+\n",
      "only showing top 5 rows\n",
      "\n",
      "+--------------+-----------------+\n",
      "|category_array|prediction.result|\n",
      "+--------------+-----------------+\n",
      "|[neg]         |[neg]            |\n",
      "|[neg]         |[neg]            |\n",
      "|[neg]         |[neg]            |\n",
      "|[neg]         |[neg]            |\n",
      "|[neg]         |[neg]            |\n",
      "+--------------+-----------------+\n",
      "only showing top 5 rows"
     ]
    }
   ],
   "source": [
    "preds.printSchema()\n",
    "preds.select(preds.prediction).show(5, truncate=False)\n",
    "preds.select(preds.category_array, preds.prediction.result).show(5, truncate=False)"
   ]
  },
  {
   "cell_type": "code",
   "execution_count": 48,
   "metadata": {
    "colab": {
     "base_uri": "https://localhost:8080/"
    },
    "execution": {
     "iopub.execute_input": "2023-09-01T05:08:19.974294Z",
     "iopub.status.busy": "2023-09-01T05:08:19.974065Z",
     "iopub.status.idle": "2023-09-01T05:08:22.366515Z",
     "shell.execute_reply": "2023-09-01T05:08:22.365562Z",
     "shell.execute_reply.started": "2023-09-01T05:08:19.974263Z"
    },
    "executionInfo": {
     "elapsed": 838,
     "status": "ok",
     "timestamp": 1689689751818,
     "user": {
      "displayName": "Ahmet Mesut BİROL",
      "userId": "04340760882990254267"
     },
     "user_tz": -180
    },
    "id": "fdYjuIgznI9H",
    "outputId": "49efe3a4-ce1e-47e6-e0fe-900066ed32aa"
   },
   "outputs": [
    {
     "data": {
      "application/vnd.jupyter.widget-view+json": {
       "model_id": "8467ca0cb3ad43f7837d60af8a93b1ee",
       "version_major": 2,
       "version_minor": 0
      },
      "text/plain": [
       "VBox()"
      ]
     },
     "metadata": {},
     "output_type": "display_data"
    },
    {
     "data": {
      "application/vnd.jupyter.widget-view+json": {
       "model_id": "",
       "version_major": 2,
       "version_minor": 0
      },
      "text/plain": [
       "FloatProgress(value=0.0, bar_style='info', description='Progress:', layout=Layout(height='25px', width='50%'),…"
      ]
     },
     "metadata": {},
     "output_type": "display_data"
    },
    {
     "name": "stdout",
     "output_type": "stream",
     "text": [
      "['neg']           1120\n",
      "['pos']            304\n",
      "['pos', 'neg']       3\n",
      "Name: result, dtype: int64"
     ]
    }
   ],
   "source": [
    "preds_df = preds.select(\"category\",\"text\",\"prediction.result\",\"prediction.metadata\").toPandas()\n",
    "preds_df.result.apply(lambda x: str(x) ).value_counts()"
   ]
  },
  {
   "cell_type": "code",
   "execution_count": 60,
   "metadata": {
    "colab": {
     "base_uri": "https://localhost:8080/",
     "height": 49
    },
    "execution": {
     "iopub.execute_input": "2023-09-01T05:12:55.569415Z",
     "iopub.status.busy": "2023-09-01T05:12:55.569148Z",
     "iopub.status.idle": "2023-09-01T05:12:55.629766Z",
     "shell.execute_reply": "2023-09-01T05:12:55.629037Z",
     "shell.execute_reply.started": "2023-09-01T05:12:55.569383Z"
    },
    "executionInfo": {
     "elapsed": 20,
     "status": "ok",
     "timestamp": 1689689751819,
     "user": {
      "displayName": "Ahmet Mesut BİROL",
      "userId": "04340760882990254267"
     },
     "user_tz": -180
    },
    "id": "s52SZO6k2nu7",
    "outputId": "1be562e4-9d23-44bc-f8fd-f053cefb3cfb",
    "tags": []
   },
   "outputs": [
    {
     "data": {
      "application/vnd.jupyter.widget-view+json": {
       "model_id": "ed35d40c7feb4f8f9c2d4ade2202f457",
       "version_major": 2,
       "version_minor": 0
      },
      "text/plain": [
       "VBox()"
      ]
     },
     "metadata": {},
     "output_type": "display_data"
    },
    {
     "data": {
      "application/vnd.jupyter.widget-view+json": {
       "model_id": "",
       "version_major": 2,
       "version_minor": 0
      },
      "text/plain": [
       "FloatProgress(value=0.0, bar_style='info', description='Progress:', layout=Layout(height='25px', width='50%'),…"
      ]
     },
     "metadata": {},
     "output_type": "display_data"
    },
    {
     "name": "stdout",
     "output_type": "stream",
     "text": [
      "Empty DataFrame\n",
      "Columns: [category, text, result, metadata, scores]\n",
      "Index: []"
     ]
    }
   ],
   "source": [
    "preds_df[preds_df.result.apply(len)==2]"
   ]
  },
  {
   "cell_type": "code",
   "execution_count": 50,
   "metadata": {
    "colab": {
     "base_uri": "https://localhost:8080/",
     "height": 49
    },
    "execution": {
     "iopub.execute_input": "2023-09-01T05:08:22.430950Z",
     "iopub.status.busy": "2023-09-01T05:08:22.430735Z",
     "iopub.status.idle": "2023-09-01T05:08:22.524092Z",
     "shell.execute_reply": "2023-09-01T05:08:22.523356Z",
     "shell.execute_reply.started": "2023-09-01T05:08:22.430921Z"
    },
    "executionInfo": {
     "elapsed": 18,
     "status": "ok",
     "timestamp": 1689689751820,
     "user": {
      "displayName": "Ahmet Mesut BİROL",
      "userId": "04340760882990254267"
     },
     "user_tz": -180
    },
    "id": "F64-vahk3MQn",
    "outputId": "68c4c117-8601-44c1-8411-97585ce6ecab",
    "tags": []
   },
   "outputs": [
    {
     "data": {
      "application/vnd.jupyter.widget-view+json": {
       "model_id": "1209c1b4f26b47478d8b3e3925948b37",
       "version_major": 2,
       "version_minor": 0
      },
      "text/plain": [
       "VBox()"
      ]
     },
     "metadata": {},
     "output_type": "display_data"
    },
    {
     "data": {
      "application/vnd.jupyter.widget-view+json": {
       "model_id": "",
       "version_major": 2,
       "version_minor": 0
      },
      "text/plain": [
       "FloatProgress(value=0.0, bar_style='info', description='Progress:', layout=Layout(height='25px', width='50%'),…"
      ]
     },
     "metadata": {},
     "output_type": "display_data"
    },
    {
     "name": "stdout",
     "output_type": "stream",
     "text": [
      "Empty DataFrame\n",
      "Columns: [category, text, result, metadata]\n",
      "Index: []"
     ]
    }
   ],
   "source": [
    "preds_df[preds_df.result.apply(len)==0]"
   ]
  },
  {
   "cell_type": "markdown",
   "metadata": {
    "id": "yPS9qyw-nYJN"
   },
   "source": [
    "MultiClassifierDL is a multi-label classifier, so some predictions may include both labels or none of the labels. That can be controlled a bit with `.setThreshold()` parameter during training. For now we will keep not keep zero label predictions and get the highest score as prediction."
   ]
  },
  {
   "cell_type": "code",
   "execution_count": 51,
   "metadata": {
    "colab": {
     "base_uri": "https://localhost:8080/"
    },
    "execution": {
     "iopub.execute_input": "2023-09-01T05:08:22.525405Z",
     "iopub.status.busy": "2023-09-01T05:08:22.525187Z",
     "iopub.status.idle": "2023-09-01T05:08:22.603091Z",
     "shell.execute_reply": "2023-09-01T05:08:22.602072Z",
     "shell.execute_reply.started": "2023-09-01T05:08:22.525375Z"
    },
    "executionInfo": {
     "elapsed": 17,
     "status": "ok",
     "timestamp": 1689689751820,
     "user": {
      "displayName": "Ahmet Mesut BİROL",
      "userId": "04340760882990254267"
     },
     "user_tz": -180
    },
    "id": "ZG5XKJVd79vg",
    "outputId": "357df006-c578-4fca-9101-933d8013e295",
    "tags": []
   },
   "outputs": [
    {
     "data": {
      "application/vnd.jupyter.widget-view+json": {
       "model_id": "31d3235150a4430f885eb16bac808023",
       "version_major": 2,
       "version_minor": 0
      },
      "text/plain": [
       "VBox()"
      ]
     },
     "metadata": {},
     "output_type": "display_data"
    },
    {
     "data": {
      "application/vnd.jupyter.widget-view+json": {
       "model_id": "",
       "version_major": 2,
       "version_minor": 0
      },
      "text/plain": [
       "FloatProgress(value=0.0, bar_style='info', description='Progress:', layout=Layout(height='25px', width='50%'),…"
      ]
     },
     "metadata": {},
     "output_type": "display_data"
    },
    {
     "name": "stdout",
     "output_type": "stream",
     "text": [
      "neg    1122\n",
      "pos     305\n",
      "Name: result, dtype: int64"
     ]
    }
   ],
   "source": [
    "# We will get the highest score label as result. You can control the number of zero label results with setThreshold() in the training.\n",
    "preds_df[\"scores\"] = preds_df.metadata.apply(lambda x: {k:float(v) for k,v in x[0].items()} if len(x)>=1 else \"\")\n",
    "preds_df[\"result\"] = preds_df.scores.apply(lambda x: max(x, key=x.get) if len(x)>=1 else \"\")\n",
    "preds_df[\"result\"].value_counts()"
   ]
  },
  {
   "cell_type": "code",
   "execution_count": 52,
   "metadata": {
    "colab": {
     "base_uri": "https://localhost:8080/"
    },
    "execution": {
     "iopub.execute_input": "2023-09-01T05:08:22.604556Z",
     "iopub.status.busy": "2023-09-01T05:08:22.604313Z",
     "iopub.status.idle": "2023-09-01T05:08:23.545692Z",
     "shell.execute_reply": "2023-09-01T05:08:23.544638Z",
     "shell.execute_reply.started": "2023-09-01T05:08:22.604524Z"
    },
    "executionInfo": {
     "elapsed": 458,
     "status": "ok",
     "timestamp": 1689689752267,
     "user": {
      "displayName": "Ahmet Mesut BİROL",
      "userId": "04340760882990254267"
     },
     "user_tz": -180
    },
    "id": "MT8hQSEqQ57A",
    "outputId": "b786e50c-3973-4e05-c004-79829031093f",
    "tags": []
   },
   "outputs": [
    {
     "data": {
      "application/vnd.jupyter.widget-view+json": {
       "model_id": "78edf37a6c7647c5b105d1cbea4ee3a7",
       "version_major": 2,
       "version_minor": 0
      },
      "text/plain": [
       "VBox()"
      ]
     },
     "metadata": {},
     "output_type": "display_data"
    },
    {
     "data": {
      "application/vnd.jupyter.widget-view+json": {
       "model_id": "",
       "version_major": 2,
       "version_minor": 0
      },
      "text/plain": [
       "FloatProgress(value=0.0, bar_style='info', description='Progress:', layout=Layout(height='25px', width='50%'),…"
      ]
     },
     "metadata": {},
     "output_type": "display_data"
    },
    {
     "name": "stdout",
     "output_type": "stream",
     "text": [
      "              precision    recall  f1-score   support\n",
      "\n",
      "         neg       0.81      0.93      0.87       982\n",
      "         pos       0.77      0.53      0.63       445\n",
      "\n",
      "    accuracy                           0.81      1427\n",
      "   macro avg       0.79      0.73      0.75      1427\n",
      "weighted avg       0.80      0.81      0.79      1427"
     ]
    }
   ],
   "source": [
    "res = classification_report(preds_df[\"category\"], preds_df[\"result\"], output_dict=True)\n",
    "results_df.loc[\"MultiClassifierDL_100d\"] = [res[\"pos\"][\"f1-score\"], res[\"accuracy\"]]\n",
    "\n",
    "print (classification_report(preds_df[\"category\"], preds_df[\"result\"]))"
   ]
  },
  {
   "cell_type": "markdown",
   "metadata": {
    "id": "aCf989KwQB3H"
   },
   "source": [
    "### Generic Classifier"
   ]
  },
  {
   "cell_type": "code",
   "execution_count": 53,
   "metadata": {
    "execution": {
     "iopub.execute_input": "2023-09-01T05:08:23.547026Z",
     "iopub.status.busy": "2023-09-01T05:08:23.546805Z",
     "iopub.status.idle": "2023-09-01T05:08:23.967307Z",
     "shell.execute_reply": "2023-09-01T05:08:23.966361Z",
     "shell.execute_reply.started": "2023-09-01T05:08:23.546996Z"
    },
    "tags": []
   },
   "outputs": [],
   "source": [
    "%%sh\n",
    "wget -q -O /tmp/pet.in1202D.out2.pb https://raw.githubusercontent.com/JohnSnowLabs/spark-nlp-workshop/master/tutorials/Certification_Trainings/Healthcare/generic_classifier_graph/pet.in1202D.out2.pb"
   ]
  },
  {
   "cell_type": "code",
   "execution_count": 54,
   "metadata": {
    "execution": {
     "iopub.execute_input": "2023-09-01T05:08:23.969096Z",
     "iopub.status.busy": "2023-09-01T05:08:23.968834Z",
     "iopub.status.idle": "2023-09-01T05:08:26.251392Z",
     "shell.execute_reply": "2023-09-01T05:08:26.250582Z",
     "shell.execute_reply.started": "2023-09-01T05:08:23.969064Z"
    },
    "tags": []
   },
   "outputs": [
    {
     "name": "stderr",
     "output_type": "stream",
     "text": [
      "WARNING: Use of this script to execute dfs is deprecated.\n",
      "WARNING: Attempting to execute replacement \"hdfs dfs\" instead.\n",
      "\n",
      "SLF4J: Class path contains multiple SLF4J bindings.\n",
      "SLF4J: Found binding in [jar:file:/usr/lib/hadoop/lib/slf4j-log4j12-1.7.25.jar!/org/slf4j/impl/StaticLoggerBinder.class]\n",
      "SLF4J: Found binding in [jar:file:/usr/share/aws/emr/emrfs/lib/slf4j-log4j12-1.7.12.jar!/org/slf4j/impl/StaticLoggerBinder.class]\n",
      "SLF4J: See http://www.slf4j.org/codes.html#multiple_bindings for an explanation.\n",
      "SLF4J: Actual binding is of type [org.slf4j.impl.Log4jLoggerFactory]\n"
     ]
    }
   ],
   "source": [
    "%%sh\n",
    "hdfs dfs -copyFromLocal /tmp/pet.in1202D.out2.pb /user/hadoop/pet.in1202D.out2.pb"
   ]
  },
  {
   "cell_type": "code",
   "execution_count": 72,
   "metadata": {
    "execution": {
     "iopub.execute_input": "2023-09-01T05:23:23.215963Z",
     "iopub.status.busy": "2023-09-01T05:23:23.215692Z",
     "iopub.status.idle": "2023-09-01T05:23:25.250829Z",
     "shell.execute_reply": "2023-09-01T05:23:25.250016Z",
     "shell.execute_reply.started": "2023-09-01T05:23:23.215932Z"
    },
    "tags": []
   },
   "outputs": [
    {
     "name": "stderr",
     "output_type": "stream",
     "text": [
      "SLF4J: Class path contains multiple SLF4J bindings.\n",
      "SLF4J: Found binding in [jar:file:/usr/lib/hadoop/lib/slf4j-log4j12-1.7.25.jar!/org/slf4j/impl/StaticLoggerBinder.class]\n",
      "SLF4J: Found binding in [jar:file:/usr/share/aws/emr/emrfs/lib/slf4j-log4j12-1.7.12.jar!/org/slf4j/impl/StaticLoggerBinder.class]\n",
      "SLF4J: See http://www.slf4j.org/codes.html#multiple_bindings for an explanation.\n",
      "SLF4J: Actual binding is of type [org.slf4j.impl.Log4jLoggerFactory]\n"
     ]
    }
   ],
   "source": [
    "%%sh\n",
    "hdfs dfs -mkdir /tmp/gc_graph"
   ]
  },
  {
   "cell_type": "code",
   "execution_count": 65,
   "metadata": {
    "execution": {
     "iopub.execute_input": "2023-09-01T05:20:28.476887Z",
     "iopub.status.busy": "2023-09-01T05:20:28.476596Z",
     "iopub.status.idle": "2023-09-01T05:20:28.539280Z",
     "shell.execute_reply": "2023-09-01T05:20:28.538582Z",
     "shell.execute_reply.started": "2023-09-01T05:20:28.476851Z"
    },
    "id": "N1Z9so_UQB3I",
    "tags": []
   },
   "outputs": [
    {
     "data": {
      "application/vnd.jupyter.widget-view+json": {
       "model_id": "49f92565364b4ec1b71a0a2082977c75",
       "version_major": 2,
       "version_minor": 0
      },
      "text/plain": [
       "VBox()"
      ]
     },
     "metadata": {},
     "output_type": "display_data"
    },
    {
     "data": {
      "application/vnd.jupyter.widget-view+json": {
       "model_id": "",
       "version_major": 2,
       "version_minor": 0
      },
      "text/plain": [
       "FloatProgress(value=0.0, bar_style='info', description='Progress:', layout=Layout(height='25px', width='50%'),…"
      ]
     },
     "metadata": {},
     "output_type": "display_data"
    }
   ],
   "source": [
    "from sparknlp_jsl.annotator import TFGraphBuilder\n",
    "\n",
    "graph_folder = \"/tmp/gc_graph\"\n",
    "\n",
    "gc_graph_builder = TFGraphBuilder()\\\n",
    "    .setModelName(\"generic_classifier\")\\\n",
    "    .setInputCols([\"features\"])\\\n",
    "    .setLabelColumn(\"category\")\\\n",
    "    .setHiddenLayers([300,200, 50])\\\n",
    "    .setHiddenAct(\"tanh\")\\\n",
    "    .setHiddenActL2(True)\\\n",
    "    .setBatchNorm(True)\\\n",
    "    .setGraphFolder(graph_folder)\\\n",
    "    .setGraphFile(\"gcf_graph_100d.pb\")"
   ]
  },
  {
   "cell_type": "markdown",
   "metadata": {
    "tags": []
   },
   "source": [
    "# checkpoint"
   ]
  },
  {
   "cell_type": "markdown",
   "metadata": {
    "id": "_ADlQFAHch6j"
   },
   "source": [
    "GenericClassifier needs outputs from FeaturesAssembler. The FeaturesAssembler is used to collect features from different columns or an embeddings column.\n",
    "\n",
    "The GenericClassifierApproach takes FEATURE_VECTOR annotations as input, classifies them and outputs CATEGORY annotations."
   ]
  },
  {
   "cell_type": "code",
   "execution_count": 66,
   "metadata": {
    "execution": {
     "iopub.execute_input": "2023-09-01T05:20:36.075997Z",
     "iopub.status.busy": "2023-09-01T05:20:36.075717Z",
     "iopub.status.idle": "2023-09-01T05:20:36.334481Z",
     "shell.execute_reply": "2023-09-01T05:20:36.333456Z",
     "shell.execute_reply.started": "2023-09-01T05:20:36.075964Z"
    },
    "id": "f7saGLwvQB3I",
    "tags": []
   },
   "outputs": [
    {
     "data": {
      "application/vnd.jupyter.widget-view+json": {
       "model_id": "e0e5851387564121ab66f816695303a9",
       "version_major": 2,
       "version_minor": 0
      },
      "text/plain": [
       "VBox()"
      ]
     },
     "metadata": {},
     "output_type": "display_data"
    },
    {
     "data": {
      "application/vnd.jupyter.widget-view+json": {
       "model_id": "",
       "version_major": 2,
       "version_minor": 0
      },
      "text/plain": [
       "FloatProgress(value=0.0, bar_style='info', description='Progress:', layout=Layout(height='25px', width='50%'),…"
      ]
     },
     "metadata": {},
     "output_type": "display_data"
    }
   ],
   "source": [
    "features_asm = FeaturesAssembler()\\\n",
    "    .setInputCols([\"sentence_embeddings\"])\\\n",
    "    .setOutputCol(\"features\")\n",
    "\n",
    "gen_clf = GenericClassifierApproach()\\\n",
    "    .setLabelColumn(\"category\")\\\n",
    "    .setInputCols(\"features\")\\\n",
    "    .setOutputCol(\"prediction\")\\\n",
    "    .setModelFile(f\"{graph_folder}/gcf_graph_100d.pb\")\\\n",
    "    .setEpochsNumber(25)\\\n",
    "    .setBatchSize(128)\\\n",
    "    .setLearningRate(0.004)\\\n",
    "    .setOutputLogsPath(log_folder)\\\n",
    "    .setDropout(0.2)\\\n",
    "    .setFixImbalance(True)\\\n",
    "    # .setValidationSplit(0.1)\n",
    "\n",
    "clf_Pipeline = Pipeline(stages=[\n",
    "    features_asm,\n",
    "    gc_graph_builder,\n",
    "    gen_clf])\n",
    "\n"
   ]
  },
  {
   "cell_type": "code",
   "execution_count": 67,
   "metadata": {
    "colab": {
     "base_uri": "https://localhost:8080/"
    },
    "execution": {
     "iopub.execute_input": "2023-09-01T05:20:39.339820Z",
     "iopub.status.busy": "2023-09-01T05:20:39.339554Z",
     "iopub.status.idle": "2023-09-01T05:21:08.692535Z",
     "shell.execute_reply": "2023-09-01T05:21:08.691812Z",
     "shell.execute_reply.started": "2023-09-01T05:20:39.339788Z"
    },
    "executionInfo": {
     "elapsed": 11250,
     "status": "ok",
     "timestamp": 1689689763512,
     "user": {
      "displayName": "Ahmet Mesut BİROL",
      "userId": "04340760882990254267"
     },
     "user_tz": -180
    },
    "id": "oSG7cx7yQB3I",
    "outputId": "2b95ed57-db10-41b8-ff3e-682d969c8961",
    "tags": []
   },
   "outputs": [
    {
     "data": {
      "application/vnd.jupyter.widget-view+json": {
       "model_id": "96c82211e6ef4a0bbef6225f8f8d2327",
       "version_major": 2,
       "version_minor": 0
      },
      "text/plain": [
       "VBox()"
      ]
     },
     "metadata": {},
     "output_type": "display_data"
    },
    {
     "data": {
      "application/vnd.jupyter.widget-view+json": {
       "model_id": "",
       "version_major": 2,
       "version_minor": 0
      },
      "text/plain": [
       "FloatProgress(value=0.0, bar_style='info', description='Progress:', layout=Layout(height='25px', width='50%'),…"
      ]
     },
     "metadata": {},
     "output_type": "display_data"
    },
    {
     "name": "stdout",
     "output_type": "stream",
     "text": [
      "TF Graph Builder configuration:\n",
      "Model name: generic_classifier\n",
      "Graph folder: /tmp/gc_graph\n",
      "Graph file name: gcf_graph_100d.pb\n",
      "Build params: {'input_dim': 100, 'output_dim': 2, 'hidden_layers': [300, 200, 50], 'hidden_act': 'tanh', 'hidden_act_l2': True, 'batch_norm': True}\n",
      "generic_classifier graph exported to /tmp/gc_graph/gcf_graph_100d.pb"
     ]
    }
   ],
   "source": [
    "generic_model_hc100 = clf_Pipeline.fit(trainingData_with_embeddings)"
   ]
  },
  {
   "cell_type": "code",
   "execution_count": 69,
   "metadata": {
    "execution": {
     "iopub.execute_input": "2023-09-01T05:21:56.318233Z",
     "iopub.status.busy": "2023-09-01T05:21:56.317902Z",
     "iopub.status.idle": "2023-09-01T05:21:58.297621Z",
     "shell.execute_reply": "2023-09-01T05:21:58.296741Z",
     "shell.execute_reply.started": "2023-09-01T05:21:56.318198Z"
    },
    "tags": []
   },
   "outputs": [
    {
     "name": "stdout",
     "output_type": "stream",
     "text": [
      "-rw-r--r--   1 livy hdfsadmingroup       1244 2023-09-01 05:21 /tmp/ADE_logs_healthcare_100d/GenericClassifierApproach_a33c8c2d1c70.log\n"
     ]
    },
    {
     "name": "stderr",
     "output_type": "stream",
     "text": [
      "SLF4J: Class path contains multiple SLF4J bindings.\n",
      "SLF4J: Found binding in [jar:file:/usr/lib/hadoop/lib/slf4j-log4j12-1.7.25.jar!/org/slf4j/impl/StaticLoggerBinder.class]\n",
      "SLF4J: Found binding in [jar:file:/usr/share/aws/emr/emrfs/lib/slf4j-log4j12-1.7.12.jar!/org/slf4j/impl/StaticLoggerBinder.class]\n",
      "SLF4J: See http://www.slf4j.org/codes.html#multiple_bindings for an explanation.\n",
      "SLF4J: Actual binding is of type [org.slf4j.impl.Log4jLoggerFactory]\n"
     ]
    }
   ],
   "source": [
    "%%sh\n",
    "hadoop fs -ls /tmp/ADE_logs_healthcare_100d/GenericClassifierApproach_*"
   ]
  },
  {
   "cell_type": "code",
   "execution_count": 70,
   "metadata": {
    "colab": {
     "base_uri": "https://localhost:8080/"
    },
    "execution": {
     "iopub.execute_input": "2023-09-01T05:22:11.579822Z",
     "iopub.status.busy": "2023-09-01T05:22:11.579523Z",
     "iopub.status.idle": "2023-09-01T05:22:13.716331Z",
     "shell.execute_reply": "2023-09-01T05:22:13.715476Z",
     "shell.execute_reply.started": "2023-09-01T05:22:11.579785Z"
    },
    "executionInfo": {
     "elapsed": 27,
     "status": "ok",
     "timestamp": 1689689763513,
     "user": {
      "displayName": "Ahmet Mesut BİROL",
      "userId": "04340760882990254267"
     },
     "user_tz": -180
    },
    "id": "9PSm7rd0QB3I",
    "outputId": "2dbc065f-f7fd-4bf9-869f-eafe1dc27aba",
    "tags": []
   },
   "outputs": [
    {
     "name": "stdout",
     "output_type": "stream",
     "text": [
      "Training 25 epochs\n",
      "Epoch 1/25\t0.33s\tLoss: 11.695651\tACC: 0.63477874\n",
      "Epoch 2/25\t0.11s\tLoss: 9.9073305\tACC: 0.7231955\n",
      "Epoch 3/25\t0.11s\tLoss: 9.622331\tACC: 0.7216435\n",
      "Epoch 4/25\t0.11s\tLoss: 9.681353\tACC: 0.71903276\n",
      "Epoch 5/25\t0.10s\tLoss: 9.264862\tACC: 0.7297717\n",
      "Epoch 6/25\t0.11s\tLoss: 9.152498\tACC: 0.73593354\n",
      "Epoch 7/25\t0.10s\tLoss: 8.780604\tACC: 0.75121003\n",
      "Epoch 8/25\t0.10s\tLoss: 9.110051\tACC: 0.7426018\n",
      "Epoch 9/25\t0.10s\tLoss: 8.797475\tACC: 0.7567143\n",
      "Epoch 10/25\t0.10s\tLoss: 8.8014345\tACC: 0.74650806\n",
      "Epoch 11/25\t0.10s\tLoss: 8.437761\tACC: 0.7709583\n",
      "Epoch 12/25\t0.10s\tLoss: 8.442232\tACC: 0.76595384\n",
      "Epoch 13/25\t0.10s\tLoss: 8.356702\tACC: 0.774687\n",
      "Epoch 14/25\t0.10s\tLoss: 8.395545\tACC: 0.7653225\n",
      "Epoch 15/25\t0.10s\tLoss: 8.446406\tACC: 0.76955104\n",
      "Epoch 16/25\t0.10s\tLoss: 8.423889\tACC: 0.7600024\n",
      "Epoch 17/25\t0.10s\tLoss: 8.152211\tACC: 0.7812566\n",
      "Epoch 18/25\t0.11s\tLoss: 8.054671\tACC: 0.77694917\n",
      "Epoch 19/25\t0.11s\tLoss: 7.924115\tACC: 0.78450525\n",
      "Epoch 20/25\t0.11s\tLoss: 8.114472\tACC: 0.77766603\n",
      "Epoch 21/25\t0.11s\tLoss: 7.898738\tACC: 0.7752657\n",
      "Epoch 22/25\t0.11s\tLoss: 7.797193\tACC: 0.7833018\n",
      "Epoch 23/25\t0.10s\tLoss: 7.770353\tACC: 0.7852089\n",
      "Epoch 24/25\t0.10s\tLoss: 7.748723\tACC: 0.78507733\n",
      "Epoch 25/25\t0.10s\tLoss: 7.6353846\tACC: 0.7962174\n",
      "Training completed.\n"
     ]
    },
    {
     "name": "stderr",
     "output_type": "stream",
     "text": [
      "SLF4J: Class path contains multiple SLF4J bindings.\n",
      "SLF4J: Found binding in [jar:file:/usr/lib/hadoop/lib/slf4j-log4j12-1.7.25.jar!/org/slf4j/impl/StaticLoggerBinder.class]\n",
      "SLF4J: Found binding in [jar:file:/usr/share/aws/emr/emrfs/lib/slf4j-log4j12-1.7.12.jar!/org/slf4j/impl/StaticLoggerBinder.class]\n",
      "SLF4J: See http://www.slf4j.org/codes.html#multiple_bindings for an explanation.\n",
      "SLF4J: Actual binding is of type [org.slf4j.impl.Log4jLoggerFactory]\n"
     ]
    }
   ],
   "source": [
    "%%sh\n",
    "hadoop fs -cat /tmp/ADE_logs_healthcare_100d/GenericClassifierApproach_*"
   ]
  },
  {
   "cell_type": "code",
   "execution_count": 73,
   "metadata": {
    "execution": {
     "iopub.execute_input": "2023-09-01T05:23:36.047613Z",
     "iopub.status.busy": "2023-09-01T05:23:36.047335Z",
     "iopub.status.idle": "2023-09-01T05:23:36.812848Z",
     "shell.execute_reply": "2023-09-01T05:23:36.812166Z",
     "shell.execute_reply.started": "2023-09-01T05:23:36.047578Z"
    },
    "id": "3Sqm6pF95vYX",
    "tags": []
   },
   "outputs": [
    {
     "data": {
      "application/vnd.jupyter.widget-view+json": {
       "model_id": "f53fc478b1c544aba6e3c019a9e4a620",
       "version_major": 2,
       "version_minor": 0
      },
      "text/plain": [
       "VBox()"
      ]
     },
     "metadata": {},
     "output_type": "display_data"
    },
    {
     "data": {
      "application/vnd.jupyter.widget-view+json": {
       "model_id": "",
       "version_major": 2,
       "version_minor": 0
      },
      "text/plain": [
       "FloatProgress(value=0.0, bar_style='info', description='Progress:', layout=Layout(height='25px', width='50%'),…"
      ]
     },
     "metadata": {},
     "output_type": "display_data"
    }
   ],
   "source": [
    "pred_df = generic_model_hc100.transform(testData_with_embeddings)"
   ]
  },
  {
   "cell_type": "code",
   "execution_count": 74,
   "metadata": {
    "colab": {
     "base_uri": "https://localhost:8080/"
    },
    "execution": {
     "iopub.execute_input": "2023-09-01T05:23:39.118023Z",
     "iopub.status.busy": "2023-09-01T05:23:39.117660Z",
     "iopub.status.idle": "2023-09-01T05:23:58.443537Z",
     "shell.execute_reply": "2023-09-01T05:23:58.442842Z",
     "shell.execute_reply.started": "2023-09-01T05:23:39.117975Z"
    },
    "executionInfo": {
     "elapsed": 550,
     "status": "ok",
     "timestamp": 1689689764763,
     "user": {
      "displayName": "Ahmet Mesut BİROL",
      "userId": "04340760882990254267"
     },
     "user_tz": -180
    },
    "id": "EW_Bbcb55xe-",
    "outputId": "0615c0c3-fd80-4436-b337-f3ed03eb6150",
    "tags": []
   },
   "outputs": [
    {
     "data": {
      "application/vnd.jupyter.widget-view+json": {
       "model_id": "9eed76ccb248463db16f34ff1021467c",
       "version_major": 2,
       "version_minor": 0
      },
      "text/plain": [
       "VBox()"
      ]
     },
     "metadata": {},
     "output_type": "display_data"
    },
    {
     "data": {
      "application/vnd.jupyter.widget-view+json": {
       "model_id": "",
       "version_major": 2,
       "version_minor": 0
      },
      "text/plain": [
       "FloatProgress(value=0.0, bar_style='info', description='Progress:', layout=Layout(height='25px', width='50%'),…"
      ]
     },
     "metadata": {},
     "output_type": "display_data"
    },
    {
     "name": "stdout",
     "output_type": "stream",
     "text": [
      "root\n",
      " |-- text: string (nullable = true)\n",
      " |-- category: string (nullable = true)\n",
      " |-- sentence_embeddings: array (nullable = true)\n",
      " |    |-- element: struct (containsNull = true)\n",
      " |    |    |-- annotatorType: string (nullable = true)\n",
      " |    |    |-- begin: integer (nullable = false)\n",
      " |    |    |-- end: integer (nullable = false)\n",
      " |    |    |-- result: string (nullable = true)\n",
      " |    |    |-- metadata: map (nullable = true)\n",
      " |    |    |    |-- key: string\n",
      " |    |    |    |-- value: string (valueContainsNull = true)\n",
      " |    |    |-- embeddings: array (nullable = true)\n",
      " |    |    |    |-- element: float (containsNull = false)\n",
      " |-- category_array: array (nullable = false)\n",
      " |    |-- element: string (containsNull = true)\n",
      " |-- prediction: array (nullable = true)\n",
      " |    |-- element: struct (containsNull = true)\n",
      " |    |    |-- annotatorType: string (nullable = true)\n",
      " |    |    |-- begin: integer (nullable = false)\n",
      " |    |    |-- end: integer (nullable = false)\n",
      " |    |    |-- result: string (nullable = true)\n",
      " |    |    |-- metadata: map (nullable = true)\n",
      " |    |    |    |-- key: string\n",
      " |    |    |    |-- value: string (valueContainsNull = true)\n",
      " |    |    |-- embeddings: array (nullable = true)\n",
      " |    |    |    |-- element: float (containsNull = false)\n",
      "\n",
      "+--------------------------------------------------------------------------------------+\n",
      "|prediction                                                                            |\n",
      "+--------------------------------------------------------------------------------------+\n",
      "|[{category, 0, 166, neg, {sentence -> 0, pos -> 0.021725476, neg -> 0.9781736}, []}]  |\n",
      "|[{category, 0, 262, neg, {sentence -> 0, pos -> 0.0019716322, neg -> 0.99804777}, []}]|\n",
      "|[{category, 0, 172, neg, {sentence -> 0, pos -> 0.3879296, neg -> 0.6110594}, []}]    |\n",
      "|[{category, 0, 93, neg, {sentence -> 0, pos -> 0.3173188, neg -> 0.6799346}, []}]     |\n",
      "|[{category, 0, 136, neg, {sentence -> 0, pos -> 0.3725564, neg -> 0.6302144}, []}]    |\n",
      "+--------------------------------------------------------------------------------------+\n",
      "only showing top 5 rows\n",
      "\n",
      "+--------+-----------------+\n",
      "|category|prediction.result|\n",
      "+--------+-----------------+\n",
      "|neg     |[neg]            |\n",
      "|neg     |[neg]            |\n",
      "|neg     |[neg]            |\n",
      "|neg     |[neg]            |\n",
      "|neg     |[neg]            |\n",
      "+--------+-----------------+\n",
      "only showing top 5 rows"
     ]
    }
   ],
   "source": [
    "preds.printSchema()\n",
    "preds.select(preds.prediction).show(5, truncate=False)\n",
    "preds.select(preds.category, preds.prediction.result).show(5, truncate=False)"
   ]
  },
  {
   "cell_type": "code",
   "execution_count": 75,
   "metadata": {
    "colab": {
     "base_uri": "https://localhost:8080/"
    },
    "execution": {
     "iopub.execute_input": "2023-09-01T05:24:14.121775Z",
     "iopub.status.busy": "2023-09-01T05:24:14.121503Z",
     "iopub.status.idle": "2023-09-01T05:24:15.388754Z",
     "shell.execute_reply": "2023-09-01T05:24:15.387997Z",
     "shell.execute_reply.started": "2023-09-01T05:24:14.121743Z"
    },
    "executionInfo": {
     "elapsed": 609,
     "status": "ok",
     "timestamp": 1689689765367,
     "user": {
      "displayName": "Ahmet Mesut BİROL",
      "userId": "04340760882990254267"
     },
     "user_tz": -180
    },
    "id": "NHCBTwrmQB3I",
    "outputId": "3008c63d-b49a-4197-dafe-0f288fdf5952",
    "tags": []
   },
   "outputs": [
    {
     "data": {
      "application/vnd.jupyter.widget-view+json": {
       "model_id": "a36c32e2bd284f3cbf66fd258c807c7e",
       "version_major": 2,
       "version_minor": 0
      },
      "text/plain": [
       "VBox()"
      ]
     },
     "metadata": {},
     "output_type": "display_data"
    },
    {
     "data": {
      "application/vnd.jupyter.widget-view+json": {
       "model_id": "",
       "version_major": 2,
       "version_minor": 0
      },
      "text/plain": [
       "FloatProgress(value=0.0, bar_style='info', description='Progress:', layout=Layout(height='25px', width='50%'),…"
      ]
     },
     "metadata": {},
     "output_type": "display_data"
    },
    {
     "name": "stdout",
     "output_type": "stream",
     "text": [
      "              precision    recall  f1-score   support\n",
      "\n",
      "         neg       0.92      0.72      0.81       982\n",
      "         pos       0.58      0.86      0.70       445\n",
      "\n",
      "    accuracy                           0.77      1427\n",
      "   macro avg       0.75      0.79      0.75      1427\n",
      "weighted avg       0.81      0.77      0.77      1427"
     ]
    }
   ],
   "source": [
    "preds_df = pred_df.select('category','prediction.result').toPandas()\n",
    "preds_df['result'] = preds_df.result.apply(lambda x : x[0])\n",
    "\n",
    "print(classification_report(preds_df['category'], preds_df['result']))"
   ]
  },
  {
   "cell_type": "code",
   "execution_count": 76,
   "metadata": {
    "execution": {
     "iopub.execute_input": "2023-09-01T05:24:16.375845Z",
     "iopub.status.busy": "2023-09-01T05:24:16.375567Z",
     "iopub.status.idle": "2023-09-01T05:24:16.651143Z",
     "shell.execute_reply": "2023-09-01T05:24:16.650272Z",
     "shell.execute_reply.started": "2023-09-01T05:24:16.375811Z"
    },
    "id": "t_LmCl2rXNu9",
    "tags": []
   },
   "outputs": [
    {
     "data": {
      "application/vnd.jupyter.widget-view+json": {
       "model_id": "6ce10abd67d34b97b075f95a6c16cf51",
       "version_major": 2,
       "version_minor": 0
      },
      "text/plain": [
       "VBox()"
      ]
     },
     "metadata": {},
     "output_type": "display_data"
    },
    {
     "data": {
      "application/vnd.jupyter.widget-view+json": {
       "model_id": "",
       "version_major": 2,
       "version_minor": 0
      },
      "text/plain": [
       "FloatProgress(value=0.0, bar_style='info', description='Progress:', layout=Layout(height='25px', width='50%'),…"
      ]
     },
     "metadata": {},
     "output_type": "display_data"
    }
   ],
   "source": [
    "res = classification_report(preds_df[\"category\"], preds_df[\"result\"], output_dict=True)\n",
    "results_df.loc[\"GenericClassifier_100d\"] = [res[\"pos\"][\"f1-score\"], res[\"accuracy\"]]"
   ]
  },
  {
   "cell_type": "code",
   "execution_count": 77,
   "metadata": {
    "execution": {
     "iopub.execute_input": "2023-09-01T05:24:19.923666Z",
     "iopub.status.busy": "2023-09-01T05:24:19.923385Z",
     "iopub.status.idle": "2023-09-01T05:24:20.841981Z",
     "shell.execute_reply": "2023-09-01T05:24:20.841289Z",
     "shell.execute_reply.started": "2023-09-01T05:24:19.923632Z"
    },
    "tags": []
   },
   "outputs": [
    {
     "data": {
      "application/vnd.jupyter.widget-view+json": {
       "model_id": "",
       "version_major": 2,
       "version_minor": 0
      },
      "text/plain": [
       "FloatProgress(value=0.0, bar_style='info', description='Progress:', layout=Layout(height='25px', width='50%'),…"
      ]
     },
     "metadata": {},
     "output_type": "display_data"
    },
    {
     "data": {
      "application/vnd.jupyter.widget-view+json": {
       "model_id": "a5d5f7b3216548b4b79835634126bcfe",
       "version_major": 2,
       "version_minor": 0
      },
      "text/plain": [
       "VBox(children=(HBox(children=(HTML(value='Type:'), Button(description='Table', layout=Layout(width='70px'), st…"
      ]
     },
     "metadata": {},
     "output_type": "display_data"
    },
    {
     "data": {
      "application/vnd.jupyter.widget-view+json": {
       "model_id": "6aeee6da137049ecb1800a8434c4cccb",
       "version_major": 2,
       "version_minor": 0
      },
      "text/plain": [
       "Output()"
      ]
     },
     "metadata": {},
     "output_type": "display_data"
    }
   ],
   "source": [
    "%%display\n",
    "spark.createDataFrame(results_df)"
   ]
  },
  {
   "cell_type": "markdown",
   "metadata": {
    "id": "moyOD1bWPnBR"
   },
   "source": [
    "### GenericLogRegClassifier"
   ]
  },
  {
   "cell_type": "code",
   "execution_count": 78,
   "metadata": {
    "execution": {
     "iopub.execute_input": "2023-09-01T05:24:35.093685Z",
     "iopub.status.busy": "2023-09-01T05:24:35.093454Z",
     "iopub.status.idle": "2023-09-01T05:24:35.156506Z",
     "shell.execute_reply": "2023-09-01T05:24:35.155751Z",
     "shell.execute_reply.started": "2023-09-01T05:24:35.093653Z"
    },
    "id": "DfbdLp5ZPnBR",
    "tags": []
   },
   "outputs": [
    {
     "data": {
      "application/vnd.jupyter.widget-view+json": {
       "model_id": "34495004c871452d90b793e544f59544",
       "version_major": 2,
       "version_minor": 0
      },
      "text/plain": [
       "VBox()"
      ]
     },
     "metadata": {},
     "output_type": "display_data"
    },
    {
     "data": {
      "application/vnd.jupyter.widget-view+json": {
       "model_id": "",
       "version_major": 2,
       "version_minor": 0
      },
      "text/plain": [
       "FloatProgress(value=0.0, bar_style='info', description='Progress:', layout=Layout(height='25px', width='50%'),…"
      ]
     },
     "metadata": {},
     "output_type": "display_data"
    }
   ],
   "source": [
    "from sparknlp_jsl.annotator import TFGraphBuilder\n",
    "\n",
    "graph_folder = \"gc_graph\"\n",
    "\n",
    "gc_logreg_graph_builder = TFGraphBuilder()\\\n",
    "    .setModelName(\"logreg_classifier\")\\\n",
    "    .setInputCols([\"feature_vector\"]) \\\n",
    "    .setLabelColumn(\"category\")\\\n",
    "    .setGraphFolder(graph_folder)\\\n",
    "    .setGraphFile(\"log_reg_graph.pb\")"
   ]
  },
  {
   "cell_type": "markdown",
   "metadata": {
    "id": "nF-VGSTbPnBS"
   },
   "source": [
    "GenericLogRegClassifier needs outputs from FeaturesAssembler. The FeaturesAssembler is used to collect features from different columns or an embeddings column.\n",
    "\n",
    "The GenericLogRegClassifier takes FEATURE_VECTOR annotations as input, classifies them and outputs CATEGORY annotations."
   ]
  },
  {
   "cell_type": "code",
   "execution_count": 79,
   "metadata": {
    "execution": {
     "iopub.execute_input": "2023-09-01T05:24:35.158190Z",
     "iopub.status.busy": "2023-09-01T05:24:35.157938Z",
     "iopub.status.idle": "2023-09-01T05:24:36.640882Z",
     "shell.execute_reply": "2023-09-01T05:24:36.638925Z",
     "shell.execute_reply.started": "2023-09-01T05:24:35.158158Z"
    },
    "id": "RrPR_-6kPnBS",
    "tags": []
   },
   "outputs": [
    {
     "data": {
      "application/vnd.jupyter.widget-view+json": {
       "model_id": "c804bdb98dc54a79870387b1d37056bd",
       "version_major": 2,
       "version_minor": 0
      },
      "text/plain": [
       "VBox()"
      ]
     },
     "metadata": {},
     "output_type": "display_data"
    },
    {
     "data": {
      "application/vnd.jupyter.widget-view+json": {
       "model_id": "",
       "version_major": 2,
       "version_minor": 0
      },
      "text/plain": [
       "FloatProgress(value=0.0, bar_style='info', description='Progress:', layout=Layout(height='25px', width='50%'),…"
      ]
     },
     "metadata": {},
     "output_type": "display_data"
    }
   ],
   "source": [
    "features_asm = FeaturesAssembler()\\\n",
    "    .setInputCols([\"sentence_embeddings\"])\\\n",
    "    .setOutputCol(\"feature_vector\")\n",
    "\n",
    "gen_clf = GenericLogRegClassifierApproach()\\\n",
    "    .setLabelColumn(\"category\")\\\n",
    "    .setInputCols(\"feature_vector\")\\\n",
    "    .setOutputCol(\"prediction\")\\\n",
    "    .setModelFile(f\"{graph_folder}/log_reg_graph.pb\")\\\n",
    "    .setEpochsNumber(20)\\\n",
    "    .setBatchSize(128)\\\n",
    "    .setLearningRate(0.01)\\\n",
    "    .setOutputLogsPath(log_folder)\\\n",
    "    .setDropout(0.1)\\\n",
    "    .setFixImbalance(True)\\\n",
    "    # .setValidationSplit(0.1)\n",
    "\n",
    "clf_Pipeline = Pipeline(stages=[\n",
    "    features_asm,\n",
    "    gc_logreg_graph_builder,\n",
    "    gen_clf])\n"
   ]
  },
  {
   "cell_type": "code",
   "execution_count": 80,
   "metadata": {
    "colab": {
     "base_uri": "https://localhost:8080/"
    },
    "execution": {
     "iopub.execute_input": "2023-09-01T05:24:48.694259Z",
     "iopub.status.busy": "2023-09-01T05:24:48.693907Z",
     "iopub.status.idle": "2023-09-01T05:24:55.997960Z",
     "shell.execute_reply": "2023-09-01T05:24:55.997210Z",
     "shell.execute_reply.started": "2023-09-01T05:24:48.694207Z"
    },
    "executionInfo": {
     "elapsed": 3078,
     "status": "ok",
     "timestamp": 1689689768441,
     "user": {
      "displayName": "Ahmet Mesut BİROL",
      "userId": "04340760882990254267"
     },
     "user_tz": -180
    },
    "id": "JvS4gi_sPnBS",
    "outputId": "cdd8a60d-0d45-4d34-bf2b-fbf04a32d391",
    "tags": []
   },
   "outputs": [
    {
     "data": {
      "application/vnd.jupyter.widget-view+json": {
       "model_id": "b5b5865751a348d894404cb06c545bc8",
       "version_major": 2,
       "version_minor": 0
      },
      "text/plain": [
       "VBox()"
      ]
     },
     "metadata": {},
     "output_type": "display_data"
    },
    {
     "data": {
      "application/vnd.jupyter.widget-view+json": {
       "model_id": "",
       "version_major": 2,
       "version_minor": 0
      },
      "text/plain": [
       "FloatProgress(value=0.0, bar_style='info', description='Progress:', layout=Layout(height='25px', width='50%'),…"
      ]
     },
     "metadata": {},
     "output_type": "display_data"
    },
    {
     "name": "stdout",
     "output_type": "stream",
     "text": [
      "TF Graph Builder configuration:\n",
      "Model name: logreg_classifier\n",
      "Graph folder: gc_graph\n",
      "Graph file name: log_reg_graph.pb\n",
      "Build params: {'input_dim': 100, 'output_dim': 2, 'hidden_layers': [], 'output_act': 'sigmoid'}\n",
      "logreg_classifier graph exported to gc_graph/log_reg_graph.pb"
     ]
    }
   ],
   "source": [
    "generic_model_hc100 = clf_Pipeline.fit(trainingData_with_embeddings)"
   ]
  },
  {
   "cell_type": "code",
   "execution_count": 81,
   "metadata": {
    "colab": {
     "base_uri": "https://localhost:8080/"
    },
    "execution": {
     "iopub.execute_input": "2023-09-01T05:24:55.999437Z",
     "iopub.status.busy": "2023-09-01T05:24:55.999223Z",
     "iopub.status.idle": "2023-09-01T05:24:58.134569Z",
     "shell.execute_reply": "2023-09-01T05:24:58.133625Z",
     "shell.execute_reply.started": "2023-09-01T05:24:55.999408Z"
    },
    "executionInfo": {
     "elapsed": 16,
     "status": "ok",
     "timestamp": 1689689768442,
     "user": {
      "displayName": "Ahmet Mesut BİROL",
      "userId": "04340760882990254267"
     },
     "user_tz": -180
    },
    "id": "Kj-r_R-_PnBT",
    "outputId": "51eae83a-58da-414c-cd3f-eb08456aa2af",
    "tags": []
   },
   "outputs": [
    {
     "name": "stdout",
     "output_type": "stream",
     "text": [
      "Training 20 epochs\n",
      "Epoch 1/20\t0.12s\tLoss: 26.117697\tACC: 0.7033157\n",
      "Epoch 2/20\t0.04s\tLoss: 24.415691\tACC: 0.7176123\n",
      "Epoch 3/20\t0.04s\tLoss: 23.327072\tACC: 0.7284828\n",
      "Epoch 4/20\t0.04s\tLoss: 22.709171\tACC: 0.7401489\n",
      "Epoch 5/20\t0.05s\tLoss: 22.515799\tACC: 0.7398924\n",
      "Epoch 6/20\t0.04s\tLoss: 22.305206\tACC: 0.7501447\n",
      "Epoch 7/20\t0.05s\tLoss: 22.293074\tACC: 0.74491006\n",
      "Epoch 8/20\t0.04s\tLoss: 21.983974\tACC: 0.7458439\n",
      "Epoch 9/20\t0.04s\tLoss: 21.70054\tACC: 0.75631315\n",
      "Epoch 10/20\t0.04s\tLoss: 21.716377\tACC: 0.7541891\n",
      "Epoch 11/20\t0.04s\tLoss: 21.55655\tACC: 0.75507027\n",
      "Epoch 12/20\t0.04s\tLoss: 21.634256\tACC: 0.7591541\n",
      "Epoch 13/20\t0.04s\tLoss: 21.356678\tACC: 0.75835174\n",
      "Epoch 14/20\t0.04s\tLoss: 21.35975\tACC: 0.7615478\n",
      "Epoch 15/20\t0.04s\tLoss: 21.41563\tACC: 0.75427455\n",
      "Epoch 16/20\t0.03s\tLoss: 21.473177\tACC: 0.75596464\n",
      "Epoch 17/20\t0.03s\tLoss: 21.556063\tACC: 0.7541891\n",
      "Epoch 18/20\t0.03s\tLoss: 21.246853\tACC: 0.76354694\n",
      "Epoch 19/20\t0.03s\tLoss: 21.287205\tACC: 0.7578257\n",
      "Epoch 20/20\t0.04s\tLoss: 21.203638\tACC: 0.7605745\n",
      "Training completed.\n"
     ]
    },
    {
     "name": "stderr",
     "output_type": "stream",
     "text": [
      "SLF4J: Class path contains multiple SLF4J bindings.\n",
      "SLF4J: Found binding in [jar:file:/usr/lib/hadoop/lib/slf4j-log4j12-1.7.25.jar!/org/slf4j/impl/StaticLoggerBinder.class]\n",
      "SLF4J: Found binding in [jar:file:/usr/share/aws/emr/emrfs/lib/slf4j-log4j12-1.7.12.jar!/org/slf4j/impl/StaticLoggerBinder.class]\n",
      "SLF4J: See http://www.slf4j.org/codes.html#multiple_bindings for an explanation.\n",
      "SLF4J: Actual binding is of type [org.slf4j.impl.Log4jLoggerFactory]\n"
     ]
    }
   ],
   "source": [
    "%%sh\n",
    "hadoop fs -cat /tmp/ADE_logs_healthcare_100d/GenericLogRegClassifierApproach*"
   ]
  },
  {
   "cell_type": "code",
   "execution_count": 82,
   "metadata": {
    "execution": {
     "iopub.execute_input": "2023-09-01T05:29:39.132118Z",
     "iopub.status.busy": "2023-09-01T05:29:39.131838Z",
     "iopub.status.idle": "2023-09-01T05:29:54.575211Z",
     "shell.execute_reply": "2023-09-01T05:29:54.574476Z",
     "shell.execute_reply.started": "2023-09-01T05:29:39.132083Z"
    },
    "id": "9acpNGeCPnBT",
    "tags": []
   },
   "outputs": [
    {
     "data": {
      "application/vnd.jupyter.widget-view+json": {
       "model_id": "8de4285a5a194ecf993047d1bcb8fc66",
       "version_major": 2,
       "version_minor": 0
      },
      "text/plain": [
       "VBox()"
      ]
     },
     "metadata": {},
     "output_type": "display_data"
    },
    {
     "data": {
      "application/vnd.jupyter.widget-view+json": {
       "model_id": "",
       "version_major": 2,
       "version_minor": 0
      },
      "text/plain": [
       "FloatProgress(value=0.0, bar_style='info', description='Progress:', layout=Layout(height='25px', width='50%'),…"
      ]
     },
     "metadata": {},
     "output_type": "display_data"
    }
   ],
   "source": [
    "pred_df = generic_model_hc100.transform(testData_with_embeddings)"
   ]
  },
  {
   "cell_type": "code",
   "execution_count": 83,
   "metadata": {
    "colab": {
     "base_uri": "https://localhost:8080/"
    },
    "execution": {
     "iopub.execute_input": "2023-09-01T05:29:54.576587Z",
     "iopub.status.busy": "2023-09-01T05:29:54.576372Z",
     "iopub.status.idle": "2023-09-01T05:30:13.909622Z",
     "shell.execute_reply": "2023-09-01T05:30:13.908785Z",
     "shell.execute_reply.started": "2023-09-01T05:29:54.576557Z"
    },
    "executionInfo": {
     "elapsed": 13,
     "status": "ok",
     "timestamp": 1689689769245,
     "user": {
      "displayName": "Ahmet Mesut BİROL",
      "userId": "04340760882990254267"
     },
     "user_tz": -180
    },
    "id": "jxk_78fcPnBT",
    "outputId": "4681e6dc-ec09-4959-8f72-4946fb6322a0",
    "tags": []
   },
   "outputs": [
    {
     "data": {
      "application/vnd.jupyter.widget-view+json": {
       "model_id": "cc23c1fa120248d9bf16b6bc14e782cc",
       "version_major": 2,
       "version_minor": 0
      },
      "text/plain": [
       "VBox()"
      ]
     },
     "metadata": {},
     "output_type": "display_data"
    },
    {
     "data": {
      "application/vnd.jupyter.widget-view+json": {
       "model_id": "",
       "version_major": 2,
       "version_minor": 0
      },
      "text/plain": [
       "FloatProgress(value=0.0, bar_style='info', description='Progress:', layout=Layout(height='25px', width='50%'),…"
      ]
     },
     "metadata": {},
     "output_type": "display_data"
    },
    {
     "name": "stdout",
     "output_type": "stream",
     "text": [
      "root\n",
      " |-- text: string (nullable = true)\n",
      " |-- category: string (nullable = true)\n",
      " |-- sentence_embeddings: array (nullable = true)\n",
      " |    |-- element: struct (containsNull = true)\n",
      " |    |    |-- annotatorType: string (nullable = true)\n",
      " |    |    |-- begin: integer (nullable = false)\n",
      " |    |    |-- end: integer (nullable = false)\n",
      " |    |    |-- result: string (nullable = true)\n",
      " |    |    |-- metadata: map (nullable = true)\n",
      " |    |    |    |-- key: string\n",
      " |    |    |    |-- value: string (valueContainsNull = true)\n",
      " |    |    |-- embeddings: array (nullable = true)\n",
      " |    |    |    |-- element: float (containsNull = false)\n",
      " |-- category_array: array (nullable = false)\n",
      " |    |-- element: string (containsNull = true)\n",
      " |-- prediction: array (nullable = true)\n",
      " |    |-- element: struct (containsNull = true)\n",
      " |    |    |-- annotatorType: string (nullable = true)\n",
      " |    |    |-- begin: integer (nullable = false)\n",
      " |    |    |-- end: integer (nullable = false)\n",
      " |    |    |-- result: string (nullable = true)\n",
      " |    |    |-- metadata: map (nullable = true)\n",
      " |    |    |    |-- key: string\n",
      " |    |    |    |-- value: string (valueContainsNull = true)\n",
      " |    |    |-- embeddings: array (nullable = true)\n",
      " |    |    |    |-- element: float (containsNull = false)\n",
      "\n",
      "+--------------------------------------------------------------------------------------+\n",
      "|prediction                                                                            |\n",
      "+--------------------------------------------------------------------------------------+\n",
      "|[{category, 0, 166, neg, {sentence -> 0, pos -> 0.021725476, neg -> 0.9781736}, []}]  |\n",
      "|[{category, 0, 262, neg, {sentence -> 0, pos -> 0.0019716322, neg -> 0.99804777}, []}]|\n",
      "|[{category, 0, 172, neg, {sentence -> 0, pos -> 0.3879296, neg -> 0.6110594}, []}]    |\n",
      "|[{category, 0, 93, neg, {sentence -> 0, pos -> 0.3173188, neg -> 0.6799346}, []}]     |\n",
      "|[{category, 0, 136, neg, {sentence -> 0, pos -> 0.3725564, neg -> 0.6302144}, []}]    |\n",
      "+--------------------------------------------------------------------------------------+\n",
      "only showing top 5 rows\n",
      "\n",
      "+--------+-----------------+\n",
      "|category|prediction.result|\n",
      "+--------+-----------------+\n",
      "|neg     |[neg]            |\n",
      "|neg     |[neg]            |\n",
      "|neg     |[neg]            |\n",
      "|neg     |[neg]            |\n",
      "|neg     |[neg]            |\n",
      "+--------+-----------------+\n",
      "only showing top 5 rows"
     ]
    }
   ],
   "source": [
    "preds.printSchema()\n",
    "preds.select(preds.prediction).show(5, truncate=False)\n",
    "preds.select(preds.category, preds.prediction.result).show(5, truncate=False)"
   ]
  },
  {
   "cell_type": "code",
   "execution_count": 84,
   "metadata": {
    "colab": {
     "base_uri": "https://localhost:8080/"
    },
    "execution": {
     "iopub.execute_input": "2023-09-01T05:30:13.911305Z",
     "iopub.status.busy": "2023-09-01T05:30:13.911087Z",
     "iopub.status.idle": "2023-09-01T05:30:15.177916Z",
     "shell.execute_reply": "2023-09-01T05:30:15.176982Z",
     "shell.execute_reply.started": "2023-09-01T05:30:13.911275Z"
    },
    "executionInfo": {
     "elapsed": 879,
     "status": "ok",
     "timestamp": 1689689770120,
     "user": {
      "displayName": "Ahmet Mesut BİROL",
      "userId": "04340760882990254267"
     },
     "user_tz": -180
    },
    "id": "iF3ut5msPnBT",
    "outputId": "b6b3bb7a-4e26-4a63-abd9-9ee2f2bd34de",
    "tags": []
   },
   "outputs": [
    {
     "data": {
      "application/vnd.jupyter.widget-view+json": {
       "model_id": "397932d8b0674564a9f4a90005c7d8c0",
       "version_major": 2,
       "version_minor": 0
      },
      "text/plain": [
       "VBox()"
      ]
     },
     "metadata": {},
     "output_type": "display_data"
    },
    {
     "data": {
      "application/vnd.jupyter.widget-view+json": {
       "model_id": "",
       "version_major": 2,
       "version_minor": 0
      },
      "text/plain": [
       "FloatProgress(value=0.0, bar_style='info', description='Progress:', layout=Layout(height='25px', width='50%'),…"
      ]
     },
     "metadata": {},
     "output_type": "display_data"
    },
    {
     "name": "stdout",
     "output_type": "stream",
     "text": [
      "              precision    recall  f1-score   support\n",
      "\n",
      "         neg       0.75      0.94      0.84       982\n",
      "         pos       0.71      0.31      0.43       445\n",
      "\n",
      "    accuracy                           0.74      1427\n",
      "   macro avg       0.73      0.63      0.63      1427\n",
      "weighted avg       0.74      0.74      0.71      1427"
     ]
    }
   ],
   "source": [
    "preds_df = pred_df.select('category','prediction.result').toPandas()\n",
    "preds_df['result'] = preds_df.result.apply(lambda x : x[0])\n",
    "\n",
    "print (classification_report(preds_df['category'], preds_df['result']))"
   ]
  },
  {
   "cell_type": "code",
   "execution_count": 85,
   "metadata": {
    "execution": {
     "iopub.execute_input": "2023-09-01T05:30:15.179692Z",
     "iopub.status.busy": "2023-09-01T05:30:15.179360Z",
     "iopub.status.idle": "2023-09-01T05:30:15.593634Z",
     "shell.execute_reply": "2023-09-01T05:30:15.592851Z",
     "shell.execute_reply.started": "2023-09-01T05:30:15.179646Z"
    },
    "id": "KMh2w2ixXm0B",
    "tags": []
   },
   "outputs": [
    {
     "data": {
      "application/vnd.jupyter.widget-view+json": {
       "model_id": "c80dbed0494e4c56badf9b9fd79dadd6",
       "version_major": 2,
       "version_minor": 0
      },
      "text/plain": [
       "VBox()"
      ]
     },
     "metadata": {},
     "output_type": "display_data"
    },
    {
     "data": {
      "application/vnd.jupyter.widget-view+json": {
       "model_id": "",
       "version_major": 2,
       "version_minor": 0
      },
      "text/plain": [
       "FloatProgress(value=0.0, bar_style='info', description='Progress:', layout=Layout(height='25px', width='50%'),…"
      ]
     },
     "metadata": {},
     "output_type": "display_data"
    }
   ],
   "source": [
    "res = classification_report(preds_df[\"category\"], preds_df[\"result\"], output_dict=True)\n",
    "results_df.loc[\"GenericLogReg_100d\"] = [res[\"pos\"][\"f1-score\"], res[\"accuracy\"]]"
   ]
  },
  {
   "cell_type": "markdown",
   "metadata": {
    "id": "kGx7LiTFUytq"
   },
   "source": [
    "### GenericSVMClassifier"
   ]
  },
  {
   "cell_type": "code",
   "execution_count": 86,
   "metadata": {
    "execution": {
     "iopub.execute_input": "2023-09-01T05:30:30.617394Z",
     "iopub.status.busy": "2023-09-01T05:30:30.617119Z",
     "iopub.status.idle": "2023-09-01T05:30:30.672153Z",
     "shell.execute_reply": "2023-09-01T05:30:30.671201Z",
     "shell.execute_reply.started": "2023-09-01T05:30:30.617362Z"
    },
    "id": "QQxZi5VjUytq",
    "tags": []
   },
   "outputs": [
    {
     "data": {
      "application/vnd.jupyter.widget-view+json": {
       "model_id": "bd5d9644fa7d4476b338c05c08cd00f2",
       "version_major": 2,
       "version_minor": 0
      },
      "text/plain": [
       "VBox()"
      ]
     },
     "metadata": {},
     "output_type": "display_data"
    },
    {
     "data": {
      "application/vnd.jupyter.widget-view+json": {
       "model_id": "",
       "version_major": 2,
       "version_minor": 0
      },
      "text/plain": [
       "FloatProgress(value=0.0, bar_style='info', description='Progress:', layout=Layout(height='25px', width='50%'),…"
      ]
     },
     "metadata": {},
     "output_type": "display_data"
    }
   ],
   "source": [
    "from sparknlp_jsl.annotator import TFGraphBuilder\n",
    "\n",
    "graph_folder = \"gc_graph\"\n",
    "\n",
    "gc_svm_graph_builder = TFGraphBuilder()\\\n",
    "    .setModelName(\"svm_classifier\")\\\n",
    "    .setInputCols([\"feature_vector\"]) \\\n",
    "    .setLabelColumn(\"category\")\\\n",
    "    .setGraphFolder(graph_folder)\\\n",
    "    .setGraphFile(\"svm_graph.pb\")"
   ]
  },
  {
   "cell_type": "markdown",
   "metadata": {
    "id": "HCczHJ9EUytq"
   },
   "source": [
    "GenericSVMClassifier needs outputs from FeaturesAssembler. The FeaturesAssembler is used to collect features from different columns or an embeddings column.\n",
    "\n",
    "The GenericSVMClassifier takes FEATURE_VECTOR annotations as input, classifies them and outputs CATEGORY annotations."
   ]
  },
  {
   "cell_type": "code",
   "execution_count": 87,
   "metadata": {
    "execution": {
     "iopub.execute_input": "2023-09-01T05:30:32.979566Z",
     "iopub.status.busy": "2023-09-01T05:30:32.979306Z",
     "iopub.status.idle": "2023-09-01T05:30:33.033880Z",
     "shell.execute_reply": "2023-09-01T05:30:33.033208Z",
     "shell.execute_reply.started": "2023-09-01T05:30:32.979534Z"
    },
    "id": "iLlsBDJjUytq",
    "tags": []
   },
   "outputs": [
    {
     "data": {
      "application/vnd.jupyter.widget-view+json": {
       "model_id": "a941995a54ad4ece8e4a8eca9ddca4bd",
       "version_major": 2,
       "version_minor": 0
      },
      "text/plain": [
       "VBox()"
      ]
     },
     "metadata": {},
     "output_type": "display_data"
    },
    {
     "data": {
      "application/vnd.jupyter.widget-view+json": {
       "model_id": "",
       "version_major": 2,
       "version_minor": 0
      },
      "text/plain": [
       "FloatProgress(value=0.0, bar_style='info', description='Progress:', layout=Layout(height='25px', width='50%'),…"
      ]
     },
     "metadata": {},
     "output_type": "display_data"
    }
   ],
   "source": [
    "features_asm = FeaturesAssembler()\\\n",
    "    .setInputCols([\"sentence_embeddings\"])\\\n",
    "    .setOutputCol(\"feature_vector\")\n",
    "\n",
    "gen_clf = GenericSVMClassifierApproach()\\\n",
    "    .setLabelColumn(\"category\")\\\n",
    "    .setInputCols(\"feature_vector\")\\\n",
    "    .setOutputCol(\"prediction\")\\\n",
    "    .setModelFile(f\"{graph_folder}/svm_graph.pb\")\\\n",
    "    .setEpochsNumber(21)\\\n",
    "    .setBatchSize(128)\\\n",
    "    .setLearningRate(0.02)\\\n",
    "    .setOutputLogsPath(log_folder)\\\n",
    "    .setDropout(0.1)\\\n",
    "    .setFixImbalance(True)\\\n",
    "    # .setValidationSplit(0.1)\n",
    "\n",
    "clf_Pipeline = Pipeline(stages=[\n",
    "    features_asm,\n",
    "    gc_svm_graph_builder,\n",
    "    gen_clf])\n"
   ]
  },
  {
   "cell_type": "code",
   "execution_count": 88,
   "metadata": {
    "colab": {
     "base_uri": "https://localhost:8080/"
    },
    "execution": {
     "iopub.execute_input": "2023-09-01T05:30:38.177323Z",
     "iopub.status.busy": "2023-09-01T05:30:38.177068Z",
     "iopub.status.idle": "2023-09-01T05:30:44.091803Z",
     "shell.execute_reply": "2023-09-01T05:30:44.091067Z",
     "shell.execute_reply.started": "2023-09-01T05:30:38.177292Z"
    },
    "executionInfo": {
     "elapsed": 3228,
     "status": "ok",
     "timestamp": 1689689773345,
     "user": {
      "displayName": "Ahmet Mesut BİROL",
      "userId": "04340760882990254267"
     },
     "user_tz": -180
    },
    "id": "K8KAXYtkUytq",
    "outputId": "66e0b5b4-db84-439a-92c3-1a7c132ba7b1",
    "tags": []
   },
   "outputs": [
    {
     "data": {
      "application/vnd.jupyter.widget-view+json": {
       "model_id": "d324945a75a94c50874d26fcca97faf2",
       "version_major": 2,
       "version_minor": 0
      },
      "text/plain": [
       "VBox()"
      ]
     },
     "metadata": {},
     "output_type": "display_data"
    },
    {
     "data": {
      "application/vnd.jupyter.widget-view+json": {
       "model_id": "",
       "version_major": 2,
       "version_minor": 0
      },
      "text/plain": [
       "FloatProgress(value=0.0, bar_style='info', description='Progress:', layout=Layout(height='25px', width='50%'),…"
      ]
     },
     "metadata": {},
     "output_type": "display_data"
    },
    {
     "name": "stdout",
     "output_type": "stream",
     "text": [
      "TF Graph Builder configuration:\n",
      "Model name: svm_classifier\n",
      "Graph folder: gc_graph\n",
      "Graph file name: svm_graph.pb\n",
      "Build params: {'input_dim': 100, 'output_dim': 2, 'hidden_layers': [], 'output_act': 'sigmoid', 'loss_func': 'hinge'}\n",
      "svm_classifier graph exported to gc_graph/svm_graph.pb"
     ]
    }
   ],
   "source": [
    "generic_model_hc100 = clf_Pipeline.fit(trainingData_with_embeddings)"
   ]
  },
  {
   "cell_type": "code",
   "execution_count": 89,
   "metadata": {
    "colab": {
     "base_uri": "https://localhost:8080/"
    },
    "execution": {
     "iopub.execute_input": "2023-09-01T05:30:44.093299Z",
     "iopub.status.busy": "2023-09-01T05:30:44.093082Z",
     "iopub.status.idle": "2023-09-01T05:30:46.282804Z",
     "shell.execute_reply": "2023-09-01T05:30:46.281722Z",
     "shell.execute_reply.started": "2023-09-01T05:30:44.093268Z"
    },
    "executionInfo": {
     "elapsed": 18,
     "status": "ok",
     "timestamp": 1689689773345,
     "user": {
      "displayName": "Ahmet Mesut BİROL",
      "userId": "04340760882990254267"
     },
     "user_tz": -180
    },
    "id": "laXPq5hLUytq",
    "outputId": "d94f212e-d777-47ac-c597-5c24a1f7a3f3",
    "tags": []
   },
   "outputs": [
    {
     "name": "stdout",
     "output_type": "stream",
     "text": [
      "Training 21 epochs\n",
      "Epoch 1/21\t0.14s\tLoss: 28.011269\tACC: 0.70234245\n",
      "Epoch 2/21\t0.04s\tLoss: 24.936155\tACC: 0.7231626\n",
      "Epoch 3/21\t0.04s\tLoss: 24.16092\tACC: 0.73633474\n",
      "Epoch 4/21\t0.04s\tLoss: 24.275904\tACC: 0.7429109\n",
      "Epoch 5/21\t0.04s\tLoss: 24.135603\tACC: 0.7445944\n",
      "Epoch 6/21\t0.03s\tLoss: 23.88545\tACC: 0.75595146\n",
      "Epoch 7/21\t0.04s\tLoss: 24.120308\tACC: 0.75209785\n",
      "Epoch 8/21\t0.04s\tLoss: 24.077988\tACC: 0.7570694\n",
      "Epoch 9/21\t0.04s\tLoss: 23.975689\tACC: 0.7540049\n",
      "Epoch 10/21\t0.03s\tLoss: 23.766499\tACC: 0.7608442\n",
      "Epoch 11/21\t0.04s\tLoss: 24.056591\tACC: 0.7521833\n",
      "Epoch 12/21\t0.03s\tLoss: 23.815363\tACC: 0.76354694\n",
      "Epoch 13/21\t0.03s\tLoss: 23.821688\tACC: 0.76106775\n",
      "Epoch 14/21\t0.03s\tLoss: 23.839157\tACC: 0.755695\n",
      "Epoch 15/21\t0.03s\tLoss: 23.836073\tACC: 0.75573444\n",
      "Epoch 16/21\t0.03s\tLoss: 23.594376\tACC: 0.7657697\n",
      "Epoch 17/21\t0.03s\tLoss: 23.666729\tACC: 0.76306033\n",
      "Epoch 18/21\t0.04s\tLoss: 23.440668\tACC: 0.7655461\n",
      "Epoch 19/21\t0.04s\tLoss: 23.666946\tACC: 0.7551229\n",
      "Epoch 20/21\t0.03s\tLoss: 24.085264\tACC: 0.7576481\n",
      "Epoch 21/21\t0.03s\tLoss: 24.158861\tACC: 0.75339335\n",
      "Training completed.\n"
     ]
    },
    {
     "name": "stderr",
     "output_type": "stream",
     "text": [
      "WARNING: Use of this script to execute dfs is deprecated.\n",
      "WARNING: Attempting to execute replacement \"hdfs dfs\" instead.\n",
      "\n",
      "SLF4J: Class path contains multiple SLF4J bindings.\n",
      "SLF4J: Found binding in [jar:file:/usr/lib/hadoop/lib/slf4j-log4j12-1.7.25.jar!/org/slf4j/impl/StaticLoggerBinder.class]\n",
      "SLF4J: Found binding in [jar:file:/usr/share/aws/emr/emrfs/lib/slf4j-log4j12-1.7.12.jar!/org/slf4j/impl/StaticLoggerBinder.class]\n",
      "SLF4J: See http://www.slf4j.org/codes.html#multiple_bindings for an explanation.\n",
      "SLF4J: Actual binding is of type [org.slf4j.impl.Log4jLoggerFactory]\n"
     ]
    }
   ],
   "source": [
    "%%sh\n",
    "hadoop dfs -cat /tmp/ADE_logs_healthcare_100d/GenericSVMClassifierApproach*"
   ]
  },
  {
   "cell_type": "code",
   "execution_count": 90,
   "metadata": {
    "execution": {
     "iopub.execute_input": "2023-09-01T05:30:57.753429Z",
     "iopub.status.busy": "2023-09-01T05:30:57.753151Z",
     "iopub.status.idle": "2023-09-01T05:30:58.517740Z",
     "shell.execute_reply": "2023-09-01T05:30:58.516987Z",
     "shell.execute_reply.started": "2023-09-01T05:30:57.753394Z"
    },
    "id": "F0t-aE9hUytq",
    "tags": []
   },
   "outputs": [
    {
     "data": {
      "application/vnd.jupyter.widget-view+json": {
       "model_id": "77893eeabd4049208e2c54b6114ac962",
       "version_major": 2,
       "version_minor": 0
      },
      "text/plain": [
       "VBox()"
      ]
     },
     "metadata": {},
     "output_type": "display_data"
    },
    {
     "data": {
      "application/vnd.jupyter.widget-view+json": {
       "model_id": "",
       "version_major": 2,
       "version_minor": 0
      },
      "text/plain": [
       "FloatProgress(value=0.0, bar_style='info', description='Progress:', layout=Layout(height='25px', width='50%'),…"
      ]
     },
     "metadata": {},
     "output_type": "display_data"
    }
   ],
   "source": [
    "pred_df = generic_model_hc100.transform(testData_with_embeddings)"
   ]
  },
  {
   "cell_type": "code",
   "execution_count": 91,
   "metadata": {
    "colab": {
     "base_uri": "https://localhost:8080/"
    },
    "execution": {
     "iopub.execute_input": "2023-09-01T05:30:59.313183Z",
     "iopub.status.busy": "2023-09-01T05:30:59.312789Z",
     "iopub.status.idle": "2023-09-01T05:30:59.723324Z",
     "shell.execute_reply": "2023-09-01T05:30:59.722585Z",
     "shell.execute_reply.started": "2023-09-01T05:30:59.313151Z"
    },
    "executionInfo": {
     "elapsed": 379,
     "status": "ok",
     "timestamp": 1689689774178,
     "user": {
      "displayName": "Ahmet Mesut BİROL",
      "userId": "04340760882990254267"
     },
     "user_tz": -180
    },
    "id": "4HmAqC2fUytq",
    "outputId": "b79d5eab-2b10-450d-fdea-ad0fcc95dcf7",
    "tags": []
   },
   "outputs": [
    {
     "data": {
      "application/vnd.jupyter.widget-view+json": {
       "model_id": "a911828b051e4fb68e3e4da245ac3010",
       "version_major": 2,
       "version_minor": 0
      },
      "text/plain": [
       "VBox()"
      ]
     },
     "metadata": {},
     "output_type": "display_data"
    },
    {
     "data": {
      "application/vnd.jupyter.widget-view+json": {
       "model_id": "",
       "version_major": 2,
       "version_minor": 0
      },
      "text/plain": [
       "FloatProgress(value=0.0, bar_style='info', description='Progress:', layout=Layout(height='25px', width='50%'),…"
      ]
     },
     "metadata": {},
     "output_type": "display_data"
    },
    {
     "name": "stdout",
     "output_type": "stream",
     "text": [
      "root\n",
      " |-- text: string (nullable = true)\n",
      " |-- category: string (nullable = true)\n",
      " |-- sentence_embeddings: array (nullable = true)\n",
      " |    |-- element: struct (containsNull = true)\n",
      " |    |    |-- annotatorType: string (nullable = true)\n",
      " |    |    |-- begin: integer (nullable = false)\n",
      " |    |    |-- end: integer (nullable = false)\n",
      " |    |    |-- result: string (nullable = true)\n",
      " |    |    |-- metadata: map (nullable = true)\n",
      " |    |    |    |-- key: string\n",
      " |    |    |    |-- value: string (valueContainsNull = true)\n",
      " |    |    |-- embeddings: array (nullable = true)\n",
      " |    |    |    |-- element: float (containsNull = false)\n",
      " |-- category_array: array (nullable = false)\n",
      " |    |-- element: string (containsNull = true)\n",
      " |-- prediction: array (nullable = true)\n",
      " |    |-- element: struct (containsNull = true)\n",
      " |    |    |-- annotatorType: string (nullable = true)\n",
      " |    |    |-- begin: integer (nullable = false)\n",
      " |    |    |-- end: integer (nullable = false)\n",
      " |    |    |-- result: string (nullable = true)\n",
      " |    |    |-- metadata: map (nullable = true)\n",
      " |    |    |    |-- key: string\n",
      " |    |    |    |-- value: string (valueContainsNull = true)\n",
      " |    |    |-- embeddings: array (nullable = true)\n",
      " |    |    |    |-- element: float (containsNull = false)\n",
      "\n",
      "+--------------------------------------------------------------------------------------+\n",
      "|prediction                                                                            |\n",
      "+--------------------------------------------------------------------------------------+\n",
      "|[{category, 0, 166, neg, {sentence -> 0, pos -> 0.021725476, neg -> 0.9781736}, []}]  |\n",
      "|[{category, 0, 262, neg, {sentence -> 0, pos -> 0.0019716322, neg -> 0.99804777}, []}]|\n",
      "|[{category, 0, 172, neg, {sentence -> 0, pos -> 0.3879296, neg -> 0.6110594}, []}]    |\n",
      "|[{category, 0, 93, neg, {sentence -> 0, pos -> 0.3173188, neg -> 0.6799346}, []}]     |\n",
      "|[{category, 0, 136, neg, {sentence -> 0, pos -> 0.3725564, neg -> 0.6302144}, []}]    |\n",
      "+--------------------------------------------------------------------------------------+\n",
      "only showing top 5 rows\n",
      "\n",
      "+--------+-----------------+\n",
      "|category|prediction.result|\n",
      "+--------+-----------------+\n",
      "|neg     |[neg]            |\n",
      "|neg     |[neg]            |\n",
      "|neg     |[neg]            |\n",
      "|neg     |[neg]            |\n",
      "|neg     |[neg]            |\n",
      "+--------+-----------------+\n",
      "only showing top 5 rows"
     ]
    }
   ],
   "source": [
    "preds.printSchema()\n",
    "preds.select(preds.prediction).show(5, truncate=False)\n",
    "preds.select(preds.category, preds.prediction.result).show(5, truncate=False)"
   ]
  },
  {
   "cell_type": "code",
   "execution_count": 92,
   "metadata": {
    "colab": {
     "base_uri": "https://localhost:8080/"
    },
    "execution": {
     "iopub.execute_input": "2023-09-01T05:31:04.271019Z",
     "iopub.status.busy": "2023-09-01T05:31:04.270749Z",
     "iopub.status.idle": "2023-09-01T05:31:05.547012Z",
     "shell.execute_reply": "2023-09-01T05:31:05.546215Z",
     "shell.execute_reply.started": "2023-09-01T05:31:04.270988Z"
    },
    "executionInfo": {
     "elapsed": 309,
     "status": "ok",
     "timestamp": 1689689774485,
     "user": {
      "displayName": "Ahmet Mesut BİROL",
      "userId": "04340760882990254267"
     },
     "user_tz": -180
    },
    "id": "OmNN-FEuUytr",
    "outputId": "c3089f56-5cc8-4260-bf76-c75166642abd",
    "tags": []
   },
   "outputs": [
    {
     "data": {
      "application/vnd.jupyter.widget-view+json": {
       "model_id": "6d3b144deb0d4f70a9060974d86a4e50",
       "version_major": 2,
       "version_minor": 0
      },
      "text/plain": [
       "VBox()"
      ]
     },
     "metadata": {},
     "output_type": "display_data"
    },
    {
     "data": {
      "application/vnd.jupyter.widget-view+json": {
       "model_id": "",
       "version_major": 2,
       "version_minor": 0
      },
      "text/plain": [
       "FloatProgress(value=0.0, bar_style='info', description='Progress:', layout=Layout(height='25px', width='50%'),…"
      ]
     },
     "metadata": {},
     "output_type": "display_data"
    },
    {
     "name": "stdout",
     "output_type": "stream",
     "text": [
      "              precision    recall  f1-score   support\n",
      "\n",
      "         neg       0.75      0.95      0.84       982\n",
      "         pos       0.72      0.29      0.41       445\n",
      "\n",
      "    accuracy                           0.74      1427\n",
      "   macro avg       0.73      0.62      0.62      1427\n",
      "weighted avg       0.74      0.74      0.70      1427"
     ]
    }
   ],
   "source": [
    "preds_df = pred_df.select('category','prediction.result').toPandas()\n",
    "preds_df['result'] = preds_df.result.apply(lambda x : x[0])\n",
    "\n",
    "print (classification_report(preds_df['category'], preds_df['result']))"
   ]
  },
  {
   "cell_type": "code",
   "execution_count": 93,
   "metadata": {
    "execution": {
     "iopub.execute_input": "2023-09-01T05:31:05.548365Z",
     "iopub.status.busy": "2023-09-01T05:31:05.548150Z",
     "iopub.status.idle": "2023-09-01T05:31:05.807655Z",
     "shell.execute_reply": "2023-09-01T05:31:05.806935Z",
     "shell.execute_reply.started": "2023-09-01T05:31:05.548336Z"
    },
    "id": "CRGmLUaWX8jK",
    "tags": []
   },
   "outputs": [
    {
     "data": {
      "application/vnd.jupyter.widget-view+json": {
       "model_id": "1ed4fee6b31a4df2ae72ff27ed8d6e8a",
       "version_major": 2,
       "version_minor": 0
      },
      "text/plain": [
       "VBox()"
      ]
     },
     "metadata": {},
     "output_type": "display_data"
    },
    {
     "data": {
      "application/vnd.jupyter.widget-view+json": {
       "model_id": "",
       "version_major": 2,
       "version_minor": 0
      },
      "text/plain": [
       "FloatProgress(value=0.0, bar_style='info', description='Progress:', layout=Layout(height='25px', width='50%'),…"
      ]
     },
     "metadata": {},
     "output_type": "display_data"
    }
   ],
   "source": [
    "res = classification_report(preds_df[\"category\"], preds_df[\"result\"], output_dict=True)\n",
    "results_df.loc[\"GenericSVM_100d\"] = [res[\"pos\"][\"f1-score\"], res[\"accuracy\"]]"
   ]
  },
  {
   "cell_type": "markdown",
   "metadata": {
    "id": "hF378LqHvDRK"
   },
   "source": [
    "## 200 Dimension Healthcare Embeddings (embeddings_clinical)\n",
    "\n"
   ]
  },
  {
   "cell_type": "markdown",
   "metadata": {
    "id": "hEppd4Q3vDRK"
   },
   "source": [
    "Now we will extract [embeddings_clinical](https://nlp.johnsnowlabs.com/2020/01/28/embeddings_clinical_en.html) embeddings which has 200 dimension output and use this embeddings in the model training."
   ]
  },
  {
   "cell_type": "code",
   "execution_count": 94,
   "metadata": {
    "colab": {
     "base_uri": "https://localhost:8080/"
    },
    "execution": {
     "iopub.execute_input": "2023-09-01T05:31:11.093699Z",
     "iopub.status.busy": "2023-09-01T05:31:11.093429Z",
     "iopub.status.idle": "2023-09-01T05:31:30.420310Z",
     "shell.execute_reply": "2023-09-01T05:31:30.419526Z",
     "shell.execute_reply.started": "2023-09-01T05:31:11.093667Z"
    },
    "executionInfo": {
     "elapsed": 70576,
     "status": "ok",
     "timestamp": 1689689845380,
     "user": {
      "displayName": "Ahmet Mesut BİROL",
      "userId": "04340760882990254267"
     },
     "user_tz": -180
    },
    "id": "Dv95E2vNvDRK",
    "outputId": "03a7835a-4e96-4a57-b197-cf82f3cc12e9",
    "tags": []
   },
   "outputs": [
    {
     "data": {
      "application/vnd.jupyter.widget-view+json": {
       "model_id": "dd5b5fcbc05d42568e2d2e518543ea93",
       "version_major": 2,
       "version_minor": 0
      },
      "text/plain": [
       "VBox()"
      ]
     },
     "metadata": {},
     "output_type": "display_data"
    },
    {
     "data": {
      "application/vnd.jupyter.widget-view+json": {
       "model_id": "",
       "version_major": 2,
       "version_minor": 0
      },
      "text/plain": [
       "FloatProgress(value=0.0, bar_style='info', description='Progress:', layout=Layout(height='25px', width='50%'),…"
      ]
     },
     "metadata": {},
     "output_type": "display_data"
    },
    {
     "name": "stdout",
     "output_type": "stream",
     "text": [
      "embeddings_clinical download started this may take some time.\n",
      "Approximate size to download 1.6 GB\n",
      "[OK!]"
     ]
    }
   ],
   "source": [
    "document_assembler = DocumentAssembler()\\\n",
    "        .setInputCol(\"text\")\\\n",
    "        .setOutputCol(\"document\")\n",
    "\n",
    "tokenizer = Tokenizer() \\\n",
    "            .setInputCols([\"document\"]) \\\n",
    "            .setOutputCol(\"token\")\n",
    "\n",
    "word_embeddings = WordEmbeddingsModel.pretrained(\"embeddings_clinical\",\"en\",\"clinical/models\")\\\n",
    "        .setInputCols([\"document\",\"token\"])\\\n",
    "        .setOutputCol(\"word_embeddings\")\n",
    "\n",
    "sentence_embeddings = SentenceEmbeddings() \\\n",
    "        .setInputCols([\"document\", \"word_embeddings\"]) \\\n",
    "        .setOutputCol(\"sentence_embeddings\") \\\n",
    "        .setPoolingStrategy(\"AVERAGE\")\n",
    "\n",
    "embeddings_pipeline = Pipeline(\n",
    "    stages = [\n",
    "        document_assembler,\n",
    "        tokenizer,\n",
    "        word_embeddings,\n",
    "        sentence_embeddings,\n",
    "    ])"
   ]
  },
  {
   "cell_type": "code",
   "execution_count": 95,
   "metadata": {
    "colab": {
     "base_uri": "https://localhost:8080/"
    },
    "execution": {
     "iopub.execute_input": "2023-09-01T05:31:30.421699Z",
     "iopub.status.busy": "2023-09-01T05:31:30.421480Z",
     "iopub.status.idle": "2023-09-01T05:31:37.739042Z",
     "shell.execute_reply": "2023-09-01T05:31:37.738088Z",
     "shell.execute_reply.started": "2023-09-01T05:31:30.421669Z"
    },
    "executionInfo": {
     "elapsed": 621,
     "status": "ok",
     "timestamp": 1689689845981,
     "user": {
      "displayName": "Ahmet Mesut BİROL",
      "userId": "04340760882990254267"
     },
     "user_tz": -180
    },
    "id": "uj2dbrthvDRK",
    "outputId": "621344ac-4015-4103-f533-c831b7e94256",
    "tags": []
   },
   "outputs": [
    {
     "data": {
      "application/vnd.jupyter.widget-view+json": {
       "model_id": "88266252b2ff43beb9ed805a0b51c72c",
       "version_major": 2,
       "version_minor": 0
      },
      "text/plain": [
       "VBox()"
      ]
     },
     "metadata": {},
     "output_type": "display_data"
    },
    {
     "data": {
      "application/vnd.jupyter.widget-view+json": {
       "model_id": "",
       "version_major": 2,
       "version_minor": 0
      },
      "text/plain": [
       "FloatProgress(value=0.0, bar_style='info', description='Progress:', layout=Layout(height='25px', width='50%'),…"
      ]
     },
     "metadata": {},
     "output_type": "display_data"
    },
    {
     "name": "stdout",
     "output_type": "stream",
     "text": [
      "+------------------------------------------------------------+--------+------------------------------------------------------------+\n",
      "|                                                        text|category|                                         sentence_embeddings|\n",
      "+------------------------------------------------------------+--------+------------------------------------------------------------+\n",
      "| \"Syndrome malin\"-like symptoms probably due to interacti...|     neg|[{sentence_embeddings, 0, 109,  \"Syndrome malin\"-like sym...|\n",
      "| 'Bail-out' bivalirudin use in patients with thrombotic c...|     neg|[{sentence_embeddings, 0, 150,  'Bail-out' bivalirudin us...|\n",
      "+------------------------------------------------------------+--------+------------------------------------------------------------+\n",
      "only showing top 2 rows"
     ]
    }
   ],
   "source": [
    "trainingData_with_embeddings = embeddings_pipeline.fit(trainingData).transform(trainingData)\\\n",
    "                                                  .select(\"text\",\"category\",\"sentence_embeddings\")\n",
    "trainingData_with_embeddings.show(2,truncate=60)"
   ]
  },
  {
   "cell_type": "code",
   "execution_count": 96,
   "metadata": {
    "colab": {
     "base_uri": "https://localhost:8080/"
    },
    "execution": {
     "iopub.execute_input": "2023-09-01T05:31:37.741330Z",
     "iopub.status.busy": "2023-09-01T05:31:37.740992Z",
     "iopub.status.idle": "2023-09-01T05:31:39.152215Z",
     "shell.execute_reply": "2023-09-01T05:31:39.142329Z",
     "shell.execute_reply.started": "2023-09-01T05:31:37.741279Z"
    },
    "executionInfo": {
     "elapsed": 16,
     "status": "ok",
     "timestamp": 1689689845982,
     "user": {
      "displayName": "Ahmet Mesut BİROL",
      "userId": "04340760882990254267"
     },
     "user_tz": -180
    },
    "id": "jPZSMm5pvDRK",
    "outputId": "b5e3ce1e-e5db-409f-e742-037c0caa4c17",
    "tags": []
   },
   "outputs": [
    {
     "data": {
      "application/vnd.jupyter.widget-view+json": {
       "model_id": "c1210499b124449291ca4450421ce19b",
       "version_major": 2,
       "version_minor": 0
      },
      "text/plain": [
       "VBox()"
      ]
     },
     "metadata": {},
     "output_type": "display_data"
    },
    {
     "data": {
      "application/vnd.jupyter.widget-view+json": {
       "model_id": "",
       "version_major": 2,
       "version_minor": 0
      },
      "text/plain": [
       "FloatProgress(value=0.0, bar_style='info', description='Progress:', layout=Layout(height='25px', width='50%'),…"
      ]
     },
     "metadata": {},
     "output_type": "display_data"
    },
    {
     "name": "stdout",
     "output_type": "stream",
     "text": [
      "+------------------------------------------------------------+--------+------------------------------------------------------------+\n",
      "|                                                        text|category|                                         sentence_embeddings|\n",
      "+------------------------------------------------------------+--------+------------------------------------------------------------+\n",
      "| 1 previously untreated patient with plasma-cell leukaemi...|     neg|[{sentence_embeddings, 0, 166,  1 previously untreated pa...|\n",
      "| A 15-year-old boy had temporary hypertropia, supraductio...|     neg|[{sentence_embeddings, 0, 262,  A 15-year-old boy had tem...|\n",
      "+------------------------------------------------------------+--------+------------------------------------------------------------+\n",
      "only showing top 2 rows"
     ]
    }
   ],
   "source": [
    "testData_with_embeddings = embeddings_pipeline.fit(testData).transform(testData)\\\n",
    "                                                  .select(\"text\",\"category\",\"sentence_embeddings\")\n",
    "testData_with_embeddings.show(2,truncate=60)"
   ]
  },
  {
   "cell_type": "code",
   "execution_count": 97,
   "metadata": {
    "execution": {
     "iopub.execute_input": "2023-09-01T05:31:39.153495Z",
     "iopub.status.busy": "2023-09-01T05:31:39.153284Z",
     "iopub.status.idle": "2023-09-01T05:31:39.231473Z",
     "shell.execute_reply": "2023-09-01T05:31:39.230764Z",
     "shell.execute_reply.started": "2023-09-01T05:31:39.153466Z"
    },
    "id": "qrF7eDHBdmBp",
    "tags": []
   },
   "outputs": [
    {
     "data": {
      "application/vnd.jupyter.widget-view+json": {
       "model_id": "5c97aa0491a948209f623d2ccd8f0c05",
       "version_major": 2,
       "version_minor": 0
      },
      "text/plain": [
       "VBox()"
      ]
     },
     "metadata": {},
     "output_type": "display_data"
    },
    {
     "data": {
      "application/vnd.jupyter.widget-view+json": {
       "model_id": "",
       "version_major": 2,
       "version_minor": 0
      },
      "text/plain": [
       "FloatProgress(value=0.0, bar_style='info', description='Progress:', layout=Layout(height='25px', width='50%'),…"
      ]
     },
     "metadata": {},
     "output_type": "display_data"
    }
   ],
   "source": [
    "log_folder=\"ADE_logs_healthcare_200d\""
   ]
  },
  {
   "cell_type": "markdown",
   "metadata": {
    "id": "coHHa_CRvDRL"
   },
   "source": [
    "### ClassifierDL"
   ]
  },
  {
   "cell_type": "code",
   "execution_count": 98,
   "metadata": {
    "execution": {
     "iopub.execute_input": "2023-09-01T05:31:55.633561Z",
     "iopub.status.busy": "2023-09-01T05:31:55.633283Z",
     "iopub.status.idle": "2023-09-01T05:31:55.698706Z",
     "shell.execute_reply": "2023-09-01T05:31:55.698013Z",
     "shell.execute_reply.started": "2023-09-01T05:31:55.633529Z"
    },
    "id": "thQ0sg91vDRL",
    "tags": []
   },
   "outputs": [
    {
     "data": {
      "application/vnd.jupyter.widget-view+json": {
       "model_id": "54ddba17e4fa46338a0d5f2459ab3a1f",
       "version_major": 2,
       "version_minor": 0
      },
      "text/plain": [
       "VBox()"
      ]
     },
     "metadata": {},
     "output_type": "display_data"
    },
    {
     "data": {
      "application/vnd.jupyter.widget-view+json": {
       "model_id": "",
       "version_major": 2,
       "version_minor": 0
      },
      "text/plain": [
       "FloatProgress(value=0.0, bar_style='info', description='Progress:', layout=Layout(height='25px', width='50%'),…"
      ]
     },
     "metadata": {},
     "output_type": "display_data"
    }
   ],
   "source": [
    "classifier_dl = ClassifierDLApproach()\\\n",
    "        .setInputCols([\"sentence_embeddings\"])\\\n",
    "        .setOutputCol(\"class\")\\\n",
    "        .setLabelColumn(\"category\")\\\n",
    "        .setBatchSize(16)\\\n",
    "        .setMaxEpochs(30)\\\n",
    "        .setLr(0.001)\\\n",
    "        .setDropout(0.3)\\\n",
    "        .setEnableOutputLogs(True)\\\n",
    "        .setOutputLogsPath(log_folder)\n",
    "\n",
    "classifier_dl_pipeline = Pipeline(\n",
    "    stages = [\n",
    "        classifier_dl\n",
    "    ])"
   ]
  },
  {
   "cell_type": "code",
   "execution_count": 99,
   "metadata": {
    "execution": {
     "iopub.execute_input": "2023-09-01T05:31:56.309185Z",
     "iopub.status.busy": "2023-09-01T05:31:56.308918Z",
     "iopub.status.idle": "2023-09-01T05:32:41.726001Z",
     "shell.execute_reply": "2023-09-01T05:32:41.724804Z",
     "shell.execute_reply.started": "2023-09-01T05:31:56.309153Z"
    },
    "id": "VdWaWXcbvDRL",
    "tags": []
   },
   "outputs": [
    {
     "data": {
      "application/vnd.jupyter.widget-view+json": {
       "model_id": "715228ddd7cb4c07b90d91e0cfb0344a",
       "version_major": 2,
       "version_minor": 0
      },
      "text/plain": [
       "VBox()"
      ]
     },
     "metadata": {},
     "output_type": "display_data"
    },
    {
     "data": {
      "application/vnd.jupyter.widget-view+json": {
       "model_id": "",
       "version_major": 2,
       "version_minor": 0
      },
      "text/plain": [
       "FloatProgress(value=0.0, bar_style='info', description='Progress:', layout=Layout(height='25px', width='50%'),…"
      ]
     },
     "metadata": {},
     "output_type": "display_data"
    }
   ],
   "source": [
    "clfDL_model_hc200 = classifier_dl_pipeline.fit(trainingData_with_embeddings)"
   ]
  },
  {
   "cell_type": "code",
   "execution_count": 100,
   "metadata": {
    "colab": {
     "base_uri": "https://localhost:8080/"
    },
    "execution": {
     "iopub.execute_input": "2023-09-01T05:32:45.989568Z",
     "iopub.status.busy": "2023-09-01T05:32:45.989285Z",
     "iopub.status.idle": "2023-09-01T05:32:51.270104Z",
     "shell.execute_reply": "2023-09-01T05:32:51.269402Z",
     "shell.execute_reply.started": "2023-09-01T05:32:45.989536Z"
    },
    "executionInfo": {
     "elapsed": 3393,
     "status": "ok",
     "timestamp": 1689689893488,
     "user": {
      "displayName": "Ahmet Mesut BİROL",
      "userId": "04340760882990254267"
     },
     "user_tz": -180
    },
    "id": "1W67GqjCvDRL",
    "outputId": "89fab1cb-6dbb-4840-d0a0-cf2199f2aa30",
    "tags": []
   },
   "outputs": [
    {
     "data": {
      "application/vnd.jupyter.widget-view+json": {
       "model_id": "33f388029cb244bdb9f1d852b2d3a3e1",
       "version_major": 2,
       "version_minor": 0
      },
      "text/plain": [
       "VBox()"
      ]
     },
     "metadata": {},
     "output_type": "display_data"
    },
    {
     "data": {
      "application/vnd.jupyter.widget-view+json": {
       "model_id": "",
       "version_major": 2,
       "version_minor": 0
      },
      "text/plain": [
       "FloatProgress(value=0.0, bar_style='info', description='Progress:', layout=Layout(height='25px', width='50%'),…"
      ]
     },
     "metadata": {},
     "output_type": "display_data"
    },
    {
     "name": "stdout",
     "output_type": "stream",
     "text": [
      "              precision    recall  f1-score   support\n",
      "\n",
      "         neg       0.87      0.93      0.90       982\n",
      "         pos       0.81      0.71      0.76       445\n",
      "\n",
      "    accuracy                           0.86      1427\n",
      "   macro avg       0.84      0.82      0.83      1427\n",
      "weighted avg       0.86      0.86      0.85      1427"
     ]
    }
   ],
   "source": [
    "preds = clfDL_model_hc200.transform(testData_with_embeddings)\n",
    "\n",
    "preds_df = preds.select(\"category\",\"text\",\"class.result\").toPandas()\n",
    "preds_df[\"result\"] = preds_df[\"result\"].apply(lambda x : x[0])\n",
    "\n",
    "print (classification_report(preds_df[\"category\"], preds_df[\"result\"]))"
   ]
  },
  {
   "cell_type": "code",
   "execution_count": 101,
   "metadata": {
    "execution": {
     "iopub.execute_input": "2023-09-01T05:32:51.271491Z",
     "iopub.status.busy": "2023-09-01T05:32:51.271274Z",
     "iopub.status.idle": "2023-09-01T05:32:51.536807Z",
     "shell.execute_reply": "2023-09-01T05:32:51.536088Z",
     "shell.execute_reply.started": "2023-09-01T05:32:51.271462Z"
    },
    "id": "8MAkySqqZFNU",
    "tags": []
   },
   "outputs": [
    {
     "data": {
      "application/vnd.jupyter.widget-view+json": {
       "model_id": "388573ef02224ec490074fcfe4472d46",
       "version_major": 2,
       "version_minor": 0
      },
      "text/plain": [
       "VBox()"
      ]
     },
     "metadata": {},
     "output_type": "display_data"
    },
    {
     "data": {
      "application/vnd.jupyter.widget-view+json": {
       "model_id": "",
       "version_major": 2,
       "version_minor": 0
      },
      "text/plain": [
       "FloatProgress(value=0.0, bar_style='info', description='Progress:', layout=Layout(height='25px', width='50%'),…"
      ]
     },
     "metadata": {},
     "output_type": "display_data"
    }
   ],
   "source": [
    "res = classification_report(preds_df[\"category\"], preds_df[\"result\"], output_dict=True)\n",
    "results_df.loc[\"ClassifierDL_200d\"] = [res[\"pos\"][\"f1-score\"], res[\"accuracy\"]]"
   ]
  },
  {
   "cell_type": "markdown",
   "metadata": {
    "id": "Vz6ja6oP90It"
   },
   "source": [
    "### MultiClassifierDL"
   ]
  },
  {
   "cell_type": "code",
   "execution_count": 102,
   "metadata": {
    "execution": {
     "iopub.execute_input": "2023-09-01T05:32:51.538364Z",
     "iopub.status.busy": "2023-09-01T05:32:51.538151Z",
     "iopub.status.idle": "2023-09-01T05:32:51.801851Z",
     "shell.execute_reply": "2023-09-01T05:32:51.801147Z",
     "shell.execute_reply.started": "2023-09-01T05:32:51.538334Z"
    },
    "id": "u7AzomVo90Iu",
    "tags": []
   },
   "outputs": [
    {
     "data": {
      "application/vnd.jupyter.widget-view+json": {
       "model_id": "4dde64cc5b654d89bbdda186083baac4",
       "version_major": 2,
       "version_minor": 0
      },
      "text/plain": [
       "VBox()"
      ]
     },
     "metadata": {},
     "output_type": "display_data"
    },
    {
     "data": {
      "application/vnd.jupyter.widget-view+json": {
       "model_id": "",
       "version_major": 2,
       "version_minor": 0
      },
      "text/plain": [
       "FloatProgress(value=0.0, bar_style='info', description='Progress:', layout=Layout(height='25px', width='50%'),…"
      ]
     },
     "metadata": {},
     "output_type": "display_data"
    }
   ],
   "source": [
    "# MultiClassifierDL accepts list of strings as input label. So we convert label column to array type.\n",
    "trainingData_with_embeddings = trainingData_with_embeddings.withColumn(\"category_array\", F.array(F.col(\"category\")))\n",
    "testData_with_embeddings = testData_with_embeddings.withColumn(\"category_array\", F.array(F.col(\"category\")))"
   ]
  },
  {
   "cell_type": "code",
   "execution_count": 103,
   "metadata": {
    "execution": {
     "iopub.execute_input": "2023-09-01T05:32:51.803081Z",
     "iopub.status.busy": "2023-09-01T05:32:51.802867Z",
     "iopub.status.idle": "2023-09-01T05:32:51.864151Z",
     "shell.execute_reply": "2023-09-01T05:32:51.863436Z",
     "shell.execute_reply.started": "2023-09-01T05:32:51.803052Z"
    },
    "id": "O25HWJXx90Iu",
    "tags": []
   },
   "outputs": [
    {
     "data": {
      "application/vnd.jupyter.widget-view+json": {
       "model_id": "2899c646178542e494574a5e8118497d",
       "version_major": 2,
       "version_minor": 0
      },
      "text/plain": [
       "VBox()"
      ]
     },
     "metadata": {},
     "output_type": "display_data"
    },
    {
     "data": {
      "application/vnd.jupyter.widget-view+json": {
       "model_id": "",
       "version_major": 2,
       "version_minor": 0
      },
      "text/plain": [
       "FloatProgress(value=0.0, bar_style='info', description='Progress:', layout=Layout(height='25px', width='50%'),…"
      ]
     },
     "metadata": {},
     "output_type": "display_data"
    }
   ],
   "source": [
    "multiClassifier = MultiClassifierDLApproach()\\\n",
    "  .setInputCols(\"sentence_embeddings\")\\\n",
    "  .setOutputCol(\"prediction\")\\\n",
    "  .setLabelColumn(\"category_array\")\\\n",
    "  .setBatchSize(32)\\\n",
    "  .setMaxEpochs(20)\\\n",
    "  .setLr(9e-3)\\\n",
    "  .setThreshold(0.5)\\\n",
    "  .setShufflePerEpoch(False)\\\n",
    "  .setEnableOutputLogs(True)\\\n",
    "  .setOutputLogsPath(log_folder)\\\n",
    "#   .setValidationSplit(0.1)\n",
    "\n",
    "multiClassifier_pipeline = Pipeline(\n",
    "    stages = [\n",
    "        multiClassifier\n",
    "    ])"
   ]
  },
  {
   "cell_type": "code",
   "execution_count": 104,
   "metadata": {
    "execution": {
     "iopub.execute_input": "2023-09-01T05:32:52.673257Z",
     "iopub.status.busy": "2023-09-01T05:32:52.672941Z",
     "iopub.status.idle": "2023-09-01T05:34:06.573829Z",
     "shell.execute_reply": "2023-09-01T05:34:06.572751Z",
     "shell.execute_reply.started": "2023-09-01T05:32:52.673224Z"
    },
    "id": "AfwUG4E890Iu",
    "tags": []
   },
   "outputs": [
    {
     "data": {
      "application/vnd.jupyter.widget-view+json": {
       "model_id": "ea941b3840cd48b5b60da3b85f0f5e38",
       "version_major": 2,
       "version_minor": 0
      },
      "text/plain": [
       "VBox()"
      ]
     },
     "metadata": {},
     "output_type": "display_data"
    },
    {
     "data": {
      "application/vnd.jupyter.widget-view+json": {
       "model_id": "",
       "version_major": 2,
       "version_minor": 0
      },
      "text/plain": [
       "FloatProgress(value=0.0, bar_style='info', description='Progress:', layout=Layout(height='25px', width='50%'),…"
      ]
     },
     "metadata": {},
     "output_type": "display_data"
    }
   ],
   "source": [
    "multiClassifier_model_hc200 = multiClassifier_pipeline.fit(trainingData_with_embeddings)"
   ]
  },
  {
   "cell_type": "code",
   "execution_count": 105,
   "metadata": {
    "execution": {
     "iopub.execute_input": "2023-09-01T05:34:06.575866Z",
     "iopub.status.busy": "2023-09-01T05:34:06.575526Z",
     "iopub.status.idle": "2023-09-01T05:34:06.846553Z",
     "shell.execute_reply": "2023-09-01T05:34:06.845847Z",
     "shell.execute_reply.started": "2023-09-01T05:34:06.575818Z"
    },
    "id": "dqWL8GcD90Iu",
    "tags": []
   },
   "outputs": [
    {
     "data": {
      "application/vnd.jupyter.widget-view+json": {
       "model_id": "f06bfb63d5dd40e9b7469403d52602bd",
       "version_major": 2,
       "version_minor": 0
      },
      "text/plain": [
       "VBox()"
      ]
     },
     "metadata": {},
     "output_type": "display_data"
    },
    {
     "data": {
      "application/vnd.jupyter.widget-view+json": {
       "model_id": "",
       "version_major": 2,
       "version_minor": 0
      },
      "text/plain": [
       "FloatProgress(value=0.0, bar_style='info', description='Progress:', layout=Layout(height='25px', width='50%'),…"
      ]
     },
     "metadata": {},
     "output_type": "display_data"
    }
   ],
   "source": [
    "preds = multiClassifier_model_hc200.transform(testData_with_embeddings)"
   ]
  },
  {
   "cell_type": "code",
   "execution_count": 106,
   "metadata": {
    "colab": {
     "base_uri": "https://localhost:8080/"
    },
    "execution": {
     "iopub.execute_input": "2023-09-01T05:34:06.848205Z",
     "iopub.status.busy": "2023-09-01T05:34:06.847990Z",
     "iopub.status.idle": "2023-09-01T05:34:48.535962Z",
     "shell.execute_reply": "2023-09-01T05:34:48.535271Z",
     "shell.execute_reply.started": "2023-09-01T05:34:06.848176Z"
    },
    "executionInfo": {
     "elapsed": 21547,
     "status": "ok",
     "timestamp": 1689689997567,
     "user": {
      "displayName": "Ahmet Mesut BİROL",
      "userId": "04340760882990254267"
     },
     "user_tz": -180
    },
    "id": "leP1l4bN90Iu",
    "outputId": "aeace001-db8d-4cf2-925e-8a7f8f614ff6",
    "tags": []
   },
   "outputs": [
    {
     "data": {
      "application/vnd.jupyter.widget-view+json": {
       "model_id": "8a5863fcc7fb48fdac6ea745547282d3",
       "version_major": 2,
       "version_minor": 0
      },
      "text/plain": [
       "VBox()"
      ]
     },
     "metadata": {},
     "output_type": "display_data"
    },
    {
     "data": {
      "application/vnd.jupyter.widget-view+json": {
       "model_id": "",
       "version_major": 2,
       "version_minor": 0
      },
      "text/plain": [
       "FloatProgress(value=0.0, bar_style='info', description='Progress:', layout=Layout(height='25px', width='50%'),…"
      ]
     },
     "metadata": {},
     "output_type": "display_data"
    },
    {
     "name": "stdout",
     "output_type": "stream",
     "text": [
      "['neg']    1006\n",
      "['pos']     421\n",
      "Name: result, dtype: int64"
     ]
    }
   ],
   "source": [
    "preds_df = preds.select(\"category\",\"text\",\"prediction.result\",\"prediction.metadata\").toPandas()\n",
    "preds_df.result.apply(lambda x: str(x) ).value_counts()"
   ]
  },
  {
   "cell_type": "code",
   "execution_count": 107,
   "metadata": {
    "colab": {
     "base_uri": "https://localhost:8080/"
    },
    "execution": {
     "iopub.execute_input": "2023-09-01T05:34:48.537316Z",
     "iopub.status.busy": "2023-09-01T05:34:48.537099Z",
     "iopub.status.idle": "2023-09-01T05:34:48.597470Z",
     "shell.execute_reply": "2023-09-01T05:34:48.596740Z",
     "shell.execute_reply.started": "2023-09-01T05:34:48.537287Z"
    },
    "executionInfo": {
     "elapsed": 34,
     "status": "ok",
     "timestamp": 1689689997568,
     "user": {
      "displayName": "Ahmet Mesut BİROL",
      "userId": "04340760882990254267"
     },
     "user_tz": -180
    },
    "id": "puS1FgQ-90Iv",
    "outputId": "d84da5cf-5bf4-46ea-9345-6cc8d917b581",
    "tags": []
   },
   "outputs": [
    {
     "data": {
      "application/vnd.jupyter.widget-view+json": {
       "model_id": "49c096c20f6749bc8bdce045d5e843fa",
       "version_major": 2,
       "version_minor": 0
      },
      "text/plain": [
       "VBox()"
      ]
     },
     "metadata": {},
     "output_type": "display_data"
    },
    {
     "data": {
      "application/vnd.jupyter.widget-view+json": {
       "model_id": "",
       "version_major": 2,
       "version_minor": 0
      },
      "text/plain": [
       "FloatProgress(value=0.0, bar_style='info', description='Progress:', layout=Layout(height='25px', width='50%'),…"
      ]
     },
     "metadata": {},
     "output_type": "display_data"
    },
    {
     "name": "stdout",
     "output_type": "stream",
     "text": [
      "neg    1006\n",
      "pos     421\n",
      "Name: result, dtype: int64"
     ]
    }
   ],
   "source": [
    "# We will get the highest score label as result. You can control the number of zero label results with setThreshold() in the training.\n",
    "preds_df[\"scores\"] = preds_df.metadata.apply(lambda x: {k:float(v) for k,v in x[0].items()} if len(x)>=1 else \"\")\n",
    "preds_df[\"result\"] = preds_df.scores.apply(lambda x: max(x, key=x.get) if len(x)>=1 else \"\")\n",
    "preds_df[\"result\"].value_counts()"
   ]
  },
  {
   "cell_type": "code",
   "execution_count": 108,
   "metadata": {
    "colab": {
     "base_uri": "https://localhost:8080/"
    },
    "execution": {
     "iopub.execute_input": "2023-09-01T05:34:48.598593Z",
     "iopub.status.busy": "2023-09-01T05:34:48.598383Z",
     "iopub.status.idle": "2023-09-01T05:34:48.814533Z",
     "shell.execute_reply": "2023-09-01T05:34:48.813751Z",
     "shell.execute_reply.started": "2023-09-01T05:34:48.598564Z"
    },
    "executionInfo": {
     "elapsed": 27,
     "status": "ok",
     "timestamp": 1689689997568,
     "user": {
      "displayName": "Ahmet Mesut BİROL",
      "userId": "04340760882990254267"
     },
     "user_tz": -180
    },
    "id": "8F9FcFBN90Iv",
    "outputId": "c86d3066-452f-4f09-c839-bd04953d25ba",
    "tags": []
   },
   "outputs": [
    {
     "data": {
      "application/vnd.jupyter.widget-view+json": {
       "model_id": "d4631cf0336b475d857a33a05235c764",
       "version_major": 2,
       "version_minor": 0
      },
      "text/plain": [
       "VBox()"
      ]
     },
     "metadata": {},
     "output_type": "display_data"
    },
    {
     "data": {
      "application/vnd.jupyter.widget-view+json": {
       "model_id": "",
       "version_major": 2,
       "version_minor": 0
      },
      "text/plain": [
       "FloatProgress(value=0.0, bar_style='info', description='Progress:', layout=Layout(height='25px', width='50%'),…"
      ]
     },
     "metadata": {},
     "output_type": "display_data"
    },
    {
     "name": "stdout",
     "output_type": "stream",
     "text": [
      "              precision    recall  f1-score   support\n",
      "\n",
      "         neg       0.89      0.91      0.90       982\n",
      "         pos       0.79      0.75      0.77       445\n",
      "\n",
      "    accuracy                           0.86      1427\n",
      "   macro avg       0.84      0.83      0.83      1427\n",
      "weighted avg       0.86      0.86      0.86      1427"
     ]
    }
   ],
   "source": [
    "print (classification_report(preds_df[\"category\"], preds_df[\"result\"]))"
   ]
  },
  {
   "cell_type": "code",
   "execution_count": 109,
   "metadata": {
    "execution": {
     "iopub.execute_input": "2023-09-01T05:34:48.815645Z",
     "iopub.status.busy": "2023-09-01T05:34:48.815431Z",
     "iopub.status.idle": "2023-09-01T05:34:49.069760Z",
     "shell.execute_reply": "2023-09-01T05:34:49.069040Z",
     "shell.execute_reply.started": "2023-09-01T05:34:48.815616Z"
    },
    "id": "BgQWTFwnZPCj",
    "tags": []
   },
   "outputs": [
    {
     "data": {
      "application/vnd.jupyter.widget-view+json": {
       "model_id": "a513891dac954caab5577a9099cd3b2c",
       "version_major": 2,
       "version_minor": 0
      },
      "text/plain": [
       "VBox()"
      ]
     },
     "metadata": {},
     "output_type": "display_data"
    },
    {
     "data": {
      "application/vnd.jupyter.widget-view+json": {
       "model_id": "",
       "version_major": 2,
       "version_minor": 0
      },
      "text/plain": [
       "FloatProgress(value=0.0, bar_style='info', description='Progress:', layout=Layout(height='25px', width='50%'),…"
      ]
     },
     "metadata": {},
     "output_type": "display_data"
    }
   ],
   "source": [
    "res = classification_report(preds_df[\"category\"], preds_df[\"result\"], output_dict=True)\n",
    "results_df.loc[\"MultiClassifierDL_200d\"] = [res[\"pos\"][\"f1-score\"], res[\"accuracy\"]]"
   ]
  },
  {
   "cell_type": "markdown",
   "metadata": {
    "id": "lwu69bczvDRL"
   },
   "source": [
    "### Generic Classifier"
   ]
  },
  {
   "cell_type": "code",
   "execution_count": 110,
   "metadata": {
    "execution": {
     "iopub.execute_input": "2023-09-01T05:34:57.749622Z",
     "iopub.status.busy": "2023-09-01T05:34:57.749369Z",
     "iopub.status.idle": "2023-09-01T05:34:57.801962Z",
     "shell.execute_reply": "2023-09-01T05:34:57.801242Z",
     "shell.execute_reply.started": "2023-09-01T05:34:57.749591Z"
    },
    "id": "YTuqFVXKvDRL",
    "tags": []
   },
   "outputs": [
    {
     "data": {
      "application/vnd.jupyter.widget-view+json": {
       "model_id": "62c9b42889564a778c8086fa5dd32e7e",
       "version_major": 2,
       "version_minor": 0
      },
      "text/plain": [
       "VBox()"
      ]
     },
     "metadata": {},
     "output_type": "display_data"
    },
    {
     "data": {
      "application/vnd.jupyter.widget-view+json": {
       "model_id": "",
       "version_major": 2,
       "version_minor": 0
      },
      "text/plain": [
       "FloatProgress(value=0.0, bar_style='info', description='Progress:', layout=Layout(height='25px', width='50%'),…"
      ]
     },
     "metadata": {},
     "output_type": "display_data"
    }
   ],
   "source": [
    "from sparknlp_jsl.annotator import TFGraphBuilder\n",
    "\n",
    "graph_folder = \"gc_graph\"\n",
    "\n",
    "gc_graph_builder = TFGraphBuilder()\\\n",
    "    .setModelName(\"generic_classifier\")\\\n",
    "    .setInputCols([\"features\"])\\\n",
    "    .setLabelColumn(\"category\")\\\n",
    "    .setHiddenLayers([300,200, 50])\\\n",
    "    .setHiddenAct(\"tanh\")\\\n",
    "    .setHiddenActL2(True)\\\n",
    "    .setBatchNorm(True)\\\n",
    "    .setGraphFolder(graph_folder)\\\n",
    "    .setGraphFile(\"gcf_graph_200d.pb\")"
   ]
  },
  {
   "cell_type": "code",
   "execution_count": 111,
   "metadata": {
    "execution": {
     "iopub.execute_input": "2023-09-01T05:34:59.271427Z",
     "iopub.status.busy": "2023-09-01T05:34:59.271160Z",
     "iopub.status.idle": "2023-09-01T05:34:59.334045Z",
     "shell.execute_reply": "2023-09-01T05:34:59.333335Z",
     "shell.execute_reply.started": "2023-09-01T05:34:59.271395Z"
    },
    "id": "Acx95To9vDRL",
    "tags": []
   },
   "outputs": [
    {
     "data": {
      "application/vnd.jupyter.widget-view+json": {
       "model_id": "cb8ba7c1b9584243bf26e09c50965be9",
       "version_major": 2,
       "version_minor": 0
      },
      "text/plain": [
       "VBox()"
      ]
     },
     "metadata": {},
     "output_type": "display_data"
    },
    {
     "data": {
      "application/vnd.jupyter.widget-view+json": {
       "model_id": "",
       "version_major": 2,
       "version_minor": 0
      },
      "text/plain": [
       "FloatProgress(value=0.0, bar_style='info', description='Progress:', layout=Layout(height='25px', width='50%'),…"
      ]
     },
     "metadata": {},
     "output_type": "display_data"
    }
   ],
   "source": [
    "features_asm = FeaturesAssembler()\\\n",
    "    .setInputCols([\"sentence_embeddings\"])\\\n",
    "    .setOutputCol(\"features\")\n",
    "\n",
    "gen_clf = GenericClassifierApproach()\\\n",
    "    .setLabelColumn(\"category\")\\\n",
    "    .setInputCols(\"features\")\\\n",
    "    .setOutputCol(\"prediction\")\\\n",
    "    .setModelFile(f\"{graph_folder}/gcf_graph_200d.pb\")\\\n",
    "    .setEpochsNumber(40)\\\n",
    "    .setBatchSize(16)\\\n",
    "    .setLearningRate(0.001)\\\n",
    "    .setOutputLogsPath(log_folder)\\\n",
    "    .setDropout(0.5)\\\n",
    "    .setFixImbalance(True)\\\n",
    "    # .setValidationSplit(0.1)\n",
    "\n",
    "clf_Pipeline = Pipeline(stages=[\n",
    "    features_asm,\n",
    "    gc_graph_builder,\n",
    "    gen_clf])\n"
   ]
  },
  {
   "cell_type": "code",
   "execution_count": 112,
   "metadata": {
    "colab": {
     "base_uri": "https://localhost:8080/"
    },
    "execution": {
     "iopub.execute_input": "2023-09-01T05:35:00.629766Z",
     "iopub.status.busy": "2023-09-01T05:35:00.629490Z",
     "iopub.status.idle": "2023-09-01T05:35:29.985256Z",
     "shell.execute_reply": "2023-09-01T05:35:29.984439Z",
     "shell.execute_reply.started": "2023-09-01T05:35:00.629734Z"
    },
    "executionInfo": {
     "elapsed": 26110,
     "status": "ok",
     "timestamp": 1689690023659,
     "user": {
      "displayName": "Ahmet Mesut BİROL",
      "userId": "04340760882990254267"
     },
     "user_tz": -180
    },
    "id": "07qsryq3vDRL",
    "outputId": "719365d5-7b29-457d-e287-42508ea31349",
    "tags": []
   },
   "outputs": [
    {
     "data": {
      "application/vnd.jupyter.widget-view+json": {
       "model_id": "d5e243670d87479c87b2b357523d69bc",
       "version_major": 2,
       "version_minor": 0
      },
      "text/plain": [
       "VBox()"
      ]
     },
     "metadata": {},
     "output_type": "display_data"
    },
    {
     "data": {
      "application/vnd.jupyter.widget-view+json": {
       "model_id": "",
       "version_major": 2,
       "version_minor": 0
      },
      "text/plain": [
       "FloatProgress(value=0.0, bar_style='info', description='Progress:', layout=Layout(height='25px', width='50%'),…"
      ]
     },
     "metadata": {},
     "output_type": "display_data"
    },
    {
     "name": "stdout",
     "output_type": "stream",
     "text": [
      "TF Graph Builder configuration:\n",
      "Model name: generic_classifier\n",
      "Graph folder: gc_graph\n",
      "Graph file name: gcf_graph_200d.pb\n",
      "Build params: {'input_dim': 200, 'output_dim': 2, 'hidden_layers': [300, 200, 50], 'hidden_act': 'tanh', 'hidden_act_l2': True, 'batch_norm': True}\n",
      "generic_classifier graph exported to gc_graph/gcf_graph_200d.pb"
     ]
    }
   ],
   "source": [
    "generic_model_hc200 = clf_Pipeline.fit(trainingData_with_embeddings)"
   ]
  },
  {
   "cell_type": "code",
   "execution_count": 113,
   "metadata": {
    "colab": {
     "base_uri": "https://localhost:8080/"
    },
    "execution": {
     "iopub.execute_input": "2023-09-01T05:35:29.986716Z",
     "iopub.status.busy": "2023-09-01T05:35:29.986489Z",
     "iopub.status.idle": "2023-09-01T05:35:33.272552Z",
     "shell.execute_reply": "2023-09-01T05:35:33.271839Z",
     "shell.execute_reply.started": "2023-09-01T05:35:29.986686Z"
    },
    "executionInfo": {
     "elapsed": 1573,
     "status": "ok",
     "timestamp": 1689690025214,
     "user": {
      "displayName": "Ahmet Mesut BİROL",
      "userId": "04340760882990254267"
     },
     "user_tz": -180
    },
    "id": "WahobkK8vDRL",
    "outputId": "2b89564e-7d0a-44a5-f955-7a14de206af1",
    "tags": []
   },
   "outputs": [
    {
     "data": {
      "application/vnd.jupyter.widget-view+json": {
       "model_id": "0b4ebf863e574308b263ebd94ffc2719",
       "version_major": 2,
       "version_minor": 0
      },
      "text/plain": [
       "VBox()"
      ]
     },
     "metadata": {},
     "output_type": "display_data"
    },
    {
     "data": {
      "application/vnd.jupyter.widget-view+json": {
       "model_id": "",
       "version_major": 2,
       "version_minor": 0
      },
      "text/plain": [
       "FloatProgress(value=0.0, bar_style='info', description='Progress:', layout=Layout(height='25px', width='50%'),…"
      ]
     },
     "metadata": {},
     "output_type": "display_data"
    },
    {
     "name": "stdout",
     "output_type": "stream",
     "text": [
      "              precision    recall  f1-score   support\n",
      "\n",
      "         neg       0.92      0.83      0.87       982\n",
      "         pos       0.69      0.85      0.76       445\n",
      "\n",
      "    accuracy                           0.83      1427\n",
      "   macro avg       0.81      0.84      0.82      1427\n",
      "weighted avg       0.85      0.83      0.84      1427"
     ]
    }
   ],
   "source": [
    "pred_df = generic_model_hc200.transform(testData_with_embeddings)\n",
    "\n",
    "preds_df = pred_df.select('category','prediction.result').toPandas()\n",
    "preds_df['result'] = preds_df.result.apply(lambda x : x[0])\n",
    "\n",
    "print (classification_report(preds_df['category'], preds_df['result']))"
   ]
  },
  {
   "cell_type": "code",
   "execution_count": 114,
   "metadata": {
    "execution": {
     "iopub.execute_input": "2023-09-01T05:35:33.274145Z",
     "iopub.status.busy": "2023-09-01T05:35:33.273928Z",
     "iopub.status.idle": "2023-09-01T05:35:33.536965Z",
     "shell.execute_reply": "2023-09-01T05:35:33.536226Z",
     "shell.execute_reply.started": "2023-09-01T05:35:33.274116Z"
    },
    "id": "T9LlNgGzZXPx",
    "tags": []
   },
   "outputs": [
    {
     "data": {
      "application/vnd.jupyter.widget-view+json": {
       "model_id": "31b3eba257a848cf9521dcec3e24214d",
       "version_major": 2,
       "version_minor": 0
      },
      "text/plain": [
       "VBox()"
      ]
     },
     "metadata": {},
     "output_type": "display_data"
    },
    {
     "data": {
      "application/vnd.jupyter.widget-view+json": {
       "model_id": "",
       "version_major": 2,
       "version_minor": 0
      },
      "text/plain": [
       "FloatProgress(value=0.0, bar_style='info', description='Progress:', layout=Layout(height='25px', width='50%'),…"
      ]
     },
     "metadata": {},
     "output_type": "display_data"
    }
   ],
   "source": [
    "res = classification_report(preds_df[\"category\"], preds_df[\"result\"], output_dict=True)\n",
    "results_df.loc[\"GenericClassifier_200d\"] = [res[\"pos\"][\"f1-score\"], res[\"accuracy\"]]"
   ]
  },
  {
   "cell_type": "markdown",
   "metadata": {
    "id": "MqvORol0XIG-"
   },
   "source": [
    "### GenericLogRegClassifier"
   ]
  },
  {
   "cell_type": "code",
   "execution_count": 115,
   "metadata": {
    "execution": {
     "iopub.execute_input": "2023-09-01T05:35:40.801197Z",
     "iopub.status.busy": "2023-09-01T05:35:40.800835Z",
     "iopub.status.idle": "2023-09-01T05:35:40.855908Z",
     "shell.execute_reply": "2023-09-01T05:35:40.855192Z",
     "shell.execute_reply.started": "2023-09-01T05:35:40.801163Z"
    },
    "id": "S7Ms5F5hXIG_",
    "tags": []
   },
   "outputs": [
    {
     "data": {
      "application/vnd.jupyter.widget-view+json": {
       "model_id": "8324b6ee7aea4003b93e670b46468ec1",
       "version_major": 2,
       "version_minor": 0
      },
      "text/plain": [
       "VBox()"
      ]
     },
     "metadata": {},
     "output_type": "display_data"
    },
    {
     "data": {
      "application/vnd.jupyter.widget-view+json": {
       "model_id": "",
       "version_major": 2,
       "version_minor": 0
      },
      "text/plain": [
       "FloatProgress(value=0.0, bar_style='info', description='Progress:', layout=Layout(height='25px', width='50%'),…"
      ]
     },
     "metadata": {},
     "output_type": "display_data"
    }
   ],
   "source": [
    "from sparknlp_jsl.annotator import TFGraphBuilder\n",
    "\n",
    "graph_folder = \"gc_graph\"\n",
    "\n",
    "gc_logreg_graph_builder = TFGraphBuilder()\\\n",
    "    .setModelName(\"logreg_classifier\")\\\n",
    "    .setInputCols([\"feature_vector\"]) \\\n",
    "    .setLabelColumn(\"category\")\\\n",
    "    .setGraphFolder(graph_folder)\\\n",
    "    .setGraphFile(\"log_reg_graph.pb\")"
   ]
  },
  {
   "cell_type": "markdown",
   "metadata": {
    "id": "xUGr1BJJXIG_"
   },
   "source": [
    "GenericLogRegClassifier needs outputs from FeaturesAssembler. The FeaturesAssembler is used to collect features from different columns or an embeddings column.\n",
    "\n",
    "The GenericLogRegClassifier takes FEATURE_VECTOR annotations as input, classifies them and outputs CATEGORY annotations."
   ]
  },
  {
   "cell_type": "code",
   "execution_count": 116,
   "metadata": {
    "execution": {
     "iopub.execute_input": "2023-09-01T05:35:42.497542Z",
     "iopub.status.busy": "2023-09-01T05:35:42.497268Z",
     "iopub.status.idle": "2023-09-01T05:35:42.552829Z",
     "shell.execute_reply": "2023-09-01T05:35:42.552005Z",
     "shell.execute_reply.started": "2023-09-01T05:35:42.497510Z"
    },
    "id": "yuItEMF0XIG_",
    "tags": []
   },
   "outputs": [
    {
     "data": {
      "application/vnd.jupyter.widget-view+json": {
       "model_id": "bb3c4b8c969440f1ba7c71ce73069af8",
       "version_major": 2,
       "version_minor": 0
      },
      "text/plain": [
       "VBox()"
      ]
     },
     "metadata": {},
     "output_type": "display_data"
    },
    {
     "data": {
      "application/vnd.jupyter.widget-view+json": {
       "model_id": "",
       "version_major": 2,
       "version_minor": 0
      },
      "text/plain": [
       "FloatProgress(value=0.0, bar_style='info', description='Progress:', layout=Layout(height='25px', width='50%'),…"
      ]
     },
     "metadata": {},
     "output_type": "display_data"
    }
   ],
   "source": [
    "features_asm = FeaturesAssembler()\\\n",
    "    .setInputCols([\"sentence_embeddings\"])\\\n",
    "    .setOutputCol(\"feature_vector\")\n",
    "\n",
    "gen_clf = GenericLogRegClassifierApproach()\\\n",
    "    .setLabelColumn(\"category\")\\\n",
    "    .setInputCols(\"feature_vector\")\\\n",
    "    .setOutputCol(\"prediction\")\\\n",
    "    .setModelFile(f\"{graph_folder}/log_reg_graph.pb\")\\\n",
    "    .setEpochsNumber(20)\\\n",
    "    .setBatchSize(128)\\\n",
    "    .setLearningRate(0.01)\\\n",
    "    .setOutputLogsPath(log_folder)\\\n",
    "    .setDropout(0.1)\\\n",
    "    .setFixImbalance(True)\\\n",
    "    # .setValidationSplit(0.1)\n",
    "\n",
    "clf_Pipeline = Pipeline(stages=[\n",
    "    features_asm,\n",
    "    gc_logreg_graph_builder,\n",
    "    gen_clf])\n"
   ]
  },
  {
   "cell_type": "code",
   "execution_count": 117,
   "metadata": {
    "colab": {
     "base_uri": "https://localhost:8080/"
    },
    "execution": {
     "iopub.execute_input": "2023-09-01T05:35:43.593495Z",
     "iopub.status.busy": "2023-09-01T05:35:43.593208Z",
     "iopub.status.idle": "2023-09-01T05:35:50.890599Z",
     "shell.execute_reply": "2023-09-01T05:35:50.889619Z",
     "shell.execute_reply.started": "2023-09-01T05:35:43.593462Z"
    },
    "executionInfo": {
     "elapsed": 3680,
     "status": "ok",
     "timestamp": 1689690028891,
     "user": {
      "displayName": "Ahmet Mesut BİROL",
      "userId": "04340760882990254267"
     },
     "user_tz": -180
    },
    "id": "MWTfnlebXIG_",
    "outputId": "79d6b5a1-8b42-4904-fca8-23408a4a1845",
    "tags": []
   },
   "outputs": [
    {
     "data": {
      "application/vnd.jupyter.widget-view+json": {
       "model_id": "ace4397745194d0380da6a97375b01f4",
       "version_major": 2,
       "version_minor": 0
      },
      "text/plain": [
       "VBox()"
      ]
     },
     "metadata": {},
     "output_type": "display_data"
    },
    {
     "data": {
      "application/vnd.jupyter.widget-view+json": {
       "model_id": "",
       "version_major": 2,
       "version_minor": 0
      },
      "text/plain": [
       "FloatProgress(value=0.0, bar_style='info', description='Progress:', layout=Layout(height='25px', width='50%'),…"
      ]
     },
     "metadata": {},
     "output_type": "display_data"
    },
    {
     "name": "stdout",
     "output_type": "stream",
     "text": [
      "TF Graph Builder configuration:\n",
      "Model name: logreg_classifier\n",
      "Graph folder: gc_graph\n",
      "Graph file name: log_reg_graph.pb\n",
      "Build params: {'input_dim': 200, 'output_dim': 2, 'hidden_layers': [], 'output_act': 'sigmoid'}\n",
      "logreg_classifier graph exported to gc_graph/log_reg_graph.pb"
     ]
    }
   ],
   "source": [
    "generic_model_hc200 = clf_Pipeline.fit(trainingData_with_embeddings)"
   ]
  },
  {
   "cell_type": "code",
   "execution_count": 118,
   "metadata": {
    "execution": {
     "iopub.execute_input": "2023-09-01T05:35:50.892031Z",
     "iopub.status.busy": "2023-09-01T05:35:50.891801Z",
     "iopub.status.idle": "2023-09-01T05:35:52.157852Z",
     "shell.execute_reply": "2023-09-01T05:35:52.157139Z",
     "shell.execute_reply.started": "2023-09-01T05:35:50.891999Z"
    },
    "id": "ORF9ZLKgXIG_",
    "tags": []
   },
   "outputs": [
    {
     "data": {
      "application/vnd.jupyter.widget-view+json": {
       "model_id": "4f8ef572dd1e4998aa3cddb517e382ad",
       "version_major": 2,
       "version_minor": 0
      },
      "text/plain": [
       "VBox()"
      ]
     },
     "metadata": {},
     "output_type": "display_data"
    },
    {
     "data": {
      "application/vnd.jupyter.widget-view+json": {
       "model_id": "",
       "version_major": 2,
       "version_minor": 0
      },
      "text/plain": [
       "FloatProgress(value=0.0, bar_style='info', description='Progress:', layout=Layout(height='25px', width='50%'),…"
      ]
     },
     "metadata": {},
     "output_type": "display_data"
    }
   ],
   "source": [
    "pred_df = generic_model_hc200.transform(testData_with_embeddings)"
   ]
  },
  {
   "cell_type": "code",
   "execution_count": 119,
   "metadata": {
    "colab": {
     "base_uri": "https://localhost:8080/"
    },
    "execution": {
     "iopub.execute_input": "2023-09-01T05:35:52.159398Z",
     "iopub.status.busy": "2023-09-01T05:35:52.159187Z",
     "iopub.status.idle": "2023-09-01T05:35:53.779057Z",
     "shell.execute_reply": "2023-09-01T05:35:53.778361Z",
     "shell.execute_reply.started": "2023-09-01T05:35:52.159369Z"
    },
    "executionInfo": {
     "elapsed": 447,
     "status": "ok",
     "timestamp": 1689690030092,
     "user": {
      "displayName": "Ahmet Mesut BİROL",
      "userId": "04340760882990254267"
     },
     "user_tz": -180
    },
    "id": "d1By23e1XIHA",
    "outputId": "1137ecbb-0fba-49aa-9c88-d311bcb349e8",
    "tags": []
   },
   "outputs": [
    {
     "data": {
      "application/vnd.jupyter.widget-view+json": {
       "model_id": "bdaa207735ee4749aca99e90e6b41c1b",
       "version_major": 2,
       "version_minor": 0
      },
      "text/plain": [
       "VBox()"
      ]
     },
     "metadata": {},
     "output_type": "display_data"
    },
    {
     "data": {
      "application/vnd.jupyter.widget-view+json": {
       "model_id": "",
       "version_major": 2,
       "version_minor": 0
      },
      "text/plain": [
       "FloatProgress(value=0.0, bar_style='info', description='Progress:', layout=Layout(height='25px', width='50%'),…"
      ]
     },
     "metadata": {},
     "output_type": "display_data"
    },
    {
     "name": "stdout",
     "output_type": "stream",
     "text": [
      "              precision    recall  f1-score   support\n",
      "\n",
      "         neg       0.81      0.92      0.86       982\n",
      "         pos       0.75      0.52      0.62       445\n",
      "\n",
      "    accuracy                           0.80      1427\n",
      "   macro avg       0.78      0.72      0.74      1427\n",
      "weighted avg       0.79      0.80      0.79      1427"
     ]
    }
   ],
   "source": [
    "preds_df = pred_df.select('category','prediction.result').toPandas()\n",
    "preds_df['result'] = preds_df.result.apply(lambda x : x[0])\n",
    "\n",
    "print (classification_report(preds_df['category'], preds_df['result']))"
   ]
  },
  {
   "cell_type": "code",
   "execution_count": 120,
   "metadata": {
    "execution": {
     "iopub.execute_input": "2023-09-01T05:35:53.780302Z",
     "iopub.status.busy": "2023-09-01T05:35:53.780088Z",
     "iopub.status.idle": "2023-09-01T05:35:54.182541Z",
     "shell.execute_reply": "2023-09-01T05:35:54.181818Z",
     "shell.execute_reply.started": "2023-09-01T05:35:53.780272Z"
    },
    "id": "ap1IMd7vZv68",
    "tags": []
   },
   "outputs": [
    {
     "data": {
      "application/vnd.jupyter.widget-view+json": {
       "model_id": "1180d69dc6d243db83de6ba4c1720e34",
       "version_major": 2,
       "version_minor": 0
      },
      "text/plain": [
       "VBox()"
      ]
     },
     "metadata": {},
     "output_type": "display_data"
    },
    {
     "data": {
      "application/vnd.jupyter.widget-view+json": {
       "model_id": "",
       "version_major": 2,
       "version_minor": 0
      },
      "text/plain": [
       "FloatProgress(value=0.0, bar_style='info', description='Progress:', layout=Layout(height='25px', width='50%'),…"
      ]
     },
     "metadata": {},
     "output_type": "display_data"
    }
   ],
   "source": [
    "res = classification_report(preds_df[\"category\"], preds_df[\"result\"], output_dict=True)\n",
    "results_df.loc[\"GenericLogReg_200d\"] = [res[\"pos\"][\"f1-score\"], res[\"accuracy\"]]"
   ]
  },
  {
   "cell_type": "markdown",
   "metadata": {
    "id": "A4fphEjMXV7W"
   },
   "source": [
    "### GenericSVMClassifier"
   ]
  },
  {
   "cell_type": "code",
   "execution_count": 121,
   "metadata": {
    "execution": {
     "iopub.execute_input": "2023-09-01T05:36:20.308150Z",
     "iopub.status.busy": "2023-09-01T05:36:20.307875Z",
     "iopub.status.idle": "2023-09-01T05:36:20.363605Z",
     "shell.execute_reply": "2023-09-01T05:36:20.362868Z",
     "shell.execute_reply.started": "2023-09-01T05:36:20.308117Z"
    },
    "id": "WWViS8s6XV7X",
    "tags": []
   },
   "outputs": [
    {
     "data": {
      "application/vnd.jupyter.widget-view+json": {
       "model_id": "b4eb91da8b0f423cb79c00a929c184d6",
       "version_major": 2,
       "version_minor": 0
      },
      "text/plain": [
       "VBox()"
      ]
     },
     "metadata": {},
     "output_type": "display_data"
    },
    {
     "data": {
      "application/vnd.jupyter.widget-view+json": {
       "model_id": "",
       "version_major": 2,
       "version_minor": 0
      },
      "text/plain": [
       "FloatProgress(value=0.0, bar_style='info', description='Progress:', layout=Layout(height='25px', width='50%'),…"
      ]
     },
     "metadata": {},
     "output_type": "display_data"
    }
   ],
   "source": [
    "from sparknlp_jsl.annotator import TFGraphBuilder\n",
    "\n",
    "graph_folder = \"gc_graph\"\n",
    "\n",
    "gc_svm_graph_builder = TFGraphBuilder()\\\n",
    "    .setModelName(\"svm_classifier\")\\\n",
    "    .setInputCols([\"feature_vector\"]) \\\n",
    "    .setLabelColumn(\"category\")\\\n",
    "    .setGraphFolder(graph_folder)\\\n",
    "    .setGraphFile(\"svm_graph.pb\")"
   ]
  },
  {
   "cell_type": "markdown",
   "metadata": {
    "id": "JcM7VyV7XV7X"
   },
   "source": [
    "GenericSVMClassifier needs outputs from FeaturesAssembler. The FeaturesAssembler is used to collect features from different columns or an embeddings column.\n",
    "\n",
    "The GenericSVMClassifier takes FEATURE_VECTOR annotations as input, classifies them and outputs CATEGORY annotations."
   ]
  },
  {
   "cell_type": "code",
   "execution_count": 122,
   "metadata": {
    "execution": {
     "iopub.execute_input": "2023-09-01T05:36:21.871951Z",
     "iopub.status.busy": "2023-09-01T05:36:21.871667Z",
     "iopub.status.idle": "2023-09-01T05:36:21.928082Z",
     "shell.execute_reply": "2023-09-01T05:36:21.927373Z",
     "shell.execute_reply.started": "2023-09-01T05:36:21.871918Z"
    },
    "id": "px8t14s8XV7X",
    "tags": []
   },
   "outputs": [
    {
     "data": {
      "application/vnd.jupyter.widget-view+json": {
       "model_id": "f30d861cf9044a5191d4d90748dfff0a",
       "version_major": 2,
       "version_minor": 0
      },
      "text/plain": [
       "VBox()"
      ]
     },
     "metadata": {},
     "output_type": "display_data"
    },
    {
     "data": {
      "application/vnd.jupyter.widget-view+json": {
       "model_id": "",
       "version_major": 2,
       "version_minor": 0
      },
      "text/plain": [
       "FloatProgress(value=0.0, bar_style='info', description='Progress:', layout=Layout(height='25px', width='50%'),…"
      ]
     },
     "metadata": {},
     "output_type": "display_data"
    }
   ],
   "source": [
    "features_asm = FeaturesAssembler()\\\n",
    "    .setInputCols([\"sentence_embeddings\"])\\\n",
    "    .setOutputCol(\"feature_vector\")\n",
    "\n",
    "gen_clf = GenericSVMClassifierApproach()\\\n",
    "    .setLabelColumn(\"category\")\\\n",
    "    .setInputCols(\"feature_vector\")\\\n",
    "    .setOutputCol(\"prediction\")\\\n",
    "    .setModelFile(f\"{graph_folder}/svm_graph.pb\")\\\n",
    "    .setEpochsNumber(20)\\\n",
    "    .setBatchSize(128)\\\n",
    "    .setLearningRate(0.005)\\\n",
    "    .setOutputLogsPath(log_folder)\\\n",
    "    .setDropout(0.1)\\\n",
    "    .setFixImbalance(True)\\\n",
    "    # .setValidationSplit(0.1)\n",
    "\n",
    "clf_Pipeline = Pipeline(stages=[\n",
    "    features_asm,\n",
    "    gc_svm_graph_builder,\n",
    "    gen_clf])\n"
   ]
  },
  {
   "cell_type": "code",
   "execution_count": 123,
   "metadata": {
    "colab": {
     "base_uri": "https://localhost:8080/"
    },
    "execution": {
     "iopub.execute_input": "2023-09-01T05:36:23.207733Z",
     "iopub.status.busy": "2023-09-01T05:36:23.207454Z",
     "iopub.status.idle": "2023-09-01T05:36:30.504319Z",
     "shell.execute_reply": "2023-09-01T05:36:30.503594Z",
     "shell.execute_reply.started": "2023-09-01T05:36:23.207700Z"
    },
    "executionInfo": {
     "elapsed": 3634,
     "status": "ok",
     "timestamp": 1689690034075,
     "user": {
      "displayName": "Ahmet Mesut BİROL",
      "userId": "04340760882990254267"
     },
     "user_tz": -180
    },
    "id": "QHi6KIMSXV7X",
    "outputId": "f98fc473-3cd5-4add-8e8d-ce577f55ff97",
    "tags": []
   },
   "outputs": [
    {
     "data": {
      "application/vnd.jupyter.widget-view+json": {
       "model_id": "fec9d868ef8448d7afe262dbc48bb94b",
       "version_major": 2,
       "version_minor": 0
      },
      "text/plain": [
       "VBox()"
      ]
     },
     "metadata": {},
     "output_type": "display_data"
    },
    {
     "data": {
      "application/vnd.jupyter.widget-view+json": {
       "model_id": "",
       "version_major": 2,
       "version_minor": 0
      },
      "text/plain": [
       "FloatProgress(value=0.0, bar_style='info', description='Progress:', layout=Layout(height='25px', width='50%'),…"
      ]
     },
     "metadata": {},
     "output_type": "display_data"
    },
    {
     "name": "stdout",
     "output_type": "stream",
     "text": [
      "TF Graph Builder configuration:\n",
      "Model name: svm_classifier\n",
      "Graph folder: gc_graph\n",
      "Graph file name: svm_graph.pb\n",
      "Build params: {'input_dim': 200, 'output_dim': 2, 'hidden_layers': [], 'output_act': 'sigmoid', 'loss_func': 'hinge'}\n",
      "svm_classifier graph exported to gc_graph/svm_graph.pb"
     ]
    }
   ],
   "source": [
    "generic_model_hc200 = clf_Pipeline.fit(trainingData_with_embeddings)"
   ]
  },
  {
   "cell_type": "code",
   "execution_count": 124,
   "metadata": {
    "execution": {
     "iopub.execute_input": "2023-09-01T05:36:30.505823Z",
     "iopub.status.busy": "2023-09-01T05:36:30.505608Z",
     "iopub.status.idle": "2023-09-01T05:36:31.953929Z",
     "shell.execute_reply": "2023-09-01T05:36:31.953202Z",
     "shell.execute_reply.started": "2023-09-01T05:36:30.505793Z"
    },
    "id": "JFhqwwIAXV7X",
    "tags": []
   },
   "outputs": [
    {
     "data": {
      "application/vnd.jupyter.widget-view+json": {
       "model_id": "da41a96c3b8f47adb25e7055b9300a1c",
       "version_major": 2,
       "version_minor": 0
      },
      "text/plain": [
       "VBox()"
      ]
     },
     "metadata": {},
     "output_type": "display_data"
    },
    {
     "data": {
      "application/vnd.jupyter.widget-view+json": {
       "model_id": "",
       "version_major": 2,
       "version_minor": 0
      },
      "text/plain": [
       "FloatProgress(value=0.0, bar_style='info', description='Progress:', layout=Layout(height='25px', width='50%'),…"
      ]
     },
     "metadata": {},
     "output_type": "display_data"
    }
   ],
   "source": [
    "pred_df = generic_model_hc200.transform(testData_with_embeddings)"
   ]
  },
  {
   "cell_type": "code",
   "execution_count": 125,
   "metadata": {
    "colab": {
     "base_uri": "https://localhost:8080/"
    },
    "execution": {
     "iopub.execute_input": "2023-09-01T05:36:31.955507Z",
     "iopub.status.busy": "2023-09-01T05:36:31.955233Z",
     "iopub.status.idle": "2023-09-01T05:36:33.229090Z",
     "shell.execute_reply": "2023-09-01T05:36:33.228366Z",
     "shell.execute_reply.started": "2023-09-01T05:36:31.955476Z"
    },
    "executionInfo": {
     "elapsed": 746,
     "status": "ok",
     "timestamp": 1689690035260,
     "user": {
      "displayName": "Ahmet Mesut BİROL",
      "userId": "04340760882990254267"
     },
     "user_tz": -180
    },
    "id": "8so1Xnn9XV7Y",
    "outputId": "b64ab92a-ab51-4730-f967-55fc52fdac8a",
    "tags": []
   },
   "outputs": [
    {
     "data": {
      "application/vnd.jupyter.widget-view+json": {
       "model_id": "aa274cb7a23e4b78b1a5a2f7df0cf7d7",
       "version_major": 2,
       "version_minor": 0
      },
      "text/plain": [
       "VBox()"
      ]
     },
     "metadata": {},
     "output_type": "display_data"
    },
    {
     "data": {
      "application/vnd.jupyter.widget-view+json": {
       "model_id": "",
       "version_major": 2,
       "version_minor": 0
      },
      "text/plain": [
       "FloatProgress(value=0.0, bar_style='info', description='Progress:', layout=Layout(height='25px', width='50%'),…"
      ]
     },
     "metadata": {},
     "output_type": "display_data"
    },
    {
     "name": "stdout",
     "output_type": "stream",
     "text": [
      "              precision    recall  f1-score   support\n",
      "\n",
      "         neg       0.80      0.93      0.86       982\n",
      "         pos       0.76      0.47      0.58       445\n",
      "\n",
      "    accuracy                           0.79      1427\n",
      "   macro avg       0.78      0.70      0.72      1427\n",
      "weighted avg       0.78      0.79      0.77      1427"
     ]
    }
   ],
   "source": [
    "preds_df = pred_df.select('category','prediction.result').toPandas()\n",
    "preds_df['result'] = preds_df.result.apply(lambda x : x[0])\n",
    "\n",
    "print (classification_report(preds_df['category'], preds_df['result']))"
   ]
  },
  {
   "cell_type": "code",
   "execution_count": 126,
   "metadata": {
    "execution": {
     "iopub.execute_input": "2023-09-01T05:36:33.230307Z",
     "iopub.status.busy": "2023-09-01T05:36:33.230093Z",
     "iopub.status.idle": "2023-09-01T05:36:33.492404Z",
     "shell.execute_reply": "2023-09-01T05:36:33.491715Z",
     "shell.execute_reply.started": "2023-09-01T05:36:33.230278Z"
    },
    "id": "tEckv_26Z9An",
    "tags": []
   },
   "outputs": [
    {
     "data": {
      "application/vnd.jupyter.widget-view+json": {
       "model_id": "f05017eac12446a2b0549d4d5c16ae66",
       "version_major": 2,
       "version_minor": 0
      },
      "text/plain": [
       "VBox()"
      ]
     },
     "metadata": {},
     "output_type": "display_data"
    },
    {
     "data": {
      "application/vnd.jupyter.widget-view+json": {
       "model_id": "",
       "version_major": 2,
       "version_minor": 0
      },
      "text/plain": [
       "FloatProgress(value=0.0, bar_style='info', description='Progress:', layout=Layout(height='25px', width='50%'),…"
      ]
     },
     "metadata": {},
     "output_type": "display_data"
    }
   ],
   "source": [
    "res = classification_report(preds_df[\"category\"], preds_df[\"result\"], output_dict=True)\n",
    "results_df.loc[\"GenericSVM_200d\"] = [res[\"pos\"][\"f1-score\"], res[\"accuracy\"]]"
   ]
  },
  {
   "cell_type": "markdown",
   "metadata": {
    "id": "HToBQLkiOHDp"
   },
   "source": [
    "## Bert Sentence Embeddings (sbiobert_base_cased_mli)"
   ]
  },
  {
   "cell_type": "markdown",
   "metadata": {
    "id": "GBpfp09tTedK"
   },
   "source": [
    "Now we will extract [sbiobert_base_cased_mli](https://nlp.johnsnowlabs.com/2020/11/27/sbiobert_base_cased_mli_en.html) embeddings which has 768 dimension output and use this embeddings in the model training."
   ]
  },
  {
   "cell_type": "code",
   "execution_count": 127,
   "metadata": {
    "colab": {
     "base_uri": "https://localhost:8080/"
    },
    "execution": {
     "iopub.execute_input": "2023-09-01T05:36:39.319980Z",
     "iopub.status.busy": "2023-09-01T05:36:39.319712Z",
     "iopub.status.idle": "2023-09-01T05:36:58.822773Z",
     "shell.execute_reply": "2023-09-01T05:36:58.821864Z",
     "shell.execute_reply.started": "2023-09-01T05:36:39.319948Z"
    },
    "executionInfo": {
     "elapsed": 28190,
     "status": "ok",
     "timestamp": 1689690063448,
     "user": {
      "displayName": "Ahmet Mesut BİROL",
      "userId": "04340760882990254267"
     },
     "user_tz": -180
    },
    "id": "eCfAkAC7podJ",
    "outputId": "cfaa0d02-21d9-4bde-e6ee-6a21f695b2b7",
    "tags": []
   },
   "outputs": [
    {
     "data": {
      "application/vnd.jupyter.widget-view+json": {
       "model_id": "b7f3bad752ca43c6a6ae9c03c3678d58",
       "version_major": 2,
       "version_minor": 0
      },
      "text/plain": [
       "VBox()"
      ]
     },
     "metadata": {},
     "output_type": "display_data"
    },
    {
     "data": {
      "application/vnd.jupyter.widget-view+json": {
       "model_id": "",
       "version_major": 2,
       "version_minor": 0
      },
      "text/plain": [
       "FloatProgress(value=0.0, bar_style='info', description='Progress:', layout=Layout(height='25px', width='50%'),…"
      ]
     },
     "metadata": {},
     "output_type": "display_data"
    },
    {
     "name": "stdout",
     "output_type": "stream",
     "text": [
      "sbiobert_base_cased_mli download started this may take some time.\n",
      "Approximate size to download 384.3 MB\n",
      "[OK!]"
     ]
    }
   ],
   "source": [
    "document_assembler = DocumentAssembler()\\\n",
    "    .setInputCol(\"text\")\\\n",
    "    .setOutputCol(\"document\")\n",
    "\n",
    "bert_sent = BertSentenceEmbeddings.pretrained(\"sbiobert_base_cased_mli\", 'en','clinical/models')\\\n",
    "    .setInputCols([\"document\"])\\\n",
    "    .setOutputCol(\"sentence_embeddings\")\n",
    "\n",
    "embeddings_pipeline = Pipeline(\n",
    "    stages = [document_assembler,\n",
    "              bert_sent])"
   ]
  },
  {
   "cell_type": "code",
   "execution_count": 128,
   "metadata": {
    "colab": {
     "base_uri": "https://localhost:8080/"
    },
    "execution": {
     "iopub.execute_input": "2023-09-01T05:36:58.824159Z",
     "iopub.status.busy": "2023-09-01T05:36:58.823942Z",
     "iopub.status.idle": "2023-09-01T05:37:08.120456Z",
     "shell.execute_reply": "2023-09-01T05:37:08.119506Z",
     "shell.execute_reply.started": "2023-09-01T05:36:58.824129Z"
    },
    "executionInfo": {
     "elapsed": 885,
     "status": "ok",
     "timestamp": 1689690064330,
     "user": {
      "displayName": "Ahmet Mesut BİROL",
      "userId": "04340760882990254267"
     },
     "user_tz": -180
    },
    "id": "PbcLStVLpoaN",
    "outputId": "51ffd3f4-4543-410e-d369-1f4e1ede2356"
   },
   "outputs": [
    {
     "data": {
      "application/vnd.jupyter.widget-view+json": {
       "model_id": "1b95cc12c741462bbae43ca3cb59e439",
       "version_major": 2,
       "version_minor": 0
      },
      "text/plain": [
       "VBox()"
      ]
     },
     "metadata": {},
     "output_type": "display_data"
    },
    {
     "data": {
      "application/vnd.jupyter.widget-view+json": {
       "model_id": "",
       "version_major": 2,
       "version_minor": 0
      },
      "text/plain": [
       "FloatProgress(value=0.0, bar_style='info', description='Progress:', layout=Layout(height='25px', width='50%'),…"
      ]
     },
     "metadata": {},
     "output_type": "display_data"
    },
    {
     "name": "stdout",
     "output_type": "stream",
     "text": [
      "+------------------------------------------------------------+--------+------------------------------------------------------------+\n",
      "|                                                        text|category|                                         sentence_embeddings|\n",
      "+------------------------------------------------------------+--------+------------------------------------------------------------+\n",
      "| \"Syndrome malin\"-like symptoms probably due to interacti...|     neg|[{sentence_embeddings, 0, 109,  \"Syndrome malin\"-like sym...|\n",
      "| 'Bail-out' bivalirudin use in patients with thrombotic c...|     neg|[{sentence_embeddings, 0, 150,  'Bail-out' bivalirudin us...|\n",
      "+------------------------------------------------------------+--------+------------------------------------------------------------+\n",
      "only showing top 2 rows"
     ]
    }
   ],
   "source": [
    "trainingData_with_embeddings = embeddings_pipeline.fit(trainingData).transform(trainingData)\\\n",
    "                                                  .select(\"text\",\"category\",\"sentence_embeddings\")\n",
    "\n",
    "trainingData_with_embeddings.show(2,truncate=60)"
   ]
  },
  {
   "cell_type": "code",
   "execution_count": 129,
   "metadata": {
    "colab": {
     "base_uri": "https://localhost:8080/"
    },
    "execution": {
     "iopub.execute_input": "2023-09-01T05:37:08.122974Z",
     "iopub.status.busy": "2023-09-01T05:37:08.122640Z",
     "iopub.status.idle": "2023-09-01T05:37:08.892838Z",
     "shell.execute_reply": "2023-09-01T05:37:08.891894Z",
     "shell.execute_reply.started": "2023-09-01T05:37:08.122927Z"
    },
    "executionInfo": {
     "elapsed": 440,
     "status": "ok",
     "timestamp": 1689690064764,
     "user": {
      "displayName": "Ahmet Mesut BİROL",
      "userId": "04340760882990254267"
     },
     "user_tz": -180
    },
    "id": "qoby-bTzpoYQ",
    "outputId": "efc85c6a-a761-4ee3-8503-67dbe3859671"
   },
   "outputs": [
    {
     "data": {
      "application/vnd.jupyter.widget-view+json": {
       "model_id": "55d5f250e6904573be4a1218d6c0cd42",
       "version_major": 2,
       "version_minor": 0
      },
      "text/plain": [
       "VBox()"
      ]
     },
     "metadata": {},
     "output_type": "display_data"
    },
    {
     "data": {
      "application/vnd.jupyter.widget-view+json": {
       "model_id": "",
       "version_major": 2,
       "version_minor": 0
      },
      "text/plain": [
       "FloatProgress(value=0.0, bar_style='info', description='Progress:', layout=Layout(height='25px', width='50%'),…"
      ]
     },
     "metadata": {},
     "output_type": "display_data"
    },
    {
     "name": "stdout",
     "output_type": "stream",
     "text": [
      "+------------------------------------------------------------+--------+------------------------------------------------------------+\n",
      "|                                                        text|category|                                         sentence_embeddings|\n",
      "+------------------------------------------------------------+--------+------------------------------------------------------------+\n",
      "| 1 previously untreated patient with plasma-cell leukaemi...|     neg|[{sentence_embeddings, 0, 166,  1 previously untreated pa...|\n",
      "| A 15-year-old boy had temporary hypertropia, supraductio...|     neg|[{sentence_embeddings, 0, 262,  A 15-year-old boy had tem...|\n",
      "+------------------------------------------------------------+--------+------------------------------------------------------------+\n",
      "only showing top 2 rows"
     ]
    }
   ],
   "source": [
    "testData_with_embeddings = embeddings_pipeline.fit(testData).transform(testData)\\\n",
    "                                                  .select(\"text\",\"category\",\"sentence_embeddings\")\n",
    "\n",
    "testData_with_embeddings.show(2,truncate=60)"
   ]
  },
  {
   "cell_type": "code",
   "execution_count": 130,
   "metadata": {
    "execution": {
     "iopub.execute_input": "2023-09-01T05:37:08.895102Z",
     "iopub.status.busy": "2023-09-01T05:37:08.894768Z",
     "iopub.status.idle": "2023-09-01T05:37:08.963936Z",
     "shell.execute_reply": "2023-09-01T05:37:08.963231Z",
     "shell.execute_reply.started": "2023-09-01T05:37:08.895054Z"
    },
    "id": "_EetBOQUpoWQ"
   },
   "outputs": [
    {
     "data": {
      "application/vnd.jupyter.widget-view+json": {
       "model_id": "48980d4adf47428ca820d890d02e82a5",
       "version_major": 2,
       "version_minor": 0
      },
      "text/plain": [
       "VBox()"
      ]
     },
     "metadata": {},
     "output_type": "display_data"
    },
    {
     "data": {
      "application/vnd.jupyter.widget-view+json": {
       "model_id": "",
       "version_major": 2,
       "version_minor": 0
      },
      "text/plain": [
       "FloatProgress(value=0.0, bar_style='info', description='Progress:', layout=Layout(height='25px', width='50%'),…"
      ]
     },
     "metadata": {},
     "output_type": "display_data"
    }
   ],
   "source": [
    "log_folder=\"ADE_logs_bert\""
   ]
  },
  {
   "cell_type": "markdown",
   "metadata": {
    "id": "289YUVX7yGE1"
   },
   "source": [
    "### ClassifierDL"
   ]
  },
  {
   "cell_type": "code",
   "execution_count": 131,
   "metadata": {
    "execution": {
     "iopub.execute_input": "2023-09-01T05:37:08.965157Z",
     "iopub.status.busy": "2023-09-01T05:37:08.964898Z",
     "iopub.status.idle": "2023-09-01T05:37:10.425606Z",
     "shell.execute_reply": "2023-09-01T05:37:10.418306Z",
     "shell.execute_reply.started": "2023-09-01T05:37:08.965128Z"
    },
    "id": "ZzCU998wyGE2"
   },
   "outputs": [
    {
     "data": {
      "application/vnd.jupyter.widget-view+json": {
       "model_id": "9a5869a7649d4ff79a8cac619618f682",
       "version_major": 2,
       "version_minor": 0
      },
      "text/plain": [
       "VBox()"
      ]
     },
     "metadata": {},
     "output_type": "display_data"
    },
    {
     "data": {
      "application/vnd.jupyter.widget-view+json": {
       "model_id": "",
       "version_major": 2,
       "version_minor": 0
      },
      "text/plain": [
       "FloatProgress(value=0.0, bar_style='info', description='Progress:', layout=Layout(height='25px', width='50%'),…"
      ]
     },
     "metadata": {},
     "output_type": "display_data"
    }
   ],
   "source": [
    "classifier_dl = ClassifierDLApproach()\\\n",
    "        .setInputCols([\"sentence_embeddings\"])\\\n",
    "        .setOutputCol(\"class\")\\\n",
    "        .setLabelColumn(\"category\")\\\n",
    "        .setBatchSize(32)\\\n",
    "        .setMaxEpochs(20)\\\n",
    "        .setLr(0.001)\\\n",
    "        .setDropout(0.3)\\\n",
    "        .setEnableOutputLogs(True)\\\n",
    "        .setOutputLogsPath(log_folder)\n",
    "\n",
    "classifier_dl_pipeline = Pipeline(stages=[classifier_dl])"
   ]
  },
  {
   "cell_type": "code",
   "execution_count": 132,
   "metadata": {
    "execution": {
     "iopub.execute_input": "2023-09-01T05:37:10.426858Z",
     "iopub.status.busy": "2023-09-01T05:37:10.426636Z",
     "iopub.status.idle": "2023-09-01T05:43:08.696151Z",
     "shell.execute_reply": "2023-09-01T05:43:08.695451Z",
     "shell.execute_reply.started": "2023-09-01T05:37:10.426828Z"
    },
    "id": "AnpZcIyPyGE2",
    "tags": []
   },
   "outputs": [
    {
     "data": {
      "application/vnd.jupyter.widget-view+json": {
       "model_id": "da759d6aa60444d2b96a5c0199561d81",
       "version_major": 2,
       "version_minor": 0
      },
      "text/plain": [
       "VBox()"
      ]
     },
     "metadata": {},
     "output_type": "display_data"
    },
    {
     "data": {
      "application/vnd.jupyter.widget-view+json": {
       "model_id": "",
       "version_major": 2,
       "version_minor": 0
      },
      "text/plain": [
       "FloatProgress(value=0.0, bar_style='info', description='Progress:', layout=Layout(height='25px', width='50%'),…"
      ]
     },
     "metadata": {},
     "output_type": "display_data"
    }
   ],
   "source": [
    "clfDL_model_bert = classifier_dl_pipeline.fit(trainingData_with_embeddings)"
   ]
  },
  {
   "cell_type": "code",
   "execution_count": 133,
   "metadata": {
    "colab": {
     "base_uri": "https://localhost:8080/"
    },
    "execution": {
     "iopub.execute_input": "2023-09-01T05:43:08.697339Z",
     "iopub.status.busy": "2023-09-01T05:43:08.697126Z",
     "iopub.status.idle": "2023-09-01T05:43:58.108236Z",
     "shell.execute_reply": "2023-09-01T05:43:58.107298Z",
     "shell.execute_reply.started": "2023-09-01T05:43:08.697310Z"
    },
    "executionInfo": {
     "elapsed": 28416,
     "status": "ok",
     "timestamp": 1689690313424,
     "user": {
      "displayName": "Ahmet Mesut BİROL",
      "userId": "04340760882990254267"
     },
     "user_tz": -180
    },
    "id": "WTekTE0kyGE2",
    "outputId": "c116c7fa-87ab-42fe-9d18-8c2ede3719fe"
   },
   "outputs": [
    {
     "data": {
      "application/vnd.jupyter.widget-view+json": {
       "model_id": "50372bfdedd049e98b6b3bf0909b011f",
       "version_major": 2,
       "version_minor": 0
      },
      "text/plain": [
       "VBox()"
      ]
     },
     "metadata": {},
     "output_type": "display_data"
    },
    {
     "data": {
      "application/vnd.jupyter.widget-view+json": {
       "model_id": "",
       "version_major": 2,
       "version_minor": 0
      },
      "text/plain": [
       "FloatProgress(value=0.0, bar_style='info', description='Progress:', layout=Layout(height='25px', width='50%'),…"
      ]
     },
     "metadata": {},
     "output_type": "display_data"
    },
    {
     "name": "stdout",
     "output_type": "stream",
     "text": [
      "              precision    recall  f1-score   support\n",
      "\n",
      "         neg       0.89      0.91      0.90       982\n",
      "         pos       0.78      0.75      0.76       445\n",
      "\n",
      "    accuracy                           0.86      1427\n",
      "   macro avg       0.84      0.83      0.83      1427\n",
      "weighted avg       0.86      0.86      0.86      1427"
     ]
    }
   ],
   "source": [
    "preds = clfDL_model_bert.transform(testData_with_embeddings)\n",
    "\n",
    "preds_df = preds.select(\"category\",\"text\",\"class.result\").toPandas()\n",
    "preds_df[\"result\"] = preds_df[\"result\"].apply(lambda x : x[0])\n",
    "\n",
    "print (classification_report(preds_df[\"category\"], preds_df[\"result\"]))"
   ]
  },
  {
   "cell_type": "code",
   "execution_count": 134,
   "metadata": {
    "execution": {
     "iopub.execute_input": "2023-09-01T05:43:58.111914Z",
     "iopub.status.busy": "2023-09-01T05:43:58.111680Z",
     "iopub.status.idle": "2023-09-01T05:43:58.512649Z",
     "shell.execute_reply": "2023-09-01T05:43:58.511953Z",
     "shell.execute_reply.started": "2023-09-01T05:43:58.111883Z"
    },
    "id": "amtaukRqajcV"
   },
   "outputs": [
    {
     "data": {
      "application/vnd.jupyter.widget-view+json": {
       "model_id": "e881a02afc2f40dc8459b865abbc3b68",
       "version_major": 2,
       "version_minor": 0
      },
      "text/plain": [
       "VBox()"
      ]
     },
     "metadata": {},
     "output_type": "display_data"
    },
    {
     "data": {
      "application/vnd.jupyter.widget-view+json": {
       "model_id": "",
       "version_major": 2,
       "version_minor": 0
      },
      "text/plain": [
       "FloatProgress(value=0.0, bar_style='info', description='Progress:', layout=Layout(height='25px', width='50%'),…"
      ]
     },
     "metadata": {},
     "output_type": "display_data"
    }
   ],
   "source": [
    "res = classification_report(preds_df[\"category\"], preds_df[\"result\"], output_dict=True)\n",
    "results_df.loc[\"ClassifierDL_bert\"] = [res[\"pos\"][\"f1-score\"], res[\"accuracy\"]]"
   ]
  },
  {
   "cell_type": "markdown",
   "metadata": {
    "id": "rGyp2ylnT7qq"
   },
   "source": [
    "### MultiClassifierDL"
   ]
  },
  {
   "cell_type": "code",
   "execution_count": 135,
   "metadata": {
    "execution": {
     "iopub.execute_input": "2023-09-01T05:43:58.514239Z",
     "iopub.status.busy": "2023-09-01T05:43:58.514023Z",
     "iopub.status.idle": "2023-09-01T05:43:58.576571Z",
     "shell.execute_reply": "2023-09-01T05:43:58.575899Z",
     "shell.execute_reply.started": "2023-09-01T05:43:58.514210Z"
    },
    "id": "rgc8eN32T7qq"
   },
   "outputs": [
    {
     "data": {
      "application/vnd.jupyter.widget-view+json": {
       "model_id": "4e6550a998454c4e946f1747fd36ebd4",
       "version_major": 2,
       "version_minor": 0
      },
      "text/plain": [
       "VBox()"
      ]
     },
     "metadata": {},
     "output_type": "display_data"
    },
    {
     "data": {
      "application/vnd.jupyter.widget-view+json": {
       "model_id": "",
       "version_major": 2,
       "version_minor": 0
      },
      "text/plain": [
       "FloatProgress(value=0.0, bar_style='info', description='Progress:', layout=Layout(height='25px', width='50%'),…"
      ]
     },
     "metadata": {},
     "output_type": "display_data"
    }
   ],
   "source": [
    "# MultiClassifierDL accepts list of strings as input label. So we convert label column to array type.\n",
    "trainingData_with_embeddings = trainingData_with_embeddings.withColumn(\"category_array\", F.array(F.col(\"category\")))\n",
    "testData_with_embeddings = testData_with_embeddings.withColumn(\"category_array\", F.array(F.col(\"category\")))"
   ]
  },
  {
   "cell_type": "code",
   "execution_count": 136,
   "metadata": {
    "execution": {
     "iopub.execute_input": "2023-09-01T05:43:58.577779Z",
     "iopub.status.busy": "2023-09-01T05:43:58.577570Z",
     "iopub.status.idle": "2023-09-01T05:43:58.804889Z",
     "shell.execute_reply": "2023-09-01T05:43:58.804158Z",
     "shell.execute_reply.started": "2023-09-01T05:43:58.577750Z"
    },
    "id": "VNSQp8iyT7qr"
   },
   "outputs": [
    {
     "data": {
      "application/vnd.jupyter.widget-view+json": {
       "model_id": "5a2aa8d00ebb4479abcc96bb7a5dc840",
       "version_major": 2,
       "version_minor": 0
      },
      "text/plain": [
       "VBox()"
      ]
     },
     "metadata": {},
     "output_type": "display_data"
    },
    {
     "data": {
      "application/vnd.jupyter.widget-view+json": {
       "model_id": "",
       "version_major": 2,
       "version_minor": 0
      },
      "text/plain": [
       "FloatProgress(value=0.0, bar_style='info', description='Progress:', layout=Layout(height='25px', width='50%'),…"
      ]
     },
     "metadata": {},
     "output_type": "display_data"
    }
   ],
   "source": [
    "multiClassifier = MultiClassifierDLApproach()\\\n",
    "  .setInputCols(\"sentence_embeddings\")\\\n",
    "  .setOutputCol(\"prediction\")\\\n",
    "  .setLabelColumn(\"category_array\")\\\n",
    "  .setBatchSize(32)\\\n",
    "  .setMaxEpochs(20)\\\n",
    "  .setLr(9e-3)\\\n",
    "  .setThreshold(0.5)\\\n",
    "  .setShufflePerEpoch(False)\\\n",
    "  .setEnableOutputLogs(True)\\\n",
    "  .setOutputLogsPath(log_folder)\\\n",
    "#   .setValidationSplit(0.1)\n",
    "\n",
    "multiClassifier_pipeline = Pipeline(\n",
    "    stages = [\n",
    "        multiClassifier\n",
    "    ])"
   ]
  },
  {
   "cell_type": "code",
   "execution_count": 137,
   "metadata": {
    "execution": {
     "iopub.execute_input": "2023-09-01T05:43:58.806111Z",
     "iopub.status.busy": "2023-09-01T05:43:58.805877Z",
     "iopub.status.idle": "2023-09-01T05:50:47.472307Z",
     "shell.execute_reply": "2023-09-01T05:50:47.471528Z",
     "shell.execute_reply.started": "2023-09-01T05:43:58.806080Z"
    },
    "id": "2KuFBI44T7qr",
    "tags": []
   },
   "outputs": [
    {
     "data": {
      "application/vnd.jupyter.widget-view+json": {
       "model_id": "560d31e86fed44f894c035595906f7ea",
       "version_major": 2,
       "version_minor": 0
      },
      "text/plain": [
       "VBox()"
      ]
     },
     "metadata": {},
     "output_type": "display_data"
    },
    {
     "data": {
      "application/vnd.jupyter.widget-view+json": {
       "model_id": "",
       "version_major": 2,
       "version_minor": 0
      },
      "text/plain": [
       "FloatProgress(value=0.0, bar_style='info', description='Progress:', layout=Layout(height='25px', width='50%'),…"
      ]
     },
     "metadata": {},
     "output_type": "display_data"
    }
   ],
   "source": [
    "multiClassifier_model_bert = multiClassifier_pipeline.fit(trainingData_with_embeddings)"
   ]
  },
  {
   "cell_type": "code",
   "execution_count": 138,
   "metadata": {
    "execution": {
     "iopub.execute_input": "2023-09-01T05:50:47.473492Z",
     "iopub.status.busy": "2023-09-01T05:50:47.473270Z",
     "iopub.status.idle": "2023-09-01T05:50:47.730183Z",
     "shell.execute_reply": "2023-09-01T05:50:47.729451Z",
     "shell.execute_reply.started": "2023-09-01T05:50:47.473462Z"
    },
    "id": "WF1cSwJrT7qr"
   },
   "outputs": [
    {
     "data": {
      "application/vnd.jupyter.widget-view+json": {
       "model_id": "8b85cac31aa24c118117e750ce4e976c",
       "version_major": 2,
       "version_minor": 0
      },
      "text/plain": [
       "VBox()"
      ]
     },
     "metadata": {},
     "output_type": "display_data"
    },
    {
     "data": {
      "application/vnd.jupyter.widget-view+json": {
       "model_id": "",
       "version_major": 2,
       "version_minor": 0
      },
      "text/plain": [
       "FloatProgress(value=0.0, bar_style='info', description='Progress:', layout=Layout(height='25px', width='50%'),…"
      ]
     },
     "metadata": {},
     "output_type": "display_data"
    }
   ],
   "source": [
    "preds = multiClassifier_model_bert.transform(testData_with_embeddings)"
   ]
  },
  {
   "cell_type": "code",
   "execution_count": 139,
   "metadata": {
    "colab": {
     "base_uri": "https://localhost:8080/"
    },
    "execution": {
     "iopub.execute_input": "2023-09-01T05:50:47.731342Z",
     "iopub.status.busy": "2023-09-01T05:50:47.731134Z",
     "iopub.status.idle": "2023-09-01T05:52:23.707192Z",
     "shell.execute_reply": "2023-09-01T05:52:23.706497Z",
     "shell.execute_reply.started": "2023-09-01T05:50:47.731313Z"
    },
    "executionInfo": {
     "elapsed": 44001,
     "status": "ok",
     "timestamp": 1689690623380,
     "user": {
      "displayName": "Ahmet Mesut BİROL",
      "userId": "04340760882990254267"
     },
     "user_tz": -180
    },
    "id": "DAMLtlVsT7qr",
    "outputId": "d30df769-d482-425a-d195-eb5df56e6054"
   },
   "outputs": [
    {
     "data": {
      "application/vnd.jupyter.widget-view+json": {
       "model_id": "c2801669cc4c466e97ee91feb0be7756",
       "version_major": 2,
       "version_minor": 0
      },
      "text/plain": [
       "VBox()"
      ]
     },
     "metadata": {},
     "output_type": "display_data"
    },
    {
     "data": {
      "application/vnd.jupyter.widget-view+json": {
       "model_id": "",
       "version_major": 2,
       "version_minor": 0
      },
      "text/plain": [
       "FloatProgress(value=0.0, bar_style='info', description='Progress:', layout=Layout(height='25px', width='50%'),…"
      ]
     },
     "metadata": {},
     "output_type": "display_data"
    },
    {
     "name": "stdout",
     "output_type": "stream",
     "text": [
      "['neg']    1022\n",
      "['pos']     404\n",
      "[]            1\n",
      "Name: result, dtype: int64"
     ]
    }
   ],
   "source": [
    "preds_df = preds.select(\"category\",\"text\",\"prediction.result\",\"prediction.metadata\").toPandas()\n",
    "preds_df.result.apply(lambda x: str(x) ).value_counts()"
   ]
  },
  {
   "cell_type": "code",
   "execution_count": 140,
   "metadata": {
    "colab": {
     "base_uri": "https://localhost:8080/"
    },
    "execution": {
     "iopub.execute_input": "2023-09-01T05:52:23.708411Z",
     "iopub.status.busy": "2023-09-01T05:52:23.708199Z",
     "iopub.status.idle": "2023-09-01T05:52:23.771820Z",
     "shell.execute_reply": "2023-09-01T05:52:23.771110Z",
     "shell.execute_reply.started": "2023-09-01T05:52:23.708381Z"
    },
    "executionInfo": {
     "elapsed": 20,
     "status": "ok",
     "timestamp": 1689690623380,
     "user": {
      "displayName": "Ahmet Mesut BİROL",
      "userId": "04340760882990254267"
     },
     "user_tz": -180
    },
    "id": "HcZ7OAaYT7qr",
    "outputId": "503bc3b2-031e-4b06-d5ff-8bdb54e960ed"
   },
   "outputs": [
    {
     "data": {
      "application/vnd.jupyter.widget-view+json": {
       "model_id": "57166fc5632e494c8c44af683d06ee84",
       "version_major": 2,
       "version_minor": 0
      },
      "text/plain": [
       "VBox()"
      ]
     },
     "metadata": {},
     "output_type": "display_data"
    },
    {
     "data": {
      "application/vnd.jupyter.widget-view+json": {
       "model_id": "",
       "version_major": 2,
       "version_minor": 0
      },
      "text/plain": [
       "FloatProgress(value=0.0, bar_style='info', description='Progress:', layout=Layout(height='25px', width='50%'),…"
      ]
     },
     "metadata": {},
     "output_type": "display_data"
    },
    {
     "name": "stdout",
     "output_type": "stream",
     "text": [
      "neg    1022\n",
      "pos     404\n",
      "Name: result, dtype: int64"
     ]
    }
   ],
   "source": [
    "# We will get the highest score label as result. You can control the number of zero label results with setThreshold() in the training.\n",
    "preds_df[\"scores\"] = preds_df.metadata.apply(lambda x: {k:float(v) for k,v in x[0].items()} if len(x)>=1 else \"\")\n",
    "preds_df[\"result\"] = preds_df.scores.apply(lambda x: max(x, key=x.get) if len(x)>=1 else \"\")\n",
    "preds_df = preds_df[(preds_df[\"result\"]!=\"\")]\n",
    "preds_df[\"result\"].value_counts()"
   ]
  },
  {
   "cell_type": "code",
   "execution_count": 141,
   "metadata": {
    "colab": {
     "base_uri": "https://localhost:8080/"
    },
    "execution": {
     "iopub.execute_input": "2023-09-01T05:52:23.773139Z",
     "iopub.status.busy": "2023-09-01T05:52:23.772860Z",
     "iopub.status.idle": "2023-09-01T05:52:23.992756Z",
     "shell.execute_reply": "2023-09-01T05:52:23.992016Z",
     "shell.execute_reply.started": "2023-09-01T05:52:23.773108Z"
    },
    "executionInfo": {
     "elapsed": 14,
     "status": "ok",
     "timestamp": 1689690623381,
     "user": {
      "displayName": "Ahmet Mesut BİROL",
      "userId": "04340760882990254267"
     },
     "user_tz": -180
    },
    "id": "Crbnvw7GT7qr",
    "outputId": "ef0cd2da-d9e7-45fd-d98e-fef20057efdb"
   },
   "outputs": [
    {
     "data": {
      "application/vnd.jupyter.widget-view+json": {
       "model_id": "d6f4b24e1d624eda92eeed34e708ce67",
       "version_major": 2,
       "version_minor": 0
      },
      "text/plain": [
       "VBox()"
      ]
     },
     "metadata": {},
     "output_type": "display_data"
    },
    {
     "data": {
      "application/vnd.jupyter.widget-view+json": {
       "model_id": "",
       "version_major": 2,
       "version_minor": 0
      },
      "text/plain": [
       "FloatProgress(value=0.0, bar_style='info', description='Progress:', layout=Layout(height='25px', width='50%'),…"
      ]
     },
     "metadata": {},
     "output_type": "display_data"
    },
    {
     "name": "stdout",
     "output_type": "stream",
     "text": [
      "              precision    recall  f1-score   support\n",
      "\n",
      "         neg       0.89      0.93      0.91       981\n",
      "         pos       0.83      0.75      0.79       445\n",
      "\n",
      "    accuracy                           0.87      1426\n",
      "   macro avg       0.86      0.84      0.85      1426\n",
      "weighted avg       0.87      0.87      0.87      1426"
     ]
    }
   ],
   "source": [
    "print (classification_report(preds_df[\"category\"], preds_df[\"result\"]))"
   ]
  },
  {
   "cell_type": "code",
   "execution_count": 142,
   "metadata": {
    "execution": {
     "iopub.execute_input": "2023-09-01T05:52:23.994083Z",
     "iopub.status.busy": "2023-09-01T05:52:23.993852Z",
     "iopub.status.idle": "2023-09-01T05:52:24.251248Z",
     "shell.execute_reply": "2023-09-01T05:52:24.250371Z",
     "shell.execute_reply.started": "2023-09-01T05:52:23.994053Z"
    },
    "id": "lVjY4TP0axQz"
   },
   "outputs": [
    {
     "data": {
      "application/vnd.jupyter.widget-view+json": {
       "model_id": "fefba5fbda114b12807d594b147ece04",
       "version_major": 2,
       "version_minor": 0
      },
      "text/plain": [
       "VBox()"
      ]
     },
     "metadata": {},
     "output_type": "display_data"
    },
    {
     "data": {
      "application/vnd.jupyter.widget-view+json": {
       "model_id": "",
       "version_major": 2,
       "version_minor": 0
      },
      "text/plain": [
       "FloatProgress(value=0.0, bar_style='info', description='Progress:', layout=Layout(height='25px', width='50%'),…"
      ]
     },
     "metadata": {},
     "output_type": "display_data"
    }
   ],
   "source": [
    "res = classification_report(preds_df[\"category\"], preds_df[\"result\"], output_dict=True)\n",
    "results_df.loc[\"MultiClassifierDL_bert\"] = [res[\"pos\"][\"f1-score\"], res[\"accuracy\"]]"
   ]
  },
  {
   "cell_type": "markdown",
   "metadata": {
    "id": "Y4hlGSE9yGE3"
   },
   "source": [
    "### Generic Classifier"
   ]
  },
  {
   "cell_type": "code",
   "execution_count": 143,
   "metadata": {
    "execution": {
     "iopub.execute_input": "2023-09-01T05:52:24.252396Z",
     "iopub.status.busy": "2023-09-01T05:52:24.252186Z",
     "iopub.status.idle": "2023-09-01T05:52:24.303847Z",
     "shell.execute_reply": "2023-09-01T05:52:24.303204Z",
     "shell.execute_reply.started": "2023-09-01T05:52:24.252368Z"
    },
    "id": "lFjM5RcliQSx"
   },
   "outputs": [
    {
     "data": {
      "application/vnd.jupyter.widget-view+json": {
       "model_id": "3f01a69e7bf0472db02e52188922e584",
       "version_major": 2,
       "version_minor": 0
      },
      "text/plain": [
       "VBox()"
      ]
     },
     "metadata": {},
     "output_type": "display_data"
    },
    {
     "data": {
      "application/vnd.jupyter.widget-view+json": {
       "model_id": "",
       "version_major": 2,
       "version_minor": 0
      },
      "text/plain": [
       "FloatProgress(value=0.0, bar_style='info', description='Progress:', layout=Layout(height='25px', width='50%'),…"
      ]
     },
     "metadata": {},
     "output_type": "display_data"
    }
   ],
   "source": [
    "# !pip install -q tensorflow==2.11.0 tensorflow_addons"
   ]
  },
  {
   "cell_type": "code",
   "execution_count": 144,
   "metadata": {
    "execution": {
     "iopub.execute_input": "2023-09-01T05:52:24.304903Z",
     "iopub.status.busy": "2023-09-01T05:52:24.304696Z",
     "iopub.status.idle": "2023-09-01T05:52:24.367671Z",
     "shell.execute_reply": "2023-09-01T05:52:24.366759Z",
     "shell.execute_reply.started": "2023-09-01T05:52:24.304876Z"
    },
    "id": "yNSz6-FbyGE3"
   },
   "outputs": [
    {
     "data": {
      "application/vnd.jupyter.widget-view+json": {
       "model_id": "c068d29750ad4c168efd0ddd63f45634",
       "version_major": 2,
       "version_minor": 0
      },
      "text/plain": [
       "VBox()"
      ]
     },
     "metadata": {},
     "output_type": "display_data"
    },
    {
     "data": {
      "application/vnd.jupyter.widget-view+json": {
       "model_id": "",
       "version_major": 2,
       "version_minor": 0
      },
      "text/plain": [
       "FloatProgress(value=0.0, bar_style='info', description='Progress:', layout=Layout(height='25px', width='50%'),…"
      ]
     },
     "metadata": {},
     "output_type": "display_data"
    }
   ],
   "source": [
    "from sparknlp_jsl.annotator import TFGraphBuilder\n",
    "\n",
    "graph_folder = \"gc_graph\"\n",
    "\n",
    "gc_graph_builder = TFGraphBuilder()\\\n",
    "    .setModelName(\"generic_classifier\")\\\n",
    "    .setInputCols([\"features\"])\\\n",
    "    .setLabelColumn(\"category\")\\\n",
    "    .setHiddenLayers([300,200, 50])\\\n",
    "    .setHiddenAct(\"tanh\")\\\n",
    "    .setHiddenActL2(True)\\\n",
    "    .setBatchNorm(True)\\\n",
    "    .setGraphFolder(graph_folder)\\\n",
    "    .setGraphFile(\"gcf_graph_bert.pb\")"
   ]
  },
  {
   "cell_type": "code",
   "execution_count": 145,
   "metadata": {
    "execution": {
     "iopub.execute_input": "2023-09-01T05:52:24.369006Z",
     "iopub.status.busy": "2023-09-01T05:52:24.368712Z",
     "iopub.status.idle": "2023-09-01T05:52:25.236011Z",
     "shell.execute_reply": "2023-09-01T05:52:25.235318Z",
     "shell.execute_reply.started": "2023-09-01T05:52:24.368916Z"
    },
    "id": "lYsWcP6yyGE3"
   },
   "outputs": [
    {
     "data": {
      "application/vnd.jupyter.widget-view+json": {
       "model_id": "a4056cf5278d41009ba3c37dea8bec04",
       "version_major": 2,
       "version_minor": 0
      },
      "text/plain": [
       "VBox()"
      ]
     },
     "metadata": {},
     "output_type": "display_data"
    },
    {
     "data": {
      "application/vnd.jupyter.widget-view+json": {
       "model_id": "",
       "version_major": 2,
       "version_minor": 0
      },
      "text/plain": [
       "FloatProgress(value=0.0, bar_style='info', description='Progress:', layout=Layout(height='25px', width='50%'),…"
      ]
     },
     "metadata": {},
     "output_type": "display_data"
    }
   ],
   "source": [
    "features_asm = FeaturesAssembler()\\\n",
    "    .setInputCols([\"sentence_embeddings\"])\\\n",
    "    .setOutputCol(\"features\")\n",
    "\n",
    "gen_clf = GenericClassifierApproach()\\\n",
    "    .setLabelColumn(\"category\")\\\n",
    "    .setInputCols(\"features\")\\\n",
    "    .setOutputCol(\"prediction\")\\\n",
    "    .setModelFile(f\"{graph_folder}/gcf_graph_bert.pb\")\\\n",
    "    .setEpochsNumber(20)\\\n",
    "    .setBatchSize(32)\\\n",
    "    .setLearningRate(0.001)\\\n",
    "    .setOutputLogsPath(log_folder)\\\n",
    "    .setDropout(0.5)\\\n",
    "    .setFixImbalance(True)\\\n",
    "    # .setValidationSplit(0.1)\n",
    "\n",
    "clf_Pipeline = Pipeline(stages=[\n",
    "    features_asm,\n",
    "    gc_graph_builder,\n",
    "    gen_clf])\n"
   ]
  },
  {
   "cell_type": "code",
   "execution_count": null,
   "metadata": {
    "colab": {
     "base_uri": "https://localhost:8080/"
    },
    "execution": {
     "iopub.execute_input": "2023-09-01T05:52:25.237176Z",
     "iopub.status.busy": "2023-09-01T05:52:25.236928Z",
     "iopub.status.idle": "2023-09-01T06:04:06.441239Z"
    },
    "executionInfo": {
     "elapsed": 376727,
     "status": "ok",
     "timestamp": 1689691000102,
     "user": {
      "displayName": "Ahmet Mesut BİROL",
      "userId": "04340760882990254267"
     },
     "user_tz": -180
    },
    "id": "uTJY05QbyGE3",
    "outputId": "303f59f3-3fbb-4df1-f5f5-f7e0d86ff431"
   },
   "outputs": [
    {
     "data": {
      "application/vnd.jupyter.widget-view+json": {
       "model_id": "2d54565774b641208b2079d8dce0841b",
       "version_major": 2,
       "version_minor": 0
      },
      "text/plain": [
       "VBox()"
      ]
     },
     "metadata": {},
     "output_type": "display_data"
    },
    {
     "data": {
      "application/vnd.jupyter.widget-view+json": {
       "model_id": "",
       "version_major": 2,
       "version_minor": 0
      },
      "text/plain": [
       "FloatProgress(value=0.0, bar_style='info', description='Progress:', layout=Layout(height='25px', width='50%'),…"
      ]
     },
     "metadata": {},
     "output_type": "display_data"
    },
    {
     "name": "stdout",
     "output_type": "stream",
     "text": [
      "TF Graph Builder configuration:\n",
      "Model name: generic_classifier\n",
      "Graph folder: gc_graph\n",
      "Graph file name: gcf_graph_bert.pb\n",
      "Build params: {'input_dim': 768, 'output_dim': 2, 'hidden_layers': [300, 200, 50], 'hidden_act': 'tanh', 'hidden_act_l2': True, 'batch_norm': True}\n",
      "generic_classifier graph exported to gc_graph/gcf_graph_bert.pb"
     ]
    }
   ],
   "source": [
    "generic_model_bert = clf_Pipeline.fit(trainingData_with_embeddings)"
   ]
  },
  {
   "cell_type": "code",
   "execution_count": null,
   "metadata": {
    "colab": {
     "base_uri": "https://localhost:8080/"
    },
    "execution": {
     "iopub.execute_input": "2023-09-01T06:04:06.442535Z",
     "iopub.status.busy": "2023-09-01T06:04:06.442317Z",
     "iopub.status.idle": "2023-09-01T06:05:41.960774Z"
    },
    "executionInfo": {
     "elapsed": 50142,
     "status": "ok",
     "timestamp": 1689691050222,
     "user": {
      "displayName": "Ahmet Mesut BİROL",
      "userId": "04340760882990254267"
     },
     "user_tz": -180
    },
    "id": "EB1ONwUvyGE3",
    "outputId": "8d5ea3bf-a097-40c8-a521-f36dd30c870a",
    "tags": []
   },
   "outputs": [
    {
     "data": {
      "application/vnd.jupyter.widget-view+json": {
       "model_id": "a5a674e640b2409d8d223ccc6250e078",
       "version_major": 2,
       "version_minor": 0
      },
      "text/plain": [
       "VBox()"
      ]
     },
     "metadata": {},
     "output_type": "display_data"
    },
    {
     "data": {
      "application/vnd.jupyter.widget-view+json": {
       "model_id": "",
       "version_major": 2,
       "version_minor": 0
      },
      "text/plain": [
       "FloatProgress(value=0.0, bar_style='info', description='Progress:', layout=Layout(height='25px', width='50%'),…"
      ]
     },
     "metadata": {},
     "output_type": "display_data"
    },
    {
     "name": "stdout",
     "output_type": "stream",
     "text": [
      "              precision    recall  f1-score   support\n",
      "\n",
      "         neg       0.93      0.85      0.89       982\n",
      "         pos       0.72      0.87      0.79       445\n",
      "\n",
      "    accuracy                           0.85      1427\n",
      "   macro avg       0.83      0.86      0.84      1427\n",
      "weighted avg       0.87      0.85      0.86      1427"
     ]
    }
   ],
   "source": [
    "pred_df = generic_model_bert.transform(testData_with_embeddings)\n",
    "\n",
    "preds_df = pred_df.select('category','prediction.result').toPandas()\n",
    "preds_df['result'] = preds_df.result.apply(lambda x : x[0])\n",
    "\n",
    "print (classification_report(preds_df['category'], preds_df['result']))"
   ]
  },
  {
   "cell_type": "code",
   "execution_count": null,
   "metadata": {
    "execution": {
     "iopub.execute_input": "2023-09-01T06:05:41.961987Z",
     "iopub.status.busy": "2023-09-01T06:05:41.961715Z",
     "iopub.status.idle": "2023-09-01T06:05:42.219547Z"
    },
    "id": "v8Uq9YUrbF5a"
   },
   "outputs": [
    {
     "data": {
      "application/vnd.jupyter.widget-view+json": {
       "model_id": "8b8d6ecb572149de93576e594659ca55",
       "version_major": 2,
       "version_minor": 0
      },
      "text/plain": [
       "VBox()"
      ]
     },
     "metadata": {},
     "output_type": "display_data"
    },
    {
     "data": {
      "application/vnd.jupyter.widget-view+json": {
       "model_id": "",
       "version_major": 2,
       "version_minor": 0
      },
      "text/plain": [
       "FloatProgress(value=0.0, bar_style='info', description='Progress:', layout=Layout(height='25px', width='50%'),…"
      ]
     },
     "metadata": {},
     "output_type": "display_data"
    }
   ],
   "source": [
    "res = classification_report(preds_df[\"category\"], preds_df[\"result\"], output_dict=True)\n",
    "results_df.loc[\"GenericClassifier_bert\"] = [res[\"pos\"][\"f1-score\"], res[\"accuracy\"]]"
   ]
  },
  {
   "cell_type": "markdown",
   "metadata": {
    "id": "wP2hYqY1XJVB"
   },
   "source": [
    "### GenericLogRegClassifier"
   ]
  },
  {
   "cell_type": "code",
   "execution_count": null,
   "metadata": {
    "execution": {
     "iopub.execute_input": "2023-09-01T06:05:42.223471Z",
     "iopub.status.busy": "2023-09-01T06:05:42.223254Z",
     "iopub.status.idle": "2023-09-01T06:05:42.275480Z"
    },
    "id": "nMqP9w4YXJVB"
   },
   "outputs": [
    {
     "data": {
      "application/vnd.jupyter.widget-view+json": {
       "model_id": "dab70e94c96842a6b515f40f19028d16",
       "version_major": 2,
       "version_minor": 0
      },
      "text/plain": [
       "VBox()"
      ]
     },
     "metadata": {},
     "output_type": "display_data"
    },
    {
     "data": {
      "application/vnd.jupyter.widget-view+json": {
       "model_id": "",
       "version_major": 2,
       "version_minor": 0
      },
      "text/plain": [
       "FloatProgress(value=0.0, bar_style='info', description='Progress:', layout=Layout(height='25px', width='50%'),…"
      ]
     },
     "metadata": {},
     "output_type": "display_data"
    }
   ],
   "source": [
    "from sparknlp_jsl.annotator import TFGraphBuilder\n",
    "\n",
    "graph_folder = \"gc_graph\"\n",
    "\n",
    "gc_logreg_graph_builder = TFGraphBuilder()\\\n",
    "    .setModelName(\"logreg_classifier\")\\\n",
    "    .setInputCols([\"feature_vector\"]) \\\n",
    "    .setLabelColumn(\"category\")\\\n",
    "    .setGraphFolder(graph_folder)\\\n",
    "    .setGraphFile(\"log_reg_graph.pb\")"
   ]
  },
  {
   "cell_type": "markdown",
   "metadata": {
    "id": "ubEJt4C5XJVB"
   },
   "source": [
    "GenericLogRegClassifier needs outputs from FeaturesAssembler. The FeaturesAssembler is used to collect features from different columns or an embeddings column.\n",
    "\n",
    "The GenericLogRegClassifier takes FEATURE_VECTOR annotations as input, classifies them and outputs CATEGORY annotations."
   ]
  },
  {
   "cell_type": "code",
   "execution_count": null,
   "metadata": {
    "execution": {
     "iopub.execute_input": "2023-09-01T06:05:42.279767Z",
     "iopub.status.busy": "2023-09-01T06:05:42.279551Z",
     "iopub.status.idle": "2023-09-01T06:05:42.332808Z"
    },
    "id": "JciMxptEXJVB"
   },
   "outputs": [
    {
     "data": {
      "application/vnd.jupyter.widget-view+json": {
       "model_id": "e19d6256265541f8adb5e8a785872deb",
       "version_major": 2,
       "version_minor": 0
      },
      "text/plain": [
       "VBox()"
      ]
     },
     "metadata": {},
     "output_type": "display_data"
    },
    {
     "data": {
      "application/vnd.jupyter.widget-view+json": {
       "model_id": "",
       "version_major": 2,
       "version_minor": 0
      },
      "text/plain": [
       "FloatProgress(value=0.0, bar_style='info', description='Progress:', layout=Layout(height='25px', width='50%'),…"
      ]
     },
     "metadata": {},
     "output_type": "display_data"
    }
   ],
   "source": [
    "features_asm = FeaturesAssembler()\\\n",
    "    .setInputCols([\"sentence_embeddings\"])\\\n",
    "    .setOutputCol(\"feature_vector\")\n",
    "\n",
    "gen_clf = GenericLogRegClassifierApproach()\\\n",
    "    .setLabelColumn(\"category\")\\\n",
    "    .setInputCols(\"feature_vector\")\\\n",
    "    .setOutputCol(\"prediction\")\\\n",
    "    .setModelFile(f\"{graph_folder}/log_reg_graph.pb\")\\\n",
    "    .setEpochsNumber(20)\\\n",
    "    .setBatchSize(128)\\\n",
    "    .setLearningRate(0.01)\\\n",
    "    .setOutputLogsPath(log_folder)\\\n",
    "    .setDropout(0.1)\\\n",
    "    .setFixImbalance(True)\\\n",
    "    # .setValidationSplit(0.1)\n",
    "\n",
    "clf_Pipeline = Pipeline(stages=[\n",
    "    features_asm,\n",
    "    gc_logreg_graph_builder,\n",
    "    gen_clf])\n"
   ]
  },
  {
   "cell_type": "code",
   "execution_count": null,
   "metadata": {
    "colab": {
     "base_uri": "https://localhost:8080/"
    },
    "execution": {
     "iopub.execute_input": "2023-09-01T06:05:42.336385Z",
     "iopub.status.busy": "2023-09-01T06:05:42.336168Z",
     "iopub.status.idle": "2023-09-01T06:17:09.479828Z"
    },
    "executionInfo": {
     "elapsed": 367302,
     "status": "ok",
     "timestamp": 1689691417521,
     "user": {
      "displayName": "Ahmet Mesut BİROL",
      "userId": "04340760882990254267"
     },
     "user_tz": -180
    },
    "id": "vxDhTsP0XJVC",
    "outputId": "a5b577aa-8174-400d-94c1-5642282201c3",
    "tags": []
   },
   "outputs": [
    {
     "data": {
      "application/vnd.jupyter.widget-view+json": {
       "model_id": "381d30d4bb8142c896fbf3114e50112e",
       "version_major": 2,
       "version_minor": 0
      },
      "text/plain": [
       "VBox()"
      ]
     },
     "metadata": {},
     "output_type": "display_data"
    },
    {
     "data": {
      "application/vnd.jupyter.widget-view+json": {
       "model_id": "",
       "version_major": 2,
       "version_minor": 0
      },
      "text/plain": [
       "FloatProgress(value=0.0, bar_style='info', description='Progress:', layout=Layout(height='25px', width='50%'),…"
      ]
     },
     "metadata": {},
     "output_type": "display_data"
    },
    {
     "name": "stdout",
     "output_type": "stream",
     "text": [
      "TF Graph Builder configuration:\n",
      "Model name: logreg_classifier\n",
      "Graph folder: gc_graph\n",
      "Graph file name: log_reg_graph.pb\n",
      "Build params: {'input_dim': 768, 'output_dim': 2, 'hidden_layers': [], 'output_act': 'sigmoid'}\n",
      "logreg_classifier graph exported to gc_graph/log_reg_graph.pb"
     ]
    }
   ],
   "source": [
    "generic_model_bert = clf_Pipeline.fit(trainingData_with_embeddings)"
   ]
  },
  {
   "cell_type": "code",
   "execution_count": null,
   "metadata": {
    "execution": {
     "iopub.execute_input": "2023-09-01T06:17:09.482621Z",
     "iopub.status.busy": "2023-09-01T06:17:09.482406Z",
     "iopub.status.idle": "2023-09-01T06:17:56.879049Z"
    },
    "id": "EpQZpzg1XJVC",
    "tags": []
   },
   "outputs": [
    {
     "data": {
      "application/vnd.jupyter.widget-view+json": {
       "model_id": "cb51dddd3fde45a79128564fd4dfd4a1",
       "version_major": 2,
       "version_minor": 0
      },
      "text/plain": [
       "VBox()"
      ]
     },
     "metadata": {},
     "output_type": "display_data"
    },
    {
     "data": {
      "application/vnd.jupyter.widget-view+json": {
       "model_id": "",
       "version_major": 2,
       "version_minor": 0
      },
      "text/plain": [
       "FloatProgress(value=0.0, bar_style='info', description='Progress:', layout=Layout(height='25px', width='50%'),…"
      ]
     },
     "metadata": {},
     "output_type": "display_data"
    }
   ],
   "source": [
    "pred_df = generic_model_bert.transform(testData_with_embeddings)"
   ]
  },
  {
   "cell_type": "code",
   "execution_count": null,
   "metadata": {
    "colab": {
     "base_uri": "https://localhost:8080/"
    },
    "execution": {
     "iopub.execute_input": "2023-09-01T06:17:56.926532Z",
     "iopub.status.busy": "2023-09-01T06:17:56.926311Z",
     "iopub.status.idle": "2023-09-01T06:18:44.646773Z"
    },
    "executionInfo": {
     "elapsed": 24379,
     "status": "ok",
     "timestamp": 1689691466938,
     "user": {
      "displayName": "Ahmet Mesut BİROL",
      "userId": "04340760882990254267"
     },
     "user_tz": -180
    },
    "id": "YAIyaNA5XJVC",
    "outputId": "45ea651b-f916-4c77-be26-9ec879d68a00",
    "tags": []
   },
   "outputs": [
    {
     "data": {
      "application/vnd.jupyter.widget-view+json": {
       "model_id": "3b73abb90a784caf946043386f0c6890",
       "version_major": 2,
       "version_minor": 0
      },
      "text/plain": [
       "VBox()"
      ]
     },
     "metadata": {},
     "output_type": "display_data"
    },
    {
     "data": {
      "application/vnd.jupyter.widget-view+json": {
       "model_id": "",
       "version_major": 2,
       "version_minor": 0
      },
      "text/plain": [
       "FloatProgress(value=0.0, bar_style='info', description='Progress:', layout=Layout(height='25px', width='50%'),…"
      ]
     },
     "metadata": {},
     "output_type": "display_data"
    },
    {
     "name": "stdout",
     "output_type": "stream",
     "text": [
      "              precision    recall  f1-score   support\n",
      "\n",
      "         neg       0.91      0.90      0.90       982\n",
      "         pos       0.78      0.80      0.79       445\n",
      "\n",
      "    accuracy                           0.87      1427\n",
      "   macro avg       0.85      0.85      0.85      1427\n",
      "weighted avg       0.87      0.87      0.87      1427"
     ]
    }
   ],
   "source": [
    "preds_df = pred_df.select('category','prediction.result').toPandas()\n",
    "preds_df['result'] = preds_df.result.apply(lambda x : x[0])\n",
    "\n",
    "print (classification_report(preds_df['category'], preds_df['result']))"
   ]
  },
  {
   "cell_type": "code",
   "execution_count": null,
   "metadata": {
    "execution": {
     "iopub.execute_input": "2023-09-01T06:18:44.647958Z",
     "iopub.status.busy": "2023-09-01T06:18:44.647726Z",
     "iopub.status.idle": "2023-09-01T06:18:45.059196Z"
    },
    "id": "MJ3oGrSBbQHX"
   },
   "outputs": [
    {
     "data": {
      "application/vnd.jupyter.widget-view+json": {
       "model_id": "acc29abb8c6243338d5fc5e799b53af6",
       "version_major": 2,
       "version_minor": 0
      },
      "text/plain": [
       "VBox()"
      ]
     },
     "metadata": {},
     "output_type": "display_data"
    },
    {
     "data": {
      "application/vnd.jupyter.widget-view+json": {
       "model_id": "",
       "version_major": 2,
       "version_minor": 0
      },
      "text/plain": [
       "FloatProgress(value=0.0, bar_style='info', description='Progress:', layout=Layout(height='25px', width='50%'),…"
      ]
     },
     "metadata": {},
     "output_type": "display_data"
    }
   ],
   "source": [
    "res = classification_report(preds_df[\"category\"], preds_df[\"result\"], output_dict=True)\n",
    "results_df.loc[\"GenericLogReg_bert\"] = [res[\"pos\"][\"f1-score\"], res[\"accuracy\"]]"
   ]
  },
  {
   "cell_type": "markdown",
   "metadata": {
    "id": "fJ53RrHWXXHj"
   },
   "source": [
    "### GenericSVMClassifier"
   ]
  },
  {
   "cell_type": "code",
   "execution_count": null,
   "metadata": {
    "execution": {
     "iopub.execute_input": "2023-09-01T06:18:45.060340Z",
     "iopub.status.busy": "2023-09-01T06:18:45.060128Z",
     "iopub.status.idle": "2023-09-01T06:18:45.113189Z"
    },
    "id": "xyjJzPzBXXHk"
   },
   "outputs": [
    {
     "data": {
      "application/vnd.jupyter.widget-view+json": {
       "model_id": "4a00d3d24e674473b52c1dabd4a52ba3",
       "version_major": 2,
       "version_minor": 0
      },
      "text/plain": [
       "VBox()"
      ]
     },
     "metadata": {},
     "output_type": "display_data"
    },
    {
     "data": {
      "application/vnd.jupyter.widget-view+json": {
       "model_id": "",
       "version_major": 2,
       "version_minor": 0
      },
      "text/plain": [
       "FloatProgress(value=0.0, bar_style='info', description='Progress:', layout=Layout(height='25px', width='50%'),…"
      ]
     },
     "metadata": {},
     "output_type": "display_data"
    }
   ],
   "source": [
    "from sparknlp_jsl.annotator import TFGraphBuilder\n",
    "\n",
    "graph_folder = \"gc_graph\"\n",
    "\n",
    "gc_svm_graph_builder = TFGraphBuilder()\\\n",
    "    .setModelName(\"svm_classifier\")\\\n",
    "    .setInputCols([\"feature_vector\"]) \\\n",
    "    .setLabelColumn(\"category\")\\\n",
    "    .setGraphFolder(graph_folder)\\\n",
    "    .setGraphFile(\"svm_graph.pb\")"
   ]
  },
  {
   "cell_type": "markdown",
   "metadata": {
    "id": "VX7v20wHXXHk"
   },
   "source": [
    "GenericSVMClassifier needs outputs from FeaturesAssembler. The FeaturesAssembler is used to collect features from different columns or an embeddings column.\n",
    "\n",
    "The GenericSVMClassifier takes FEATURE_VECTOR annotations as input, classifies them and outputs CATEGORY annotations."
   ]
  },
  {
   "cell_type": "code",
   "execution_count": null,
   "metadata": {
    "execution": {
     "iopub.execute_input": "2023-09-01T06:18:45.114178Z",
     "iopub.status.busy": "2023-09-01T06:18:45.113970Z",
     "iopub.status.idle": "2023-09-01T06:18:45.171600Z"
    },
    "id": "0vzQ80M5XXHk"
   },
   "outputs": [
    {
     "data": {
      "application/vnd.jupyter.widget-view+json": {
       "model_id": "0dec747aacbb4bb8a864bd35805b5c8d",
       "version_major": 2,
       "version_minor": 0
      },
      "text/plain": [
       "VBox()"
      ]
     },
     "metadata": {},
     "output_type": "display_data"
    },
    {
     "data": {
      "application/vnd.jupyter.widget-view+json": {
       "model_id": "",
       "version_major": 2,
       "version_minor": 0
      },
      "text/plain": [
       "FloatProgress(value=0.0, bar_style='info', description='Progress:', layout=Layout(height='25px', width='50%'),…"
      ]
     },
     "metadata": {},
     "output_type": "display_data"
    }
   ],
   "source": [
    "features_asm = FeaturesAssembler()\\\n",
    "    .setInputCols([\"sentence_embeddings\"])\\\n",
    "    .setOutputCol(\"feature_vector\")\n",
    "\n",
    "gen_clf = GenericSVMClassifierApproach()\\\n",
    "    .setLabelColumn(\"category\")\\\n",
    "    .setInputCols(\"feature_vector\")\\\n",
    "    .setOutputCol(\"prediction\")\\\n",
    "    .setModelFile(f\"{graph_folder}/svm_graph.pb\")\\\n",
    "    .setEpochsNumber(20)\\\n",
    "    .setBatchSize(128)\\\n",
    "    .setLearningRate(0.005)\\\n",
    "    .setOutputLogsPath(log_folder)\\\n",
    "    .setDropout(0.1)\\\n",
    "    .setFixImbalance(True)\\\n",
    "    # .setValidationSplit(0.1)\n",
    "\n",
    "clf_Pipeline = Pipeline(stages=[\n",
    "    features_asm,\n",
    "    gc_svm_graph_builder,\n",
    "    gen_clf])\n"
   ]
  },
  {
   "cell_type": "code",
   "execution_count": null,
   "metadata": {
    "colab": {
     "base_uri": "https://localhost:8080/"
    },
    "execution": {
     "iopub.execute_input": "2023-09-01T06:18:45.172605Z",
     "iopub.status.busy": "2023-09-01T06:18:45.172398Z",
     "iopub.status.idle": "2023-09-01T06:30:16.349089Z"
    },
    "executionInfo": {
     "elapsed": 362420,
     "status": "ok",
     "timestamp": 1689691829353,
     "user": {
      "displayName": "Ahmet Mesut BİROL",
      "userId": "04340760882990254267"
     },
     "user_tz": -180
    },
    "id": "9BieY4KtXXHk",
    "outputId": "d1d71e22-e25d-4a0f-9a8d-b6916cbf227c",
    "tags": []
   },
   "outputs": [
    {
     "data": {
      "application/vnd.jupyter.widget-view+json": {
       "model_id": "829923faf85d4796980946b6e9edfe1e",
       "version_major": 2,
       "version_minor": 0
      },
      "text/plain": [
       "VBox()"
      ]
     },
     "metadata": {},
     "output_type": "display_data"
    },
    {
     "data": {
      "application/vnd.jupyter.widget-view+json": {
       "model_id": "",
       "version_major": 2,
       "version_minor": 0
      },
      "text/plain": [
       "FloatProgress(value=0.0, bar_style='info', description='Progress:', layout=Layout(height='25px', width='50%'),…"
      ]
     },
     "metadata": {},
     "output_type": "display_data"
    },
    {
     "name": "stdout",
     "output_type": "stream",
     "text": [
      "TF Graph Builder configuration:\n",
      "Model name: svm_classifier\n",
      "Graph folder: gc_graph\n",
      "Graph file name: svm_graph.pb\n",
      "Build params: {'input_dim': 768, 'output_dim': 2, 'hidden_layers': [], 'output_act': 'sigmoid', 'loss_func': 'hinge'}\n",
      "svm_classifier graph exported to gc_graph/svm_graph.pb"
     ]
    }
   ],
   "source": [
    "generic_model_bert = clf_Pipeline.fit(trainingData_with_embeddings)"
   ]
  },
  {
   "cell_type": "code",
   "execution_count": null,
   "metadata": {
    "execution": {
     "iopub.execute_input": "2023-09-01T06:30:16.350322Z",
     "iopub.status.busy": "2023-09-01T06:30:16.350094Z",
     "iopub.status.idle": "2023-09-01T06:31:04.209845Z"
    },
    "id": "iHL0IWHQXXHk"
   },
   "outputs": [
    {
     "data": {
      "application/vnd.jupyter.widget-view+json": {
       "model_id": "239644a4923f4406af19c5d6b2c7497c",
       "version_major": 2,
       "version_minor": 0
      },
      "text/plain": [
       "VBox()"
      ]
     },
     "metadata": {},
     "output_type": "display_data"
    },
    {
     "data": {
      "application/vnd.jupyter.widget-view+json": {
       "model_id": "",
       "version_major": 2,
       "version_minor": 0
      },
      "text/plain": [
       "FloatProgress(value=0.0, bar_style='info', description='Progress:', layout=Layout(height='25px', width='50%'),…"
      ]
     },
     "metadata": {},
     "output_type": "display_data"
    }
   ],
   "source": [
    "pred_df = generic_model_bert.transform(testData_with_embeddings)"
   ]
  },
  {
   "cell_type": "code",
   "execution_count": null,
   "metadata": {
    "colab": {
     "base_uri": "https://localhost:8080/"
    },
    "execution": {
     "iopub.execute_input": "2023-09-01T06:31:04.211023Z",
     "iopub.status.busy": "2023-09-01T06:31:04.210808Z",
     "iopub.status.idle": "2023-09-01T06:31:53.899830Z"
    },
    "executionInfo": {
     "elapsed": 24438,
     "status": "ok",
     "timestamp": 1689691878521,
     "user": {
      "displayName": "Ahmet Mesut BİROL",
      "userId": "04340760882990254267"
     },
     "user_tz": -180
    },
    "id": "O1pwRdfMXXHl",
    "outputId": "4df70698-6b12-4654-d5d3-f57fb965cdde",
    "tags": []
   },
   "outputs": [
    {
     "data": {
      "application/vnd.jupyter.widget-view+json": {
       "model_id": "e455ac1168844f0994b7755598546a39",
       "version_major": 2,
       "version_minor": 0
      },
      "text/plain": [
       "VBox()"
      ]
     },
     "metadata": {},
     "output_type": "display_data"
    },
    {
     "data": {
      "application/vnd.jupyter.widget-view+json": {
       "model_id": "",
       "version_major": 2,
       "version_minor": 0
      },
      "text/plain": [
       "FloatProgress(value=0.0, bar_style='info', description='Progress:', layout=Layout(height='25px', width='50%'),…"
      ]
     },
     "metadata": {},
     "output_type": "display_data"
    },
    {
     "name": "stdout",
     "output_type": "stream",
     "text": [
      "              precision    recall  f1-score   support\n",
      "\n",
      "         neg       0.92      0.88      0.90       982\n",
      "         pos       0.76      0.82      0.79       445\n",
      "\n",
      "    accuracy                           0.86      1427\n",
      "   macro avg       0.84      0.85      0.85      1427\n",
      "weighted avg       0.87      0.86      0.87      1427"
     ]
    }
   ],
   "source": [
    "preds_df = pred_df.select('category','prediction.result').toPandas()\n",
    "preds_df['result'] = preds_df.result.apply(lambda x : x[0])\n",
    "\n",
    "print (classification_report(preds_df['category'], preds_df['result']))"
   ]
  },
  {
   "cell_type": "code",
   "execution_count": null,
   "metadata": {
    "execution": {
     "iopub.execute_input": "2023-09-01T06:31:53.901047Z",
     "iopub.status.busy": "2023-09-01T06:31:53.900782Z",
     "iopub.status.idle": "2023-09-01T06:31:54.166927Z"
    },
    "id": "OFcU5pVkbbZy"
   },
   "outputs": [
    {
     "data": {
      "application/vnd.jupyter.widget-view+json": {
       "model_id": "02626a183ed2483bae94f14748a8881d",
       "version_major": 2,
       "version_minor": 0
      },
      "text/plain": [
       "VBox()"
      ]
     },
     "metadata": {},
     "output_type": "display_data"
    },
    {
     "data": {
      "application/vnd.jupyter.widget-view+json": {
       "model_id": "",
       "version_major": 2,
       "version_minor": 0
      },
      "text/plain": [
       "FloatProgress(value=0.0, bar_style='info', description='Progress:', layout=Layout(height='25px', width='50%'),…"
      ]
     },
     "metadata": {},
     "output_type": "display_data"
    }
   ],
   "source": [
    "res = classification_report(preds_df[\"category\"], preds_df[\"result\"], output_dict=True)\n",
    "results_df.loc[\"GenericSVM_bert\"] = [res[\"pos\"][\"f1-score\"], res[\"accuracy\"]]"
   ]
  },
  {
   "cell_type": "markdown",
   "metadata": {
    "id": "HAEFUdy1gyh1"
   },
   "source": [
    "## DocumentLogRegClassifier"
   ]
  },
  {
   "cell_type": "code",
   "execution_count": null,
   "metadata": {
    "execution": {
     "iopub.execute_input": "2023-09-01T06:31:54.167973Z",
     "iopub.status.busy": "2023-09-01T06:31:54.167764Z",
     "iopub.status.idle": "2023-09-01T06:32:05.482853Z"
    },
    "id": "4YOr31bfg0hm"
   },
   "outputs": [
    {
     "data": {
      "application/vnd.jupyter.widget-view+json": {
       "model_id": "a721c6470cbb4d96a56ca95acf9089e0",
       "version_major": 2,
       "version_minor": 0
      },
      "text/plain": [
       "VBox()"
      ]
     },
     "metadata": {},
     "output_type": "display_data"
    },
    {
     "data": {
      "application/vnd.jupyter.widget-view+json": {
       "model_id": "",
       "version_major": 2,
       "version_minor": 0
      },
      "text/plain": [
       "FloatProgress(value=0.0, bar_style='info', description='Progress:', layout=Layout(height='25px', width='50%'),…"
      ]
     },
     "metadata": {},
     "output_type": "display_data"
    }
   ],
   "source": [
    "document_assembler = DocumentAssembler()\\\n",
    "    .setInputCol(\"text\")\\\n",
    "    .setOutputCol(\"document\")\n",
    "\n",
    "tokenizer = Tokenizer() \\\n",
    "    .setInputCols([\"document\"]) \\\n",
    "    .setOutputCol(\"token\")\n",
    "\n",
    "normalizer = Normalizer() \\\n",
    "      .setInputCols([\"token\"]) \\\n",
    "      .setOutputCol(\"normalized\")\n",
    "\n",
    "stopwords_cleaner = StopWordsCleaner()\\\n",
    "      .setInputCols(\"normalized\")\\\n",
    "      .setOutputCol(\"cleanTokens\")\\\n",
    "      .setCaseSensitive(False)\n",
    "\n",
    "stemmer = Stemmer() \\\n",
    "      .setInputCols([\"cleanTokens\"]) \\\n",
    "      .setOutputCol(\"stem\")\n",
    "\n",
    "logreg = DocumentLogRegClassifierApproach()\\\n",
    "    .setInputCols(\"stem\")\\\n",
    "    .setLabelCol(\"category\")\\\n",
    "    .setOutputCol(\"prediction\")\\\n",
    "    .setMaxIter(10)\\\n",
    "    .setTol(1e-6)\n",
    "\n",
    "clf_Pipeline = Pipeline(stages=[\n",
    "    document_assembler,\n",
    "    tokenizer,\n",
    "    normalizer,\n",
    "    stopwords_cleaner,\n",
    "    stemmer,\n",
    "    logreg])\n",
    "doclogreg_model = clf_Pipeline.fit(trainingData)"
   ]
  },
  {
   "cell_type": "code",
   "execution_count": null,
   "metadata": {
    "colab": {
     "base_uri": "https://localhost:8080/"
    },
    "execution": {
     "iopub.execute_input": "2023-09-01T06:32:05.484062Z",
     "iopub.status.busy": "2023-09-01T06:32:05.483841Z",
     "iopub.status.idle": "2023-09-01T06:32:10.781936Z"
    },
    "executionInfo": {
     "elapsed": 3139,
     "status": "ok",
     "timestamp": 1689691903422,
     "user": {
      "displayName": "Ahmet Mesut BİROL",
      "userId": "04340760882990254267"
     },
     "user_tz": -180
    },
    "id": "61zEw5EQg0d-",
    "outputId": "1df4d22f-b2c0-4116-8b31-2ff689eacc89"
   },
   "outputs": [
    {
     "data": {
      "application/vnd.jupyter.widget-view+json": {
       "model_id": "c0e92b900c4249c8bc44d07b703d76da",
       "version_major": 2,
       "version_minor": 0
      },
      "text/plain": [
       "VBox()"
      ]
     },
     "metadata": {},
     "output_type": "display_data"
    },
    {
     "data": {
      "application/vnd.jupyter.widget-view+json": {
       "model_id": "",
       "version_major": 2,
       "version_minor": 0
      },
      "text/plain": [
       "FloatProgress(value=0.0, bar_style='info', description='Progress:', layout=Layout(height='25px', width='50%'),…"
      ]
     },
     "metadata": {},
     "output_type": "display_data"
    },
    {
     "name": "stdout",
     "output_type": "stream",
     "text": [
      "              precision    recall  f1-score   support\n",
      "\n",
      "         neg       0.85      0.87      0.86       982\n",
      "         pos       0.70      0.67      0.68       445\n",
      "\n",
      "    accuracy                           0.81      1427\n",
      "   macro avg       0.78      0.77      0.77      1427\n",
      "weighted avg       0.81      0.81      0.81      1427"
     ]
    }
   ],
   "source": [
    "pred_df = doclogreg_model.transform(testData)\n",
    "\n",
    "preds_df = pred_df.select('category','prediction.result').toPandas()\n",
    "preds_df['result'] = preds_df.result.apply(lambda x : x[0])\n",
    "\n",
    "print (classification_report(preds_df['category'], preds_df['result']))"
   ]
  },
  {
   "cell_type": "code",
   "execution_count": null,
   "metadata": {
    "execution": {
     "iopub.execute_input": "2023-09-01T06:32:10.783114Z",
     "iopub.status.busy": "2023-09-01T06:32:10.782874Z",
     "iopub.status.idle": "2023-09-01T06:32:11.058222Z"
    },
    "id": "VA-TFVrLbhvs"
   },
   "outputs": [
    {
     "data": {
      "application/vnd.jupyter.widget-view+json": {
       "model_id": "854b07ec534346c29e4deaf76f31c56d",
       "version_major": 2,
       "version_minor": 0
      },
      "text/plain": [
       "VBox()"
      ]
     },
     "metadata": {},
     "output_type": "display_data"
    },
    {
     "data": {
      "application/vnd.jupyter.widget-view+json": {
       "model_id": "",
       "version_major": 2,
       "version_minor": 0
      },
      "text/plain": [
       "FloatProgress(value=0.0, bar_style='info', description='Progress:', layout=Layout(height='25px', width='50%'),…"
      ]
     },
     "metadata": {},
     "output_type": "display_data"
    }
   ],
   "source": [
    "res = classification_report(preds_df[\"category\"], preds_df[\"result\"], output_dict=True)\n",
    "results_df.loc[\"DocumentLogRegClassifier\"] = [res[\"pos\"][\"f1-score\"], res[\"accuracy\"]]"
   ]
  },
  {
   "cell_type": "markdown",
   "metadata": {
    "id": "7w8N3lOUAS9U"
   },
   "source": [
    "## Comparision of All Models' Result in ADE Dataset"
   ]
  },
  {
   "cell_type": "markdown",
   "metadata": {
    "id": "-QSw0-cWBe5y"
   },
   "source": [
    "Here is the all results of classifier models. Only positive ADE f1 scores and accuracy scores are presented."
   ]
  },
  {
   "cell_type": "code",
   "execution_count": null,
   "metadata": {
    "colab": {
     "base_uri": "https://localhost:8080/",
     "height": 551
    },
    "execution": {
     "iopub.execute_input": "2023-09-01T06:32:11.059351Z",
     "iopub.status.busy": "2023-09-01T06:32:11.059139Z",
     "iopub.status.idle": "2023-09-01T06:32:11.125449Z"
    },
    "executionInfo": {
     "elapsed": 44,
     "status": "ok",
     "timestamp": 1689691903425,
     "user": {
      "displayName": "Ahmet Mesut BİROL",
      "userId": "04340760882990254267"
     },
     "user_tz": -180
    },
    "id": "axjlz-i5BcZo",
    "outputId": "ef828b3a-a531-4b0e-bce3-c5d1e365e4b8"
   },
   "outputs": [
    {
     "data": {
      "application/vnd.jupyter.widget-view+json": {
       "model_id": "2d2987dfe1d94e589c289f38d9b4b192",
       "version_major": 2,
       "version_minor": 0
      },
      "text/plain": [
       "VBox()"
      ]
     },
     "metadata": {},
     "output_type": "display_data"
    },
    {
     "data": {
      "application/vnd.jupyter.widget-view+json": {
       "model_id": "",
       "version_major": 2,
       "version_minor": 0
      },
      "text/plain": [
       "FloatProgress(value=0.0, bar_style='info', description='Progress:', layout=Layout(height='25px', width='50%'),…"
      ]
     },
     "metadata": {},
     "output_type": "display_data"
    },
    {
     "name": "stdout",
     "output_type": "stream",
     "text": [
      "                          pos-f1-score  accuracy\n",
      "ClassifierDL_100d             0.724014  0.838122\n",
      "MultiClassifierDL_100d        0.629333  0.805186\n",
      "GenericClassifier_100d        0.695731  0.765242\n",
      "GenericLogReg_100d            0.431250  0.744919\n",
      "GenericSVM_100d               0.413462  0.743518\n",
      "ClassifierDL_200d             0.756303  0.857744\n",
      "MultiClassifierDL_200d        0.766744  0.858444\n",
      "GenericClassifier_200d        0.760563  0.833217\n",
      "GenericLogReg_200d            0.615180  0.797477\n",
      "GenericSVM_200d               0.582524  0.789068\n",
      "ClassifierDL_bert             0.764977  0.857043\n",
      "MultiClassifierDL_bert        0.789164  0.874474\n",
      "GenericClassifier_bert        0.786585  0.852838\n",
      "GenericLogReg_bert            0.792913  0.868956\n",
      "GenericSVM_bert               0.791802  0.864751\n",
      "DocumentLogRegClassifier      0.683544  0.807288"
     ]
    }
   ],
   "source": [
    "results_df"
   ]
  },
  {
   "cell_type": "markdown",
   "metadata": {
    "id": "IryBN-nlB8fu"
   },
   "source": [
    "# Mtsamples Dataset"
   ]
  },
  {
   "cell_type": "markdown",
   "metadata": {
    "id": "9VTK1AsahOpz"
   },
   "source": [
    "## Load Dataset"
   ]
  },
  {
   "cell_type": "code",
   "execution_count": null,
   "metadata": {
    "execution": {
     "iopub.execute_input": "2023-09-01T06:32:11.126882Z",
     "iopub.status.busy": "2023-09-01T06:32:11.126671Z",
     "iopub.status.idle": "2023-09-01T06:32:12.373405Z"
    },
    "id": "CHPqy3NeZMWW",
    "tags": []
   },
   "outputs": [],
   "source": [
    "%%sh\n",
    "wget -q -O /tmp/mtsamples_classifier.csv https://raw.githubusercontent.com/JohnSnowLabs/spark-nlp-workshop/master/tutorials/Certification_Trainings/Healthcare/data/mtsamples_classifier.csv"
   ]
  },
  {
   "cell_type": "code",
   "execution_count": null,
   "metadata": {
    "execution": {
     "iopub.execute_input": "2023-09-01T06:32:12.374707Z",
     "iopub.status.busy": "2023-09-01T06:32:12.374474Z",
     "iopub.status.idle": "2023-09-01T06:32:14.599344Z"
    },
    "tags": []
   },
   "outputs": [
    {
     "name": "stderr",
     "output_type": "stream",
     "text": [
      "SLF4J: Class path contains multiple SLF4J bindings.\n",
      "SLF4J: Found binding in [jar:file:/usr/lib/hadoop/lib/slf4j-log4j12-1.7.25.jar!/org/slf4j/impl/StaticLoggerBinder.class]\n",
      "SLF4J: Found binding in [jar:file:/usr/share/aws/emr/emrfs/lib/slf4j-log4j12-1.7.12.jar!/org/slf4j/impl/StaticLoggerBinder.class]\n",
      "SLF4J: See http://www.slf4j.org/codes.html#multiple_bindings for an explanation.\n",
      "SLF4J: Actual binding is of type [org.slf4j.impl.Log4jLoggerFactory]\n"
     ]
    }
   ],
   "source": [
    "%%sh\n",
    "hadoop fs -copyFromLocal /tmp/mtsamples_classifier.csv /user/hadoop/"
   ]
  },
  {
   "cell_type": "code",
   "execution_count": null,
   "metadata": {
    "execution": {
     "iopub.execute_input": "2023-09-01T06:32:14.600734Z",
     "iopub.status.busy": "2023-09-01T06:32:14.600507Z",
     "iopub.status.idle": "2023-09-01T06:32:16.650023Z"
    },
    "tags": []
   },
   "outputs": [
    {
     "name": "stdout",
     "output_type": "stream",
     "text": [
      "Found 7 items\n",
      "-rw-r--r--   1 emr-notebook hdfsadmingroup     244358 2023-08-31 17:11 /user/hadoop/NER_NCBIconlltest.txt\n",
      "-rw-r--r--   1 emr-notebook hdfsadmingroup    1091488 2023-08-31 17:11 /user/hadoop/NER_NCBIconlltrain.txt\n",
      "-rw-r--r--   1 emr-notebook hdfsadmingroup     123124 2023-09-01 00:55 /user/hadoop/i2b2_assertion_sample_short.csv\n",
      "-rw-r--r--   1 emr-notebook hdfsadmingroup     285456 2023-09-01 02:34 /user/hadoop/i2b2_clinical_rel_dataset.csv\n",
      "-rw-r--r--   1 emr-notebook hdfsadmingroup    2079279 2023-09-01 06:32 /user/hadoop/mtsamples_classifier.csv\n",
      "-rw-r--r--   1 emr-notebook hdfsadmingroup     122582 2023-09-01 05:08 /user/hadoop/pet.in1202D.out2.pb\n",
      "-rw-r--r--   1 emr-notebook hdfsadmingroup    1796209 2023-08-31 17:07 /user/hadoop/tfgraphs\n"
     ]
    },
    {
     "name": "stderr",
     "output_type": "stream",
     "text": [
      "SLF4J: Class path contains multiple SLF4J bindings.\n",
      "SLF4J: Found binding in [jar:file:/usr/lib/hadoop/lib/slf4j-log4j12-1.7.25.jar!/org/slf4j/impl/StaticLoggerBinder.class]\n",
      "SLF4J: Found binding in [jar:file:/usr/share/aws/emr/emrfs/lib/slf4j-log4j12-1.7.12.jar!/org/slf4j/impl/StaticLoggerBinder.class]\n",
      "SLF4J: See http://www.slf4j.org/codes.html#multiple_bindings for an explanation.\n",
      "SLF4J: Actual binding is of type [org.slf4j.impl.Log4jLoggerFactory]\n"
     ]
    }
   ],
   "source": [
    "%%sh\n",
    "hadoop fs -ls /user/hadoop/"
   ]
  },
  {
   "cell_type": "code",
   "execution_count": null,
   "metadata": {
    "colab": {
     "base_uri": "https://localhost:8080/"
    },
    "execution": {
     "iopub.execute_input": "2023-09-01T06:32:16.651518Z",
     "iopub.status.busy": "2023-09-01T06:32:16.651285Z",
     "iopub.status.idle": "2023-09-01T06:32:17.433903Z"
    },
    "executionInfo": {
     "elapsed": 863,
     "status": "ok",
     "timestamp": 1689691904685,
     "user": {
      "displayName": "Ahmet Mesut BİROL",
      "userId": "04340760882990254267"
     },
     "user_tz": -180
    },
    "id": "44eb4f5f-9065-4512-aad6-2afc89f74220",
    "outputId": "c6a6e168-69c6-428e-96d8-d36041b7f252",
    "tags": []
   },
   "outputs": [
    {
     "data": {
      "application/vnd.jupyter.widget-view+json": {
       "model_id": "619832b4cd82487bba65131fbc6681bc",
       "version_major": 2,
       "version_minor": 0
      },
      "text/plain": [
       "VBox()"
      ]
     },
     "metadata": {},
     "output_type": "display_data"
    },
    {
     "data": {
      "application/vnd.jupyter.widget-view+json": {
       "model_id": "",
       "version_major": 2,
       "version_minor": 0
      },
      "text/plain": [
       "FloatProgress(value=0.0, bar_style='info', description='Progress:', layout=Layout(height='25px', width='50%'),…"
      ]
     },
     "metadata": {},
     "output_type": "display_data"
    },
    {
     "name": "stdout",
     "output_type": "stream",
     "text": [
      "+----------------+----------------------------------------------------------------------------------------------------+\n",
      "|        category|                                                                                                text|\n",
      "+----------------+----------------------------------------------------------------------------------------------------+\n",
      "|Gastroenterology| PROCEDURES PERFORMED: Colonoscopy. INDICATIONS: Renewed symptoms likely consistent with active f...|\n",
      "|Gastroenterology| OPERATION 1. Ivor-Lewis esophagogastrectomy. 2. Feeding jejunostomy. 3. Placement of two right-s...|\n",
      "|Gastroenterology| PREOPERATIVE DIAGNOSES: 1. Gastroesophageal reflux disease. 2. Chronic dyspepsia. POSTOPERATIVE ...|\n",
      "|Gastroenterology| PROCEDURE: Colonoscopy. PREOPERATIVE DIAGNOSES: Rectal bleeding and perirectal abscess. POSTOPER...|\n",
      "|Gastroenterology| PREOPERATIVE DIAGNOSIS: Right colon tumor. POSTOPERATIVE DIAGNOSES: 1. Right colon cancer. 2. As...|\n",
      "|Gastroenterology| PREOPERATIVE DIAGNOSIS (ES): 1. Cholelithiasis. 2. Cholecystitis. POSTOPERATIVE DIAGNOSIS (ES): ...|\n",
      "|Gastroenterology| The patient was taken to the GI lab and placed in the left lateral supine position. Continuous p...|\n",
      "|Gastroenterology| PREOPERATIVE DIAGNOSIS: Gastrostomy (gastrocutaneous fistula). POSTOPERATIVE DIAGNOSIS: Gastrost...|\n",
      "|Gastroenterology| PREOPERATIVE DIAGNOSIS: Acute acalculous cholecystitis. POSTOPERATIVE DIAGNOSIS: Acute hemorrhag...|\n",
      "|Gastroenterology| HISTORY OF PRESENT ILLNESS: This is a 10-year-old who was found with biliary atresia and underwe...|\n",
      "+----------------+----------------------------------------------------------------------------------------------------+\n",
      "only showing top 10 rows"
     ]
    }
   ],
   "source": [
    "spark_df = spark.read.csv(\"/user/hadoop/mtsamples_classifier.csv\", header = True)\n",
    "\n",
    "spark_df.show(10,truncate=100)"
   ]
  },
  {
   "cell_type": "code",
   "execution_count": 191,
   "metadata": {
    "colab": {
     "base_uri": "https://localhost:8080/"
    },
    "execution": {
     "iopub.execute_input": "2023-09-01T06:34:45.314856Z",
     "iopub.status.busy": "2023-09-01T06:34:45.314551Z",
     "iopub.status.idle": "2023-09-01T06:34:45.379772Z",
     "shell.execute_reply": "2023-09-01T06:34:45.378651Z",
     "shell.execute_reply.started": "2023-09-01T06:34:45.314823Z"
    },
    "executionInfo": {
     "elapsed": 14,
     "status": "ok",
     "timestamp": 1689691904686,
     "user": {
      "displayName": "Ahmet Mesut BİROL",
      "userId": "04340760882990254267"
     },
     "user_tz": -180
    },
    "id": "yApqQhjp_EZx",
    "outputId": "3a09a881-6455-435a-982e-b0b70b109bf6",
    "tags": []
   },
   "outputs": [
    {
     "data": {
      "application/vnd.jupyter.widget-view+json": {
       "model_id": "acd4516968784abbac17a1c59f6705b6",
       "version_major": 2,
       "version_minor": 0
      },
      "text/plain": [
       "VBox()"
      ]
     },
     "metadata": {},
     "output_type": "display_data"
    },
    {
     "data": {
      "application/vnd.jupyter.widget-view+json": {
       "model_id": "",
       "version_major": 2,
       "version_minor": 0
      },
      "text/plain": [
       "FloatProgress(value=0.0, bar_style='info', description='Progress:', layout=Layout(height='25px', width='50%'),…"
      ]
     },
     "metadata": {},
     "output_type": "display_data"
    },
    {
     "name": "stdout",
     "output_type": "stream",
     "text": [
      "root\n",
      " |-- category: string (nullable = true)\n",
      " |-- text: string (nullable = true)"
     ]
    }
   ],
   "source": [
    "spark_df.printSchema()"
   ]
  },
  {
   "cell_type": "code",
   "execution_count": 192,
   "metadata": {
    "colab": {
     "base_uri": "https://localhost:8080/"
    },
    "execution": {
     "iopub.execute_input": "2023-09-01T06:34:51.241462Z",
     "iopub.status.busy": "2023-09-01T06:34:51.241184Z",
     "iopub.status.idle": "2023-09-01T06:35:04.541107Z",
     "shell.execute_reply": "2023-09-01T06:35:04.540360Z",
     "shell.execute_reply.started": "2023-09-01T06:34:51.241430Z"
    },
    "executionInfo": {
     "elapsed": 9,
     "status": "ok",
     "timestamp": 1689691904687,
     "user": {
      "displayName": "Ahmet Mesut BİROL",
      "userId": "04340760882990254267"
     },
     "user_tz": -180
    },
    "id": "f0886fb5-fd9d-4199-b142-637cad880866",
    "outputId": "b9433172-71b0-4bd8-d4d6-3aa7f4c9cf9e",
    "tags": []
   },
   "outputs": [
    {
     "data": {
      "application/vnd.jupyter.widget-view+json": {
       "model_id": "2a53aad384374105b4371b8388980445",
       "version_major": 2,
       "version_minor": 0
      },
      "text/plain": [
       "VBox()"
      ]
     },
     "metadata": {},
     "output_type": "display_data"
    },
    {
     "data": {
      "application/vnd.jupyter.widget-view+json": {
       "model_id": "",
       "version_major": 2,
       "version_minor": 0
      },
      "text/plain": [
       "FloatProgress(value=0.0, bar_style='info', description='Progress:', layout=Layout(height='25px', width='50%'),…"
      ]
     },
     "metadata": {},
     "output_type": "display_data"
    },
    {
     "name": "stdout",
     "output_type": "stream",
     "text": [
      "638"
     ]
    }
   ],
   "source": [
    "spark_df.count()"
   ]
  },
  {
   "cell_type": "code",
   "execution_count": 193,
   "metadata": {
    "colab": {
     "base_uri": "https://localhost:8080/"
    },
    "execution": {
     "iopub.execute_input": "2023-09-01T06:35:04.542425Z",
     "iopub.status.busy": "2023-09-01T06:35:04.542211Z",
     "iopub.status.idle": "2023-09-01T06:35:05.818394Z",
     "shell.execute_reply": "2023-09-01T06:35:05.817706Z",
     "shell.execute_reply.started": "2023-09-01T06:35:04.542396Z"
    },
    "executionInfo": {
     "elapsed": 487,
     "status": "ok",
     "timestamp": 1689691905170,
     "user": {
      "displayName": "Ahmet Mesut BİROL",
      "userId": "04340760882990254267"
     },
     "user_tz": -180
    },
    "id": "241bd286-350c-421e-92f4-a80164ed2dc1",
    "outputId": "0be16884-994c-47ba-8938-8d9bd60a7dbe",
    "tags": []
   },
   "outputs": [
    {
     "data": {
      "application/vnd.jupyter.widget-view+json": {
       "model_id": "2bc53f4dfb9e4ed18ec0cc4eafe8f928",
       "version_major": 2,
       "version_minor": 0
      },
      "text/plain": [
       "VBox()"
      ]
     },
     "metadata": {},
     "output_type": "display_data"
    },
    {
     "data": {
      "application/vnd.jupyter.widget-view+json": {
       "model_id": "",
       "version_major": 2,
       "version_minor": 0
      },
      "text/plain": [
       "FloatProgress(value=0.0, bar_style='info', description='Progress:', layout=Layout(height='25px', width='50%'),…"
      ]
     },
     "metadata": {},
     "output_type": "display_data"
    },
    {
     "name": "stdout",
     "output_type": "stream",
     "text": [
      "+----------------+-----+\n",
      "|        category|count|\n",
      "+----------------+-----+\n",
      "|         Urology|  115|\n",
      "|      Orthopedic|  223|\n",
      "|Gastroenterology|  157|\n",
      "|       Neurology|  143|\n",
      "+----------------+-----+"
     ]
    }
   ],
   "source": [
    "spark_df.groupBy(\"category\").count().show()"
   ]
  },
  {
   "cell_type": "code",
   "execution_count": 194,
   "metadata": {
    "execution": {
     "iopub.execute_input": "2023-09-01T06:35:05.820169Z",
     "iopub.status.busy": "2023-09-01T06:35:05.819936Z",
     "iopub.status.idle": "2023-09-01T06:35:05.881077Z",
     "shell.execute_reply": "2023-09-01T06:35:05.880216Z",
     "shell.execute_reply.started": "2023-09-01T06:35:05.820139Z"
    },
    "id": "db12fe42-90b6-434d-852a-ea86cad9a963",
    "tags": []
   },
   "outputs": [
    {
     "data": {
      "application/vnd.jupyter.widget-view+json": {
       "model_id": "d90da87b57674ad8bdedc6e64c06383b",
       "version_major": 2,
       "version_minor": 0
      },
      "text/plain": [
       "VBox()"
      ]
     },
     "metadata": {},
     "output_type": "display_data"
    },
    {
     "data": {
      "application/vnd.jupyter.widget-view+json": {
       "model_id": "",
       "version_major": 2,
       "version_minor": 0
      },
      "text/plain": [
       "FloatProgress(value=0.0, bar_style='info', description='Progress:', layout=Layout(height='25px', width='50%'),…"
      ]
     },
     "metadata": {},
     "output_type": "display_data"
    }
   ],
   "source": [
    "(trainingData, testData) = spark_df.randomSplit([0.8, 0.2], seed = 42)"
   ]
  },
  {
   "cell_type": "code",
   "execution_count": 195,
   "metadata": {
    "colab": {
     "base_uri": "https://localhost:8080/"
    },
    "execution": {
     "iopub.execute_input": "2023-09-01T06:35:05.882422Z",
     "iopub.status.busy": "2023-09-01T06:35:05.882197Z",
     "iopub.status.idle": "2023-09-01T06:35:06.645565Z",
     "shell.execute_reply": "2023-09-01T06:35:06.644806Z",
     "shell.execute_reply.started": "2023-09-01T06:35:05.882391Z"
    },
    "executionInfo": {
     "elapsed": 12,
     "status": "ok",
     "timestamp": 1689691905171,
     "user": {
      "displayName": "Ahmet Mesut BİROL",
      "userId": "04340760882990254267"
     },
     "user_tz": -180
    },
    "id": "P3iINSk1hc2E",
    "outputId": "49558a37-eab4-4c7b-be3e-6c970c396eec",
    "tags": []
   },
   "outputs": [
    {
     "data": {
      "application/vnd.jupyter.widget-view+json": {
       "model_id": "c2e0e986bd174c5f807d0bcf611aca92",
       "version_major": 2,
       "version_minor": 0
      },
      "text/plain": [
       "VBox()"
      ]
     },
     "metadata": {},
     "output_type": "display_data"
    },
    {
     "data": {
      "application/vnd.jupyter.widget-view+json": {
       "model_id": "",
       "version_major": 2,
       "version_minor": 0
      },
      "text/plain": [
       "FloatProgress(value=0.0, bar_style='info', description='Progress:', layout=Layout(height='25px', width='50%'),…"
      ]
     },
     "metadata": {},
     "output_type": "display_data"
    },
    {
     "name": "stdout",
     "output_type": "stream",
     "text": [
      "+----------------+-----+\n",
      "|        category|count|\n",
      "+----------------+-----+\n",
      "|         Urology|   95|\n",
      "|      Orthopedic|  188|\n",
      "|Gastroenterology|  132|\n",
      "|       Neurology|  121|\n",
      "+----------------+-----+"
     ]
    }
   ],
   "source": [
    "trainingData.groupBy(\"category\").count().show()"
   ]
  },
  {
   "cell_type": "code",
   "execution_count": 196,
   "metadata": {
    "colab": {
     "base_uri": "https://localhost:8080/"
    },
    "execution": {
     "iopub.execute_input": "2023-09-01T06:35:06.646749Z",
     "iopub.status.busy": "2023-09-01T06:35:06.646523Z",
     "iopub.status.idle": "2023-09-01T06:35:07.411872Z",
     "shell.execute_reply": "2023-09-01T06:35:07.411139Z",
     "shell.execute_reply.started": "2023-09-01T06:35:06.646719Z"
    },
    "executionInfo": {
     "elapsed": 515,
     "status": "ok",
     "timestamp": 1689691905681,
     "user": {
      "displayName": "Ahmet Mesut BİROL",
      "userId": "04340760882990254267"
     },
     "user_tz": -180
    },
    "id": "UofCYygtKNw7",
    "outputId": "4f1eeceb-be35-40a3-a863-6a5d100b91e0",
    "tags": []
   },
   "outputs": [
    {
     "data": {
      "application/vnd.jupyter.widget-view+json": {
       "model_id": "2e4684732be54846ae437909f887f02b",
       "version_major": 2,
       "version_minor": 0
      },
      "text/plain": [
       "VBox()"
      ]
     },
     "metadata": {},
     "output_type": "display_data"
    },
    {
     "data": {
      "application/vnd.jupyter.widget-view+json": {
       "model_id": "",
       "version_major": 2,
       "version_minor": 0
      },
      "text/plain": [
       "FloatProgress(value=0.0, bar_style='info', description='Progress:', layout=Layout(height='25px', width='50%'),…"
      ]
     },
     "metadata": {},
     "output_type": "display_data"
    },
    {
     "name": "stdout",
     "output_type": "stream",
     "text": [
      "+----------------+-----+\n",
      "|        category|count|\n",
      "+----------------+-----+\n",
      "|         Urology|   20|\n",
      "|      Orthopedic|   35|\n",
      "|Gastroenterology|   25|\n",
      "|       Neurology|   22|\n",
      "+----------------+-----+"
     ]
    }
   ],
   "source": [
    "testData.groupBy(\"category\").count().show()"
   ]
  },
  {
   "cell_type": "markdown",
   "metadata": {
    "id": "F5fxqMw69oZ_"
   },
   "source": [
    "## 100 Dimension Healthcare Embeddings (embeddings_healthcare_100d)\n",
    "\n"
   ]
  },
  {
   "cell_type": "markdown",
   "metadata": {
    "id": "z3E3d1_w9oZ_"
   },
   "source": [
    "We will extract [healthcare_100d embeddings](https://nlp.johnsnowlabs.com/2020/05/29/embeddings_healthcare_100d_en.html) and use it in the classificaiton model training."
   ]
  },
  {
   "cell_type": "code",
   "execution_count": 197,
   "metadata": {
    "colab": {
     "base_uri": "https://localhost:8080/"
    },
    "execution": {
     "iopub.execute_input": "2023-09-01T06:35:07.413052Z",
     "iopub.status.busy": "2023-09-01T06:35:07.412808Z",
     "iopub.status.idle": "2023-09-01T06:35:10.175051Z",
     "shell.execute_reply": "2023-09-01T06:35:10.174292Z",
     "shell.execute_reply.started": "2023-09-01T06:35:07.413022Z"
    },
    "executionInfo": {
     "elapsed": 2632,
     "status": "ok",
     "timestamp": 1689691908294,
     "user": {
      "displayName": "Ahmet Mesut BİROL",
      "userId": "04340760882990254267"
     },
     "user_tz": -180
    },
    "id": "dGwOkIhg9oZ_",
    "outputId": "1761d013-c260-4b42-9422-56cd642f2f2b",
    "tags": []
   },
   "outputs": [
    {
     "data": {
      "application/vnd.jupyter.widget-view+json": {
       "model_id": "e25adbd6f0dd4dbc970f2d138c54dfc4",
       "version_major": 2,
       "version_minor": 0
      },
      "text/plain": [
       "VBox()"
      ]
     },
     "metadata": {},
     "output_type": "display_data"
    },
    {
     "data": {
      "application/vnd.jupyter.widget-view+json": {
       "model_id": "",
       "version_major": 2,
       "version_minor": 0
      },
      "text/plain": [
       "FloatProgress(value=0.0, bar_style='info', description='Progress:', layout=Layout(height='25px', width='50%'),…"
      ]
     },
     "metadata": {},
     "output_type": "display_data"
    },
    {
     "name": "stdout",
     "output_type": "stream",
     "text": [
      "embeddings_healthcare_100d download started this may take some time.\n",
      "Approximate size to download 475.8 MB\n",
      "[OK!]"
     ]
    }
   ],
   "source": [
    "document_assembler = DocumentAssembler()\\\n",
    "        .setInputCol(\"text\")\\\n",
    "        .setOutputCol(\"document\")\n",
    "\n",
    "tokenizer = Tokenizer() \\\n",
    "            .setInputCols([\"document\"]) \\\n",
    "            .setOutputCol(\"token\")\n",
    "\n",
    "word_embeddings = WordEmbeddingsModel.pretrained(\"embeddings_healthcare_100d\",\"en\",\"clinical/models\")\\\n",
    "        .setInputCols([\"document\",\"token\"])\\\n",
    "        .setOutputCol(\"word_embeddings\")\n",
    "\n",
    "sentence_embeddings = SentenceEmbeddings() \\\n",
    "        .setInputCols([\"document\", \"word_embeddings\"]) \\\n",
    "        .setOutputCol(\"sentence_embeddings\") \\\n",
    "        .setPoolingStrategy(\"AVERAGE\")\n",
    "\n",
    "embeddings_pipeline = Pipeline(\n",
    "    stages = [\n",
    "        document_assembler,\n",
    "        tokenizer,\n",
    "        word_embeddings,\n",
    "        sentence_embeddings,\n",
    "\n",
    "    ])"
   ]
  },
  {
   "cell_type": "code",
   "execution_count": 198,
   "metadata": {
    "colab": {
     "base_uri": "https://localhost:8080/"
    },
    "execution": {
     "iopub.execute_input": "2023-09-01T06:35:15.379322Z",
     "iopub.status.busy": "2023-09-01T06:35:15.379050Z",
     "iopub.status.idle": "2023-09-01T06:35:18.654221Z",
     "shell.execute_reply": "2023-09-01T06:35:18.653481Z",
     "shell.execute_reply.started": "2023-09-01T06:35:15.379289Z"
    },
    "executionInfo": {
     "elapsed": 493,
     "status": "ok",
     "timestamp": 1689691908781,
     "user": {
      "displayName": "Ahmet Mesut BİROL",
      "userId": "04340760882990254267"
     },
     "user_tz": -180
    },
    "id": "NtiB6Xgv9oZ_",
    "outputId": "18f383e8-4f32-4329-8030-811a4e1b8b53",
    "tags": []
   },
   "outputs": [
    {
     "data": {
      "application/vnd.jupyter.widget-view+json": {
       "model_id": "46319f03b7c04d6598780d94ba224cc6",
       "version_major": 2,
       "version_minor": 0
      },
      "text/plain": [
       "VBox()"
      ]
     },
     "metadata": {},
     "output_type": "display_data"
    },
    {
     "data": {
      "application/vnd.jupyter.widget-view+json": {
       "model_id": "",
       "version_major": 2,
       "version_minor": 0
      },
      "text/plain": [
       "FloatProgress(value=0.0, bar_style='info', description='Progress:', layout=Layout(height='25px', width='50%'),…"
      ]
     },
     "metadata": {},
     "output_type": "display_data"
    },
    {
     "name": "stdout",
     "output_type": "stream",
     "text": [
      "+------------------------------------------------------------+----------------+------------------------------------------------------------+\n",
      "|                                                        text|        category|                                         sentence_embeddings|\n",
      "+------------------------------------------------------------+----------------+------------------------------------------------------------+\n",
      "| ADMISSION DIAGNOSIS: Symptomatic cholelithiasis. DISCHAR...|Gastroenterology|[{sentence_embeddings, 0, 2228,  ADMISSION DIAGNOSIS: Sym...|\n",
      "| ADMITTING DIAGNOSES: Hiatal hernia, gastroesophageal ref...|Gastroenterology|[{sentence_embeddings, 0, 3237,  ADMITTING DIAGNOSES: Hia...|\n",
      "+------------------------------------------------------------+----------------+------------------------------------------------------------+\n",
      "only showing top 2 rows"
     ]
    }
   ],
   "source": [
    "trainingData_with_embeddings = embeddings_pipeline.fit(trainingData).transform(trainingData)\n",
    "trainingData_with_embeddings = trainingData_with_embeddings.select(\"text\",\"category\",\"sentence_embeddings\")\n",
    "trainingData_with_embeddings.show(2,truncate=60)"
   ]
  },
  {
   "cell_type": "code",
   "execution_count": 199,
   "metadata": {
    "colab": {
     "base_uri": "https://localhost:8080/"
    },
    "execution": {
     "iopub.execute_input": "2023-09-01T06:35:26.548544Z",
     "iopub.status.busy": "2023-09-01T06:35:26.548276Z",
     "iopub.status.idle": "2023-09-01T06:35:27.512241Z",
     "shell.execute_reply": "2023-09-01T06:35:27.511511Z",
     "shell.execute_reply.started": "2023-09-01T06:35:26.548512Z"
    },
    "executionInfo": {
     "elapsed": 758,
     "status": "ok",
     "timestamp": 1689691909535,
     "user": {
      "displayName": "Ahmet Mesut BİROL",
      "userId": "04340760882990254267"
     },
     "user_tz": -180
    },
    "id": "_hMuZrio9oaA",
    "outputId": "03c5e900-d113-46f0-a34b-c9245bd85ef8",
    "tags": []
   },
   "outputs": [
    {
     "data": {
      "application/vnd.jupyter.widget-view+json": {
       "model_id": "80d9ade8180c417eb3e034932451345a",
       "version_major": 2,
       "version_minor": 0
      },
      "text/plain": [
       "VBox()"
      ]
     },
     "metadata": {},
     "output_type": "display_data"
    },
    {
     "data": {
      "application/vnd.jupyter.widget-view+json": {
       "model_id": "",
       "version_major": 2,
       "version_minor": 0
      },
      "text/plain": [
       "FloatProgress(value=0.0, bar_style='info', description='Progress:', layout=Layout(height='25px', width='50%'),…"
      ]
     },
     "metadata": {},
     "output_type": "display_data"
    },
    {
     "name": "stdout",
     "output_type": "stream",
     "text": [
      "+------------------------------------------------------------+----------------+------------------------------------------------------------+\n",
      "|                                                        text|        category|                                         sentence_embeddings|\n",
      "+------------------------------------------------------------+----------------+------------------------------------------------------------+\n",
      "| ADMITTING DIAGNOSIS: Gastrointestinal bleed. HISTORY OF ...|Gastroenterology|[{sentence_embeddings, 0, 3978,  ADMITTING DIAGNOSIS: Gas...|\n",
      "| CHIEF COMPLAINT: Dysphagia and hematemesis while vomitin...|Gastroenterology|[{sentence_embeddings, 0, 6515,  CHIEF COMPLAINT: Dysphag...|\n",
      "+------------------------------------------------------------+----------------+------------------------------------------------------------+\n",
      "only showing top 2 rows"
     ]
    }
   ],
   "source": [
    "testData_with_embeddings = embeddings_pipeline.fit(testData).transform(testData)\n",
    "testData_with_embeddings = testData_with_embeddings.select(\"text\",\"category\",\"sentence_embeddings\")\n",
    "testData_with_embeddings.show(2,truncate=60)"
   ]
  },
  {
   "cell_type": "code",
   "execution_count": 200,
   "metadata": {
    "colab": {
     "base_uri": "https://localhost:8080/"
    },
    "execution": {
     "iopub.execute_input": "2023-09-01T06:35:27.513652Z",
     "iopub.status.busy": "2023-09-01T06:35:27.513438Z",
     "iopub.status.idle": "2023-09-01T06:35:27.574953Z",
     "shell.execute_reply": "2023-09-01T06:35:27.574146Z",
     "shell.execute_reply.started": "2023-09-01T06:35:27.513623Z"
    },
    "executionInfo": {
     "elapsed": 13,
     "status": "ok",
     "timestamp": 1689691909536,
     "user": {
      "displayName": "Ahmet Mesut BİROL",
      "userId": "04340760882990254267"
     },
     "user_tz": -180
    },
    "id": "ZgqbexSQ9oaA",
    "outputId": "d9c4710c-38c7-4649-efd2-97cce31afc4c",
    "tags": []
   },
   "outputs": [
    {
     "data": {
      "application/vnd.jupyter.widget-view+json": {
       "model_id": "5a8d2d1405e34144ab1cd4398f107b57",
       "version_major": 2,
       "version_minor": 0
      },
      "text/plain": [
       "VBox()"
      ]
     },
     "metadata": {},
     "output_type": "display_data"
    },
    {
     "data": {
      "application/vnd.jupyter.widget-view+json": {
       "model_id": "",
       "version_major": 2,
       "version_minor": 0
      },
      "text/plain": [
       "FloatProgress(value=0.0, bar_style='info', description='Progress:', layout=Layout(height='25px', width='50%'),…"
      ]
     },
     "metadata": {},
     "output_type": "display_data"
    },
    {
     "name": "stdout",
     "output_type": "stream",
     "text": [
      "root\n",
      " |-- text: string (nullable = true)\n",
      " |-- category: string (nullable = true)\n",
      " |-- sentence_embeddings: array (nullable = true)\n",
      " |    |-- element: struct (containsNull = true)\n",
      " |    |    |-- annotatorType: string (nullable = true)\n",
      " |    |    |-- begin: integer (nullable = false)\n",
      " |    |    |-- end: integer (nullable = false)\n",
      " |    |    |-- result: string (nullable = true)\n",
      " |    |    |-- metadata: map (nullable = true)\n",
      " |    |    |    |-- key: string\n",
      " |    |    |    |-- value: string (valueContainsNull = true)\n",
      " |    |    |-- embeddings: array (nullable = true)\n",
      " |    |    |    |-- element: float (containsNull = false)"
     ]
    }
   ],
   "source": [
    "testData_with_embeddings.printSchema()"
   ]
  },
  {
   "cell_type": "code",
   "execution_count": 201,
   "metadata": {
    "colab": {
     "base_uri": "https://localhost:8080/"
    },
    "execution": {
     "iopub.execute_input": "2023-09-01T06:35:27.576674Z",
     "iopub.status.busy": "2023-09-01T06:35:27.576452Z",
     "iopub.status.idle": "2023-09-01T06:35:28.233365Z",
     "shell.execute_reply": "2023-09-01T06:35:28.232590Z",
     "shell.execute_reply.started": "2023-09-01T06:35:27.576644Z"
    },
    "executionInfo": {
     "elapsed": 468,
     "status": "ok",
     "timestamp": 1689691910000,
     "user": {
      "displayName": "Ahmet Mesut BİROL",
      "userId": "04340760882990254267"
     },
     "user_tz": -180
    },
    "id": "aX5ka1ok9oaA",
    "outputId": "50e7a6e4-12a7-4406-cabb-f69cecee2776",
    "tags": []
   },
   "outputs": [
    {
     "data": {
      "application/vnd.jupyter.widget-view+json": {
       "model_id": "8c84f6075fde4320a2ae9dc792c5c699",
       "version_major": 2,
       "version_minor": 0
      },
      "text/plain": [
       "VBox()"
      ]
     },
     "metadata": {},
     "output_type": "display_data"
    },
    {
     "data": {
      "application/vnd.jupyter.widget-view+json": {
       "model_id": "",
       "version_major": 2,
       "version_minor": 0
      },
      "text/plain": [
       "FloatProgress(value=0.0, bar_style='info', description='Progress:', layout=Layout(height='25px', width='50%'),…"
      ]
     },
     "metadata": {},
     "output_type": "display_data"
    },
    {
     "name": "stdout",
     "output_type": "stream",
     "text": [
      "+------------------------------------------------------------------------------------------------------------------------+\n",
      "|                                                                                          sentence_embeddings.embeddings|\n",
      "+------------------------------------------------------------------------------------------------------------------------+\n",
      "|[[-0.010433162, 0.0127568655, 0.110687375, 0.1609855, -0.14818177, -0.050856464, 0.064748034, -0.019294674, -0.002178...|\n",
      "|[[-0.0055608996, 0.018396137, 0.12305377, 0.13861515, -0.18651922, -0.07559964, 0.12978752, -0.0046452526, -0.0031408...|\n",
      "|[[-0.019461514, 0.060639214, 0.11142021, 0.12826534, -0.16216077, -0.10416892, 0.17136306, -0.020363769, 0.01169337, ...|\n",
      "+------------------------------------------------------------------------------------------------------------------------+\n",
      "only showing top 3 rows"
     ]
    }
   ],
   "source": [
    "testData_with_embeddings.select(testData_with_embeddings.sentence_embeddings.embeddings).show(3,truncate=120)"
   ]
  },
  {
   "cell_type": "code",
   "execution_count": 202,
   "metadata": {
    "execution": {
     "iopub.execute_input": "2023-09-01T06:35:28.234809Z",
     "iopub.status.busy": "2023-09-01T06:35:28.234582Z",
     "iopub.status.idle": "2023-09-01T06:35:28.294948Z",
     "shell.execute_reply": "2023-09-01T06:35:28.294215Z",
     "shell.execute_reply.started": "2023-09-01T06:35:28.234778Z"
    },
    "id": "V99u_ru-9oaA",
    "tags": []
   },
   "outputs": [
    {
     "data": {
      "application/vnd.jupyter.widget-view+json": {
       "model_id": "b8b4375672d84253892c7be804e6560a",
       "version_major": 2,
       "version_minor": 0
      },
      "text/plain": [
       "VBox()"
      ]
     },
     "metadata": {},
     "output_type": "display_data"
    },
    {
     "data": {
      "application/vnd.jupyter.widget-view+json": {
       "model_id": "",
       "version_major": 2,
       "version_minor": 0
      },
      "text/plain": [
       "FloatProgress(value=0.0, bar_style='info', description='Progress:', layout=Layout(height='25px', width='50%'),…"
      ]
     },
     "metadata": {},
     "output_type": "display_data"
    }
   ],
   "source": [
    "log_folder=\"Mt_logs_healthcare_100d\"\n",
    "# !mkdir -p $log_folder"
   ]
  },
  {
   "cell_type": "markdown",
   "metadata": {
    "id": "7HUPl4fh9oaA"
   },
   "source": [
    "### ClassifierDL"
   ]
  },
  {
   "cell_type": "code",
   "execution_count": 203,
   "metadata": {
    "execution": {
     "iopub.execute_input": "2023-09-01T06:35:28.296103Z",
     "iopub.status.busy": "2023-09-01T06:35:28.295896Z",
     "iopub.status.idle": "2023-09-01T06:35:29.591203Z",
     "shell.execute_reply": "2023-09-01T06:35:28.370812Z",
     "shell.execute_reply.started": "2023-09-01T06:35:28.296075Z"
    },
    "id": "Dzhptr2o9oaA",
    "tags": []
   },
   "outputs": [
    {
     "data": {
      "application/vnd.jupyter.widget-view+json": {
       "model_id": "a1db702786cd42c4a50fc7287c75ceaa",
       "version_major": 2,
       "version_minor": 0
      },
      "text/plain": [
       "VBox()"
      ]
     },
     "metadata": {},
     "output_type": "display_data"
    },
    {
     "data": {
      "application/vnd.jupyter.widget-view+json": {
       "model_id": "",
       "version_major": 2,
       "version_minor": 0
      },
      "text/plain": [
       "FloatProgress(value=0.0, bar_style='info', description='Progress:', layout=Layout(height='25px', width='50%'),…"
      ]
     },
     "metadata": {},
     "output_type": "display_data"
    }
   ],
   "source": [
    "classifier_dl = ClassifierDLApproach()\\\n",
    "        .setInputCols([\"sentence_embeddings\"])\\\n",
    "        .setOutputCol(\"prediction\")\\\n",
    "        .setLabelColumn(\"category\")\\\n",
    "        .setBatchSize(8)\\\n",
    "        .setMaxEpochs(50)\\\n",
    "        .setLr(0.005)\\\n",
    "        .setDropout(0.3)\\\n",
    "        .setEnableOutputLogs(True)\\\n",
    "        .setOutputLogsPath(log_folder)\\\n",
    "        # .setValidationSplit(0.1)\n",
    "\n",
    "classifier_dl_pipeline = Pipeline(stages=[classifier_dl])"
   ]
  },
  {
   "cell_type": "code",
   "execution_count": 204,
   "metadata": {
    "execution": {
     "iopub.execute_input": "2023-09-01T06:35:29.592485Z",
     "iopub.status.busy": "2023-09-01T06:35:29.592260Z",
     "iopub.status.idle": "2023-09-01T06:35:29.685208Z",
     "shell.execute_reply": "2023-09-01T06:35:29.684458Z",
     "shell.execute_reply.started": "2023-09-01T06:35:29.592454Z"
    }
   },
   "outputs": [
    {
     "data": {
      "application/vnd.jupyter.widget-view+json": {
       "model_id": "b58fb0e0dfbd4ad29f530fd1a5eed502",
       "version_major": 2,
       "version_minor": 0
      },
      "text/plain": [
       "VBox()"
      ]
     },
     "metadata": {},
     "output_type": "display_data"
    },
    {
     "data": {
      "application/vnd.jupyter.widget-view+json": {
       "model_id": "",
       "version_major": 2,
       "version_minor": 0
      },
      "text/plain": [
       "FloatProgress(value=0.0, bar_style='info', description='Progress:', layout=Layout(height='25px', width='50%'),…"
      ]
     },
     "metadata": {},
     "output_type": "display_data"
    }
   ],
   "source": [
    "# to list all logs file , uncommand and run next cell"
   ]
  },
  {
   "cell_type": "code",
   "execution_count": 205,
   "metadata": {
    "execution": {
     "iopub.execute_input": "2023-09-01T06:35:29.686287Z",
     "iopub.status.busy": "2023-09-01T06:35:29.686081Z",
     "iopub.status.idle": "2023-09-01T06:35:29.750650Z",
     "shell.execute_reply": "2023-09-01T06:35:29.749961Z",
     "shell.execute_reply.started": "2023-09-01T06:35:29.686259Z"
    },
    "tags": []
   },
   "outputs": [
    {
     "data": {
      "application/vnd.jupyter.widget-view+json": {
       "model_id": "266a8f9748c441f9a5dcf5c06b85b2b4",
       "version_major": 2,
       "version_minor": 0
      },
      "text/plain": [
       "VBox()"
      ]
     },
     "metadata": {},
     "output_type": "display_data"
    },
    {
     "data": {
      "application/vnd.jupyter.widget-view+json": {
       "model_id": "",
       "version_major": 2,
       "version_minor": 0
      },
      "text/plain": [
       "FloatProgress(value=0.0, bar_style='info', description='Progress:', layout=Layout(height='25px', width='50%'),…"
      ]
     },
     "metadata": {},
     "output_type": "display_data"
    }
   ],
   "source": [
    "# %%sh\n",
    "# hadoop fs -ls -R /user/livy"
   ]
  },
  {
   "cell_type": "code",
   "execution_count": 206,
   "metadata": {
    "execution": {
     "iopub.execute_input": "2023-09-01T06:35:29.753130Z",
     "iopub.status.busy": "2023-09-01T06:35:29.752835Z",
     "iopub.status.idle": "2023-09-01T06:35:59.293111Z",
     "shell.execute_reply": "2023-09-01T06:35:59.292162Z",
     "shell.execute_reply.started": "2023-09-01T06:35:29.753100Z"
    },
    "id": "GP8eSc7Q9oaB",
    "tags": []
   },
   "outputs": [
    {
     "data": {
      "application/vnd.jupyter.widget-view+json": {
       "model_id": "bc88534b43b043a59d2de62a9401fa64",
       "version_major": 2,
       "version_minor": 0
      },
      "text/plain": [
       "VBox()"
      ]
     },
     "metadata": {},
     "output_type": "display_data"
    },
    {
     "data": {
      "application/vnd.jupyter.widget-view+json": {
       "model_id": "",
       "version_major": 2,
       "version_minor": 0
      },
      "text/plain": [
       "FloatProgress(value=0.0, bar_style='info', description='Progress:', layout=Layout(height='25px', width='50%'),…"
      ]
     },
     "metadata": {},
     "output_type": "display_data"
    }
   ],
   "source": [
    "clfDL_model_hc100 = classifier_dl_pipeline.fit(trainingData_with_embeddings)"
   ]
  },
  {
   "cell_type": "code",
   "execution_count": 207,
   "metadata": {
    "execution": {
     "iopub.execute_input": "2023-09-01T06:35:59.295051Z",
     "iopub.status.busy": "2023-09-01T06:35:59.294810Z",
     "iopub.status.idle": "2023-09-01T06:35:59.553712Z",
     "shell.execute_reply": "2023-09-01T06:35:59.552738Z",
     "shell.execute_reply.started": "2023-09-01T06:35:59.295019Z"
    },
    "id": "3CKuuqYb9oaB",
    "tags": []
   },
   "outputs": [
    {
     "data": {
      "application/vnd.jupyter.widget-view+json": {
       "model_id": "88cf1e90de834d7783635f7cfd6034dd",
       "version_major": 2,
       "version_minor": 0
      },
      "text/plain": [
       "VBox()"
      ]
     },
     "metadata": {},
     "output_type": "display_data"
    },
    {
     "data": {
      "application/vnd.jupyter.widget-view+json": {
       "model_id": "",
       "version_major": 2,
       "version_minor": 0
      },
      "text/plain": [
       "FloatProgress(value=0.0, bar_style='info', description='Progress:', layout=Layout(height='25px', width='50%'),…"
      ]
     },
     "metadata": {},
     "output_type": "display_data"
    }
   ],
   "source": [
    "preds = clfDL_model_hc100.transform(testData_with_embeddings)"
   ]
  },
  {
   "cell_type": "code",
   "execution_count": 208,
   "metadata": {
    "colab": {
     "base_uri": "https://localhost:8080/"
    },
    "execution": {
     "iopub.execute_input": "2023-09-01T06:35:59.555048Z",
     "iopub.status.busy": "2023-09-01T06:35:59.554806Z",
     "iopub.status.idle": "2023-09-01T06:36:05.048353Z",
     "shell.execute_reply": "2023-09-01T06:36:05.047611Z",
     "shell.execute_reply.started": "2023-09-01T06:35:59.555016Z"
    },
    "executionInfo": {
     "elapsed": 4728,
     "status": "ok",
     "timestamp": 1689691949972,
     "user": {
      "displayName": "Ahmet Mesut BİROL",
      "userId": "04340760882990254267"
     },
     "user_tz": -180
    },
    "id": "uGFN40ju9oaB",
    "outputId": "1d7ba237-0e48-4f9c-d19e-145657bd776d",
    "tags": []
   },
   "outputs": [
    {
     "data": {
      "application/vnd.jupyter.widget-view+json": {
       "model_id": "4214d3a359054c9f823c69c219dbcdef",
       "version_major": 2,
       "version_minor": 0
      },
      "text/plain": [
       "VBox()"
      ]
     },
     "metadata": {},
     "output_type": "display_data"
    },
    {
     "data": {
      "application/vnd.jupyter.widget-view+json": {
       "model_id": "",
       "version_major": 2,
       "version_minor": 0
      },
      "text/plain": [
       "FloatProgress(value=0.0, bar_style='info', description='Progress:', layout=Layout(height='25px', width='50%'),…"
      ]
     },
     "metadata": {},
     "output_type": "display_data"
    },
    {
     "name": "stdout",
     "output_type": "stream",
     "text": [
      "                  precision    recall  f1-score   support\n",
      "\n",
      "Gastroenterology       0.61      0.88      0.72        25\n",
      "       Neurology       0.59      0.77      0.67        22\n",
      "      Orthopedic       0.89      0.94      0.92        35\n",
      "         Urology       0.00      0.00      0.00        20\n",
      "\n",
      "        accuracy                           0.71       102\n",
      "       macro avg       0.52      0.65      0.58       102\n",
      "    weighted avg       0.58      0.71      0.64       102"
     ]
    }
   ],
   "source": [
    "preds_df = preds.select(\"category\",\"text\",\"prediction.result\").toPandas()\n",
    "preds_df[\"result\"] = preds_df[\"result\"].apply(lambda x : x[0])\n",
    "\n",
    "print (classification_report(preds_df[\"category\"], preds_df[\"result\"]))"
   ]
  },
  {
   "cell_type": "code",
   "execution_count": 209,
   "metadata": {
    "colab": {
     "base_uri": "https://localhost:8080/",
     "height": 81
    },
    "execution": {
     "iopub.execute_input": "2023-09-01T06:36:05.049697Z",
     "iopub.status.busy": "2023-09-01T06:36:05.049465Z",
     "iopub.status.idle": "2023-09-01T06:36:05.311329Z",
     "shell.execute_reply": "2023-09-01T06:36:05.310595Z",
     "shell.execute_reply.started": "2023-09-01T06:36:05.049665Z"
    },
    "executionInfo": {
     "elapsed": 12,
     "status": "ok",
     "timestamp": 1689691949973,
     "user": {
      "displayName": "Ahmet Mesut BİROL",
      "userId": "04340760882990254267"
     },
     "user_tz": -180
    },
    "id": "s5qJnnHffWU3",
    "outputId": "598951de-a47b-4e45-fb3a-30f7e63c2fad",
    "tags": []
   },
   "outputs": [
    {
     "data": {
      "application/vnd.jupyter.widget-view+json": {
       "model_id": "ae2691ddf20c4e7d8f40f1c5a9780302",
       "version_major": 2,
       "version_minor": 0
      },
      "text/plain": [
       "VBox()"
      ]
     },
     "metadata": {},
     "output_type": "display_data"
    },
    {
     "data": {
      "application/vnd.jupyter.widget-view+json": {
       "model_id": "",
       "version_major": 2,
       "version_minor": 0
      },
      "text/plain": [
       "FloatProgress(value=0.0, bar_style='info', description='Progress:', layout=Layout(height='25px', width='50%'),…"
      ]
     },
     "metadata": {},
     "output_type": "display_data"
    },
    {
     "name": "stdout",
     "output_type": "stream",
     "text": [
      "                   macro-f1-score  weighted-f1-score  accuracy\n",
      "ClassifierDL_100d        0.576161           0.635125  0.705882"
     ]
    }
   ],
   "source": [
    "res = classification_report(preds_df[\"category\"], preds_df[\"result\"], output_dict=True)\n",
    "results_df = pd.DataFrame(columns=[\"macro-f1-score\",\"weighted-f1-score\",\"accuracy\"])\n",
    "results_df.loc[\"ClassifierDL_100d\"] = [res[\"macro avg\"][\"f1-score\"], res[\"weighted avg\"][\"f1-score\"], res[\"accuracy\"]]\n",
    "results_df"
   ]
  },
  {
   "cell_type": "markdown",
   "metadata": {
    "id": "zaaRNh3W9oaB"
   },
   "source": [
    "### MultiClassifierDL"
   ]
  },
  {
   "cell_type": "code",
   "execution_count": 210,
   "metadata": {
    "execution": {
     "iopub.execute_input": "2023-09-01T06:36:05.312692Z",
     "iopub.status.busy": "2023-09-01T06:36:05.312465Z",
     "iopub.status.idle": "2023-09-01T06:36:05.574395Z",
     "shell.execute_reply": "2023-09-01T06:36:05.573657Z",
     "shell.execute_reply.started": "2023-09-01T06:36:05.312661Z"
    },
    "id": "FnURVIYR9oaB",
    "tags": []
   },
   "outputs": [
    {
     "data": {
      "application/vnd.jupyter.widget-view+json": {
       "model_id": "f70026a0fdaa4a269e531450b3c2e616",
       "version_major": 2,
       "version_minor": 0
      },
      "text/plain": [
       "VBox()"
      ]
     },
     "metadata": {},
     "output_type": "display_data"
    },
    {
     "data": {
      "application/vnd.jupyter.widget-view+json": {
       "model_id": "",
       "version_major": 2,
       "version_minor": 0
      },
      "text/plain": [
       "FloatProgress(value=0.0, bar_style='info', description='Progress:', layout=Layout(height='25px', width='50%'),…"
      ]
     },
     "metadata": {},
     "output_type": "display_data"
    }
   ],
   "source": [
    "# MultiClassifierDL accepts list of strings as input label. So we convert label column to array type.\n",
    "trainingData_with_embeddings = trainingData_with_embeddings.withColumn(\"category_array\", F.array(F.col(\"category\")))\n",
    "testData_with_embeddings = testData_with_embeddings.withColumn(\"category_array\", F.array(F.col(\"category\")))"
   ]
  },
  {
   "cell_type": "code",
   "execution_count": 211,
   "metadata": {
    "execution": {
     "iopub.execute_input": "2023-09-01T06:36:05.575652Z",
     "iopub.status.busy": "2023-09-01T06:36:05.575419Z",
     "iopub.status.idle": "2023-09-01T06:36:05.629892Z",
     "shell.execute_reply": "2023-09-01T06:36:05.629178Z",
     "shell.execute_reply.started": "2023-09-01T06:36:05.575619Z"
    },
    "id": "BHBThSDF9oaB",
    "tags": []
   },
   "outputs": [
    {
     "data": {
      "application/vnd.jupyter.widget-view+json": {
       "model_id": "7e08ce4d479e4b99a604c38f723e02e5",
       "version_major": 2,
       "version_minor": 0
      },
      "text/plain": [
       "VBox()"
      ]
     },
     "metadata": {},
     "output_type": "display_data"
    },
    {
     "data": {
      "application/vnd.jupyter.widget-view+json": {
       "model_id": "",
       "version_major": 2,
       "version_minor": 0
      },
      "text/plain": [
       "FloatProgress(value=0.0, bar_style='info', description='Progress:', layout=Layout(height='25px', width='50%'),…"
      ]
     },
     "metadata": {},
     "output_type": "display_data"
    }
   ],
   "source": [
    "multiClassifier = MultiClassifierDLApproach()\\\n",
    "  .setInputCols(\"sentence_embeddings\")\\\n",
    "  .setOutputCol(\"prediction\")\\\n",
    "  .setLabelColumn(\"category_array\")\\\n",
    "  .setBatchSize(8)\\\n",
    "  .setMaxEpochs(40)\\\n",
    "  .setLr(5e-3)\\\n",
    "  .setThreshold(0.5)\\\n",
    "  .setShufflePerEpoch(False)\\\n",
    "  .setEnableOutputLogs(True)\\\n",
    "  .setOutputLogsPath(log_folder)\\\n",
    "#   .setValidationSplit(0.1)\n",
    "\n",
    "multiClassifier_pipeline = Pipeline(\n",
    "    stages = [\n",
    "        multiClassifier\n",
    "    ])"
   ]
  },
  {
   "cell_type": "code",
   "execution_count": 212,
   "metadata": {
    "execution": {
     "iopub.execute_input": "2023-09-01T06:36:05.631021Z",
     "iopub.status.busy": "2023-09-01T06:36:05.630800Z",
     "iopub.status.idle": "2023-09-01T06:37:33.882335Z",
     "shell.execute_reply": "2023-09-01T06:37:33.881606Z",
     "shell.execute_reply.started": "2023-09-01T06:36:05.630991Z"
    },
    "id": "Ls8aG1NS9oaB",
    "tags": []
   },
   "outputs": [
    {
     "data": {
      "application/vnd.jupyter.widget-view+json": {
       "model_id": "e5f4c3faa3ae403793f8be94b861b753",
       "version_major": 2,
       "version_minor": 0
      },
      "text/plain": [
       "VBox()"
      ]
     },
     "metadata": {},
     "output_type": "display_data"
    },
    {
     "data": {
      "application/vnd.jupyter.widget-view+json": {
       "model_id": "",
       "version_major": 2,
       "version_minor": 0
      },
      "text/plain": [
       "FloatProgress(value=0.0, bar_style='info', description='Progress:', layout=Layout(height='25px', width='50%'),…"
      ]
     },
     "metadata": {},
     "output_type": "display_data"
    }
   ],
   "source": [
    "multiClassifier_model_hc100 = multiClassifier_pipeline.fit(trainingData_with_embeddings)"
   ]
  },
  {
   "cell_type": "code",
   "execution_count": 213,
   "metadata": {
    "execution": {
     "iopub.execute_input": "2023-09-01T06:37:33.883573Z",
     "iopub.status.busy": "2023-09-01T06:37:33.883345Z",
     "iopub.status.idle": "2023-09-01T06:37:34.681584Z",
     "shell.execute_reply": "2023-09-01T06:37:34.680104Z",
     "shell.execute_reply.started": "2023-09-01T06:37:33.883542Z"
    },
    "id": "zbwCsFnA9oaC",
    "tags": []
   },
   "outputs": [
    {
     "data": {
      "application/vnd.jupyter.widget-view+json": {
       "model_id": "9dd2fa541a5d4bfa9b4ca64bbbb2fb3a",
       "version_major": 2,
       "version_minor": 0
      },
      "text/plain": [
       "VBox()"
      ]
     },
     "metadata": {},
     "output_type": "display_data"
    },
    {
     "data": {
      "application/vnd.jupyter.widget-view+json": {
       "model_id": "",
       "version_major": 2,
       "version_minor": 0
      },
      "text/plain": [
       "FloatProgress(value=0.0, bar_style='info', description='Progress:', layout=Layout(height='25px', width='50%'),…"
      ]
     },
     "metadata": {},
     "output_type": "display_data"
    }
   ],
   "source": [
    "preds = multiClassifier_model_hc100.transform(testData_with_embeddings)"
   ]
  },
  {
   "cell_type": "code",
   "execution_count": 214,
   "metadata": {
    "colab": {
     "base_uri": "https://localhost:8080/"
    },
    "execution": {
     "iopub.execute_input": "2023-09-01T06:37:34.682766Z",
     "iopub.status.busy": "2023-09-01T06:37:34.682556Z",
     "iopub.status.idle": "2023-09-01T06:38:12.048907Z",
     "shell.execute_reply": "2023-09-01T06:38:12.048126Z",
     "shell.execute_reply.started": "2023-09-01T06:37:34.682737Z"
    },
    "executionInfo": {
     "elapsed": 20656,
     "status": "ok",
     "timestamp": 1689692055343,
     "user": {
      "displayName": "Ahmet Mesut BİROL",
      "userId": "04340760882990254267"
     },
     "user_tz": -180
    },
    "id": "l5ZNDAi69oaC",
    "outputId": "fc206b60-dc63-45db-90b7-5efdce67225a",
    "tags": []
   },
   "outputs": [
    {
     "data": {
      "application/vnd.jupyter.widget-view+json": {
       "model_id": "2faac051c2f84e39bd5c325441d6927e",
       "version_major": 2,
       "version_minor": 0
      },
      "text/plain": [
       "VBox()"
      ]
     },
     "metadata": {},
     "output_type": "display_data"
    },
    {
     "data": {
      "application/vnd.jupyter.widget-view+json": {
       "model_id": "",
       "version_major": 2,
       "version_minor": 0
      },
      "text/plain": [
       "FloatProgress(value=0.0, bar_style='info', description='Progress:', layout=Layout(height='25px', width='50%'),…"
      ]
     },
     "metadata": {},
     "output_type": "display_data"
    },
    {
     "name": "stdout",
     "output_type": "stream",
     "text": [
      "['Orthopedic']                        35\n",
      "['Urology']                           21\n",
      "['Gastroenterology']                  20\n",
      "['Neurology']                         17\n",
      "[]                                     4\n",
      "['Orthopedic', 'Neurology']            4\n",
      "['Orthopedic', 'Gastroenterology']     1\n",
      "Name: result, dtype: int64"
     ]
    }
   ],
   "source": [
    "preds_df = preds.select(\"category\",\"text\",\"prediction.result\",\"prediction.metadata\").toPandas()\n",
    "preds_df.result.apply(lambda x: str(x) ).value_counts()"
   ]
  },
  {
   "cell_type": "code",
   "execution_count": 215,
   "metadata": {
    "colab": {
     "base_uri": "https://localhost:8080/"
    },
    "execution": {
     "iopub.execute_input": "2023-09-01T06:38:12.050126Z",
     "iopub.status.busy": "2023-09-01T06:38:12.049911Z",
     "iopub.status.idle": "2023-09-01T06:38:12.112140Z",
     "shell.execute_reply": "2023-09-01T06:38:12.111263Z",
     "shell.execute_reply.started": "2023-09-01T06:38:12.050096Z"
    },
    "executionInfo": {
     "elapsed": 84,
     "status": "ok",
     "timestamp": 1689692055344,
     "user": {
      "displayName": "Ahmet Mesut BİROL",
      "userId": "04340760882990254267"
     },
     "user_tz": -180
    },
    "id": "jCaUwm8k9oaD",
    "outputId": "49afbd7e-80aa-483f-912f-8aa3eb2b278c"
   },
   "outputs": [
    {
     "data": {
      "application/vnd.jupyter.widget-view+json": {
       "model_id": "21ddf94c384c4c88bc198497232fa140",
       "version_major": 2,
       "version_minor": 0
      },
      "text/plain": [
       "VBox()"
      ]
     },
     "metadata": {},
     "output_type": "display_data"
    },
    {
     "data": {
      "application/vnd.jupyter.widget-view+json": {
       "model_id": "",
       "version_major": 2,
       "version_minor": 0
      },
      "text/plain": [
       "FloatProgress(value=0.0, bar_style='info', description='Progress:', layout=Layout(height='25px', width='50%'),…"
      ]
     },
     "metadata": {},
     "output_type": "display_data"
    },
    {
     "name": "stdout",
     "output_type": "stream",
     "text": [
      "Orthopedic          36\n",
      "Gastroenterology    21\n",
      "Urology             21\n",
      "Neurology           20\n",
      "Name: result, dtype: int64"
     ]
    }
   ],
   "source": [
    "# We will get the highest score label as result. You can control the number of zero label results with setThreshold() in the training.\n",
    "preds_df[\"scores\"] = preds_df.metadata.apply(lambda x: {k:float(v) for k,v in x[0].items()} if len(x)>=1 else \"\")\n",
    "preds_df[\"result\"] = preds_df.scores.apply(lambda x: max(x, key=x.get) if len(x)>=1 else \"\")\n",
    "preds_df = preds_df[(preds_df[\"result\"]!=\"\")]\n",
    "preds_df[\"result\"].value_counts()"
   ]
  },
  {
   "cell_type": "code",
   "execution_count": 216,
   "metadata": {
    "colab": {
     "base_uri": "https://localhost:8080/"
    },
    "execution": {
     "iopub.execute_input": "2023-09-01T06:38:12.113355Z",
     "iopub.status.busy": "2023-09-01T06:38:12.113131Z",
     "iopub.status.idle": "2023-09-01T06:38:12.327969Z",
     "shell.execute_reply": "2023-09-01T06:38:12.170742Z",
     "shell.execute_reply.started": "2023-09-01T06:38:12.113325Z"
    },
    "executionInfo": {
     "elapsed": 51,
     "status": "ok",
     "timestamp": 1689692055344,
     "user": {
      "displayName": "Ahmet Mesut BİROL",
      "userId": "04340760882990254267"
     },
     "user_tz": -180
    },
    "id": "7UoCi9IN9oaD",
    "outputId": "d40002b6-5e03-47aa-c26c-813331132182"
   },
   "outputs": [
    {
     "data": {
      "application/vnd.jupyter.widget-view+json": {
       "model_id": "b8b4a0e22db34f5c93275df0e32a93d1",
       "version_major": 2,
       "version_minor": 0
      },
      "text/plain": [
       "VBox()"
      ]
     },
     "metadata": {},
     "output_type": "display_data"
    },
    {
     "data": {
      "application/vnd.jupyter.widget-view+json": {
       "model_id": "",
       "version_major": 2,
       "version_minor": 0
      },
      "text/plain": [
       "FloatProgress(value=0.0, bar_style='info', description='Progress:', layout=Layout(height='25px', width='50%'),…"
      ]
     },
     "metadata": {},
     "output_type": "display_data"
    },
    {
     "name": "stdout",
     "output_type": "stream",
     "text": [
      "                  precision    recall  f1-score   support\n",
      "\n",
      "Gastroenterology       0.95      0.87      0.91        23\n",
      "       Neurology       0.80      0.76      0.78        21\n",
      "      Orthopedic       0.89      0.91      0.90        35\n",
      "         Urology       0.90      1.00      0.95        19\n",
      "\n",
      "        accuracy                           0.89        98\n",
      "       macro avg       0.89      0.89      0.89        98\n",
      "    weighted avg       0.89      0.89      0.89        98"
     ]
    }
   ],
   "source": [
    "print (classification_report(preds_df[\"category\"], preds_df[\"result\"]))"
   ]
  },
  {
   "cell_type": "code",
   "execution_count": 217,
   "metadata": {
    "execution": {
     "iopub.execute_input": "2023-09-01T06:38:12.329192Z",
     "iopub.status.busy": "2023-09-01T06:38:12.328924Z",
     "iopub.status.idle": "2023-09-01T06:38:12.397551Z",
     "shell.execute_reply": "2023-09-01T06:38:12.396774Z",
     "shell.execute_reply.started": "2023-09-01T06:38:12.329161Z"
    },
    "id": "yhPrmm-RfgtQ"
   },
   "outputs": [
    {
     "data": {
      "application/vnd.jupyter.widget-view+json": {
       "model_id": "dccfb76d023f4279b54cfe3ddc4059e3",
       "version_major": 2,
       "version_minor": 0
      },
      "text/plain": [
       "VBox()"
      ]
     },
     "metadata": {},
     "output_type": "display_data"
    },
    {
     "data": {
      "application/vnd.jupyter.widget-view+json": {
       "model_id": "",
       "version_major": 2,
       "version_minor": 0
      },
      "text/plain": [
       "FloatProgress(value=0.0, bar_style='info', description='Progress:', layout=Layout(height='25px', width='50%'),…"
      ]
     },
     "metadata": {},
     "output_type": "display_data"
    }
   ],
   "source": [
    "res = classification_report(preds_df[\"category\"], preds_df[\"result\"], output_dict=True)\n",
    "results_df.loc[\"MultiClassifierDL_100d\"] = [res[\"macro avg\"][\"f1-score\"], res[\"weighted avg\"][\"f1-score\"], res[\"accuracy\"]]"
   ]
  },
  {
   "cell_type": "markdown",
   "metadata": {
    "id": "xIjin3kR9oaD"
   },
   "source": [
    "### Generic Classifier"
   ]
  },
  {
   "cell_type": "code",
   "execution_count": 218,
   "metadata": {
    "execution": {
     "iopub.execute_input": "2023-09-01T06:38:12.398698Z",
     "iopub.status.busy": "2023-09-01T06:38:12.398489Z",
     "iopub.status.idle": "2023-09-01T06:38:12.452087Z",
     "shell.execute_reply": "2023-09-01T06:38:12.451361Z",
     "shell.execute_reply.started": "2023-09-01T06:38:12.398669Z"
    },
    "id": "kbBy9Fei9oaD"
   },
   "outputs": [
    {
     "data": {
      "application/vnd.jupyter.widget-view+json": {
       "model_id": "1d4ba0418c1d4a5da1cbdc09a89ae681",
       "version_major": 2,
       "version_minor": 0
      },
      "text/plain": [
       "VBox()"
      ]
     },
     "metadata": {},
     "output_type": "display_data"
    },
    {
     "data": {
      "application/vnd.jupyter.widget-view+json": {
       "model_id": "",
       "version_major": 2,
       "version_minor": 0
      },
      "text/plain": [
       "FloatProgress(value=0.0, bar_style='info', description='Progress:', layout=Layout(height='25px', width='50%'),…"
      ]
     },
     "metadata": {},
     "output_type": "display_data"
    }
   ],
   "source": [
    "from sparknlp_jsl.annotator import TFGraphBuilder\n",
    "\n",
    "graph_folder = \"gc_graph\"\n",
    "\n",
    "gc_graph_builder = TFGraphBuilder()\\\n",
    "    .setModelName(\"generic_classifier\")\\\n",
    "    .setInputCols([\"features\"])\\\n",
    "    .setLabelColumn(\"category\")\\\n",
    "    .setHiddenLayers([300,200, 50])\\\n",
    "    .setHiddenAct(\"tanh\")\\\n",
    "    .setHiddenActL2(True)\\\n",
    "    .setBatchNorm(True)\\\n",
    "    .setGraphFolder(graph_folder)\\\n",
    "    .setGraphFile(\"gcf_graph_100d.pb\")"
   ]
  },
  {
   "cell_type": "code",
   "execution_count": 219,
   "metadata": {
    "execution": {
     "iopub.execute_input": "2023-09-01T06:38:12.453132Z",
     "iopub.status.busy": "2023-09-01T06:38:12.452888Z",
     "iopub.status.idle": "2023-09-01T06:38:12.518409Z",
     "shell.execute_reply": "2023-09-01T06:38:12.517626Z",
     "shell.execute_reply.started": "2023-09-01T06:38:12.453103Z"
    },
    "id": "k_4aonYQ9oaD"
   },
   "outputs": [
    {
     "data": {
      "application/vnd.jupyter.widget-view+json": {
       "model_id": "eca8b76573bd418d85cc90578d0439bd",
       "version_major": 2,
       "version_minor": 0
      },
      "text/plain": [
       "VBox()"
      ]
     },
     "metadata": {},
     "output_type": "display_data"
    },
    {
     "data": {
      "application/vnd.jupyter.widget-view+json": {
       "model_id": "",
       "version_major": 2,
       "version_minor": 0
      },
      "text/plain": [
       "FloatProgress(value=0.0, bar_style='info', description='Progress:', layout=Layout(height='25px', width='50%'),…"
      ]
     },
     "metadata": {},
     "output_type": "display_data"
    }
   ],
   "source": [
    "features_asm = FeaturesAssembler()\\\n",
    "    .setInputCols([\"sentence_embeddings\"])\\\n",
    "    .setOutputCol(\"features\")\n",
    "\n",
    "gen_clf = GenericClassifierApproach()\\\n",
    "    .setLabelColumn(\"category\")\\\n",
    "    .setInputCols(\"features\")\\\n",
    "    .setOutputCol(\"prediction\")\\\n",
    "    .setModelFile(f\"{graph_folder}/gcf_graph_100d.pb\")\\\n",
    "    .setEpochsNumber(50)\\\n",
    "    .setBatchSize(32)\\\n",
    "    .setLearningRate(0.001)\\\n",
    "    .setOutputLogsPath(log_folder)\\\n",
    "    .setDropout(0.3)\\\n",
    "    .setFixImbalance(False)\\\n",
    "    # .setValidationSplit(0.1)\n",
    "\n",
    "clf_Pipeline = Pipeline(stages=[\n",
    "    features_asm,\n",
    "    gc_graph_builder,\n",
    "    gen_clf])\n"
   ]
  },
  {
   "cell_type": "code",
   "execution_count": 220,
   "metadata": {
    "colab": {
     "base_uri": "https://localhost:8080/"
    },
    "execution": {
     "iopub.execute_input": "2023-09-01T06:38:12.520210Z",
     "iopub.status.busy": "2023-09-01T06:38:12.519880Z",
     "iopub.status.idle": "2023-09-01T06:38:32.322657Z",
     "shell.execute_reply": "2023-09-01T06:38:32.321904Z",
     "shell.execute_reply.started": "2023-09-01T06:38:12.520162Z"
    },
    "executionInfo": {
     "elapsed": 12332,
     "status": "ok",
     "timestamp": 1689692067656,
     "user": {
      "displayName": "Ahmet Mesut BİROL",
      "userId": "04340760882990254267"
     },
     "user_tz": -180
    },
    "id": "4LA5_oIb9oaE",
    "outputId": "86cb4791-0cf7-4787-82bc-cf2b58f1e78f"
   },
   "outputs": [
    {
     "data": {
      "application/vnd.jupyter.widget-view+json": {
       "model_id": "3887c76fafb649dfae82076f46c71ccb",
       "version_major": 2,
       "version_minor": 0
      },
      "text/plain": [
       "VBox()"
      ]
     },
     "metadata": {},
     "output_type": "display_data"
    },
    {
     "data": {
      "application/vnd.jupyter.widget-view+json": {
       "model_id": "",
       "version_major": 2,
       "version_minor": 0
      },
      "text/plain": [
       "FloatProgress(value=0.0, bar_style='info', description='Progress:', layout=Layout(height='25px', width='50%'),…"
      ]
     },
     "metadata": {},
     "output_type": "display_data"
    },
    {
     "name": "stdout",
     "output_type": "stream",
     "text": [
      "TF Graph Builder configuration:\n",
      "Model name: generic_classifier\n",
      "Graph folder: gc_graph\n",
      "Graph file name: gcf_graph_100d.pb\n",
      "Build params: {'input_dim': 100, 'output_dim': 4, 'hidden_layers': [300, 200, 50], 'hidden_act': 'tanh', 'hidden_act_l2': True, 'batch_norm': True}\n",
      "generic_classifier graph exported to gc_graph/gcf_graph_100d.pb"
     ]
    }
   ],
   "source": [
    "generic_model_hc100 = clf_Pipeline.fit(trainingData_with_embeddings)"
   ]
  },
  {
   "cell_type": "code",
   "execution_count": 221,
   "metadata": {
    "execution": {
     "iopub.execute_input": "2023-09-01T06:38:32.326775Z",
     "iopub.status.busy": "2023-09-01T06:38:32.326556Z",
     "iopub.status.idle": "2023-09-01T06:38:34.611912Z",
     "shell.execute_reply": "2023-09-01T06:38:34.611234Z",
     "shell.execute_reply.started": "2023-09-01T06:38:32.326745Z"
    },
    "id": "YSMrZRPx9oaE"
   },
   "outputs": [
    {
     "data": {
      "application/vnd.jupyter.widget-view+json": {
       "model_id": "7be04575a6604a92991cdd7b32edaaa7",
       "version_major": 2,
       "version_minor": 0
      },
      "text/plain": [
       "VBox()"
      ]
     },
     "metadata": {},
     "output_type": "display_data"
    },
    {
     "data": {
      "application/vnd.jupyter.widget-view+json": {
       "model_id": "",
       "version_major": 2,
       "version_minor": 0
      },
      "text/plain": [
       "FloatProgress(value=0.0, bar_style='info', description='Progress:', layout=Layout(height='25px', width='50%'),…"
      ]
     },
     "metadata": {},
     "output_type": "display_data"
    }
   ],
   "source": [
    "pred_df = generic_model_hc100.transform(testData_with_embeddings)"
   ]
  },
  {
   "cell_type": "code",
   "execution_count": 222,
   "metadata": {
    "colab": {
     "base_uri": "https://localhost:8080/"
    },
    "execution": {
     "iopub.execute_input": "2023-09-01T06:38:34.614486Z",
     "iopub.status.busy": "2023-09-01T06:38:34.614270Z",
     "iopub.status.idle": "2023-09-01T06:38:36.886926Z",
     "shell.execute_reply": "2023-09-01T06:38:36.885987Z",
     "shell.execute_reply.started": "2023-09-01T06:38:34.614457Z"
    },
    "executionInfo": {
     "elapsed": 2163,
     "status": "ok",
     "timestamp": 1689692071462,
     "user": {
      "displayName": "Ahmet Mesut BİROL",
      "userId": "04340760882990254267"
     },
     "user_tz": -180
    },
    "id": "geckbyhy9oaE",
    "outputId": "2491e3ad-7235-4e9d-ff71-2fe0dd0dd3df"
   },
   "outputs": [
    {
     "data": {
      "application/vnd.jupyter.widget-view+json": {
       "model_id": "f97375cfdf2948b6882bd68cc3d318e6",
       "version_major": 2,
       "version_minor": 0
      },
      "text/plain": [
       "VBox()"
      ]
     },
     "metadata": {},
     "output_type": "display_data"
    },
    {
     "data": {
      "application/vnd.jupyter.widget-view+json": {
       "model_id": "",
       "version_major": 2,
       "version_minor": 0
      },
      "text/plain": [
       "FloatProgress(value=0.0, bar_style='info', description='Progress:', layout=Layout(height='25px', width='50%'),…"
      ]
     },
     "metadata": {},
     "output_type": "display_data"
    },
    {
     "name": "stdout",
     "output_type": "stream",
     "text": [
      "                  precision    recall  f1-score   support\n",
      "\n",
      "Gastroenterology       0.89      0.96      0.92        25\n",
      "       Neurology       0.85      0.77      0.81        22\n",
      "      Orthopedic       0.89      0.91      0.90        35\n",
      "         Urology       0.95      0.90      0.92        20\n",
      "\n",
      "        accuracy                           0.89       102\n",
      "       macro avg       0.89      0.89      0.89       102\n",
      "    weighted avg       0.89      0.89      0.89       102"
     ]
    }
   ],
   "source": [
    "preds_df = pred_df.select('category','prediction.result').toPandas()\n",
    "preds_df['result'] = preds_df.result.apply(lambda x : x[0])\n",
    "\n",
    "print (classification_report(preds_df['category'], preds_df['result']))"
   ]
  },
  {
   "cell_type": "code",
   "execution_count": 223,
   "metadata": {
    "execution": {
     "iopub.execute_input": "2023-09-01T06:38:36.888255Z",
     "iopub.status.busy": "2023-09-01T06:38:36.888018Z",
     "iopub.status.idle": "2023-09-01T06:38:36.959953Z",
     "shell.execute_reply": "2023-09-01T06:38:36.959000Z",
     "shell.execute_reply.started": "2023-09-01T06:38:36.888223Z"
    },
    "id": "tPcFZBLmfx_P"
   },
   "outputs": [
    {
     "data": {
      "application/vnd.jupyter.widget-view+json": {
       "model_id": "575a920a1f204c46949e407ed8561910",
       "version_major": 2,
       "version_minor": 0
      },
      "text/plain": [
       "VBox()"
      ]
     },
     "metadata": {},
     "output_type": "display_data"
    },
    {
     "data": {
      "application/vnd.jupyter.widget-view+json": {
       "model_id": "",
       "version_major": 2,
       "version_minor": 0
      },
      "text/plain": [
       "FloatProgress(value=0.0, bar_style='info', description='Progress:', layout=Layout(height='25px', width='50%'),…"
      ]
     },
     "metadata": {},
     "output_type": "display_data"
    }
   ],
   "source": [
    "res = classification_report(preds_df[\"category\"], preds_df[\"result\"], output_dict=True)\n",
    "results_df.loc[\"GenericClassifier_100d\"] = [res[\"macro avg\"][\"f1-score\"], res[\"weighted avg\"][\"f1-score\"], res[\"accuracy\"]]"
   ]
  },
  {
   "cell_type": "markdown",
   "metadata": {
    "id": "hOnIAdo9XKrE"
   },
   "source": [
    "### GenericLogRegClassifier"
   ]
  },
  {
   "cell_type": "code",
   "execution_count": 224,
   "metadata": {
    "execution": {
     "iopub.execute_input": "2023-09-01T06:38:36.961169Z",
     "iopub.status.busy": "2023-09-01T06:38:36.960902Z",
     "iopub.status.idle": "2023-09-01T06:38:37.046428Z",
     "shell.execute_reply": "2023-09-01T06:38:37.045678Z",
     "shell.execute_reply.started": "2023-09-01T06:38:36.961139Z"
    },
    "id": "xC6Kg1KeXKrE"
   },
   "outputs": [
    {
     "data": {
      "application/vnd.jupyter.widget-view+json": {
       "model_id": "4254e2ade33e41cb8d605208863ccc7c",
       "version_major": 2,
       "version_minor": 0
      },
      "text/plain": [
       "VBox()"
      ]
     },
     "metadata": {},
     "output_type": "display_data"
    },
    {
     "data": {
      "application/vnd.jupyter.widget-view+json": {
       "model_id": "",
       "version_major": 2,
       "version_minor": 0
      },
      "text/plain": [
       "FloatProgress(value=0.0, bar_style='info', description='Progress:', layout=Layout(height='25px', width='50%'),…"
      ]
     },
     "metadata": {},
     "output_type": "display_data"
    }
   ],
   "source": [
    "from sparknlp_jsl.annotator import TFGraphBuilder\n",
    "\n",
    "graph_folder = \"gc_graph\"\n",
    "\n",
    "gc_logreg_graph_builder = TFGraphBuilder()\\\n",
    "    .setModelName(\"logreg_classifier\")\\\n",
    "    .setInputCols([\"feature_vector\"]) \\\n",
    "    .setLabelColumn(\"category\")\\\n",
    "    .setGraphFolder(graph_folder)\\\n",
    "    .setGraphFile(\"log_reg_graph.pb\")"
   ]
  },
  {
   "cell_type": "markdown",
   "metadata": {
    "id": "8R6PZ_qlXKrE"
   },
   "source": [
    "GenericLogRegClassifier needs outputs from FeaturesAssembler. The FeaturesAssembler is used to collect features from different columns or an embeddings column.\n",
    "\n",
    "The GenericLogRegClassifier takes FEATURE_VECTOR annotations as input, classifies them and outputs CATEGORY annotations."
   ]
  },
  {
   "cell_type": "code",
   "execution_count": 225,
   "metadata": {
    "execution": {
     "iopub.execute_input": "2023-09-01T06:38:37.047617Z",
     "iopub.status.busy": "2023-09-01T06:38:37.047403Z",
     "iopub.status.idle": "2023-09-01T06:38:37.118511Z",
     "shell.execute_reply": "2023-09-01T06:38:37.117742Z",
     "shell.execute_reply.started": "2023-09-01T06:38:37.047588Z"
    },
    "id": "EWrEoT2sXKrF"
   },
   "outputs": [
    {
     "data": {
      "application/vnd.jupyter.widget-view+json": {
       "model_id": "bf6a636376e043569ff92d4380b35f53",
       "version_major": 2,
       "version_minor": 0
      },
      "text/plain": [
       "VBox()"
      ]
     },
     "metadata": {},
     "output_type": "display_data"
    },
    {
     "data": {
      "application/vnd.jupyter.widget-view+json": {
       "model_id": "",
       "version_major": 2,
       "version_minor": 0
      },
      "text/plain": [
       "FloatProgress(value=0.0, bar_style='info', description='Progress:', layout=Layout(height='25px', width='50%'),…"
      ]
     },
     "metadata": {},
     "output_type": "display_data"
    }
   ],
   "source": [
    "features_asm = FeaturesAssembler()\\\n",
    "    .setInputCols([\"sentence_embeddings\"])\\\n",
    "    .setOutputCol(\"feature_vector\")\n",
    "\n",
    "gen_clf = GenericLogRegClassifierApproach()\\\n",
    "    .setLabelColumn(\"category\")\\\n",
    "    .setInputCols(\"feature_vector\")\\\n",
    "    .setOutputCol(\"prediction\")\\\n",
    "    .setModelFile(f\"{graph_folder}/log_reg_graph.pb\")\\\n",
    "    .setEpochsNumber(45)\\\n",
    "    .setBatchSize(32)\\\n",
    "    .setLearningRate(0.02)\\\n",
    "    .setOutputLogsPath(log_folder)\\\n",
    "    .setDropout(0.1)\\\n",
    "    .setFixImbalance(True)\\\n",
    "    # .setValidationSplit(0.1)\n",
    "\n",
    "clf_Pipeline = Pipeline(stages=[\n",
    "    features_asm,\n",
    "    gc_logreg_graph_builder,\n",
    "    gen_clf])\n"
   ]
  },
  {
   "cell_type": "code",
   "execution_count": 226,
   "metadata": {
    "colab": {
     "base_uri": "https://localhost:8080/"
    },
    "execution": {
     "iopub.execute_input": "2023-09-01T06:38:37.119664Z",
     "iopub.status.busy": "2023-09-01T06:38:37.119455Z",
     "iopub.status.idle": "2023-09-01T06:38:48.425503Z",
     "shell.execute_reply": "2023-09-01T06:38:48.424705Z",
     "shell.execute_reply.started": "2023-09-01T06:38:37.119635Z"
    },
    "executionInfo": {
     "elapsed": 9318,
     "status": "ok",
     "timestamp": 1689692080775,
     "user": {
      "displayName": "Ahmet Mesut BİROL",
      "userId": "04340760882990254267"
     },
     "user_tz": -180
    },
    "id": "Bfkzw4n3XKrF",
    "outputId": "f65152b8-ebbe-4c81-86a8-bd10d90587fb"
   },
   "outputs": [
    {
     "data": {
      "application/vnd.jupyter.widget-view+json": {
       "model_id": "8ed870d59e854ab2833e08502d2b77ac",
       "version_major": 2,
       "version_minor": 0
      },
      "text/plain": [
       "VBox()"
      ]
     },
     "metadata": {},
     "output_type": "display_data"
    },
    {
     "data": {
      "application/vnd.jupyter.widget-view+json": {
       "model_id": "",
       "version_major": 2,
       "version_minor": 0
      },
      "text/plain": [
       "FloatProgress(value=0.0, bar_style='info', description='Progress:', layout=Layout(height='25px', width='50%'),…"
      ]
     },
     "metadata": {},
     "output_type": "display_data"
    },
    {
     "name": "stdout",
     "output_type": "stream",
     "text": [
      "TF Graph Builder configuration:\n",
      "Model name: logreg_classifier\n",
      "Graph folder: gc_graph\n",
      "Graph file name: log_reg_graph.pb\n",
      "Build params: {'input_dim': 100, 'output_dim': 4, 'hidden_layers': [], 'output_act': 'sigmoid'}\n",
      "logreg_classifier graph exported to gc_graph/log_reg_graph.pb"
     ]
    }
   ],
   "source": [
    "generic_model_hc100 = clf_Pipeline.fit(trainingData_with_embeddings)"
   ]
  },
  {
   "cell_type": "code",
   "execution_count": 227,
   "metadata": {
    "execution": {
     "iopub.execute_input": "2023-09-01T06:38:48.426577Z",
     "iopub.status.busy": "2023-09-01T06:38:48.426366Z",
     "iopub.status.idle": "2023-09-01T06:38:50.078570Z",
     "shell.execute_reply": "2023-09-01T06:38:50.077812Z",
     "shell.execute_reply.started": "2023-09-01T06:38:48.426548Z"
    },
    "id": "FAP8vtiUXKrG"
   },
   "outputs": [
    {
     "data": {
      "application/vnd.jupyter.widget-view+json": {
       "model_id": "dabb38136dba40e88515211003fd6d53",
       "version_major": 2,
       "version_minor": 0
      },
      "text/plain": [
       "VBox()"
      ]
     },
     "metadata": {},
     "output_type": "display_data"
    },
    {
     "data": {
      "application/vnd.jupyter.widget-view+json": {
       "model_id": "",
       "version_major": 2,
       "version_minor": 0
      },
      "text/plain": [
       "FloatProgress(value=0.0, bar_style='info', description='Progress:', layout=Layout(height='25px', width='50%'),…"
      ]
     },
     "metadata": {},
     "output_type": "display_data"
    }
   ],
   "source": [
    "pred_df = generic_model_hc100.transform(testData_with_embeddings)"
   ]
  },
  {
   "cell_type": "code",
   "execution_count": 228,
   "metadata": {
    "colab": {
     "base_uri": "https://localhost:8080/"
    },
    "execution": {
     "iopub.execute_input": "2023-09-01T06:38:50.079791Z",
     "iopub.status.busy": "2023-09-01T06:38:50.079578Z",
     "iopub.status.idle": "2023-09-01T06:38:52.370901Z",
     "shell.execute_reply": "2023-09-01T06:38:52.370175Z",
     "shell.execute_reply.started": "2023-09-01T06:38:50.079761Z"
    },
    "executionInfo": {
     "elapsed": 1976,
     "status": "ok",
     "timestamp": 1689692084573,
     "user": {
      "displayName": "Ahmet Mesut BİROL",
      "userId": "04340760882990254267"
     },
     "user_tz": -180
    },
    "id": "caRWCdadXKrG",
    "outputId": "e447262d-d1ca-46f0-ca17-40fcc7c31242"
   },
   "outputs": [
    {
     "data": {
      "application/vnd.jupyter.widget-view+json": {
       "model_id": "7912e799c76b4ffd98f95cbee60592dc",
       "version_major": 2,
       "version_minor": 0
      },
      "text/plain": [
       "VBox()"
      ]
     },
     "metadata": {},
     "output_type": "display_data"
    },
    {
     "data": {
      "application/vnd.jupyter.widget-view+json": {
       "model_id": "",
       "version_major": 2,
       "version_minor": 0
      },
      "text/plain": [
       "FloatProgress(value=0.0, bar_style='info', description='Progress:', layout=Layout(height='25px', width='50%'),…"
      ]
     },
     "metadata": {},
     "output_type": "display_data"
    },
    {
     "name": "stdout",
     "output_type": "stream",
     "text": [
      "                  precision    recall  f1-score   support\n",
      "\n",
      "Gastroenterology       0.95      0.84      0.89        25\n",
      "       Neurology       0.81      0.77      0.79        22\n",
      "      Orthopedic       0.84      0.91      0.88        35\n",
      "         Urology       0.81      0.85      0.83        20\n",
      "\n",
      "        accuracy                           0.85       102\n",
      "       macro avg       0.85      0.84      0.85       102\n",
      "    weighted avg       0.86      0.85      0.85       102"
     ]
    }
   ],
   "source": [
    "preds_df = pred_df.select('category','prediction.result').toPandas()\n",
    "preds_df['result'] = preds_df.result.apply(lambda x : x[0])\n",
    "\n",
    "print (classification_report(preds_df['category'], preds_df['result']))"
   ]
  },
  {
   "cell_type": "code",
   "execution_count": 229,
   "metadata": {
    "execution": {
     "iopub.execute_input": "2023-09-01T06:38:52.372081Z",
     "iopub.status.busy": "2023-09-01T06:38:52.371848Z",
     "iopub.status.idle": "2023-09-01T06:38:52.459523Z",
     "shell.execute_reply": "2023-09-01T06:38:52.458806Z",
     "shell.execute_reply.started": "2023-09-01T06:38:52.372052Z"
    },
    "id": "BORghUP2XYdp"
   },
   "outputs": [
    {
     "data": {
      "application/vnd.jupyter.widget-view+json": {
       "model_id": "e935ecca8929406a9b0b17527d26a345",
       "version_major": 2,
       "version_minor": 0
      },
      "text/plain": [
       "VBox()"
      ]
     },
     "metadata": {},
     "output_type": "display_data"
    },
    {
     "data": {
      "application/vnd.jupyter.widget-view+json": {
       "model_id": "",
       "version_major": 2,
       "version_minor": 0
      },
      "text/plain": [
       "FloatProgress(value=0.0, bar_style='info', description='Progress:', layout=Layout(height='25px', width='50%'),…"
      ]
     },
     "metadata": {},
     "output_type": "display_data"
    }
   ],
   "source": [
    "res = classification_report(preds_df[\"category\"], preds_df[\"result\"], output_dict=True)\n",
    "results_df.loc[\"GenericLogReg_100d\"] = [res[\"macro avg\"][\"f1-score\"], res[\"weighted avg\"][\"f1-score\"], res[\"accuracy\"]]"
   ]
  },
  {
   "cell_type": "markdown",
   "metadata": {
    "id": "wNNMzT-XXYmA"
   },
   "source": [
    "### GenericSVMClassifier"
   ]
  },
  {
   "cell_type": "code",
   "execution_count": 230,
   "metadata": {
    "execution": {
     "iopub.execute_input": "2023-09-01T06:38:52.461498Z",
     "iopub.status.busy": "2023-09-01T06:38:52.461164Z",
     "iopub.status.idle": "2023-09-01T06:38:52.740701Z",
     "shell.execute_reply": "2023-09-01T06:38:52.739810Z",
     "shell.execute_reply.started": "2023-09-01T06:38:52.461450Z"
    },
    "id": "M7ludWh3XYmB"
   },
   "outputs": [
    {
     "data": {
      "application/vnd.jupyter.widget-view+json": {
       "model_id": "dc1b7985f392455d85b934b1da0a8b21",
       "version_major": 2,
       "version_minor": 0
      },
      "text/plain": [
       "VBox()"
      ]
     },
     "metadata": {},
     "output_type": "display_data"
    },
    {
     "data": {
      "application/vnd.jupyter.widget-view+json": {
       "model_id": "",
       "version_major": 2,
       "version_minor": 0
      },
      "text/plain": [
       "FloatProgress(value=0.0, bar_style='info', description='Progress:', layout=Layout(height='25px', width='50%'),…"
      ]
     },
     "metadata": {},
     "output_type": "display_data"
    }
   ],
   "source": [
    "from sparknlp_jsl.annotator import TFGraphBuilder\n",
    "\n",
    "graph_folder = \"gc_graph\"\n",
    "\n",
    "gc_svm_graph_builder = TFGraphBuilder()\\\n",
    "    .setModelName(\"svm_classifier\")\\\n",
    "    .setInputCols([\"feature_vector\"]) \\\n",
    "    .setLabelColumn(\"category\")\\\n",
    "    .setGraphFolder(graph_folder)\\\n",
    "    .setGraphFile(\"svm_graph.pb\")"
   ]
  },
  {
   "cell_type": "markdown",
   "metadata": {
    "id": "pLqqH3HOXYmB"
   },
   "source": [
    "GenericSVMClassifier needs outputs from FeaturesAssembler. The FeaturesAssembler is used to collect features from different columns or an embeddings column.\n",
    "\n",
    "The GenericSVMClassifier takes FEATURE_VECTOR annotations as input, classifies them and outputs CATEGORY annotations."
   ]
  },
  {
   "cell_type": "code",
   "execution_count": 231,
   "metadata": {
    "execution": {
     "iopub.execute_input": "2023-09-01T06:38:52.742041Z",
     "iopub.status.busy": "2023-09-01T06:38:52.741807Z",
     "iopub.status.idle": "2023-09-01T06:38:52.801042Z",
     "shell.execute_reply": "2023-09-01T06:38:52.800344Z",
     "shell.execute_reply.started": "2023-09-01T06:38:52.742010Z"
    },
    "id": "jNZAxL3iXYmB"
   },
   "outputs": [
    {
     "data": {
      "application/vnd.jupyter.widget-view+json": {
       "model_id": "6021fc3163b54f058890efc42a930eed",
       "version_major": 2,
       "version_minor": 0
      },
      "text/plain": [
       "VBox()"
      ]
     },
     "metadata": {},
     "output_type": "display_data"
    },
    {
     "data": {
      "application/vnd.jupyter.widget-view+json": {
       "model_id": "",
       "version_major": 2,
       "version_minor": 0
      },
      "text/plain": [
       "FloatProgress(value=0.0, bar_style='info', description='Progress:', layout=Layout(height='25px', width='50%'),…"
      ]
     },
     "metadata": {},
     "output_type": "display_data"
    }
   ],
   "source": [
    "features_asm = FeaturesAssembler()\\\n",
    "    .setInputCols([\"sentence_embeddings\"])\\\n",
    "    .setOutputCol(\"feature_vector\")\n",
    "\n",
    "gen_clf = GenericSVMClassifierApproach()\\\n",
    "    .setLabelColumn(\"category\")\\\n",
    "    .setInputCols(\"feature_vector\")\\\n",
    "    .setOutputCol(\"prediction\")\\\n",
    "    .setModelFile(f\"{graph_folder}/svm_graph.pb\")\\\n",
    "    .setEpochsNumber(45)\\\n",
    "    .setBatchSize(32)\\\n",
    "    .setLearningRate(0.02)\\\n",
    "    .setOutputLogsPath(log_folder)\\\n",
    "    .setDropout(0.1)\\\n",
    "    .setFixImbalance(True)\\\n",
    "    # .setValidationSplit(0.1)\n",
    "\n",
    "clf_Pipeline = Pipeline(stages=[\n",
    "    features_asm,\n",
    "    gc_svm_graph_builder,\n",
    "    gen_clf])\n"
   ]
  },
  {
   "cell_type": "code",
   "execution_count": 232,
   "metadata": {
    "colab": {
     "base_uri": "https://localhost:8080/"
    },
    "execution": {
     "iopub.execute_input": "2023-09-01T06:38:52.802133Z",
     "iopub.status.busy": "2023-09-01T06:38:52.801921Z",
     "iopub.status.idle": "2023-09-01T06:39:08.120654Z",
     "shell.execute_reply": "2023-09-01T06:39:08.119818Z",
     "shell.execute_reply.started": "2023-09-01T06:38:52.802104Z"
    },
    "executionInfo": {
     "elapsed": 9269,
     "status": "ok",
     "timestamp": 1689692093836,
     "user": {
      "displayName": "Ahmet Mesut BİROL",
      "userId": "04340760882990254267"
     },
     "user_tz": -180
    },
    "id": "FOpLj7MbXYmB",
    "outputId": "84d0def0-cbd2-474c-93c6-9c8b82b9d15f"
   },
   "outputs": [
    {
     "data": {
      "application/vnd.jupyter.widget-view+json": {
       "model_id": "10cae7bf64444bb291975c869ab6e8a2",
       "version_major": 2,
       "version_minor": 0
      },
      "text/plain": [
       "VBox()"
      ]
     },
     "metadata": {},
     "output_type": "display_data"
    },
    {
     "data": {
      "application/vnd.jupyter.widget-view+json": {
       "model_id": "",
       "version_major": 2,
       "version_minor": 0
      },
      "text/plain": [
       "FloatProgress(value=0.0, bar_style='info', description='Progress:', layout=Layout(height='25px', width='50%'),…"
      ]
     },
     "metadata": {},
     "output_type": "display_data"
    },
    {
     "name": "stdout",
     "output_type": "stream",
     "text": [
      "TF Graph Builder configuration:\n",
      "Model name: svm_classifier\n",
      "Graph folder: gc_graph\n",
      "Graph file name: svm_graph.pb\n",
      "Build params: {'input_dim': 100, 'output_dim': 4, 'hidden_layers': [], 'output_act': 'sigmoid', 'loss_func': 'hinge'}\n",
      "svm_classifier graph exported to gc_graph/svm_graph.pb"
     ]
    }
   ],
   "source": [
    "generic_model_hc100 = clf_Pipeline.fit(trainingData_with_embeddings)"
   ]
  },
  {
   "cell_type": "code",
   "execution_count": 233,
   "metadata": {
    "execution": {
     "iopub.execute_input": "2023-09-01T06:39:08.121933Z",
     "iopub.status.busy": "2023-09-01T06:39:08.121705Z",
     "iopub.status.idle": "2023-09-01T06:39:09.888810Z",
     "shell.execute_reply": "2023-09-01T06:39:09.888092Z",
     "shell.execute_reply.started": "2023-09-01T06:39:08.121902Z"
    },
    "id": "pN0Ts7VqXYmC"
   },
   "outputs": [
    {
     "data": {
      "application/vnd.jupyter.widget-view+json": {
       "model_id": "336b2d1d4fbe4cebada03c75fbd83dc1",
       "version_major": 2,
       "version_minor": 0
      },
      "text/plain": [
       "VBox()"
      ]
     },
     "metadata": {},
     "output_type": "display_data"
    },
    {
     "data": {
      "application/vnd.jupyter.widget-view+json": {
       "model_id": "",
       "version_major": 2,
       "version_minor": 0
      },
      "text/plain": [
       "FloatProgress(value=0.0, bar_style='info', description='Progress:', layout=Layout(height='25px', width='50%'),…"
      ]
     },
     "metadata": {},
     "output_type": "display_data"
    }
   ],
   "source": [
    "pred_df = generic_model_hc100.transform(testData_with_embeddings)"
   ]
  },
  {
   "cell_type": "code",
   "execution_count": 234,
   "metadata": {
    "colab": {
     "base_uri": "https://localhost:8080/"
    },
    "execution": {
     "iopub.execute_input": "2023-09-01T06:39:09.890011Z",
     "iopub.status.busy": "2023-09-01T06:39:09.889797Z",
     "iopub.status.idle": "2023-09-01T06:39:12.191669Z",
     "shell.execute_reply": "2023-09-01T06:39:12.190933Z",
     "shell.execute_reply.started": "2023-09-01T06:39:09.889982Z"
    },
    "executionInfo": {
     "elapsed": 1714,
     "status": "ok",
     "timestamp": 1689692097487,
     "user": {
      "displayName": "Ahmet Mesut BİROL",
      "userId": "04340760882990254267"
     },
     "user_tz": -180
    },
    "id": "KRFJdGyEXYmC",
    "outputId": "ccd51e34-4438-4c9d-b210-f772d60fda5f"
   },
   "outputs": [
    {
     "data": {
      "application/vnd.jupyter.widget-view+json": {
       "model_id": "0f68f3ea8195470f81609607dbf65503",
       "version_major": 2,
       "version_minor": 0
      },
      "text/plain": [
       "VBox()"
      ]
     },
     "metadata": {},
     "output_type": "display_data"
    },
    {
     "data": {
      "application/vnd.jupyter.widget-view+json": {
       "model_id": "",
       "version_major": 2,
       "version_minor": 0
      },
      "text/plain": [
       "FloatProgress(value=0.0, bar_style='info', description='Progress:', layout=Layout(height='25px', width='50%'),…"
      ]
     },
     "metadata": {},
     "output_type": "display_data"
    },
    {
     "name": "stdout",
     "output_type": "stream",
     "text": [
      "                  precision    recall  f1-score   support\n",
      "\n",
      "Gastroenterology       0.88      0.88      0.88        25\n",
      "       Neurology       0.85      0.77      0.81        22\n",
      "      Orthopedic       0.86      0.91      0.89        35\n",
      "         Urology       0.85      0.85      0.85        20\n",
      "\n",
      "        accuracy                           0.86       102\n",
      "       macro avg       0.86      0.85      0.86       102\n",
      "    weighted avg       0.86      0.86      0.86       102"
     ]
    }
   ],
   "source": [
    "preds_df = pred_df.select('category','prediction.result').toPandas()\n",
    "preds_df['result'] = preds_df.result.apply(lambda x : x[0])\n",
    "\n",
    "print (classification_report(preds_df['category'], preds_df['result']))"
   ]
  },
  {
   "cell_type": "code",
   "execution_count": 235,
   "metadata": {
    "execution": {
     "iopub.execute_input": "2023-09-01T06:39:12.192906Z",
     "iopub.status.busy": "2023-09-01T06:39:12.192679Z",
     "iopub.status.idle": "2023-09-01T06:39:12.243976Z",
     "shell.execute_reply": "2023-09-01T06:39:12.242531Z",
     "shell.execute_reply.started": "2023-09-01T06:39:12.192875Z"
    },
    "id": "e9MRze1vgYvu"
   },
   "outputs": [
    {
     "data": {
      "application/vnd.jupyter.widget-view+json": {
       "model_id": "066564bd43f3486d9eaef04727707d36",
       "version_major": 2,
       "version_minor": 0
      },
      "text/plain": [
       "VBox()"
      ]
     },
     "metadata": {},
     "output_type": "display_data"
    },
    {
     "data": {
      "application/vnd.jupyter.widget-view+json": {
       "model_id": "",
       "version_major": 2,
       "version_minor": 0
      },
      "text/plain": [
       "FloatProgress(value=0.0, bar_style='info', description='Progress:', layout=Layout(height='25px', width='50%'),…"
      ]
     },
     "metadata": {},
     "output_type": "display_data"
    }
   ],
   "source": [
    "res = classification_report(preds_df[\"category\"], preds_df[\"result\"], output_dict=True)\n",
    "results_df.loc[\"GenericSVM_100d\"] = [res[\"macro avg\"][\"f1-score\"], res[\"weighted avg\"][\"f1-score\"], res[\"accuracy\"]]"
   ]
  },
  {
   "cell_type": "markdown",
   "metadata": {
    "id": "kF60nUsj9oaE"
   },
   "source": [
    "## 200 Dimension Healthcare Embeddings (embeddings_clinical)\n",
    "\n"
   ]
  },
  {
   "cell_type": "markdown",
   "metadata": {
    "id": "fBJMu9pr9oaE"
   },
   "source": [
    "Now we will extract [embeddings_clinical](https://nlp.johnsnowlabs.com/2020/01/28/embeddings_clinical_en.html) embeddings which has 200 dimension output and use this embeddings in the model training."
   ]
  },
  {
   "cell_type": "code",
   "execution_count": 236,
   "metadata": {
    "colab": {
     "base_uri": "https://localhost:8080/"
    },
    "execution": {
     "iopub.execute_input": "2023-09-01T06:39:12.245388Z",
     "iopub.status.busy": "2023-09-01T06:39:12.245166Z",
     "iopub.status.idle": "2023-09-01T06:39:15.557638Z",
     "shell.execute_reply": "2023-09-01T06:39:15.556898Z",
     "shell.execute_reply.started": "2023-09-01T06:39:12.245358Z"
    },
    "executionInfo": {
     "elapsed": 3236,
     "status": "ok",
     "timestamp": 1689692100715,
     "user": {
      "displayName": "Ahmet Mesut BİROL",
      "userId": "04340760882990254267"
     },
     "user_tz": -180
    },
    "id": "PzSG35rb9oaE",
    "outputId": "7b58d745-24f3-4162-a456-609848c93167"
   },
   "outputs": [
    {
     "data": {
      "application/vnd.jupyter.widget-view+json": {
       "model_id": "e2a158281d804033a5e158a148cbfd58",
       "version_major": 2,
       "version_minor": 0
      },
      "text/plain": [
       "VBox()"
      ]
     },
     "metadata": {},
     "output_type": "display_data"
    },
    {
     "data": {
      "application/vnd.jupyter.widget-view+json": {
       "model_id": "",
       "version_major": 2,
       "version_minor": 0
      },
      "text/plain": [
       "FloatProgress(value=0.0, bar_style='info', description='Progress:', layout=Layout(height='25px', width='50%'),…"
      ]
     },
     "metadata": {},
     "output_type": "display_data"
    },
    {
     "name": "stdout",
     "output_type": "stream",
     "text": [
      "embeddings_clinical download started this may take some time.\n",
      "Approximate size to download 1.6 GB\n",
      "[OK!]"
     ]
    }
   ],
   "source": [
    "document_assembler = DocumentAssembler()\\\n",
    "        .setInputCol(\"text\")\\\n",
    "        .setOutputCol(\"document\")\n",
    "\n",
    "tokenizer = Tokenizer() \\\n",
    "            .setInputCols([\"document\"]) \\\n",
    "            .setOutputCol(\"token\")\n",
    "\n",
    "word_embeddings = WordEmbeddingsModel.pretrained(\"embeddings_clinical\",\"en\",\"clinical/models\")\\\n",
    "        .setInputCols([\"document\",\"token\"])\\\n",
    "        .setOutputCol(\"word_embeddings\")\n",
    "\n",
    "sentence_embeddings = SentenceEmbeddings() \\\n",
    "        .setInputCols([\"document\", \"word_embeddings\"]) \\\n",
    "        .setOutputCol(\"sentence_embeddings\") \\\n",
    "        .setPoolingStrategy(\"AVERAGE\")\n",
    "\n",
    "embeddings_pipeline = Pipeline(\n",
    "    stages = [\n",
    "        document_assembler,\n",
    "        tokenizer,\n",
    "        word_embeddings,\n",
    "        sentence_embeddings,\n",
    "    ])"
   ]
  },
  {
   "cell_type": "code",
   "execution_count": 237,
   "metadata": {
    "colab": {
     "base_uri": "https://localhost:8080/"
    },
    "execution": {
     "iopub.execute_input": "2023-09-01T06:39:15.558828Z",
     "iopub.status.busy": "2023-09-01T06:39:15.558608Z",
     "iopub.status.idle": "2023-09-01T06:39:16.320296Z",
     "shell.execute_reply": "2023-09-01T06:39:16.319611Z",
     "shell.execute_reply.started": "2023-09-01T06:39:15.558798Z"
    },
    "executionInfo": {
     "elapsed": 998,
     "status": "ok",
     "timestamp": 1689692101706,
     "user": {
      "displayName": "Ahmet Mesut BİROL",
      "userId": "04340760882990254267"
     },
     "user_tz": -180
    },
    "id": "MXN8Cqyp9oaF",
    "outputId": "ac07c71b-2720-4b1b-832b-33adae745759"
   },
   "outputs": [
    {
     "data": {
      "application/vnd.jupyter.widget-view+json": {
       "model_id": "548cec66a41441c69cf546f7dd690488",
       "version_major": 2,
       "version_minor": 0
      },
      "text/plain": [
       "VBox()"
      ]
     },
     "metadata": {},
     "output_type": "display_data"
    },
    {
     "data": {
      "application/vnd.jupyter.widget-view+json": {
       "model_id": "",
       "version_major": 2,
       "version_minor": 0
      },
      "text/plain": [
       "FloatProgress(value=0.0, bar_style='info', description='Progress:', layout=Layout(height='25px', width='50%'),…"
      ]
     },
     "metadata": {},
     "output_type": "display_data"
    },
    {
     "name": "stdout",
     "output_type": "stream",
     "text": [
      "+------------------------------------------------------------+----------------+------------------------------------------------------------+\n",
      "|                                                        text|        category|                                         sentence_embeddings|\n",
      "+------------------------------------------------------------+----------------+------------------------------------------------------------+\n",
      "| ADMISSION DIAGNOSIS: Symptomatic cholelithiasis. DISCHAR...|Gastroenterology|[{sentence_embeddings, 0, 2228,  ADMISSION DIAGNOSIS: Sym...|\n",
      "| ADMITTING DIAGNOSES: Hiatal hernia, gastroesophageal ref...|Gastroenterology|[{sentence_embeddings, 0, 3237,  ADMITTING DIAGNOSES: Hia...|\n",
      "+------------------------------------------------------------+----------------+------------------------------------------------------------+\n",
      "only showing top 2 rows"
     ]
    }
   ],
   "source": [
    "trainingData_with_embeddings = embeddings_pipeline.fit(trainingData).transform(trainingData)\\\n",
    "                                                  .select(\"text\",\"category\",\"sentence_embeddings\")\n",
    "trainingData_with_embeddings.show(2,truncate=60)"
   ]
  },
  {
   "cell_type": "code",
   "execution_count": 238,
   "metadata": {
    "colab": {
     "base_uri": "https://localhost:8080/"
    },
    "execution": {
     "iopub.execute_input": "2023-09-01T06:39:16.321532Z",
     "iopub.status.busy": "2023-09-01T06:39:16.321316Z",
     "iopub.status.idle": "2023-09-01T06:39:17.083983Z",
     "shell.execute_reply": "2023-09-01T06:39:17.083309Z",
     "shell.execute_reply.started": "2023-09-01T06:39:16.321502Z"
    },
    "executionInfo": {
     "elapsed": 1155,
     "status": "ok",
     "timestamp": 1689692102858,
     "user": {
      "displayName": "Ahmet Mesut BİROL",
      "userId": "04340760882990254267"
     },
     "user_tz": -180
    },
    "id": "fpBY0D_y9oaF",
    "outputId": "0b06b466-284b-48a8-9210-b50782d231bc"
   },
   "outputs": [
    {
     "data": {
      "application/vnd.jupyter.widget-view+json": {
       "model_id": "8f0ba08caac549d0a4864b6d2a129f26",
       "version_major": 2,
       "version_minor": 0
      },
      "text/plain": [
       "VBox()"
      ]
     },
     "metadata": {},
     "output_type": "display_data"
    },
    {
     "data": {
      "application/vnd.jupyter.widget-view+json": {
       "model_id": "",
       "version_major": 2,
       "version_minor": 0
      },
      "text/plain": [
       "FloatProgress(value=0.0, bar_style='info', description='Progress:', layout=Layout(height='25px', width='50%'),…"
      ]
     },
     "metadata": {},
     "output_type": "display_data"
    },
    {
     "name": "stdout",
     "output_type": "stream",
     "text": [
      "+------------------------------------------------------------+----------------+------------------------------------------------------------+\n",
      "|                                                        text|        category|                                         sentence_embeddings|\n",
      "+------------------------------------------------------------+----------------+------------------------------------------------------------+\n",
      "| ADMITTING DIAGNOSIS: Gastrointestinal bleed. HISTORY OF ...|Gastroenterology|[{sentence_embeddings, 0, 3978,  ADMITTING DIAGNOSIS: Gas...|\n",
      "| CHIEF COMPLAINT: Dysphagia and hematemesis while vomitin...|Gastroenterology|[{sentence_embeddings, 0, 6515,  CHIEF COMPLAINT: Dysphag...|\n",
      "+------------------------------------------------------------+----------------+------------------------------------------------------------+\n",
      "only showing top 2 rows"
     ]
    }
   ],
   "source": [
    "testData_with_embeddings = embeddings_pipeline.fit(testData).transform(testData)\\\n",
    "                                                  .select(\"text\",\"category\",\"sentence_embeddings\")\n",
    "testData_with_embeddings.show(2,truncate=60)"
   ]
  },
  {
   "cell_type": "code",
   "execution_count": 239,
   "metadata": {
    "execution": {
     "iopub.execute_input": "2023-09-01T06:39:17.085241Z",
     "iopub.status.busy": "2023-09-01T06:39:17.085027Z",
     "iopub.status.idle": "2023-09-01T06:39:17.146336Z",
     "shell.execute_reply": "2023-09-01T06:39:17.145642Z",
     "shell.execute_reply.started": "2023-09-01T06:39:17.085212Z"
    },
    "id": "GGIXfOlX9oaF"
   },
   "outputs": [
    {
     "data": {
      "application/vnd.jupyter.widget-view+json": {
       "model_id": "b9ae7fed1d0645d78afe8413abb53303",
       "version_major": 2,
       "version_minor": 0
      },
      "text/plain": [
       "VBox()"
      ]
     },
     "metadata": {},
     "output_type": "display_data"
    },
    {
     "data": {
      "application/vnd.jupyter.widget-view+json": {
       "model_id": "",
       "version_major": 2,
       "version_minor": 0
      },
      "text/plain": [
       "FloatProgress(value=0.0, bar_style='info', description='Progress:', layout=Layout(height='25px', width='50%'),…"
      ]
     },
     "metadata": {},
     "output_type": "display_data"
    }
   ],
   "source": [
    "log_folder=\"Mt_logs_healthcare_200d\""
   ]
  },
  {
   "cell_type": "markdown",
   "metadata": {
    "id": "5W6ac3UP9oaF"
   },
   "source": [
    "### ClassifierDL"
   ]
  },
  {
   "cell_type": "code",
   "execution_count": 240,
   "metadata": {
    "execution": {
     "iopub.execute_input": "2023-09-01T06:39:17.147482Z",
     "iopub.status.busy": "2023-09-01T06:39:17.147275Z",
     "iopub.status.idle": "2023-09-01T06:39:18.629062Z",
     "shell.execute_reply": "2023-09-01T06:39:18.601773Z",
     "shell.execute_reply.started": "2023-09-01T06:39:17.147455Z"
    },
    "id": "2z7EgX-q9oaF"
   },
   "outputs": [
    {
     "data": {
      "application/vnd.jupyter.widget-view+json": {
       "model_id": "91ed0a74881145e7b631b3bc8ebdaba2",
       "version_major": 2,
       "version_minor": 0
      },
      "text/plain": [
       "VBox()"
      ]
     },
     "metadata": {},
     "output_type": "display_data"
    },
    {
     "data": {
      "application/vnd.jupyter.widget-view+json": {
       "model_id": "",
       "version_major": 2,
       "version_minor": 0
      },
      "text/plain": [
       "FloatProgress(value=0.0, bar_style='info', description='Progress:', layout=Layout(height='25px', width='50%'),…"
      ]
     },
     "metadata": {},
     "output_type": "display_data"
    }
   ],
   "source": [
    "classifier_dl = ClassifierDLApproach()\\\n",
    "        .setInputCols([\"sentence_embeddings\"])\\\n",
    "        .setOutputCol(\"class\")\\\n",
    "        .setLabelColumn(\"category\")\\\n",
    "        .setBatchSize(32)\\\n",
    "        .setMaxEpochs(30)\\\n",
    "        .setLr(0.01)\\\n",
    "        .setDropout(0.1)\\\n",
    "        .setEnableOutputLogs(True)\\\n",
    "        .setOutputLogsPath(log_folder)\n",
    "\n",
    "classifier_dl_pipeline = Pipeline(stages=[classifier_dl])"
   ]
  },
  {
   "cell_type": "code",
   "execution_count": 241,
   "metadata": {
    "execution": {
     "iopub.execute_input": "2023-09-01T06:39:18.636989Z",
     "iopub.status.busy": "2023-09-01T06:39:18.636731Z",
     "iopub.status.idle": "2023-09-01T06:39:50.244522Z",
     "shell.execute_reply": "2023-09-01T06:39:50.243834Z",
     "shell.execute_reply.started": "2023-09-01T06:39:18.636918Z"
    },
    "id": "U0mSiCzC9oaF"
   },
   "outputs": [
    {
     "data": {
      "application/vnd.jupyter.widget-view+json": {
       "model_id": "8a0b7adc015a4310a66a6a3408c81dec",
       "version_major": 2,
       "version_minor": 0
      },
      "text/plain": [
       "VBox()"
      ]
     },
     "metadata": {},
     "output_type": "display_data"
    },
    {
     "data": {
      "application/vnd.jupyter.widget-view+json": {
       "model_id": "",
       "version_major": 2,
       "version_minor": 0
      },
      "text/plain": [
       "FloatProgress(value=0.0, bar_style='info', description='Progress:', layout=Layout(height='25px', width='50%'),…"
      ]
     },
     "metadata": {},
     "output_type": "display_data"
    }
   ],
   "source": [
    "clfDL_model_hc200 = classifier_dl_pipeline.fit(trainingData_with_embeddings)"
   ]
  },
  {
   "cell_type": "code",
   "execution_count": 242,
   "metadata": {
    "colab": {
     "base_uri": "https://localhost:8080/"
    },
    "execution": {
     "iopub.execute_input": "2023-09-01T06:39:50.246105Z",
     "iopub.status.busy": "2023-09-01T06:39:50.245870Z",
     "iopub.status.idle": "2023-09-01T06:39:57.535394Z",
     "shell.execute_reply": "2023-09-01T06:39:57.534622Z",
     "shell.execute_reply.started": "2023-09-01T06:39:50.246075Z"
    },
    "executionInfo": {
     "elapsed": 7095,
     "status": "ok",
     "timestamp": 1689692155561,
     "user": {
      "displayName": "Ahmet Mesut BİROL",
      "userId": "04340760882990254267"
     },
     "user_tz": -180
    },
    "id": "boLjiAyP9oaF",
    "outputId": "5463d63e-bc09-4472-cc7c-dc389c5d1a97"
   },
   "outputs": [
    {
     "data": {
      "application/vnd.jupyter.widget-view+json": {
       "model_id": "6e53640f06fa4631a424b2813d501206",
       "version_major": 2,
       "version_minor": 0
      },
      "text/plain": [
       "VBox()"
      ]
     },
     "metadata": {},
     "output_type": "display_data"
    },
    {
     "data": {
      "application/vnd.jupyter.widget-view+json": {
       "model_id": "",
       "version_major": 2,
       "version_minor": 0
      },
      "text/plain": [
       "FloatProgress(value=0.0, bar_style='info', description='Progress:', layout=Layout(height='25px', width='50%'),…"
      ]
     },
     "metadata": {},
     "output_type": "display_data"
    },
    {
     "name": "stdout",
     "output_type": "stream",
     "text": [
      "                  precision    recall  f1-score   support\n",
      "\n",
      "Gastroenterology       0.00      0.00      0.00        25\n",
      "       Neurology       0.00      0.00      0.00        22\n",
      "      Orthopedic       0.34      1.00      0.51        35\n",
      "         Urology       0.00      0.00      0.00        20\n",
      "\n",
      "        accuracy                           0.34       102\n",
      "       macro avg       0.09      0.25      0.13       102\n",
      "    weighted avg       0.12      0.34      0.18       102"
     ]
    }
   ],
   "source": [
    "preds = clfDL_model_hc200.transform(testData_with_embeddings)\n",
    "\n",
    "preds_df = preds.select(\"category\",\"text\",\"class.result\").toPandas()\n",
    "preds_df[\"result\"] = preds_df[\"result\"].apply(lambda x : x[0])\n",
    "\n",
    "print (classification_report(preds_df[\"category\"], preds_df[\"result\"]))"
   ]
  },
  {
   "cell_type": "code",
   "execution_count": 243,
   "metadata": {
    "execution": {
     "iopub.execute_input": "2023-09-01T06:39:57.536618Z",
     "iopub.status.busy": "2023-09-01T06:39:57.536386Z",
     "iopub.status.idle": "2023-09-01T06:39:57.590717Z",
     "shell.execute_reply": "2023-09-01T06:39:57.589978Z",
     "shell.execute_reply.started": "2023-09-01T06:39:57.536587Z"
    },
    "id": "y5pntLOjhJeR"
   },
   "outputs": [
    {
     "data": {
      "application/vnd.jupyter.widget-view+json": {
       "model_id": "4a3dcc010b05480da09de21820b8ac55",
       "version_major": 2,
       "version_minor": 0
      },
      "text/plain": [
       "VBox()"
      ]
     },
     "metadata": {},
     "output_type": "display_data"
    },
    {
     "data": {
      "application/vnd.jupyter.widget-view+json": {
       "model_id": "",
       "version_major": 2,
       "version_minor": 0
      },
      "text/plain": [
       "FloatProgress(value=0.0, bar_style='info', description='Progress:', layout=Layout(height='25px', width='50%'),…"
      ]
     },
     "metadata": {},
     "output_type": "display_data"
    }
   ],
   "source": [
    "res = classification_report(preds_df[\"category\"], preds_df[\"result\"], output_dict=True)\n",
    "results_df.loc[\"ClassifierDL_200d\"] = [res[\"macro avg\"][\"f1-score\"], res[\"weighted avg\"][\"f1-score\"], res[\"accuracy\"]]"
   ]
  },
  {
   "cell_type": "markdown",
   "metadata": {
    "id": "y_hWPzoj9oaG"
   },
   "source": [
    "### MultiClassifierDL\n",
    "\n"
   ]
  },
  {
   "cell_type": "code",
   "execution_count": 244,
   "metadata": {
    "execution": {
     "iopub.execute_input": "2023-09-01T06:39:57.591941Z",
     "iopub.status.busy": "2023-09-01T06:39:57.591710Z",
     "iopub.status.idle": "2023-09-01T06:39:57.870753Z",
     "shell.execute_reply": "2023-09-01T06:39:57.869861Z",
     "shell.execute_reply.started": "2023-09-01T06:39:57.591911Z"
    },
    "id": "mcUXN0td9oaG"
   },
   "outputs": [
    {
     "data": {
      "application/vnd.jupyter.widget-view+json": {
       "model_id": "a809d651c2eb412e8bff61db04675bdd",
       "version_major": 2,
       "version_minor": 0
      },
      "text/plain": [
       "VBox()"
      ]
     },
     "metadata": {},
     "output_type": "display_data"
    },
    {
     "data": {
      "application/vnd.jupyter.widget-view+json": {
       "model_id": "",
       "version_major": 2,
       "version_minor": 0
      },
      "text/plain": [
       "FloatProgress(value=0.0, bar_style='info', description='Progress:', layout=Layout(height='25px', width='50%'),…"
      ]
     },
     "metadata": {},
     "output_type": "display_data"
    }
   ],
   "source": [
    "# MultiClassifierDL accepts list of strings as input label. So we convert label column to array type.\n",
    "trainingData_with_embeddings = trainingData_with_embeddings.withColumn(\"category_array\", F.array(F.col(\"category\")))\n",
    "testData_with_embeddings = testData_with_embeddings.withColumn(\"category_array\", F.array(F.col(\"category\")))"
   ]
  },
  {
   "cell_type": "code",
   "execution_count": 245,
   "metadata": {
    "execution": {
     "iopub.execute_input": "2023-09-01T06:39:57.872060Z",
     "iopub.status.busy": "2023-09-01T06:39:57.871809Z",
     "iopub.status.idle": "2023-09-01T06:39:57.934704Z",
     "shell.execute_reply": "2023-09-01T06:39:57.933779Z",
     "shell.execute_reply.started": "2023-09-01T06:39:57.872028Z"
    },
    "id": "4YBVhvLL9oaG"
   },
   "outputs": [
    {
     "data": {
      "application/vnd.jupyter.widget-view+json": {
       "model_id": "0755b5fa603f40f2a9ab4a114bba1b18",
       "version_major": 2,
       "version_minor": 0
      },
      "text/plain": [
       "VBox()"
      ]
     },
     "metadata": {},
     "output_type": "display_data"
    },
    {
     "data": {
      "application/vnd.jupyter.widget-view+json": {
       "model_id": "",
       "version_major": 2,
       "version_minor": 0
      },
      "text/plain": [
       "FloatProgress(value=0.0, bar_style='info', description='Progress:', layout=Layout(height='25px', width='50%'),…"
      ]
     },
     "metadata": {},
     "output_type": "display_data"
    }
   ],
   "source": [
    "multiClassifier = MultiClassifierDLApproach()\\\n",
    "  .setInputCols(\"sentence_embeddings\")\\\n",
    "  .setOutputCol(\"prediction\")\\\n",
    "  .setLabelColumn(\"category_array\")\\\n",
    "  .setBatchSize(16)\\\n",
    "  .setMaxEpochs(20)\\\n",
    "  .setLr(9e-3)\\\n",
    "  .setThreshold(0.2)\\\n",
    "  .setShufflePerEpoch(False)\\\n",
    "  .setEnableOutputLogs(True)\\\n",
    "  .setOutputLogsPath(log_folder)\\\n",
    "#   .setValidationSplit(0.1)\n",
    "\n",
    "multiClassifier_pipeline = Pipeline(\n",
    "    stages = [\n",
    "        multiClassifier\n",
    "    ])"
   ]
  },
  {
   "cell_type": "code",
   "execution_count": 246,
   "metadata": {
    "execution": {
     "iopub.execute_input": "2023-09-01T06:39:57.936067Z",
     "iopub.status.busy": "2023-09-01T06:39:57.935775Z",
     "iopub.status.idle": "2023-09-01T06:41:13.001593Z",
     "shell.execute_reply": "2023-09-01T06:41:13.000833Z",
     "shell.execute_reply.started": "2023-09-01T06:39:57.936034Z"
    },
    "id": "ABetRCmn9oaG",
    "tags": []
   },
   "outputs": [
    {
     "data": {
      "application/vnd.jupyter.widget-view+json": {
       "model_id": "2e479174f9bb4f1599db1c8610ad0dc4",
       "version_major": 2,
       "version_minor": 0
      },
      "text/plain": [
       "VBox()"
      ]
     },
     "metadata": {},
     "output_type": "display_data"
    },
    {
     "data": {
      "application/vnd.jupyter.widget-view+json": {
       "model_id": "",
       "version_major": 2,
       "version_minor": 0
      },
      "text/plain": [
       "FloatProgress(value=0.0, bar_style='info', description='Progress:', layout=Layout(height='25px', width='50%'),…"
      ]
     },
     "metadata": {},
     "output_type": "display_data"
    }
   ],
   "source": [
    "multiClassifier_model_hc200 = multiClassifier_pipeline.fit(trainingData_with_embeddings)"
   ]
  },
  {
   "cell_type": "code",
   "execution_count": 247,
   "metadata": {
    "execution": {
     "iopub.execute_input": "2023-09-01T06:41:13.002769Z",
     "iopub.status.busy": "2023-09-01T06:41:13.002554Z",
     "iopub.status.idle": "2023-09-01T06:41:13.262818Z",
     "shell.execute_reply": "2023-09-01T06:41:13.261967Z",
     "shell.execute_reply.started": "2023-09-01T06:41:13.002739Z"
    },
    "id": "EdZbqqEk9oaG"
   },
   "outputs": [
    {
     "data": {
      "application/vnd.jupyter.widget-view+json": {
       "model_id": "bda3cee03cb743f7a0d6a41f080de1b4",
       "version_major": 2,
       "version_minor": 0
      },
      "text/plain": [
       "VBox()"
      ]
     },
     "metadata": {},
     "output_type": "display_data"
    },
    {
     "data": {
      "application/vnd.jupyter.widget-view+json": {
       "model_id": "",
       "version_major": 2,
       "version_minor": 0
      },
      "text/plain": [
       "FloatProgress(value=0.0, bar_style='info', description='Progress:', layout=Layout(height='25px', width='50%'),…"
      ]
     },
     "metadata": {},
     "output_type": "display_data"
    }
   ],
   "source": [
    "preds = multiClassifier_model_hc200.transform(testData_with_embeddings)"
   ]
  },
  {
   "cell_type": "code",
   "execution_count": 248,
   "metadata": {
    "colab": {
     "base_uri": "https://localhost:8080/"
    },
    "execution": {
     "iopub.execute_input": "2023-09-01T06:41:13.264019Z",
     "iopub.status.busy": "2023-09-01T06:41:13.263806Z",
     "iopub.status.idle": "2023-09-01T06:41:35.103028Z",
     "shell.execute_reply": "2023-09-01T06:41:35.102282Z",
     "shell.execute_reply.started": "2023-09-01T06:41:13.263990Z"
    },
    "executionInfo": {
     "elapsed": 20712,
     "status": "ok",
     "timestamp": 1689692255012,
     "user": {
      "displayName": "Ahmet Mesut BİROL",
      "userId": "04340760882990254267"
     },
     "user_tz": -180
    },
    "id": "lY4vVTH29oaG",
    "outputId": "569702b9-2d34-42eb-e338-39e7fecaeed5"
   },
   "outputs": [
    {
     "data": {
      "application/vnd.jupyter.widget-view+json": {
       "model_id": "9976f1f0af8243c2bdc1c6c6615dc766",
       "version_major": 2,
       "version_minor": 0
      },
      "text/plain": [
       "VBox()"
      ]
     },
     "metadata": {},
     "output_type": "display_data"
    },
    {
     "data": {
      "application/vnd.jupyter.widget-view+json": {
       "model_id": "",
       "version_major": 2,
       "version_minor": 0
      },
      "text/plain": [
       "FloatProgress(value=0.0, bar_style='info', description='Progress:', layout=Layout(height='25px', width='50%'),…"
      ]
     },
     "metadata": {},
     "output_type": "display_data"
    },
    {
     "name": "stdout",
     "output_type": "stream",
     "text": [
      "['Orthopedic']                        32\n",
      "['Gastroenterology']                  19\n",
      "['Urology']                           17\n",
      "['Neurology']                         15\n",
      "['Orthopedic', 'Neurology']            8\n",
      "['Orthopedic', 'Gastroenterology']     4\n",
      "[]                                     4\n",
      "['Urology', 'Gastroenterology']        2\n",
      "['Urology', 'Orthopedic']              1\n",
      "Name: result, dtype: int64"
     ]
    }
   ],
   "source": [
    "preds_df = preds.select(\"category\",\"text\",\"prediction.result\",\"prediction.metadata\").toPandas()\n",
    "preds_df.result.apply(lambda x: str(x) ).value_counts()"
   ]
  },
  {
   "cell_type": "code",
   "execution_count": 249,
   "metadata": {
    "colab": {
     "base_uri": "https://localhost:8080/"
    },
    "execution": {
     "iopub.execute_input": "2023-09-01T06:41:35.104325Z",
     "iopub.status.busy": "2023-09-01T06:41:35.104099Z",
     "iopub.status.idle": "2023-09-01T06:41:35.168935Z",
     "shell.execute_reply": "2023-09-01T06:41:35.167946Z",
     "shell.execute_reply.started": "2023-09-01T06:41:35.104293Z"
    },
    "executionInfo": {
     "elapsed": 54,
     "status": "ok",
     "timestamp": 1689692255013,
     "user": {
      "displayName": "Ahmet Mesut BİROL",
      "userId": "04340760882990254267"
     },
     "user_tz": -180
    },
    "id": "DOKLfZR59oaH",
    "outputId": "31ca0a29-de89-4592-bf8c-c5ae917bf352"
   },
   "outputs": [
    {
     "data": {
      "application/vnd.jupyter.widget-view+json": {
       "model_id": "b765009a2e844a30a742d52320c4d984",
       "version_major": 2,
       "version_minor": 0
      },
      "text/plain": [
       "VBox()"
      ]
     },
     "metadata": {},
     "output_type": "display_data"
    },
    {
     "data": {
      "application/vnd.jupyter.widget-view+json": {
       "model_id": "",
       "version_major": 2,
       "version_minor": 0
      },
      "text/plain": [
       "FloatProgress(value=0.0, bar_style='info', description='Progress:', layout=Layout(height='25px', width='50%'),…"
      ]
     },
     "metadata": {},
     "output_type": "display_data"
    },
    {
     "name": "stdout",
     "output_type": "stream",
     "text": [
      "Orthopedic          38\n",
      "Gastroenterology    22\n",
      "Urology             20\n",
      "Neurology           18\n",
      "Name: result, dtype: int64"
     ]
    }
   ],
   "source": [
    "# We will get the highest score label as result. you can control the number of zero label results with setThreshold() in the training.\n",
    "preds_df[\"scores\"] = preds_df.metadata.apply(lambda x: {k:float(v) for k,v in x[0].items()} if len(x)>=1 else \"\")\n",
    "preds_df[\"result\"] = preds_df.scores.apply(lambda x: max(x, key=x.get) if len(x)>=1 else \"\")\n",
    "preds_df = preds_df[(preds_df[\"result\"]!=\"\")]\n",
    "preds_df[\"result\"].value_counts()"
   ]
  },
  {
   "cell_type": "code",
   "execution_count": 250,
   "metadata": {
    "colab": {
     "base_uri": "https://localhost:8080/"
    },
    "execution": {
     "iopub.execute_input": "2023-09-01T06:41:35.170317Z",
     "iopub.status.busy": "2023-09-01T06:41:35.170005Z",
     "iopub.status.idle": "2023-09-01T06:41:35.402109Z",
     "shell.execute_reply": "2023-09-01T06:41:35.401388Z",
     "shell.execute_reply.started": "2023-09-01T06:41:35.170268Z"
    },
    "executionInfo": {
     "elapsed": 36,
     "status": "ok",
     "timestamp": 1689692255013,
     "user": {
      "displayName": "Ahmet Mesut BİROL",
      "userId": "04340760882990254267"
     },
     "user_tz": -180
    },
    "id": "2E9ibEbQ9oaH",
    "outputId": "d346f969-477e-496c-d233-eb01e876b27c"
   },
   "outputs": [
    {
     "data": {
      "application/vnd.jupyter.widget-view+json": {
       "model_id": "e9114eb0e0e84c0288645a439092d16e",
       "version_major": 2,
       "version_minor": 0
      },
      "text/plain": [
       "VBox()"
      ]
     },
     "metadata": {},
     "output_type": "display_data"
    },
    {
     "data": {
      "application/vnd.jupyter.widget-view+json": {
       "model_id": "",
       "version_major": 2,
       "version_minor": 0
      },
      "text/plain": [
       "FloatProgress(value=0.0, bar_style='info', description='Progress:', layout=Layout(height='25px', width='50%'),…"
      ]
     },
     "metadata": {},
     "output_type": "display_data"
    },
    {
     "name": "stdout",
     "output_type": "stream",
     "text": [
      "                  precision    recall  f1-score   support\n",
      "\n",
      "Gastroenterology       1.00      0.92      0.96        24\n",
      "       Neurology       0.89      0.80      0.84        20\n",
      "      Orthopedic       0.87      0.94      0.90        35\n",
      "         Urology       0.90      0.95      0.92        19\n",
      "\n",
      "        accuracy                           0.91        98\n",
      "       macro avg       0.91      0.90      0.91        98\n",
      "    weighted avg       0.91      0.91      0.91        98"
     ]
    }
   ],
   "source": [
    "print (classification_report(preds_df[\"category\"], preds_df[\"result\"]))"
   ]
  },
  {
   "cell_type": "code",
   "execution_count": 251,
   "metadata": {
    "execution": {
     "iopub.execute_input": "2023-09-01T06:41:35.403324Z",
     "iopub.status.busy": "2023-09-01T06:41:35.403084Z",
     "iopub.status.idle": "2023-09-01T06:41:35.462414Z",
     "shell.execute_reply": "2023-09-01T06:41:35.461675Z",
     "shell.execute_reply.started": "2023-09-01T06:41:35.403295Z"
    },
    "id": "q_CLW7TEgsdY"
   },
   "outputs": [
    {
     "data": {
      "application/vnd.jupyter.widget-view+json": {
       "model_id": "f0effe4202844c0d881189c9690472d2",
       "version_major": 2,
       "version_minor": 0
      },
      "text/plain": [
       "VBox()"
      ]
     },
     "metadata": {},
     "output_type": "display_data"
    },
    {
     "data": {
      "application/vnd.jupyter.widget-view+json": {
       "model_id": "",
       "version_major": 2,
       "version_minor": 0
      },
      "text/plain": [
       "FloatProgress(value=0.0, bar_style='info', description='Progress:', layout=Layout(height='25px', width='50%'),…"
      ]
     },
     "metadata": {},
     "output_type": "display_data"
    }
   ],
   "source": [
    "res = classification_report(preds_df[\"category\"], preds_df[\"result\"], output_dict=True)\n",
    "results_df.loc[\"MultiClassifierDL_200d\"] = [res[\"macro avg\"][\"f1-score\"], res[\"weighted avg\"][\"f1-score\"], res[\"accuracy\"]]"
   ]
  },
  {
   "cell_type": "markdown",
   "metadata": {
    "id": "7gUOXo5W9oaH"
   },
   "source": [
    "### Generic Classifier"
   ]
  },
  {
   "cell_type": "code",
   "execution_count": 252,
   "metadata": {
    "execution": {
     "iopub.execute_input": "2023-09-01T06:41:35.463570Z",
     "iopub.status.busy": "2023-09-01T06:41:35.463348Z",
     "iopub.status.idle": "2023-09-01T06:41:35.517472Z",
     "shell.execute_reply": "2023-09-01T06:41:35.516626Z",
     "shell.execute_reply.started": "2023-09-01T06:41:35.463539Z"
    },
    "id": "YaFaVvVg9oaH"
   },
   "outputs": [
    {
     "data": {
      "application/vnd.jupyter.widget-view+json": {
       "model_id": "dc79bbcfa81d4ead8ebdd948452d3945",
       "version_major": 2,
       "version_minor": 0
      },
      "text/plain": [
       "VBox()"
      ]
     },
     "metadata": {},
     "output_type": "display_data"
    },
    {
     "data": {
      "application/vnd.jupyter.widget-view+json": {
       "model_id": "",
       "version_major": 2,
       "version_minor": 0
      },
      "text/plain": [
       "FloatProgress(value=0.0, bar_style='info', description='Progress:', layout=Layout(height='25px', width='50%'),…"
      ]
     },
     "metadata": {},
     "output_type": "display_data"
    }
   ],
   "source": [
    "# !pip install -q tensorflow==2.7.0 tensorflow_addons"
   ]
  },
  {
   "cell_type": "code",
   "execution_count": 253,
   "metadata": {
    "execution": {
     "iopub.execute_input": "2023-09-01T06:41:35.518649Z",
     "iopub.status.busy": "2023-09-01T06:41:35.518432Z",
     "iopub.status.idle": "2023-09-01T06:41:35.580362Z",
     "shell.execute_reply": "2023-09-01T06:41:35.579187Z",
     "shell.execute_reply.started": "2023-09-01T06:41:35.518619Z"
    },
    "id": "sRkEeD1N9oaH"
   },
   "outputs": [
    {
     "data": {
      "application/vnd.jupyter.widget-view+json": {
       "model_id": "b201f91cba174429972e4a0ae8f78bf2",
       "version_major": 2,
       "version_minor": 0
      },
      "text/plain": [
       "VBox()"
      ]
     },
     "metadata": {},
     "output_type": "display_data"
    },
    {
     "data": {
      "application/vnd.jupyter.widget-view+json": {
       "model_id": "",
       "version_major": 2,
       "version_minor": 0
      },
      "text/plain": [
       "FloatProgress(value=0.0, bar_style='info', description='Progress:', layout=Layout(height='25px', width='50%'),…"
      ]
     },
     "metadata": {},
     "output_type": "display_data"
    }
   ],
   "source": [
    "from sparknlp_jsl.annotator import TFGraphBuilder\n",
    "\n",
    "graph_folder = \"gc_graph\"\n",
    "\n",
    "gc_graph_builder = TFGraphBuilder()\\\n",
    "    .setModelName(\"generic_classifier\")\\\n",
    "    .setInputCols([\"features\"])\\\n",
    "    .setLabelColumn(\"category\")\\\n",
    "    .setHiddenLayers([300,200, 50])\\\n",
    "    .setHiddenAct(\"tanh\")\\\n",
    "    .setHiddenActL2(True)\\\n",
    "    .setBatchNorm(True)\\\n",
    "    .setGraphFolder(graph_folder)\\\n",
    "    .setGraphFile(\"gcf_graph_200d.pb\")"
   ]
  },
  {
   "cell_type": "code",
   "execution_count": 254,
   "metadata": {
    "execution": {
     "iopub.execute_input": "2023-09-01T06:41:35.581592Z",
     "iopub.status.busy": "2023-09-01T06:41:35.581365Z",
     "iopub.status.idle": "2023-09-01T06:41:36.324645Z",
     "shell.execute_reply": "2023-09-01T06:41:36.323920Z",
     "shell.execute_reply.started": "2023-09-01T06:41:35.581562Z"
    },
    "id": "NhVTwRJP9oaH"
   },
   "outputs": [
    {
     "data": {
      "application/vnd.jupyter.widget-view+json": {
       "model_id": "034475fd77eb460489de19f9d46ebb0c",
       "version_major": 2,
       "version_minor": 0
      },
      "text/plain": [
       "VBox()"
      ]
     },
     "metadata": {},
     "output_type": "display_data"
    },
    {
     "data": {
      "application/vnd.jupyter.widget-view+json": {
       "model_id": "",
       "version_major": 2,
       "version_minor": 0
      },
      "text/plain": [
       "FloatProgress(value=0.0, bar_style='info', description='Progress:', layout=Layout(height='25px', width='50%'),…"
      ]
     },
     "metadata": {},
     "output_type": "display_data"
    }
   ],
   "source": [
    "features_asm = FeaturesAssembler()\\\n",
    "    .setInputCols([\"sentence_embeddings\"])\\\n",
    "    .setOutputCol(\"features\")\n",
    "\n",
    "gen_clf = GenericClassifierApproach()\\\n",
    "    .setLabelColumn(\"category\")\\\n",
    "    .setInputCols(\"features\")\\\n",
    "    .setOutputCol(\"prediction\")\\\n",
    "    .setModelFile(f\"{graph_folder}/gcf_graph_200d.pb\")\\\n",
    "    .setEpochsNumber(30)\\\n",
    "    .setBatchSize(32)\\\n",
    "    .setLearningRate(0.001)\\\n",
    "    .setOutputLogsPath(log_folder)\\\n",
    "    .setDropout(0.3)\\\n",
    "    .setFixImbalance(True)\\\n",
    "    # .setValidationSplit(0.1)\n",
    "\n",
    "clf_Pipeline = Pipeline(stages=[\n",
    "    features_asm,\n",
    "    gc_graph_builder,\n",
    "    gen_clf])\n"
   ]
  },
  {
   "cell_type": "code",
   "execution_count": 255,
   "metadata": {
    "colab": {
     "base_uri": "https://localhost:8080/"
    },
    "execution": {
     "iopub.execute_input": "2023-09-01T06:41:36.325816Z",
     "iopub.status.busy": "2023-09-01T06:41:36.325594Z",
     "iopub.status.idle": "2023-09-01T06:41:55.664457Z",
     "shell.execute_reply": "2023-09-01T06:41:55.663501Z",
     "shell.execute_reply.started": "2023-09-01T06:41:36.325786Z"
    },
    "executionInfo": {
     "elapsed": 16990,
     "status": "ok",
     "timestamp": 1689692271984,
     "user": {
      "displayName": "Ahmet Mesut BİROL",
      "userId": "04340760882990254267"
     },
     "user_tz": -180
    },
    "id": "98tT6yJQ9oaH",
    "outputId": "19c7a308-7129-44d0-8d6d-ac26d05d35ef",
    "tags": []
   },
   "outputs": [
    {
     "data": {
      "application/vnd.jupyter.widget-view+json": {
       "model_id": "7c2c9a6319c74764b30ae66337004519",
       "version_major": 2,
       "version_minor": 0
      },
      "text/plain": [
       "VBox()"
      ]
     },
     "metadata": {},
     "output_type": "display_data"
    },
    {
     "data": {
      "application/vnd.jupyter.widget-view+json": {
       "model_id": "",
       "version_major": 2,
       "version_minor": 0
      },
      "text/plain": [
       "FloatProgress(value=0.0, bar_style='info', description='Progress:', layout=Layout(height='25px', width='50%'),…"
      ]
     },
     "metadata": {},
     "output_type": "display_data"
    },
    {
     "name": "stdout",
     "output_type": "stream",
     "text": [
      "TF Graph Builder configuration:\n",
      "Model name: generic_classifier\n",
      "Graph folder: gc_graph\n",
      "Graph file name: gcf_graph_200d.pb\n",
      "Build params: {'input_dim': 200, 'output_dim': 4, 'hidden_layers': [300, 200, 50], 'hidden_act': 'tanh', 'hidden_act_l2': True, 'batch_norm': True}\n",
      "generic_classifier graph exported to gc_graph/gcf_graph_200d.pb"
     ]
    }
   ],
   "source": [
    "generic_model_hc200 = clf_Pipeline.fit(trainingData_with_embeddings)"
   ]
  },
  {
   "cell_type": "code",
   "execution_count": 256,
   "metadata": {
    "colab": {
     "base_uri": "https://localhost:8080/"
    },
    "execution": {
     "iopub.execute_input": "2023-09-01T06:41:55.666302Z",
     "iopub.status.busy": "2023-09-01T06:41:55.665970Z",
     "iopub.status.idle": "2023-09-01T06:42:02.957495Z",
     "shell.execute_reply": "2023-09-01T06:42:02.956684Z",
     "shell.execute_reply.started": "2023-09-01T06:41:55.666254Z"
    },
    "executionInfo": {
     "elapsed": 6973,
     "status": "ok",
     "timestamp": 1689692278927,
     "user": {
      "displayName": "Ahmet Mesut BİROL",
      "userId": "04340760882990254267"
     },
     "user_tz": -180
    },
    "id": "hsId-8YF9oaI",
    "outputId": "4c675d30-fbef-4e54-f440-9e81137ff1eb"
   },
   "outputs": [
    {
     "data": {
      "application/vnd.jupyter.widget-view+json": {
       "model_id": "d00597564d8444c8971945495ab9b138",
       "version_major": 2,
       "version_minor": 0
      },
      "text/plain": [
       "VBox()"
      ]
     },
     "metadata": {},
     "output_type": "display_data"
    },
    {
     "data": {
      "application/vnd.jupyter.widget-view+json": {
       "model_id": "",
       "version_major": 2,
       "version_minor": 0
      },
      "text/plain": [
       "FloatProgress(value=0.0, bar_style='info', description='Progress:', layout=Layout(height='25px', width='50%'),…"
      ]
     },
     "metadata": {},
     "output_type": "display_data"
    },
    {
     "name": "stdout",
     "output_type": "stream",
     "text": [
      "                  precision    recall  f1-score   support\n",
      "\n",
      "Gastroenterology       0.91      0.84      0.87        25\n",
      "       Neurology       0.88      0.68      0.77        22\n",
      "      Orthopedic       0.87      0.94      0.90        35\n",
      "         Urology       0.79      0.95      0.86        20\n",
      "\n",
      "        accuracy                           0.86       102\n",
      "       macro avg       0.86      0.85      0.85       102\n",
      "    weighted avg       0.87      0.86      0.86       102"
     ]
    }
   ],
   "source": [
    "pred_df = generic_model_hc200.transform(testData_with_embeddings)\n",
    "\n",
    "preds_df = pred_df.select('category','prediction.result').toPandas()\n",
    "preds_df['result'] = preds_df.result.apply(lambda x : x[0])\n",
    "\n",
    "print (classification_report(preds_df['category'], preds_df['result']))"
   ]
  },
  {
   "cell_type": "code",
   "execution_count": 257,
   "metadata": {
    "execution": {
     "iopub.execute_input": "2023-09-01T06:42:02.958647Z",
     "iopub.status.busy": "2023-09-01T06:42:02.958435Z",
     "iopub.status.idle": "2023-09-01T06:42:03.021584Z",
     "shell.execute_reply": "2023-09-01T06:42:03.020771Z",
     "shell.execute_reply.started": "2023-09-01T06:42:02.958618Z"
    },
    "id": "uCYwGW_dXRLw"
   },
   "outputs": [
    {
     "data": {
      "application/vnd.jupyter.widget-view+json": {
       "model_id": "f3dd1c30ad844818b9270d2bd8663aa1",
       "version_major": 2,
       "version_minor": 0
      },
      "text/plain": [
       "VBox()"
      ]
     },
     "metadata": {},
     "output_type": "display_data"
    },
    {
     "data": {
      "application/vnd.jupyter.widget-view+json": {
       "model_id": "",
       "version_major": 2,
       "version_minor": 0
      },
      "text/plain": [
       "FloatProgress(value=0.0, bar_style='info', description='Progress:', layout=Layout(height='25px', width='50%'),…"
      ]
     },
     "metadata": {},
     "output_type": "display_data"
    }
   ],
   "source": [
    "res = classification_report(preds_df[\"category\"], preds_df[\"result\"], output_dict=True)\n",
    "results_df.loc[\"GenericClassifier_200d\"] = [res[\"macro avg\"][\"f1-score\"], res[\"weighted avg\"][\"f1-score\"], res[\"accuracy\"]]"
   ]
  },
  {
   "cell_type": "markdown",
   "metadata": {
    "id": "yz9TOU2DXReN"
   },
   "source": [
    "### GenericLogRegClassifier"
   ]
  },
  {
   "cell_type": "code",
   "execution_count": 258,
   "metadata": {
    "execution": {
     "iopub.execute_input": "2023-09-01T06:42:03.023013Z",
     "iopub.status.busy": "2023-09-01T06:42:03.022796Z",
     "iopub.status.idle": "2023-09-01T06:42:03.079808Z",
     "shell.execute_reply": "2023-09-01T06:42:03.079091Z",
     "shell.execute_reply.started": "2023-09-01T06:42:03.022984Z"
    },
    "id": "w-_bSCH6XReN"
   },
   "outputs": [
    {
     "data": {
      "application/vnd.jupyter.widget-view+json": {
       "model_id": "057f5b746d4d416fbdd5a4dfd4b9768e",
       "version_major": 2,
       "version_minor": 0
      },
      "text/plain": [
       "VBox()"
      ]
     },
     "metadata": {},
     "output_type": "display_data"
    },
    {
     "data": {
      "application/vnd.jupyter.widget-view+json": {
       "model_id": "",
       "version_major": 2,
       "version_minor": 0
      },
      "text/plain": [
       "FloatProgress(value=0.0, bar_style='info', description='Progress:', layout=Layout(height='25px', width='50%'),…"
      ]
     },
     "metadata": {},
     "output_type": "display_data"
    }
   ],
   "source": [
    "from sparknlp_jsl.annotator import TFGraphBuilder\n",
    "\n",
    "graph_folder = \"gc_graph\"\n",
    "\n",
    "gc_logreg_graph_builder = TFGraphBuilder()\\\n",
    "    .setModelName(\"logreg_classifier\")\\\n",
    "    .setInputCols([\"feature_vector\"]) \\\n",
    "    .setLabelColumn(\"category\")\\\n",
    "    .setGraphFolder(graph_folder)\\\n",
    "    .setGraphFile(\"log_reg_graph.pb\")"
   ]
  },
  {
   "cell_type": "markdown",
   "metadata": {
    "id": "e2JtY0P5XReN"
   },
   "source": [
    "GenericLogRegClassifier needs outputs from FeaturesAssembler. The FeaturesAssembler is used to collect features from different columns or an embeddings column.\n",
    "\n",
    "The GenericLogRegClassifier takes FEATURE_VECTOR annotations as input, classifies them and outputs CATEGORY annotations."
   ]
  },
  {
   "cell_type": "code",
   "execution_count": 259,
   "metadata": {
    "execution": {
     "iopub.execute_input": "2023-09-01T06:42:03.081125Z",
     "iopub.status.busy": "2023-09-01T06:42:03.080850Z",
     "iopub.status.idle": "2023-09-01T06:42:03.140310Z",
     "shell.execute_reply": "2023-09-01T06:42:03.139383Z",
     "shell.execute_reply.started": "2023-09-01T06:42:03.081093Z"
    },
    "id": "baz581gzXReN"
   },
   "outputs": [
    {
     "data": {
      "application/vnd.jupyter.widget-view+json": {
       "model_id": "e9193c2977054ae69a101a50b3816ee8",
       "version_major": 2,
       "version_minor": 0
      },
      "text/plain": [
       "VBox()"
      ]
     },
     "metadata": {},
     "output_type": "display_data"
    },
    {
     "data": {
      "application/vnd.jupyter.widget-view+json": {
       "model_id": "",
       "version_major": 2,
       "version_minor": 0
      },
      "text/plain": [
       "FloatProgress(value=0.0, bar_style='info', description='Progress:', layout=Layout(height='25px', width='50%'),…"
      ]
     },
     "metadata": {},
     "output_type": "display_data"
    }
   ],
   "source": [
    "features_asm = FeaturesAssembler()\\\n",
    "    .setInputCols([\"sentence_embeddings\"])\\\n",
    "    .setOutputCol(\"feature_vector\")\n",
    "\n",
    "gen_clf = GenericLogRegClassifierApproach()\\\n",
    "    .setLabelColumn(\"category\")\\\n",
    "    .setInputCols(\"feature_vector\")\\\n",
    "    .setOutputCol(\"prediction\")\\\n",
    "    .setModelFile(f\"{graph_folder}/log_reg_graph.pb\")\\\n",
    "    .setEpochsNumber(45)\\\n",
    "    .setBatchSize(32)\\\n",
    "    .setLearningRate(0.02)\\\n",
    "    .setOutputLogsPath(log_folder)\\\n",
    "    .setDropout(0.1)\\\n",
    "    .setFixImbalance(True)\\\n",
    "    # .setValidationSplit(0.1)\n",
    "\n",
    "clf_Pipeline = Pipeline(stages=[\n",
    "    features_asm,\n",
    "    gc_logreg_graph_builder,\n",
    "    gen_clf])\n"
   ]
  },
  {
   "cell_type": "code",
   "execution_count": 260,
   "metadata": {
    "colab": {
     "base_uri": "https://localhost:8080/"
    },
    "execution": {
     "iopub.execute_input": "2023-09-01T06:42:03.141708Z",
     "iopub.status.busy": "2023-09-01T06:42:03.141469Z",
     "iopub.status.idle": "2023-09-01T06:42:20.466702Z",
     "shell.execute_reply": "2023-09-01T06:42:20.465967Z",
     "shell.execute_reply.started": "2023-09-01T06:42:03.141676Z"
    },
    "executionInfo": {
     "elapsed": 15182,
     "status": "ok",
     "timestamp": 1689692294094,
     "user": {
      "displayName": "Ahmet Mesut BİROL",
      "userId": "04340760882990254267"
     },
     "user_tz": -180
    },
    "id": "jVoRHwNmXReO",
    "outputId": "d275f728-dc6c-48cc-ad46-10a96d3311fb"
   },
   "outputs": [
    {
     "data": {
      "application/vnd.jupyter.widget-view+json": {
       "model_id": "945dfca7ea6b473faca9fd4acbbad7f3",
       "version_major": 2,
       "version_minor": 0
      },
      "text/plain": [
       "VBox()"
      ]
     },
     "metadata": {},
     "output_type": "display_data"
    },
    {
     "data": {
      "application/vnd.jupyter.widget-view+json": {
       "model_id": "",
       "version_major": 2,
       "version_minor": 0
      },
      "text/plain": [
       "FloatProgress(value=0.0, bar_style='info', description='Progress:', layout=Layout(height='25px', width='50%'),…"
      ]
     },
     "metadata": {},
     "output_type": "display_data"
    },
    {
     "name": "stdout",
     "output_type": "stream",
     "text": [
      "TF Graph Builder configuration:\n",
      "Model name: logreg_classifier\n",
      "Graph folder: gc_graph\n",
      "Graph file name: log_reg_graph.pb\n",
      "Build params: {'input_dim': 200, 'output_dim': 4, 'hidden_layers': [], 'output_act': 'sigmoid'}\n",
      "logreg_classifier graph exported to gc_graph/log_reg_graph.pb"
     ]
    }
   ],
   "source": [
    "generic_model_hc200 = clf_Pipeline.fit(trainingData_with_embeddings)"
   ]
  },
  {
   "cell_type": "code",
   "execution_count": 261,
   "metadata": {
    "execution": {
     "iopub.execute_input": "2023-09-01T06:42:20.467924Z",
     "iopub.status.busy": "2023-09-01T06:42:20.467700Z",
     "iopub.status.idle": "2023-09-01T06:42:23.744952Z",
     "shell.execute_reply": "2023-09-01T06:42:23.744016Z",
     "shell.execute_reply.started": "2023-09-01T06:42:20.467893Z"
    },
    "id": "uHg_HbimXReO"
   },
   "outputs": [
    {
     "data": {
      "application/vnd.jupyter.widget-view+json": {
       "model_id": "ba9590e5929e4d06b813ecebb7e15f83",
       "version_major": 2,
       "version_minor": 0
      },
      "text/plain": [
       "VBox()"
      ]
     },
     "metadata": {},
     "output_type": "display_data"
    },
    {
     "data": {
      "application/vnd.jupyter.widget-view+json": {
       "model_id": "",
       "version_major": 2,
       "version_minor": 0
      },
      "text/plain": [
       "FloatProgress(value=0.0, bar_style='info', description='Progress:', layout=Layout(height='25px', width='50%'),…"
      ]
     },
     "metadata": {},
     "output_type": "display_data"
    }
   ],
   "source": [
    "pred_df = generic_model_hc200.transform(testData_with_embeddings)"
   ]
  },
  {
   "cell_type": "code",
   "execution_count": 262,
   "metadata": {
    "colab": {
     "base_uri": "https://localhost:8080/"
    },
    "execution": {
     "iopub.execute_input": "2023-09-01T06:42:23.746247Z",
     "iopub.status.busy": "2023-09-01T06:42:23.746031Z",
     "iopub.status.idle": "2023-09-01T06:42:27.564857Z",
     "shell.execute_reply": "2023-09-01T06:42:27.564139Z",
     "shell.execute_reply.started": "2023-09-01T06:42:23.746217Z"
    },
    "executionInfo": {
     "elapsed": 3652,
     "status": "ok",
     "timestamp": 1689692301044,
     "user": {
      "displayName": "Ahmet Mesut BİROL",
      "userId": "04340760882990254267"
     },
     "user_tz": -180
    },
    "id": "NjByOpYPXReO",
    "outputId": "2f1b4e4c-5eba-41c9-e7a5-a9c67f1ac07c"
   },
   "outputs": [
    {
     "data": {
      "application/vnd.jupyter.widget-view+json": {
       "model_id": "09530f5ed5f046fca292905f48f10c89",
       "version_major": 2,
       "version_minor": 0
      },
      "text/plain": [
       "VBox()"
      ]
     },
     "metadata": {},
     "output_type": "display_data"
    },
    {
     "data": {
      "application/vnd.jupyter.widget-view+json": {
       "model_id": "",
       "version_major": 2,
       "version_minor": 0
      },
      "text/plain": [
       "FloatProgress(value=0.0, bar_style='info', description='Progress:', layout=Layout(height='25px', width='50%'),…"
      ]
     },
     "metadata": {},
     "output_type": "display_data"
    },
    {
     "name": "stdout",
     "output_type": "stream",
     "text": [
      "                  precision    recall  f1-score   support\n",
      "\n",
      "Gastroenterology       0.84      0.84      0.84        25\n",
      "       Neurology       0.89      0.73      0.80        22\n",
      "      Orthopedic       0.85      0.94      0.89        35\n",
      "         Urology       0.80      0.80      0.80        20\n",
      "\n",
      "        accuracy                           0.84       102\n",
      "       macro avg       0.84      0.83      0.83       102\n",
      "    weighted avg       0.84      0.84      0.84       102"
     ]
    }
   ],
   "source": [
    "preds_df = pred_df.select('category','prediction.result').toPandas()\n",
    "preds_df['result'] = preds_df.result.apply(lambda x : x[0])\n",
    "\n",
    "print (classification_report(preds_df['category'], preds_df['result']))"
   ]
  },
  {
   "cell_type": "code",
   "execution_count": 263,
   "metadata": {
    "execution": {
     "iopub.execute_input": "2023-09-01T06:42:27.566114Z",
     "iopub.status.busy": "2023-09-01T06:42:27.565895Z",
     "iopub.status.idle": "2023-09-01T06:42:27.630619Z",
     "shell.execute_reply": "2023-09-01T06:42:27.629761Z",
     "shell.execute_reply.started": "2023-09-01T06:42:27.566084Z"
    },
    "id": "OUojeuvOifoJ"
   },
   "outputs": [
    {
     "data": {
      "application/vnd.jupyter.widget-view+json": {
       "model_id": "c04a2059953b43d58f8d7ce6eab9b238",
       "version_major": 2,
       "version_minor": 0
      },
      "text/plain": [
       "VBox()"
      ]
     },
     "metadata": {},
     "output_type": "display_data"
    },
    {
     "data": {
      "application/vnd.jupyter.widget-view+json": {
       "model_id": "",
       "version_major": 2,
       "version_minor": 0
      },
      "text/plain": [
       "FloatProgress(value=0.0, bar_style='info', description='Progress:', layout=Layout(height='25px', width='50%'),…"
      ]
     },
     "metadata": {},
     "output_type": "display_data"
    }
   ],
   "source": [
    "res = classification_report(preds_df[\"category\"], preds_df[\"result\"], output_dict=True)\n",
    "results_df.loc[\"GenericLogReg_200d\"] = [res[\"macro avg\"][\"f1-score\"], res[\"weighted avg\"][\"f1-score\"], res[\"accuracy\"]]"
   ]
  },
  {
   "cell_type": "markdown",
   "metadata": {
    "id": "1lkESKp6XaCP"
   },
   "source": [
    "### GenericSVMClassifier"
   ]
  },
  {
   "cell_type": "code",
   "execution_count": 264,
   "metadata": {
    "execution": {
     "iopub.execute_input": "2023-09-01T06:42:27.631809Z",
     "iopub.status.busy": "2023-09-01T06:42:27.631583Z",
     "iopub.status.idle": "2023-09-01T06:42:28.006463Z",
     "shell.execute_reply": "2023-09-01T06:42:28.005735Z",
     "shell.execute_reply.started": "2023-09-01T06:42:27.631779Z"
    },
    "id": "gs_iLR10XaCP",
    "tags": []
   },
   "outputs": [
    {
     "data": {
      "application/vnd.jupyter.widget-view+json": {
       "model_id": "9b81ffe090ea452dabf45e962fdfd17b",
       "version_major": 2,
       "version_minor": 0
      },
      "text/plain": [
       "VBox()"
      ]
     },
     "metadata": {},
     "output_type": "display_data"
    },
    {
     "data": {
      "application/vnd.jupyter.widget-view+json": {
       "model_id": "",
       "version_major": 2,
       "version_minor": 0
      },
      "text/plain": [
       "FloatProgress(value=0.0, bar_style='info', description='Progress:', layout=Layout(height='25px', width='50%'),…"
      ]
     },
     "metadata": {},
     "output_type": "display_data"
    }
   ],
   "source": [
    "from sparknlp_jsl.annotator import TFGraphBuilder\n",
    "\n",
    "graph_folder = \"gc_graph\"\n",
    "\n",
    "gc_svm_graph_builder = TFGraphBuilder()\\\n",
    "    .setModelName(\"svm_classifier\")\\\n",
    "    .setInputCols([\"feature_vector\"]) \\\n",
    "    .setLabelColumn(\"category\")\\\n",
    "    .setGraphFolder(graph_folder)\\\n",
    "    .setGraphFile(\"svm_graph.pb\")"
   ]
  },
  {
   "cell_type": "markdown",
   "metadata": {
    "id": "EMVMo7DKXaCP"
   },
   "source": [
    "GenericSVMClassifier needs outputs from FeaturesAssembler. The FeaturesAssembler is used to collect features from different columns or an embeddings column.\n",
    "\n",
    "The GenericSVMClassifier takes FEATURE_VECTOR annotations as input, classifies them and outputs CATEGORY annotations."
   ]
  },
  {
   "cell_type": "code",
   "execution_count": 265,
   "metadata": {
    "execution": {
     "iopub.execute_input": "2023-09-01T06:42:28.007624Z",
     "iopub.status.busy": "2023-09-01T06:42:28.007404Z",
     "iopub.status.idle": "2023-09-01T06:42:28.065528Z",
     "shell.execute_reply": "2023-09-01T06:42:28.064776Z",
     "shell.execute_reply.started": "2023-09-01T06:42:28.007595Z"
    },
    "id": "QVu8zWtJXaCQ"
   },
   "outputs": [
    {
     "data": {
      "application/vnd.jupyter.widget-view+json": {
       "model_id": "2767d6f9ab064d54a3a8746a5e505a7f",
       "version_major": 2,
       "version_minor": 0
      },
      "text/plain": [
       "VBox()"
      ]
     },
     "metadata": {},
     "output_type": "display_data"
    },
    {
     "data": {
      "application/vnd.jupyter.widget-view+json": {
       "model_id": "",
       "version_major": 2,
       "version_minor": 0
      },
      "text/plain": [
       "FloatProgress(value=0.0, bar_style='info', description='Progress:', layout=Layout(height='25px', width='50%'),…"
      ]
     },
     "metadata": {},
     "output_type": "display_data"
    }
   ],
   "source": [
    "features_asm = FeaturesAssembler()\\\n",
    "    .setInputCols([\"sentence_embeddings\"])\\\n",
    "    .setOutputCol(\"feature_vector\")\n",
    "\n",
    "gen_clf = GenericSVMClassifierApproach()\\\n",
    "    .setLabelColumn(\"category\")\\\n",
    "    .setInputCols(\"feature_vector\")\\\n",
    "    .setOutputCol(\"prediction\")\\\n",
    "    .setModelFile(f\"{graph_folder}/svm_graph.pb\")\\\n",
    "    .setEpochsNumber(45)\\\n",
    "    .setBatchSize(32)\\\n",
    "    .setLearningRate(0.02)\\\n",
    "    .setOutputLogsPath(log_folder)\\\n",
    "    .setDropout(0.1)\\\n",
    "    .setFixImbalance(True)\\\n",
    "    # .setValidationSplit(0.1)\n",
    "\n",
    "clf_Pipeline = Pipeline(stages=[\n",
    "    features_asm,\n",
    "    gc_svm_graph_builder,\n",
    "    gen_clf])\n"
   ]
  },
  {
   "cell_type": "code",
   "execution_count": 266,
   "metadata": {
    "colab": {
     "base_uri": "https://localhost:8080/"
    },
    "execution": {
     "iopub.execute_input": "2023-09-01T06:42:28.071801Z",
     "iopub.status.busy": "2023-09-01T06:42:28.071572Z",
     "iopub.status.idle": "2023-09-01T06:42:51.417623Z",
     "shell.execute_reply": "2023-09-01T06:42:51.416875Z",
     "shell.execute_reply.started": "2023-09-01T06:42:28.071769Z"
    },
    "executionInfo": {
     "elapsed": 14785,
     "status": "ok",
     "timestamp": 1689692315823,
     "user": {
      "displayName": "Ahmet Mesut BİROL",
      "userId": "04340760882990254267"
     },
     "user_tz": -180
    },
    "id": "DPRquqVZXaCQ",
    "outputId": "e0a599e6-aa6f-41b4-9cbf-f4df94004259"
   },
   "outputs": [
    {
     "data": {
      "application/vnd.jupyter.widget-view+json": {
       "model_id": "8e44a385c3eb473dac440c9fe959521c",
       "version_major": 2,
       "version_minor": 0
      },
      "text/plain": [
       "VBox()"
      ]
     },
     "metadata": {},
     "output_type": "display_data"
    },
    {
     "data": {
      "application/vnd.jupyter.widget-view+json": {
       "model_id": "",
       "version_major": 2,
       "version_minor": 0
      },
      "text/plain": [
       "FloatProgress(value=0.0, bar_style='info', description='Progress:', layout=Layout(height='25px', width='50%'),…"
      ]
     },
     "metadata": {},
     "output_type": "display_data"
    },
    {
     "name": "stdout",
     "output_type": "stream",
     "text": [
      "TF Graph Builder configuration:\n",
      "Model name: svm_classifier\n",
      "Graph folder: gc_graph\n",
      "Graph file name: svm_graph.pb\n",
      "Build params: {'input_dim': 200, 'output_dim': 4, 'hidden_layers': [], 'output_act': 'sigmoid', 'loss_func': 'hinge'}\n",
      "svm_classifier graph exported to gc_graph/svm_graph.pb"
     ]
    }
   ],
   "source": [
    "generic_model_hc200 = clf_Pipeline.fit(trainingData_with_embeddings)"
   ]
  },
  {
   "cell_type": "code",
   "execution_count": 267,
   "metadata": {
    "execution": {
     "iopub.execute_input": "2023-09-01T06:42:51.419611Z",
     "iopub.status.busy": "2023-09-01T06:42:51.419399Z",
     "iopub.status.idle": "2023-09-01T06:42:55.189035Z",
     "shell.execute_reply": "2023-09-01T06:42:55.188290Z",
     "shell.execute_reply.started": "2023-09-01T06:42:51.419581Z"
    },
    "id": "sgC_XhZJXaCQ"
   },
   "outputs": [
    {
     "data": {
      "application/vnd.jupyter.widget-view+json": {
       "model_id": "b82bc62a63fe437492edc482c47ad400",
       "version_major": 2,
       "version_minor": 0
      },
      "text/plain": [
       "VBox()"
      ]
     },
     "metadata": {},
     "output_type": "display_data"
    },
    {
     "data": {
      "application/vnd.jupyter.widget-view+json": {
       "model_id": "",
       "version_major": 2,
       "version_minor": 0
      },
      "text/plain": [
       "FloatProgress(value=0.0, bar_style='info', description='Progress:', layout=Layout(height='25px', width='50%'),…"
      ]
     },
     "metadata": {},
     "output_type": "display_data"
    }
   ],
   "source": [
    "pred_df = generic_model_hc200.transform(testData_with_embeddings)"
   ]
  },
  {
   "cell_type": "code",
   "execution_count": 268,
   "metadata": {
    "colab": {
     "base_uri": "https://localhost:8080/"
    },
    "execution": {
     "iopub.execute_input": "2023-09-01T06:42:55.190287Z",
     "iopub.status.busy": "2023-09-01T06:42:55.190035Z",
     "iopub.status.idle": "2023-09-01T06:42:58.473049Z",
     "shell.execute_reply": "2023-09-01T06:42:58.472291Z",
     "shell.execute_reply.started": "2023-09-01T06:42:55.190256Z"
    },
    "executionInfo": {
     "elapsed": 3391,
     "status": "ok",
     "timestamp": 1689692323021,
     "user": {
      "displayName": "Ahmet Mesut BİROL",
      "userId": "04340760882990254267"
     },
     "user_tz": -180
    },
    "id": "05LprRjwXaCR",
    "outputId": "d7d953e2-d68f-493c-9a64-587fdd101f52"
   },
   "outputs": [
    {
     "data": {
      "application/vnd.jupyter.widget-view+json": {
       "model_id": "30f6e185bb9a436ea29f989df4bf9a52",
       "version_major": 2,
       "version_minor": 0
      },
      "text/plain": [
       "VBox()"
      ]
     },
     "metadata": {},
     "output_type": "display_data"
    },
    {
     "data": {
      "application/vnd.jupyter.widget-view+json": {
       "model_id": "",
       "version_major": 2,
       "version_minor": 0
      },
      "text/plain": [
       "FloatProgress(value=0.0, bar_style='info', description='Progress:', layout=Layout(height='25px', width='50%'),…"
      ]
     },
     "metadata": {},
     "output_type": "display_data"
    },
    {
     "name": "stdout",
     "output_type": "stream",
     "text": [
      "                  precision    recall  f1-score   support\n",
      "\n",
      "Gastroenterology       0.79      0.92      0.85        25\n",
      "       Neurology       0.78      0.82      0.80        22\n",
      "      Orthopedic       0.88      0.86      0.87        35\n",
      "         Urology       0.94      0.75      0.83        20\n",
      "\n",
      "        accuracy                           0.84       102\n",
      "       macro avg       0.85      0.84      0.84       102\n",
      "    weighted avg       0.85      0.84      0.84       102"
     ]
    }
   ],
   "source": [
    "preds_df = pred_df.select('category','prediction.result').toPandas()\n",
    "preds_df['result'] = preds_df.result.apply(lambda x : x[0])\n",
    "\n",
    "print (classification_report(preds_df['category'], preds_df['result']))"
   ]
  },
  {
   "cell_type": "code",
   "execution_count": 269,
   "metadata": {
    "execution": {
     "iopub.execute_input": "2023-09-01T06:42:58.474274Z",
     "iopub.status.busy": "2023-09-01T06:42:58.474048Z",
     "iopub.status.idle": "2023-09-01T06:42:58.746770Z",
     "shell.execute_reply": "2023-09-01T06:42:58.746077Z",
     "shell.execute_reply.started": "2023-09-01T06:42:58.474244Z"
    },
    "id": "wxDyT5joi2W-"
   },
   "outputs": [
    {
     "data": {
      "application/vnd.jupyter.widget-view+json": {
       "model_id": "990f53722ebf47fe9cc202f1b7cf4671",
       "version_major": 2,
       "version_minor": 0
      },
      "text/plain": [
       "VBox()"
      ]
     },
     "metadata": {},
     "output_type": "display_data"
    },
    {
     "data": {
      "application/vnd.jupyter.widget-view+json": {
       "model_id": "",
       "version_major": 2,
       "version_minor": 0
      },
      "text/plain": [
       "FloatProgress(value=0.0, bar_style='info', description='Progress:', layout=Layout(height='25px', width='50%'),…"
      ]
     },
     "metadata": {},
     "output_type": "display_data"
    }
   ],
   "source": [
    "res = classification_report(preds_df[\"category\"], preds_df[\"result\"], output_dict=True)\n",
    "results_df.loc[\"GenericSVM_200d\"] = [res[\"macro avg\"][\"f1-score\"], res[\"weighted avg\"][\"f1-score\"], res[\"accuracy\"]]"
   ]
  },
  {
   "cell_type": "markdown",
   "metadata": {
    "id": "2LqFI4dmW4Ep"
   },
   "source": [
    "## Bert Sentence Embeddings (sbiobert_base_cased_mli)"
   ]
  },
  {
   "cell_type": "markdown",
   "metadata": {
    "id": "RcQPzSbOVOpn"
   },
   "source": [
    "We will extract [sbiobert_base_cased_mli](https://nlp.johnsnowlabs.com/2020/11/27/sbiobert_base_cased_mli_en.html) embeddings which has 768 dimension output and use this embeddings in the model training."
   ]
  },
  {
   "cell_type": "code",
   "execution_count": 270,
   "metadata": {
    "colab": {
     "base_uri": "https://localhost:8080/"
    },
    "execution": {
     "iopub.execute_input": "2023-09-01T06:42:58.748058Z",
     "iopub.status.busy": "2023-09-01T06:42:58.747826Z",
     "iopub.status.idle": "2023-09-01T06:43:02.025704Z",
     "shell.execute_reply": "2023-09-01T06:43:02.024937Z",
     "shell.execute_reply.started": "2023-09-01T06:42:58.748028Z"
    },
    "executionInfo": {
     "elapsed": 2988,
     "status": "ok",
     "timestamp": 1689692325996,
     "user": {
      "displayName": "Ahmet Mesut BİROL",
      "userId": "04340760882990254267"
     },
     "user_tz": -180
    },
    "id": "e7pupvygW4Eq",
    "outputId": "d958cc1c-8370-452f-87be-c2d57f0687c3"
   },
   "outputs": [
    {
     "data": {
      "application/vnd.jupyter.widget-view+json": {
       "model_id": "a1c8adef646943de8c014ce5e2360907",
       "version_major": 2,
       "version_minor": 0
      },
      "text/plain": [
       "VBox()"
      ]
     },
     "metadata": {},
     "output_type": "display_data"
    },
    {
     "data": {
      "application/vnd.jupyter.widget-view+json": {
       "model_id": "",
       "version_major": 2,
       "version_minor": 0
      },
      "text/plain": [
       "FloatProgress(value=0.0, bar_style='info', description='Progress:', layout=Layout(height='25px', width='50%'),…"
      ]
     },
     "metadata": {},
     "output_type": "display_data"
    },
    {
     "name": "stdout",
     "output_type": "stream",
     "text": [
      "sbiobert_base_cased_mli download started this may take some time.\n",
      "Approximate size to download 384.3 MB\n",
      "[OK!]"
     ]
    }
   ],
   "source": [
    "document_assembler = DocumentAssembler()\\\n",
    "    .setInputCol(\"text\")\\\n",
    "    .setOutputCol(\"document\")\n",
    "\n",
    "bert_sent = BertSentenceEmbeddings.pretrained(\"sbiobert_base_cased_mli\", 'en','clinical/models')\\\n",
    "    .setInputCols([\"document\"])\\\n",
    "    .setOutputCol(\"sentence_embeddings\")\n",
    "\n",
    "embeddings_pipeline = Pipeline(\n",
    "    stages = [document_assembler,\n",
    "              bert_sent])"
   ]
  },
  {
   "cell_type": "code",
   "execution_count": 271,
   "metadata": {
    "colab": {
     "base_uri": "https://localhost:8080/"
    },
    "execution": {
     "iopub.execute_input": "2023-09-01T06:43:02.026924Z",
     "iopub.status.busy": "2023-09-01T06:43:02.026703Z",
     "iopub.status.idle": "2023-09-01T06:43:11.324092Z",
     "shell.execute_reply": "2023-09-01T06:43:11.323341Z",
     "shell.execute_reply.started": "2023-09-01T06:43:02.026894Z"
    },
    "executionInfo": {
     "elapsed": 767,
     "status": "ok",
     "timestamp": 1689692326758,
     "user": {
      "displayName": "Ahmet Mesut BİROL",
      "userId": "04340760882990254267"
     },
     "user_tz": -180
    },
    "id": "A-_AaTGCW4Eq",
    "outputId": "b5c63d95-ea42-4224-8975-66b5c9cedd92"
   },
   "outputs": [
    {
     "data": {
      "application/vnd.jupyter.widget-view+json": {
       "model_id": "5abd505f2e3341e88a84ed11ab9c0d17",
       "version_major": 2,
       "version_minor": 0
      },
      "text/plain": [
       "VBox()"
      ]
     },
     "metadata": {},
     "output_type": "display_data"
    },
    {
     "data": {
      "application/vnd.jupyter.widget-view+json": {
       "model_id": "",
       "version_major": 2,
       "version_minor": 0
      },
      "text/plain": [
       "FloatProgress(value=0.0, bar_style='info', description='Progress:', layout=Layout(height='25px', width='50%'),…"
      ]
     },
     "metadata": {},
     "output_type": "display_data"
    },
    {
     "name": "stdout",
     "output_type": "stream",
     "text": [
      "+------------------------------------------------------------+----------------+------------------------------------------------------------+\n",
      "|                                                        text|        category|                                         sentence_embeddings|\n",
      "+------------------------------------------------------------+----------------+------------------------------------------------------------+\n",
      "| ADMISSION DIAGNOSIS: Symptomatic cholelithiasis. DISCHAR...|Gastroenterology|[{sentence_embeddings, 0, 2228,  ADMISSION DIAGNOSIS: Sym...|\n",
      "| ADMITTING DIAGNOSES: Hiatal hernia, gastroesophageal ref...|Gastroenterology|[{sentence_embeddings, 0, 3237,  ADMITTING DIAGNOSES: Hia...|\n",
      "+------------------------------------------------------------+----------------+------------------------------------------------------------+\n",
      "only showing top 2 rows"
     ]
    }
   ],
   "source": [
    "trainingData_with_embeddings = embeddings_pipeline.fit(trainingData).transform(trainingData)\\\n",
    "                                                  .select(\"text\",\"category\",\"sentence_embeddings\")\n",
    "\n",
    "trainingData_with_embeddings.show(2,truncate=60)"
   ]
  },
  {
   "cell_type": "code",
   "execution_count": 272,
   "metadata": {
    "colab": {
     "base_uri": "https://localhost:8080/"
    },
    "execution": {
     "iopub.execute_input": "2023-09-01T06:43:11.325341Z",
     "iopub.status.busy": "2023-09-01T06:43:11.325116Z",
     "iopub.status.idle": "2023-09-01T06:43:12.592933Z",
     "shell.execute_reply": "2023-09-01T06:43:12.592232Z",
     "shell.execute_reply.started": "2023-09-01T06:43:11.325310Z"
    },
    "executionInfo": {
     "elapsed": 1318,
     "status": "ok",
     "timestamp": 1689692328073,
     "user": {
      "displayName": "Ahmet Mesut BİROL",
      "userId": "04340760882990254267"
     },
     "user_tz": -180
    },
    "id": "sGAKs2o0W4Eq",
    "outputId": "cf305505-c86a-4c16-914c-5d5970920987"
   },
   "outputs": [
    {
     "data": {
      "application/vnd.jupyter.widget-view+json": {
       "model_id": "ad4b94b1d99247b9aa62d5ed89c25dfe",
       "version_major": 2,
       "version_minor": 0
      },
      "text/plain": [
       "VBox()"
      ]
     },
     "metadata": {},
     "output_type": "display_data"
    },
    {
     "data": {
      "application/vnd.jupyter.widget-view+json": {
       "model_id": "",
       "version_major": 2,
       "version_minor": 0
      },
      "text/plain": [
       "FloatProgress(value=0.0, bar_style='info', description='Progress:', layout=Layout(height='25px', width='50%'),…"
      ]
     },
     "metadata": {},
     "output_type": "display_data"
    },
    {
     "name": "stdout",
     "output_type": "stream",
     "text": [
      "+------------------------------------------------------------+----------------+------------------------------------------------------------+\n",
      "|                                                        text|        category|                                         sentence_embeddings|\n",
      "+------------------------------------------------------------+----------------+------------------------------------------------------------+\n",
      "| ADMITTING DIAGNOSIS: Gastrointestinal bleed. HISTORY OF ...|Gastroenterology|[{sentence_embeddings, 0, 3978,  ADMITTING DIAGNOSIS: Gas...|\n",
      "| CHIEF COMPLAINT: Dysphagia and hematemesis while vomitin...|Gastroenterology|[{sentence_embeddings, 0, 6515,  CHIEF COMPLAINT: Dysphag...|\n",
      "+------------------------------------------------------------+----------------+------------------------------------------------------------+\n",
      "only showing top 2 rows"
     ]
    }
   ],
   "source": [
    "testData_with_embeddings = embeddings_pipeline.fit(testData).transform(testData)\\\n",
    "                                                  .select(\"text\",\"category\",\"sentence_embeddings\")\n",
    "\n",
    "testData_with_embeddings.show(2,truncate=60)"
   ]
  },
  {
   "cell_type": "code",
   "execution_count": 273,
   "metadata": {
    "execution": {
     "iopub.execute_input": "2023-09-01T06:43:12.594093Z",
     "iopub.status.busy": "2023-09-01T06:43:12.593880Z",
     "iopub.status.idle": "2023-09-01T06:43:12.655846Z",
     "shell.execute_reply": "2023-09-01T06:43:12.654867Z",
     "shell.execute_reply.started": "2023-09-01T06:43:12.594063Z"
    },
    "id": "WiR3GJpbW4Eq"
   },
   "outputs": [
    {
     "data": {
      "application/vnd.jupyter.widget-view+json": {
       "model_id": "48a45bbdc6b143b9ac1c9a7ac2774530",
       "version_major": 2,
       "version_minor": 0
      },
      "text/plain": [
       "VBox()"
      ]
     },
     "metadata": {},
     "output_type": "display_data"
    },
    {
     "data": {
      "application/vnd.jupyter.widget-view+json": {
       "model_id": "",
       "version_major": 2,
       "version_minor": 0
      },
      "text/plain": [
       "FloatProgress(value=0.0, bar_style='info', description='Progress:', layout=Layout(height='25px', width='50%'),…"
      ]
     },
     "metadata": {},
     "output_type": "display_data"
    }
   ],
   "source": [
    "log_folder=\"Mt_logs_bert\""
   ]
  },
  {
   "cell_type": "markdown",
   "metadata": {
    "id": "NqYpg6-dW4Eq"
   },
   "source": [
    "### ClassifierDL"
   ]
  },
  {
   "cell_type": "code",
   "execution_count": 274,
   "metadata": {
    "execution": {
     "iopub.execute_input": "2023-09-01T06:43:12.656924Z",
     "iopub.status.busy": "2023-09-01T06:43:12.656717Z",
     "iopub.status.idle": "2023-09-01T06:43:14.149637Z",
     "shell.execute_reply": "2023-09-01T06:43:12.723880Z",
     "shell.execute_reply.started": "2023-09-01T06:43:12.656896Z"
    },
    "id": "vkb4PlGsW4Eq"
   },
   "outputs": [
    {
     "data": {
      "application/vnd.jupyter.widget-view+json": {
       "model_id": "5b96c3ba1c0b4e13b6498d774b2343df",
       "version_major": 2,
       "version_minor": 0
      },
      "text/plain": [
       "VBox()"
      ]
     },
     "metadata": {},
     "output_type": "display_data"
    },
    {
     "data": {
      "application/vnd.jupyter.widget-view+json": {
       "model_id": "",
       "version_major": 2,
       "version_minor": 0
      },
      "text/plain": [
       "FloatProgress(value=0.0, bar_style='info', description='Progress:', layout=Layout(height='25px', width='50%'),…"
      ]
     },
     "metadata": {},
     "output_type": "display_data"
    }
   ],
   "source": [
    "classifier_dl = ClassifierDLApproach()\\\n",
    "        .setInputCols([\"sentence_embeddings\"])\\\n",
    "        .setOutputCol(\"class\")\\\n",
    "        .setLabelColumn(\"category\")\\\n",
    "        .setBatchSize(8)\\\n",
    "        .setMaxEpochs(30)\\\n",
    "        .setLr(0.002)\\\n",
    "        .setDropout(0.1)\\\n",
    "        .setEnableOutputLogs(True)\\\n",
    "        .setOutputLogsPath(log_folder)\n",
    "\n",
    "classifier_dl_pipeline = Pipeline(stages=[classifier_dl])"
   ]
  },
  {
   "cell_type": "code",
   "execution_count": 275,
   "metadata": {
    "execution": {
     "iopub.execute_input": "2023-09-01T06:43:14.150899Z",
     "iopub.status.busy": "2023-09-01T06:43:14.150639Z",
     "iopub.status.idle": "2023-09-01T06:45:05.869609Z",
     "shell.execute_reply": "2023-09-01T06:45:05.868879Z",
     "shell.execute_reply.started": "2023-09-01T06:43:14.150867Z"
    },
    "id": "WG0-PJA2W4Eq"
   },
   "outputs": [
    {
     "data": {
      "application/vnd.jupyter.widget-view+json": {
       "model_id": "2cf30905ed32458ea7f0f3913f4bd58f",
       "version_major": 2,
       "version_minor": 0
      },
      "text/plain": [
       "VBox()"
      ]
     },
     "metadata": {},
     "output_type": "display_data"
    },
    {
     "data": {
      "application/vnd.jupyter.widget-view+json": {
       "model_id": "",
       "version_major": 2,
       "version_minor": 0
      },
      "text/plain": [
       "FloatProgress(value=0.0, bar_style='info', description='Progress:', layout=Layout(height='25px', width='50%'),…"
      ]
     },
     "metadata": {},
     "output_type": "display_data"
    }
   ],
   "source": [
    "clfDL_model_bert = classifier_dl_pipeline.fit(trainingData_with_embeddings)"
   ]
  },
  {
   "cell_type": "code",
   "execution_count": 276,
   "metadata": {
    "colab": {
     "base_uri": "https://localhost:8080/"
    },
    "execution": {
     "iopub.execute_input": "2023-09-01T06:45:05.870758Z",
     "iopub.status.busy": "2023-09-01T06:45:05.870543Z",
     "iopub.status.idle": "2023-09-01T06:45:19.177155Z",
     "shell.execute_reply": "2023-09-01T06:45:19.176151Z",
     "shell.execute_reply.started": "2023-09-01T06:45:05.870728Z"
    },
    "executionInfo": {
     "elapsed": 9439,
     "status": "ok",
     "timestamp": 1689692425612,
     "user": {
      "displayName": "Ahmet Mesut BİROL",
      "userId": "04340760882990254267"
     },
     "user_tz": -180
    },
    "id": "B_29_8JBW4Eq",
    "outputId": "56f321e2-39a1-484c-ebf0-c73533914177",
    "tags": []
   },
   "outputs": [
    {
     "data": {
      "application/vnd.jupyter.widget-view+json": {
       "model_id": "6888653f207741a8b869741d1587126c",
       "version_major": 2,
       "version_minor": 0
      },
      "text/plain": [
       "VBox()"
      ]
     },
     "metadata": {},
     "output_type": "display_data"
    },
    {
     "data": {
      "application/vnd.jupyter.widget-view+json": {
       "model_id": "",
       "version_major": 2,
       "version_minor": 0
      },
      "text/plain": [
       "FloatProgress(value=0.0, bar_style='info', description='Progress:', layout=Layout(height='25px', width='50%'),…"
      ]
     },
     "metadata": {},
     "output_type": "display_data"
    },
    {
     "name": "stdout",
     "output_type": "stream",
     "text": [
      "                  precision    recall  f1-score   support\n",
      "\n",
      "Gastroenterology       0.92      0.92      0.92        25\n",
      "       Neurology       0.82      0.82      0.82        22\n",
      "      Orthopedic       0.88      0.86      0.87        35\n",
      "         Urology       0.90      0.95      0.93        20\n",
      "\n",
      "        accuracy                           0.88       102\n",
      "       macro avg       0.88      0.89      0.88       102\n",
      "    weighted avg       0.88      0.88      0.88       102"
     ]
    }
   ],
   "source": [
    "preds = clfDL_model_bert.transform(testData_with_embeddings)\n",
    "\n",
    "preds_df = preds.select(\"category\",\"text\",\"class.result\").toPandas()\n",
    "preds_df[\"result\"] = preds_df[\"result\"].apply(lambda x : x[0])\n",
    "\n",
    "print (classification_report(preds_df[\"category\"], preds_df[\"result\"]))"
   ]
  },
  {
   "cell_type": "code",
   "execution_count": 277,
   "metadata": {
    "execution": {
     "iopub.execute_input": "2023-09-01T06:45:19.178331Z",
     "iopub.status.busy": "2023-09-01T06:45:19.178092Z",
     "iopub.status.idle": "2023-09-01T06:45:19.235659Z",
     "shell.execute_reply": "2023-09-01T06:45:19.234888Z",
     "shell.execute_reply.started": "2023-09-01T06:45:19.178300Z"
    },
    "id": "qDnPLheTi_RL"
   },
   "outputs": [
    {
     "data": {
      "application/vnd.jupyter.widget-view+json": {
       "model_id": "b6004da8b6494b24b63fa83517028ace",
       "version_major": 2,
       "version_minor": 0
      },
      "text/plain": [
       "VBox()"
      ]
     },
     "metadata": {},
     "output_type": "display_data"
    },
    {
     "data": {
      "application/vnd.jupyter.widget-view+json": {
       "model_id": "",
       "version_major": 2,
       "version_minor": 0
      },
      "text/plain": [
       "FloatProgress(value=0.0, bar_style='info', description='Progress:', layout=Layout(height='25px', width='50%'),…"
      ]
     },
     "metadata": {},
     "output_type": "display_data"
    }
   ],
   "source": [
    "res = classification_report(preds_df[\"category\"], preds_df[\"result\"], output_dict=True)\n",
    "results_df.loc[\"ClassifierDL_bert\"] = [res[\"macro avg\"][\"f1-score\"], res[\"weighted avg\"][\"f1-score\"], res[\"accuracy\"]]"
   ]
  },
  {
   "cell_type": "markdown",
   "metadata": {
    "id": "0Fw49226W4Er"
   },
   "source": [
    "### MultiClassifierDL"
   ]
  },
  {
   "cell_type": "code",
   "execution_count": 278,
   "metadata": {
    "execution": {
     "iopub.execute_input": "2023-09-01T06:45:19.236827Z",
     "iopub.status.busy": "2023-09-01T06:45:19.236599Z",
     "iopub.status.idle": "2023-09-01T06:45:19.499968Z",
     "shell.execute_reply": "2023-09-01T06:45:19.499293Z",
     "shell.execute_reply.started": "2023-09-01T06:45:19.236797Z"
    },
    "id": "Co9lWcRxW4Er"
   },
   "outputs": [
    {
     "data": {
      "application/vnd.jupyter.widget-view+json": {
       "model_id": "1c3a69c28eb148fc8efa02ffd6e55b53",
       "version_major": 2,
       "version_minor": 0
      },
      "text/plain": [
       "VBox()"
      ]
     },
     "metadata": {},
     "output_type": "display_data"
    },
    {
     "data": {
      "application/vnd.jupyter.widget-view+json": {
       "model_id": "",
       "version_major": 2,
       "version_minor": 0
      },
      "text/plain": [
       "FloatProgress(value=0.0, bar_style='info', description='Progress:', layout=Layout(height='25px', width='50%'),…"
      ]
     },
     "metadata": {},
     "output_type": "display_data"
    }
   ],
   "source": [
    "# MultiClassifierDL accepts list of strings as input label. So we convert label column to array type.\n",
    "trainingData_with_embeddings = trainingData_with_embeddings.withColumn(\"category_array\", F.array(F.col(\"category\")))\n",
    "testData_with_embeddings = testData_with_embeddings.withColumn(\"category_array\", F.array(F.col(\"category\")))"
   ]
  },
  {
   "cell_type": "code",
   "execution_count": 279,
   "metadata": {
    "execution": {
     "iopub.execute_input": "2023-09-01T06:45:19.501182Z",
     "iopub.status.busy": "2023-09-01T06:45:19.500932Z",
     "iopub.status.idle": "2023-09-01T06:45:19.565564Z",
     "shell.execute_reply": "2023-09-01T06:45:19.564666Z",
     "shell.execute_reply.started": "2023-09-01T06:45:19.501152Z"
    },
    "id": "5itVNwSWW4Er"
   },
   "outputs": [
    {
     "data": {
      "application/vnd.jupyter.widget-view+json": {
       "model_id": "7809b64020194a88b913a1cf33ccecf0",
       "version_major": 2,
       "version_minor": 0
      },
      "text/plain": [
       "VBox()"
      ]
     },
     "metadata": {},
     "output_type": "display_data"
    },
    {
     "data": {
      "application/vnd.jupyter.widget-view+json": {
       "model_id": "",
       "version_major": 2,
       "version_minor": 0
      },
      "text/plain": [
       "FloatProgress(value=0.0, bar_style='info', description='Progress:', layout=Layout(height='25px', width='50%'),…"
      ]
     },
     "metadata": {},
     "output_type": "display_data"
    }
   ],
   "source": [
    "multiClassifier = MultiClassifierDLApproach()\\\n",
    "  .setInputCols(\"sentence_embeddings\")\\\n",
    "  .setOutputCol(\"prediction\")\\\n",
    "  .setLabelColumn(\"category_array\")\\\n",
    "  .setBatchSize(8)\\\n",
    "  .setMaxEpochs(20)\\\n",
    "  .setLr(9e-3)\\\n",
    "  .setThreshold(0.5)\\\n",
    "  .setShufflePerEpoch(False)\\\n",
    "  .setEnableOutputLogs(True)\\\n",
    "  .setOutputLogsPath(log_folder)\\\n",
    "#   .setValidationSplit(0.1)\n",
    "\n",
    "multiClassifier_pipeline = Pipeline(\n",
    "    stages = [\n",
    "        multiClassifier\n",
    "    ])"
   ]
  },
  {
   "cell_type": "code",
   "execution_count": 280,
   "metadata": {
    "execution": {
     "iopub.execute_input": "2023-09-01T06:45:19.566748Z",
     "iopub.status.busy": "2023-09-01T06:45:19.566538Z",
     "iopub.status.idle": "2023-09-01T06:48:01.301910Z",
     "shell.execute_reply": "2023-09-01T06:48:01.301189Z",
     "shell.execute_reply.started": "2023-09-01T06:45:19.566719Z"
    },
    "id": "Y2p8qfzeW4Er",
    "tags": []
   },
   "outputs": [
    {
     "data": {
      "application/vnd.jupyter.widget-view+json": {
       "model_id": "ad7749b217e54ea98bc472472b29d982",
       "version_major": 2,
       "version_minor": 0
      },
      "text/plain": [
       "VBox()"
      ]
     },
     "metadata": {},
     "output_type": "display_data"
    },
    {
     "data": {
      "application/vnd.jupyter.widget-view+json": {
       "model_id": "",
       "version_major": 2,
       "version_minor": 0
      },
      "text/plain": [
       "FloatProgress(value=0.0, bar_style='info', description='Progress:', layout=Layout(height='25px', width='50%'),…"
      ]
     },
     "metadata": {},
     "output_type": "display_data"
    }
   ],
   "source": [
    "multiClassifier_model_bert = multiClassifier_pipeline.fit(trainingData_with_embeddings)"
   ]
  },
  {
   "cell_type": "code",
   "execution_count": 281,
   "metadata": {
    "execution": {
     "iopub.execute_input": "2023-09-01T06:48:01.303461Z",
     "iopub.status.busy": "2023-09-01T06:48:01.303135Z",
     "iopub.status.idle": "2023-09-01T06:48:01.568047Z",
     "shell.execute_reply": "2023-09-01T06:48:01.567322Z",
     "shell.execute_reply.started": "2023-09-01T06:48:01.303426Z"
    },
    "id": "j812VMg5W4Er"
   },
   "outputs": [
    {
     "data": {
      "application/vnd.jupyter.widget-view+json": {
       "model_id": "f0b8f68ca7764413901e28c842297335",
       "version_major": 2,
       "version_minor": 0
      },
      "text/plain": [
       "VBox()"
      ]
     },
     "metadata": {},
     "output_type": "display_data"
    },
    {
     "data": {
      "application/vnd.jupyter.widget-view+json": {
       "model_id": "",
       "version_major": 2,
       "version_minor": 0
      },
      "text/plain": [
       "FloatProgress(value=0.0, bar_style='info', description='Progress:', layout=Layout(height='25px', width='50%'),…"
      ]
     },
     "metadata": {},
     "output_type": "display_data"
    }
   ],
   "source": [
    "preds = multiClassifier_model_bert.transform(testData_with_embeddings)"
   ]
  },
  {
   "cell_type": "code",
   "execution_count": 282,
   "metadata": {
    "colab": {
     "base_uri": "https://localhost:8080/"
    },
    "execution": {
     "iopub.execute_input": "2023-09-01T06:48:01.569736Z",
     "iopub.status.busy": "2023-09-01T06:48:01.569371Z",
     "iopub.status.idle": "2023-09-01T06:48:53.340118Z",
     "shell.execute_reply": "2023-09-01T06:48:53.339381Z",
     "shell.execute_reply.started": "2023-09-01T06:48:01.569687Z"
    },
    "executionInfo": {
     "elapsed": 26521,
     "status": "ok",
     "timestamp": 1689692583191,
     "user": {
      "displayName": "Ahmet Mesut BİROL",
      "userId": "04340760882990254267"
     },
     "user_tz": -180
    },
    "id": "Ero8R_rhW4Er",
    "outputId": "fba635cd-0fd2-44d2-e158-9430310987da",
    "tags": []
   },
   "outputs": [
    {
     "data": {
      "application/vnd.jupyter.widget-view+json": {
       "model_id": "c3b3debb17ee41898962fd7e6f9d97c3",
       "version_major": 2,
       "version_minor": 0
      },
      "text/plain": [
       "VBox()"
      ]
     },
     "metadata": {},
     "output_type": "display_data"
    },
    {
     "data": {
      "application/vnd.jupyter.widget-view+json": {
       "model_id": "",
       "version_major": 2,
       "version_minor": 0
      },
      "text/plain": [
       "FloatProgress(value=0.0, bar_style='info', description='Progress:', layout=Layout(height='25px', width='50%'),…"
      ]
     },
     "metadata": {},
     "output_type": "display_data"
    },
    {
     "name": "stdout",
     "output_type": "stream",
     "text": [
      "['Orthopedic']                 32\n",
      "['Gastroenterology']           24\n",
      "['Neurology']                  21\n",
      "['Urology']                    19\n",
      "[]                              5\n",
      "['Orthopedic', 'Neurology']     1\n",
      "Name: result, dtype: int64"
     ]
    }
   ],
   "source": [
    "preds_df = preds.select(\"category\",\"text\",\"prediction.result\",\"prediction.metadata\").toPandas()\n",
    "preds_df.result.apply(lambda x: str(x) ).value_counts()"
   ]
  },
  {
   "cell_type": "code",
   "execution_count": 283,
   "metadata": {
    "colab": {
     "base_uri": "https://localhost:8080/"
    },
    "execution": {
     "iopub.execute_input": "2023-09-01T06:48:53.341386Z",
     "iopub.status.busy": "2023-09-01T06:48:53.341160Z",
     "iopub.status.idle": "2023-09-01T06:48:53.404714Z",
     "shell.execute_reply": "2023-09-01T06:48:53.403868Z",
     "shell.execute_reply.started": "2023-09-01T06:48:53.341356Z"
    },
    "executionInfo": {
     "elapsed": 30,
     "status": "ok",
     "timestamp": 1689692583192,
     "user": {
      "displayName": "Ahmet Mesut BİROL",
      "userId": "04340760882990254267"
     },
     "user_tz": -180
    },
    "id": "eIr0FA55W4Er",
    "outputId": "551c489b-a47e-49c5-f91b-a4b2bbd4b0c6"
   },
   "outputs": [
    {
     "data": {
      "application/vnd.jupyter.widget-view+json": {
       "model_id": "57493636dbbc48b68f9f203331607652",
       "version_major": 2,
       "version_minor": 0
      },
      "text/plain": [
       "VBox()"
      ]
     },
     "metadata": {},
     "output_type": "display_data"
    },
    {
     "data": {
      "application/vnd.jupyter.widget-view+json": {
       "model_id": "",
       "version_major": 2,
       "version_minor": 0
      },
      "text/plain": [
       "FloatProgress(value=0.0, bar_style='info', description='Progress:', layout=Layout(height='25px', width='50%'),…"
      ]
     },
     "metadata": {},
     "output_type": "display_data"
    },
    {
     "name": "stdout",
     "output_type": "stream",
     "text": [
      "Orthopedic          33\n",
      "Gastroenterology    24\n",
      "Neurology           21\n",
      "Urology             19\n",
      "Name: result, dtype: int64"
     ]
    }
   ],
   "source": [
    "# We will get the highest score label as result. You can control the number of zero label results with setThreshold() in the training.\n",
    "preds_df[\"scores\"] = preds_df.metadata.apply(lambda x: {k:float(v) for k,v in x[0].items()} if len(x)>=1 else \"\")\n",
    "preds_df[\"result\"] = preds_df.scores.apply(lambda x: max(x, key=x.get) if len(x)>=1 else \"\")\n",
    "preds_df = preds_df[(preds_df[\"result\"]!=\"\")]\n",
    "preds_df[\"result\"].value_counts()"
   ]
  },
  {
   "cell_type": "code",
   "execution_count": 284,
   "metadata": {
    "colab": {
     "base_uri": "https://localhost:8080/"
    },
    "execution": {
     "iopub.execute_input": "2023-09-01T06:48:53.405944Z",
     "iopub.status.busy": "2023-09-01T06:48:53.405708Z",
     "iopub.status.idle": "2023-09-01T06:48:53.653112Z",
     "shell.execute_reply": "2023-09-01T06:48:53.652299Z",
     "shell.execute_reply.started": "2023-09-01T06:48:53.405913Z"
    },
    "executionInfo": {
     "elapsed": 14,
     "status": "ok",
     "timestamp": 1689692583193,
     "user": {
      "displayName": "Ahmet Mesut BİROL",
      "userId": "04340760882990254267"
     },
     "user_tz": -180
    },
    "id": "m9BKG5kHW4Es",
    "outputId": "8a1f068e-bc95-4693-8050-1c6279af23cf"
   },
   "outputs": [
    {
     "data": {
      "application/vnd.jupyter.widget-view+json": {
       "model_id": "1f2006b69b9d45ec893b348f7d19b770",
       "version_major": 2,
       "version_minor": 0
      },
      "text/plain": [
       "VBox()"
      ]
     },
     "metadata": {},
     "output_type": "display_data"
    },
    {
     "data": {
      "application/vnd.jupyter.widget-view+json": {
       "model_id": "",
       "version_major": 2,
       "version_minor": 0
      },
      "text/plain": [
       "FloatProgress(value=0.0, bar_style='info', description='Progress:', layout=Layout(height='25px', width='50%'),…"
      ]
     },
     "metadata": {},
     "output_type": "display_data"
    },
    {
     "name": "stdout",
     "output_type": "stream",
     "text": [
      "                  precision    recall  f1-score   support\n",
      "\n",
      "Gastroenterology       0.96      0.92      0.94        25\n",
      "       Neurology       0.81      0.85      0.83        20\n",
      "      Orthopedic       0.91      0.86      0.88        35\n",
      "         Urology       0.84      0.94      0.89        17\n",
      "\n",
      "        accuracy                           0.89        97\n",
      "       macro avg       0.88      0.89      0.88        97\n",
      "    weighted avg       0.89      0.89      0.89        97"
     ]
    }
   ],
   "source": [
    "print (classification_report(preds_df[\"category\"], preds_df[\"result\"]))"
   ]
  },
  {
   "cell_type": "code",
   "execution_count": 285,
   "metadata": {
    "execution": {
     "iopub.execute_input": "2023-09-01T06:48:53.654381Z",
     "iopub.status.busy": "2023-09-01T06:48:53.654153Z",
     "iopub.status.idle": "2023-09-01T06:48:53.711771Z",
     "shell.execute_reply": "2023-09-01T06:48:53.710819Z",
     "shell.execute_reply.started": "2023-09-01T06:48:53.654350Z"
    },
    "id": "glqjR5zRjWGj"
   },
   "outputs": [
    {
     "data": {
      "application/vnd.jupyter.widget-view+json": {
       "model_id": "984c052e81ab4ea79ed1505f38f6e2a1",
       "version_major": 2,
       "version_minor": 0
      },
      "text/plain": [
       "VBox()"
      ]
     },
     "metadata": {},
     "output_type": "display_data"
    },
    {
     "data": {
      "application/vnd.jupyter.widget-view+json": {
       "model_id": "",
       "version_major": 2,
       "version_minor": 0
      },
      "text/plain": [
       "FloatProgress(value=0.0, bar_style='info', description='Progress:', layout=Layout(height='25px', width='50%'),…"
      ]
     },
     "metadata": {},
     "output_type": "display_data"
    }
   ],
   "source": [
    "res = classification_report(preds_df[\"category\"], preds_df[\"result\"], output_dict=True)\n",
    "results_df.loc[\"MultiClassifierDL_bert\"] = [res[\"macro avg\"][\"f1-score\"], res[\"weighted avg\"][\"f1-score\"], res[\"accuracy\"]]"
   ]
  },
  {
   "cell_type": "markdown",
   "metadata": {
    "id": "hhNpyXkeW4Es"
   },
   "source": [
    "### Generic Classifier"
   ]
  },
  {
   "cell_type": "code",
   "execution_count": 286,
   "metadata": {
    "execution": {
     "iopub.execute_input": "2023-09-01T06:48:53.712837Z",
     "iopub.status.busy": "2023-09-01T06:48:53.712603Z",
     "iopub.status.idle": "2023-09-01T06:48:53.777288Z",
     "shell.execute_reply": "2023-09-01T06:48:53.776525Z",
     "shell.execute_reply.started": "2023-09-01T06:48:53.712791Z"
    },
    "id": "a0pS3YdEW4Es"
   },
   "outputs": [
    {
     "data": {
      "application/vnd.jupyter.widget-view+json": {
       "model_id": "882c59cb98fc4f448211284f09909139",
       "version_major": 2,
       "version_minor": 0
      },
      "text/plain": [
       "VBox()"
      ]
     },
     "metadata": {},
     "output_type": "display_data"
    },
    {
     "data": {
      "application/vnd.jupyter.widget-view+json": {
       "model_id": "",
       "version_major": 2,
       "version_minor": 0
      },
      "text/plain": [
       "FloatProgress(value=0.0, bar_style='info', description='Progress:', layout=Layout(height='25px', width='50%'),…"
      ]
     },
     "metadata": {},
     "output_type": "display_data"
    }
   ],
   "source": [
    "from sparknlp_jsl.annotator import TFGraphBuilder\n",
    "\n",
    "graph_folder = \"gc_graph\"\n",
    "\n",
    "gc_graph_builder = TFGraphBuilder()\\\n",
    "    .setModelName(\"generic_classifier\")\\\n",
    "    .setInputCols([\"features\"])\\\n",
    "    .setLabelColumn(\"category\")\\\n",
    "    .setHiddenLayers([300,200, 50])\\\n",
    "    .setHiddenAct(\"tanh\")\\\n",
    "    .setHiddenActL2(True)\\\n",
    "    .setBatchNorm(True)\\\n",
    "    .setGraphFolder(graph_folder)\\\n",
    "    .setGraphFile(\"gcf_graph_bert.pb\")"
   ]
  },
  {
   "cell_type": "code",
   "execution_count": 287,
   "metadata": {
    "execution": {
     "iopub.execute_input": "2023-09-01T06:48:53.778496Z",
     "iopub.status.busy": "2023-09-01T06:48:53.778270Z",
     "iopub.status.idle": "2023-09-01T06:48:53.846978Z",
     "shell.execute_reply": "2023-09-01T06:48:53.846085Z",
     "shell.execute_reply.started": "2023-09-01T06:48:53.778465Z"
    },
    "id": "aBuFW-1iW4Es"
   },
   "outputs": [
    {
     "data": {
      "application/vnd.jupyter.widget-view+json": {
       "model_id": "b3f0e93ebe344f568c67050155b7e72f",
       "version_major": 2,
       "version_minor": 0
      },
      "text/plain": [
       "VBox()"
      ]
     },
     "metadata": {},
     "output_type": "display_data"
    },
    {
     "data": {
      "application/vnd.jupyter.widget-view+json": {
       "model_id": "",
       "version_major": 2,
       "version_minor": 0
      },
      "text/plain": [
       "FloatProgress(value=0.0, bar_style='info', description='Progress:', layout=Layout(height='25px', width='50%'),…"
      ]
     },
     "metadata": {},
     "output_type": "display_data"
    }
   ],
   "source": [
    "features_asm = FeaturesAssembler()\\\n",
    "    .setInputCols([\"sentence_embeddings\"])\\\n",
    "    .setOutputCol(\"features\")\n",
    "\n",
    "gen_clf = GenericClassifierApproach()\\\n",
    "    .setLabelColumn(\"category\")\\\n",
    "    .setInputCols(\"features\")\\\n",
    "    .setOutputCol(\"prediction\")\\\n",
    "    .setModelFile(f\"{graph_folder}/gcf_graph_bert.pb\")\\\n",
    "    .setEpochsNumber(25)\\\n",
    "    .setBatchSize(16)\\\n",
    "    .setLearningRate(0.002)\\\n",
    "    .setOutputLogsPath(log_folder)\\\n",
    "    .setDropout(0.2)\\\n",
    "    .setFixImbalance(True)\\\n",
    "    # .setValidationSplit(0.1)\n",
    "\n",
    "clf_Pipeline = Pipeline(stages=[\n",
    "    features_asm,\n",
    "    gc_graph_builder,\n",
    "    gen_clf])\n"
   ]
  },
  {
   "cell_type": "code",
   "execution_count": 288,
   "metadata": {
    "colab": {
     "base_uri": "https://localhost:8080/"
    },
    "execution": {
     "iopub.execute_input": "2023-09-01T06:48:53.848156Z",
     "iopub.status.busy": "2023-09-01T06:48:53.847930Z",
     "iopub.status.idle": "2023-09-01T06:52:18.054399Z",
     "shell.execute_reply": "2023-09-01T06:52:18.053688Z",
     "shell.execute_reply.started": "2023-09-01T06:48:53.848126Z"
    },
    "executionInfo": {
     "elapsed": 149470,
     "status": "ok",
     "timestamp": 1689692732658,
     "user": {
      "displayName": "Ahmet Mesut BİROL",
      "userId": "04340760882990254267"
     },
     "user_tz": -180
    },
    "id": "Xpi8bsOAW4Es",
    "outputId": "64868965-abec-40c1-f3b3-03f44cd065c7",
    "tags": []
   },
   "outputs": [
    {
     "data": {
      "application/vnd.jupyter.widget-view+json": {
       "model_id": "f10bf494e47349afafa6ced0ee328583",
       "version_major": 2,
       "version_minor": 0
      },
      "text/plain": [
       "VBox()"
      ]
     },
     "metadata": {},
     "output_type": "display_data"
    },
    {
     "data": {
      "application/vnd.jupyter.widget-view+json": {
       "model_id": "",
       "version_major": 2,
       "version_minor": 0
      },
      "text/plain": [
       "FloatProgress(value=0.0, bar_style='info', description='Progress:', layout=Layout(height='25px', width='50%'),…"
      ]
     },
     "metadata": {},
     "output_type": "display_data"
    },
    {
     "name": "stdout",
     "output_type": "stream",
     "text": [
      "TF Graph Builder configuration:\n",
      "Model name: generic_classifier\n",
      "Graph folder: gc_graph\n",
      "Graph file name: gcf_graph_bert.pb\n",
      "Build params: {'input_dim': 768, 'output_dim': 4, 'hidden_layers': [300, 200, 50], 'hidden_act': 'tanh', 'hidden_act_l2': True, 'batch_norm': True}\n",
      "generic_classifier graph exported to gc_graph/gcf_graph_bert.pb"
     ]
    }
   ],
   "source": [
    "generic_model_bert = clf_Pipeline.fit(trainingData_with_embeddings)"
   ]
  },
  {
   "cell_type": "code",
   "execution_count": 289,
   "metadata": {
    "colab": {
     "base_uri": "https://localhost:8080/"
    },
    "execution": {
     "iopub.execute_input": "2023-09-01T06:52:18.055599Z",
     "iopub.status.busy": "2023-09-01T06:52:18.055378Z",
     "iopub.status.idle": "2023-09-01T06:52:37.381911Z",
     "shell.execute_reply": "2023-09-01T06:52:37.381138Z",
     "shell.execute_reply.started": "2023-09-01T06:52:18.055568Z"
    },
    "executionInfo": {
     "elapsed": 13854,
     "status": "ok",
     "timestamp": 1689692746495,
     "user": {
      "displayName": "Ahmet Mesut BİROL",
      "userId": "04340760882990254267"
     },
     "user_tz": -180
    },
    "id": "5aw-VIEhW4Es",
    "outputId": "8bbb4a4e-2da3-46e9-d377-069a5d0b4a60",
    "tags": []
   },
   "outputs": [
    {
     "data": {
      "application/vnd.jupyter.widget-view+json": {
       "model_id": "bcb9a2c742114a3ea283cf74069ff303",
       "version_major": 2,
       "version_minor": 0
      },
      "text/plain": [
       "VBox()"
      ]
     },
     "metadata": {},
     "output_type": "display_data"
    },
    {
     "data": {
      "application/vnd.jupyter.widget-view+json": {
       "model_id": "",
       "version_major": 2,
       "version_minor": 0
      },
      "text/plain": [
       "FloatProgress(value=0.0, bar_style='info', description='Progress:', layout=Layout(height='25px', width='50%'),…"
      ]
     },
     "metadata": {},
     "output_type": "display_data"
    },
    {
     "name": "stdout",
     "output_type": "stream",
     "text": [
      "                  precision    recall  f1-score   support\n",
      "\n",
      "Gastroenterology       1.00      0.92      0.96        25\n",
      "       Neurology       0.74      0.91      0.82        22\n",
      "      Orthopedic       0.90      0.80      0.85        35\n",
      "         Urology       0.86      0.90      0.88        20\n",
      "\n",
      "        accuracy                           0.87       102\n",
      "       macro avg       0.88      0.88      0.88       102\n",
      "    weighted avg       0.88      0.87      0.87       102"
     ]
    }
   ],
   "source": [
    "pred_df = generic_model_bert.transform(testData_with_embeddings)\n",
    "\n",
    "preds_df = pred_df.select('category','prediction.result').toPandas()\n",
    "preds_df['result'] = preds_df.result.apply(lambda x : x[0])\n",
    "\n",
    "print (classification_report(preds_df['category'], preds_df['result']))"
   ]
  },
  {
   "cell_type": "code",
   "execution_count": 290,
   "metadata": {
    "execution": {
     "iopub.execute_input": "2023-09-01T06:52:37.383101Z",
     "iopub.status.busy": "2023-09-01T06:52:37.382849Z",
     "iopub.status.idle": "2023-09-01T06:52:37.440204Z",
     "shell.execute_reply": "2023-09-01T06:52:37.439392Z",
     "shell.execute_reply.started": "2023-09-01T06:52:37.383071Z"
    },
    "id": "ieTBf7Wej1UD"
   },
   "outputs": [
    {
     "data": {
      "application/vnd.jupyter.widget-view+json": {
       "model_id": "bd46f568131942888357ebbd9c87719d",
       "version_major": 2,
       "version_minor": 0
      },
      "text/plain": [
       "VBox()"
      ]
     },
     "metadata": {},
     "output_type": "display_data"
    },
    {
     "data": {
      "application/vnd.jupyter.widget-view+json": {
       "model_id": "",
       "version_major": 2,
       "version_minor": 0
      },
      "text/plain": [
       "FloatProgress(value=0.0, bar_style='info', description='Progress:', layout=Layout(height='25px', width='50%'),…"
      ]
     },
     "metadata": {},
     "output_type": "display_data"
    }
   ],
   "source": [
    "res = classification_report(preds_df[\"category\"], preds_df[\"result\"], output_dict=True)\n",
    "results_df.loc[\"GenericClassifier_bert\"] = [res[\"macro avg\"][\"f1-score\"], res[\"weighted avg\"][\"f1-score\"], res[\"accuracy\"]]"
   ]
  },
  {
   "cell_type": "markdown",
   "metadata": {
    "id": "5q09e4l9XPgU"
   },
   "source": [
    "### GenericLogRegClassifier"
   ]
  },
  {
   "cell_type": "code",
   "execution_count": 291,
   "metadata": {
    "execution": {
     "iopub.execute_input": "2023-09-01T06:52:37.441730Z",
     "iopub.status.busy": "2023-09-01T06:52:37.441497Z",
     "iopub.status.idle": "2023-09-01T06:52:37.496225Z",
     "shell.execute_reply": "2023-09-01T06:52:37.495557Z",
     "shell.execute_reply.started": "2023-09-01T06:52:37.441701Z"
    },
    "id": "Q9DQJEOfXPgV"
   },
   "outputs": [
    {
     "data": {
      "application/vnd.jupyter.widget-view+json": {
       "model_id": "c5693c83fe114ef4b9def25f0ad4461a",
       "version_major": 2,
       "version_minor": 0
      },
      "text/plain": [
       "VBox()"
      ]
     },
     "metadata": {},
     "output_type": "display_data"
    },
    {
     "data": {
      "application/vnd.jupyter.widget-view+json": {
       "model_id": "",
       "version_major": 2,
       "version_minor": 0
      },
      "text/plain": [
       "FloatProgress(value=0.0, bar_style='info', description='Progress:', layout=Layout(height='25px', width='50%'),…"
      ]
     },
     "metadata": {},
     "output_type": "display_data"
    }
   ],
   "source": [
    "from sparknlp_jsl.annotator import TFGraphBuilder\n",
    "\n",
    "graph_folder = \"gc_graph\"\n",
    "\n",
    "gc_logreg_graph_builder = TFGraphBuilder()\\\n",
    "    .setModelName(\"logreg_classifier\")\\\n",
    "    .setInputCols([\"feature_vector\"]) \\\n",
    "    .setLabelColumn(\"category\")\\\n",
    "    .setGraphFolder(graph_folder)\\\n",
    "    .setGraphFile(\"log_reg_graph.pb\")"
   ]
  },
  {
   "cell_type": "markdown",
   "metadata": {
    "id": "DeC8XjkcXPgV"
   },
   "source": [
    "GenericLogRegClassifier needs outputs from FeaturesAssembler. The FeaturesAssembler is used to collect features from different columns or an embeddings column.\n",
    "\n",
    "The GenericLogRegClassifier takes FEATURE_VECTOR annotations as input, classifies them and outputs CATEGORY annotations."
   ]
  },
  {
   "cell_type": "code",
   "execution_count": 292,
   "metadata": {
    "execution": {
     "iopub.execute_input": "2023-09-01T06:52:37.497409Z",
     "iopub.status.busy": "2023-09-01T06:52:37.497195Z",
     "iopub.status.idle": "2023-09-01T06:52:37.550102Z",
     "shell.execute_reply": "2023-09-01T06:52:37.549386Z",
     "shell.execute_reply.started": "2023-09-01T06:52:37.497380Z"
    },
    "id": "eEGJ7oHQXPgV"
   },
   "outputs": [
    {
     "data": {
      "application/vnd.jupyter.widget-view+json": {
       "model_id": "54e74c4c4b54491f874ba4e094eaa3bb",
       "version_major": 2,
       "version_minor": 0
      },
      "text/plain": [
       "VBox()"
      ]
     },
     "metadata": {},
     "output_type": "display_data"
    },
    {
     "data": {
      "application/vnd.jupyter.widget-view+json": {
       "model_id": "",
       "version_major": 2,
       "version_minor": 0
      },
      "text/plain": [
       "FloatProgress(value=0.0, bar_style='info', description='Progress:', layout=Layout(height='25px', width='50%'),…"
      ]
     },
     "metadata": {},
     "output_type": "display_data"
    }
   ],
   "source": [
    "features_asm = FeaturesAssembler()\\\n",
    "    .setInputCols([\"sentence_embeddings\"])\\\n",
    "    .setOutputCol(\"feature_vector\")\n",
    "\n",
    "gen_clf = GenericLogRegClassifierApproach()\\\n",
    "    .setLabelColumn(\"category\")\\\n",
    "    .setInputCols(\"feature_vector\")\\\n",
    "    .setOutputCol(\"prediction\")\\\n",
    "    .setModelFile(f\"{graph_folder}/log_reg_graph.pb\")\\\n",
    "    .setEpochsNumber(30)\\\n",
    "    .setBatchSize(64)\\\n",
    "    .setLearningRate(0.004)\\\n",
    "    .setOutputLogsPath(log_folder)\\\n",
    "    .setDropout(0.1)\\\n",
    "    .setFixImbalance(True)\\\n",
    "    # .setValidationSplit(0.1)\n",
    "\n",
    "clf_Pipeline = Pipeline(stages=[\n",
    "    features_asm,\n",
    "    gc_logreg_graph_builder,\n",
    "    gen_clf])\n"
   ]
  },
  {
   "cell_type": "code",
   "execution_count": 293,
   "metadata": {
    "colab": {
     "base_uri": "https://localhost:8080/"
    },
    "execution": {
     "iopub.execute_input": "2023-09-01T06:52:37.551284Z",
     "iopub.status.busy": "2023-09-01T06:52:37.551067Z",
     "iopub.status.idle": "2023-09-01T06:55:49.389084Z",
     "shell.execute_reply": "2023-09-01T06:55:49.388273Z",
     "shell.execute_reply.started": "2023-09-01T06:52:37.551255Z"
    },
    "executionInfo": {
     "elapsed": 141924,
     "status": "ok",
     "timestamp": 1689692888395,
     "user": {
      "displayName": "Ahmet Mesut BİROL",
      "userId": "04340760882990254267"
     },
     "user_tz": -180
    },
    "id": "2mw3fPhtXPgV",
    "outputId": "6e9c7371-2ebd-4437-a911-745654f73738",
    "tags": []
   },
   "outputs": [
    {
     "data": {
      "application/vnd.jupyter.widget-view+json": {
       "model_id": "3395280e48764691a4a922f9f87134ce",
       "version_major": 2,
       "version_minor": 0
      },
      "text/plain": [
       "VBox()"
      ]
     },
     "metadata": {},
     "output_type": "display_data"
    },
    {
     "data": {
      "application/vnd.jupyter.widget-view+json": {
       "model_id": "",
       "version_major": 2,
       "version_minor": 0
      },
      "text/plain": [
       "FloatProgress(value=0.0, bar_style='info', description='Progress:', layout=Layout(height='25px', width='50%'),…"
      ]
     },
     "metadata": {},
     "output_type": "display_data"
    },
    {
     "name": "stdout",
     "output_type": "stream",
     "text": [
      "TF Graph Builder configuration:\n",
      "Model name: logreg_classifier\n",
      "Graph folder: gc_graph\n",
      "Graph file name: log_reg_graph.pb\n",
      "Build params: {'input_dim': 768, 'output_dim': 4, 'hidden_layers': [], 'output_act': 'sigmoid'}\n",
      "logreg_classifier graph exported to gc_graph/log_reg_graph.pb"
     ]
    }
   ],
   "source": [
    "generic_model_bert = clf_Pipeline.fit(trainingData_with_embeddings)"
   ]
  },
  {
   "cell_type": "code",
   "execution_count": 294,
   "metadata": {
    "execution": {
     "iopub.execute_input": "2023-09-01T06:55:49.390378Z",
     "iopub.status.busy": "2023-09-01T06:55:49.390149Z",
     "iopub.status.idle": "2023-09-01T06:55:58.681026Z",
     "shell.execute_reply": "2023-09-01T06:55:58.680279Z",
     "shell.execute_reply.started": "2023-09-01T06:55:49.390347Z"
    },
    "id": "h5Zqfx_WXPgV"
   },
   "outputs": [
    {
     "data": {
      "application/vnd.jupyter.widget-view+json": {
       "model_id": "7a4e62698f8248c19da30b55c76f12e9",
       "version_major": 2,
       "version_minor": 0
      },
      "text/plain": [
       "VBox()"
      ]
     },
     "metadata": {},
     "output_type": "display_data"
    },
    {
     "data": {
      "application/vnd.jupyter.widget-view+json": {
       "model_id": "",
       "version_major": 2,
       "version_minor": 0
      },
      "text/plain": [
       "FloatProgress(value=0.0, bar_style='info', description='Progress:', layout=Layout(height='25px', width='50%'),…"
      ]
     },
     "metadata": {},
     "output_type": "display_data"
    }
   ],
   "source": [
    "pred_df = generic_model_bert.transform(testData_with_embeddings)"
   ]
  },
  {
   "cell_type": "code",
   "execution_count": 295,
   "metadata": {
    "colab": {
     "base_uri": "https://localhost:8080/"
    },
    "execution": {
     "iopub.execute_input": "2023-09-01T06:55:58.682273Z",
     "iopub.status.busy": "2023-09-01T06:55:58.682043Z",
     "iopub.status.idle": "2023-09-01T06:56:08.668776Z",
     "shell.execute_reply": "2023-09-01T06:56:08.667794Z",
     "shell.execute_reply.started": "2023-09-01T06:55:58.682241Z"
    },
    "executionInfo": {
     "elapsed": 7065,
     "status": "ok",
     "timestamp": 1689692902409,
     "user": {
      "displayName": "Ahmet Mesut BİROL",
      "userId": "04340760882990254267"
     },
     "user_tz": -180
    },
    "id": "gk6E1IuzXPgW",
    "outputId": "1e598c50-e564-4704-825c-e7f51d6afefc"
   },
   "outputs": [
    {
     "data": {
      "application/vnd.jupyter.widget-view+json": {
       "model_id": "d7b3fff8d9c848f9a552a3cb217b4365",
       "version_major": 2,
       "version_minor": 0
      },
      "text/plain": [
       "VBox()"
      ]
     },
     "metadata": {},
     "output_type": "display_data"
    },
    {
     "data": {
      "application/vnd.jupyter.widget-view+json": {
       "model_id": "",
       "version_major": 2,
       "version_minor": 0
      },
      "text/plain": [
       "FloatProgress(value=0.0, bar_style='info', description='Progress:', layout=Layout(height='25px', width='50%'),…"
      ]
     },
     "metadata": {},
     "output_type": "display_data"
    },
    {
     "name": "stdout",
     "output_type": "stream",
     "text": [
      "                  precision    recall  f1-score   support\n",
      "\n",
      "Gastroenterology       0.96      0.92      0.94        25\n",
      "       Neurology       0.81      0.77      0.79        22\n",
      "      Orthopedic       0.88      0.86      0.87        35\n",
      "         Urology       0.83      0.95      0.88        20\n",
      "\n",
      "        accuracy                           0.87       102\n",
      "       macro avg       0.87      0.87      0.87       102\n",
      "    weighted avg       0.87      0.87      0.87       102"
     ]
    }
   ],
   "source": [
    "preds_df = pred_df.select('category','prediction.result').toPandas()\n",
    "preds_df['result'] = preds_df.result.apply(lambda x : x[0])\n",
    "\n",
    "print (classification_report(preds_df['category'], preds_df['result']))"
   ]
  },
  {
   "cell_type": "code",
   "execution_count": 296,
   "metadata": {
    "execution": {
     "iopub.execute_input": "2023-09-01T06:56:08.670677Z",
     "iopub.status.busy": "2023-09-01T06:56:08.670321Z",
     "iopub.status.idle": "2023-09-01T06:56:08.740126Z",
     "shell.execute_reply": "2023-09-01T06:56:08.739346Z",
     "shell.execute_reply.started": "2023-09-01T06:56:08.670625Z"
    },
    "id": "2sB_dAzvkdbS"
   },
   "outputs": [
    {
     "data": {
      "application/vnd.jupyter.widget-view+json": {
       "model_id": "44ced1c53fff42308e2b352e772123aa",
       "version_major": 2,
       "version_minor": 0
      },
      "text/plain": [
       "VBox()"
      ]
     },
     "metadata": {},
     "output_type": "display_data"
    },
    {
     "data": {
      "application/vnd.jupyter.widget-view+json": {
       "model_id": "",
       "version_major": 2,
       "version_minor": 0
      },
      "text/plain": [
       "FloatProgress(value=0.0, bar_style='info', description='Progress:', layout=Layout(height='25px', width='50%'),…"
      ]
     },
     "metadata": {},
     "output_type": "display_data"
    }
   ],
   "source": [
    "res = classification_report(preds_df[\"category\"], preds_df[\"result\"], output_dict=True)\n",
    "results_df.loc[\"GenericCLogReg_bert\"] = [res[\"macro avg\"][\"f1-score\"], res[\"weighted avg\"][\"f1-score\"], res[\"accuracy\"]]"
   ]
  },
  {
   "cell_type": "markdown",
   "metadata": {
    "id": "2Ninh1PfXbR1"
   },
   "source": [
    "### GenericSVMClassifier"
   ]
  },
  {
   "cell_type": "code",
   "execution_count": 297,
   "metadata": {
    "execution": {
     "iopub.execute_input": "2023-09-01T06:56:08.741794Z",
     "iopub.status.busy": "2023-09-01T06:56:08.741446Z",
     "iopub.status.idle": "2023-09-01T06:56:09.149415Z",
     "shell.execute_reply": "2023-09-01T06:56:09.144538Z",
     "shell.execute_reply.started": "2023-09-01T06:56:08.741745Z"
    },
    "id": "-HiP42eZXbR1",
    "tags": []
   },
   "outputs": [
    {
     "data": {
      "application/vnd.jupyter.widget-view+json": {
       "model_id": "644e33f4b0af4c29ac09a386440937b4",
       "version_major": 2,
       "version_minor": 0
      },
      "text/plain": [
       "VBox()"
      ]
     },
     "metadata": {},
     "output_type": "display_data"
    },
    {
     "data": {
      "application/vnd.jupyter.widget-view+json": {
       "model_id": "",
       "version_major": 2,
       "version_minor": 0
      },
      "text/plain": [
       "FloatProgress(value=0.0, bar_style='info', description='Progress:', layout=Layout(height='25px', width='50%'),…"
      ]
     },
     "metadata": {},
     "output_type": "display_data"
    }
   ],
   "source": [
    "from sparknlp_jsl.annotator import TFGraphBuilder\n",
    "\n",
    "graph_folder = \"gc_graph\"\n",
    "\n",
    "gc_svm_graph_builder = TFGraphBuilder()\\\n",
    "    .setModelName(\"svm_classifier\")\\\n",
    "    .setInputCols([\"feature_vector\"]) \\\n",
    "    .setLabelColumn(\"category\")\\\n",
    "    .setGraphFolder(graph_folder)\\\n",
    "    .setGraphFile(\"svm_graph.pb\")"
   ]
  },
  {
   "cell_type": "markdown",
   "metadata": {
    "id": "PgSWTx2_XbR1"
   },
   "source": [
    "GenericSVMClassifier needs outputs from FeaturesAssembler. The FeaturesAssembler is used to collect features from different columns or an embeddings column.\n",
    "\n",
    "The GenericSVMClassifier takes FEATURE_VECTOR annotations as input, classifies them and outputs CATEGORY annotations."
   ]
  },
  {
   "cell_type": "code",
   "execution_count": 298,
   "metadata": {
    "execution": {
     "iopub.execute_input": "2023-09-01T06:56:09.150589Z",
     "iopub.status.busy": "2023-09-01T06:56:09.150374Z",
     "iopub.status.idle": "2023-09-01T06:56:09.204708Z",
     "shell.execute_reply": "2023-09-01T06:56:09.203998Z",
     "shell.execute_reply.started": "2023-09-01T06:56:09.150559Z"
    },
    "id": "IfKccrLdXbR1"
   },
   "outputs": [
    {
     "data": {
      "application/vnd.jupyter.widget-view+json": {
       "model_id": "e4d511d90d8c4c7098ae7a6c0f3efeb8",
       "version_major": 2,
       "version_minor": 0
      },
      "text/plain": [
       "VBox()"
      ]
     },
     "metadata": {},
     "output_type": "display_data"
    },
    {
     "data": {
      "application/vnd.jupyter.widget-view+json": {
       "model_id": "",
       "version_major": 2,
       "version_minor": 0
      },
      "text/plain": [
       "FloatProgress(value=0.0, bar_style='info', description='Progress:', layout=Layout(height='25px', width='50%'),…"
      ]
     },
     "metadata": {},
     "output_type": "display_data"
    }
   ],
   "source": [
    "features_asm = FeaturesAssembler()\\\n",
    "    .setInputCols([\"sentence_embeddings\"])\\\n",
    "    .setOutputCol(\"feature_vector\")\n",
    "\n",
    "gen_clf = GenericSVMClassifierApproach()\\\n",
    "    .setLabelColumn(\"category\")\\\n",
    "    .setInputCols(\"feature_vector\")\\\n",
    "    .setOutputCol(\"prediction\")\\\n",
    "    .setModelFile(f\"{graph_folder}/svm_graph.pb\")\\\n",
    "    .setEpochsNumber(30)\\\n",
    "    .setBatchSize(64)\\\n",
    "    .setLearningRate(0.004)\\\n",
    "    .setOutputLogsPath(log_folder)\\\n",
    "    .setDropout(0.1)\\\n",
    "    .setFixImbalance(True)\\\n",
    "    # .setValidationSplit(0.1)\n",
    "\n",
    "clf_Pipeline = Pipeline(stages=[\n",
    "    features_asm,\n",
    "    gc_svm_graph_builder,\n",
    "    gen_clf])\n"
   ]
  },
  {
   "cell_type": "code",
   "execution_count": 299,
   "metadata": {
    "colab": {
     "base_uri": "https://localhost:8080/"
    },
    "execution": {
     "iopub.execute_input": "2023-09-01T06:56:09.205897Z",
     "iopub.status.busy": "2023-09-01T06:56:09.205688Z",
     "iopub.status.idle": "2023-09-01T06:59:19.056371Z",
     "shell.execute_reply": "2023-09-01T06:59:19.055629Z",
     "shell.execute_reply.started": "2023-09-01T06:56:09.205869Z"
    },
    "executionInfo": {
     "elapsed": 143591,
     "status": "ok",
     "timestamp": 1689693045994,
     "user": {
      "displayName": "Ahmet Mesut BİROL",
      "userId": "04340760882990254267"
     },
     "user_tz": -180
    },
    "id": "3PSzGUAKXbR2",
    "outputId": "16a9b1e9-2901-4d40-99df-666bced78f57",
    "tags": []
   },
   "outputs": [
    {
     "data": {
      "application/vnd.jupyter.widget-view+json": {
       "model_id": "43c09c1a42bd41ae99d6c66968810dad",
       "version_major": 2,
       "version_minor": 0
      },
      "text/plain": [
       "VBox()"
      ]
     },
     "metadata": {},
     "output_type": "display_data"
    },
    {
     "data": {
      "application/vnd.jupyter.widget-view+json": {
       "model_id": "",
       "version_major": 2,
       "version_minor": 0
      },
      "text/plain": [
       "FloatProgress(value=0.0, bar_style='info', description='Progress:', layout=Layout(height='25px', width='50%'),…"
      ]
     },
     "metadata": {},
     "output_type": "display_data"
    },
    {
     "name": "stdout",
     "output_type": "stream",
     "text": [
      "TF Graph Builder configuration:\n",
      "Model name: svm_classifier\n",
      "Graph folder: gc_graph\n",
      "Graph file name: svm_graph.pb\n",
      "Build params: {'input_dim': 768, 'output_dim': 4, 'hidden_layers': [], 'output_act': 'sigmoid', 'loss_func': 'hinge'}\n",
      "svm_classifier graph exported to gc_graph/svm_graph.pb"
     ]
    }
   ],
   "source": [
    "generic_model_bert = clf_Pipeline.fit(trainingData_with_embeddings)"
   ]
  },
  {
   "cell_type": "code",
   "execution_count": 300,
   "metadata": {
    "execution": {
     "iopub.execute_input": "2023-09-01T06:59:19.057626Z",
     "iopub.status.busy": "2023-09-01T06:59:19.057397Z",
     "iopub.status.idle": "2023-09-01T06:59:29.111062Z",
     "shell.execute_reply": "2023-09-01T06:59:29.110341Z",
     "shell.execute_reply.started": "2023-09-01T06:59:19.057595Z"
    },
    "id": "Guibj0k8XbR2"
   },
   "outputs": [
    {
     "data": {
      "application/vnd.jupyter.widget-view+json": {
       "model_id": "3700c5b05b3449cb9967c5361aaa9ae6",
       "version_major": 2,
       "version_minor": 0
      },
      "text/plain": [
       "VBox()"
      ]
     },
     "metadata": {},
     "output_type": "display_data"
    },
    {
     "data": {
      "application/vnd.jupyter.widget-view+json": {
       "model_id": "",
       "version_major": 2,
       "version_minor": 0
      },
      "text/plain": [
       "FloatProgress(value=0.0, bar_style='info', description='Progress:', layout=Layout(height='25px', width='50%'),…"
      ]
     },
     "metadata": {},
     "output_type": "display_data"
    }
   ],
   "source": [
    "pred_df = generic_model_bert.transform(testData_with_embeddings)"
   ]
  },
  {
   "cell_type": "code",
   "execution_count": 301,
   "metadata": {
    "colab": {
     "base_uri": "https://localhost:8080/"
    },
    "execution": {
     "iopub.execute_input": "2023-09-01T06:59:29.112322Z",
     "iopub.status.busy": "2023-09-01T06:59:29.112090Z",
     "iopub.status.idle": "2023-09-01T06:59:38.415550Z",
     "shell.execute_reply": "2023-09-01T06:59:38.414784Z",
     "shell.execute_reply.started": "2023-09-01T06:59:29.112286Z"
    },
    "executionInfo": {
     "elapsed": 6732,
     "status": "ok",
     "timestamp": 1689693059676,
     "user": {
      "displayName": "Ahmet Mesut BİROL",
      "userId": "04340760882990254267"
     },
     "user_tz": -180
    },
    "id": "ElyprrUMXbR2",
    "outputId": "8ad63560-9bcd-4dbf-9467-eab5492e8dc4"
   },
   "outputs": [
    {
     "data": {
      "application/vnd.jupyter.widget-view+json": {
       "model_id": "bae76bfc99304a14afa50188ac492595",
       "version_major": 2,
       "version_minor": 0
      },
      "text/plain": [
       "VBox()"
      ]
     },
     "metadata": {},
     "output_type": "display_data"
    },
    {
     "data": {
      "application/vnd.jupyter.widget-view+json": {
       "model_id": "",
       "version_major": 2,
       "version_minor": 0
      },
      "text/plain": [
       "FloatProgress(value=0.0, bar_style='info', description='Progress:', layout=Layout(height='25px', width='50%'),…"
      ]
     },
     "metadata": {},
     "output_type": "display_data"
    },
    {
     "name": "stdout",
     "output_type": "stream",
     "text": [
      "                  precision    recall  f1-score   support\n",
      "\n",
      "Gastroenterology       0.96      0.92      0.94        25\n",
      "       Neurology       0.75      0.95      0.84        22\n",
      "      Orthopedic       0.93      0.80      0.86        35\n",
      "         Urology       0.85      0.85      0.85        20\n",
      "\n",
      "        accuracy                           0.87       102\n",
      "       macro avg       0.87      0.88      0.87       102\n",
      "    weighted avg       0.88      0.87      0.87       102"
     ]
    }
   ],
   "source": [
    "preds_df = pred_df.select('category','prediction.result').toPandas()\n",
    "preds_df['result'] = preds_df.result.apply(lambda x : x[0])\n",
    "\n",
    "print (classification_report(preds_df['category'], preds_df['result']))"
   ]
  },
  {
   "cell_type": "code",
   "execution_count": 302,
   "metadata": {
    "execution": {
     "iopub.execute_input": "2023-09-01T06:59:38.416759Z",
     "iopub.status.busy": "2023-09-01T06:59:38.416534Z",
     "iopub.status.idle": "2023-09-01T06:59:38.480042Z",
     "shell.execute_reply": "2023-09-01T06:59:38.479331Z",
     "shell.execute_reply.started": "2023-09-01T06:59:38.416729Z"
    },
    "id": "63on6qAtkl_U"
   },
   "outputs": [
    {
     "data": {
      "application/vnd.jupyter.widget-view+json": {
       "model_id": "6df61b181aec4b89aa28a3c2e73be9f3",
       "version_major": 2,
       "version_minor": 0
      },
      "text/plain": [
       "VBox()"
      ]
     },
     "metadata": {},
     "output_type": "display_data"
    },
    {
     "data": {
      "application/vnd.jupyter.widget-view+json": {
       "model_id": "",
       "version_major": 2,
       "version_minor": 0
      },
      "text/plain": [
       "FloatProgress(value=0.0, bar_style='info', description='Progress:', layout=Layout(height='25px', width='50%'),…"
      ]
     },
     "metadata": {},
     "output_type": "display_data"
    }
   ],
   "source": [
    "res = classification_report(preds_df[\"category\"], preds_df[\"result\"], output_dict=True)\n",
    "results_df.loc[\"GenericCSVM_bert\"] = [res[\"macro avg\"][\"f1-score\"], res[\"weighted avg\"][\"f1-score\"], res[\"accuracy\"]]"
   ]
  },
  {
   "cell_type": "markdown",
   "metadata": {
    "id": "hJCE-sWM9oaK"
   },
   "source": [
    "## DocumentLogRegClassifier"
   ]
  },
  {
   "cell_type": "code",
   "execution_count": 303,
   "metadata": {
    "execution": {
     "iopub.execute_input": "2023-09-01T06:59:38.481282Z",
     "iopub.status.busy": "2023-09-01T06:59:38.481054Z",
     "iopub.status.idle": "2023-09-01T06:59:51.827806Z",
     "shell.execute_reply": "2023-09-01T06:59:51.826898Z",
     "shell.execute_reply.started": "2023-09-01T06:59:38.481252Z"
    },
    "id": "FUHSa7b79oaK"
   },
   "outputs": [
    {
     "data": {
      "application/vnd.jupyter.widget-view+json": {
       "model_id": "4c492647017d48b4b5ee3bceb7a39ae7",
       "version_major": 2,
       "version_minor": 0
      },
      "text/plain": [
       "VBox()"
      ]
     },
     "metadata": {},
     "output_type": "display_data"
    },
    {
     "data": {
      "application/vnd.jupyter.widget-view+json": {
       "model_id": "",
       "version_major": 2,
       "version_minor": 0
      },
      "text/plain": [
       "FloatProgress(value=0.0, bar_style='info', description='Progress:', layout=Layout(height='25px', width='50%'),…"
      ]
     },
     "metadata": {},
     "output_type": "display_data"
    }
   ],
   "source": [
    "document_assembler = DocumentAssembler()\\\n",
    "    .setInputCol(\"text\")\\\n",
    "    .setOutputCol(\"document\")\n",
    "\n",
    "tokenizer = Tokenizer() \\\n",
    "    .setInputCols([\"document\"]) \\\n",
    "    .setOutputCol(\"token\")\n",
    "\n",
    "logreg = DocumentLogRegClassifierApproach()\\\n",
    "    .setInputCols(\"token\")\\\n",
    "    .setLabelCol(\"category\")\\\n",
    "    .setOutputCol(\"prediction\")\\\n",
    "    .setMaxIter(10)\\\n",
    "    .setTol(1e-6)\n",
    "\n",
    "clf_Pipeline = Pipeline(stages=[document_assembler,\n",
    "                                tokenizer,\n",
    "                                logreg])\n",
    "\n",
    "doclogreg_model = clf_Pipeline.fit(trainingData)"
   ]
  },
  {
   "cell_type": "code",
   "execution_count": 304,
   "metadata": {
    "colab": {
     "base_uri": "https://localhost:8080/"
    },
    "execution": {
     "iopub.execute_input": "2023-09-01T06:59:51.829008Z",
     "iopub.status.busy": "2023-09-01T06:59:51.828761Z",
     "iopub.status.idle": "2023-09-01T06:59:57.121427Z",
     "shell.execute_reply": "2023-09-01T06:59:57.120428Z",
     "shell.execute_reply.started": "2023-09-01T06:59:51.828976Z"
    },
    "executionInfo": {
     "elapsed": 2577,
     "status": "ok",
     "timestamp": 1689693077573,
     "user": {
      "displayName": "Ahmet Mesut BİROL",
      "userId": "04340760882990254267"
     },
     "user_tz": -180
    },
    "id": "PbOx1a7X9oaK",
    "outputId": "4bae5b3b-1c72-4a8c-a4eb-39305926a667"
   },
   "outputs": [
    {
     "data": {
      "application/vnd.jupyter.widget-view+json": {
       "model_id": "3af71448c81e49d28c1606ddd35d7713",
       "version_major": 2,
       "version_minor": 0
      },
      "text/plain": [
       "VBox()"
      ]
     },
     "metadata": {},
     "output_type": "display_data"
    },
    {
     "data": {
      "application/vnd.jupyter.widget-view+json": {
       "model_id": "",
       "version_major": 2,
       "version_minor": 0
      },
      "text/plain": [
       "FloatProgress(value=0.0, bar_style='info', description='Progress:', layout=Layout(height='25px', width='50%'),…"
      ]
     },
     "metadata": {},
     "output_type": "display_data"
    },
    {
     "name": "stdout",
     "output_type": "stream",
     "text": [
      "                  precision    recall  f1-score   support\n",
      "\n",
      "Gastroenterology       0.88      0.88      0.88        25\n",
      "       Neurology       0.81      0.77      0.79        22\n",
      "      Orthopedic       0.86      0.89      0.87        35\n",
      "         Urology       0.90      0.90      0.90        20\n",
      "\n",
      "        accuracy                           0.86       102\n",
      "       macro avg       0.86      0.86      0.86       102\n",
      "    weighted avg       0.86      0.86      0.86       102"
     ]
    }
   ],
   "source": [
    "pred_df = doclogreg_model.transform(testData)\n",
    "\n",
    "preds_df = pred_df.select('category','prediction.result').toPandas()\n",
    "preds_df['result'] = preds_df.result.apply(lambda x : x[0])\n",
    "\n",
    "print (classification_report(preds_df['category'], preds_df['result']))"
   ]
  },
  {
   "cell_type": "code",
   "execution_count": 305,
   "metadata": {
    "execution": {
     "iopub.execute_input": "2023-09-01T06:59:57.123269Z",
     "iopub.status.busy": "2023-09-01T06:59:57.122905Z",
     "iopub.status.idle": "2023-09-01T06:59:57.184776Z",
     "shell.execute_reply": "2023-09-01T06:59:57.184053Z",
     "shell.execute_reply.started": "2023-09-01T06:59:57.123217Z"
    },
    "id": "QT540LO1k8ot"
   },
   "outputs": [
    {
     "data": {
      "application/vnd.jupyter.widget-view+json": {
       "model_id": "95e366509a664cc6bdcd57872ba2633b",
       "version_major": 2,
       "version_minor": 0
      },
      "text/plain": [
       "VBox()"
      ]
     },
     "metadata": {},
     "output_type": "display_data"
    },
    {
     "data": {
      "application/vnd.jupyter.widget-view+json": {
       "model_id": "",
       "version_major": 2,
       "version_minor": 0
      },
      "text/plain": [
       "FloatProgress(value=0.0, bar_style='info', description='Progress:', layout=Layout(height='25px', width='50%'),…"
      ]
     },
     "metadata": {},
     "output_type": "display_data"
    }
   ],
   "source": [
    "res = classification_report(preds_df[\"category\"], preds_df[\"result\"], output_dict=True)\n",
    "results_df.loc[\"DocumentLogRegClassifier\"] = [res[\"macro avg\"][\"f1-score\"], res[\"weighted avg\"][\"f1-score\"], res[\"accuracy\"]]"
   ]
  },
  {
   "cell_type": "markdown",
   "metadata": {
    "id": "RWOdB2ajIjs6"
   },
   "source": [
    "## Comparision of All Models' Result in Mtsamples Dataset"
   ]
  },
  {
   "cell_type": "markdown",
   "metadata": {
    "id": "K4Uti1kLIjs7"
   },
   "source": [
    "Here is the all results of classifier models. Macro f1, weighted f1 and accuracy scores are presented."
   ]
  },
  {
   "cell_type": "code",
   "execution_count": 309,
   "metadata": {
    "execution": {
     "iopub.execute_input": "2023-09-01T07:01:35.565753Z",
     "iopub.status.busy": "2023-09-01T07:01:35.565361Z",
     "iopub.status.idle": "2023-09-01T07:01:35.649221Z",
     "shell.execute_reply": "2023-09-01T07:01:35.648487Z",
     "shell.execute_reply.started": "2023-09-01T07:01:35.565709Z"
    },
    "tags": []
   },
   "outputs": [
    {
     "data": {
      "application/vnd.jupyter.widget-view+json": {
       "model_id": "c129ea6ee371440d9aaf0a3c8f257cdb",
       "version_major": 2,
       "version_minor": 0
      },
      "text/plain": [
       "VBox()"
      ]
     },
     "metadata": {},
     "output_type": "display_data"
    },
    {
     "data": {
      "application/vnd.jupyter.widget-view+json": {
       "model_id": "",
       "version_major": 2,
       "version_minor": 0
      },
      "text/plain": [
       "FloatProgress(value=0.0, bar_style='info', description='Progress:', layout=Layout(height='25px', width='50%'),…"
      ]
     },
     "metadata": {},
     "output_type": "display_data"
    }
   ],
   "source": [
    "# results_df.to_html().replace('\\n','')"
   ]
  },
  {
   "cell_type": "code",
   "execution_count": 310,
   "metadata": {
    "execution": {
     "iopub.execute_input": "2023-09-01T07:01:43.867295Z",
     "iopub.status.busy": "2023-09-01T07:01:43.867026Z",
     "iopub.status.idle": "2023-09-01T07:01:43.873348Z",
     "shell.execute_reply": "2023-09-01T07:01:43.872532Z",
     "shell.execute_reply.started": "2023-09-01T07:01:43.867264Z"
    },
    "tags": []
   },
   "outputs": [
    {
     "data": {
      "text/html": [
       "'<table border=\"1\" class=\"dataframe\">  <thead>    <tr style=\"text-align: right;\">      <th></th>      <th>macro-f1-score</th>      <th>weighted-f1-score</th>      <th>accuracy</th>    </tr>  </thead>  <tbody>    <tr>      <th>ClassifierDL_100d</th>      <td>0.576161</td>      <td>0.635125</td>      <td>0.705882</td>    </tr>    <tr>      <th>MultiClassifierDL_100d</th>      <td>0.885247</td>      <td>0.886721</td>      <td>0.887755</td>    </tr>    <tr>      <th>GenericClassifier_100d</th>      <td>0.889272</td>      <td>0.891150</td>      <td>0.892157</td>    </tr>    <tr>      <th>GenericLogReg_100d</th>      <td>0.847574</td>      <td>0.853001</td>      <td>0.852941</td>    </tr>    <tr>      <th>GenericSVM_100d</th>      <td>0.857103</td>      <td>0.861967</td>      <td>0.862745</td>    </tr>    <tr>      <th>ClassifierDL_200d</th>      <td>0.127737</td>      <td>0.175326</td>      <td>0.343137</td>    </tr>    <tr>      <th>MultiClassifierDL_200d</th>      <td>0.906453</td>      <td>0.907969</td>      <td>0.908163</td>    </tr>    <tr>      <th>GenericClassifier_200d</th>      <td>0.852994</td>      <td>0.859947</td>      <td>0.862745</td>    </tr>    <tr>      <th>GenericLogReg_200d</th>      <td>0.832973</td>      <td>0.841335</td>      <td>0.843137</td>    </tr>    <tr>      <th>GenericSVM_200d</th>      <td>0.838688</td>      <td>0.843115</td>      <td>0.843137</td>    </tr>    <tr>      <th>ClassifierDL_bert</th>      <td>0.883644</td>      <td>0.882072</td>      <td>0.882353</td>    </tr>    <tr>      <th>MultiClassifierDL_bert</th>      <td>0.884821</td>      <td>0.887095</td>      <td>0.886598</td>    </tr>    <tr>      <th>GenericClassifier_bert</th>      <td>0.875298</td>      <td>0.874269</td>      <td>0.872549</td>    </tr>    <tr>      <th>GenericCLogReg_bert</th>      <td>0.870690</td>      <td>0.872294</td>      <td>0.872549</td>    </tr>    <tr>      <th>GenericCSVM_bert</th>      <td>0.872578</td>      <td>0.873561</td>      <td>0.872549</td>    </tr>    <tr>      <th>DocumentLogRegClassifier</th>      <td>0.860984</td>      <td>0.862340</td>      <td>0.862745</td>    </tr>  </tbody></table>'\n"
      ],
      "text/plain": [
       "<IPython.core.display.HTML object>"
      ]
     },
     "metadata": {},
     "output_type": "display_data"
    }
   ],
   "source": [
    "%%html\n",
    "'<table border=\"1\" class=\"dataframe\">  <thead>    <tr style=\"text-align: right;\">      <th></th>      <th>macro-f1-score</th>      <th>weighted-f1-score</th>      <th>accuracy</th>    </tr>  </thead>  <tbody>    <tr>      <th>ClassifierDL_100d</th>      <td>0.576161</td>      <td>0.635125</td>      <td>0.705882</td>    </tr>    <tr>      <th>MultiClassifierDL_100d</th>      <td>0.885247</td>      <td>0.886721</td>      <td>0.887755</td>    </tr>    <tr>      <th>GenericClassifier_100d</th>      <td>0.889272</td>      <td>0.891150</td>      <td>0.892157</td>    </tr>    <tr>      <th>GenericLogReg_100d</th>      <td>0.847574</td>      <td>0.853001</td>      <td>0.852941</td>    </tr>    <tr>      <th>GenericSVM_100d</th>      <td>0.857103</td>      <td>0.861967</td>      <td>0.862745</td>    </tr>    <tr>      <th>ClassifierDL_200d</th>      <td>0.127737</td>      <td>0.175326</td>      <td>0.343137</td>    </tr>    <tr>      <th>MultiClassifierDL_200d</th>      <td>0.906453</td>      <td>0.907969</td>      <td>0.908163</td>    </tr>    <tr>      <th>GenericClassifier_200d</th>      <td>0.852994</td>      <td>0.859947</td>      <td>0.862745</td>    </tr>    <tr>      <th>GenericLogReg_200d</th>      <td>0.832973</td>      <td>0.841335</td>      <td>0.843137</td>    </tr>    <tr>      <th>GenericSVM_200d</th>      <td>0.838688</td>      <td>0.843115</td>      <td>0.843137</td>    </tr>    <tr>      <th>ClassifierDL_bert</th>      <td>0.883644</td>      <td>0.882072</td>      <td>0.882353</td>    </tr>    <tr>      <th>MultiClassifierDL_bert</th>      <td>0.884821</td>      <td>0.887095</td>      <td>0.886598</td>    </tr>    <tr>      <th>GenericClassifier_bert</th>      <td>0.875298</td>      <td>0.874269</td>      <td>0.872549</td>    </tr>    <tr>      <th>GenericCLogReg_bert</th>      <td>0.870690</td>      <td>0.872294</td>      <td>0.872549</td>    </tr>    <tr>      <th>GenericCSVM_bert</th>      <td>0.872578</td>      <td>0.873561</td>      <td>0.872549</td>    </tr>    <tr>      <th>DocumentLogRegClassifier</th>      <td>0.860984</td>      <td>0.862340</td>      <td>0.862745</td>    </tr>  </tbody></table>'"
   ]
  }
 ],
 "metadata": {
  "accelerator": "TPU",
  "colab": {
   "machine_shape": "hm",
   "provenance": [],
   "toc_visible": true
  },
  "kernelspec": {
   "display_name": "PySpark",
   "language": "",
   "name": "pysparkkernel"
  },
  "language_info": {
   "codemirror_mode": {
    "name": "python",
    "version": 3
   },
   "mimetype": "text/x-python",
   "name": "pyspark",
   "pygments_lexer": "python3"
  },
  "vscode": {
   "interpreter": {
    "hash": "8f527f757492231011ff0f96452bff72dba1ece595fe9390d852b709bf8922e1"
   }
  }
 },
 "nbformat": 4,
 "nbformat_minor": 4
}

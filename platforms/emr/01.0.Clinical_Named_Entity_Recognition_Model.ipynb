{
 "cells": [
  {
   "cell_type": "markdown",
   "metadata": {},
   "source": [
    "![JohnSnowLabs](https://nlp.johnsnowlabs.com/assets/images/logo.png)"
   ]
  },
  {
   "cell_type": "code",
   "execution_count": null,
   "metadata": {},
   "outputs": [],
   "source": []
  },
  {
   "cell_type": "markdown",
   "metadata": {},
   "source": [
    "[![Open In Colab](https://colab.research.google.com/assets/colab-badge.svg)](https://colab.research.google.com/github/JohnSnowLabs/spark-nlp-workshop/blob/master/healthcare-nlp/01.0.Clinical_Named_Entity_Recognition_Model.ipynb)"
   ]
  },
  {
   "cell_type": "markdown",
   "metadata": {},
   "source": [
    "# Clinical Named Entity Recognition (NER)"
   ]
  },
  {
   "cell_type": "markdown",
   "metadata": {},
   "source": [
    "##  NER Model Implementation in Spark NLP\n",
    "\n",
    "  The deep neural network architecture for NER model in Spark NLP is BiLSTM-CNN-Char framework. a slightly modified version of the architecture proposed by Jason PC Chiu and Eric Nichols ([Named Entity Recognition with Bidirectional LSTM-CNNs](https://arxiv.org/abs/1511.08308)). It is a neural network architecture that automatically detects word and character-level features using a hybrid bidirectional LSTM and CNN architecture, eliminating the need for most feature engineering steps.\n",
    "\n",
    "  In the original framework, the CNN extracts a fixed length feature vector from character-level features. For each word, these vectors are concatenated and fed to the BLSTM network and then to the output layers. They employed a stacked bi-directional recurrent neural network with long short-term memory units to transform word features into named entity tag scores. The extracted features of each word are fed into a forward LSTM network and a backward LSTM network. The output of each network at each time step is decoded by a linear layer and a log-softmax layer into log-probabilities for each tag category. These two vectors are then simply added together to produce the final output. In the architecture of the proposed framework in the original paper, 50-dimensional pretrained word embeddings is used for word features, 25-dimension character embeddings is used for char features, and capitalization features (allCaps, upperInitial, lowercase, mixedCaps, noinfo) are used for case features."
   ]
  },
  {
   "cell_type": "code",
   "execution_count": 2,
   "metadata": {
    "execution": {
     "iopub.execute_input": "2023-09-01T01:16:32.320524Z",
     "iopub.status.busy": "2023-09-01T01:16:32.320256Z",
     "iopub.status.idle": "2023-09-01T01:16:37.642092Z",
     "shell.execute_reply": "2023-09-01T01:16:37.641200Z",
     "shell.execute_reply.started": "2023-09-01T01:16:32.320493Z"
    },
    "tags": []
   },
   "outputs": [
    {
     "data": {
      "application/vnd.jupyter.widget-view+json": {
       "model_id": "ea8605c2920f4f56a23ddaf82d353779",
       "version_major": 2,
       "version_minor": 0
      },
      "text/plain": [
       "VBox()"
      ]
     },
     "metadata": {},
     "output_type": "display_data"
    },
    {
     "data": {
      "application/vnd.jupyter.widget-view+json": {
       "model_id": "",
       "version_major": 2,
       "version_minor": 0
      },
      "text/plain": [
       "FloatProgress(value=0.0, bar_style='info', description='Progress:', layout=Layout(height='25px', width='50%'),…"
      ]
     },
     "metadata": {},
     "output_type": "display_data"
    },
    {
     "name": "stdout",
     "output_type": "stream",
     "text": [
      "Spark Session already created, some configs may not take.\n",
      "📋 Loading license number 0 from /lib/.johnsnowlabs/johnsnowlabs/licenses/license_number_0_for_Spark-Healthcare.json"
     ]
    }
   ],
   "source": [
    "from johnsnowlabs import nlp, medical\n",
    "spark = nlp.start()"
   ]
  },
  {
   "cell_type": "markdown",
   "metadata": {},
   "source": [
    "## Blogposts and videos:\n",
    "\n",
    "- [How to Setup Spark NLP for HEALTHCARE on UBUNTU - Video](https://www.youtube.com/watch?v=yKnF-_oz0GE)\n",
    "\n",
    "- [Named Entity Recognition (NER) with BERT in Spark NLP](https://towardsdatascience.com/named-entity-recognition-ner-with-bert-in-spark-nlp-874df20d1d77)\n",
    "\n",
    "- [State of the art Clinical Named Entity Recognition in Spark NLP - Youtube](https://www.youtube.com/watch?v=YM-e4eOiQ34)\n",
    "\n",
    "- [Named Entity Recognition for Healthcare with SparkNLP NerDL and NerCRF](https://medium.com/spark-nlp/named-entity-recognition-for-healthcare-with-sparknlp-nerdl-and-nercrf-a7751b6ad571)\n",
    "\n",
    "- [Named Entity Recognition for Clinical Text](https://medium.com/atlas-research/ner-for-clinical-text-7c73caddd180)"
   ]
  },
  {
   "cell_type": "code",
   "execution_count": 3,
   "metadata": {
    "execution": {
     "iopub.execute_input": "2023-09-01T01:16:41.770899Z",
     "iopub.status.busy": "2023-09-01T01:16:41.770637Z",
     "iopub.status.idle": "2023-09-01T01:16:41.827942Z",
     "shell.execute_reply": "2023-09-01T01:16:41.827241Z",
     "shell.execute_reply.started": "2023-09-01T01:16:41.770868Z"
    },
    "tags": []
   },
   "outputs": [
    {
     "data": {
      "application/vnd.jupyter.widget-view+json": {
       "model_id": "5ff431185a8c456f952ae238c8a5bd72",
       "version_major": 2,
       "version_minor": 0
      },
      "text/plain": [
       "VBox()"
      ]
     },
     "metadata": {},
     "output_type": "display_data"
    },
    {
     "data": {
      "application/vnd.jupyter.widget-view+json": {
       "model_id": "",
       "version_major": 2,
       "version_minor": 0
      },
      "text/plain": [
       "FloatProgress(value=0.0, bar_style='info', description='Progress:', layout=Layout(height='25px', width='50%'),…"
      ]
     },
     "metadata": {},
     "output_type": "display_data"
    }
   ],
   "source": [
    "from pyspark.sql import DataFrame\n",
    "import pyspark.sql.functions as F\n",
    "import pyspark.sql.types as T\n",
    "import pyspark.sql as SQL\n",
    "from pyspark import keyword_only\n",
    "import pandas as pd"
   ]
  },
  {
   "cell_type": "markdown",
   "metadata": {},
   "source": [
    "## Clinical NER Pipeline (with pretrained models)"
   ]
  },
  {
   "cell_type": "markdown",
   "metadata": {},
   "source": [
    "\n",
    "\n",
    "\n",
    "\n",
    "## Clinical NER Models\n",
    "|index|model|index|model|index|model|index|model|\n",
    "|-----:|:-----|-----:|:-----|-----:|:-----|-----:|:-----|\n",
    "| 1| [jsl_ner_wip_clinical](https://nlp.johnsnowlabs.com/2021/03/31/jsl_ner_wip_clinical_en.html)  | 2| [jsl_ner_wip_greedy_clinical](https://nlp.johnsnowlabs.com/2021/03/31/jsl_ner_wip_greedy_clinical_en.html)  | 3| [jsl_ner_wip_modifier_clinical](https://nlp.johnsnowlabs.com/2021/04/01/jsl_ner_wip_modifier_clinical_en.html)  | 4| [jsl_rd_ner_wip_greedy_clinical](https://nlp.johnsnowlabs.com/2021/04/01/jsl_rd_ner_wip_greedy_clinical_en.html)  |\n",
    "| 5| [ner_abbreviation_clinical](https://nlp.johnsnowlabs.com/2021/12/30/ner_abbreviation_clinical_en.html)  | 6| [ner_abbreviation_emb_clinical_large](https://nlp.johnsnowlabs.com/2023/05/12/ner_abbreviation_emb_clinical_large_en.html)  | 7| [ner_abbreviation_emb_clinical_medium](https://nlp.johnsnowlabs.com/2023/05/12/ner_abbreviation_emb_clinical_medium_en.html)  | 8| [ner_ade_clinical](https://nlp.johnsnowlabs.com/2021/04/01/ner_ade_clinical_en.html)  |\n",
    "| 9| [ner_ade_clinicalbert](https://nlp.johnsnowlabs.com/2021/04/01/ner_ade_clinicalbert_en.html)  | 10| [ner_ade_emb_clinical_large](https://nlp.johnsnowlabs.com/2023/05/21/ner_ade_emb_clinical_large_en.html)  | 11| [ner_ade_emb_clinical_medium](https://nlp.johnsnowlabs.com/2023/05/21/ner_ade_emb_clinical_medium_en.html)  | 12| [ner_ade_healthcare](https://nlp.johnsnowlabs.com/2021/04/01/ner_ade_healthcare_en.html)  |\n",
    "| 13| [ner_anatomy](https://nlp.johnsnowlabs.com/2021/03/31/ner_anatomy_en.html)  | 14| [ner_anatomy_coarse](https://nlp.johnsnowlabs.com/2021/03/31/ner_anatomy_coarse_en.html)  | 15| [ner_anatomy_coarse_en](https://nlp.johnsnowlabs.com/2020/11/04/ner_anatomy_coarse_en.html)  | 16| [ner_anatomy_emb_clinical_large](https://nlp.johnsnowlabs.com/2023/05/15/ner_anatomy_emb_clinical_large_en.html)  |\n",
    "| 17| [ner_anatomy_emb_clinical_medium](https://nlp.johnsnowlabs.com/2023/05/15/ner_anatomy_emb_clinical_medium_en.html)  | 18| [ner_anatomy_en](https://nlp.johnsnowlabs.com/2020/04/22/ner_anatomy_en.html)  | 19| [ner_aspect_based_sentiment](https://nlp.johnsnowlabs.com/2021/03/31/ner_aspect_based_sentiment_en.html)  | 20| [ner_bacterial_species](https://nlp.johnsnowlabs.com/2021/04/01/ner_bacterial_species_en.html)  |\n",
    "| 21| [ner_bacterial_species_emb_clinical_large](https://nlp.johnsnowlabs.com/2023/05/23/ner_bacterial_species_emb_clinical_large_en.html)  | 22| [ner_bacterial_species_emb_clinical_medium](https://nlp.johnsnowlabs.com/2023/05/23/ner_bacterial_species_emb_clinical_medium_en.html)  | 23| [ner_biomarker](https://nlp.johnsnowlabs.com/2021/11/26/ner_biomarker_en.html)  | 24| [ner_biomedical_bc2gm](https://nlp.johnsnowlabs.com/2022/05/11/ner_biomedical_bc2gm_en_2_4.html)  |\n",
    "| 25| [ner_bionlp](https://nlp.johnsnowlabs.com/2021/03/31/ner_bionlp_en.html)  | 26| [ner_bionlp_en](https://nlp.johnsnowlabs.com/2020/01/30/ner_bionlp_en.html)  | 27| [ner_cancer_genetics](https://nlp.johnsnowlabs.com/2021/03/31/ner_cancer_genetics_en.html)  | 28| [ner_cellular](https://nlp.johnsnowlabs.com/2021/03/31/ner_cellular_en.html)  |\n",
    "| 29| [ner_cellular_emb_clinical_large](https://nlp.johnsnowlabs.com/2023/05/24/ner_cellular_emb_clinical_large_en.html)  | 30| [ner_cellular_emb_clinical_medium](https://nlp.johnsnowlabs.com/2023/05/24/ner_cellular_emb_clinical_medium_en.html)  | 31| [ner_cellular_en](https://nlp.johnsnowlabs.com/2020/04/22/ner_cellular_en.html)  | 32| [ner_chemd_clinical](https://nlp.johnsnowlabs.com/2021/11/04/ner_chemd_clinical_en.html)  |\n",
    "| 33| [ner_chemicals](https://nlp.johnsnowlabs.com/2021/04/01/ner_chemicals_en.html)  | 34| [ner_chemicals_emb_clinical_large](https://nlp.johnsnowlabs.com/2023/06/02/ner_chemicals_emb_clinical_large_en.html)  | 35| [ner_chemicals_emb_clinical_medium](https://nlp.johnsnowlabs.com/2023/06/02/ner_chemicals_emb_clinical_medium_en.html)  | 36| [ner_chemprot_clinical](https://nlp.johnsnowlabs.com/2020/09/21/ner_chemprot_clinical_en.html)  |\n",
    "| 37| [ner_chexpert](https://nlp.johnsnowlabs.com/2021/09/30/ner_chexpert_en.html)  | 38| [ner_clinical](https://nlp.johnsnowlabs.com/2021/03/31/ner_clinical_en.html)  | 39| [ner_clinical_en](https://nlp.johnsnowlabs.com/2020/01/30/ner_clinical_en.html)  | 40| [ner_clinical_large](https://nlp.johnsnowlabs.com/2021/03/31/ner_clinical_large_en.html)  |\n",
    "| 41| [ner_clinical_large_en](https://nlp.johnsnowlabs.com/2020/05/23/ner_clinical_large_en.html)  | 42| [ner_clinical_trials_abstracts](https://nlp.johnsnowlabs.com/2022/06/22/ner_clinical_trials_abstracts_en_3_0.html)  | 43| [ner_covid_trials](https://nlp.johnsnowlabs.com/2022/10/19/ner_covid_trials_en.html)  | 44| [ner_crf](https://nlp.johnsnowlabs.com/2020/01/28/ner_crf_en.html)  |\n",
    "| 45| [ner_deid_augmented](https://nlp.johnsnowlabs.com/2021/03/31/ner_deid_augmented_en.html)  | 46| [ner_deid_enriched](https://nlp.johnsnowlabs.com/2021/03/31/ner_deid_enriched_en.html)  | 47| [ner_deid_generic_glove](https://nlp.johnsnowlabs.com/2021/06/06/ner_deid_generic_glove_en.html)  | 48| [ner_deid_large](https://nlp.johnsnowlabs.com/2021/03/31/ner_deid_large_en.html)  |\n",
    "| 49| [ner_deid_large_emb_clinical_large](https://nlp.johnsnowlabs.com/2023/04/12/ner_deid_large_emb_clinical_large_en.html)  | 50| [ner_deid_large_emb_clinical_medium](https://nlp.johnsnowlabs.com/2023/04/12/ner_deid_large_emb_clinical_medium_en.html)  | 51| [ner_deid_sd](https://nlp.johnsnowlabs.com/2021/04/01/ner_deid_sd_en.html)  | 52| [ner_deid_sd_large](https://nlp.johnsnowlabs.com/2021/04/01/ner_deid_sd_large_en.html)  |\n",
    "| 53| [ner_deid_subentity_augmented](https://nlp.johnsnowlabs.com/2021/09/03/ner_deid_subentity_augmented_en.html)  | 54| [ner_deid_subentity_augmented_i2b2](https://nlp.johnsnowlabs.com/2021/11/29/ner_deid_subentity_augmented_i2b2_en.html)  | 55| [ner_deid_subentity_glove](https://nlp.johnsnowlabs.com/2021/06/06/ner_deid_subentity_glove_en.html)  | 56| [ner_deid_synthetic](https://nlp.johnsnowlabs.com/2021/03/31/ner_deid_synthetic_en.html)  |\n",
    "| 57| [ner_deidentify_dl](https://nlp.johnsnowlabs.com/2021/03/31/ner_deidentify_dl_en.html)  | 58| [ner_demographic_extended_healthcare](https://nlp.johnsnowlabs.com/2023/06/08/ner_demographic_extended_healthcare_en.html)  | 59| [ner_diseases](https://nlp.johnsnowlabs.com/2021/03/31/ner_diseases_en.html)  | 60| [ner_diseases_en](https://nlp.johnsnowlabs.com/2020/03/25/ner_diseases_en.html)  |\n",
    "| 61| [ner_diseases_large](https://nlp.johnsnowlabs.com/2021/04/01/ner_diseases_large_en.html)  | 62| [ner_drugprot_clinical](https://nlp.johnsnowlabs.com/2021/12/20/ner_drugprot_clinical_en.html)  | 63| [ner_drugs](https://nlp.johnsnowlabs.com/2021/03/31/ner_drugs_en.html)  | 64| [ner_drugs_en](https://nlp.johnsnowlabs.com/2020/03/25/ner_drugs_en.html)  |\n",
    "| 65| [ner_drugs_greedy](https://nlp.johnsnowlabs.com/2021/03/31/ner_drugs_greedy_en.html)  | 66| [ner_drugs_large](https://nlp.johnsnowlabs.com/2021/03/31/ner_drugs_large_en.html)  | 67| [ner_drugs_large_en](https://nlp.johnsnowlabs.com/2021/01/29/ner_drugs_large_en.html)  | 68| [ner_eu_clinical_case](https://nlp.johnsnowlabs.com/2023/01/25/ner_eu_clinical_case_en.html)  |\n",
    "| 69| [ner_eu_clinical_condition](https://nlp.johnsnowlabs.com/2023/02/06/ner_eu_clinical_condition_en.html)  | 70| [ner_events_admission_clinical](https://nlp.johnsnowlabs.com/2021/03/31/ner_events_admission_clinical_en.html)  | 71| [ner_events_clinical](https://nlp.johnsnowlabs.com/2021/03/31/ner_events_clinical_en.html)  | 72| [ner_events_healthcare](https://nlp.johnsnowlabs.com/2021/04/01/ner_events_healthcare_en.html)  |\n",
    "| 73| [ner_financial_contract](https://nlp.johnsnowlabs.com/2021/04/01/ner_financial_contract_en.html)  | 74| [ner_genetic_variants](https://nlp.johnsnowlabs.com/2021/06/25/ner_genetic_variants_en.html)  | 75| [ner_healthcare](https://nlp.johnsnowlabs.com/2021/04/21/ner_healthcare_en.html)  | 76| [ner_healthcare_en](https://nlp.johnsnowlabs.com/2020/03/26/ner_healthcare_en.html)  |\n",
    "| 77| [ner_human_phenotype_gene_clinical](https://nlp.johnsnowlabs.com/2020/09/21/ner_human_phenotype_gene_clinical_en.html)  | 78| [ner_human_phenotype_go_clinical](https://nlp.johnsnowlabs.com/2020/09/21/ner_human_phenotype_go_clinical_en.html)  | 79| [ner_jsl](https://nlp.johnsnowlabs.com/2022/10/19/ner_jsl_en.html)  | 80| [ner_jsl_emb_clinical_large](https://nlp.johnsnowlabs.com/2023/04/12/ner_jsl_emb_clinical_large_en.html)  |\n",
    "| 81| [ner_jsl_emb_clinical_medium](https://nlp.johnsnowlabs.com/2023/04/12/ner_jsl_emb_clinical_medium_en.html)  | 82| [ner_jsl_en](https://nlp.johnsnowlabs.com/2020/04/22/ner_jsl_en.html)  | 83| [ner_jsl_enriched](https://nlp.johnsnowlabs.com/2021/10/22/ner_jsl_enriched_en.html)  | 84| [ner_jsl_enriched_en](https://nlp.johnsnowlabs.com/2020/04/22/ner_jsl_enriched_en.html)  |\n",
    "| 85| [ner_jsl_greedy](https://nlp.johnsnowlabs.com/2021/06/24/ner_jsl_greedy_en.html)  | 86| [ner_jsl_limited_80p_for_benchmarks](https://nlp.johnsnowlabs.com/2023/04/02/ner_jsl_limited_80p_for_benchmarks_en.html)  | 87| [ner_jsl_slim](https://nlp.johnsnowlabs.com/2021/08/13/ner_jsl_slim_en.html)  | 88| [ner_living_species](https://nlp.johnsnowlabs.com/2022/06/22/ner_living_species_en_3_0.html)  |\n",
    "| 89| [ner_measurements_clinical](https://nlp.johnsnowlabs.com/2021/04/01/ner_measurements_clinical_en.html)  | 90| [ner_medmentions_coarse](https://nlp.johnsnowlabs.com/2021/04/01/ner_medmentions_coarse_en.html)  | 91| [ner_nature_nero_clinical](https://nlp.johnsnowlabs.com/2022/02/08/ner_nature_nero_clinical_en.html)  | 92| [ner_nihss](https://nlp.johnsnowlabs.com/2021/11/15/ner_nihss_en.html)  |\n",
    "| 93| [ner_oncology](https://nlp.johnsnowlabs.com/2022/10/25/ner_oncology_en.html)  | 94| [ner_oncology_anatomy_general](https://nlp.johnsnowlabs.com/2022/10/25/ner_oncology_anatomy_general_en.html)  | 95| [ner_oncology_anatomy_general_healthcare](https://nlp.johnsnowlabs.com/2023/01/11/ner_oncology_anatomy_general_healthcare_en.html)  | 96| [ner_oncology_anatomy_granular](https://nlp.johnsnowlabs.com/2022/10/25/ner_oncology_anatomy_granular_en.html)  |\n",
    "| 97| [ner_oncology_biomarker](https://nlp.johnsnowlabs.com/2022/10/25/ner_oncology_biomarker_en.html)  | 98| [ner_oncology_biomarker_healthcare](https://nlp.johnsnowlabs.com/2023/01/11/ner_oncology_biomarker_healthcare_en.html)  | 99| [ner_oncology_demographics](https://nlp.johnsnowlabs.com/2022/10/25/ner_oncology_demographics_en.html)  | 100| [ner_oncology_diagnosis](https://nlp.johnsnowlabs.com/2022/10/25/ner_oncology_diagnosis_en.html)  |\n",
    "| 101| [ner_oncology_emb_clinical_large](https://nlp.johnsnowlabs.com/2023/04/12/ner_oncology_emb_clinical_large_en.html)  | 102| [ner_oncology_emb_clinical_medium](https://nlp.johnsnowlabs.com/2023/04/12/ner_oncology_emb_clinical_medium_en.html)  | 103| [ner_oncology_limited_80p_for_benchmarks](https://nlp.johnsnowlabs.com/2023/04/03/ner_oncology_limited_80p_for_benchmarks_en.html)  | 104| [ner_oncology_posology](https://nlp.johnsnowlabs.com/2022/10/25/ner_oncology_posology_en.html)  |\n",
    "| 105| [ner_oncology_response_to_treatment](https://nlp.johnsnowlabs.com/2022/10/25/ner_oncology_response_to_treatment_en.html)  | 106| [ner_oncology_test](https://nlp.johnsnowlabs.com/2022/10/25/ner_oncology_test_en.html)  | 107| [ner_oncology_therapy](https://nlp.johnsnowlabs.com/2022/10/25/ner_oncology_therapy_en.html)  | 108| [ner_oncology_tnm](https://nlp.johnsnowlabs.com/2022/10/25/ner_oncology_tnm_en.html)  |\n",
    "| 109| [ner_oncology_unspecific_posology](https://nlp.johnsnowlabs.com/2022/10/25/ner_oncology_unspecific_posology_en.html)  | 110| [ner_oncology_unspecific_posology_healthcare](https://nlp.johnsnowlabs.com/2023/01/11/ner_oncology_unspecific_posology_healthcare_en.html)  | 111| [ner_pathogen](https://nlp.johnsnowlabs.com/2022/06/28/ner_pathogen_en_3_0.html)  | 112| [ner_posology](https://nlp.johnsnowlabs.com/2021/03/31/ner_posology_en.html)  |\n",
    "| 113| [ner_posology_emb_clinical_large](https://nlp.johnsnowlabs.com/2023/04/12/ner_posology_emb_clinical_large_en.html)  | 114| [ner_posology_emb_clinical_medium](https://nlp.johnsnowlabs.com/2023/04/12/ner_posology_emb_clinical_medium_en.html)  | 115| [ner_posology_en](https://nlp.johnsnowlabs.com/2020/04/15/ner_posology_en.html)  | 116| [ner_posology_experimental](https://nlp.johnsnowlabs.com/2021/09/01/ner_posology_experimental_en.html)  |\n",
    "| 117| [ner_posology_greedy](https://nlp.johnsnowlabs.com/2021/03/31/ner_posology_greedy_en.html)  | 118| [ner_posology_healthcare](https://nlp.johnsnowlabs.com/2021/04/01/ner_posology_healthcare_en.html)  | 119| [ner_posology_large](https://nlp.johnsnowlabs.com/2021/03/31/ner_posology_large_en.html)  | 120| [ner_posology_small](https://nlp.johnsnowlabs.com/2021/03/31/ner_posology_small_en.html)  |\n",
    "| 121| [ner_radiology](https://nlp.johnsnowlabs.com/2021/03/31/ner_radiology_en.html)  | 122| [ner_radiology_wip_clinical](https://nlp.johnsnowlabs.com/2021/04/01/ner_radiology_wip_clinical_en.html)  | 123| [ner_risk_factors](https://nlp.johnsnowlabs.com/2021/03/31/ner_risk_factors_en.html)  | 124| [ner_risk_factors_en](https://nlp.johnsnowlabs.com/2020/04/22/ner_risk_factors_en.html)  |\n",
    "| 125| [ner_sdoh](https://nlp.johnsnowlabs.com/2023/06/13/ner_sdoh_en.html)  | 126| [ner_sdoh_mentions](https://nlp.johnsnowlabs.com/2022/12/18/ner_sdoh_mentions_en.html)  | 127| [ner_supplement_clinical](https://nlp.johnsnowlabs.com/2022/02/01/ner_supplement_clinical_en.html)  | 128| [ner_vop](https://nlp.johnsnowlabs.com/2023/06/06/ner_vop_en.html)  |\n",
    "| 129| [ner_vop_anatomy](https://nlp.johnsnowlabs.com/2023/06/06/ner_vop_anatomy_en.html)  | 130| [ner_vop_anatomy_emb_clinical_large](https://nlp.johnsnowlabs.com/2023/06/06/ner_vop_anatomy_emb_clinical_large_en.html)  | 131| [ner_vop_anatomy_emb_clinical_medium](https://nlp.johnsnowlabs.com/2023/06/07/ner_vop_anatomy_emb_clinical_medium_en.html)  | 132| [ner_vop_clinical_dept](https://nlp.johnsnowlabs.com/2023/06/06/ner_vop_clinical_dept_en.html)  |\n",
    "| 133| [ner_vop_clinical_dept_emb_clinical_large](https://nlp.johnsnowlabs.com/2023/06/06/ner_vop_clinical_dept_emb_clinical_large_en.html)  | 134| [ner_vop_clinical_dept_emb_clinical_medium](https://nlp.johnsnowlabs.com/2023/06/06/ner_vop_clinical_dept_emb_clinical_medium_en.html)  | 135| [ner_vop_demographic](https://nlp.johnsnowlabs.com/2023/06/06/ner_vop_demographic_en.html)  | 136| [ner_vop_demographic_emb_clinical_large](https://nlp.johnsnowlabs.com/2023/06/06/ner_vop_demographic_emb_clinical_large_en.html)  |\n",
    "| 137| [ner_vop_demographic_emb_clinical_medium](https://nlp.johnsnowlabs.com/2023/06/06/ner_vop_demographic_emb_clinical_medium_en.html)  | 138| [ner_vop_emb_clinical_large](https://nlp.johnsnowlabs.com/2023/06/06/ner_vop_emb_clinical_large_en.html)  | 139| [ner_vop_emb_clinical_medium](https://nlp.johnsnowlabs.com/2023/06/06/ner_vop_emb_clinical_medium_en.html)  | 140| [ner_vop_problem](https://nlp.johnsnowlabs.com/2023/06/06/ner_vop_problem_en.html)  |\n",
    "| 141| [ner_vop_problem_emb_clinical_large](https://nlp.johnsnowlabs.com/2023/06/06/ner_vop_problem_emb_clinical_large_en.html)  | 142| [ner_vop_problem_emb_clinical_medium](https://nlp.johnsnowlabs.com/2023/06/06/ner_vop_problem_emb_clinical_medium_en.html)  | 143| [ner_vop_problem_reduced](https://nlp.johnsnowlabs.com/2023/06/07/ner_vop_problem_reduced_en.html)  | 144| [ner_vop_problem_reduced_emb_clinical_large](https://nlp.johnsnowlabs.com/2023/06/07/ner_vop_problem_reduced_emb_clinical_large_en.html)  |\n",
    "| 145| [ner_vop_problem_reduced_emb_clinical_medium](https://nlp.johnsnowlabs.com/2023/06/07/ner_vop_problem_reduced_emb_clinical_medium_en.html)  | 146| [ner_vop_temporal](https://nlp.johnsnowlabs.com/2023/06/06/ner_vop_temporal_en.html)  | 147| [ner_vop_temporal_emb_clinical_large_final](https://nlp.johnsnowlabs.com/2023/06/06/ner_vop_temporal_emb_clinical_large_final_en.html)  | 148| [ner_vop_temporal_emb_clinical_medium](https://nlp.johnsnowlabs.com/2023/06/06/ner_vop_temporal_emb_clinical_medium_en.html)  |\n",
    "| 149| [ner_vop_test](https://nlp.johnsnowlabs.com/2023/06/06/ner_vop_test_en.html)  | 150| [ner_vop_test_emb_clinical_large](https://nlp.johnsnowlabs.com/2023/06/06/ner_vop_test_emb_clinical_large_en.html)  | 151| [ner_vop_test_emb_clinical_medium](https://nlp.johnsnowlabs.com/2023/06/06/ner_vop_test_emb_clinical_medium_en.html)  | 152| [ner_vop_treatment](https://nlp.johnsnowlabs.com/2023/06/06/ner_vop_treatment_en.html)  |\n",
    "| 153| [ner_vop_treatment_emb_clinical_large](https://nlp.johnsnowlabs.com/2023/06/06/ner_vop_treatment_emb_clinical_large_en.html)  | 154| [ner_vop_treatment_emb_clinical_medium](https://nlp.johnsnowlabs.com/2023/06/06/ner_vop_treatment_emb_clinical_medium_en.html)  | 155| [ner_vop_wip_emb_clinical_large](https://nlp.johnsnowlabs.com/2023/05/19/ner_vop_wip_embeddings_clinical_large_en.html)  | 156| [ner_vop_wip_emb_clinical_medium](https://nlp.johnsnowlabs.com/2023/05/19/ner_vop_wip_embeddings_clinical_medium_en.html)  |\n",
    "| 157| [nerdl_tumour_demo](https://nlp.johnsnowlabs.com/2021/04/01/nerdl_tumour_demo_en.html)  |\n",
    "\n",
    "\n",
    "- **Multilingual Clinical NER Models**\n",
    "\n",
    "|index|model|index|model|index|model|index|model|\n",
    "|-----:|:-----|-----:|:-----|-----:|:-----|-----:|:-----|\n",
    "| 1| [ner_clinical](https://nlp.johnsnowlabs.com/2023/05/08/ner_clinical_de.html)  | 2| [ner_clinical_bert](https://nlp.johnsnowlabs.com/2022/11/22/ner_clinical_bert_ro.html)  | 3| [ner_clinical_trials_abstracts](https://nlp.johnsnowlabs.com/2022/08/12/ner_clinical_trials_abstracts_es_3_0.html)  | 4| [ner_deid_generic](https://nlp.johnsnowlabs.com/2023/05/30/ner_deid_generic_ar.html)  |\n",
    "| 5| [ner_deid_generic_bert](https://nlp.johnsnowlabs.com/2022/11/22/ner_deid_generic_bert_ro.html)  | 6| [ner_deid_subentity](https://nlp.johnsnowlabs.com/2023/05/31/ner_deid_subentity_ar.html)  | 7| [ner_deid_subentity_bert](https://nlp.johnsnowlabs.com/2022/06/27/ner_deid_subentity_bert_ro_3_0.html)  | 8| [ner_diag_proc](https://nlp.johnsnowlabs.com/2021/03/31/ner_diag_proc_es.html)  |\n",
    "| 9| [ner_eu_clinical_case](https://nlp.johnsnowlabs.com/2023/02/02/ner_eu_clinical_case_eu.html)  | 10| [ner_eu_clinical_condition](https://nlp.johnsnowlabs.com/2023/02/06/ner_eu_clinical_condition_es.html)  | 11| [ner_healthcare](https://nlp.johnsnowlabs.com/2020/09/28/ner_healthcare_de.html)  | 12| [ner_healthcare_slim](https://nlp.johnsnowlabs.com/2021/04/01/ner_healthcare_slim_de.html)  |\n",
    "| 13| [ner_living_species](https://nlp.johnsnowlabs.com/2022/06/23/ner_living_species_it_3_0.html)  | 14| [ner_living_species_300](https://nlp.johnsnowlabs.com/2022/11/22/ner_living_species_300_es.html)  | 15| [ner_living_species_bert](https://nlp.johnsnowlabs.com/2022/06/23/ner_living_species_bert_ro_3_0.html)  | 16| [ner_living_species_roberta](https://nlp.johnsnowlabs.com/2022/06/22/ner_living_species_roberta_pt_3_0.html)  |\n",
    "| 17| [ner_negation_uncertainty](https://nlp.johnsnowlabs.com/2022/08/13/ner_negation_uncertainty_es_3_0.html)  | 18| [ner_neoplasms](https://nlp.johnsnowlabs.com/2021/03/31/ner_neoplasms_es.html)  | 19| [ner_pharmacology](https://nlp.johnsnowlabs.com/2022/08/13/ner_pharmacology_es_3_0.html)  | 20| [ner_traffic](https://nlp.johnsnowlabs.com/2021/04/01/ner_traffic_de.html)  |\n",
    "\n",
    "\n",
    "- **BioBert NER Models**\n",
    "\n",
    "|index|model|index|model|index|model|index|model|\n",
    "|-----:|:-----|-----:|:-----|-----:|:-----|-----:|:-----|\n",
    "| 1| [jsl_ner_wip_greedy_biobert](https://nlp.johnsnowlabs.com/2021/07/26/jsl_ner_wip_greedy_biobert_en.html)  | 2| [jsl_rd_ner_wip_greedy_biobert](https://nlp.johnsnowlabs.com/2021/07/26/jsl_rd_ner_wip_greedy_biobert_en.html)  | 3| [ner_ade_biobert](https://nlp.johnsnowlabs.com/2021/04/01/ner_ade_biobert_en.html)  | 4| [ner_anatomy_biobert](https://nlp.johnsnowlabs.com/2021/04/01/ner_anatomy_biobert_en.html)  |\n",
    "| 5| [ner_anatomy_coarse_biobert](https://nlp.johnsnowlabs.com/2021/03/31/ner_anatomy_coarse_biobert_en.html)  | 6| [ner_anatomy_coarse_biobert_en](https://nlp.johnsnowlabs.com/2020/11/04/ner_anatomy_coarse_biobert_en.html)  | 7| [ner_bionlp_biobert](https://nlp.johnsnowlabs.com/2021/04/01/ner_bionlp_biobert_en.html)  | 8| [ner_cellular_biobert](https://nlp.johnsnowlabs.com/2021/04/01/ner_cellular_biobert_en.html)  |\n",
    "| 9| [ner_chemprot_biobert](https://nlp.johnsnowlabs.com/2021/04/01/ner_chemprot_biobert_en.html)  | 10| [ner_clinical_biobert](https://nlp.johnsnowlabs.com/2021/04/01/ner_clinical_biobert_en.html)  | 11| [ner_deid_biobert](https://nlp.johnsnowlabs.com/2021/04/01/ner_deid_biobert_en.html)  | 12| [ner_deid_enriched_biobert](https://nlp.johnsnowlabs.com/2021/04/01/ner_deid_enriched_biobert_en.html)  |\n",
    "| 13| [ner_diseases_biobert](https://nlp.johnsnowlabs.com/2021/04/01/ner_diseases_biobert_en.html)  | 14| [ner_events_biobert](https://nlp.johnsnowlabs.com/2021/04/01/ner_events_biobert_en.html)  | 15| [ner_human_phenotype_gene_biobert](https://nlp.johnsnowlabs.com/2021/04/01/ner_human_phenotype_gene_biobert_en.html)  | 16| [ner_human_phenotype_go_biobert](https://nlp.johnsnowlabs.com/2021/04/01/ner_human_phenotype_go_biobert_en.html)  |\n",
    "| 17| [ner_jsl_biobert](https://nlp.johnsnowlabs.com/2021/09/05/ner_jsl_biobert_en.html)  | 18| [ner_jsl_enriched_biobert](https://nlp.johnsnowlabs.com/2021/04/01/ner_jsl_enriched_biobert_en.html)  | 19| [ner_jsl_greedy_biobert](https://nlp.johnsnowlabs.com/2021/08/13/ner_jsl_greedy_biobert_en.html)  | 20| [ner_living_species_biobert](https://nlp.johnsnowlabs.com/2022/06/22/ner_living_species_biobert_en_3_0.html)  |\n",
    "| 21| [ner_posology_biobert](https://nlp.johnsnowlabs.com/2021/04/01/ner_posology_biobert_en.html)  | 22| [ner_posology_large_biobert](https://nlp.johnsnowlabs.com/2021/04/01/ner_posology_large_biobert_en.html)  | 23| [ner_profiling_biobert](https://nlp.johnsnowlabs.com/2023/06/13/ner_profiling_biobert_en.html)  | 24| [ner_risk_factors_biobert](https://nlp.johnsnowlabs.com/2021/04/01/ner_risk_factors_biobert_en.html)  |\n",
    "\n",
    "\n",
    "\n",
    "\n",
    "- **BertForTokenClassification Clinical NER models**\n",
    "\n",
    "|index|model|index|model|index|model|index|model|\n",
    "|-----:|:-----|-----:|:-----|-----:|:-----|-----:|:-----|\n",
    "| 1| [bert_token_classifier_ade_tweet_binary](https://nlp.johnsnowlabs.com/2022/07/29/bert_token_classifier_ade_tweet_binary_en_3_0.html)  | 2| [bert_token_classifier_drug_development_trials](https://nlp.johnsnowlabs.com/2022/03/22/bert_token_classifier_drug_development_trials_en_3_0.html)  | 3| [bert_token_classifier_ner_ade](https://nlp.johnsnowlabs.com/2021/09/30/bert_token_classifier_ner_ade_en.html)  | 4| [bert_token_classifier_ner_ade_binary](https://nlp.johnsnowlabs.com/2022/07/27/bert_token_classifier_ner_ade_binary_en_3_0.html)  |\n",
    "| 5| [bert_token_classifier_ner_anatem](https://nlp.johnsnowlabs.com/2022/07/25/bert_token_classifier_ner_anatem_en_3_0.html)  | 6| [bert_token_classifier_ner_anatomy](https://nlp.johnsnowlabs.com/2021/09/30/bert_token_classifier_ner_anatomy_en.html)  | 7| [bert_token_classifier_ner_bacteria](https://nlp.johnsnowlabs.com/2021/09/30/bert_token_classifier_ner_bacteria_en.html)  | 8| [bert_token_classifier_ner_bc2gm_gene](https://nlp.johnsnowlabs.com/2022/07/25/bert_token_classifier_ner_bc2gm_gene_en_3_0.html)  |\n",
    "| 9| [bert_token_classifier_ner_bc4chemd_chemicals](https://nlp.johnsnowlabs.com/2022/07/25/bert_token_classifier_ner_bc4chemd_chemicals_en_3_0.html)  | 10| [bert_token_classifier_ner_bc5cdr_chemicals](https://nlp.johnsnowlabs.com/2022/07/25/bert_token_classifier_ner_bc5cdr_chemicals_en_3_0.html)  | 11| [bert_token_classifier_ner_bc5cdr_disease](https://nlp.johnsnowlabs.com/2022/07/25/bert_token_classifier_ner_bc5cdr_disease_en_3_0.html)  | 12| [bert_token_classifier_ner_bionlp](https://nlp.johnsnowlabs.com/2021/11/03/bert_token_classifier_ner_bionlp_en.html)  |\n",
    "| 13| [bert_token_classifier_ner_cellular](https://nlp.johnsnowlabs.com/2021/11/03/bert_token_classifier_ner_cellular_en.html)  | 14| [bert_token_classifier_ner_chemicals](https://nlp.johnsnowlabs.com/2021/10/19/bert_token_classifier_ner_chemicals_en.html)  | 15| [bert_token_classifier_ner_chemprot](https://nlp.johnsnowlabs.com/2021/10/19/bert_token_classifier_ner_chemprot_en.html)  | 16| [bert_token_classifier_ner_clinical](https://nlp.johnsnowlabs.com/2022/01/06/bert_token_classifier_ner_clinical_en.html)  |\n",
    "| 17| [bert_token_classifier_ner_clinical_trials_abstracts](https://nlp.johnsnowlabs.com/2022/06/29/bert_token_classifier_ner_clinical_trials_abstracts_en_3_0.html)  | 18| [bert_token_classifier_ner_deid](https://nlp.johnsnowlabs.com/2021/09/13/bert_token_classifier_ner_deid_en.html)  | 19| [bert_token_classifier_ner_drugs](https://nlp.johnsnowlabs.com/2021/09/20/bert_token_classifier_ner_drugs_en.html)  | 20| [bert_token_classifier_ner_jnlpba_cellular](https://nlp.johnsnowlabs.com/2022/07/25/bert_token_classifier_ner_jnlpba_cellular_en_3_0.html)  |\n",
    "| 21| [bert_token_classifier_ner_jsl](https://nlp.johnsnowlabs.com/2021/09/16/bert_token_classifier_ner_jsl_en.html)  | 22| [bert_token_classifier_ner_jsl_slim](https://nlp.johnsnowlabs.com/2021/09/24/bert_token_classifier_ner_jsl_slim_en.html)  | 23| [bert_token_classifier_ner_linnaeus_species](https://nlp.johnsnowlabs.com/2022/07/25/bert_token_classifier_ner_linnaeus_species_en_3_0.html)  | 24| [bert_token_classifier_ner_living_species](https://nlp.johnsnowlabs.com/2022/06/26/bert_token_classifier_ner_living_species_en_3_0.html)  |\n",
    "| 25| [bert_token_classifier_ner_ncbi_disease](https://nlp.johnsnowlabs.com/2022/07/25/bert_token_classifier_ner_ncbi_disease_en_3_0.html)  | 26| [bert_token_classifier_ner_pathogen](https://nlp.johnsnowlabs.com/2022/07/28/bert_token_classifier_ner_pathogen_en_3_0.html)  | 27| [bert_token_classifier_ner_species](https://nlp.johnsnowlabs.com/2022/07/25/bert_token_classifier_ner_species_en_3_0.html)  | 28| [bert_token_classifier_ner_supplement](https://nlp.johnsnowlabs.com/2022/02/09/bert_token_classifier_ner_supplement_en.html)  |\n",
    "\n",
    "\n",
    "\n",
    "\n",
    "\n",
    "\n",
    "**You can find all these models and more [NLP Models Hub](https://nlp.johnsnowlabs.com/models?task=Named+Entity+Recognition&edition=Spark+NLP+for+Healthcare)**"
   ]
  },
  {
   "cell_type": "markdown",
   "metadata": {},
   "source": [
    "**Also, you can print the list of clinical pretrained models/pipelines and annotators with one-line code:**"
   ]
  },
  {
   "cell_type": "code",
   "execution_count": 4,
   "metadata": {
    "execution": {
     "iopub.execute_input": "2023-08-31T03:02:47.665205Z",
     "iopub.status.busy": "2023-08-31T03:02:47.664932Z",
     "iopub.status.idle": "2023-08-31T03:02:50.971363Z",
     "shell.execute_reply": "2023-08-31T03:02:50.970709Z",
     "shell.execute_reply.started": "2023-08-31T03:02:47.665173Z"
    },
    "tags": []
   },
   "outputs": [
    {
     "data": {
      "application/vnd.jupyter.widget-view+json": {
       "model_id": "f2f36694e9c24d68b3625fb2761108f9",
       "version_major": 2,
       "version_minor": 0
      },
      "text/plain": [
       "VBox()"
      ]
     },
     "metadata": {},
     "output_type": "display_data"
    },
    {
     "data": {
      "application/vnd.jupyter.widget-view+json": {
       "model_id": "",
       "version_major": 2,
       "version_minor": 0
      },
      "text/plain": [
       "FloatProgress(value=0.0, bar_style='info', description='Progress:', layout=Layout(height='25px', width='50%'),…"
      ]
     },
     "metadata": {},
     "output_type": "display_data"
    },
    {
     "name": "stdout",
     "output_type": "stream",
     "text": [
      "['nerdl_tumour_demo', 'en', '1.7.3']\n",
      "['nerdl_tumour_demo', 'en', '1.8.0']\n",
      "['nerdl_tumour_demo', 'en', '2.0.2']\n",
      "['ner_healthcare', 'en', '2.4.4']\n",
      "['ner_radiology', 'en', '2.7.0']\n",
      "['ner_deid_augmented', 'en', '2.7.1']\n",
      "['ner_deidentify_dl', 'en', '2.7.2']\n",
      "['ner_events_admission_clinical', 'en', '2.7.4']\n",
      "['ner_clinical', 'en', '3.0.0']\n",
      "['ner_radiology', 'en', '3.0.0']"
     ]
    }
   ],
   "source": [
    "# pipelines = medical.InternalResourceDownloader.returnPrivatePipelines()\n",
    "ner_models = medical.InternalResourceDownloader.returnPrivateModels(\"MedicalNerModel\")\n",
    "for i in ner_models[:10]:\n",
    "    print(i)"
   ]
  },
  {
   "cell_type": "code",
   "execution_count": null,
   "metadata": {
    "tags": []
   },
   "outputs": [],
   "source": [
    "# find all NER models\n",
    "\n",
    "compatibility = medical.Compatibility(spark)\n",
    "\n",
    "models = compatibility.findVersion('ner')\n",
    "models_df = pd.DataFrame([dict(x) for x in list(models)])\n",
    "models_df\n",
    "# models_df = spark.createDataFrame(models_df)\n"
   ]
  },
  {
   "cell_type": "code",
   "execution_count": null,
   "metadata": {},
   "outputs": [],
   "source": [
    "%%display\n",
    "spark.createDataFrame(models_df)"
   ]
  },
  {
   "cell_type": "code",
   "execution_count": null,
   "metadata": {},
   "outputs": [],
   "source": [
    "# find oncology NER models\n",
    "\n",
    "models = compatibility.findVersion(\"ner_oncology\")\n",
    "\n",
    "models_df = pd.DataFrame([dict(x) for x in list(models)])"
   ]
  },
  {
   "cell_type": "code",
   "execution_count": null,
   "metadata": {},
   "outputs": [],
   "source": [
    "%%display\n",
    "spark.createDataFrame(models_df.head(10))"
   ]
  },
  {
   "cell_type": "markdown",
   "metadata": {},
   "source": [
    "## Clinical NER Pipeline (with pretrained models)"
   ]
  },
  {
   "cell_type": "code",
   "execution_count": 5,
   "metadata": {
    "execution": {
     "iopub.execute_input": "2023-08-31T03:03:00.668082Z",
     "iopub.status.busy": "2023-08-31T03:03:00.667820Z",
     "iopub.status.idle": "2023-08-31T03:05:48.686858Z",
     "shell.execute_reply": "2023-08-31T03:05:48.686161Z",
     "shell.execute_reply.started": "2023-08-31T03:03:00.668052Z"
    },
    "tags": []
   },
   "outputs": [
    {
     "data": {
      "application/vnd.jupyter.widget-view+json": {
       "model_id": "6825694cb0074b329fa727e117111a53",
       "version_major": 2,
       "version_minor": 0
      },
      "text/plain": [
       "VBox()"
      ]
     },
     "metadata": {},
     "output_type": "display_data"
    },
    {
     "data": {
      "application/vnd.jupyter.widget-view+json": {
       "model_id": "",
       "version_major": 2,
       "version_minor": 0
      },
      "text/plain": [
       "FloatProgress(value=0.0, bar_style='info', description='Progress:', layout=Layout(height='25px', width='50%'),…"
      ]
     },
     "metadata": {},
     "output_type": "display_data"
    },
    {
     "name": "stdout",
     "output_type": "stream",
     "text": [
      "sentence_detector_dl_healthcare download started this may take some time.\n",
      "Approximate size to download 367.3 KB\n",
      "[OK!]\n",
      "embeddings_clinical download started this may take some time.\n",
      "Approximate size to download 1.6 GB\n",
      "[OK!]\n",
      "ner_clinical_large download started this may take some time.\n",
      "[OK!]"
     ]
    }
   ],
   "source": [
    "# Annotator that transforms a text column from dataframe into an Annotation ready for NLP\n",
    "documentAssembler = nlp.DocumentAssembler()\\\n",
    "    .setInputCol(\"text\")\\\n",
    "    .setOutputCol(\"document\")\n",
    "\n",
    "sentenceDetector = nlp.SentenceDetectorDLModel.pretrained(\"sentence_detector_dl_healthcare\",\"en\",\"clinical/models\")\\\n",
    "    .setInputCols([\"document\"])\\\n",
    "    .setOutputCol(\"sentence\")\n",
    "\n",
    "# Tokenizer splits words in a relevant format for NLP\n",
    "tokenizer = nlp.Tokenizer()\\\n",
    "    .setInputCols([\"sentence\"])\\\n",
    "    .setOutputCol(\"token\")\n",
    "\n",
    "# Clinical word embeddings trained on PubMED dataset\n",
    "word_embeddings = nlp.WordEmbeddingsModel.pretrained(\"embeddings_clinical\",\"en\",\"clinical/models\")\\\n",
    "    .setInputCols([\"sentence\",\"token\"])\\\n",
    "    .setOutputCol(\"embeddings\")\n",
    "\n",
    "# NER model trained on i2b2 (sampled from MIMIC) dataset\n",
    "clinical_ner = medical.NerModel.pretrained(\"ner_clinical_large\",\"en\",\"clinical/models\")\\\n",
    "    .setInputCols([\"sentence\",\"token\",\"embeddings\"])\\\n",
    "    .setOutputCol(\"ner\")\\\n",
    "    .setLabelCasing(\"upper\") #decide if we want to return the tags in upper or lower case\n",
    "\n",
    "ner_converter = medical.NerConverterInternal()\\\n",
    "    .setInputCols([\"sentence\",\"token\",\"ner\"])\\\n",
    "    .setOutputCol(\"ner_chunk\")\n",
    "\n",
    "nlpPipeline = nlp.Pipeline(stages=[\n",
    "    documentAssembler,\n",
    "    sentenceDetector,\n",
    "    tokenizer,\n",
    "    word_embeddings,\n",
    "    clinical_ner,\n",
    "    ner_converter])\n",
    "\n",
    "\n",
    "empty_data = spark.createDataFrame([[\"\"]]).toDF(\"text\")\n",
    "\n",
    "model = nlpPipeline.fit(empty_data)\n"
   ]
  },
  {
   "cell_type": "code",
   "execution_count": 6,
   "metadata": {
    "execution": {
     "iopub.execute_input": "2023-08-31T03:05:58.046375Z",
     "iopub.status.busy": "2023-08-31T03:05:58.046104Z",
     "iopub.status.idle": "2023-08-31T03:05:58.108547Z",
     "shell.execute_reply": "2023-08-31T03:05:58.107815Z",
     "shell.execute_reply.started": "2023-08-31T03:05:58.046343Z"
    },
    "tags": []
   },
   "outputs": [
    {
     "data": {
      "application/vnd.jupyter.widget-view+json": {
       "model_id": "01e937bbee7349b2b088502bde31a24d",
       "version_major": 2,
       "version_minor": 0
      },
      "text/plain": [
       "VBox()"
      ]
     },
     "metadata": {},
     "output_type": "display_data"
    },
    {
     "data": {
      "application/vnd.jupyter.widget-view+json": {
       "model_id": "",
       "version_major": 2,
       "version_minor": 0
      },
      "text/plain": [
       "FloatProgress(value=0.0, bar_style='info', description='Progress:', layout=Layout(height='25px', width='50%'),…"
      ]
     },
     "metadata": {},
     "output_type": "display_data"
    },
    {
     "name": "stdout",
     "output_type": "stream",
     "text": [
      "1 - DocumentAssembler_332e183e3703\n",
      "2 - SentenceDetectorDLModel_6bafc4746ea5\n",
      "3 - REGEX_TOKENIZER_5563a2f3fa84\n",
      "4 - WORD_EMBEDDINGS_MODEL_9004b1d00302\n",
      "5 - MedicalNerModel_1a8637089929\n",
      "6 - NER_CONVERTER_69114732807b"
     ]
    }
   ],
   "source": [
    "for n,i in enumerate(model.stages):\n",
    "    print(f\"{n+1} - {i}\")"
   ]
  },
  {
   "cell_type": "code",
   "execution_count": 7,
   "metadata": {
    "execution": {
     "iopub.execute_input": "2023-08-31T03:06:02.781214Z",
     "iopub.status.busy": "2023-08-31T03:06:02.780942Z",
     "iopub.status.idle": "2023-08-31T03:06:02.846848Z",
     "shell.execute_reply": "2023-08-31T03:06:02.846190Z",
     "shell.execute_reply.started": "2023-08-31T03:06:02.781183Z"
    }
   },
   "outputs": [
    {
     "data": {
      "application/vnd.jupyter.widget-view+json": {
       "model_id": "a5b64d63352047c789e5fb5b5cd89e1e",
       "version_major": 2,
       "version_minor": 0
      },
      "text/plain": [
       "VBox()"
      ]
     },
     "metadata": {},
     "output_type": "display_data"
    },
    {
     "data": {
      "application/vnd.jupyter.widget-view+json": {
       "model_id": "",
       "version_major": 2,
       "version_minor": 0
      },
      "text/plain": [
       "FloatProgress(value=0.0, bar_style='info', description='Progress:', layout=Layout(height='25px', width='50%'),…"
      ]
     },
     "metadata": {},
     "output_type": "display_data"
    },
    {
     "name": "stdout",
     "output_type": "stream",
     "text": [
      "O\n",
      "B-TREATMENT\n",
      "I-TREATMENT\n",
      "B-PROBLEM\n",
      "I-PROBLEM\n",
      "B-TEST\n",
      "I-TEST"
     ]
    }
   ],
   "source": [
    "for i in clinical_ner.getClasses():\n",
    "    print(i)"
   ]
  },
  {
   "cell_type": "code",
   "execution_count": 8,
   "metadata": {
    "execution": {
     "iopub.execute_input": "2023-08-31T03:06:03.950737Z",
     "iopub.status.busy": "2023-08-31T03:06:03.950480Z",
     "iopub.status.idle": "2023-08-31T03:06:04.011427Z",
     "shell.execute_reply": "2023-08-31T03:06:04.010571Z",
     "shell.execute_reply.started": "2023-08-31T03:06:03.950706Z"
    }
   },
   "outputs": [
    {
     "data": {
      "application/vnd.jupyter.widget-view+json": {
       "model_id": "e9bfdd6e17f144fe9ef8521c85ff8aa1",
       "version_major": 2,
       "version_minor": 0
      },
      "text/plain": [
       "VBox()"
      ]
     },
     "metadata": {},
     "output_type": "display_data"
    },
    {
     "data": {
      "application/vnd.jupyter.widget-view+json": {
       "model_id": "",
       "version_major": 2,
       "version_minor": 0
      },
      "text/plain": [
       "FloatProgress(value=0.0, bar_style='info', description='Progress:', layout=Layout(height='25px', width='50%'),…"
      ]
     },
     "metadata": {},
     "output_type": "display_data"
    },
    {
     "name": "stdout",
     "output_type": "stream",
     "text": [
      "{Param(parent='MedicalNerModel_1a8637089929', name='includeAllConfidenceScores', doc='whether to include all confidence scores in annotation metadata or just the score of the predicted tag'): False, Param(parent='MedicalNerModel_1a8637089929', name='inferenceBatchSize', doc='number of sentences to process in a single batch during inference'): 1, Param(parent='MedicalNerModel_1a8637089929', name='labelCasing', doc='Setting all labels of the NER models upper/lower case. values upper|lower'): 'upper', Param(parent='MedicalNerModel_1a8637089929', name='sentenceTokenIndex', doc='Whether to include the token index for each sentence in annotation metadata.'): False, Param(parent='MedicalNerModel_1a8637089929', name='lazyAnnotator', doc='Whether this AnnotatorModel acts as lazy in RecursivePipelines'): False, Param(parent='MedicalNerModel_1a8637089929', name='includeConfidence', doc='whether to include confidence scores in annotation metadata'): True, Param(parent='MedicalNerModel_1a8637089929', name='batchSize', doc='Size of every batch'): 64, Param(parent='MedicalNerModel_1a8637089929', name='classes', doc='get the tags used to trained this MedicalNerModel'): ['O', 'B-TREATMENT', 'I-TREATMENT', 'B-PROBLEM', 'I-PROBLEM', 'B-TEST', 'I-TEST'], Param(parent='MedicalNerModel_1a8637089929', name='inputCols', doc='previous annotations columns, if renamed'): ['sentence', 'token', 'embeddings'], Param(parent='MedicalNerModel_1a8637089929', name='outputCol', doc='output annotation column. can be left default.'): 'ner', Param(parent='MedicalNerModel_1a8637089929', name='storageRef', doc='unique reference name for identification'): 'clinical'}"
     ]
    }
   ],
   "source": [
    "clinical_ner.extractParamMap()"
   ]
  },
  {
   "cell_type": "code",
   "execution_count": 9,
   "metadata": {
    "execution": {
     "iopub.execute_input": "2023-08-31T03:06:06.328585Z",
     "iopub.status.busy": "2023-08-31T03:06:06.328295Z",
     "iopub.status.idle": "2023-08-31T03:06:06.387429Z",
     "shell.execute_reply": "2023-08-31T03:06:06.386772Z",
     "shell.execute_reply.started": "2023-08-31T03:06:06.328554Z"
    }
   },
   "outputs": [
    {
     "data": {
      "application/vnd.jupyter.widget-view+json": {
       "model_id": "4288ec05195b4db69458b00e11e04191",
       "version_major": 2,
       "version_minor": 0
      },
      "text/plain": [
       "VBox()"
      ]
     },
     "metadata": {},
     "output_type": "display_data"
    },
    {
     "data": {
      "application/vnd.jupyter.widget-view+json": {
       "model_id": "",
       "version_major": 2,
       "version_minor": 0
      },
      "text/plain": [
       "FloatProgress(value=0.0, bar_style='info', description='Progress:', layout=Layout(height='25px', width='50%'),…"
      ]
     },
     "metadata": {},
     "output_type": "display_data"
    },
    {
     "name": "stdout",
     "output_type": "stream",
     "text": [
      "'clinical'"
     ]
    }
   ],
   "source": [
    "clinical_ner.getStorageRef()"
   ]
  },
  {
   "cell_type": "code",
   "execution_count": 10,
   "metadata": {
    "execution": {
     "iopub.execute_input": "2023-08-31T03:06:10.363408Z",
     "iopub.status.busy": "2023-08-31T03:06:10.363151Z",
     "iopub.status.idle": "2023-08-31T03:06:10.420110Z",
     "shell.execute_reply": "2023-08-31T03:06:10.419483Z",
     "shell.execute_reply.started": "2023-08-31T03:06:10.363378Z"
    }
   },
   "outputs": [
    {
     "data": {
      "application/vnd.jupyter.widget-view+json": {
       "model_id": "d730b853498d44db8f79eb4956a69612",
       "version_major": 2,
       "version_minor": 0
      },
      "text/plain": [
       "VBox()"
      ]
     },
     "metadata": {},
     "output_type": "display_data"
    },
    {
     "data": {
      "application/vnd.jupyter.widget-view+json": {
       "model_id": "",
       "version_major": 2,
       "version_minor": 0
      },
      "text/plain": [
       "FloatProgress(value=0.0, bar_style='info', description='Progress:', layout=Layout(height='25px', width='50%'),…"
      ]
     },
     "metadata": {},
     "output_type": "display_data"
    }
   ],
   "source": [
    "# Downloading sample datasets.\n",
    "# wget -q https://raw.githubusercontent.com/JohnSnowLabs/spark-nlp-workshop/master/tutorials/Certification_Trainings/Healthcare/data/mt_samples_10.csv"
   ]
  },
  {
   "cell_type": "code",
   "execution_count": 11,
   "metadata": {
    "execution": {
     "iopub.execute_input": "2023-08-31T03:06:17.192631Z",
     "iopub.status.busy": "2023-08-31T03:06:17.192315Z",
     "iopub.status.idle": "2023-08-31T03:06:17.477105Z",
     "shell.execute_reply": "2023-08-31T03:06:17.476166Z",
     "shell.execute_reply.started": "2023-08-31T03:06:17.192600Z"
    },
    "tags": []
   },
   "outputs": [],
   "source": [
    "%%sh\n",
    "wget -q https://raw.githubusercontent.com/JohnSnowLabs/spark-nlp-workshop/master/tutorials/Certification_Trainings/Healthcare/data/mt_samples_10.csv -O /tmp/data.csv"
   ]
  },
  {
   "cell_type": "code",
   "execution_count": 12,
   "metadata": {
    "execution": {
     "iopub.execute_input": "2023-08-31T03:06:41.611949Z",
     "iopub.status.busy": "2023-08-31T03:06:41.611683Z",
     "iopub.status.idle": "2023-08-31T03:06:43.812920Z",
     "shell.execute_reply": "2023-08-31T03:06:43.812035Z",
     "shell.execute_reply.started": "2023-08-31T03:06:41.611915Z"
    },
    "tags": []
   },
   "outputs": [
    {
     "name": "stderr",
     "output_type": "stream",
     "text": [
      "SLF4J: Class path contains multiple SLF4J bindings.\n",
      "SLF4J: Found binding in [jar:file:/usr/lib/hadoop/lib/slf4j-log4j12-1.7.25.jar!/org/slf4j/impl/StaticLoggerBinder.class]\n",
      "SLF4J: Found binding in [jar:file:/usr/share/aws/emr/emrfs/lib/slf4j-log4j12-1.7.12.jar!/org/slf4j/impl/StaticLoggerBinder.class]\n",
      "SLF4J: See http://www.slf4j.org/codes.html#multiple_bindings for an explanation.\n",
      "SLF4J: Actual binding is of type [org.slf4j.impl.Log4jLoggerFactory]\n"
     ]
    }
   ],
   "source": [
    "%%sh\n",
    "hdfs dfs -copyFromLocal /tmp/data.csv /user/hadoop/data.csv"
   ]
  },
  {
   "cell_type": "code",
   "execution_count": 13,
   "metadata": {
    "execution": {
     "iopub.execute_input": "2023-08-31T03:06:46.038918Z",
     "iopub.status.busy": "2023-08-31T03:06:46.038651Z",
     "iopub.status.idle": "2023-08-31T03:06:59.369376Z",
     "shell.execute_reply": "2023-08-31T03:06:59.368684Z",
     "shell.execute_reply.started": "2023-08-31T03:06:46.038885Z"
    },
    "tags": []
   },
   "outputs": [
    {
     "data": {
      "application/vnd.jupyter.widget-view+json": {
       "model_id": "1934642319ba4699ae3c9dc178fd3a2b",
       "version_major": 2,
       "version_minor": 0
      },
      "text/plain": [
       "VBox()"
      ]
     },
     "metadata": {},
     "output_type": "display_data"
    },
    {
     "data": {
      "application/vnd.jupyter.widget-view+json": {
       "model_id": "",
       "version_major": 2,
       "version_minor": 0
      },
      "text/plain": [
       "FloatProgress(value=0.0, bar_style='info', description='Progress:', layout=Layout(height='25px', width='50%'),…"
      ]
     },
     "metadata": {},
     "output_type": "display_data"
    }
   ],
   "source": [
    "# mt_samples_df = spark.read.csv(\"s3://emr-data-jsl/mt_samples_10.csv\", header=True, multiLine=True)\n",
    "mt_samples_df = spark.read.csv(\"/user/hadoop/data.csv\", header=True, multiLine=True)"
   ]
  },
  {
   "cell_type": "code",
   "execution_count": 14,
   "metadata": {
    "execution": {
     "iopub.execute_input": "2023-08-31T03:07:05.481179Z",
     "iopub.status.busy": "2023-08-31T03:07:05.480838Z",
     "iopub.status.idle": "2023-08-31T03:07:05.745048Z",
     "shell.execute_reply": "2023-08-31T03:07:05.744217Z",
     "shell.execute_reply.started": "2023-08-31T03:07:05.481146Z"
    },
    "tags": []
   },
   "outputs": [
    {
     "data": {
      "application/vnd.jupyter.widget-view+json": {
       "model_id": "4ad0fa0c81fe4c4298eb063223d002b3",
       "version_major": 2,
       "version_minor": 0
      },
      "text/plain": [
       "VBox()"
      ]
     },
     "metadata": {},
     "output_type": "display_data"
    },
    {
     "data": {
      "application/vnd.jupyter.widget-view+json": {
       "model_id": "",
       "version_major": 2,
       "version_minor": 0
      },
      "text/plain": [
       "FloatProgress(value=0.0, bar_style='info', description='Progress:', layout=Layout(height='25px', width='50%'),…"
      ]
     },
     "metadata": {},
     "output_type": "display_data"
    },
    {
     "name": "stdout",
     "output_type": "stream",
     "text": [
      "root\n",
      " |-- index: string (nullable = true)\n",
      " |-- text: string (nullable = true)"
     ]
    }
   ],
   "source": [
    "mt_samples_df.printSchema()"
   ]
  },
  {
   "cell_type": "code",
   "execution_count": 15,
   "metadata": {
    "execution": {
     "iopub.execute_input": "2023-08-31T03:07:07.054326Z",
     "iopub.status.busy": "2023-08-31T03:07:07.054051Z",
     "iopub.status.idle": "2023-08-31T03:07:09.344415Z",
     "shell.execute_reply": "2023-08-31T03:07:09.343730Z",
     "shell.execute_reply.started": "2023-08-31T03:07:07.054294Z"
    },
    "tags": []
   },
   "outputs": [
    {
     "data": {
      "application/vnd.jupyter.widget-view+json": {
       "model_id": "e698abd4b8004f8b978dcbe3eaf07a96",
       "version_major": 2,
       "version_minor": 0
      },
      "text/plain": [
       "VBox()"
      ]
     },
     "metadata": {},
     "output_type": "display_data"
    },
    {
     "data": {
      "application/vnd.jupyter.widget-view+json": {
       "model_id": "",
       "version_major": 2,
       "version_minor": 0
      },
      "text/plain": [
       "FloatProgress(value=0.0, bar_style='info', description='Progress:', layout=Layout(height='25px', width='50%'),…"
      ]
     },
     "metadata": {},
     "output_type": "display_data"
    },
    {
     "name": "stdout",
     "output_type": "stream",
     "text": [
      "+-----+--------------------+\n",
      "|index|                text|\n",
      "+-----+--------------------+\n",
      "|    0|Sample Type / Med...|\n",
      "|    1|Sample Type / Med...|\n",
      "|    2|Sample Type / Med...|\n",
      "|    3|Sample Type / Med...|\n",
      "|    4|Sample Type / Med...|\n",
      "|    5|Sample Type / Med...|\n",
      "|    6|Sample Type / Med...|\n",
      "|    7|Sample Type / Med...|\n",
      "|    8|Sample Type / Med...|\n",
      "|    9|Sample Type / Med...|\n",
      "+-----+--------------------+"
     ]
    }
   ],
   "source": [
    "mt_samples_df.show()"
   ]
  },
  {
   "cell_type": "code",
   "execution_count": null,
   "metadata": {
    "tags": []
   },
   "outputs": [],
   "source": [
    "print(mt_samples_df.limit(1).collect()[0]['text'])"
   ]
  },
  {
   "cell_type": "code",
   "execution_count": null,
   "metadata": {
    "tags": []
   },
   "outputs": [],
   "source": [
    "result = model.transform(mt_samples_df).cache()"
   ]
  },
  {
   "cell_type": "code",
   "execution_count": null,
   "metadata": {
    "tags": []
   },
   "outputs": [],
   "source": [
    "result.show(5)"
   ]
  },
  {
   "cell_type": "code",
   "execution_count": null,
   "metadata": {},
   "outputs": [],
   "source": [
    "# %%time\n",
    "result.select('token.result','ner.result').show(truncate=100)"
   ]
  },
  {
   "cell_type": "code",
   "execution_count": null,
   "metadata": {},
   "outputs": [],
   "source": [
    "result_df = result.select(F.explode(F.arrays_zip(result.token.result,result.ner.result, result.ner.metadata)).alias(\"cols\"))\\\n",
    "                  .select(F.expr(\"cols['0']\").alias(\"token\"),\n",
    "                          F.expr(\"cols['1']\").alias(\"ner_label\"),\n",
    "                          F.expr(\"cols['2']['confidence']\").alias(\"confidence\"))\n",
    "\n",
    "result_df.show(50, truncate=100)"
   ]
  },
  {
   "cell_type": "code",
   "execution_count": null,
   "metadata": {},
   "outputs": [],
   "source": [
    "result_df.select(\"token\", \"ner_label\")\\\n",
    "         .groupBy('ner_label').count()\\\n",
    "         .orderBy('count', ascending=False)\\\n",
    "         .show(truncate=False)"
   ]
  },
  {
   "cell_type": "code",
   "execution_count": null,
   "metadata": {},
   "outputs": [],
   "source": [
    "result.select('ner_chunk').take(1)"
   ]
  },
  {
   "cell_type": "code",
   "execution_count": null,
   "metadata": {},
   "outputs": [],
   "source": [
    "row_list = [{'annotatorType': row.annotatorType,\n",
    "             'begin': row.begin,\n",
    "             'end': row.end,\n",
    "             'result': row.result,\n",
    "             'metadata': row.metadata}\n",
    "            for row in result.select('ner_chunk').take(1)[0][0]\n",
    "           ]\n",
    "\n",
    "for item in row_list:\n",
    "    print(item)"
   ]
  },
  {
   "cell_type": "code",
   "execution_count": null,
   "metadata": {},
   "outputs": [],
   "source": [
    "result.select(F.explode(F.arrays_zip(result.ner_chunk.result,\n",
    "                                     result.ner_chunk.metadata)).alias(\"cols\")) \\\n",
    "      .select(F.expr(\"cols['0']\").alias(\"chunk\"),\n",
    "              F.expr(\"cols['1']['entity']\").alias(\"ner_label\"),\n",
    "              F.expr(\"cols['1']['confidence']\").alias(\"confidence\")).show(truncate=False)"
   ]
  },
  {
   "cell_type": "markdown",
   "metadata": {},
   "source": [
    "### LightPipeline\n",
    "\n",
    "LightPipelines are Spark NLP specific Pipelines, equivalent to Spark ML Pipeline, but meant to deal with smaller amounts of data. They’re useful working with small datasets, debugging results, or when running either training or prediction from an API that serves one-off requests.\n",
    "\n",
    "**It is nearly 10x faster than using Spark ML Pipeline**\n",
    "\n",
    "Syntax: `LightPipeline(someTrainedPipeline).annotate(someStringOrArray)`\n",
    "\n",
    "For more details, please check: https://medium.com/spark-nlp/spark-nlp-101-lightpipeline-a544e93f20f1"
   ]
  },
  {
   "cell_type": "code",
   "execution_count": null,
   "metadata": {},
   "outputs": [],
   "source": [
    "# fullAnnotate in LightPipeline\n",
    "\n",
    "text = '''\n",
    "A 28-year-old female with a history of gestational diabetes mellitus diagnosed eight years prior to presentation and subsequent type two diabetes mellitus (T2DM), one prior episode of HTG-induced pancreatitis three years prior to presentation, and associated with an acute hepatitis, presented with a one-week history of polyuria, poor appetite, and vomiting.\n",
    "She was on metformin, glipizide, and dapagliflozin for T2DM and atorvastatin and gemfibrozil for HTG. She had been on dapagliflozin for six months at the time of presentation.\n",
    "Physical examination on presentation was significant for dry oral mucosa ; significantly , her abdominal examination was benign with no tenderness, guarding, or rigidity. Pertinent laboratory findings on admission were: serum glucose 111 mg/dl,  creatinine 0.4 mg/dL, triglycerides 508 mg/dL, total cholesterol 122 mg/dL, and venous pH 7.27.\n",
    "'''\n",
    "\n",
    "print (text)\n",
    "\n",
    "light_model = nlp.LightPipeline(model)\n",
    "\n",
    "light_result = light_model.fullAnnotate(text)\n",
    "\n",
    "\n",
    "chunks = []\n",
    "entities = []\n",
    "sentence= []\n",
    "begin = []\n",
    "end = []\n",
    "\n",
    "for n in light_result[0]['ner_chunk']:\n",
    "\n",
    "    begin.append(n.begin)\n",
    "    end.append(n.end)\n",
    "    chunks.append(n.result)\n",
    "    entities.append(n.metadata['entity'])\n",
    "    sentence.append(n.metadata['sentence'])\n",
    "\n",
    "\n",
    "\n",
    "df_clinical = pd.DataFrame({'chunks':chunks,\n",
    "                            'begin': begin,\n",
    "                            'end':end,\n",
    "                            'sentence_id':sentence,\n",
    "                            'entities':entities})\n"
   ]
  },
  {
   "cell_type": "code",
   "execution_count": null,
   "metadata": {},
   "outputs": [],
   "source": [
    "%%display\n",
    "spark.createDataFrame(df_clinical.head(20))"
   ]
  },
  {
   "cell_type": "code",
   "execution_count": null,
   "metadata": {},
   "outputs": [],
   "source": [
    "light_result[0]"
   ]
  },
  {
   "cell_type": "markdown",
   "metadata": {},
   "source": [
    "**Getting embeddings with LP**"
   ]
  },
  {
   "cell_type": "code",
   "execution_count": null,
   "metadata": {},
   "outputs": [],
   "source": [
    "light_model_with_emb = nlp.LightPipeline(model, parse_embeddings=True)\n",
    "light_result_with_emb = light_model_with_emb.annotate(text)\n",
    "\n",
    "# list(zip(light_result_with_emb['token'], light_result_with_emb['embeddings']))[:3]\n",
    "for token, embdeding in list(zip(light_result_with_emb['token'], light_result_with_emb['embeddings']))[:3]:\n",
    "    print(token,'------->', embdeding,'\\n')"
   ]
  },
  {
   "cell_type": "markdown",
   "metadata": {},
   "source": [
    "**Prettifying the results with NLU**\n",
    "\n"
   ]
  },
  {
   "cell_type": "markdown",
   "metadata": {},
   "source": [
    "John Snow Labs' NLU is a Python library for applying state-of-the-art text mining, directly on any dataframe, with a single line of code. We will use some functionalities of NLU to prettify our results."
   ]
  },
  {
   "cell_type": "code",
   "execution_count": null,
   "metadata": {},
   "outputs": [],
   "source": [
    "nlp.nlu.to_pretty_df(model, text, positions=True, output_level='chunk').columns"
   ]
  },
  {
   "cell_type": "code",
   "execution_count": null,
   "metadata": {},
   "outputs": [],
   "source": [
    "#For a given pipeline output level is automatically set to the last anntator's output level by default.\n",
    "#This can be changed by defining the value of \"output_level\" parameter.\n",
    "#Values can be set as; token, sentence, document, chunk and relation .\n",
    "\n",
    "cols = [\n",
    "     'entities_ner_chunk',\n",
    "     'entities_ner_chunk_begin',\n",
    "     'entities_ner_chunk_end',\n",
    "     'entities_ner_chunk_origin_sentence',\n",
    "     'entities_ner_chunk_class',\n",
    "]\n",
    "df_clinical = nlp.nlu.to_pretty_df(model, text, positions=True, output_level='chunk')[cols]"
   ]
  },
  {
   "cell_type": "code",
   "execution_count": null,
   "metadata": {},
   "outputs": [],
   "source": [
    "%%display\n",
    "spark.createDataFrame(df_clinical.head(20))"
   ]
  },
  {
   "cell_type": "markdown",
   "metadata": {},
   "source": [
    "### NER Visualizer\n",
    "\n",
    "For saving the visualization result as html, provide `save_path` parameter in the display function."
   ]
  },
  {
   "cell_type": "code",
   "execution_count": null,
   "metadata": {},
   "outputs": [],
   "source": [
    "visualiser = nlp.viz.NerVisualizer()\n",
    "html = visualiser.display(light_result[0], label_col='ner_chunk', document_col='document', return_html=True)\n",
    "visualiser.display(light_result[0], label_col='ner_chunk', document_col='document', save_path=\"display_result.html\")\n",
    "\n",
    "# display(HTML(visualiser.display(light_result[0], label_col='ner_chunk', document_col='document', save_path=\"display_result.html\")))"
   ]
  },
  {
   "cell_type": "code",
   "execution_count": 54,
   "metadata": {
    "execution": {
     "iopub.execute_input": "2023-08-30T20:58:49.129554Z",
     "iopub.status.busy": "2023-08-30T20:58:49.129278Z",
     "iopub.status.idle": "2023-08-30T20:58:49.136267Z",
     "shell.execute_reply": "2023-08-30T20:58:49.135630Z",
     "shell.execute_reply.started": "2023-08-30T20:58:49.129520Z"
    },
    "tags": []
   },
   "outputs": [
    {
     "data": {
      "text/html": [
       "'\\n<style>\\n    @import url(\\'https://fonts.googleapis.com/css2?family=Montserrat:wght@300;400;500;600;700&display=swap\\');\\n    @import url(\\'https://fonts.googleapis.com/css2?family=Vistol Regular:wght@300;400;500;600;700&display=swap\\');\\n    \\n    .spark-nlp-display-scroll-entities {\\n        border: 1px solid #E7EDF0;\\n        border-radius: 3px;\\n        text-align: justify;\\n        \\n    }\\n    .spark-nlp-display-scroll-entities span {  \\n        font-size: 14px;\\n        line-height: 24px;\\n        color: #536B76;\\n        font-family: \\'Montserrat\\', sans-serif !important;\\n    }\\n    \\n    .spark-nlp-display-entity-wrapper{\\n    \\n        display: inline-grid;\\n        text-align: center;\\n        border-radius: 4px;\\n        margin: 0 2px 5px 2px;\\n        padding: 1px\\n    }\\n    .spark-nlp-display-entity-name{\\n        font-size: 14px;\\n        line-height: 24px;\\n        font-family: \\'Montserrat\\', sans-serif !important;\\n        \\n        background: #f1f2f3;\\n        border-width: medium;\\n        text-align: center;\\n        \\n        font-weight: 400;\\n        \\n        border-radius: 5px;\\n        padding: 2px 5px;\\n        display: block;\\n        margin: 3px 2px;\\n    \\n    }\\n    .spark-nlp-display-entity-type{\\n        font-size: 14px;\\n        line-height: 24px;\\n        color: #ffffff;\\n        font-family: \\'Montserrat\\', sans-serif !important;\\n        \\n        text-transform: uppercase;\\n        \\n        font-weight: 500;\\n\\n        display: block;\\n        padding: 3px 5px;\\n    }\\n    \\n    .spark-nlp-display-entity-resolution{\\n        font-size: 14px;\\n        line-height: 24px;\\n        color: #ffffff;\\n        font-family: \\'Vistol Regular\\', sans-serif !important;\\n        \\n        text-transform: uppercase;\\n        \\n        font-weight: 500;\\n\\n        display: block;\\n        padding: 3px 5px;\\n    }\\n    \\n    .spark-nlp-display-others{\\n        font-size: 14px;\\n        line-height: 24px;\\n        font-family: \\'Montserrat\\', sans-serif !important;\\n        \\n        font-weight: 400;\\n    }\\n\\n</style>\\n <span class=\"spark-nlp-display-others\" style=\"background-color: white\"><br>A 28-year-old female with a history of </span><span class=\"spark-nlp-display-entity-wrapper\" style=\"background-color: #800080\"><span class=\"spark-nlp-display-entity-name\">gestational diabetes mellitus </span><span class=\"spark-nlp-display-entity-type\">PROBLEM</span></span><span class=\"spark-nlp-display-others\" style=\"background-color: white\"> diagnosed eight years prior to presentation and </span><span class=\"spark-nlp-display-entity-wrapper\" style=\"background-color: #800080\"><span class=\"spark-nlp-display-entity-name\">subsequent type two diabetes mellitus </span><span class=\"spark-nlp-display-entity-type\">PROBLEM</span></span><span class=\"spark-nlp-display-others\" style=\"background-color: white\"> (</span><span class=\"spark-nlp-display-entity-wrapper\" style=\"background-color: #800080\"><span class=\"spark-nlp-display-entity-name\">T2DM </span><span class=\"spark-nlp-display-entity-type\">PROBLEM</span></span><span class=\"spark-nlp-display-others\" style=\"background-color: white\">), one prior episode of </span><span class=\"spark-nlp-display-entity-wrapper\" style=\"background-color: #800080\"><span class=\"spark-nlp-display-entity-name\">HTG-induced pancreatitis </span><span class=\"spark-nlp-display-entity-type\">PROBLEM</span></span><span class=\"spark-nlp-display-others\" style=\"background-color: white\"> three years prior to presentation, and associated with </span><span class=\"spark-nlp-display-entity-wrapper\" style=\"background-color: #800080\"><span class=\"spark-nlp-display-entity-name\">an acute hepatitis </span><span class=\"spark-nlp-display-entity-type\">PROBLEM</span></span><span class=\"spark-nlp-display-others\" style=\"background-color: white\">, presented with a one-week history of </span><span class=\"spark-nlp-display-entity-wrapper\" style=\"background-color: #800080\"><span class=\"spark-nlp-display-entity-name\">polyuria </span><span class=\"spark-nlp-display-entity-type\">PROBLEM</span></span><span class=\"spark-nlp-display-others\" style=\"background-color: white\">, </span><span class=\"spark-nlp-display-entity-wrapper\" style=\"background-color: #800080\"><span class=\"spark-nlp-display-entity-name\">poor appetite </span><span class=\"spark-nlp-display-entity-type\">PROBLEM</span></span><span class=\"spark-nlp-display-others\" style=\"background-color: white\">, and </span><span class=\"spark-nlp-display-entity-wrapper\" style=\"background-color: #800080\"><span class=\"spark-nlp-display-entity-name\">vomiting </span><span class=\"spark-nlp-display-entity-type\">PROBLEM</span></span><span class=\"spark-nlp-display-others\" style=\"background-color: white\">.<br>She was on </span><span class=\"spark-nlp-display-entity-wrapper\" style=\"background-color: #8b6673\"><span class=\"spark-nlp-display-entity-name\">metformin </span><span class=\"spark-nlp-display-entity-type\">TREATMENT</span></span><span class=\"spark-nlp-display-others\" style=\"background-color: white\">, </span><span class=\"spark-nlp-display-entity-wrapper\" style=\"background-color: #8b6673\"><span class=\"spark-nlp-display-entity-name\">glipizide </span><span class=\"spark-nlp-display-entity-type\">TREATMENT</span></span><span class=\"spark-nlp-display-others\" style=\"background-color: white\">, and </span><span class=\"spark-nlp-display-entity-wrapper\" style=\"background-color: #8b6673\"><span class=\"spark-nlp-display-entity-name\">dapagliflozin </span><span class=\"spark-nlp-display-entity-type\">TREATMENT</span></span><span class=\"spark-nlp-display-others\" style=\"background-color: white\"> for </span><span class=\"spark-nlp-display-entity-wrapper\" style=\"background-color: #800080\"><span class=\"spark-nlp-display-entity-name\">T2DM </span><span class=\"spark-nlp-display-entity-type\">PROBLEM</span></span><span class=\"spark-nlp-display-others\" style=\"background-color: white\"> and </span><span class=\"spark-nlp-display-entity-wrapper\" style=\"background-color: #8b6673\"><span class=\"spark-nlp-display-entity-name\">atorvastatin </span><span class=\"spark-nlp-display-entity-type\">TREATMENT</span></span><span class=\"spark-nlp-display-others\" style=\"background-color: white\"> and </span><span class=\"spark-nlp-display-entity-wrapper\" style=\"background-color: #8b6673\"><span class=\"spark-nlp-display-entity-name\">gemfibrozil </span><span class=\"spark-nlp-display-entity-type\">TREATMENT</span></span><span class=\"spark-nlp-display-others\" style=\"background-color: white\"> for </span><span class=\"spark-nlp-display-entity-wrapper\" style=\"background-color: #800080\"><span class=\"spark-nlp-display-entity-name\">HTG </span><span class=\"spark-nlp-display-entity-type\">PROBLEM</span></span><span class=\"spark-nlp-display-others\" style=\"background-color: white\">. She had been on </span><span class=\"spark-nlp-display-entity-wrapper\" style=\"background-color: #8b6673\"><span class=\"spark-nlp-display-entity-name\">dapagliflozin </span><span class=\"spark-nlp-display-entity-type\">TREATMENT</span></span><span class=\"spark-nlp-display-others\" style=\"background-color: white\"> for six months at the time of presentation.<br></span><span class=\"spark-nlp-display-entity-wrapper\" style=\"background-color: #77b5fe\"><span class=\"spark-nlp-display-entity-name\">Physical examination </span><span class=\"spark-nlp-display-entity-type\">TEST</span></span><span class=\"spark-nlp-display-others\" style=\"background-color: white\"> on presentation was significant for </span><span class=\"spark-nlp-display-entity-wrapper\" style=\"background-color: #800080\"><span class=\"spark-nlp-display-entity-name\">dry oral mucosa </span><span class=\"spark-nlp-display-entity-type\">PROBLEM</span></span><span class=\"spark-nlp-display-others\" style=\"background-color: white\"> ; significantly , </span><span class=\"spark-nlp-display-entity-wrapper\" style=\"background-color: #77b5fe\"><span class=\"spark-nlp-display-entity-name\">her abdominal examination </span><span class=\"spark-nlp-display-entity-type\">TEST</span></span><span class=\"spark-nlp-display-others\" style=\"background-color: white\"> was benign with no </span><span class=\"spark-nlp-display-entity-wrapper\" style=\"background-color: #800080\"><span class=\"spark-nlp-display-entity-name\">tenderness </span><span class=\"spark-nlp-display-entity-type\">PROBLEM</span></span><span class=\"spark-nlp-display-others\" style=\"background-color: white\">, </span><span class=\"spark-nlp-display-entity-wrapper\" style=\"background-color: #800080\"><span class=\"spark-nlp-display-entity-name\">guarding </span><span class=\"spark-nlp-display-entity-type\">PROBLEM</span></span><span class=\"spark-nlp-display-others\" style=\"background-color: white\">, or </span><span class=\"spark-nlp-display-entity-wrapper\" style=\"background-color: #800080\"><span class=\"spark-nlp-display-entity-name\">rigidity </span><span class=\"spark-nlp-display-entity-type\">PROBLEM</span></span><span class=\"spark-nlp-display-others\" style=\"background-color: white\">. Pertinent laboratory findings on admission were: </span><span class=\"spark-nlp-display-entity-wrapper\" style=\"background-color: #77b5fe\"><span class=\"spark-nlp-display-entity-name\">serum glucose </span><span class=\"spark-nlp-display-entity-type\">TEST</span></span><span class=\"spark-nlp-display-others\" style=\"background-color: white\"> 111 mg/dl,  </span><span class=\"spark-nlp-display-entity-wrapper\" style=\"background-color: #77b5fe\"><span class=\"spark-nlp-display-entity-name\">creatinine </span><span class=\"spark-nlp-display-entity-type\">TEST</span></span><span class=\"spark-nlp-display-others\" style=\"background-color: white\"> 0.4 mg/dL, </span><span class=\"spark-nlp-display-entity-wrapper\" style=\"background-color: #77b5fe\"><span class=\"spark-nlp-display-entity-name\">triglycerides </span><span class=\"spark-nlp-display-entity-type\">TEST</span></span><span class=\"spark-nlp-display-others\" style=\"background-color: white\"> 508 mg/dL, </span><span class=\"spark-nlp-display-entity-wrapper\" style=\"background-color: #77b5fe\"><span class=\"spark-nlp-display-entity-name\">total cholesterol </span><span class=\"spark-nlp-display-entity-type\">TEST</span></span><span class=\"spark-nlp-display-others\" style=\"background-color: white\"> 122 mg/dL, and </span><span class=\"spark-nlp-display-entity-wrapper\" style=\"background-color: #77b5fe\"><span class=\"spark-nlp-display-entity-name\">venous pH </span><span class=\"spark-nlp-display-entity-type\">TEST</span></span><span class=\"spark-nlp-display-others\" style=\"background-color: white\"> 7.27.<br></span></div>'\n"
      ],
      "text/plain": [
       "<IPython.core.display.HTML object>"
      ]
     },
     "metadata": {},
     "output_type": "display_data"
    }
   ],
   "source": [
    "%%html\n",
    "'\\n<style>\\n    @import url(\\'https://fonts.googleapis.com/css2?family=Montserrat:wght@300;400;500;600;700&display=swap\\');\\n    @import url(\\'https://fonts.googleapis.com/css2?family=Vistol Regular:wght@300;400;500;600;700&display=swap\\');\\n    \\n    .spark-nlp-display-scroll-entities {\\n        border: 1px solid #E7EDF0;\\n        border-radius: 3px;\\n        text-align: justify;\\n        \\n    }\\n    .spark-nlp-display-scroll-entities span {  \\n        font-size: 14px;\\n        line-height: 24px;\\n        color: #536B76;\\n        font-family: \\'Montserrat\\', sans-serif !important;\\n    }\\n    \\n    .spark-nlp-display-entity-wrapper{\\n    \\n        display: inline-grid;\\n        text-align: center;\\n        border-radius: 4px;\\n        margin: 0 2px 5px 2px;\\n        padding: 1px\\n    }\\n    .spark-nlp-display-entity-name{\\n        font-size: 14px;\\n        line-height: 24px;\\n        font-family: \\'Montserrat\\', sans-serif !important;\\n        \\n        background: #f1f2f3;\\n        border-width: medium;\\n        text-align: center;\\n        \\n        font-weight: 400;\\n        \\n        border-radius: 5px;\\n        padding: 2px 5px;\\n        display: block;\\n        margin: 3px 2px;\\n    \\n    }\\n    .spark-nlp-display-entity-type{\\n        font-size: 14px;\\n        line-height: 24px;\\n        color: #ffffff;\\n        font-family: \\'Montserrat\\', sans-serif !important;\\n        \\n        text-transform: uppercase;\\n        \\n        font-weight: 500;\\n\\n        display: block;\\n        padding: 3px 5px;\\n    }\\n    \\n    .spark-nlp-display-entity-resolution{\\n        font-size: 14px;\\n        line-height: 24px;\\n        color: #ffffff;\\n        font-family: \\'Vistol Regular\\', sans-serif !important;\\n        \\n        text-transform: uppercase;\\n        \\n        font-weight: 500;\\n\\n        display: block;\\n        padding: 3px 5px;\\n    }\\n    \\n    .spark-nlp-display-others{\\n        font-size: 14px;\\n        line-height: 24px;\\n        font-family: \\'Montserrat\\', sans-serif !important;\\n        \\n        font-weight: 400;\\n    }\\n\\n</style>\\n <span class=\"spark-nlp-display-others\" style=\"background-color: white\"><br>A 28-year-old female with a history of </span><span class=\"spark-nlp-display-entity-wrapper\" style=\"background-color: #800080\"><span class=\"spark-nlp-display-entity-name\">gestational diabetes mellitus </span><span class=\"spark-nlp-display-entity-type\">PROBLEM</span></span><span class=\"spark-nlp-display-others\" style=\"background-color: white\"> diagnosed eight years prior to presentation and </span><span class=\"spark-nlp-display-entity-wrapper\" style=\"background-color: #800080\"><span class=\"spark-nlp-display-entity-name\">subsequent type two diabetes mellitus </span><span class=\"spark-nlp-display-entity-type\">PROBLEM</span></span><span class=\"spark-nlp-display-others\" style=\"background-color: white\"> (</span><span class=\"spark-nlp-display-entity-wrapper\" style=\"background-color: #800080\"><span class=\"spark-nlp-display-entity-name\">T2DM </span><span class=\"spark-nlp-display-entity-type\">PROBLEM</span></span><span class=\"spark-nlp-display-others\" style=\"background-color: white\">), one prior episode of </span><span class=\"spark-nlp-display-entity-wrapper\" style=\"background-color: #800080\"><span class=\"spark-nlp-display-entity-name\">HTG-induced pancreatitis </span><span class=\"spark-nlp-display-entity-type\">PROBLEM</span></span><span class=\"spark-nlp-display-others\" style=\"background-color: white\"> three years prior to presentation, and associated with </span><span class=\"spark-nlp-display-entity-wrapper\" style=\"background-color: #800080\"><span class=\"spark-nlp-display-entity-name\">an acute hepatitis </span><span class=\"spark-nlp-display-entity-type\">PROBLEM</span></span><span class=\"spark-nlp-display-others\" style=\"background-color: white\">, presented with a one-week history of </span><span class=\"spark-nlp-display-entity-wrapper\" style=\"background-color: #800080\"><span class=\"spark-nlp-display-entity-name\">polyuria </span><span class=\"spark-nlp-display-entity-type\">PROBLEM</span></span><span class=\"spark-nlp-display-others\" style=\"background-color: white\">, </span><span class=\"spark-nlp-display-entity-wrapper\" style=\"background-color: #800080\"><span class=\"spark-nlp-display-entity-name\">poor appetite </span><span class=\"spark-nlp-display-entity-type\">PROBLEM</span></span><span class=\"spark-nlp-display-others\" style=\"background-color: white\">, and </span><span class=\"spark-nlp-display-entity-wrapper\" style=\"background-color: #800080\"><span class=\"spark-nlp-display-entity-name\">vomiting </span><span class=\"spark-nlp-display-entity-type\">PROBLEM</span></span><span class=\"spark-nlp-display-others\" style=\"background-color: white\">.<br>She was on </span><span class=\"spark-nlp-display-entity-wrapper\" style=\"background-color: #8b6673\"><span class=\"spark-nlp-display-entity-name\">metformin </span><span class=\"spark-nlp-display-entity-type\">TREATMENT</span></span><span class=\"spark-nlp-display-others\" style=\"background-color: white\">, </span><span class=\"spark-nlp-display-entity-wrapper\" style=\"background-color: #8b6673\"><span class=\"spark-nlp-display-entity-name\">glipizide </span><span class=\"spark-nlp-display-entity-type\">TREATMENT</span></span><span class=\"spark-nlp-display-others\" style=\"background-color: white\">, and </span><span class=\"spark-nlp-display-entity-wrapper\" style=\"background-color: #8b6673\"><span class=\"spark-nlp-display-entity-name\">dapagliflozin </span><span class=\"spark-nlp-display-entity-type\">TREATMENT</span></span><span class=\"spark-nlp-display-others\" style=\"background-color: white\"> for </span><span class=\"spark-nlp-display-entity-wrapper\" style=\"background-color: #800080\"><span class=\"spark-nlp-display-entity-name\">T2DM </span><span class=\"spark-nlp-display-entity-type\">PROBLEM</span></span><span class=\"spark-nlp-display-others\" style=\"background-color: white\"> and </span><span class=\"spark-nlp-display-entity-wrapper\" style=\"background-color: #8b6673\"><span class=\"spark-nlp-display-entity-name\">atorvastatin </span><span class=\"spark-nlp-display-entity-type\">TREATMENT</span></span><span class=\"spark-nlp-display-others\" style=\"background-color: white\"> and </span><span class=\"spark-nlp-display-entity-wrapper\" style=\"background-color: #8b6673\"><span class=\"spark-nlp-display-entity-name\">gemfibrozil </span><span class=\"spark-nlp-display-entity-type\">TREATMENT</span></span><span class=\"spark-nlp-display-others\" style=\"background-color: white\"> for </span><span class=\"spark-nlp-display-entity-wrapper\" style=\"background-color: #800080\"><span class=\"spark-nlp-display-entity-name\">HTG </span><span class=\"spark-nlp-display-entity-type\">PROBLEM</span></span><span class=\"spark-nlp-display-others\" style=\"background-color: white\">. She had been on </span><span class=\"spark-nlp-display-entity-wrapper\" style=\"background-color: #8b6673\"><span class=\"spark-nlp-display-entity-name\">dapagliflozin </span><span class=\"spark-nlp-display-entity-type\">TREATMENT</span></span><span class=\"spark-nlp-display-others\" style=\"background-color: white\"> for six months at the time of presentation.<br></span><span class=\"spark-nlp-display-entity-wrapper\" style=\"background-color: #77b5fe\"><span class=\"spark-nlp-display-entity-name\">Physical examination </span><span class=\"spark-nlp-display-entity-type\">TEST</span></span><span class=\"spark-nlp-display-others\" style=\"background-color: white\"> on presentation was significant for </span><span class=\"spark-nlp-display-entity-wrapper\" style=\"background-color: #800080\"><span class=\"spark-nlp-display-entity-name\">dry oral mucosa </span><span class=\"spark-nlp-display-entity-type\">PROBLEM</span></span><span class=\"spark-nlp-display-others\" style=\"background-color: white\"> ; significantly , </span><span class=\"spark-nlp-display-entity-wrapper\" style=\"background-color: #77b5fe\"><span class=\"spark-nlp-display-entity-name\">her abdominal examination </span><span class=\"spark-nlp-display-entity-type\">TEST</span></span><span class=\"spark-nlp-display-others\" style=\"background-color: white\"> was benign with no </span><span class=\"spark-nlp-display-entity-wrapper\" style=\"background-color: #800080\"><span class=\"spark-nlp-display-entity-name\">tenderness </span><span class=\"spark-nlp-display-entity-type\">PROBLEM</span></span><span class=\"spark-nlp-display-others\" style=\"background-color: white\">, </span><span class=\"spark-nlp-display-entity-wrapper\" style=\"background-color: #800080\"><span class=\"spark-nlp-display-entity-name\">guarding </span><span class=\"spark-nlp-display-entity-type\">PROBLEM</span></span><span class=\"spark-nlp-display-others\" style=\"background-color: white\">, or </span><span class=\"spark-nlp-display-entity-wrapper\" style=\"background-color: #800080\"><span class=\"spark-nlp-display-entity-name\">rigidity </span><span class=\"spark-nlp-display-entity-type\">PROBLEM</span></span><span class=\"spark-nlp-display-others\" style=\"background-color: white\">. Pertinent laboratory findings on admission were: </span><span class=\"spark-nlp-display-entity-wrapper\" style=\"background-color: #77b5fe\"><span class=\"spark-nlp-display-entity-name\">serum glucose </span><span class=\"spark-nlp-display-entity-type\">TEST</span></span><span class=\"spark-nlp-display-others\" style=\"background-color: white\"> 111 mg/dl,  </span><span class=\"spark-nlp-display-entity-wrapper\" style=\"background-color: #77b5fe\"><span class=\"spark-nlp-display-entity-name\">creatinine </span><span class=\"spark-nlp-display-entity-type\">TEST</span></span><span class=\"spark-nlp-display-others\" style=\"background-color: white\"> 0.4 mg/dL, </span><span class=\"spark-nlp-display-entity-wrapper\" style=\"background-color: #77b5fe\"><span class=\"spark-nlp-display-entity-name\">triglycerides </span><span class=\"spark-nlp-display-entity-type\">TEST</span></span><span class=\"spark-nlp-display-others\" style=\"background-color: white\"> 508 mg/dL, </span><span class=\"spark-nlp-display-entity-wrapper\" style=\"background-color: #77b5fe\"><span class=\"spark-nlp-display-entity-name\">total cholesterol </span><span class=\"spark-nlp-display-entity-type\">TEST</span></span><span class=\"spark-nlp-display-others\" style=\"background-color: white\"> 122 mg/dL, and </span><span class=\"spark-nlp-display-entity-wrapper\" style=\"background-color: #77b5fe\"><span class=\"spark-nlp-display-entity-name\">venous pH </span><span class=\"spark-nlp-display-entity-type\">TEST</span></span><span class=\"spark-nlp-display-others\" style=\"background-color: white\"> 7.27.<br></span></div>'"
   ]
  },
  {
   "cell_type": "code",
   "execution_count": null,
   "metadata": {},
   "outputs": [],
   "source": [
    "visualiser = nlp.viz.NerVisualizer()\n",
    "\n",
    "visualiser.display(light_result[0], label_col='ner_chunk', document_col='document', save_path=\"display_result.html\")\n",
    "\n",
    "\n",
    "# Change color of an entity label\n",
    "\n",
    "# visualiser.set_label_colors({'PROBLEM':'#008080', 'TEST':'#800080', 'TREATMENT':'#808080'})\n",
    "# visualiser.display(light_result[0], label_col='ner_chunk')\n",
    "\n",
    "\n",
    "# Set label filter\n",
    "\n",
    "# visualiser.display(light_result[0], label_col='ner_chunk', document_col='document',\n",
    "                   #labels=['PROBLEM','TEST'])"
   ]
  },
  {
   "cell_type": "code",
   "execution_count": null,
   "metadata": {},
   "outputs": [],
   "source": [
    "visualiser = nlp.viz.NerVisualizer()\n",
    "\n",
    "html = visualiser.display(light_result[0], label_col='ner_chunk', document_col='document', save_path=\"display_result.html\",return_html=True)"
   ]
  },
  {
   "cell_type": "code",
   "execution_count": null,
   "metadata": {},
   "outputs": [],
   "source": []
  },
  {
   "cell_type": "markdown",
   "metadata": {},
   "source": [
    "### ModelTracer"
   ]
  },
  {
   "cell_type": "markdown",
   "metadata": {},
   "source": [
    "`ModelTracer` allows to track the uids and timestamps of each stage of the pipeline.\n",
    "\n",
    "Let's apply it over an empty data with our existing pipeline."
   ]
  },
  {
   "cell_type": "code",
   "execution_count": null,
   "metadata": {},
   "outputs": [],
   "source": [
    "data = spark.createDataFrame([['']]).toDF(\"text\")\n",
    "\n",
    "df = nlpPipeline.fit(data).transform(data)\n",
    "\n",
    "tracer_result = medical.ModelTracer().addUidCols(pipeline = nlpPipeline, df = df)\n",
    "\n",
    "tracer_result.show(truncate=False)"
   ]
  },
  {
   "cell_type": "markdown",
   "metadata": {},
   "source": [
    "## NER JSL\n",
    "Let's show an example of `ner_jsl` model that has about 80 clinical entity labels by changing just only the model name.\n",
    "\n",
    "**Entities**\n",
    "\n",
    "| | | | | |\n",
    "|-|-|-|-|-|\n",
    "|Injury_or_Poisoning|Direction|Test|Admission_Discharge|Death_Entity|\n",
    "|Relationship_Status|Duration|Respiration|Hyperlipidemia|Birth_Entity|\n",
    "|Age|Labour_Delivery|Family_History_Header|BMI|Temperature|\n",
    "|Alcohol|Kidney_Disease|Oncological|Medical_History_Header|Cerebrovascular_Disease|\n",
    "|Oxygen_Therapy|O2_Saturation|Psychological_Condition|Heart_Disease|Employment|\n",
    "|Obesity|Disease_Syndrome_Disorder|Pregnancy|ImagingFindings|Procedure|\n",
    "|Medical_Device|Race_Ethnicity|Section_Header|Symptom|Treatment|\n",
    "|Substance|Route|Drug_Ingredient|Blood_Pressure|Diet|\n",
    "|External_body_part_or_region|LDL|VS_Finding|Allergen|EKG_Findings|\n",
    "|Imaging_Technique|Triglycerides|RelativeTime|Gender|Pulse|\n",
    "|Social_History_Header|Substance_Quantity|Diabetes|Modifier|Internal_organ_or_component|\n",
    "|Clinical_Dept|Form|Drug_BrandName|Strength|Fetus_NewBorn|\n",
    "|RelativeDate|Height|Test_Result|Sexually_Active_or_Sexual_Orientation|Frequency|\n",
    "|Time|Weight|Vaccine|Vital_Signs_Header|Communicable_Disease|\n",
    "|Dosage|Overweight|Hypertension|HDL|Total_Cholesterol|\n",
    "|Smoking|Date||||"
   ]
  },
  {
   "cell_type": "code",
   "execution_count": null,
   "metadata": {},
   "outputs": [],
   "source": [
    "documentAssembler = nlp.DocumentAssembler()\\\n",
    "    .setInputCol(\"text\")\\\n",
    "    .setOutputCol(\"document\")\n",
    "\n",
    "sentenceDetector = nlp.SentenceDetectorDLModel.pretrained(\"sentence_detector_dl_healthcare\",\"en\",\"clinical/models\") \\\n",
    "    .setInputCols([\"document\"]) \\\n",
    "    .setOutputCol(\"sentence\")\n",
    "\n",
    "tokenizer = nlp.Tokenizer()\\\n",
    "    .setInputCols([\"sentence\"])\\\n",
    "    .setOutputCol(\"token\")\n",
    "\n",
    "word_embeddings = nlp.WordEmbeddingsModel.pretrained(\"embeddings_clinical\", \"en\", \"clinical/models\")\\\n",
    "    .setInputCols([\"sentence\", \"token\"])\\\n",
    "    .setOutputCol(\"embeddings\")\n",
    "\n",
    "jsl_ner = medical.NerModel.pretrained(\"ner_jsl\", \"en\", \"clinical/models\") \\\n",
    "    .setInputCols([\"sentence\", \"token\", \"embeddings\"]) \\\n",
    "    .setOutputCol(\"jsl_ner\")\n",
    "\n",
    "jsl_ner_converter = medical.NerConverterInternal() \\\n",
    "    .setInputCols([\"sentence\", \"token\", \"jsl_ner\"]) \\\n",
    "    .setOutputCol(\"jsl_ner_chunk\")\n",
    "\n",
    "jsl_ner_pipeline = nlp.Pipeline(stages=[\n",
    "    documentAssembler,\n",
    "    sentenceDetector,\n",
    "    tokenizer,\n",
    "    word_embeddings,\n",
    "    jsl_ner,\n",
    "    jsl_ner_converter])\n",
    "\n",
    "empty_data = spark.createDataFrame([[\"\"]]).toDF(\"text\")\n",
    "\n",
    "jsl_ner_model = jsl_ner_pipeline.fit(empty_data)\n"
   ]
  },
  {
   "cell_type": "code",
   "execution_count": null,
   "metadata": {},
   "outputs": [],
   "source": [
    "jsl_light_model = nlp.LightPipeline(jsl_ner_model)\n",
    "\n",
    "jsl_light_result = jsl_light_model.fullAnnotate(text)"
   ]
  },
  {
   "cell_type": "code",
   "execution_count": null,
   "metadata": {},
   "outputs": [],
   "source": [
    "cols = [\n",
    "        'entities_jsl_ner_chunk',\n",
    "        'entities_jsl_ner_chunk_begin',\n",
    "        'entities_jsl_ner_chunk_end',\n",
    "        'entities_jsl_ner_chunk_origin_sentence',\n",
    "        'entities_jsl_ner_chunk_class',\n",
    "       ]\n",
    "\n",
    "jsl_df = nlp.nlu.to_pretty_df(jsl_ner_model, text,positions=True, output_level='chunk')[cols]"
   ]
  },
  {
   "cell_type": "code",
   "execution_count": null,
   "metadata": {},
   "outputs": [],
   "source": [
    "%%display\n",
    "spark.createDataFrame(jsl_df.head(20))"
   ]
  },
  {
   "cell_type": "markdown",
   "metadata": {},
   "source": [
    "### Checking `ner_clinical_large` and `ner_jsl` results together\n",
    "\n"
   ]
  },
  {
   "cell_type": "code",
   "execution_count": null,
   "metadata": {},
   "outputs": [],
   "source": [
    "# %%local\n",
    "from google.colab import widgets\n",
    "\n",
    "t = widgets.TabBar([\"ner_clinical_large\", \"ner_jsl\", \"viz_clinical\", \"viz_jsl\"])\n",
    "\n",
    "with t.output_to(0):\n",
    "    display(df_clinical)\n",
    "\n",
    "with t.output_to(1):\n",
    "    display(jsl_df)\n",
    "\n",
    "with t.output_to(2):\n",
    "    visualiser.display(light_result[0], label_col='ner_chunk', document_col='document')\n",
    "\n",
    "with t.output_to(3):\n",
    "    visualiser.display(jsl_light_result[0], label_col='jsl_ner_chunk', document_col='document')"
   ]
  },
  {
   "cell_type": "code",
   "execution_count": null,
   "metadata": {},
   "outputs": [],
   "source": []
  },
  {
   "cell_type": "markdown",
   "metadata": {},
   "source": [
    "## Posology NER\n",
    "**Entities**\n",
    "\n",
    "- DOSAGE\n",
    "- DRUG\n",
    "- DURATION\n",
    "- FORM\n",
    "- FREQUENCY\n",
    "- ROUTE\n",
    "- STRENGTH"
   ]
  },
  {
   "cell_type": "markdown",
   "metadata": {},
   "source": [
    "![image.png](data:image/png;base64,iVBORw0KGgoAAAANSUhEUgAABqMAAADUCAYAAAAY/lm6AAAgAElEQVR4nOzde1yVdb73/1clLJVYWoCTiBMrKpQ8wOSB8cRgapanRrHuwJmUukdo7ol63APz++2gfW9x9u8hzL4L9x6hvQucCegusDsPlafJwcQwScwMYQqxEbBc4GGRxhKb9ftjgXJYwAIWovJ+Ph48ynWdPtf3e32vC67P+n6/t9hsNhsiIiIiIiIiIiIiIiIifeDW/g5AREREREREREREREREbl5KRomIiIiIiIiIiIiIiEifUTJKRERERERERERERERE+oySUSIiIiIiIiIiIiIiItJnlIwSERERERERERERERGRPqNklIiIiIiIiIiIiIiIiPQZJaNERERERERERERERESkzygZJSIiIiIiIiIiIiIiIn1GySgRERERERERERERERHpM4P6OwARERGRa+30xYu8crCYXSdOcPj06f4O56YXPGIED5tMPDfpQUYMHdqjfXx3poG9f/6cv31cTU1ZnYsjHLh8x3gRON2PmSvGcfudg/s7nHYu1l+keFcxJ0pPcPrkwG6rI0aPwPSAiQfnPMhQz561I4BL35/n70e2UVf1GfV1J1wYoYjreXr54zU6mB+PX4D7kGH9HY6IiIiI9MItNpvN1t9BiIiIiFwr/+fYMWJ27ORCY2N/hzLgeLi5kfHwPP7b2LHd2u7wBxXk/8s+Ln1/uY8iE/chg4j45xkEPxLQ36FcceyTY+zM3kmjVW21JTeDG/NWzGPslO61I4BvvtrHsb3/yQ+XG/ogMpG+c9ugwYyd9SvuundGf4ciIiIiIj2kYfpERERkwKg4d47VO3YoEdVPLjQ2ErNjJ1+dPev0NnUnLeT9LyWi+tql7y+T/y/7qP27pb9DAeCc+Rw73tihRJQDjdZGdmbv5Oxp59sRwPeWbyjd+6oSUXJD+uFyA8f2/iffW77p71BEREREpIeUjBIREZEB43/tK+Rio5Ia/elCYyPJ+z92ev0dfzxEY4Pq7Fq49P1ldm441N9hAFC4pZDLl1TvHWm0NvLxNufbEUBF8dv847K1jyIS6Xs/XG6g4tO8/g5DRERERHpIySgREREZMA59o29UXw+KT51yet3q0to+jETaul7K+5uv1Va7cuqE8+0IwGI+3keRiFw7ltMV/R2CiIiIiPSQklEiIiIyIHzf2MiX3RgeTvrOl2fPctGJoRIbGy5T+/fz1yAiaVb79/P9PiRi46XGbg9BNxCdPX2WxkvODWP4j8uXuHi+e8krkevRxfOn1MNPRERE5AY1qL8DEBEREbkWhri5Yetk+d3DhhEzbhzBPt6M8/JmqJvbNYvtZnGxsZGjdbUcNteScfQoX593nEiygVPl6zZ4ELZOKm34qNuZsvw+fAPv4Ef33YHbYP1q25HGhst8++VZasrP8knel5yr/s7hejYbuA/p33J0c3ejs8Zq9BrGuJnj8PbzxsvX277+TaTxUiN1NbXUVtVy9KOjWOo6SMjacPrcbx3kTmeFavAcwY/un4PHnXczdPiPuW2QoQeRi/TcD5etXDz3dy6c+Zpv/7Yba/3pDta0cauuTxEREZEbkv5iFxERkQHvF2PHsvan07j9Jnupfa0NdXNjyl0jmXLXSCIDx/BP+wvJKSvrk2OFLLqHOb8JxjBUdeYMt8GD8Bvvg994HyY+amJXWgmH36vs77C6bezUsYQunoab4eatdzd3N+7yH8ld/iMJnDyGjzcXUvZJ37QjgBEBsxgd8t+4zW1wnx1DpCu3DTLg6X0fnt734WOawd8P5WI+vq+/wxIRERERF1IySkRERAa0lUFB/NusWf0dxk3ndnc31v/sZ7jdeisbS0tduu+fPBbAo7+d5NJ9DiSGoW4s/H+ncKvbrRx698aZf2XsT4OYuWxgtVU3gxuzHv8Zt9x2K8c+dm07Ahhx78/wn/xLl+9XpDducxuMaWo0t9w6iNNf/bW/wxERERERF9GcUSIiIjJg+RuNrPnpT/s7jJvamp/+lLuGDnXZ/ob7ejDn18Eu299ANufXwdzudWP0hvH0MhK6cOC21dCFP2Wo0XXtCOxD840OecKl+xRxpdEhT+A+ZHh/hyEiIiIiLqJklIiIiAxYvxgbhIfmhupTHm5uPBUU5LL9hSy+t9/nNLpZuA8ZxE+W3NvfYThl7NSgm3povq64GdwYG+q6dgTgffdPNTeUXNduG2RgxP1z+jsMEREREXERJaNERERkwJrg5dXfIQwIk0b8yGX7uuveYS7bl8CooDv7OwSnePuqrf7ox65rRwCePxrj0v2J9AWPO0b3dwgiIiIi4iJKRomIiMiAdAsw0ce7v8MYEMb7eHOLK3Z0C4wcc2MkT24UdwXegWsqpw/dAt6j1Va9Rnm7rK5uueUWbve6xzU7E+lDQ++4m1tuud5vUiIiIiLiDCWjREREZECyAV5DhvR3GAOCz5Ah2FyxIxsMHa5hxVzJ447BuKZy+pANBnuorQ7xHOKyurLZbNx628Ad9lBuHG6Djdhs1/tNSkREREScoWSUiIiIiIiIiIiIiIiI9Bklo0RERERERERERERERKTPXINklJmd8QuI32nu+0NdF6rY+twCVmeWYu3vUDphLUnnyScTuSmqxWrBYrmeS/v6UJK5gAWZJd3ZgswFC+jWJj3U7diqtvLcgtVklg6Eer/57qHmnfEsiN9JV2fU/Wu2t67TsjbvJH5B/M1xvxaRXqplT9JyXvqwtr8D6RFrRT6JT85h4j1jmLL0OfIrbqTn+BFyHl9OzpGebFvN9oTlvJBd1uLvgxujLmsPvs4Lj4czZeJ0Hnv+FYr7O9zaD3np8UT29HccoroQERERkW4b1O0tzPmsnJrAXidWnZVygI0RYDEfw2zpfnA3JgtVpcco8rm+T9hqPkZJiZll1+k7AGtJMguerCBm90Yi/ByvYy5KJ/65NPbWXrJ/4O7NrLj1pMaG4nPtQr1xVB/jWLc36e4WPdTd2CxVlB4r4jpvZi5z091DLWaOOXNCPbhme+v6LGsL5mNmrruw5Bo6QurEFeS0+GTamg/ZsMS73yKS/lNfW05tfX9H0QOWncQvSMSS9A67X/XDWlGCxedazf9VSd6KJfy+Lo63PniawB7upaa8vIdb1lNTXk6xd+uKu+7rsux1nnlmM5M2ZPOX8QZqP6+Efr/t1FNbXsf1XGwDh+pCRERERLqn+8kon0WsPzyv1UdVW1ezcNtCtr26iFZ5A4MRuvzu+w3InM/KqdtYeGAjEe2yHkHE7j5O7DUOqST5HpaxieNJIU6tb5y3nrKyPg6qp6wFJD+ZQ9D6TzpMRFXlr2ROoplFa9/hwKIgfAxWzKVbSYlfycwDa9m9MYIONpWbQVAsu4+3bWUlJN+zDDYdx8lmICJyg5jAcx/tIwaAI6TNfJaafo5IpNtKD7AtIIldUUH2Lw2FhF2zQ1sPZpNaN57x7ulkfricdbON1+zYdmOI3nyE6Gt81N6qKS/kREQCb00fhQHwnH5tMlG1m2OZs30+u9OX9H/ua4BTXYiIiIiIK3U/GYUBo7H1txh9DAYwGPAxGrnWf9rJzaaK/NWrKYp6k/fmdXA1mfNJTKggKnc3SaHN16IBn6AIUt/xwzgnkudyQnknSukoERG5ORiMRuxPvOb/itxYzFUV4DO2H/5WsLAnJ49JMR+yzpDMzMztxM1+HN9rHseNp7a8GAzP654jIiIiIiIu0YNkVC9YStmalkZGUZX9336hxMTFsSjI8Z+l5qIc0rJyKakCMBKwLI6kaGeGYDOzM34lu+ZuJDXUQkF+GhmbKuxDHPmFELkqjqjQtnuxUlWyldysTRRUWK7EtyomhogQn1b7TSs1U4GF0pULyAIgiLiNqczzaXPseW2OYS4iJy2LXPsJYQxYRlxSNG1DKclcQCJreS/aj6LMZNKaYzcGsCwuieiWG5RksiBxE9YqgHgWFDX9ubhsLe9Fd9I9pCSTBYmw9r1orq5lpignjazcEpoiJCB0IcsiFxEW0NmrA2fKzhlWSpJXkshadieFdPiHb2l+GnvnJrA+1MEahlDiEuYSnLKV0qhYgjo5WtXW51i9bRavvtpBLyprESlLM/BOfZXooKZjOVmHWCoo2JpFbsuyXBZDQlQYfq3CbnG9hFQ07dvY4nrqioWKgnzSMjZhL3r7ceIiwui0ylrtopStGRnkFjS3keZ22dWGVkrSnyTDZz2vOujCZtmZyJObgh2Xr7WIlKXbCN64ts15mru+5sE+h87KXcxtKqeSzAUkbrLayzp+AVebwXu0agbO1p8DV9pllA8FOSkt7ikt72Nt68OP0Jg44hYFtX/55vQ10olenA/WKkq25pK1qYCrzXYVMTERtG223bontQrP8T28+5y8Lq4euOfl0qwbzytLRQFbs3KvHA9jAMtiEogK82tzH7NQujWDjNwWZR6yjLnLFjl/rzQXkZmcxqamHfiFRLIqLqqDc2t7vE6uR5x95rZ8vpq79Ux3FJ9z9y9XHlMGDEslhVvSydpSaR9CytPEtOXRRM8fg2eL1eor97E9O4/8z5v6mnmaWBwdR0RTT5Araj/kpWc/JHzDWibV72NLeiZbTtgHp/Idv5yo2MeZ1LbbQO1B8tKzW+170vzFRDw8A5OxebeJ/HrPbP6YPNtBr4Na9iTFsic8nTWzneiT0OZ4nv5LiElY0T4ul3KiHZt3Er8yjVJzBVhKWbnA/tszQXFsTJ3X90Mrl+WxvnA5a9Z548kKIpKSyDmyhPgJHTxsLWVsz8wkf3/TteM7iVUxscwf03q1mu0JvLB9Oi+/ssRxYst6kLRfZOK95hWixtR3ry7725Fsnli7GWsNQCJPFDeV1eIk3loxwf7/DtrY4uhYFk83tWpjLdvO+Mq3ycjJ43PPWMfXfO2HvPRsOuW1lVBfxq8fz7Z/Huh4/fqyD8jIyKS4qYn5ToomJuYRAts+Eo5k88RaePHtxRi2Z5KZV8iJ8BbnAtQebIqtBsAT/8WxxK+Y7Lg3UI/bWos2PaGGLZmvk1PsaB+1HNn8Olk5xfZesJ4mFsckEDW5gwPUHmm1L3wnERX9NIsntFn/SjmswPdgNqkZm7Hfxhycb1/VBbUU56WTk3ekqYevJ/6T5rN4+Xymm/QsFxEREbnZXbNklPVYBiuTizDGxZC0NgAjZkq3pRG/cCmHN71HUkjLPwir2Bm/kudKg0iISSUmzA+qCtiZlsjU3BAyNqYyr4tOLxbzMcwHthKfkkZVWBIxqQmEGC2UFG0ibeVUshZlsDF1XtNLcitFyRNZWTSP6FUxpCaE4GOtoKggg7RlM9mb8Qnr5xkBH8KS3iS0aiurF25jYeqrLGqKw2Bsc+w2k3tU7Yxn5XOlBCXEkBoThh9VFOxMI3FqLiEZG0lteULVxzhm2UbynHxKw5KISYrBx2ihoiiLtMiZ7E3Zzcbml/8hUbz5ZgQlKcGsIok3E0LaB+RQNa2nA6oif+Uckq1xrE2NIczPiKWqhKJtm0jL8CEkdV4H32R1tuy6VpW/micLwnjzvc6G2KuidG81U5eFdPjNWmPIXKZWZ1FSEUtQQMfH85sXSUh8PFtLI4h1kHix7MwiwzCXvU2JKKfrsCqHpbNSMEQmELl2FaEBBswlRWxKW82s3Di27W6dJLOYj1F1IIOV8UUYo1aRkBTgZCKpiq2rFxBfFUZCzFriQv2gqoiCrBQWpGSR9N6rRAV0ntWwlqbz5NI0rPMSiFkbh30XBWTFz2TTqiQ6KT7AQFBIEAXJBVRERLVZ18zO3FyO7S1wWL6WnVlkBCzjcMs3UM5e8/aVW82hExL1Jm9GlJASvAqS3sRRM+hWG3SkuV0uyKd02Vri1sZgxExJbgrxCws4nLue4KwnSbREkBSzlhgfsFQUkZa4kJl7M/ioZRvq5jXiSK/Ox1pE8sSVFM2LZlVMKgkhPlgriijISGPZzL1kfLKeVs22O/cke3TsjF9JzE4fViUlkBoagtFSQtGmNObM2UVSZBcn11K3juuCeqZ7z6uqnKXMSjEQmRDJ2lWhBBjM9ufM6lnkxm1j95WL30pJ8lKeLAohKWk9SUE+YK6gqGgTucn5BL3TdZ1bCpKZk1xKWJL9Xmsv0wxWT81iXttzs5aS/uRSMgxRJMWtJynIiKW0gNyUpUzJiuOdN2MJunIa3XvmtrpnOfVMd6R79y/XHFMGjOoPeOGJ31EcGMeLibFM8nenbv8eMjNX8NDmJN5NtycPavKieDTNQETccl5cMRmTey1HijeT8fwj5MW+zbvRLbMP9rlRircnkpZRw/T4aNbETcCz/gjFW9J59qFs5r+czprZo5pi2Myzj6VwKTaRNdHT8fWsp+bzYrZvTifLawJrmoeJq6+jvJNJg5ydU6jmw0Se/V05gXHR9uNRQ+GedNY+9DYTWsblUk62Y58wkt4MvTKsd+qVYb0N16CXlJXCvHSIzWaSAWAyUQle/DzzQ2JeeaR10gSwlr3OM79I51L486xKjGWSL9QUF5Lz0iNsiUrA1GJd3/DFjE9ay/ayJUS3SVQB1O/JJss9nPfHGID6639+qJYmLOe11xZzJG0GvyaB1+KakjbNv1hVf8ALTyRRM61NOaUtJy07gbdeeRzTlVtyPbXlNRRnxvJSsScRUXHEm0ztyh4A7+nEvzaJmh3P88T2+ax5eX5Tos/QZn0r5ZmxpBZ7EhOdwIv+nlBXzo70JJ74xRH+/PbvaJ1rrKa8vJ4dKW+zpXwyzy1PYHmg/5Vle5Ji+V35GOKik4me5gs1hezJSGZO3gRe3rCW8BbNp7dtrb62nJri13n2pWK84+KIX+yNZ30lhRlreeaRQta8EU3lS8+z3z+WVfFLMHnWU/v5ZtY/O58tcdm8taL1xWY98gq/fDoPz+UJPLdmEhM86zlSvJmsZ2eT+fAGXkua0SJx1FwOi9lSPp346ASivTypP1FMTvrTPFqYfOX+2Dd1Uc2W2CWkXorlxTXRTPf1pL7mCMXbt5CR6c2E5NmOrwsRERERuXnYXOB03lM201N5ttOOl9rynjLZTKanbHkn2y/9KvvnNtOMDbYv2u7voTW2Qw1t126wHVrzkC3wNzts5zuPqOmYD9nWfOxgzZN5tqcCTban8lpEfP68w31+lf1zm+nRbNtXrXafZ3vK9JQtz+EJ24/dat+n82xPmR6yrWl/QraGQ2tsDwX+xrajxcEPrTHZTKYZtjUfO1j/ry/aAk2t17+yzZpDjgJy7NAam8m0xnZli0PrbIGmF21/bX/IrnWn7DrQcGiN7SHTz23ZLVc+ucO2bt0OW+vL5pBtjclk6/xUnVnH7osNMzq4nk7asn8eaHuxuQ66VYcNtvOOCqThr7YXA022F1sVcvO1+nPb684U1NWd2Q6te6iDdmKzncx7yhb40LpWy9pdIw2HbGtmmGwPrTlka7+Lk7a8pwJtpi7L8QvbhhkzbBu+aPPxyWzbz2ess72+boZtRruF521bftWibG09uOYdtsFO6r2bbdCRjmNssH28ZobNFBhom/BUnq3dbe6rbNvPTW3LqPvXSG/uKY6cdxjAV7bsn5tsj2a3vhi7Wz+n856ymQId3/PPf7zG9pDJ1Mkzo+fH7X25dP95ZWtwfP+zx9finnp6i+0p06O27G618+Zt82xPmUw200NrbI4eaae3/MYW2Ko9NNgOrZlhC3R0PTa17YdaXJDde+b2oIza6e79yxXHvGpQSmqrn/OW+hvsp9CWaDLZot6ovA5i6d5P27J3VvyE11r9dHocc6FtTbjJFp5YaDvdbvkR21tvFNqqrqxbffX/W/yc/iDBFmhKsL1vbvH58WxblMlkM4Un2v5S1X6bY2+ssAWaVtjeOG7/90drAm2m+A8cxND6p+KNFTZTVLatwuHyStsbUW3r2sFnx7NtUaZwW+K+2vbnsi/RFh4Ya3vXQcwtf9qWcde6/3tI538vtJf6q9RWPz267o69bltsira91fL8q962RZvCbS9/0v7aSZze0bVTZnsjyv57UeK+q59/8sp0W6DDej5ie21xoC3+L8114mRdOvHTtly6Y9ery1v9dHWsjxJNNlNiYTfamL2cwte0WNbcdhan2w47eY6dtovm/UVl2445LHeTbforB1t/vi/RZjKZbIHxH7Rr8xVvrLCZwhNtH5nb7qvW9lFiuC0wZvPVbXrd1ux1bjKtsL1xzFHZmWyBgYEOy9Z+X2qz/+Nv26ICA21Rb5S1P1bVh7bE8EBb1Nstrq+mcpie+GH7ujN/YIsPNNli3q3uu7rYl9z+3urkT9trV0RERERuTLdes6xX5KorvYhaCgiLZGr1AUrNzZ+Ukp+2l8ikBNp/ydlASEISi7ZlsLXKiWPOjSMu1MF3Lv0iWJ86l71ZO6lo/qyD+a4CQpcx9thxLA6WOas0P429kUkkOPjWtiEkgaRF28hoe0JjY4h0MAydIWwhUWzjQEW7Rb1j8MSHKszmrldtp7dlZy0i5bkc/FLWE9Wye435ABkZB+hJSM4KWhRDkIPryVqUQbI57koddK8ODRgdFYghlLkRUNW22xxAZFzrc++KtYhNGVbi1yc5aCfgF5FAnDWDrIKOS99SkEUW8ax3OCSiHxEJcXT9PeogwiIht6C01aelWzMwRy4kOjIGn7RciqwtFlZtJasgimVtr+8+vOZ71AYdmRrHqnYxGghduAj3Sz7EJDjo1RcQRuTUag6Umltt0+1rxMXnY3QYQAChy8Zy7LiD4ztdP/Z7+NzU9TgYvRFjaBxxczsNrYfHdWE9O/28AgyO73+G0LlEUHW1l6zBgBELx81WB2s7Z25cHI4eaT6L1pI6dy9p+U3t0FJAVpaRpCRHvUz9iEhKwHClXfbwmdudMmqrp/ev3hxTBoz6wmyyLsWxLmGCg2ebiflLJlz95r3B6PBb+IZJ4SymhjoHvVjCY2OZ5KAd+i5Zx5rwQnL2VDbt2htq6qjr8Zk4r3xLOvsjEnjOwbBzhgnPEz9/O5k7ql17UBf8HnItlO/IpDxiBeEt68w4m6iIGjLyDtLyjlxfmE0OHV07o1gcF9tuOL7Ah6MJzE9nS5vitR7MJrUuluWTb74em9bizZ20MXs5XcrKZn+bqo+IXd6qZ1lvRayY72B4RBPTl0+i5mA5te2WBRK/YkabNl/GloxCIhKep33zMTAhLoH5O15ne1P9uqytRUWzuN0v2aOYtmQ6ly5NJyamfdkaps9nOdspPnH1s8o9meyfnsy6JQ5+YzdOJiZ2OvvTNlPeakEgq5ZPbl93hhnMXw47Wh7ASU7Xhbsn3tRQ175yRERERGSAuGbD9M0KDnI8B5CB1p+bKzhQPZYASwlFRY42sGAce5jjZuhkLDcAps7tZCi3oFmMPXaACkvU1SHRLBWUFBSx61iLPyIspViACjPt5lFxjpmKA9WMDbBQ4viEsBjHcrjtCYUGdTBEWh/9URsUQdKyTcTMmULuvEUsmzuXkJAgAvycnCi9x2VXRf7qlRTMe5P3HL257kh33udW7SQl93Crj0bNjSEqxAh+ESREJhO/tZSoK8NpWdiZlUto3IGmYbN6UodWqkqLKCo6wPEWf3BVlcJeQxW0mSHBYfvoLO6KUgoIY22HCawgQuZB2uEKmOd47rCKwzshbFnHQ/EFhTCvo2UtV1sUg8+cTZTEBjXNP1ZKQa4PMW8GgZ8fq8KS2VaSRGhTQqGiIBdzXCrtouqza76HbdCRoADHa/jdQygB+Di8ztve5Jp17xq5ynXnY6kooaBoF62brQWowExI6wicrZ+me/jcDufwMRIydyps6zS07h/XheXi9POqmbWK0qIiig4cb/Hyq4pS9nKlKo1hxCRmsDRyCgVzFxHZdI8NCvBx8gqfytyQjss0aNZYqg9UYSEIY8VhduJHsLmIog4SNH6XqqiyAPTsmdvtMmqph/evXh1TBozKIx/CtMX4d72qnbWa8uJiig9Wtmi/NZRTiKEGWk+MMonw8R23w8DpgZQfrKR+uYnAxQks3vw8j81+m/D5SwgPn8CEQBO+RldfrbVUHqwh0FTP5wcPOlyj3jOQzyvrwImvmDjNBb+H9DnLB2SkuRPzVtsX7wYmRScQ+GgmO2Ins7ipjru8dsZMILztZ6OWEBORwu93lLH8ylh9Fvbk5BEY/QGBrjub68aJ8kKYlthFOaVz5ASEX5mSaToTAl157Xe8P/cOnwiTCGybDautpLgmEFP9EYodNp96PAM/50QdMMp1bW1au0DsvH3tperr8DbT9rwsnDhYTuD0MR0Obec5fjaTarZTWfs0gVfuZQ7KoYl7p1F3pBt1MWYJ8Ys388Jj4eSFz2fx7NlMGB+I/ygn/94UERERkRveNUtGOc8KWKg4sLfDaY8MYTEEO5EYMnT2a23Tt9StTUmNqq2rWRBfRVj0KpbNmnV1S7OVgtzedUOyApaKA+zt+ISIceaE+pQP81J3czimiJ0Fu9ibm0xW4jGOW8eybO161kYEdFiaPS87KyUpK0nYG8DCoF2kpexqs+MSALJSUthFcyLGj7GzYFNVFR2+UK6qoJSxLHRqIgIDoZFxsDSDnVFN8+RUbSWrIJKE9VfrpFt1aC0hZemT5BgjSIhcyKwWE8GUVmQ4/Q6+U9Z6zBgwdHaJA5c6S9pZL4Ghs1bi5J+FfmEsC0pmU1ECIaEGrEW5pAVE8pEfgJGwhWHEZe0kIXQRRkrZmQExG7uaHce1rrs22MtrpPfnc3Wej+hVy5g162pdm60F9O6WZwWMXVybffPKoT/q2VqSwtInczBGJBC5cFaLeZ9KqchoWZMGgqLf4bN5pews2MaBXSlsSqngWK2BqfGvsj42tMP0Y/P2nT/SjGCxNuXprVzCzOG9ex18M9wuIGYuAQawPwRd88x1mivuXyIdudTVs+2qK3OtLI4jYv70FomDck5kbXewRRft0N0T6u3t0NN7Nms272PVwT3s31NIfmo2vy8/gTVwMYnrkuAn+rQAACAASURBVFjcPKGOC26Hl4D6ymIK3Tt4Je0+nVUTvHp/oJZugHZcuSObPV7eeG1/hbR21VmPwauQjC1lLG5OInV57ThaYmD68lj4RR7FUUn2eakqt5NTuJy4dX0xT1f/s1pqnSinS1y6diH1wiWgnsqDhXTYfKZF09x8+qWtdegS1nrwdO8khWSwJ5iun7rwJjx5Cx9FH2RP4YcU5qWQs7acE9ZAFiem8OISk5JSIiIiIje56y8Z5RPE1FFmqhfGkeBgaKbu2Hu4FGtEmMNfaq0VhzkwaipJPoC1iIz4UiLe3N1+AnRzFT705s2sD0FTR2GuXkhcQuh1/wu2MSCUiIBQIqLt/7YUJbM0ciWZQR8R6yh/0Kuys8KoecTEdCdCH0LmjiUht4CqiCiH6aiqglwOjFpIUvO3df3mkZDQSR+foAjiQqeSsTWBeVE+lGRlYI57lauXX/fqsCo/mQyftRzYGNHu5bJhl8NNHOss7oBg5pFMSWkSoQ7zOhWUFsGsVR33APELngUpJZQmheJ4F6UUAaFdB8qiVWEkbSsiKTSUkm35hC1LuHLuxnmriIzPosCyiEVVBeT6RPJmd4Yk7LXrrw327hrp/flYizKIL43gzd3th1cyV/nQu1teAEHuB9hVYiHCz1F2w0rp4b3Awl4cxOGB+6Geq8hPzsBn7QE2RrSrSRxVpcEviEVRQSyKSgDAWpHP6gWRJAccZv28zjLoezlcaiUizOETjYrDBxg1Ncl+PQVMZSElTI1MIKrLDqeue+Y6zQX3L5GOmCbNh9QjlCdM7qJXSjVbUjLxSvyQDUu82ywzsMfhNoUcKbey2NtxO6w8Uozv5IQWnamMmCYvwTR5CVEAWChOWcEzz2YT+MHTBNLUE2J/GTUsoW0UUEttlyNmeRM42Zfa6vnEPO9g6K2+cr23Y+tBclLKGT9/RQe9RjwZP308R9LzKIxKYroBfCdMh7ROrp3KMoqBSW0/HzOfVYGPkLk9lklLPCnOTqEuNtuemLoJmSbM7ryNVZZRzHSi2o/bdv3xDmSSby0182OJ63JIxX5qa53EY5rsS/GeI9QvGeXwOreWH2G/uz8x7W8u/crTNJnFpsksXmH/d/3BdfzimVhyArdzpYOhiIiIiNyUrt2cUU4LYl5MELkpOR28D7VgcfZblrlp5DvaibWElORc7okMs7+Et5ipuuTHWJ/2f1ZYinaxt+2HRh/8MGN1chj8oHkxBOWmkNPBC16L0yfUMeM9Y8Fq6dbodU7tN3QhYVRT29GOu1t2rfdOSFQCCQkd/KwKAUJY1fTvqKYhqgIWxbGwNJkMR/MQWAvISD7MrLgIxwkWh3xYFBNJacZWSs07ycgKIC6i9dbdqUNzdSkE+Dno5VBK0U6ng+qcMYxlkWbSUvJxNAOOtSCL5IqFRM7ruDuDT1gkC81ppOQ73AMFWckcczqcZSzMzWVnxU6y8iNY1fKluiGUZVEFZG0tpSg3jaBVi7oaDK+HjNibQfuL9Vq0we7o7TXS2/OxmKu45DeW9s3WQtGuzltt10JYGHcPu9LSKHEURkU+abm9PEQHrn09m7FXpYN2VlqEM83dEBDGwlDnYstNy3f4XLSWpJCcew+RYU33LWMYyyJLSc4ocDxnn9XS4nMXPnOd5YL7l0hHPKcvJqI2nbTNjuZtsVBZ1txfsI6acjD5OnhLW3awg2QU5KdvptLB59Yjr5Ca70/EtM7epBqZNH861NRe/X3Ny8R49lBc5mCfBzeTX9PJ7poEhkcTmP8K+Y4CA+r74hl3nbfj+j3Z5PvGkpj8PHHPd/CTnEJ8YB4ZTRM+eU9bzsMdXjtWCrNT2sy902wUi2OXU5yxmfLaD8nJD2TVwzfvG/XO25i9nCofXk54LxIgnt6+UGfFwbRtLjaG8OhA8tPyHLZrsFDfovn0S1vrRGB4NOP3pJNxxNFxK9mSnod/7BImOFjqrGtRF56TH2E6NdRdP124RERERKSPXIfJKAiIWk+KMYUFC+LJKamyvwizWjBXFJCydApz0kqcSrpMXRXCrqVLSSmowNy8j9J84pc+SY4xkfXRTS/ufEJZNquEjLStVFzZsZWqgmRWZlS0H/XbEMDY4GNkZRVgBvt8IRWdZKYColifYiRlwQLic0qosp8QFnMFBSlLmTKng5e23eAXEIJ7fhb5pfY4LKWlDl8OdMSy8zmmPJlMfnN5A1ZLFSXpaeS4RzK3o8xOd8vOFYzzSEgNY+uqmTyZXkSVxYLFYqGqJIf4BavYGpbG2na9FDpnCI0kjjSSn8uiIDKGRW0370YdBs2N5p6cFNJLWlwTllJyVieyyWVfozQQlvQmUVUJrIzPoaTKnoi0WqooyYlnwaoiFq1PoNOOFk3lWJKwoKkcm86pqoSc+AUkG6JY5mw4xjAiIwtIW51GQdQy2nawCFkWhzk3nuTcMBaGOTV+Yg/4ERDiTn5WPvZmYKG0tKkVXIM22B29vkZ6eT4+ocuYVZJB2taKq/dSaxUFySvJqOh9qw2KTiXGkMOTS+PJLzXbj2E1U1GQwtKluwhZNbXXx3DomtdzEHOj7yEnJZ3WVZnD6sRNrb81XZrOggXPkVlQgfnKTdZMxdY0MvYGMze0q3vWVFaF7GLp0hQKKsxN7d1MaX68fZjAxPVEX7lPN90filYx88n0K+tjbb5PTuG5rVefEK565jrPBfcvkY4YZhD/+nJqXnqcZzIPUtN0H6ivPkJe0gp+/rvXsb+3DSQ8yp+8tNc50qL91pe9zQtrN3cwd8okoibs4ZcrXqGwsrbpuq2lfHOifbi/+BSixgBY2JMQzjMpmzlSbbkyfGZ99REy0/Nwj5h9tUfJqCXERNSy/neJ5B2ppt5qxWqppbLwFZ5JhfDFTpyz6XHWrTGS9vhyXso7cvWcayspfCWKhx5Lx+G76l65nttxGXlpewiPXd5F77hRzF8RzueZ2+1JJuNs4pKn87nDa2c5qYbldFQdhunLiSGd1N9lUxjxPItvzhH67K60sdjW11tTOf26eD7r4mZ3OI+RU4fwD2R8eTY5hfbksbW6jEonvwTYXablKazxfIUnHm9ug4DVQm3lPtJWzOax9CNXn4H90tY6C/5x1q0ZRd7T0aQVVjZ9edDaFPtyUoljXVTvEqOurIv6DxN46Ol1bGkuZ8BqqeZIZjp57ssJd+kka2a2rp7IxPidjr+YIyIiIiL94vobpg8APyI2foRfZjIpq+eQVGv/mpS7dzARCe+wO6KDSczbMIyNYePuCtLjn2Tmqlr7eNme9zA3ZiMftZqfw4dFr76HNTmepWPj7N/8cvcmOCKJ9a+OJXFW2xlc/Ihan8Hh1auZes8lwJPgxI28GRDSYVx+ERv5yC+T5JTVzElqisXdm+CIBN7ZHUFQL5MUhtAk3klYyZMLg0kC3L0Xsv699Tj6wr4jxnlJrK+yl3dCbfPX0jy5Z24MGz+KbZdcuKq7Zecafote5aOAfFISVzMrtem7ep7BRCZt46OIILr/7iOIqIQwUuNKiU9yPMSXs3VoCEngzY3pxK+eQmpTWXreM5e41I2s3RZMZI/O2AFDCEnv7SI4JZnVc5KwH8od71lRJG17h0VBXZfC1XJ8jjmpzW0kmMik9bwTYSUtK8vZYAhZGEFVbgFx6x1MVB60iBhDKkmRffliykBo0jskrHyShcFJgDveC9fz3np7D6S+boPditQF10ivzsdnEa++ZyU5filj4+ztx907mIik9bw6NpFeN1tDCAnvfcSs9EQSn5xKgv3GgPesONbv3khAwUqyejcVX4eubT0bCEl4k43p8ayektrUBj25Z24cqRvXsi24RU0GRZEak0Za8lLWHm/+frE73sERJGzbSESX3QUNjI3ZyHulySQ+OZNVLa6bmI0fEds2mXXl/pBC8tJUmg/pec9cYtZ+RGqr9V3zzO0WF9y/RDpimPA73np3AutTEngsra7pPuDF+MXP89YbSwg0ABiY8HwmGzKTeOGhtKZv5HviHx7Lmg1J7Jj5tKM9Exidzv+tfJ2Xnp7Pr5u+xu/pH86qDduJntzcFcRIeEIKNSmv8MJjSVe/7e/pT3h0Ou9Htxziy8D0pO28lpnE755+hN83tQWvabGs2/A87pk5ZDhxzr5L0nnfN5vUtDgeW9v6nN94t/mcXew6bcfWwjwyapezIbzr43uGP01U2goyti/n5flGfOen8b7/ZtLWtrh2PMcTEZ/CG0sukZGT08GexjA/OpD1a+t4Lv56GMKtb9nb2AesT2l9vU1bnsBbbzxCYG+rftTjrHv5CC88P5vgS4DneOI3ZGKa0BclO4rF6dvxzU4h7fkl/L6pwbp7jWdxXDbvLhnTqj77pa114mo8K5jzefPDfjwPx6Tz/orJDob/7CYX1oXn7ATW1djL+aWrN0b8w6PZ8MHTLh7a0oK5oh6rj703uH6rEBEREbk+3GKz2Wz9HYTrmclfOZVtCx3N4yE3HytWa+eTaDvDnL+SqbuWcfjVRfqDRUTkJuWW+odW/67r3sSF0gteGa3TKo3xv3Vqu4SJr7f6d+K+J1wWk9NqN/PsQ9uZ/5d0Fl9n86+4wtoZb7X6d8pnjpJx19YfVrduq7/6g9oqwH/+tnU7+u2rzrUjgN3/+Xirf095MtMlMYn0tU/ejG717zm/erufIhERERGR3rguh+kT6Z7eJ6KwFpGRVkTkqnlKRImIiIiIiIiIiIiIuNB1OkyfSF8rJX1BPMeWxRAZYGVXWiL5oev5qOPxCEVEREREREREREREpAdu0p5RBgLmxjA3QIkF6UgQUesTmFq9i7Tcw4xa9Q4fpapXlIiIiDjgbiJ8VTj+7v0diIiIiIiIiMiN6SbtGWUkJCqBkP4OQ65rxoAwopLCiOrvQEREROT6ZpzA8ucn9HcUIiIiIiIiIjesm7RnlIiIiIiIiIiIiIiIiFwPlIwSERERERERERERERGRPqNklIiIiAxYxae/7e8QBgRXlnN1aZ3L9iU3Tnme/rvaqqvL4Lu6CpfuT6Qv6DoVERERuXkoGSUiIiID1tHaG+NF/I2u+FvXvUT/9m/nXLYvgeovbow2UFd9Y8TZl7792rXJqItnT7p0fyJ94bva4/0dgoiIiIi4iJJRIiIiMmC9dvQoFxob+zuMm9qFxkbeKD3msv0dfOdLLn1/2WX7G8gufX+Zki03Rq+Do4VHabQO3LbaaG2k7IDr2hHA6S8/5IfLVpfuU8SVfrhspfb43v4OQ0RERERcRMkoERERGbCOnTnDSx9/3N9h3NRe+vhjys6eddn+zMfPs/uPh122v4Fs9x8PY6609HcYTjn7zRmKtg3ctlq07WPOfuO6dgRw8VwVJ0vecuk+RVzpZMlbXDxX3d9hiIiIiIiLDOrvAERERET608bSUhr/8Q/+ddp0bnd36+9wbhrfXWok8eP9vHHMtb05AA69W8E/Gv/B3LgQDENVZ91lvdjI7n8/TMnWG2v4q2Mfl2L74R/8dMl03AwDo94brY0UbdnPMRf3imp2+qu/YvvHZX78k0hucxvcJ8cQ6a4fGhs4WfJ/OF2hXlEiIiIiNxMlo0RERGTAyykrY9+pU8SOG8dPfjSCB+70YvAg/ZrUXRcbGzlaV8thcy0ZR4/y9fnzfXasw+9VcuKwmanL78M3yIsfBQxnkOG2Pjveja6x4TLffnmWmvKzfJL3Jeeqv+vvkHqk7JMyaipOMW7GOEbcPYI7R3oxyO3maquNlxqpq6mltqqWox8dxVLXd+0IwHx8Hxbz37jrvjl4eJsYOvzH3HrbwEj2yfXjh8tWLp77OxfOfM23f9uNtf50f4ckIiIiIi52c/3lJiIiItJDX58/z/9TWNjfYUg3nKv+jh2vlPR3GHKNWerOs3+z2qorWetP8/Wh3P4OQ0REREREbmKaM0pERERERERERERERET6jJJRIiIiIiIiIiIiIiIi0meUjBIREREREREREREREZE+o2SUiIiIiIiIiIiIiIiI9Bklo0RERERERERERERERKTPKBklIiIiIiIiIiIiIiIifUbJKBEREREREREREREREekzSkaJiIiIiIiIiIiIiIhIn1EySkRERERERERERERERPqMklEiIiIiIiIiIiIiIiLSZ5SMEhERERERERERERERkT6jZJSIiIiIiIiIiIiIiIj0GSWjREREREREREREREREpM8oGSUiIiIiIiIiIiIiIiJ9RskoERERERERERERERER6TOD+jsAERERkZvZ3aPvZarHbcAPfFPzFXstzmzlw7wxdzIcACvlZSf4rA9jnOgfSOBguhnjwDNy2j2M8ASwcnpHNaf6OyC54Rnvv5eRxtsAsH5Tzomqfg5Ibii3+03DwwBwgQsVn/FdfwckIiIiItIJJaNEREREWvjNE/+D//3jwR0svcy5C+c5cGw/v95Tztcd7cQYyO9nT+NXJi+Gt/ltq6GhjoKjHWxvnEh2xEyWeA2mVQSL4NyF0+w4sIcXPz3p+LijF/LlfxuDP1B29C3Gf3Cy8xP1mchr86awxHdYU9KrdYyb925jxWfmFp/O5/P4cYzpdKcNFHz4H8z5tPND94+Z/Paz+xnR6TpWKlKyeTWnxUeBY3g8cQIPTPBkSMtVU+D72jrK0/eSm3+m3Z5mvLaCxZMNHRzGyukjx9n30n6KahzEaDnFlpnvs6+rU5r2M/6f9ADudHb9m9D8f/kt4+7qaOllGmpPc2LHLrbtNbdfPPsJ/scTo3Hc2i/T8M0pyv7yAbtbZWd/whMvz2b00DqOrs5ie6dxNXDyrf/grQ/bLPQKZObj05j4gBeD3VouWAQXz3Py47188HY5AyknHPT42/i2vRFdcYnG+hPUHf4vjh5zcPcLe5k5gaNorNlIwbb3He9i3D8TNu0B3M79ld1vb7jy8eiFWQT6ejje5vIFLpwu5O9/fY3qTrI8d8z+Dx68dwRQTc3WFyhtlaV+lp/+6md0cITWrF9Q/qd/4WTzNlf+3YbXXIJmLMHnRyNodfk8BI0XT1D36R8dllPzuTbWbOTAtvdpcBRDB+UkIiIiIuIKSkaJiIiIONBwoY4Tbd7WDfYYhr+HFw9PWsTR+8bxT/9nE//e9o2xfzj7Hn2QqR4Al/mm7gzlZ87wzSAjE0eMYEzT9sU/Hk3Un3az88qGD7BtxVwe9gAaznPg1Cn78Qd5EDjCh+BhI1gyZiQrPnWcZPrl1NH4N/3/GNMUfslJ/tzBud09cQm7Z9+H/yCABr6pO8Nnpy00eNxJoNedjPHw4ol5UYSZ9jL63UNtS4YTdRccv8jEyokLHRz0umHlTOX3XHa47BJna6/+646IOaxOuJs7Dc3bncdcXk+j13B8A72409uL4KRFBMwu5j+e/YKzDvbYWHuOs/UtP3HH0zSUEZPHsvStEYz83bv83/1tNjKOZMbLo9j3QnUn53E7i+Lu5k5nTnkAaKit40KbSh1s9MLD25cxUU/hP+sw29bu5oSjjRsvUFfX0H7bu0YTHPVLfP228edch1t23wPhRD71IL7DwJ4sO4O56gwXBhnxuetOvLyHMfqhRfzyfl82r93TPhFxk2usr+bSD60/GzRkFAbP+7lrZipeY3dy9J3XqHPxcX+4WE3DpZafeOA+fDgevvMYu+x+PP+SQJnDXmth3O3bnOIehVdwGJwqaLG8mgvnWrfjW4eMYojBwTGtZlqF4MDgsb/lwZ9OYcgggAt8f66aC7Vm/jF0FJ5e/gwZ6s9dM3/PHf65HPzAccLJzXc5D4w7yKdHHSRoRURERET6kJJRIiIiIg6cqMxi/AftP797TDivz55I2DAT/3vFMs5v2HQ16WP8CbsXPcjUwXCurox/yt/Gf1nabj+H/LnBBI8IJueJM0x665C9p1P4g/ZE1PkyFvznthZJqiY+D/BLjy8cB2ucw29MHnC5hs2nR7DEdzS/mmXkz47G2/Ofz7amRNQ3NZ/yP7fu4W1HMc4eTXnZV+23bzCzPvMt/t1xJNc/yxn2PeZMr6OZPJ1wN3caLlN/sIy3njnA39qsMnLVwzwT64fn9Ek8veYcf3ipffLobOEm/vBSmw997yFyw0yCTV5MipvKX/cfaJfIunN2KI9P2sTbxY7DuyNqFpPG6Fd5uwbMf8lq3wMJ8Jm1kIU/H4PX6GAeS/yBzLV72vc4qqsk65/b9nEyEvjMMh6Z7MWIabMI33GCPb3NgHj9hCeeeRDfoXC59kv2pG/ms7YJDr8pLIudyKCDRwdcIgou8N3nL/Dp0fZLbh8bx/gp0/HwnseEpY18/M6fOkiI90zDyRf4uKDNh7dPY9yjz3LXcH9GTnmKE1Xtjzl4xgK8h8IP337Cd15TGDZyLvfeXsBXV3pSbebI25tbbdPcQ8nhMTvj9ywhP53CkEGXsNbsonTbn9ol5W6f+E+EPBiMYXQkIWHVfFzgaIBXD+6Y8k8EnXuBUg0LKSIiIiLX0K39HYCIiIjIjeTrsj3Myd5LQQPgYSJp4egry345byphg4HzZURltk9E2bffzeStRym7DMN/PJU/PmD/fPEw+0BO35w+2j4RBWD+gj930Dlj1iwTwcCJyv1EHD7JNwxi6phZzGq3ppF/CxvDmEFw7u8fMiOnfSLqSowbslhRNpAGCmvpdhbF3cMIA3x/sJj/cJCIAjiVtYP/SDvF9wxixPzJLPJ1cvc1x8l99jinATfTCEIdrjScifFTucPhsvtYGj2y9bCB4pB57zayXjtKXSMMGj2RhQ87u6WF8tc2UfYN4HYnI9s3pm57IHIqo4cCtWW8+6KDRBRA1SdsevG/eGuHeq209N2xND7+y1+5cBlu857L+InX4qD7Ofr+fi4Atw2/D792KwRx72h/4DR1n/6BqlPnYND9/GhKUB8E48P9U6bhMQgaa3I56CARBfDdZ//KwU++oBF3PAKiuP/29us0Wi/AoFH4PvTPjHawXERERESkrygZJSIiItJdlkPMOVBDA+D/4yk8DsBP+OVID+ACOwod9Gxq6cR2Uk9eADyYOu4nAGw5bx/f7q7RU4n36U4wP+El0zDgNDs/PAFffELBeWDYaBIeaLOqcRrzRgwCTvP2B4c6nvNqoPMNIXDMIKCOwy85Hn6v2dmcvRwuAwxeBMZ0481uzRnqLYDBHc+2yyynqagEtzH38XhU+33evy6EQG+oL6zitPNHHLi+2M7uw+eBQfhODu/GhhZOn28ABmEw9jaInzDuHvv9oXLbNsfDBUrnqjZQduI04M6wgKeuzTG/O8ElKzDIA/e2y8Ytx8sTqD3M36rg1OEv+B4Y4vsYI10dx+3L8fJ2B07w7V87mO+pScPRDXxbCwzyx+vB9g+TSydeoebcJTA8wL2PPouXq2MVEREREemAklEiIiIiPfHJKcoAPIzMA2AEPxoMNJxhRwej6bX058oznAOGD/PlboA9R9lxARg8mn9d+TzmX0Wy7ZGZ/Hf/zjNTd88dR9hgaKgp49cWgJO8WFZDAx48PGmOfd/N7hvGXQDnz5DS005Pg4by8MKFZDv4+X3b5NeNKtzTniCqPsdfa7pa+Tv+esI+KZSn791drNuC7514GgHrJerbLfyBL1K+5gwGAqKn82Cr7abyaLgnWE6xZ+1F5483wJ08fIYLAF4jcL5TjZERwwYDl7H2tpOgly/GocDFM1R+3Mt9DWBnv67BCuDpz6hrccDb/XE3AJcvtJnPyYcx9z+AG5c4X/GaPTl0Kpdvv70EQ4P58YxufaOga/4+9mRYfTUnvutqZTMnztnT1O6ekx0s/4zS93M5a4Xbhv+McQsfZbBroxURERERcUgDzYuIiIj0yHnON8CVt3gPNiV6usvgwWLg3znEwuwL/Nu8afxytBfDh/ny8DBfHh43lQ2XL3D4y/08s+0zWs8A4s+/mUYAFyg4/MmVT7/e+xkF43x5eISJ34+GFc2Tz4wYynCAy5c77xU1Zj77po1k2JkvGP/uJ62XDfLi4bGOv0tf9sM2XnQiEdevjCN55JOneMTBIvOWP/HKWiBwiH0IvEs/dNorqtlZ6w8ADPG+07kYfO8hcsM9jAAaK0/jYGoy2L+bfQdXsHiyH3NfHsWnL1QDtzNjzX34Gi5Tk7eXfTUhHQzxJ+0UX6Dhv4MHcJtTG9jnjBpzF9B4hlP/t5fHn+iBwakVp7DkXx7gzoun2L9uO+W9POxNp+Iclx8CA9fgW5W3T2Pco9PwAH449yWtZtDzewovb+BiKVVXbspmvjpWysgfBeM5OpI7SHPq/uEUr+G4AfzQ6NRcWQ0/NALgNtTf8Qrfvc+nf7mP6Y9OZ4hvZ/NLiYiIiIi4jpJRIiIiIj0yjGEtv07+6Xm+mT3anuzpDusFtjT/v6Wc/5lfzv8EJvpP5PGx9xI2eiRTh3kQPHYu+0aMZFnm9qtDAE6ZxsPDgNNf8utWSaAvSPn7NB4eO4wls6ZATlNC6fRFzuHF8EGDuBs6Tkh5DCPQy4vhOEiuNNSwftenHHCw2TlHk5jciMq/53uGM8T9Nu6ALl8o32Gwpze+rz3Tftn0Zfz23ZafuONpGmpPdllO8cELjkrSbt9LZUx8dyJ3Tw/l8UmbeNt3OuGTDVD5N7akdtk9Qlqa5HElb/xD22VeJlb9y6pWHw02euExFKCBk++8y57eHv+zC1ifwIkeKHdy511eeF28iEdvj3kzChh+5Q/Yf7hwt4NHv8xPH2/5iQfuw5sSQNYv+Grnn1qtf/eDwQwB6k/8F6daLvjbu5x9MJi7PCdz70Q46Kr8Tt05GhmF221uDIYuE1KDb3MDoPFiJwNCVqVRVu7PhMBReASsJKjiBUpdFK6IiIiIiCNKRomIiIj0wN3hoxkDcP4Mfwagkq8vjGOMx0iemAL//kmnm/Obe30YDpw7X+MwKfTZic/47IT9TebdY8LJn/sgwV5jeGnWdnbuBTDyx7G+9pfbd47j6Avj2uzBeSf+NQAAIABJREFU/mveYN8x/NH4iX0Ivy+bEmbDRrbuMdUtP3CirJy3e7Lp9cByig9mvs++ztbJqeNswkiGjBrBI5Mgt7izle9ibqB91qf6mvY16eY9nBHe7beqP3KULb87wGedDQNYU0xunh+/XeHFxLhpDPLyw5N6jqZ8xPHOQpJ2/CePwAO4/E0N7fIDbh543eUg9XO+hk/f3sae4pZj9F3gciOAB8NmAx86OpqRQW3/yqqrwXJxDMOGjmTMw3BoR0/PZGDzCvDHgL2nUnXzh5e66AXkhNuGjmpKPrZm/fY9/vaXP/Fty9zv7c9w14/sM0gNvf9lwu9vs9EgsM9r9QyDP3vNqZ5MXTp6goZpD+DmeR/3joSjpzpbOYh7vEcAcKn+YKe7rSv4V77yTCHQdxS+D/0z9Z+6IlgREREREcc0Z5SIiIhIdxl/wuvjRjAYKDt5iL0AlJPy9/PAIKYGL2maR6oD/kt47seDgQscOHqoy8N9XbaHP59uAAYxrPmd+QNzWTwC4HIHLzsv03AZYASL5zVN5mTZz5aay8AwlsyaSTdmOBpgDnD4yGXAkwfiJnFHJ2veETeZiSbAWkd5RvveSqc3v07CxKs//192HY2Ap5cn33c5HxWcTS3is0pwmzCW4FFQX1jCn/f38LQGqgfmE/6AB9DAqYMftV/+zVH+sPoPV3/+6VNONwLDPDB+33ayqHJO110GBnNnYAfJD68p3OkNYOH0lWTVIQ78zX5/8J21hJ6nTQYwv2e53284cAFLRe7Vz0+c5nuA2/25/3bHm44cPQo3wFp/2OHyC+WPs/s/r/7s+/wEP/D/s3f/UVFe96L/34nCmBhGE8AoYAOhKUgjQgtKJEowQkgUyFEwV9AcQU8Fu5ZD7i3jXd8y3u8Szj11OOfqsFYF71XwNoJNwHwDmATRStFgMJBiSIvQlGAbID8Ym2SoaQbt8fsHKMMwAzM4/JLPay3XSpiZ59nPfvb+PM+z97P3BsWD7tw0q9aLVi3vX1PuZp+FLfX//R8AbsvxN++oGrP/y+df9AELcF+eNOIIuznLk3h0PnDzKtc+6Blluz18euog3V/3geKHfP/H3tJAIIQQQgghxo3cawohhBBC2GHZD9fy7pY1RMyB7679nv/2zuDwovOnPqD2O2DeE5z8STz/YmEN+2XL4vn4n57AG/j6L5fuTK/3WNTLfJy8lpctrXuv/BHxC/o7r/78l/4/ZQYtZiFw9cpJXA4ctPyvrJWrwMLFy8gEwMDPz7fSehPmeKyg8Z/XsklpIY1zbVtV5172W90nfGkEp8BlZLy6gmUe5t94iGWZsWSkLsCJm3xZ1UClTZ1LZ3m3+SZ4PkbykR/akJLPeV37Z/4KYPiMmpyP7T6WmUvJ4jXx/Ev6k7g6wXdtF3nH4kgmM9dqePM33dxkHk/seIkfmX18oeEzvgPm/jCS9SHmFcibyHR/FgA3P/0U04EmV/M/4NNvAbcneFG7keVeFlL8g9kydcUw7jz85M8Ij36GubPhRncpf/i9ycefvc1XXwOzvVn0TDzm/VFzlvyMxxfPB76mt922ntzv3svl0y/6wGU5T65/weSTeLwWzQe+5PN3tlBTaPnf5T99Cczn4SXxd3PgQ/z5/YtcvwmzHn2RFfH/zKPDOt7cefSpHFYE/YBZ9HG9vZg/2jSb54e0vF3CV0aYpZhr45pqQgghhBBC2E+edYQQQgghLPD2SeGjVNO/zGbhvHnMH7h7+u6bj/mvZSbrNwHwO9b+ejZnE1cTMe8JDm37Gf/zm2t8frP/0zlzXfEeeKX987+cZ/1rv7szRd9PFjyCt8cCjm4L4j++uUbbX3u4+h3Mn+fOsgWuLJwN313rQPsHYHEML3vMhpvd/O9TI8y19+l5qr/05ycLPNgUpST3jAE+rWL9O7M59bw//guCKN75JL/85huTNM7De07/QX5tHL4GEnPc2Z2awk+s7PKbzy7y9Dtt1tM0XTRe4KhmFtuzfVkQ+CTJ7/gT1/G3/hEYwAMe83FRANzky6oLHN3bNcLGTP2Nd/Y08r3XwvANDWZn8p85XDxKi/HFs5wpfAaPrkbetaHDa+aZg/uzKaREDP3bXNe5zOlfOofrn3zAO//rd5iPc7LG8P+d4rzPy6zxW8zK//oj/mT623PvcDHoZdb4ueL/Lz/B+5+ucf12/XF1Za4T8O2XfPh6jdn+fsdr/zGbl3avZvE8H1Zrfsbyb65x/U6hmovrwEJ0N7+9znW782G6m8tDSw/wVMDQvzk/NB+ngbhr/OItWk69bTYatIWWi79lXvQzzPVIJix1Hdf/NpB7s+Yz12Uu0Ifx6ptc/qOtaenhT78pYd7GbTzskciPn2zgg9/38HDEM8ybDf/44syIU+V99f5ler8fjcuj4fg/VE6rI5Z4++wQTbVOBEeEM/fRdSxNiuIHX/cwUPSY/ZAnitkAfVz/0yGaau1YsOpvb/PBb7x5aqDDTwghhBBCiPEgt5pCCCGEEBbMmeuKv/kyMjdv8vU3X3L6gwv8/INPLa71RM/7rD3Uwb+sf569PgtYOM+V+SYff339S07XvcOWD4dOn/Tz4mLaolaT+cQi/Oe5smKeKyvu7Pc7Wq9cYMupD/kQeHmFD/7A559+SO6IR2Hgp7//lE1rFhP0RBQvnznJr4A/t55iaffH/Ef0Sl5e7Mp8S2m8VMPPP7DU0TUHb1frk0R9fd3C2jvT1Fenf8u/f/QXYrOCCQmZj4vP/P7puQC4yd87Pqcxv47K03a2NHf/gdcLHiNDvQjftNU8XfP2qJ1MH+h+iyznYt0cN9fhU5fd+I7rn3/Gx1XnOfveaNOVmTPwu/97kSey1rDYbyXPr/kTr50zDH72v37F9U3Ps/qpxcwbsu+bXP/0T1w8dooPOy1stvN9XlN3sGzH86z84QLmznNlzrzBj29+e41PG97nfMkfsDfF9wInl/7p9Ia4eR3j1x/Tc7mY1j9ajLrQeYj3yj/myWeTcJ8/n7nzTSKasQv9H0tpfc/O+S3/9jZ/+CCUFSt/yMM/3sXiq7/FdbEn8DVfXSkf5bdH6O4Ox8/DG/dVEbS+U2vfvq34rl3He1808INViSxa5IlivieKO5/2cePrFj774P/wx/YxlJ7OQzT93oOngn4go6OEEEIIIcS4uO/WrVu3JjsRQgghhBATwSn33yd+p8rFxHk8yJyb33LpT1Y6sIb/iNXfX8TC2fD1tTaqx7tV2t2bTa4K+O6vvH51YprAb2T+zKbvqZcdHeeU2MHPk2XeCuj9mg8vWhg1do/Qfrh9spPAv++chLo6Vl7e+C1UwN//Stsf7Kw/rov5vs+DzLrxLZ99+KnNI7du+9lh2+oRwNn/vcnOrU9X7jz82BM4z75B3xcNfOWIUUlTlesyHp0/F4xdfNFp29XlXrD2J69PdhKEEEIIIcQYyMgoIYQQQojxZPiUCntbmDFw/k92/2jseq7y+kwchmGvti4+vAdmIBQO1nmVNkujoGxx7VP+dM2hqRH08NWfZ0hAu/YhX0j5EUIIIYQQ08T9k50AIYQQQgghhBBCCCGEEEIIce+SzighhBBCCCGEEEIIIYQQQggxbqQzSgghhBBCCCGEEEIIIYQQQowb6YwSQgghhBBCCCGEEEIIIYQQ40Y6o4QQQgghhBBCCCGEEEIIIcS4kc4oIYQQQgghhBBCCCGEEEIIMW6kM0oIIYQQQgghhBBCCCGEEEKMG+mMEkIIIYQQQgghhBBCCCGEEONGOqOEEEIIMWP84OGHJzsJAvvOg/tj88YxJcLcVMnvhx+Vujoae/PowXke45QSISaOlGMhhBBCiOlLOqOEEEIIMWMse3TBZCdBYN958PB/ZBxTIsxNlfxesFjq6mjszSMXN+9xSokQE0fKsRBCCCHE9CWdUUIIIYSYMV4JCcHpfrn9mUyz77+f/xYaavP3V21dyqzZcs4mwv2z7yNiW+BkJwOAkLUh3D9Lzrs1999/P6HRttcjgMeWrue++2ePU4qEGH/33T+Lx5bFTXYyhBBCCCHEGMkTnhBCCCFmjNBFi/i3iIjJTsaM9ouICH68cKHN3//eUndeeMW+RncxNuteWY5XgNtkJwOART6LiNgoddWaiIQIFj5mez0CUC74Pk+sSB6nFAkx/p5YsQWl2+OTnQwhhBBCCDFG9926devWZCdCCCGEEGIiffDFF+yp+S1tf/0rn1+/PtnJued5PPQQfo88wr89E8GPH310TNvobNFz6j/ep+fq1/Tq/+7gFM5cygUPssB7Pi+8EjplOqJMffHnL/ht2W/56xd/5fo3M7uuPjT/IR5Z+AgRGyJ49LGx1SMAg/4TPn7vV1z/ppu+b792YAqFcDzFg48wd74H3w+TjighhBBCiOlOOqOEEEIIIYQQQgghhBBCCCHEuJFp+oQQQgghhBBCCCGEEEIIIcS4kc4oIYQQQgghhBBCCCGEEEIIMW6kM0oIIYQQQgghhBBCCCGEEEKMG+mMEkIIIYQQQgghhBBCCCGEEONGOqOEEEIIIYQQQgghhBBCCCHEuJHOKCGEEEIIIYQQQgghhBBCCDFuZk92AoQQQggxPX3b+y2NZxq52nKVLz/9crKTM+UtWLwAnx/68OO1P+ZBlwfHtI0vv/2Wgw2NnLl6lctfSp6Pt6AFC3jOx4fdIT9mwYNjO2cA335zgw/Ku/nz5W/o6bjuwBSK6cTdZy7eP5rPj2IX8eA8p3Hbj8TmQY6Iu71/+xu/rb1Aa9sf6erudnAKxUTw9PBgib8fEaufxuWhh8a8HYnlAiSWi8kn1zYBjru2fXOjh8q//JIP/3qOjr995MAUiqnO56GlBLmuZf3idOY5uU/Yfu+7devWrQnbmxBCCCHuCVfev0L18WpuGG9MdlKmHSeFE9FbolmyfIldv/v1lSukna7m+g3J84k218mJguei+S9L7DtnAK0X9Jw91M6N7/5zHFImpiOnOfezdpcv/qvcHL5tic2WjTXu/q7pMr8uPUlfX984pUxMJGdnZ/5L4kZ+FBxk928llgtzEsvFZJNrm4C7u7a9+0UZBW0ZfPcPecFiJpszay5pfgd5+tGECdmfTNMnhBBCCLt83fM1p189LQ/IY3TDeIPq49V89eVXNv+m/euv2Xn6tHRETZLrN26QdrqaP31l+zkD+Prz7zjzS2m8FEPd+O4/OXuona8/+7tDtyux2bqxxF39tWv8urRMGuvuIX19ffy69CR6/TW7fiexXFgisVxMtjFd2/RybbvX3L629ej1dv3u8793kN+qko4owXf/uE5BWwafffvJhOxPOqOEEEIIYZe6ijpu9t2c7GRMazeMN3jv1Hs2f///fbeOb29Ink+m6zdukH3R9nMG8F7Jp9w0SuOlGO7Gd//Je691OnSbEptHdsN4g4uVF23+/ttV1fT1SWPwvaavr4+q6jN2/UZiubBGYrmYbHZf207Lte1e1NfXx+nqs3b95tcd/xPjf347TikS0813/7hO6dX9E7Iv6YwSQgghhF0+//Pnk52Ee8JnVz+z+bu/+1zyfCpo/Mz2cwbwRfvfxikl4l7wxceOLR8Sm0dnTx51dnaNY0rEZPrLp/Z1HkgsFyORWC4mm1zbBNh/bfuk9/I4pURMV3/q/d2E7Gf2hOxFCCGEEPeEG303RpwKQuk6jydXPYmblxuuHm44OY/fws5T1Y2+G1zr1qPv1PP7C7/HcO0bi9/76suvuNF3Y9Q8+vuNG3w8wvRwj82bR9qTTxLk7saTrm486DTz8vxufXvjBr+/pudyj56C3/+eP39j+Zx9/NVXfHvjhk15fNP4D7767Durn7ssUPDD6Edw83kA1+89wGyFvCN2r7hp/E+u/eXv6Dv+zh+q/0rvl0aL3/vqs++4YfwHTopZd73PmR6bHR13b9y4MeJ0Nw8/8jBPLV+Oh8ciFj66EOd7LD+nq76+G3z+xed0d3/Ge++/z1d/tVwnevR6+vpu2HTeJJbPXBLLxWRz9LWtT65t05J917Y+nJ2dR92m8R9/57Nv261+7j7nMaIWpOL9YCCLH/ghilkPjDn9YvIZ//F3Pv37H7j6bTNnviyk57s/W/zeZ9+2Y/zHtyhmPTiu6ZHOKCGEEELYzMnZCW5Z/mzJiiWExa3ESTGzH1ycnJ1Y6L2Ihd6L8Av1573yOlrfbx3+xVvY1IjwgJOTtSxn65Il5Dy1kofkYfGuPOjkxPKFi1i+cBFJfv78PxfrKG4dfs5uDXzXFrMVs6zWFf9nHmF50kKc5tx9w5WYemYr7ufRJ+by6BNz+cHqh7l0/DPazltoOLiFQxovQWKzo+Ouk5MTt25ZztCQHwXzXHQ0CsXojT1iYjk7O/G9xYv53uLFBAcFUXX6NB80DX/z+9atWzY3skosn7kklovJ5uhrm7Nc26Yl+65ttp0/xawHuGUl2ES4b+Ylr//BnFlz7yrdYupQzHqA7z8UwvcfCuFp15c48en/4IL+tWHfu8Wtce+IAumMEkIIIYQDLHkqgFUbV092MqYcJ4UTqzc9w32z7ufKey0O3fa2gAD+Y7XkuaM95OxE3jPP4HT//Rxrcew5A/Bf8wjh2zwdvl0xNTnNmcXTO7y4b/Z9tJ7764TvfybG5vGMuyEhPyZu3QsO3aYYHwqFM/Fxsdw3axaNjR84fPsSy2cWieVissm1TcD4X9uecd/Cy4/9m8O3K6aOObPmkuL978y6z4nf9hyflDTIGHIhhBBC3BUXVyVh65+a7GRMaWHrn+JBpePeMvJWKtn3lOT5eNr31FMsfNCxb4a5LHBm+eZFDt2mmB6Wb17Eg/Mn9j3AmR6bHR13H3nkEWKi1jpse2JixEStReni4tBtSiyfuSSWi8nm6Gvbww8/LNe2aSgmai0uDz3k0G26Kx7jJS+NQ7cppq6XvDTMd3p0UvYtnVFCCCGEuCtLVgTIlCGjcFI48eTTgQ7b3tYlAcyVtaHG1VwnJ/45IMCh23wi/GGcZD2RGclJcT/+ka4Tus+ZHpudFE4sCXNcHV62dKnN09+IqcPZ2Zkf/+hHDt2m3zOPSCyfoSYjlv/gxz+Y0bFcDOXoa1vIj34k17ZpyNnZmbAVKxy6zdXuSRMyRZuYGhSzHiTCPXlS9i13UEIIIYS4K24eE/tQPl05Mp8CXSXPJ0LIAse+LbZwicy9PpO5+07s4s8Sm+HR7zmuDnt7P+awbYmJtdjLsdPpuX5vjkO3J6aXiY7li3w9JnR/Yupz5LVt0cLJGRkh7p6jz91jDzj2JTwx9fnODZ6U/UpnlBBCCCHG7j5wW+w22amYFlw93eC+u9/OfcAyd8nzibDU3c0Rp6zffeD++MQ2YImpxdX7AYfEAJtIbAYcGHfvuw8vB3doiImzaNFC7rvPQZXvPnDzkVg+k010LF/wvQUTtDMxXTjymWKRh0w5Ol0tXLTQYaHoPu7jsQcdN4uHmB6+9+CT3DdhF7RB0hklhBBCiLG7BXPmSqOMLR5weQBu3f12bgGuD0ieTwT3Bx5wxCnrdwtmO8ut90z2gHK2Q2KATSQ2Aw6Mu7du4TR7YteJEY4zd+5cbt1yUOW7BXNcpCzMZBMdy2c7SXkTQznymWKug9dHFRPnoblzHRaKbnELF6dHHLQ1MV0ondy4NWEXtEHyRCyEEEIIIYQQQgghhBBCCCHGjXRGCSGEEEIIIYQQQgghhJgGuqjISKa4dbLTIYSwl3RGCSGEEEIIIYQQQgghhJj6OuoobltDiP9kJ0QIYS/pjBIj6KE6cx2Z1T2TnRCmVlomRlPhOtYVNk12MqCzkt3rdlLYYpzQ3U6Z45/2OqncvY6dhS1M7BmcXD3VmazLrGbiIkYThevWMbYiOzXO0fjVOSPNhansyD6Hfhy2ftf059i7KYsa08R1vcOeTSqKW2dSrTFjNNBrmIrHP8XL0zRkbD7Kju3ZQ+uAEGNkNBjoNRhm1D3HVNN/DuQMiKGkbgpLpt09gKX79ils2uXvNNJWU0hvYjh+47YHI70GA70SNMfXGOp08/FEXjrebPKXe/f5cPixWv7bdHMXKyE2kf34Rjj5CZpg69/qKdvGilPruXQsAfex70xMEkPPFXoMk52KflMpLROi6wpXJjsNAIZOWq7U4z7ReT9Vjn/aM9DZcoX6CT+Bk8zQw5UJDhhdV8ZaYqfIORq3OmfkWmszzdd66RuX7d+tXvRt1+gd8qdu2toaceu19pvpo7s8lRf2Nlr+MPk4l9WBQ/6kbzjK3j35XLw2cLacXVmZrmVfaihu45xW20z18jT99OnbaG7WEycP2zNT836CtsKvPtxDoNUv6alIX0NVzDkOxVuIBIZWqgp05JbWcc2kYrp4RxKXnk5ajD8u+nJ2Pavhog1JWrnvHPvQsHZvnQ1fzuZsfvwUiU+O1agNZEex5c9W7jM/F0Y6yrXszS3lo9vXLpelJGTmkBnvg2K8EyumJn0DxdqDFNZ8ZFI3nXFduoZUlZrkUEs1p5ncZVuwXPRc8A4JJzE1nbhwH1zGK93CPs37Cdp+lX1v5hPnae1LluP49LsHsHDfPoVNv/ydTMNjz/Br3W2t1JVCwgF/9OXpZvcLyWb3NA3kLttuJaaFs+83+cQNuZx2UKHNIrfsIwYvp4lkZquJ85GrqeONoU53t9E25A/38PPhsGO18rdp5i46o4RwLOm4nKIC0jn7Sfpkp0KMWQDpZz9BzuBUdq+fIyWR2kben+xk2MN/O29+uH2yU+EQ+rZGSDjEBZWFZmaFcsj/dpen82KOnpis45yN8cdNYUTfWkXe3nReaNDwZn48HhOUbusslyd9eTprq2Lu2Ubp8eSyRsv7DZOdCjFd9TYcZMeuQroDVfz81SzCfTxxUYDR0MXVi1Xk5mzihapsXtsfw/4LkUN+2306g5eqYnjtQMzQ2KJQ4sJ+zL4+dL+NWra+0kxMesw9Wuf1dHdASNbrHHjOQuQdEr+NNGsTebnCjd0H3uFQoCcuGOhuLmXvK/G81Hac19SB0iE1w3RXqXhpTx0ecWr2v65jqY8bCsCo7+CjmqPk7lpDQfh+Xjv4vMVre8Khd1EtNftj3zXa6l6nYE88Oo9kDhzaQ/i9WQGnn7469u7aj/frewi0o7JbvAfQl7Pr2SpizBvphd3kHssegey+8C5pADSjW7WLbmtfba2jjEQO+IObz+D9QvfpDF7KMfuuvpsOQvj5aweJsRDsnIdcTpvJ3bSFCjcVB97OZ6mnEgxdfFSm4ZUXE2l7tZRMeyqYmCDTsL1hhpPOKCGEEEKIe5KBa3pYGe6Pi1I58lf15eTs7SDxSDmZobcfshS4+cez71UPXF7czp7SEF5NtPrKrRBipmk9ytYdx/HY9w6vxQ+NDQqlJ34x2zkSuYbmbg88FApQDG3AcXVWgLMCV6XSwggLJS7W2nv077BnTxV++8rv4UYhPfqr4Ofnj8so4dvYfJD/XuzJvrdNR0Uo8QjdzpHX3Nj1Qiq5kXVkhd6reSXM9Z5T8+KeDhKPnCMzdGgBUrj5EJKYw2vPxZO7dTsvqhX8RrtmWB1UuCgtlD0lIfF7OBK/hSpNOj/dvp9f2dn5IcaLN94UsyPDf4q8PCSE/RRK5cCLE8oRX6Bou1iKS2p+/xR9isH7BVdnC7/S67mKH37+lu41TBlp1qkp9sjmbdM6pPQkJLWQ11zTeWG7lsh3NYRIzBPirkxiZ5SBlsoCCkpqaTcAeBGWpkIVG4D1+20jTfmbKXDP43CC1/AtVmex+WQQhw8nMOxTYz3aDacIOpZDtDsY2mupLCqhpKmz/3OlLxvT1CRHeJkFPfN0glfwRqI2xpIQPNL4HTt+11NPsa7oTlqUvhtRaVIJs7R5QwuVBQWU1LbTn21hpKlUxAaY5VpTIeuyIOetVLzqC8nWnRxIhxLfjSo0qWF2jj7qob4wG93J2/sNJilFRfJAIo1N+WzO6kX9hpowi4G5k7KdO7m88Rg50ebHX03mNh0tPe1gaGHbuqL+vweoOJYbPTydhhYqdToK6gfOnbU86P/yGMqZWfLqi9EVldB/eqzlXw/Vmds4E3WM3LAeh6TPKkM7tWU6Cm6fC6UvG9NUJET4Wj6mnibKCgooupOeoecOMCkvCShupycqh7dSgwfOzxmijuVy59SZ/C2spxKdroDBw01DpYrF4uFioL22DF2BaXlMQ5UQga+tJ8TO4x96/kzS1z5YR4LppHL3Tk6tPmwxtgAY67VsKHAj93AqARbLuO113u4yFdw+ECOUqI6pMGbbk1aT7ZjUPUNLJQUFJdQOJpaNURuJTQgemg574tOwhHTSVFlC0UmTPAlLIS0tAfMw2FS4jixyeCvVa2isUfqyUaUh1coOreWlzexIIzBCDB76tc7K3ew8tdry9QgGrkkFuOUeJjXAYPEcmec9Sl/C1m8kKdasvth6Xej/sv0xxwGajyfyr2h4bUug6R95KQd+/voWPBqOk1tQztVeABe849LJ3DJ8Wrje1ncoLCzl4tWBgfwegcRFxvNcfODAd5sp3pQNWaUkW5pvymSf1qejon/u6l3niDyUQ6Tb8L+F6N+hoKCQxoHX9TxCUklLex4/W+PYhOmjtxc83EafSKetIp+LkSr2W2qsVISSpopkla6KtsTtI8zNPob8H0O+DilP+nPs3ZVPm74Delv56abj/V/yS+eX2WsGyoWBtqpCCkvruFN0lsYTGR9DXKC88mvxvIyhflpk6KDu9HHKSpsH3m51wTsuFVXi03iM9CBvUi6WdpdTVHh8oFyY7V/fTEXhUYoHCo2Ldzxp6i2EyGmdAF2U5ujoSz7KgfgROqkVPgT6OHa/FRoNjSHZvD3Sfqe9Pq51++E9avg2cPF4Mahetzw9l2c8KlU+LxWfQxX6vPWGuHGpc+axd3BbnMvipzVrTOK0cBhjA7o9VYTse2dYR9QQylAyD2XT8YIaXaK9nZWexGRr6Y71U6oJAAAgAElEQVTfxN7ieN5M9R/8aNS430WVOoPT4Qetxg5jw0FeLnRj38Et+Emjr43CyTq0ncIXNew66MNrGTaOhhxyD6CnRpNOQZueDnpp25U4MLWZH2l37on7v1MTmc++wA5K849T9pGLyef0l4GKfIoqOvqn3nLxIW6kqR31DQPbuXMDSEpaOjH+V0e+rxxjWdI3m8Y48FiaSHL6puFxzCxd1uLdnfvSOGeqCgspu9hB5O00j+c91ozVTEW+Cwmv23hz0aen28+GaUUNdRQXw+7XLHfmesSr2F2wieIaFSExU+6hb0KM+7O4voFibT4VA9u3Wjctbnp4e8Pg3zxoPK6lwDQmpVmbqhb7YtIox2SxHcTYRXNVKcUVJs+mIVtISY3H3kdTY/NRduT0ono1w0onaRcVGRk0x+WTtWbqRJb7J2WvxhbyNyxnc4mR1ao8jp04Rp4mCoo2sHxDPi1W51NVEBAcQG1RLe3DPuuhuqSEK2d0VLYM/6WhuogC39WEuUNn8QaCNhRwZcl6cvKOceJwLuqN7pzauZp1+aY/NtKUvYENBT2sUOVx7MQJjuXlsH7JJ5zMLsPCbuz+XWd1JmtXZXPp8fXkHj7BicO5JAVdImvFWjKrO82yLZ8NyzdTYlyNKu8YJ47l0Z9ty9mQb77wfRdXrlzhVPZa1uq6WJ2mITc3F01aFMaSJFZtK2Po1kdgqCV77Vp0XatJyz3cn19RCk7tXMHazGo6AUVwLBsVBRRVW1nzpKUSXW0w6yMstO66R6A5cYJcVTAEq8g9cYITJ05wQhMxrCPKeKWAbasyOeO5Hk1OLrk5alK8mshcv4HsJrOCM+Zydlsn1ZlrWZV9icfX53L4xAkO5yYRdCmLFWszMTs9GHqu0HnJ/vRtKOgkKCmHvGPHyMtZj+eZTFZtK7NQxoHOSnauWof2chBJOXkcO5ZHTlIQl7XrWL6tmHbzXTRpWbdqM0WG1ahzDw+UmYFzl91kUmZul5cNbC4xsCJJgybC9/aR0XOlh6Fn1kDPlU4uFWxjVeYZPNdryMnNJUedgldTJus3ZGN+uNBJ5c5VrNNeNjneJIIua1m3fBvF5om/6+PvpHLnMlbsPIUiSk3u4YF66HmGzFUbKKz/hCtXuga+60V0UjC1ukor9dpAdVEBiqhoKx1Rttb5MZaptdlcUkah1iQRoPQieqN9aTVfb83YlM2GDQX0rFCRd+wEJ47lkbN+CZ+czKbMZKP2xKfhWVJP9rK1ZJ2H1Wm5HD5xjLycNFZ0FrBx1W6GhYquK1y5cmow1mhyyc3VkBZlpCRpFdvKzPfXn5em5/dwbhqru3SsXZtNrS3LL9mZxv4YvIGCTpPyt96TM5mr2FY2tMZ6RW8kuNby9QgGrkmKKKIHTtKwNfE6y9i2aienPAfy/sRhctNWo7iko6B+8It2XRfGEnMcpbuNtmHzLHTR1tbKaW0c/1TQRXiqmn37sslMXUNf6XZeSC8fMjWDsXk/W7cWci00nV8cOsqRQ1p+HuNHR8V+KlpNd9VmfUoHumhr67L66SBLc1f3om/rprEwnRf21uARo+bn+7L5uWoLHs0aXtq6n+YpNx98N20XQWF1eMFtXbTVdRMSGWj1Qc1l6RpCuqto7hhlj3bn/xjy1bQ8uYWTeeQo+9IDITCdfUeOcuTIUY5khg88FBlp1m5ha6GekDQtvzxylF/u1/CcfwcV2vJpP9+2Y1g6L/bVT8ubfZ2tq7ZQ1OrHc1lafnnkIPtU8bhVZfDCpqOj5P1gufinnAa8E2/vP5xrBf37b2s4yEsvZlPnEUPmvmz2Zap4TlHOrucTKW4dcePCEVqrKPpoKSnJoRM4/ZuRZm06e7sTOXLw+Xu7sU7fQQduKEZtPWuj8TRELvW3+g2/pZFQ0zjKNcrBdc7YjG7TGrYWdhOYqOEXh45yYF8q4d35/FN8Fqcbr9Gmny6rvkwvvXWllJFMmi2dtZ4xpCZAWVUD9t/C+JOYHsnV/HLuLKNuU9z3JDIxkLqCKivXAQM1xYU4r4mUjig7OXvGc+BoMhRlkWfzTanpPYAbKzOPcmRfOoEEkrZv4J7qiJqVJgG3V99Gd+NRdr2opdFlDbszN+F3O1Z1vcMrLySS1xxIQpaWXx7S8vPEQJp1iTyb/jodZsnqrlKx6tkMTivWsHvfwYH7e09q9j7P1uMNdIx4X2lvWTLSfDCRF7Yfpzdcxb4DR/nlfjWRiipeeTaOXJM86z6XxYvPa2n0iWHfgaMcOZBNQmADOc/Gsfec2T1Tdxttbe+Qu3U7Zb0hJGSqWeltKX9N/3aX91gzWfM7lPolEm5jX5S+4yq4KkbvjGpr4DSRBFq9nPoTGAk1Dc1jiJfT33g/i/fW7efFF/PpDk9l34GjHNinulM3h9U5Syy1N9yum/HxFHSHk5KZzb59alIijZTuiGFX+fDt2h+TRmlfME+XsYHcp+P51zoIT83mwJF8fpGVSkj3UV5+Xk2NncuIKwJjiHMupNjaD1urKKgLJGaKzal71yOjjAYDhhEyq8doXk2NNGl3olPmcPbY4Bvj7mEJaN4IY8m2tewujOBsuuW3tBVhSagMO6luSWbIVzqrKWlPIyutkqLaFtIDTD80UHuqlqSUPJSAMuEYl5OVJqMo3IlICCDM3ciylBJqU3OIUAA91eiKFGjO5JJ8u11eGUysbzCxySNkiq2/6ykjK62JiJNvoQm+facVQGzqYaKDs1m3WUv1+3lEKwFjE9qdOpQ5Zzl2ZzSEO2EJGt4IW8K2tbspjDg7NE84STUlvH8ibPAhMSCAsGhfspaloK2OJi969B798zkF+JZc4ETY4HcjEgKIiAhi96o0slZc4liCF7EpUWh0xbTEpjP07BmpL9HhrjlrZdSUAqVSgfvA9B3uSqXVUUuXitrRnn8L0wEhAcERBD++gajdhWy8cHvfd1fOAHrKskhriuDkWxoGT08sqYejCc5ex2ZtNe/nRQ9Jq73pyzUkD92+eyy+wbFEl21jrRpIMc3GJrTbVLQnnOQtTTCDP/ElODaasm1r2akL4C31wGc9lezcXIj7kDIDYQkawqKjKKs1z+WTFBuLeP9EhI2jxi5R1K7l/FumIz8CCI4I5vENUewu3MiFO/lrpEm7DVV7gvXj3akj4C314Gfm7Dz+9uLdqNoTKLmgYbDoDtTD6DK2mWWwIiwJFRsoqE4eXi86KymqTUKdZ3kkkq11fmxlqomsM2+R6mvyx4j+tJbUppITYZZh7aOklR6qdUUoNGfIHUwswbG+BA9NrO3xyRJFGKr330djOjVYcCy+hwNQbIhCV6kiOtl36G9OVkPJ+5wwCRQBAWFE+2axLEVLdfTg/nrKskir9EJ79phJfYsgISCC6KhsNiSdh9XrrSRuDGk0NqHdmYsh2Xr5G1KiFBEkqWBDSS2pORFmDXXtVBbVkqTOszxqCmgqyeJ8wmGupEfcmaogICKBgIiEwS/ZdV0YQ8yZEBXUcJSzR00aM/39CYn0JufpXejORbJ/jRLQU5NfjEJdzr7E208eSgJjfAiM2TSB6W2kuCObt183fWPOn8DwQLy3xPPfi+N5O9V6g+CEMxow4kxNTiKNuOAdEoiHsxs+4eFEhpq+IXiNtkbwU43QcOXpgx9td97ecqy7yVcFLkqF9em+9OcoKFaQ+WYOg0UnkBifQGISx+NY7iW21k8rPOM5dGHTkGme3MI9yQxxxfj0LkrrtpAVPlJLo4Vy4e/PkaVu7Hohm62NHiQeHTp3v19oKB7O4fy08BxxFqadEtb00WswjLB4tB6j2YrQ+quNdPvFEzKBg5O6yzPYUerJvjdnwLRgvUau0UzhrkSK8WDpSh9c8MAvJpxIf8/BOqnvpoNwYkZqlPPxZyVVXOuFkXsOHVXnjNRpUyl2NVtr0O1p4vyfJrJhP1t3VMDKGPvzRYyqo/kcxB0cYRSzKQV+4WtgTyNtmqdHHjVugUvIGlb2lXO1CwI9sTnuK0ITSWMLhecSh19HuqoorktEtf9eHvk4fhSBezi0L50Xt2fg92a+5RGTI/1eqUTRp8AZBQo3S1M19mssbibzzVKSTWOPsRndrj10xA1dp84txofAmEgq0uN5Jd9/cNRWx+vs2dNB3JGho/gCTb6/Fxip6c2esqSvymBHsRtZQ/IllDh1KJGR5dTdvmnQl5PzSjPhQ9YHUhKzRUdk4H5e2q6j5jdaIk13V1GK8dA5joTbOmLmLu+xZiwjjeWl+MWX2zwVZW+fHj462j97gkcgK71dwNOPmJVr8PMcvJ7pu6/Cyhi8R9iWt184VPW/sHiv34YMNd7P4nXkFnpz5O1CQu4U+/57hpWBal54JYeQsa5hV1EDR85xxGT0r59/KJE+2azapaMm0qQuOyAmjUoRStpvzg2dQj/weXwO+uO8JZ6C0+lEJtozpYAnMVsi+df8UtpizGcwMdJYmo+runzKTS151yOjSlKCCAqy/m+95tLQHxhqKSpSotFYmrrIiwSNGoWuhHqrXc0BRCRBSe3Q181bKgvoSVpPalIa7ua/76ykqDaZjbcbOBWWOzsUYVEk0Dn4drpCgRIDn/TY2e9t4+9aynScT9KgttD6rghWo4k9RUFl/2gAQ20RRUoNGkvTcnkloFEr0JXUm/XQLyEtKWx4kFREsD4ZTl2y8T34KBWqMAs55h5LTm4U53X9Iz+U0SkkdeooMT95nWVoSyJIibXW7GqHpBQsbcY3IokVXZdo6Rn4w12XsxbKdOdJ0ljqHFEQrNYQe6qASvPBGnalDzLzNBY7X7wS1Ji3CRrrT1JgzCTPpCF8yDGpVRgLiu6MCGkp03I+Ipc8S2VGGUZCrK/ZdpagSbG1I6pfUkqshfz1JSJpBV2XWrh9uBjrOVlgHPl4jQUUjTCcxb7jb6G64DJRKhWWii5eCaiHNboGEJsWwKmCSrNRg0bqC7LpUSVZ6UzFxjo/1jKlwrzP5nZaS3TmIxyN1BeNklYUKJRg+KRnxDd67IlP1igtrlHjS9jGJVz5xMK5XpJGkoWEKyLWk8wpBkNWf15G5eZhuXirUEWNmDS702ioLaKIkcvfsBIVm0ZAiQ7zQV3G+iKye1QWj/U2hYs7dPYM1iEL7LoujCHmTAw/UhItvFWveJqYRDjdeHXgD84oXKC3Qz/pb6IlbImx8PDjQ3hiCN0NbegnIU3W+RB3JJ/9mWoyM9OJ9AH6mindk8iqp1Mpbp3s3Bw0bvnqrMCFXq7qp86xTh+21k9rFJYbsRShRMZBtw2jIpJTLUyV4hlO3Mo++sLTSRvWI6EgPCYRTjcwyiA+MUQpP131NKus/tvEvzaa/cSIbW8aO4ix+SC79naRePSg3Y2r05JrKJlHDpKVqSYzM7F/2pbeOgp2PM+qTVnU2DLIdwwcUucMdVSUuZGmsjzVkUtoOmmRjk65uKOvDxQjr7diysXNFfru5hrZSNu12/9ta9z3JybVj9OFVWZvmBtpLNRyLT1xyjWcTSce8fvZH9nA3l3jOGo/IZ0Es/ZSY2M5RX0q9qstTRHoSZwqnb6i41wceMRqqynko8h00ixOJ9n//dE7HGwtS61U6OoIz95v8RriEhpPjE9/qtsq8rmYoGa3hbceFIEZZMZUUXjaLAj7qUm2uSMK7v4ea4YyNlNVEUpipO03Am4hao4c0JCZqSYzsX86ud66fHa8EM5LmnMyCs0m4/8sHpmebtIRNcgtJot9kXUUVIxx2gO/VBIsTEOrCI8hkSpMq5pjYtLoLK/l7ENIvB9tHfa/+ekSuYWE7nxKG8zOTlc5urJwkp+bejfOdz0yKuXkJ2iCrX/eU7aNFadM/tB+mWq8COqpp95KK5tXXyedBrC2qFFAbBrua0/SlB5A/65bqC1xJ+1EAHh5kRKRzakmDWEDDX3ttSX0qHIZkkxjJy319dRf+sSkgaOTFs6j6BzYtzKCtKwCNiQtpzYqlqSoKIKDAwjwdR/55s6m3/XQfqmLJb4GmurrLW7GoFzC5U96AC/aL1eDVxA99fVWGie96OvsZGi2hREwrBG7nz33diuigq12UCgDVrOk6xKdBghQhpGmCWB1UTXqsNg7v2mpLKAnZYQRFHZYHRRgOe0Ks2O623LW086lriX4GpqwfHoMKJdcZuD0jDF9EWy0cn4ggODooX9pb6mFiBys/ySYaHRcbofo4IHyFWX72lgjlRfLVhNkec46FOa50N5CLRHkjHK8uv7EW/yGXcfv1cKlrhWsD7Z+9AHmGUx/g3xSdiaVpiMvDdUUlYShujTCmjq21HkHlymvBBVJ2VkW0hpA2vmR1v9REpGWRcGGJJbXRhGbFEVUcDABAb64DybWrvg0EkN7E7X1Z7hicr9uaDEA7fRgtj5VWICV82uWAwN5GWV5YTJASXDUCjhl5eMxpLH9cjVEbByl/JnxSkCVlE1WZQvJgyeJ6qISAtLOM9JZCkjQsPFkGmuXlxAdu5GoqGCCA3zxUg7mhV3XhTHEnIkRgp+VF3+ch/yfkpWpaly3bmdtXSTPJa4hMjAQPz8f3Ca0sSKcQCtzxjhPxffjFJ4EhprcfIaGEgOgNtCo3cKOV44T8o7JG1ST1l8zjvmqDCc105WtO9ZQFxlDYmQkSwP98fNxm4pnbIqxtX6OxEh3awONjY10mPQodrfBRUU3jDjRWriV/bvh4QPgabkjRE7sGCTzqw/3jDAqQk9F+hqqTP+kAK4Z6WXks+gQxmbyNIWQctxi4+A9SelDSKhJBQh9GgCVpqt/dEFuOBcOPn9nJJJj4reD6tzV/qmOEq0OFFYSGBnC0AIlHMbZGXoNGLEtHPbqr4HzGJvXjNBHOH4eQ/9oS9z3iMsgQauhqnUTdwY/G85RXBZK2m+m0CjzaUlJZHYhyZu2sCPDf+gIRQdZGeg/vOq31cHKLOsjS/wDiSSf5qsQGainraGbkBjrU0T3f390NpUlfQeN3X5EjrrAq56Ohm78fHr5qKHB4jd6Xfz4qOMamL6KGOKPfcsjOuIea+YxNlZRFhJDmh03Hi4+oYSY5HVIOEAGWV3l7Hoxg9zwdzlwew2oPuiztJEZb7yfxUOIXGq9bccv3I/uhm568bf/JSirddM84Y6LSbbo7WimrvEcpjP89bb1Ah3oCbTv3loRSqrajxfM1gdtO13ItWSzUZxTxF13RtnPSB89XD5/3upbrr5pUfiOVKC9ItgYkM3JejXBYQqM9SXofJO44AWgJGJ9BKo7HSItVBdA2rHBZj9jk5YNm4tRJqhJWr/apEGwhfYC09ZLBQGpb/BhdAvVtae4dEbLSW07V/QKVmQeJi89zEp/mW2/MwKG9kucV1gpGYoI0oIG9mDsg57LnD9vNddIizIf6eIYwzoWhnzYPyLk9myMXrEpRGl0FLfE9jeQG+sp0bmTdtbSaILxdLflzAgYaL90HuunJ40gKx2mtqVPgWKkrDX/RW8PKEY6Gwqg786zqBFQjrSDiWTspceG4x3ppTy7jl+hRGk6ytHS9owWHtEUYf1TqxVUkzwwXV5nZRG1SWryRjzXttR5B5epO9PA1ZOa0z8Csv12WkcZhKgISOWND6Npqa7l1KUzaE9qab+iR7Eik8N56YS52xmfLOqkcuc6MjsjSE3ZyOrVJl3xxlpK7mqBIiOgHKU82VL27Uijsc+G8jf8bxH9J4n61Jz+0WqjTqM4wD2a3LOXSauvpvbMeUqyi8i68gnGJRvJycshwVdh53XB/pgz1Sj8t/Dqu5G01dRR1XCOvIqDdLRdQxGi4sD+7XcWNnV2loeI0SkJScvguWItda3b8fP3wG8lVHR3wbAxfgO6OmjDj+dGeQKYevmvwG9LMRciW6m5WEVjjY4KXQdt1xSEqA7yi1RZJHrcGJvRbU2lzCWe3YkxhJvMG9F2tZDTk5cy4QBufpH4tZXT2LUJn3F94bKLioxUSj2yeTPD0tv2M03/m7kFL9XQaHieSDcffGjsX4/A2nnoaOUiHiRP1DA2Zzc8aKPXANbeijP2yXpR48UvNB4yavhI/bQNo4uMtNXZM63fUL0fnaPR2Zvdty+k9sR9RSiJ6bC18ByJA1M8dp8+Tl1CBr+QC/PdUwSSeSibjhc15JSHcCh+/KOn0aC36Xm9/z7RGRcX6L42QiwwGm3rVLWpLPUBLihs6OnpA3o7GqlzthI0ncNJCXQdfUPCwYw0nislMl7lmHt3z3hU6fm8dK6R3pg1uPl4Q2Mr3VjvvL3aVgceyTNyGujxfRY3f3vf7FNnF+jtjwfjl/djjUkKnO16I6iLqoxN7O0OJzk5jnCTKcv1fXWUjXFqB4/nthCZk09p6/P9nfLGBkrzXUl5c2reO098Z5TvCtbTxIokNcljnrXNi9iUCDSn6tGEhdF0qoyIjeo7HUPK6BSSMouoNcQS21lLiXsSJ+68Dd5JWXYB7jmXOJZg3pCq4IyFvSm8AohNDiA2WQ2Asb2MneuSyPa9POKaSyP/zp2AFZ70dK1HpbYwlZ4Z3xXroWkFSerkUcYhON75yy0YE8zXPOlnbL/MJc8VaAYzn7QULZsHGsgNlQWURKRweaITfbflzD2AFZ49dK1XoR5hKq0x8wpiNVqaWjSEWRwe0U5LPRA2+BffoGjIbqJFE2Z5REV7C/WsJsULoL98qc+3YEjwsmvqvXHhG0Q02aMe7+oU6yfLruNXBrAiqIuTTe2kWxzuZaT+TBmWZnsNSFARtqKASnU0ye5NFBX0oDo8eh2F0eq848tUQGwaAasLqFSFkaCspyi7B9UbtqUVhRcBsckExCaj7k8sZTvXkZTty+W8aLvikyXG+gIyWxI4cXb4tHA9ne5wN51R7r4EOF/iTJOBBC9LpdtIy+XzwMhrRtmTRq+g1aAdrfwNqbL9AmJJC1hNQaWKsATlwDSKb4wwjaIpJb5hCfiGJZAKgIH67A0kbSsk4EK6fdeFMcScKUnhiV/MJvxiNqECMHZQkZHIDq0PF7RrcMEDnxCo6tDTP6fRUL36a4A8PAKgdMGNbq71AbixdI0fe0vr6I7fZPEBrPvi6zR6xJA54mufUzf/FZ7+xCT6E5OYAYCxo5xXNm0n1/tdmZN/nHRX7KfIVcPZ/PhhjQbONZOSJOFIPmtIXplDTuG7xGmeHqcHXSPN2nT2difyq9cd/2b/tOXihgeN9PYB+LEyAV6pamB3qIUpnzDSWFUKz2knbp0tn0BWOudT95GRSIvrwnXQWN42ni1KM5oiJJ5kty3oKrbw6mjrTnSUoytzI/lVS2VnFMZmCvJr8E5//c6oSnvjvl9cOiG6o1Sp1pDo1kxx4TXSDowhLcIyz3gOHG3lpa3p5ProxtThaA+fwDWQ20ybOtTyvjpaaSScZA8AJX6hS+kub6Yj1fLIBWNjDRWALUt8jlqW3PwI8Wikrs1AnOdI931u+IV6oO+KIS1DyuKUYqijoiyS51SOu293cfWA3t7+Tg6/cBLIoKohgxAL07phbKCqFJ7bPzUb9yfEuD2L19HcZiTO4jArIx3NjXiEqsf5BcIxxiQPH0Ko4qrFQzZwTc+QKQSMDYXsbYvjiIX1T/Xdbox5nnHlGlKSdewobSBZE0pvVSFl4Vu4MPVm6AMcsGaU3ZQRbExqIbugFouDFowGy38ftpmNrC8pobq9mqKyBFJMO4UUYWxMrqWosoX6Eh0BQ9a16aGrBXy9LLzR31JPtQ37VvhGsD4MDAb75kMw/11AdBoBJVqKrTTKmm5fGbGRpJZsCqysqWM02JJrY1Sio8xSGo1NaLNLeDwpwqRxVkFwShoBJUVU97RQpmsnJS3aps4QpbsX9BhtOv+jb+xuy1kA0WkBlGiLrbSZG7Dz9A/lHkHS+h50WvM1fwaSV1tE9pWhf1NGbCSpR4fWfAGa/l9QW5RN+/okogeKdkB0GkGntOiaLCW0k5b2CZyPSRnBxqRRjrd9PUnR1kfa2Hf8XiSokmjR7CS7fviZ7izbye4yKztyjyUtqYWCyhZ6qgso8lWRMNJ8aiMYWufHoUx5JaBKqkdX1kJPdRElAWnEjjGtKHyJ6E8sRuyLTxY/7+mkz2uJydR/dz6h/sz5MSbytmDWqx7njE6HxeLdXoauZPSt2JNG94gk1o9S/q5Y+OR2WazXldHSMzCN4phPkpKw9RHQ1T9Xs13XhTHEnGlB4cPKmNA7DxHggoeHMxdrGhj+TlMXNaUza06g7uZmq6ODjXVVlBJDyMBcKj7PpfNcm5bCOgvlyfguhdqPWJkWP0pDxuTlv4ubx50pw2yh8AknJgR6e6fWOK57ib6rDXw8LDw4ttIonVH3ADfisrIJqchgR2Gz9bpnaKauYWyrvumrMthR6sm+Q8Mf2O9tRjqaO6y+Z9tx8XUaPULwcwNQEJ6owqPsoOW3aW93NmwJn7i+H0UoyWo/yjIyqBi2tpWBRq2K3DaZiGrcKALZvT+Z3hwVOXUj1D39u+Rk5NCbrLV/+ktjB6UZqRSTzL7kwSn17I77bjGkJrRRdLoVfc1Rir3TiZMZ+hxKEbiHA1kuFG9XUWjrMkQurnigx2jnAEaX8DgS9Pnoyi0tamek7riWjucSiRwoIB5x6SS05fCK1sJ9Y1c5r+wpt33no5YlfyJTl3Jal295Ha2uVjoG/u4XmYqftZgK9N5VQ5AYq97GKk5HxmDX0lzGDpo7rF5NqSttxCPUrz9mKZ4mUeVBma7UYn9AR8VBytyS7Vwb7B7nwGfxsvxyi/lubD5Ibpk3CSvH/+Iwppjk4oGHcx01jRaeobtqKDWbCqL3Wjd9Hv4Wpjc00FhTN/bEoyAwORW/suPU6FupKOggOXXNlH3vZ+I7o1AQoTlBcn0KqzbnU9ve019ojQY6m4rJXLec3ZWWmsrMKCNISqpFt1NHbfLGYW+ZB29U0VOSSXZJBOsjTINFAFGpj1OszafJpKwYWorZmXVyaA93Sz7r1u2msLadntsXHAzmzf0AACAASURBVGMP7ZU6Cs4HERVmpeHc1t/5JpOnVaJdt47M4iY6DUbAiKGnnVrtBpavNWloVUSgOZFMfcoqNufX0t7T/4HR0ElTcSbrlu/GlmwbixUpwZzZsAFtbTs9RsBooKeljMwNmylWZpGXataw6hVLStQZinZno3NPI8V8yIEVCt8lBF0poqi2f/UTY2cL7WPumbr7cuabnIdWqWXdukyKmzr7OwqMBnraa9FuWM5aXdNdTM+uJFqdS0STmnWb86nv7O8AuHM+sxUkbzQ/pP4y0KneNrS8dDZRnLmOlPpY8tQmHX++yeRpvSjevIHMspaBsmgcSP9aNmRXWmyUHh8D56NTzbbMYprMjzelntg89cjritl5/IqIHM7qgqlNWs7yDbvJ1mrRarPYuXYZa0tWcOLw8FFRt9MalqQCXTa7i2pJSou1tnzdIBvrvOPL1MA0cLfTqk6wYeRkC/nr1rG7sJb2HsPA/oz0tFeiKzhPUNTA9KP2xCcL3MM2srqpAF1l++AxGTupzd5GQfvdv54RkJpLmqKYzRsyKWu5Xb97aK/VsmHDGYJTVoy6DbvSqIxGnRtBk3odm/Prh5W/bEUy5lX2NkVEEip0ZO/un0YxYdSTZKB693I2Z5fdqSu395WvK8Y5Kar/BQC7rgtjiDlTSiuFmxLZc/xdOvSDeaLveIeCwjqWrgkZaPhQELJFzdIaDbsODnzXaKS3q5lSTQZVPsmETOZhTCRjKzXaVF7YpKa4qpVug4Feg4FeQxfNpVm8nFFOyD7V4BzSyjWossM5vet5dhQ23Pl+d/Pr7N20i9Ph+8mKH+19tMnLf4W3H0vbjlM80PBm7GqlwwC0HuWlTWqK6zrQ34nPejqq8im8uJTIEJkLaLz4rdmCd+lBCptNb7hbKc3IpsKsHVpfpWLV01nUjOO7VdOVsSmfdcvWUdgy2SmxwDOeA6+mQ/4WXtiSTWlDB/rbsUbfQWNpNltf2EJuRbP9C4R3lbNXU4efKp2VLrfjl6V/92CjoL6Ogl3xrN2+nwqzPK0rTOXlnF6S928ZfDnAfwv7UvrQbUpkb3nrwPf1dNQdZOsmLX0pY+hsuEs+ifn8Kt1AzgvhvJiRje7gQXRaNVvXrCGnN4NDWaETmp6ZRhG4h0MHAmncFcOz6Uepau2i12DEaDTQ29VKVWE6zz6fwUeBBzmktvyWv7F3eH3TdzRTdVzN1mfjyevL4FevDu0otifuD6SUkMR0yNfy34/XkZAac89OnTuZsdwnUcu+kG6u2hqIFT74LW2j+Pi7/S81Gbto67DhAq14msyjiXTvTWdvaTPdA89L/feBify0MYb9KpPGUcXTZL25n8C67Ty7Jpk92oPoDh4kJyOOVS++TsiRgzaNihrY2KhlySdRyz6PUnZszaKiVU+vkf57wrqDbH1xC7lVA51oPpvYv0/ZH1NNj0PfQd3BZJ590UqHlhhHBuoqqnguzr4XK/R1+fz0xTXs0JbT2KE3iWXvUrh9C//am8wvTDrU/ZJzSOk7yEubBsrI7WvvwWRe0vaRsj9jhr0cc9t4P4uHkBxYw8tbDlLXoR9op9DTVp7Fy9tLccnUkjwRLyqMJSYpQklWL6VGk45u4HnTaBx4hn6lCp/koUfsFhLHyuajFFSZvHRk7KJOm05Rx13OAeAZQ3JkDcV7tBS4ppI8XoXV2ET+umWsu4sL2iSsGQUogtG8dYYgrZbsDbl8MtDl6PJ4FGk5F8i11skzdCMEr0+gs6QWVV7w8I8DYklT5KJJMm/gVhCsPsGx/Ex2Ls9F3wfgwuNRKnKP5XAqKMlkG8nkpunQZW8g53YiccYtKAH1qWPWGxTt+J1XwjEueBWSrd3JWo2+f25NZzeCEtS8cTaBAJOyowjW8NaZILTabDbkfjLQU+vC41Fp5FzIxaZsGwPFkjSOvdVCdtZmVqUMpNHlcaLSjnHB4rpZSmJVmWjX5xKhO2z7tIJeyeQVXGbnzhU83ge4BJF17AS+NnZmDU/43ZYzLxKOXcCrMBvtzrVo9AOzG7sFkaB+g7MJAXc3PNcrlsMXfCnTZrF77WBZDErSkPdGAkZdEUXDDmmgDGQPLS+rkzWceiOWALPOnMHytZkV6jsZMMK5G0d3zkc2O9dqBo7XGbfVyWhOvUGseeItbsLO44/N5WxEGvXVtZz/RA8sYX2eisMB7hhrs2DJEsuj9gKSUUfkomrJRGPLfGo21/lxKFMBsaQF5KLpsTGtBJCcm4ZOl82GnE/uvPHRn4ZTHDMJUPbEp2HcYzn8lpHszA0sUfUO7kOTx+ElWaw+NcJvbaEIRv3WBVbnZ5G1eQX9xdsZt9Uq8s4ew7d2G0WjTQVoZxr///buPD6q6u7j+Kcw2YiZITNkgIRAYoBECJuyKCAIZVUWKQItUKzoU/VRK1aBPm3BWq0WXNisYCugKLQslqoIiEKUTYGwKYGERQJhnZCEhA6ZLODzxwTJMgkJmclk+b5fL3yZuXPvPffemd+Ze37nntNs6NtsiVrFzD/+hn6vXouFHRk7bS7/fiCHOYuLf2OvacPQx9rw6rRUJk8rz7CHRgZMm8upF2fyaL8pBd8Vinx3r22jQvXCTcSc6iOGUX+eyIIFM5nwavL1z62lHcOeXsFbwwslDyNH885//Hh12lRGLL4W99rxwOSZzOrxLc8sTazy0nuFXwzjPthE5/XzWTD/YV6der1/V1BEHx56az0TuxS9TQ8dNIe1ER8x56VJ3Dun8Llbwdrh5Zww1lvnP2w0M2Z9yzOT+tIx17nPyW8tIrL9KP48cT4LZo7n1eTr8dnSbjhPL5/PsGo6dEFt4Nd+Eu+8tZDpk/oy1zkeJEERfXjsxfn8cX1PHin03ksXjnMppxGXLlHqHDN1VU7q9xy7dIrTWeWaOaPK+cU8zPsb+7Lt4/ksmDqKv6Rdq7R8sbTry8RZmxjXpeLNy98uncb2XODV8fR7tax3jmPJ/qk/DhNWKzTqy4yN64hfOYc5U0cxvcg5Hc7k5bMZFlP4s+BH+0krWdtjIdOnjqff9ILfl5YePOYi1lcNI+0nLmXnsETWx613TtAd2oOnF/6RzpFGjq+cD6GWattjtzYI7fsS/9k4mo8XLWTBI3P43Y8/A4KI6DOMye/PYFBM6QF31f/2pMRAEkERRHfuwbi3NjHMxRBMFYn7P4oZxW96zOF3SU8z2dXQWLWEd2N5GMNmLyJp9PhyjgAVxqgZs/numUn06+Cca6nd5Pm8E3nj4cn82k9l+X/WMXfm09z/UlrB/aOF7qOmsPz9wUQX/8iFDebPH/XgoV1xbN92nAtA9KCZPDY7hkY5W3mJaKLLGyhu+FkKY9j89YR+MJM5j/Rl+rWfqS5+F4cOn8/a0A94dU7R42g3bBLv/2c40bX3o1o9ZW3js7hRPDCjYj8SG/WdyRdrd7Fqzmymjp7G9erUQrthU1g+q9i19GvP0yvW02PRNKb+si/TC9qsLN0f56111+dFqns8fS/uR/TE+SxPmsFLDw/iiUL1h6t7Vo+6iZgUOWoRq31nMn3qcK4f8igmz5hN928nsTSp0JsbDWbWilxenTaebgX3576WdgybMpNZ0S9xb6UGEjEy6LGnmTtmDj1mzPbc8NY5qXx/7BKnTmeVb14/F37yww8//ODuconk7H2Rfr9pxNtbHnc9v4qIlx2cfzdDDk1j31xXw0imsupX3fh85D7eHqpWMZHiXnv0tSJ///q1x7xUkprn788tKPL3c28/V671fF4tes7THqv4Oc/JysHPWN6fiznk5Pjhp5ttLAuKXrO8yeW7ZgCzRnxd5O+Hl7RzS5mk5lo44bsifz+z+i63bbt6xOYcLuX4EVSNYsfNxt1Jz00t8vefn5/mtjJVVIXjN37VMHV5TRZxU3ryaswK1k6sujHZpr/wYpG/Z782o9zr1o5YnkX87If536WNmLxiNqMir39CchLXER80mB5e6aBxgY8f70vc8K3MGlRz7rtqfyyvBhIXcu+YJCZvmXn9Sf4y1czP0s2qDXVbeV346HH6fTuOHZWeo7KCv1FycqjuN0OVqdseiAsu8veiziluKVOtVeGYVPVyvp3BiKmNmLXu4XLPEzgxPrzI36v6ZLi/YMV4YZg+qf1O8cmcxYQ8NlSJKPGenG9YuvSg67nBTq1i5pxUhgy502UH7JxvFjDnm7FF56ITEanhyt+QCaBElIjcjOqViKotKhy/PVaScjq+7sdhU4vL+XY+cz6rmvkfpDAjnSd9wPIpvsy9vy+/nDKDObNn8+qUcfT75cecyfXOuGM5uxayIH4U46pry554UA7xK1eQ5PKG/TQfz5nPhYGD6FzOj4Y+S7XVaeK3XeChQV3cULdV8DeKbobqGPfGpKp3ms/mL8UycVC5E1He4p1h+qSWyWLDb/qxOGQKj/X349jiOcxM/SP/HlfuAfpE3C7nVCr7lv2KaTPbMOSBO+nWsRdRHGPzjs9ZteobQib+k7evJZsOzue+yYcY+dhYonI+Z84fV3Hn3C0l5qITEREREZGyXbp0hripfZnj24Nhw3rQvks0lgtJbN+2jo8/S6bzjBVU4UNR8iM/IkfNYcvA48THbWPb8QtE9J3G8hdjCK2q+57EhYyZnsSwiaOIyNnEgpc+pvOMdXTWfVfdk3OGC9+u5H9fmkP0wGF07tKeHhFwfFs8cR9/RHyj8bwzu2/pw3nqs1RHhDFo5koGebsYUvtVNiZVuSzipgxnaaNJPNTHl+Sl85mTNoX3R1X/ceiVjBI3MDJg2ttkffIhy+Zk0WzIS2wZV8XzEYkU4xc1lFc/HcDTB7/hm292cOjzOSzLiaJ3tyHM/XQud0YV6s7QZhxzp3zCsg/nsMPYn4f+vaVcc1iJiIiIiEhRQe0f5p2tozj+7TbiNyXx7cqPSPbtTLsu43lnymCi6+y8G9WEMZLOwyNLmUjew2JG8den17Pqo/nEB/Vl3Pvrypy7Smoxv0gGvbiSPo8lEh8fT3xSHAtW5hDRvQuDZqxkRpfIsht99VkSEXeqbEyqckb6TJnDpfUfsWrBJUIHTWPtqC7UhJ9YSkaJe4R04oGJnXhgorcLIlKYH83a9OaBNr1v8D4jUb3HMa33uCoplYiIiIhI7WYksv1gItsPBiZ5uzBSbRiJ7DGayT1Ge7sgUk34hcXQIyyGHhVeU58lEXG/m49JXtCoPcPGt2fYeG8XpGI0Z5SIiIiIiIiIiIiIiIh4jJJRIiIiIiIiIiIiIiIi4jFKRomIiEil2E6e93YRagR3nqd4m855VXD3eU49dtmt25Oapaqvv2Kze8/BqdOn3LYtqVruvnaK5XWbYrl4m+o2Afdfu+/te9y6Pan+vHXNlYwSERGRSkk7nebtItQI50+478bxwAWd86oQf969DUBpJxxu3Z7ULLYqbsBUbHZv3D13Vg3CNVXKqdNu3Z5ied2mWC7eprpNwP1128nLB926Pan+jtn3emW/SkaJiIhIpRzYdoC8nDxvF6Nay8vJI3HHIbdt750DB7Dn6Zx7kj0vj/cPuu+aARz84gJ5OVfduk2pGfJyrpIUl16l+6zrsdndcXdHfDy5ublu255UjdzcXPbs2efWbSqW112K5eJt7q7bvtm1S3VbDZSbm8vu3e5NJGy0vUvOFT35W1fkXLnMZts/vbJvJaNERESkUjLOpfPNmq+9XYxq7Zs1X5NxLsNt2zuUns70r3XOPWn611+TmOG+awaQcSqHnf8869ZtSs2w859nyTidU6X7rOux2d1x9/x5G+s//8Jt25Oqsf7zLzhvs7l1m4rldZdiuXibu+s2my1VdVsNtP7zL7Clprp1m6ezk1h+6kW3blOqr+WnXuS0I8kr+zZ4Za8iIiJSqxz6+iA/XLnKXcN74OPn4+3iVBt5OXl88/F2DrmxB+M17x48SN7Vq7zcvQe3+Oqcu8t/c/P449fbef+Q+68ZQOKmdH7I/4Fu45vi41/fI/uQ6iPPcYWdy86R+GXV9qS/pi7GZk/G3fj43fxw5QqDBg7Ez8/X7dsX98nJyeWzDRuI3+OZIWgUy+sWxXLxNtVtAp6v275M/YArP+Txi/AX8K8f6JF9iHc5rthZfuoFvkr1zlNRoGSUiIiIuEnizkTOHDtLbM9YrC2smJtaMPjUvZ8aebl5pJ25wIVTFziw5QBZaZke29fSxES2nj3L47Gx3N7YSluzBX9D3TvnlXU5L48DaRfYl3qBBQcOcCLTc9cMIGlzBmcSL9N2gBlrVAOCm/tj8NGABbVFfs5V0k5mc+F4Ngkb0rlkq9pe9MXVhdhclXF39959fH/iBHd17UqzZqE0btwEH8XdaiE3N49z589x5sxZvt65k4x09z7dWpxiee2mWC7eprpNoOrrti0XlpP432/oH/Iwt97SgfCAtvjU8/PoPsWzcq5kk5KdQPLlb/nctohUxwmvlkeRRURERNwmKy2T7R9t83Yx6pQTmZn8bpvOeU1zyZbDNx9omCepGorN7pWRnsHa9Z95uxhSDSiWS1VSLBdPUt0m16Q6TrAsZbq3iyG1lLrtiIiIiIiIiIiIiIiIiMcoGSUiIiIiIiIiIiIiIiIeo2SUiIiIiIiIiIiIiIiIeIySUSIiIiIiIiIiIiIiIuIxSkaJiIiIiIiIiIiIiIiIxygZJSIiIiIiIiIiIiIiIh6jZJSIiIiIiIiIiIiIiIh4jJJRIiIiIiIiIiIiIiIi4jFKRomIiIiIiIiIiIiIiIjHKBklIiIiIiIiIiIiIiIiHqNklIiIiIiIiIiIiIiIiHiMklEiIiIiIiIiIiIiIiLiMUpGiYiIiIiIiIiIiIiIiMcoGSUiIiIiIiIiIiIiIiIeo2SUiIiIiIiIiIiIiIiIeIzB2wUQERERqREs4bSMbEB9gOx0khJSvV0ij+sQEU20P0AOSYnJ7C/XWiEMiDHTkIqudzMK7Sv/MjuOpnDCY/uq6xrQomcAfgD2bA7vveztAnlIXTnOmiukbTTmAIArXD5+lJQ0b5eoQPCttGsR5LzBzrvEiYTvSfd2mbwgLLoD1gCAPC6dOMjRDG+XSIqqKzGurhynVFa1rVOqC9VtAJij2tAiyAeAbNt+Es94uUDiUkjDe2nt6w84uJi1lgSHt0skrigZJSIiIlXi9t8+SV9nZsOFfByZmZyN387nK5LIKrF8EA+9HYullLUdmTZSNm7mo8+Si671wnPENnGQsvxNlm8qu1xp219j8XvFlxqJHtGH7r0isTQo+rNpKA4ykxLY/F4cSdXkxvWpMU/yRvPSz/FFeyY7Dm3nibik0pM2IR14Z0BXhoeaChJKBYbCRbuNz7atY/x+F4k4Ywc+eOBuhlv88Xe13o44/rDbdbKo15D/YeNtJiCN9/61mEdSyj7ODh0G8bduLelmKn6s+VxMO8rvP1nDP4oUcRDfTY4lpsytOvhq05v02132vt2t04tduCf2Bj/JT9mY9dSxG78/N5/0wxfYM/c43xU5/igeXG3FXOZO8klZuItVa4q+GjIwip/+zExTa9F93kc+9uMX+XruEb4r+rUDmvDAB5GEB2aTMGIfG0rZ44B5d9G2WfH9Vrys186J48Bxlk475yJ+AEPa8PjDJvwLncuix9mKAWMaYg0ueZyZSRfY9fpxvqM5P38zjKa+uSTP3c3qONelM46P5cGRQXDKxsdPHatmCdKyYyl5DjJTktm5dA37T7lY+4XniG1SyrqX7dgO72bz/J0U+Uj0HcOTY8LxP3eA155fX3a5Lqew6Znl7Cm+uFkHBo3rSstbTZT41l9O4+jqNazZ7KUOAtFDeXLkHbR0tmYWkke27Xv2bFrHyoChvDI8iuLvcMkWz6SZK+HuX5exTh7ZtpPs2bySld8UzfaMnTKDrtayd5F97GP+b/425x/X9pN9jNVv/J2vXCaPevDki8NoGWBj53Ovs6z44tBujB15D+1amEuUNy/bxnefLmPJN2fLXb6CUnL0oz/x5pZr61z/26UxzzK7i7XosVWhWhnLbxA3i5TJnsmX4w+ytxJlVSyviVSn1Fqq2yC4A0OG96NHtJUAnyKlgex0ju5az7KP95NezvIVlLJG1W1V5YmuGfQJLGVh3nmOX1zA0gOz2edquf/PGNdyKgPMrQmsX3RRbt5hEs7N4O9H/03xb7Rzn5kkHIngeRfxCeC+jsk8FGzi9Nlgnk78G3P6jCWsPAeUt5XFW4fyKeVZp+wy1EZKRomIiEiVys9MIzO76GsGowmTyULkT4cysUMsm9/4kD0uEzwOMs/ZyS+xrpVWP7ufx1tvZum8Pa4bMCosgj5TB3PHrc5fxvmXM0lPsZGeZcAYbsbcxIQp+g6G/jGc0PlLiDvslp26hcOeRnKxnmD+gSYiAi0M7DyUA61i+f2/PmResRPVosNwvujbiggDgIPktHSSbFk4As10sFqJCLQyZsA4erfaTM9Vewo1zLRlzfj+DAwEHJnsOHvWuX9DINHWEDqarAyPacr43a6yTG2Z0txU8P8WBnZrCykJpRyZkf+5fwxvtCpoPHDYSUy3sT8znyYWM9FmC00sMbw1PpyBm+fzQInEkoPkNDuuO8nlkGwvZbdVID8jm6zS9n86u8RLJd9fnwbNfDHHNqHfrCCsr3/Lxr0l1iLzVB5XXJeArIuF//aj3e/acE83f+cNg91B+qlsUm0/0KBZA0Ii/QmMbES/GUZavn+A1Wtyynmk5VWRsjr5x4YzYEgGqypUFj86TYul5+2+pR6nKboJ/d400fSv+1j7WUMeHBpIxM9b0SLuiIvGySYMGBSEAQdJi6pz42XJWAr+BDYJxHRrDP2nRdDhqzUsWVYi0+hc+0Ia9iKBOBBTo0CsHXtx/8xwNs8oLYZXnLHXcMaMboXJx1lu+7l0bClZ5BvNmJuYsZgsxIwbR3jbzcyfX6LJ0bOChzL5Vz0J84G8LBsnTp4hKw8IMBMW2pTG1mhui/4SEjI4b7MVaXwLCLZi9IHsdBtZhc+lrVhzSd4lzmcUjQEBQVaM1ih6PPA0EWHLePXDkhVQie0WWfbfki8GRDHo5z34bv62CvV6N985gSeHt8XsA5BNli2V06fTyTdasYaE0Nho5fYHnqBlzDqmv7uN8zYb5wtvwBBEY3OAi+N0kH6pAgWpJhTLK1NWJ8Xymkh1Sq2iug2ihzJpTE8ijAB5ZKencvqMjSyDmTBrCI3NZlr2GsvkqOYsnPVJra/bqoo9+zAXrxZ6oV5jQgIaExnyPFO692DpnlF8WvhGzvwyL8c8Tms/AAcZ9iOcuXyYjHrNibylHWF+rekUvpDXGvZgVvyzrpNZ5XaE0/ain0kf39ZYfSA35zCphT+X+ScpWr1lYrOfJ8/ldjOx5VaqYDWOklEiIiJSpTITFrt4AgmMnfsweHQHwhtF0nfqSHKmfEiJlMTlVHY/X7KHY8jAMYz5WTiBsd3of9cePvy6sqU0cvtvh3DHrf6Ql8mRFf/hoxI9JEPo+tT9dPBJ5EA1SkQBJB9fTLt1JV9vEdOHhX070NsUyRvjR5L51ocsubYwYhBr+rYiwpDPuZP7eXh5XIknWjp0HcmaHpE0iezFmsHptFtX0KjQ5w5nIiozkfv+vqbkkzAhbZkQ6DrB1KK/c13HmSPst7aiW3gH/mJM4A8uMooDBo8sSETZ2RG/iXElnvAyMrr//bwens6KIy525khl7qLlzHNZEu/K2ruP9ypQMJfvD7Fw7/SWRDcLpM0vI9i1N7loYtZuZ+9ThXuul67FU7c5Gy9zc0n5LJkNi9KKJXkb0Hnabdx1uy8Rv7yNAaf3saE8Gy6vCpT1OgPhFSxLi6duczZelnmc0bQPvEjSXsjae5Jj3W4j2mrmnqeMvFcso9tmWhjhgWDfc4q17jwf7lZKLIUQOjwyhLu7WLD2vp8J+YtYsqL4l9FB6sbFJZ82bdaVMc/2ItwUSbexbdkzr7SkcgW0HcTIgkZD+/e72fROySdRjZ37cf/ocNJ3Ha38/iqo08gOhPk4e2O/6qKhy9zxDlqc+B4yvmd2sRaQaz2iT295vfQe0QAZSbwyc2WxF4PpNG4iYztZCes8mBGbDrO6SK/vcmzXhYCowTw6JpVXlpezUosexaMFiaisE1tZ/cEn7C3W+9zccQQPD7uV8/sOArDx3dfZWPgN13qvuzzOmkexvBjF8rpBdUqtUufrtuAePDm+JxEBkJeewOp3l7C9+LB8offw6K+64bMvnqPA0Vpet1WNTJJPdSv5hNAtk3ih4/O09evH/a1/waff/tP5uv9jvNDmcVr7gN3+IR98+wifF+txGGJ9nSmtJxIZNJFnOh7huX0LSjwhVX6zmblzdpFXrj05lZrejacTy1g17zs+3TmUT29637VLPW8XQERERAQgKz6O5TM2k3IZMEXS/ZHwcq+b+tlytic5gEDMHcu/Xqnu6k+3aH8gk8T5/3CRiAJIZee8f/CPN3ZW4kdt1TqRGEe/DzbzlQMIjGTakGvnysjrvWOIMcDFk5vp6SIRBbB/54f03JzCRQzExPTidaPz9WEm59Nj52wHXA/JlprAEpedYcP5S6QVyOSzbR/x9xQ7GEIZ3cvFNTT24S8xFvxx8NWmpfR0OdRgFis+X0L4ojWUaOuoC1LTWPvnC6QDhrBbaH+z2wmJoGfPAAzkk/L+AVaVaNQDuEz8iwfYeiAffAOI/mUExsqU3Q0cdmdZ2j7bhk4h5Vih3Me5l0W/Sy74vF1k7YJ0MqmHuWdzehbeT6dW3Hm7L9gz2fViTYkKxaWy/53FrNmeRj4GrL2G0LW8q57ayfJPUnAAgU1aUvlIbKTPiBgsPuBI2sTSGa6HRM2K/4IlUxazJr7qv/QRQf5AHumnXfe4Tt+3u0Ryxj0y2Lt0EXttgE8ILe5ywyazs8nGh8ZdxvLk3cHlWCGYEfd2oHFBg+XseSUTUQDp+1bz6p9fZ8k+TR5VborlkHlydAAAHFRJREFUiuW1huqUmqhu123QdWQfWgYA6ftY+LKLRBTAmS95++UZvBl31g2FlDL9dzbPJ2/FDgQ3uI+2BS/f03oSbX2A7A+ZtbNkIgog1fYskw8u4/QVCAyexK9LGxZUqpSSUSIiIlJ9pO1h+foz5AOm1l2JrsCqe9Kc49z4BZSn5aJst9/VlEDAfmA7a9zQEbNaydpDvx1ncAARzbsyGsDYnQFWA2Bjxbo9ZQ5Hc2L3OlbYAIOVAT2cTVYfZzrPfZPwbkyuyOm/ozsDTYDtOM8mw5IdKSQXlGtCsbe26BFBRwNgS+Th3XW3geCGUu3Y7YCvgQY3uQnjzxti9QWOX2BDmcMk5bB37gVsgCGyIXdW/qtXKZd3HCHh1FUINNFzehQtbvD+8h9nMXuT+GZPLvgG0e43TQoabo0MmGjGxFXOrj9WwacAqp/k977g6AXAJ5SY0RVYcVMmdoAG/lT642DpTkS4My4lvueu4VfdK/mSA/DBGvMLOpWvjcuNMjh9KRvwISDIDZu7lMB7u2zkEUDLeycy9kYVcHA/YsJ8gDPs+VcFhz+SG1MsVyyvRVSn1Cx1um6jB11bBAGXOLThn5T1sItUoVMFw94ZTEQA8Bh9jI2B8+xNfqTs4ffSn2D1xfNAY1o3eczjRZUb0zB9IiIiUr18dpb0n4ViNRmJBJLKudrtFufTOTnZle3FaiTU4g84SE+obZmoAjvPktg7lI6BRgYAK1qZaAKQmc7MG96dZzEzLZNfW000MbYE9kDcAT67rS8DA8N5+VeTmJJpY0dKCh8dSuQfyaVdDyN/iw2nIfnsOPSFMwGWspkVZ1oyJTSSp/obWfL59cIMMzqvb3Lazpufu8HQgIFDhtDNxaITx9fwh9pwuUMCCQwEcvO5XHyZjy8Rv21FUxerZe09wtaCSdyjrM5ZmjNPnblxY03qGTJsTbBafTB2A9ZUpvAVL2tRF9nw5xMYZ0US3szKvS/aWTrtXKnHUKHjLObggtO0mRVJeGwYP+1zjo2REUQ3q0f+8bOs/cDdc654QwpHztmJaRSIsVkHYH/5VutrIhDgsqPyT4x2KNjWhXR2ummuEHfbG5fEoKjONLZ25ME/RDPCdoYTxw6zc99+vjvm6SeBggkLCgDyyC4x/4SBoOhfMKG5i9UyDrNkbYkJ9QBIXL6INeanGRFlpev4X3O61EnfgdhgZ+N9uo2NVfLQUxnHBGAOKGVBDaVYrlheq6hOqUnqdN0W3NxZnWTbSIy/6YOogDpWt92sZs1pCJCfiXOwjXY09AHyjrDv3I1X/zL9CA9ZGhPo35kQqPpRTepZ6djmHVq5WJSa/ghLy3EMtYmSUSIiIlLNZJJzGSrSFThk4Bi6R/sDdmy7Uiq5/5YElnPfXR9/iLZNcjj7yTLWV8kNi7tkkukA/Av+tDYo+IGfX65Ez4krzhlaGwZaC17Zw5AP7Lw+oDsTwi00NIUy0BTKwNhuvJVvZ9+R7TyyZn/RpoeIPgywAvYU/r7z2otZ/GFfChNCI+kY2YterGFzwZIOgc7COq6U3dQ0evBYpjX1I+nAYh7YWWyhwcLA2ywu10u84t1klLlnN57q6WLBxUy+fDSR78qzkRAL905vhBnIP/1fthZf7htAxN2ub2rT8643CoY0dN4iXMkrT0NcDvm5AAYCI8tTyHIqZ1lLSD3HqteDmDi9EabYFox4ysF78y66fGvFjrPkfjasb8SDI4OI+HksQwMDMeRmk7Awudb0tk7KcjCUQKB++VZo1pUxQ8PxB+ynEqlsJCa8gTNE5eeXfU47D2Ls0Kb4nUtg8fziX3oPO7aSV+adZMKY/twWFoTRGkU7axTt7hoM2TYO7fqClR/v98BTQ855NTpZgbxUTqwtvtyHxjEdaexqVVt+qQ12kMFX85fR4vcPc7s5iiH/M4rzM1e67hkeGuSctD4/v+zj6ziKSQOaE2DbzSvvfln2YZWpjGOqRhTLi1EslwKqU2qQuly3xRbUbTd0Dw9PuQNr9knWz1tZiacoa0bd5lW3TOKFiJ4EAhn//bdzTulryamKMjSmK1T93E31W9OpcWuXi05fVTJKRERExMtM+JWWDGoQwh0vPESHQi8ZjCZMDQxAPmnb1/FRpZNCR7Ff7luuZJi5iQVLEweXvT3BQoWZMPkX+tN2mYtYaGgw0AJumJBqUd/5E/Ki3Xb9xawknl2VxLNAh4gOjL6tJb3Dm9LNFEjH2/qz1dqUkYvW/zin1OQekUQA+458zpLCG0/YyVc9IhljasnLXaFnQTvAfrsDLP741zdCGc0IjY1mYiz+4Crn5DjD3M93s8PFoos1rJessVNHHiwy6X19GjTzdTa02DPZ+oqLSbrsl9iz4CyuRrfPKTRZcOrFfGhmoL6PH3Cjxj0/DL4A+diPV+gQylbOsrq09wgbNwUyrG8A5p4RDNi6z+VcZhU7zpKyPjhJUrfbaNssCCuQuSOZDbXh6boC0cZrQeJKsSX+hPz0IR7qXeglQyCmRv4YgPxzB1g3v7zPtJYh5TIOLPgbDJT5rTeaMDex4I+58vu8GWd2sGTWDiCYlm070KlLa1o2b05jo5Xbeo1lctgtLieAL7fgaP5vyrNFXgoIsmIMAMjm6NolrC6xUjbJm1fz1UkX28u2uXixsMMs+TCesF91prG1AyPG7OeV5S7eduYS2VgJMBgwQ+nHFxRMY6uVgEoPslXGMQF0HMSDsV76DFSCYnkZFMtrFdUpNUxdrdsOXCJ7OOVISIVgtVppnH2pkvPs1c667eaYiGi2gzmhhV6q15iQABO+QK59GX878G/n66dOcrEVzqcdKyL/PF5JMeftYs3hBRxxsche4vHn2k/JKBEREalWjKPDnbd/F9Ip2Rbgj6mJf4lXycskccV/WLO56EP3OXnOdRpUaNbjLM6kOYhp5E/TLl1hU+3rFdmiTzgxAJnpzkTQbhvJfcPpaGrKX8JhfJndT8OZZjUBcC7rqMt37E/ez/5k53NQLWL6sKr/HXS0xDC913o2bAaM/Rgd6vwZGhM7kUuxxTZgcP6n2239aLHTOYTfx1l23sCfiNCiT0xVzBWSE5NYcVPrelb61h28N+/G77vGEByA2cU4/vaks3z5ejKHXY4/cZWsrWkcvsG29x7P4Z5YA6bo5jTjCGW2F4aEEmwFyCPrxyxfHldygUAfjEMoZbinaw2fpSlfWUtzYt4htlrbc09sAG2fbUPqv0q+55gtj3swYGoWipHjN9ELPosNiy4SMd1MoD2TvX913Wu/ZoogJjwQyCf9eMnhlPwbWSgZifPJ3BXHf97ZX3T4k6x8Z9Oj0cTtwB5Xu7MYSt6Y7s/EPiYc/0ZN6dUa1tzsh6HKZHA04UuOJjif/gm7cwIPP9AWc1RPRkRtY+Gxm9ysTxCNrS4mzsg6yVcfL2P1PtdjDeVn7GdvmZMolCFpJW+vDWby8CjnpO9nPi/5ngMZZA2HAHNzhkTBkps9vgoo85ii+/Gg54twQ7Uqll+86vzuBvvRCVz3/A+pd4PnXBTLBVSn1GR1rG7LOEl6dkfMAc3p1Ae+Ku3pTTeqCXVbVQkMaO0iweTAdv73zDy4mOvdMzZiyxlLmF9nejSHT0tL5hW4r1E753zQjvgf44n9KoCJhre4q/RlySHV9m+2VcWuaoB63i6AiIiIyI8stzP4LisGIO3wnpJDclxOYdOjr/Haj//WcTwT8AnEaCnZG/ZoWiYApvA+pfRaa0tkE+fwflmFMl97PkshEzDc2oHhbd1wXNWJ8XYWxlrxBxJT9hQkdeJYcSYfMDG8191lThbeotfdjLEA+TY2bLtxk8+JxDiW2ByAAVPB3cWEAa3oCJCf73ql/HwcANZW/K3g/J/YdpQd+YCpJS/3qnGPorld+qavmTXi+r+Fn9jJBwKD/cip7EDoiy5wNhewmuk53q+MN/rR6TeNsAL5xy/yzY/7TSPVdhUwYI4tZRCNHxs+c0h119wkReSwd9oREk5dhUATPX8eWKJhKutf6c7jjGzEgCFlHWcZ9ubfRD/86i/iwT5EmoDLZ0ks0TXZQcrywnH4NdYdsAMGAi3Gkucj3kZmHtDATHgp8dQ40IwJIM12vWExbTtHv3fGpZYj7q5kz+Oqd/qbJRy1AQQQEHqjd5fBFs+k56Ze//eXrZzOA4y3YM723Nwd6Vv+XmjS9/6EFf8CZXzBdyfyADPt7h1U158huGnVOpZvvUxWLhAYQLNOrtc0/izA+d21Xa7EMFVlUSyvDVSn1B61vm5jG18cSwd8iLhrgrPznlSRTBKOBPNA3PV/b6adB/xp6B+Ovch7/81/Lp4E/Gkd+oHzvrI05g+4L9gEnOfwuQU/vrzL4cxghdzycinPbv+Cjg2c69ncPyZlnaZklIiIiFQLIXf1Y+zUvoQ3cA7JEfdeeUaHT+DD946QiYHQn45kULGhmFM2ppAGGMLbMnhg8Z+ZRjo83t15c5xZbJLahI/YneQATLR6/HFGllgXsIRjqGHPmHdo24+t4/vS2x8caQd4dt31c/zq5kQS88E/tBvx4/owusRdupHRfcYS3y0Uf/JJTNzMswW5qBb9J3BkXD8muPolb7yd4VZnwu/ESYCu/Do8EMhk+arZBM1y/e++Q5lAIL07dnVuJ2sLv09Mw4GBbt0msKt/tIukWQhNatg1cZesRUnsTboKVjP3vtikkls7w9at2eRTj6Yj2/PziZaSjTYhFnr/NZZ7Yg2Qm03S+0Xn19i69RIOILBTBPf2LN442JDe/3et4TPLQw2YABfZ8OcTpNjBEOiil3TqyYLjNBD+cFnHeQdPzYsqM0lba1jCuf3x/+H+7hYMOEj5ZJ3rXufFJMxbx5ELYLj1DkY+WPxR1C0kfu8AAokcPYTo4kNotu3D/V2sQD62w4Xne8hiy+pE0vLAcGs3JvyxX8l1gRBTOecf8YCuj0xl+q960NLFky1E/4KWVoAMzh9w404zPmHhlpPkYabd+F/T+8Zr3LTE5YtYcywbfAII8ClRENas3c/5PPBp0YfJz4ygk4vzEBZUYkUpQ/WK5SdJOpwP+BIxsRWti9fxnSIYencgcBXbAVcD8bmLYnmNpTqlRqrbdRskvruVo9mAuS0PT5/IT10k3cxRBlS7ed6X3z7BzmzwNT3OH2N6FFmWcHA+CXlAwH1MufMD+rt4wiki9APeir0PK2DPmM3fC83NlHBqK6cB36CxPNm8+DAd4fSP/R2d/ICc79h2o1EgpULq6O26iIiIeIup7UM89ELhVwwEWkz4F/yiz79whLi563ExS4JrCR/x+faHuL+7hZhxg0h8vtC6h9cTt70p93e3EP6zB5n00zQyswv2arRgagDk2Tmy/sMSQwLueWM5ht8+QK/oQCJ/9iDPDbKTluUoWOpPYJNA55AieTnYq9ks1xGRD/HdxMKvGGhiMlEwxzeOzCP8dtX6onMvpKxnyDoDawbHEBN6B0sf7cDraZlcG6ymoclSkOjJJ/HQOoasu36Ffm01ExFqZeGvOvJ6ZhpJ6akkO6ChKYQOVud6jrTjzEyAXoPb0s0AjjP7yxwOcPPm4+y7rSMdQ2P4m3EnT2TB5nUf8nD9kSy8zULHjkM5Gtuf5Ey78ymqIsfoINPVHFD+Ifxm4kP8upR9Zp7dTs91bpiXwCty2Pr6CZrMiiQ8NpwHhmSwak2x/sSBgXSa15H2pW3hcAr/muc8cafmHeIzn9sYeHcATYe25uGBuaTbrs3zUB9jM1/njURuNknzDrGheEZpzTG+6eYcWin62dtp8ctsLuc6F/lZAwj0Bex2vi1tkvgKlLVMqedY9XogD/7OitnFsICn5h3iy8A23NPNv+A488m05RXMaFHoODMCiOgEJzyXOataLubfIyAQk8m/4AbRzpmN61i+qbzBLZmPlh3gocdjsXTpx6D4xawv/LTpe9tp9ce+hDeJYejLEfQ653z6wzn0qvNJB0fKfuJWFNvf4fV8+K6Bkb+KwRLekaEvx9L/Qib2gocqr88ZCI7LVd1ttQ0xVjNm8zCejB1Mli0Vm81GVp4PRmtTwsLMBADZx+JZ6eZO3ulrl7GmxdOMiIpi0OM9+K7EvB0BhN39LP93VykbKPeE685J38OmTKCr1UWz27GVvL3cwKNjOtI47E4e/MMdjE7PIKvg+vgEBWMuaOnLzq7sYz51RfWK5XvnphA1K5LwZo247+8N6XmqZHx0HD/PV4tKea5IsbxuUJ1Si6hug228Od+HJx8ZTEtjNEN/O4N+WTau3wYG0dg5uRV52ZduYmhQKb+NzDy8jDmxYwmzvsETtm787ccPxQKe3+fPC+2fp23AfTzaJYPx2Ye5eNW51Me3Ndcub0bGC/xl34KiQ35efILFZzszpWlr2kZtYVmzw6TmF1v3ynl2nhzFl5U9DJ923Nd1BwNKWWzPmsHvE/9d2b3UGEpGiYiISJUymCxYTMVezMvHccFG8sYtbN6UUuEf9cnvxZF46/3ENomhz4OJLH4vudCyxSw9PoQhI1piKbZvx7njJHzyOXHxLjZKKjvfmM/xXkMYPCQCqykQS4NCo1jnOUhLSmTn6i9IuNEk3FXMP9BCTPEBt/PzuZhp47PdW/jD7hROuFjvROIa2p05wusDujMh3EITi4Xr/bLzuZiWwpLtn/NsYtEr9IelS0nq34vJrZoSY7LQzWSh24+rOUg8tIXxa/azn7asibQAdr7ad4O5uLK+YMnJGDo2tzJsQFueWJUAZLFizWJ2HO3D37q3pbfFnwhL4VkGHJyzJTNz02bmuUx0FX9/URftFZ4Gt3pJPceGf5kZ97CJ8J9H0WnHQfYWuesyYGpW+s9/x8XCN+Q5HH5jH+d2RvDTMSE0a+aLuVmhxbn5pB9I5esFpc1pksPead9inxhFz74mTNaAQvNBXMV+PJ2v5x7hu1KzzhUp6w3sPcbqTwJ4cGSQi5ufHL77615O9Lx2nMX2m5tP+t7zfL3wZCnHWVO5nn8v/7KdtO+P3FxcS1hP3C5n8j9mdLGOAWl7WP6SnT4P9qJttKnovvPs2PZtZ13xeUEKZMWvYfHxI/QZ25220ZYSc4s4Mm0kr49j86byPE3rTgdZMv9tTtw7mN4xTTFbQzFaC3Wfzk7n6K71LPu45PwolZfBV//6nHa/HUbLqP6Mvfsgb24p2ioYYLaWPgF7hSZcP8yyf2zFOqUPES6+dun7/skrJw4yYmQ/ukZZS+w3O+sMh+I+Yc2W78u9xzqvOsXy1HOseiaP3r9pTptY/2LxMRfbjlNseOO8y+9uxct6A4rl1ZjqlNpDdRsAZ77kzT8n0X3caAbFhGI0WgkotPG8bBtH933Jmg93c7rc+5Sbkv4Ei23OpFGPln9j284n+HGKrf/O5vntX9C/zVuMNrcjuNicU/ac79ib/L/MPuP6Mb59id34fdY7PHPrfYT5tSas0GAOdvsXxCX/lnfd8lSUCWtg8QaQQvvKtbpjJzXGT3744YcfvF0IERERqTlee/Q1bxfh5lnCaRnZgPp5lzm7v6JJLyPhHZrSwOcKl48fJaUcHXlv5Lm3nyvX+3xe9dI5D4lgtMUPHOmsSC5v642RXi2b0sQAF9OS2ODhRp8OEdFE+1fNvgDyJpfvmgHMGvG1B0tS9UI6NafnU02JCK5Hvi2dL19JKkgmNaDd71rT3p7M0nmlTPwe0ZDWzeqDPZvDey9XZbErLKSTheBAyDmVxolyP6J5c55ZXVr33oqrSbE5pG005gDIOZdEckUbKJtFEN3ED7LTSUqo+Je+vHF30nNTK7jlpsR0tBJAHpdOHOSo56a8qN5CW9PJGgDZNvYmeXLotsqZ/dqMcr9XsbzwulUXHytLsbzu8GadUl2obvOw4Ftp1yIIQ94lTiR8T3V9bq4iddsDca7GYazh/HvQxdgY36vnOXxhWxkdJdy8bi2yqo/nv+R6MkpERETqjrQUjt50EimLlP11bCCG1GRWVPiXeBabj1bdedqfnIQn+mZKSal7T7J6qp2f/t+ttI8002/WXdyTexWoh8EXHMcb0oyLuGwHSr7I4WrecHlN6t60OnsDWlVSE5Ju/hyfSiapmj2N6nSWxH3VN/lSZc4cZu8ZbxdCylKZWF6T4mNNKqtUTu2sU6oL1W0AZHzPd3U1EVeTOLaxy3Hjt7l9XakQJaNERERERKR8UtPY+Ns0vh0YRe+BQZitPuRn2EndcZavPkjTuPkiIjWBYrmIiIh4gZJRIiIiIiJSIamfHWPVZ94uhYiIVIZiuYiIiFSlet4ugIiIiIiIiIiIiIiIiNReSkaJiIiIiIiIiIiIiIiIxygZJSIiIiIiIiIiIiIiIh6jZJSIiIiIiIiIiIiIiIh4jJJRIiIiIiIiIiIiIiIi4jFKRomIiIiIiIiIiIiIiIjHKBklIiIiFRLcONjbRagVKnIeWwfrnFcHFb0OwaH+HiqJ1Abu/nwoNt9YRc6RNSTEgyURb6rotVUsl7Iolou3qW4TqPi1DW3Q0kMlkZqqqj4TSkaJiIhIhVjDrd4uQq1QkfPYobHOeXVQ0esQEhnooZJIbeDuz4di841V5ByFhTb1YEnEmyp6bRXLpSyK5eJtqtsEKn5tI25p56GSSE1VVZ8JJaNERESkQjr360y9+voJURn16tWjy4Au5X7/M50741NP59ybDPXq8WyX8l8zgDuGN6We4SceKpHUZPXq/4TOI0Lduk3F5rJVNO7e07sX9evX92CJxBvq1atH3z69K7SOYrmURrFcvE11m8DN1W1Dw5/A8BMfD5VIapr6PzEwvPlvqmZff/rTn/5UJXsSERGRWiEoOAhff1+SE5K9XZQa655R99C6U+tyvz8sKIhbfH3ZkKxz7i0z77mHEa3Lf80AbrH44RtQnxN7L3qoVFJT9XooglZ3Wty6TcXmslU07jY0mfDz8yMx6bAHSyVVbfjQIXRoF1uhdRTLpTSK5eJtqtsEbq5us/iF4l//Fvalb/RQqaQmebDlS9wZMrRK9vWTH3744Ycq2ZOIiIjUKudPnOfLVV+Sfj4de6bd28Wp9m5peAvmJmZ6/6w3jVs0vqlt7D5/nqlxX5KUns45u865p4XecgvRZjOv3NObOxrf3DUDOH/MzuZ3k8k4nY09I8+NJZSa5BazL8HNArh7QgsaR3lu2C/F5uvcEXdTTp3io08+xWZLJevSJTeXUKqCyWjEarUybMhgwps1u+ntKJYLKJaL96luE3Bf3Xbs0j6WHJ3G6ctHuJh73o0llOrO7NuUsMBWjI96gaigjlW2XyWjRERERERERERERERExGM0EK2IiIiIiIiIiIiIiIh4jJJRIiIiIiIiIiIiIiIi4jFKRomIiIiIiIiIiIiIiIjHKBklIiIiIiIiIiIiIiIiHqNklIiIiIiIiIiIiIiIiHiMklEiIiIiIiIiIiIiIiLiMUpGiYiIiIiIiIiIiIiIiMcoGSUiIiIiIiIiIiIiIiIeo2SUiIiIiIiIiIiIiIiIeIySUSIiIiIiIiIiIiIiIuIxSkaJiIiIiIiIiIiIiIiIxygZJSIiIiIiIiIiIiIiIh6jZJSIiIiIiIiIiIiIiIh4jJJRIiIiIiIiIiIiIiIi4jFKRomIiIiIiIiIiIiIiIjHKBklIiIiIiIiIiIiIiIiHqNklIiIiIiIiIiIiIiIiHiMklEiIiIiIiIiIiIiIiLiMf8Pnrxl3UKHcr0AAAAASUVORK5CYII=)"
   ]
  },
  {
   "cell_type": "code",
   "execution_count": null,
   "metadata": {},
   "outputs": [],
   "source": [
    "# NER model trained on i2b2 (sampled from MIMIC) dataset\n",
    "posology_ner = medical.NerModel.pretrained(\"ner_posology\", \"en\", \"clinical/models\") \\\n",
    "    .setInputCols([\"sentence\", \"token\", \"embeddings\"]) \\\n",
    "    .setOutputCol(\"ner\")\n",
    "\n",
    "posology_ner_converter = medical.NerConverterInternal()\\\n",
    "    .setInputCols([\"sentence\",\"token\",\"ner\"])\\\n",
    "    .setOutputCol(\"ner_chunk\")\n",
    "\n",
    "# greedy model\n",
    "posology_ner_greedy = medical.NerModel.pretrained(\"ner_posology_greedy\", \"en\", \"clinical/models\") \\\n",
    "    .setInputCols([\"sentence\", \"token\", \"embeddings\"]) \\\n",
    "    .setOutputCol(\"ner_greedy\")\n",
    "\n",
    "ner_converter_greedy = medical.NerConverterInternal()\\\n",
    "    .setInputCols([\"sentence\",\"token\",\"ner_greedy\"])\\\n",
    "    .setOutputCol(\"ner_chunk_greedy\")\n",
    "\n",
    "nlpPipeline = nlp.Pipeline(stages=[\n",
    "    documentAssembler,\n",
    "    sentenceDetector,\n",
    "    tokenizer,\n",
    "    word_embeddings,\n",
    "    posology_ner,\n",
    "    posology_ner_converter,\n",
    "    posology_ner_greedy,\n",
    "    ner_converter_greedy])\n",
    "\n",
    "empty_data = spark.createDataFrame([[\"\"]]).toDF(\"text\")\n",
    "\n",
    "posology_model = nlpPipeline.fit(empty_data)\n"
   ]
  },
  {
   "cell_type": "code",
   "execution_count": null,
   "metadata": {},
   "outputs": [],
   "source": [
    "for clss in posology_ner.getClasses():\n",
    "    print(clss)"
   ]
  },
  {
   "cell_type": "code",
   "execution_count": null,
   "metadata": {},
   "outputs": [],
   "source": [
    "posology_result = posology_model.transform(mt_samples_df).cache()"
   ]
  },
  {
   "cell_type": "code",
   "execution_count": null,
   "metadata": {},
   "outputs": [],
   "source": [
    "posology_result.show(10)"
   ]
  },
  {
   "cell_type": "code",
   "execution_count": null,
   "metadata": {},
   "outputs": [],
   "source": [
    "# This will return a new DF with all the columns + id\n",
    "posology_result = posology_result.withColumn(\"id\", F.monotonically_increasing_id())\n",
    "\n",
    "posology_result.show(3)"
   ]
  },
  {
   "cell_type": "code",
   "execution_count": null,
   "metadata": {},
   "outputs": [],
   "source": [
    "posology_result.select('token.result','ner.result').show(truncate=100)"
   ]
  },
  {
   "cell_type": "code",
   "execution_count": null,
   "metadata": {},
   "outputs": [],
   "source": [
    "posology_result.select('token.result','ner.result').show(5, truncate=80)"
   ]
  },
  {
   "cell_type": "code",
   "execution_count": null,
   "metadata": {},
   "outputs": [],
   "source": [
    "posology_result.select(F.explode(F.arrays_zip('token.result', 'ner.result', 'ner.metadata')).alias(\"cols\")) \\\n",
    "               .select(F.expr(\"cols['0']\").alias(\"token\"),\n",
    "                       F.expr(\"cols['1']\").alias(\"ner_label\"),\n",
    "                       F.expr(\"cols['2']['confidence']\").alias(\"confidence\"))\\\n",
    "               .filter(\"ner_label!='O'\")\\\n",
    "               .show(20, truncate=100)\n"
   ]
  },
  {
   "cell_type": "code",
   "execution_count": null,
   "metadata": {},
   "outputs": [],
   "source": [
    "posology_result.select('id', F.explode(F.arrays_zip('ner_chunk.result', 'ner_chunk.begin', 'ner_chunk.end', 'ner_chunk.metadata')).alias(\"cols\")) \\\n",
    "               .select('id', F.expr(\"cols['3']['sentence']\").alias(\"sentence_id\"),\n",
    "                       F.expr(\"cols['0']\").alias(\"chunk\"),\n",
    "                       F.expr(\"cols['1']\").alias(\"begin\"),\n",
    "                       F.expr(\"cols['2']\").alias(\"end\"),\n",
    "                       F.expr(\"cols['3']['entity']\").alias(\"ner_label\"),\n",
    "                       F.expr(\"cols['3']['confidence']\").alias(\"confidence\"))\\\n",
    "               .filter(\"ner_label!='O'\")\\\n",
    "               .show(truncate=False)"
   ]
  },
  {
   "cell_type": "code",
   "execution_count": null,
   "metadata": {},
   "outputs": [],
   "source": [
    "posology_result.select('id', F.explode(F.arrays_zip('ner_chunk_greedy.result', 'ner_chunk_greedy.begin', 'ner_chunk_greedy.end', 'ner_chunk_greedy.metadata')).alias(\"cols\")) \\\n",
    "               .select('id', F.expr(\"cols['3']['sentence']\").alias(\"sentence_id\"),\n",
    "                        F.expr(\"cols['0']\").alias(\"chunk\"),\n",
    "                        F.expr(\"cols['1']\").alias(\"begin\"),\n",
    "                        F.expr(\"cols['2']\").alias(\"end\"),\n",
    "                        F.expr(\"cols['3']['entity']\").alias(\"ner_label\"),\n",
    "                        F.expr(\"cols['3']['confidence']\").alias(\"confidence\"))\\\n",
    "                .filter(\"ner_label!='O'\")\\\n",
    "                .show(truncate=False)"
   ]
  },
  {
   "cell_type": "code",
   "execution_count": null,
   "metadata": {},
   "outputs": [],
   "source": [
    "posology_result.select('ner_chunk').take(2)[1][0][0].result"
   ]
  },
  {
   "cell_type": "code",
   "execution_count": null,
   "metadata": {},
   "outputs": [],
   "source": [
    "posology_result.select('ner_chunk').take(2)[1][0][0].metadata"
   ]
  },
  {
   "cell_type": "code",
   "execution_count": null,
   "metadata": {},
   "outputs": [],
   "source": [
    "posology_light_model = nlp.LightPipeline(posology_model)\n",
    "\n",
    "text ='The patient was prescribed 1 capsule of Advil for 5 days . He was seen by the endocrinology service and she was discharged on 40 units of insulin glargine at night , 12 units of insulin lispro with meals , and metformin 1000 mg two times a day . It was determined that all SGLT2 inhibitors should be discontinued indefinitely for 3 months .'\n",
    "\n",
    "posology_light_result = posology_light_model.annotate(text)\n",
    "\n",
    "print(*list(zip(posology_light_result['token'], posology_light_result['ner'])),sep=\"\\n\")"
   ]
  },
  {
   "cell_type": "code",
   "execution_count": null,
   "metadata": {},
   "outputs": [],
   "source": [
    "print(*list(zip(posology_light_result['token'], posology_light_result['ner_greedy'])), sep=\"\\n\")"
   ]
  },
  {
   "cell_type": "code",
   "execution_count": null,
   "metadata": {},
   "outputs": [],
   "source": [
    "cols = [\n",
    "        'entities_ner_chunk',\n",
    "        'entities_ner_chunk_class',\n",
    "        'entities_ner_chunk_begin',\n",
    "        'entities_ner_chunk_end',\n",
    "       ]\n",
    "\n",
    "posology_result_df = nlp.nlu.to_pretty_df(posology_light_model, text, positions=True, output_level='chunk')[cols]\n",
    "posology_result_df.head(20)"
   ]
  },
  {
   "cell_type": "code",
   "execution_count": null,
   "metadata": {},
   "outputs": [],
   "source": [
    "cols = [\n",
    "        'entities_ner_chunk_greedy',\n",
    "        'entities_ner_chunk_greedy_class',\n",
    "        'entities_ner_chunk_greedy_begin',\n",
    "        'entities_ner_chunk_greedy_end',\n",
    "       ]\n",
    "\n",
    "posology_result_greedy_df = nlp.nlu.to_pretty_df(posology_light_model, text, positions=True, output_level='chunk')[cols]\n"
   ]
  },
  {
   "cell_type": "markdown",
   "metadata": {},
   "source": [
    "### Comparison of `ner_posology` and `ner_posology_greedy` results"
   ]
  },
  {
   "cell_type": "code",
   "execution_count": null,
   "metadata": {},
   "outputs": [],
   "source": [
    "posology_light_result= posology_light_model.fullAnnotate(text)\n",
    "\n",
    "from google.colab import widgets\n",
    "\n",
    "t = widgets.TabBar([\"ner_posology\", \"ner_posology_greedy\", \"viz_posology\", \"viz_posology_greedy\"])\n",
    "\n",
    "with t.output_to(0):\n",
    "    display(posology_result_df.head(10))\n",
    "\n",
    "with t.output_to(1):\n",
    "    display(posology_result_greedy_df.head(10))\n",
    "\n",
    "with t.output_to(2):\n",
    "    visualiser.display(posology_light_result[0], label_col='ner_chunk', document_col='document')\n",
    "\n",
    "with t.output_to(3):\n",
    "    visualiser.display(posology_light_result[0], label_col='ner_chunk_greedy', document_col='document')"
   ]
  },
  {
   "cell_type": "markdown",
   "metadata": {},
   "source": [
    "## Writing a generic NER function"
   ]
  },
  {
   "cell_type": "markdown",
   "metadata": {},
   "source": [
    "**Generic NER Function with LightPipeline**"
   ]
  },
  {
   "cell_type": "code",
   "execution_count": 55,
   "metadata": {
    "execution": {
     "iopub.execute_input": "2023-08-30T21:00:35.563372Z",
     "iopub.status.busy": "2023-08-30T21:00:35.563063Z",
     "iopub.status.idle": "2023-08-30T21:00:35.621759Z",
     "shell.execute_reply": "2023-08-30T21:00:35.620845Z",
     "shell.execute_reply.started": "2023-08-30T21:00:35.563338Z"
    },
    "tags": []
   },
   "outputs": [
    {
     "data": {
      "application/vnd.jupyter.widget-view+json": {
       "model_id": "6a5a83627cfd4f61b3f3c11199f0cbc8",
       "version_major": 2,
       "version_minor": 0
      },
      "text/plain": [
       "VBox()"
      ]
     },
     "metadata": {},
     "output_type": "display_data"
    },
    {
     "data": {
      "application/vnd.jupyter.widget-view+json": {
       "model_id": "",
       "version_major": 2,
       "version_minor": 0
      },
      "text/plain": [
       "FloatProgress(value=0.0, bar_style='info', description='Progress:', layout=Layout(height='25px', width='50%'),…"
      ]
     },
     "metadata": {},
     "output_type": "display_data"
    }
   ],
   "source": [
    "def get_light_model(embeddings, model_name = 'ner_clinical'):\n",
    "\n",
    "  documentAssembler = nlp.DocumentAssembler()\\\n",
    "      .setInputCol(\"text\")\\\n",
    "      .setOutputCol(\"document\")\n",
    "\n",
    "  sentenceDetector = nlp.SentenceDetector()\\\n",
    "      .setInputCols([\"document\"])\\\n",
    "      .setOutputCol(\"sentence\")\n",
    "\n",
    "  tokenizer = nlp.Tokenizer()\\\n",
    "      .setInputCols([\"sentence\"])\\\n",
    "      .setOutputCol(\"token\")\n",
    "\n",
    "  word_embeddings = nlp.WordEmbeddingsModel.pretrained(embeddings, \"en\", \"clinical/models\")\\\n",
    "      .setInputCols([\"sentence\", \"token\"])\\\n",
    "      .setOutputCol(\"embeddings\")\n",
    "\n",
    "  loaded_ner_model = medical.NerModel.pretrained(model_name, \"en\", \"clinical/models\") \\\n",
    "      .setInputCols([\"sentence\", \"token\", \"embeddings\"]) \\\n",
    "      .setOutputCol(\"ner\")\n",
    "\n",
    "  ner_converter = medical.NerConverterInternal() \\\n",
    "      .setInputCols([\"sentence\", \"token\", \"ner\"]) \\\n",
    "      .setOutputCol(\"ner_chunk\")\n",
    "\n",
    "  nlpPipeline = nlp.Pipeline(stages=[\n",
    "      documentAssembler,\n",
    "      sentenceDetector,\n",
    "      tokenizer,\n",
    "      word_embeddings,\n",
    "      loaded_ner_model,\n",
    "      ner_converter])\n",
    "\n",
    "  model = nlpPipeline.fit(spark.createDataFrame([[\"\"]]).toDF(\"text\"))\n",
    "\n",
    "  return nlp.LightPipeline(model)"
   ]
  },
  {
   "cell_type": "code",
   "execution_count": 56,
   "metadata": {
    "execution": {
     "iopub.execute_input": "2023-08-30T21:00:44.144639Z",
     "iopub.status.busy": "2023-08-30T21:00:44.144365Z",
     "iopub.status.idle": "2023-08-30T21:01:03.472263Z",
     "shell.execute_reply": "2023-08-30T21:01:03.471537Z",
     "shell.execute_reply.started": "2023-08-30T21:00:44.144605Z"
    },
    "tags": []
   },
   "outputs": [
    {
     "data": {
      "application/vnd.jupyter.widget-view+json": {
       "model_id": "69ad105ee05741b49bdb87703a33728e",
       "version_major": 2,
       "version_minor": 0
      },
      "text/plain": [
       "VBox()"
      ]
     },
     "metadata": {},
     "output_type": "display_data"
    },
    {
     "data": {
      "application/vnd.jupyter.widget-view+json": {
       "model_id": "",
       "version_major": 2,
       "version_minor": 0
      },
      "text/plain": [
       "FloatProgress(value=0.0, bar_style='info', description='Progress:', layout=Layout(height='25px', width='50%'),…"
      ]
     },
     "metadata": {},
     "output_type": "display_data"
    },
    {
     "name": "stdout",
     "output_type": "stream",
     "text": [
      "embeddings_clinical download started this may take some time.\n",
      "Approximate size to download 1.6 GB\n",
      "[OK!]\n",
      "ner_clinical download started this may take some time.\n",
      "[OK!]"
     ]
    }
   ],
   "source": [
    "embeddings = 'embeddings_clinical'\n",
    "\n",
    "model_name = 'ner_clinical'\n",
    "\n",
    "light_model = get_light_model(embeddings, model_name)\n",
    "\n",
    "text = \"I had a headache yesterday and took an Advil.\""
   ]
  },
  {
   "cell_type": "code",
   "execution_count": 60,
   "metadata": {
    "execution": {
     "iopub.execute_input": "2023-08-30T21:02:47.230923Z",
     "iopub.status.busy": "2023-08-30T21:02:47.230653Z",
     "iopub.status.idle": "2023-08-30T21:03:06.566553Z",
     "shell.execute_reply": "2023-08-30T21:03:06.565905Z",
     "shell.execute_reply.started": "2023-08-30T21:02:47.230890Z"
    },
    "tags": []
   },
   "outputs": [
    {
     "data": {
      "application/vnd.jupyter.widget-view+json": {
       "model_id": "589cb2831a7b4efebb668019bba6bee2",
       "version_major": 2,
       "version_minor": 0
      },
      "text/plain": [
       "VBox()"
      ]
     },
     "metadata": {},
     "output_type": "display_data"
    },
    {
     "data": {
      "application/vnd.jupyter.widget-view+json": {
       "model_id": "",
       "version_major": 2,
       "version_minor": 0
      },
      "text/plain": [
       "FloatProgress(value=0.0, bar_style='info', description='Progress:', layout=Layout(height='25px', width='50%'),…"
      ]
     },
     "metadata": {},
     "output_type": "display_data"
    },
    {
     "name": "stdout",
     "output_type": "stream",
     "text": [
      "Warning::Spark Session already created, some configs may not take.\n",
      "Warning::Spark Session already created, some configs may not take."
     ]
    }
   ],
   "source": [
    "cols = [\n",
    "        'entities_ner_chunk_origin_sentence',\n",
    "        'entities_ner_chunk_begin',\n",
    "        'entities_ner_chunk_end',\n",
    "        'entities_ner_chunk',\n",
    "        'entities_ner_chunk_class',\n",
    "       ]\n",
    "\n",
    "# nlp.nlu.to_pretty_df(light_model, text, positions=True, output_level='chunk')[cols].reset_index(drop=True)\n",
    "df = nlp.nlu.to_pretty_df(light_model, text, positions=True, output_level='chunk')[cols].reset_index(drop=True)"
   ]
  },
  {
   "cell_type": "code",
   "execution_count": 65,
   "metadata": {
    "execution": {
     "iopub.execute_input": "2023-08-30T21:05:06.127962Z",
     "iopub.status.busy": "2023-08-30T21:05:06.127684Z",
     "iopub.status.idle": "2023-08-30T21:05:06.387829Z",
     "shell.execute_reply": "2023-08-30T21:05:06.387173Z",
     "shell.execute_reply.started": "2023-08-30T21:05:06.127929Z"
    },
    "tags": []
   },
   "outputs": [
    {
     "data": {
      "application/vnd.jupyter.widget-view+json": {
       "model_id": "2e05577722d64098b16dc4ee2ebd76ce",
       "version_major": 2,
       "version_minor": 0
      },
      "text/plain": [
       "VBox()"
      ]
     },
     "metadata": {},
     "output_type": "display_data"
    },
    {
     "data": {
      "application/vnd.jupyter.widget-view+json": {
       "model_id": "",
       "version_major": 2,
       "version_minor": 0
      },
      "text/plain": [
       "FloatProgress(value=0.0, bar_style='info', description='Progress:', layout=Layout(height='25px', width='50%'),…"
      ]
     },
     "metadata": {},
     "output_type": "display_data"
    },
    {
     "name": "stdout",
     "output_type": "stream",
     "text": [
      "+----------------------------------+------------------------+----------------------+------------------+------------------------+\n",
      "|entities_ner_chunk_origin_sentence|entities_ner_chunk_begin|entities_ner_chunk_end|entities_ner_chunk|entities_ner_chunk_class|\n",
      "+----------------------------------+------------------------+----------------------+------------------+------------------------+\n",
      "|                                 0|                       6|                    15|        a headache|                 PROBLEM|\n",
      "|                                 0|                      36|                    43|          an Advil|               TREATMENT|\n",
      "+----------------------------------+------------------------+----------------------+------------------+------------------------+"
     ]
    }
   ],
   "source": [
    "# %%display\n",
    "spark.createDataFrame(df).show()"
   ]
  },
  {
   "cell_type": "code",
   "execution_count": 62,
   "metadata": {
    "execution": {
     "iopub.execute_input": "2023-08-30T21:03:54.756195Z",
     "iopub.status.busy": "2023-08-30T21:03:54.755987Z",
     "iopub.status.idle": "2023-08-30T21:04:12.077959Z",
     "shell.execute_reply": "2023-08-30T21:04:12.077134Z",
     "shell.execute_reply.started": "2023-08-30T21:03:54.756164Z"
    }
   },
   "outputs": [
    {
     "data": {
      "application/vnd.jupyter.widget-view+json": {
       "model_id": "7e1c8b33598f4351a20bbda3d41a0e46",
       "version_major": 2,
       "version_minor": 0
      },
      "text/plain": [
       "VBox()"
      ]
     },
     "metadata": {},
     "output_type": "display_data"
    },
    {
     "data": {
      "application/vnd.jupyter.widget-view+json": {
       "model_id": "",
       "version_major": 2,
       "version_minor": 0
      },
      "text/plain": [
       "FloatProgress(value=0.0, bar_style='info', description='Progress:', layout=Layout(height='25px', width='50%'),…"
      ]
     },
     "metadata": {},
     "output_type": "display_data"
    },
    {
     "name": "stdout",
     "output_type": "stream",
     "text": [
      "embeddings_clinical download started this may take some time.\n",
      "Approximate size to download 1.6 GB\n",
      "[OK!]\n",
      "ner_posology download started this may take some time.\n",
      "[OK!]"
     ]
    }
   ],
   "source": [
    "text ='''The patient was prescribed 1 capsule of Parol with meals .\n",
    "He was seen by the endocrinology service and she was discharged on 40 units of insulin glargine at night , 12 units of insulin lispro with meals , and metformin 1000 mg two times a day .\n",
    "It was determined that all SGLT2 inhibitors should be discontinued indefinitely fro 3 months .'''\n",
    "\n",
    "embeddings = 'embeddings_clinical'\n",
    "\n",
    "model_name = 'ner_posology'\n",
    "\n",
    "light_model = get_light_model(embeddings, model_name)"
   ]
  },
  {
   "cell_type": "code",
   "execution_count": 63,
   "metadata": {
    "execution": {
     "iopub.execute_input": "2023-08-30T21:04:27.815188Z",
     "iopub.status.busy": "2023-08-30T21:04:27.814882Z",
     "iopub.status.idle": "2023-08-30T21:04:30.090648Z",
     "shell.execute_reply": "2023-08-30T21:04:30.089988Z",
     "shell.execute_reply.started": "2023-08-30T21:04:27.815127Z"
    }
   },
   "outputs": [
    {
     "data": {
      "application/vnd.jupyter.widget-view+json": {
       "model_id": "b197ea9f803643b2a961e31959be1891",
       "version_major": 2,
       "version_minor": 0
      },
      "text/plain": [
       "VBox()"
      ]
     },
     "metadata": {},
     "output_type": "display_data"
    },
    {
     "data": {
      "application/vnd.jupyter.widget-view+json": {
       "model_id": "",
       "version_major": 2,
       "version_minor": 0
      },
      "text/plain": [
       "FloatProgress(value=0.0, bar_style='info', description='Progress:', layout=Layout(height='25px', width='50%'),…"
      ]
     },
     "metadata": {},
     "output_type": "display_data"
    },
    {
     "name": "stdout",
     "output_type": "stream",
     "text": [
      "Warning::Spark Session already created, some configs may not take.\n",
      "Warning::Spark Session already created, some configs may not take.\n",
      "+----------------------------------+------------------------+----------------------+------------------+------------------------+\n",
      "|entities_ner_chunk_origin_sentence|entities_ner_chunk_begin|entities_ner_chunk_end|entities_ner_chunk|entities_ner_chunk_class|\n",
      "+----------------------------------+------------------------+----------------------+------------------+------------------------+\n",
      "|                                 0|                      27|                    27|                 1|                  DOSAGE|\n",
      "|                                 0|                      29|                    35|           capsule|                    FORM|\n",
      "|                                 0|                      40|                    44|             Parol|                    DRUG|\n",
      "|                                 0|                      46|                    55|        with meals|               FREQUENCY|\n",
      "|                                 1|                     126|                   133|          40 units|                  DOSAGE|\n",
      "|                                 1|                     138|                   153|  insulin glargine|                    DRUG|\n",
      "|                                 1|                     155|                   162|          at night|               FREQUENCY|\n",
      "|                                 1|                     166|                   173|          12 units|                  DOSAGE|\n",
      "|                                 1|                     178|                   191|    insulin lispro|                    DRUG|\n",
      "|                                 1|                     193|                   202|        with meals|               FREQUENCY|\n",
      "|                                 1|                     210|                   218|         metformin|                    DRUG|\n",
      "|                                 1|                     220|                   226|           1000 mg|                STRENGTH|\n",
      "|                                 1|                     228|                   242|   two times a day|               FREQUENCY|\n",
      "|                                 2|                     273|                   288|  SGLT2 inhibitors|                    DRUG|\n",
      "+----------------------------------+------------------------+----------------------+------------------+------------------------+"
     ]
    }
   ],
   "source": [
    "# %%display\n",
    "spark.createDataFrame(nlp.nlu.to_pretty_df(light_model, text,positions=True, output_level='chunk')[cols].reset_index(drop=True)).show()"
   ]
  },
  {
   "cell_type": "markdown",
   "metadata": {},
   "source": [
    "## PHI NER\n",
    "\n",
    "**Entities**\n",
    "- AGE\n",
    "- CONTACT\n",
    "- DATE\n",
    "- ID\n",
    "- LOCATION\n",
    "- NAME\n",
    "- PROFESSION"
   ]
  },
  {
   "cell_type": "code",
   "execution_count": 66,
   "metadata": {
    "execution": {
     "iopub.execute_input": "2023-08-30T21:05:19.161825Z",
     "iopub.status.busy": "2023-08-30T21:05:19.161562Z",
     "iopub.status.idle": "2023-08-30T21:05:30.463800Z",
     "shell.execute_reply": "2023-08-30T21:05:30.463077Z",
     "shell.execute_reply.started": "2023-08-30T21:05:19.161794Z"
    }
   },
   "outputs": [
    {
     "data": {
      "application/vnd.jupyter.widget-view+json": {
       "model_id": "626eb492af364c59a084a9262812e3bf",
       "version_major": 2,
       "version_minor": 0
      },
      "text/plain": [
       "VBox()"
      ]
     },
     "metadata": {},
     "output_type": "display_data"
    },
    {
     "data": {
      "application/vnd.jupyter.widget-view+json": {
       "model_id": "",
       "version_major": 2,
       "version_minor": 0
      },
      "text/plain": [
       "FloatProgress(value=0.0, bar_style='info', description='Progress:', layout=Layout(height='25px', width='50%'),…"
      ]
     },
     "metadata": {},
     "output_type": "display_data"
    },
    {
     "name": "stdout",
     "output_type": "stream",
     "text": [
      "embeddings_clinical download started this may take some time.\n",
      "Approximate size to download 1.6 GB\n",
      "[OK!]\n",
      "ner_deid_subentity_augmented download started this may take some time.\n",
      "[OK!]"
     ]
    }
   ],
   "source": [
    "embeddings = 'embeddings_clinical'\n",
    "\n",
    "model_name = 'ner_deid_subentity_augmented'\n",
    "\n",
    "# deidentify_dl\n",
    "# ner_deid_sd\n",
    "# ner_deid_large\n",
    "# ner_deid_generic_augmented\n",
    "# ner_deid_subentity_augmented\n",
    "# ner_deid_subentity_augmented_i2b2\n",
    "\n",
    "text = \"\"\"Miriam BRAY is a 41-year-old female from Vietnam and she was admitted for a right-sided pleural effusion for thoracentesis on Monday by Dr. X. Her Coumadin was placed on hold.\n",
    "She was instructed to followup with Dr. XYZ in the office to check her INR On August 24, 2007 .\"\"\"\n",
    "\n",
    "light_model = get_light_model(embeddings, model_name)"
   ]
  },
  {
   "cell_type": "code",
   "execution_count": null,
   "metadata": {},
   "outputs": [],
   "source": [
    "df = nlp.nlu.to_pretty_df(light_model, text,positions=True, output_level='chunk')[cols].reset_index(drop=True)"
   ]
  },
  {
   "cell_type": "code",
   "execution_count": null,
   "metadata": {},
   "outputs": [],
   "source": [
    "%%display\n",
    "spark.createDataFrame(df)"
   ]
  },
  {
   "cell_type": "code",
   "execution_count": null,
   "metadata": {},
   "outputs": [],
   "source": [
    "# nlp.nlu.to_pretty_df(light_model, text,positions=True, output_level='chunk')[cols].reset_index(drop=True)"
   ]
  },
  {
   "cell_type": "markdown",
   "metadata": {},
   "source": [
    "## Oncology NER\n",
    "\n",
    "There are several Oncology NER models in Spark NLP. We will show an example of `new_oncology_wip` model here.\n",
    "\n",
    "**Entities**\n",
    "\n",
    "| | | | |\n",
    "|-|-|-|-|\n",
    "| Invasion | Dosage | Hormonal_Therapy | Site_Lung |\n",
    "| Biomarker_Result | Response_To_Treatment | Oncogene | Relative_Date |\n",
    "| Site_Bone | Histological_Type | Radiation_Dose | Age |\n",
    "| Duration | Grade | Tumor_Size | Line_Of_Therapy |\n",
    "| Site_Breast | Cancer_Surgery | Smoking_Status | Imaging_Test |\n",
    "| Adenopathy | Targeted_Therapy | Radiotherapy | Metastasis |\n",
    "| Date | Cycle_Number | Pathology_Result | Cancer_Score |\n",
    "| Cancer_Dx | Death_Entity | Site_Liver | Site_Brain |\n",
    "| Pathology_Test | Chemotherapy | Biomarker | Frequency |\n",
    "| Site_Lymph_Node | Performance_Status | Unspecific_Therapy | Cycle_Count |\n",
    "| Race_Ethnicity | Gender | Staging | Immunotherapy |\n",
    "| Site_Other_Body_Part | Tumor_Finding | Route | Cycle_Day |\n",
    "| Direction| | | |\n",
    "\n",
    "You can check [Oncology Model Notebook](https://github.com/JohnSnowLabs/spark-nlp-workshop/blob/master/tutorials/Certification_Trainings_JSL/Healthcare/27.Oncology_Model.ipynb) for more examples.\n"
   ]
  },
  {
   "cell_type": "code",
   "execution_count": null,
   "metadata": {},
   "outputs": [],
   "source": [
    "mt_samples_df.limit(1).collect()[0][\"text\"]"
   ]
  },
  {
   "cell_type": "code",
   "execution_count": null,
   "metadata": {},
   "outputs": [],
   "source": [
    "embeddings = 'embeddings_clinical'\n",
    "\n",
    "model_name = 'ner_oncology'\n",
    "\n",
    "text =  mt_samples_df.limit(1).collect()[0][\"text\"]\n",
    "\n",
    "light_model = get_light_model(embeddings, model_name)\n"
   ]
  },
  {
   "cell_type": "code",
   "execution_count": null,
   "metadata": {},
   "outputs": [],
   "source": [
    "spark.createDataFrame(nlp.nlu.to_pretty_df(light_model, text, positions=True, output_level='chunk')[cols].head(20).reset_index(drop=True)).show()"
   ]
  },
  {
   "cell_type": "markdown",
   "metadata": {},
   "source": [
    "## NER Chunker\n",
    "We can extract phrases that fits into a known pattern using the NER tags. NerChunker would be quite handy to extract entity groups with neighboring tokens when there is no pretrained NER model to address certain issues. Lets say we want to extract drug and frequency together as a single chunk even if there are some unwanted tokens between them."
   ]
  },
  {
   "cell_type": "code",
   "execution_count": null,
   "metadata": {},
   "outputs": [],
   "source": [
    "posology_ner = medical.NerModel.pretrained(\"ner_posology\", \"en\", \"clinical/models\") \\\n",
    "    .setInputCols([\"sentence\", \"token\", \"embeddings\"]) \\\n",
    "    .setOutputCol(\"ner\")\n",
    "\n",
    "ner_chunker = medical.NerChunker()\\\n",
    "    .setInputCols([\"sentence\",\"ner\"])\\\n",
    "    .setOutputCol(\"ner_chunk\")\\\n",
    "    .setRegexParsers([\"<DRUG>.*<FREQUENCY>\"])\n",
    "\n",
    "nlpPipeline = nlp.Pipeline(stages=[\n",
    "    documentAssembler,\n",
    "    sentenceDetector,\n",
    "    tokenizer,\n",
    "    word_embeddings,\n",
    "    posology_ner,\n",
    "    ner_chunker])\n",
    "\n",
    "empty_data = spark.createDataFrame([[\"\"]]).toDF(\"text\")\n",
    "\n",
    "ner_chunker_model = nlpPipeline.fit(empty_data)"
   ]
  },
  {
   "cell_type": "code",
   "execution_count": null,
   "metadata": {},
   "outputs": [],
   "source": [
    "print(*posology_ner.getClasses(),sep='\\n')"
   ]
  },
  {
   "cell_type": "code",
   "execution_count": null,
   "metadata": {},
   "outputs": [],
   "source": [
    "light_model = nlp.LightPipeline(ner_chunker_model)\n",
    "\n",
    "text ='The patient was prescribed 1 capsule of Advil for 5 days . He was seen by the endocrinology service and she was discharged on 40 units of insulin glargine at night , 12 units of insulin lispro with meals , metformin 1000 mg two times a day . It was determined that all SGLT2 inhibitors should be discontinued indefinitely fro 3 months .'\n",
    "\n",
    "light_result = light_model.annotate(text)\n",
    "\n",
    "print(*list(zip(light_result['token'], light_result['ner'])),sep='\\n')"
   ]
  },
  {
   "cell_type": "code",
   "execution_count": null,
   "metadata": {},
   "outputs": [],
   "source": [
    "light_result[\"ner_chunk\"]"
   ]
  },
  {
   "cell_type": "markdown",
   "metadata": {},
   "source": [
    "## Chunk Filterer\n",
    "ChunkFilterer will allow you to filter out named entities by some conditions or predefined look-up lists, so that you can feed these entities to other annotators like Assertion Status or Entity Resolvers. It can be used with two criteria: isin and regex."
   ]
  },
  {
   "cell_type": "code",
   "execution_count": null,
   "metadata": {},
   "outputs": [],
   "source": [
    "posology_ner = medical.NerModel.pretrained(\"ner_posology\", \"en\", \"clinical/models\") \\\n",
    "    .setInputCols([\"sentence\", \"token\", \"embeddings\"]) \\\n",
    "    .setOutputCol(\"ner\")\n",
    "\n",
    "ner_converter = medical.NerConverterInternal()\\\n",
    "    .setInputCols([\"sentence\",\"token\",\"ner\"])\\\n",
    "    .setOutputCol(\"ner_chunk\")\n",
    "\n",
    "chunk_filterer = medical.ChunkFilterer()\\\n",
    "    .setInputCols(\"sentence\",\"ner_chunk\")\\\n",
    "    .setOutputCol(\"chunk_filtered\")\\\n",
    "    .setCriteria(\"isin\")\\\n",
    "    .setWhiteList(['ADVIL','Metformin', 'Insulin Lispro'])\\\n",
    "    .setCaseSensitive(False)\n",
    "\n",
    "nlpPipeline = nlp.Pipeline(stages=[\n",
    "    documentAssembler,\n",
    "    sentenceDetector,\n",
    "    tokenizer,\n",
    "    word_embeddings,\n",
    "    posology_ner,\n",
    "    ner_converter,\n",
    "    chunk_filterer])\n",
    "\n",
    "empty_data = spark.createDataFrame([[\"\"]]).toDF(\"text\")\n",
    "\n",
    "chunk_filter_model = nlpPipeline.fit(empty_data)"
   ]
  },
  {
   "cell_type": "code",
   "execution_count": null,
   "metadata": {},
   "outputs": [],
   "source": [
    "light_model = nlp.LightPipeline(chunk_filter_model)\n",
    "\n",
    "text ='The patient was prescribed 1 capsule of Advil for 5 days . He was seen by the endocrinology service and she was discharged on 40 units of insulin glargine at night , 12 units of insulin lispro with meals , metformin 1000 mg two times a day . It was determined that all SGLT2 inhibitors should be discontinued indefinitely fro 3 months .'\n",
    "\n",
    "light_result = light_model.annotate(text)\n",
    "\n",
    "light_result.keys()"
   ]
  },
  {
   "cell_type": "code",
   "execution_count": null,
   "metadata": {},
   "outputs": [],
   "source": [
    "light_result['ner_chunk']"
   ]
  },
  {
   "cell_type": "code",
   "execution_count": null,
   "metadata": {},
   "outputs": [],
   "source": [
    "light_result['chunk_filtered']"
   ]
  },
  {
   "cell_type": "code",
   "execution_count": null,
   "metadata": {},
   "outputs": [],
   "source": [
    "ner_model = medical.NerModel.pretrained(\"ner_clinical\", \"en\", \"clinical/models\")\\\n",
    "    .setInputCols(\"sentence\",\"token\",\"embeddings\")\\\n",
    "    .setOutputCol(\"ner\")\n",
    "\n",
    "ner_converter = medical.NerConverterInternal()\\\n",
    "    .setInputCols([\"sentence\",\"token\",\"ner\"])\\\n",
    "    .setOutputCol(\"ner_chunk\")\n",
    "\n",
    "chunk_filterer = medical.ChunkFilterer()\\\n",
    "    .setInputCols(\"sentence\",\"ner_chunk\")\\\n",
    "    .setOutputCol(\"chunk_filtered\")\\\n",
    "    .setCriteria(\"isin\")\\\n",
    "    .setWhiteList(['severe fever','sore throat'])\n",
    "\n",
    "#   .setCriteria(\"regex\")\\\n",
    "\n",
    "nlpPipeline = nlp.Pipeline(stages=[\n",
    "    documentAssembler,\n",
    "    sentenceDetector,\n",
    "    tokenizer,\n",
    "    word_embeddings,\n",
    "    ner_model,\n",
    "    ner_converter,\n",
    "    chunk_filterer])\n",
    "\n",
    "empty_data = spark.createDataFrame([[\"\"]]).toDF(\"text\")\n",
    "\n",
    "chunk_filter_model = nlpPipeline.fit(empty_data)"
   ]
  },
  {
   "cell_type": "code",
   "execution_count": null,
   "metadata": {},
   "outputs": [],
   "source": [
    "text = 'Patient with severe fever, severe cough, sore throat, stomach pain, and a headache.'\n",
    "\n",
    "filter_df = spark.createDataFrame([[text]]).toDF(\"text\")\n",
    "\n",
    "chunk_filter_result = chunk_filter_model.transform(filter_df)"
   ]
  },
  {
   "cell_type": "code",
   "execution_count": null,
   "metadata": {},
   "outputs": [],
   "source": [
    "chunk_filter_result.select('ner_chunk.result','chunk_filtered.result').show(truncate=False)"
   ]
  },
  {
   "cell_type": "markdown",
   "metadata": {},
   "source": [
    "## Changing entity labels with `NerConverterInternal()`\n",
    "\n",
    "There are two parameters in `NerConverterInternal()` annotator for replacing the labels.\n",
    "\n",
    "+ `.setReplaceLabels`: You can just create a dictionary with the labels and their new values in this parameter.\n",
    "\n",
    "```python\n",
    "jsl_ner_converter_internal = medical.NerConverterInternal()\\\n",
    "    .setInputCols([\"sentence\",\"token\",\"jsl_ner\"])\\\n",
    "    .setOutputCol(\"replaced_ner_chunk\")\\\n",
    "    .setReplaceLabels({\"Drug_BrandName\": \"Drug\",\n",
    "                       \"Frequency\": \"Drug_Frequency\",\n",
    "                       \"Dosage\": \"Drug_Dosage\",\n",
    "                       \"Strength\": \"Drug_Strength\"})\n",
    "```\n",
    "\n",
    "+ `.setReplaceDictResource`: You can feed a file that contains the labels and their new values in a dictionary format.\n",
    "\n",
    "```python\n",
    "replace_dict = \"\"\"Drug_BrandName,Drug\n",
    "Frequency,Drug_Frequency\n",
    "Dosage,Drug_Dosage\n",
    "Strength,Drug_Strength\n",
    "\"\"\"\n",
    "with open('replace_dict.csv', 'w') as f:\n",
    "    f.write(replace_dict)\n",
    "\n",
    "...\n",
    "jsl_ner_converter_internal = medical.NerConverterInternal()\\\n",
    "    .setInputCols([\"sentence\",\"token\",\"jsl_ner\"])\\\n",
    "    .setOutputCol(\"replaced_ner_chunk\")\\\n",
    "    .setReplaceDictResource(\"replace_dict.csv\",\"text\", {\"delimiter\":\",\"})\n",
    "...\n",
    "```\n",
    "\n",
    "\n",
    "\n",
    "You can check [NerConverterInternal Annotator Page](https://nlp.johnsnowlabs.com/docs/en/licensed_annotators#nerconverterinternal) for more details."
   ]
  },
  {
   "cell_type": "code",
   "execution_count": null,
   "metadata": {},
   "outputs": [],
   "source": [
    "documentAssembler = nlp.DocumentAssembler()\\\n",
    "    .setInputCol(\"text\")\\\n",
    "    .setOutputCol(\"document\")\n",
    "\n",
    "sentenceDetector = nlp.SentenceDetectorDLModel.pretrained(\"sentence_detector_dl_healthcare\",\"en\",\"clinical/models\") \\\n",
    "    .setInputCols([\"document\"]) \\\n",
    "    .setOutputCol(\"sentence\")\n",
    "\n",
    "tokenizer = nlp.Tokenizer()\\\n",
    "    .setInputCols([\"sentence\"])\\\n",
    "    .setOutputCol(\"token\")\n",
    "\n",
    "word_embeddings = nlp.WordEmbeddingsModel.pretrained(\"embeddings_clinical\", \"en\", \"clinical/models\")\\\n",
    "    .setInputCols([\"sentence\", \"token\"])\\\n",
    "    .setOutputCol(\"embeddings\")\n",
    "\n",
    "jsl_ner = medical.NerModel.pretrained(\"ner_jsl\", \"en\", \"clinical/models\") \\\n",
    "    .setInputCols([\"sentence\", \"token\", \"embeddings\"]) \\\n",
    "    .setOutputCol(\"jsl_ner\")\n",
    "\n",
    "jsl_ner_converter = medical.NerConverterInternal() \\\n",
    "    .setInputCols([\"sentence\", \"token\", \"jsl_ner\"]) \\\n",
    "    .setOutputCol(\"jsl_ner_chunk\")\n",
    "\n",
    "jsl_ner_converter_internal = medical.NerConverterInternal()\\\n",
    "    .setInputCols([\"sentence\",\"token\",\"jsl_ner\"])\\\n",
    "    .setOutputCol(\"replaced_ner_chunk\")\\\n",
    "    .setReplaceLabels({\"Drug_BrandName\": \"Drug\",\n",
    "                       \"Frequency\": \"Drug_Frequency\",\n",
    "                       \"Dosage\": \"Drug_Dosage\",\n",
    "                       \"Strength\": \"Drug_Strength\"})\n",
    "\n",
    "nlpPipeline = nlp.Pipeline(stages=[\n",
    "    documentAssembler,\n",
    "    sentenceDetector,\n",
    "    tokenizer,\n",
    "    word_embeddings,\n",
    "    jsl_ner,\n",
    "    jsl_ner_converter,\n",
    "    jsl_ner_converter_internal\n",
    "    ])\n",
    "\n",
    "empty_data = spark.createDataFrame([[\"\"]]).toDF(\"text\")\n",
    "ner_converter_model = nlpPipeline.fit(empty_data)"
   ]
  },
  {
   "cell_type": "code",
   "execution_count": null,
   "metadata": {},
   "outputs": [],
   "source": [
    "text ='The patient was prescribed 1 capsule of Parol with meals. He was seen by the endocrinology service and she was discharged on 40 units of insulin glargine at night , 12 units of insulin lispro with meals , and metformin 1000 mg two times a day . It was determined that all SGLT2 inhibitors should be discontinued indefinitely fro 3 months .'\n",
    "\n",
    "#light_model = LightPipeline(ner_converter_model)\n",
    "\n",
    "cols = [\n",
    "     'entities_jsl_ner_chunk_origin_sentence',\n",
    "     'entities_jsl_ner_chunk_begin',\n",
    "     'entities_jsl_ner_chunk_end',\n",
    "     'entities_jsl_ner_chunk',\n",
    "     'entities_jsl_ner_chunk_class',\n",
    "     'entities_replaced_ner_chunk_class'\n",
    "]\n",
    "spark.createDataFrame(nlp.nlu.to_pretty_df(ner_converter_model,text,positions=True,output_level='chunk')[cols].head(20)).show()"
   ]
  },
  {
   "cell_type": "markdown",
   "metadata": {},
   "source": [
    "### Adding `setIgnoreStopWords` parameter to control chunk generation.\n",
    "By providing `setIgnoreStopWords`, we can ignore certain words or characters while creating a chunk. <br/>\n",
    "\n",
    "It should be a list of tokens/words or characters, and when two entities of the same type are separated by those words, these entities can be combined to produce a single, larger chunk.\n",
    "\n",
    "\n",
    "\n",
    "\n"
   ]
  },
  {
   "cell_type": "markdown",
   "metadata": {},
   "source": [
    "Firstly let's create `NerConverterInternal()` without this parameter"
   ]
  },
  {
   "cell_type": "code",
   "execution_count": null,
   "metadata": {},
   "outputs": [],
   "source": [
    "jsl_ner= medical.NerModel.pretrained(\"ner_deid_generic_augmented\", \"en\", \"clinical/models\")\\\n",
    "      .setInputCols([\"sentence\", \"token\", \"embeddings\"])\\\n",
    "      .setOutputCol(\"ner_deid\")\\\n",
    "      .setLabelCasing('upper')\n",
    "\n",
    "jsl_ner_converter_internal= medical.NerConverterInternal()\\\n",
    "        .setInputCols([\"sentence\", \"token\", \"ner_deid\"])\\\n",
    "        .setOutputCol(\"chunk_deid\")\\\n",
    "        .setGreedyMode(True)\\\n",
    "        .setWhiteList(['LOCATION'])\n",
    "\n",
    "nlpPipeline = nlp.Pipeline(stages=[\n",
    "    documentAssembler,\n",
    "    sentenceDetector,\n",
    "    tokenizer,\n",
    "    word_embeddings,\n",
    "    jsl_ner,\n",
    "    jsl_ner_converter_internal\n",
    "    ])\n",
    "\n",
    "empty_data = spark.createDataFrame([[\"\"]]).toDF(\"text\")\n",
    "ner_converter_model = nlpPipeline.fit(empty_data)"
   ]
  },
  {
   "cell_type": "code",
   "execution_count": null,
   "metadata": {},
   "outputs": [],
   "source": [
    "#from sparknlp_display import NerVisualizer\n",
    "\n",
    "text = \"\"\"\n",
    "The address of the manufacturer:\n",
    "R K Industry House, Walbhat Rd\n",
    "Mumbai, Maharashtra, India\n",
    "\"\"\"\n",
    "\n",
    "lmodel= nlp.LightPipeline(ner_converter_model)\n",
    "res = lmodel.fullAnnotate(text)[0]\n",
    "\n",
    "nlp.viz.NerVisualizer().display(res, 'chunk_deid')"
   ]
  },
  {
   "cell_type": "code",
   "execution_count": 67,
   "metadata": {
    "execution": {
     "iopub.execute_input": "2023-08-30T21:06:59.967345Z",
     "iopub.status.busy": "2023-08-30T21:06:59.967037Z",
     "iopub.status.idle": "2023-08-30T21:06:59.973252Z",
     "shell.execute_reply": "2023-08-30T21:06:59.972628Z",
     "shell.execute_reply.started": "2023-08-30T21:06:59.967311Z"
    },
    "tags": []
   },
   "outputs": [
    {
     "data": {
      "text/html": [
       "'<style>    @import url(\\'https://fonts.googleapis.com/css2?family=Montserrat:wght@300;400;500;600;700&display=swap\\');    @import url(\\'https://fonts.googleapis.com/css2?family=Vistol Regular:wght@300;400;500;600;700&display=swap\\');\\n    \\n    .spark-nlp-display-scroll-entities {\\n        border: 1px solid #E7EDF0;\\n        border-radius: 3px;\\n        text-align: justify;\\n        \\n    }\\n    .spark-nlp-display-scroll-entities span {  \\n        font-size: 14px;\\n        line-height: 24px;\\n        color: #536B76;\\n        font-family: \\'Montserrat\\', sans-serif !important;\\n    }\\n    \\n    .spark-nlp-display-entity-wrapper{\\n    \\n        display: inline-grid;\\n        text-align: center;\\n        border-radius: 4px;\\n        margin: 0 2px 5px 2px;\\n        padding: 1px\\n    }\\n    .spark-nlp-display-entity-name{\\n        font-size: 14px;\\n        line-height: 24px;\\n        font-family: \\'Montserrat\\', sans-serif !important;\\n        \\n        background: #f1f2f3;\\n        border-width: medium;\\n        text-align: center;\\n        \\n        font-weight: 400;\\n        \\n        border-radius: 5px;\\n        padding: 2px 5px;\\n        display: block;\\n        margin: 3px 2px;\\n    \\n    }\\n    .spark-nlp-display-entity-type{\\n        font-size: 14px;\\n        line-height: 24px;\\n        color: #ffffff;\\n        font-family: \\'Montserrat\\', sans-serif !important;\\n        \\n        text-transform: uppercase;\\n        \\n        font-weight: 500;\\n\\n        display: block;\\n        padding: 3px 5px;\\n    }\\n    \\n    .spark-nlp-display-entity-resolution{\\n        font-size: 14px;\\n        line-height: 24px;\\n        color: #ffffff;\\n        font-family: \\'Vistol Regular\\', sans-serif !important;\\n        \\n        text-transform: uppercase;\\n        \\n        font-weight: 500;\\n\\n        display: block;\\n        padding: 3px 5px;\\n    }\\n    \\n    .spark-nlp-display-others{\\n        font-size: 14px;\\n        line-height: 24px;\\n        font-family: \\'Montserrat\\', sans-serif !important;\\n        \\n        font-weight: 400;\\n    }\\n\\n</style>\\n <span class=\"spark-nlp-display-others\" style=\"background-color: white\"><br>The address of the manufacturer:<br></span><span class=\"spark-nlp-display-entity-wrapper\" style=\"background-color: #64AF97\"><span class=\"spark-nlp-display-entity-name\">R K Industry House </span><span class=\"spark-nlp-display-entity-type\">LOCATION</span></span><span class=\"spark-nlp-display-others\" style=\"background-color: white\">, </span><span class=\"spark-nlp-display-entity-wrapper\" style=\"background-color: #64AF97\"><span class=\"spark-nlp-display-entity-name\">Walbhat Rd </span><span class=\"spark-nlp-display-entity-type\">LOCATION</span></span><span class=\"spark-nlp-display-others\" style=\"background-color: white\"><br></span><span class=\"spark-nlp-display-entity-wrapper\" style=\"background-color: #64AF97\"><span class=\"spark-nlp-display-entity-name\">Mumbai </span><span class=\"spark-nlp-display-entity-type\">LOCATION</span></span><span class=\"spark-nlp-display-others\" style=\"background-color: white\">, </span><span class=\"spark-nlp-display-entity-wrapper\" style=\"background-color: #64AF97\"><span class=\"spark-nlp-display-entity-name\">Maharashtra </span><span class=\"spark-nlp-display-entity-type\">LOCATION</span></span><span class=\"spark-nlp-display-others\" style=\"background-color: white\">, </span><span class=\"spark-nlp-display-entity-wrapper\" style=\"background-color: #64AF97\"><span class=\"spark-nlp-display-entity-name\">India </span><span class=\"spark-nlp-display-entity-type\">LOCATION</span></span><span class=\"spark-nlp-display-others\" style=\"background-color: white\"><br></span></div>'\n"
      ],
      "text/plain": [
       "<IPython.core.display.HTML object>"
      ]
     },
     "metadata": {},
     "output_type": "display_data"
    }
   ],
   "source": [
    "%%html\n",
    "'<style>    @import url(\\'https://fonts.googleapis.com/css2?family=Montserrat:wght@300;400;500;600;700&display=swap\\');    @import url(\\'https://fonts.googleapis.com/css2?family=Vistol Regular:wght@300;400;500;600;700&display=swap\\');\\n    \\n    .spark-nlp-display-scroll-entities {\\n        border: 1px solid #E7EDF0;\\n        border-radius: 3px;\\n        text-align: justify;\\n        \\n    }\\n    .spark-nlp-display-scroll-entities span {  \\n        font-size: 14px;\\n        line-height: 24px;\\n        color: #536B76;\\n        font-family: \\'Montserrat\\', sans-serif !important;\\n    }\\n    \\n    .spark-nlp-display-entity-wrapper{\\n    \\n        display: inline-grid;\\n        text-align: center;\\n        border-radius: 4px;\\n        margin: 0 2px 5px 2px;\\n        padding: 1px\\n    }\\n    .spark-nlp-display-entity-name{\\n        font-size: 14px;\\n        line-height: 24px;\\n        font-family: \\'Montserrat\\', sans-serif !important;\\n        \\n        background: #f1f2f3;\\n        border-width: medium;\\n        text-align: center;\\n        \\n        font-weight: 400;\\n        \\n        border-radius: 5px;\\n        padding: 2px 5px;\\n        display: block;\\n        margin: 3px 2px;\\n    \\n    }\\n    .spark-nlp-display-entity-type{\\n        font-size: 14px;\\n        line-height: 24px;\\n        color: #ffffff;\\n        font-family: \\'Montserrat\\', sans-serif !important;\\n        \\n        text-transform: uppercase;\\n        \\n        font-weight: 500;\\n\\n        display: block;\\n        padding: 3px 5px;\\n    }\\n    \\n    .spark-nlp-display-entity-resolution{\\n        font-size: 14px;\\n        line-height: 24px;\\n        color: #ffffff;\\n        font-family: \\'Vistol Regular\\', sans-serif !important;\\n        \\n        text-transform: uppercase;\\n        \\n        font-weight: 500;\\n\\n        display: block;\\n        padding: 3px 5px;\\n    }\\n    \\n    .spark-nlp-display-others{\\n        font-size: 14px;\\n        line-height: 24px;\\n        font-family: \\'Montserrat\\', sans-serif !important;\\n        \\n        font-weight: 400;\\n    }\\n\\n</style>\\n <span class=\"spark-nlp-display-others\" style=\"background-color: white\"><br>The address of the manufacturer:<br></span><span class=\"spark-nlp-display-entity-wrapper\" style=\"background-color: #64AF97\"><span class=\"spark-nlp-display-entity-name\">R K Industry House </span><span class=\"spark-nlp-display-entity-type\">LOCATION</span></span><span class=\"spark-nlp-display-others\" style=\"background-color: white\">, </span><span class=\"spark-nlp-display-entity-wrapper\" style=\"background-color: #64AF97\"><span class=\"spark-nlp-display-entity-name\">Walbhat Rd </span><span class=\"spark-nlp-display-entity-type\">LOCATION</span></span><span class=\"spark-nlp-display-others\" style=\"background-color: white\"><br></span><span class=\"spark-nlp-display-entity-wrapper\" style=\"background-color: #64AF97\"><span class=\"spark-nlp-display-entity-name\">Mumbai </span><span class=\"spark-nlp-display-entity-type\">LOCATION</span></span><span class=\"spark-nlp-display-others\" style=\"background-color: white\">, </span><span class=\"spark-nlp-display-entity-wrapper\" style=\"background-color: #64AF97\"><span class=\"spark-nlp-display-entity-name\">Maharashtra </span><span class=\"spark-nlp-display-entity-type\">LOCATION</span></span><span class=\"spark-nlp-display-others\" style=\"background-color: white\">, </span><span class=\"spark-nlp-display-entity-wrapper\" style=\"background-color: #64AF97\"><span class=\"spark-nlp-display-entity-name\">India </span><span class=\"spark-nlp-display-entity-type\">LOCATION</span></span><span class=\"spark-nlp-display-others\" style=\"background-color: white\"><br></span></div>'"
   ]
  },
  {
   "cell_type": "code",
   "execution_count": null,
   "metadata": {},
   "outputs": [],
   "source": [
    "#from sparknlp_display import NerVisualizer\n",
    "\n",
    "text = \"\"\"\n",
    "The address of the manufacturer:\n",
    "R K Industry House, Walbhat Rd\n",
    "Mumbai, Maharashtra, India\n",
    "\"\"\"\n",
    "\n",
    "lmodel= nlp.LightPipeline(ner_converter_model)\n",
    "res = lmodel.fullAnnotate(text)[0]\n",
    "\n",
    "nlp.viz.NerVisualizer().display(res, 'chunk_deid')"
   ]
  },
  {
   "cell_type": "code",
   "execution_count": null,
   "metadata": {},
   "outputs": [],
   "source": [
    "# nlp.viz.NerVisualizer().display(res, 'chunk_deid', return_html = True)"
   ]
  },
  {
   "cell_type": "code",
   "execution_count": 68,
   "metadata": {
    "execution": {
     "iopub.execute_input": "2023-08-30T21:07:11.853571Z",
     "iopub.status.busy": "2023-08-30T21:07:11.853268Z",
     "iopub.status.idle": "2023-08-30T21:07:11.860115Z",
     "shell.execute_reply": "2023-08-30T21:07:11.859372Z",
     "shell.execute_reply.started": "2023-08-30T21:07:11.853537Z"
    },
    "tags": []
   },
   "outputs": [
    {
     "data": {
      "text/html": [
       "'\\n<style>\\n    @import url(\\'https://fonts.googleapis.com/css2?family=Montserrat:wght@300;400;500;600;700&display=swap\\');\\n    @import url(\\'https://fonts.googleapis.com/css2?family=Vistol Regular:wght@300;400;500;600;700&display=swap\\');\\n    \\n    .spark-nlp-display-scroll-entities {\\n        border: 1px solid #E7EDF0;\\n        border-radius: 3px;\\n        text-align: justify;\\n        \\n    }\\n    .spark-nlp-display-scroll-entities span {  \\n        font-size: 14px;\\n        line-height: 24px;\\n        color: #536B76;\\n        font-family: \\'Montserrat\\', sans-serif !important;\\n    }\\n    \\n    .spark-nlp-display-entity-wrapper{\\n    \\n        display: inline-grid;\\n        text-align: center;\\n        border-radius: 4px;\\n        margin: 0 2px 5px 2px;\\n        padding: 1px\\n    }\\n    .spark-nlp-display-entity-name{\\n        font-size: 14px;\\n        line-height: 24px;\\n        font-family: \\'Montserrat\\', sans-serif !important;\\n        \\n        background: #f1f2f3;\\n        border-width: medium;\\n        text-align: center;\\n        \\n        font-weight: 400;\\n        \\n        border-radius: 5px;\\n        padding: 2px 5px;\\n        display: block;\\n        margin: 3px 2px;\\n    \\n    }\\n    .spark-nlp-display-entity-type{\\n        font-size: 14px;\\n        line-height: 24px;\\n        color: #ffffff;\\n        font-family: \\'Montserrat\\', sans-serif !important;\\n        \\n        text-transform: uppercase;\\n        \\n        font-weight: 500;\\n\\n        display: block;\\n        padding: 3px 5px;\\n    }\\n    \\n    .spark-nlp-display-entity-resolution{\\n        font-size: 14px;\\n        line-height: 24px;\\n        color: #ffffff;\\n        font-family: \\'Vistol Regular\\', sans-serif !important;\\n        \\n        text-transform: uppercase;\\n        \\n        font-weight: 500;\\n\\n        display: block;\\n        padding: 3px 5px;\\n    }\\n    \\n    .spark-nlp-display-others{\\n        font-size: 14px;\\n        line-height: 24px;\\n        font-family: \\'Montserrat\\', sans-serif !important;\\n        \\n        font-weight: 400;\\n    }\\n\\n</style>\\n <span class=\"spark-nlp-display-others\" style=\"background-color: white\"><br>The address of the manufacturer:<br></span><span class=\"spark-nlp-display-entity-wrapper\" style=\"background-color: #94AB8B\"><span class=\"spark-nlp-display-entity-name\">R K Industry House </span><span class=\"spark-nlp-display-entity-type\">LOCATION</span></span><span class=\"spark-nlp-display-others\" style=\"background-color: white\">, </span><span class=\"spark-nlp-display-entity-wrapper\" style=\"background-color: #94AB8B\"><span class=\"spark-nlp-display-entity-name\">Walbhat Rd </span><span class=\"spark-nlp-display-entity-type\">LOCATION</span></span><span class=\"spark-nlp-display-others\" style=\"background-color: white\"><br></span><span class=\"spark-nlp-display-entity-wrapper\" style=\"background-color: #94AB8B\"><span class=\"spark-nlp-display-entity-name\">Mumbai </span><span class=\"spark-nlp-display-entity-type\">LOCATION</span></span><span class=\"spark-nlp-display-others\" style=\"background-color: white\">, </span><span class=\"spark-nlp-display-entity-wrapper\" style=\"background-color: #94AB8B\"><span class=\"spark-nlp-display-entity-name\">Maharashtra </span><span class=\"spark-nlp-display-entity-type\">LOCATION</span></span><span class=\"spark-nlp-display-others\" style=\"background-color: white\">, </span><span class=\"spark-nlp-display-entity-wrapper\" style=\"background-color: #94AB8B\"><span class=\"spark-nlp-display-entity-name\">India </span><span class=\"spark-nlp-display-entity-type\">LOCATION</span></span><span class=\"spark-nlp-display-others\" style=\"background-color: white\"><br></span></div>'\n"
      ],
      "text/plain": [
       "<IPython.core.display.HTML object>"
      ]
     },
     "metadata": {},
     "output_type": "display_data"
    }
   ],
   "source": [
    "%%html\n",
    "'\\n<style>\\n    @import url(\\'https://fonts.googleapis.com/css2?family=Montserrat:wght@300;400;500;600;700&display=swap\\');\\n    @import url(\\'https://fonts.googleapis.com/css2?family=Vistol Regular:wght@300;400;500;600;700&display=swap\\');\\n    \\n    .spark-nlp-display-scroll-entities {\\n        border: 1px solid #E7EDF0;\\n        border-radius: 3px;\\n        text-align: justify;\\n        \\n    }\\n    .spark-nlp-display-scroll-entities span {  \\n        font-size: 14px;\\n        line-height: 24px;\\n        color: #536B76;\\n        font-family: \\'Montserrat\\', sans-serif !important;\\n    }\\n    \\n    .spark-nlp-display-entity-wrapper{\\n    \\n        display: inline-grid;\\n        text-align: center;\\n        border-radius: 4px;\\n        margin: 0 2px 5px 2px;\\n        padding: 1px\\n    }\\n    .spark-nlp-display-entity-name{\\n        font-size: 14px;\\n        line-height: 24px;\\n        font-family: \\'Montserrat\\', sans-serif !important;\\n        \\n        background: #f1f2f3;\\n        border-width: medium;\\n        text-align: center;\\n        \\n        font-weight: 400;\\n        \\n        border-radius: 5px;\\n        padding: 2px 5px;\\n        display: block;\\n        margin: 3px 2px;\\n    \\n    }\\n    .spark-nlp-display-entity-type{\\n        font-size: 14px;\\n        line-height: 24px;\\n        color: #ffffff;\\n        font-family: \\'Montserrat\\', sans-serif !important;\\n        \\n        text-transform: uppercase;\\n        \\n        font-weight: 500;\\n\\n        display: block;\\n        padding: 3px 5px;\\n    }\\n    \\n    .spark-nlp-display-entity-resolution{\\n        font-size: 14px;\\n        line-height: 24px;\\n        color: #ffffff;\\n        font-family: \\'Vistol Regular\\', sans-serif !important;\\n        \\n        text-transform: uppercase;\\n        \\n        font-weight: 500;\\n\\n        display: block;\\n        padding: 3px 5px;\\n    }\\n    \\n    .spark-nlp-display-others{\\n        font-size: 14px;\\n        line-height: 24px;\\n        font-family: \\'Montserrat\\', sans-serif !important;\\n        \\n        font-weight: 400;\\n    }\\n\\n</style>\\n <span class=\"spark-nlp-display-others\" style=\"background-color: white\"><br>The address of the manufacturer:<br></span><span class=\"spark-nlp-display-entity-wrapper\" style=\"background-color: #94AB8B\"><span class=\"spark-nlp-display-entity-name\">R K Industry House </span><span class=\"spark-nlp-display-entity-type\">LOCATION</span></span><span class=\"spark-nlp-display-others\" style=\"background-color: white\">, </span><span class=\"spark-nlp-display-entity-wrapper\" style=\"background-color: #94AB8B\"><span class=\"spark-nlp-display-entity-name\">Walbhat Rd </span><span class=\"spark-nlp-display-entity-type\">LOCATION</span></span><span class=\"spark-nlp-display-others\" style=\"background-color: white\"><br></span><span class=\"spark-nlp-display-entity-wrapper\" style=\"background-color: #94AB8B\"><span class=\"spark-nlp-display-entity-name\">Mumbai </span><span class=\"spark-nlp-display-entity-type\">LOCATION</span></span><span class=\"spark-nlp-display-others\" style=\"background-color: white\">, </span><span class=\"spark-nlp-display-entity-wrapper\" style=\"background-color: #94AB8B\"><span class=\"spark-nlp-display-entity-name\">Maharashtra </span><span class=\"spark-nlp-display-entity-type\">LOCATION</span></span><span class=\"spark-nlp-display-others\" style=\"background-color: white\">, </span><span class=\"spark-nlp-display-entity-wrapper\" style=\"background-color: #94AB8B\"><span class=\"spark-nlp-display-entity-name\">India </span><span class=\"spark-nlp-display-entity-type\">LOCATION</span></span><span class=\"spark-nlp-display-others\" style=\"background-color: white\"><br></span></div>'"
   ]
  },
  {
   "cell_type": "markdown",
   "metadata": {},
   "source": [
    "Now, let's define some characters and words with the `setIgnoreStopWords()` parameter and see the difference between the chunks."
   ]
  },
  {
   "cell_type": "code",
   "execution_count": null,
   "metadata": {},
   "outputs": [],
   "source": [
    "jsl_ner_converter_internal= medical.NerConverterInternal()\\\n",
    "        .setInputCols([\"sentence\", \"token\", \"ner_deid\"])\\\n",
    "        .setOutputCol(\"chunk_deid\")\\\n",
    "        .setGreedyMode(True)\\\n",
    "        .setWhiteList(['LOCATION'])\\\n",
    "        .setIgnoreStopWords(['\\n', ',', \"and\", 'or', '.'])\n",
    "\n",
    "nlpPipeline = nlp.Pipeline(stages=[\n",
    "    documentAssembler,\n",
    "    sentenceDetector,\n",
    "    tokenizer,\n",
    "    word_embeddings,\n",
    "    jsl_ner,\n",
    "    jsl_ner_converter_internal\n",
    "    ])\n",
    "\n",
    "empty_data = spark.createDataFrame([[\"\"]]).toDF(\"text\")\n",
    "ner_converter_model = nlpPipeline.fit(empty_data)"
   ]
  },
  {
   "cell_type": "code",
   "execution_count": null,
   "metadata": {},
   "outputs": [],
   "source": [
    "lmodel= nlp.LightPipeline(ner_converter_model)\n",
    "res = lmodel.fullAnnotate(text)[0]\n",
    "\n",
    "nlp.viz.NerVisualizer().display(res, 'chunk_deid')"
   ]
  },
  {
   "cell_type": "code",
   "execution_count": null,
   "metadata": {},
   "outputs": [],
   "source": [
    "# nlp.viz.NerVisualizer().display(res, 'chunk_deid', return_html = True)"
   ]
  },
  {
   "cell_type": "code",
   "execution_count": 69,
   "metadata": {
    "execution": {
     "iopub.execute_input": "2023-08-30T21:07:20.319435Z",
     "iopub.status.busy": "2023-08-30T21:07:20.319112Z",
     "iopub.status.idle": "2023-08-30T21:07:20.325881Z",
     "shell.execute_reply": "2023-08-30T21:07:20.325012Z",
     "shell.execute_reply.started": "2023-08-30T21:07:20.319401Z"
    },
    "tags": []
   },
   "outputs": [
    {
     "data": {
      "text/html": [
       "'\\n<style>\\n    @import url(\\'https://fonts.googleapis.com/css2?family=Montserrat:wght@300;400;500;600;700&display=swap\\');\\n    @import url(\\'https://fonts.googleapis.com/css2?family=Vistol Regular:wght@300;400;500;600;700&display=swap\\');\\n    \\n    .spark-nlp-display-scroll-entities {\\n        border: 1px solid #E7EDF0;\\n        border-radius: 3px;\\n        text-align: justify;\\n        \\n    }\\n    .spark-nlp-display-scroll-entities span {  \\n        font-size: 14px;\\n        line-height: 24px;\\n        color: #536B76;\\n        font-family: \\'Montserrat\\', sans-serif !important;\\n    }\\n    \\n    .spark-nlp-display-entity-wrapper{\\n    \\n        display: inline-grid;\\n        text-align: center;\\n        border-radius: 4px;\\n        margin: 0 2px 5px 2px;\\n        padding: 1px\\n    }\\n    .spark-nlp-display-entity-name{\\n        font-size: 14px;\\n        line-height: 24px;\\n        font-family: \\'Montserrat\\', sans-serif !important;\\n        \\n        background: #f1f2f3;\\n        border-width: medium;\\n        text-align: center;\\n        \\n        font-weight: 400;\\n        \\n        border-radius: 5px;\\n        padding: 2px 5px;\\n        display: block;\\n        margin: 3px 2px;\\n    \\n    }\\n    .spark-nlp-display-entity-type{\\n        font-size: 14px;\\n        line-height: 24px;\\n        color: #ffffff;\\n        font-family: \\'Montserrat\\', sans-serif !important;\\n        \\n        text-transform: uppercase;\\n        \\n        font-weight: 500;\\n\\n        display: block;\\n        padding: 3px 5px;\\n    }\\n    \\n    .spark-nlp-display-entity-resolution{\\n        font-size: 14px;\\n        line-height: 24px;\\n        color: #ffffff;\\n        font-family: \\'Vistol Regular\\', sans-serif !important;\\n        \\n        text-transform: uppercase;\\n        \\n        font-weight: 500;\\n\\n        display: block;\\n        padding: 3px 5px;\\n    }\\n    \\n    .spark-nlp-display-others{\\n        font-size: 14px;\\n        line-height: 24px;\\n        font-family: \\'Montserrat\\', sans-serif !important;\\n        \\n        font-weight: 400;\\n    }\\n\\n</style>\\n <span class=\"spark-nlp-display-others\" style=\"background-color: white\"><br>The address of the manufacturer:<br></span><span class=\"spark-nlp-display-entity-wrapper\" style=\"background-color: #1AAB77\"><span class=\"spark-nlp-display-entity-name\">R K Industry House, Walbhat Rd </span><span class=\"spark-nlp-display-entity-type\">LOCATION</span></span><span class=\"spark-nlp-display-others\" style=\"background-color: white\"><br></span><span class=\"spark-nlp-display-entity-wrapper\" style=\"background-color: #1AAB77\"><span class=\"spark-nlp-display-entity-name\">Mumbai, Maharashtra, India </span><span class=\"spark-nlp-display-entity-type\">LOCATION</span></span><span class=\"spark-nlp-display-others\" style=\"background-color: white\"><br></span></div>'\n"
      ],
      "text/plain": [
       "<IPython.core.display.HTML object>"
      ]
     },
     "metadata": {},
     "output_type": "display_data"
    }
   ],
   "source": [
    "%%html\n",
    "'\\n<style>\\n    @import url(\\'https://fonts.googleapis.com/css2?family=Montserrat:wght@300;400;500;600;700&display=swap\\');\\n    @import url(\\'https://fonts.googleapis.com/css2?family=Vistol Regular:wght@300;400;500;600;700&display=swap\\');\\n    \\n    .spark-nlp-display-scroll-entities {\\n        border: 1px solid #E7EDF0;\\n        border-radius: 3px;\\n        text-align: justify;\\n        \\n    }\\n    .spark-nlp-display-scroll-entities span {  \\n        font-size: 14px;\\n        line-height: 24px;\\n        color: #536B76;\\n        font-family: \\'Montserrat\\', sans-serif !important;\\n    }\\n    \\n    .spark-nlp-display-entity-wrapper{\\n    \\n        display: inline-grid;\\n        text-align: center;\\n        border-radius: 4px;\\n        margin: 0 2px 5px 2px;\\n        padding: 1px\\n    }\\n    .spark-nlp-display-entity-name{\\n        font-size: 14px;\\n        line-height: 24px;\\n        font-family: \\'Montserrat\\', sans-serif !important;\\n        \\n        background: #f1f2f3;\\n        border-width: medium;\\n        text-align: center;\\n        \\n        font-weight: 400;\\n        \\n        border-radius: 5px;\\n        padding: 2px 5px;\\n        display: block;\\n        margin: 3px 2px;\\n    \\n    }\\n    .spark-nlp-display-entity-type{\\n        font-size: 14px;\\n        line-height: 24px;\\n        color: #ffffff;\\n        font-family: \\'Montserrat\\', sans-serif !important;\\n        \\n        text-transform: uppercase;\\n        \\n        font-weight: 500;\\n\\n        display: block;\\n        padding: 3px 5px;\\n    }\\n    \\n    .spark-nlp-display-entity-resolution{\\n        font-size: 14px;\\n        line-height: 24px;\\n        color: #ffffff;\\n        font-family: \\'Vistol Regular\\', sans-serif !important;\\n        \\n        text-transform: uppercase;\\n        \\n        font-weight: 500;\\n\\n        display: block;\\n        padding: 3px 5px;\\n    }\\n    \\n    .spark-nlp-display-others{\\n        font-size: 14px;\\n        line-height: 24px;\\n        font-family: \\'Montserrat\\', sans-serif !important;\\n        \\n        font-weight: 400;\\n    }\\n\\n</style>\\n <span class=\"spark-nlp-display-others\" style=\"background-color: white\"><br>The address of the manufacturer:<br></span><span class=\"spark-nlp-display-entity-wrapper\" style=\"background-color: #1AAB77\"><span class=\"spark-nlp-display-entity-name\">R K Industry House, Walbhat Rd </span><span class=\"spark-nlp-display-entity-type\">LOCATION</span></span><span class=\"spark-nlp-display-others\" style=\"background-color: white\"><br></span><span class=\"spark-nlp-display-entity-wrapper\" style=\"background-color: #1AAB77\"><span class=\"spark-nlp-display-entity-name\">Mumbai, Maharashtra, India </span><span class=\"spark-nlp-display-entity-type\">LOCATION</span></span><span class=\"spark-nlp-display-others\" style=\"background-color: white\"><br></span></div>'"
   ]
  },
  {
   "cell_type": "markdown",
   "metadata": {},
   "source": [
    "## Downloading Pretrained Models\n",
    "\n",
    "- When we use `.pretrained` method, model is downloaded to  a folder named `cache_pretrained` automatically and it is loaded from this folder if you run it again.\n",
    "\n",
    "- In order to download the models manually to any folder, you can use `ResourceDownloader.downloadModelDirectly` from `sparknlp.pretrained` or AWS CLI (steps below). In this case you should use `.load()` method.\n",
    "\n",
    "  - Install AWS CLI to your local computer following the steps [here](https://docs.aws.amazon.com/cli/latest/userguide/install-cliv2-linux.html) for Linux and [here](https://docs.aws.amazon.com/cli/latest/userguide/install-cliv2-mac.html) for MacOS.\n",
    "\n",
    "  - Then configure your AWS credentials.\n",
    "\n",
    "  - Go to models hub and look for the model you need.\n",
    "\n",
    "  - Select the model you found and you will see the model card that shows all the details about that model.\n",
    "\n",
    "  - Hover the Download button on that page and you will see the download link from the S3 bucket.\n"
   ]
  },
  {
   "cell_type": "code",
   "execution_count": 5,
   "metadata": {
    "execution": {
     "iopub.execute_input": "2023-08-30T23:50:03.697708Z",
     "iopub.status.busy": "2023-08-30T23:50:03.697428Z",
     "iopub.status.idle": "2023-08-30T23:50:05.973803Z",
     "shell.execute_reply": "2023-08-30T23:50:05.973124Z",
     "shell.execute_reply.started": "2023-08-30T23:50:03.697676Z"
    },
    "tags": []
   },
   "outputs": [
    {
     "data": {
      "application/vnd.jupyter.widget-view+json": {
       "model_id": "b4b8de9c167e498da8ce52b0d73a8a80",
       "version_major": 2,
       "version_minor": 0
      },
      "text/plain": [
       "VBox()"
      ]
     },
     "metadata": {},
     "output_type": "display_data"
    },
    {
     "data": {
      "application/vnd.jupyter.widget-view+json": {
       "model_id": "",
       "version_major": 2,
       "version_minor": 0
      },
      "text/plain": [
       "FloatProgress(value=0.0, bar_style='info', description='Progress:', layout=Layout(height='25px', width='50%'),…"
      ]
     },
     "metadata": {},
     "output_type": "display_data"
    }
   ],
   "source": [
    "#The first argument is the path to the zip file and the second one is the folder.\n",
    "nlp.ResourceDownloader.downloadModelDirectly(\"clinical/models/ner_jsl_en_3.1.0_2.4_1624566960534.zip\", \"cache_pretrained\")\n",
    "\n",
    "#or you can use the classic AWS CLI\n",
    "# !aws s3 cp --region us-east-2 s3://auxdata.johnsnowlabs.com/clinical/models/ner_jsl_en_3.1.0_2.4_1624566960534.zip ."
   ]
  },
  {
   "cell_type": "markdown",
   "metadata": {},
   "source": [
    "## Training a Clinical NER (NCBI Disease Dataset)"
   ]
  },
  {
   "cell_type": "markdown",
   "metadata": {},
   "source": [
    "`CoNLL(includeDocId=True).readDataset(spark, \"conll_file.txt\")`  this methos can allow if you have doc_id information in the conll file, you can add this information to the dataframe as a column.\n",
    "\n",
    "```\n",
    "conll=\"\"\"-DOCSTART- -X- -1- O\n",
    "\n",
    "EU NNP B-NP B-ORG\n",
    "rejects VBZ B-VP O\n",
    "\n",
    "-DOCSTART- -X- 2 O\n",
    "\n",
    "Rare NNP B-NP O\n",
    "Hendrix NNP I-NP B-PER\n",
    "\n",
    "-DOCSTART- -X- -3-1- O\n",
    "\n",
    "China NNP B-NP B-LOC\n",
    "says VBZ B-VP O\n",
    "\n",
    "-DOCSTART-\n",
    "\n",
    "China NNP B-NP B-LOC\n",
    "says VBZ B-VP O\n",
    "\"\"\"\n",
    "```\n",
    "```\n",
    "with open('conll_file.txt', 'w') as f:\n",
    "    f.write(conll)\n",
    "\n",
    "data = CoNLL(includeDocId=True).readDataset(spark, \"conll_file.txt\")\n",
    "\n",
    "data.show()\n",
    "```\n",
    "\n",
    "\n",
    "\n",
    "```\n",
    "+------+--------------------+--------------------+--------------------+--------------------+--------------------+--------------------+\n",
    "|doc_id|                text|            document|            sentence|               token|                 pos|               label|\n",
    "+------+--------------------+--------------------+--------------------+--------------------+--------------------+--------------------+\n",
    "|     1|EU rejects German...|[{document, 0, 28...|[{document, 0, 47...|[{token, 0, 1, EU...|[{pos, 0, 1, NNP,...|[{named_entity, 0...|\n",
    "|     2|Rare Hendrix song...|[{document, 0, 97...|[{document, 0, 50...|[{token, 0, 3, Ra...|[{pos, 0, 3, NNP,...|[{named_entity, 0...|\n",
    "|   3-1|China says Taiwan...|[{document, 0, 13...|[{document, 0, 46...|[{token, 0, 4, Ch...|[{pos, 0, 4, NNP,...|[{named_entity, 0...|\n",
    "|     X|China says Taiwan...|[{document, 0, 13...|[{document, 0, 46...|[{token, 0, 4, Ch...|[{pos, 0, 4, NNP,...|[{named_entity, 0...|\n",
    "+------+--------------------+--------------------+--------------------+--------------------+--------------------+--------------------+\n",
    "```"
   ]
  },
  {
   "cell_type": "code",
   "execution_count": 24,
   "metadata": {
    "execution": {
     "iopub.execute_input": "2023-08-31T17:11:40.011873Z",
     "iopub.status.busy": "2023-08-31T17:11:40.011431Z",
     "iopub.status.idle": "2023-08-31T17:11:40.186550Z",
     "shell.execute_reply": "2023-08-31T17:11:40.185607Z",
     "shell.execute_reply.started": "2023-08-31T17:11:40.011835Z"
    },
    "tags": []
   },
   "outputs": [],
   "source": [
    "%%sh\n",
    "wget -q https://raw.githubusercontent.com/JohnSnowLabs/spark-nlp-workshop/master/tutorials/Certification_Trainings/Healthcare/data/NER_NCBIconlltrain.txt -O /tmp/NER_NCBIconlltrain.txt"
   ]
  },
  {
   "cell_type": "code",
   "execution_count": 25,
   "metadata": {
    "execution": {
     "iopub.execute_input": "2023-08-31T17:11:48.881597Z",
     "iopub.status.busy": "2023-08-31T17:11:48.881306Z",
     "iopub.status.idle": "2023-08-31T17:11:51.110371Z",
     "shell.execute_reply": "2023-08-31T17:11:51.109485Z",
     "shell.execute_reply.started": "2023-08-31T17:11:48.881559Z"
    },
    "tags": []
   },
   "outputs": [
    {
     "name": "stderr",
     "output_type": "stream",
     "text": [
      "SLF4J: Class path contains multiple SLF4J bindings.\n",
      "SLF4J: Found binding in [jar:file:/usr/lib/hadoop/lib/slf4j-log4j12-1.7.25.jar!/org/slf4j/impl/StaticLoggerBinder.class]\n",
      "SLF4J: Found binding in [jar:file:/usr/share/aws/emr/emrfs/lib/slf4j-log4j12-1.7.12.jar!/org/slf4j/impl/StaticLoggerBinder.class]\n",
      "SLF4J: See http://www.slf4j.org/codes.html#multiple_bindings for an explanation.\n",
      "SLF4J: Actual binding is of type [org.slf4j.impl.Log4jLoggerFactory]\n"
     ]
    }
   ],
   "source": [
    "%%sh\n",
    "hdfs dfs -copyFromLocal /tmp/NER_NCBIconlltrain.txt /user/hadoop/NER_NCBIconlltrain.txt"
   ]
  },
  {
   "cell_type": "code",
   "execution_count": 26,
   "metadata": {
    "execution": {
     "iopub.execute_input": "2023-08-31T17:11:51.112114Z",
     "iopub.status.busy": "2023-08-31T17:11:51.111880Z",
     "iopub.status.idle": "2023-08-31T17:11:51.277973Z",
     "shell.execute_reply": "2023-08-31T17:11:51.277110Z",
     "shell.execute_reply.started": "2023-08-31T17:11:51.112079Z"
    },
    "tags": []
   },
   "outputs": [],
   "source": [
    "%%sh\n",
    "wget -q https://raw.githubusercontent.com/JohnSnowLabs/spark-nlp-workshop/master/tutorials/Certification_Trainings/Healthcare/data/NER_NCBIconlltest.txt  -O /tmp/NER_NCBIconlltest.txt"
   ]
  },
  {
   "cell_type": "code",
   "execution_count": 27,
   "metadata": {
    "execution": {
     "iopub.execute_input": "2023-08-31T17:11:52.724856Z",
     "iopub.status.busy": "2023-08-31T17:11:52.724571Z",
     "iopub.status.idle": "2023-08-31T17:11:54.977938Z",
     "shell.execute_reply": "2023-08-31T17:11:54.977090Z",
     "shell.execute_reply.started": "2023-08-31T17:11:52.724818Z"
    },
    "tags": []
   },
   "outputs": [
    {
     "name": "stderr",
     "output_type": "stream",
     "text": [
      "SLF4J: Class path contains multiple SLF4J bindings.\n",
      "SLF4J: Found binding in [jar:file:/usr/lib/hadoop/lib/slf4j-log4j12-1.7.25.jar!/org/slf4j/impl/StaticLoggerBinder.class]\n",
      "SLF4J: Found binding in [jar:file:/usr/share/aws/emr/emrfs/lib/slf4j-log4j12-1.7.12.jar!/org/slf4j/impl/StaticLoggerBinder.class]\n",
      "SLF4J: See http://www.slf4j.org/codes.html#multiple_bindings for an explanation.\n",
      "SLF4J: Actual binding is of type [org.slf4j.impl.Log4jLoggerFactory]\n"
     ]
    }
   ],
   "source": [
    "%%sh\n",
    "hdfs dfs -copyFromLocal /tmp/NER_NCBIconlltest.txt /user/hadoop/NER_NCBIconlltest.txt"
   ]
  },
  {
   "cell_type": "code",
   "execution_count": 4,
   "metadata": {
    "execution": {
     "iopub.execute_input": "2023-09-01T01:16:53.168729Z",
     "iopub.status.busy": "2023-09-01T01:16:53.168466Z",
     "iopub.status.idle": "2023-09-01T01:16:55.205192Z",
     "shell.execute_reply": "2023-09-01T01:16:55.204296Z",
     "shell.execute_reply.started": "2023-09-01T01:16:53.168698Z"
    },
    "tags": []
   },
   "outputs": [
    {
     "name": "stdout",
     "output_type": "stream",
     "text": [
      "Found 4 items\n",
      "-rw-r--r--   1 emr-notebook hdfsadmingroup     244358 2023-08-31 17:11 /user/hadoop/NER_NCBIconlltest.txt\n",
      "-rw-r--r--   1 emr-notebook hdfsadmingroup    1091488 2023-08-31 17:11 /user/hadoop/NER_NCBIconlltrain.txt\n",
      "-rw-r--r--   1 emr-notebook hdfsadmingroup     123124 2023-09-01 00:55 /user/hadoop/i2b2_assertion_sample_short.csv\n",
      "-rw-r--r--   1 emr-notebook hdfsadmingroup    1796209 2023-08-31 17:07 /user/hadoop/tfgraphs\n"
     ]
    },
    {
     "name": "stderr",
     "output_type": "stream",
     "text": [
      "SLF4J: Class path contains multiple SLF4J bindings.\n",
      "SLF4J: Found binding in [jar:file:/usr/lib/hadoop/lib/slf4j-log4j12-1.7.25.jar!/org/slf4j/impl/StaticLoggerBinder.class]\n",
      "SLF4J: Found binding in [jar:file:/usr/share/aws/emr/emrfs/lib/slf4j-log4j12-1.7.12.jar!/org/slf4j/impl/StaticLoggerBinder.class]\n",
      "SLF4J: See http://www.slf4j.org/codes.html#multiple_bindings for an explanation.\n",
      "SLF4J: Actual binding is of type [org.slf4j.impl.Log4jLoggerFactory]\n"
     ]
    }
   ],
   "source": [
    "%%sh\n",
    "hdfs dfs -ls /user/hadoop"
   ]
  },
  {
   "cell_type": "code",
   "execution_count": 5,
   "metadata": {
    "execution": {
     "iopub.execute_input": "2023-09-01T01:17:08.911518Z",
     "iopub.status.busy": "2023-09-01T01:17:08.911252Z",
     "iopub.status.idle": "2023-09-01T01:17:20.231294Z",
     "shell.execute_reply": "2023-09-01T01:17:20.230444Z",
     "shell.execute_reply.started": "2023-09-01T01:17:08.911484Z"
    },
    "tags": []
   },
   "outputs": [
    {
     "data": {
      "application/vnd.jupyter.widget-view+json": {
       "model_id": "6e7ddababb8845f4b7b1d3d1a6dd7763",
       "version_major": 2,
       "version_minor": 0
      },
      "text/plain": [
       "VBox()"
      ]
     },
     "metadata": {},
     "output_type": "display_data"
    },
    {
     "data": {
      "application/vnd.jupyter.widget-view+json": {
       "model_id": "",
       "version_major": 2,
       "version_minor": 0
      },
      "text/plain": [
       "FloatProgress(value=0.0, bar_style='info', description='Progress:', layout=Layout(height='25px', width='50%'),…"
      ]
     },
     "metadata": {},
     "output_type": "display_data"
    },
    {
     "name": "stdout",
     "output_type": "stream",
     "text": [
      "+--------------------+--------------------+--------------------+--------------------+--------------------+--------------------+\n",
      "|                text|            document|            sentence|               token|                 pos|               label|\n",
      "+--------------------+--------------------+--------------------+--------------------+--------------------+--------------------+\n",
      "|Identification of...|[{document, 0, 89...|[{document, 0, 89...|[{token, 0, 13, I...|[{pos, 0, 13, NN,...|[{named_entity, 0...|\n",
      "|The adenomatous p...|[{document, 0, 21...|[{document, 0, 21...|[{token, 0, 2, Th...|[{pos, 0, 2, NN, ...|[{named_entity, 0...|\n",
      "|Complex formation...|[{document, 0, 63...|[{document, 0, 63...|[{token, 0, 6, Co...|[{pos, 0, 6, NN, ...|[{named_entity, 0...|\n",
      "+--------------------+--------------------+--------------------+--------------------+--------------------+--------------------+\n",
      "only showing top 3 rows"
     ]
    }
   ],
   "source": [
    "# conll_data = nlp.CoNLL().readDataset(spark, \"/user/hadoop/NER_NCBIconlltrain.txt\")   \n",
    "conll_data = nlp.CoNLL().readDataset(spark, \"s3://emr-data-jsl/NER_NCBIconlltrain.txt\")  \n",
    "conll_data.show(3)"
   ]
  },
  {
   "cell_type": "code",
   "execution_count": 6,
   "metadata": {
    "execution": {
     "iopub.execute_input": "2023-09-01T01:17:23.655066Z",
     "iopub.status.busy": "2023-09-01T01:17:23.654782Z",
     "iopub.status.idle": "2023-09-01T01:17:25.932580Z",
     "shell.execute_reply": "2023-09-01T01:17:25.931796Z",
     "shell.execute_reply.started": "2023-09-01T01:17:23.655034Z"
    },
    "tags": []
   },
   "outputs": [
    {
     "data": {
      "application/vnd.jupyter.widget-view+json": {
       "model_id": "b52c5c5711fd4a238246a96ec541d94a",
       "version_major": 2,
       "version_minor": 0
      },
      "text/plain": [
       "VBox()"
      ]
     },
     "metadata": {},
     "output_type": "display_data"
    },
    {
     "data": {
      "application/vnd.jupyter.widget-view+json": {
       "model_id": "",
       "version_major": 2,
       "version_minor": 0
      },
      "text/plain": [
       "FloatProgress(value=0.0, bar_style='info', description='Progress:', layout=Layout(height='25px', width='50%'),…"
      ]
     },
     "metadata": {},
     "output_type": "display_data"
    },
    {
     "name": "stdout",
     "output_type": "stream",
     "text": [
      "3266"
     ]
    }
   ],
   "source": [
    "conll_data.count()"
   ]
  },
  {
   "cell_type": "code",
   "execution_count": 23,
   "metadata": {
    "execution": {
     "iopub.execute_input": "2023-08-31T03:08:04.950007Z",
     "iopub.status.busy": "2023-08-31T03:08:04.949768Z",
     "iopub.status.idle": "2023-08-31T03:08:07.244085Z",
     "shell.execute_reply": "2023-08-31T03:08:07.243392Z",
     "shell.execute_reply.started": "2023-08-31T03:08:04.949976Z"
    },
    "tags": []
   },
   "outputs": [
    {
     "data": {
      "application/vnd.jupyter.widget-view+json": {
       "model_id": "1b79a748f30c48f1b4226fec7b0d5733",
       "version_major": 2,
       "version_minor": 0
      },
      "text/plain": [
       "VBox()"
      ]
     },
     "metadata": {},
     "output_type": "display_data"
    },
    {
     "data": {
      "application/vnd.jupyter.widget-view+json": {
       "model_id": "",
       "version_major": 2,
       "version_minor": 0
      },
      "text/plain": [
       "FloatProgress(value=0.0, bar_style='info', description='Progress:', layout=Layout(height='25px', width='50%'),…"
      ]
     },
     "metadata": {},
     "output_type": "display_data"
    },
    {
     "name": "stdout",
     "output_type": "stream",
     "text": [
      "+------------+-----+\n",
      "|ground_truth|count|\n",
      "+------------+-----+\n",
      "|O           |75093|\n",
      "|I-Disease   |3547 |\n",
      "|B-Disease   |3093 |\n",
      "+------------+-----+"
     ]
    }
   ],
   "source": [
    "\n",
    "conll_data.select(F.explode(F.arrays_zip(conll_data.token.result,\n",
    "                                         conll_data.label.result)).alias(\"cols\")) \\\n",
    "          .select(F.expr(\"cols['0']\").alias(\"token\"),\n",
    "                  F.expr(\"cols['1']\").alias(\"ground_truth\"))\\\n",
    "          .groupBy('ground_truth')\\\n",
    "          .count()\\\n",
    "          .orderBy('count', ascending=False)\\\n",
    "          .show(100,truncate=False)"
   ]
  },
  {
   "cell_type": "code",
   "execution_count": 24,
   "metadata": {
    "execution": {
     "iopub.execute_input": "2023-08-31T03:08:14.516612Z",
     "iopub.status.busy": "2023-08-31T03:08:14.516315Z",
     "iopub.status.idle": "2023-08-31T03:08:15.802673Z",
     "shell.execute_reply": "2023-08-31T03:08:15.801994Z",
     "shell.execute_reply.started": "2023-08-31T03:08:14.516582Z"
    },
    "tags": []
   },
   "outputs": [
    {
     "data": {
      "application/vnd.jupyter.widget-view+json": {
       "model_id": "d6cee990201b4b9a91ead2b7e4b2b9e8",
       "version_major": 2,
       "version_minor": 0
      },
      "text/plain": [
       "VBox()"
      ]
     },
     "metadata": {},
     "output_type": "display_data"
    },
    {
     "data": {
      "application/vnd.jupyter.widget-view+json": {
       "model_id": "",
       "version_major": 2,
       "version_minor": 0
      },
      "text/plain": [
       "FloatProgress(value=0.0, bar_style='info', description='Progress:', layout=Layout(height='25px', width='50%'),…"
      ]
     },
     "metadata": {},
     "output_type": "display_data"
    },
    {
     "name": "stdout",
     "output_type": "stream",
     "text": [
      "1537"
     ]
    }
   ],
   "source": [
    "conll_data.select(\"label.result\").distinct().count()"
   ]
  },
  {
   "cell_type": "code",
   "execution_count": null,
   "metadata": {
    "tags": []
   },
   "outputs": [],
   "source": [
    "'''\n",
    "As you can see, there are too many `O` labels in the dataset.\n",
    "To make it more balanced, we can drop the sentences have only O labels.\n",
    "(`c>1` means we drop all the sentences that have no valuable labels other than `O`)\n",
    "'''\n",
    "\n",
    "'''\n",
    "conll_data = conll_data.withColumn('unique', F.array_distinct(\"label.result\"))\\\n",
    "                       .withColumn('c', F.size('unique'))\\\n",
    "                       .filter(F.col('c')>1)\n",
    "\n",
    "conll_data.select(F.explode(F.arrays_zip(conll_data.token.result,conll_data.label.result)).alias(\"cols\")) \\\n",
    "          .select(F.expr(\"cols['0']\").alias(\"token\"),\n",
    "                  F.expr(\"cols['1']\").alias(\"ground_truth\"))\\\n",
    "          .groupBy('ground_truth')\\\n",
    "          .count()\\\n",
    "          .orderBy('count', ascending=False)\\\n",
    "          .show(100,truncate=False)\n",
    "'''"
   ]
  },
  {
   "cell_type": "code",
   "execution_count": 7,
   "metadata": {
    "execution": {
     "iopub.execute_input": "2023-09-01T01:17:32.786863Z",
     "iopub.status.busy": "2023-09-01T01:17:32.786590Z",
     "iopub.status.idle": "2023-09-01T01:17:54.128850Z",
     "shell.execute_reply": "2023-09-01T01:17:54.128093Z",
     "shell.execute_reply.started": "2023-09-01T01:17:32.786832Z"
    },
    "tags": []
   },
   "outputs": [
    {
     "data": {
      "application/vnd.jupyter.widget-view+json": {
       "model_id": "85e79d4143674b239c9eed80edf09a6b",
       "version_major": 2,
       "version_minor": 0
      },
      "text/plain": [
       "VBox()"
      ]
     },
     "metadata": {},
     "output_type": "display_data"
    },
    {
     "data": {
      "application/vnd.jupyter.widget-view+json": {
       "model_id": "",
       "version_major": 2,
       "version_minor": 0
      },
      "text/plain": [
       "FloatProgress(value=0.0, bar_style='info', description='Progress:', layout=Layout(height='25px', width='50%'),…"
      ]
     },
     "metadata": {},
     "output_type": "display_data"
    },
    {
     "name": "stdout",
     "output_type": "stream",
     "text": [
      "embeddings_clinical download started this may take some time.\n",
      "Approximate size to download 1.6 GB\n",
      "[OK!]"
     ]
    }
   ],
   "source": [
    "# Clinical word embeddings trained on PubMED dataset\n",
    "clinical_embeddings = nlp.WordEmbeddingsModel.pretrained('embeddings_clinical', \"en\", \"clinical/models\")\\\n",
    "    .setInputCols([\"sentence\", \"token\"])\\\n",
    "    .setOutputCol(\"embeddings\")"
   ]
  },
  {
   "cell_type": "code",
   "execution_count": 7,
   "metadata": {
    "execution": {
     "iopub.execute_input": "2023-08-31T17:15:16.024093Z",
     "iopub.status.busy": "2023-08-31T17:15:16.023868Z",
     "iopub.status.idle": "2023-08-31T17:15:16.796842Z",
     "shell.execute_reply": "2023-08-31T17:15:16.796128Z",
     "shell.execute_reply.started": "2023-08-31T17:15:16.024063Z"
    },
    "tags": []
   },
   "outputs": [
    {
     "data": {
      "application/vnd.jupyter.widget-view+json": {
       "model_id": "2bbad738705f4c1988da8fd4c88e34c8",
       "version_major": 2,
       "version_minor": 0
      },
      "text/plain": [
       "VBox()"
      ]
     },
     "metadata": {},
     "output_type": "display_data"
    },
    {
     "data": {
      "application/vnd.jupyter.widget-view+json": {
       "model_id": "",
       "version_major": 2,
       "version_minor": 0
      },
      "text/plain": [
       "FloatProgress(value=0.0, bar_style='info', description='Progress:', layout=Layout(height='25px', width='50%'),…"
      ]
     },
     "metadata": {},
     "output_type": "display_data"
    }
   ],
   "source": [
    "test_data = nlp.CoNLL().readDataset(spark, '/user/hadoop/NER_NCBIconlltest.txt')  \n",
    "# if you  have this dataset in S3, you can use it with below line\n",
    "# test_data = nlp.CoNLL().readDataset(spark, 's3://emr-data-jsl/NER_NCBIconlltest.txt')\n",
    "test_data = clinical_embeddings.transform(test_data)\n",
    "\n"
   ]
  },
  {
   "cell_type": "markdown",
   "metadata": {
    "tags": []
   },
   "source": [
    "### NERDL Graph\n"
   ]
  },
  {
   "cell_type": "markdown",
   "metadata": {},
   "source": [
    "We will use `TFGraphBuilder` annotator which can be used to create graphs in the model training pipeline. `TFGraphBuilder` inspects the data and creates the proper graph if a suitable version of TensorFlow is available. The graph is stored in the defined folder and loaded by the `MedicalNerApproach` annotator."
   ]
  },
  {
   "cell_type": "code",
   "execution_count": null,
   "metadata": {
    "tags": []
   },
   "outputs": [],
   "source": [
    "# !pip install -q tensorflow==2.11.0\n",
    "# !pip install -q tensorflow-addons"
   ]
  },
  {
   "cell_type": "code",
   "execution_count": null,
   "metadata": {},
   "outputs": [],
   "source": [
    "# TensorFlow graph file (`.pb` extension) can be produced for NER training externally.\n",
    "# If this method is used, graph folder should be added to MedicalNerApproach training\n",
    "# model as `.setGraphFolder(graph_folder_path)` .\n",
    "\n",
    "'''\n",
    "medical.tf_graph.print_model_params(\"ner_dl\")\n",
    "\n",
    "graph_folder_path = \"medical_ner_graphs\"\n",
    "\n",
    "medical.tf_graph.build(\"ner_dl\",\n",
    "               build_params={\"embeddings_dim\": 200,\n",
    "                             \"nchars\": 85,\n",
    "                             \"ntags\": 3,\n",
    "                             \"is_medical\": 1},\n",
    "               model_location=graph_folder_path,\n",
    "               model_filename=\"auto\")\n",
    "'''"
   ]
  },
  {
   "cell_type": "code",
   "execution_count": null,
   "metadata": {},
   "outputs": [],
   "source": [
    "# for open source users\n",
    "\n",
    "'''\n",
    "!wget -q https://raw.githubusercontent.com/JohnSnowLabs/spark-nlp-workshop/master/jupyter/training/english/dl-ner/nerdl-graph/create_graph.py\n",
    "!wget -q https://raw.githubusercontent.com/JohnSnowLabs/spark-nlp-workshop/master/jupyter/training/english/dl-ner/nerdl-graph/dataset_encoder.py\n",
    "!wget -q https://raw.githubusercontent.com/JohnSnowLabs/spark-nlp-workshop/master/jupyter/training/english/dl-ner/nerdl-graph/ner_model.py\n",
    "!wget -q https://raw.githubusercontent.com/JohnSnowLabs/spark-nlp-workshop/master/jupyter/training/english/dl-ner/nerdl-graph/ner_model_saver.py\n",
    "!wget -q https://raw.githubusercontent.com/JohnSnowLabs/spark-nlp-workshop/master/jupyter/training/english/dl-ner/nerdl-graph/sentence_grouper.py\n",
    "\n",
    "!pip -q install tensorflow==1.15.0\n",
    "\n",
    "import create_graph\n",
    "\n",
    "ntags = 3 # number of labels\n",
    "embeddings_dim = 200\n",
    "nchars =83\n",
    "\n",
    "create_graph.create_graph(ntags, embeddings_dim, nchars)\n",
    "'''"
   ]
  },
  {
   "cell_type": "markdown",
   "metadata": {},
   "source": [
    "We will use `setEarlyStoppingCriterion` and `setEarlyStoppingPatience` parameters to stop training if it doesn't improve any more. Also, these parameters will provide us to save time and resources.\n",
    "\n",
    "- `setEarlyStoppingCriterion(float)`: This parameter is used to set the minimal improvement of the test metric to terminate training. The metric monitored is the same which is used to save the best best model (macro F1 if using test or validation set, loss otherwise). If it is F1, then training is stopped if `F1_current - F1_previous < earlyStoppingCriterion`. If monitoring loss, then training is stopped if `loss_previous - loss_current < earlyStoppingCriterion`. If earlyStoppingCriterion is `0`, then no early stopping is applied. Default is `0`.\n",
    "\n",
    "- `setEarlyStoppingPatience(int)`: This is the number of epoch without improvement which will be tolerated. Default is `0`, which means that early stopping will occur at the first time when performance in the current epoch is no better than in the previous epoch (taking earlyStoppingCriterion into account)."
   ]
  },
  {
   "cell_type": "code",
   "execution_count": 27,
   "metadata": {
    "execution": {
     "iopub.execute_input": "2023-09-01T02:19:06.004190Z",
     "iopub.status.busy": "2023-09-01T02:19:06.003898Z",
     "iopub.status.idle": "2023-09-01T02:19:08.021834Z",
     "shell.execute_reply": "2023-09-01T02:19:08.020903Z",
     "shell.execute_reply.started": "2023-09-01T02:19:06.004154Z"
    },
    "tags": []
   },
   "outputs": [
    {
     "name": "stdout",
     "output_type": "stream",
     "text": [
      "Found 2 items\n",
      "drwxr-xr-x   - livy   hdfsadmingroup          0 2023-09-01 01:15 /tmp/livy/.sparkStaging\n",
      "drwxr-xr-x   - hadoop hdfsadmingroup          0 2023-09-01 02:13 /tmp/livy/tfgraphs\n"
     ]
    },
    {
     "name": "stderr",
     "output_type": "stream",
     "text": [
      "SLF4J: Class path contains multiple SLF4J bindings.\n",
      "SLF4J: Found binding in [jar:file:/usr/lib/hadoop/lib/slf4j-log4j12-1.7.25.jar!/org/slf4j/impl/StaticLoggerBinder.class]\n",
      "SLF4J: Found binding in [jar:file:/usr/share/aws/emr/emrfs/lib/slf4j-log4j12-1.7.12.jar!/org/slf4j/impl/StaticLoggerBinder.class]\n",
      "SLF4J: See http://www.slf4j.org/codes.html#multiple_bindings for an explanation.\n",
      "SLF4J: Actual binding is of type [org.slf4j.impl.Log4jLoggerFactory]\n"
     ]
    }
   ],
   "source": [
    "%%sh\n",
    "hdfs dfs -ls /tmp/livy/"
   ]
  },
  {
   "cell_type": "code",
   "execution_count": 28,
   "metadata": {
    "execution": {
     "iopub.execute_input": "2023-09-01T02:19:44.096332Z",
     "iopub.status.busy": "2023-09-01T02:19:44.096045Z",
     "iopub.status.idle": "2023-09-01T02:19:46.108750Z",
     "shell.execute_reply": "2023-09-01T02:19:46.107903Z",
     "shell.execute_reply.started": "2023-09-01T02:19:44.096296Z"
    },
    "tags": []
   },
   "outputs": [
    {
     "name": "stdout",
     "output_type": "stream",
     "text": [
      "Found 5 items\n",
      "drwxr-xr-x   - livy livy          0 2023-09-01 01:26 /user/livy/assertion_custom_model\n",
      "drwxr-xr-x   - livy livy          0 2023-09-01 00:54 /user/livy/cache_pretrained\n",
      "drwxr-xr-x   - livy livy          0 2023-09-01 01:03 /user/livy/i2b2_assertion_sample_test_data.parquet\n",
      "drwxr-xr-x   - livy livy          0 2023-09-01 01:59 /user/livy/tfgraphs\n",
      "drwxr-xr-x   - livy livy          0 2023-09-01 01:40 /user/livy/training_logs\n"
     ]
    },
    {
     "name": "stderr",
     "output_type": "stream",
     "text": [
      "SLF4J: Class path contains multiple SLF4J bindings.\n",
      "SLF4J: Found binding in [jar:file:/usr/lib/hadoop/lib/slf4j-log4j12-1.7.25.jar!/org/slf4j/impl/StaticLoggerBinder.class]\n",
      "SLF4J: Found binding in [jar:file:/usr/share/aws/emr/emrfs/lib/slf4j-log4j12-1.7.12.jar!/org/slf4j/impl/StaticLoggerBinder.class]\n",
      "SLF4J: See http://www.slf4j.org/codes.html#multiple_bindings for an explanation.\n",
      "SLF4J: Actual binding is of type [org.slf4j.impl.Log4jLoggerFactory]\n"
     ]
    }
   ],
   "source": [
    "%%sh\n",
    "hdfs dfs -ls /user/livy"
   ]
  },
  {
   "cell_type": "code",
   "execution_count": 29,
   "metadata": {
    "execution": {
     "iopub.execute_input": "2023-09-01T02:20:33.911517Z",
     "iopub.status.busy": "2023-09-01T02:20:33.911237Z",
     "iopub.status.idle": "2023-09-01T02:21:17.317190Z",
     "shell.execute_reply": "2023-09-01T02:21:17.316210Z",
     "shell.execute_reply.started": "2023-09-01T02:20:33.911483Z"
    },
    "tags": []
   },
   "outputs": [
    {
     "data": {
      "application/vnd.jupyter.widget-view+json": {
       "model_id": "263d8f00c4e448838e5073fec5b1275d",
       "version_major": 2,
       "version_minor": 0
      },
      "text/plain": [
       "VBox()"
      ]
     },
     "metadata": {},
     "output_type": "display_data"
    },
    {
     "data": {
      "application/vnd.jupyter.widget-view+json": {
       "model_id": "",
       "version_major": 2,
       "version_minor": 0
      },
      "text/plain": [
       "FloatProgress(value=0.0, bar_style='info', description='Progress:', layout=Layout(height='25px', width='50%'),…"
      ]
     },
     "metadata": {},
     "output_type": "display_data"
    },
    {
     "name": "stderr",
     "output_type": "stream",
     "text": [
      "An error was encountered:\n",
      "requirement failed: Graph dimensions should be 200: Could not find a suitable tensorflow graph for embeddings dim: 200 tags: 3 nChars: 85. Check https://nlp.johnsnowlabs.com/docs/en/graph for instructions to generate the required graph.\n",
      "Traceback (most recent call last):\n",
      "  File \"/usr/lib/spark/python/lib/pyspark.zip/pyspark/ml/base.py\", line 161, in fit\n",
      "    return self._fit(dataset)\n",
      "  File \"/usr/lib/spark/python/lib/pyspark.zip/pyspark/ml/pipeline.py\", line 114, in _fit\n",
      "    model = stage.fit(dataset)\n",
      "  File \"/usr/lib/spark/python/lib/pyspark.zip/pyspark/ml/base.py\", line 161, in fit\n",
      "    return self._fit(dataset)\n",
      "  File \"/usr/lib/spark/python/lib/pyspark.zip/pyspark/ml/wrapper.py\", line 335, in _fit\n",
      "    java_model = self._fit_java(dataset)\n",
      "  File \"/usr/lib/spark/python/lib/pyspark.zip/pyspark/ml/wrapper.py\", line 332, in _fit_java\n",
      "    return self._java_obj.fit(dataset._jdf)\n",
      "  File \"/usr/lib/spark/python/lib/py4j-0.10.9-src.zip/py4j/java_gateway.py\", line 1305, in __call__\n",
      "    answer, self.gateway_client, self.target_id, self.name)\n",
      "  File \"/usr/lib/spark/python/lib/pyspark.zip/pyspark/sql/utils.py\", line 117, in deco\n",
      "    raise converted from None\n",
      "pyspark.sql.utils.IllegalArgumentException: requirement failed: Graph dimensions should be 200: Could not find a suitable tensorflow graph for embeddings dim: 200 tags: 3 nChars: 85. Check https://nlp.johnsnowlabs.com/docs/en/graph for instructions to generate the required graph.\n",
      "\n"
     ]
    }
   ],
   "source": [
    "# graph_folder_path = \"s3://emr-data-jsl/tf_graphs/\" #error\n",
    "graph_folder_path = \"/tmp/livy/tfgraphs\" #error\n",
    "\n",
    "ner_graph_builder = medical.TFGraphBuilder()\\\n",
    "    .setModelName(\"ner_dl\")\\\n",
    "    .setInputCols([\"sentence\", \"token\", \"embeddings\"]) \\\n",
    "    .setLabelColumn(\"label\")\\\n",
    "    .setGraphFolder(graph_folder_path)\\\n",
    "    .setGraphFile(\"auto\")\\\n",
    "    .setHiddenUnitsNumber(20)\\\n",
    "    .setIsLicensed(True) # False -> if you want to use TFGraphBuilder with NerDLApproach\n",
    "\n",
    "log_folder = \"training_logs\"  \n",
    "\n",
    "nerTagger = medical.NerApproach()\\\n",
    "    .setInputCols([\"sentence\", \"token\", \"embeddings\"])\\\n",
    "    .setLabelColumn(\"label\")\\\n",
    "    .setOutputCol(\"ner\")\\\n",
    "    .setMaxEpochs(2)\\\n",
    "    .setBatchSize(4)\\\n",
    "    .setRandomSeed(0)\\\n",
    "    .setVerbose(1)\\\n",
    "    .setValidationSplit(0.2)\\\n",
    "    .setEvaluationLogExtended(True) \\\n",
    "    .setEnableOutputLogs(True)\\\n",
    "    .setIncludeConfidence(True)\\\n",
    "    .setOutputLogsPath(log_folder)\\\n",
    "    .setUseBestModel(True)\\\n",
    "    .setEarlyStoppingCriterion(0.04)\\\n",
    "    .setEarlyStoppingPatience(3)\\\n",
    "    .setGraphFolder(graph_folder_path)\n",
    "\n",
    "# .setTestDataset(\"/user/hadoop/NER_NCBIconlltest.parquet\")\\\n",
    "   # .setEnableMemoryOptimizer(True) #>> if you have a limited memory and a large conll file, you can set this True to train batch by batch\n",
    "\n",
    "ner_pipeline = nlp.Pipeline(stages=[\n",
    "        clinical_embeddings,\n",
    "        ner_graph_builder,\n",
    "        nerTagger\n",
    " ])\n",
    "ner_model = ner_pipeline.fit(conll_data)"
   ]
  },
  {
   "cell_type": "markdown",
   "metadata": {},
   "source": [
    "You can visit [1.4.Resume_MedicalNer_Model_Training.ipynb](https://github.com/JohnSnowLabs/spark-nlp-workshop/blob/master/tutorials/Certification_Trainings_JSL/Healthcare/1.4.Resume_MedicalNer_Model_Training.ipynb) notebook for fine-tuning pretrained NER models and more details of `MedicalNerApproach()` parameters."
   ]
  },
  {
   "cell_type": "code",
   "execution_count": 52,
   "metadata": {
    "execution": {
     "iopub.execute_input": "2023-08-31T00:18:16.353811Z",
     "iopub.status.busy": "2023-08-31T00:18:16.353595Z",
     "iopub.status.idle": "2023-08-31T00:18:16.403788Z",
     "shell.execute_reply": "2023-08-31T00:18:16.403115Z",
     "shell.execute_reply.started": "2023-08-31T00:18:16.353781Z"
    },
    "tags": []
   },
   "outputs": [
    {
     "data": {
      "application/vnd.jupyter.widget-view+json": {
       "model_id": "7a293db4f1984fae8452420bd1536c62",
       "version_major": 2,
       "version_minor": 0
      },
      "text/plain": [
       "VBox()"
      ]
     },
     "metadata": {},
     "output_type": "display_data"
    },
    {
     "data": {
      "application/vnd.jupyter.widget-view+json": {
       "model_id": "",
       "version_major": 2,
       "version_minor": 0
      },
      "text/plain": [
       "FloatProgress(value=0.0, bar_style='info', description='Progress:', layout=Layout(height='25px', width='50%'),…"
      ]
     },
     "metadata": {},
     "output_type": "display_data"
    }
   ],
   "source": [
    "# ner_model = ner_pipeline.fit(conll_data)"
   ]
  },
  {
   "cell_type": "markdown",
   "metadata": {},
   "source": [
    "If you get an error for incompatible TF graph, use [4.1 NerDL-Graph](https://github.com/JohnSnowLabs/spark-nlp-workshop/blob/master/tutorials/Certification_Trainings_JSL/Public/4.1_NerDL_Graph.ipynb) notebook in public folder to create a graph\n",
    "\n",
    "Licensed users can also use [17.Graph_builder_for_DL_models.ipynb](https://github.com/JohnSnowLabs/spark-nlp-workshop/blob/master/tutorials/Certification_Trainings_JSL/Healthcare/17.Graph_builder_for_DL_models.ipynb) to create TF graphs easily."
   ]
  },
  {
   "cell_type": "markdown",
   "metadata": {},
   "source": [
    "\n",
    "`getTrainingClassDistribution()` parameter returns the distribution of labels used when training the NER model."
   ]
  },
  {
   "cell_type": "code",
   "execution_count": null,
   "metadata": {
    "tags": []
   },
   "outputs": [],
   "source": [
    "ner_model.stages[2].getTrainingClassDistribution()"
   ]
  },
  {
   "cell_type": "markdown",
   "metadata": {},
   "source": [
    "Let's check the results saved in the log file."
   ]
  },
  {
   "cell_type": "code",
   "execution_count": null,
   "metadata": {
    "tags": []
   },
   "outputs": [],
   "source": [
    "import os\n",
    "log_file= os.listdir(\"ner_logs\")[0]\n",
    "\n",
    "with open (f\"./ner_logs/{log_file}\") as f:\n",
    "  print(f.read())"
   ]
  },
  {
   "cell_type": "markdown",
   "metadata": {},
   "source": [
    "As you see above, our **earlyStopping** feature worked, trainining was terminated before 30th epoch."
   ]
  },
  {
   "cell_type": "markdown",
   "metadata": {},
   "source": [
    "### Evaluate your model"
   ]
  },
  {
   "cell_type": "code",
   "execution_count": null,
   "metadata": {},
   "outputs": [],
   "source": [
    "pred_df = ner_model.stages[2].transform(test_data)"
   ]
  },
  {
   "cell_type": "code",
   "execution_count": null,
   "metadata": {},
   "outputs": [],
   "source": [
    "pred_df.columns"
   ]
  },
  {
   "cell_type": "code",
   "execution_count": null,
   "metadata": {},
   "outputs": [],
   "source": [
    "evaler = medical.NerDLMetrics(mode=\"full_chunk\")\n",
    "\n",
    "eval_result = evaler.computeMetricsFromDF(pred_df.select(\"label\",\"ner\"), prediction_col=\"ner\", label_col=\"label\", drop_o = True, case_sensitive = True).cache()\n",
    "\n",
    "eval_result.withColumn(\"precision\", F.round(eval_result[\"precision\"],4))\\\n",
    "           .withColumn(\"recall\", F.round(eval_result[\"recall\"],4))\\\n",
    "           .withColumn(\"f1\", F.round(eval_result[\"f1\"],4)).show(100)\n",
    "\n",
    "print(eval_result.selectExpr(\"avg(f1) as macro\").show())\n",
    "print (eval_result.selectExpr(\"sum(f1*total) as sumprod\",\"sum(total) as sumtotal\").selectExpr(\"sumprod/sumtotal as micro\").show())"
   ]
  },
  {
   "cell_type": "code",
   "execution_count": null,
   "metadata": {},
   "outputs": [],
   "source": [
    "evaler = medical.NerDLMetrics(mode=\"partial_chunk_per_token\")\n",
    "\n",
    "eval_result = evaler.computeMetricsFromDF(pred_df.select(\"label\",\"ner\"), prediction_col=\"ner\", label_col=\"label\", drop_o = True, case_sensitive = True).cache()\n",
    "\n",
    "eval_result.withColumn(\"precision\", F.round(eval_result[\"precision\"],4))\\\n",
    "           .withColumn(\"recall\", F.round(eval_result[\"recall\"],4))\\\n",
    "           .withColumn(\"f1\", F.round(eval_result[\"f1\"],4)).show(100)\n",
    "\n",
    "print(eval_result.selectExpr(\"avg(f1) as macro\").show())\n",
    "print (eval_result.selectExpr(\"sum(f1*total) as sumprod\",\"sum(total) as sumtotal\").selectExpr(\"sumprod/sumtotal as micro\").show())"
   ]
  },
  {
   "cell_type": "markdown",
   "metadata": {},
   "source": [
    "`ner_utils`: This new module is used after NER training to calculate mertic chunkbase and plot training logs.\n",
    "\n",
    "`evaluate`: if verbose, returns overall performance, as well as performance per chunk type; otherwise, simply returns overall precision, recall, f1 scores\n",
    "\n",
    "`loss_plot`: Plots the figure of loss vs epochs\n",
    "\n",
    "`get_charts` : Plots the figures of metrics ( precision, recall, f1) vs epochs\n",
    "\n",
    "```\n",
    "import sparknlp_jsl\n",
    "from sparknlp_jsl.training_log_parser import ner_log_parser\n",
    "parser = ner_log_parser()\n",
    "\n",
    "pred_df = ner_model.stages[2].transform(test_data)\n",
    "\n",
    "pred_df = pred_df.select(F.explode(F.arrays_zip(pred_df.ner.result,\n",
    "                                                pred_df.label.result)).alias(\"cols\"))\\\n",
    "                 .select(F.expr(\"cols['0']\").alias(\"prediction\"),\n",
    "                         F.expr(\"cols['1']\").alias(\"ground_truth\"))\n",
    "                 \n",
    "df = pred_df.toPandas()\n",
    "\n",
    "\n",
    "metrics = parser.evaluate( df['prediction'].values, df['ground_truth'].values)\n",
    "\n",
    "parser.loss_plot(f\"./ner_logs/{log_file}\")\n",
    "\n",
    "parser.get_charts('./ner_logs/'+log_file)\n",
    "```"
   ]
  },
  {
   "cell_type": "code",
   "execution_count": null,
   "metadata": {},
   "outputs": [],
   "source": [
    "ner_model.stages[2].write().overwrite().save('models/custom_NER_model')"
   ]
  },
  {
   "cell_type": "code",
   "execution_count": null,
   "metadata": {
    "tags": []
   },
   "outputs": [],
   "source": [
    "document = nlp.DocumentAssembler()\\\n",
    "    .setInputCol(\"text\")\\\n",
    "    .setOutputCol(\"document\")\n",
    "\n",
    "sentence = nlp.SentenceDetector()\\\n",
    "    .setInputCols(['document'])\\\n",
    "    .setOutputCol('sentence')\n",
    "\n",
    "token = nlp.Tokenizer()\\\n",
    "    .setInputCols(['sentence'])\\\n",
    "    .setOutputCol('token')\n",
    "\n",
    "loaded_ner_model = medical.NerModel.load(\"models/custom_NER_model\")\\\n",
    "    .setInputCols([\"sentence\", \"token\", \"embeddings\"])\\\n",
    "    .setOutputCol(\"ner\")\n",
    "\n",
    "converter = medical.NerConverterInternal()\\\n",
    "    .setInputCols([\"document\", \"token\", \"ner\"])\\\n",
    "    .setOutputCol(\"ner_span\")\n",
    "\n",
    "ner_prediction_pipeline = nlp.Pipeline(stages=[\n",
    "    document,\n",
    "    sentence,\n",
    "    token,\n",
    "    clinical_embeddings,\n",
    "    loaded_ner_model,\n",
    "    converter])\n",
    "\n",
    "empty_data = spark.createDataFrame([['']]).toDF(\"text\")\n",
    "\n",
    "prediction_model = ner_prediction_pipeline.fit(empty_data)\n",
    "\n",
    "\n",
    "light_model = nlp.LightPipeline(prediction_model)"
   ]
  },
  {
   "cell_type": "code",
   "execution_count": null,
   "metadata": {},
   "outputs": [],
   "source": [
    "text = \"She has a metastatic breast cancer\"\n",
    "\n",
    "result = light_model.fullAnnotate(text)[0]\n",
    "\n",
    "[(i.result, i.metadata['entity']) for i in result['ner_span']]"
   ]
  },
  {
   "cell_type": "markdown",
   "metadata": {},
   "source": [
    "## BertForTokenClassification NER models"
   ]
  },
  {
   "cell_type": "code",
   "execution_count": null,
   "metadata": {
    "tags": []
   },
   "outputs": [],
   "source": [
    "documentAssembler = nlp.DocumentAssembler()\\\n",
    "    .setInputCol(\"text\")\\\n",
    "    .setOutputCol(\"document\")\n",
    "\n",
    "sentenceDetector = nlp.SentenceDetectorDLModel.pretrained(\"sentence_detector_dl_healthcare\",\"en\",\"clinical/models\")\\\n",
    "    .setInputCols([\"document\"])\\\n",
    "    .setOutputCol(\"sentence\")\n",
    "\n",
    "tokenizer = nlp.Tokenizer()\\\n",
    "    .setInputCols(\"sentence\")\\\n",
    "    .setOutputCol(\"token\")\n",
    "\n",
    "tokenClassifier = medical.BertForTokenClassification.pretrained(\"bert_token_classifier_ner_clinical\", \"en\", \"clinical/models\")\\\n",
    "    .setInputCols(\"token\", \"sentence\")\\\n",
    "    .setOutputCol(\"ner\")\\\n",
    "    .setCaseSensitive(True)\n",
    "\n",
    "ner_converter = medical.NerConverterInternal()\\\n",
    "    .setInputCols([\"sentence\",\"token\",\"ner\"])\\\n",
    "    .setOutputCol(\"ner_chunk\")\n",
    "\n",
    "pipeline =  nlp.Pipeline(stages=[\n",
    "    documentAssembler,\n",
    "    sentenceDetector,\n",
    "    tokenizer,\n",
    "    tokenClassifier,\n",
    "    ner_converter\n",
    "    ])\n",
    "\n",
    "model = pipeline.fit(spark.createDataFrame([[\"\"]]).toDF(\"text\"))\n",
    "\n",
    "text = \"\"\"A 28-year-old female with a history of gestational diabetes mellitus diagnosed eight years prior to presentation and subsequent type two diabetes mellitus ( T2DM ), one prior episode of HTG-induced pancreatitis three years prior to presentation , associated with an acute hepatitis , and obesity with a body mass index ( BMI ) of 33.5 kg/m2 , presented with a one-week history of polyuria , polydipsia , poor appetite , and vomiting .\n",
    "Two weeks prior to presentation , she was treated with a five-day course of amoxicillin for a respiratory tract infection .\n",
    "She was on metformin , glipizide , and dapagliflozin for T2DM and atorvastatin and gemfibrozil for HTG . She had been on dapagliflozin for six months at the time of presentation .\n",
    "Physical examination on presentation was significant for dry oral mucosa ; significantly , her abdominal examination was benign with no tenderness , guarding , or rigidity .\n",
    "Pertinent laboratory findings on admission were : serum glucose 111 mg/dl , bicarbonate 18 mmol/l , anion gap 20 , creatinine 0.4 mg/dL , triglycerides 508 mg/dL , total cholesterol 122 mg/dL , glycated hemoglobin ( HbA1c ) 10% , and venous pH 7.27 .\n",
    "Serum lipase was normal at 43 U/L . Serum acetone levels could not be assessed as blood samples kept hemolyzing due to significant lipemia .\n",
    "The patient was initially admitted for starvation ketosis , as she reported poor oral intake for three days prior to admission .\n",
    "However , serum chemistry obtained six hours after presentation revealed her glucose was 186 mg/dL , the anion gap was still elevated at 21 , serum bicarbonate was 16 mmol/L , triglyceride level peaked at 2050 mg/dL , and lipase was 52 U/L .\n",
    "The β-hydroxybutyrate level was obtained and found to be elevated at 5.29 mmol/L - the original sample was centrifuged and the chylomicron layer removed prior to analysis due to interference from turbidity caused by lipemia again .\n",
    "The patient was treated with an insulin drip for euDKA and HTG with a reduction in the anion gap to 13 and triglycerides to 1400 mg/dL , within 24 hours .\n",
    "Her euDKA was thought to be precipitated by her respiratory tract infection in the setting of SGLT2 inhibitor use .\n",
    "The patient was seen by the endocrinology service and she was discharged on 40 units of insulin glargine at night , 12 units of insulin lispro with meals , and metformin 1000 mg two times a day .\n",
    "It was determined that all SGLT2 inhibitors should be discontinued indefinitely . She had close follow-up with endocrinology post discharge .\"\"\"\n",
    "\n",
    "res = model.transform(spark.createDataFrame([[text]]).toDF(\"text\"))"
   ]
  },
  {
   "cell_type": "code",
   "execution_count": null,
   "metadata": {
    "tags": []
   },
   "outputs": [],
   "source": [
    "res.select(F.explode(F.arrays_zip(res.ner_chunk.result, res.ner_chunk.begin, res.ner_chunk.end, res.ner_chunk.metadata)).alias(\"cols\")) \\\n",
    "   .select(F.expr(\"cols['3']['sentence']\").alias(\"sentence_id\"),\n",
    "           F.expr(\"cols['0']\").alias(\"chunk\"),\n",
    "           F.expr(\"cols['2']\").alias(\"end\"),\n",
    "           F.expr(\"cols['3']['entity']\").alias(\"ner_label\"))\\\n",
    "   .filter(\"ner_label!='O'\")\\\n",
    "   .show(truncate=False)"
   ]
  },
  {
   "cell_type": "code",
   "execution_count": null,
   "metadata": {
    "tags": []
   },
   "outputs": [],
   "source": [
    "light_model = nlp.LightPipeline(model)\n",
    "\n",
    "light_result = light_model.fullAnnotate(text)\n",
    "\n",
    "\n",
    "visualiser = nlp.viz.NerVisualizer()\n",
    "\n",
    "# visualiser.display(light_result[0], label_col='ner_chunk', document_col='document', save_path=\"display_bert_result.html\")\n",
    "# visualiser.display(light_result[0], label_col='ner_chunk', document_col='document', return_html = True)"
   ]
  },
  {
   "cell_type": "code",
   "execution_count": null,
   "metadata": {
    "tags": []
   },
   "outputs": [],
   "source": [
    "%%html\n",
    "'\\n<style>\\n    @import url(\\'https://fonts.googleapis.com/css2?family=Montserrat:wght@300;400;500;600;700&display=swap\\');\\n    @import url(\\'https://fonts.googleapis.com/css2?family=Vistol Regular:wght@300;400;500;600;700&display=swap\\');\\n    \\n    .spark-nlp-display-scroll-entities {\\n        border: 1px solid #E7EDF0;\\n        border-radius: 3px;\\n        text-align: justify;\\n        \\n    }\\n    .spark-nlp-display-scroll-entities span {  \\n        font-size: 14px;\\n        line-height: 24px;\\n        color: #536B76;\\n        font-family: \\'Montserrat\\', sans-serif !important;\\n    }\\n    \\n    .spark-nlp-display-entity-wrapper{\\n    \\n        display: inline-grid;\\n        text-align: center;\\n        border-radius: 4px;\\n        margin: 0 2px 5px 2px;\\n        padding: 1px\\n    }\\n    .spark-nlp-display-entity-name{\\n        font-size: 14px;\\n        line-height: 24px;\\n        font-family: \\'Montserrat\\', sans-serif !important;\\n        \\n        background: #f1f2f3;\\n        border-width: medium;\\n        text-align: center;\\n        \\n        font-weight: 400;\\n        \\n        border-radius: 5px;\\n        padding: 2px 5px;\\n        display: block;\\n        margin: 3px 2px;\\n    \\n    }\\n    .spark-nlp-display-entity-type{\\n        font-size: 14px;\\n        line-height: 24px;\\n        color: #ffffff;\\n        font-family: \\'Montserrat\\', sans-serif !important;\\n        \\n        text-transform: uppercase;\\n        \\n        font-weight: 500;\\n\\n        display: block;\\n        padding: 3px 5px;\\n    }\\n    \\n    .spark-nlp-display-entity-resolution{\\n        font-size: 14px;\\n        line-height: 24px;\\n        color: #ffffff;\\n        font-family: \\'Vistol Regular\\', sans-serif !important;\\n        \\n        text-transform: uppercase;\\n        \\n        font-weight: 500;\\n\\n        display: block;\\n        padding: 3px 5px;\\n    }\\n    \\n    .spark-nlp-display-others{\\n        font-size: 14px;\\n        line-height: 24px;\\n        font-family: \\'Montserrat\\', sans-serif !important;\\n        \\n        font-weight: 400;\\n    }\\n\\n</style>\\n <span class=\"spark-nlp-display-others\" style=\"background-color: white\">A 28-year-old female with a history of </span><span class=\"spark-nlp-display-entity-wrapper\" style=\"background-color: #800080\"><span class=\"spark-nlp-display-entity-name\">gestational diabetes mellitus </span><span class=\"spark-nlp-display-entity-type\">PROBLEM</span></span><span class=\"spark-nlp-display-others\" style=\"background-color: white\"> diagnosed eight years prior to presentation and subsequent </span><span class=\"spark-nlp-display-entity-wrapper\" style=\"background-color: #800080\"><span class=\"spark-nlp-display-entity-name\">type two diabetes mellitus </span><span class=\"spark-nlp-display-entity-type\">PROBLEM</span></span><span class=\"spark-nlp-display-others\" style=\"background-color: white\"> ( </span><span class=\"spark-nlp-display-entity-wrapper\" style=\"background-color: #800080\"><span class=\"spark-nlp-display-entity-name\">T2DM </span><span class=\"spark-nlp-display-entity-type\">PROBLEM</span></span><span class=\"spark-nlp-display-others\" style=\"background-color: white\"> ), one prior episode of </span><span class=\"spark-nlp-display-entity-wrapper\" style=\"background-color: #800080\"><span class=\"spark-nlp-display-entity-name\">HTG-induced pancreatitis </span><span class=\"spark-nlp-display-entity-type\">PROBLEM</span></span><span class=\"spark-nlp-display-others\" style=\"background-color: white\"> three years prior to presentation , associated with </span><span class=\"spark-nlp-display-entity-wrapper\" style=\"background-color: #800080\"><span class=\"spark-nlp-display-entity-name\">an acute hepatitis </span><span class=\"spark-nlp-display-entity-type\">PROBLEM</span></span><span class=\"spark-nlp-display-others\" style=\"background-color: white\"> , and </span><span class=\"spark-nlp-display-entity-wrapper\" style=\"background-color: #800080\"><span class=\"spark-nlp-display-entity-name\">obesity </span><span class=\"spark-nlp-display-entity-type\">PROBLEM</span></span><span class=\"spark-nlp-display-others\" style=\"background-color: white\"> with </span><span class=\"spark-nlp-display-entity-wrapper\" style=\"background-color: #77b5fe\"><span class=\"spark-nlp-display-entity-name\">a body mass index </span><span class=\"spark-nlp-display-entity-type\">TEST</span></span><span class=\"spark-nlp-display-others\" style=\"background-color: white\"> ( </span><span class=\"spark-nlp-display-entity-wrapper\" style=\"background-color: #77b5fe\"><span class=\"spark-nlp-display-entity-name\">BMI </span><span class=\"spark-nlp-display-entity-type\">TEST</span></span><span class=\"spark-nlp-display-others\" style=\"background-color: white\"> ) of 33.5 kg/m2 , presented with a one-week history of </span><span class=\"spark-nlp-display-entity-wrapper\" style=\"background-color: #800080\"><span class=\"spark-nlp-display-entity-name\">polyuria </span><span class=\"spark-nlp-display-entity-type\">PROBLEM</span></span><span class=\"spark-nlp-display-others\" style=\"background-color: white\"> , </span><span class=\"spark-nlp-display-entity-wrapper\" style=\"background-color: #800080\"><span class=\"spark-nlp-display-entity-name\">polydipsia </span><span class=\"spark-nlp-display-entity-type\">PROBLEM</span></span><span class=\"spark-nlp-display-others\" style=\"background-color: white\"> , </span><span class=\"spark-nlp-display-entity-wrapper\" style=\"background-color: #800080\"><span class=\"spark-nlp-display-entity-name\">poor appetite </span><span class=\"spark-nlp-display-entity-type\">PROBLEM</span></span><span class=\"spark-nlp-display-others\" style=\"background-color: white\"> , and </span><span class=\"spark-nlp-display-entity-wrapper\" style=\"background-color: #800080\"><span class=\"spark-nlp-display-entity-name\">vomiting </span><span class=\"spark-nlp-display-entity-type\">PROBLEM</span></span><span class=\"spark-nlp-display-others\" style=\"background-color: white\"> .<br>Two weeks prior to presentation , she was treated with a five-day course of </span><span class=\"spark-nlp-display-entity-wrapper\" style=\"background-color: #8b6673\"><span class=\"spark-nlp-display-entity-name\">amoxicillin </span><span class=\"spark-nlp-display-entity-type\">TREATMENT</span></span><span class=\"spark-nlp-display-others\" style=\"background-color: white\"> for </span><span class=\"spark-nlp-display-entity-wrapper\" style=\"background-color: #800080\"><span class=\"spark-nlp-display-entity-name\">a respiratory tract infection </span><span class=\"spark-nlp-display-entity-type\">PROBLEM</span></span><span class=\"spark-nlp-display-others\" style=\"background-color: white\"> .<br>She was on </span><span class=\"spark-nlp-display-entity-wrapper\" style=\"background-color: #8b6673\"><span class=\"spark-nlp-display-entity-name\">metformin </span><span class=\"spark-nlp-display-entity-type\">TREATMENT</span></span><span class=\"spark-nlp-display-others\" style=\"background-color: white\"> , </span><span class=\"spark-nlp-display-entity-wrapper\" style=\"background-color: #8b6673\"><span class=\"spark-nlp-display-entity-name\">glipizide </span><span class=\"spark-nlp-display-entity-type\">TREATMENT</span></span><span class=\"spark-nlp-display-others\" style=\"background-color: white\"> , and </span><span class=\"spark-nlp-display-entity-wrapper\" style=\"background-color: #8b6673\"><span class=\"spark-nlp-display-entity-name\">dapagliflozin </span><span class=\"spark-nlp-display-entity-type\">TREATMENT</span></span><span class=\"spark-nlp-display-others\" style=\"background-color: white\"> for </span><span class=\"spark-nlp-display-entity-wrapper\" style=\"background-color: #800080\"><span class=\"spark-nlp-display-entity-name\">T2DM </span><span class=\"spark-nlp-display-entity-type\">PROBLEM</span></span><span class=\"spark-nlp-display-others\" style=\"background-color: white\"> and </span><span class=\"spark-nlp-display-entity-wrapper\" style=\"background-color: #8b6673\"><span class=\"spark-nlp-display-entity-name\">atorvastatin </span><span class=\"spark-nlp-display-entity-type\">TREATMENT</span></span><span class=\"spark-nlp-display-others\" style=\"background-color: white\"> and </span><span class=\"spark-nlp-display-entity-wrapper\" style=\"background-color: #8b6673\"><span class=\"spark-nlp-display-entity-name\">gemfibrozil </span><span class=\"spark-nlp-display-entity-type\">TREATMENT</span></span><span class=\"spark-nlp-display-others\" style=\"background-color: white\"> for </span><span class=\"spark-nlp-display-entity-wrapper\" style=\"background-color: #800080\"><span class=\"spark-nlp-display-entity-name\">HTG </span><span class=\"spark-nlp-display-entity-type\">PROBLEM</span></span><span class=\"spark-nlp-display-others\" style=\"background-color: white\"> . She had been on </span><span class=\"spark-nlp-display-entity-wrapper\" style=\"background-color: #8b6673\"><span class=\"spark-nlp-display-entity-name\">dapagliflozin </span><span class=\"spark-nlp-display-entity-type\">TREATMENT</span></span><span class=\"spark-nlp-display-others\" style=\"background-color: white\"> for six months at the time of presentation .<br></span><span class=\"spark-nlp-display-entity-wrapper\" style=\"background-color: #77b5fe\"><span class=\"spark-nlp-display-entity-name\">Physical examination </span><span class=\"spark-nlp-display-entity-type\">TEST</span></span><span class=\"spark-nlp-display-others\" style=\"background-color: white\"> on presentation was significant for </span><span class=\"spark-nlp-display-entity-wrapper\" style=\"background-color: #800080\"><span class=\"spark-nlp-display-entity-name\">dry oral mucosa </span><span class=\"spark-nlp-display-entity-type\">PROBLEM</span></span><span class=\"spark-nlp-display-others\" style=\"background-color: white\"> ; significantly , </span><span class=\"spark-nlp-display-entity-wrapper\" style=\"background-color: #77b5fe\"><span class=\"spark-nlp-display-entity-name\">her abdominal examination </span><span class=\"spark-nlp-display-entity-type\">TEST</span></span><span class=\"spark-nlp-display-others\" style=\"background-color: white\"> was benign with no </span><span class=\"spark-nlp-display-entity-wrapper\" style=\"background-color: #800080\"><span class=\"spark-nlp-display-entity-name\">tenderness </span><span class=\"spark-nlp-display-entity-type\">PROBLEM</span></span><span class=\"spark-nlp-display-others\" style=\"background-color: white\"> , </span><span class=\"spark-nlp-display-entity-wrapper\" style=\"background-color: #800080\"><span class=\"spark-nlp-display-entity-name\">guarding </span><span class=\"spark-nlp-display-entity-type\">PROBLEM</span></span><span class=\"spark-nlp-display-others\" style=\"background-color: white\"> , or </span><span class=\"spark-nlp-display-entity-wrapper\" style=\"background-color: #800080\"><span class=\"spark-nlp-display-entity-name\">rigidity </span><span class=\"spark-nlp-display-entity-type\">PROBLEM</span></span><span class=\"spark-nlp-display-others\" style=\"background-color: white\"> .<br>Pertinent laboratory findings on admission were : </span><span class=\"spark-nlp-display-entity-wrapper\" style=\"background-color: #77b5fe\"><span class=\"spark-nlp-display-entity-name\">serum glucose </span><span class=\"spark-nlp-display-entity-type\">TEST</span></span><span class=\"spark-nlp-display-others\" style=\"background-color: white\"> 111 mg/dl , </span><span class=\"spark-nlp-display-entity-wrapper\" style=\"background-color: #77b5fe\"><span class=\"spark-nlp-display-entity-name\">bicarbonate </span><span class=\"spark-nlp-display-entity-type\">TEST</span></span><span class=\"spark-nlp-display-others\" style=\"background-color: white\"> 18 mmol/l , </span><span class=\"spark-nlp-display-entity-wrapper\" style=\"background-color: #77b5fe\"><span class=\"spark-nlp-display-entity-name\">anion gap </span><span class=\"spark-nlp-display-entity-type\">TEST</span></span><span class=\"spark-nlp-display-others\" style=\"background-color: white\"> 20 , </span><span class=\"spark-nlp-display-entity-wrapper\" style=\"background-color: #77b5fe\"><span class=\"spark-nlp-display-entity-name\">creatinine </span><span class=\"spark-nlp-display-entity-type\">TEST</span></span><span class=\"spark-nlp-display-others\" style=\"background-color: white\"> 0.4 mg/dL , </span><span class=\"spark-nlp-display-entity-wrapper\" style=\"background-color: #77b5fe\"><span class=\"spark-nlp-display-entity-name\">triglycerides </span><span class=\"spark-nlp-display-entity-type\">TEST</span></span><span class=\"spark-nlp-display-others\" style=\"background-color: white\"> 508 mg/dL , </span><span class=\"spark-nlp-display-entity-wrapper\" style=\"background-color: #77b5fe\"><span class=\"spark-nlp-display-entity-name\">total cholesterol </span><span class=\"spark-nlp-display-entity-type\">TEST</span></span><span class=\"spark-nlp-display-others\" style=\"background-color: white\"> 122 mg/dL , </span><span class=\"spark-nlp-display-entity-wrapper\" style=\"background-color: #77b5fe\"><span class=\"spark-nlp-display-entity-name\">glycated hemoglobin ( </span><span class=\"spark-nlp-display-entity-type\">TEST</span></span><span class=\"spark-nlp-display-others\" style=\"background-color: white\"> </span><span class=\"spark-nlp-display-entity-wrapper\" style=\"background-color: #77b5fe\"><span class=\"spark-nlp-display-entity-name\">HbA1c </span><span class=\"spark-nlp-display-entity-type\">TEST</span></span><span class=\"spark-nlp-display-others\" style=\"background-color: white\"> </span><span class=\"spark-nlp-display-entity-wrapper\" style=\"background-color: #77b5fe\"><span class=\"spark-nlp-display-entity-name\">) </span><span class=\"spark-nlp-display-entity-type\">TEST</span></span><span class=\"spark-nlp-display-others\" style=\"background-color: white\"> 10% , and </span><span class=\"spark-nlp-display-entity-wrapper\" style=\"background-color: #77b5fe\"><span class=\"spark-nlp-display-entity-name\">venous pH </span><span class=\"spark-nlp-display-entity-type\">TEST</span></span><span class=\"spark-nlp-display-others\" style=\"background-color: white\"> 7.27 .<br></span><span class=\"spark-nlp-display-entity-wrapper\" style=\"background-color: #77b5fe\"><span class=\"spark-nlp-display-entity-name\">Serum lipase </span><span class=\"spark-nlp-display-entity-type\">TEST</span></span><span class=\"spark-nlp-display-others\" style=\"background-color: white\"> was normal at 43 U/L . </span><span class=\"spark-nlp-display-entity-wrapper\" style=\"background-color: #77b5fe\"><span class=\"spark-nlp-display-entity-name\">Serum acetone levels </span><span class=\"spark-nlp-display-entity-type\">TEST</span></span><span class=\"spark-nlp-display-others\" style=\"background-color: white\"> could not be assessed as </span><span class=\"spark-nlp-display-entity-wrapper\" style=\"background-color: #77b5fe\"><span class=\"spark-nlp-display-entity-name\">blood samples </span><span class=\"spark-nlp-display-entity-type\">TEST</span></span><span class=\"spark-nlp-display-others\" style=\"background-color: white\"> kept </span><span class=\"spark-nlp-display-entity-wrapper\" style=\"background-color: #77b5fe\"><span class=\"spark-nlp-display-entity-name\">hemolyzing </span><span class=\"spark-nlp-display-entity-type\">TEST</span></span><span class=\"spark-nlp-display-others\" style=\"background-color: white\"> due to </span><span class=\"spark-nlp-display-entity-wrapper\" style=\"background-color: #800080\"><span class=\"spark-nlp-display-entity-name\">significant lipemia </span><span class=\"spark-nlp-display-entity-type\">PROBLEM</span></span><span class=\"spark-nlp-display-others\" style=\"background-color: white\"> .<br>The patient was initially admitted for </span><span class=\"spark-nlp-display-entity-wrapper\" style=\"background-color: #800080\"><span class=\"spark-nlp-display-entity-name\">starvation ketosis </span><span class=\"spark-nlp-display-entity-type\">PROBLEM</span></span><span class=\"spark-nlp-display-others\" style=\"background-color: white\"> , as she reported </span><span class=\"spark-nlp-display-entity-wrapper\" style=\"background-color: #800080\"><span class=\"spark-nlp-display-entity-name\">poor oral intake </span><span class=\"spark-nlp-display-entity-type\">PROBLEM</span></span><span class=\"spark-nlp-display-others\" style=\"background-color: white\"> for three days prior to admission .<br>However , </span><span class=\"spark-nlp-display-entity-wrapper\" style=\"background-color: #77b5fe\"><span class=\"spark-nlp-display-entity-name\">serum chemistry </span><span class=\"spark-nlp-display-entity-type\">TEST</span></span><span class=\"spark-nlp-display-others\" style=\"background-color: white\"> obtained six hours after presentation revealed </span><span class=\"spark-nlp-display-entity-wrapper\" style=\"background-color: #77b5fe\"><span class=\"spark-nlp-display-entity-name\">her glucose </span><span class=\"spark-nlp-display-entity-type\">TEST</span></span><span class=\"spark-nlp-display-others\" style=\"background-color: white\"> was 186 mg/dL , </span><span class=\"spark-nlp-display-entity-wrapper\" style=\"background-color: #77b5fe\"><span class=\"spark-nlp-display-entity-name\">the anion gap </span><span class=\"spark-nlp-display-entity-type\">TEST</span></span><span class=\"spark-nlp-display-others\" style=\"background-color: white\"> was still </span><span class=\"spark-nlp-display-entity-wrapper\" style=\"background-color: #800080\"><span class=\"spark-nlp-display-entity-name\">elevated </span><span class=\"spark-nlp-display-entity-type\">PROBLEM</span></span><span class=\"spark-nlp-display-others\" style=\"background-color: white\"> at 21 , </span><span class=\"spark-nlp-display-entity-wrapper\" style=\"background-color: #77b5fe\"><span class=\"spark-nlp-display-entity-name\">serum bicarbonate </span><span class=\"spark-nlp-display-entity-type\">TEST</span></span><span class=\"spark-nlp-display-others\" style=\"background-color: white\"> was 16 mmol/L , </span><span class=\"spark-nlp-display-entity-wrapper\" style=\"background-color: #77b5fe\"><span class=\"spark-nlp-display-entity-name\">triglyceride level </span><span class=\"spark-nlp-display-entity-type\">TEST</span></span><span class=\"spark-nlp-display-others\" style=\"background-color: white\"> peaked at 2050 mg/dL , and </span><span class=\"spark-nlp-display-entity-wrapper\" style=\"background-color: #77b5fe\"><span class=\"spark-nlp-display-entity-name\">lipase </span><span class=\"spark-nlp-display-entity-type\">TEST</span></span><span class=\"spark-nlp-display-others\" style=\"background-color: white\"> was 52 U/L .<br></span><span class=\"spark-nlp-display-entity-wrapper\" style=\"background-color: #77b5fe\"><span class=\"spark-nlp-display-entity-name\">The β-hydroxybutyrate level </span><span class=\"spark-nlp-display-entity-type\">TEST</span></span><span class=\"spark-nlp-display-others\" style=\"background-color: white\"> was obtained and found to be </span><span class=\"spark-nlp-display-entity-wrapper\" style=\"background-color: #800080\"><span class=\"spark-nlp-display-entity-name\">elevated </span><span class=\"spark-nlp-display-entity-type\">PROBLEM</span></span><span class=\"spark-nlp-display-others\" style=\"background-color: white\"> at 5.29 mmol/L - the original sample was centrifuged and </span><span class=\"spark-nlp-display-entity-wrapper\" style=\"background-color: #8b6673\"><span class=\"spark-nlp-display-entity-name\">the chylomicron layer </span><span class=\"spark-nlp-display-entity-type\">TREATMENT</span></span><span class=\"spark-nlp-display-others\" style=\"background-color: white\"> removed prior to </span><span class=\"spark-nlp-display-entity-wrapper\" style=\"background-color: #77b5fe\"><span class=\"spark-nlp-display-entity-name\">analysis </span><span class=\"spark-nlp-display-entity-type\">TEST</span></span><span class=\"spark-nlp-display-others\" style=\"background-color: white\"> due to interference from </span><span class=\"spark-nlp-display-entity-wrapper\" style=\"background-color: #800080\"><span class=\"spark-nlp-display-entity-name\">turbidity </span><span class=\"spark-nlp-display-entity-type\">PROBLEM</span></span><span class=\"spark-nlp-display-others\" style=\"background-color: white\"> caused by </span><span class=\"spark-nlp-display-entity-wrapper\" style=\"background-color: #800080\"><span class=\"spark-nlp-display-entity-name\">lipemia </span><span class=\"spark-nlp-display-entity-type\">PROBLEM</span></span><span class=\"spark-nlp-display-others\" style=\"background-color: white\"> again .<br>The patient was treated with </span><span class=\"spark-nlp-display-entity-wrapper\" style=\"background-color: #8b6673\"><span class=\"spark-nlp-display-entity-name\">an insulin drip </span><span class=\"spark-nlp-display-entity-type\">TREATMENT</span></span><span class=\"spark-nlp-display-others\" style=\"background-color: white\"> for </span><span class=\"spark-nlp-display-entity-wrapper\" style=\"background-color: #800080\"><span class=\"spark-nlp-display-entity-name\">euDKA </span><span class=\"spark-nlp-display-entity-type\">PROBLEM</span></span><span class=\"spark-nlp-display-others\" style=\"background-color: white\"> and </span><span class=\"spark-nlp-display-entity-wrapper\" style=\"background-color: #800080\"><span class=\"spark-nlp-display-entity-name\">HTG </span><span class=\"spark-nlp-display-entity-type\">PROBLEM</span></span><span class=\"spark-nlp-display-others\" style=\"background-color: white\"> with a reduction in </span><span class=\"spark-nlp-display-entity-wrapper\" style=\"background-color: #77b5fe\"><span class=\"spark-nlp-display-entity-name\">the anion gap </span><span class=\"spark-nlp-display-entity-type\">TEST</span></span><span class=\"spark-nlp-display-others\" style=\"background-color: white\"> to 13 and </span><span class=\"spark-nlp-display-entity-wrapper\" style=\"background-color: #77b5fe\"><span class=\"spark-nlp-display-entity-name\">triglycerides </span><span class=\"spark-nlp-display-entity-type\">TEST</span></span><span class=\"spark-nlp-display-others\" style=\"background-color: white\"> to 1400 mg/dL , within 24 hours .<br></span><span class=\"spark-nlp-display-entity-wrapper\" style=\"background-color: #800080\"><span class=\"spark-nlp-display-entity-name\">Her euDKA </span><span class=\"spark-nlp-display-entity-type\">PROBLEM</span></span><span class=\"spark-nlp-display-others\" style=\"background-color: white\"> was thought to be precipitated by </span><span class=\"spark-nlp-display-entity-wrapper\" style=\"background-color: #800080\"><span class=\"spark-nlp-display-entity-name\">her respiratory tract infection </span><span class=\"spark-nlp-display-entity-type\">PROBLEM</span></span><span class=\"spark-nlp-display-others\" style=\"background-color: white\"> in the setting of </span><span class=\"spark-nlp-display-entity-wrapper\" style=\"background-color: #8b6673\"><span class=\"spark-nlp-display-entity-name\">SGLT2 inhibitor use </span><span class=\"spark-nlp-display-entity-type\">TREATMENT</span></span><span class=\"spark-nlp-display-others\" style=\"background-color: white\"> .<br>The patient was seen by the endocrinology service and she was discharged on 40 units of </span><span class=\"spark-nlp-display-entity-wrapper\" style=\"background-color: #8b6673\"><span class=\"spark-nlp-display-entity-name\">insulin glargine </span><span class=\"spark-nlp-display-entity-type\">TREATMENT</span></span><span class=\"spark-nlp-display-others\" style=\"background-color: white\"> at night , 12 units of </span><span class=\"spark-nlp-display-entity-wrapper\" style=\"background-color: #8b6673\"><span class=\"spark-nlp-display-entity-name\">insulin lispro </span><span class=\"spark-nlp-display-entity-type\">TREATMENT</span></span><span class=\"spark-nlp-display-others\" style=\"background-color: white\"> with meals , and </span><span class=\"spark-nlp-display-entity-wrapper\" style=\"background-color: #8b6673\"><span class=\"spark-nlp-display-entity-name\">metformin </span><span class=\"spark-nlp-display-entity-type\">TREATMENT</span></span><span class=\"spark-nlp-display-others\" style=\"background-color: white\"> 1000 mg two times a day .<br>It was determined that </span><span class=\"spark-nlp-display-entity-wrapper\" style=\"background-color: #8b6673\"><span class=\"spark-nlp-display-entity-name\">all </span><span class=\"spark-nlp-display-entity-type\">TREATMENT</span></span><span class=\"spark-nlp-display-others\" style=\"background-color: white\"> </span><span class=\"spark-nlp-display-entity-wrapper\" style=\"background-color: #8b6673\"><span class=\"spark-nlp-display-entity-name\">SGLT2 inhibitors </span><span class=\"spark-nlp-display-entity-type\">TREATMENT</span></span><span class=\"spark-nlp-display-others\" style=\"background-color: white\"> should be discontinued indefinitely . She had close follow-up with endocrinology post discharge .</span></div>'"
   ]
  },
  {
   "cell_type": "markdown",
   "metadata": {},
   "source": [
    "**Training Clinical BertForTokenClassification Model**\n",
    "\n",
    "For training own BertForTokenClassification NER model, you can check [this notebook](https://github.com/JohnSnowLabs/spark-nlp-workshop/blob/master/tutorials/Certification_Trainings_JSL/Healthcare/1.5.BertForTokenClassification_NER_SparkNLP_with_Transformers.ipynb)"
   ]
  },
  {
   "cell_type": "markdown",
   "metadata": {},
   "source": [
    "## Pretrained NER Profiling Pipelines\n",
    "\n",
    "We can use pretrained NER profiling pipelines for exploring all the available pretrained NER models at once. In Spark NLP we have two different NER profiling pipelines;\n",
    "\n",
    "- `ner_profiling_clinical` : Returns results for clinical NER models trained with `embeddings_clinical`.\n",
    "- `ner_profiling_biobert` : Returns results for clinical NER models trained with `biobert_pubmed_base_cased`.\n",
    "\n",
    "For more examples, please check [this notebook](https://github.com/JohnSnowLabs/spark-nlp-workshop/blob/master/tutorials/Certification_Trainings_JSL/Healthcare/11.2.Pretrained_NER_Profiling_Pipelines.ipynb).\n",
    "\n",
    "\n",
    "\n"
   ]
  },
  {
   "cell_type": "markdown",
   "metadata": {},
   "source": [
    "<center><b>NER Profiling Clinical Model List</b>\n",
    "\n",
    "|| | | |\n",
    "|--------------|-----------------|-----------------|-----------------|\n",
    "| jsl_ner_wip_clinical               | jsl_ner_wip_greedy_clinical                    | jsl_rd_ner_wip_greedy_clinical   | jsl_ner_wip_modifier_clinical |\n",
    "| ner_abbreviation_clinical          | ner_ade_binary                                 | ner_ade_clinical                 | ner_anatomy          |\n",
    "| ner_anatomy_coarse                  | ner_bacterial_species                          | ner_biomedical_bc2gm             | ner_biomarker        |\n",
    "| ner_bionlp                          | ner_chemicals                                  | ner_chemd_clinical               | ner_chemprot_clinical|\n",
    "| ner_chexpert                        | ner_clinical                                   | ner_clinical_large               | ner_clinical_trials_abstracts  |\n",
    "| ner_covid_trials                    | ner_deid_augmented                             | ner_deid_enriched                | ner_deid_generic_augmented |\n",
    "| ner_deid_large                      | ner_deid_sd                                    | ner_deid_sd_large                | ner_deid_subentity_augmented |\n",
    "| ner_deid_subentity_augmented        | ner_deid_subentity_augmented_i2b2              | ner_diseases                     | ner_diseases_large   |\n",
    "| ner_drugprot_clinical               | ner_drugs                                      | ner_drugs_greedy                 | ner_drugs_large      |\n",
    "| ner_eu_clinical_case                | ner_eu_clinical_condition                       | ner_events_admission_clinical    | ner_events_clinical  |\n",
    "| ner_genetic_variants                | ner_human_phenotype_gene_clinical               | ner_human_phenotype_go_clinical  | ner_jsl              |\n",
    "| ner_jsl_enriched                    | ner_jsl_greedy                                 | ner_jsl_slim                     | ner_living_species   |\n",
    "| ner_measurements_clinical           | ner_medmentions_coarse                          | ner_nature_nero_clinical         | ner_nihss            |\n",
    "| ner_oncology                        | ner_oncology_anatomy_general                    | ner_oncology_anatomy_granular    | ner_oncology_biomarker |\n",
    "| ner_oncology_demographics           | ner_oncology_diagnosis                          | ner_oncology_posology            | ner_oncology_response_to_treatment |\n",
    "| ner_oncology_tnm                    | ner_oncology_therapy                            | ner_oncology_unspecific_posology | ner_oncology_wip     |\n",
    "| ner_pathogen                        | ner_posology                                   | ner_posology_experimental        | ner_posology_greedy  |\n",
    "| ner_posology_large                  | ner_posology_small                              | ner_posology_wip                 | ner_radiology        |\n",
    "| ner_radiology_wip_clinical          | ner_risk_factors                               | ner_sdoh_access_to_healthcare_wip| ner_sdoh_community_condition_wip |\n",
    "| ner_sdoh_demographics_wip           | ner_sdoh_health_behaviours_problems_wip         | ner_sdoh_income_social_status_wip| ner_sdoh_mentions    |\n",
    "| ner_sdoh_social_environment_wip     | ner_sdoh_substance_usage_wip                    | ner_sdoh_wip                     | ner_supplement_clinical |\n",
    "| ner_token                           | ner_vop_anatomy_wip                            | ner_vop_clinical_dept_wip        | ner_vop_demographic_wip |\n",
    "| ner_vop_problem_reduced_wip         | ner_vop_problem_wip                            | ner_vop_slim_wip                 | ner_vop_temporal_wip |\n",
    "| ner_vop_test_wip                    | ner_vop_treatment_wip                           | ner_vop_wip                      |                       |\n",
    "\n",
    "\n",
    "<b>NER Profiling BioBert Model List</b>\n",
    "\n",
    "| | |\n",
    "|-|-|\n",
    "| ner_cellular_biobert           | ner_clinical_biobert             |\n",
    "| ner_diseases_biobert           | ner_anatomy_coarse_biobert       |\n",
    "| ner_events_biobert             | ner_human_phenotype_gene_biobert |\n",
    "| ner_bionlp_biobert             | ner_posology_large_biobert       |\n",
    "| ner_jsl_greedy_biobert         | jsl_rd_ner_wip_greedy_biobert    |\n",
    "| ner_jsl_biobert                | ner_posology_biobert             |\n",
    "| ner_anatomy_biobert            | jsl_ner_wip_greedy_biobert       |\n",
    "| ner_jsl_enriched_biobert       | ner_chemprot_biobert             |\n",
    "| ner_human_phenotype_go_biobert | ner_ade_biobert                  |\n",
    "| ner_deid_biobert               | ner_risk_factors_biobert         |\n",
    "| ner_deid_enriched_biobert      | ner_living_species_biobert                                |\n",
    "\n",
    "\n",
    "</center>"
   ]
  },
  {
   "cell_type": "code",
   "execution_count": null,
   "metadata": {
    "tags": []
   },
   "outputs": [],
   "source": [
    "clinical_profiling_pipeline = nlp.PretrainedPipeline(\"ner_profiling_clinical\", \"en\", \"clinical/models\")"
   ]
  },
  {
   "cell_type": "code",
   "execution_count": null,
   "metadata": {},
   "outputs": [],
   "source": [
    "text = '''A 28-year-old female with a history of gestational diabetes mellitus diagnosed eight years prior to presentation and subsequent type two diabetes mellitus ( T2DM ), one prior episode of HTG-induced pancreatitis three years prior to presentation , associated with an acute hepatitis , and obesity with a body mass index ( BMI ) of 33.5 kg/m2 , presented with a one-week history of polyuria , polydipsia , poor appetite , and vomiting .'''"
   ]
  },
  {
   "cell_type": "code",
   "execution_count": null,
   "metadata": {},
   "outputs": [],
   "source": [
    "clinical_result = clinical_profiling_pipeline.fullAnnotate(text)[0]\n",
    "clinical_result.keys()"
   ]
  },
  {
   "cell_type": "code",
   "execution_count": null,
   "metadata": {},
   "outputs": [],
   "source": [
    "def get_token_results(light_result):\n",
    "\n",
    "  tokens = [j.result for j in light_result[\"token\"]]\n",
    "  sentences = [j.metadata[\"sentence\"] for j in light_result[\"token\"]]\n",
    "  begins = [j.begin for j in light_result[\"token\"]]\n",
    "  ends = [j.end for j in light_result[\"token\"]]\n",
    "  model_list = [ a for a in light_result.keys() if (a not in [\"sentence\", \"token\"] and \"_chunks\" not in a)]\n",
    "\n",
    "  df = pd.DataFrame({'sentence':sentences, 'begin': begins, 'end': ends, 'token':tokens})\n",
    "\n",
    "  for model_name in model_list:\n",
    "\n",
    "    temp_df = pd.DataFrame(light_result[model_name])\n",
    "    temp_df[\"jsl_label\"] = temp_df.iloc[:,0].apply(lambda x : x.result)\n",
    "    temp_df = temp_df[[\"jsl_label\"]]\n",
    "\n",
    "    # temp_df = get_ner_result(model_name)\n",
    "    temp_df.columns = [model_name]\n",
    "    df = pd.concat([df, temp_df], axis=1)\n",
    "\n",
    "  return df"
   ]
  },
  {
   "cell_type": "code",
   "execution_count": null,
   "metadata": {},
   "outputs": [],
   "source": [
    "result_df = get_token_results(clinical_result)\n",
    "result_df"
   ]
  },
  {
   "cell_type": "markdown",
   "metadata": {},
   "source": [
    "**Lets plot the labelled entity counts by NER models.**"
   ]
  },
  {
   "cell_type": "code",
   "execution_count": null,
   "metadata": {
    "tags": []
   },
   "outputs": [],
   "source": [
    "sc.install_pypi_package(\"plotly\")"
   ]
  },
  {
   "cell_type": "code",
   "execution_count": null,
   "metadata": {
    "tags": []
   },
   "outputs": [],
   "source": [
    "import plotly.graph_objects as go\n",
    "\n",
    "label_result_df = result_df[result_df.columns[4:]].copy()\n",
    "label_count_list = [label_result_df[label_result_df[i] != \"O\"].shape[0] for i in label_result_df.columns]\n",
    "\n",
    "fig = go.Figure(go.Bar(x=label_count_list, y=label_result_df.columns, orientation='h'))\n",
    "\n",
    "fig.update_layout(\n",
    "    autosize = False,\n",
    "    width = 1500,\n",
    "    height = 1500,\n",
    "    margin = dict(l=50, r=50, b=100, t=100, pad=4),\n",
    "    paper_bgcolor = \"LightSteelBlue\",\n",
    "    title={'text': \"Counts of Labelled Entities\", 'y':0.98, 'x':0.5, 'xanchor': 'center', 'yanchor': 'top'},\n",
    "    titlefont=dict(size=30),\n",
    "    yaxis=dict(title_text=\"Clinical NER Models\", titlefont=dict(size=30)),\n",
    ")\n",
    "\n",
    "fig.show()"
   ]
  },
  {
   "cell_type": "markdown",
   "metadata": {},
   "source": [
    "## NER Model Finder Pretrained Pipeline\n",
    "`ner_model_finder`  pretrained pipeline trained with bert embeddings that can be used to find the most appropriate NER model given the entity name."
   ]
  },
  {
   "cell_type": "code",
   "execution_count": null,
   "metadata": {
    "tags": []
   },
   "outputs": [],
   "source": [
    "finder_pipeline = nlp.PretrainedPipeline(\"ner_model_finder\", \"en\", \"clinical/models\")"
   ]
  },
  {
   "cell_type": "code",
   "execution_count": null,
   "metadata": {
    "tags": []
   },
   "outputs": [],
   "source": [
    "result = finder_pipeline.fullAnnotate(\"oncology\")[0]\n",
    "result.keys()"
   ]
  },
  {
   "cell_type": "markdown",
   "metadata": {},
   "source": [
    "From the metadata in the `model_names` column, we'll get to the top models to the given 'oncology' entity and oncology related categories."
   ]
  },
  {
   "cell_type": "code",
   "execution_count": null,
   "metadata": {
    "tags": []
   },
   "outputs": [],
   "source": [
    "df= pd.DataFrame(zip(result[\"model_names\"][0].metadata[\"all_k_resolutions\"].split(\":::\"),\n",
    "                     result[\"model_names\"][0].metadata[\"all_k_results\"].split(\":::\")),\n",
    "                 columns=[\"category\", \"top_models\"])"
   ]
  },
  {
   "cell_type": "code",
   "execution_count": null,
   "metadata": {
    "tags": []
   },
   "outputs": [],
   "source": [
    "%%display\n",
    "spark.createDataFrame(df.head())"
   ]
  }
 ],
 "metadata": {
  "kernelspec": {
   "display_name": "PySpark",
   "language": "",
   "name": "pysparkkernel"
  },
  "language_info": {
   "codemirror_mode": {
    "name": "python",
    "version": 3
   },
   "mimetype": "text/x-python",
   "name": "pyspark",
   "pygments_lexer": "python3"
  }
 },
 "nbformat": 4,
 "nbformat_minor": 4
}

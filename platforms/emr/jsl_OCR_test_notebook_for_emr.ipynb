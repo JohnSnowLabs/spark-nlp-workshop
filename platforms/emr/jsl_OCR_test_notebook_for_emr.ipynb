{
 "cells": [
  {
   "cell_type": "markdown",
   "metadata": {},
   "source": [
    "![JohnSnowLabs](https://nlp.johnsnowlabs.com/assets/images/logo.png)"
   ]
  },
  {
   "cell_type": "markdown",
   "metadata": {},
   "source": [
    "# Spark OCR"
   ]
  },
  {
   "cell_type": "markdown",
   "metadata": {},
   "source": [
    "\n",
    "## Blogposts and videos\n",
    "\n",
    "- [How to Setup Spark OCR on UBUNTU - Video](https://www.youtube.com/watch?v=cmt4WIcL0nI)\n",
    "\n",
    "- [Installing Spark NLP and Spark OCR in air-gapped networks (offline mode)\n",
    "](https://medium.com/spark-nlp/installing-spark-nlp-and-spark-ocr-in-air-gapped-networks-offline-mode-f42a1ee6b7a8)\n",
    "\n",
    "- [Table Detection & Extraction in Spark OCR](https://medium.com/spark-nlp/table-detection-extraction-in-spark-ocr-50765c6cedc9)\n",
    "\n",
    "- [Signature Detection in Spark OCR](https://medium.com/spark-nlp/signature-detection-in-spark-ocr-32f9e6f91e3c)\n",
    "\n",
    "- [GPU image pre-processing in Spark OCR](https://medium.com/spark-nlp/gpu-image-pre-processing-in-spark-ocr-3-1-0-6fc27560a9bb)\n",
    "\n",
    "**More examples here**\n",
    "\n",
    "https://github.com/JohnSnowLabs/spark-ocr-workshop"
   ]
  },
  {
   "cell_type": "markdown",
   "metadata": {},
   "source": [
    "**Setup**"
   ]
  },
  {
   "cell_type": "code",
   "execution_count": 1,
   "metadata": {
    "execution": {
     "iopub.execute_input": "2023-10-30T20:23:13.976829Z",
     "iopub.status.busy": "2023-10-30T20:23:13.976499Z",
     "iopub.status.idle": "2023-10-30T20:24:46.630445Z",
     "shell.execute_reply": "2023-10-30T20:24:46.629670Z",
     "shell.execute_reply.started": "2023-10-30T20:23:13.976800Z"
    },
    "tags": []
   },
   "outputs": [
    {
     "data": {
      "application/vnd.jupyter.widget-view+json": {
       "model_id": "f1d72b6654744e6bbcb6c42702566cca",
       "version_major": 2,
       "version_minor": 0
      },
      "text/plain": [
       "VBox()"
      ]
     },
     "metadata": {},
     "output_type": "display_data"
    },
    {
     "name": "stdout",
     "output_type": "stream",
     "text": [
      "Starting Spark application\n"
     ]
    },
    {
     "data": {
      "text/html": [
       "<table>\n<tbody><tr><th>ID</th><th>YARN Application ID</th><th>Kind</th><th>State</th><th>Spark UI</th><th>Driver log</th><th>User</th><th>Current session?</th></tr><tr><td>0</td><td>application_1698694675566_0001</td><td>pyspark</td><td>idle</td><td><a target=\"_blank\" href=\"http://ip-172-31-20-250.us-east-2.compute.internal:20888/proxy/application_1698694675566_0001/\" class=\"emr-proxy-link j-3B2X3DYKUYD7Q application_1698694675566_0001\" emr-resource=\"j-3B2X3DYKUYD7Q\n\" application-id=\"application_1698694675566_0001\">Link</a></td><td><a target=\"_blank\" href=\"http://ip-172-31-22-136.us-east-2.compute.internal:8042/node/containerlogs/container_1698694675566_0001_01_000001/livy\">Link</a></td><td>None</td><td>✔</td></tr></tbody></table>"
      ],
      "text/plain": [
       "<IPython.core.display.HTML object>"
      ]
     },
     "metadata": {},
     "output_type": "display_data"
    },
    {
     "data": {
      "application/vnd.jupyter.widget-view+json": {
       "model_id": "",
       "version_major": 2,
       "version_minor": 0
      },
      "text/plain": [
       "FloatProgress(value=0.0, bar_style='info', description='Progress:', layout=Layout(height='25px', width='50%'),…"
      ]
     },
     "metadata": {},
     "output_type": "display_data"
    },
    {
     "name": "stdout",
     "output_type": "stream",
     "text": [
      "SparkSession available as 'spark'.\n"
     ]
    },
    {
     "data": {
      "application/vnd.jupyter.widget-view+json": {
       "model_id": "",
       "version_major": 2,
       "version_minor": 0
      },
      "text/plain": [
       "FloatProgress(value=0.0, bar_style='info', description='Progress:', layout=Layout(height='25px', width='50%'),…"
      ]
     },
     "metadata": {},
     "output_type": "display_data"
    }
   ],
   "source": [
    "import sparkocr\n",
    "import sys\n",
    "from pyspark.sql import SparkSession\n",
    "from sparkocr import start\n",
    "import base64\n",
    "from sparkocr.transformers import *\n",
    "from pyspark.ml import PipelineModel\n",
    "from pyspark.sql import functions as F\n",
    "from sparkocr.enums import *\n",
    "from sparkocr.utils import display_images, display_image"
   ]
  },
  {
   "cell_type": "markdown",
   "metadata": {},
   "source": [
    "## Pdf to Text\n"
   ]
  },
  {
   "cell_type": "code",
   "execution_count": 2,
   "metadata": {
    "execution": {
     "iopub.execute_input": "2023-10-30T20:24:46.631805Z",
     "iopub.status.busy": "2023-10-30T20:24:46.631553Z",
     "iopub.status.idle": "2023-10-30T20:24:47.934963Z",
     "shell.execute_reply": "2023-10-30T20:24:47.934134Z",
     "shell.execute_reply.started": "2023-10-30T20:24:46.631780Z"
    },
    "tags": []
   },
   "outputs": [],
   "source": [
    "%%sh\n",
    "wget -q -O /tmp/sample_doc.pdf    http://www.asx.com.au/asxpdf/20171103/pdf/43nyyw9r820c6r.pdf"
   ]
  },
  {
   "cell_type": "code",
   "execution_count": 3,
   "metadata": {
    "execution": {
     "iopub.execute_input": "2023-10-30T20:24:47.936914Z",
     "iopub.status.busy": "2023-10-30T20:24:47.936674Z",
     "iopub.status.idle": "2023-10-30T20:24:50.010449Z",
     "shell.execute_reply": "2023-10-30T20:24:50.009522Z",
     "shell.execute_reply.started": "2023-10-30T20:24:47.936889Z"
    },
    "tags": []
   },
   "outputs": [],
   "source": [
    "%%sh\n",
    "hdfs dfs -copyFromLocal /tmp/sample_doc.pdf /user/hadoop/sample.pdf"
   ]
  },
  {
   "cell_type": "code",
   "execution_count": 4,
   "metadata": {
    "execution": {
     "iopub.execute_input": "2023-10-30T20:24:50.012233Z",
     "iopub.status.busy": "2023-10-30T20:24:50.011935Z",
     "iopub.status.idle": "2023-10-30T20:24:50.271913Z",
     "shell.execute_reply": "2023-10-30T20:24:50.271287Z",
     "shell.execute_reply.started": "2023-10-30T20:24:50.012204Z"
    },
    "tags": []
   },
   "outputs": [
    {
     "data": {
      "application/vnd.jupyter.widget-view+json": {
       "model_id": "a78e2d3802f94f6e9490291e27e78078",
       "version_major": 2,
       "version_minor": 0
      },
      "text/plain": [
       "VBox()"
      ]
     },
     "metadata": {},
     "output_type": "display_data"
    },
    {
     "data": {
      "application/vnd.jupyter.widget-view+json": {
       "model_id": "",
       "version_major": 2,
       "version_minor": 0
      },
      "text/plain": [
       "FloatProgress(value=0.0, bar_style='info', description='Progress:', layout=Layout(height='25px', width='50%'),…"
      ]
     },
     "metadata": {},
     "output_type": "display_data"
    }
   ],
   "source": [
    "# Transform PDF document to images per page\n",
    "pdf_to_image = PdfToImage()\\\n",
    "      .setInputCol(\"content\")\\\n",
    "      .setOutputCol(\"image\")\\\n",
    "      .setResolution(100)\n",
    "\n",
    "# Run OCR\n",
    "ocr = ImageToText()\\\n",
    "      .setInputCol(\"image\")\\\n",
    "      .setOutputCol(\"text\")\\\n",
    "      .setConfidenceThreshold(65)\n",
    "      # .setKeepLayout(True) \\ # to preserve the layout of the input\n",
    "\n",
    "pdf_to_text_pipeline = PipelineModel(stages=[\n",
    "    pdf_to_image,\n",
    "    ocr\n",
    "])"
   ]
  },
  {
   "cell_type": "code",
   "execution_count": 5,
   "metadata": {
    "execution": {
     "iopub.execute_input": "2023-10-30T20:24:50.273116Z",
     "iopub.status.busy": "2023-10-30T20:24:50.272878Z",
     "iopub.status.idle": "2023-10-30T20:24:52.544155Z",
     "shell.execute_reply": "2023-10-30T20:24:52.543527Z",
     "shell.execute_reply.started": "2023-10-30T20:24:50.273092Z"
    },
    "tags": []
   },
   "outputs": [
    {
     "data": {
      "application/vnd.jupyter.widget-view+json": {
       "model_id": "523e1903b4284528bd5d3471b5935082",
       "version_major": 2,
       "version_minor": 0
      },
      "text/plain": [
       "VBox()"
      ]
     },
     "metadata": {},
     "output_type": "display_data"
    },
    {
     "data": {
      "application/vnd.jupyter.widget-view+json": {
       "model_id": "",
       "version_major": 2,
       "version_minor": 0
      },
      "text/plain": [
       "FloatProgress(value=0.0, bar_style='info', description='Progress:', layout=Layout(height='25px', width='50%'),…"
      ]
     },
     "metadata": {},
     "output_type": "display_data"
    }
   ],
   "source": [
    "pdf = pdf = '/user/hadoop/sample.pdf'\n",
    "pdf_example_df = spark.read.format(\"binaryFile\").load(pdf).cache()"
   ]
  },
  {
   "cell_type": "code",
   "execution_count": 6,
   "metadata": {
    "execution": {
     "iopub.execute_input": "2023-10-30T20:24:52.545319Z",
     "iopub.status.busy": "2023-10-30T20:24:52.545096Z",
     "iopub.status.idle": "2023-10-30T20:24:53.299299Z",
     "shell.execute_reply": "2023-10-30T20:24:53.298637Z",
     "shell.execute_reply.started": "2023-10-30T20:24:52.545296Z"
    },
    "tags": []
   },
   "outputs": [
    {
     "data": {
      "application/vnd.jupyter.widget-view+json": {
       "model_id": "3dafec9229c84454b30216506bd39524",
       "version_major": 2,
       "version_minor": 0
      },
      "text/plain": [
       "VBox()"
      ]
     },
     "metadata": {},
     "output_type": "display_data"
    },
    {
     "data": {
      "application/vnd.jupyter.widget-view+json": {
       "model_id": "",
       "version_major": 2,
       "version_minor": 0
      },
      "text/plain": [
       "FloatProgress(value=0.0, bar_style='info', description='Progress:', layout=Layout(height='25px', width='50%'),…"
      ]
     },
     "metadata": {},
     "output_type": "display_data"
    }
   ],
   "source": [
    "result = pdf_to_text_pipeline.transform(pdf_example_df).cache()"
   ]
  },
  {
   "cell_type": "code",
   "execution_count": 7,
   "metadata": {
    "execution": {
     "iopub.execute_input": "2023-10-30T20:24:53.300482Z",
     "iopub.status.busy": "2023-10-30T20:24:53.300248Z",
     "iopub.status.idle": "2023-10-30T20:25:04.613388Z",
     "shell.execute_reply": "2023-10-30T20:25:04.612759Z",
     "shell.execute_reply.started": "2023-10-30T20:24:53.300459Z"
    },
    "tags": []
   },
   "outputs": [
    {
     "data": {
      "application/vnd.jupyter.widget-view+json": {
       "model_id": "3ba7b6859f2b491f811b011267981096",
       "version_major": 2,
       "version_minor": 0
      },
      "text/plain": [
       "VBox()"
      ]
     },
     "metadata": {},
     "output_type": "display_data"
    },
    {
     "data": {
      "application/vnd.jupyter.widget-view+json": {
       "model_id": "",
       "version_major": 2,
       "version_minor": 0
      },
      "text/plain": [
       "FloatProgress(value=0.0, bar_style='info', description='Progress:', layout=Layout(height='25px', width='50%'),…"
      ]
     },
     "metadata": {},
     "output_type": "display_data"
    },
    {
     "name": "stdout",
     "output_type": "stream",
     "text": [
      "+-------+--------------------+-----------------+\n",
      "|pagenum|                text|       confidence|\n",
      "+-------+--------------------+-----------------+\n",
      "|      0|digital RE.\\n\\nAS...|89.96996718186598|\n",
      "+-------+--------------------+-----------------+"
     ]
    }
   ],
   "source": [
    "result.select(\"pagenum\",\"text\", \"confidence\").show()"
   ]
  },
  {
   "cell_type": "code",
   "execution_count": 8,
   "metadata": {
    "execution": {
     "iopub.execute_input": "2023-10-30T20:25:04.615817Z",
     "iopub.status.busy": "2023-10-30T20:25:04.615597Z",
     "iopub.status.idle": "2023-10-30T20:25:04.866478Z",
     "shell.execute_reply": "2023-10-30T20:25:04.865815Z",
     "shell.execute_reply.started": "2023-10-30T20:25:04.615795Z"
    }
   },
   "outputs": [
    {
     "data": {
      "application/vnd.jupyter.widget-view+json": {
       "model_id": "fb0b22e558ed493eb676089ccceca2ee",
       "version_major": 2,
       "version_minor": 0
      },
      "text/plain": [
       "VBox()"
      ]
     },
     "metadata": {},
     "output_type": "display_data"
    },
    {
     "data": {
      "application/vnd.jupyter.widget-view+json": {
       "model_id": "",
       "version_major": 2,
       "version_minor": 0
      },
      "text/plain": [
       "FloatProgress(value=0.0, bar_style='info', description='Progress:', layout=Layout(height='25px', width='50%'),…"
      ]
     },
     "metadata": {},
     "output_type": "display_data"
    },
    {
     "name": "stdout",
     "output_type": "stream",
     "text": [
      "[Row(text='digital RE.\\n\\nASX ANNOUNCEMENT\\n3 November 2017\\n\\nNotice Pursuant to Paragraph 708A(5)(e) of the Corporations Act\\n2001 (\"Act\")\\n\\nDigitalX Limited (ASX:DCC) (DCC or the Company) confirms that the Company has today\\nissued 620,000 Fully Paid Ordinary Shares (Shares) upon exercise of 620,000 Unlisted\\nOptions exercisable at $0.0324 Expiring 14 September 2019 and 3,725,000 Shares upon\\nexercise of 3,725,000 Unlisted Incentive Options exercisable at $0.08 expiring 10 February\\n2018.\\n\\nThe Act restricts the on-sale of securities issued without disclosure, unless the sale is exempt\\nunder section 708 or 708A of the Act. By giving this notice, a sale of the Shares noted above\\nwill fall within the exemption in section 708A(5) of the Act.\\n\\nThe Company hereby notifies ASX under paragraph 708A(5)(e) of the Act that:\\n(a) the Company issued the Shares without disclosure to investors under Part 6D.2 of\\n\\nthe Act;\\n\\n(b) _asatthe date of this notice, the Company has complied with the provisions of Chapter\\n2M of the Act as they apply to the Company, and section 674 of the Act; and\\n\\n(©) asat the date of this notice, there is no information:\\na. that has been excluded from a continuous disclosure notice in accordance with\\n\\nthe ASX Listing Rules; and\\nb. that investors and their professional advisers would reasonably require for the\\n\\npurpose of making an informed assessment of\\ni. the assets and liabilities, financial position and performance, profits and\\n\\nlosses and prospects of the Company; or\\nii, the rights and liabilities attaching to the relevant Shares\\n\\nDigitalx Limited\\n\\nLeigh Travers\\nChief Executive Officer\\nT: +61 439 376 847\\n\\nAbout Digitalx\\n\\nDigitalx is a Blockchain technology Company with offices in Perth and New York. DigitalX\\nprovides Blockchain consulting services, ICO advisory services and software development.\\nPartners can use DigitalX’s technology expertise to deliver innovative products to global\\nmarkets.\\n')]"
     ]
    }
   ],
   "source": [
    "result.select(\"text\").collect()"
   ]
  },
  {
   "cell_type": "code",
   "execution_count": 9,
   "metadata": {
    "execution": {
     "iopub.execute_input": "2023-10-30T20:25:04.868246Z",
     "iopub.status.busy": "2023-10-30T20:25:04.867975Z",
     "iopub.status.idle": "2023-10-30T20:25:05.190846Z",
     "shell.execute_reply": "2023-10-30T20:25:05.190201Z",
     "shell.execute_reply.started": "2023-10-30T20:25:04.868219Z"
    }
   },
   "outputs": [
    {
     "data": {
      "application/vnd.jupyter.widget-view+json": {
       "model_id": "498bb30c4ce443ca934ddd3cbb9210b2",
       "version_major": 2,
       "version_minor": 0
      },
      "text/plain": [
       "VBox()"
      ]
     },
     "metadata": {},
     "output_type": "display_data"
    },
    {
     "data": {
      "application/vnd.jupyter.widget-view+json": {
       "model_id": "",
       "version_major": 2,
       "version_minor": 0
      },
      "text/plain": [
       "FloatProgress(value=0.0, bar_style='info', description='Progress:', layout=Layout(height='25px', width='50%'),…"
      ]
     },
     "metadata": {},
     "output_type": "display_data"
    },
    {
     "name": "stdout",
     "output_type": "stream",
     "text": [
      "digital RE.\n",
      "\n",
      "ASX ANNOUNCEMENT\n",
      "3 November 2017\n",
      "\n",
      "Notice Pursuant to Paragraph 708A(5)(e) of the Corporations Act\n",
      "2001 (\"Act\")\n",
      "\n",
      "DigitalX Limited (ASX:DCC) (DCC or the Company) confirms that the Company has today\n",
      "issued 620,000 Fully Paid Ordinary Shares (Shares) upon exercise of 620,000 Unlisted\n",
      "Options exercisable at $0.0324 Expiring 14 September 2019 and 3,725,000 Shares upon\n",
      "exercise of 3,725,000 Unlisted Incentive Options exercisable at $0.08 expiring 10 February\n",
      "2018.\n",
      "\n",
      "The Act restricts the on-sale of securities issued without disclosure, unless the sale is exempt\n",
      "under section 708 or 708A of the Act. By giving this notice, a sale of the Shares noted above\n",
      "will fall within the exemption in section 708A(5) of the Act.\n",
      "\n",
      "The Company hereby notifies ASX under paragraph 708A(5)(e) of the Act that:\n",
      "(a) the Company issued the Shares without disclosure to investors under Part 6D.2 of\n",
      "\n",
      "the Act;\n",
      "\n",
      "(b) _asatthe date of this notice, the Company has complied with the provisions of Chapter\n",
      "2M of the Act as they apply to the Company, and section 674 of the Act; and\n",
      "\n",
      "(©) asat the date of this notice, there is no information:\n",
      "a. that has been excluded from a continuous disclosure notice in accordance with\n",
      "\n",
      "the ASX Listing Rules; and\n",
      "b. that investors and their professional advisers would reasonably require for the\n",
      "\n",
      "purpose of making an informed assessment of\n",
      "i. the assets and liabilities, financial position and performance, profits and\n",
      "\n",
      "losses and prospects of the Company; or\n",
      "ii, the rights and liabilities attaching to the relevant Shares\n",
      "\n",
      "Digitalx Limited\n",
      "\n",
      "Leigh Travers\n",
      "Chief Executive Officer\n",
      "T: +61 439 376 847\n",
      "\n",
      "About Digitalx\n",
      "\n",
      "Digitalx is a Blockchain technology Company with offices in Perth and New York. DigitalX\n",
      "provides Blockchain consulting services, ICO advisory services and software development.\n",
      "Partners can use DigitalX’s technology expertise to deliver innovative products to global\n",
      "markets."
     ]
    }
   ],
   "source": [
    "print(\"\\n\".join([row.text for row in result.select(\"text\").collect()]))\n"
   ]
  },
  {
   "cell_type": "markdown",
   "metadata": {},
   "source": [
    "###  With Skew Correction"
   ]
  },
  {
   "cell_type": "code",
   "execution_count": 10,
   "metadata": {
    "execution": {
     "iopub.execute_input": "2023-10-30T20:25:05.191998Z",
     "iopub.status.busy": "2023-10-30T20:25:05.191769Z",
     "iopub.status.idle": "2023-10-30T20:25:05.235746Z",
     "shell.execute_reply": "2023-10-30T20:25:05.234925Z",
     "shell.execute_reply.started": "2023-10-30T20:25:05.191975Z"
    }
   },
   "outputs": [
    {
     "data": {
      "application/vnd.jupyter.widget-view+json": {
       "model_id": "44c35d3841cf40eea43580555ba07027",
       "version_major": 2,
       "version_minor": 0
      },
      "text/plain": [
       "VBox()"
      ]
     },
     "metadata": {},
     "output_type": "display_data"
    },
    {
     "data": {
      "application/vnd.jupyter.widget-view+json": {
       "model_id": "",
       "version_major": 2,
       "version_minor": 0
      },
      "text/plain": [
       "FloatProgress(value=0.0, bar_style='info', description='Progress:', layout=Layout(height='25px', width='50%'),…"
      ]
     },
     "metadata": {},
     "output_type": "display_data"
    }
   ],
   "source": [
    "from sparkocr.utils import display_image\n",
    "from sparkocr.metrics import score"
   ]
  },
  {
   "cell_type": "code",
   "execution_count": 11,
   "metadata": {
    "execution": {
     "iopub.execute_input": "2023-10-30T20:25:05.236913Z",
     "iopub.status.busy": "2023-10-30T20:25:05.236699Z",
     "iopub.status.idle": "2023-10-30T20:25:05.278395Z",
     "shell.execute_reply": "2023-10-30T20:25:05.277818Z",
     "shell.execute_reply.started": "2023-10-30T20:25:05.236891Z"
    }
   },
   "outputs": [
    {
     "data": {
      "application/vnd.jupyter.widget-view+json": {
       "model_id": "ce38e972cf3b497ab47570de66de306f",
       "version_major": 2,
       "version_minor": 0
      },
      "text/plain": [
       "VBox()"
      ]
     },
     "metadata": {},
     "output_type": "display_data"
    },
    {
     "data": {
      "application/vnd.jupyter.widget-view+json": {
       "model_id": "",
       "version_major": 2,
       "version_minor": 0
      },
      "text/plain": [
       "FloatProgress(value=0.0, bar_style='info', description='Progress:', layout=Layout(height='25px', width='50%'),…"
      ]
     },
     "metadata": {},
     "output_type": "display_data"
    }
   ],
   "source": [
    "def ocr_pipeline(skew_correction=False):\n",
    "\n",
    "    # Transforrm PDF document to images per page\n",
    "    pdf_to_image = PdfToImage()\\\n",
    "          .setInputCol(\"content\")\\\n",
    "          .setOutputCol(\"image\")\\\n",
    "          .setResolution(100)\n",
    "\n",
    "    # Image skew corrector\n",
    "    skew_corrector = ImageSkewCorrector()\\\n",
    "          .setInputCol(\"image\")\\\n",
    "          .setOutputCol(\"corrected_image\")\\\n",
    "          .setAutomaticSkewCorrection(skew_correction)\n",
    "\n",
    "    # Run OCR\n",
    "    ocr = ImageToText()\\\n",
    "          .setInputCol(\"corrected_image\")\\\n",
    "          .setOutputCol(\"text\")\n",
    "\n",
    "    pipeline_ocr = PipelineModel(stages=[\n",
    "        pdf_to_image,\n",
    "        skew_corrector,\n",
    "        ocr\n",
    "    ])\n",
    "\n",
    "    return pipeline_ocr"
   ]
  },
  {
   "cell_type": "code",
   "execution_count": 12,
   "metadata": {
    "execution": {
     "iopub.execute_input": "2023-10-30T20:25:05.279469Z",
     "iopub.status.busy": "2023-10-30T20:25:05.279256Z",
     "iopub.status.idle": "2023-10-30T20:25:05.713328Z",
     "shell.execute_reply": "2023-10-30T20:25:05.712462Z",
     "shell.execute_reply.started": "2023-10-30T20:25:05.279447Z"
    }
   },
   "outputs": [],
   "source": [
    "%%sh\n",
    "wget -q -O /tmp/400_rot.pdf  https://raw.githubusercontent.com/JohnSnowLabs/spark-nlp-workshop/master/tutorials/Certification_Trainings/Healthcare/data/ocr/400_rot.pdf"
   ]
  },
  {
   "cell_type": "code",
   "execution_count": 13,
   "metadata": {
    "execution": {
     "iopub.execute_input": "2023-10-30T20:25:05.714688Z",
     "iopub.status.busy": "2023-10-30T20:25:05.714439Z",
     "iopub.status.idle": "2023-10-30T20:25:07.804601Z",
     "shell.execute_reply": "2023-10-30T20:25:07.803769Z",
     "shell.execute_reply.started": "2023-10-30T20:25:05.714664Z"
    }
   },
   "outputs": [],
   "source": [
    "%%sh\n",
    "hdfs dfs -copyFromLocal /tmp/400_rot.pdf /user/hadoop/"
   ]
  },
  {
   "cell_type": "code",
   "execution_count": 14,
   "metadata": {
    "execution": {
     "iopub.execute_input": "2023-10-30T20:25:07.806033Z",
     "iopub.status.busy": "2023-10-30T20:25:07.805785Z",
     "iopub.status.idle": "2023-10-30T20:25:08.051992Z",
     "shell.execute_reply": "2023-10-30T20:25:08.051381Z",
     "shell.execute_reply.started": "2023-10-30T20:25:07.806009Z"
    }
   },
   "outputs": [
    {
     "data": {
      "application/vnd.jupyter.widget-view+json": {
       "model_id": "516c3656e7334a5a9528b8441ec99f01",
       "version_major": 2,
       "version_minor": 0
      },
      "text/plain": [
       "VBox()"
      ]
     },
     "metadata": {},
     "output_type": "display_data"
    },
    {
     "data": {
      "application/vnd.jupyter.widget-view+json": {
       "model_id": "",
       "version_major": 2,
       "version_minor": 0
      },
      "text/plain": [
       "FloatProgress(value=0.0, bar_style='info', description='Progress:', layout=Layout(height='25px', width='50%'),…"
      ]
     },
     "metadata": {},
     "output_type": "display_data"
    }
   ],
   "source": [
    "pdf_rotated_df = spark.read.format(\"binaryFile\").load('/user/hadoop/400_rot.pdf').cache()"
   ]
  },
  {
   "cell_type": "code",
   "execution_count": 15,
   "metadata": {
    "execution": {
     "iopub.execute_input": "2023-10-30T20:25:08.053134Z",
     "iopub.status.busy": "2023-10-30T20:25:08.052916Z",
     "iopub.status.idle": "2023-10-30T20:25:08.300846Z",
     "shell.execute_reply": "2023-10-30T20:25:08.300136Z",
     "shell.execute_reply.started": "2023-10-30T20:25:08.053112Z"
    }
   },
   "outputs": [
    {
     "data": {
      "application/vnd.jupyter.widget-view+json": {
       "model_id": "e691a3d0dd284700b2883126b487fb79",
       "version_major": 2,
       "version_minor": 0
      },
      "text/plain": [
       "VBox()"
      ]
     },
     "metadata": {},
     "output_type": "display_data"
    },
    {
     "data": {
      "application/vnd.jupyter.widget-view+json": {
       "model_id": "",
       "version_major": 2,
       "version_minor": 0
      },
      "text/plain": [
       "FloatProgress(value=0.0, bar_style='info', description='Progress:', layout=Layout(height='25px', width='50%'),…"
      ]
     },
     "metadata": {},
     "output_type": "display_data"
    }
   ],
   "source": [
    "pdf_pipeline = ocr_pipeline(False)\n",
    "\n",
    "result = pdf_pipeline.transform(pdf_rotated_df).cache()"
   ]
  },
  {
   "cell_type": "code",
   "execution_count": 16,
   "metadata": {
    "execution": {
     "iopub.execute_input": "2023-10-30T20:25:08.302035Z",
     "iopub.status.busy": "2023-10-30T20:25:08.301801Z",
     "iopub.status.idle": "2023-10-30T20:25:13.596585Z",
     "shell.execute_reply": "2023-10-30T20:25:13.595909Z",
     "shell.execute_reply.started": "2023-10-30T20:25:08.302011Z"
    }
   },
   "outputs": [
    {
     "data": {
      "application/vnd.jupyter.widget-view+json": {
       "model_id": "441560f0d55c4005a1271264c55dab04",
       "version_major": 2,
       "version_minor": 0
      },
      "text/plain": [
       "VBox()"
      ]
     },
     "metadata": {},
     "output_type": "display_data"
    },
    {
     "data": {
      "application/vnd.jupyter.widget-view+json": {
       "model_id": "",
       "version_major": 2,
       "version_minor": 0
      },
      "text/plain": [
       "FloatProgress(value=0.0, bar_style='info', description='Progress:', layout=Layout(height='25px', width='50%'),…"
      ]
     },
     "metadata": {},
     "output_type": "display_data"
    },
    {
     "name": "stdout",
     "output_type": "stream",
     "text": [
      "+--------------------+--------------------+-------+--------------------+-----------+-------+-----------+--------------------+-----------------+---------+--------------------+--------------------+\n",
      "|                path|    modificationTime| length|               image|total_pages|pagenum|documentnum|     corrected_image|       confidence|exception|                text|           positions|\n",
      "+--------------------+--------------------+-------+--------------------+-----------+-------+-----------+--------------------+-----------------+---------+--------------------+--------------------+\n",
      "|hdfs://ip-172-31-...|2023-10-30 20:25:...|2240141|{hdfs://ip-172-31...|          1|      0|          0|{hdfs://ip-172-31...|92.89510854085286|         |FOREWORD\\n\\nElect...|[{[{FOREWORD\\n\\n,...|\n",
      "+--------------------+--------------------+-------+--------------------+-----------+-------+-----------+--------------------+-----------------+---------+--------------------+--------------------+"
     ]
    }
   ],
   "source": [
    "result.show()"
   ]
  },
  {
   "cell_type": "code",
   "execution_count": 17,
   "metadata": {
    "execution": {
     "iopub.execute_input": "2023-10-30T20:25:13.597769Z",
     "iopub.status.busy": "2023-10-30T20:25:13.597548Z",
     "iopub.status.idle": "2023-10-30T20:25:13.846538Z",
     "shell.execute_reply": "2023-10-30T20:25:13.845909Z",
     "shell.execute_reply.started": "2023-10-30T20:25:13.597746Z"
    }
   },
   "outputs": [
    {
     "data": {
      "application/vnd.jupyter.widget-view+json": {
       "model_id": "8472d018dd2444808fd8a2622761515f",
       "version_major": 2,
       "version_minor": 0
      },
      "text/plain": [
       "VBox()"
      ]
     },
     "metadata": {},
     "output_type": "display_data"
    },
    {
     "data": {
      "application/vnd.jupyter.widget-view+json": {
       "model_id": "",
       "version_major": 2,
       "version_minor": 0
      },
      "text/plain": [
       "FloatProgress(value=0.0, bar_style='info', description='Progress:', layout=Layout(height='25px', width='50%'),…"
      ]
     },
     "metadata": {},
     "output_type": "display_data"
    },
    {
     "name": "stdout",
     "output_type": "stream",
     "text": [
      "0"
     ]
    }
   ],
   "source": [
    "result.select(\"pagenum\").collect()[0].pagenum"
   ]
  },
  {
   "cell_type": "code",
   "execution_count": 18,
   "metadata": {
    "execution": {
     "iopub.execute_input": "2023-10-30T20:25:13.847641Z",
     "iopub.status.busy": "2023-10-30T20:25:13.847418Z",
     "iopub.status.idle": "2023-10-30T20:25:14.096853Z",
     "shell.execute_reply": "2023-10-30T20:25:14.095984Z",
     "shell.execute_reply.started": "2023-10-30T20:25:13.847616Z"
    }
   },
   "outputs": [
    {
     "data": {
      "application/vnd.jupyter.widget-view+json": {
       "model_id": "2302da3e04d242bea85368ab9ba8434e",
       "version_major": 2,
       "version_minor": 0
      },
      "text/plain": [
       "VBox()"
      ]
     },
     "metadata": {},
     "output_type": "display_data"
    },
    {
     "data": {
      "application/vnd.jupyter.widget-view+json": {
       "model_id": "",
       "version_major": 2,
       "version_minor": 0
      },
      "text/plain": [
       "FloatProgress(value=0.0, bar_style='info', description='Progress:', layout=Layout(height='25px', width='50%'),…"
      ]
     },
     "metadata": {},
     "output_type": "display_data"
    },
    {
     "name": "stdout",
     "output_type": "stream",
     "text": [
      "\n",
      "    Image #0:\n",
      "    Origin: hdfs://ip-172-31-20-250.us-east-2.compute.internal:8020/user/hadoop/400_rot.pdf\n",
      "    Resolution: 100 dpi\n",
      "    Width: 826 px\n",
      "    Height: 1169 px\n",
      "    Mode: ImageType.TYPE_BYTE_GRAY\n",
      "    Number of channels: 1\n",
      "<PIL.Image.Image image mode=L size=826x1169 at 0x7FA9554D3D90>"
     ]
    }
   ],
   "source": [
    "display_image(result.select(\"image\").collect()[0].image)"
   ]
  },
  {
   "cell_type": "markdown",
   "metadata": {},
   "source": [
    "### Display recognized text without skew correction\n"
   ]
  },
  {
   "cell_type": "code",
   "execution_count": 19,
   "metadata": {
    "execution": {
     "iopub.execute_input": "2023-10-30T20:25:14.097920Z",
     "iopub.status.busy": "2023-10-30T20:25:14.097704Z",
     "iopub.status.idle": "2023-10-30T20:25:14.347138Z",
     "shell.execute_reply": "2023-10-30T20:25:14.346212Z",
     "shell.execute_reply.started": "2023-10-30T20:25:14.097897Z"
    }
   },
   "outputs": [
    {
     "data": {
      "application/vnd.jupyter.widget-view+json": {
       "model_id": "e80a0dc1afb24eaaa566ae26ce9648e0",
       "version_major": 2,
       "version_minor": 0
      },
      "text/plain": [
       "VBox()"
      ]
     },
     "metadata": {},
     "output_type": "display_data"
    },
    {
     "data": {
      "application/vnd.jupyter.widget-view+json": {
       "model_id": "",
       "version_major": 2,
       "version_minor": 0
      },
      "text/plain": [
       "FloatProgress(value=0.0, bar_style='info', description='Progress:', layout=Layout(height='25px', width='50%'),…"
      ]
     },
     "metadata": {},
     "output_type": "display_data"
    },
    {
     "name": "stdout",
     "output_type": "stream",
     "text": [
      "+-------+--------------------+-----------------+\n",
      "|pagenum|                text|       confidence|\n",
      "+-------+--------------------+-----------------+\n",
      "|      0|FOREWORD\\n\\nElect...|92.89510854085286|\n",
      "+-------+--------------------+-----------------+"
     ]
    }
   ],
   "source": [
    "result.select(\"pagenum\",\"text\", \"confidence\").show()"
   ]
  },
  {
   "cell_type": "code",
   "execution_count": 20,
   "metadata": {
    "execution": {
     "iopub.execute_input": "2023-10-30T20:25:14.348375Z",
     "iopub.status.busy": "2023-10-30T20:25:14.348090Z",
     "iopub.status.idle": "2023-10-30T20:25:14.597834Z",
     "shell.execute_reply": "2023-10-30T20:25:14.597044Z",
     "shell.execute_reply.started": "2023-10-30T20:25:14.348350Z"
    }
   },
   "outputs": [
    {
     "data": {
      "application/vnd.jupyter.widget-view+json": {
       "model_id": "4785135060214145aa7f34ca4b8e9eb6",
       "version_major": 2,
       "version_minor": 0
      },
      "text/plain": [
       "VBox()"
      ]
     },
     "metadata": {},
     "output_type": "display_data"
    },
    {
     "data": {
      "application/vnd.jupyter.widget-view+json": {
       "model_id": "",
       "version_major": 2,
       "version_minor": 0
      },
      "text/plain": [
       "FloatProgress(value=0.0, bar_style='info', description='Progress:', layout=Layout(height='25px', width='50%'),…"
      ]
     },
     "metadata": {},
     "output_type": "display_data"
    },
    {
     "name": "stdout",
     "output_type": "stream",
     "text": [
      "FOREWORD\n",
      "\n",
      "Electronic design engineers are the true idea men of the electronic\n",
      "industries. They create ideas and use them in their designs, they stimu-\n",
      "late ideas in other designers, and they borrow and adapt ideas from\n",
      "others. One could almost say they feed on and grow on ideas,\n",
      "\n",
      "torial content has reflected this awareness. Each issue is literally a col-\n",
      "lection of useful ideas. In one section, however, special attention has\n",
      "\n",
      "unique, ingenious, and often very simple ideas that readers have found\n",
      "useful, sometimes as parts of larger designs and sometimes as aids in\n",
      "\n",
      "To encourage this exchange of ideas, ELECTRONIC DESIGN\n",
      "has been sponsoring an IFD Award program. Readers are asked to\n",
      "vote on the ideas they find most useful in the IFD section of\n",
      "ELECTRONIC DESIGN. Awards are made to the idea getting the\n",
      "most votes in an issue, and from the issue winners a grand prize of\n",
      "$1,000 is awarded for the best “Idea of the Year.”\n",
      "\n",
      "It is difficult to categorize ideas for designers; they are often\n",
      "useable in situations not originally considered by the user (or the cate-\n",
      "\n",
      "February 1964\n",
      "New York EDWARD E, GRAZDA\n",
      "\n",
      "Editorial Director\n",
      "ELECTRONIC DESIGN\n",
      "\n",
      "vii"
     ]
    }
   ],
   "source": [
    "print(\"\\n\".join([row.text for row in result.select(\"text\").collect()]))"
   ]
  },
  {
   "cell_type": "markdown",
   "metadata": {},
   "source": [
    "### Display results with skew correction"
   ]
  },
  {
   "cell_type": "code",
   "execution_count": 21,
   "metadata": {
    "execution": {
     "iopub.execute_input": "2023-10-30T20:25:14.598967Z",
     "iopub.status.busy": "2023-10-30T20:25:14.598749Z",
     "iopub.status.idle": "2023-10-30T20:25:17.870605Z",
     "shell.execute_reply": "2023-10-30T20:25:17.869967Z",
     "shell.execute_reply.started": "2023-10-30T20:25:14.598944Z"
    }
   },
   "outputs": [
    {
     "data": {
      "application/vnd.jupyter.widget-view+json": {
       "model_id": "afcc075fb3594dd0b2028a8a0d67c0d3",
       "version_major": 2,
       "version_minor": 0
      },
      "text/plain": [
       "VBox()"
      ]
     },
     "metadata": {},
     "output_type": "display_data"
    },
    {
     "data": {
      "application/vnd.jupyter.widget-view+json": {
       "model_id": "",
       "version_major": 2,
       "version_minor": 0
      },
      "text/plain": [
       "FloatProgress(value=0.0, bar_style='info', description='Progress:', layout=Layout(height='25px', width='50%'),…"
      ]
     },
     "metadata": {},
     "output_type": "display_data"
    },
    {
     "name": "stdout",
     "output_type": "stream",
     "text": [
      "FOREWORD\n",
      "\n",
      "Electronic design engineers are the true idea men of the electronic\n",
      "industries. They create ideas and use them in their designs, they stimu-\n",
      "late ideas in other designers, and they borrow and adapt ideas from\n",
      "others. One could almost say they feed on and grow on ideas.\n",
      "\n",
      "ELECTRONIG DESIGN has recognized this need and its edi-\n",
      "torial content has reflected this awareness. Each issue is literally a cal-\n",
      "lection of useful ideas. In one section, however, special attention has\n",
      "been devoted to providing a forum for the exchange of ideas between\n",
      "readers~a section called “Ideas For Design.” Here are presented clever,\n",
      "unique, ingenious, and often very simple ideas that readers have found\n",
      "useful, sometimes as parts of larger designs and sometimes as aids in\n",
      "measuring the parameters or testing the effectiveness of their designs.\n",
      "Many are quite simple “little” ideas, but experienced designers know\n",
      "that good little ideas make the good large design possible.\n",
      "\n",
      "To encourage this exchange of ideas, ELECTRONIC DESIGN\n",
      "has been sponsoring an IFD Award program. Readers are asked to\n",
      "vote on the ideas they find most useful in the IFD section of\n",
      "ELECTRONIC DESIGN. Awards are made to the idea getting the\n",
      "most votes in an issue, and from the issue winners a grand prize of\n",
      "$1,000 is awarded for the best “Idea of the Year.”\n",
      "\n",
      "For the past four years, we have been selecting 100 of the best\n",
      "ideas and making them available in an annnal booklet, arranged by\n",
      "category for the convenience of readers, Four volumes have appeared\n",
      "in this series, and now, in response to many requests we have com-\n",
      "bined these four volumes into a convenient, more durable book, The\n",
      "ideas have been rearranged under specific categories, making for a very\n",
      "handy reference book, suitable for a desk or library shelf.\n",
      "\n",
      "It is difficult to categorize ideas for designers, they are often\n",
      "useable in situations not originally considered by the user (or the cate-\n",
      "gorizer). Therefore, the reader may not agree with our choice, or worse\n",
      "still, he may miss a good idea because it did not appear under the cate-\n",
      "gory to which he felt it belonged. If the former be the case, we wel-\n",
      "come comments and suggestions for arrangement of future volumes.\n",
      "To avoid the latter possibility, we suggest at least cursory perusal of\n",
      "all categories~you may be pleasantly surprised at what you find,\n",
      "\n",
      "February 1964\n",
      "New York EDWARD E. GRAZDA\n",
      "Editorial Director\n",
      "ELECTRONIC DESIGN\n",
      "\n",
      "vii"
     ]
    }
   ],
   "source": [
    "pdf_pipeline_corrected = ocr_pipeline(True)\n",
    "\n",
    "corrected_result = pdf_pipeline_corrected.transform(pdf_rotated_df).cache()\n",
    "\n",
    "print(\"\\n\".join([row.text for row in corrected_result.select(\"text\").collect()]))\n"
   ]
  },
  {
   "cell_type": "code",
   "execution_count": 22,
   "metadata": {
    "execution": {
     "iopub.execute_input": "2023-10-30T20:25:17.871733Z",
     "iopub.status.busy": "2023-10-30T20:25:17.871515Z",
     "iopub.status.idle": "2023-10-30T20:25:18.115721Z",
     "shell.execute_reply": "2023-10-30T20:25:18.115097Z",
     "shell.execute_reply.started": "2023-10-30T20:25:17.871711Z"
    }
   },
   "outputs": [
    {
     "data": {
      "application/vnd.jupyter.widget-view+json": {
       "model_id": "31aa501c73ab4a09b8ba648d135f2426",
       "version_major": 2,
       "version_minor": 0
      },
      "text/plain": [
       "VBox()"
      ]
     },
     "metadata": {},
     "output_type": "display_data"
    },
    {
     "data": {
      "application/vnd.jupyter.widget-view+json": {
       "model_id": "",
       "version_major": 2,
       "version_minor": 0
      },
      "text/plain": [
       "FloatProgress(value=0.0, bar_style='info', description='Progress:', layout=Layout(height='25px', width='50%'),…"
      ]
     },
     "metadata": {},
     "output_type": "display_data"
    },
    {
     "name": "stdout",
     "output_type": "stream",
     "text": [
      "+-------+--------------------+-----------------+\n",
      "|pagenum|                text|       confidence|\n",
      "+-------+--------------------+-----------------+\n",
      "|      0|FOREWORD\\n\\nElect...|92.86057472229004|\n",
      "+-------+--------------------+-----------------+"
     ]
    }
   ],
   "source": [
    "corrected_result.select(\"pagenum\",\"text\", \"confidence\").show()\n"
   ]
  },
  {
   "cell_type": "markdown",
   "metadata": {},
   "source": [
    "### Display skew corrected images"
   ]
  },
  {
   "cell_type": "code",
   "execution_count": 23,
   "metadata": {
    "execution": {
     "iopub.execute_input": "2023-10-30T20:25:18.125476Z",
     "iopub.status.busy": "2023-10-30T20:25:18.122223Z",
     "iopub.status.idle": "2023-10-30T20:25:18.379032Z",
     "shell.execute_reply": "2023-10-30T20:25:18.378357Z",
     "shell.execute_reply.started": "2023-10-30T20:25:18.125449Z"
    }
   },
   "outputs": [
    {
     "data": {
      "application/vnd.jupyter.widget-view+json": {
       "model_id": "6b4779eab9bc4a9587e93c43d2ef553d",
       "version_major": 2,
       "version_minor": 0
      },
      "text/plain": [
       "VBox()"
      ]
     },
     "metadata": {},
     "output_type": "display_data"
    },
    {
     "data": {
      "application/vnd.jupyter.widget-view+json": {
       "model_id": "",
       "version_major": 2,
       "version_minor": 0
      },
      "text/plain": [
       "FloatProgress(value=0.0, bar_style='info', description='Progress:', layout=Layout(height='25px', width='50%'),…"
      ]
     },
     "metadata": {},
     "output_type": "display_data"
    },
    {
     "name": "stdout",
     "output_type": "stream",
     "text": [
      "\n",
      "    Image #0:\n",
      "    Origin: hdfs://ip-172-31-20-250.us-east-2.compute.internal:8020/user/hadoop/400_rot.pdf\n",
      "    Resolution: 100 dpi\n",
      "    Width: 866 px\n",
      "    Height: 1197 px\n",
      "    Mode: ImageType.TYPE_BYTE_GRAY\n",
      "    Number of channels: 1\n",
      "<PIL.Image.Image image mode=L size=866x1197 at 0x7FA9554DC110>"
     ]
    }
   ],
   "source": [
    "display_image(corrected_result.select(\"corrected_image\").collect()[0].corrected_image)"
   ]
  },
  {
   "cell_type": "markdown",
   "metadata": {},
   "source": [
    "### Compute score and compare\n",
    "Read original text and calculate scores for both results."
   ]
  },
  {
   "cell_type": "code",
   "execution_count": 24,
   "metadata": {
    "execution": {
     "iopub.execute_input": "2023-10-30T20:25:18.381701Z",
     "iopub.status.busy": "2023-10-30T20:25:18.381464Z",
     "iopub.status.idle": "2023-10-30T20:25:18.512373Z",
     "shell.execute_reply": "2023-10-30T20:25:18.511306Z",
     "shell.execute_reply.started": "2023-10-30T20:25:18.381678Z"
    }
   },
   "outputs": [],
   "source": [
    "%%sh\n",
    "wget -q -O /tmp/400.txt   https://raw.githubusercontent.com/JohnSnowLabs/spark-nlp-workshop/master/tutorials/Certification_Trainings/Healthcare/data/ocr/400.txt"
   ]
  },
  {
   "cell_type": "code",
   "execution_count": 25,
   "metadata": {
    "execution": {
     "iopub.execute_input": "2023-10-30T20:25:18.513956Z",
     "iopub.status.busy": "2023-10-30T20:25:18.513693Z",
     "iopub.status.idle": "2023-10-30T20:25:20.585088Z",
     "shell.execute_reply": "2023-10-30T20:25:20.584264Z",
     "shell.execute_reply.started": "2023-10-30T20:25:18.513928Z"
    }
   },
   "outputs": [],
   "source": [
    "%%sh\n",
    "hdfs dfs -copyFromLocal /tmp/400.txt  /user/hadoop/400_1.txt"
   ]
  },
  {
   "cell_type": "code",
   "execution_count": 26,
   "metadata": {
    "execution": {
     "iopub.execute_input": "2023-10-30T20:25:20.586370Z",
     "iopub.status.busy": "2023-10-30T20:25:20.586133Z",
     "iopub.status.idle": "2023-10-30T20:25:22.491450Z",
     "shell.execute_reply": "2023-10-30T20:25:22.490573Z",
     "shell.execute_reply.started": "2023-10-30T20:25:20.586346Z"
    }
   },
   "outputs": [
    {
     "name": "stdout",
     "output_type": "stream",
     "text": [
      "Found 3 items\n",
      "-rw-r--r--   1 emr-notebook hdfsadmingroup       2669 2023-10-30 20:25 /user/hadoop/400_1.txt\n",
      "-rw-r--r--   1 emr-notebook hdfsadmingroup    2240141 2023-10-30 20:25 /user/hadoop/400_rot.pdf\n",
      "-rw-r--r--   1 emr-notebook hdfsadmingroup     212973 2023-10-30 20:24 /user/hadoop/sample.pdf\n"
     ]
    }
   ],
   "source": [
    "%%sh\n",
    "hdfs dfs -ls  /user/hadoop/"
   ]
  },
  {
   "cell_type": "code",
   "execution_count": 27,
   "metadata": {
    "execution": {
     "iopub.execute_input": "2023-10-30T20:25:22.493483Z",
     "iopub.status.busy": "2023-10-30T20:25:22.493114Z",
     "iopub.status.idle": "2023-10-30T20:25:22.754284Z",
     "shell.execute_reply": "2023-10-30T20:25:22.753634Z",
     "shell.execute_reply.started": "2023-10-30T20:25:22.493443Z"
    }
   },
   "outputs": [
    {
     "data": {
      "application/vnd.jupyter.widget-view+json": {
       "model_id": "109d7e06dde34687af4f92b905b5bb50",
       "version_major": 2,
       "version_minor": 0
      },
      "text/plain": [
       "VBox()"
      ]
     },
     "metadata": {},
     "output_type": "display_data"
    },
    {
     "data": {
      "application/vnd.jupyter.widget-view+json": {
       "model_id": "",
       "version_major": 2,
       "version_minor": 0
      },
      "text/plain": [
       "FloatProgress(value=0.0, bar_style='info', description='Progress:', layout=Layout(height='25px', width='50%'),…"
      ]
     },
     "metadata": {},
     "output_type": "display_data"
    }
   ],
   "source": [
    "pdf_rotated_text = spark.read.text('/user/hadoop/400_1.txt')"
   ]
  },
  {
   "cell_type": "code",
   "execution_count": 28,
   "metadata": {
    "execution": {
     "iopub.execute_input": "2023-10-30T20:25:22.755400Z",
     "iopub.status.busy": "2023-10-30T20:25:22.755186Z",
     "iopub.status.idle": "2023-10-30T20:25:22.999691Z",
     "shell.execute_reply": "2023-10-30T20:25:22.999054Z",
     "shell.execute_reply.started": "2023-10-30T20:25:22.755378Z"
    }
   },
   "outputs": [
    {
     "data": {
      "application/vnd.jupyter.widget-view+json": {
       "model_id": "fcece5c1cf8f49c4a8839074d305e0d2",
       "version_major": 2,
       "version_minor": 0
      },
      "text/plain": [
       "VBox()"
      ]
     },
     "metadata": {},
     "output_type": "display_data"
    },
    {
     "data": {
      "application/vnd.jupyter.widget-view+json": {
       "model_id": "",
       "version_major": 2,
       "version_minor": 0
      },
      "text/plain": [
       "FloatProgress(value=0.0, bar_style='info', description='Progress:', layout=Layout(height='25px', width='50%'),…"
      ]
     },
     "metadata": {},
     "output_type": "display_data"
    }
   ],
   "source": [
    "df = pdf_rotated_text.toPandas()"
   ]
  },
  {
   "cell_type": "code",
   "execution_count": 29,
   "metadata": {
    "execution": {
     "iopub.execute_input": "2023-10-30T20:25:23.000940Z",
     "iopub.status.busy": "2023-10-30T20:25:23.000590Z",
     "iopub.status.idle": "2023-10-30T20:25:23.042808Z",
     "shell.execute_reply": "2023-10-30T20:25:23.042183Z",
     "shell.execute_reply.started": "2023-10-30T20:25:23.000917Z"
    }
   },
   "outputs": [
    {
     "data": {
      "application/vnd.jupyter.widget-view+json": {
       "model_id": "a0e80f9430df49d3b75b9341efeace55",
       "version_major": 2,
       "version_minor": 0
      },
      "text/plain": [
       "VBox()"
      ]
     },
     "metadata": {},
     "output_type": "display_data"
    },
    {
     "data": {
      "application/vnd.jupyter.widget-view+json": {
       "model_id": "",
       "version_major": 2,
       "version_minor": 0
      },
      "text/plain": [
       "FloatProgress(value=0.0, bar_style='info', description='Progress:', layout=Layout(height='25px', width='50%'),…"
      ]
     },
     "metadata": {},
     "output_type": "display_data"
    },
    {
     "name": "stdout",
     "output_type": "stream",
     "text": [
      "FOREWORD\n",
      "Electronic design engineers are the true idea men of the electronic\n",
      "industries. They create ideas and use them in their designs, they stimu-\n",
      "late ideas in other designers, and they borrow and adapt ideas from\n",
      "others. One could almost say they feed on and grow on ideas.\n",
      "\n",
      "ELECTRONIC DESIGN has recognized this need and its edi-\n",
      "torial content has reflected this awareness. Each issue is literally a col-\n",
      "lection of useful ideas. In one section, however, special attention has\n",
      "been devoted to providing a forum for the exchange of ideas between\n",
      "readers—a section called “Ideas For Design.” Here are presented clever,\n",
      "unique, ingenious, and often very simple ideas that readers have found\n",
      "useful, sometimes as parts of larger designs and sometimes as aids in\n",
      "measuring the parameters or testing the effectiveness of their designs.\n",
      "Many are quite simple “little” ideas, but experienced designers know\n",
      "that good little ideas make the good large design possible.\n",
      "\n",
      "To encourage this exchange of ideas, ELECTRONIC DESIGN\n",
      "has been sponsoring an IFD Award program. Readers are asked to\n",
      "vote on the ideas they find most useful in the IFD section of\n",
      "ELECTRONIC DESIGN. Awards are made to the idea getting the\n",
      "most votes in an issue, and from the issue winners a grand prize of\n",
      "$1.000 is awarded for the best “Idea of the Year.”\n",
      "\n",
      "For the past four years, we have been selecting 100 of the best\n",
      "ideas and making them available in an annual booklet, arranged by\n",
      "category for the convenience of readers. Four volumes have appeared\n",
      "in this series, and now, in response to many requests we have com-\n",
      "bined these four volumes into a convenient, more durable book. The\n",
      "ideas have been rearranged under specific categories, making for a very\n",
      "handy reference book, suitable for a desk or library shelf.\n",
      "\n",
      "It is diflicult to categorize ideas for designers; they are often\n",
      "useable in situations not originally considered by the user (or the cate-\n",
      "gorizer ). Therefore, the reader may not agree with our choice, or worse\n",
      "still, he may miss a good idea because it did not appear under the cate-\n",
      "gory to which he felt it belonged. If the former be the case, we wel-\n",
      "come comments and suggestions for arrangement of future volumes.\n",
      "To avoid the latter possibility, we suggest at least cursory perusal of\n",
      "all categories—you may be pleasantly surprised at what you find.\n",
      "\n",
      "February 1964\n",
      "New York \n",
      "\n",
      "EDWARD E. GRAZDA\n",
      "Editorial Director\n",
      "ELECTRONIC DESIGN\n",
      "\n",
      "\n",
      "\n",
      "\n",
      "['A .',\n",
      " 'Record date : <DATE>  , <DOCTOR> , M.D .',\n",
      " ', Name : <PATIENT> , <PATIENT> MR .',\n",
      " '# <MEDICALRECORD> Date : <DATE> PCP : <DOCTOR> , 25 month years-old , Record date : <DATE> .',\n",
      " '<HOSPITAL> .',\n",
      " '<STREET>']"
     ]
    }
   ],
   "source": [
    "with open('400_1.txt', 'w') as file:\n",
    "    for i in range(len(df)):\n",
    "        file.write(df['value'].iloc[i]+'\\n')\n",
    "with open('400_1.txt', 'r') as file:\n",
    "    print(file.read())"
   ]
  },
  {
   "cell_type": "code",
   "execution_count": 30,
   "metadata": {
    "execution": {
     "iopub.execute_input": "2023-10-30T20:25:23.043909Z",
     "iopub.status.busy": "2023-10-30T20:25:23.043688Z",
     "iopub.status.idle": "2023-10-30T20:25:23.796122Z",
     "shell.execute_reply": "2023-10-30T20:25:23.795494Z",
     "shell.execute_reply.started": "2023-10-30T20:25:23.043887Z"
    }
   },
   "outputs": [
    {
     "data": {
      "application/vnd.jupyter.widget-view+json": {
       "model_id": "fdb1906f8119451f8d6c722bbb478921",
       "version_major": 2,
       "version_minor": 0
      },
      "text/plain": [
       "VBox()"
      ]
     },
     "metadata": {},
     "output_type": "display_data"
    },
    {
     "data": {
      "application/vnd.jupyter.widget-view+json": {
       "model_id": "",
       "version_major": 2,
       "version_minor": 0
      },
      "text/plain": [
       "FloatProgress(value=0.0, bar_style='info', description='Progress:', layout=Layout(height='25px', width='50%'),…"
      ]
     },
     "metadata": {},
     "output_type": "display_data"
    },
    {
     "name": "stdout",
     "output_type": "stream",
     "text": [
      "Score without skew correction: 0.6008403361344538\n",
      "Score with skew correction: 0.9502458210422812"
     ]
    }
   ],
   "source": [
    "detected = \"\\n\".join([row.text for row in result.collect()])\n",
    "corrected_detected = \"\\n\".join([row.text for row in corrected_result.collect()])\n",
    "\n",
    "# read original text\n",
    "pdf_rotated_text = open('400_1.txt', \"r\").read()\n",
    "\n",
    "# compute scores\n",
    "detected_score = score(pdf_rotated_text, detected)\n",
    "corrected_score = score(pdf_rotated_text, corrected_detected)\n",
    "\n",
    "#  print scores\n",
    "print(\"Score without skew correction: {0}\".format(detected_score))\n",
    "print(\"Score with skew correction: {0}\".format(corrected_score))"
   ]
  },
  {
   "cell_type": "markdown",
   "metadata": {},
   "source": [
    "## Reading multiple pdfs from folder"
   ]
  },
  {
   "cell_type": "code",
   "execution_count": 31,
   "metadata": {
    "execution": {
     "iopub.execute_input": "2023-10-30T20:25:23.797328Z",
     "iopub.status.busy": "2023-10-30T20:25:23.797092Z",
     "iopub.status.idle": "2023-10-30T20:25:24.546647Z",
     "shell.execute_reply": "2023-10-30T20:25:24.545824Z",
     "shell.execute_reply.started": "2023-10-30T20:25:23.797305Z"
    }
   },
   "outputs": [
    {
     "data": {
      "application/vnd.jupyter.widget-view+json": {
       "model_id": "008393ee17cb482b9f9b799fdfee6b99",
       "version_major": 2,
       "version_minor": 0
      },
      "text/plain": [
       "VBox()"
      ]
     },
     "metadata": {},
     "output_type": "display_data"
    },
    {
     "data": {
      "application/vnd.jupyter.widget-view+json": {
       "model_id": "",
       "version_major": 2,
       "version_minor": 0
      },
      "text/plain": [
       "FloatProgress(value=0.0, bar_style='info', description='Progress:', layout=Layout(height='25px', width='50%'),…"
      ]
     },
     "metadata": {},
     "output_type": "display_data"
    },
    {
     "name": "stdout",
     "output_type": "stream",
     "text": [
      "2"
     ]
    }
   ],
   "source": [
    "pdf_path = \"/user/hadoop/*.pdf\"\n",
    "\n",
    "pdfs = spark.read.format(\"binaryFile\").load(pdf_path).cache()\n",
    "#images = spark.read.format(\"binaryFile\").load('text_with_noise.png').cache()\n",
    "\n",
    "pdfs.count()"
   ]
  },
  {
   "cell_type": "code",
   "execution_count": 32,
   "metadata": {
    "execution": {
     "iopub.execute_input": "2023-10-30T20:25:24.548411Z",
     "iopub.status.busy": "2023-10-30T20:25:24.548012Z",
     "iopub.status.idle": "2023-10-30T20:25:24.594089Z",
     "shell.execute_reply": "2023-10-30T20:25:24.593465Z",
     "shell.execute_reply.started": "2023-10-30T20:25:24.548368Z"
    }
   },
   "outputs": [
    {
     "data": {
      "application/vnd.jupyter.widget-view+json": {
       "model_id": "12a27f9c22854c39b0e2eb35c8b31674",
       "version_major": 2,
       "version_minor": 0
      },
      "text/plain": [
       "VBox()"
      ]
     },
     "metadata": {},
     "output_type": "display_data"
    },
    {
     "data": {
      "application/vnd.jupyter.widget-view+json": {
       "model_id": "",
       "version_major": 2,
       "version_minor": 0
      },
      "text/plain": [
       "FloatProgress(value=0.0, bar_style='info', description='Progress:', layout=Layout(height='25px', width='50%'),…"
      ]
     },
     "metadata": {},
     "output_type": "display_data"
    }
   ],
   "source": [
    "# Transforrm PDF document to images per page\n",
    "pdf_to_image = PdfToImage()\\\n",
    "      .setInputCol(\"content\")\\\n",
    "      .setOutputCol(\"image\")\\\n",
    "      .setResolution(100)\n",
    "\n",
    "# Run OCR\n",
    "ocr = ImageToText()\\\n",
    "      .setInputCol(\"image\")\\\n",
    "      .setOutputCol(\"text\")\\\n",
    "      .setConfidenceThreshold(65)\\\n",
    "      .setIgnoreResolution(False)\n",
    "\n",
    "ocr_pipeline = PipelineModel(stages=[\n",
    "    pdf_to_image,\n",
    "    ocr\n",
    "])\n"
   ]
  },
  {
   "cell_type": "code",
   "execution_count": 33,
   "metadata": {
    "execution": {
     "iopub.execute_input": "2023-10-30T20:25:24.595189Z",
     "iopub.status.busy": "2023-10-30T20:25:24.594973Z",
     "iopub.status.idle": "2023-10-30T20:25:24.838643Z",
     "shell.execute_reply": "2023-10-30T20:25:24.837939Z",
     "shell.execute_reply.started": "2023-10-30T20:25:24.595167Z"
    }
   },
   "outputs": [
    {
     "data": {
      "application/vnd.jupyter.widget-view+json": {
       "model_id": "cc7a325175f2466291ca055e7c480730",
       "version_major": 2,
       "version_minor": 0
      },
      "text/plain": [
       "VBox()"
      ]
     },
     "metadata": {},
     "output_type": "display_data"
    },
    {
     "data": {
      "application/vnd.jupyter.widget-view+json": {
       "model_id": "",
       "version_major": 2,
       "version_minor": 0
      },
      "text/plain": [
       "FloatProgress(value=0.0, bar_style='info', description='Progress:', layout=Layout(height='25px', width='50%'),…"
      ]
     },
     "metadata": {},
     "output_type": "display_data"
    }
   ],
   "source": [
    "results = ocr_pipeline.transform(pdfs)"
   ]
  },
  {
   "cell_type": "code",
   "execution_count": 34,
   "metadata": {
    "execution": {
     "iopub.execute_input": "2023-10-30T20:25:24.839773Z",
     "iopub.status.busy": "2023-10-30T20:25:24.839549Z",
     "iopub.status.idle": "2023-10-30T20:25:24.879624Z",
     "shell.execute_reply": "2023-10-30T20:25:24.879033Z",
     "shell.execute_reply.started": "2023-10-30T20:25:24.839750Z"
    }
   },
   "outputs": [
    {
     "data": {
      "application/vnd.jupyter.widget-view+json": {
       "model_id": "68394b01ad8441d38ec70d6d2b46b587",
       "version_major": 2,
       "version_minor": 0
      },
      "text/plain": [
       "VBox()"
      ]
     },
     "metadata": {},
     "output_type": "display_data"
    },
    {
     "data": {
      "application/vnd.jupyter.widget-view+json": {
       "model_id": "",
       "version_major": 2,
       "version_minor": 0
      },
      "text/plain": [
       "FloatProgress(value=0.0, bar_style='info', description='Progress:', layout=Layout(height='25px', width='50%'),…"
      ]
     },
     "metadata": {},
     "output_type": "display_data"
    },
    {
     "name": "stdout",
     "output_type": "stream",
     "text": [
      "['path', 'modificationTime', 'length', 'image', 'total_pages', 'pagenum', 'documentnum', 'confidence', 'exception', 'text', 'positions']"
     ]
    }
   ],
   "source": [
    "results.columns"
   ]
  },
  {
   "cell_type": "code",
   "execution_count": 35,
   "metadata": {
    "execution": {
     "iopub.execute_input": "2023-10-30T20:25:24.880739Z",
     "iopub.status.busy": "2023-10-30T20:25:24.880521Z",
     "iopub.status.idle": "2023-10-30T20:25:28.166399Z",
     "shell.execute_reply": "2023-10-30T20:25:28.165767Z",
     "shell.execute_reply.started": "2023-10-30T20:25:24.880718Z"
    }
   },
   "outputs": [
    {
     "data": {
      "application/vnd.jupyter.widget-view+json": {
       "model_id": "8576265ec4464bc7908968ec191fad8e",
       "version_major": 2,
       "version_minor": 0
      },
      "text/plain": [
       "VBox()"
      ]
     },
     "metadata": {},
     "output_type": "display_data"
    },
    {
     "data": {
      "application/vnd.jupyter.widget-view+json": {
       "model_id": "",
       "version_major": 2,
       "version_minor": 0
      },
      "text/plain": [
       "FloatProgress(value=0.0, bar_style='info', description='Progress:', layout=Layout(height='25px', width='50%'),…"
      ]
     },
     "metadata": {},
     "output_type": "display_data"
    },
    {
     "name": "stdout",
     "output_type": "stream",
     "text": [
      "+--------------------+-----------------+--------------------+\n",
      "|                path|       confidence|                text|\n",
      "+--------------------+-----------------+--------------------+\n",
      "|hdfs://ip-172-31-...|92.89510854085286|FOREWORD\\n\\nElect...|\n",
      "|hdfs://ip-172-31-...|89.96996718186598|digital RE.\\n\\nAS...|\n",
      "+--------------------+-----------------+--------------------+"
     ]
    }
   ],
   "source": [
    "results.select('path','confidence','text').show()"
   ]
  },
  {
   "cell_type": "markdown",
   "metadata": {},
   "source": [
    "### Recognize text from PDFs and store results to PDF with text layout"
   ]
  },
  {
   "cell_type": "code",
   "execution_count": 36,
   "metadata": {
    "execution": {
     "iopub.execute_input": "2023-10-30T20:25:28.167499Z",
     "iopub.status.busy": "2023-10-30T20:25:28.167282Z",
     "iopub.status.idle": "2023-10-30T20:25:28.410712Z",
     "shell.execute_reply": "2023-10-30T20:25:28.410106Z",
     "shell.execute_reply.started": "2023-10-30T20:25:28.167477Z"
    }
   },
   "outputs": [
    {
     "data": {
      "application/vnd.jupyter.widget-view+json": {
       "model_id": "21a556139a5b405fbfac98e4f5e35744",
       "version_major": 2,
       "version_minor": 0
      },
      "text/plain": [
       "VBox()"
      ]
     },
     "metadata": {},
     "output_type": "display_data"
    },
    {
     "data": {
      "application/vnd.jupyter.widget-view+json": {
       "model_id": "",
       "version_major": 2,
       "version_minor": 0
      },
      "text/plain": [
       "FloatProgress(value=0.0, bar_style='info', description='Progress:', layout=Layout(height='25px', width='50%'),…"
      ]
     },
     "metadata": {},
     "output_type": "display_data"
    }
   ],
   "source": [
    "from sparkocr.utils import display_pdf_file\n",
    "\n",
    "# Transforrm PDF document to images per page\n",
    "pdf_to_image = PdfToImage() \\\n",
    "    .setInputCol(\"content\") \\\n",
    "    .setOutputCol(\"image\") \\\n",
    "    .setResolution(100)\n",
    "\n",
    "# Run OCR and render results to PDF\n",
    "ocr = ImageToTextPdf() \\\n",
    "    .setInputCol(\"image\") \\\n",
    "    .setOutputCol(\"pdf_page\")\n",
    "\n",
    "# Assemble multipage PDF\n",
    "pdf_assembler = PdfAssembler() \\\n",
    "    .setInputCol(\"pdf_page\") \\\n",
    "    .setOutputCol(\"pdf\")\n",
    "\n",
    "pdf_pipeline = PipelineModel(stages=[\n",
    "    pdf_to_image,\n",
    "    ocr,\n",
    "    pdf_assembler\n",
    "])"
   ]
  },
  {
   "cell_type": "code",
   "execution_count": 37,
   "metadata": {
    "execution": {
     "iopub.execute_input": "2023-10-30T20:25:28.411815Z",
     "iopub.status.busy": "2023-10-30T20:25:28.411596Z",
     "iopub.status.idle": "2023-10-30T20:25:28.965703Z",
     "shell.execute_reply": "2023-10-30T20:25:28.964797Z",
     "shell.execute_reply.started": "2023-10-30T20:25:28.411792Z"
    }
   },
   "outputs": [],
   "source": [
    "%%sh\n",
    "wget -q -O /tmp/sample_doc.pdf http://www.asx.com.au/asxpdf/20171103/pdf/43nyyw9r820c6r.pdf"
   ]
  },
  {
   "cell_type": "code",
   "execution_count": 38,
   "metadata": {
    "execution": {
     "iopub.execute_input": "2023-10-30T20:25:28.967111Z",
     "iopub.status.busy": "2023-10-30T20:25:28.966869Z",
     "iopub.status.idle": "2023-10-30T20:25:31.160766Z",
     "shell.execute_reply": "2023-10-30T20:25:31.159938Z",
     "shell.execute_reply.started": "2023-10-30T20:25:28.967086Z"
    }
   },
   "outputs": [],
   "source": [
    "%%sh\n",
    "hdfs dfs -copyFromLocal /tmp/sample_doc.pdf /user/hadoop/"
   ]
  },
  {
   "cell_type": "code",
   "execution_count": 39,
   "metadata": {
    "execution": {
     "iopub.execute_input": "2023-10-30T20:25:31.162417Z",
     "iopub.status.busy": "2023-10-30T20:25:31.162074Z",
     "iopub.status.idle": "2023-10-30T20:25:31.413393Z",
     "shell.execute_reply": "2023-10-30T20:25:31.412535Z",
     "shell.execute_reply.started": "2023-10-30T20:25:31.162376Z"
    }
   },
   "outputs": [
    {
     "data": {
      "application/vnd.jupyter.widget-view+json": {
       "model_id": "3aebb82f409243f1b3d84d789ce5fe13",
       "version_major": 2,
       "version_minor": 0
      },
      "text/plain": [
       "VBox()"
      ]
     },
     "metadata": {},
     "output_type": "display_data"
    },
    {
     "data": {
      "application/vnd.jupyter.widget-view+json": {
       "model_id": "",
       "version_major": 2,
       "version_minor": 0
      },
      "text/plain": [
       "FloatProgress(value=0.0, bar_style='info', description='Progress:', layout=Layout(height='25px', width='50%'),…"
      ]
     },
     "metadata": {},
     "output_type": "display_data"
    }
   ],
   "source": [
    "pdf = '/user/hadoop/sample_doc.pdf'\n",
    "pdf_example_df = spark.read.format(\"binaryFile\").load(pdf).cache()"
   ]
  },
  {
   "cell_type": "code",
   "execution_count": 40,
   "metadata": {
    "execution": {
     "iopub.execute_input": "2023-10-30T20:25:31.414987Z",
     "iopub.status.busy": "2023-10-30T20:25:31.414632Z",
     "iopub.status.idle": "2023-10-30T20:25:32.172357Z",
     "shell.execute_reply": "2023-10-30T20:25:32.171413Z",
     "shell.execute_reply.started": "2023-10-30T20:25:31.414947Z"
    }
   },
   "outputs": [
    {
     "data": {
      "application/vnd.jupyter.widget-view+json": {
       "model_id": "5b5a0ad67aca41489c6efb0f5a0a0fad",
       "version_major": 2,
       "version_minor": 0
      },
      "text/plain": [
       "VBox()"
      ]
     },
     "metadata": {},
     "output_type": "display_data"
    },
    {
     "data": {
      "application/vnd.jupyter.widget-view+json": {
       "model_id": "",
       "version_major": 2,
       "version_minor": 0
      },
      "text/plain": [
       "FloatProgress(value=0.0, bar_style='info', description='Progress:', layout=Layout(height='25px', width='50%'),…"
      ]
     },
     "metadata": {},
     "output_type": "display_data"
    },
    {
     "name": "stdout",
     "output_type": "stream",
     "text": [
      "+--------------------+--------------------+------+--------------------+\n",
      "|                path|    modificationTime|length|             content|\n",
      "+--------------------+--------------------+------+--------------------+\n",
      "|hdfs://ip-172-31-...|2023-10-30 20:25:...|212973|[25 50 44 46 2D 3...|\n",
      "+--------------------+--------------------+------+--------------------+"
     ]
    }
   ],
   "source": [
    "pdf_example_df.show()"
   ]
  },
  {
   "cell_type": "code",
   "execution_count": 41,
   "metadata": {
    "execution": {
     "iopub.execute_input": "2023-10-30T20:25:32.173544Z",
     "iopub.status.busy": "2023-10-30T20:25:32.173322Z",
     "iopub.status.idle": "2023-10-30T20:25:32.415486Z",
     "shell.execute_reply": "2023-10-30T20:25:32.414804Z",
     "shell.execute_reply.started": "2023-10-30T20:25:32.173521Z"
    }
   },
   "outputs": [
    {
     "data": {
      "application/vnd.jupyter.widget-view+json": {
       "model_id": "50557a5a7c8b418d88094700c04f13db",
       "version_major": 2,
       "version_minor": 0
      },
      "text/plain": [
       "VBox()"
      ]
     },
     "metadata": {},
     "output_type": "display_data"
    },
    {
     "data": {
      "application/vnd.jupyter.widget-view+json": {
       "model_id": "",
       "version_major": 2,
       "version_minor": 0
      },
      "text/plain": [
       "FloatProgress(value=0.0, bar_style='info', description='Progress:', layout=Layout(height='25px', width='50%'),…"
      ]
     },
     "metadata": {},
     "output_type": "display_data"
    }
   ],
   "source": [
    "result = pdf_pipeline.transform(pdf_example_df)"
   ]
  },
  {
   "cell_type": "code",
   "execution_count": 42,
   "metadata": {
    "execution": {
     "iopub.execute_input": "2023-10-30T20:25:32.416698Z",
     "iopub.status.busy": "2023-10-30T20:25:32.416469Z",
     "iopub.status.idle": "2023-10-30T20:25:34.677209Z",
     "shell.execute_reply": "2023-10-30T20:25:34.676593Z",
     "shell.execute_reply.started": "2023-10-30T20:25:32.416676Z"
    }
   },
   "outputs": [
    {
     "data": {
      "application/vnd.jupyter.widget-view+json": {
       "model_id": "d39600cc9f8a4b13843b068b7a01de55",
       "version_major": 2,
       "version_minor": 0
      },
      "text/plain": [
       "VBox()"
      ]
     },
     "metadata": {},
     "output_type": "display_data"
    },
    {
     "data": {
      "application/vnd.jupyter.widget-view+json": {
       "model_id": "",
       "version_major": 2,
       "version_minor": 0
      },
      "text/plain": [
       "FloatProgress(value=0.0, bar_style='info', description='Progress:', layout=Layout(height='25px', width='50%'),…"
      ]
     },
     "metadata": {},
     "output_type": "display_data"
    },
    {
     "name": "stdout",
     "output_type": "stream",
     "text": [
      "+--------------------+--------------------+---------+\n",
      "|                path|                 pdf|exception|\n",
      "+--------------------+--------------------+---------+\n",
      "|hdfs://ip-172-31-...|[25 50 44 46 2D 3...|         |\n",
      "+--------------------+--------------------+---------+"
     ]
    }
   ],
   "source": [
    "result.show()"
   ]
  },
  {
   "cell_type": "code",
   "execution_count": 43,
   "metadata": {
    "execution": {
     "iopub.execute_input": "2023-10-30T20:25:34.678314Z",
     "iopub.status.busy": "2023-10-30T20:25:34.678094Z",
     "iopub.status.idle": "2023-10-30T20:25:36.970077Z",
     "shell.execute_reply": "2023-10-30T20:25:36.969451Z",
     "shell.execute_reply.started": "2023-10-30T20:25:34.678291Z"
    }
   },
   "outputs": [
    {
     "data": {
      "application/vnd.jupyter.widget-view+json": {
       "model_id": "2bcbfd5a9dfb4f978802413ecab1de1b",
       "version_major": 2,
       "version_minor": 0
      },
      "text/plain": [
       "VBox()"
      ]
     },
     "metadata": {},
     "output_type": "display_data"
    },
    {
     "data": {
      "application/vnd.jupyter.widget-view+json": {
       "model_id": "",
       "version_major": 2,
       "version_minor": 0
      },
      "text/plain": [
       "FloatProgress(value=0.0, bar_style='info', description='Progress:', layout=Layout(height='25px', width='50%'),…"
      ]
     },
     "metadata": {},
     "output_type": "display_data"
    }
   ],
   "source": [
    "pdf = result.select(\"pdf\").head().pdf"
   ]
  },
  {
   "cell_type": "code",
   "execution_count": 44,
   "metadata": {
    "execution": {
     "iopub.execute_input": "2023-10-30T20:25:36.971189Z",
     "iopub.status.busy": "2023-10-30T20:25:36.970950Z",
     "iopub.status.idle": "2023-10-30T20:25:37.297867Z",
     "shell.execute_reply": "2023-10-30T20:25:37.297238Z",
     "shell.execute_reply.started": "2023-10-30T20:25:36.971165Z"
    }
   },
   "outputs": [
    {
     "data": {
      "application/vnd.jupyter.widget-view+json": {
       "model_id": "6dc208c510cd4694b51c9db2c858c6a3",
       "version_major": 2,
       "version_minor": 0
      },
      "text/plain": [
       "VBox()"
      ]
     },
     "metadata": {},
     "output_type": "display_data"
    },
    {
     "data": {
      "application/vnd.jupyter.widget-view+json": {
       "model_id": "",
       "version_major": 2,
       "version_minor": 0
      },
      "text/plain": [
       "FloatProgress(value=0.0, bar_style='info', description='Progress:', layout=Layout(height='25px', width='50%'),…"
      ]
     },
     "metadata": {},
     "output_type": "display_data"
    },
    {
     "name": "stdout",
     "output_type": "stream",
     "text": [
      "99303"
     ]
    }
   ],
   "source": [
    "with open(\"searchable.pdf\", \"wb\") as pdfFile:\n",
    "  pdfFile.write(pdf)"
   ]
  },
  {
   "cell_type": "markdown",
   "metadata": {},
   "source": [
    "## Image processing after reading a pdf"
   ]
  },
  {
   "cell_type": "code",
   "execution_count": 45,
   "metadata": {
    "execution": {
     "iopub.execute_input": "2023-10-30T20:25:37.299095Z",
     "iopub.status.busy": "2023-10-30T20:25:37.298861Z",
     "iopub.status.idle": "2023-10-30T20:25:37.543512Z",
     "shell.execute_reply": "2023-10-30T20:25:37.542779Z",
     "shell.execute_reply.started": "2023-10-30T20:25:37.299071Z"
    }
   },
   "outputs": [
    {
     "data": {
      "application/vnd.jupyter.widget-view+json": {
       "model_id": "d447e04a26f64f3d9fcebab02e4f5559",
       "version_major": 2,
       "version_minor": 0
      },
      "text/plain": [
       "VBox()"
      ]
     },
     "metadata": {},
     "output_type": "display_data"
    },
    {
     "data": {
      "application/vnd.jupyter.widget-view+json": {
       "model_id": "",
       "version_major": 2,
       "version_minor": 0
      },
      "text/plain": [
       "FloatProgress(value=0.0, bar_style='info', description='Progress:', layout=Layout(height='25px', width='50%'),…"
      ]
     },
     "metadata": {},
     "output_type": "display_data"
    }
   ],
   "source": [
    "from sparkocr.enums import *\n",
    "\n",
    "# Read binary as image\n",
    "pdf_to_image = PdfToImage()\\\n",
    "  .setInputCol(\"content\")\\\n",
    "  .setOutputCol(\"image\")\\\n",
    "  .setResolution(100)\n",
    "\n",
    "# Binarize using adaptive tresholding\n",
    "binarizer = ImageAdaptiveThresholding()\\\n",
    "  .setInputCol(\"image\")\\\n",
    "  .setOutputCol(\"binarized_image\")\\\n",
    "  .setBlockSize(91)\\\n",
    "  .setOffset(50)\n",
    "\n",
    "# Apply morphology opening\n",
    "opening = ImageMorphologyOperation()\\\n",
    "  .setKernelShape(KernelShape.SQUARE)\\\n",
    "  .setOperation(MorphologyOperationType.OPENING)\\\n",
    "  .setKernelSize(3)\\\n",
    "  .setInputCol(\"binarized_image\")\\\n",
    "  .setOutputCol(\"opening_image\")\n",
    "\n",
    "# Remove small objects\n",
    "remove_objects = ImageRemoveObjects()\\\n",
    "  .setInputCol(\"opening_image\")\\\n",
    "  .setOutputCol(\"corrected_image\")\\\n",
    "  .setMinSizeObject(130)\n",
    "\n",
    "# Image Layout Analyzer for detect regions\n",
    "image_layout_analyzer = ImageLayoutAnalyzer()\\\n",
    "  .setInputCol(\"corrected_image\")\\\n",
    "  .setOutputCol(\"region\")\\\n",
    "\n",
    "draw_regions = ImageDrawRegions()\\\n",
    "  .setInputCol(\"corrected_image\")\\\n",
    "  .setInputRegionsCol(\"region\")\\\n",
    "  .setOutputCol(\"image_with_regions\")\n",
    "\n",
    "# Run tesseract OCR for corrected image\n",
    "ocr_corrected = ImageToText()\\\n",
    "  .setInputCol(\"corrected_image\")\\\n",
    "  .setOutputCol(\"corrected_text\")\\\n",
    "  .setPositionsCol(\"corrected_positions\")\\\n",
    "  .setConfidenceThreshold(65)\n",
    "\n",
    "# Run OCR for original image\n",
    "ocr = ImageToText()\\\n",
    "  .setInputCol(\"image\")\\\n",
    "  .setOutputCol(\"text\")\n",
    "\n",
    "# OCR pipeline\n",
    "image_pipeline = PipelineModel(stages=[\n",
    "    pdf_to_image,\n",
    "    binarizer,\n",
    "    opening,\n",
    "    remove_objects,\n",
    "    image_layout_analyzer,\n",
    "    draw_regions,\n",
    "    ocr,\n",
    "    ocr_corrected\n",
    "])"
   ]
  },
  {
   "cell_type": "code",
   "execution_count": 46,
   "metadata": {
    "execution": {
     "iopub.execute_input": "2023-10-30T20:25:37.544771Z",
     "iopub.status.busy": "2023-10-30T20:25:37.544530Z",
     "iopub.status.idle": "2023-10-30T20:25:37.940088Z",
     "shell.execute_reply": "2023-10-30T20:25:37.939166Z",
     "shell.execute_reply.started": "2023-10-30T20:25:37.544747Z"
    }
   },
   "outputs": [],
   "source": [
    "%%sh\n",
    "wget -q -O /tmp/noised.pdf https://raw.githubusercontent.com/JohnSnowLabs/spark-ocr-workshop/master/jupyter/data/pdfs/noised.pdf"
   ]
  },
  {
   "cell_type": "code",
   "execution_count": 47,
   "metadata": {
    "execution": {
     "iopub.execute_input": "2023-10-30T20:25:37.941636Z",
     "iopub.status.busy": "2023-10-30T20:25:37.941384Z",
     "iopub.status.idle": "2023-10-30T20:25:39.983028Z",
     "shell.execute_reply": "2023-10-30T20:25:39.982204Z",
     "shell.execute_reply.started": "2023-10-30T20:25:37.941608Z"
    }
   },
   "outputs": [],
   "source": [
    "%%sh\n",
    "hdfs dfs -copyFromLocal /tmp/noised.pdf /user/hadoop/"
   ]
  },
  {
   "cell_type": "code",
   "execution_count": 48,
   "metadata": {
    "execution": {
     "iopub.execute_input": "2023-10-30T20:25:39.984376Z",
     "iopub.status.busy": "2023-10-30T20:25:39.984107Z",
     "iopub.status.idle": "2023-10-30T20:25:43.286047Z",
     "shell.execute_reply": "2023-10-30T20:25:43.285393Z",
     "shell.execute_reply.started": "2023-10-30T20:25:39.984348Z"
    }
   },
   "outputs": [
    {
     "data": {
      "application/vnd.jupyter.widget-view+json": {
       "model_id": "4bdf37b9c38749cb891a07d68c84d8f9",
       "version_major": 2,
       "version_minor": 0
      },
      "text/plain": [
       "VBox()"
      ]
     },
     "metadata": {},
     "output_type": "display_data"
    },
    {
     "data": {
      "application/vnd.jupyter.widget-view+json": {
       "model_id": "",
       "version_major": 2,
       "version_minor": 0
      },
      "text/plain": [
       "FloatProgress(value=0.0, bar_style='info', description='Progress:', layout=Layout(height='25px', width='50%'),…"
      ]
     },
     "metadata": {},
     "output_type": "display_data"
    },
    {
     "name": "stdout",
     "output_type": "stream",
     "text": [
      "+--------------------+--------------------+-------+--------------------+\n",
      "|                path|    modificationTime| length|             content|\n",
      "+--------------------+--------------------+-------+--------------------+\n",
      "|hdfs://ip-172-31-...|2023-10-30 20:25:...|2115939|[25 50 44 46 2D 3...|\n",
      "+--------------------+--------------------+-------+--------------------+"
     ]
    }
   ],
   "source": [
    "image_df = spark.read.format(\"binaryFile\").load('/user/hadoop/noised.pdf').cache()\n",
    "image_df.show()"
   ]
  },
  {
   "cell_type": "code",
   "execution_count": 49,
   "metadata": {
    "execution": {
     "iopub.execute_input": "2023-10-30T20:25:43.287159Z",
     "iopub.status.busy": "2023-10-30T20:25:43.286941Z",
     "iopub.status.idle": "2023-10-30T20:25:44.033906Z",
     "shell.execute_reply": "2023-10-30T20:25:44.033114Z",
     "shell.execute_reply.started": "2023-10-30T20:25:43.287137Z"
    }
   },
   "outputs": [
    {
     "data": {
      "application/vnd.jupyter.widget-view+json": {
       "model_id": "58bd132e77104e1aab74038f23c9830f",
       "version_major": 2,
       "version_minor": 0
      },
      "text/plain": [
       "VBox()"
      ]
     },
     "metadata": {},
     "output_type": "display_data"
    },
    {
     "data": {
      "application/vnd.jupyter.widget-view+json": {
       "model_id": "",
       "version_major": 2,
       "version_minor": 0
      },
      "text/plain": [
       "FloatProgress(value=0.0, bar_style='info', description='Progress:', layout=Layout(height='25px', width='50%'),…"
      ]
     },
     "metadata": {},
     "output_type": "display_data"
    }
   ],
   "source": [
    "result = image_pipeline.transform(image_df).cache()"
   ]
  },
  {
   "cell_type": "code",
   "execution_count": 50,
   "metadata": {
    "execution": {
     "iopub.execute_input": "2023-10-30T20:25:44.035089Z",
     "iopub.status.busy": "2023-10-30T20:25:44.034859Z",
     "iopub.status.idle": "2023-10-30T20:25:53.324665Z",
     "shell.execute_reply": "2023-10-30T20:25:53.323849Z",
     "shell.execute_reply.started": "2023-10-30T20:25:44.035066Z"
    }
   },
   "outputs": [
    {
     "data": {
      "application/vnd.jupyter.widget-view+json": {
       "model_id": "ef367b3b7e3f4ca98141d6f4e6cb84ef",
       "version_major": 2,
       "version_minor": 0
      },
      "text/plain": [
       "VBox()"
      ]
     },
     "metadata": {},
     "output_type": "display_data"
    },
    {
     "data": {
      "application/vnd.jupyter.widget-view+json": {
       "model_id": "",
       "version_major": 2,
       "version_minor": 0
      },
      "text/plain": [
       "FloatProgress(value=0.0, bar_style='info', description='Progress:', layout=Layout(height='25px', width='50%'),…"
      ]
     },
     "metadata": {},
     "output_type": "display_data"
    },
    {
     "name": "stdout",
     "output_type": "stream",
     "text": [
      "Original: hdfs://ip-172-31-20-250.us-east-2.compute.internal:8020/user/hadoop/noised.pdf\n",
      "\n",
      "    Image #0:\n",
      "    Origin: hdfs://ip-172-31-20-250.us-east-2.compute.internal:8020/user/hadoop/noised.pdf\n",
      "    Resolution: 100 dpi\n",
      "    Width: 826 px\n",
      "    Height: 1169 px\n",
      "    Mode: ImageType.TYPE_BYTE_GRAY\n",
      "    Number of channels: 1\n",
      "<PIL.Image.Image image mode=L size=826x1169 at 0x7FA9554E3350>\n",
      "Corrected: hdfs://ip-172-31-20-250.us-east-2.compute.internal:8020/user/hadoop/noised.pdf\n",
      "\n",
      "    Image #0:\n",
      "    Origin: hdfs://ip-172-31-20-250.us-east-2.compute.internal:8020/user/hadoop/noised.pdf\n",
      "    Resolution: 100 dpi\n",
      "    Width: 826 px\n",
      "    Height: 1169 px\n",
      "    Mode: ImageType.TYPE_BYTE_BINARY\n",
      "    Number of channels: 1\n",
      "<PIL.Image.Image image mode=1 size=826x1169 at 0x7FA9554E3350>"
     ]
    }
   ],
   "source": [
    "for r in result.distinct().collect():\n",
    "    print(\"Original: %s\" % r.path)\n",
    "    display_image(r.image)\n",
    "\n",
    "    print(\"Corrected: %s\" % r.path)\n",
    "    display_image(r.corrected_image)"
   ]
  },
  {
   "cell_type": "markdown",
   "metadata": {},
   "source": [
    "### Results with original image"
   ]
  },
  {
   "cell_type": "code",
   "execution_count": 51,
   "metadata": {
    "execution": {
     "iopub.execute_input": "2023-10-30T20:25:53.326458Z",
     "iopub.status.busy": "2023-10-30T20:25:53.326092Z",
     "iopub.status.idle": "2023-10-30T20:25:53.605695Z",
     "shell.execute_reply": "2023-10-30T20:25:53.604893Z",
     "shell.execute_reply.started": "2023-10-30T20:25:53.326418Z"
    }
   },
   "outputs": [
    {
     "data": {
      "application/vnd.jupyter.widget-view+json": {
       "model_id": "a108b388bc08409197dfef7b83e17589",
       "version_major": 2,
       "version_minor": 0
      },
      "text/plain": [
       "VBox()"
      ]
     },
     "metadata": {},
     "output_type": "display_data"
    },
    {
     "data": {
      "application/vnd.jupyter.widget-view+json": {
       "model_id": "",
       "version_major": 2,
       "version_minor": 0
      },
      "text/plain": [
       "FloatProgress(value=0.0, bar_style='info', description='Progress:', layout=Layout(height='25px', width='50%'),…"
      ]
     },
     "metadata": {},
     "output_type": "display_data"
    },
    {
     "name": "stdout",
     "output_type": "stream",
     "text": [
      "Filename:\n",
      "hdfs://ip-172-31-20-250.us-east-2.compute.internal:8020/user/hadoop/noised.pdf , page: 0\n",
      "Recognized text:\n",
      " \n",
      "\n",
      "Dat\n",
      "\n",
      " \n",
      "\n",
      " \n",
      "\n",
      " \n",
      "\n",
      " \n",
      "\n",
      " \n",
      "\n",
      "Sample No. __5031 : 23 ;\n",
      "* Original request made by Mr. C. b. Tucker, Jr. \"on “ipojes\n",
      "C Sample specifications written by John H. M. Bohlken\n",
      "_ BLEND, CASING _—-RECASING FINAL FLAVOR MENTHOL FLAVOR\n",
      "\n",
      "“ OLD GOLD STRAIGHT Tobacco Blend\n",
      "\n",
      " \n",
      "\n",
      "Control for Sample No. 5030\n",
      "\n",
      "   \n",
      "\n",
      " \n",
      "\n",
      "OLD GOLD STRAIGHT\n",
      "\n",
      "  \n",
      "  \n",
      "\n",
      " \n",
      "\n",
      "85 mm.\n",
      "Circumference. 25.3. mm. 5\n",
      "Paper ~~. Ecusta 556\n",
      "Firnness OLD GOLD STRAIGHT .\n",
      "\n",
      " \n",
      "\n",
      "OLD GOLD STRAIGHT :\n",
      "OLD GOLD STRAIGHT  Wrappings: .\n",
      "\n",
      "    \n",
      "\n",
      " \n",
      "\n",
      "Labels OLD GOLD STRAIGHT\n",
      "C . Filter Length. OLD GOLD STRAIGHT, Closures: Standard Blue\n",
      "~ Tear Tape-- Gold\n",
      ". Cartons OLD GOLD STRAIGHT\n",
      "\n",
      "  \n",
      "\n",
      "=. Requirement: 5 Markings-~\n",
      "\n",
      "One Tray .\n",
      "\n",
      "Sample number on each\n",
      "pack and carton\n",
      "\n",
      " \n",
      "\n",
      "bf a :\n",
      "ple\" 4.6: Lo\n",
      "boratory Analysis: —~ 7 <A V/s . ew +\n",
      "Tars and Nicotine, Taste Panel, Burning Time, Gas Phase Analysis,\n",
      "Benzo (A) Pyrene Analyses — 7-/¢-CF- @.( ssi/ek\n",
      "Responsibility:\n",
      "Tobacco Blend -- - Manufacturing - A. Kraus. we\n",
      "Filter Production--- --\n",
      "+ Making & Packing --- Product Development , John H. M. Bohlken -\n",
      "\n",
      " \n",
      "\n",
      " \n",
      "\n",
      "Shipping -- 7\n",
      "Reports: +\n",
      "“Written by -- John H. M. Bohlken 5\n",
      "Original to -Mr. c. L. Tucker, gr. .\n",
      "Copies to ---Dr. A. W. Spears con 8\n",
      "Cc &"
     ]
    }
   ],
   "source": [
    "from termcolor import colored\n",
    "\n",
    "grouped_results = result.groupBy(\"path\", \"pagenum\").agg(F.concat_ws(\"\", F.collect_list(\"text\")).alias(\"text\"))\n",
    "for row in grouped_results.collect():\n",
    "    print(colored(\"Filename:\\n%s , page: %d\" % (row.path, row.pagenum), \"red\"))\n",
    "    print(\"Recognized text:\\n%s\" % row.text)"
   ]
  },
  {
   "cell_type": "markdown",
   "metadata": {},
   "source": [
    "### Results with corrected image\n"
   ]
  },
  {
   "cell_type": "code",
   "execution_count": 52,
   "metadata": {
    "execution": {
     "iopub.execute_input": "2023-10-30T20:25:53.607343Z",
     "iopub.status.busy": "2023-10-30T20:25:53.607002Z",
     "iopub.status.idle": "2023-10-30T20:25:53.858641Z",
     "shell.execute_reply": "2023-10-30T20:25:53.857848Z",
     "shell.execute_reply.started": "2023-10-30T20:25:53.607306Z"
    }
   },
   "outputs": [
    {
     "data": {
      "application/vnd.jupyter.widget-view+json": {
       "model_id": "380dd17241484f1c86ed6604d3d72770",
       "version_major": 2,
       "version_minor": 0
      },
      "text/plain": [
       "VBox()"
      ]
     },
     "metadata": {},
     "output_type": "display_data"
    },
    {
     "data": {
      "application/vnd.jupyter.widget-view+json": {
       "model_id": "",
       "version_major": 2,
       "version_minor": 0
      },
      "text/plain": [
       "FloatProgress(value=0.0, bar_style='info', description='Progress:', layout=Layout(height='25px', width='50%'),…"
      ]
     },
     "metadata": {},
     "output_type": "display_data"
    },
    {
     "name": "stdout",
     "output_type": "stream",
     "text": [
      "Filename:\n",
      "hdfs://ip-172-31-20-250.us-east-2.compute.internal:8020/user/hadoop/noised.pdf , page: 0\n",
      "Recognized text:"
     ]
    }
   ],
   "source": [
    "grouped_results = result.groupBy(\"path\", \"pagenum\").agg(F.concat_ws(\"\", F.collect_list(\"corrected_text\")).alias(\"corrected_text\"))\n",
    "for row in grouped_results.collect():\n",
    "    print(colored(\"Filename:\\n%s , page: %d\" % (row.path, row.pagenum), \"red\"))\n",
    "    print(\"Recognized text:\\n%s\" % row.corrected_text)"
   ]
  },
  {
   "cell_type": "code",
   "execution_count": 53,
   "metadata": {
    "execution": {
     "iopub.execute_input": "2023-10-30T20:25:53.860312Z",
     "iopub.status.busy": "2023-10-30T20:25:53.859942Z",
     "iopub.status.idle": "2023-10-30T20:25:53.905859Z",
     "shell.execute_reply": "2023-10-30T20:25:53.905090Z",
     "shell.execute_reply.started": "2023-10-30T20:25:53.860274Z"
    }
   },
   "outputs": [
    {
     "data": {
      "application/vnd.jupyter.widget-view+json": {
       "model_id": "1c7453e8fd764a95a42f7201107afef6",
       "version_major": 2,
       "version_minor": 0
      },
      "text/plain": [
       "VBox()"
      ]
     },
     "metadata": {},
     "output_type": "display_data"
    },
    {
     "data": {
      "application/vnd.jupyter.widget-view+json": {
       "model_id": "",
       "version_major": 2,
       "version_minor": 0
      },
      "text/plain": [
       "FloatProgress(value=0.0, bar_style='info', description='Progress:', layout=Layout(height='25px', width='50%'),…"
      ]
     },
     "metadata": {},
     "output_type": "display_data"
    },
    {
     "name": "stdout",
     "output_type": "stream",
     "text": [
      "['path', 'modificationTime', 'length', 'image', 'total_pages', 'pagenum', 'documentnum', 'binarized_image', 'opening_image', 'corrected_image', 'region', 'image_with_regions', 'confidence', 'text', 'positions', 'confidence', 'exception', 'corrected_text', 'corrected_positions']"
     ]
    }
   ],
   "source": [
    "result.columns"
   ]
  },
  {
   "cell_type": "markdown",
   "metadata": {},
   "source": [
    "### Abbyy output"
   ]
  },
  {
   "cell_type": "code",
   "execution_count": 54,
   "metadata": {
    "execution": {
     "iopub.execute_input": "2023-10-30T20:25:53.907500Z",
     "iopub.status.busy": "2023-10-30T20:25:53.907166Z",
     "iopub.status.idle": "2023-10-30T20:25:53.956666Z",
     "shell.execute_reply": "2023-10-30T20:25:53.955793Z",
     "shell.execute_reply.started": "2023-10-30T20:25:53.907463Z"
    }
   },
   "outputs": [
    {
     "data": {
      "application/vnd.jupyter.widget-view+json": {
       "model_id": "36f25401f29f4e1798eaa17a3e552420",
       "version_major": 2,
       "version_minor": 0
      },
      "text/plain": [
       "VBox()"
      ]
     },
     "metadata": {},
     "output_type": "display_data"
    },
    {
     "data": {
      "application/vnd.jupyter.widget-view+json": {
       "model_id": "",
       "version_major": 2,
       "version_minor": 0
      },
      "text/plain": [
       "FloatProgress(value=0.0, bar_style='info', description='Progress:', layout=Layout(height='25px', width='50%'),…"
      ]
     },
     "metadata": {},
     "output_type": "display_data"
    }
   ],
   "source": [
    "abbyy = \"\"\"-----\n",
    "% Date: 7/16/68\n",
    "X*: I; * • ■ Sample No. 5031___ — .*\n",
    "•* Original request made by _____Mr. C. L. Tucker, Jr. on\n",
    "Sample specifications written by\n",
    "BLEND CASING RECASING\n",
    "OLD GOLD STRAIGHT Tobacco Blend\n",
    "Control for Sample No. 5030\n",
    "John H. M. Bohlken\n",
    "FINAL FLAVOR\n",
    ") 7/10/68\n",
    "MENTHOL FLAVOR\n",
    "• Cigarettes; * . .v\\ . /,*, *, S •\n",
    "Brand --------- OLD GOLD STRAIGHT -V . ••••\n",
    "; . L e n g t h ------- — 85 mm. . : '\n",
    "Circumference-- 25.3 mm. • ' *;. • •\n",
    "P a p e r ---------- Ecusta 556 • * .\n",
    "F i r m n e s s---- —— OLD GOLD STRAIGHT . ! •■'\n",
    "D r a w ___________ OLD GOLD STRAIGHT\n",
    "W e i g h t --------- 0LD GOLD STRAIGHT Wrappings: « -\n",
    "Tipping Paper — — *\n",
    "p H n f —. — — _ _ ~ L a b e l s ----OLD GOLD STRAIGHT\n",
    "( • Filter Length-- . — Closures--- Standard Blue .\n",
    "^ ^ ; • Tear Tape— Gold\n",
    "Cartons --- OLD GOLD STRAIGHT\n",
    "s Requirements: . - •' • Markings-- Sample number on each\n",
    "• pack and carton Laboratory----- One Tray .\n",
    "O t h e r s --------- * , s • • . 4\n",
    "Laboratory A n a l ysis^ I \" '/***• * 7 ' ^ ^\n",
    "Tars and Nicotine, Taste Panel, Burning Time, Gas Phase Analysis,\n",
    "Benzo (A) Pyrene Analyses — J-ZZ-Zf'- (£. / •\n",
    "Responsibility;\n",
    "Tobacco B l e n d ------Manufacturing - A. Kraus . . * -\n",
    "Filter Production--- —\n",
    "• Making & P a c k i n g---Product Development , John H. M. Bohlken\n",
    "Shipping -----------\n",
    "Reports:\n",
    "t\n",
    "Written by — John H. M. Bohlken\n",
    "Original to - Mr. C. L. Tucker, Jr.\n",
    "Copies t o ---Dr. A. W. Spears\n",
    "• 9 ..\n",
    "\"\"\""
   ]
  },
  {
   "cell_type": "markdown",
   "metadata": {},
   "source": [
    "### Display original and corrected images with regions\n"
   ]
  },
  {
   "cell_type": "code",
   "execution_count": 55,
   "metadata": {
    "execution": {
     "iopub.execute_input": "2023-10-30T20:25:53.958302Z",
     "iopub.status.busy": "2023-10-30T20:25:53.957974Z",
     "iopub.status.idle": "2023-10-30T20:25:54.724468Z",
     "shell.execute_reply": "2023-10-30T20:25:54.723606Z",
     "shell.execute_reply.started": "2023-10-30T20:25:53.958264Z"
    }
   },
   "outputs": [
    {
     "data": {
      "application/vnd.jupyter.widget-view+json": {
       "model_id": "36b399da82994894a29f09b01baba304",
       "version_major": 2,
       "version_minor": 0
      },
      "text/plain": [
       "VBox()"
      ]
     },
     "metadata": {},
     "output_type": "display_data"
    },
    {
     "data": {
      "application/vnd.jupyter.widget-view+json": {
       "model_id": "",
       "version_major": 2,
       "version_minor": 0
      },
      "text/plain": [
       "FloatProgress(value=0.0, bar_style='info', description='Progress:', layout=Layout(height='25px', width='50%'),…"
      ]
     },
     "metadata": {},
     "output_type": "display_data"
    },
    {
     "name": "stdout",
     "output_type": "stream",
     "text": [
      "Original: hdfs://ip-172-31-20-250.us-east-2.compute.internal:8020/user/hadoop/noised.pdf\n",
      "\n",
      "    Image #0:\n",
      "    Origin: hdfs://ip-172-31-20-250.us-east-2.compute.internal:8020/user/hadoop/noised.pdf\n",
      "    Resolution: 100 dpi\n",
      "    Width: 826 px\n",
      "    Height: 1169 px\n",
      "    Mode: ImageType.TYPE_BYTE_GRAY\n",
      "    Number of channels: 1\n",
      "<PIL.Image.Image image mode=L size=826x1169 at 0x7FA955468F10>\n",
      "Corrected: hdfs://ip-172-31-20-250.us-east-2.compute.internal:8020/user/hadoop/noised.pdf\n",
      "\n",
      "    Image #0:\n",
      "    Origin: hdfs://ip-172-31-20-250.us-east-2.compute.internal:8020/user/hadoop/noised.pdf\n",
      "    Resolution: 0 dpi\n",
      "    Width: 826 px\n",
      "    Height: 1169 px\n",
      "    Mode: ImageType.TYPE_BYTE_BINARY\n",
      "    Number of channels: 3\n",
      "<PIL.Image.Image image mode=1 size=826x1169 at 0x7FA955468110>"
     ]
    }
   ],
   "source": [
    "for r in result.select(\"path\",\"image\",\"image_with_regions\").distinct().collect():\n",
    "    print(\"Original: %s\" % r.path)\n",
    "    display_image(r.image)\n",
    "\n",
    "    print(\"Corrected: %s\" % r.path)\n",
    "    display_image(r.image_with_regions)"
   ]
  },
  {
   "cell_type": "markdown",
   "metadata": {},
   "source": [
    "## Image (or Natural Scene) to Text"
   ]
  },
  {
   "cell_type": "code",
   "execution_count": 56,
   "metadata": {
    "execution": {
     "iopub.execute_input": "2023-10-30T20:25:54.726094Z",
     "iopub.status.busy": "2023-10-30T20:25:54.725764Z",
     "iopub.status.idle": "2023-10-30T20:25:54.948885Z",
     "shell.execute_reply": "2023-10-30T20:25:54.947977Z",
     "shell.execute_reply.started": "2023-10-30T20:25:54.726059Z"
    }
   },
   "outputs": [],
   "source": [
    "%%sh\n",
    "wget -q -O /tmp/text_with_noise.png https://raw.githubusercontent.com/JohnSnowLabs/spark-ocr-workshop/master/jupyter/data/images/text_with_noise.png"
   ]
  },
  {
   "cell_type": "code",
   "execution_count": 57,
   "metadata": {
    "execution": {
     "iopub.execute_input": "2023-10-30T20:25:54.950655Z",
     "iopub.status.busy": "2023-10-30T20:25:54.950304Z",
     "iopub.status.idle": "2023-10-30T20:25:57.053574Z",
     "shell.execute_reply": "2023-10-30T20:25:57.052824Z",
     "shell.execute_reply.started": "2023-10-30T20:25:54.950615Z"
    }
   },
   "outputs": [],
   "source": [
    "%%sh\n",
    "hdfs dfs -copyFromLocal /tmp/text_with_noise.png /user/hadoop/text_with_noise.png"
   ]
  },
  {
   "cell_type": "code",
   "execution_count": 58,
   "metadata": {
    "execution": {
     "iopub.execute_input": "2023-10-30T20:25:57.054865Z",
     "iopub.status.busy": "2023-10-30T20:25:57.054633Z",
     "iopub.status.idle": "2023-10-30T20:25:59.335503Z",
     "shell.execute_reply": "2023-10-30T20:25:59.334671Z",
     "shell.execute_reply.started": "2023-10-30T20:25:57.054839Z"
    }
   },
   "outputs": [
    {
     "data": {
      "application/vnd.jupyter.widget-view+json": {
       "model_id": "221f606b16984862871543529ebfab47",
       "version_major": 2,
       "version_minor": 0
      },
      "text/plain": [
       "VBox()"
      ]
     },
     "metadata": {},
     "output_type": "display_data"
    },
    {
     "data": {
      "application/vnd.jupyter.widget-view+json": {
       "model_id": "",
       "version_major": 2,
       "version_minor": 0
      },
      "text/plain": [
       "FloatProgress(value=0.0, bar_style='info', description='Progress:', layout=Layout(height='25px', width='50%'),…"
      ]
     },
     "metadata": {},
     "output_type": "display_data"
    },
    {
     "name": "stdout",
     "output_type": "stream",
     "text": [
      "Original: hdfs://ip-172-31-20-250.us-east-2.compute.internal:8020/user/hadoop/text_with_noise.png\n",
      "\n",
      "    Image #0:\n",
      "    Origin: hdfs://ip-172-31-20-250.us-east-2.compute.internal:8020/user/hadoop/text_with_noise.png\n",
      "    Resolution: 95 dpi\n",
      "    Width: 1095 px\n",
      "    Height: 134 px\n",
      "    Mode: ImageType.TYPE_BYTE_GRAY\n",
      "    Number of channels: 1\n",
      "<PIL.Image.Image image mode=L size=1095x134 at 0x7FA9554CF490>\n",
      "Binarized\n",
      "\n",
      "    Image #0:\n",
      "    Origin: hdfs://ip-172-31-20-250.us-east-2.compute.internal:8020/user/hadoop/text_with_noise.png\n",
      "    Resolution: 95 dpi\n",
      "    Width: 2190 px\n",
      "    Height: 268 px\n",
      "    Mode: ImageType.TYPE_BYTE_BINARY\n",
      "    Number of channels: 1\n",
      "<PIL.Image.Image image mode=1 size=2190x268 at 0x7FA955530DD0>\n",
      "Removing objects\n",
      "\n",
      "    Image #0:\n",
      "    Origin: hdfs://ip-172-31-20-250.us-east-2.compute.internal:8020/user/hadoop/text_with_noise.png\n",
      "    Resolution: 95 dpi\n",
      "    Width: 2190 px\n",
      "    Height: 268 px\n",
      "    Mode: ImageType.TYPE_BYTE_BINARY\n",
      "    Number of channels: 1\n",
      "<PIL.Image.Image image mode=1 size=2190x268 at 0x7FA955530950>"
     ]
    }
   ],
   "source": [
    "image_df = spark.read.format(\"binaryFile\").load('/user/hadoop/text_with_noise.png').cache()\n",
    "\n",
    "# Read binary as image\n",
    "binary_to_image = BinaryToImage()\n",
    "binary_to_image.setInputCol(\"content\")\n",
    "binary_to_image.setOutputCol(\"image\")\n",
    "\n",
    "# Scale image\n",
    "scaler = ImageScaler()\n",
    "scaler.setInputCol(\"image\")\n",
    "scaler.setOutputCol(\"scaled_image\")\n",
    "scaler.setScaleFactor(2.0)\n",
    "\n",
    "# Binarize using adaptive tresholding\n",
    "binarizer = ImageAdaptiveThresholding()\n",
    "binarizer.setInputCol(\"scaled_image\")\n",
    "binarizer.setOutputCol(\"binarized_image\")\n",
    "binarizer.setBlockSize(71)\n",
    "binarizer.setOffset(65)\n",
    "\n",
    "remove_objects = ImageRemoveObjects()\n",
    "remove_objects.setInputCol(\"binarized_image\")\n",
    "remove_objects.setOutputCol(\"cleared_image\")\n",
    "remove_objects.setMinSizeObject(400)\n",
    "remove_objects.setMaxSizeObject(4000)\n",
    "\n",
    "# Run OCR\n",
    "ocr = ImageToText()\n",
    "ocr.setInputCol(\"cleared_image\")\n",
    "ocr.setOutputCol(\"text\")\n",
    "ocr.setConfidenceThreshold(50)\n",
    "ocr.setIgnoreResolution(False)\n",
    "\n",
    "# OCR pipeline\n",
    "noisy_pipeline = PipelineModel(stages=[\n",
    "    binary_to_image,\n",
    "    scaler,\n",
    "    binarizer,\n",
    "    remove_objects,\n",
    "    ocr\n",
    "])\n",
    "\n",
    "\n",
    "result = noisy_pipeline \\\n",
    ".transform(image_df) \\\n",
    ".cache()\n",
    "\n",
    "\n",
    "for r in result.distinct().collect():\n",
    "    print(\"Original: %s\" % r.path)\n",
    "    display_image(r.image)\n",
    "    print(\"Binarized\")\n",
    "    display_image(r.binarized_image)\n",
    "    print(\"Removing objects\")\n",
    "    display_image(r.cleared_image)\n"
   ]
  },
  {
   "cell_type": "code",
   "execution_count": 59,
   "metadata": {
    "execution": {
     "iopub.execute_input": "2023-10-30T20:25:59.337112Z",
     "iopub.status.busy": "2023-10-30T20:25:59.336852Z",
     "iopub.status.idle": "2023-10-30T20:25:59.541285Z",
     "shell.execute_reply": "2023-10-30T20:25:59.540625Z",
     "shell.execute_reply.started": "2023-10-30T20:25:59.337086Z"
    }
   },
   "outputs": [
    {
     "data": {
      "application/vnd.jupyter.widget-view+json": {
       "model_id": "7d989296b7dc4b22b2d1442b6081cdbb",
       "version_major": 2,
       "version_minor": 0
      },
      "text/plain": [
       "VBox()"
      ]
     },
     "metadata": {},
     "output_type": "display_data"
    },
    {
     "data": {
      "application/vnd.jupyter.widget-view+json": {
       "model_id": "",
       "version_major": 2,
       "version_minor": 0
      },
      "text/plain": [
       "FloatProgress(value=0.0, bar_style='info', description='Progress:', layout=Layout(height='25px', width='50%'),…"
      ]
     },
     "metadata": {},
     "output_type": "display_data"
    },
    {
     "name": "stdout",
     "output_type": "stream",
     "text": [
      "Su la ba e de la g ande saue de Zeus a Olympe Phid as avai\n",
      "pe ene les Douze D eux En ele Sole | (Hel os) et la Lune (Selene)\n",
      "esdouze dv n es g oupees deux adeux s o donna en ens x couples"
     ]
    }
   ],
   "source": [
    "print(\"\\n\".join([row.text for row in result.select(\"text\").collect()]))"
   ]
  },
  {
   "cell_type": "markdown",
   "metadata": {},
   "source": [
    "### Text from Scene"
   ]
  },
  {
   "cell_type": "code",
   "execution_count": 60,
   "metadata": {
    "execution": {
     "iopub.execute_input": "2023-10-30T20:25:59.542524Z",
     "iopub.status.busy": "2023-10-30T20:25:59.542295Z",
     "iopub.status.idle": "2023-10-30T20:25:59.775018Z",
     "shell.execute_reply": "2023-10-30T20:25:59.774052Z",
     "shell.execute_reply.started": "2023-10-30T20:25:59.542496Z"
    }
   },
   "outputs": [],
   "source": [
    "%%sh\n",
    "wget -q -O tmp/natural_scene.jpeg https://raw.githubusercontent.com/JohnSnowLabs/spark-nlp-workshop/master/tutorials/Certification_Trainings/Healthcare/data/ocr/natural_scene.jpeg"
   ]
  },
  {
   "cell_type": "code",
   "execution_count": 61,
   "metadata": {
    "execution": {
     "iopub.execute_input": "2023-10-30T20:25:59.776740Z",
     "iopub.status.busy": "2023-10-30T20:25:59.776459Z",
     "iopub.status.idle": "2023-10-30T20:26:01.884704Z",
     "shell.execute_reply": "2023-10-30T20:26:01.883861Z",
     "shell.execute_reply.started": "2023-10-30T20:25:59.776711Z"
    }
   },
   "outputs": [],
   "source": [
    "%%sh\n",
    "hdfs dfs -copyFromLocal tmp/natural_scene.jpeg /user/hadoop/natural_scene.jpeg"
   ]
  },
  {
   "cell_type": "code",
   "execution_count": 62,
   "metadata": {
    "execution": {
     "iopub.execute_input": "2023-10-30T20:26:01.886094Z",
     "iopub.status.busy": "2023-10-30T20:26:01.885845Z",
     "iopub.status.idle": "2023-10-30T20:26:04.145736Z",
     "shell.execute_reply": "2023-10-30T20:26:04.145104Z",
     "shell.execute_reply.started": "2023-10-30T20:26:01.886068Z"
    }
   },
   "outputs": [
    {
     "data": {
      "application/vnd.jupyter.widget-view+json": {
       "model_id": "e99eab8eace7464cb9bbe7286bfb2adb",
       "version_major": 2,
       "version_minor": 0
      },
      "text/plain": [
       "VBox()"
      ]
     },
     "metadata": {},
     "output_type": "display_data"
    },
    {
     "data": {
      "application/vnd.jupyter.widget-view+json": {
       "model_id": "",
       "version_major": 2,
       "version_minor": 0
      },
      "text/plain": [
       "FloatProgress(value=0.0, bar_style='info', description='Progress:', layout=Layout(height='25px', width='50%'),…"
      ]
     },
     "metadata": {},
     "output_type": "display_data"
    },
    {
     "name": "stdout",
     "output_type": "stream",
     "text": [
      "Original: hdfs://ip-172-31-20-250.us-east-2.compute.internal:8020/user/hadoop/natural_scene.jpeg\n",
      "\n",
      "    Image #0:\n",
      "    Origin: hdfs://ip-172-31-20-250.us-east-2.compute.internal:8020/user/hadoop/natural_scene.jpeg\n",
      "    Resolution: 0 dpi\n",
      "    Width: 640 px\n",
      "    Height: 480 px\n",
      "    Mode: ImageType.TYPE_BYTE_GRAY\n",
      "    Number of channels: 1\n",
      "<PIL.Image.Image image mode=L size=640x480 at 0x7FA955464910>\n",
      "Binarized\n",
      "\n",
      "    Image #0:\n",
      "    Origin: hdfs://ip-172-31-20-250.us-east-2.compute.internal:8020/user/hadoop/natural_scene.jpeg\n",
      "    Resolution: 0 dpi\n",
      "    Width: 1280 px\n",
      "    Height: 960 px\n",
      "    Mode: ImageType.TYPE_BYTE_BINARY\n",
      "    Number of channels: 1\n",
      "<PIL.Image.Image image mode=1 size=1280x960 at 0x7FA955464910>\n",
      "Removing objects\n",
      "\n",
      "    Image #0:\n",
      "    Origin: hdfs://ip-172-31-20-250.us-east-2.compute.internal:8020/user/hadoop/natural_scene.jpeg\n",
      "    Resolution: 0 dpi\n",
      "    Width: 1280 px\n",
      "    Height: 960 px\n",
      "    Mode: ImageType.TYPE_BYTE_BINARY\n",
      "    Number of channels: 1\n",
      "<PIL.Image.Image image mode=1 size=1280x960 at 0x7FA9554CF290>\n",
      "Morphology closing\n",
      "\n",
      "    Image #0:\n",
      "    Origin: hdfs://ip-172-31-20-250.us-east-2.compute.internal:8020/user/hadoop/natural_scene.jpeg\n",
      "    Resolution: 0 dpi\n",
      "    Width: 1280 px\n",
      "    Height: 960 px\n",
      "    Mode: ImageType.TYPE_BYTE_BINARY\n",
      "    Number of channels: 1\n",
      "<PIL.Image.Image image mode=1 size=1280x960 at 0x7FA9554CF350>"
     ]
    }
   ],
   "source": [
    "image_df = spark.read.format(\"binaryFile\").load('/user/hadoop/natural_scene.jpeg').cache()\n",
    "\n",
    "# Apply morphology opening\n",
    "morpholy_operation = ImageMorphologyOperation()\n",
    "morpholy_operation.setKernelShape(KernelShape.DISK)\n",
    "morpholy_operation.setKernelSize(5)\n",
    "morpholy_operation.setOperation(\"closing\")\n",
    "morpholy_operation.setInputCol(\"cleared_image\")\n",
    "morpholy_operation.setOutputCol(\"corrected_image\")\n",
    "\n",
    "# Run OCR\n",
    "ocr = ImageToText()\n",
    "ocr.setInputCol(\"corrected_image\")\n",
    "ocr.setOutputCol(\"text\")\n",
    "ocr.setConfidenceThreshold(50)\n",
    "ocr.setIgnoreResolution(False)\n",
    "\n",
    "# OCR pipeline\n",
    "scene_pipeline = PipelineModel(stages=[\n",
    "    binary_to_image,\n",
    "    scaler,\n",
    "    binarizer,\n",
    "    remove_objects,\n",
    "    morpholy_operation,\n",
    "    ocr\n",
    "])\n",
    "\n",
    "result = scene_pipeline \\\n",
    ".transform(image_df) \\\n",
    ".cache()\n",
    "\n",
    "\n",
    "for r in result.distinct().collect():\n",
    "    print(\"Original: %s\" % r.path)\n",
    "    display_image(r.image)\n",
    "    print(\"Binarized\")\n",
    "    display_image(r.binarized_image)\n",
    "    print(\"Removing objects\")\n",
    "    display_image(r.cleared_image)\n",
    "    print(\"Morphology closing\")\n",
    "    display_image(r.corrected_image)"
   ]
  },
  {
   "cell_type": "markdown",
   "metadata": {},
   "source": [
    "## DOCX Processing (version 1.10.0)"
   ]
  },
  {
   "cell_type": "markdown",
   "metadata": {},
   "source": [
    "### Read DOCX document as binary file"
   ]
  },
  {
   "cell_type": "code",
   "execution_count": 63,
   "metadata": {
    "execution": {
     "iopub.execute_input": "2023-10-30T20:26:04.146859Z",
     "iopub.status.busy": "2023-10-30T20:26:04.146638Z",
     "iopub.status.idle": "2023-10-30T20:26:04.531858Z",
     "shell.execute_reply": "2023-10-30T20:26:04.531147Z",
     "shell.execute_reply.started": "2023-10-30T20:26:04.146837Z"
    },
    "tags": []
   },
   "outputs": [],
   "source": [
    "%%sh\n",
    "wget -q -O /tmp/doc2.docx https://github.com/JohnSnowLabs/spark-nlp-workshop/raw/master/visual-nlp/data/doc2.docx"
   ]
  },
  {
   "cell_type": "code",
   "execution_count": 64,
   "metadata": {
    "execution": {
     "iopub.execute_input": "2023-10-30T20:26:04.533293Z",
     "iopub.status.busy": "2023-10-30T20:26:04.533057Z",
     "iopub.status.idle": "2023-10-30T20:26:06.485977Z",
     "shell.execute_reply": "2023-10-30T20:26:06.485140Z",
     "shell.execute_reply.started": "2023-10-30T20:26:04.533268Z"
    },
    "tags": []
   },
   "outputs": [],
   "source": [
    "%%sh\n",
    "hdfs dfs -copyFromLocal /tmp/doc2.docx /user/hadoop/doc2.docx"
   ]
  },
  {
   "cell_type": "code",
   "execution_count": 65,
   "metadata": {
    "execution": {
     "iopub.execute_input": "2023-10-30T20:26:06.487323Z",
     "iopub.status.busy": "2023-10-30T20:26:06.487090Z",
     "iopub.status.idle": "2023-10-30T20:26:06.731331Z",
     "shell.execute_reply": "2023-10-30T20:26:06.730716Z",
     "shell.execute_reply.started": "2023-10-30T20:26:06.487298Z"
    }
   },
   "outputs": [
    {
     "data": {
      "application/vnd.jupyter.widget-view+json": {
       "model_id": "338384c9b16b4ebdb8d067b6efc05f10",
       "version_major": 2,
       "version_minor": 0
      },
      "text/plain": [
       "VBox()"
      ]
     },
     "metadata": {},
     "output_type": "display_data"
    },
    {
     "data": {
      "application/vnd.jupyter.widget-view+json": {
       "model_id": "",
       "version_major": 2,
       "version_minor": 0
      },
      "text/plain": [
       "FloatProgress(value=0.0, bar_style='info', description='Progress:', layout=Layout(height='25px', width='50%'),…"
      ]
     },
     "metadata": {},
     "output_type": "display_data"
    }
   ],
   "source": [
    "doc_example_df = spark.read.format(\"binaryFile\").load(\"/user/hadoop/doc2.docx\").cache()"
   ]
  },
  {
   "cell_type": "markdown",
   "metadata": {},
   "source": [
    "### DocxtoText"
   ]
  },
  {
   "cell_type": "markdown",
   "metadata": {},
   "source": [
    "#### Extract text using DocToText transformer"
   ]
  },
  {
   "cell_type": "code",
   "execution_count": 66,
   "metadata": {
    "execution": {
     "iopub.execute_input": "2023-10-30T20:26:06.732478Z",
     "iopub.status.busy": "2023-10-30T20:26:06.732256Z",
     "iopub.status.idle": "2023-10-30T20:26:06.975821Z",
     "shell.execute_reply": "2023-10-30T20:26:06.975176Z",
     "shell.execute_reply.started": "2023-10-30T20:26:06.732455Z"
    }
   },
   "outputs": [
    {
     "data": {
      "application/vnd.jupyter.widget-view+json": {
       "model_id": "0761cea63473408a921a945a9a4208d2",
       "version_major": 2,
       "version_minor": 0
      },
      "text/plain": [
       "VBox()"
      ]
     },
     "metadata": {},
     "output_type": "display_data"
    },
    {
     "data": {
      "application/vnd.jupyter.widget-view+json": {
       "model_id": "",
       "version_major": 2,
       "version_minor": 0
      },
      "text/plain": [
       "FloatProgress(value=0.0, bar_style='info', description='Progress:', layout=Layout(height='25px', width='50%'),…"
      ]
     },
     "metadata": {},
     "output_type": "display_data"
    }
   ],
   "source": [
    "from sparkocr.transformers import *\n",
    "\n",
    "doc_to_text = DocToText()\n",
    "doc_to_text.setInputCol(\"content\")\n",
    "doc_to_text.setOutputCol(\"text\")\n",
    "\n",
    "result = doc_to_text.transform(doc_example_df)"
   ]
  },
  {
   "cell_type": "markdown",
   "metadata": {},
   "source": [
    "#### Display result DataFrame"
   ]
  },
  {
   "cell_type": "code",
   "execution_count": 67,
   "metadata": {
    "execution": {
     "iopub.execute_input": "2023-10-30T20:26:06.977040Z",
     "iopub.status.busy": "2023-10-30T20:26:06.976808Z",
     "iopub.status.idle": "2023-10-30T20:26:07.722981Z",
     "shell.execute_reply": "2023-10-30T20:26:07.722338Z",
     "shell.execute_reply.started": "2023-10-30T20:26:06.977017Z"
    }
   },
   "outputs": [
    {
     "data": {
      "application/vnd.jupyter.widget-view+json": {
       "model_id": "aaae56b61c6c44fda8d528b891a2d80b",
       "version_major": 2,
       "version_minor": 0
      },
      "text/plain": [
       "VBox()"
      ]
     },
     "metadata": {},
     "output_type": "display_data"
    },
    {
     "data": {
      "application/vnd.jupyter.widget-view+json": {
       "model_id": "",
       "version_major": 2,
       "version_minor": 0
      },
      "text/plain": [
       "FloatProgress(value=0.0, bar_style='info', description='Progress:', layout=Layout(height='25px', width='50%'),…"
      ]
     },
     "metadata": {},
     "output_type": "display_data"
    },
    {
     "name": "stdout",
     "output_type": "stream",
     "text": [
      "+--------------------+--------------------+------+--------------------+---------+-------+\n",
      "|                path|    modificationTime|length|                text|exception|pagenum|\n",
      "+--------------------+--------------------+------+--------------------+---------+-------+\n",
      "|hdfs://ip-172-31-...|2023-10-30 20:26:...| 33260|Sample Document\\n...|     null|      0|\n",
      "+--------------------+--------------------+------+--------------------+---------+-------+"
     ]
    }
   ],
   "source": [
    "result.show()"
   ]
  },
  {
   "cell_type": "markdown",
   "metadata": {},
   "source": [
    "#### Display extracted text"
   ]
  },
  {
   "cell_type": "code",
   "execution_count": 68,
   "metadata": {
    "execution": {
     "iopub.execute_input": "2023-10-30T20:26:07.732195Z",
     "iopub.status.busy": "2023-10-30T20:26:07.731945Z",
     "iopub.status.idle": "2023-10-30T20:26:07.973685Z",
     "shell.execute_reply": "2023-10-30T20:26:07.973067Z",
     "shell.execute_reply.started": "2023-10-30T20:26:07.732159Z"
    }
   },
   "outputs": [
    {
     "data": {
      "application/vnd.jupyter.widget-view+json": {
       "model_id": "3948d5f196db40588e67fb4accf0f287",
       "version_major": 2,
       "version_minor": 0
      },
      "text/plain": [
       "VBox()"
      ]
     },
     "metadata": {},
     "output_type": "display_data"
    },
    {
     "data": {
      "application/vnd.jupyter.widget-view+json": {
       "model_id": "",
       "version_major": 2,
       "version_minor": 0
      },
      "text/plain": [
       "FloatProgress(value=0.0, bar_style='info', description='Progress:', layout=Layout(height='25px', width='50%'),…"
      ]
     },
     "metadata": {},
     "output_type": "display_data"
    },
    {
     "name": "stdout",
     "output_type": "stream",
     "text": [
      "Sample Document\n",
      "This document was created using accessibility techniques for headings, lists, image alternate text, tables, and columns. It should be completely accessible using assistive technologies such as screen readers.\n",
      "Headings\n",
      "There are eight section headings in this document. At the beginning, \"Sample Document\" is a level 1 heading. The main section headings, such as \"Headings\" and \"Lists\" are level 2 headings. The Tables section contains two sub-headings, \"Simple Table\" and \"Complex Table,\" which are both level 3 headings.\n",
      "Lists\n",
      "The following outline of the sections of this document is an ordered (numbered) list with six items. The fifth item, \"Tables,\" contains a nested unordered (bulleted) list with two items.\n",
      "Headings \n",
      "Lists \n",
      "Links \n",
      "Images \n",
      "Tables \n",
      "Simple Tables \n",
      "Complex Tables \n",
      "Columns \n",
      "Links\n",
      "In web documents, links can point different locations on the page, different pages, or even downloadable documents, such as Word documents or PDFs:\n",
      "Top of this Page\n",
      "Sample Document\n",
      "Sample Document (docx)\n",
      "Images\n",
      "Documents may contain images. For example, there is an image of the web accessibility symbol to the left of this paragraph. Its alternate text is \"Web Access Symbol\".\n",
      "Alt text should communicate what an image means, not how it looks.\n",
      "\n",
      "\n",
      "\n",
      "\n",
      "\n",
      "\n",
      "Some images, such as charts or graphs, require long descriptions, but not all document types allow that. In web pages, long descriptions may be provided in several ways: on the page below the image, via a link below the image, or via a link on the image.\n",
      "\n",
      "\n",
      "\n",
      "\n",
      "Tables\n",
      "Simple Tables\n",
      "Simple tables have a uniform number of columns and rows, without any merged cells:\n",
      "Screen Reader\tResponses\tShare\n",
      "JAWS\t853\t49%\n",
      "NVDA\t238\t14%\n",
      "Window-Eyes\t214\t12%\n",
      "System Access\t181\t10%\n",
      "VoiceOver\t159\t9%\n",
      "\n",
      "\n",
      "Complex Tables\n",
      "The following is a complex table, using merged cells as headers for sections within the table. This can't be made accessible in all types of documents:\n",
      "\tMay 2012\t September 2010\n",
      "Screen Reader\tResponses\tShare\tResponses\tShare \n",
      "JAWS\t853\t49%\t727\t59% \n",
      "NVDA\t238\t14%\t105\t9% \n",
      "Window-Eyes\t214\t12%\t138\t11% \n",
      "System Access\t181\t10%\t58\t5% \n",
      "VoiceOver\t159\t9%\t120\t10%\n",
      "\n",
      " \n",
      "\n",
      "\n",
      "\n",
      "Columns\n",
      "\n",
      "This is an example of columns. With columns, the page is split into two or more horizontal sections. Unlike tables, in which you usually read across a row and then down to the next, in columns, you read down a column and then across to the next.\n",
      "When columns are not created correctly, screen readers may run lines together, reading the first line of the first column, then the first line of the second column, then the second line of the first column, and so on. Obviously, that is not accessible."
     ]
    }
   ],
   "source": [
    "print(\"\\n\".join([row.text for row in result.select(\"text\").collect()]))"
   ]
  },
  {
   "cell_type": "markdown",
   "metadata": {},
   "source": [
    "### DocxToTextTable\n",
    "#### (Extracting table data from Microsoft DOCX documents)"
   ]
  },
  {
   "cell_type": "markdown",
   "metadata": {},
   "source": [
    "#### Preview document using DocToPdf and PdfToImage transformers"
   ]
  },
  {
   "cell_type": "code",
   "execution_count": 69,
   "metadata": {
    "execution": {
     "iopub.execute_input": "2023-10-30T20:26:07.976150Z",
     "iopub.status.busy": "2023-10-30T20:26:07.975807Z",
     "iopub.status.idle": "2023-10-30T20:26:09.222749Z",
     "shell.execute_reply": "2023-10-30T20:26:09.222091Z",
     "shell.execute_reply.started": "2023-10-30T20:26:07.976119Z"
    }
   },
   "outputs": [
    {
     "data": {
      "application/vnd.jupyter.widget-view+json": {
       "model_id": "0e3f06661e5e49928d641a80f5861d4c",
       "version_major": 2,
       "version_minor": 0
      },
      "text/plain": [
       "VBox()"
      ]
     },
     "metadata": {},
     "output_type": "display_data"
    },
    {
     "data": {
      "application/vnd.jupyter.widget-view+json": {
       "model_id": "",
       "version_major": 2,
       "version_minor": 0
      },
      "text/plain": [
       "FloatProgress(value=0.0, bar_style='info', description='Progress:', layout=Layout(height='25px', width='50%'),…"
      ]
     },
     "metadata": {},
     "output_type": "display_data"
    },
    {
     "name": "stdout",
     "output_type": "stream",
     "text": [
      "\n",
      "    Image #0:\n",
      "    Origin: hdfs://ip-172-31-20-250.us-east-2.compute.internal:8020/user/hadoop/doc2.docx\n",
      "    Resolution: 100 dpi\n",
      "    Width: 849 px\n",
      "    Height: 1100 px\n",
      "    Mode: ImageType.TYPE_BYTE_GRAY\n",
      "    Number of channels: 1\n",
      "<PIL.Image.Image image mode=L size=849x1100 at 0x7FA955486850>\n",
      "\n",
      "    Image #0:\n",
      "    Origin: hdfs://ip-172-31-20-250.us-east-2.compute.internal:8020/user/hadoop/doc2.docx\n",
      "    Resolution: 100 dpi\n",
      "    Width: 849 px\n",
      "    Height: 1100 px\n",
      "    Mode: ImageType.TYPE_BYTE_GRAY\n",
      "    Number of channels: 1\n",
      "<PIL.Image.Image image mode=L size=849x1100 at 0x7FA955464E10>\n",
      "\n",
      "    Image #0:\n",
      "    Origin: hdfs://ip-172-31-20-250.us-east-2.compute.internal:8020/user/hadoop/doc2.docx\n",
      "    Resolution: 100 dpi\n",
      "    Width: 849 px\n",
      "    Height: 1100 px\n",
      "    Mode: ImageType.TYPE_BYTE_GRAY\n",
      "    Number of channels: 1\n",
      "<PIL.Image.Image image mode=L size=849x1100 at 0x7FA955464E10>"
     ]
    }
   ],
   "source": [
    "image_df = PdfToImage().setResolution(100).transform(DocToPdf().setOutputCol(\"content\").transform(doc_example_df))\n",
    "for r in image_df.select(\"image\").collect():\n",
    "    display_image(r.image)"
   ]
  },
  {
   "cell_type": "markdown",
   "metadata": {},
   "source": [
    "#### Extract text using DocToText transformer"
   ]
  },
  {
   "cell_type": "code",
   "execution_count": 70,
   "metadata": {
    "execution": {
     "iopub.execute_input": "2023-10-30T20:26:09.223853Z",
     "iopub.status.busy": "2023-10-30T20:26:09.223634Z",
     "iopub.status.idle": "2023-10-30T20:26:09.475677Z",
     "shell.execute_reply": "2023-10-30T20:26:09.474979Z",
     "shell.execute_reply.started": "2023-10-30T20:26:09.223830Z"
    }
   },
   "outputs": [
    {
     "data": {
      "application/vnd.jupyter.widget-view+json": {
       "model_id": "58208b15a7214daa8cf9e36ee0d425d3",
       "version_major": 2,
       "version_minor": 0
      },
      "text/plain": [
       "VBox()"
      ]
     },
     "metadata": {},
     "output_type": "display_data"
    },
    {
     "data": {
      "application/vnd.jupyter.widget-view+json": {
       "model_id": "",
       "version_major": 2,
       "version_minor": 0
      },
      "text/plain": [
       "FloatProgress(value=0.0, bar_style='info', description='Progress:', layout=Layout(height='25px', width='50%'),…"
      ]
     },
     "metadata": {},
     "output_type": "display_data"
    },
    {
     "name": "stdout",
     "output_type": "stream",
     "text": [
      "+--------------------+--------------------+------+--------------------+---------+\n",
      "|                path|    modificationTime|length|              tables|exception|\n",
      "+--------------------+--------------------+------+--------------------+---------+\n",
      "|hdfs://ip-172-31-...|2023-10-30 20:26:...| 33260|{{0, 0, 0.0, 0.0,...|     null|\n",
      "|hdfs://ip-172-31-...|2023-10-30 20:26:...| 33260|{{1, 0, 0.0, 0.0,...|     null|\n",
      "+--------------------+--------------------+------+--------------------+---------+"
     ]
    }
   ],
   "source": [
    "doc_to_table = DocToTextTable()\n",
    "doc_to_table.setInputCol(\"content\")\n",
    "doc_to_table.setOutputCol(\"tables\")\n",
    "\n",
    "result = doc_to_table.transform(doc_example_df)\n",
    "\n",
    "result.show()"
   ]
  },
  {
   "cell_type": "code",
   "execution_count": 71,
   "metadata": {
    "execution": {
     "iopub.execute_input": "2023-10-30T20:26:09.476897Z",
     "iopub.status.busy": "2023-10-30T20:26:09.476663Z",
     "iopub.status.idle": "2023-10-30T20:26:09.723186Z",
     "shell.execute_reply": "2023-10-30T20:26:09.722579Z",
     "shell.execute_reply.started": "2023-10-30T20:26:09.476873Z"
    }
   },
   "outputs": [
    {
     "data": {
      "application/vnd.jupyter.widget-view+json": {
       "model_id": "613c896b9ba0483698aa2a76bc5f31fd",
       "version_major": 2,
       "version_minor": 0
      },
      "text/plain": [
       "VBox()"
      ]
     },
     "metadata": {},
     "output_type": "display_data"
    },
    {
     "data": {
      "application/vnd.jupyter.widget-view+json": {
       "model_id": "",
       "version_major": 2,
       "version_minor": 0
      },
      "text/plain": [
       "FloatProgress(value=0.0, bar_style='info', description='Progress:', layout=Layout(height='25px', width='50%'),…"
      ]
     },
     "metadata": {},
     "output_type": "display_data"
    },
    {
     "name": "stdout",
     "output_type": "stream",
     "text": [
      "+-----------------------------------------+\n",
      "|tables.chunks AS chunks#9817[3].chunkText|\n",
      "+-----------------------------------------+\n",
      "|[Window-Eyes, 214, 12%]                  |\n",
      "|[NVDA, 238, 14%, 105, 9% ]               |\n",
      "+-----------------------------------------+"
     ]
    }
   ],
   "source": [
    "result.select(result[\"tables.chunks\"].getItem(3)[\"chunkText\"]).show(truncate=False)"
   ]
  },
  {
   "cell_type": "markdown",
   "metadata": {},
   "source": [
    "#### Display extracted data in JSON format"
   ]
  },
  {
   "cell_type": "code",
   "execution_count": 72,
   "metadata": {
    "execution": {
     "iopub.execute_input": "2023-10-30T20:26:09.724375Z",
     "iopub.status.busy": "2023-10-30T20:26:09.724116Z",
     "iopub.status.idle": "2023-10-30T20:26:11.978977Z",
     "shell.execute_reply": "2023-10-30T20:26:11.978374Z",
     "shell.execute_reply.started": "2023-10-30T20:26:09.724351Z"
    }
   },
   "outputs": [
    {
     "data": {
      "application/vnd.jupyter.widget-view+json": {
       "model_id": "b3cf1af5ade548e98be6a696273cf1e2",
       "version_major": 2,
       "version_minor": 0
      },
      "text/plain": [
       "VBox()"
      ]
     },
     "metadata": {},
     "output_type": "display_data"
    },
    {
     "data": {
      "application/vnd.jupyter.widget-view+json": {
       "model_id": "",
       "version_major": 2,
       "version_minor": 0
      },
      "text/plain": [
       "FloatProgress(value=0.0, bar_style='info', description='Progress:', layout=Layout(height='25px', width='50%'),…"
      ]
     },
     "metadata": {},
     "output_type": "display_data"
    },
    {
     "name": "stdout",
     "output_type": "stream",
     "text": [
      "{\n",
      "    \"tables\": {\n",
      "        \"area\": {\n",
      "            \"index\": 0,\n",
      "            \"page\": 0,\n",
      "            \"x\": 0.0,\n",
      "            \"y\": 0.0,\n",
      "            \"width\": 0.0,\n",
      "            \"height\": 0.0,\n",
      "            \"score\": 0.0,\n",
      "            \"label\": \"0\",\n",
      "            \"angle\": 0.0\n",
      "        },\n",
      "        \"chunks\": [\n",
      "            [\n",
      "                {\n",
      "                    \"chunkText\": \"Screen Reader\",\n",
      "                    \"x\": 0.0,\n",
      "                    \"y\": 0.0,\n",
      "                    \"width\": 90.0,\n",
      "                    \"height\": 0.0\n",
      "                },\n",
      "                {\n",
      "                    \"chunkText\": \"Responses\",\n",
      "                    \"x\": 0.0,\n",
      "                    \"y\": 0.0,\n",
      "                    \"width\": 95.75,\n",
      "                    \"height\": 0.0\n",
      "                },\n",
      "                {\n",
      "                    \"chunkText\": \"Share\",\n",
      "                    \"x\": 0.0,\n",
      "                    \"y\": 0.0,\n",
      "                    \"width\": 95.75,\n",
      "                    \"height\": 0.0\n",
      "                }\n",
      "            ],\n",
      "            [\n",
      "                {\n",
      "                    \"chunkText\": \"JAWS\",\n",
      "                    \"x\": 0.0,\n",
      "                    \"y\": 0.0,\n",
      "                    \"width\": 90.0,\n",
      "                    \"height\": 0.0\n",
      "                },\n",
      "                {\n",
      "                    \"chunkText\": \"853\",\n",
      "                    \"x\": 0.0,\n",
      "                    \"y\": 0.0,\n",
      "                    \"width\": 95.75,\n",
      "                    \"height\": 0.0\n",
      "                },\n",
      "                {\n",
      "                    \"chunkText\": \"49%\",\n",
      "                    \"x\": 0.0,\n",
      "                    \"y\": 0.0,\n",
      "                    \"width\": 95.75,\n",
      "                    \"height\": 0.0\n",
      "                }\n",
      "            ],\n",
      "            [\n",
      "                {\n",
      "                    \"chunkText\": \"NVDA\",\n",
      "                    \"x\": 0.0,\n",
      "                    \"y\": 0.0,\n",
      "                    \"width\": 90.0,\n",
      "                    \"height\": 0.0\n",
      "                },\n",
      "                {\n",
      "                    \"chunkText\": \"238\",\n",
      "                    \"x\": 0.0,\n",
      "                    \"y\": 0.0,\n",
      "                    \"width\": 95.75,\n",
      "                    \"height\": 0.0\n",
      "                },\n",
      "                {\n",
      "                    \"chunkText\": \"14%\",\n",
      "                    \"x\": 0.0,\n",
      "                    \"y\": 0.0,\n",
      "                    \"width\": 95.75,\n",
      "                    \"height\": 0.0\n",
      "                }\n",
      "            ],\n",
      "            [\n",
      "                {\n",
      "                    \"chunkText\": \"Window-Eyes\",\n",
      "                    \"x\": 0.0,\n",
      "                    \"y\": 0.0,\n",
      "                    \"width\": 90.0,\n",
      "                    \"height\": 0.0\n",
      "                },\n",
      "                {\n",
      "                    \"chunkText\": \"214\",\n",
      "                    \"x\": 0.0,\n",
      "                    \"y\": 0.0,\n",
      "                    \"width\": 95.75,\n",
      "                    \"height\": 0.0\n",
      "                },\n",
      "                {\n",
      "                    \"chunkText\": \"12%\",\n",
      "                    \"x\": 0.0,\n",
      "                    \"y\": 0.0,\n",
      "                    \"width\": 95.75,\n",
      "                    \"height\": 0.0\n",
      "                }\n",
      "            ],\n",
      "            [\n",
      "                {\n",
      "                    \"chunkText\": \"System Access\",\n",
      "                    \"x\": 0.0,\n",
      "                    \"y\": 0.0,\n",
      "                    \"width\": 90.0,\n",
      "                    \"height\": 0.0\n",
      "                },\n",
      "                {\n",
      "                    \"chunkText\": \"181\",\n",
      "                    \"x\": 0.0,\n",
      "                    \"y\": 0.0,\n",
      "                    \"width\": 95.75,\n",
      "                    \"height\": 0.0\n",
      "                },\n",
      "                {\n",
      "                    \"chunkText\": \"10%\",\n",
      "                    \"x\": 0.0,\n",
      "                    \"y\": 0.0,\n",
      "                    \"width\": 95.75,\n",
      "                    \"height\": 0.0\n",
      "                }\n",
      "            ],\n",
      "            [\n",
      "                {\n",
      "                    \"chunkText\": \"VoiceOver\",\n",
      "                    \"x\": 0.0,\n",
      "                    \"y\": 0.0,\n",
      "                    \"width\": 90.0,\n",
      "                    \"height\": 0.0\n",
      "                },\n",
      "                {\n",
      "                    \"chunkText\": \"159\",\n",
      "                    \"x\": 0.0,\n",
      "                    \"y\": 0.0,\n",
      "                    \"width\": 95.75,\n",
      "                    \"height\": 0.0\n",
      "                },\n",
      "                {\n",
      "                    \"chunkText\": \"9%\",\n",
      "                    \"x\": 0.0,\n",
      "                    \"y\": 0.0,\n",
      "                    \"width\": 95.75,\n",
      "                    \"height\": 0.0\n",
      "                }\n",
      "            ]\n",
      "        ]\n",
      "    }\n",
      "}\n",
      "{\n",
      "    \"tables\": {\n",
      "        \"area\": {\n",
      "            \"index\": 1,\n",
      "            \"page\": 0,\n",
      "            \"x\": 0.0,\n",
      "            \"y\": 0.0,\n",
      "            \"width\": 0.0,\n",
      "            \"height\": 0.0,\n",
      "            \"score\": 0.0,\n",
      "            \"label\": \"0\",\n",
      "            \"angle\": 0.0\n",
      "        },\n",
      "        \"chunks\": [\n",
      "            [\n",
      "                {\n",
      "                    \"chunkText\": \"\",\n",
      "                    \"x\": 0.0,\n",
      "                    \"y\": 0.0,\n",
      "                    \"width\": 90.0,\n",
      "                    \"height\": 0.0\n",
      "                },\n",
      "                {\n",
      "                    \"chunkText\": \"May 2012\",\n",
      "                    \"x\": 0.0,\n",
      "                    \"y\": 0.0,\n",
      "                    \"width\": 191.5,\n",
      "                    \"height\": 0.0\n",
      "                },\n",
      "                {\n",
      "                    \"chunkText\": \" September 2010\",\n",
      "                    \"x\": 0.0,\n",
      "                    \"y\": 0.0,\n",
      "                    \"width\": 191.55,\n",
      "                    \"height\": 0.0\n",
      "                }\n",
      "            ],\n",
      "            [\n",
      "                {\n",
      "                    \"chunkText\": \"Screen Reader\",\n",
      "                    \"x\": 0.0,\n",
      "                    \"y\": 0.0,\n",
      "                    \"width\": 90.0,\n",
      "                    \"height\": 0.0\n",
      "                },\n",
      "                {\n",
      "                    \"chunkText\": \"Responses\",\n",
      "                    \"x\": 0.0,\n",
      "                    \"y\": 0.0,\n",
      "                    \"width\": 95.75,\n",
      "                    \"height\": 0.0\n",
      "                },\n",
      "                {\n",
      "                    \"chunkText\": \"Share\",\n",
      "                    \"x\": 0.0,\n",
      "                    \"y\": 0.0,\n",
      "                    \"width\": 95.75,\n",
      "                    \"height\": 0.0\n",
      "                },\n",
      "                {\n",
      "                    \"chunkText\": \"Responses\",\n",
      "                    \"x\": 0.0,\n",
      "                    \"y\": 0.0,\n",
      "                    \"width\": 95.75,\n",
      "                    \"height\": 0.0\n",
      "                },\n",
      "                {\n",
      "                    \"chunkText\": \"Share \",\n",
      "                    \"x\": 0.0,\n",
      "                    \"y\": 0.0,\n",
      "                    \"width\": 95.8,\n",
      "                    \"height\": 0.0\n",
      "                }\n",
      "            ],\n",
      "            [\n",
      "                {\n",
      "                    \"chunkText\": \"JAWS\",\n",
      "                    \"x\": 0.0,\n",
      "                    \"y\": 0.0,\n",
      "                    \"width\": 90.0,\n",
      "                    \"height\": 0.0\n",
      "                },\n",
      "                {\n",
      "                    \"chunkText\": \"853\",\n",
      "                    \"x\": 0.0,\n",
      "                    \"y\": 0.0,\n",
      "                    \"width\": 95.75,\n",
      "                    \"height\": 0.0\n",
      "                },\n",
      "                {\n",
      "                    \"chunkText\": \"49%\",\n",
      "                    \"x\": 0.0,\n",
      "                    \"y\": 0.0,\n",
      "                    \"width\": 95.75,\n",
      "                    \"height\": 0.0\n",
      "                },\n",
      "                {\n",
      "                    \"chunkText\": \"727\",\n",
      "                    \"x\": 0.0,\n",
      "                    \"y\": 0.0,\n",
      "                    \"width\": 95.75,\n",
      "                    \"height\": 0.0\n",
      "                },\n",
      "                {\n",
      "                    \"chunkText\": \"59% \",\n",
      "                    \"x\": 0.0,\n",
      "                    \"y\": 0.0,\n",
      "                    \"width\": 95.8,\n",
      "                    \"height\": 0.0\n",
      "                }\n",
      "            ],\n",
      "            [\n",
      "                {\n",
      "                    \"chunkText\": \"NVDA\",\n",
      "                    \"x\": 0.0,\n",
      "                    \"y\": 0.0,\n",
      "                    \"width\": 90.0,\n",
      "                    \"height\": 0.0\n",
      "                },\n",
      "                {\n",
      "                    \"chunkText\": \"238\",\n",
      "                    \"x\": 0.0,\n",
      "                    \"y\": 0.0,\n",
      "                    \"width\": 95.75,\n",
      "                    \"height\": 0.0\n",
      "                },\n",
      "                {\n",
      "                    \"chunkText\": \"14%\",\n",
      "                    \"x\": 0.0,\n",
      "                    \"y\": 0.0,\n",
      "                    \"width\": 95.75,\n",
      "                    \"height\": 0.0\n",
      "                },\n",
      "                {\n",
      "                    \"chunkText\": \"105\",\n",
      "                    \"x\": 0.0,\n",
      "                    \"y\": 0.0,\n",
      "                    \"width\": 95.75,\n",
      "                    \"height\": 0.0\n",
      "                },\n",
      "                {\n",
      "                    \"chunkText\": \"9% \",\n",
      "                    \"x\": 0.0,\n",
      "                    \"y\": 0.0,\n",
      "                    \"width\": 95.8,\n",
      "                    \"height\": 0.0\n",
      "                }\n",
      "            ],\n",
      "            [\n",
      "                {\n",
      "                    \"chunkText\": \"Window-Eyes\",\n",
      "                    \"x\": 0.0,\n",
      "                    \"y\": 0.0,\n",
      "                    \"width\": 90.0,\n",
      "                    \"height\": 0.0\n",
      "                },\n",
      "                {\n",
      "                    \"chunkText\": \"214\",\n",
      "                    \"x\": 0.0,\n",
      "                    \"y\": 0.0,\n",
      "                    \"width\": 95.75,\n",
      "                    \"height\": 0.0\n",
      "                },\n",
      "                {\n",
      "                    \"chunkText\": \"12%\",\n",
      "                    \"x\": 0.0,\n",
      "                    \"y\": 0.0,\n",
      "                    \"width\": 95.75,\n",
      "                    \"height\": 0.0\n",
      "                },\n",
      "                {\n",
      "                    \"chunkText\": \"138\",\n",
      "                    \"x\": 0.0,\n",
      "                    \"y\": 0.0,\n",
      "                    \"width\": 95.75,\n",
      "                    \"height\": 0.0\n",
      "                },\n",
      "                {\n",
      "                    \"chunkText\": \"11% \",\n",
      "                    \"x\": 0.0,\n",
      "                    \"y\": 0.0,\n",
      "                    \"width\": 95.8,\n",
      "                    \"height\": 0.0\n",
      "                }\n",
      "            ],\n",
      "            [\n",
      "                {\n",
      "                    \"chunkText\": \"System Access\",\n",
      "                    \"x\": 0.0,\n",
      "                    \"y\": 0.0,\n",
      "                    \"width\": 90.0,\n",
      "                    \"height\": 0.0\n",
      "                },\n",
      "                {\n",
      "                    \"chunkText\": \"181\",\n",
      "                    \"x\": 0.0,\n",
      "                    \"y\": 0.0,\n",
      "                    \"width\": 95.75,\n",
      "                    \"height\": 0.0\n",
      "                },\n",
      "                {\n",
      "                    \"chunkText\": \"10%\",\n",
      "                    \"x\": 0.0,\n",
      "                    \"y\": 0.0,\n",
      "                    \"width\": 95.75,\n",
      "                    \"height\": 0.0\n",
      "                },\n",
      "                {\n",
      "                    \"chunkText\": \"58\",\n",
      "                    \"x\": 0.0,\n",
      "                    \"y\": 0.0,\n",
      "                    \"width\": 95.75,\n",
      "                    \"height\": 0.0\n",
      "                },\n",
      "                {\n",
      "                    \"chunkText\": \"5% \",\n",
      "                    \"x\": 0.0,\n",
      "                    \"y\": 0.0,\n",
      "                    \"width\": 95.8,\n",
      "                    \"height\": 0.0\n",
      "                }\n",
      "            ],\n",
      "            [\n",
      "                {\n",
      "                    \"chunkText\": \"VoiceOver\",\n",
      "                    \"x\": 0.0,\n",
      "                    \"y\": 0.0,\n",
      "                    \"width\": 90.0,\n",
      "                    \"height\": 0.0\n",
      "                },\n",
      "                {\n",
      "                    \"chunkText\": \"159\",\n",
      "                    \"x\": 0.0,\n",
      "                    \"y\": 0.0,\n",
      "                    \"width\": 95.75,\n",
      "                    \"height\": 0.0\n",
      "                },\n",
      "                {\n",
      "                    \"chunkText\": \"9%\",\n",
      "                    \"x\": 0.0,\n",
      "                    \"y\": 0.0,\n",
      "                    \"width\": 95.75,\n",
      "                    \"height\": 0.0\n",
      "                },\n",
      "                {\n",
      "                    \"chunkText\": \"120\",\n",
      "                    \"x\": 0.0,\n",
      "                    \"y\": 0.0,\n",
      "                    \"width\": 95.75,\n",
      "                    \"height\": 0.0\n",
      "                },\n",
      "                {\n",
      "                    \"chunkText\": \"10%\",\n",
      "                    \"x\": 0.0,\n",
      "                    \"y\": 0.0,\n",
      "                    \"width\": 95.8,\n",
      "                    \"height\": 0.0\n",
      "                }\n",
      "            ]\n",
      "        ]\n",
      "    }\n",
      "}"
     ]
    }
   ],
   "source": [
    "import json\n",
    "df_json = result.select(\"tables\").toJSON()\n",
    "for row in df_json.collect():\n",
    "    print(json.dumps(json.loads(row), indent=4))"
   ]
  },
  {
   "cell_type": "markdown",
   "metadata": {},
   "source": [
    "## Text to Pdf"
   ]
  },
  {
   "cell_type": "code",
   "execution_count": 73,
   "metadata": {
    "execution": {
     "iopub.execute_input": "2023-10-30T20:26:11.980080Z",
     "iopub.status.busy": "2023-10-30T20:26:11.979862Z",
     "iopub.status.idle": "2023-10-30T20:26:12.032478Z",
     "shell.execute_reply": "2023-10-30T20:26:12.031861Z",
     "shell.execute_reply.started": "2023-10-30T20:26:11.980057Z"
    }
   },
   "outputs": [
    {
     "data": {
      "application/vnd.jupyter.widget-view+json": {
       "model_id": "0c4817825e1c43c29703767862cd943b",
       "version_major": 2,
       "version_minor": 0
      },
      "text/plain": [
       "VBox()"
      ]
     },
     "metadata": {},
     "output_type": "display_data"
    },
    {
     "data": {
      "application/vnd.jupyter.widget-view+json": {
       "model_id": "",
       "version_major": 2,
       "version_minor": 0
      },
      "text/plain": [
       "FloatProgress(value=0.0, bar_style='info', description='Progress:', layout=Layout(height='25px', width='50%'),…"
      ]
     },
     "metadata": {},
     "output_type": "display_data"
    }
   ],
   "source": [
    "def pipeline():\n",
    "    # Transforrm PDF document to images per page\n",
    "    pdf_to_image = PdfToImage() \\\n",
    "        .setInputCol(\"content\") \\\n",
    "        .setOutputCol(\"image\") \\\n",
    "        .setResolution(100) \\\n",
    "        .setKeepInput(True)\n",
    "\n",
    "    # Run OCR\n",
    "    ocr = ImageToText() \\\n",
    "        .setInputCol(\"image\") \\\n",
    "        .setOutputCol(\"text\") \\\n",
    "        .setConfidenceThreshold(60) \\\n",
    "        .setIgnoreResolution(False) \\\n",
    "        .setPageSegMode(PageSegmentationMode.SPARSE_TEXT)\n",
    "\n",
    "    # Render results to PDF\n",
    "    textToPdf = TextToPdf() \\\n",
    "        .setInputCol(\"positions\") \\\n",
    "        .setInputImage(\"image\") \\\n",
    "        .setOutputCol(\"pdf\")\n",
    "\n",
    "    pipeline = PipelineModel(stages=[\n",
    "        pdf_to_image,\n",
    "        ocr,\n",
    "        textToPdf\n",
    "    ])\n",
    "\n",
    "    return pipeline"
   ]
  },
  {
   "cell_type": "code",
   "execution_count": 74,
   "metadata": {
    "execution": {
     "iopub.execute_input": "2023-10-30T20:26:12.033555Z",
     "iopub.status.busy": "2023-10-30T20:26:12.033339Z",
     "iopub.status.idle": "2023-10-30T20:26:12.127574Z",
     "shell.execute_reply": "2023-10-30T20:26:12.126998Z",
     "shell.execute_reply.started": "2023-10-30T20:26:12.033534Z"
    }
   },
   "outputs": [
    {
     "data": {
      "application/vnd.jupyter.widget-view+json": {
       "model_id": "4d342db94a524f4aaf2cfd773428ef43",
       "version_major": 2,
       "version_minor": 0
      },
      "text/plain": [
       "VBox()"
      ]
     },
     "metadata": {},
     "output_type": "display_data"
    },
    {
     "data": {
      "application/vnd.jupyter.widget-view+json": {
       "model_id": "",
       "version_major": 2,
       "version_minor": 0
      },
      "text/plain": [
       "FloatProgress(value=0.0, bar_style='info', description='Progress:', layout=Layout(height='25px', width='50%'),…"
      ]
     },
     "metadata": {},
     "output_type": "display_data"
    }
   ],
   "source": [
    "# !wget -q https://raw.githubusercontent.com/JohnSnowLabs/spark-nlp-workshop/master/tutorials/Certification_Trainings/Healthcare/data/ocr/MT_00.pdf"
   ]
  },
  {
   "cell_type": "code",
   "execution_count": 75,
   "metadata": {
    "execution": {
     "iopub.execute_input": "2023-10-30T20:26:12.128657Z",
     "iopub.status.busy": "2023-10-30T20:26:12.128440Z",
     "iopub.status.idle": "2023-10-30T20:26:12.409017Z",
     "shell.execute_reply": "2023-10-30T20:26:12.408207Z",
     "shell.execute_reply.started": "2023-10-30T20:26:12.128635Z"
    },
    "tags": []
   },
   "outputs": [],
   "source": [
    "%%sh\n",
    "wget -q -O /tmp/test_document.pdf https://raw.githubusercontent.com/JohnSnowLabs/spark-nlp-workshop/master/tutorials/Certification_Trainings/Healthcare/data/ocr/test_document.pdf"
   ]
  },
  {
   "cell_type": "code",
   "execution_count": 76,
   "metadata": {
    "execution": {
     "iopub.execute_input": "2023-10-30T20:26:12.410409Z",
     "iopub.status.busy": "2023-10-30T20:26:12.410168Z",
     "iopub.status.idle": "2023-10-30T20:26:14.378141Z",
     "shell.execute_reply": "2023-10-30T20:26:14.377369Z",
     "shell.execute_reply.started": "2023-10-30T20:26:12.410382Z"
    },
    "tags": []
   },
   "outputs": [],
   "source": [
    "%%sh\n",
    "hdfs dfs -copyFromLocal /tmp/test_document.pdf /user/hadoop/test_document.pdf"
   ]
  },
  {
   "cell_type": "code",
   "execution_count": 77,
   "metadata": {
    "execution": {
     "iopub.execute_input": "2023-10-30T20:26:14.379421Z",
     "iopub.status.busy": "2023-10-30T20:26:14.379186Z",
     "iopub.status.idle": "2023-10-30T20:26:14.622469Z",
     "shell.execute_reply": "2023-10-30T20:26:14.621809Z",
     "shell.execute_reply.started": "2023-10-30T20:26:14.379393Z"
    },
    "tags": []
   },
   "outputs": [
    {
     "data": {
      "application/vnd.jupyter.widget-view+json": {
       "model_id": "eb8ae2cb71a04084837b4b8eb6111b37",
       "version_major": 2,
       "version_minor": 0
      },
      "text/plain": [
       "VBox()"
      ]
     },
     "metadata": {},
     "output_type": "display_data"
    },
    {
     "data": {
      "application/vnd.jupyter.widget-view+json": {
       "model_id": "",
       "version_major": 2,
       "version_minor": 0
      },
      "text/plain": [
       "FloatProgress(value=0.0, bar_style='info', description='Progress:', layout=Layout(height='25px', width='50%'),…"
      ]
     },
     "metadata": {},
     "output_type": "display_data"
    }
   ],
   "source": [
    "# pdf_example_df = spark.read.format(\"binaryFile\").load('MT_00.pdf').cache()\n",
    "pdf_example_df = spark.read.format(\"binaryFile\").load('/user/hadoop/test_document.pdf').cache()"
   ]
  },
  {
   "cell_type": "code",
   "execution_count": 78,
   "metadata": {
    "execution": {
     "iopub.execute_input": "2023-10-30T20:26:14.623638Z",
     "iopub.status.busy": "2023-10-30T20:26:14.623405Z",
     "iopub.status.idle": "2023-10-30T20:26:14.864073Z",
     "shell.execute_reply": "2023-10-30T20:26:14.863453Z",
     "shell.execute_reply.started": "2023-10-30T20:26:14.623616Z"
    },
    "tags": []
   },
   "outputs": [
    {
     "data": {
      "application/vnd.jupyter.widget-view+json": {
       "model_id": "d8a12606085645069d425b5c4849c301",
       "version_major": 2,
       "version_minor": 0
      },
      "text/plain": [
       "VBox()"
      ]
     },
     "metadata": {},
     "output_type": "display_data"
    },
    {
     "data": {
      "application/vnd.jupyter.widget-view+json": {
       "model_id": "",
       "version_major": 2,
       "version_minor": 0
      },
      "text/plain": [
       "FloatProgress(value=0.0, bar_style='info', description='Progress:', layout=Layout(height='25px', width='50%'),…"
      ]
     },
     "metadata": {},
     "output_type": "display_data"
    }
   ],
   "source": [
    "result = pipeline().transform(pdf_example_df).cache()"
   ]
  },
  {
   "cell_type": "code",
   "execution_count": 79,
   "metadata": {
    "execution": {
     "iopub.execute_input": "2023-10-30T20:26:14.865230Z",
     "iopub.status.busy": "2023-10-30T20:26:14.865011Z",
     "iopub.status.idle": "2023-10-30T20:26:14.902944Z",
     "shell.execute_reply": "2023-10-30T20:26:14.902362Z",
     "shell.execute_reply.started": "2023-10-30T20:26:14.865208Z"
    },
    "tags": []
   },
   "outputs": [
    {
     "data": {
      "application/vnd.jupyter.widget-view+json": {
       "model_id": "7c59cd09eb1c46dca2957bbad73edf63",
       "version_major": 2,
       "version_minor": 0
      },
      "text/plain": [
       "VBox()"
      ]
     },
     "metadata": {},
     "output_type": "display_data"
    },
    {
     "data": {
      "application/vnd.jupyter.widget-view+json": {
       "model_id": "",
       "version_major": 2,
       "version_minor": 0
      },
      "text/plain": [
       "FloatProgress(value=0.0, bar_style='info', description='Progress:', layout=Layout(height='25px', width='50%'),…"
      ]
     },
     "metadata": {},
     "output_type": "display_data"
    },
    {
     "name": "stdout",
     "output_type": "stream",
     "text": [
      "['path', 'text', 'pdf', 'exception']"
     ]
    }
   ],
   "source": [
    "result.columns"
   ]
  },
  {
   "cell_type": "code",
   "execution_count": 80,
   "metadata": {
    "execution": {
     "iopub.execute_input": "2023-10-30T20:26:14.904058Z",
     "iopub.status.busy": "2023-10-30T20:26:14.903843Z",
     "iopub.status.idle": "2023-10-30T20:26:16.154064Z",
     "shell.execute_reply": "2023-10-30T20:26:16.153448Z",
     "shell.execute_reply.started": "2023-10-30T20:26:14.904036Z"
    },
    "tags": []
   },
   "outputs": [
    {
     "data": {
      "application/vnd.jupyter.widget-view+json": {
       "model_id": "9bed0ada2df646aaaed2b7f9ea3529a4",
       "version_major": 2,
       "version_minor": 0
      },
      "text/plain": [
       "VBox()"
      ]
     },
     "metadata": {},
     "output_type": "display_data"
    },
    {
     "data": {
      "application/vnd.jupyter.widget-view+json": {
       "model_id": "",
       "version_major": 2,
       "version_minor": 0
      },
      "text/plain": [
       "FloatProgress(value=0.0, bar_style='info', description='Progress:', layout=Layout(height='25px', width='50%'),…"
      ]
     },
     "metadata": {},
     "output_type": "display_data"
    },
    {
     "name": "stdout",
     "output_type": "stream",
     "text": [
      "\n",
      "    Image #0:\n",
      "    Origin: hdfs://ip-172-31-20-250.us-east-2.compute.internal:8020/user/hadoop/test_document.pdf\n",
      "    Resolution: 100 dpi\n",
      "    Width: 1674 px\n",
      "    Height: 2205 px\n",
      "    Mode: ImageType.TYPE_BYTE_GRAY\n",
      "    Number of channels: 1\n",
      "<PIL.Image.Image image mode=L size=1674x2205 at 0x7FA955482D90>"
     ]
    }
   ],
   "source": [
    "display_image(PdfToImage().setResolution(100).transform(pdf_example_df).select(\"image\").collect()[0].image)"
   ]
  },
  {
   "cell_type": "code",
   "execution_count": 81,
   "metadata": {
    "execution": {
     "iopub.execute_input": "2023-10-30T20:26:16.155203Z",
     "iopub.status.busy": "2023-10-30T20:26:16.154974Z",
     "iopub.status.idle": "2023-10-30T20:26:21.436337Z",
     "shell.execute_reply": "2023-10-30T20:26:21.435660Z",
     "shell.execute_reply.started": "2023-10-30T20:26:16.155180Z"
    },
    "tags": []
   },
   "outputs": [
    {
     "data": {
      "application/vnd.jupyter.widget-view+json": {
       "model_id": "fbd4dc6331a34efe9e2fcf12036e9255",
       "version_major": 2,
       "version_minor": 0
      },
      "text/plain": [
       "VBox()"
      ]
     },
     "metadata": {},
     "output_type": "display_data"
    },
    {
     "data": {
      "application/vnd.jupyter.widget-view+json": {
       "model_id": "",
       "version_major": 2,
       "version_minor": 0
      },
      "text/plain": [
       "FloatProgress(value=0.0, bar_style='info', description='Progress:', layout=Layout(height='25px', width='50%'),…"
      ]
     },
     "metadata": {},
     "output_type": "display_data"
    }
   ],
   "source": [
    "# Store results to pdf file\n",
    "pdf = result.select(\"pdf\").head().pdf\n",
    "\n",
    "pdfFile = open(\"result.pdf\", \"wb\")\n",
    "\n",
    "pdfFile.write(pdf)\n",
    "\n",
    "pdfFile.close()"
   ]
  },
  {
   "cell_type": "code",
   "execution_count": 82,
   "metadata": {
    "execution": {
     "iopub.execute_input": "2023-10-30T20:26:21.437480Z",
     "iopub.status.busy": "2023-10-30T20:26:21.437260Z",
     "iopub.status.idle": "2023-10-30T20:26:22.186881Z",
     "shell.execute_reply": "2023-10-30T20:26:22.186256Z",
     "shell.execute_reply.started": "2023-10-30T20:26:21.437457Z"
    },
    "tags": []
   },
   "outputs": [
    {
     "data": {
      "application/vnd.jupyter.widget-view+json": {
       "model_id": "91eed63b98344c5fa4fde7b4b52876cf",
       "version_major": 2,
       "version_minor": 0
      },
      "text/plain": [
       "VBox()"
      ]
     },
     "metadata": {},
     "output_type": "display_data"
    },
    {
     "data": {
      "application/vnd.jupyter.widget-view+json": {
       "model_id": "",
       "version_major": 2,
       "version_minor": 0
      },
      "text/plain": [
       "FloatProgress(value=0.0, bar_style='info', description='Progress:', layout=Layout(height='25px', width='50%'),…"
      ]
     },
     "metadata": {},
     "output_type": "display_data"
    },
    {
     "name": "stdout",
     "output_type": "stream",
     "text": [
      "\n",
      "    Image #0:\n",
      "    Origin: hdfs://ip-172-31-20-250.us-east-2.compute.internal:8020/user/hadoop/test_document.pdf\n",
      "    Resolution: 100 dpi\n",
      "    Width: 1777 px\n",
      "    Height: 2444 px\n",
      "    Mode: ImageType.TYPE_BYTE_GRAY\n",
      "    Number of channels: 1\n",
      "<PIL.Image.Image image mode=L size=1777x2444 at 0x7FA9553B0B50>\n",
      "\n",
      "    Image #0:\n",
      "    Origin: hdfs://ip-172-31-20-250.us-east-2.compute.internal:8020/user/hadoop/test_document.pdf\n",
      "    Resolution: 100 dpi\n",
      "    Width: 1777 px\n",
      "    Height: 2333 px\n",
      "    Mode: ImageType.TYPE_BYTE_GRAY\n",
      "    Number of channels: 1\n",
      "<PIL.Image.Image image mode=L size=1777x2333 at 0x7FA9553B0E90>"
     ]
    }
   ],
   "source": [
    "# Convert pdf to image and display¶\n",
    "\n",
    "image_df = PdfToImage() \\\n",
    "    .setInputCol(\"pdf\") \\\n",
    "    .setOutputCol(\"image\") \\\n",
    "    .setResolution(100) \\\n",
    "    .transform(result.select(\"pdf\", \"path\"))\n",
    "\n",
    "for r in image_df.collect():\n",
    "    display_image(r.image)\n"
   ]
  },
  {
   "cell_type": "markdown",
   "metadata": {},
   "source": [
    "## Working with PPT Documents"
   ]
  },
  {
   "cell_type": "markdown",
   "metadata": {},
   "source": [
    "### Read PPT document"
   ]
  },
  {
   "cell_type": "code",
   "execution_count": 83,
   "metadata": {
    "execution": {
     "iopub.execute_input": "2023-10-30T20:26:22.187992Z",
     "iopub.status.busy": "2023-10-30T20:26:22.187771Z",
     "iopub.status.idle": "2023-10-30T20:26:22.632069Z",
     "shell.execute_reply": "2023-10-30T20:26:22.631285Z",
     "shell.execute_reply.started": "2023-10-30T20:26:22.187969Z"
    },
    "tags": []
   },
   "outputs": [],
   "source": [
    "%%sh\n",
    "wget -q -O /tmp/Spark_NLP_NER.pptx https://raw.githubusercontent.com/JohnSnowLabs/spark-nlp-workshop/master/tutorials/Certification_Trainings/Healthcare/data/ocr/Spark_NLP_NER.pptx"
   ]
  },
  {
   "cell_type": "code",
   "execution_count": 84,
   "metadata": {
    "execution": {
     "iopub.execute_input": "2023-10-30T20:26:22.633442Z",
     "iopub.status.busy": "2023-10-30T20:26:22.633206Z",
     "iopub.status.idle": "2023-10-30T20:26:24.644020Z",
     "shell.execute_reply": "2023-10-30T20:26:24.643316Z",
     "shell.execute_reply.started": "2023-10-30T20:26:22.633416Z"
    },
    "tags": []
   },
   "outputs": [],
   "source": [
    "%%sh\n",
    "hdfs dfs -copyFromLocal /tmp/Spark_NLP_NER.pptx /user/hadoop/Spark_NLP_NER.pptx"
   ]
  },
  {
   "cell_type": "code",
   "execution_count": 85,
   "metadata": {
    "execution": {
     "iopub.execute_input": "2023-10-30T20:26:24.645412Z",
     "iopub.status.busy": "2023-10-30T20:26:24.645175Z",
     "iopub.status.idle": "2023-10-30T20:26:24.888030Z",
     "shell.execute_reply": "2023-10-30T20:26:24.887420Z",
     "shell.execute_reply.started": "2023-10-30T20:26:24.645385Z"
    },
    "tags": []
   },
   "outputs": [
    {
     "data": {
      "application/vnd.jupyter.widget-view+json": {
       "model_id": "d7a484a706db44fcab081358718c9bfd",
       "version_major": 2,
       "version_minor": 0
      },
      "text/plain": [
       "VBox()"
      ]
     },
     "metadata": {},
     "output_type": "display_data"
    },
    {
     "data": {
      "application/vnd.jupyter.widget-view+json": {
       "model_id": "",
       "version_major": 2,
       "version_minor": 0
      },
      "text/plain": [
       "FloatProgress(value=0.0, bar_style='info', description='Progress:', layout=Layout(height='25px', width='50%'),…"
      ]
     },
     "metadata": {},
     "output_type": "display_data"
    }
   ],
   "source": [
    "ppt_example_df = spark.read.format(\"binaryFile\").load('/user/hadoop/Spark_NLP_NER.pptx').cache()"
   ]
  },
  {
   "cell_type": "code",
   "execution_count": 86,
   "metadata": {
    "execution": {
     "iopub.execute_input": "2023-10-30T20:26:24.889160Z",
     "iopub.status.busy": "2023-10-30T20:26:24.888941Z",
     "iopub.status.idle": "2023-10-30T20:26:28.150780Z",
     "shell.execute_reply": "2023-10-30T20:26:28.150154Z",
     "shell.execute_reply.started": "2023-10-30T20:26:24.889137Z"
    },
    "tags": []
   },
   "outputs": [
    {
     "data": {
      "application/vnd.jupyter.widget-view+json": {
       "model_id": "faa1320f0b724546991efc09da1ff882",
       "version_major": 2,
       "version_minor": 0
      },
      "text/plain": [
       "VBox()"
      ]
     },
     "metadata": {},
     "output_type": "display_data"
    },
    {
     "data": {
      "application/vnd.jupyter.widget-view+json": {
       "model_id": "",
       "version_major": 2,
       "version_minor": 0
      },
      "text/plain": [
       "FloatProgress(value=0.0, bar_style='info', description='Progress:', layout=Layout(height='25px', width='50%'),…"
      ]
     },
     "metadata": {},
     "output_type": "display_data"
    },
    {
     "name": "stdout",
     "output_type": "stream",
     "text": [
      "\n",
      "    Image #0:\n",
      "    Origin: hdfs://ip-172-31-20-250.us-east-2.compute.internal:8020/user/hadoop/Spark_NLP_NER.pptx\n",
      "    Resolution: 100 dpi\n",
      "    Width: 826 px\n",
      "    Height: 1169 px\n",
      "    Mode: ImageType.TYPE_3BYTE_BGR\n",
      "    Number of channels: 3\n",
      "<PIL.Image.Image image mode=RGB size=826x1169 at 0x7FA955498DD0>"
     ]
    }
   ],
   "source": [
    "#Read PPT document as binary file¶\n",
    "\n",
    "# convert PPT to PDF\n",
    "pdf_df = PptToPdf() \\\n",
    "    .setOutputCol(\"content\") \\\n",
    "    .transform(ppt_example_df)\n",
    "\n",
    "# Convert PDF to image for display\n",
    "image_df = PdfToImage() \\\n",
    "    .setImageType(ImageType.TYPE_3BYTE_BGR) \\\n",
    "    .setResolution(100) \\\n",
    "    .transform(pdf_df)\n",
    "\n",
    "display_images(image_df)"
   ]
  },
  {
   "cell_type": "markdown",
   "metadata": {},
   "source": [
    "### Extracting table data from PPT documents"
   ]
  },
  {
   "cell_type": "code",
   "execution_count": 87,
   "metadata": {
    "execution": {
     "iopub.execute_input": "2023-10-30T20:26:28.151911Z",
     "iopub.status.busy": "2023-10-30T20:26:28.151692Z",
     "iopub.status.idle": "2023-10-30T20:26:28.188631Z",
     "shell.execute_reply": "2023-10-30T20:26:28.187975Z",
     "shell.execute_reply.started": "2023-10-30T20:26:28.151888Z"
    },
    "tags": []
   },
   "outputs": [
    {
     "data": {
      "application/vnd.jupyter.widget-view+json": {
       "model_id": "8cde486c8bdd4dcab4bd113e33b5b013",
       "version_major": 2,
       "version_minor": 0
      },
      "text/plain": [
       "VBox()"
      ]
     },
     "metadata": {},
     "output_type": "display_data"
    },
    {
     "data": {
      "application/vnd.jupyter.widget-view+json": {
       "model_id": "",
       "version_major": 2,
       "version_minor": 0
      },
      "text/plain": [
       "FloatProgress(value=0.0, bar_style='info', description='Progress:', layout=Layout(height='25px', width='50%'),…"
      ]
     },
     "metadata": {},
     "output_type": "display_data"
    }
   ],
   "source": [
    "from sparkocr.transformers import *\n",
    "from sparkocr.utils import display_images, display_tables, display_pdf\n",
    "from pyspark.sql.functions import collect_list,col"
   ]
  },
  {
   "cell_type": "code",
   "execution_count": 88,
   "metadata": {
    "execution": {
     "iopub.execute_input": "2023-10-30T20:26:28.189757Z",
     "iopub.status.busy": "2023-10-30T20:26:28.189535Z",
     "iopub.status.idle": "2023-10-30T20:26:28.431099Z",
     "shell.execute_reply": "2023-10-30T20:26:28.430425Z",
     "shell.execute_reply.started": "2023-10-30T20:26:28.189734Z"
    },
    "tags": []
   },
   "outputs": [
    {
     "data": {
      "application/vnd.jupyter.widget-view+json": {
       "model_id": "3c1c5dc566c44e26a413a1758368b08c",
       "version_major": 2,
       "version_minor": 0
      },
      "text/plain": [
       "VBox()"
      ]
     },
     "metadata": {},
     "output_type": "display_data"
    },
    {
     "data": {
      "application/vnd.jupyter.widget-view+json": {
       "model_id": "",
       "version_major": 2,
       "version_minor": 0
      },
      "text/plain": [
       "FloatProgress(value=0.0, bar_style='info', description='Progress:', layout=Layout(height='25px', width='50%'),…"
      ]
     },
     "metadata": {},
     "output_type": "display_data"
    }
   ],
   "source": [
    "# Preview document using PptToPdf and PdfToImage transformers¶\n",
    "image_df = PptToPdf().setOutputCol(\"content\").transform(ppt_example_df)"
   ]
  },
  {
   "cell_type": "code",
   "execution_count": 89,
   "metadata": {
    "execution": {
     "iopub.execute_input": "2023-10-30T20:26:28.432256Z",
     "iopub.status.busy": "2023-10-30T20:26:28.432005Z",
     "iopub.status.idle": "2023-10-30T20:26:28.673955Z",
     "shell.execute_reply": "2023-10-30T20:26:28.673320Z",
     "shell.execute_reply.started": "2023-10-30T20:26:28.432232Z"
    },
    "tags": []
   },
   "outputs": [
    {
     "data": {
      "application/vnd.jupyter.widget-view+json": {
       "model_id": "f9f34ca2069a450c86ddbe80208616c4",
       "version_major": 2,
       "version_minor": 0
      },
      "text/plain": [
       "VBox()"
      ]
     },
     "metadata": {},
     "output_type": "display_data"
    },
    {
     "data": {
      "application/vnd.jupyter.widget-view+json": {
       "model_id": "",
       "version_major": 2,
       "version_minor": 0
      },
      "text/plain": [
       "FloatProgress(value=0.0, bar_style='info', description='Progress:', layout=Layout(height='25px', width='50%'),…"
      ]
     },
     "metadata": {},
     "output_type": "display_data"
    }
   ],
   "source": [
    "#Extract tables from PPT using PptToTextTable transformer¶\n",
    "\n",
    "ppt_to_table = PptToTextTable()\n",
    "ppt_to_table.setInputCol(\"content\")\n",
    "ppt_to_table.setOutputCol(\"table\")\n",
    "\n",
    "result = ppt_to_table.transform(ppt_example_df).cache()"
   ]
  },
  {
   "cell_type": "code",
   "execution_count": 90,
   "metadata": {
    "execution": {
     "iopub.execute_input": "2023-10-30T20:26:28.675050Z",
     "iopub.status.busy": "2023-10-30T20:26:28.674820Z",
     "iopub.status.idle": "2023-10-30T20:26:29.477277Z",
     "shell.execute_reply": "2023-10-30T20:26:29.476438Z",
     "shell.execute_reply.started": "2023-10-30T20:26:28.675027Z"
    },
    "tags": []
   },
   "outputs": [
    {
     "data": {
      "application/vnd.jupyter.widget-view+json": {
       "model_id": "10d491fc2f3f41a6b9907fad06beeb10",
       "version_major": 2,
       "version_minor": 0
      },
      "text/plain": [
       "VBox()"
      ]
     },
     "metadata": {},
     "output_type": "display_data"
    },
    {
     "data": {
      "application/vnd.jupyter.widget-view+json": {
       "model_id": "",
       "version_major": 2,
       "version_minor": 0
      },
      "text/plain": [
       "FloatProgress(value=0.0, bar_style='info', description='Progress:', layout=Layout(height='25px', width='50%'),…"
      ]
     },
     "metadata": {},
     "output_type": "display_data"
    },
    {
     "name": "stdout",
     "output_type": "stream",
     "text": [
      "+--------------------+--------------------+-------+--------------------+---------+-------+\n",
      "|                path|    modificationTime| length|               table|exception|pagenum|\n",
      "+--------------------+--------------------+-------+--------------------+---------+-------+\n",
      "|hdfs://ip-172-31-...|2023-10-30 20:26:...|4490997|{{0, 0, 304.01157...|     null|      0|\n",
      "+--------------------+--------------------+-------+--------------------+---------+-------+"
     ]
    }
   ],
   "source": [
    "result.show()"
   ]
  },
  {
   "cell_type": "code",
   "execution_count": 91,
   "metadata": {
    "execution": {
     "iopub.execute_input": "2023-10-30T20:26:29.478848Z",
     "iopub.status.busy": "2023-10-30T20:26:29.478512Z",
     "iopub.status.idle": "2023-10-30T20:26:30.230238Z",
     "shell.execute_reply": "2023-10-30T20:26:30.229632Z",
     "shell.execute_reply.started": "2023-10-30T20:26:29.478811Z"
    },
    "tags": []
   },
   "outputs": [
    {
     "data": {
      "application/vnd.jupyter.widget-view+json": {
       "model_id": "271d3ba5ec5347f59ff16d4f20ec9a3e",
       "version_major": 2,
       "version_minor": 0
      },
      "text/plain": [
       "VBox()"
      ]
     },
     "metadata": {},
     "output_type": "display_data"
    },
    {
     "data": {
      "application/vnd.jupyter.widget-view+json": {
       "model_id": "",
       "version_major": 2,
       "version_minor": 0
      },
      "text/plain": [
       "FloatProgress(value=0.0, bar_style='info', description='Progress:', layout=Layout(height='25px', width='50%'),…"
      ]
     },
     "metadata": {},
     "output_type": "display_data"
    },
    {
     "name": "stdout",
     "output_type": "stream",
     "text": [
      "Filename: Spark_NLP_NER.pptx\n",
      "Page:     0\n",
      "Table:    0\n",
      "6\n",
      "                     col0       col1   col2  col3     col4          col5\n",
      "0             NLP Feature  Spark NLP  spaCy  NLTK  CoreNLP  Hugging Face\n",
      "1            Tokenization        Yes    Yes   Yes      Yes           Yes\n",
      "2   Sentence segmentation        Yes    Yes   Yes      Yes            No\n",
      "3                Steeming        Yes    Yes   Yes      Yes            No\n",
      "4           Lemmatization        Yes    Yes   Yes      Yes            No\n",
      "5             POS tagging        Yes    Yes   Yes      Yes            No\n",
      "6      Entity recognition        Yes    Yes   Yes      Yes           Yes\n",
      "7              Dep parser        Yes    Yes   Yes      Yes            No\n",
      "8            Text matcher        Yes    Yes    No       No            No\n",
      "9            Date matcher        Yes     No    No       No            No\n",
      "10     Sentiment detector        Yes     No   Yes      Yes           Yes\n",
      "11    Text classification        Yes    Yes   Yes       No           Yes\n",
      "12          Spell checker        Yes     No    No       No            No\n",
      "13      Language detector        Yes     No    No       No            No\n",
      "14     Keyword extraction        Yes     No    No       No            No\n",
      "15      Pretrained models        Yes    Yes   Yes      Yes           Yes\n",
      "16       Trainable models        Yes    Yes   Yes      Yes           Yes"
     ]
    }
   ],
   "source": [
    "display_tables(result)"
   ]
  },
  {
   "cell_type": "markdown",
   "metadata": {},
   "source": [
    "## Dicom to Image"
   ]
  },
  {
   "cell_type": "code",
   "execution_count": 92,
   "metadata": {
    "execution": {
     "iopub.execute_input": "2023-10-30T20:26:30.231372Z",
     "iopub.status.busy": "2023-10-30T20:26:30.231151Z",
     "iopub.status.idle": "2023-10-30T20:26:30.753361Z",
     "shell.execute_reply": "2023-10-30T20:26:30.752547Z",
     "shell.execute_reply.started": "2023-10-30T20:26:30.231350Z"
    },
    "tags": []
   },
   "outputs": [],
   "source": [
    "%%sh\n",
    "wget -q -O /tmp/dicom_5.dcm https://github.com/JohnSnowLabs/spark-ocr-workshop/raw/master/jupyter/data/dicom/deidentify-medical-2.dcm"
   ]
  },
  {
   "cell_type": "code",
   "execution_count": 93,
   "metadata": {
    "execution": {
     "iopub.execute_input": "2023-10-30T20:26:30.754716Z",
     "iopub.status.busy": "2023-10-30T20:26:30.754482Z",
     "iopub.status.idle": "2023-10-30T20:26:32.778772Z",
     "shell.execute_reply": "2023-10-30T20:26:32.778031Z",
     "shell.execute_reply.started": "2023-10-30T20:26:30.754690Z"
    },
    "tags": []
   },
   "outputs": [],
   "source": [
    "%%sh\n",
    "hdfs dfs -copyFromLocal /tmp/dicom_5.dcm  /user/hadoop/dicom_5.dcm "
   ]
  },
  {
   "cell_type": "code",
   "execution_count": 94,
   "metadata": {
    "execution": {
     "iopub.execute_input": "2023-10-30T20:26:32.780117Z",
     "iopub.status.busy": "2023-10-30T20:26:32.779883Z",
     "iopub.status.idle": "2023-10-30T20:26:33.529142Z",
     "shell.execute_reply": "2023-10-30T20:26:33.528491Z",
     "shell.execute_reply.started": "2023-10-30T20:26:32.780091Z"
    },
    "tags": []
   },
   "outputs": [
    {
     "data": {
      "application/vnd.jupyter.widget-view+json": {
       "model_id": "dfaf9e76bf0342dda33888dfc5a6f0b6",
       "version_major": 2,
       "version_minor": 0
      },
      "text/plain": [
       "VBox()"
      ]
     },
     "metadata": {},
     "output_type": "display_data"
    },
    {
     "data": {
      "application/vnd.jupyter.widget-view+json": {
       "model_id": "",
       "version_major": 2,
       "version_minor": 0
      },
      "text/plain": [
       "FloatProgress(value=0.0, bar_style='info', description='Progress:', layout=Layout(height='25px', width='50%'),…"
      ]
     },
     "metadata": {},
     "output_type": "display_data"
    },
    {
     "name": "stdout",
     "output_type": "stream",
     "text": [
      "\n",
      "    Image #0:\n",
      "    Origin: hdfs://ip-172-31-20-250.us-east-2.compute.internal:8020/user/hadoop/dicom_5.dcm\n",
      "    Resolution: 0 dpi\n",
      "    Width: 914 px\n",
      "    Height: 985 px\n",
      "    Mode: ImageType.TYPE_BYTE_GRAY\n",
      "    Number of channels: 1\n",
      "<PIL.Image.Image image mode=L size=914x985 at 0x7FA955475A90>"
     ]
    }
   ],
   "source": [
    "dicom_path = '/user/hadoop/dicom_5.dcm'\n",
    "\n",
    "# Read dicom file as binary file\n",
    "dicom_df = spark.read.format(\"binaryFile\").load(dicom_path)\n",
    "\n",
    "dicomToImage = DicomToImage() \\\n",
    "  .setInputCol(\"content\") \\\n",
    "  .setOutputCol(\"image\") \\\n",
    "  .setMetadataCol(\"meta\")\n",
    "\n",
    "data = dicomToImage.transform(dicom_df)\n",
    "\n",
    "for image in data.collect():\n",
    "      display_image(image.image)"
   ]
  },
  {
   "cell_type": "code",
   "execution_count": 95,
   "metadata": {
    "execution": {
     "iopub.execute_input": "2023-10-30T20:26:33.530342Z",
     "iopub.status.busy": "2023-10-30T20:26:33.530116Z",
     "iopub.status.idle": "2023-10-30T20:26:34.276734Z",
     "shell.execute_reply": "2023-10-30T20:26:34.276066Z",
     "shell.execute_reply.started": "2023-10-30T20:26:33.530320Z"
    },
    "tags": []
   },
   "outputs": [
    {
     "data": {
      "application/vnd.jupyter.widget-view+json": {
       "model_id": "4626b6ec96a84953882e95a4fbe0db8d",
       "version_major": 2,
       "version_minor": 0
      },
      "text/plain": [
       "VBox()"
      ]
     },
     "metadata": {},
     "output_type": "display_data"
    },
    {
     "data": {
      "application/vnd.jupyter.widget-view+json": {
       "model_id": "",
       "version_major": 2,
       "version_minor": 0
      },
      "text/plain": [
       "FloatProgress(value=0.0, bar_style='info', description='Progress:', layout=Layout(height='25px', width='50%'),…"
      ]
     },
     "metadata": {},
     "output_type": "display_data"
    },
    {
     "name": "stdout",
     "output_type": "stream",
     "text": [
      "Fr: 1/19 Name: Good, Guy\n",
      "Acc#: AccessionNumber PID: 125-98-445\n",
      "\n",
      "Study Date: go 6/4 999 Sex: PatientSex\n",
      "_ DOB:,08/02/1929\n",
      "\n",
      "pur\n",
      "\n",
      " \n",
      "\n",
      "LEADTOOLS"
     ]
    }
   ],
   "source": [
    "# Extract text from image\n",
    "ocr = ImageToText() \\\n",
    "    .setInputCol(\"image\") \\\n",
    "    .setOutputCol(\"text\") \\\n",
    "    .setIgnoreResolution(False) \\\n",
    "    .setOcrParams([\"preserve_interword_spaces=0\"])\n",
    "\n",
    "print(\"\\n\".join([row.text for row in ocr.transform(data).select(\"text\").collect()]))"
   ]
  },
  {
   "cell_type": "markdown",
   "metadata": {},
   "source": [
    "## Spark OCR for recognize text and store results to HOCR"
   ]
  },
  {
   "cell_type": "code",
   "execution_count": 96,
   "metadata": {
    "execution": {
     "iopub.execute_input": "2023-10-30T20:26:34.277874Z",
     "iopub.status.busy": "2023-10-30T20:26:34.277651Z",
     "iopub.status.idle": "2023-10-30T20:26:34.518988Z",
     "shell.execute_reply": "2023-10-30T20:26:34.518288Z",
     "shell.execute_reply.started": "2023-10-30T20:26:34.277851Z"
    },
    "tags": []
   },
   "outputs": [
    {
     "data": {
      "application/vnd.jupyter.widget-view+json": {
       "model_id": "986d477a5d4d412183cd3293021ba744",
       "version_major": 2,
       "version_minor": 0
      },
      "text/plain": [
       "VBox()"
      ]
     },
     "metadata": {},
     "output_type": "display_data"
    },
    {
     "data": {
      "application/vnd.jupyter.widget-view+json": {
       "model_id": "",
       "version_major": 2,
       "version_minor": 0
      },
      "text/plain": [
       "FloatProgress(value=0.0, bar_style='info', description='Progress:', layout=Layout(height='25px', width='50%'),…"
      ]
     },
     "metadata": {},
     "output_type": "display_data"
    }
   ],
   "source": [
    "# Transforrm PDF document to images per page\n",
    "pdf_to_image = PdfToImage() \\\n",
    "    .setInputCol(\"content\") \\\n",
    "    .setOutputCol(\"image\") \\\n",
    "    .setResolution(100) \\\n",
    "    .setImageType(ImageType.TYPE_3BYTE_BGR)\n",
    "\n",
    "# Run OCR\n",
    "ocr = ImageToHocr() \\\n",
    "    .setInputCol(\"image\") \\\n",
    "    .setOutputCol(\"hocr\") \\\n",
    "    .setIgnoreResolution(False)\n",
    "\n",
    "document_assembler = HocrDocumentAssembler() \\\n",
    "    .setInputCol(\"hocr\") \\\n",
    "    .setOutputCol(\"document\")\n",
    "\n",
    "tokenizer = HocrTokenizer() \\\n",
    "    .setInputCol(\"hocr\") \\\n",
    "    .setOutputCol(\"token\") \\\n",
    "\n",
    "draw_annotations = ImageDrawAnnotations() \\\n",
    "    .setInputCol(\"image\") \\\n",
    "    .setInputChunksCol(\"token\") \\\n",
    "    .setOutputCol(\"image_with_annotations\") \\\n",
    "    .setFilledRect(False) \\\n",
    "    .setFontSize(10) \\\n",
    "    .setRectColor(Color.red)\n",
    "\n",
    "pipeline = PipelineModel(stages=[\n",
    "    pdf_to_image,\n",
    "    ocr,\n",
    "    document_assembler,\n",
    "    tokenizer,\n",
    "    draw_annotations\n",
    "])"
   ]
  },
  {
   "cell_type": "code",
   "execution_count": 97,
   "metadata": {
    "execution": {
     "iopub.execute_input": "2023-10-30T20:26:34.520274Z",
     "iopub.status.busy": "2023-10-30T20:26:34.519991Z",
     "iopub.status.idle": "2023-10-30T20:26:34.901127Z",
     "shell.execute_reply": "2023-10-30T20:26:34.900212Z",
     "shell.execute_reply.started": "2023-10-30T20:26:34.520249Z"
    },
    "tags": []
   },
   "outputs": [],
   "source": [
    "%%sh\n",
    "wget -q -O /tmp/test_document.pdf https://raw.githubusercontent.com/JohnSnowLabs/spark-nlp-workshop/master/visual-nlp/data/budget.pdf"
   ]
  },
  {
   "cell_type": "code",
   "execution_count": 98,
   "metadata": {
    "collapsed": true,
    "execution": {
     "iopub.execute_input": "2023-10-30T20:26:34.902643Z",
     "iopub.status.busy": "2023-10-30T20:26:34.902387Z",
     "iopub.status.idle": "2023-10-30T20:26:36.849045Z",
     "shell.execute_reply": "2023-10-30T20:26:36.847995Z",
     "shell.execute_reply.started": "2023-10-30T20:26:34.902615Z"
    },
    "jupyter": {
     "outputs_hidden": true
    },
    "tags": []
   },
   "outputs": [
    {
     "name": "stderr",
     "output_type": "stream",
     "text": [
      "copyFromLocal: `/user/hadoop/test_document.pdf': File exists\n"
     ]
    },
    {
     "ename": "CalledProcessError",
     "evalue": "Command 'b'hdfs dfs -copyFromLocal /tmp/test_document.pdf /user/hadoop/test_document.pdf\\n'' returned non-zero exit status 1.",
     "output_type": "error",
     "traceback": [
      "\u001b[0;31m---------------------------------------------------------------------------\u001b[0m",
      "\u001b[0;31mCalledProcessError\u001b[0m                        Traceback (most recent call last)",
      "\u001b[0;32m<ipython-input-98-c8f479d649dd>\u001b[0m in \u001b[0;36m<module>\u001b[0;34m\u001b[0m\n\u001b[0;32m----> 1\u001b[0;31m \u001b[0mget_ipython\u001b[0m\u001b[0;34m(\u001b[0m\u001b[0;34m)\u001b[0m\u001b[0;34m.\u001b[0m\u001b[0mrun_cell_magic\u001b[0m\u001b[0;34m(\u001b[0m\u001b[0;34m'sh'\u001b[0m\u001b[0;34m,\u001b[0m \u001b[0;34m''\u001b[0m\u001b[0;34m,\u001b[0m \u001b[0;34m'hdfs dfs -copyFromLocal /tmp/test_document.pdf /user/hadoop/test_document.pdf\\n'\u001b[0m\u001b[0;34m)\u001b[0m\u001b[0;34m\u001b[0m\u001b[0;34m\u001b[0m\u001b[0m\n\u001b[0m",
      "\u001b[0;32m/mnt/notebook-env/lib/python3.7/site-packages/IPython/core/interactiveshell.py\u001b[0m in \u001b[0;36mrun_cell_magic\u001b[0;34m(self, magic_name, line, cell)\u001b[0m\n\u001b[1;32m   2417\u001b[0m             \u001b[0;32mwith\u001b[0m \u001b[0mself\u001b[0m\u001b[0;34m.\u001b[0m\u001b[0mbuiltin_trap\u001b[0m\u001b[0;34m:\u001b[0m\u001b[0;34m\u001b[0m\u001b[0;34m\u001b[0m\u001b[0m\n\u001b[1;32m   2418\u001b[0m                 \u001b[0margs\u001b[0m \u001b[0;34m=\u001b[0m \u001b[0;34m(\u001b[0m\u001b[0mmagic_arg_s\u001b[0m\u001b[0;34m,\u001b[0m \u001b[0mcell\u001b[0m\u001b[0;34m)\u001b[0m\u001b[0;34m\u001b[0m\u001b[0;34m\u001b[0m\u001b[0m\n\u001b[0;32m-> 2419\u001b[0;31m                 \u001b[0mresult\u001b[0m \u001b[0;34m=\u001b[0m \u001b[0mfn\u001b[0m\u001b[0;34m(\u001b[0m\u001b[0;34m*\u001b[0m\u001b[0margs\u001b[0m\u001b[0;34m,\u001b[0m \u001b[0;34m**\u001b[0m\u001b[0mkwargs\u001b[0m\u001b[0;34m)\u001b[0m\u001b[0;34m\u001b[0m\u001b[0;34m\u001b[0m\u001b[0m\n\u001b[0m\u001b[1;32m   2420\u001b[0m             \u001b[0;32mreturn\u001b[0m \u001b[0mresult\u001b[0m\u001b[0;34m\u001b[0m\u001b[0;34m\u001b[0m\u001b[0m\n\u001b[1;32m   2421\u001b[0m \u001b[0;34m\u001b[0m\u001b[0m\n",
      "\u001b[0;32m/mnt/notebook-env/lib/python3.7/site-packages/IPython/core/magics/script.py\u001b[0m in \u001b[0;36mnamed_script_magic\u001b[0;34m(line, cell)\u001b[0m\n\u001b[1;32m    140\u001b[0m             \u001b[0;32melse\u001b[0m\u001b[0;34m:\u001b[0m\u001b[0;34m\u001b[0m\u001b[0;34m\u001b[0m\u001b[0m\n\u001b[1;32m    141\u001b[0m                 \u001b[0mline\u001b[0m \u001b[0;34m=\u001b[0m \u001b[0mscript\u001b[0m\u001b[0;34m\u001b[0m\u001b[0;34m\u001b[0m\u001b[0m\n\u001b[0;32m--> 142\u001b[0;31m             \u001b[0;32mreturn\u001b[0m \u001b[0mself\u001b[0m\u001b[0;34m.\u001b[0m\u001b[0mshebang\u001b[0m\u001b[0;34m(\u001b[0m\u001b[0mline\u001b[0m\u001b[0;34m,\u001b[0m \u001b[0mcell\u001b[0m\u001b[0;34m)\u001b[0m\u001b[0;34m\u001b[0m\u001b[0;34m\u001b[0m\u001b[0m\n\u001b[0m\u001b[1;32m    143\u001b[0m \u001b[0;34m\u001b[0m\u001b[0m\n\u001b[1;32m    144\u001b[0m         \u001b[0;31m# write a basic docstring:\u001b[0m\u001b[0;34m\u001b[0m\u001b[0;34m\u001b[0m\u001b[0;34m\u001b[0m\u001b[0m\n",
      "\u001b[0;32m/mnt/notebook-env/lib/python3.7/site-packages/decorator.py\u001b[0m in \u001b[0;36mfun\u001b[0;34m(*args, **kw)\u001b[0m\n\u001b[1;32m    230\u001b[0m             \u001b[0;32mif\u001b[0m \u001b[0;32mnot\u001b[0m \u001b[0mkwsyntax\u001b[0m\u001b[0;34m:\u001b[0m\u001b[0;34m\u001b[0m\u001b[0;34m\u001b[0m\u001b[0m\n\u001b[1;32m    231\u001b[0m                 \u001b[0margs\u001b[0m\u001b[0;34m,\u001b[0m \u001b[0mkw\u001b[0m \u001b[0;34m=\u001b[0m \u001b[0mfix\u001b[0m\u001b[0;34m(\u001b[0m\u001b[0margs\u001b[0m\u001b[0;34m,\u001b[0m \u001b[0mkw\u001b[0m\u001b[0;34m,\u001b[0m \u001b[0msig\u001b[0m\u001b[0;34m)\u001b[0m\u001b[0;34m\u001b[0m\u001b[0;34m\u001b[0m\u001b[0m\n\u001b[0;32m--> 232\u001b[0;31m             \u001b[0;32mreturn\u001b[0m \u001b[0mcaller\u001b[0m\u001b[0;34m(\u001b[0m\u001b[0mfunc\u001b[0m\u001b[0;34m,\u001b[0m \u001b[0;34m*\u001b[0m\u001b[0;34m(\u001b[0m\u001b[0mextras\u001b[0m \u001b[0;34m+\u001b[0m \u001b[0margs\u001b[0m\u001b[0;34m)\u001b[0m\u001b[0;34m,\u001b[0m \u001b[0;34m**\u001b[0m\u001b[0mkw\u001b[0m\u001b[0;34m)\u001b[0m\u001b[0;34m\u001b[0m\u001b[0;34m\u001b[0m\u001b[0m\n\u001b[0m\u001b[1;32m    233\u001b[0m     \u001b[0mfun\u001b[0m\u001b[0;34m.\u001b[0m\u001b[0m__name__\u001b[0m \u001b[0;34m=\u001b[0m \u001b[0mfunc\u001b[0m\u001b[0;34m.\u001b[0m\u001b[0m__name__\u001b[0m\u001b[0;34m\u001b[0m\u001b[0;34m\u001b[0m\u001b[0m\n\u001b[1;32m    234\u001b[0m     \u001b[0mfun\u001b[0m\u001b[0;34m.\u001b[0m\u001b[0m__doc__\u001b[0m \u001b[0;34m=\u001b[0m \u001b[0mfunc\u001b[0m\u001b[0;34m.\u001b[0m\u001b[0m__doc__\u001b[0m\u001b[0;34m\u001b[0m\u001b[0;34m\u001b[0m\u001b[0m\n",
      "\u001b[0;32m/mnt/notebook-env/lib/python3.7/site-packages/IPython/core/magic.py\u001b[0m in \u001b[0;36m<lambda>\u001b[0;34m(f, *a, **k)\u001b[0m\n\u001b[1;32m    185\u001b[0m     \u001b[0;31m# but it's overkill for just that one bit of state.\u001b[0m\u001b[0;34m\u001b[0m\u001b[0;34m\u001b[0m\u001b[0;34m\u001b[0m\u001b[0m\n\u001b[1;32m    186\u001b[0m     \u001b[0;32mdef\u001b[0m \u001b[0mmagic_deco\u001b[0m\u001b[0;34m(\u001b[0m\u001b[0marg\u001b[0m\u001b[0;34m)\u001b[0m\u001b[0;34m:\u001b[0m\u001b[0;34m\u001b[0m\u001b[0;34m\u001b[0m\u001b[0m\n\u001b[0;32m--> 187\u001b[0;31m         \u001b[0mcall\u001b[0m \u001b[0;34m=\u001b[0m \u001b[0;32mlambda\u001b[0m \u001b[0mf\u001b[0m\u001b[0;34m,\u001b[0m \u001b[0;34m*\u001b[0m\u001b[0ma\u001b[0m\u001b[0;34m,\u001b[0m \u001b[0;34m**\u001b[0m\u001b[0mk\u001b[0m\u001b[0;34m:\u001b[0m \u001b[0mf\u001b[0m\u001b[0;34m(\u001b[0m\u001b[0;34m*\u001b[0m\u001b[0ma\u001b[0m\u001b[0;34m,\u001b[0m \u001b[0;34m**\u001b[0m\u001b[0mk\u001b[0m\u001b[0;34m)\u001b[0m\u001b[0;34m\u001b[0m\u001b[0;34m\u001b[0m\u001b[0m\n\u001b[0m\u001b[1;32m    188\u001b[0m \u001b[0;34m\u001b[0m\u001b[0m\n\u001b[1;32m    189\u001b[0m         \u001b[0;32mif\u001b[0m \u001b[0mcallable\u001b[0m\u001b[0;34m(\u001b[0m\u001b[0marg\u001b[0m\u001b[0;34m)\u001b[0m\u001b[0;34m:\u001b[0m\u001b[0;34m\u001b[0m\u001b[0;34m\u001b[0m\u001b[0m\n",
      "\u001b[0;32m/mnt/notebook-env/lib/python3.7/site-packages/IPython/core/magics/script.py\u001b[0m in \u001b[0;36mshebang\u001b[0;34m(self, line, cell)\u001b[0m\n\u001b[1;32m    243\u001b[0m             \u001b[0msys\u001b[0m\u001b[0;34m.\u001b[0m\u001b[0mstderr\u001b[0m\u001b[0;34m.\u001b[0m\u001b[0mflush\u001b[0m\u001b[0;34m(\u001b[0m\u001b[0;34m)\u001b[0m\u001b[0;34m\u001b[0m\u001b[0;34m\u001b[0m\u001b[0m\n\u001b[1;32m    244\u001b[0m         \u001b[0;32mif\u001b[0m \u001b[0margs\u001b[0m\u001b[0;34m.\u001b[0m\u001b[0mraise_error\u001b[0m \u001b[0;32mand\u001b[0m \u001b[0mp\u001b[0m\u001b[0;34m.\u001b[0m\u001b[0mreturncode\u001b[0m\u001b[0;34m!=\u001b[0m\u001b[0;36m0\u001b[0m\u001b[0;34m:\u001b[0m\u001b[0;34m\u001b[0m\u001b[0;34m\u001b[0m\u001b[0m\n\u001b[0;32m--> 245\u001b[0;31m             \u001b[0;32mraise\u001b[0m \u001b[0mCalledProcessError\u001b[0m\u001b[0;34m(\u001b[0m\u001b[0mp\u001b[0m\u001b[0;34m.\u001b[0m\u001b[0mreturncode\u001b[0m\u001b[0;34m,\u001b[0m \u001b[0mcell\u001b[0m\u001b[0;34m,\u001b[0m \u001b[0moutput\u001b[0m\u001b[0;34m=\u001b[0m\u001b[0mout\u001b[0m\u001b[0;34m,\u001b[0m \u001b[0mstderr\u001b[0m\u001b[0;34m=\u001b[0m\u001b[0merr\u001b[0m\u001b[0;34m)\u001b[0m\u001b[0;34m\u001b[0m\u001b[0;34m\u001b[0m\u001b[0m\n\u001b[0m\u001b[1;32m    246\u001b[0m \u001b[0;34m\u001b[0m\u001b[0m\n\u001b[1;32m    247\u001b[0m     \u001b[0;32mdef\u001b[0m \u001b[0m_run_script\u001b[0m\u001b[0;34m(\u001b[0m\u001b[0mself\u001b[0m\u001b[0;34m,\u001b[0m \u001b[0mp\u001b[0m\u001b[0;34m,\u001b[0m \u001b[0mcell\u001b[0m\u001b[0;34m,\u001b[0m \u001b[0mto_close\u001b[0m\u001b[0;34m)\u001b[0m\u001b[0;34m:\u001b[0m\u001b[0;34m\u001b[0m\u001b[0;34m\u001b[0m\u001b[0m\n",
      "\u001b[0;31mCalledProcessError\u001b[0m: Command 'b'hdfs dfs -copyFromLocal /tmp/test_document.pdf /user/hadoop/test_document.pdf\\n'' returned non-zero exit status 1."
     ]
    }
   ],
   "source": [
    "%%sh\n",
    "hdfs dfs -copyFromLocal /tmp/test_document.pdf /user/hadoop/test_document.pdf"
   ]
  },
  {
   "cell_type": "code",
   "execution_count": 99,
   "metadata": {
    "execution": {
     "iopub.execute_input": "2023-10-30T22:25:52.770135Z",
     "iopub.status.busy": "2023-10-30T22:25:52.769813Z",
     "iopub.status.idle": "2023-10-30T22:25:53.009568Z",
     "shell.execute_reply": "2023-10-30T22:25:53.008949Z",
     "shell.execute_reply.started": "2023-10-30T22:25:52.770107Z"
    },
    "tags": []
   },
   "outputs": [
    {
     "data": {
      "application/vnd.jupyter.widget-view+json": {
       "model_id": "08569145fad54a09a9833b9f49b6d500",
       "version_major": 2,
       "version_minor": 0
      },
      "text/plain": [
       "VBox()"
      ]
     },
     "metadata": {},
     "output_type": "display_data"
    },
    {
     "data": {
      "application/vnd.jupyter.widget-view+json": {
       "model_id": "",
       "version_major": 2,
       "version_minor": 0
      },
      "text/plain": [
       "FloatProgress(value=0.0, bar_style='info', description='Progress:', layout=Layout(height='25px', width='50%'),…"
      ]
     },
     "metadata": {},
     "output_type": "display_data"
    }
   ],
   "source": [
    "pdf_example_df = spark.read.format(\"binaryFile\").load(\"/user/hadoop/test_document.pdf\").cache()"
   ]
  },
  {
   "cell_type": "code",
   "execution_count": 100,
   "metadata": {
    "execution": {
     "iopub.execute_input": "2023-10-30T22:25:54.320499Z",
     "iopub.status.busy": "2023-10-30T22:25:54.320161Z",
     "iopub.status.idle": "2023-10-30T22:25:55.066810Z",
     "shell.execute_reply": "2023-10-30T22:25:55.066135Z",
     "shell.execute_reply.started": "2023-10-30T22:25:54.320473Z"
    },
    "tags": []
   },
   "outputs": [
    {
     "data": {
      "application/vnd.jupyter.widget-view+json": {
       "model_id": "622cf1ef3ca340fd983a7776dd5bff99",
       "version_major": 2,
       "version_minor": 0
      },
      "text/plain": [
       "VBox()"
      ]
     },
     "metadata": {},
     "output_type": "display_data"
    },
    {
     "data": {
      "application/vnd.jupyter.widget-view+json": {
       "model_id": "",
       "version_major": 2,
       "version_minor": 0
      },
      "text/plain": [
       "FloatProgress(value=0.0, bar_style='info', description='Progress:', layout=Layout(height='25px', width='50%'),…"
      ]
     },
     "metadata": {},
     "output_type": "display_data"
    }
   ],
   "source": [
    "result = pipeline.transform(pdf_example_df).cache()"
   ]
  },
  {
   "cell_type": "code",
   "execution_count": 107,
   "metadata": {
    "execution": {
     "iopub.execute_input": "2023-10-30T22:27:16.730777Z",
     "iopub.status.busy": "2023-10-30T22:27:16.730303Z",
     "iopub.status.idle": "2023-10-30T22:27:16.980472Z",
     "shell.execute_reply": "2023-10-30T22:27:16.979800Z",
     "shell.execute_reply.started": "2023-10-30T22:27:16.730731Z"
    },
    "tags": []
   },
   "outputs": [
    {
     "data": {
      "application/vnd.jupyter.widget-view+json": {
       "model_id": "24d87189c30842db8a7304c12d6511bb",
       "version_major": 2,
       "version_minor": 0
      },
      "text/plain": [
       "VBox()"
      ]
     },
     "metadata": {},
     "output_type": "display_data"
    },
    {
     "data": {
      "application/vnd.jupyter.widget-view+json": {
       "model_id": "",
       "version_major": 2,
       "version_minor": 0
      },
      "text/plain": [
       "FloatProgress(value=0.0, bar_style='info', description='Progress:', layout=Layout(height='25px', width='50%'),…"
      ]
     },
     "metadata": {},
     "output_type": "display_data"
    },
    {
     "name": "stdout",
     "output_type": "stream",
     "text": [
      "+-------+--------------------------------------------------------------------------------------------------------------------------------------------+\n",
      "|pagenum|                                                                                                                                        hocr|\n",
      "+-------+--------------------------------------------------------------------------------------------------------------------------------------------+\n",
      "|      0|  <div class='ocr_page' id='page_1' title='image \"unknown\"; bbox 0 0 1674 2205; ppageno 0; scan_res 100 100'>\\n   <div class='ocr_carea' ...|\n",
      "|      1|  <div class='ocr_page' id='page_1' title='image \"unknown\"; bbox 0 0 1691 2199; ppageno 0; scan_res 100 100'>\\n   <div class='ocr_carea' ...|\n",
      "+-------+--------------------------------------------------------------------------------------------------------------------------------------------+"
     ]
    }
   ],
   "source": [
    "result.select(\"pagenum\", \"hocr\").show(truncate=140)"
   ]
  },
  {
   "cell_type": "code",
   "execution_count": 102,
   "metadata": {
    "execution": {
     "iopub.execute_input": "2023-10-30T22:26:07.720370Z",
     "iopub.status.busy": "2023-10-30T22:26:07.719996Z",
     "iopub.status.idle": "2023-10-30T22:26:08.481445Z",
     "shell.execute_reply": "2023-10-30T22:26:08.480815Z",
     "shell.execute_reply.started": "2023-10-30T22:26:07.720338Z"
    },
    "tags": []
   },
   "outputs": [
    {
     "data": {
      "application/vnd.jupyter.widget-view+json": {
       "model_id": "8f6984b8b16d45398fa022c290a7b06a",
       "version_major": 2,
       "version_minor": 0
      },
      "text/plain": [
       "VBox()"
      ]
     },
     "metadata": {},
     "output_type": "display_data"
    },
    {
     "data": {
      "application/vnd.jupyter.widget-view+json": {
       "model_id": "",
       "version_major": 2,
       "version_minor": 0
      },
      "text/plain": [
       "FloatProgress(value=0.0, bar_style='info', description='Progress:', layout=Layout(height='25px', width='50%'),…"
      ]
     },
     "metadata": {},
     "output_type": "display_data"
    },
    {
     "name": "stdout",
     "output_type": "stream",
     "text": [
      "\n",
      "    Image #0:\n",
      "    Origin: hdfs://ip-172-31-20-250.us-east-2.compute.internal:8020/user/hadoop/test_document.pdf\n",
      "    Resolution: 0 dpi\n",
      "    Width: 1674 px\n",
      "    Height: 2205 px\n",
      "    Mode: ImageType.TYPE_3BYTE_BGR\n",
      "    Number of channels: 3\n",
      "<PIL.Image.Image image mode=RGB size=1674x2205 at 0x7FA955482F90>\n",
      "\n",
      "    Image #1:\n",
      "    Origin: hdfs://ip-172-31-20-250.us-east-2.compute.internal:8020/user/hadoop/test_document.pdf\n",
      "    Resolution: 0 dpi\n",
      "    Width: 1691 px\n",
      "    Height: 2199 px\n",
      "    Mode: ImageType.TYPE_3BYTE_BGR\n",
      "    Number of channels: 3\n",
      "<PIL.Image.Image image mode=RGB size=1691x2199 at 0x7FA955422090>"
     ]
    }
   ],
   "source": [
    "display_images(result, \"image_with_annotations\", width=1000)"
   ]
  },
  {
   "cell_type": "code",
   "execution_count": 103,
   "metadata": {
    "execution": {
     "iopub.execute_input": "2023-10-30T22:26:13.424863Z",
     "iopub.status.busy": "2023-10-30T22:26:13.424535Z",
     "iopub.status.idle": "2023-10-30T22:26:13.665603Z",
     "shell.execute_reply": "2023-10-30T22:26:13.664920Z",
     "shell.execute_reply.started": "2023-10-30T22:26:13.424835Z"
    },
    "tags": []
   },
   "outputs": [
    {
     "data": {
      "application/vnd.jupyter.widget-view+json": {
       "model_id": "d50a2a6eb5d44b2bbeb4e2153d899ac5",
       "version_major": 2,
       "version_minor": 0
      },
      "text/plain": [
       "VBox()"
      ]
     },
     "metadata": {},
     "output_type": "display_data"
    },
    {
     "data": {
      "application/vnd.jupyter.widget-view+json": {
       "model_id": "",
       "version_major": 2,
       "version_minor": 0
      },
      "text/plain": [
       "FloatProgress(value=0.0, bar_style='info', description='Progress:', layout=Layout(height='25px', width='50%'),…"
      ]
     },
     "metadata": {},
     "output_type": "display_data"
    },
    {
     "name": "stdout",
     "output_type": "stream",
     "text": [
      "<IPython.core.display.HTML object>"
     ]
    }
   ],
   "source": [
    "from IPython.core.display import display, HTML\n",
    "display(HTML(result.select(\"hocr\").collect()[0].hocr))"
   ]
  },
  {
   "cell_type": "markdown",
   "metadata": {},
   "source": [
    "## Text Detection in an Image using Regex Patterns"
   ]
  },
  {
   "cell_type": "code",
   "execution_count": null,
   "metadata": {
    "execution": {
     "iopub.status.busy": "2023-10-30T20:26:36.855727Z",
     "iopub.status.idle": "2023-10-30T20:26:36.856003Z",
     "shell.execute_reply": "2023-10-30T20:26:36.855882Z"
    },
    "tags": []
   },
   "outputs": [],
   "source": [
    "import pkg_resources\n",
    "from pyspark.ml import PipelineModel\n",
    "import pyspark.sql.functions as f\n",
    "from sparkocr.transformers import *\n",
    "from sparkocr.enums import *\n",
    "from sparkocr.utils import display_images"
   ]
  },
  {
   "cell_type": "code",
   "execution_count": null,
   "metadata": {
    "execution": {
     "iopub.status.busy": "2023-10-30T20:26:36.856796Z",
     "iopub.status.idle": "2023-10-30T20:26:36.857219Z",
     "shell.execute_reply": "2023-10-30T20:26:36.857091Z"
    },
    "tags": []
   },
   "outputs": [],
   "source": [
    "%%sh\n",
    "wget -q -O tmp/image.jpg https://raw.githubusercontent.com/JohnSnowLabs/spark-nlp-workshop/master/visual-nlp/data/020_Yas_patella.jpg"
   ]
  },
  {
   "cell_type": "code",
   "execution_count": null,
   "metadata": {
    "execution": {
     "iopub.status.busy": "2023-10-30T20:26:36.858022Z",
     "iopub.status.idle": "2023-10-30T20:26:36.858299Z",
     "shell.execute_reply": "2023-10-30T20:26:36.858180Z"
    },
    "tags": []
   },
   "outputs": [],
   "source": [
    "%%sh\n",
    "hdfs dfs -copyFromLocal tmp/image.jpg /user/hadoop/image.jpg"
   ]
  },
  {
   "cell_type": "code",
   "execution_count": null,
   "metadata": {
    "execution": {
     "iopub.status.busy": "2023-10-30T20:26:36.859020Z",
     "iopub.status.idle": "2023-10-30T20:26:36.859290Z",
     "shell.execute_reply": "2023-10-30T20:26:36.859172Z"
    },
    "tags": []
   },
   "outputs": [],
   "source": [
    "image_df = spark.read.format(\"binaryFile\").load(\"/user/hadoop/image.jpg\")\n",
    "\n",
    "display_images(BinaryToImage().setImageType(ImageType.TYPE_3BYTE_BGR).transform(image_df), \"image\")"
   ]
  },
  {
   "cell_type": "code",
   "execution_count": null,
   "metadata": {
    "execution": {
     "iopub.status.busy": "2023-10-30T20:26:36.860112Z",
     "iopub.status.idle": "2023-10-30T20:26:36.860423Z",
     "shell.execute_reply": "2023-10-30T20:26:36.860300Z"
    },
    "tags": []
   },
   "outputs": [],
   "source": [
    "table_detector = ImageTableDetector \\\n",
    "        .pretrained(\"general_model_table_detection_v2\", \"en\", \"public/ocr/models\")\\\n",
    "        .setInputCol(\"image\")\\\n",
    "        .setOutputCol(\"region\")\\\n",
    "        .setScoreThreshold(0.9)\\\n",
    "        .setApplyCorrection(True)\\\n",
    "        .setScaleWidthToCol(\"width_dimension\")\\\n",
    "        .setScaleHeightToCol(\"height_dimension\")"
   ]
  },
  {
   "cell_type": "code",
   "execution_count": null,
   "metadata": {
    "execution": {
     "iopub.status.busy": "2023-10-30T20:26:36.861200Z",
     "iopub.status.idle": "2023-10-30T20:26:36.861522Z",
     "shell.execute_reply": "2023-10-30T20:26:36.861394Z"
    },
    "tags": []
   },
   "outputs": [],
   "source": [
    "spark"
   ]
  },
  {
   "cell_type": "code",
   "execution_count": null,
   "metadata": {
    "execution": {
     "iopub.status.busy": "2023-10-30T20:26:36.862304Z",
     "iopub.status.idle": "2023-10-30T20:26:36.862574Z",
     "shell.execute_reply": "2023-10-30T20:26:36.862455Z"
    },
    "tags": []
   },
   "outputs": [],
   "source": [
    "binary_to_image = BinaryToImage()\n",
    "binary_to_image.setImageType(ImageType.TYPE_3BYTE_BGR)\n",
    "\n",
    "text_detector = ImageTextDetectorV2.pretrained(\"image_text_detector_v2\", \"en\", \"clinical/ocr\")\n",
    "text_detector.setInputCol(\"image\")\n",
    "text_detector.setOutputCol(\"text_regions\")\n",
    "text_detector.setSizeThreshold(10)\n",
    "text_detector.setScoreThreshold(0.9)\n",
    "text_detector.setLinkThreshold(0.4)\n",
    "text_detector.setTextThreshold(0.2)\n",
    "text_detector.setWidth(1512)\n",
    "\n",
    "\n",
    "draw_regions = ImageDrawRegions()\n",
    "draw_regions.setInputCol(\"image\")\n",
    "draw_regions.setInputRegionsCol(\"text_regions\")\n",
    "draw_regions.setOutputCol(\"image_with_regions\")\n",
    "draw_regions.setRectColor(Color.green)\n",
    "draw_regions.setRotated(True)\n",
    "\n",
    "pipeline = PipelineModel(stages=[\n",
    "    binary_to_image,\n",
    "    text_detector,\n",
    "    draw_regions\n",
    "])"
   ]
  },
  {
   "cell_type": "code",
   "execution_count": null,
   "metadata": {
    "execution": {
     "iopub.status.busy": "2023-10-30T20:26:36.863372Z",
     "iopub.status.idle": "2023-10-30T20:26:36.863647Z",
     "shell.execute_reply": "2023-10-30T20:26:36.863526Z"
    },
    "tags": []
   },
   "outputs": [],
   "source": [
    "result =  pipeline.transform(image_df).cache()\n",
    "display_images(result, \"image_with_regions\")"
   ]
  },
  {
   "cell_type": "code",
   "execution_count": null,
   "metadata": {
    "execution": {
     "iopub.status.busy": "2023-10-30T20:26:36.864479Z",
     "iopub.status.idle": "2023-10-30T20:26:36.864791Z",
     "shell.execute_reply": "2023-10-30T20:26:36.864664Z"
    },
    "tags": []
   },
   "outputs": [],
   "source": [
    "# Define a new alphabet\n",
    "\n",
    "symbols = \"\"\":$&(){}[]?/\\\\!><@=#-;,%_“.|'`\"*#^+~€\"\"\"\n",
    "numbers = \"0123456789\"\n",
    "englishAlphabet = \"abcdefghijklmnopqrstuvwxyz\"\n",
    "special = \"β¢£©®—\"\n",
    "\n",
    "chars = symbols + numbers + englishAlphabet + englishAlphabet.upper() +special\n",
    "\n",
    "with open('./tmp/custom_alphabet.txt', 'w') as alphabet_file:\n",
    "    alphabet_file.write(chars)"
   ]
  },
  {
   "cell_type": "code",
   "execution_count": null,
   "metadata": {
    "execution": {
     "iopub.status.busy": "2023-10-30T20:26:36.865656Z",
     "iopub.status.idle": "2023-10-30T20:26:36.865938Z",
     "shell.execute_reply": "2023-10-30T20:26:36.865816Z"
    },
    "tags": []
   },
   "outputs": [],
   "source": [
    "entities =[\n",
    "    {\n",
    "        \"id\": \"ref\",\n",
    "        \"label\": \"REF\",\n",
    "        \"patterns\": [\"\\\\d{4}-\\\\d{2}-\\\\d{3}\"],\n",
    "        \"regex\": True\n",
    "    },\n",
    "    {\n",
    "        \"id\": \"date\",\n",
    "        \"label\": \"DATE\",\n",
    "        \"patterns\": [\"\\\\d{4}-\\\\d{2}-\\\\d{2}\"],\n",
    "        \"regex\": True\n",
    "    },\n",
    "    {\n",
    "        \"id\": \"lot\",\n",
    "        \"label\": \"LOT\",\n",
    "        \"patterns\": [\"\\\\d{7}\"],\n",
    "        \"regex\": True\n",
    "    }\n",
    "]\n",
    "\n",
    "with open('./tmp/entities.json', 'w') as jsonfile:\n",
    "    json.dump(entities, jsonfile)"
   ]
  },
  {
   "cell_type": "code",
   "execution_count": null,
   "metadata": {
    "execution": {
     "iopub.status.busy": "2023-10-30T20:26:36.866742Z",
     "iopub.status.idle": "2023-10-30T20:26:36.867015Z",
     "shell.execute_reply": "2023-10-30T20:26:36.866896Z"
    }
   },
   "outputs": [],
   "source": [
    "import sparknlp\n",
    "from sparknlp.base import *\n",
    "from sparknlp.annotator import *\n",
    "from sparknlp.common import *\n",
    "\n",
    "splitter = ImageSplitRegions() \\\n",
    "    .setInputCol(\"image\") \\\n",
    "    .setInputRegionsCol(\"text_regions\") \\\n",
    "    .setOutputCol(\"text_image\") \\\n",
    "    .setDropCols([\"image\"]) \\\n",
    "    .setExplodeCols([\"text_regions\"]) \\\n",
    "    .setRotated(True) \\\n",
    "    .setImageType(ImageType.TYPE_BYTE_GRAY)\n",
    "\n",
    "ocr = ImageToText() \\\n",
    "    .setInputCol(\"text_image\") \\\n",
    "    .setOutputCol(\"text\") \\\n",
    "    .setPageSegMode(PageSegmentationMode.SINGLE_WORD) \\\n",
    "    .setIgnoreResolution(False)\n",
    "\n",
    "documentAssembler = DocumentAssembler() \\\n",
    "    .setInputCol(\"text\") \\\n",
    "    .setOutputCol(\"document\")\n",
    "\n",
    "tokenizer = Tokenizer() \\\n",
    "    .setInputCols([\"document\"]) \\\n",
    "    .setOutputCol(\"token\")\n",
    "\n",
    "entityRuler = EntityRulerApproach() \\\n",
    "    .setInputCols([\"document\", \"token\"]) \\\n",
    "    .setOutputCol(\"entities\") \\\n",
    "    .setPatternsResource(\"entities.json\") \\\n",
    "    .setAlphabetResource(\"./custom_alphabet.txt\")\n",
    "\n",
    "pipeline_nlp = Pipeline().setStages([\n",
    "    splitter,\n",
    "    ocr,\n",
    "    documentAssembler,\n",
    "    tokenizer,\n",
    "    entityRuler\n",
    "])\n",
    "\n",
    "text_result = pipeline_nlp.fit(result).transform(result).cache()"
   ]
  },
  {
   "cell_type": "code",
   "execution_count": null,
   "metadata": {
    "execution": {
     "iopub.status.busy": "2023-10-30T20:26:36.867748Z",
     "iopub.status.idle": "2023-10-30T20:26:36.868085Z",
     "shell.execute_reply": "2023-10-30T20:26:36.867963Z"
    }
   },
   "outputs": [],
   "source": [
    "text_result.selectExpr(\"explode(entities)\").show(truncate=False)"
   ]
  },
  {
   "cell_type": "code",
   "execution_count": null,
   "metadata": {
    "execution": {
     "iopub.status.busy": "2023-10-30T20:26:36.869459Z",
     "iopub.status.idle": "2023-10-30T20:26:36.869734Z",
     "shell.execute_reply": "2023-10-30T20:26:36.869614Z"
    },
    "tags": []
   },
   "outputs": [],
   "source": [
    "print((\"\").join([x.text for x in text_result.select(\"text\").collect()]))"
   ]
  }
 ],
 "metadata": {
  "colab": {
   "machine_shape": "hm",
   "provenance": [],
   "toc_visible": true
  },
  "gpuClass": "standard",
  "kernelspec": {
   "display_name": "PySpark",
   "language": "python",
   "name": "pysparkkernel"
  },
  "language_info": {
   "codemirror_mode": {
    "name": "python",
    "version": 3
   },
   "file_extension": ".py",
   "mimetype": "text/x-python",
   "name": "pyspark",
   "pygments_lexer": "python3"
  },
  "vscode": {
   "interpreter": {
    "hash": "aee8b7b246df8f9039afb4144a1f6fd8d2ca17a180786b69acc140d282b71a49"
   }
  }
 },
 "nbformat": 4,
 "nbformat_minor": 4
}

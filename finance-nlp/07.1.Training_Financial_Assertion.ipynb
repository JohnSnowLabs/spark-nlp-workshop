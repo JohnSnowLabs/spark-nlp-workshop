{
  "cells": [
    {
      "cell_type": "markdown",
      "metadata": {
        "id": "wxZDXLDCXkk_"
      },
      "source": [
        "\n",
        "![JohnSnowLabs](https://nlp.johnsnowlabs.com/assets/images/logo.png)\n",
        "\n",
        "\n",
        "\n"
      ]
    },
    {
      "cell_type": "markdown",
      "metadata": {
        "id": "pZ6sKi8ZX1z4"
      },
      "source": [
        "[![Open In Colab](https://colab.research.google.com/assets/colab-badge.svg)](https://colab.research.google.com/github/JohnSnowLabs/spark-nlp-workshop/blob/master/finance-nlp/07.1.Training_Financial_Assertion.ipynb)"
      ]
    },
    {
      "cell_type": "markdown",
      "metadata": {
        "id": "KLqW6FOnEvov"
      },
      "source": [
        "#🔎 Training Finance Assertion Status\n",
        "\n",
        "📜Let's have a look at what takes to train your custom AssertionDL model for `negation`.\n",
        "\n",
        "- First, make sure you have an **NER model** which retrieves those entities for you. In our case, we will use `finner_orgs_prods_alias` with requires `bert_embeddings_sec_bert_base` embeddings\n",
        "- Second, check the embeddings the NER model is using and *reuse* them for the Assertion Model, so that you don't calculate embeddings twice.\n"
      ]
    },
    {
      "cell_type": "markdown",
      "metadata": {
        "collapsed": false,
        "id": "Yjl-5MGlx0dF"
      },
      "source": [
        "#🎬 Installation"
      ]
    },
    {
      "cell_type": "code",
      "execution_count": null,
      "metadata": {
        "id": "MjgJyCCIx0dP",
        "pycharm": {
          "is_executing": true
        }
      },
      "outputs": [],
      "source": [
        "! pip install -q johnsnowlabs"
      ]
    },
    {
      "cell_type": "markdown",
      "metadata": {
        "id": "7bJI_ekTx0dQ"
      },
      "source": [
        "##🔗 Automatic Installation\n",
        "Using [my.johnsnowlabs.com](https://my.johnsnowlabs.com/) SSO"
      ]
    },
    {
      "cell_type": "code",
      "execution_count": null,
      "metadata": {
        "id": "DEl2pY8Lx0dQ",
        "pycharm": {
          "is_executing": true
        }
      },
      "outputs": [],
      "source": [
        "from johnsnowlabs import nlp, finance\n",
        "\n",
        "# nlp.install(force_browser=True)"
      ]
    },
    {
      "cell_type": "markdown",
      "metadata": {
        "id": "zKIDRSiOx0dQ"
      },
      "source": [
        "##🔗 Manual downloading\n",
        "If you are not registered in my.johnsnowlabs.com, you received a license via e-email or you are using Safari, you may need to do a manual update of the license.\n",
        "\n",
        "- Go to [my.johnsnowlabs.com](https://my.johnsnowlabs.com/)\n",
        "- Download your license\n",
        "- Upload it using the following command"
      ]
    },
    {
      "cell_type": "code",
      "execution_count": null,
      "metadata": {
        "id": "7iXsGZrIx0dQ"
      },
      "outputs": [],
      "source": [
        "from google.colab import files\n",
        "print('Please Upload your John Snow Labs License using the button below')\n",
        "license_keys = files.upload()"
      ]
    },
    {
      "cell_type": "markdown",
      "metadata": {
        "id": "PUlLsDgkx0dQ"
      },
      "source": [
        "- Install it"
      ]
    },
    {
      "cell_type": "code",
      "execution_count": null,
      "metadata": {
        "id": "2NA8ka6Fx0dQ"
      },
      "outputs": [],
      "source": [
        "nlp.install()"
      ]
    },
    {
      "cell_type": "markdown",
      "metadata": {
        "id": "S4mvOi6jwlcr"
      },
      "source": [
        "##📌 Start Spark Session"
      ]
    },
    {
      "cell_type": "code",
      "execution_count": null,
      "metadata": {
        "id": "C2eqwqTxVbdR"
      },
      "outputs": [],
      "source": [
        "from johnsnowlabs import nlp, finance\n",
        "# Automatically load license data and start a session with all jars user has access to\n",
        "spark = nlp.start()"
      ]
    },
    {
      "cell_type": "code",
      "execution_count": null,
      "metadata": {
        "id": "YeIQqpP6KkW9"
      },
      "outputs": [],
      "source": [
        "from pyspark.sql import DataFrame\n",
        "import pyspark.sql.functions as F\n",
        "import pyspark.sql.types as T\n",
        "import pyspark.sql as SQL\n",
        "from pyspark import keyword_only"
      ]
    },
    {
      "cell_type": "markdown",
      "metadata": {
        "id": "JYBQyxEd0uR0"
      },
      "source": [
        "#🚀 Data Prep "
      ]
    },
    {
      "cell_type": "code",
      "execution_count": null,
      "metadata": {
        "id": "AVBmGFcQ03La"
      },
      "outputs": [],
      "source": [
        "! wget -q https://raw.githubusercontent.com/JohnSnowLabs/spark-nlp-workshop/master/finance-nlp/data/assertion_df.csv"
      ]
    },
    {
      "cell_type": "code",
      "execution_count": null,
      "metadata": {
        "colab": {
          "base_uri": "https://localhost:8080/",
          "height": 424
        },
        "id": "8iJF_HCw1Lgh",
        "outputId": "2131bfe4-83ba-4b4c-f2c1-405a02df5dc5"
      },
      "outputs": [
        {
          "data": {
            "text/html": [
              "\n",
              "  <div id=\"df-f93ad72f-f1c3-4c9d-aa09-740ce443be4e\">\n",
              "    <div class=\"colab-df-container\">\n",
              "      <div>\n",
              "<style scoped>\n",
              "    .dataframe tbody tr th:only-of-type {\n",
              "        vertical-align: middle;\n",
              "    }\n",
              "\n",
              "    .dataframe tbody tr th {\n",
              "        vertical-align: top;\n",
              "    }\n",
              "\n",
              "    .dataframe thead th {\n",
              "        text-align: right;\n",
              "    }\n",
              "</style>\n",
              "<table border=\"1\" class=\"dataframe\">\n",
              "  <thead>\n",
              "    <tr style=\"text-align: right;\">\n",
              "      <th></th>\n",
              "      <th>text</th>\n",
              "      <th>target</th>\n",
              "      <th>label</th>\n",
              "      <th>start</th>\n",
              "      <th>end</th>\n",
              "    </tr>\n",
              "  </thead>\n",
              "  <tbody>\n",
              "    <tr>\n",
              "      <th>0</th>\n",
              "      <td>CEC ENTERTAINMENT INC is not purchasing GEO GR...</td>\n",
              "      <td>CEC ENTERTAINMENT INC</td>\n",
              "      <td>negative</td>\n",
              "      <td>0</td>\n",
              "      <td>2</td>\n",
              "    </tr>\n",
              "    <tr>\n",
              "      <th>1</th>\n",
              "      <td>CEC ENTERTAINMENT INC is not purchasing GEO GR...</td>\n",
              "      <td>GEO GROUP INC</td>\n",
              "      <td>positive</td>\n",
              "      <td>6</td>\n",
              "      <td>8</td>\n",
              "    </tr>\n",
              "    <tr>\n",
              "      <th>2</th>\n",
              "      <td>BRAVE ASSET MANAGEMENT INC is paying Mondelez ...</td>\n",
              "      <td>Mondelez International , Inc .</td>\n",
              "      <td>positive</td>\n",
              "      <td>6</td>\n",
              "      <td>10</td>\n",
              "    </tr>\n",
              "    <tr>\n",
              "      <th>3</th>\n",
              "      <td>BRAVE ASSET MANAGEMENT INC is paying Mondelez ...</td>\n",
              "      <td>BRAVE ASSET MANAGEMENT INC</td>\n",
              "      <td>positive</td>\n",
              "      <td>0</td>\n",
              "      <td>3</td>\n",
              "    </tr>\n",
              "    <tr>\n",
              "      <th>4</th>\n",
              "      <td>Compound Natural Foods Inc . is not investing ...</td>\n",
              "      <td>Compound Natural Foods Inc .</td>\n",
              "      <td>negative</td>\n",
              "      <td>0</td>\n",
              "      <td>4</td>\n",
              "    </tr>\n",
              "    <tr>\n",
              "      <th>...</th>\n",
              "      <td>...</td>\n",
              "      <td>...</td>\n",
              "      <td>...</td>\n",
              "      <td>...</td>\n",
              "      <td>...</td>\n",
              "    </tr>\n",
              "    <tr>\n",
              "      <th>93</th>\n",
              "      <td>Cboe EDGA Exchange , Inc . is not providing Bl...</td>\n",
              "      <td>BlueStar Financial Group , Inc .</td>\n",
              "      <td>positive</td>\n",
              "      <td>9</td>\n",
              "      <td>14</td>\n",
              "    </tr>\n",
              "    <tr>\n",
              "      <th>94</th>\n",
              "      <td>VSOURCE INC is hiring URSTADT BIDDLE PROPERTIE...</td>\n",
              "      <td>URSTADT BIDDLE PROPERTIES INC</td>\n",
              "      <td>positive</td>\n",
              "      <td>4</td>\n",
              "      <td>7</td>\n",
              "    </tr>\n",
              "    <tr>\n",
              "      <th>95</th>\n",
              "      <td>VSOURCE INC is hiring URSTADT BIDDLE PROPERTIE...</td>\n",
              "      <td>VSOURCE INC</td>\n",
              "      <td>positive</td>\n",
              "      <td>0</td>\n",
              "      <td>1</td>\n",
              "    </tr>\n",
              "    <tr>\n",
              "      <th>96</th>\n",
              "      <td>Emergent BioSolutions Inc . is not providing C...</td>\n",
              "      <td>Emergent BioSolutions Inc .</td>\n",
              "      <td>negative</td>\n",
              "      <td>0</td>\n",
              "      <td>3</td>\n",
              "    </tr>\n",
              "    <tr>\n",
              "      <th>97</th>\n",
              "      <td>Emergent BioSolutions Inc . is not providing C...</td>\n",
              "      <td>CUMMINS INC</td>\n",
              "      <td>positive</td>\n",
              "      <td>7</td>\n",
              "      <td>8</td>\n",
              "    </tr>\n",
              "  </tbody>\n",
              "</table>\n",
              "<p>98 rows × 5 columns</p>\n",
              "</div>\n",
              "      <button class=\"colab-df-convert\" onclick=\"convertToInteractive('df-f93ad72f-f1c3-4c9d-aa09-740ce443be4e')\"\n",
              "              title=\"Convert this dataframe to an interactive table.\"\n",
              "              style=\"display:none;\">\n",
              "        \n",
              "  <svg xmlns=\"http://www.w3.org/2000/svg\" height=\"24px\"viewBox=\"0 0 24 24\"\n",
              "       width=\"24px\">\n",
              "    <path d=\"M0 0h24v24H0V0z\" fill=\"none\"/>\n",
              "    <path d=\"M18.56 5.44l.94 2.06.94-2.06 2.06-.94-2.06-.94-.94-2.06-.94 2.06-2.06.94zm-11 1L8.5 8.5l.94-2.06 2.06-.94-2.06-.94L8.5 2.5l-.94 2.06-2.06.94zm10 10l.94 2.06.94-2.06 2.06-.94-2.06-.94-.94-2.06-.94 2.06-2.06.94z\"/><path d=\"M17.41 7.96l-1.37-1.37c-.4-.4-.92-.59-1.43-.59-.52 0-1.04.2-1.43.59L10.3 9.45l-7.72 7.72c-.78.78-.78 2.05 0 2.83L4 21.41c.39.39.9.59 1.41.59.51 0 1.02-.2 1.41-.59l7.78-7.78 2.81-2.81c.8-.78.8-2.07 0-2.86zM5.41 20L4 18.59l7.72-7.72 1.47 1.35L5.41 20z\"/>\n",
              "  </svg>\n",
              "      </button>\n",
              "      \n",
              "  <style>\n",
              "    .colab-df-container {\n",
              "      display:flex;\n",
              "      flex-wrap:wrap;\n",
              "      gap: 12px;\n",
              "    }\n",
              "\n",
              "    .colab-df-convert {\n",
              "      background-color: #E8F0FE;\n",
              "      border: none;\n",
              "      border-radius: 50%;\n",
              "      cursor: pointer;\n",
              "      display: none;\n",
              "      fill: #1967D2;\n",
              "      height: 32px;\n",
              "      padding: 0 0 0 0;\n",
              "      width: 32px;\n",
              "    }\n",
              "\n",
              "    .colab-df-convert:hover {\n",
              "      background-color: #E2EBFA;\n",
              "      box-shadow: 0px 1px 2px rgba(60, 64, 67, 0.3), 0px 1px 3px 1px rgba(60, 64, 67, 0.15);\n",
              "      fill: #174EA6;\n",
              "    }\n",
              "\n",
              "    [theme=dark] .colab-df-convert {\n",
              "      background-color: #3B4455;\n",
              "      fill: #D2E3FC;\n",
              "    }\n",
              "\n",
              "    [theme=dark] .colab-df-convert:hover {\n",
              "      background-color: #434B5C;\n",
              "      box-shadow: 0px 1px 3px 1px rgba(0, 0, 0, 0.15);\n",
              "      filter: drop-shadow(0px 1px 2px rgba(0, 0, 0, 0.3));\n",
              "      fill: #FFFFFF;\n",
              "    }\n",
              "  </style>\n",
              "\n",
              "      <script>\n",
              "        const buttonEl =\n",
              "          document.querySelector('#df-f93ad72f-f1c3-4c9d-aa09-740ce443be4e button.colab-df-convert');\n",
              "        buttonEl.style.display =\n",
              "          google.colab.kernel.accessAllowed ? 'block' : 'none';\n",
              "\n",
              "        async function convertToInteractive(key) {\n",
              "          const element = document.querySelector('#df-f93ad72f-f1c3-4c9d-aa09-740ce443be4e');\n",
              "          const dataTable =\n",
              "            await google.colab.kernel.invokeFunction('convertToInteractive',\n",
              "                                                     [key], {});\n",
              "          if (!dataTable) return;\n",
              "\n",
              "          const docLinkHtml = 'Like what you see? Visit the ' +\n",
              "            '<a target=\"_blank\" href=https://colab.research.google.com/notebooks/data_table.ipynb>data table notebook</a>'\n",
              "            + ' to learn more about interactive tables.';\n",
              "          element.innerHTML = '';\n",
              "          dataTable['output_type'] = 'display_data';\n",
              "          await google.colab.output.renderOutput(dataTable, element);\n",
              "          const docLink = document.createElement('div');\n",
              "          docLink.innerHTML = docLinkHtml;\n",
              "          element.appendChild(docLink);\n",
              "        }\n",
              "      </script>\n",
              "    </div>\n",
              "  </div>\n",
              "  "
            ],
            "text/plain": [
              "                                                 text  \\\n",
              "0   CEC ENTERTAINMENT INC is not purchasing GEO GR...   \n",
              "1   CEC ENTERTAINMENT INC is not purchasing GEO GR...   \n",
              "2   BRAVE ASSET MANAGEMENT INC is paying Mondelez ...   \n",
              "3   BRAVE ASSET MANAGEMENT INC is paying Mondelez ...   \n",
              "4   Compound Natural Foods Inc . is not investing ...   \n",
              "..                                                ...   \n",
              "93  Cboe EDGA Exchange , Inc . is not providing Bl...   \n",
              "94  VSOURCE INC is hiring URSTADT BIDDLE PROPERTIE...   \n",
              "95  VSOURCE INC is hiring URSTADT BIDDLE PROPERTIE...   \n",
              "96  Emergent BioSolutions Inc . is not providing C...   \n",
              "97  Emergent BioSolutions Inc . is not providing C...   \n",
              "\n",
              "                              target     label  start  end  \n",
              "0              CEC ENTERTAINMENT INC  negative      0    2  \n",
              "1                      GEO GROUP INC  positive      6    8  \n",
              "2     Mondelez International , Inc .  positive      6   10  \n",
              "3         BRAVE ASSET MANAGEMENT INC  positive      0    3  \n",
              "4       Compound Natural Foods Inc .  negative      0    4  \n",
              "..                               ...       ...    ...  ...  \n",
              "93  BlueStar Financial Group , Inc .  positive      9   14  \n",
              "94     URSTADT BIDDLE PROPERTIES INC  positive      4    7  \n",
              "95                       VSOURCE INC  positive      0    1  \n",
              "96       Emergent BioSolutions Inc .  negative      0    3  \n",
              "97                       CUMMINS INC  positive      7    8  \n",
              "\n",
              "[98 rows x 5 columns]"
            ]
          },
          "execution_count": 8,
          "metadata": {},
          "output_type": "execute_result"
        }
      ],
      "source": [
        "import pandas as pd\n",
        "\n",
        "training_df = pd.read_csv('./assertion_df.csv')\n",
        "\n",
        "training_df"
      ]
    },
    {
      "cell_type": "markdown",
      "metadata": {
        "id": "r3x4nZaqUft-"
      },
      "source": [
        "📜\n",
        "- `text`: your text examples;\n",
        "- `target`: your NER chunk, extracted using `finner_orgs_prods_alias` in our case;\n",
        "- `label`: the assertion label. In our example, we have two labels: `positive` and `negative`.\n",
        "- `start`: the first token number of the chunk. You can get this information from the `begin` column in your NER model metadata.\n",
        "- `end`: the last token number of the chunk. You can get this information from the `end` column in your NER model metadata."
      ]
    },
    {
      "cell_type": "markdown",
      "metadata": {
        "id": "DZMCN5EBVOF0"
      },
      "source": [
        "###🏃‍♀️ Dataframe creation: training and test splits"
      ]
    },
    {
      "cell_type": "code",
      "execution_count": null,
      "metadata": {
        "colab": {
          "base_uri": "https://localhost:8080/"
        },
        "id": "JREBeTzb8ov-",
        "outputId": "59ade959-543f-41b1-81ac-6fc8738cfa1c"
      },
      "outputs": [
        {
          "name": "stdout",
          "output_type": "stream",
          "text": [
            "+--------------------+--------------------+--------+-----+---+\n",
            "|                text|              target|   label|start|end|\n",
            "+--------------------+--------------------+--------+-----+---+\n",
            "|CEC ENTERTAINMENT...|CEC ENTERTAINMENT...|negative|    0|  2|\n",
            "|CEC ENTERTAINMENT...|       GEO GROUP INC|positive|    6|  8|\n",
            "|BRAVE ASSET MANAG...|Mondelez Internat...|positive|    6| 10|\n",
            "|BRAVE ASSET MANAG...|BRAVE ASSET MANAG...|positive|    0|  3|\n",
            "|Compound Natural ...|Compound Natural ...|negative|    0|  4|\n",
            "|Compound Natural ...|AMERICAN ELECTRIC...|positive|    9| 13|\n",
            "|Marijuana Co of A...|PVM International...|positive|   10| 14|\n",
            "|Marijuana Co of A...|Marijuana Co of A...|positive|    0|  6|\n",
            "|NORTEK INC is not...|          NORTEK INC|negative|    0|  1|\n",
            "|NORTEK INC is not...|EN2GO INTERNATION...|positive|    6|  8|\n",
            "|QUALCOMM INC/DE i...| CANNAPOWDER , INC .|positive|    8| 11|\n",
            "|QUALCOMM INC/DE i...|     QUALCOMM INC/DE|positive|    0|  1|\n",
            "|TransDigm Group I...| TransDigm Group INC|negative|    0|  2|\n",
            "|TransDigm Group I...|         ABIOMED INC|positive|    9| 10|\n",
            "|Fundrise Income e...|MIDDLETON & CO IN...|positive|    9| 12|\n",
            "|Fundrise Income e...|Fundrise Income e...|negative|    0|  5|\n",
            "|Nexeo Solutions ,...|Nexeo Solutions ,...|negative|    0|  4|\n",
            "|Nexeo Solutions ,...|ARCA biopharma , ...|positive|    8| 12|\n",
            "|Angie's List , In...|        RC-1 , Inc .|positive|   11| 14|\n",
            "|Angie's List , In...|Angie's List , Inc .|negative|    0|  4|\n",
            "+--------------------+--------------------+--------+-----+---+\n",
            "only showing top 20 rows\n",
            "\n"
          ]
        }
      ],
      "source": [
        "# Create Spark Dataframe\n",
        "training_data = spark.createDataFrame(training_df)\n",
        "training_data.show()"
      ]
    },
    {
      "cell_type": "code",
      "execution_count": null,
      "metadata": {
        "colab": {
          "base_uri": "https://localhost:8080/"
        },
        "id": "ET8GD3y3-17e",
        "outputId": "2e6d083f-66f2-48d2-b2e9-47093a58b298"
      },
      "outputs": [
        {
          "name": "stdout",
          "output_type": "stream",
          "text": [
            "root\n",
            " |-- text: string (nullable = true)\n",
            " |-- target: string (nullable = true)\n",
            " |-- label: string (nullable = true)\n",
            " |-- start: long (nullable = true)\n",
            " |-- end: long (nullable = true)\n",
            "\n"
          ]
        }
      ],
      "source": [
        "training_data.printSchema()"
      ]
    },
    {
      "cell_type": "code",
      "execution_count": null,
      "metadata": {
        "colab": {
          "base_uri": "https://localhost:8080/"
        },
        "id": "R6xa4jp8Szs0",
        "outputId": "208144f8-839d-4a7f-fd45-3b52707be1c5"
      },
      "outputs": [
        {
          "name": "stdout",
          "output_type": "stream",
          "text": [
            "CPU times: user 3 µs, sys: 1 µs, total: 4 µs\n",
            "Wall time: 7.15 µs\n"
          ]
        },
        {
          "data": {
            "text/plain": [
              "98"
            ]
          },
          "execution_count": 11,
          "metadata": {},
          "output_type": "execute_result"
        }
      ],
      "source": [
        "%time \n",
        "training_data.count()"
      ]
    },
    {
      "cell_type": "code",
      "execution_count": null,
      "metadata": {
        "colab": {
          "base_uri": "https://localhost:8080/"
        },
        "id": "fxcHD_Q_-_lD",
        "outputId": "603a59e9-0af5-4dd4-a61c-24b74f220f3d"
      },
      "outputs": [
        {
          "name": "stdout",
          "output_type": "stream",
          "text": [
            "Training Dataset Count: 69\n",
            "Test Dataset Count: 29\n"
          ]
        }
      ],
      "source": [
        "(train_data, test_data) = training_data.randomSplit([0.7, 0.3], seed = 100)\n",
        "print(\"Training Dataset Count: \" + str(train_data.count()))\n",
        "print(\"Test Dataset Count: \" + str(test_data.count()))"
      ]
    },
    {
      "cell_type": "code",
      "execution_count": null,
      "metadata": {
        "colab": {
          "base_uri": "https://localhost:8080/"
        },
        "id": "DFN_BuHU84HF",
        "outputId": "9c346dc5-bec4-48d7-8724-d16ebaa542c0"
      },
      "outputs": [
        {
          "name": "stdout",
          "output_type": "stream",
          "text": [
            "+--------------------+--------------------+--------+-----+---+\n",
            "|                text|              target|   label|start|end|\n",
            "+--------------------+--------------------+--------+-----+---+\n",
            "|3AM TECHNOLOGIES ...|3AM TECHNOLOGIES INC|negative|    0|  2|\n",
            "|3AM TECHNOLOGIES ...|NATURAL ALTERNATI...|positive|    6|  9|\n",
            "|ALEXANDRIA REAL E...|ALEXANDRIA REAL E...|negative|    0|  4|\n",
            "|ATMI INC is eligi...|            ATMI INC|positive|    0|  1|\n",
            "|ATMI INC is eligi...|NEAH POWER SYSTEM...|positive|    5| 10|\n",
            "|Angie's List , In...|Angie's List , Inc .|negative|    0|  4|\n",
            "|Angie's List , In...|        RC-1 , Inc .|positive|   11| 14|\n",
            "|Artificial Intell...| APA OPTICS INC /MN/|positive|   10| 13|\n",
            "|Artificial Intell...|Artificial Intell...|negative|    0|  5|\n",
            "|CEC ENTERTAINMENT...|CEC ENTERTAINMENT...|negative|    0|  2|\n",
            "|CEC ENTERTAINMENT...|       GEO GROUP INC|positive|    6|  8|\n",
            "|DELTA APPAREL , I...| DELTA APPAREL , INC|positive|    0|  3|\n",
            "|DELTA APPAREL , I...|Long-Term Stock E...|positive|   10| 15|\n",
            "|Fundrise Income e...|Fundrise Income e...|negative|    0|  5|\n",
            "|GHP Investment Ad...|PARALLAX HEALTH S...|positive|   10| 15|\n",
            "|LANDAUER INC is n...|        LANDAUER INC|negative|    0|  1|\n",
            "|LANDAUER INC is n...|PLANTRONICS INC /CA/|positive|    5|  7|\n",
            "|MGP INGREDIENTS I...|    LAND O LAKES INC|positive|    6|  9|\n",
            "|Marijuana Co of A...|Marijuana Co of A...|positive|    0|  6|\n",
            "|Marijuana Co of A...|PVM International...|positive|   10| 14|\n",
            "+--------------------+--------------------+--------+-----+---+\n",
            "only showing top 20 rows\n",
            "\n"
          ]
        }
      ],
      "source": [
        "train_data.show()"
      ]
    },
    {
      "cell_type": "code",
      "execution_count": null,
      "metadata": {
        "colab": {
          "base_uri": "https://localhost:8080/"
        },
        "id": "qBt7gVbm7DBc",
        "outputId": "7c7c88d2-fad1-48a7-d16e-412f4fe10877"
      },
      "outputs": [
        {
          "name": "stdout",
          "output_type": "stream",
          "text": [
            "+--------------------+--------------------+--------+-----+---+\n",
            "|                text|              target|   label|start|end|\n",
            "+--------------------+--------------------+--------+-----+---+\n",
            "|ALEXANDRIA REAL E...|            CDEX INC|positive|    9| 10|\n",
            "|BRAVE ASSET MANAG...|BRAVE ASSET MANAG...|positive|    0|  3|\n",
            "|BRAVE ASSET MANAG...|Mondelez Internat...|positive|    6| 10|\n",
            "|Compound Natural ...|AMERICAN ELECTRIC...|positive|    9| 13|\n",
            "|Compound Natural ...|Compound Natural ...|negative|    0|  4|\n",
            "|Fundrise Income e...|MIDDLETON & CO IN...|positive|    9| 12|\n",
            "|GHP Investment Ad...|GHP Investment Ad...|positive|    0|  5|\n",
            "|MGP INGREDIENTS I...| MGP INGREDIENTS INC|negative|    0|  2|\n",
            "|Mountain Capital ...|Mountain Capital ...|negative|    0|  5|\n",
            "|Palo Alto Network...|Palo Alto Network...|negative|    0|  3|\n",
            "|QUAINT OAK BANCOR...|QUAINT OAK BANCOR...|positive|    0|  3|\n",
            "|QUALCOMM INC/DE i...| CANNAPOWDER , INC .|positive|    8| 11|\n",
            "|QUALCOMM INC/DE i...|     QUALCOMM INC/DE|positive|    0|  1|\n",
            "|SHOE CARNIVAL INC...|   SHOE CARNIVAL INC|negative|    0|  2|\n",
            "|SURMODICS INC is ...|Cboe EDGA Exchang...|positive|    4|  9|\n",
            "|WACCAMAW BANKSHAR...|WACCAMAW BANKSHAR...|positive|    0|  2|\n",
            "|AMERICAN CENTURY ...|AMERICAN CENTURY ...|negative|    0|  5|\n",
            "|AMERICAN CENTURY ...| Charmed Homes Inc .|positive|    9| 12|\n",
            "|EATON VANCE MASSA...|BATS Y-Exchange ,...|positive|   13| 17|\n",
            "|EATON VANCE MASSA...|EATON VANCE MASSA...|positive|    0|  5|\n",
            "+--------------------+--------------------+--------+-----+---+\n",
            "only showing top 20 rows\n",
            "\n"
          ]
        }
      ],
      "source": [
        "test_data.show()"
      ]
    },
    {
      "cell_type": "markdown",
      "metadata": {
        "id": "2WZDqlZA_kmb"
      },
      "source": [
        "###🔎 Using Bert Embeddings\n",
        "\n",
        "Calculated using the `bert_embeddings_sec_bert_base` embeddings on your `text` column"
      ]
    },
    {
      "cell_type": "code",
      "execution_count": null,
      "metadata": {
        "colab": {
          "base_uri": "https://localhost:8080/"
        },
        "id": "7qfJh8ap_nI2",
        "outputId": "1f5b6f20-7650-430a-9ddd-e086b77205e1"
      },
      "outputs": [
        {
          "name": "stdout",
          "output_type": "stream",
          "text": [
            "bert_embeddings_sec_bert_base download started this may take some time.\n",
            "Approximate size to download 390.4 MB\n",
            "[OK!]\n"
          ]
        }
      ],
      "source": [
        "bert_embeddings = nlp.BertEmbeddings.pretrained(\"bert_embeddings_sec_bert_base\", \"en\") \\\n",
        "  .setInputCols(\"document\", \"token\") \\\n",
        "  .setOutputCol(\"embeddings\")\\\n",
        "  .setMaxSentenceLength(512)"
      ]
    },
    {
      "cell_type": "code",
      "execution_count": null,
      "metadata": {
        "id": "Fe0957BT_rcy"
      },
      "outputs": [],
      "source": [
        "document = nlp.DocumentAssembler()\\\n",
        "    .setInputCol(\"text\")\\\n",
        "    .setOutputCol(\"document\")\n",
        "\n",
        "chunk = nlp.Doc2Chunk()\\\n",
        "    .setInputCols(\"document\")\\\n",
        "    .setOutputCol(\"doc_chunk\")\\\n",
        "    .setChunkCol(\"target\")\\\n",
        "    .setStartCol(\"start\")\\\n",
        "    .setStartColByTokenIndex(True)\\\n",
        "    .setFailOnMissing(False)\\\n",
        "    .setLowerCase(False)\n",
        "\n",
        "token = nlp.Tokenizer()\\\n",
        "    .setInputCols(['document'])\\\n",
        "    .setOutputCol('token')\n"
      ]
    },
    {
      "cell_type": "markdown",
      "metadata": {
        "id": "LFTO0PlI9-3e"
      },
      "source": [
        "We save the test data in parquet format to use in `AssertionDLApproach()`. "
      ]
    },
    {
      "cell_type": "code",
      "execution_count": null,
      "metadata": {
        "id": "M9u4c65G9VaC"
      },
      "outputs": [],
      "source": [
        "assertion_pipeline = nlp.Pipeline(\n",
        "    stages = [\n",
        "    document,\n",
        "    chunk,\n",
        "    token,\n",
        "    bert_embeddings])\n",
        "\n",
        "assertion_test_data = assertion_pipeline.fit(test_data).transform(test_data)\n",
        "\n",
        "assertion_test_data.write.mode('overwrite').parquet('test_data.parquet')"
      ]
    },
    {
      "cell_type": "code",
      "execution_count": null,
      "metadata": {
        "colab": {
          "base_uri": "https://localhost:8080/"
        },
        "id": "r-UREmtI9Vd3",
        "outputId": "6427fbf5-24c1-4731-8f25-f4d813d430a7"
      },
      "outputs": [
        {
          "data": {
            "text/plain": [
              "['text',\n",
              " 'target',\n",
              " 'label',\n",
              " 'start',\n",
              " 'end',\n",
              " 'document',\n",
              " 'doc_chunk',\n",
              " 'token',\n",
              " 'embeddings']"
            ]
          },
          "execution_count": 18,
          "metadata": {},
          "output_type": "execute_result"
        }
      ],
      "source": [
        "assertion_test_data.columns"
      ]
    },
    {
      "cell_type": "code",
      "execution_count": null,
      "metadata": {
        "id": "tFhN6evk9ViI"
      },
      "outputs": [],
      "source": [
        "assertion_train_data = assertion_pipeline.fit(training_data).transform(training_data)\n",
        "\n",
        "assertion_train_data.write.mode('overwrite').parquet('train_data.parquet')"
      ]
    },
    {
      "cell_type": "code",
      "execution_count": null,
      "metadata": {
        "colab": {
          "base_uri": "https://localhost:8080/"
        },
        "id": "BtxnrvcA9VlN",
        "outputId": "0f115fd2-e172-474f-9796-b5ce9ba1c735"
      },
      "outputs": [
        {
          "data": {
            "text/plain": [
              "['text',\n",
              " 'target',\n",
              " 'label',\n",
              " 'start',\n",
              " 'end',\n",
              " 'document',\n",
              " 'doc_chunk',\n",
              " 'token',\n",
              " 'embeddings']"
            ]
          },
          "execution_count": 20,
          "metadata": {},
          "output_type": "execute_result"
        }
      ],
      "source": [
        "assertion_train_data.columns"
      ]
    },
    {
      "cell_type": "markdown",
      "metadata": {
        "id": "uTishXbut1MS"
      },
      "source": [
        "##🔎 Graph setup"
      ]
    },
    {
      "cell_type": "code",
      "execution_count": null,
      "metadata": {
        "colab": {
          "base_uri": "https://localhost:8080/"
        },
        "id": "1hTawAHemzGn",
        "outputId": "277819cd-6e15-43f0-c23a-acab4b37311e"
      },
      "outputs": [
        {
          "name": "stdout",
          "output_type": "stream",
          "text": [
            "\u001b[2K     \u001b[90m━━━━━━━━━━━━━━━━━━━━━━━━━━━━━━━━━━━━━━━\u001b[0m \u001b[32m489.6/489.6 MB\u001b[0m \u001b[31m2.6 MB/s\u001b[0m eta \u001b[36m0:00:00\u001b[0m\n",
            "\u001b[2K     \u001b[90m━━━━━━━━━━━━━━━━━━━━━━━━━━━━━━━━━━━━━━\u001b[0m \u001b[32m463.1/463.1 KB\u001b[0m \u001b[31m41.7 MB/s\u001b[0m eta \u001b[36m0:00:00\u001b[0m\n",
            "\u001b[2K     \u001b[90m━━━━━━━━━━━━━━━━━━━━━━━━━━━━━━━━━━━━━━━━\u001b[0m \u001b[32m1.3/1.3 MB\u001b[0m \u001b[31m73.3 MB/s\u001b[0m eta \u001b[36m0:00:00\u001b[0m\n",
            "\u001b[2K     \u001b[90m━━━━━━━━━━━━━━━━━━━━━━━━━━━━━━━━━━━━━━━━\u001b[0m \u001b[32m1.1/1.1 MB\u001b[0m \u001b[31m44.4 MB/s\u001b[0m eta \u001b[36m0:00:00\u001b[0m\n",
            "\u001b[?25h"
          ]
        }
      ],
      "source": [
        "! pip install -q tensorflow==2.7.0\n",
        "! pip install -q tensorflow-addons"
      ]
    },
    {
      "cell_type": "markdown",
      "metadata": {
        "id": "0ShZT8BBo4FY"
      },
      "source": [
        "We will use TFGraphBuilder annotator which can be used to create graphs in the model training pipeline. \n",
        "\n",
        "TFGraphBuilder inspects the data and creates the proper graph if a suitable version of TensorFlow (<= 2.7 ) is available. The graph is stored in the defined folder and loaded by the approach."
      ]
    },
    {
      "cell_type": "code",
      "execution_count": null,
      "metadata": {
        "id": "XhU0L1OXdaLN"
      },
      "outputs": [],
      "source": [
        "graph_folder= \"./tf_graphs\""
      ]
    },
    {
      "cell_type": "code",
      "execution_count": null,
      "metadata": {
        "id": "miNgoTjio0mL"
      },
      "outputs": [],
      "source": [
        "assertion_graph_builder =  finance.TFGraphBuilder()\\\n",
        "    .setModelName(\"assertion_dl\")\\\n",
        "    .setInputCols([\"sentence\", \"token\", \"embeddings\"]) \\\n",
        "    .setLabelColumn(\"label\")\\\n",
        "    .setGraphFolder(graph_folder)\\\n",
        "    .setGraphFile(\"assertion_graph.pb\")\\\n",
        "    .setMaxSequenceLength(1200)\\\n",
        "    .setHiddenUnitsNumber(25)"
      ]
    },
    {
      "cell_type": "markdown",
      "metadata": {
        "id": "6D0Ng7nMUjJa"
      },
      "source": [
        "📜**Setting the Scope Window (Target Area) Dynamically in Assertion Status Detection Models**\n",
        "\n",
        "\n",
        "This parameter allows you to train the Assertion Status Models to focus on specific context windows when resolving the status of a NER chunk. The window is in format `[X,Y]` being `X` the number of tokens to consider on the left of the chunk, and `Y` the max number of tokens to consider on the right. Let’s take a look at what different windows mean:\n",
        "\n",
        "\n",
        "*   By default, the window is `[-1,-1]` which means that the Assertion Status will look at all of the tokens in the sentence/document (up to a maximum of tokens set in `setMaxSentLen()` ).\n",
        "*   `[0,0]` means “don’t pay attention to any token except the ner_chunk”, what basically is not considering any context for the Assertion resolution.\n",
        "*   `[9,15]` is what empirically seems to be the best baseline, meaning that we look up to 9 tokens on the left and 15 on the right of the ner chunk to understand the context and resolve the status.\n",
        "\n",
        "\n",
        "Check this [Scope Window Tuning Assertion Status Detection notebook](https://github.com/JohnSnowLabs/spark-nlp-workshop/blob/master/tutorials/Certification_Trainings/Healthcare/2.1.Scope_window_tuning_assertion_status_detection.ipynb)  that illustrates the effect of the different windows and how to properly fine-tune your AssertionDLModels to get the best of them.\n",
        "\n",
        "In our case, the best Scope Window is around [10,10]"
      ]
    },
    {
      "cell_type": "code",
      "execution_count": null,
      "metadata": {
        "id": "BQxGbYks91go"
      },
      "outputs": [],
      "source": [
        "scope_window = [50, 50]\n",
        "\n",
        "assertionStatus = finance.AssertionDLApproach()\\\n",
        "    .setLabelCol(\"label\")\\\n",
        "    .setInputCols(\"document\", \"doc_chunk\", \"embeddings\")\\\n",
        "    .setOutputCol(\"assertion\")\\\n",
        "    .setBatchSize(128)\\\n",
        "    .setLearningRate(0.001)\\\n",
        "    .setEpochs(2)\\\n",
        "    .setStartCol(\"start\")\\\n",
        "    .setEndCol(\"end\")\\\n",
        "    .setMaxSentLen(1200)\\\n",
        "    .setEnableOutputLogs(True)\\\n",
        "    .setOutputLogsPath('training_logs/')\\\n",
        "    .setGraphFolder(graph_folder)\\\n",
        "    .setGraphFile(f\"{graph_folder}/assertion_graph.pb\")\\\n",
        "    .setTestDataset(path=\"test_data.parquet\", read_as='SPARK', options={'format': 'parquet'})\\\n",
        "    .setScopeWindow(scope_window)\n",
        "    #.setValidationSplit(0.2)\\    \n",
        "    #.setDropout(0.1)\\    "
      ]
    },
    {
      "cell_type": "code",
      "execution_count": null,
      "metadata": {
        "id": "T2MZLeCYATrS"
      },
      "outputs": [],
      "source": [
        "assertion_pipeline = nlp.Pipeline(\n",
        "    stages = [\n",
        "    assertion_graph_builder,\n",
        "    assertionStatus])"
      ]
    },
    {
      "cell_type": "code",
      "execution_count": null,
      "metadata": {
        "colab": {
          "base_uri": "https://localhost:8080/"
        },
        "id": "yIvnuaQP91j8",
        "outputId": "6f5071dd-a01d-408f-a120-5630b1fe5532"
      },
      "outputs": [
        {
          "name": "stdout",
          "output_type": "stream",
          "text": [
            "root\n",
            " |-- text: string (nullable = true)\n",
            " |-- target: string (nullable = true)\n",
            " |-- label: string (nullable = true)\n",
            " |-- start: long (nullable = true)\n",
            " |-- end: long (nullable = true)\n",
            "\n"
          ]
        }
      ],
      "source": [
        "training_data.printSchema()"
      ]
    },
    {
      "cell_type": "code",
      "execution_count": null,
      "metadata": {
        "id": "ueJz0aiJ_7l4"
      },
      "outputs": [],
      "source": [
        "assertion_train_data = spark.read.parquet('train_data.parquet')"
      ]
    },
    {
      "cell_type": "code",
      "execution_count": null,
      "metadata": {
        "colab": {
          "base_uri": "https://localhost:8080/"
        },
        "id": "sXpFjULc8sjA",
        "outputId": "81055927-f046-40b3-83ae-ebb761047a09"
      },
      "outputs": [
        {
          "name": "stdout",
          "output_type": "stream",
          "text": [
            "+--------+-----+\n",
            "|   label|count|\n",
            "+--------+-----+\n",
            "|positive|   71|\n",
            "|negative|   27|\n",
            "+--------+-----+\n",
            "\n"
          ]
        }
      ],
      "source": [
        "assertion_train_data.groupBy('label').count().show()"
      ]
    },
    {
      "cell_type": "code",
      "execution_count": null,
      "metadata": {
        "colab": {
          "base_uri": "https://localhost:8080/"
        },
        "id": "j1NCZ89T_7ol",
        "outputId": "36ab400f-a347-40f6-83c2-e7eed4205d8b"
      },
      "outputs": [
        {
          "name": "stdout",
          "output_type": "stream",
          "text": [
            "TF Graph Builder configuration:\n",
            "Model name: assertion_dl\n",
            "Graph folder: ./tf_graphs\n",
            "Graph file name: assertion_graph.pb\n",
            "Build params: {'n_classes': 2, 'feat_size': 768, 'max_seq_len': 1200, 'n_hidden': 25}\n"
          ]
        },
        {
          "name": "stderr",
          "output_type": "stream",
          "text": [
            "WARNING:tensorflow:From /usr/local/lib/python3.8/dist-packages/tensorflow/python/compat/v2_compat.py:111: disable_resource_variables (from tensorflow.python.ops.variable_scope) is deprecated and will be removed in a future version.\n",
            "Instructions for updating:\n",
            "non-resource variables are not supported in the long term\n"
          ]
        },
        {
          "name": "stdout",
          "output_type": "stream",
          "text": [
            "Device mapping: no known devices.\n"
          ]
        },
        {
          "name": "stderr",
          "output_type": "stream",
          "text": [
            "WARNING:tensorflow:From /usr/local/lib/python3.8/dist-packages/sparknlp_jsl/_tf_graph_builders/tf2contrib/rnn.py:229: bidirectional_dynamic_rnn (from tensorflow.python.ops.rnn) is deprecated and will be removed in a future version.\n",
            "Instructions for updating:\n",
            "Please use `keras.layers.Bidirectional(keras.layers.RNN(cell))`, which is equivalent to this API\n",
            "WARNING:tensorflow:From /usr/local/lib/python3.8/dist-packages/tensorflow/python/ops/rnn.py:441: dynamic_rnn (from tensorflow.python.ops.rnn) is deprecated and will be removed in a future version.\n",
            "Instructions for updating:\n",
            "Please use `keras.layers.RNN(cell)`, which is equivalent to this API\n",
            "WARNING:tensorflow:From /usr/local/lib/python3.8/dist-packages/tensorflow/python/keras/layers/legacy_rnn/rnn_cell_impl.py:766: calling Zeros.__init__ (from tensorflow.python.ops.init_ops) with dtype is deprecated and will be removed in a future version.\n",
            "Instructions for updating:\n",
            "Call initializer instance with the dtype argument instead of passing it to the constructor\n"
          ]
        },
        {
          "name": "stdout",
          "output_type": "stream",
          "text": [
            "Device mapping: no known devices.\n",
            "assertion_dl graph exported to ./tf_graphs/assertion_graph.pb\n",
            "CPU times: user 11.1 s, sys: 691 ms, total: 11.8 s\n",
            "Wall time: 55.5 s\n"
          ]
        }
      ],
      "source": [
        "%%time\n",
        "assertion_model = assertion_pipeline.fit(assertion_train_data)"
      ]
    },
    {
      "cell_type": "markdown",
      "metadata": {
        "id": "30SmcTiSpnWa"
      },
      "source": [
        "Checking the results saved in the log file"
      ]
    },
    {
      "cell_type": "code",
      "execution_count": null,
      "metadata": {
        "colab": {
          "base_uri": "https://localhost:8080/"
        },
        "id": "kOiu1vuspKut",
        "outputId": "e94a14fc-b107-4a8c-856a-1476e20365d6"
      },
      "outputs": [
        {
          "data": {
            "text/plain": [
              "['AssertionDLApproach_1288a0afc47a.log']"
            ]
          },
          "execution_count": 30,
          "metadata": {},
          "output_type": "execute_result"
        }
      ],
      "source": [
        "import os\n",
        "\n",
        "log_files = os.listdir(\"./training_logs\")\n",
        "log_files"
      ]
    },
    {
      "cell_type": "code",
      "execution_count": null,
      "metadata": {
        "colab": {
          "base_uri": "https://localhost:8080/"
        },
        "id": "CcQV0-fIrJHz",
        "outputId": "52843e2c-9ee7-420d-ef9b-0e348e03d6c5"
      },
      "outputs": [
        {
          "name": "stdout",
          "output_type": "stream",
          "text": [
            "Name of the selected graph: ./tf_graphs/assertion_graph.pb\n",
            "Training started, trainExamples: 98\n",
            "\n",
            "\n",
            "Epoch: 0 started, learning rate: 0.001, dataset size: 98\n",
            "Done, 21.154691869 total training loss: 2.5376515, avg training loss: 2.5376515, batches: 1\n",
            "Quality on test dataset: \n",
            "time to finish evaluation: 2.22s\n",
            "Total test loss: 2.1600\tAvg test loss: 2.1600\n",
            "label\t tp\t fp\t fn\t prec\t rec\t f1\n",
            "negative\t 10\t 19\t 0\t 0.3448276\t 1.0\t 0.5128205\n",
            "positive\t 0\t 0\t 19\t 0.0\t 0.0\t 0.0\n",
            "tp: 10 fp: 19 fn: 19 labels: 2\n",
            "Macro-average\t prec: 0.1724138, rec: 0.5, f1: 0.25641024\n",
            "Micro-average\t prec: 0.3448276, rec: 0.3448276, f1: 0.3448276\n",
            "\n",
            "\n",
            "Epoch: 1 started, learning rate: 9.5E-4, dataset size: 98\n",
            "Done, 6.591055361 total training loss: 2.3828928, avg training loss: 2.3828928, batches: 1\n",
            "Quality on test dataset: \n",
            "time to finish evaluation: 1.69s\n",
            "Total test loss: 2.0273\tAvg test loss: 2.0273\n",
            "label\t tp\t fp\t fn\t prec\t rec\t f1\n",
            "negative\t 10\t 19\t 0\t 0.3448276\t 1.0\t 0.5128205\n",
            "positive\t 0\t 0\t 19\t 0.0\t 0.0\t 0.0\n",
            "tp: 10 fp: 19 fn: 19 labels: 2\n",
            "Macro-average\t prec: 0.1724138, rec: 0.5, f1: 0.25641024\n",
            "Micro-average\t prec: 0.3448276, rec: 0.3448276, f1: 0.3448276\n",
            "\n",
            "\n",
            "\n"
          ]
        }
      ],
      "source": [
        "with open(\"./training_logs/\"+log_files[0]) as log_file:\n",
        "    print(log_file.read())"
      ]
    },
    {
      "cell_type": "code",
      "execution_count": null,
      "metadata": {
        "id": "bgcG00nT91nn"
      },
      "outputs": [],
      "source": [
        "assertion_test_data = spark.read.parquet('test_data.parquet')"
      ]
    },
    {
      "cell_type": "code",
      "execution_count": null,
      "metadata": {
        "colab": {
          "base_uri": "https://localhost:8080/"
        },
        "id": "-k2WrFkRyQyP",
        "outputId": "aeefea8c-2a46-4d45-f07b-6cdd97fe8d03"
      },
      "outputs": [
        {
          "name": "stdout",
          "output_type": "stream",
          "text": [
            "+--------+----------+\n",
            "|   label|    result|\n",
            "+--------+----------+\n",
            "|positive|[negative]|\n",
            "|positive|[negative]|\n",
            "|positive|[negative]|\n",
            "|positive|[negative]|\n",
            "|negative|[negative]|\n",
            "|positive|[negative]|\n",
            "|positive|[negative]|\n",
            "|negative|[negative]|\n",
            "|negative|[negative]|\n",
            "|negative|[negative]|\n",
            "|positive|[negative]|\n",
            "|positive|[negative]|\n",
            "|positive|[negative]|\n",
            "|negative|[negative]|\n",
            "|positive|[negative]|\n",
            "|positive|[negative]|\n",
            "|negative|[negative]|\n",
            "|positive|[negative]|\n",
            "|positive|[negative]|\n",
            "|positive|[negative]|\n",
            "+--------+----------+\n",
            "only showing top 20 rows\n",
            "\n"
          ]
        }
      ],
      "source": [
        "preds = assertion_model.transform(assertion_test_data).select('label','assertion.result')\n",
        "\n",
        "preds.show()"
      ]
    },
    {
      "cell_type": "code",
      "execution_count": null,
      "metadata": {
        "id": "4yI73lwG2xk5"
      },
      "outputs": [],
      "source": [
        "preds_df = preds.toPandas()"
      ]
    },
    {
      "cell_type": "code",
      "execution_count": null,
      "metadata": {
        "colab": {
          "base_uri": "https://localhost:8080/",
          "height": 959
        },
        "id": "yRXZFGlQ3Z2U",
        "outputId": "b2bdd0ac-1da1-4806-888b-f88a2514af00"
      },
      "outputs": [
        {
          "data": {
            "text/html": [
              "\n",
              "  <div id=\"df-3ba99bf3-9775-4fda-a4c4-a6c8f61a12f5\">\n",
              "    <div class=\"colab-df-container\">\n",
              "      <div>\n",
              "<style scoped>\n",
              "    .dataframe tbody tr th:only-of-type {\n",
              "        vertical-align: middle;\n",
              "    }\n",
              "\n",
              "    .dataframe tbody tr th {\n",
              "        vertical-align: top;\n",
              "    }\n",
              "\n",
              "    .dataframe thead th {\n",
              "        text-align: right;\n",
              "    }\n",
              "</style>\n",
              "<table border=\"1\" class=\"dataframe\">\n",
              "  <thead>\n",
              "    <tr style=\"text-align: right;\">\n",
              "      <th></th>\n",
              "      <th>label</th>\n",
              "      <th>result</th>\n",
              "    </tr>\n",
              "  </thead>\n",
              "  <tbody>\n",
              "    <tr>\n",
              "      <th>0</th>\n",
              "      <td>positive</td>\n",
              "      <td>negative</td>\n",
              "    </tr>\n",
              "    <tr>\n",
              "      <th>1</th>\n",
              "      <td>positive</td>\n",
              "      <td>negative</td>\n",
              "    </tr>\n",
              "    <tr>\n",
              "      <th>2</th>\n",
              "      <td>positive</td>\n",
              "      <td>negative</td>\n",
              "    </tr>\n",
              "    <tr>\n",
              "      <th>3</th>\n",
              "      <td>positive</td>\n",
              "      <td>negative</td>\n",
              "    </tr>\n",
              "    <tr>\n",
              "      <th>4</th>\n",
              "      <td>negative</td>\n",
              "      <td>negative</td>\n",
              "    </tr>\n",
              "    <tr>\n",
              "      <th>5</th>\n",
              "      <td>positive</td>\n",
              "      <td>negative</td>\n",
              "    </tr>\n",
              "    <tr>\n",
              "      <th>6</th>\n",
              "      <td>positive</td>\n",
              "      <td>negative</td>\n",
              "    </tr>\n",
              "    <tr>\n",
              "      <th>7</th>\n",
              "      <td>negative</td>\n",
              "      <td>negative</td>\n",
              "    </tr>\n",
              "    <tr>\n",
              "      <th>8</th>\n",
              "      <td>negative</td>\n",
              "      <td>negative</td>\n",
              "    </tr>\n",
              "    <tr>\n",
              "      <th>9</th>\n",
              "      <td>negative</td>\n",
              "      <td>negative</td>\n",
              "    </tr>\n",
              "    <tr>\n",
              "      <th>10</th>\n",
              "      <td>positive</td>\n",
              "      <td>negative</td>\n",
              "    </tr>\n",
              "    <tr>\n",
              "      <th>11</th>\n",
              "      <td>positive</td>\n",
              "      <td>negative</td>\n",
              "    </tr>\n",
              "    <tr>\n",
              "      <th>12</th>\n",
              "      <td>positive</td>\n",
              "      <td>negative</td>\n",
              "    </tr>\n",
              "    <tr>\n",
              "      <th>13</th>\n",
              "      <td>negative</td>\n",
              "      <td>negative</td>\n",
              "    </tr>\n",
              "    <tr>\n",
              "      <th>14</th>\n",
              "      <td>positive</td>\n",
              "      <td>negative</td>\n",
              "    </tr>\n",
              "    <tr>\n",
              "      <th>15</th>\n",
              "      <td>positive</td>\n",
              "      <td>negative</td>\n",
              "    </tr>\n",
              "    <tr>\n",
              "      <th>16</th>\n",
              "      <td>negative</td>\n",
              "      <td>negative</td>\n",
              "    </tr>\n",
              "    <tr>\n",
              "      <th>17</th>\n",
              "      <td>positive</td>\n",
              "      <td>negative</td>\n",
              "    </tr>\n",
              "    <tr>\n",
              "      <th>18</th>\n",
              "      <td>positive</td>\n",
              "      <td>negative</td>\n",
              "    </tr>\n",
              "    <tr>\n",
              "      <th>19</th>\n",
              "      <td>positive</td>\n",
              "      <td>negative</td>\n",
              "    </tr>\n",
              "    <tr>\n",
              "      <th>20</th>\n",
              "      <td>positive</td>\n",
              "      <td>negative</td>\n",
              "    </tr>\n",
              "    <tr>\n",
              "      <th>21</th>\n",
              "      <td>negative</td>\n",
              "      <td>negative</td>\n",
              "    </tr>\n",
              "    <tr>\n",
              "      <th>22</th>\n",
              "      <td>negative</td>\n",
              "      <td>negative</td>\n",
              "    </tr>\n",
              "    <tr>\n",
              "      <th>23</th>\n",
              "      <td>positive</td>\n",
              "      <td>negative</td>\n",
              "    </tr>\n",
              "    <tr>\n",
              "      <th>24</th>\n",
              "      <td>positive</td>\n",
              "      <td>negative</td>\n",
              "    </tr>\n",
              "    <tr>\n",
              "      <th>25</th>\n",
              "      <td>negative</td>\n",
              "      <td>negative</td>\n",
              "    </tr>\n",
              "    <tr>\n",
              "      <th>26</th>\n",
              "      <td>negative</td>\n",
              "      <td>negative</td>\n",
              "    </tr>\n",
              "    <tr>\n",
              "      <th>27</th>\n",
              "      <td>positive</td>\n",
              "      <td>negative</td>\n",
              "    </tr>\n",
              "    <tr>\n",
              "      <th>28</th>\n",
              "      <td>positive</td>\n",
              "      <td>negative</td>\n",
              "    </tr>\n",
              "  </tbody>\n",
              "</table>\n",
              "</div>\n",
              "      <button class=\"colab-df-convert\" onclick=\"convertToInteractive('df-3ba99bf3-9775-4fda-a4c4-a6c8f61a12f5')\"\n",
              "              title=\"Convert this dataframe to an interactive table.\"\n",
              "              style=\"display:none;\">\n",
              "        \n",
              "  <svg xmlns=\"http://www.w3.org/2000/svg\" height=\"24px\"viewBox=\"0 0 24 24\"\n",
              "       width=\"24px\">\n",
              "    <path d=\"M0 0h24v24H0V0z\" fill=\"none\"/>\n",
              "    <path d=\"M18.56 5.44l.94 2.06.94-2.06 2.06-.94-2.06-.94-.94-2.06-.94 2.06-2.06.94zm-11 1L8.5 8.5l.94-2.06 2.06-.94-2.06-.94L8.5 2.5l-.94 2.06-2.06.94zm10 10l.94 2.06.94-2.06 2.06-.94-2.06-.94-.94-2.06-.94 2.06-2.06.94z\"/><path d=\"M17.41 7.96l-1.37-1.37c-.4-.4-.92-.59-1.43-.59-.52 0-1.04.2-1.43.59L10.3 9.45l-7.72 7.72c-.78.78-.78 2.05 0 2.83L4 21.41c.39.39.9.59 1.41.59.51 0 1.02-.2 1.41-.59l7.78-7.78 2.81-2.81c.8-.78.8-2.07 0-2.86zM5.41 20L4 18.59l7.72-7.72 1.47 1.35L5.41 20z\"/>\n",
              "  </svg>\n",
              "      </button>\n",
              "      \n",
              "  <style>\n",
              "    .colab-df-container {\n",
              "      display:flex;\n",
              "      flex-wrap:wrap;\n",
              "      gap: 12px;\n",
              "    }\n",
              "\n",
              "    .colab-df-convert {\n",
              "      background-color: #E8F0FE;\n",
              "      border: none;\n",
              "      border-radius: 50%;\n",
              "      cursor: pointer;\n",
              "      display: none;\n",
              "      fill: #1967D2;\n",
              "      height: 32px;\n",
              "      padding: 0 0 0 0;\n",
              "      width: 32px;\n",
              "    }\n",
              "\n",
              "    .colab-df-convert:hover {\n",
              "      background-color: #E2EBFA;\n",
              "      box-shadow: 0px 1px 2px rgba(60, 64, 67, 0.3), 0px 1px 3px 1px rgba(60, 64, 67, 0.15);\n",
              "      fill: #174EA6;\n",
              "    }\n",
              "\n",
              "    [theme=dark] .colab-df-convert {\n",
              "      background-color: #3B4455;\n",
              "      fill: #D2E3FC;\n",
              "    }\n",
              "\n",
              "    [theme=dark] .colab-df-convert:hover {\n",
              "      background-color: #434B5C;\n",
              "      box-shadow: 0px 1px 3px 1px rgba(0, 0, 0, 0.15);\n",
              "      filter: drop-shadow(0px 1px 2px rgba(0, 0, 0, 0.3));\n",
              "      fill: #FFFFFF;\n",
              "    }\n",
              "  </style>\n",
              "\n",
              "      <script>\n",
              "        const buttonEl =\n",
              "          document.querySelector('#df-3ba99bf3-9775-4fda-a4c4-a6c8f61a12f5 button.colab-df-convert');\n",
              "        buttonEl.style.display =\n",
              "          google.colab.kernel.accessAllowed ? 'block' : 'none';\n",
              "\n",
              "        async function convertToInteractive(key) {\n",
              "          const element = document.querySelector('#df-3ba99bf3-9775-4fda-a4c4-a6c8f61a12f5');\n",
              "          const dataTable =\n",
              "            await google.colab.kernel.invokeFunction('convertToInteractive',\n",
              "                                                     [key], {});\n",
              "          if (!dataTable) return;\n",
              "\n",
              "          const docLinkHtml = 'Like what you see? Visit the ' +\n",
              "            '<a target=\"_blank\" href=https://colab.research.google.com/notebooks/data_table.ipynb>data table notebook</a>'\n",
              "            + ' to learn more about interactive tables.';\n",
              "          element.innerHTML = '';\n",
              "          dataTable['output_type'] = 'display_data';\n",
              "          await google.colab.output.renderOutput(dataTable, element);\n",
              "          const docLink = document.createElement('div');\n",
              "          docLink.innerHTML = docLinkHtml;\n",
              "          element.appendChild(docLink);\n",
              "        }\n",
              "      </script>\n",
              "    </div>\n",
              "  </div>\n",
              "  "
            ],
            "text/plain": [
              "       label    result\n",
              "0   positive  negative\n",
              "1   positive  negative\n",
              "2   positive  negative\n",
              "3   positive  negative\n",
              "4   negative  negative\n",
              "5   positive  negative\n",
              "6   positive  negative\n",
              "7   negative  negative\n",
              "8   negative  negative\n",
              "9   negative  negative\n",
              "10  positive  negative\n",
              "11  positive  negative\n",
              "12  positive  negative\n",
              "13  negative  negative\n",
              "14  positive  negative\n",
              "15  positive  negative\n",
              "16  negative  negative\n",
              "17  positive  negative\n",
              "18  positive  negative\n",
              "19  positive  negative\n",
              "20  positive  negative\n",
              "21  negative  negative\n",
              "22  negative  negative\n",
              "23  positive  negative\n",
              "24  positive  negative\n",
              "25  negative  negative\n",
              "26  negative  negative\n",
              "27  positive  negative\n",
              "28  positive  negative"
            ]
          },
          "execution_count": 35,
          "metadata": {},
          "output_type": "execute_result"
        }
      ],
      "source": [
        "preds_df[\"result\"] = preds_df[\"result\"].apply(lambda x: x[0] if len(x) else pd.NA)\n",
        "preds_df.dropna(inplace=True)\n",
        "\n",
        "preds_df"
      ]
    },
    {
      "cell_type": "code",
      "execution_count": null,
      "metadata": {
        "colab": {
          "base_uri": "https://localhost:8080/"
        },
        "id": "1hb1kyGAE0Gn",
        "outputId": "152a5d24-f900-4401-81b7-197c1ed3064e"
      },
      "outputs": [
        {
          "name": "stdout",
          "output_type": "stream",
          "text": [
            "              precision    recall  f1-score   support\n",
            "\n",
            "    negative       0.34      1.00      0.51        10\n",
            "    positive       0.00      0.00      0.00        19\n",
            "\n",
            "    accuracy                           0.34        29\n",
            "   macro avg       0.17      0.50      0.26        29\n",
            "weighted avg       0.12      0.34      0.18        29\n",
            "\n"
          ]
        }
      ],
      "source": [
        "# We are going to use sklearn to evalute the results on test dataset\n",
        "from sklearn.metrics import classification_report\n",
        "\n",
        "print (classification_report( preds_df['label'], preds_df['result']))"
      ]
    },
    {
      "cell_type": "markdown",
      "metadata": {
        "id": "WuJ5YZ9sXU13"
      },
      "source": [
        "###✔️ Saving the trained model"
      ]
    },
    {
      "cell_type": "code",
      "execution_count": null,
      "metadata": {
        "colab": {
          "base_uri": "https://localhost:8080/"
        },
        "id": "KBcoOwvwXV8p",
        "outputId": "9dede385-d75d-4262-92a5-89b3dc32630d"
      },
      "outputs": [
        {
          "data": {
            "text/plain": [
              "[TFGraphBuilderModel_a389b6a16cae, FINANCE-ASSERTION_DL_13ea29236849]"
            ]
          },
          "execution_count": 37,
          "metadata": {},
          "output_type": "execute_result"
        }
      ],
      "source": [
        "assertion_model.stages"
      ]
    },
    {
      "cell_type": "code",
      "execution_count": null,
      "metadata": {
        "colab": {
          "base_uri": "https://localhost:8080/"
        },
        "id": "ioMW1jSrA-wg",
        "outputId": "99f0a95a-9503-4132-840b-e1196191b0ac"
      },
      "outputs": [
        {
          "name": "stdout",
          "output_type": "stream",
          "text": [
            "  adding: fields/ (stored 0%)\n",
            "  adding: fields/datasetParams/ (stored 0%)\n",
            "  adding: fields/datasetParams/_SUCCESS (stored 0%)\n",
            "  adding: fields/datasetParams/.part-00000.crc (stored 0%)\n",
            "  adding: fields/datasetParams/part-00001 (deflated 95%)\n",
            "  adding: fields/datasetParams/part-00000 (deflated 27%)\n",
            "  adding: fields/datasetParams/.part-00001.crc (deflated 44%)\n",
            "  adding: fields/datasetParams/._SUCCESS.crc (stored 0%)\n",
            "  adding: metadata/ (stored 0%)\n",
            "  adding: metadata/_SUCCESS (stored 0%)\n",
            "  adding: metadata/.part-00000.crc (stored 0%)\n",
            "  adding: metadata/part-00000 (deflated 38%)\n",
            "  adding: metadata/._SUCCESS.crc (stored 0%)\n",
            "  adding: tensorflow (deflated 39%)\n"
          ]
        }
      ],
      "source": [
        "# Save a Spark NLP model\n",
        "assertion_model.stages[-1].write().overwrite().save('Assertion')\n",
        "\n",
        "# cd into saved dir and zip\n",
        "! cd /content/Assertion ; zip -r /content/Assertion.zip *"
      ]
    },
    {
      "cell_type": "markdown",
      "metadata": {
        "id": "oPJznsW1A68w"
      },
      "source": [
        "###✔️ Testing the model"
      ]
    },
    {
      "cell_type": "markdown",
      "metadata": {
        "id": "0Xe0UAdN7MmT"
      },
      "source": [
        "The model had very little data, since it was created as a playground fopr the certification trainingts to run `quickly`. So don't expect big performance (for that, you have a pretrained version used earlier on this notebook)."
      ]
    },
    {
      "cell_type": "code",
      "execution_count": null,
      "metadata": {
        "colab": {
          "base_uri": "https://localhost:8080/"
        },
        "id": "Yq7QrIVpBPMh",
        "outputId": "f5912e25-59b3-4d30-da40-968ce010d01a"
      },
      "outputs": [
        {
          "name": "stdout",
          "output_type": "stream",
          "text": [
            "bert_embeddings_sec_bert_base download started this may take some time.\n",
            "Approximate size to download 390.4 MB\n",
            "[OK!]\n",
            "finner_orgs_prods_alias download started this may take some time.\n",
            "[OK!]\n"
          ]
        }
      ],
      "source": [
        "document_assembler = nlp.DocumentAssembler()\\\n",
        "    .setInputCol(\"text\")\\\n",
        "    .setOutputCol(\"document\")\n",
        "\n",
        "text_splitter = finance.TextSplitter() \\\n",
        "    .setInputCols([\"document\"]) \\\n",
        "    .setOutputCol(\"sentence\")\n",
        "\n",
        "tokenizer = nlp.Tokenizer()\\\n",
        "    .setInputCols([\"sentence\"])\\\n",
        "    .setOutputCol(\"token\")\n",
        "\n",
        "embeddings = nlp.BertEmbeddings.pretrained(\"bert_embeddings_sec_bert_base\",\"en\") \\\n",
        "    .setInputCols([\"sentence\", \"token\"]) \\\n",
        "    .setOutputCol(\"embeddings\")\n",
        "\n",
        "ner = finance.NerModel.pretrained(\"finner_orgs_prods_alias\",\"en\",\"finance/models\")\\\n",
        "    .setInputCols([\"sentence\", \"token\", \"embeddings\"])\\\n",
        "    .setOutputCol(\"ner\")\n",
        "\n",
        "ner_converter = nlp.NerConverter() \\\n",
        "    .setInputCols([\"sentence\", \"token\", \"ner\"]) \\\n",
        "    .setOutputCol(\"ner_chunk\")\n",
        "\n",
        "finassertion = finance.AssertionDLModel.load(\"Assertion\")\\\n",
        "    .setInputCols([\"sentence\", \"ner_chunk\", \"embeddings\"])\\\n",
        "    .setOutputCol(\"finlabel\")\n",
        "\n",
        "pipe = nlp.Pipeline(stages = [ document_assembler, text_splitter, tokenizer, embeddings, ner, ner_converter, finassertion])"
      ]
    },
    {
      "cell_type": "code",
      "execution_count": null,
      "metadata": {
        "id": "g-pTeN-aBex4"
      },
      "outputs": [],
      "source": [
        "text = \"Gradio INC will enter into a joint agreement with Hugging Face, Inc.\""
      ]
    },
    {
      "cell_type": "code",
      "execution_count": null,
      "metadata": {
        "id": "ixWXmLZ_Bfio"
      },
      "outputs": [],
      "source": [
        "sdf = spark.createDataFrame([[text]]).toDF(\"text\")\n",
        "res = pipe.fit(sdf).transform(sdf)"
      ]
    },
    {
      "cell_type": "code",
      "execution_count": null,
      "metadata": {
        "colab": {
          "base_uri": "https://localhost:8080/"
        },
        "id": "tu9VnW-ABl2X",
        "outputId": "6802591c-a175-4eb7-c5df-cfad1f3ad8c4"
      },
      "outputs": [
        {
          "name": "stdout",
          "output_type": "stream",
          "text": [
            "+-----------------+---------+\n",
            "|        ner_chunk|assertion|\n",
            "+-----------------+---------+\n",
            "|       Gradio INC| negative|\n",
            "|Hugging Face, Inc| negative|\n",
            "+-----------------+---------+\n",
            "\n"
          ]
        }
      ],
      "source": [
        "import pyspark.sql.functions as F\n",
        "res.select(F.explode(F.arrays_zip(res.ner_chunk.result, \n",
        "                                  res.finlabel.result)).alias(\"cols\"))\\\n",
        "                  .select(F.expr(\"cols['0']\").alias(\"ner_chunk\"),\n",
        "                          F.expr(\"cols['1']\").alias(\"assertion\")).show(200, truncate=100)"
      ]
    }
  ],
  "metadata": {
    "colab": {
      "provenance": [],
      "toc_visible": true
    },
    "gpuClass": "standard",
    "kernelspec": {
      "display_name": "Python 3",
      "name": "python3"
    },
    "language_info": {
      "name": "python"
    }
  },
  "nbformat": 4,
  "nbformat_minor": 0
}
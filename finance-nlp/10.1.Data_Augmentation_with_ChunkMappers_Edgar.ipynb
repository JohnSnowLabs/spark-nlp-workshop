{
  "cells": [
    {
      "cell_type": "markdown",
      "id": "db5f4f9a-7776-42b3-8758-85624d4c15ea",
      "metadata": {
        "id": "db5f4f9a-7776-42b3-8758-85624d4c15ea"
      },
      "source": [
        "![JohnSnowLabs](https://nlp.johnsnowlabs.com/assets/images/logo.png)"
      ]
    },
    {
      "attachments": {},
      "cell_type": "markdown",
      "id": "21e9eafb",
      "metadata": {
        "id": "21e9eafb"
      },
      "source": [
        "[![Open In Colab](https://colab.research.google.com/assets/colab-badge.svg)](https://colab.research.google.com/github/JohnSnowLabs/spark-nlp-workshop/blob/master/finance-nlp/10.1.Data_Augmentation_with_ChunkMappers_Edgar.ipynb)"
      ]
    },
    {
      "cell_type": "markdown",
      "id": "cfbbcfc0-e0b7-4c25-8bd7-c64d90f836d1",
      "metadata": {
        "id": "cfbbcfc0-e0b7-4c25-8bd7-c64d90f836d1"
      },
      "source": [
        "# Financial Data Augmentation with Chunk Mappers"
      ]
    },
    {
      "cell_type": "markdown",
      "id": "y-ZGEpFoU4vY",
      "metadata": {
        "id": "y-ZGEpFoU4vY"
      },
      "source": [
        "**This notebook is the continuation of [10.0.Data_Augmentation_with_ChunkMappers.ipynb](https://github.com/JohnSnowLabs/spark-nlp-workshop/blob/master/finance-nlp/10.0.Data_Augmentation_with_ChunkMappers.ipynb)**"
      ]
    },
    {
      "cell_type": "markdown",
      "id": "4iIO6G_B3pqq",
      "metadata": {
        "collapsed": false,
        "id": "4iIO6G_B3pqq"
      },
      "source": [
        "# Installation"
      ]
    },
    {
      "cell_type": "code",
      "execution_count": null,
      "id": "hPwo4Czy3pqq",
      "metadata": {
        "id": "hPwo4Czy3pqq",
        "pycharm": {
          "is_executing": true
        }
      },
      "outputs": [],
      "source": [
        "! pip install -q johnsnowlabs"
      ]
    },
    {
      "cell_type": "markdown",
      "id": "YPsbAnNoPt0Z",
      "metadata": {
        "id": "YPsbAnNoPt0Z"
      },
      "source": [
        "## Automatic Installation\n",
        "Using my.johnsnowlabs.com SSO"
      ]
    },
    {
      "cell_type": "code",
      "execution_count": 2,
      "id": "_L-7mLYp3pqr",
      "metadata": {
        "id": "_L-7mLYp3pqr",
        "pycharm": {
          "is_executing": true
        }
      },
      "outputs": [],
      "source": [
        "from johnsnowlabs import nlp, finance\n",
        "\n",
        "# nlp.install(force_browser=True)"
      ]
    },
    {
      "cell_type": "markdown",
      "id": "hsJvn_WWM2GL",
      "metadata": {
        "id": "hsJvn_WWM2GL"
      },
      "source": [
        "## Manual downloading\n",
        "If you are not registered in my.johnsnowlabs.com, you received a license via e-email or you are using Safari, you may need to do a manual update of the license.\n",
        "\n",
        "- Go to my.johnsnowlabs.com\n",
        "- Download your license\n",
        "- Upload it using the following command"
      ]
    },
    {
      "cell_type": "code",
      "execution_count": null,
      "id": "i57QV3-_P2sQ",
      "metadata": {
        "id": "i57QV3-_P2sQ"
      },
      "outputs": [],
      "source": [
        "from google.colab import files\n",
        "print('Please Upload your John Snow Labs License using the button below')\n",
        "license_keys = files.upload()"
      ]
    },
    {
      "cell_type": "markdown",
      "id": "xGgNdFzZP_hQ",
      "metadata": {
        "id": "xGgNdFzZP_hQ"
      },
      "source": [
        "- Install it"
      ]
    },
    {
      "cell_type": "code",
      "execution_count": null,
      "id": "OfmmPqknP4rR",
      "metadata": {
        "id": "OfmmPqknP4rR"
      },
      "outputs": [],
      "source": [
        "nlp.install()"
      ]
    },
    {
      "cell_type": "markdown",
      "id": "DCl5ErZkNNLk",
      "metadata": {
        "id": "DCl5ErZkNNLk"
      },
      "source": [
        "# Starting"
      ]
    },
    {
      "cell_type": "code",
      "execution_count": null,
      "id": "x3jVICoa3pqr",
      "metadata": {
        "id": "x3jVICoa3pqr"
      },
      "outputs": [],
      "source": [
        "spark = nlp.start()"
      ]
    },
    {
      "cell_type": "markdown",
      "id": "9fe41161-c8fd-467e-9fff-5d4fe1cb5160",
      "metadata": {
        "id": "9fe41161-c8fd-467e-9fff-5d4fe1cb5160"
      },
      "source": [
        "Alright! CADENCE DESIGN SYSTEMS, INC has been detected as an organization. \n",
        "\n",
        "Now, let's augment `CADENCE DESIGN SYSTEMS, INC` with more information about the company, given that there are no more details in the SEC10K form I can use.\n",
        "\n",
        "But before __augmenting__, there is a very important step we need to carry out: `Company Name Normalization`"
      ]
    },
    {
      "cell_type": "markdown",
      "id": "eb3e2808-3550-46d9-835b-f747cac4123c",
      "metadata": {
        "id": "eb3e2808-3550-46d9-835b-f747cac4123c"
      },
      "source": [
        "## Step 3: Company Names Normalization"
      ]
    },
    {
      "cell_type": "markdown",
      "id": "4e55a84c-2806-4a0e-b30f-90a43dc497ca",
      "metadata": {
        "id": "4e55a84c-2806-4a0e-b30f-90a43dc497ca"
      },
      "source": [
        "Let's suppose we want to manually get information about CADENCE DESIGN SYSTEMS, INC.\n",
        "\n",
        "Since it's a public US company, we can go to [SEC Edgar's database](https://www.sec.gov/edgar/searchedgar/companysearch) and look for it.\n",
        "\n",
        "\n",
        "Unfortunately, `CADENCE DESIGN SYSTEMS, INC` is not the official name of the company, which means no entry for `CADENCE DESIGN SYSTEMS, INC` is available. That's were __Company Names Normalization__ comes in handy.\n",
        "\n",
        "**Company Name Normalization** is the process of obtaining the name of the company used by data providers, usually the \"official\" name of the company.\n",
        "\n",
        "Sometimes, some data providers may have different versions of the name with different punctuation. For example, for Meta:\n",
        "- Meta Platforms, Inc.\n",
        "- Meta Platforms Inc.\n",
        "- Meta Platforms, Inc\n",
        "- etc\n",
        "\n",
        "So, it's mandatory we do `Company Normalization` taking into account the database / datasource provider we want to extract data from. The data providers we have are:\n",
        "- SEC Edgar\n",
        "- Crunchbase until 2015\n",
        "- Wikidata (in progress)\n",
        "\n",
        "Let's normalize `CADENCE DESIGN SYSTEMS, INC` to the official name in _SEC Edgar_."
      ]
    },
    {
      "cell_type": "code",
      "execution_count": 6,
      "id": "2564fd32-99ec-451c-ae34-2792cf3036ef",
      "metadata": {
        "colab": {
          "base_uri": "https://localhost:8080/"
        },
        "id": "2564fd32-99ec-451c-ae34-2792cf3036ef",
        "outputId": "d843b605-9a0a-4232-aecc-149302229017"
      },
      "outputs": [
        {
          "name": "stdout",
          "output_type": "stream",
          "text": [
            "tfhub_use download started this may take some time.\n",
            "Approximate size to download 923.7 MB\n",
            "[OK!]\n",
            "finel_edgar_company_name download started this may take some time.\n",
            "[OK!]\n"
          ]
        }
      ],
      "source": [
        "document_assembler = nlp.DocumentAssembler() \\\n",
        "    .setInputCol(\"text\") \\\n",
        "    .setOutputCol(\"document\")\n",
        "\n",
        "use_embeddings = nlp.UniversalSentenceEncoder.pretrained()\\\n",
        "    .setInputCols(\"document\") \\\n",
        "    .setOutputCol(\"sentence_embeddings\")\n",
        "    \n",
        "resolver = finance.SentenceEntityResolverModel.pretrained(\"finel_edgar_company_name\", \"en\", \"finance/models\")\\\n",
        "      .setInputCols([\"sentence_embeddings\"]) \\\n",
        "      .setOutputCol(\"resolution\")\\\n",
        "      .setDistanceFunction(\"EUCLIDEAN\")\n",
        "\n",
        "pipelineModel = nlp.PipelineModel(\n",
        "      stages = [\n",
        "          document_assembler,\n",
        "          use_embeddings,\n",
        "          resolver])\n",
        "\n",
        "lp_res = nlp.LightPipeline(pipelineModel)"
      ]
    },
    {
      "cell_type": "code",
      "execution_count": 7,
      "id": "36a6d5f7-6477-4219-acf7-53a95d1ebea3",
      "metadata": {
        "colab": {
          "base_uri": "https://localhost:8080/"
        },
        "id": "36a6d5f7-6477-4219-acf7-53a95d1ebea3",
        "outputId": "27d3f952-f2f3-477b-9e50-382c2a1e7e62"
      },
      "outputs": [
        {
          "data": {
            "text/plain": [
              "['CADENCE DESIGN SYSTEMS, INC', 'Cadence Design Systems, Inc']"
            ]
          },
          "execution_count": 7,
          "metadata": {},
          "output_type": "execute_result"
        }
      ],
      "source": [
        "ORG = ['CADENCE DESIGN SYSTEMS, INC', 'Cadence Design Systems, Inc']\n",
        "\n",
        "ORG"
      ]
    },
    {
      "cell_type": "code",
      "execution_count": 8,
      "id": "c319f7b8-fe7e-4408-9960-15e7675a36c1",
      "metadata": {
        "colab": {
          "base_uri": "https://localhost:8080/"
        },
        "id": "c319f7b8-fe7e-4408-9960-15e7675a36c1",
        "outputId": "0b9660df-7548-4ada-910a-a4276d25a364"
      },
      "outputs": [
        {
          "data": {
            "text/plain": [
              "[{'document': ['CADENCE DESIGN SYSTEMS, INC'],\n",
              "  'sentence_embeddings': ['CADENCE DESIGN SYSTEMS, INC'],\n",
              "  'resolution': ['CADENCE DESIGN SYSTEMS INC']},\n",
              " {'document': ['Cadence Design Systems, Inc'],\n",
              "  'sentence_embeddings': ['Cadence Design Systems, Inc'],\n",
              "  'resolution': ['CADENCE DESIGN SYSTEMS INC']}]"
            ]
          },
          "execution_count": 8,
          "metadata": {},
          "output_type": "execute_result"
        }
      ],
      "source": [
        "el_res = lp_res.annotate(ORG)\n",
        "el_res"
      ]
    },
    {
      "cell_type": "code",
      "execution_count": 9,
      "id": "pGkTVurny_XB",
      "metadata": {
        "colab": {
          "base_uri": "https://localhost:8080/",
          "height": 35
        },
        "id": "pGkTVurny_XB",
        "outputId": "30571e39-e3af-4319-f6b2-4ef9dbb46a44"
      },
      "outputs": [
        {
          "data": {
            "application/vnd.google.colaboratory.intrinsic+json": {
              "type": "string"
            },
            "text/plain": [
              "'CADENCE DESIGN SYSTEMS INC'"
            ]
          },
          "execution_count": 9,
          "metadata": {},
          "output_type": "execute_result"
        }
      ],
      "source": [
        "NORM_ORG = el_res[0]['resolution'][0]\n",
        "\n",
        "NORM_ORG"
      ]
    },
    {
      "cell_type": "markdown",
      "id": "109efb72-bfae-413b-b1cb-ef1c57b9b66d",
      "metadata": {
        "id": "109efb72-bfae-413b-b1cb-ef1c57b9b66d"
      },
      "source": [
        "Here is our normalized name for Amazon: `CADENCE DESIGN SYSTEMS INC`.\n",
        "\n",
        "Now, let's see which information is available in Edgar database for `CADENCE DESIGN SYSTEMS INC`\n",
        "\n",
        "Once we have the normalized name of the company, we can use `John Snow Labs Chunk Mappers`. These are pretrained data sources, which are updated frequently and can be queried inside Spark NLP without sending any API call to any server.\n",
        "\n",
        "In this case, we will use Edgar Database (`finmapper_edgar_companyname`)\n",
        "\n",
        "\n"
      ]
    },
    {
      "cell_type": "markdown",
      "id": "85e51e16-56a2-4dad-a27c-1047a36ecea3",
      "metadata": {
        "id": "85e51e16-56a2-4dad-a27c-1047a36ecea3"
      },
      "source": [
        "## Step 4: Data Augmentation with Chunk Mappers"
      ]
    },
    {
      "cell_type": "markdown",
      "id": "39dff3ed-08f0-4961-ba54-bbffb2606a81",
      "metadata": {
        "id": "39dff3ed-08f0-4961-ba54-bbffb2606a81"
      },
      "source": [
        "\n",
        "Once we have the normalized name of the company, we can use `John Snow Labs Chunk Mappers`. These are pretrained data sources, which are updated frequently and can be queried inside Spark NLP without sending any API call to any server.\n",
        "\n",
        "In this case, we will use Edgar Database (`finmapper_edgar_companyname`)\n",
        "\n",
        "The component which carries out __Data Augmentation__ is called `ChunkMapper`.\n",
        "\n",
        "It's name comes from the way it works: it uses a _Ner Chunk_ to map it to an external data source.\n",
        "\n",
        "As a result, you will get a JSON with a dictionary of additional fields and their values. \n",
        "\n",
        "Let's take a look at how it works."
      ]
    },
    {
      "cell_type": "code",
      "execution_count": 10,
      "id": "b246357e-0ab7-489b-9dc0-6d74d3eb97ef",
      "metadata": {
        "colab": {
          "base_uri": "https://localhost:8080/"
        },
        "id": "b246357e-0ab7-489b-9dc0-6d74d3eb97ef",
        "outputId": "ac66b1a5-117b-4855-e47d-514d4fe4830e"
      },
      "outputs": [
        {
          "name": "stdout",
          "output_type": "stream",
          "text": [
            "finmapper_edgar_companyname download started this may take some time.\n",
            "[OK!]\n"
          ]
        }
      ],
      "source": [
        "chunk_assembler = nlp.Doc2Chunk()\\\n",
        "    .setInputCols(\"document\") \\\n",
        "    .setOutputCol(\"chunk\") \\\n",
        "    .setIsArray(False)\n",
        "\n",
        "CM = finance.ChunkMapperModel().pretrained(\"finmapper_edgar_companyname\", \"en\", \"finance/models\")\\\n",
        "    .setInputCols([\"chunk\"])\\\n",
        "    .setOutputCol(\"mappings\")\n",
        "\n",
        "cm_pipeline = nlp.Pipeline(stages=[document_assembler, chunk_assembler, CM])\n",
        "\n",
        "empty_data = spark.createDataFrame([[\"\"]]).toDF(\"text\")\n",
        "\n",
        "fit_cm_pipeline = cm_pipeline.fit(empty_data)"
      ]
    },
    {
      "cell_type": "code",
      "execution_count": 11,
      "id": "340f193f-dabd-4e41-96e0-0afe0a22ed8b",
      "metadata": {
        "colab": {
          "base_uri": "https://localhost:8080/"
        },
        "id": "340f193f-dabd-4e41-96e0-0afe0a22ed8b",
        "outputId": "24f2c5bb-bf2d-4203-e622-ebe3c06f3e9b"
      },
      "outputs": [
        {
          "name": "stdout",
          "output_type": "stream",
          "text": [
            "+--------------------------+\n",
            "|text                      |\n",
            "+--------------------------+\n",
            "|CADENCE DESIGN SYSTEMS INC|\n",
            "+--------------------------+\n",
            "\n"
          ]
        }
      ],
      "source": [
        "# LightPipelines don't support Doc2Chunk, so we will use here usual transform\n",
        "df = spark.createDataFrame([[NORM_ORG]]).toDF(\"text\")\n",
        "\n",
        "df.show(truncate = False)"
      ]
    },
    {
      "cell_type": "code",
      "execution_count": 12,
      "id": "1b6729d6-32a9-4cea-b88f-0b6b7bf04d83",
      "metadata": {
        "colab": {
          "base_uri": "https://localhost:8080/"
        },
        "id": "1b6729d6-32a9-4cea-b88f-0b6b7bf04d83",
        "outputId": "49a1d835-8110-420c-ea63-06a1162bb2e6"
      },
      "outputs": [
        {
          "name": "stdout",
          "output_type": "stream",
          "text": [
            "+--------------------+--------------------+--------------------+--------------------+\n",
            "|                text|            document|               chunk|            mappings|\n",
            "+--------------------+--------------------+--------------------+--------------------+\n",
            "|CADENCE DESIGN SY...|[{document, 0, 25...|[{chunk, 0, 25, C...|[{labeled_depende...|\n",
            "+--------------------+--------------------+--------------------+--------------------+\n",
            "\n"
          ]
        }
      ],
      "source": [
        "res = fit_cm_pipeline.transform(df)\n",
        "res.show()"
      ]
    },
    {
      "cell_type": "code",
      "execution_count": 13,
      "id": "c2d4a37d-b0a1-413a-9e36-5489396a042d",
      "metadata": {
        "colab": {
          "base_uri": "https://localhost:8080/"
        },
        "id": "c2d4a37d-b0a1-413a-9e36-5489396a042d",
        "outputId": "afcdf1d4-6dcd-4130-e624-2cf5396962e6"
      },
      "outputs": [
        {
          "data": {
            "text/plain": [
              "[Row(text='CADENCE DESIGN SYSTEMS INC', document=[Row(annotatorType='document', begin=0, end=25, result='CADENCE DESIGN SYSTEMS INC', metadata={'sentence': '0'}, embeddings=[])], chunk=[Row(annotatorType='chunk', begin=0, end=25, result='CADENCE DESIGN SYSTEMS INC', metadata={'sentence': '0', 'chunk': '0'}, embeddings=[])], mappings=[Row(annotatorType='labeled_dependency', begin=0, end=25, result='CADENCE DESIGN SYSTEMS INC', metadata={'sentence': '0', 'ops': '0.0', 'distance': '0.0', 'all_relations': '', 'chunk': '0', '__trained__': 'CADENCE DESIGN SYSTEMS INC', '__distance_function__': 'levenshtein', '__relation_name__': 'name', 'entity': 'CADENCE DESIGN SYSTEMS INC', 'relation': 'name'}, embeddings=[]), Row(annotatorType='labeled_dependency', begin=0, end=25, result='SERVICES-PREPACKAGED SOFTWARE [7372]', metadata={'sentence': '0', 'ops': '0.0', 'distance': '0.0', 'all_relations': '', 'chunk': '0', '__trained__': 'CADENCE DESIGN SYSTEMS INC', '__distance_function__': 'levenshtein', '__relation_name__': 'sic', 'entity': 'CADENCE DESIGN SYSTEMS INC', 'relation': 'sic'}, embeddings=[]), Row(annotatorType='labeled_dependency', begin=0, end=25, result='7372', metadata={'sentence': '0', 'ops': '0.0', 'distance': '0.0', 'all_relations': '0', 'chunk': '0', '__trained__': 'CADENCE DESIGN SYSTEMS INC', '__distance_function__': 'levenshtein', '__relation_name__': 'sic_code', 'entity': 'CADENCE DESIGN SYSTEMS INC', 'relation': 'sic_code'}, embeddings=[]), Row(annotatorType='labeled_dependency', begin=0, end=25, result='770148231', metadata={'sentence': '0', 'ops': '0.0', 'distance': '0.0', 'all_relations': '0', 'chunk': '0', '__trained__': 'CADENCE DESIGN SYSTEMS INC', '__distance_function__': 'levenshtein', '__relation_name__': 'irs_number', 'entity': 'CADENCE DESIGN SYSTEMS INC', 'relation': 'irs_number'}, embeddings=[]), Row(annotatorType='labeled_dependency', begin=0, end=25, result='1228', metadata={'sentence': '0', 'ops': '0.0', 'distance': '0.0', 'all_relations': '101:::1229:::0:::102', 'chunk': '0', '__trained__': 'CADENCE DESIGN SYSTEMS INC', '__distance_function__': 'levenshtein', '__relation_name__': 'fiscal_year_end', 'entity': 'CADENCE DESIGN SYSTEMS INC', 'relation': 'fiscal_year_end'}, embeddings=[]), Row(annotatorType='labeled_dependency', begin=0, end=25, result='CA', metadata={'sentence': '0', 'ops': '0.0', 'distance': '0.0', 'all_relations': '', 'chunk': '0', '__trained__': 'CADENCE DESIGN SYSTEMS INC', '__distance_function__': 'levenshtein', '__relation_name__': 'state_location', 'entity': 'CADENCE DESIGN SYSTEMS INC', 'relation': 'state_location'}, embeddings=[]), Row(annotatorType='labeled_dependency', begin=0, end=25, result='DE', metadata={'sentence': '0', 'ops': '0.0', 'distance': '0.0', 'all_relations': '', 'chunk': '0', '__trained__': 'CADENCE DESIGN SYSTEMS INC', '__distance_function__': 'levenshtein', '__relation_name__': 'state_incorporation', 'entity': 'CADENCE DESIGN SYSTEMS INC', 'relation': 'state_incorporation'}, embeddings=[]), Row(annotatorType='labeled_dependency', begin=0, end=25, result='2655 SEELY AVENUE BLDG 5', metadata={'sentence': '0', 'ops': '0.0', 'distance': '0.0', 'all_relations': '2655 SEELY ROAD BLDG 5', 'chunk': '0', '__trained__': 'CADENCE DESIGN SYSTEMS INC', '__distance_function__': 'levenshtein', '__relation_name__': 'business_street', 'entity': 'CADENCE DESIGN SYSTEMS INC', 'relation': 'business_street'}, embeddings=[]), Row(annotatorType='labeled_dependency', begin=0, end=25, result='SAN JOSE', metadata={'sentence': '0', 'ops': '0.0', 'distance': '0.0', 'all_relations': '', 'chunk': '0', '__trained__': 'CADENCE DESIGN SYSTEMS INC', '__distance_function__': 'levenshtein', '__relation_name__': 'business_city', 'entity': 'CADENCE DESIGN SYSTEMS INC', 'relation': 'business_city'}, embeddings=[]), Row(annotatorType='labeled_dependency', begin=0, end=25, result='CA', metadata={'sentence': '0', 'ops': '0.0', 'distance': '0.0', 'all_relations': '', 'chunk': '0', '__trained__': 'CADENCE DESIGN SYSTEMS INC', '__distance_function__': 'levenshtein', '__relation_name__': 'business_state', 'entity': 'CADENCE DESIGN SYSTEMS INC', 'relation': 'business_state'}, embeddings=[]), Row(annotatorType='labeled_dependency', begin=0, end=25, result='95134', metadata={'sentence': '0', 'ops': '0.0', 'distance': '0.0', 'all_relations': '', 'chunk': '0', '__trained__': 'CADENCE DESIGN SYSTEMS INC', '__distance_function__': 'levenshtein', '__relation_name__': 'business_zip', 'entity': 'CADENCE DESIGN SYSTEMS INC', 'relation': 'business_zip'}, embeddings=[]), Row(annotatorType='labeled_dependency', begin=0, end=25, result='4089431234', metadata={'sentence': '0', 'ops': '0.0', 'distance': '0.0', 'all_relations': '', 'chunk': '0', '__trained__': 'CADENCE DESIGN SYSTEMS INC', '__distance_function__': 'levenshtein', '__relation_name__': 'business_phone', 'entity': 'CADENCE DESIGN SYSTEMS INC', 'relation': 'business_phone'}, embeddings=[]), Row(annotatorType='labeled_dependency', begin=0, end=25, result='ECAD INC /DE/', metadata={'sentence': '0', 'ops': '0.0', 'distance': '0.0', 'all_relations': '', 'chunk': '0', '__trained__': 'CADENCE DESIGN SYSTEMS INC', '__distance_function__': 'levenshtein', '__relation_name__': 'former_name', 'entity': 'CADENCE DESIGN SYSTEMS INC', 'relation': 'former_name'}, embeddings=[]), Row(annotatorType='labeled_dependency', begin=0, end=25, result='19880609', metadata={'sentence': '0', 'ops': '0.0', 'distance': '0.0', 'all_relations': '', 'chunk': '0', '__trained__': 'CADENCE DESIGN SYSTEMS INC', '__distance_function__': 'levenshtein', '__relation_name__': 'former_name_date', 'entity': 'CADENCE DESIGN SYSTEMS INC', 'relation': 'former_name_date'}, embeddings=[]), Row(annotatorType='labeled_dependency', begin=0, end=25, result='2017-02-10', metadata={'sentence': '0', 'ops': '0.0', 'distance': '0.0', 'all_relations': '2017-07-24:::2016-04-25:::2016-07-25:::2016-10-24:::2022-04-25:::2018-10-22:::2015-02-10:::2015-07-13:::2015-09-22:::2015-11-23:::2015-10-27:::2015-12-03:::2014-01-08:::2014-02-06:::2014-02-07:::2014-02-11:::2014-02-13:::2014-02-18:::2014-01-29:::2014-02-19:::2014-02-10:::2014-02-24:::2014-02-14:::2014-02-20:::2014-03-19:::2014-03-07:::2014-03-05:::2014-02-27:::2014-04-01:::2013-10-24:::2012-07-26:::2011-07-29:::2021-10-25:::2020-04-20:::2020-07-20:::2020-10-19:::2008-12-11:::2006-08-07:::2006-10-27:::2002-03-12', 'chunk': '0', '__trained__': 'CADENCE DESIGN SYSTEMS INC', '__distance_function__': 'levenshtein', '__relation_name__': 'date', 'entity': 'CADENCE DESIGN SYSTEMS INC', 'relation': 'date'}, embeddings=[]), Row(annotatorType='labeled_dependency', begin=0, end=25, result='813672', metadata={'sentence': '0', 'ops': '0.0', 'distance': '0.0', 'all_relations': '', 'chunk': '0', '__trained__': 'CADENCE DESIGN SYSTEMS INC', '__distance_function__': 'levenshtein', '__relation_name__': 'company_id', 'entity': 'CADENCE DESIGN SYSTEMS INC', 'relation': 'company_id'}, embeddings=[])])]"
            ]
          },
          "execution_count": 13,
          "metadata": {},
          "output_type": "execute_result"
        }
      ],
      "source": [
        "r = res.collect()\n",
        "r"
      ]
    },
    {
      "cell_type": "code",
      "execution_count": 14,
      "id": "bd37fe7a-6823-4ab3-a41e-e1e711fdbbb8",
      "metadata": {
        "id": "bd37fe7a-6823-4ab3-a41e-e1e711fdbbb8"
      },
      "outputs": [],
      "source": [
        "json_dict = dict()\n",
        "for n in r[0]['mappings']:\n",
        "    json_dict[n.metadata['relation']] = str(n.result)"
      ]
    },
    {
      "cell_type": "code",
      "execution_count": 15,
      "id": "35e22829-8c0d-4853-a896-cc9502a567b1",
      "metadata": {
        "colab": {
          "base_uri": "https://localhost:8080/"
        },
        "id": "35e22829-8c0d-4853-a896-cc9502a567b1",
        "outputId": "a3b12fe6-1f31-4ce6-a5ef-15493b6508a7"
      },
      "outputs": [
        {
          "name": "stdout",
          "output_type": "stream",
          "text": [
            "{\n",
            "    \"business_city\": \"SAN JOSE\",\n",
            "    \"business_phone\": \"4089431234\",\n",
            "    \"business_state\": \"CA\",\n",
            "    \"business_street\": \"2655 SEELY AVENUE BLDG 5\",\n",
            "    \"business_zip\": \"95134\",\n",
            "    \"company_id\": \"813672\",\n",
            "    \"date\": \"2017-02-10\",\n",
            "    \"fiscal_year_end\": \"1228\",\n",
            "    \"former_name\": \"ECAD INC /DE/\",\n",
            "    \"former_name_date\": \"19880609\",\n",
            "    \"irs_number\": \"770148231\",\n",
            "    \"name\": \"CADENCE DESIGN SYSTEMS INC\",\n",
            "    \"sic\": \"SERVICES-PREPACKAGED SOFTWARE [7372]\",\n",
            "    \"sic_code\": \"7372\",\n",
            "    \"state_incorporation\": \"DE\",\n",
            "    \"state_location\": \"CA\"\n",
            "}\n"
          ]
        }
      ],
      "source": [
        "import json\n",
        "print(json.dumps(json_dict, indent=4, sort_keys=True))"
      ]
    },
    {
      "cell_type": "markdown",
      "id": "Bes80soeF9aB",
      "metadata": {
        "id": "Bes80soeF9aB"
      },
      "source": [
        "Yes, here it is. We get additional information about `CADENCE DESIGN SYSTEMS INC` using only company name."
      ]
    }
  ],
  "metadata": {
    "colab": {
      "provenance": [],
      "toc_visible": true
    },
    "gpuClass": "standard",
    "kernelspec": {
      "display_name": "tf-gpu",
      "language": "python",
      "name": "python3"
    },
    "language_info": {
      "codemirror_mode": {
        "name": "ipython",
        "version": 3
      },
      "file_extension": ".py",
      "mimetype": "text/x-python",
      "name": "python",
      "nbconvert_exporter": "python",
      "pygments_lexer": "ipython3",
      "version": "3.9.7 (default, Sep 16 2021, 16:59:28) [MSC v.1916 64 bit (AMD64)]"
    },
    "vscode": {
      "interpreter": {
        "hash": "3f47d918ae832c68584484921185f5c85a1760864bf927a683dc6fb56366cc77"
      }
    }
  },
  "nbformat": 4,
  "nbformat_minor": 5
}

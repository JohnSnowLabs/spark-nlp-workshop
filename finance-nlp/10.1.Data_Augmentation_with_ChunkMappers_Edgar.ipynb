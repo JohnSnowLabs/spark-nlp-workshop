{
  "cells": [
    {
      "cell_type": "markdown",
      "id": "db5f4f9a-7776-42b3-8758-85624d4c15ea",
      "metadata": {
        "id": "db5f4f9a-7776-42b3-8758-85624d4c15ea"
      },
      "source": [
        "![JohnSnowLabs](https://nlp.johnsnowlabs.com/assets/images/logo.png)"
      ]
    },
    {
      "cell_type": "markdown",
      "id": "21e9eafb",
      "metadata": {
        "id": "21e9eafb"
      },
      "source": [
        "[![Open In Colab](https://colab.research.google.com/assets/colab-badge.svg)](https://colab.research.google.com/github/JohnSnowLabs/spark-nlp-workshop/blob/master/finance-nlp/10.1.Data_Augmentation_with_ChunkMappers_Edgar.ipynb)"
      ]
    },
    {
      "cell_type": "markdown",
      "id": "cfbbcfc0-e0b7-4c25-8bd7-c64d90f836d1",
      "metadata": {
        "id": "cfbbcfc0-e0b7-4c25-8bd7-c64d90f836d1"
      },
      "source": [
        "# Financial Data Augmentation with Chunk Mappers"
      ]
    },
    {
      "cell_type": "markdown",
      "id": "y-ZGEpFoU4vY",
      "metadata": {
        "id": "y-ZGEpFoU4vY"
      },
      "source": [
        "**This notebook is the continuation of [10.0.Data_Augmentation_with_ChunkMappers.ipynb](https://github.com/JohnSnowLabs/spark-nlp-workshop/blob/master/tutorials/Certification_Trainings_JSL/Finance/10.0.Data_Augmentation_with_ChunkMappers.ipynb)**"
      ]
    },
    {
      "cell_type": "markdown",
      "id": "4iIO6G_B3pqq",
      "metadata": {
        "collapsed": false,
        "id": "4iIO6G_B3pqq"
      },
      "source": [
        "# Installation"
      ]
    },
    {
      "cell_type": "code",
      "execution_count": 72,
      "id": "hPwo4Czy3pqq",
      "metadata": {
        "id": "hPwo4Czy3pqq",
        "pycharm": {
          "is_executing": true
        }
      },
      "outputs": [],
      "source": [
        "! pip install -q johnsnowlabs"
      ]
    },
    {
      "cell_type": "markdown",
      "id": "YPsbAnNoPt0Z",
      "metadata": {
        "id": "YPsbAnNoPt0Z"
      },
      "source": [
        "## Automatic Installation\n",
        "Using my.johnsnowlabs.com SSO"
      ]
    },
    {
      "cell_type": "code",
      "execution_count": 73,
      "id": "_L-7mLYp3pqr",
      "metadata": {
        "id": "_L-7mLYp3pqr",
        "pycharm": {
          "is_executing": true
        }
      },
      "outputs": [],
      "source": [
        "from johnsnowlabs import nlp, finance\n",
        "\n",
        "# nlp.install(force_browser=True)"
      ]
    },
    {
      "cell_type": "markdown",
      "id": "hsJvn_WWM2GL",
      "metadata": {
        "id": "hsJvn_WWM2GL"
      },
      "source": [
        "## Manual downloading\n",
        "If you are not registered in my.johnsnowlabs.com, you received a license via e-email or you are using Safari, you may need to do a manual update of the license.\n",
        "\n",
        "- Go to my.johnsnowlabs.com\n",
        "- Download your license\n",
        "- Upload it using the following command"
      ]
    },
    {
      "cell_type": "code",
      "execution_count": 74,
      "id": "i57QV3-_P2sQ",
      "metadata": {
        "id": "i57QV3-_P2sQ",
        "outputId": "261763e0-ec14-47ef-9020-bf5d19e29e36",
        "colab": {
          "base_uri": "https://localhost:8080/",
          "height": 89
        }
      },
      "outputs": [
        {
          "output_type": "stream",
          "name": "stdout",
          "text": [
            "Please Upload your John Snow Labs License using the button below\n"
          ]
        },
        {
          "output_type": "display_data",
          "data": {
            "text/plain": [
              "<IPython.core.display.HTML object>"
            ],
            "text/html": [
              "\n",
              "     <input type=\"file\" id=\"files-4e3fac0a-14b4-4871-b68e-d86411a0b1ab\" name=\"files[]\" multiple disabled\n",
              "        style=\"border:none\" />\n",
              "     <output id=\"result-4e3fac0a-14b4-4871-b68e-d86411a0b1ab\">\n",
              "      Upload widget is only available when the cell has been executed in the\n",
              "      current browser session. Please rerun this cell to enable.\n",
              "      </output>\n",
              "      <script>// Copyright 2017 Google LLC\n",
              "//\n",
              "// Licensed under the Apache License, Version 2.0 (the \"License\");\n",
              "// you may not use this file except in compliance with the License.\n",
              "// You may obtain a copy of the License at\n",
              "//\n",
              "//      http://www.apache.org/licenses/LICENSE-2.0\n",
              "//\n",
              "// Unless required by applicable law or agreed to in writing, software\n",
              "// distributed under the License is distributed on an \"AS IS\" BASIS,\n",
              "// WITHOUT WARRANTIES OR CONDITIONS OF ANY KIND, either express or implied.\n",
              "// See the License for the specific language governing permissions and\n",
              "// limitations under the License.\n",
              "\n",
              "/**\n",
              " * @fileoverview Helpers for google.colab Python module.\n",
              " */\n",
              "(function(scope) {\n",
              "function span(text, styleAttributes = {}) {\n",
              "  const element = document.createElement('span');\n",
              "  element.textContent = text;\n",
              "  for (const key of Object.keys(styleAttributes)) {\n",
              "    element.style[key] = styleAttributes[key];\n",
              "  }\n",
              "  return element;\n",
              "}\n",
              "\n",
              "// Max number of bytes which will be uploaded at a time.\n",
              "const MAX_PAYLOAD_SIZE = 100 * 1024;\n",
              "\n",
              "function _uploadFiles(inputId, outputId) {\n",
              "  const steps = uploadFilesStep(inputId, outputId);\n",
              "  const outputElement = document.getElementById(outputId);\n",
              "  // Cache steps on the outputElement to make it available for the next call\n",
              "  // to uploadFilesContinue from Python.\n",
              "  outputElement.steps = steps;\n",
              "\n",
              "  return _uploadFilesContinue(outputId);\n",
              "}\n",
              "\n",
              "// This is roughly an async generator (not supported in the browser yet),\n",
              "// where there are multiple asynchronous steps and the Python side is going\n",
              "// to poll for completion of each step.\n",
              "// This uses a Promise to block the python side on completion of each step,\n",
              "// then passes the result of the previous step as the input to the next step.\n",
              "function _uploadFilesContinue(outputId) {\n",
              "  const outputElement = document.getElementById(outputId);\n",
              "  const steps = outputElement.steps;\n",
              "\n",
              "  const next = steps.next(outputElement.lastPromiseValue);\n",
              "  return Promise.resolve(next.value.promise).then((value) => {\n",
              "    // Cache the last promise value to make it available to the next\n",
              "    // step of the generator.\n",
              "    outputElement.lastPromiseValue = value;\n",
              "    return next.value.response;\n",
              "  });\n",
              "}\n",
              "\n",
              "/**\n",
              " * Generator function which is called between each async step of the upload\n",
              " * process.\n",
              " * @param {string} inputId Element ID of the input file picker element.\n",
              " * @param {string} outputId Element ID of the output display.\n",
              " * @return {!Iterable<!Object>} Iterable of next steps.\n",
              " */\n",
              "function* uploadFilesStep(inputId, outputId) {\n",
              "  const inputElement = document.getElementById(inputId);\n",
              "  inputElement.disabled = false;\n",
              "\n",
              "  const outputElement = document.getElementById(outputId);\n",
              "  outputElement.innerHTML = '';\n",
              "\n",
              "  const pickedPromise = new Promise((resolve) => {\n",
              "    inputElement.addEventListener('change', (e) => {\n",
              "      resolve(e.target.files);\n",
              "    });\n",
              "  });\n",
              "\n",
              "  const cancel = document.createElement('button');\n",
              "  inputElement.parentElement.appendChild(cancel);\n",
              "  cancel.textContent = 'Cancel upload';\n",
              "  const cancelPromise = new Promise((resolve) => {\n",
              "    cancel.onclick = () => {\n",
              "      resolve(null);\n",
              "    };\n",
              "  });\n",
              "\n",
              "  // Wait for the user to pick the files.\n",
              "  const files = yield {\n",
              "    promise: Promise.race([pickedPromise, cancelPromise]),\n",
              "    response: {\n",
              "      action: 'starting',\n",
              "    }\n",
              "  };\n",
              "\n",
              "  cancel.remove();\n",
              "\n",
              "  // Disable the input element since further picks are not allowed.\n",
              "  inputElement.disabled = true;\n",
              "\n",
              "  if (!files) {\n",
              "    return {\n",
              "      response: {\n",
              "        action: 'complete',\n",
              "      }\n",
              "    };\n",
              "  }\n",
              "\n",
              "  for (const file of files) {\n",
              "    const li = document.createElement('li');\n",
              "    li.append(span(file.name, {fontWeight: 'bold'}));\n",
              "    li.append(span(\n",
              "        `(${file.type || 'n/a'}) - ${file.size} bytes, ` +\n",
              "        `last modified: ${\n",
              "            file.lastModifiedDate ? file.lastModifiedDate.toLocaleDateString() :\n",
              "                                    'n/a'} - `));\n",
              "    const percent = span('0% done');\n",
              "    li.appendChild(percent);\n",
              "\n",
              "    outputElement.appendChild(li);\n",
              "\n",
              "    const fileDataPromise = new Promise((resolve) => {\n",
              "      const reader = new FileReader();\n",
              "      reader.onload = (e) => {\n",
              "        resolve(e.target.result);\n",
              "      };\n",
              "      reader.readAsArrayBuffer(file);\n",
              "    });\n",
              "    // Wait for the data to be ready.\n",
              "    let fileData = yield {\n",
              "      promise: fileDataPromise,\n",
              "      response: {\n",
              "        action: 'continue',\n",
              "      }\n",
              "    };\n",
              "\n",
              "    // Use a chunked sending to avoid message size limits. See b/62115660.\n",
              "    let position = 0;\n",
              "    do {\n",
              "      const length = Math.min(fileData.byteLength - position, MAX_PAYLOAD_SIZE);\n",
              "      const chunk = new Uint8Array(fileData, position, length);\n",
              "      position += length;\n",
              "\n",
              "      const base64 = btoa(String.fromCharCode.apply(null, chunk));\n",
              "      yield {\n",
              "        response: {\n",
              "          action: 'append',\n",
              "          file: file.name,\n",
              "          data: base64,\n",
              "        },\n",
              "      };\n",
              "\n",
              "      let percentDone = fileData.byteLength === 0 ?\n",
              "          100 :\n",
              "          Math.round((position / fileData.byteLength) * 100);\n",
              "      percent.textContent = `${percentDone}% done`;\n",
              "\n",
              "    } while (position < fileData.byteLength);\n",
              "  }\n",
              "\n",
              "  // All done.\n",
              "  yield {\n",
              "    response: {\n",
              "      action: 'complete',\n",
              "    }\n",
              "  };\n",
              "}\n",
              "\n",
              "scope.google = scope.google || {};\n",
              "scope.google.colab = scope.google.colab || {};\n",
              "scope.google.colab._files = {\n",
              "  _uploadFiles,\n",
              "  _uploadFilesContinue,\n",
              "};\n",
              "})(self);\n",
              "</script> "
            ]
          },
          "metadata": {}
        },
        {
          "output_type": "stream",
          "name": "stdout",
          "text": [
            "Saving spark_nlp_for_healthcare_spark_ocr_6538.json to spark_nlp_for_healthcare_spark_ocr_6538 (1).json\n"
          ]
        }
      ],
      "source": [
        "from google.colab import files\n",
        "print('Please Upload your John Snow Labs License using the button below')\n",
        "license_keys = files.upload()"
      ]
    },
    {
      "cell_type": "markdown",
      "id": "xGgNdFzZP_hQ",
      "metadata": {
        "id": "xGgNdFzZP_hQ"
      },
      "source": [
        "- Install it"
      ]
    },
    {
      "cell_type": "code",
      "execution_count": 75,
      "id": "OfmmPqknP4rR",
      "metadata": {
        "id": "OfmmPqknP4rR",
        "outputId": "e8f1613f-75eb-4124-b14d-8681f35cd076",
        "colab": {
          "base_uri": "https://localhost:8080/"
        }
      },
      "outputs": [
        {
          "output_type": "stream",
          "name": "stdout",
          "text": [
            "👌 Detected license file /content/spark_nlp_for_healthcare_spark_ocr_6538.json\n",
            "👌 Detected license file /content/spark_nlp_for_healthcare_spark_ocr_6538.json\n",
            "👌 JSL-Home is up to date! \n",
            "👌 Everything is already installed, no changes made\n"
          ]
        }
      ],
      "source": [
        "nlp.install()"
      ]
    },
    {
      "cell_type": "markdown",
      "id": "DCl5ErZkNNLk",
      "metadata": {
        "id": "DCl5ErZkNNLk"
      },
      "source": [
        "# Starting"
      ]
    },
    {
      "cell_type": "code",
      "execution_count": 76,
      "id": "x3jVICoa3pqr",
      "metadata": {
        "id": "x3jVICoa3pqr",
        "outputId": "94ad1ea2-d222-4aa8-b823-70abd9024aca",
        "colab": {
          "base_uri": "https://localhost:8080/"
        }
      },
      "outputs": [
        {
          "output_type": "stream",
          "name": "stdout",
          "text": [
            "Spark Session already created, some configs may not take.\n",
            "👌 Detected license file /content/spark_nlp_for_healthcare_spark_ocr_6538.json\n"
          ]
        }
      ],
      "source": [
        "spark = nlp.start()"
      ]
    },
    {
      "cell_type": "markdown",
      "source": [
        "## Step 3: Matching our NER to the Chunk Mappers data source"
      ],
      "metadata": {
        "id": "O89s3mFGTI6d"
      },
      "id": "O89s3mFGTI6d"
    },
    {
      "cell_type": "markdown",
      "id": "9fe41161-c8fd-467e-9fff-5d4fe1cb5160",
      "metadata": {
        "id": "9fe41161-c8fd-467e-9fff-5d4fe1cb5160"
      },
      "source": [
        "Let's suppose we want to manually get information about CADENCE DESIGN SYSTEMS, INC.\n",
        "\n",
        "Since it's a public US company, we can go to [SEC Edgar's database](https://www.sec.gov/edgar/searchedgar/companysearch) and look for it.\n",
        "\n",
        "Unfortunately, `CADENCE DESIGN SYSTEMS, INC` is not the official name of the company, which means no entry for `CADENCE DESIGN SYSTEMS, INC` is available. \n",
        "\n",
        "This happens very often. Data providers may have different versions of the name with different punctuation. For example, for Meta:\n",
        "- Meta Platforms, Inc.\n",
        "- Meta Platforms Inc.\n",
        "- Meta Platforms, Inc\n",
        "- etc\n",
        "\n",
        "ChunkMappers work by default with `EXACT MATCHES`. So if you don't extract exactly the very same way the company appears in your ChunkMapper, you won't get any result. But evidently we include 2 ways to cope with non-full matches.\n",
        "\n",
        "1. First, using Chunk Mappers **Fuzzy Matching** (Section 3a).\n",
        "2. Second, using **Entity Resolvers to Normalize** or Map the name of the company extracted in NER to the name which appears in our Chunk Mapper (Section 2b).\n",
        "\n",
        "In this case, we will use Edgar Database (`finmapper_edgar_companyname`)\n",
        "\n",
        "The component which carries out __Data Augmentation__ is called `ChunkMapper`.\n",
        "\n",
        "It's name comes from the way it works: it uses a _Ner Chunk_ to map it to an external data source.\n",
        "\n",
        "As a result, you will get a JSON with a dictionary of additional fields and their values. \n",
        "\n",
        "Let's take a look at how it works."
      ]
    },
    {
      "cell_type": "markdown",
      "source": [
        "## Step 3a: Using Fuzzy Matching\n",
        "\n",
        "Let's use our NER chunk to map it to Edgar ChunkMapper using Fuzzy Matching."
      ],
      "metadata": {
        "id": "pg7jUdN_TE5O"
      },
      "id": "pg7jUdN_TE5O"
    },
    {
      "cell_type": "code",
      "execution_count": 77,
      "id": "36a6d5f7-6477-4219-acf7-53a95d1ebea3",
      "metadata": {
        "colab": {
          "base_uri": "https://localhost:8080/"
        },
        "id": "36a6d5f7-6477-4219-acf7-53a95d1ebea3",
        "outputId": "884c48c0-5699-4fca-9149-8ff7fce9db23"
      },
      "outputs": [
        {
          "output_type": "execute_result",
          "data": {
            "text/plain": [
              "['CADENCE DESIGN SYSTEMS, INC', 'CADENCE DESIGN SYSTEM INCORPORATED']"
            ]
          },
          "metadata": {},
          "execution_count": 77
        }
      ],
      "source": [
        "ORG = ['CADENCE DESIGN SYSTEMS, INC', 'CADENCE DESIGN SYSTEM INCORPORATED']\n",
        "\n",
        "ORG"
      ]
    },
    {
      "cell_type": "code",
      "source": [
        "document_assembler = nlp.DocumentAssembler() \\\n",
        "    .setInputCol(\"text\") \\\n",
        "    .setOutputCol(\"document\")\n",
        "\n",
        "# Posible distance metrics: ['levenshtein', 'longest-common-subsequence', 'cosine']\n",
        "CM = finance.ChunkMapperModel().pretrained(\"finmapper_edgar_companyname\", \"en\", \"finance/models\")\\\n",
        "    .setInputCols([\"document\"])\\\n",
        "    .setOutputCol(\"mappings\")\\\n",
        "    .setEnableFuzzyMatching(True)\\\n",
        "    .setEnableCharFingerprintMatching(False)\\\n",
        "    .setFuzzyMatchingDistances(['cosine'])\\\n",
        "    .setFuzzyMatchingDistanceThresholds([0.1])\n",
        "\n",
        "cm_pipeline = nlp.Pipeline(stages=[document_assembler, CM])\n",
        "\n",
        "empty_data = spark.createDataFrame([[\"\"]]).toDF(\"text\")\n",
        "\n",
        "fit_cm_pipeline = cm_pipeline.fit(empty_data)\n",
        "\n",
        "lp = nlp.LightPipeline(fit_cm_pipeline)\n",
        "\n",
        "res = lp.fullAnnotate(ORG)"
      ],
      "metadata": {
        "id": "c_3TnUE3UOzX",
        "outputId": "cb28ef40-8a07-481f-f9c6-5d63cf11cbd6",
        "colab": {
          "base_uri": "https://localhost:8080/"
        }
      },
      "id": "c_3TnUE3UOzX",
      "execution_count": 78,
      "outputs": [
        {
          "output_type": "stream",
          "name": "stdout",
          "text": [
            "finmapper_edgar_companyname download started this may take some time.\n",
            "[OK!]\n"
          ]
        }
      ]
    },
    {
      "cell_type": "code",
      "source": [
        "for r in res:\n",
        "  for map in r['mappings']:\n",
        "    print(map)"
      ],
      "metadata": {
        "id": "kUD18f4HVx_I",
        "outputId": "8c957ced-ab79-4160-d31d-c98dcb2770d7",
        "colab": {
          "base_uri": "https://localhost:8080/"
        }
      },
      "id": "kUD18f4HVx_I",
      "execution_count": 79,
      "outputs": [
        {
          "output_type": "stream",
          "name": "stdout",
          "text": [
            "Annotation(labeled_dependency, 0, 26, CADENCE DESIGN SYSTEMS INC, {'__trained__': 'CADENCE DESIGN SYSTEMS INC', 'relation': 'name', '__distance_function__': 'cosine', 'ops': '0.037037037037037035', 'all_relations': '', 'entity': 'CADENCE DESIGN SYSTEMS, INC', 'distance': '0.0', '__relation_name__': 'name'}, [])\n",
            "Annotation(labeled_dependency, 0, 26, SERVICES-PREPACKAGED SOFTWARE [7372], {'__trained__': 'CADENCE DESIGN SYSTEMS INC', 'relation': 'sic', '__distance_function__': 'cosine', 'ops': '0.037037037037037035', 'all_relations': '', 'entity': 'CADENCE DESIGN SYSTEMS, INC', 'distance': '0.0', '__relation_name__': 'sic'}, [])\n",
            "Annotation(labeled_dependency, 0, 26, 7372, {'__trained__': 'CADENCE DESIGN SYSTEMS INC', 'relation': 'sic_code', '__distance_function__': 'cosine', 'ops': '0.037037037037037035', 'all_relations': '0', 'entity': 'CADENCE DESIGN SYSTEMS, INC', 'distance': '0.0', '__relation_name__': 'sic_code'}, [])\n",
            "Annotation(labeled_dependency, 0, 26, 770148231, {'__trained__': 'CADENCE DESIGN SYSTEMS INC', 'relation': 'irs_number', '__distance_function__': 'cosine', 'ops': '0.037037037037037035', 'all_relations': '0', 'entity': 'CADENCE DESIGN SYSTEMS, INC', 'distance': '0.0', '__relation_name__': 'irs_number'}, [])\n",
            "Annotation(labeled_dependency, 0, 26, 1228, {'__trained__': 'CADENCE DESIGN SYSTEMS INC', 'relation': 'fiscal_year_end', '__distance_function__': 'cosine', 'ops': '0.037037037037037035', 'all_relations': '101:::1229:::0:::102', 'entity': 'CADENCE DESIGN SYSTEMS, INC', 'distance': '0.0', '__relation_name__': 'fiscal_year_end'}, [])\n",
            "Annotation(labeled_dependency, 0, 26, CA, {'__trained__': 'CADENCE DESIGN SYSTEMS INC', 'relation': 'state_location', '__distance_function__': 'cosine', 'ops': '0.037037037037037035', 'all_relations': '', 'entity': 'CADENCE DESIGN SYSTEMS, INC', 'distance': '0.0', '__relation_name__': 'state_location'}, [])\n",
            "Annotation(labeled_dependency, 0, 26, DE, {'__trained__': 'CADENCE DESIGN SYSTEMS INC', 'relation': 'state_incorporation', '__distance_function__': 'cosine', 'ops': '0.037037037037037035', 'all_relations': '', 'entity': 'CADENCE DESIGN SYSTEMS, INC', 'distance': '0.0', '__relation_name__': 'state_incorporation'}, [])\n",
            "Annotation(labeled_dependency, 0, 26, 2655 SEELY AVENUE BLDG 5, {'__trained__': 'CADENCE DESIGN SYSTEMS INC', 'relation': 'business_street', '__distance_function__': 'cosine', 'ops': '0.037037037037037035', 'all_relations': '2655 SEELY ROAD BLDG 5', 'entity': 'CADENCE DESIGN SYSTEMS, INC', 'distance': '0.0', '__relation_name__': 'business_street'}, [])\n",
            "Annotation(labeled_dependency, 0, 26, SAN JOSE, {'__trained__': 'CADENCE DESIGN SYSTEMS INC', 'relation': 'business_city', '__distance_function__': 'cosine', 'ops': '0.037037037037037035', 'all_relations': '', 'entity': 'CADENCE DESIGN SYSTEMS, INC', 'distance': '0.0', '__relation_name__': 'business_city'}, [])\n",
            "Annotation(labeled_dependency, 0, 26, CA, {'__trained__': 'CADENCE DESIGN SYSTEMS INC', 'relation': 'business_state', '__distance_function__': 'cosine', 'ops': '0.037037037037037035', 'all_relations': '', 'entity': 'CADENCE DESIGN SYSTEMS, INC', 'distance': '0.0', '__relation_name__': 'business_state'}, [])\n",
            "Annotation(labeled_dependency, 0, 26, 95134, {'__trained__': 'CADENCE DESIGN SYSTEMS INC', 'relation': 'business_zip', '__distance_function__': 'cosine', 'ops': '0.037037037037037035', 'all_relations': '', 'entity': 'CADENCE DESIGN SYSTEMS, INC', 'distance': '0.0', '__relation_name__': 'business_zip'}, [])\n",
            "Annotation(labeled_dependency, 0, 26, 4089431234, {'__trained__': 'CADENCE DESIGN SYSTEMS INC', 'relation': 'business_phone', '__distance_function__': 'cosine', 'ops': '0.037037037037037035', 'all_relations': '', 'entity': 'CADENCE DESIGN SYSTEMS, INC', 'distance': '0.0', '__relation_name__': 'business_phone'}, [])\n",
            "Annotation(labeled_dependency, 0, 26, ECAD INC /DE/, {'__trained__': 'CADENCE DESIGN SYSTEMS INC', 'relation': 'former_name', '__distance_function__': 'cosine', 'ops': '0.037037037037037035', 'all_relations': '', 'entity': 'CADENCE DESIGN SYSTEMS, INC', 'distance': '0.0', '__relation_name__': 'former_name'}, [])\n",
            "Annotation(labeled_dependency, 0, 26, 19880609, {'__trained__': 'CADENCE DESIGN SYSTEMS INC', 'relation': 'former_name_date', '__distance_function__': 'cosine', 'ops': '0.037037037037037035', 'all_relations': '', 'entity': 'CADENCE DESIGN SYSTEMS, INC', 'distance': '0.0', '__relation_name__': 'former_name_date'}, [])\n",
            "Annotation(labeled_dependency, 0, 26, 2017-02-10, {'__trained__': 'CADENCE DESIGN SYSTEMS INC', 'relation': 'date', '__distance_function__': 'cosine', 'ops': '0.037037037037037035', 'all_relations': '2017-07-24:::2016-04-25:::2016-07-25:::2016-10-24:::2022-04-25:::2018-10-22:::2015-02-10:::2015-07-13:::2015-09-22:::2015-11-23:::2015-10-27:::2015-12-03:::2014-01-08:::2014-02-06:::2014-02-07:::2014-02-11:::2014-02-13:::2014-02-18:::2014-01-29:::2014-02-19:::2014-02-10:::2014-02-24:::2014-02-14:::2014-02-20:::2014-03-19:::2014-03-07:::2014-03-05:::2014-02-27:::2014-04-01:::2013-10-24:::2012-07-26:::2011-07-29:::2021-10-25:::2020-04-20:::2020-07-20:::2020-10-19:::2008-12-11:::2006-08-07:::2006-10-27:::2002-03-12', 'entity': 'CADENCE DESIGN SYSTEMS, INC', 'distance': '0.0', '__relation_name__': 'date'}, [])\n",
            "Annotation(labeled_dependency, 0, 26, 813672, {'__trained__': 'CADENCE DESIGN SYSTEMS INC', 'relation': 'company_id', '__distance_function__': 'cosine', 'ops': '0.037037037037037035', 'all_relations': '', 'entity': 'CADENCE DESIGN SYSTEMS, INC', 'distance': '0.0', '__relation_name__': 'company_id'}, [])\n",
            "Annotation(labeled_dependency, 0, 33, CADENCE DESIGN SYSTEMS INC, {'__trained__': 'CADENCE DESIGN SYSTEMS INC', 'relation': 'name', '__distance_function__': 'jaccard', 'ops': '0.29411764705882354', 'all_relations': '', 'entity': 'CADENCE DESIGN SYSTEM INCORPORATED', 'distance': '0.2', '__relation_name__': 'name'}, [])\n",
            "Annotation(labeled_dependency, 0, 33, SERVICES-PREPACKAGED SOFTWARE [7372], {'__trained__': 'CADENCE DESIGN SYSTEMS INC', 'relation': 'sic', '__distance_function__': 'jaccard', 'ops': '0.29411764705882354', 'all_relations': '', 'entity': 'CADENCE DESIGN SYSTEM INCORPORATED', 'distance': '0.2', '__relation_name__': 'sic'}, [])\n",
            "Annotation(labeled_dependency, 0, 33, 7372, {'__trained__': 'CADENCE DESIGN SYSTEMS INC', 'relation': 'sic_code', '__distance_function__': 'jaccard', 'ops': '0.29411764705882354', 'all_relations': '0', 'entity': 'CADENCE DESIGN SYSTEM INCORPORATED', 'distance': '0.2', '__relation_name__': 'sic_code'}, [])\n",
            "Annotation(labeled_dependency, 0, 33, 770148231, {'__trained__': 'CADENCE DESIGN SYSTEMS INC', 'relation': 'irs_number', '__distance_function__': 'jaccard', 'ops': '0.29411764705882354', 'all_relations': '0', 'entity': 'CADENCE DESIGN SYSTEM INCORPORATED', 'distance': '0.2', '__relation_name__': 'irs_number'}, [])\n",
            "Annotation(labeled_dependency, 0, 33, 1228, {'__trained__': 'CADENCE DESIGN SYSTEMS INC', 'relation': 'fiscal_year_end', '__distance_function__': 'jaccard', 'ops': '0.29411764705882354', 'all_relations': '101:::1229:::0:::102', 'entity': 'CADENCE DESIGN SYSTEM INCORPORATED', 'distance': '0.2', '__relation_name__': 'fiscal_year_end'}, [])\n",
            "Annotation(labeled_dependency, 0, 33, CA, {'__trained__': 'CADENCE DESIGN SYSTEMS INC', 'relation': 'state_location', '__distance_function__': 'jaccard', 'ops': '0.29411764705882354', 'all_relations': '', 'entity': 'CADENCE DESIGN SYSTEM INCORPORATED', 'distance': '0.2', '__relation_name__': 'state_location'}, [])\n",
            "Annotation(labeled_dependency, 0, 33, DE, {'__trained__': 'CADENCE DESIGN SYSTEMS INC', 'relation': 'state_incorporation', '__distance_function__': 'jaccard', 'ops': '0.29411764705882354', 'all_relations': '', 'entity': 'CADENCE DESIGN SYSTEM INCORPORATED', 'distance': '0.2', '__relation_name__': 'state_incorporation'}, [])\n",
            "Annotation(labeled_dependency, 0, 33, 2655 SEELY AVENUE BLDG 5, {'__trained__': 'CADENCE DESIGN SYSTEMS INC', 'relation': 'business_street', '__distance_function__': 'jaccard', 'ops': '0.29411764705882354', 'all_relations': '2655 SEELY ROAD BLDG 5', 'entity': 'CADENCE DESIGN SYSTEM INCORPORATED', 'distance': '0.2', '__relation_name__': 'business_street'}, [])\n",
            "Annotation(labeled_dependency, 0, 33, SAN JOSE, {'__trained__': 'CADENCE DESIGN SYSTEMS INC', 'relation': 'business_city', '__distance_function__': 'jaccard', 'ops': '0.29411764705882354', 'all_relations': '', 'entity': 'CADENCE DESIGN SYSTEM INCORPORATED', 'distance': '0.2', '__relation_name__': 'business_city'}, [])\n",
            "Annotation(labeled_dependency, 0, 33, CA, {'__trained__': 'CADENCE DESIGN SYSTEMS INC', 'relation': 'business_state', '__distance_function__': 'jaccard', 'ops': '0.29411764705882354', 'all_relations': '', 'entity': 'CADENCE DESIGN SYSTEM INCORPORATED', 'distance': '0.2', '__relation_name__': 'business_state'}, [])\n",
            "Annotation(labeled_dependency, 0, 33, 95134, {'__trained__': 'CADENCE DESIGN SYSTEMS INC', 'relation': 'business_zip', '__distance_function__': 'jaccard', 'ops': '0.29411764705882354', 'all_relations': '', 'entity': 'CADENCE DESIGN SYSTEM INCORPORATED', 'distance': '0.2', '__relation_name__': 'business_zip'}, [])\n",
            "Annotation(labeled_dependency, 0, 33, 4089431234, {'__trained__': 'CADENCE DESIGN SYSTEMS INC', 'relation': 'business_phone', '__distance_function__': 'jaccard', 'ops': '0.29411764705882354', 'all_relations': '', 'entity': 'CADENCE DESIGN SYSTEM INCORPORATED', 'distance': '0.2', '__relation_name__': 'business_phone'}, [])\n",
            "Annotation(labeled_dependency, 0, 33, ECAD INC /DE/, {'__trained__': 'CADENCE DESIGN SYSTEMS INC', 'relation': 'former_name', '__distance_function__': 'jaccard', 'ops': '0.29411764705882354', 'all_relations': '', 'entity': 'CADENCE DESIGN SYSTEM INCORPORATED', 'distance': '0.2', '__relation_name__': 'former_name'}, [])\n",
            "Annotation(labeled_dependency, 0, 33, 19880609, {'__trained__': 'CADENCE DESIGN SYSTEMS INC', 'relation': 'former_name_date', '__distance_function__': 'jaccard', 'ops': '0.29411764705882354', 'all_relations': '', 'entity': 'CADENCE DESIGN SYSTEM INCORPORATED', 'distance': '0.2', '__relation_name__': 'former_name_date'}, [])\n",
            "Annotation(labeled_dependency, 0, 33, 2017-02-10, {'__trained__': 'CADENCE DESIGN SYSTEMS INC', 'relation': 'date', '__distance_function__': 'jaccard', 'ops': '0.29411764705882354', 'all_relations': '2017-07-24:::2016-04-25:::2016-07-25:::2016-10-24:::2022-04-25:::2018-10-22:::2015-02-10:::2015-07-13:::2015-09-22:::2015-11-23:::2015-10-27:::2015-12-03:::2014-01-08:::2014-02-06:::2014-02-07:::2014-02-11:::2014-02-13:::2014-02-18:::2014-01-29:::2014-02-19:::2014-02-10:::2014-02-24:::2014-02-14:::2014-02-20:::2014-03-19:::2014-03-07:::2014-03-05:::2014-02-27:::2014-04-01:::2013-10-24:::2012-07-26:::2011-07-29:::2021-10-25:::2020-04-20:::2020-07-20:::2020-10-19:::2008-12-11:::2006-08-07:::2006-10-27:::2002-03-12', 'entity': 'CADENCE DESIGN SYSTEM INCORPORATED', 'distance': '0.2', '__relation_name__': 'date'}, [])\n",
            "Annotation(labeled_dependency, 0, 33, 813672, {'__trained__': 'CADENCE DESIGN SYSTEMS INC', 'relation': 'company_id', '__distance_function__': 'jaccard', 'ops': '0.29411764705882354', 'all_relations': '', 'entity': 'CADENCE DESIGN SYSTEM INCORPORATED', 'distance': '0.2', '__relation_name__': 'company_id'}, [])\n"
          ]
        }
      ]
    },
    {
      "cell_type": "markdown",
      "source": [
        "**We have been able to successfully retrieve the information in Edgar using different variations of the Company Name `CADENCE DESIGN SYSTEMS`!**"
      ],
      "metadata": {
        "id": "YCQygL06Ye7i"
      },
      "id": "YCQygL06Ye7i"
    },
    {
      "cell_type": "markdown",
      "id": "eb3e2808-3550-46d9-835b-f747cac4123c",
      "metadata": {
        "id": "eb3e2808-3550-46d9-835b-f747cac4123c"
      },
      "source": [
        "## Step 3b: Using Entity Resolvers for Company Names Normalization"
      ]
    },
    {
      "cell_type": "markdown",
      "id": "4e55a84c-2806-4a0e-b30f-90a43dc497ca",
      "metadata": {
        "id": "4e55a84c-2806-4a0e-b30f-90a43dc497ca"
      },
      "source": [
        "\n",
        "In the previous step, with Fuzzy Matching, we don't really care what the official name of the company in Edgar is.\n",
        "\n",
        "If we want to retrieve that information as well, we can first do an additional step: __Company Names Normalization__.\n",
        "\n",
        "**Company Name Normalization** is the process of obtaining the name of the company used by data providers, usually the \"official\" name of the company (in their databases! it may be different in different data providers!)\n",
        "\n",
        "Let's normalize `CADENCE DESIGN SYSTEMS, INC` to the official name in _SEC Edgar_."
      ]
    },
    {
      "cell_type": "code",
      "execution_count": 80,
      "id": "2564fd32-99ec-451c-ae34-2792cf3036ef",
      "metadata": {
        "colab": {
          "base_uri": "https://localhost:8080/"
        },
        "id": "2564fd32-99ec-451c-ae34-2792cf3036ef",
        "outputId": "e5ebe35d-a5cf-4075-eec5-eb24917097df"
      },
      "outputs": [
        {
          "output_type": "stream",
          "name": "stdout",
          "text": [
            "tfhub_use download started this may take some time.\n",
            "Approximate size to download 923.7 MB\n",
            "[OK!]\n",
            "finel_edgar_company_name download started this may take some time.\n",
            "[OK!]\n"
          ]
        }
      ],
      "source": [
        "document_assembler = nlp.DocumentAssembler() \\\n",
        "    .setInputCol(\"text\") \\\n",
        "    .setOutputCol(\"document\")\n",
        "\n",
        "use_embeddings = nlp.UniversalSentenceEncoder.pretrained()\\\n",
        "    .setInputCols(\"document\") \\\n",
        "    .setOutputCol(\"sentence_embeddings\")\n",
        "    \n",
        "resolver = finance.SentenceEntityResolverModel.pretrained(\"finel_edgar_company_name\", \"en\", \"finance/models\")\\\n",
        "      .setInputCols([\"sentence_embeddings\"]) \\\n",
        "      .setOutputCol(\"resolution\")\\\n",
        "      .setDistanceFunction(\"EUCLIDEAN\")\n",
        "\n",
        "pipelineModel = nlp.PipelineModel(\n",
        "      stages = [\n",
        "          document_assembler,\n",
        "          use_embeddings,\n",
        "          resolver])\n",
        "\n",
        "lp_res = nlp.LightPipeline(pipelineModel)"
      ]
    },
    {
      "cell_type": "code",
      "execution_count": 81,
      "id": "c319f7b8-fe7e-4408-9960-15e7675a36c1",
      "metadata": {
        "colab": {
          "base_uri": "https://localhost:8080/"
        },
        "id": "c319f7b8-fe7e-4408-9960-15e7675a36c1",
        "outputId": "9e63a2d9-8880-4895-8471-8cd7a4b8ccd8"
      },
      "outputs": [
        {
          "output_type": "execute_result",
          "data": {
            "text/plain": [
              "[{'document': ['CADENCE DESIGN SYSTEMS, INC'],\n",
              "  'sentence_embeddings': ['CADENCE DESIGN SYSTEMS, INC'],\n",
              "  'resolution': ['CADENCE DESIGN SYSTEMS INC']},\n",
              " {'document': ['CADENCE DESIGN SYSTEM INCORPORATED'],\n",
              "  'sentence_embeddings': ['CADENCE DESIGN SYSTEM INCORPORATED'],\n",
              "  'resolution': ['CADENCE DESIGN SYSTEMS INC']}]"
            ]
          },
          "metadata": {},
          "execution_count": 81
        }
      ],
      "source": [
        "el_res = lp_res.annotate(ORG)\n",
        "el_res"
      ]
    },
    {
      "cell_type": "code",
      "execution_count": 82,
      "id": "pGkTVurny_XB",
      "metadata": {
        "colab": {
          "base_uri": "https://localhost:8080/",
          "height": 36
        },
        "id": "pGkTVurny_XB",
        "outputId": "f186d85b-b15a-4b78-c072-aa0d3f6f29f5"
      },
      "outputs": [
        {
          "output_type": "execute_result",
          "data": {
            "text/plain": [
              "'CADENCE DESIGN SYSTEMS INC'"
            ],
            "application/vnd.google.colaboratory.intrinsic+json": {
              "type": "string"
            }
          },
          "metadata": {},
          "execution_count": 82
        }
      ],
      "source": [
        "NORM_ORG = el_res[0]['resolution'][0]\n",
        "\n",
        "NORM_ORG"
      ]
    },
    {
      "cell_type": "markdown",
      "id": "109efb72-bfae-413b-b1cb-ef1c57b9b66d",
      "metadata": {
        "id": "109efb72-bfae-413b-b1cb-ef1c57b9b66d"
      },
      "source": [
        "Here is our normalized name for Amazon: `CADENCE DESIGN SYSTEMS INC`.\n",
        "\n",
        "Now, let's see which information is available in Edgar database for `CADENCE DESIGN SYSTEMS INC`\n",
        "\n",
        "Once we have the normalized name of the company, we can use `John Snow Labs Chunk Mappers`. These are pretrained data sources, which are updated frequently and can be queried inside Spark NLP without sending any API call to any server.\n",
        "\n",
        "In this case, we will use Edgar Database (`finmapper_edgar_companyname`)\n",
        "\n",
        "\n"
      ]
    },
    {
      "cell_type": "markdown",
      "id": "85e51e16-56a2-4dad-a27c-1047a36ecea3",
      "metadata": {
        "id": "85e51e16-56a2-4dad-a27c-1047a36ecea3"
      },
      "source": [
        "### And now we use the normalized version from Edgar, instead of directly the entity text we obtained in NER, which is unnormalized"
      ]
    },
    {
      "cell_type": "code",
      "execution_count": 83,
      "id": "b246357e-0ab7-489b-9dc0-6d74d3eb97ef",
      "metadata": {
        "colab": {
          "base_uri": "https://localhost:8080/"
        },
        "id": "b246357e-0ab7-489b-9dc0-6d74d3eb97ef",
        "outputId": "72367475-a453-4860-e56d-14a7619646fc"
      },
      "outputs": [
        {
          "output_type": "stream",
          "name": "stdout",
          "text": [
            "finmapper_edgar_companyname download started this may take some time.\n",
            "[OK!]\n"
          ]
        }
      ],
      "source": [
        "document_assembler = nlp.DocumentAssembler() \\\n",
        "    .setInputCol(\"text\") \\\n",
        "    .setOutputCol(\"document\")\n",
        "\n",
        "# Posible distance metrics: ['levenshtein', 'longest-common-subsequence', 'cosine']\n",
        "CM = finance.ChunkMapperModel().pretrained(\"finmapper_edgar_companyname\", \"en\", \"finance/models\")\\\n",
        "    .setInputCols([\"document\"])\\\n",
        "    .setOutputCol(\"mappings\")\\\n",
        "    .setEnableFuzzyMatching(True)\\\n",
        "    .setEnableCharFingerprintMatching(False)\\\n",
        "    .setFuzzyMatchingDistances(['cosine'])\\\n",
        "    .setFuzzyMatchingDistanceThresholds([0.1])\n",
        "\n",
        "cm_pipeline = nlp.Pipeline(stages=[document_assembler, CM])\n",
        "\n",
        "empty_data = spark.createDataFrame([[\"\"]]).toDF(\"text\")\n",
        "\n",
        "fit_cm_pipeline = cm_pipeline.fit(empty_data)\n",
        "\n",
        "lp = nlp.LightPipeline(fit_cm_pipeline)\n",
        "\n",
        "res = lp.fullAnnotate(NORM_ORG)"
      ]
    },
    {
      "cell_type": "code",
      "execution_count": 84,
      "id": "c2d4a37d-b0a1-413a-9e36-5489396a042d",
      "metadata": {
        "colab": {
          "base_uri": "https://localhost:8080/"
        },
        "id": "c2d4a37d-b0a1-413a-9e36-5489396a042d",
        "outputId": "479a9e86-c7a4-444b-a0e2-bc946a0ad4ae"
      },
      "outputs": [
        {
          "output_type": "stream",
          "name": "stdout",
          "text": [
            "Annotation(labeled_dependency, 0, 25, CADENCE DESIGN SYSTEMS INC, {'__trained__': 'CADENCE DESIGN SYSTEMS INC', 'relation': 'name', '__distance_function__': 'levenshtein', 'ops': '0.0', 'all_relations': '', 'entity': 'CADENCE DESIGN SYSTEMS INC', 'distance': '0.0', '__relation_name__': 'name'}, [])\n",
            "Annotation(labeled_dependency, 0, 25, SERVICES-PREPACKAGED SOFTWARE [7372], {'__trained__': 'CADENCE DESIGN SYSTEMS INC', 'relation': 'sic', '__distance_function__': 'levenshtein', 'ops': '0.0', 'all_relations': '', 'entity': 'CADENCE DESIGN SYSTEMS INC', 'distance': '0.0', '__relation_name__': 'sic'}, [])\n",
            "Annotation(labeled_dependency, 0, 25, 7372, {'__trained__': 'CADENCE DESIGN SYSTEMS INC', 'relation': 'sic_code', '__distance_function__': 'levenshtein', 'ops': '0.0', 'all_relations': '0', 'entity': 'CADENCE DESIGN SYSTEMS INC', 'distance': '0.0', '__relation_name__': 'sic_code'}, [])\n",
            "Annotation(labeled_dependency, 0, 25, 770148231, {'__trained__': 'CADENCE DESIGN SYSTEMS INC', 'relation': 'irs_number', '__distance_function__': 'levenshtein', 'ops': '0.0', 'all_relations': '0', 'entity': 'CADENCE DESIGN SYSTEMS INC', 'distance': '0.0', '__relation_name__': 'irs_number'}, [])\n",
            "Annotation(labeled_dependency, 0, 25, 1228, {'__trained__': 'CADENCE DESIGN SYSTEMS INC', 'relation': 'fiscal_year_end', '__distance_function__': 'levenshtein', 'ops': '0.0', 'all_relations': '101:::1229:::0:::102', 'entity': 'CADENCE DESIGN SYSTEMS INC', 'distance': '0.0', '__relation_name__': 'fiscal_year_end'}, [])\n",
            "Annotation(labeled_dependency, 0, 25, CA, {'__trained__': 'CADENCE DESIGN SYSTEMS INC', 'relation': 'state_location', '__distance_function__': 'levenshtein', 'ops': '0.0', 'all_relations': '', 'entity': 'CADENCE DESIGN SYSTEMS INC', 'distance': '0.0', '__relation_name__': 'state_location'}, [])\n",
            "Annotation(labeled_dependency, 0, 25, DE, {'__trained__': 'CADENCE DESIGN SYSTEMS INC', 'relation': 'state_incorporation', '__distance_function__': 'levenshtein', 'ops': '0.0', 'all_relations': '', 'entity': 'CADENCE DESIGN SYSTEMS INC', 'distance': '0.0', '__relation_name__': 'state_incorporation'}, [])\n",
            "Annotation(labeled_dependency, 0, 25, 2655 SEELY AVENUE BLDG 5, {'__trained__': 'CADENCE DESIGN SYSTEMS INC', 'relation': 'business_street', '__distance_function__': 'levenshtein', 'ops': '0.0', 'all_relations': '2655 SEELY ROAD BLDG 5', 'entity': 'CADENCE DESIGN SYSTEMS INC', 'distance': '0.0', '__relation_name__': 'business_street'}, [])\n",
            "Annotation(labeled_dependency, 0, 25, SAN JOSE, {'__trained__': 'CADENCE DESIGN SYSTEMS INC', 'relation': 'business_city', '__distance_function__': 'levenshtein', 'ops': '0.0', 'all_relations': '', 'entity': 'CADENCE DESIGN SYSTEMS INC', 'distance': '0.0', '__relation_name__': 'business_city'}, [])\n",
            "Annotation(labeled_dependency, 0, 25, CA, {'__trained__': 'CADENCE DESIGN SYSTEMS INC', 'relation': 'business_state', '__distance_function__': 'levenshtein', 'ops': '0.0', 'all_relations': '', 'entity': 'CADENCE DESIGN SYSTEMS INC', 'distance': '0.0', '__relation_name__': 'business_state'}, [])\n",
            "Annotation(labeled_dependency, 0, 25, 95134, {'__trained__': 'CADENCE DESIGN SYSTEMS INC', 'relation': 'business_zip', '__distance_function__': 'levenshtein', 'ops': '0.0', 'all_relations': '', 'entity': 'CADENCE DESIGN SYSTEMS INC', 'distance': '0.0', '__relation_name__': 'business_zip'}, [])\n",
            "Annotation(labeled_dependency, 0, 25, 4089431234, {'__trained__': 'CADENCE DESIGN SYSTEMS INC', 'relation': 'business_phone', '__distance_function__': 'levenshtein', 'ops': '0.0', 'all_relations': '', 'entity': 'CADENCE DESIGN SYSTEMS INC', 'distance': '0.0', '__relation_name__': 'business_phone'}, [])\n",
            "Annotation(labeled_dependency, 0, 25, ECAD INC /DE/, {'__trained__': 'CADENCE DESIGN SYSTEMS INC', 'relation': 'former_name', '__distance_function__': 'levenshtein', 'ops': '0.0', 'all_relations': '', 'entity': 'CADENCE DESIGN SYSTEMS INC', 'distance': '0.0', '__relation_name__': 'former_name'}, [])\n",
            "Annotation(labeled_dependency, 0, 25, 19880609, {'__trained__': 'CADENCE DESIGN SYSTEMS INC', 'relation': 'former_name_date', '__distance_function__': 'levenshtein', 'ops': '0.0', 'all_relations': '', 'entity': 'CADENCE DESIGN SYSTEMS INC', 'distance': '0.0', '__relation_name__': 'former_name_date'}, [])\n",
            "Annotation(labeled_dependency, 0, 25, 2017-02-10, {'__trained__': 'CADENCE DESIGN SYSTEMS INC', 'relation': 'date', '__distance_function__': 'levenshtein', 'ops': '0.0', 'all_relations': '2017-07-24:::2016-04-25:::2016-07-25:::2016-10-24:::2022-04-25:::2018-10-22:::2015-02-10:::2015-07-13:::2015-09-22:::2015-11-23:::2015-10-27:::2015-12-03:::2014-01-08:::2014-02-06:::2014-02-07:::2014-02-11:::2014-02-13:::2014-02-18:::2014-01-29:::2014-02-19:::2014-02-10:::2014-02-24:::2014-02-14:::2014-02-20:::2014-03-19:::2014-03-07:::2014-03-05:::2014-02-27:::2014-04-01:::2013-10-24:::2012-07-26:::2011-07-29:::2021-10-25:::2020-04-20:::2020-07-20:::2020-10-19:::2008-12-11:::2006-08-07:::2006-10-27:::2002-03-12', 'entity': 'CADENCE DESIGN SYSTEMS INC', 'distance': '0.0', '__relation_name__': 'date'}, [])\n",
            "Annotation(labeled_dependency, 0, 25, 813672, {'__trained__': 'CADENCE DESIGN SYSTEMS INC', 'relation': 'company_id', '__distance_function__': 'levenshtein', 'ops': '0.0', 'all_relations': '', 'entity': 'CADENCE DESIGN SYSTEMS INC', 'distance': '0.0', '__relation_name__': 'company_id'}, [])\n"
          ]
        }
      ],
      "source": [
        "for r in res:\n",
        "  for map in r['mappings']:\n",
        "    print(map)"
      ]
    },
    {
      "cell_type": "markdown",
      "id": "Bes80soeF9aB",
      "metadata": {
        "id": "Bes80soeF9aB"
      },
      "source": [
        "Yes, here it is. We get additional information about `CADENCE DESIGN SYSTEMS INC` using only company name."
      ]
    }
  ],
  "metadata": {
    "colab": {
      "provenance": [],
      "toc_visible": true
    },
    "gpuClass": "standard",
    "kernelspec": {
      "display_name": "tf-gpu",
      "language": "python",
      "name": "python3"
    },
    "language_info": {
      "codemirror_mode": {
        "name": "ipython",
        "version": 3
      },
      "file_extension": ".py",
      "mimetype": "text/x-python",
      "name": "python",
      "nbconvert_exporter": "python",
      "pygments_lexer": "ipython3",
      "version": "3.9.7 (default, Sep 16 2021, 16:59:28) [MSC v.1916 64 bit (AMD64)]"
    },
    "vscode": {
      "interpreter": {
        "hash": "3f47d918ae832c68584484921185f5c85a1760864bf927a683dc6fb56366cc77"
      }
    }
  },
  "nbformat": 4,
  "nbformat_minor": 5
}
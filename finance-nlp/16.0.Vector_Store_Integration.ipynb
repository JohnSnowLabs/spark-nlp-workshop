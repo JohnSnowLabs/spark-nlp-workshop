{
  "cells": [
    {
      "cell_type": "markdown",
      "metadata": {
        "id": "0i_BfRnB-b8C"
      },
      "source": [
        "![JohnSnowLabs](https://nlp.johnsnowlabs.com/assets/images/logo.png)"
      ]
    },
    {
      "cell_type": "markdown",
      "metadata": {
        "id": "qv2B6430-vY6"
      },
      "source": [
        "# Colab Setup\n",
        "\n",
        "[![Open In Colab](https://colab.research.google.com/assets/colab-badge.svg)](https://colab.research.google.?com/github/JohnSnowLabs/spark-nlp-workshop/blob/master/finance-nlp/16.0.Vector_Store_Integration.ipynb)"
      ]
    },
    {
      "cell_type": "code",
      "execution_count": null,
      "metadata": {
        "id": "m_W96p3NH2th"
      },
      "outputs": [],
      "source": [
        "!pip install johnsnowlabs\n",
        "\n",
        "from johnsnowlabs import nlp,finance\n",
        "\n",
        "nlp.install(force_browser=True)"
      ]
    },
    {
      "cell_type": "code",
      "execution_count": null,
      "metadata": {
        "colab": {
          "base_uri": "https://localhost:8080/"
        },
        "id": "MAFs7z69liAi",
        "outputId": "698ca47d-910b-4864-cd78-948b7a7b1e3b"
      },
      "outputs": [
        {
          "name": "stdout",
          "output_type": "stream",
          "text": [
            "📋 Loading license number 0 from /root/.johnsnowlabs/licenses/license_number_0_for_Spark-Healthcare_Spark-OCR.json\n",
            "👌 Launched \u001b[92mcpu optimized\u001b[39m session with with: 🚀Spark-NLP==5.0.1, 💊Spark-Healthcare==5.0.1, running on ⚡ PySpark==3.1.2\n"
          ]
        }
      ],
      "source": [
        "import json\n",
        "import pandas as pd\n",
        "from johnsnowlabs import nlp,finance\n",
        "\n",
        "params = {\"spark.driver.memory\":\"32G\",\n",
        "\"spark.kryoserializer.buffer.max\":\"2000M\",\n",
        "\"spark.driver.maxResultSize\":\"20000M\"}\n",
        "\n",
        "\n",
        "spark = nlp.start(spark_conf=params)"
      ]
    },
    {
      "cell_type": "code",
      "execution_count": null,
      "metadata": {
        "id": "X6jnjUHnL0xd"
      },
      "outputs": [],
      "source": []
    },
    {
      "cell_type": "code",
      "execution_count": null,
      "metadata": {
        "id": "zu6tCQOYT-20"
      },
      "outputs": [],
      "source": []
    },
    {
      "cell_type": "markdown",
      "metadata": {
        "id": "a_cA8zpeAU8C"
      },
      "source": [
        "## Generate Embeddings"
      ]
    },
    {
      "cell_type": "code",
      "execution_count": null,
      "metadata": {
        "colab": {
          "base_uri": "https://localhost:8080/"
        },
        "id": "ISLsKoHmT-5j",
        "outputId": "ebe93053-a5e7-4587-a1c7-5228ace1d7bb"
      },
      "outputs": [
        {
          "name": "stdout",
          "output_type": "stream",
          "text": [
            "--2023-08-07 07:19:29--  https://raw.githubusercontent.com/JohnSnowLabs/spark-nlp-workshop/master/finance-nlp/data/earning_calls_sample.csv\n",
            "Resolving raw.githubusercontent.com (raw.githubusercontent.com)... 185.199.108.133, 185.199.109.133, 185.199.110.133, ...\n",
            "Connecting to raw.githubusercontent.com (raw.githubusercontent.com)|185.199.108.133|:443... connected.\n",
            "HTTP request sent, awaiting response... 200 OK\n",
            "Length: 261030 (255K) [text/plain]\n",
            "Saving to: ‘earning_calls_sample.csv’\n",
            "\n",
            "\rearning_calls_sampl   0%[                    ]       0  --.-KB/s               \rearning_calls_sampl 100%[===================>] 254.91K  --.-KB/s    in 0.02s   \n",
            "\n",
            "2023-08-07 07:19:29 (13.0 MB/s) - ‘earning_calls_sample.csv’ saved [261030/261030]\n",
            "\n"
          ]
        }
      ],
      "source": [
        "!wget https://raw.githubusercontent.com/JohnSnowLabs/spark-nlp-workshop/master/finance-nlp/data/earning_calls_sample.csv"
      ]
    },
    {
      "cell_type": "markdown",
      "metadata": {
        "id": "IPA0awue3iTN"
      },
      "source": [
        "### Loading the data"
      ]
    },
    {
      "cell_type": "code",
      "execution_count": null,
      "metadata": {
        "id": "pbXWtuL9UIkO"
      },
      "outputs": [],
      "source": [
        "df = pd.read_csv('earning_calls_sample.csv')\n",
        "\n",
        "documents = df['text'].tolist()"
      ]
    },
    {
      "cell_type": "markdown",
      "metadata": {
        "id": "t47k_PWb3mi0"
      },
      "source": [
        "### Splitting into paragraphs"
      ]
    },
    {
      "cell_type": "code",
      "execution_count": null,
      "metadata": {
        "id": "euJCU7tp3Z_6"
      },
      "outputs": [],
      "source": [
        "paragraphs = []\n",
        "\n",
        "for i in documents:\n",
        "  paras = i.split('\\n\\n')\n",
        "  for j in range(len(paras)):\n",
        "    text_split = paras[j].split(' ')\n",
        "    if len(text_split) > 100:\n",
        "      paragraphs.append(paras[j])"
      ]
    },
    {
      "cell_type": "code",
      "execution_count": null,
      "metadata": {
        "colab": {
          "base_uri": "https://localhost:8080/"
        },
        "id": "BDsMFSx53GL8",
        "outputId": "02d1a607-b369-4629-f671-7adc435cb263"
      },
      "outputs": [
        {
          "name": "stdout",
          "output_type": "stream",
          "text": [
            "Total paragraphs generated: 137\n"
          ]
        }
      ],
      "source": [
        "print(f'Total paragraphs generated: {len(paragraphs)}')"
      ]
    },
    {
      "cell_type": "markdown",
      "metadata": {
        "id": "ObVdJlG14jIL"
      },
      "source": [
        "### Creating the pipeline"
      ]
    },
    {
      "cell_type": "code",
      "execution_count": null,
      "metadata": {
        "colab": {
          "base_uri": "https://localhost:8080/"
        },
        "id": "hK076VGYkn-0",
        "outputId": "e750f422-fdf3-44c3-c972-0426ff8d4727"
      },
      "outputs": [
        {
          "name": "stdout",
          "output_type": "stream",
          "text": [
            "sbert_setfit_finetuned_financial_text_classification download started this may take some time.\n",
            "Approximate size to download 390.1 MB\n",
            "[OK!]\n"
          ]
        }
      ],
      "source": [
        "document_assembler = nlp.DocumentAssembler()\\\n",
        "    .setInputCol(\"text\")\\\n",
        "    .setOutputCol(\"document\")\n",
        "\n",
        "sentence_embeddings = nlp.BertSentenceEmbeddings.pretrained(\"sbert_setfit_finetuned_financial_text_classification\", \"en\")\\\n",
        "  .setInputCols([\"document\"])\\\n",
        "  .setOutputCol(\"sbert_embeddings\")\n",
        "\n",
        "embeddingsFinisher = nlp.EmbeddingsFinisher() \\\n",
        "    .setInputCols(\"sbert_embeddings\") \\\n",
        "    .setOutputCols(\"finished_sentence_embeddings\")"
      ]
    },
    {
      "cell_type": "code",
      "execution_count": null,
      "metadata": {
        "colab": {
          "base_uri": "https://localhost:8080/"
        },
        "id": "NjcZdzNSl4aJ",
        "outputId": "bba9a053-ff64-429d-da57-2e6200b12364"
      },
      "outputs": [
        {
          "data": {
            "text/plain": [
              "137"
            ]
          },
          "execution_count": 10,
          "metadata": {},
          "output_type": "execute_result"
        }
      ],
      "source": [
        "data = [[i] for i in paragraphs]\n",
        "len(data)"
      ]
    },
    {
      "cell_type": "code",
      "execution_count": null,
      "metadata": {
        "id": "XoqKowNFlsfQ"
      },
      "outputs": [],
      "source": [
        "data = spark.createDataFrame(data) \\\n",
        "    .toDF(\"text\")\n",
        "\n",
        "pipeline = nlp.Pipeline().setStages([\n",
        "    document_assembler,\n",
        "    sentence_embeddings,\n",
        "    embeddingsFinisher\n",
        "]).fit(data)\n",
        "\n",
        "result = pipeline.transform(data)"
      ]
    },
    {
      "cell_type": "code",
      "execution_count": null,
      "metadata": {
        "id": "JrhOh6rVk-D1"
      },
      "outputs": [],
      "source": [
        "resultWithSize = result.selectExpr(\"document.result\",\"explode(finished_sentence_embeddings) as embeddings\").toPandas()"
      ]
    },
    {
      "cell_type": "code",
      "execution_count": null,
      "metadata": {
        "colab": {
          "base_uri": "https://localhost:8080/",
          "height": 424
        },
        "id": "V-G4Y5qdmLs3",
        "outputId": "0d0a06da-cd28-48ab-90c2-e7bd21702d90"
      },
      "outputs": [
        {
          "data": {
            "text/html": [
              "\n",
              "\n",
              "  <div id=\"df-49f099b1-9cb2-43ce-820c-46417e8b90ec\">\n",
              "    <div class=\"colab-df-container\">\n",
              "      <div>\n",
              "<style scoped>\n",
              "    .dataframe tbody tr th:only-of-type {\n",
              "        vertical-align: middle;\n",
              "    }\n",
              "\n",
              "    .dataframe tbody tr th {\n",
              "        vertical-align: top;\n",
              "    }\n",
              "\n",
              "    .dataframe thead th {\n",
              "        text-align: right;\n",
              "    }\n",
              "</style>\n",
              "<table border=\"1\" class=\"dataframe\">\n",
              "  <thead>\n",
              "    <tr style=\"text-align: right;\">\n",
              "      <th></th>\n",
              "      <th>result</th>\n",
              "      <th>embeddings</th>\n",
              "    </tr>\n",
              "  </thead>\n",
              "  <tbody>\n",
              "    <tr>\n",
              "      <th>0</th>\n",
              "      <td>[Aon (AON 1.07%)Q3 2022 Earnings CallOct 28, 2...</td>\n",
              "      <td>[0.11219091713428497, -0.04963115230202675, -0...</td>\n",
              "    </tr>\n",
              "    <tr>\n",
              "      <th>1</th>\n",
              "      <td>[ Good morning, everyone. Welcome to our third...</td>\n",
              "      <td>[0.10787619650363922, -0.04971027374267578, -0...</td>\n",
              "    </tr>\n",
              "    <tr>\n",
              "      <th>2</th>\n",
              "      <td>[ And third, they value expert insight and are...</td>\n",
              "      <td>[0.11406604945659637, -0.04644547775387764, -0...</td>\n",
              "    </tr>\n",
              "    <tr>\n",
              "      <th>3</th>\n",
              "      <td>[ These results are consistent with our full y...</td>\n",
              "      <td>[0.09470720589160919, -0.04397454857826233, -0...</td>\n",
              "    </tr>\n",
              "    <tr>\n",
              "      <th>4</th>\n",
              "      <td>[ Christa Davies -- Chief Financial Officer an...</td>\n",
              "      <td>[0.10794825851917267, -0.04399846866726875, -0...</td>\n",
              "    </tr>\n",
              "    <tr>\n",
              "      <th>...</th>\n",
              "      <td>...</td>\n",
              "      <td>...</td>\n",
              "    </tr>\n",
              "    <tr>\n",
              "      <th>132</th>\n",
              "      <td>[ UBS -- Analyst Thank you, management, for ta...</td>\n",
              "      <td>[0.12066387385129929, -0.047519147396087646, -...</td>\n",
              "    </tr>\n",
              "    <tr>\n",
              "      <th>133</th>\n",
              "      <td>[Joey Wat -- Chief Executive Officer Thank you...</td>\n",
              "      <td>[0.10857225209474564, -0.04651939496397972, -0...</td>\n",
              "    </tr>\n",
              "    <tr>\n",
              "      <th>134</th>\n",
              "      <td>[Andy Yeung -- Chief Financial Officer OK. So,...</td>\n",
              "      <td>[0.1192004457116127, -0.04519885778427124, -0....</td>\n",
              "    </tr>\n",
              "    <tr>\n",
              "      <th>135</th>\n",
              "      <td>[ make and train -- we also see the [Inaudible...</td>\n",
              "      <td>[0.1164017990231514, -0.053716566413640976, -0...</td>\n",
              "    </tr>\n",
              "    <tr>\n",
              "      <th>136</th>\n",
              "      <td>[ but you should not -- felt like COVID obviou...</td>\n",
              "      <td>[0.10956167429685593, -0.054073434323072433, -...</td>\n",
              "    </tr>\n",
              "  </tbody>\n",
              "</table>\n",
              "<p>137 rows × 2 columns</p>\n",
              "</div>\n",
              "      <button class=\"colab-df-convert\" onclick=\"convertToInteractive('df-49f099b1-9cb2-43ce-820c-46417e8b90ec')\"\n",
              "              title=\"Convert this dataframe to an interactive table.\"\n",
              "              style=\"display:none;\">\n",
              "\n",
              "  <svg xmlns=\"http://www.w3.org/2000/svg\" height=\"24px\"viewBox=\"0 0 24 24\"\n",
              "       width=\"24px\">\n",
              "    <path d=\"M0 0h24v24H0V0z\" fill=\"none\"/>\n",
              "    <path d=\"M18.56 5.44l.94 2.06.94-2.06 2.06-.94-2.06-.94-.94-2.06-.94 2.06-2.06.94zm-11 1L8.5 8.5l.94-2.06 2.06-.94-2.06-.94L8.5 2.5l-.94 2.06-2.06.94zm10 10l.94 2.06.94-2.06 2.06-.94-2.06-.94-.94-2.06-.94 2.06-2.06.94z\"/><path d=\"M17.41 7.96l-1.37-1.37c-.4-.4-.92-.59-1.43-.59-.52 0-1.04.2-1.43.59L10.3 9.45l-7.72 7.72c-.78.78-.78 2.05 0 2.83L4 21.41c.39.39.9.59 1.41.59.51 0 1.02-.2 1.41-.59l7.78-7.78 2.81-2.81c.8-.78.8-2.07 0-2.86zM5.41 20L4 18.59l7.72-7.72 1.47 1.35L5.41 20z\"/>\n",
              "  </svg>\n",
              "      </button>\n",
              "\n",
              "\n",
              "\n",
              "    <div id=\"df-4b736122-42e6-410f-bfd5-392daab231f5\">\n",
              "      <button class=\"colab-df-quickchart\" onclick=\"quickchart('df-4b736122-42e6-410f-bfd5-392daab231f5')\"\n",
              "              title=\"Suggest charts.\"\n",
              "              style=\"display:none;\">\n",
              "\n",
              "<svg xmlns=\"http://www.w3.org/2000/svg\" height=\"24px\"viewBox=\"0 0 24 24\"\n",
              "     width=\"24px\">\n",
              "    <g>\n",
              "        <path d=\"M19 3H5c-1.1 0-2 .9-2 2v14c0 1.1.9 2 2 2h14c1.1 0 2-.9 2-2V5c0-1.1-.9-2-2-2zM9 17H7v-7h2v7zm4 0h-2V7h2v10zm4 0h-2v-4h2v4z\"/>\n",
              "    </g>\n",
              "</svg>\n",
              "      </button>\n",
              "    </div>\n",
              "\n",
              "<style>\n",
              "  .colab-df-quickchart {\n",
              "    background-color: #E8F0FE;\n",
              "    border: none;\n",
              "    border-radius: 50%;\n",
              "    cursor: pointer;\n",
              "    display: none;\n",
              "    fill: #1967D2;\n",
              "    height: 32px;\n",
              "    padding: 0 0 0 0;\n",
              "    width: 32px;\n",
              "  }\n",
              "\n",
              "  .colab-df-quickchart:hover {\n",
              "    background-color: #E2EBFA;\n",
              "    box-shadow: 0px 1px 2px rgba(60, 64, 67, 0.3), 0px 1px 3px 1px rgba(60, 64, 67, 0.15);\n",
              "    fill: #174EA6;\n",
              "  }\n",
              "\n",
              "  [theme=dark] .colab-df-quickchart {\n",
              "    background-color: #3B4455;\n",
              "    fill: #D2E3FC;\n",
              "  }\n",
              "\n",
              "  [theme=dark] .colab-df-quickchart:hover {\n",
              "    background-color: #434B5C;\n",
              "    box-shadow: 0px 1px 3px 1px rgba(0, 0, 0, 0.15);\n",
              "    filter: drop-shadow(0px 1px 2px rgba(0, 0, 0, 0.3));\n",
              "    fill: #FFFFFF;\n",
              "  }\n",
              "</style>\n",
              "\n",
              "    <script>\n",
              "      async function quickchart(key) {\n",
              "        const containerElement = document.querySelector('#' + key);\n",
              "        const charts = await google.colab.kernel.invokeFunction(\n",
              "            'suggestCharts', [key], {});\n",
              "      }\n",
              "    </script>\n",
              "\n",
              "      <script>\n",
              "\n",
              "function displayQuickchartButton(domScope) {\n",
              "  let quickchartButtonEl =\n",
              "    domScope.querySelector('#df-4b736122-42e6-410f-bfd5-392daab231f5 button.colab-df-quickchart');\n",
              "  quickchartButtonEl.style.display =\n",
              "    google.colab.kernel.accessAllowed ? 'block' : 'none';\n",
              "}\n",
              "\n",
              "        displayQuickchartButton(document);\n",
              "      </script>\n",
              "      <style>\n",
              "    .colab-df-container {\n",
              "      display:flex;\n",
              "      flex-wrap:wrap;\n",
              "      gap: 12px;\n",
              "    }\n",
              "\n",
              "    .colab-df-convert {\n",
              "      background-color: #E8F0FE;\n",
              "      border: none;\n",
              "      border-radius: 50%;\n",
              "      cursor: pointer;\n",
              "      display: none;\n",
              "      fill: #1967D2;\n",
              "      height: 32px;\n",
              "      padding: 0 0 0 0;\n",
              "      width: 32px;\n",
              "    }\n",
              "\n",
              "    .colab-df-convert:hover {\n",
              "      background-color: #E2EBFA;\n",
              "      box-shadow: 0px 1px 2px rgba(60, 64, 67, 0.3), 0px 1px 3px 1px rgba(60, 64, 67, 0.15);\n",
              "      fill: #174EA6;\n",
              "    }\n",
              "\n",
              "    [theme=dark] .colab-df-convert {\n",
              "      background-color: #3B4455;\n",
              "      fill: #D2E3FC;\n",
              "    }\n",
              "\n",
              "    [theme=dark] .colab-df-convert:hover {\n",
              "      background-color: #434B5C;\n",
              "      box-shadow: 0px 1px 3px 1px rgba(0, 0, 0, 0.15);\n",
              "      filter: drop-shadow(0px 1px 2px rgba(0, 0, 0, 0.3));\n",
              "      fill: #FFFFFF;\n",
              "    }\n",
              "  </style>\n",
              "\n",
              "      <script>\n",
              "        const buttonEl =\n",
              "          document.querySelector('#df-49f099b1-9cb2-43ce-820c-46417e8b90ec button.colab-df-convert');\n",
              "        buttonEl.style.display =\n",
              "          google.colab.kernel.accessAllowed ? 'block' : 'none';\n",
              "\n",
              "        async function convertToInteractive(key) {\n",
              "          const element = document.querySelector('#df-49f099b1-9cb2-43ce-820c-46417e8b90ec');\n",
              "          const dataTable =\n",
              "            await google.colab.kernel.invokeFunction('convertToInteractive',\n",
              "                                                     [key], {});\n",
              "          if (!dataTable) return;\n",
              "\n",
              "          const docLinkHtml = 'Like what you see? Visit the ' +\n",
              "            '<a target=\"_blank\" href=https://colab.research.google.com/notebooks/data_table.ipynb>data table notebook</a>'\n",
              "            + ' to learn more about interactive tables.';\n",
              "          element.innerHTML = '';\n",
              "          dataTable['output_type'] = 'display_data';\n",
              "          await google.colab.output.renderOutput(dataTable, element);\n",
              "          const docLink = document.createElement('div');\n",
              "          docLink.innerHTML = docLinkHtml;\n",
              "          element.appendChild(docLink);\n",
              "        }\n",
              "      </script>\n",
              "    </div>\n",
              "  </div>\n"
            ],
            "text/plain": [
              "                                                result  \\\n",
              "0    [Aon (AON 1.07%)Q3 2022 Earnings CallOct 28, 2...   \n",
              "1    [ Good morning, everyone. Welcome to our third...   \n",
              "2    [ And third, they value expert insight and are...   \n",
              "3    [ These results are consistent with our full y...   \n",
              "4    [ Christa Davies -- Chief Financial Officer an...   \n",
              "..                                                 ...   \n",
              "132  [ UBS -- Analyst Thank you, management, for ta...   \n",
              "133  [Joey Wat -- Chief Executive Officer Thank you...   \n",
              "134  [Andy Yeung -- Chief Financial Officer OK. So,...   \n",
              "135  [ make and train -- we also see the [Inaudible...   \n",
              "136  [ but you should not -- felt like COVID obviou...   \n",
              "\n",
              "                                            embeddings  \n",
              "0    [0.11219091713428497, -0.04963115230202675, -0...  \n",
              "1    [0.10787619650363922, -0.04971027374267578, -0...  \n",
              "2    [0.11406604945659637, -0.04644547775387764, -0...  \n",
              "3    [0.09470720589160919, -0.04397454857826233, -0...  \n",
              "4    [0.10794825851917267, -0.04399846866726875, -0...  \n",
              "..                                                 ...  \n",
              "132  [0.12066387385129929, -0.047519147396087646, -...  \n",
              "133  [0.10857225209474564, -0.04651939496397972, -0...  \n",
              "134  [0.1192004457116127, -0.04519885778427124, -0....  \n",
              "135  [0.1164017990231514, -0.053716566413640976, -0...  \n",
              "136  [0.10956167429685593, -0.054073434323072433, -...  \n",
              "\n",
              "[137 rows x 2 columns]"
            ]
          },
          "execution_count": 13,
          "metadata": {},
          "output_type": "execute_result"
        }
      ],
      "source": [
        "resultWithSize"
      ]
    },
    {
      "cell_type": "code",
      "execution_count": null,
      "metadata": {
        "id": "83hvvJT5TWmU"
      },
      "outputs": [],
      "source": [
        "df_processed = resultWithSize.copy()"
      ]
    },
    {
      "cell_type": "code",
      "execution_count": null,
      "metadata": {
        "colab": {
          "base_uri": "https://localhost:8080/",
          "height": 424
        },
        "id": "ukugRqdUKbSf",
        "outputId": "2e27be12-661f-45ca-e994-ca1121a1a3be"
      },
      "outputs": [
        {
          "data": {
            "text/html": [
              "\n",
              "\n",
              "  <div id=\"df-9c850f51-a406-4171-a432-bcf0c1b718cb\">\n",
              "    <div class=\"colab-df-container\">\n",
              "      <div>\n",
              "<style scoped>\n",
              "    .dataframe tbody tr th:only-of-type {\n",
              "        vertical-align: middle;\n",
              "    }\n",
              "\n",
              "    .dataframe tbody tr th {\n",
              "        vertical-align: top;\n",
              "    }\n",
              "\n",
              "    .dataframe thead th {\n",
              "        text-align: right;\n",
              "    }\n",
              "</style>\n",
              "<table border=\"1\" class=\"dataframe\">\n",
              "  <thead>\n",
              "    <tr style=\"text-align: right;\">\n",
              "      <th></th>\n",
              "      <th>result</th>\n",
              "      <th>embeddings</th>\n",
              "    </tr>\n",
              "  </thead>\n",
              "  <tbody>\n",
              "    <tr>\n",
              "      <th>0</th>\n",
              "      <td>[Aon (AON 1.07%)Q3 2022 Earnings CallOct 28, 2...</td>\n",
              "      <td>[0.11219091713428497, -0.04963115230202675, -0...</td>\n",
              "    </tr>\n",
              "    <tr>\n",
              "      <th>1</th>\n",
              "      <td>[ Good morning, everyone. Welcome to our third...</td>\n",
              "      <td>[0.10787619650363922, -0.04971027374267578, -0...</td>\n",
              "    </tr>\n",
              "    <tr>\n",
              "      <th>2</th>\n",
              "      <td>[ And third, they value expert insight and are...</td>\n",
              "      <td>[0.11406604945659637, -0.04644547775387764, -0...</td>\n",
              "    </tr>\n",
              "    <tr>\n",
              "      <th>3</th>\n",
              "      <td>[ These results are consistent with our full y...</td>\n",
              "      <td>[0.09470720589160919, -0.04397454857826233, -0...</td>\n",
              "    </tr>\n",
              "    <tr>\n",
              "      <th>4</th>\n",
              "      <td>[ Christa Davies -- Chief Financial Officer an...</td>\n",
              "      <td>[0.10794825851917267, -0.04399846866726875, -0...</td>\n",
              "    </tr>\n",
              "    <tr>\n",
              "      <th>...</th>\n",
              "      <td>...</td>\n",
              "      <td>...</td>\n",
              "    </tr>\n",
              "    <tr>\n",
              "      <th>132</th>\n",
              "      <td>[ UBS -- Analyst Thank you, management, for ta...</td>\n",
              "      <td>[0.12066387385129929, -0.047519147396087646, -...</td>\n",
              "    </tr>\n",
              "    <tr>\n",
              "      <th>133</th>\n",
              "      <td>[Joey Wat -- Chief Executive Officer Thank you...</td>\n",
              "      <td>[0.10857225209474564, -0.04651939496397972, -0...</td>\n",
              "    </tr>\n",
              "    <tr>\n",
              "      <th>134</th>\n",
              "      <td>[Andy Yeung -- Chief Financial Officer OK. So,...</td>\n",
              "      <td>[0.1192004457116127, -0.04519885778427124, -0....</td>\n",
              "    </tr>\n",
              "    <tr>\n",
              "      <th>135</th>\n",
              "      <td>[ make and train -- we also see the [Inaudible...</td>\n",
              "      <td>[0.1164017990231514, -0.053716566413640976, -0...</td>\n",
              "    </tr>\n",
              "    <tr>\n",
              "      <th>136</th>\n",
              "      <td>[ but you should not -- felt like COVID obviou...</td>\n",
              "      <td>[0.10956167429685593, -0.054073434323072433, -...</td>\n",
              "    </tr>\n",
              "  </tbody>\n",
              "</table>\n",
              "<p>137 rows × 2 columns</p>\n",
              "</div>\n",
              "      <button class=\"colab-df-convert\" onclick=\"convertToInteractive('df-9c850f51-a406-4171-a432-bcf0c1b718cb')\"\n",
              "              title=\"Convert this dataframe to an interactive table.\"\n",
              "              style=\"display:none;\">\n",
              "\n",
              "  <svg xmlns=\"http://www.w3.org/2000/svg\" height=\"24px\"viewBox=\"0 0 24 24\"\n",
              "       width=\"24px\">\n",
              "    <path d=\"M0 0h24v24H0V0z\" fill=\"none\"/>\n",
              "    <path d=\"M18.56 5.44l.94 2.06.94-2.06 2.06-.94-2.06-.94-.94-2.06-.94 2.06-2.06.94zm-11 1L8.5 8.5l.94-2.06 2.06-.94-2.06-.94L8.5 2.5l-.94 2.06-2.06.94zm10 10l.94 2.06.94-2.06 2.06-.94-2.06-.94-.94-2.06-.94 2.06-2.06.94z\"/><path d=\"M17.41 7.96l-1.37-1.37c-.4-.4-.92-.59-1.43-.59-.52 0-1.04.2-1.43.59L10.3 9.45l-7.72 7.72c-.78.78-.78 2.05 0 2.83L4 21.41c.39.39.9.59 1.41.59.51 0 1.02-.2 1.41-.59l7.78-7.78 2.81-2.81c.8-.78.8-2.07 0-2.86zM5.41 20L4 18.59l7.72-7.72 1.47 1.35L5.41 20z\"/>\n",
              "  </svg>\n",
              "      </button>\n",
              "\n",
              "\n",
              "\n",
              "    <div id=\"df-b6a7a843-f80c-4cad-9beb-0011c10f0ec5\">\n",
              "      <button class=\"colab-df-quickchart\" onclick=\"quickchart('df-b6a7a843-f80c-4cad-9beb-0011c10f0ec5')\"\n",
              "              title=\"Suggest charts.\"\n",
              "              style=\"display:none;\">\n",
              "\n",
              "<svg xmlns=\"http://www.w3.org/2000/svg\" height=\"24px\"viewBox=\"0 0 24 24\"\n",
              "     width=\"24px\">\n",
              "    <g>\n",
              "        <path d=\"M19 3H5c-1.1 0-2 .9-2 2v14c0 1.1.9 2 2 2h14c1.1 0 2-.9 2-2V5c0-1.1-.9-2-2-2zM9 17H7v-7h2v7zm4 0h-2V7h2v10zm4 0h-2v-4h2v4z\"/>\n",
              "    </g>\n",
              "</svg>\n",
              "      </button>\n",
              "    </div>\n",
              "\n",
              "<style>\n",
              "  .colab-df-quickchart {\n",
              "    background-color: #E8F0FE;\n",
              "    border: none;\n",
              "    border-radius: 50%;\n",
              "    cursor: pointer;\n",
              "    display: none;\n",
              "    fill: #1967D2;\n",
              "    height: 32px;\n",
              "    padding: 0 0 0 0;\n",
              "    width: 32px;\n",
              "  }\n",
              "\n",
              "  .colab-df-quickchart:hover {\n",
              "    background-color: #E2EBFA;\n",
              "    box-shadow: 0px 1px 2px rgba(60, 64, 67, 0.3), 0px 1px 3px 1px rgba(60, 64, 67, 0.15);\n",
              "    fill: #174EA6;\n",
              "  }\n",
              "\n",
              "  [theme=dark] .colab-df-quickchart {\n",
              "    background-color: #3B4455;\n",
              "    fill: #D2E3FC;\n",
              "  }\n",
              "\n",
              "  [theme=dark] .colab-df-quickchart:hover {\n",
              "    background-color: #434B5C;\n",
              "    box-shadow: 0px 1px 3px 1px rgba(0, 0, 0, 0.15);\n",
              "    filter: drop-shadow(0px 1px 2px rgba(0, 0, 0, 0.3));\n",
              "    fill: #FFFFFF;\n",
              "  }\n",
              "</style>\n",
              "\n",
              "    <script>\n",
              "      async function quickchart(key) {\n",
              "        const containerElement = document.querySelector('#' + key);\n",
              "        const charts = await google.colab.kernel.invokeFunction(\n",
              "            'suggestCharts', [key], {});\n",
              "      }\n",
              "    </script>\n",
              "\n",
              "      <script>\n",
              "\n",
              "function displayQuickchartButton(domScope) {\n",
              "  let quickchartButtonEl =\n",
              "    domScope.querySelector('#df-b6a7a843-f80c-4cad-9beb-0011c10f0ec5 button.colab-df-quickchart');\n",
              "  quickchartButtonEl.style.display =\n",
              "    google.colab.kernel.accessAllowed ? 'block' : 'none';\n",
              "}\n",
              "\n",
              "        displayQuickchartButton(document);\n",
              "      </script>\n",
              "      <style>\n",
              "    .colab-df-container {\n",
              "      display:flex;\n",
              "      flex-wrap:wrap;\n",
              "      gap: 12px;\n",
              "    }\n",
              "\n",
              "    .colab-df-convert {\n",
              "      background-color: #E8F0FE;\n",
              "      border: none;\n",
              "      border-radius: 50%;\n",
              "      cursor: pointer;\n",
              "      display: none;\n",
              "      fill: #1967D2;\n",
              "      height: 32px;\n",
              "      padding: 0 0 0 0;\n",
              "      width: 32px;\n",
              "    }\n",
              "\n",
              "    .colab-df-convert:hover {\n",
              "      background-color: #E2EBFA;\n",
              "      box-shadow: 0px 1px 2px rgba(60, 64, 67, 0.3), 0px 1px 3px 1px rgba(60, 64, 67, 0.15);\n",
              "      fill: #174EA6;\n",
              "    }\n",
              "\n",
              "    [theme=dark] .colab-df-convert {\n",
              "      background-color: #3B4455;\n",
              "      fill: #D2E3FC;\n",
              "    }\n",
              "\n",
              "    [theme=dark] .colab-df-convert:hover {\n",
              "      background-color: #434B5C;\n",
              "      box-shadow: 0px 1px 3px 1px rgba(0, 0, 0, 0.15);\n",
              "      filter: drop-shadow(0px 1px 2px rgba(0, 0, 0, 0.3));\n",
              "      fill: #FFFFFF;\n",
              "    }\n",
              "  </style>\n",
              "\n",
              "      <script>\n",
              "        const buttonEl =\n",
              "          document.querySelector('#df-9c850f51-a406-4171-a432-bcf0c1b718cb button.colab-df-convert');\n",
              "        buttonEl.style.display =\n",
              "          google.colab.kernel.accessAllowed ? 'block' : 'none';\n",
              "\n",
              "        async function convertToInteractive(key) {\n",
              "          const element = document.querySelector('#df-9c850f51-a406-4171-a432-bcf0c1b718cb');\n",
              "          const dataTable =\n",
              "            await google.colab.kernel.invokeFunction('convertToInteractive',\n",
              "                                                     [key], {});\n",
              "          if (!dataTable) return;\n",
              "\n",
              "          const docLinkHtml = 'Like what you see? Visit the ' +\n",
              "            '<a target=\"_blank\" href=https://colab.research.google.com/notebooks/data_table.ipynb>data table notebook</a>'\n",
              "            + ' to learn more about interactive tables.';\n",
              "          element.innerHTML = '';\n",
              "          dataTable['output_type'] = 'display_data';\n",
              "          await google.colab.output.renderOutput(dataTable, element);\n",
              "          const docLink = document.createElement('div');\n",
              "          docLink.innerHTML = docLinkHtml;\n",
              "          element.appendChild(docLink);\n",
              "        }\n",
              "      </script>\n",
              "    </div>\n",
              "  </div>\n"
            ],
            "text/plain": [
              "                                                result  \\\n",
              "0    [Aon (AON 1.07%)Q3 2022 Earnings CallOct 28, 2...   \n",
              "1    [ Good morning, everyone. Welcome to our third...   \n",
              "2    [ And third, they value expert insight and are...   \n",
              "3    [ These results are consistent with our full y...   \n",
              "4    [ Christa Davies -- Chief Financial Officer an...   \n",
              "..                                                 ...   \n",
              "132  [ UBS -- Analyst Thank you, management, for ta...   \n",
              "133  [Joey Wat -- Chief Executive Officer Thank you...   \n",
              "134  [Andy Yeung -- Chief Financial Officer OK. So,...   \n",
              "135  [ make and train -- we also see the [Inaudible...   \n",
              "136  [ but you should not -- felt like COVID obviou...   \n",
              "\n",
              "                                            embeddings  \n",
              "0    [0.11219091713428497, -0.04963115230202675, -0...  \n",
              "1    [0.10787619650363922, -0.04971027374267578, -0...  \n",
              "2    [0.11406604945659637, -0.04644547775387764, -0...  \n",
              "3    [0.09470720589160919, -0.04397454857826233, -0...  \n",
              "4    [0.10794825851917267, -0.04399846866726875, -0...  \n",
              "..                                                 ...  \n",
              "132  [0.12066387385129929, -0.047519147396087646, -...  \n",
              "133  [0.10857225209474564, -0.04651939496397972, -0...  \n",
              "134  [0.1192004457116127, -0.04519885778427124, -0....  \n",
              "135  [0.1164017990231514, -0.053716566413640976, -0...  \n",
              "136  [0.10956167429685593, -0.054073434323072433, -...  \n",
              "\n",
              "[137 rows x 2 columns]"
            ]
          },
          "execution_count": 15,
          "metadata": {},
          "output_type": "execute_result"
        }
      ],
      "source": [
        "df_processed"
      ]
    },
    {
      "cell_type": "markdown",
      "metadata": {
        "id": "ZV71Q6iAKjHU"
      },
      "source": [
        "## Let's use Weaviate to perform Vector search!"
      ]
    },
    {
      "cell_type": "markdown",
      "metadata": {
        "id": "2fWZZXRH_i7C"
      },
      "source": [
        "**What is vector search?**\n",
        "\n",
        "Vector search refers to a search method that utilizes vector representations (vector embeddings) of data items to perform similarity-based searches. In vector search, data items such as documents, images, or other objects are transformed into high-dimensional vectors, where each dimension represents a specific feature or attribute of the item.\n",
        "\n",
        "The core idea behind vector search is that similar items will have similar vector representations, making it possible to measure the similarity between items by calculating the distance between their corresponding vectors. The closer the vectors are to each other, the more similar the items are considered to be.\n"
      ]
    },
    {
      "cell_type": "code",
      "execution_count": null,
      "metadata": {
        "colab": {
          "base_uri": "https://localhost:8080/"
        },
        "id": "GrvV0i2AKkT3",
        "outputId": "66c38e67-6510-42eb-da7f-0321b82f6929"
      },
      "outputs": [
        {
          "name": "stdout",
          "output_type": "stream",
          "text": [
            "Requirement already satisfied: weaviate-client in /usr/local/lib/python3.10/dist-packages (3.22.1)\n",
            "Requirement already satisfied: requests<=2.31.0,>=2.28.0 in /usr/local/lib/python3.10/dist-packages (from weaviate-client) (2.31.0)\n",
            "Requirement already satisfied: validators<=0.21.0,>=0.18.2 in /usr/local/lib/python3.10/dist-packages (from weaviate-client) (0.20.0)\n",
            "Requirement already satisfied: tqdm<5.0.0,>=4.59.0 in /usr/local/lib/python3.10/dist-packages (from weaviate-client) (4.65.0)\n",
            "Requirement already satisfied: authlib>=1.1.0 in /usr/local/lib/python3.10/dist-packages (from weaviate-client) (1.2.1)\n",
            "Requirement already satisfied: cryptography>=3.2 in /usr/lib/python3/dist-packages (from authlib>=1.1.0->weaviate-client) (3.4.8)\n",
            "Requirement already satisfied: charset-normalizer<4,>=2 in /usr/local/lib/python3.10/dist-packages (from requests<=2.31.0,>=2.28.0->weaviate-client) (2.0.12)\n",
            "Requirement already satisfied: idna<4,>=2.5 in /usr/local/lib/python3.10/dist-packages (from requests<=2.31.0,>=2.28.0->weaviate-client) (3.4)\n",
            "Requirement already satisfied: urllib3<3,>=1.21.1 in /usr/local/lib/python3.10/dist-packages (from requests<=2.31.0,>=2.28.0->weaviate-client) (1.26.16)\n",
            "Requirement already satisfied: certifi>=2017.4.17 in /usr/local/lib/python3.10/dist-packages (from requests<=2.31.0,>=2.28.0->weaviate-client) (2023.7.22)\n",
            "Requirement already satisfied: decorator>=3.4.0 in /usr/local/lib/python3.10/dist-packages (from validators<=0.21.0,>=0.18.2->weaviate-client) (4.4.2)\n"
          ]
        }
      ],
      "source": [
        "import sys\n",
        "!pip install weaviate-client\n",
        "import weaviate"
      ]
    },
    {
      "cell_type": "markdown",
      "metadata": {
        "id": "kHwC6le0U2-3"
      },
      "source": [
        "### Register from the Weaviate website and create a cluster."
      ]
    },
    {
      "cell_type": "code",
      "execution_count": null,
      "metadata": {
        "id": "AmHQriU5SrBF"
      },
      "outputs": [],
      "source": [
        "auth_config = weaviate.AuthApiKey(api_key=\"xxxxxxxxxxxxxxxxxxxxxxxxx\")  # Replace w/ your Weaviate instance API key\n",
        "\n",
        "# Instantiate the client\n",
        "client = weaviate.Client(\n",
        "    url=\"xxxxxxxxxxxxxxxxxxxxxxxxx\", # Replace w/ your Weaviate cluster URL\n",
        "    auth_client_secret=auth_config\n",
        ")"
      ]
    },
    {
      "cell_type": "code",
      "execution_count": null,
      "metadata": {
        "colab": {
          "base_uri": "https://localhost:8080/"
        },
        "id": "z3VNXXgoTBMR",
        "outputId": "4b1aee82-b5ec-44e8-a08e-dc6bf09efb43"
      },
      "outputs": [
        {
          "data": {
            "text/plain": [
              "True"
            ]
          },
          "execution_count": 18,
          "metadata": {},
          "output_type": "execute_result"
        }
      ],
      "source": [
        "client.is_ready()"
      ]
    },
    {
      "cell_type": "code",
      "execution_count": null,
      "metadata": {
        "id": "euVkDJ7N5D5E"
      },
      "outputs": [],
      "source": [
        "# uncomment and delete if any schemas already exist\n",
        "# client.schema.delete_all()"
      ]
    },
    {
      "cell_type": "markdown",
      "metadata": {
        "id": "JDt9BuQqVGJL"
      },
      "source": [
        "### Import data with vectors"
      ]
    },
    {
      "cell_type": "code",
      "execution_count": null,
      "metadata": {
        "id": "xh-IVxXrJ97h"
      },
      "outputs": [],
      "source": [
        "jsl_data = []\n",
        "\n",
        "for i,j in df_processed.iterrows():\n",
        "  dicti = {}\n",
        "  dicti['Text'] = j['result']\n",
        "  dicti['Vector'] = j['embeddings']\n",
        "  jsl_data.append(dicti)"
      ]
    },
    {
      "cell_type": "code",
      "execution_count": null,
      "metadata": {
        "colab": {
          "base_uri": "https://localhost:8080/"
        },
        "id": "hXoQ1KIGKsRj",
        "outputId": "5e4f7738-d745-4c4f-ad72-74350605ce36"
      },
      "outputs": [
        {
          "data": {
            "text/plain": [
              "dict_keys(['Text', 'Vector'])"
            ]
          },
          "execution_count": 20,
          "metadata": {},
          "output_type": "execute_result"
        }
      ],
      "source": [
        "jsl_data[0].keys()"
      ]
    },
    {
      "cell_type": "code",
      "execution_count": null,
      "metadata": {
        "id": "GUQyWWX7MjC0"
      },
      "outputs": [],
      "source": [
        "# Class definition object. Weaviate's autoschema feature will infer properties when importing.\n",
        "class_obj = {\n",
        "    \"class\": \"JSL_Document\",\n",
        "    \"vectorizer\": \"none\"\n",
        "}\n",
        "\n",
        "# Add the class to the schema\n",
        "client.schema.create_class(class_obj)"
      ]
    },
    {
      "cell_type": "code",
      "execution_count": null,
      "metadata": {
        "colab": {
          "base_uri": "https://localhost:8080/"
        },
        "id": "uD9gxzhm7BtB",
        "outputId": "342d91e6-cfd6-4261-8cad-5e58eb9ccb5c"
      },
      "outputs": [
        {
          "name": "stdout",
          "output_type": "stream",
          "text": [
            "importing question: 1\n",
            "importing question: 2\n",
            "importing question: 3\n",
            "importing question: 4\n",
            "importing question: 5\n",
            "importing question: 6\n",
            "importing question: 7\n",
            "importing question: 8\n",
            "importing question: 9\n",
            "importing question: 10\n",
            "importing question: 11\n",
            "importing question: 12\n",
            "importing question: 13\n",
            "importing question: 14\n",
            "importing question: 15\n",
            "importing question: 16\n",
            "importing question: 17\n",
            "importing question: 18\n",
            "importing question: 19\n",
            "importing question: 20\n",
            "importing question: 21\n",
            "importing question: 22\n",
            "importing question: 23\n",
            "importing question: 24\n",
            "importing question: 25\n",
            "importing question: 26\n",
            "importing question: 27\n",
            "importing question: 28\n",
            "importing question: 29\n",
            "importing question: 30\n",
            "importing question: 31\n",
            "importing question: 32\n",
            "importing question: 33\n",
            "importing question: 34\n",
            "importing question: 35\n",
            "importing question: 36\n",
            "importing question: 37\n",
            "importing question: 38\n",
            "importing question: 39\n",
            "importing question: 40\n",
            "importing question: 41\n",
            "importing question: 42\n",
            "importing question: 43\n",
            "importing question: 44\n",
            "importing question: 45\n",
            "importing question: 46\n",
            "importing question: 47\n",
            "importing question: 48\n",
            "importing question: 49\n",
            "importing question: 50\n",
            "importing question: 51\n",
            "importing question: 52\n",
            "importing question: 53\n",
            "importing question: 54\n",
            "importing question: 55\n",
            "importing question: 56\n",
            "importing question: 57\n",
            "importing question: 58\n",
            "importing question: 59\n",
            "importing question: 60\n",
            "importing question: 61\n",
            "importing question: 62\n",
            "importing question: 63\n",
            "importing question: 64\n",
            "importing question: 65\n",
            "importing question: 66\n",
            "importing question: 67\n",
            "importing question: 68\n",
            "importing question: 69\n",
            "importing question: 70\n",
            "importing question: 71\n",
            "importing question: 72\n",
            "importing question: 73\n",
            "importing question: 74\n",
            "importing question: 75\n",
            "importing question: 76\n",
            "importing question: 77\n",
            "importing question: 78\n",
            "importing question: 79\n",
            "importing question: 80\n",
            "importing question: 81\n",
            "importing question: 82\n",
            "importing question: 83\n",
            "importing question: 84\n",
            "importing question: 85\n",
            "importing question: 86\n",
            "importing question: 87\n",
            "importing question: 88\n",
            "importing question: 89\n",
            "importing question: 90\n",
            "importing question: 91\n",
            "importing question: 92\n",
            "importing question: 93\n",
            "importing question: 94\n",
            "importing question: 95\n",
            "importing question: 96\n",
            "importing question: 97\n",
            "importing question: 98\n",
            "importing question: 99\n",
            "importing question: 100\n",
            "importing question: 101\n",
            "importing question: 102\n",
            "importing question: 103\n",
            "importing question: 104\n",
            "importing question: 105\n",
            "importing question: 106\n",
            "importing question: 107\n",
            "importing question: 108\n",
            "importing question: 109\n",
            "importing question: 110\n",
            "importing question: 111\n",
            "importing question: 112\n",
            "importing question: 113\n",
            "importing question: 114\n",
            "importing question: 115\n",
            "importing question: 116\n",
            "importing question: 117\n",
            "importing question: 118\n",
            "importing question: 119\n",
            "importing question: 120\n",
            "importing question: 121\n",
            "importing question: 122\n",
            "importing question: 123\n",
            "importing question: 124\n",
            "importing question: 125\n",
            "importing question: 126\n",
            "importing question: 127\n",
            "importing question: 128\n",
            "importing question: 129\n",
            "importing question: 130\n",
            "importing question: 131\n",
            "importing question: 132\n",
            "importing question: 133\n",
            "importing question: 134\n",
            "importing question: 135\n",
            "importing question: 136\n",
            "importing question: 137\n"
          ]
        }
      ],
      "source": [
        "# Configure a batch process\n",
        "with client.batch as batch:\n",
        "    batch.batch_size=256\n",
        "    # Batch import all Questions\n",
        "    for i, d in enumerate(jsl_data):\n",
        "        print(f\"importing question: {i+1}\")\n",
        "\n",
        "        properties = {\n",
        "            \"answer\": d[\"Text\"]\n",
        "        }\n",
        "\n",
        "        client.batch.add_data_object(properties, \"JSL_Document\", vector=d[\"Vector\"])"
      ]
    },
    {
      "cell_type": "markdown",
      "metadata": {
        "id": "O4QW-dpmVLwX"
      },
      "source": [
        "Let's say you want to find questions related to `provision for credit losses` . We can do that by obtaining a vector embedding for `provision for credit losses`, and finding objects nearest to it. In this example, we've used spark NLP for creating the financial embeddings. Then, in the following query, we pass that vector to the nearVector operator:"
      ]
    },
    {
      "cell_type": "code",
      "execution_count": null,
      "metadata": {
        "id": "H2CKrsbJTWsA"
      },
      "outputs": [],
      "source": [
        "# text for checking\n",
        "\n",
        "text = 'provision for credit losses'"
      ]
    },
    {
      "cell_type": "code",
      "execution_count": null,
      "metadata": {
        "id": "6YcTwE1qTr4J"
      },
      "outputs": [],
      "source": [
        "data = spark.createDataFrame([[text]]) \\\n",
        "    .toDF(\"text\")\n",
        "\n",
        "pipeline = nlp.Pipeline().setStages([\n",
        "    document_assembler,\n",
        "    sentence_embeddings,\n",
        "    embeddingsFinisher\n",
        "]).fit(data)\n",
        "\n",
        "result = pipeline.transform(data)"
      ]
    },
    {
      "cell_type": "code",
      "execution_count": null,
      "metadata": {
        "id": "gC6_GidtTr4J"
      },
      "outputs": [],
      "source": [
        "resultWithSize = result.selectExpr(\"explode(finished_sentence_embeddings) as embeddings\").toPandas()"
      ]
    },
    {
      "cell_type": "code",
      "execution_count": null,
      "metadata": {
        "id": "Xqy83IlvULCY"
      },
      "outputs": [],
      "source": [
        "df_test = resultWithSize.copy()"
      ]
    },
    {
      "cell_type": "code",
      "execution_count": null,
      "metadata": {
        "colab": {
          "base_uri": "https://localhost:8080/"
        },
        "id": "ibtX4qJBTr4K",
        "outputId": "88a2c1a7-d46d-44f9-c08e-67daef0bff40"
      },
      "outputs": [
        {
          "data": {
            "text/plain": [
              "0    [0.11180341243743896, -0.07125287503004074, -0...\n",
              "Name: embeddings, dtype: object"
            ]
          },
          "execution_count": 32,
          "metadata": {},
          "output_type": "execute_result"
        }
      ],
      "source": [
        "# Convert the embeddings from Dense Vector to a list using apply and tolist()\n",
        "# df['embeddings'] = df['embeddings'].apply(lambda x: x.values.tolist())\n",
        "\n",
        "emb = df_test['embeddings']\n",
        "emb"
      ]
    },
    {
      "cell_type": "code",
      "execution_count": null,
      "metadata": {
        "id": "TvgWHXLlUZAI"
      },
      "outputs": [],
      "source": [
        "dicti = {'vector':emb[0]}\n"
      ]
    },
    {
      "cell_type": "code",
      "execution_count": null,
      "metadata": {
        "colab": {
          "base_uri": "https://localhost:8080/"
        },
        "id": "jzDqlZESLzZa",
        "outputId": "b9d7f067-2ed4-4d48-9a24-2b4d373142a0"
      },
      "outputs": [
        {
          "name": "stdout",
          "output_type": "stream",
          "text": [
            "{\n",
            "  \"data\": {\n",
            "    \"Get\": {\n",
            "      \"JSL_Document\": [\n",
            "        {\n",
            "          \"answer\": [\n",
            "            \" We have continued to advance potentially game-changing vaccines in the fight against respiratory disease by entering into a Phase 3 study for our mRNA flu vaccine candidate and initiating a Phase 1 study for a vaccine candidate that combines our mRNA flu and COVID-19 vaccine in one sort. We completed the acquisitions of Biohaven Pharmaceuticals and Global Blood Therapeutics, giving us market-leading franchises in both migraine and sickle cell disease, respectively. Less than six months ago after launching in Accor for a healthier world, a breakthrough initiative designed to close the health equity gap for 1.2 billion people living in 45 lower-income countries, I'm proud to say that the first shipments of our products have arrived to these countries, and we are working with governments on health system improvements that can help make sure these products reach those in need. And of course, we continue to lead the fight against COVID-19. Most notably, our omicron-adapted bivalent COVID-19 vaccine has been authorized by the U.S. Food and Drug Administration, by the European Medicines Agency and several other regulatory bodies. And as part of Pfizer's commitment to providing equitable access to COVID-19 oral treatments, we agreed to supply at the non-for-profit price up to 6 million Paxlovid treatment courses to the Global Fund for low and lower middle income countries. An exciting quarter for sure, but in our company and our industry, it's all about what's next. The next breakthrough medicine or vaccine, the next game-ending technology, the next solution to an unmet patient. This continued pursuit of what's next is embedded in Pfizer's DNA and the foundational driver of our purpose: Breakthroughs that change patients' lives. It's also why we have confidence that Pfizer story is a story of growth. We recognize that some are questioning Pfizer's longer-term growth projects, particularly in the '25 to '30 time frame, but understandable given that we currently expect a negative impact of approximately $70 billion in revenues from losses of exclusivity during that period based on our internal calculations. We believe we not only can overcome these expected declines but also can potentially generate strong growth through the end of the decade. Let's take a closer look on how we expect to accomplish this. Our strong capital position has given us the ability to pursue business development opportunities with the potential, if successful of course, to add at least $25 billion of risk-adjusted revenues to our 2030 top-line expectations. We believe the deals we have already done for Arena, Biohaven, Global Blood Therapeutics, and ReViral has the potential to get us more than one-third of the way there and that we have more than enough capital to invest in the additional opportunities needed to meet or exceed this target. Perhaps even more exciting is the way the potential growth drivers emerging from our R&D pipeline in the near term. Over the next 18 months, we expect to have up to 19 new products or indications in the market, including the five for which we have already begun co-pro promotions or commercialization earlier this year. You can find the list of these launches in the appendix of the presentation we posted today for this earnings call. If successful, these 19 launches, of which more than two-thirds have the potential to be blockbusters, will be the most ever in Pfizer's history. The 15 in-house developed projects alone could potentially represent approximately $20 billion in 2030 sales which would more than offset the expected LOE impact. Many of these programs are already largely derisked from a clinical perspective. The majority of them were discovered in-house and nearly all of them would be for indications outside of COVID-19. If approved, we expect each of these to be key contributors to our growth aspirations through 2025 and beyond. And of course, we have many more potential vaccines and medicines in our pipeline with numerous launches expected in the '24 to '30 time line. These include gene therapy candidates for hemophilia A, B, and Duchenne muscular dystrophy; our oral GLP-1 for diabetes and obesity; a potential combo vaccine that would cover flu and COVID-19 in one shot and many, many more. With regard to our COVID-19 products, while their sales may fall from our expected 2022 levels of approximately combined $55 billion, we believe our COVID-19 franchises will remain multibillion-dollar revenue generators for the foreseeable future which should serve as a buffer for any unforeseen challenges with other products in our portfolio. Our confidence to execute this plan stems from the depth of our financial resources and the firepower it gives us to pursue business development opportunities, the power brand equity we have built up over the past 170 years and further enhanced in the past two years. According to a recent survey, our brand awareness now stands at an impressive 82% and our favorability stands at 61%, compared with 42% for the industry as a whole, results that were obtained just a couple of months ago. And of course, the strength of the three foundational pillars of our company, our world-class scientific, our world-class commercial and our world-class manufacturing engines, and you will see on this slide some highlights of each one of them. Let me now briefly highlight three potential blockbusters that we expect to contribute to our long-term growth. RSV is an area of significant unmet need, particularly in older adults and infants. Each year, it is estimated more than 177,000 older adults are hospitalized and 14,000 of them die in the U.S. alone due to RSV. That is fulfilled by a diagnostic test. We believe we have the potential to be a leader in this space and have a real impact on public health. On March 24 of this year, the FDA granted breakthrough designation for our RSV vaccine candidate for the prevention of lower respiratory tract disease caused by RSV in individuals 60 years of age or older. We are excited to report positive top-line data from the Phase 3 Renoir trial in late August, with the recent presentation of detailed results at ID week 22. A pre-planned interim analysis showed vaccine efficacy of 67% against RSV-associated lower respiratory tract illness, defined by two or more symptoms. And vaccine efficacy of 85.7% was observed in participants with more severe disease, presenting three or more RSV-associated symptoms of lower respiratory tract illness. We are also excited about the potential for our maternal RSV vaccine candidate. Globally, each year, RSV [Inaudible] more than 6.5 million infants under six months old and kills approximately 45,000. As announced this morning, our maternal RSV study met the success criterion for one of the two primary endpoints. Vaccine efficacy of 81.8% was observed against severe medically attended lower respiratory tract illness due to RSV in infant's birth through the first 90 days of life. And high efficacy of 69.4% was demonstrated through the first six months of life. So there is the potential that, subject to regulatory approval, by late 2023, early 2024, we could have the only RSV maternal vaccine in the market, along with an RSV vaccine for older adults, that has high efficacy, and it is well tolerated with no safety concerns. Combined, the two indications represent a potential multibillion-dollar peak revenue opportunity if approved, especially with our high-respected primary care sales force executing these launches. Including the RSV antiviral investigational candidates we acquired with ReViral, we aim to have end-to-end solutions with both preventative vaccines and therapeutics to treat those infected with RSV. Ulcerative colitis or UC is a chronic and often debilitating inflammatory bowel disease that affects an estimated 1 million people in the U.S. alone. Many patients living with this disease never achieve or maintain remission, and physicians are seeking effective, proven oral therapies with a favorable benefit-risk profile that can be an attractive first-line advanced therapy option. As a result, we expect the market opportunity to grow by about 50% over the next five years. The positive Phase 3 data from the Elevate UC 12 and 52 trials reinforce our belief that etrasimod has a differentiated clinical profile and can be an important treatment option if approved. We believe that etrasimod can be a multibillion-dollar blockbuster product. We expect to launch the product in the U.S. as soon as the second half of 2023, pending regulatory approval, through our specialty care sales force, which already has strong relationships in the UC market, thanks to its work with Xeljanz biosimilar specifically. Lastly, let's look at migraine. Following our acquisition of Biohaven in early October, we are now aiming to build the world's leading global migraine franchise with the potential to impact 1 billion patients around the world. Migraine is a debilitating disease and has 11.6% prevalence worldwide. In the U.S. alone, there are 40 million patients with migraine, and one out of five women are migraine sufferers right now. The economic burden is significant at $36 billion per year. We believe our portfolio, including Nurtec ODT, Vydura, and zavegepant could meet the range of needs in the market, allowing physicians and patients to decide how to appropriately monitor migraine treatment and prevention. As a result, we see the potential to reach more than $6 billion in peak revenue altogether. In the U.S., Nurtec is growing very well, including the impact of Pfizer's co-promoting, which began in August pre-close. Nurtec has further strengthened its No. 1 market share position in the oral CGRP market, and we expect even stronger growth as we deliver on our promise to further enhance our commercial efforts behind this program. Outside the U.S., it has been approved in the EU, U.K., Israel, Kuwait, United Arab Emirates and we have filed for registration in an additional 10 markets. While this is not a new product launch, we believe this is a great example of how we can take this portfolio to new heights by leveraging the full strength of Pfizer's global commercial engine, including in primary care physicians. Moving over to zavegepant. We recently expect to launch zavegepant intranasal in the U.S. next year, pending FDA approval, and we plan to globally commercialize. Lastly, the oral prevention Phase 3 trial is ongoing with a data readout that is expected in the third quarter. So with that, I turn it over to Dave to update you on the results and outlook for the financials. After Dave, Mikael will speak about the progression of our pipeline.\"\n",
            "          ]\n",
            "        },\n",
            "        {\n",
            "          \"answer\": [\n",
            "            \" JPMorgan Chase and Company -- Analyst I had kind of a qualitative question on how to think about opex dynamics going forward. It seems like we've seen some upward bias and spend at the company which has kind of coincided with the ramp in COVID sales. I guess for a position where that COVID market resets as we transition past the pandemic, is there an opportunity? Or should we think about a pullback in opex spend associated with that? Or should we think about these as more normalized levels of spend given all these growth initiatives that you're highlighting and investing behind at this point?\"\n",
            "          ]\n",
            "        },\n",
            "        {\n",
            "          \"answer\": [\n",
            "            \" BMO Capital Markets -- Analyst Congrats on the progress. Two questions for me. On BD, I want to be briefed here. But can you talk about what other therapeutic areas you might want to explore? I know you're in neurology with Biohaven, nonmalignant hematology with GBT and, of course, inflammation. Would you consider adding oncology? And on the same line, kind of, Albert, in some previous comments ahead of this call you had mentioned going alone with some of your mRNA technologies. What applications of mRNA do you see outside of COVID? I mean this personalized cancer vaccine is an area that you would explore.\"\n",
            "          ]\n",
            "        },\n",
            "        {\n",
            "          \"answer\": [\n",
            "            \" some remaining uncertainty around Aon -- will create difficulties. But ultimately, we're focused on creating capital for them, capital options. So they can get the protection that they need going forward. I would also say, it also has an effect on facultative reinsurance and other tools that we have because as those insurers are forced to take higher retention, they certainly are going to continue to look to derisk. They just do it with different tools, right? They actually then will look at specific clients that they've got on their primary portfolio that they want help on, they'll use facultative instead of treaty. So while the market does shift, there are levers out there that we bring to bear for our clients that can actually help them derisk and get the protection that they need.\"\n",
            "          ]\n",
            "        },\n",
            "        {\n",
            "          \"answer\": [\n",
            "            \" We expect a full recovery of sales -- of same-store sales will take time, and the path to remain uneven and nonlinear. I would also like to remind everyone that, one, fourth quarter is seasonally a lower quarter in terms of sales and profit. So, sales volatilities could have a more potent impact on profitability. Two, there was around $30 million temporary relief in the third quarter, most of which is unlikely to repeat in the fourth quarter. Three, the appreciation of U.S. dollar against the yuan may negatively affect our product numbers. And four, we continue to dial back some austerity measures to balance cost reduction and service level. Now, despite the headwinds in the third quarter, we resumed the pace of store openings and opened 621 net new stores year to date. By relentlessly optimizing store economics with lower upfront investment, our new store performance continued to be strong. Store payback remained healthy at two years for KFC and three years for Pizza Hut. This gives us strong confidence for further expansion. We will continue to implement our disciplined and systematic store opening approach, opening new and profitable store at a robust pace. As the fourth quarter is usually the peak season for store openings, we are confident in reaching the full-year target of 1,000 to 1,200 net new stores. Lastly, let me touch on our primary listing conversion in Hong Kong. It became effective on October 24 along with our inclusion in the Southbound Stock Connect. We expect the new status will provide additional access to investors, [Inaudible] our shareholder base, and increase liquidity. To round up, we have learned to navigate through uncertainties and volatilities in the past two years. COVID conditions will continue to remain challenging, but we're adapting to the new normal. Our resilient business model and agility allow us to pivot quickly and effectively develop new strengths. When the market is mildly calmer, we are able to capture the upside and deliver strong results. In the third quarter, we have once again demonstrated our transformative fundamentals, cost control, and solid execution. We are confident in our ability to achieve long-term growth in China and generate sustainable returns to shareholders. With that, I will pass you back to Michelle to start the Q&A. Michelle?\"\n",
            "          ]\n",
            "        },\n",
            "        {\n",
            "          \"answer\": [\n",
            "            \"s -- frankly, I think it's going well. I think that we're continuing to do more in anticipation of the fall. But the fact that you've had 500,000 physicians write this Paxlovid already is a great indicator of their confidence with this. And the fact that probably the one most important area of education that we need to continue to emphasize is just who are the eligible people for Paxlovid. And actually, if you look at the definition that the CDC provides, there are 22 risk factors for who should be eligible. And they include those who are over 65, right, age-related risks, but equally risks such as mental health illness, risks such as an inactive lifestyle, risks that you may not be aware of. And so I think that that's really where we want to focus now through this fall.\"\n",
            "          ]\n",
            "        },\n",
            "        {\n",
            "          \"answer\": [\n",
            "            \"Jon Stonehouse -- Chief Executive Officer And there was one of the 2023 untapped potential market that let me start then you can add, you know, I think this further investment that Charlie talked about, we'll see the bulk of the value that come in in 2023 for sure.\\u00a0But the message has been consistent quarter after quarter after quarter. The best patients that we get are ones that are controlled on injectable pro-fee that switch over to\\u00a0ORLADEYO,\\u00a0and again I'd encourage you to to pay attention to what we're presenting at the college meeting. So continuing to pick away, and chip away at that I think is the key. And then you've heard me comment today and many times over over the quarters around our top 500 versus Tier two, and recall for everyone the top 500 is about half the HAE market, and then there's tier two and we had 54% of our new prescriptions come from the top 500, so really great balance. And we see opportunities in both hands kind of at the top of the market and then expanding the market. And so as we've expanded our team a little bit, it's to take advantage of both of those segments.\"\n",
            "          ]\n",
            "        },\n",
            "        {\n",
            "          \"answer\": [\n",
            "            \" Scotiabank -- Analyst Hi. Good morning. Two questions, please. First, with the latest news from Biden talking about the oil industry with the windfall profit tax, just wondering that your people in D.C., when they talk to the senator, what's your guess is whether there will be sufficient vote in the Senate for them that to pass that, if the President does propose one? The second question is that I want to see what is your RD strategy, renewable diesel strategy beyond the retail conversion that you're currently doing? I mean, the first phase will come onstream soon and then full completion probably in 2024. And so that I want to see that beyond that, if that is going to be one-off or let's say, more maybe that strategy going forward on that?\"\n",
            "          ]\n",
            "        },\n",
            "        {\n",
            "          \"answer\": [\n",
            "            \"Charlie Gayer -- Chief Commercial Officer Thanks, Jon. The core metrics for ORLADEYO were strong once again in the third quarter. New patient starts were right in line with our six-quarter running average. The absolute number of discontinuations was flat to slightly improved for the second quarter in a row, and we saw a 9% growth in patients on paid therapy. All these metrics point to what we have described previously, a pattern of consistent linear growth for ORLADEYO. I'll share more detail on what we saw in the quarter, and later, Anthony will provide context for how patient growth translated to revenue. We continued to add breadth and depth to the ORLADEYO prescriber base, and several facts point to our ability to expand ORLADEYO use. The overall prescriber base grew by another 11% in Q3, and we had the largest number of repeat prescribers in a quarter, as more physicians offer ORLADEYO to additional patients in their practices. Top 500 HAE treaters accounted for 54% of new ORLADEYO prescriptions, and about 25% of top 500 prescribers in Q3 were newly activated. We also have the largest number of tier-two prescribers in any quarter-to-date. These trends are consistent with another survey that we conducted with 60 allergists in September. As we have seen in prior surveys, physicians anticipated the percentage of their patients treated with\\u00a0ORLADEYO\\u00a0would grow more than any other HAE therapy over the next 12 months. They anticipate expanding use because they have seen our long-term clinical data. Many also have firsthand experience with our\\u00a0ORLADEYO, and our physician survey shows that\\u00a0ORLADEYO\\u00a0is the most requested HAE prophylaxis medication among patients.\\u00a0Next week at the American College of Asthma, Allergy, and Immunology Congress, we will have an oral presentation and a poster from large cohorts of patients who started on\\u00a0ORLADEYO\\u00a0after the launch. This real-world evidence confirms what physicians are seeing, regardless of baseline attack rate or prior therapy, patients experience excellent long-term control.\\u00a0Even with the success we've seen since launch, we constantly evaluate opportunities to invest, to do more. In Q3, we identified two such opportunities. The first is to add incrementally to our sales team to further accelerate impact in Top 500 position. The second is to add to our field market access team so that as we broaden our prescriber base, we can help practices that have less experience seeking payor authorization for HAE therapies.\\u00a0As we round out the second year on the market for\\u00a0ORLADEYO, we are excited about the future potential. One month into this quarter, our underlying metric remains strong. We expect to see a double-digit revenue growth percentage in the fourth quarter, with total\\u00a0ORLADEYO\\u00a0sales for the year ending at $255 million, more than doubling 2021 sales. Helen, I'll turn the call over to you.\"\n",
            "          ]\n",
            "        },\n",
            "        {\n",
            "          \"answer\": [\n",
            "            \"Albert Bourla -- Chairman and Chief Executive Officer Thank you. One, on the 2% operational excluding COVID, just to make a clarification, if you exclude also the contract manufacturing business that we have, that was really COVID-related. It has very increased revenues last year because we were contract manufacturing for BioNTech territories. That we don't have to do now, because BioNTech took over for their territories their own manufacturing. In fact, the growth was 4% of our pharmaceutical business, excluding COVID and excluding this piece of contract manufacturing. Now, Angela, based on that, what will we expect to be the growth trajectory?\"\n",
            "          ]\n",
            "        }\n",
            "      ]\n",
            "    }\n",
            "  }\n",
            "}\n"
          ]
        }
      ],
      "source": [
        "response = (\n",
        "    client.query\n",
        "    .get(\"JSL_Document\", [\"answer\"])\n",
        "    .with_near_vector(\n",
        "            dicti)\n",
        "    .with_limit(10)\n",
        "    .do()\n",
        ")\n",
        "\n",
        "print(json.dumps(response, indent=2))"
      ]
    },
    {
      "cell_type": "code",
      "execution_count": null,
      "metadata": {
        "id": "HUdm4xbQ8ZVq"
      },
      "outputs": [],
      "source": [
        "\n"
      ]
    },
    {
      "cell_type": "code",
      "execution_count": null,
      "metadata": {
        "id": "MTqcYba-Oeu5"
      },
      "outputs": [],
      "source": []
    }
  ],
  "metadata": {
    "colab": {
      "machine_shape": "hm",
      "provenance": []
    },
    "kernelspec": {
      "display_name": "Python 3",
      "name": "python3"
    },
    "language_info": {
      "name": "python"
    }
  },
  "nbformat": 4,
  "nbformat_minor": 0
}

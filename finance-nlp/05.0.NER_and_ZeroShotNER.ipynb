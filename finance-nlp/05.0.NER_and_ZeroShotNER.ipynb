{
  "cells": [
    {
      "cell_type": "markdown",
      "id": "db5f4f9a-7776-42b3-8758-85624d4c15ea",
      "metadata": {
        "id": "db5f4f9a-7776-42b3-8758-85624d4c15ea"
      },
      "source": [
        "![JohnSnowLabs](https://nlp.johnsnowlabs.com/assets/images/logo.png)"
      ]
    },
    {
      "cell_type": "markdown",
      "id": "21e9eafb",
      "metadata": {
        "id": "21e9eafb"
      },
      "source": [
        "[![Open In Colab](https://colab.research.google.com/assets/colab-badge.svg)](https://colab.research.google.com/github/JohnSnowLabs/spark-nlp-workshop/blob/master/finance-nlp/05.0.NER_and_ZeroShotNER.ipynb)"
      ]
    },
    {
      "cell_type": "markdown",
      "id": "212325cc-182f-4565-abed-9b46864d6d69",
      "metadata": {
        "id": "212325cc-182f-4565-abed-9b46864d6d69"
      },
      "source": [
        "# Financial Named Entity Recognition (NER) and Zero-shot NER"
      ]
    },
    {
      "cell_type": "markdown",
      "id": "eJj6G_uGqmvW",
      "metadata": {
        "collapsed": false,
        "id": "eJj6G_uGqmvW"
      },
      "source": [
        "##🎬 Installation"
      ]
    },
    {
      "cell_type": "code",
      "execution_count": 1,
      "id": "9sGctuAVqmvW",
      "metadata": {
        "id": "9sGctuAVqmvW",
        "pycharm": {
          "is_executing": true
        },
        "outputId": "0c7e73b8-eded-421f-ea84-70234fa543ce",
        "colab": {
          "base_uri": "https://localhost:8080/"
        }
      },
      "outputs": [
        {
          "output_type": "stream",
          "name": "stdout",
          "text": [
            "\u001b[2K     \u001b[90m━━━━━━━━━━━━━━━━━━━━━━━━━━━━━━━━━━━━━━━━\u001b[0m \u001b[32m74.8/74.8 KB\u001b[0m \u001b[31m2.5 MB/s\u001b[0m eta \u001b[36m0:00:00\u001b[0m\n",
            "\u001b[2K     \u001b[90m━━━━━━━━━━━━━━━━━━━━━━━━━━━━━━━━━━━━━━━\u001b[0m \u001b[32m212.4/212.4 MB\u001b[0m \u001b[31m4.4 MB/s\u001b[0m eta \u001b[36m0:00:00\u001b[0m\n",
            "\u001b[?25h  Preparing metadata (setup.py) ... \u001b[?25l\u001b[?25hdone\n",
            "\u001b[2K     \u001b[90m━━━━━━━━━━━━━━━━━━━━━━━━━━━━━━━━━━━━━━\u001b[0m \u001b[32m469.5/469.5 KB\u001b[0m \u001b[31m20.0 MB/s\u001b[0m eta \u001b[36m0:00:00\u001b[0m\n",
            "\u001b[2K     \u001b[90m━━━━━━━━━━━━━━━━━━━━━━━━━━━━━━━━━━━━━━━━\u001b[0m \u001b[32m95.4/95.4 KB\u001b[0m \u001b[31m7.0 MB/s\u001b[0m eta \u001b[36m0:00:00\u001b[0m\n",
            "\u001b[2K     \u001b[90m━━━━━━━━━━━━━━━━━━━━━━━━━━━━━━━━━━━━━━\u001b[0m \u001b[32m570.6/570.6 KB\u001b[0m \u001b[31m27.0 MB/s\u001b[0m eta \u001b[36m0:00:00\u001b[0m\n",
            "\u001b[2K     \u001b[90m━━━━━━━━━━━━━━━━━━━━━━━━━━━━━━━━━━━━━━\u001b[0m \u001b[32m198.6/198.6 KB\u001b[0m \u001b[31m13.2 MB/s\u001b[0m eta \u001b[36m0:00:00\u001b[0m\n",
            "\u001b[2K     \u001b[90m━━━━━━━━━━━━━━━━━━━━━━━━━━━━━━━━━━━━━━━\u001b[0m \u001b[32m66.9/66.9 KB\u001b[0m \u001b[31m316.2 kB/s\u001b[0m eta \u001b[36m0:00:00\u001b[0m\n",
            "\u001b[2K     \u001b[90m━━━━━━━━━━━━━━━━━━━━━━━━━━━━━━━━━━━━━━━━\u001b[0m \u001b[32m82.3/82.3 KB\u001b[0m \u001b[31m5.2 MB/s\u001b[0m eta \u001b[36m0:00:00\u001b[0m\n",
            "\u001b[?25h  Preparing metadata (setup.py) ... \u001b[?25l\u001b[?25hdone\n",
            "\u001b[2K     \u001b[90m━━━━━━━━━━━━━━━━━━━━━━━━━━━━━━━━━━━━━━━━\u001b[0m \u001b[32m1.6/1.6 MB\u001b[0m \u001b[31m38.6 MB/s\u001b[0m eta \u001b[36m0:00:00\u001b[0m\n",
            "\u001b[?25h  Building wheel for pyspark (setup.py) ... \u001b[?25l\u001b[?25hdone\n",
            "  Building wheel for databricks-cli (setup.py) ... \u001b[?25l\u001b[?25hdone\n"
          ]
        }
      ],
      "source": [
        "! pip install -q johnsnowlabs"
      ]
    },
    {
      "cell_type": "markdown",
      "id": "70t7zXI2qmvX",
      "metadata": {
        "id": "70t7zXI2qmvX"
      },
      "source": [
        "###🔗 Automatic Installation\n",
        "Using [my.johnsnowlabs.com](https://my.johnsnowlabs.com/) SSO"
      ]
    },
    {
      "cell_type": "code",
      "execution_count": 2,
      "id": "j3x9f6apqmvX",
      "metadata": {
        "id": "j3x9f6apqmvX",
        "pycharm": {
          "is_executing": true
        }
      },
      "outputs": [],
      "source": [
        "from johnsnowlabs import nlp, finance\n",
        "\n",
        "# nlp.install(force_browser=True)"
      ]
    },
    {
      "cell_type": "markdown",
      "id": "5xgiQgV3qmvX",
      "metadata": {
        "id": "5xgiQgV3qmvX"
      },
      "source": [
        "###🔗 Manual downloading\n",
        "If you are not registered in my.johnsnowlabs.com, you received a license via e-email or you are using Safari, you may need to do a manual update of the license.\n",
        "\n",
        "- Go to [my.johnsnowlabs.com](https://my.johnsnowlabs.com/)\n",
        "- Download your license\n",
        "- Upload it using the following command"
      ]
    },
    {
      "cell_type": "code",
      "execution_count": null,
      "id": "EsX5CDwsqmvX",
      "metadata": {
        "id": "EsX5CDwsqmvX"
      },
      "outputs": [],
      "source": [
        "from google.colab import files\n",
        "print('Please Upload your John Snow Labs License using the button below')\n",
        "license_keys = files.upload()"
      ]
    },
    {
      "cell_type": "markdown",
      "id": "K9GLVA35qmvX",
      "metadata": {
        "id": "K9GLVA35qmvX"
      },
      "source": [
        "- Install it"
      ]
    },
    {
      "cell_type": "code",
      "execution_count": null,
      "id": "B0ZiE5poqmvX",
      "metadata": {
        "id": "B0ZiE5poqmvX"
      },
      "outputs": [],
      "source": [
        "nlp.install()"
      ]
    },
    {
      "cell_type": "markdown",
      "id": "09fafa4b-cf69-4556-ae50-adb9fc6f4368",
      "metadata": {
        "id": "09fafa4b-cf69-4556-ae50-adb9fc6f4368"
      },
      "source": [
        "###📌 Start Spark Session"
      ]
    },
    {
      "cell_type": "code",
      "execution_count": 5,
      "id": "_uTrkyPv0rk2",
      "metadata": {
        "id": "_uTrkyPv0rk2",
        "outputId": "e17f3e64-f26c-4328-fe89-b5ac063a71cd",
        "colab": {
          "base_uri": "https://localhost:8080/"
        }
      },
      "outputs": [
        {
          "output_type": "stream",
          "name": "stdout",
          "text": [
            "👌 Detected license file /content/spark_nlp_for_healthcare_spark_ocr_7187 (3).json\n",
            "👌 Launched \u001b[92mcpu optimized\u001b[39m session with with: 🚀Spark-NLP==4.3.0, 💊Spark-Healthcare==4.3.0, running on ⚡ PySpark==3.1.2\n"
          ]
        }
      ],
      "source": [
        "from johnsnowlabs import nlp, finance\n",
        "# Automatically load license data and start a session with all jars user has access to\n",
        "spark = nlp.start()"
      ]
    },
    {
      "cell_type": "code",
      "execution_count": 6,
      "id": "Xqulsi7i_Tx4",
      "metadata": {
        "id": "Xqulsi7i_Tx4"
      },
      "outputs": [],
      "source": [
        "from pyspark.sql import DataFrame\n",
        "import pyspark.sql.functions as F\n",
        "import pyspark.sql.types as T\n",
        "import pyspark.sql as SQL\n",
        "from pyspark import keyword_only"
      ]
    },
    {
      "cell_type": "markdown",
      "id": "766fe57a-fcd5-4072-99d0-7626c7888493",
      "metadata": {
        "id": "766fe57a-fcd5-4072-99d0-7626c7888493"
      },
      "source": [
        "##🔎 NER Model Implementation in Spark NLP\n",
        "\n",
        "  The deep neural network architecture for NER model in Spark NLP is BiLSTM-CNN-Char framework. a slightly modified version of the architecture proposed by Jason PC Chiu and Eric Nichols ([Named Entity Recognition with Bidirectional LSTM-CNNs](https://arxiv.org/abs/1511.08308)). It is a neural network architecture that automatically detects word and character-level features using a hybrid bidirectional LSTM and CNN architecture, eliminating the need for most feature engineering steps.\n",
        "  \n",
        "  In the original framework, the CNN extracts a fixed length feature vector from character-level features. For each word, these vectors are concatenated and fed to the BLSTM network and then to the output layers. They employed a stacked bi-directional recurrent neural network with long short-term memory units to transform word features into named entity tag scores. The extracted features of each word are fed into a forward LSTM network and a backward LSTM network. The output of each network at each time step is decoded by a linear layer and a log-softmax layer into log-probabilities for each tag category. These two vectors are then simply added together to produce the final output. In the architecture of the proposed framework in the original paper, 50-dimensional pretrained word embeddings is used for word features, 25-dimension character embeddings is used for char features, and capitalization features (allCaps, upperInitial, lowercase, mixedCaps, noinfo) are used for case features."
      ]
    },
    {
      "cell_type": "markdown",
      "id": "bee4b28c-dda1-4708-9240-edb6fe105013",
      "metadata": {
        "id": "bee4b28c-dda1-4708-9240-edb6fe105013"
      },
      "source": [
        "###✔ Finance SEC NER Model\n",
        "\n",
        "This model detects Organizations (ORG), People (PER) and Locations (LOC) in financial texts. It was trained using manual annotations, conll2003 and financial documents obtained from U.S. Security and Exchange Commission (SEC) filings."
      ]
    },
    {
      "cell_type": "code",
      "execution_count": null,
      "id": "889067cf-a64c-4f3a-b27a-51fdca438599",
      "metadata": {
        "colab": {
          "base_uri": "https://localhost:8080/"
        },
        "id": "889067cf-a64c-4f3a-b27a-51fdca438599",
        "outputId": "5b27bf66-2cba-4cfb-fd2b-b409af740b64"
      },
      "outputs": [
        {
          "name": "stdout",
          "output_type": "stream",
          "text": [
            "sentence_detector_dl download started this may take some time.\n",
            "Approximate size to download 514.9 KB\n",
            "[OK!]\n",
            "bert_embeddings_legal_bert_base_uncased download started this may take some time.\n",
            "Approximate size to download 391.1 MB\n",
            "[OK!]\n",
            "finner_sec_conll download started this may take some time.\n",
            "[OK!]\n",
            "sentence_detector_dl download started this may take some time.\n",
            "Approximate size to download 514.9 KB\n",
            "[OK!]\n",
            "bert_embeddings_legal_bert_base_uncased download started this may take some time.\n",
            "Approximate size to download 391.1 MB\n",
            "[OK!]\n",
            "finner_sec_conll download started this may take some time.\n",
            "[OK!]\n"
          ]
        }
      ],
      "source": [
        "documentAssembler = nlp.DocumentAssembler()\\\n",
        "        .setInputCol(\"text\")\\\n",
        "        .setOutputCol(\"document\")\n",
        "\n",
        "# Consider using SentenceDetector with rules/patterns to get smaller chunks from long sentences\n",
        "sentence_detector = nlp.SentenceDetectorDLModel.pretrained(\"sentence_detector_dl\", \"xx\")\\\n",
        "        .setInputCols([\"document\"])\\\n",
        "        .setOutputCol(\"sentence\")\n",
        "\n",
        "tokenizer = nlp.Tokenizer()\\\n",
        "        .setInputCols([\"sentence\"])\\\n",
        "        .setOutputCol(\"token\")\n",
        "\n",
        "embeddings = nlp.BertEmbeddings.pretrained(\"bert_embeddings_legal_bert_base_uncased\",\"en\")\\\n",
        "        .setInputCols([\"sentence\", \"token\"])\\\n",
        "        .setOutputCol(\"embeddings\")\n",
        "\n",
        "ner_model = finance.NerModel.pretrained(\"finner_sec_conll\", \"en\", \"finance/models\") \\\n",
        "        .setInputCols([\"sentence\", \"token\", \"embeddings\"])\\\n",
        "        .setOutputCol(\"ner\")\n",
        "\n",
        "ner_converter = finance.NerConverterInternal()\\\n",
        "        .setInputCols([\"sentence\",\"token\",\"ner\"])\\\n",
        "        .setOutputCol(\"ner_chunk\")\n",
        "\n",
        "nlpPipeline = nlp.Pipeline(stages=[\n",
        "        documentAssembler,\n",
        "        sentence_detector,\n",
        "        tokenizer,\n",
        "        embeddings,\n",
        "        ner_model,\n",
        "        ner_converter])\n",
        "\n",
        "empty_data = spark.createDataFrame([[\"\"]]).toDF(\"text\")\n",
        "\n",
        "model = nlpPipeline.fit(empty_data)"
      ]
    },
    {
      "cell_type": "code",
      "execution_count": null,
      "id": "46fa5d8a-a5f0-4173-a21e-1df147d1b2e8",
      "metadata": {
        "colab": {
          "base_uri": "https://localhost:8080/"
        },
        "id": "46fa5d8a-a5f0-4173-a21e-1df147d1b2e8",
        "outputId": "cc88aa78-22e3-4ec6-ae3a-7a14fab658f9"
      },
      "outputs": [
        {
          "data": {
            "text/plain": [
              "[DocumentAssembler_2f2588ccc5a1,\n",
              " SentenceDetectorDLModel_8aaebf7e098e,\n",
              " REGEX_TOKENIZER_38bcfef5aea9,\n",
              " BERT_EMBEDDINGS_ed0baec430e2,\n",
              " MedicalNerModel_5a7a3c15ca97,\n",
              " NER_CONVERTER_3a77bff96b08]"
            ]
          },
          "execution_count": 8,
          "metadata": {},
          "output_type": "execute_result"
        },
        {
          "data": {
            "text/plain": [
              "[DocumentAssembler_f01f7e714f12,\n",
              " SentenceDetectorDLModel_8aaebf7e098e,\n",
              " REGEX_TOKENIZER_074c091a1fca,\n",
              " BERT_EMBEDDINGS_ed0baec430e2,\n",
              " MedicalNerModel_5a7a3c15ca97,\n",
              " NER_CONVERTER_669337967a1a]"
            ]
          },
          "execution_count": 36,
          "metadata": {},
          "output_type": "execute_result"
        }
      ],
      "source": [
        "## you can see pipeline stages with this code\n",
        "\n",
        "model.stages"
      ]
    },
    {
      "cell_type": "code",
      "execution_count": null,
      "id": "af5baafe-793a-4022-ac3c-95c5345ef606",
      "metadata": {
        "colab": {
          "base_uri": "https://localhost:8080/"
        },
        "id": "af5baafe-793a-4022-ac3c-95c5345ef606",
        "outputId": "7543f0bc-f5b2-4c23-a30a-261c52d464d8"
      },
      "outputs": [
        {
          "data": {
            "text/plain": [
              "['O', 'B-ORG', 'I-ORG', 'B-PER', 'I-PER', 'B-LOC', 'I-LOC']"
            ]
          },
          "execution_count": 9,
          "metadata": {},
          "output_type": "execute_result"
        },
        {
          "data": {
            "text/plain": [
              "['O', 'B-ORG', 'I-ORG', 'B-PER', 'I-PER', 'B-LOC', 'I-LOC']"
            ]
          },
          "execution_count": 37,
          "metadata": {},
          "output_type": "execute_result"
        }
      ],
      "source": [
        "## With this code, you can see which labels your NER model has.\n",
        "\n",
        "ner_model.getClasses()"
      ]
    },
    {
      "cell_type": "code",
      "execution_count": null,
      "id": "5954047c-ec79-47ec-98fa-44c74b492140",
      "metadata": {
        "colab": {
          "base_uri": "https://localhost:8080/"
        },
        "id": "5954047c-ec79-47ec-98fa-44c74b492140",
        "outputId": "aa0a572a-36cd-4778-883c-4668bbcb5556"
      },
      "outputs": [
        {
          "data": {
            "text/plain": [
              "{Param(parent='MedicalNerModel_5a7a3c15ca97', name='inferenceBatchSize', doc='number of sentences to process in a single batch during inference'): 1,\n",
              " Param(parent='MedicalNerModel_5a7a3c15ca97', name='labelCasing', doc='Setting all labels of the NER models upper/lower case. values upper|lower'): '',\n",
              " Param(parent='MedicalNerModel_5a7a3c15ca97', name='lazyAnnotator', doc='Whether this AnnotatorModel acts as lazy in RecursivePipelines'): False,\n",
              " Param(parent='MedicalNerModel_5a7a3c15ca97', name='includeConfidence', doc='whether to include confidence scores in annotation metadata'): True,\n",
              " Param(parent='MedicalNerModel_5a7a3c15ca97', name='includeAllConfidenceScores', doc='whether to include all confidence scores in annotation metadata or just the score of the predicted tag'): False,\n",
              " Param(parent='MedicalNerModel_5a7a3c15ca97', name='batchSize', doc='Size of every batch'): 128,\n",
              " Param(parent='MedicalNerModel_5a7a3c15ca97', name='classes', doc='get the tags used to trained this MedicalNerModel'): ['O',\n",
              "  'B-ORG',\n",
              "  'I-ORG',\n",
              "  'B-PER',\n",
              "  'I-PER',\n",
              "  'B-LOC',\n",
              "  'I-LOC'],\n",
              " Param(parent='MedicalNerModel_5a7a3c15ca97', name='inputCols', doc='previous annotations columns, if renamed'): ['sentence',\n",
              "  'token',\n",
              "  'embeddings'],\n",
              " Param(parent='MedicalNerModel_5a7a3c15ca97', name='outputCol', doc='output annotation column. can be left default.'): 'ner',\n",
              " Param(parent='MedicalNerModel_5a7a3c15ca97', name='storageRef', doc='unique reference name for identification'): 'bert_embeddings_legal_bert_base_uncased_en'}"
            ]
          },
          "execution_count": 10,
          "metadata": {},
          "output_type": "execute_result"
        },
        {
          "data": {
            "text/plain": [
              "{Param(parent='MedicalNerModel_5a7a3c15ca97', name='inferenceBatchSize', doc='number of sentences to process in a single batch during inference'): 1,\n",
              " Param(parent='MedicalNerModel_5a7a3c15ca97', name='labelCasing', doc='Setting all labels of the NER models upper/lower case. values upper|lower'): '',\n",
              " Param(parent='MedicalNerModel_5a7a3c15ca97', name='lazyAnnotator', doc='Whether this AnnotatorModel acts as lazy in RecursivePipelines'): False,\n",
              " Param(parent='MedicalNerModel_5a7a3c15ca97', name='includeConfidence', doc='whether to include confidence scores in annotation metadata'): True,\n",
              " Param(parent='MedicalNerModel_5a7a3c15ca97', name='includeAllConfidenceScores', doc='whether to include all confidence scores in annotation metadata or just the score of the predicted tag'): False,\n",
              " Param(parent='MedicalNerModel_5a7a3c15ca97', name='batchSize', doc='Size of every batch'): 128,\n",
              " Param(parent='MedicalNerModel_5a7a3c15ca97', name='classes', doc='get the tags used to trained this MedicalNerModel'): ['O',\n",
              "  'B-ORG',\n",
              "  'I-ORG',\n",
              "  'B-PER',\n",
              "  'I-PER',\n",
              "  'B-LOC',\n",
              "  'I-LOC'],\n",
              " Param(parent='MedicalNerModel_5a7a3c15ca97', name='inputCols', doc='previous annotations columns, if renamed'): ['sentence',\n",
              "  'token',\n",
              "  'embeddings'],\n",
              " Param(parent='MedicalNerModel_5a7a3c15ca97', name='outputCol', doc='output annotation column. can be left default.'): 'ner',\n",
              " Param(parent='MedicalNerModel_5a7a3c15ca97', name='storageRef', doc='unique reference name for identification'): 'bert_embeddings_legal_bert_base_uncased_en'}"
            ]
          },
          "execution_count": 38,
          "metadata": {},
          "output_type": "execute_result"
        }
      ],
      "source": [
        "ner_model.extractParamMap()\n",
        "\n",
        "# With extractParamMap() function, you can see the parameters of any annotators you are using."
      ]
    },
    {
      "cell_type": "markdown",
      "id": "9e7d801c-fcc0-458c-9835-b6cbb0149f38",
      "metadata": {
        "id": "9e7d801c-fcc0-458c-9835-b6cbb0149f38"
      },
      "source": [
        "####📚 Sample Text"
      ]
    },
    {
      "cell_type": "code",
      "execution_count": null,
      "id": "00d74636-3490-4a24-9dc2-4f3f023c8909",
      "metadata": {
        "id": "00d74636-3490-4a24-9dc2-4f3f023c8909"
      },
      "outputs": [],
      "source": [
        "text ='''December 2007 SUBORDINATED LOAN AGREEMENT. THIS LOAN AGREEMENT is made on 7th December, 2007 BETWEEN: (1) SILICIUM DE PROVENCE S.A.S., a private company with limited liability, incorporated under the laws of France, whose registered office is situated at Usine de Saint Auban, France, represented by Mr.Frank Wouters, hereinafter referred to as the \"Borrower\", and ( 2 ) EVERGREEN SOLAR INC., a company incorporated in Delaware, U.S.A., with registered number 2426798, whose registered office is situated at Bartlett Street, Marlboro, Massachusetts, U.S.A. represented by Richard Chleboski, hereinafter referred to as \"Lender\" '''\n",
        "\n",
        "df = spark.createDataFrame([[text]]).toDF(\"text\")\n",
        "\n",
        "result = model.transform(df)"
      ]
    },
    {
      "cell_type": "markdown",
      "id": "4c7c211c-448e-494f-9f83-3274b9ca0aba",
      "metadata": {
        "id": "4c7c211c-448e-494f-9f83-3274b9ca0aba"
      },
      "source": [
        "####🖨️ Getting Result"
      ]
    },
    {
      "cell_type": "code",
      "execution_count": null,
      "id": "ec9a99c6-4d22-4837-aed9-425b8f9efed6",
      "metadata": {
        "colab": {
          "base_uri": "https://localhost:8080/"
        },
        "collapsed": true,
        "id": "ec9a99c6-4d22-4837-aed9-425b8f9efed6",
        "outputId": "813e9432-8362-4642-8e5b-6e780495538c"
      },
      "outputs": [
        {
          "name": "stdout",
          "output_type": "stream",
          "text": [
            "+-------------+---------+----------+\n",
            "|        token|ner_label|confidence|\n",
            "+-------------+---------+----------+\n",
            "|     December|        O|       1.0|\n",
            "|         2007|        O|       1.0|\n",
            "| SUBORDINATED|        O|    0.9933|\n",
            "|         LOAN|        O|    0.8545|\n",
            "|    AGREEMENT|        O|    0.9997|\n",
            "|            .|        O|    0.9999|\n",
            "|         THIS|        O|       1.0|\n",
            "|         LOAN|        O|       1.0|\n",
            "|    AGREEMENT|        O|       1.0|\n",
            "|           is|        O|       1.0|\n",
            "|         made|        O|       1.0|\n",
            "|           on|        O|       1.0|\n",
            "|          7th|        O|       1.0|\n",
            "|     December|        O|       1.0|\n",
            "|            ,|        O|       1.0|\n",
            "|         2007|        O|       1.0|\n",
            "|      BETWEEN|        O|       1.0|\n",
            "|            :|        O|       1.0|\n",
            "|            (|        O|       1.0|\n",
            "|            1|        O|       1.0|\n",
            "|            )|        O|       1.0|\n",
            "|     SILICIUM|    B-ORG|    0.9569|\n",
            "|           DE|    I-ORG|    0.8519|\n",
            "|     PROVENCE|    I-ORG|    0.9618|\n",
            "|        S.A.S|    I-ORG|    0.9977|\n",
            "|           .,|        O|    0.9998|\n",
            "|            a|        O|       1.0|\n",
            "|      private|        O|       1.0|\n",
            "|      company|        O|       1.0|\n",
            "|         with|        O|       1.0|\n",
            "|      limited|        O|       1.0|\n",
            "|    liability|        O|       1.0|\n",
            "|            ,|        O|       1.0|\n",
            "| incorporated|        O|       1.0|\n",
            "|        under|        O|       1.0|\n",
            "|          the|        O|       1.0|\n",
            "|         laws|        O|       1.0|\n",
            "|           of|        O|       1.0|\n",
            "|       France|    B-LOC|    0.9921|\n",
            "|            ,|        O|       1.0|\n",
            "|        whose|        O|       1.0|\n",
            "|   registered|        O|       1.0|\n",
            "|       office|        O|       1.0|\n",
            "|           is|        O|       1.0|\n",
            "|     situated|        O|       1.0|\n",
            "|           at|        O|       1.0|\n",
            "|        Usine|    B-LOC|    0.9698|\n",
            "|           de|    I-LOC|    0.9942|\n",
            "|        Saint|    I-LOC|    0.9949|\n",
            "|        Auban|    I-LOC|    0.9983|\n",
            "|            ,|        O|     0.999|\n",
            "|       France|    B-LOC|    0.9928|\n",
            "|            ,|        O|    0.9999|\n",
            "|  represented|        O|       1.0|\n",
            "|           by|        O|       1.0|\n",
            "|     Mr.Frank|    B-PER|    0.9707|\n",
            "|      Wouters|    I-PER|    0.9992|\n",
            "|            ,|        O|       1.0|\n",
            "|  hereinafter|        O|       1.0|\n",
            "|     referred|        O|       1.0|\n",
            "|           to|        O|    0.9999|\n",
            "|           as|        O|       1.0|\n",
            "|          the|        O|       1.0|\n",
            "|            \"|        O|       1.0|\n",
            "|     Borrower|    B-PER|    0.9982|\n",
            "|           \",|        O|       1.0|\n",
            "|          and|        O|       1.0|\n",
            "|            (|        O|       1.0|\n",
            "|            2|        O|       1.0|\n",
            "|            )|        O|       1.0|\n",
            "|    EVERGREEN|    B-ORG|    0.9991|\n",
            "|        SOLAR|    I-ORG|    0.9996|\n",
            "|          INC|    I-ORG|    0.9999|\n",
            "|            .|        O|    0.9995|\n",
            "|            ,|        O|       1.0|\n",
            "|            a|        O|       1.0|\n",
            "|      company|        O|       1.0|\n",
            "| incorporated|        O|       1.0|\n",
            "|           in|        O|       1.0|\n",
            "|     Delaware|    B-LOC|    0.9976|\n",
            "|            ,|        O|       1.0|\n",
            "|        U.S.A|    B-LOC|    0.9998|\n",
            "|           .,|        O|    0.9999|\n",
            "|         with|        O|       1.0|\n",
            "|   registered|        O|       1.0|\n",
            "|       number|        O|       1.0|\n",
            "|      2426798|        O|       1.0|\n",
            "|            ,|        O|       1.0|\n",
            "|        whose|        O|       1.0|\n",
            "|   registered|        O|       1.0|\n",
            "|       office|        O|       1.0|\n",
            "|           is|        O|       1.0|\n",
            "|     situated|        O|    0.9998|\n",
            "|           at|        O|    0.9993|\n",
            "|     Bartlett|    B-LOC|    0.9982|\n",
            "|       Street|    I-LOC|       1.0|\n",
            "|            ,|        O|    0.9903|\n",
            "|     Marlboro|    B-LOC|    0.9923|\n",
            "|            ,|        O|    0.9987|\n",
            "|Massachusetts|    B-LOC|    0.6154|\n",
            "|            ,|        O|    0.9992|\n",
            "|        U.S.A|    B-LOC|    0.9995|\n",
            "|            .|        O|    0.9978|\n",
            "|  represented|        O|       1.0|\n",
            "|           by|        O|       1.0|\n",
            "|      Richard|    B-PER|       1.0|\n",
            "|    Chleboski|    I-PER|    0.9994|\n",
            "|            ,|        O|       1.0|\n",
            "|  hereinafter|        O|       1.0|\n",
            "|     referred|        O|       1.0|\n",
            "|           to|        O|     0.999|\n",
            "|           as|        O|    0.9999|\n",
            "|            \"|        O|       1.0|\n",
            "|       Lender|    B-PER|    0.9998|\n",
            "|            \"|        O|    0.9997|\n",
            "+-------------+---------+----------+\n",
            "\n",
            "+-------------+---------+----------+\n",
            "|        token|ner_label|confidence|\n",
            "+-------------+---------+----------+\n",
            "|     December|        O|       1.0|\n",
            "|         2007|        O|       1.0|\n",
            "| SUBORDINATED|        O|    0.9933|\n",
            "|         LOAN|        O|    0.8545|\n",
            "|    AGREEMENT|        O|    0.9997|\n",
            "|            .|        O|    0.9999|\n",
            "|         THIS|        O|       1.0|\n",
            "|         LOAN|        O|       1.0|\n",
            "|    AGREEMENT|        O|       1.0|\n",
            "|           is|        O|       1.0|\n",
            "|         made|        O|       1.0|\n",
            "|           on|        O|       1.0|\n",
            "|          7th|        O|       1.0|\n",
            "|     December|        O|       1.0|\n",
            "|            ,|        O|       1.0|\n",
            "|         2007|        O|       1.0|\n",
            "|      BETWEEN|        O|       1.0|\n",
            "|            :|        O|       1.0|\n",
            "|            (|        O|       1.0|\n",
            "|            1|        O|       1.0|\n",
            "|            )|        O|       1.0|\n",
            "|     SILICIUM|    B-ORG|    0.9569|\n",
            "|           DE|    I-ORG|    0.8519|\n",
            "|     PROVENCE|    I-ORG|    0.9618|\n",
            "|        S.A.S|    I-ORG|    0.9977|\n",
            "|           .,|        O|    0.9998|\n",
            "|            a|        O|       1.0|\n",
            "|      private|        O|       1.0|\n",
            "|      company|        O|       1.0|\n",
            "|         with|        O|       1.0|\n",
            "|      limited|        O|       1.0|\n",
            "|    liability|        O|       1.0|\n",
            "|            ,|        O|       1.0|\n",
            "| incorporated|        O|       1.0|\n",
            "|        under|        O|       1.0|\n",
            "|          the|        O|       1.0|\n",
            "|         laws|        O|       1.0|\n",
            "|           of|        O|       1.0|\n",
            "|       France|    B-LOC|    0.9921|\n",
            "|            ,|        O|       1.0|\n",
            "|        whose|        O|       1.0|\n",
            "|   registered|        O|       1.0|\n",
            "|       office|        O|       1.0|\n",
            "|           is|        O|       1.0|\n",
            "|     situated|        O|       1.0|\n",
            "|           at|        O|       1.0|\n",
            "|        Usine|    B-LOC|    0.9698|\n",
            "|           de|    I-LOC|    0.9942|\n",
            "|        Saint|    I-LOC|    0.9949|\n",
            "|        Auban|    I-LOC|    0.9983|\n",
            "|            ,|        O|     0.999|\n",
            "|       France|    B-LOC|    0.9928|\n",
            "|            ,|        O|    0.9999|\n",
            "|  represented|        O|       1.0|\n",
            "|           by|        O|       1.0|\n",
            "|     Mr.Frank|    B-PER|    0.9707|\n",
            "|      Wouters|    I-PER|    0.9992|\n",
            "|            ,|        O|       1.0|\n",
            "|  hereinafter|        O|       1.0|\n",
            "|     referred|        O|       1.0|\n",
            "|           to|        O|    0.9999|\n",
            "|           as|        O|       1.0|\n",
            "|          the|        O|       1.0|\n",
            "|            \"|        O|       1.0|\n",
            "|     Borrower|    B-PER|    0.9982|\n",
            "|           \",|        O|       1.0|\n",
            "|          and|        O|       1.0|\n",
            "|            (|        O|       1.0|\n",
            "|            2|        O|       1.0|\n",
            "|            )|        O|       1.0|\n",
            "|    EVERGREEN|    B-ORG|    0.9991|\n",
            "|        SOLAR|    I-ORG|    0.9996|\n",
            "|          INC|    I-ORG|    0.9999|\n",
            "|            .|        O|    0.9995|\n",
            "|            ,|        O|       1.0|\n",
            "|            a|        O|       1.0|\n",
            "|      company|        O|       1.0|\n",
            "| incorporated|        O|       1.0|\n",
            "|           in|        O|       1.0|\n",
            "|     Delaware|    B-LOC|    0.9976|\n",
            "|            ,|        O|       1.0|\n",
            "|        U.S.A|    B-LOC|    0.9998|\n",
            "|           .,|        O|    0.9999|\n",
            "|         with|        O|       1.0|\n",
            "|   registered|        O|       1.0|\n",
            "|       number|        O|       1.0|\n",
            "|      2426798|        O|       1.0|\n",
            "|            ,|        O|       1.0|\n",
            "|        whose|        O|       1.0|\n",
            "|   registered|        O|       1.0|\n",
            "|       office|        O|       1.0|\n",
            "|           is|        O|       1.0|\n",
            "|     situated|        O|    0.9998|\n",
            "|           at|        O|    0.9993|\n",
            "|     Bartlett|    B-LOC|    0.9982|\n",
            "|       Street|    I-LOC|       1.0|\n",
            "|            ,|        O|    0.9903|\n",
            "|     Marlboro|    B-LOC|    0.9923|\n",
            "|            ,|        O|    0.9987|\n",
            "|Massachusetts|    B-LOC|    0.6154|\n",
            "|            ,|        O|    0.9992|\n",
            "|        U.S.A|    B-LOC|    0.9995|\n",
            "|            .|        O|    0.9978|\n",
            "|  represented|        O|       1.0|\n",
            "|           by|        O|       1.0|\n",
            "|      Richard|    B-PER|       1.0|\n",
            "|    Chleboski|    I-PER|    0.9994|\n",
            "|            ,|        O|       1.0|\n",
            "|  hereinafter|        O|       1.0|\n",
            "|     referred|        O|       1.0|\n",
            "|           to|        O|     0.999|\n",
            "|           as|        O|    0.9999|\n",
            "|            \"|        O|       1.0|\n",
            "|       Lender|    B-PER|    0.9998|\n",
            "|            \"|        O|    0.9997|\n",
            "+-------------+---------+----------+\n",
            "\n"
          ]
        }
      ],
      "source": [
        "result.select(F.explode(F.arrays_zip(result.token.result, result.ner.result, result.ner.metadata)).alias(\"cols\"))\\\n",
        "                  .select(F.expr(\"cols['0']\").alias(\"token\"),\n",
        "                          F.expr(\"cols['1']\").alias(\"ner_label\"),\n",
        "                          F.expr(\"cols['2']['confidence']\").alias(\"confidence\")).show(200, truncate=100)"
      ]
    },
    {
      "cell_type": "code",
      "execution_count": null,
      "id": "865dce29-ece0-45f6-8f5b-9028292523f0",
      "metadata": {
        "colab": {
          "base_uri": "https://localhost:8080/"
        },
        "id": "865dce29-ece0-45f6-8f5b-9028292523f0",
        "outputId": "5bfe116f-3650-4415-aa7e-b87b36aff3b7"
      },
      "outputs": [
        {
          "name": "stdout",
          "output_type": "stream",
          "text": [
            "+--------------------------+---------+----------+\n",
            "|chunk                     |ner_label|confidence|\n",
            "+--------------------------+---------+----------+\n",
            "|SILICIUM DE PROVENCE S.A.S|ORG      |0.94207495|\n",
            "|France                    |LOC      |0.9921    |\n",
            "|Usine de Saint Auban      |LOC      |0.9893    |\n",
            "|France                    |LOC      |0.9928    |\n",
            "|Mr.Frank Wouters          |PER      |0.98495   |\n",
            "|Borrower                  |PER      |0.9982    |\n",
            "|EVERGREEN SOLAR INC       |ORG      |0.99953336|\n",
            "|Delaware                  |LOC      |0.9976    |\n",
            "|U.S.A                     |LOC      |0.9998    |\n",
            "|Bartlett Street           |LOC      |0.99909997|\n",
            "|Marlboro                  |LOC      |0.9923    |\n",
            "|Massachusetts             |LOC      |0.6154    |\n",
            "|U.S.A                     |LOC      |0.9995    |\n",
            "|Richard Chleboski         |PER      |0.9997    |\n",
            "|Lender                    |PER      |0.9998    |\n",
            "+--------------------------+---------+----------+\n",
            "\n",
            "+--------------------------+---------+----------+\n",
            "|chunk                     |ner_label|confidence|\n",
            "+--------------------------+---------+----------+\n",
            "|SILICIUM DE PROVENCE S.A.S|ORG      |0.94207495|\n",
            "|France                    |LOC      |0.9921    |\n",
            "|Usine de Saint Auban      |LOC      |0.9893    |\n",
            "|France                    |LOC      |0.9928    |\n",
            "|Mr.Frank Wouters          |PER      |0.98495   |\n",
            "|Borrower                  |PER      |0.9982    |\n",
            "|EVERGREEN SOLAR INC       |ORG      |0.99953336|\n",
            "|Delaware                  |LOC      |0.9976    |\n",
            "|U.S.A                     |LOC      |0.9998    |\n",
            "|Bartlett Street           |LOC      |0.99909997|\n",
            "|Marlboro                  |LOC      |0.9923    |\n",
            "|Massachusetts             |LOC      |0.6154    |\n",
            "|U.S.A                     |LOC      |0.9995    |\n",
            "|Richard Chleboski         |PER      |0.9997    |\n",
            "|Lender                    |PER      |0.9998    |\n",
            "+--------------------------+---------+----------+\n",
            "\n"
          ]
        }
      ],
      "source": [
        "result.select(F.explode(F.arrays_zip(result.ner_chunk.result, result.ner_chunk.metadata)).alias(\"cols\")) \\\n",
        "      .select(F.expr(\"cols['0']\").alias(\"chunk\"),\n",
        "              F.expr(\"cols['1']['entity']\").alias(\"ner_label\"),\n",
        "              F.expr(\"cols['1']['confidence']\").alias(\"confidence\")).show(truncate=False)"
      ]
    },
    {
      "cell_type": "markdown",
      "id": "b47e34e0-3633-4202-afdf-63a0f2475520",
      "metadata": {
        "id": "b47e34e0-3633-4202-afdf-63a0f2475520"
      },
      "source": [
        "####🖨️ Getting Result with LightPipeline\n",
        "\n",
        "LightPipelines are Spark NLP specific Pipelines, equivalent to Spark ML Pipeline, but meant to deal with smaller amounts of data. They’re useful working with small datasets, debugging results, or when running either training or prediction from an API that serves one-off requests.\n",
        "\n",
        "Spark NLP LightPipelines are Spark ML pipelines converted into a single machine but the multi-threaded task, becoming more than 10x times faster for smaller amounts of data (small is relative, but 50k sentences are roughly a good maximum). To use them, we simply plug in a trained (fitted) pipeline and then annotate a plain text. We don't even need to convert the input text to DataFrame in order to feed it into a pipeline that's accepting DataFrame as an input in the first place. This feature would be quite useful when it comes to getting a prediction for a few lines of text from a trained ML model.\n",
        "\n",
        " **It is nearly 10x faster than using Spark ML Pipeline**\n",
        "\n",
        "For more details:\n",
        "[https://medium.com/spark-nlp/spark-nlp-101-lightpipeline-a544e93f20f1](https://medium.com/spark-nlp/spark-nlp-101-lightpipeline-a544e93f20f1)"
      ]
    },
    {
      "cell_type": "code",
      "execution_count": null,
      "id": "f9i3nGuViP6v",
      "metadata": {
        "id": "f9i3nGuViP6v"
      },
      "outputs": [],
      "source": [
        "import pandas as pd"
      ]
    },
    {
      "cell_type": "code",
      "execution_count": null,
      "id": "f22dd0c2-c63d-43c8-bc96-2f7cead3553b",
      "metadata": {
        "colab": {
          "base_uri": "https://localhost:8080/",
          "height": 1000
        },
        "id": "f22dd0c2-c63d-43c8-bc96-2f7cead3553b",
        "outputId": "c1f9ffaa-d8cb-4953-e764-9a4b11ecbb31"
      },
      "outputs": [
        {
          "data": {
            "text/html": [
              "\n",
              "  <div id=\"df-63f06f13-0e55-4526-b12f-55925fc5b02b\">\n",
              "    <div class=\"colab-df-container\">\n",
              "      <div>\n",
              "<style scoped>\n",
              "    .dataframe tbody tr th:only-of-type {\n",
              "        vertical-align: middle;\n",
              "    }\n",
              "\n",
              "    .dataframe tbody tr th {\n",
              "        vertical-align: top;\n",
              "    }\n",
              "\n",
              "    .dataframe thead th {\n",
              "        text-align: right;\n",
              "    }\n",
              "</style>\n",
              "<table border=\"1\" class=\"dataframe\">\n",
              "  <thead>\n",
              "    <tr style=\"text-align: right;\">\n",
              "      <th></th>\n",
              "      <th>chunks</th>\n",
              "      <th>begin</th>\n",
              "      <th>end</th>\n",
              "      <th>sentence_id</th>\n",
              "      <th>entities</th>\n",
              "    </tr>\n",
              "  </thead>\n",
              "  <tbody>\n",
              "    <tr>\n",
              "      <th>0</th>\n",
              "      <td>SILICIUM DE PROVENCE S.A.S</td>\n",
              "      <td>106</td>\n",
              "      <td>131</td>\n",
              "      <td>1</td>\n",
              "      <td>ORG</td>\n",
              "    </tr>\n",
              "    <tr>\n",
              "      <th>1</th>\n",
              "      <td>France</td>\n",
              "      <td>208</td>\n",
              "      <td>213</td>\n",
              "      <td>1</td>\n",
              "      <td>LOC</td>\n",
              "    </tr>\n",
              "    <tr>\n",
              "      <th>2</th>\n",
              "      <td>Usine de Saint Auban</td>\n",
              "      <td>255</td>\n",
              "      <td>274</td>\n",
              "      <td>1</td>\n",
              "      <td>LOC</td>\n",
              "    </tr>\n",
              "    <tr>\n",
              "      <th>3</th>\n",
              "      <td>France</td>\n",
              "      <td>277</td>\n",
              "      <td>282</td>\n",
              "      <td>1</td>\n",
              "      <td>LOC</td>\n",
              "    </tr>\n",
              "    <tr>\n",
              "      <th>4</th>\n",
              "      <td>Mr.Frank Wouters</td>\n",
              "      <td>300</td>\n",
              "      <td>315</td>\n",
              "      <td>1</td>\n",
              "      <td>PER</td>\n",
              "    </tr>\n",
              "    <tr>\n",
              "      <th>5</th>\n",
              "      <td>Borrower</td>\n",
              "      <td>350</td>\n",
              "      <td>357</td>\n",
              "      <td>1</td>\n",
              "      <td>PER</td>\n",
              "    </tr>\n",
              "    <tr>\n",
              "      <th>6</th>\n",
              "      <td>EVERGREEN SOLAR INC</td>\n",
              "      <td>371</td>\n",
              "      <td>389</td>\n",
              "      <td>1</td>\n",
              "      <td>ORG</td>\n",
              "    </tr>\n",
              "    <tr>\n",
              "      <th>7</th>\n",
              "      <td>Delaware</td>\n",
              "      <td>419</td>\n",
              "      <td>426</td>\n",
              "      <td>2</td>\n",
              "      <td>LOC</td>\n",
              "    </tr>\n",
              "    <tr>\n",
              "      <th>8</th>\n",
              "      <td>U.S.A</td>\n",
              "      <td>429</td>\n",
              "      <td>433</td>\n",
              "      <td>2</td>\n",
              "      <td>LOC</td>\n",
              "    </tr>\n",
              "    <tr>\n",
              "      <th>9</th>\n",
              "      <td>Bartlett Street</td>\n",
              "      <td>508</td>\n",
              "      <td>522</td>\n",
              "      <td>2</td>\n",
              "      <td>LOC</td>\n",
              "    </tr>\n",
              "    <tr>\n",
              "      <th>10</th>\n",
              "      <td>Marlboro</td>\n",
              "      <td>525</td>\n",
              "      <td>532</td>\n",
              "      <td>2</td>\n",
              "      <td>LOC</td>\n",
              "    </tr>\n",
              "    <tr>\n",
              "      <th>11</th>\n",
              "      <td>Massachusetts</td>\n",
              "      <td>535</td>\n",
              "      <td>547</td>\n",
              "      <td>2</td>\n",
              "      <td>LOC</td>\n",
              "    </tr>\n",
              "    <tr>\n",
              "      <th>12</th>\n",
              "      <td>U.S.A</td>\n",
              "      <td>550</td>\n",
              "      <td>554</td>\n",
              "      <td>2</td>\n",
              "      <td>LOC</td>\n",
              "    </tr>\n",
              "    <tr>\n",
              "      <th>13</th>\n",
              "      <td>Richard Chleboski</td>\n",
              "      <td>572</td>\n",
              "      <td>588</td>\n",
              "      <td>2</td>\n",
              "      <td>PER</td>\n",
              "    </tr>\n",
              "    <tr>\n",
              "      <th>14</th>\n",
              "      <td>Lender</td>\n",
              "      <td>619</td>\n",
              "      <td>624</td>\n",
              "      <td>2</td>\n",
              "      <td>PER</td>\n",
              "    </tr>\n",
              "  </tbody>\n",
              "</table>\n",
              "</div>\n",
              "      <button class=\"colab-df-convert\" onclick=\"convertToInteractive('df-63f06f13-0e55-4526-b12f-55925fc5b02b')\"\n",
              "              title=\"Convert this dataframe to an interactive table.\"\n",
              "              style=\"display:none;\">\n",
              "        \n",
              "  <svg xmlns=\"http://www.w3.org/2000/svg\" height=\"24px\"viewBox=\"0 0 24 24\"\n",
              "       width=\"24px\">\n",
              "    <path d=\"M0 0h24v24H0V0z\" fill=\"none\"/>\n",
              "    <path d=\"M18.56 5.44l.94 2.06.94-2.06 2.06-.94-2.06-.94-.94-2.06-.94 2.06-2.06.94zm-11 1L8.5 8.5l.94-2.06 2.06-.94-2.06-.94L8.5 2.5l-.94 2.06-2.06.94zm10 10l.94 2.06.94-2.06 2.06-.94-2.06-.94-.94-2.06-.94 2.06-2.06.94z\"/><path d=\"M17.41 7.96l-1.37-1.37c-.4-.4-.92-.59-1.43-.59-.52 0-1.04.2-1.43.59L10.3 9.45l-7.72 7.72c-.78.78-.78 2.05 0 2.83L4 21.41c.39.39.9.59 1.41.59.51 0 1.02-.2 1.41-.59l7.78-7.78 2.81-2.81c.8-.78.8-2.07 0-2.86zM5.41 20L4 18.59l7.72-7.72 1.47 1.35L5.41 20z\"/>\n",
              "  </svg>\n",
              "      </button>\n",
              "      \n",
              "  <style>\n",
              "    .colab-df-container {\n",
              "      display:flex;\n",
              "      flex-wrap:wrap;\n",
              "      gap: 12px;\n",
              "    }\n",
              "\n",
              "    .colab-df-convert {\n",
              "      background-color: #E8F0FE;\n",
              "      border: none;\n",
              "      border-radius: 50%;\n",
              "      cursor: pointer;\n",
              "      display: none;\n",
              "      fill: #1967D2;\n",
              "      height: 32px;\n",
              "      padding: 0 0 0 0;\n",
              "      width: 32px;\n",
              "    }\n",
              "\n",
              "    .colab-df-convert:hover {\n",
              "      background-color: #E2EBFA;\n",
              "      box-shadow: 0px 1px 2px rgba(60, 64, 67, 0.3), 0px 1px 3px 1px rgba(60, 64, 67, 0.15);\n",
              "      fill: #174EA6;\n",
              "    }\n",
              "\n",
              "    [theme=dark] .colab-df-convert {\n",
              "      background-color: #3B4455;\n",
              "      fill: #D2E3FC;\n",
              "    }\n",
              "\n",
              "    [theme=dark] .colab-df-convert:hover {\n",
              "      background-color: #434B5C;\n",
              "      box-shadow: 0px 1px 3px 1px rgba(0, 0, 0, 0.15);\n",
              "      filter: drop-shadow(0px 1px 2px rgba(0, 0, 0, 0.3));\n",
              "      fill: #FFFFFF;\n",
              "    }\n",
              "  </style>\n",
              "\n",
              "      <script>\n",
              "        const buttonEl =\n",
              "          document.querySelector('#df-63f06f13-0e55-4526-b12f-55925fc5b02b button.colab-df-convert');\n",
              "        buttonEl.style.display =\n",
              "          google.colab.kernel.accessAllowed ? 'block' : 'none';\n",
              "\n",
              "        async function convertToInteractive(key) {\n",
              "          const element = document.querySelector('#df-63f06f13-0e55-4526-b12f-55925fc5b02b');\n",
              "          const dataTable =\n",
              "            await google.colab.kernel.invokeFunction('convertToInteractive',\n",
              "                                                     [key], {});\n",
              "          if (!dataTable) return;\n",
              "\n",
              "          const docLinkHtml = 'Like what you see? Visit the ' +\n",
              "            '<a target=\"_blank\" href=https://colab.research.google.com/notebooks/data_table.ipynb>data table notebook</a>'\n",
              "            + ' to learn more about interactive tables.';\n",
              "          element.innerHTML = '';\n",
              "          dataTable['output_type'] = 'display_data';\n",
              "          await google.colab.output.renderOutput(dataTable, element);\n",
              "          const docLink = document.createElement('div');\n",
              "          docLink.innerHTML = docLinkHtml;\n",
              "          element.appendChild(docLink);\n",
              "        }\n",
              "      </script>\n",
              "    </div>\n",
              "  </div>\n",
              "  "
            ],
            "text/plain": [
              "                        chunks  begin  end sentence_id entities\n",
              "0   SILICIUM DE PROVENCE S.A.S    106  131           1      ORG\n",
              "1                       France    208  213           1      LOC\n",
              "2         Usine de Saint Auban    255  274           1      LOC\n",
              "3                       France    277  282           1      LOC\n",
              "4             Mr.Frank Wouters    300  315           1      PER\n",
              "5                     Borrower    350  357           1      PER\n",
              "6          EVERGREEN SOLAR INC    371  389           1      ORG\n",
              "7                     Delaware    419  426           2      LOC\n",
              "8                        U.S.A    429  433           2      LOC\n",
              "9              Bartlett Street    508  522           2      LOC\n",
              "10                    Marlboro    525  532           2      LOC\n",
              "11               Massachusetts    535  547           2      LOC\n",
              "12                       U.S.A    550  554           2      LOC\n",
              "13           Richard Chleboski    572  588           2      PER\n",
              "14                      Lender    619  624           2      PER"
            ]
          },
          "execution_count": 15,
          "metadata": {},
          "output_type": "execute_result"
        },
        {
          "data": {
            "text/html": [
              "\n",
              "  <div id=\"df-5958c151-1a32-4988-bae7-d15f81779b93\">\n",
              "    <div class=\"colab-df-container\">\n",
              "      <div>\n",
              "<style scoped>\n",
              "    .dataframe tbody tr th:only-of-type {\n",
              "        vertical-align: middle;\n",
              "    }\n",
              "\n",
              "    .dataframe tbody tr th {\n",
              "        vertical-align: top;\n",
              "    }\n",
              "\n",
              "    .dataframe thead th {\n",
              "        text-align: right;\n",
              "    }\n",
              "</style>\n",
              "<table border=\"1\" class=\"dataframe\">\n",
              "  <thead>\n",
              "    <tr style=\"text-align: right;\">\n",
              "      <th></th>\n",
              "      <th>chunks</th>\n",
              "      <th>begin</th>\n",
              "      <th>end</th>\n",
              "      <th>sentence_id</th>\n",
              "      <th>entities</th>\n",
              "    </tr>\n",
              "  </thead>\n",
              "  <tbody>\n",
              "    <tr>\n",
              "      <th>0</th>\n",
              "      <td>SILICIUM DE PROVENCE S.A.S</td>\n",
              "      <td>106</td>\n",
              "      <td>131</td>\n",
              "      <td>1</td>\n",
              "      <td>ORG</td>\n",
              "    </tr>\n",
              "    <tr>\n",
              "      <th>1</th>\n",
              "      <td>France</td>\n",
              "      <td>208</td>\n",
              "      <td>213</td>\n",
              "      <td>1</td>\n",
              "      <td>LOC</td>\n",
              "    </tr>\n",
              "    <tr>\n",
              "      <th>2</th>\n",
              "      <td>Usine de Saint Auban</td>\n",
              "      <td>255</td>\n",
              "      <td>274</td>\n",
              "      <td>1</td>\n",
              "      <td>LOC</td>\n",
              "    </tr>\n",
              "    <tr>\n",
              "      <th>3</th>\n",
              "      <td>France</td>\n",
              "      <td>277</td>\n",
              "      <td>282</td>\n",
              "      <td>1</td>\n",
              "      <td>LOC</td>\n",
              "    </tr>\n",
              "    <tr>\n",
              "      <th>4</th>\n",
              "      <td>Mr.Frank Wouters</td>\n",
              "      <td>300</td>\n",
              "      <td>315</td>\n",
              "      <td>1</td>\n",
              "      <td>PER</td>\n",
              "    </tr>\n",
              "    <tr>\n",
              "      <th>5</th>\n",
              "      <td>Borrower</td>\n",
              "      <td>350</td>\n",
              "      <td>357</td>\n",
              "      <td>1</td>\n",
              "      <td>PER</td>\n",
              "    </tr>\n",
              "    <tr>\n",
              "      <th>6</th>\n",
              "      <td>EVERGREEN SOLAR INC</td>\n",
              "      <td>371</td>\n",
              "      <td>389</td>\n",
              "      <td>1</td>\n",
              "      <td>ORG</td>\n",
              "    </tr>\n",
              "    <tr>\n",
              "      <th>7</th>\n",
              "      <td>Delaware</td>\n",
              "      <td>419</td>\n",
              "      <td>426</td>\n",
              "      <td>2</td>\n",
              "      <td>LOC</td>\n",
              "    </tr>\n",
              "    <tr>\n",
              "      <th>8</th>\n",
              "      <td>U.S.A</td>\n",
              "      <td>429</td>\n",
              "      <td>433</td>\n",
              "      <td>2</td>\n",
              "      <td>LOC</td>\n",
              "    </tr>\n",
              "    <tr>\n",
              "      <th>9</th>\n",
              "      <td>Bartlett Street</td>\n",
              "      <td>508</td>\n",
              "      <td>522</td>\n",
              "      <td>2</td>\n",
              "      <td>LOC</td>\n",
              "    </tr>\n",
              "    <tr>\n",
              "      <th>10</th>\n",
              "      <td>Marlboro</td>\n",
              "      <td>525</td>\n",
              "      <td>532</td>\n",
              "      <td>2</td>\n",
              "      <td>LOC</td>\n",
              "    </tr>\n",
              "    <tr>\n",
              "      <th>11</th>\n",
              "      <td>Massachusetts</td>\n",
              "      <td>535</td>\n",
              "      <td>547</td>\n",
              "      <td>2</td>\n",
              "      <td>LOC</td>\n",
              "    </tr>\n",
              "    <tr>\n",
              "      <th>12</th>\n",
              "      <td>U.S.A</td>\n",
              "      <td>550</td>\n",
              "      <td>554</td>\n",
              "      <td>2</td>\n",
              "      <td>LOC</td>\n",
              "    </tr>\n",
              "    <tr>\n",
              "      <th>13</th>\n",
              "      <td>Richard Chleboski</td>\n",
              "      <td>572</td>\n",
              "      <td>588</td>\n",
              "      <td>2</td>\n",
              "      <td>PER</td>\n",
              "    </tr>\n",
              "    <tr>\n",
              "      <th>14</th>\n",
              "      <td>Lender</td>\n",
              "      <td>619</td>\n",
              "      <td>624</td>\n",
              "      <td>2</td>\n",
              "      <td>PER</td>\n",
              "    </tr>\n",
              "  </tbody>\n",
              "</table>\n",
              "</div>\n",
              "      <button class=\"colab-df-convert\" onclick=\"convertToInteractive('df-5958c151-1a32-4988-bae7-d15f81779b93')\"\n",
              "              title=\"Convert this dataframe to an interactive table.\"\n",
              "              style=\"display:none;\">\n",
              "        \n",
              "  <svg xmlns=\"http://www.w3.org/2000/svg\" height=\"24px\"viewBox=\"0 0 24 24\"\n",
              "       width=\"24px\">\n",
              "    <path d=\"M0 0h24v24H0V0z\" fill=\"none\"/>\n",
              "    <path d=\"M18.56 5.44l.94 2.06.94-2.06 2.06-.94-2.06-.94-.94-2.06-.94 2.06-2.06.94zm-11 1L8.5 8.5l.94-2.06 2.06-.94-2.06-.94L8.5 2.5l-.94 2.06-2.06.94zm10 10l.94 2.06.94-2.06 2.06-.94-2.06-.94-.94-2.06-.94 2.06-2.06.94z\"/><path d=\"M17.41 7.96l-1.37-1.37c-.4-.4-.92-.59-1.43-.59-.52 0-1.04.2-1.43.59L10.3 9.45l-7.72 7.72c-.78.78-.78 2.05 0 2.83L4 21.41c.39.39.9.59 1.41.59.51 0 1.02-.2 1.41-.59l7.78-7.78 2.81-2.81c.8-.78.8-2.07 0-2.86zM5.41 20L4 18.59l7.72-7.72 1.47 1.35L5.41 20z\"/>\n",
              "  </svg>\n",
              "      </button>\n",
              "      \n",
              "  <style>\n",
              "    .colab-df-container {\n",
              "      display:flex;\n",
              "      flex-wrap:wrap;\n",
              "      gap: 12px;\n",
              "    }\n",
              "\n",
              "    .colab-df-convert {\n",
              "      background-color: #E8F0FE;\n",
              "      border: none;\n",
              "      border-radius: 50%;\n",
              "      cursor: pointer;\n",
              "      display: none;\n",
              "      fill: #1967D2;\n",
              "      height: 32px;\n",
              "      padding: 0 0 0 0;\n",
              "      width: 32px;\n",
              "    }\n",
              "\n",
              "    .colab-df-convert:hover {\n",
              "      background-color: #E2EBFA;\n",
              "      box-shadow: 0px 1px 2px rgba(60, 64, 67, 0.3), 0px 1px 3px 1px rgba(60, 64, 67, 0.15);\n",
              "      fill: #174EA6;\n",
              "    }\n",
              "\n",
              "    [theme=dark] .colab-df-convert {\n",
              "      background-color: #3B4455;\n",
              "      fill: #D2E3FC;\n",
              "    }\n",
              "\n",
              "    [theme=dark] .colab-df-convert:hover {\n",
              "      background-color: #434B5C;\n",
              "      box-shadow: 0px 1px 3px 1px rgba(0, 0, 0, 0.15);\n",
              "      filter: drop-shadow(0px 1px 2px rgba(0, 0, 0, 0.3));\n",
              "      fill: #FFFFFF;\n",
              "    }\n",
              "  </style>\n",
              "\n",
              "      <script>\n",
              "        const buttonEl =\n",
              "          document.querySelector('#df-5958c151-1a32-4988-bae7-d15f81779b93 button.colab-df-convert');\n",
              "        buttonEl.style.display =\n",
              "          google.colab.kernel.accessAllowed ? 'block' : 'none';\n",
              "\n",
              "        async function convertToInteractive(key) {\n",
              "          const element = document.querySelector('#df-5958c151-1a32-4988-bae7-d15f81779b93');\n",
              "          const dataTable =\n",
              "            await google.colab.kernel.invokeFunction('convertToInteractive',\n",
              "                                                     [key], {});\n",
              "          if (!dataTable) return;\n",
              "\n",
              "          const docLinkHtml = 'Like what you see? Visit the ' +\n",
              "            '<a target=\"_blank\" href=https://colab.research.google.com/notebooks/data_table.ipynb>data table notebook</a>'\n",
              "            + ' to learn more about interactive tables.';\n",
              "          element.innerHTML = '';\n",
              "          dataTable['output_type'] = 'display_data';\n",
              "          await google.colab.output.renderOutput(dataTable, element);\n",
              "          const docLink = document.createElement('div');\n",
              "          docLink.innerHTML = docLinkHtml;\n",
              "          element.appendChild(docLink);\n",
              "        }\n",
              "      </script>\n",
              "    </div>\n",
              "  </div>\n",
              "  "
            ],
            "text/plain": [
              "                        chunks  begin  end sentence_id entities\n",
              "0   SILICIUM DE PROVENCE S.A.S    106  131           1      ORG\n",
              "1                       France    208  213           1      LOC\n",
              "2         Usine de Saint Auban    255  274           1      LOC\n",
              "3                       France    277  282           1      LOC\n",
              "4             Mr.Frank Wouters    300  315           1      PER\n",
              "5                     Borrower    350  357           1      PER\n",
              "6          EVERGREEN SOLAR INC    371  389           1      ORG\n",
              "7                     Delaware    419  426           2      LOC\n",
              "8                        U.S.A    429  433           2      LOC\n",
              "9              Bartlett Street    508  522           2      LOC\n",
              "10                    Marlboro    525  532           2      LOC\n",
              "11               Massachusetts    535  547           2      LOC\n",
              "12                       U.S.A    550  554           2      LOC\n",
              "13           Richard Chleboski    572  588           2      PER\n",
              "14                      Lender    619  624           2      PER"
            ]
          },
          "execution_count": 43,
          "metadata": {},
          "output_type": "execute_result"
        }
      ],
      "source": [
        "light_model = nlp.LightPipeline(model)\n",
        "\n",
        "light_result = light_model.fullAnnotate(text)\n",
        "\n",
        "chunks = []\n",
        "entities = []\n",
        "sentence= []\n",
        "begin = []\n",
        "end = []\n",
        "\n",
        "for n in light_result[0]['ner_chunk']:\n",
        "        \n",
        "    begin.append(n.begin)\n",
        "    end.append(n.end)\n",
        "    chunks.append(n.result)\n",
        "    entities.append(n.metadata['entity']) \n",
        "    sentence.append(n.metadata['sentence'])\n",
        "    \n",
        "    \n",
        "\n",
        "df = pd.DataFrame({'chunks':chunks, 'begin': begin, 'end':end, \n",
        "                   'sentence_id':sentence, 'entities':entities})\n",
        "\n",
        "df.head(20)"
      ]
    },
    {
      "cell_type": "markdown",
      "id": "0e91726a-2fd2-4432-a3ff-fe5238b00e9d",
      "metadata": {
        "id": "0e91726a-2fd2-4432-a3ff-fe5238b00e9d"
      },
      "source": [
        "####📌 NER Visualizer\n",
        "\n",
        "For saving the visualization result as html, provide `save_path` parameter in the display function."
      ]
    },
    {
      "cell_type": "code",
      "execution_count": null,
      "id": "1f9e05ec-1724-4d53-b4e2-68e454c4e3bb",
      "metadata": {
        "colab": {
          "base_uri": "https://localhost:8080/",
          "height": 585
        },
        "id": "1f9e05ec-1724-4d53-b4e2-68e454c4e3bb",
        "outputId": "de953d58-69c2-40a5-8141-23b669bd5c7f"
      },
      "outputs": [
        {
          "data": {
            "text/html": [
              "\n",
              "<style>\n",
              "    @import url('https://fonts.googleapis.com/css2?family=Montserrat:wght@300;400;500;600;700&display=swap');\n",
              "    @import url('https://fonts.googleapis.com/css2?family=Vistol Regular:wght@300;400;500;600;700&display=swap');\n",
              "    \n",
              "    .spark-nlp-display-scroll-entities {\n",
              "        border: 1px solid #E7EDF0;\n",
              "        border-radius: 3px;\n",
              "        text-align: justify;\n",
              "        \n",
              "    }\n",
              "    .spark-nlp-display-scroll-entities span {  \n",
              "        font-size: 14px;\n",
              "        line-height: 24px;\n",
              "        color: #536B76;\n",
              "        font-family: 'Montserrat', sans-serif !important;\n",
              "    }\n",
              "    \n",
              "    .spark-nlp-display-entity-wrapper{\n",
              "    \n",
              "        display: inline-grid;\n",
              "        text-align: center;\n",
              "        border-radius: 4px;\n",
              "        margin: 0 2px 5px 2px;\n",
              "        padding: 1px\n",
              "    }\n",
              "    .spark-nlp-display-entity-name{\n",
              "        font-size: 14px;\n",
              "        line-height: 24px;\n",
              "        font-family: 'Montserrat', sans-serif !important;\n",
              "        \n",
              "        background: #f1f2f3;\n",
              "        border-width: medium;\n",
              "        text-align: center;\n",
              "        \n",
              "        font-weight: 400;\n",
              "        \n",
              "        border-radius: 5px;\n",
              "        padding: 2px 5px;\n",
              "        display: block;\n",
              "        margin: 3px 2px;\n",
              "    \n",
              "    }\n",
              "    .spark-nlp-display-entity-type{\n",
              "        font-size: 14px;\n",
              "        line-height: 24px;\n",
              "        color: #ffffff;\n",
              "        font-family: 'Montserrat', sans-serif !important;\n",
              "        \n",
              "        text-transform: uppercase;\n",
              "        \n",
              "        font-weight: 500;\n",
              "\n",
              "        display: block;\n",
              "        padding: 3px 5px;\n",
              "    }\n",
              "    \n",
              "    .spark-nlp-display-entity-resolution{\n",
              "        font-size: 14px;\n",
              "        line-height: 24px;\n",
              "        color: #ffffff;\n",
              "        font-family: 'Vistol Regular', sans-serif !important;\n",
              "        \n",
              "        text-transform: uppercase;\n",
              "        \n",
              "        font-weight: 500;\n",
              "\n",
              "        display: block;\n",
              "        padding: 3px 5px;\n",
              "    }\n",
              "    \n",
              "    .spark-nlp-display-others{\n",
              "        font-size: 14px;\n",
              "        line-height: 24px;\n",
              "        font-family: 'Montserrat', sans-serif !important;\n",
              "        \n",
              "        font-weight: 400;\n",
              "    }\n",
              "\n",
              "</style>\n",
              " <span class=\"spark-nlp-display-others\" style=\"background-color: white\">December 2007 SUBORDINATED LOAN AGREEMENT. THIS LOAN AGREEMENT is made on 7th December, 2007 BETWEEN: (1) </span><span class=\"spark-nlp-display-entity-wrapper\" style=\"background-color: #B48D90\"><span class=\"spark-nlp-display-entity-name\">SILICIUM DE PROVENCE S.A.S </span><span class=\"spark-nlp-display-entity-type\">ORG</span></span><span class=\"spark-nlp-display-others\" style=\"background-color: white\">., a private company with limited liability, incorporated under the laws of </span><span class=\"spark-nlp-display-entity-wrapper\" style=\"background-color: #3A497E\"><span class=\"spark-nlp-display-entity-name\">France </span><span class=\"spark-nlp-display-entity-type\">LOC</span></span><span class=\"spark-nlp-display-others\" style=\"background-color: white\">, whose registered office is situated at </span><span class=\"spark-nlp-display-entity-wrapper\" style=\"background-color: #3A497E\"><span class=\"spark-nlp-display-entity-name\">Usine de Saint Auban </span><span class=\"spark-nlp-display-entity-type\">LOC</span></span><span class=\"spark-nlp-display-others\" style=\"background-color: white\">, </span><span class=\"spark-nlp-display-entity-wrapper\" style=\"background-color: #3A497E\"><span class=\"spark-nlp-display-entity-name\">France </span><span class=\"spark-nlp-display-entity-type\">LOC</span></span><span class=\"spark-nlp-display-others\" style=\"background-color: white\">, represented by </span><span class=\"spark-nlp-display-entity-wrapper\" style=\"background-color: #5A483E\"><span class=\"spark-nlp-display-entity-name\">Mr.Frank Wouters </span><span class=\"spark-nlp-display-entity-type\">PER</span></span><span class=\"spark-nlp-display-others\" style=\"background-color: white\">, hereinafter referred to as the \"</span><span class=\"spark-nlp-display-entity-wrapper\" style=\"background-color: #5A483E\"><span class=\"spark-nlp-display-entity-name\">Borrower </span><span class=\"spark-nlp-display-entity-type\">PER</span></span><span class=\"spark-nlp-display-others\" style=\"background-color: white\">\", and ( 2 ) </span><span class=\"spark-nlp-display-entity-wrapper\" style=\"background-color: #B48D90\"><span class=\"spark-nlp-display-entity-name\">EVERGREEN SOLAR INC </span><span class=\"spark-nlp-display-entity-type\">ORG</span></span><span class=\"spark-nlp-display-others\" style=\"background-color: white\">., a company incorporated in </span><span class=\"spark-nlp-display-entity-wrapper\" style=\"background-color: #3A497E\"><span class=\"spark-nlp-display-entity-name\">Delaware </span><span class=\"spark-nlp-display-entity-type\">LOC</span></span><span class=\"spark-nlp-display-others\" style=\"background-color: white\">, </span><span class=\"spark-nlp-display-entity-wrapper\" style=\"background-color: #3A497E\"><span class=\"spark-nlp-display-entity-name\">U.S.A </span><span class=\"spark-nlp-display-entity-type\">LOC</span></span><span class=\"spark-nlp-display-others\" style=\"background-color: white\">., with registered number 2426798, whose registered office is situated at </span><span class=\"spark-nlp-display-entity-wrapper\" style=\"background-color: #3A497E\"><span class=\"spark-nlp-display-entity-name\">Bartlett Street </span><span class=\"spark-nlp-display-entity-type\">LOC</span></span><span class=\"spark-nlp-display-others\" style=\"background-color: white\">, </span><span class=\"spark-nlp-display-entity-wrapper\" style=\"background-color: #3A497E\"><span class=\"spark-nlp-display-entity-name\">Marlboro </span><span class=\"spark-nlp-display-entity-type\">LOC</span></span><span class=\"spark-nlp-display-others\" style=\"background-color: white\">, </span><span class=\"spark-nlp-display-entity-wrapper\" style=\"background-color: #3A497E\"><span class=\"spark-nlp-display-entity-name\">Massachusetts </span><span class=\"spark-nlp-display-entity-type\">LOC</span></span><span class=\"spark-nlp-display-others\" style=\"background-color: white\">, </span><span class=\"spark-nlp-display-entity-wrapper\" style=\"background-color: #3A497E\"><span class=\"spark-nlp-display-entity-name\">U.S.A </span><span class=\"spark-nlp-display-entity-type\">LOC</span></span><span class=\"spark-nlp-display-others\" style=\"background-color: white\">. represented by </span><span class=\"spark-nlp-display-entity-wrapper\" style=\"background-color: #5A483E\"><span class=\"spark-nlp-display-entity-name\">Richard Chleboski </span><span class=\"spark-nlp-display-entity-type\">PER</span></span><span class=\"spark-nlp-display-others\" style=\"background-color: white\">, hereinafter referred to as \"</span><span class=\"spark-nlp-display-entity-wrapper\" style=\"background-color: #5A483E\"><span class=\"spark-nlp-display-entity-name\">Lender </span><span class=\"spark-nlp-display-entity-type\">PER</span></span><span class=\"spark-nlp-display-others\" style=\"background-color: white\">\" </span></div>"
            ],
            "text/plain": [
              "<IPython.core.display.HTML object>"
            ]
          },
          "metadata": {},
          "output_type": "display_data"
        },
        {
          "data": {
            "text/html": [
              "\n",
              "<style>\n",
              "    @import url('https://fonts.googleapis.com/css2?family=Montserrat:wght@300;400;500;600;700&display=swap');\n",
              "    @import url('https://fonts.googleapis.com/css2?family=Vistol Regular:wght@300;400;500;600;700&display=swap');\n",
              "    \n",
              "    .spark-nlp-display-scroll-entities {\n",
              "        border: 1px solid #E7EDF0;\n",
              "        border-radius: 3px;\n",
              "        text-align: justify;\n",
              "        \n",
              "    }\n",
              "    .spark-nlp-display-scroll-entities span {  \n",
              "        font-size: 14px;\n",
              "        line-height: 24px;\n",
              "        color: #536B76;\n",
              "        font-family: 'Montserrat', sans-serif !important;\n",
              "    }\n",
              "    \n",
              "    .spark-nlp-display-entity-wrapper{\n",
              "    \n",
              "        display: inline-grid;\n",
              "        text-align: center;\n",
              "        border-radius: 4px;\n",
              "        margin: 0 2px 5px 2px;\n",
              "        padding: 1px\n",
              "    }\n",
              "    .spark-nlp-display-entity-name{\n",
              "        font-size: 14px;\n",
              "        line-height: 24px;\n",
              "        font-family: 'Montserrat', sans-serif !important;\n",
              "        \n",
              "        background: #f1f2f3;\n",
              "        border-width: medium;\n",
              "        text-align: center;\n",
              "        \n",
              "        font-weight: 400;\n",
              "        \n",
              "        border-radius: 5px;\n",
              "        padding: 2px 5px;\n",
              "        display: block;\n",
              "        margin: 3px 2px;\n",
              "    \n",
              "    }\n",
              "    .spark-nlp-display-entity-type{\n",
              "        font-size: 14px;\n",
              "        line-height: 24px;\n",
              "        color: #ffffff;\n",
              "        font-family: 'Montserrat', sans-serif !important;\n",
              "        \n",
              "        text-transform: uppercase;\n",
              "        \n",
              "        font-weight: 500;\n",
              "\n",
              "        display: block;\n",
              "        padding: 3px 5px;\n",
              "    }\n",
              "    \n",
              "    .spark-nlp-display-entity-resolution{\n",
              "        font-size: 14px;\n",
              "        line-height: 24px;\n",
              "        color: #ffffff;\n",
              "        font-family: 'Vistol Regular', sans-serif !important;\n",
              "        \n",
              "        text-transform: uppercase;\n",
              "        \n",
              "        font-weight: 500;\n",
              "\n",
              "        display: block;\n",
              "        padding: 3px 5px;\n",
              "    }\n",
              "    \n",
              "    .spark-nlp-display-others{\n",
              "        font-size: 14px;\n",
              "        line-height: 24px;\n",
              "        font-family: 'Montserrat', sans-serif !important;\n",
              "        \n",
              "        font-weight: 400;\n",
              "    }\n",
              "\n",
              "</style>\n",
              " <span class=\"spark-nlp-display-others\" style=\"background-color: white\">December 2007 SUBORDINATED LOAN AGREEMENT. THIS LOAN AGREEMENT is made on 7th December, 2007 BETWEEN: (1) </span><span class=\"spark-nlp-display-entity-wrapper\" style=\"background-color: #54B0A0\"><span class=\"spark-nlp-display-entity-name\">SILICIUM DE PROVENCE S.A.S </span><span class=\"spark-nlp-display-entity-type\">ORG</span></span><span class=\"spark-nlp-display-others\" style=\"background-color: white\">., a private company with limited liability, incorporated under the laws of </span><span class=\"spark-nlp-display-entity-wrapper\" style=\"background-color: #60836E\"><span class=\"spark-nlp-display-entity-name\">France </span><span class=\"spark-nlp-display-entity-type\">LOC</span></span><span class=\"spark-nlp-display-others\" style=\"background-color: white\">, whose registered office is situated at </span><span class=\"spark-nlp-display-entity-wrapper\" style=\"background-color: #60836E\"><span class=\"spark-nlp-display-entity-name\">Usine de Saint Auban </span><span class=\"spark-nlp-display-entity-type\">LOC</span></span><span class=\"spark-nlp-display-others\" style=\"background-color: white\">, </span><span class=\"spark-nlp-display-entity-wrapper\" style=\"background-color: #60836E\"><span class=\"spark-nlp-display-entity-name\">France </span><span class=\"spark-nlp-display-entity-type\">LOC</span></span><span class=\"spark-nlp-display-others\" style=\"background-color: white\">, represented by </span><span class=\"spark-nlp-display-entity-wrapper\" style=\"background-color: #687265\"><span class=\"spark-nlp-display-entity-name\">Mr.Frank Wouters </span><span class=\"spark-nlp-display-entity-type\">PER</span></span><span class=\"spark-nlp-display-others\" style=\"background-color: white\">, hereinafter referred to as the \"</span><span class=\"spark-nlp-display-entity-wrapper\" style=\"background-color: #687265\"><span class=\"spark-nlp-display-entity-name\">Borrower </span><span class=\"spark-nlp-display-entity-type\">PER</span></span><span class=\"spark-nlp-display-others\" style=\"background-color: white\">\", and ( 2 ) </span><span class=\"spark-nlp-display-entity-wrapper\" style=\"background-color: #54B0A0\"><span class=\"spark-nlp-display-entity-name\">EVERGREEN SOLAR INC </span><span class=\"spark-nlp-display-entity-type\">ORG</span></span><span class=\"spark-nlp-display-others\" style=\"background-color: white\">., a company incorporated in </span><span class=\"spark-nlp-display-entity-wrapper\" style=\"background-color: #60836E\"><span class=\"spark-nlp-display-entity-name\">Delaware </span><span class=\"spark-nlp-display-entity-type\">LOC</span></span><span class=\"spark-nlp-display-others\" style=\"background-color: white\">, </span><span class=\"spark-nlp-display-entity-wrapper\" style=\"background-color: #60836E\"><span class=\"spark-nlp-display-entity-name\">U.S.A </span><span class=\"spark-nlp-display-entity-type\">LOC</span></span><span class=\"spark-nlp-display-others\" style=\"background-color: white\">., with registered number 2426798, whose registered office is situated at </span><span class=\"spark-nlp-display-entity-wrapper\" style=\"background-color: #60836E\"><span class=\"spark-nlp-display-entity-name\">Bartlett Street </span><span class=\"spark-nlp-display-entity-type\">LOC</span></span><span class=\"spark-nlp-display-others\" style=\"background-color: white\">, </span><span class=\"spark-nlp-display-entity-wrapper\" style=\"background-color: #60836E\"><span class=\"spark-nlp-display-entity-name\">Marlboro </span><span class=\"spark-nlp-display-entity-type\">LOC</span></span><span class=\"spark-nlp-display-others\" style=\"background-color: white\">, </span><span class=\"spark-nlp-display-entity-wrapper\" style=\"background-color: #60836E\"><span class=\"spark-nlp-display-entity-name\">Massachusetts </span><span class=\"spark-nlp-display-entity-type\">LOC</span></span><span class=\"spark-nlp-display-others\" style=\"background-color: white\">, </span><span class=\"spark-nlp-display-entity-wrapper\" style=\"background-color: #60836E\"><span class=\"spark-nlp-display-entity-name\">U.S.A </span><span class=\"spark-nlp-display-entity-type\">LOC</span></span><span class=\"spark-nlp-display-others\" style=\"background-color: white\">. represented by </span><span class=\"spark-nlp-display-entity-wrapper\" style=\"background-color: #687265\"><span class=\"spark-nlp-display-entity-name\">Richard Chleboski </span><span class=\"spark-nlp-display-entity-type\">PER</span></span><span class=\"spark-nlp-display-others\" style=\"background-color: white\">, hereinafter referred to as \"</span><span class=\"spark-nlp-display-entity-wrapper\" style=\"background-color: #687265\"><span class=\"spark-nlp-display-entity-name\">Lender </span><span class=\"spark-nlp-display-entity-type\">PER</span></span><span class=\"spark-nlp-display-others\" style=\"background-color: white\">\" </span></div>"
            ],
            "text/plain": [
              "<IPython.core.display.HTML object>"
            ]
          },
          "metadata": {},
          "output_type": "display_data"
        }
      ],
      "source": [
        "# from sparknlp_display import NerVisualizer\n",
        "\n",
        "visualiser = nlp.viz.NerVisualizer()\n",
        "\n",
        "visualiser.display(light_result[0], label_col='ner_chunk', document_col='document')"
      ]
    },
    {
      "cell_type": "markdown",
      "id": "95645147-7f43-4fc1-b668-3bb2317bb74f",
      "metadata": {
        "id": "95645147-7f43-4fc1-b668-3bb2317bb74f"
      },
      "source": [
        "##🔎 Create Generic Pipeline for NerDL Models"
      ]
    },
    {
      "cell_type": "code",
      "execution_count": null,
      "id": "da501a7a-aabd-477d-b19b-1e18b4ee7042",
      "metadata": {
        "id": "da501a7a-aabd-477d-b19b-1e18b4ee7042"
      },
      "outputs": [],
      "source": [
        "def base_pipeline():\n",
        "    \n",
        "    document_assembler = nlp.DocumentAssembler()\\\n",
        "        .setInputCol(\"text\")\\\n",
        "        .setOutputCol(\"document\")\n",
        "\n",
        "    # Consider using TextSplitter with rules/patterns to get smaller chunks from long sentences\n",
        "    text_splitter = finance.TextSplitter() \\\n",
        "        .setInputCols([\"document\"]) \\\n",
        "        .setOutputCol(\"sentence\") \\\n",
        "        .setCustomBounds([\"\\n\\n\"])\n",
        "\n",
        "    tokenizer = nlp.Tokenizer()\\\n",
        "        .setInputCols([\"sentence\"])\\\n",
        "        .setOutputCol(\"token\")\n",
        "    \n",
        "    pipeline = nlp.Pipeline(stages=[\n",
        "            document_assembler,\n",
        "            text_splitter,\n",
        "            tokenizer])\n",
        "    \n",
        "    return pipeline"
      ]
    },
    {
      "cell_type": "code",
      "execution_count": null,
      "id": "6b050243-1a9d-4b9e-a7a8-3fc084e69d08",
      "metadata": {
        "id": "6b050243-1a9d-4b9e-a7a8-3fc084e69d08"
      },
      "outputs": [],
      "source": [
        "def generic_ner_pipeline(model_name, embeddings):\n",
        "    \n",
        "    word_embeddings = nlp.BertEmbeddings.pretrained(embeddings, \"en\")\\\n",
        "            .setInputCols(\"sentence\", \"token\") \\\n",
        "            .setOutputCol(\"embeddings\")\\\n",
        "\n",
        "    ner_model = finance.NerModel.pretrained(model_name, \"en\", \"finance/models\")\\\n",
        "            .setInputCols([\"sentence\", \"token\", \"embeddings\"])\\\n",
        "            .setOutputCol(\"ner\")\n",
        "\n",
        "    ner_converter = finance.NerConverterInternal()\\\n",
        "            .setInputCols([\"sentence\",\"token\",\"ner\"])\\\n",
        "            .setOutputCol(\"ner_chunk\")\n",
        "\n",
        "    nlpPipeline = nlp.Pipeline(stages=[\n",
        "            base_pipeline(),\n",
        "            word_embeddings,\n",
        "            ner_model,\n",
        "            ner_converter])\n",
        "\n",
        "    empty_data = spark.createDataFrame([[\"\"]]).toDF(\"text\")\n",
        "\n",
        "    model = nlpPipeline.fit(empty_data)\n",
        "    \n",
        "    return model"
      ]
    },
    {
      "cell_type": "markdown",
      "id": "479103f2-1256-4b78-971a-55d81140d030",
      "metadata": {
        "id": "479103f2-1256-4b78-971a-55d81140d030"
      },
      "source": [
        "##🔎 Create Generic Result Function"
      ]
    },
    {
      "cell_type": "code",
      "execution_count": null,
      "id": "19fac60f-f99a-4bf6-8668-0d40aa50a24d",
      "metadata": {
        "id": "19fac60f-f99a-4bf6-8668-0d40aa50a24d"
      },
      "outputs": [],
      "source": [
        "def get_result(result):\n",
        "    result.select(F.explode(F.arrays_zip(result.ner_chunk.result, result.ner_chunk.metadata)).alias(\"cols\")) \\\n",
        "          .select(F.expr(\"cols['0']\").alias(\"chunk\"),\n",
        "                  F.expr(\"cols['1']['entity']\").alias(\"ner_label\")).show(50, truncate=False)"
      ]
    },
    {
      "cell_type": "markdown",
      "id": "817a44c1-52a3-40b3-9bd2-bc7b67c4c7fe",
      "metadata": {
        "id": "817a44c1-52a3-40b3-9bd2-bc7b67c4c7fe"
      },
      "source": [
        "###📌 Finance SEC10K Forms NER Model\n",
        "\n",
        "📚This model uses Name Entity Recognition to extract information like **Company Name**, **Trading symbols**, **Stock markets**, **Addresses**, **Phones**, **Stock types* and values, **IRS**, **CFN**, etc. from the first page of 10-K filings."
      ]
    },
    {
      "cell_type": "code",
      "execution_count": null,
      "id": "3fa0104c-bdb7-4e4a-b3bb-f7e21f912964",
      "metadata": {
        "colab": {
          "base_uri": "https://localhost:8080/"
        },
        "id": "3fa0104c-bdb7-4e4a-b3bb-f7e21f912964",
        "outputId": "0ee9baeb-4c81-4141-b043-8ae271cd0b17"
      },
      "outputs": [
        {
          "name": "stdout",
          "output_type": "stream",
          "text": [
            "bert_embeddings_finbert_pretrain_yiyanghkust download started this may take some time.\n",
            "Approximate size to download 393.2 MB\n",
            "[OK!]\n",
            "finner_10k_summary download started this may take some time.\n",
            "[OK!]\n",
            "bert_embeddings_finbert_pretrain_yiyanghkust download started this may take some time.\n",
            "Approximate size to download 393.2 MB\n",
            "[OK!]\n",
            "finner_10k_summary download started this may take some time.\n",
            "[OK!]\n"
          ]
        }
      ],
      "source": [
        "text = \"\"\"ANNUAL REPORT PURSUANT TO SECTION 13 OR 15(d) OF THE SECURITIES AND EXCHANGE ACT OF 1934\n",
        "For the annual period ended January 31, 2021\n",
        "or\n",
        "TRANSITION REPORT PURSUANT TO SECTION 13 OR 15(d) OF THE SECURITIES EXCHANGE ACT OF 1934\n",
        "For the transition period from________to_______\n",
        "Commission File Number: 001-38856\n",
        "PAGERDUTY, INC.\n",
        "(Exact name of registrant as specified in its charter)\n",
        "Delaware\n",
        "27-2793871\n",
        "(State or other jurisdiction of\n",
        "incorporation or organization)\n",
        "(I.R.S. Employer\n",
        "Identification Number)\n",
        "600 Townsend St., Suite 200, San Francisco, CA 94103\n",
        "(844) 800-3889\n",
        "(Address, including zip code, and telephone number, including area code, of registrant’s principal executive offices)\n",
        "Securities registered pursuant to Section 12(b) of the Act:\n",
        "Title of each class\n",
        "Trading symbol(s)\n",
        "Name of each exchange on which registered\n",
        "Common Stock, $0.000005 par value,\n",
        "PD\n",
        "New York Stock Exchange\"\"\"\n",
        "\n",
        "model_name = \"finner_10k_summary\"\n",
        "\n",
        "embeddings = \"bert_embeddings_finbert_pretrain_yiyanghkust\"\n",
        "\n",
        "df = spark.createDataFrame([[text]]).toDF(\"text\")\n",
        "\n",
        "result = generic_ner_pipeline(model_name, embeddings).transform(df)"
      ]
    },
    {
      "cell_type": "code",
      "execution_count": null,
      "id": "0c143057-ddfc-4823-947f-9e51506e50ce",
      "metadata": {
        "colab": {
          "base_uri": "https://localhost:8080/"
        },
        "id": "0c143057-ddfc-4823-947f-9e51506e50ce",
        "outputId": "d98ed835-f4cc-4149-ab6a-6f3976edcc54"
      },
      "outputs": [
        {
          "name": "stdout",
          "output_type": "stream",
          "text": [
            "+----------------------------------------------+-----------------+\n",
            "|chunk                                         |ner_label        |\n",
            "+----------------------------------------------+-----------------+\n",
            "|January 31, 2021                              |FISCAL_YEAR      |\n",
            "|001-38856                                     |CFN              |\n",
            "|PAGERDUTY, INC                                |ORG              |\n",
            "|Delaware                                      |STATE            |\n",
            "|27-2793871                                    |IRS              |\n",
            "|600 Townsend St., Suite 200, San Francisco, CA|ADDRESS          |\n",
            "|(844) 800-3889                                |PHONE            |\n",
            "|Common Stock                                  |TITLE_CLASS      |\n",
            "|$0.000005                                     |TITLE_CLASS_VALUE|\n",
            "|PD                                            |TICKER           |\n",
            "|New York Stock Exchange                       |STOCK_EXCHANGE   |\n",
            "+----------------------------------------------+-----------------+\n",
            "\n",
            "+----------------------------------------------+-----------------+\n",
            "|chunk                                         |ner_label        |\n",
            "+----------------------------------------------+-----------------+\n",
            "|January 31, 2021                              |FISCAL_YEAR      |\n",
            "|001-38856                                     |CFN              |\n",
            "|PAGERDUTY, INC                                |ORG              |\n",
            "|Delaware                                      |STATE            |\n",
            "|27-2793871                                    |IRS              |\n",
            "|600 Townsend St., Suite 200, San Francisco, CA|ADDRESS          |\n",
            "|(844) 800-3889                                |PHONE            |\n",
            "|Common Stock                                  |TITLE_CLASS      |\n",
            "|$0.000005                                     |TITLE_CLASS_VALUE|\n",
            "|PD                                            |TICKER           |\n",
            "|New York Stock Exchange                       |STOCK_EXCHANGE   |\n",
            "+----------------------------------------------+-----------------+\n",
            "\n"
          ]
        }
      ],
      "source": [
        "get_result(result)"
      ]
    },
    {
      "cell_type": "markdown",
      "id": "aab56faa-0646-4c84-ac4e-e9710c0ba891",
      "metadata": {
        "id": "aab56faa-0646-4c84-ac4e-e9710c0ba891"
      },
      "source": [
        "###📌 Finance Cuad_NER_Org_Products Model\n",
        "\n",
        "📚This model uses Name Entity Recognition to extract ORG (Organization names), PRODUCT (Product names) and ALIAS.\n",
        "\n",
        "Entities:\n",
        " - ORG (Organization names)\n",
        " - PRODUCT (Product names)\n",
        " - ALIAS"
      ]
    },
    {
      "cell_type": "code",
      "execution_count": null,
      "id": "6e48a792-b252-42bd-8d0f-0e543240b289",
      "metadata": {
        "colab": {
          "base_uri": "https://localhost:8080/"
        },
        "id": "6e48a792-b252-42bd-8d0f-0e543240b289",
        "outputId": "7ef3da90-bc90-4009-e3c4-404487b15ffe"
      },
      "outputs": [
        {
          "name": "stdout",
          "output_type": "stream",
          "text": [
            "bert_embeddings_sec_bert_base download started this may take some time.\n",
            "Approximate size to download 390.4 MB\n",
            "[OK!]\n",
            "finner_orgs_prods_alias download started this may take some time.\n",
            "[OK!]\n",
            "bert_embeddings_sec_bert_base download started this may take some time.\n",
            "Approximate size to download 390.4 MB\n",
            "[OK!]\n",
            "finner_orgs_prods_alias download started this may take some time.\n",
            "[OK!]\n"
          ]
        }
      ],
      "source": [
        "text = \"\"\"This INTELLECTUAL PROPERTY AGREEMENT (this \"Agreement\"), dated as of December 31, 2018 (the \"Effective Date\") is entered into by and between Armstrong Flooring, Inc., a Delaware corporation (\"Seller\") and AFI Licensing LLC, a Delaware limited liability company (\"Licensing\" and together with Seller, \"Arizona\") and AHF Holding, Inc. (formerly known as Tarzan HoldCo, Inc.), a Delaware corporation (\"Buyer\") and Armstrong Hardwood Flooring Company, a Tennessee corporation (the \"Company\" and together with Buyer the \"Buyer Entities\") (each of Arizona on the one hand and the Buyer Entities on the other hand, a \"Party\" and collectively, the \"Parties\").\"\"\"\n",
        "\n",
        "model_name = \"finner_orgs_prods_alias\"\n",
        "\n",
        "embeddings = \"bert_embeddings_sec_bert_base\"\n",
        "\n",
        "df = spark.createDataFrame([[text]]).toDF(\"text\")\n",
        "\n",
        "result = generic_ner_pipeline(model_name, embeddings).transform(df)\n"
      ]
    },
    {
      "cell_type": "code",
      "execution_count": null,
      "id": "56f94eaf-e394-4052-b33b-518ae5876ca1",
      "metadata": {
        "colab": {
          "base_uri": "https://localhost:8080/"
        },
        "id": "56f94eaf-e394-4052-b33b-518ae5876ca1",
        "outputId": "417ea168-d1e5-43c6-a156-0e5c23321bdd"
      },
      "outputs": [
        {
          "name": "stdout",
          "output_type": "stream",
          "text": [
            "+-----------------------------------+---------+\n",
            "|chunk                              |ner_label|\n",
            "+-----------------------------------+---------+\n",
            "|Armstrong Flooring, Inc            |ORG      |\n",
            "|Seller                             |ALIAS    |\n",
            "|AFI Licensing LLC                  |ORG      |\n",
            "|Licensing                          |ALIAS    |\n",
            "|Seller                             |ALIAS    |\n",
            "|Arizona                            |ALIAS    |\n",
            "|AHF Holding, Inc                   |ORG      |\n",
            "|Tarzan HoldCo, Inc                 |ORG      |\n",
            "|Buyer                              |ALIAS    |\n",
            "|Armstrong Hardwood Flooring Company|ORG      |\n",
            "|Company                            |ALIAS    |\n",
            "|Buyer                              |ALIAS    |\n",
            "|Buyer Entities                     |ALIAS    |\n",
            "|Arizona                            |ALIAS    |\n",
            "|Buyer Entities                     |ALIAS    |\n",
            "|Party                              |ALIAS    |\n",
            "|Parties                            |ALIAS    |\n",
            "+-----------------------------------+---------+\n",
            "\n",
            "+-----------------------------------+---------+\n",
            "|chunk                              |ner_label|\n",
            "+-----------------------------------+---------+\n",
            "|Armstrong Flooring, Inc            |ORG      |\n",
            "|Seller                             |ALIAS    |\n",
            "|AFI Licensing LLC                  |ORG      |\n",
            "|Licensing                          |ALIAS    |\n",
            "|Seller                             |ALIAS    |\n",
            "|Arizona                            |ALIAS    |\n",
            "|AHF Holding, Inc                   |ORG      |\n",
            "|Tarzan HoldCo, Inc                 |ORG      |\n",
            "|Buyer                              |ALIAS    |\n",
            "|Armstrong Hardwood Flooring Company|ORG      |\n",
            "|Company                            |ALIAS    |\n",
            "|Buyer                              |ALIAS    |\n",
            "|Buyer Entities                     |ALIAS    |\n",
            "|Arizona                            |ALIAS    |\n",
            "|Buyer Entities                     |ALIAS    |\n",
            "|Party                              |ALIAS    |\n",
            "|Parties                            |ALIAS    |\n",
            "+-----------------------------------+---------+\n",
            "\n"
          ]
        }
      ],
      "source": [
        "get_result(result)"
      ]
    },
    {
      "cell_type": "markdown",
      "id": "bd3aab70-a7e4-477c-9415-9ed845afb9c1",
      "metadata": {
        "id": "bd3aab70-a7e4-477c-9415-9ed845afb9c1"
      },
      "source": [
        "###📌 Finance NER_Ticker Model with RoBertaForTokenClassification\n",
        "\n",
        "📚This model aims to detect Trading Symbols / Tickers in texts.\n",
        "\n",
        "Enities\n",
        " - TICKER\n"
      ]
    },
    {
      "cell_type": "code",
      "execution_count": null,
      "id": "e350660c-4e30-42d9-8086-7f835036fa19",
      "metadata": {
        "colab": {
          "base_uri": "https://localhost:8080/"
        },
        "id": "e350660c-4e30-42d9-8086-7f835036fa19",
        "outputId": "e7d52b0e-966d-4ba2-e206-371a82a5681b"
      },
      "outputs": [
        {
          "name": "stdout",
          "output_type": "stream",
          "text": [
            "finner_roberta_ticker download started this may take some time.\n",
            "Approximate size to download 443.8 MB\n",
            "[OK!]\n",
            "finner_roberta_ticker download started this may take some time.\n",
            "Approximate size to download 443.8 MB\n",
            "[OK!]\n"
          ]
        }
      ],
      "source": [
        "tokenClassifier = nlp.RoBertaForTokenClassification.pretrained(\"finner_roberta_ticker\", \"en\", \"finance/models\")\\\n",
        "    .setInputCols([\"sentence\", \"token\"])\\\n",
        "    .setOutputCol(\"ner\")\n",
        "\n",
        "ner_converter = finance.NerConverterInternal()\\\n",
        "    .setInputCols([\"sentence\",\"token\",\"ner\"])\\\n",
        "    .setOutputCol(\"ner_chunk\")\n",
        "\n",
        "pipeline = nlp.Pipeline(stages=[\n",
        "    base_pipeline(), \n",
        "    tokenClassifier,\n",
        "    ner_converter])\n",
        "\n",
        "empty_data = spark.createDataFrame([[\"\"]]).toDF(\"text\")\n",
        "\n",
        "model = pipeline.fit(empty_data)"
      ]
    },
    {
      "cell_type": "code",
      "execution_count": null,
      "id": "ad62ed1d-7972-45dc-adf0-46318bfcdc4f",
      "metadata": {
        "id": "ad62ed1d-7972-45dc-adf0-46318bfcdc4f"
      },
      "outputs": [],
      "source": [
        "text = \"\"\"There are some serious purchases and sales of AMZN, NFLX and GPRO stock today.\"\"\"\n",
        "\n",
        "df = spark.createDataFrame([[text]]).toDF(\"text\")\n",
        "\n",
        "result = model.transform(df)"
      ]
    },
    {
      "cell_type": "code",
      "execution_count": null,
      "id": "0cd698ee-0302-427b-bdf8-a43d878468cc",
      "metadata": {
        "colab": {
          "base_uri": "https://localhost:8080/"
        },
        "id": "0cd698ee-0302-427b-bdf8-a43d878468cc",
        "outputId": "cbbe8592-f996-4697-ab7e-0ca52bc7cf73"
      },
      "outputs": [
        {
          "name": "stdout",
          "output_type": "stream",
          "text": [
            "+-----+---------+\n",
            "|chunk|ner_label|\n",
            "+-----+---------+\n",
            "|AMZN |TICKER   |\n",
            "|NFLX |TICKER   |\n",
            "|GPRO |TICKER   |\n",
            "+-----+---------+\n",
            "\n",
            "+-----+---------+\n",
            "|chunk|ner_label|\n",
            "+-----+---------+\n",
            "|AMZN |TICKER   |\n",
            "|NFLX |TICKER   |\n",
            "|GPRO |TICKER   |\n",
            "+-----+---------+\n",
            "\n"
          ]
        }
      ],
      "source": [
        "get_result(result)"
      ]
    },
    {
      "cell_type": "markdown",
      "id": "5a32aee6",
      "metadata": {
        "id": "5a32aee6"
      },
      "source": [
        "##🔎 Zero-shot Named Entity Recognition"
      ]
    },
    {
      "cell_type": "markdown",
      "id": "43420eee-1c29-4148-b1c8-fa7884eff9b3",
      "metadata": {
        "id": "43420eee-1c29-4148-b1c8-fa7884eff9b3"
      },
      "source": [
        "📚`Zero-shot` is a new inference paradigm which allows us to use a model for prediction without any previous training step.\n",
        "\n",
        "For doing that, several examples (_hypotheses_) are provided and sent to the Language model, which will use `NLI (Natural Language Inference)` to check if the any information found in the text matches the examples (confirm the hypotheses).\n",
        "\n",
        "NLI usually works by trying to _confirm or reject an hypotheses_. The _hypotheses_ are the `prompts` or examples we are going to provide. If any piece of information confirm the constructed hypotheses (answer the examples we are given), then the hypotheses is confirmed and the Zero-shot is triggered.\n",
        "\n",
        "Let's see it  in action.\n"
      ]
    },
    {
      "cell_type": "code",
      "execution_count": null,
      "id": "2948d346-d522-43b9-9cd7-99430882621f",
      "metadata": {
        "colab": {
          "base_uri": "https://localhost:8080/"
        },
        "id": "2948d346-d522-43b9-9cd7-99430882621f",
        "outputId": "471b10f2-2cff-4783-d759-afc83da7b054"
      },
      "outputs": [
        {
          "name": "stdout",
          "output_type": "stream",
          "text": [
            "finner_roberta_zeroshot download started this may take some time.\n",
            "[OK!]\n",
            "finner_roberta_zeroshot download started this may take some time.\n",
            "[OK!]\n"
          ]
        }
      ],
      "source": [
        "# from sparknlp.base import *\n",
        "# from sparknlp.annotator import *\n",
        "# from pyspark.ml import Pipeline\n",
        "# from sparknlp_jsl.annotator import *\n",
        "\n",
        "documentAssembler = nlp.DocumentAssembler()\\\n",
        "  .setInputCol(\"text\")\\\n",
        "  .setOutputCol(\"document\")\n",
        "\n",
        "textsplitter = finance.TextSplitter()\\\n",
        "  .setInputCols([\"document\"])\\\n",
        "  .setOutputCol(\"sentence\")\n",
        "\n",
        "sparktokenizer = nlp.Tokenizer()\\\n",
        "  .setInputCols(\"sentence\")\\\n",
        "  .setOutputCol(\"token\")\n",
        "\n",
        "zero_shot_ner = finance.ZeroShotNerModel.pretrained(\"finner_roberta_zeroshot\", \"en\", \"finance/models\")\\\n",
        "    .setInputCols([\"sentence\", \"token\"])\\\n",
        "    .setOutputCol(\"zero_shot_ner\")\\\n",
        "    .setEntityDefinitions(\n",
        "        {\n",
        "            \"DATE\": ['When was the company acquisition?', 'When was the company purchase agreement?'],\n",
        "            \"ORG\": [\"Which company was acquired?\"],\n",
        "            \"PRODUCT\": [\"Which product?\"],\n",
        "            \"PROFIT_INCREASE\": [\"How much has the gross profit increased?\"],\n",
        "            \"REVENUES_DECLINED\": [\"How much has the revenues declined?\"],\n",
        "            \"OPERATING_LOSS_2020\": [\"Which was the operating loss in 2020\"],\n",
        "            \"OPERATING_LOSS_2019\": [\"Which was the operating loss in 2019\"]\n",
        "        })\n",
        "\n",
        "nerconverter = finance.NerConverterInternal()\\\n",
        "  .setInputCols([\"sentence\", \"token\", \"zero_shot_ner\"])\\\n",
        "  .setOutputCol(\"ner_chunk\")\n",
        "\n",
        "pipeline =  nlp.Pipeline(stages=[\n",
        "  documentAssembler,\n",
        "  textsplitter,\n",
        "  sparktokenizer,\n",
        "  zero_shot_ner,\n",
        "  nerconverter\n",
        "    ]\n",
        ")"
      ]
    },
    {
      "cell_type": "code",
      "execution_count": null,
      "id": "b005b29f-f0c0-44dd-baac-590166d6bf8c",
      "metadata": {
        "id": "b005b29f-f0c0-44dd-baac-590166d6bf8c"
      },
      "outputs": [],
      "source": [
        "from pyspark.sql.types import StructType,StructField, StringType\n",
        "sample_text = [\"In March 2012, as part of a longer-term strategy, the Company acquired Vertro, Inc., which owned and operated the ALOT product portfolio.\",\n",
        "              \"In February 2017, the Company entered into an asset purchase agreement with NetSeer, Inc.\",\n",
        "              \"While our gross profit margin increased to 81.4% in 2020 from 63.1% in 2019, our revenues declined approximately 27% in 2020 as compared to 2019.\",\n",
        "              \"We reported an operating loss of approximately $8,048,581 million in 2020 as compared to an operating loss of $7,738,193 in 2019.\"]\n",
        "\n",
        "p_model = pipeline.fit(spark.createDataFrame([[\"\"]]).toDF(\"text\"))\n",
        "\n",
        "res = p_model.transform(spark.createDataFrame(sample_text, StringType()).toDF(\"text\"))"
      ]
    },
    {
      "cell_type": "code",
      "execution_count": null,
      "id": "183fb2db-1cee-4f78-a486-dd6c9f6abd57",
      "metadata": {
        "colab": {
          "base_uri": "https://localhost:8080/"
        },
        "id": "183fb2db-1cee-4f78-a486-dd6c9f6abd57",
        "outputId": "a9ca8b99-9bcc-42d8-b047-5df2c1f09592"
      },
      "outputs": [
        {
          "name": "stdout",
          "output_type": "stream",
          "text": [
            "+------------------+-------------------+\n",
            "|chunk             |ner_label          |\n",
            "+------------------+-------------------+\n",
            "|March 2012        |DATE               |\n",
            "|Vertro            |ORG                |\n",
            "|ALOT              |PRODUCT            |\n",
            "|February 2017     |DATE               |\n",
            "|NetSeer           |ORG                |\n",
            "|81.4%             |PROFIT_INCREASE    |\n",
            "|27%               |REVENUES_DECLINED  |\n",
            "|$8,048,581 million|OPERATING_LOSS_2020|\n",
            "|$7,738,193        |OPERATING_LOSS_2019|\n",
            "|2019              |DATE               |\n",
            "+------------------+-------------------+\n",
            "\n",
            "+------------------+-------------------+\n",
            "|chunk             |ner_label          |\n",
            "+------------------+-------------------+\n",
            "|March 2012        |DATE               |\n",
            "|Vertro            |ORG                |\n",
            "|ALOT              |PRODUCT            |\n",
            "|February 2017     |DATE               |\n",
            "|NetSeer           |ORG                |\n",
            "|81.4%             |PROFIT_INCREASE    |\n",
            "|27%               |REVENUES_DECLINED  |\n",
            "|$8,048,581 million|OPERATING_LOSS_2020|\n",
            "|$7,738,193        |OPERATING_LOSS_2019|\n",
            "|2019              |DATE               |\n",
            "+------------------+-------------------+\n",
            "\n"
          ]
        }
      ],
      "source": [
        "# from pyspark.sql import functions as F\n",
        "\n",
        "res.select(F.explode(F.arrays_zip(res.ner_chunk.result, res.ner_chunk.begin, res.ner_chunk.end, res.ner_chunk.metadata)).alias(\"cols\")) \\\n",
        "   .select(F.expr(\"cols['0']\").alias(\"chunk\"),\n",
        "           F.expr(\"cols['3']['entity']\").alias(\"ner_label\"))\\\n",
        "   .filter(\"ner_label!='O'\")\\\n",
        "   .show(truncate=False)"
      ]
    },
    {
      "cell_type": "code",
      "execution_count": null,
      "id": "1ef9d8b5-420a-4001-b604-c7086d100be2",
      "metadata": {
        "id": "1ef9d8b5-420a-4001-b604-c7086d100be2"
      },
      "outputs": [],
      "source": [
        "lp = nlp.LightPipeline(p_model)\n",
        "lp_res_1 = lp.fullAnnotate(sample_text[2])\n",
        "lp_res_2 = lp.fullAnnotate(sample_text[3])"
      ]
    },
    {
      "cell_type": "code",
      "execution_count": null,
      "id": "76965465-7b3e-4ed5-a2a8-9e522807bc20",
      "metadata": {
        "colab": {
          "base_uri": "https://localhost:8080/",
          "height": 159
        },
        "id": "76965465-7b3e-4ed5-a2a8-9e522807bc20",
        "outputId": "492b5667-d8bb-4cfe-9452-56760e5e2d6e"
      },
      "outputs": [
        {
          "data": {
            "text/html": [
              "\n",
              "<style>\n",
              "    @import url('https://fonts.googleapis.com/css2?family=Montserrat:wght@300;400;500;600;700&display=swap');\n",
              "    @import url('https://fonts.googleapis.com/css2?family=Vistol Regular:wght@300;400;500;600;700&display=swap');\n",
              "    \n",
              "    .spark-nlp-display-scroll-entities {\n",
              "        border: 1px solid #E7EDF0;\n",
              "        border-radius: 3px;\n",
              "        text-align: justify;\n",
              "        \n",
              "    }\n",
              "    .spark-nlp-display-scroll-entities span {  \n",
              "        font-size: 14px;\n",
              "        line-height: 24px;\n",
              "        color: #536B76;\n",
              "        font-family: 'Montserrat', sans-serif !important;\n",
              "    }\n",
              "    \n",
              "    .spark-nlp-display-entity-wrapper{\n",
              "    \n",
              "        display: inline-grid;\n",
              "        text-align: center;\n",
              "        border-radius: 4px;\n",
              "        margin: 0 2px 5px 2px;\n",
              "        padding: 1px\n",
              "    }\n",
              "    .spark-nlp-display-entity-name{\n",
              "        font-size: 14px;\n",
              "        line-height: 24px;\n",
              "        font-family: 'Montserrat', sans-serif !important;\n",
              "        \n",
              "        background: #f1f2f3;\n",
              "        border-width: medium;\n",
              "        text-align: center;\n",
              "        \n",
              "        font-weight: 400;\n",
              "        \n",
              "        border-radius: 5px;\n",
              "        padding: 2px 5px;\n",
              "        display: block;\n",
              "        margin: 3px 2px;\n",
              "    \n",
              "    }\n",
              "    .spark-nlp-display-entity-type{\n",
              "        font-size: 14px;\n",
              "        line-height: 24px;\n",
              "        color: #ffffff;\n",
              "        font-family: 'Montserrat', sans-serif !important;\n",
              "        \n",
              "        text-transform: uppercase;\n",
              "        \n",
              "        font-weight: 500;\n",
              "\n",
              "        display: block;\n",
              "        padding: 3px 5px;\n",
              "    }\n",
              "    \n",
              "    .spark-nlp-display-entity-resolution{\n",
              "        font-size: 14px;\n",
              "        line-height: 24px;\n",
              "        color: #ffffff;\n",
              "        font-family: 'Vistol Regular', sans-serif !important;\n",
              "        \n",
              "        text-transform: uppercase;\n",
              "        \n",
              "        font-weight: 500;\n",
              "\n",
              "        display: block;\n",
              "        padding: 3px 5px;\n",
              "    }\n",
              "    \n",
              "    .spark-nlp-display-others{\n",
              "        font-size: 14px;\n",
              "        line-height: 24px;\n",
              "        font-family: 'Montserrat', sans-serif !important;\n",
              "        \n",
              "        font-weight: 400;\n",
              "    }\n",
              "\n",
              "</style>\n",
              " <span class=\"spark-nlp-display-others\" style=\"background-color: white\">While our gross profit margin increased to </span><span class=\"spark-nlp-display-entity-wrapper\" style=\"background-color: #B45785\"><span class=\"spark-nlp-display-entity-name\">81.4% </span><span class=\"spark-nlp-display-entity-type\">PROFIT_INCREASE</span></span><span class=\"spark-nlp-display-others\" style=\"background-color: white\"> in 2020 from 63.1% in 2019, our revenues declined approximately </span><span class=\"spark-nlp-display-entity-wrapper\" style=\"background-color: #6C3F3A\"><span class=\"spark-nlp-display-entity-name\">27% </span><span class=\"spark-nlp-display-entity-type\">REVENUES_DECLINED</span></span><span class=\"spark-nlp-display-others\" style=\"background-color: white\"> in 2020 as compared to 2019.</span></div>"
            ],
            "text/plain": [
              "<IPython.core.display.HTML object>"
            ]
          },
          "metadata": {},
          "output_type": "display_data"
        },
        {
          "data": {
            "text/html": [
              "\n",
              "<style>\n",
              "    @import url('https://fonts.googleapis.com/css2?family=Montserrat:wght@300;400;500;600;700&display=swap');\n",
              "    @import url('https://fonts.googleapis.com/css2?family=Vistol Regular:wght@300;400;500;600;700&display=swap');\n",
              "    \n",
              "    .spark-nlp-display-scroll-entities {\n",
              "        border: 1px solid #E7EDF0;\n",
              "        border-radius: 3px;\n",
              "        text-align: justify;\n",
              "        \n",
              "    }\n",
              "    .spark-nlp-display-scroll-entities span {  \n",
              "        font-size: 14px;\n",
              "        line-height: 24px;\n",
              "        color: #536B76;\n",
              "        font-family: 'Montserrat', sans-serif !important;\n",
              "    }\n",
              "    \n",
              "    .spark-nlp-display-entity-wrapper{\n",
              "    \n",
              "        display: inline-grid;\n",
              "        text-align: center;\n",
              "        border-radius: 4px;\n",
              "        margin: 0 2px 5px 2px;\n",
              "        padding: 1px\n",
              "    }\n",
              "    .spark-nlp-display-entity-name{\n",
              "        font-size: 14px;\n",
              "        line-height: 24px;\n",
              "        font-family: 'Montserrat', sans-serif !important;\n",
              "        \n",
              "        background: #f1f2f3;\n",
              "        border-width: medium;\n",
              "        text-align: center;\n",
              "        \n",
              "        font-weight: 400;\n",
              "        \n",
              "        border-radius: 5px;\n",
              "        padding: 2px 5px;\n",
              "        display: block;\n",
              "        margin: 3px 2px;\n",
              "    \n",
              "    }\n",
              "    .spark-nlp-display-entity-type{\n",
              "        font-size: 14px;\n",
              "        line-height: 24px;\n",
              "        color: #ffffff;\n",
              "        font-family: 'Montserrat', sans-serif !important;\n",
              "        \n",
              "        text-transform: uppercase;\n",
              "        \n",
              "        font-weight: 500;\n",
              "\n",
              "        display: block;\n",
              "        padding: 3px 5px;\n",
              "    }\n",
              "    \n",
              "    .spark-nlp-display-entity-resolution{\n",
              "        font-size: 14px;\n",
              "        line-height: 24px;\n",
              "        color: #ffffff;\n",
              "        font-family: 'Vistol Regular', sans-serif !important;\n",
              "        \n",
              "        text-transform: uppercase;\n",
              "        \n",
              "        font-weight: 500;\n",
              "\n",
              "        display: block;\n",
              "        padding: 3px 5px;\n",
              "    }\n",
              "    \n",
              "    .spark-nlp-display-others{\n",
              "        font-size: 14px;\n",
              "        line-height: 24px;\n",
              "        font-family: 'Montserrat', sans-serif !important;\n",
              "        \n",
              "        font-weight: 400;\n",
              "    }\n",
              "\n",
              "</style>\n",
              " <span class=\"spark-nlp-display-others\" style=\"background-color: white\">While our gross profit margin increased to </span><span class=\"spark-nlp-display-entity-wrapper\" style=\"background-color: #62966E\"><span class=\"spark-nlp-display-entity-name\">81.4% </span><span class=\"spark-nlp-display-entity-type\">PROFIT_INCREASE</span></span><span class=\"spark-nlp-display-others\" style=\"background-color: white\"> in 2020 from 63.1% in 2019, our revenues declined approximately </span><span class=\"spark-nlp-display-entity-wrapper\" style=\"background-color: #586180\"><span class=\"spark-nlp-display-entity-name\">27% </span><span class=\"spark-nlp-display-entity-type\">REVENUES_DECLINED</span></span><span class=\"spark-nlp-display-others\" style=\"background-color: white\"> in 2020 as compared to 2019.</span></div>"
            ],
            "text/plain": [
              "<IPython.core.display.HTML object>"
            ]
          },
          "metadata": {},
          "output_type": "display_data"
        }
      ],
      "source": [
        "# from sparknlp_display import NerVisualizer\n",
        "\n",
        "visualiser = nlp.viz.NerVisualizer()\n",
        "\n",
        "visualiser.display(lp_res_1[0], label_col='ner_chunk', document_col='document')"
      ]
    },
    {
      "cell_type": "code",
      "execution_count": null,
      "id": "e60d6c8a-f65b-4218-8605-6bcef98f1204",
      "metadata": {
        "colab": {
          "base_uri": "https://localhost:8080/",
          "height": 159
        },
        "id": "e60d6c8a-f65b-4218-8605-6bcef98f1204",
        "outputId": "fdbe4f8b-1ce9-49d3-8cba-2b1ae65798d5"
      },
      "outputs": [
        {
          "data": {
            "text/html": [
              "\n",
              "<style>\n",
              "    @import url('https://fonts.googleapis.com/css2?family=Montserrat:wght@300;400;500;600;700&display=swap');\n",
              "    @import url('https://fonts.googleapis.com/css2?family=Vistol Regular:wght@300;400;500;600;700&display=swap');\n",
              "    \n",
              "    .spark-nlp-display-scroll-entities {\n",
              "        border: 1px solid #E7EDF0;\n",
              "        border-radius: 3px;\n",
              "        text-align: justify;\n",
              "        \n",
              "    }\n",
              "    .spark-nlp-display-scroll-entities span {  \n",
              "        font-size: 14px;\n",
              "        line-height: 24px;\n",
              "        color: #536B76;\n",
              "        font-family: 'Montserrat', sans-serif !important;\n",
              "    }\n",
              "    \n",
              "    .spark-nlp-display-entity-wrapper{\n",
              "    \n",
              "        display: inline-grid;\n",
              "        text-align: center;\n",
              "        border-radius: 4px;\n",
              "        margin: 0 2px 5px 2px;\n",
              "        padding: 1px\n",
              "    }\n",
              "    .spark-nlp-display-entity-name{\n",
              "        font-size: 14px;\n",
              "        line-height: 24px;\n",
              "        font-family: 'Montserrat', sans-serif !important;\n",
              "        \n",
              "        background: #f1f2f3;\n",
              "        border-width: medium;\n",
              "        text-align: center;\n",
              "        \n",
              "        font-weight: 400;\n",
              "        \n",
              "        border-radius: 5px;\n",
              "        padding: 2px 5px;\n",
              "        display: block;\n",
              "        margin: 3px 2px;\n",
              "    \n",
              "    }\n",
              "    .spark-nlp-display-entity-type{\n",
              "        font-size: 14px;\n",
              "        line-height: 24px;\n",
              "        color: #ffffff;\n",
              "        font-family: 'Montserrat', sans-serif !important;\n",
              "        \n",
              "        text-transform: uppercase;\n",
              "        \n",
              "        font-weight: 500;\n",
              "\n",
              "        display: block;\n",
              "        padding: 3px 5px;\n",
              "    }\n",
              "    \n",
              "    .spark-nlp-display-entity-resolution{\n",
              "        font-size: 14px;\n",
              "        line-height: 24px;\n",
              "        color: #ffffff;\n",
              "        font-family: 'Vistol Regular', sans-serif !important;\n",
              "        \n",
              "        text-transform: uppercase;\n",
              "        \n",
              "        font-weight: 500;\n",
              "\n",
              "        display: block;\n",
              "        padding: 3px 5px;\n",
              "    }\n",
              "    \n",
              "    .spark-nlp-display-others{\n",
              "        font-size: 14px;\n",
              "        line-height: 24px;\n",
              "        font-family: 'Montserrat', sans-serif !important;\n",
              "        \n",
              "        font-weight: 400;\n",
              "    }\n",
              "\n",
              "</style>\n",
              " <span class=\"spark-nlp-display-others\" style=\"background-color: white\">We reported an operating loss of approximately </span><span class=\"spark-nlp-display-entity-wrapper\" style=\"background-color: #A63B52\"><span class=\"spark-nlp-display-entity-name\">$8,048,581 million </span><span class=\"spark-nlp-display-entity-type\">OPERATING_LOSS_2020</span></span><span class=\"spark-nlp-display-others\" style=\"background-color: white\"> in 2020 as compared to an operating loss of </span><span class=\"spark-nlp-display-entity-wrapper\" style=\"background-color: #6D7738\"><span class=\"spark-nlp-display-entity-name\">$7,738,193 </span><span class=\"spark-nlp-display-entity-type\">OPERATING_LOSS_2019</span></span><span class=\"spark-nlp-display-others\" style=\"background-color: white\"> in </span><span class=\"spark-nlp-display-entity-wrapper\" style=\"background-color: #a6b1e1\"><span class=\"spark-nlp-display-entity-name\">2019 </span><span class=\"spark-nlp-display-entity-type\">DATE</span></span><span class=\"spark-nlp-display-others\" style=\"background-color: white\">.</span></div>"
            ],
            "text/plain": [
              "<IPython.core.display.HTML object>"
            ]
          },
          "metadata": {},
          "output_type": "display_data"
        },
        {
          "data": {
            "text/html": [
              "\n",
              "<style>\n",
              "    @import url('https://fonts.googleapis.com/css2?family=Montserrat:wght@300;400;500;600;700&display=swap');\n",
              "    @import url('https://fonts.googleapis.com/css2?family=Vistol Regular:wght@300;400;500;600;700&display=swap');\n",
              "    \n",
              "    .spark-nlp-display-scroll-entities {\n",
              "        border: 1px solid #E7EDF0;\n",
              "        border-radius: 3px;\n",
              "        text-align: justify;\n",
              "        \n",
              "    }\n",
              "    .spark-nlp-display-scroll-entities span {  \n",
              "        font-size: 14px;\n",
              "        line-height: 24px;\n",
              "        color: #536B76;\n",
              "        font-family: 'Montserrat', sans-serif !important;\n",
              "    }\n",
              "    \n",
              "    .spark-nlp-display-entity-wrapper{\n",
              "    \n",
              "        display: inline-grid;\n",
              "        text-align: center;\n",
              "        border-radius: 4px;\n",
              "        margin: 0 2px 5px 2px;\n",
              "        padding: 1px\n",
              "    }\n",
              "    .spark-nlp-display-entity-name{\n",
              "        font-size: 14px;\n",
              "        line-height: 24px;\n",
              "        font-family: 'Montserrat', sans-serif !important;\n",
              "        \n",
              "        background: #f1f2f3;\n",
              "        border-width: medium;\n",
              "        text-align: center;\n",
              "        \n",
              "        font-weight: 400;\n",
              "        \n",
              "        border-radius: 5px;\n",
              "        padding: 2px 5px;\n",
              "        display: block;\n",
              "        margin: 3px 2px;\n",
              "    \n",
              "    }\n",
              "    .spark-nlp-display-entity-type{\n",
              "        font-size: 14px;\n",
              "        line-height: 24px;\n",
              "        color: #ffffff;\n",
              "        font-family: 'Montserrat', sans-serif !important;\n",
              "        \n",
              "        text-transform: uppercase;\n",
              "        \n",
              "        font-weight: 500;\n",
              "\n",
              "        display: block;\n",
              "        padding: 3px 5px;\n",
              "    }\n",
              "    \n",
              "    .spark-nlp-display-entity-resolution{\n",
              "        font-size: 14px;\n",
              "        line-height: 24px;\n",
              "        color: #ffffff;\n",
              "        font-family: 'Vistol Regular', sans-serif !important;\n",
              "        \n",
              "        text-transform: uppercase;\n",
              "        \n",
              "        font-weight: 500;\n",
              "\n",
              "        display: block;\n",
              "        padding: 3px 5px;\n",
              "    }\n",
              "    \n",
              "    .spark-nlp-display-others{\n",
              "        font-size: 14px;\n",
              "        line-height: 24px;\n",
              "        font-family: 'Montserrat', sans-serif !important;\n",
              "        \n",
              "        font-weight: 400;\n",
              "    }\n",
              "\n",
              "</style>\n",
              " <span class=\"spark-nlp-display-others\" style=\"background-color: white\">We reported an operating loss of approximately </span><span class=\"spark-nlp-display-entity-wrapper\" style=\"background-color: #422754\"><span class=\"spark-nlp-display-entity-name\">$8,048,581 million </span><span class=\"spark-nlp-display-entity-type\">OPERATING_LOSS_2020</span></span><span class=\"spark-nlp-display-others\" style=\"background-color: white\"> in 2020 as compared to an operating loss of </span><span class=\"spark-nlp-display-entity-wrapper\" style=\"background-color: #642D09\"><span class=\"spark-nlp-display-entity-name\">$7,738,193 </span><span class=\"spark-nlp-display-entity-type\">OPERATING_LOSS_2019</span></span><span class=\"spark-nlp-display-others\" style=\"background-color: white\"> in </span><span class=\"spark-nlp-display-entity-wrapper\" style=\"background-color: #a6b1e1\"><span class=\"spark-nlp-display-entity-name\">2019 </span><span class=\"spark-nlp-display-entity-type\">DATE</span></span><span class=\"spark-nlp-display-others\" style=\"background-color: white\">.</span></div>"
            ],
            "text/plain": [
              "<IPython.core.display.HTML object>"
            ]
          },
          "metadata": {},
          "output_type": "display_data"
        }
      ],
      "source": [
        "visualiser.display(lp_res_2[0], label_col='ner_chunk', document_col='document')"
      ]
    }
  ],
  "metadata": {
    "colab": {
      "provenance": []
    },
    "gpuClass": "standard",
    "kernelspec": {
      "display_name": "tf-gpu",
      "language": "python",
      "name": "python3"
    },
    "language_info": {
      "codemirror_mode": {
        "name": "ipython",
        "version": 3
      },
      "file_extension": ".py",
      "mimetype": "text/x-python",
      "name": "python",
      "nbconvert_exporter": "python",
      "pygments_lexer": "ipython3",
      "version": "3.9.7 (default, Sep 16 2021, 16:59:28) [MSC v.1916 64 bit (AMD64)]"
    },
    "vscode": {
      "interpreter": {
        "hash": "3f47d918ae832c68584484921185f5c85a1760864bf927a683dc6fb56366cc77"
      }
    }
  },
  "nbformat": 4,
  "nbformat_minor": 5
}
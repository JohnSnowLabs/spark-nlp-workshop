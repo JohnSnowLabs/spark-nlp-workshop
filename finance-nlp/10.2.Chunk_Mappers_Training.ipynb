{
  "cells": [
    {
      "cell_type": "markdown",
      "id": "db5f4f9a-7776-42b3-8758-85624d4c15ea",
      "metadata": {
        "id": "db5f4f9a-7776-42b3-8758-85624d4c15ea"
      },
      "source": [
        "![JohnSnowLabs](https://nlp.johnsnowlabs.com/assets/images/logo.png)"
      ]
    },
    {
      "cell_type": "markdown",
      "id": "21e9eafb",
      "metadata": {
        "id": "21e9eafb"
      },
      "source": [
        "[![Open In Colab](https://colab.research.google.com/assets/colab-badge.svg)](https://colab.research.google.com/github/JohnSnowLabs/spark-nlp-workshop/blob/master/finance-nlp/10.2.Chunk_Mappers_Training.ipynb)"
      ]
    },
    {
      "cell_type": "markdown",
      "id": "gk3kZHmNj51v",
      "metadata": {
        "collapsed": false,
        "id": "gk3kZHmNj51v"
      },
      "source": [
        "# Installation"
      ]
    },
    {
      "cell_type": "code",
      "execution_count": 1,
      "id": "_914itZsj51v",
      "metadata": {
        "id": "_914itZsj51v",
        "pycharm": {
          "is_executing": true
        },
        "colab": {
          "base_uri": "https://localhost:8080/"
        },
        "outputId": "37fad0f9-ebae-4583-f862-24c27a216742"
      },
      "outputs": [
        {
          "output_type": "stream",
          "name": "stdout",
          "text": [
            "\u001b[2K     \u001b[90m━━━━━━━━━━━━━━━━━━━━━━━━━━━━━━━━━━━━━━━━\u001b[0m \u001b[32m74.8/74.8 KB\u001b[0m \u001b[31m1.4 MB/s\u001b[0m eta \u001b[36m0:00:00\u001b[0m\n",
            "\u001b[2K     \u001b[90m━━━━━━━━━━━━━━━━━━━━━━━━━━━━━━━━━━━━━━━\u001b[0m \u001b[32m212.4/212.4 MB\u001b[0m \u001b[31m4.1 MB/s\u001b[0m eta \u001b[36m0:00:00\u001b[0m\n",
            "\u001b[?25h  Preparing metadata (setup.py) ... \u001b[?25l\u001b[?25hdone\n",
            "\u001b[2K     \u001b[90m━━━━━━━━━━━━━━━━━━━━━━━━━━━━━━━━━━━━━━\u001b[0m \u001b[32m469.5/469.5 KB\u001b[0m \u001b[31m22.1 MB/s\u001b[0m eta \u001b[36m0:00:00\u001b[0m\n",
            "\u001b[2K     \u001b[90m━━━━━━━━━━━━━━━━━━━━━━━━━━━━━━━━━━━━━━\u001b[0m \u001b[32m570.6/570.6 KB\u001b[0m \u001b[31m26.7 MB/s\u001b[0m eta \u001b[36m0:00:00\u001b[0m\n",
            "\u001b[2K     \u001b[90m━━━━━━━━━━━━━━━━━━━━━━━━━━━━━━━━━━━━━━━━\u001b[0m \u001b[32m95.4/95.4 KB\u001b[0m \u001b[31m7.5 MB/s\u001b[0m eta \u001b[36m0:00:00\u001b[0m\n",
            "\u001b[2K     \u001b[90m━━━━━━━━━━━━━━━━━━━━━━━━━━━━━━━━━━━━━━\u001b[0m \u001b[32m198.6/198.6 KB\u001b[0m \u001b[31m12.9 MB/s\u001b[0m eta \u001b[36m0:00:00\u001b[0m\n",
            "\u001b[2K     \u001b[90m━━━━━━━━━━━━━━━━━━━━━━━━━━━━━━━━━━━━━━━━\u001b[0m \u001b[32m66.9/66.9 KB\u001b[0m \u001b[31m6.0 MB/s\u001b[0m eta \u001b[36m0:00:00\u001b[0m\n",
            "\u001b[2K     \u001b[90m━━━━━━━━━━━━━━━━━━━━━━━━━━━━━━━━━━━━━━━━\u001b[0m \u001b[32m82.3/82.3 KB\u001b[0m \u001b[31m5.6 MB/s\u001b[0m eta \u001b[36m0:00:00\u001b[0m\n",
            "\u001b[?25h  Preparing metadata (setup.py) ... \u001b[?25l\u001b[?25hdone\n",
            "\u001b[2K     \u001b[90m━━━━━━━━━━━━━━━━━━━━━━━━━━━━━━━━━━━━━━━━\u001b[0m \u001b[32m1.6/1.6 MB\u001b[0m \u001b[31m41.2 MB/s\u001b[0m eta \u001b[36m0:00:00\u001b[0m\n",
            "\u001b[?25h  Building wheel for pyspark (setup.py) ... \u001b[?25l\u001b[?25hdone\n",
            "  Building wheel for databricks-cli (setup.py) ... \u001b[?25l\u001b[?25hdone\n"
          ]
        }
      ],
      "source": [
        "! pip install -q johnsnowlabs"
      ]
    },
    {
      "cell_type": "markdown",
      "id": "YPsbAnNoPt0Z",
      "metadata": {
        "id": "YPsbAnNoPt0Z"
      },
      "source": [
        "## Automatic Installation\n",
        "Using my.johnsnowlabs.com SSO"
      ]
    },
    {
      "cell_type": "code",
      "execution_count": 2,
      "id": "fY0lcShkj51w",
      "metadata": {
        "id": "fY0lcShkj51w",
        "pycharm": {
          "is_executing": true
        }
      },
      "outputs": [],
      "source": [
        "from johnsnowlabs import nlp, finance\n",
        "\n",
        "# nlp.install(force_browser=True)"
      ]
    },
    {
      "cell_type": "markdown",
      "id": "hsJvn_WWM2GL",
      "metadata": {
        "id": "hsJvn_WWM2GL"
      },
      "source": [
        "## Manual downloading\n",
        "If you are not registered in my.johnsnowlabs.com, you received a license via e-email or you are using Safari, you may need to do a manual update of the license.\n",
        "\n",
        "- Go to my.johnsnowlabs.com\n",
        "- Download your license\n",
        "- Upload it using the following command"
      ]
    },
    {
      "cell_type": "code",
      "execution_count": 3,
      "id": "i57QV3-_P2sQ",
      "metadata": {
        "id": "i57QV3-_P2sQ",
        "colab": {
          "base_uri": "https://localhost:8080/",
          "height": 89
        },
        "outputId": "b55482cd-81ac-4682-a634-7f181dd36aba"
      },
      "outputs": [
        {
          "output_type": "stream",
          "name": "stdout",
          "text": [
            "Please Upload your John Snow Labs License using the button below\n"
          ]
        },
        {
          "output_type": "display_data",
          "data": {
            "text/plain": [
              "<IPython.core.display.HTML object>"
            ],
            "text/html": [
              "\n",
              "     <input type=\"file\" id=\"files-10b1154f-8ba1-4b3d-94c8-0f808bd2d288\" name=\"files[]\" multiple disabled\n",
              "        style=\"border:none\" />\n",
              "     <output id=\"result-10b1154f-8ba1-4b3d-94c8-0f808bd2d288\">\n",
              "      Upload widget is only available when the cell has been executed in the\n",
              "      current browser session. Please rerun this cell to enable.\n",
              "      </output>\n",
              "      <script>// Copyright 2017 Google LLC\n",
              "//\n",
              "// Licensed under the Apache License, Version 2.0 (the \"License\");\n",
              "// you may not use this file except in compliance with the License.\n",
              "// You may obtain a copy of the License at\n",
              "//\n",
              "//      http://www.apache.org/licenses/LICENSE-2.0\n",
              "//\n",
              "// Unless required by applicable law or agreed to in writing, software\n",
              "// distributed under the License is distributed on an \"AS IS\" BASIS,\n",
              "// WITHOUT WARRANTIES OR CONDITIONS OF ANY KIND, either express or implied.\n",
              "// See the License for the specific language governing permissions and\n",
              "// limitations under the License.\n",
              "\n",
              "/**\n",
              " * @fileoverview Helpers for google.colab Python module.\n",
              " */\n",
              "(function(scope) {\n",
              "function span(text, styleAttributes = {}) {\n",
              "  const element = document.createElement('span');\n",
              "  element.textContent = text;\n",
              "  for (const key of Object.keys(styleAttributes)) {\n",
              "    element.style[key] = styleAttributes[key];\n",
              "  }\n",
              "  return element;\n",
              "}\n",
              "\n",
              "// Max number of bytes which will be uploaded at a time.\n",
              "const MAX_PAYLOAD_SIZE = 100 * 1024;\n",
              "\n",
              "function _uploadFiles(inputId, outputId) {\n",
              "  const steps = uploadFilesStep(inputId, outputId);\n",
              "  const outputElement = document.getElementById(outputId);\n",
              "  // Cache steps on the outputElement to make it available for the next call\n",
              "  // to uploadFilesContinue from Python.\n",
              "  outputElement.steps = steps;\n",
              "\n",
              "  return _uploadFilesContinue(outputId);\n",
              "}\n",
              "\n",
              "// This is roughly an async generator (not supported in the browser yet),\n",
              "// where there are multiple asynchronous steps and the Python side is going\n",
              "// to poll for completion of each step.\n",
              "// This uses a Promise to block the python side on completion of each step,\n",
              "// then passes the result of the previous step as the input to the next step.\n",
              "function _uploadFilesContinue(outputId) {\n",
              "  const outputElement = document.getElementById(outputId);\n",
              "  const steps = outputElement.steps;\n",
              "\n",
              "  const next = steps.next(outputElement.lastPromiseValue);\n",
              "  return Promise.resolve(next.value.promise).then((value) => {\n",
              "    // Cache the last promise value to make it available to the next\n",
              "    // step of the generator.\n",
              "    outputElement.lastPromiseValue = value;\n",
              "    return next.value.response;\n",
              "  });\n",
              "}\n",
              "\n",
              "/**\n",
              " * Generator function which is called between each async step of the upload\n",
              " * process.\n",
              " * @param {string} inputId Element ID of the input file picker element.\n",
              " * @param {string} outputId Element ID of the output display.\n",
              " * @return {!Iterable<!Object>} Iterable of next steps.\n",
              " */\n",
              "function* uploadFilesStep(inputId, outputId) {\n",
              "  const inputElement = document.getElementById(inputId);\n",
              "  inputElement.disabled = false;\n",
              "\n",
              "  const outputElement = document.getElementById(outputId);\n",
              "  outputElement.innerHTML = '';\n",
              "\n",
              "  const pickedPromise = new Promise((resolve) => {\n",
              "    inputElement.addEventListener('change', (e) => {\n",
              "      resolve(e.target.files);\n",
              "    });\n",
              "  });\n",
              "\n",
              "  const cancel = document.createElement('button');\n",
              "  inputElement.parentElement.appendChild(cancel);\n",
              "  cancel.textContent = 'Cancel upload';\n",
              "  const cancelPromise = new Promise((resolve) => {\n",
              "    cancel.onclick = () => {\n",
              "      resolve(null);\n",
              "    };\n",
              "  });\n",
              "\n",
              "  // Wait for the user to pick the files.\n",
              "  const files = yield {\n",
              "    promise: Promise.race([pickedPromise, cancelPromise]),\n",
              "    response: {\n",
              "      action: 'starting',\n",
              "    }\n",
              "  };\n",
              "\n",
              "  cancel.remove();\n",
              "\n",
              "  // Disable the input element since further picks are not allowed.\n",
              "  inputElement.disabled = true;\n",
              "\n",
              "  if (!files) {\n",
              "    return {\n",
              "      response: {\n",
              "        action: 'complete',\n",
              "      }\n",
              "    };\n",
              "  }\n",
              "\n",
              "  for (const file of files) {\n",
              "    const li = document.createElement('li');\n",
              "    li.append(span(file.name, {fontWeight: 'bold'}));\n",
              "    li.append(span(\n",
              "        `(${file.type || 'n/a'}) - ${file.size} bytes, ` +\n",
              "        `last modified: ${\n",
              "            file.lastModifiedDate ? file.lastModifiedDate.toLocaleDateString() :\n",
              "                                    'n/a'} - `));\n",
              "    const percent = span('0% done');\n",
              "    li.appendChild(percent);\n",
              "\n",
              "    outputElement.appendChild(li);\n",
              "\n",
              "    const fileDataPromise = new Promise((resolve) => {\n",
              "      const reader = new FileReader();\n",
              "      reader.onload = (e) => {\n",
              "        resolve(e.target.result);\n",
              "      };\n",
              "      reader.readAsArrayBuffer(file);\n",
              "    });\n",
              "    // Wait for the data to be ready.\n",
              "    let fileData = yield {\n",
              "      promise: fileDataPromise,\n",
              "      response: {\n",
              "        action: 'continue',\n",
              "      }\n",
              "    };\n",
              "\n",
              "    // Use a chunked sending to avoid message size limits. See b/62115660.\n",
              "    let position = 0;\n",
              "    do {\n",
              "      const length = Math.min(fileData.byteLength - position, MAX_PAYLOAD_SIZE);\n",
              "      const chunk = new Uint8Array(fileData, position, length);\n",
              "      position += length;\n",
              "\n",
              "      const base64 = btoa(String.fromCharCode.apply(null, chunk));\n",
              "      yield {\n",
              "        response: {\n",
              "          action: 'append',\n",
              "          file: file.name,\n",
              "          data: base64,\n",
              "        },\n",
              "      };\n",
              "\n",
              "      let percentDone = fileData.byteLength === 0 ?\n",
              "          100 :\n",
              "          Math.round((position / fileData.byteLength) * 100);\n",
              "      percent.textContent = `${percentDone}% done`;\n",
              "\n",
              "    } while (position < fileData.byteLength);\n",
              "  }\n",
              "\n",
              "  // All done.\n",
              "  yield {\n",
              "    response: {\n",
              "      action: 'complete',\n",
              "    }\n",
              "  };\n",
              "}\n",
              "\n",
              "scope.google = scope.google || {};\n",
              "scope.google.colab = scope.google.colab || {};\n",
              "scope.google.colab._files = {\n",
              "  _uploadFiles,\n",
              "  _uploadFilesContinue,\n",
              "};\n",
              "})(self);\n",
              "</script> "
            ]
          },
          "metadata": {}
        },
        {
          "output_type": "stream",
          "name": "stdout",
          "text": [
            "Saving spark_nlp_for_healthcare_spark_ocr_6538.json to spark_nlp_for_healthcare_spark_ocr_6538.json\n"
          ]
        }
      ],
      "source": [
        "from google.colab import files\n",
        "print('Please Upload your John Snow Labs License using the button below')\n",
        "license_keys = files.upload()"
      ]
    },
    {
      "cell_type": "markdown",
      "id": "xGgNdFzZP_hQ",
      "metadata": {
        "id": "xGgNdFzZP_hQ"
      },
      "source": [
        "- Install it"
      ]
    },
    {
      "cell_type": "code",
      "execution_count": 4,
      "id": "OfmmPqknP4rR",
      "metadata": {
        "id": "OfmmPqknP4rR",
        "colab": {
          "base_uri": "https://localhost:8080/"
        },
        "outputId": "fafa5d15-fd9f-4502-b4b9-2dfcfb6d44ff"
      },
      "outputs": [
        {
          "output_type": "stream",
          "name": "stdout",
          "text": [
            "👌 Detected license file /content/spark_nlp_for_healthcare_spark_ocr_6538.json\n",
            "📋 Stored John Snow Labs License in /root/.johnsnowlabs/licenses/license_number_0_for_Spark-Healthcare_Spark-OCR.json\n",
            "👷 Setting up  John Snow Labs home in /root/.johnsnowlabs, this might take a few minutes.\n",
            "Downloading 🐍+🚀 Python Library spark_nlp-4.3.0-py2.py3-none-any.whl\n",
            "Downloading 🐍+💊 Python Library spark_nlp_jsl-4.3.0-py3-none-any.whl\n",
            "Downloading 🫘+🚀 Java Library spark-nlp-assembly-4.3.0.jar\n",
            "Downloading 🫘+💊 Java Library spark-nlp-jsl-4.3.0.jar\n",
            "🙆 JSL Home setup in /root/.johnsnowlabs\n",
            "👌 Detected license file /content/spark_nlp_for_healthcare_spark_ocr_6538.json\n",
            "Installing /root/.johnsnowlabs/py_installs/spark_nlp_jsl-4.3.0-py3-none-any.whl to /usr/bin/python3\n",
            "Installed 1 products:\n",
            "💊 Spark-Healthcare==4.3.0 installed! ✅ Heal the planet with NLP! \n"
          ]
        }
      ],
      "source": [
        "nlp.install()"
      ]
    },
    {
      "cell_type": "markdown",
      "id": "DCl5ErZkNNLk",
      "metadata": {
        "id": "DCl5ErZkNNLk"
      },
      "source": [
        "# Starting"
      ]
    },
    {
      "cell_type": "code",
      "execution_count": 5,
      "id": "wRXTnNl3j51w",
      "metadata": {
        "id": "wRXTnNl3j51w",
        "colab": {
          "base_uri": "https://localhost:8080/"
        },
        "outputId": "31ff31db-7794-430a-ce86-dc1d3a16e854"
      },
      "outputs": [
        {
          "output_type": "stream",
          "name": "stdout",
          "text": [
            "👌 Detected license file /content/spark_nlp_for_healthcare_spark_ocr_6538.json\n",
            "👌 Launched \u001b[92mcpu optimized\u001b[39m session with with: 🚀Spark-NLP==4.3.0, 💊Spark-Healthcare==4.3.0, running on ⚡ PySpark==3.1.2\n"
          ]
        }
      ],
      "source": [
        "spark = nlp.start()"
      ]
    },
    {
      "cell_type": "markdown",
      "id": "cfbbcfc0-e0b7-4c25-8bd7-c64d90f836d1",
      "metadata": {
        "id": "cfbbcfc0-e0b7-4c25-8bd7-c64d90f836d1"
      },
      "source": [
        "# Financial Data Augmentation with Chunk Mappers"
      ]
    },
    {
      "cell_type": "markdown",
      "id": "d2cd4221-fbca-4ca1-86a9-65e6264c4ad1",
      "metadata": {
        "id": "d2cd4221-fbca-4ca1-86a9-65e6264c4ad1"
      },
      "source": [
        "# About Data Augmentation"
      ]
    },
    {
      "cell_type": "markdown",
      "id": "bf9835fd-9def-44e4-b022-e8db0f045fec",
      "metadata": {
        "id": "bf9835fd-9def-44e4-b022-e8db0f045fec"
      },
      "source": [
        "__Data Augmentation__ is the process of increase an extracted datapoint with external sources. \n",
        "\n",
        "For example, let's suppose I work with a document which mentions the company _Amazon_. We could be talking about stock prices, or some legal litigations, or just a commercial agreement with a provider, among others.\n",
        "\n",
        "In the document, we can extract a company name using NER as an Organization, but that's all the information available about the company in that document.\n",
        "\n",
        "Well, with __Data Augmentation__, we can use external sources, as _SEC Edgar, Nasdaq_ or even _Wikidata_, to enrich the company with much more information, allowing us to take better decisions.\n",
        "\n",
        "Let's see how to do it."
      ]
    },
    {
      "cell_type": "markdown",
      "id": "UP1E0vZOpZ3h",
      "metadata": {
        "id": "UP1E0vZOpZ3h"
      },
      "source": [
        "# Train Your Own ChunkMapper Model"
      ]
    },
    {
      "cell_type": "markdown",
      "id": "34f517bb-adde-4daa-b12d-921b37dd6d38",
      "metadata": {
        "id": "34f517bb-adde-4daa-b12d-921b37dd6d38"
      },
      "source": [
        "Here, we will train a ChunkMapper model with 1000 sample "
      ]
    },
    {
      "cell_type": "code",
      "execution_count": 6,
      "id": "56mbt5eO397E",
      "metadata": {
        "id": "56mbt5eO397E"
      },
      "outputs": [],
      "source": [
        "! wget -q https://raw.githubusercontent.com/JohnSnowLabs/spark-nlp-workshop/master/finance-nlp/data/sample_openedgar.json"
      ]
    },
    {
      "cell_type": "code",
      "execution_count": 7,
      "id": "8be8c43c-ebf2-4d1e-b98b-31c0fe68cabc",
      "metadata": {
        "id": "8be8c43c-ebf2-4d1e-b98b-31c0fe68cabc"
      },
      "outputs": [],
      "source": [
        "import json\n",
        "with open('sample_openedgar.json', 'r') as f:\n",
        "    company_json = json.load(f)"
      ]
    },
    {
      "cell_type": "code",
      "execution_count": 8,
      "id": "be07f846-109f-4834-89ff-483bd00c5ab5",
      "metadata": {
        "colab": {
          "base_uri": "https://localhost:8080/"
        },
        "id": "be07f846-109f-4834-89ff-483bd00c5ab5",
        "outputId": "824960e7-9b63-43f2-99eb-67b4ca865a78"
      },
      "outputs": [
        {
          "output_type": "execute_result",
          "data": {
            "text/plain": [
              "{'key': 'AWA Group LP',\n",
              " 'relations': [{'key': 'name', 'values': ['AWA Group LP']},\n",
              "  {'key': 'sic', 'values': ['INVESTMENT ADVICE [6282]']},\n",
              "  {'key': 'sic_code', 'values': [6282, 0]},\n",
              "  {'key': 'irs_number', 'values': [371785232, 0]},\n",
              "  {'key': 'fiscal_year_end', 'values': [630, 1231, 0]},\n",
              "  {'key': 'state_location', 'values': ['NC']},\n",
              "  {'key': 'state_incorporation', 'values': ['DE']},\n",
              "  {'key': 'business_street', 'values': ['116 SOUTH FRANKLIN STREET']},\n",
              "  {'key': 'business_city', 'values': ['ROCKY MOUNT']},\n",
              "  {'key': 'business_state', 'values': ['NC']},\n",
              "  {'key': 'business_zip', 'values': ['27804']},\n",
              "  {'key': 'business_phone', 'values': ['952-446-6678']},\n",
              "  {'key': 'former_name', 'values': ['']},\n",
              "  {'key': 'former_name_date', 'values': ['']},\n",
              "  {'key': 'date',\n",
              "   'values': ['2017-01-23',\n",
              "    '2017-03-16',\n",
              "    '2016-01-22',\n",
              "    '2016-01-19',\n",
              "    '2015-06-30',\n",
              "    '2016-04-14',\n",
              "    '2016-07-27',\n",
              "    '2016-10-28',\n",
              "    '2015-06-26',\n",
              "    '2015-09-02',\n",
              "    '2015-09-29',\n",
              "    '2015-12-31']},\n",
              "  {'key': 'company_id', 'values': [1645148]}]}"
            ]
          },
          "metadata": {},
          "execution_count": 8
        }
      ],
      "source": [
        "company_json['mappings'][8]"
      ]
    },
    {
      "cell_type": "markdown",
      "id": "jiN1I0L_vqPK",
      "metadata": {
        "id": "jiN1I0L_vqPK"
      },
      "source": [
        "### Check a sample company"
      ]
    },
    {
      "cell_type": "code",
      "execution_count": 12,
      "id": "80cd73e4-288c-44fc-8ff3-fdded39ba25a",
      "metadata": {
        "colab": {
          "base_uri": "https://localhost:8080/"
        },
        "id": "80cd73e4-288c-44fc-8ff3-fdded39ba25a",
        "outputId": "ff1fbc5e-4042-4cd1-d524-f2b58dbeff6a"
      },
      "outputs": [
        {
          "output_type": "stream",
          "name": "stdout",
          "text": [
            "{'key': 'Rayton Solar Inc.', 'relations': [{'key': 'name', 'values': ['Rayton Solar Inc.']}, {'key': 'sic', 'values': ['SEMICONDUCTORS & RELATED DEVICES [3674]']}, {'key': 'sic_code', 'values': [3674]}, {'key': 'irs_number', 'values': [0]}, {'key': 'fiscal_year_end', 'values': [1231]}, {'key': 'state_location', 'values': ['CA']}, {'key': 'state_incorporation', 'values': ['DE']}, {'key': 'business_street', 'values': ['920 COLORADO AVE.']}, {'key': 'business_city', 'values': ['SANTA MONICA']}, {'key': 'business_state', 'values': ['CA']}, {'key': 'business_zip', 'values': ['90401']}, {'key': 'business_phone', 'values': ['(661) 259-4786']}, {'key': 'former_name', 'values': ['']}, {'key': 'former_name_date', 'values': ['']}, {'key': 'date', 'values': ['2017-01-10', '2017-01-20', '2017-01-06', '2017-05-15', '2017-09-28', '2016-11-29', '2016-12-20', '2016-12-22', '2022-09-21', '2019-06-27', '2018-03-22', '2018-04-30', '2018-12-10', '2021-09-22', '2020-06-08', '2020-09-28']}, {'key': 'company_id', 'values': [1654124]}]}\n"
          ]
        }
      ],
      "source": [
        "for x in company_json['mappings']:\n",
        "    if 'Rayton Solar Inc.' in x['key']:\n",
        "        print(x)"
      ]
    },
    {
      "cell_type": "markdown",
      "id": "loOpl4LqvvPi",
      "metadata": {
        "id": "loOpl4LqvvPi"
      },
      "source": [
        "### Check all keys"
      ]
    },
    {
      "cell_type": "code",
      "execution_count": 13,
      "id": "e9fe7709-868d-453f-a162-7fa737f50989",
      "metadata": {
        "id": "e9fe7709-868d-453f-a162-7fa737f50989"
      },
      "outputs": [],
      "source": [
        "all_rels = [x['key'] for x in company_json['mappings'][0]['relations']]"
      ]
    },
    {
      "cell_type": "code",
      "execution_count": 14,
      "id": "c47604d3-9028-41a1-a0be-a669d105beb3",
      "metadata": {
        "colab": {
          "base_uri": "https://localhost:8080/"
        },
        "id": "c47604d3-9028-41a1-a0be-a669d105beb3",
        "outputId": "8dca85fc-a693-49b7-b4af-c99c040c6ba8"
      },
      "outputs": [
        {
          "output_type": "execute_result",
          "data": {
            "text/plain": [
              "['name',\n",
              " 'sic',\n",
              " 'sic_code',\n",
              " 'irs_number',\n",
              " 'fiscal_year_end',\n",
              " 'state_location',\n",
              " 'state_incorporation',\n",
              " 'business_street',\n",
              " 'business_city',\n",
              " 'business_state',\n",
              " 'business_zip',\n",
              " 'business_phone',\n",
              " 'former_name',\n",
              " 'former_name_date',\n",
              " 'date',\n",
              " 'company_id']"
            ]
          },
          "metadata": {},
          "execution_count": 14
        }
      ],
      "source": [
        "all_rels"
      ]
    },
    {
      "cell_type": "markdown",
      "id": "7opshMS1vx1H",
      "metadata": {
        "id": "7opshMS1vx1H"
      },
      "source": [
        "### Create ChunkMapperApproach"
      ]
    },
    {
      "cell_type": "code",
      "execution_count": 16,
      "id": "b5d078b5-bd12-4d4a-ade7-3200a278e061",
      "metadata": {
        "id": "b5d078b5-bd12-4d4a-ade7-3200a278e061",
        "tags": []
      },
      "outputs": [],
      "source": [
        "chunkerMapper = finance.ChunkMapperApproach()\\\n",
        "      .setInputCols([\"ner_chunk\"])\\\n",
        "      .setOutputCol(\"mappings\")\\\n",
        "      .setDictionary(\"sample_openedgar.json\")\\\n",
        "      .setRels(all_rels)"
      ]
    },
    {
      "cell_type": "code",
      "execution_count": 17,
      "id": "940ca6b5-a603-4060-a112-d1f407834d4f",
      "metadata": {
        "id": "940ca6b5-a603-4060-a112-d1f407834d4f"
      },
      "outputs": [],
      "source": [
        "empty_dataset = spark.createDataFrame([[\"\"]]).toDF(\"text\")"
      ]
    },
    {
      "cell_type": "code",
      "execution_count": 18,
      "id": "6bd7485a-6f3c-442a-8d74-a07ae0385d56",
      "metadata": {
        "id": "6bd7485a-6f3c-442a-8d74-a07ae0385d56"
      },
      "outputs": [],
      "source": [
        "fit_CM = chunkerMapper.fit(empty_dataset)"
      ]
    },
    {
      "cell_type": "code",
      "execution_count": 19,
      "id": "d3336018-e50c-4cb9-a07f-755bae236d80",
      "metadata": {
        "id": "d3336018-e50c-4cb9-a07f-755bae236d80"
      },
      "outputs": [],
      "source": [
        "# Save model\n",
        "fit_CM.write().overwrite().save('openedgar_2000_2022_company_mapper')"
      ]
    },
    {
      "cell_type": "markdown",
      "id": "Cg0oUxTbv3oE",
      "metadata": {
        "id": "Cg0oUxTbv3oE"
      },
      "source": [
        "### Let's test our ChunkMapper model"
      ]
    },
    {
      "cell_type": "code",
      "execution_count": 20,
      "id": "DlxWvIcTsqTd",
      "metadata": {
        "id": "DlxWvIcTsqTd"
      },
      "outputs": [],
      "source": [
        "text = [\"\"\"AWA Group LP intends to pay dividends on the Common Units on a quarterly basis at an annual rate of 8.00% of the Offering Price. \"\"\"]"
      ]
    },
    {
      "cell_type": "markdown",
      "id": "R1caDZbF14eq",
      "metadata": {
        "id": "R1caDZbF14eq"
      },
      "source": [
        "We get compnay name from sample text"
      ]
    },
    {
      "cell_type": "code",
      "execution_count": 22,
      "id": "K0_gi-xF0B56",
      "metadata": {
        "colab": {
          "base_uri": "https://localhost:8080/"
        },
        "id": "K0_gi-xF0B56",
        "outputId": "71b46ea4-06d4-474c-8bc1-87f58a2195f6"
      },
      "outputs": [
        {
          "output_type": "stream",
          "name": "stdout",
          "text": [
            "sentence_detector_dl download started this may take some time.\n",
            "Approximate size to download 514.9 KB\n",
            "[OK!]\n",
            "bert_embeddings_sec_bert_base download started this may take some time.\n",
            "Approximate size to download 390.4 MB\n",
            "[OK!]\n",
            "finner_orgs_prods_alias download started this may take some time.\n",
            "[OK!]\n"
          ]
        }
      ],
      "source": [
        "documentAssembler = nlp.DocumentAssembler()\\\n",
        "        .setInputCol(\"text\")\\\n",
        "        .setOutputCol(\"document\")\n",
        "        \n",
        "sentenceDetector = nlp.SentenceDetectorDLModel.pretrained(\"sentence_detector_dl\",\"xx\")\\\n",
        "        .setInputCols([\"document\"])\\\n",
        "        .setOutputCol(\"sentence\")\n",
        "\n",
        "tokenizer = nlp.Tokenizer()\\\n",
        "        .setInputCols([\"sentence\"])\\\n",
        "        .setOutputCol(\"token\")\n",
        "\n",
        "embeddings = nlp.BertEmbeddings.pretrained(\"bert_embeddings_sec_bert_base\",\"en\") \\\n",
        "        .setInputCols([\"sentence\", \"token\"]) \\\n",
        "        .setOutputCol(\"embeddings\")\n",
        "\n",
        "ner_model = finance.NerModel.pretrained(\"finner_orgs_prods_alias\", \"en\", \"finance/models\")\\\n",
        "        .setInputCols([\"sentence\", \"token\", \"embeddings\"])\\\n",
        "        .setOutputCol(\"ner\")\n",
        "\n",
        "ner_converter = nlp.NerConverter()\\\n",
        "        .setInputCols([\"sentence\",\"token\",\"ner\"])\\\n",
        "        .setOutputCol(\"ner_chunk\")\\\n",
        "        .setWhiteList([\"ORG\"]) # Return only ORG entities\n",
        "\n",
        "nlpPipeline = nlp.Pipeline(stages=[\n",
        "        documentAssembler,\n",
        "        sentenceDetector,\n",
        "        tokenizer,\n",
        "        embeddings,\n",
        "        ner_model,\n",
        "        ner_converter])\n",
        "\n",
        "empty_data = spark.createDataFrame([[\"\"]]).toDF(\"text\")\n",
        "\n",
        "model = nlpPipeline.fit(empty_data)\n",
        "\n",
        "light_model = nlp.LightPipeline(model)"
      ]
    },
    {
      "cell_type": "code",
      "execution_count": 25,
      "id": "_E5Szc8ast4n",
      "metadata": {
        "colab": {
          "base_uri": "https://localhost:8080/"
        },
        "id": "_E5Szc8ast4n",
        "outputId": "7a7e577f-228c-4a14-809e-8e70d0b23a7a"
      },
      "outputs": [
        {
          "output_type": "execute_result",
          "data": {
            "text/plain": [
              "[Annotation(chunk, 1, 12, AWA Group LP, {'entity': 'ORG', 'sentence': '0', 'chunk': '0', 'confidence': '0.7064333'}, [])]"
            ]
          },
          "metadata": {},
          "execution_count": 25
        }
      ],
      "source": [
        "# We get company name from sample text\n",
        "\n",
        "ner_result = light_model.fullAnnotate(text)\n",
        "\n",
        "ner_result[0]['ner_chunk']"
      ]
    },
    {
      "cell_type": "code",
      "execution_count": 26,
      "id": "uGcQcPIntV5e",
      "metadata": {
        "colab": {
          "base_uri": "https://localhost:8080/",
          "height": 36
        },
        "id": "uGcQcPIntV5e",
        "outputId": "be671176-c398-4517-b091-eebf75604aa9"
      },
      "outputs": [
        {
          "output_type": "execute_result",
          "data": {
            "text/plain": [
              "'AWA Group LP'"
            ],
            "application/vnd.google.colaboratory.intrinsic+json": {
              "type": "string"
            }
          },
          "metadata": {},
          "execution_count": 26
        }
      ],
      "source": [
        "ORG = ner_result[0][\"ner_chunk\"][0].result\n",
        "\n",
        "ORG"
      ]
    },
    {
      "cell_type": "markdown",
      "id": "z-2Q7nnywUaH",
      "metadata": {
        "id": "z-2Q7nnywUaH"
      },
      "source": [
        "### Let's load our ChunkMapper model"
      ]
    },
    {
      "cell_type": "code",
      "execution_count": 27,
      "id": "Vx3_V33_ttyC",
      "metadata": {
        "id": "Vx3_V33_ttyC"
      },
      "outputs": [],
      "source": [
        "documentAssembler = nlp.DocumentAssembler()\\\n",
        "    .setInputCol(\"text\")\\\n",
        "    .setOutputCol(\"document\")\n",
        "\n",
        "chunkAssembler = nlp.Doc2Chunk() \\\n",
        "    .setInputCols(\"document\") \\\n",
        "    .setOutputCol(\"chunk\") \\\n",
        "    .setIsArray(False)\n",
        "\n",
        "CM = finance.ChunkMapperModel().load(\"openedgar_2000_2022_company_mapper\")\\\n",
        "    .setInputCols([\"chunk\"])\\\n",
        "    .setOutputCol(\"mappings\")\n",
        "\n",
        "cm_pipeline = nlp.Pipeline(stages=[documentAssembler, \n",
        "                                   chunkAssembler, \n",
        "                                   CM])\n",
        "\n",
        "fit_cm_pipeline = cm_pipeline.fit(empty_data)"
      ]
    },
    {
      "cell_type": "code",
      "execution_count": 28,
      "id": "w5I4muUkvJG7",
      "metadata": {
        "colab": {
          "base_uri": "https://localhost:8080/"
        },
        "id": "w5I4muUkvJG7",
        "outputId": "fced9ed5-a9c8-449b-e73d-0cb7479dfae0"
      },
      "outputs": [
        {
          "output_type": "stream",
          "name": "stdout",
          "text": [
            "+------------+\n",
            "|        text|\n",
            "+------------+\n",
            "|AWA Group LP|\n",
            "+------------+\n",
            "\n"
          ]
        }
      ],
      "source": [
        "# LightPipelines don't support Doc2Chunk, so we will use here usual transform\n",
        "\n",
        "df = spark.createDataFrame([[ORG]]).toDF(\"text\")\n",
        "\n",
        "df.show()"
      ]
    },
    {
      "cell_type": "code",
      "execution_count": 29,
      "id": "zS0Q-zamvOsT",
      "metadata": {
        "colab": {
          "base_uri": "https://localhost:8080/"
        },
        "id": "zS0Q-zamvOsT",
        "outputId": "a121f176-9430-4f04-a8df-70c50f7037a0"
      },
      "outputs": [
        {
          "output_type": "stream",
          "name": "stdout",
          "text": [
            "+------------+--------------------+--------------------+--------------------+\n",
            "|        text|            document|               chunk|            mappings|\n",
            "+------------+--------------------+--------------------+--------------------+\n",
            "|AWA Group LP|[{document, 0, 11...|[{chunk, 0, 11, A...|[{labeled_depende...|\n",
            "+------------+--------------------+--------------------+--------------------+\n",
            "\n"
          ]
        }
      ],
      "source": [
        "res = fit_cm_pipeline.transform(df)\n",
        "\n",
        "res.show()"
      ]
    },
    {
      "cell_type": "code",
      "execution_count": 30,
      "id": "e7b2c22c-49f6-4277-8636-62b876b0bf08",
      "metadata": {
        "colab": {
          "base_uri": "https://localhost:8080/"
        },
        "id": "e7b2c22c-49f6-4277-8636-62b876b0bf08",
        "outputId": "48e1c36e-bdc4-4daa-d59f-60480f285612",
        "tags": []
      },
      "outputs": [
        {
          "output_type": "stream",
          "name": "stdout",
          "text": [
            "+----------------------------------------------------------------------------------------------------------------------------------------------------------------+\n",
            "|result                                                                                                                                                          |\n",
            "+----------------------------------------------------------------------------------------------------------------------------------------------------------------+\n",
            "|[AWA Group LP, INVESTMENT ADVICE [6282], 6282, 371785232, 630, NC, DE, 116 SOUTH FRANKLIN STREET, ROCKY MOUNT, NC, 27804, 952-446-6678, , , 2017-01-23, 1645148]|\n",
            "+----------------------------------------------------------------------------------------------------------------------------------------------------------------+\n",
            "\n"
          ]
        }
      ],
      "source": [
        "res.select(\"mappings.result\").show(truncate=False)"
      ]
    },
    {
      "cell_type": "code",
      "execution_count": 31,
      "id": "fqeUMOeDuVUx",
      "metadata": {
        "colab": {
          "base_uri": "https://localhost:8080/"
        },
        "id": "fqeUMOeDuVUx",
        "outputId": "98e98ff9-2af3-436d-961b-ba74392e44be"
      },
      "outputs": [
        {
          "output_type": "execute_result",
          "data": {
            "text/plain": [
              "[Row(mappings=[Row(annotatorType='labeled_dependency', begin=0, end=11, result='AWA Group LP', metadata={'sentence': '0', 'ops': '0.0', 'distance': '-2.220446049250313E-16', 'all_relations': '', 'chunk': '0', '__trained__': 'AWA Group LP', '__distance_function__': 'cosine', '__relation_name__': 'name', 'entity': 'AWA Group LP', 'relation': 'name'}, embeddings=[]), Row(annotatorType='labeled_dependency', begin=0, end=11, result='INVESTMENT ADVICE [6282]', metadata={'sentence': '0', 'ops': '0.0', 'distance': '-2.220446049250313E-16', 'all_relations': '', 'chunk': '0', '__trained__': 'AWA Group LP', '__distance_function__': 'cosine', '__relation_name__': 'sic', 'entity': 'AWA Group LP', 'relation': 'sic'}, embeddings=[]), Row(annotatorType='labeled_dependency', begin=0, end=11, result='6282', metadata={'sentence': '0', 'ops': '0.0', 'distance': '-2.220446049250313E-16', 'all_relations': '0', 'chunk': '0', '__trained__': 'AWA Group LP', '__distance_function__': 'cosine', '__relation_name__': 'sic_code', 'entity': 'AWA Group LP', 'relation': 'sic_code'}, embeddings=[]), Row(annotatorType='labeled_dependency', begin=0, end=11, result='371785232', metadata={'sentence': '0', 'ops': '0.0', 'distance': '-2.220446049250313E-16', 'all_relations': '0', 'chunk': '0', '__trained__': 'AWA Group LP', '__distance_function__': 'cosine', '__relation_name__': 'irs_number', 'entity': 'AWA Group LP', 'relation': 'irs_number'}, embeddings=[]), Row(annotatorType='labeled_dependency', begin=0, end=11, result='630', metadata={'sentence': '0', 'ops': '0.0', 'distance': '-2.220446049250313E-16', 'all_relations': '1231:::0', 'chunk': '0', '__trained__': 'AWA Group LP', '__distance_function__': 'cosine', '__relation_name__': 'fiscal_year_end', 'entity': 'AWA Group LP', 'relation': 'fiscal_year_end'}, embeddings=[]), Row(annotatorType='labeled_dependency', begin=0, end=11, result='NC', metadata={'sentence': '0', 'ops': '0.0', 'distance': '-2.220446049250313E-16', 'all_relations': '', 'chunk': '0', '__trained__': 'AWA Group LP', '__distance_function__': 'cosine', '__relation_name__': 'state_location', 'entity': 'AWA Group LP', 'relation': 'state_location'}, embeddings=[]), Row(annotatorType='labeled_dependency', begin=0, end=11, result='DE', metadata={'sentence': '0', 'ops': '0.0', 'distance': '-2.220446049250313E-16', 'all_relations': '', 'chunk': '0', '__trained__': 'AWA Group LP', '__distance_function__': 'cosine', '__relation_name__': 'state_incorporation', 'entity': 'AWA Group LP', 'relation': 'state_incorporation'}, embeddings=[]), Row(annotatorType='labeled_dependency', begin=0, end=11, result='116 SOUTH FRANKLIN STREET', metadata={'sentence': '0', 'ops': '0.0', 'distance': '-2.220446049250313E-16', 'all_relations': '', 'chunk': '0', '__trained__': 'AWA Group LP', '__distance_function__': 'cosine', '__relation_name__': 'business_street', 'entity': 'AWA Group LP', 'relation': 'business_street'}, embeddings=[]), Row(annotatorType='labeled_dependency', begin=0, end=11, result='ROCKY MOUNT', metadata={'sentence': '0', 'ops': '0.0', 'distance': '-2.220446049250313E-16', 'all_relations': '', 'chunk': '0', '__trained__': 'AWA Group LP', '__distance_function__': 'cosine', '__relation_name__': 'business_city', 'entity': 'AWA Group LP', 'relation': 'business_city'}, embeddings=[]), Row(annotatorType='labeled_dependency', begin=0, end=11, result='NC', metadata={'sentence': '0', 'ops': '0.0', 'distance': '-2.220446049250313E-16', 'all_relations': '', 'chunk': '0', '__trained__': 'AWA Group LP', '__distance_function__': 'cosine', '__relation_name__': 'business_state', 'entity': 'AWA Group LP', 'relation': 'business_state'}, embeddings=[]), Row(annotatorType='labeled_dependency', begin=0, end=11, result='27804', metadata={'sentence': '0', 'ops': '0.0', 'distance': '-2.220446049250313E-16', 'all_relations': '', 'chunk': '0', '__trained__': 'AWA Group LP', '__distance_function__': 'cosine', '__relation_name__': 'business_zip', 'entity': 'AWA Group LP', 'relation': 'business_zip'}, embeddings=[]), Row(annotatorType='labeled_dependency', begin=0, end=11, result='952-446-6678', metadata={'sentence': '0', 'ops': '0.0', 'distance': '-2.220446049250313E-16', 'all_relations': '', 'chunk': '0', '__trained__': 'AWA Group LP', '__distance_function__': 'cosine', '__relation_name__': 'business_phone', 'entity': 'AWA Group LP', 'relation': 'business_phone'}, embeddings=[]), Row(annotatorType='labeled_dependency', begin=0, end=11, result='', metadata={'sentence': '0', 'ops': '0.0', 'distance': '-2.220446049250313E-16', 'all_relations': '', 'chunk': '0', '__trained__': 'AWA Group LP', '__distance_function__': 'cosine', '__relation_name__': 'former_name', 'entity': 'AWA Group LP', 'relation': 'former_name'}, embeddings=[]), Row(annotatorType='labeled_dependency', begin=0, end=11, result='', metadata={'sentence': '0', 'ops': '0.0', 'distance': '-2.220446049250313E-16', 'all_relations': '', 'chunk': '0', '__trained__': 'AWA Group LP', '__distance_function__': 'cosine', '__relation_name__': 'former_name_date', 'entity': 'AWA Group LP', 'relation': 'former_name_date'}, embeddings=[]), Row(annotatorType='labeled_dependency', begin=0, end=11, result='2017-01-23', metadata={'sentence': '0', 'ops': '0.0', 'distance': '-2.220446049250313E-16', 'all_relations': '2017-03-16:::2016-01-22:::2016-01-19:::2015-06-30:::2016-04-14:::2016-07-27:::2016-10-28:::2015-06-26:::2015-09-02:::2015-09-29:::2015-12-31', 'chunk': '0', '__trained__': 'AWA Group LP', '__distance_function__': 'cosine', '__relation_name__': 'date', 'entity': 'AWA Group LP', 'relation': 'date'}, embeddings=[]), Row(annotatorType='labeled_dependency', begin=0, end=11, result='1645148', metadata={'sentence': '0', 'ops': '0.0', 'distance': '-2.220446049250313E-16', 'all_relations': '', 'chunk': '0', '__trained__': 'AWA Group LP', '__distance_function__': 'cosine', '__relation_name__': 'company_id', 'entity': 'AWA Group LP', 'relation': 'company_id'}, embeddings=[])])]"
            ]
          },
          "metadata": {},
          "execution_count": 31
        }
      ],
      "source": [
        "r = res.select(\"mappings\").collect()\n",
        "r"
      ]
    },
    {
      "cell_type": "code",
      "execution_count": 32,
      "id": "3ed118db-d108-4637-8d1f-67c7e5106458",
      "metadata": {
        "id": "3ed118db-d108-4637-8d1f-67c7e5106458"
      },
      "outputs": [],
      "source": [
        "json_dict = dict()\n",
        "for n in r[0]['mappings']:\n",
        "    json_dict[n.metadata['relation']] = str(n.result)"
      ]
    },
    {
      "cell_type": "code",
      "execution_count": 33,
      "id": "0bee659b-9446-4255-9c67-2a685de56c56",
      "metadata": {
        "colab": {
          "base_uri": "https://localhost:8080/"
        },
        "id": "0bee659b-9446-4255-9c67-2a685de56c56",
        "outputId": "623d4986-621b-4433-c5eb-e18c65a96e76"
      },
      "outputs": [
        {
          "output_type": "stream",
          "name": "stdout",
          "text": [
            "{\n",
            "    \"business_city\": \"ROCKY MOUNT\",\n",
            "    \"business_phone\": \"952-446-6678\",\n",
            "    \"business_state\": \"NC\",\n",
            "    \"business_street\": \"116 SOUTH FRANKLIN STREET\",\n",
            "    \"business_zip\": \"27804\",\n",
            "    \"company_id\": \"1645148\",\n",
            "    \"date\": \"2017-01-23\",\n",
            "    \"fiscal_year_end\": \"630\",\n",
            "    \"former_name\": \"\",\n",
            "    \"former_name_date\": \"\",\n",
            "    \"irs_number\": \"371785232\",\n",
            "    \"name\": \"AWA Group LP\",\n",
            "    \"sic\": \"INVESTMENT ADVICE [6282]\",\n",
            "    \"sic_code\": \"6282\",\n",
            "    \"state_incorporation\": \"DE\",\n",
            "    \"state_location\": \"NC\"\n",
            "}\n"
          ]
        }
      ],
      "source": [
        "import json\n",
        "print(json.dumps(json_dict, indent=4, sort_keys=True))"
      ]
    }
  ],
  "metadata": {
    "colab": {
      "provenance": []
    },
    "gpuClass": "standard",
    "kernelspec": {
      "display_name": "tf-gpu",
      "language": "python",
      "name": "python3"
    },
    "language_info": {
      "codemirror_mode": {
        "name": "ipython",
        "version": 3
      },
      "file_extension": ".py",
      "mimetype": "text/x-python",
      "name": "python",
      "nbconvert_exporter": "python",
      "pygments_lexer": "ipython3",
      "version": "3.9.7 (default, Sep 16 2021, 16:59:28) [MSC v.1916 64 bit (AMD64)]"
    },
    "vscode": {
      "interpreter": {
        "hash": "3f47d918ae832c68584484921185f5c85a1760864bf927a683dc6fb56366cc77"
      }
    }
  },
  "nbformat": 4,
  "nbformat_minor": 5
}
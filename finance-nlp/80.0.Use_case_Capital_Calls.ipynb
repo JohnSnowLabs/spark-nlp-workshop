{
  "nbformat": 4,
  "nbformat_minor": 0,
  "metadata": {
    "colab": {
      "provenance": [],
      "toc_visible": true
    },
    "kernelspec": {
      "name": "python3",
      "display_name": "Python 3"
    },
    "language_info": {
      "name": "python"
    }
  },
  "cells": [
    {
      "cell_type": "markdown",
      "metadata": {
        "id": "LWoEwxGWo1iI"
      },
      "source": [
        "![JohnSnowLabs](https://nlp.johnsnowlabs.com/assets/images/logo.png)"
      ]
    },
    {
      "cell_type": "markdown",
      "metadata": {
        "id": "k5NVFZYOIs_A"
      },
      "source": [
        "[![Open In Colab](https://colab.research.google.com/assets/colab-badge.svg)](https://colab.research.google.com/github/JohnSnowLabs/spark-nlp-workshop/blob/master/tutorials/Certification_Trainings_JSL/Finance/80.0.Use_case_Capital_Calls.ipynb)"
      ]
    },
    {
      "cell_type": "markdown",
      "metadata": {
        "id": "7vpPa8JDRKJ6"
      },
      "source": [
        "#🔎 Use Case: Extracting Contact and Financial entities from Capital Calls"
      ]
    },
    {
      "cell_type": "markdown",
      "metadata": {
        "collapsed": false,
        "id": "gk3kZHmNj51v"
      },
      "source": [
        "#🎬 Installation"
      ]
    },
    {
      "cell_type": "code",
      "execution_count": null,
      "metadata": {
        "pycharm": {
          "is_executing": true
        },
        "id": "_914itZsj51v"
      },
      "outputs": [],
      "source": [
        "! pip install -q johnsnowlabs"
      ]
    },
    {
      "cell_type": "markdown",
      "source": [
        "##🔗 Automatic Installation\n",
        "Using my.johnsnowlabs.com SSO"
      ],
      "metadata": {
        "id": "YPsbAnNoPt0Z"
      }
    },
    {
      "cell_type": "code",
      "execution_count": null,
      "metadata": {
        "pycharm": {
          "is_executing": true
        },
        "id": "fY0lcShkj51w"
      },
      "outputs": [],
      "source": [
        "from johnsnowlabs import nlp, finance\n",
        "\n",
        "# nlp.install(force_browser=True)"
      ]
    },
    {
      "cell_type": "markdown",
      "source": [
        "##🔗 Manual downloading\n",
        "If you are not registered in my.johnsnowlabs.com, you received a license via e-email or you are using Safari, you may need to do a manual update of the license.\n",
        "\n",
        "- Go to my.johnsnowlabs.com\n",
        "- Download your license\n",
        "- Upload it using the following command"
      ],
      "metadata": {
        "id": "hsJvn_WWM2GL"
      }
    },
    {
      "cell_type": "code",
      "source": [
        "from google.colab import files\n",
        "print('Please Upload your John Snow Labs License using the button below')\n",
        "license_keys = files.upload()"
      ],
      "metadata": {
        "id": "i57QV3-_P2sQ"
      },
      "execution_count": null,
      "outputs": []
    },
    {
      "cell_type": "markdown",
      "source": [
        "- Install it"
      ],
      "metadata": {
        "id": "xGgNdFzZP_hQ"
      }
    },
    {
      "cell_type": "code",
      "source": [
        "nlp.install()"
      ],
      "metadata": {
        "id": "OfmmPqknP4rR",
        "colab": {
          "base_uri": "https://localhost:8080/"
        },
        "outputId": "313fce1e-a75f-481f-c4e7-7eec44ec979a"
      },
      "execution_count": null,
      "outputs": [
        {
          "output_type": "stream",
          "name": "stdout",
          "text": [
            "👌 Detected license file /content/spark_nlp_for_healthcare_spark_ocr_7187 (2).json\n",
            "📋 Stored John Snow Labs License in /root/.johnsnowlabs/licenses/license_number_0_for_Spark-Healthcare_Spark-OCR.json\n",
            "👷 Setting up  John Snow Labs home in /root/.johnsnowlabs, this might take a few minutes.\n",
            "Downloading 🐍+🚀 Python Library spark_nlp-4.2.8-py2.py3-none-any.whl\n",
            "Downloading 🐍+💊 Python Library spark_nlp_jsl-4.2.8-py3-none-any.whl\n",
            "Downloading 🫘+🚀 Java Library spark-nlp-assembly-4.2.8.jar\n",
            "Downloading 🫘+💊 Java Library spark-nlp-jsl-4.2.8.jar\n",
            "🙆 JSL Home setup in /root/.johnsnowlabs\n",
            "👌 Detected license file /content/spark_nlp_for_healthcare_spark_ocr_7187 (2).json\n",
            "Installing /root/.johnsnowlabs/py_installs/spark_nlp_jsl-4.2.8-py3-none-any.whl to /usr/bin/python3\n",
            "Installed 1 products:\n",
            "💊 Spark-Healthcare==4.2.8 installed! ✅ Heal the planet with NLP! \n"
          ]
        }
      ]
    },
    {
      "cell_type": "markdown",
      "source": [
        "#📌 Starting"
      ],
      "metadata": {
        "id": "DCl5ErZkNNLk"
      }
    },
    {
      "cell_type": "code",
      "execution_count": null,
      "metadata": {
        "id": "wRXTnNl3j51w",
        "colab": {
          "base_uri": "https://localhost:8080/"
        },
        "outputId": "ac9838de-6acd-4ecc-f8b2-99cef4772dc3"
      },
      "outputs": [
        {
          "output_type": "stream",
          "name": "stdout",
          "text": [
            "👌 Detected license file /content/spark_nlp_for_healthcare_spark_ocr_7187 (2).json\n",
            "👌 Launched \u001b[92mcpu optimized\u001b[39m session with with: 🚀Spark-NLP==4.2.8, 💊Spark-Healthcare==4.2.8, running on ⚡ PySpark==3.1.2\n"
          ]
        }
      ],
      "source": [
        "spark = nlp.start()"
      ]
    },
    {
      "cell_type": "markdown",
      "source": [
        "#🔎 Pipeline"
      ],
      "metadata": {
        "id": "imcOWPcoK-Pj"
      }
    },
    {
      "cell_type": "code",
      "source": [
        "documentAssembler = nlp.DocumentAssembler() \\\n",
        "    .setInputCol(\"text\") \\\n",
        "    .setOutputCol(\"document\")\n",
        "\n",
        "textSplitter = finance.TextSplitter() \\\n",
        "    .setInputCols([\"document\"]) \\\n",
        "    .setOutputCol(\"sentence\") \n",
        "\n",
        "tokenizer = nlp.Tokenizer() \\\n",
        "    .setInputCols(\"sentence\") \\\n",
        "    .setOutputCol(\"token\")\n",
        "\n",
        "embeddings = nlp.BertEmbeddings.pretrained(\"bert_embeddings_sec_bert_base\",\"en\") \\\n",
        "    .setInputCols([\"sentence\", \"token\"]) \\\n",
        "    .setOutputCol(\"embeddings\")\\\n",
        "    .setMaxSentenceLength(512)\n",
        "\n",
        "ner = finance.NerModel.pretrained('finner_capital_calls', 'en', 'finance/models')\\\n",
        "    .setInputCols([\"sentence\", \"token\", \"embeddings\"]) \\\n",
        "    .setOutputCol(\"ner\")\n",
        "\n",
        "converter = finance.NerConverterInternal()\\\n",
        "    .setInputCols([\"sentence\", \"token\", \"ner\"]) \\\n",
        "    .setOutputCol(\"ner_chunk\")\\\n",
        "\n",
        "pipeline = nlp.Pipeline(stages=[documentAssembler,\n",
        "                            textSplitter,\n",
        "                            tokenizer,\n",
        "                            embeddings,\n",
        "                            ner,\n",
        "                            converter\n",
        "                            ])\n",
        "\n",
        "df = spark.createDataFrame([[\"\"]]).toDF(\"text\")\n",
        "\n",
        "model = pipeline.fit(df)"
      ],
      "metadata": {
        "colab": {
          "base_uri": "https://localhost:8080/"
        },
        "id": "1gRy8P_MK8zd",
        "outputId": "1d98d255-86c0-4393-ab7e-ac9332493170"
      },
      "execution_count": null,
      "outputs": [
        {
          "output_type": "stream",
          "name": "stdout",
          "text": [
            "bert_embeddings_sec_bert_base download started this may take some time.\n",
            "Approximate size to download 390.4 MB\n",
            "[OK!]\n",
            "finner_capital_calls download started this may take some time.\n",
            "[OK!]\n"
          ]
        }
      ]
    },
    {
      "cell_type": "markdown",
      "source": [
        "#🔎 Some text examples"
      ],
      "metadata": {
        "id": "-Gwu7oaQLrNj"
      }
    },
    {
      "cell_type": "markdown",
      "source": [
        "##📖 Example 1: A short, semistructuerd Capital Call Notice"
      ],
      "metadata": {
        "id": "t3gJvKrsMvVb"
      }
    },
    {
      "cell_type": "code",
      "source": [
        "from pyspark.sql import functions as F"
      ],
      "metadata": {
        "id": "mb0a-vAAMIy_"
      },
      "execution_count": null,
      "outputs": []
    },
    {
      "cell_type": "code",
      "source": [
        "text1 = \"\"\"Capital Call Notice:\n",
        "Fund: LMNOP Fund, GP\n",
        "Amount Called: $15,000,000\n",
        "Account Name: Dynamic Designs LLC\n",
        "Bank Name: Wells Fargo Bank\n",
        "Account Number: 15122142155\n",
        "Routing Number: 992531023\n",
        "Due Date: May 15th, 2022\n",
        "\n",
        "Please be advised that this capital call is mandatory and it is important to meet the due date in order to avoid any penalties or default under the terms of the partnership agreement. If you need assistance or have any questions, please contact our office at 555-555-5555 or email us at admin@lmnopfund.com.\n",
        "\n",
        "Thank you for your prompt attention to this matter.\"\"\"\n",
        "\n",
        "result1 = model.transform(spark.createDataFrame([[text1]]).toDF(\"text\"))\n",
        "\n",
        "result1.select(F.explode(F.arrays_zip(result1.ner_chunk.result, result1.ner_chunk.metadata)).alias(\"cols\")) \\\n",
        "      .select(F.expr(\"cols['0']\").alias(\"chunk\"),\n",
        "              F.expr(\"cols['1']['entity']\").alias(\"ner_label\"),\n",
        "              F.expr(\"cols['1']['confidence']\").alias(\"confidence\")).show(truncate=False)\n",
        "                "
      ],
      "metadata": {
        "colab": {
          "base_uri": "https://localhost:8080/"
        },
        "id": "vDLVahHPKQVT",
        "outputId": "2c3b6c94-0f75-40f5-f02a-b9f2131c325c"
      },
      "execution_count": null,
      "outputs": [
        {
          "output_type": "stream",
          "name": "stdout",
          "text": [
            "+-------------------+--------------+----------+\n",
            "|chunk              |ner_label     |confidence|\n",
            "+-------------------+--------------+----------+\n",
            "|LMNOP Fund         |FUND          |0.89905   |\n",
            "|$15,000,000        |AMOUNT        |0.9819    |\n",
            "|Dynamic Designs LLC|ACCOUNT_NAME  |0.9999333 |\n",
            "|Wells Fargo Bank   |BANK_NAME     |1.0       |\n",
            "|15122142155        |ACCOUNT_NUMBER|0.999     |\n",
            "|992531023          |ABA           |0.7875    |\n",
            "|May 15th, 2022     |DUE_DATE      |1.0       |\n",
            "|555-555-5555       |PHONE         |1.0       |\n",
            "|admin@lmnopfund.com|EMAIL         |0.9997    |\n",
            "+-------------------+--------------+----------+\n",
            "\n"
          ]
        }
      ]
    },
    {
      "cell_type": "markdown",
      "source": [
        "##📖 Example 2: A short, unstructured Capital Call Notice with some additional information"
      ],
      "metadata": {
        "id": "kO6k-3qvMzzy"
      }
    },
    {
      "cell_type": "code",
      "source": [
        "text2 = \"\"\"Greetings Sophia Martinez,\n",
        "\n",
        "This is an urgent reminder regarding your investment in Innovative Investments LLC. A capital call for $30000.00 has been issued and is due on Jan 1 2023.\n",
        "\n",
        "We highly recommend electronic transfer to the following account:\n",
        "\n",
        "Account Name Innovative Investments LLC.\n",
        "Account Number 1234567-6XX\n",
        "ABA 42100191\n",
        "Ally Financial\n",
        "\n",
        "Please act swiftly to ensure the full funding of your investment. If you have any questions or need assistance, our team is available at thomasann@example.com.\n",
        "\n",
        "Thank you for your cooperation and support.\n",
        "\n",
        "Best regards,\n",
        "Michael D. Davis\"\"\"\n",
        "\n",
        "result2 = model.transform(spark.createDataFrame([[text2]]).toDF(\"text\"))\n",
        "\n",
        "result2.select(F.explode(F.arrays_zip(result2.ner_chunk.result, result2.ner_chunk.metadata)).alias(\"cols\")) \\\n",
        "      .select(F.expr(\"cols['0']\").alias(\"chunk\"),\n",
        "              F.expr(\"cols['1']['entity']\").alias(\"ner_label\"),\n",
        "              F.expr(\"cols['1']['confidence']\").alias(\"confidence\")).show(truncate=False)"
      ],
      "metadata": {
        "colab": {
          "base_uri": "https://localhost:8080/"
        },
        "id": "rI7Gyx1fNCrg",
        "outputId": "89e04465-7a6c-429b-ee58-fe8932e0fde0"
      },
      "execution_count": null,
      "outputs": [
        {
          "output_type": "stream",
          "name": "stdout",
          "text": [
            "+---------------------------+--------------+----------+\n",
            "|chunk                      |ner_label     |confidence|\n",
            "+---------------------------+--------------+----------+\n",
            "|Sophia Martinez            |OTHER_PERSON  |1.0       |\n",
            "|Innovative Investments LLC |ORG           |0.99986666|\n",
            "|$30000.00                  |AMOUNT        |1.0       |\n",
            "|Jan 1 2023                 |DUE_DATE      |1.0       |\n",
            "|Innovative Investments LLC.|ACCOUNT_NAME  |0.99942505|\n",
            "|1234567-6XX                |ACCOUNT_NUMBER|1.0       |\n",
            "|42100191                   |ABA           |1.0       |\n",
            "|Ally Financial             |BANK_NAME     |0.99915004|\n",
            "|thomasann@example.com      |EMAIL         |1.0       |\n",
            "|Michael D. Davis           |OTHER_PERSON  |0.980025  |\n",
            "+---------------------------+--------------+----------+\n",
            "\n"
          ]
        }
      ]
    },
    {
      "cell_type": "markdown",
      "source": [
        "#📖 Example 3: A long Capital Call Notice with much additional information"
      ],
      "metadata": {
        "id": "z-vJOcC-NbIE"
      }
    },
    {
      "cell_type": "code",
      "source": [
        "text3 = \"\"\"The Next Big Thing Inc is calling 800000 USD from Great Oaks Venture Capital (the Fund) as a net contribution for an investment, management\n",
        "fees and expenses, offset by a cash distribution. Please refer to the attached schedule for a breakdown\n",
        "of the components of the amount, and to the narrative below for a description of the components\n",
        "referred to in this notice.\n",
        "Your portion of the call is 800000 USD. After this notice, you will have contributed 5% of your\n",
        "commitment of 4000000 EUR, and your unfunded commitment will be USD 80000,000. You have received\n",
        "USD 50000,000 in distributions, of which USD 30000 is considered Recallable Capital per Section 3.3 of the\n",
        "LPA. Please refer to the Schedule for further details.\n",
        "Please wire your funds to:\n",
        "Date Due 2026.01.01\n",
        "Amount Due USD 800000\n",
        "Bank Name Citigroup\n",
        "Bank Contact Charlotte Davis\n",
        "Bank Address 00025 Cynthia Row Suite 132\n",
        "ABA # 44000024\n",
        "Credit to Next Big Thing Inc\n",
        "Account # 1234567-2XX\n",
        "Next Big Thing Inc (The Company) is calling USD 800000 from Great Oaks Venture Capital for an investment. The Next Big Thing Inc. is a manufacturer of widgets located in Akron, Ohio and will use the capital to expand into the Canadian market. The deal is expected\n",
        "to close on 02.02.2023, and is expected to consist of a total financing of USD 4000000,000, with $ 800000\n",
        "coming from the Citigroup in the form of a senior secured note and the remaining 500000 USD\n",
        "coming from investment partner Great Oaks Venture Capital. Both Next Big Thing Inc and Great Oaks Venture Capital will receive\n",
        "participating preferred stock with a 1x liquidation preference and a cumulative 1% dividend.\n",
        "\n",
        "If you have any questions or concerns, please contact Michael D. Davis at (213)555-0303 or via email michaeldavis@example.com.\n",
        "Best Regards,\n",
        "Andew Smith\"\"\"\n",
        "\n",
        "\n",
        "result3 = model.transform(spark.createDataFrame([[text3]]).toDF(\"text\"))\n",
        "\n",
        "result3.select(F.explode(F.arrays_zip(result3.ner_chunk.result, result3.ner_chunk.metadata)).alias(\"cols\")) \\\n",
        "      .select(F.expr(\"cols['0']\").alias(\"chunk\"),\n",
        "              F.expr(\"cols['1']['entity']\").alias(\"ner_label\"),\n",
        "              F.expr(\"cols['1']['confidence']\").alias(\"confidence\")).show(truncate=False)"
      ],
      "metadata": {
        "colab": {
          "base_uri": "https://localhost:8080/"
        },
        "id": "OKavmuvUNEay",
        "outputId": "fa523b0a-f6b6-4e0e-dc7d-2565c9f10245"
      },
      "execution_count": null,
      "outputs": [
        {
          "output_type": "stream",
          "name": "stdout",
          "text": [
            "+---------------------------+----------------+----------+\n",
            "|chunk                      |ner_label       |confidence|\n",
            "+---------------------------+----------------+----------+\n",
            "|The Next Big Thing Inc     |ORG             |0.9851    |\n",
            "|800000 USD                 |AMOUNT          |0.99934995|\n",
            "|Great Oaks Venture Capital |FUND            |0.99969995|\n",
            "|800000 USD                 |AMOUNT          |1.0       |\n",
            "|5%                         |OTHER_PERCENTAGE|1.0       |\n",
            "|4000000 EUR                |OTHER_AMOUNT    |1.0       |\n",
            "|USD 80000,000              |OTHER_AMOUNT    |1.0       |\n",
            "|USD 50000,000              |OTHER_AMOUNT    |1.0       |\n",
            "|USD 30000                  |OTHER_AMOUNT    |1.0       |\n",
            "|2026.01.01                 |DUE_DATE        |1.0       |\n",
            "|USD 800000                 |AMOUNT          |0.99975   |\n",
            "|Citigroup                  |BANK_NAME       |0.9997    |\n",
            "|Charlotte Davis            |BANK_CONTACT    |0.9997    |\n",
            "|00025 Cynthia Row Suite 132|BANK_ADDRESS    |0.99990004|\n",
            "|44000024                   |ABA             |1.0       |\n",
            "|Next Big Thing Inc         |ACCOUNT_NAME    |0.999925  |\n",
            "|1234567-2XX                |ACCOUNT_NUMBER  |1.0       |\n",
            "|Next Big Thing Inc         |FUND            |0.98022497|\n",
            "|USD 800000                 |AMOUNT          |0.9999    |\n",
            "|Great Oaks Venture Capital |FUND            |0.908175  |\n",
            "+---------------------------+----------------+----------+\n",
            "only showing top 20 rows\n",
            "\n"
          ]
        }
      ]
    },
    {
      "cell_type": "markdown",
      "source": [
        "#🚀 Let's visualize the results with Spark NLP Viz library\n",
        "To do that, we need Light Pipelines"
      ],
      "metadata": {
        "id": "HTXtrMgLSIBd"
      }
    },
    {
      "cell_type": "code",
      "source": [
        "lp = nlp.LightPipeline(model)"
      ],
      "metadata": {
        "id": "rFNdy8ldPVEb"
      },
      "execution_count": null,
      "outputs": []
    },
    {
      "cell_type": "code",
      "source": [
        "res = lp.fullAnnotate(text3)"
      ],
      "metadata": {
        "id": "jeof-6ENSRvy"
      },
      "execution_count": null,
      "outputs": []
    },
    {
      "cell_type": "code",
      "source": [
        "from johnsnowlabs import viz\n",
        "nerviz = viz.NerVisualizer()\n",
        "\n",
        "nerviz.display(res[0], label_col='ner_chunk')"
      ],
      "metadata": {
        "colab": {
          "base_uri": "https://localhost:8080/",
          "height": 1000
        },
        "id": "T_Q7g8N8SV3w",
        "outputId": "5efa100b-1a48-42b1-9089-bdd3a9047895"
      },
      "execution_count": null,
      "outputs": [
        {
          "output_type": "display_data",
          "data": {
            "text/plain": [
              "<IPython.core.display.HTML object>"
            ],
            "text/html": [
              "\n",
              "<style>\n",
              "    @import url('https://fonts.googleapis.com/css2?family=Montserrat:wght@300;400;500;600;700&display=swap');\n",
              "    @import url('https://fonts.googleapis.com/css2?family=Vistol Regular:wght@300;400;500;600;700&display=swap');\n",
              "    \n",
              "    .spark-nlp-display-scroll-entities {\n",
              "        border: 1px solid #E7EDF0;\n",
              "        border-radius: 3px;\n",
              "        text-align: justify;\n",
              "        \n",
              "    }\n",
              "    .spark-nlp-display-scroll-entities span {  \n",
              "        font-size: 14px;\n",
              "        line-height: 24px;\n",
              "        color: #536B76;\n",
              "        font-family: 'Montserrat', sans-serif !important;\n",
              "    }\n",
              "    \n",
              "    .spark-nlp-display-entity-wrapper{\n",
              "    \n",
              "        display: inline-grid;\n",
              "        text-align: center;\n",
              "        border-radius: 4px;\n",
              "        margin: 0 2px 5px 2px;\n",
              "        padding: 1px\n",
              "    }\n",
              "    .spark-nlp-display-entity-name{\n",
              "        font-size: 14px;\n",
              "        line-height: 24px;\n",
              "        font-family: 'Montserrat', sans-serif !important;\n",
              "        \n",
              "        background: #f1f2f3;\n",
              "        border-width: medium;\n",
              "        text-align: center;\n",
              "        \n",
              "        font-weight: 400;\n",
              "        \n",
              "        border-radius: 5px;\n",
              "        padding: 2px 5px;\n",
              "        display: block;\n",
              "        margin: 3px 2px;\n",
              "    \n",
              "    }\n",
              "    .spark-nlp-display-entity-type{\n",
              "        font-size: 14px;\n",
              "        line-height: 24px;\n",
              "        color: #ffffff;\n",
              "        font-family: 'Montserrat', sans-serif !important;\n",
              "        \n",
              "        text-transform: uppercase;\n",
              "        \n",
              "        font-weight: 500;\n",
              "\n",
              "        display: block;\n",
              "        padding: 3px 5px;\n",
              "    }\n",
              "    \n",
              "    .spark-nlp-display-entity-resolution{\n",
              "        font-size: 14px;\n",
              "        line-height: 24px;\n",
              "        color: #ffffff;\n",
              "        font-family: 'Vistol Regular', sans-serif !important;\n",
              "        \n",
              "        text-transform: uppercase;\n",
              "        \n",
              "        font-weight: 500;\n",
              "\n",
              "        display: block;\n",
              "        padding: 3px 5px;\n",
              "    }\n",
              "    \n",
              "    .spark-nlp-display-others{\n",
              "        font-size: 14px;\n",
              "        line-height: 24px;\n",
              "        font-family: 'Montserrat', sans-serif !important;\n",
              "        \n",
              "        font-weight: 400;\n",
              "    }\n",
              "\n",
              "</style>\n",
              " <span class=\"spark-nlp-display-entity-wrapper\" style=\"background-color: #13BC40\"><span class=\"spark-nlp-display-entity-name\">The Next Big Thing Inc </span><span class=\"spark-nlp-display-entity-type\">ORG</span></span><span class=\"spark-nlp-display-others\" style=\"background-color: white\"> is calling </span><span class=\"spark-nlp-display-entity-wrapper\" style=\"background-color: #735216\"><span class=\"spark-nlp-display-entity-name\">800000 USD </span><span class=\"spark-nlp-display-entity-type\">AMOUNT</span></span><span class=\"spark-nlp-display-others\" style=\"background-color: white\"> from </span><span class=\"spark-nlp-display-entity-wrapper\" style=\"background-color: #2301C1\"><span class=\"spark-nlp-display-entity-name\">Great Oaks Venture Capital </span><span class=\"spark-nlp-display-entity-type\">FUND</span></span><span class=\"spark-nlp-display-others\" style=\"background-color: white\"> (the Fund) as a net contribution for an investment, management<br>fees and expenses, offset by a cash distribution. Please refer to the attached schedule for a breakdown<br>of the components of the amount, and to the narrative below for a description of the components<br>referred to in this notice.<br>Your portion of the call is </span><span class=\"spark-nlp-display-entity-wrapper\" style=\"background-color: #735216\"><span class=\"spark-nlp-display-entity-name\">800000 USD </span><span class=\"spark-nlp-display-entity-type\">AMOUNT</span></span><span class=\"spark-nlp-display-others\" style=\"background-color: white\">. After this notice, you will have contributed </span><span class=\"spark-nlp-display-entity-wrapper\" style=\"background-color: #434671\"><span class=\"spark-nlp-display-entity-name\">5% </span><span class=\"spark-nlp-display-entity-type\">OTHER_PERCENTAGE</span></span><span class=\"spark-nlp-display-others\" style=\"background-color: white\"> of your<br>commitment of </span><span class=\"spark-nlp-display-entity-wrapper\" style=\"background-color: #860FB7\"><span class=\"spark-nlp-display-entity-name\">4000000 EUR </span><span class=\"spark-nlp-display-entity-type\">OTHER_AMOUNT</span></span><span class=\"spark-nlp-display-others\" style=\"background-color: white\">, and your unfunded commitment will be </span><span class=\"spark-nlp-display-entity-wrapper\" style=\"background-color: #860FB7\"><span class=\"spark-nlp-display-entity-name\">USD 80000,000 </span><span class=\"spark-nlp-display-entity-type\">OTHER_AMOUNT</span></span><span class=\"spark-nlp-display-others\" style=\"background-color: white\">. You have received<br></span><span class=\"spark-nlp-display-entity-wrapper\" style=\"background-color: #860FB7\"><span class=\"spark-nlp-display-entity-name\">USD 50000,000 </span><span class=\"spark-nlp-display-entity-type\">OTHER_AMOUNT</span></span><span class=\"spark-nlp-display-others\" style=\"background-color: white\"> in distributions, of which </span><span class=\"spark-nlp-display-entity-wrapper\" style=\"background-color: #860FB7\"><span class=\"spark-nlp-display-entity-name\">USD 30000 </span><span class=\"spark-nlp-display-entity-type\">OTHER_AMOUNT</span></span><span class=\"spark-nlp-display-others\" style=\"background-color: white\"> is considered Recallable Capital per Section 3.3 of the<br>LPA. Please refer to the Schedule for further details.<br>Please wire your funds to:<br>Date Due </span><span class=\"spark-nlp-display-entity-wrapper\" style=\"background-color: #6C1262\"><span class=\"spark-nlp-display-entity-name\">2026.01.01 </span><span class=\"spark-nlp-display-entity-type\">DUE_DATE</span></span><span class=\"spark-nlp-display-others\" style=\"background-color: white\"><br>Amount Due </span><span class=\"spark-nlp-display-entity-wrapper\" style=\"background-color: #735216\"><span class=\"spark-nlp-display-entity-name\">USD 800000 </span><span class=\"spark-nlp-display-entity-type\">AMOUNT</span></span><span class=\"spark-nlp-display-others\" style=\"background-color: white\"><br>Bank Name </span><span class=\"spark-nlp-display-entity-wrapper\" style=\"background-color: #3F63C4\"><span class=\"spark-nlp-display-entity-name\">Citigroup </span><span class=\"spark-nlp-display-entity-type\">BANK_NAME</span></span><span class=\"spark-nlp-display-others\" style=\"background-color: white\"><br>Bank Contact </span><span class=\"spark-nlp-display-entity-wrapper\" style=\"background-color: #1B5742\"><span class=\"spark-nlp-display-entity-name\">Charlotte Davis </span><span class=\"spark-nlp-display-entity-type\">BANK_CONTACT</span></span><span class=\"spark-nlp-display-others\" style=\"background-color: white\"><br>Bank Address </span><span class=\"spark-nlp-display-entity-wrapper\" style=\"background-color: #906047\"><span class=\"spark-nlp-display-entity-name\">00025 Cynthia Row Suite 132 </span><span class=\"spark-nlp-display-entity-type\">BANK_ADDRESS</span></span><span class=\"spark-nlp-display-others\" style=\"background-color: white\"><br>ABA # </span><span class=\"spark-nlp-display-entity-wrapper\" style=\"background-color: #8EA079\"><span class=\"spark-nlp-display-entity-name\">44000024 </span><span class=\"spark-nlp-display-entity-type\">ABA</span></span><span class=\"spark-nlp-display-others\" style=\"background-color: white\"><br>Credit to </span><span class=\"spark-nlp-display-entity-wrapper\" style=\"background-color: #5AAE7B\"><span class=\"spark-nlp-display-entity-name\">Next Big Thing Inc </span><span class=\"spark-nlp-display-entity-type\">ACCOUNT_NAME</span></span><span class=\"spark-nlp-display-others\" style=\"background-color: white\"><br>Account # </span><span class=\"spark-nlp-display-entity-wrapper\" style=\"background-color: #1C5B7E\"><span class=\"spark-nlp-display-entity-name\">1234567-2XX </span><span class=\"spark-nlp-display-entity-type\">ACCOUNT_NUMBER</span></span><span class=\"spark-nlp-display-others\" style=\"background-color: white\"><br></span><span class=\"spark-nlp-display-entity-wrapper\" style=\"background-color: #2301C1\"><span class=\"spark-nlp-display-entity-name\">Next Big Thing Inc </span><span class=\"spark-nlp-display-entity-type\">FUND</span></span><span class=\"spark-nlp-display-others\" style=\"background-color: white\"> (The Company) is calling </span><span class=\"spark-nlp-display-entity-wrapper\" style=\"background-color: #735216\"><span class=\"spark-nlp-display-entity-name\">USD 800000 </span><span class=\"spark-nlp-display-entity-type\">AMOUNT</span></span><span class=\"spark-nlp-display-others\" style=\"background-color: white\"> from </span><span class=\"spark-nlp-display-entity-wrapper\" style=\"background-color: #2301C1\"><span class=\"spark-nlp-display-entity-name\">Great Oaks Venture Capital </span><span class=\"spark-nlp-display-entity-type\">FUND</span></span><span class=\"spark-nlp-display-others\" style=\"background-color: white\"> for an investment. </span><span class=\"spark-nlp-display-entity-wrapper\" style=\"background-color: #13BC40\"><span class=\"spark-nlp-display-entity-name\">The Next Big Thing Inc </span><span class=\"spark-nlp-display-entity-type\">ORG</span></span><span class=\"spark-nlp-display-others\" style=\"background-color: white\">. is a manufacturer of widgets located in Akron, Ohio and will use the capital to expand into the Canadian market. The deal is expected<br>to close on </span><span class=\"spark-nlp-display-entity-wrapper\" style=\"background-color: #6C1262\"><span class=\"spark-nlp-display-entity-name\">02.02.2023 </span><span class=\"spark-nlp-display-entity-type\">DUE_DATE</span></span><span class=\"spark-nlp-display-others\" style=\"background-color: white\">, and is expected to consist of a total financing of </span><span class=\"spark-nlp-display-entity-wrapper\" style=\"background-color: #860FB7\"><span class=\"spark-nlp-display-entity-name\">USD 4000000,000 </span><span class=\"spark-nlp-display-entity-type\">OTHER_AMOUNT</span></span><span class=\"spark-nlp-display-others\" style=\"background-color: white\">, with </span><span class=\"spark-nlp-display-entity-wrapper\" style=\"background-color: #860FB7\"><span class=\"spark-nlp-display-entity-name\">$ 800000 </span><span class=\"spark-nlp-display-entity-type\">OTHER_AMOUNT</span></span><span class=\"spark-nlp-display-others\" style=\"background-color: white\"><br>coming from the </span><span class=\"spark-nlp-display-entity-wrapper\" style=\"background-color: #3F63C4\"><span class=\"spark-nlp-display-entity-name\">Citigroup </span><span class=\"spark-nlp-display-entity-type\">BANK_NAME</span></span><span class=\"spark-nlp-display-others\" style=\"background-color: white\"> in the form of a senior secured note and the remaining </span><span class=\"spark-nlp-display-entity-wrapper\" style=\"background-color: #860FB7\"><span class=\"spark-nlp-display-entity-name\">500000 USD </span><span class=\"spark-nlp-display-entity-type\">OTHER_AMOUNT</span></span><span class=\"spark-nlp-display-others\" style=\"background-color: white\"><br>coming from investment partner </span><span class=\"spark-nlp-display-entity-wrapper\" style=\"background-color: #2301C1\"><span class=\"spark-nlp-display-entity-name\">Great Oaks Venture Capital </span><span class=\"spark-nlp-display-entity-type\">FUND</span></span><span class=\"spark-nlp-display-others\" style=\"background-color: white\">. </span><span class=\"spark-nlp-display-entity-wrapper\" style=\"background-color: #61789C\"><span class=\"spark-nlp-display-entity-name\">Both Next Big Thing Inc </span><span class=\"spark-nlp-display-entity-type\">OTHER_ORG</span></span><span class=\"spark-nlp-display-others\" style=\"background-color: white\"> and </span><span class=\"spark-nlp-display-entity-wrapper\" style=\"background-color: #61789C\"><span class=\"spark-nlp-display-entity-name\">Great Oaks Venture Capital </span><span class=\"spark-nlp-display-entity-type\">OTHER_ORG</span></span><span class=\"spark-nlp-display-others\" style=\"background-color: white\"> will receive<br>participating preferred stock with a 1x liquidation preference and a cumulative </span><span class=\"spark-nlp-display-entity-wrapper\" style=\"background-color: #434671\"><span class=\"spark-nlp-display-entity-name\">1% </span><span class=\"spark-nlp-display-entity-type\">OTHER_PERCENTAGE</span></span><span class=\"spark-nlp-display-others\" style=\"background-color: white\"> dividend.<br><br>If you have any questions or concerns, please contact </span><span class=\"spark-nlp-display-entity-wrapper\" style=\"background-color: #9BB825\"><span class=\"spark-nlp-display-entity-name\">Michael D. Davis </span><span class=\"spark-nlp-display-entity-type\">PERSON</span></span><span class=\"spark-nlp-display-others\" style=\"background-color: white\"> at </span><span class=\"spark-nlp-display-entity-wrapper\" style=\"background-color: #2D8A19\"><span class=\"spark-nlp-display-entity-name\">(213)555-0303 </span><span class=\"spark-nlp-display-entity-type\">PHONE</span></span><span class=\"spark-nlp-display-others\" style=\"background-color: white\"> or via email </span><span class=\"spark-nlp-display-entity-wrapper\" style=\"background-color: #828EBA\"><span class=\"spark-nlp-display-entity-name\">michaeldavis@example.com </span><span class=\"spark-nlp-display-entity-type\">EMAIL</span></span><span class=\"spark-nlp-display-others\" style=\"background-color: white\">.<br>Best Regards,<br>Andew </span><span class=\"spark-nlp-display-entity-wrapper\" style=\"background-color: #18936A\"><span class=\"spark-nlp-display-entity-name\">Smith </span><span class=\"spark-nlp-display-entity-type\">OTHER_PERSON</span></span></div>"
            ]
          },
          "metadata": {}
        }
      ]
    },
    {
      "cell_type": "markdown",
      "source": [
        "#🚀 You can even create a graph to store the results in a Graph Database!"
      ],
      "metadata": {
        "id": "lzjr_qgqSi6T"
      }
    },
    {
      "cell_type": "code",
      "source": [
        "import networkx as nx\n",
        "G = nx.Graph()\n",
        "\n",
        "G.clear()\n",
        "G.nodes()"
      ],
      "metadata": {
        "colab": {
          "base_uri": "https://localhost:8080/"
        },
        "id": "reYJQxwXUb1h",
        "outputId": "5d8f8b78-4858-4c72-c5ff-6bfac7e58373"
      },
      "execution_count": null,
      "outputs": [
        {
          "output_type": "execute_result",
          "data": {
            "text/plain": [
              "NodeView(())"
            ]
          },
          "metadata": {},
          "execution_count": 14
        }
      ]
    },
    {
      "cell_type": "markdown",
      "source": [
        "##✅ Using Plotly to show the graph"
      ],
      "metadata": {
        "id": "kEzPJ8itTBdY"
      }
    },
    {
      "cell_type": "code",
      "source": [
        "import plotly.graph_objects as go\n",
        "import random\n",
        "\n",
        "def get_nodes_from_graph(graph, pos, node_color):\n",
        "  \"\"\"Extracts the nodes from a networkX dataframe in Plotly Scatterplot format\"\"\"\n",
        "  node_x = []\n",
        "  node_y = []\n",
        "  texts = []\n",
        "  hovers = []\n",
        "  for node in graph.nodes():\n",
        "    entity = graph.nodes[node]['attr_dict']['entity']\n",
        "    x, y = pos[node]\n",
        "    node_x.append(x)\n",
        "    node_y.append(y)\n",
        "    texts.append(node)\n",
        "    hovers.append(entity)\n",
        "\n",
        "  node_trace = go.Scatter(\n",
        "    x=node_x, y=node_y, text=texts, hovertext=hovers,\n",
        "    mode='markers+text',\n",
        "    hoverinfo='text',\n",
        "    marker=dict(\n",
        "        color=node_color,\n",
        "        size=40,\n",
        "        line_width=2))\n",
        "  \n",
        "  return node_trace\n",
        "\n",
        "\n",
        "def get_edges_from_graph(graph, pos, edge_color):\n",
        "  \"\"\"Extracts the edges from a networkX dataframe in Plotly Scatterplot format\"\"\"\n",
        "  edge_x = []\n",
        "  edge_y = []\n",
        "  hovers = []\n",
        "  xtext = []\n",
        "  ytext = []\n",
        "  for edge in graph.edges():\n",
        "    relation = graph.edges[edge]['attr_dict']['relation']\n",
        "    x0, y0 = pos[edge[0]]\n",
        "    x1, y1 = pos[edge[1]]\n",
        "    edge_x.append(x0)\n",
        "    edge_x.append(x1)\n",
        "    edge_x.append(None)\n",
        "    edge_y.append(y0)\n",
        "    edge_y.append(y1)\n",
        "    edge_y.append(None)\n",
        "    hovers.append(relation)\n",
        "    xtext.append((x0+x1)/2)\n",
        "    ytext.append((y0+y1)/2)\n",
        "\n",
        "  edge_trace = go.Scatter(\n",
        "    x=edge_x, y=edge_y,\n",
        "    line=dict(width=2, color=edge_color),\n",
        "    mode='lines')\n",
        "  \n",
        "  labels_trace = go.Scatter(x=xtext,y= ytext, mode='text',\n",
        "                              textfont = {'color': edge_color},\n",
        "                              marker_size=0.5,\n",
        "                              text=hovers,\n",
        "                              textposition='top center',\n",
        "                              hovertemplate='weight: %{text}')\n",
        "  return edge_trace, labels_trace\n",
        "\n",
        "\n",
        "def show_graph_in_plotly(graph, node_color='white', edge_color='grey'):\n",
        "  \"\"\"Shows Plotly graph in Databricks\"\"\"\n",
        "  pos = nx.spring_layout(graph)\n",
        "  node_trace = get_nodes_from_graph(graph, pos, node_color)\n",
        "  edge_trace, labels_trace = get_edges_from_graph(graph, pos, edge_color)\n",
        "  fig = go.Figure(data=[edge_trace, node_trace, labels_trace],\n",
        "               layout=go.Layout(\n",
        "                  title='Visualization',\n",
        "                  titlefont_size=16,                   \n",
        "                  showlegend=False,\n",
        "                  width=1600,\n",
        "                  height=1000,\n",
        "                  xaxis=dict(showgrid=False, zeroline=False, showticklabels=False),\n",
        "                  yaxis=dict(showgrid=False, zeroline=False, showticklabels=False))\n",
        "                  )\n",
        "  fig.update_traces(marker=dict(size=12,\n",
        "                              line=dict(width=2,\n",
        "                                        color='DarkSlateGrey')),\n",
        "                  selector=dict(mode='markers')) \n",
        "  fig.show()"
      ],
      "metadata": {
        "id": "svRmRo6eS0tI"
      },
      "execution_count": null,
      "outputs": []
    },
    {
      "cell_type": "markdown",
      "source": [
        "##✅ Getting the center of our graph: the company requesting the call"
      ],
      "metadata": {
        "id": "QYrzEnFpTFZp"
      }
    },
    {
      "cell_type": "code",
      "source": [
        "center = list(set([x.result for x in res[0]['ner_chunk'] if x.metadata['entity']=='ORG']))[0]\n",
        "center"
      ],
      "metadata": {
        "colab": {
          "base_uri": "https://localhost:8080/",
          "height": 36
        },
        "id": "mmrMjHXOTGzS",
        "outputId": "241a648c-dfc2-4e0c-df52-f58b4fcf6d0e"
      },
      "execution_count": null,
      "outputs": [
        {
          "output_type": "execute_result",
          "data": {
            "text/plain": [
              "'The Next Big Thing Inc'"
            ],
            "application/vnd.google.colaboratory.intrinsic+json": {
              "type": "string"
            }
          },
          "metadata": {},
          "execution_count": 16
        }
      ]
    },
    {
      "cell_type": "code",
      "source": [
        "G.add_node(center,  attr_dict={'entity': 'ORG'})"
      ],
      "metadata": {
        "id": "q16pDDClUUYI"
      },
      "execution_count": null,
      "outputs": []
    },
    {
      "cell_type": "markdown",
      "source": [
        "#🚀 Creating an \"OTHER\" node for additional information, not capital-call related"
      ],
      "metadata": {
        "id": "ITkSuMVFVkTX"
      }
    },
    {
      "cell_type": "code",
      "source": [
        "OTHER = \"OTHER\""
      ],
      "metadata": {
        "id": "CGG7Q74HV6lX"
      },
      "execution_count": null,
      "outputs": []
    },
    {
      "cell_type": "code",
      "source": [
        "G.add_node(OTHER,  attr_dict={'entity': 'OTHER'})"
      ],
      "metadata": {
        "id": "AZkccJxbVpxv"
      },
      "execution_count": null,
      "outputs": []
    },
    {
      "cell_type": "code",
      "source": [
        "G.add_edge(center, OTHER, attr_dict={'relation': \"has_additional_info\"})  "
      ],
      "metadata": {
        "id": "-a4gMXdyVskA"
      },
      "execution_count": null,
      "outputs": []
    },
    {
      "cell_type": "markdown",
      "source": [
        "##✅ Getting the rest of the entities and relations"
      ],
      "metadata": {
        "id": "gws757hYUwth"
      }
    },
    {
      "cell_type": "code",
      "source": [
        "for x in res[0]['ner_chunk']:\n",
        "  ent_type = x.metadata['entity']\n",
        "  ent_text = x.result\n",
        "  ent_conf = x.metadata['confidence']\n",
        "  \n",
        "  G.add_node(ent_text,  attr_dict={'entity': ent_type, 'confidence': ent_conf})\n",
        "  relation = f'has_{ent_type}'\n",
        "    \n",
        "  if ent_type.startswith('OTHER'):\n",
        "    G.add_edge(OTHER, ent_text, attr_dict={'relation': relation.lower()})\n",
        "  else:\n",
        "    G.add_edge(center, ent_text, attr_dict={'relation': relation.lower()})"
      ],
      "metadata": {
        "id": "X8oNPH1SUyjX"
      },
      "execution_count": null,
      "outputs": []
    },
    {
      "cell_type": "code",
      "source": [
        "\n",
        "show_graph_in_plotly(G)"
      ],
      "metadata": {
        "colab": {
          "base_uri": "https://localhost:8080/",
          "height": 1000
        },
        "id": "57pzOvuYWDBn",
        "outputId": "7f331d50-8793-4c03-dd24-874cbec62071"
      },
      "execution_count": null,
      "outputs": [
        {
          "output_type": "display_data",
          "data": {
            "text/html": [
              "<html>\n",
              "<head><meta charset=\"utf-8\" /></head>\n",
              "<body>\n",
              "    <div>            <script src=\"https://cdnjs.cloudflare.com/ajax/libs/mathjax/2.7.5/MathJax.js?config=TeX-AMS-MML_SVG\"></script><script type=\"text/javascript\">if (window.MathJax) {MathJax.Hub.Config({SVG: {font: \"STIX-Web\"}});}</script>                <script type=\"text/javascript\">window.PlotlyConfig = {MathJaxConfig: 'local'};</script>\n",
              "        <script src=\"https://cdn.plot.ly/plotly-2.8.3.min.js\"></script>                <div id=\"86ee420a-c757-404c-a451-3026664906af\" class=\"plotly-graph-div\" style=\"height:1000px; width:1600px;\"></div>            <script type=\"text/javascript\">                                    window.PLOTLYENV=window.PLOTLYENV || {};                                    if (document.getElementById(\"86ee420a-c757-404c-a451-3026664906af\")) {                    Plotly.newPlot(                        \"86ee420a-c757-404c-a451-3026664906af\",                        [{\"line\":{\"color\":\"grey\",\"width\":2},\"mode\":\"lines\",\"x\":[0.3800668211601468,-0.43709498308514677,null,0.3800668211601468,0.3800668211601468,null,0.3800668211601468,0.7011196816587413,null,0.3800668211601468,-0.036960834385113786,null,0.3800668211601468,0.23932740554641832,null,0.3800668211601468,0.6511392619044837,null,0.3800668211601468,0.47427734230408936,null,0.3800668211601468,0.3304635223496216,null,0.3800668211601468,0.9290272216960695,null,0.3800668211601468,0.7115645995629849,null,0.3800668211601468,0.4954942251350441,null,0.3800668211601468,0.8903683156841126,null,0.3800668211601468,0.7409038399429613,null,0.3800668211601468,0.04824562446810215,null,0.3800668211601468,0.882859709251155,null,0.3800668211601468,0.020567817854528356,null,-0.43709498308514677,-0.19813975553115354,null,-0.43709498308514677,-0.8148259062451134,null,-0.43709498308514677,-0.5632436022731901,null,-0.43709498308514677,-1.0,null,-0.43709498308514677,-0.6828870776888691,null,-0.43709498308514677,-0.12621654302234353,null,-0.43709498308514677,-0.8982909307477747,null,-0.43709498308514677,-0.6406669268921218,null,-0.43709498308514677,-0.9014610740993381,null,-0.43709498308514677,-0.036960834385113786,null,-0.43709498308514677,-0.3988352004125659,null,-0.43709498308514677,-0.796802554135722,null],\"y\":[0.3366830271048123,-0.38814896915631114,null,0.3366830271048123,0.3366830271048123,null,0.3366830271048123,0.17618564089172323,null,0.3366830271048123,-0.034262481480605705,null,0.3366830271048123,0.8764555548295967,null,0.3366830271048123,0.5850766365652105,null,0.3366830271048123,-0.045935220477783666,null,0.3366830271048123,0.6765925794680672,null,0.3366830271048123,0.18021753917152564,null,0.3366830271048123,0.7987576311680934,null,0.3366830271048123,0.8714411256401129,null,0.3366830271048123,0.6073676287350283,null,0.3366830271048123,-0.051562863836220975,null,0.3366830271048123,0.70531959347529,null,0.3366830271048123,0.3962693953838609,null,0.3366830271048123,0.46441342281037284,null,-0.38814896915631114,-0.8502389111383016,null,-0.38814896915631114,-0.5549851530081789,null,-0.38814896915631114,-0.9455644764793902,null,-0.38814896915631114,-0.4157129507751699,null,-0.38814896915631114,-0.7843125485097963,null,-0.38814896915631114,-0.6207594713066331,null,-0.38814896915631114,-0.10634148360105591,null,-0.38814896915631114,-0.032853910003553304,null,-0.38814896915631114,-0.7399591684344556,null,-0.38814896915631114,-0.034262481480605705,null,-0.38814896915631114,-0.8133418940358483,null,-0.38814896915631114,-0.2908002730003868,null],\"type\":\"scatter\"},{\"hoverinfo\":\"text\",\"hovertext\":[\"ORG\",\"OTHER\",\"AMOUNT\",\"OTHER_ORG\",\"OTHER_PERCENTAGE\",\"OTHER_AMOUNT\",\"OTHER_AMOUNT\",\"OTHER_AMOUNT\",\"OTHER_AMOUNT\",\"DUE_DATE\",\"AMOUNT\",\"BANK_NAME\",\"BANK_CONTACT\",\"BANK_ADDRESS\",\"ABA\",\"FUND\",\"ACCOUNT_NUMBER\",\"DUE_DATE\",\"OTHER_AMOUNT\",\"OTHER_AMOUNT\",\"OTHER_AMOUNT\",\"OTHER_ORG\",\"OTHER_PERCENTAGE\",\"PERSON\",\"PHONE\",\"EMAIL\",\"OTHER_PERSON\"],\"marker\":{\"color\":\"white\",\"line\":{\"width\":2},\"size\":40},\"mode\":\"markers+text\",\"text\":[\"The Next Big Thing Inc\",\"OTHER\",\"800000 USD\",\"Great Oaks Venture Capital\",\"5%\",\"4000000 EUR\",\"USD 80000,000\",\"USD 50000,000\",\"USD 30000\",\"2026.01.01\",\"USD 800000\",\"Citigroup\",\"Charlotte Davis\",\"00025 Cynthia Row Suite 132\",\"44000024\",\"Next Big Thing Inc\",\"1234567-2XX\",\"02.02.2023\",\"USD 4000000,000\",\"$ 800000\",\"500000 USD\",\"Both Next Big Thing Inc\",\"1%\",\"Michael D. Davis\",\"(213)555-0303\",\"michaeldavis@example.com\",\"Smith\"],\"x\":[0.3800668211601468,-0.43709498308514677,0.7011196816587413,-0.036960834385113786,-0.19813975553115354,-0.8148259062451134,-0.5632436022731901,-1.0,-0.6828870776888691,0.23932740554641832,0.6511392619044837,0.47427734230408936,0.3304635223496216,0.9290272216960695,0.7115645995629849,0.4954942251350441,0.8903683156841126,0.7409038399429613,-0.12621654302234353,-0.8982909307477747,-0.6406669268921218,-0.9014610740993381,-0.3988352004125659,0.04824562446810215,0.882859709251155,0.020567817854528356,-0.796802554135722],\"y\":[0.3366830271048123,-0.38814896915631114,0.17618564089172323,-0.034262481480605705,-0.8502389111383016,-0.5549851530081789,-0.9455644764793902,-0.4157129507751699,-0.7843125485097963,0.8764555548295967,0.5850766365652105,-0.045935220477783666,0.6765925794680672,0.18021753917152564,0.7987576311680934,0.8714411256401129,0.6073676287350283,-0.051562863836220975,-0.6207594713066331,-0.10634148360105591,-0.032853910003553304,-0.7399591684344556,-0.8133418940358483,0.70531959347529,0.3962693953838609,0.46441342281037284,-0.2908002730003868],\"type\":\"scatter\"},{\"hovertemplate\":\"weight: %{text}\",\"marker\":{\"size\":0.5},\"mode\":\"text\",\"text\":[\"has_additional_info\",\"has_org\",\"has_amount\",\"has_fund\",\"has_due_date\",\"has_amount\",\"has_bank_name\",\"has_bank_contact\",\"has_bank_address\",\"has_aba\",\"has_fund\",\"has_account_number\",\"has_due_date\",\"has_person\",\"has_phone\",\"has_email\",\"has_other_percentage\",\"has_other_amount\",\"has_other_amount\",\"has_other_amount\",\"has_other_amount\",\"has_other_amount\",\"has_other_amount\",\"has_other_amount\",\"has_other_org\",\"has_other_org\",\"has_other_percentage\",\"has_other_person\"],\"textfont\":{\"color\":\"grey\"},\"textposition\":\"top center\",\"x\":[-0.028514080962499994,0.3800668211601468,0.540593251409444,0.1715529933875165,0.30969711335328254,0.5156030415323152,0.42717208173211807,0.3552651717548842,0.6545470214281082,0.5458157103615658,0.4377805231475954,0.6352175684221297,0.560485330551554,0.21415622281412447,0.6314632652056509,0.20031731950733758,-0.31761736930815015,-0.6259604446651301,-0.5001692926791684,-0.7185474915425734,-0.5599910303870079,-0.2816557630537452,-0.6676929569164607,-0.5388809549886343,-0.6692780285922424,-0.23702790873513027,-0.4179650917488563,-0.6169487686104344],\"y\":[-0.025732971025749424,0.3366830271048123,0.25643433399826776,0.1512102728121033,0.6065692909672045,0.46087983183501136,0.14537390331351432,0.5066378032864397,0.258450283138169,0.5677203291364529,0.6040620763724626,0.47202532791992025,0.14256008163429565,0.5210013102900511,0.3664762112443366,0.40054822495759257,-0.6191939401473063,-0.471567061082245,-0.6668567228178507,-0.4019309599657405,-0.5862307588330538,-0.5044542202314721,-0.2472452263786835,-0.21050143957993223,-0.5640540687953834,-0.21120572531845844,-0.6007454315960797,-0.33947462107834897],\"type\":\"scatter\"}],                        {\"height\":1000,\"showlegend\":false,\"title\":{\"font\":{\"size\":16},\"text\":\"Visualization\"},\"width\":1600,\"xaxis\":{\"showgrid\":false,\"showticklabels\":false,\"zeroline\":false},\"yaxis\":{\"showgrid\":false,\"showticklabels\":false,\"zeroline\":false},\"template\":{\"data\":{\"bar\":[{\"error_x\":{\"color\":\"#2a3f5f\"},\"error_y\":{\"color\":\"#2a3f5f\"},\"marker\":{\"line\":{\"color\":\"#E5ECF6\",\"width\":0.5},\"pattern\":{\"fillmode\":\"overlay\",\"size\":10,\"solidity\":0.2}},\"type\":\"bar\"}],\"barpolar\":[{\"marker\":{\"line\":{\"color\":\"#E5ECF6\",\"width\":0.5},\"pattern\":{\"fillmode\":\"overlay\",\"size\":10,\"solidity\":0.2}},\"type\":\"barpolar\"}],\"carpet\":[{\"aaxis\":{\"endlinecolor\":\"#2a3f5f\",\"gridcolor\":\"white\",\"linecolor\":\"white\",\"minorgridcolor\":\"white\",\"startlinecolor\":\"#2a3f5f\"},\"baxis\":{\"endlinecolor\":\"#2a3f5f\",\"gridcolor\":\"white\",\"linecolor\":\"white\",\"minorgridcolor\":\"white\",\"startlinecolor\":\"#2a3f5f\"},\"type\":\"carpet\"}],\"choropleth\":[{\"colorbar\":{\"outlinewidth\":0,\"ticks\":\"\"},\"type\":\"choropleth\"}],\"contour\":[{\"colorbar\":{\"outlinewidth\":0,\"ticks\":\"\"},\"colorscale\":[[0.0,\"#0d0887\"],[0.1111111111111111,\"#46039f\"],[0.2222222222222222,\"#7201a8\"],[0.3333333333333333,\"#9c179e\"],[0.4444444444444444,\"#bd3786\"],[0.5555555555555556,\"#d8576b\"],[0.6666666666666666,\"#ed7953\"],[0.7777777777777778,\"#fb9f3a\"],[0.8888888888888888,\"#fdca26\"],[1.0,\"#f0f921\"]],\"type\":\"contour\"}],\"contourcarpet\":[{\"colorbar\":{\"outlinewidth\":0,\"ticks\":\"\"},\"type\":\"contourcarpet\"}],\"heatmap\":[{\"colorbar\":{\"outlinewidth\":0,\"ticks\":\"\"},\"colorscale\":[[0.0,\"#0d0887\"],[0.1111111111111111,\"#46039f\"],[0.2222222222222222,\"#7201a8\"],[0.3333333333333333,\"#9c179e\"],[0.4444444444444444,\"#bd3786\"],[0.5555555555555556,\"#d8576b\"],[0.6666666666666666,\"#ed7953\"],[0.7777777777777778,\"#fb9f3a\"],[0.8888888888888888,\"#fdca26\"],[1.0,\"#f0f921\"]],\"type\":\"heatmap\"}],\"heatmapgl\":[{\"colorbar\":{\"outlinewidth\":0,\"ticks\":\"\"},\"colorscale\":[[0.0,\"#0d0887\"],[0.1111111111111111,\"#46039f\"],[0.2222222222222222,\"#7201a8\"],[0.3333333333333333,\"#9c179e\"],[0.4444444444444444,\"#bd3786\"],[0.5555555555555556,\"#d8576b\"],[0.6666666666666666,\"#ed7953\"],[0.7777777777777778,\"#fb9f3a\"],[0.8888888888888888,\"#fdca26\"],[1.0,\"#f0f921\"]],\"type\":\"heatmapgl\"}],\"histogram\":[{\"marker\":{\"pattern\":{\"fillmode\":\"overlay\",\"size\":10,\"solidity\":0.2}},\"type\":\"histogram\"}],\"histogram2d\":[{\"colorbar\":{\"outlinewidth\":0,\"ticks\":\"\"},\"colorscale\":[[0.0,\"#0d0887\"],[0.1111111111111111,\"#46039f\"],[0.2222222222222222,\"#7201a8\"],[0.3333333333333333,\"#9c179e\"],[0.4444444444444444,\"#bd3786\"],[0.5555555555555556,\"#d8576b\"],[0.6666666666666666,\"#ed7953\"],[0.7777777777777778,\"#fb9f3a\"],[0.8888888888888888,\"#fdca26\"],[1.0,\"#f0f921\"]],\"type\":\"histogram2d\"}],\"histogram2dcontour\":[{\"colorbar\":{\"outlinewidth\":0,\"ticks\":\"\"},\"colorscale\":[[0.0,\"#0d0887\"],[0.1111111111111111,\"#46039f\"],[0.2222222222222222,\"#7201a8\"],[0.3333333333333333,\"#9c179e\"],[0.4444444444444444,\"#bd3786\"],[0.5555555555555556,\"#d8576b\"],[0.6666666666666666,\"#ed7953\"],[0.7777777777777778,\"#fb9f3a\"],[0.8888888888888888,\"#fdca26\"],[1.0,\"#f0f921\"]],\"type\":\"histogram2dcontour\"}],\"mesh3d\":[{\"colorbar\":{\"outlinewidth\":0,\"ticks\":\"\"},\"type\":\"mesh3d\"}],\"parcoords\":[{\"line\":{\"colorbar\":{\"outlinewidth\":0,\"ticks\":\"\"}},\"type\":\"parcoords\"}],\"pie\":[{\"automargin\":true,\"type\":\"pie\"}],\"scatter\":[{\"marker\":{\"colorbar\":{\"outlinewidth\":0,\"ticks\":\"\"}},\"type\":\"scatter\"}],\"scatter3d\":[{\"line\":{\"colorbar\":{\"outlinewidth\":0,\"ticks\":\"\"}},\"marker\":{\"colorbar\":{\"outlinewidth\":0,\"ticks\":\"\"}},\"type\":\"scatter3d\"}],\"scattercarpet\":[{\"marker\":{\"colorbar\":{\"outlinewidth\":0,\"ticks\":\"\"}},\"type\":\"scattercarpet\"}],\"scattergeo\":[{\"marker\":{\"colorbar\":{\"outlinewidth\":0,\"ticks\":\"\"}},\"type\":\"scattergeo\"}],\"scattergl\":[{\"marker\":{\"colorbar\":{\"outlinewidth\":0,\"ticks\":\"\"}},\"type\":\"scattergl\"}],\"scattermapbox\":[{\"marker\":{\"colorbar\":{\"outlinewidth\":0,\"ticks\":\"\"}},\"type\":\"scattermapbox\"}],\"scatterpolar\":[{\"marker\":{\"colorbar\":{\"outlinewidth\":0,\"ticks\":\"\"}},\"type\":\"scatterpolar\"}],\"scatterpolargl\":[{\"marker\":{\"colorbar\":{\"outlinewidth\":0,\"ticks\":\"\"}},\"type\":\"scatterpolargl\"}],\"scatterternary\":[{\"marker\":{\"colorbar\":{\"outlinewidth\":0,\"ticks\":\"\"}},\"type\":\"scatterternary\"}],\"surface\":[{\"colorbar\":{\"outlinewidth\":0,\"ticks\":\"\"},\"colorscale\":[[0.0,\"#0d0887\"],[0.1111111111111111,\"#46039f\"],[0.2222222222222222,\"#7201a8\"],[0.3333333333333333,\"#9c179e\"],[0.4444444444444444,\"#bd3786\"],[0.5555555555555556,\"#d8576b\"],[0.6666666666666666,\"#ed7953\"],[0.7777777777777778,\"#fb9f3a\"],[0.8888888888888888,\"#fdca26\"],[1.0,\"#f0f921\"]],\"type\":\"surface\"}],\"table\":[{\"cells\":{\"fill\":{\"color\":\"#EBF0F8\"},\"line\":{\"color\":\"white\"}},\"header\":{\"fill\":{\"color\":\"#C8D4E3\"},\"line\":{\"color\":\"white\"}},\"type\":\"table\"}]},\"layout\":{\"annotationdefaults\":{\"arrowcolor\":\"#2a3f5f\",\"arrowhead\":0,\"arrowwidth\":1},\"autotypenumbers\":\"strict\",\"coloraxis\":{\"colorbar\":{\"outlinewidth\":0,\"ticks\":\"\"}},\"colorscale\":{\"diverging\":[[0,\"#8e0152\"],[0.1,\"#c51b7d\"],[0.2,\"#de77ae\"],[0.3,\"#f1b6da\"],[0.4,\"#fde0ef\"],[0.5,\"#f7f7f7\"],[0.6,\"#e6f5d0\"],[0.7,\"#b8e186\"],[0.8,\"#7fbc41\"],[0.9,\"#4d9221\"],[1,\"#276419\"]],\"sequential\":[[0.0,\"#0d0887\"],[0.1111111111111111,\"#46039f\"],[0.2222222222222222,\"#7201a8\"],[0.3333333333333333,\"#9c179e\"],[0.4444444444444444,\"#bd3786\"],[0.5555555555555556,\"#d8576b\"],[0.6666666666666666,\"#ed7953\"],[0.7777777777777778,\"#fb9f3a\"],[0.8888888888888888,\"#fdca26\"],[1.0,\"#f0f921\"]],\"sequentialminus\":[[0.0,\"#0d0887\"],[0.1111111111111111,\"#46039f\"],[0.2222222222222222,\"#7201a8\"],[0.3333333333333333,\"#9c179e\"],[0.4444444444444444,\"#bd3786\"],[0.5555555555555556,\"#d8576b\"],[0.6666666666666666,\"#ed7953\"],[0.7777777777777778,\"#fb9f3a\"],[0.8888888888888888,\"#fdca26\"],[1.0,\"#f0f921\"]]},\"colorway\":[\"#636efa\",\"#EF553B\",\"#00cc96\",\"#ab63fa\",\"#FFA15A\",\"#19d3f3\",\"#FF6692\",\"#B6E880\",\"#FF97FF\",\"#FECB52\"],\"font\":{\"color\":\"#2a3f5f\"},\"geo\":{\"bgcolor\":\"white\",\"lakecolor\":\"white\",\"landcolor\":\"#E5ECF6\",\"showlakes\":true,\"showland\":true,\"subunitcolor\":\"white\"},\"hoverlabel\":{\"align\":\"left\"},\"hovermode\":\"closest\",\"mapbox\":{\"style\":\"light\"},\"paper_bgcolor\":\"white\",\"plot_bgcolor\":\"#E5ECF6\",\"polar\":{\"angularaxis\":{\"gridcolor\":\"white\",\"linecolor\":\"white\",\"ticks\":\"\"},\"bgcolor\":\"#E5ECF6\",\"radialaxis\":{\"gridcolor\":\"white\",\"linecolor\":\"white\",\"ticks\":\"\"}},\"scene\":{\"xaxis\":{\"backgroundcolor\":\"#E5ECF6\",\"gridcolor\":\"white\",\"gridwidth\":2,\"linecolor\":\"white\",\"showbackground\":true,\"ticks\":\"\",\"zerolinecolor\":\"white\"},\"yaxis\":{\"backgroundcolor\":\"#E5ECF6\",\"gridcolor\":\"white\",\"gridwidth\":2,\"linecolor\":\"white\",\"showbackground\":true,\"ticks\":\"\",\"zerolinecolor\":\"white\"},\"zaxis\":{\"backgroundcolor\":\"#E5ECF6\",\"gridcolor\":\"white\",\"gridwidth\":2,\"linecolor\":\"white\",\"showbackground\":true,\"ticks\":\"\",\"zerolinecolor\":\"white\"}},\"shapedefaults\":{\"line\":{\"color\":\"#2a3f5f\"}},\"ternary\":{\"aaxis\":{\"gridcolor\":\"white\",\"linecolor\":\"white\",\"ticks\":\"\"},\"baxis\":{\"gridcolor\":\"white\",\"linecolor\":\"white\",\"ticks\":\"\"},\"bgcolor\":\"#E5ECF6\",\"caxis\":{\"gridcolor\":\"white\",\"linecolor\":\"white\",\"ticks\":\"\"}},\"title\":{\"x\":0.05},\"xaxis\":{\"automargin\":true,\"gridcolor\":\"white\",\"linecolor\":\"white\",\"ticks\":\"\",\"title\":{\"standoff\":15},\"zerolinecolor\":\"white\",\"zerolinewidth\":2},\"yaxis\":{\"automargin\":true,\"gridcolor\":\"white\",\"linecolor\":\"white\",\"ticks\":\"\",\"title\":{\"standoff\":15},\"zerolinecolor\":\"white\",\"zerolinewidth\":2}}}},                        {\"responsive\": true}                    ).then(function(){\n",
              "                            \n",
              "var gd = document.getElementById('86ee420a-c757-404c-a451-3026664906af');\n",
              "var x = new MutationObserver(function (mutations, observer) {{\n",
              "        var display = window.getComputedStyle(gd).display;\n",
              "        if (!display || display === 'none') {{\n",
              "            console.log([gd, 'removed!']);\n",
              "            Plotly.purge(gd);\n",
              "            observer.disconnect();\n",
              "        }}\n",
              "}});\n",
              "\n",
              "// Listen for the removal of the full notebook cells\n",
              "var notebookContainer = gd.closest('#notebook-container');\n",
              "if (notebookContainer) {{\n",
              "    x.observe(notebookContainer, {childList: true});\n",
              "}}\n",
              "\n",
              "// Listen for the clearing of the current output cell\n",
              "var outputEl = gd.closest('.output');\n",
              "if (outputEl) {{\n",
              "    x.observe(outputEl, {childList: true});\n",
              "}}\n",
              "\n",
              "                        })                };                            </script>        </div>\n",
              "</body>\n",
              "</html>"
            ]
          },
          "metadata": {}
        }
      ]
    },
    {
      "cell_type": "code",
      "source": [],
      "metadata": {
        "id": "vjMIaCue0TIE"
      },
      "execution_count": null,
      "outputs": []
    }
  ]
}
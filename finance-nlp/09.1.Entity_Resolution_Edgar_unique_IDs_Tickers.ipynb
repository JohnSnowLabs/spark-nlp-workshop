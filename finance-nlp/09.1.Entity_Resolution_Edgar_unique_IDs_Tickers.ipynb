{
  "cells": [
    {
      "cell_type": "markdown",
      "id": "04afee44-529b-4c72-b7a7-f72f5cefa5ce",
      "metadata": {
        "id": "04afee44-529b-4c72-b7a7-f72f5cefa5ce"
      },
      "source": [
        "![JohnSnowLabs](https://nlp.johnsnowlabs.com/assets/images/logo.png)"
      ]
    },
    {
      "cell_type": "markdown",
      "id": "25aee2df",
      "metadata": {
        "id": "25aee2df"
      },
      "source": [
        "[![Open In Colab](https://colab.research.google.com/assets/colab-badge.svg)](https://colab.research.google.com/github/JohnSnowLabs/spark-nlp-workshop/blob/master/finance-nlp/09.1.Entity_Resolution_Edgar_unique_IDs_Tickers.ipynb)"
      ]
    },
    {
      "cell_type": "markdown",
      "id": "c960bb95",
      "metadata": {
        "id": "c960bb95"
      },
      "source": [
        "#🔎 Financial Entity Resolution\n",
        "\n",
        "**In this notebook, we continue from where left off in `7.Entity_Resolution` notebook.**"
      ]
    },
    {
      "cell_type": "markdown",
      "id": "4iIO6G_B3pqq",
      "metadata": {
        "collapsed": false,
        "id": "4iIO6G_B3pqq"
      },
      "source": [
        "#🎬 Installation"
      ]
    },
    {
      "cell_type": "code",
      "execution_count": null,
      "id": "hPwo4Czy3pqq",
      "metadata": {
        "id": "hPwo4Czy3pqq",
        "pycharm": {
          "is_executing": true
        }
      },
      "outputs": [],
      "source": [
        "! pip install -q johnsnowlabs"
      ]
    },
    {
      "cell_type": "markdown",
      "id": "YPsbAnNoPt0Z",
      "metadata": {
        "id": "YPsbAnNoPt0Z"
      },
      "source": [
        "##🔗 Automatic Installation\n",
        "Using my.johnsnowlabs.com SSO"
      ]
    },
    {
      "cell_type": "code",
      "execution_count": null,
      "id": "_L-7mLYp3pqr",
      "metadata": {
        "id": "_L-7mLYp3pqr",
        "pycharm": {
          "is_executing": true
        }
      },
      "outputs": [],
      "source": [
        "from johnsnowlabs import nlp, finance\n",
        "\n",
        "# nlp.install(force_browser=True)"
      ]
    },
    {
      "cell_type": "markdown",
      "id": "hsJvn_WWM2GL",
      "metadata": {
        "id": "hsJvn_WWM2GL"
      },
      "source": [
        "##🔗 Manual downloading\n",
        "If you are not registered in my.johnsnowlabs.com, you received a license via e-email or you are using Safari, you may need to do a manual update of the license.\n",
        "\n",
        "- Go to my.johnsnowlabs.com\n",
        "- Download your license\n",
        "- Upload it using the following command"
      ]
    },
    {
      "cell_type": "code",
      "execution_count": null,
      "id": "i57QV3-_P2sQ",
      "metadata": {
        "id": "i57QV3-_P2sQ"
      },
      "outputs": [],
      "source": [
        "from google.colab import files\n",
        "print('Please Upload your John Snow Labs License using the button below')\n",
        "license_keys = files.upload()"
      ]
    },
    {
      "cell_type": "markdown",
      "id": "xGgNdFzZP_hQ",
      "metadata": {
        "id": "xGgNdFzZP_hQ"
      },
      "source": [
        "- Install it"
      ]
    },
    {
      "cell_type": "code",
      "execution_count": null,
      "id": "OfmmPqknP4rR",
      "metadata": {
        "id": "OfmmPqknP4rR"
      },
      "outputs": [],
      "source": [
        "nlp.install()"
      ]
    },
    {
      "cell_type": "markdown",
      "id": "DCl5ErZkNNLk",
      "metadata": {
        "id": "DCl5ErZkNNLk"
      },
      "source": [
        "#📌 Starting"
      ]
    },
    {
      "cell_type": "code",
      "execution_count": null,
      "id": "x3jVICoa3pqr",
      "metadata": {
        "id": "x3jVICoa3pqr"
      },
      "outputs": [],
      "source": [
        "spark = nlp.start()"
      ]
    },
    {
      "cell_type": "markdown",
      "id": "56490c04-7bf9-47d4-8e09-8a87a4848d38",
      "metadata": {
        "id": "56490c04-7bf9-47d4-8e09-8a87a4848d38"
      },
      "source": [
        "#🔎 Sentence Entity Resolver Models\n",
        "\n",
        "Entity resolution is an important task in natural language processing and information extraction, as it allows for more accurate analysis and understanding of financial texts. For example, in a news article discussing the performance of a company's stock, accurately identifying and disambiguating the company's name is crucial for accurately tracking the stock's performance.\n",
        "\n",
        "An NLP use case in financial or legal applications is identifying financial entities' presence in a given text. One of those entities could be `Company Name`. We can carry out NER to extract different chunks of information, but in real financial and legal use cases, the company name is usually not useful as it is mentioned in the text. Sometimes we need the _official_ name of the company (instead of `Amazon`, `Amazon.com INC`, as registered in Edgar, Crunchbase and Nasdaq). We have pre-trained sentence entity resolver models for these purposes shown below with the examples."
      ]
    },
    {
      "cell_type": "markdown",
      "id": "dqOhFLXRFDzz",
      "metadata": {
        "collapsed": false,
        "id": "dqOhFLXRFDzz"
      },
      "source": [
        "##📜 Retrieving official / unique IDs\n",
        "\n",
        "Besides mapping a series of non-normalized strings to a normalized version of, for example, the company name in some registries, we can also map them to retrieve unique IDs (as IRS number in Edgar database) using Entity Resolution.\n",
        "\n",
        "Let's take a look at how we do it."
      ]
    },
    {
      "cell_type": "markdown",
      "id": "a0xdKvjgHt8X",
      "metadata": {
        "id": "a0xdKvjgHt8X"
      },
      "source": [
        "#🔎 Pretrained Entity Resolution Models for Finance\n",
        "\n",
        "Here are the list of pretrained Entity Resolution models:\n",
        "\n",
        "\n",
        "|index|model|\n",
        "|-----:|:-----|\n",
        "| 1| [Company Name Normalization Using Nasdaq](https://nlp.johnsnowlabs.com/2022/10/22/finel_nasdaq_data_company_name_en.html)  |\n",
        "| 2| [Company Name Normalization Using Edgar Database](https://nlp.johnsnowlabs.com/2022/08/30/finel_edgar_company_name_en.html)  |\n",
        "| 3| [Company Names Normalization Using Crunchbase](https://nlp.johnsnowlabs.com/2022/09/28/finre_work_experience_en.html)  | \n",
        "| 4| [Company Name to Ticker Using Nasdaq](https://nlp.johnsnowlabs.com/2022/10/22/finel_nasdaq_data_ticker_en.html)  | \n",
        "| 5| [Company Name to IRS Number Using Edgar Database](https://nlp.johnsnowlabs.com/2022/08/30/finel_edgar_irs_en.html)  |\n",
        "| 6| [Resolve Tickers to Company Names Using Nasdaq](https://nlp.johnsnowlabs.com/2022/09/09/finel_tickers2names_en.html)  |\n",
        "| 7| [Resolve Company Names to Tickers Using Nasdaq](https://nlp.johnsnowlabs.com/2022/09/08/finel_names2tickers_en.html)  | "
      ]
    },
    {
      "cell_type": "markdown",
      "id": "XVuxdiKgi_qd",
      "metadata": {
        "id": "XVuxdiKgi_qd"
      },
      "source": [
        "##🔎 Common Componennts"
      ]
    },
    {
      "cell_type": "code",
      "execution_count": null,
      "id": "W4VQJrV8lywb",
      "metadata": {
        "colab": {
          "base_uri": "https://localhost:8080/"
        },
        "id": "W4VQJrV8lywb",
        "outputId": "4bf011b6-466d-4579-c3c3-d0fa2cb3de73"
      },
      "outputs": [
        {
          "name": "stdout",
          "output_type": "stream",
          "text": [
            "bert_embeddings_sec_bert_base download started this may take some time.\n",
            "Approximate size to download 390.4 MB\n",
            "[OK!]\n"
          ]
        }
      ],
      "source": [
        "def get_generic_base_pipeline():\n",
        "  \"\"\"Common components used in all NER pipelines\"\"\"\n",
        "  document_assembler = nlp.DocumentAssembler()\\\n",
        "      .setInputCol(\"text\")\\\n",
        "      .setOutputCol(\"document\")\n",
        "\n",
        "  text_splitter = finance.TextSplitter()\\\n",
        "      .setInputCols([\"document\"])\\\n",
        "      .setOutputCol(\"sentence\")\n",
        "  \n",
        "  tokenizer = nlp.Tokenizer()\\\n",
        "      .setInputCols([\"sentence\"])\\\n",
        "      .setOutputCol(\"token\")\n",
        "\n",
        "  embeddings = nlp.BertEmbeddings.pretrained(\"bert_embeddings_sec_bert_base\",\"en\") \\\n",
        "      .setInputCols([\"sentence\", \"token\"])\\\n",
        "      .setOutputCol(\"embeddings\")\n",
        "\n",
        "  base_pipeline = nlp.Pipeline(stages=[\n",
        "      document_assembler,\n",
        "      text_splitter,\n",
        "      tokenizer,\n",
        "      embeddings\n",
        "  ])\n",
        "\n",
        "  return base_pipeline\n",
        "    \n",
        "generic_base_pipeline = get_generic_base_pipeline()"
      ]
    },
    {
      "cell_type": "markdown",
      "id": "f900954c-e89b-4cb7-be24-6ea499db710a",
      "metadata": {
        "id": "f900954c-e89b-4cb7-be24-6ea499db710a"
      },
      "source": [
        "📜Other than providing the code in the \"result\" field it provides more metadata about the matching process:\n",
        "\n",
        "- target_text -> Text to resolve\n",
        "- resolved_text -> Best match text\n",
        "- confidence -> Relative confidence for the top match (distance to probability)\n",
        "- confidence_ratio -> Relative confidence for the top match. TopMatchConfidence / SecondMatchConfidence\n",
        "- alternative_codes -> List of other plausible codes (in the KNN neighborhood)\n",
        "- all_k_resolutions -> All codes descriptions\n",
        "- all_k_results -> All resolved codes for metrics calculation purposes\n",
        "- sentence -> SentenceId\n",
        "\n",
        "We will use following Generic Function For Getting the Codes and Relation Pairs"
      ]
    },
    {
      "cell_type": "code",
      "execution_count": null,
      "id": "7bb59495-6397-4aed-99fa-691678a6ff6e",
      "metadata": {
        "id": "7bb59495-6397-4aed-99fa-691678a6ff6e"
      },
      "outputs": [],
      "source": [
        "import pandas as pd\n",
        "pd.set_option('display.max_colwidth', 0)\n",
        "\n",
        "def get_codes (lp, text, vocab='company_name', hcc=False):\n",
        "\n",
        "    \"\"\"Returns LightPipeline resolution results\"\"\"\n",
        "    \n",
        "    full_light_result = lp.fullAnnotate(text)\n",
        "\n",
        "    chunks = []\n",
        "    codes = []\n",
        "    begin = []\n",
        "    end = []\n",
        "    resolutions=[]\n",
        "    all_distances =[]\n",
        "    all_codes=[]\n",
        "    all_cosines = []\n",
        "    all_k_aux_labels=[]\n",
        "\n",
        "    for i in range(len(full_light_result)):\n",
        "\n",
        "      for chunk, code in zip(full_light_result[i]['ner_chunk'], full_light_result[i][vocab]):   \n",
        "          begin.append(chunk.begin)\n",
        "          end.append(chunk.end)\n",
        "          chunks.append(chunk.result)\n",
        "          codes.append(code.result) \n",
        "          all_codes.append(code.metadata['all_k_results'].split(':::'))\n",
        "          resolutions.append(code.metadata['all_k_resolutions'].split(':::'))\n",
        "          all_distances.append(code.metadata['all_k_distances'].split(':::'))\n",
        "          all_cosines.append(code.metadata['all_k_cosine_distances'].split(':::'))\n",
        "          if hcc:\n",
        "              try:\n",
        "                  all_k_aux_labels.append(code.metadata['all_k_aux_labels'].split(':::'))\n",
        "              except:\n",
        "                  all_k_aux_labels.append([])\n",
        "          else:\n",
        "              all_k_aux_labels.append([])\n",
        "\n",
        "    df = pd.DataFrame({'chunks':chunks, 'begin': begin, 'end':end, 'code':codes, 'all_codes':all_codes, \n",
        "                       'resolutions':resolutions, 'all_k_aux_labels':all_k_aux_labels,'all_distances':all_cosines})\n",
        "    \n",
        "    return df"
      ]
    },
    {
      "cell_type": "markdown",
      "id": "CWI_c-WtC4TW",
      "metadata": {
        "id": "CWI_c-WtC4TW"
      },
      "source": [
        "###✅ Normalized Name\n",
        "In Edgar, the company official is different! We need to take it before being able to augment with external information in EDGAR.\n",
        "\n",
        "- Incorrect: `CADENCE DESIGN SYSTEMS, INC` , `Cadence Design Systems, Inc`\n",
        "- Correct (Official): `CADENCE DESIGN SYSTEMS INC`"
      ]
    },
    {
      "cell_type": "code",
      "execution_count": null,
      "id": "ITRtxnkxnD87",
      "metadata": {
        "colab": {
          "base_uri": "https://localhost:8080/",
          "height": 35
        },
        "id": "ITRtxnkxnD87",
        "outputId": "20397c8c-4bc8-44ea-c194-ef2f8f6d22df"
      },
      "outputs": [
        {
          "data": {
            "application/vnd.google.colaboratory.intrinsic+json": {
              "type": "string"
            },
            "text/plain": [
              "'CADENCE DESIGN SYSTEMS INC'"
            ]
          },
          "execution_count": 7,
          "metadata": {},
          "output_type": "execute_result"
        }
      ],
      "source": [
        "# 'CADENCE DESIGN SYSTEMS, INC'\n",
        "NORM_ORG = 'CADENCE DESIGN SYSTEMS INC'\n",
        "\n",
        "NORM_ORG"
      ]
    },
    {
      "cell_type": "markdown",
      "id": "f872a951-5a66-4a2e-ae48-639d0c9e88e8",
      "metadata": {
        "id": "f872a951-5a66-4a2e-ae48-639d0c9e88e8"
      },
      "source": [
        "###✅ Find Company IRS Number"
      ]
    },
    {
      "cell_type": "markdown",
      "id": "4db6dbd3-ee32-48e1-a83d-fb2583325a68",
      "metadata": {
        "id": "4db6dbd3-ee32-48e1-a83d-fb2583325a68"
      },
      "source": [
        "An employer identification number (EIN) is a nine-digit number assigned by the `IRS`. It's used to identify the tax accounts of employers and certain others who have no employees. The IRS uses the number to identify taxpayers who are required to file various business tax returns. EINs are used by employers, sole proprietors, corporations, partnerships, non-profit associations, trusts, estates of decedents, government agencies, certain individuals, and other business entities.\n",
        "\n",
        "\n"
      ]
    },
    {
      "cell_type": "code",
      "execution_count": null,
      "id": "5c18cf27-6d9b-46f1-bf06-dafc7336d6dc",
      "metadata": {
        "colab": {
          "base_uri": "https://localhost:8080/"
        },
        "id": "5c18cf27-6d9b-46f1-bf06-dafc7336d6dc",
        "outputId": "dbd13cdc-096d-4b1a-ccab-5da31515a82f"
      },
      "outputs": [
        {
          "name": "stdout",
          "output_type": "stream",
          "text": [
            "tfhub_use download started this may take some time.\n",
            "Approximate size to download 923.7 MB\n",
            "[OK!]\n",
            "finel_edgar_irs download started this may take some time.\n",
            "[OK!]\n"
          ]
        }
      ],
      "source": [
        "document_assembler = nlp.DocumentAssembler()\\\n",
        "    .setInputCol(\"text\")\\\n",
        "    .setOutputCol(\"ner_chunk\")\n",
        "\n",
        "embeddings = nlp.UniversalSentenceEncoder.pretrained()\\\n",
        "    .setInputCols(\"ner_chunk\")\\\n",
        "    .setOutputCol(\"sentence_embeddings\")\n",
        "\n",
        "resolver = finance.SentenceEntityResolverModel.pretrained(\"finel_edgar_irs\", \"en\", \"finance/models\") \\\n",
        "    .setInputCols([\"sentence_embeddings\"]) \\\n",
        "    .setOutputCol(\"irs_code\")\\\n",
        "    .setDistanceFunction(\"EUCLIDEAN\")\n",
        "\n",
        "pipeline = nlp.Pipeline(\n",
        "      stages = [\n",
        "          document_assembler,\n",
        "          embeddings,\n",
        "          resolver])\n",
        "\n",
        "empty_data = spark.createDataFrame([[\"\"]]).toDF(\"text\")\n",
        "\n",
        "model = pipeline.fit(empty_data)\n",
        "\n",
        "lp = nlp.LightPipeline(model)"
      ]
    },
    {
      "cell_type": "code",
      "execution_count": null,
      "id": "05e4013d-d4e9-4609-9f1e-d81f468280f9",
      "metadata": {
        "colab": {
          "base_uri": "https://localhost:8080/",
          "height": 178
        },
        "id": "05e4013d-d4e9-4609-9f1e-d81f468280f9",
        "outputId": "33b05eb0-a23a-486d-bafc-c51e369921a1"
      },
      "outputs": [
        {
          "name": "stdout",
          "output_type": "stream",
          "text": [
            "CPU times: user 3 µs, sys: 1e+03 ns, total: 4 µs\n",
            "Wall time: 8.11 µs\n"
          ]
        },
        {
          "data": {
            "text/html": [
              "\n",
              "  <div id=\"df-afcce9dd-f058-4c77-9333-cc792ac1e9f9\">\n",
              "    <div class=\"colab-df-container\">\n",
              "      <div>\n",
              "<style scoped>\n",
              "    .dataframe tbody tr th:only-of-type {\n",
              "        vertical-align: middle;\n",
              "    }\n",
              "\n",
              "    .dataframe tbody tr th {\n",
              "        vertical-align: top;\n",
              "    }\n",
              "\n",
              "    .dataframe thead th {\n",
              "        text-align: right;\n",
              "    }\n",
              "</style>\n",
              "<table border=\"1\" class=\"dataframe\">\n",
              "  <thead>\n",
              "    <tr style=\"text-align: right;\">\n",
              "      <th></th>\n",
              "      <th>chunks</th>\n",
              "      <th>begin</th>\n",
              "      <th>end</th>\n",
              "      <th>code</th>\n",
              "      <th>all_codes</th>\n",
              "      <th>resolutions</th>\n",
              "      <th>all_k_aux_labels</th>\n",
              "      <th>all_distances</th>\n",
              "    </tr>\n",
              "  </thead>\n",
              "  <tbody>\n",
              "    <tr>\n",
              "      <th>0</th>\n",
              "      <td>CADENCE DESIGN SYSTEMS INC</td>\n",
              "      <td>0</td>\n",
              "      <td>25</td>\n",
              "      <td>770148231</td>\n",
              "      <td>[770148231, 943314374, 20493372, 562018819, 0, 541252625, 272957582]</td>\n",
              "      <td>[770148231, 943314374, 20493372, 562018819, 0, 541252625, 272957582]</td>\n",
              "      <td>[]</td>\n",
              "      <td>[0.0000, 0.2023, 0.2060, 0.2161, 0.2220, 0.2273, 0.2289]</td>\n",
              "    </tr>\n",
              "  </tbody>\n",
              "</table>\n",
              "</div>\n",
              "      <button class=\"colab-df-convert\" onclick=\"convertToInteractive('df-afcce9dd-f058-4c77-9333-cc792ac1e9f9')\"\n",
              "              title=\"Convert this dataframe to an interactive table.\"\n",
              "              style=\"display:none;\">\n",
              "        \n",
              "  <svg xmlns=\"http://www.w3.org/2000/svg\" height=\"24px\"viewBox=\"0 0 24 24\"\n",
              "       width=\"24px\">\n",
              "    <path d=\"M0 0h24v24H0V0z\" fill=\"none\"/>\n",
              "    <path d=\"M18.56 5.44l.94 2.06.94-2.06 2.06-.94-2.06-.94-.94-2.06-.94 2.06-2.06.94zm-11 1L8.5 8.5l.94-2.06 2.06-.94-2.06-.94L8.5 2.5l-.94 2.06-2.06.94zm10 10l.94 2.06.94-2.06 2.06-.94-2.06-.94-.94-2.06-.94 2.06-2.06.94z\"/><path d=\"M17.41 7.96l-1.37-1.37c-.4-.4-.92-.59-1.43-.59-.52 0-1.04.2-1.43.59L10.3 9.45l-7.72 7.72c-.78.78-.78 2.05 0 2.83L4 21.41c.39.39.9.59 1.41.59.51 0 1.02-.2 1.41-.59l7.78-7.78 2.81-2.81c.8-.78.8-2.07 0-2.86zM5.41 20L4 18.59l7.72-7.72 1.47 1.35L5.41 20z\"/>\n",
              "  </svg>\n",
              "      </button>\n",
              "      \n",
              "  <style>\n",
              "    .colab-df-container {\n",
              "      display:flex;\n",
              "      flex-wrap:wrap;\n",
              "      gap: 12px;\n",
              "    }\n",
              "\n",
              "    .colab-df-convert {\n",
              "      background-color: #E8F0FE;\n",
              "      border: none;\n",
              "      border-radius: 50%;\n",
              "      cursor: pointer;\n",
              "      display: none;\n",
              "      fill: #1967D2;\n",
              "      height: 32px;\n",
              "      padding: 0 0 0 0;\n",
              "      width: 32px;\n",
              "    }\n",
              "\n",
              "    .colab-df-convert:hover {\n",
              "      background-color: #E2EBFA;\n",
              "      box-shadow: 0px 1px 2px rgba(60, 64, 67, 0.3), 0px 1px 3px 1px rgba(60, 64, 67, 0.15);\n",
              "      fill: #174EA6;\n",
              "    }\n",
              "\n",
              "    [theme=dark] .colab-df-convert {\n",
              "      background-color: #3B4455;\n",
              "      fill: #D2E3FC;\n",
              "    }\n",
              "\n",
              "    [theme=dark] .colab-df-convert:hover {\n",
              "      background-color: #434B5C;\n",
              "      box-shadow: 0px 1px 3px 1px rgba(0, 0, 0, 0.15);\n",
              "      filter: drop-shadow(0px 1px 2px rgba(0, 0, 0, 0.3));\n",
              "      fill: #FFFFFF;\n",
              "    }\n",
              "  </style>\n",
              "\n",
              "      <script>\n",
              "        const buttonEl =\n",
              "          document.querySelector('#df-afcce9dd-f058-4c77-9333-cc792ac1e9f9 button.colab-df-convert');\n",
              "        buttonEl.style.display =\n",
              "          google.colab.kernel.accessAllowed ? 'block' : 'none';\n",
              "\n",
              "        async function convertToInteractive(key) {\n",
              "          const element = document.querySelector('#df-afcce9dd-f058-4c77-9333-cc792ac1e9f9');\n",
              "          const dataTable =\n",
              "            await google.colab.kernel.invokeFunction('convertToInteractive',\n",
              "                                                     [key], {});\n",
              "          if (!dataTable) return;\n",
              "\n",
              "          const docLinkHtml = 'Like what you see? Visit the ' +\n",
              "            '<a target=\"_blank\" href=https://colab.research.google.com/notebooks/data_table.ipynb>data table notebook</a>'\n",
              "            + ' to learn more about interactive tables.';\n",
              "          element.innerHTML = '';\n",
              "          dataTable['output_type'] = 'display_data';\n",
              "          await google.colab.output.renderOutput(dataTable, element);\n",
              "          const docLink = document.createElement('div');\n",
              "          docLink.innerHTML = docLinkHtml;\n",
              "          element.appendChild(docLink);\n",
              "        }\n",
              "      </script>\n",
              "    </div>\n",
              "  </div>\n",
              "  "
            ],
            "text/plain": [
              "                       chunks  begin  end       code  \\\n",
              "0  CADENCE DESIGN SYSTEMS INC  0      25   770148231   \n",
              "\n",
              "                                                              all_codes  \\\n",
              "0  [770148231, 943314374, 20493372, 562018819, 0, 541252625, 272957582]   \n",
              "\n",
              "                                                            resolutions  \\\n",
              "0  [770148231, 943314374, 20493372, 562018819, 0, 541252625, 272957582]   \n",
              "\n",
              "  all_k_aux_labels                                             all_distances  \n",
              "0  []               [0.0000, 0.2023, 0.2060, 0.2161, 0.2220, 0.2273, 0.2289]  "
            ]
          },
          "execution_count": 9,
          "metadata": {},
          "output_type": "execute_result"
        }
      ],
      "source": [
        "%time\n",
        "get_codes (lp, NORM_ORG, vocab='irs_code')"
      ]
    },
    {
      "cell_type": "markdown",
      "id": "421ed313-abb5-4846-b0d6-e834c88e6890",
      "metadata": {
        "id": "421ed313-abb5-4846-b0d6-e834c88e6890"
      },
      "source": [
        "###✅ Find Ticker Symbol using Company Name"
      ]
    },
    {
      "cell_type": "markdown",
      "id": "55ee712b-e276-4a92-b556-47b60fe32769",
      "metadata": {
        "id": "55ee712b-e276-4a92-b556-47b60fe32769"
      },
      "source": [
        "`Ticker Symbol` is the use of letters to represent shares that are traded on the stock market, and it is mainly a combination of two , three or four alphabets that is unique and easy for investors to identify and buy/sell that particular stock with the help of this symbol on the stock exchange. Symbols with four or more letters generally denote securities traded on the American stock exchange and NASDAQ.\n",
        "\n",
        "Here we will find the ticker symbol of `CADENCE DESIGN SYSTEMS INC` on Nasdaq\n"
      ]
    },
    {
      "cell_type": "code",
      "execution_count": null,
      "id": "a3fdc16d-81bd-44ef-b7f3-db0790618ce7",
      "metadata": {
        "colab": {
          "base_uri": "https://localhost:8080/"
        },
        "id": "a3fdc16d-81bd-44ef-b7f3-db0790618ce7",
        "outputId": "a7f4de33-ba8e-4c03-cd12-fc7e1a34df85"
      },
      "outputs": [
        {
          "name": "stdout",
          "output_type": "stream",
          "text": [
            "finel_names2tickers download started this may take some time.\n",
            "[OK!]\n"
          ]
        }
      ],
      "source": [
        "resolver = finance.SentenceEntityResolverModel.pretrained(\"finel_names2tickers\", \"en\", \"finance/models\") \\\n",
        "      .setInputCols([\"sentence_embeddings\"]) \\\n",
        "      .setOutputCol(\"name\")\\\n",
        "      .setDistanceFunction(\"EUCLIDEAN\")\n",
        "\n",
        "pipelineModel = nlp.PipelineModel(\n",
        "      stages = [\n",
        "          document_assembler,\n",
        "          embeddings,\n",
        "          resolver])\n",
        "\n",
        "lp = nlp.LightPipeline(pipelineModel)"
      ]
    },
    {
      "cell_type": "code",
      "execution_count": null,
      "id": "6ebf342a-385f-4709-a174-8dfdc61ff313",
      "metadata": {
        "colab": {
          "base_uri": "https://localhost:8080/",
          "height": 178
        },
        "id": "6ebf342a-385f-4709-a174-8dfdc61ff313",
        "outputId": "657262ab-e3a5-41f3-979e-5b5e0454e203"
      },
      "outputs": [
        {
          "name": "stdout",
          "output_type": "stream",
          "text": [
            "CPU times: user 2 µs, sys: 1e+03 ns, total: 3 µs\n",
            "Wall time: 7.63 µs\n"
          ]
        },
        {
          "data": {
            "text/html": [
              "\n",
              "  <div id=\"df-22f9d8ba-5e1a-4552-94b7-4418bbf74c97\">\n",
              "    <div class=\"colab-df-container\">\n",
              "      <div>\n",
              "<style scoped>\n",
              "    .dataframe tbody tr th:only-of-type {\n",
              "        vertical-align: middle;\n",
              "    }\n",
              "\n",
              "    .dataframe tbody tr th {\n",
              "        vertical-align: top;\n",
              "    }\n",
              "\n",
              "    .dataframe thead th {\n",
              "        text-align: right;\n",
              "    }\n",
              "</style>\n",
              "<table border=\"1\" class=\"dataframe\">\n",
              "  <thead>\n",
              "    <tr style=\"text-align: right;\">\n",
              "      <th></th>\n",
              "      <th>chunks</th>\n",
              "      <th>begin</th>\n",
              "      <th>end</th>\n",
              "      <th>code</th>\n",
              "      <th>all_codes</th>\n",
              "      <th>resolutions</th>\n",
              "      <th>all_k_aux_labels</th>\n",
              "      <th>all_distances</th>\n",
              "    </tr>\n",
              "  </thead>\n",
              "  <tbody>\n",
              "    <tr>\n",
              "      <th>0</th>\n",
              "      <td>CADENCE DESIGN SYSTEMS INC</td>\n",
              "      <td>0</td>\n",
              "      <td>25</td>\n",
              "      <td>CDNS</td>\n",
              "      <td>[CDNS, UAVS, LLL, LQDA, CVLT, AXNX, GVP]</td>\n",
              "      <td>[CDNS, UAVS, LLL, LQDA, CVLT, AXNX, GVP]</td>\n",
              "      <td>[]</td>\n",
              "      <td>[0.0000, 0.2629, 0.2659, 0.2676, 0.2696, 0.2751, 0.2795]</td>\n",
              "    </tr>\n",
              "  </tbody>\n",
              "</table>\n",
              "</div>\n",
              "      <button class=\"colab-df-convert\" onclick=\"convertToInteractive('df-22f9d8ba-5e1a-4552-94b7-4418bbf74c97')\"\n",
              "              title=\"Convert this dataframe to an interactive table.\"\n",
              "              style=\"display:none;\">\n",
              "        \n",
              "  <svg xmlns=\"http://www.w3.org/2000/svg\" height=\"24px\"viewBox=\"0 0 24 24\"\n",
              "       width=\"24px\">\n",
              "    <path d=\"M0 0h24v24H0V0z\" fill=\"none\"/>\n",
              "    <path d=\"M18.56 5.44l.94 2.06.94-2.06 2.06-.94-2.06-.94-.94-2.06-.94 2.06-2.06.94zm-11 1L8.5 8.5l.94-2.06 2.06-.94-2.06-.94L8.5 2.5l-.94 2.06-2.06.94zm10 10l.94 2.06.94-2.06 2.06-.94-2.06-.94-.94-2.06-.94 2.06-2.06.94z\"/><path d=\"M17.41 7.96l-1.37-1.37c-.4-.4-.92-.59-1.43-.59-.52 0-1.04.2-1.43.59L10.3 9.45l-7.72 7.72c-.78.78-.78 2.05 0 2.83L4 21.41c.39.39.9.59 1.41.59.51 0 1.02-.2 1.41-.59l7.78-7.78 2.81-2.81c.8-.78.8-2.07 0-2.86zM5.41 20L4 18.59l7.72-7.72 1.47 1.35L5.41 20z\"/>\n",
              "  </svg>\n",
              "      </button>\n",
              "      \n",
              "  <style>\n",
              "    .colab-df-container {\n",
              "      display:flex;\n",
              "      flex-wrap:wrap;\n",
              "      gap: 12px;\n",
              "    }\n",
              "\n",
              "    .colab-df-convert {\n",
              "      background-color: #E8F0FE;\n",
              "      border: none;\n",
              "      border-radius: 50%;\n",
              "      cursor: pointer;\n",
              "      display: none;\n",
              "      fill: #1967D2;\n",
              "      height: 32px;\n",
              "      padding: 0 0 0 0;\n",
              "      width: 32px;\n",
              "    }\n",
              "\n",
              "    .colab-df-convert:hover {\n",
              "      background-color: #E2EBFA;\n",
              "      box-shadow: 0px 1px 2px rgba(60, 64, 67, 0.3), 0px 1px 3px 1px rgba(60, 64, 67, 0.15);\n",
              "      fill: #174EA6;\n",
              "    }\n",
              "\n",
              "    [theme=dark] .colab-df-convert {\n",
              "      background-color: #3B4455;\n",
              "      fill: #D2E3FC;\n",
              "    }\n",
              "\n",
              "    [theme=dark] .colab-df-convert:hover {\n",
              "      background-color: #434B5C;\n",
              "      box-shadow: 0px 1px 3px 1px rgba(0, 0, 0, 0.15);\n",
              "      filter: drop-shadow(0px 1px 2px rgba(0, 0, 0, 0.3));\n",
              "      fill: #FFFFFF;\n",
              "    }\n",
              "  </style>\n",
              "\n",
              "      <script>\n",
              "        const buttonEl =\n",
              "          document.querySelector('#df-22f9d8ba-5e1a-4552-94b7-4418bbf74c97 button.colab-df-convert');\n",
              "        buttonEl.style.display =\n",
              "          google.colab.kernel.accessAllowed ? 'block' : 'none';\n",
              "\n",
              "        async function convertToInteractive(key) {\n",
              "          const element = document.querySelector('#df-22f9d8ba-5e1a-4552-94b7-4418bbf74c97');\n",
              "          const dataTable =\n",
              "            await google.colab.kernel.invokeFunction('convertToInteractive',\n",
              "                                                     [key], {});\n",
              "          if (!dataTable) return;\n",
              "\n",
              "          const docLinkHtml = 'Like what you see? Visit the ' +\n",
              "            '<a target=\"_blank\" href=https://colab.research.google.com/notebooks/data_table.ipynb>data table notebook</a>'\n",
              "            + ' to learn more about interactive tables.';\n",
              "          element.innerHTML = '';\n",
              "          dataTable['output_type'] = 'display_data';\n",
              "          await google.colab.output.renderOutput(dataTable, element);\n",
              "          const docLink = document.createElement('div');\n",
              "          docLink.innerHTML = docLinkHtml;\n",
              "          element.appendChild(docLink);\n",
              "        }\n",
              "      </script>\n",
              "    </div>\n",
              "  </div>\n",
              "  "
            ],
            "text/plain": [
              "                       chunks  begin  end  code  \\\n",
              "0  CADENCE DESIGN SYSTEMS INC  0      25   CDNS   \n",
              "\n",
              "                                  all_codes  \\\n",
              "0  [CDNS, UAVS, LLL, LQDA, CVLT, AXNX, GVP]   \n",
              "\n",
              "                                resolutions all_k_aux_labels  \\\n",
              "0  [CDNS, UAVS, LLL, LQDA, CVLT, AXNX, GVP]  []                \n",
              "\n",
              "                                              all_distances  \n",
              "0  [0.0000, 0.2629, 0.2659, 0.2676, 0.2696, 0.2751, 0.2795]  "
            ]
          },
          "execution_count": 11,
          "metadata": {},
          "output_type": "execute_result"
        }
      ],
      "source": [
        "%time \n",
        "get_codes (lp, NORM_ORG, vocab='name')"
      ]
    },
    {
      "cell_type": "markdown",
      "id": "R3E_wGGK19sg",
      "metadata": {
        "id": "R3E_wGGK19sg"
      },
      "source": [
        "###✅ Find Company Name using Ticker Symbol\n",
        "\n",
        "We can also find the company name using the ticker name. For this, we will use NER model result (it is in `7.Entity_Resolution` notebook) and get ticker name from there. After that we can find company name with `finel_tickers2names` model"
      ]
    },
    {
      "cell_type": "code",
      "execution_count": null,
      "id": "B9LOObUn0mrs",
      "metadata": {
        "colab": {
          "base_uri": "https://localhost:8080/",
          "height": 35
        },
        "id": "B9LOObUn0mrs",
        "outputId": "5e359577-b5be-4a0c-fc6e-e9aa684c1940"
      },
      "outputs": [
        {
          "data": {
            "application/vnd.google.colaboratory.intrinsic+json": {
              "type": "string"
            },
            "text/plain": [
              "'CDNS'"
            ]
          },
          "execution_count": 12,
          "metadata": {},
          "output_type": "execute_result"
        }
      ],
      "source": [
        "TICKER = 'CDNS'\n",
        "TICKER"
      ]
    },
    {
      "cell_type": "code",
      "execution_count": null,
      "id": "0VxXtHAi1ADl",
      "metadata": {
        "colab": {
          "base_uri": "https://localhost:8080/"
        },
        "id": "0VxXtHAi1ADl",
        "outputId": "3510fc15-8ff8-4215-9d02-16f172889e45"
      },
      "outputs": [
        {
          "name": "stdout",
          "output_type": "stream",
          "text": [
            "finel_tickers2names download started this may take some time.\n",
            "[OK!]\n"
          ]
        }
      ],
      "source": [
        "resolver = finance.SentenceEntityResolverModel.pretrained(\"finel_tickers2names\", \"en\", \"finance/models\") \\\n",
        "      .setInputCols([\"sentence_embeddings\"]) \\\n",
        "      .setOutputCol(\"name\")\\\n",
        "      .setDistanceFunction(\"EUCLIDEAN\")\n",
        "\n",
        "pipeline = nlp.Pipeline(stages = [\n",
        "          document_assembler,\n",
        "          embeddings,\n",
        "          resolver])\n",
        "\n",
        "empty_data = spark.createDataFrame([[\"\"]]).toDF(\"text\")\n",
        "\n",
        "model = pipeline.fit(empty_data)\n",
        "\n",
        "lp = nlp.LightPipeline(model)"
      ]
    },
    {
      "cell_type": "code",
      "execution_count": null,
      "id": "7yJTGT3N1jch",
      "metadata": {
        "colab": {
          "base_uri": "https://localhost:8080/",
          "height": 213
        },
        "id": "7yJTGT3N1jch",
        "outputId": "484ddd02-8913-4d59-83e3-facac6f0561d"
      },
      "outputs": [
        {
          "name": "stdout",
          "output_type": "stream",
          "text": [
            "CPU times: user 3 µs, sys: 1 µs, total: 4 µs\n",
            "Wall time: 7.63 µs\n"
          ]
        },
        {
          "data": {
            "text/html": [
              "\n",
              "  <div id=\"df-625b67eb-4a85-442f-9ca8-315ff3a7ccd3\">\n",
              "    <div class=\"colab-df-container\">\n",
              "      <div>\n",
              "<style scoped>\n",
              "    .dataframe tbody tr th:only-of-type {\n",
              "        vertical-align: middle;\n",
              "    }\n",
              "\n",
              "    .dataframe tbody tr th {\n",
              "        vertical-align: top;\n",
              "    }\n",
              "\n",
              "    .dataframe thead th {\n",
              "        text-align: right;\n",
              "    }\n",
              "</style>\n",
              "<table border=\"1\" class=\"dataframe\">\n",
              "  <thead>\n",
              "    <tr style=\"text-align: right;\">\n",
              "      <th></th>\n",
              "      <th>chunks</th>\n",
              "      <th>begin</th>\n",
              "      <th>end</th>\n",
              "      <th>code</th>\n",
              "      <th>all_codes</th>\n",
              "      <th>resolutions</th>\n",
              "      <th>all_k_aux_labels</th>\n",
              "      <th>all_distances</th>\n",
              "    </tr>\n",
              "  </thead>\n",
              "  <tbody>\n",
              "    <tr>\n",
              "      <th>0</th>\n",
              "      <td>CDNS</td>\n",
              "      <td>0</td>\n",
              "      <td>3</td>\n",
              "      <td>Cadence Design Systems Inc.</td>\n",
              "      <td>[Cadence Design Systems Inc., Madison Covered Call &amp; Equity Strategy Fund, INVESCO MORTGAGE CAPITAL INC, SiteOne Landscape Supply Inc., Ituran Location and Control Ltd.]</td>\n",
              "      <td>[CADENCE DESIGN SYSTEMS INC., Madison Covered Call &amp; Equity Strategy Fund, Invesco Mortgage Capital Inc, SiteOne Landscape Supply INC., ITURAN LOCATION AND CONTROL LTD.]</td>\n",
              "      <td>[]</td>\n",
              "      <td>[0.0000, 0.2412, 0.2625, 0.2760, 0.3043]</td>\n",
              "    </tr>\n",
              "  </tbody>\n",
              "</table>\n",
              "</div>\n",
              "      <button class=\"colab-df-convert\" onclick=\"convertToInteractive('df-625b67eb-4a85-442f-9ca8-315ff3a7ccd3')\"\n",
              "              title=\"Convert this dataframe to an interactive table.\"\n",
              "              style=\"display:none;\">\n",
              "        \n",
              "  <svg xmlns=\"http://www.w3.org/2000/svg\" height=\"24px\"viewBox=\"0 0 24 24\"\n",
              "       width=\"24px\">\n",
              "    <path d=\"M0 0h24v24H0V0z\" fill=\"none\"/>\n",
              "    <path d=\"M18.56 5.44l.94 2.06.94-2.06 2.06-.94-2.06-.94-.94-2.06-.94 2.06-2.06.94zm-11 1L8.5 8.5l.94-2.06 2.06-.94-2.06-.94L8.5 2.5l-.94 2.06-2.06.94zm10 10l.94 2.06.94-2.06 2.06-.94-2.06-.94-.94-2.06-.94 2.06-2.06.94z\"/><path d=\"M17.41 7.96l-1.37-1.37c-.4-.4-.92-.59-1.43-.59-.52 0-1.04.2-1.43.59L10.3 9.45l-7.72 7.72c-.78.78-.78 2.05 0 2.83L4 21.41c.39.39.9.59 1.41.59.51 0 1.02-.2 1.41-.59l7.78-7.78 2.81-2.81c.8-.78.8-2.07 0-2.86zM5.41 20L4 18.59l7.72-7.72 1.47 1.35L5.41 20z\"/>\n",
              "  </svg>\n",
              "      </button>\n",
              "      \n",
              "  <style>\n",
              "    .colab-df-container {\n",
              "      display:flex;\n",
              "      flex-wrap:wrap;\n",
              "      gap: 12px;\n",
              "    }\n",
              "\n",
              "    .colab-df-convert {\n",
              "      background-color: #E8F0FE;\n",
              "      border: none;\n",
              "      border-radius: 50%;\n",
              "      cursor: pointer;\n",
              "      display: none;\n",
              "      fill: #1967D2;\n",
              "      height: 32px;\n",
              "      padding: 0 0 0 0;\n",
              "      width: 32px;\n",
              "    }\n",
              "\n",
              "    .colab-df-convert:hover {\n",
              "      background-color: #E2EBFA;\n",
              "      box-shadow: 0px 1px 2px rgba(60, 64, 67, 0.3), 0px 1px 3px 1px rgba(60, 64, 67, 0.15);\n",
              "      fill: #174EA6;\n",
              "    }\n",
              "\n",
              "    [theme=dark] .colab-df-convert {\n",
              "      background-color: #3B4455;\n",
              "      fill: #D2E3FC;\n",
              "    }\n",
              "\n",
              "    [theme=dark] .colab-df-convert:hover {\n",
              "      background-color: #434B5C;\n",
              "      box-shadow: 0px 1px 3px 1px rgba(0, 0, 0, 0.15);\n",
              "      filter: drop-shadow(0px 1px 2px rgba(0, 0, 0, 0.3));\n",
              "      fill: #FFFFFF;\n",
              "    }\n",
              "  </style>\n",
              "\n",
              "      <script>\n",
              "        const buttonEl =\n",
              "          document.querySelector('#df-625b67eb-4a85-442f-9ca8-315ff3a7ccd3 button.colab-df-convert');\n",
              "        buttonEl.style.display =\n",
              "          google.colab.kernel.accessAllowed ? 'block' : 'none';\n",
              "\n",
              "        async function convertToInteractive(key) {\n",
              "          const element = document.querySelector('#df-625b67eb-4a85-442f-9ca8-315ff3a7ccd3');\n",
              "          const dataTable =\n",
              "            await google.colab.kernel.invokeFunction('convertToInteractive',\n",
              "                                                     [key], {});\n",
              "          if (!dataTable) return;\n",
              "\n",
              "          const docLinkHtml = 'Like what you see? Visit the ' +\n",
              "            '<a target=\"_blank\" href=https://colab.research.google.com/notebooks/data_table.ipynb>data table notebook</a>'\n",
              "            + ' to learn more about interactive tables.';\n",
              "          element.innerHTML = '';\n",
              "          dataTable['output_type'] = 'display_data';\n",
              "          await google.colab.output.renderOutput(dataTable, element);\n",
              "          const docLink = document.createElement('div');\n",
              "          docLink.innerHTML = docLinkHtml;\n",
              "          element.appendChild(docLink);\n",
              "        }\n",
              "      </script>\n",
              "    </div>\n",
              "  </div>\n",
              "  "
            ],
            "text/plain": [
              "  chunks  begin  end                         code  \\\n",
              "0  CDNS   0      3    Cadence Design Systems Inc.   \n",
              "\n",
              "                                                                                                                                                                   all_codes  \\\n",
              "0  [Cadence Design Systems Inc., Madison Covered Call & Equity Strategy Fund, INVESCO MORTGAGE CAPITAL INC, SiteOne Landscape Supply Inc., Ituran Location and Control Ltd.]   \n",
              "\n",
              "                                                                                                                                                                 resolutions  \\\n",
              "0  [CADENCE DESIGN SYSTEMS INC., Madison Covered Call & Equity Strategy Fund, Invesco Mortgage Capital Inc, SiteOne Landscape Supply INC., ITURAN LOCATION AND CONTROL LTD.]   \n",
              "\n",
              "  all_k_aux_labels                             all_distances  \n",
              "0  []               [0.0000, 0.2412, 0.2625, 0.2760, 0.3043]  "
            ]
          },
          "execution_count": 14,
          "metadata": {},
          "output_type": "execute_result"
        }
      ],
      "source": [
        "%time\n",
        "get_codes (lp, TICKER, vocab='name')"
      ]
    }
  ],
  "metadata": {
    "colab": {
      "provenance": [],
      "toc_visible": true
    },
    "gpuClass": "standard",
    "kernelspec": {
      "display_name": "tf-gpu",
      "language": "python",
      "name": "python3"
    },
    "language_info": {
      "codemirror_mode": {
        "name": "ipython",
        "version": 3
      },
      "file_extension": ".py",
      "mimetype": "text/x-python",
      "name": "python",
      "nbconvert_exporter": "python",
      "pygments_lexer": "ipython3",
      "version": "3.9.7 (default, Sep 16 2021, 16:59:28) [MSC v.1916 64 bit (AMD64)]"
    },
    "vscode": {
      "interpreter": {
        "hash": "3f47d918ae832c68584484921185f5c85a1760864bf927a683dc6fb56366cc77"
      }
    }
  },
  "nbformat": 4,
  "nbformat_minor": 5
}
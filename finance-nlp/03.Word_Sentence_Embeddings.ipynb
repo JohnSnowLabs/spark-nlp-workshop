{
  "cells": [
    {
      "cell_type": "markdown",
      "id": "e9KViDTWeMEE",
      "metadata": {
        "id": "e9KViDTWeMEE"
      },
      "source": [
        "![JohnSnowLabs](https://nlp.johnsnowlabs.com/assets/images/logo.png)"
      ]
    },
    {
      "cell_type": "markdown",
      "id": "kcSuGqjTeOAy",
      "metadata": {
        "id": "kcSuGqjTeOAy"
      },
      "source": [
        "[![Open In Colab](https://colab.research.google.com/assets/colab-badge.svg)](https://colab.research.google.com/github/JohnSnowLabs/spark-nlp-workshop/blob/master/finance-nlp/03.Word_Sentence_Embeddings.ipynb)"
      ]
    },
    {
      "cell_type": "markdown",
      "id": "e35e5153",
      "metadata": {
        "id": "e35e5153"
      },
      "source": [
        "# Financial Word and Sentence Embeddings"
      ]
    },
    {
      "cell_type": "markdown",
      "id": "69a14890-bc41-4765-9557-89a969c04d8f",
      "metadata": {
        "id": "69a14890-bc41-4765-9557-89a969c04d8f"
      },
      "source": [
        "# Finance Word and Sentence Embeddings visualization using PCA (Principal Component Analysis)"
      ]
    },
    {
      "cell_type": "markdown",
      "id": "5f982ae9-0570-4f90-bd30-c9d55d219e5b",
      "metadata": {
        "id": "5f982ae9-0570-4f90-bd30-c9d55d219e5b"
      },
      "source": [
        "Modern NLP models work with a numerical representation of texts and their menaning. For token classification problems (inferring a class for a token, for example Name Entity Recognition) Word Embeddings are required. For sentences, paragraph, document classification - we use Sentence Embeddings.\n",
        "\n",
        "In this notebook, we got token embeddings using Spark NLP Finance Word Embeddings(**bert_embeddings_sec_bert_base**) and using these token embeddings we got sentence embeddings by sparknlp annotator SentenceEmbeddings to get those numerical representations of the semantics of the texts. The result is a 768 embeddings matrix, impossible to process by the human eye.\n",
        "\n",
        "There are many techniques we can use to visualize those embeddings. We are using one of them - Principal Component Analysis, a dimensionality reduction process, carried out by Spark MLLib. Both embeddings have 768 dimensions, so we will reduced this dimensions from **768** to **3** (X, Y, Z) and will use a color for the word / sentence legend."
      ]
    },
    {
      "cell_type": "markdown",
      "id": "d07e14ba-b319-4d4a-b38d-5ed93debc5e6",
      "metadata": {
        "id": "d07e14ba-b319-4d4a-b38d-5ed93debc5e6"
      },
      "source": [
        "# Installation"
      ]
    },
    {
      "cell_type": "code",
      "execution_count": null,
      "id": "nRcDPOsDqhkN",
      "metadata": {
        "id": "nRcDPOsDqhkN"
      },
      "outputs": [],
      "source": [
        "! pip install johnsnowlabs"
      ]
    },
    {
      "cell_type": "markdown",
      "id": "YPsbAnNoPt0Z",
      "metadata": {
        "id": "YPsbAnNoPt0Z"
      },
      "source": [
        "## Automatic Installation\n",
        "Using my.johnsnowlabs.com SSO"
      ]
    },
    {
      "cell_type": "code",
      "execution_count": null,
      "id": "_L-7mLYp3pqr",
      "metadata": {
        "id": "_L-7mLYp3pqr",
        "pycharm": {
          "is_executing": true
        }
      },
      "outputs": [],
      "source": [
        "from johnsnowlabs import nlp, finance\n",
        "\n",
        "# nlp.install(force_browser=True)"
      ]
    },
    {
      "cell_type": "markdown",
      "id": "hsJvn_WWM2GL",
      "metadata": {
        "id": "hsJvn_WWM2GL"
      },
      "source": [
        "## Manual downloading\n",
        "If you are not registered in my.johnsnowlabs.com, you received a license via e-email or you are using Safari, you may need to do a manual update of the license.\n",
        "\n",
        "- Go to my.johnsnowlabs.com\n",
        "- Download your license\n",
        "- Upload it using the following command"
      ]
    },
    {
      "cell_type": "code",
      "execution_count": null,
      "id": "i57QV3-_P2sQ",
      "metadata": {
        "id": "i57QV3-_P2sQ"
      },
      "outputs": [],
      "source": [
        "from google.colab import files\n",
        "print('Please Upload your John Snow Labs License using the button below')\n",
        "license_keys = files.upload()"
      ]
    },
    {
      "cell_type": "markdown",
      "id": "xGgNdFzZP_hQ",
      "metadata": {
        "id": "xGgNdFzZP_hQ"
      },
      "source": [
        "- Install it"
      ]
    },
    {
      "cell_type": "code",
      "execution_count": null,
      "id": "OfmmPqknP4rR",
      "metadata": {
        "id": "OfmmPqknP4rR"
      },
      "outputs": [],
      "source": [
        "nlp.install()"
      ]
    },
    {
      "cell_type": "markdown",
      "id": "DCl5ErZkNNLk",
      "metadata": {
        "id": "DCl5ErZkNNLk"
      },
      "source": [
        "# Starting"
      ]
    },
    {
      "cell_type": "code",
      "execution_count": null,
      "id": "x3jVICoa3pqr",
      "metadata": {
        "id": "x3jVICoa3pqr"
      },
      "outputs": [],
      "source": [
        "spark = nlp.start()"
      ]
    },
    {
      "cell_type": "markdown",
      "id": "4b7c011d-eac8-4eda-b272-027bab6a8895",
      "metadata": {
        "id": "4b7c011d-eac8-4eda-b272-027bab6a8895"
      },
      "source": [
        "# Get sample text"
      ]
    },
    {
      "cell_type": "code",
      "execution_count": null,
      "id": "XvEU36EbfUZH",
      "metadata": {
        "id": "XvEU36EbfUZH"
      },
      "outputs": [],
      "source": [
        "! pip install -q plotly\n",
        "\n",
        "# Downloading sample datasets.\n",
        "! wget -q https://raw.githubusercontent.com/JohnSnowLabs/spark-nlp-workshop/master/finance-nlp/data/finance_pca_samples.csv"
      ]
    },
    {
      "cell_type": "code",
      "execution_count": null,
      "id": "5f411a9b-9744-4f77-bdb9-58702260b5b0",
      "metadata": {
        "id": "5f411a9b-9744-4f77-bdb9-58702260b5b0"
      },
      "outputs": [],
      "source": [
        "import pandas as pd\n",
        "\n",
        "df = pd.read_csv(\"finance_pca_samples.csv\")"
      ]
    },
    {
      "cell_type": "code",
      "execution_count": null,
      "id": "3977898f-24e8-43d6-a338-80f3bf8ad2a1",
      "metadata": {
        "colab": {
          "base_uri": "https://localhost:8080/"
        },
        "id": "3977898f-24e8-43d6-a338-80f3bf8ad2a1",
        "outputId": "5f8679a4-78ab-4afa-da11-06290fd7abcb",
        "tags": []
      },
      "outputs": [
        {
          "name": "stdout",
          "output_type": "stream",
          "text": [
            "+--------------------+----------------+\n",
            "|                text|           label|\n",
            "+--------------------+----------------+\n",
            "|I called Huntingt...|        Accounts|\n",
            "|I opened an citi ...|        Accounts|\n",
            "|I have been a lon...|    Credit Cards|\n",
            "|My credit limit w...|    Credit Cards|\n",
            "|I am filing this ...|Credit Reporting|\n",
            "|The Credit Bureau...|Credit Reporting|\n",
            "|I noticed an arti...| Debt Collection|\n",
            "|A bank account wa...| Debt Collection|\n",
            "|I was contacted v...|           Loans|\n",
            "|My husband recent...|           Loans|\n",
            "|I wire transfered...| Money Transfers|\n",
            "|PayPal holds fund...| Money Transfers|\n",
            "|We have requested...|        Mortgage|\n",
            "|I filled out a co...|        Mortgage|\n",
            "+--------------------+----------------+\n",
            "\n"
          ]
        }
      ],
      "source": [
        "# Create spark dataframe\n",
        "sdf = spark.createDataFrame(df)\n",
        "sdf.show()"
      ]
    },
    {
      "cell_type": "markdown",
      "id": "5de27fdb-3fc1-4d58-8505-4f02238635b8",
      "metadata": {
        "id": "5de27fdb-3fc1-4d58-8505-4f02238635b8"
      },
      "source": [
        "# Pipeline with Spark NLP and Spark MLLIB"
      ]
    },
    {
      "cell_type": "code",
      "execution_count": null,
      "id": "YwQjfHcM_a4q",
      "metadata": {
        "id": "YwQjfHcM_a4q"
      },
      "outputs": [],
      "source": [
        "# We defined a generic pipeline for word and sentence embeddings\n",
        "\n",
        "def generic_pipeline():\n",
        "  document_assembler = nlp.DocumentAssembler()\\\n",
        "      .setInputCol(\"text\")\\\n",
        "      .setOutputCol(\"document\")\n",
        "\n",
        "  tokenizer = nlp.Tokenizer()\\\n",
        "      .setInputCols(\"document\")\\\n",
        "      .setOutputCol(\"token\")\n",
        "\n",
        "  word_embeddings = nlp.BertEmbeddings.pretrained(\"bert_embeddings_sec_bert_base\",\"en\")\\\n",
        "      .setInputCols([\"document\", \"token\"])\\\n",
        "      .setOutputCol(\"word_embeddings\")\n",
        "\n",
        "  pipeline = nlp.Pipeline(stages = [\n",
        "      document_assembler,\n",
        "      tokenizer,\n",
        "      word_embeddings\n",
        "  ])\n",
        "\n",
        "  return pipeline\n",
        "\n"
      ]
    },
    {
      "cell_type": "markdown",
      "id": "d751fd45-9810-4b43-b893-0d373e8d4870",
      "metadata": {
        "id": "d751fd45-9810-4b43-b893-0d373e8d4870"
      },
      "source": [
        "## Sentence Embeddings"
      ]
    },
    {
      "cell_type": "code",
      "execution_count": null,
      "id": "b990cfd8-576f-4057-a548-0434d39897bd",
      "metadata": {
        "id": "b990cfd8-576f-4057-a548-0434d39897bd",
        "tags": []
      },
      "outputs": [],
      "source": [
        "embeddings_sentence = nlp.SentenceEmbeddings()\\\n",
        "    .setInputCols([\"document\", \"word_embeddings\"])\\\n",
        "    .setOutputCol(\"sentence_embeddings\")\\\n",
        "    .setPoolingStrategy(\"AVERAGE\")\n",
        "# We used sparknlp SentenceEmbeddings anootator to get each sentence embeddings from token embeddings"
      ]
    },
    {
      "cell_type": "markdown",
      "id": "fde3b08f-6187-43fd-8d7b-3fe6da054c18",
      "metadata": {
        "id": "fde3b08f-6187-43fd-8d7b-3fe6da054c18"
      },
      "source": [
        "# Custom transform to retrieve the numerical embeddings from Spark NLP and pass it to Spark MLLib"
      ]
    },
    {
      "cell_type": "code",
      "execution_count": null,
      "id": "Qe4s0BQxkMPU",
      "metadata": {
        "id": "Qe4s0BQxkMPU"
      },
      "outputs": [],
      "source": [
        "from pyspark.sql import DataFrame\n",
        "import pyspark.sql.functions as F\n",
        "import pyspark.sql.types as T\n",
        "import pyspark.sql as SQL\n",
        "from pyspark import keyword_only"
      ]
    },
    {
      "cell_type": "code",
      "execution_count": null,
      "id": "30cfff3f-487b-4808-8b32-f54fc443777b",
      "metadata": {
        "id": "30cfff3f-487b-4808-8b32-f54fc443777b"
      },
      "outputs": [],
      "source": [
        "# This class extracts the embeddings from the Spark NLP Annotation object\n",
        "# from pyspark import ml as ML\n",
        "class EmbeddingsUDF(\n",
        "    nlp.Transformer, nlp.ML.param.shared.HasInputCol, nlp.ML.param.shared.HasOutputCol,\n",
        "    nlp.ML.util.DefaultParamsReadable, nlp.ML.util.DefaultParamsWritable\n",
        "):\n",
        "    @keyword_only\n",
        "    def __init__(self):\n",
        "        super(EmbeddingsUDF, self).__init__()\n",
        "\n",
        "        def _sum(r):\n",
        "            result = 0.0\n",
        "            for e in r:\n",
        "                result += e\n",
        "            return result\n",
        "\n",
        "        self.udfs = {\n",
        "            'convertToVectorUDF': F.udf(lambda vs: nlp.ML.linalg.Vectors.dense(vs), nlp.ML.linalg.VectorUDT()),\n",
        "            'sumUDF': F.udf(lambda r: _sum(r), T.FloatType())\n",
        "        }\n",
        "\n",
        "    def _transform(self, dataset):\n",
        "\n",
        "        results = dataset.select(\n",
        "            \"*\", F.explode(\"sentence_embeddings.embeddings\").alias(\"embeddings\")\n",
        "        )\n",
        "        results = results.withColumn(\n",
        "            \"features\",\n",
        "            self.udfs['convertToVectorUDF'](F.col(\"embeddings\"))\n",
        "        )\n",
        "        results = results.withColumn(\n",
        "            \"emb_sum\",\n",
        "            self.udfs['sumUDF'](F.col(\"embeddings\"))\n",
        "        )\n",
        "        # Remove those with embeddings all zeroes (so we can calculate cosine distance)\n",
        "        results = results.where(F.col(\"emb_sum\")!=0.0)\n",
        "\n",
        "        return results"
      ]
    },
    {
      "cell_type": "code",
      "execution_count": null,
      "id": "5f82e139-1cc3-423d-9d53-c0ccfec835c2",
      "metadata": {
        "id": "5f82e139-1cc3-423d-9d53-c0ccfec835c2"
      },
      "outputs": [],
      "source": [
        "embeddings_for_pca = EmbeddingsUDF()"
      ]
    },
    {
      "cell_type": "code",
      "execution_count": null,
      "id": "5213dfcf-61bc-4db2-a8c7-797a318a13f4",
      "metadata": {
        "id": "5213dfcf-61bc-4db2-a8c7-797a318a13f4"
      },
      "outputs": [],
      "source": [
        "DIMENSIONS  = 3"
      ]
    },
    {
      "cell_type": "code",
      "execution_count": null,
      "id": "285ba04a-dbe2-4f53-9aa0-fc66ba783e14",
      "metadata": {
        "id": "285ba04a-dbe2-4f53-9aa0-fc66ba783e14"
      },
      "outputs": [],
      "source": [
        "pca = nlp.ML.feature.PCA(k=DIMENSIONS, inputCol=\"features\", outputCol=\"pca_features\")"
      ]
    },
    {
      "cell_type": "markdown",
      "id": "82f95669-0f8e-491b-b6d8-33f590aa06cf",
      "metadata": {
        "id": "82f95669-0f8e-491b-b6d8-33f590aa06cf"
      },
      "source": [
        "### Full Spark NLP + Spark MLLib pipeline"
      ]
    },
    {
      "cell_type": "code",
      "execution_count": null,
      "id": "c279de78-563f-474c-8d3e-3c72243bb04b",
      "metadata": {
        "colab": {
          "base_uri": "https://localhost:8080/"
        },
        "id": "c279de78-563f-474c-8d3e-3c72243bb04b",
        "outputId": "d66eddb3-ba45-42c3-9ade-0f2047c5884c"
      },
      "outputs": [
        {
          "name": "stdout",
          "output_type": "stream",
          "text": [
            "bert_embeddings_sec_bert_base download started this may take some time.\n",
            "Approximate size to download 390.4 MB\n",
            "[OK!]\n"
          ]
        }
      ],
      "source": [
        "# We did all process in one pipeline\n",
        "pipeline = nlp.Pipeline().setStages([generic_pipeline(), embeddings_sentence, embeddings_for_pca, pca])"
      ]
    },
    {
      "cell_type": "code",
      "execution_count": null,
      "id": "0d46c615-d2b6-408a-99c3-bac0f824dcf4",
      "metadata": {
        "id": "0d46c615-d2b6-408a-99c3-bac0f824dcf4"
      },
      "outputs": [],
      "source": [
        "model = pipeline.fit(sdf)"
      ]
    },
    {
      "cell_type": "code",
      "execution_count": null,
      "id": "4d52ebe0-4257-4354-817f-5b8f2a363b8e",
      "metadata": {
        "id": "4d52ebe0-4257-4354-817f-5b8f2a363b8e"
      },
      "outputs": [],
      "source": [
        "result = model.transform(sdf)"
      ]
    },
    {
      "cell_type": "code",
      "execution_count": null,
      "id": "7b852cad-e1e7-48bc-94b0-9da7188a9727",
      "metadata": {
        "colab": {
          "base_uri": "https://localhost:8080/"
        },
        "id": "7b852cad-e1e7-48bc-94b0-9da7188a9727",
        "outputId": "4c71cda6-2527-4a36-e6e3-676905a8dc7c"
      },
      "outputs": [
        {
          "name": "stdout",
          "output_type": "stream",
          "text": [
            "+--------------------------------------------------------------+----------------+\n",
            "|pca_features                                                  |label           |\n",
            "+--------------------------------------------------------------+----------------+\n",
            "|[3.39576448119276,-1.060361129782475,-1.568794006399417]      |Accounts        |\n",
            "|[2.3660850756971623,0.8591941003552866,-0.8066168807669747]   |Accounts        |\n",
            "|[0.6867735108170906,1.4823947144210112,0.006591220237646302]  |Credit Cards    |\n",
            "|[-0.28834125177427167,1.0031549697755784,-0.7963810505318434] |Credit Cards    |\n",
            "|[-0.5037809008469382,-1.3771583372345915,0.4449701036930799]  |Credit Reporting|\n",
            "|[1.039756950301059,-1.7194174825036457,1.8539366217014026]    |Credit Reporting|\n",
            "|[2.7731701148109815,1.1680247656394984,1.3949448202984454]    |Debt Collection |\n",
            "|[-0.45951034017887454,0.833969250052939,0.5051728405912744]   |Debt Collection |\n",
            "|[0.2703079726928541,1.1069420631113542,-0.4247559623637921]   |Loans           |\n",
            "|[0.8662523064864315,1.1435249671794807,0.8703562689970329]    |Loans           |\n",
            "|[-0.7580966795506656,0.6312432474265479,0.6829074622939197]   |Money Transfers |\n",
            "|[0.38557719496563764,-1.4420990245260328,-0.19825482305628117]|Money Transfers |\n",
            "|[2.45690397730987,0.33025601313067965,1.2981705024775965]     |Mortgage        |\n",
            "|[2.3553279838082126,0.8329467950039564,1.390405767602749]     |Mortgage        |\n",
            "+--------------------------------------------------------------+----------------+\n",
            "\n"
          ]
        }
      ],
      "source": [
        "result.select('pca_features', 'label').show(truncate=False)"
      ]
    },
    {
      "cell_type": "code",
      "execution_count": null,
      "id": "adbf7811-b04c-4f63-88e4-10e51341ce0f",
      "metadata": {
        "colab": {
          "base_uri": "https://localhost:8080/",
          "height": 488
        },
        "id": "adbf7811-b04c-4f63-88e4-10e51341ce0f",
        "outputId": "757e141e-3b40-4033-c351-c30597e762ad"
      },
      "outputs": [
        {
          "data": {
            "text/html": [
              "\n",
              "  <div id=\"df-62ab510f-3264-4bff-8b08-4c50aee52e72\">\n",
              "    <div class=\"colab-df-container\">\n",
              "      <div>\n",
              "<style scoped>\n",
              "    .dataframe tbody tr th:only-of-type {\n",
              "        vertical-align: middle;\n",
              "    }\n",
              "\n",
              "    .dataframe tbody tr th {\n",
              "        vertical-align: top;\n",
              "    }\n",
              "\n",
              "    .dataframe thead th {\n",
              "        text-align: right;\n",
              "    }\n",
              "</style>\n",
              "<table border=\"1\" class=\"dataframe\">\n",
              "  <thead>\n",
              "    <tr style=\"text-align: right;\">\n",
              "      <th></th>\n",
              "      <th>pca_features</th>\n",
              "      <th>label</th>\n",
              "    </tr>\n",
              "  </thead>\n",
              "  <tbody>\n",
              "    <tr>\n",
              "      <th>0</th>\n",
              "      <td>[3.39576448119276, -1.060361129782475, -1.5687...</td>\n",
              "      <td>Accounts</td>\n",
              "    </tr>\n",
              "    <tr>\n",
              "      <th>1</th>\n",
              "      <td>[2.3660850756971623, 0.8591941003552866, -0.80...</td>\n",
              "      <td>Accounts</td>\n",
              "    </tr>\n",
              "    <tr>\n",
              "      <th>2</th>\n",
              "      <td>[0.6867735108170906, 1.4823947144210112, 0.006...</td>\n",
              "      <td>Credit Cards</td>\n",
              "    </tr>\n",
              "    <tr>\n",
              "      <th>3</th>\n",
              "      <td>[-0.28834125177427167, 1.0031549697755784, -0....</td>\n",
              "      <td>Credit Cards</td>\n",
              "    </tr>\n",
              "    <tr>\n",
              "      <th>4</th>\n",
              "      <td>[-0.5037809008469382, -1.3771583372345915, 0.4...</td>\n",
              "      <td>Credit Reporting</td>\n",
              "    </tr>\n",
              "    <tr>\n",
              "      <th>5</th>\n",
              "      <td>[1.039756950301059, -1.7194174825036457, 1.853...</td>\n",
              "      <td>Credit Reporting</td>\n",
              "    </tr>\n",
              "    <tr>\n",
              "      <th>6</th>\n",
              "      <td>[2.7731701148109815, 1.1680247656394984, 1.394...</td>\n",
              "      <td>Debt Collection</td>\n",
              "    </tr>\n",
              "    <tr>\n",
              "      <th>7</th>\n",
              "      <td>[-0.45951034017887454, 0.833969250052939, 0.50...</td>\n",
              "      <td>Debt Collection</td>\n",
              "    </tr>\n",
              "    <tr>\n",
              "      <th>8</th>\n",
              "      <td>[0.2703079726928541, 1.1069420631113542, -0.42...</td>\n",
              "      <td>Loans</td>\n",
              "    </tr>\n",
              "    <tr>\n",
              "      <th>9</th>\n",
              "      <td>[0.8662523064864315, 1.1435249671794807, 0.870...</td>\n",
              "      <td>Loans</td>\n",
              "    </tr>\n",
              "    <tr>\n",
              "      <th>10</th>\n",
              "      <td>[-0.7580966795506656, 0.6312432474265479, 0.68...</td>\n",
              "      <td>Money Transfers</td>\n",
              "    </tr>\n",
              "    <tr>\n",
              "      <th>11</th>\n",
              "      <td>[0.38557719496563764, -1.4420990245260328, -0....</td>\n",
              "      <td>Money Transfers</td>\n",
              "    </tr>\n",
              "    <tr>\n",
              "      <th>12</th>\n",
              "      <td>[2.45690397730987, 0.33025601313067965, 1.2981...</td>\n",
              "      <td>Mortgage</td>\n",
              "    </tr>\n",
              "    <tr>\n",
              "      <th>13</th>\n",
              "      <td>[2.3553279838082126, 0.8329467950039564, 1.390...</td>\n",
              "      <td>Mortgage</td>\n",
              "    </tr>\n",
              "  </tbody>\n",
              "</table>\n",
              "</div>\n",
              "      <button class=\"colab-df-convert\" onclick=\"convertToInteractive('df-62ab510f-3264-4bff-8b08-4c50aee52e72')\"\n",
              "              title=\"Convert this dataframe to an interactive table.\"\n",
              "              style=\"display:none;\">\n",
              "        \n",
              "  <svg xmlns=\"http://www.w3.org/2000/svg\" height=\"24px\"viewBox=\"0 0 24 24\"\n",
              "       width=\"24px\">\n",
              "    <path d=\"M0 0h24v24H0V0z\" fill=\"none\"/>\n",
              "    <path d=\"M18.56 5.44l.94 2.06.94-2.06 2.06-.94-2.06-.94-.94-2.06-.94 2.06-2.06.94zm-11 1L8.5 8.5l.94-2.06 2.06-.94-2.06-.94L8.5 2.5l-.94 2.06-2.06.94zm10 10l.94 2.06.94-2.06 2.06-.94-2.06-.94-.94-2.06-.94 2.06-2.06.94z\"/><path d=\"M17.41 7.96l-1.37-1.37c-.4-.4-.92-.59-1.43-.59-.52 0-1.04.2-1.43.59L10.3 9.45l-7.72 7.72c-.78.78-.78 2.05 0 2.83L4 21.41c.39.39.9.59 1.41.59.51 0 1.02-.2 1.41-.59l7.78-7.78 2.81-2.81c.8-.78.8-2.07 0-2.86zM5.41 20L4 18.59l7.72-7.72 1.47 1.35L5.41 20z\"/>\n",
              "  </svg>\n",
              "      </button>\n",
              "      \n",
              "  <style>\n",
              "    .colab-df-container {\n",
              "      display:flex;\n",
              "      flex-wrap:wrap;\n",
              "      gap: 12px;\n",
              "    }\n",
              "\n",
              "    .colab-df-convert {\n",
              "      background-color: #E8F0FE;\n",
              "      border: none;\n",
              "      border-radius: 50%;\n",
              "      cursor: pointer;\n",
              "      display: none;\n",
              "      fill: #1967D2;\n",
              "      height: 32px;\n",
              "      padding: 0 0 0 0;\n",
              "      width: 32px;\n",
              "    }\n",
              "\n",
              "    .colab-df-convert:hover {\n",
              "      background-color: #E2EBFA;\n",
              "      box-shadow: 0px 1px 2px rgba(60, 64, 67, 0.3), 0px 1px 3px 1px rgba(60, 64, 67, 0.15);\n",
              "      fill: #174EA6;\n",
              "    }\n",
              "\n",
              "    [theme=dark] .colab-df-convert {\n",
              "      background-color: #3B4455;\n",
              "      fill: #D2E3FC;\n",
              "    }\n",
              "\n",
              "    [theme=dark] .colab-df-convert:hover {\n",
              "      background-color: #434B5C;\n",
              "      box-shadow: 0px 1px 3px 1px rgba(0, 0, 0, 0.15);\n",
              "      filter: drop-shadow(0px 1px 2px rgba(0, 0, 0, 0.3));\n",
              "      fill: #FFFFFF;\n",
              "    }\n",
              "  </style>\n",
              "\n",
              "      <script>\n",
              "        const buttonEl =\n",
              "          document.querySelector('#df-62ab510f-3264-4bff-8b08-4c50aee52e72 button.colab-df-convert');\n",
              "        buttonEl.style.display =\n",
              "          google.colab.kernel.accessAllowed ? 'block' : 'none';\n",
              "\n",
              "        async function convertToInteractive(key) {\n",
              "          const element = document.querySelector('#df-62ab510f-3264-4bff-8b08-4c50aee52e72');\n",
              "          const dataTable =\n",
              "            await google.colab.kernel.invokeFunction('convertToInteractive',\n",
              "                                                     [key], {});\n",
              "          if (!dataTable) return;\n",
              "\n",
              "          const docLinkHtml = 'Like what you see? Visit the ' +\n",
              "            '<a target=\"_blank\" href=https://colab.research.google.com/notebooks/data_table.ipynb>data table notebook</a>'\n",
              "            + ' to learn more about interactive tables.';\n",
              "          element.innerHTML = '';\n",
              "          dataTable['output_type'] = 'display_data';\n",
              "          await google.colab.output.renderOutput(dataTable, element);\n",
              "          const docLink = document.createElement('div');\n",
              "          docLink.innerHTML = docLinkHtml;\n",
              "          element.appendChild(docLink);\n",
              "        }\n",
              "      </script>\n",
              "    </div>\n",
              "  </div>\n",
              "  "
            ],
            "text/plain": [
              "                                         pca_features             label\n",
              "0   [3.39576448119276, -1.060361129782475, -1.5687...          Accounts\n",
              "1   [2.3660850756971623, 0.8591941003552866, -0.80...          Accounts\n",
              "2   [0.6867735108170906, 1.4823947144210112, 0.006...      Credit Cards\n",
              "3   [-0.28834125177427167, 1.0031549697755784, -0....      Credit Cards\n",
              "4   [-0.5037809008469382, -1.3771583372345915, 0.4...  Credit Reporting\n",
              "5   [1.039756950301059, -1.7194174825036457, 1.853...  Credit Reporting\n",
              "6   [2.7731701148109815, 1.1680247656394984, 1.394...   Debt Collection\n",
              "7   [-0.45951034017887454, 0.833969250052939, 0.50...   Debt Collection\n",
              "8   [0.2703079726928541, 1.1069420631113542, -0.42...             Loans\n",
              "9   [0.8662523064864315, 1.1435249671794807, 0.870...             Loans\n",
              "10  [-0.7580966795506656, 0.6312432474265479, 0.68...   Money Transfers\n",
              "11  [0.38557719496563764, -1.4420990245260328, -0....   Money Transfers\n",
              "12  [2.45690397730987, 0.33025601313067965, 1.2981...          Mortgage\n",
              "13  [2.3553279838082126, 0.8329467950039564, 1.390...          Mortgage"
            ]
          },
          "execution_count": 20,
          "metadata": {},
          "output_type": "execute_result"
        }
      ],
      "source": [
        "df = result.select('pca_features', 'label').toPandas()\n",
        "\n",
        "df\n",
        "# As you see, dimension values are inside a list"
      ]
    },
    {
      "cell_type": "code",
      "execution_count": null,
      "id": "5c3707de-8ff4-49b7-89c2-85e9616bc337",
      "metadata": {
        "colab": {
          "base_uri": "https://localhost:8080/",
          "height": 488
        },
        "id": "5c3707de-8ff4-49b7-89c2-85e9616bc337",
        "outputId": "8f3f817f-297b-42f9-c914-13f4d0889180"
      },
      "outputs": [
        {
          "data": {
            "text/html": [
              "\n",
              "  <div id=\"df-31d1d24a-99bb-4917-88ff-2b613915a604\">\n",
              "    <div class=\"colab-df-container\">\n",
              "      <div>\n",
              "<style scoped>\n",
              "    .dataframe tbody tr th:only-of-type {\n",
              "        vertical-align: middle;\n",
              "    }\n",
              "\n",
              "    .dataframe tbody tr th {\n",
              "        vertical-align: top;\n",
              "    }\n",
              "\n",
              "    .dataframe thead th {\n",
              "        text-align: right;\n",
              "    }\n",
              "</style>\n",
              "<table border=\"1\" class=\"dataframe\">\n",
              "  <thead>\n",
              "    <tr style=\"text-align: right;\">\n",
              "      <th></th>\n",
              "      <th>x</th>\n",
              "      <th>y</th>\n",
              "      <th>z</th>\n",
              "      <th>label</th>\n",
              "    </tr>\n",
              "  </thead>\n",
              "  <tbody>\n",
              "    <tr>\n",
              "      <th>0</th>\n",
              "      <td>3.395764</td>\n",
              "      <td>-1.060361</td>\n",
              "      <td>-1.568794</td>\n",
              "      <td>Accounts</td>\n",
              "    </tr>\n",
              "    <tr>\n",
              "      <th>1</th>\n",
              "      <td>2.366085</td>\n",
              "      <td>0.859194</td>\n",
              "      <td>-0.806617</td>\n",
              "      <td>Accounts</td>\n",
              "    </tr>\n",
              "    <tr>\n",
              "      <th>2</th>\n",
              "      <td>0.686774</td>\n",
              "      <td>1.482395</td>\n",
              "      <td>0.006591</td>\n",
              "      <td>Credit Cards</td>\n",
              "    </tr>\n",
              "    <tr>\n",
              "      <th>3</th>\n",
              "      <td>-0.288341</td>\n",
              "      <td>1.003155</td>\n",
              "      <td>-0.796381</td>\n",
              "      <td>Credit Cards</td>\n",
              "    </tr>\n",
              "    <tr>\n",
              "      <th>4</th>\n",
              "      <td>-0.503781</td>\n",
              "      <td>-1.377158</td>\n",
              "      <td>0.444970</td>\n",
              "      <td>Credit Reporting</td>\n",
              "    </tr>\n",
              "    <tr>\n",
              "      <th>5</th>\n",
              "      <td>1.039757</td>\n",
              "      <td>-1.719417</td>\n",
              "      <td>1.853937</td>\n",
              "      <td>Credit Reporting</td>\n",
              "    </tr>\n",
              "    <tr>\n",
              "      <th>6</th>\n",
              "      <td>2.773170</td>\n",
              "      <td>1.168025</td>\n",
              "      <td>1.394945</td>\n",
              "      <td>Debt Collection</td>\n",
              "    </tr>\n",
              "    <tr>\n",
              "      <th>7</th>\n",
              "      <td>-0.459510</td>\n",
              "      <td>0.833969</td>\n",
              "      <td>0.505173</td>\n",
              "      <td>Debt Collection</td>\n",
              "    </tr>\n",
              "    <tr>\n",
              "      <th>8</th>\n",
              "      <td>0.270308</td>\n",
              "      <td>1.106942</td>\n",
              "      <td>-0.424756</td>\n",
              "      <td>Loans</td>\n",
              "    </tr>\n",
              "    <tr>\n",
              "      <th>9</th>\n",
              "      <td>0.866252</td>\n",
              "      <td>1.143525</td>\n",
              "      <td>0.870356</td>\n",
              "      <td>Loans</td>\n",
              "    </tr>\n",
              "    <tr>\n",
              "      <th>10</th>\n",
              "      <td>-0.758097</td>\n",
              "      <td>0.631243</td>\n",
              "      <td>0.682907</td>\n",
              "      <td>Money Transfers</td>\n",
              "    </tr>\n",
              "    <tr>\n",
              "      <th>11</th>\n",
              "      <td>0.385577</td>\n",
              "      <td>-1.442099</td>\n",
              "      <td>-0.198255</td>\n",
              "      <td>Money Transfers</td>\n",
              "    </tr>\n",
              "    <tr>\n",
              "      <th>12</th>\n",
              "      <td>2.456904</td>\n",
              "      <td>0.330256</td>\n",
              "      <td>1.298171</td>\n",
              "      <td>Mortgage</td>\n",
              "    </tr>\n",
              "    <tr>\n",
              "      <th>13</th>\n",
              "      <td>2.355328</td>\n",
              "      <td>0.832947</td>\n",
              "      <td>1.390406</td>\n",
              "      <td>Mortgage</td>\n",
              "    </tr>\n",
              "  </tbody>\n",
              "</table>\n",
              "</div>\n",
              "      <button class=\"colab-df-convert\" onclick=\"convertToInteractive('df-31d1d24a-99bb-4917-88ff-2b613915a604')\"\n",
              "              title=\"Convert this dataframe to an interactive table.\"\n",
              "              style=\"display:none;\">\n",
              "        \n",
              "  <svg xmlns=\"http://www.w3.org/2000/svg\" height=\"24px\"viewBox=\"0 0 24 24\"\n",
              "       width=\"24px\">\n",
              "    <path d=\"M0 0h24v24H0V0z\" fill=\"none\"/>\n",
              "    <path d=\"M18.56 5.44l.94 2.06.94-2.06 2.06-.94-2.06-.94-.94-2.06-.94 2.06-2.06.94zm-11 1L8.5 8.5l.94-2.06 2.06-.94-2.06-.94L8.5 2.5l-.94 2.06-2.06.94zm10 10l.94 2.06.94-2.06 2.06-.94-2.06-.94-.94-2.06-.94 2.06-2.06.94z\"/><path d=\"M17.41 7.96l-1.37-1.37c-.4-.4-.92-.59-1.43-.59-.52 0-1.04.2-1.43.59L10.3 9.45l-7.72 7.72c-.78.78-.78 2.05 0 2.83L4 21.41c.39.39.9.59 1.41.59.51 0 1.02-.2 1.41-.59l7.78-7.78 2.81-2.81c.8-.78.8-2.07 0-2.86zM5.41 20L4 18.59l7.72-7.72 1.47 1.35L5.41 20z\"/>\n",
              "  </svg>\n",
              "      </button>\n",
              "      \n",
              "  <style>\n",
              "    .colab-df-container {\n",
              "      display:flex;\n",
              "      flex-wrap:wrap;\n",
              "      gap: 12px;\n",
              "    }\n",
              "\n",
              "    .colab-df-convert {\n",
              "      background-color: #E8F0FE;\n",
              "      border: none;\n",
              "      border-radius: 50%;\n",
              "      cursor: pointer;\n",
              "      display: none;\n",
              "      fill: #1967D2;\n",
              "      height: 32px;\n",
              "      padding: 0 0 0 0;\n",
              "      width: 32px;\n",
              "    }\n",
              "\n",
              "    .colab-df-convert:hover {\n",
              "      background-color: #E2EBFA;\n",
              "      box-shadow: 0px 1px 2px rgba(60, 64, 67, 0.3), 0px 1px 3px 1px rgba(60, 64, 67, 0.15);\n",
              "      fill: #174EA6;\n",
              "    }\n",
              "\n",
              "    [theme=dark] .colab-df-convert {\n",
              "      background-color: #3B4455;\n",
              "      fill: #D2E3FC;\n",
              "    }\n",
              "\n",
              "    [theme=dark] .colab-df-convert:hover {\n",
              "      background-color: #434B5C;\n",
              "      box-shadow: 0px 1px 3px 1px rgba(0, 0, 0, 0.15);\n",
              "      filter: drop-shadow(0px 1px 2px rgba(0, 0, 0, 0.3));\n",
              "      fill: #FFFFFF;\n",
              "    }\n",
              "  </style>\n",
              "\n",
              "      <script>\n",
              "        const buttonEl =\n",
              "          document.querySelector('#df-31d1d24a-99bb-4917-88ff-2b613915a604 button.colab-df-convert');\n",
              "        buttonEl.style.display =\n",
              "          google.colab.kernel.accessAllowed ? 'block' : 'none';\n",
              "\n",
              "        async function convertToInteractive(key) {\n",
              "          const element = document.querySelector('#df-31d1d24a-99bb-4917-88ff-2b613915a604');\n",
              "          const dataTable =\n",
              "            await google.colab.kernel.invokeFunction('convertToInteractive',\n",
              "                                                     [key], {});\n",
              "          if (!dataTable) return;\n",
              "\n",
              "          const docLinkHtml = 'Like what you see? Visit the ' +\n",
              "            '<a target=\"_blank\" href=https://colab.research.google.com/notebooks/data_table.ipynb>data table notebook</a>'\n",
              "            + ' to learn more about interactive tables.';\n",
              "          element.innerHTML = '';\n",
              "          dataTable['output_type'] = 'display_data';\n",
              "          await google.colab.output.renderOutput(dataTable, element);\n",
              "          const docLink = document.createElement('div');\n",
              "          docLink.innerHTML = docLinkHtml;\n",
              "          element.appendChild(docLink);\n",
              "        }\n",
              "      </script>\n",
              "    </div>\n",
              "  </div>\n",
              "  "
            ],
            "text/plain": [
              "           x         y         z             label\n",
              "0   3.395764 -1.060361 -1.568794          Accounts\n",
              "1   2.366085  0.859194 -0.806617          Accounts\n",
              "2   0.686774  1.482395  0.006591      Credit Cards\n",
              "3  -0.288341  1.003155 -0.796381      Credit Cards\n",
              "4  -0.503781 -1.377158  0.444970  Credit Reporting\n",
              "5   1.039757 -1.719417  1.853937  Credit Reporting\n",
              "6   2.773170  1.168025  1.394945   Debt Collection\n",
              "7  -0.459510  0.833969  0.505173   Debt Collection\n",
              "8   0.270308  1.106942 -0.424756             Loans\n",
              "9   0.866252  1.143525  0.870356             Loans\n",
              "10 -0.758097  0.631243  0.682907   Money Transfers\n",
              "11  0.385577 -1.442099 -0.198255   Money Transfers\n",
              "12  2.456904  0.330256  1.298171          Mortgage\n",
              "13  2.355328  0.832947  1.390406          Mortgage"
            ]
          },
          "execution_count": 21,
          "metadata": {},
          "output_type": "execute_result"
        }
      ],
      "source": [
        "# We extract the dimension values out off the list\n",
        "\n",
        "df[\"x\"] = df[\"pca_features\"].apply(lambda x: x[0])\n",
        "\n",
        "df[\"y\"] = df[\"pca_features\"].apply(lambda x: x[1])\n",
        "\n",
        "df[\"z\"] = df[\"pca_features\"].apply(lambda x: x[2])\n",
        "\n",
        "df = df[[\"x\", \"y\", \"z\", \"label\"]]\n",
        "\n",
        "df"
      ]
    },
    {
      "cell_type": "code",
      "execution_count": null,
      "id": "7281d091-9356-41a7-83e7-6b5ee541a09c",
      "metadata": {
        "colab": {
          "base_uri": "https://localhost:8080/",
          "height": 617
        },
        "id": "7281d091-9356-41a7-83e7-6b5ee541a09c",
        "outputId": "3972e1b8-6144-46aa-85fc-2afc12dad49b",
        "tags": []
      },
      "outputs": [
        {
          "data": {
            "text/html": [
              "<html>\n",
              "<head><meta charset=\"utf-8\" /></head>\n",
              "<body>\n",
              "    <div>            <script src=\"https://cdnjs.cloudflare.com/ajax/libs/mathjax/2.7.5/MathJax.js?config=TeX-AMS-MML_SVG\"></script><script type=\"text/javascript\">if (window.MathJax) {MathJax.Hub.Config({SVG: {font: \"STIX-Web\"}});}</script>                <script type=\"text/javascript\">window.PlotlyConfig = {MathJaxConfig: 'local'};</script>\n",
              "        <script src=\"https://cdn.plot.ly/plotly-2.8.3.min.js\"></script>                <div id=\"13bc9fc5-7ccf-4fe4-a568-04512a15694a\" class=\"plotly-graph-div\" style=\"height:600px; width:800px;\"></div>            <script type=\"text/javascript\">                                    window.PLOTLYENV=window.PLOTLYENV || {};                                    if (document.getElementById(\"13bc9fc5-7ccf-4fe4-a568-04512a15694a\")) {                    Plotly.newPlot(                        \"13bc9fc5-7ccf-4fe4-a568-04512a15694a\",                        [{\"hovertemplate\":\"label=Accounts<br>x=%{x}<br>y=%{y}<br>z=%{z}<extra></extra>\",\"legendgroup\":\"Accounts\",\"marker\":{\"color\":\"#636efa\",\"symbol\":\"circle\"},\"mode\":\"markers\",\"name\":\"Accounts\",\"scene\":\"scene\",\"showlegend\":true,\"x\":[3.39576448119276,2.3660850756971623],\"y\":[-1.060361129782475,0.8591941003552866],\"z\":[-1.568794006399417,-0.8066168807669747],\"type\":\"scatter3d\"},{\"hovertemplate\":\"label=Credit Cards<br>x=%{x}<br>y=%{y}<br>z=%{z}<extra></extra>\",\"legendgroup\":\"Credit Cards\",\"marker\":{\"color\":\"#EF553B\",\"symbol\":\"circle\"},\"mode\":\"markers\",\"name\":\"Credit Cards\",\"scene\":\"scene\",\"showlegend\":true,\"x\":[0.6867735108170906,-0.28834125177427167],\"y\":[1.4823947144210112,1.0031549697755784],\"z\":[0.006591220237646302,-0.7963810505318434],\"type\":\"scatter3d\"},{\"hovertemplate\":\"label=Credit Reporting<br>x=%{x}<br>y=%{y}<br>z=%{z}<extra></extra>\",\"legendgroup\":\"Credit Reporting\",\"marker\":{\"color\":\"#00cc96\",\"symbol\":\"circle\"},\"mode\":\"markers\",\"name\":\"Credit Reporting\",\"scene\":\"scene\",\"showlegend\":true,\"x\":[-0.5037809008469382,1.039756950301059],\"y\":[-1.3771583372345915,-1.7194174825036457],\"z\":[0.4449701036930799,1.8539366217014026],\"type\":\"scatter3d\"},{\"hovertemplate\":\"label=Debt Collection<br>x=%{x}<br>y=%{y}<br>z=%{z}<extra></extra>\",\"legendgroup\":\"Debt Collection\",\"marker\":{\"color\":\"#ab63fa\",\"symbol\":\"circle\"},\"mode\":\"markers\",\"name\":\"Debt Collection\",\"scene\":\"scene\",\"showlegend\":true,\"x\":[2.7731701148109815,-0.45951034017887454],\"y\":[1.1680247656394984,0.833969250052939],\"z\":[1.3949448202984454,0.5051728405912744],\"type\":\"scatter3d\"},{\"hovertemplate\":\"label=Loans<br>x=%{x}<br>y=%{y}<br>z=%{z}<extra></extra>\",\"legendgroup\":\"Loans\",\"marker\":{\"color\":\"#FFA15A\",\"symbol\":\"circle\"},\"mode\":\"markers\",\"name\":\"Loans\",\"scene\":\"scene\",\"showlegend\":true,\"x\":[0.2703079726928541,0.8662523064864315],\"y\":[1.1069420631113542,1.1435249671794807],\"z\":[-0.4247559623637921,0.8703562689970329],\"type\":\"scatter3d\"},{\"hovertemplate\":\"label=Money Transfers<br>x=%{x}<br>y=%{y}<br>z=%{z}<extra></extra>\",\"legendgroup\":\"Money Transfers\",\"marker\":{\"color\":\"#19d3f3\",\"symbol\":\"circle\"},\"mode\":\"markers\",\"name\":\"Money Transfers\",\"scene\":\"scene\",\"showlegend\":true,\"x\":[-0.7580966795506656,0.38557719496563764],\"y\":[0.6312432474265479,-1.4420990245260328],\"z\":[0.6829074622939197,-0.19825482305628117],\"type\":\"scatter3d\"},{\"hovertemplate\":\"label=Mortgage<br>x=%{x}<br>y=%{y}<br>z=%{z}<extra></extra>\",\"legendgroup\":\"Mortgage\",\"marker\":{\"color\":\"#FF6692\",\"symbol\":\"circle\"},\"mode\":\"markers\",\"name\":\"Mortgage\",\"scene\":\"scene\",\"showlegend\":true,\"x\":[2.45690397730987,2.3553279838082126],\"y\":[0.33025601313067965,0.8329467950039564],\"z\":[1.2981705024775965,1.390405767602749],\"type\":\"scatter3d\"}],                        {\"template\":{\"data\":{\"bar\":[{\"error_x\":{\"color\":\"#2a3f5f\"},\"error_y\":{\"color\":\"#2a3f5f\"},\"marker\":{\"line\":{\"color\":\"#E5ECF6\",\"width\":0.5},\"pattern\":{\"fillmode\":\"overlay\",\"size\":10,\"solidity\":0.2}},\"type\":\"bar\"}],\"barpolar\":[{\"marker\":{\"line\":{\"color\":\"#E5ECF6\",\"width\":0.5},\"pattern\":{\"fillmode\":\"overlay\",\"size\":10,\"solidity\":0.2}},\"type\":\"barpolar\"}],\"carpet\":[{\"aaxis\":{\"endlinecolor\":\"#2a3f5f\",\"gridcolor\":\"white\",\"linecolor\":\"white\",\"minorgridcolor\":\"white\",\"startlinecolor\":\"#2a3f5f\"},\"baxis\":{\"endlinecolor\":\"#2a3f5f\",\"gridcolor\":\"white\",\"linecolor\":\"white\",\"minorgridcolor\":\"white\",\"startlinecolor\":\"#2a3f5f\"},\"type\":\"carpet\"}],\"choropleth\":[{\"colorbar\":{\"outlinewidth\":0,\"ticks\":\"\"},\"type\":\"choropleth\"}],\"contour\":[{\"colorbar\":{\"outlinewidth\":0,\"ticks\":\"\"},\"colorscale\":[[0.0,\"#0d0887\"],[0.1111111111111111,\"#46039f\"],[0.2222222222222222,\"#7201a8\"],[0.3333333333333333,\"#9c179e\"],[0.4444444444444444,\"#bd3786\"],[0.5555555555555556,\"#d8576b\"],[0.6666666666666666,\"#ed7953\"],[0.7777777777777778,\"#fb9f3a\"],[0.8888888888888888,\"#fdca26\"],[1.0,\"#f0f921\"]],\"type\":\"contour\"}],\"contourcarpet\":[{\"colorbar\":{\"outlinewidth\":0,\"ticks\":\"\"},\"type\":\"contourcarpet\"}],\"heatmap\":[{\"colorbar\":{\"outlinewidth\":0,\"ticks\":\"\"},\"colorscale\":[[0.0,\"#0d0887\"],[0.1111111111111111,\"#46039f\"],[0.2222222222222222,\"#7201a8\"],[0.3333333333333333,\"#9c179e\"],[0.4444444444444444,\"#bd3786\"],[0.5555555555555556,\"#d8576b\"],[0.6666666666666666,\"#ed7953\"],[0.7777777777777778,\"#fb9f3a\"],[0.8888888888888888,\"#fdca26\"],[1.0,\"#f0f921\"]],\"type\":\"heatmap\"}],\"heatmapgl\":[{\"colorbar\":{\"outlinewidth\":0,\"ticks\":\"\"},\"colorscale\":[[0.0,\"#0d0887\"],[0.1111111111111111,\"#46039f\"],[0.2222222222222222,\"#7201a8\"],[0.3333333333333333,\"#9c179e\"],[0.4444444444444444,\"#bd3786\"],[0.5555555555555556,\"#d8576b\"],[0.6666666666666666,\"#ed7953\"],[0.7777777777777778,\"#fb9f3a\"],[0.8888888888888888,\"#fdca26\"],[1.0,\"#f0f921\"]],\"type\":\"heatmapgl\"}],\"histogram\":[{\"marker\":{\"pattern\":{\"fillmode\":\"overlay\",\"size\":10,\"solidity\":0.2}},\"type\":\"histogram\"}],\"histogram2d\":[{\"colorbar\":{\"outlinewidth\":0,\"ticks\":\"\"},\"colorscale\":[[0.0,\"#0d0887\"],[0.1111111111111111,\"#46039f\"],[0.2222222222222222,\"#7201a8\"],[0.3333333333333333,\"#9c179e\"],[0.4444444444444444,\"#bd3786\"],[0.5555555555555556,\"#d8576b\"],[0.6666666666666666,\"#ed7953\"],[0.7777777777777778,\"#fb9f3a\"],[0.8888888888888888,\"#fdca26\"],[1.0,\"#f0f921\"]],\"type\":\"histogram2d\"}],\"histogram2dcontour\":[{\"colorbar\":{\"outlinewidth\":0,\"ticks\":\"\"},\"colorscale\":[[0.0,\"#0d0887\"],[0.1111111111111111,\"#46039f\"],[0.2222222222222222,\"#7201a8\"],[0.3333333333333333,\"#9c179e\"],[0.4444444444444444,\"#bd3786\"],[0.5555555555555556,\"#d8576b\"],[0.6666666666666666,\"#ed7953\"],[0.7777777777777778,\"#fb9f3a\"],[0.8888888888888888,\"#fdca26\"],[1.0,\"#f0f921\"]],\"type\":\"histogram2dcontour\"}],\"mesh3d\":[{\"colorbar\":{\"outlinewidth\":0,\"ticks\":\"\"},\"type\":\"mesh3d\"}],\"parcoords\":[{\"line\":{\"colorbar\":{\"outlinewidth\":0,\"ticks\":\"\"}},\"type\":\"parcoords\"}],\"pie\":[{\"automargin\":true,\"type\":\"pie\"}],\"scatter\":[{\"marker\":{\"colorbar\":{\"outlinewidth\":0,\"ticks\":\"\"}},\"type\":\"scatter\"}],\"scatter3d\":[{\"line\":{\"colorbar\":{\"outlinewidth\":0,\"ticks\":\"\"}},\"marker\":{\"colorbar\":{\"outlinewidth\":0,\"ticks\":\"\"}},\"type\":\"scatter3d\"}],\"scattercarpet\":[{\"marker\":{\"colorbar\":{\"outlinewidth\":0,\"ticks\":\"\"}},\"type\":\"scattercarpet\"}],\"scattergeo\":[{\"marker\":{\"colorbar\":{\"outlinewidth\":0,\"ticks\":\"\"}},\"type\":\"scattergeo\"}],\"scattergl\":[{\"marker\":{\"colorbar\":{\"outlinewidth\":0,\"ticks\":\"\"}},\"type\":\"scattergl\"}],\"scattermapbox\":[{\"marker\":{\"colorbar\":{\"outlinewidth\":0,\"ticks\":\"\"}},\"type\":\"scattermapbox\"}],\"scatterpolar\":[{\"marker\":{\"colorbar\":{\"outlinewidth\":0,\"ticks\":\"\"}},\"type\":\"scatterpolar\"}],\"scatterpolargl\":[{\"marker\":{\"colorbar\":{\"outlinewidth\":0,\"ticks\":\"\"}},\"type\":\"scatterpolargl\"}],\"scatterternary\":[{\"marker\":{\"colorbar\":{\"outlinewidth\":0,\"ticks\":\"\"}},\"type\":\"scatterternary\"}],\"surface\":[{\"colorbar\":{\"outlinewidth\":0,\"ticks\":\"\"},\"colorscale\":[[0.0,\"#0d0887\"],[0.1111111111111111,\"#46039f\"],[0.2222222222222222,\"#7201a8\"],[0.3333333333333333,\"#9c179e\"],[0.4444444444444444,\"#bd3786\"],[0.5555555555555556,\"#d8576b\"],[0.6666666666666666,\"#ed7953\"],[0.7777777777777778,\"#fb9f3a\"],[0.8888888888888888,\"#fdca26\"],[1.0,\"#f0f921\"]],\"type\":\"surface\"}],\"table\":[{\"cells\":{\"fill\":{\"color\":\"#EBF0F8\"},\"line\":{\"color\":\"white\"}},\"header\":{\"fill\":{\"color\":\"#C8D4E3\"},\"line\":{\"color\":\"white\"}},\"type\":\"table\"}]},\"layout\":{\"annotationdefaults\":{\"arrowcolor\":\"#2a3f5f\",\"arrowhead\":0,\"arrowwidth\":1},\"autotypenumbers\":\"strict\",\"coloraxis\":{\"colorbar\":{\"outlinewidth\":0,\"ticks\":\"\"}},\"colorscale\":{\"diverging\":[[0,\"#8e0152\"],[0.1,\"#c51b7d\"],[0.2,\"#de77ae\"],[0.3,\"#f1b6da\"],[0.4,\"#fde0ef\"],[0.5,\"#f7f7f7\"],[0.6,\"#e6f5d0\"],[0.7,\"#b8e186\"],[0.8,\"#7fbc41\"],[0.9,\"#4d9221\"],[1,\"#276419\"]],\"sequential\":[[0.0,\"#0d0887\"],[0.1111111111111111,\"#46039f\"],[0.2222222222222222,\"#7201a8\"],[0.3333333333333333,\"#9c179e\"],[0.4444444444444444,\"#bd3786\"],[0.5555555555555556,\"#d8576b\"],[0.6666666666666666,\"#ed7953\"],[0.7777777777777778,\"#fb9f3a\"],[0.8888888888888888,\"#fdca26\"],[1.0,\"#f0f921\"]],\"sequentialminus\":[[0.0,\"#0d0887\"],[0.1111111111111111,\"#46039f\"],[0.2222222222222222,\"#7201a8\"],[0.3333333333333333,\"#9c179e\"],[0.4444444444444444,\"#bd3786\"],[0.5555555555555556,\"#d8576b\"],[0.6666666666666666,\"#ed7953\"],[0.7777777777777778,\"#fb9f3a\"],[0.8888888888888888,\"#fdca26\"],[1.0,\"#f0f921\"]]},\"colorway\":[\"#636efa\",\"#EF553B\",\"#00cc96\",\"#ab63fa\",\"#FFA15A\",\"#19d3f3\",\"#FF6692\",\"#B6E880\",\"#FF97FF\",\"#FECB52\"],\"font\":{\"color\":\"#2a3f5f\"},\"geo\":{\"bgcolor\":\"white\",\"lakecolor\":\"white\",\"landcolor\":\"#E5ECF6\",\"showlakes\":true,\"showland\":true,\"subunitcolor\":\"white\"},\"hoverlabel\":{\"align\":\"left\"},\"hovermode\":\"closest\",\"mapbox\":{\"style\":\"light\"},\"paper_bgcolor\":\"white\",\"plot_bgcolor\":\"#E5ECF6\",\"polar\":{\"angularaxis\":{\"gridcolor\":\"white\",\"linecolor\":\"white\",\"ticks\":\"\"},\"bgcolor\":\"#E5ECF6\",\"radialaxis\":{\"gridcolor\":\"white\",\"linecolor\":\"white\",\"ticks\":\"\"}},\"scene\":{\"xaxis\":{\"backgroundcolor\":\"#E5ECF6\",\"gridcolor\":\"white\",\"gridwidth\":2,\"linecolor\":\"white\",\"showbackground\":true,\"ticks\":\"\",\"zerolinecolor\":\"white\"},\"yaxis\":{\"backgroundcolor\":\"#E5ECF6\",\"gridcolor\":\"white\",\"gridwidth\":2,\"linecolor\":\"white\",\"showbackground\":true,\"ticks\":\"\",\"zerolinecolor\":\"white\"},\"zaxis\":{\"backgroundcolor\":\"#E5ECF6\",\"gridcolor\":\"white\",\"gridwidth\":2,\"linecolor\":\"white\",\"showbackground\":true,\"ticks\":\"\",\"zerolinecolor\":\"white\"}},\"shapedefaults\":{\"line\":{\"color\":\"#2a3f5f\"}},\"ternary\":{\"aaxis\":{\"gridcolor\":\"white\",\"linecolor\":\"white\",\"ticks\":\"\"},\"baxis\":{\"gridcolor\":\"white\",\"linecolor\":\"white\",\"ticks\":\"\"},\"bgcolor\":\"#E5ECF6\",\"caxis\":{\"gridcolor\":\"white\",\"linecolor\":\"white\",\"ticks\":\"\"}},\"title\":{\"x\":0.05},\"xaxis\":{\"automargin\":true,\"gridcolor\":\"white\",\"linecolor\":\"white\",\"ticks\":\"\",\"title\":{\"standoff\":15},\"zerolinecolor\":\"white\",\"zerolinewidth\":2},\"yaxis\":{\"automargin\":true,\"gridcolor\":\"white\",\"linecolor\":\"white\",\"ticks\":\"\",\"title\":{\"standoff\":15},\"zerolinecolor\":\"white\",\"zerolinewidth\":2}}},\"scene\":{\"domain\":{\"x\":[0.0,1.0],\"y\":[0.0,1.0]},\"xaxis\":{\"title\":{\"text\":\"x\"}},\"yaxis\":{\"title\":{\"text\":\"y\"}},\"zaxis\":{\"title\":{\"text\":\"z\"}}},\"legend\":{\"title\":{\"text\":\"label\"},\"tracegroupgap\":0},\"margin\":{\"t\":60},\"height\":600,\"width\":800},                        {\"responsive\": true}                    ).then(function(){\n",
              "                            \n",
              "var gd = document.getElementById('13bc9fc5-7ccf-4fe4-a568-04512a15694a');\n",
              "var x = new MutationObserver(function (mutations, observer) {{\n",
              "        var display = window.getComputedStyle(gd).display;\n",
              "        if (!display || display === 'none') {{\n",
              "            console.log([gd, 'removed!']);\n",
              "            Plotly.purge(gd);\n",
              "            observer.disconnect();\n",
              "        }}\n",
              "}});\n",
              "\n",
              "// Listen for the removal of the full notebook cells\n",
              "var notebookContainer = gd.closest('#notebook-container');\n",
              "if (notebookContainer) {{\n",
              "    x.observe(notebookContainer, {childList: true});\n",
              "}}\n",
              "\n",
              "// Listen for the clearing of the current output cell\n",
              "var outputEl = gd.closest('.output');\n",
              "if (outputEl) {{\n",
              "    x.observe(outputEl, {childList: true});\n",
              "}}\n",
              "\n",
              "                        })                };                            </script>        </div>\n",
              "</body>\n",
              "</html>"
            ]
          },
          "metadata": {},
          "output_type": "display_data"
        }
      ],
      "source": [
        "import plotly.express as px\n",
        "\n",
        "fig = px.scatter_3d(df, x = 'x', y = 'y', z = 'z', color = 'label', width=800, height=600)\n",
        "\n",
        "fig.show()"
      ]
    },
    {
      "cell_type": "markdown",
      "id": "602bc911-284b-4e0e-8882-99ac444fbb51",
      "metadata": {
        "id": "602bc911-284b-4e0e-8882-99ac444fbb51"
      },
      "source": [
        "### Word Embeddings"
      ]
    },
    {
      "cell_type": "markdown",
      "id": "11bfbc63-cb97-4189-8d6c-6629bbc898e8",
      "metadata": {
        "id": "11bfbc63-cb97-4189-8d6c-6629bbc898e8"
      },
      "source": [
        "We can also visualize the semantics of words, instead of full texts, by using Word Embeddings. We will add a Tokenizer and a WordEmbeddings model to get those embeddings, and them apply PCA as before. Firstly we splitted the pipeline in two to get all token embeddings"
      ]
    },
    {
      "cell_type": "code",
      "execution_count": null,
      "id": "28f0cced-e804-4415-aa57-6ae05587adf2",
      "metadata": {
        "colab": {
          "base_uri": "https://localhost:8080/"
        },
        "id": "28f0cced-e804-4415-aa57-6ae05587adf2",
        "outputId": "bbfd73e0-624c-407d-cb4d-8c1f46a1fe8f"
      },
      "outputs": [
        {
          "name": "stdout",
          "output_type": "stream",
          "text": [
            "bert_embeddings_sec_bert_base download started this may take some time.\n",
            "Approximate size to download 390.4 MB\n",
            "[OK!]\n"
          ]
        }
      ],
      "source": [
        "model = generic_pipeline().fit(sdf)"
      ]
    },
    {
      "cell_type": "code",
      "execution_count": null,
      "id": "31090faa-0bbe-4e94-8384-e38a338e1989",
      "metadata": {
        "id": "31090faa-0bbe-4e94-8384-e38a338e1989"
      },
      "outputs": [],
      "source": [
        "result = model.transform(sdf)"
      ]
    },
    {
      "cell_type": "code",
      "execution_count": null,
      "id": "1815b79d-81c5-45ec-ac80-418e31f9df8e",
      "metadata": {
        "colab": {
          "base_uri": "https://localhost:8080/"
        },
        "id": "1815b79d-81c5-45ec-ac80-418e31f9df8e",
        "outputId": "4f50264e-2aad-4fc5-eb4e-175b3b9d4f8a",
        "tags": []
      },
      "outputs": [
        {
          "name": "stdout",
          "output_type": "stream",
          "text": [
            "+----------+--------+--------------------------------------------------------------------------------+\n",
            "|     token|   label|                                                                      embeddings|\n",
            "+----------+--------+--------------------------------------------------------------------------------+\n",
            "|         I|Accounts|[-0.29679197, 0.80952483, 0.026026089, 0.08434192, 0.7434629, -0.02694758, -0...|\n",
            "|    called|Accounts|[0.28905854, -0.29229686, -0.42990392, -0.3833449, 0.026178285, -0.12728442, ...|\n",
            "|Huntington|Accounts|[0.20684586, -0.010130149, -0.259025, -0.37558293, 0.45792142, 0.3114912, -0....|\n",
            "|      Bank|Accounts|[-0.034710683, 0.46047488, -0.6221113, -0.011169381, 0.2938512, 0.31341088, -...|\n",
            "|        to|Accounts|[-0.40457863, -0.3768647, -0.08015404, -0.58909655, -0.33856544, -0.39321256,...|\n",
            "|     close|Accounts|[0.35089388, 0.9568475, 0.86328286, -0.4334402, 0.11386797, -0.48837784, -0.8...|\n",
            "|        my|Accounts|[-0.36591864, 0.2655603, -0.32495034, -0.5081896, -0.39623818, -0.63347244, -...|\n",
            "|   account|Accounts|[0.004639961, 0.5340125, 0.77567977, 0.23316649, -0.4303767, -0.2937901, -0.5...|\n",
            "|         ,|Accounts|[0.17874305, -0.026907753, 0.19498396, -0.7929611, -0.26044437, -0.3964327, -...|\n",
            "|       and|Accounts|[0.5011346, 0.6637548, 0.15587743, -0.79522926, -0.8198417, -0.24028614, -0.6...|\n",
            "|      they|Accounts|[-0.2188998, 0.17353022, -0.3897713, -0.4219988, -0.66089946, -0.6682683, -0....|\n",
            "|   refused|Accounts|[-0.71534324, 0.4092898, -0.58240926, 0.2768947, -0.7440806, -0.016842518, -0...|\n",
            "|        to|Accounts|[-0.062417023, -0.30230471, 0.17689183, -0.36983997, 0.22308639, -0.20912732,...|\n",
            "|     close|Accounts|[0.49901608, 0.93363476, 0.89050376, -0.20053658, 0.47381917, -0.24397722, -0...|\n",
            "|        my|Accounts|[-0.11864859, 0.068643466, -0.47048938, -0.33866596, -0.1448204, -0.59992373,...|\n",
            "|   account|Accounts|[-0.045060933, 0.55244875, 0.9458424, 0.3263075, -0.26439214, -0.14597315, -0...|\n",
            "|      over|Accounts|[0.19230467, -0.47188944, 0.33582675, 0.008950032, 0.3479425, 0.107840315, -0...|\n",
            "|       the|Accounts|[-0.44176129, -0.17911726, -0.9623183, 0.09716578, 0.19224198, 0.1584882, 0.5...|\n",
            "|     phone|Accounts|[-0.44973916, -0.9114662, -0.06911273, -0.18094938, 0.10837507, -0.8229777, -...|\n",
            "|         .|Accounts|[0.0502675, 0.32013232, 0.22356117, -0.6540274, 0.48769465, -0.81690645, -0.6...|\n",
            "+----------+--------+--------------------------------------------------------------------------------+\n",
            "only showing top 20 rows\n",
            "\n"
          ]
        }
      ],
      "source": [
        "result_df = result.select(\"label\", F.explode(F.arrays_zip(result.token.result, result.word_embeddings.embeddings)).alias(\"cols\"))\\\n",
        "      .select(F.expr(\"cols['0']\").alias(\"token\"),\n",
        "              \"label\",\n",
        "              F.expr(\"cols['1']\").alias(\"embeddings\"))\n",
        "\n",
        "result_df.show(truncate = 80)\n"
      ]
    },
    {
      "cell_type": "code",
      "execution_count": null,
      "id": "6186b5d6-fa75-42db-b5f6-febbe0f6c957",
      "metadata": {
        "id": "6186b5d6-fa75-42db-b5f6-febbe0f6c957"
      },
      "outputs": [],
      "source": [
        "# Here we defined inheritance class from that defined previously EmbeddingsUDF class\n",
        "class WordEmbeddingsUDF(EmbeddingsUDF):    \n",
        "    def _transform(self, dataset):\n",
        "        \n",
        "        results = dataset.select('token', 'label', 'embeddings') # We changed this line because our embedding cloumn is already exploded\n",
        "\n",
        "        results = results.withColumn(\n",
        "            \"features\",\n",
        "            self.udfs['convertToVectorUDF'](F.col(\"embeddings\"))\n",
        "        )\n",
        "        results = results.withColumn(\n",
        "            \"emb_sum\",\n",
        "            self.udfs['sumUDF'](F.col(\"embeddings\"))\n",
        "        )\n",
        "        # Remove those with embeddings all zeroes (so we can calculate cosine distance)\n",
        "        results = results.where(F.col(\"emb_sum\")!=0.0)\n",
        "\n",
        "        return results"
      ]
    },
    {
      "cell_type": "code",
      "execution_count": null,
      "id": "e416012e-ba80-4ca8-98de-aa675660ecb1",
      "metadata": {
        "id": "e416012e-ba80-4ca8-98de-aa675660ecb1"
      },
      "outputs": [],
      "source": [
        "embeddings_for_pca = WordEmbeddingsUDF()"
      ]
    },
    {
      "cell_type": "code",
      "execution_count": null,
      "id": "0cca3d1f-0261-42de-96f8-f68f7fe6210a",
      "metadata": {
        "id": "0cca3d1f-0261-42de-96f8-f68f7fe6210a"
      },
      "outputs": [],
      "source": [
        "DIMENSIONS  = 3"
      ]
    },
    {
      "cell_type": "code",
      "execution_count": null,
      "id": "2f9e30a2-cc23-463f-87d1-4846c7a321e7",
      "metadata": {
        "id": "2f9e30a2-cc23-463f-87d1-4846c7a321e7"
      },
      "outputs": [],
      "source": [
        "pca = nlp.ML.feature.PCA(k=DIMENSIONS, inputCol=\"features\", outputCol=\"pca_features\")"
      ]
    },
    {
      "cell_type": "markdown",
      "id": "4ec00af2-8e16-4473-8b43-4f7cff630a3d",
      "metadata": {
        "id": "4ec00af2-8e16-4473-8b43-4f7cff630a3d"
      },
      "source": [
        "### Full Spark NLP + Spark MLLib pipeline"
      ]
    },
    {
      "cell_type": "code",
      "execution_count": null,
      "id": "69b8590b-2bf4-45b9-924d-d7438b87f08a",
      "metadata": {
        "id": "69b8590b-2bf4-45b9-924d-d7438b87f08a"
      },
      "outputs": [],
      "source": [
        "# We run the second part of the pipeline. Here 768 dimensions is reduced to 3 dimensions\n",
        "\n",
        "pipeline = nlp.Pipeline().setStages([embeddings_for_pca, pca])\n"
      ]
    },
    {
      "cell_type": "code",
      "execution_count": null,
      "id": "8207c543-9fb0-4187-a359-61abad891934",
      "metadata": {
        "id": "8207c543-9fb0-4187-a359-61abad891934",
        "tags": []
      },
      "outputs": [],
      "source": [
        "model = pipeline.fit(result_df)"
      ]
    },
    {
      "cell_type": "code",
      "execution_count": null,
      "id": "cf674445-20d2-4ee9-8409-6a3782794aae",
      "metadata": {
        "id": "cf674445-20d2-4ee9-8409-6a3782794aae"
      },
      "outputs": [],
      "source": [
        "result = model.transform(result_df)"
      ]
    },
    {
      "cell_type": "code",
      "execution_count": null,
      "id": "9093ca0e-e46e-40e8-8958-c47702fc4a43",
      "metadata": {
        "colab": {
          "base_uri": "https://localhost:8080/"
        },
        "id": "9093ca0e-e46e-40e8-8958-c47702fc4a43",
        "outputId": "a697bed3-95af-4997-ba5b-b5c5d894af25",
        "tags": []
      },
      "outputs": [
        {
          "name": "stdout",
          "output_type": "stream",
          "text": [
            "+----------+--------+------------------------------------------------------------+\n",
            "|     token|   label|                                                pca_features|\n",
            "+----------+--------+------------------------------------------------------------+\n",
            "|         I|Accounts|  [9.850468172808704,0.02182025684995559,1.7128883074588641]|\n",
            "|    called|Accounts|   [0.5703260311955864,0.346658149631252,-2.867726751670609]|\n",
            "|Huntington|Accounts|  [8.635450770647445,0.8802312004740499,-0.8417105564124523]|\n",
            "|      Bank|Accounts| [9.391061503515894,0.45066516018168057,-1.2157436459087525]|\n",
            "|        to|Accounts|  [-2.093784358504493,-1.1261933945050695,4.473374538741789]|\n",
            "|     close|Accounts| [-2.897764751048121,-0.1633032944974737,2.6316552582800594]|\n",
            "|        my|Accounts|    [3.542237747747922,-2.721495573008954,2.847896218683586]|\n",
            "|   account|Accounts|[-1.2533257167247633,0.006480340909400874,1.9023215773218...|\n",
            "|         ,|Accounts|  [-1.371343619695057,0.16043397738672746,2.236148062116737]|\n",
            "|       and|Accounts| [0.2574783722223581,-0.39882523377542006,4.898577649457495]|\n",
            "|      they|Accounts|  [2.649181792582909,-2.0965602813943836,3.0047699978661027]|\n",
            "|   refused|Accounts|   [-1.447842544994814,-3.120728385057716,1.623718089120733]|\n",
            "|        to|Accounts|   [-3.476136836992586,-0.955126757467589,5.927975835938944]|\n",
            "|     close|Accounts|  [-3.22033000871663,-0.09380183797818464,2.502218213385302]|\n",
            "|        my|Accounts|  [3.0773967959997126,-2.732351171853666,3.4638980333557523]|\n",
            "|   account|Accounts|[-1.7590956965611935,0.049200510343874765,2.0855752458205...|\n",
            "|      over|Accounts|  [-0.7852937839017823,-1.0837250583596254,2.77524528481479]|\n",
            "|       the|Accounts| [-1.9152538017789913,-0.5845586090479645,5.449708419677918]|\n",
            "|     phone|Accounts|  [-3.7960455527563335,-2.527243794119921,1.563631667500876]|\n",
            "|         .|Accounts|[-0.04212375650031434,-0.5960727710945473,0.4870793244043...|\n",
            "+----------+--------+------------------------------------------------------------+\n",
            "only showing top 20 rows\n",
            "\n"
          ]
        }
      ],
      "source": [
        "result.select(\"token\", \"label\", \"pca_features\").show(truncate = 60)"
      ]
    },
    {
      "cell_type": "code",
      "execution_count": null,
      "id": "2299c9bc-8e8e-4c49-ad29-133df31da543",
      "metadata": {
        "colab": {
          "base_uri": "https://localhost:8080/",
          "height": 424
        },
        "id": "2299c9bc-8e8e-4c49-ad29-133df31da543",
        "outputId": "16b3d720-7c81-4010-8e17-447d492f8330"
      },
      "outputs": [
        {
          "data": {
            "text/html": [
              "\n",
              "  <div id=\"df-21a6572f-181e-466f-8aeb-04926373f6b3\">\n",
              "    <div class=\"colab-df-container\">\n",
              "      <div>\n",
              "<style scoped>\n",
              "    .dataframe tbody tr th:only-of-type {\n",
              "        vertical-align: middle;\n",
              "    }\n",
              "\n",
              "    .dataframe tbody tr th {\n",
              "        vertical-align: top;\n",
              "    }\n",
              "\n",
              "    .dataframe thead th {\n",
              "        text-align: right;\n",
              "    }\n",
              "</style>\n",
              "<table border=\"1\" class=\"dataframe\">\n",
              "  <thead>\n",
              "    <tr style=\"text-align: right;\">\n",
              "      <th></th>\n",
              "      <th>token</th>\n",
              "      <th>label</th>\n",
              "      <th>pca_features</th>\n",
              "    </tr>\n",
              "  </thead>\n",
              "  <tbody>\n",
              "    <tr>\n",
              "      <th>0</th>\n",
              "      <td>I</td>\n",
              "      <td>Accounts</td>\n",
              "      <td>[9.850468172808704, 0.02182025684995559, 1.712...</td>\n",
              "    </tr>\n",
              "    <tr>\n",
              "      <th>1</th>\n",
              "      <td>called</td>\n",
              "      <td>Accounts</td>\n",
              "      <td>[0.5703260311955864, 0.346658149631252, -2.867...</td>\n",
              "    </tr>\n",
              "    <tr>\n",
              "      <th>2</th>\n",
              "      <td>Huntington</td>\n",
              "      <td>Accounts</td>\n",
              "      <td>[8.635450770647445, 0.8802312004740499, -0.841...</td>\n",
              "    </tr>\n",
              "    <tr>\n",
              "      <th>3</th>\n",
              "      <td>Bank</td>\n",
              "      <td>Accounts</td>\n",
              "      <td>[9.391061503515894, 0.45066516018168057, -1.21...</td>\n",
              "    </tr>\n",
              "    <tr>\n",
              "      <th>4</th>\n",
              "      <td>to</td>\n",
              "      <td>Accounts</td>\n",
              "      <td>[-2.093784358504493, -1.1261933945050695, 4.47...</td>\n",
              "    </tr>\n",
              "    <tr>\n",
              "      <th>...</th>\n",
              "      <td>...</td>\n",
              "      <td>...</td>\n",
              "      <td>...</td>\n",
              "    </tr>\n",
              "    <tr>\n",
              "      <th>1364</th>\n",
              "      <td>the</td>\n",
              "      <td>Mortgage</td>\n",
              "      <td>[0.20783178705004846, 1.2121685298369587, 2.34...</td>\n",
              "    </tr>\n",
              "    <tr>\n",
              "      <th>1365</th>\n",
              "      <td>company</td>\n",
              "      <td>Mortgage</td>\n",
              "      <td>[0.9758784877952482, 1.1525640123640015, 1.548...</td>\n",
              "    </tr>\n",
              "    <tr>\n",
              "      <th>1366</th>\n",
              "      <td>never</td>\n",
              "      <td>Mortgage</td>\n",
              "      <td>[-0.009449827591906173, -1.360506257943843, -0...</td>\n",
              "    </tr>\n",
              "    <tr>\n",
              "      <th>1367</th>\n",
              "      <td>responds</td>\n",
              "      <td>Mortgage</td>\n",
              "      <td>[-1.3105360623344586, -0.3952000653886483, -1....</td>\n",
              "    </tr>\n",
              "    <tr>\n",
              "      <th>1368</th>\n",
              "      <td>.</td>\n",
              "      <td>Mortgage</td>\n",
              "      <td>[1.732371824614684, -14.254692680656397, -4.51...</td>\n",
              "    </tr>\n",
              "  </tbody>\n",
              "</table>\n",
              "<p>1369 rows × 3 columns</p>\n",
              "</div>\n",
              "      <button class=\"colab-df-convert\" onclick=\"convertToInteractive('df-21a6572f-181e-466f-8aeb-04926373f6b3')\"\n",
              "              title=\"Convert this dataframe to an interactive table.\"\n",
              "              style=\"display:none;\">\n",
              "        \n",
              "  <svg xmlns=\"http://www.w3.org/2000/svg\" height=\"24px\"viewBox=\"0 0 24 24\"\n",
              "       width=\"24px\">\n",
              "    <path d=\"M0 0h24v24H0V0z\" fill=\"none\"/>\n",
              "    <path d=\"M18.56 5.44l.94 2.06.94-2.06 2.06-.94-2.06-.94-.94-2.06-.94 2.06-2.06.94zm-11 1L8.5 8.5l.94-2.06 2.06-.94-2.06-.94L8.5 2.5l-.94 2.06-2.06.94zm10 10l.94 2.06.94-2.06 2.06-.94-2.06-.94-.94-2.06-.94 2.06-2.06.94z\"/><path d=\"M17.41 7.96l-1.37-1.37c-.4-.4-.92-.59-1.43-.59-.52 0-1.04.2-1.43.59L10.3 9.45l-7.72 7.72c-.78.78-.78 2.05 0 2.83L4 21.41c.39.39.9.59 1.41.59.51 0 1.02-.2 1.41-.59l7.78-7.78 2.81-2.81c.8-.78.8-2.07 0-2.86zM5.41 20L4 18.59l7.72-7.72 1.47 1.35L5.41 20z\"/>\n",
              "  </svg>\n",
              "      </button>\n",
              "      \n",
              "  <style>\n",
              "    .colab-df-container {\n",
              "      display:flex;\n",
              "      flex-wrap:wrap;\n",
              "      gap: 12px;\n",
              "    }\n",
              "\n",
              "    .colab-df-convert {\n",
              "      background-color: #E8F0FE;\n",
              "      border: none;\n",
              "      border-radius: 50%;\n",
              "      cursor: pointer;\n",
              "      display: none;\n",
              "      fill: #1967D2;\n",
              "      height: 32px;\n",
              "      padding: 0 0 0 0;\n",
              "      width: 32px;\n",
              "    }\n",
              "\n",
              "    .colab-df-convert:hover {\n",
              "      background-color: #E2EBFA;\n",
              "      box-shadow: 0px 1px 2px rgba(60, 64, 67, 0.3), 0px 1px 3px 1px rgba(60, 64, 67, 0.15);\n",
              "      fill: #174EA6;\n",
              "    }\n",
              "\n",
              "    [theme=dark] .colab-df-convert {\n",
              "      background-color: #3B4455;\n",
              "      fill: #D2E3FC;\n",
              "    }\n",
              "\n",
              "    [theme=dark] .colab-df-convert:hover {\n",
              "      background-color: #434B5C;\n",
              "      box-shadow: 0px 1px 3px 1px rgba(0, 0, 0, 0.15);\n",
              "      filter: drop-shadow(0px 1px 2px rgba(0, 0, 0, 0.3));\n",
              "      fill: #FFFFFF;\n",
              "    }\n",
              "  </style>\n",
              "\n",
              "      <script>\n",
              "        const buttonEl =\n",
              "          document.querySelector('#df-21a6572f-181e-466f-8aeb-04926373f6b3 button.colab-df-convert');\n",
              "        buttonEl.style.display =\n",
              "          google.colab.kernel.accessAllowed ? 'block' : 'none';\n",
              "\n",
              "        async function convertToInteractive(key) {\n",
              "          const element = document.querySelector('#df-21a6572f-181e-466f-8aeb-04926373f6b3');\n",
              "          const dataTable =\n",
              "            await google.colab.kernel.invokeFunction('convertToInteractive',\n",
              "                                                     [key], {});\n",
              "          if (!dataTable) return;\n",
              "\n",
              "          const docLinkHtml = 'Like what you see? Visit the ' +\n",
              "            '<a target=\"_blank\" href=https://colab.research.google.com/notebooks/data_table.ipynb>data table notebook</a>'\n",
              "            + ' to learn more about interactive tables.';\n",
              "          element.innerHTML = '';\n",
              "          dataTable['output_type'] = 'display_data';\n",
              "          await google.colab.output.renderOutput(dataTable, element);\n",
              "          const docLink = document.createElement('div');\n",
              "          docLink.innerHTML = docLinkHtml;\n",
              "          element.appendChild(docLink);\n",
              "        }\n",
              "      </script>\n",
              "    </div>\n",
              "  </div>\n",
              "  "
            ],
            "text/plain": [
              "           token     label                                       pca_features\n",
              "0              I  Accounts  [9.850468172808704, 0.02182025684995559, 1.712...\n",
              "1         called  Accounts  [0.5703260311955864, 0.346658149631252, -2.867...\n",
              "2     Huntington  Accounts  [8.635450770647445, 0.8802312004740499, -0.841...\n",
              "3           Bank  Accounts  [9.391061503515894, 0.45066516018168057, -1.21...\n",
              "4             to  Accounts  [-2.093784358504493, -1.1261933945050695, 4.47...\n",
              "...          ...       ...                                                ...\n",
              "1364         the  Mortgage  [0.20783178705004846, 1.2121685298369587, 2.34...\n",
              "1365     company  Mortgage  [0.9758784877952482, 1.1525640123640015, 1.548...\n",
              "1366       never  Mortgage  [-0.009449827591906173, -1.360506257943843, -0...\n",
              "1367    responds  Mortgage  [-1.3105360623344586, -0.3952000653886483, -1....\n",
              "1368           .  Mortgage  [1.732371824614684, -14.254692680656397, -4.51...\n",
              "\n",
              "[1369 rows x 3 columns]"
            ]
          },
          "execution_count": 34,
          "metadata": {},
          "output_type": "execute_result"
        }
      ],
      "source": [
        "df = result.select('token', 'label', 'pca_features').toPandas()\n",
        "\n",
        "df"
      ]
    },
    {
      "cell_type": "code",
      "execution_count": null,
      "id": "20443a2f-9e6e-4cd2-885e-b42720bcb840",
      "metadata": {
        "colab": {
          "base_uri": "https://localhost:8080/",
          "height": 424
        },
        "id": "20443a2f-9e6e-4cd2-885e-b42720bcb840",
        "outputId": "ac0c709a-df3b-4bc7-9275-924524c4a823"
      },
      "outputs": [
        {
          "data": {
            "text/html": [
              "\n",
              "  <div id=\"df-a57600ec-91ad-42e8-97f1-d7a95d658926\">\n",
              "    <div class=\"colab-df-container\">\n",
              "      <div>\n",
              "<style scoped>\n",
              "    .dataframe tbody tr th:only-of-type {\n",
              "        vertical-align: middle;\n",
              "    }\n",
              "\n",
              "    .dataframe tbody tr th {\n",
              "        vertical-align: top;\n",
              "    }\n",
              "\n",
              "    .dataframe thead th {\n",
              "        text-align: right;\n",
              "    }\n",
              "</style>\n",
              "<table border=\"1\" class=\"dataframe\">\n",
              "  <thead>\n",
              "    <tr style=\"text-align: right;\">\n",
              "      <th></th>\n",
              "      <th>token</th>\n",
              "      <th>label</th>\n",
              "      <th>x</th>\n",
              "      <th>y</th>\n",
              "      <th>z</th>\n",
              "    </tr>\n",
              "  </thead>\n",
              "  <tbody>\n",
              "    <tr>\n",
              "      <th>0</th>\n",
              "      <td>I</td>\n",
              "      <td>Accounts</td>\n",
              "      <td>9.850468</td>\n",
              "      <td>0.021820</td>\n",
              "      <td>1.712888</td>\n",
              "    </tr>\n",
              "    <tr>\n",
              "      <th>1</th>\n",
              "      <td>called</td>\n",
              "      <td>Accounts</td>\n",
              "      <td>0.570326</td>\n",
              "      <td>0.346658</td>\n",
              "      <td>-2.867727</td>\n",
              "    </tr>\n",
              "    <tr>\n",
              "      <th>2</th>\n",
              "      <td>Huntington</td>\n",
              "      <td>Accounts</td>\n",
              "      <td>8.635451</td>\n",
              "      <td>0.880231</td>\n",
              "      <td>-0.841711</td>\n",
              "    </tr>\n",
              "    <tr>\n",
              "      <th>3</th>\n",
              "      <td>Bank</td>\n",
              "      <td>Accounts</td>\n",
              "      <td>9.391062</td>\n",
              "      <td>0.450665</td>\n",
              "      <td>-1.215744</td>\n",
              "    </tr>\n",
              "    <tr>\n",
              "      <th>4</th>\n",
              "      <td>to</td>\n",
              "      <td>Accounts</td>\n",
              "      <td>-2.093784</td>\n",
              "      <td>-1.126193</td>\n",
              "      <td>4.473375</td>\n",
              "    </tr>\n",
              "    <tr>\n",
              "      <th>...</th>\n",
              "      <td>...</td>\n",
              "      <td>...</td>\n",
              "      <td>...</td>\n",
              "      <td>...</td>\n",
              "      <td>...</td>\n",
              "    </tr>\n",
              "    <tr>\n",
              "      <th>1364</th>\n",
              "      <td>the</td>\n",
              "      <td>Mortgage</td>\n",
              "      <td>0.207832</td>\n",
              "      <td>1.212169</td>\n",
              "      <td>2.345686</td>\n",
              "    </tr>\n",
              "    <tr>\n",
              "      <th>1365</th>\n",
              "      <td>company</td>\n",
              "      <td>Mortgage</td>\n",
              "      <td>0.975878</td>\n",
              "      <td>1.152564</td>\n",
              "      <td>1.548878</td>\n",
              "    </tr>\n",
              "    <tr>\n",
              "      <th>1366</th>\n",
              "      <td>never</td>\n",
              "      <td>Mortgage</td>\n",
              "      <td>-0.009450</td>\n",
              "      <td>-1.360506</td>\n",
              "      <td>-0.080957</td>\n",
              "    </tr>\n",
              "    <tr>\n",
              "      <th>1367</th>\n",
              "      <td>responds</td>\n",
              "      <td>Mortgage</td>\n",
              "      <td>-1.310536</td>\n",
              "      <td>-0.395200</td>\n",
              "      <td>-1.634091</td>\n",
              "    </tr>\n",
              "    <tr>\n",
              "      <th>1368</th>\n",
              "      <td>.</td>\n",
              "      <td>Mortgage</td>\n",
              "      <td>1.732372</td>\n",
              "      <td>-14.254693</td>\n",
              "      <td>-4.517188</td>\n",
              "    </tr>\n",
              "  </tbody>\n",
              "</table>\n",
              "<p>1369 rows × 5 columns</p>\n",
              "</div>\n",
              "      <button class=\"colab-df-convert\" onclick=\"convertToInteractive('df-a57600ec-91ad-42e8-97f1-d7a95d658926')\"\n",
              "              title=\"Convert this dataframe to an interactive table.\"\n",
              "              style=\"display:none;\">\n",
              "        \n",
              "  <svg xmlns=\"http://www.w3.org/2000/svg\" height=\"24px\"viewBox=\"0 0 24 24\"\n",
              "       width=\"24px\">\n",
              "    <path d=\"M0 0h24v24H0V0z\" fill=\"none\"/>\n",
              "    <path d=\"M18.56 5.44l.94 2.06.94-2.06 2.06-.94-2.06-.94-.94-2.06-.94 2.06-2.06.94zm-11 1L8.5 8.5l.94-2.06 2.06-.94-2.06-.94L8.5 2.5l-.94 2.06-2.06.94zm10 10l.94 2.06.94-2.06 2.06-.94-2.06-.94-.94-2.06-.94 2.06-2.06.94z\"/><path d=\"M17.41 7.96l-1.37-1.37c-.4-.4-.92-.59-1.43-.59-.52 0-1.04.2-1.43.59L10.3 9.45l-7.72 7.72c-.78.78-.78 2.05 0 2.83L4 21.41c.39.39.9.59 1.41.59.51 0 1.02-.2 1.41-.59l7.78-7.78 2.81-2.81c.8-.78.8-2.07 0-2.86zM5.41 20L4 18.59l7.72-7.72 1.47 1.35L5.41 20z\"/>\n",
              "  </svg>\n",
              "      </button>\n",
              "      \n",
              "  <style>\n",
              "    .colab-df-container {\n",
              "      display:flex;\n",
              "      flex-wrap:wrap;\n",
              "      gap: 12px;\n",
              "    }\n",
              "\n",
              "    .colab-df-convert {\n",
              "      background-color: #E8F0FE;\n",
              "      border: none;\n",
              "      border-radius: 50%;\n",
              "      cursor: pointer;\n",
              "      display: none;\n",
              "      fill: #1967D2;\n",
              "      height: 32px;\n",
              "      padding: 0 0 0 0;\n",
              "      width: 32px;\n",
              "    }\n",
              "\n",
              "    .colab-df-convert:hover {\n",
              "      background-color: #E2EBFA;\n",
              "      box-shadow: 0px 1px 2px rgba(60, 64, 67, 0.3), 0px 1px 3px 1px rgba(60, 64, 67, 0.15);\n",
              "      fill: #174EA6;\n",
              "    }\n",
              "\n",
              "    [theme=dark] .colab-df-convert {\n",
              "      background-color: #3B4455;\n",
              "      fill: #D2E3FC;\n",
              "    }\n",
              "\n",
              "    [theme=dark] .colab-df-convert:hover {\n",
              "      background-color: #434B5C;\n",
              "      box-shadow: 0px 1px 3px 1px rgba(0, 0, 0, 0.15);\n",
              "      filter: drop-shadow(0px 1px 2px rgba(0, 0, 0, 0.3));\n",
              "      fill: #FFFFFF;\n",
              "    }\n",
              "  </style>\n",
              "\n",
              "      <script>\n",
              "        const buttonEl =\n",
              "          document.querySelector('#df-a57600ec-91ad-42e8-97f1-d7a95d658926 button.colab-df-convert');\n",
              "        buttonEl.style.display =\n",
              "          google.colab.kernel.accessAllowed ? 'block' : 'none';\n",
              "\n",
              "        async function convertToInteractive(key) {\n",
              "          const element = document.querySelector('#df-a57600ec-91ad-42e8-97f1-d7a95d658926');\n",
              "          const dataTable =\n",
              "            await google.colab.kernel.invokeFunction('convertToInteractive',\n",
              "                                                     [key], {});\n",
              "          if (!dataTable) return;\n",
              "\n",
              "          const docLinkHtml = 'Like what you see? Visit the ' +\n",
              "            '<a target=\"_blank\" href=https://colab.research.google.com/notebooks/data_table.ipynb>data table notebook</a>'\n",
              "            + ' to learn more about interactive tables.';\n",
              "          element.innerHTML = '';\n",
              "          dataTable['output_type'] = 'display_data';\n",
              "          await google.colab.output.renderOutput(dataTable, element);\n",
              "          const docLink = document.createElement('div');\n",
              "          docLink.innerHTML = docLinkHtml;\n",
              "          element.appendChild(docLink);\n",
              "        }\n",
              "      </script>\n",
              "    </div>\n",
              "  </div>\n",
              "  "
            ],
            "text/plain": [
              "           token     label         x          y         z\n",
              "0              I  Accounts  9.850468   0.021820  1.712888\n",
              "1         called  Accounts  0.570326   0.346658 -2.867727\n",
              "2     Huntington  Accounts  8.635451   0.880231 -0.841711\n",
              "3           Bank  Accounts  9.391062   0.450665 -1.215744\n",
              "4             to  Accounts -2.093784  -1.126193  4.473375\n",
              "...          ...       ...       ...        ...       ...\n",
              "1364         the  Mortgage  0.207832   1.212169  2.345686\n",
              "1365     company  Mortgage  0.975878   1.152564  1.548878\n",
              "1366       never  Mortgage -0.009450  -1.360506 -0.080957\n",
              "1367    responds  Mortgage -1.310536  -0.395200 -1.634091\n",
              "1368           .  Mortgage  1.732372 -14.254693 -4.517188\n",
              "\n",
              "[1369 rows x 5 columns]"
            ]
          },
          "execution_count": 35,
          "metadata": {},
          "output_type": "execute_result"
        }
      ],
      "source": [
        "df[\"x\"] = df[\"pca_features\"].apply(lambda x: x[0])\n",
        "\n",
        "df[\"y\"] = df[\"pca_features\"].apply(lambda x: x[1])\n",
        "\n",
        "df[\"z\"] = df[\"pca_features\"].apply(lambda x: x[2])\n",
        "\n",
        "df = df[[\"token\", \"label\", \"x\", \"y\", \"z\"]]\n",
        "\n",
        "df"
      ]
    },
    {
      "cell_type": "code",
      "execution_count": null,
      "id": "e96d9799-e838-4cdc-903e-dbd5cdc37aa9",
      "metadata": {
        "colab": {
          "base_uri": "https://localhost:8080/",
          "height": 817
        },
        "id": "e96d9799-e838-4cdc-903e-dbd5cdc37aa9",
        "outputId": "fc9faccb-52b9-4c50-914a-a83f2177fc66",
        "tags": []
      },
      "outputs": [
        {
          "data": {
            "text/html": [
              "<html>\n",
              "<head><meta charset=\"utf-8\" /></head>\n",
              "<body>\n",
              "    <div>            <script src=\"https://cdnjs.cloudflare.com/ajax/libs/mathjax/2.7.5/MathJax.js?config=TeX-AMS-MML_SVG\"></script><script type=\"text/javascript\">if (window.MathJax) {MathJax.Hub.Config({SVG: {font: \"STIX-Web\"}});}</script>                <script type=\"text/javascript\">window.PlotlyConfig = {MathJaxConfig: 'local'};</script>\n",
              "        <script src=\"https://cdn.plot.ly/plotly-2.8.3.min.js\"></script>                <div id=\"38d9d0cb-1251-46b8-a7d2-c87927cab1c1\" class=\"plotly-graph-div\" style=\"height:800px; width:1000px;\"></div>            <script type=\"text/javascript\">                                    window.PLOTLYENV=window.PLOTLYENV || {};                                    if (document.getElementById(\"38d9d0cb-1251-46b8-a7d2-c87927cab1c1\")) {                    Plotly.newPlot(                        \"38d9d0cb-1251-46b8-a7d2-c87927cab1c1\",                        [{\"customdata\":[[\"I\",\"Accounts\"],[\"called\",\"Accounts\"],[\"Huntington\",\"Accounts\"],[\"Bank\",\"Accounts\"],[\"to\",\"Accounts\"],[\"close\",\"Accounts\"],[\"my\",\"Accounts\"],[\"account\",\"Accounts\"],[\",\",\"Accounts\"],[\"and\",\"Accounts\"],[\"they\",\"Accounts\"],[\"refused\",\"Accounts\"],[\"to\",\"Accounts\"],[\"close\",\"Accounts\"],[\"my\",\"Accounts\"],[\"account\",\"Accounts\"],[\"over\",\"Accounts\"],[\"the\",\"Accounts\"],[\"phone\",\"Accounts\"],[\".\",\"Accounts\"],[\"They\",\"Accounts\"],[\"told\",\"Accounts\"],[\"me\",\"Accounts\"],[\"I\",\"Accounts\"],[\"HAD\",\"Accounts\"],[\"to\",\"Accounts\"],[\"go\",\"Accounts\"],[\"into\",\"Accounts\"],[\"a\",\"Accounts\"],[\"branch\",\"Accounts\"],[\"to\",\"Accounts\"],[\"close\",\"Accounts\"],[\"it\",\"Accounts\"],[\".\",\"Accounts\"],[\"I\",\"Accounts\"],[\"do\",\"Accounts\"],[\"not\",\"Accounts\"],[\"want\",\"Accounts\"],[\"the\",\"Accounts\"],[\"account\",\"Accounts\"],[\"anymore\",\"Accounts\"],[\",\",\"Accounts\"],[\"and\",\"Accounts\"],[\"it\",\"Accounts\"],[\"has\",\"Accounts\"],[\"a\",\"Accounts\"],[\"monthly\",\"Accounts\"],[\"fee\",\"Accounts\"],[\".\",\"Accounts\"],[\"I\",\"Accounts\"],[\"can\",\"Accounts\"],[\"not\",\"Accounts\"],[\"make\",\"Accounts\"],[\"it\",\"Accounts\"],[\"to\",\"Accounts\"],[\"a\",\"Accounts\"],[\"branch\",\"Accounts\"],[\"during\",\"Accounts\"],[\"business\",\"Accounts\"],[\"hours\",\"Accounts\"],[\",\",\"Accounts\"],[\"which\",\"Accounts\"],[\"I\",\"Accounts\"],[\"told\",\"Accounts\"],[\"the\",\"Accounts\"],[\"lady\",\"Accounts\"],[\"on\",\"Accounts\"],[\"the\",\"Accounts\"],[\"phone\",\"Accounts\"],[\",\",\"Accounts\"],[\"but\",\"Accounts\"],[\"she\",\"Accounts\"],[\"refused\",\"Accounts\"],[\"to\",\"Accounts\"],[\"make\",\"Accounts\"],[\"an\",\"Accounts\"],[\"exception\",\"Accounts\"],[\".\",\"Accounts\"],[\"I\",\"Accounts\"],[\"asked\",\"Accounts\"],[\"several\",\"Accounts\"],[\"more\",\"Accounts\"],[\"times\",\"Accounts\"],[\"to\",\"Accounts\"],[\"no\",\"Accounts\"],[\"avail\",\"Accounts\"],[\".\",\"Accounts\"],[\"It\",\"Accounts\"],[\"seems\",\"Accounts\"],[\"very\",\"Accounts\"],[\"unethical\",\"Accounts\"],[\"to\",\"Accounts\"],[\"me\",\"Accounts\"],[\"that\",\"Accounts\"],[\"they\",\"Accounts\"],[\"are\",\"Accounts\"],[\"making\",\"Accounts\"],[\"it\",\"Accounts\"],[\"so\",\"Accounts\"],[\"difficult\",\"Accounts\"],[\"to\",\"Accounts\"],[\"close\",\"Accounts\"],[\"my\",\"Accounts\"],[\"account\",\"Accounts\"],[\"with\",\"Accounts\"],[\"them\",\"Accounts\"],[\".\",\"Accounts\"],[\"I\",\"Accounts\"],[\"don't\",\"Accounts\"],[\"even\",\"Accounts\"],[\"know\",\"Accounts\"],[\"how\",\"Accounts\"],[\"I\",\"Accounts\"],[\"will\",\"Accounts\"],[\"do\",\"Accounts\"],[\"it\",\"Accounts\"],[\".\",\"Accounts\"],[\"I\",\"Accounts\"],[\"opened\",\"Accounts\"],[\"an\",\"Accounts\"],[\"citi\",\"Accounts\"],[\"account\",\"Accounts\"],[\"since\",\"Accounts\"],[\"day\",\"Accounts\"],[\"1\",\"Accounts\"],[\"i\",\"Accounts\"],[\"started\",\"Accounts\"],[\"having\",\"Accounts\"],[\"problems\",\"Accounts\"],[\".\",\"Accounts\"],[\"I\",\"Accounts\"],[\"wired\",\"Accounts\"],[\"transfered\",\"Accounts\"],[\"all\",\"Accounts\"],[\"my\",\"Accounts\"],[\"money\",\"Accounts\"],[\"to\",\"Accounts\"],[\"my\",\"Accounts\"],[\"other\",\"Accounts\"],[\"account\",\"Accounts\"],[\"and\",\"Accounts\"],[\"closed\",\"Accounts\"],[\"my\",\"Accounts\"],[\"account\",\"Accounts\"],[\".\",\"Accounts\"],[\"I\",\"Accounts\"],[\"asked\",\"Accounts\"],[\"the\",\"Accounts\"],[\"representative\",\"Accounts\"],[\"if\",\"Accounts\"],[\"my\",\"Accounts\"],[\"wire\",\"Accounts\"],[\"transfer\",\"Accounts\"],[\"will\",\"Accounts\"],[\"be\",\"Accounts\"],[\"affected\",\"Accounts\"],[\"from\",\"Accounts\"],[\"closure\",\"Accounts\"],[\"they\",\"Accounts\"],[\"said\",\"Accounts\"],[\"no\",\"Accounts\"],[\"so\",\"Accounts\"],[\"i\",\"Accounts\"],[\"went\",\"Accounts\"],[\"thru\",\"Accounts\"],[\"closing\",\"Accounts\"],[\".\",\"Accounts\"],[\"Out\",\"Accounts\"],[\"of\",\"Accounts\"],[\"2\",\"Accounts\"],[\"wire\",\"Accounts\"],[\"transfer\",\"Accounts\"],[\"one\",\"Accounts\"],[\"didnt\",\"Accounts\"],[\"go\",\"Accounts\"],[\"thru\",\"Accounts\"],[\".\",\"Accounts\"],[\"I\",\"Accounts\"],[\"called\",\"Accounts\"],[\"at\",\"Accounts\"],[\"least\",\"Accounts\"],[\"6\",\"Accounts\"],[\"times\",\"Accounts\"],[\"and\",\"Accounts\"],[\"customer\",\"Accounts\"],[\"service\",\"Accounts\"],[\"either\",\"Accounts\"],[\"putting\",\"Accounts\"],[\"me\",\"Accounts\"],[\"on\",\"Accounts\"],[\"hold\",\"Accounts\"],[\"or\",\"Accounts\"],[\"giving\",\"Accounts\"],[\"me\",\"Accounts\"],[\"another\",\"Accounts\"],[\"number\",\"Accounts\"],[\"to\",\"Accounts\"],[\"call\",\"Accounts\"],[\".\",\"Accounts\"],[\"My\",\"Accounts\"],[\"13\",\"Accounts\"],[\"k\",\"Accounts\"],[\"is\",\"Accounts\"],[\"lost\",\"Accounts\"],[\"and\",\"Accounts\"],[\"now\",\"Accounts\"],[\"my\",\"Accounts\"],[\"account\",\"Accounts\"],[\"is\",\"Accounts\"],[\"closed\",\"Accounts\"],[\".\",\"Accounts\"],[\"Ill\",\"Accounts\"],[\"call\",\"Accounts\"],[\"again\",\"Accounts\"],[\"in\",\"Accounts\"],[\"the\",\"Accounts\"],[\"morning\",\"Accounts\"],[\"but\",\"Accounts\"],[\"i\",\"Accounts\"],[\"know\",\"Accounts\"],[\"nothing\",\"Accounts\"],[\"will\",\"Accounts\"],[\"be\",\"Accounts\"],[\"resolved\",\"Accounts\"],[\".\",\"Accounts\"],[\"I\",\"Accounts\"],[\"regret\",\"Accounts\"],[\"to\",\"Accounts\"],[\"even\",\"Accounts\"],[\"come\",\"Accounts\"],[\"close\",\"Accounts\"],[\"to\",\"Accounts\"],[\"citi\",\"Accounts\"],[\"bank\",\"Accounts\"],[\".\",\"Accounts\"],[\"I\",\"Accounts\"],[\"want\",\"Accounts\"],[\"my\",\"Accounts\"],[\"money\",\"Accounts\"]],\"hovertemplate\":\"label=%{customdata[1]}<br>x=%{x}<br>y=%{y}<br>z=%{z}<br>token=%{customdata[0]}<extra></extra>\",\"legendgroup\":\"Accounts\",\"marker\":{\"color\":\"#636efa\",\"symbol\":\"circle\"},\"mode\":\"markers\",\"name\":\"Accounts\",\"scene\":\"scene\",\"showlegend\":true,\"x\":[9.850468172808704,0.5703260311955864,8.635450770647445,9.391061503515894,-2.093784358504493,-2.897764751048121,3.542237747747922,-1.2533257167247633,-1.371343619695057,0.2574783722223581,2.649181792582909,-1.447842544994814,-3.476136836992586,-3.22033000871663,3.0773967959997126,-1.7590956965611935,-0.7852937839017823,-1.9152538017789913,-3.7960455527563335,-0.04212375650031434,13.554967588496204,-0.8371668833255712,0.23183794817918568,10.371239154678593,8.41699942360363,-2.6779580573879977,-2.622206020334542,-1.8482916377136616,-1.6472480956069642,-1.7843371044804908,-3.3511647326133693,-3.5194870029861196,-2.28663616565687,-0.7110032972599242,13.113686789139425,-1.3924326650659085,-1.6348926183874835,-3.5238169578190512,-1.349618417553985,-1.8263176515427806,-1.9074661596197788,-1.6840645915532422,-0.42996325031702115,-0.9460127756134458,-3.137418272222082,-2.9988514981472045,-3.4611845648295185,-2.475604845893753,-0.174218457700022,14.322776794072862,-2.5376536669392453,-2.1941311150946383,-2.805321951484835,-2.7832615524958637,-4.017728691876025,-1.952930007274263,-1.724362141039529,-2.3104995312850782,-1.3800177762234302,-2.537113182518155,-1.8665715336279673,-0.1703397992013835,13.57201680648523,-1.472024524571045,0.5175846106971582,-0.34178628850709375,-3.464627384796636,-2.0483264984960625,-3.4625080089774873,-1.8505612861690792,-0.13811457005889496,0.7621293885737319,-1.451489997354875,-3.6154372097587393,-2.5466668972911157,-2.332403476715964,-3.4161529612200456,0.4089018884736977,13.981270045091138,-2.2462622724128667,-2.515301283505665,-1.791534275876742,1.3053766939670224,-3.0891446177433437,-2.648329352385606,-1.9833886052470266,0.33906812323846625,14.49929129300399,2.5368643756186637,-3.09001943664151,0.3023299825712175,-2.901991464373494,0.5535686121540314,0.7779328829595515,2.0607365832170377,-1.998050142484113,-2.7993689533794592,-1.0182644811259822,-2.282414055050343,-3.535632776582569,-3.235157733476616,-3.1808423477135417,3.440893544323479,-1.3564313198961484,-1.633253469578665,0.31576425559408206,0.5347780655937454,13.482116633829074,1.216518742023961,-0.7857875390212038,-2.4242714293952323,-2.8608705043697364,9.108000952217028,-2.6915780536419667,-3.807620347284997,-2.6130088890368532,0.5683992567418243,11.616904524224026,-4.303480143471853,-1.6986352093768124,-0.8815264708769,-2.29713551248967,-1.7015341275307994,-0.2892539393569224,0.38529136063728103,2.474663879572684,-4.606766644113483,-3.377858421821106,-1.6560573834041108,-0.09580241497863987,12.819568890840246,2.0609105378119965,-1.1337054975534901,-1.0861092792361329,2.4884708351423606,-2.6683923797017424,-4.052971268319968,3.144858763888248,-1.1413347058648915,-1.9620896414044005,0.3751598416815454,-3.1473397849935263,3.172700407946279,-2.3251267127761106,-0.3844316697054492,12.740730789876222,-3.43185050264909,-1.558679814251062,-2.3894450438131516,-1.3474702182949925,1.2377281685922616,-1.8330074574990083,-1.353552687904491,-2.280003030105342,-2.642963181413016,-2.627566744560975,-0.8661889010195819,-1.2436411169552621,1.4949851957109028,-1.4034330405426954,-1.331877727437814,-1.4489400499097562,1.0322008106398177,-4.874627976196797,-2.899665175418076,-1.959030119426856,-0.40858159332437677,10.892826418083922,-1.6422450323624118,-1.113929198287712,-1.6796409252946778,-1.0708400074672446,0.5472344306285756,-3.946873317792703,-3.8946147055980758,-2.845949909718986,-0.16870011923011097,12.506345684325742,-2.856713581587598,-0.8343486768087955,-1.0988996689889408,-0.42685528434578196,-1.1663847339567721,-2.0198632042381695,-0.6426210655011444,-2.0161330404990854,-2.1170715964490965,-2.677842730259612,-1.9015841637518527,-3.3951139147937184,-2.8229753149746455,-2.3060852616570013,-2.798588986305158,-1.671166222416643,-3.7104684464763587,-3.1410767401488746,-3.0512535858442753,-3.037434501264844,-0.711603888991825,11.363387428185066,-1.106143911858129,-1.3467579049821472,-1.8100931531796352,-2.2078462667767553,-1.1935150554836154,-0.9863257133893334,3.010489217616921,-2.2516343479984617,-1.8895841005187213,-2.370383206833373,-0.8267516812328742,11.732031080185148,-3.0809217275551197,-3.447684126044894,-3.0385416296257546,-1.8472045123525302,-1.7162262084147963,-1.928846320714997,2.0649821765143788,-2.497847824203976,-1.4390378225824239,-3.1425397689502272,-3.0367299537948766,-2.829091403472881,-0.4590371899845088,12.379078300177268,-2.7487323799757077,-3.0342547048266075,-1.1355958204241519,-2.2508483072533982,-3.1597619516661175,-4.4219970016421835,-2.6320124616458274,-2.219689289187089,-0.5689121644565973,11.871970220357472,-2.7393768119877846,1.2931832025064405,-2.4350358990192245],\"y\":[0.02182025684995559,0.346658149631252,0.8802312004740499,0.45066516018168057,-1.1261933945050695,-0.1633032944974737,-2.721495573008954,0.006480340909400874,0.16043397738672746,-0.39882523377542006,-2.0965602813943836,-3.120728385057716,-0.955126757467589,-0.09380183797818464,-2.732351171853666,0.049200510343874765,-1.0837250583596254,-0.5845586090479645,-2.527243794119921,-0.5960727710945473,-1.118026049085562,-3.0456934341953636,-4.583424316324286,-0.583339401865467,-0.8582549024684695,-1.7613739371788069,-2.305274210722746,-0.8940492988083013,0.06459252818072775,0.40400041502721545,-0.4981597834934769,-0.15312019439565616,-1.0585922534197194,-0.5610545134783627,-1.4886956393653408,-2.850913335688683,-2.0412113363096687,-0.6153034397558148,-0.29914723248597197,1.1251880162379042,0.6317800370351258,0.5571259637789312,-0.6216575410147753,-1.6677535595870214,-1.5743006334649823,-1.4092184201586506,0.43791081351598443,1.5648462309892301,-0.549698980578587,-0.7873657098814942,-2.4238982054071445,-1.953556671671704,-0.727872287996837,-1.5159975701938513,-0.9367677663362516,0.1896111661594489,0.812042995167048,0.609812321308435,1.0313136653252148,0.04496329047197283,0.07624424537848862,0.834565301789287,-1.2703411706305114,-2.733706721124122,-0.3004877198763524,2.2628604534156076,-1.315629195822634,-0.802342004799768,-2.32637874869921,0.2137977634518799,-3.0000375339238796,-2.520688662809287,-3.1775803344620592,-1.8095032848016097,-0.9602429804641757,-0.10099679142780585,0.40842582930713806,-13.872301384213548,-0.9486295416891782,-0.879040726800209,-0.214835673249463,-0.04961212075375946,-0.3674797528050957,-1.1950485758935887,0.8975171288606364,2.3280287347523525,-11.554336163760068,-0.3444520146382659,-3.3423537927317675,-3.2748345860238746,-2.66309877993323,-2.7805332054926994,-4.724062177553605,-1.9478079538508442,-2.634281581190313,-2.760559865415484,-1.6128677594500327,-2.570909747137506,-0.29161481449766685,-1.8697602651285248,-1.5804113914768159,-0.06442272814781648,-2.824901562931339,0.40878820559250617,0.3945218499254166,-1.4079848549274192,-15.588009891546522,-0.2266748947042984,-0.07506039056012048,-2.0449579077778446,-3.289007228231403,-3.7047609266398482,-0.7468774732626133,-1.998405425381784,-3.7416727958799267,-2.921052297180492,-15.794040661550618,-0.04851531656792521,0.6314939881497464,1.8058188686593184,1.2302494684451053,1.6785671330915994,1.0731218887881009,1.269277628061276,0.2581739125186295,-2.270950443489078,-1.7304886946057918,0.4466812801003248,1.345531875554309,-0.040805130912385405,0.37838273134507044,1.6746146445614012,1.3744900092290289,0.9180155680034501,-2.6228498343917797,0.06623005810025596,0.27362618373836056,-2.1457722795261573,1.9698357303291734,1.862286316275614,0.3139805513377074,0.4783160115089175,-2.51220472212954,0.8105026140906926,-13.778846522607614,-0.3074590313081612,-0.7136498130166267,0.9481298542701603,2.3182822786260076,-0.11066616722202587,-1.375488120987013,2.35302791256335,3.5502156609482585,-0.19599492386166556,0.15503190797939073,1.1658614445636064,-0.16389817094681422,1.2290544580977543,-1.836220241483634,-3.138911986733476,-0.7887653564187411,-1.6165364687050374,-3.1417790182162926,-2.675713508643438,-1.3432069818700654,1.7502930166658472,0.2167904152688298,0.9938067437953322,1.3807434377103853,1.2043808690658862,2.1419510804357778,2.8327568916848325,-0.0638763368135685,-1.921658792865988,-2.8050653052579544,-1.5684807733996875,-0.5939786982964066,-0.06520542640357094,0.4717177272748139,0.4881761092287078,0.13392199282815478,0.21787693197419597,0.9524505641965519,1.4139662904259427,1.151814345641632,1.2430696893075164,0.5119893800972353,-0.5298887986810829,-2.8588761676931127,-1.3608470300719426,1.5229768370267973,0.5180455244611639,-0.5402147049399325,-3.9761309196448353,-0.5639390148070726,0.3063644817535728,-0.8926531848668546,-0.24664838529798944,-0.11498161988236714,0.47072781400303626,1.2922870006402967,1.119206586809271,-0.7085405002908468,0.5899787430613114,-0.15856448008668714,-0.9387422830008798,-2.610607364773554,0.68723911939811,-0.8574493190213675,0.28521996561787516,-0.274584152953801,-0.5147582580043091,-0.28217753567782417,-0.11616129878443782,0.23004996059385213,0.22011783400228283,0.06931049186226174,-2.869188933506914,-4.092547798286516,-4.5016687697240965,-2.841092986987483,-1.8977997200441783,-1.198465484611884,1.0097692815315795,-13.182269203775457,0.030802686771393903,-0.15549444521923492,-1.0675700164998188,-0.11071256433934987,-1.4200132355868802,-0.8529451047261861,-0.5750235236669133,0.7748587318343212,2.1329185533197257,0.09501540680527032,-0.08606521360707257,0.518539999059711,-2.7393494344060683,-1.0911696921145715],\"z\":[1.7128883074588641,-2.867726751670609,-0.8417105564124523,-1.2157436459087525,4.473374538741789,2.6316552582800594,2.847896218683586,1.9023215773218278,2.236148062116737,4.898577649457495,3.0047699978661027,1.623718089120733,5.927975835938944,2.502218213385302,3.4638980333557523,2.0855752458205323,2.77524528481479,5.449708419677918,1.563631667500876,0.4870793244043964,3.1720349958625613,0.5903827512517095,-0.8541073570293051,-0.24913071058765907,-0.2447986255242637,4.825306278446087,3.315544826160332,3.6696371833231676,5.659568583662933,0.9617581139686946,5.736236239428094,2.364452920996105,3.1838989335563035,0.733365861125016,4.317906892896585,3.638063844441238,4.030906228943379,-1.5953300063498457,3.2491797571076457,1.6456539569012445,0.06309465164626794,1.5160178987746127,4.329139596768525,3.577368461021538,3.748748918251081,5.084783166188887,0.4859184462452842,-0.3508173592905928,0.2799393581127657,3.6474007660258034,3.0553426318910066,4.5529486458698685,3.0866405985592604,2.9705493336195548,4.055125807624762,5.092683164317291,0.9074145300387797,3.689895809546749,2.1781928543002715,1.9951006865363807,2.54203701289818,0.550001908642392,2.0203595582159655,0.3462611780970779,3.190951636181769,-2.0874485504762528,3.7294532763773764,5.066564606218032,1.9856246326397573,1.9753486639640543,5.001094424052039,1.673973488665525,2.4353066681098055,6.70421801758098,4.221934784718238,4.484203323010991,-0.5273986131883289,-2.049783592028464,3.5401640274090775,-1.3662294331045446,2.051124373109426,1.0346332302105627,-2.082590210241899,3.4514665758868617,-1.6014479030878557,-2.343277096943022,-1.5711377551356058,3.1843120975358943,-0.5064323110699792,4.146508451627566,-0.3063526091733607,4.533927045662298,0.7570400298641404,4.358559986448243,3.8606077339495566,4.4892497753259,1.7884357470740608,4.5475321087986185,-0.33800052889921706,3.048009058927053,5.473796021279651,2.001039535632232,3.0284393830463503,1.7938151352491585,1.8214342399098618,1.6040928946952318,-2.559967225933494,2.8602818642279564,-1.3112674522776793,0.520705737252069,1.0271529960621166,2.968907553832071,0.0720216633287121,4.130428943331697,2.9830236709100095,2.630802519213189,-2.6216418315552095,2.839636580502013,1.7567604069451384,2.721036798113172,-1.677738810627982,0.37068576873818326,-0.6647521660097812,-2.10125562938202,2.233651604381034,2.0407015976798872,-0.5775654342523183,0.27135923874332196,-2.4419069637756117,-1.6062507056174662,2.9200226711685526,-2.3691798075556934,-2.951207120624249,1.4147181709424406,1.9709113257962045,-1.2729391312897234,5.225557756957379,3.2210720878021752,-0.9396371949123241,-0.7556933725306809,3.9275152857119227,0.999837176009274,3.2745351043727116,1.5039004944942713,-4.139401388877678,2.911881185351966,0.39309444743895583,2.540151242429219,-2.723935452742589,2.4740781172404644,2.914598711979136,-0.6617489656906377,0.09017115148498621,2.5189500693074955,3.5834539089160797,-1.9206693941487905,0.12767236974002003,-2.6533664970838644,0.13018406148628672,-1.682054710054611,0.21591157859847196,-1.9527863397509138,2.2658643169491937,0.7129166401255348,-0.1971498787316208,-1.023313488122573,-1.0980810365684173,-0.22160352039422956,-1.0354525246671746,-0.7232568406669431,-0.5098182700026749,0.5706088001741715,0.31074526922457274,1.0921764302086556,2.733706034585052,1.771888994846682,-0.011971583224076056,2.4344369607024943,-2.260074940134072,2.7672942018266187,-0.3940722194761098,-0.04035012526957514,-2.5303107222131667,-0.5474187223668706,-1.3761340196524723,-2.454022968325057,0.033413445724644567,-0.4402538190442603,-0.7250846492647772,5.008279778758761,-0.8079484890849832,2.377324831589949,0.5926551674615987,0.17087051830430403,1.6873737492353345,-1.8178228602399045,3.2455800790100304,-0.2591424425555202,-1.0099565182007844,2.287370252777773,-2.1079168671388238,-3.163643349603438,2.9193347753434042,-1.73209058727491,3.5511465123886183,-1.7130978634376084,3.113088226624999,1.2972842984241495,4.443656916605116,0.4405182298320631,-0.5853114259313299,3.563203588326687,-0.04298890852242006,-0.17437562373315824,4.3211344186783,4.071459402856116,-1.6458311962228795,2.7658739852922163,2.821779678191156,0.7651414057313758,-0.14367026149708126,3.7238931874841694,4.64729513542904,-1.042832263430642,-3.9766977515249904,2.9739706358549785,-2.222415319719576,2.5171455446823687,0.8356456624004346,1.5889402287660728,1.0443196049613368,3.8081832876418242,-0.12538634440115093,-2.3292827483003427,-0.90426262309108,2.9345281874018676,-3.604542156360938,1.7271480624240503,-2.711573031622341],\"type\":\"scatter3d\"},{\"customdata\":[[\"I\",\"Credit Cards\"],[\"have\",\"Credit Cards\"],[\"been\",\"Credit Cards\"],[\"a\",\"Credit Cards\"],[\"long\",\"Credit Cards\"],[\"time\",\"Credit Cards\"],[\"card\",\"Credit Cards\"],[\"customer\",\"Credit Cards\"],[\"with\",\"Credit Cards\"],[\"American\",\"Credit Cards\"],[\"Express\",\"Credit Cards\"],[\".\",\"Credit Cards\"],[\"Never\",\"Credit Cards\"],[\"missed\",\"Credit Cards\"],[\"a\",\"Credit Cards\"],[\"payment\",\"Credit Cards\"],[\"or\",\"Credit Cards\"],[\"had\",\"Credit Cards\"],[\"any\",\"Credit Cards\"],[\"problems\",\"Credit Cards\"],[\".\",\"Credit Cards\"],[\"I\",\"Credit Cards\"],[\"received\",\"Credit Cards\"],[\"a\",\"Credit Cards\"],[\"new\",\"Credit Cards\"],[\"offer\",\"Credit Cards\"],[\"to\",\"Credit Cards\"],[\"spend\",\"Credit Cards\"],[\"over\",\"Credit Cards\"],[\"{$4000.00}\",\"Credit Cards\"],[\"and\",\"Credit Cards\"],[\"receive\",\"Credit Cards\"],[\"bonus\",\"Credit Cards\"],[\"points\",\"Credit Cards\"],[\",\",\"Credit Cards\"],[\"flight\",\"Credit Cards\"],[\"credits\",\"Credit Cards\"],[\",\",\"Credit Cards\"],[\"hotels\",\"Credit Cards\"],[\"credits\",\"Credit Cards\"],[\",\",\"Credit Cards\"],[\"etc.Upon\",\"Credit Cards\"],[\"using\",\"Credit Cards\"],[\"the\",\"Credit Cards\"],[\"card\",\"Credit Cards\"],[\"to\",\"Credit Cards\"],[\"buy\",\"Credit Cards\"],[\"something\",\"Credit Cards\"],[\"that\",\"Credit Cards\"],[\"cost\",\"Credit Cards\"],[\"over\",\"Credit Cards\"],[\"{$4000.00}\",\"Credit Cards\"],[\"my\",\"Credit Cards\"],[\"account\",\"Credit Cards\"],[\"was\",\"Credit Cards\"],[\"suspended\",\"Credit Cards\"],[\"and\",\"Credit Cards\"],[\"now\",\"Credit Cards\"],[\"American\",\"Credit Cards\"],[\"Express\",\"Credit Cards\"],[\"is\",\"Credit Cards\"],[\"asking\",\"Credit Cards\"],[\"for\",\"Credit Cards\"],[\"personal\",\"Credit Cards\"],[\"income\",\"Credit Cards\"],[\"information\",\"Credit Cards\"],[\".\",\"Credit Cards\"],[\"After\",\"Credit Cards\"],[\"going\",\"Credit Cards\"],[\"back\",\"Credit Cards\"],[\"and\",\"Credit Cards\"],[\"forth\",\"Credit Cards\"],[\"asking\",\"Credit Cards\"],[\"them\",\"Credit Cards\"],[\"to\",\"Credit Cards\"],[\"grant\",\"Credit Cards\"],[\"me\",\"Credit Cards\"],[\"my\",\"Credit Cards\"],[\"credit\",\"Credit Cards\"],[\"as\",\"Credit Cards\"],[\"was\",\"Credit Cards\"],[\"outlined\",\"Credit Cards\"],[\"in\",\"Credit Cards\"],[\"the\",\"Credit Cards\"],[\"agreement\",\"Credit Cards\"],[\".\",\"Credit Cards\"],[\"They\",\"Credit Cards\"],[\"have\",\"Credit Cards\"],[\"refused\",\"Credit Cards\"],[\"to\",\"Credit Cards\"],[\"do\",\"Credit Cards\"],[\"so\",\"Credit Cards\"],[\".\",\"Credit Cards\"],[\"My\",\"Credit Cards\"],[\"credit\",\"Credit Cards\"],[\"limit\",\"Credit Cards\"],[\"with\",\"Credit Cards\"],[\"Synchrony\",\"Credit Cards\"],[\"Bank\",\"Credit Cards\"],[\"was\",\"Credit Cards\"],[\"{$3000.00}\",\"Credit Cards\"],[\",\",\"Credit Cards\"],[\"I\",\"Credit Cards\"],[\"made\",\"Credit Cards\"],[\"a\",\"Credit Cards\"],[\"payment\",\"Credit Cards\"],[\"of\",\"Credit Cards\"],[\"{$1000.00}\",\"Credit Cards\"],[\"and\",\"Credit Cards\"],[\"the\",\"Credit Cards\"],[\"credit\",\"Credit Cards\"],[\"card\",\"Credit Cards\"],[\"company\",\"Credit Cards\"],[\"lowered\",\"Credit Cards\"],[\"my\",\"Credit Cards\"],[\"credit\",\"Credit Cards\"],[\"limit\",\"Credit Cards\"],[\"to\",\"Credit Cards\"],[\"{$500.00}\",\"Credit Cards\"],[\"stating\",\"Credit Cards\"],[\"it\",\"Credit Cards\"],[\"was\",\"Credit Cards\"],[\"due\",\"Credit Cards\"],[\"to\",\"Credit Cards\"],[\"my\",\"Credit Cards\"],[\"credit\",\"Credit Cards\"],[\"score\",\"Credit Cards\"],[\",\",\"Credit Cards\"],[\"serious\",\"Credit Cards\"],[\"delinquency\",\"Credit Cards\"],[\",\",\"Credit Cards\"],[\"proportion\",\"Credit Cards\"],[\"of\",\"Credit Cards\"],[\"balances\",\"Credit Cards\"],[\",\",\"Credit Cards\"],[\"revolving\",\"Credit Cards\"],[\"accounts\",\"Credit Cards\"],[\"to\",\"Credit Cards\"],[\"high\",\"Credit Cards\"],[\",\",\"Credit Cards\"],[\"number\",\"Credit Cards\"],[\"of\",\"Credit Cards\"],[\"delinquency\",\"Credit Cards\"],[\",\",\"Credit Cards\"],[\"and\",\"Credit Cards\"],[\"length\",\"Credit Cards\"],[\"of\",\"Credit Cards\"],[\"time\",\"Credit Cards\"],[\"accounts\",\"Credit Cards\"],[\"have\",\"Credit Cards\"],[\"been\",\"Credit Cards\"],[\"established\",\"Credit Cards\"],[\".\",\"Credit Cards\"],[\"Which\",\"Credit Cards\"],[\"is\",\"Credit Cards\"],[\"not\",\"Credit Cards\"],[\"true\",\"Credit Cards\"],[\",\",\"Credit Cards\"],[\"I\",\"Credit Cards\"],[\"have\",\"Credit Cards\"],[\"been\",\"Credit Cards\"],[\"paying\",\"Credit Cards\"],[\"my\",\"Credit Cards\"],[\"creditors\",\"Credit Cards\"],[\"on\",\"Credit Cards\"],[\"time\",\"Credit Cards\"],[\"for\",\"Credit Cards\"],[\"well\",\"Credit Cards\"],[\"over\",\"Credit Cards\"],[\"two\",\"Credit Cards\"],[\"years\",\"Credit Cards\"],[\",\",\"Credit Cards\"],[\"I\",\"Credit Cards\"],[\"have\",\"Credit Cards\"],[\"paid\",\"Credit Cards\"],[\"off\",\"Credit Cards\"],[\"have\",\"Credit Cards\"],[\"the\",\"Credit Cards\"],[\"balances\",\"Credit Cards\"],[\"on\",\"Credit Cards\"],[\"my\",\"Credit Cards\"],[\"accounts\",\"Credit Cards\"],[\".\",\"Credit Cards\"],[\"Yes\",\"Credit Cards\"],[\"my\",\"Credit Cards\"],[\"credit\",\"Credit Cards\"],[\"score\",\"Credit Cards\"],[\"is\",\"Credit Cards\"],[\"low\",\"Credit Cards\"],[\",\",\"Credit Cards\"],[\"but\",\"Credit Cards\"],[\"I\",\"Credit Cards\"],[\"am\",\"Credit Cards\"],[\"working\",\"Credit Cards\"],[\"on\",\"Credit Cards\"],[\"my\",\"Credit Cards\"],[\"credit\",\"Credit Cards\"],[\".\",\"Credit Cards\"]],\"hovertemplate\":\"label=%{customdata[1]}<br>x=%{x}<br>y=%{y}<br>z=%{z}<br>token=%{customdata[0]}<extra></extra>\",\"legendgroup\":\"Credit Cards\",\"marker\":{\"color\":\"#EF553B\",\"symbol\":\"circle\"},\"mode\":\"markers\",\"name\":\"Credit Cards\",\"scene\":\"scene\",\"showlegend\":true,\"x\":[12.281744111777417,1.6689714608650117,-2.18712265341375,-2.4602804719786655,-2.5355165575571017,-3.3259840651978125,-1.7513473533044743,-1.3253522110115339,-0.5255119351224395,8.576857389207321,7.424389655510059,1.5054328686554372,12.26358825841975,-3.245622823841236,-2.665809591292155,-2.728814629113099,-0.8054002461033991,-3.305214864544223,-1.320641440951781,-1.3228705432297316,0.6245067690458445,13.202258421261662,-1.4940306538061887,-2.032389978755246,-0.9041699659942383,-2.612623391979612,-2.610199334093695,-3.1375564375179112,-0.45199319637543445,-0.8980335686311326,-0.7530123420342681,-1.247622756480467,-2.061892446936472,-3.1658833046286037,-2.670140270912491,-2.592563519220381,-3.1554010510602484,-2.2594348248573866,-1.9319387935796855,-2.989193413403122,-1.6259494404526438,-0.3537945527581734,-2.054878328780158,-0.83077461695546,-1.691075347955914,-2.98584526471121,-3.96216244249596,-1.893896509775725,-0.980785609962649,-3.002018679154839,-0.3221784008802873,2.5485193692360544,5.2092007529022935,-0.8321564513056745,-2.2196028292971985,-1.157236461960913,1.511544201301079,0.7337491561652175,10.234831795867368,11.335087827621598,-0.5179893795970847,-0.9182319266855656,-2.2415274927134283,-1.0600252250225985,-3.265863334343678,-3.2741963737139175,0.6977682722479714,12.628663461000656,-2.5563447292302963,-2.654741151835436,-1.3157420999920622,0.39394579408927827,-1.4783314122107751,-0.7036632560705659,-3.063082068448594,-2.7917335902532177,-0.5273472351941434,2.1234806273078934,-2.5135102639091707,-1.7337322663277206,-2.6818810186631055,-0.5068107697693616,-2.302515986486316,-1.2333284747809095,-1.7181871427459816,0.059155466155728406,13.20410235518763,1.512969019163408,-1.0772878270002524,-3.2930051852403306,-3.570825348720096,-2.432235676793412,0.0647105120850949,7.945691769557282,-0.987868921358226,-2.1531353380998173,0.18295774499983408,9.59388158222722,7.267166228766967,-2.1052372513347137,-0.8595760200638789,-0.7768311430390193,11.873362792379888,-2.0187445155146664,-2.317301854671033,-2.2758824686820858,-1.526145013804646,0.4583514308896814,0.2735851682654684,-0.5919288406382295,-1.034186943361602,-2.111225712358063,-2.2075261793977594,-2.6297842777897644,3.5611661485850727,-0.9933941958859669,-2.1566763292106046,-3.6754069926744855,2.5655377465480305,0.7361252039831976,-0.1606404061560384,-3.4359494246070357,-2.5376905375515983,-3.103908802914374,3.6042685605236975,-1.1976631468866168,-3.3833667126479354,-2.259616665934316,-0.6498955628410817,-2.3207761155724973,-2.078765730063062,-1.2725946270263602,-2.1041846030889166,-0.948170974696481,-1.849121485319172,-0.03336802645715384,-0.4198449961082755,-2.4360350347759283,0.08828128021011611,-1.8454169194494905,-3.0968834510059517,-2.596745861835025,-2.2124152017968344,-1.4608387169385824,-1.51888637154466,-2.8060583906100987,-2.950869801056269,-2.615914247869319,0.38289607198260245,-1.4785389765232095,-2.51554551778432,-1.7565910270911842,1.0538255548994346,12.079680300979494,-0.6328521928395479,-1.1516835409977282,-1.0145260934493583,-0.8922807254437485,13.430520806415597,1.7008456594351662,-1.921931501346035,-1.8594235083288786,3.795296453976869,-0.07967733372259868,-1.690841313713358,-2.0759670132546106,-2.6620473466881465,-1.5090904432402612,-0.9399316820542152,-4.698875753425296,-1.863940544664181,-0.555710031475039,13.864569804525813,-0.3704736504004581,-2.0093893123831257,-1.7881075459395381,-0.6407305604484207,-1.9075163324822069,-1.5301382324288344,-3.2590721154174638,3.7461192877368563,-0.3019748470056893,-0.7883652279853206,12.86473413694994,4.469822946765082,-0.9764108426721028,-3.39888862207917,-1.905488283948623,-1.9032040565784594,-1.4021708705105298,-0.21482183761618123,13.178051647994828,-0.023126176280847642,-2.22420671567003,-2.9310495174616515,3.4590652518889655,-1.4007391441385948,1.1209803301847647],\"y\":[0.28248572544395534,-0.5018078884394219,-0.48562626443452567,0.42829726345551866,1.0494604601443296,2.5147105706743567,2.561231525615142,2.687770807303378,2.1462769177062446,2.3187218831024086,3.093928007123175,1.2129219466305674,1.3496531250273007,0.8220385637222656,1.320549784632007,1.7826570696506876,1.8311566475907453,-0.5281986882254434,1.7764785608525728,1.3607301706320443,0.7548754677275054,0.7582068686115364,0.8758701597949443,0.35024932356920185,1.8219437449787768,1.2126249502906363,-0.27826470278099014,1.2114609314635236,0.8360743942732917,2.2544233266060942,1.5200522449036487,1.7186133458850283,3.342423452815604,2.1979746724806297,1.6359056132332224,3.5342786059343485,1.8404360376513265,1.549335611747366,3.814594923043364,1.8625075609355506,0.9553490034219854,1.3566263053054348,-0.022685147555760447,1.4453686153626566,1.5089252647821658,0.5311657516281449,-0.43481081477775674,-0.03103789863083963,0.46381303286611053,0.125237492728906,-0.16248811353827025,0.8827854510728183,-1.676683005571187,2.0262976148146072,0.24626249451717602,1.9788157154714348,1.3873323866881888,0.571519920267115,1.2346169763872867,1.7387163925699594,-0.06347315992663015,-1.1193999379344204,-0.007405116166656558,2.4075458224619974,3.5394853810346065,2.9397515590599443,0.644579596928688,0.861182649405257,-0.07946581956087805,-0.23767445883109692,1.28634937653481,1.3678453460971034,-1.1996536505419653,-0.4447288029125707,-0.15577509629830796,2.4387012245041784,-1.3800636816947989,-0.6355087904672269,2.6001559136059096,0.9155854001046254,0.4509197236293843,1.4058704350340572,0.2975335587359402,1.2112243422087885,1.6637727629613936,-12.810692667927478,0.5939641133719118,-0.09074788524275074,-1.4253203572718791,-0.9276833195720134,-2.1854298925407742,-1.0137621741828882,-13.02654254461094,1.9247934726622549,2.534059813713575,3.352548672618763,3.146530240032861,2.4924572796450257,3.0038146101375522,1.2266376176742584,3.383046624563069,1.6962492726685088,1.7233943199405044,1.3263049236336946,1.8266721948424753,2.2100906506949958,3.010181355898599,3.923299819131666,1.2926015764105179,1.4763516076253909,2.2525379605784916,2.219988116878132,2.721246557781885,2.1996779317904367,-1.2779558030330287,2.913186516177572,2.3805275006698077,0.6036970976490559,2.4241048891806862,1.4292323852911746,0.38027591856850423,-0.17598706001918987,1.3721826374387542,1.0373071755882035,-0.6211125128466787,2.403660899812537,2.309609813205551,1.7454810959330045,3.40816365401752,3.2445641619926007,1.8677071971957002,4.239981672948182,3.1025698587203956,3.9403601971970335,2.0940279119444156,3.516365205197216,2.616182429443596,2.6345401320414434,3.398712697564958,1.7477137369318623,1.8283649181239758,1.6967998333086218,3.231308908327381,1.5709141562395108,1.7376995017106596,2.1079916675244594,1.5460959676131436,2.041439848804205,2.422362590105563,1.3013138276633482,0.35596690502151357,3.688433779434904,-11.293583790837264,1.516728699815665,-0.4957054233966121,-0.8851663114776309,0.4667660899563719,1.1372073866772867,0.6508719558709318,-0.0730599776206776,-0.9457814407242712,1.237985119765223,-1.211054220585761,2.7309723534598747,-0.2819795520163701,2.7439324429673784,0.752207056954951,0.5148597670789965,-0.38530849510603316,-1.4606095482300714,-0.5356895043718226,0.9188149601043484,0.4988450827295423,0.361268939388289,0.22888478014501043,1.4147364910586848,2.276340490583769,1.9159479627644058,2.737869248750581,0.843913605984005,-1.2916836859957483,1.114491841147601,1.276106695307901,1.0560964006142424,-1.4560604178440901,1.73624076547225,1.0619960587435182,-0.5618047304296166,0.21400135570624718,1.0692491045517907,-1.2299256302980208,0.8209295352193244,0.9134404230145033,1.523192287321844,0.653218669302435,-1.7175537053393322,2.6703133842339315,-11.592025922719877],\"z\":[1.6211002949451299,1.6910026852743423,3.691235697570537,3.464900414354409,-0.5632559008300739,-0.9058648068918339,-2.0834627217265638,-0.37750293730725565,-1.7783254547890377,-2.4596010710859435,-3.3872751218755286,-1.1245136909709226,1.7959189157078828,-0.9118704353491178,2.4698751141690756,-0.6606786313865604,0.5472089317512626,1.72870940661394,-1.0117718172051735,-1.868613861238933,-1.122380139410025,2.2453682882140833,0.7196460711363606,3.822305380375271,-1.2223609373305464,-1.2656647439070858,3.5759523820896453,-1.8016928890279558,-1.8320675873626269,-3.445676924594223,3.5746489722478807,0.9004439411081205,-0.8701033583347797,-1.063638242169545,2.010367709579589,-1.7858518448115184,0.4165418152241476,1.7979845047613292,-2.5147687157068153,-0.27145811019827853,1.4703815627850534,-0.5091661942699655,-0.7283227309942222,2.5499057654018875,0.18477576816827052,4.310095596083408,0.3026999073760568,0.44839931826505114,2.6628514632190003,-1.7862149747348088,-2.008467549855944,-3.5677252063148703,0.37560716640911945,-2.694783257278225,2.2816236139236072,-2.519080400983228,0.7545347641235607,-2.991618389693893,-0.6210465569850064,-1.275959345779778,2.0037175897550443,-1.6503446939226887,2.5516340227999,-1.295829784992366,-1.3482123789804554,-0.42340762557551237,-0.4770553589768894,2.725433792145767,-0.7253632415282868,-0.6313309194415458,1.9355859390008265,-1.0702879837363306,0.7984115074353979,0.8843396746239631,4.559033927550433,-0.3501207537888648,-2.407385777429003,0.6805571555886705,-0.9678464215036426,2.1440414785815505,2.3559796985661428,0.7411451799257357,3.4435381395866878,2.1196395237310077,0.35358396416561094,-4.868228695796601,1.859911334143101,1.9020814583471004,0.41511296974791917,5.113520345495445,2.9963975480335705,3.0471652037399606,-4.953020235919413,1.1008670092712523,0.788369659099515,-0.42370547150617466,-2.737002103646297,-1.6898425065074443,-2.3451459526376,1.4744418278694464,-2.811503164284842,0.15588431773916447,-0.04070199129628028,2.077565542664433,2.5288539753269803,-0.9116514866005744,1.3081030778641982,-3.411035364907893,2.556549170657248,3.036053522019474,0.5686617361422261,-1.0328653703467856,1.0111912220118704,-0.8751131528311316,2.0763246871201577,0.785928886987533,1.4332278231304916,3.240291293445257,-3.147216293425801,-2.5782178706286847,1.613927133251175,3.247916478059322,1.0671599499758522,2.7424292146345564,0.8032536561671917,0.2735437618630177,-0.3197777887468942,2.1844624653528326,-1.9954629177358774,-0.7704087170911976,2.7012791021785683,-2.4839953534233357,1.2165233895157008,-1.311281357679914,-0.09499291127893626,-2.077543985801651,-1.515547221532227,-0.919524354364888,-1.9779426918019924,2.5197526579682674,0.10197788580559511,3.8105716885546097,-1.3192773576610861,1.147937315243927,3.3615186439377682,0.7696795718017201,3.3451252192995646,1.8544174845957504,-0.1448544307277483,2.7794522085665334,4.323170415242978,-1.5371398517992247,-4.143461698929139,1.0031833122978149,2.800918162118502,2.7137347423986395,-1.9001675482875995,0.5419902615806448,0.7907359132157561,1.7692226869085228,4.554269731451766,1.0863406988366167,1.7592509084844932,-2.876462428451379,4.576535857018226,0.08746324094086028,2.532571200219132,-0.46588151545265044,1.6646764453833605,2.8366024700710333,3.751337296440876,0.48775646525223487,1.7393194563046372,0.8936624308872444,2.0450895662063315,-0.46492834648179215,-1.9350176518009432,1.4616349681146827,-0.3290822826082969,2.2239083257417382,1.8464006280153866,0.4015044743228854,-0.9803294969732901,2.7168872395717476,2.7009338970569803,1.1274868780271852,1.7959055842130291,4.370871986718299,1.6225199184344672,1.098338000475133,3.0726313317789895,1.8623354903998088,-1.6265591912088366,-2.4031038770958646,1.9175791117087213,1.7815384383514925,-1.9407526143335325,-4.215163079693892],\"type\":\"scatter3d\"},{\"customdata\":[[\"I\",\"Credit Reporting\"],[\"am\",\"Credit Reporting\"],[\"filing\",\"Credit Reporting\"],[\"this\",\"Credit Reporting\"],[\"complaint\",\"Credit Reporting\"],[\"because\",\"Credit Reporting\"],[\"Equifax\",\"Credit Reporting\"],[\"has\",\"Credit Reporting\"],[\"ignored\",\"Credit Reporting\"],[\"my\",\"Credit Reporting\"],[\"request\",\"Credit Reporting\"],[\"to\",\"Credit Reporting\"],[\"provide\",\"Credit Reporting\"],[\"me\",\"Credit Reporting\"],[\"with\",\"Credit Reporting\"],[\"the\",\"Credit Reporting\"],[\"documents\",\"Credit Reporting\"],[\"that\",\"Credit Reporting\"],[\"their\",\"Credit Reporting\"],[\"company\",\"Credit Reporting\"],[\"has\",\"Credit Reporting\"],[\"on\",\"Credit Reporting\"],[\"file\",\"Credit Reporting\"],[\"that\",\"Credit Reporting\"],[\"was\",\"Credit Reporting\"],[\"used\",\"Credit Reporting\"],[\"to\",\"Credit Reporting\"],[\"verify\",\"Credit Reporting\"],[\"the\",\"Credit Reporting\"],[\"accounts\",\"Credit Reporting\"],[\"I\",\"Credit Reporting\"],[\"disputed\",\"Credit Reporting\"],[\".\",\"Credit Reporting\"],[\"Being\",\"Credit Reporting\"],[\"that\",\"Credit Reporting\"],[\"they\",\"Credit Reporting\"],[\"have\",\"Credit Reporting\"],[\"gone\",\"Credit Reporting\"],[\"past\",\"Credit Reporting\"],[\"the\",\"Credit Reporting\"],[\"30\",\"Credit Reporting\"],[\"day\",\"Credit Reporting\"],[\"mark\",\"Credit Reporting\"],[\"and\",\"Credit Reporting\"],[\"can\",\"Credit Reporting\"],[\"not\",\"Credit Reporting\"],[\"verify\",\"Credit Reporting\"],[\"these\",\"Credit Reporting\"],[\"accounts\",\"Credit Reporting\"],[\",\",\"Credit Reporting\"],[\"under\",\"Credit Reporting\"],[\"Section\",\"Credit Reporting\"],[\"611\",\"Credit Reporting\"],[\"(\",\"Credit Reporting\"],[\"5\",\"Credit Reporting\"],[\")\",\"Credit Reporting\"],[\"(\",\"Credit Reporting\"],[\"A\",\"Credit Reporting\"],[\")\",\"Credit Reporting\"],[\"of\",\"Credit Reporting\"],[\"the\",\"Credit Reporting\"],[\"FCRA-they\",\"Credit Reporting\"],[\"are\",\"Credit Reporting\"],[\"required\",\"Credit Reporting\"],[\"to\",\"Credit Reporting\"],[\"\\\"\",\"Credit Reporting\"],[\"promptly\",\"Credit Reporting\"],[\"delete\",\"Credit Reporting\"],[\"all\",\"Credit Reporting\"],[\"information\",\"Credit Reporting\"],[\"which\",\"Credit Reporting\"],[\"can\",\"Credit Reporting\"],[\"not\",\"Credit Reporting\"],[\"be\",\"Credit Reporting\"],[\"verified\",\"Credit Reporting\"],[\"''\",\"Credit Reporting\"],[\"that\",\"Credit Reporting\"],[\"I\",\"Credit Reporting\"],[\"have\",\"Credit Reporting\"],[\"disputed\",\"Credit Reporting\"],[\".\",\"Credit Reporting\"],[\"Please\",\"Credit Reporting\"],[\"resolve\",\"Credit Reporting\"],[\"this\",\"Credit Reporting\"],[\"manner\",\"Credit Reporting\"],[\"as\",\"Credit Reporting\"],[\"soon\",\"Credit Reporting\"],[\"as\",\"Credit Reporting\"],[\"possible\",\"Credit Reporting\"],[\".\",\"Credit Reporting\"],[\"Thank\",\"Credit Reporting\"],[\"You\",\"Credit Reporting\"],[\"The\",\"Credit Reporting\"],[\"Credit\",\"Credit Reporting\"],[\"Bureaus\",\"Credit Reporting\"],[\"were\",\"Credit Reporting\"],[\"reporting\",\"Credit Reporting\"],[\"a\",\"Credit Reporting\"],[\"bankruptcy\",\"Credit Reporting\"],[\",\",\"Credit Reporting\"],[\"but\",\"Credit Reporting\"],[\"the\",\"Credit Reporting\"],[\"courts\",\"Credit Reporting\"],[\"do\",\"Credit Reporting\"],[\"not\",\"Credit Reporting\"],[\"verify\",\"Credit Reporting\"],[\"a\",\"Credit Reporting\"],[\"bankruptcy\",\"Credit Reporting\"],[\",\",\"Credit Reporting\"],[\"the\",\"Credit Reporting\"],[\"courts\",\"Credit Reporting\"],[\"told\",\"Credit Reporting\"],[\"me\",\"Credit Reporting\"],[\"they\",\"Credit Reporting\"],[\"do\",\"Credit Reporting\"],[\"not\",\"Credit Reporting\"],[\"verify\",\"Credit Reporting\"],[\"that\",\"Credit Reporting\"],[\"information\",\"Credit Reporting\"],[\".\",\"Credit Reporting\"],[\"Therefore\",\"Credit Reporting\"],[\",\",\"Credit Reporting\"],[\"that\",\"Credit Reporting\"],[\"information\",\"Credit Reporting\"],[\"was\",\"Credit Reporting\"],[\"pulled\",\"Credit Reporting\"],[\"out\",\"Credit Reporting\"],[\"from\",\"Credit Reporting\"],[\"a\",\"Credit Reporting\"],[\"third-party\",\"Credit Reporting\"],[\"reporting\",\"Credit Reporting\"],[\"agency\",\"Credit Reporting\"],[\",\",\"Credit Reporting\"],[\"therefore\",\"Credit Reporting\"],[\"I\",\"Credit Reporting\"],[\"demanded\",\"Credit Reporting\"],[\"it\",\"Credit Reporting\"],[\"must\",\"Credit Reporting\"],[\"be\",\"Credit Reporting\"],[\"all\",\"Credit Reporting\"],[\"deleted\",\"Credit Reporting\"],[\"because\",\"Credit Reporting\"],[\"the\",\"Credit Reporting\"],[\"court\",\"Credit Reporting\"],[\"say\",\"Credit Reporting\"],[\"they\",\"Credit Reporting\"],[\"do\",\"Credit Reporting\"],[\"not\",\"Credit Reporting\"],[\"verify\",\"Credit Reporting\"],[\".\",\"Credit Reporting\"],[\"And\",\"Credit Reporting\"],[\"I\",\"Credit Reporting\"],[\"would\",\"Credit Reporting\"],[\"appreciate\",\"Credit Reporting\"],[\"once\",\"Credit Reporting\"],[\"its\",\"Credit Reporting\"],[\"deleted\",\"Credit Reporting\"],[\"I\",\"Credit Reporting\"],[\"want\",\"Credit Reporting\"],[\"proof\",\"Credit Reporting\"],[\"that\",\"Credit Reporting\"],[\"'\",\"Credit Reporting\"],[\"s\",\"Credit Reporting\"],[\"it\",\"Credit Reporting\"],[\"'\",\"Credit Reporting\"],[\"s\",\"Credit Reporting\"],[\"been\",\"Credit Reporting\"],[\"deleted\",\"Credit Reporting\"],[\".\",\"Credit Reporting\"],[\"Thank\",\"Credit Reporting\"],[\"you\",\"Credit Reporting\"],[\"and\",\"Credit Reporting\"],[\"god\",\"Credit Reporting\"],[\"bless\",\"Credit Reporting\"],[\".\",\"Credit Reporting\"]],\"hovertemplate\":\"label=%{customdata[1]}<br>x=%{x}<br>y=%{y}<br>z=%{z}<br>token=%{customdata[0]}<extra></extra>\",\"legendgroup\":\"Credit Reporting\",\"marker\":{\"color\":\"#00cc96\",\"symbol\":\"circle\"},\"mode\":\"markers\",\"name\":\"Credit Reporting\",\"scene\":\"scene\",\"showlegend\":true,\"x\":[10.073226009551366,1.0473821012304367,-3.046619721104708,-1.669316248434194,-1.3652007854459025,0.40727238015327233,7.892545221386885,-0.6746536839639955,-1.9376768647125147,2.4701944763705175,-2.0782601691507083,-2.202535155772147,-1.5613209707319116,-0.27945961015928616,-1.488746085934109,-2.0638878466155686,-1.093743911552043,-0.44025678235763943,1.612645131832149,-1.5439039436866346,-2.259429264082068,-2.0887691480731516,-3.3402475519520727,-0.4856299275828164,-3.1431913346592397,-2.355860532198276,-3.3202815248068047,-3.0347728617892815,-1.7592644317161448,-0.5512908977661988,7.763379430570814,-1.8069146507445524,0.9006633559940332,11.543728547426213,0.5558792711732515,2.115945812223626,-1.7689416246538998,-3.1775763909289654,-0.9713635762714316,-1.5500870302297232,-0.7550949361083642,-2.6102892373797215,-1.4841765269807707,-0.12880584679750876,-3.3963074590120073,-2.5554856582038186,-2.583976106487425,-1.9551943157785963,-0.49758972930635853,0.182388811562434,0.45486616055659995,7.745833065205442,-0.5808643924719958,-0.6409259632951398,-1.2757604666200375,-0.6424995332435247,-0.5075080942713822,8.86673482857706,-0.6912483643848621,-0.10311433318302952,0.676147139257867,1.2305340377420004,0.3619738154716423,-1.5333364607357896,-1.8152393155699558,0.8138048750533072,-0.7951875596061602,-1.123055439388793,-0.865568671177996,-2.098256618731085,-0.4858824040471402,-2.9568717497183807,-1.8710615205511516,-2.1591868975932957,-3.2248059624755685,0.5687954447717328,0.5487227414544376,7.750632398071442,-0.6881152156039485,-0.8348512644205615,0.2555614935197209,11.12275131142792,-1.4966091704743223,-2.25422495444085,-1.2825496528137126,-2.3911091881898603,-2.4012567644919973,-1.7549253160232028,-4.768597594054774,0.8690563877421316,11.247079083714606,8.740706461324105,8.512097852598501,8.549847444590323,7.729377488039749,-1.956801153898643,-2.6683689138599274,-1.7364894964177537,-1.5504002604765337,-1.6165700485652088,-1.4763174477108119,-1.480185699990963,-0.8243878505583655,-2.030410868862032,-2.5897732831636278,-2.3689122530826854,-1.653302316069663,-1.9107413083171512,-1.0134165202199301,-1.2968589192205318,-0.8242177267731,-1.4013895312092635,-0.013786266908384916,-1.2852668683565716,-2.80415667970792,-2.851739468101595,-2.577989530884294,-1.043467424661349,-2.6582862540203323,1.3834977964512343,11.569379241597346,0.4679530216900369,0.20492247604723476,-1.9468017639889683,-2.395550511088111,-2.690640646304124,-0.8103717906708195,-1.219417884240129,-1.337919063983386,-0.28340106746360816,-2.1707894349300543,-1.6018761863405329,-0.4619562593728024,-1.0290047808636706,10.04590460159335,0.2458756798148818,-0.9748752859493438,-1.5450164418452825,-1.7796506295441277,-2.2187275864603917,-0.8459705708620532,-0.4901662747803104,-1.7395123725739658,-1.9022577735811383,-1.1900490281210951,-1.534745613250965,-2.6673170186438786,-2.648267897139548,-1.7017387350346334,1.4009589360486847,10.607608677667992,10.367365563235406,0.6012597442654856,-0.6861869626711462,-2.2269168994581716,-0.4864805278421831,-0.7337850219071,5.198238247091175,-1.777611259845937,-2.1618917106528164,-0.43989105916005944,1.4009773123782208,-0.882584283280755,-0.8279512947077127,1.5871818599745406,-1.4507087984606377,-3.142306919158044,-1.189312391977667,-0.09932290150415554,10.460885589358739,0.996596404392376,-1.3438258199392894,-0.4134516626686009,-1.80045288235229,-0.2421216911091416],\"y\":[1.1812274285401407,1.7801084369364026,1.4760096899988489,0.07325744593637445,2.2819053119231687,1.2271381407580184,1.2495515953629937,0.7151433382781829,0.8347796488999376,-0.15879765160088255,2.033800560198333,0.22016450086046385,1.1340901867608963,-1.2428992649950035,1.1278529177634826,2.3389616876436095,2.606407559095185,0.8821656872948711,1.5607372081391089,2.816515511644687,-0.9458276692344411,-0.9786717657668258,1.4296985765565218,0.6182920520627001,0.9264669996853212,-0.4309658949503915,0.13077108771283757,1.3698502413345601,1.9911347787115825,1.4541769332134509,1.5770519048142357,2.5278779010496235,1.2722805050701005,0.4375820909183132,0.7136372747438264,0.021765648883634425,0.03263807401663374,0.0707261718759432,1.1503383135835297,2.1717396136088722,1.6652650018054198,1.6371412734684403,3.492222073565935,1.3866115845851978,-0.7503328718323815,-0.28002449369600674,1.302301234714374,1.0575820216962462,1.2315587739536489,1.1946975714022274,2.4070667212213332,2.916125379462636,3.898722535570749,1.5924610748325871,1.4369996277945944,1.1072930921421174,1.9382863447944554,2.0878108884007345,1.7974895879872153,1.5897998064468843,2.2541404223303356,3.5487419858184976,0.3800480822882597,0.9238344555831113,0.44438667448883507,2.065948686539484,2.3928338534786553,3.0307171572689837,1.9651725976951626,2.1576841851492294,2.2414939141913397,-1.3848778497883552,-0.5510598688982543,-0.25950992599909056,0.6171934707897615,1.5507441119283811,1.026148898343128,1.1112289172935335,-0.022602434563488143,1.3124466449805468,0.9535105853768457,0.49185912300382667,2.5059654459604372,0.6959386860564227,2.956052575025927,-0.013718452004248932,-1.8669230526735965,-1.0037153254587758,-0.7787837164118803,-12.701367020133404,1.2486818100188302,1.7529854293882456,1.537737641150801,1.955753733601217,2.1713372345324435,0.6921185067787752,2.6977875970308722,1.8040543007831131,1.3486820338714274,1.3835373142096985,-1.4404747984205801,0.8887787239204447,-0.010347629257365175,-1.3759706884286167,-0.6339645694592981,1.4036107374707913,1.6412596577017853,1.3482353083952627,-0.2135800750523376,0.47615739226139125,-0.2301929900858623,-0.9869741773088843,-2.1722923833874264,-1.3387245439901037,-1.854934293490162,-1.0708438057116099,0.5580879482491489,1.162115588442652,1.6774589220967002,-13.641262907751152,0.5683901104824189,1.4605496234711708,1.9872460432960204,2.271852669802224,0.19602655831825308,-0.7971639115214999,-1.5756243794690006,0.013381534432612613,0.915656377942812,2.150032438114722,3.1899294422890785,2.150039295148649,0.5252687886757653,0.5167911461495236,1.6500625305604044,2.0380589809396534,0.6974548397551384,-0.33249768630025367,0.057325233038842786,1.2085068177836846,1.812487005973896,-0.37615301211934493,0.567598738024833,0.38807021682125403,-0.33142578190874206,-1.571163093657363,-2.277186389667889,-1.258353736788573,0.4958719804865865,-13.689274817871972,1.3369553357524953,1.7744287210822174,1.0852219223671342,1.1586825216213819,1.115935765133646,1.4844368866924318,2.073728588067839,2.788989671341385,1.4223054662003414,1.2722676784636433,0.6901158490276945,1.3843208310588193,-0.4056481888320076,0.9149904316992359,-0.0007248286332283216,-0.41638499049895533,0.20187894023721248,1.6359504374459284,0.6289691410060542,0.953088197486888,0.7795586488987442,0.36771694717054515,2.2384415977451098,1.1076615798803693,0.03853390834678428],\"z\":[1.6705489441082313,-1.3690774698192998,0.042966936559343784,3.2037141317910964,-1.933710456971688,1.9101510344335522,-0.6511225940790032,2.322232694454821,-0.9626640064582906,-0.7688619910416524,-0.0669262849196538,4.709628953361046,4.123400668836986,-1.5892435490814174,2.003087322618073,3.428975172371206,0.4482208736887558,3.4149793634133276,-0.2800756652174976,-1.4347652818925989,4.463459266393571,3.6662997650764364,1.8586031018270384,3.041546273391011,2.7046248481873145,2.042174829128943,4.359723000323965,1.0017890781324106,2.1661776608937813,-0.9070866876942197,-1.5013900660301154,-1.7890318916099461,-0.892386679035018,1.7530755724427938,2.743584779528318,2.0722244317348566,3.399022922446003,-1.5053437333216992,1.0883681560909124,2.6725202108760677,1.0441385487261894,1.6998528000413442,-2.3824570951493107,4.378904171711624,2.6116225402200626,3.4363542730068772,1.294024920810402,2.7488385952473453,0.8767309765696328,0.5990128064092503,-1.7729030206568985,-1.896756214814411,-2.4452398901055576,1.0698858730713616,0.5123984976845637,2.684399733020168,2.2546092831227824,-0.5074687069624549,2.6042805152171464,0.015281538373512645,1.0420719243550935,-3.0001597700757365,2.041318386083722,2.6342125096858306,4.1444997181225185,-0.5448529052795901,0.18485105006920843,-1.9355017236914358,2.706593157752499,1.723383336361067,3.077106240611656,3.572989964462058,4.134237496918066,4.886076059195359,0.30970739800652525,-1.7538281499250543,1.258392498270075,-0.3333108939587506,2.136297422833707,-0.022200841628773574,0.14984220944301513,3.2327283966925298,-1.034602893915291,2.058399868626795,-2.3453214575584194,4.803785145334649,1.0286517205112866,4.890830334885043,2.7575579988433545,-1.7962020490108395,1.47005845713668,-0.9886941300199655,1.0319928104517597,-0.4409017062666472,-1.6327525160570433,0.7335064572586651,-1.3217788535560695,3.0209337985776576,-0.07321957816785608,1.7935144454218384,4.233976474983461,3.4708666577643617,0.8414145569804842,3.8548076687951767,3.877269218008765,-0.11627729717146813,3.2483382616922887,-0.8660037816361515,1.3397636984669947,3.33646381068814,0.8985522070798848,-2.721875861248311,0.43288622679756916,4.108338660156747,4.717307922155688,4.127729601097329,1.3377950761245212,3.661739811572496,1.954154905336791,-1.5806994160123546,2.134198258945219,0.6570423678050628,1.3440643066985214,0.7642584134744222,3.4886241054701657,-1.634363861355088,1.8183826819406423,3.9648374085191525,4.336643364857927,0.5518207380399228,-1.200260491621379,-0.9467979733104674,1.9541830538077534,1.2100955106459335,-0.07037367596651783,-2.3732172355416576,1.5166674321056732,2.8499522656804506,3.85463820671992,-0.6552915266356585,0.1150848714900365,2.8857371019835654,3.8034173870358354,1.4785086379740846,-2.58662784381796,2.8969290475185905,4.572184764445128,3.6416356499619646,0.6676637955217507,-1.5535714086489927,2.533370905405787,-0.014978281968161629,-1.5140342335723114,-2.552012839797806,-1.3282760477237965,0.26458630511148645,-0.8569123590704502,-1.8504753895862962,-2.643127665368006,-1.826503470183841,1.5464304973892873,-1.67692331598843,-0.26287645197144627,-0.6876493165302586,2.1983847745537997,1.4771474034584864,2.223899263967445,0.921974466436989,0.12133455685059491,2.305082886563321,-2.852887414651326,0.986454821205363,-2.7327513798419503,-3.425832932427702,-0.5246315850230304],\"type\":\"scatter3d\"},{\"customdata\":[[\"I\",\"Debt Collection\"],[\"noticed\",\"Debt Collection\"],[\"an\",\"Debt Collection\"],[\"article\",\"Debt Collection\"],[\"today\",\"Debt Collection\"],[\"about\",\"Debt Collection\"],[\"Bank\",\"Debt Collection\"],[\"of\",\"Debt Collection\"],[\"Omaha\",\"Debt Collection\"],[\",\",\"Debt Collection\"],[\"and\",\"Debt Collection\"],[\"their\",\"Debt Collection\"],[\"illegal\",\"Debt Collection\"],[\"credit\",\"Debt Collection\"],[\"card\",\"Debt Collection\"],[\"practices\",\"Debt Collection\"],[\".\",\"Debt Collection\"],[\"I\",\"Debt Collection\"],[\"am\",\"Debt Collection\"],[\"so\",\"Debt Collection\"],[\"glad\",\"Debt Collection\"],[\"you\",\"Debt Collection\"],[\"nailed\",\"Debt Collection\"],[\"these\",\"Debt Collection\"],[\"guys\",\"Debt Collection\"],[\".\",\"Debt Collection\"],[\"They\",\"Debt Collection\"],[\"basically\",\"Debt Collection\"],[\"ruined\",\"Debt Collection\"],[\"my\",\"Debt Collection\"],[\"life\",\"Debt Collection\"],[\"when\",\"Debt Collection\"],[\"they\",\"Debt Collection\"],[\"added\",\"Debt Collection\"],[\"me\",\"Debt Collection\"],[\"to\",\"Debt Collection\"],[\"my\",\"Debt Collection\"],[\"wife\",\"Debt Collection\"],[\"'\",\"Debt Collection\"],[\"s\",\"Debt Collection\"],[\"credit\",\"Debt Collection\"],[\"card\",\"Debt Collection\"],[\"account\",\"Debt Collection\"],[\".\",\"Debt Collection\"],[\"When\",\"Debt Collection\"],[\"the\",\"Debt Collection\"],[\"strain\",\"Debt Collection\"],[\"of\",\"Debt Collection\"],[\"the\",\"Debt Collection\"],[\"fees\",\"Debt Collection\"],[\"and\",\"Debt Collection\"],[\"charges\",\"Debt Collection\"],[\"broke\",\"Debt Collection\"],[\"her\",\"Debt Collection\"],[\",\",\"Debt Collection\"],[\"it\",\"Debt Collection\"],[\"took\",\"Debt Collection\"],[\"me\",\"Debt Collection\"],[\"down\",\"Debt Collection\"],[\"as\",\"Debt Collection\"],[\"well\",\"Debt Collection\"],[\",\",\"Debt Collection\"],[\"causing\",\"Debt Collection\"],[\"us\",\"Debt Collection\"],[\"both\",\"Debt Collection\"],[\"to\",\"Debt Collection\"],[\"lose\",\"Debt Collection\"],[\"our\",\"Debt Collection\"],[\"house\",\"Debt Collection\"],[\",\",\"Debt Collection\"],[\"bankruptcy\",\"Debt Collection\"],[\",\",\"Debt Collection\"],[\"and\",\"Debt Collection\"],[\"nearly\",\"Debt Collection\"],[\"our\",\"Debt Collection\"],[\"marriage\",\"Debt Collection\"],[\".\",\"Debt Collection\"],[\"This\",\"Debt Collection\"],[\"was\",\"Debt Collection\"],[\"about\",\"Debt Collection\"],[\"7\",\"Debt Collection\"],[\"years\",\"Debt Collection\"],[\"ago\",\"Debt Collection\"],[\"or\",\"Debt Collection\"],[\"so\",\"Debt Collection\"],[\".\",\"Debt Collection\"],[\"Any\",\"Debt Collection\"],[\"discomfort\",\"Debt Collection\"],[\"you\",\"Debt Collection\"],[\"cause\",\"Debt Collection\"],[\"them\",\"Debt Collection\"],[\",\",\"Debt Collection\"],[\"know\",\"Debt Collection\"],[\"they\",\"Debt Collection\"],[\"deserve\",\"Debt Collection\"],[\"all\",\"Debt Collection\"],[\"of\",\"Debt Collection\"],[\"it\",\"Debt Collection\"],[\",\",\"Debt Collection\"],[\"and\",\"Debt Collection\"],[\"probably\",\"Debt Collection\"],[\"a\",\"Debt Collection\"],[\"lot\",\"Debt Collection\"],[\"more\",\"Debt Collection\"],[\".\",\"Debt Collection\"],[\"A\",\"Debt Collection\"],[\"bank\",\"Debt Collection\"],[\"account\",\"Debt Collection\"],[\"was\",\"Debt Collection\"],[\"acquired\",\"Debt Collection\"],[\"in\",\"Debt Collection\"],[\"my\",\"Debt Collection\"],[\"name\",\"Debt Collection\"],[\"as\",\"Debt Collection\"],[\"I\",\"Debt Collection\"],[\"was\",\"Debt Collection\"],[\"a\",\"Debt Collection\"],[\"victim\",\"Debt Collection\"],[\"of\",\"Debt Collection\"],[\"identity\",\"Debt Collection\"],[\"theft\",\"Debt Collection\"],[\"from\",\"Debt Collection\"],[\"Navy\",\"Debt Collection\"],[\"Federal\",\"Debt Collection\"],[\"bank\",\"Debt Collection\"],[\".\",\"Debt Collection\"],[\"I\",\"Debt Collection\"],[\"sent\",\"Debt Collection\"],[\"the\",\"Debt Collection\"],[\"proper\",\"Debt Collection\"],[\"information\",\"Debt Collection\"],[\"to\",\"Debt Collection\"],[\"the\",\"Debt Collection\"],[\"credit\",\"Debt Collection\"],[\"reporting\",\"Debt Collection\"],[\"and\",\"Debt Collection\"],[\"Bank\",\"Debt Collection\"],[\"for\",\"Debt Collection\"],[\"investigation\",\"Debt Collection\"],[\".\",\"Debt Collection\"],[\"The\",\"Debt Collection\"],[\"account\",\"Debt Collection\"],[\"was\",\"Debt Collection\"],[\"taken\",\"Debt Collection\"],[\"off\",\"Debt Collection\"],[\"the\",\"Debt Collection\"],[\"report\",\"Debt Collection\"],[\"and\",\"Debt Collection\"],[\"then\",\"Debt Collection\"],[\"has\",\"Debt Collection\"],[\"reappeared\",\"Debt Collection\"],[\"on\",\"Debt Collection\"],[\"my\",\"Debt Collection\"],[\"consumer\",\"Debt Collection\"],[\"credit\",\"Debt Collection\"],[\"report\",\"Debt Collection\"],[\"hurting\",\"Debt Collection\"],[\"me\",\"Debt Collection\"],[\"further\",\"Debt Collection\"],[\"in\",\"Debt Collection\"],[\"these\",\"Debt Collection\"],[\"uncertain\",\"Debt Collection\"],[\"times\",\"Debt Collection\"],[\".\",\"Debt Collection\"],[\"this\",\"Debt Collection\"],[\"negative\",\"Debt Collection\"],[\"report\",\"Debt Collection\"],[\"is\",\"Debt Collection\"],[\"stopping\",\"Debt Collection\"],[\"me\",\"Debt Collection\"],[\"from\",\"Debt Collection\"],[\"having\",\"Debt Collection\"],[\"a\",\"Debt Collection\"],[\"actual\",\"Debt Collection\"],[\"relationship\",\"Debt Collection\"],[\"with\",\"Debt Collection\"],[\"this\",\"Debt Collection\"],[\"bank\",\"Debt Collection\"],[\"if\",\"Debt Collection\"],[\"i\",\"Debt Collection\"],[\"choose\",\"Debt Collection\"],[\"and\",\"Debt Collection\"],[\"stagnating\",\"Debt Collection\"],[\"my\",\"Debt Collection\"],[\"report\",\"Debt Collection\"],[\".\",\"Debt Collection\"]],\"hovertemplate\":\"label=%{customdata[1]}<br>x=%{x}<br>y=%{y}<br>z=%{z}<br>token=%{customdata[0]}<extra></extra>\",\"legendgroup\":\"Debt Collection\",\"marker\":{\"color\":\"#ab63fa\",\"symbol\":\"circle\"},\"mode\":\"markers\",\"name\":\"Debt Collection\",\"scene\":\"scene\",\"showlegend\":true,\"x\":[11.257766060634166,-1.3949407097742736,-2.775184137979904,-0.3430417820187917,-2.3117966704465163,-2.107880265570851,4.5019509788108625,-1.787718446448294,0.7633726070929512,-1.3503638930500896,-1.1659940846963595,-0.17468318484737794,-1.8795852563102227,-1.861419881725927,-2.544081639317102,-2.315913926324682,0.18708966990997974,12.419074861868578,-0.7075625419882497,-1.9994653164761909,-1.8641568719301447,0.33239317424842,-1.607554885088085,-2.3464143436324245,-1.3734178452447479,-0.18982315878327588,13.388617646377098,0.22194822598530906,-1.5080503322307335,1.6610780018617108,-1.1114449652809888,-1.3595662227158525,0.045544433640541795,-3.7625685480590136,-1.7529544751159638,-3.6904734253185643,2.435232288583126,-0.8507379915283383,0.68457849581751,-1.5624487347565081,-1.806651716077349,-2.4621306034945,-2.5074756067884056,-0.052736788207770405,11.412741522752192,-1.9398106005979696,-2.8819281219445294,-2.702620870494175,-2.1606702961732305,-1.5056752746389719,-1.920670718877457,-1.645293820800517,-1.9431100204138632,-1.0628509647616944,-1.4771766325193105,-0.6104984876772152,-3.5190471326476978,-1.0495245128659765,-4.7081244959798445,-2.768155047937505,-2.6864728223222327,-2.2845334734680454,-1.6161685448453964,-0.7618882906270072,-1.8980708936467705,-3.0033247386494515,-2.6337114931905568,-0.657366103634528,-2.282310354530873,-2.608788208098648,-1.6213699540915636,-1.5311730776006538,-1.7402436409490627,-2.0907898569516647,-0.5883085955549692,-1.825765478542116,-0.04621107945421657,12.64061184242101,-2.4905085788101715,-1.0452424200477954,-0.4278682394147399,-1.6068628222495251,-0.39874834637223916,-1.7847491844371053,-0.29352567912999017,-0.2994461466981352,11.620579060888092,-1.2466167052030737,-0.08332896685069542,-2.0303815483061025,-1.434330517513316,-1.3206291529090692,-0.8742030789584047,-1.736112806039365,-1.665096394867271,-0.9602892202220539,-1.4520264882093281,-1.4865798696901156,-1.9780032334094904,-1.7102711024402935,-1.0385859957877024,-2.4846526884487163,-2.77541933179157,-2.673786681040406,-0.03792655072165313,10.853216150842835,-0.37924950097883475,-1.4415250652871956,-2.196370457087029,-0.4859069273661307,-1.2645387003974402,4.717608173635999,-2.3915902819263644,-1.3241062367876313,9.663875284982874,-2.496303754859657,-3.0840105074734376,-3.3310052455479915,-2.644608504426447,-1.4703800933291429,-2.580842181944784,-0.3666197432784501,9.647043575821183,7.2671541294653155,-1.76718405823381,-0.7214056616052423,12.294434462534468,-1.0761352885018503,-1.6305857238776045,-1.80565311312023,-2.56000357415006,-3.3736696353472078,0.5532466661602601,-1.5524166181060624,-2.1446150947641818,-1.2781570028649232,8.139730368107044,-1.1692246475999095,-0.4316284883872368,-0.6362883433367521,12.107597464429972,-0.19676199669785363,-1.6736459221711466,-3.2639114056156777,-2.01574519988376,-0.7020064456586813,-1.6378197185170205,-0.4995964886417753,-0.16490385578012573,-0.397365340504741,-2.844574954752576,-2.7647940191794906,6.058050305390486,0.4742965695960461,-1.7164316918802844,-1.7850664743799822,-2.9547723001029444,0.22970193420865487,-2.9889450130389474,-2.874546024450537,-2.428480297135729,-1.921431650755691,-1.5106010133489358,0.5448550620266795,-1.8160506273765205,-1.96223876690665,-2.3182196082072455,-2.010325042407989,-2.8746858854191553,0.862679626312423,-0.8348539836867233,-3.3160237104866384,-2.6659432054610197,-1.6808700717803047,-2.459770850226718,-2.471600100489386,1.135149612495116,-1.6233486742068803,-1.0250416513188483,0.9652986510034843,-3.2196981352011704,-2.016376993578171,-1.4902276034517519,3.4298200057624117,-1.6076364996423025,0.5479265260197672],\"y\":[-0.25649986380016493,0.3515851682027227,0.1128141022111921,0.5690364759619421,0.3145997093563994,-0.7303648171233524,2.0535745542827875,1.3736060448766294,1.8719410059452157,1.7065036000004685,0.68586514884422,1.7830005354768914,2.0827025026331567,2.627748175228723,1.9618632980683615,2.48693883261737,-0.2881623740761834,-0.42767369022057855,-0.5688815564237693,-1.2387586590604003,0.24249371537489012,-3.547477598136971,0.9276100143856079,0.12350348893151729,-0.65111586839793,-0.6726431870766247,0.12554870318138517,-0.16564233832796232,-0.7721934995515283,-3.142077614339801,0.9030397092576712,0.2602399868537532,-1.7864765977936434,1.3727755117421625,-3.3334169308031254,0.5094598651073468,-2.15829978409284,1.0934229810261575,0.2916566723957949,1.5213872068049625,2.0904985809801984,1.8756723690623343,2.376876849152269,-15.099031796124345,0.5013940165759402,0.7314684596529777,2.3181967757087265,1.2808672507623977,1.3397192336598838,2.8114025029805307,1.7055792943420927,1.9776186667220608,0.10190115269643661,-2.458464864248266,-0.6512114150968412,-1.2429853991985003,-2.433627943526025,-5.5910144560660955,-2.3081502909534755,-1.0098211983884617,-2.433014939155794,0.3650369643986566,0.1433438865636708,-0.3472170293709513,-0.35424197900797705,-1.1488920624273853,0.6689741644048242,0.741362900329216,2.087252950376385,0.6260446927738591,1.254914396691638,0.2726414438250429,0.6106766518465213,-0.030507145080485153,-0.26545531970888675,1.8013330589289573,-15.145048035365441,0.2603495813345055,0.06080403827645295,-3.495233241622358,-1.0159590590718164,-2.0671382531018265,0.5868491058312212,-0.07873015037089905,-0.8264860324491261,-0.892173368342866,0.5079238611856364,0.28346862717391164,-3.5210909806564756,0.588037439746937,-2.2323438117262766,-0.7646638067600351,-2.1997067040957723,-3.0687714818502028,-0.18447783185344035,-1.0757143737364905,-1.0431534808006675,-1.8763695377518064,-0.1360787478384177,-0.732525483365252,-1.5462106387999737,-1.6460277316381804,-2.210506776178101,-1.5483647362220243,-15.179661093734873,1.82551564497771,2.362745030841205,2.533109031384341,0.7167111126287651,2.6625671685571577,2.321301850067254,-1.5340640373436574,2.0267334724527815,1.0721152033088432,1.5965661264024937,1.1006857398721304,1.4104290351018476,2.206121254685333,1.966736940324787,3.8182164719732814,2.4918180002053667,1.5282915862524582,2.40352920252737,3.599209497255453,3.3170697313445023,1.2211598647147346,1.1127988563728417,1.1578628619622537,2.0649660387945303,3.4180297697828412,3.2414830172425715,0.7574056999808705,2.2494740551942436,2.684634184406187,3.9762977078516766,2.9201010273875005,3.4010243259468558,2.0331602922455305,3.1472681829488462,0.23864521669752436,1.7838674121370364,3.094349198804282,0.9560790136950894,0.9838367034901367,1.5957017735768817,1.948828600261093,3.2559969625709155,2.073847902135863,1.1390792248273045,0.5732093161594695,0.7550558341432345,0.24612321449569546,-0.8799056540000205,2.6154386920310535,3.142201416041667,2.36264875722667,0.7973296950264971,-2.821652428363228,1.7370191192837667,1.8804334896207793,1.552488719155834,2.4948418779952917,1.664759164557906,-12.965181775008158,0.5933400663893682,2.515390745687057,2.4467541777223323,0.05671041295099388,1.9116203968298302,-2.7832854301539034,-0.34589675289267324,0.28619031616543983,0.7951511954278988,2.885824786142437,2.4783200792041136,1.7025767459832382,1.1050544744641364,2.861522758882084,0.949611989785585,-1.7260042802048283,1.4054023198734256,1.678198642148215,2.5765970256682307,-0.5999833300001266,3.1618128532297196,-12.955260870421098],\"z\":[1.7695065568838348,-0.8381575703491184,2.6456750563309575,-1.916940395912582,-3.1267243921552823,-1.1179718861342514,-2.8638533183592956,-0.37439494527873585,-3.0901275388801186,-0.9105852374796612,2.3288821311503747,-0.8525044238961499,-2.0464497714348657,-0.2625407429351989,0.7545307848439691,-1.4388755787857206,0.06481558751201687,2.4312384666630344,-0.7393471863816462,0.08103449494411667,-2.7742739700899137,0.7157440367904913,-3.082135886615439,1.0883160345883658,-3.7928141126354937,-0.0300540970922325,2.9760024265129252,-2.382978512516974,-1.4902817530428203,2.173416092174111,-1.4871929668697628,2.1566236738577267,2.447858753130291,-0.6232259845476,-1.0178006483202666,3.395990810056412,2.1832108965083417,-3.4153035562301466,1.727006670007199,2.140675606683906,0.46234942032261445,1.2948840207634529,0.17575543852375344,-4.523048800868562,2.3425732899659426,2.6521786498259674,-3.2186865363450288,1.497572653246186,1.439571262095481,-2.042199868685171,2.2246663693015933,-0.8927074038960326,-1.1053620366182921,-0.9413923432552076,1.0476906865942675,1.9448348312770969,1.6000081323768114,0.06833069992506799,2.4513022214558395,3.5782642801061395,1.6225468519498225,1.739614326976513,2.2979301634742857,0.02114253233544183,0.04595001549296282,3.6284190153634497,0.46572085128735646,0.8671960124853955,-3.6253563396844397,0.9017312503030257,-3.0009861756030323,-0.04791856477230749,2.462354180109707,-2.3190638602192317,1.3020202237563698,-3.4857400812486388,-4.546346534170473,1.5259646301315333,0.3396501764892833,-0.6695527534543503,1.7541992541222176,3.5221316321970138,-1.6253415034539076,-0.9551243652744752,-2.341657150221544,-1.384459878320848,2.086775000802388,-2.7866864288337445,0.03601534876314391,-1.8777341045391844,1.3339368199997714,2.284137781945596,-0.5368831565981796,3.2839739194490565,-1.7876043970925397,0.2522656507704114,2.657869103561263,0.7424768937992688,0.6647443881309336,3.078946780023225,-2.414927419603396,1.548139771981451,-3.202688364493278,-0.6646347701070765,-4.58156857425421,1.4823540183952448,0.903541264504757,0.7210085091807177,3.5807252883595235,-0.5510343711485167,3.324048107229747,2.887254211818852,-1.5035836650614547,0.8533240936989667,-1.5471436583106235,3.46633724507953,4.606035514932951,-3.1591948201015003,3.0341069366549047,-1.7282520856031023,-2.0800312718873357,0.1425712483606621,-1.1802679779896204,-1.7298210215059555,-0.78814219480138,-1.1498483908746409,2.048217081955462,1.1024390068833252,2.7146818240008894,-2.8587784162768544,0.560823042428506,3.9647965269601193,2.3411188559080798,-0.6642465418538486,-2.575485900023176,-1.158932151529477,-2.425991574672767,1.2483999294181198,-1.4697307830504935,-0.2744325516683428,1.4383660809462724,-0.6751162571693251,2.899896535689126,0.03371416802118534,-0.5461444010181074,2.7484451133734744,-1.0043019805746953,3.370770250511698,-0.3496400209300928,1.576076351886465,-0.9070863553405678,2.515279535372534,2.5584751117636055,-1.3545261720446948,-0.8572189261942416,0.30054541430553133,-3.1428074654059763,0.049548110904203954,-1.9364565982780015,2.214992573290077,0.7627897728280653,-2.6569517063639103,-2.0457593525684765,-3.456502910423256,2.813026848529964,-2.204001473388135,-0.6225954515634816,2.5561136416092585,-1.9824446295788516,0.06203725141373536,3.8390996954114565,2.684128336805854,4.1259403745614,-2.3878465057396516,-0.46441415947677445,2.562200011759494,1.267282738492648,-1.7442927797659873,1.862147434434781,1.2130696395900102,-2.1132225226116734,1.7704846483064605,-2.4892940296089434,1.7593627722007916,-1.8296114021175103,-3.4791427797496826],\"type\":\"scatter3d\"},{\"customdata\":[[\"I\",\"Loans\"],[\"was\",\"Loans\"],[\"contacted\",\"Loans\"],[\"via\",\"Loans\"],[\"postal\",\"Loans\"],[\"mail\",\"Loans\"],[\"to\",\"Loans\"],[\"apply\",\"Loans\"],[\"for\",\"Loans\"],[\"an\",\"Loans\"],[\"installment\",\"Loans\"],[\"loan\",\"Loans\"],[\".\",\"Loans\"],[\"I\",\"Loans\"],[\"was\",\"Loans\"],[\"approved\",\"Loans\"],[\"for\",\"Loans\"],[\"a\",\"Loans\"],[\"loan\",\"Loans\"],[\"of\",\"Loans\"],[\"{$500.00}\",\"Loans\"],[\".\",\"Loans\"],[\"I\",\"Loans\"],[\"was\",\"Loans\"],[\"told\",\"Loans\"],[\"at\",\"Loans\"],[\"first\",\"Loans\"],[\"that\",\"Loans\"],[\"only\",\"Loans\"],[\"8\",\"Loans\"],[\"installment\",\"Loans\"],[\"payments\",\"Loans\"],[\"of\",\"Loans\"],[\"{$130.00}\",\"Loans\"],[\"would\",\"Loans\"],[\"be\",\"Loans\"],[\"withdrawn\",\"Loans\"],[\"from\",\"Loans\"],[\"my\",\"Loans\"],[\"bank\",\"Loans\"],[\".\",\"Loans\"],[\"I've\",\"Loans\"],[\"already\",\"Loans\"],[\"paid\",\"Loans\"],[\"7\",\"Loans\"],[\"payments\",\"Loans\"],[\"but\",\"Loans\"],[\"according\",\"Loans\"],[\"to\",\"Loans\"],[\"them\",\"Loans\"],[\"I\",\"Loans\"],[\"still\",\"Loans\"],[\"owe\",\"Loans\"],[\"over\",\"Loans\"],[\"{$400.00}\",\"Loans\"],[\"and\",\"Loans\"],[\"when\",\"Loans\"],[\"I\",\"Loans\"],[\"went\",\"Loans\"],[\"to\",\"Loans\"],[\"see\",\"Loans\"],[\"the\",\"Loans\"],[\"payment\",\"Loans\"],[\"history\",\"Loans\"],[\"only\",\"Loans\"],[\"tiny\",\"Loans\"],[\"payments\",\"Loans\"],[\"are\",\"Loans\"],[\"going\",\"Loans\"],[\"toward\",\"Loans\"],[\"the\",\"Loans\"],[\"principal\",\"Loans\"],[\"and\",\"Loans\"],[\"larger\",\"Loans\"],[\"payments\",\"Loans\"],[\"towards\",\"Loans\"],[\"finance\",\"Loans\"],[\"fees\",\"Loans\"],[\"(\",\"Loans\"],[\"It\",\"Loans\"],[\"looks\",\"Loans\"],[\"ridiculous\",\"Loans\"],[\")\",\"Loans\"],[\"i\",\"Loans\"],[\"took\",\"Loans\"],[\"a\",\"Loans\"],[\"screenshot\",\"Loans\"],[\"to\",\"Loans\"],[\"provide\",\"Loans\"],[\"you\",\"Loans\"],[\"for\",\"Loans\"],[\"evidence\",\"Loans\"],[\"My\",\"Loans\"],[\"husband\",\"Loans\"],[\"recently\",\"Loans\"],[\"became\",\"Loans\"],[\"very\",\"Loans\"],[\"ill\",\"Loans\"],[\"and\",\"Loans\"],[\"was\",\"Loans\"],[\"hospitalized\",\"Loans\"],[\"until\",\"Loans\"],[\"death\",\"Loans\"],[\".\",\"Loans\"],[\"During\",\"Loans\"],[\"this\",\"Loans\"],[\"time\",\"Loans\"],[\",\",\"Loans\"],[\"our\",\"Loans\"],[\"family\",\"Loans\"],[\"members\",\"Loans\"],[\"took\",\"Loans\"],[\"over\",\"Loans\"],[\"control\",\"Loans\"],[\"of\",\"Loans\"],[\"our\",\"Loans\"],[\"finances\",\"Loans\"],[\"and\",\"Loans\"],[\"misappropriated\",\"Loans\"],[\"our\",\"Loans\"],[\"funds\",\"Loans\"],[\"in\",\"Loans\"],[\"our\",\"Loans\"],[\"bank\",\"Loans\"],[\"accounts\",\"Loans\"],[\".\",\"Loans\"],[\"I\",\"Loans\"],[\"was\",\"Loans\"],[\"unaware\",\"Loans\"],[\"of\",\"Loans\"],[\"this\",\"Loans\"],[\"until\",\"Loans\"],[\"today\",\"Loans\"],[\",\",\"Loans\"],[\"when\",\"Loans\"],[\"looking\",\"Loans\"],[\"at\",\"Loans\"],[\"my\",\"Loans\"],[\"credit\",\"Loans\"],[\"report\",\"Loans\"],[\"to\",\"Loans\"],[\"see\",\"Loans\"],[\"what\",\"Loans\"],[\"was\",\"Loans\"],[\"not\",\"Loans\"],[\"paid\",\"Loans\"],[\".\",\"Loans\"],[\"I\",\"Loans\"],[\"have\",\"Loans\"],[\"filed\",\"Loans\"],[\"fraud\",\"Loans\"],[\"charges\",\"Loans\"],[\"and\",\"Loans\"],[\"filed\",\"Loans\"],[\"a\",\"Loans\"],[\"report\",\"Loans\"],[\"for\",\"Loans\"],[\"elderly\",\"Loans\"],[\"abuse\",\"Loans\"],[\".\",\"Loans\"],[\"No\",\"Loans\"],[\"one\",\"Loans\"],[\"will\",\"Loans\"],[\"help\",\"Loans\"],[\"me\",\"Loans\"],[\".\",\"Loans\"],[\"My\",\"Loans\"],[\"husband\",\"Loans\"],[\"is\",\"Loans\"],[\"dead\",\"Loans\"],[\"and\",\"Loans\"],[\"I\",\"Loans\"],[\"am\",\"Loans\"],[\"trying\",\"Loans\"],[\"to\",\"Loans\"],[\"pick\",\"Loans\"],[\"up\",\"Loans\"],[\"the\",\"Loans\"],[\"pieces\",\"Loans\"],[\".\",\"Loans\"]],\"hovertemplate\":\"label=%{customdata[1]}<br>x=%{x}<br>y=%{y}<br>z=%{z}<br>token=%{customdata[0]}<extra></extra>\",\"legendgroup\":\"Loans\",\"marker\":{\"color\":\"#FFA15A\",\"symbol\":\"circle\"},\"mode\":\"markers\",\"name\":\"Loans\",\"scene\":\"scene\",\"showlegend\":true,\"x\":[12.72791498054937,-2.4568531410713206,-1.7229487770563765,-3.000257167276908,-0.5368358559485489,-1.0889507046023381,-2.551322574189936,-2.203155832473725,-1.9417508351537387,-1.7400422023508435,-0.16377380323051613,-1.8011037826732321,-0.4158712954681904,13.743290846970426,-2.9033106228486307,-1.8438513167385295,-2.1312151476125396,-1.7739288146638492,-1.8153347413497358,-1.4979807837936776,1.837924451508414,-0.4985343676908219,14.060503104842471,-2.4887053694317296,-1.0882002011692655,-0.5097166738815704,0.2997817232091225,-1.027813365766198,-2.1121969984420756,-1.792474063529034,-0.6484763767235482,-1.1352443945543467,-1.3868498494471695,2.374284782160055,-2.3437611828615013,-2.2516134994749852,-2.543749195521839,-1.033111733924308,2.6570025440249925,-1.562074335581884,0.6813921429929706,13.075612737627493,0.006669263397388454,-2.982523597004356,-1.3470247998540792,-1.0669343819219093,-1.8196448934765999,0.36382529613401504,-3.3751953288721452,-0.7035512790620152,11.844293264156136,-2.488337011985414,-0.5414388179932407,-0.8970632684579477,2.1745872608860024,-0.002779321448040604,0.8705724045226899,11.266034605652507,-3.797905823798296,-3.7234646932229474,-3.02881912187423,-2.339880422114407,-2.4371401003610162,-1.3521834277365858,-1.79333511815076,-3.45470204559498,-1.5240606588744663,-2.4886811958017203,-3.690381701837593,-1.759340918399021,-2.1268529955931266,-1.9195723371196194,-1.7077013078593475,-1.6932490005070246,-1.6272213557336632,-2.9616560933555713,-0.25662641007558284,-1.387833016388681,1.252119839303969,10.804527589526606,-0.9810118002154479,-1.8773802330494582,-0.08488217521062966,6.591577912402461,-3.4508136629440864,-2.5536057485799097,-2.307956093053521,-2.9943787800090234,-1.8870345161580857,-0.47437126884227176,-1.262529728896007,0.5940611823423224,11.21230052996102,0.08429963742140673,-0.6428636003785189,-1.0111908054168732,-3.9053177037951072,-1.8427931204567694,-0.2601632702629466,-1.8289121012336753,-1.9790329021429047,-2.934754427915148,-2.6125796537744796,-0.20417168836441033,6.738563310596938,-1.9476039226636113,-2.892183912124024,-1.4980356188541317,0.7125561350883635,-1.0450337119811242,-2.3368802962835007,-2.67672087599695,-0.7852210407056562,-1.2172350012945214,-2.1928523425090463,-0.5680029329371515,0.6549360735439264,-1.006739851362859,-1.4480320027924078,-1.148831546564381,-0.888310293115873,-3.774671826970039,-0.6847512029277415,-1.3847407105602032,-1.2022075312591192,-0.20679183643157828,12.179305917408648,-3.035393423294862,-0.1560306525196337,-2.288931639497967,-2.2184082076509286,-2.589458973140306,-1.8340326598997567,-0.8646534055930821,0.35378860750836305,-3.1852014237946378,-2.1597001234155297,1.5807340974755217,-2.1393792033804533,-1.7750587808481906,-2.3703964211140662,-2.783048687762656,-1.4882640545827428,-3.57272495735275,-3.1959553671933,-2.9739001502033755,-0.5021963959748776,11.821108021958251,0.19238715311889254,-2.774319459308824,-2.069866255726379,-1.8704242353063383,-0.6632884421452632,-2.9248521984430726,-2.646530638337594,-2.7574890401618224,-1.922754975120806,-1.3955184073075486,-1.5401019865854018,-0.6463870317575341,10.744205700634188,-1.9008248304192175,-3.3314853691540507,-5.842372104518638,-2.0344363758600705,-0.5264764167391051,12.284556734857308,-0.4051810246863299,-2.056432048888069,-2.2459757207325834,-0.6484961516647241,10.614514665399232,-1.7091880762293519,-4.160317236237154,-3.5641832206570045,-2.718126974033698,-3.0712986384555534,-2.156611560494361,-2.2133364722113953,-0.20546465658410484],\"y\":[1.3602851593845855,0.575085036835734,1.0553147223745494,0.7144748643920069,2.9591066812755065,1.453982971531448,0.33169586896985165,0.8359090737061701,0.684303811675848,1.4181456720371919,2.9899644589465937,2.2370640074546606,0.36955281407496043,1.1186922615351313,0.5880626005967668,1.384898198776019,1.1602272621081295,2.0259320817203563,3.030108843667659,3.007286552508662,3.394141784135769,0.6452837816590714,0.9027014289749443,-0.48441933113101304,-2.0898240726547925,0.651127754968634,0.9609133400114478,-0.05962651236901479,1.0748241522113358,2.516902386330114,3.2633482227822634,1.368978571707392,2.158887479364041,3.3850174889542415,-0.2779938618054256,0.884112483181798,2.598994541165534,0.828917081535674,1.1133594762787677,2.4870496488202884,-12.35480720721104,0.8148738999895042,0.5861486990249546,0.016166308721516875,2.9736249478449697,0.6857464036437275,-1.1594505530928234,0.37918842576275735,-0.03432847804956502,-0.10129699125165167,0.5732100952541779,0.23785847208940714,1.643571497652575,1.3366193595592484,2.250837166396066,1.1877103433507192,1.9804188153584406,1.5170002470302377,-0.9525970037194369,-0.9168322917353827,-0.2698673812918577,1.3257776069062284,1.4738376804242062,2.6491421728816444,0.7430879065574698,0.776568561279996,-0.0606358874879891,-0.32879524845039243,1.3212744393403042,0.9167978515353199,2.2196334257495987,3.210363050815216,1.6858215740333207,2.278218495075122,0.05377156502355002,0.7719720907614679,2.935247206728583,2.5241397090463855,1.7229256326206697,1.808407129831003,1.973859847154445,0.6329235048900576,1.078792356613049,0.5927361158860501,-0.25023483678357955,0.8231696601671921,1.7733769607004581,0.15101717986897817,1.4242338833806456,-0.24824290269773766,0.7960537009412381,-0.005240729238097198,1.4718013086311066,1.8173055987465536,1.40996700634134,1.2120910734577468,-0.14220548601859417,0.3252315191537596,1.6187338887549745,0.5810667658697691,1.3988603735697422,1.114919168541574,0.22021329919142674,-14.606707635324243,0.6585144241880935,-0.7554544574949053,1.5571269575184201,1.0763403454116969,0.6256886466260022,1.590214013189996,1.1041808007382838,0.3951331450668598,0.6897369008883419,2.1318931200449613,2.3418450295226223,0.9862976700318883,2.4191260264335717,2.1265312969720376,3.092433066103692,1.5196618031927447,2.6039231114248484,2.1730125345321736,0.9155193223447041,2.5497472672279673,1.4578151394209407,-14.626924867812152,1.2663595888264658,0.598505167949657,0.13841625025467363,0.6824574389318842,0.32488988497684795,0.37005359209987043,-0.06805468269725357,0.9099027587858739,0.5992775713106809,-1.016187005055737,0.44659065693105254,0.2915500936905982,2.8486900047423758,2.7615468918553474,0.03841952738366096,-0.16629250492185405,-0.1747577163014519,0.1233695747145245,0.140844453096584,1.2376734350913752,0.6842274171212511,-0.07795798386592635,0.7368768050632889,1.7326965238081447,2.9666810872363056,2.817381693505914,0.8993380185776997,1.3113769136327091,1.9991813768005113,2.3152705848887294,1.5296397249122982,2.77682503938557,3.128732320089289,0.8248674144807632,1.036277675100967,0.19497258181329222,-1.3985812550416825,-2.4940913359110075,-2.180011333108949,-0.6694173754292372,1.1210057716882698,0.7734665537520763,-0.5952550007402191,0.679609440589985,0.8862434966556363,1.3550641882320018,0.6239270345566955,-1.47560686283747,-0.7417183002612697,-1.0616079087352035,-0.6349091408986778,0.9432342436968849,2.4043124928057154,-14.60615630299564],\"z\":[1.2549404029446625,3.6450124433830533,-1.682503569275239,1.4831390497610806,-1.4918528269783666,-0.41125563134619125,5.416814577198246,2.3777247261848404,3.942196393317702,4.490800510023819,0.7860067431923166,0.7168399823003359,-0.7469183435148222,1.6433176623882677,3.654769689714225,0.39003216782892736,3.0427393984839695,3.4526440860904786,-1.7006884848208248,-0.10794582817285588,-2.8820443142169365,-0.9083809503167779,1.3878472063046376,4.556962390986293,-2.6664012570679647,0.06699290243790668,-2.469845291672525,3.4800401744769873,2.5171965325236507,0.02212567616904551,-0.16046988180734728,2.364657735345879,1.5830658269143376,-2.1019474694747347,4.25047483464765,3.34986185596899,-2.6789388850320166,3.467651760420684,-1.2430494415990496,-2.7525074954024746,-4.009471240539182,2.2564789056514787,-0.042061852785557304,2.9927626413798474,-0.6906501192032176,0.9885239774923809,2.120285247917004,-1.7303065403486535,2.95478373343304,1.2466022292084091,1.734959859592321,1.4464301279375902,-2.9861118669392206,-2.095610438680091,-2.2572633259597024,2.127523798867448,-0.13013699204577503,-1.0537040978548113,-0.6942331045778529,4.540584574301465,0.21854747003440964,2.9058481361592894,1.5485129965914046,-1.9572057488575303,1.2925285357393546,-1.0567232459284461,2.6379226681053365,3.739607306803661,-0.4222613740058348,2.81789406743073,2.6344688077856695,-0.2316830332970226,3.387736760535816,0.9268452838848299,2.3567978283345736,2.275994769842358,-0.041694849718302854,1.4601214607450257,1.2146181786053438,-0.646506351585221,-2.5203758056343504,-2.2316700095443904,1.8852124153599492,-0.14140563775360687,-2.1269455860239366,2.636221563064441,-2.7397379157452524,3.136533602641354,1.0532128613694465,-2.888387295712907,-1.6935374734571518,-2.9701050655800714,1.0920343284846699,-0.9366893093896634,-0.5645307009956203,1.6052675279131505,-0.46799261436273093,-0.8333617032617056,3.82241083086754,3.1459718191246484,-1.222581685042326,0.12147367289032107,0.46419595511919887,-5.660121142374856,-0.9891079366174631,2.3365674493703508,0.30888734741176005,2.487484172132158,1.2592865102252084,-0.8376592721896788,0.7520992251711555,-0.4050722817220828,0.8922737529153069,0.20453420442595044,2.3271831471263837,1.925630832411953,-2.1896591252962034,3.871178114525538,-2.0833636198017267,1.6610500221147166,-0.1562057307485126,3.358942307567823,2.512982964308266,-0.04973281520329022,0.30011757358827934,-5.6703850250393035,-0.23285784371979684,1.2160774725197112,-0.8337353398931878,2.9174117857175323,1.7540453703501233,-1.1262585251269566,-2.033755087173194,0.8016007622811528,0.9703666610023477,-0.15138592335440373,0.9147256447585561,-0.9430598628812406,-2.9363899234845303,-1.847102955436336,1.4852310683683139,0.09293210813515472,0.7903550434417885,3.169513157932826,1.3217952246587925,-2.021228635081631,-1.4686572295236537,1.643403548258086,-0.3044930510521945,1.810017295644522,-2.395018085782777,-1.3948757870420556,4.075172169775623,1.1645200831163467,2.752518946755654,-2.1511068771837514,1.1161467846388047,-2.487340130856017,-3.362252165134411,-1.3664911614029198,2.196714160893111,-1.6125676167355067,2.12877722900346,1.7153535516724938,-1.084461706719991,-1.2509129997736272,1.9336886785068315,0.02142635859214744,3.3780760553202236,-2.260329385281015,2.3245829801203657,0.6142746322184047,-1.9990429419788391,0.2857615533279429,3.6925841624690174,0.21472949345458556,2.9195554078874215,1.897350717464259,-3.454706550491087,-5.673665452140724],\"type\":\"scatter3d\"},{\"customdata\":[[\"I\",\"Money Transfers\"],[\"wire\",\"Money Transfers\"],[\"transfered\",\"Money Transfers\"],[\"{$66000.00}\",\"Money Transfers\"],[\"to\",\"Money Transfers\"],[\"a\",\"Money Transfers\"],[\"marketing\",\"Money Transfers\"],[\"company\",\"Money Transfers\"],[\"as\",\"Money Transfers\"],[\"an\",\"Money Transfers\"],[\"investment\",\"Money Transfers\"],[\"for\",\"Money Transfers\"],[\"commissions\",\"Money Transfers\"],[\"on\",\"Money Transfers\"],[\"small\",\"Money Transfers\"],[\"business\",\"Money Transfers\"],[\"loans\",\"Money Transfers\"],[\"that\",\"Money Transfers\"],[\"close\",\"Money Transfers\"],[\".\",\"Money Transfers\"],[\"This\",\"Money Transfers\"],[\"company\",\"Money Transfers\"],[\"described\",\"Money Transfers\"],[\"themselves\",\"Money Transfers\"],[\"as\",\"Money Transfers\"],[\"a\",\"Money Transfers\"],[\"Network\",\"Money Transfers\"],[\"Marketing\",\"Money Transfers\"],[\"Company\",\"Money Transfers\"],[\".\",\"Money Transfers\"],[\"But\",\"Money Transfers\"],[\"never\",\"Money Transfers\"],[\"delivered\",\"Money Transfers\"],[\"any\",\"Money Transfers\"],[\"service\",\"Money Transfers\"],[\"or\",\"Money Transfers\"],[\"products\",\"Money Transfers\"],[\"promised\",\"Money Transfers\"],[\".\",\"Money Transfers\"],[\"In\",\"Money Transfers\"],[\"addition\",\"Money Transfers\"],[\",\",\"Money Transfers\"],[\"all\",\"Money Transfers\"],[\"the\",\"Money Transfers\"],[\"contacts\",\"Money Transfers\"],[\"and\",\"Money Transfers\"],[\"phone\",\"Money Transfers\"],[\"numbers\",\"Money Transfers\"],[\"have\",\"Money Transfers\"],[\"been\",\"Money Transfers\"],[\"disconnected\",\"Money Transfers\"],[\".\",\"Money Transfers\"],[\"I\",\"Money Transfers\"],[\"do\",\"Money Transfers\"],[\"have\",\"Money Transfers\"],[\"the\",\"Money Transfers\"],[\"banking\",\"Money Transfers\"],[\"routing\",\"Money Transfers\"],[\"info\",\"Money Transfers\"],[\"and\",\"Money Transfers\"],[\"am\",\"Money Transfers\"],[\"requesting\",\"Money Transfers\"],[\"the\",\"Money Transfers\"],[\"person/\",\"Money Transfers\"],[\"people\",\"Money Transfers\"],[\"connected\",\"Money Transfers\"],[\"to\",\"Money Transfers\"],[\"this\",\"Money Transfers\"],[\"account\",\"Money Transfers\"],[\"be\",\"Money Transfers\"],[\"tracked\",\"Money Transfers\"],[\"and\",\"Money Transfers\"],[\"stopped\",\"Money Transfers\"],[\".\",\"Money Transfers\"],[\"I\",\"Money Transfers\"],[\"would\",\"Money Transfers\"],[\"like\",\"Money Transfers\"],[\"to\",\"Money Transfers\"],[\"receive\",\"Money Transfers\"],[\"restitution\",\"Money Transfers\"],[\"and\",\"Money Transfers\"],[\"damages\",\"Money Transfers\"],[\".\",\"Money Transfers\"],[\"PayPal\",\"Money Transfers\"],[\"holds\",\"Money Transfers\"],[\"funds\",\"Money Transfers\"],[\"for\",\"Money Transfers\"],[\"items\",\"Money Transfers\"],[\"sold\",\"Money Transfers\"],[\"using\",\"Money Transfers\"],[\"their\",\"Money Transfers\"],[\"services\",\"Money Transfers\"],[\".\",\"Money Transfers\"],[\"PayPal\",\"Money Transfers\"],[\"is\",\"Money Transfers\"],[\"not\",\"Money Transfers\"],[\"the\",\"Money Transfers\"],[\"seller\",\"Money Transfers\"],[\",\",\"Money Transfers\"],[\"but\",\"Money Transfers\"],[\"they\",\"Money Transfers\"],[\"receive\",\"Money Transfers\"],[\"the\",\"Money Transfers\"],[\"benefit\",\"Money Transfers\"],[\"of\",\"Money Transfers\"],[\"the\",\"Money Transfers\"],[\"funds\",\"Money Transfers\"],[\"in\",\"Money Transfers\"],[\"their\",\"Money Transfers\"],[\"possession\",\"Money Transfers\"],[\"for\",\"Money Transfers\"],[\"items\",\"Money Transfers\"],[\"sold\",\"Money Transfers\"],[\"long\",\"Money Transfers\"],[\"after\",\"Money Transfers\"],[\"the\",\"Money Transfers\"],[\"items\",\"Money Transfers\"],[\"are\",\"Money Transfers\"],[\"delivered\",\"Money Transfers\"],[\"to\",\"Money Transfers\"],[\"the\",\"Money Transfers\"],[\"buyer\",\"Money Transfers\"],[\"when\",\"Money Transfers\"],[\"they\",\"Money Transfers\"],[\"should\",\"Money Transfers\"],[\"be\",\"Money Transfers\"],[\"in\",\"Money Transfers\"],[\"the\",\"Money Transfers\"],[\"hands\",\"Money Transfers\"],[\"of\",\"Money Transfers\"],[\"the\",\"Money Transfers\"],[\"seller\",\"Money Transfers\"],[\".\",\"Money Transfers\"],[\"They\",\"Money Transfers\"],[\"refuse\",\"Money Transfers\"],[\"to\",\"Money Transfers\"],[\"relinquish\",\"Money Transfers\"],[\"the\",\"Money Transfers\"],[\"funds\",\"Money Transfers\"],[\"claiming\",\"Money Transfers\"],[\"you\",\"Money Transfers\"],[\"need\",\"Money Transfers\"],[\"to\",\"Money Transfers\"],[\"prove\",\"Money Transfers\"],[\"that\",\"Money Transfers\"],[\"you\",\"Money Transfers\"],[\"are\",\"Money Transfers\"],[\"a\",\"Money Transfers\"],[\"good\",\"Money Transfers\"],[\"seller\",\"Money Transfers\"],[\"to\",\"Money Transfers\"],[\"be\",\"Money Transfers\"],[\"removed\",\"Money Transfers\"],[\"from\",\"Money Transfers\"],[\"the\",\"Money Transfers\"],[\"program\",\"Money Transfers\"],[\"which\",\"Money Transfers\"],[\"assumes\",\"Money Transfers\"],[\"guilt\",\"Money Transfers\"],[\"or\",\"Money Transfers\"],[\"criminal\",\"Money Transfers\"],[\"intent\",\"Money Transfers\"],[\".\",\"Money Transfers\"],[\"I\",\"Money Transfers\"],[\"was\",\"Money Transfers\"],[\"told\",\"Money Transfers\"],[\"I\",\"Money Transfers\"],[\"would\",\"Money Transfers\"],[\"be\",\"Money Transfers\"],[\"removed\",\"Money Transfers\"],[\"from\",\"Money Transfers\"],[\"the\",\"Money Transfers\"],[\"program\",\"Money Transfers\"],[\"after\",\"Money Transfers\"],[\"a\",\"Money Transfers\"],[\"phone\",\"Money Transfers\"],[\"call\",\"Money Transfers\"],[\",\",\"Money Transfers\"],[\"but\",\"Money Transfers\"],[\"now\",\"Money Transfers\"],[\"they\",\"Money Transfers\"],[\"refuse\",\"Money Transfers\"],[\"and\",\"Money Transfers\"],[\"can\",\"Money Transfers\"],[\"not\",\"Money Transfers\"],[\"find\",\"Money Transfers\"],[\"record\",\"Money Transfers\"],[\"of\",\"Money Transfers\"],[\"such\",\"Money Transfers\"],[\"a\",\"Money Transfers\"],[\"promise\",\"Money Transfers\"],[\".\",\"Money Transfers\"]],\"hovertemplate\":\"label=%{customdata[1]}<br>x=%{x}<br>y=%{y}<br>z=%{z}<br>token=%{customdata[0]}<extra></extra>\",\"legendgroup\":\"Money Transfers\",\"marker\":{\"color\":\"#19d3f3\",\"symbol\":\"circle\"},\"mode\":\"markers\",\"name\":\"Money Transfers\",\"scene\":\"scene\",\"showlegend\":true,\"x\":[9.576584400252973,-0.502726942180233,-1.078880456403819,-1.3081453528334475,-3.4137218860079277,-1.3278853671036805,-1.4462782682983584,-1.9542193075617738,-1.8015728767947106,-1.9082248274389906,-0.7131129081113021,-1.7769669158173642,-1.4860264500203226,-3.2501796094382907,-2.2311501873080197,-1.4082122826611587,-1.3352594362590502,-1.1274982439045178,-3.0508616460836127,0.08238639213343935,11.677525987701776,-0.34684208650670423,-0.5996133158286056,0.32859919054273357,-0.6950728319823746,1.2997970555722662,8.263836935326188,7.835299553263524,6.595373742156571,0.5152949505626476,11.12173346133813,-0.6108419459712421,-1.791248955932084,-1.4405021575278691,-1.724204843439759,-1.9868799711948035,-0.8027981634249306,-1.741220688904457,-0.06574653819079074,11.771357792889662,-0.7447185688336442,-1.526901641836519,-0.542628916762567,-1.5294169345156297,-0.1343654344783302,-1.9218634057428972,-3.3966053318608935,-2.039694524040751,-0.9969690969407867,-2.058887625227526,-1.9279205418321137,0.4553173634515385,12.557216956383185,-0.2036345299883342,-2.3629194179676545,-1.566787997295449,-1.4777673263858606,-1.4428231390662927,-1.5504326856742543,0.20979227016058616,0.7142220307271259,-0.9398402072566513,-1.6582691285722768,-0.5727110148478123,-0.9677737783488307,-1.149448281299234,-3.296109085895198,-1.911173616678717,-1.4815935448567907,-0.9756700818269944,-3.061849953248595,-1.846163069036313,-3.4919548565127347,-0.3770682760711596,12.822845519617433,0.900443299526853,-2.4830730733500297,-2.3007156566066462,-1.0288169165174579,-2.7764128767909955,-1.841203436377434,-0.9826792365627011,0.5645559410087233,11.388838914700013,-2.1726768410227586,-0.8408735154168527,-1.946658126774508,-0.8806786014750096,-3.353020404817537,-1.520755918633489,1.0845051065549376,-1.4323540402509873,-0.6080236845147843,11.659342174332062,-1.8605414886870923,-1.720462754063487,-2.1566463626992785,-2.1099594394871413,-1.9185369660343885,-1.881019558500365,1.2839847223947825,-0.8870157908134162,-1.877244204372022,-2.7412492825483152,-2.3962724038511003,-2.168321158119478,-0.5010286275985156,-3.125426340857843,-0.04105229475569518,-1.46487145514711,-2.039088777333451,-0.886110605055613,-3.433914352382784,-1.3521879664529788,-2.0729930653520183,-2.000424969795852,-0.8588755512072672,-1.5049505239751997,-1.320102831115711,-3.5473392421369025,-1.866698546450052,-2.524805589053371,-1.0825624588410532,-1.310660641858224,-1.6476164733894747,-2.7947487483477538,-2.7988979790595105,-2.3490924434614673,-4.320767371835909,-2.7529432001725125,-1.7717367342695858,-1.591106248389383,-0.1658790521375667,11.223995292369297,-0.10926675102031914,-2.707720780850156,-1.6229516095543906,-1.8178843818329173,-0.9460351685048293,-0.6435027045728788,2.3760641435111958,-1.525369151985967,-3.0150717619649945,-1.4213302869301663,-1.3272121925210076,2.2494973254377153,-2.016737678396136,-2.4401217381353555,-1.6303482207686026,-2.7927161252869297,-2.5632207304501717,-1.6985808517107297,-3.551457352731738,-0.4360529327107404,-1.3768419620062025,-1.6737605316398136,-2.483929545780993,-1.8549630272354303,-2.946613174220391,-2.621851546932153,-2.1387787140319188,-3.752751746152315,-0.3618091781154415,14.003809607056528,-2.276137846953451,-0.27714453161322256,8.296993777551268,-0.5547105765145,-1.7463122828252842,-3.3505910655586697,-0.1619746406072498,-1.2132630113370182,-1.4994282564690176,-3.09562996089772,-2.7318378894327457,-3.77545074653921,-3.9563566802158943,-2.0536759905948903,-1.2818378085980962,-0.8126608109787394,-0.3071368761366227,-1.567670737383526,-0.18288988177182108,-2.1544705854046566,-2.347050538442197,-2.69588207823355,-1.3945932926293712,-2.0943810833928027,-2.1884521024212162,-2.7676485214313793,-2.666862872621452,-0.14463814435151995],\"y\":[2.2805685364802786,2.713103323314193,2.7152408573819646,3.7207555987958454,1.2642771219657047,1.9085275069165257,3.0023615488945876,2.3934918243782684,2.182032847349845,2.492769379707576,3.5696309973679297,2.8620091001397565,3.5113576130525233,1.6199246739983864,1.4065720868940168,2.5640143009418024,3.141829307441184,1.8680160166672104,2.8308032257590234,1.7537167714057296,2.1182092800156127,2.8638454053174045,2.6672475869452454,1.5373435540953175,1.5331078216784693,2.8631982455055285,3.3694784783579776,3.392010443589852,4.0624110887809,2.0196232091516584,2.2162921169179595,1.606713180758346,2.2225248668083606,1.8135492175576204,2.4704546695459086,1.8651457484202991,2.218437897170344,2.2677640926067317,1.016954629580494,1.290781180558858,2.359115882140118,1.3052648410657937,1.299621632316156,2.05539361997839,3.023294617078005,2.210661973423308,-0.17366690379341693,1.3115273789674244,0.46016826271601796,0.3040534939646928,2.3326430910973976,-11.15225686131247,1.0655565722549438,0.6995900571284502,0.8279532592227417,2.052250914497072,3.801875313139484,3.433066198413447,3.1798870679733335,2.071664229121403,2.7104548170069482,1.8602530076833814,2.4000112728785497,3.547155130968427,2.2694457219395012,1.4412784153818783,1.117795787629625,1.2872067944338812,2.9317057684831247,0.8132972967013453,2.990410962589871,1.2948878465946942,2.979436390789271,1.4731585625542398,1.8677889837527775,0.05654477219061915,-2.8391398249310256,0.28781572365342,1.4307339179222993,2.941789604145977,1.8708951971842323,3.1024209506887623,-12.05121233061618,1.1955624097849213,2.743913541437054,1.1640573244258772,1.9625297282400291,0.8844317013300281,0.16850819816058724,1.4743116373392902,1.1850232221087245,3.1652166926163634,0.7622944044539188,1.3735723332472647,1.038517326325338,-0.6810157441183918,0.8959180210448554,1.0798727923329166,1.4432218571670998,-2.1096537867682668,-1.1130874938691264,0.46877498659091843,0.46374767356859803,2.6745975960283452,1.5111661914693724,1.5627468295016247,0.7953910470983577,1.0925055097887078,0.19022965531498512,2.5352350483114723,1.2031574093590816,0.628835309002692,0.08115636601427517,2.656768150444149,1.845820056557085,1.5310798473995366,0.7389318355763271,0.3997064366818669,1.0275014775896343,0.39796696427858486,1.6846500549896912,1.4255271324022925,1.88880660378367,-0.25921167534586387,0.8719448621424657,0.4168308403705531,0.37662065004340456,0.2728996153568599,0.28743285534705243,0.9563772234885254,1.402750475090515,-0.17577387188424534,-13.801213534647786,0.4237401634344198,0.06665809856555062,-0.20741110572523797,3.076489462989884,1.5211277579071278,1.5794199430203026,1.9614657581896704,-2.8471589085257225,-2.184315699345726,-0.42758401702981086,0.05415001322856998,-0.04082205882716185,-2.3739145591666095,0.17053807581349023,0.4245255117199127,0.8005216477257793,1.4966584837242987,-0.40249219528222124,-0.018353225235550406,0.921669556052058,-0.10813951341704828,1.7994481150389958,2.7486388152085315,2.2140595763456585,2.7934641370745092,2.4988379689914804,1.431856696025549,2.5110453802922756,3.1602555402278805,0.31380775616171713,0.4767235937492689,0.838831146387142,-1.380757453389966,2.0259835483694175,0.3247275480449075,0.32663080017982676,0.7752519055062932,-0.35844116482230093,1.7181488228299868,2.347897516497731,1.75465721549553,0.7083730103377878,0.3817420914026527,0.6168270385851304,1.1678923418442808,-1.236026011426594,0.8296632025917846,-1.166521707161732,0.7473631775803107,1.3739323087886666,-1.2310605195799895,-0.40337765331486913,1.2681667207110086,1.7420255405764415,1.5590906062030834,1.5421714560345994,1.4607473348438236,2.443784442377242,-14.08838294479344],\"z\":[1.287100283880873,-2.889290380928581,-3.0151335583687886,-2.279873118993286,3.9900650488343445,3.738258641460682,-0.8900025808853443,3.3051834991780527,3.1997157255491877,3.233229938890173,-0.4350378010314159,1.6863731805691244,-1.8619245248820144,2.5460174120905155,0.8843383932941916,0.37849192747983185,-1.4910450365652899,1.104782548352511,-2.2000414412593443,-1.957056779276949,1.1827601908386638,-0.2902513612903609,-0.9154485026153975,-1.8933669873750067,1.778610522285801,-0.5844372469989744,-1.8856433086149664,-1.621445010578247,-2.756336977497549,-2.217070198169732,0.8418997360903613,-0.8456791872436594,-0.20309568971531244,2.298727485556629,0.030177022975694776,2.541264784329464,0.0953909978224939,-1.9531095484348668,-0.5067490486013222,1.6488211014128304,0.03294179871047114,2.1223971561879704,2.2531781963381015,1.8194502825692107,-2.117845198172321,2.7995902387476757,1.255944353026689,1.0192355983544268,2.2506154142782338,3.2932087343528718,-2.0614917830855477,-3.2096959472460553,1.6179330232869793,-1.0779536521500626,1.5652267144254886,1.562290956808744,-3.0000131568337345,-2.5440591337932736,-3.062046569559192,1.9044099557179548,-2.4409297961888576,-1.0261028221775355,2.5231520144217225,-1.445056984643422,-1.6022741733176629,0.17356444010344865,3.4070101258813774,1.8545921994373957,-1.044727823345139,3.491846507975832,-1.245022605886801,3.917974811081234,-2.2685460517988165,-1.1915556218368855,0.9320170881904777,0.02616001709670733,-2.115727957030004,3.7198797073196723,1.8025968416038962,-1.8665539990749804,2.692302427071792,-1.7773298785693326,-3.5223965424257555,1.4985755917793422,-1.3211512948146331,2.2458519757763202,3.4064157224615212,2.831121867898781,2.5754106111171198,-0.09415694502246554,1.5978607048102242,-1.719303118421613,0.25893975908806943,0.9606271323051134,1.614897691720625,3.6208087810919043,3.881431264436122,0.36934306716713633,2.014463093126456,3.7427337912906977,2.633272483750415,3.3191947111531017,4.491969626169023,-1.6236487105925694,3.4970708447406613,3.2272015941067345,1.811127205089196,5.351106935319831,3.491227583565195,-3.3051792760956396,2.8280697400289703,2.6647530508360626,2.4801008204730155,-1.9904986787823806,2.172897041487048,2.931159801017807,2.2783957974416866,4.359915314771902,2.701236262603779,5.2299188149883005,4.050509916859495,-0.4158005363773502,2.1386875915265073,2.9336292016064807,-0.04481318276184995,3.6844871946666666,5.356534653196424,4.59167282649341,-3.013169108646392,3.1761829384367553,4.462480981322248,1.9562731524481969,-0.09256053291267237,2.5530641628886768,0.8210182093912236,4.858511901594014,-2.474658065112455,2.3897067125679117,1.331190798534945,-2.511539741560618,1.7345202526002854,2.9317190247329044,4.80517848837028,1.8068970448663213,4.846130910441326,1.9438988766397896,3.5001783764313643,4.500544914321864,-1.3840871793864633,-1.00787830455907,5.176924318366346,4.632387009937582,2.221066070952747,4.570583199586026,2.8953820641440773,-0.9139712564574323,1.8030100274286571,-1.4367030690549683,-1.8365840235707591,1.004568948317116,-1.531216819383567,-2.0741123878252106,0.3082790390832456,1.8555174602334747,0.3388475236633686,-2.6714135994605646,-1.987728078199442,2.550973525654394,3.931515977243981,2.5898361828399508,4.884334186940082,3.2410281318426164,0.9886923689850337,2.0021443649446913,3.763303077770124,-1.2650925192909506,-0.21870156703282007,1.7278899132413612,3.2890710982336824,-1.7021376797016843,2.5814412933141355,-0.9977274308462186,3.0660312133176117,2.5078281427130165,3.4048564126862875,-1.9252677494341515,-2.1830854596792797,2.1301504063550687,3.659448800625372,2.8529830444850344,-2.5420148889761873,-0.15630799272541443],\"type\":\"scatter3d\"},{\"customdata\":[[\"We\",\"Mortgage\"],[\"have\",\"Mortgage\"],[\"requested\",\"Mortgage\"],[\"Covid\",\"Mortgage\"],[\"19\",\"Mortgage\"],[\"help\",\"Mortgage\"],[\"and\",\"Mortgage\"],[\"got\",\"Mortgage\"],[\"approval\",\"Mortgage\"],[\"from\",\"Mortgage\"],[\"Carrington\",\"Mortgage\"],[\"mortgage\",\"Mortgage\"],[\".\",\"Mortgage\"],[\"Just\",\"Mortgage\"],[\"to\",\"Mortgage\"],[\"find\",\"Mortgage\"],[\"out\",\"Mortgage\"],[\"that\",\"Mortgage\"],[\"the\",\"Mortgage\"],[\"company\",\"Mortgage\"],[\"is\",\"Mortgage\"],[\"doing\",\"Mortgage\"],[\"nothing\",\"Mortgage\"],[\"for\",\"Mortgage\"],[\"us\",\"Mortgage\"],[\".\",\"Mortgage\"],[\"They\",\"Mortgage\"],[\"have\",\"Mortgage\"],[\"posted\",\"Mortgage\"],[\"bad\",\"Mortgage\"],[\"credit\",\"Mortgage\"],[\"for\",\"Mortgage\"],[\"us\",\"Mortgage\"],[\"also\",\"Mortgage\"],[\".\",\"Mortgage\"],[\"This\",\"Mortgage\"],[\"is\",\"Mortgage\"],[\"wrong\",\"Mortgage\"],[\"!!!\",\"Mortgage\"],[\"Carrington\",\"Mortgage\"],[\"does\",\"Mortgage\"],[\"not\",\"Mortgage\"],[\"follow\",\"Mortgage\"],[\"financial\",\"Mortgage\"],[\"legal\",\"Mortgage\"],[\"practices\",\"Mortgage\"],[\".\",\"Mortgage\"],[\"We\",\"Mortgage\"],[\"have\",\"Mortgage\"],[\"called\",\"Mortgage\"],[\"in\",\"Mortgage\"],[\"many\",\"Mortgage\"],[\"times\",\"Mortgage\"],[\"for\",\"Mortgage\"],[\"help\",\"Mortgage\"],[\".\",\"Mortgage\"],[\"Carrington\",\"Mortgage\"],[\"always\",\"Mortgage\"],[\"says\",\"Mortgage\"],[\"they\",\"Mortgage\"],[\"will\",\"Mortgage\"],[\"help\",\"Mortgage\"],[\"with\",\"Mortgage\"],[\"given\",\"Mortgage\"],[\"current\",\"Mortgage\"],[\"pandemic\",\"Mortgage\"],[\"and\",\"Mortgage\"],[\"has\",\"Mortgage\"],[\"damaged\",\"Mortgage\"],[\"our\",\"Mortgage\"],[\"credit\",\"Mortgage\"],[\".\",\"Mortgage\"],[\"Congress\",\"Mortgage\"],[\"is\",\"Mortgage\"],[\"funding\",\"Mortgage\"],[\"them\",\"Mortgage\"],[\"and\",\"Mortgage\"],[\"they\",\"Mortgage\"],[\"are\",\"Mortgage\"],[\"not\",\"Mortgage\"],[\"helping\",\"Mortgage\"],[\"people\",\"Mortgage\"],[\".\",\"Mortgage\"],[\"We\",\"Mortgage\"],[\"have\",\"Mortgage\"],[\"sent\",\"Mortgage\"],[\"in\",\"Mortgage\"],[\"all\",\"Mortgage\"],[\"requested\",\"Mortgage\"],[\"information\",\"Mortgage\"],[\"multiple\",\"Mortgage\"],[\"times\",\"Mortgage\"],[\"with\",\"Mortgage\"],[\"no\",\"Mortgage\"],[\"help\",\"Mortgage\"],[\"!!!\",\"Mortgage\"],[\"Carrington\",\"Mortgage\"],[\"seems\",\"Mortgage\"],[\"to\",\"Mortgage\"],[\"misplace\",\"Mortgage\"],[\"a\",\"Mortgage\"],[\"lot\",\"Mortgage\"],[\"of\",\"Mortgage\"],[\"documents\",\"Mortgage\"],[\"just\",\"Mortgage\"],[\"to\",\"Mortgage\"],[\"request\",\"Mortgage\"],[\"them\",\"Mortgage\"],[\"again\",\"Mortgage\"],[\".\",\"Mortgage\"],[\"I\",\"Mortgage\"],[\"filled\",\"Mortgage\"],[\"out\",\"Mortgage\"],[\"a\",\"Mortgage\"],[\"contact\",\"Mortgage\"],[\"form\",\"Mortgage\"],[\"two\",\"Mortgage\"],[\"times\",\"Mortgage\"],[\"and\",\"Mortgage\"],[\"never\",\"Mortgage\"],[\"received\",\"Mortgage\"],[\"a\",\"Mortgage\"],[\"response\",\"Mortgage\"],[\"from\",\"Mortgage\"],[\"my\",\"Mortgage\"],[\"loan\",\"Mortgage\"],[\"company\",\"Mortgage\"],[\".\",\"Mortgage\"],[\"I\",\"Mortgage\"],[\"would\",\"Mortgage\"],[\"like\",\"Mortgage\"],[\"to\",\"Mortgage\"],[\"find\",\"Mortgage\"],[\"out\",\"Mortgage\"],[\"when\",\"Mortgage\"],[\"my\",\"Mortgage\"],[\"Yearly\",\"Mortgage\"],[\"Escrow\",\"Mortgage\"],[\"Analysis\",\"Mortgage\"],[\"is\",\"Mortgage\"],[\".\",\"Mortgage\"],[\"I\",\"Mortgage\"],[\"just\",\"Mortgage\"],[\"had\",\"Mortgage\"],[\"to\",\"Mortgage\"],[\"pay\",\"Mortgage\"],[\"two\",\"Mortgage\"],[\"supplemental\",\"Mortgage\"],[\"tax\",\"Mortgage\"],[\"payments\",\"Mortgage\"],[\"for\",\"Mortgage\"],[\"around\",\"Mortgage\"],[\"2300\",\"Mortgage\"],[\"each\",\"Mortgage\"],[\".\",\"Mortgage\"],[\"I\",\"Mortgage\"],[\"would\",\"Mortgage\"],[\"like\",\"Mortgage\"],[\"to\",\"Mortgage\"],[\"know\",\"Mortgage\"],[\"when\",\"Mortgage\"],[\"I\",\"Mortgage\"],[\"would\",\"Mortgage\"],[\"be\",\"Mortgage\"],[\"receiving\",\"Mortgage\"],[\"my\",\"Mortgage\"],[\"escrow\",\"Mortgage\"],[\"over\",\"Mortgage\"],[\"payment\",\"Mortgage\"],[\".\",\"Mortgage\"],[\"The\",\"Mortgage\"],[\"company\",\"Mortgage\"],[\"is\",\"Mortgage\"],[\"called\",\"Mortgage\"],[\"Loancare\",\"Mortgage\"],[\".\",\"Mortgage\"],[\"I\",\"Mortgage\"],[\"'\",\"Mortgage\"],[\"ve\",\"Mortgage\"],[\"read\",\"Mortgage\"],[\"hundreds\",\"Mortgage\"],[\"of\",\"Mortgage\"],[\"reviews\",\"Mortgage\"],[\"about\",\"Mortgage\"],[\"Loancare\",\"Mortgage\"],[\"and\",\"Mortgage\"],[\"they\",\"Mortgage\"],[\"are\",\"Mortgage\"],[\"all\",\"Mortgage\"],[\"horrible\",\"Mortgage\"],[\",\",\"Mortgage\"],[\"they\",\"Mortgage\"],[\"all\",\"Mortgage\"],[\"say\",\"Mortgage\"],[\"the\",\"Mortgage\"],[\"company\",\"Mortgage\"],[\"never\",\"Mortgage\"],[\"responds\",\"Mortgage\"],[\".\",\"Mortgage\"]],\"hovertemplate\":\"label=%{customdata[1]}<br>x=%{x}<br>y=%{y}<br>z=%{z}<br>token=%{customdata[0]}<extra></extra>\",\"legendgroup\":\"Mortgage\",\"marker\":{\"color\":\"#FF6692\",\"symbol\":\"circle\"},\"mode\":\"markers\",\"name\":\"Mortgage\",\"scene\":\"scene\",\"showlegend\":true,\"x\":[12.992152718967569,0.33314132517953415,-2.4454425343878246,6.528773410334685,-2.337896204006677,-4.184060414536774,-1.5964152982959032,-1.9243682363698322,-2.7917757181652942,-1.5388060851814562,7.442533884464067,-0.4395411913563008,0.20800879734930194,13.151231268967846,-1.090927722322089,-1.564397174280766,-0.38922842805955726,-0.9498376797119248,-0.8592521063844439,-1.2093011274586494,-2.7110888294902047,-4.029848520051024,-1.9147577412148127,-2.337984241051193,-1.0266260330230992,-0.5167134934453314,15.234444275077422,-0.6647003207225123,-3.8911530331864417,-1.7116199514416126,-2.68345816424608,-2.545129243958166,-0.6397466041677737,-1.9276909225036594,0.11753752517645939,14.627886563883349,-1.9531210520268907,-2.5441797611966805,0.32418432567286337,14.929595928717914,-1.7565919288419252,-1.6499876211403766,-4.806908324357705,-1.942112446637775,-2.7111083099021993,-2.4947914436151226,0.01961756807434579,15.330532420283784,-1.011161707043915,-2.916389009846565,-2.9204016452368617,-3.4872710762018495,-0.8981275548598918,-2.004838568645178,-4.336027703954004,-0.03859923766937961,15.228177847688197,0.5561215063734279,-0.8954397881460893,1.7589484875888506,-3.287171816201893,-5.802268947407634,-1.7963200593707542,-1.0100939805681683,-2.873317040337562,-2.2272666975766735,-0.36930963575211295,-2.0258846857301562,-2.549822195311341,-1.0290074405506933,-1.9166491324208037,-0.47329389822000106,15.006311877472633,-2.5896303951559783,-3.178229616491767,-1.3261976315630837,-1.041628222897867,2.179882057588528,-2.2786294570497345,-2.018990460745899,-5.275657248705692,-1.8233697989551405,-0.4054509387931962,15.1731109146594,-0.804945812321785,-2.8050425880365615,-2.6063531446199506,-0.1751770393585123,-2.792914199258503,-1.748303950821423,-2.0305580204810343,-0.8085623582324918,-2.024624639072053,-0.9713379258172283,-5.481272182936419,1.5394033762299175,14.847548433175913,0.6742435264802197,-3.0441219688425956,-3.5204873367711467,-3.183972259531156,-3.12926258846435,-3.045200005562794,-0.5527890622774533,-1.217855713195896,-3.0668891921949126,-3.272995487293703,-2.5606117697011097,-3.1814764279847196,-0.07173564983593461,11.822918681755347,-1.129779886661563,-0.31277207865403933,-2.0288389886390514,-1.7611775587054495,-0.402159968023113,-5.1770410046674336,-1.6013355517503163,0.013433429342977428,0.5154286280929387,-1.8519855118796575,-2.796673959162484,-1.9899819309341735,-1.8137113066781614,4.593920560704091,0.2524887218408796,-1.613929752765647,-0.389322760479411,13.491397713268329,-0.06621220833133228,-3.004685535005299,-2.9580546502301184,-1.785348774972146,0.07616368307773805,-0.1057578505514238,2.8596673483294945,5.560964625864874,5.907032879711059,7.538281386198034,-2.0921280884054645,-0.3837961866410347,12.833019599506278,-0.24997073620313917,-3.15796523754514,-2.556973648612595,-2.3181031131574024,-2.962121510992091,-0.9894355664906251,-2.3884756034490744,-0.908600047787296,-1.9077394731966266,-1.1590131475606584,-0.7362972374490431,-1.3880240319630415,-0.4434698630179096,14.504599745179146,0.08130028237332629,-2.1445283076434567,-3.283264273035237,-2.216034738324156,-0.269581611245966,12.066851112786363,-1.3998498996362696,-3.3638648411644754,-1.6942027814027347,2.869347949567471,0.6092048907103583,-0.41204329787258265,-1.4079713549591875,1.275952457986388,12.01086675497455,1.3987129509891751,-1.1967573587153606,-1.3909278702777481,10.856480382731936,-0.003224279818852553,12.432908619622616,0.7235410155232372,-1.1760361457584987,-2.3649830147353277,-1.7789047170944972,-2.6703931813419994,-1.210947434497926,-1.6167905920252754,11.087278111225059,-0.2955778674693855,0.8727799457771711,-1.6637195626889405,-1.1540087091082112,-1.1677454069918065,-0.5195150690271574,1.334914519749863,-0.9285737262849709,-0.1966310155685929,0.20783178705004846,0.9758784877952482,-0.009449827591906173,-1.3105360623344586,1.732371824614684],\"y\":[-0.7806240568780934,-1.5843394097927181,-0.02867481791243393,2.191806541198841,2.4066347249424878,-0.1309086269732731,0.5172132665230544,2.2014151215783966,1.2952440796455071,0.12720348239194254,2.395954709384183,2.3646694401127473,-0.535241152379889,-0.33494282952826887,-1.831304126874522,-1.7946428005310218,-2.6427826424405305,-0.9470974863963838,0.9705903042422049,0.8351782641935964,-2.4372407121250603,-3.2372041698931566,-3.5301572774355447,-2.2052605633609352,-1.2038004097111963,-1.5328773547637944,-1.394666048148442,-1.4019204434890151,1.1269828508928414,1.0511827097283293,2.5763367854053456,0.14884999902291265,-0.43694183950118454,1.3616975890948673,-1.1611878155512554,-0.2472089133859797,-2.548261286642892,-3.0007367571617194,-4.686972478871898,-0.07921341907470725,-2.4434250489025557,-1.4720124443424116,0.2708652991362092,2.4530869442172754,2.3106384343561297,1.5130781711890293,-1.0879359600555385,-1.3477045597583739,-1.6328551935799234,-1.0037279247696589,0.03914475565700427,-1.381956207594604,-0.2255527768028937,-0.21929162431963384,-1.310325094345469,-2.025919408783166,-0.28488990537669884,-1.3755672882994692,-3.3694554207519674,-2.2488966665933536,-0.8059015083565108,-1.7313782507278743,1.5041620910174942,1.848654081799984,1.8540580025971134,2.9800339016472774,0.6691241572202081,-0.7790795877426734,0.8948884644149213,0.5793441952312176,2.1173170316715497,-0.7278730467241672,-0.08898130253960722,-2.267086334157639,0.13687168023306337,-0.8414901736257596,-1.1599732557320632,-1.8868639328562493,-2.5352856112912803,-2.206780640100824,-1.2990536594909294,-0.6009581470956535,-0.9929937866956752,-0.9815730978728034,-1.7187831146296904,-0.3287340287278941,0.8135766205314845,1.136250637039751,0.7667975310510249,2.3175265742952713,1.398795705826229,-0.2401457823623546,-0.8410543499928896,-0.5285840436508883,-2.2524785136954204,-4.038011106446112,0.1351188019077576,-2.499065483561608,-1.746644136475642,-0.7498883217630258,-0.041471930844224174,-0.48601304947954777,0.8474486180362039,1.6141454641204311,-1.390770696475265,-1.5527470427967505,0.532215532694975,-1.1857853526868976,-0.8598462345619644,-14.345448533667277,0.7546911589079441,1.1312236606989123,-0.4644848260059671,1.8268766682735198,1.7857192542639435,2.659855967730902,-0.26818133410026435,0.34527048855748765,1.3025583613131453,-0.6947397045611302,-0.01914830797528391,1.3281494352811063,1.1959551849924352,0.2646847647486229,-0.8282355529568429,2.5904015055332645,2.7772388108004575,-0.20918100053185285,0.6023742639985371,-2.8595538649516135,-5.482625968596872,-2.379509177095006,-1.3694513878239416,-1.6162812183005832,1.1995996814188685,-0.5544952492703575,2.5451123096313792,2.283511884813406,2.0778349657994384,-0.0591329031833532,0.055465285327614855,0.024246621245059115,-1.446192267833597,-2.601059456473262,-0.32545079928751286,0.8128762841175778,1.0962803237874688,3.6242003559041267,3.0121543854758506,1.8703578344398748,1.9236602609301945,0.15741089163422883,1.8134845324408344,1.8852674079103224,0.05007913490077985,0.5009650691140508,-3.0402513143330174,-5.773274804707846,-2.800142536752031,-2.7513909144229984,-0.11714199560448289,1.1087554173808651,-2.314083488662701,-1.6689469865032291,1.4615497630996979,-0.6967857215304626,2.584556083071132,2.490415594287685,2.416586093174311,-11.998637025871696,0.8815790394346056,1.347895278594879,-1.3016876375815407,-0.5964376529772967,1.7072679113191904,-0.5002818720311679,0.5724096867428823,0.896685968876465,-0.8364369799318745,-1.1705624802175307,0.18569083707411557,0.8689818299447987,1.3289069935342972,-1.0950893065640535,1.453236719508167,0.5070455235542924,-1.6433773648648964,-0.8179549245524844,-0.6676050760835419,-0.2322981832617139,-0.8858727744003432,-2.13972045113174,-1.2115663109834889,-1.7638018537101348,1.2121685298369587,1.1525640123640015,-1.360506257943843,-0.3952000653886483,-14.254692680656397],\"z\":[2.7257021556173906,3.156720700191853,0.8299483265031085,-1.4330419180948948,-1.9782249699477472,-1.0589103208478066,3.1033538436736823,-2.7595211919660017,-1.890688907866128,1.1317961984791396,-1.9155995413709588,-3.4171838214871517,-1.217822345954652,2.288953072290169,4.257763785242193,-0.5147750203689305,-0.6206071136585313,4.677810174241918,2.9657650016916444,1.6848220207027789,4.5777613159329995,1.026692165698312,-2.30213831828338,2.8427573468437033,2.0420121250186805,-0.5489749151670311,3.5166423204480113,3.264206442823962,-2.413217519720826,-2.478913845449698,-1.5340291837650277,1.9056702338198241,1.0208395354762652,-2.013667958733919,-0.5876638475584981,0.9592857067150968,3.519178401848386,-3.91441322819888,-1.28441490963026,1.8230067711404399,3.499769750355979,3.4018303590643586,0.044898554251739366,-0.8765075584783737,-1.5999601077716479,-1.09211100519644,-1.185162510544866,3.004945341511586,1.4314614261400582,-2.3499307071519757,1.9788034817975122,0.18656190705907094,-0.4767368595628983,1.5686958806868416,-0.7820888430022757,-1.159737848234466,2.387496765128681,-0.5488843799627976,0.10059845392524883,3.1271766349190777,0.845008113274345,-0.8989603275906678,-0.24356052426337862,-2.4241314131079603,-1.8523894058565715,-3.0965490813065544,1.176225263980115,-1.1855575727917917,-3.0620125130065734,0.36712320599932924,-2.4066752903072848,-1.1449091409332206,1.987880525581322,2.0767538615244185,-2.555765966312379,-0.9291889729749537,3.043832485775023,1.551811143304421,4.291309068932051,2.6410643893956447,-1.81723360079948,-2.0857266094985882,-2.002681217619876,3.0944582668599137,2.420806265479221,-2.5202936741669824,-1.0332801885126164,0.20786107324102474,-0.7454968987264642,-0.45819847516813866,0.5175133730763583,0.015600745311429971,2.5314355775406194,0.7550868375124412,-1.041795329547629,-3.6226960511914155,1.7656066096533687,-1.7294813468486374,4.524405533011883,-2.0595000633073903,2.700882278162122,-2.6180205284114786,3.1537647903720556,-1.6712026850771908,-1.671238866663453,4.78728809509312,0.06792013032369473,2.939231301601944,0.011350812915919769,-5.343729692586281,2.0006255052358766,-1.2892059205901523,1.2563984064146612,2.666424070178135,-2.4493010166612352,-1.8916646642658597,2.2100995178167566,-0.32183335251376644,2.4427170318951252,-1.2965408535102865,1.9849167363341018,2.886017099540414,-1.2492413762350414,1.7532297886445598,-0.3744520026700507,-2.2433103794886557,0.1740106374760157,-1.0746619854454833,1.7263593558247736,3.1369501503789765,-0.5527354197804565,5.203722603939164,-0.9720711499978959,0.10466292645574153,-0.33479502312023346,-0.8192918174966719,-2.763753688930212,-2.245954232910431,-1.0156173985997474,-0.19504492451507952,-2.1550934446494767,1.6126435836392938,-2.2637607069209396,1.1549600106145026,4.175712940899754,1.8874726004314075,1.749885546695464,-1.3552519042998115,-0.8915842180394673,1.2620970136511684,0.7034217919657497,-2.998474162447331,-2.433442965299773,-0.18623262353790787,-1.1453443202640938,1.9384085185757072,2.7141251820617467,-0.7490707811454081,5.14878817979194,-0.42891267685533935,3.1136051738782724,0.5118396463509467,4.423432149658815,4.0631450566990415,-0.04588086586425739,-0.6058064465199727,-2.9146590537365102,-2.6434253277218205,-0.3882662653842229,-3.8584561354735514,1.092118420896049,0.4784572378089273,2.9690531729927274,-0.8929026507510958,-1.0359115009721238,0.6932371234779332,0.965401891511075,-0.8998838124939087,-2.7126748697656526,-0.9002687496959126,-1.11474037429744,2.920206080754772,-2.152007548992241,-0.7531488916386553,0.43774581632700005,2.601702031777838,2.455259106275276,3.011101098521069,0.05341317850118165,-1.6010139335350604,0.8497958753892337,3.1489276965490145,1.4827408475847876,-1.2736110439357016,2.345686003286689,1.5488781928242519,-0.08095667877555912,-1.6340907355160386,-4.517187989026719],\"type\":\"scatter3d\"}],                        {\"template\":{\"data\":{\"bar\":[{\"error_x\":{\"color\":\"#2a3f5f\"},\"error_y\":{\"color\":\"#2a3f5f\"},\"marker\":{\"line\":{\"color\":\"#E5ECF6\",\"width\":0.5},\"pattern\":{\"fillmode\":\"overlay\",\"size\":10,\"solidity\":0.2}},\"type\":\"bar\"}],\"barpolar\":[{\"marker\":{\"line\":{\"color\":\"#E5ECF6\",\"width\":0.5},\"pattern\":{\"fillmode\":\"overlay\",\"size\":10,\"solidity\":0.2}},\"type\":\"barpolar\"}],\"carpet\":[{\"aaxis\":{\"endlinecolor\":\"#2a3f5f\",\"gridcolor\":\"white\",\"linecolor\":\"white\",\"minorgridcolor\":\"white\",\"startlinecolor\":\"#2a3f5f\"},\"baxis\":{\"endlinecolor\":\"#2a3f5f\",\"gridcolor\":\"white\",\"linecolor\":\"white\",\"minorgridcolor\":\"white\",\"startlinecolor\":\"#2a3f5f\"},\"type\":\"carpet\"}],\"choropleth\":[{\"colorbar\":{\"outlinewidth\":0,\"ticks\":\"\"},\"type\":\"choropleth\"}],\"contour\":[{\"colorbar\":{\"outlinewidth\":0,\"ticks\":\"\"},\"colorscale\":[[0.0,\"#0d0887\"],[0.1111111111111111,\"#46039f\"],[0.2222222222222222,\"#7201a8\"],[0.3333333333333333,\"#9c179e\"],[0.4444444444444444,\"#bd3786\"],[0.5555555555555556,\"#d8576b\"],[0.6666666666666666,\"#ed7953\"],[0.7777777777777778,\"#fb9f3a\"],[0.8888888888888888,\"#fdca26\"],[1.0,\"#f0f921\"]],\"type\":\"contour\"}],\"contourcarpet\":[{\"colorbar\":{\"outlinewidth\":0,\"ticks\":\"\"},\"type\":\"contourcarpet\"}],\"heatmap\":[{\"colorbar\":{\"outlinewidth\":0,\"ticks\":\"\"},\"colorscale\":[[0.0,\"#0d0887\"],[0.1111111111111111,\"#46039f\"],[0.2222222222222222,\"#7201a8\"],[0.3333333333333333,\"#9c179e\"],[0.4444444444444444,\"#bd3786\"],[0.5555555555555556,\"#d8576b\"],[0.6666666666666666,\"#ed7953\"],[0.7777777777777778,\"#fb9f3a\"],[0.8888888888888888,\"#fdca26\"],[1.0,\"#f0f921\"]],\"type\":\"heatmap\"}],\"heatmapgl\":[{\"colorbar\":{\"outlinewidth\":0,\"ticks\":\"\"},\"colorscale\":[[0.0,\"#0d0887\"],[0.1111111111111111,\"#46039f\"],[0.2222222222222222,\"#7201a8\"],[0.3333333333333333,\"#9c179e\"],[0.4444444444444444,\"#bd3786\"],[0.5555555555555556,\"#d8576b\"],[0.6666666666666666,\"#ed7953\"],[0.7777777777777778,\"#fb9f3a\"],[0.8888888888888888,\"#fdca26\"],[1.0,\"#f0f921\"]],\"type\":\"heatmapgl\"}],\"histogram\":[{\"marker\":{\"pattern\":{\"fillmode\":\"overlay\",\"size\":10,\"solidity\":0.2}},\"type\":\"histogram\"}],\"histogram2d\":[{\"colorbar\":{\"outlinewidth\":0,\"ticks\":\"\"},\"colorscale\":[[0.0,\"#0d0887\"],[0.1111111111111111,\"#46039f\"],[0.2222222222222222,\"#7201a8\"],[0.3333333333333333,\"#9c179e\"],[0.4444444444444444,\"#bd3786\"],[0.5555555555555556,\"#d8576b\"],[0.6666666666666666,\"#ed7953\"],[0.7777777777777778,\"#fb9f3a\"],[0.8888888888888888,\"#fdca26\"],[1.0,\"#f0f921\"]],\"type\":\"histogram2d\"}],\"histogram2dcontour\":[{\"colorbar\":{\"outlinewidth\":0,\"ticks\":\"\"},\"colorscale\":[[0.0,\"#0d0887\"],[0.1111111111111111,\"#46039f\"],[0.2222222222222222,\"#7201a8\"],[0.3333333333333333,\"#9c179e\"],[0.4444444444444444,\"#bd3786\"],[0.5555555555555556,\"#d8576b\"],[0.6666666666666666,\"#ed7953\"],[0.7777777777777778,\"#fb9f3a\"],[0.8888888888888888,\"#fdca26\"],[1.0,\"#f0f921\"]],\"type\":\"histogram2dcontour\"}],\"mesh3d\":[{\"colorbar\":{\"outlinewidth\":0,\"ticks\":\"\"},\"type\":\"mesh3d\"}],\"parcoords\":[{\"line\":{\"colorbar\":{\"outlinewidth\":0,\"ticks\":\"\"}},\"type\":\"parcoords\"}],\"pie\":[{\"automargin\":true,\"type\":\"pie\"}],\"scatter\":[{\"marker\":{\"colorbar\":{\"outlinewidth\":0,\"ticks\":\"\"}},\"type\":\"scatter\"}],\"scatter3d\":[{\"line\":{\"colorbar\":{\"outlinewidth\":0,\"ticks\":\"\"}},\"marker\":{\"colorbar\":{\"outlinewidth\":0,\"ticks\":\"\"}},\"type\":\"scatter3d\"}],\"scattercarpet\":[{\"marker\":{\"colorbar\":{\"outlinewidth\":0,\"ticks\":\"\"}},\"type\":\"scattercarpet\"}],\"scattergeo\":[{\"marker\":{\"colorbar\":{\"outlinewidth\":0,\"ticks\":\"\"}},\"type\":\"scattergeo\"}],\"scattergl\":[{\"marker\":{\"colorbar\":{\"outlinewidth\":0,\"ticks\":\"\"}},\"type\":\"scattergl\"}],\"scattermapbox\":[{\"marker\":{\"colorbar\":{\"outlinewidth\":0,\"ticks\":\"\"}},\"type\":\"scattermapbox\"}],\"scatterpolar\":[{\"marker\":{\"colorbar\":{\"outlinewidth\":0,\"ticks\":\"\"}},\"type\":\"scatterpolar\"}],\"scatterpolargl\":[{\"marker\":{\"colorbar\":{\"outlinewidth\":0,\"ticks\":\"\"}},\"type\":\"scatterpolargl\"}],\"scatterternary\":[{\"marker\":{\"colorbar\":{\"outlinewidth\":0,\"ticks\":\"\"}},\"type\":\"scatterternary\"}],\"surface\":[{\"colorbar\":{\"outlinewidth\":0,\"ticks\":\"\"},\"colorscale\":[[0.0,\"#0d0887\"],[0.1111111111111111,\"#46039f\"],[0.2222222222222222,\"#7201a8\"],[0.3333333333333333,\"#9c179e\"],[0.4444444444444444,\"#bd3786\"],[0.5555555555555556,\"#d8576b\"],[0.6666666666666666,\"#ed7953\"],[0.7777777777777778,\"#fb9f3a\"],[0.8888888888888888,\"#fdca26\"],[1.0,\"#f0f921\"]],\"type\":\"surface\"}],\"table\":[{\"cells\":{\"fill\":{\"color\":\"#EBF0F8\"},\"line\":{\"color\":\"white\"}},\"header\":{\"fill\":{\"color\":\"#C8D4E3\"},\"line\":{\"color\":\"white\"}},\"type\":\"table\"}]},\"layout\":{\"annotationdefaults\":{\"arrowcolor\":\"#2a3f5f\",\"arrowhead\":0,\"arrowwidth\":1},\"autotypenumbers\":\"strict\",\"coloraxis\":{\"colorbar\":{\"outlinewidth\":0,\"ticks\":\"\"}},\"colorscale\":{\"diverging\":[[0,\"#8e0152\"],[0.1,\"#c51b7d\"],[0.2,\"#de77ae\"],[0.3,\"#f1b6da\"],[0.4,\"#fde0ef\"],[0.5,\"#f7f7f7\"],[0.6,\"#e6f5d0\"],[0.7,\"#b8e186\"],[0.8,\"#7fbc41\"],[0.9,\"#4d9221\"],[1,\"#276419\"]],\"sequential\":[[0.0,\"#0d0887\"],[0.1111111111111111,\"#46039f\"],[0.2222222222222222,\"#7201a8\"],[0.3333333333333333,\"#9c179e\"],[0.4444444444444444,\"#bd3786\"],[0.5555555555555556,\"#d8576b\"],[0.6666666666666666,\"#ed7953\"],[0.7777777777777778,\"#fb9f3a\"],[0.8888888888888888,\"#fdca26\"],[1.0,\"#f0f921\"]],\"sequentialminus\":[[0.0,\"#0d0887\"],[0.1111111111111111,\"#46039f\"],[0.2222222222222222,\"#7201a8\"],[0.3333333333333333,\"#9c179e\"],[0.4444444444444444,\"#bd3786\"],[0.5555555555555556,\"#d8576b\"],[0.6666666666666666,\"#ed7953\"],[0.7777777777777778,\"#fb9f3a\"],[0.8888888888888888,\"#fdca26\"],[1.0,\"#f0f921\"]]},\"colorway\":[\"#636efa\",\"#EF553B\",\"#00cc96\",\"#ab63fa\",\"#FFA15A\",\"#19d3f3\",\"#FF6692\",\"#B6E880\",\"#FF97FF\",\"#FECB52\"],\"font\":{\"color\":\"#2a3f5f\"},\"geo\":{\"bgcolor\":\"white\",\"lakecolor\":\"white\",\"landcolor\":\"#E5ECF6\",\"showlakes\":true,\"showland\":true,\"subunitcolor\":\"white\"},\"hoverlabel\":{\"align\":\"left\"},\"hovermode\":\"closest\",\"mapbox\":{\"style\":\"light\"},\"paper_bgcolor\":\"white\",\"plot_bgcolor\":\"#E5ECF6\",\"polar\":{\"angularaxis\":{\"gridcolor\":\"white\",\"linecolor\":\"white\",\"ticks\":\"\"},\"bgcolor\":\"#E5ECF6\",\"radialaxis\":{\"gridcolor\":\"white\",\"linecolor\":\"white\",\"ticks\":\"\"}},\"scene\":{\"xaxis\":{\"backgroundcolor\":\"#E5ECF6\",\"gridcolor\":\"white\",\"gridwidth\":2,\"linecolor\":\"white\",\"showbackground\":true,\"ticks\":\"\",\"zerolinecolor\":\"white\"},\"yaxis\":{\"backgroundcolor\":\"#E5ECF6\",\"gridcolor\":\"white\",\"gridwidth\":2,\"linecolor\":\"white\",\"showbackground\":true,\"ticks\":\"\",\"zerolinecolor\":\"white\"},\"zaxis\":{\"backgroundcolor\":\"#E5ECF6\",\"gridcolor\":\"white\",\"gridwidth\":2,\"linecolor\":\"white\",\"showbackground\":true,\"ticks\":\"\",\"zerolinecolor\":\"white\"}},\"shapedefaults\":{\"line\":{\"color\":\"#2a3f5f\"}},\"ternary\":{\"aaxis\":{\"gridcolor\":\"white\",\"linecolor\":\"white\",\"ticks\":\"\"},\"baxis\":{\"gridcolor\":\"white\",\"linecolor\":\"white\",\"ticks\":\"\"},\"bgcolor\":\"#E5ECF6\",\"caxis\":{\"gridcolor\":\"white\",\"linecolor\":\"white\",\"ticks\":\"\"}},\"title\":{\"x\":0.05},\"xaxis\":{\"automargin\":true,\"gridcolor\":\"white\",\"linecolor\":\"white\",\"ticks\":\"\",\"title\":{\"standoff\":15},\"zerolinecolor\":\"white\",\"zerolinewidth\":2},\"yaxis\":{\"automargin\":true,\"gridcolor\":\"white\",\"linecolor\":\"white\",\"ticks\":\"\",\"title\":{\"standoff\":15},\"zerolinecolor\":\"white\",\"zerolinewidth\":2}}},\"scene\":{\"domain\":{\"x\":[0.0,1.0],\"y\":[0.0,1.0]},\"xaxis\":{\"title\":{\"text\":\"x\"}},\"yaxis\":{\"title\":{\"text\":\"y\"}},\"zaxis\":{\"title\":{\"text\":\"z\"}}},\"legend\":{\"title\":{\"text\":\"label\"},\"tracegroupgap\":0},\"margin\":{\"t\":60},\"height\":800,\"width\":1000},                        {\"responsive\": true}                    ).then(function(){\n",
              "                            \n",
              "var gd = document.getElementById('38d9d0cb-1251-46b8-a7d2-c87927cab1c1');\n",
              "var x = new MutationObserver(function (mutations, observer) {{\n",
              "        var display = window.getComputedStyle(gd).display;\n",
              "        if (!display || display === 'none') {{\n",
              "            console.log([gd, 'removed!']);\n",
              "            Plotly.purge(gd);\n",
              "            observer.disconnect();\n",
              "        }}\n",
              "}});\n",
              "\n",
              "// Listen for the removal of the full notebook cells\n",
              "var notebookContainer = gd.closest('#notebook-container');\n",
              "if (notebookContainer) {{\n",
              "    x.observe(notebookContainer, {childList: true});\n",
              "}}\n",
              "\n",
              "// Listen for the clearing of the current output cell\n",
              "var outputEl = gd.closest('.output');\n",
              "if (outputEl) {{\n",
              "    x.observe(outputEl, {childList: true});\n",
              "}}\n",
              "\n",
              "                        })                };                            </script>        </div>\n",
              "</body>\n",
              "</html>"
            ]
          },
          "metadata": {},
          "output_type": "display_data"
        }
      ],
      "source": [
        "import plotly.express as px\n",
        "\n",
        "fig = px.scatter_3d(df, x = 'x', y = 'y', z = 'z', color = \"label\", width=1000, height = 800, hover_data = [\"token\", \"label\"])\n",
        "\n",
        "fig.show()"
      ]
    }
  ],
  "metadata": {
    "colab": {
      "provenance": []
    },
    "gpuClass": "standard",
    "kernelspec": {
      "display_name": "Python 3",
      "language": "python",
      "name": "python3"
    },
    "language_info": {
      "codemirror_mode": {
        "name": "ipython",
        "version": 3
      },
      "file_extension": ".py",
      "mimetype": "text/x-python",
      "name": "python",
      "nbconvert_exporter": "python",
      "pygments_lexer": "ipython3",
      "version": "3.9.6 (default, Oct 18 2022, 12:41:40) \n[Clang 14.0.0 (clang-1400.0.29.202)]"
    },
    "vscode": {
      "interpreter": {
        "hash": "31f2aee4e71d21fbe5cf8b01ff0e069b9275f58929596ceb00d14d90e3e16cd6"
      }
    }
  },
  "nbformat": 4,
  "nbformat_minor": 5
}
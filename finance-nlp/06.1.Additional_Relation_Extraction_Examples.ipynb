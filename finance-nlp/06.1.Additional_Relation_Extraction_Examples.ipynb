{
  "cells": [
    {
      "cell_type": "markdown",
      "id": "T7aq9n4pXuQ7",
      "metadata": {
        "id": "T7aq9n4pXuQ7"
      },
      "source": [
        "![JohnSnowLabs](https://nlp.johnsnowlabs.com/assets/images/logo.png)"
      ]
    },
    {
      "cell_type": "markdown",
      "id": "iKZqb8UQXvIG",
      "metadata": {
        "id": "iKZqb8UQXvIG"
      },
      "source": [
        "[![Open In Colab](https://colab.research.google.com/assets/colab-badge.svg)](https://colab.research.google.com/github/JohnSnowLabs/spark-nlp-workshop/blob/master/finance-nlp/06.1.Additional_Relation_Extraction_Examples.ipynb)"
      ]
    },
    {
      "cell_type": "markdown",
      "id": "zXItFAZwMzvB",
      "metadata": {
        "id": "zXItFAZwMzvB"
      },
      "source": [
        "#🎬 Installation"
      ]
    },
    {
      "cell_type": "code",
      "execution_count": null,
      "id": "ELqzaf32MT6E",
      "metadata": {
        "id": "ELqzaf32MT6E"
      },
      "outputs": [],
      "source": [
        "# Install the johnsnowlabs library to access Spark-OCR and Spark-NLP for Healthcare, Finance, and Legal.\n",
        "! pip install -q johnsnowlabs "
      ]
    },
    {
      "cell_type": "markdown",
      "id": "Jx1h9jVGQ0JQ",
      "metadata": {
        "id": "Jx1h9jVGQ0JQ"
      },
      "source": [
        "##🔗 Automatic Installation\n",
        "Using my.johnsnowlabs.com SSO"
      ]
    },
    {
      "cell_type": "code",
      "execution_count": null,
      "id": "jjj6dqPhI6T6",
      "metadata": {
        "id": "jjj6dqPhI6T6"
      },
      "outputs": [],
      "source": [
        "from johnsnowlabs import nlp, finance, viz\n",
        "# nlp.install(force_browser=True)"
      ]
    },
    {
      "cell_type": "markdown",
      "id": "GEM-18ECQ6-8",
      "metadata": {
        "id": "GEM-18ECQ6-8"
      },
      "source": [
        "##🔗 Manual downloading\n",
        "If you are not registered in my.johnsnowlabs.com, you received a license via e-email or you are using Safari, you may need to do a manual update of the license.\n",
        "\n",
        "- Go to my.johnsnowlabs.com\n",
        "- Download your license\n",
        "- Upload it using the following command"
      ]
    },
    {
      "cell_type": "code",
      "execution_count": null,
      "id": "YVSfGvnhQ7ns",
      "metadata": {
        "id": "YVSfGvnhQ7ns"
      },
      "outputs": [],
      "source": [
        "from google.colab import files\n",
        "print('Please Upload your John Snow Labs License using the button below')\n",
        "license_keys = files.upload()"
      ]
    },
    {
      "cell_type": "markdown",
      "id": "d3q4G7FKQ-EJ",
      "metadata": {
        "id": "d3q4G7FKQ-EJ"
      },
      "source": [
        "- Install it"
      ]
    },
    {
      "cell_type": "code",
      "execution_count": null,
      "id": "SeSwghR6Q_Pb",
      "metadata": {
        "id": "SeSwghR6Q_Pb",
        "outputId": "3bbf2e55-7b89-4339-bc79-e46c977ff9c2",
        "colab": {
          "base_uri": "https://localhost:8080/"
        }
      },
      "outputs": [
        {
          "output_type": "stream",
          "name": "stdout",
          "text": [
            "👌 Detected license file /content/spark_nlp_for_healthcare_spark_ocr_7187 (2).json\n",
            "📋 Stored John Snow Labs License in /root/.johnsnowlabs/licenses/license_number_0_for_Spark-Healthcare_Spark-OCR.json\n",
            "👷 Setting up  John Snow Labs home in /root/.johnsnowlabs, this might take a few minutes.\n",
            "Downloading 🐍+🚀 Python Library spark_nlp-4.2.8-py2.py3-none-any.whl\n",
            "Downloading 🐍+💊 Python Library spark_nlp_jsl-4.2.8-py3-none-any.whl\n",
            "Downloading 🫘+🚀 Java Library spark-nlp-assembly-4.2.8.jar\n",
            "Downloading 🫘+💊 Java Library spark-nlp-jsl-4.2.8.jar\n",
            "🙆 JSL Home setup in /root/.johnsnowlabs\n",
            "👌 Detected license file /content/spark_nlp_for_healthcare_spark_ocr_7187 (2).json\n",
            "Installing /root/.johnsnowlabs/py_installs/spark_nlp_jsl-4.2.8-py3-none-any.whl to /usr/bin/python3\n",
            "Installed 1 products:\n",
            "💊 Spark-Healthcare==4.2.8 installed! ✅ Heal the planet with NLP! \n"
          ]
        }
      ],
      "source": [
        "nlp.install()"
      ]
    },
    {
      "cell_type": "markdown",
      "id": "Yagc89CuM-9k",
      "metadata": {
        "id": "Yagc89CuM-9k"
      },
      "source": [
        "#📌 Start Spark Session"
      ]
    },
    {
      "cell_type": "code",
      "execution_count": null,
      "id": "lQ8-BI-_5QjG",
      "metadata": {
        "id": "lQ8-BI-_5QjG",
        "outputId": "18cefb40-a000-4017-8254-7a818af4dd39",
        "colab": {
          "base_uri": "https://localhost:8080/"
        }
      },
      "outputs": [
        {
          "output_type": "stream",
          "name": "stdout",
          "text": [
            "👌 Detected license file /content/spark_nlp_for_healthcare_spark_ocr_7187 (2).json\n",
            "👌 Launched \u001b[92mcpu optimized\u001b[39m session with with: 🚀Spark-NLP==4.2.8, 💊Spark-Healthcare==4.2.8, running on ⚡ PySpark==3.1.2\n"
          ]
        }
      ],
      "source": [
        "spark = nlp.start()"
      ]
    },
    {
      "cell_type": "markdown",
      "id": "Zk7IQlPsX2DR",
      "metadata": {
        "id": "Zk7IQlPsX2DR"
      },
      "source": [
        "#🔎 Financial Relation Extraction(RE)"
      ]
    },
    {
      "cell_type": "markdown",
      "id": "HTxWUmGlL648",
      "metadata": {
        "id": "HTxWUmGlL648"
      },
      "source": [
        "Financial relation extraction is a process of automatically extracting structured information from unstructured text data related to finance and economics. This can be done using natural language processing (NLP) techniques, such as named entity recognition and relation extraction.\n",
        "\n",
        "Some examples of financial relation extraction include extracting information about companies and their financial performance, such as revenue, profits, and debt, as well as information about financial markets and economic indicators, such as stock prices and exchange rates."
      ]
    },
    {
      "cell_type": "markdown",
      "id": "JSrrIXjYYSb1",
      "metadata": {
        "id": "JSrrIXjYYSb1"
      },
      "source": [
        "##✔️ Pretrained Relation Extraction Models for Finance\n",
        "\n",
        "Here are the list of pretrained Relation Extraction models:"
      ]
    },
    {
      "cell_type": "markdown",
      "id": "jo3aOCNwYSlk",
      "metadata": {
        "id": "jo3aOCNwYSlk"
      },
      "source": [
        "**Relation Extraction Models**\n",
        "\n",
        "|index|model|\n",
        "|-----:|:-----|\n",
        "| 1| [Financial Relation Extraction on Earning Calls (Small)](https://nlp.johnsnowlabs.com/2022/11/28/finre_earning_calls_sm_en.html)  | \n",
        "| 2| [Financial Relation Extraction on 10K filings (Small)](https://nlp.johnsnowlabs.com/2022/11/07/finre_financial_small_en.html)  | \n",
        "| 3| [Financial Relation Extraction (Tickers)](https://nlp.johnsnowlabs.com/2022/10/15/finre_has_ticker_en.html)  |\n",
        "| 4| [Financial Relation Extraction (Acquisitions / Subsidiaries)](https://nlp.johnsnowlabs.com/2022/11/08/finre_acquisitions_subsidiaries_md_en.html)  | \n",
        "| 5| [Financial Relation Extraction (Work Experience, Medium)](https://nlp.johnsnowlabs.com/2022/11/08/finre_work_experience_md_en.html)  |\n",
        "| 6| [Financial Relation Extraction (Work Experience, Small)](https://nlp.johnsnowlabs.com/2022/09/28/finre_work_experience_en.html)  | \n",
        "| 7| [Financial Relation Extraction (Alias)](https://nlp.johnsnowlabs.com/2022/08/17/finre_org_prod_alias_en_3_2.html)  |\n",
        "| 8| [Financial Zero-shot Relation Extraction](https://nlp.johnsnowlabs.com/2022/08/22/finre_zero_shot_en_3_2.html)  |\n",
        "\n",
        "\n"
      ]
    },
    {
      "cell_type": "markdown",
      "id": "XVuxdiKgi_qd",
      "metadata": {
        "id": "XVuxdiKgi_qd"
      },
      "source": [
        "##✔️ Common Componennts\n",
        "This pipeline will:\n",
        "1.   Split Text into Sentences\n",
        "2.   Split Sentences into Words\n",
        "3.   Use Financial Text Embeddings, trained on SEC documents, to obtain numerical semantic representation of words\n",
        "\n",
        "**These components are common for all the pipelines we will use.**"
      ]
    },
    {
      "cell_type": "code",
      "execution_count": null,
      "id": "W4VQJrV8lywb",
      "metadata": {
        "colab": {
          "base_uri": "https://localhost:8080/"
        },
        "id": "W4VQJrV8lywb",
        "outputId": "af2572e6-e9e8-4172-fa53-fb3184aa1707"
      },
      "outputs": [
        {
          "output_type": "stream",
          "name": "stdout",
          "text": [
            "bert_embeddings_sec_bert_base download started this may take some time.\n",
            "Approximate size to download 390.4 MB\n",
            "[OK!]\n"
          ]
        }
      ],
      "source": [
        "def get_generic_base_pipeline():\n",
        "  \"\"\"Common components used in all pipelines\"\"\"\n",
        "  document_assembler = nlp.DocumentAssembler()\\\n",
        "      .setInputCol(\"text\")\\\n",
        "      .setOutputCol(\"document\")\n",
        "\n",
        "  text_splitter = finance.TextSplitter()\\\n",
        "      .setInputCols([\"document\"])\\\n",
        "      .setOutputCol(\"sentence\")\n",
        "  \n",
        "  tokenizer = nlp.Tokenizer()\\\n",
        "      .setInputCols([\"sentence\"])\\\n",
        "      .setOutputCol(\"token\")\n",
        "\n",
        "  embeddings = nlp.BertEmbeddings.pretrained(\"bert_embeddings_sec_bert_base\",\"en\") \\\n",
        "      .setInputCols([\"sentence\", \"token\"])\\\n",
        "      .setOutputCol(\"embeddings\")\n",
        "\n",
        "  base_pipeline = nlp.Pipeline(stages=[\n",
        "      document_assembler,\n",
        "      text_splitter,\n",
        "      tokenizer,\n",
        "      embeddings\n",
        "  ])\n",
        "\n",
        "  return base_pipeline\n",
        "    \n",
        "generic_base_pipeline = get_generic_base_pipeline()"
      ]
    },
    {
      "cell_type": "code",
      "execution_count": null,
      "id": "nfMVrwKulyzQ",
      "metadata": {
        "id": "nfMVrwKulyzQ"
      },
      "outputs": [],
      "source": [
        "# Text Classifier\n",
        "def get_text_classification_pipeline(model):\n",
        "  \"\"\"This pipeline allows you to use different classification models to understand if an input text is of a specific class or is something else.\n",
        "  It will be used to check where the first summary page of SEC10K is, where the sections of Acquisitions and Subsidiaries are, or where in the document\n",
        "  the management roles and experiences are mentioned\"\"\"\n",
        "  document_assembler = nlp.DocumentAssembler() \\\n",
        "       .setInputCol(\"text\") \\\n",
        "       .setOutputCol(\"document\")\n",
        "\n",
        "  embeddings = nlp.UniversalSentenceEncoder.pretrained() \\\n",
        "      .setInputCols(\"document\") \\\n",
        "      .setOutputCol(\"sentence_embeddings\")\n",
        "\n",
        "  classifier = nlp.ClassifierDLModel.pretrained(model, \"en\", \"finance/models\")\\\n",
        "      .setInputCols([\"sentence_embeddings\"])\\\n",
        "      .setOutputCol(\"category\")\n",
        "\n",
        "  nlpPipeline = nlp.Pipeline(stages=[\n",
        "      document_assembler, \n",
        "      embeddings,\n",
        "      classifier])\n",
        "  \n",
        "  return nlpPipeline"
      ]
    },
    {
      "cell_type": "code",
      "execution_count": null,
      "id": "EGMAqo943IVp",
      "metadata": {
        "id": "EGMAqo943IVp"
      },
      "outputs": [],
      "source": [
        "import pandas as pd\n",
        "\n",
        "def get_relations_df (results, col='relations'):\n",
        "  \"\"\"Shows a Dataframe with the relations extracted by Spark NLP\"\"\"\n",
        "  rel_pairs=[]\n",
        "  for rel in results[0][col]:\n",
        "      rel_pairs.append((\n",
        "        rel.result, \n",
        "        rel.metadata['entity1'], \n",
        "        rel.metadata['entity1_begin'],\n",
        "        rel.metadata['entity1_end'],\n",
        "        rel.metadata['chunk1'], \n",
        "        rel.metadata['entity2'],\n",
        "        rel.metadata['entity2_begin'],\n",
        "        rel.metadata['entity2_end'],\n",
        "        rel.metadata['chunk2'], \n",
        "        rel.metadata['confidence']\n",
        "    ))\n",
        "\n",
        "  rel_df = pd.DataFrame(rel_pairs, columns=['relation','entity1','entity1_begin','entity1_end','chunk1','entity2','entity2_begin','entity2_end','chunk2', 'confidence'])\n",
        "\n",
        "  return rel_df"
      ]
    },
    {
      "cell_type": "markdown",
      "id": "Zy0v4uCxxw8N",
      "metadata": {
        "id": "Zy0v4uCxxw8N"
      },
      "source": [
        "##🔎 NER and Relation Extraction\n",
        "NER only extracts isolated entities by itself. But you can combine some NER with specific Relation Extraction Annotators trained for them, to retrieve if the entities are related to each other.\n",
        "\n",
        "Let's suppose we want to extract information about **Management Roles** and **Experiences**. If we don't know where that information is in the document, we can use Text Classifiers to find it."
      ]
    },
    {
      "cell_type": "markdown",
      "id": "upBur5Yq1fKU",
      "metadata": {
        "id": "upBur5Yq1fKU"
      },
      "source": [
        "##🚀 People's Information\n",
        "Let's also extract People's name with their current roles and past experiences in other companies (including the dates)."
      ]
    },
    {
      "cell_type": "markdown",
      "id": "0nPVM9_By2Zc",
      "metadata": {
        "id": "0nPVM9_By2Zc"
      },
      "source": [
        "###✔️ Sample Texts from Cadence Design System\n",
        "Examples taken from publicly available information about Cadence in SEC's Edgar database [here](https://www.sec.gov/Archives/edgar/data/813672/000081367222000012/cdns-20220101.htm) and [Wikipedia](https://en.wikipedia.org/wiki/Cadence_Design_Systems)"
      ]
    },
    {
      "cell_type": "code",
      "execution_count": null,
      "id": "JjPwViV0yAI6",
      "metadata": {
        "id": "JjPwViV0yAI6"
      },
      "outputs": [],
      "source": [
        "!wget https://raw.githubusercontent.com/JohnSnowLabs/spark-nlp-workshop/master/finance-nlp/data/cdns-20220101.html.txt"
      ]
    },
    {
      "cell_type": "code",
      "execution_count": null,
      "id": "KiX1xoXdy81t",
      "metadata": {
        "colab": {
          "base_uri": "https://localhost:8080/"
        },
        "id": "KiX1xoXdy81t",
        "outputId": "c1f4c0a4-0932-4365-defb-42391ed8ac1e"
      },
      "outputs": [
        {
          "output_type": "stream",
          "name": "stdout",
          "text": [
            "Table of Contents\n",
            "UNITED STATES SECURITIES AND EXCHANGE COMMISSION\n",
            "Washington, D.C. 20549\n",
            "__________\n"
          ]
        }
      ],
      "source": [
        "with open('cdns-20220101.html.txt', 'r') as f:\n",
        "  cadence_sec10k = f.read()\n",
        "print(cadence_sec10k[:100])"
      ]
    },
    {
      "cell_type": "code",
      "execution_count": null,
      "id": "n1whJMYxzBEi",
      "metadata": {
        "colab": {
          "base_uri": "https://localhost:8080/"
        },
        "id": "n1whJMYxzBEi",
        "outputId": "3dd7c35a-fb71-4498-d46b-1038c1a26a85"
      },
      "outputs": [
        {
          "output_type": "stream",
          "name": "stdout",
          "text": [
            "\n",
            "UNITED STATES SECURITIES AND EXCHANGE COMMISSION\n",
            "Washington, D.C. 20549\n",
            "_____________________________________ \n",
            "FORM 10-K \n",
            "_____________________________________  \n",
            "(Mark One)\n",
            "☒\n",
            "ANNUAL REPORT PURSUANT TO SECTION 13 OR 15(d) OF THE SECURITIES EXCHANGE ACT OF 1934\n",
            "For the fiscal year ended January 1, 2022 \n",
            "OR\n",
            "☐\n",
            "TRANSITION REPORT PURSUANT TO SECTION 13 OR 15(d) OF THE SECURITIES EXCHANGE ACT OF 1934\n",
            "For the transition period from _________ to_________.\n",
            "\n",
            "Commission file number 000-15867 \n",
            "_____________________________________\n",
            " \n",
            "CADENCE DESIGN SYSTEMS, INC. \n",
            "(Exact name of registrant as specified in its charter)\n",
            "____________________________________ \n",
            "Delaware\n",
            " \n",
            "00-0000000\n",
            "(State or Other Jurisdiction ofIncorporation or Organization)\n",
            " \n",
            "(I.R.S. EmployerIdentification No.)\n",
            "2655 Seely Avenue, Building 5,\n",
            "San Jose,\n",
            "California\n",
            " \n",
            "95134\n",
            "(Address of Principal Executive Offices)\n",
            " \n",
            "(Zip Code)\n",
            "(408)\n",
            "-943-1234 \n",
            "(Registrant’s Telephone Number, including Area Code) \n",
            "Securities registered pursuant to Section 12(b) of the Act:\n",
            "Title of Each Class\n",
            "Trading Symbol(s)\n",
            "Names of Each Exchange on which Registered\n",
            "Common Stock, $0.01 par value per share\n",
            "CDNS\n",
            "Nasdaq Global Select Market\n",
            "Securities registered pursuant to Section 12(g) of the Act:\n",
            "None\n",
            "Indicate by check mark if the registrant is a well-known seasoned issuer, as defined in Rule 405 of the Securities Act.  \n",
            " Yes  \n",
            "☒\n",
            "    No  \n",
            "☐\n",
            "Indicate by check mark if the registrant is not required to file reports pursuant to Section 13 or Section 15(d) of the Act.  \n",
            " Yes \n",
            "☐    \n",
            "No  \n",
            "☒\n",
            "Indicate by check mark whether the registrant (1) has filed all reports required to be filed by Section 13 or 15(d) of the Securities Exchange Act of 1934 during the preceding 12 months (or for such shorter period that the registrant was required to file such reports), and (2) has been subject to such filing requirements for the past 90 days.  \n",
            " Yes  \n",
            "☒\n",
            "    No  \n",
            "☐\n",
            "Indicate by check mark whether the registrant has submitted electronically every Interactive Data File required to be submitted pursuant to Rule 405 of Regulation S-T (§ 232.405 of this chapter) during the preceding 12 months (or for such shorter period that the registrant was required to submit such files). \n",
            " Yes  \n",
            "☒\n",
            "    No  \n",
            "☐\n",
            "Indicate by check mark whether the registrant is a large accelerated filer, an accelerated filer, a non-accelerated filer, a smaller reporting company, or an emerging growth company. See the definitions of “large accelerated filer,” “accelerated filer,” “smaller reporting company,” and “emerging growth company” in Rule 12b-2 of the Exchange Act.\n",
            "Large Accelerated Filer\n",
            "☒\n",
            "Accelerated Filer\n",
            "☐\n",
            "Non-accelerated Filer\n",
            "☐\n",
            "Smaller Reporting Company\n",
            "☐\n",
            "Emerging Growth Company\n",
            "☐\n",
            "If an emerging growth company, indicate by check mark if the registrant has elected not to use the extended transition period for complying with any new or revised financial accounting standards provided pursuant to Section 13(a) of the Exchange Act.  \n",
            "☐\n",
            "Indicate by check mark whether the registrant has filed a report on and attestation to its management’s assessment of the effectiveness of its internal control over financial reporting under Section 404(b) of the Sarbanes-Oxley Act (15 U.S.C. 7262(b)) by the registered public accounting firm that prepared or issued its audit report. \n",
            "☒\n",
            "Indicate by check mark whether the registrant is a shell company (as defined in Rule 12b-2 of the Act). \n",
            " Yes \n",
            "☐ \n",
            "No  \n",
            "☒\n",
            "The aggregate market value of the voting and non-voting common equity held by non-affiliates computed by reference to the price at which the common equity was last sold as of the last business day of the registrant’s most recently completed second fiscal quarter ended July 3, 2021 was approximately $38,179,000,000.\n",
            "On February 5, 2022, approximately 277,336,000 shares of the Registrant’s Common Stock, $0.01 par value, were outstanding.\n",
            "DOCUMENTS INCORPORATED BY REFERENCE\n",
            "Portions of the definitive proxy statement for Cadence Design Systems, Inc.’s 2022 Annual Meeting of Stockholders are incorporated by reference into Part III hereof.\n",
            "\n",
            "\n",
            "\n"
          ]
        }
      ],
      "source": [
        "pages = [x for x in cadence_sec10k.split(\"Table of Contents\") if x.strip() != '']\n",
        "print(pages[0])"
      ]
    },
    {
      "cell_type": "markdown",
      "id": "zSvhu_NC1n8o",
      "metadata": {
        "id": "zSvhu_NC1n8o"
      },
      "source": [
        "###✔️ Using Text Classification to find Relevant Parts of the Document: About Management and their work experience\n",
        "To check the SEC 10K Summary page, we have a specific model called `\"finclf_work_experience_item\"`\n",
        "\n",
        "Let's send some pages and check which one(s) contain that information. In a real case, you could send all the pages to the model, but here for time saving purposes, we will show just a subset."
      ]
    },
    {
      "cell_type": "code",
      "execution_count": null,
      "id": "SjWpgjF41emp",
      "metadata": {
        "id": "SjWpgjF41emp"
      },
      "outputs": [],
      "source": [
        "candidates = [[pages[4]], [pages[84]], [pages[85]], [pages[86]], [pages[87]]]"
      ]
    },
    {
      "cell_type": "code",
      "execution_count": null,
      "id": "n3rG_bZF1epO",
      "metadata": {
        "colab": {
          "base_uri": "https://localhost:8080/"
        },
        "id": "n3rG_bZF1epO",
        "outputId": "0c76ce3d-3f66-4bfd-f862-4b9e25a9d78e"
      },
      "outputs": [
        {
          "name": "stdout",
          "output_type": "stream",
          "text": [
            "tfhub_use download started this may take some time.\n",
            "Approximate size to download 923.7 MB\n",
            "[OK!]\n",
            "finclf_work_experience_item download started this may take some time.\n",
            "Approximate size to download 21.2 MB\n",
            "[OK!]\n",
            "+-----------------+\n",
            "|           result|\n",
            "+-----------------+\n",
            "|          [other]|\n",
            "|          [other]|\n",
            "|          [other]|\n",
            "|[work_experience]|\n",
            "|          [other]|\n",
            "+-----------------+\n",
            "\n"
          ]
        }
      ],
      "source": [
        "classification_pipeline = get_text_classification_pipeline('finclf_work_experience_item')\n",
        "\n",
        "df = spark.createDataFrame(candidates).toDF(\"text\")\n",
        "\n",
        "model = classification_pipeline.fit(df)\n",
        "\n",
        "result = model.transform(df)\n",
        "\n",
        "result.select('category.result').show()"
      ]
    },
    {
      "cell_type": "markdown",
      "id": "rbluk2a_2Ryb",
      "metadata": {
        "id": "rbluk2a_2Ryb"
      },
      "source": [
        "**We have some Work Experience in page 86. However, there is 1 sentence hidden in page 4, which is also very relevant.**\n",
        "However, the model returned `other`. Why?"
      ]
    },
    {
      "cell_type": "code",
      "execution_count": null,
      "id": "4wLi7vv21er5",
      "metadata": {
        "colab": {
          "base_uri": "https://localhost:8080/",
          "height": 191
        },
        "id": "4wLi7vv21er5",
        "outputId": "b68de971-77c4-4378-c992-a5f9e2d8bf1c"
      },
      "outputs": [
        {
          "data": {
            "application/vnd.google.colaboratory.intrinsic+json": {
              "type": "string"
            },
            "text/plain": [
              "'\\nThe IC and SoC design excellence requires technologies for custom IC, digital IC design and signoff, and functional verification, and leverages pre-built semiconductor IP. These tools, IP and associated services are specifically designed to meet the growing requirements of engineers designing increasingly complex chips across analog, digital and mixed-signal domains, and perform the associated verification tasks, including validation of low-level software running on the silicon model, thereby enabling design teams to manage complexity and verification throughput without commensurately increasing the team size or extending the project schedule, while reducing technical risks.\\nThe second layer of our strategy centers around system innovation. It includes tools and services used for system design of the packages that encapsulate the ICs and the PCBs, system simulation which includes electromagnetic, electro-thermal and other multi-physics analysis necessary as part of optimizing the full system’s performance, radio frequency (“RF”) and microwave systems, and embedded software.\\nThe third layer of our strategy addresses pervasive intelligence in new electronics. It starts with providing solutions and services to develop AI-enhanced systems and includes machine learning and deep learning capabilities being added to the Cadence\\n®\\n technology portfolio to make IP and tools more automated and to produce optimized results faster.\\nOur software and emulation products also support cloud access to address the growing computational needs of our customers.\\nRecent Acquisitions\\nDuring fiscal 2021, we continued to execute our Intelligent System Design strategy and expanded our product offerings and solutions into computational fluid dynamics (“CFD”) with our acquisitions of Belgium-based NUMECA International, a leader in CFD technology, and Pointwise, Inc, a leading provider of CFD meshing technology. The addition of these technologies and talent broadens our System Design and Analysis portfolio and expertise. \\nChief Executive Officer Transition\\nOn December 15, 2021, Anirudh Devgan assumed the role of President and Chief Executive Officer of Cadence, replacing Lip-Bu Tan. Prior to his role as Chief Executive Officer, Dr. Devgan served as President of Cadence. Concurrently, Mr. Tan transitioned to the role of Executive Chair.\\n2\\n'"
            ]
          },
          "execution_count": 14,
          "metadata": {},
          "output_type": "execute_result"
        }
      ],
      "source": [
        "pages[4]"
      ]
    },
    {
      "cell_type": "markdown",
      "id": "006avxPi2jZb",
      "metadata": {
        "id": "006avxPi2jZb"
      },
      "source": [
        "Exploring the page we understand there is a lot of texts about something else which got into the same page. Sometimes, going into a smaller detail may be necessary.\n",
        "\n",
        "Let's see what happens if we get `paragraphs` instead of `pages.`"
      ]
    },
    {
      "cell_type": "code",
      "execution_count": null,
      "id": "EBnp5N9f1euk",
      "metadata": {
        "colab": {
          "base_uri": "https://localhost:8080/"
        },
        "id": "EBnp5N9f1euk",
        "outputId": "f82e94f0-af04-4aed-ba99-99a790aa847b"
      },
      "outputs": [
        {
          "data": {
            "text/plain": [
              "['The IC and SoC design excellence requires technologies for custom IC, digital IC design and signoff, and functional verification, and leverages pre-built semiconductor IP. These tools, IP and associated services are specifically designed to meet the growing requirements of engineers designing increasingly complex chips across analog, digital and mixed-signal domains, and perform the associated verification tasks, including validation of low-level software running on the silicon model, thereby enabling design teams to manage complexity and verification throughput without commensurately increasing the team size or extending the project schedule, while reducing technical risks.',\n",
              " 'The second layer of our strategy centers around system innovation. It includes tools and services used for system design of the packages that encapsulate the ICs and the PCBs, system simulation which includes electromagnetic, electro-thermal and other multi-physics analysis necessary as part of optimizing the full system’s performance, radio frequency (“RF”) and microwave systems, and embedded software.',\n",
              " 'The third layer of our strategy addresses pervasive intelligence in new electronics. It starts with providing solutions and services to develop AI-enhanced systems and includes machine learning and deep learning capabilities being added to the Cadence',\n",
              " '®',\n",
              " ' technology portfolio to make IP and tools more automated and to produce optimized results faster.',\n",
              " 'Our software and emulation products also support cloud access to address the growing computational needs of our customers.',\n",
              " 'Recent Acquisitions',\n",
              " 'During fiscal 2021, we continued to execute our Intelligent System Design strategy and expanded our product offerings and solutions into computational fluid dynamics (“CFD”) with our acquisitions of Belgium-based NUMECA International, a leader in CFD technology, and Pointwise, Inc, a leading provider of CFD meshing technology. The addition of these technologies and talent broadens our System Design and Analysis portfolio and expertise. ',\n",
              " 'Chief Executive Officer Transition',\n",
              " 'On December 15, 2021, Anirudh Devgan assumed the role of President and Chief Executive Officer of Cadence, replacing Lip-Bu Tan. Prior to his role as Chief Executive Officer, Dr. Devgan served as President of Cadence. Concurrently, Mr. Tan transitioned to the role of Executive Chair.',\n",
              " '2']"
            ]
          },
          "execution_count": 15,
          "metadata": {},
          "output_type": "execute_result"
        }
      ],
      "source": [
        "paragraphs = [x for x in pages[4].split('\\n') if x.strip() != '']\n",
        "\n",
        "paragraphs"
      ]
    },
    {
      "cell_type": "code",
      "execution_count": null,
      "id": "jygsXuaU1exH",
      "metadata": {
        "colab": {
          "base_uri": "https://localhost:8080/"
        },
        "id": "jygsXuaU1exH",
        "outputId": "11e3ca8d-3b57-49d4-f864-30de2151cc4e"
      },
      "outputs": [
        {
          "data": {
            "text/plain": [
              "[['The IC and SoC design excellence requires technologies for custom IC, digital IC design and signoff, and functional verification, and leverages pre-built semiconductor IP. These tools, IP and associated services are specifically designed to meet the growing requirements of engineers designing increasingly complex chips across analog, digital and mixed-signal domains, and perform the associated verification tasks, including validation of low-level software running on the silicon model, thereby enabling design teams to manage complexity and verification throughput without commensurately increasing the team size or extending the project schedule, while reducing technical risks.'],\n",
              " ['The second layer of our strategy centers around system innovation. It includes tools and services used for system design of the packages that encapsulate the ICs and the PCBs, system simulation which includes electromagnetic, electro-thermal and other multi-physics analysis necessary as part of optimizing the full system’s performance, radio frequency (“RF”) and microwave systems, and embedded software.'],\n",
              " ['The third layer of our strategy addresses pervasive intelligence in new electronics. It starts with providing solutions and services to develop AI-enhanced systems and includes machine learning and deep learning capabilities being added to the Cadence'],\n",
              " ['®'],\n",
              " [' technology portfolio to make IP and tools more automated and to produce optimized results faster.'],\n",
              " ['Our software and emulation products also support cloud access to address the growing computational needs of our customers.'],\n",
              " ['Recent Acquisitions'],\n",
              " ['During fiscal 2021, we continued to execute our Intelligent System Design strategy and expanded our product offerings and solutions into computational fluid dynamics (“CFD”) with our acquisitions of Belgium-based NUMECA International, a leader in CFD technology, and Pointwise, Inc, a leading provider of CFD meshing technology. The addition of these technologies and talent broadens our System Design and Analysis portfolio and expertise. '],\n",
              " ['Chief Executive Officer Transition'],\n",
              " ['On December 15, 2021, Anirudh Devgan assumed the role of President and Chief Executive Officer of Cadence, replacing Lip-Bu Tan. Prior to his role as Chief Executive Officer, Dr. Devgan served as President of Cadence. Concurrently, Mr. Tan transitioned to the role of Executive Chair.'],\n",
              " ['2']]"
            ]
          },
          "execution_count": 16,
          "metadata": {},
          "output_type": "execute_result"
        }
      ],
      "source": [
        "candidates = [[x] for x in paragraphs]\n",
        "\n",
        "candidates"
      ]
    },
    {
      "cell_type": "code",
      "execution_count": null,
      "id": "9IuiOtEB1ezX",
      "metadata": {
        "colab": {
          "base_uri": "https://localhost:8080/"
        },
        "id": "9IuiOtEB1ezX",
        "outputId": "291c2f50-57a8-4586-9588-052b27f0845a"
      },
      "outputs": [
        {
          "name": "stdout",
          "output_type": "stream",
          "text": [
            "tfhub_use download started this may take some time.\n",
            "Approximate size to download 923.7 MB\n",
            "[OK!]\n",
            "finclf_work_experience_item download started this may take some time.\n",
            "Approximate size to download 21.2 MB\n",
            "[OK!]\n",
            "+-----------------+\n",
            "|           result|\n",
            "+-----------------+\n",
            "|          [other]|\n",
            "|          [other]|\n",
            "|          [other]|\n",
            "|          [other]|\n",
            "|          [other]|\n",
            "|          [other]|\n",
            "|          [other]|\n",
            "|          [other]|\n",
            "|[work_experience]|\n",
            "|[work_experience]|\n",
            "|          [other]|\n",
            "+-----------------+\n",
            "\n"
          ]
        }
      ],
      "source": [
        "classification_pipeline = get_text_classification_pipeline('finclf_work_experience_item')\n",
        "\n",
        "df = spark.createDataFrame(candidates).toDF(\"text\")\n",
        "\n",
        "model = classification_pipeline.fit(df)\n",
        "\n",
        "result = model.transform(df)\n",
        "\n",
        "result.select('category.result').show()"
      ]
    },
    {
      "cell_type": "markdown",
      "id": "Xdg2L_dA5UFj",
      "metadata": {
        "id": "Xdg2L_dA5UFj"
      },
      "source": [
        "**Here we are, if we split in smaller detail (paragraphs, lines), we can found more information than just at page level!**\n",
        "\n",
        "This is because information in Embeddings gets deluted the bigger the text is. Also, there are some text restrictions (512 tokens in Bert)"
      ]
    },
    {
      "cell_type": "code",
      "execution_count": null,
      "id": "ygTBApEH1e2D",
      "metadata": {
        "colab": {
          "base_uri": "https://localhost:8080/"
        },
        "id": "ygTBApEH1e2D",
        "outputId": "f29c53ed-c8c4-4962-c6c2-8311cb1fcd24"
      },
      "outputs": [
        {
          "name": "stdout",
          "output_type": "stream",
          "text": [
            "finner_org_per_role_date download started this may take some time.\n",
            "[OK!]\n",
            "pos_anc download started this may take some time.\n",
            "Approximate size to download 3.9 MB\n",
            "[OK!]\n",
            "dependency_conllu download started this may take some time.\n",
            "Approximate size to download 16.7 MB\n",
            "[OK!]\n",
            "finre_work_experience_md download started this may take some time.\n",
            "[OK!]\n"
          ]
        }
      ],
      "source": [
        "ner_model_role = finance.NerModel.pretrained(\"finner_org_per_role_date\", \"en\", \"finance/models\")\\\n",
        "    .setInputCols([\"sentence\", \"token\", \"embeddings\"])\\\n",
        "    .setOutputCol(\"ner_role\")\n",
        "\n",
        "ner_converter_role = nlp.NerConverter()\\\n",
        "    .setInputCols([\"sentence\",\"token\",\"ner_role\"])\\\n",
        "    .setOutputCol(\"ner_chunk_role\")\n",
        "\n",
        "pos = nlp.PerceptronModel.pretrained()\\\n",
        "    .setInputCols([\"sentence\", \"token\"])\\\n",
        "    .setOutputCol(\"pos\")\n",
        "\n",
        "dependency_parser = nlp.DependencyParserModel().pretrained(\"dependency_conllu\", \"en\")\\\n",
        "    .setInputCols([\"sentence\", \"pos\", \"token\"])\\\n",
        "    .setOutputCol(\"dependencies\")\n",
        "\n",
        "re_ner_chunk_filter_role = finance.RENerChunksFilter()\\\n",
        "    .setInputCols([\"ner_chunk_role\", \"dependencies\"])\\\n",
        "    .setOutputCol(\"re_ner_chunk_role\")\\\n",
        "    .setRelationPairs([\"PERSON-ROLE\", \"ORG-ROLE\", \"DATE-ROLE\"])\n",
        "\n",
        "re_model_exp = finance.RelationExtractionDLModel.pretrained(\"finre_work_experience_md\", \"en\", \"finance/models\")\\\n",
        "    .setInputCols([\"re_ner_chunk_role\", \"sentence\"])\\\n",
        "    .setOutputCol(\"relations\")\n",
        "\n",
        "nlpPipeline = nlp.Pipeline(stages=[\n",
        "    generic_base_pipeline,\n",
        "    ner_model_role,\n",
        "    ner_converter_role,\n",
        "    pos,\n",
        "    dependency_parser,\n",
        "    re_ner_chunk_filter_role,\n",
        "    re_model_exp,\n",
        "])\n",
        "\n",
        "empty_data = spark.createDataFrame([[\"\"]]).toDF(\"text\")\n",
        "\n",
        "model = nlpPipeline.fit(empty_data)\n",
        "\n",
        "light_model = nlp.LightPipeline(model)\n"
      ]
    },
    {
      "cell_type": "markdown",
      "id": "xw1zlpsf5jsM",
      "metadata": {
        "id": "xw1zlpsf5jsM"
      },
      "source": [
        "###🖨️ Get Results"
      ]
    },
    {
      "cell_type": "code",
      "execution_count": null,
      "id": "Mr41iaVP5ook",
      "metadata": {
        "colab": {
          "base_uri": "https://localhost:8080/"
        },
        "id": "Mr41iaVP5ook",
        "outputId": "e5acb48d-21de-4e90-b974-417f874feb39"
      },
      "outputs": [
        {
          "data": {
            "text/plain": [
              "['On December 15, 2021, Anirudh Devgan assumed the role of President and Chief Executive Officer of Cadence, replacing Lip-Bu Tan. Prior to his role as Chief Executive Officer, Dr. Devgan served as President of Cadence. Concurrently, Mr. Tan transitioned to the role of Executive Chair.']"
            ]
          },
          "execution_count": 19,
          "metadata": {},
          "output_type": "execute_result"
        }
      ],
      "source": [
        "sample_text = candidates[9]\n",
        "\n",
        "sample_text"
      ]
    },
    {
      "cell_type": "code",
      "execution_count": null,
      "id": "SN4vPJ4n5orJ",
      "metadata": {
        "colab": {
          "base_uri": "https://localhost:8080/",
          "height": 701
        },
        "id": "SN4vPJ4n5orJ",
        "outputId": "f79098d1-3586-41f9-b873-81812da38f39"
      },
      "outputs": [
        {
          "data": {
            "text/html": [
              "\n",
              "  <div id=\"df-ec0c2330-9835-4dfa-b1f9-e05343c0f694\">\n",
              "    <div class=\"colab-df-container\">\n",
              "      <div>\n",
              "<style scoped>\n",
              "    .dataframe tbody tr th:only-of-type {\n",
              "        vertical-align: middle;\n",
              "    }\n",
              "\n",
              "    .dataframe tbody tr th {\n",
              "        vertical-align: top;\n",
              "    }\n",
              "\n",
              "    .dataframe thead th {\n",
              "        text-align: right;\n",
              "    }\n",
              "</style>\n",
              "<table border=\"1\" class=\"dataframe\">\n",
              "  <thead>\n",
              "    <tr style=\"text-align: right;\">\n",
              "      <th></th>\n",
              "      <th>relation</th>\n",
              "      <th>entity1</th>\n",
              "      <th>entity1_begin</th>\n",
              "      <th>entity1_end</th>\n",
              "      <th>chunk1</th>\n",
              "      <th>entity2</th>\n",
              "      <th>entity2_begin</th>\n",
              "      <th>entity2_end</th>\n",
              "      <th>chunk2</th>\n",
              "      <th>confidence</th>\n",
              "    </tr>\n",
              "  </thead>\n",
              "  <tbody>\n",
              "    <tr>\n",
              "      <th>0</th>\n",
              "      <td>has_role_from</td>\n",
              "      <td>DATE</td>\n",
              "      <td>3</td>\n",
              "      <td>19</td>\n",
              "      <td>December 15, 2021</td>\n",
              "      <td>ROLE</td>\n",
              "      <td>57</td>\n",
              "      <td>65</td>\n",
              "      <td>President</td>\n",
              "      <td>0.95321363</td>\n",
              "    </tr>\n",
              "    <tr>\n",
              "      <th>1</th>\n",
              "      <td>has_role_from</td>\n",
              "      <td>DATE</td>\n",
              "      <td>3</td>\n",
              "      <td>19</td>\n",
              "      <td>December 15, 2021</td>\n",
              "      <td>ROLE</td>\n",
              "      <td>71</td>\n",
              "      <td>93</td>\n",
              "      <td>Chief Executive Officer</td>\n",
              "      <td>0.91833746</td>\n",
              "    </tr>\n",
              "    <tr>\n",
              "      <th>2</th>\n",
              "      <td>has_role</td>\n",
              "      <td>PERSON</td>\n",
              "      <td>22</td>\n",
              "      <td>35</td>\n",
              "      <td>Anirudh Devgan</td>\n",
              "      <td>ROLE</td>\n",
              "      <td>57</td>\n",
              "      <td>65</td>\n",
              "      <td>President</td>\n",
              "      <td>0.9993814</td>\n",
              "    </tr>\n",
              "    <tr>\n",
              "      <th>3</th>\n",
              "      <td>has_role</td>\n",
              "      <td>PERSON</td>\n",
              "      <td>22</td>\n",
              "      <td>35</td>\n",
              "      <td>Anirudh Devgan</td>\n",
              "      <td>ROLE</td>\n",
              "      <td>71</td>\n",
              "      <td>93</td>\n",
              "      <td>Chief Executive Officer</td>\n",
              "      <td>0.9889985</td>\n",
              "    </tr>\n",
              "    <tr>\n",
              "      <th>4</th>\n",
              "      <td>has_role_in_company</td>\n",
              "      <td>ROLE</td>\n",
              "      <td>57</td>\n",
              "      <td>65</td>\n",
              "      <td>President</td>\n",
              "      <td>ORG</td>\n",
              "      <td>98</td>\n",
              "      <td>104</td>\n",
              "      <td>Cadence</td>\n",
              "      <td>0.9997348</td>\n",
              "    </tr>\n",
              "    <tr>\n",
              "      <th>5</th>\n",
              "      <td>has_role_in_company</td>\n",
              "      <td>ROLE</td>\n",
              "      <td>71</td>\n",
              "      <td>93</td>\n",
              "      <td>Chief Executive Officer</td>\n",
              "      <td>ORG</td>\n",
              "      <td>98</td>\n",
              "      <td>104</td>\n",
              "      <td>Cadence</td>\n",
              "      <td>0.99845624</td>\n",
              "    </tr>\n",
              "    <tr>\n",
              "      <th>6</th>\n",
              "      <td>has_role</td>\n",
              "      <td>ROLE</td>\n",
              "      <td>150</td>\n",
              "      <td>172</td>\n",
              "      <td>Chief Executive Officer</td>\n",
              "      <td>PERSON</td>\n",
              "      <td>175</td>\n",
              "      <td>184</td>\n",
              "      <td>Dr. Devgan</td>\n",
              "      <td>0.8526861</td>\n",
              "    </tr>\n",
              "    <tr>\n",
              "      <th>7</th>\n",
              "      <td>has_role_in_company</td>\n",
              "      <td>ROLE</td>\n",
              "      <td>150</td>\n",
              "      <td>172</td>\n",
              "      <td>Chief Executive Officer</td>\n",
              "      <td>ORG</td>\n",
              "      <td>209</td>\n",
              "      <td>215</td>\n",
              "      <td>Cadence</td>\n",
              "      <td>0.9976404</td>\n",
              "    </tr>\n",
              "    <tr>\n",
              "      <th>8</th>\n",
              "      <td>has_role</td>\n",
              "      <td>PERSON</td>\n",
              "      <td>175</td>\n",
              "      <td>184</td>\n",
              "      <td>Dr. Devgan</td>\n",
              "      <td>ROLE</td>\n",
              "      <td>196</td>\n",
              "      <td>204</td>\n",
              "      <td>President</td>\n",
              "      <td>0.99899226</td>\n",
              "    </tr>\n",
              "    <tr>\n",
              "      <th>9</th>\n",
              "      <td>has_role_in_company</td>\n",
              "      <td>ROLE</td>\n",
              "      <td>196</td>\n",
              "      <td>204</td>\n",
              "      <td>President</td>\n",
              "      <td>ORG</td>\n",
              "      <td>209</td>\n",
              "      <td>215</td>\n",
              "      <td>Cadence</td>\n",
              "      <td>0.9997203</td>\n",
              "    </tr>\n",
              "    <tr>\n",
              "      <th>10</th>\n",
              "      <td>has_role</td>\n",
              "      <td>PERSON</td>\n",
              "      <td>232</td>\n",
              "      <td>238</td>\n",
              "      <td>Mr. Tan</td>\n",
              "      <td>ROLE</td>\n",
              "      <td>268</td>\n",
              "      <td>282</td>\n",
              "      <td>Executive Chair</td>\n",
              "      <td>0.9933588</td>\n",
              "    </tr>\n",
              "  </tbody>\n",
              "</table>\n",
              "</div>\n",
              "      <button class=\"colab-df-convert\" onclick=\"convertToInteractive('df-ec0c2330-9835-4dfa-b1f9-e05343c0f694')\"\n",
              "              title=\"Convert this dataframe to an interactive table.\"\n",
              "              style=\"display:none;\">\n",
              "        \n",
              "  <svg xmlns=\"http://www.w3.org/2000/svg\" height=\"24px\"viewBox=\"0 0 24 24\"\n",
              "       width=\"24px\">\n",
              "    <path d=\"M0 0h24v24H0V0z\" fill=\"none\"/>\n",
              "    <path d=\"M18.56 5.44l.94 2.06.94-2.06 2.06-.94-2.06-.94-.94-2.06-.94 2.06-2.06.94zm-11 1L8.5 8.5l.94-2.06 2.06-.94-2.06-.94L8.5 2.5l-.94 2.06-2.06.94zm10 10l.94 2.06.94-2.06 2.06-.94-2.06-.94-.94-2.06-.94 2.06-2.06.94z\"/><path d=\"M17.41 7.96l-1.37-1.37c-.4-.4-.92-.59-1.43-.59-.52 0-1.04.2-1.43.59L10.3 9.45l-7.72 7.72c-.78.78-.78 2.05 0 2.83L4 21.41c.39.39.9.59 1.41.59.51 0 1.02-.2 1.41-.59l7.78-7.78 2.81-2.81c.8-.78.8-2.07 0-2.86zM5.41 20L4 18.59l7.72-7.72 1.47 1.35L5.41 20z\"/>\n",
              "  </svg>\n",
              "      </button>\n",
              "      \n",
              "  <style>\n",
              "    .colab-df-container {\n",
              "      display:flex;\n",
              "      flex-wrap:wrap;\n",
              "      gap: 12px;\n",
              "    }\n",
              "\n",
              "    .colab-df-convert {\n",
              "      background-color: #E8F0FE;\n",
              "      border: none;\n",
              "      border-radius: 50%;\n",
              "      cursor: pointer;\n",
              "      display: none;\n",
              "      fill: #1967D2;\n",
              "      height: 32px;\n",
              "      padding: 0 0 0 0;\n",
              "      width: 32px;\n",
              "    }\n",
              "\n",
              "    .colab-df-convert:hover {\n",
              "      background-color: #E2EBFA;\n",
              "      box-shadow: 0px 1px 2px rgba(60, 64, 67, 0.3), 0px 1px 3px 1px rgba(60, 64, 67, 0.15);\n",
              "      fill: #174EA6;\n",
              "    }\n",
              "\n",
              "    [theme=dark] .colab-df-convert {\n",
              "      background-color: #3B4455;\n",
              "      fill: #D2E3FC;\n",
              "    }\n",
              "\n",
              "    [theme=dark] .colab-df-convert:hover {\n",
              "      background-color: #434B5C;\n",
              "      box-shadow: 0px 1px 3px 1px rgba(0, 0, 0, 0.15);\n",
              "      filter: drop-shadow(0px 1px 2px rgba(0, 0, 0, 0.3));\n",
              "      fill: #FFFFFF;\n",
              "    }\n",
              "  </style>\n",
              "\n",
              "      <script>\n",
              "        const buttonEl =\n",
              "          document.querySelector('#df-ec0c2330-9835-4dfa-b1f9-e05343c0f694 button.colab-df-convert');\n",
              "        buttonEl.style.display =\n",
              "          google.colab.kernel.accessAllowed ? 'block' : 'none';\n",
              "\n",
              "        async function convertToInteractive(key) {\n",
              "          const element = document.querySelector('#df-ec0c2330-9835-4dfa-b1f9-e05343c0f694');\n",
              "          const dataTable =\n",
              "            await google.colab.kernel.invokeFunction('convertToInteractive',\n",
              "                                                     [key], {});\n",
              "          if (!dataTable) return;\n",
              "\n",
              "          const docLinkHtml = 'Like what you see? Visit the ' +\n",
              "            '<a target=\"_blank\" href=https://colab.research.google.com/notebooks/data_table.ipynb>data table notebook</a>'\n",
              "            + ' to learn more about interactive tables.';\n",
              "          element.innerHTML = '';\n",
              "          dataTable['output_type'] = 'display_data';\n",
              "          await google.colab.output.renderOutput(dataTable, element);\n",
              "          const docLink = document.createElement('div');\n",
              "          docLink.innerHTML = docLinkHtml;\n",
              "          element.appendChild(docLink);\n",
              "        }\n",
              "      </script>\n",
              "    </div>\n",
              "  </div>\n",
              "  "
            ],
            "text/plain": [
              "               relation entity1 entity1_begin entity1_end  \\\n",
              "0         has_role_from    DATE             3          19   \n",
              "1         has_role_from    DATE             3          19   \n",
              "2              has_role  PERSON            22          35   \n",
              "3              has_role  PERSON            22          35   \n",
              "4   has_role_in_company    ROLE            57          65   \n",
              "5   has_role_in_company    ROLE            71          93   \n",
              "6              has_role    ROLE           150         172   \n",
              "7   has_role_in_company    ROLE           150         172   \n",
              "8              has_role  PERSON           175         184   \n",
              "9   has_role_in_company    ROLE           196         204   \n",
              "10             has_role  PERSON           232         238   \n",
              "\n",
              "                     chunk1 entity2 entity2_begin entity2_end  \\\n",
              "0         December 15, 2021    ROLE            57          65   \n",
              "1         December 15, 2021    ROLE            71          93   \n",
              "2            Anirudh Devgan    ROLE            57          65   \n",
              "3            Anirudh Devgan    ROLE            71          93   \n",
              "4                 President     ORG            98         104   \n",
              "5   Chief Executive Officer     ORG            98         104   \n",
              "6   Chief Executive Officer  PERSON           175         184   \n",
              "7   Chief Executive Officer     ORG           209         215   \n",
              "8                Dr. Devgan    ROLE           196         204   \n",
              "9                 President     ORG           209         215   \n",
              "10                  Mr. Tan    ROLE           268         282   \n",
              "\n",
              "                     chunk2  confidence  \n",
              "0                 President  0.95321363  \n",
              "1   Chief Executive Officer  0.91833746  \n",
              "2                 President   0.9993814  \n",
              "3   Chief Executive Officer   0.9889985  \n",
              "4                   Cadence   0.9997348  \n",
              "5                   Cadence  0.99845624  \n",
              "6                Dr. Devgan   0.8526861  \n",
              "7                   Cadence   0.9976404  \n",
              "8                 President  0.99899226  \n",
              "9                   Cadence   0.9997203  \n",
              "10          Executive Chair   0.9933588  "
            ]
          },
          "execution_count": 20,
          "metadata": {},
          "output_type": "execute_result"
        }
      ],
      "source": [
        "result = light_model.fullAnnotate(sample_text)\n",
        "\n",
        "rel_df = get_relations_df(result)\n",
        "\n",
        "rel_df[rel_df[\"relation\"] != \"other\"]"
      ]
    },
    {
      "cell_type": "markdown",
      "id": "kAOFdcuu6AtJ",
      "metadata": {
        "id": "kAOFdcuu6AtJ"
      },
      "source": [
        "###🚀 Visualize Results"
      ]
    },
    {
      "cell_type": "code",
      "execution_count": null,
      "id": "9GY65V2J5ot9",
      "metadata": {
        "colab": {
          "base_uri": "https://localhost:8080/",
          "height": 516
        },
        "id": "9GY65V2J5ot9",
        "outputId": "5c8a36c7-142d-42c4-a646-2b1033cfa5e3"
      },
      "outputs": [
        {
          "data": {
            "text/html": [
              "<svg baseProfile=\"full\" height=\"475\" version=\"1.1\" width=\"1000\" xmlns=\"http://www.w3.org/2000/svg\" xmlns:ev=\"http://www.w3.org/2001/xml-events\" xmlns:xlink=\"http://www.w3.org/1999/xlink\"><defs><style type=\"text/css\"><![CDATA[@font-face{ \n",
              "    font-family: \"Lucida\"; \n",
              "    src: url(\"data:application/x-font-ttf;charset=utf-8;base64,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\"); \n",
              "}\n",
              "]]></style></defs><rect fill=\"#a6b1e1\" fill-opacity=\"0.2\" height=\"25\" rx=\"2\" ry=\"2\" stroke=\"#a6b1e1\" stroke-width=\"1\" width=\"169.6\" x=\"41.099999999999994\" y=\"57\" /><rect fill=\"#835AB2\" fill-opacity=\"0.2\" height=\"25\" rx=\"2\" ry=\"2\" stroke=\"#835AB2\" stroke-width=\"1\" width=\"140.5\" x=\"255.09999999999997\" y=\"57\" /><rect fill=\"#B0C610\" fill-opacity=\"0.2\" height=\"25\" rx=\"2\" ry=\"2\" stroke=\"#B0C610\" stroke-width=\"1\" width=\"92.0\" x=\"629.5999999999999\" y=\"57\" /><rect fill=\"#B0C610\" fill-opacity=\"0.2\" height=\"25\" rx=\"2\" ry=\"2\" stroke=\"#B0C610\" stroke-width=\"1\" width=\"227.79999999999998\" x=\"7\" y=\"157\" /><rect fill=\"#2B5C28\" fill-opacity=\"0.2\" height=\"25\" rx=\"2\" ry=\"2\" stroke=\"#2B5C28\" stroke-width=\"1\" width=\"72.6\" x=\"288.9\" y=\"157\" /><rect fill=\"#B0C610\" fill-opacity=\"0.2\" height=\"25\" rx=\"2\" ry=\"2\" stroke=\"#B0C610\" stroke-width=\"1\" width=\"227.79999999999998\" x=\"7\" y=\"257\" /><rect fill=\"#835AB2\" fill-opacity=\"0.2\" height=\"25\" rx=\"2\" ry=\"2\" stroke=\"#835AB2\" stroke-width=\"1\" width=\"101.69999999999999\" x=\"279.19999999999993\" y=\"257\" /><rect fill=\"#B0C610\" fill-opacity=\"0.2\" height=\"25\" rx=\"2\" ry=\"2\" stroke=\"#B0C610\" stroke-width=\"1\" width=\"92.0\" x=\"507.89999999999986\" y=\"257\" /><rect fill=\"#2B5C28\" fill-opacity=\"0.2\" height=\"25\" rx=\"2\" ry=\"2\" stroke=\"#2B5C28\" stroke-width=\"1\" width=\"72.6\" x=\"653.9999999999999\" y=\"257\" /><rect fill=\"#835AB2\" fill-opacity=\"0.2\" height=\"25\" rx=\"2\" ry=\"2\" stroke=\"#835AB2\" stroke-width=\"1\" width=\"72.6\" x=\"911.7999999999998\" y=\"257\" /><rect fill=\"#B0C610\" fill-opacity=\"0.2\" height=\"25\" rx=\"2\" ry=\"2\" stroke=\"#B0C610\" stroke-width=\"1\" width=\"150.2\" x=\"303.6\" y=\"357\" /><text fill=\"#546c74\" font-family=\"Lucida\" font-size=\"16\" style=\"font-weight:100\" x=\"10\" y=\"75\">On</text><text fill=\"#546c74\" font-family=\"Lucida\" font-size=\"16\" style=\"font-weight:100\" x=\"44.099999999999994\" y=\"75\">December 15, 2021</text><text fill=\"#1f77b7\" font-family=\"Lucida\" font-size=\"12\" style=\"font-weight:lighter\" x=\"113.08181818181816\" y=\"95\">DATE</text><text fill=\"#546c74\" font-family=\"Lucida\" font-size=\"16\" style=\"font-weight:100\" x=\"233.7\" y=\"75\">,</text><text fill=\"#546c74\" font-family=\"Lucida\" font-size=\"16\" style=\"font-weight:100\" x=\"258.09999999999997\" y=\"75\">Anirudh Devgan</text><text fill=\"#1f77b7\" font-family=\"Lucida\" font-size=\"12\" style=\"font-weight:lighter\" x=\"305.4772727272727\" y=\"95\">PERSON</text><text fill=\"#546c74\" font-family=\"Lucida\" font-size=\"16\" style=\"font-weight:100\" x=\"418.59999999999997\" y=\"75\">assumed</text><text fill=\"#546c74\" font-family=\"Lucida\" font-size=\"16\" style=\"font-weight:100\" x=\"501.19999999999993\" y=\"75\">the</text><text fill=\"#546c74\" font-family=\"Lucida\" font-size=\"16\" style=\"font-weight:100\" x=\"544.9999999999999\" y=\"75\">role</text><text fill=\"#546c74\" font-family=\"Lucida\" font-size=\"16\" style=\"font-weight:100\" x=\"598.4999999999999\" y=\"75\">of</text><text fill=\"#546c74\" font-family=\"Lucida\" font-size=\"16\" style=\"font-weight:100\" x=\"632.5999999999999\" y=\"75\">President</text><text fill=\"#1f77b7\" font-family=\"Lucida\" font-size=\"12\" style=\"font-weight:lighter\" x=\"662.781818181818\" y=\"95\">ROLE</text><text fill=\"#546c74\" font-family=\"Lucida\" font-size=\"16\" style=\"font-weight:100\" x=\"744.5999999999999\" y=\"75\">and</text><text fill=\"#546c74\" font-family=\"Lucida\" font-size=\"16\" style=\"font-weight:100\" x=\"10\" y=\"175\">Chief Executive Officer</text><text fill=\"#1f77b7\" font-family=\"Lucida\" font-size=\"12\" style=\"font-weight:lighter\" x=\"108.08181818181818\" y=\"195\">ROLE</text><text fill=\"#546c74\" font-family=\"Lucida\" font-size=\"16\" style=\"font-weight:100\" x=\"257.79999999999995\" y=\"175\">of</text><text fill=\"#546c74\" font-family=\"Lucida\" font-size=\"16\" style=\"font-weight:100\" x=\"291.9\" y=\"175\">Cadence</text><text fill=\"#1f77b7\" font-family=\"Lucida\" font-size=\"12\" style=\"font-weight:lighter\" x=\"315.9090909090909\" y=\"195\">ORG</text><text fill=\"#546c74\" font-family=\"Lucida\" font-size=\"16\" style=\"font-weight:100\" x=\"384.5\" y=\"175\">,</text><text fill=\"#546c74\" font-family=\"Lucida\" font-size=\"16\" style=\"font-weight:100\" x=\"408.9\" y=\"175\">replacing</text><text fill=\"#546c74\" font-family=\"Lucida\" font-size=\"16\" style=\"font-weight:100\" x=\"510.9\" y=\"175\">Lip-Bu</text><text fill=\"#546c74\" font-family=\"Lucida\" font-size=\"16\" style=\"font-weight:100\" x=\"583.8\" y=\"175\">Tan.</text><text fill=\"#546c74\" font-family=\"Lucida\" font-size=\"16\" style=\"font-weight:100\" x=\"637.3\" y=\"175\">Prior</text><text fill=\"#546c74\" font-family=\"Lucida\" font-size=\"16\" style=\"font-weight:100\" x=\"700.5\" y=\"175\">to</text><text fill=\"#546c74\" font-family=\"Lucida\" font-size=\"16\" style=\"font-weight:100\" x=\"734.6\" y=\"175\">his</text><text fill=\"#546c74\" font-family=\"Lucida\" font-size=\"16\" style=\"font-weight:100\" x=\"778.4\" y=\"175\">role</text><text fill=\"#546c74\" font-family=\"Lucida\" font-size=\"16\" style=\"font-weight:100\" x=\"831.9\" y=\"175\">as</text><text fill=\"#546c74\" font-family=\"Lucida\" font-size=\"16\" style=\"font-weight:100\" x=\"10\" y=\"275\">Chief Executive Officer</text><text fill=\"#1f77b7\" font-family=\"Lucida\" font-size=\"12\" style=\"font-weight:lighter\" x=\"108.08181818181818\" y=\"295\">ROLE</text><text fill=\"#546c74\" font-family=\"Lucida\" font-size=\"16\" style=\"font-weight:100\" x=\"257.79999999999995\" y=\"275\">,</text><text fill=\"#546c74\" font-family=\"Lucida\" font-size=\"16\" style=\"font-weight:100\" x=\"282.19999999999993\" y=\"275\">Dr. Devgan</text><text fill=\"#1f77b7\" font-family=\"Lucida\" font-size=\"12\" style=\"font-weight:lighter\" x=\"310.1772727272727\" y=\"295\">PERSON</text><text fill=\"#546c74\" font-family=\"Lucida\" font-size=\"16\" style=\"font-weight:100\" x=\"403.8999999999999\" y=\"275\">served</text><text fill=\"#546c74\" font-family=\"Lucida\" font-size=\"16\" style=\"font-weight:100\" x=\"476.7999999999999\" y=\"275\">as</text><text fill=\"#546c74\" font-family=\"Lucida\" font-size=\"16\" style=\"font-weight:100\" x=\"510.89999999999986\" y=\"275\">President</text><text fill=\"#1f77b7\" font-family=\"Lucida\" font-size=\"12\" style=\"font-weight:lighter\" x=\"541.081818181818\" y=\"295\">ROLE</text><text fill=\"#546c74\" font-family=\"Lucida\" font-size=\"16\" style=\"font-weight:100\" x=\"622.8999999999999\" y=\"275\">of</text><text fill=\"#546c74\" font-family=\"Lucida\" font-size=\"16\" style=\"font-weight:100\" x=\"656.9999999999999\" y=\"275\">Cadence</text><text fill=\"#1f77b7\" font-family=\"Lucida\" font-size=\"12\" style=\"font-weight:lighter\" x=\"681.0090909090908\" y=\"295\">ORG</text><text fill=\"#546c74\" font-family=\"Lucida\" font-size=\"16\" style=\"font-weight:100\" x=\"749.5999999999999\" y=\"275\">.</text><text fill=\"#546c74\" font-family=\"Lucida\" font-size=\"16\" style=\"font-weight:100\" x=\"773.9999999999999\" y=\"275\">Concurrently,</text><text fill=\"#546c74\" font-family=\"Lucida\" font-size=\"16\" style=\"font-weight:100\" x=\"914.7999999999998\" y=\"275\">Mr. Tan</text><text fill=\"#1f77b7\" font-family=\"Lucida\" font-size=\"12\" style=\"font-weight:lighter\" x=\"928.2272727272725\" y=\"295\">PERSON</text><text fill=\"#546c74\" font-family=\"Lucida\" font-size=\"16\" style=\"font-weight:100\" x=\"10\" y=\"375\">transitioned</text><text fill=\"#546c74\" font-family=\"Lucida\" font-size=\"16\" style=\"font-weight:100\" x=\"141.1\" y=\"375\">to</text><text fill=\"#546c74\" font-family=\"Lucida\" font-size=\"16\" style=\"font-weight:100\" x=\"175.2\" y=\"375\">the</text><text fill=\"#546c74\" font-family=\"Lucida\" font-size=\"16\" style=\"font-weight:100\" x=\"219.0\" y=\"375\">role</text><text fill=\"#546c74\" font-family=\"Lucida\" font-size=\"16\" style=\"font-weight:100\" x=\"272.5\" y=\"375\">of</text><text fill=\"#546c74\" font-family=\"Lucida\" font-size=\"16\" style=\"font-weight:100\" x=\"306.6\" y=\"375\">Executive Chair</text><text fill=\"#1f77b7\" font-family=\"Lucida\" font-size=\"12\" style=\"font-weight:lighter\" x=\"365.88181818181823\" y=\"395\">ROLE</text><text fill=\"#546c77\" font-family=\"Lucida\" font-size=\"16\" style=\"font-weight:100\" x=\"476.8\" y=\"375\">.</text><polyline fill=\"none\" points=\"133.0,155.0 132.6938775510204,154.33673469387753 132.3877551020408,153.6734693877551 132.0816326530612,153.01020408163268 131.77551020408163,152.3469387755102 131.46938775510205,151.68367346938777 131.1632653061224,151.0204081632653 130.8571428571429,150.35714285714292 130.55102040816328,149.69387755102042 130.24489795918367,149.03061224489798 129.93877551020407,148.36734693877554 129.63265306122446,147.70408163265307 129.32653061224488,147.0408163265306 129.0204081632653,146.3775510204082 128.71428571428572,145.71428571428572 128.40816326530614,145.05102040816328 128.10204081632654,144.38775510204084 127.79591836734696,143.7244897959184 127.48979591836734,143.0612244897959 127.18367346938777,142.3979591836735 126.87755102040813,141.734693877551 126.57142857142856,141.07142857142856 126.26530612244899,140.40816326530614 125.95918367346938,139.74489795918367 125.6530612244898,139.08163265306123 125.3469387755102,138.41836734693877 125.0408163265306,137.75510204081633 124.73469387755102,137.09183673469389 124.42857142857144,136.42857142857144 124.12244897959184,135.765306122449 123.81632653061226,135.10204081632654 123.51020408163265,134.4387755102041 123.20408163265304,133.77551020408163 122.89795918367348,133.11224489795921 122.59183673469387,132.44897959183675 122.2857142857143,131.7857142857143 121.9795918367347,131.12244897959184 121.67346938775509,130.4591836734694 121.36734693877551,129.79591836734693 121.06122448979592,129.13265306122452 120.75510204081633,128.46938775510205 120.44897959183673,127.80612244897961 120.14285714285714,127.14285714285717 119.83673469387755,126.4795918367347 119.53061224489795,125.81632653061226 119.22448979591837,125.15306122448982 118.91836734693878,124.48979591836735 118.61224489795919,123.8265306122449 118.3061224489796,123.16326530612245 118.0,122.5 118.0,122.5 117.69387755102039,121.83673469387755 117.38775510204079,121.17346938775509 117.08163265306123,120.51020408163266 116.77551020408164,119.84693877551021 116.46938775510205,119.18367346938776 116.16326530612244,118.5204081632653 115.85714285714289,117.85714285714289 115.55102040816328,117.19387755102042 115.24489795918369,116.53061224489795 114.93877551020407,115.86734693877548 114.63265306122447,115.20408163265304 114.32653061224487,114.54081632653057 114.02040816326532,113.87755102040816 113.71428571428572,113.21428571428571 113.40816326530613,112.55102040816328 113.10204081632655,111.88775510204083 112.79591836734696,111.22448979591837 112.48979591836734,110.56122448979592 112.18367346938776,109.89795918367346 111.87755102040815,109.23469387755101 111.57142857142856,108.57142857142856 111.26530612244899,107.90816326530613 110.95918367346938,107.24489795918367 110.65306122448982,106.58163265306122 110.3469387755102,105.91836734693875 110.0408163265306,105.25510204081633 109.73469387755102,104.59183673469387 109.42857142857144,103.92857142857144 109.12244897959182,103.26530612244898 108.81632653061223,102.60204081632654 108.51020408163265,101.9387755102041 108.20408163265306,101.27551020408163 107.89795918367346,100.61224489795917 107.59183673469389,99.94897959183672 107.28571428571429,99.28571428571428 106.9795918367347,98.62244897959184 106.6734693877551,97.9591836734694 106.36734693877551,97.29591836734693 106.06122448979593,96.63265306122449 105.75510204081633,95.96938775510205 105.44897959183675,95.3061224489796 105.14285714285714,94.64285714285714 104.83673469387755,93.9795918367347 104.53061224489797,93.31632653061224 104.22448979591837,92.6530612244898 103.91836734693877,91.98979591836735 103.61224489795919,91.3265306122449 103.3061224489796,90.66326530612244 103.0,90.0\" stroke=\"#AC9C1B\" stroke-width=\"1\" /><polyline fill=\"none\" points=\"100.55549396822111,96.6350878005427 103,90 109.6350878005427,92.44450603177889 103,90\" stroke=\"#AC9C1B\" stroke-width=\"1\" /><rect fill=\"white\" height=\"13\" rx=\"2\" ry=\"2\" stroke=\"#AC9C1B\" stroke-width=\"1\" transform=\"rotate(65.22485935850027 116.5 119.0)\" width=\"99.88888888888887\" x=\"66.55555555555557\" y=\"112.5\" /><text fill=\"#AC9C1B\" font-family=\"courier\" font-size=\"12\" transform=\"rotate(65.22485935850027 116.5 119.0)\" x=\"69.55555555555557\" y=\"122.5\">has_role_from</text><polyline fill=\"none\" points=\"683.0,255.0 681.8061224489794,253.79607986468218 680.612244897959,252.59312871337622 679.4183673469389,251.39211553009378 678.2244897959183,250.19400929884657 677.030612244898,248.99977900364644 675.8367346938775,247.81039362850512 674.6428571428573,246.62682215743445 673.4489795918369,245.45003357444608 672.2551020408164,244.2809968635518 671.0612244897958,243.12068100876334 669.8673469387754,241.97005499409255 668.673469387755,240.8300878035512 667.4795918367346,239.70174842115102 666.2857142857142,238.58600583090382 665.091836734694,237.4838290168213 663.8979591836735,236.39618696291515 662.7040816326531,235.32404865319725 661.5102040816328,234.26838307167935 660.3163265306123,233.23015920237316 659.1224489795917,232.21034602929052 657.9285714285713,231.20991253644314 656.7346938775511,230.22982770784284 655.5408163265306,229.2710605275013 654.3469387755102,228.33457997943037 653.1530612244898,227.42135504764173 651.9591836734694,226.53235471614718 650.7653061224489,225.6685479689585 649.5714285714287,224.83090379008752 648.3775510204082,224.0203911635458 647.1836734693878,223.23797907334531 645.9897959183673,222.4846365034977 644.795918367347,221.7613324380148 643.6020408163265,221.0690358609083 642.4081632653061,220.40871575619002 641.2142857142858,219.78134110787175 640.0204081632653,219.18788089996517 638.8265306122448,218.6293041164821 637.6326530612245,218.10657974143427 636.4387755102041,217.6206767588335 635.2448979591836,217.1725641526915 634.0510204081634,216.76321090702004 632.8571428571429,216.3935860058309 631.6632653061224,216.06465843313583 630.469387755102,215.77739717294665 629.2755102040817,215.53277120927507 628.0816326530612,215.33174952613282 626.8877551020408,215.1753011075317 625.6938775510204,215.06439493748354 624.5,215.0 624.5,215.0 623.3061224489794,214.98276228442228 622.112244897959,215.0120358014092 620.9183673469389,215.08685156694915 619.7244897959184,215.20624059703016 618.5306122448978,215.36923390764048 617.3367346938775,215.57486251476848 616.1428571428573,215.82215743440238 614.9489795918367,216.11014968253025 613.7551020408165,216.43787027514048 612.5612244897958,216.8043502282212 611.3673469387753,217.20862055776075 610.173469387755,217.64971227974735 608.9795918367347,218.1266564101692 607.7857142857143,218.63848396501453 606.5918367346939,219.18422596027168 605.3979591836736,219.7629134119287 604.2040816326531,220.37357733597398 603.0102040816327,221.01524874839563 601.8163265306123,221.68695866518203 600.6224489795918,222.38773810232126 599.4285714285713,223.1166180758017 598.2346938775511,223.87262960161155 597.0408163265306,224.654803695739 595.8469387755102,225.46217137417233 594.6530612244898,226.2937636528997 593.4591836734694,227.1486115479094 592.265306122449,228.02574607518974 591.0714285714287,228.92419825072886 589.8775510204082,229.84299909051498 588.6836734693877,230.7811796105364 587.4897959183673,231.73777082678137 586.295918367347,232.711803755238 585.1020408163265,233.7023094118947 583.9081632653061,234.70831881273955 582.7142857142858,235.72886297376093 581.5204081632653,236.76297291094693 580.3265306122448,237.80967964028594 579.1326530612246,238.86801417776604 577.9387755102041,239.9370075393756 576.7448979591836,241.01569074110276 575.5510204081633,242.10309479893584 574.3571428571429,243.19825072886297 573.1632653061224,244.30018954687245 571.969387755102,245.40794226895255 570.7755102040817,246.52053991109148 569.5816326530612,247.63701348927742 568.3877551020408,248.75639401949869 567.1938775510205,249.87771251774345 566.0,251.0\" stroke=\"#353DA4\" stroke-width=\"1\" /><polyline fill=\"none\" points=\"573.0210168629087,251.8398345529795 566,251 566.8398345529795,243.97898313709132 566,251\" stroke=\"#353DA4\" stroke-width=\"1\" /><rect fill=\"white\" height=\"13\" rx=\"2\" ry=\"2\" stroke=\"#353DA4\" stroke-width=\"1\" transform=\"rotate(0 623.0 216.5)\" width=\"143.0\" x=\"551.5\" y=\"210\" /><text fill=\"#353DA4\" font-family=\"courier\" font-size=\"12\" transform=\"rotate(0 623.0 216.5)\" x=\"554.5\" y=\"220\">has_role_in_company</text><polyline fill=\"none\" points=\"318.0,155.0 316.1122448979592,153.7960798646822 314.2244897959183,152.59312871337622 312.33673469387753,151.39211553009378 310.4489795918367,150.19400929884657 308.5612244897959,148.99977900364644 306.673469387755,147.81039362850512 304.78571428571433,146.62682215743445 302.89795918367355,145.45003357444605 301.0102040816327,144.28099686355176 299.1224489795918,143.12068100876337 297.234693877551,141.97005499409258 295.3469387755102,140.83008780355124 293.4591836734694,139.70174842115105 291.5714285714286,138.5860058309038 289.6836734693879,137.48382901682123 287.795918367347,136.39618696291512 285.90816326530614,135.32404865319725 284.02040816326536,134.2683830716793 282.1326530612245,133.23015920237316 280.2448979591836,132.2103460292905 278.35714285714283,131.20991253644314 276.4693877551021,130.22982770784282 274.58163265306126,129.2710605275013 272.6938775510205,128.33457997943034 270.8061224489796,127.42135504764173 268.9183673469388,126.53235471614718 267.03061224489795,125.6685479689585 265.14285714285717,124.83090379008749 263.2551020408163,124.02039116354581 261.36734693877554,123.2379790733453 259.47959183673476,122.48463650349771 257.5918367346939,121.76133243801479 255.70408163265307,121.06903586090831 253.81632653061226,120.40871575619002 251.92857142857147,119.78134110787173 250.04081632653066,119.18788089996517 248.15306122448982,118.62930411648207 246.26530612244898,118.10657974143427 244.3775510204082,117.62067675883348 242.48979591836738,117.17256415269148 240.60204081632656,116.76321090702004 238.71428571428572,116.39358600583091 236.8265306122449,116.06465843313586 234.9387755102041,115.77739717294665 233.05102040816328,115.53277120927505 231.16326530612247,115.33174952613282 229.27551020408163,115.17530110753174 227.3877551020408,115.06439493748353 225.5,115.0 225.5,115.0 223.61224489795913,114.9827622844223 221.72448979591834,115.01203580140927 219.83673469387756,115.08685156694916 217.94897959183675,115.20624059703015 216.06122448979593,115.36923390764053 214.1734693877551,115.57486251476851 212.28571428571433,115.82215743440234 210.39795918367352,116.11014968253025 208.51020408163265,116.43787027514047 206.62244897959178,116.80435022822121 204.73469387755097,117.20862055776078 202.84693877551015,117.64971227974738 200.9591836734694,118.12665641016923 199.07142857142858,118.63848396501459 197.18367346938777,119.18422596027166 195.29591836734696,119.7629134119287 193.40816326530614,120.37357733597398 191.52040816326527,121.01524874839565 189.63265306122452,121.68695866518203 187.74489795918362,122.3877381023213 185.85714285714283,123.11661807580174 183.96938775510202,123.87262960161156 182.0816326530612,124.654803695739 180.1938775510204,125.46217137417233 178.30612244897958,126.29376365289971 176.41836734693874,127.14861154790944 174.53061224489798,128.02574607518974 172.64285714285714,128.92419825072886 170.7551020408163,129.842999090515 168.8673469387755,130.7811796105364 166.9795918367347,131.73777082678137 165.09183673469386,132.71180375523804 163.20408163265304,133.7023094118947 161.31632653061223,134.7083188127396 159.42857142857144,135.72886297376095 157.5408163265306,136.76297291094698 155.6530612244898,137.80967964028594 153.76530612244898,138.86801417776604 151.8775510204082,139.9370075393756 149.98979591836735,141.01569074110276 148.10204081632654,142.1030947989358 146.21428571428572,143.19825072886297 144.32653061224488,144.30018954687245 142.4387755102041,145.40794226895255 140.55102040816328,146.52053991109145 138.66326530612244,147.63701348927742 136.77551020408163,148.75639401949866 134.8877551020408,149.87771251774345 133.0,151.0\" stroke=\"#353DA4\" stroke-width=\"1\" /><polyline fill=\"none\" points=\"139.70334824922506,153.25058262519107 133,151 135.25058262519107,144.29665175077494 133,151\" stroke=\"#353DA4\" stroke-width=\"1\" /><rect fill=\"white\" height=\"13\" rx=\"2\" ry=\"2\" stroke=\"#353DA4\" stroke-width=\"1\" transform=\"rotate(0 224.0 116.5)\" width=\"143.0\" x=\"152.5\" y=\"110\" /><text fill=\"#353DA4\" font-family=\"courier\" font-size=\"12\" transform=\"rotate(0 224.0 116.5)\" x=\"155.5\" y=\"120\">has_role_in_company</text><polyline fill=\"none\" points=\"323.0,255.0 321.0612244897959,253.79607986468218 319.1224489795918,252.59312871337622 317.1836734693878,251.39211553009378 315.2448979591837,250.19400929884657 313.3061224489796,248.99977900364644 311.3673469387755,247.81039362850512 309.4285714285715,246.62682215743445 307.48979591836746,245.45003357444608 305.5510204081633,244.2809968635518 303.61224489795916,243.12068100876334 301.67346938775506,241.97005499409255 299.73469387755097,240.8300878035512 297.7959183673469,239.70174842115102 295.8571428571429,238.58600583090382 293.91836734693885,237.4838290168213 291.9795918367347,236.39618696291515 290.04081632653066,235.32404865319725 288.10204081632656,234.26838307167935 286.16326530612247,233.23015920237316 284.2244897959183,232.21034602929052 282.2857142857143,231.20991253644314 280.34693877551024,230.22982770784284 278.40816326530614,229.2710605275013 276.46938775510205,228.33457997943037 274.53061224489795,227.42135504764173 272.5918367346939,226.53235471614718 270.6530612244898,225.6685479689585 268.7142857142858,224.83090379008752 266.7755102040817,224.0203911635458 264.8367346938776,223.23797907334531 262.8979591836735,222.4846365034977 260.9591836734694,221.7613324380148 259.0204081632653,221.0690358609083 257.08163265306126,220.40871575619002 255.14285714285717,219.78134110787175 253.20408163265307,219.18788089996517 251.26530612244898,218.6293041164821 249.32653061224488,218.10657974143427 247.38775510204084,217.6206767588335 245.44897959183675,217.1725641526915 243.51020408163265,216.76321090702004 241.57142857142858,216.3935860058309 239.63265306122452,216.06465843313583 237.69387755102042,215.77739717294665 235.75510204081635,215.53277120927507 233.8163265306123,215.33174952613282 231.8775510204082,215.1753011075317 229.93877551020407,215.06439493748354 228.0,215.0 228.0,215.0 226.06122448979588,214.98276228442228 224.1224489795918,215.0120358014092 222.18367346938777,215.08685156694915 220.24489795918367,215.20624059703016 218.3061224489796,215.36923390764048 216.3673469387755,215.57486251476848 214.42857142857147,215.82215743440238 212.48979591836735,216.11014968253025 210.55102040816328,216.43787027514048 208.61224489795913,216.8043502282212 206.67346938775506,217.20862055776075 204.73469387755097,217.64971227974735 202.7959183673469,218.1266564101692 200.85714285714286,218.63848396501453 198.91836734693882,219.18422596027168 196.97959183673473,219.7629134119287 195.04081632653063,220.37357733597398 193.1020408163265,221.01524874839563 191.16326530612244,221.68695866518203 189.22448979591832,222.38773810232126 187.28571428571428,223.1166180758017 185.3469387755102,223.87262960161155 183.40816326530611,224.654803695739 181.46938775510205,225.46217137417233 179.53061224489795,226.2937636528997 177.59183673469386,227.1486115479094 175.6530612244898,228.02574607518974 173.71428571428572,228.92419825072886 171.77551020408163,229.84299909051498 169.83673469387756,230.7811796105364 167.89795918367346,231.73777082678137 165.95918367346937,232.711803755238 164.0204081632653,233.7023094118947 162.0816326530612,234.70831881273955 160.14285714285717,235.72886297376093 158.20408163265307,236.76297291094693 156.26530612244898,237.80967964028594 154.32653061224488,238.86801417776604 152.38775510204084,239.9370075393756 150.44897959183675,241.01569074110276 148.51020408163265,242.10309479893584 146.57142857142858,243.19825072886297 144.6326530612245,244.30018954687245 142.69387755102042,245.40794226895255 140.75510204081633,246.52053991109148 138.81632653061226,247.63701348927742 136.87755102040816,248.75639401949869 134.93877551020407,249.87771251774345 133.0,251.0\" stroke=\"#2A2849\" stroke-width=\"1\" /><polyline fill=\"none\" points=\"139.67923970086565,253.32115422228662 133,251 135.32115422228662,244.32076029913435 133,251\" stroke=\"#2A2849\" stroke-width=\"1\" /><rect fill=\"white\" height=\"13\" rx=\"2\" ry=\"2\" stroke=\"#2A2849\" stroke-width=\"1\" transform=\"rotate(0 226.5 216.5)\" width=\"63.962962962962955\" x=\"194.51851851851853\" y=\"210\" /><text fill=\"#2A2849\" font-family=\"courier\" font-size=\"12\" transform=\"rotate(0 226.5 216.5)\" x=\"197.51851851851853\" y=\"220\">has_role</text><polyline fill=\"none\" points=\"546.0,255.0 543.9285714285714,253.79607986468218 541.8571428571428,252.59312871337622 539.7857142857144,251.39211553009378 537.7142857142858,250.19400929884657 535.6428571428571,248.99977900364644 533.5714285714286,247.81039362850512 531.5000000000002,246.62682215743445 529.4285714285716,245.45003357444608 527.357142857143,244.2809968635518 525.2857142857143,243.12068100876334 523.2142857142857,241.97005499409255 521.142857142857,240.8300878035512 519.0714285714286,239.70174842115102 517.0,238.58600583090382 514.9285714285716,237.4838290168213 512.857142857143,236.39618696291515 510.7857142857144,235.32404865319725 508.7142857142858,234.26838307167935 506.6428571428572,233.23015920237316 504.57142857142856,232.21034602929052 502.5,231.20991253644314 500.42857142857144,230.22982770784284 498.35714285714283,229.2710605275013 496.28571428571433,228.33457997943037 494.2142857142858,227.42135504764173 492.1428571428571,226.53235471614718 490.0714285714286,225.6685479689585 488.0000000000001,224.83090379008752 485.92857142857144,224.0203911635458 483.8571428571429,223.23797907334531 481.78571428571433,222.4846365034977 479.7142857142857,221.7613324380148 477.6428571428572,221.0690358609083 475.57142857142856,220.40871575619002 473.50000000000006,219.78134110787175 471.4285714285715,219.18788089996517 469.3571428571429,218.6293041164821 467.2857142857143,218.10657974143427 465.2142857142858,217.6206767588335 463.14285714285717,217.1725641526915 461.0714285714286,216.76321090702004 459.00000000000006,216.3935860058309 456.92857142857144,216.06465843313583 454.8571428571429,215.77739717294665 452.78571428571433,215.53277120927507 450.7142857142858,215.33174952613282 448.64285714285717,215.1753011075317 446.5714285714286,215.06439493748354 444.5,215.0 444.5,215.0 442.4285714285714,214.98276228442228 440.3571428571428,215.0120358014092 438.2857142857143,215.08685156694915 436.21428571428567,215.20624059703016 434.1428571428571,215.36923390764048 432.0714285714285,215.57486251476848 430.00000000000006,215.82215743440238 427.92857142857144,216.11014968253025 425.8571428571429,216.43787027514048 423.7857142857142,216.8043502282212 421.71428571428567,217.20862055776075 419.6428571428571,217.64971227974735 417.57142857142856,218.1266564101692 415.5,218.63848396501453 413.4285714285715,219.18422596027168 411.3571428571429,219.7629134119287 409.28571428571433,220.37357733597398 407.21428571428567,221.01524874839563 405.14285714285717,221.68695866518203 403.07142857142844,222.38773810232126 400.99999999999994,223.1166180758017 398.9285714285714,223.87262960161155 396.85714285714283,224.654803695739 394.7857142857143,225.46217137417233 392.71428571428567,226.2937636528997 390.6428571428571,227.1486115479094 388.57142857142856,228.02574607518974 386.5,228.92419825072886 384.42857142857144,229.84299909051498 382.3571428571429,230.7811796105364 380.2857142857143,231.73777082678137 378.21428571428567,232.711803755238 376.14285714285717,233.7023094118947 374.07142857142856,234.70831881273955 372.0,235.72886297376093 369.92857142857144,236.76297291094693 367.8571428571429,237.80967964028594 365.78571428571433,238.86801417776604 363.71428571428567,239.9370075393756 361.64285714285717,241.01569074110276 359.57142857142856,242.10309479893584 357.5,243.19825072886297 355.42857142857144,244.30018954687245 353.35714285714283,245.40794226895255 351.2857142857143,246.52053991109148 349.2142857142857,247.63701348927742 347.14285714285717,248.75639401949869 345.07142857142856,249.87771251774345 343.0,251.0\" stroke=\"#2A2849\" stroke-width=\"1\" /><polyline fill=\"none\" points=\"349.6180771393474,253.49019173717818 343,251 345.4901917371782,244.3819228606526 343,251\" stroke=\"#2A2849\" stroke-width=\"1\" /><rect fill=\"white\" height=\"13\" rx=\"2\" ry=\"2\" stroke=\"#2A2849\" stroke-width=\"1\" transform=\"rotate(0 443.0 216.5)\" width=\"63.962962962962955\" x=\"411.01851851851853\" y=\"210\" /><text fill=\"#2A2849\" font-family=\"courier\" font-size=\"12\" transform=\"rotate(0 443.0 216.5)\" x=\"414.01851851851853\" y=\"220\">has_role</text><polyline fill=\"none\" points=\"128.0,155.0 129.7142857142857,154.33673469387753 131.42857142857142,153.6734693877551 133.14285714285714,153.01020408163268 134.85714285714286,152.3469387755102 136.57142857142856,151.68367346938777 138.28571428571428,151.0204081632653 140.00000000000006,150.35714285714292 141.71428571428572,149.69387755102042 143.42857142857144,149.03061224489798 145.1428571428571,148.36734693877554 146.85714285714286,147.70408163265307 148.57142857142858,147.0408163265306 150.28571428571428,146.3775510204082 152.0,145.71428571428572 153.71428571428572,145.05102040816328 155.42857142857144,144.38775510204084 157.14285714285717,143.7244897959184 158.85714285714283,143.0612244897959 160.57142857142858,142.3979591836735 162.28571428571425,141.734693877551 163.99999999999997,141.07142857142856 165.71428571428572,140.40816326530614 167.42857142857142,139.74489795918367 169.14285714285714,139.08163265306123 170.85714285714283,138.41836734693877 172.57142857142856,137.75510204081633 174.28571428571428,137.09183673469389 176.00000000000003,136.42857142857144 177.71428571428572,135.765306122449 179.42857142857142,135.10204081632654 181.14285714285717,134.4387755102041 182.85714285714283,133.77551020408163 184.57142857142858,133.11224489795921 186.28571428571428,132.44897959183675 188.0,131.7857142857143 189.71428571428572,131.12244897959184 191.42857142857142,130.4591836734694 193.14285714285714,129.79591836734693 194.85714285714286,129.13265306122452 196.57142857142856,128.46938775510205 198.28571428571428,127.80612244897961 200.0,127.14285714285717 201.71428571428572,126.4795918367347 203.42857142857142,125.81632653061226 205.1428571428571,125.15306122448982 206.85714285714286,124.48979591836735 208.57142857142856,123.8265306122449 210.28571428571428,123.16326530612245 212.0,122.5 212.0,122.5 213.71428571428572,121.83673469387755 215.42857142857142,121.17346938775509 217.14285714285717,120.51020408163266 218.85714285714286,119.84693877551021 220.57142857142856,119.18367346938776 222.28571428571425,118.5204081632653 224.00000000000006,117.85714285714289 225.71428571428575,117.19387755102042 227.42857142857142,116.53061224489795 229.1428571428571,115.86734693877548 230.8571428571428,115.20408163265304 232.57142857142853,114.54081632653057 234.28571428571428,113.87755102040816 236.0,113.21428571428571 237.71428571428575,112.55102040816328 239.42857142857144,111.88775510204083 241.14285714285717,111.22448979591837 242.85714285714283,110.56122448979592 244.57142857142856,109.89795918367346 246.28571428571425,109.23469387755101 248.0,108.57142857142856 249.7142857142857,107.90816326530613 251.42857142857142,107.24489795918367 253.14285714285714,106.58163265306122 254.85714285714283,105.91836734693875 256.57142857142856,105.25510204081633 258.2857142857143,104.59183673469387 260.0,103.92857142857144 261.7142857142857,103.26530612244898 263.42857142857144,102.60204081632654 265.1428571428571,101.9387755102041 266.85714285714283,101.27551020408163 268.57142857142856,100.61224489795917 270.28571428571433,99.94897959183672 272.0,99.28571428571428 273.7142857142857,98.62244897959184 275.42857142857144,97.9591836734694 277.1428571428571,97.29591836734693 278.8571428571429,96.63265306122449 280.57142857142856,95.96938775510205 282.28571428571433,95.3061224489796 284.0,94.64285714285714 285.7142857142857,93.9795918367347 287.4285714285714,93.31632653061224 289.14285714285717,92.6530612244898 290.85714285714283,91.98979591836735 292.57142857142856,91.3265306122449 294.2857142857143,90.66326530612244 296.0,90.0\" stroke=\"#2A2849\" stroke-width=\"1\" /><polyline fill=\"none\" points=\"289.53266635581116,87.14104993411394 296,90 293.14104993411394,96.46733364418884 296,90\" stroke=\"#2A2849\" stroke-width=\"1\" /><rect fill=\"white\" height=\"13\" rx=\"2\" ry=\"2\" stroke=\"#2A2849\" stroke-width=\"1\" transform=\"rotate(-21.151691394941977 210.5 119.0)\" width=\"63.962962962962955\" x=\"178.51851851851853\" y=\"112.5\" /><text fill=\"#2A2849\" font-family=\"courier\" font-size=\"12\" transform=\"rotate(-21.151691394941977 210.5 119.0)\" x=\"181.51851851851853\" y=\"122.5\">has_role</text><polyline fill=\"none\" points=\"668.0,55.0 664.5816326530612,53.79607986468223 661.1632653061224,52.593128713376224 657.7448979591837,51.39211553009376 654.3265306122449,50.194009298846574 650.9081632653061,48.999779003646445 647.4897959183672,47.810393628505125 644.0714285714288,46.626822157434425 640.6530612244899,45.450033574446024 637.2346938775512,44.280996863551756 633.8163265306123,43.12068100876335 630.3979591836734,41.97005499409259 626.9795918367346,40.83008780355124 623.5612244897959,39.70174842115105 620.1428571428571,38.586005830903794 616.7244897959184,37.48382901682123 613.3061224489797,36.396186962915124 609.887755102041,35.32404865319723 606.4693877551022,34.26838307167932 603.0510204081633,33.23015920237316 599.6326530612245,32.21034602929051 596.2142857142858,31.209912536443145 592.795918367347,30.229827707842823 589.3775510204082,29.271060527501298 585.9591836734695,28.334579979430348 582.5408163265307,27.421355047641715 579.1224489795918,26.532354716147186 575.7040816326531,25.668547968958514 572.2857142857143,24.83090379008747 568.8673469387757,24.020391163545803 565.4489795918367,23.237979073345294 562.0306122448981,22.484636503497697 558.6122448979592,21.761332438014776 555.1938775510205,21.069035860908297 551.7755102040817,20.408715756190023 548.3571428571429,19.781341107871725 544.9387755102041,19.187880899965155 541.5204081632653,18.629304116482082 538.1020408163265,18.106579741434267 534.6836734693878,17.620676758833483 531.265306122449,17.172564152691482 527.8469387755102,16.76321090702004 524.4285714285714,16.393586005830905 521.0102040816327,16.064658433135854 517.591836734694,15.77739717294665 514.1734693877552,15.53277120927505 510.7551020408163,15.33174952613282 507.3367346938776,15.175301107531727 503.9183673469388,15.064394937483533 500.5,15.0 500.5,15.0 497.0816326530612,14.982762284422305 493.66326530612236,15.012035801409274 490.2448979591837,15.086851566949145 486.82653061224494,15.20624059703015 483.40816326530614,15.369233907640522 479.98979591836724,15.574862514768505 476.57142857142867,15.822157434402333 473.1530612244899,16.11014968253024 469.73469387755097,16.43787027514046 466.3163265306122,16.80435022822123 462.8979591836734,17.208620557760792 459.4795918367345,17.64971227974738 456.06122448979585,18.126656410169232 452.64285714285717,18.638483965014576 449.22448979591843,19.184225960271654 445.8061224489796,19.762913411928704 442.38775510204084,20.37357733597396 438.96938775510205,21.01524874839565 435.5510204081632,21.686958665182026 432.1326530612244,22.387738102321304 428.71428571428567,23.116618075801746 425.295918367347,23.87262960161157 421.87755102040813,24.654803695739016 418.4591836734694,25.462171374172325 415.0408163265306,26.293763652899724 411.6224489795918,27.148611547909454 408.2040816326531,28.02574607518976 404.78571428571433,28.92419825072886 401.3673469387755,29.842999090515008 397.94897959183675,30.78117961053642 394.53061224489795,31.737770826781354 391.11224489795916,32.71180375523804 387.6938775510204,33.7023094118947 384.27551020408157,34.70831881273959 380.8571428571429,35.728862973760926 377.4387755102041,36.762972910946964 374.0204081632653,37.809679640285935 370.6020408163265,38.868014177766064 367.1836734693878,39.93700753937559 363.76530612244903,41.015690741102766 360.34693877551024,42.103094798935814 356.92857142857144,43.19825072886297 353.51020408163265,44.300189546872474 350.09183673469386,45.40794226895255 346.67346938775506,46.52053991109146 343.2551020408163,47.63701348927743 339.8367346938776,48.75639401949867 336.4183673469388,49.877712517743454 333.0,51.0\" stroke=\"#2A2849\" stroke-width=\"1\" /><polyline fill=\"none\" points=\"339.1455963896701,54.49737686812611 333,51 336.49737686812614,44.854403610329854 333,51\" stroke=\"#2A2849\" stroke-width=\"1\" /><rect fill=\"white\" height=\"13\" rx=\"2\" ry=\"2\" stroke=\"#2A2849\" stroke-width=\"1\" transform=\"rotate(0 499.0 16.5)\" width=\"63.962962962962955\" x=\"467.01851851851853\" y=\"10\" /><text fill=\"#2A2849\" font-family=\"courier\" font-size=\"12\" transform=\"rotate(0 499.0 16.5)\" x=\"470.01851851851853\" y=\"20\">has_role</text><polyline fill=\"none\" points=\"333.0,155.0 336.2653061224489,154.33673469387753 339.53061224489795,153.6734693877551 342.795918367347,153.01020408163268 346.06122448979596,152.3469387755102 349.32653061224494,151.68367346938777 352.5918367346938,151.0204081632653 355.85714285714295,150.35714285714292 359.1224489795919,149.69387755102042 362.38775510204084,149.03061224489798 365.65306122448976,148.36734693877554 368.91836734693874,147.70408163265307 372.18367346938766,147.0408163265306 375.44897959183675,146.3775510204082 378.7142857142857,145.71428571428572 381.97959183673476,145.05102040816328 385.24489795918373,144.38775510204084 388.51020408163276,143.7244897959184 391.7755102040817,143.0612244897959 395.04081632653066,142.3979591836735 398.3061224489796,141.734693877551 401.57142857142856,141.07142857142856 404.8367346938776,140.40816326530614 408.1020408163265,139.74489795918367 411.3673469387756,139.08163265306123 414.6326530612246,138.41836734693877 417.8979591836735,137.75510204081633 421.1632653061225,137.09183673469389 424.4285714285715,136.42857142857144 427.6938775510205,135.765306122449 430.9591836734694,135.10204081632654 434.22448979591843,134.4387755102041 437.48979591836735,133.77551020408163 440.7551020408164,133.11224489795921 444.0204081632653,132.44897959183675 447.28571428571433,131.7857142857143 450.5510204081633,131.12244897959184 453.8163265306123,130.4591836734694 457.08163265306126,129.79591836734693 460.34693877551024,129.13265306122452 463.6122448979592,128.46938775510205 466.8775510204082,127.80612244897961 470.14285714285717,127.14285714285717 473.40816326530614,126.4795918367347 476.67346938775506,125.81632653061226 479.9387755102041,125.15306122448982 483.2040816326531,124.48979591836735 486.46938775510205,123.8265306122449 489.734693877551,123.16326530612245 493.0,122.5 493.0,122.5 496.2653061224489,121.83673469387755 499.53061224489784,121.17346938775509 502.795918367347,120.51020408163266 506.0612244897959,119.84693877551021 509.32653061224494,119.18367346938776 512.5918367346939,118.5204081632653 515.857142857143,117.85714285714289 519.1224489795919,117.19387755102042 522.387755102041,116.53061224489795 525.6530612244898,115.86734693877548 528.9183673469387,115.20408163265304 532.1836734693876,114.54081632653057 535.4489795918366,113.87755102040816 538.7142857142858,113.21428571428571 541.9795918367347,112.55102040816328 545.2448979591836,111.88775510204083 548.5102040816327,111.22448979591837 551.7755102040816,110.56122448979592 555.0408163265306,109.89795918367346 558.3061224489795,109.23469387755101 561.5714285714284,108.57142857142856 564.8367346938775,107.90816326530613 568.1020408163265,107.24489795918367 571.3673469387755,106.58163265306122 574.6326530612245,105.91836734693875 577.8979591836734,105.25510204081633 581.1632653061224,104.59183673469387 584.4285714285714,103.92857142857144 587.6938775510204,103.26530612244898 590.9591836734693,102.60204081632654 594.2244897959183,101.9387755102041 597.4897959183672,101.27551020408163 600.7551020408164,100.61224489795917 604.0204081632653,99.94897959183672 607.2857142857142,99.28571428571428 610.5510204081633,98.62244897959184 613.8163265306122,97.9591836734694 617.0816326530612,97.29591836734693 620.3469387755101,96.63265306122449 623.6122448979592,95.96938775510205 626.8775510204082,95.3061224489796 630.1428571428571,94.64285714285714 633.408163265306,93.9795918367347 636.6734693877551,93.31632653061224 639.9387755102041,92.6530612244898 643.204081632653,91.98979591836735 646.469387755102,91.3265306122449 649.734693877551,90.66326530612244 653.0,90.0\" stroke=\"#353DA4\" stroke-width=\"1\" /><polyline fill=\"none\" points=\"647.1047637824446,86.09536302473602 653,90 649.095363024736,95.89523621755542 653,90\" stroke=\"#353DA4\" stroke-width=\"1\" /><rect fill=\"white\" height=\"13\" rx=\"2\" ry=\"2\" stroke=\"#353DA4\" stroke-width=\"1\" transform=\"rotate(-11.481991358240924 491.5 119.0)\" width=\"143.0\" x=\"420.0\" y=\"112.5\" /><text fill=\"#353DA4\" font-family=\"courier\" font-size=\"12\" transform=\"rotate(-11.481991358240924 491.5 119.0)\" x=\"423.0\" y=\"122.5\">has_role_in_company</text><polyline fill=\"none\" points=\"673.0,55.0 667.4897959183672,53.79607986468223 661.9795918367346,52.593128713376224 656.469387755102,51.39211553009376 650.9591836734694,50.194009298846574 645.4489795918367,48.999779003646445 639.9387755102039,47.810393628505125 634.4285714285717,46.626822157434425 628.9183673469388,45.450033574446024 623.4081632653063,44.280996863551756 617.8979591836734,43.12068100876335 612.3877551020407,41.97005499409259 606.8775510204081,40.83008780355124 601.3673469387754,39.70174842115105 595.8571428571429,38.586005830903794 590.3469387755102,37.48382901682123 584.8367346938777,36.396186962915124 579.3265306122449,35.32404865319723 573.8163265306122,34.26838307167932 568.3061224489796,33.23015920237316 562.7959183673469,32.21034602929051 557.2857142857142,31.209912536443145 551.7755102040817,30.229827707842823 546.2653061224489,29.271060527501298 540.7551020408164,28.334579979430348 535.2448979591836,27.421355047641715 529.734693877551,26.532354716147186 524.2244897959183,25.668547968958514 518.7142857142858,24.83090379008747 513.2040816326531,24.020391163545803 507.6938775510204,23.237979073345294 502.1836734693878,22.484636503497697 496.6734693877551,21.761332438014776 491.16326530612247,21.069035860908297 485.65306122448976,20.408715756190023 480.1428571428572,19.781341107871725 474.6326530612245,19.187880899965155 469.12244897959187,18.629304116482082 463.6122448979592,18.106579741434267 458.10204081632656,17.620676758833483 452.5918367346939,17.172564152691482 447.0816326530612,16.76321090702004 441.5714285714286,16.393586005830905 436.0612244897959,16.064658433135854 430.5510204081633,15.77739717294665 425.0408163265306,15.53277120927505 419.530612244898,15.33174952613282 414.0204081632653,15.175301107531727 408.51020408163265,15.064394937483533 403.0,15.0 403.0,15.0 397.4897959183673,14.982762284422305 391.9795918367346,15.012035801409274 386.4693877551021,15.086851566949145 380.9591836734694,15.20624059703015 375.44897959183675,15.369233907640522 369.938775510204,15.574862514768505 364.4285714285715,15.822157434402333 358.9183673469388,16.11014968253024 353.40816326530614,16.43787027514046 347.89795918367344,16.80435022822123 342.3877551020408,17.208620557760792 336.8775510204081,17.64971227974738 331.3673469387755,18.126656410169232 325.85714285714283,18.638483965014576 320.34693877551024,19.184225960271654 314.83673469387753,19.762913411928704 309.32653061224494,20.37357733597396 303.81632653061223,21.01524874839565 298.3061224489796,21.686958665182026 292.7959183673469,22.387738102321304 287.2857142857142,23.116618075801746 281.7755102040817,23.87262960161157 276.265306122449,24.654803695739016 270.7551020408163,25.462171374172325 265.2448979591837,26.293763652899724 259.734693877551,27.148611547909454 254.2244897959184,28.02574607518976 248.71428571428572,28.92419825072886 243.20408163265307,29.842999090515008 237.69387755102045,30.78117961053642 232.18367346938777,31.737770826781354 226.6734693877551,32.71180375523804 221.16326530612244,33.7023094118947 215.6530612244898,34.70831881273959 210.14285714285717,35.728862973760926 204.63265306122452,36.762972910946964 199.12244897959187,37.809679640285935 193.6122448979592,38.868014177766064 188.10204081632656,39.93700753937559 182.5918367346939,41.015690741102766 177.08163265306126,42.103094798935814 171.5714285714286,43.19825072886297 166.0612244897959,44.300189546872474 160.55102040816328,45.40794226895255 155.04081632653063,46.52053991109146 149.53061224489798,47.63701348927743 144.0204081632653,48.75639401949867 138.51020408163265,49.877712517743454 133.0,51.0\" stroke=\"#AC9C1B\" stroke-width=\"1\" /><polyline fill=\"none\" points=\"138.7687289720051,55.08922560040869 133,51 137.0892256004087,45.231271027994886 133,51\" stroke=\"#AC9C1B\" stroke-width=\"1\" /><rect fill=\"white\" height=\"13\" rx=\"2\" ry=\"2\" stroke=\"#AC9C1B\" stroke-width=\"1\" transform=\"rotate(0 401.5 16.5)\" width=\"99.88888888888887\" x=\"351.55555555555554\" y=\"10\" /><text fill=\"#AC9C1B\" font-family=\"courier\" font-size=\"12\" transform=\"rotate(0 401.5 16.5)\" x=\"354.55555555555554\" y=\"20\">has_role_from</text><polyline fill=\"none\" points=\"688.0,255.0 682.2857142857141,253.79607986468218 676.5714285714286,252.59312871337622 670.857142857143,251.39211553009378 665.1428571428571,250.19400929884657 659.4285714285713,248.99977900364644 653.7142857142857,247.81039362850512 648.0000000000002,246.62682215743445 642.2857142857143,245.45003357444608 636.5714285714287,244.2809968635518 630.8571428571428,243.12068100876334 625.1428571428571,241.97005499409255 619.4285714285713,240.8300878035512 613.7142857142858,239.70174842115102 608.0,238.58600583090382 602.2857142857144,237.4838290168213 596.5714285714287,236.39618696291515 590.857142857143,235.32404865319725 585.1428571428572,234.26838307167935 579.4285714285714,233.23015920237316 573.7142857142857,232.21034602929052 568.0,231.20991253644314 562.2857142857143,230.22982770784284 556.5714285714287,229.2710605275013 550.8571428571429,228.33457997943037 545.1428571428571,227.42135504764173 539.4285714285714,226.53235471614718 533.7142857142858,225.6685479689585 528.0000000000001,224.83090379008752 522.2857142857143,224.0203911635458 516.5714285714287,223.23797907334531 510.857142857143,222.4846365034977 505.14285714285717,221.7613324380148 499.4285714285715,221.0690358609083 493.7142857142857,220.40871575619002 488.0000000000001,219.78134110787175 482.28571428571433,219.18788089996517 476.5714285714286,218.6293041164821 470.8571428571429,218.10657974143427 465.1428571428572,217.6206767588335 459.42857142857144,217.1725641526915 453.7142857142858,216.76321090702004 448.00000000000006,216.3935860058309 442.2857142857143,216.06465843313583 436.5714285714286,215.77739717294665 430.8571428571429,215.53277120927507 425.1428571428572,215.33174952613282 419.42857142857144,215.1753011075317 413.7142857142857,215.06439493748354 408.0,215.0 408.0,215.0 402.2857142857142,214.98276228442228 396.5714285714285,215.0120358014092 390.8571428571429,215.08685156694915 385.1428571428571,215.20624059703016 379.4285714285714,215.36923390764048 373.71428571428567,215.57486251476848 368.0000000000001,215.82215743440238 362.28571428571433,216.11014968253025 356.57142857142856,216.43787027514048 350.85714285714283,216.8043502282212 345.1428571428571,217.20862055776075 339.4285714285714,217.64971227974735 333.7142857142857,218.1266564101692 328.0,218.63848396501453 322.28571428571433,219.18422596027168 316.5714285714286,219.7629134119287 310.8571428571429,220.37357733597398 305.14285714285717,221.01524874839563 299.42857142857144,221.68695866518203 293.7142857142856,222.38773810232126 287.99999999999994,223.1166180758017 282.2857142857142,223.87262960161155 276.57142857142856,224.654803695739 270.85714285714283,225.46217137417233 265.1428571428571,226.2937636528997 259.4285714285714,227.1486115479094 253.71428571428572,228.02574607518974 248.00000000000006,228.92419825072886 242.28571428571428,229.84299909051498 236.5714285714286,230.7811796105364 230.8571428571429,231.73777082678137 225.1428571428571,232.711803755238 219.42857142857142,233.7023094118947 213.71428571428567,234.70831881273955 208.0,235.72886297376093 202.2857142857143,236.76297291094693 196.57142857142856,237.80967964028594 190.85714285714286,238.86801417776604 185.14285714285717,239.9370075393756 179.42857142857144,241.01569074110276 173.71428571428572,242.10309479893584 168.0,243.19825072886297 162.28571428571428,244.30018954687245 156.57142857142858,245.40794226895255 150.8571428571429,246.52053991109148 145.14285714285717,247.63701348927742 139.42857142857144,248.75639401949869 133.71428571428572,249.87771251774345 128.0,251.0\" stroke=\"#353DA4\" stroke-width=\"1\" /><polyline fill=\"none\" points=\"133.7444242732065,255.12329840469425 128,251 132.12329840469425,245.2555757267935 128,251\" stroke=\"#353DA4\" stroke-width=\"1\" /><rect fill=\"white\" height=\"13\" rx=\"2\" ry=\"2\" stroke=\"#353DA4\" stroke-width=\"1\" transform=\"rotate(0 406.5 216.5)\" width=\"143.0\" x=\"335.0\" y=\"210\" /><text fill=\"#353DA4\" font-family=\"courier\" font-size=\"12\" transform=\"rotate(0 406.5 216.5)\" x=\"338.0\" y=\"220\">has_role_in_company</text><polyline fill=\"none\" points=\"391.0,355.0 396.3877551020408,354.33673469387753 401.77551020408157,353.67346938775506 407.16326530612247,353.01020408163265 412.55102040816325,352.3469387755102 417.9387755102041,351.68367346938777 423.3265306122448,351.02040816326524 428.7142857142858,350.35714285714295 434.10204081632656,349.6938775510205 439.4897959183674,349.030612244898 444.8775510204081,348.3673469387755 450.2653061224489,347.7040816326531 455.6530612244897,347.04081632653055 461.04081632653055,346.37755102040813 466.4285714285715,345.7142857142857 471.8163265306123,345.0510204081633 477.2040816326531,344.38775510204084 482.59183673469397,343.72448979591843 487.9795918367347,343.06122448979596 493.3673469387755,342.39795918367355 498.7551020408162,341.734693877551 504.1428571428571,341.07142857142856 509.53061224489795,340.40816326530614 514.9183673469388,339.74489795918373 520.3061224489796,339.08163265306126 525.6938775510205,338.4183673469388 531.0816326530612,337.7551020408163 536.4693877551019,337.09183673469386 541.8571428571429,336.4285714285715 547.2448979591836,335.76530612244903 552.6326530612245,335.10204081632656 558.0204081632653,334.43877551020415 563.408163265306,333.7755102040816 568.795918367347,333.11224489795916 574.1836734693877,332.44897959183675 579.5714285714286,331.78571428571433 584.9591836734694,331.1224489795918 590.3469387755102,330.4591836734694 595.7346938775511,329.795918367347 601.1224489795918,329.1326530612245 606.5102040816327,328.46938775510205 611.8979591836735,327.80612244897964 617.2857142857143,327.14285714285717 622.6734693877551,326.4795918367347 628.0612244897959,325.81632653061223 633.4489795918366,325.1530612244898 638.8367346938776,324.4897959183674 644.2244897959183,323.82653061224494 649.6122448979593,323.1632653061224 655.0,322.5 655.0,322.5 660.3877551020407,321.8367346938775 665.7755102040816,321.17346938775506 671.1632653061225,320.5102040816327 676.5510204081633,319.84693877551024 681.9387755102041,319.1836734693877 687.3265306122448,318.5204081632653 692.7142857142859,317.85714285714295 698.1020408163266,317.1938775510204 703.4897959183673,316.53061224489795 708.8775510204081,315.8673469387754 714.2653061224489,315.204081632653 719.6530612244896,314.5408163265305 725.0408163265305,313.87755102040813 730.4285714285714,313.21428571428567 735.8163265306123,312.55102040816325 741.2040816326531,311.88775510204084 746.5918367346939,311.22448979591843 751.9795918367347,310.5612244897959 757.3673469387754,309.89795918367344 762.7551020408163,309.2346938775509 768.1428571428571,308.57142857142856 773.530612244898,307.90816326530614 778.9183673469387,307.2448979591837 784.3061224489796,306.5816326530612 789.6938775510204,305.91836734693874 795.0816326530612,305.2551020408163 800.4693877551019,304.59183673469386 805.8571428571429,303.92857142857144 811.2448979591837,303.265306122449 816.6326530612246,302.6020408163265 822.0204081632653,301.9387755102041 827.408163265306,301.2755102040816 832.7959183673469,300.61224489795916 838.1836734693877,299.94897959183675 843.5714285714287,299.28571428571433 848.9591836734694,298.6224489795918 854.3469387755101,297.9591836734694 859.734693877551,297.295918367347 865.1224489795918,296.63265306122446 870.5102040816327,295.96938775510205 875.8979591836735,295.3061224489796 881.2857142857143,294.64285714285717 886.6734693877552,293.9795918367347 892.0612244897958,293.31632653061223 897.4489795918367,292.6530612244898 902.8367346938776,291.98979591836735 908.2244897959184,291.3265306122449 913.6122448979592,290.66326530612247 919.0,290.0\" stroke=\"#2A2849\" stroke-width=\"1\" /><polyline fill=\"none\" points=\"913.4265440345091,285.648380924077 919,290 914.648380924077,295.57345596549095 919,290\" stroke=\"#2A2849\" stroke-width=\"1\" /><rect fill=\"white\" height=\"13\" rx=\"2\" ry=\"2\" stroke=\"#2A2849\" stroke-width=\"1\" transform=\"rotate(-7.0181462862081165 653.5 319.0)\" width=\"63.962962962962955\" x=\"621.5185185185185\" y=\"312.5\" /><text fill=\"#2A2849\" font-family=\"courier\" font-size=\"12\" transform=\"rotate(-7.0181462862081165 653.5 319.0)\" x=\"624.5185185185185\" y=\"322.5\">has_role</text></svg>"
            ],
            "text/plain": [
              "<IPython.core.display.HTML object>"
            ]
          },
          "metadata": {},
          "output_type": "display_data"
        }
      ],
      "source": [
        "from sparknlp_display import RelationExtractionVisualizer\n",
        "\n",
        "re_vis = viz.RelationExtractionVisualizer()\n",
        "\n",
        "re_vis.display(result = result[0], relation_col = \"relations\", document_col = \"document\", exclude_relations = [\"other\"], show_relations=True)"
      ]
    }
  ],
  "metadata": {
    "colab": {
      "provenance": [],
      "toc_visible": true
    },
    "gpuClass": "standard",
    "kernelspec": {
      "display_name": "Python 3",
      "name": "python3"
    },
    "language_info": {
      "name": "python"
    },
    "toc-showtags": false
  },
  "nbformat": 4,
  "nbformat_minor": 5
}
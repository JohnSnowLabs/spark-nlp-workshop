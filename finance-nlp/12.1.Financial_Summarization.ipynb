{
  "cells": [
    {
      "cell_type": "markdown",
      "metadata": {
        "id": "I08sFJYCxR0Z"
      },
      "source": [
        "![JohnSnowLabs](https://nlp.johnsnowlabs.com/assets/images/logo.png)"
      ]
    },
    {
      "cell_type": "markdown",
      "source": [
        "[![Open In Colab](https://colab.research.google.com/assets/colab-badge.svg)](https://colab.research.google.com/github/JohnSnowLabs/spark-nlp-workshop/blob/master/finance-nlp/12.1.Financial_Summarization.ipynb)"
      ],
      "metadata": {
        "id": "xDBC8sT5NsZI"
      }
    },
    {
      "cell_type": "markdown",
      "metadata": {
        "collapsed": false,
        "id": "4iIO6G_B3pqq"
      },
      "source": [
        "#🎬 Installation"
      ]
    },
    {
      "cell_type": "code",
      "execution_count": null,
      "metadata": {
        "id": "hPwo4Czy3pqq",
        "pycharm": {
          "is_executing": true
        }
      },
      "outputs": [],
      "source": [
        "! pip install -q johnsnowlabs"
      ]
    },
    {
      "cell_type": "markdown",
      "metadata": {
        "id": "YPsbAnNoPt0Z"
      },
      "source": [
        "##🔗 Automatic Installation\n",
        "Using my.johnsnowlabs.com SSO"
      ]
    },
    {
      "cell_type": "code",
      "execution_count": 2,
      "metadata": {
        "id": "_L-7mLYp3pqr",
        "pycharm": {
          "is_executing": true
        }
      },
      "outputs": [],
      "source": [
        "from johnsnowlabs import nlp, finance, legal\n",
        "\n",
        "nlp.install(refresh_install=True, visual=True, force_browser = True)"
      ]
    },
    {
      "cell_type": "markdown",
      "metadata": {
        "id": "hsJvn_WWM2GL"
      },
      "source": [
        "##🔗 Manual downloading\n",
        "If you are not registered in my.johnsnowlabs.com, you received a license via e-email or you are using Safari, you may need to do a manual update of the license.\n",
        "\n",
        "- Go to my.johnsnowlabs.com\n",
        "- Download your license\n",
        "- Upload it using the following command"
      ]
    },
    {
      "cell_type": "code",
      "execution_count": null,
      "metadata": {
        "id": "i57QV3-_P2sQ"
      },
      "outputs": [],
      "source": [
        "from google.colab import files\n",
        "print('Please Upload your John Snow Labs License using the button below')\n",
        "license_keys = files.upload()"
      ]
    },
    {
      "cell_type": "markdown",
      "metadata": {
        "id": "xGgNdFzZP_hQ"
      },
      "source": [
        "- Install it"
      ]
    },
    {
      "cell_type": "markdown",
      "metadata": {
        "id": "DCl5ErZkNNLk"
      },
      "source": [
        "#📌 Starting"
      ]
    },
    {
      "cell_type": "code",
      "execution_count": 3,
      "metadata": {
        "id": "x3jVICoa3pqr",
        "colab": {
          "base_uri": "https://localhost:8080/"
        },
        "outputId": "393fc3d5-7605-4873-c362-89c1492a6e51"
      },
      "outputs": [
        {
          "output_type": "stream",
          "name": "stdout",
          "text": [
            "👌 Launched \u001b[92mcpu optimized\u001b[39m session with with: 🚀Spark-NLP==4.4.0, 💊Spark-Healthcare==4.4.0, running on ⚡ PySpark==3.1.2\n"
          ]
        }
      ],
      "source": [
        "spark = nlp.start()"
      ]
    },
    {
      "cell_type": "markdown",
      "metadata": {
        "id": "nWu_IMfY4L1N"
      },
      "source": [
        "#🔎 Financial Summarization"
      ]
    },
    {
      "cell_type": "markdown",
      "metadata": {
        "collapsed": false,
        "id": "PV_iiuN13pqt"
      },
      "source": [
        "📜Explanation:\n",
        "\n",
        "Financial Summarization is the process of generating a concise and informative summary of financial documents, such as annual reports, financial statements, earnings transcripts, and news articles related to finance. John Snow Labs, a leading provider of natural language processing tools and technologies, offers a Financial Summarization solution that utilizes state-of-the-art deep learning algorithms to automatically extract and summarize key information from financial texts.\n",
        "\n",
        "By using our new Financial Summarizer() module, you can get state-of-the-art, short versions of your financial documents, without losing any information.\n",
        "\n",
        "We included 2 models for Financial Summarization:\n",
        "\n",
        "  - **Financial FLAN-T5 Summarization (Base):** The base model, with generic capacities for summarizing financial documents.\n",
        "  - **Financial Finetuned FLAN-T5 Summarization ( SEC 10k Filings ):** A specifically finetuned model trained to summarize Financial Reports sections. For this task, we finetuned our base model with more than 8K sections from different SEC Financial Reports.\n",
        "\n"
      ]
    },
    {
      "cell_type": "markdown",
      "source": [
        "### Let's see how to get summaries in different Finance documents using the `Summarizer()` module."
      ],
      "metadata": {
        "id": "KTtFxPJgKJn9"
      }
    },
    {
      "cell_type": "markdown",
      "source": [
        "\n",
        "## Suspicious Activity Report"
      ],
      "metadata": {
        "id": "s0A7Og7Oua6o"
      }
    },
    {
      "cell_type": "code",
      "source": [
        "document_assembler = nlp.DocumentAssembler()\\\n",
        "    .setInputCol(\"text\")\\\n",
        "    .setOutputCol(\"documents\")\n",
        "\n",
        "flant5 = finance.Summarizer().pretrained('finsum_flant5_base','en','finance/models')\\\n",
        "    .setInputCols([\"documents\"])\\\n",
        "    .setOutputCol(\"summary\")\\\n",
        "    .setMaxNewTokens(1000)\n",
        "\n",
        "pipeline = nlp.Pipeline(stages=[document_assembler, flant5])\n",
        "\n",
        "data = spark.createDataFrame([\n",
        "  [1, \"\"\"Description of Activity:\n",
        "  \n",
        "On [Date], [Name of Business] submitted a loan application for a large sum of money. The loan officer noted that the application contained several red flags that raised suspicions of possible fraudulent activity.\n",
        "\n",
        "Firstly, the business provided minimal documentation to support their financial statements, such as tax returns or bank statements. Secondly, the business listed a residential address as their place of business, which appeared to be a private residence. Additionally, the business provided inconsistent information regarding their ownership structure and the intended use of the loan proceeds.\n",
        "\n",
        "Further investigation revealed that the business had no visible online presence, including a lack of a website, social media accounts, or business reviews. The loan officer also discovered that the business had only been in operation for a short period, despite their claims of significant revenue and growth.\n",
        "\n",
        "Based on these findings, it is suspected that [Name of Business] may be engaging in fraudulent activity and using the loan to perpetrate such activity. Therefore, we recommend that this loan application be denied, and further investigation be conducted to determine if any additional suspicious activity has occurred.\"\"\"]\n",
        "]).toDF('id', 'text')\n",
        "\n",
        "results = pipeline.fit(data).transform(data)\n",
        "\n",
        "results.select(\"summary.result\").show(truncate=False)"
      ],
      "metadata": {
        "colab": {
          "base_uri": "https://localhost:8080/"
        },
        "id": "NZ9v_1QquehT",
        "outputId": "69aee34e-f5b3-4693-e5be-728e6b1364c0"
      },
      "execution_count": 8,
      "outputs": [
        {
          "output_type": "stream",
          "name": "stdout",
          "text": [
            "finsum_flant5_base download started this may take some time.\n",
            "[OK!]\n",
            "+-------------------------------------------------------------------------------------------------------------------------------------------------------------------------------------------------------------------------------------------------------------------------------------------------------------------------------------------------------------------------------------------------------------------------------------------------------------------------------------------------------------------------------------------------------------------+\n",
            "|result                                                                                                                                                                                                                                                                                                                                                                                                                                                                                                                                                             |\n",
            "+-------------------------------------------------------------------------------------------------------------------------------------------------------------------------------------------------------------------------------------------------------------------------------------------------------------------------------------------------------------------------------------------------------------------------------------------------------------------------------------------------------------------------------------------------------------------+\n",
            "|[The loan officer found that the business submitted a loan application for a large sum of money. The business provided minimal documentation to support their financial statements, including tax returns or bank statements. The business had no visible online presence, including a lack of a website, social media accounts, or business reviews. The business is suspected of engaging in fraudulent activity and using the loan to perpetrate such activity. The loan officer recommends that the business be denied and further investigation be conducted.]|\n",
            "+-------------------------------------------------------------------------------------------------------------------------------------------------------------------------------------------------------------------------------------------------------------------------------------------------------------------------------------------------------------------------------------------------------------------------------------------------------------------------------------------------------------------------------------------------------------------+\n",
            "\n"
          ]
        }
      ]
    },
    {
      "cell_type": "markdown",
      "source": [
        "## Responsibility Reports"
      ],
      "metadata": {
        "id": "IAUdI1tf07yj"
      }
    },
    {
      "cell_type": "code",
      "source": [
        "data = spark.createDataFrame([\n",
        "  [2, \"\"\"Lost Time Incident Rate: \n",
        "\n",
        "  The lost time incident rate per 200,000 hours worked in 2021 was 0.14, which decreased by 17.6% compared to 2020 (0.17) and decreased by 70.8% compared to 2019 (0.48). The decrease in the lost time incident rate can be attributed to the company's efforts to improve workplace safety and implement effective risk management strategies. \n",
        "  \n",
        "  The total Scope 2 GHG emissions in 2021 were 688,228 tonnes, which remained relatively stable compared to 2020. The company's efforts to transition to renewable energy sources have helped to minimize Scope 2 GHG emissions.\"\"\"]\n",
        "]).toDF('id', 'text')\n",
        "\n",
        "results = pipeline.fit(data).transform(data)\n",
        "\n",
        "results.select(\"summary.result\").show(truncate=False)"
      ],
      "metadata": {
        "colab": {
          "base_uri": "https://localhost:8080/"
        },
        "id": "VIBcwhGxva_j",
        "outputId": "6a50f50e-9dfb-42f3-eeab-1a366ea1da6a"
      },
      "execution_count": 9,
      "outputs": [
        {
          "output_type": "stream",
          "name": "stdout",
          "text": [
            "+-----------------------------------------------------------------------------------------------------------------------------------------------------------------------------------------------------------------------------------------------------------------------------------------------------------------------------------------------------------------------------------------------+\n",
            "|result                                                                                                                                                                                                                                                                                                                                                                                         |\n",
            "+-----------------------------------------------------------------------------------------------------------------------------------------------------------------------------------------------------------------------------------------------------------------------------------------------------------------------------------------------------------------------------------------------+\n",
            "|[The lost time incident rate per 200,000 hours worked in 2021 was 0.14, which decreased by 17.6% compared to 2020 (0.17) and decreased by 70.8% compared to 2019 (0.48). The company's efforts to improve workplace safety and implement effective risk management strategies. The total Scope 2 GHG emissions in 2021 were 688,228 tonnes, which remained relatively stable compared to 2020.]|\n",
            "+-----------------------------------------------------------------------------------------------------------------------------------------------------------------------------------------------------------------------------------------------------------------------------------------------------------------------------------------------------------------------------------------------+\n",
            "\n"
          ]
        }
      ]
    },
    {
      "cell_type": "markdown",
      "source": [
        "## Broker Reports"
      ],
      "metadata": {
        "id": "3lQh-rtw1-rN"
      }
    },
    {
      "cell_type": "code",
      "source": [
        "data = spark.createDataFrame([\n",
        "  [3, \"\"\"Broker Report: Company XYZ\n",
        "\n",
        "Introduction:\n",
        "Company XYZ is a leading player in the technology industry that has released its financial results for the fiscal year 2022. The company has reported significant improvements in its cash flow operations, free cash flow, and loss reduction. This report aims to analyze these improvements and provide insights into the future prospects of the company.\n",
        "\n",
        "Cash Flow Operations:\n",
        "Company XYZ's cash flow operations have shown significant improvement over the fiscal year 2022. The net cash flow from operating activities has increased by 15% compared to the previous year. This improvement is primarily due to the increase in sales and effective management of accounts receivable and accounts payable. The company has also reduced its inventory levels, resulting in a reduction of cash outflows from operating activities.\n",
        "\n",
        "Free Cash Flow:\n",
        "Company XYZ's free cash flow has also increased by 20% over the fiscal year 2022. This increase is primarily due to the improvement in cash flow operations and the reduction in capital expenditures. The company has been able to generate positive free cash flow for the third consecutive year. This is a significant achievement for the company and shows its commitment to improving its financial position.\"\"\"]\n",
        "]).toDF('id', 'text')\n",
        "\n",
        "results = pipeline.fit(data).transform(data)\n",
        "\n",
        "results.select(\"summary.result\").show(truncate=False)"
      ],
      "metadata": {
        "colab": {
          "base_uri": "https://localhost:8080/"
        },
        "id": "Nn81ZCO812Qi",
        "outputId": "7b90aeab-7449-46b6-d080-886937eec870"
      },
      "execution_count": 10,
      "outputs": [
        {
          "output_type": "stream",
          "name": "stdout",
          "text": [
            "+--------------------------------------------------------------------------------------------------------------------+\n",
            "|result                                                                                                              |\n",
            "+--------------------------------------------------------------------------------------------------------------------+\n",
            "|[Company XYZ has reported significant improvements in its cash flow operations, free cash flow, and loss reduction.]|\n",
            "+--------------------------------------------------------------------------------------------------------------------+\n",
            "\n"
          ]
        }
      ]
    },
    {
      "cell_type": "markdown",
      "source": [
        "## SEC10K"
      ],
      "metadata": {
        "id": "ZjyBeKBw3dN5"
      }
    },
    {
      "cell_type": "code",
      "source": [
        "document_assembler = nlp.DocumentAssembler()\\\n",
        "    .setInputCol(\"text\")\\\n",
        "    .setOutputCol(\"documents\")\n",
        "\n",
        "flant5 = finance.Summarizer().pretrained('finsum_flant5_finetuned_sec10k','en','finance/models')\\\n",
        "    .setInputCols([\"documents\"])\\\n",
        "    .setOutputCol(\"summary\")\\\n",
        "    .setMaxNewTokens(1000)\n",
        "\n",
        "pipeline = nlp.Pipeline(stages=[document_assembler, flant5])\n",
        "\n",
        "data = spark.createDataFrame([\n",
        "  [4, \"\"\"Report on Form 10-K.\n",
        "Moreover, we operate in a very competitive and rapidly changing environment. New risks and uncertainties emerge from time to time, and it is not possible for us to predict all risks and uncertainties that could have an impact on the forward-looking statements contained in this Annual Report on Form 10-K. We cannot assure you that the results, events, and circumstances reflected in the forward-looking statements will be achieved or occur, and actual results, events, or circumstances could differ materially from those described in the forward-looking statements.\n",
        "The forward-looking statements made in this Annual Report on Form 10-K relate only to events as of the date on which the statements are made. We undertake no obligation to update any forward-looking statements made in this Annual Report on Form 10-K to reflect events or circumstances after the date of this Annual Report on Form 10-K or to reflect new information or the occurrence of unanticipated events, except as required by law. We may not actually achieve the plans, intentions, or expectations disclosed in our forward-looking statements, and you should not place undue reliance on our forward-looking statements. Our forward-looking statements do not reflect the potential impact of any future acquisitions, mergers, dispositions, joint ventures, or investments we may make.\n",
        "SUMMARY OF RISK FACTORS\n",
        "Below is a summary of the principal factors that\n",
        "could materially harm our business, operating results and/or financial condition, impair our future prospects and/or cause the price of our Class A common stock to decline.\n",
        "This summary does not address all of the risks that we face. Additional discussion of the risks summarized in this risk factor summary, and other risks that we face, can be found below under the heading “Risk Factors” and should be carefully considered, together with other information in this Form 10-K and our other filings with the Securities and Exchange Commission (\"SEC\") before making an investment decision regarding our Class A common stock.\"\"\"]\n",
        "]).toDF('id', 'text')\n",
        "\n",
        "results = pipeline.fit(data).transform(data)\n",
        "\n",
        "results.select(\"summary.result\").show(truncate=False)"
      ],
      "metadata": {
        "colab": {
          "base_uri": "https://localhost:8080/"
        },
        "id": "_pDtwRC52nQN",
        "outputId": "d88b5262-c448-481b-bfad-e1f50883c0e6"
      },
      "execution_count": 4,
      "outputs": [
        {
          "output_type": "stream",
          "name": "stdout",
          "text": [
            "finsum_flant5_finetuned_sec10k download started this may take some time.\n",
            "[OK!]\n",
            "+-----------------------------------------------------------------------------------------------------------------------------------------------------------------------------------------------------------------------------------------------------------------------------------------------------------------------------------------------------------------------------------------------------------------------------------------------------------------------------------------------------------------------------------------------------------------------------------------------------------------+\n",
            "|result                                                                                                                                                                                                                                                                                                                                                                                                                                                                                                                                                                                                           |\n",
            "+-----------------------------------------------------------------------------------------------------------------------------------------------------------------------------------------------------------------------------------------------------------------------------------------------------------------------------------------------------------------------------------------------------------------------------------------------------------------------------------------------------------------------------------------------------------------------------------------------------------------+\n",
            "|[The text is a report on the company's financial performance and the risks and uncertainties that could affect its forward-looking statements. It also provides a summary of the principal factors that could harm its business, operating results, and/or financial condition, impair its future prospects, and/or cause the price of its Class A common stock to decline. The filing also includes a summary of the principal factors that could harm its business, operating results, and/or financial condition, impair its future prospects, and/or cause the price of its Class A common stock to decline.]|\n",
            "+-----------------------------------------------------------------------------------------------------------------------------------------------------------------------------------------------------------------------------------------------------------------------------------------------------------------------------------------------------------------------------------------------------------------------------------------------------------------------------------------------------------------------------------------------------------------------------------------------------------------+\n",
            "\n"
          ]
        }
      ]
    }
  ],
  "metadata": {
    "colab": {
      "provenance": [],
      "toc_visible": true,
      "machine_shape": "hm"
    },
    "gpuClass": "standard",
    "kernelspec": {
      "display_name": "tf-gpu",
      "language": "python",
      "name": "python3"
    },
    "language_info": {
      "codemirror_mode": {
        "name": "ipython",
        "version": 3
      },
      "file_extension": ".py",
      "mimetype": "text/x-python",
      "name": "python",
      "nbconvert_exporter": "python",
      "pygments_lexer": "ipython3",
      "version": "3.9.7 (default, Sep 16 2021, 16:59:28) [MSC v.1916 64 bit (AMD64)]"
    },
    "vscode": {
      "interpreter": {
        "hash": "3f47d918ae832c68584484921185f5c85a1760864bf927a683dc6fb56366cc77"
      }
    },
    "accelerator": "GPU"
  },
  "nbformat": 4,
  "nbformat_minor": 0
}
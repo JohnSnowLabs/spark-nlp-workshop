{
  "cells": [
    {
      "cell_type": "markdown",
      "metadata": {
        "id": "I08sFJYCxR0Z"
      },
      "source": [
        "![JohnSnowLabs](https://nlp.johnsnowlabs.com/assets/images/logo.png)"
      ]
    },
    {
      "cell_type": "markdown",
      "source": [
        "[![Open In Colab](https://colab.research.google.com/assets/colab-badge.svg)](https://colab.research.google.com/github/JohnSnowLabs/spark-nlp-workshop/blob/master/finance-nlp/12.1.Financial_Summarization.ipynb)"
      ],
      "metadata": {
        "id": "xDBC8sT5NsZI"
      }
    },
    {
      "cell_type": "markdown",
      "metadata": {
        "collapsed": false,
        "id": "4iIO6G_B3pqq"
      },
      "source": [
        "#🎬 Installation"
      ]
    },
    {
      "cell_type": "code",
      "execution_count": null,
      "metadata": {
        "id": "hPwo4Czy3pqq",
        "pycharm": {
          "is_executing": true
        }
      },
      "outputs": [],
      "source": [
        "! pip install -q johnsnowlabs"
      ]
    },
    {
      "cell_type": "markdown",
      "metadata": {
        "id": "YPsbAnNoPt0Z"
      },
      "source": [
        "##🔗 Automatic Installation\n",
        "Using my.johnsnowlabs.com SSO"
      ]
    },
    {
      "cell_type": "code",
      "execution_count": null,
      "metadata": {
        "id": "_L-7mLYp3pqr",
        "pycharm": {
          "is_executing": true
        }
      },
      "outputs": [],
      "source": [
        "from johnsnowlabs import nlp, finance, legal\n",
        "\n",
        "nlp.install(refresh_install=True, force_browser = True)"
      ]
    },
    {
      "cell_type": "markdown",
      "metadata": {
        "id": "hsJvn_WWM2GL"
      },
      "source": [
        "##🔗 Manual downloading\n",
        "If you are not registered in my.johnsnowlabs.com, you received a license via e-email or you are using Safari, you may need to do a manual update of the license.\n",
        "\n",
        "- Go to my.johnsnowlabs.com\n",
        "- Download your license\n",
        "- Upload it using the following command"
      ]
    },
    {
      "cell_type": "code",
      "execution_count": null,
      "metadata": {
        "id": "i57QV3-_P2sQ"
      },
      "outputs": [],
      "source": [
        "from google.colab import files\n",
        "print('Please Upload your John Snow Labs License using the button below')\n",
        "license_keys = files.upload()"
      ]
    },
    {
      "cell_type": "markdown",
      "metadata": {
        "id": "xGgNdFzZP_hQ"
      },
      "source": [
        "- Install it"
      ]
    },
    {
      "cell_type": "markdown",
      "metadata": {
        "id": "DCl5ErZkNNLk"
      },
      "source": [
        "#📌 Starting"
      ]
    },
    {
      "cell_type": "code",
      "execution_count": null,
      "metadata": {
        "id": "x3jVICoa3pqr"
      },
      "outputs": [],
      "source": [
        "spark = nlp.start()"
      ]
    },
    {
      "cell_type": "markdown",
      "metadata": {
        "id": "nWu_IMfY4L1N"
      },
      "source": [
        "#🔎 Financial Summarization"
      ]
    },
    {
      "cell_type": "markdown",
      "metadata": {
        "collapsed": false,
        "id": "PV_iiuN13pqt"
      },
      "source": [
        "📜Explanation:\n",
        "\n",
        "Financial Summarization is the process of generating a concise and informative summary of financial documents, such as annual reports, financial statements, earnings transcripts, and news articles related to finance. John Snow Labs, a leading provider of natural language processing tools and technologies, offers a Financial Summarization solution that utilizes state-of-the-art deep learning algorithms to automatically extract and summarize key information from financial texts.\n",
        "\n",
        "By using our new Financial Summarizer() module, you can get state-of-the-art, short versions of your financial documents, without losing any information.\n",
        "\n",
        "We included 2 models for Financial Summarization:\n",
        "\n",
        "  - **Financial FLAN-T5 Summarization (Base):** The base model, with generic capacities for summarizing financial documents.\n",
        "  - **Financial Finetuned FLAN-T5 Summarization ( SEC 10k Filings ):** A specifically finetuned model trained to summarize Financial Reports sections. For this task, we finetuned our base model with more than 8K sections from different SEC Financial Reports.\n",
        "\n"
      ]
    },
    {
      "cell_type": "markdown",
      "source": [
        "### Let's see how to get summaries in different Finance documents using the `Summarizer()` module."
      ],
      "metadata": {
        "id": "KTtFxPJgKJn9"
      }
    },
    {
      "cell_type": "markdown",
      "source": [
        "\n",
        "## 🧮 Suspicious Activity Report"
      ],
      "metadata": {
        "id": "s0A7Og7Oua6o"
      }
    },
    {
      "cell_type": "code",
      "source": [
        "document_assembler = nlp.DocumentAssembler()\\\n",
        "    .setInputCol(\"text\")\\\n",
        "    .setOutputCol(\"documents\")\n",
        "\n",
        "flant5 = finance.Summarizer().pretrained('finsum_flant5_base','en','finance/models')\\\n",
        "    .setInputCols([\"documents\"])\\\n",
        "    .setOutputCol(\"summary\")\\\n",
        "    .setMaxNewTokens(1000)\n",
        "\n",
        "pipeline = nlp.Pipeline(stages=[document_assembler, flant5])\n",
        "\n",
        "data = spark.createDataFrame([\n",
        "  [1, \"\"\"Description of Activity:\n",
        "  \n",
        "On [Date], [Name of Business] submitted a loan application for a large sum of money. The loan officer noted that the application contained several red flags that raised suspicions of possible fraudulent activity.\n",
        "\n",
        "Firstly, the business provided minimal documentation to support their financial statements, such as tax returns or bank statements. Secondly, the business listed a residential address as their place of business, which appeared to be a private residence. Additionally, the business provided inconsistent information regarding their ownership structure and the intended use of the loan proceeds.\n",
        "\n",
        "Further investigation revealed that the business had no visible online presence, including a lack of a website, social media accounts, or business reviews. The loan officer also discovered that the business had only been in operation for a short period, despite their claims of significant revenue and growth.\n",
        "\n",
        "Based on these findings, it is suspected that [Name of Business] may be engaging in fraudulent activity and using the loan to perpetrate such activity. Therefore, we recommend that this loan application be denied, and further investigation be conducted to determine if any additional suspicious activity has occurred.\"\"\"]\n",
        "]).toDF('id', 'text')\n",
        "\n",
        "results = pipeline.fit(data).transform(data)\n",
        "\n",
        "results.select(\"summary.result\").show(truncate=False)"
      ],
      "metadata": {
        "colab": {
          "base_uri": "https://localhost:8080/"
        },
        "id": "NZ9v_1QquehT",
        "outputId": "69aee34e-f5b3-4693-e5be-728e6b1364c0"
      },
      "execution_count": null,
      "outputs": [
        {
          "output_type": "stream",
          "name": "stdout",
          "text": [
            "finsum_flant5_base download started this may take some time.\n",
            "[OK!]\n",
            "+-------------------------------------------------------------------------------------------------------------------------------------------------------------------------------------------------------------------------------------------------------------------------------------------------------------------------------------------------------------------------------------------------------------------------------------------------------------------------------------------------------------------------------------------------------------------+\n",
            "|result                                                                                                                                                                                                                                                                                                                                                                                                                                                                                                                                                             |\n",
            "+-------------------------------------------------------------------------------------------------------------------------------------------------------------------------------------------------------------------------------------------------------------------------------------------------------------------------------------------------------------------------------------------------------------------------------------------------------------------------------------------------------------------------------------------------------------------+\n",
            "|[The loan officer found that the business submitted a loan application for a large sum of money. The business provided minimal documentation to support their financial statements, including tax returns or bank statements. The business had no visible online presence, including a lack of a website, social media accounts, or business reviews. The business is suspected of engaging in fraudulent activity and using the loan to perpetrate such activity. The loan officer recommends that the business be denied and further investigation be conducted.]|\n",
            "+-------------------------------------------------------------------------------------------------------------------------------------------------------------------------------------------------------------------------------------------------------------------------------------------------------------------------------------------------------------------------------------------------------------------------------------------------------------------------------------------------------------------------------------------------------------------+\n",
            "\n"
          ]
        }
      ]
    },
    {
      "cell_type": "markdown",
      "source": [
        "## 🧮 Responsibility Reports"
      ],
      "metadata": {
        "id": "IAUdI1tf07yj"
      }
    },
    {
      "cell_type": "code",
      "source": [
        "data = spark.createDataFrame([\n",
        "  [2, \"\"\"Lost Time Incident Rate: \n",
        "\n",
        "  The lost time incident rate per 200,000 hours worked in 2021 was 0.14, which decreased by 17.6% compared to 2020 (0.17) and decreased by 70.8% compared to 2019 (0.48). The decrease in the lost time incident rate can be attributed to the company's efforts to improve workplace safety and implement effective risk management strategies. \n",
        "  \n",
        "  The total Scope 2 GHG emissions in 2021 were 688,228 tonnes, which remained relatively stable compared to 2020. The company's efforts to transition to renewable energy sources have helped to minimize Scope 2 GHG emissions.\"\"\"]\n",
        "]).toDF('id', 'text')\n",
        "\n",
        "results = pipeline.fit(data).transform(data)\n",
        "\n",
        "results.select(\"summary.result\").show(truncate=False)"
      ],
      "metadata": {
        "colab": {
          "base_uri": "https://localhost:8080/"
        },
        "id": "VIBcwhGxva_j",
        "outputId": "6a50f50e-9dfb-42f3-eeab-1a366ea1da6a"
      },
      "execution_count": null,
      "outputs": [
        {
          "output_type": "stream",
          "name": "stdout",
          "text": [
            "+-----------------------------------------------------------------------------------------------------------------------------------------------------------------------------------------------------------------------------------------------------------------------------------------------------------------------------------------------------------------------------------------------+\n",
            "|result                                                                                                                                                                                                                                                                                                                                                                                         |\n",
            "+-----------------------------------------------------------------------------------------------------------------------------------------------------------------------------------------------------------------------------------------------------------------------------------------------------------------------------------------------------------------------------------------------+\n",
            "|[The lost time incident rate per 200,000 hours worked in 2021 was 0.14, which decreased by 17.6% compared to 2020 (0.17) and decreased by 70.8% compared to 2019 (0.48). The company's efforts to improve workplace safety and implement effective risk management strategies. The total Scope 2 GHG emissions in 2021 were 688,228 tonnes, which remained relatively stable compared to 2020.]|\n",
            "+-----------------------------------------------------------------------------------------------------------------------------------------------------------------------------------------------------------------------------------------------------------------------------------------------------------------------------------------------------------------------------------------------+\n",
            "\n"
          ]
        }
      ]
    },
    {
      "cell_type": "markdown",
      "source": [
        "## 🧮 Broker Reports"
      ],
      "metadata": {
        "id": "3lQh-rtw1-rN"
      }
    },
    {
      "cell_type": "code",
      "source": [
        "data = spark.createDataFrame([\n",
        "  [3, \"\"\"Broker Report: Company XYZ\n",
        "\n",
        "Introduction:\n",
        "Company XYZ is a leading player in the technology industry that has released its financial results for the fiscal year 2022. The company has reported significant improvements in its cash flow operations, free cash flow, and loss reduction. This report aims to analyze these improvements and provide insights into the future prospects of the company.\n",
        "\n",
        "Cash Flow Operations:\n",
        "Company XYZ's cash flow operations have shown significant improvement over the fiscal year 2022. The net cash flow from operating activities has increased by 15% compared to the previous year. This improvement is primarily due to the increase in sales and effective management of accounts receivable and accounts payable. The company has also reduced its inventory levels, resulting in a reduction of cash outflows from operating activities.\n",
        "\n",
        "Free Cash Flow:\n",
        "Company XYZ's free cash flow has also increased by 20% over the fiscal year 2022. This increase is primarily due to the improvement in cash flow operations and the reduction in capital expenditures. The company has been able to generate positive free cash flow for the third consecutive year. This is a significant achievement for the company and shows its commitment to improving its financial position.\"\"\"]\n",
        "]).toDF('id', 'text')\n",
        "\n",
        "results = pipeline.fit(data).transform(data)\n",
        "\n",
        "results.select(\"summary.result\").show(truncate=False)"
      ],
      "metadata": {
        "colab": {
          "base_uri": "https://localhost:8080/"
        },
        "id": "Nn81ZCO812Qi",
        "outputId": "7b90aeab-7449-46b6-d080-886937eec870"
      },
      "execution_count": null,
      "outputs": [
        {
          "output_type": "stream",
          "name": "stdout",
          "text": [
            "+--------------------------------------------------------------------------------------------------------------------+\n",
            "|result                                                                                                              |\n",
            "+--------------------------------------------------------------------------------------------------------------------+\n",
            "|[Company XYZ has reported significant improvements in its cash flow operations, free cash flow, and loss reduction.]|\n",
            "+--------------------------------------------------------------------------------------------------------------------+\n",
            "\n"
          ]
        }
      ]
    },
    {
      "cell_type": "markdown",
      "source": [
        "## 🧮 SEC10K"
      ],
      "metadata": {
        "id": "ZjyBeKBw3dN5"
      }
    },
    {
      "cell_type": "code",
      "source": [
        "document_assembler = nlp.DocumentAssembler()\\\n",
        "    .setInputCol(\"text\")\\\n",
        "    .setOutputCol(\"documents\")\n",
        "\n",
        "flant5 = finance.Summarizer().pretrained('finsum_flant5_finetuned_sec10k','en','finance/models')\\\n",
        "    .setInputCols([\"documents\"])\\\n",
        "    .setOutputCol(\"summary\")\\\n",
        "    .setMaxNewTokens(1000)\n",
        "\n",
        "pipeline = nlp.Pipeline(stages=[document_assembler, flant5])\n",
        "\n",
        "data = spark.createDataFrame([\n",
        "  [4, \"\"\"Report on Form 10-K.\n",
        "Moreover, we operate in a very competitive and rapidly changing environment. New risks and uncertainties emerge from time to time, and it is not possible for us to predict all risks and uncertainties that could have an impact on the forward-looking statements contained in this Annual Report on Form 10-K. We cannot assure you that the results, events, and circumstances reflected in the forward-looking statements will be achieved or occur, and actual results, events, or circumstances could differ materially from those described in the forward-looking statements.\n",
        "The forward-looking statements made in this Annual Report on Form 10-K relate only to events as of the date on which the statements are made. We undertake no obligation to update any forward-looking statements made in this Annual Report on Form 10-K to reflect events or circumstances after the date of this Annual Report on Form 10-K or to reflect new information or the occurrence of unanticipated events, except as required by law. We may not actually achieve the plans, intentions, or expectations disclosed in our forward-looking statements, and you should not place undue reliance on our forward-looking statements. Our forward-looking statements do not reflect the potential impact of any future acquisitions, mergers, dispositions, joint ventures, or investments we may make.\n",
        "SUMMARY OF RISK FACTORS\n",
        "Below is a summary of the principal factors that\n",
        "could materially harm our business, operating results and/or financial condition, impair our future prospects and/or cause the price of our Class A common stock to decline.\n",
        "This summary does not address all of the risks that we face. Additional discussion of the risks summarized in this risk factor summary, and other risks that we face, can be found below under the heading “Risk Factors” and should be carefully considered, together with other information in this Form 10-K and our other filings with the Securities and Exchange Commission (\"SEC\") before making an investment decision regarding our Class A common stock.\"\"\"]\n",
        "]).toDF('id', 'text')\n",
        "\n",
        "results = pipeline.fit(data).transform(data)\n",
        "\n",
        "results.select(\"summary.result\").show(truncate=False)"
      ],
      "metadata": {
        "colab": {
          "base_uri": "https://localhost:8080/"
        },
        "id": "_pDtwRC52nQN",
        "outputId": "d88b5262-c448-481b-bfad-e1f50883c0e6"
      },
      "execution_count": null,
      "outputs": [
        {
          "output_type": "stream",
          "name": "stdout",
          "text": [
            "finsum_flant5_finetuned_sec10k download started this may take some time.\n",
            "[OK!]\n",
            "+-----------------------------------------------------------------------------------------------------------------------------------------------------------------------------------------------------------------------------------------------------------------------------------------------------------------------------------------------------------------------------------------------------------------------------------------------------------------------------------------------------------------------------------------------------------------------------------------------------------------+\n",
            "|result                                                                                                                                                                                                                                                                                                                                                                                                                                                                                                                                                                                                           |\n",
            "+-----------------------------------------------------------------------------------------------------------------------------------------------------------------------------------------------------------------------------------------------------------------------------------------------------------------------------------------------------------------------------------------------------------------------------------------------------------------------------------------------------------------------------------------------------------------------------------------------------------------+\n",
            "|[The text is a report on the company's financial performance and the risks and uncertainties that could affect its forward-looking statements. It also provides a summary of the principal factors that could harm its business, operating results, and/or financial condition, impair its future prospects, and/or cause the price of its Class A common stock to decline. The filing also includes a summary of the principal factors that could harm its business, operating results, and/or financial condition, impair its future prospects, and/or cause the price of its Class A common stock to decline.]|\n",
            "+-----------------------------------------------------------------------------------------------------------------------------------------------------------------------------------------------------------------------------------------------------------------------------------------------------------------------------------------------------------------------------------------------------------------------------------------------------------------------------------------------------------------------------------------------------------------------------------------------------------------+\n",
            "\n"
          ]
        }
      ]
    },
    {
      "cell_type": "markdown",
      "source": [
        "## 🏓**Long Document Summarization**\n",
        "\n",
        " For long document summarization, the following steps can be taken:\n",
        "\n",
        "1.   **Splitting the Document**: The initial step is to split the long document into smaller chunks. This is done to ensure that each chunk stays within the token limit imposed by the model and tokenizer. The document can be divided into paragraphs, sections, or any logical divisions based on the content.\n",
        "2.   **Token Limit**:  We split the text into sentences,  The initial text is divided into separate sentences. Starting with an empty container, the sentences are added to it one by one, in the order they appear in the original text. As each sentence is added, the total number of characters in the accumulated text is calculated and monitored. After adding each sentence, the accumulated character count is compared to the specified limit of 400 characters. The process continues until the total character count reaches or exceeds the specified limit. At this point, the process stops, and the accumulated text, consisting of all the sentences added so far, is considered the final output.\n",
        "3.   **Applying Summarization**: After the document is divided into manageable chunks, summarization is applied to each chunk independently. This can be done using the chosen summarization model or technique. The aim is to generate concise summaries for each chunk, capturing the essential information within the given constraints.\n",
        "4.   **Merging and Refining**: Once summaries are generated for each individual chunk, they can be merged and refined to form a coherent and comprehensive summary of the entire long document. This can involve removing redundant information, resolving inconsistencies, and ensuring smooth transitions between different chunks.\n",
        "5.   **Iterative Process:** If the summary generated from the merged chunks exceeds the desired length or does not meet the desired quality, the process can be iterated. This might involve adjusting the splitting strategy, revising the summarization model parameters, or applying additional techniques to improve the summary.\n",
        "\n",
        "\n",
        "\n",
        "\n",
        "\n",
        "\n"
      ],
      "metadata": {
        "id": "k4HGKZZWF4BV"
      }
    },
    {
      "cell_type": "markdown",
      "source": [
        "⏳ Load sample txt file"
      ],
      "metadata": {
        "id": "5u_JuBglGLbG"
      }
    },
    {
      "cell_type": "code",
      "source": [
        "text = \"\"\"\n",
        "Our Community Intelligence capability, which extends across our BSM platform, provides information to Coupa customers by applying artificial intelligence-powered analysis to the structured, normalized data collected from the comprehensive set of business spend transactions that have occurred on the Coupa platform. This innovative analysis provides Coupa customers with prescriptive recommendations to optimize their spend decisions, improve operational efficiency, and reduce risk based on best practices from the Coupa community. Participating customers are able to contribute to and benefit from Community Intelligence, with use cases spanning various areas of spend management, including: Supplier Insights and Supplier Risk Management which help companies evaluate and reduce the risk levels of suppliers; operational insights which help businesses measure their own performance on key operational metrics against other Coupa customers and follow best practices to drive efficiency and savings, Commodity and Procurable Insights which help companies identify spend consolidation and savings opportunities, and Spend Guard, which leverages artificial intelligence on behavior patterns to automatically surface potential errors and fraud across all business spend. Rapid time to value through fast deployment cycles and low cost of ownership of a cloud-based model. Opportunity to achieve significant and sustainable savings that can translate into improved profitability. High employee adoption of our easy-to-use BSM platform, which enables better visibility into spend, allowing both procurement and sourcing professionals to better manage their time. Strong supplier adoption as suppliers are motivated to join our network due to ease of enablement, flexibility, and lack of supplier fees. Access to extensive spending data in real-time, which leads to superior decision-making that can result in significant cost savings. Ability to stay agile and adapt to changes in operating and regulatory environments with our easily configurable platform. Process efficiency improvements that allow businesses to free up valuable resources and staff who can be deployed effectively elsewhere in the organization. Enhanced compliance with governmental regulations through greater auditability, documentation and control of spending activity. Intuitive and simple user experience that shields users from complexity and enables adoption of our platform with minimal training. Efficiency improvements as employees are more rapidly able to procure the goods and services they need to fulfill their job responsibilities. Convenience to employees, as our platform gathers data on historical activity and leverages the insights to help populate requests and minimize data entry. Participating in our Coupa Open Business Network, which allows suppliers to display their information and catalog of products and services on our platform for existing and prospective customers. Fast registration process and flexibility to interact with customers through the Coupa Supplier Portal, direct integration or simply by use of direct email. Elimination of manual processes and efficiency improvements through electronic invoicing and streamlined procurement and payment processes. Real-time visibility into invoice status, often through direct push notifications without having to log in to a portal. Seamless audit, documentation and archiving of electronic purchase orders and invoices that helps suppliers comply with changing government regulations, as well as avoid risks. We sell our software applications through our direct sales organization and our partner program, Coupa Partner Connect. Our direct sales team is global and comprised of inside sales and field sales personnel who are organized by geography, account size, and application type. We generate customer leads, accelerate sales opportunities, and build brand awareness through our marketing programs, including such programs with our strategic relationships. For example, we have joint marketing programs and sponsorship agreements with KPMG, Deloitte, and Accenture. our annual Coupa Inspire conferences which are held in multiple jurisdictions and over multiple days to connect customers, disseminate best practices, and reinforce our brand among existing and new customers. As a result of the COVID-19 pandemic, we replaced our 2020 in-person Inspire conference with web-based events for our customers, prospects, and partners; development of our ideal customer profile (ICP), which helps identify the accounts with the highest propensity to buy, for each of our sales segments; programmatic account-based marketing and field efforts in close partnership with sales to target the ICP accounts in our respective sales segments; territory development representatives who respond to incoming leads to convert them into new sales opportunities; participation in, and sponsorship of, user conferences, executive events, trade shows, and industry events; integrated marketing campaigns, including direct e-mail, online web advertising, blogs, and webinars; cooperative marketing efforts with partners, including joint press announcements, joint trade show activities, channel marketing campaigns, and joint seminars; use of our website to provide application and company information, as well as learning opportunities for potential customers. In May 2020, we acquired all of the equity interest in ConnXus, Inc. (“ConnXus”), a cloud-based supplier relationship management platform that enables enterprises, health systems and government agencies to monitor all aspects of their supplier diversity compliance programs. The purchase consideration was approximately $10.0 million in cash of which approximately $1.4 million In June 2020, we acquired all of the equity interest in Bellin Treasury International GmbH (“Bellin”), a cloud-based treasury management software platform that improves visibility and control over cash and optimizes treasury processes. The purchase consideration was approximately $121.0 million, comprised of $79.1 million in cash (of which $8.0 million is being held in escrow for eighteen months after the transaction closing date) and 186,300 shares of our common stock with a fair value of approximately $41.8 million as of the transaction close date. In September 2020, we acquired all of the equity interest in Much-Net GmbH (\"Much-Net\"), a financial instrument software and service provider that specializes in risk management. The purchase consideration was approximately $4.3 million in cash, which is net of $1.8 million in cash acquired. In November 2020, we completed the acquisition of Laurel Parent Holdings, Inc. and its subsidiaries (\"LLamasoft\"), a supply chain design and analysis software and solutions company. The acquisition strengthens Coupa’s supply chain capabilities, enabling businesses to drive greater value through Business Spend Management. In connection with the acquisition, we issued approximately 2.4 million shares of our common stock and paid aggregate cash of approximately $791.5 million. Approximately $15.0 million of the cash paid is being held in escrow for fifteen months after the transaction closing date as security for the former LLamasoft stockholders' indemnification obligations, and approximately $7.5 million of the cash paid is being held in escrow until the completion of final adjustment on the purchase consideration. In February 2021, we completed the acquisition of Pana Industries, Inc. (\"Pana\"), a corporate travel booking solution company that puts an emphasis on the traveler experience. In connection with the completion of the acquisition, we paid aggregate cash of approximately $48.5 million, and issued 23,822 shares of our common stock. As a core part of our strategy, we have developed an ecosystem of partners to extend our sales capabilities and coverage, to broaden and complement our application offerings, and to provide a broad array of services that lie outside of our primary areas of focus. Our partnerships increase our ability to grow and scale quickly and efficiently and allow us to maintain greater focus on executing against our strategy. Our referral partners provide global, national and regional expertise in business spend management, procurement and expense management. They help organizations through operational transformation by leveraging process, best practices and new technology. These partners may refer customer prospects to us and assist us in selling to them. In return, we typically pay these partners a percentage of the first-year subscription revenue generated by the customers they refer. In order to offer the full breadth of implementation services, change management, and strategic consulting services to our customers, we work with leading global systems integrators such as Accenture, Deloitte and KPMG, as well as boutique and regional consulting firms. Our strategy is to enable the majority of our projects to be led by implementation partners with additional specialized support from us. Our implementation partners are highly skilled and trained by our team. When working with implementation partners, we are typically in a “co-sell” arrangement where we will sell our subscription directly to the customer and our partner will sell its implementation services directly to the customer.\n",
        "\"\"\""
      ],
      "metadata": {
        "id": "Kw00tJkZm4hc"
      },
      "execution_count": null,
      "outputs": []
    },
    {
      "cell_type": "markdown",
      "source": [
        "## Pipeline specified to separate text into tokens\n",
        "\n",
        "Tokenization is the NLP task in charge of splitting sentences in smaller pieces, usually words. Althought it's a splitting task, we don't call it splitting, we call it tokenization.\n",
        "\n",
        "The main component to do tokenization is the Tokenizer. It will get the tokens from the piece of text you pass to it."
      ],
      "metadata": {
        "id": "wAcxRNiXGWgM"
      }
    },
    {
      "cell_type": "code",
      "source": [
        "document_assembler = nlp.DocumentAssembler() \\\n",
        "    .setInputCol(\"text\") \\\n",
        "    .setOutputCol(\"document\")\n",
        "\n",
        "text_splitter = finance.TextSplitter() \\\n",
        "    .setInputCols([\"document\"])\\\n",
        "    .setOutputCol(\"sentences\")\\\n",
        "    .setCustomBounds([\"\\n\\n\"])\\\n",
        "    .setExplodeSentences(True)\n",
        "\n",
        "tokenizer = nlp.Tokenizer()\\\n",
        "    .setInputCols([\"sentences\"]) \\\n",
        "    .setOutputCol(\"tokens\")\n",
        "\n",
        "nlp_pipeline = nlp.Pipeline(stages=[\n",
        "    document_assembler,\n",
        "    text_splitter,\n",
        "    tokenizer])\n",
        "\n",
        "df = spark.createDataFrame([[text]]).toDF(\"text\")\n",
        "\n",
        "fit = nlp_pipeline.fit(df)\n",
        "lp = nlp.LightPipeline(fit)\n",
        "\n",
        "res = lp.fullAnnotate(text)"
      ],
      "metadata": {
        "id": "SCabEg6-_VZl"
      },
      "execution_count": null,
      "outputs": []
    },
    {
      "cell_type": "code",
      "source": [
        "sentences = res[0]['sentences']\n",
        "tokens = res[0]['tokens']\n",
        "\n",
        "for i in range(len(sentences)):\n",
        "  sen_tokens = [x.result for x in tokens if x.metadata['sentence'] == str(i)]\n",
        "  print(f\"Sentence: {sentences[i].result}\")\n",
        "  print(f\"Tokens {len(sen_tokens)}: {sen_tokens}\")\n",
        "  print(\"*\"*250)"
      ],
      "metadata": {
        "id": "OgoOcFe3AJLu",
        "outputId": "7dc5f439-2994-4e10-a2aa-ad33c5f777e4",
        "colab": {
          "base_uri": "https://localhost:8080/"
        }
      },
      "execution_count": null,
      "outputs": [
        {
          "output_type": "stream",
          "name": "stdout",
          "text": [
            "Sentence: Our Community Intelligence capability, which extends across our BSM platform, provides information to Coupa customers by applying artificial intelligence-powered analysis to the structured, normalized data collected from the comprehensive set of business spend transactions that have occurred on the Coupa platform.\n",
            "Tokens 45: ['Our', 'Community', 'Intelligence', 'capability', ',', 'which', 'extends', 'across', 'our', 'BSM', 'platform', ',', 'provides', 'information', 'to', 'Coupa', 'customers', 'by', 'applying', 'artificial', 'intelligence-powered', 'analysis', 'to', 'the', 'structured', ',', 'normalized', 'data', 'collected', 'from', 'the', 'comprehensive', 'set', 'of', 'business', 'spend', 'transactions', 'that', 'have', 'occurred', 'on', 'the', 'Coupa', 'platform', '.']\n",
            "**********************************************************************************************************************************************************************************************************************************************************\n",
            "Sentence: This innovative analysis provides Coupa customers with prescriptive recommendations to optimize their spend decisions, improve operational efficiency, and reduce risk based on best practices from the Coupa community.\n",
            "Tokens 31: ['This', 'innovative', 'analysis', 'provides', 'Coupa', 'customers', 'with', 'prescriptive', 'recommendations', 'to', 'optimize', 'their', 'spend', 'decisions', ',', 'improve', 'operational', 'efficiency', ',', 'and', 'reduce', 'risk', 'based', 'on', 'best', 'practices', 'from', 'the', 'Coupa', 'community', '.']\n",
            "**********************************************************************************************************************************************************************************************************************************************************\n",
            "Sentence: Participating customers are able to contribute to and benefit from Community Intelligence, with use cases spanning various areas of spend management, including: Supplier Insights and Supplier Risk Management which help companies evaluate and reduce the risk levels of suppliers;\n",
            "Tokens 43: ['Participating', 'customers', 'are', 'able', 'to', 'contribute', 'to', 'and', 'benefit', 'from', 'Community', 'Intelligence', ',', 'with', 'use', 'cases', 'spanning', 'various', 'areas', 'of', 'spend', 'management', ',', 'including', ':', 'Supplier', 'Insights', 'and', 'Supplier', 'Risk', 'Management', 'which', 'help', 'companies', 'evaluate', 'and', 'reduce', 'the', 'risk', 'levels', 'of', 'suppliers', ';']\n",
            "**********************************************************************************************************************************************************************************************************************************************************\n",
            "Sentence: operational insights which help businesses measure their own performance on key operational metrics against other Coupa customers and follow best practices to drive efficiency and savings, Commodity and Procurable Insights which help companies identify spend consolidation and savings opportunities, and Spend Guard, which leverages artificial intelligence on behavior patterns to automatically surface potential errors and fraud across all business spend.\n",
            "Tokens 64: ['operational', 'insights', 'which', 'help', 'businesses', 'measure', 'their', 'own', 'performance', 'on', 'key', 'operational', 'metrics', 'against', 'other', 'Coupa', 'customers', 'and', 'follow', 'best', 'practices', 'to', 'drive', 'efficiency', 'and', 'savings', ',', 'Commodity', 'and', 'Procurable', 'Insights', 'which', 'help', 'companies', 'identify', 'spend', 'consolidation', 'and', 'savings', 'opportunities', ',', 'and', 'Spend', 'Guard', ',', 'which', 'leverages', 'artificial', 'intelligence', 'on', 'behavior', 'patterns', 'to', 'automatically', 'surface', 'potential', 'errors', 'and', 'fraud', 'across', 'all', 'business', 'spend', '.']\n",
            "**********************************************************************************************************************************************************************************************************************************************************\n",
            "Sentence: Rapid time to value through fast deployment cycles and low cost of ownership of a cloud-based model.\n",
            "Tokens 18: ['Rapid', 'time', 'to', 'value', 'through', 'fast', 'deployment', 'cycles', 'and', 'low', 'cost', 'of', 'ownership', 'of', 'a', 'cloud-based', 'model', '.']\n",
            "**********************************************************************************************************************************************************************************************************************************************************\n",
            "Sentence: Opportunity to achieve significant and sustainable savings that can translate into improved profitability.\n",
            "Tokens 14: ['Opportunity', 'to', 'achieve', 'significant', 'and', 'sustainable', 'savings', 'that', 'can', 'translate', 'into', 'improved', 'profitability', '.']\n",
            "**********************************************************************************************************************************************************************************************************************************************************\n",
            "Sentence: High employee adoption of our easy-to-use BSM platform, which enables better visibility into spend, allowing both procurement and sourcing professionals to better manage their time.\n",
            "Tokens 28: ['High', 'employee', 'adoption', 'of', 'our', 'easy-to-use', 'BSM', 'platform', ',', 'which', 'enables', 'better', 'visibility', 'into', 'spend', ',', 'allowing', 'both', 'procurement', 'and', 'sourcing', 'professionals', 'to', 'better', 'manage', 'their', 'time', '.']\n",
            "**********************************************************************************************************************************************************************************************************************************************************\n",
            "Sentence: Strong supplier adoption as suppliers are motivated to join our network due to ease of enablement, flexibility, and lack of supplier fees.\n",
            "Tokens 25: ['Strong', 'supplier', 'adoption', 'as', 'suppliers', 'are', 'motivated', 'to', 'join', 'our', 'network', 'due', 'to', 'ease', 'of', 'enablement', ',', 'flexibility', ',', 'and', 'lack', 'of', 'supplier', 'fees', '.']\n",
            "**********************************************************************************************************************************************************************************************************************************************************\n",
            "Sentence: Access to extensive spending data in real-time, which leads to superior decision-making that can result in significant cost savings.\n",
            "Tokens 21: ['Access', 'to', 'extensive', 'spending', 'data', 'in', 'real-time', ',', 'which', 'leads', 'to', 'superior', 'decision-making', 'that', 'can', 'result', 'in', 'significant', 'cost', 'savings', '.']\n",
            "**********************************************************************************************************************************************************************************************************************************************************\n",
            "Sentence: Ability to stay agile and adapt to changes in operating and regulatory environments with our easily configurable platform.\n",
            "Tokens 19: ['Ability', 'to', 'stay', 'agile', 'and', 'adapt', 'to', 'changes', 'in', 'operating', 'and', 'regulatory', 'environments', 'with', 'our', 'easily', 'configurable', 'platform', '.']\n",
            "**********************************************************************************************************************************************************************************************************************************************************\n",
            "Sentence: Process efficiency improvements that allow businesses to free up valuable resources and staff who can be deployed effectively elsewhere in the organization.\n",
            "Tokens 23: ['Process', 'efficiency', 'improvements', 'that', 'allow', 'businesses', 'to', 'free', 'up', 'valuable', 'resources', 'and', 'staff', 'who', 'can', 'be', 'deployed', 'effectively', 'elsewhere', 'in', 'the', 'organization', '.']\n",
            "**********************************************************************************************************************************************************************************************************************************************************\n",
            "Sentence: Enhanced compliance with governmental regulations through greater auditability, documentation and control of spending activity.\n",
            "Tokens 16: ['Enhanced', 'compliance', 'with', 'governmental', 'regulations', 'through', 'greater', 'auditability', ',', 'documentation', 'and', 'control', 'of', 'spending', 'activity', '.']\n",
            "**********************************************************************************************************************************************************************************************************************************************************\n",
            "Sentence: Intuitive and simple user experience that shields users from complexity and enables adoption of our platform with minimal training.\n",
            "Tokens 20: ['Intuitive', 'and', 'simple', 'user', 'experience', 'that', 'shields', 'users', 'from', 'complexity', 'and', 'enables', 'adoption', 'of', 'our', 'platform', 'with', 'minimal', 'training', '.']\n",
            "**********************************************************************************************************************************************************************************************************************************************************\n",
            "Sentence: Efficiency improvements as employees are more rapidly able to procure the goods and services they need to fulfill their job responsibilities.\n",
            "Tokens 22: ['Efficiency', 'improvements', 'as', 'employees', 'are', 'more', 'rapidly', 'able', 'to', 'procure', 'the', 'goods', 'and', 'services', 'they', 'need', 'to', 'fulfill', 'their', 'job', 'responsibilities', '.']\n",
            "**********************************************************************************************************************************************************************************************************************************************************\n",
            "Sentence: Convenience to employees, as our platform gathers data on historical activity and leverages the insights to help populate requests and minimize data entry.\n",
            "Tokens 25: ['Convenience', 'to', 'employees', ',', 'as', 'our', 'platform', 'gathers', 'data', 'on', 'historical', 'activity', 'and', 'leverages', 'the', 'insights', 'to', 'help', 'populate', 'requests', 'and', 'minimize', 'data', 'entry', '.']\n",
            "**********************************************************************************************************************************************************************************************************************************************************\n",
            "Sentence: Participating in our Coupa Open Business Network, which allows suppliers to display their information and catalog of products and services on our platform for existing and prospective customers.\n",
            "Tokens 30: ['Participating', 'in', 'our', 'Coupa', 'Open', 'Business', 'Network', ',', 'which', 'allows', 'suppliers', 'to', 'display', 'their', 'information', 'and', 'catalog', 'of', 'products', 'and', 'services', 'on', 'our', 'platform', 'for', 'existing', 'and', 'prospective', 'customers', '.']\n",
            "**********************************************************************************************************************************************************************************************************************************************************\n",
            "Sentence: Fast registration process and flexibility to interact with customers through the Coupa Supplier Portal, direct integration or simply by use of direct email.\n",
            "Tokens 25: ['Fast', 'registration', 'process', 'and', 'flexibility', 'to', 'interact', 'with', 'customers', 'through', 'the', 'Coupa', 'Supplier', 'Portal', ',', 'direct', 'integration', 'or', 'simply', 'by', 'use', 'of', 'direct', 'email', '.']\n",
            "**********************************************************************************************************************************************************************************************************************************************************\n",
            "Sentence: Elimination of manual processes and efficiency improvements through electronic invoicing and streamlined procurement and payment processes.\n",
            "Tokens 17: ['Elimination', 'of', 'manual', 'processes', 'and', 'efficiency', 'improvements', 'through', 'electronic', 'invoicing', 'and', 'streamlined', 'procurement', 'and', 'payment', 'processes', '.']\n",
            "**********************************************************************************************************************************************************************************************************************************************************\n",
            "Sentence: Real-time visibility into invoice status, often through direct push notifications without having to log in to a portal.\n",
            "Tokens 20: ['Real-time', 'visibility', 'into', 'invoice', 'status', ',', 'often', 'through', 'direct', 'push', 'notifications', 'without', 'having', 'to', 'log', 'in', 'to', 'a', 'portal', '.']\n",
            "**********************************************************************************************************************************************************************************************************************************************************\n",
            "Sentence: Seamless audit, documentation and archiving of electronic purchase orders and invoices that helps suppliers comply with changing government regulations, as well as avoid risks.\n",
            "Tokens 27: ['Seamless', 'audit', ',', 'documentation', 'and', 'archiving', 'of', 'electronic', 'purchase', 'orders', 'and', 'invoices', 'that', 'helps', 'suppliers', 'comply', 'with', 'changing', 'government', 'regulations', ',', 'as', 'well', 'as', 'avoid', 'risks', '.']\n",
            "**********************************************************************************************************************************************************************************************************************************************************\n",
            "Sentence: We sell our software applications through our direct sales organization and our partner program, Coupa Partner Connect.\n",
            "Tokens 19: ['We', 'sell', 'our', 'software', 'applications', 'through', 'our', 'direct', 'sales', 'organization', 'and', 'our', 'partner', 'program', ',', 'Coupa', 'Partner', 'Connect', '.']\n",
            "**********************************************************************************************************************************************************************************************************************************************************\n",
            "Sentence: Our direct sales team is global and comprised of inside sales and field sales personnel who are organized by geography, account size, and application type.\n",
            "Tokens 28: ['Our', 'direct', 'sales', 'team', 'is', 'global', 'and', 'comprised', 'of', 'inside', 'sales', 'and', 'field', 'sales', 'personnel', 'who', 'are', 'organized', 'by', 'geography', ',', 'account', 'size', ',', 'and', 'application', 'type', '.']\n",
            "**********************************************************************************************************************************************************************************************************************************************************\n",
            "Sentence: We generate customer leads, accelerate sales opportunities, and build brand awareness through our marketing programs, including such programs with our strategic relationships.\n",
            "Tokens 26: ['We', 'generate', 'customer', 'leads', ',', 'accelerate', 'sales', 'opportunities', ',', 'and', 'build', 'brand', 'awareness', 'through', 'our', 'marketing', 'programs', ',', 'including', 'such', 'programs', 'with', 'our', 'strategic', 'relationships', '.']\n",
            "**********************************************************************************************************************************************************************************************************************************************************\n",
            "Sentence: For example, we have joint marketing programs and sponsorship agreements with KPMG, Deloitte, and Accenture.\n",
            "Tokens 19: ['For', 'example', ',', 'we', 'have', 'joint', 'marketing', 'programs', 'and', 'sponsorship', 'agreements', 'with', 'KPMG', ',', 'Deloitte', ',', 'and', 'Accenture', '.']\n",
            "**********************************************************************************************************************************************************************************************************************************************************\n",
            "Sentence: our annual Coupa Inspire conferences which are held in multiple jurisdictions and over multiple days to connect customers, disseminate best practices, and reinforce our brand among existing and new customers.\n",
            "Tokens 33: ['our', 'annual', 'Coupa', 'Inspire', 'conferences', 'which', 'are', 'held', 'in', 'multiple', 'jurisdictions', 'and', 'over', 'multiple', 'days', 'to', 'connect', 'customers', ',', 'disseminate', 'best', 'practices', ',', 'and', 'reinforce', 'our', 'brand', 'among', 'existing', 'and', 'new', 'customers', '.']\n",
            "**********************************************************************************************************************************************************************************************************************************************************\n",
            "Sentence: As a result of the COVID-19 pandemic, we replaced our 2020 in-person Inspire conference with web-based events for our customers, prospects, and partners;\n",
            "Tokens 27: ['As', 'a', 'result', 'of', 'the', 'COVID-19', 'pandemic', ',', 'we', 'replaced', 'our', '2020', 'in-person', 'Inspire', 'conference', 'with', 'web-based', 'events', 'for', 'our', 'customers', ',', 'prospects', ',', 'and', 'partners', ';']\n",
            "**********************************************************************************************************************************************************************************************************************************************************\n",
            "Sentence: development of our ideal customer profile (ICP), which helps identify the accounts with the highest propensity to buy, for each of our sales segments;\n",
            "Tokens 28: ['development', 'of', 'our', 'ideal', 'customer', 'profile', '(', 'ICP', '),', 'which', 'helps', 'identify', 'the', 'accounts', 'with', 'the', 'highest', 'propensity', 'to', 'buy', ',', 'for', 'each', 'of', 'our', 'sales', 'segments', ';']\n",
            "**********************************************************************************************************************************************************************************************************************************************************\n",
            "Sentence: programmatic account-based marketing and field efforts in close partnership with sales to target the ICP accounts in our respective sales segments;\n",
            "Tokens 22: ['programmatic', 'account-based', 'marketing', 'and', 'field', 'efforts', 'in', 'close', 'partnership', 'with', 'sales', 'to', 'target', 'the', 'ICP', 'accounts', 'in', 'our', 'respective', 'sales', 'segments', ';']\n",
            "**********************************************************************************************************************************************************************************************************************************************************\n",
            "Sentence: territory development representatives who respond to incoming leads to convert them into new sales opportunities;\n",
            "Tokens 16: ['territory', 'development', 'representatives', 'who', 'respond', 'to', 'incoming', 'leads', 'to', 'convert', 'them', 'into', 'new', 'sales', 'opportunities', ';']\n",
            "**********************************************************************************************************************************************************************************************************************************************************\n",
            "Sentence: participation in, and sponsorship of, user conferences, executive events, trade shows, and industry events;\n",
            "Tokens 20: ['participation', 'in', ',', 'and', 'sponsorship', 'of', ',', 'user', 'conferences', ',', 'executive', 'events', ',', 'trade', 'shows', ',', 'and', 'industry', 'events', ';']\n",
            "**********************************************************************************************************************************************************************************************************************************************************\n",
            "Sentence: integrated marketing campaigns, including direct e-mail, online web advertising, blogs, and webinars;\n",
            "Tokens 17: ['integrated', 'marketing', 'campaigns', ',', 'including', 'direct', 'e-mail', ',', 'online', 'web', 'advertising', ',', 'blogs', ',', 'and', 'webinars', ';']\n",
            "**********************************************************************************************************************************************************************************************************************************************************\n",
            "Sentence: cooperative marketing efforts with partners, including joint press announcements, joint trade show activities, channel marketing campaigns, and joint seminars;\n",
            "Tokens 24: ['cooperative', 'marketing', 'efforts', 'with', 'partners', ',', 'including', 'joint', 'press', 'announcements', ',', 'joint', 'trade', 'show', 'activities', ',', 'channel', 'marketing', 'campaigns', ',', 'and', 'joint', 'seminars', ';']\n",
            "**********************************************************************************************************************************************************************************************************************************************************\n",
            "Sentence: use of our website to provide application and company information, as well as learning opportunities for potential customers.\n",
            "Tokens 20: ['use', 'of', 'our', 'website', 'to', 'provide', 'application', 'and', 'company', 'information', ',', 'as', 'well', 'as', 'learning', 'opportunities', 'for', 'potential', 'customers', '.']\n",
            "**********************************************************************************************************************************************************************************************************************************************************\n",
            "Sentence: In May 2020, we acquired all of the equity interest in ConnXus, Inc.\n",
            "Tokens 16: ['In', 'May', '2020', ',', 'we', 'acquired', 'all', 'of', 'the', 'equity', 'interest', 'in', 'ConnXus', ',', 'Inc', '.']\n",
            "**********************************************************************************************************************************************************************************************************************************************************\n",
            "Sentence: (“ConnXus”), a cloud-based supplier relationship management platform that enables enterprises, health systems and government agencies to monitor all aspects of their supplier diversity compliance programs.\n",
            "Tokens 29: ['(', '“ConnXus”', '),', 'a', 'cloud-based', 'supplier', 'relationship', 'management', 'platform', 'that', 'enables', 'enterprises', ',', 'health', 'systems', 'and', 'government', 'agencies', 'to', 'monitor', 'all', 'aspects', 'of', 'their', 'supplier', 'diversity', 'compliance', 'programs', '.']\n",
            "**********************************************************************************************************************************************************************************************************************************************************\n",
            "Sentence: The purchase consideration was approximately $10.0 million in cash of which approximately $1.4 million In June 2020, we acquired all of the equity interest in Bellin Treasury International GmbH (“Bellin”), a cloud-based treasury management software platform that improves visibility and control over cash and optimizes treasury processes.\n",
            "Tokens 51: ['The', 'purchase', 'consideration', 'was', 'approximately', '$10.0', 'million', 'in', 'cash', 'of', 'which', 'approximately', '$1.4', 'million', 'In', 'June', '2020', ',', 'we', 'acquired', 'all', 'of', 'the', 'equity', 'interest', 'in', 'Bellin', 'Treasury', 'International', 'GmbH', '(', '“Bellin”', '),', 'a', 'cloud-based', 'treasury', 'management', 'software', 'platform', 'that', 'improves', 'visibility', 'and', 'control', 'over', 'cash', 'and', 'optimizes', 'treasury', 'processes', '.']\n",
            "**********************************************************************************************************************************************************************************************************************************************************\n",
            "Sentence: The purchase consideration was approximately $121.0 million, comprised of $79.1 million in cash (of which $8.0 million is being held in escrow for eighteen months after the transaction closing date) and 186,300 shares of our common stock with a fair value of approximately $41.8 million as of the transaction close date.\n",
            "Tokens 55: ['The', 'purchase', 'consideration', 'was', 'approximately', '$121.0', 'million', ',', 'comprised', 'of', '$79.1', 'million', 'in', 'cash', '(', 'of', 'which', '$8.0', 'million', 'is', 'being', 'held', 'in', 'escrow', 'for', 'eighteen', 'months', 'after', 'the', 'transaction', 'closing', 'date', ')', 'and', '186,300', 'shares', 'of', 'our', 'common', 'stock', 'with', 'a', 'fair', 'value', 'of', 'approximately', '$41.8', 'million', 'as', 'of', 'the', 'transaction', 'close', 'date', '.']\n",
            "**********************************************************************************************************************************************************************************************************************************************************\n",
            "Sentence: In September 2020, we acquired all of the equity interest in Much-Net GmbH (\"Much-Net\"), a financial instrument software and service provider that specializes in risk management.\n",
            "Tokens 30: ['In', 'September', '2020', ',', 'we', 'acquired', 'all', 'of', 'the', 'equity', 'interest', 'in', 'Much-Net', 'GmbH', '(\"', 'Much-Net', '\"),', 'a', 'financial', 'instrument', 'software', 'and', 'service', 'provider', 'that', 'specializes', 'in', 'risk', 'management', '.']\n",
            "**********************************************************************************************************************************************************************************************************************************************************\n",
            "Sentence: The purchase consideration was approximately $4.3 million in cash, which is net of $1.8 million in cash acquired.\n",
            "Tokens 20: ['The', 'purchase', 'consideration', 'was', 'approximately', '$4.3', 'million', 'in', 'cash', ',', 'which', 'is', 'net', 'of', '$1.8', 'million', 'in', 'cash', 'acquired', '.']\n",
            "**********************************************************************************************************************************************************************************************************************************************************\n",
            "Sentence: In November 2020, we completed the acquisition of Laurel Parent Holdings, Inc. and its subsidiaries (\"LLamasoft\"), a supply chain design and analysis software and solutions company.\n",
            "Tokens 32: ['In', 'November', '2020', ',', 'we', 'completed', 'the', 'acquisition', 'of', 'Laurel', 'Parent', 'Holdings', ',', 'Inc', '.', 'and', 'its', 'subsidiaries', '(\"', 'LLamasoft', '\"),', 'a', 'supply', 'chain', 'design', 'and', 'analysis', 'software', 'and', 'solutions', 'company', '.']\n",
            "**********************************************************************************************************************************************************************************************************************************************************\n",
            "Sentence: The acquisition strengthens Coupa’s supply chain capabilities, enabling businesses to drive greater value through Business Spend Management.\n",
            "Tokens 19: ['The', 'acquisition', 'strengthens', 'Coupa’s', 'supply', 'chain', 'capabilities', ',', 'enabling', 'businesses', 'to', 'drive', 'greater', 'value', 'through', 'Business', 'Spend', 'Management', '.']\n",
            "**********************************************************************************************************************************************************************************************************************************************************\n",
            "Sentence: In connection with the acquisition, we issued approximately 2.4 million shares of our common stock and paid aggregate cash of approximately $791.5 million.\n",
            "Tokens 25: ['In', 'connection', 'with', 'the', 'acquisition', ',', 'we', 'issued', 'approximately', '2.4', 'million', 'shares', 'of', 'our', 'common', 'stock', 'and', 'paid', 'aggregate', 'cash', 'of', 'approximately', '$791.5', 'million', '.']\n",
            "**********************************************************************************************************************************************************************************************************************************************************\n",
            "Sentence: Approximately $15.0 million of the cash paid is being held in escrow for fifteen months after the transaction closing date as security for the former LLamasoft stockholders' indemnification obligations, and approximately $7.5 million of the cash paid is being held in escrow until the completion of final adjustment on the purchase consideration.\n",
            "Tokens 55: ['Approximately', '$15.0', 'million', 'of', 'the', 'cash', 'paid', 'is', 'being', 'held', 'in', 'escrow', 'for', 'fifteen', 'months', 'after', 'the', 'transaction', 'closing', 'date', 'as', 'security', 'for', 'the', 'former', 'LLamasoft', 'stockholders', \"'\", 'indemnification', 'obligations', ',', 'and', 'approximately', '$7.5', 'million', 'of', 'the', 'cash', 'paid', 'is', 'being', 'held', 'in', 'escrow', 'until', 'the', 'completion', 'of', 'final', 'adjustment', 'on', 'the', 'purchase', 'consideration', '.']\n",
            "**********************************************************************************************************************************************************************************************************************************************************\n",
            "Sentence: In February 2021, we completed the acquisition of Pana Industries, Inc.\n",
            "Tokens 14: ['In', 'February', '2021', ',', 'we', 'completed', 'the', 'acquisition', 'of', 'Pana', 'Industries', ',', 'Inc', '.']\n",
            "**********************************************************************************************************************************************************************************************************************************************************\n",
            "Sentence: (\"Pana\"), a corporate travel booking solution company that puts an emphasis on the traveler experience.\n",
            "Tokens 18: ['(\"', 'Pana', '\"),', 'a', 'corporate', 'travel', 'booking', 'solution', 'company', 'that', 'puts', 'an', 'emphasis', 'on', 'the', 'traveler', 'experience', '.']\n",
            "**********************************************************************************************************************************************************************************************************************************************************\n",
            "Sentence: In connection with the completion of the acquisition, we paid aggregate cash of approximately $48.5 million, and issued 23,822 shares of our common stock.\n",
            "Tokens 27: ['In', 'connection', 'with', 'the', 'completion', 'of', 'the', 'acquisition', ',', 'we', 'paid', 'aggregate', 'cash', 'of', 'approximately', '$48.5', 'million', ',', 'and', 'issued', '23,822', 'shares', 'of', 'our', 'common', 'stock', '.']\n",
            "**********************************************************************************************************************************************************************************************************************************************************\n",
            "Sentence: As a core part of our strategy, we have developed an ecosystem of partners to extend our sales capabilities and coverage, to broaden and complement our application offerings, and to provide a broad array of services that lie outside of our primary areas of focus.\n",
            "Tokens 49: ['As', 'a', 'core', 'part', 'of', 'our', 'strategy', ',', 'we', 'have', 'developed', 'an', 'ecosystem', 'of', 'partners', 'to', 'extend', 'our', 'sales', 'capabilities', 'and', 'coverage', ',', 'to', 'broaden', 'and', 'complement', 'our', 'application', 'offerings', ',', 'and', 'to', 'provide', 'a', 'broad', 'array', 'of', 'services', 'that', 'lie', 'outside', 'of', 'our', 'primary', 'areas', 'of', 'focus', '.']\n",
            "**********************************************************************************************************************************************************************************************************************************************************\n",
            "Sentence: Our partnerships increase our ability to grow and scale quickly and efficiently and allow us to maintain greater focus on executing against our strategy.\n",
            "Tokens 25: ['Our', 'partnerships', 'increase', 'our', 'ability', 'to', 'grow', 'and', 'scale', 'quickly', 'and', 'efficiently', 'and', 'allow', 'us', 'to', 'maintain', 'greater', 'focus', 'on', 'executing', 'against', 'our', 'strategy', '.']\n",
            "**********************************************************************************************************************************************************************************************************************************************************\n",
            "Sentence: Our referral partners provide global, national and regional expertise in business spend management, procurement and expense management.\n",
            "Tokens 20: ['Our', 'referral', 'partners', 'provide', 'global', ',', 'national', 'and', 'regional', 'expertise', 'in', 'business', 'spend', 'management', ',', 'procurement', 'and', 'expense', 'management', '.']\n",
            "**********************************************************************************************************************************************************************************************************************************************************\n",
            "Sentence: They help organizations through operational transformation by leveraging process, best practices and new technology.\n",
            "Tokens 16: ['They', 'help', 'organizations', 'through', 'operational', 'transformation', 'by', 'leveraging', 'process', ',', 'best', 'practices', 'and', 'new', 'technology', '.']\n",
            "**********************************************************************************************************************************************************************************************************************************************************\n",
            "Sentence: These partners may refer customer prospects to us and assist us in selling to them.\n",
            "Tokens 16: ['These', 'partners', 'may', 'refer', 'customer', 'prospects', 'to', 'us', 'and', 'assist', 'us', 'in', 'selling', 'to', 'them', '.']\n",
            "**********************************************************************************************************************************************************************************************************************************************************\n",
            "Sentence: In return, we typically pay these partners a percentage of the first-year subscription revenue generated by the customers they refer.\n",
            "Tokens 22: ['In', 'return', ',', 'we', 'typically', 'pay', 'these', 'partners', 'a', 'percentage', 'of', 'the', 'first-year', 'subscription', 'revenue', 'generated', 'by', 'the', 'customers', 'they', 'refer', '.']\n",
            "**********************************************************************************************************************************************************************************************************************************************************\n",
            "Sentence: In order to offer the full breadth of implementation services, change management, and strategic consulting services to our customers, we work with leading global systems integrators such as Accenture, Deloitte and KPMG, as well as boutique and regional consulting firms.\n",
            "Tokens 46: ['In', 'order', 'to', 'offer', 'the', 'full', 'breadth', 'of', 'implementation', 'services', ',', 'change', 'management', ',', 'and', 'strategic', 'consulting', 'services', 'to', 'our', 'customers', ',', 'we', 'work', 'with', 'leading', 'global', 'systems', 'integrators', 'such', 'as', 'Accenture', ',', 'Deloitte', 'and', 'KPMG', ',', 'as', 'well', 'as', 'boutique', 'and', 'regional', 'consulting', 'firms', '.']\n",
            "**********************************************************************************************************************************************************************************************************************************************************\n",
            "Sentence: Our strategy is to enable the majority of our projects to be led by implementation partners with additional specialized support from us.\n",
            "Tokens 23: ['Our', 'strategy', 'is', 'to', 'enable', 'the', 'majority', 'of', 'our', 'projects', 'to', 'be', 'led', 'by', 'implementation', 'partners', 'with', 'additional', 'specialized', 'support', 'from', 'us', '.']\n",
            "**********************************************************************************************************************************************************************************************************************************************************\n",
            "Sentence: Our implementation partners are highly skilled and trained by our team.\n",
            "Tokens 12: ['Our', 'implementation', 'partners', 'are', 'highly', 'skilled', 'and', 'trained', 'by', 'our', 'team', '.']\n",
            "**********************************************************************************************************************************************************************************************************************************************************\n",
            "Sentence: When working with implementation partners, we are typically in a “co-sell” arrangement where we will sell our subscription directly to the customer and our partner will sell its implementation services directly to the customer.\n",
            "Tokens 36: ['When', 'working', 'with', 'implementation', 'partners', ',', 'we', 'are', 'typically', 'in', 'a', '“co-sell”', 'arrangement', 'where', 'we', 'will', 'sell', 'our', 'subscription', 'directly', 'to', 'the', 'customer', 'and', 'our', 'partner', 'will', 'sell', 'its', 'implementation', 'services', 'directly', 'to', 'the', 'customer', '.']\n",
            "**********************************************************************************************************************************************************************************************************************************************************\n"
          ]
        }
      ]
    },
    {
      "cell_type": "code",
      "source": [
        "sentences = res[0]['sentences']\n",
        "tokens = res[0]['tokens']\n",
        "\n",
        "total_token = 0\n",
        "total_sentences = \"\"\n",
        "final_sentences = []\n",
        "\n",
        "for i in range(len(sentences)):\n",
        "  sen_tokens = [x.result for x in tokens if x.metadata['sentence'] == str(i)]\n",
        "  total_token += len(sen_tokens)\n",
        "  if total_token <= 300:\n",
        "    total_sentences += sentences[i].result\n",
        "  elif total_token > 300:\n",
        "    print(f\"Tokens: {total_token-len(sen_tokens)}\")\n",
        "    total_token = len(sen_tokens)\n",
        "    final_sentences.append(total_sentences)\n",
        "    print(f\"Sentences: {total_sentences}\")\n",
        "    print(\"*\"*250)\n",
        "    total_sentences = \"\"\n",
        "    total_sentences += sentences[i].result\n",
        "\n",
        "final_sentences.append(total_sentences)\n"
      ],
      "metadata": {
        "colab": {
          "base_uri": "https://localhost:8080/"
        },
        "id": "M0BpGuqncVx6",
        "outputId": "9b0ff432-f728-4858-f167-923a85c7ff1f"
      },
      "execution_count": null,
      "outputs": [
        {
          "output_type": "stream",
          "name": "stdout",
          "text": [
            "Tokens: 289\n",
            "Sentences: Our Community Intelligence capability, which extends across our BSM platform, provides information to Coupa customers by applying artificial intelligence-powered analysis to the structured, normalized data collected from the comprehensive set of business spend transactions that have occurred on the Coupa platform.This innovative analysis provides Coupa customers with prescriptive recommendations to optimize their spend decisions, improve operational efficiency, and reduce risk based on best practices from the Coupa community.Participating customers are able to contribute to and benefit from Community Intelligence, with use cases spanning various areas of spend management, including: Supplier Insights and Supplier Risk Management which help companies evaluate and reduce the risk levels of suppliers;operational insights which help businesses measure their own performance on key operational metrics against other Coupa customers and follow best practices to drive efficiency and savings, Commodity and Procurable Insights which help companies identify spend consolidation and savings opportunities, and Spend Guard, which leverages artificial intelligence on behavior patterns to automatically surface potential errors and fraud across all business spend.Rapid time to value through fast deployment cycles and low cost of ownership of a cloud-based model.Opportunity to achieve significant and sustainable savings that can translate into improved profitability.High employee adoption of our easy-to-use BSM platform, which enables better visibility into spend, allowing both procurement and sourcing professionals to better manage their time.Strong supplier adoption as suppliers are motivated to join our network due to ease of enablement, flexibility, and lack of supplier fees.Access to extensive spending data in real-time, which leads to superior decision-making that can result in significant cost savings.\n",
            "**********************************************************************************************************************************************************************************************************************************************************\n",
            "Tokens: 291\n",
            "Sentences: Ability to stay agile and adapt to changes in operating and regulatory environments with our easily configurable platform.Process efficiency improvements that allow businesses to free up valuable resources and staff who can be deployed effectively elsewhere in the organization.Enhanced compliance with governmental regulations through greater auditability, documentation and control of spending activity.Intuitive and simple user experience that shields users from complexity and enables adoption of our platform with minimal training.Efficiency improvements as employees are more rapidly able to procure the goods and services they need to fulfill their job responsibilities.Convenience to employees, as our platform gathers data on historical activity and leverages the insights to help populate requests and minimize data entry.Participating in our Coupa Open Business Network, which allows suppliers to display their information and catalog of products and services on our platform for existing and prospective customers.Fast registration process and flexibility to interact with customers through the Coupa Supplier Portal, direct integration or simply by use of direct email.Elimination of manual processes and efficiency improvements through electronic invoicing and streamlined procurement and payment processes.Real-time visibility into invoice status, often through direct push notifications without having to log in to a portal.Seamless audit, documentation and archiving of electronic purchase orders and invoices that helps suppliers comply with changing government regulations, as well as avoid risks.We sell our software applications through our direct sales organization and our partner program, Coupa Partner Connect.Our direct sales team is global and comprised of inside sales and field sales personnel who are organized by geography, account size, and application type.\n",
            "**********************************************************************************************************************************************************************************************************************************************************\n",
            "Tokens: 297\n",
            "Sentences: We generate customer leads, accelerate sales opportunities, and build brand awareness through our marketing programs, including such programs with our strategic relationships.For example, we have joint marketing programs and sponsorship agreements with KPMG, Deloitte, and Accenture.our annual Coupa Inspire conferences which are held in multiple jurisdictions and over multiple days to connect customers, disseminate best practices, and reinforce our brand among existing and new customers.As a result of the COVID-19 pandemic, we replaced our 2020 in-person Inspire conference with web-based events for our customers, prospects, and partners;development of our ideal customer profile (ICP), which helps identify the accounts with the highest propensity to buy, for each of our sales segments;programmatic account-based marketing and field efforts in close partnership with sales to target the ICP accounts in our respective sales segments;territory development representatives who respond to incoming leads to convert them into new sales opportunities;participation in, and sponsorship of, user conferences, executive events, trade shows, and industry events;integrated marketing campaigns, including direct e-mail, online web advertising, blogs, and webinars;cooperative marketing efforts with partners, including joint press announcements, joint trade show activities, channel marketing campaigns, and joint seminars;use of our website to provide application and company information, as well as learning opportunities for potential customers.In May 2020, we acquired all of the equity interest in ConnXus, Inc.(“ConnXus”), a cloud-based supplier relationship management platform that enables enterprises, health systems and government agencies to monitor all aspects of their supplier diversity compliance programs.\n",
            "**********************************************************************************************************************************************************************************************************************************************************\n",
            "Tokens: 287\n",
            "Sentences: The purchase consideration was approximately $10.0 million in cash of which approximately $1.4 million In June 2020, we acquired all of the equity interest in Bellin Treasury International GmbH (“Bellin”), a cloud-based treasury management software platform that improves visibility and control over cash and optimizes treasury processes.The purchase consideration was approximately $121.0 million, comprised of $79.1 million in cash (of which $8.0 million is being held in escrow for eighteen months after the transaction closing date) and 186,300 shares of our common stock with a fair value of approximately $41.8 million as of the transaction close date.In September 2020, we acquired all of the equity interest in Much-Net GmbH (\"Much-Net\"), a financial instrument software and service provider that specializes in risk management.The purchase consideration was approximately $4.3 million in cash, which is net of $1.8 million in cash acquired.In November 2020, we completed the acquisition of Laurel Parent Holdings, Inc. and its subsidiaries (\"LLamasoft\"), a supply chain design and analysis software and solutions company.The acquisition strengthens Coupa’s supply chain capabilities, enabling businesses to drive greater value through Business Spend Management.In connection with the acquisition, we issued approximately 2.4 million shares of our common stock and paid aggregate cash of approximately $791.5 million.Approximately $15.0 million of the cash paid is being held in escrow for fifteen months after the transaction closing date as security for the former LLamasoft stockholders' indemnification obligations, and approximately $7.5 million of the cash paid is being held in escrow until the completion of final adjustment on the purchase consideration.\n",
            "**********************************************************************************************************************************************************************************************************************************************************\n",
            "Tokens: 288\n",
            "Sentences: In February 2021, we completed the acquisition of Pana Industries, Inc.(\"Pana\"), a corporate travel booking solution company that puts an emphasis on the traveler experience.In connection with the completion of the acquisition, we paid aggregate cash of approximately $48.5 million, and issued 23,822 shares of our common stock.As a core part of our strategy, we have developed an ecosystem of partners to extend our sales capabilities and coverage, to broaden and complement our application offerings, and to provide a broad array of services that lie outside of our primary areas of focus.Our partnerships increase our ability to grow and scale quickly and efficiently and allow us to maintain greater focus on executing against our strategy.Our referral partners provide global, national and regional expertise in business spend management, procurement and expense management.They help organizations through operational transformation by leveraging process, best practices and new technology.These partners may refer customer prospects to us and assist us in selling to them.In return, we typically pay these partners a percentage of the first-year subscription revenue generated by the customers they refer.In order to offer the full breadth of implementation services, change management, and strategic consulting services to our customers, we work with leading global systems integrators such as Accenture, Deloitte and KPMG, as well as boutique and regional consulting firms.Our strategy is to enable the majority of our projects to be led by implementation partners with additional specialized support from us.Our implementation partners are highly skilled and trained by our team.\n",
            "**********************************************************************************************************************************************************************************************************************************************************\n"
          ]
        }
      ]
    },
    {
      "cell_type": "markdown",
      "source": [
        "- In the notebook, we are working with the T5 model, which uses a different tokenizer called SentencePiece. Unlike the standard tokenizer used in the Tokenizer annotator, SentencePiece can produce a varying number of tokens for the same input text. This means that we cannot directly compare the token counts between the two tokenizers.\n",
        "\n",
        "- To ensure that the generated tokens from the SentencePiece tokenizer do not exceed the T5 model's token limit, we set a conservative limit of 300 tokens. This value provides a cushion to account for the fact that SentencePiece tokenization can result in a higher token count compared to simple whitespace tokenization.\n",
        "\n",
        "- The reason for this precaution is that if the total token count in a given input, including both the existing tokens and the additional tokens from the next sentence, exceeds the T5 model's maximum limit (which is typically 512 tokens but can vary), it will result in an error.\n",
        "\n",
        "- By limiting the token count to 300, we ensure that even if the subsequent sentence adds a few more tokens, the total number of tokens remains within the T5 model's limit. This allows us to avoid tokenization errors and successfully generate summaries for the long document.\n",
        "\n",
        "- It's important to note that the specific token limit for the T5 model being used should be checked in the model's documentation or implementation, as it might deviate from the standard 512 tokens. Adjustments to the limit may be necessary based on the model's specific requirements and constraints."
      ],
      "metadata": {
        "id": "fa7LKKWLHltT"
      }
    },
    {
      "cell_type": "code",
      "source": [
        "final_sentences"
      ],
      "metadata": {
        "colab": {
          "base_uri": "https://localhost:8080/"
        },
        "id": "Ah_ELTMGv-eL",
        "outputId": "a7d9cd92-4270-4142-967c-ee463c2407bd"
      },
      "execution_count": null,
      "outputs": [
        {
          "output_type": "execute_result",
          "data": {
            "text/plain": [
              "['Our Community Intelligence capability, which extends across our BSM platform, provides information to Coupa customers by applying artificial intelligence-powered analysis to the structured, normalized data collected from the comprehensive set of business spend transactions that have occurred on the Coupa platform.This innovative analysis provides Coupa customers with prescriptive recommendations to optimize their spend decisions, improve operational efficiency, and reduce risk based on best practices from the Coupa community.Participating customers are able to contribute to and benefit from Community Intelligence, with use cases spanning various areas of spend management, including: Supplier Insights and Supplier Risk Management which help companies evaluate and reduce the risk levels of suppliers;operational insights which help businesses measure their own performance on key operational metrics against other Coupa customers and follow best practices to drive efficiency and savings, Commodity and Procurable Insights which help companies identify spend consolidation and savings opportunities, and Spend Guard, which leverages artificial intelligence on behavior patterns to automatically surface potential errors and fraud across all business spend.Rapid time to value through fast deployment cycles and low cost of ownership of a cloud-based model.Opportunity to achieve significant and sustainable savings that can translate into improved profitability.High employee adoption of our easy-to-use BSM platform, which enables better visibility into spend, allowing both procurement and sourcing professionals to better manage their time.Strong supplier adoption as suppliers are motivated to join our network due to ease of enablement, flexibility, and lack of supplier fees.Access to extensive spending data in real-time, which leads to superior decision-making that can result in significant cost savings.',\n",
              " 'Ability to stay agile and adapt to changes in operating and regulatory environments with our easily configurable platform.Process efficiency improvements that allow businesses to free up valuable resources and staff who can be deployed effectively elsewhere in the organization.Enhanced compliance with governmental regulations through greater auditability, documentation and control of spending activity.Intuitive and simple user experience that shields users from complexity and enables adoption of our platform with minimal training.Efficiency improvements as employees are more rapidly able to procure the goods and services they need to fulfill their job responsibilities.Convenience to employees, as our platform gathers data on historical activity and leverages the insights to help populate requests and minimize data entry.Participating in our Coupa Open Business Network, which allows suppliers to display their information and catalog of products and services on our platform for existing and prospective customers.Fast registration process and flexibility to interact with customers through the Coupa Supplier Portal, direct integration or simply by use of direct email.Elimination of manual processes and efficiency improvements through electronic invoicing and streamlined procurement and payment processes.Real-time visibility into invoice status, often through direct push notifications without having to log in to a portal.Seamless audit, documentation and archiving of electronic purchase orders and invoices that helps suppliers comply with changing government regulations, as well as avoid risks.We sell our software applications through our direct sales organization and our partner program, Coupa Partner Connect.Our direct sales team is global and comprised of inside sales and field sales personnel who are organized by geography, account size, and application type.',\n",
              " 'We generate customer leads, accelerate sales opportunities, and build brand awareness through our marketing programs, including such programs with our strategic relationships.For example, we have joint marketing programs and sponsorship agreements with KPMG, Deloitte, and Accenture.our annual Coupa Inspire conferences which are held in multiple jurisdictions and over multiple days to connect customers, disseminate best practices, and reinforce our brand among existing and new customers.As a result of the COVID-19 pandemic, we replaced our 2020 in-person Inspire conference with web-based events for our customers, prospects, and partners;development of our ideal customer profile (ICP), which helps identify the accounts with the highest propensity to buy, for each of our sales segments;programmatic account-based marketing and field efforts in close partnership with sales to target the ICP accounts in our respective sales segments;territory development representatives who respond to incoming leads to convert them into new sales opportunities;participation in, and sponsorship of, user conferences, executive events, trade shows, and industry events;integrated marketing campaigns, including direct e-mail, online web advertising, blogs, and webinars;cooperative marketing efforts with partners, including joint press announcements, joint trade show activities, channel marketing campaigns, and joint seminars;use of our website to provide application and company information, as well as learning opportunities for potential customers.In May 2020, we acquired all of the equity interest in ConnXus, Inc.(“ConnXus”), a cloud-based supplier relationship management platform that enables enterprises, health systems and government agencies to monitor all aspects of their supplier diversity compliance programs.',\n",
              " 'The purchase consideration was approximately $10.0 million in cash of which approximately $1.4 million In June 2020, we acquired all of the equity interest in Bellin Treasury International GmbH (“Bellin”), a cloud-based treasury management software platform that improves visibility and control over cash and optimizes treasury processes.The purchase consideration was approximately $121.0 million, comprised of $79.1 million in cash (of which $8.0 million is being held in escrow for eighteen months after the transaction closing date) and 186,300 shares of our common stock with a fair value of approximately $41.8 million as of the transaction close date.In September 2020, we acquired all of the equity interest in Much-Net GmbH (\"Much-Net\"), a financial instrument software and service provider that specializes in risk management.The purchase consideration was approximately $4.3 million in cash, which is net of $1.8 million in cash acquired.In November 2020, we completed the acquisition of Laurel Parent Holdings, Inc. and its subsidiaries (\"LLamasoft\"), a supply chain design and analysis software and solutions company.The acquisition strengthens Coupa’s supply chain capabilities, enabling businesses to drive greater value through Business Spend Management.In connection with the acquisition, we issued approximately 2.4 million shares of our common stock and paid aggregate cash of approximately $791.5 million.Approximately $15.0 million of the cash paid is being held in escrow for fifteen months after the transaction closing date as security for the former LLamasoft stockholders\\' indemnification obligations, and approximately $7.5 million of the cash paid is being held in escrow until the completion of final adjustment on the purchase consideration.',\n",
              " 'In February 2021, we completed the acquisition of Pana Industries, Inc.(\"Pana\"), a corporate travel booking solution company that puts an emphasis on the traveler experience.In connection with the completion of the acquisition, we paid aggregate cash of approximately $48.5 million, and issued 23,822 shares of our common stock.As a core part of our strategy, we have developed an ecosystem of partners to extend our sales capabilities and coverage, to broaden and complement our application offerings, and to provide a broad array of services that lie outside of our primary areas of focus.Our partnerships increase our ability to grow and scale quickly and efficiently and allow us to maintain greater focus on executing against our strategy.Our referral partners provide global, national and regional expertise in business spend management, procurement and expense management.They help organizations through operational transformation by leveraging process, best practices and new technology.These partners may refer customer prospects to us and assist us in selling to them.In return, we typically pay these partners a percentage of the first-year subscription revenue generated by the customers they refer.In order to offer the full breadth of implementation services, change management, and strategic consulting services to our customers, we work with leading global systems integrators such as Accenture, Deloitte and KPMG, as well as boutique and regional consulting firms.Our strategy is to enable the majority of our projects to be led by implementation partners with additional specialized support from us.Our implementation partners are highly skilled and trained by our team.',\n",
              " 'When working with implementation partners, we are typically in a “co-sell” arrangement where we will sell our subscription directly to the customer and our partner will sell its implementation services directly to the customer.']"
            ]
          },
          "metadata": {},
          "execution_count": 23
        }
      ]
    },
    {
      "cell_type": "code",
      "source": [
        "document_assembler = nlp.DocumentAssembler()\\\n",
        "    .setInputCol(\"text\")\\\n",
        "    .setOutputCol(\"documents\")\n",
        "\n",
        "flant5 = finance.Summarizer().pretrained('finsum_flant5_finetuned_sec10k','en','finance/models')\\\n",
        "    .setInputCols([\"documents\"])\\\n",
        "    .setOutputCol(\"summary\")\\\n",
        "    .setMaxTextLength(512)\\\n",
        "    .setMaxNewTokens(512)\n",
        "\n",
        "pipeline = nlp.Pipeline(stages=[document_assembler, \n",
        "                                flant5])\n",
        "\n",
        "data = spark.createDataFrame([[1, \" \"]]).toDF('id', 'text')\n",
        "\n",
        "model = pipeline.fit(data)\n",
        "light_model = nlp.LightPipeline(model)\n",
        "\n",
        "light_result = light_model.annotate(final_sentences)"
      ],
      "metadata": {
        "id": "_yEDN4CtA8AY"
      },
      "execution_count": null,
      "outputs": []
    },
    {
      "cell_type": "code",
      "source": [
        "light_result"
      ],
      "metadata": {
        "id": "11SFhE1iCwB6",
        "outputId": "da040880-0b9b-4ad9-a045-1214a201f38e",
        "colab": {
          "base_uri": "https://localhost:8080/"
        }
      },
      "execution_count": null,
      "outputs": [
        {
          "output_type": "execute_result",
          "data": {
            "text/plain": [
              "[{'documents': ['Our Community Intelligence capability, which extends across our BSM platform, provides information to Coupa customers by applying artificial intelligence-powered analysis to the structured, normalized data collected from the comprehensive set of business spend transactions that have occurred on the Coupa platform.This innovative analysis provides Coupa customers with prescriptive recommendations to optimize their spend decisions, improve operational efficiency, and reduce risk based on best practices from the Coupa community.Participating customers are able to contribute to and benefit from Community Intelligence, with use cases spanning various areas of spend management, including: Supplier Insights and Supplier Risk Management which help companies evaluate and reduce the risk levels of suppliers;operational insights which help businesses measure their own performance on key operational metrics against other Coupa customers and follow best practices to drive efficiency and savings, Commodity and Procurable Insights which help companies identify spend consolidation and savings opportunities, and Spend Guard, which leverages artificial intelligence on behavior patterns to automatically surface potential errors and fraud across all business spend.Rapid time to value through fast deployment cycles and low cost of ownership of a cloud-based model.Opportunity to achieve significant and sustainable savings that can translate into improved profitability.High employee adoption of our easy-to-use BSM platform, which enables better visibility into spend, allowing both procurement and sourcing professionals to better manage their time.Strong supplier adoption as suppliers are motivated to join our network due to ease of enablement, flexibility, and lack of supplier fees.Access to extensive spending data in real-time, which leads to superior decision-making that can result in significant cost savings.'],\n",
              "  'summary': ['This community intelligence capability extends across the Coupa platform, providing Coupa customers with prescriptive recommendations to optimize their spend decisions, improve operational efficiency, and reduce risk. It also provides Coupa customers with access to a cloud-based model, enabling better visibility into spend, and a strong supplier adoption.']},\n",
              " {'documents': ['Ability to stay agile and adapt to changes in operating and regulatory environments with our easily configurable platform.Process efficiency improvements that allow businesses to free up valuable resources and staff who can be deployed effectively elsewhere in the organization.Enhanced compliance with governmental regulations through greater auditability, documentation and control of spending activity.Intuitive and simple user experience that shields users from complexity and enables adoption of our platform with minimal training.Efficiency improvements as employees are more rapidly able to procure the goods and services they need to fulfill their job responsibilities.Convenience to employees, as our platform gathers data on historical activity and leverages the insights to help populate requests and minimize data entry.Participating in our Coupa Open Business Network, which allows suppliers to display their information and catalog of products and services on our platform for existing and prospective customers.Fast registration process and flexibility to interact with customers through the Coupa Supplier Portal, direct integration or simply by use of direct email.Elimination of manual processes and efficiency improvements through electronic invoicing and streamlined procurement and payment processes.Real-time visibility into invoice status, often through direct push notifications without having to log in to a portal.Seamless audit, documentation and archiving of electronic purchase orders and invoices that helps suppliers comply with changing government regulations, as well as avoid risks.We sell our software applications through our direct sales organization and our partner program, Coupa Partner Connect.Our direct sales team is global and comprised of inside sales and field sales personnel who are organized by geography, account size, and application type.'],\n",
              "  'summary': ['This company is a software company that is able to stay agile and adapt to changes in operating and regulatory environments with its easily configurable platform. It also has the ability to increase compliance with governmental regulations through greater auditability, documentation and control of spending activity. It also has the ability to collect data on historical activity and leverage the insights to help populate requests and minimize data entry. It also participates in the Coupa Open Business Network, which allows suppliers to display their information and catalog of products and services on our platform for existing and prospective customers. It also has the ability to eliminate manual processes and efficiency improvements through electronic invoicing and streamlined procurement and payment processes. Finally, it has the ability to sell its software applications through its direct sales organization and its partner program, Coupa Partner Connect.']},\n",
              " {'documents': ['We generate customer leads, accelerate sales opportunities, and build brand awareness through our marketing programs, including such programs with our strategic relationships.For example, we have joint marketing programs and sponsorship agreements with KPMG, Deloitte, and Accenture.our annual Coupa Inspire conferences which are held in multiple jurisdictions and over multiple days to connect customers, disseminate best practices, and reinforce our brand among existing and new customers.As a result of the COVID-19 pandemic, we replaced our 2020 in-person Inspire conference with web-based events for our customers, prospects, and partners;development of our ideal customer profile (ICP), which helps identify the accounts with the highest propensity to buy, for each of our sales segments;programmatic account-based marketing and field efforts in close partnership with sales to target the ICP accounts in our respective sales segments;territory development representatives who respond to incoming leads to convert them into new sales opportunities;participation in, and sponsorship of, user conferences, executive events, trade shows, and industry events;integrated marketing campaigns, including direct e-mail, online web advertising, blogs, and webinars;cooperative marketing efforts with partners, including joint press announcements, joint trade show activities, channel marketing campaigns, and joint seminars;use of our website to provide application and company information, as well as learning opportunities for potential customers.In May 2020, we acquired all of the equity interest in ConnXus, Inc.(“ConnXus”), a cloud-based supplier relationship management platform that enables enterprises, health systems and government agencies to monitor all aspects of their supplier diversity compliance programs.'],\n",
              "  'summary': [\"This legal agreement outlines the marketing programs that ConnXus has in place to generate customer leads, accelerate sales opportunities, and build brand awareness through marketing programs. It also outlines the development of an ideal customer profile, programming account-based marketing, territory development representatives, participation in and sponsorship of user conferences, executive events, trade shows, and industry events, integrated marketing campaigns, and use of ConnXus' website to provide application and company information.\"]},\n",
              " {'documents': ['The purchase consideration was approximately $10.0 million in cash of which approximately $1.4 million In June 2020, we acquired all of the equity interest in Bellin Treasury International GmbH (“Bellin”), a cloud-based treasury management software platform that improves visibility and control over cash and optimizes treasury processes.The purchase consideration was approximately $121.0 million, comprised of $79.1 million in cash (of which $8.0 million is being held in escrow for eighteen months after the transaction closing date) and 186,300 shares of our common stock with a fair value of approximately $41.8 million as of the transaction close date.In September 2020, we acquired all of the equity interest in Much-Net GmbH (\"Much-Net\"), a financial instrument software and service provider that specializes in risk management.The purchase consideration was approximately $4.3 million in cash, which is net of $1.8 million in cash acquired.In November 2020, we completed the acquisition of Laurel Parent Holdings, Inc. and its subsidiaries (\"LLamasoft\"), a supply chain design and analysis software and solutions company.The acquisition strengthens Coupa’s supply chain capabilities, enabling businesses to drive greater value through Business Spend Management.In connection with the acquisition, we issued approximately 2.4 million shares of our common stock and paid aggregate cash of approximately $791.5 million.Approximately $15.0 million of the cash paid is being held in escrow for fifteen months after the transaction closing date as security for the former LLamasoft stockholders\\' indemnification obligations, and approximately $7.5 million of the cash paid is being held in escrow until the completion of final adjustment on the purchase consideration.'],\n",
              "  'summary': ['This purchase consideration was approximately $10.0 million in cash, of which approximately $1.4 million is being held in escrow for eighteen months after the transaction closing date. In June 2020, we acquired all of the equity interest in Bellin Treasury International GmbH, a cloud-based treasury management software platform that improves visibility and control over cash and optimizes treasury processes. In September 2020, we acquired all of the equity interest in Much-Net GmbH, a financial instrument software and service provider that specializes in risk management. In November 2020, we completed the acquisition of Laurel Parent Holdings, Inc. and its subsidiaries, a supply chain design and analysis software and solutions company. In connection with the acquisition, we issued approximately 2.4 million shares of our common stock and paid aggregate cash of approximately $791.5 million.']},\n",
              " {'documents': ['In February 2021, we completed the acquisition of Pana Industries, Inc.(\"Pana\"), a corporate travel booking solution company that puts an emphasis on the traveler experience.In connection with the completion of the acquisition, we paid aggregate cash of approximately $48.5 million, and issued 23,822 shares of our common stock.As a core part of our strategy, we have developed an ecosystem of partners to extend our sales capabilities and coverage, to broaden and complement our application offerings, and to provide a broad array of services that lie outside of our primary areas of focus.Our partnerships increase our ability to grow and scale quickly and efficiently and allow us to maintain greater focus on executing against our strategy.Our referral partners provide global, national and regional expertise in business spend management, procurement and expense management.They help organizations through operational transformation by leveraging process, best practices and new technology.These partners may refer customer prospects to us and assist us in selling to them.In return, we typically pay these partners a percentage of the first-year subscription revenue generated by the customers they refer.In order to offer the full breadth of implementation services, change management, and strategic consulting services to our customers, we work with leading global systems integrators such as Accenture, Deloitte and KPMG, as well as boutique and regional consulting firms.Our strategy is to enable the majority of our projects to be led by implementation partners with additional specialized support from us.Our implementation partners are highly skilled and trained by our team.'],\n",
              "  'summary': ['This legal agreement outlines the acquisition of Pana Industries, Inc. in February 2021. It includes the acquisition of 23822 shares of common stock, as well as the development of an ecosystem of partners to extend sales capabilities and coverage, broaden and complement applications, and provide a broad array of services outside of their primary areas of focus. The referral partners provide global, national and regional expertise in business spend management, procurement and expense management. They may refer customer prospects to us and assist us in selling to them. They also work with leading global systems integrators such as Accenture, Deloitte and KPMG, as well as boutique and regional consulting firms.']},\n",
              " {'documents': ['When working with implementation partners, we are typically in a “co-sell” arrangement where we will sell our subscription directly to the customer and our partner will sell its implementation services directly to the customer.'],\n",
              "  'summary': ['This agreement is between the implementation partners and the customer, whereby the customer will receive a subscription directly to the partner and the partner will sell its implementation services directly to the customer.']}]"
            ]
          },
          "metadata": {},
          "execution_count": 25
        }
      ]
    },
    {
      "cell_type": "code",
      "source": [
        "final_sentences = []\n",
        "for item in light_result:\n",
        "    final_sentences.append(item['summary'][0])"
      ],
      "metadata": {
        "id": "uOhRwRzSMLnu"
      },
      "execution_count": null,
      "outputs": []
    },
    {
      "cell_type": "code",
      "source": [
        "final_sentences"
      ],
      "metadata": {
        "colab": {
          "base_uri": "https://localhost:8080/"
        },
        "id": "MGcTzHtTCaaX",
        "outputId": "784ce030-9245-45bc-d41e-38ba616c7d6c"
      },
      "execution_count": null,
      "outputs": [
        {
          "output_type": "execute_result",
          "data": {
            "text/plain": [
              "['This community intelligence capability extends across the Coupa platform, providing Coupa customers with prescriptive recommendations to optimize their spend decisions, improve operational efficiency, and reduce risk. It also provides Coupa customers with access to a cloud-based model, enabling better visibility into spend, and a strong supplier adoption.',\n",
              " 'This company is a software company that is able to stay agile and adapt to changes in operating and regulatory environments with its easily configurable platform. It also has the ability to increase compliance with governmental regulations through greater auditability, documentation and control of spending activity. It also has the ability to collect data on historical activity and leverage the insights to help populate requests and minimize data entry. It also participates in the Coupa Open Business Network, which allows suppliers to display their information and catalog of products and services on our platform for existing and prospective customers. It also has the ability to eliminate manual processes and efficiency improvements through electronic invoicing and streamlined procurement and payment processes. Finally, it has the ability to sell its software applications through its direct sales organization and its partner program, Coupa Partner Connect.',\n",
              " \"This legal agreement outlines the marketing programs that ConnXus has in place to generate customer leads, accelerate sales opportunities, and build brand awareness through marketing programs. It also outlines the development of an ideal customer profile, programming account-based marketing, territory development representatives, participation in and sponsorship of user conferences, executive events, trade shows, and industry events, integrated marketing campaigns, and use of ConnXus' website to provide application and company information.\",\n",
              " 'This purchase consideration was approximately $10.0 million in cash, of which approximately $1.4 million is being held in escrow for eighteen months after the transaction closing date. In June 2020, we acquired all of the equity interest in Bellin Treasury International GmbH, a cloud-based treasury management software platform that improves visibility and control over cash and optimizes treasury processes. In September 2020, we acquired all of the equity interest in Much-Net GmbH, a financial instrument software and service provider that specializes in risk management. In November 2020, we completed the acquisition of Laurel Parent Holdings, Inc. and its subsidiaries, a supply chain design and analysis software and solutions company. In connection with the acquisition, we issued approximately 2.4 million shares of our common stock and paid aggregate cash of approximately $791.5 million.',\n",
              " 'This legal agreement outlines the acquisition of Pana Industries, Inc. in February 2021. It includes the acquisition of 23822 shares of common stock, as well as the development of an ecosystem of partners to extend sales capabilities and coverage, broaden and complement applications, and provide a broad array of services outside of their primary areas of focus. The referral partners provide global, national and regional expertise in business spend management, procurement and expense management. They may refer customer prospects to us and assist us in selling to them. They also work with leading global systems integrators such as Accenture, Deloitte and KPMG, as well as boutique and regional consulting firms.',\n",
              " 'This agreement is between the implementation partners and the customer, whereby the customer will receive a subscription directly to the partner and the partner will sell its implementation services directly to the customer.']"
            ]
          },
          "metadata": {},
          "execution_count": 27
        }
      ]
    },
    {
      "cell_type": "markdown",
      "source": [
        "- As you can see, if we apply the summarization pipeline again to the 6 summaries that are formed, we will again have limitation by the 512 token. So we will divide these summarizations into two and last one run them through the summarization pipeline again to get the final summary."
      ],
      "metadata": {
        "id": "i0m4GUhQIr3Y"
      }
    },
    {
      "cell_type": "code",
      "source": [
        "len(final_sentences)"
      ],
      "metadata": {
        "colab": {
          "base_uri": "https://localhost:8080/"
        },
        "id": "JAraqJTJSH93",
        "outputId": "aa80494e-83ee-4f1c-dc54-30ead0cbfbf5"
      },
      "execution_count": null,
      "outputs": [
        {
          "output_type": "execute_result",
          "data": {
            "text/plain": [
              "6"
            ]
          },
          "metadata": {},
          "execution_count": 28
        }
      ]
    },
    {
      "cell_type": "code",
      "source": [
        "for i in final_sentences:\n",
        "  print(i)"
      ],
      "metadata": {
        "colab": {
          "base_uri": "https://localhost:8080/"
        },
        "id": "N4in293TSJkB",
        "outputId": "e24c013c-601e-4224-873f-1b54e8a9ae48"
      },
      "execution_count": null,
      "outputs": [
        {
          "output_type": "stream",
          "name": "stdout",
          "text": [
            "This community intelligence capability extends across the Coupa platform, providing Coupa customers with prescriptive recommendations to optimize their spend decisions, improve operational efficiency, and reduce risk. It also provides Coupa customers with access to a cloud-based model, enabling better visibility into spend, and a strong supplier adoption.\n",
            "This company is a software company that is able to stay agile and adapt to changes in operating and regulatory environments with its easily configurable platform. It also has the ability to increase compliance with governmental regulations through greater auditability, documentation and control of spending activity. It also has the ability to collect data on historical activity and leverage the insights to help populate requests and minimize data entry. It also participates in the Coupa Open Business Network, which allows suppliers to display their information and catalog of products and services on our platform for existing and prospective customers. It also has the ability to eliminate manual processes and efficiency improvements through electronic invoicing and streamlined procurement and payment processes. Finally, it has the ability to sell its software applications through its direct sales organization and its partner program, Coupa Partner Connect.\n",
            "This legal agreement outlines the marketing programs that ConnXus has in place to generate customer leads, accelerate sales opportunities, and build brand awareness through marketing programs. It also outlines the development of an ideal customer profile, programming account-based marketing, territory development representatives, participation in and sponsorship of user conferences, executive events, trade shows, and industry events, integrated marketing campaigns, and use of ConnXus' website to provide application and company information.\n",
            "This purchase consideration was approximately $10.0 million in cash, of which approximately $1.4 million is being held in escrow for eighteen months after the transaction closing date. In June 2020, we acquired all of the equity interest in Bellin Treasury International GmbH, a cloud-based treasury management software platform that improves visibility and control over cash and optimizes treasury processes. In September 2020, we acquired all of the equity interest in Much-Net GmbH, a financial instrument software and service provider that specializes in risk management. In November 2020, we completed the acquisition of Laurel Parent Holdings, Inc. and its subsidiaries, a supply chain design and analysis software and solutions company. In connection with the acquisition, we issued approximately 2.4 million shares of our common stock and paid aggregate cash of approximately $791.5 million.\n",
            "This legal agreement outlines the acquisition of Pana Industries, Inc. in February 2021. It includes the acquisition of 23822 shares of common stock, as well as the development of an ecosystem of partners to extend sales capabilities and coverage, broaden and complement applications, and provide a broad array of services outside of their primary areas of focus. The referral partners provide global, national and regional expertise in business spend management, procurement and expense management. They may refer customer prospects to us and assist us in selling to them. They also work with leading global systems integrators such as Accenture, Deloitte and KPMG, as well as boutique and regional consulting firms.\n",
            "This agreement is between the implementation partners and the customer, whereby the customer will receive a subscription directly to the partner and the partner will sell its implementation services directly to the customer.\n"
          ]
        }
      ]
    },
    {
      "cell_type": "code",
      "source": [
        "def summa(final_sentences, groupcount=2):\n",
        "    groups = [\"\".join(map(str, final_sentences[i:i+groupcount])) for i in range(0, len(final_sentences), groupcount)]\n",
        "    for group in groups:\n",
        "        print(group)\n",
        "    return groups\n",
        "\n",
        "while len(final_sentences) > 1:\n",
        "    print(\"The Number of Sentences:\", len(final_sentences))\n",
        "    print()\n",
        "    final_sentences = summa(final_sentences, groupcount=2)\n",
        "    print(\"Number of Sentences After Grouping:\", len(final_sentences))\n",
        "\n",
        "    final_summary = light_model.annotate(final_sentences)\n",
        "    final_sentences = [final_summary[i][\"summary\"] for i in range(len(final_sentences))]\n",
        "    print()\n",
        "    print(\"Number of Sentences After Annotate:\", len(final_sentences))\n",
        "    print()\n",
        "    print(\"<<< SUMMARY of the SENTENCES >>>\\n\", final_sentences)\n",
        "    print()\n",
        "    print(\"<>\" * 50)\n",
        "\n",
        "if len(final_sentences) == 1:\n",
        "    final_summary = light_model.annotate(final_sentences[0])\n",
        "    print(\"The final summary of the long thesis inserted into the Pipeline.\")\n",
        "    print(\"<>\" * 50)\n",
        "    print(final_summary[0][\"summary\"])\n"
      ],
      "metadata": {
        "colab": {
          "base_uri": "https://localhost:8080/"
        },
        "id": "ARDn-H_Mzgde",
        "outputId": "e7e84592-6911-47bc-dc74-e8444dbbaf5e"
      },
      "execution_count": null,
      "outputs": [
        {
          "output_type": "stream",
          "name": "stdout",
          "text": [
            "The Number of Sentences: 6\n",
            "\n",
            "This community intelligence capability extends across the Coupa platform, providing Coupa customers with prescriptive recommendations to optimize their spend decisions, improve operational efficiency, and reduce risk. It also provides Coupa customers with access to a cloud-based model, enabling better visibility into spend, and a strong supplier adoption.This company is a software company that is able to stay agile and adapt to changes in operating and regulatory environments with its easily configurable platform. It also has the ability to increase compliance with governmental regulations through greater auditability, documentation and control of spending activity. It also has the ability to collect data on historical activity and leverage the insights to help populate requests and minimize data entry. It also participates in the Coupa Open Business Network, which allows suppliers to display their information and catalog of products and services on our platform for existing and prospective customers. It also has the ability to eliminate manual processes and efficiency improvements through electronic invoicing and streamlined procurement and payment processes. Finally, it has the ability to sell its software applications through its direct sales organization and its partner program, Coupa Partner Connect.\n",
            "This legal agreement outlines the marketing programs that ConnXus has in place to generate customer leads, accelerate sales opportunities, and build brand awareness through marketing programs. It also outlines the development of an ideal customer profile, programming account-based marketing, territory development representatives, participation in and sponsorship of user conferences, executive events, trade shows, and industry events, integrated marketing campaigns, and use of ConnXus' website to provide application and company information.This purchase consideration was approximately $10.0 million in cash, of which approximately $1.4 million is being held in escrow for eighteen months after the transaction closing date. In June 2020, we acquired all of the equity interest in Bellin Treasury International GmbH, a cloud-based treasury management software platform that improves visibility and control over cash and optimizes treasury processes. In September 2020, we acquired all of the equity interest in Much-Net GmbH, a financial instrument software and service provider that specializes in risk management. In November 2020, we completed the acquisition of Laurel Parent Holdings, Inc. and its subsidiaries, a supply chain design and analysis software and solutions company. In connection with the acquisition, we issued approximately 2.4 million shares of our common stock and paid aggregate cash of approximately $791.5 million.\n",
            "This legal agreement outlines the acquisition of Pana Industries, Inc. in February 2021. It includes the acquisition of 23822 shares of common stock, as well as the development of an ecosystem of partners to extend sales capabilities and coverage, broaden and complement applications, and provide a broad array of services outside of their primary areas of focus. The referral partners provide global, national and regional expertise in business spend management, procurement and expense management. They may refer customer prospects to us and assist us in selling to them. They also work with leading global systems integrators such as Accenture, Deloitte and KPMG, as well as boutique and regional consulting firms.This agreement is between the implementation partners and the customer, whereby the customer will receive a subscription directly to the partner and the partner will sell its implementation services directly to the customer.\n",
            "Number of Sentences After Grouping: 3\n",
            "\n",
            "Number of Sentences After Annotate: 3\n",
            "\n",
            "<<< SUMMARY of the SENTENCES >>>\n",
            " [['This community intelligence capability extends across the Coupa platform, providing Coupa customers with prescriptive recommendations to optimize their spend decisions, improve operational efficiency, and reduce risk. It also provides Coupa customers with access to a cloud-based model, enabling better visibility into spend, and a strong supplier adoption. It is a software company that is able to stay agile and adapt to changes in operating and regulatory environments with its easily configurable platform, and has the ability to increase compliance with governmental regulations through greater auditability, documentation, and control of spending activity. It also participates in the Coupa Open Business Network, which allows suppliers to display their information and catalog of products and services on our platform for existing and prospective customers. Finally, it has the ability to sell its software applications through its direct sales organization and its partner program, Coupa Partner Connect.'], [\"This legal agreement outlines the marketing programs ConnXus has in place to generate customer leads, accelerate sales opportunities, and build brand awareness through marketing programs. It also outlines the development of an ideal customer profile, programming account-based marketing, territory development representatives, participation in and sponsorship of user conferences, executive events, trade shows, and industry events, integrated marketing campaigns, and use of ConnXus' website to provide application and company information. In June 2020, ConnXus acquired all of the equity interest in Bellin Treasury International GmbH, a cloud-based treasury management software platform that improves visibility and control over cash and optimizes treasury processes. In September 2020, ConnXus acquired all of the equity interest in Much-Net GmbH, a financial instrument software and service provider that specializes in risk management. In November 2020, ConnXus completed the acquisition of Laurel Parent Holdings, Inc. and its subsidiaries. In connection with the acquisition, ConnXus issued approximately 2.4 million shares of its common stock and paid aggregate cash of approximately $791.5 million.\"], ['This legal agreement outlines the acquisition of Pana Industries, Inc. in February 2021, including the acquisition of 23822 shares of common stock, as well as the development of an ecosystem of partners to extend sales capabilities and coverage, broaden and complement applications, and provide a broad array of services outside of their primary areas of focus. The referral partners provide global, national and regional expertise in business spend management, procurement and expense management, and may refer customer prospects to us and assist us in selling to them. They also work with leading global systems integrators such as Accenture, Deloitte and KPMG, as well as boutique and regional consulting firms. This agreement is between the implementation partners and the customer, whereby the customer will receive a subscription directly to the partner and the partner will sell its implementation services directly to the customer.']]\n",
            "\n",
            "<><><><><><><><><><><><><><><><><><><><><><><><><><><><><><><><><><><><><><><><><><><><><><><><><><>\n",
            "The Number of Sentences: 3\n",
            "\n",
            "['This community intelligence capability extends across the Coupa platform, providing Coupa customers with prescriptive recommendations to optimize their spend decisions, improve operational efficiency, and reduce risk. It also provides Coupa customers with access to a cloud-based model, enabling better visibility into spend, and a strong supplier adoption. It is a software company that is able to stay agile and adapt to changes in operating and regulatory environments with its easily configurable platform, and has the ability to increase compliance with governmental regulations through greater auditability, documentation, and control of spending activity. It also participates in the Coupa Open Business Network, which allows suppliers to display their information and catalog of products and services on our platform for existing and prospective customers. Finally, it has the ability to sell its software applications through its direct sales organization and its partner program, Coupa Partner Connect.'][\"This legal agreement outlines the marketing programs ConnXus has in place to generate customer leads, accelerate sales opportunities, and build brand awareness through marketing programs. It also outlines the development of an ideal customer profile, programming account-based marketing, territory development representatives, participation in and sponsorship of user conferences, executive events, trade shows, and industry events, integrated marketing campaigns, and use of ConnXus' website to provide application and company information. In June 2020, ConnXus acquired all of the equity interest in Bellin Treasury International GmbH, a cloud-based treasury management software platform that improves visibility and control over cash and optimizes treasury processes. In September 2020, ConnXus acquired all of the equity interest in Much-Net GmbH, a financial instrument software and service provider that specializes in risk management. In November 2020, ConnXus completed the acquisition of Laurel Parent Holdings, Inc. and its subsidiaries. In connection with the acquisition, ConnXus issued approximately 2.4 million shares of its common stock and paid aggregate cash of approximately $791.5 million.\"]\n",
            "['This legal agreement outlines the acquisition of Pana Industries, Inc. in February 2021, including the acquisition of 23822 shares of common stock, as well as the development of an ecosystem of partners to extend sales capabilities and coverage, broaden and complement applications, and provide a broad array of services outside of their primary areas of focus. The referral partners provide global, national and regional expertise in business spend management, procurement and expense management, and may refer customer prospects to us and assist us in selling to them. They also work with leading global systems integrators such as Accenture, Deloitte and KPMG, as well as boutique and regional consulting firms. This agreement is between the implementation partners and the customer, whereby the customer will receive a subscription directly to the partner and the partner will sell its implementation services directly to the customer.']\n",
            "Number of Sentences After Grouping: 2\n",
            "\n",
            "Number of Sentences After Annotate: 2\n",
            "\n",
            "<<< SUMMARY of the SENTENCES >>>\n",
            " [['This community intelligence capability extends across the Coupa platform, providing Coupa customers with prescriptive recommendations to optimize their spend decisions, improve operational efficiency, and reduce risk. It also provides Coupa customers with access to a cloud-based model, enabling better visibility into spend, and a strong supplier adoption. It is a software company that is able to stay agile and adapt to changes in operating and regulatory environments with its easily configurable platform, and has the ability to increase compliance with governmental regulations through greater auditability, documentation, and control of spending activity. It also participates in the Coupa Open Business Network, which allows suppliers to display their information and catalog of products and services on its platform for existing and prospective customers. Finally, it has the ability to sell its software applications through its direct sales organization and its partner program, Coupa Partner Connect. This legal agreement outlines the marketing programs ConnXus has in place to generate customer leads, accelerate sales opportunities, and build brand awareness through marketing programs. In June 2020, ConnXus acquired all of the equity interest in Bellin Treasury International GmbH, a cloud-based treasury management software platform that improves visibility and control over cash and optimizes treasury processes. In September 2020, ConnXus acquired all of the equity interest in Much-Net GmbH, a financial instrument software and service provider that specializes in risk management. In November 2020, ConnXus completed the acquisition of Laurel Parent Holdings, Inc. and its subsidiaries. In connection with the acquisition, ConnXus issued approximately 2.4 million shares of its common stock and paid aggregate cash of approximately $791.5 million.'], ['This legal agreement outlines the acquisition of Pana Industries, Inc. in February 2021, including the acquisition of 23822 shares of common stock, as well as the development of an ecosystem of partners to extend sales capabilities and coverage, broaden and complement applications, and provide a broad array of services outside of their primary areas of focus. The referral partners provide global, national and regional expertise in business spend management, procurement and expense management, and may refer customer prospects to us and assist us in selling to them. They also work with leading global systems integrators such as Accenture, Deloitte and KPMG, as well as boutique and regional consulting firms. This agreement is between the implementation partners and the customer, whereby the customer will receive a subscription directly to the partner and the partner will sell its implementation services directly to the customer.']]\n",
            "\n",
            "<><><><><><><><><><><><><><><><><><><><><><><><><><><><><><><><><><><><><><><><><><><><><><><><><><>\n",
            "The Number of Sentences: 2\n",
            "\n",
            "['This community intelligence capability extends across the Coupa platform, providing Coupa customers with prescriptive recommendations to optimize their spend decisions, improve operational efficiency, and reduce risk. It also provides Coupa customers with access to a cloud-based model, enabling better visibility into spend, and a strong supplier adoption. It is a software company that is able to stay agile and adapt to changes in operating and regulatory environments with its easily configurable platform, and has the ability to increase compliance with governmental regulations through greater auditability, documentation, and control of spending activity. It also participates in the Coupa Open Business Network, which allows suppliers to display their information and catalog of products and services on its platform for existing and prospective customers. Finally, it has the ability to sell its software applications through its direct sales organization and its partner program, Coupa Partner Connect. This legal agreement outlines the marketing programs ConnXus has in place to generate customer leads, accelerate sales opportunities, and build brand awareness through marketing programs. In June 2020, ConnXus acquired all of the equity interest in Bellin Treasury International GmbH, a cloud-based treasury management software platform that improves visibility and control over cash and optimizes treasury processes. In September 2020, ConnXus acquired all of the equity interest in Much-Net GmbH, a financial instrument software and service provider that specializes in risk management. In November 2020, ConnXus completed the acquisition of Laurel Parent Holdings, Inc. and its subsidiaries. In connection with the acquisition, ConnXus issued approximately 2.4 million shares of its common stock and paid aggregate cash of approximately $791.5 million.']['This legal agreement outlines the acquisition of Pana Industries, Inc. in February 2021, including the acquisition of 23822 shares of common stock, as well as the development of an ecosystem of partners to extend sales capabilities and coverage, broaden and complement applications, and provide a broad array of services outside of their primary areas of focus. The referral partners provide global, national and regional expertise in business spend management, procurement and expense management, and may refer customer prospects to us and assist us in selling to them. They also work with leading global systems integrators such as Accenture, Deloitte and KPMG, as well as boutique and regional consulting firms. This agreement is between the implementation partners and the customer, whereby the customer will receive a subscription directly to the partner and the partner will sell its implementation services directly to the customer.']\n",
            "Number of Sentences After Grouping: 1\n",
            "\n",
            "Number of Sentences After Annotate: 1\n",
            "\n",
            "<<< SUMMARY of the SENTENCES >>>\n",
            " [['This legal agreement outlines the marketing programs ConnXus has in place to generate customer leads, accelerate sales opportunities, and build brand awareness through marketing programs. ConnXus also acquired all of the equity interest in Bellin Treasury International GmbH, a cloud-based treasury management software platform, and Laurel Parent Holdings, Inc. in June 2020. ConnXus also acquired all of the equity interest in Much-Net GmbH, a financial instrument software and service provider that specializes in risk management. ConnXus also completed the acquisition of Laurel Parent Holdings, Inc. and its subsidiaries in November 2020. ConnXus also acquired 23822 shares of common stock, as well as the development of an ecosystem of partners to extend sales capabilities and coverage, broaden and complement applications, and provide a broad array of services outside of their primary areas of focus.']]\n",
            "\n",
            "<><><><><><><><><><><><><><><><><><><><><><><><><><><><><><><><><><><><><><><><><><><><><><><><><><>\n",
            "The final summary of the long thesis inserted into the Pipeline.\n",
            "<><><><><><><><><><><><><><><><><><><><><><><><><><><><><><><><><><><><><><><><><><><><><><><><><><>\n",
            "['This legal agreement outlines the marketing programs ConnXus has in place to generate customer leads, accelerate sales opportunities, and build brand awareness through marketing programs. ConnXus also acquired all of the equity interest in Bellin Treasury International GmbH, Laurel Parent Holdings, Inc. in June 2020, and Much-Net GmbH in November 2020. ConnXus also completed the acquisition of Laurel Parent Holdings, Inc. and its subsidiaries in November 2020. ConnXus also acquired 23822 shares of common stock, as well as the development of an ecosystem of partners to extend sales capabilities and coverage, broaden and complement applications, and provide a broad array of services outside of their primary areas of focus.']\n"
          ]
        }
      ]
    },
    {
      "cell_type": "code",
      "source": [],
      "metadata": {
        "id": "dOzq2X9Azg9S"
      },
      "execution_count": null,
      "outputs": []
    }
  ],
  "metadata": {
    "colab": {
      "provenance": [],
      "toc_visible": true,
      "machine_shape": "hm"
    },
    "gpuClass": "standard",
    "kernelspec": {
      "display_name": "tf-gpu",
      "language": "python",
      "name": "python3"
    },
    "language_info": {
      "codemirror_mode": {
        "name": "ipython",
        "version": 3
      },
      "file_extension": ".py",
      "mimetype": "text/x-python",
      "name": "python",
      "nbconvert_exporter": "python",
      "pygments_lexer": "ipython3",
      "version": "3.9.7 (default, Sep 16 2021, 16:59:28) [MSC v.1916 64 bit (AMD64)]"
    },
    "vscode": {
      "interpreter": {
        "hash": "3f47d918ae832c68584484921185f5c85a1760864bf927a683dc6fb56366cc77"
      }
    },
    "accelerator": "GPU"
  },
  "nbformat": 4,
  "nbformat_minor": 0
}
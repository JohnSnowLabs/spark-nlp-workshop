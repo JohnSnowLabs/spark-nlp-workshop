{
  "cells": [
    {
      "cell_type": "markdown",
      "id": "b7f2c545-14d6-41da-a4cc-0dc8a6ea3180",
      "metadata": {
        "id": "b7f2c545-14d6-41da-a4cc-0dc8a6ea3180"
      },
      "source": [
        "![JohnSnowLabs](https://nlp.johnsnowlabs.com/assets/images/logo.png)"
      ]
    },
    {
      "cell_type": "markdown",
      "id": "21e9eafb",
      "metadata": {
        "id": "21e9eafb"
      },
      "source": [
        "[![Open In Colab](https://colab.research.google.com/assets/colab-badge.svg)](https://colab.research.google.com/github/JohnSnowLabs/spark-nlp-workshop/blob/master/funance-nlp/11.Deidentification.ipynb)"
      ]
    },
    {
      "cell_type": "markdown",
      "id": "fb2ac5e3-fe7c-4431-bb24-3c48649be54b",
      "metadata": {
        "id": "fb2ac5e3-fe7c-4431-bb24-3c48649be54b"
      },
      "source": [
        "# Financial Deidentification"
      ]
    },
    {
      "cell_type": "markdown",
      "id": "gk3kZHmNj51v",
      "metadata": {
        "collapsed": false,
        "id": "gk3kZHmNj51v"
      },
      "source": [
        "# Installation"
      ]
    },
    {
      "cell_type": "code",
      "execution_count": 1,
      "id": "_914itZsj51v",
      "metadata": {
        "id": "_914itZsj51v",
        "pycharm": {
          "is_executing": true
        },
        "outputId": "aa6bf32b-9d7c-4d96-800d-3879e144fcf7",
        "colab": {
          "base_uri": "https://localhost:8080/"
        }
      },
      "outputs": [
        {
          "output_type": "stream",
          "name": "stdout",
          "text": [
            "\u001b[2K     \u001b[90m━━━━━━━━━━━━━━━━━━━━━━━━━━━━━━━━━━━━━━━━\u001b[0m \u001b[32m74.8/74.8 KB\u001b[0m \u001b[31m1.8 MB/s\u001b[0m eta \u001b[36m0:00:00\u001b[0m\n",
            "\u001b[2K     \u001b[90m━━━━━━━━━━━━━━━━━━━━━━━━━━━━━━━━━━━━━━\u001b[0m \u001b[32m469.5/469.5 KB\u001b[0m \u001b[31m16.3 MB/s\u001b[0m eta \u001b[36m0:00:00\u001b[0m\n",
            "\u001b[2K     \u001b[90m━━━━━━━━━━━━━━━━━━━━━━━━━━━━━━━━━━━━━━━\u001b[0m \u001b[32m212.4/212.4 MB\u001b[0m \u001b[31m8.2 MB/s\u001b[0m eta \u001b[36m0:00:00\u001b[0m\n",
            "\u001b[?25h  Preparing metadata (setup.py) ... \u001b[?25l\u001b[?25hdone\n",
            "\u001b[2K     \u001b[90m━━━━━━━━━━━━━━━━━━━━━━━━━━━━━━━━━━━━━━━━\u001b[0m \u001b[32m95.4/95.4 KB\u001b[0m \u001b[31m12.7 MB/s\u001b[0m eta \u001b[36m0:00:00\u001b[0m\n",
            "\u001b[2K     \u001b[90m━━━━━━━━━━━━━━━━━━━━━━━━━━━━━━━━━━━━━━\u001b[0m \u001b[32m570.6/570.6 KB\u001b[0m \u001b[31m38.0 MB/s\u001b[0m eta \u001b[36m0:00:00\u001b[0m\n",
            "\u001b[2K     \u001b[90m━━━━━━━━━━━━━━━━━━━━━━━━━━━━━━━━━━━━━━\u001b[0m \u001b[32m198.6/198.6 KB\u001b[0m \u001b[31m20.6 MB/s\u001b[0m eta \u001b[36m0:00:00\u001b[0m\n",
            "\u001b[2K     \u001b[90m━━━━━━━━━━━━━━━━━━━━━━━━━━━━━━━━━━━━━━━━\u001b[0m \u001b[32m66.9/66.9 KB\u001b[0m \u001b[31m7.3 MB/s\u001b[0m eta \u001b[36m0:00:00\u001b[0m\n",
            "\u001b[2K     \u001b[90m━━━━━━━━━━━━━━━━━━━━━━━━━━━━━━━━━━━━━━━━\u001b[0m \u001b[32m82.3/82.3 KB\u001b[0m \u001b[31m10.7 MB/s\u001b[0m eta \u001b[36m0:00:00\u001b[0m\n",
            "\u001b[?25h  Preparing metadata (setup.py) ... \u001b[?25l\u001b[?25hdone\n",
            "\u001b[2K     \u001b[90m━━━━━━━━━━━━━━━━━━━━━━━━━━━━━━━━━━━━━━━━\u001b[0m \u001b[32m1.6/1.6 MB\u001b[0m \u001b[31m77.4 MB/s\u001b[0m eta \u001b[36m0:00:00\u001b[0m\n",
            "\u001b[?25h  Building wheel for pyspark (setup.py) ... \u001b[?25l\u001b[?25hdone\n",
            "  Building wheel for databricks-cli (setup.py) ... \u001b[?25l\u001b[?25hdone\n"
          ]
        }
      ],
      "source": [
        "! pip install -q johnsnowlabs"
      ]
    },
    {
      "cell_type": "markdown",
      "id": "YPsbAnNoPt0Z",
      "metadata": {
        "id": "YPsbAnNoPt0Z"
      },
      "source": [
        "## Automatic Installation\n",
        "Using my.johnsnowlabs.com SSO"
      ]
    },
    {
      "cell_type": "code",
      "execution_count": 3,
      "id": "fY0lcShkj51w",
      "metadata": {
        "id": "fY0lcShkj51w",
        "pycharm": {
          "is_executing": true
        },
        "outputId": "757cad82-2508-4043-e217-0fa8f590c856",
        "colab": {
          "base_uri": "https://localhost:8080/",
          "height": 251
        }
      },
      "outputs": [
        {
          "output_type": "display_data",
          "data": {
            "text/plain": [
              "<IPython.core.display.Javascript object>"
            ],
            "application/javascript": [
              "\n",
              "        var a = document.createElement(\"a\");\n",
              "        a.id=\"auth-btn\"\n",
              "        a.setAttribute(\"target\", \"_blank\");\n",
              "        a.href=\"https://my.johnsnowlabs.com/oauth/authorize/?client_id=2hfGX0iZ5lvyxvLaK3IEzS9Bc9LGfTYCwVvKFfjY&response_type=code&code_challenge_method=S256&code_challenge=wU4DGH-cL3Itb8nKUpM2mJFtV9HV_oHS613_c2slOpw&redirect_uri=https%3A%2F%2Ff9ecn1vyo56-496ff2e9c6d22116-8000-colab.googleusercontent.com%2Flogin\";\n",
              "        a.style=\"padding:15px 20px;background-color:#0298d9;border-radius:7px;color:white;text-decoration:none;\"\n",
              "        a.innerText=\"Click here to Authorize on My.Johnsnowlabs.com\"\n",
              "        document.body.appendChild(a);\n",
              "        document.body.style = \"text-align:center;padding-top:15px;\"\n",
              "        a.click()\n",
              "      "
            ]
          },
          "metadata": {}
        },
        {
          "output_type": "stream",
          "name": "stderr",
          "text": [
            "127.0.0.1 - - [27/Feb/2023 14:59:11] \"GET /login?code=hnWuzeDhxJabFebPzlwSraEMyoIkl2 HTTP/1.1\" 200 -\n"
          ]
        },
        {
          "output_type": "display_data",
          "data": {
            "text/plain": [
              "<IPython.core.display.Javascript object>"
            ],
            "application/javascript": [
              "document.body.removeChild(a);"
            ]
          },
          "metadata": {}
        },
        {
          "output_type": "stream",
          "name": "stdout",
          "text": [
            "Downloading license...\n",
            "Licenses extracted successfully\n",
            "📋 Stored John Snow Labs License in /root/.johnsnowlabs/licenses/license_number_0_for_Spark-Healthcare_Spark-OCR.json\n",
            "👷 Setting up  John Snow Labs home in /root/.johnsnowlabs, this might take a few minutes.\n",
            "Downloading 🐍+🚀 Python Library spark_nlp-4.3.0-py2.py3-none-any.whl\n",
            "Downloading 🐍+💊 Python Library spark_nlp_jsl-4.3.0-py3-none-any.whl\n",
            "Downloading 🫘+🚀 Java Library spark-nlp-assembly-4.3.0.jar\n",
            "Downloading 🫘+💊 Java Library spark-nlp-jsl-4.3.0.jar\n",
            "🙆 JSL Home setup in /root/.johnsnowlabs\n",
            "Installing /root/.johnsnowlabs/py_installs/spark_nlp_jsl-4.3.0-py3-none-any.whl to /usr/bin/python3\n",
            "Installed 1 products:\n",
            "💊 Spark-Healthcare==4.3.0 installed! ✅ Heal the planet with NLP! \n"
          ]
        }
      ],
      "source": [
        "from johnsnowlabs import nlp, finance\n",
        "\n",
        "# nlp.install(force_browser=True)"
      ]
    },
    {
      "cell_type": "markdown",
      "id": "hsJvn_WWM2GL",
      "metadata": {
        "id": "hsJvn_WWM2GL"
      },
      "source": [
        "## Manual downloading\n",
        "If you are not registered in my.johnsnowlabs.com, you received a license via e-email or you are using Safari, you may need to do a manual update of the license.\n",
        "\n",
        "- Go to my.johnsnowlabs.com\n",
        "- Download your license\n",
        "- Upload it using the following command"
      ]
    },
    {
      "cell_type": "code",
      "execution_count": null,
      "id": "i57QV3-_P2sQ",
      "metadata": {
        "id": "i57QV3-_P2sQ"
      },
      "outputs": [],
      "source": [
        "from google.colab import files\n",
        "print('Please Upload your John Snow Labs License using the button below')\n",
        "license_keys = files.upload()"
      ]
    },
    {
      "cell_type": "markdown",
      "id": "xGgNdFzZP_hQ",
      "metadata": {
        "id": "xGgNdFzZP_hQ"
      },
      "source": [
        "- Install it"
      ]
    },
    {
      "cell_type": "code",
      "execution_count": null,
      "id": "OfmmPqknP4rR",
      "metadata": {
        "id": "OfmmPqknP4rR"
      },
      "outputs": [],
      "source": [
        "nlp.install()"
      ]
    },
    {
      "cell_type": "markdown",
      "id": "DCl5ErZkNNLk",
      "metadata": {
        "id": "DCl5ErZkNNLk"
      },
      "source": [
        "# Starting"
      ]
    },
    {
      "cell_type": "code",
      "execution_count": 4,
      "id": "wRXTnNl3j51w",
      "metadata": {
        "id": "wRXTnNl3j51w",
        "colab": {
          "base_uri": "https://localhost:8080/"
        },
        "outputId": "3262d039-fccf-41fa-ee45-1ede5b87f341"
      },
      "outputs": [
        {
          "output_type": "stream",
          "name": "stdout",
          "text": [
            "👌 Launched \u001b[92mcpu optimized\u001b[39m session with with: 🚀Spark-NLP==4.3.0, 💊Spark-Healthcare==4.3.0, running on ⚡ PySpark==3.1.2\n"
          ]
        }
      ],
      "source": [
        "spark = nlp.start()"
      ]
    },
    {
      "cell_type": "markdown",
      "id": "3c5c1990-1e00-4141-8825-5e9e75d402ad",
      "metadata": {
        "id": "3c5c1990-1e00-4141-8825-5e9e75d402ad"
      },
      "source": [
        "# Deidentification Model"
      ]
    },
    {
      "cell_type": "markdown",
      "id": "124c01da-b9a9-4327-a46b-f09d1d89d893",
      "metadata": {
        "id": "124c01da-b9a9-4327-a46b-f09d1d89d893"
      },
      "source": [
        "Some legal information can be considered sensitive. (e.g.,document, organization, address, signer)"
      ]
    },
    {
      "cell_type": "code",
      "execution_count": 11,
      "id": "fc92df9a-8ede-4db3-80b9-be1e713f45d6",
      "metadata": {
        "colab": {
          "base_uri": "https://localhost:8080/"
        },
        "id": "fc92df9a-8ede-4db3-80b9-be1e713f45d6",
        "outputId": "96709d12-bb25-459d-a33f-bb35bf7f646d"
      },
      "outputs": [
        {
          "output_type": "stream",
          "name": "stdout",
          "text": [
            "bert_embeddings_sec_bert_base download started this may take some time.\n",
            "Approximate size to download 390.4 MB\n",
            "[OK!]\n",
            "finner_sec_10k_summary download started this may take some time.\n",
            "[OK!]\n"
          ]
        }
      ],
      "source": [
        "documentAssembler = nlp.DocumentAssembler()\\\n",
        "    .setInputCol(\"text\")\\\n",
        "    .setOutputCol(\"document\")\n",
        "\n",
        "sentenceDetector = nlp.SentenceDetector()\\\n",
        "    .setInputCols([\"document\"])\\\n",
        "    .setOutputCol(\"sentence\")\n",
        "\n",
        "tokenizer = nlp.Tokenizer()\\\n",
        "    .setInputCols([\"sentence\"])\\\n",
        "    .setOutputCol(\"token\")\n",
        "\n",
        "embeddings = nlp.BertEmbeddings.pretrained(\"bert_embeddings_sec_bert_base\",\"en\")\\\n",
        "    .setInputCols([\"sentence\", \"token\"])\\\n",
        "    .setOutputCol(\"embeddings\")\n",
        "\n",
        "ner_model = finance.NerModel.pretrained('finner_sec_10k_summary', 'en', 'finance/models')\\\n",
        "    .setInputCols([\"sentence\", \"token\", \"embeddings\"])\\\n",
        "    .setOutputCol(\"ner\")\n",
        "\n",
        "ner_converter = finance.NerConverterInternal() \\\n",
        "    .setInputCols([\"sentence\", \"token\", \"ner\"])\\\n",
        "    .setOutputCol(\"ner_chunk\")\n",
        "\n",
        "nlpPipeline = nlp.Pipeline(stages=[\n",
        "      documentAssembler, \n",
        "      sentenceDetector,\n",
        "      tokenizer,\n",
        "      embeddings,\n",
        "      ner_model,\n",
        "      ner_converter])\n",
        "\n",
        "empty_data = spark.createDataFrame([[\"\"]]).toDF(\"text\")\n",
        "\n",
        "model = nlpPipeline.fit(empty_data)"
      ]
    },
    {
      "cell_type": "markdown",
      "id": "3ddb9087-f3d2-4b14-89ad-507e3910e889",
      "metadata": {
        "id": "3ddb9087-f3d2-4b14-89ad-507e3910e889"
      },
      "source": [
        "### Pretrained NER models extracts..."
      ]
    },
    {
      "cell_type": "code",
      "execution_count": 12,
      "id": "f594290b-6ea9-47a2-9515-76faed5ab63c",
      "metadata": {
        "colab": {
          "base_uri": "https://localhost:8080/"
        },
        "id": "f594290b-6ea9-47a2-9515-76faed5ab63c",
        "outputId": "c5f590ec-eb55-4853-81ee-98df06ff0a24"
      },
      "outputs": [
        {
          "output_type": "execute_result",
          "data": {
            "text/plain": [
              "['O',\n",
              " 'I-ADDRESS',\n",
              " 'B-FISCAL_YEAR',\n",
              " 'I-FISCAL_YEAR',\n",
              " 'B-TICKER',\n",
              " 'I-TITLE_CLASS_VALUE',\n",
              " 'B-TITLE_CLASS',\n",
              " 'I-TITLE_CLASS',\n",
              " 'B-ADDRESS',\n",
              " 'B-ORG',\n",
              " 'B-CFN',\n",
              " 'I-ORG',\n",
              " 'B-PHONE',\n",
              " 'I-PHONE',\n",
              " 'I-STOCK_EXCHANGE',\n",
              " 'I-CFN',\n",
              " 'B-IRS',\n",
              " 'B-STATE',\n",
              " 'B-TITLE_CLASS_VALUE',\n",
              " 'B-STOCK_EXCHANGE']"
            ]
          },
          "metadata": {},
          "execution_count": 12
        }
      ],
      "source": [
        "ner_model.getClasses()"
      ]
    },
    {
      "cell_type": "code",
      "execution_count": 13,
      "id": "5f5fbf4b-ad6c-4042-8fff-4b6082aeed5c",
      "metadata": {
        "id": "5f5fbf4b-ad6c-4042-8fff-4b6082aeed5c"
      },
      "outputs": [],
      "source": [
        "text= \"\"\"\n",
        "Commission file number 000-15867 \n",
        "_____________________________________\n",
        " \n",
        "CADENCE DESIGN SYSTEMS, INC. \n",
        "(Exact name of registrant as specified in its charter)\n",
        "____________________________________ \n",
        "Delaware\n",
        " \n",
        "00-0000000\n",
        "(State or Other Jurisdiction ofIncorporation or Organization)\n",
        " \n",
        "(I.R.S. EmployerIdentification No.)\n",
        "2655 Seely Avenue, Building 5,\n",
        "San Jose,\n",
        "California\n",
        " \n",
        "95134\n",
        "(Address of Principal Executive Offices)\n",
        " \n",
        "(Zip Code)\n",
        "(408)\n",
        "-943-1234 \n",
        "(Registrant’s Telephone Number, including Area Code) \n",
        "Securities registered pursuant to Section 12(b) of the Act:\n",
        "Title of Each Class\n",
        "Trading Symbol(s)\n",
        "Names of Each Exchange on which Registered\n",
        "Common Stock, $0.01 par value per share\n",
        "CDNS\n",
        "Nasdaq Global Select Market\n",
        "Securities registered pursuant to Section 12(g) of the Act:\"\"\""
      ]
    },
    {
      "cell_type": "code",
      "execution_count": 14,
      "id": "7cd9d648-81ec-46fa-aa02-20506f0ba7dd",
      "metadata": {
        "id": "7cd9d648-81ec-46fa-aa02-20506f0ba7dd"
      },
      "outputs": [],
      "source": [
        "result = model.transform(spark.createDataFrame([[text]]).toDF(\"text\"))"
      ]
    },
    {
      "cell_type": "code",
      "execution_count": 15,
      "id": "3fa9c519-347f-4f63-8f32-b240526ab42e",
      "metadata": {
        "id": "3fa9c519-347f-4f63-8f32-b240526ab42e"
      },
      "outputs": [],
      "source": [
        "from pyspark.sql import functions as F\n",
        "\n",
        "result_df = result.select(F.explode(F.arrays_zip(result.token.result, \n",
        "                                                 result.ner.result)).alias(\"cols\")) \\\n",
        "                  .select(F.expr(\"cols['0']\").alias(\"token\"),\n",
        "                          F.expr(\"cols['1']\").alias(\"ner_label\"))"
      ]
    },
    {
      "cell_type": "code",
      "execution_count": 16,
      "id": "3df21455-9650-4d3d-8b11-8380a0883121",
      "metadata": {
        "colab": {
          "base_uri": "https://localhost:8080/"
        },
        "id": "3df21455-9650-4d3d-8b11-8380a0883121",
        "outputId": "8163961d-0acc-492c-a4ed-9ca8570e6af2"
      },
      "outputs": [
        {
          "output_type": "stream",
          "name": "stdout",
          "text": [
            "+-------------------+-----+\n",
            "|ner_label          |count|\n",
            "+-------------------+-----+\n",
            "|O                  |101  |\n",
            "|I-ADDRESS          |10   |\n",
            "|I-PHONE            |4    |\n",
            "|I-ORG              |4    |\n",
            "|I-STOCK_EXCHANGE   |3    |\n",
            "|B-ORG              |1    |\n",
            "|B-IRS              |1    |\n",
            "|B-STATE            |1    |\n",
            "|B-PHONE            |1    |\n",
            "|B-TICKER           |1    |\n",
            "|B-TITLE_CLASS_VALUE|1    |\n",
            "|I-TITLE_CLASS      |1    |\n",
            "|B-TITLE_CLASS      |1    |\n",
            "|B-ADDRESS          |1    |\n",
            "|B-CFN              |1    |\n",
            "|B-STOCK_EXCHANGE   |1    |\n",
            "+-------------------+-----+\n",
            "\n"
          ]
        }
      ],
      "source": [
        "result_df.select(\"token\", \"ner_label\").groupBy('ner_label').count().orderBy('count', ascending=False).show(truncate=False)"
      ]
    },
    {
      "cell_type": "markdown",
      "id": "ba982823-16d8-477d-9a47-d41d9087523d",
      "metadata": {
        "id": "ba982823-16d8-477d-9a47-d41d9087523d"
      },
      "source": [
        "### Check extracted sensitive entities"
      ]
    },
    {
      "cell_type": "code",
      "execution_count": 17,
      "id": "8e766d87-e1f2-49e3-afe2-f7d0d7703e6f",
      "metadata": {
        "colab": {
          "base_uri": "https://localhost:8080/"
        },
        "id": "8e766d87-e1f2-49e3-afe2-f7d0d7703e6f",
        "outputId": "624c782d-29ab-460c-b64a-4116b461fb34"
      },
      "outputs": [
        {
          "output_type": "stream",
          "name": "stdout",
          "text": [
            "+---------------------------------------------------+-----------------+\n",
            "|chunk                                              |ner_label        |\n",
            "+---------------------------------------------------+-----------------+\n",
            "|000-15867                                          |CFN              |\n",
            "|CADENCE DESIGN SYSTEMS, INC                        |ORG              |\n",
            "|Delaware                                           |STATE            |\n",
            "|00-0000000                                         |IRS              |\n",
            "|2655 Seely Avenue, Building 5,\n",
            "San Jose,\n",
            "California|ADDRESS          |\n",
            "|(408)\n",
            "-943-1234                                    |PHONE            |\n",
            "|Common Stock                                       |TITLE_CLASS      |\n",
            "|$0.01                                              |TITLE_CLASS_VALUE|\n",
            "|CDNS                                               |TICKER           |\n",
            "|Nasdaq Global Select Market                        |STOCK_EXCHANGE   |\n",
            "+---------------------------------------------------+-----------------+\n",
            "\n"
          ]
        }
      ],
      "source": [
        "result.select(F.explode(F.arrays_zip(result.ner_chunk.result, \n",
        "                                     result.ner_chunk.metadata)).alias(\"cols\")) \\\n",
        "      .select(F.expr(\"cols['0']\").alias(\"chunk\"),\n",
        "              F.expr(\"cols['1']['entity']\").alias(\"ner_label\")).show(truncate=False)"
      ]
    },
    {
      "cell_type": "markdown",
      "id": "7cccf04f-6630-4f8c-96af-f5b7e35c119d",
      "metadata": {
        "id": "7cccf04f-6630-4f8c-96af-f5b7e35c119d"
      },
      "source": [
        "## Masking and Obfuscation"
      ]
    },
    {
      "cell_type": "markdown",
      "id": "a4648bf0-9c6e-49b3-9080-7bb3551e1675",
      "metadata": {
        "id": "a4648bf0-9c6e-49b3-9080-7bb3551e1675"
      },
      "source": [
        "### Replace these enitites with Tags"
      ]
    },
    {
      "cell_type": "code",
      "execution_count": 18,
      "id": "fa7ac54e-46d5-4a9b-a74b-3859a283ac65",
      "metadata": {
        "id": "fa7ac54e-46d5-4a9b-a74b-3859a283ac65"
      },
      "outputs": [],
      "source": [
        "deidentification = finance.DeIdentification() \\\n",
        "      .setInputCols([\"sentence\", \"token\", \"ner_chunk\"]) \\\n",
        "      .setOutputCol(\"deidentified\") \\\n",
        "      .setMode(\"mask\")\\\n",
        "      .setReturnEntityMappings(True) #  return a new column to save the mappings between the mask/obfuscated entities and original entities. REquired for \"ReIdentification\"\n",
        "      #.setMappingsColumn(\"MappingCol\") # change the name of the column, 'aux' is default\n",
        "\n",
        "deidPipeline = nlp.Pipeline(stages=[\n",
        "      documentAssembler, \n",
        "      sentenceDetector,\n",
        "      tokenizer,\n",
        "      embeddings,\n",
        "      ner_model,\n",
        "      ner_converter,\n",
        "      deidentification])\n",
        "\n",
        "empty_data = spark.createDataFrame([[\"\"]]).toDF(\"text\")\n",
        "\n",
        "model_deid = deidPipeline.fit(empty_data)"
      ]
    },
    {
      "cell_type": "code",
      "execution_count": 19,
      "id": "bf417b51-c6d0-44b3-ac80-43da90300247",
      "metadata": {
        "id": "bf417b51-c6d0-44b3-ac80-43da90300247"
      },
      "outputs": [],
      "source": [
        "result = model_deid.transform(spark.createDataFrame([[text]]).toDF(\"text\"))"
      ]
    },
    {
      "cell_type": "code",
      "execution_count": 20,
      "id": "3bf8f80c-4277-4302-8993-a0f88311b66f",
      "metadata": {
        "colab": {
          "base_uri": "https://localhost:8080/"
        },
        "id": "3bf8f80c-4277-4302-8993-a0f88311b66f",
        "outputId": "e91555b1-80b8-4f6d-9271-ea648d7925a7"
      },
      "outputs": [
        {
          "output_type": "stream",
          "name": "stdout",
          "text": [
            "+--------------------+--------------------+--------------------+--------------------+--------------------+--------------------+--------------------+--------------------+--------------------+\n",
            "|                text|            document|            sentence|               token|          embeddings|                 ner|           ner_chunk|        deidentified|                 aux|\n",
            "+--------------------+--------------------+--------------------+--------------------+--------------------+--------------------+--------------------+--------------------+--------------------+\n",
            "|\n",
            "Commission file ...|[{document, 0, 77...|[{document, 1, 10...|[{token, 1, 10, C...|[{word_embeddings...|[{named_entity, 1...|[{chunk, 24, 32, ...|[{document, 0, 75...|[{chunk, 23, 27, ...|\n",
            "+--------------------+--------------------+--------------------+--------------------+--------------------+--------------------+--------------------+--------------------+--------------------+\n",
            "\n"
          ]
        }
      ],
      "source": [
        "result.show()"
      ]
    },
    {
      "cell_type": "code",
      "source": [
        "reIdentification = finance.ReIdentification()\\\n",
        "    .setInputCols([\"aux\",\"deidentified\"])\\\n",
        "    .setOutputCol(\"original\")"
      ],
      "metadata": {
        "id": "n1J-VZN6cH41"
      },
      "id": "n1J-VZN6cH41",
      "execution_count": 21,
      "outputs": []
    },
    {
      "cell_type": "code",
      "source": [
        "reid_result = reIdentification.transform(result)"
      ],
      "metadata": {
        "id": "ofzMwi08cOoG"
      },
      "id": "ofzMwi08cOoG",
      "execution_count": 22,
      "outputs": []
    },
    {
      "cell_type": "code",
      "source": [
        "reid_result.show()"
      ],
      "metadata": {
        "colab": {
          "base_uri": "https://localhost:8080/"
        },
        "id": "AtvYEclecQw3",
        "outputId": "7c1645f6-7403-495b-a69c-e50b64471bc1"
      },
      "id": "AtvYEclecQw3",
      "execution_count": 23,
      "outputs": [
        {
          "output_type": "stream",
          "name": "stdout",
          "text": [
            "+--------------------+--------------------+--------------------+--------------------+--------------------+--------------------+--------------------+--------------------+--------------------+--------------------+\n",
            "|                text|            document|            sentence|               token|          embeddings|                 ner|           ner_chunk|        deidentified|                 aux|            original|\n",
            "+--------------------+--------------------+--------------------+--------------------+--------------------+--------------------+--------------------+--------------------+--------------------+--------------------+\n",
            "|\n",
            "Commission file ...|[{document, 0, 77...|[{document, 1, 10...|[{token, 1, 10, C...|[{word_embeddings...|[{named_entity, 1...|[{chunk, 24, 32, ...|[{document, 0, 75...|[{chunk, 23, 27, ...|[{document, 1, 10...|\n",
            "+--------------------+--------------------+--------------------+--------------------+--------------------+--------------------+--------------------+--------------------+--------------------+--------------------+\n",
            "\n"
          ]
        }
      ]
    },
    {
      "cell_type": "markdown",
      "source": [
        "# ReIdentification"
      ],
      "metadata": {
        "id": "JxgYEb-fg4SE"
      },
      "id": "JxgYEb-fg4SE"
    },
    {
      "cell_type": "code",
      "source": [
        "print(text)\n",
        "\n",
        "reid_result.select('original.result').show(truncate=False)"
      ],
      "metadata": {
        "colab": {
          "base_uri": "https://localhost:8080/"
        },
        "id": "CzV7G_HbcRF_",
        "outputId": "41522e25-d416-4ac3-fb4a-f622bcb81a1a"
      },
      "id": "CzV7G_HbcRF_",
      "execution_count": 24,
      "outputs": [
        {
          "output_type": "stream",
          "name": "stdout",
          "text": [
            "\n",
            "Commission file number 000-15867 \n",
            "_____________________________________\n",
            " \n",
            "CADENCE DESIGN SYSTEMS, INC. \n",
            "(Exact name of registrant as specified in its charter)\n",
            "____________________________________ \n",
            "Delaware\n",
            " \n",
            "00-0000000\n",
            "(State or Other Jurisdiction ofIncorporation or Organization)\n",
            " \n",
            "(I.R.S. EmployerIdentification No.)\n",
            "2655 Seely Avenue, Building 5,\n",
            "San Jose,\n",
            "California\n",
            " \n",
            "95134\n",
            "(Address of Principal Executive Offices)\n",
            " \n",
            "(Zip Code)\n",
            "(408)\n",
            "-943-1234 \n",
            "(Registrant’s Telephone Number, including Area Code) \n",
            "Securities registered pursuant to Section 12(b) of the Act:\n",
            "Title of Each Class\n",
            "Trading Symbol(s)\n",
            "Names of Each Exchange on which Registered\n",
            "Common Stock, $0.01 par value per share\n",
            "CDNS\n",
            "Nasdaq Global Select Market\n",
            "Securities registered pursuant to Section 12(g) of the Act:\n",
            "+-------------------------------------------------------------------------------------------------------------------------------------------------------------------------------------------------------------------------------------------------------------------------------------------------------------------------------------------------------------------------------------------------------------------------------------------------------------------------------------------------------------------------------------------------------------------------------------------------------------------------------------------------------------------------------------------------------------------------------------------------------------------------------------------------------------------+\n",
            "|result                                                                                                                                                                                                                                                                                                                                                                                                                                                                                                                                                                                                                                                                                                                                                                                                             |\n",
            "+-------------------------------------------------------------------------------------------------------------------------------------------------------------------------------------------------------------------------------------------------------------------------------------------------------------------------------------------------------------------------------------------------------------------------------------------------------------------------------------------------------------------------------------------------------------------------------------------------------------------------------------------------------------------------------------------------------------------------------------------------------------------------------------------------------------------+\n",
            "|[Commission file number 000-15867 \n",
            "_____________________________________\n",
            " \n",
            "CADENCE DESIGN SYSTEMS, INC., (Exact name of registrant as specified in its charter)\n",
            "____________________________________ \n",
            "Delaware\n",
            " \n",
            "00-0000000\n",
            "(State or Other Jurisdiction ofIncorporation or Organization)\n",
            " \n",
            "(I.R.S., EmployerIdentification No., )\n",
            "2655 Seely Avenue, Building 5,\n",
            "San Jose,\n",
            "California\n",
            " \n",
            "95134\n",
            "(Address of Principal Executive Offices)\n",
            " \n",
            "(Zip Code)<(408)\n",
            "-943-1234\n",
            "(Registrant’s Telephone Number, including Area Code) \n",
            "Securities registered pursuant to Section 12, (b) of the Act:\n",
            "Title of Each Class\n",
            "Trading Symbol, (s)\n",
            "Names of Each Exchange on which Registered\n",
            "Common Stock, $0.01 par value per share\n",
            "CDNS\n",
            "Nasdaq Global Select Market\n",
            "Securities registered pursuant to Section 12, (g) of the Act:]|\n",
            "+-------------------------------------------------------------------------------------------------------------------------------------------------------------------------------------------------------------------------------------------------------------------------------------------------------------------------------------------------------------------------------------------------------------------------------------------------------------------------------------------------------------------------------------------------------------------------------------------------------------------------------------------------------------------------------------------------------------------------------------------------------------------------------------------------------------------+\n",
            "\n"
          ]
        }
      ]
    },
    {
      "cell_type": "code",
      "execution_count": 25,
      "id": "a8892001-1392-4bc2-ab92-81d565c9d996",
      "metadata": {
        "colab": {
          "base_uri": "https://localhost:8080/",
          "height": 269
        },
        "id": "a8892001-1392-4bc2-ab92-81d565c9d996",
        "outputId": "fe466260-a238-4962-d33e-9795b4c4266c"
      },
      "outputs": [
        {
          "output_type": "execute_result",
          "data": {
            "text/plain": [
              "                                            sentence  \\\n",
              "0  Commission file number 000-15867 \\n___________...   \n",
              "1  (Exact name of registrant as specified in its ...   \n",
              "2                         EmployerIdentification No.   \n",
              "3  )\\n2655 Seely Avenue, Building 5,\\nSan Jose,\\n...   \n",
              "4  (b) of the Act:\\nTitle of Each Class\\nTrading ...   \n",
              "5  (s)\\nNames of Each Exchange on which Registere...   \n",
              "6                                    (g) of the Act:   \n",
              "\n",
              "                                        deidentified  \n",
              "0  Commission file number <CFN> \\n_______________...  \n",
              "1  (Exact name of registrant as specified in its ...  \n",
              "2                         EmployerIdentification No.  \n",
              "3  )\\n<ADDRESS>\\n \\n95134\\n(Address of Principal ...  \n",
              "4  (b) of the Act:\\nTitle of Each Class\\nTrading ...  \n",
              "5  (s)\\nNames of Each Exchange on which Registere...  \n",
              "6                                    (g) of the Act:  "
            ],
            "text/html": [
              "\n",
              "  <div id=\"df-750c13ca-4187-4eb5-bbd8-d2e58af6df75\">\n",
              "    <div class=\"colab-df-container\">\n",
              "      <div>\n",
              "<style scoped>\n",
              "    .dataframe tbody tr th:only-of-type {\n",
              "        vertical-align: middle;\n",
              "    }\n",
              "\n",
              "    .dataframe tbody tr th {\n",
              "        vertical-align: top;\n",
              "    }\n",
              "\n",
              "    .dataframe thead th {\n",
              "        text-align: right;\n",
              "    }\n",
              "</style>\n",
              "<table border=\"1\" class=\"dataframe\">\n",
              "  <thead>\n",
              "    <tr style=\"text-align: right;\">\n",
              "      <th></th>\n",
              "      <th>sentence</th>\n",
              "      <th>deidentified</th>\n",
              "    </tr>\n",
              "  </thead>\n",
              "  <tbody>\n",
              "    <tr>\n",
              "      <th>0</th>\n",
              "      <td>Commission file number 000-15867 \\n___________...</td>\n",
              "      <td>Commission file number &lt;CFN&gt; \\n_______________...</td>\n",
              "    </tr>\n",
              "    <tr>\n",
              "      <th>1</th>\n",
              "      <td>(Exact name of registrant as specified in its ...</td>\n",
              "      <td>(Exact name of registrant as specified in its ...</td>\n",
              "    </tr>\n",
              "    <tr>\n",
              "      <th>2</th>\n",
              "      <td>EmployerIdentification No.</td>\n",
              "      <td>EmployerIdentification No.</td>\n",
              "    </tr>\n",
              "    <tr>\n",
              "      <th>3</th>\n",
              "      <td>)\\n2655 Seely Avenue, Building 5,\\nSan Jose,\\n...</td>\n",
              "      <td>)\\n&lt;ADDRESS&gt;\\n \\n95134\\n(Address of Principal ...</td>\n",
              "    </tr>\n",
              "    <tr>\n",
              "      <th>4</th>\n",
              "      <td>(b) of the Act:\\nTitle of Each Class\\nTrading ...</td>\n",
              "      <td>(b) of the Act:\\nTitle of Each Class\\nTrading ...</td>\n",
              "    </tr>\n",
              "    <tr>\n",
              "      <th>5</th>\n",
              "      <td>(s)\\nNames of Each Exchange on which Registere...</td>\n",
              "      <td>(s)\\nNames of Each Exchange on which Registere...</td>\n",
              "    </tr>\n",
              "    <tr>\n",
              "      <th>6</th>\n",
              "      <td>(g) of the Act:</td>\n",
              "      <td>(g) of the Act:</td>\n",
              "    </tr>\n",
              "  </tbody>\n",
              "</table>\n",
              "</div>\n",
              "      <button class=\"colab-df-convert\" onclick=\"convertToInteractive('df-750c13ca-4187-4eb5-bbd8-d2e58af6df75')\"\n",
              "              title=\"Convert this dataframe to an interactive table.\"\n",
              "              style=\"display:none;\">\n",
              "        \n",
              "  <svg xmlns=\"http://www.w3.org/2000/svg\" height=\"24px\"viewBox=\"0 0 24 24\"\n",
              "       width=\"24px\">\n",
              "    <path d=\"M0 0h24v24H0V0z\" fill=\"none\"/>\n",
              "    <path d=\"M18.56 5.44l.94 2.06.94-2.06 2.06-.94-2.06-.94-.94-2.06-.94 2.06-2.06.94zm-11 1L8.5 8.5l.94-2.06 2.06-.94-2.06-.94L8.5 2.5l-.94 2.06-2.06.94zm10 10l.94 2.06.94-2.06 2.06-.94-2.06-.94-.94-2.06-.94 2.06-2.06.94z\"/><path d=\"M17.41 7.96l-1.37-1.37c-.4-.4-.92-.59-1.43-.59-.52 0-1.04.2-1.43.59L10.3 9.45l-7.72 7.72c-.78.78-.78 2.05 0 2.83L4 21.41c.39.39.9.59 1.41.59.51 0 1.02-.2 1.41-.59l7.78-7.78 2.81-2.81c.8-.78.8-2.07 0-2.86zM5.41 20L4 18.59l7.72-7.72 1.47 1.35L5.41 20z\"/>\n",
              "  </svg>\n",
              "      </button>\n",
              "      \n",
              "  <style>\n",
              "    .colab-df-container {\n",
              "      display:flex;\n",
              "      flex-wrap:wrap;\n",
              "      gap: 12px;\n",
              "    }\n",
              "\n",
              "    .colab-df-convert {\n",
              "      background-color: #E8F0FE;\n",
              "      border: none;\n",
              "      border-radius: 50%;\n",
              "      cursor: pointer;\n",
              "      display: none;\n",
              "      fill: #1967D2;\n",
              "      height: 32px;\n",
              "      padding: 0 0 0 0;\n",
              "      width: 32px;\n",
              "    }\n",
              "\n",
              "    .colab-df-convert:hover {\n",
              "      background-color: #E2EBFA;\n",
              "      box-shadow: 0px 1px 2px rgba(60, 64, 67, 0.3), 0px 1px 3px 1px rgba(60, 64, 67, 0.15);\n",
              "      fill: #174EA6;\n",
              "    }\n",
              "\n",
              "    [theme=dark] .colab-df-convert {\n",
              "      background-color: #3B4455;\n",
              "      fill: #D2E3FC;\n",
              "    }\n",
              "\n",
              "    [theme=dark] .colab-df-convert:hover {\n",
              "      background-color: #434B5C;\n",
              "      box-shadow: 0px 1px 3px 1px rgba(0, 0, 0, 0.15);\n",
              "      filter: drop-shadow(0px 1px 2px rgba(0, 0, 0, 0.3));\n",
              "      fill: #FFFFFF;\n",
              "    }\n",
              "  </style>\n",
              "\n",
              "      <script>\n",
              "        const buttonEl =\n",
              "          document.querySelector('#df-750c13ca-4187-4eb5-bbd8-d2e58af6df75 button.colab-df-convert');\n",
              "        buttonEl.style.display =\n",
              "          google.colab.kernel.accessAllowed ? 'block' : 'none';\n",
              "\n",
              "        async function convertToInteractive(key) {\n",
              "          const element = document.querySelector('#df-750c13ca-4187-4eb5-bbd8-d2e58af6df75');\n",
              "          const dataTable =\n",
              "            await google.colab.kernel.invokeFunction('convertToInteractive',\n",
              "                                                     [key], {});\n",
              "          if (!dataTable) return;\n",
              "\n",
              "          const docLinkHtml = 'Like what you see? Visit the ' +\n",
              "            '<a target=\"_blank\" href=https://colab.research.google.com/notebooks/data_table.ipynb>data table notebook</a>'\n",
              "            + ' to learn more about interactive tables.';\n",
              "          element.innerHTML = '';\n",
              "          dataTable['output_type'] = 'display_data';\n",
              "          await google.colab.output.renderOutput(dataTable, element);\n",
              "          const docLink = document.createElement('div');\n",
              "          docLink.innerHTML = docLinkHtml;\n",
              "          element.appendChild(docLink);\n",
              "        }\n",
              "      </script>\n",
              "    </div>\n",
              "  </div>\n",
              "  "
            ]
          },
          "metadata": {},
          "execution_count": 25
        }
      ],
      "source": [
        "result.select(F.explode(F.arrays_zip(result.sentence.result, result.deidentified.result)).alias(\"cols\")) \\\n",
        "      .select(F.expr(\"cols['0']\").alias(\"sentence\"), F.expr(\"cols['1']\").alias(\"deidentified\")).toPandas()"
      ]
    },
    {
      "cell_type": "markdown",
      "source": [
        "## Other different masking strategies "
      ],
      "metadata": {
        "id": "5MQrBZl3cbEb"
      },
      "id": "5MQrBZl3cbEb"
    },
    {
      "cell_type": "markdown",
      "id": "fc7f7662-6fb7-4ad6-b7a8-aa9587dafc85",
      "metadata": {
        "id": "fc7f7662-6fb7-4ad6-b7a8-aa9587dafc85"
      },
      "source": [
        "We have three modes to mask the entities in the Deidentification annotator. You can select the modes using the `.setMaskingPolicy()` parameter. The methods are the followings:\n",
        "\n",
        "**“entity_labels”**: Mask with the entity type of that chunk. (default) <br/>\n",
        "**“same_length_chars”**: Mask the deid entities with same length of asterix ( * ) with brackets ( [ , ] ) on both end. <br/>\n",
        "**“fixed_length_chars”**: Mask the deid entities with a fixed length of asterix ( * ). The length is setting up using the `setFixedMaskLength()` method. <br/>\n",
        "\n",
        "Let's try each of these and compare the results:"
      ]
    },
    {
      "cell_type": "code",
      "execution_count": 26,
      "id": "2294859f-933e-4675-a573-bc67c7dc7ce5",
      "metadata": {
        "id": "2294859f-933e-4675-a573-bc67c7dc7ce5"
      },
      "outputs": [],
      "source": [
        "#deid model with \"entity_labels\"\n",
        "deid_entity_labels= finance.DeIdentification()\\\n",
        "    .setInputCols([\"sentence\", \"token\", \"ner_chunk\"])\\\n",
        "    .setOutputCol(\"deid_entity_label\")\\\n",
        "    .setMode(\"mask\")\\\n",
        "    .setReturnEntityMappings(False)\\\n",
        "    .setMaskingPolicy(\"entity_labels\")\n",
        "\n",
        "#deid model with \"same_length_chars\"\n",
        "deid_same_length= finance.DeIdentification()\\\n",
        "    .setInputCols([\"sentence\", \"token\", \"ner_chunk\"])\\\n",
        "    .setOutputCol(\"deid_same_length\")\\\n",
        "    .setMode(\"mask\")\\\n",
        "    .setReturnEntityMappings(False)\\\n",
        "    .setMaskingPolicy(\"same_length_chars\")\n",
        "\n",
        "#deid model with \"fixed_length_chars\"\n",
        "deid_fixed_length= finance.DeIdentification()\\\n",
        "    .setInputCols([\"sentence\", \"token\", \"ner_chunk\"])\\\n",
        "    .setOutputCol(\"deid_fixed_length\")\\\n",
        "    .setMode(\"mask\")\\\n",
        "    .setReturnEntityMappings(False)\\\n",
        "    .setMaskingPolicy(\"fixed_length_chars\")\\\n",
        "    .setFixedMaskLength(4)\n",
        "\n",
        "\n",
        "deidPipeline = nlp.Pipeline(stages=[\n",
        "      documentAssembler, \n",
        "      sentenceDetector,\n",
        "      tokenizer,\n",
        "      embeddings,\n",
        "      ner_model,\n",
        "      ner_converter,\n",
        "      deid_entity_labels,\n",
        "      deid_same_length,\n",
        "      deid_fixed_length])\n",
        "\n",
        "\n",
        "empty_data = spark.createDataFrame([[\"\"]]).toDF(\"text\")\n",
        "model_deid = deidPipeline.fit(empty_data)"
      ]
    },
    {
      "cell_type": "code",
      "execution_count": 27,
      "id": "a5d82d09-b920-45e3-8856-cbb3a43697af",
      "metadata": {
        "id": "a5d82d09-b920-45e3-8856-cbb3a43697af"
      },
      "outputs": [],
      "source": [
        "result = model_deid.transform(spark.createDataFrame([[text]]).toDF(\"text\"))"
      ]
    },
    {
      "cell_type": "code",
      "execution_count": 28,
      "id": "d94fccb3-8874-428e-8cf3-2ed1bf443002",
      "metadata": {
        "colab": {
          "base_uri": "https://localhost:8080/"
        },
        "id": "d94fccb3-8874-428e-8cf3-2ed1bf443002",
        "outputId": "9a28537f-88c8-4d17-8eeb-f77a393749b2"
      },
      "outputs": [
        {
          "output_type": "stream",
          "name": "stdout",
          "text": [
            "+--------------------+--------------------+--------------------+--------------------+--------------------+--------------------+--------------------+--------------------+--------------------+--------------------+\n",
            "|                text|            document|            sentence|               token|          embeddings|                 ner|           ner_chunk|   deid_entity_label|    deid_same_length|   deid_fixed_length|\n",
            "+--------------------+--------------------+--------------------+--------------------+--------------------+--------------------+--------------------+--------------------+--------------------+--------------------+\n",
            "|\n",
            "Commission file ...|[{document, 0, 77...|[{document, 1, 10...|[{token, 1, 10, C...|[{word_embeddings...|[{named_entity, 1...|[{chunk, 24, 32, ...|[{document, 0, 75...|[{document, 0, 10...|[{document, 0, 73...|\n",
            "+--------------------+--------------------+--------------------+--------------------+--------------------+--------------------+--------------------+--------------------+--------------------+--------------------+\n",
            "\n"
          ]
        }
      ],
      "source": [
        "result.show()"
      ]
    },
    {
      "cell_type": "code",
      "execution_count": 29,
      "id": "f759241e-63a1-47ef-a562-a0a0272ed0e0",
      "metadata": {
        "colab": {
          "base_uri": "https://localhost:8080/",
          "height": 269
        },
        "id": "f759241e-63a1-47ef-a562-a0a0272ed0e0",
        "outputId": "b5ec181f-ff4f-4a56-bc5d-1f1888e6059f"
      },
      "outputs": [
        {
          "output_type": "execute_result",
          "data": {
            "text/plain": [
              "                                            sentence  \\\n",
              "0  Commission file number 000-15867 \\n___________...   \n",
              "1  (Exact name of registrant as specified in its ...   \n",
              "2                         EmployerIdentification No.   \n",
              "3  )\\n2655 Seely Avenue, Building 5,\\nSan Jose,\\n...   \n",
              "4  (b) of the Act:\\nTitle of Each Class\\nTrading ...   \n",
              "5  (s)\\nNames of Each Exchange on which Registere...   \n",
              "6                                    (g) of the Act:   \n",
              "\n",
              "                                   deid_entity_label  \\\n",
              "0  Commission file number <CFN> \\n_______________...   \n",
              "1  (Exact name of registrant as specified in its ...   \n",
              "2                         EmployerIdentification No.   \n",
              "3  )\\n<ADDRESS>\\n \\n95134\\n(Address of Principal ...   \n",
              "4  (b) of the Act:\\nTitle of Each Class\\nTrading ...   \n",
              "5  (s)\\nNames of Each Exchange on which Registere...   \n",
              "6                                    (g) of the Act:   \n",
              "\n",
              "                                    deid_same_length  \\\n",
              "0  Commission file number [*******] \\n___________...   \n",
              "1  (Exact name of registrant as specified in its ...   \n",
              "2                         EmployerIdentification No.   \n",
              "3  )\\n[******************************************...   \n",
              "4  (b) of the Act:\\nTitle of Each Class\\nTrading ...   \n",
              "5  (s)\\nNames of Each Exchange on which Registere...   \n",
              "6                                    (g) of the Act:   \n",
              "\n",
              "                                   deid_fixed_length  \n",
              "0  Commission file number **** \\n________________...  \n",
              "1  (Exact name of registrant as specified in its ...  \n",
              "2                         EmployerIdentification No.  \n",
              "3  )\\n****\\n \\n95134\\n(Address of Principal Execu...  \n",
              "4  (b) of the Act:\\nTitle of Each Class\\nTrading ...  \n",
              "5  (s)\\nNames of Each Exchange on which Registere...  \n",
              "6                                    (g) of the Act:  "
            ],
            "text/html": [
              "\n",
              "  <div id=\"df-43f2629b-7589-42d3-aa8b-567a64f0314c\">\n",
              "    <div class=\"colab-df-container\">\n",
              "      <div>\n",
              "<style scoped>\n",
              "    .dataframe tbody tr th:only-of-type {\n",
              "        vertical-align: middle;\n",
              "    }\n",
              "\n",
              "    .dataframe tbody tr th {\n",
              "        vertical-align: top;\n",
              "    }\n",
              "\n",
              "    .dataframe thead th {\n",
              "        text-align: right;\n",
              "    }\n",
              "</style>\n",
              "<table border=\"1\" class=\"dataframe\">\n",
              "  <thead>\n",
              "    <tr style=\"text-align: right;\">\n",
              "      <th></th>\n",
              "      <th>sentence</th>\n",
              "      <th>deid_entity_label</th>\n",
              "      <th>deid_same_length</th>\n",
              "      <th>deid_fixed_length</th>\n",
              "    </tr>\n",
              "  </thead>\n",
              "  <tbody>\n",
              "    <tr>\n",
              "      <th>0</th>\n",
              "      <td>Commission file number 000-15867 \\n___________...</td>\n",
              "      <td>Commission file number &lt;CFN&gt; \\n_______________...</td>\n",
              "      <td>Commission file number [*******] \\n___________...</td>\n",
              "      <td>Commission file number **** \\n________________...</td>\n",
              "    </tr>\n",
              "    <tr>\n",
              "      <th>1</th>\n",
              "      <td>(Exact name of registrant as specified in its ...</td>\n",
              "      <td>(Exact name of registrant as specified in its ...</td>\n",
              "      <td>(Exact name of registrant as specified in its ...</td>\n",
              "      <td>(Exact name of registrant as specified in its ...</td>\n",
              "    </tr>\n",
              "    <tr>\n",
              "      <th>2</th>\n",
              "      <td>EmployerIdentification No.</td>\n",
              "      <td>EmployerIdentification No.</td>\n",
              "      <td>EmployerIdentification No.</td>\n",
              "      <td>EmployerIdentification No.</td>\n",
              "    </tr>\n",
              "    <tr>\n",
              "      <th>3</th>\n",
              "      <td>)\\n2655 Seely Avenue, Building 5,\\nSan Jose,\\n...</td>\n",
              "      <td>)\\n&lt;ADDRESS&gt;\\n \\n95134\\n(Address of Principal ...</td>\n",
              "      <td>)\\n[******************************************...</td>\n",
              "      <td>)\\n****\\n \\n95134\\n(Address of Principal Execu...</td>\n",
              "    </tr>\n",
              "    <tr>\n",
              "      <th>4</th>\n",
              "      <td>(b) of the Act:\\nTitle of Each Class\\nTrading ...</td>\n",
              "      <td>(b) of the Act:\\nTitle of Each Class\\nTrading ...</td>\n",
              "      <td>(b) of the Act:\\nTitle of Each Class\\nTrading ...</td>\n",
              "      <td>(b) of the Act:\\nTitle of Each Class\\nTrading ...</td>\n",
              "    </tr>\n",
              "    <tr>\n",
              "      <th>5</th>\n",
              "      <td>(s)\\nNames of Each Exchange on which Registere...</td>\n",
              "      <td>(s)\\nNames of Each Exchange on which Registere...</td>\n",
              "      <td>(s)\\nNames of Each Exchange on which Registere...</td>\n",
              "      <td>(s)\\nNames of Each Exchange on which Registere...</td>\n",
              "    </tr>\n",
              "    <tr>\n",
              "      <th>6</th>\n",
              "      <td>(g) of the Act:</td>\n",
              "      <td>(g) of the Act:</td>\n",
              "      <td>(g) of the Act:</td>\n",
              "      <td>(g) of the Act:</td>\n",
              "    </tr>\n",
              "  </tbody>\n",
              "</table>\n",
              "</div>\n",
              "      <button class=\"colab-df-convert\" onclick=\"convertToInteractive('df-43f2629b-7589-42d3-aa8b-567a64f0314c')\"\n",
              "              title=\"Convert this dataframe to an interactive table.\"\n",
              "              style=\"display:none;\">\n",
              "        \n",
              "  <svg xmlns=\"http://www.w3.org/2000/svg\" height=\"24px\"viewBox=\"0 0 24 24\"\n",
              "       width=\"24px\">\n",
              "    <path d=\"M0 0h24v24H0V0z\" fill=\"none\"/>\n",
              "    <path d=\"M18.56 5.44l.94 2.06.94-2.06 2.06-.94-2.06-.94-.94-2.06-.94 2.06-2.06.94zm-11 1L8.5 8.5l.94-2.06 2.06-.94-2.06-.94L8.5 2.5l-.94 2.06-2.06.94zm10 10l.94 2.06.94-2.06 2.06-.94-2.06-.94-.94-2.06-.94 2.06-2.06.94z\"/><path d=\"M17.41 7.96l-1.37-1.37c-.4-.4-.92-.59-1.43-.59-.52 0-1.04.2-1.43.59L10.3 9.45l-7.72 7.72c-.78.78-.78 2.05 0 2.83L4 21.41c.39.39.9.59 1.41.59.51 0 1.02-.2 1.41-.59l7.78-7.78 2.81-2.81c.8-.78.8-2.07 0-2.86zM5.41 20L4 18.59l7.72-7.72 1.47 1.35L5.41 20z\"/>\n",
              "  </svg>\n",
              "      </button>\n",
              "      \n",
              "  <style>\n",
              "    .colab-df-container {\n",
              "      display:flex;\n",
              "      flex-wrap:wrap;\n",
              "      gap: 12px;\n",
              "    }\n",
              "\n",
              "    .colab-df-convert {\n",
              "      background-color: #E8F0FE;\n",
              "      border: none;\n",
              "      border-radius: 50%;\n",
              "      cursor: pointer;\n",
              "      display: none;\n",
              "      fill: #1967D2;\n",
              "      height: 32px;\n",
              "      padding: 0 0 0 0;\n",
              "      width: 32px;\n",
              "    }\n",
              "\n",
              "    .colab-df-convert:hover {\n",
              "      background-color: #E2EBFA;\n",
              "      box-shadow: 0px 1px 2px rgba(60, 64, 67, 0.3), 0px 1px 3px 1px rgba(60, 64, 67, 0.15);\n",
              "      fill: #174EA6;\n",
              "    }\n",
              "\n",
              "    [theme=dark] .colab-df-convert {\n",
              "      background-color: #3B4455;\n",
              "      fill: #D2E3FC;\n",
              "    }\n",
              "\n",
              "    [theme=dark] .colab-df-convert:hover {\n",
              "      background-color: #434B5C;\n",
              "      box-shadow: 0px 1px 3px 1px rgba(0, 0, 0, 0.15);\n",
              "      filter: drop-shadow(0px 1px 2px rgba(0, 0, 0, 0.3));\n",
              "      fill: #FFFFFF;\n",
              "    }\n",
              "  </style>\n",
              "\n",
              "      <script>\n",
              "        const buttonEl =\n",
              "          document.querySelector('#df-43f2629b-7589-42d3-aa8b-567a64f0314c button.colab-df-convert');\n",
              "        buttonEl.style.display =\n",
              "          google.colab.kernel.accessAllowed ? 'block' : 'none';\n",
              "\n",
              "        async function convertToInteractive(key) {\n",
              "          const element = document.querySelector('#df-43f2629b-7589-42d3-aa8b-567a64f0314c');\n",
              "          const dataTable =\n",
              "            await google.colab.kernel.invokeFunction('convertToInteractive',\n",
              "                                                     [key], {});\n",
              "          if (!dataTable) return;\n",
              "\n",
              "          const docLinkHtml = 'Like what you see? Visit the ' +\n",
              "            '<a target=\"_blank\" href=https://colab.research.google.com/notebooks/data_table.ipynb>data table notebook</a>'\n",
              "            + ' to learn more about interactive tables.';\n",
              "          element.innerHTML = '';\n",
              "          dataTable['output_type'] = 'display_data';\n",
              "          await google.colab.output.renderOutput(dataTable, element);\n",
              "          const docLink = document.createElement('div');\n",
              "          docLink.innerHTML = docLinkHtml;\n",
              "          element.appendChild(docLink);\n",
              "        }\n",
              "      </script>\n",
              "    </div>\n",
              "  </div>\n",
              "  "
            ]
          },
          "metadata": {},
          "execution_count": 29
        }
      ],
      "source": [
        "result.select(F.explode(F.arrays_zip(result.sentence.result, \n",
        "                                            result.deid_entity_label.result, \n",
        "                                            result.deid_same_length.result, \n",
        "                                            result.deid_fixed_length.result)).alias(\"cols\")) \\\n",
        "             .select(F.expr(\"cols['0']\").alias(\"sentence\"),\n",
        "                     F.expr(\"cols['1']\").alias(\"deid_entity_label\"),\n",
        "                     F.expr(\"cols['2']\").alias(\"deid_same_length\"),\n",
        "                     F.expr(\"cols['3']\").alias(\"deid_fixed_length\")).toPandas()"
      ]
    },
    {
      "cell_type": "markdown",
      "id": "24ad89cd-3022-46df-b4a1-6f6d90d0445a",
      "metadata": {
        "id": "24ad89cd-3022-46df-b4a1-6f6d90d0445a"
      },
      "source": [
        "### Mapping Column"
      ]
    },
    {
      "cell_type": "code",
      "execution_count": 34,
      "id": "941bfa77-2a19-4d47-ace2-0d5c6eb66514",
      "metadata": {
        "colab": {
          "base_uri": "https://localhost:8080/"
        },
        "id": "941bfa77-2a19-4d47-ace2-0d5c6eb66514",
        "outputId": "b00c276c-74bf-4c7b-e6f5-4f210ee0ff39"
      },
      "outputs": [
        {
          "output_type": "stream",
          "name": "stdout",
          "text": [
            "+----------------------------------------------------------------------------------------------------------------------------------------------------------------------------------------------------------------------------------------------------------------------------------------------------------------------------------------------------------------------------------------------------------------------------------------------------------------------------------------------------------------------------------------------------------------------------------------------------------------------------------------------------------------------------------------------------------------------------------------------------------------------------------------------------------------------------------------------------------------------------------------------------------------------------------------------------------------------------------------------------------------------------------------------------------------------------------------------------------------------------------------------------------------------------------------------------------------------------------------------------------------------------------------------------------------------------------------------------------------------------------------------------------------------------------+\n",
            "|ner_chunk                                                                                                                                                                                                                                                                                                                                                                                                                                                                                                                                                                                                                                                                                                                                                                                                                                                                                                                                                                                                                                                                                                                                                                                                                                                                                                                                                                                                                         |\n",
            "+----------------------------------------------------------------------------------------------------------------------------------------------------------------------------------------------------------------------------------------------------------------------------------------------------------------------------------------------------------------------------------------------------------------------------------------------------------------------------------------------------------------------------------------------------------------------------------------------------------------------------------------------------------------------------------------------------------------------------------------------------------------------------------------------------------------------------------------------------------------------------------------------------------------------------------------------------------------------------------------------------------------------------------------------------------------------------------------------------------------------------------------------------------------------------------------------------------------------------------------------------------------------------------------------------------------------------------------------------------------------------------------------------------------------------------+\n",
            "|[{chunk, 24, 32, 000-15867, {chunk -> 0, confidence -> 0.9959, ner_source -> ner_chunk, entity -> CFN, sentence -> 0}, []}, {chunk, 75, 101, CADENCE DESIGN SYSTEMS, INC, {chunk -> 1, confidence -> 0.69879997, ner_source -> ner_chunk, entity -> ORG, sentence -> 0}, []}, {chunk, 198, 205, Delaware, {chunk -> 2, confidence -> 1.0, ner_source -> ner_chunk, entity -> STATE, sentence -> 1}, []}, {chunk, 209, 218, 00-0000000, {chunk -> 3, confidence -> 0.9845, ner_source -> ner_chunk, entity -> IRS, sentence -> 1}, []}, {chunk, 320, 370, 2655 Seely Avenue, Building 5,\n",
            "San Jose,\n",
            "California, {chunk -> 4, confidence -> 0.94643635, ner_source -> ner_chunk, entity -> ADDRESS, sentence -> 3}, []}, {chunk, 434, 448, (408)\n",
            "-943-1234, {chunk -> 5, confidence -> 0.95721996, ner_source -> ner_chunk, entity -> PHONE, sentence -> 3}, []}, {chunk, 646, 657, Common Stock, {chunk -> 6, confidence -> 0.95515, ner_source -> ner_chunk, entity -> TITLE_CLASS, sentence -> 5}, []}, {chunk, 660, 664, $0.01, {chunk -> 7, confidence -> 1.0, ner_source -> ner_chunk, entity -> TITLE_CLASS_VALUE, sentence -> 5}, []}, {chunk, 686, 689, CDNS, {chunk -> 8, confidence -> 0.6884, ner_source -> ner_chunk, entity -> TICKER, sentence -> 5}, []}, {chunk, 691, 717, Nasdaq Global Select Market, {chunk -> 9, confidence -> 0.933675, ner_source -> ner_chunk, entity -> STOCK_EXCHANGE, sentence -> 5}, []}]|\n",
            "+----------------------------------------------------------------------------------------------------------------------------------------------------------------------------------------------------------------------------------------------------------------------------------------------------------------------------------------------------------------------------------------------------------------------------------------------------------------------------------------------------------------------------------------------------------------------------------------------------------------------------------------------------------------------------------------------------------------------------------------------------------------------------------------------------------------------------------------------------------------------------------------------------------------------------------------------------------------------------------------------------------------------------------------------------------------------------------------------------------------------------------------------------------------------------------------------------------------------------------------------------------------------------------------------------------------------------------------------------------------------------------------------------------------------------------+\n",
            "\n"
          ]
        }
      ],
      "source": [
        "result.select(\"ner_chunk\").show(truncate=False)"
      ]
    },
    {
      "cell_type": "code",
      "execution_count": 37,
      "id": "ea4502c9-ae7b-4bf0-97ec-0ed7a6ba2f32",
      "metadata": {
        "colab": {
          "base_uri": "https://localhost:8080/"
        },
        "id": "ea4502c9-ae7b-4bf0-97ec-0ed7a6ba2f32",
        "outputId": "68568548-b704-4edc-fdbd-e33063ba9080"
      },
      "outputs": [
        {
          "output_type": "stream",
          "name": "stdout",
          "text": [
            "+-----------------+----------+--------+\n",
            "|label            |beginLabel|endLabel|\n",
            "+-----------------+----------+--------+\n",
            "|CFN              |24        |32      |\n",
            "|ORG              |75        |101     |\n",
            "|STATE            |198       |205     |\n",
            "|IRS              |209       |218     |\n",
            "|ADDRESS          |320       |370     |\n",
            "|PHONE            |434       |448     |\n",
            "|TITLE_CLASS      |646       |657     |\n",
            "|TITLE_CLASS_VALUE|660       |664     |\n",
            "|TICKER           |686       |689     |\n",
            "|STOCK_EXCHANGE   |691       |717     |\n",
            "+-----------------+----------+--------+\n",
            "\n"
          ]
        }
      ],
      "source": [
        "result.select(F.explode(F.arrays_zip(result.ner_chunk.metadata,\n",
        "                                     result.ner_chunk.begin, \n",
        "                                     result.ner_chunk.end)).alias(\"cols\")) \\\n",
        "      .select(F.expr(\"cols['0']['entity']\").alias(\"label\"),\n",
        "              F.expr(\"cols['1']\").alias(\"beginLabel\"),\n",
        "              F.expr(\"cols['2']\").alias(\"endLabel\")).show(truncate=False)"
      ]
    },
    {
      "cell_type": "markdown",
      "id": "27d5c012-0eef-48a5-9d3d-915e942f5639",
      "metadata": {
        "id": "27d5c012-0eef-48a5-9d3d-915e942f5639"
      },
      "source": [
        "## Using NER, ContextualParser and ZeroShotNER in the same Deideintification pipeline"
      ]
    },
    {
      "cell_type": "code",
      "source": [
        "# Create JSON file for PART\n",
        "alias = {\n",
        "  \"entity\": \"ALIAS\",\n",
        "  \"ruleScope\": \"document\", \n",
        "  \"completeMatchRegex\": \"true\",\n",
        "  \"regex\":'[\"“].*?[\"”]',\n",
        "  \"matchScope\": \"sub-token\",\n",
        "  \"contextLength\": 100\n",
        "}\n",
        "\n",
        "email = {\n",
        "  \"entity\": \"EMAIL\",\n",
        "  \"ruleScope\": \"document\", \n",
        "  \"completeMatchRegex\": \"true\",\n",
        "  \"regex\":'[\\w-\\.]+@([\\w-]+\\.)+[\\w-]{2,4}',\n",
        "  \"matchScope\": \"sub-token\",\n",
        "  \"contextLength\": 100\n",
        "}\n",
        "\n",
        "phone = {\n",
        "  \"entity\": \"PHONE\",\n",
        "  \"ruleScope\": \"document\", \n",
        "  \"completeMatchRegex\": \"true\",\n",
        "  \"regex\":'(\\+?\\d{1,3}[\\s-]?)?\\(?\\d{3}\\)?[\\s.-]?\\d{3}[\\s.-]?\\d+',\n",
        "  \"matchScope\": \"sub-token\",\n",
        "  \"contextLength\": 100\n",
        "}\n",
        "\n",
        "import json\n",
        "with open('alias.json', 'w') as f:\n",
        "    json.dump(alias, f)\n",
        "    \n",
        "with open('email.json', 'w') as f:\n",
        "    json.dump(email, f)\n",
        "    \n",
        "with open('phone.json', 'w') as f:\n",
        "    json.dump(phone, f)"
      ],
      "metadata": {
        "id": "Pexzov3sc0Kd"
      },
      "id": "Pexzov3sc0Kd",
      "execution_count": 38,
      "outputs": []
    },
    {
      "cell_type": "code",
      "execution_count": 54,
      "id": "4b11381f-af80-49e7-9d30-418a753fa08f",
      "metadata": {
        "colab": {
          "base_uri": "https://localhost:8080/"
        },
        "id": "4b11381f-af80-49e7-9d30-418a753fa08f",
        "outputId": "8f555596-9703-406d-db43-0cec741dc986"
      },
      "outputs": [
        {
          "output_type": "stream",
          "name": "stdout",
          "text": [
            "bert_embeddings_sec_bert_base download started this may take some time.\n",
            "Approximate size to download 390.4 MB\n",
            "[OK!]\n",
            "finner_sec_10k_summary download started this may take some time.\n",
            "[OK!]\n",
            "finner_roberta_zeroshot download started this may take some time.\n",
            "[OK!]\n"
          ]
        }
      ],
      "source": [
        "documentAssembler = nlp.DocumentAssembler()\\\n",
        "    .setInputCol(\"text\")\\\n",
        "    .setOutputCol(\"document\")\n",
        "\n",
        "sentenceDetector = nlp.SentenceDetector()\\\n",
        "    .setInputCols([\"document\"])\\\n",
        "    .setOutputCol(\"sentence\")\n",
        "\n",
        "tokenizer = nlp.Tokenizer()\\\n",
        "    .setInputCols([\"sentence\"])\\\n",
        "    .setOutputCol(\"token\")\n",
        "\n",
        "embeddings = nlp.BertEmbeddings.pretrained(\"bert_embeddings_sec_bert_base\",\"en\")\\\n",
        "    .setInputCols([\"sentence\", \"token\"])\\\n",
        "    .setOutputCol(\"embeddings\")\n",
        "\n",
        "ner_model = finance.NerModel.pretrained('finner_sec_10k_summary', 'en', 'finance/models')\\\n",
        "    .setInputCols([\"sentence\", \"token\", \"embeddings\"])\\\n",
        "    .setOutputCol(\"ner\")\n",
        "\n",
        "ner_converter = finance.NerConverterInternal() \\\n",
        "    .setInputCols([\"sentence\", \"token\", \"ner\"])\\\n",
        "    .setOutputCol(\"ner_chunk\")\\\n",
        "    .setGreedyMode(True)\n",
        "\n",
        "zero_shot_ner = finance.ZeroShotNerModel.pretrained(\"finner_roberta_zeroshot\", \"en\", \"finance/models\")\\\n",
        "    .setInputCols([\"sentence\", \"token\"])\\\n",
        "    .setOutputCol(\"zero_shot_ner\")\\\n",
        "    .setPredictionThreshold(0.1)\\\n",
        "    .setEntityDefinitions(\n",
        "        {            \n",
        "            \"ADDRESS\":[\"Which address?\", \"Where is the location?\"],\n",
        "            \"PERSON\": [\"Which person?\", \"What is the person name?\"],\n",
        "            \"ORG\": [\"Which LLC?\", \"Which Inc?\", \"Which PLC?\", \"Which Corp?\"]\n",
        "        })\n",
        "\n",
        "\n",
        "zeroshot_ner_converter = finance.NerConverterInternal() \\\n",
        "    .setInputCols([\"sentence\", \"token\", \"zero_shot_ner\"])\\\n",
        "    .setOutputCol(\"zero_ner_chunk\")\\\n",
        "    .setGreedyMode(True)\n",
        "\n",
        "alias_parser = finance.ContextualParserApproach() \\\n",
        "    .setInputCols([\"sentence\", \"token\"]) \\\n",
        "    .setOutputCol(\"alias\")\\\n",
        "    .setJsonPath(\"alias.json\") \\\n",
        "    .setPrefixAndSuffixMatch(False)\\\n",
        "    .setOptionalContextRules(True)\\\n",
        "    .setCaseSensitive(False)\n",
        "\n",
        "email_parser = finance.ContextualParserApproach() \\\n",
        "    .setInputCols([\"sentence\", \"token\"]) \\\n",
        "    .setOutputCol(\"email\")\\\n",
        "    .setJsonPath(\"email.json\") \\\n",
        "    .setPrefixAndSuffixMatch(False)\\\n",
        "    .setOptionalContextRules(True)\\\n",
        "    .setCaseSensitive(False)\n",
        "\n",
        "phone_parser = finance.ContextualParserApproach() \\\n",
        "    .setInputCols([\"sentence\", \"token\"]) \\\n",
        "    .setOutputCol(\"phone\")\\\n",
        "    .setJsonPath(\"phone.json\") \\\n",
        "    .setPrefixAndSuffixMatch(False)\\\n",
        "    .setOptionalContextRules(True)\\\n",
        "    .setCaseSensitive(False)\n",
        "\n",
        "chunk_merger = finance.ChunkMergeApproach()\\\n",
        "    .setInputCols(\"email\", \"phone\", \"ner_chunk\", \"zero_ner_chunk\", \"alias\")\\\n",
        "    .setOutputCol('merged_ner_chunks')\n",
        "\n",
        "nlpPipeline = nlp.Pipeline(stages=[\n",
        "      documentAssembler, \n",
        "      sentenceDetector,\n",
        "      tokenizer,\n",
        "      embeddings,\n",
        "      ner_model,\n",
        "      ner_converter,\n",
        "      zero_shot_ner,\n",
        "      zeroshot_ner_converter,\n",
        "      alias_parser,\n",
        "      email_parser,\n",
        "      phone_parser,\n",
        "      chunk_merger])\n",
        "\n",
        "empty_data = spark.createDataFrame([[\"\"]]).toDF(\"text\")\n",
        "\n",
        "model = nlpPipeline.fit(empty_data)"
      ]
    },
    {
      "cell_type": "code",
      "execution_count": 55,
      "id": "8f4ef972-ad0c-4297-896a-94b639027810",
      "metadata": {
        "id": "8f4ef972-ad0c-4297-896a-94b639027810"
      },
      "outputs": [],
      "source": [
        "text= \"\"\"\n",
        "Commission file number 000-15867 \n",
        "_____________________________________\n",
        " \n",
        "CADENCE DESIGN SYSTEMS, INC. \n",
        "(Exact name of registrant as specified in its charter)\n",
        "____________________________________ \n",
        "Delaware\n",
        " \n",
        "00-0000000\n",
        "(State or Other Jurisdiction ofIncorporation or Organization)\n",
        " \n",
        "(I.R.S. EmployerIdentification No.)\n",
        "2655 Seely Avenue, Building 5,\n",
        "San Jose,\n",
        "California\n",
        " \n",
        "95134\n",
        "(Address of Principal Executive Offices)\n",
        " \n",
        "(Zip Code)\n",
        "(408)\n",
        "-943-1234 \n",
        "(Registrant’s Telephone Number, including Area Code) \n",
        "Securities registered pursuant to Section 12(b) of the Act:\n",
        "Title of Each Class\n",
        "Trading Symbol(s)\n",
        "Names of Each Exchange on which Registered\n",
        "Common Stock, $0.01 par value per share\n",
        "CDNS\n",
        "Nasdaq Global Select Market\n",
        "Securities registered pursuant to Section 12(g) of the Act:\"\"\""
      ]
    },
    {
      "cell_type": "code",
      "execution_count": 56,
      "id": "63fe74f9-768c-47c1-87e0-86d7a2a556bf",
      "metadata": {
        "colab": {
          "base_uri": "https://localhost:8080/"
        },
        "id": "63fe74f9-768c-47c1-87e0-86d7a2a556bf",
        "outputId": "b5f0fb50-ba9c-4146-c267-366b4382bf74"
      },
      "outputs": [
        {
          "output_type": "stream",
          "name": "stdout",
          "text": [
            "+---------------------------------------------------+-----------------+\n",
            "|chunk                                              |ner_label        |\n",
            "+---------------------------------------------------+-----------------+\n",
            "|000-15867                                          |CFN              |\n",
            "|CADENCE DESIGN SYSTEMS, INC                        |ORG              |\n",
            "|Delaware                                           |STATE            |\n",
            "|00-0000000                                         |IRS              |\n",
            "|2655 Seely Avenue, Building 5,\n",
            "San Jose,\n",
            "California|ADDRESS          |\n",
            "|(408)\n",
            "-943-1234                                    |PHONE            |\n",
            "|Common Stock                                       |TITLE_CLASS      |\n",
            "|$0.01                                              |TITLE_CLASS_VALUE|\n",
            "|CDNS                                               |TICKER           |\n",
            "|Nasdaq Global Select Market                        |STOCK_EXCHANGE   |\n",
            "+---------------------------------------------------+-----------------+\n",
            "\n"
          ]
        }
      ],
      "source": [
        "result = model.transform(spark.createDataFrame([[text]]).toDF(\"text\"))\n",
        "\n",
        "# financial_ner (10k summary)\n",
        "result.select(F.explode(F.arrays_zip(result.ner_chunk.result, \n",
        "                                     result.ner_chunk.metadata)).alias(\"cols\")) \\\n",
        "      .select(F.expr(\"cols['0']\").alias(\"chunk\"),\n",
        "              F.expr(\"cols['1']['entity']\").alias(\"ner_label\")).show(truncate=False)"
      ]
    },
    {
      "cell_type": "code",
      "source": [
        "# zero_shot_ner\n",
        "result.select(F.explode(F.arrays_zip(result.zero_ner_chunk.result, \n",
        "                                     result.zero_ner_chunk.metadata)).alias(\"cols\")) \\\n",
        "      .select(F.expr(\"cols['0']\").alias(\"chunk\"),\n",
        "              F.expr(\"cols['1']['entity']\").alias(\"ner_label\")).show(truncate=False)"
      ],
      "metadata": {
        "colab": {
          "base_uri": "https://localhost:8080/"
        },
        "id": "oWIpQahtd5qz",
        "outputId": "1190cccf-4f12-426b-ad53-363b445b10d8"
      },
      "id": "oWIpQahtd5qz",
      "execution_count": 57,
      "outputs": [
        {
          "output_type": "stream",
          "name": "stdout",
          "text": [
            "+----------------------+---------+\n",
            "|chunk                 |ner_label|\n",
            "+----------------------+---------+\n",
            "|CADENCE DESIGN SYSTEMS|ORG      |\n",
            "|INC                   |ORG      |\n",
            "+----------------------+---------+\n",
            "\n"
          ]
        }
      ]
    },
    {
      "cell_type": "markdown",
      "source": [
        "It's important the order of the models in MergerChunk. For example, in this case, we have put before the ContextualParser for PHONE numbers than the NER for 10k summaries, which means `000-15867` is detected first as a PHONE number due to the ContextualParser regular expressions without predefined context, and then `CFN` from the NER, whih comes after, is ignored."
      ],
      "metadata": {
        "id": "IIKecmqseI2d"
      },
      "id": "IIKecmqseI2d"
    },
    {
      "cell_type": "code",
      "execution_count": 58,
      "id": "4a899327-42d8-48c1-ab4a-5f692b10be22",
      "metadata": {
        "colab": {
          "base_uri": "https://localhost:8080/"
        },
        "id": "4a899327-42d8-48c1-ab4a-5f692b10be22",
        "outputId": "acfb377e-7371-4baf-b788-689beee2ef73"
      },
      "outputs": [
        {
          "output_type": "stream",
          "name": "stdout",
          "text": [
            "+---------------------------------------------------+-----------------+\n",
            "|chunk                                              |ner_label        |\n",
            "+---------------------------------------------------+-----------------+\n",
            "|000-15867                                          |PHONE            |\n",
            "|CADENCE DESIGN SYSTEMS, INC                        |ORG              |\n",
            "|Delaware                                           |STATE            |\n",
            "|00-0000000                                         |PHONE            |\n",
            "|2655 Seely Avenue, Building 5,\n",
            "San Jose,\n",
            "California|ADDRESS          |\n",
            "|(408)\n",
            "-943-1234                                    |PHONE            |\n",
            "|Common Stock                                       |TITLE_CLASS      |\n",
            "|$0.01                                              |TITLE_CLASS_VALUE|\n",
            "|CDNS                                               |TICKER           |\n",
            "|Nasdaq Global Select Market                        |STOCK_EXCHANGE   |\n",
            "+---------------------------------------------------+-----------------+\n",
            "\n"
          ]
        }
      ],
      "source": [
        "# merged_chunk\n",
        "result.select(F.explode(F.arrays_zip(result.merged_ner_chunks.result, \n",
        "                                     result.merged_ner_chunks.metadata)).alias(\"cols\")) \\\n",
        "      .select(F.expr(\"cols['0']\").alias(\"chunk\"),\n",
        "              F.expr(\"cols['1']['entity']\").alias(\"ner_label\")).show(n=50, truncate=False)"
      ]
    },
    {
      "cell_type": "markdown",
      "id": "0de79296-97f8-4daa-940c-1fd8d176c8c3",
      "metadata": {
        "id": "0de79296-97f8-4daa-940c-1fd8d176c8c3"
      },
      "source": [
        "## Obfuscation mode"
      ]
    },
    {
      "cell_type": "markdown",
      "id": "52e7c83b-780b-4d3e-be7f-604cd310babd",
      "metadata": {
        "id": "52e7c83b-780b-4d3e-be7f-604cd310babd"
      },
      "source": [
        "In the obfuscation mode **DeIdentificationModel** will replace sensitive entities with random values of the same type. \n"
      ]
    },
    {
      "cell_type": "markdown",
      "source": [
        "### Using external [Faker](https://faker.readthedocs.io/en/master/) library"
      ],
      "metadata": {
        "id": "3qJhJlKpegAA"
      },
      "id": "3qJhJlKpegAA"
    },
    {
      "cell_type": "code",
      "source": [
        "!pip install faker"
      ],
      "metadata": {
        "colab": {
          "base_uri": "https://localhost:8080/"
        },
        "id": "DWtHGsUIeh2J",
        "outputId": "79a5b8ef-11cb-4d56-b246-1ada43afb659"
      },
      "id": "DWtHGsUIeh2J",
      "execution_count": 52,
      "outputs": [
        {
          "output_type": "stream",
          "name": "stdout",
          "text": [
            "Looking in indexes: https://pypi.org/simple, https://us-python.pkg.dev/colab-wheels/public/simple/\n",
            "Collecting faker\n",
            "  Downloading Faker-17.3.0-py3-none-any.whl (1.7 MB)\n",
            "\u001b[2K     \u001b[90m━━━━━━━━━━━━━━━━━━━━━━━━━━━━━━━━━━━━━━━━\u001b[0m \u001b[32m1.7/1.7 MB\u001b[0m \u001b[31m71.2 MB/s\u001b[0m eta \u001b[36m0:00:00\u001b[0m\n",
            "\u001b[?25hRequirement already satisfied: python-dateutil>=2.4 in /usr/local/lib/python3.8/dist-packages (from faker) (2.8.2)\n",
            "Requirement already satisfied: six>=1.5 in /usr/local/lib/python3.8/dist-packages (from python-dateutil>=2.4->faker) (1.15.0)\n",
            "Installing collected packages: faker\n",
            "Successfully installed faker-17.3.0\n"
          ]
        }
      ]
    },
    {
      "cell_type": "code",
      "source": [
        "from faker import Faker\n",
        "fk = Faker()"
      ],
      "metadata": {
        "id": "14JQsuxjenrJ"
      },
      "id": "14JQsuxjenrJ",
      "execution_count": 53,
      "outputs": []
    },
    {
      "cell_type": "code",
      "execution_count": 62,
      "id": "31b20c5a-bc56-43e1-9101-6503c23ab49b",
      "metadata": {
        "id": "31b20c5a-bc56-43e1-9101-6503c23ab49b"
      },
      "outputs": [],
      "source": [
        "# This is the obfuscation dict for the new entities\n",
        "obs_lines = \"\"\"NASDAQ#STOCK_EXCHANGE\n",
        "NYSE#STOCK_EXCHANGE\n",
        "London Stock Exchange#STOCK_EXCHANGE\n",
        "Tokyo Stock Exchange#STOCK_EXCHANGE\n",
        "ABCD#TICKER\n",
        "EFGH#TICKER\n",
        "YLJJ#TICKER\n",
        "Common Stock#TITLE_CLASS\n",
        "Preferred Stock#TITLE_CLASS\n",
        "$0.01#TITLE_CLASS_VALUE\n",
        "USD 0.025#TITLE_CLASS_VALUE\n",
        "000-00001#CFN\n",
        "000-00002#CFN\n",
        "000-00003#CFN\"\"\"\n",
        "\n",
        "for _ in range(25):\n",
        "    obs_lines += f\"\\n{fk.name().strip()}#PERSON\"\n",
        "    obs_lines += f\"\\n{fk.date().strip()}#DATE\"\n",
        "    obs_lines += f\"\\n{fk.company().strip()}#ORG\"\n",
        "    obs_lines += f\"\\n{fk.phone_number().strip()}#PHONE\"\n",
        "    obs_lines += f\"\\n{fk.email().strip()}#EMAIL\"\n",
        "    obs_lines += f\"\\n{fk.street_address().strip()}#STREET\"\n",
        "    obs_lines += f\"\\n{fk.city().strip()}#CITY\"\n",
        "    obs_lines += f\"\\n{fk.state().strip()}#STATE\"\n",
        "    obs_lines += f\"\\n{fk.country().strip()}#COUNTRY\"\n",
        "\n",
        "with open ('obfuscate.txt', 'w') as f:\n",
        "    f.write(obs_lines)"
      ]
    },
    {
      "cell_type": "code",
      "source": [
        "# Previous Masking Annotators\n",
        "#deid model with \"entity_labels\"\n",
        "deid_entity_labels= finance.DeIdentification()\\\n",
        "    .setInputCols([\"sentence\", \"token\", \"merged_ner_chunks\"])\\\n",
        "    .setOutputCol(\"deidentified\")\\\n",
        "    .setMode(\"mask\")\\\n",
        "    .setMaskingPolicy(\"entity_labels\")\n",
        "    \n",
        "#deid model with \"same_length_chars\"\n",
        "deid_same_length= finance.DeIdentification()\\\n",
        "    .setInputCols([\"sentence\", \"token\", \"merged_ner_chunks\"])\\\n",
        "    .setOutputCol(\"masked_with_chars\")\\\n",
        "    .setMode(\"mask\")\\\n",
        "    .setMaskingPolicy(\"same_length_chars\")\n",
        "\n",
        "#deid model with \"fixed_length_chars\"\n",
        "deid_fixed_length= finance.DeIdentification()\\\n",
        "    .setInputCols([\"sentence\", \"token\", \"merged_ner_chunks\"])\\\n",
        "    .setOutputCol(\"masked_fixed_length_chars\")\\\n",
        "    .setMode(\"mask\")\\\n",
        "    .setMaskingPolicy(\"fixed_length_chars\")\\\n",
        "    .setFixedMaskLength(4)\n"
      ],
      "metadata": {
        "id": "_wjSsNWPhp_p"
      },
      "id": "_wjSsNWPhp_p",
      "execution_count": 63,
      "outputs": []
    },
    {
      "cell_type": "code",
      "execution_count": 64,
      "id": "210db7c7-e1a3-46ac-941f-160abc068ada",
      "metadata": {
        "id": "210db7c7-e1a3-46ac-941f-160abc068ada"
      },
      "outputs": [],
      "source": [
        "# Obfuscation with Faker\n",
        "obfuscation = finance.DeIdentification()\\\n",
        "    .setInputCols([\"sentence\", \"token\", \"merged_ner_chunks\"]) \\\n",
        "    .setOutputCol(\"obfuscated\") \\\n",
        "    .setMode(\"obfuscate\")\\\n",
        "    .setObfuscateDate(True)\\\n",
        "    .setObfuscateRefFile('obfuscate.txt')\\\n",
        "    .setObfuscateRefSource(\"both\")\n",
        "\n",
        "nlpPipeline = nlp.Pipeline(stages=[\n",
        "      documentAssembler, \n",
        "      sentenceDetector,\n",
        "      tokenizer,\n",
        "      embeddings,\n",
        "      ner_model,\n",
        "      ner_converter,\n",
        "      zero_shot_ner,\n",
        "      zeroshot_ner_converter,\n",
        "      alias_parser,\n",
        "      email_parser,\n",
        "      phone_parser,\n",
        "      chunk_merger,\n",
        "      deid_entity_labels,\n",
        "      deid_same_length,\n",
        "      deid_fixed_length,\n",
        "      obfuscation])\n",
        "\n",
        "obfuscation_model = nlpPipeline.fit(empty_data)"
      ]
    },
    {
      "cell_type": "code",
      "execution_count": 65,
      "id": "38268201-7202-462e-b195-59709e7fdc8f",
      "metadata": {
        "id": "38268201-7202-462e-b195-59709e7fdc8f"
      },
      "outputs": [],
      "source": [
        "text= \"\"\"\n",
        "Commission file number 000-15867 \n",
        "_____________________________________\n",
        " \n",
        "CADENCE DESIGN SYSTEMS, INC. \n",
        "(Exact name of registrant as specified in its charter)\n",
        "____________________________________ \n",
        "Delaware\n",
        " \n",
        "00-0000000\n",
        "(State or Other Jurisdiction ofIncorporation or Organization)\n",
        " \n",
        "(I.R.S. EmployerIdentification No.)\n",
        "2655 Seely Avenue, Building 5,\n",
        "San Jose,\n",
        "California\n",
        " \n",
        "95134\n",
        "(Address of Principal Executive Offices)\n",
        " \n",
        "(Zip Code)\n",
        "(408)\n",
        "-943-1234 \n",
        "(Registrant’s Telephone Number, including Area Code) \n",
        "Securities registered pursuant to Section 12(b) of the Act:\n",
        "Title of Each Class\n",
        "Trading Symbol(s)\n",
        "Names of Each Exchange on which Registered\n",
        "Common Stock, $0.01 par value per share\n",
        "CDNS\n",
        "Nasdaq Global Select Market\n",
        "Securities registered pursuant to Section 12(g) of the Act:\"\"\""
      ]
    },
    {
      "cell_type": "code",
      "execution_count": 66,
      "id": "0264dd21-5927-46b3-82f3-575d7a0b7a16",
      "metadata": {
        "colab": {
          "base_uri": "https://localhost:8080/"
        },
        "id": "0264dd21-5927-46b3-82f3-575d7a0b7a16",
        "outputId": "180caab0-0f6f-41e1-e90c-6612f253cffb"
      },
      "outputs": [
        {
          "output_type": "stream",
          "name": "stdout",
          "text": [
            "Commission file number 9575 9921 \n",
            "_____________________________________\n",
            " \n",
            "Blake, Johnston and Nelson.\n",
            "(Exact name of registrant as specified in its charter)\n",
            "____________________________________ \n",
            "Vermont\n",
            " \n",
            "03.48.72.77.73\n",
            "(State or Other Jurisdiction ofIncorporation or Organization)\n",
            " \n",
            "(I.R.S.\n",
            "EmployerIdentification No.\n",
            ")\n",
            "<ADDRESS>\n",
            " \n",
            "95134\n",
            "(Address of Principal Executive Offices)\n",
            " \n",
            "(Zip Code)\n",
            "040 02.46.36.91.50 \n",
            "(Registrant’s Telephone Number, including Area Code) \n",
            "Securities registered pursuant to Section 12\n",
            "(b) of the Act:\n",
            "Title of Each Class\n",
            "Trading Symbol\n",
            "(s)\n",
            "Names of Each Exchange on which Registered\n",
            "Preferred Stock, $0.01 par value per share\n",
            "ABCD\n",
            "London Stock Exchange\n",
            "Securities registered pursuant to Section 12\n",
            "(g) of the Act:\n"
          ]
        }
      ],
      "source": [
        "result = obfuscation_model.transform(spark.createDataFrame([[text]]).toDF(\"text\"))\n",
        "print(\"\\n\".join(result.select('obfuscated.result').collect()[0].result))"
      ]
    },
    {
      "cell_type": "markdown",
      "id": "3ebd5940-8389-4acb-b505-6dab2eebbbb3",
      "metadata": {
        "id": "3ebd5940-8389-4acb-b505-6dab2eebbbb3"
      },
      "source": [
        "## Using Light Pipelines"
      ]
    },
    {
      "cell_type": "code",
      "execution_count": 67,
      "id": "79bba6fc-b913-4e23-b6e1-315616756073",
      "metadata": {
        "colab": {
          "base_uri": "https://localhost:8080/"
        },
        "id": "79bba6fc-b913-4e23-b6e1-315616756073",
        "outputId": "aacaca72-9e3b-4f84-df9e-4f1fc5545f85"
      },
      "outputs": [
        {
          "output_type": "stream",
          "name": "stdout",
          "text": [
            "Commission file number <PHONE> \n",
            "_____________________________________\n",
            " \n",
            "<ORG>.\n",
            "(Exact name of registrant as specified in its charter)\n",
            "____________________________________ \n",
            "<STATE>\n",
            " \n",
            "<PHONE>\n",
            "(State or Other Jurisdiction ofIncorporation or Organization)\n",
            " \n",
            "(I.R.S.\n",
            "EmployerIdentification No.\n",
            ")\n",
            "<ADDRESS>\n",
            " \n",
            "95134\n",
            "(Address of Principal Executive Offices)\n",
            " \n",
            "(Zip Code)<PHONE> \n",
            "(Registrant’s Telephone Number, including Area Code) \n",
            "Securities registered pursuant to Section 12\n",
            "(b) of the Act:\n",
            "Title of Each Class\n",
            "Trading Symbol\n",
            "(s)\n",
            "Names of Each Exchange on which Registered\n",
            "<TITLE_CLASS>, <TITLE_CLASS_VALUE> par value per share\n",
            "<TICKER>\n",
            "<STOCK_EXCHANGE>\n",
            "Securities registered pursuant to Section 12\n",
            "(g) of the Act:\n"
          ]
        }
      ],
      "source": [
        "light_model = nlp.LightPipeline(obfuscation_model)\n",
        "annotated_text = light_model.annotate(text)\n",
        "print(\"\\n\".join(annotated_text['deidentified']))"
      ]
    },
    {
      "cell_type": "code",
      "execution_count": 68,
      "id": "9f0c3c9f-b7b6-4e68-ae5d-9c8833bf06d4",
      "metadata": {
        "colab": {
          "base_uri": "https://localhost:8080/"
        },
        "id": "9f0c3c9f-b7b6-4e68-ae5d-9c8833bf06d4",
        "outputId": "fc88e363-e1cf-4ac2-d3c6-dfcd563665d4"
      },
      "outputs": [
        {
          "output_type": "stream",
          "name": "stdout",
          "text": [
            "Commission file number 9575 9921 \n",
            "_____________________________________\n",
            " \n",
            "Blake, Johnston and Nelson.\n",
            "(Exact name of registrant as specified in its charter)\n",
            "____________________________________ \n",
            "Vermont\n",
            " \n",
            "03.48.72.77.73\n",
            "(State or Other Jurisdiction ofIncorporation or Organization)\n",
            " \n",
            "(I.R.S.\n",
            "EmployerIdentification No.\n",
            ")\n",
            "<ADDRESS>\n",
            " \n",
            "95134\n",
            "(Address of Principal Executive Offices)\n",
            " \n",
            "(Zip Code)\n",
            "040 02.46.36.91.50 \n",
            "(Registrant’s Telephone Number, including Area Code) \n",
            "Securities registered pursuant to Section 12\n",
            "(b) of the Act:\n",
            "Title of Each Class\n",
            "Trading Symbol\n",
            "(s)\n",
            "Names of Each Exchange on which Registered\n",
            "Preferred Stock, $0.01 par value per share\n",
            "ABCD\n",
            "London Stock Exchange\n",
            "Securities registered pursuant to Section 12\n",
            "(g) of the Act:\n"
          ]
        }
      ],
      "source": [
        "print(\"\\n\".join(annotated_text['obfuscated']))"
      ]
    },
    {
      "cell_type": "markdown",
      "id": "zm9B278ZZlyr",
      "metadata": {
        "id": "zm9B278ZZlyr"
      },
      "source": [
        "## Shifting Days\n",
        "\n",
        "We use the `medical.DocumentHashCoder()` annotator to determine shifting days. This annotator gets the hash of the specified column and creates a new document column containing day shift information. And then, the `medical.DeIdentification()` annotator deidentifies this new doc. We should set the seed parameter to hash consistently.  "
      ]
    },
    {
      "cell_type": "code",
      "execution_count": 77,
      "id": "_17tC0tqZr_l",
      "metadata": {
        "colab": {
          "base_uri": "https://localhost:8080/"
        },
        "id": "_17tC0tqZr_l",
        "outputId": "30592ba9-97ec-4cc4-e259-8452551a2d36"
      },
      "outputs": [
        {
          "output_type": "stream",
          "name": "stdout",
          "text": [
            "+----------+-----------------------------------------------+\n",
            "|DocumentID|text                                           |\n",
            "+----------+-----------------------------------------------+\n",
            "|A001      |Mark Johansson has bought a stock on 02/28/2020|\n",
            "|A002      |John has bought a house on 03/15/2022          |\n",
            "+----------+-----------------------------------------------+\n",
            "\n"
          ]
        }
      ],
      "source": [
        "import pandas as pd\n",
        "\n",
        "data = pd.DataFrame(\n",
        "    {'DocumentID' : ['A001', 'A002'],\n",
        "     'text' : ['Mark Johansson has bought a stock on 02/28/2020', \n",
        "               'John has bought a house on 03/15/2022',\n",
        "               ]\n",
        "    }\n",
        ")\n",
        "\n",
        "my_input_df = spark.createDataFrame(data)\n",
        "\n",
        "my_input_df.show(truncate = False)"
      ]
    },
    {
      "cell_type": "markdown",
      "id": "Rsp2fUfMwlC0",
      "metadata": {
        "id": "Rsp2fUfMwlC0"
      },
      "source": [
        "### Shifting days according to the ID column\n",
        "\n",
        "We use the `legal.DocumentHashCoder()` annotator to determine shifting days. This annotator gets the hash of the specified column and creates a new document column containing day shift information. And then, the `legal.DeIdentification()` annotator deidentifies this new doc. We should set the seed parameter to hash consistently.  "
      ]
    },
    {
      "cell_type": "code",
      "execution_count": 84,
      "id": "IH83aro3wg9w",
      "metadata": {
        "colab": {
          "base_uri": "https://localhost:8080/"
        },
        "id": "IH83aro3wg9w",
        "outputId": "bc662150-07e7-480d-a785-cd3963b14a98"
      },
      "outputs": [
        {
          "output_type": "stream",
          "name": "stdout",
          "text": [
            "bert_embeddings_sec_bert_base download started this may take some time.\n",
            "Approximate size to download 390.4 MB\n",
            "[OK!]\n",
            "finner_deid_sec download started this may take some time.\n",
            "[OK!]\n"
          ]
        }
      ],
      "source": [
        "documentAssembler = nlp.DocumentAssembler()\\\n",
        "    .setInputCol(\"text\")\\\n",
        "    .setOutputCol(\"document\")\n",
        "\n",
        "documentHasher = finance.DocumentHashCoder()\\\n",
        "    .setInputCols(\"document\")\\\n",
        "    .setOutputCol(\"document2\")\\\n",
        "    .setPatientIdColumn(\"DocumentID\")\\\n",
        "    .setRangeDays(100)\\\n",
        "    .setNewDateShift(\"shift_days\")\\\n",
        "    .setSeed(100)\n",
        "\n",
        "\n",
        "# sentenceDetector = nlp.SentenceDetector()\\\n",
        "#     .setInputCols([\"document2\"])\\\n",
        "#     .setOutputCol(\"sentence\")\n",
        "\n",
        "tokenizer = nlp.Tokenizer()\\\n",
        "    .setInputCols([\"document2\"])\\\n",
        "    .setOutputCol(\"token\")\n",
        "\n",
        "embeddings = nlp.BertEmbeddings.pretrained(\"bert_embeddings_sec_bert_base\",\"en\")\\\n",
        "    .setInputCols([\"document2\", \"token\"])\\\n",
        "    .setOutputCol(\"embeddings\")\n",
        "\n",
        "finance_ner = finance.NerModel.pretrained('finner_deid_sec', \"en\", \"finance/models\")\\\n",
        "    .setInputCols([\"document2\", \"token\", \"embeddings\"]) \\\n",
        "    .setOutputCol(\"ner\") \n",
        "    #.setLabelCasing(\"upper\")\n",
        "\n",
        "ner_converter = finance.NerConverterInternal() \\\n",
        "    .setInputCols([\"document2\", \"token\", \"ner\"])\\\n",
        "    .setOutputCol(\"ner_chunk\")\n",
        "\n",
        "\n",
        "deid = finance.DeIdentification()\\\n",
        "    .setInputCols([\"sentence\", \"token\", \"ner_chunk\"]) \\\n",
        "    .setOutputCol(\"deidentified\") \\\n",
        "    .setMode(\"obfuscate\") \\\n",
        "    .setObfuscateDate(True) \\\n",
        "    .setDateTag(\"DATE\") \\\n",
        "    .setLanguage(\"en\") \\\n",
        "    .setObfuscateRefSource('faker') \\\n",
        "    .setUseShifDays(True)\\\n",
        "    .setRegion('us')\n",
        "\n",
        "pipeline = nlp.Pipeline(stages=[\n",
        "      documentAssembler, \n",
        "      documentHasher,\n",
        "      tokenizer,\n",
        "      embeddings,\n",
        "      finance_ner,\n",
        "      ner_converter,\n",
        "      deid])\n",
        "\n",
        "empty_data = spark.createDataFrame([[\"\", \"\"]]).toDF(\"text\", \"DocumentID\")\n",
        "\n",
        "pipeline_model = pipeline.fit(empty_data)"
      ]
    },
    {
      "cell_type": "code",
      "execution_count": 78,
      "id": "KPz7-XcBwhBT",
      "metadata": {
        "colab": {
          "base_uri": "https://localhost:8080/"
        },
        "id": "KPz7-XcBwhBT",
        "outputId": "29da95eb-7039-4049-c15e-86b582457930"
      },
      "outputs": [
        {
          "output_type": "stream",
          "name": "stdout",
          "text": [
            "+----------+-----------------------------------------------+-------------------------------------------+\n",
            "|DocumentID|text                                           |result                                     |\n",
            "+----------+-----------------------------------------------+-------------------------------------------+\n",
            "|A001      |Mark Johansson has bought a stock on 02/28/2020|[<PERSON> has bought a stock on 04/26/2020]|\n",
            "|A002      |John has bought a house on 03/15/2022          |[<PERSON> has bought a house on 03/19/2022]|\n",
            "+----------+-----------------------------------------------+-------------------------------------------+\n",
            "\n"
          ]
        }
      ],
      "source": [
        "output = pipeline_model.transform(my_input_df)\n",
        "\n",
        "output.select('DocumentID','text', 'deidentified.result').show(truncate = False)"
      ]
    },
    {
      "cell_type": "markdown",
      "id": "zpJiuktQwrkt",
      "metadata": {
        "id": "zpJiuktQwrkt"
      },
      "source": [
        "### Shifting days according to specified values\n",
        "\n",
        "Instead of shifting days according to ID column, we can specify shifting values with another column.\n",
        "\n",
        "```python\n",
        "documentHasher = finance.DocumentHashCoder()\\\n",
        "    .setInputCols(\"document\")\\\n",
        "    .setOutputCol(\"document2\")\\\n",
        "    .setDateShiftColumn(\"dateshift\")\\\n",
        "```\n"
      ]
    },
    {
      "cell_type": "code",
      "execution_count": 85,
      "id": "zexpaYvcwrtG",
      "metadata": {
        "colab": {
          "base_uri": "https://localhost:8080/"
        },
        "id": "zexpaYvcwrtG",
        "outputId": "43845594-fab9-44ed-d2dd-5bc7101968fa"
      },
      "outputs": [
        {
          "output_type": "stream",
          "name": "stdout",
          "text": [
            "+----------+-----------------------------------------------+---------+\n",
            "|DocumentID|text                                           |dateshift|\n",
            "+----------+-----------------------------------------------+---------+\n",
            "|A001      |Mark Johansson has bought a stock on 02/28/2020|5        |\n",
            "|A002      |John has bought a house on 03/15/2022          |10       |\n",
            "+----------+-----------------------------------------------+---------+\n",
            "\n"
          ]
        }
      ],
      "source": [
        "data = pd.DataFrame(\n",
        "    {'DocumentID' : ['A001', 'A002'],\n",
        "     'text' : ['Mark Johansson has bought a stock on 02/28/2020', \n",
        "               'John has bought a house on 03/15/2022',\n",
        "               ],\n",
        "     'dateshift' : ['5', '10']\n",
        "    }\n",
        ")\n",
        "\n",
        "\n",
        "my_input_df = spark.createDataFrame(data)\n",
        "\n",
        "my_input_df.show(truncate = False)"
      ]
    },
    {
      "cell_type": "code",
      "execution_count": 86,
      "id": "dgB4NqBi0Z-t",
      "metadata": {
        "colab": {
          "base_uri": "https://localhost:8080/"
        },
        "id": "dgB4NqBi0Z-t",
        "outputId": "a512a7ec-c730-4991-9880-c6916902f2be"
      },
      "outputs": [
        {
          "output_type": "stream",
          "name": "stdout",
          "text": [
            "bert_embeddings_sec_bert_base download started this may take some time.\n",
            "Approximate size to download 390.4 MB\n",
            "[OK!]\n",
            "finner_deid_sec download started this may take some time.\n",
            "[OK!]\n"
          ]
        }
      ],
      "source": [
        "documentAssembler = nlp.DocumentAssembler()\\\n",
        "    .setInputCol(\"text\")\\\n",
        "    .setOutputCol(\"document\")\n",
        "\n",
        "documentHasher = finance.DocumentHashCoder()\\\n",
        "    .setInputCols(\"document\")\\\n",
        "    .setOutputCol(\"document2\")\\\n",
        "    .setDateShiftColumn(\"dateshift\")\\\n",
        "\n",
        "# sentenceDetector = nlp.SentenceDetector()\\\n",
        "#     .setInputCols([\"document2\"])\\\n",
        "#     .setOutputCol(\"sentence\")\n",
        "\n",
        "tokenizer = nlp.Tokenizer()\\\n",
        "    .setInputCols([\"document2\"])\\\n",
        "    .setOutputCol(\"token\")\n",
        "\n",
        "embeddings = nlp.BertEmbeddings.pretrained(\"bert_embeddings_sec_bert_base\",\"en\")\\\n",
        "    .setInputCols([\"document2\", \"token\"])\\\n",
        "    .setOutputCol(\"embeddings\")\n",
        "\n",
        "finance_ner = finance.NerModel.pretrained('finner_deid_sec', \"en\", \"finance/models\")\\\n",
        "    .setInputCols([\"document2\", \"token\", \"embeddings\"]) \\\n",
        "    .setOutputCol(\"ner\") \n",
        "    #.setLabelCasing(\"upper\")\n",
        "\n",
        "ner_converter = finance.NerConverterInternal() \\\n",
        "    .setInputCols([\"document2\", \"token\", \"ner\"])\\\n",
        "    .setOutputCol(\"ner_chunk\")\n",
        "\n",
        "obfuscation = finance.DeIdentification()\\\n",
        "    .setInputCols([\"document2\", \"token\", \"ner_chunk\"]) \\\n",
        "    .setOutputCol(\"deidentified\") \\\n",
        "    .setMode(\"obfuscate\") \\\n",
        "    .setObfuscateDate(True) \\\n",
        "    .setDateTag(\"DATE\") \\\n",
        "    .setLanguage(\"en\") \\\n",
        "    .setObfuscateRefSource('faker') \\\n",
        "    .setUseShifDays(True)\\\n",
        "    .setRegion('us')\n",
        "\n",
        "pipeline = nlp.Pipeline(stages=[\n",
        "      documentAssembler, \n",
        "      documentHasher,\n",
        "      tokenizer,\n",
        "      embeddings,\n",
        "      finance_ner,\n",
        "      ner_converter,\n",
        "      obfuscation])\n",
        "\n",
        "empty_data = spark.createDataFrame([[\"\", \"\", \"\"]]).toDF(\"text\", \"DocumentID\", \"dateshift\")\n",
        "\n",
        "pipeline_model = pipeline.fit(empty_data)"
      ]
    },
    {
      "cell_type": "code",
      "execution_count": 87,
      "id": "tVV_Tb5a1IY3",
      "metadata": {
        "colab": {
          "base_uri": "https://localhost:8080/"
        },
        "id": "tVV_Tb5a1IY3",
        "outputId": "a487528d-a9c8-45d8-c8fc-dcf1b0d22e19"
      },
      "outputs": [
        {
          "output_type": "stream",
          "name": "stdout",
          "text": [
            "+-----------------------------------------------+---------+-------------------------------------------+\n",
            "|text                                           |dateshift|result                                     |\n",
            "+-----------------------------------------------+---------+-------------------------------------------+\n",
            "|Mark Johansson has bought a stock on 02/28/2020|5        |[<PERSON> has bought a stock on 03/04/2020]|\n",
            "|John has bought a house on 03/15/2022          |10       |[<PERSON> has bought a house on 03/25/2022]|\n",
            "+-----------------------------------------------+---------+-------------------------------------------+\n",
            "\n"
          ]
        }
      ],
      "source": [
        "output = pipeline_model.transform(my_input_df)\n",
        "\n",
        "output.select('text', 'dateshift', 'deidentified.result').show(truncate = False)"
      ]
    },
    {
      "cell_type": "markdown",
      "id": "_olmWxXfV5AO",
      "metadata": {
        "id": "_olmWxXfV5AO"
      },
      "source": [
        "### Masking Unnormalized Date Formats\n",
        "\n",
        "`setUnnormalizedDateMode()` parameter is used to mask the DATE entities that can not be normalized. In the example below, please check `03Apr2022` which couldn't be normalized and it is masked in the output."
      ]
    },
    {
      "cell_type": "code",
      "execution_count": 91,
      "id": "ecMNdkr_V0Xq",
      "metadata": {
        "colab": {
          "base_uri": "https://localhost:8080/"
        },
        "id": "ecMNdkr_V0Xq",
        "outputId": "13b0eac8-5e13-476f-b6bf-a484edadcc30"
      },
      "outputs": [
        {
          "output_type": "stream",
          "name": "stdout",
          "text": [
            "bert_embeddings_sec_bert_base download started this may take some time.\n",
            "Approximate size to download 390.4 MB\n",
            "[OK!]\n",
            "finner_deid_sec download started this may take some time.\n",
            "[OK!]\n",
            "+-----------------------------------------------+---------+-------------------------------------------+\n",
            "|text                                           |dateshift|result                                     |\n",
            "+-----------------------------------------------+---------+-------------------------------------------+\n",
            "|Mark Johansson has bought a stock on 02/28/2020|5        |[<PERSON> has bought a stock on 03/24/2020]|\n",
            "|John has bought a house on 03Apr2022           |10       |[<PERSON> has bought a house on <DATE>]    |\n",
            "+-----------------------------------------------+---------+-------------------------------------------+\n",
            "\n"
          ]
        }
      ],
      "source": [
        "data = pd.DataFrame(\n",
        "    {'DocumentID' : ['A001', 'A002'],\n",
        "     'text' : ['Mark Johansson has bought a stock on 02/28/2020', \n",
        "               'John has bought a house on 03Apr2022'],\n",
        "     'dateshift' : ['5', '10']\n",
        "    }\n",
        ")\n",
        "\n",
        "my_input_df = spark.createDataFrame(data)\n",
        "\n",
        "\n",
        "documentAssembler = nlp.DocumentAssembler()\\\n",
        "    .setInputCol(\"text\")\\\n",
        "    .setOutputCol(\"document\")\n",
        "\n",
        "documentHasher = finance.DocumentHashCoder()\\\n",
        "    .setInputCols(\"document\")\\\n",
        "    .setOutputCol(\"document2\")\\\n",
        "    .setDateShiftColumn(\"dateshift\")\\\n",
        "\n",
        "\n",
        "# sentenceDetector = nlp.SentenceDetector()\n",
        "#     .setInputCols([\"document2\"])\\\n",
        "#     .setOutputCol(\"sentence\")\n",
        "\n",
        "tokenizer = nlp.Tokenizer()\\\n",
        "    .setInputCols([\"document2\"])\\\n",
        "    .setOutputCol(\"token\")\n",
        "\n",
        "embeddings = nlp.BertEmbeddings.pretrained(\"bert_embeddings_sec_bert_base\",\"en\")\\\n",
        "    .setInputCols([\"document2\", \"token\"])\\\n",
        "    .setOutputCol(\"embeddings\")\n",
        "\n",
        "legal_ner = finance.NerModel.pretrained('finner_deid_sec', \"en\", \"finance/models\")\\\n",
        "    .setInputCols([\"document2\", \"token\", \"embeddings\"]) \\\n",
        "    .setOutputCol(\"ner\") \n",
        "    #.setLabelCasing(\"upper\")\n",
        "\n",
        "ner_converter = finance.NerConverterInternal() \\\n",
        "    .setInputCols([\"document2\", \"token\", \"ner\"])\\\n",
        "    .setOutputCol(\"ner_chunk\")\n",
        "\n",
        "obfuscation = finance.DeIdentification()\\\n",
        "    .setInputCols([\"sentence\", \"token\", \"ner_chunk\"]) \\\n",
        "    .setOutputCol(\"deidentified\") \\\n",
        "    .setMode(\"obfuscate\") \\\n",
        "    .setObfuscateDate(True) \\\n",
        "    .setDateTag(\"DATE\") \\\n",
        "    .setLanguage(\"en\") \\\n",
        "    .setObfuscateRefSource('faker') \\\n",
        "    .setUseShifDays(True)\\\n",
        "    .setRegion('us')\\\n",
        "    .setUnnormalizedDateMode(\"mask\")\n",
        "\n",
        "pipeline = nlp.Pipeline(stages=[\n",
        "      documentAssembler, \n",
        "      documentHasher,\n",
        "      sentenceDetector,\n",
        "      tokenizer,\n",
        "      embeddings,\n",
        "      legal_ner,\n",
        "      ner_converter,\n",
        "      obfuscation])\n",
        "\n",
        "\n",
        "output = pipeline.fit(my_input_df).transform(my_input_df)\n",
        "\n",
        "output.select('text', 'dateshift', 'deidentified.result').show(truncate = False)"
      ]
    },
    {
      "cell_type": "markdown",
      "id": "zwM9GsKnXPOg",
      "metadata": {
        "id": "zwM9GsKnXPOg"
      },
      "source": [
        "# Structured Deidentification"
      ]
    },
    {
      "cell_type": "code",
      "execution_count": 92,
      "id": "JLY-pfeYXQAY",
      "metadata": {
        "colab": {
          "base_uri": "https://localhost:8080/"
        },
        "id": "JLY-pfeYXQAY",
        "outputId": "e8a17462-ee59-4f2f-d88c-f215ec814450"
      },
      "outputs": [
        {
          "output_type": "stream",
          "name": "stdout",
          "text": [
            "+---------------+----------+---+----------------------------------------------------+-------+--------------+---+---+\n",
            "|NAME           |DOB       |AGE|ADDRESS                                             |ZIPCODE|TEL           |SBP|DBP|\n",
            "+---------------+----------+---+----------------------------------------------------+-------+--------------+---+---+\n",
            "|Cecilia Chapman|04/02/1935|83 |711-2880 Nulla St. Mankato Mississippi              |69200  |(257) 563-7401|101|42 |\n",
            "|Iris Watson    |03/10/2009|9  |P.O. Box 283 8562 Fusce Rd. Frederick Nebraska      |20620  |(372) 587-2335|159|122|\n",
            "|Bryar Pitts    |11/01/1921|98 |5543 Aliquet St. Fort Dodge GA                      |20783  |(717) 450-4729|149|52 |\n",
            "|Theodore Lowe  |13/02/2002|16 |Ap #867-859 Sit Rd. Azusa New York                  |39531  |(793) 151-6230|134|115|\n",
            "|Calista Wise   |20/08/1942|76 |7292 Dictum Av. San Antonio MI                      |47096  |(492) 709-6392|139|78 |\n",
            "|Kyla Olsen     |12/05/1973|45 |Ap #651-8679 Sodales Av. Tamuning PA                |10855  |(654) 393-5734|120|112|\n",
            "|Forrest Ray    |11/01/1991|27 |191-103 Integer Rd. Corona New Mexico               |8219   |(404) 960-3807|143|126|\n",
            "|Hiroko Potter  |18/11/1937|81 |P.O. Box 887 2508 Dolor. Av. Muskegon KY            |12482  |(314) 244-6306|147|75 |\n",
            "|Celeste Slater |12/05/1980|38 |606-3727 Ullamcorper. Street Roseville NH           |11523  |(786) 713-8616|147|123|\n",
            "|Nyssa Vazquez  |24/09/1956|62 |511-5762 At Rd. Chelsea MI                          |67708  |(947) 278-5929|129|50 |\n",
            "|Lawrence Moreno|26/12/1906|112|935-9940 Tortor. Street Santa Rosa MN               |98804  |(684) 579-1879|133|102|\n",
            "|Ina Moran      |26/10/1983|35 |P.O. Box 929 4189 Nunc Road Lebanon KY              |69409  |(389) 737-2852|101|67 |\n",
            "|Aaron Hawkins  |26/09/2009|9  |5587 Nunc. Avenue Erie Rhode Island                 |24975  |(660) 663-4518|87 |81 |\n",
            "|Hedy Greene    |03/10/1920|98 |Ap #696-3279 Viverra. Avenue Latrobe DE             |38100  |(608) 265-2215|128|123|\n",
            "|Melvin Porter  |14/08/1911|107|P.O. Box 132 1599 Curabitur Rd. Bandera South Dakota|45149  |(959) 119-8364|83 |43 |\n",
            "|Keefe Sellers  |16/05/1937|81 |347-7666 Iaculis St. Woodruff SC                    |49854  |(468) 353-2641|148|109|\n",
            "|Joan Romero    |08/12/2004|14 |666-4366 Lacinia Avenue Idaho Falls Ohio            |19253  |(248) 675-4007|75 |53 |\n",
            "|Davis Patrick  |09/01/1956|63 |P.O. Box 147 2546 Sociosqu Rd. Bethlehem Utah       |2913   |(939) 353-1107|142|62 |\n",
            "|Leilani Boyer  |18/10/1934|84 |557-6308 Lacinia Road San Bernardino ND             |9289   |(570) 873-7090|137|48 |\n",
            "|Colby Bernard  |02/10/1905|113|Ap #285-7193 Ullamcorper Avenue Amesbury HI         |93373  |(302) 259-2375|84 |41 |\n",
            "+---------------+----------+---+----------------------------------------------------+-------+--------------+---+---+\n",
            "only showing top 20 rows\n",
            "\n"
          ]
        }
      ],
      "source": [
        "!wget -q https://raw.githubusercontent.com/JohnSnowLabs/spark-nlp-workshop/master/legal-nlp/data/hipaa-table-001.txt\n",
        "\n",
        "df = spark.read.format(\"csv\") \\\n",
        "    .option(\"sep\", \"\\t\") \\\n",
        "    .option(\"inferSchema\", \"true\") \\\n",
        "    .option(\"header\", \"true\") \\\n",
        "    .load(\"hipaa-table-001.txt\")\n",
        "\n",
        "df.show(truncate=False)"
      ]
    },
    {
      "cell_type": "code",
      "execution_count": 93,
      "id": "PQ84IQTGcFAd",
      "metadata": {
        "colab": {
          "base_uri": "https://localhost:8080/"
        },
        "id": "PQ84IQTGcFAd",
        "outputId": "3cf1b2a8-b45b-4a7a-9a21-35514ff7594f"
      },
      "outputs": [
        {
          "output_type": "stream",
          "name": "stdout",
          "text": [
            "+--------------------+----------+----+----------------------------------------------------+-------+--------------+---+---+\n",
            "|NAME                |DOB       |AGE |ADDRESS                                             |ZIPCODE|TEL           |SBP|DBP|\n",
            "+--------------------+----------+----+----------------------------------------------------+-------+--------------+---+---+\n",
            "|[Lorenda Heman]     |04/02/1935|[60]|711-2880 Nulla St. Mankato Mississippi              |69200  |(257) 563-7401|101|42 |\n",
            "|[Juliette Goodnight]|03/10/2009|[11]|P.O. Box 283 8562 Fusce Rd. Frederick Nebraska      |20620  |(372) 587-2335|159|122|\n",
            "|[Rickford Medin]    |11/01/1921|[60]|5543 Aliquet St. Fort Dodge GA                      |20783  |(717) 450-4729|149|52 |\n",
            "|[Vilma Dirks]       |13/02/2002|[17]|Ap #867-859 Sit Rd. Azusa New York                  |39531  |(793) 151-6230|134|115|\n",
            "|[Estill Shield]     |20/08/1942|[60]|7292 Dictum Av. San Antonio MI                      |47096  |(492) 709-6392|139|78 |\n",
            "|[Yolande Drilling]  |12/05/1973|[45]|Ap #651-8679 Sodales Av. Tamuning PA                |10855  |(654) 393-5734|120|112|\n",
            "|[Lonnie Atta]       |11/01/1991|[32]|191-103 Integer Rd. Corona New Mexico               |8219   |(404) 960-3807|143|126|\n",
            "|[Napolean Presto]   |18/11/1937|[60]|P.O. Box 887 2508 Dolor. Av. Muskegon KY            |12482  |(314) 244-6306|147|75 |\n",
            "|[Bartolo Siva]      |12/05/1980|[36]|606-3727 Ullamcorper. Street Roseville NH           |11523  |(786) 713-8616|147|123|\n",
            "|[Jude Stagger]      |24/09/1956|[60]|511-5762 At Rd. Chelsea MI                          |67708  |(947) 278-5929|129|50 |\n",
            "|[Alvie Amen]        |26/12/1906|[60]|935-9940 Tortor. Street Santa Rosa MN               |98804  |(684) 579-1879|133|102|\n",
            "|[Eladio Manor]      |26/10/1983|[33]|P.O. Box 929 4189 Nunc Road Lebanon KY              |69409  |(389) 737-2852|101|67 |\n",
            "|[Mercie Peace]      |26/09/2009|[11]|5587 Nunc. Avenue Erie Rhode Island                 |24975  |(660) 663-4518|87 |81 |\n",
            "|[Kimberly Showers]  |03/10/1920|[60]|Ap #696-3279 Viverra. Avenue Latrobe DE             |38100  |(608) 265-2215|128|123|\n",
            "|[Rena Rily]         |14/08/1911|[60]|P.O. Box 132 1599 Curabitur Rd. Bandera South Dakota|45149  |(959) 119-8364|83 |43 |\n",
            "|[Arty Engman]       |16/05/1937|[60]|347-7666 Iaculis St. Woodruff SC                    |49854  |(468) 353-2641|148|109|\n",
            "|[Adell Comp]        |08/12/2004|[13]|666-4366 Lacinia Avenue Idaho Falls Ohio            |19253  |(248) 675-4007|75 |53 |\n",
            "|[Merwyn Leisure]    |09/01/1956|[60]|P.O. Box 147 2546 Sociosqu Rd. Bethlehem Utah       |2913   |(939) 353-1107|142|62 |\n",
            "|[Odean Mends]       |18/10/1934|[60]|557-6308 Lacinia Road San Bernardino ND             |9289   |(570) 873-7090|137|48 |\n",
            "|[Jarvis Billow]     |02/10/1905|[60]|Ap #285-7193 Ullamcorper Avenue Amesbury HI         |93373  |(302) 259-2375|84 |41 |\n",
            "+--------------------+----------+----+----------------------------------------------------+-------+--------------+---+---+\n",
            "only showing top 20 rows\n",
            "\n"
          ]
        }
      ],
      "source": [
        "obfuscator = finance.StructuredDeidentification(spark,{\"NAME\":\"PATIENT\",\"AGE\":\"AGE\"}, obfuscateRefSource = \"faker\")\n",
        "obfuscator_df = obfuscator.obfuscateColumns(df)\n",
        "obfuscator_df.show(truncate=False)"
      ]
    },
    {
      "cell_type": "code",
      "execution_count": 94,
      "id": "-GmMv8T-I0CX",
      "metadata": {
        "id": "-GmMv8T-I0CX"
      },
      "outputs": [],
      "source": [
        "obfuscator_unique_ref_test = '''Will Perry#CLIENT\n",
        "John Smith#CLIENT\n",
        "Marvin MARSHALL#CLIENT\n",
        "Hubert GROGAN#CLIENT\n",
        "ALTHEA COLBURN#CLIENT\n",
        "Kalil AMIN#CLIENT\n",
        "Inci FOUNTAIN#CLIENT\n",
        "Jackson WILLE#CLIENT\n",
        "Jack SANTOS#CLIENT\n",
        "Mahmood ALBURN#CLIENT\n",
        "Marnie MELINGTON#CLIENT\n",
        "Aysha GHAZI#CLIENT\n",
        "Maryland CODER#CLIENT\n",
        "Darene GEORGIOUS#CLIENT\n",
        "Shelly WELLBECK#CLIENT\n",
        "Min Kun JAE#CLIENT\n",
        "Thomson THOMAS#CLIENT\n",
        "Christian SUDDINBURG#CLIENT\n",
        "Aberdeen#CITY\n",
        "Louisburg St#STREET\n",
        "France#LOC\n",
        "5552312#PHONE\n",
        "Calle del Libertador#ADDRESS\n",
        "111#ID\n",
        "20#AGE\n",
        "30#AGE\n",
        "40#AGE\n",
        "50#AGE\n",
        "60#AGE\n",
        "'''\n",
        "\n",
        "with open('obfuscator_unique_ref_test.txt', 'w') as f:\n",
        "  f.write(obfuscator_unique_ref_test)"
      ]
    },
    {
      "cell_type": "code",
      "execution_count": 95,
      "id": "PTwdR034I70n",
      "metadata": {
        "colab": {
          "base_uri": "https://localhost:8080/"
        },
        "id": "PTwdR034I70n",
        "outputId": "bc9fa7c3-c173-4b29-d445-be030e381b33"
      },
      "outputs": [
        {
          "output_type": "stream",
          "name": "stdout",
          "text": [
            "+------------------+----+\n",
            "|NAME              |AGE |\n",
            "+------------------+----+\n",
            "|[Inci FOUNTAIN]   |[60]|\n",
            "|[Jack SANTOS]     |[30]|\n",
            "|[Darene GEORGIOUS]|[30]|\n",
            "|[Shelly WELLBECK] |[40]|\n",
            "|[Hubert GROGAN]   |[40]|\n",
            "|[Kalil AMIN]      |[40]|\n",
            "|[ALTHEA COLBURN]  |[60]|\n",
            "|[Thomson THOMAS]  |[60]|\n",
            "|[Jack SANTOS]     |[60]|\n",
            "|[Will Perry]      |[20]|\n",
            "|[Jackson WILLE]   |[60]|\n",
            "|[Shelly WELLBECK] |[40]|\n",
            "|[Kalil AMIN]      |[30]|\n",
            "|[Marnie MELINGTON]|[30]|\n",
            "|[Min Kun JAE]     |[30]|\n",
            "|[Marvin MARSHALL] |[60]|\n",
            "|[Marvin MARSHALL] |[50]|\n",
            "|[Min Kun JAE]     |[30]|\n",
            "|[Maryland CODER]  |[20]|\n",
            "|[Marnie MELINGTON]|[20]|\n",
            "+------------------+----+\n",
            "only showing top 20 rows\n",
            "\n"
          ]
        }
      ],
      "source": [
        "# obfuscateRefSource = \"file\"\n",
        "\n",
        "obfuscator = finance.StructuredDeidentification(spark,{\"NAME\":\"CLIENT\",\"AGE\":\"AGE\"}, \n",
        "                                        obfuscateRefFile = \"/content/obfuscator_unique_ref_test.txt\",\n",
        "                                        obfuscateRefSource = \"file\",\n",
        "                                        columnsSeed={\"NAME\": 23, \"AGE\": 23})\n",
        "obfuscator_df = obfuscator.obfuscateColumns(df)\n",
        "obfuscator_df.select(\"NAME\",\"AGE\").show(truncate=False)"
      ]
    },
    {
      "cell_type": "markdown",
      "id": "w8tW5fFafQmL",
      "metadata": {
        "id": "w8tW5fFafQmL"
      },
      "source": [
        "We can **shift n days** in the structured deidentification through \"days\" parameter when the column is a Date."
      ]
    },
    {
      "cell_type": "code",
      "execution_count": 96,
      "id": "iBzoNufMfYCn",
      "metadata": {
        "colab": {
          "base_uri": "https://localhost:8080/"
        },
        "id": "iBzoNufMfYCn",
        "outputId": "a7e75da5-31bb-425c-f069-f7b222f402d7"
      },
      "outputs": [
        {
          "output_type": "stream",
          "name": "stdout",
          "text": [
            "+-------------+----------+-----------------------+---+----------------+\n",
            "|NAME         |DOB       |ADDRESS                |SBP|TEL             |\n",
            "+-------------+----------+-----------------------+---+----------------+\n",
            "|Juan García  |13/02/1977|711 Nulla St.          |140|673 431234      |\n",
            "|Will Smith   |23/02/1977|1 Green Avenue.        |140|+23 (673) 431234|\n",
            "|Pedro Ximénez|11/04/1900|Calle del Libertador, 7|100|912 345623      |\n",
            "+-------------+----------+-----------------------+---+----------------+\n",
            "\n"
          ]
        }
      ],
      "source": [
        "df = spark.createDataFrame([\n",
        "            [\"Juan García\", \"13/02/1977\", \"711 Nulla St.\", \"140\", \"673 431234\"],\n",
        "            [\"Will Smith\", \"23/02/1977\", \"1 Green Avenue.\", \"140\", \"+23 (673) 431234\"],\n",
        "            [\"Pedro Ximénez\", \"11/04/1900\", \"Calle del Libertador, 7\", \"100\", \"912 345623\"]\n",
        "        ]).toDF(\"NAME\", \"DOB\", \"ADDRESS\", \"SBP\", \"TEL\")\n",
        "df.show(truncate=False)"
      ]
    },
    {
      "cell_type": "code",
      "execution_count": 97,
      "id": "Fez0Rqq_fX3C",
      "metadata": {
        "id": "Fez0Rqq_fX3C"
      },
      "outputs": [],
      "source": [
        "obfuscator = finance.StructuredDeidentification(spark=spark, \n",
        "                                        columns={\"NAME\": \"ID\", \"DOB\": \"DATE\"},\n",
        "                                        columnsSeed={\"NAME\": 23, \"DOB\": 23},\n",
        "                                        obfuscateRefSource=\"faker\",\n",
        "                                        days=5\n",
        "                                         )"
      ]
    },
    {
      "cell_type": "code",
      "execution_count": 98,
      "id": "HgNuMKhngFq2",
      "metadata": {
        "colab": {
          "base_uri": "https://localhost:8080/"
        },
        "id": "HgNuMKhngFq2",
        "outputId": "8f021747-7872-48c4-cae8-f5b118d444f8"
      },
      "outputs": [
        {
          "output_type": "stream",
          "name": "stdout",
          "text": [
            "+----------+------------+-----------------------+---+----------------+\n",
            "|NAME      |DOB         |ADDRESS                |SBP|TEL             |\n",
            "+----------+------------+-----------------------+---+----------------+\n",
            "|[N2649912]|[18/02/1977]|711 Nulla St.          |140|673 431234      |\n",
            "|[W466004] |[28/02/1977]|1 Green Avenue.        |140|+23 (673) 431234|\n",
            "|[M403810] |[16/04/1900]|Calle del Libertador, 7|100|912 345623      |\n",
            "+----------+------------+-----------------------+---+----------------+\n",
            "\n"
          ]
        }
      ],
      "source": [
        "result = obfuscator.obfuscateColumns(df)\n",
        "result.show(truncate=False)"
      ]
    },
    {
      "cell_type": "markdown",
      "id": "cc5ac615-13af-4149-bf78-96e2d27d9c5f",
      "metadata": {
        "id": "cc5ac615-13af-4149-bf78-96e2d27d9c5f"
      },
      "source": [
        "# Save the Pipeline and Use it from Your Local"
      ]
    },
    {
      "cell_type": "code",
      "execution_count": 99,
      "id": "f54386d7-486c-44e9-9557-954c45d9d493",
      "metadata": {
        "id": "f54386d7-486c-44e9-9557-954c45d9d493"
      },
      "outputs": [],
      "source": [
        "model.write().overwrite().save('pipeline_deid')"
      ]
    },
    {
      "cell_type": "code",
      "execution_count": 100,
      "id": "2a6de84f-d5da-405a-afe6-7d3840dd454d",
      "metadata": {
        "id": "2a6de84f-d5da-405a-afe6-7d3840dd454d"
      },
      "outputs": [],
      "source": [
        "# from sparknlp.pretrained import PretrainedPipeline\n",
        "\n",
        "deid_pipeline = nlp.PretrainedPipeline.from_disk(\"pipeline_deid\")"
      ]
    },
    {
      "cell_type": "code",
      "execution_count": 101,
      "id": "cbd89eeb-f5f5-4639-9ccf-29c2491f4d37",
      "metadata": {
        "id": "cbd89eeb-f5f5-4639-9ccf-29c2491f4d37"
      },
      "outputs": [],
      "source": [
        "data = spark.createDataFrame([[text]]).toDF(\"text\")"
      ]
    },
    {
      "cell_type": "code",
      "execution_count": 102,
      "id": "e78dea29-7a4c-4724-8e2f-93e635c2602e",
      "metadata": {
        "colab": {
          "base_uri": "https://localhost:8080/"
        },
        "id": "e78dea29-7a4c-4724-8e2f-93e635c2602e",
        "outputId": "2348f021-e203-4f08-86c0-26de4859f4aa"
      },
      "outputs": [
        {
          "output_type": "execute_result",
          "data": {
            "text/plain": [
              "[DocumentAssembler_f35a4d5c1f80,\n",
              " SentenceDetector_dbda64af6cd6,\n",
              " REGEX_TOKENIZER_0b5008ebf788,\n",
              " BERT_EMBEDDINGS_29ce72cd673e,\n",
              " FinanceNerModel_99ecfbac41c1,\n",
              " NER_CONVERTER_e87287aa980f,\n",
              " ZeroShotRobertaNer_5d06c0297d21,\n",
              " NER_CONVERTER_0a3cd5f79c6e,\n",
              " CONTEXTUAL-PARSER_0c0324c7f902,\n",
              " CONTEXTUAL-PARSER_10e07b53a046,\n",
              " CONTEXTUAL-PARSER_e747a453083c,\n",
              " MERGE_3ed13c20664e]"
            ]
          },
          "metadata": {},
          "execution_count": 102
        }
      ],
      "source": [
        "deid_pipeline.model.stages"
      ]
    },
    {
      "cell_type": "code",
      "execution_count": 103,
      "id": "de7e48e9-4433-40c8-8e88-a5d5a0265bb9",
      "metadata": {
        "colab": {
          "base_uri": "https://localhost:8080/"
        },
        "id": "de7e48e9-4433-40c8-8e88-a5d5a0265bb9",
        "outputId": "81909220-d610-4f05-fbd0-4eaaf1fa1bb6"
      },
      "outputs": [
        {
          "output_type": "stream",
          "name": "stdout",
          "text": [
            "+--------------------+--------------------+--------------------+--------------------+--------------------+--------------------+--------------------+--------------------+--------------------+-----+-----+--------------------+--------------------+\n",
            "|                text|            document|            sentence|               token|          embeddings|                 ner|           ner_chunk|       zero_shot_ner|      zero_ner_chunk|alias|email|               phone|   merged_ner_chunks|\n",
            "+--------------------+--------------------+--------------------+--------------------+--------------------+--------------------+--------------------+--------------------+--------------------+-----+-----+--------------------+--------------------+\n",
            "|\n",
            "Commission file ...|[{document, 0, 77...|[{document, 1, 10...|[{token, 1, 10, C...|[{word_embeddings...|[{named_entity, 1...|[{chunk, 24, 32, ...|[{named_entity, 1...|[{chunk, 75, 96, ...|   []|   []|[{chunk, 24, 32, ...|[{chunk, 24, 32, ...|\n",
            "+--------------------+--------------------+--------------------+--------------------+--------------------+--------------------+--------------------+--------------------+--------------------+-----+-----+--------------------+--------------------+\n",
            "\n"
          ]
        }
      ],
      "source": [
        "deid_pipeline.model.transform(data).show()"
      ]
    },
    {
      "cell_type": "markdown",
      "id": "615a3cf3-ae62-40cf-b9b2-a68c8053c908",
      "metadata": {
        "id": "615a3cf3-ae62-40cf-b9b2-a68c8053c908"
      },
      "source": [
        "# Pretrained Deidentification Pipeline\n",
        "\n",
        "We have this pipeline can be used to deidentify legal information from texts.The legal information will be masked and obfuscated in the resulting text. The pipeline can mask and obfuscate `DOC`, `EFFDATE`, `PARTY`, `ALIAS`, `PERSON`, `TITLE`, `COUNTRY`, `CITY`, `STATE`, `STREET`, `ZIP`, `EMAIL`, `FAX`, `LOCATION-OTHER`, `DATE`,`PHONE` and other entities."
      ]
    },
    {
      "cell_type": "code",
      "execution_count": 105,
      "id": "994c32d7-44e7-4637-9f64-454af9168dab",
      "metadata": {
        "colab": {
          "base_uri": "https://localhost:8080/"
        },
        "id": "994c32d7-44e7-4637-9f64-454af9168dab",
        "outputId": "763eef7e-f925-494a-c7f4-9f2f254789fd"
      },
      "outputs": [
        {
          "output_type": "stream",
          "name": "stdout",
          "text": [
            "finpipe_deid download started this may take some time.\n",
            "Approx size to download 437.3 MB\n",
            "[OK!]\n"
          ]
        }
      ],
      "source": [
        "# from sparknlp.pretrained import PretrainedPipeline\n",
        "\n",
        "deid_pipeline = nlp.PretrainedPipeline(\"finpipe_deid\", \"en\", \"finance/models\")"
      ]
    },
    {
      "cell_type": "code",
      "execution_count": 106,
      "id": "a09f14d8-54d9-4ed9-a7c4-6074f421020a",
      "metadata": {
        "colab": {
          "base_uri": "https://localhost:8080/"
        },
        "id": "a09f14d8-54d9-4ed9-a7c4-6074f421020a",
        "outputId": "18e0ca7f-99ce-49bd-d7e4-dc718900d8e4"
      },
      "outputs": [
        {
          "output_type": "execute_result",
          "data": {
            "text/plain": [
              "[DocumentAssembler_20aaea0b09c9,\n",
              " SentenceDetector_f836f3c49dd7,\n",
              " REGEX_TOKENIZER_3d88a1dee1d9,\n",
              " BERT_EMBEDDINGS_29ce72cd673e,\n",
              " FinanceNerModel_1e04a0ea86dc,\n",
              " NER_CONVERTER_053dc2c885dc,\n",
              " FinanceNerModel_99ecfbac41c1,\n",
              " NER_CONVERTER_c31e7133c116,\n",
              " FinanceNerModel_fae1a65403a6,\n",
              " NER_CONVERTER_e54c4e5afd15,\n",
              " CONTEXTUAL-PARSER_72fff5ea72a3,\n",
              " CONTEXTUAL-PARSER_247b3d47153a,\n",
              " CONTEXTUAL-PARSER_8804c3848e07,\n",
              " CONTEXTUAL-PARSER_138e93ac7638,\n",
              " CONTEXTUAL-PARSER_222a1bc3dc39,\n",
              " MERGE_72dccb34a947,\n",
              " DE-IDENTIFICATION_95319986720c,\n",
              " DE-IDENTIFICATION_e98c1ba6424c,\n",
              " DE-IDENTIFICATION_b423b4e6a14e,\n",
              " DE-IDENTIFICATION_d6ea024c8838]"
            ]
          },
          "metadata": {},
          "execution_count": 106
        }
      ],
      "source": [
        "deid_pipeline.model.stages"
      ]
    },
    {
      "cell_type": "code",
      "execution_count": 107,
      "id": "00a6b038-7178-4fe3-b7f6-664bad53ff92",
      "metadata": {
        "id": "00a6b038-7178-4fe3-b7f6-664bad53ff92"
      },
      "outputs": [],
      "source": [
        "text= \"\"\"CARGILL, INCORPORATED\n",
        "\n",
        "By:     Pirkko Suominen\n",
        "\n",
        "\n",
        "\n",
        "Name: Pirkko Suominen Title: Director, Bio Technology Development  Center,  Date:   10/19/2011\n",
        "\n",
        "BIOAMBER, SAS\n",
        "\n",
        "By:     Jean-François Huc\n",
        "\n",
        "\n",
        "\n",
        "Name: Jean-François Huc  Title: President Date:   October 15, 2011\n",
        "\n",
        "email : jeanfran@gmail.com\n",
        "phone : 18087339090 \"\"\""
      ]
    },
    {
      "cell_type": "code",
      "execution_count": 108,
      "id": "bd76c039-f1bb-4839-a2c5-9b5715629700",
      "metadata": {
        "id": "bd76c039-f1bb-4839-a2c5-9b5715629700"
      },
      "outputs": [],
      "source": [
        "deid_res= deid_pipeline.annotate(text)"
      ]
    },
    {
      "cell_type": "code",
      "execution_count": 109,
      "id": "84add88b-9686-4fcc-83fa-6f64465f4aff",
      "metadata": {
        "colab": {
          "base_uri": "https://localhost:8080/"
        },
        "id": "84add88b-9686-4fcc-83fa-6f64465f4aff",
        "outputId": "be09ffe5-ab0d-4171-a437-cd9e233a219b"
      },
      "outputs": [
        {
          "output_type": "execute_result",
          "data": {
            "text/plain": [
              "dict_keys(['obfuscated', 'ner_10k_chunk', 'email', 'document', 'ner_signers_chunk', 'deidentified', 'alias', 'chiefs', 'masked_fixed_length_chars', 'token', 'ner_signers', 'ner_generic_chunk', 'embeddings', 'merged_ner_chunks', 'ner_10k', 'sentence', 'phone', 'orgs', 'masked_with_chars', 'ner_generic'])"
            ]
          },
          "metadata": {},
          "execution_count": 109
        }
      ],
      "source": [
        "deid_res.keys()"
      ]
    },
    {
      "cell_type": "code",
      "execution_count": 110,
      "id": "9551bf51-c2e4-4d7c-968e-1c75bd43f888",
      "metadata": {
        "colab": {
          "base_uri": "https://localhost:8080/",
          "height": 159
        },
        "id": "9551bf51-c2e4-4d7c-968e-1c75bd43f888",
        "outputId": "a6ee6133-4401-4812-81fd-6181bfee4c6e"
      },
      "outputs": [
        {
          "output_type": "execute_result",
          "data": {
            "text/plain": [
              "                                                                                              Sentence  \\\n",
              "0  CARGILL, INCORPORATED\\n\\nBy:     Pirkko Suominen\\n\\n\\n\\nName: Pirkko Suominen Title: Director, B...   \n",
              "\n",
              "                                                                                                Masked  \\\n",
              "0  <ORG>\\n\\nBy:     <PERSON> Suominen\\n\\n\\n\\nName: <PERSON> Suominen Title: <PROFESSION>, Bio Techn...   \n",
              "\n",
              "                                                                                     Masked with Chars  \\\n",
              "0  [*******************]\\n\\nBy:     [****] Suominen\\n\\n\\n\\nName: [****] Suominen Title: [******], B...   \n",
              "\n",
              "                                                                               Masked with Fixed Chars  \\\n",
              "0  ****\\n\\nBy:     **** Suominen\\n\\n\\n\\nName: **** Suominen Title: ****, Bio Technology Development...   \n",
              "\n",
              "                                                                                            Obfuscated  \n",
              "0  White PLC\\n\\nBy:     Katrina Wilson Suominen\\n\\n\\n\\nName: Katrina Wilson Suominen Title: Enginee...  "
            ],
            "text/html": [
              "\n",
              "  <div id=\"df-e0df71c5-dfef-4cd1-8ce2-52fea57085bd\">\n",
              "    <div class=\"colab-df-container\">\n",
              "      <div>\n",
              "<style scoped>\n",
              "    .dataframe tbody tr th:only-of-type {\n",
              "        vertical-align: middle;\n",
              "    }\n",
              "\n",
              "    .dataframe tbody tr th {\n",
              "        vertical-align: top;\n",
              "    }\n",
              "\n",
              "    .dataframe thead th {\n",
              "        text-align: right;\n",
              "    }\n",
              "</style>\n",
              "<table border=\"1\" class=\"dataframe\">\n",
              "  <thead>\n",
              "    <tr style=\"text-align: right;\">\n",
              "      <th></th>\n",
              "      <th>Sentence</th>\n",
              "      <th>Masked</th>\n",
              "      <th>Masked with Chars</th>\n",
              "      <th>Masked with Fixed Chars</th>\n",
              "      <th>Obfuscated</th>\n",
              "    </tr>\n",
              "  </thead>\n",
              "  <tbody>\n",
              "    <tr>\n",
              "      <th>0</th>\n",
              "      <td>CARGILL, INCORPORATED\\n\\nBy:     Pirkko Suominen\\n\\n\\n\\nName: Pirkko Suominen Title: Director, B...</td>\n",
              "      <td>&lt;ORG&gt;\\n\\nBy:     &lt;PERSON&gt; Suominen\\n\\n\\n\\nName: &lt;PERSON&gt; Suominen Title: &lt;PROFESSION&gt;, Bio Techn...</td>\n",
              "      <td>[*******************]\\n\\nBy:     [****] Suominen\\n\\n\\n\\nName: [****] Suominen Title: [******], B...</td>\n",
              "      <td>****\\n\\nBy:     **** Suominen\\n\\n\\n\\nName: **** Suominen Title: ****, Bio Technology Development...</td>\n",
              "      <td>White PLC\\n\\nBy:     Katrina Wilson Suominen\\n\\n\\n\\nName: Katrina Wilson Suominen Title: Enginee...</td>\n",
              "    </tr>\n",
              "  </tbody>\n",
              "</table>\n",
              "</div>\n",
              "      <button class=\"colab-df-convert\" onclick=\"convertToInteractive('df-e0df71c5-dfef-4cd1-8ce2-52fea57085bd')\"\n",
              "              title=\"Convert this dataframe to an interactive table.\"\n",
              "              style=\"display:none;\">\n",
              "        \n",
              "  <svg xmlns=\"http://www.w3.org/2000/svg\" height=\"24px\"viewBox=\"0 0 24 24\"\n",
              "       width=\"24px\">\n",
              "    <path d=\"M0 0h24v24H0V0z\" fill=\"none\"/>\n",
              "    <path d=\"M18.56 5.44l.94 2.06.94-2.06 2.06-.94-2.06-.94-.94-2.06-.94 2.06-2.06.94zm-11 1L8.5 8.5l.94-2.06 2.06-.94-2.06-.94L8.5 2.5l-.94 2.06-2.06.94zm10 10l.94 2.06.94-2.06 2.06-.94-2.06-.94-.94-2.06-.94 2.06-2.06.94z\"/><path d=\"M17.41 7.96l-1.37-1.37c-.4-.4-.92-.59-1.43-.59-.52 0-1.04.2-1.43.59L10.3 9.45l-7.72 7.72c-.78.78-.78 2.05 0 2.83L4 21.41c.39.39.9.59 1.41.59.51 0 1.02-.2 1.41-.59l7.78-7.78 2.81-2.81c.8-.78.8-2.07 0-2.86zM5.41 20L4 18.59l7.72-7.72 1.47 1.35L5.41 20z\"/>\n",
              "  </svg>\n",
              "      </button>\n",
              "      \n",
              "  <style>\n",
              "    .colab-df-container {\n",
              "      display:flex;\n",
              "      flex-wrap:wrap;\n",
              "      gap: 12px;\n",
              "    }\n",
              "\n",
              "    .colab-df-convert {\n",
              "      background-color: #E8F0FE;\n",
              "      border: none;\n",
              "      border-radius: 50%;\n",
              "      cursor: pointer;\n",
              "      display: none;\n",
              "      fill: #1967D2;\n",
              "      height: 32px;\n",
              "      padding: 0 0 0 0;\n",
              "      width: 32px;\n",
              "    }\n",
              "\n",
              "    .colab-df-convert:hover {\n",
              "      background-color: #E2EBFA;\n",
              "      box-shadow: 0px 1px 2px rgba(60, 64, 67, 0.3), 0px 1px 3px 1px rgba(60, 64, 67, 0.15);\n",
              "      fill: #174EA6;\n",
              "    }\n",
              "\n",
              "    [theme=dark] .colab-df-convert {\n",
              "      background-color: #3B4455;\n",
              "      fill: #D2E3FC;\n",
              "    }\n",
              "\n",
              "    [theme=dark] .colab-df-convert:hover {\n",
              "      background-color: #434B5C;\n",
              "      box-shadow: 0px 1px 3px 1px rgba(0, 0, 0, 0.15);\n",
              "      filter: drop-shadow(0px 1px 2px rgba(0, 0, 0, 0.3));\n",
              "      fill: #FFFFFF;\n",
              "    }\n",
              "  </style>\n",
              "\n",
              "      <script>\n",
              "        const buttonEl =\n",
              "          document.querySelector('#df-e0df71c5-dfef-4cd1-8ce2-52fea57085bd button.colab-df-convert');\n",
              "        buttonEl.style.display =\n",
              "          google.colab.kernel.accessAllowed ? 'block' : 'none';\n",
              "\n",
              "        async function convertToInteractive(key) {\n",
              "          const element = document.querySelector('#df-e0df71c5-dfef-4cd1-8ce2-52fea57085bd');\n",
              "          const dataTable =\n",
              "            await google.colab.kernel.invokeFunction('convertToInteractive',\n",
              "                                                     [key], {});\n",
              "          if (!dataTable) return;\n",
              "\n",
              "          const docLinkHtml = 'Like what you see? Visit the ' +\n",
              "            '<a target=\"_blank\" href=https://colab.research.google.com/notebooks/data_table.ipynb>data table notebook</a>'\n",
              "            + ' to learn more about interactive tables.';\n",
              "          element.innerHTML = '';\n",
              "          dataTable['output_type'] = 'display_data';\n",
              "          await google.colab.output.renderOutput(dataTable, element);\n",
              "          const docLink = document.createElement('div');\n",
              "          docLink.innerHTML = docLinkHtml;\n",
              "          element.appendChild(docLink);\n",
              "        }\n",
              "      </script>\n",
              "    </div>\n",
              "  </div>\n",
              "  "
            ]
          },
          "metadata": {},
          "execution_count": 110
        }
      ],
      "source": [
        "import pandas as pd\n",
        "\n",
        "pd.set_option(\"display.max_colwidth\", 100)\n",
        "\n",
        "df= pd.DataFrame(list(zip(deid_res[\"sentence\"], \n",
        "                          deid_res[\"deidentified\"],\n",
        "                          deid_res[\"masked_with_chars\"],\n",
        "                          deid_res[\"masked_fixed_length_chars\"], \n",
        "                          deid_res[\"obfuscated\"])),\n",
        "                 columns= [\"Sentence\", \"Masked\", \"Masked with Chars\", \"Masked with Fixed Chars\", \"Obfuscated\"])\n",
        "\n",
        "df"
      ]
    },
    {
      "cell_type": "code",
      "source": [
        "text= \"\"\"\n",
        "Commission file number 000-15867 \n",
        "_____________________________________\n",
        " \n",
        "CADENCE DESIGN SYSTEMS, INC. \n",
        "(Exact name of registrant as specified in its charter)\n",
        "____________________________________ \n",
        "Delaware\n",
        " \n",
        "00-0000000\n",
        "(State or Other Jurisdiction ofIncorporation or Organization)\n",
        " \n",
        "(I.R.S. EmployerIdentification No.)\n",
        "2655 Seely Avenue, Building 5,\n",
        "San Jose,\n",
        "California\n",
        " \n",
        "95134\n",
        "(Address of Principal Executive Offices)\n",
        " \n",
        "(Zip Code)\n",
        "(408)\n",
        "-943-1234 \n",
        "(Registrant’s Telephone Number, including Area Code) \n",
        "Securities registered pursuant to Section 12(b) of the Act:\n",
        "Title of Each Class\n",
        "Trading Symbol(s)\n",
        "Names of Each Exchange on which Registered\n",
        "Common Stock, $0.01 par value per share\n",
        "CDNS\n",
        "Nasdaq Global Select Market\n",
        "Securities registered pursuant to Section 12(g) of the Act:\"\"\""
      ],
      "metadata": {
        "id": "CivWr2afnaCr"
      },
      "id": "CivWr2afnaCr",
      "execution_count": 111,
      "outputs": []
    },
    {
      "cell_type": "code",
      "source": [
        "deid_res= deid_pipeline.annotate(text)"
      ],
      "metadata": {
        "id": "1raKMaBKne9f"
      },
      "id": "1raKMaBKne9f",
      "execution_count": 112,
      "outputs": []
    },
    {
      "cell_type": "code",
      "source": [
        "deid_res.keys()"
      ],
      "metadata": {
        "id": "NXcdLk2bnhHH",
        "outputId": "b73a2bbe-1c20-41b3-daa0-b70bdb4ee0c7",
        "colab": {
          "base_uri": "https://localhost:8080/"
        }
      },
      "id": "NXcdLk2bnhHH",
      "execution_count": 113,
      "outputs": [
        {
          "output_type": "execute_result",
          "data": {
            "text/plain": [
              "dict_keys(['obfuscated', 'ner_10k_chunk', 'email', 'document', 'ner_signers_chunk', 'deidentified', 'alias', 'chiefs', 'masked_fixed_length_chars', 'token', 'ner_signers', 'ner_generic_chunk', 'embeddings', 'merged_ner_chunks', 'ner_10k', 'sentence', 'phone', 'orgs', 'masked_with_chars', 'ner_generic'])"
            ]
          },
          "metadata": {},
          "execution_count": 113
        }
      ]
    },
    {
      "cell_type": "code",
      "source": [
        "import pandas as pd\n",
        "\n",
        "pd.set_option(\"display.max_colwidth\", 100)\n",
        "\n",
        "df= pd.DataFrame(list(zip(deid_res[\"sentence\"], \n",
        "                          deid_res[\"deidentified\"],\n",
        "                          deid_res[\"masked_with_chars\"],\n",
        "                          deid_res[\"masked_fixed_length_chars\"], \n",
        "                          deid_res[\"obfuscated\"])),\n",
        "                 columns= [\"Sentence\", \"Masked\", \"Masked with Chars\", \"Masked with Fixed Chars\", \"Obfuscated\"])\n",
        "\n",
        "df"
      ],
      "metadata": {
        "id": "MLzwwjbfni7v",
        "outputId": "a2aa6a2d-5a13-468c-cf1a-c5e93c560e83",
        "colab": {
          "base_uri": "https://localhost:8080/",
          "height": 471
        }
      },
      "id": "MLzwwjbfni7v",
      "execution_count": 114,
      "outputs": [
        {
          "output_type": "execute_result",
          "data": {
            "text/plain": [
              "                                                                                              Sentence  \\\n",
              "0  Commission file number 000-15867 \\n_____________________________________\\n \\nCADENCE DESIGN SYST...   \n",
              "1  (Exact name of registrant as specified in its charter)\\n____________________________________ \\nD...   \n",
              "2                                                                           EmployerIdentification No.   \n",
              "3  )\\n2655 Seely Avenue, Building 5,\\nSan Jose,\\nCalifornia\\n \\n95134\\n(Address of Principal Execut...   \n",
              "4                                                 (b) of the Act:\\nTitle of Each Class\\nTrading Symbol   \n",
              "5  (s)\\nNames of Each Exchange on which Registered\\nCommon Stock, $0.01 par value per share\\nCDNS\\n...   \n",
              "6                                                                                      (g) of the Act:   \n",
              "\n",
              "                                                                                                Masked  \\\n",
              "0                    Commission file number <PHONE> \\n_____________________________________\\n \\n<ORG>.   \n",
              "1  (Exact name of registrant as specified in its charter)\\n____________________________________ \\n<...   \n",
              "2                                                                           EmployerIdentification No.   \n",
              "3  )\\n<ADDRESS>\\n \\n<ZIP>\\n(Address of Principal Executive Offices)\\n \\n(Zip Code)<PHONE> \\n(Regist...   \n",
              "4                                                                  (b) of the Act:\\nTitle <ORG> Symbol   \n",
              "5  (s)\\nNames of Each Exchange on which Registered\\n<TITLE_CLASS>, $0.01 par value per share\\n<TICK...   \n",
              "6                                                                                      (g) of the Act:   \n",
              "\n",
              "                                                                                     Masked with Chars  \\\n",
              "0  Commission file number [*******] \\n_____________________________________\\n \\n[******************...   \n",
              "1  (Exact name of registrant as specified in its charter)\\n____________________________________ \\n[...   \n",
              "2                                                                           EmployerIdentification No.   \n",
              "3  )\\n[*************************************************]\\n \\n[***]\\n(Address of Principal Executiv...   \n",
              "4                                                  (b) of the Act:\\nTitle [*******************] Symbol   \n",
              "5  (s)\\nNames of Each Exchange on which Registered\\n[**********], $0.01 par value per share\\n[**]\\n...   \n",
              "6                                                                                      (g) of the Act:   \n",
              "\n",
              "                                                                               Masked with Fixed Chars  \\\n",
              "0                        Commission file number **** \\n_____________________________________\\n \\n****.   \n",
              "1  (Exact name of registrant as specified in its charter)\\n____________________________________ \\n*...   \n",
              "2                                                                           EmployerIdentification No.   \n",
              "3  )\\n****\\n \\n****\\n(Address of Principal Executive Offices)\\n \\n(Zip Co**** \\n(Registrant’s Telep...   \n",
              "4                                                                   (b) of the Act:\\nTitle **** Symbol   \n",
              "5  (s)\\nNames of Each Exchange on which Registered\\n****, $0.01 par value per share\\n****\\n****\\nSe...   \n",
              "6                                                                                      (g) of the Act:   \n",
              "\n",
              "                                                                                            Obfuscated  \n",
              "0  Commission file number (51) 9668-9224 \\n_____________________________________\\n \\nHorton, Parson...  \n",
              "1  (Exact name of registrant as specified in its charter)\\n____________________________________ \\nV...  \n",
              "2                                                                           EmployerIdentification No.  \n",
              "3  )\\n<ADDRESS>\\n \\n12862\\n(Address of Principal Executive Offices)\\n \\n(Zip Code)\\n52-06-66665887 ...  \n",
              "4                                                              (b) of the Act:\\nTitle White PLC Symbol  \n",
              "5  (s)\\nNames of Each Exchange on which Registered\\n<TITLE_CLASS>, $0.01 par value per share\\nABCD\\...  \n",
              "6                                                                                      (g) of the Act:  "
            ],
            "text/html": [
              "\n",
              "  <div id=\"df-910b6718-b78c-4562-9115-6c11077a9db7\">\n",
              "    <div class=\"colab-df-container\">\n",
              "      <div>\n",
              "<style scoped>\n",
              "    .dataframe tbody tr th:only-of-type {\n",
              "        vertical-align: middle;\n",
              "    }\n",
              "\n",
              "    .dataframe tbody tr th {\n",
              "        vertical-align: top;\n",
              "    }\n",
              "\n",
              "    .dataframe thead th {\n",
              "        text-align: right;\n",
              "    }\n",
              "</style>\n",
              "<table border=\"1\" class=\"dataframe\">\n",
              "  <thead>\n",
              "    <tr style=\"text-align: right;\">\n",
              "      <th></th>\n",
              "      <th>Sentence</th>\n",
              "      <th>Masked</th>\n",
              "      <th>Masked with Chars</th>\n",
              "      <th>Masked with Fixed Chars</th>\n",
              "      <th>Obfuscated</th>\n",
              "    </tr>\n",
              "  </thead>\n",
              "  <tbody>\n",
              "    <tr>\n",
              "      <th>0</th>\n",
              "      <td>Commission file number 000-15867 \\n_____________________________________\\n \\nCADENCE DESIGN SYST...</td>\n",
              "      <td>Commission file number &lt;PHONE&gt; \\n_____________________________________\\n \\n&lt;ORG&gt;.</td>\n",
              "      <td>Commission file number [*******] \\n_____________________________________\\n \\n[******************...</td>\n",
              "      <td>Commission file number **** \\n_____________________________________\\n \\n****.</td>\n",
              "      <td>Commission file number (51) 9668-9224 \\n_____________________________________\\n \\nHorton, Parson...</td>\n",
              "    </tr>\n",
              "    <tr>\n",
              "      <th>1</th>\n",
              "      <td>(Exact name of registrant as specified in its charter)\\n____________________________________ \\nD...</td>\n",
              "      <td>(Exact name of registrant as specified in its charter)\\n____________________________________ \\n&lt;...</td>\n",
              "      <td>(Exact name of registrant as specified in its charter)\\n____________________________________ \\n[...</td>\n",
              "      <td>(Exact name of registrant as specified in its charter)\\n____________________________________ \\n*...</td>\n",
              "      <td>(Exact name of registrant as specified in its charter)\\n____________________________________ \\nV...</td>\n",
              "    </tr>\n",
              "    <tr>\n",
              "      <th>2</th>\n",
              "      <td>EmployerIdentification No.</td>\n",
              "      <td>EmployerIdentification No.</td>\n",
              "      <td>EmployerIdentification No.</td>\n",
              "      <td>EmployerIdentification No.</td>\n",
              "      <td>EmployerIdentification No.</td>\n",
              "    </tr>\n",
              "    <tr>\n",
              "      <th>3</th>\n",
              "      <td>)\\n2655 Seely Avenue, Building 5,\\nSan Jose,\\nCalifornia\\n \\n95134\\n(Address of Principal Execut...</td>\n",
              "      <td>)\\n&lt;ADDRESS&gt;\\n \\n&lt;ZIP&gt;\\n(Address of Principal Executive Offices)\\n \\n(Zip Code)&lt;PHONE&gt; \\n(Regist...</td>\n",
              "      <td>)\\n[*************************************************]\\n \\n[***]\\n(Address of Principal Executiv...</td>\n",
              "      <td>)\\n****\\n \\n****\\n(Address of Principal Executive Offices)\\n \\n(Zip Co**** \\n(Registrant’s Telep...</td>\n",
              "      <td>)\\n&lt;ADDRESS&gt;\\n \\n12862\\n(Address of Principal Executive Offices)\\n \\n(Zip Code)\\n52-06-66665887 ...</td>\n",
              "    </tr>\n",
              "    <tr>\n",
              "      <th>4</th>\n",
              "      <td>(b) of the Act:\\nTitle of Each Class\\nTrading Symbol</td>\n",
              "      <td>(b) of the Act:\\nTitle &lt;ORG&gt; Symbol</td>\n",
              "      <td>(b) of the Act:\\nTitle [*******************] Symbol</td>\n",
              "      <td>(b) of the Act:\\nTitle **** Symbol</td>\n",
              "      <td>(b) of the Act:\\nTitle White PLC Symbol</td>\n",
              "    </tr>\n",
              "    <tr>\n",
              "      <th>5</th>\n",
              "      <td>(s)\\nNames of Each Exchange on which Registered\\nCommon Stock, $0.01 par value per share\\nCDNS\\n...</td>\n",
              "      <td>(s)\\nNames of Each Exchange on which Registered\\n&lt;TITLE_CLASS&gt;, $0.01 par value per share\\n&lt;TICK...</td>\n",
              "      <td>(s)\\nNames of Each Exchange on which Registered\\n[**********], $0.01 par value per share\\n[**]\\n...</td>\n",
              "      <td>(s)\\nNames of Each Exchange on which Registered\\n****, $0.01 par value per share\\n****\\n****\\nSe...</td>\n",
              "      <td>(s)\\nNames of Each Exchange on which Registered\\n&lt;TITLE_CLASS&gt;, $0.01 par value per share\\nABCD\\...</td>\n",
              "    </tr>\n",
              "    <tr>\n",
              "      <th>6</th>\n",
              "      <td>(g) of the Act:</td>\n",
              "      <td>(g) of the Act:</td>\n",
              "      <td>(g) of the Act:</td>\n",
              "      <td>(g) of the Act:</td>\n",
              "      <td>(g) of the Act:</td>\n",
              "    </tr>\n",
              "  </tbody>\n",
              "</table>\n",
              "</div>\n",
              "      <button class=\"colab-df-convert\" onclick=\"convertToInteractive('df-910b6718-b78c-4562-9115-6c11077a9db7')\"\n",
              "              title=\"Convert this dataframe to an interactive table.\"\n",
              "              style=\"display:none;\">\n",
              "        \n",
              "  <svg xmlns=\"http://www.w3.org/2000/svg\" height=\"24px\"viewBox=\"0 0 24 24\"\n",
              "       width=\"24px\">\n",
              "    <path d=\"M0 0h24v24H0V0z\" fill=\"none\"/>\n",
              "    <path d=\"M18.56 5.44l.94 2.06.94-2.06 2.06-.94-2.06-.94-.94-2.06-.94 2.06-2.06.94zm-11 1L8.5 8.5l.94-2.06 2.06-.94-2.06-.94L8.5 2.5l-.94 2.06-2.06.94zm10 10l.94 2.06.94-2.06 2.06-.94-2.06-.94-.94-2.06-.94 2.06-2.06.94z\"/><path d=\"M17.41 7.96l-1.37-1.37c-.4-.4-.92-.59-1.43-.59-.52 0-1.04.2-1.43.59L10.3 9.45l-7.72 7.72c-.78.78-.78 2.05 0 2.83L4 21.41c.39.39.9.59 1.41.59.51 0 1.02-.2 1.41-.59l7.78-7.78 2.81-2.81c.8-.78.8-2.07 0-2.86zM5.41 20L4 18.59l7.72-7.72 1.47 1.35L5.41 20z\"/>\n",
              "  </svg>\n",
              "      </button>\n",
              "      \n",
              "  <style>\n",
              "    .colab-df-container {\n",
              "      display:flex;\n",
              "      flex-wrap:wrap;\n",
              "      gap: 12px;\n",
              "    }\n",
              "\n",
              "    .colab-df-convert {\n",
              "      background-color: #E8F0FE;\n",
              "      border: none;\n",
              "      border-radius: 50%;\n",
              "      cursor: pointer;\n",
              "      display: none;\n",
              "      fill: #1967D2;\n",
              "      height: 32px;\n",
              "      padding: 0 0 0 0;\n",
              "      width: 32px;\n",
              "    }\n",
              "\n",
              "    .colab-df-convert:hover {\n",
              "      background-color: #E2EBFA;\n",
              "      box-shadow: 0px 1px 2px rgba(60, 64, 67, 0.3), 0px 1px 3px 1px rgba(60, 64, 67, 0.15);\n",
              "      fill: #174EA6;\n",
              "    }\n",
              "\n",
              "    [theme=dark] .colab-df-convert {\n",
              "      background-color: #3B4455;\n",
              "      fill: #D2E3FC;\n",
              "    }\n",
              "\n",
              "    [theme=dark] .colab-df-convert:hover {\n",
              "      background-color: #434B5C;\n",
              "      box-shadow: 0px 1px 3px 1px rgba(0, 0, 0, 0.15);\n",
              "      filter: drop-shadow(0px 1px 2px rgba(0, 0, 0, 0.3));\n",
              "      fill: #FFFFFF;\n",
              "    }\n",
              "  </style>\n",
              "\n",
              "      <script>\n",
              "        const buttonEl =\n",
              "          document.querySelector('#df-910b6718-b78c-4562-9115-6c11077a9db7 button.colab-df-convert');\n",
              "        buttonEl.style.display =\n",
              "          google.colab.kernel.accessAllowed ? 'block' : 'none';\n",
              "\n",
              "        async function convertToInteractive(key) {\n",
              "          const element = document.querySelector('#df-910b6718-b78c-4562-9115-6c11077a9db7');\n",
              "          const dataTable =\n",
              "            await google.colab.kernel.invokeFunction('convertToInteractive',\n",
              "                                                     [key], {});\n",
              "          if (!dataTable) return;\n",
              "\n",
              "          const docLinkHtml = 'Like what you see? Visit the ' +\n",
              "            '<a target=\"_blank\" href=https://colab.research.google.com/notebooks/data_table.ipynb>data table notebook</a>'\n",
              "            + ' to learn more about interactive tables.';\n",
              "          element.innerHTML = '';\n",
              "          dataTable['output_type'] = 'display_data';\n",
              "          await google.colab.output.renderOutput(dataTable, element);\n",
              "          const docLink = document.createElement('div');\n",
              "          docLink.innerHTML = docLinkHtml;\n",
              "          element.appendChild(docLink);\n",
              "        }\n",
              "      </script>\n",
              "    </div>\n",
              "  </div>\n",
              "  "
            ]
          },
          "metadata": {},
          "execution_count": 114
        }
      ]
    }
  ],
  "metadata": {
    "accelerator": "GPU",
    "colab": {
      "provenance": []
    },
    "gpuClass": "premium",
    "kernelspec": {
      "display_name": "tf-gpu",
      "language": "python",
      "name": "python3"
    },
    "language_info": {
      "codemirror_mode": {
        "name": "ipython",
        "version": 3
      },
      "file_extension": ".py",
      "mimetype": "text/x-python",
      "name": "python",
      "nbconvert_exporter": "python",
      "pygments_lexer": "ipython3",
      "version": "3.9.7 (default, Sep 16 2021, 16:59:28) [MSC v.1916 64 bit (AMD64)]"
    },
    "vscode": {
      "interpreter": {
        "hash": "3f47d918ae832c68584484921185f5c85a1760864bf927a683dc6fb56366cc77"
      }
    }
  },
  "nbformat": 4,
  "nbformat_minor": 5
}
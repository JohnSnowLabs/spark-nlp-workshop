{
  "cells": [
    {
      "cell_type": "markdown",
      "metadata": {
        "application/vnd.databricks.v1+cell": {
          "cellMetadata": {},
          "inputWidgets": {},
          "nuid": "d9f79db4-a59e-47b0-9440-09cb358aa888",
          "showTitle": false,
          "title": ""
        },
        "id": "83CheoXsX50j"
      },
      "source": [
        "# Suspicious Activity Reports\n",
        "\n",
        "\n",
        "Suspicious Activity Reports (**SARs**) are reports that **financial institutions** are required to file with the Financial Crimes Enforcement Network (**FinCEN**) of the US Department of the Treasury when they detect a transaction or series of transactions that appear to be suspicious or potentially related to money laundering, terrorist financing, or other criminal activities.\n",
        "\n",
        "SARs are filed by a variety of **financial institutions**, including banks, credit unions, broker-dealers, and money services businesses. They are intended to assist law enforcement agencies in identifying and investigating financial crimes, as well as to help financial institutions comply with anti-money laundering (AML) and counter-terrorist financing (**CTF**) regulations.\n",
        "\n",
        "The information contained in SARs may include details about the customer, the transaction, and the reason for the suspicion, as well as any supporting documentation. Financial institutions are prohibited from disclosing the filing of a SAR to the customer or anyone else, as doing so could compromise ongoing investigations."
      ]
    },
    {
      "cell_type": "markdown",
      "metadata": {
        "application/vnd.databricks.v1+cell": {
          "cellMetadata": {},
          "inputWidgets": {},
          "nuid": "4eeabc89-2f3a-4001-98f2-60c011fc6310",
          "showTitle": false,
          "title": ""
        },
        "id": "UBrtZwAvX50m"
      },
      "source": [
        "## Visual and Finance NLP Used to Extract Entities from SAR Text and Generate Summaries\n",
        "Here, we will use a combination of Visual NLP and Finance NLP to extract and analyze information from Suspicious Activity Reports (SARs) related to financial transactions.\n",
        "Firstly, we will use Visual NLP to extract the text from SARs. Then, we will apply Finance NLP techniques to identify the relevant entities mentioned in the extracted text, such as individuals, organizations, and financial instruments.\n",
        "\n",
        "Once the relevant entities have been identified, we will use Finance Summarizer to generate summaries of the SARs. These summaries will provide a high-level overview of the financial transactions and activities mentioned in the SARs, making it easier to identify potential financial crimes or patterns of suspicious activity.\n",
        "\n",
        "Finally, we will plot the identified entities on a graph to visualize the connections and relationships between them."
      ]
    },
    {
      "cell_type": "markdown",
      "metadata": {
        "application/vnd.databricks.v1+cell": {
          "cellMetadata": {},
          "inputWidgets": {},
          "nuid": "7284a8c1-3dd0-490e-825b-4114b150c291",
          "showTitle": false,
          "title": ""
        },
        "id": "OETVEP5JdmyV"
      },
      "source": [
        "### Visual NLP On Suspicious Activity Reports"
      ]
    },
    {
      "cell_type": "code",
      "execution_count": null,
      "metadata": {
        "application/vnd.databricks.v1+cell": {
          "cellMetadata": {
            "byteLimit": 2048000,
            "rowLimit": 10000
          },
          "inputWidgets": {},
          "nuid": "903dd279-7556-453c-aac9-288c7ed19cef",
          "showTitle": false,
          "title": ""
        },
        "id": "5yrVPObtPvtS",
        "outputId": "42bfbf45-06d7-4be2-e6aa-3590cd3623cc"
      },
      "outputs": [
        {
          "output_type": "display_data",
          "data": {
            "text/html": [
              "<style scoped>\n",
              "  .ansiout {\n",
              "    display: block;\n",
              "    unicode-bidi: embed;\n",
              "    white-space: pre-wrap;\n",
              "    word-wrap: break-word;\n",
              "    word-break: break-all;\n",
              "    font-family: \"Source Code Pro\", \"Menlo\", monospace;;\n",
              "    font-size: 13px;\n",
              "    color: #555;\n",
              "    margin-left: 4px;\n",
              "    line-height: 19px;\n",
              "  }\n",
              "</style>\n",
              "<div class=\"ansiout\"></div>"
            ]
          },
          "metadata": {
            "application/vnd.databricks.v1+output": {
              "addedWidgets": {},
              "arguments": {},
              "data": "<div class=\"ansiout\"></div>",
              "datasetInfos": [],
              "metadata": {},
              "removedWidgets": [],
              "type": "html"
            }
          }
        }
      ],
      "source": [
        "from johnsnowlabs import nlp, finance, viz,visual\n",
        "\n",
        "import os\n",
        "import sys\n",
        "import time\n",
        "import json\n",
        "import functools \n",
        "import numpy as np\n",
        "import pandas as pd\n",
        "from tqdm import tqdm\n",
        "from scipy import spatial"
      ]
    },
    {
      "cell_type": "code",
      "execution_count": null,
      "metadata": {
        "application/vnd.databricks.v1+cell": {
          "cellMetadata": {
            "byteLimit": 2048000,
            "rowLimit": 10000
          },
          "inputWidgets": {},
          "nuid": "b6320431-7766-4b79-8b69-55a4c92c16ab",
          "showTitle": false,
          "title": ""
        },
        "id": "Wz9bnNrCIdhm",
        "outputId": "834fa94c-da56-4f2b-b51c-0ffe2baee5a1"
      },
      "outputs": [
        {
          "output_type": "display_data",
          "data": {
            "text/html": [
              "<style scoped>\n",
              "  .ansiout {\n",
              "    display: block;\n",
              "    unicode-bidi: embed;\n",
              "    white-space: pre-wrap;\n",
              "    word-wrap: break-word;\n",
              "    word-break: break-all;\n",
              "    font-family: \"Source Code Pro\", \"Menlo\", monospace;;\n",
              "    font-size: 13px;\n",
              "    color: #555;\n",
              "    margin-left: 4px;\n",
              "    line-height: 19px;\n",
              "  }\n",
              "</style>\n",
              "<div class=\"ansiout\"></div>"
            ]
          },
          "metadata": {
            "application/vnd.databricks.v1+output": {
              "addedWidgets": {},
              "arguments": {},
              "data": "<div class=\"ansiout\"></div>",
              "datasetInfos": [],
              "metadata": {},
              "removedWidgets": [],
              "type": "html"
            }
          }
        }
      ],
      "source": [
        "import os\n",
        "import sys\n",
        "import time\n",
        "import json\n",
        "import functools \n",
        "import numpy as np\n",
        "import pandas as pd\n",
        "from tqdm import tqdm\n",
        "from scipy import spatial\n",
        "\n",
        "import pyspark.sql.functions as F\n",
        "import pkg_resources\n",
        "     "
      ]
    },
    {
      "cell_type": "code",
      "execution_count": null,
      "metadata": {
        "application/vnd.databricks.v1+cell": {
          "cellMetadata": {
            "byteLimit": 2048000,
            "rowLimit": 10000
          },
          "inputWidgets": {},
          "nuid": "eaba1ee5-d028-4be5-9586-0f1c062e6062",
          "showTitle": false,
          "title": ""
        },
        "id": "P3Ebhuv2aWkd"
      },
      "outputs": [],
      "source": [
        "\n",
        "!wget https://raw.githubusercontent.com/JohnSnowLabs/spark-nlp-workshop/master/finance-nlp/data/sar.png\n",
        "\n",
        "dbutils.fs.cp(\"file:/databricks/driver/sar.png\", \"dbfs:/\") "
      ]
    },
    {
      "cell_type": "code",
      "execution_count": null,
      "metadata": {
        "application/vnd.databricks.v1+cell": {
          "cellMetadata": {
            "byteLimit": 2048000,
            "rowLimit": 10000
          },
          "inputWidgets": {},
          "nuid": "9ba993cb-fe28-44ad-b94b-989722486d60",
          "showTitle": false,
          "title": ""
        },
        "colab": {
          "base_uri": "https://localhost:8080/",
          "height": 888
        },
        "id": "mMm6e7zUIU62",
        "outputId": "cb98f684-bca1-4ffc-e766-7c9381c5f216"
      },
      "outputs": [
        {
          "output_type": "display_data",
          "data": {
            "text/html": [
              "<style scoped>\n",
              "  .ansiout {\n",
              "    display: block;\n",
              "    unicode-bidi: embed;\n",
              "    white-space: pre-wrap;\n",
              "    word-wrap: break-word;\n",
              "    word-break: break-all;\n",
              "    font-family: \"Source Code Pro\", \"Menlo\", monospace;;\n",
              "    font-size: 13px;\n",
              "    color: #555;\n",
              "    margin-left: 4px;\n",
              "    line-height: 19px;\n",
              "  }\n",
              "</style>\n",
              "<div class=\"ansiout\"></div>"
            ]
          },
          "metadata": {
            "application/vnd.databricks.v1+output": {
              "addedWidgets": {},
              "arguments": {},
              "data": "<div class=\"ansiout\"></div>",
              "datasetInfos": [],
              "metadata": {},
              "removedWidgets": [],
              "type": "html"
            }
          }
        }
      ],
      "source": [
        "image_path = \"dbfs:/sar.png\"\n",
        "\n",
        "image_example_df = spark.read.format(\"binaryFile\").load(image_path)\n",
        "\n",
        "# visual.display_images(visual.BinaryToImage().transform(image_example_df))"
      ]
    },
    {
      "cell_type": "code",
      "execution_count": null,
      "metadata": {
        "application/vnd.databricks.v1+cell": {
          "cellMetadata": {
            "byteLimit": 2048000,
            "rowLimit": 10000
          },
          "inputWidgets": {},
          "nuid": "f3efd3b0-cdb8-46a2-88cb-aea05cbbb660",
          "showTitle": false,
          "title": ""
        },
        "id": "AId6Vyplk2yB",
        "outputId": "900f57bf-05e1-444a-d359-6307cf0dfcef"
      },
      "outputs": [
        {
          "output_type": "display_data",
          "data": {
            "text/html": [
              "<style scoped>\n",
              "  .ansiout {\n",
              "    display: block;\n",
              "    unicode-bidi: embed;\n",
              "    white-space: pre-wrap;\n",
              "    word-wrap: break-word;\n",
              "    word-break: break-all;\n",
              "    font-family: \"Source Code Pro\", \"Menlo\", monospace;;\n",
              "    font-size: 13px;\n",
              "    color: #555;\n",
              "    margin-left: 4px;\n",
              "    line-height: 19px;\n",
              "  }\n",
              "</style>\n",
              "<div class=\"ansiout\"></div>"
            ]
          },
          "metadata": {
            "application/vnd.databricks.v1+output": {
              "addedWidgets": {},
              "arguments": {},
              "data": "<div class=\"ansiout\"></div>",
              "datasetInfos": [],
              "metadata": {},
              "removedWidgets": [],
              "type": "html"
            }
          }
        }
      ],
      "source": [
        "binary_to_image = visual.BinaryToImage()\\\n",
        "      .setInputCol(\"content\")\\\n",
        "      .setOutputCol(\"image\")\n",
        "\n",
        "# Run OCR\n",
        "ocr = visual.ImageToText()\\\n",
        "      .setInputCol(\"image\")\\\n",
        "      .setOutputCol(\"text\")\\\n",
        "      .setConfidenceThreshold(8)\n",
        "      #.setKeepLayout(True) \n",
        "      # \\# to preserve the layout of the input\n",
        "\n",
        "image_to_text_pipeline = nlp.PipelineModel(stages=[\n",
        "    binary_to_image,\n",
        "    ocr\n",
        "])"
      ]
    },
    {
      "cell_type": "code",
      "execution_count": null,
      "metadata": {
        "application/vnd.databricks.v1+cell": {
          "cellMetadata": {
            "byteLimit": 2048000,
            "rowLimit": 10000
          },
          "inputWidgets": {},
          "nuid": "d4a0184a-84a4-4651-9290-5fecdd7e35f1",
          "showTitle": false,
          "title": ""
        },
        "id": "xncheRR1nFmW"
      },
      "outputs": [],
      "source": [
        "result = image_to_text_pipeline.transform(image_example_df)\n",
        "result.select(\"pagenum\", \"text\", \"confidence\").show()\n",
        "\n",
        "result.printSchema()"
      ]
    },
    {
      "cell_type": "code",
      "execution_count": null,
      "metadata": {
        "application/vnd.databricks.v1+cell": {
          "cellMetadata": {
            "byteLimit": 2048000,
            "rowLimit": 10000
          },
          "inputWidgets": {},
          "nuid": "98274c35-acc7-49fc-89c8-69e16a903d1a",
          "showTitle": false,
          "title": ""
        },
        "id": "KiQ5U7oKnLKA"
      },
      "outputs": [],
      "source": [
        "extracted_text = \"\".join([row.text for row in result.select(\"text\").collect()])\n"
      ]
    },
    {
      "cell_type": "code",
      "execution_count": null,
      "metadata": {
        "application/vnd.databricks.v1+cell": {
          "cellMetadata": {
            "byteLimit": 2048000,
            "rowLimit": 10000
          },
          "inputWidgets": {},
          "nuid": "1815bb78-c81c-4939-ad0a-488f8fa1e814",
          "showTitle": false,
          "title": ""
        },
        "id": "q1Q2LRdGCSBA"
      },
      "outputs": [],
      "source": [
        "print(extracted_text)"
      ]
    },
    {
      "cell_type": "markdown",
      "metadata": {
        "application/vnd.databricks.v1+cell": {
          "cellMetadata": {},
          "inputWidgets": {},
          "nuid": "d4b2ddba-53e5-49df-bbe8-d21308e624d5",
          "showTitle": false,
          "title": ""
        },
        "id": "LeSRe5UXdrje"
      },
      "source": [
        "### Finance NLP on the extracted text"
      ]
    },
    {
      "cell_type": "markdown",
      "metadata": {
        "application/vnd.databricks.v1+cell": {
          "cellMetadata": {},
          "inputWidgets": {},
          "nuid": "2a469bdb-0d41-41ee-b40f-730667e30e85",
          "showTitle": false,
          "title": ""
        },
        "id": "TkoTbnbBh1_L"
      },
      "source": [
        "**Let's build a pipeline!**"
      ]
    },
    {
      "cell_type": "code",
      "execution_count": null,
      "metadata": {
        "application/vnd.databricks.v1+cell": {
          "cellMetadata": {
            "byteLimit": 2048000,
            "rowLimit": 10000
          },
          "inputWidgets": {},
          "nuid": "f125c8b4-c3e8-4fce-8416-e270954417ba",
          "showTitle": false,
          "title": ""
        },
        "colab": {
          "base_uri": "https://localhost:8080/"
        },
        "id": "2Av6acKEgaK3",
        "outputId": "1d129068-422c-4b59-f0e6-648c332396bc"
      },
      "outputs": [
        {
          "output_type": "display_data",
          "data": {
            "text/html": [
              "<style scoped>\n",
              "  .ansiout {\n",
              "    display: block;\n",
              "    unicode-bidi: embed;\n",
              "    white-space: pre-wrap;\n",
              "    word-wrap: break-word;\n",
              "    word-break: break-all;\n",
              "    font-family: \"Source Code Pro\", \"Menlo\", monospace;;\n",
              "    font-size: 13px;\n",
              "    color: #555;\n",
              "    margin-left: 4px;\n",
              "    line-height: 19px;\n",
              "  }\n",
              "</style>\n",
              "<div class=\"ansiout\">finner_bert_suspicious_activity_reports download started this may take some time.\n",
              "\r[ | ]\r[OK!]\n",
              "</div>"
            ]
          },
          "metadata": {
            "application/vnd.databricks.v1+output": {
              "addedWidgets": {},
              "arguments": {},
              "data": "<div class=\"ansiout\">finner_bert_suspicious_activity_reports download started this may take some time.\n\r[ | ]\r[OK!]\n</div>",
              "datasetInfos": [],
              "metadata": {},
              "removedWidgets": [],
              "type": "html"
            }
          }
        }
      ],
      "source": [
        "documentAssembler = nlp.DocumentAssembler()\\\n",
        "  .setInputCol(\"text\")\\\n",
        "  .setOutputCol(\"document\")\n",
        "\n",
        "tokenizer = nlp.Tokenizer()\\\n",
        "  .setInputCols(\"document\")\\\n",
        "  .setOutputCol(\"token\")\n",
        "\n",
        "tokenClassifier = finance.BertForTokenClassification.pretrained(\"finner_bert_suspicious_activity_reports\", \"en\", \"finance/models\")\\\n",
        "  .setInputCols(\"token\", \"document\")\\\n",
        "  .setOutputCol(\"label\")\\\n",
        "  .setCaseSensitive(True)\n",
        "\n",
        "ner_converter = nlp.NerConverter()\\\n",
        "        .setInputCols([\"document\",\"token\",\"label\"])\\\n",
        "        .setOutputCol(\"ner_chunk\")\n",
        "\n",
        "pipeline =  nlp.Pipeline(stages=[\n",
        "  documentAssembler,\n",
        "  tokenizer,\n",
        "  tokenClassifier,\n",
        "    ner_converter\n",
        "    ]\n",
        ")\n",
        "\n",
        "import pandas as pd\n",
        "\n",
        "p_model = pipeline.fit(spark.createDataFrame(pd.DataFrame({'text': ['']})))"
      ]
    },
    {
      "cell_type": "code",
      "execution_count": null,
      "metadata": {
        "application/vnd.databricks.v1+cell": {
          "cellMetadata": {
            "byteLimit": 2048000,
            "rowLimit": 10000
          },
          "inputWidgets": {},
          "nuid": "a221586f-f751-4250-b9c0-de374e573e0a",
          "showTitle": false,
          "title": ""
        },
        "id": "AoPNDe0qjpoK",
        "outputId": "367b2835-eb82-41e8-bdec-1a55506352b2"
      },
      "outputs": [
        {
          "output_type": "display_data",
          "data": {
            "text/html": [
              "<style scoped>\n",
              "  .ansiout {\n",
              "    display: block;\n",
              "    unicode-bidi: embed;\n",
              "    white-space: pre-wrap;\n",
              "    word-wrap: break-word;\n",
              "    word-break: break-all;\n",
              "    font-family: \"Source Code Pro\", \"Menlo\", monospace;;\n",
              "    font-size: 13px;\n",
              "    color: #555;\n",
              "    margin-left: 4px;\n",
              "    line-height: 19px;\n",
              "  }\n",
              "</style>\n",
              "<div class=\"ansiout\"></div>"
            ]
          },
          "metadata": {
            "application/vnd.databricks.v1+output": {
              "addedWidgets": {},
              "arguments": {},
              "data": "<div class=\"ansiout\"></div>",
              "datasetInfos": [],
              "metadata": {},
              "removedWidgets": [],
              "type": "html"
            }
          }
        }
      ],
      "source": [
        "df = spark.createDataFrame([[extracted_text]]).toDF(\"text\")\n",
        "\n",
        "result = p_model.transform(df)"
      ]
    },
    {
      "cell_type": "code",
      "execution_count": null,
      "metadata": {
        "application/vnd.databricks.v1+cell": {
          "cellMetadata": {
            "byteLimit": 2048000,
            "rowLimit": 10000
          },
          "inputWidgets": {},
          "nuid": "0d1bc164-7102-47b4-a18c-7ce75c844a83",
          "showTitle": false,
          "title": ""
        },
        "id": "XRpjl-SQjpvG",
        "outputId": "be6837ce-01ab-4add-861a-711346713740"
      },
      "outputs": [
        {
          "output_type": "display_data",
          "data": {
            "text/html": [
              "<style scoped>\n",
              "  .ansiout {\n",
              "    display: block;\n",
              "    unicode-bidi: embed;\n",
              "    white-space: pre-wrap;\n",
              "    word-wrap: break-word;\n",
              "    word-break: break-all;\n",
              "    font-family: \"Source Code Pro\", \"Menlo\", monospace;;\n",
              "    font-size: 13px;\n",
              "    color: #555;\n",
              "    margin-left: 4px;\n",
              "    line-height: 19px;\n",
              "  }\n",
              "</style>\n",
              "<div class=\"ansiout\"></div>"
            ]
          },
          "metadata": {
            "application/vnd.databricks.v1+output": {
              "addedWidgets": {},
              "arguments": {},
              "data": "<div class=\"ansiout\"></div>",
              "datasetInfos": [],
              "metadata": {},
              "removedWidgets": [],
              "type": "html"
            }
          }
        }
      ],
      "source": [
        "df = spark.createDataFrame([[extracted_text]]).toDF(\"text\")\n",
        "\n",
        "result = p_model.transform(df)"
      ]
    },
    {
      "cell_type": "code",
      "execution_count": null,
      "metadata": {
        "application/vnd.databricks.v1+cell": {
          "cellMetadata": {
            "byteLimit": 2048000,
            "rowLimit": 10000
          },
          "inputWidgets": {},
          "nuid": "f12e310d-586d-4b2f-9e04-e63f10e2a305",
          "showTitle": false,
          "title": ""
        },
        "colab": {
          "base_uri": "https://localhost:8080/"
        },
        "id": "EfNnWVeKhHso",
        "outputId": "f36e6293-7b4a-41ee-8ee9-4bb25dc6e36d"
      },
      "outputs": [
        {
          "output_type": "display_data",
          "data": {
            "text/html": [
              "<style scoped>\n",
              "  .ansiout {\n",
              "    display: block;\n",
              "    unicode-bidi: embed;\n",
              "    white-space: pre-wrap;\n",
              "    word-wrap: break-word;\n",
              "    word-break: break-all;\n",
              "    font-family: \"Source Code Pro\", \"Menlo\", monospace;;\n",
              "    font-size: 13px;\n",
              "    color: #555;\n",
              "    margin-left: 4px;\n",
              "    line-height: 19px;\n",
              "  }\n",
              "</style>\n",
              "<div class=\"ansiout\">+--------------------+------------------+----------+\n",
              "chunk               |ner_label         |confidence|\n",
              "+--------------------+------------------+----------+\n",
              "Suspicious          |SUSPICIOUS_KEYWORD|0.99331987|\n",
              "Suspicious          |SUSPICIOUS_KEYWORD|0.99203336|\n",
              "Business Loan       |SUSPICIOUS_ACTION |0.92259026|\n",
              "Suspicious          |SUSPICIOUS_KEYWORD|0.97340876|\n",
              "loan application    |SUSPICIOUS_ACTION |0.9451194 |\n",
              "large               |SUSPICIOUS_ACTION |0.5627501 |\n",
              "sum of money        |SUSPICIOUS_ACTION |0.6471868 |\n",
              "suspicions          |SUSPICIOUS_KEYWORD|0.9680406 |\n",
              "fraudulent          |SUSPICIOUS_KEYWORD|0.99188185|\n",
              "documentation       |SUSPICIOUS_ITEMS  |0.45694438|\n",
              "financial statements|SUSPICIOUS_ITEMS  |0.98107696|\n",
              "tax returns         |SUSPICIOUS_ITEMS  |0.9909848 |\n",
              "bank statements     |SUSPICIOUS_ITEMS  |0.98952335|\n",
              "+--------------------+------------------+----------+\n",
              "\n",
              "</div>"
            ]
          },
          "metadata": {
            "application/vnd.databricks.v1+output": {
              "addedWidgets": {},
              "arguments": {},
              "data": "<div class=\"ansiout\">+--------------------+------------------+----------+\n|chunk               |ner_label         |confidence|\n+--------------------+------------------+----------+\n|Suspicious          |SUSPICIOUS_KEYWORD|0.99331987|\n|Suspicious          |SUSPICIOUS_KEYWORD|0.99203336|\n|Business Loan       |SUSPICIOUS_ACTION |0.92259026|\n|Suspicious          |SUSPICIOUS_KEYWORD|0.97340876|\n|loan application    |SUSPICIOUS_ACTION |0.9451194 |\n|large               |SUSPICIOUS_ACTION |0.5627501 |\n|sum of money        |SUSPICIOUS_ACTION |0.6471868 |\n|suspicions          |SUSPICIOUS_KEYWORD|0.9680406 |\n|fraudulent          |SUSPICIOUS_KEYWORD|0.99188185|\n|documentation       |SUSPICIOUS_ITEMS  |0.45694438|\n|financial statements|SUSPICIOUS_ITEMS  |0.98107696|\n|tax returns         |SUSPICIOUS_ITEMS  |0.9909848 |\n|bank statements     |SUSPICIOUS_ITEMS  |0.98952335|\n+--------------------+------------------+----------+\n\n</div>",
              "datasetInfos": [],
              "metadata": {},
              "removedWidgets": [],
              "type": "html"
            }
          }
        }
      ],
      "source": [
        "import pyspark.sql.functions as F\n",
        "result.select(F.explode(F.arrays_zip(result.ner_chunk.result, result.ner_chunk.metadata)).alias(\"cols\")) \\\n",
        "      .select(F.expr(\"cols['0']\").alias(\"chunk\"),\n",
        "              F.expr(\"cols['1']['entity']\").alias(\"ner_label\"),\n",
        "              F.expr(\"cols['1']['confidence']\").alias(\"confidence\")).show(truncate=False)"
      ]
    },
    {
      "cell_type": "code",
      "execution_count": null,
      "metadata": {
        "application/vnd.databricks.v1+cell": {
          "cellMetadata": {
            "byteLimit": 2048000,
            "rowLimit": 10000
          },
          "inputWidgets": {},
          "nuid": "778c1e68-afee-48c1-89c6-8ba1abde5e75",
          "showTitle": false,
          "title": ""
        },
        "colab": {
          "base_uri": "https://localhost:8080/",
          "height": 457
        },
        "id": "L0kPLPI1icy9",
        "outputId": "30c18ae1-b2a4-4da8-91df-ba584cafa6ae"
      },
      "outputs": [
        {
          "output_type": "display_data",
          "data": {
            "text/html": [
              "<style scoped>\n",
              "  .ansiout {\n",
              "    display: block;\n",
              "    unicode-bidi: embed;\n",
              "    white-space: pre-wrap;\n",
              "    word-wrap: break-word;\n",
              "    word-break: break-all;\n",
              "    font-family: \"Source Code Pro\", \"Menlo\", monospace;;\n",
              "    font-size: 13px;\n",
              "    color: #555;\n",
              "    margin-left: 4px;\n",
              "    line-height: 19px;\n",
              "  }\n",
              "</style>\n",
              "<div class=\"ansiout\">Out[16]: </div>"
            ]
          },
          "metadata": {
            "application/vnd.databricks.v1+output": {
              "addedWidgets": {},
              "arguments": {},
              "data": "<div class=\"ansiout\">Out[16]: </div>",
              "datasetInfos": [],
              "metadata": {},
              "removedWidgets": [],
              "type": "html"
            }
          }
        },
        {
          "output_type": "display_data",
          "data": {
            "text/html": [
              "<div>\n",
              "<style scoped>\n",
              "    .dataframe tbody tr th:only-of-type {\n",
              "        vertical-align: middle;\n",
              "    }\n",
              "\n",
              "    .dataframe tbody tr th {\n",
              "        vertical-align: top;\n",
              "    }\n",
              "\n",
              "    .dataframe thead th {\n",
              "        text-align: right;\n",
              "    }\n",
              "</style>\n",
              "<table border=\"1\" class=\"dataframe\">\n",
              "  <thead>\n",
              "    <tr style=\"text-align: right;\">\n",
              "      <th></th>\n",
              "      <th>chunks</th>\n",
              "      <th>begin</th>\n",
              "      <th>end</th>\n",
              "      <th>sentence_id</th>\n",
              "      <th>entities</th>\n",
              "    </tr>\n",
              "  </thead>\n",
              "  <tbody>\n",
              "    <tr>\n",
              "      <th>0</th>\n",
              "      <td>Suspicious</td>\n",
              "      <td>0</td>\n",
              "      <td>9</td>\n",
              "      <td>0</td>\n",
              "      <td>SUSPICIOUS_KEYWORD</td>\n",
              "    </tr>\n",
              "    <tr>\n",
              "      <th>1</th>\n",
              "      <td>Suspicious</td>\n",
              "      <td>101</td>\n",
              "      <td>110</td>\n",
              "      <td>0</td>\n",
              "      <td>SUSPICIOUS_KEYWORD</td>\n",
              "    </tr>\n",
              "    <tr>\n",
              "      <th>2</th>\n",
              "      <td>Business Loan</td>\n",
              "      <td>132</td>\n",
              "      <td>144</td>\n",
              "      <td>0</td>\n",
              "      <td>SUSPICIOUS_ACTION</td>\n",
              "    </tr>\n",
              "    <tr>\n",
              "      <th>3</th>\n",
              "      <td>Suspicious</td>\n",
              "      <td>150</td>\n",
              "      <td>159</td>\n",
              "      <td>0</td>\n",
              "      <td>SUSPICIOUS_KEYWORD</td>\n",
              "    </tr>\n",
              "    <tr>\n",
              "      <th>4</th>\n",
              "      <td>loan application</td>\n",
              "      <td>213</td>\n",
              "      <td>228</td>\n",
              "      <td>0</td>\n",
              "      <td>SUSPICIOUS_ACTION</td>\n",
              "    </tr>\n",
              "    <tr>\n",
              "      <th>5</th>\n",
              "      <td>large</td>\n",
              "      <td>236</td>\n",
              "      <td>240</td>\n",
              "      <td>0</td>\n",
              "      <td>SUSPICIOUS_ACTION</td>\n",
              "    </tr>\n",
              "    <tr>\n",
              "      <th>6</th>\n",
              "      <td>sum of money</td>\n",
              "      <td>243</td>\n",
              "      <td>254</td>\n",
              "      <td>0</td>\n",
              "      <td>SUSPICIOUS_ACTION</td>\n",
              "    </tr>\n",
              "    <tr>\n",
              "      <th>7</th>\n",
              "      <td>suspicions</td>\n",
              "      <td>341</td>\n",
              "      <td>350</td>\n",
              "      <td>0</td>\n",
              "      <td>SUSPICIOUS_KEYWORD</td>\n",
              "    </tr>\n",
              "    <tr>\n",
              "      <th>8</th>\n",
              "      <td>fraudulent</td>\n",
              "      <td>364</td>\n",
              "      <td>373</td>\n",
              "      <td>0</td>\n",
              "      <td>SUSPICIOUS_KEYWORD</td>\n",
              "    </tr>\n",
              "    <tr>\n",
              "      <th>9</th>\n",
              "      <td>documentation</td>\n",
              "      <td>425</td>\n",
              "      <td>437</td>\n",
              "      <td>0</td>\n",
              "      <td>SUSPICIOUS_ITEMS</td>\n",
              "    </tr>\n",
              "    <tr>\n",
              "      <th>10</th>\n",
              "      <td>financial statements</td>\n",
              "      <td>456</td>\n",
              "      <td>475</td>\n",
              "      <td>0</td>\n",
              "      <td>SUSPICIOUS_ITEMS</td>\n",
              "    </tr>\n",
              "    <tr>\n",
              "      <th>11</th>\n",
              "      <td>tax returns</td>\n",
              "      <td>486</td>\n",
              "      <td>496</td>\n",
              "      <td>0</td>\n",
              "      <td>SUSPICIOUS_ITEMS</td>\n",
              "    </tr>\n",
              "    <tr>\n",
              "      <th>12</th>\n",
              "      <td>bank statements</td>\n",
              "      <td>501</td>\n",
              "      <td>515</td>\n",
              "      <td>0</td>\n",
              "      <td>SUSPICIOUS_ITEMS</td>\n",
              "    </tr>\n",
              "  </tbody>\n",
              "</table>\n",
              "</div>"
            ]
          },
          "metadata": {
            "application/vnd.databricks.v1+output": {
              "addedWidgets": {},
              "arguments": {},
              "data": "<div>\n<style scoped>\n    .dataframe tbody tr th:only-of-type {\n        vertical-align: middle;\n    }\n\n    .dataframe tbody tr th {\n        vertical-align: top;\n    }\n\n    .dataframe thead th {\n        text-align: right;\n    }\n</style>\n<table border=\"1\" class=\"dataframe\">\n  <thead>\n    <tr style=\"text-align: right;\">\n      <th></th>\n      <th>chunks</th>\n      <th>begin</th>\n      <th>end</th>\n      <th>sentence_id</th>\n      <th>entities</th>\n    </tr>\n  </thead>\n  <tbody>\n    <tr>\n      <th>0</th>\n      <td>Suspicious</td>\n      <td>0</td>\n      <td>9</td>\n      <td>0</td>\n      <td>SUSPICIOUS_KEYWORD</td>\n    </tr>\n    <tr>\n      <th>1</th>\n      <td>Suspicious</td>\n      <td>101</td>\n      <td>110</td>\n      <td>0</td>\n      <td>SUSPICIOUS_KEYWORD</td>\n    </tr>\n    <tr>\n      <th>2</th>\n      <td>Business Loan</td>\n      <td>132</td>\n      <td>144</td>\n      <td>0</td>\n      <td>SUSPICIOUS_ACTION</td>\n    </tr>\n    <tr>\n      <th>3</th>\n      <td>Suspicious</td>\n      <td>150</td>\n      <td>159</td>\n      <td>0</td>\n      <td>SUSPICIOUS_KEYWORD</td>\n    </tr>\n    <tr>\n      <th>4</th>\n      <td>loan application</td>\n      <td>213</td>\n      <td>228</td>\n      <td>0</td>\n      <td>SUSPICIOUS_ACTION</td>\n    </tr>\n    <tr>\n      <th>5</th>\n      <td>large</td>\n      <td>236</td>\n      <td>240</td>\n      <td>0</td>\n      <td>SUSPICIOUS_ACTION</td>\n    </tr>\n    <tr>\n      <th>6</th>\n      <td>sum of money</td>\n      <td>243</td>\n      <td>254</td>\n      <td>0</td>\n      <td>SUSPICIOUS_ACTION</td>\n    </tr>\n    <tr>\n      <th>7</th>\n      <td>suspicions</td>\n      <td>341</td>\n      <td>350</td>\n      <td>0</td>\n      <td>SUSPICIOUS_KEYWORD</td>\n    </tr>\n    <tr>\n      <th>8</th>\n      <td>fraudulent</td>\n      <td>364</td>\n      <td>373</td>\n      <td>0</td>\n      <td>SUSPICIOUS_KEYWORD</td>\n    </tr>\n    <tr>\n      <th>9</th>\n      <td>documentation</td>\n      <td>425</td>\n      <td>437</td>\n      <td>0</td>\n      <td>SUSPICIOUS_ITEMS</td>\n    </tr>\n    <tr>\n      <th>10</th>\n      <td>financial statements</td>\n      <td>456</td>\n      <td>475</td>\n      <td>0</td>\n      <td>SUSPICIOUS_ITEMS</td>\n    </tr>\n    <tr>\n      <th>11</th>\n      <td>tax returns</td>\n      <td>486</td>\n      <td>496</td>\n      <td>0</td>\n      <td>SUSPICIOUS_ITEMS</td>\n    </tr>\n    <tr>\n      <th>12</th>\n      <td>bank statements</td>\n      <td>501</td>\n      <td>515</td>\n      <td>0</td>\n      <td>SUSPICIOUS_ITEMS</td>\n    </tr>\n  </tbody>\n</table>\n</div>",
              "datasetInfos": [],
              "metadata": {},
              "removedWidgets": [],
              "textData": null,
              "type": "htmlSandbox"
            }
          }
        }
      ],
      "source": [
        "light_model = nlp.LightPipeline(p_model)\n",
        "\n",
        "light_result = light_model.fullAnnotate(extracted_text)\n",
        "\n",
        "chunks = []\n",
        "entities = []\n",
        "sentence= []\n",
        "begin = []\n",
        "end = []\n",
        "\n",
        "for n in light_result[0]['ner_chunk']:\n",
        "        \n",
        "    begin.append(n.begin)\n",
        "    end.append(n.end)\n",
        "    chunks.append(n.result)\n",
        "    entities.append(n.metadata['entity']) \n",
        "    sentence.append(n.metadata['sentence'])\n",
        "    \n",
        "    \n",
        "\n",
        "df = pd.DataFrame({'chunks':chunks, 'begin': begin, 'end':end, \n",
        "                   'sentence_id':sentence, 'entities':entities})\n",
        "\n",
        "df.head(20)"
      ]
    },
    {
      "cell_type": "markdown",
      "metadata": {
        "application/vnd.databricks.v1+cell": {
          "cellMetadata": {},
          "inputWidgets": {},
          "nuid": "586642cd-3cf4-4772-bb6a-39e4e64028d9",
          "showTitle": false,
          "title": ""
        },
        "id": "2EJ01qNNiz27"
      },
      "source": [
        "**Visualizing the results**"
      ]
    },
    {
      "cell_type": "code",
      "execution_count": null,
      "metadata": {
        "application/vnd.databricks.v1+cell": {
          "cellMetadata": {
            "byteLimit": 2048000,
            "rowLimit": 10000
          },
          "inputWidgets": {},
          "nuid": "67cb1b7e-679d-49e8-a0d8-ad7c0bf2823a",
          "showTitle": false,
          "title": ""
        },
        "colab": {
          "base_uri": "https://localhost:8080/",
          "height": 1000
        },
        "id": "NCTHRJFJivn_",
        "outputId": "78120455-7d92-464d-8aa6-91c290cee2e3"
      },
      "outputs": [
        {
          "output_type": "display_data",
          "data": {
            "text/html": [
              "\n",
              "<style>\n",
              "    @import url('https://fonts.googleapis.com/css2?family=Montserrat:wght@300;400;500;600;700&display=swap');\n",
              "    @import url('https://fonts.googleapis.com/css2?family=Vistol Regular:wght@300;400;500;600;700&display=swap');\n",
              "    \n",
              "    .spark-nlp-display-scroll-entities {\n",
              "        border: 1px solid #E7EDF0;\n",
              "        border-radius: 3px;\n",
              "        text-align: justify;\n",
              "        \n",
              "    }\n",
              "    .spark-nlp-display-scroll-entities span {  \n",
              "        font-size: 14px;\n",
              "        line-height: 24px;\n",
              "        color: #536B76;\n",
              "        font-family: 'Montserrat', sans-serif !important;\n",
              "    }\n",
              "    \n",
              "    .spark-nlp-display-entity-wrapper{\n",
              "    \n",
              "        display: inline-grid;\n",
              "        text-align: center;\n",
              "        border-radius: 4px;\n",
              "        margin: 0 2px 5px 2px;\n",
              "        padding: 1px\n",
              "    }\n",
              "    .spark-nlp-display-entity-name{\n",
              "        font-size: 14px;\n",
              "        line-height: 24px;\n",
              "        font-family: 'Montserrat', sans-serif !important;\n",
              "        \n",
              "        background: #f1f2f3;\n",
              "        border-width: medium;\n",
              "        text-align: center;\n",
              "        \n",
              "        font-weight: 400;\n",
              "        \n",
              "        border-radius: 5px;\n",
              "        padding: 2px 5px;\n",
              "        display: block;\n",
              "        margin: 3px 2px;\n",
              "    \n",
              "    }\n",
              "    .spark-nlp-display-entity-type{\n",
              "        font-size: 14px;\n",
              "        line-height: 24px;\n",
              "        color: #ffffff;\n",
              "        font-family: 'Montserrat', sans-serif !important;\n",
              "        \n",
              "        text-transform: uppercase;\n",
              "        \n",
              "        font-weight: 500;\n",
              "\n",
              "        display: block;\n",
              "        padding: 3px 5px;\n",
              "    }\n",
              "    \n",
              "    .spark-nlp-display-entity-resolution{\n",
              "        font-size: 14px;\n",
              "        line-height: 24px;\n",
              "        color: #ffffff;\n",
              "        font-family: 'Vistol Regular', sans-serif !important;\n",
              "        \n",
              "        text-transform: uppercase;\n",
              "        \n",
              "        font-weight: 500;\n",
              "\n",
              "        display: block;\n",
              "        padding: 3px 5px;\n",
              "    }\n",
              "    \n",
              "    .spark-nlp-display-others{\n",
              "        font-size: 14px;\n",
              "        line-height: 24px;\n",
              "        font-family: 'Montserrat', sans-serif !important;\n",
              "        \n",
              "        font-weight: 400;\n",
              "    }\n",
              "\n",
              "</style>\n",
              " <span class=\"spark-nlp-display-entity-wrapper\" style=\"background-color: #29506C\"><span class=\"spark-nlp-display-entity-name\">Suspicious </span><span class=\"spark-nlp-display-entity-type\">SUSPICIOUS_KEYWORD</span></span><span class=\"spark-nlp-display-others\" style=\"background-color: white\"> Activity Report<br><br> <br><br>Incident Description<br><br>—<br><br> <br><br>Date 02/01/2017<br>Location’ Area Affected:<br><br></span><span class=\"spark-nlp-display-entity-wrapper\" style=\"background-color: #29506C\"><span class=\"spark-nlp-display-entity-name\">Suspicious </span><span class=\"spark-nlp-display-entity-type\">SUSPICIOUS_KEYWORD</span></span><span class=\"spark-nlp-display-others\" style=\"background-color: white\"> Activity Retated to </span><span class=\"spark-nlp-display-entity-wrapper\" style=\"background-color: #1D36C7\"><span class=\"spark-nlp-display-entity-name\">Business Loan </span><span class=\"spark-nlp-display-entity-type\">SUSPICIOUS_ACTION</span></span><span class=\"spark-nlp-display-others\" style=\"background-color: white\"><br><br> <br><br></span><span class=\"spark-nlp-display-entity-wrapper\" style=\"background-color: #29506C\"><span class=\"spark-nlp-display-entity-name\">Suspicious </span><span class=\"spark-nlp-display-entity-type\">SUSPICIOUS_KEYWORD</span></span><span class=\"spark-nlp-display-others\" style=\"background-color: white\"> Activity:<br>‘On May 3rd, ACME Corporation submitted a </span><span class=\"spark-nlp-display-entity-wrapper\" style=\"background-color: #1D36C7\"><span class=\"spark-nlp-display-entity-name\">loan application </span><span class=\"spark-nlp-display-entity-type\">SUSPICIOUS_ACTION</span></span><span class=\"spark-nlp-display-others\" style=\"background-color: white\"> for a </span><span class=\"spark-nlp-display-entity-wrapper\" style=\"background-color: #1D36C7\"><span class=\"spark-nlp-display-entity-name\">large </span><span class=\"spark-nlp-display-entity-type\">SUSPICIOUS_ACTION</span></span><span class=\"spark-nlp-display-others\" style=\"background-color: white\"><br><br></span><span class=\"spark-nlp-display-entity-wrapper\" style=\"background-color: #1D36C7\"><span class=\"spark-nlp-display-entity-name\">sum of money </span><span class=\"spark-nlp-display-entity-type\">SUSPICIOUS_ACTION</span></span><span class=\"spark-nlp-display-others\" style=\"background-color: white\">. The loan officer noted that the application contained<br>several red flags that raised </span><span class=\"spark-nlp-display-entity-wrapper\" style=\"background-color: #29506C\"><span class=\"spark-nlp-display-entity-name\">suspicions </span><span class=\"spark-nlp-display-entity-type\">SUSPICIOUS_KEYWORD</span></span><span class=\"spark-nlp-display-others\" style=\"background-color: white\"> of possible </span><span class=\"spark-nlp-display-entity-wrapper\" style=\"background-color: #29506C\"><span class=\"spark-nlp-display-entity-name\">fraudulent </span><span class=\"spark-nlp-display-entity-type\">SUSPICIOUS_KEYWORD</span></span><span class=\"spark-nlp-display-others\" style=\"background-color: white\"> activity.<br><br>Firstly, the business provided minimal </span><span class=\"spark-nlp-display-entity-wrapper\" style=\"background-color: #0B8099\"><span class=\"spark-nlp-display-entity-name\">documentation </span><span class=\"spark-nlp-display-entity-type\">SUSPICIOUS_ITEMS</span></span><span class=\"spark-nlp-display-others\" style=\"background-color: white\"> to support their<br></span><span class=\"spark-nlp-display-entity-wrapper\" style=\"background-color: #0B8099\"><span class=\"spark-nlp-display-entity-name\">financial statements </span><span class=\"spark-nlp-display-entity-type\">SUSPICIOUS_ITEMS</span></span><span class=\"spark-nlp-display-others\" style=\"background-color: white\">, such as </span><span class=\"spark-nlp-display-entity-wrapper\" style=\"background-color: #0B8099\"><span class=\"spark-nlp-display-entity-name\">tax returns </span><span class=\"spark-nlp-display-entity-type\">SUSPICIOUS_ITEMS</span></span><span class=\"spark-nlp-display-others\" style=\"background-color: white\"> or </span><span class=\"spark-nlp-display-entity-wrapper\" style=\"background-color: #0B8099\"><span class=\"spark-nlp-display-entity-name\">bank statements </span><span class=\"spark-nlp-display-entity-type\">SUSPICIOUS_ITEMS</span></span><span class=\"spark-nlp-display-others\" style=\"background-color: white\">. Secondly,<br>the business listed a residential address as their place of business, which<br>appeared to be a private residence. Additionally, the business provided<br>inconsistent information regarding their ownership structure and the<br>intended use of the loan proceeds.<br><br>Further investigation revealed that the business had no visible online<br>presence, including a lack of a website, social media accounts, or<br>business reviews. The loan officer also discovered that the business had<br>‘only been in operation for a short period, despite their claims of significant<br>revenue and growth.<br><br>Based on these findings, it is suspected that ACME Corporation may be<br>engaging in fraudulent activity and using the loan to perpetrate such<br>activity. Therefore, we recommend that this loan application be denied,<br>and further investigation be conducted to determine if any additional<br>suspicious activity has occurred.<br><br> <br><br> <br><br> <br><br>Suspected Person<br>or Party XYZ Private Limited<br><br>Address oF<br><br>Affiliation 600 Townsend St., Suite 200, San Francisco, CA.<br><br> <br><br> <br><br> <br><br> <br><br> <br><br>Plone<br><br> <br><br> <br></span></div>"
            ]
          },
          "metadata": {
            "application/vnd.databricks.v1+output": {
              "addedWidgets": {},
              "arguments": {},
              "data": "\n<style>\n    @import url('https://fonts.googleapis.com/css2?family=Montserrat:wght@300;400;500;600;700&display=swap');\n    @import url('https://fonts.googleapis.com/css2?family=Vistol Regular:wght@300;400;500;600;700&display=swap');\n    \n    .spark-nlp-display-scroll-entities {\n        border: 1px solid #E7EDF0;\n        border-radius: 3px;\n        text-align: justify;\n        \n    }\n    .spark-nlp-display-scroll-entities span {  \n        font-size: 14px;\n        line-height: 24px;\n        color: #536B76;\n        font-family: 'Montserrat', sans-serif !important;\n    }\n    \n    .spark-nlp-display-entity-wrapper{\n    \n        display: inline-grid;\n        text-align: center;\n        border-radius: 4px;\n        margin: 0 2px 5px 2px;\n        padding: 1px\n    }\n    .spark-nlp-display-entity-name{\n        font-size: 14px;\n        line-height: 24px;\n        font-family: 'Montserrat', sans-serif !important;\n        \n        background: #f1f2f3;\n        border-width: medium;\n        text-align: center;\n        \n        font-weight: 400;\n        \n        border-radius: 5px;\n        padding: 2px 5px;\n        display: block;\n        margin: 3px 2px;\n    \n    }\n    .spark-nlp-display-entity-type{\n        font-size: 14px;\n        line-height: 24px;\n        color: #ffffff;\n        font-family: 'Montserrat', sans-serif !important;\n        \n        text-transform: uppercase;\n        \n        font-weight: 500;\n\n        display: block;\n        padding: 3px 5px;\n    }\n    \n    .spark-nlp-display-entity-resolution{\n        font-size: 14px;\n        line-height: 24px;\n        color: #ffffff;\n        font-family: 'Vistol Regular', sans-serif !important;\n        \n        text-transform: uppercase;\n        \n        font-weight: 500;\n\n        display: block;\n        padding: 3px 5px;\n    }\n    \n    .spark-nlp-display-others{\n        font-size: 14px;\n        line-height: 24px;\n        font-family: 'Montserrat', sans-serif !important;\n        \n        font-weight: 400;\n    }\n\n</style>\n <span class=\"spark-nlp-display-entity-wrapper\" style=\"background-color: #29506C\"><span class=\"spark-nlp-display-entity-name\">Suspicious </span><span class=\"spark-nlp-display-entity-type\">SUSPICIOUS_KEYWORD</span></span><span class=\"spark-nlp-display-others\" style=\"background-color: white\"> Activity Report<br><br> <br><br>Incident Description<br><br>—<br><br> <br><br>Date 02/01/2017<br>Location’ Area Affected:<br><br></span><span class=\"spark-nlp-display-entity-wrapper\" style=\"background-color: #29506C\"><span class=\"spark-nlp-display-entity-name\">Suspicious </span><span class=\"spark-nlp-display-entity-type\">SUSPICIOUS_KEYWORD</span></span><span class=\"spark-nlp-display-others\" style=\"background-color: white\"> Activity Retated to </span><span class=\"spark-nlp-display-entity-wrapper\" style=\"background-color: #1D36C7\"><span class=\"spark-nlp-display-entity-name\">Business Loan </span><span class=\"spark-nlp-display-entity-type\">SUSPICIOUS_ACTION</span></span><span class=\"spark-nlp-display-others\" style=\"background-color: white\"><br><br> <br><br></span><span class=\"spark-nlp-display-entity-wrapper\" style=\"background-color: #29506C\"><span class=\"spark-nlp-display-entity-name\">Suspicious </span><span class=\"spark-nlp-display-entity-type\">SUSPICIOUS_KEYWORD</span></span><span class=\"spark-nlp-display-others\" style=\"background-color: white\"> Activity:<br>‘On May 3rd, ACME Corporation submitted a </span><span class=\"spark-nlp-display-entity-wrapper\" style=\"background-color: #1D36C7\"><span class=\"spark-nlp-display-entity-name\">loan application </span><span class=\"spark-nlp-display-entity-type\">SUSPICIOUS_ACTION</span></span><span class=\"spark-nlp-display-others\" style=\"background-color: white\"> for a </span><span class=\"spark-nlp-display-entity-wrapper\" style=\"background-color: #1D36C7\"><span class=\"spark-nlp-display-entity-name\">large </span><span class=\"spark-nlp-display-entity-type\">SUSPICIOUS_ACTION</span></span><span class=\"spark-nlp-display-others\" style=\"background-color: white\"><br><br></span><span class=\"spark-nlp-display-entity-wrapper\" style=\"background-color: #1D36C7\"><span class=\"spark-nlp-display-entity-name\">sum of money </span><span class=\"spark-nlp-display-entity-type\">SUSPICIOUS_ACTION</span></span><span class=\"spark-nlp-display-others\" style=\"background-color: white\">. The loan officer noted that the application contained<br>several red flags that raised </span><span class=\"spark-nlp-display-entity-wrapper\" style=\"background-color: #29506C\"><span class=\"spark-nlp-display-entity-name\">suspicions </span><span class=\"spark-nlp-display-entity-type\">SUSPICIOUS_KEYWORD</span></span><span class=\"spark-nlp-display-others\" style=\"background-color: white\"> of possible </span><span class=\"spark-nlp-display-entity-wrapper\" style=\"background-color: #29506C\"><span class=\"spark-nlp-display-entity-name\">fraudulent </span><span class=\"spark-nlp-display-entity-type\">SUSPICIOUS_KEYWORD</span></span><span class=\"spark-nlp-display-others\" style=\"background-color: white\"> activity.<br><br>Firstly, the business provided minimal </span><span class=\"spark-nlp-display-entity-wrapper\" style=\"background-color: #0B8099\"><span class=\"spark-nlp-display-entity-name\">documentation </span><span class=\"spark-nlp-display-entity-type\">SUSPICIOUS_ITEMS</span></span><span class=\"spark-nlp-display-others\" style=\"background-color: white\"> to support their<br></span><span class=\"spark-nlp-display-entity-wrapper\" style=\"background-color: #0B8099\"><span class=\"spark-nlp-display-entity-name\">financial statements </span><span class=\"spark-nlp-display-entity-type\">SUSPICIOUS_ITEMS</span></span><span class=\"spark-nlp-display-others\" style=\"background-color: white\">, such as </span><span class=\"spark-nlp-display-entity-wrapper\" style=\"background-color: #0B8099\"><span class=\"spark-nlp-display-entity-name\">tax returns </span><span class=\"spark-nlp-display-entity-type\">SUSPICIOUS_ITEMS</span></span><span class=\"spark-nlp-display-others\" style=\"background-color: white\"> or </span><span class=\"spark-nlp-display-entity-wrapper\" style=\"background-color: #0B8099\"><span class=\"spark-nlp-display-entity-name\">bank statements </span><span class=\"spark-nlp-display-entity-type\">SUSPICIOUS_ITEMS</span></span><span class=\"spark-nlp-display-others\" style=\"background-color: white\">. Secondly,<br>the business listed a residential address as their place of business, which<br>appeared to be a private residence. Additionally, the business provided<br>inconsistent information regarding their ownership structure and the<br>intended use of the loan proceeds.<br><br>Further investigation revealed that the business had no visible online<br>presence, including a lack of a website, social media accounts, or<br>business reviews. The loan officer also discovered that the business had<br>‘only been in operation for a short period, despite their claims of significant<br>revenue and growth.<br><br>Based on these findings, it is suspected that ACME Corporation may be<br>engaging in fraudulent activity and using the loan to perpetrate such<br>activity. Therefore, we recommend that this loan application be denied,<br>and further investigation be conducted to determine if any additional<br>suspicious activity has occurred.<br><br> <br><br> <br><br> <br><br>Suspected Person<br>or Party XYZ Private Limited<br><br>Address oF<br><br>Affiliation 600 Townsend St., Suite 200, San Francisco, CA.<br><br> <br><br> <br><br> <br><br> <br><br> <br><br>Plone<br><br> <br><br> <br></span></div>",
              "datasetInfos": [],
              "metadata": {},
              "removedWidgets": [],
              "textData": null,
              "type": "htmlSandbox"
            }
          }
        }
      ],
      "source": [
        "# from sparknlp_display import NerVisualizer\n",
        "\n",
        "visualiser = viz.NerVisualizer()\n",
        "\n",
        "displayHTML(visualiser.display(light_result[0], label_col='ner_chunk', document_col='document',return_html=True))"
      ]
    },
    {
      "cell_type": "markdown",
      "metadata": {
        "application/vnd.databricks.v1+cell": {
          "cellMetadata": {},
          "inputWidgets": {},
          "nuid": "2c70372e-6131-4ff9-8174-33f0e57bd6aa",
          "showTitle": false,
          "title": ""
        },
        "id": "J6_p9apxtjMM"
      },
      "source": [
        "## Now let's use SparkNLP's new Financial Summarizer annotator to summarize and understand the suspicious activity."
      ]
    },
    {
      "cell_type": "code",
      "execution_count": null,
      "metadata": {
        "application/vnd.databricks.v1+cell": {
          "cellMetadata": {
            "byteLimit": 2048000,
            "rowLimit": 10000
          },
          "inputWidgets": {},
          "nuid": "74439619-f194-456b-a539-e2b0fc5f88d6",
          "showTitle": false,
          "title": ""
        },
        "id": "cLXbKLS3tj4V"
      },
      "outputs": [],
      "source": [
        "document_assembler = nlp.DocumentAssembler()\\\n",
        "    .setInputCol(\"text\")\\\n",
        "    .setOutputCol(\"documents\")\n",
        "\n",
        "flant5 = finance.Summarizer().pretrained('finsum_flant5_base','en','finance/models')\\\n",
        "    .setInputCols([\"documents\"])\\\n",
        "    .setOutputCol(\"summary\")\\\n",
        "    .setMaxNewTokens(1000)\n",
        "\n",
        "pipeline = nlp.Pipeline(stages=[document_assembler, flant5])\n",
        "\n",
        "data = spark.createDataFrame([[extracted_text]]).toDF(\"text\")\n",
        "\n",
        "results = pipeline.fit(data).transform(data)\n",
        "\n",
        "results.select(\"summary.result\").show(truncate=False)"
      ]
    },
    {
      "cell_type": "code",
      "execution_count": null,
      "metadata": {
        "application/vnd.databricks.v1+cell": {
          "cellMetadata": {},
          "inputWidgets": {},
          "nuid": "c621796d-982d-421f-b817-27594801f377",
          "showTitle": false,
          "title": ""
        },
        "colab": {
          "base_uri": "https://localhost:8080/",
          "height": 81
        },
        "id": "fYgQuomIAWCi",
        "outputId": "ceaccaca-8694-49dd-a66c-5944239554e3"
      },
      "outputs": [
        {
          "output_type": "execute_result",
          "data": {
            "text/html": [
              "\n",
              "  <div id=\"df-1f355336-09e6-4f95-82b9-4017bcf50479\">\n",
              "    <div class=\"colab-df-container\">\n",
              "      <div>\n",
              "<style scoped>\n",
              "    .dataframe tbody tr th:only-of-type {\n",
              "        vertical-align: middle;\n",
              "    }\n",
              "\n",
              "    .dataframe tbody tr th {\n",
              "        vertical-align: top;\n",
              "    }\n",
              "\n",
              "    .dataframe thead th {\n",
              "        text-align: right;\n",
              "    }\n",
              "</style>\n",
              "<table border=\"1\" class=\"dataframe\">\n",
              "  <thead>\n",
              "    <tr style=\"text-align: right;\">\n",
              "      <th></th>\n",
              "      <th>Document</th>\n",
              "      <th>Summary</th>\n",
              "    </tr>\n",
              "  </thead>\n",
              "  <tbody>\n",
              "    <tr>\n",
              "      <th>0</th>\n",
              "      <td>[‘On May 3rd, ACME Corporation submitted a loa...</td>\n",
              "      <td>[ACME Corporation submitted a loan application...</td>\n",
              "    </tr>\n",
              "  </tbody>\n",
              "</table>\n",
              "</div>\n",
              "      <button class=\"colab-df-convert\" onclick=\"convertToInteractive('df-1f355336-09e6-4f95-82b9-4017bcf50479')\"\n",
              "              title=\"Convert this dataframe to an interactive table.\"\n",
              "              style=\"display:none;\">\n",
              "        \n",
              "  <svg xmlns=\"http://www.w3.org/2000/svg\" height=\"24px\"viewBox=\"0 0 24 24\"\n",
              "       width=\"24px\">\n",
              "    <path d=\"M0 0h24v24H0V0z\" fill=\"none\"/>\n",
              "    <path d=\"M18.56 5.44l.94 2.06.94-2.06 2.06-.94-2.06-.94-.94-2.06-.94 2.06-2.06.94zm-11 1L8.5 8.5l.94-2.06 2.06-.94-2.06-.94L8.5 2.5l-.94 2.06-2.06.94zm10 10l.94 2.06.94-2.06 2.06-.94-2.06-.94-.94-2.06-.94 2.06-2.06.94z\"/><path d=\"M17.41 7.96l-1.37-1.37c-.4-.4-.92-.59-1.43-.59-.52 0-1.04.2-1.43.59L10.3 9.45l-7.72 7.72c-.78.78-.78 2.05 0 2.83L4 21.41c.39.39.9.59 1.41.59.51 0 1.02-.2 1.41-.59l7.78-7.78 2.81-2.81c.8-.78.8-2.07 0-2.86zM5.41 20L4 18.59l7.72-7.72 1.47 1.35L5.41 20z\"/>\n",
              "  </svg>\n",
              "      </button>\n",
              "      \n",
              "  <style>\n",
              "    .colab-df-container {\n",
              "      display:flex;\n",
              "      flex-wrap:wrap;\n",
              "      gap: 12px;\n",
              "    }\n",
              "\n",
              "    .colab-df-convert {\n",
              "      background-color: #E8F0FE;\n",
              "      border: none;\n",
              "      border-radius: 50%;\n",
              "      cursor: pointer;\n",
              "      display: none;\n",
              "      fill: #1967D2;\n",
              "      height: 32px;\n",
              "      padding: 0 0 0 0;\n",
              "      width: 32px;\n",
              "    }\n",
              "\n",
              "    .colab-df-convert:hover {\n",
              "      background-color: #E2EBFA;\n",
              "      box-shadow: 0px 1px 2px rgba(60, 64, 67, 0.3), 0px 1px 3px 1px rgba(60, 64, 67, 0.15);\n",
              "      fill: #174EA6;\n",
              "    }\n",
              "\n",
              "    [theme=dark] .colab-df-convert {\n",
              "      background-color: #3B4455;\n",
              "      fill: #D2E3FC;\n",
              "    }\n",
              "\n",
              "    [theme=dark] .colab-df-convert:hover {\n",
              "      background-color: #434B5C;\n",
              "      box-shadow: 0px 1px 3px 1px rgba(0, 0, 0, 0.15);\n",
              "      filter: drop-shadow(0px 1px 2px rgba(0, 0, 0, 0.3));\n",
              "      fill: #FFFFFF;\n",
              "    }\n",
              "  </style>\n",
              "\n",
              "      <script>\n",
              "        const buttonEl =\n",
              "          document.querySelector('#df-1f355336-09e6-4f95-82b9-4017bcf50479 button.colab-df-convert');\n",
              "        buttonEl.style.display =\n",
              "          google.colab.kernel.accessAllowed ? 'block' : 'none';\n",
              "\n",
              "        async function convertToInteractive(key) {\n",
              "          const element = document.querySelector('#df-1f355336-09e6-4f95-82b9-4017bcf50479');\n",
              "          const dataTable =\n",
              "            await google.colab.kernel.invokeFunction('convertToInteractive',\n",
              "                                                     [key], {});\n",
              "          if (!dataTable) return;\n",
              "\n",
              "          const docLinkHtml = 'Like what you see? Visit the ' +\n",
              "            '<a target=\"_blank\" href=https://colab.research.google.com/notebooks/data_table.ipynb>data table notebook</a>'\n",
              "            + ' to learn more about interactive tables.';\n",
              "          element.innerHTML = '';\n",
              "          dataTable['output_type'] = 'display_data';\n",
              "          await google.colab.output.renderOutput(dataTable, element);\n",
              "          const docLink = document.createElement('div');\n",
              "          docLink.innerHTML = docLinkHtml;\n",
              "          element.appendChild(docLink);\n",
              "        }\n",
              "      </script>\n",
              "    </div>\n",
              "  </div>\n",
              "  "
            ],
            "text/plain": [
              "                                            Document  \\\n",
              "0  [‘On May 3rd, ACME Corporation submitted a loa...   \n",
              "\n",
              "                                             Summary  \n",
              "0  [ACME Corporation submitted a loan application...  "
            ]
          },
          "execution_count": 12,
          "metadata": {}
        }
      ],
      "source": [
        "df = results.selectExpr(\"documents.result as Document\",\"summary.result as Summary\").toPandas()\n",
        "# df.rename(columns = {'result':'Text','result':'Summary'},inplace=True)\n",
        "df"
      ]
    },
    {
      "cell_type": "markdown",
      "metadata": {
        "application/vnd.databricks.v1+cell": {
          "cellMetadata": {},
          "inputWidgets": {},
          "nuid": "88690e67-4de8-4a1d-9907-ccaee43875bc",
          "showTitle": false,
          "title": ""
        },
        "id": "crcURouxWyCr"
      },
      "source": [
        "Let's take a look at the summary of suspicious activity."
      ]
    },
    {
      "cell_type": "code",
      "execution_count": null,
      "metadata": {
        "application/vnd.databricks.v1+cell": {
          "cellMetadata": {},
          "inputWidgets": {},
          "nuid": "13689526-7c42-4639-ae77-ef1d73b57dad",
          "showTitle": false,
          "title": ""
        },
        "colab": {
          "base_uri": "https://localhost:8080/"
        },
        "id": "elv3hXW8DiJo",
        "outputId": "735ce767-0850-43f5-afce-f27f79d969dd"
      },
      "outputs": [
        {
          "output_type": "stream",
          "name": "stdout",
          "text": [
            "SAR Report:\n\n ‘On May 3rd, ACME Corporation submitted a loan application for a large\n\nsum of money. The loan officer noted that the application contained\nseveral red flags that raised suspicions of possible fraudulent activity.\n\nFirstly, the business provided minimal documentation to support their\nfinancial statements, such as tax returns or bank statements. Secondly,\nthe business listed a residential address as their place of business, which\nappeared to be a private residence. Additionally, the business provided\ninconsistent information regarding their ownership structure and the\nintended use of the loan proceeds.\n\nFurther investigation revealed that the business had no visible online\npresence, including a lack of a website, social media accounts, or\nbusiness reviews. The loan officer also discovered that the business had\n‘only been in operation for a short period, despite their claims of significant\nrevenue and growth.\n\nBased on these findings, it is suspected that ACME Corporation may be\nengaging in fraudulent activity and using the loan to perpetrate such\nactivity. Therefore, we recommend that this loan application be denied,\nand further investigation be conducted to determine if any additional\nsuspicious activity has occurred.\n\n\nSummary Of The Report: \n\nACME Corporation submitted a loan application for a large sum of money on May 3rd. The loan officer found that the business provided minimal documentation to support their financial statements, including tax returns or bank statements. The business had no visible online presence, including a lack of a website, social media accounts, or business reviews. The business was in operation for a short period, despite their claims of significant revenue and growth. '\n"
          ]
        }
      ],
      "source": [
        "for i,j in df.iterrows():\n",
        "  print(f\"SAR Report:\\n\\n {j['Document'][0]}\\n\\n\")\n",
        "  print(f\"Summary Of The Report: \\n\\n{j['Summary'][0]}\")\n"
      ]
    },
    {
      "cell_type": "markdown",
      "metadata": {
        "application/vnd.databricks.v1+cell": {
          "cellMetadata": {},
          "inputWidgets": {},
          "nuid": "8c8dce58-f1fd-4d16-8610-da7625db60af",
          "showTitle": false,
          "title": ""
        },
        "id": "-Jylw_Zl9v9D"
      },
      "source": [
        "## Now Let's create a graph and look at the **text** that has been labelled as `SUSPICIOUS_KEYWORD`,  `SUSPICIOUS_ACTION` or `SUSPICIOUS_ITEMS`."
      ]
    },
    {
      "cell_type": "code",
      "execution_count": null,
      "metadata": {
        "application/vnd.databricks.v1+cell": {
          "cellMetadata": {
            "byteLimit": 2048000,
            "rowLimit": 10000
          },
          "inputWidgets": {},
          "nuid": "35d383cc-0614-4d91-9f03-050a2d33fdc9",
          "showTitle": false,
          "title": ""
        },
        "colab": {
          "base_uri": "https://localhost:8080/",
          "height": 862
        },
        "id": "-LLzEEfPUrPb",
        "outputId": "810a1ede-574b-4e98-e6e7-948fcafb8045"
      },
      "outputs": [
        {
          "output_type": "display_data",
          "data": {
            "text/html": [
              "<style scoped>\n",
              "  .ansiout {\n",
              "    display: block;\n",
              "    unicode-bidi: embed;\n",
              "    white-space: pre-wrap;\n",
              "    word-wrap: break-word;\n",
              "    word-break: break-all;\n",
              "    font-family: \"Source Code Pro\", \"Menlo\", monospace;;\n",
              "    font-size: 13px;\n",
              "    color: #555;\n",
              "    margin-left: 4px;\n",
              "    line-height: 19px;\n",
              "  }\n",
              "</style>\n",
              "<div class=\"ansiout\">[&#39;DOCUMENT&#39;, &#39;SUSPICIOUS_KEYWORD&#39;, &#39;SUSPICIOUS_ACTION&#39;, &#39;SUSPICIOUS_ITEMS&#39;, &#39;Suspicious&#39;, &#39;Business Loan&#39;, &#39;loan application&#39;, &#39;large&#39;, &#39;sum of money&#39;, &#39;suspicions&#39;, &#39;fraudulent&#39;, &#39;documentation&#39;, &#39;financial statements&#39;, &#39;tax returns&#39;, &#39;bank statements&#39;]\n",
              "[(&#39;DOCUMENT&#39;, &#39;SUSPICIOUS_KEYWORD&#39;), (&#39;DOCUMENT&#39;, &#39;SUSPICIOUS_ACTION&#39;), (&#39;DOCUMENT&#39;, &#39;SUSPICIOUS_ITEMS&#39;), (&#39;SUSPICIOUS_KEYWORD&#39;, &#39;Suspicious&#39;), (&#39;SUSPICIOUS_KEYWORD&#39;, &#39;suspicions&#39;), (&#39;SUSPICIOUS_KEYWORD&#39;, &#39;fraudulent&#39;), (&#39;SUSPICIOUS_ACTION&#39;, &#39;Business Loan&#39;), (&#39;SUSPICIOUS_ACTION&#39;, &#39;loan application&#39;), (&#39;SUSPICIOUS_ACTION&#39;, &#39;large&#39;), (&#39;SUSPICIOUS_ACTION&#39;, &#39;sum of money&#39;), (&#39;SUSPICIOUS_ITEMS&#39;, &#39;documentation&#39;), (&#39;SUSPICIOUS_ITEMS&#39;, &#39;financial statements&#39;), (&#39;SUSPICIOUS_ITEMS&#39;, &#39;tax returns&#39;), (&#39;SUSPICIOUS_ITEMS&#39;, &#39;bank statements&#39;)]\n",
              "</div>"
            ]
          },
          "metadata": {
            "application/vnd.databricks.v1+output": {
              "addedWidgets": {},
              "arguments": {},
              "data": "<div class=\"ansiout\">[&#39;DOCUMENT&#39;, &#39;SUSPICIOUS_KEYWORD&#39;, &#39;SUSPICIOUS_ACTION&#39;, &#39;SUSPICIOUS_ITEMS&#39;, &#39;Suspicious&#39;, &#39;Business Loan&#39;, &#39;loan application&#39;, &#39;large&#39;, &#39;sum of money&#39;, &#39;suspicions&#39;, &#39;fraudulent&#39;, &#39;documentation&#39;, &#39;financial statements&#39;, &#39;tax returns&#39;, &#39;bank statements&#39;]\n[(&#39;DOCUMENT&#39;, &#39;SUSPICIOUS_KEYWORD&#39;), (&#39;DOCUMENT&#39;, &#39;SUSPICIOUS_ACTION&#39;), (&#39;DOCUMENT&#39;, &#39;SUSPICIOUS_ITEMS&#39;), (&#39;SUSPICIOUS_KEYWORD&#39;, &#39;Suspicious&#39;), (&#39;SUSPICIOUS_KEYWORD&#39;, &#39;suspicions&#39;), (&#39;SUSPICIOUS_KEYWORD&#39;, &#39;fraudulent&#39;), (&#39;SUSPICIOUS_ACTION&#39;, &#39;Business Loan&#39;), (&#39;SUSPICIOUS_ACTION&#39;, &#39;loan application&#39;), (&#39;SUSPICIOUS_ACTION&#39;, &#39;large&#39;), (&#39;SUSPICIOUS_ACTION&#39;, &#39;sum of money&#39;), (&#39;SUSPICIOUS_ITEMS&#39;, &#39;documentation&#39;), (&#39;SUSPICIOUS_ITEMS&#39;, &#39;financial statements&#39;), (&#39;SUSPICIOUS_ITEMS&#39;, &#39;tax returns&#39;), (&#39;SUSPICIOUS_ITEMS&#39;, &#39;bank statements&#39;)]\n</div>",
              "datasetInfos": [],
              "metadata": {},
              "removedWidgets": [],
              "type": "html"
            }
          }
        },
        {
          "output_type": "display_data",
          "data": {
            "image/png": "[encoded data removed]"
          },
          "metadata": {
            "application/vnd.databricks.v1+output": {
              "addedWidgets": {},
              "arguments": {},
              "data": "data:image/png;base64,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",
              "datasetInfos": [],
              "metadata": {
                "imageDimensions": {
                  "height": 558,
                  "width": 600
                }
              },
              "removedWidgets": [],
              "type": "image"
            },
            "image/png": {
              "height": 558,
              "width": 600
            }
          }
        }
      ],
      "source": [
        "import networkx as nx\n",
        "import matplotlib.pyplot as plt\n",
        "\n",
        "g = nx.DiGraph()\n",
        "\n",
        "label = 'DOCUMENT'\n",
        "g.add_node(label)\n",
        "for i, r in enumerate(light_result[0]['ner_chunk']):\n",
        "  text = r.result\n",
        "  entity = r.metadata['entity']\n",
        "  g.add_edge('DOCUMENT',entity) \n",
        "\n",
        "for i, r in enumerate(light_result[0]['ner_chunk']):\n",
        "  text = r.result\n",
        "  entity = r.metadata['entity']\n",
        "  g.add_edge(entity,text) \n",
        "\n",
        "\n",
        "fig = plt.figure(figsize=(10.5, 10))\n",
        "ax = fig.gca()\n",
        "mng = plt.get_current_fig_manager()\n",
        "print(g.nodes())\n",
        "print(g.edges())\n",
        "\n",
        "pos = nx.spring_layout(g)\n",
        "\n",
        "nx.draw_networkx_nodes(g, pos)\n",
        "nx.draw_networkx_labels(g, pos)\n",
        "nx.draw_networkx_edges(g, pos, edge_color='r', arrows = True)\n",
        "plt.show()"
      ]
    },
    {
      "cell_type": "code",
      "execution_count": null,
      "metadata": {
        "application/vnd.databricks.v1+cell": {
          "cellMetadata": {},
          "inputWidgets": {},
          "nuid": "0741efe6-d8f9-4f6a-92bc-0aff26a45783",
          "showTitle": false,
          "title": ""
        },
        "id": "5EGw6DPMX51R"
      },
      "outputs": [],
      "source": []
    }
  ],
  "metadata": {
    "accelerator": "GPU",
    "application/vnd.databricks.v1+notebook": {
      "dashboards": [],
      "language": "python",
      "notebookMetadata": {
        "mostRecentlyExecutedCommandWithImplicitDF": {
          "commandId": 3900548488938883,
          "dataframes": [
            "_sqldf"
          ]
        },
        "pythonIndentUnit": 2
      },
      "notebookName": "ColabRecipeVisualNLP_(1)",
      "notebookOrigID": 891409323931886,
      "widgets": {}
    },
    "colab": {
      "machine_shape": "hm",
      "provenance": []
    },
    "gpuClass": "standard",
    "kernelspec": {
      "display_name": "Python 3",
      "name": "python3"
    },
    "language_info": {
      "name": "python"
    }
  },
  "nbformat": 4,
  "nbformat_minor": 0
}
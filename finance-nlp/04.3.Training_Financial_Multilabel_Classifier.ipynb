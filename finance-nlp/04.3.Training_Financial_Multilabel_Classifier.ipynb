{
  "cells": [
    {
      "cell_type": "markdown",
      "id": "wxZDXLDCXkk_",
      "metadata": {
        "id": "wxZDXLDCXkk_"
      },
      "source": [
        "\n",
        "![JohnSnowLabs](https://nlp.johnsnowlabs.com/assets/images/logo.png)\n",
        "\n",
        "\n",
        "\n"
      ]
    },
    {
      "cell_type": "markdown",
      "id": "pZ6sKi8ZX1z4",
      "metadata": {
        "id": "pZ6sKi8ZX1z4"
      },
      "source": [
        "[![Open In Colab](https://colab.research.google.com/assets/colab-badge.svg)](https://colab.research.google.com/github/JohnSnowLabs/spark-nlp-workshop/blob/master/finance-nlp/04.3.Training_Financial_Multilabel_Classifier.ipynb)"
      ]
    },
    {
      "cell_type": "markdown",
      "id": "KLqW6FOnEvov",
      "metadata": {
        "id": "KLqW6FOnEvov"
      },
      "source": [
        "# Train Domain-specific Multilabel classifiers"
      ]
    },
    {
      "cell_type": "markdown",
      "id": "77d2eefc",
      "metadata": {
        "id": "77d2eefc"
      },
      "source": [
        "In this notebook, you will learn how to use Spark NLP and Finance NLP to train custom multilabel classification models."
      ]
    },
    {
      "cell_type": "markdown",
      "id": "eJj6G_uGqmvW",
      "metadata": {
        "collapsed": false,
        "id": "eJj6G_uGqmvW"
      },
      "source": [
        "## Installation"
      ]
    },
    {
      "cell_type": "markdown",
      "id": "7060d88f",
      "metadata": {
        "id": "7060d88f"
      },
      "source": [
        "First, you need to setup the environment to be able to use the licensed package. If you are not running in Google Colab, please check the documentation [here](https://nlp.johnsnowlabs.com/docs/en/licensed_install)."
      ]
    },
    {
      "cell_type": "code",
      "execution_count": null,
      "id": "9sGctuAVqmvW",
      "metadata": {
        "id": "9sGctuAVqmvW",
        "pycharm": {
          "is_executing": true
        }
      },
      "outputs": [],
      "source": [
        "! pip install -q johnsnowlabs"
      ]
    },
    {
      "cell_type": "markdown",
      "id": "70t7zXI2qmvX",
      "metadata": {
        "id": "70t7zXI2qmvX"
      },
      "source": [
        "### Automatic Installation\n",
        "Using [my.johnsnowlabs.com](https://my.johnsnowlabs.com/) SSO"
      ]
    },
    {
      "cell_type": "code",
      "execution_count": null,
      "id": "j3x9f6apqmvX",
      "metadata": {
        "id": "j3x9f6apqmvX",
        "pycharm": {
          "is_executing": true
        }
      },
      "outputs": [],
      "source": [
        "from johnsnowlabs import nlp, finance\n",
        "\n",
        "# nlp.install(force_browser=True)"
      ]
    },
    {
      "cell_type": "markdown",
      "id": "5xgiQgV3qmvX",
      "metadata": {
        "id": "5xgiQgV3qmvX"
      },
      "source": [
        "### Manual downloading\n",
        "If you are not registered in my.johnsnowlabs.com, you received a license via e-email or you are using Safari, you may need to do a manual update of the license.\n",
        "\n",
        "- Go to [my.johnsnowlabs.com](https://my.johnsnowlabs.com/)\n",
        "- Download your license\n",
        "- Upload it using the following command"
      ]
    },
    {
      "cell_type": "code",
      "execution_count": null,
      "id": "EsX5CDwsqmvX",
      "metadata": {
        "id": "EsX5CDwsqmvX"
      },
      "outputs": [],
      "source": [
        "from google.colab import files\n",
        "print('Please Upload your John Snow Labs License using the button below')\n",
        "license_keys = files.upload()"
      ]
    },
    {
      "cell_type": "markdown",
      "id": "K9GLVA35qmvX",
      "metadata": {
        "id": "K9GLVA35qmvX"
      },
      "source": [
        "- Install it"
      ]
    },
    {
      "cell_type": "code",
      "execution_count": null,
      "id": "B0ZiE5poqmvX",
      "metadata": {
        "id": "B0ZiE5poqmvX"
      },
      "outputs": [],
      "source": [
        "nlp.install()"
      ]
    },
    {
      "cell_type": "markdown",
      "id": "09fafa4b-cf69-4556-ae50-adb9fc6f4368",
      "metadata": {
        "id": "09fafa4b-cf69-4556-ae50-adb9fc6f4368"
      },
      "source": [
        "### Start Spark Session"
      ]
    },
    {
      "cell_type": "code",
      "execution_count": null,
      "id": "_uTrkyPv0rk2",
      "metadata": {
        "id": "_uTrkyPv0rk2"
      },
      "outputs": [],
      "source": [
        "from johnsnowlabs import nlp, finance\n",
        "# Automatically load license data and start a session with all jars user has access to\n",
        "spark = nlp.start()"
      ]
    },
    {
      "cell_type": "code",
      "execution_count": null,
      "id": "Xqulsi7i_Tx4",
      "metadata": {
        "id": "Xqulsi7i_Tx4"
      },
      "outputs": [],
      "source": [
        "from pyspark.sql import DataFrame\n",
        "import pyspark.sql.functions as F\n",
        "import pyspark.sql.types as T\n",
        "import pyspark.sql as SQL\n",
        "from pyspark import keyword_only"
      ]
    },
    {
      "cell_type": "markdown",
      "id": "200cff03",
      "metadata": {
        "id": "200cff03"
      },
      "source": [
        "## Introduction"
      ]
    },
    {
      "cell_type": "markdown",
      "id": "76787ebe",
      "metadata": {
        "id": "76787ebe"
      },
      "source": [
        "Although John Snow Labs provides mnay pretrained models that cover different applications in the financial domain, there are still problems that are specific to companies or practitioners. For such cases, it is possible to train a new custom model using Finance NLP annotators:\n",
        "\n",
        "- `ClassifierDLApproach`: Trains a multilabel model (predicts one class out of a predefined set of classes) or binary classification\n",
        "- `MultiClassifierDLApproach`: Trains a mutilabel model (predicts one or more classes for each document)"
      ]
    },
    {
      "cell_type": "markdown",
      "id": "MulDEC2j4ly3",
      "metadata": {
        "id": "MulDEC2j4ly3"
      },
      "source": [
        "## Training Multilabel Models with `MultiClassifierDLApproach`"
      ]
    },
    {
      "cell_type": "markdown",
      "id": "fb29d70a",
      "metadata": {
        "id": "fb29d70a"
      },
      "source": [
        "The input to are Sentence Embeddings such as the state-of-the-art [UniversalSentenceEncoder](https://nlp.johnsnowlabs.com/docs/en/transformers#universalsentenceencoder), [BertSentenceEmbeddings](https://nlp.johnsnowlabs.com/docs/en/transformers#bertsentenceembeddings) or [SentenceEmbeddings](https://nlp.johnsnowlabs.com/docs/en/annotators#sentenceembeddings).\n",
        "\n",
        "To train a custom model, you need labeled data with at least the columns\n",
        "\n",
        "```\n",
        "| TEXT | LABELS (list) |\n",
        "```"
      ]
    },
    {
      "cell_type": "code",
      "execution_count": null,
      "id": "fdd20cec",
      "metadata": {
        "colab": {
          "base_uri": "https://localhost:8080/"
        },
        "id": "fdd20cec",
        "outputId": "28421e02-dfa1-493b-f85b-2a2ede2151ff"
      },
      "outputs": [
        {
          "name": "stdout",
          "output_type": "stream",
          "text": [
            "👌 Launched \u001b[92mcpu optimized\u001b[39m session with with: 🚀Spark-NLP==4.2.4, 💊Spark-Healthcare==4.2.4, running on ⚡ PySpark==3.1.2\n"
          ]
        }
      ],
      "source": [
        "from johnsnowlabs import nlp, finance\n",
        "# Automatically load license data and start a session with all jars user has access to\n",
        "spark = nlp.start()"
      ]
    },
    {
      "cell_type": "markdown",
      "id": "BhKlxMBWH9-Z",
      "metadata": {
        "id": "BhKlxMBWH9-Z"
      },
      "source": [
        "### Loading the data"
      ]
    },
    {
      "cell_type": "code",
      "execution_count": null,
      "id": "chcpskuvMK8Y",
      "metadata": {
        "id": "chcpskuvMK8Y"
      },
      "outputs": [],
      "source": [
        "! wget -q https://raw.githubusercontent.com/JohnSnowLabs/spark-nlp-workshop/master/finance-nlp/data/finance_data.csv"
      ]
    },
    {
      "cell_type": "code",
      "execution_count": null,
      "id": "gaRulasEKZK3",
      "metadata": {
        "colab": {
          "base_uri": "https://localhost:8080/"
        },
        "id": "gaRulasEKZK3",
        "outputId": "c05d1172-0a26-42d1-d779-bef5306fad55"
      },
      "outputs": [
        {
          "name": "stdout",
          "output_type": "stream",
          "text": [
            "Shape of the full dataset: (27527, 2)\n"
          ]
        }
      ],
      "source": [
        "import pandas as pd\n",
        "df = pd.read_csv('./finance_data.csv')\n",
        "df['label'] = df['label'].apply(eval)\n",
        "print(f\"Shape of the full dataset: {df.shape}\")"
      ]
    },
    {
      "cell_type": "markdown",
      "id": "e8UsfeLIUh0h",
      "metadata": {
        "id": "e8UsfeLIUh0h"
      },
      "source": [
        "> We will use a sample from this dataset to avoid making the training process faster (to illustrate how to perform them). Use the full dataset if you want to experiment with it and achieve more realistic results. \n",
        ">\n",
        "> The sample has size of 500 observations only, please keep in mind that this will impact the accuracy and generalization capabilities of the model. Since the dataset is smaller now, we use 90% of it to train the model and the other 10% for testing."
      ]
    },
    {
      "cell_type": "code",
      "execution_count": null,
      "id": "bUFO8usqKt2Z",
      "metadata": {
        "id": "bUFO8usqKt2Z"
      },
      "outputs": [],
      "source": [
        "data = spark.createDataFrame(df)\n",
        "\n",
        "# If you have a single dataset, then split it or else you can load the test dataset the same way that you load the train data.\n",
        "train, test = data.limit(500).randomSplit([0.9, 0.1], seed=42)"
      ]
    },
    {
      "cell_type": "code",
      "execution_count": null,
      "id": "bowhz89ZbN1C",
      "metadata": {
        "colab": {
          "base_uri": "https://localhost:8080/"
        },
        "id": "bowhz89ZbN1C",
        "outputId": "36ac47da-ddef-4482-846f-fabf8a06a3c2"
      },
      "outputs": [
        {
          "name": "stdout",
          "output_type": "stream",
          "text": [
            "+--------------------------------------------------+-----------------------------------+\n",
            "|                                         provision|                              label|\n",
            "+--------------------------------------------------+-----------------------------------+\n",
            "|(a) Seller, the Agent, each Managing Agent, eac...|                      [assignments]|\n",
            "|(a)  The provisions of this Agreement shall be ...|              [assigns, successors]|\n",
            "|(a) THIS AGREEMENT AND ANY CLAIM, CONTROVERSY, ...|[governing laws, entire agreements]|\n",
            "|(a) This Agreement may be executed by one or mo...|                     [counterparts]|\n",
            "|All Bank Expenses (including reasonable attorne...|                         [expenses]|\n",
            "|All agreements, representations and warranties ...|                         [survival]|\n",
            "|All communications hereunder will be in writing...|                          [notices]|\n",
            "|All covenants, agreements, representations and ...|                         [survival]|\n",
            "|All covenants, agreements, representations and ...|                         [survival]|\n",
            "|All demands, notices and communications hereund...|                          [notices]|\n",
            "|All headings and subdivisions of this Agreement...|                     [severability]|\n",
            "|All indemnities set forth herein including, wit...|                         [survival]|\n",
            "|All issues and questions concerning the constru...|                   [governing laws]|\n",
            "|All notices and communications that are require...|                          [notices]|\n",
            "|All notices and other communications given or m...|                          [notices]|\n",
            "|All notices and other communications given or m...|                          [notices]|\n",
            "|All notices and other communications hereunder ...|                          [notices]|\n",
            "|All notices and other communications hereunder ...|                          [notices]|\n",
            "|All notices and other communications hereunder ...|                          [notices]|\n",
            "|All notices and other communications provided f...|                          [notices]|\n",
            "+--------------------------------------------------+-----------------------------------+\n",
            "only showing top 20 rows\n",
            "\n"
          ]
        }
      ],
      "source": [
        "train.show(truncate=50)"
      ]
    },
    {
      "cell_type": "code",
      "execution_count": null,
      "id": "RZ0xy9hpebLe",
      "metadata": {
        "colab": {
          "base_uri": "https://localhost:8080/"
        },
        "id": "RZ0xy9hpebLe",
        "outputId": "6505a90a-e00f-48d7-c432-f1fddeb35784"
      },
      "outputs": [
        {
          "name": "stdout",
          "output_type": "stream",
          "text": [
            "+--------------------+-----+\n",
            "|               label|count|\n",
            "+--------------------+-----+\n",
            "|      [counterparts]|    6|\n",
            "|        [amendments]|    5|\n",
            "| [entire agreements]|    5|\n",
            "|      [severability]|    3|\n",
            "|          [survival]|    3|\n",
            "|[assigns, success...|    3|\n",
            "|           [waivers]|    2|\n",
            "|      [terminations]|    2|\n",
            "|[representations,...|    2|\n",
            "|           [notices]|    1|\n",
            "|        [warranties]|    1|\n",
            "|       [assignments]|    1|\n",
            "|    [governing laws]|    1|\n",
            "|[governing laws, ...|    1|\n",
            "|          [expenses]|    1|\n",
            "|        [successors]|    1|\n",
            "|[amendments, enti...|    1|\n",
            "+--------------------+-----+\n",
            "\n"
          ]
        }
      ],
      "source": [
        "from pyspark.sql.functions import col\n",
        "\n",
        "test.groupBy(\"label\").count().orderBy(col(\"count\").desc()).show()"
      ]
    },
    {
      "cell_type": "markdown",
      "id": "78sjKvMKcHdn",
      "metadata": {
        "id": "78sjKvMKcHdn"
      },
      "source": [
        "### Train With Universal Encoder"
      ]
    },
    {
      "cell_type": "markdown",
      "id": "682d6c49",
      "metadata": {
        "id": "682d6c49"
      },
      "source": [
        "Universal Encoder is a state-of-the-art architecture to create vector representations of text. We already have a pretrained model that can be used instead of training both embeddings and the classifier (but it could also be done). \n",
        "\n",
        "The pretrained model was trained and optimized for greater-than-word length text, such as sentences, phrases or short paragraphs. It is trained on a variety of data sources and a variety of tasks with the aim of dynamically accommodating a wide variety of natural language understanding tasks. The input is variable length English text and the output is a 512 dimensional vector."
      ]
    },
    {
      "cell_type": "code",
      "execution_count": null,
      "id": "oFl9orR5LrUu",
      "metadata": {
        "colab": {
          "base_uri": "https://localhost:8080/"
        },
        "id": "oFl9orR5LrUu",
        "outputId": "626a1bd7-07fb-4c19-9b91-fd0f0288a908"
      },
      "outputs": [
        {
          "name": "stdout",
          "output_type": "stream",
          "text": [
            "tfhub_use download started this may take some time.\n",
            "Approximate size to download 923.7 MB\n",
            "[OK!]\n"
          ]
        }
      ],
      "source": [
        "document_assembler = (\n",
        "    nlp.DocumentAssembler()\n",
        "    .setInputCol(\"provision\")\n",
        "    .setOutputCol(\"document\")\n",
        "    .setCleanupMode(\"shrink\")\n",
        ")\n",
        "\n",
        "embeddings = (\n",
        "    nlp.UniversalSentenceEncoder.pretrained()\n",
        "    .setInputCols(\"document\")\n",
        "    .setOutputCol(\"sentence_embeddings\")\n",
        ")\n",
        "\n",
        "classifierdl = (\n",
        "    nlp.MultiClassifierDLApproach()\n",
        "    .setInputCols([\"sentence_embeddings\"])\n",
        "    .setOutputCol(\"class\")\n",
        "    .setLabelColumn(\"label\")\n",
        "    .setMaxEpochs(30)\n",
        "    .setEnableOutputLogs(True)\n",
        "    .setOutputLogsPath(\"multilabel_use\")\n",
        "    .setLr(0.001)\n",
        "    .setBatchSize(4)\n",
        ")\n",
        "\n",
        "clf_pipeline = nlp.Pipeline(stages=[document_assembler, embeddings, classifierdl])"
      ]
    },
    {
      "cell_type": "code",
      "execution_count": null,
      "id": "8kcgVr07MUss",
      "metadata": {
        "colab": {
          "base_uri": "https://localhost:8080/"
        },
        "id": "8kcgVr07MUss",
        "outputId": "a33791cd-5073-43de-e63d-15cae68ebd13"
      },
      "outputs": [
        {
          "name": "stdout",
          "output_type": "stream",
          "text": [
            "CPU times: user 567 ms, sys: 64.5 ms, total: 631 ms\n",
            "Wall time: 1min 44s\n"
          ]
        }
      ],
      "source": [
        "%%time\n",
        "clf_pipelineModel = clf_pipeline.fit(train)"
      ]
    },
    {
      "cell_type": "code",
      "execution_count": null,
      "id": "p88hMraHOac9",
      "metadata": {
        "colab": {
          "base_uri": "https://localhost:8080/"
        },
        "id": "p88hMraHOac9",
        "outputId": "083a4970-a02e-49aa-fac9-0c71fff25769"
      },
      "outputs": [
        {
          "name": "stdout",
          "output_type": "stream",
          "text": [
            "Training started - epochs: 30 - learning_rate: 0.001 - batch_size: 4 - training_examples: 461 - classes: 15\n",
            "Epoch 0/30 - 4.21s - loss: 0.30427498 - acc: 0.925797 - batches: 116\n",
            "Epoch 1/30 - 1.86s - loss: 0.20737702 - acc: 0.94260854 - batches: 116\n",
            "Epoch 2/30 - 1.84s - loss: 0.15418288 - acc: 0.9563765 - batches: 116\n",
            "Epoch 3/30 - 1.86s - loss: 0.12557246 - acc: 0.9627533 - batches: 116\n",
            "Epoch 4/30 - 1.89s - loss: 0.1082967 - acc: 0.9679704 - batches: 116\n",
            "Epoch 5/30 - 1.86s - loss: 0.09582114 - acc: 0.97304296 - batches: 116\n",
            "Epoch 6/30 - 3.04s - loss: 0.08615956 - acc: 0.97782564 - batches: 116\n",
            "Epoch 7/30 - 2.52s - loss: 0.07847145 - acc: 0.9794198 - batches: 116\n",
            "Epoch 8/30 - 1.79s - loss: 0.07229716 - acc: 0.98217356 - batches: 116\n",
            "Epoch 9/30 - 1.84s - loss: 0.06728321 - acc: 0.98449224 - batches: 116\n",
            "Epoch 10/30 - 1.78s - loss: 0.06313381 - acc: 0.9860863 - batches: 116\n",
            "Epoch 11/30 - 1.87s - loss: 0.059632715 - acc: 0.9878254 - batches: 116\n",
            "Epoch 12/30 - 1.81s - loss: 0.056623098 - acc: 0.98898476 - batches: 116\n",
            "Epoch 13/30 - 1.81s - loss: 0.05399523 - acc: 0.9892747 - batches: 116\n",
            "Epoch 14/30 - 2.31s - loss: 0.05166279 - acc: 0.98927474 - batches: 116\n",
            "Epoch 15/30 - 1.91s - loss: 0.049568973 - acc: 0.9899993 - batches: 116\n",
            "Epoch 16/30 - 1.80s - loss: 0.04767035 - acc: 0.9910139 - batches: 116\n",
            "Epoch 17/30 - 1.82s - loss: 0.045936704 - acc: 0.99173856 - batches: 116\n",
            "Epoch 18/30 - 1.81s - loss: 0.044342965 - acc: 0.99289787 - batches: 116\n",
            "Epoch 19/30 - 1.78s - loss: 0.042869773 - acc: 0.99347764 - batches: 116\n",
            "Epoch 20/30 - 1.81s - loss: 0.041501816 - acc: 0.99376744 - batches: 116\n",
            "Epoch 21/30 - 1.82s - loss: 0.040226407 - acc: 0.994637 - batches: 116\n",
            "Epoch 22/30 - 1.84s - loss: 0.03903228 - acc: 0.9955067 - batches: 116\n",
            "Epoch 23/30 - 1.78s - loss: 0.03791101 - acc: 0.99579656 - batches: 116\n",
            "Epoch 24/30 - 1.80s - loss: 0.036855273 - acc: 0.9963763 - batches: 116\n",
            "Epoch 25/30 - 1.77s - loss: 0.035859533 - acc: 0.99666613 - batches: 116\n",
            "Epoch 26/30 - 2.13s - loss: 0.03491593 - acc: 0.99681103 - batches: 116\n",
            "Epoch 27/30 - 1.78s - loss: 0.03402166 - acc: 0.99724585 - batches: 116\n",
            "Epoch 28/30 - 1.80s - loss: 0.033171542 - acc: 0.9975357 - batches: 116\n",
            "Epoch 29/30 - 1.84s - loss: 0.03236334 - acc: 0.99768066 - batches: 116\n",
            "\n"
          ]
        }
      ],
      "source": [
        "import os\n",
        "log_file_name = os.listdir(\"multilabel_use\")[0]\n",
        "\n",
        "with open(\"multilabel_use/\"+log_file_name, \"r\") as log_file :\n",
        "    print(log_file.read())"
      ]
    },
    {
      "cell_type": "markdown",
      "id": "13458e93",
      "metadata": {
        "id": "13458e93"
      },
      "source": [
        "#### Test the trained model"
      ]
    },
    {
      "cell_type": "code",
      "execution_count": null,
      "id": "cwf0OM2Oy6Hd",
      "metadata": {
        "id": "cwf0OM2Oy6Hd"
      },
      "outputs": [],
      "source": [
        "preds = clf_pipelineModel.transform(test)"
      ]
    },
    {
      "cell_type": "code",
      "execution_count": null,
      "id": "jUKamU-50kZi",
      "metadata": {
        "colab": {
          "base_uri": "https://localhost:8080/",
          "height": 206
        },
        "id": "jUKamU-50kZi",
        "outputId": "7a40d363-649b-4794-da52-35dc531aa8ae"
      },
      "outputs": [
        {
          "data": {
            "text/html": [
              "\n",
              "  <div id=\"df-47c93c25-ed0f-4c23-9617-5f63d29e9d58\">\n",
              "    <div class=\"colab-df-container\">\n",
              "      <div>\n",
              "<style scoped>\n",
              "    .dataframe tbody tr th:only-of-type {\n",
              "        vertical-align: middle;\n",
              "    }\n",
              "\n",
              "    .dataframe tbody tr th {\n",
              "        vertical-align: top;\n",
              "    }\n",
              "\n",
              "    .dataframe thead th {\n",
              "        text-align: right;\n",
              "    }\n",
              "</style>\n",
              "<table border=\"1\" class=\"dataframe\">\n",
              "  <thead>\n",
              "    <tr style=\"text-align: right;\">\n",
              "      <th></th>\n",
              "      <th>label</th>\n",
              "      <th>provision</th>\n",
              "      <th>result</th>\n",
              "    </tr>\n",
              "  </thead>\n",
              "  <tbody>\n",
              "    <tr>\n",
              "      <th>0</th>\n",
              "      <td>[survival]</td>\n",
              "      <td>All agreements, statements, representations an...</td>\n",
              "      <td>[representations, warranties]</td>\n",
              "    </tr>\n",
              "    <tr>\n",
              "      <th>1</th>\n",
              "      <td>[survival]</td>\n",
              "      <td>All covenants of the Company contained in this...</td>\n",
              "      <td>[representations, warranties, terminations]</td>\n",
              "    </tr>\n",
              "    <tr>\n",
              "      <th>2</th>\n",
              "      <td>[survival]</td>\n",
              "      <td>All representations, warranties, covenants and...</td>\n",
              "      <td>[survival]</td>\n",
              "    </tr>\n",
              "    <tr>\n",
              "      <th>3</th>\n",
              "      <td>[notices]</td>\n",
              "      <td>Any notice required or permitted by this Agree...</td>\n",
              "      <td>[notices]</td>\n",
              "    </tr>\n",
              "    <tr>\n",
              "      <th>4</th>\n",
              "      <td>[waivers]</td>\n",
              "      <td>Each Canadian Loan Party acknowledges receipt ...</td>\n",
              "      <td>[]</td>\n",
              "    </tr>\n",
              "  </tbody>\n",
              "</table>\n",
              "</div>\n",
              "      <button class=\"colab-df-convert\" onclick=\"convertToInteractive('df-47c93c25-ed0f-4c23-9617-5f63d29e9d58')\"\n",
              "              title=\"Convert this dataframe to an interactive table.\"\n",
              "              style=\"display:none;\">\n",
              "        \n",
              "  <svg xmlns=\"http://www.w3.org/2000/svg\" height=\"24px\"viewBox=\"0 0 24 24\"\n",
              "       width=\"24px\">\n",
              "    <path d=\"M0 0h24v24H0V0z\" fill=\"none\"/>\n",
              "    <path d=\"M18.56 5.44l.94 2.06.94-2.06 2.06-.94-2.06-.94-.94-2.06-.94 2.06-2.06.94zm-11 1L8.5 8.5l.94-2.06 2.06-.94-2.06-.94L8.5 2.5l-.94 2.06-2.06.94zm10 10l.94 2.06.94-2.06 2.06-.94-2.06-.94-.94-2.06-.94 2.06-2.06.94z\"/><path d=\"M17.41 7.96l-1.37-1.37c-.4-.4-.92-.59-1.43-.59-.52 0-1.04.2-1.43.59L10.3 9.45l-7.72 7.72c-.78.78-.78 2.05 0 2.83L4 21.41c.39.39.9.59 1.41.59.51 0 1.02-.2 1.41-.59l7.78-7.78 2.81-2.81c.8-.78.8-2.07 0-2.86zM5.41 20L4 18.59l7.72-7.72 1.47 1.35L5.41 20z\"/>\n",
              "  </svg>\n",
              "      </button>\n",
              "      \n",
              "  <style>\n",
              "    .colab-df-container {\n",
              "      display:flex;\n",
              "      flex-wrap:wrap;\n",
              "      gap: 12px;\n",
              "    }\n",
              "\n",
              "    .colab-df-convert {\n",
              "      background-color: #E8F0FE;\n",
              "      border: none;\n",
              "      border-radius: 50%;\n",
              "      cursor: pointer;\n",
              "      display: none;\n",
              "      fill: #1967D2;\n",
              "      height: 32px;\n",
              "      padding: 0 0 0 0;\n",
              "      width: 32px;\n",
              "    }\n",
              "\n",
              "    .colab-df-convert:hover {\n",
              "      background-color: #E2EBFA;\n",
              "      box-shadow: 0px 1px 2px rgba(60, 64, 67, 0.3), 0px 1px 3px 1px rgba(60, 64, 67, 0.15);\n",
              "      fill: #174EA6;\n",
              "    }\n",
              "\n",
              "    [theme=dark] .colab-df-convert {\n",
              "      background-color: #3B4455;\n",
              "      fill: #D2E3FC;\n",
              "    }\n",
              "\n",
              "    [theme=dark] .colab-df-convert:hover {\n",
              "      background-color: #434B5C;\n",
              "      box-shadow: 0px 1px 3px 1px rgba(0, 0, 0, 0.15);\n",
              "      filter: drop-shadow(0px 1px 2px rgba(0, 0, 0, 0.3));\n",
              "      fill: #FFFFFF;\n",
              "    }\n",
              "  </style>\n",
              "\n",
              "      <script>\n",
              "        const buttonEl =\n",
              "          document.querySelector('#df-47c93c25-ed0f-4c23-9617-5f63d29e9d58 button.colab-df-convert');\n",
              "        buttonEl.style.display =\n",
              "          google.colab.kernel.accessAllowed ? 'block' : 'none';\n",
              "\n",
              "        async function convertToInteractive(key) {\n",
              "          const element = document.querySelector('#df-47c93c25-ed0f-4c23-9617-5f63d29e9d58');\n",
              "          const dataTable =\n",
              "            await google.colab.kernel.invokeFunction('convertToInteractive',\n",
              "                                                     [key], {});\n",
              "          if (!dataTable) return;\n",
              "\n",
              "          const docLinkHtml = 'Like what you see? Visit the ' +\n",
              "            '<a target=\"_blank\" href=https://colab.research.google.com/notebooks/data_table.ipynb>data table notebook</a>'\n",
              "            + ' to learn more about interactive tables.';\n",
              "          element.innerHTML = '';\n",
              "          dataTable['output_type'] = 'display_data';\n",
              "          await google.colab.output.renderOutput(dataTable, element);\n",
              "          const docLink = document.createElement('div');\n",
              "          docLink.innerHTML = docLinkHtml;\n",
              "          element.appendChild(docLink);\n",
              "        }\n",
              "      </script>\n",
              "    </div>\n",
              "  </div>\n",
              "  "
            ],
            "text/plain": [
              "        label                                          provision  \\\n",
              "0  [survival]  All agreements, statements, representations an...   \n",
              "1  [survival]  All covenants of the Company contained in this...   \n",
              "2  [survival]  All representations, warranties, covenants and...   \n",
              "3   [notices]  Any notice required or permitted by this Agree...   \n",
              "4   [waivers]  Each Canadian Loan Party acknowledges receipt ...   \n",
              "\n",
              "                                        result  \n",
              "0                [representations, warranties]  \n",
              "1  [representations, warranties, terminations]  \n",
              "2                                   [survival]  \n",
              "3                                    [notices]  \n",
              "4                                           []  "
            ]
          },
          "execution_count": 13,
          "metadata": {},
          "output_type": "execute_result"
        }
      ],
      "source": [
        "preds_df = preds.select(\"label\", \"provision\", \"class.result\").toPandas()\n",
        "preds_df.head()"
      ]
    },
    {
      "cell_type": "markdown",
      "id": "d994c459",
      "metadata": {
        "id": "d994c459"
      },
      "source": [
        "To compare predictions with ground truth values, we will use the `MultiLabelBinarizer` class from the scikit-learn package. It is able to transform the predicted list of classes into a multilabel format that it can process, which is needed to use the classification report or other metrics from the same package.  "
      ]
    },
    {
      "cell_type": "code",
      "execution_count": null,
      "id": "uWVj5TsSbmRE",
      "metadata": {
        "colab": {
          "base_uri": "https://localhost:8080/"
        },
        "id": "uWVj5TsSbmRE",
        "outputId": "01ef8073-8966-4cc8-b4cc-207b44b1769e"
      },
      "outputs": [
        {
          "name": "stdout",
          "output_type": "stream",
          "text": [
            "Classification report: \n",
            "               precision    recall  f1-score   support\n",
            "\n",
            "           0       0.60      0.50      0.55         6\n",
            "           1       0.00      0.00      0.00         1\n",
            "           2       0.75      1.00      0.86         3\n",
            "           3       0.83      0.83      0.83         6\n",
            "           4       1.00      0.86      0.92         7\n",
            "           5       1.00      1.00      1.00         1\n",
            "           6       1.00      1.00      1.00         2\n",
            "           7       1.00      1.00      1.00         1\n",
            "           8       0.40      1.00      0.57         2\n",
            "           9       1.00      1.00      1.00         3\n",
            "          10       0.80      1.00      0.89         4\n",
            "          11       0.50      0.33      0.40         3\n",
            "          12       0.00      0.00      0.00         2\n",
            "          13       0.00      0.00      0.00         2\n",
            "          14       0.40      0.67      0.50         3\n",
            "\n",
            "   micro avg       0.70      0.72      0.71        46\n",
            "   macro avg       0.62      0.68      0.63        46\n",
            "weighted avg       0.69      0.72      0.69        46\n",
            " samples avg       0.64      0.67      0.65        46\n",
            "\n",
            "F1 micro averaging: 0.7096774193548387\n",
            "ROC:  0.8457086391869001\n"
          ]
        }
      ],
      "source": [
        "from sklearn.preprocessing import MultiLabelBinarizer\n",
        "from sklearn.metrics import classification_report\n",
        "from sklearn.metrics import f1_score\n",
        "from sklearn.metrics import roc_auc_score\n",
        "\n",
        "mlb = MultiLabelBinarizer()\n",
        "\n",
        "y_true = mlb.fit_transform(preds_df['label'])\n",
        "y_pred = mlb.transform(preds_df['result'])\n",
        "\n",
        "\n",
        "print(\"Classification report: \\n\", (classification_report(y_true, y_pred)))\n",
        "print(\"F1 micro averaging:\",(f1_score(y_true, y_pred, average='micro')))\n",
        "print(\"ROC: \",(roc_auc_score(y_true, y_pred, average=\"micro\")))\n"
      ]
    },
    {
      "cell_type": "markdown",
      "id": "jWhU1pMUay0I",
      "metadata": {
        "id": "jWhU1pMUay0I"
      },
      "source": [
        "### Train with Bert Embeddings\n",
        "\n",
        "**Please restart your runtime to get rid of the out-of-memory error and read dataset again**"
      ]
    },
    {
      "cell_type": "code",
      "execution_count": null,
      "id": "KmSpQRc1nG2u",
      "metadata": {
        "colab": {
          "base_uri": "https://localhost:8080/"
        },
        "id": "KmSpQRc1nG2u",
        "outputId": "88bb031a-cb5b-4ca1-c32a-3e390fa041c9"
      },
      "outputs": [
        {
          "name": "stdout",
          "output_type": "stream",
          "text": [
            "📋 Loading license number 0 from /root/.johnsnowlabs/licenses/license_number_0_for_Spark-Healthcare_Spark-OCR.json\n",
            "👌 Launched \u001b[92mcpu optimized\u001b[39m session with with: 🚀Spark-NLP==4.2.4, 💊Spark-Healthcare==4.2.4, running on ⚡ PySpark==3.1.2\n"
          ]
        }
      ],
      "source": [
        "from johnsnowlabs import nlp, legal \n",
        "# Automatically load license data and start a session with all jars user has access to\n",
        "spark = nlp.start()"
      ]
    },
    {
      "cell_type": "code",
      "execution_count": null,
      "id": "7ufDH2txnNrp",
      "metadata": {
        "colab": {
          "base_uri": "https://localhost:8080/"
        },
        "id": "7ufDH2txnNrp",
        "outputId": "cd83c002-dfc5-46ae-df9e-e7b0989d1c3c"
      },
      "outputs": [
        {
          "name": "stdout",
          "output_type": "stream",
          "text": [
            "Shape of the full dataset: (27527, 2)\n"
          ]
        }
      ],
      "source": [
        "import pandas as pd\n",
        "df = pd.read_csv('./finance_data.csv')\n",
        "df['label'] = df['label'].apply(eval)\n",
        "print(f\"Shape of the full dataset: {df.shape}\")"
      ]
    },
    {
      "cell_type": "markdown",
      "id": "bHVFY_i4H5Gh",
      "metadata": {
        "id": "bHVFY_i4H5Gh"
      },
      "source": [
        "We do not have have any specific Financial Sentence Embeddings, but we can use Financial Bert Embeddings and then average them. "
      ]
    },
    {
      "cell_type": "code",
      "execution_count": null,
      "id": "8PG4NNyQdBnG",
      "metadata": {
        "colab": {
          "base_uri": "https://localhost:8080/"
        },
        "id": "8PG4NNyQdBnG",
        "outputId": "a946388c-b6fd-4a46-8fc2-b944556a8e66"
      },
      "outputs": [
        {
          "name": "stdout",
          "output_type": "stream",
          "text": [
            "bert_embeddings_sec_bert_base download started this may take some time.\n",
            "Approximate size to download 390.4 MB\n",
            "[OK!]\n"
          ]
        }
      ],
      "source": [
        "embeddings = (\n",
        "    nlp.BertEmbeddings.pretrained(\"bert_embeddings_sec_bert_base\", \"en\")\n",
        "    .setInputCols([\"document\", \"token\"])\n",
        "    .setOutputCol(\"embeddings\")\n",
        ")"
      ]
    },
    {
      "cell_type": "code",
      "execution_count": null,
      "id": "zdiCyuc3dBnJ",
      "metadata": {
        "id": "zdiCyuc3dBnJ"
      },
      "outputs": [],
      "source": [
        "document_assembler = (\n",
        "    nlp.DocumentAssembler().setInputCol(\"provision\").setOutputCol(\"document\")\n",
        ")\n",
        "\n",
        "tokenizer = nlp.Tokenizer().setInputCols([\"document\"]).setOutputCol(\"token\")\n",
        "\n",
        "embeddingsSentence = (\n",
        "    nlp.SentenceEmbeddings()\n",
        "    .setInputCols([\"document\", \"embeddings\"])\n",
        "    .setOutputCol(\"sentence_embeddings\")\n",
        "    .setPoolingStrategy(\"AVERAGE\")\n",
        ")\n",
        "\n",
        "classifierdl = (\n",
        "    nlp.MultiClassifierDLApproach()\n",
        "    .setInputCols([\"sentence_embeddings\"])\n",
        "    .setOutputCol(\"class\")\n",
        "    .setLabelColumn(\"label\")\n",
        "    .setMaxEpochs(8)\n",
        "    .setEnableOutputLogs(True)\n",
        "    .setOutputLogsPath(\"multilabel_bert\")\n",
        "    .setLr(0.001)\n",
        "    .setBatchSize(4)\n",
        ")\n",
        "\n",
        "clf_pipeline = nlp.Pipeline(\n",
        "    stages=[document_assembler, tokenizer, embeddings, embeddingsSentence, classifierdl]\n",
        ")"
      ]
    },
    {
      "cell_type": "code",
      "execution_count": null,
      "id": "7fxOmkTNdBnK",
      "metadata": {
        "colab": {
          "base_uri": "https://localhost:8080/"
        },
        "id": "7fxOmkTNdBnK",
        "outputId": "43bb5ea9-1619-4522-cfc3-7a684a7358bd"
      },
      "outputs": [
        {
          "name": "stdout",
          "output_type": "stream",
          "text": [
            "CPU times: user 2.59 s, sys: 311 ms, total: 2.9 s\n",
            "Wall time: 7min 41s\n"
          ]
        }
      ],
      "source": [
        "%%time\n",
        "clf_pipelineModel = clf_pipeline.fit(train)"
      ]
    },
    {
      "cell_type": "markdown",
      "id": "9dc66ec8",
      "metadata": {
        "id": "9dc66ec8"
      },
      "source": [
        "#### Testing the trained model"
      ]
    },
    {
      "cell_type": "code",
      "execution_count": null,
      "id": "Y-YfOWrudBnM",
      "metadata": {
        "id": "Y-YfOWrudBnM"
      },
      "outputs": [],
      "source": [
        "preds = clf_pipelineModel.transform(test)"
      ]
    },
    {
      "cell_type": "code",
      "execution_count": null,
      "id": "9VfIUz3IdBnN",
      "metadata": {
        "colab": {
          "base_uri": "https://localhost:8080/",
          "height": 206
        },
        "id": "9VfIUz3IdBnN",
        "outputId": "fb44ef75-b758-47be-d327-94b58cdccd66"
      },
      "outputs": [
        {
          "data": {
            "text/html": [
              "\n",
              "  <div id=\"df-e21d5021-0b76-4724-9284-01baaa2323e8\">\n",
              "    <div class=\"colab-df-container\">\n",
              "      <div>\n",
              "<style scoped>\n",
              "    .dataframe tbody tr th:only-of-type {\n",
              "        vertical-align: middle;\n",
              "    }\n",
              "\n",
              "    .dataframe tbody tr th {\n",
              "        vertical-align: top;\n",
              "    }\n",
              "\n",
              "    .dataframe thead th {\n",
              "        text-align: right;\n",
              "    }\n",
              "</style>\n",
              "<table border=\"1\" class=\"dataframe\">\n",
              "  <thead>\n",
              "    <tr style=\"text-align: right;\">\n",
              "      <th></th>\n",
              "      <th>provision</th>\n",
              "      <th>label</th>\n",
              "      <th>result</th>\n",
              "    </tr>\n",
              "  </thead>\n",
              "  <tbody>\n",
              "    <tr>\n",
              "      <th>0</th>\n",
              "      <td>All agreements, statements, representations an...</td>\n",
              "      <td>[survival]</td>\n",
              "      <td>[representations, warranties]</td>\n",
              "    </tr>\n",
              "    <tr>\n",
              "      <th>1</th>\n",
              "      <td>All covenants of the Company contained in this...</td>\n",
              "      <td>[survival]</td>\n",
              "      <td>[survival]</td>\n",
              "    </tr>\n",
              "    <tr>\n",
              "      <th>2</th>\n",
              "      <td>All representations, warranties, covenants and...</td>\n",
              "      <td>[survival]</td>\n",
              "      <td>[warranties]</td>\n",
              "    </tr>\n",
              "    <tr>\n",
              "      <th>3</th>\n",
              "      <td>Any notice required or permitted by this Agree...</td>\n",
              "      <td>[notices]</td>\n",
              "      <td>[notices]</td>\n",
              "    </tr>\n",
              "    <tr>\n",
              "      <th>4</th>\n",
              "      <td>Each Canadian Loan Party acknowledges receipt ...</td>\n",
              "      <td>[waivers]</td>\n",
              "      <td>[]</td>\n",
              "    </tr>\n",
              "  </tbody>\n",
              "</table>\n",
              "</div>\n",
              "      <button class=\"colab-df-convert\" onclick=\"convertToInteractive('df-e21d5021-0b76-4724-9284-01baaa2323e8')\"\n",
              "              title=\"Convert this dataframe to an interactive table.\"\n",
              "              style=\"display:none;\">\n",
              "        \n",
              "  <svg xmlns=\"http://www.w3.org/2000/svg\" height=\"24px\"viewBox=\"0 0 24 24\"\n",
              "       width=\"24px\">\n",
              "    <path d=\"M0 0h24v24H0V0z\" fill=\"none\"/>\n",
              "    <path d=\"M18.56 5.44l.94 2.06.94-2.06 2.06-.94-2.06-.94-.94-2.06-.94 2.06-2.06.94zm-11 1L8.5 8.5l.94-2.06 2.06-.94-2.06-.94L8.5 2.5l-.94 2.06-2.06.94zm10 10l.94 2.06.94-2.06 2.06-.94-2.06-.94-.94-2.06-.94 2.06-2.06.94z\"/><path d=\"M17.41 7.96l-1.37-1.37c-.4-.4-.92-.59-1.43-.59-.52 0-1.04.2-1.43.59L10.3 9.45l-7.72 7.72c-.78.78-.78 2.05 0 2.83L4 21.41c.39.39.9.59 1.41.59.51 0 1.02-.2 1.41-.59l7.78-7.78 2.81-2.81c.8-.78.8-2.07 0-2.86zM5.41 20L4 18.59l7.72-7.72 1.47 1.35L5.41 20z\"/>\n",
              "  </svg>\n",
              "      </button>\n",
              "      \n",
              "  <style>\n",
              "    .colab-df-container {\n",
              "      display:flex;\n",
              "      flex-wrap:wrap;\n",
              "      gap: 12px;\n",
              "    }\n",
              "\n",
              "    .colab-df-convert {\n",
              "      background-color: #E8F0FE;\n",
              "      border: none;\n",
              "      border-radius: 50%;\n",
              "      cursor: pointer;\n",
              "      display: none;\n",
              "      fill: #1967D2;\n",
              "      height: 32px;\n",
              "      padding: 0 0 0 0;\n",
              "      width: 32px;\n",
              "    }\n",
              "\n",
              "    .colab-df-convert:hover {\n",
              "      background-color: #E2EBFA;\n",
              "      box-shadow: 0px 1px 2px rgba(60, 64, 67, 0.3), 0px 1px 3px 1px rgba(60, 64, 67, 0.15);\n",
              "      fill: #174EA6;\n",
              "    }\n",
              "\n",
              "    [theme=dark] .colab-df-convert {\n",
              "      background-color: #3B4455;\n",
              "      fill: #D2E3FC;\n",
              "    }\n",
              "\n",
              "    [theme=dark] .colab-df-convert:hover {\n",
              "      background-color: #434B5C;\n",
              "      box-shadow: 0px 1px 3px 1px rgba(0, 0, 0, 0.15);\n",
              "      filter: drop-shadow(0px 1px 2px rgba(0, 0, 0, 0.3));\n",
              "      fill: #FFFFFF;\n",
              "    }\n",
              "  </style>\n",
              "\n",
              "      <script>\n",
              "        const buttonEl =\n",
              "          document.querySelector('#df-e21d5021-0b76-4724-9284-01baaa2323e8 button.colab-df-convert');\n",
              "        buttonEl.style.display =\n",
              "          google.colab.kernel.accessAllowed ? 'block' : 'none';\n",
              "\n",
              "        async function convertToInteractive(key) {\n",
              "          const element = document.querySelector('#df-e21d5021-0b76-4724-9284-01baaa2323e8');\n",
              "          const dataTable =\n",
              "            await google.colab.kernel.invokeFunction('convertToInteractive',\n",
              "                                                     [key], {});\n",
              "          if (!dataTable) return;\n",
              "\n",
              "          const docLinkHtml = 'Like what you see? Visit the ' +\n",
              "            '<a target=\"_blank\" href=https://colab.research.google.com/notebooks/data_table.ipynb>data table notebook</a>'\n",
              "            + ' to learn more about interactive tables.';\n",
              "          element.innerHTML = '';\n",
              "          dataTable['output_type'] = 'display_data';\n",
              "          await google.colab.output.renderOutput(dataTable, element);\n",
              "          const docLink = document.createElement('div');\n",
              "          docLink.innerHTML = docLinkHtml;\n",
              "          element.appendChild(docLink);\n",
              "        }\n",
              "      </script>\n",
              "    </div>\n",
              "  </div>\n",
              "  "
            ],
            "text/plain": [
              "                                           provision       label  \\\n",
              "0  All agreements, statements, representations an...  [survival]   \n",
              "1  All covenants of the Company contained in this...  [survival]   \n",
              "2  All representations, warranties, covenants and...  [survival]   \n",
              "3  Any notice required or permitted by this Agree...   [notices]   \n",
              "4  Each Canadian Loan Party acknowledges receipt ...   [waivers]   \n",
              "\n",
              "                          result  \n",
              "0  [representations, warranties]  \n",
              "1                     [survival]  \n",
              "2                   [warranties]  \n",
              "3                      [notices]  \n",
              "4                             []  "
            ]
          },
          "execution_count": 12,
          "metadata": {},
          "output_type": "execute_result"
        }
      ],
      "source": [
        "preds_df = preds.select(\"provision\", \"label\", \"class.result\").toPandas()\n",
        "preds_df.head()"
      ]
    },
    {
      "cell_type": "code",
      "execution_count": null,
      "id": "No_VwzrNjE7f",
      "metadata": {
        "colab": {
          "base_uri": "https://localhost:8080/"
        },
        "id": "No_VwzrNjE7f",
        "outputId": "579c5ea9-8a90-4a58-de06-d9e573229d45"
      },
      "outputs": [
        {
          "name": "stdout",
          "output_type": "stream",
          "text": [
            "Training started - epochs: 8 - learning_rate: 0.001 - batch_size: 4 - training_examples: 461 - classes: 15\n",
            "Epoch 0/8 - 4.73s - loss: 0.21118948 - acc: 0.94202876 - batches: 116\n",
            "Epoch 1/8 - 2.09s - loss: 0.08812641 - acc: 0.9775358 - batches: 116\n",
            "Epoch 2/8 - 2.01s - loss: 0.056855213 - acc: 0.9868111 - batches: 116\n",
            "Epoch 3/8 - 2.05s - loss: 0.042333648 - acc: 0.9924633 - batches: 116\n",
            "Epoch 4/8 - 1.99s - loss: 0.033270992 - acc: 0.9960865 - batches: 116\n",
            "Epoch 5/8 - 2.03s - loss: 0.027073074 - acc: 1.0002896 - batches: 116\n",
            "Epoch 6/8 - 2.01s - loss: 0.022839691 - acc: 1.0023185 - batches: 116\n",
            "Epoch 7/8 - 2.02s - loss: 0.019849315 - acc: 1.0027533 - batches: 116\n",
            "\n"
          ]
        }
      ],
      "source": [
        "import os\n",
        "log_file_name = os.listdir(\"multilabel_bert\")[0]\n",
        "\n",
        "with open(\"multilabel_bert/\"+log_file_name, \"r\") as log_file :\n",
        "    print(log_file.read())"
      ]
    },
    {
      "cell_type": "code",
      "execution_count": null,
      "id": "GJKWrIpOYLW_",
      "metadata": {
        "colab": {
          "base_uri": "https://localhost:8080/"
        },
        "id": "GJKWrIpOYLW_",
        "outputId": "bec2311d-fef0-45e1-f171-660dee4e4252"
      },
      "outputs": [
        {
          "name": "stdout",
          "output_type": "stream",
          "text": [
            "Classification report: \n",
            "               precision    recall  f1-score   support\n",
            "\n",
            "           0       1.00      1.00      1.00         6\n",
            "           1       0.00      0.00      0.00         1\n",
            "           2       0.75      1.00      0.86         3\n",
            "           3       1.00      0.83      0.91         6\n",
            "           4       1.00      0.86      0.92         7\n",
            "           5       1.00      1.00      1.00         1\n",
            "           6       1.00      1.00      1.00         2\n",
            "           7       1.00      1.00      1.00         1\n",
            "           8       0.40      1.00      0.57         2\n",
            "           9       0.75      1.00      0.86         3\n",
            "          10       0.80      1.00      0.89         4\n",
            "          11       1.00      0.33      0.50         3\n",
            "          12       1.00      0.50      0.67         2\n",
            "          13       0.50      0.50      0.50         2\n",
            "          14       0.50      1.00      0.67         3\n",
            "\n",
            "   micro avg       0.80      0.85      0.82        46\n",
            "   macro avg       0.78      0.80      0.76        46\n",
            "weighted avg       0.85      0.85      0.82        46\n",
            " samples avg       0.78      0.82      0.79        46\n",
            "\n",
            "F1 micro averaging: 0.8210526315789473\n",
            "ROC:  0.9146366056303945\n"
          ]
        }
      ],
      "source": [
        "from sklearn.preprocessing import MultiLabelBinarizer\n",
        "from sklearn.metrics import classification_report\n",
        "from sklearn.metrics import f1_score\n",
        "from sklearn.metrics import roc_auc_score\n",
        "\n",
        "mlb = MultiLabelBinarizer()\n",
        "\n",
        "y_true = mlb.fit_transform(preds_df['label'])\n",
        "y_pred = mlb.transform(preds_df['result'])\n",
        "\n",
        "print(\"Classification report: \\n\", (classification_report(y_true, y_pred)))\n",
        "print(\"F1 micro averaging:\",(f1_score(y_true, y_pred, average='micro')))\n",
        "print(\"ROC: \",(roc_auc_score(y_true, y_pred, average=\"micro\")))\n"
      ]
    },
    {
      "cell_type": "markdown",
      "id": "Zsap0xaejFCX",
      "metadata": {
        "id": "Zsap0xaejFCX"
      },
      "source": [
        "### Saving & loading back the trained model"
      ]
    },
    {
      "cell_type": "code",
      "execution_count": null,
      "id": "BQoJ_DHSjFCX",
      "metadata": {
        "colab": {
          "base_uri": "https://localhost:8080/"
        },
        "id": "BQoJ_DHSjFCX",
        "outputId": "fd7613d3-d097-4133-8cd5-22a4eadb90eb"
      },
      "outputs": [
        {
          "data": {
            "text/plain": [
              "[DocumentAssembler_6e4b83bd8e34,\n",
              " REGEX_TOKENIZER_a51273a0ac5e,\n",
              " BERT_EMBEDDINGS_29ce72cd673e,\n",
              " SentenceEmbeddings_d7e0188b9ffa,\n",
              " MultiClassifierDLModel_c72989be3944]"
            ]
          },
          "execution_count": 16,
          "metadata": {},
          "output_type": "execute_result"
        }
      ],
      "source": [
        "clf_pipelineModel.stages"
      ]
    },
    {
      "cell_type": "code",
      "execution_count": null,
      "id": "3hKjHocZjFCY",
      "metadata": {
        "id": "3hKjHocZjFCY"
      },
      "outputs": [],
      "source": [
        "# Save a Spark NLP model\n",
        "clf_pipelineModel.stages[-1].write().overwrite().save('MultilabelClfBert')"
      ]
    },
    {
      "cell_type": "code",
      "execution_count": null,
      "id": "cXtTavvVjFCY",
      "metadata": {
        "id": "cXtTavvVjFCY"
      },
      "outputs": [],
      "source": [
        "# Load back  saved Multilabel Classifier Model\n",
        "MultilabelClfModel = nlp.MultiClassifierDLModel.load('MultilabelClfBert')"
      ]
    },
    {
      "cell_type": "code",
      "execution_count": null,
      "id": "sxWzLYSgjFCY",
      "metadata": {
        "id": "sxWzLYSgjFCY"
      },
      "outputs": [],
      "source": [
        "ld_pipeline = nlp.Pipeline(\n",
        "    stages=[\n",
        "        document_assembler,\n",
        "        tokenizer,\n",
        "        embeddings,\n",
        "        embeddingsSentence,\n",
        "        MultilabelClfModel,\n",
        "    ]\n",
        ")\n",
        "ld_pipeline_model = ld_pipeline.fit(spark.createDataFrame([[\"\"]]).toDF(\"provision\"))"
      ]
    },
    {
      "cell_type": "code",
      "execution_count": null,
      "id": "FKe7kDccjFCY",
      "metadata": {
        "id": "FKe7kDccjFCY"
      },
      "outputs": [],
      "source": [
        "# Apply Model Transform to testData\n",
        "ld_preds = ld_pipeline_model.transform(test)"
      ]
    },
    {
      "cell_type": "code",
      "execution_count": null,
      "id": "pnZwf9MejFCY",
      "metadata": {
        "id": "pnZwf9MejFCY"
      },
      "outputs": [],
      "source": [
        "ld_preds_df = ld_preds.select(\"provision\", \"label\", \"class.result\").toPandas()"
      ]
    },
    {
      "cell_type": "code",
      "execution_count": null,
      "id": "rWarQRPBjFCZ",
      "metadata": {
        "colab": {
          "base_uri": "https://localhost:8080/",
          "height": 363
        },
        "id": "rWarQRPBjFCZ",
        "outputId": "accbcde1-2de1-44e4-f309-5bd7101fda7c"
      },
      "outputs": [
        {
          "data": {
            "text/html": [
              "\n",
              "  <div id=\"df-999713f7-da0f-418b-b2cd-b11c2d2c8d2f\">\n",
              "    <div class=\"colab-df-container\">\n",
              "      <div>\n",
              "<style scoped>\n",
              "    .dataframe tbody tr th:only-of-type {\n",
              "        vertical-align: middle;\n",
              "    }\n",
              "\n",
              "    .dataframe tbody tr th {\n",
              "        vertical-align: top;\n",
              "    }\n",
              "\n",
              "    .dataframe thead th {\n",
              "        text-align: right;\n",
              "    }\n",
              "</style>\n",
              "<table border=\"1\" class=\"dataframe\">\n",
              "  <thead>\n",
              "    <tr style=\"text-align: right;\">\n",
              "      <th></th>\n",
              "      <th>provision</th>\n",
              "      <th>label</th>\n",
              "      <th>result</th>\n",
              "    </tr>\n",
              "  </thead>\n",
              "  <tbody>\n",
              "    <tr>\n",
              "      <th>0</th>\n",
              "      <td>All agreements, statements, representations an...</td>\n",
              "      <td>[survival]</td>\n",
              "      <td>[representations, warranties]</td>\n",
              "    </tr>\n",
              "    <tr>\n",
              "      <th>1</th>\n",
              "      <td>All covenants of the Company contained in this...</td>\n",
              "      <td>[survival]</td>\n",
              "      <td>[survival]</td>\n",
              "    </tr>\n",
              "    <tr>\n",
              "      <th>2</th>\n",
              "      <td>All representations, warranties, covenants and...</td>\n",
              "      <td>[survival]</td>\n",
              "      <td>[warranties]</td>\n",
              "    </tr>\n",
              "    <tr>\n",
              "      <th>3</th>\n",
              "      <td>Any notice required or permitted by this Agree...</td>\n",
              "      <td>[notices]</td>\n",
              "      <td>[notices]</td>\n",
              "    </tr>\n",
              "    <tr>\n",
              "      <th>4</th>\n",
              "      <td>Each Canadian Loan Party acknowledges receipt ...</td>\n",
              "      <td>[waivers]</td>\n",
              "      <td>[]</td>\n",
              "    </tr>\n",
              "    <tr>\n",
              "      <th>5</th>\n",
              "      <td>Except as otherwise provided herein or in any ...</td>\n",
              "      <td>[waivers]</td>\n",
              "      <td>[waivers]</td>\n",
              "    </tr>\n",
              "    <tr>\n",
              "      <th>6</th>\n",
              "      <td>Franchisee acknowledges that the Foodservice D...</td>\n",
              "      <td>[amendments]</td>\n",
              "      <td>[amendments]</td>\n",
              "    </tr>\n",
              "    <tr>\n",
              "      <th>7</th>\n",
              "      <td>Guarantor represents and warrants to Lender th...</td>\n",
              "      <td>[warranties]</td>\n",
              "      <td>[representations, warranties]</td>\n",
              "    </tr>\n",
              "    <tr>\n",
              "      <th>8</th>\n",
              "      <td>If any provision of this Plan or any Award is,...</td>\n",
              "      <td>[severability]</td>\n",
              "      <td>[severability]</td>\n",
              "    </tr>\n",
              "    <tr>\n",
              "      <th>9</th>\n",
              "      <td>No amendment, modification, termination or can...</td>\n",
              "      <td>[amendments]</td>\n",
              "      <td>[amendments]</td>\n",
              "    </tr>\n",
              "  </tbody>\n",
              "</table>\n",
              "</div>\n",
              "      <button class=\"colab-df-convert\" onclick=\"convertToInteractive('df-999713f7-da0f-418b-b2cd-b11c2d2c8d2f')\"\n",
              "              title=\"Convert this dataframe to an interactive table.\"\n",
              "              style=\"display:none;\">\n",
              "        \n",
              "  <svg xmlns=\"http://www.w3.org/2000/svg\" height=\"24px\"viewBox=\"0 0 24 24\"\n",
              "       width=\"24px\">\n",
              "    <path d=\"M0 0h24v24H0V0z\" fill=\"none\"/>\n",
              "    <path d=\"M18.56 5.44l.94 2.06.94-2.06 2.06-.94-2.06-.94-.94-2.06-.94 2.06-2.06.94zm-11 1L8.5 8.5l.94-2.06 2.06-.94-2.06-.94L8.5 2.5l-.94 2.06-2.06.94zm10 10l.94 2.06.94-2.06 2.06-.94-2.06-.94-.94-2.06-.94 2.06-2.06.94z\"/><path d=\"M17.41 7.96l-1.37-1.37c-.4-.4-.92-.59-1.43-.59-.52 0-1.04.2-1.43.59L10.3 9.45l-7.72 7.72c-.78.78-.78 2.05 0 2.83L4 21.41c.39.39.9.59 1.41.59.51 0 1.02-.2 1.41-.59l7.78-7.78 2.81-2.81c.8-.78.8-2.07 0-2.86zM5.41 20L4 18.59l7.72-7.72 1.47 1.35L5.41 20z\"/>\n",
              "  </svg>\n",
              "      </button>\n",
              "      \n",
              "  <style>\n",
              "    .colab-df-container {\n",
              "      display:flex;\n",
              "      flex-wrap:wrap;\n",
              "      gap: 12px;\n",
              "    }\n",
              "\n",
              "    .colab-df-convert {\n",
              "      background-color: #E8F0FE;\n",
              "      border: none;\n",
              "      border-radius: 50%;\n",
              "      cursor: pointer;\n",
              "      display: none;\n",
              "      fill: #1967D2;\n",
              "      height: 32px;\n",
              "      padding: 0 0 0 0;\n",
              "      width: 32px;\n",
              "    }\n",
              "\n",
              "    .colab-df-convert:hover {\n",
              "      background-color: #E2EBFA;\n",
              "      box-shadow: 0px 1px 2px rgba(60, 64, 67, 0.3), 0px 1px 3px 1px rgba(60, 64, 67, 0.15);\n",
              "      fill: #174EA6;\n",
              "    }\n",
              "\n",
              "    [theme=dark] .colab-df-convert {\n",
              "      background-color: #3B4455;\n",
              "      fill: #D2E3FC;\n",
              "    }\n",
              "\n",
              "    [theme=dark] .colab-df-convert:hover {\n",
              "      background-color: #434B5C;\n",
              "      box-shadow: 0px 1px 3px 1px rgba(0, 0, 0, 0.15);\n",
              "      filter: drop-shadow(0px 1px 2px rgba(0, 0, 0, 0.3));\n",
              "      fill: #FFFFFF;\n",
              "    }\n",
              "  </style>\n",
              "\n",
              "      <script>\n",
              "        const buttonEl =\n",
              "          document.querySelector('#df-999713f7-da0f-418b-b2cd-b11c2d2c8d2f button.colab-df-convert');\n",
              "        buttonEl.style.display =\n",
              "          google.colab.kernel.accessAllowed ? 'block' : 'none';\n",
              "\n",
              "        async function convertToInteractive(key) {\n",
              "          const element = document.querySelector('#df-999713f7-da0f-418b-b2cd-b11c2d2c8d2f');\n",
              "          const dataTable =\n",
              "            await google.colab.kernel.invokeFunction('convertToInteractive',\n",
              "                                                     [key], {});\n",
              "          if (!dataTable) return;\n",
              "\n",
              "          const docLinkHtml = 'Like what you see? Visit the ' +\n",
              "            '<a target=\"_blank\" href=https://colab.research.google.com/notebooks/data_table.ipynb>data table notebook</a>'\n",
              "            + ' to learn more about interactive tables.';\n",
              "          element.innerHTML = '';\n",
              "          dataTable['output_type'] = 'display_data';\n",
              "          await google.colab.output.renderOutput(dataTable, element);\n",
              "          const docLink = document.createElement('div');\n",
              "          docLink.innerHTML = docLinkHtml;\n",
              "          element.appendChild(docLink);\n",
              "        }\n",
              "      </script>\n",
              "    </div>\n",
              "  </div>\n",
              "  "
            ],
            "text/plain": [
              "                                           provision           label  \\\n",
              "0  All agreements, statements, representations an...      [survival]   \n",
              "1  All covenants of the Company contained in this...      [survival]   \n",
              "2  All representations, warranties, covenants and...      [survival]   \n",
              "3  Any notice required or permitted by this Agree...       [notices]   \n",
              "4  Each Canadian Loan Party acknowledges receipt ...       [waivers]   \n",
              "5  Except as otherwise provided herein or in any ...       [waivers]   \n",
              "6  Franchisee acknowledges that the Foodservice D...    [amendments]   \n",
              "7  Guarantor represents and warrants to Lender th...    [warranties]   \n",
              "8  If any provision of this Plan or any Award is,...  [severability]   \n",
              "9  No amendment, modification, termination or can...    [amendments]   \n",
              "\n",
              "                          result  \n",
              "0  [representations, warranties]  \n",
              "1                     [survival]  \n",
              "2                   [warranties]  \n",
              "3                      [notices]  \n",
              "4                             []  \n",
              "5                      [waivers]  \n",
              "6                   [amendments]  \n",
              "7  [representations, warranties]  \n",
              "8                 [severability]  \n",
              "9                   [amendments]  "
            ]
          },
          "execution_count": 22,
          "metadata": {},
          "output_type": "execute_result"
        }
      ],
      "source": [
        "ld_preds_df.head(10)"
      ]
    },
    {
      "cell_type": "markdown",
      "id": "rMHZmT9_deAQ",
      "metadata": {
        "id": "rMHZmT9_deAQ"
      },
      "source": [
        "### Save model and Zip it for Modelshub Upload/Downloads\n",
        "\n",
        "[Models Hub](https://nlp.johnsnowlabs.com/models)"
      ]
    },
    {
      "cell_type": "code",
      "execution_count": null,
      "id": "QZ79YbdodfFc",
      "metadata": {
        "colab": {
          "base_uri": "https://localhost:8080/"
        },
        "id": "QZ79YbdodfFc",
        "outputId": "7ae1c1fc-bece-48cf-a809-c067531d523d"
      },
      "outputs": [
        {
          "name": "stdout",
          "output_type": "stream",
          "text": [
            "  adding: fields/ (stored 0%)\n",
            "  adding: fields/datasetParams/ (stored 0%)\n",
            "  adding: fields/datasetParams/.part-00001.crc (stored 0%)\n",
            "  adding: fields/datasetParams/_SUCCESS (stored 0%)\n",
            "  adding: fields/datasetParams/._SUCCESS.crc (stored 0%)\n",
            "  adding: fields/datasetParams/part-00001 (deflated 34%)\n",
            "  adding: fields/datasetParams/.part-00000.crc (stored 0%)\n",
            "  adding: fields/datasetParams/part-00000 (deflated 27%)\n",
            "  adding: metadata/ (stored 0%)\n",
            "  adding: metadata/_SUCCESS (stored 0%)\n",
            "  adding: metadata/._SUCCESS.crc (stored 0%)\n",
            "  adding: metadata/.part-00000.crc (stored 0%)\n",
            "  adding: metadata/part-00000 (deflated 41%)\n",
            "  adding: multiclassifierdl_tensorflow (deflated 85%)\n"
          ]
        }
      ],
      "source": [
        "# cd into saved dir and zip\n",
        "! cd /content/MultilabelClfBert ; zip -r /content/MultilabelClfBert.zip *"
      ]
    },
    {
      "cell_type": "code",
      "execution_count": null,
      "id": "op2Unl8HwtIn",
      "metadata": {
        "id": "op2Unl8HwtIn"
      },
      "outputs": [],
      "source": []
    }
  ],
  "metadata": {
    "colab": {
      "provenance": [],
      "toc_visible": true
    },
    "gpuClass": "premium",
    "kernelspec": {
      "display_name": "Python 3",
      "language": "python",
      "name": "python3"
    },
    "language_info": {
      "codemirror_mode": {
        "name": "ipython",
        "version": 3
      },
      "file_extension": ".py",
      "mimetype": "text/x-python",
      "name": "python",
      "nbconvert_exporter": "python",
      "pygments_lexer": "ipython3",
      "version": "3.10.9 (tags/v3.10.9:1dd9be6, Dec  6 2022, 20:01:21) [MSC v.1934 64 bit (AMD64)]"
    },
    "vscode": {
      "interpreter": {
        "hash": "eaaf1efa59a88a5a39769af8d2cb09ad2646375b6f26a94367c2f840c23a5e60"
      }
    }
  },
  "nbformat": 4,
  "nbformat_minor": 5
}
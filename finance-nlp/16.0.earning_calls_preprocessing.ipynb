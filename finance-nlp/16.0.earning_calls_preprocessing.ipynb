{
  "nbformat": 4,
  "nbformat_minor": 0,
  "metadata": {
    "colab": {
      "provenance": []
    },
    "kernelspec": {
      "name": "python3",
      "display_name": "Python 3"
    },
    "language_info": {
      "name": "python"
    }
  },
  "cells": [
    {
      "cell_type": "markdown",
      "source": [
        "![JohnSnowLabs](https://nlp.johnsnowlabs.com/assets/images/logo.png)"
      ],
      "metadata": {
        "id": "0i_BfRnB-b8C"
      }
    },
    {
      "cell_type": "markdown",
      "source": [
        "# Colab Setup\n",
        "\n",
        "[![Open In Colab](https://colab.research.google.com/assets/colab-badge.svg)](https://colab.research.google.com/github/JohnSnowLabs/spark-nlp-workshop/blob/master/finance-nlp/16.0.earning_calls_preprocessing.ipynb)"
      ],
      "metadata": {
        "id": "qv2B6430-vY6"
      }
    },
    {
      "cell_type": "code",
      "execution_count": null,
      "metadata": {
        "id": "m_W96p3NH2th"
      },
      "outputs": [],
      "source": [
        "!pip install johnsnowlabs\n",
        "\n",
        "from johnsnowlabs import nlp,finance\n",
        "\n",
        "nlp.install(force_browser=True)"
      ]
    },
    {
      "cell_type": "code",
      "source": [
        "\n",
        "from johnsnowlabs import nlp,finance\n",
        "\n",
        "params = {\"spark.driver.memory\":\"32G\",\n",
        "\"spark.kryoserializer.buffer.max\":\"2000M\",\n",
        "\"spark.driver.maxResultSize\":\"20000M\"}\n",
        "\n",
        "\n",
        "spark = nlp.start(spark_conf=params)"
      ],
      "metadata": {
        "colab": {
          "base_uri": "https://localhost:8080/"
        },
        "id": "MAFs7z69liAi",
        "outputId": "1328366b-0c13-4bed-8470-fcc89bbdc998"
      },
      "execution_count": null,
      "outputs": [
        {
          "output_type": "stream",
          "name": "stdout",
          "text": [
            "👌 Launched \u001b[92mcpu optimized\u001b[39m session with with: 🚀Spark-NLP==5.0.1, 💊Spark-Healthcare==5.0.1, running on ⚡ PySpark==3.1.2\n"
          ]
        }
      ]
    },
    {
      "cell_type": "code",
      "source": [
        "!unzip /content/2023-07-28-06-50-25_Earning_Call_Transcripts.zip -d data/"
      ],
      "metadata": {
        "colab": {
          "base_uri": "https://localhost:8080/"
        },
        "id": "ISLsKoHmT-5j",
        "outputId": "0c32cd17-6cca-423f-8ab9-a55932775f63"
      },
      "execution_count": null,
      "outputs": [
        {
          "output_type": "stream",
          "name": "stdout",
          "text": [
            "Archive:  /content/2023-07-28-06-50-25_Earning_Call_Transcripts.zip\n",
            "  inflating: data/2023-07-28-06-50-25_Earning_Call_Transcripts/result.json  \n"
          ]
        }
      ]
    },
    {
      "cell_type": "code",
      "source": [
        "import json\n",
        "\n",
        "exported_json = \"/content/data/2023-07-28-06-50-25_Earning_Call_Transcripts/result.json\"\n",
        "\n",
        "with open(exported_json, \"r\", encoding=\"utf8\") as f:\n",
        "    json_content = json.load(f)\n",
        "\n",
        "json_content[0]"
      ],
      "metadata": {
        "id": "dNrfKBn1UA_b"
      },
      "execution_count": null,
      "outputs": []
    },
    {
      "cell_type": "code",
      "source": [
        "USERS = [\"sorina\", \"milind\"]\n",
        "\n",
        "completions_filtered = []\n",
        "\n",
        "for content in json_content:\n",
        "    completions = [x for x in content['completions'] if x['created_username'] in USERS]\n",
        "    if len(completions)==0:\n",
        "        continue\n",
        "    #last_completion = content['completions'][-1]\n",
        "    #completions_filtered.append(last_completion['id'])\n",
        "\n",
        "    completions_filtered.extend(x['id'] for x in completions)\n",
        "\n",
        "len(completions_filtered)"
      ],
      "metadata": {
        "colab": {
          "base_uri": "https://localhost:8080/"
        },
        "id": "wuY5J_czUPws",
        "outputId": "82104546-602f-4047-9236-c4b8be28434d"
      },
      "execution_count": null,
      "outputs": [
        {
          "output_type": "execute_result",
          "data": {
            "text/plain": [
              "156"
            ]
          },
          "metadata": {},
          "execution_count": 5
        }
      ]
    },
    {
      "cell_type": "code",
      "source": [
        "text_tuples = []\n",
        "text = []\n",
        "for content in json_content:\n",
        "    for completion in content['completions']:\n",
        "        if completion['id'] in completions_filtered:\n",
        "            text.append(content['data']['text'])\n",
        "            text_tuples.append((completion['id'], content['data']['text']))"
      ],
      "metadata": {
        "id": "_N5pP01bUajU"
      },
      "execution_count": null,
      "outputs": []
    },
    {
      "cell_type": "code",
      "source": [
        "import pandas as pd\n",
        "text_df = pd.DataFrame(text_tuples, columns=['text_id', 'text'])\n",
        "text_df.head()"
      ],
      "metadata": {
        "colab": {
          "base_uri": "https://localhost:8080/",
          "height": 206
        },
        "id": "lFrAbJk3Ugr1",
        "outputId": "161c0e42-db38-4055-839a-653145affd50"
      },
      "execution_count": null,
      "outputs": [
        {
          "output_type": "execute_result",
          "data": {
            "text/plain": [
              "   text_id                                               text\n",
              "0   138001  \\n\\nImage source: The Motley Fool.\\n\\nAon (AON...\n",
              "1   118001  \\n\\nImage source: The Motley Fool.\\n\\nBioCryst...\n",
              "2   115001  \\n\\nImage source: The Motley Fool.\\n\\nPhillips...\n",
              "3   117001  \\n\\nImage source: The Motley Fool.\\n\\nPfizer (...\n",
              "4   112001  \\n\\nImage source: The Motley Fool.\\n\\nYum Chin..."
            ],
            "text/html": [
              "\n",
              "\n",
              "  <div id=\"df-bfe04783-7eaf-4ca6-b1d4-630cd3938460\">\n",
              "    <div class=\"colab-df-container\">\n",
              "      <div>\n",
              "<style scoped>\n",
              "    .dataframe tbody tr th:only-of-type {\n",
              "        vertical-align: middle;\n",
              "    }\n",
              "\n",
              "    .dataframe tbody tr th {\n",
              "        vertical-align: top;\n",
              "    }\n",
              "\n",
              "    .dataframe thead th {\n",
              "        text-align: right;\n",
              "    }\n",
              "</style>\n",
              "<table border=\"1\" class=\"dataframe\">\n",
              "  <thead>\n",
              "    <tr style=\"text-align: right;\">\n",
              "      <th></th>\n",
              "      <th>text_id</th>\n",
              "      <th>text</th>\n",
              "    </tr>\n",
              "  </thead>\n",
              "  <tbody>\n",
              "    <tr>\n",
              "      <th>0</th>\n",
              "      <td>138001</td>\n",
              "      <td>\\n\\nImage source: The Motley Fool.\\n\\nAon (AON...</td>\n",
              "    </tr>\n",
              "    <tr>\n",
              "      <th>1</th>\n",
              "      <td>118001</td>\n",
              "      <td>\\n\\nImage source: The Motley Fool.\\n\\nBioCryst...</td>\n",
              "    </tr>\n",
              "    <tr>\n",
              "      <th>2</th>\n",
              "      <td>115001</td>\n",
              "      <td>\\n\\nImage source: The Motley Fool.\\n\\nPhillips...</td>\n",
              "    </tr>\n",
              "    <tr>\n",
              "      <th>3</th>\n",
              "      <td>117001</td>\n",
              "      <td>\\n\\nImage source: The Motley Fool.\\n\\nPfizer (...</td>\n",
              "    </tr>\n",
              "    <tr>\n",
              "      <th>4</th>\n",
              "      <td>112001</td>\n",
              "      <td>\\n\\nImage source: The Motley Fool.\\n\\nYum Chin...</td>\n",
              "    </tr>\n",
              "  </tbody>\n",
              "</table>\n",
              "</div>\n",
              "      <button class=\"colab-df-convert\" onclick=\"convertToInteractive('df-bfe04783-7eaf-4ca6-b1d4-630cd3938460')\"\n",
              "              title=\"Convert this dataframe to an interactive table.\"\n",
              "              style=\"display:none;\">\n",
              "\n",
              "  <svg xmlns=\"http://www.w3.org/2000/svg\" height=\"24px\"viewBox=\"0 0 24 24\"\n",
              "       width=\"24px\">\n",
              "    <path d=\"M0 0h24v24H0V0z\" fill=\"none\"/>\n",
              "    <path d=\"M18.56 5.44l.94 2.06.94-2.06 2.06-.94-2.06-.94-.94-2.06-.94 2.06-2.06.94zm-11 1L8.5 8.5l.94-2.06 2.06-.94-2.06-.94L8.5 2.5l-.94 2.06-2.06.94zm10 10l.94 2.06.94-2.06 2.06-.94-2.06-.94-.94-2.06-.94 2.06-2.06.94z\"/><path d=\"M17.41 7.96l-1.37-1.37c-.4-.4-.92-.59-1.43-.59-.52 0-1.04.2-1.43.59L10.3 9.45l-7.72 7.72c-.78.78-.78 2.05 0 2.83L4 21.41c.39.39.9.59 1.41.59.51 0 1.02-.2 1.41-.59l7.78-7.78 2.81-2.81c.8-.78.8-2.07 0-2.86zM5.41 20L4 18.59l7.72-7.72 1.47 1.35L5.41 20z\"/>\n",
              "  </svg>\n",
              "      </button>\n",
              "\n",
              "\n",
              "\n",
              "    <div id=\"df-963ddce2-2c70-4538-a242-c78e49c60cb5\">\n",
              "      <button class=\"colab-df-quickchart\" onclick=\"quickchart('df-963ddce2-2c70-4538-a242-c78e49c60cb5')\"\n",
              "              title=\"Suggest charts.\"\n",
              "              style=\"display:none;\">\n",
              "\n",
              "<svg xmlns=\"http://www.w3.org/2000/svg\" height=\"24px\"viewBox=\"0 0 24 24\"\n",
              "     width=\"24px\">\n",
              "    <g>\n",
              "        <path d=\"M19 3H5c-1.1 0-2 .9-2 2v14c0 1.1.9 2 2 2h14c1.1 0 2-.9 2-2V5c0-1.1-.9-2-2-2zM9 17H7v-7h2v7zm4 0h-2V7h2v10zm4 0h-2v-4h2v4z\"/>\n",
              "    </g>\n",
              "</svg>\n",
              "      </button>\n",
              "    </div>\n",
              "\n",
              "<style>\n",
              "  .colab-df-quickchart {\n",
              "    background-color: #E8F0FE;\n",
              "    border: none;\n",
              "    border-radius: 50%;\n",
              "    cursor: pointer;\n",
              "    display: none;\n",
              "    fill: #1967D2;\n",
              "    height: 32px;\n",
              "    padding: 0 0 0 0;\n",
              "    width: 32px;\n",
              "  }\n",
              "\n",
              "  .colab-df-quickchart:hover {\n",
              "    background-color: #E2EBFA;\n",
              "    box-shadow: 0px 1px 2px rgba(60, 64, 67, 0.3), 0px 1px 3px 1px rgba(60, 64, 67, 0.15);\n",
              "    fill: #174EA6;\n",
              "  }\n",
              "\n",
              "  [theme=dark] .colab-df-quickchart {\n",
              "    background-color: #3B4455;\n",
              "    fill: #D2E3FC;\n",
              "  }\n",
              "\n",
              "  [theme=dark] .colab-df-quickchart:hover {\n",
              "    background-color: #434B5C;\n",
              "    box-shadow: 0px 1px 3px 1px rgba(0, 0, 0, 0.15);\n",
              "    filter: drop-shadow(0px 1px 2px rgba(0, 0, 0, 0.3));\n",
              "    fill: #FFFFFF;\n",
              "  }\n",
              "</style>\n",
              "\n",
              "    <script>\n",
              "      async function quickchart(key) {\n",
              "        const containerElement = document.querySelector('#' + key);\n",
              "        const charts = await google.colab.kernel.invokeFunction(\n",
              "            'suggestCharts', [key], {});\n",
              "      }\n",
              "    </script>\n",
              "\n",
              "      <script>\n",
              "\n",
              "function displayQuickchartButton(domScope) {\n",
              "  let quickchartButtonEl =\n",
              "    domScope.querySelector('#df-963ddce2-2c70-4538-a242-c78e49c60cb5 button.colab-df-quickchart');\n",
              "  quickchartButtonEl.style.display =\n",
              "    google.colab.kernel.accessAllowed ? 'block' : 'none';\n",
              "}\n",
              "\n",
              "        displayQuickchartButton(document);\n",
              "      </script>\n",
              "      <style>\n",
              "    .colab-df-container {\n",
              "      display:flex;\n",
              "      flex-wrap:wrap;\n",
              "      gap: 12px;\n",
              "    }\n",
              "\n",
              "    .colab-df-convert {\n",
              "      background-color: #E8F0FE;\n",
              "      border: none;\n",
              "      border-radius: 50%;\n",
              "      cursor: pointer;\n",
              "      display: none;\n",
              "      fill: #1967D2;\n",
              "      height: 32px;\n",
              "      padding: 0 0 0 0;\n",
              "      width: 32px;\n",
              "    }\n",
              "\n",
              "    .colab-df-convert:hover {\n",
              "      background-color: #E2EBFA;\n",
              "      box-shadow: 0px 1px 2px rgba(60, 64, 67, 0.3), 0px 1px 3px 1px rgba(60, 64, 67, 0.15);\n",
              "      fill: #174EA6;\n",
              "    }\n",
              "\n",
              "    [theme=dark] .colab-df-convert {\n",
              "      background-color: #3B4455;\n",
              "      fill: #D2E3FC;\n",
              "    }\n",
              "\n",
              "    [theme=dark] .colab-df-convert:hover {\n",
              "      background-color: #434B5C;\n",
              "      box-shadow: 0px 1px 3px 1px rgba(0, 0, 0, 0.15);\n",
              "      filter: drop-shadow(0px 1px 2px rgba(0, 0, 0, 0.3));\n",
              "      fill: #FFFFFF;\n",
              "    }\n",
              "  </style>\n",
              "\n",
              "      <script>\n",
              "        const buttonEl =\n",
              "          document.querySelector('#df-bfe04783-7eaf-4ca6-b1d4-630cd3938460 button.colab-df-convert');\n",
              "        buttonEl.style.display =\n",
              "          google.colab.kernel.accessAllowed ? 'block' : 'none';\n",
              "\n",
              "        async function convertToInteractive(key) {\n",
              "          const element = document.querySelector('#df-bfe04783-7eaf-4ca6-b1d4-630cd3938460');\n",
              "          const dataTable =\n",
              "            await google.colab.kernel.invokeFunction('convertToInteractive',\n",
              "                                                     [key], {});\n",
              "          if (!dataTable) return;\n",
              "\n",
              "          const docLinkHtml = 'Like what you see? Visit the ' +\n",
              "            '<a target=\"_blank\" href=https://colab.research.google.com/notebooks/data_table.ipynb>data table notebook</a>'\n",
              "            + ' to learn more about interactive tables.';\n",
              "          element.innerHTML = '';\n",
              "          dataTable['output_type'] = 'display_data';\n",
              "          await google.colab.output.renderOutput(dataTable, element);\n",
              "          const docLink = document.createElement('div');\n",
              "          docLink.innerHTML = docLinkHtml;\n",
              "          element.appendChild(docLink);\n",
              "        }\n",
              "      </script>\n",
              "    </div>\n",
              "  </div>\n"
            ]
          },
          "metadata": {},
          "execution_count": 7
        }
      ]
    },
    {
      "cell_type": "code",
      "source": [
        "df_temp = text_df.head(5)"
      ],
      "metadata": {
        "id": "8Nx55FkC1GV9"
      },
      "execution_count": null,
      "outputs": []
    },
    {
      "cell_type": "code",
      "source": [
        "df_temp.to_csv('ec_head.csv',index=False)"
      ],
      "metadata": {
        "id": "XJ3pe4ya1uab"
      },
      "execution_count": null,
      "outputs": []
    },
    {
      "cell_type": "code",
      "source": [
        "len(text)"
      ],
      "metadata": {
        "colab": {
          "base_uri": "https://localhost:8080/"
        },
        "id": "A_ffsLFGBzio",
        "outputId": "28e45df8-d21a-4290-c63d-9f308bc51bd9"
      },
      "execution_count": null,
      "outputs": [
        {
          "output_type": "execute_result",
          "data": {
            "text/plain": [
              "156"
            ]
          },
          "metadata": {},
          "execution_count": 8
        }
      ]
    },
    {
      "cell_type": "code",
      "source": [
        "text[0]"
      ],
      "metadata": {
        "colab": {
          "base_uri": "https://localhost:8080/",
          "height": 87
        },
        "id": "LaYA8abdUjfN",
        "outputId": "a6a66523-3b76-4878-cb9a-34cebdeac893"
      },
      "execution_count": null,
      "outputs": [
        {
          "output_type": "execute_result",
          "data": {
            "text/plain": [
              "\"\\n\\nImage source: The Motley Fool.\\n\\nAon\\xa0(AON 1.07%)Q3\\xa02022 Earnings CallOct 28, 2022, 8:30 a.m. ETContents:  Prepared Remarks Questions and Answers Call Participants  Prepared Remarks:  OperatorGood morning and thank you for holding. Welcome to the Aon plc's third quarter 2022 conference call. [Operator instructions] I would also like to remind all parties of this call is being recorded. If anyone has an objection, you may disconnect your line at this time. It is important to note that some of the comments in today's call may constitute certain statements that are forward-looking in nature as defined by the Private Securities Reform Act of 1995. Such statements are subject to certain risks and uncertainties that could cause actual results to differ materially from historical results or those anticipated. Information concerning risk factors that could cause such differences are described in the press release covering our third quarter 2022 results as well as having been posted on our website. Now it is my pleasure to turn the call over to Greg Case, CEO of Aon plc.\\n\\nGreg Case -- Chief Executive Officer\\n\\n\\n\\n Good morning, everyone. Welcome to our third quarter conference call. I'm joined by Christa Davies, our CFO, and Eric Andersen, our president. As in previous quarters, we posted a detailed financial presentation on our website. We begin by thanking our Aon colleagues for delivering another strong quarter of top and bottom line growth. Our recently concluded all colleague engagement survey reinforces the resilience and commitment of our team as we continue to receive and benefit from exceptional colleague feedback with overall engagement, ways of working and brand strength all at 80% or greater. More than ever, colleagues understand the power of our Aon United strategy and have embraced the smart working approach we develop to preserve flexibility in how and where we work, while enabling them to be better connected and more capable of helping clients make better decisions to support their businesses. The importance of the support and the exceptional nature of our response is illustrated by our recently released executive risk survey and the tremendous leadership of our team on Hurricane Ian.Taken together, these two data points reinforce the relevance and return on our Aon United strategy. First, our 2022 executive risk survey, which surveyed 800 C-suite executives from global companies, underscores the volatility facing living organizations and offers a window into their mindset and needs. A majority survey, 79%, the increased volatility on the horizon, but only a third, just 35% feel fully prepared to manage the impact of that volatility. Most important, those that feel very prepared share three fundamental leadership attributes that reinforce the relevance of our capabilities. First, they see embracing risk as a source of potential competitive advantage. 62% of very prepared leaders agree that their company's appetite for risk has increased in response to the current economic conditions. Second, we're willing to invest in new approaches to address emerging risks. These leaders focus on long-tail risks and call out concerns around disruptive categories like cyber and supply chain.\\n\\n\\n\\n And third, they value expert insight and are looking for partners to help them make better business decisions. Prepared leaders are nearly twice as likely to look to counsel from an external advisor that can provide a more holistic enterprise perspective on decisions to protect and grow their businesses. And all these survey findings reinforce the relevance of our strategy, Hurricane Ian highlighted an excellent example of that value in action. To begin, we want to extend our deepest sympathies to those impacted by this event. In these times of challenge, as communities endure the tragic loss of life and tremendous damage, we believe that our actions as a firm to help businesses and communities respond and recover. As always, our team took a holistic Aon United view toward serving our clients before, during, and after the event. Pre-event, we used our resource development models to ensure that our 1,800 commercial risk claims colleagues around the world were prepared to respond to a surge in client need. This was a collaborative global effort possible only because of our mindset and single P&L approach. In addition, we are able to use impact forecasting models from our reinsurance team to game out potential hurricane pads and share those insights with our commercial risk colleagues so they could alert clients to potential exposures, allowing for early activation of business continuity plans. During the event, we provided real-time insight on actual harm by leveraging satellite and drone imagery provided through technology partnerships enabled by our Aon Business Services team. This is another example of how our emphasis on technology-driven innovation is reshaping client service at scale. Post event, we obviously focused on accelerating claims resolution while we're also stepping back with clients and taking an enterprise view of what the hurricane means for the benefit plan, leveraging our health solutions team and beginning new conversations around how they think about return to work, exploring how our human capital solutions colleagues can apply learnings from our own smart working strategy to their workforce management. This is Aon United in action and only possible because of the decade-plus investment we've made to break down barriers across our business and build Aon Business Services into an engine that provides us the insights and scale necessary to meet client needs. Turning to performance. In the third quarter, our colleagues delivered excellent results demonstrating continued momentum and year-to-date progress against our key financial metrics. For Q3, organic revenue growth was 5% on top of 12% in the prior year quarter, adjusted operating margin was up 100 basis points and adjusted EPS was up 16%.\\n\\n\\n\\n These results are consistent with our full year ongoing financial guidance, and we would note that Q3 is our seasonally smallest quarter for revenue. Year-to-date, we delivered 7% organic revenue growth, adjusted operating margin expansion of 80 basis points, adjusted EPS growth of 14% and generated over $2 billion of free cash flow. Turning to Solution Lines. Finical risk delivered 5% organic revenue growth this quarter on top of 13% in the prior year quarter, contributed 7% organic revenue growth year-to-date, driven by ongoing strong retention, new business generation and renewals, highlighting the resilience of our core business as we continue to help clients protect and grow their businesses. As we previously mentioned, the significant increase in M&A volume impacted our Transaction Solutions business, especially compared to last year's result, which was particularly strong in Q3 and Q4. Reinsurance delivered 7% organic revenue growth in the quarter was 7% year to date. As our team continues to help clients in the current market, while bringing new solutions and capabilities. For instance, our newly established strategy and technology group provides our clients with strategic advice, data-driven consulting, analytics, and modeling tools and has further strengthened the capability we gained through our acquisition of Tyche. This is all this time in driving growth, efficiency and resilience have never been more important. Health Solutions delivered 5% organic revenue growth in Q3 on top of 16% in the prior year quarter contributed to 8% year-to-date growth with particularly strong growth in human capital solutions. Across Health, we see clients assessing their people strategies to optimize for workforce skill and organizational structure while making sure those employees feel valued and engaged. Finally, Wealth Solutions delivered 2% organic growth on top of 4% in Q3 last year and 2% year to date as our team continues to help clients address market volatility, talk about regulatory challenges, and execute ongoing pension risk transfers. In two exciting milestones, our team has advised over $200 billion of pension risk transfer transactions in the U.S. and U.K. as pension plans continue to derisk and take advantage of market conditions. And we reached the $1 billion mark in planned assets and commitments for our approval employer plan, which helps cover and helps lower cost and enhance retirement security for employees at smaller organizations. Overall, our strong performance in Q3 and year to date reflects the strength of Aon United strategy and Aon Business Services platform delivered for clients across regions and solution lines. For the full year, we remain confident in our commitment to mid-single digit or greater organic revenue growth, margin improvement and double-digit free cash flow growth. As our clients assess the impact of increased economic volatility on their businesses, many are looking to improve their own working capital and liquidity, often by accessing new sources of capital. In one recent example, an Aon United example, our client based in Asia was awarded a multibillion-dollar construction contract in Latin America for a manufacturing facility that incorporates innovative carbon reduction technologies. The client had a regulatory and contractual requirement that they provide a financial performance guarantees, essentially drawing on their own credit facility. To address, our local commercial risk team, who has a deep understanding of our clients' strategy and financial position, collaborated closely with our local credit experts in LatAm to design a bespoke surety bond solution for our clients. Rather than using a bank guarantee facility, our client was able to access capital at a lower cost and more attractive terms while maintaining their own balance sheet strength and flexibility. Just as we've done with intellectual property lending, and pension risk transfer solutions, this is another example of how we help clients access new capital to reduce risk and drive their own growth adjusts. In summary, we delivered a strong quarter of top and bottom line results contributing to our year-to-date progress against key metrics. We continue to be strongly positioned to deliver on our full year financial commitments of mid-single digit or greater organic revenue growth, margin expansion and double-digit free cash flow growth. We see increasing opportunity to help our clients and the steps we've taken to operationalize Aon United and our Aon Business Services platform gives us confidence in our ability to address our clients' existing and emerging needs that they continue to protect and grow their businesses. Now I'd like to turn the call over to Christa for her thoughts on our performance in the quarter and year to date as well as our long-term outlook for continued shareholder value creation. Christa?\\n\\n Christa Davies -- Chief Financial Officer and Executive Vice President of Global Finance Thanks so much, Greg, and good morning, everyone. As Greg highlighted, we delivered continued progress on our key financial metrics for both the quarter and year to date. Through the first nine months of the year, we translated 7% organic revenue growth into 80 basis points of adjusted margin expansion and 14% growth in adjusted earnings per share and generated over $2 billion in free cash flow. We look forward to building on this momentum as we head into the last quarter of 2022. As I reflect on our performance year to date, as Greg noted, organic revenue growth was 5% in the third quarter and 7% year to date. We continue to expect mid-single-digit or greater organic revenue growth for the full year 2022 and over the long term. I would also note that flat reported revenue growth in Q3 and 3% year to date includes an unfavorable impact from changes in FX of 5% for Q3 and 4% year to date primarily driven by a stronger U.S. dollar versus most currencies. And I'd highlight fiduciary investment income, which is not included in our organic revenue growth calculation was $26 million in Q3 and $35 million year to date. Moving to operating performance. We delivered strong operational improvement through the first nine months of the year with adjusted operating margins of 30%, an increase of 80 basis points driven by organic revenue growth and efficiencies from Aon Business Services. Overcoming expense growth, including investment in colleagues and technology to drive long-term growth and some ongoing resumption of T&E. Looking forward, we expect to deliver margin expansion in 2022 and over the long term as we continue our track record of cost discipline and managing investments in long-term growth on an ROIC basis. As we've previously communicated, we think about margins over the course of a full year, and we expect continued investment in colleagues and ongoing reduction of T&E as well as ongoing investments in long-term growth like technology throughout the year. Aon Business Services is a key contributor to margin expansion and represents a competitive advantage, especially in a highly inflationary market. Our Aon Business Services platform continues to drive efficiency gains, improved quality and service and increased innovation at scale. Let me share one fantastic example of how Aon Business Services platform supports ongoing improvement as we automate day-to-day processes around the firm. Reinsurance has operated on a single global broking platform and client service model since 2017. Over the past five years, the team has digitized processes, automated workflows and moved work to low-cost locations. 64% of transactions are now processed digitally, increasing speed and accuracy which has helped reduce the average number of days it takes to get claims from carriers paid to our clients by 22% from 38 to 30 days. Increasing capacity enabled 27% more throughput while costs were up just 9% over five years, a particularly impressive outcome when considering recent cost and wage inflation trends. And the platform enables the team to provide enhanced services while dealing with more complex transactions and Aon United outcome that allows our colleagues to better support each other and our clients. We continue to find and capture efficiency opportunities like this around the firm and expect Aon Business Services will continue to be a driver of ongoing efficiency improvements, quality and service improvements and increased innovation for clients. We translated strong operating income growth into double-digit adjusted EPS growth of 16% in Q3 and 14% year to date. As noted in our earnings material, FX translation was an unfavorable impact of approximately $0.05 per share in Q3 and $0.34 per share year to date. If currency to remain stable at today's rates, we would expect an unfavorable impact of approximately $0.11 per share or approximately $33 million decrease in operating income in the fourth quarter of 2022. Turning to free cash flow and capital allocation. Free cash flow increased 79% year to date to $2.051 billion, reflecting an increase in cash flow from operations due primarily to the $1 billion termination fee payment in the prior year period. As we've communicated before, free cash flow can be lumpy quarter-to-quarter. And I'd note, Q4 is our seasonally strongest for free cash flow generation. We continue to expect to deliver double-digit free cash flow growth for the full year and over the long term, driven by operating income growth and working capital improvements. Given our strong outlook for free cash flow growth in 2022 and beyond, we expect share repurchase to continue to remain our highest return on capital opportunity for capital allocation. We believe we are significantly undervalued in the market today, highlighted by the approximately 1.2 billion of share repurchase in the quarter and 2.5 billion year to date. We also expect to continue to invest organically and inorganically in content and capabilities to address unmet client needs. We've invested in expertise and content in our retirement business, where we're helping clients navigate regulatory changes such as GMP in the U.K. and utilizing higher interest rates to drive record levels of pension risk transfers. Our M&A pipeline continues to be focused on our priority areas that will bring scalable solutions to our clients' growing and evolving challenges. We'll continue to actively manage the portfolio and assess all capital allocation decisions on a return on capital balance basis. Now turning to our balance sheet and debt capacity. We remain confident in the strength of our balance sheet and manage liquidity risk through a well-laddered debt maturity profile. We issued $500 million of 10-year senior notes in Q3 and as we've said before, we'll continue to add debt as EBITDA grows while maintaining our current investment-grade credit ratings. With respect to interest rates, I'd note that our term debt is all fixed rate. with a weighted average interest rate of approximately 3.8% and a weighted average maturity to be approximately 12 years. I'd also note that our pension liability improves as interest rates increase. And historically, we've taken steps to derisk this liability and reduce volatility. In summary, our strong financial results in the quarter and year to date demonstrate continued momentum and progress against our key financial metrics. While we're seeing signs of economic uncertainty, we remain confident in the strength of our firm and our financial guidance for 2022. Overall, our business is resilient, and our Aon United strategy gives us confidence in our ability to deliver results in any economic scenario. With that, I'll turn the call back over to the operator, and we'd be delighted to take your questions. Questions & Answers: Operator[Operator instructions] Our first question comes from the line of Jimmy Bhullar with J.P. Morgan.\\n\\nJimmy Bhullar --\\n\\n JPMorgan Chase and Company -- Analyst So first, I just had a question on the commercial risk business. Your organic growth slowed sequentially. Obviously, comps were more difficult as well. But you mentioned that Asia, Latin America and U.K. grew at a pretty strong pace and there is a slowdown in U.S. retail business because of lower transaction volumes. Can you sort of elaborate on that and what you're seeing in the U.S. business?\\n\\nGreg Case -- Chief Executive Officer Yes, Jimmy, thanks for the question. Listen, as we've highlighted again on commercial specifically, but it really plays off of the firm overall, 7% organic year to date, 11% year to date last year and then 13% in the quarter as you highlight and really just strong across the board, across all geographies and real strength in core P&C and affinity and we really would to highlight that. The only thing we highlighted that was a little different was obviously, the M&A transaction levels last year were extraordinary, and our capability there is just exceptional. And Eric, maybe you can talk a little bit about that. And that'\\n\\ns really what -- it's not going to repeat this year, but overall, very, very strong momentum as we finish the year this year and move into next year. But Eric, any thoughts on that?\\n\\nEric Andersen -- President Sure, Greg. And a great question. I would say from an overall perspective, commercial risk in the U.S. is very solid. New business numbers, very solid retention and rollover numbers, Greg, as you mentioned in your prepared remarks. And I would just say, look, on transaction services, we are serving the private equity industry and the corporate industry as they make acquisitions and divestitures. And so during a period like this where it's a little bit slower, we are spending time with the markets, with the reinsurance markets, with the clients, building out our strategy for when it ultimately comes back and feel like the team that we have today is fantastic, but they're also working very hard with their clients, making sure we've got the next generation of product ready when the economic environment changes.\\n\\nJimmy Bhullar --\\n\\n JPMorgan Chase and Company -- Analyst OK. And I think you mentioned modestly positive benefit from pricing the last few quarters and this quarter as well. And if we think about the reinsurance business, there's obviously a lot of dislocation there. Can you talk about how do you expect that to affect your results? And should there be a greater tailwind from pricing at least on the reinsurance side?\\n\\nGreg Case -- Chief Executive Officer Maybe I'll start the overall and Eric just to pick up on the reinsurance front in particular. Overall, Jimmy, as you highlighted, we look at market impact. That's how we think about it. Obviously, it includes insured values and price. We highlight modest impact sort of in the quarter and expect for the year. Over time, you can expect ensure value will begin to creep up. That will actually have a sustained lasting impact over time. And we'll see how the pricing piece changes out, but overall market impact kind of modest as we think about the impact of the year. The reinsurance dynamic is important and is involving, Eric, do you want to pick up on that?\\n\\nEric Andersen -- President Sure, Greg. And maybe just one comment on the just general pricing environment on the primary side. I think you laid it out right. But also, I think we've talked about this before, we spent a lot of time with our clients using data and analytics to kind of understand the choices they need to make, so while inflation and while pricing may be moving against them from this perspective, they don't sit still. They're looking at whether it's captive utilization, whether it's retentions, deductibles, limits, all those tools, and we try and help them think through what's best for them as they're navigating their sort of economic changes that they're facing in their business. So while the market is, as you said, Greg, there is effect of inflation and pricing, we're certainly working with them as the clients as they make those decisions. Certainly, on the reinsurance, I think it's worth just stepping back there is a lot going on right now on the reinsurance side. And our primary mission continues to be to help our insurance company clients match risk with capital. And remember, this is a global business like few in terms of where the capital is sourced from and how it's deployed and it shows it very differently in different parts of the world. And I think as we move away from Hurricane Ian, we start to get a little more clarity around what the ultimate losses look like and who's holding those losses. But if you step back and you think about it geographically, the European clients, I think, are expecting to have the supply of property cat that they need, albeit with a pricing and structure negotiation that takes into account the effects of inflation that's happening in Europe but also the losses that have happened in that region over the last three years, whether it's German floods, French Hail, etc., they've got certain dynamics that have affected the European marketplace. And I think for North America, the property cat market is going to be more challenging. Managing the effects of inflation, supply challenges,\\n\\n some remaining uncertainty around Aon -- will create difficulties. But ultimately, we're focused on creating capital for them, capital options. So they can get the protection that they need going forward. I would also say, it also has an effect on facultative reinsurance and other tools that we have because as those insurers are forced to take higher retention, they certainly are going to continue to look to derisk. They just do it with different tools, right? They actually then will look at specific clients that they've got on their primary portfolio that they want help on, they'll use facultative instead of treaty. So while the market does shift, there are levers out there that we bring to bear for our clients that can actually help them derisk and get the protection that they need.\\n\\nGreg Case -- Chief Executive Officer And last thing I just want to highlight on this for you to leave this point. This is tremendous for us. I mean this is where we live. There is more activity going on with the set of capabilities that are unique in the world today. What our colleagues who built on the reinsurance side is extraordinary. And we've just added to it with data and analytics and all that we've done with our strategy and technology effort now added with Tyche that I mentioned before. So Eric described the market perfectly, but boy, this is our wheel house. We love it. It creates tremendous opportunity to support clients and we're bringing all the solutions to bear and in any respect, helping our clients and a challenging time for us, it's a great opportunity for the next 12 to 24 months.OperatorOur next question comes from the line of Elyse Greenspan with Wells Fargo.\\n\\nElyse Greenspan --\\n\\n Wells Fargo Securities -- Analyst My first question is on the margin side. So in the quarter, you guys saw 100 basis points of margin improvement. If I assume that all the fiduciary investment income fell to the bottom line, that could give you a tailwind of 90 basis points. So I'm just trying to get a sense of that 100, can you give us a sense of the split between how much of the margin improvement came from the pickup in fiduciary investment income versus core margin improvement and operating leverage?\\n\\nChrista Davies -- Chief Financial Officer and Executive Vice President of Global Finance Sure. Thanks for the question, Elyse. And look, what we would say is we think about this in terms of year to date. And year to date, we had a $35 million benefit from investment income. So it was about a 20 basis point impact on full year margins. And so it's not nearly as big as the numbers you highlighted, Elyse. And so for us, as we think about growing margin expansion for the full year, which we are completely committed to doing, it's really about continuing to drive organic revenue growth, the portfolio mix in higher revenue growth, higher-margin areas and the productivity benefits we're getting from Aon Business Services. And so we're fully on track to deliver full year margin expansion.\\n\\nElyse Greenspan --\\n\\n Wells Fargo Securities -- Analyst As we think about rates continuing to rise, right, so that fiduciary investment income should go higher from here? So we're not just thinking Q4 but '23 as well. Do you think most of the benefits will fall to the bottom line? Or how do you balance flooding evolve versus looking to take some extra dollars to invest internally?\\n\\nChrista Davies -- Chief Financial Officer and Executive Vice President of Global Finance Yes. So first of all, Elyse, what I would say is we manage $6 billion of fiduciary investment income and every 100 basis points of increase is $60 million top line and bottom line. But Elyse we're doing a lot of work for clients to actually manage that. We're actually doing all the insurance accounting and transaction processing in the middle on paying premiums on the way in and then paying claims on the way out. Just one correction, Elyse, the impact of fiduciary investment income in the quarter is 70 basis points, not 90.\\n\\nElyse Greenspan --\\n\\n Wells Fargo Securities -- Analyst OK. And then my last question was going back to the comment on transactions within commercial risk any but highlighted over transaction volume. Was the third quarter of last year heavier for that business? Or will we also potentially see that impact the growth there in the fourth quarter as well?\\n\\nGreg Case -- Chief Executive Officer Yes. Elyse, if we take a step back, again, I just emphasize literally look at the quarter overall for us sort of year to date, team has just done a tremendous job year to date, 7% overall, over 9% last year, really strength across the board. The M&A activity that we described and talked about was really Q3 and Q4 both levels of activity exceptionally strong. But it didn'\\n\\nt -- hasn't any in any way, shape or form, as Christa described, exactly where we are now as we think about mid-single digit or greater for the year, margin expansion and double-digit free cash flow growth. And I just would highlight Eric's points around the strength of our team. It's really extraordinary and what they've been able to do and how that's evolved over time. So they're exceptionally well positioned as market as the market comes back.OperatorOur next question comes from the line of Mike Zaremski with BMO Capital Markets.\\n\\nMike Zaremski --\\n\\n BMO Capital Markets -- Analyst Good morning. Happy Friday. Maybe thinking about free cash flow. Last year, as you guys helped us out with, there's clearly a good amount of noise. This year, are there any items that you feel you want to call out maybe on the working capital improvement side? You mentioned, Christa, the 4Q is usually a pretty strong quarter. So from looking at free cash flow this year as a percentage of revenues, for example, it's a very healthy level. I just want to make sure I'm not missing something.\\n\\nChrista Davies -- Chief Financial Officer and Executive Vice President of Global Finance Mike, I don't think you're missing anything. So free cash flow, $2.051 billion year to date, up 79%. Nothing particularly unusual. We did mention in Q1 and Q2 that we had lower levels of free cash flow because of higher incentive comp based on extraordinary performance in 2021. That's the only thing I would note. And then I would say, in general, we're going to continue to drive free cash flow growth double digits based on continued acceleration in revenue growth, margin expansion and then working capital improvements. You did see, if you look at the external receivables divided by revenue on the balance sheet, that DSO improved by two days from Q3 '21 to Q3 '22. It went from 91 days down to 89 days. And so we're very pleased with our continued progress in working capital.\\n\\nMike Zaremski --\\n\\n BMO Capital Markets -- Analyst And have you stated as the goal to get down well below 89 over time?\\n\\n Or is that the main lever for the -- for working capital over the next few years?\\n\\nChrista Davies -- Chief Financial Officer and Executive Vice President of Global Finance Yes. So what we have said, Mike, is that we have essentially $500 million of excess receivables sitting on our balance sheet and that over time, we will continue to improve DSO to get that $500 million to 0. And so that is a big upside in free cash flow growth over the coming years.\\n\\nMike Zaremski --\\n\\n BMO Capital Markets -- Analyst OK. Great. That's helpful. And maybe switching gears. Curious if a cyber insurance, you guys are one of the leaders in the marketplace that clearly rates are up a lot, but clients are still buying just as much or more. And maybe you could comment on the cyber market, but I'd also be curious to hear about whether the intellectual property market, which I think you guys are one of the pioneers of is gaining any traction?\\n\\nEric Andersen -- President Sure. This is Eric. And maybe I'll take a shot at it. So on the cyber market, we continue to see great growth in the business. And I would say what has changed, if anything, over the last several months is really the renewed focus on quality underwriting. And so if you remember at the very beginning of that product, it was all about risk management, risk identification, risk management, and then risk transfer. I think what happened to the market is they went immediately to risk transfer without enough focus on the quality of the risk mitigation and the risk management. As the market has reacted due to losses, they essentially went back to basics. And I think ultimately, the market will be healthier for it. So we continue to see great growth. We invest globally in our capability there and really like our position and the work that we're doing for clients. I would say an intellectual property, very similar. I couldn't be more excited about where we are with that, continue to see great deal flow, getting markets to join the product. We actually did our first IP reinsurance treaty this quarter, certainly not big dollars, but a real symbol on how we're bringing a broader market to bear on supporting that product has developed. So really excited about both of them and think we've got a great lead in the market with our capability, and we're going to continue to invest and push to develop those markets in a broader way.\\n\\nGreg Case -- Chief Executive Officer I do call out the IP progression has been, as Eric said, extraordinary to go back four years ago, we bringing 25, 30 colleagues in to sort of think about this. We're 200 strong now in this category. Now what it ever actually valued an IP stack essentially our patent stack, essentially it could actually be insured against a lot of loan borrower against it. Now we've done 15-plus deals. I think we talked about last quarter, we crossed $1 billion in lending on this front. And as Eric said, now we have multiple markets involved and even reinsurance at all. So this is a progression. It's still very, very early days. But man, the team has done a tremendous job sort of building out this opportunity.OperatorOur next question comes from the line of David Motemaden with Evercore ISI.\\n\\nDavid Motemaden --\\n\\n Evercore ISI -- Analyst I just had a question on the Wealth business. Just on the AUM. The AUM based delegated investment management, that was cited as a headwind, could you give us an idea how much the AUM base was down and how we should think about that going forward as markets remain under pressure?\\n\\nChrista Davies -- Chief Financial Officer and Executive Vice President of Global Finance It was down, David. We didn't give the impact of it. But you're absolutely right, the way in which we earn fees in that delegated business is a percentage on AUM. And so it really depends on how the markets go as to how we see that progressing going forward. But I would say offsetting that decline on the investment management side was fantastic growth on the retirement side, as Greg and I talked about in our prepared remarks. We've got enormous growth dealing with regulatory change, particularly GMP in the U.K., fantastic work going on there by the team. And then as global assets rise, it's one of the best environments to do pension risk transfers that have happened in the last 15 years, and we are the global leader in this. We're very, very excited about our position in that space. And then as we mentioned on the call, our PEPS product in the U.S. is doing exceptionally well. And so where there are so many areas on the Retirement side where we have great opportunities for growth. But Eric, I mean, what else would you add here?\\n\\nEric Andersen -- President No, because I think you covered all of it. We're just really excited about watching the retirement business, in particular, really add great value to our clients. The U.K. certainly has some great activity going on there, in the U.S. as well. But that pet product, which is the pooled employer plan really is a great expense solution for our smaller clients as they look to manage the retirement assets. So you covered it well and really a solid quarter for them.\\n\\nDavid Motemaden --\\n\\n Evercore ISI -- Analyst Got it. That's helpful. And then maybe just going back to commercial risk. I guess I was just wondering if you could talk about I guess, maybe just say what the growth was if we were to just exclude that U.S. retail, that retail comp that was a bit tougher and how that compared versus last quarter? Did we see any slowdown there sequentially? Or was it really just all driven by the U.S. retail tougher comp?\\n\\nGreg Case -- Chief Executive Officer Yes, David. As we described, listen, we would step back really tremendous progress across the board. And if you think about sort of what's happening on the commercial risk front, we highlighted that really is an opportunity where we see over time, it's going to be tremendous on the transaction solutions side. But overall, really strong across the board and just continues to build momentum as we described before.OperatorOur next question comes from the line of Meyer Shields with KBW.\\n\\nMeyer Shields -- Keefe,\\n\\n Bruyette and Woods -- Analyst Two quick questions, if I can. First, Eric, I was hoping you could talk a little bit more about capacity shortfalls in the U.S. in the context of the impact of rising interest rates on capital? And how much more work does that actually entails for the reinsurance unit?\\n\\nEric Andersen --\\n\\n President So if you think about -- I'm assuming you're talking about property cat at this point. The casualty basis on the reinsurance, which people don't tend to talk about, but is a substantial part of the industry. They're continuing to battle their own inflation understanding as they price long-tail products. I do think that market, while it's challenged, it is more around price and structure, not about supply. So listen, I think as property cat in the U.S. continues to be challenged for a couple of reasons. One, you've got significant losses, both on the traditional things like hurricane, but also as you think about wildfire, storms, the secondary perils, have been a substantial hit to reinsurers over the last five years. So there is certainly a crisis of confidence in underwriting and how they deploy their capital for our clients. And so models have to be better. We really have to focus hard on making sure risk identification. They understand exactly what they're offering and what the sort of return scenarios are for them over time. The effects of interest rates really affect the ILS market, which has two headwinds right now. One is there's some trapped capital with Ian, as people are trying to figure out exactly where the losses are, what the damage is, and there's also the relative investment question. As interest rates go up, their ability to find other assets that don't risk their capital is something that essentially just creates a repricing, I think, of the ILS market, which is happening. And so for us, I think it doesn't necessarily create work. It creates understanding of the market dynamics and the returns. But we're in the middle of that right now as we lead up to the big 1/1 renewal season. And then again in April and July.\\n\\nGreg Case -- Chief Executive Officer Meyer, I know you've got another question, I don't come to that, but this really does, as Eric described, reimports the opportunity. When you can take a part of the market the way Eric just described and have the analytics to really do something about it, drive solutions on behalf of clients. This is what puts us in such a unique position against the rest of the world on this topic. So again, a lot going on out there, and we love it every day because it puts us in a very, very unique position.\\n\\nMeyer Shields -- Keefe,\\n\\n Bruyette and Woods -- Analyst No. That's very helpful. I understand that. And then I guess a question for Christa, maybe. So you talked about how there's more pension risk transfer going on. You also mentioned how higher interest rates benefit Aon's pension funding. And I'm wondering, I understand that there's more willingness to take pension liabilities from people in the higher interest rate environment, but wouldn't there be less demand for transfer if interest rates are higher?\\n\\nChrista Davies -- Chief Financial Officer and Executive Vice President of Global Finance So there's always been capacity. The real challenge, Meyer is the economics have made it make sense to actually be able to buy out because we haven't been able to execute the transfers without being able to add the cash given to get to fully funded. And so the increase in interest rates is getting planned to fully funded, which means that they can actually do this transfer. So the capacity has always been there. It's more that the pension plans haven't been funded enough to be able to make this work. And I would say we're seeing more demand from this for buy-ins and buyouts from clients than we have in the last 10-plus years, and we have done substantial numbers of pension risk transfer in the U.S. and the U.K. and are very, very well positioned to do it. So it's a very exciting growth area for us.OperatorLadies and gentlemen, our final question this morning comes from the line of Josh Shanker with Bank of America.\\n\\nJosh Shanker --\\n\\n Bank of America Merrill Lynch -- Analyst Yes. Thank you for getting at the end here. You spoke in the prepared remarks about higher expenses from T&E resumption, both as a consultant and a protector of the risk of your clients as well as internally. Can you talk about the shape that's happening where we are relative to where we were two and a half years ago? And if we go into a recession, whether we're topping out here on T&E and whatnot?\\n\\nChrista Davies -- Chief Financial Officer and Executive Vice President of Global Finance Yes. Thanks for the question, Josh. So I would say T&E is obviously up from 2020 and 2021 levels. It's not that 2019 levels. Really because we're actually very thoughtful about how we do the work. And we've implemented smart working, which I know Greg talked about in relation to our engagement survey, it's one of the things that's driving employee engagement for the highest levels in our history. Because we're very thoughtful about where is the best place. And there are a number of areas and Eric, you might want to talk about them where we're doing work in different ways, and it has a higher impact on clients, Eric?\\n\\nEric Andersen -- President Yes, Christa, I think that's great. And I think it drives productivity of our colleagues. It drives engagement, as you said, really being able to use the technology that we've been investing in through our Aon Business Services model over a number of years. And just there'\\n\\ns one -- something that happened a week or two ago that just came to mind as you were talking, Christa. We do these insight series across the world with our clients. And normally, historically, would have flown everybody in from around the world, and this one happened to be in Australia. So it would have been a week off time for the team of basically off the grid as they went to present an hour slot for whatever topic they were asking for. And so on this one, in particular, we had our climate team, which is based in London, that's been working on building a climate strategy for us essentially. WebEx into the Insight Series meeting. Did the question and answer actually gave a great presentation. And then when they were finished, they were home, and they were back on to the next topic and continuing to work. So we were able to bring that capability without the big expense of travel and entertainment. We were able to deliver the capability and we gain the hours that we would have lost to the flights and the jet lag and everything else that we all know about in a way that drives more productivity. So that's just one example. There's many of them that follow the similar path. We just did a big renewal meeting, for example, for a big U.S. client where we use the immersion room in our New York office and brought in the European insurers and reinsurers and the London European insurers and reinsurers and essentially did what would have been a three-week trip turned it into a five-hour session in one location. And so again, saves time, saves money, but more importantly, the clients are finding value in it. They actually feel like they're getting that connection with the markets that they want and our colleagues, it actually allows us to sell off our global colleagues in a way that you don't really get to do when you're traveling place to place and so focused on schedule. So we're really excited about it, and Christa said, it's driving engagement and more importantly, productivity. And I think the clients are really enjoying the time they get back as well.\\n\\nJosh Shanker --\\n\\n Bank of America Merrill Lynch -- Analyst This has obviously been Aon's experience, is this similar to what your understanding is going on with your clients? Or is your clients' costs rising faster than your crack team of I guess, spend managers can manage for the company itself?\\n\\nEric Andersen -- President So I would say our human capital business spends a lot of time working with our clients on how to do smart working. And so I think as the pandemic is further and further in the rearview mirror, people are finding their new normal. And our teams are doing, I think, a great job helping them structure and engage with our clients in a way that they're able to do the same thing because our clients are also looking to get productivity. They're also looking to manage T&E. And they want to leverage the technology that we all use so much during the pandemic in ways that actually create the outcomes that they're looking for.\\n\\nGreg Case -- Chief Executive Officer And really, Josh, as you think about it, the whole phenomena you're highlighting is really to be incredibly substantial and significant for us, but even more so for our clients. And Eric described it well, but you just combine the whole wellness issues and challenges it really connects with our health business ways that it hasn't before. It's a very integrated response cutting across multiple solution lines. It's the best example. Another example of Aon United in action as we help clients try to understand how they can really address the work environment, smart working, as we describe it, but even more broadly, how it impacts their own engagement and how they drive talent acquisition, talent retention, talent and enrichment and it's a real opportunity for us.\\n\\n And it really -- the meat of it is it connects across multiple solution lines, which is perfect Aon United from our standpoint.OperatorLadies and gentlemen, that concludes our question-and-answer session. I'll turn the floor back to Mr. Case for any final comments.\\n\\nGreg Case -- Chief Executive Officer I just want to say thanks to everybody for joining us. We appreciate it and look forward to talking next quarter. Thanks very much.Operator[Operator signoff] Duration: 0 minutesCall participants:\\n\\nGreg Case --\\n\\n Chief Executive OfficerChrista Davies --\\n\\n Chief Financial Officer and Executive Vice President of Global FinanceJimmy Bhullar --\\n\\n JPMorgan Chase and Company --\\n\\n AnalystEric Andersen --\\n\\n PresidentElyse Greenspan --\\n\\n Wells Fargo Securities --\\n\\n AnalystMike Zaremski --\\n\\n BMO Capital Markets --\\n\\n AnalystDavid Motemaden --\\n\\n Evercore ISI --\\n\\n AnalystMeyer Shields -- Keefe,\\n\\n Bruyette and Woods --\\n\\n AnalystJosh Shanker --\""
            ],
            "application/vnd.google.colaboratory.intrinsic+json": {
              "type": "string"
            }
          },
          "metadata": {},
          "execution_count": 9
        }
      ]
    },
    {
      "cell_type": "code",
      "source": [
        "paragraphs = []\n",
        "\n",
        "for i in text:\n",
        "  paras = i.split('\\n\\n')\n",
        "  temp = []\n",
        "  temp_para = ''\n",
        "  for j in range(len(paras)):\n",
        "    text_split = paras[j].split(' ')\n",
        "    if len(text_split) < 100:\n",
        "      temp_para += paras[j]\n",
        "      temp_para += ' '\n",
        "    else:\n",
        "      text = temp_para + paras[j]\n",
        "      temp_para = ''\n",
        "      paragraphs.append(text)\n",
        "\n",
        "\n",
        "\n",
        "\n"
      ],
      "metadata": {
        "id": "FRXNJww9Usi7"
      },
      "execution_count": null,
      "outputs": []
    },
    {
      "cell_type": "code",
      "source": [
        "#Taking just a part of the data\n",
        "test_paras = paragraphs"
      ],
      "metadata": {
        "id": "jyd-tLJWaBUP"
      },
      "execution_count": null,
      "outputs": []
    },
    {
      "cell_type": "code",
      "source": [
        "final = []\n"
      ],
      "metadata": {
        "id": "r0dUa3tAUra0"
      },
      "execution_count": null,
      "outputs": []
    },
    {
      "cell_type": "code",
      "source": [
        "for i in range(len(test_paras)):\n",
        "  split = test_paras[i].split(' ')\n",
        "  temp = ''\n",
        "  if len(split) > 512:\n",
        "    test_paras[i] = test_paras[i][:512]\n",
        "\n",
        "  final.append(test_paras[i])\n",
        "\n"
      ],
      "metadata": {
        "id": "N2lGBbe_T8B0"
      },
      "execution_count": null,
      "outputs": []
    },
    {
      "cell_type": "code",
      "source": [
        "len(final)"
      ],
      "metadata": {
        "colab": {
          "base_uri": "https://localhost:8080/"
        },
        "id": "pbXWtuL9UIkO",
        "outputId": "406f3568-e90a-48d4-ce0b-3d6db8333bed"
      },
      "execution_count": null,
      "outputs": [
        {
          "output_type": "execute_result",
          "data": {
            "text/plain": [
              "3902"
            ]
          },
          "metadata": {},
          "execution_count": 14
        }
      ]
    },
    {
      "cell_type": "code",
      "source": [
        "import pandas as pd\n",
        "\n",
        "df = pd.DataFrame(final,columns=['text'])"
      ],
      "metadata": {
        "id": "1txn1HBvftZN"
      },
      "execution_count": null,
      "outputs": []
    },
    {
      "cell_type": "code",
      "source": [
        "df"
      ],
      "metadata": {
        "colab": {
          "base_uri": "https://localhost:8080/",
          "height": 424
        },
        "id": "58wqdUXwkQhk",
        "outputId": "2f2ff2ac-d865-4b67-a81d-8f2c95e42acd"
      },
      "execution_count": null,
      "outputs": [
        {
          "output_type": "execute_result",
          "data": {
            "text/plain": [
              "                                                   text\n",
              "0      Image source: The Motley Fool. Aon (AON 1.07%...\n",
              "1     Greg Case -- Chief Executive Officer   Good mo...\n",
              "2       And third, they value expert insight and are...\n",
              "3       These results are consistent with our full y...\n",
              "4      Christa Davies -- Chief Financial Officer and...\n",
              "...                                                 ...\n",
              "3897  Richard Baldry --  ROTH Capital Partners -- An...\n",
              "3898  DJ Hynes --  Canaccord Genuity -- Analyst Yeah...\n",
              "3899  DJ Hynes --  Canaccord Genuity -- Analyst Yes....\n",
              "3900  Ryan MacWilliams --  Barclays -- Analyst Appre...\n",
              "3901   And as we evolve Internet -- I'm sorry, as we...\n",
              "\n",
              "[3902 rows x 1 columns]"
            ],
            "text/html": [
              "\n",
              "\n",
              "  <div id=\"df-809800d3-a7c1-4692-a864-215afe3169c7\">\n",
              "    <div class=\"colab-df-container\">\n",
              "      <div>\n",
              "<style scoped>\n",
              "    .dataframe tbody tr th:only-of-type {\n",
              "        vertical-align: middle;\n",
              "    }\n",
              "\n",
              "    .dataframe tbody tr th {\n",
              "        vertical-align: top;\n",
              "    }\n",
              "\n",
              "    .dataframe thead th {\n",
              "        text-align: right;\n",
              "    }\n",
              "</style>\n",
              "<table border=\"1\" class=\"dataframe\">\n",
              "  <thead>\n",
              "    <tr style=\"text-align: right;\">\n",
              "      <th></th>\n",
              "      <th>text</th>\n",
              "    </tr>\n",
              "  </thead>\n",
              "  <tbody>\n",
              "    <tr>\n",
              "      <th>0</th>\n",
              "      <td>Image source: The Motley Fool. Aon (AON 1.07%...</td>\n",
              "    </tr>\n",
              "    <tr>\n",
              "      <th>1</th>\n",
              "      <td>Greg Case -- Chief Executive Officer   Good mo...</td>\n",
              "    </tr>\n",
              "    <tr>\n",
              "      <th>2</th>\n",
              "      <td>And third, they value expert insight and are...</td>\n",
              "    </tr>\n",
              "    <tr>\n",
              "      <th>3</th>\n",
              "      <td>These results are consistent with our full y...</td>\n",
              "    </tr>\n",
              "    <tr>\n",
              "      <th>4</th>\n",
              "      <td>Christa Davies -- Chief Financial Officer and...</td>\n",
              "    </tr>\n",
              "    <tr>\n",
              "      <th>...</th>\n",
              "      <td>...</td>\n",
              "    </tr>\n",
              "    <tr>\n",
              "      <th>3897</th>\n",
              "      <td>Richard Baldry --  ROTH Capital Partners -- An...</td>\n",
              "    </tr>\n",
              "    <tr>\n",
              "      <th>3898</th>\n",
              "      <td>DJ Hynes --  Canaccord Genuity -- Analyst Yeah...</td>\n",
              "    </tr>\n",
              "    <tr>\n",
              "      <th>3899</th>\n",
              "      <td>DJ Hynes --  Canaccord Genuity -- Analyst Yes....</td>\n",
              "    </tr>\n",
              "    <tr>\n",
              "      <th>3900</th>\n",
              "      <td>Ryan MacWilliams --  Barclays -- Analyst Appre...</td>\n",
              "    </tr>\n",
              "    <tr>\n",
              "      <th>3901</th>\n",
              "      <td>And as we evolve Internet -- I'm sorry, as we...</td>\n",
              "    </tr>\n",
              "  </tbody>\n",
              "</table>\n",
              "<p>3902 rows × 1 columns</p>\n",
              "</div>\n",
              "      <button class=\"colab-df-convert\" onclick=\"convertToInteractive('df-809800d3-a7c1-4692-a864-215afe3169c7')\"\n",
              "              title=\"Convert this dataframe to an interactive table.\"\n",
              "              style=\"display:none;\">\n",
              "\n",
              "  <svg xmlns=\"http://www.w3.org/2000/svg\" height=\"24px\"viewBox=\"0 0 24 24\"\n",
              "       width=\"24px\">\n",
              "    <path d=\"M0 0h24v24H0V0z\" fill=\"none\"/>\n",
              "    <path d=\"M18.56 5.44l.94 2.06.94-2.06 2.06-.94-2.06-.94-.94-2.06-.94 2.06-2.06.94zm-11 1L8.5 8.5l.94-2.06 2.06-.94-2.06-.94L8.5 2.5l-.94 2.06-2.06.94zm10 10l.94 2.06.94-2.06 2.06-.94-2.06-.94-.94-2.06-.94 2.06-2.06.94z\"/><path d=\"M17.41 7.96l-1.37-1.37c-.4-.4-.92-.59-1.43-.59-.52 0-1.04.2-1.43.59L10.3 9.45l-7.72 7.72c-.78.78-.78 2.05 0 2.83L4 21.41c.39.39.9.59 1.41.59.51 0 1.02-.2 1.41-.59l7.78-7.78 2.81-2.81c.8-.78.8-2.07 0-2.86zM5.41 20L4 18.59l7.72-7.72 1.47 1.35L5.41 20z\"/>\n",
              "  </svg>\n",
              "      </button>\n",
              "\n",
              "\n",
              "\n",
              "    <div id=\"df-be8a2daf-5c5c-4150-ad01-c4a23bcb0d5b\">\n",
              "      <button class=\"colab-df-quickchart\" onclick=\"quickchart('df-be8a2daf-5c5c-4150-ad01-c4a23bcb0d5b')\"\n",
              "              title=\"Suggest charts.\"\n",
              "              style=\"display:none;\">\n",
              "\n",
              "<svg xmlns=\"http://www.w3.org/2000/svg\" height=\"24px\"viewBox=\"0 0 24 24\"\n",
              "     width=\"24px\">\n",
              "    <g>\n",
              "        <path d=\"M19 3H5c-1.1 0-2 .9-2 2v14c0 1.1.9 2 2 2h14c1.1 0 2-.9 2-2V5c0-1.1-.9-2-2-2zM9 17H7v-7h2v7zm4 0h-2V7h2v10zm4 0h-2v-4h2v4z\"/>\n",
              "    </g>\n",
              "</svg>\n",
              "      </button>\n",
              "    </div>\n",
              "\n",
              "<style>\n",
              "  .colab-df-quickchart {\n",
              "    background-color: #E8F0FE;\n",
              "    border: none;\n",
              "    border-radius: 50%;\n",
              "    cursor: pointer;\n",
              "    display: none;\n",
              "    fill: #1967D2;\n",
              "    height: 32px;\n",
              "    padding: 0 0 0 0;\n",
              "    width: 32px;\n",
              "  }\n",
              "\n",
              "  .colab-df-quickchart:hover {\n",
              "    background-color: #E2EBFA;\n",
              "    box-shadow: 0px 1px 2px rgba(60, 64, 67, 0.3), 0px 1px 3px 1px rgba(60, 64, 67, 0.15);\n",
              "    fill: #174EA6;\n",
              "  }\n",
              "\n",
              "  [theme=dark] .colab-df-quickchart {\n",
              "    background-color: #3B4455;\n",
              "    fill: #D2E3FC;\n",
              "  }\n",
              "\n",
              "  [theme=dark] .colab-df-quickchart:hover {\n",
              "    background-color: #434B5C;\n",
              "    box-shadow: 0px 1px 3px 1px rgba(0, 0, 0, 0.15);\n",
              "    filter: drop-shadow(0px 1px 2px rgba(0, 0, 0, 0.3));\n",
              "    fill: #FFFFFF;\n",
              "  }\n",
              "</style>\n",
              "\n",
              "    <script>\n",
              "      async function quickchart(key) {\n",
              "        const containerElement = document.querySelector('#' + key);\n",
              "        const charts = await google.colab.kernel.invokeFunction(\n",
              "            'suggestCharts', [key], {});\n",
              "      }\n",
              "    </script>\n",
              "\n",
              "      <script>\n",
              "\n",
              "function displayQuickchartButton(domScope) {\n",
              "  let quickchartButtonEl =\n",
              "    domScope.querySelector('#df-be8a2daf-5c5c-4150-ad01-c4a23bcb0d5b button.colab-df-quickchart');\n",
              "  quickchartButtonEl.style.display =\n",
              "    google.colab.kernel.accessAllowed ? 'block' : 'none';\n",
              "}\n",
              "\n",
              "        displayQuickchartButton(document);\n",
              "      </script>\n",
              "      <style>\n",
              "    .colab-df-container {\n",
              "      display:flex;\n",
              "      flex-wrap:wrap;\n",
              "      gap: 12px;\n",
              "    }\n",
              "\n",
              "    .colab-df-convert {\n",
              "      background-color: #E8F0FE;\n",
              "      border: none;\n",
              "      border-radius: 50%;\n",
              "      cursor: pointer;\n",
              "      display: none;\n",
              "      fill: #1967D2;\n",
              "      height: 32px;\n",
              "      padding: 0 0 0 0;\n",
              "      width: 32px;\n",
              "    }\n",
              "\n",
              "    .colab-df-convert:hover {\n",
              "      background-color: #E2EBFA;\n",
              "      box-shadow: 0px 1px 2px rgba(60, 64, 67, 0.3), 0px 1px 3px 1px rgba(60, 64, 67, 0.15);\n",
              "      fill: #174EA6;\n",
              "    }\n",
              "\n",
              "    [theme=dark] .colab-df-convert {\n",
              "      background-color: #3B4455;\n",
              "      fill: #D2E3FC;\n",
              "    }\n",
              "\n",
              "    [theme=dark] .colab-df-convert:hover {\n",
              "      background-color: #434B5C;\n",
              "      box-shadow: 0px 1px 3px 1px rgba(0, 0, 0, 0.15);\n",
              "      filter: drop-shadow(0px 1px 2px rgba(0, 0, 0, 0.3));\n",
              "      fill: #FFFFFF;\n",
              "    }\n",
              "  </style>\n",
              "\n",
              "      <script>\n",
              "        const buttonEl =\n",
              "          document.querySelector('#df-809800d3-a7c1-4692-a864-215afe3169c7 button.colab-df-convert');\n",
              "        buttonEl.style.display =\n",
              "          google.colab.kernel.accessAllowed ? 'block' : 'none';\n",
              "\n",
              "        async function convertToInteractive(key) {\n",
              "          const element = document.querySelector('#df-809800d3-a7c1-4692-a864-215afe3169c7');\n",
              "          const dataTable =\n",
              "            await google.colab.kernel.invokeFunction('convertToInteractive',\n",
              "                                                     [key], {});\n",
              "          if (!dataTable) return;\n",
              "\n",
              "          const docLinkHtml = 'Like what you see? Visit the ' +\n",
              "            '<a target=\"_blank\" href=https://colab.research.google.com/notebooks/data_table.ipynb>data table notebook</a>'\n",
              "            + ' to learn more about interactive tables.';\n",
              "          element.innerHTML = '';\n",
              "          dataTable['output_type'] = 'display_data';\n",
              "          await google.colab.output.renderOutput(dataTable, element);\n",
              "          const docLink = document.createElement('div');\n",
              "          docLink.innerHTML = docLinkHtml;\n",
              "          element.appendChild(docLink);\n",
              "        }\n",
              "      </script>\n",
              "    </div>\n",
              "  </div>\n"
            ]
          },
          "metadata": {},
          "execution_count": 16
        }
      ]
    },
    {
      "cell_type": "code",
      "source": [
        "df.to_csv('full_subpoenas.csv',index=False)"
      ],
      "metadata": {
        "id": "Ktu_tYO6kRJh"
      },
      "execution_count": null,
      "outputs": []
    },
    {
      "cell_type": "code",
      "source": [
        "df.shape"
      ],
      "metadata": {
        "colab": {
          "base_uri": "https://localhost:8080/"
        },
        "id": "6c6OkED9kb6i",
        "outputId": "beb507f5-2f97-4189-a3cd-eec10de7f132"
      },
      "execution_count": null,
      "outputs": [
        {
          "output_type": "execute_result",
          "data": {
            "text/plain": [
              "(3902, 1)"
            ]
          },
          "metadata": {},
          "execution_count": 18
        }
      ]
    },
    {
      "cell_type": "code",
      "source": [
        "df_new = df.head(100)"
      ],
      "metadata": {
        "id": "lIunDj4MkdSR"
      },
      "execution_count": null,
      "outputs": []
    },
    {
      "cell_type": "code",
      "source": [
        "df_new.to_csv('100_subpoenas.csv',index=False)"
      ],
      "metadata": {
        "id": "ywx7ptyXkZF8"
      },
      "execution_count": null,
      "outputs": []
    },
    {
      "cell_type": "code",
      "source": [
        "df_new.shape"
      ],
      "metadata": {
        "colab": {
          "base_uri": "https://localhost:8080/"
        },
        "id": "Sz2yE2j_kiYM",
        "outputId": "42953e2f-cf4f-4a30-da1f-e040aa73b5fa"
      },
      "execution_count": null,
      "outputs": [
        {
          "output_type": "execute_result",
          "data": {
            "text/plain": [
              "(100, 1)"
            ]
          },
          "metadata": {},
          "execution_count": 22
        }
      ]
    },
    {
      "cell_type": "code",
      "source": [
        "!wget https://raw.githubusercontent.com/JohnSnowLabs/spark-nlp-workshop/master/finance-nlp/data/finance_subpoenas.csv"
      ],
      "metadata": {
        "colab": {
          "base_uri": "https://localhost:8080/"
        },
        "id": "PRgY3rB3kkAu",
        "outputId": "26acdabe-7aa8-47f3-dc57-2dca2716d37f"
      },
      "execution_count": null,
      "outputs": [
        {
          "output_type": "stream",
          "name": "stdout",
          "text": [
            "--2023-08-07 06:03:15--  https://raw.githubusercontent.com/JohnSnowLabs/spark-nlp-workshop/master/finance-nlp/data/finance_subpoenas.csv\n",
            "Resolving raw.githubusercontent.com (raw.githubusercontent.com)... 185.199.108.133, 185.199.109.133, 185.199.110.133, ...\n",
            "Connecting to raw.githubusercontent.com (raw.githubusercontent.com)|185.199.108.133|:443... connected.\n",
            "HTTP request sent, awaiting response... 200 OK\n",
            "Length: 125359 (122K) [text/plain]\n",
            "Saving to: ‘finance_subpoenas.csv’\n",
            "\n",
            "finance_subpoenas.c 100%[===================>] 122.42K  --.-KB/s    in 0.03s   \n",
            "\n",
            "2023-08-07 06:03:16 (4.69 MB/s) - ‘finance_subpoenas.csv’ saved [125359/125359]\n",
            "\n"
          ]
        }
      ]
    },
    {
      "cell_type": "code",
      "source": [],
      "metadata": {
        "id": "xln1bcHMl6DF"
      },
      "execution_count": null,
      "outputs": []
    }
  ]
}
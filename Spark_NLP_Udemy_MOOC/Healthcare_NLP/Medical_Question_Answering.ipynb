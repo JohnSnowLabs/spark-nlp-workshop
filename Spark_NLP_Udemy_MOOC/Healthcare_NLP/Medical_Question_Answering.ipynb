{
  "nbformat": 4,
  "nbformat_minor": 0,
  "metadata": {
    "colab": {
      "provenance": [],
      "toc_visible": true,
      "machine_shape": "hm"
    },
    "kernelspec": {
      "name": "python3",
      "display_name": "Python 3"
    },
    "language_info": {
      "name": "python"
    }
  },
  "cells": [
    {
      "cell_type": "markdown",
      "source": [
        "![JohnSnowLabs](https://nlp.johnsnowlabs.com/assets/images/logo.png)\n"
      ],
      "metadata": {
        "id": "klIak_Gb_OPJ"
      }
    },
    {
      "cell_type": "markdown",
      "source": [
        "# **MedicalQuestionAnswering**"
      ],
      "metadata": {
        "id": "bewC1SWN-6jB"
      }
    },
    {
      "cell_type": "markdown",
      "source": [
        "This notebook will cover the different parameters and usages of `MedicalQuestionAnswering` annotator.\n",
        "\n",
        "**📖 Learning Objectives:**\n",
        "\n",
        "1. Understand how to use `MedicalQuestionAnswering`.\n",
        "\n",
        "2. Become comfortable using the different parameters of the annotator.\n",
        "\n",
        "3. Train an `MedicalQuestionAnswering` based on pattern matching.\n",
        "\n",
        "\n",
        "**🔗 Helpful Links:**\n",
        "\n",
        "- Documentation : [MedicalQuestionAnswering](https://nlp.johnsnowlabs.com/docs/en/licensed_annotators#questionanswering)\n",
        "\n",
        "- Python Docs : [MedicalQuestionAnswering](https://nlp.johnsnowlabs.com/licensed/api/python/reference/autosummary/sparknlp_jsl/annotator/qa/medical_qa/index.html#sparknlp_jsl.annotator.qa.medical_qa.MedicalQuestionAnswering)\n",
        "\n",
        "- Scala Docs : [MedicalQuestionAnswering](https://nlp.johnsnowlabs.com/licensed/api/com/johnsnowlabs/nlp/annotators/qa/MedicalQuestionAnswering.html)\n",
        "\n",
        "- For extended examples of usage, see the [Spark NLP Workshop repository](https://colab.research.google.com/github/JohnSnowLabs/spark-nlp-workshop/blob/master/healthcare-nlp/23.0.Medical_Question_Answering.ipynb)."
      ],
      "metadata": {
        "id": "m048uDkB69Rv"
      }
    },
    {
      "cell_type": "markdown",
      "source": [
        "## **📜 Background**\n"
      ],
      "metadata": {
        "id": "B9Wo54MT8jKU"
      }
    },
    {
      "cell_type": "markdown",
      "source": [
        "`MedicalQuestionAnswering` is a GPT-based model for answering questions given a context. Unlike span-based models, it generates the answers to the questions, rather than selecting phrases from the given context. The model is capable of answering various types of questions, including yes-no or full-text ones. Types of questions are supported: \"short\" (producing yes/no/maybe) answers and \"long\" (full answers)."
      ],
      "metadata": {
        "id": "yaDBNKJsAovm"
      }
    },
    {
      "cell_type": "markdown",
      "source": [
        "## **🎬 Colab Setup**"
      ],
      "metadata": {
        "id": "A4hMnkhd_ik9"
      }
    },
    {
      "cell_type": "code",
      "source": [
        "# Install the johnsnowlabs library to access Spark-NLP for Healthcare\n",
        "! pip install -q johnsnowlabs==5.1.0"
      ],
      "metadata": {
        "id": "xrdvNxjD_yQI"
      },
      "execution_count": null,
      "outputs": []
    },
    {
      "cell_type": "code",
      "source": [
        "from google.colab import files\n",
        "print('Please Upload your John Snow Labs License using the button below')\n",
        "license_keys = files.upload()"
      ],
      "metadata": {
        "id": "cwj3iYKN4_hf"
      },
      "execution_count": null,
      "outputs": []
    },
    {
      "cell_type": "code",
      "source": [
        "from johnsnowlabs import nlp, medical\n",
        "\n",
        "# After uploading your license run this to install all licensed Python Wheels and pre-download Jars the Spark Session JVM\n",
        "nlp.install()"
      ],
      "metadata": {
        "id": "BsAnW1h65F9W"
      },
      "execution_count": null,
      "outputs": []
    },
    {
      "cell_type": "code",
      "source": [
        "from johnsnowlabs import nlp, medical\n",
        "import pandas as pd\n",
        "from pyspark.sql import SparkSession\n",
        "from sparknlp.annotator import *\n",
        "from sparknlp_jsl.annotator import *\n",
        "from sparknlp.base import *\n",
        "import sparknlp_jsl\n",
        "import sparknlp\n",
        "import pandas as pd\n",
        "\n",
        "# Automatically load license data and start a session with all jars user has access to\n",
        "spark = nlp.start()"
      ],
      "metadata": {
        "id": "DQgHOYlz5ImN"
      },
      "execution_count": null,
      "outputs": []
    },
    {
      "cell_type": "markdown",
      "source": [
        "## **🖨️ Input/Output Annotation Types**"
      ],
      "metadata": {
        "id": "fdTHvykf8wni"
      }
    },
    {
      "cell_type": "markdown",
      "source": [
        "- Input: `DOCUMENT`, `DOCUMENT`\n",
        "\n",
        "- Output: `CHUNK`"
      ],
      "metadata": {
        "id": "ejYVNcX98y5j"
      }
    },
    {
      "cell_type": "markdown",
      "source": [
        "## **🔎 Parameters**\n"
      ],
      "metadata": {
        "id": "YVa72oJd9Bk_"
      }
    },
    {
      "cell_type": "markdown",
      "source": [
        "- `questionType`: Question type, e.g. “short” or “long”. The question types depend on the model.\n",
        "- `maxNewTokens`: Maximum number of of new tokens to generate, by default 30.\n",
        "- `maxContextLength`: Maximum length of context text.\n",
        "- `configProtoBytes`: ConfigProto from tensorflow, serialized into byte array.\n",
        "- `doSample`: Whether or not to use sampling; use greedy decoding otherwise, by default False.\n",
        "- `topK`: The number of highest probability vocabulary tokens to consider, by default 1.\n",
        "- `noRepeatNgramSize`: The number of tokens that can’t be repeated in the same order. Useful for preventing loops. The default is 0.\n",
        "- `ignoreTokenIds`: A list of token ids which are ignored in the decoder’s output, by default [].\n",
        "- `randomSeed`: Set to positive integer to get reproducible results, by default None.\n",
        "- `customPrompt`: Custom prompt template. Available variables {QUESTION} and {CONTEXT}.\n",
        "\n",
        "All the parameters can be set using the corresponding set method in camel case. For example, `.setInputcols()`."
      ],
      "metadata": {
        "id": "AUbv3YL59D8Q"
      }
    },
    {
      "cell_type": "markdown",
      "source": [
        "### `questionType`"
      ],
      "metadata": {
        "id": "EpBqGk7oNc3C"
      }
    },
    {
      "cell_type": "markdown",
      "source": [
        "Let's define a pipeline to process raw texts into `questionType`."
      ],
      "metadata": {
        "id": "wOGfzMDiOAXE"
      }
    },
    {
      "cell_type": "markdown",
      "source": [
        "#### Long Answer"
      ],
      "metadata": {
        "id": "_Ow9JoT2yg6z"
      }
    },
    {
      "cell_type": "code",
      "source": [
        "document_assembler = nlp.MultiDocumentAssembler()\\\n",
        "    .setInputCols(\"question\", \"context\")\\\n",
        "    .setOutputCols(\"document_question\", \"document_context\")\n",
        "\n",
        "med_qa = medical.MedicalQuestionAnswering.pretrained(\"medical_qa_biogpt\",\"en\",\"clinical/models\")\\\n",
        "    .setInputCols([\"document_question\", \"document_context\"])\\\n",
        "    .setOutputCol(\"answer\")\\\n",
        "    .setQuestionType(\"long\")\n",
        "\n",
        "pipeline = nlp.Pipeline(stages=[document_assembler,\n",
        "                                med_qa])"
      ],
      "metadata": {
        "id": "c23AbFZ7OV6B"
      },
      "execution_count": null,
      "outputs": []
    },
    {
      "cell_type": "code",
      "source": [
        "paper_abstract = [\n",
        "    \"We have previously reported the feasibility of diagnostic and therapeutic peritoneoscopy including liver biopsy, gastrojejunostomy, and tubal ligation by an oral transgastric approach. We present results of per-oral transgastric splenectomy in a porcine model. The goal of this study was to determine the technical feasibility of per-oral transgastric splenectomy using a flexible endoscope. We performed acute experiments on 50-kg pigs. All animals were fed liquids for 3 days prior to procedure. The procedures were performed under general anesthesia with endotracheal intubation. The flexible endoscope was passed per orally into the stomach and puncture of the gastric wall was performed with a needle knife. The puncture was extended to create a 1.5-cm incision using a pull-type sphincterotome, and a double-channel endoscope was advanced into the peritoneal cavity. The peritoneal cavity was insufflated with air through the endoscope. The spleen was visualized. The splenic vessels were ligated with endoscopic loops and clips, and then mesentery was dissected using electrocautery. Endoscopic splenectomy was performed on six pigs. There were no complications during gastric incision and entrance into the peritoneal cavity. Visualization of the spleen and other intraperitoneal organs was very good. Ligation of the splenic vessels and mobilization of the spleen were achieved using commercially available devices and endoscopic accessories.\"\n",
        "]\n",
        "\n",
        "question = [\"Transgastric endoscopic splenectomy: is it possible?\"]"
      ],
      "metadata": {
        "id": "cMMJY2JIsRJm"
      },
      "execution_count": null,
      "outputs": []
    },
    {
      "cell_type": "code",
      "source": [
        "data = spark.createDataFrame([[paper_abstract[0],  question[0]]]).toDF(\"context\",\"question\")\n",
        "\n",
        "data.show(truncate = 100)"
      ],
      "metadata": {
        "colab": {
          "base_uri": "https://localhost:8080/"
        },
        "id": "6t_i__m2kLMK",
        "outputId": "7bae73aa-b36c-48a5-df3a-f444fcb8a9b4"
      },
      "execution_count": null,
      "outputs": [
        {
          "output_type": "stream",
          "name": "stdout",
          "text": [
            "+----------------------------------------------------------------------------------------------------+----------------------------------------------------+\n",
            "|                                                                                             context|                                            question|\n",
            "+----------------------------------------------------------------------------------------------------+----------------------------------------------------+\n",
            "|We have previously reported the feasibility of diagnostic and therapeutic peritoneoscopy includin...|Transgastric endoscopic splenectomy: is it possible?|\n",
            "+----------------------------------------------------------------------------------------------------+----------------------------------------------------+\n",
            "\n"
          ]
        }
      ]
    },
    {
      "cell_type": "code",
      "source": [
        "result = pipeline.fit(data).transform(data)\n",
        "\n",
        "result.selectExpr(\"document_question.result as Question\", \"answer.result as Long_Answer\").show(truncate=False)"
      ],
      "metadata": {
        "colab": {
          "base_uri": "https://localhost:8080/"
        },
        "id": "f5e2q4ZJxp2r",
        "outputId": "47c2b880-474a-438f-b06b-60c030cf9f1b"
      },
      "execution_count": null,
      "outputs": [
        {
          "output_type": "stream",
          "name": "stdout",
          "text": [
            "+------------------------------------------------------+--------------------------------------------------------------------------------------------------------------------------------------------------------------------------+\n",
            "|Question                                              |Long_Answer                                                                                                                                                               |\n",
            "+------------------------------------------------------+--------------------------------------------------------------------------------------------------------------------------------------------------------------------------+\n",
            "|[Transgastric endoscopic splenectomy: is it possible?]|[per - oral transgastric splenectomy was technically feasible in a porcine model. further studies are necessary to determine the safety and efficacy of this procedure in]|\n",
            "+------------------------------------------------------+--------------------------------------------------------------------------------------------------------------------------------------------------------------------------+\n",
            "\n"
          ]
        }
      ]
    },
    {
      "cell_type": "markdown",
      "source": [
        "#### Short Answer"
      ],
      "metadata": {
        "id": "71dgez9FyZ6v"
      }
    },
    {
      "cell_type": "code",
      "source": [
        "med_qa = medical.MedicalQuestionAnswering.pretrained(\"medical_qa_biogpt\",\"en\",\"clinical/models\")\\\n",
        "    .setInputCols([\"document_question\", \"document_context\"])\\\n",
        "    .setOutputCol(\"answer\")\\\n",
        "    .setQuestionType(\"short\")\n",
        "\n",
        "pipeline = nlp.Pipeline(stages=[document_assembler,\n",
        "                                med_qa])"
      ],
      "metadata": {
        "id": "boaK27I2vQif"
      },
      "execution_count": null,
      "outputs": []
    },
    {
      "cell_type": "code",
      "source": [
        "result = pipeline.fit(data).transform(data)\n",
        "\n",
        "result.selectExpr(\"document_question.result as Question\", \"answer.result as Short_Answer\").show(truncate=False)"
      ],
      "metadata": {
        "colab": {
          "base_uri": "https://localhost:8080/"
        },
        "id": "Y_opuJgTyKJa",
        "outputId": "80cb0bd9-0cac-4ddf-8ce8-41822111dee6"
      },
      "execution_count": null,
      "outputs": [
        {
          "output_type": "stream",
          "name": "stdout",
          "text": [
            "+------------------------------------------------------+------------+\n",
            "|Question                                              |Short_Answer|\n",
            "+------------------------------------------------------+------------+\n",
            "|[Transgastric endoscopic splenectomy: is it possible?]|[yes]       |\n",
            "+------------------------------------------------------+------------+\n",
            "\n"
          ]
        }
      ]
    },
    {
      "cell_type": "markdown",
      "source": [
        "### `setMaxNewTokens`"
      ],
      "metadata": {
        "id": "J05F4CcZA30R"
      }
    },
    {
      "cell_type": "code",
      "source": [
        "med_qa = medical.MedicalQuestionAnswering.pretrained(\"medical_qa_biogpt\",\"en\",\"clinical/models\")\\\n",
        "    .setInputCols([\"document_question\", \"document_context\"])\\\n",
        "    .setOutputCol(\"answer\")\\\n",
        "    .setQuestionType(\"long\")\\\n",
        "    .setMaxNewTokens(20)\n",
        "\n",
        "pipeline = nlp.Pipeline(stages=[document_assembler,\n",
        "                                med_qa])"
      ],
      "metadata": {
        "id": "KfueJP-rALU_"
      },
      "execution_count": null,
      "outputs": []
    },
    {
      "cell_type": "code",
      "source": [
        "result = pipeline.fit(data).transform(data)\n",
        "\n",
        "result.selectExpr(\"document_question.result as Question\", \"answer.result as Answer\").show(truncate=False)"
      ],
      "metadata": {
        "colab": {
          "base_uri": "https://localhost:8080/"
        },
        "id": "zZF7PTMGDLJG",
        "outputId": "48edaeba-5d61-442a-d89c-9d662de8cc51"
      },
      "execution_count": null,
      "outputs": [
        {
          "output_type": "stream",
          "name": "stdout",
          "text": [
            "+------------------------------------------------------+----------------------------------------------------------------------------------------------------------------+\n",
            "|Question                                              |Answer                                                                                                          |\n",
            "+------------------------------------------------------+----------------------------------------------------------------------------------------------------------------+\n",
            "|[Transgastric endoscopic splenectomy: is it possible?]|[per - oral transgastric splenectomy was technically feasible in a porcine model. further studies are necessary]|\n",
            "+------------------------------------------------------+----------------------------------------------------------------------------------------------------------------+\n",
            "\n"
          ]
        }
      ]
    },
    {
      "cell_type": "markdown",
      "source": [
        "### `maxContextLength`"
      ],
      "metadata": {
        "id": "7T_3otzSBllg"
      }
    },
    {
      "cell_type": "code",
      "source": [
        "med_qa = medical.MedicalQuestionAnswering.pretrained(\"medical_qa_biogpt\",\"en\",\"clinical/models\")\\\n",
        "    .setInputCols([\"document_question\", \"document_context\"])\\\n",
        "    .setOutputCol(\"answer\")\\\n",
        "    .setQuestionType(\"long\")\\\n",
        "    .setMaxContextLength(150)\n",
        "\n",
        "pipeline = nlp.Pipeline(stages=[document_assembler,\n",
        "                                med_qa])"
      ],
      "metadata": {
        "id": "9w-H9qhV0Pq-"
      },
      "execution_count": null,
      "outputs": []
    },
    {
      "cell_type": "code",
      "source": [
        "result = pipeline.fit(data).transform(data)\n",
        "\n",
        "result.selectExpr(\"document_question.result as Question\", \"answer.result as Answer\").show(truncate=False)"
      ],
      "metadata": {
        "colab": {
          "base_uri": "https://localhost:8080/"
        },
        "id": "MFvZMtkfEVOF",
        "outputId": "a783cfe1-6d02-47f6-94fa-1ec0979d430a"
      },
      "execution_count": null,
      "outputs": [
        {
          "output_type": "stream",
          "name": "stdout",
          "text": [
            "+------------------------------------------------------+----------------------------------------------------------------------------------------------------------------+\n",
            "|Question                                              |Answer                                                                                                          |\n",
            "+------------------------------------------------------+----------------------------------------------------------------------------------------------------------------+\n",
            "|[Transgastric endoscopic splenectomy: is it possible?]|[per - oral transgastric splenectomy was technically feasible in a porcine model. further studies are necessary]|\n",
            "+------------------------------------------------------+----------------------------------------------------------------------------------------------------------------+\n",
            "\n"
          ]
        }
      ]
    },
    {
      "cell_type": "markdown",
      "source": [
        "### `TopK`"
      ],
      "metadata": {
        "id": "6q-moDz6OJI6"
      }
    },
    {
      "cell_type": "code",
      "source": [
        "med_qa = medical.MedicalQuestionAnswering.pretrained(\"medical_qa_biogpt\",\"en\",\"clinical/models\")\\\n",
        "    .setInputCols([\"document_question\", \"document_context\"])\\\n",
        "    .setOutputCol(\"answer\")\\\n",
        "    .setQuestionType(\"long\")\\\n",
        "    .setTopK(2)\n",
        "\n",
        "pipeline = nlp.Pipeline(stages=[document_assembler,\n",
        "                                med_qa])"
      ],
      "metadata": {
        "id": "aam0ooNVOIHU"
      },
      "execution_count": null,
      "outputs": []
    },
    {
      "cell_type": "code",
      "source": [
        "result = pipeline.fit(data).transform(data)\n",
        "\n",
        "result.selectExpr(\"document_question.result as Question\", \"answer.result as Answer\").show(truncate=False)"
      ],
      "metadata": {
        "colab": {
          "base_uri": "https://localhost:8080/"
        },
        "id": "Y0O6j9v-EvTH",
        "outputId": "9a8ee81e-e500-481c-aa38-c3c91b3b071f"
      },
      "execution_count": null,
      "outputs": [
        {
          "output_type": "stream",
          "name": "stdout",
          "text": [
            "+------------------------------------------------------+----------------------------------------------------------------------------------------------------------------+\n",
            "|Question                                              |Answer                                                                                                          |\n",
            "+------------------------------------------------------+----------------------------------------------------------------------------------------------------------------+\n",
            "|[Transgastric endoscopic splenectomy: is it possible?]|[per - oral transgastric splenectomy was technically feasible in a porcine model. further studies are necessary]|\n",
            "+------------------------------------------------------+----------------------------------------------------------------------------------------------------------------+\n",
            "\n"
          ]
        }
      ]
    },
    {
      "cell_type": "markdown",
      "source": [
        "### `noRepeatNgramSize`"
      ],
      "metadata": {
        "id": "easvdx07MHX1"
      }
    },
    {
      "cell_type": "code",
      "source": [
        "med_qa = medical.MedicalQuestionAnswering.pretrained(\"medical_qa_biogpt\",\"en\",\"clinical/models\")\\\n",
        "    .setInputCols([\"document_question\", \"document_context\"])\\\n",
        "    .setOutputCol(\"answer\")\\\n",
        "    .setQuestionType(\"long\")\\\n",
        "    .setNoRepeatNgramSize(2)\n",
        "\n",
        "pipeline = nlp.Pipeline(stages=[document_assembler,\n",
        "                                med_qa])"
      ],
      "metadata": {
        "id": "iDIzIfFqMOn6"
      },
      "execution_count": null,
      "outputs": []
    },
    {
      "cell_type": "code",
      "source": [
        "result = pipeline.fit(data).transform(data)\n",
        "\n",
        "result.selectExpr(\"document_question.result as Question\", \"answer.result as Answer\").show(truncate=False)"
      ],
      "metadata": {
        "colab": {
          "base_uri": "https://localhost:8080/"
        },
        "id": "eqIFWANeMhxK",
        "outputId": "387f6cf3-aa4e-4912-863d-2c370ee957d8"
      },
      "execution_count": null,
      "outputs": [
        {
          "output_type": "stream",
          "name": "stdout",
          "text": [
            "+------------------------------------------------------+-----------------------------------------------------------------------------------------------------------------------------+\n",
            "|Question                                              |Answer                                                                                                                       |\n",
            "+------------------------------------------------------+-----------------------------------------------------------------------------------------------------------------------------+\n",
            "|[Transgastric endoscopic splenectomy: is it possible?]|[per oral endoscopic transgastrically assisted splenectomy is technically feasible in pigs. further studies are necessary to]|\n",
            "+------------------------------------------------------+-----------------------------------------------------------------------------------------------------------------------------+\n",
            "\n"
          ]
        }
      ]
    },
    {
      "cell_type": "markdown",
      "source": [
        "### `customPrompt`"
      ],
      "metadata": {
        "id": "9wvm0R6nWGwj"
      }
    },
    {
      "cell_type": "code",
      "source": [
        "med_qa = medical.MedicalQuestionAnswering.pretrained(\"medical_qa_biogpt\",\"en\",\"clinical/models\")\\\n",
        "    .setInputCols([\"document_question\", \"document_context\"])\\\n",
        "    .setOutputCol(\"answer\")\\\n",
        "    .setCustomPrompt(\"CONTEXT\")\n",
        "\n",
        "pipeline = nlp.Pipeline(stages=[document_assembler,\n",
        "                                med_qa])"
      ],
      "metadata": {
        "id": "dJjks_HpNS3m"
      },
      "execution_count": null,
      "outputs": []
    },
    {
      "cell_type": "code",
      "source": [
        "result = pipeline.fit(data).transform(data)\n",
        "\n",
        "result.selectExpr(\"document_question.result as Question\", \"answer.result as Result\").show(truncate=False)"
      ],
      "metadata": {
        "colab": {
          "base_uri": "https://localhost:8080/"
        },
        "id": "smlRw4HnXmII",
        "outputId": "7443d32a-aa9e-40a8-f449-d6ba19127935"
      },
      "execution_count": null,
      "outputs": [
        {
          "output_type": "stream",
          "name": "stdout",
          "text": [
            "+------------------------------------------------------+------------------------------------------------------------------------------------------------------------+\n",
            "|Question                                              |Result                                                                                                      |\n",
            "+------------------------------------------------------+------------------------------------------------------------------------------------------------------------+\n",
            "|[Transgastric endoscopic splenectomy: is it possible?]|[context: to evaluate the effect of a short - term exercise program on the quality of life of breast cancer]|\n",
            "+------------------------------------------------------+------------------------------------------------------------------------------------------------------------+\n",
            "\n"
          ]
        }
      ]
    },
    {
      "cell_type": "code",
      "source": [
        "med_qa = medical.MedicalQuestionAnswering.pretrained(\"medical_qa_biogpt\",\"en\",\"clinical/models\")\\\n",
        "    .setInputCols([\"document_question\", \"document_context\"])\\\n",
        "    .setOutputCol(\"answer\")\\\n",
        "    .setCustomPrompt(\"QUESTION\")\n",
        "\n",
        "pipeline = nlp.Pipeline(stages=[document_assembler,\n",
        "                                med_qa])"
      ],
      "metadata": {
        "id": "WeA_nIouXvZ5"
      },
      "execution_count": null,
      "outputs": []
    },
    {
      "cell_type": "code",
      "source": [
        "result = pipeline.fit(data).transform(data)\n",
        "\n",
        "result.selectExpr(\"document_question.result as Question\", \"answer.result as Result\").show(truncate=False)"
      ],
      "metadata": {
        "colab": {
          "base_uri": "https://localhost:8080/"
        },
        "id": "gkKaPdAvX3YG",
        "outputId": "411db425-6370-4f09-d8e0-a7637dcd204e"
      },
      "execution_count": null,
      "outputs": [
        {
          "output_type": "stream",
          "name": "stdout",
          "text": [
            "+------------------------------------------------------+---------------------------------------------------------------------------------------------------------------------------------+\n",
            "|Question                                              |Result                                                                                                                           |\n",
            "+------------------------------------------------------+---------------------------------------------------------------------------------------------------------------------------------+\n",
            "|[Transgastric endoscopic splenectomy: is it possible?]|[question: does the timing of adjuvant therapy affect survival in patients with resected pancreatic cancer? context: the optimal]|\n",
            "+------------------------------------------------------+---------------------------------------------------------------------------------------------------------------------------------+\n",
            "\n"
          ]
        }
      ]
    }
  ]
}
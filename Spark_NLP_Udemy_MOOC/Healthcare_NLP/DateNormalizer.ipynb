{
  "nbformat": 4,
  "nbformat_minor": 0,
  "metadata": {
    "colab": {
      "provenance": []
    },
    "kernelspec": {
      "name": "python3",
      "display_name": "Python 3"
    },
    "language_info": {
      "name": "python"
    }
  },
  "cells": [
    {
      "cell_type": "markdown",
      "source": [
        "![JohnSnowLabs](https://nlp.johnsnowlabs.com/assets/images/logo.png)"
      ],
      "metadata": {
        "id": "wid7qBqjp2jl"
      }
    },
    {
      "cell_type": "markdown",
      "source": [
        "# **DateNormalizer**"
      ],
      "metadata": {
        "id": "8-hl3s1_p6ry"
      }
    },
    {
      "cell_type": "markdown",
      "source": [
        "This notebook will cover the different parameters and usages of `DateNormalizer`. This annotator normalizes Date chunks into a chosen format.\n",
        "\n",
        "\n",
        "**📖 Learning Objectives:**\n",
        "\n",
        "1. Understand how it is useful when using data from different sources, some times from different countries that has different formats to represent dates.\n",
        "\n",
        "2. Become comfortable using the different parameters of the annotator.\n",
        "\n",
        "\n",
        "**🔗 Helpful Links:**\n",
        "\n",
        "- Documentation : [DateNormalizer](https://nlp.johnsnowlabs.com/docs/en/licensed_annotators#datenormalizer)\n",
        "\n",
        "- Python Docs : [DateNormalizer](https://nlp.johnsnowlabs.com/licensed/api/python/reference/autosummary/sparknlp_jsl/annotator/normalizer/date_normalizer/index.html)\n",
        "\n",
        "- Scala Docs : [DateNormalizer](https://nlp.johnsnowlabs.com/licensed/api/com/johnsnowlabs/nlp/annotators/normalizer/DateNormalizer.html)\n",
        "\n",
        "- For extended examples of usage, see the [Spark NLP Workshop repository](https://github.com/JohnSnowLabs/spark-nlp-workshop/tree/master/healthcare-nlp)."
      ],
      "metadata": {
        "id": "dwGY8yjhqDUn"
      }
    },
    {
      "cell_type": "markdown",
      "metadata": {
        "id": "MfkkKkbVF309"
      },
      "source": [
        "## **🎬 Colab Setup**"
      ]
    },
    {
      "cell_type": "code",
      "execution_count": 1,
      "metadata": {
        "id": "iMkMQtZNF2n-",
        "colab": {
          "base_uri": "https://localhost:8080/"
        },
        "outputId": "2753b0f1-7cf7-4d4d-a050-038100030c89"
      },
      "outputs": [
        {
          "output_type": "stream",
          "name": "stdout",
          "text": [
            "\u001b[2K     \u001b[90m━━━━━━━━━━━━━━━━━━━━━━━━━━━━━━━━━━━━━━━━\u001b[0m \u001b[32m116.4/116.4 kB\u001b[0m \u001b[31m3.6 MB/s\u001b[0m eta \u001b[36m0:00:00\u001b[0m\n",
            "\u001b[2K     \u001b[90m━━━━━━━━━━━━━━━━━━━━━━━━━━━━━━━━━━━━━━━━\u001b[0m \u001b[32m135.8/135.8 kB\u001b[0m \u001b[31m15.0 MB/s\u001b[0m eta \u001b[36m0:00:00\u001b[0m\n",
            "\u001b[2K     \u001b[90m━━━━━━━━━━━━━━━━━━━━━━━━━━━━━━━━━━━━━━━━\u001b[0m \u001b[32m656.0/656.0 kB\u001b[0m \u001b[31m30.3 MB/s\u001b[0m eta \u001b[36m0:00:00\u001b[0m\n",
            "\u001b[2K     \u001b[90m━━━━━━━━━━━━━━━━━━━━━━━━━━━━━━━━━━━━━━━━\u001b[0m \u001b[32m3.1/3.1 MB\u001b[0m \u001b[31m87.2 MB/s\u001b[0m eta \u001b[36m0:00:00\u001b[0m\n",
            "\u001b[2K     \u001b[90m━━━━━━━━━━━━━━━━━━━━━━━━━━━━━━━━━━━━━━━━\u001b[0m \u001b[32m212.4/212.4 MB\u001b[0m \u001b[31m2.5 MB/s\u001b[0m eta \u001b[36m0:00:00\u001b[0m\n",
            "\u001b[?25h  Preparing metadata (setup.py) ... \u001b[?25l\u001b[?25hdone\n",
            "\u001b[2K     \u001b[90m━━━━━━━━━━━━━━━━━━━━━━━━━━━━━━━━━━━━━━━━\u001b[0m \u001b[32m95.4/95.4 kB\u001b[0m \u001b[31m12.3 MB/s\u001b[0m eta \u001b[36m0:00:00\u001b[0m\n",
            "\u001b[2K     \u001b[90m━━━━━━━━━━━━━━━━━━━━━━━━━━━━━━━━━━━━━━━━\u001b[0m \u001b[32m540.7/540.7 kB\u001b[0m \u001b[31m51.2 MB/s\u001b[0m eta \u001b[36m0:00:00\u001b[0m\n",
            "\u001b[2K     \u001b[90m━━━━━━━━━━━━━━━━━━━━━━━━━━━━━━━━━━━━━━━━\u001b[0m \u001b[32m198.6/198.6 kB\u001b[0m \u001b[31m25.3 MB/s\u001b[0m eta \u001b[36m0:00:00\u001b[0m\n",
            "\u001b[2K     \u001b[90m━━━━━━━━━━━━━━━━━━━━━━━━━━━━━━━━━━━━━━━━\u001b[0m \u001b[32m66.9/66.9 kB\u001b[0m \u001b[31m9.8 MB/s\u001b[0m eta \u001b[36m0:00:00\u001b[0m\n",
            "\u001b[2K     \u001b[90m━━━━━━━━━━━━━━━━━━━━━━━━━━━━━━━━━━━━━━━━\u001b[0m \u001b[32m11.4/11.4 MB\u001b[0m \u001b[31m126.3 MB/s\u001b[0m eta \u001b[36m0:00:00\u001b[0m\n",
            "\u001b[2K     \u001b[90m━━━━━━━━━━━━━━━━━━━━━━━━━━━━━━━━━━━━━━━━\u001b[0m \u001b[32m79.8/79.8 kB\u001b[0m \u001b[31m10.8 MB/s\u001b[0m eta \u001b[36m0:00:00\u001b[0m\n",
            "\u001b[2K     \u001b[90m━━━━━━━━━━━━━━━━━━━━━━━━━━━━━━━━━━━━━━━━\u001b[0m \u001b[32m150.3/150.3 kB\u001b[0m \u001b[31m21.2 MB/s\u001b[0m eta \u001b[36m0:00:00\u001b[0m\n",
            "\u001b[2K     \u001b[90m━━━━━━━━━━━━━━━━━━━━━━━━━━━━━━━━━━━━━━━━\u001b[0m \u001b[32m1.6/1.6 MB\u001b[0m \u001b[31m104.7 MB/s\u001b[0m eta \u001b[36m0:00:00\u001b[0m\n",
            "\u001b[?25h  Building wheel for pyspark (setup.py) ... \u001b[?25l\u001b[?25hdone\n",
            "\u001b[31mERROR: pip's dependency resolver does not currently take into account all the packages that are installed. This behaviour is the source of the following dependency conflicts.\n",
            "lida 0.0.10 requires fastapi, which is not installed.\n",
            "lida 0.0.10 requires kaleido, which is not installed.\n",
            "lida 0.0.10 requires python-multipart, which is not installed.\n",
            "lida 0.0.10 requires uvicorn, which is not installed.\n",
            "llmx 0.0.15a0 requires cohere, which is not installed.\n",
            "llmx 0.0.15a0 requires openai, which is not installed.\n",
            "llmx 0.0.15a0 requires tiktoken, which is not installed.\u001b[0m\u001b[31m\n",
            "\u001b[0m"
          ]
        }
      ],
      "source": [
        "!pip install -q johnsnowlabs"
      ]
    },
    {
      "cell_type": "code",
      "source": [
        "from google.colab import files\n",
        "print('Please Upload your John Snow Labs License using the button below')\n",
        "license_keys = files.upload()"
      ],
      "metadata": {
        "id": "nwJyFUMXkSIm",
        "colab": {
          "base_uri": "https://localhost:8080/",
          "height": 90
        },
        "outputId": "39dff7c9-f08a-4ce9-83e8-5e5bf0d103ec"
      },
      "execution_count": 2,
      "outputs": [
        {
          "output_type": "stream",
          "name": "stdout",
          "text": [
            "Please Upload your John Snow Labs License using the button below\n"
          ]
        },
        {
          "output_type": "display_data",
          "data": {
            "text/plain": [
              "<IPython.core.display.HTML object>"
            ],
            "text/html": [
              "\n",
              "     <input type=\"file\" id=\"files-96c9ce9b-bfe1-4dd0-8038-ec5bca547a2d\" name=\"files[]\" multiple disabled\n",
              "        style=\"border:none\" />\n",
              "     <output id=\"result-96c9ce9b-bfe1-4dd0-8038-ec5bca547a2d\">\n",
              "      Upload widget is only available when the cell has been executed in the\n",
              "      current browser session. Please rerun this cell to enable.\n",
              "      </output>\n",
              "      <script>// Copyright 2017 Google LLC\n",
              "//\n",
              "// Licensed under the Apache License, Version 2.0 (the \"License\");\n",
              "// you may not use this file except in compliance with the License.\n",
              "// You may obtain a copy of the License at\n",
              "//\n",
              "//      http://www.apache.org/licenses/LICENSE-2.0\n",
              "//\n",
              "// Unless required by applicable law or agreed to in writing, software\n",
              "// distributed under the License is distributed on an \"AS IS\" BASIS,\n",
              "// WITHOUT WARRANTIES OR CONDITIONS OF ANY KIND, either express or implied.\n",
              "// See the License for the specific language governing permissions and\n",
              "// limitations under the License.\n",
              "\n",
              "/**\n",
              " * @fileoverview Helpers for google.colab Python module.\n",
              " */\n",
              "(function(scope) {\n",
              "function span(text, styleAttributes = {}) {\n",
              "  const element = document.createElement('span');\n",
              "  element.textContent = text;\n",
              "  for (const key of Object.keys(styleAttributes)) {\n",
              "    element.style[key] = styleAttributes[key];\n",
              "  }\n",
              "  return element;\n",
              "}\n",
              "\n",
              "// Max number of bytes which will be uploaded at a time.\n",
              "const MAX_PAYLOAD_SIZE = 100 * 1024;\n",
              "\n",
              "function _uploadFiles(inputId, outputId) {\n",
              "  const steps = uploadFilesStep(inputId, outputId);\n",
              "  const outputElement = document.getElementById(outputId);\n",
              "  // Cache steps on the outputElement to make it available for the next call\n",
              "  // to uploadFilesContinue from Python.\n",
              "  outputElement.steps = steps;\n",
              "\n",
              "  return _uploadFilesContinue(outputId);\n",
              "}\n",
              "\n",
              "// This is roughly an async generator (not supported in the browser yet),\n",
              "// where there are multiple asynchronous steps and the Python side is going\n",
              "// to poll for completion of each step.\n",
              "// This uses a Promise to block the python side on completion of each step,\n",
              "// then passes the result of the previous step as the input to the next step.\n",
              "function _uploadFilesContinue(outputId) {\n",
              "  const outputElement = document.getElementById(outputId);\n",
              "  const steps = outputElement.steps;\n",
              "\n",
              "  const next = steps.next(outputElement.lastPromiseValue);\n",
              "  return Promise.resolve(next.value.promise).then((value) => {\n",
              "    // Cache the last promise value to make it available to the next\n",
              "    // step of the generator.\n",
              "    outputElement.lastPromiseValue = value;\n",
              "    return next.value.response;\n",
              "  });\n",
              "}\n",
              "\n",
              "/**\n",
              " * Generator function which is called between each async step of the upload\n",
              " * process.\n",
              " * @param {string} inputId Element ID of the input file picker element.\n",
              " * @param {string} outputId Element ID of the output display.\n",
              " * @return {!Iterable<!Object>} Iterable of next steps.\n",
              " */\n",
              "function* uploadFilesStep(inputId, outputId) {\n",
              "  const inputElement = document.getElementById(inputId);\n",
              "  inputElement.disabled = false;\n",
              "\n",
              "  const outputElement = document.getElementById(outputId);\n",
              "  outputElement.innerHTML = '';\n",
              "\n",
              "  const pickedPromise = new Promise((resolve) => {\n",
              "    inputElement.addEventListener('change', (e) => {\n",
              "      resolve(e.target.files);\n",
              "    });\n",
              "  });\n",
              "\n",
              "  const cancel = document.createElement('button');\n",
              "  inputElement.parentElement.appendChild(cancel);\n",
              "  cancel.textContent = 'Cancel upload';\n",
              "  const cancelPromise = new Promise((resolve) => {\n",
              "    cancel.onclick = () => {\n",
              "      resolve(null);\n",
              "    };\n",
              "  });\n",
              "\n",
              "  // Wait for the user to pick the files.\n",
              "  const files = yield {\n",
              "    promise: Promise.race([pickedPromise, cancelPromise]),\n",
              "    response: {\n",
              "      action: 'starting',\n",
              "    }\n",
              "  };\n",
              "\n",
              "  cancel.remove();\n",
              "\n",
              "  // Disable the input element since further picks are not allowed.\n",
              "  inputElement.disabled = true;\n",
              "\n",
              "  if (!files) {\n",
              "    return {\n",
              "      response: {\n",
              "        action: 'complete',\n",
              "      }\n",
              "    };\n",
              "  }\n",
              "\n",
              "  for (const file of files) {\n",
              "    const li = document.createElement('li');\n",
              "    li.append(span(file.name, {fontWeight: 'bold'}));\n",
              "    li.append(span(\n",
              "        `(${file.type || 'n/a'}) - ${file.size} bytes, ` +\n",
              "        `last modified: ${\n",
              "            file.lastModifiedDate ? file.lastModifiedDate.toLocaleDateString() :\n",
              "                                    'n/a'} - `));\n",
              "    const percent = span('0% done');\n",
              "    li.appendChild(percent);\n",
              "\n",
              "    outputElement.appendChild(li);\n",
              "\n",
              "    const fileDataPromise = new Promise((resolve) => {\n",
              "      const reader = new FileReader();\n",
              "      reader.onload = (e) => {\n",
              "        resolve(e.target.result);\n",
              "      };\n",
              "      reader.readAsArrayBuffer(file);\n",
              "    });\n",
              "    // Wait for the data to be ready.\n",
              "    let fileData = yield {\n",
              "      promise: fileDataPromise,\n",
              "      response: {\n",
              "        action: 'continue',\n",
              "      }\n",
              "    };\n",
              "\n",
              "    // Use a chunked sending to avoid message size limits. See b/62115660.\n",
              "    let position = 0;\n",
              "    do {\n",
              "      const length = Math.min(fileData.byteLength - position, MAX_PAYLOAD_SIZE);\n",
              "      const chunk = new Uint8Array(fileData, position, length);\n",
              "      position += length;\n",
              "\n",
              "      const base64 = btoa(String.fromCharCode.apply(null, chunk));\n",
              "      yield {\n",
              "        response: {\n",
              "          action: 'append',\n",
              "          file: file.name,\n",
              "          data: base64,\n",
              "        },\n",
              "      };\n",
              "\n",
              "      let percentDone = fileData.byteLength === 0 ?\n",
              "          100 :\n",
              "          Math.round((position / fileData.byteLength) * 100);\n",
              "      percent.textContent = `${percentDone}% done`;\n",
              "\n",
              "    } while (position < fileData.byteLength);\n",
              "  }\n",
              "\n",
              "  // All done.\n",
              "  yield {\n",
              "    response: {\n",
              "      action: 'complete',\n",
              "    }\n",
              "  };\n",
              "}\n",
              "\n",
              "scope.google = scope.google || {};\n",
              "scope.google.colab = scope.google.colab || {};\n",
              "scope.google.colab._files = {\n",
              "  _uploadFiles,\n",
              "  _uploadFilesContinue,\n",
              "};\n",
              "})(self);\n",
              "</script> "
            ]
          },
          "metadata": {}
        },
        {
          "output_type": "stream",
          "name": "stdout",
          "text": [
            "Saving spark_nlp_for_healthcare_spark_ocr_7139.json to spark_nlp_for_healthcare_spark_ocr_7139.json\n"
          ]
        }
      ]
    },
    {
      "cell_type": "code",
      "source": [
        "from johnsnowlabs import nlp\n",
        "\n",
        "nlp.install()"
      ],
      "metadata": {
        "id": "NulWi4_f4GN5",
        "colab": {
          "base_uri": "https://localhost:8080/"
        },
        "outputId": "52594413-920e-4204-d737-585884d43f3e"
      },
      "execution_count": 3,
      "outputs": [
        {
          "output_type": "stream",
          "name": "stdout",
          "text": [
            "👌 Detected license file /content/spark_nlp_for_healthcare_spark_ocr_7139.json\n",
            "🚨 Outdated OCR Secrets in license file. Version=5.1.0 but should be Version=5.0.2\n",
            "📋 Stored John Snow Labs License in /root/.johnsnowlabs/licenses/license_number_0_for_Spark-Healthcare_Spark-OCR.json\n",
            "👷 Setting up  John Snow Labs home in /root/.johnsnowlabs, this might take a few minutes.\n",
            "Downloading 🐍+🚀 Python Library spark_nlp-5.1.4-py2.py3-none-any.whl\n",
            "Downloading 🐍+💊 Python Library spark_nlp_jsl-5.1.3-py3-none-any.whl\n",
            "Downloading 🫘+🚀 Java Library spark-nlp-assembly-5.1.4.jar\n",
            "Downloading 🫘+💊 Java Library spark-nlp-jsl-5.1.3.jar\n",
            "🙆 JSL Home setup in /root/.johnsnowlabs\n",
            "👌 Detected license file /content/spark_nlp_for_healthcare_spark_ocr_7139.json\n",
            "Installing /root/.johnsnowlabs/py_installs/spark_nlp_jsl-5.1.3-py3-none-any.whl to /usr/bin/python3\n",
            "Installed 1 products:\n",
            "💊 Spark-Healthcare==5.1.3 installed! ✅ Heal the planet with NLP! \n"
          ]
        }
      ]
    },
    {
      "cell_type": "code",
      "source": [
        "from johnsnowlabs import nlp, medical\n",
        "import pyspark.sql.functions as F\n",
        "import pandas as pd\n",
        "\n",
        "spark = nlp.start()"
      ],
      "metadata": {
        "id": "2GLXxe1Q0Iln",
        "colab": {
          "base_uri": "https://localhost:8080/"
        },
        "outputId": "8a4348d7-73f6-4449-a3ef-a0c9a5374e73"
      },
      "execution_count": 4,
      "outputs": [
        {
          "output_type": "stream",
          "name": "stdout",
          "text": [
            "👌 Detected license file /content/spark_nlp_for_healthcare_spark_ocr_7139.json\n",
            "👌 Launched \u001b[92mcpu optimized\u001b[39m session with with: 🚀Spark-NLP==5.1.4, 💊Spark-Healthcare==5.1.3, running on ⚡ PySpark==3.1.2\n"
          ]
        }
      ]
    },
    {
      "cell_type": "markdown",
      "source": [
        "## **🖨️ Input/Output Annotation Types**"
      ],
      "metadata": {
        "id": "9Fbbk1bqcuA5"
      }
    },
    {
      "cell_type": "markdown",
      "source": [
        "- Input: `CHUNK`\n",
        "\n",
        "- Output: `CHUNK`"
      ],
      "metadata": {
        "id": "0yFIrr5acsiU"
      }
    },
    {
      "cell_type": "markdown",
      "source": [
        "## **🔎 Parameters**\n"
      ],
      "metadata": {
        "id": "AZZA_Qe-sWRd"
      }
    },
    {
      "cell_type": "markdown",
      "source": [
        "- `anchorDateYear`: (Int) Sets an anchor year for the relative dates such as a day after tomorrow. If not set it will use the current year.\n",
        "\n",
        "- `anchorDateMonth`: (Int) Sets an anchor month for the relative dates such as a day after tomorrow. If not set it will use the current month.\n",
        "\n",
        "- `anchorDateDay`: (Int) Sets an anchor day of the day for the relative dates such as a day after tomorrow. If not set it will use the current day.\n",
        "\n",
        "- `outputDateformat`: (string) Select what output format to use. If not set, the dates will be formatted as  `YYYY/MM/DD`. Options are:\n",
        "  - `eu`: Format the dates as `DD/MM/YYYY`\n",
        "  - `us`: Format the dates as `MM/DD/YYYY`\n",
        "\n",
        "- `defaultReplacementDay`: (Int) Defines which value to use for creating the Day Value when original Date-Entity has no Day Information. Defaults to 15.\n",
        "\n",
        "- `defaultReplacementMonth`: (Int) Defines which value to use for creating the Month Value when original Date-Entity has no Month Information. Defaults to 06.\n",
        "\n",
        "- `defaultReplacementYear`: (Int) Defines which value to use for creating the Year Value when original Date-Entity has no Year Information. Defaults to 2020."
      ],
      "metadata": {
        "id": "HO-NDwbFsZlP"
      }
    },
    {
      "cell_type": "markdown",
      "source": [
        "### `setAnchorDateYear()`\n",
        "\n"
      ],
      "metadata": {
        "id": "H-WyazzotqfV"
      }
    },
    {
      "cell_type": "markdown",
      "source": [
        "Add an anchor year for the relative dates such as a day after tomorrow (Default: -1). If it is not set, the by default it will use the current year. Example: 2000"
      ],
      "metadata": {
        "id": "wp9i1Nhjtxk5"
      }
    },
    {
      "cell_type": "code",
      "execution_count": 5,
      "metadata": {
        "id": "nk6DybMBpwsA"
      },
      "outputs": [],
      "source": [
        "dates = [\n",
        "    \"08/02/2018\",\n",
        "    \"11/2018\",\n",
        "    \"11/01/2018\",\n",
        "    \"12Mar2021\",\n",
        "    \"Jan 30, 2018\",\n",
        "    \"13.04.1999\",\n",
        "    \"3April 2020\",\n",
        "    \"next monday\",\n",
        "    \"today\",\n",
        "    \"next week\",\n",
        "    '08/02',\n",
        "    '11/2018',\n",
        "    '03/2021',\n",
        "    '05 Jan',\n",
        "    '01/05',\n",
        "    '2022'\n",
        "]\n",
        "\n",
        "df = spark.createDataFrame(dates, F.StringType()).toDF(\"original_date\")"
      ]
    },
    {
      "cell_type": "code",
      "source": [
        "df.show()"
      ],
      "metadata": {
        "colab": {
          "base_uri": "https://localhost:8080/"
        },
        "id": "08MABhvmuP_n",
        "outputId": "1fc48312-208e-460a-83bc-af1844521fc8"
      },
      "execution_count": 6,
      "outputs": [
        {
          "output_type": "stream",
          "name": "stdout",
          "text": [
            "+-------------+\n",
            "|original_date|\n",
            "+-------------+\n",
            "|   08/02/2018|\n",
            "|      11/2018|\n",
            "|   11/01/2018|\n",
            "|    12Mar2021|\n",
            "| Jan 30, 2018|\n",
            "|   13.04.1999|\n",
            "|  3April 2020|\n",
            "|  next monday|\n",
            "|        today|\n",
            "|    next week|\n",
            "|        08/02|\n",
            "|      11/2018|\n",
            "|      03/2021|\n",
            "|       05 Jan|\n",
            "|        01/05|\n",
            "|         2022|\n",
            "+-------------+\n",
            "\n"
          ]
        }
      ]
    },
    {
      "cell_type": "code",
      "source": [
        "document_assembler = nlp.DocumentAssembler()\\\n",
        "    .setInputCol(\"original_date\")\\\n",
        "    .setOutputCol(\"document\")\n",
        "\n",
        "doc2chunk = nlp.Doc2Chunk()\\\n",
        "    .setInputCols(\"document\")\\\n",
        "    .setOutputCol(\"date_chunk\")\n",
        "\n",
        "date_normalizer = medical.DateNormalizer()\\\n",
        "    .setInputCols(\"date_chunk\")\\\n",
        "    .setOutputCol(\"date\")\\\n",
        "    .setAnchorDateYear(2000)\n",
        "\n",
        "pipeline = nlp.Pipeline(stages=[document_assembler, doc2chunk, date_normalizer])"
      ],
      "metadata": {
        "id": "kSu1Q56QuSAm"
      },
      "execution_count": 9,
      "outputs": []
    },
    {
      "cell_type": "code",
      "source": [
        "result = pipeline.fit(df).transform(df)\n",
        "\n",
        "result.selectExpr(\n",
        "    \"original_date\",\n",
        "    \"date.result as normalized_date\"\n",
        ").show()"
      ],
      "metadata": {
        "colab": {
          "base_uri": "https://localhost:8080/"
        },
        "id": "vwm1ForAu4O8",
        "outputId": "bb3a372f-8080-430a-bdb2-73bc74d53849"
      },
      "execution_count": 10,
      "outputs": [
        {
          "output_type": "stream",
          "name": "stdout",
          "text": [
            "+-------------+---------------+\n",
            "|original_date|normalized_date|\n",
            "+-------------+---------------+\n",
            "|   08/02/2018|   [2018/08/02]|\n",
            "|      11/2018|   [2018/11/15]|\n",
            "|   11/01/2018|   [2018/11/01]|\n",
            "|    12Mar2021|   [2021/03/12]|\n",
            "| Jan 30, 2018|   [2018/01/30]|\n",
            "|   13.04.1999|   [1999/04/13]|\n",
            "|  3April 2020|   [2020/04/03]|\n",
            "|  next monday|   [2000/11/27]|\n",
            "|        today|   [2000/11/21]|\n",
            "|    next week|   [2000/11/28]|\n",
            "|        08/02|   [2020/08/02]|\n",
            "|      11/2018|   [2018/11/15]|\n",
            "|      03/2021|   [2021/03/15]|\n",
            "|       05 Jan|   [2020/01/05]|\n",
            "|        01/05|   [2020/01/05]|\n",
            "|         2022|   [2022/06/15]|\n",
            "+-------------+---------------+\n",
            "\n"
          ]
        }
      ]
    },
    {
      "cell_type": "markdown",
      "source": [
        "### `setAnchorDateMonth()`"
      ],
      "metadata": {
        "id": "7lxU_r7-ahBo"
      }
    },
    {
      "cell_type": "markdown",
      "source": [
        "Add an anchor month for the relative dates such as a day after tomorrow. By default it will use the current month. Month values start from 1, so 1 stands for January."
      ],
      "metadata": {
        "id": "R3YXdVC6e45J"
      }
    },
    {
      "cell_type": "code",
      "source": [
        "document_assembler = nlp.DocumentAssembler()\\\n",
        "    .setInputCol(\"original_date\")\\\n",
        "    .setOutputCol(\"document\")\n",
        "\n",
        "doc2chunk = nlp.Doc2Chunk()\\\n",
        "    .setInputCols(\"document\")\\\n",
        "    .setOutputCol(\"date_chunk\")\n",
        "\n",
        "date_normalizer = medical.DateNormalizer()\\\n",
        "    .setInputCols(\"date_chunk\")\\\n",
        "    .setOutputCol(\"date\")\\\n",
        "    .setAnchorDateYear(2000)\\\n",
        "    .setAnchorDateMonth(3)\n",
        "\n",
        "pipeline = nlp.Pipeline(stages=[document_assembler, doc2chunk, date_normalizer])"
      ],
      "metadata": {
        "id": "-ct9DfGMvBfG"
      },
      "execution_count": 11,
      "outputs": []
    },
    {
      "cell_type": "code",
      "source": [
        "result = pipeline.fit(df).transform(df)\n",
        "\n",
        "result.selectExpr(\n",
        "    \"original_date\",\n",
        "    \"date.result as normalized_date\"\n",
        ").show()"
      ],
      "metadata": {
        "colab": {
          "base_uri": "https://localhost:8080/"
        },
        "id": "gQ_bHXoGeyNW",
        "outputId": "b7747288-f1a7-4a52-fa68-0e97b59bfbfc"
      },
      "execution_count": 12,
      "outputs": [
        {
          "output_type": "stream",
          "name": "stdout",
          "text": [
            "+-------------+---------------+\n",
            "|original_date|normalized_date|\n",
            "+-------------+---------------+\n",
            "|   08/02/2018|   [2018/08/02]|\n",
            "|      11/2018|   [2018/11/15]|\n",
            "|   11/01/2018|   [2018/11/01]|\n",
            "|    12Mar2021|   [2021/03/12]|\n",
            "| Jan 30, 2018|   [2018/01/30]|\n",
            "|   13.04.1999|   [1999/04/13]|\n",
            "|  3April 2020|   [2020/04/03]|\n",
            "|  next monday|   [2000/03/27]|\n",
            "|        today|   [2000/03/21]|\n",
            "|    next week|   [2000/03/28]|\n",
            "|        08/02|   [2020/08/02]|\n",
            "|      11/2018|   [2018/11/15]|\n",
            "|      03/2021|   [2021/03/15]|\n",
            "|       05 Jan|   [2020/01/05]|\n",
            "|        01/05|   [2020/01/05]|\n",
            "|         2022|   [2022/06/15]|\n",
            "+-------------+---------------+\n",
            "\n"
          ]
        }
      ]
    },
    {
      "cell_type": "markdown",
      "source": [
        "### `setAnchorDateDay()`"
      ],
      "metadata": {
        "id": "6JxoFo6NfC8p"
      }
    },
    {
      "cell_type": "markdown",
      "source": [
        "Add an anchor day for the relative dates such as a day after tomorrow. By default it will use the current day. The first day of the month has value 1."
      ],
      "metadata": {
        "id": "ng0axr48fJ-X"
      }
    },
    {
      "cell_type": "code",
      "source": [
        "document_assembler = nlp.DocumentAssembler()\\\n",
        "    .setInputCol(\"original_date\")\\\n",
        "    .setOutputCol(\"document\")\n",
        "\n",
        "doc2chunk = nlp.Doc2Chunk()\\\n",
        "    .setInputCols(\"document\")\\\n",
        "    .setOutputCol(\"date_chunk\")\n",
        "\n",
        "date_normalizer = medical.DateNormalizer()\\\n",
        "    .setInputCols(\"date_chunk\")\\\n",
        "    .setOutputCol(\"date\")\\\n",
        "    .setAnchorDateYear(2000)\\\n",
        "    .setAnchorDateMonth(3)\\\n",
        "    .setAnchorDateDay(15)\n",
        "\n",
        "pipeline = nlp.Pipeline(stages=[document_assembler, doc2chunk, date_normalizer])"
      ],
      "metadata": {
        "id": "MoM4_-EHe0zo"
      },
      "execution_count": 13,
      "outputs": []
    },
    {
      "cell_type": "code",
      "source": [
        "result = pipeline.fit(df).transform(df)\n",
        "\n",
        "result.selectExpr(\n",
        "    \"original_date\",\n",
        "    \"date.result as normalized_date\"\n",
        ").show()"
      ],
      "metadata": {
        "colab": {
          "base_uri": "https://localhost:8080/"
        },
        "id": "Hil2eI5nfJWc",
        "outputId": "15252401-27d0-4d60-de12-88b5699b5eed"
      },
      "execution_count": 14,
      "outputs": [
        {
          "output_type": "stream",
          "name": "stdout",
          "text": [
            "+-------------+---------------+\n",
            "|original_date|normalized_date|\n",
            "+-------------+---------------+\n",
            "|   08/02/2018|   [2018/08/02]|\n",
            "|      11/2018|   [2018/11/15]|\n",
            "|   11/01/2018|   [2018/11/01]|\n",
            "|    12Mar2021|   [2021/03/12]|\n",
            "| Jan 30, 2018|   [2018/01/30]|\n",
            "|   13.04.1999|   [1999/04/13]|\n",
            "|  3April 2020|   [2020/04/03]|\n",
            "|  next monday|   [2000/03/20]|\n",
            "|        today|   [2000/03/15]|\n",
            "|    next week|   [2000/03/22]|\n",
            "|        08/02|   [2020/08/02]|\n",
            "|      11/2018|   [2018/11/15]|\n",
            "|      03/2021|   [2021/03/15]|\n",
            "|       05 Jan|   [2020/01/05]|\n",
            "|        01/05|   [2020/01/05]|\n",
            "|         2022|   [2022/06/15]|\n",
            "+-------------+---------------+\n",
            "\n"
          ]
        }
      ]
    },
    {
      "cell_type": "markdown",
      "source": [
        "### `setOutputDateformat()`"
      ],
      "metadata": {
        "id": "RpmZzhcPf01j"
      }
    },
    {
      "cell_type": "markdown",
      "source": [
        "Select what output format to use. If not set, the dates will be formatted as  `YYYY/MM/DD`. Options are:\n",
        "  - `eu`: Format the dates as `DD/MM/YYYY`\n",
        "  - `us`: Format the dates as `MM/DD/YYYY`"
      ],
      "metadata": {
        "id": "javOZ_7ygY0P"
      }
    },
    {
      "cell_type": "code",
      "source": [
        "document_assembler = nlp.DocumentAssembler()\\\n",
        "    .setInputCol(\"original_date\")\\\n",
        "    .setOutputCol(\"document\")\n",
        "\n",
        "doc2chunk = nlp.Doc2Chunk()\\\n",
        "    .setInputCols(\"document\")\\\n",
        "    .setOutputCol(\"date_chunk\")\n",
        "\n",
        "date_normalizer = medical.DateNormalizer()\\\n",
        "    .setInputCols(\"date_chunk\")\\\n",
        "    .setOutputCol(\"date\")\\\n",
        "    .setOutputDateformat('eu')\n",
        "\n",
        "pipeline = nlp.Pipeline(stages=[document_assembler, doc2chunk, date_normalizer])"
      ],
      "metadata": {
        "id": "vmaE9Sx8goWA"
      },
      "execution_count": 15,
      "outputs": []
    },
    {
      "cell_type": "code",
      "source": [
        "result = pipeline.fit(df).transform(df)\n",
        "\n",
        "result.selectExpr(\n",
        "    \"original_date\",\n",
        "    \"date.result as normalized_date\"\n",
        ").show()"
      ],
      "metadata": {
        "colab": {
          "base_uri": "https://localhost:8080/"
        },
        "id": "dp2VWOnmhRQB",
        "outputId": "d3e3891b-2d79-47d5-e51e-4b862b68cf68"
      },
      "execution_count": 16,
      "outputs": [
        {
          "output_type": "stream",
          "name": "stdout",
          "text": [
            "+-------------+---------------+\n",
            "|original_date|normalized_date|\n",
            "+-------------+---------------+\n",
            "|   08/02/2018|   [02/08/2018]|\n",
            "|      11/2018|   [15/11/2018]|\n",
            "|   11/01/2018|   [01/11/2018]|\n",
            "|    12Mar2021|   [12/03/2021]|\n",
            "| Jan 30, 2018|   [30/01/2018]|\n",
            "|   13.04.1999|   [13/04/1999]|\n",
            "|  3April 2020|   [03/04/2020]|\n",
            "|  next monday|   [27/11/2023]|\n",
            "|        today|   [21/11/2023]|\n",
            "|    next week|   [28/11/2023]|\n",
            "|        08/02|   [02/08/2020]|\n",
            "|      11/2018|   [15/11/2018]|\n",
            "|      03/2021|   [15/03/2021]|\n",
            "|       05 Jan|   [05/01/2020]|\n",
            "|        01/05|   [05/01/2020]|\n",
            "|         2022|   [15/06/2022]|\n",
            "+-------------+---------------+\n",
            "\n"
          ]
        }
      ]
    },
    {
      "cell_type": "markdown",
      "source": [
        "Now setting it to `us`:"
      ],
      "metadata": {
        "id": "6HSOuZXDAfmY"
      }
    },
    {
      "cell_type": "code",
      "source": [
        "date_normalizer = medical.DateNormalizer()\\\n",
        "    .setInputCols(\"date_chunk\")\\\n",
        "    .setOutputCol(\"date\")\\\n",
        "    .setOutputDateformat('us')\n",
        "\n",
        "pipeline = nlp.Pipeline(stages=[document_assembler, doc2chunk, date_normalizer])\n",
        "result = pipeline.fit(df).transform(df)\n",
        "\n",
        "result.selectExpr(\n",
        "    \"original_date\",\n",
        "    \"date.result as normalized_date\"\n",
        ").show()"
      ],
      "metadata": {
        "colab": {
          "base_uri": "https://localhost:8080/"
        },
        "id": "1dwt9GsPAfMk",
        "outputId": "3d61221a-7d4b-43a5-d754-aaab0adae1ca"
      },
      "execution_count": 18,
      "outputs": [
        {
          "output_type": "stream",
          "name": "stdout",
          "text": [
            "+-------------+---------------+\n",
            "|original_date|normalized_date|\n",
            "+-------------+---------------+\n",
            "|   08/02/2018|   [08/02/2018]|\n",
            "|      11/2018|   [11/15/2018]|\n",
            "|   11/01/2018|   [11/01/2018]|\n",
            "|    12Mar2021|   [03/12/2021]|\n",
            "| Jan 30, 2018|   [01/30/2018]|\n",
            "|   13.04.1999|   [04/13/1999]|\n",
            "|  3April 2020|   [04/03/2020]|\n",
            "|  next monday|   [11/27/2023]|\n",
            "|        today|   [11/21/2023]|\n",
            "|    next week|   [11/28/2023]|\n",
            "|        08/02|   [08/02/2020]|\n",
            "|      11/2018|   [11/15/2018]|\n",
            "|      03/2021|   [03/15/2021]|\n",
            "|       05 Jan|   [01/05/2020]|\n",
            "|        01/05|   [01/05/2020]|\n",
            "|         2022|   [06/15/2022]|\n",
            "+-------------+---------------+\n",
            "\n"
          ]
        }
      ]
    },
    {
      "cell_type": "markdown",
      "source": [
        "### `setDefaultReplacementYear()`"
      ],
      "metadata": {
        "id": "pNmQ8J0sfi66"
      }
    },
    {
      "cell_type": "markdown",
      "source": [
        "Defines which value to use for creating the Year Value when original Date-Entity has no Day Information. Defaults to 2020."
      ],
      "metadata": {
        "id": "iBUYQrY0gOhj"
      }
    },
    {
      "cell_type": "code",
      "source": [
        "document_assembler = nlp.DocumentAssembler()\\\n",
        "    .setInputCol(\"original_date\")\\\n",
        "    .setOutputCol(\"document\")\n",
        "\n",
        "doc2chunk = nlp.Doc2Chunk()\\\n",
        "    .setInputCols(\"document\")\\\n",
        "    .setOutputCol(\"date_chunk\")\n",
        "\n",
        "date_normalizer = medical.DateNormalizer()\\\n",
        "    .setInputCols(\"date_chunk\")\\\n",
        "    .setOutputCol(\"date\")\\\n",
        "    .setOutputDateformat('eu')\\\n",
        "    .setDefaultReplacementYear(2020)\n",
        "\n",
        "pipeline = nlp.Pipeline(stages=[document_assembler, doc2chunk, date_normalizer])"
      ],
      "metadata": {
        "id": "f_fdm2hahkmJ"
      },
      "execution_count": 19,
      "outputs": []
    },
    {
      "cell_type": "code",
      "source": [
        "result = pipeline.fit(df).transform(df)\n",
        "\n",
        "result.selectExpr(\n",
        "    \"original_date\",\n",
        "    \"date.result as normalized_date\"\n",
        ").show()"
      ],
      "metadata": {
        "colab": {
          "base_uri": "https://localhost:8080/"
        },
        "id": "b6gADd1PhkYK",
        "outputId": "9a798fa8-221b-4e43-fc80-c0f3ea77900f"
      },
      "execution_count": 20,
      "outputs": [
        {
          "output_type": "stream",
          "name": "stdout",
          "text": [
            "+-------------+---------------+\n",
            "|original_date|normalized_date|\n",
            "+-------------+---------------+\n",
            "|   08/02/2018|   [02/08/2018]|\n",
            "|      11/2018|   [15/11/2018]|\n",
            "|   11/01/2018|   [01/11/2018]|\n",
            "|    12Mar2021|   [12/03/2021]|\n",
            "| Jan 30, 2018|   [30/01/2018]|\n",
            "|   13.04.1999|   [13/04/1999]|\n",
            "|  3April 2020|   [03/04/2020]|\n",
            "|  next monday|   [27/11/2023]|\n",
            "|        today|   [21/11/2023]|\n",
            "|    next week|   [28/11/2023]|\n",
            "|        08/02|   [02/08/2020]|\n",
            "|      11/2018|   [15/11/2018]|\n",
            "|      03/2021|   [15/03/2021]|\n",
            "|       05 Jan|   [05/01/2020]|\n",
            "|        01/05|   [05/01/2020]|\n",
            "|         2022|   [15/06/2022]|\n",
            "+-------------+---------------+\n",
            "\n"
          ]
        }
      ]
    },
    {
      "cell_type": "markdown",
      "source": [
        "### `setDefaultReplacementMonth()`"
      ],
      "metadata": {
        "id": "dCMm5XelftFT"
      }
    },
    {
      "cell_type": "markdown",
      "source": [
        "\n",
        "Defines which value to use for creating the Month Value when original Date-Entity has no Day Information. Defaults to 6."
      ],
      "metadata": {
        "id": "FU-H0R4Hg-vK"
      }
    },
    {
      "cell_type": "code",
      "source": [
        "document_assembler = nlp.DocumentAssembler()\\\n",
        "    .setInputCol(\"original_date\")\\\n",
        "    .setOutputCol(\"document\")\n",
        "\n",
        "doc2chunk = nlp.Doc2Chunk()\\\n",
        "    .setInputCols(\"document\")\\\n",
        "    .setOutputCol(\"date_chunk\")\n",
        "\n",
        "date_normalizer = medical.DateNormalizer()\\\n",
        "    .setInputCols(\"date_chunk\")\\\n",
        "    .setOutputCol(\"date\")\\\n",
        "    .setOutputDateformat('eu')\\\n",
        "    .setDefaultReplacementYear(2020)\\\n",
        "    .setDefaultReplacementMonth(3)\n",
        "\n",
        "pipeline = nlp.Pipeline(stages=[document_assembler, doc2chunk, date_normalizer])"
      ],
      "metadata": {
        "id": "DqjcKu_NiRJ3"
      },
      "execution_count": 21,
      "outputs": []
    },
    {
      "cell_type": "code",
      "source": [
        "result = pipeline.fit(df).transform(df)\n",
        "\n",
        "result.selectExpr(\n",
        "    \"original_date\",\n",
        "    \"date.result as normalized_date\"\n",
        ").show()"
      ],
      "metadata": {
        "colab": {
          "base_uri": "https://localhost:8080/"
        },
        "id": "hwthW26uiWXB",
        "outputId": "a2dd7aab-6846-49a6-f9c8-55e5ace84e5c"
      },
      "execution_count": 22,
      "outputs": [
        {
          "output_type": "stream",
          "name": "stdout",
          "text": [
            "+-------------+---------------+\n",
            "|original_date|normalized_date|\n",
            "+-------------+---------------+\n",
            "|   08/02/2018|   [02/08/2018]|\n",
            "|      11/2018|   [15/11/2018]|\n",
            "|   11/01/2018|   [01/11/2018]|\n",
            "|    12Mar2021|   [12/03/2021]|\n",
            "| Jan 30, 2018|   [30/01/2018]|\n",
            "|   13.04.1999|   [13/04/1999]|\n",
            "|  3April 2020|   [03/04/2020]|\n",
            "|  next monday|   [27/11/2023]|\n",
            "|        today|   [21/11/2023]|\n",
            "|    next week|   [28/11/2023]|\n",
            "|        08/02|   [02/08/2020]|\n",
            "|      11/2018|   [15/11/2018]|\n",
            "|      03/2021|   [15/03/2021]|\n",
            "|       05 Jan|   [05/01/2020]|\n",
            "|        01/05|   [05/01/2020]|\n",
            "|         2022|   [15/03/2022]|\n",
            "+-------------+---------------+\n",
            "\n"
          ]
        }
      ]
    },
    {
      "cell_type": "markdown",
      "source": [
        "### `setDefaultReplacementDay()`"
      ],
      "metadata": {
        "id": "ztpMszf6fyGq"
      }
    },
    {
      "cell_type": "markdown",
      "source": [
        "Defines which value to use for creating the Day Value when original Date-Entity has no Day Information. Defaults to 15."
      ],
      "metadata": {
        "id": "YyFyzcTGhEsK"
      }
    },
    {
      "cell_type": "code",
      "source": [
        "document_assembler = nlp.DocumentAssembler()\\\n",
        "    .setInputCol(\"original_date\")\\\n",
        "    .setOutputCol(\"document\")\n",
        "\n",
        "doc2chunk = nlp.Doc2Chunk()\\\n",
        "    .setInputCols(\"document\")\\\n",
        "    .setOutputCol(\"date_chunk\")\n",
        "\n",
        "date_normalizer = medical.DateNormalizer()\\\n",
        "    .setInputCols(\"date_chunk\")\\\n",
        "    .setOutputCol(\"date\")\\\n",
        "    .setOutputDateformat('eu')\\\n",
        "    .setDefaultReplacementYear(2020)\\\n",
        "    .setDefaultReplacementMonth(3)\\\n",
        "    .setDefaultReplacementDay(2)\n",
        "\n",
        "pipeline = nlp.Pipeline(stages=[document_assembler, doc2chunk, date_normalizer])"
      ],
      "metadata": {
        "id": "vmYx1oV8iZEd"
      },
      "execution_count": 23,
      "outputs": []
    },
    {
      "cell_type": "code",
      "source": [
        "result = pipeline.fit(df).transform(df)\n",
        "\n",
        "result.selectExpr(\n",
        "    \"original_date\",\n",
        "    \"date.result as normalized_date\"\n",
        ").show()"
      ],
      "metadata": {
        "colab": {
          "base_uri": "https://localhost:8080/"
        },
        "id": "0oT8U8tjicmb",
        "outputId": "65a89146-4226-4df5-f141-0bdbd70229b5"
      },
      "execution_count": 24,
      "outputs": [
        {
          "output_type": "stream",
          "name": "stdout",
          "text": [
            "+-------------+---------------+\n",
            "|original_date|normalized_date|\n",
            "+-------------+---------------+\n",
            "|   08/02/2018|   [02/08/2018]|\n",
            "|      11/2018|   [02/11/2018]|\n",
            "|   11/01/2018|   [01/11/2018]|\n",
            "|    12Mar2021|   [12/03/2021]|\n",
            "| Jan 30, 2018|   [30/01/2018]|\n",
            "|   13.04.1999|   [13/04/1999]|\n",
            "|  3April 2020|   [03/04/2020]|\n",
            "|  next monday|   [27/11/2023]|\n",
            "|        today|   [21/11/2023]|\n",
            "|    next week|   [28/11/2023]|\n",
            "|        08/02|   [02/08/2020]|\n",
            "|      11/2018|   [02/11/2018]|\n",
            "|      03/2021|   [02/03/2021]|\n",
            "|       05 Jan|   [05/01/2020]|\n",
            "|        01/05|   [05/01/2020]|\n",
            "|         2022|   [02/03/2022]|\n",
            "+-------------+---------------+\n",
            "\n"
          ]
        }
      ]
    },
    {
      "cell_type": "code",
      "source": [],
      "metadata": {
        "id": "abwBn7ErAyR7"
      },
      "execution_count": null,
      "outputs": []
    }
  ]
}
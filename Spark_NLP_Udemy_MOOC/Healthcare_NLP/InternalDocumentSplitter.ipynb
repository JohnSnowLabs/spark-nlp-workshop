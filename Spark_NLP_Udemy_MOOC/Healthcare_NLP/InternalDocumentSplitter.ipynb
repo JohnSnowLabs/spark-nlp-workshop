{
  "nbformat": 4,
  "nbformat_minor": 0,
  "metadata": {
    "colab": {
      "provenance": [],
      "machine_shape": "hm"
    },
    "kernelspec": {
      "name": "python3",
      "display_name": "Python 3"
    },
    "language_info": {
      "name": "python"
    }
  },
  "cells": [
    {
      "cell_type": "markdown",
      "source": [
        "![JohnSnowLabs](https://nlp.johnsnowlabs.com/assets/images/logo.png)"
      ],
      "metadata": {
        "id": "8V_Ow3cAVEYe"
      }
    },
    {
      "cell_type": "markdown",
      "source": [
        "# **InternalDocumentSplitter**"
      ],
      "metadata": {
        "id": "Y0fJRpNJBslT"
      }
    },
    {
      "cell_type": "markdown",
      "source": [
        "This notebook covers the uses of `InternalDocumentSplitter`. This annotator specifically target to split documents into relevant sections.\n",
        "\n",
        "\n",
        "\n",
        "\n",
        "**📖 Learning Objectives:**\n",
        "\n",
        "1. Understand how `InternalDocumentSplitter` works.\n",
        "\n",
        "2. Become comfortable using the parameters of the annotator.\n",
        "\n",
        "\n",
        "**🔗 Helpful Links:**\n",
        "\n",
        "- Documentation : [InternalDocumentSplitter](https://nlp.johnsnowlabs.com/docs/en/licensed_annotators#internaldocumentsplitter)\n",
        "\n",
        "\n",
        "- For extended examples of usage, see [Spark NLP Workshop repository](https://colab.research.google.com/github/JohnSnowLabs/spark-nlp-workshop/blob/master/tutorials/Certification_Trainings/Healthcare/38.InternalDocumentSplitter.ipynb).\n"
      ],
      "metadata": {
        "id": "qeclGJmrVLjX"
      }
    },
    {
      "cell_type": "markdown",
      "source": [
        "## **📜 Background**"
      ],
      "metadata": {
        "id": "OV0hPSCWXslc"
      }
    },
    {
      "cell_type": "markdown",
      "source": [
        "This Annotator splits large documents into small documents. `InternalDocumentSplitter` has setSplitMode method to decide how to split documents.\n",
        "\n",
        "If splitMode is `recursive`, It takes the separators in order and splits subtexts if they are over the chunk length, considering optional overlap of the chunks.\n",
        "\n",
        "Additionally, you can set\n",
        "- custom patterns with setSplitPatterns\n",
        "- whether patterns should be interpreted as regex with setPatternsAreRegex\n",
        "- whether to keep the separators with setKeepSeparators\n",
        "- whether to trim whitespaces with setTrimWhitespace\n",
        "- whether to explode the splits to individual rows with setExplodeSplits"
      ],
      "metadata": {
        "id": "_-hGkZ7_cAZE"
      }
    },
    {
      "cell_type": "markdown",
      "source": [
        "## **🎬 Colab Setup**"
      ],
      "metadata": {
        "id": "E8qy2MI2XySv"
      }
    },
    {
      "cell_type": "code",
      "execution_count": null,
      "metadata": {
        "id": "HuLFt0OdBkuo"
      },
      "outputs": [],
      "source": [
        "# Install the johnsnowlabs library to access Spark-OCR and Spark-NLP for Healthcare, Finance, and Legal.\n",
        "! pip install -q johnsnowlabs"
      ]
    },
    {
      "cell_type": "code",
      "source": [
        "from google.colab import files\n",
        "print('Please Upload your John Snow Labs License using the button below')\n",
        "license_keys = files.upload()"
      ],
      "metadata": {
        "id": "HJGAUiIqBI94"
      },
      "execution_count": null,
      "outputs": []
    },
    {
      "cell_type": "code",
      "source": [
        "from johnsnowlabs import nlp, medical\n",
        "\n",
        "# After uploading your license run this to install all licensed Python Wheels and pre-download Jars the Spark Session JVM\n",
        "nlp.install()"
      ],
      "metadata": {
        "id": "SBhRUP21BI7R"
      },
      "execution_count": null,
      "outputs": []
    },
    {
      "cell_type": "code",
      "source": [
        "from johnsnowlabs import nlp, medical\n",
        "import pandas as pd\n",
        "\n",
        "# Automatically load license data and start a session with all jars user has access to\n",
        "spark = nlp.start()"
      ],
      "metadata": {
        "id": "a_1HS4iCB5ie",
        "colab": {
          "base_uri": "https://localhost:8080/"
        },
        "outputId": "7fb06ba9-eb8a-4ff8-c9ae-fd8441010083"
      },
      "execution_count": null,
      "outputs": [
        {
          "output_type": "stream",
          "name": "stdout",
          "text": [
            "👌 Detected license file /content/spark_nlp_for_healthcare_spark_ocr_8744_521_4_530.json\n",
            "👌 Launched \u001b[92mcpu optimized\u001b[39m session with with: 🚀Spark-NLP==5.3.1, 💊Spark-Healthcare==5.3.0, running on ⚡ PySpark==3.4.0\n"
          ]
        }
      ]
    },
    {
      "cell_type": "code",
      "source": [
        "from pyspark.sql import DataFrame\n",
        "import pyspark.sql.functions as F\n",
        "import pyspark.sql.types as T\n",
        "import pyspark.sql as SQL\n",
        "from pyspark import keyword_only"
      ],
      "metadata": {
        "id": "dycus2LCBI4R"
      },
      "execution_count": null,
      "outputs": []
    },
    {
      "cell_type": "markdown",
      "source": [
        "## **🖨️ Input/Output Annotation Types**"
      ],
      "metadata": {
        "id": "f_4conOIYj6D"
      }
    },
    {
      "cell_type": "markdown",
      "source": [
        "- Input: `DOCUMENT`\n",
        "\n",
        "- Output: `DOCUMENT`\n",
        "\n",
        "Optionaly `TOKEN` and one more `DOCUMENT` (sentence) can be additional input."
      ],
      "metadata": {
        "id": "0Fc_3iRwYk8N"
      }
    },
    {
      "cell_type": "markdown",
      "source": [
        "## **🔎 Parameters**"
      ],
      "metadata": {
        "id": "rgCCuKLdepW9"
      }
    },
    {
      "cell_type": "markdown",
      "source": [
        "- `chunkSize`: Size of each chunk of text. This param is applicable only for \"recursive\" splitMode.\n",
        "- `chunkOverlap`: Length of the overlap between text chunks, by default `0`. This param is applicable only for `recursive` splitMode.\n",
        "- `splitPatterns`: Patterns to split the document.\n",
        "patternsAreRegex. Whether to interpret the split patterns as regular expressions, by default `True`.\n",
        "- `keepSeparators`: Whether to keep the separators in the final result , by default `True`. This param is applicable only for \"recursive\" splitMode.\n",
        "- `explodeSplits`: Whether to explode split chunks to separate rows , by default `False`.\n",
        "- `trimWhitespace`: Whether to trim whitespaces of extracted chunks , by default `True`.\n",
        "- `splitMode`: The split mode to determine how text should be segmented. Default: 'regex'. It should be one of the following values:\n",
        "  - \"char\": Split text based on individual characters.\n",
        "  - \"token\": Split text based on tokens. You should supply tokens from inputCols.\n",
        "  - \"sentence\": Split text based on sentences. You should supply sentences from inputCols.\n",
        "  - \"recursive\": Split text recursively using a specific algorithm.\n",
        "  - \"regex\": Split text based on a regular expression pattern.\n",
        "- `sentenceAwareness`: Whether to split the document by sentence awareness if possible.\n",
        "  - If true, it can stop the split process before maxLength.\n",
        "  - If true, you should supply sentences from inputCols. Default: `False`.\n",
        "  - This param is not applicable only for `regex` and `recursive` splitMode.\n",
        "- `maxLength`: The maximum length allowed for spitting. The mode in which the maximum length is specified:\n",
        "  - \"char\": Maximum length is measured in characters. Default: `512`\n",
        "  - \"token\": Maximum length is measured in tokens. Default: `128`\n",
        "  - \"sentence\": Maximum length is measured in sentences. Default: `8`\n",
        "- `customBoundsStrategy`: The custom bounds strategy for text splitting using regular expressions. This param is applicable only for `regex` splitMode.\n",
        "- `caseSensitive`: Whether to use case sensitive when matching regex, by default `False`. This param is applicable only for `regex` splitMode.\n",
        "-  `metaDataFields`: Metadata fields to add specified data in columns to the metadata of the split documents.         You should set column names to read columns.\n",
        "\n",
        "- `enableSentenceIncrement`: Whether the sentence index should be incremented in the metadata of the annotator.When set to true, the annotator will increment the sentence index in the metadata for each split documents. Default: `False`."
      ],
      "metadata": {
        "id": "Y4tqQGMsj1BQ"
      }
    },
    {
      "cell_type": "markdown",
      "source": [
        "## **💻 Pipeline**"
      ],
      "metadata": {
        "id": "pagXc73HWidS"
      }
    },
    {
      "cell_type": "markdown",
      "source": [
        "### `inputCols` and `outputCol`"
      ],
      "metadata": {
        "id": "_4YFqtNoSKLG"
      }
    },
    {
      "cell_type": "code",
      "source": [
        "text = \"\"\"(Medical Transcription Sample Report)\n",
        "\n",
        "PRESENT ILLNESS:\n",
        "Patient with hypertension, syncope, and spinal stenosis - for recheck.\n",
        "\n",
        "SUBJECTIVE:\n",
        "The patient is a 78-year-old female who returns for recheck. She has hypertension. She denies difficulty with chest pain, palpations, orthopnea, nocturnal dyspnea, or edema.\n",
        "\n",
        "MEDICAL HISTORY:\n",
        "Reviewed and unchanged from the dictation on 12/03/2003.\n",
        "\n",
        "MEDICATIONS:\n",
        "Atenolol 50 mg daily, Premarin 0.625 mg daily, calcium with vitamin D two to three pills daily, multivitamin daily, aspirin as needed, and TriViFlor 25 mg two pills daily.\n",
        "She also has Elocon cream 0.1% and Synalar cream 0.01% that she uses as needed for rash.\"\"\"\n",
        "\n",
        "textDF = spark.createDataFrame([[text]]).toDF(\"text\")"
      ],
      "metadata": {
        "id": "sZKRtor7c_eJ"
      },
      "execution_count": null,
      "outputs": []
    },
    {
      "cell_type": "code",
      "source": [
        "document_assembler = nlp.DocumentAssembler()\\\n",
        "    .setInputCol(\"text\")\\\n",
        "    .setOutputCol(\"document\")\n",
        "\n",
        "document_splitter = medical.InternalDocumentSplitter() \\\n",
        "    .setInputCols([\"document\"]) \\\n",
        "    .setOutputCol(\"splits\") \\\n",
        "    .setExplodeSplits(True) \\\n",
        "\n",
        "pipeline = nlp.Pipeline().setStages([\n",
        "    document_assembler,\n",
        "     document_splitter\n",
        "])\n",
        "\n",
        "pipeline = pipeline.fit(textDF).transform(textDF).select(\"splits\").show(truncate=False)"
      ],
      "metadata": {
        "colab": {
          "base_uri": "https://localhost:8080/"
        },
        "id": "D4NfqYfkrrn4",
        "outputId": "9ca1edb6-1591-4d66-b5f0-97d3e85a2f6f"
      },
      "execution_count": null,
      "outputs": [
        {
          "output_type": "stream",
          "name": "stdout",
          "text": [
            "+---------------------------------------------------------------------------------------------------------------------------------------------------------------------------------------------------------------------------------------------------------------------------------------------------------------------------------------------------------------------------------------------+\n",
            "|splits                                                                                                                                                                                                                                                                                                                                                                                       |\n",
            "+---------------------------------------------------------------------------------------------------------------------------------------------------------------------------------------------------------------------------------------------------------------------------------------------------------------------------------------------------------------------------------------------+\n",
            "|[{document, 0, 37, (Medical Transcription Sample Report), {sentence -> 0, document -> 0, uuid -> 5e461d9d-2eb0-4b98-a99a-fc1be63c56ed}, []}]                                                                                                                                                                                                                                                 |\n",
            "|[{document, 39, 126, PRESENT ILLNESS:\\nPatient with hypertension, syncope, and spinal stenosis - for recheck., {sentence -> 0, document -> 1, uuid -> 53d2f520-df29-4b7a-8399-7f4596c14b2c}, []}]                                                                                                                                                                                            |\n",
            "|[{document, 128, 313, SUBJECTIVE:\\nThe patient is a 78-year-old female who returns for recheck. She has hypertension. She denies difficulty with chest pain, palpations, orthopnea, nocturnal dyspnea, or edema., {sentence -> 0, document -> 2, uuid -> 93965d1d-2982-442a-ba2c-aae4a60c110f}, []}]                                                                                         |\n",
            "|[{document, 315, 388, MEDICAL HISTORY:\\nReviewed and unchanged from the dictation on 12/03/2003., {sentence -> 0, document -> 3, uuid -> 43caa4af-26bf-4da3-9f70-e9a027e26ab9}, []}]                                                                                                                                                                                                         |\n",
            "|[{document, 390, 663, MEDICATIONS:\\nAtenolol 50 mg daily, Premarin 0.625 mg daily, calcium with vitamin D two to three pills daily, multivitamin daily, aspirin as needed, and TriViFlor 25 mg two pills daily.\\nShe also has Elocon cream 0.1% and Synalar cream 0.01% that she uses as needed for rash., {sentence -> 0, document -> 4, uuid -> 82d931fb-51c6-4b90-93d3-1a18fc4d7b76}, []}]|\n",
            "+---------------------------------------------------------------------------------------------------------------------------------------------------------------------------------------------------------------------------------------------------------------------------------------------------------------------------------------------------------------------------------------------+\n",
            "\n"
          ]
        }
      ]
    },
    {
      "cell_type": "markdown",
      "source": [
        "## Recursive Mode"
      ],
      "metadata": {
        "id": "82_TYgi_r-23"
      }
    },
    {
      "cell_type": "markdown",
      "source": [
        "Recursive Mode supports Spark NLP `DocumentCharacterTextSplitter`, which allows users to split large documents into smaller chunks. This splitter accepts a list of separators in sequence and divides subtexts if they exceed the chunk length, while optionally overlapping chunks. Our inspiration came from the `CharacterTextSplitter` and `RecursiveCharacterTextSplitter` implementations within the `LangChain` library. As always, we've ensured that it's optimized, ready for production, and scalable:"
      ],
      "metadata": {
        "id": "3W87-STWMeF3"
      }
    },
    {
      "cell_type": "code",
      "source": [
        "df = spark.createDataFrame([[(\n",
        "    \"The patient is a 28-year-old, who is status post gastric bypass surgery\"\n",
        "    \" nearly one year ago. \\nHe has lost about 200 pounds and was otherwise doing well\"\n",
        "    \" until yesterday evening around 7:00-8:00 when he developed nausea and right upper quadrant pain,\"\n",
        "    \" which apparently wrapped around toward his right side and back. He feels like he was on it\"\n",
        "    \" but has not done so. He has overall malaise and a low-grade temperature of 100.3.\"\n",
        "    \" \\n\\nHe denies any prior similar or lesser symptoms. His last normal bowel movement was yesterday.\"\n",
        "    \" He denies any outright chills or blood per rectum.\"\n",
        ")]]).toDF(\"text\")\n",
        "\n",
        "\n",
        "document_assembler = nlp.DocumentAssembler()\\\n",
        "    .setInputCol(\"text\")\\\n",
        "    .setOutputCol(\"document\")\n",
        "\n",
        "document_splitter = medical.InternalDocumentSplitter()\\\n",
        "    .setInputCols(\"document\")\\\n",
        "    .setOutputCol(\"splits\")\\\n",
        "    .setSplitMode(\"recursive\")\\\n",
        "    .setChunkSize(100)\\\n",
        "    .setChunkOverlap(3)\\\n",
        "    .setExplodeSplits(True)\\\n",
        "    .setPatternsAreRegex(False)\\\n",
        "    .setSplitPatterns([\"\\n\\n\", \"\\n\", \" \"])\\\n",
        "    .setKeepSeparators(False)\\\n",
        "    .setTrimWhitespace(True)\n",
        "\n",
        "pipeline = nlp.Pipeline().setStages([\n",
        "    document_assembler,\n",
        "    document_splitter\n",
        "])\n",
        "\n",
        "pipeline_df = pipeline.fit(df).transform(df).select(\"splits\").show(truncate=False)"
      ],
      "metadata": {
        "id": "0n_XF9xYKlEn",
        "colab": {
          "base_uri": "https://localhost:8080/"
        },
        "outputId": "0af1cdea-96a6-4eda-e26c-82eff7cac68f"
      },
      "execution_count": null,
      "outputs": [
        {
          "output_type": "stream",
          "name": "stdout",
          "text": [
            "+-------------------------------------------------------------------------------------------------------------------------------------------------------------------------------------------------------------+\n",
            "|splits                                                                                                                                                                                                       |\n",
            "+-------------------------------------------------------------------------------------------------------------------------------------------------------------------------------------------------------------+\n",
            "|[{document, 0, 92, The patient is a 28-year-old, who is status post gastric bypass surgery nearly one year ago., {sentence -> 0, document -> 0, uuid -> 6d8207f9-ef43-4b81-9055-030cf8c0483d}, []}]          |\n",
            "|[{document, 94, 192, He has lost about 200 pounds and was otherwise doing well until yesterday evening around 7:00-8:00, {sentence -> 0, document -> 1, uuid -> 811fcac9-98ed-472b-b263-02b1b158fad7}, []}]  |\n",
            "|[{document, 193, 291, when he developed nausea and right upper quadrant pain, which apparently wrapped around toward his, {sentence -> 0, document -> 2, uuid -> 3c3778c3-b5dc-49bd-a26d-fcbb6e5768e6}, []}] |\n",
            "|[{document, 288, 387, his right side and back. He feels like he was on it but has not done so. He has overall malaise and, {sentence -> 0, document -> 3, uuid -> 0ed008bc-02e8-4c85-90fe-6f1227a1228d}, []}]|\n",
            "|[{document, 384, 421, and a low-grade temperature of 100.3., {sentence -> 0, document -> 4, uuid -> 565ed124-c67b-4f5b-8ecf-d8e6d805efad}, []}]                                                              |\n",
            "|[{document, 424, 520, He denies any prior similar or lesser symptoms. His last normal bowel movement was yesterday. He, {sentence -> 0, document -> 5, uuid -> 14bb9205-11c4-4ba6-a795-fff07f32e974}, []}]   |\n",
            "|[{document, 518, 568, He denies any outright chills or blood per rectum., {sentence -> 0, document -> 6, uuid -> a71eb40c-bdf2-4ad0-99b5-404f15bb134e}, []}]                                                 |\n",
            "+-------------------------------------------------------------------------------------------------------------------------------------------------------------------------------------------------------------+\n",
            "\n"
          ]
        }
      ]
    },
    {
      "cell_type": "markdown",
      "metadata": {
        "id": "ca0u7Q8C5_Uu"
      },
      "source": [
        "## Regex Mode"
      ]
    },
    {
      "cell_type": "code",
      "execution_count": null,
      "metadata": {
        "id": "kuY-AfqSLIlv"
      },
      "outputs": [],
      "source": [
        "data = \"\"\"\n",
        "Beyond OpenAI in Commercial LLM Landscape\n",
        "Exploring the Innovators and Challengers in the Commercial LLM Landscape beyond OpenAI: Anthropic, Cohere, Mosaic ML, Cerebras, Aleph Alpha, AI21 Labs and John Snow Labs.\n",
        "Veysel Kocaman\n",
        "John Snow Labs\n",
        "Veysel Kocaman\n",
        "\n",
        "This blog post explores the emerging players in the commercial large language model (LLM) landscape, namely Anthropic, Cohere, Mosaic ML, Cerebras, Aleph Alpha, AI21 Labs and John Snow Labs. While OpenAI is well-known, these companies bring fresh ideas and tools to the LLM world. We discuss their unique offerings, compliance with the EU AI Act, pricing, and performance on various tasks.\n",
        "\n",
        "In the burgeoning world of artificial intelligence, large language models (LLMs) are the new vanguard, shaping how we interact with machines and expanding the boundaries of what technology can achieve. As the field evolves, a dynamic set of companies have emerged, each contributing unique perspectives and solutions to the landscape. They range from established tech giants flexing their AI muscles, to innovative start-ups pushing the boundaries of what’s possible.\n",
        "\n",
        "This landscape is a vibrant blend of commercial entities and open-source advocates, with a wealth of diversity in their origin stories, funding, and the models they have developed. From licensed models delivered via APIs to open-source alternatives available for local deployment, the offerings span a broad spectrum, meeting the varied needs of developers, businesses, and researchers worldwide.\n",
        "\n",
        "In this blog post, we will dive into the fascinating ecosystem of LLM companies. We’ll start with an overview, presenting a snapshot of the current landscape. We’ll then delve into more detailed profiles of each major player, exploring their unique contributions, the models they’ve brought to life, and the strategic decisions that have shaped their paths. So, whether you’re an AI enthusiast, a developer navigating the LLM waters, or just a curious mind, join us as we journey through the bustling landscape of LLM companies.\n",
        "\n",
        "The landscape of large language models (LLMs) companies\n",
        "The landscape of large language models (LLMs) companies is diverse, featuring both well-established organizations and dynamic newcomers. Dominating the industry are leading LLM companies, such as OpenAI, which was founded in 2015 and has accumulated $11.3 billion in funding by June 2023. Known for their GPT-3.5 and GPT-4 (ChatGPT) models, OpenAI provides access to these tools through a licensed API.\n",
        "\"\"\"\n",
        "mediumDF = spark.createDataFrame([[data]]).toDF(\"text\")"
      ]
    },
    {
      "cell_type": "markdown",
      "metadata": {
        "id": "PIa5pmNDhCQ6"
      },
      "source": [
        "**default regex**"
      ]
    },
    {
      "cell_type": "code",
      "execution_count": null,
      "metadata": {
        "colab": {
          "base_uri": "https://localhost:8080/"
        },
        "id": "zPI-Ooe93ASB",
        "outputId": "d6045d29-765a-4bd4-8ac9-39313780983d"
      },
      "outputs": [
        {
          "output_type": "stream",
          "name": "stdout",
          "text": [
            "+------------------------------------------------------------------------------------------------------------------------------------------------------------------------------------------------------------------------------------------------------------------------------------------------------------------------------------------------------------------------------------------------------------------------------------------------------------------------------------------------------------------------------------------------------------------------------------------------------------------------------------------------------------+\n",
            "|splits                                                                                                                                                                                                                                                                                                                                                                                                                                                                                                                                                                                                                                                      |\n",
            "+------------------------------------------------------------------------------------------------------------------------------------------------------------------------------------------------------------------------------------------------------------------------------------------------------------------------------------------------------------------------------------------------------------------------------------------------------------------------------------------------------------------------------------------------------------------------------------------------------------------------------------------------------------+\n",
            "|[{document, 1, 258, Beyond OpenAI in Commercial LLM Landscape\\nExploring the Innovators and Challengers in the Commercial LLM Landscape beyond OpenAI: Anthropic, Cohere, Mosaic ML, Cerebras, Aleph Alpha, AI21 Labs and John Snow Labs.\\nVeysel Kocaman\\nJohn Snow Labs\\nVeysel Kocaman, {sentence -> 0, document -> 0, uuid -> 4f253527-58dd-4fc0-970f-3bca53f19947}, []}]                                                                                                                                                                                                                                                                               |\n",
            "|[{document, 260, 649, This blog post explores the emerging players in the commercial large language model (LLM) landscape, namely Anthropic, Cohere, Mosaic ML, Cerebras, Aleph Alpha, AI21 Labs and John Snow Labs. While OpenAI is well-known, these companies bring fresh ideas and tools to the LLM world. We discuss their unique offerings, compliance with the EU AI Act, pricing, and performance on various tasks., {sentence -> 0, document -> 1, uuid -> b3e9954a-d230-4552-9c47-577b2484fb64}, []}]                                                                                                                                             |\n",
            "|[{document, 651, 1118, In the burgeoning world of artificial intelligence, large language models (LLMs) are the new vanguard, shaping how we interact with machines and expanding the boundaries of what technology can achieve. As the field evolves, a dynamic set of companies have emerged, each contributing unique perspectives and solutions to the landscape. They range from established tech giants flexing their AI muscles, to innovative start-ups pushing the boundaries of what’s possible., {sentence -> 0, document -> 2, uuid -> 1eab70de-a42d-4bb3-a00f-8c594ae59f98}, []}]                                                              |\n",
            "|[{document, 1120, 1516, This landscape is a vibrant blend of commercial entities and open-source advocates, with a wealth of diversity in their origin stories, funding, and the models they have developed. From licensed models delivered via APIs to open-source alternatives available for local deployment, the offerings span a broad spectrum, meeting the varied needs of developers, businesses, and researchers worldwide., {sentence -> 0, document -> 3, uuid -> fc04889f-8d43-40c1-9e13-198974bc72cc}, []}]                                                                                                                                    |\n",
            "|[{document, 1518, 2046, In this blog post, we will dive into the fascinating ecosystem of LLM companies. We’ll start with an overview, presenting a snapshot of the current landscape. We’ll then delve into more detailed profiles of each major player, exploring their unique contributions, the models they’ve brought to life, and the strategic decisions that have shaped their paths. So, whether you’re an AI enthusiast, a developer navigating the LLM waters, or just a curious mind, join us as we journey through the bustling landscape of LLM companies., {sentence -> 0, document -> 4, uuid -> 730de731-8024-4a7a-b58d-9fc28fea5892}, []}]|\n",
            "|[{document, 2048, 2506, The landscape of large language models (LLMs) companies\\nThe landscape of large language models (LLMs) companies is diverse, featuring both well-established organizations and dynamic newcomers. Dominating the industry are leading LLM companies, such as OpenAI, which was founded in 2015 and has accumulated $11.3 billion in funding by June 2023. Known for their GPT-3.5 and GPT-4 (ChatGPT) models, OpenAI provides access to these tools through a licensed API., {sentence -> 0, document -> 5, uuid -> df7ab742-54e0-4e50-ae4f-f21621de00bc}, []}]                                                                     |\n",
            "+------------------------------------------------------------------------------------------------------------------------------------------------------------------------------------------------------------------------------------------------------------------------------------------------------------------------------------------------------------------------------------------------------------------------------------------------------------------------------------------------------------------------------------------------------------------------------------------------------------------------------------------------------------+\n",
            "\n"
          ]
        }
      ],
      "source": [
        "document_assembler = nlp.DocumentAssembler()\\\n",
        "    .setInputCol(\"text\")\\\n",
        "    .setOutputCol(\"document\")\n",
        "\n",
        "document_splitter = medical.InternalDocumentSplitter()\\\n",
        "    .setInputCols(\"document\")\\\n",
        "    .setOutputCol(\"splits\")\\\n",
        "    .setSplitMode(\"regex\")\\\n",
        "    .setExplodeSplits(True)\n",
        "\n",
        "pipeline = nlp.Pipeline().setStages([\n",
        "    document_assembler,\n",
        "    document_splitter\n",
        "])\n",
        "\n",
        "pipeline_df = pipeline.fit(mediumDF).transform(mediumDF).select(\"splits\").show(truncate=False)"
      ]
    },
    {
      "cell_type": "markdown",
      "metadata": {
        "id": "LpXx5yQBhH2i"
      },
      "source": [
        "**Custom Regex Split Patterns**"
      ]
    },
    {
      "cell_type": "code",
      "execution_count": null,
      "metadata": {
        "colab": {
          "base_uri": "https://localhost:8080/"
        },
        "id": "tXA89DbXcQFI",
        "outputId": "67d96a51-71da-419d-8f63-22c8f259f1df"
      },
      "outputs": [
        {
          "output_type": "stream",
          "name": "stdout",
          "text": [
            "+------------------------------------------------------------------------------------------------------------------------------------------------------------------------------------------------------------------------------------------------------------------------------------------------------------------------------------------------------------------------------------------------------------------------------------------------------------------------------------------------------------------------------------------------------------------------------------------------------------------------------------------------------------+\n",
            "|splits                                                                                                                                                                                                                                                                                                                                                                                                                                                                                                                                                                                                                                                      |\n",
            "+------------------------------------------------------------------------------------------------------------------------------------------------------------------------------------------------------------------------------------------------------------------------------------------------------------------------------------------------------------------------------------------------------------------------------------------------------------------------------------------------------------------------------------------------------------------------------------------------------------------------------------------------------------+\n",
            "|[{document, 1, 42, Beyond OpenAI in Commercial LLM Landscape, {sentence -> 0, document -> 0, uuid -> 57d68af9-17d8-4f93-adfc-ec9f76484994}, []}]                                                                                                                                                                                                                                                                                                                                                                                                                                                                                                            |\n",
            "|[{document, 43, 213, Exploring the Innovators and Challengers in the Commercial LLM Landscape beyond OpenAI: Anthropic, Cohere, Mosaic ML, Cerebras, Aleph Alpha, AI21 Labs and John Snow Labs., {sentence -> 0, document -> 1, uuid -> be52b336-8b84-44ff-bfaf-e1dbbce10350}, []}]                                                                                                                                                                                                                                                                                                                                                                         |\n",
            "|[{document, 214, 228, Veysel Kocaman, {sentence -> 0, document -> 2, uuid -> 18f64b15-4dc7-435e-a143-a890b96212fa}, []}]                                                                                                                                                                                                                                                                                                                                                                                                                                                                                                                                    |\n",
            "|[{document, 229, 243, John Snow Labs, {sentence -> 0, document -> 3, uuid -> 6353aa05-a2c6-41ec-b46a-924fc5484c60}, []}]                                                                                                                                                                                                                                                                                                                                                                                                                                                                                                                                    |\n",
            "|[{document, 244, 258, Veysel Kocaman, {sentence -> 0, document -> 4, uuid -> 66d4aec8-320c-4900-b49b-aee658c37b1c}, []}]                                                                                                                                                                                                                                                                                                                                                                                                                                                                                                                                    |\n",
            "|[{document, 260, 649, This blog post explores the emerging players in the commercial large language model (LLM) landscape, namely Anthropic, Cohere, Mosaic ML, Cerebras, Aleph Alpha, AI21 Labs and John Snow Labs. While OpenAI is well-known, these companies bring fresh ideas and tools to the LLM world. We discuss their unique offerings, compliance with the EU AI Act, pricing, and performance on various tasks., {sentence -> 0, document -> 5, uuid -> 7b5bd883-91ec-47e0-9792-2ba1648bd4b3}, []}]                                                                                                                                             |\n",
            "|[{document, 651, 1118, In the burgeoning world of artificial intelligence, large language models (LLMs) are the new vanguard, shaping how we interact with machines and expanding the boundaries of what technology can achieve. As the field evolves, a dynamic set of companies have emerged, each contributing unique perspectives and solutions to the landscape. They range from established tech giants flexing their AI muscles, to innovative start-ups pushing the boundaries of what’s possible., {sentence -> 0, document -> 6, uuid -> a62111b7-9d5c-4f4f-a33b-f7c3965b83ec}, []}]                                                              |\n",
            "|[{document, 1120, 1516, This landscape is a vibrant blend of commercial entities and open-source advocates, with a wealth of diversity in their origin stories, funding, and the models they have developed. From licensed models delivered via APIs to open-source alternatives available for local deployment, the offerings span a broad spectrum, meeting the varied needs of developers, businesses, and researchers worldwide., {sentence -> 0, document -> 7, uuid -> 94e05833-a5d9-499a-ab0f-97be716f4816}, []}]                                                                                                                                    |\n",
            "|[{document, 1518, 2046, In this blog post, we will dive into the fascinating ecosystem of LLM companies. We’ll start with an overview, presenting a snapshot of the current landscape. We’ll then delve into more detailed profiles of each major player, exploring their unique contributions, the models they’ve brought to life, and the strategic decisions that have shaped their paths. So, whether you’re an AI enthusiast, a developer navigating the LLM waters, or just a curious mind, join us as we journey through the bustling landscape of LLM companies., {sentence -> 0, document -> 8, uuid -> 30abd2a3-df94-4745-a919-b928432d554b}, []}]|\n",
            "|[{document, 2048, 2103, The landscape of large language models (LLMs) companies, {sentence -> 0, document -> 9, uuid -> 50546457-dc3a-497b-ba1e-80139a318add}, []}]                                                                                                                                                                                                                                                                                                                                                                                                                                                                                         |\n",
            "|[{document, 2104, 2506, The landscape of large language models (LLMs) companies is diverse, featuring both well-established organizations and dynamic newcomers. Dominating the industry are leading LLM companies, such as OpenAI, which was founded in 2015 and has accumulated $11.3 billion in funding by June 2023. Known for their GPT-3.5 and GPT-4 (ChatGPT) models, OpenAI provides access to these tools through a licensed API., {sentence -> 0, document -> 10, uuid -> 5037cdbc-c8d2-4888-9151-28dd31b0e9ae}, []}]                                                                                                                             |\n",
            "+------------------------------------------------------------------------------------------------------------------------------------------------------------------------------------------------------------------------------------------------------------------------------------------------------------------------------------------------------------------------------------------------------------------------------------------------------------------------------------------------------------------------------------------------------------------------------------------------------------------------------------------------------------+\n",
            "\n"
          ]
        }
      ],
      "source": [
        "# with SplitPatterns\n",
        "document_splitter = medical.InternalDocumentSplitter()\\\n",
        "    .setInputCols(\"document\")\\\n",
        "    .setOutputCol(\"splits\")\\\n",
        "    .setSplitMode(\"regex\")\\\n",
        "    .setSplitPatterns([\"\\n\\n\",\"\\n\"])\\\n",
        "    .setExplodeSplits(True)\n",
        "\n",
        "pipeline = nlp.Pipeline().setStages([\n",
        "    document_assembler,\n",
        "    document_splitter\n",
        "])\n",
        "\n",
        "pipeline_df = pipeline.fit(mediumDF).transform(mediumDF).select(\"splits\").show(truncate=False)"
      ]
    },
    {
      "cell_type": "markdown",
      "metadata": {
        "id": "h89kVHo5Naa8"
      },
      "source": [
        "**Custom Phrase/Words Split Patterns**\n"
      ]
    },
    {
      "cell_type": "code",
      "execution_count": null,
      "metadata": {
        "id": "Hhb56QpcoQmS"
      },
      "outputs": [],
      "source": [
        "text = \"\"\"(Medical Transcription Sample Report)\n",
        "\n",
        "PRESENT ILLNESS:\n",
        "Patient with hypertension, syncope, and spinal stenosis - for recheck.\n",
        "\n",
        "SUBJECTIVE:\n",
        "The patient is a 78-year-old female who returns for recheck. She has hypertension. She denies difficulty with chest pain, palpations, orthopnea, nocturnal dyspnea, or edema.\n",
        "\n",
        "MEDICAL HISTORY:\n",
        "Reviewed and unchanged from the dictation on 12/03/2003.\n",
        "\n",
        "MEDICATIONS:\n",
        "Atenolol 50 mg daily, Premarin 0.625 mg daily, calcium with vitamin D two to three pills daily, multivitamin daily, aspirin as needed, and TriViFlor 25 mg two pills daily.\n",
        "She also has Elocon cream 0.1% and Synalar cream 0.01% that she uses as needed for rash.\"\"\"\n",
        "\n",
        "textDF = spark.createDataFrame([[text]]).toDF(\"text\")"
      ]
    },
    {
      "cell_type": "code",
      "execution_count": null,
      "metadata": {
        "colab": {
          "base_uri": "https://localhost:8080/"
        },
        "id": "2YuUNXBCNg7S",
        "outputId": "972870cc-943c-4796-95b6-e898bcf71af7"
      },
      "outputs": [
        {
          "output_type": "stream",
          "name": "stdout",
          "text": [
            "+---------------------------------------------------------------------------------------------------------------------------------------------------------------------------------------------------------------------------------------------------------------------------------------------------------------------------------------------------------------------------------------------+\n",
            "|splits                                                                                                                                                                                                                                                                                                                                                                                       |\n",
            "+---------------------------------------------------------------------------------------------------------------------------------------------------------------------------------------------------------------------------------------------------------------------------------------------------------------------------------------------------------------------------------------------+\n",
            "|[{document, 0, 37, (Medical Transcription Sample Report), {sentence -> 0, document -> 0, uuid -> 34559a6a-e16c-400b-be2a-51399490f7ea}, []}]                                                                                                                                                                                                                                                 |\n",
            "|[{document, 39, 126, PRESENT ILLNESS:\\nPatient with hypertension, syncope, and spinal stenosis - for recheck., {sentence -> 0, document -> 1, uuid -> 06b216f7-34ce-4dc5-a2af-ec0ba3c759b1}, []}]                                                                                                                                                                                            |\n",
            "|[{document, 128, 313, SUBJECTIVE:\\nThe patient is a 78-year-old female who returns for recheck. She has hypertension. She denies difficulty with chest pain, palpations, orthopnea, nocturnal dyspnea, or edema., {sentence -> 0, document -> 2, uuid -> 547177d1-d05a-4844-a52c-af2c2ae3e672}, []}]                                                                                         |\n",
            "|[{document, 315, 388, MEDICAL HISTORY:\\nReviewed and unchanged from the dictation on 12/03/2003., {sentence -> 0, document -> 3, uuid -> f0470d1f-9972-43b8-a310-942fb2ee277f}, []}]                                                                                                                                                                                                         |\n",
            "|[{document, 390, 663, MEDICATIONS:\\nAtenolol 50 mg daily, Premarin 0.625 mg daily, calcium with vitamin D two to three pills daily, multivitamin daily, aspirin as needed, and TriViFlor 25 mg two pills daily.\\nShe also has Elocon cream 0.1% and Synalar cream 0.01% that she uses as needed for rash., {sentence -> 0, document -> 4, uuid -> 21d4b309-0bfb-4c3a-bf56-5e0ecd6016bd}, []}]|\n",
            "+---------------------------------------------------------------------------------------------------------------------------------------------------------------------------------------------------------------------------------------------------------------------------------------------------------------------------------------------------------------------------------------------+\n",
            "\n"
          ]
        }
      ],
      "source": [
        "document_splitter = medical.InternalDocumentSplitter()\\\n",
        "    .setInputCols(\"document\")\\\n",
        "    .setOutputCol(\"splits\")\\\n",
        "    .setSplitMode(\"regex\")\\\n",
        "    .setSplitPatterns([\"PRESENT ILLNESS:\", \"SUBJECTIVE:\", \"MEDICAL HISTORY:\", \"MEDICATIONS:\"])\\\n",
        "    .setCaseSensitive(True) \\\n",
        "    .setExplodeSplits(True)\n",
        "\n",
        "pipeline = nlp.Pipeline().setStages([\n",
        "    document_assembler,\n",
        "    document_splitter\n",
        "])\n",
        "\n",
        "pipeline_df = pipeline.fit(textDF).transform(textDF).select(\"splits\").show(truncate=False)"
      ]
    },
    {
      "cell_type": "markdown",
      "metadata": {
        "id": "9YljH2SYONQQ"
      },
      "source": [
        "**setCustomBoundsStrategy** can be `none`, `prepend`, `append`. Default is \"none\""
      ]
    },
    {
      "cell_type": "code",
      "execution_count": null,
      "metadata": {
        "colab": {
          "base_uri": "https://localhost:8080/"
        },
        "id": "HZUKbMkGOKP5",
        "outputId": "53989fc6-cc22-4580-91bb-541a53ddc7ed"
      },
      "outputs": [
        {
          "output_type": "stream",
          "name": "stdout",
          "text": [
            "+---------------------------------------------------------------------------------------------------------------------------------------------------------------------------------------------------------------------------------------------------------------------------------------------------------------------------------------------------------------------------------------------+\n",
            "|splits                                                                                                                                                                                                                                                                                                                                                                                       |\n",
            "+---------------------------------------------------------------------------------------------------------------------------------------------------------------------------------------------------------------------------------------------------------------------------------------------------------------------------------------------------------------------------------------------+\n",
            "|[{document, 0, 37, (Medical Transcription Sample Report), {sentence -> 0, document -> 0, uuid -> 9b16d431-7fdb-4a7f-b6db-fd04a75a84bb}, []}]                                                                                                                                                                                                                                                 |\n",
            "|[{document, 39, 126, PRESENT ILLNESS:\\nPatient with hypertension, syncope, and spinal stenosis - for recheck., {sentence -> 0, document -> 1, uuid -> e573386f-7914-4bdd-ae34-05afc49d8c7b}, []}]                                                                                                                                                                                            |\n",
            "|[{document, 128, 313, SUBJECTIVE:\\nThe patient is a 78-year-old female who returns for recheck. She has hypertension. She denies difficulty with chest pain, palpations, orthopnea, nocturnal dyspnea, or edema., {sentence -> 0, document -> 2, uuid -> 3c4918a9-d459-4bfd-8b95-a34e31e082fc}, []}]                                                                                         |\n",
            "|[{document, 315, 388, MEDICAL HISTORY:\\nReviewed and unchanged from the dictation on 12/03/2003., {sentence -> 0, document -> 3, uuid -> de393993-b314-4be0-ae30-e80ea94cab11}, []}]                                                                                                                                                                                                         |\n",
            "|[{document, 390, 663, MEDICATIONS:\\nAtenolol 50 mg daily, Premarin 0.625 mg daily, calcium with vitamin D two to three pills daily, multivitamin daily, aspirin as needed, and TriViFlor 25 mg two pills daily.\\nShe also has Elocon cream 0.1% and Synalar cream 0.01% that she uses as needed for rash., {sentence -> 0, document -> 4, uuid -> fa123db1-914c-4afc-acc2-9dd2cb333f0f}, []}]|\n",
            "+---------------------------------------------------------------------------------------------------------------------------------------------------------------------------------------------------------------------------------------------------------------------------------------------------------------------------------------------------------------------------------------------+\n",
            "\n"
          ]
        }
      ],
      "source": [
        "document_splitter = medical.InternalDocumentSplitter()\\\n",
        "    .setInputCols(\"document\")\\\n",
        "    .setOutputCol(\"splits\")\\\n",
        "    .setSplitMode(\"regex\")\\\n",
        "    .setSplitPatterns([\"PRESENT ILLNESS:\", \"SUBJECTIVE:\", \"MEDICAL HISTORY:\", \"MEDICATIONS:\"])\\\n",
        "    .setCaseSensitive(True) \\\n",
        "    .setCustomBoundsStrategy(\"prepend\")\\\n",
        "    .setExplodeSplits(True) \\\n",
        "\n",
        "pipeline = nlp.Pipeline().setStages([\n",
        "    document_assembler,\n",
        "    document_splitter\n",
        "])\n",
        "\n",
        "pipeline_df = pipeline.fit(textDF).transform(textDF).select(\"splits\").show(truncate=False)"
      ]
    },
    {
      "cell_type": "code",
      "source": [
        "document_splitter = medical.InternalDocumentSplitter()\\\n",
        "    .setInputCols(\"document\")\\\n",
        "    .setOutputCol(\"splits\")\\\n",
        "    .setSplitMode(\"regex\")\\\n",
        "    .setSplitPatterns([\"PRESENT ILLNESS:\", \"SUBJECTIVE:\", \"MEDICAL HISTORY:\", \"MEDICATIONS:\"])\\\n",
        "    .setCaseSensitive(True) \\\n",
        "    .setCustomBoundsStrategy(\"append\")\\\n",
        "    .setExplodeSplits(True) \\\n",
        "\n",
        "pipeline = nlp.Pipeline().setStages([\n",
        "    document_assembler,\n",
        "    document_splitter\n",
        "])\n",
        "\n",
        "pipeline_df = pipeline.fit(textDF).transform(textDF).select(\"splits\").show(truncate=False)"
      ],
      "metadata": {
        "colab": {
          "base_uri": "https://localhost:8080/"
        },
        "id": "P1TXa1BgyUuL",
        "outputId": "9c2ee022-6068-4927-9bb3-58dd3093c225"
      },
      "execution_count": null,
      "outputs": [
        {
          "output_type": "stream",
          "name": "stdout",
          "text": [
            "+-------------------------------------------------------------------------------------------------------------------------------------------------------------------------------------------------------------------------------------------------------------------------------------------------------------------------------------------------------------------------------+\n",
            "|splits                                                                                                                                                                                                                                                                                                                                                                         |\n",
            "+-------------------------------------------------------------------------------------------------------------------------------------------------------------------------------------------------------------------------------------------------------------------------------------------------------------------------------------------------------------------------------+\n",
            "|[{document, 0, 55, (Medical Transcription Sample Report)\\n\\nPRESENT ILLNESS:, {sentence -> 0, document -> 0, uuid -> b920ae68-4734-4739-9012-3e33819f2b88}, []}]                                                                                                                                                                                                               |\n",
            "|[{document, 56, 139, Patient with hypertension, syncope, and spinal stenosis - for recheck.\\n\\nSUBJECTIVE:, {sentence -> 0, document -> 1, uuid -> c079c322-9663-4074-a554-9d74860f5380}, []}]                                                                                                                                                                                 |\n",
            "|[{document, 140, 331, The patient is a 78-year-old female who returns for recheck. She has hypertension. She denies difficulty with chest pain, palpations, orthopnea, nocturnal dyspnea, or edema.\\n\\nMEDICAL HISTORY:, {sentence -> 0, document -> 2, uuid -> 2826ed8d-a24f-4490-afe4-624d8dd08656}, []}]                                                                    |\n",
            "|[{document, 332, 402, Reviewed and unchanged from the dictation on 12/03/2003.\\n\\nMEDICATIONS:, {sentence -> 0, document -> 3, uuid -> eefe4ca4-4a5f-4cc1-ae0b-58476020ce70}, []}]                                                                                                                                                                                             |\n",
            "|[{document, 403, 663, Atenolol 50 mg daily, Premarin 0.625 mg daily, calcium with vitamin D two to three pills daily, multivitamin daily, aspirin as needed, and TriViFlor 25 mg two pills daily.\\nShe also has Elocon cream 0.1% and Synalar cream 0.01% that she uses as needed for rash., {sentence -> 0, document -> 4, uuid -> 0208a566-31d1-4e7a-beb1-0fda49dd0230}, []}]|\n",
            "+-------------------------------------------------------------------------------------------------------------------------------------------------------------------------------------------------------------------------------------------------------------------------------------------------------------------------------------------------------------------------------+\n",
            "\n"
          ]
        }
      ]
    },
    {
      "cell_type": "code",
      "source": [
        "document_splitter = medical.InternalDocumentSplitter()\\\n",
        "    .setInputCols(\"document\")\\\n",
        "    .setOutputCol(\"splits\")\\\n",
        "    .setSplitMode(\"regex\")\\\n",
        "    .setSplitPatterns([\"PRESENT ILLNESS:\", \"SUBJECTIVE:\", \"MEDICAL HISTORY:\", \"MEDICATIONS:\"])\\\n",
        "    .setCaseSensitive(True) \\\n",
        "    .setCustomBoundsStrategy(\"none\")\\\n",
        "    .setExplodeSplits(True) \\\n",
        "\n",
        "pipeline = nlp.Pipeline().setStages([\n",
        "    document_assembler,\n",
        "    document_splitter\n",
        "])\n",
        "\n",
        "pipeline_df = pipeline.fit(textDF).transform(textDF).select(\"splits\").show(truncate=False)"
      ],
      "metadata": {
        "id": "yGdG9MIk42qk",
        "outputId": "1451b7a5-d060-4710-84ae-53a25cfb354c",
        "colab": {
          "base_uri": "https://localhost:8080/"
        }
      },
      "execution_count": null,
      "outputs": [
        {
          "output_type": "stream",
          "name": "stdout",
          "text": [
            "+-------------------------------------------------------------------------------------------------------------------------------------------------------------------------------------------------------------------------------------------------------------------------------------------------------------------------------------------------------------------------------+\n",
            "|splits                                                                                                                                                                                                                                                                                                                                                                         |\n",
            "+-------------------------------------------------------------------------------------------------------------------------------------------------------------------------------------------------------------------------------------------------------------------------------------------------------------------------------------------------------------------------------+\n",
            "|[{document, 0, 37, (Medical Transcription Sample Report), {sentence -> 0, document -> 0, uuid -> f98e35d7-021f-4d1a-b446-95ff789b9557}, []}]                                                                                                                                                                                                                                   |\n",
            "|[{document, 56, 126, Patient with hypertension, syncope, and spinal stenosis - for recheck., {sentence -> 0, document -> 1, uuid -> 38b54ec2-436f-4cea-a2b9-d08cc0745551}, []}]                                                                                                                                                                                                |\n",
            "|[{document, 140, 313, The patient is a 78-year-old female who returns for recheck. She has hypertension. She denies difficulty with chest pain, palpations, orthopnea, nocturnal dyspnea, or edema., {sentence -> 0, document -> 2, uuid -> 5f6e47ee-1c82-441b-9431-063f4810a55b}, []}]                                                                                        |\n",
            "|[{document, 332, 388, Reviewed and unchanged from the dictation on 12/03/2003., {sentence -> 0, document -> 3, uuid -> a14ee5a4-4654-404f-b3f6-ac490ab7ac23}, []}]                                                                                                                                                                                                             |\n",
            "|[{document, 403, 663, Atenolol 50 mg daily, Premarin 0.625 mg daily, calcium with vitamin D two to three pills daily, multivitamin daily, aspirin as needed, and TriViFlor 25 mg two pills daily.\\nShe also has Elocon cream 0.1% and Synalar cream 0.01% that she uses as needed for rash., {sentence -> 0, document -> 4, uuid -> 3a45df49-aa4e-49b1-95ee-aa8e75429abf}, []}]|\n",
            "+-------------------------------------------------------------------------------------------------------------------------------------------------------------------------------------------------------------------------------------------------------------------------------------------------------------------------------------------------------------------------------+\n",
            "\n"
          ]
        }
      ]
    },
    {
      "cell_type": "markdown",
      "metadata": {
        "id": "TI8fs_FzPjHf"
      },
      "source": [
        "**setCaseSensitive**  True"
      ]
    },
    {
      "cell_type": "code",
      "execution_count": null,
      "metadata": {
        "colab": {
          "base_uri": "https://localhost:8080/"
        },
        "id": "mWRcg0vKPnyg",
        "outputId": "a28e5e35-02ab-426f-bf9b-3500314b78c2"
      },
      "outputs": [
        {
          "output_type": "stream",
          "name": "stdout",
          "text": [
            "+------------------------------------------------------------------------------------------------------------------------------------------------------------------------------------------------------------------------------------------------------------------------------------------------------------------------------------------------------------------------------------------------------------------------------------------------------------------------------------------------------------------------------------------------------------------------------------------------------------------------------------------------------------------------------------------------------------------------------------------------------------------------------------------------------------+\n",
            "|splits                                                                                                                                                                                                                                                                                                                                                                                                                                                                                                                                                                                                                                                                                                                                                                                                      |\n",
            "+------------------------------------------------------------------------------------------------------------------------------------------------------------------------------------------------------------------------------------------------------------------------------------------------------------------------------------------------------------------------------------------------------------------------------------------------------------------------------------------------------------------------------------------------------------------------------------------------------------------------------------------------------------------------------------------------------------------------------------------------------------------------------------------------------------+\n",
            "|[{document, 0, 663, (Medical Transcription Sample Report)\\n\\nPRESENT ILLNESS:\\nPatient with hypertension, syncope, and spinal stenosis - for recheck.\\n\\nSUBJECTIVE:\\nThe patient is a 78-year-old female who returns for recheck. She has hypertension. She denies difficulty with chest pain, palpations, orthopnea, nocturnal dyspnea, or edema.\\n\\nMEDICAL HISTORY:\\nReviewed and unchanged from the dictation on 12/03/2003.\\n\\nMEDICATIONS:\\nAtenolol 50 mg daily, Premarin 0.625 mg daily, calcium with vitamin D two to three pills daily, multivitamin daily, aspirin as needed, and TriViFlor 25 mg two pills daily.\\nShe also has Elocon cream 0.1% and Synalar cream 0.01% that she uses as needed for rash., {sentence -> 0, document -> 0, uuid -> 56b712d7-a8f2-4d77-a41a-7953ad12eaa6}, []}]|\n",
            "+------------------------------------------------------------------------------------------------------------------------------------------------------------------------------------------------------------------------------------------------------------------------------------------------------------------------------------------------------------------------------------------------------------------------------------------------------------------------------------------------------------------------------------------------------------------------------------------------------------------------------------------------------------------------------------------------------------------------------------------------------------------------------------------------------------+\n",
            "\n"
          ]
        }
      ],
      "source": [
        "# [\"firstly,\", \"secondly,\", \"thirdly,\", \"in conclusion,\"]\n",
        "document_splitter = medical.InternalDocumentSplitter()\\\n",
        "    .setInputCols(\"document\")\\\n",
        "    .setOutputCol(\"splits\")\\\n",
        "    .setSplitMode(\"regex\")\\\n",
        "    .setSplitPatterns([\"present illness:\", \"subjective:\", \"medical history:\", \"medications:\"])\\\n",
        "    .setCaseSensitive(True) \\\n",
        "    .setCustomBoundsStrategy(\"prepend\")\\\n",
        "    .setExplodeSplits(True) \\\n",
        "\n",
        "pipeline = nlp.Pipeline().setStages([\n",
        "    document_assembler,\n",
        "    document_splitter\n",
        "])\n",
        "\n",
        "pipeline_df = pipeline.fit(textDF).transform(textDF).select(\"splits\").show(truncate=False)"
      ]
    },
    {
      "cell_type": "markdown",
      "metadata": {
        "id": "kNTsvfUrQM3U"
      },
      "source": [
        "**setCaseSensitive** False"
      ]
    },
    {
      "cell_type": "code",
      "execution_count": null,
      "metadata": {
        "colab": {
          "base_uri": "https://localhost:8080/"
        },
        "id": "hbyELo9SQLa6",
        "outputId": "ccdc50de-f45b-4c2e-fa30-49c56908ff57"
      },
      "outputs": [
        {
          "output_type": "stream",
          "name": "stdout",
          "text": [
            "+---------------------------------------------------------------------------------------------------------------------------------------------------------------------------------------------------------------------------------------------------------------------------------------------------------------------------------------------------------------------------------------------+\n",
            "|splits                                                                                                                                                                                                                                                                                                                                                                                       |\n",
            "+---------------------------------------------------------------------------------------------------------------------------------------------------------------------------------------------------------------------------------------------------------------------------------------------------------------------------------------------------------------------------------------------+\n",
            "|[{document, 0, 37, (Medical Transcription Sample Report), {sentence -> 0, document -> 0, uuid -> 43d2d91f-17d0-4a3a-bd06-9ffb122d5633}, []}]                                                                                                                                                                                                                                                 |\n",
            "|[{document, 39, 126, PRESENT ILLNESS:\\nPatient with hypertension, syncope, and spinal stenosis - for recheck., {sentence -> 0, document -> 1, uuid -> bda7f0ea-4f97-4b7a-b2d2-89f7688733f8}, []}]                                                                                                                                                                                            |\n",
            "|[{document, 128, 313, SUBJECTIVE:\\nThe patient is a 78-year-old female who returns for recheck. She has hypertension. She denies difficulty with chest pain, palpations, orthopnea, nocturnal dyspnea, or edema., {sentence -> 0, document -> 2, uuid -> 7af35148-8824-4135-b0bf-d80a08c8da43}, []}]                                                                                         |\n",
            "|[{document, 315, 388, MEDICAL HISTORY:\\nReviewed and unchanged from the dictation on 12/03/2003., {sentence -> 0, document -> 3, uuid -> fe1c26d9-f6bf-4d6e-a7b4-f3157b8cc045}, []}]                                                                                                                                                                                                         |\n",
            "|[{document, 390, 663, MEDICATIONS:\\nAtenolol 50 mg daily, Premarin 0.625 mg daily, calcium with vitamin D two to three pills daily, multivitamin daily, aspirin as needed, and TriViFlor 25 mg two pills daily.\\nShe also has Elocon cream 0.1% and Synalar cream 0.01% that she uses as needed for rash., {sentence -> 0, document -> 4, uuid -> 490d8454-e9a3-4e96-817d-a73d5d3e9975}, []}]|\n",
            "+---------------------------------------------------------------------------------------------------------------------------------------------------------------------------------------------------------------------------------------------------------------------------------------------------------------------------------------------------------------------------------------------+\n",
            "\n"
          ]
        }
      ],
      "source": [
        "# [\"firstly,\", \"secondly,\", \"thirdly,\", \"in conclusion,\"]\n",
        "document_splitter = medical.InternalDocumentSplitter()\\\n",
        "    .setInputCols(\"document\")\\\n",
        "    .setOutputCol(\"splits\")\\\n",
        "    .setSplitMode(\"regex\")\\\n",
        "    .setSplitPatterns([\"present illness:\", \"subjective:\", \"medical history:\", \"medications:\"])\\\n",
        "    .setCaseSensitive(False) \\\n",
        "    .setCustomBoundsStrategy(\"prepend\")\\\n",
        "    .setExplodeSplits(True) \\\n",
        "\n",
        "pipeline = nlp.Pipeline().setStages([\n",
        "    document_assembler,\n",
        "    document_splitter\n",
        "])\n",
        "\n",
        "pipeline_df = pipeline.fit(textDF).transform(textDF).select(\"splits\").show(truncate=False)"
      ]
    },
    {
      "cell_type": "markdown",
      "metadata": {
        "id": "3xzKHpM06EWJ"
      },
      "source": [
        "## Char Mode\n"
      ]
    },
    {
      "cell_type": "code",
      "execution_count": null,
      "metadata": {
        "id": "J5alxo_i0Z2S"
      },
      "outputs": [],
      "source": [
        "ai = \"\"\"AI advancements impact fields, improving data analysis. Ethical concerns, like privacy and bias, shape academic discussions.\n",
        "Scholars explore AI's responsible development. Ongoing research navigates evolving challenges.\"\"\"\n",
        "\n",
        "df = spark.createDataFrame([[ai]]).toDF(\"text\")"
      ]
    },
    {
      "cell_type": "code",
      "execution_count": null,
      "metadata": {
        "colab": {
          "base_uri": "https://localhost:8080/"
        },
        "id": "mvvEpOuyZXmx",
        "outputId": "d801b7b6-2d23-4e92-91e4-36e3a488f54f"
      },
      "outputs": [
        {
          "output_type": "stream",
          "name": "stdout",
          "text": [
            "+-----------------------------------------------------------------------------------------------------------------------------------------------------------------------------------------------------------------------------------------+\n",
            "|splits                                                                                                                                                                                                                                   |\n",
            "+-----------------------------------------------------------------------------------------------------------------------------------------------------------------------------------------------------------------------------------------+\n",
            "|[{document, 0, 128, AI advancements impact fields, improving data analysis. Ethical concerns, like privacy and bias, shape academic discussions.\\nSch, {sentence -> 0, document -> 0, uuid -> a4574d33-820a-4d78-a821-967f119333d1}, []}]|\n",
            "|[{document, 128, 219, olars explore AI's responsible development. Ongoing research navigates evolving challenges., {sentence -> 0, document -> 1, uuid -> b9c07237-c0c4-49cf-a20c-7b61680353fd}, []}]                                    |\n",
            "+-----------------------------------------------------------------------------------------------------------------------------------------------------------------------------------------------------------------------------------------+\n",
            "\n"
          ]
        }
      ],
      "source": [
        "document_assembler = nlp.DocumentAssembler()\\\n",
        "    .setInputCol(\"text\")\\\n",
        "    .setOutputCol(\"document\")\n",
        "\n",
        "document_splitter = medical.InternalDocumentSplitter()\\\n",
        "    .setInputCols(\"document\")\\\n",
        "    .setOutputCol(\"splits\")\\\n",
        "    .setSplitMode(\"char\")\\\n",
        "    .setMaxLength(128)\\\n",
        "    .setExplodeSplits(True)\n",
        "\n",
        "pipeline = nlp.Pipeline().setStages([\n",
        "    document_assembler,\n",
        "    document_splitter\n",
        "])\n",
        "\n",
        "pipeline_df = pipeline.fit(df).transform(df).select(\"splits\").show(truncate=False)"
      ]
    },
    {
      "cell_type": "markdown",
      "metadata": {
        "id": "XLNtPoybZQ9T"
      },
      "source": [
        "**sentenceAwareness**"
      ]
    },
    {
      "cell_type": "code",
      "execution_count": null,
      "metadata": {
        "colab": {
          "base_uri": "https://localhost:8080/"
        },
        "id": "0PIKcUrF3Cp6",
        "outputId": "eecdcea3-a6ba-4c2e-cd6f-f6e4ffee65e9"
      },
      "outputs": [
        {
          "output_type": "stream",
          "name": "stdout",
          "text": [
            "+------------------------------------------------------------------------------------------------------------------------------------------------------------------------------------------------------------------------------------+\n",
            "|splits                                                                                                                                                                                                                              |\n",
            "+------------------------------------------------------------------------------------------------------------------------------------------------------------------------------------------------------------------------------------+\n",
            "|[{document, 0, 124, AI advancements impact fields, improving data analysis. Ethical concerns, like privacy and bias, shape academic discussions., {sentence -> 0, document -> 0, uuid -> 7e60fd98-512f-464d-955f-21b85466376d}, []}]|\n",
            "|[{document, 125, 219, Scholars explore AI's responsible development. Ongoing research navigates evolving challenges., {sentence -> 0, document -> 1, uuid -> 4dcf22fe-aa06-47d4-9a8a-345b1d13f330}, []}]                            |\n",
            "+------------------------------------------------------------------------------------------------------------------------------------------------------------------------------------------------------------------------------------+\n",
            "\n"
          ]
        }
      ],
      "source": [
        "document_assembler = nlp.DocumentAssembler()\\\n",
        "    .setInputCol(\"text\")\\\n",
        "    .setOutputCol(\"document\")\n",
        "\n",
        "sentence_detector = nlp.SentenceDetector()\\\n",
        "    .setInputCols(\"document\")\\\n",
        "    .setOutputCol(\"sentence\")\n",
        "\n",
        "document_splitter = medical.InternalDocumentSplitter()\\\n",
        "    .setInputCols(\"document\", \"sentence\")\\\n",
        "    .setOutputCol(\"splits\")\\\n",
        "    .setSplitMode(\"char\")\\\n",
        "    .setMaxLength(128)\\\n",
        "    .setSentenceAwareness(True)\\\n",
        "    .setExplodeSplits(True)\n",
        "\n",
        "pipeline = nlp.Pipeline().setStages([\n",
        "    document_assembler,\n",
        "    sentence_detector,\n",
        "    document_splitter\n",
        "])\n",
        "\n",
        "pipeline_df = pipeline.fit(df).transform(df).select(\"splits\").show(truncate=False)"
      ]
    },
    {
      "cell_type": "markdown",
      "metadata": {
        "id": "VpHpGwbd6Iig"
      },
      "source": [
        "##  Token Mode"
      ]
    },
    {
      "cell_type": "code",
      "execution_count": null,
      "metadata": {
        "colab": {
          "base_uri": "https://localhost:8080/"
        },
        "id": "CoFfv7933DU9",
        "outputId": "9c3729dc-0895-4e76-9153-73bbe6203e3b"
      },
      "outputs": [
        {
          "output_type": "stream",
          "name": "stdout",
          "text": [
            "+----------------------------------------------------------------------------------------------------------------------------------------------------------------------------------+\n",
            "|splits                                                                                                                                                                            |\n",
            "+----------------------------------------------------------------------------------------------------------------------------------------------------------------------------------+\n",
            "|[{document, 0, 73, AI advancements impact fields, improving data analysis. Ethical concerns,, {sentence -> 0, document -> 0, uuid -> b47856d8-ffdd-40fd-9fac-b67dae8100f2}, []}]  |\n",
            "|[{document, 74, 146, like privacy and bias, shape academic discussions.\\nScholars explore AI's, {sentence -> 0, document -> 1, uuid -> 99b40869-b0a3-4504-9671-577517b33e05}, []}]|\n",
            "|[{document, 147, 219, responsible development. Ongoing research navigates evolving challenges., {sentence -> 0, document -> 2, uuid -> a764d881-3218-4cc7-884a-b08ca16f7c43}, []}]|\n",
            "+----------------------------------------------------------------------------------------------------------------------------------------------------------------------------------+\n",
            "\n"
          ]
        }
      ],
      "source": [
        "document_assembler = nlp.DocumentAssembler()\\\n",
        "    .setInputCol(\"text\")\\\n",
        "    .setOutputCol(\"document\")\n",
        "\n",
        "tokenizer = nlp.Tokenizer()\\\n",
        "    .setInputCols(\"document\")\\\n",
        "    .setOutputCol(\"token\")\n",
        "\n",
        "document_splitter = medical.InternalDocumentSplitter()\\\n",
        "    .setInputCols(\"document\", \"token\")\\\n",
        "    .setOutputCol(\"splits\")\\\n",
        "    .setSplitMode(\"token\")\\\n",
        "    .setMaxLength(12)\\\n",
        "    .setExplodeSplits(True)\n",
        "\n",
        "pipeline = nlp.Pipeline().setStages([\n",
        "    document_assembler,\n",
        "    tokenizer,\n",
        "    document_splitter\n",
        "])\n",
        "\n",
        "pipeline_df = pipeline.fit(df).transform(df).select(\"splits\").show(truncate=False)"
      ]
    },
    {
      "cell_type": "markdown",
      "metadata": {
        "id": "ShTuq2pnaLiz"
      },
      "source": [
        "**sentenceAwareness**"
      ]
    },
    {
      "cell_type": "code",
      "execution_count": null,
      "metadata": {
        "colab": {
          "base_uri": "https://localhost:8080/"
        },
        "id": "vVTTZTEVaHod",
        "outputId": "2bb0c6d3-46b2-4d1b-80e3-ee9021042268"
      },
      "outputs": [
        {
          "output_type": "stream",
          "name": "stdout",
          "text": [
            "+--------------------------------------------------------------------------------------------------------------------------------------------------------------------------------------------------------+\n",
            "|splits                                                                                                                                                                                                  |\n",
            "+--------------------------------------------------------------------------------------------------------------------------------------------------------------------------------------------------------+\n",
            "|[{document, 0, 55, AI advancements impact fields, improving data analysis., {sentence -> 0, document -> 0, uuid -> 51e6717b-9fd6-49a8-bf70-110aa4fa44ef}, []}]                                          |\n",
            "|[{document, 56, 124, Ethical concerns, like privacy and bias, shape academic discussions., {sentence -> 0, document -> 1, uuid -> ff3ab5c4-dc2b-4238-b5c0-7ccf6e5523f7}, []}]                           |\n",
            "|[{document, 125, 219, Scholars explore AI's responsible development. Ongoing research navigates evolving challenges., {sentence -> 0, document -> 2, uuid -> ace36c85-f6d8-455d-ade4-4ce37df8f05c}, []}]|\n",
            "+--------------------------------------------------------------------------------------------------------------------------------------------------------------------------------------------------------+\n",
            "\n"
          ]
        }
      ],
      "source": [
        "document_assembler = nlp.DocumentAssembler()\\\n",
        "    .setInputCol(\"text\")\\\n",
        "    .setOutputCol(\"document\")\n",
        "\n",
        "sentence_detector = nlp.SentenceDetector()\\\n",
        "    .setInputCols(\"document\")\\\n",
        "    .setOutputCol(\"sentence\")\n",
        "\n",
        "tokenizer = nlp.Tokenizer()\\\n",
        "    .setInputCols(\"document\")\\\n",
        "    .setOutputCol(\"token\")\n",
        "\n",
        "document_splitter = medical.InternalDocumentSplitter()\\\n",
        "    .setInputCols(\"document\", \"sentence\", \"token\")\\\n",
        "    .setOutputCol(\"splits\")\\\n",
        "    .setSplitMode(\"token\")\\\n",
        "    .setSentenceAwareness(True)\\\n",
        "    .setMaxLength(12)\\\n",
        "    .setExplodeSplits(True)\n",
        "\n",
        "pipeline = nlp.Pipeline().setStages([\n",
        "    document_assembler,\n",
        "    sentence_detector,\n",
        "    tokenizer,\n",
        "    document_splitter\n",
        "])\n",
        "\n",
        "\n",
        "pipeline_df = pipeline.fit(df).transform(df).select(\"splits\").show(truncate=False)"
      ]
    },
    {
      "cell_type": "markdown",
      "metadata": {
        "id": "ZjcHqTKR6LIL"
      },
      "source": [
        "##  Sentence Mode"
      ]
    },
    {
      "cell_type": "code",
      "execution_count": null,
      "metadata": {
        "colab": {
          "base_uri": "https://localhost:8080/"
        },
        "id": "eL99-abG6P4t",
        "outputId": "88b9253d-7753-4d29-c611-b38f7a386049"
      },
      "outputs": [
        {
          "output_type": "stream",
          "name": "stdout",
          "text": [
            "sentence_detector_dl_healthcare download started this may take some time.\n",
            "Approximate size to download 367.3 KB\n",
            "[OK!]\n",
            "+--------------------------------------------------------------------------------------------------------------------------------------------------------------------------------------------------------------------------------------------------------------------------------------------------------------------------------------------------------------------------------------------------------------------------------------------------------------------------------------------------------------------------------------------------------------------------------------------------------------------------------------------------------------------------------------------------------------------------------------------------------------------------------------+\n",
            "|splits                                                                                                                                                                                                                                                                                                                                                                                                                                                                                                                                                                                                                                                                                                                                                                                |\n",
            "+--------------------------------------------------------------------------------------------------------------------------------------------------------------------------------------------------------------------------------------------------------------------------------------------------------------------------------------------------------------------------------------------------------------------------------------------------------------------------------------------------------------------------------------------------------------------------------------------------------------------------------------------------------------------------------------------------------------------------------------------------------------------------------------+\n",
            "|[{document, 1, 243, Beyond OpenAI in Commercial LLM Landscape\\nExploring the Innovators and Challengers in the Commercial LLM Landscape beyond OpenAI: Anthropic, Cohere, Mosaic ML, Cerebras, Aleph Alpha, AI21 Labs and John Snow Labs.\\nVeysel Kocaman\\nJohn Snow Labs, {sentence -> 0, document -> 0, uuid -> dfe0352a-9703-46fb-b678-e1bc9284a654}, []}]                                                                                                                                                                                                                                                                                                                                                                                                                         |\n",
            "|[{document, 244, 649, Veysel Kocaman\\n\\nThis blog post explores the emerging players in the commercial large language model (LLM) landscape, namely Anthropic, Cohere, Mosaic ML, Cerebras, Aleph Alpha, AI21 Labs and John Snow Labs. While OpenAI is well-known, these companies bring fresh ideas and tools to the LLM world. We discuss their unique offerings, compliance with the EU AI Act, pricing, and performance on various tasks., {sentence -> 0, document -> 1, uuid -> 9fa87518-fdfd-4267-a209-e4ff6d390b09}, []}]                                                                                                                                                                                                                                                     |\n",
            "|[{document, 651, 1300, In the burgeoning world of artificial intelligence, large language models (LLMs) are the new vanguard, shaping how we interact with machines and expanding the boundaries of what technology can achieve. As the field evolves, a dynamic set of companies have emerged, each contributing unique perspectives and solutions to the landscape. They range from established tech giants flexing their AI muscles, to innovative start-ups pushing the boundaries of what’s possible.\\n\\nThis landscape is a vibrant blend of commercial entities and open-source advocates, with a wealth of diversity in their origin stories, funding, and the models they have developed., {sentence -> 0, document -> 2, uuid -> 8faad158-c962-4e6b-8013-fbf1212ebe28}, []}]|\n",
            "|[{document, 1301, 1875, From licensed models delivered via APIs to open-source alternatives available for local deployment, the offerings span a broad spectrum, meeting the varied needs of developers, businesses, and researchers worldwide.\\n\\nIn this blog post, we will dive into the fascinating ecosystem of LLM companies. We’ll start with an overview, presenting a snapshot of the current landscape. We’ll then delve into more detailed profiles of each major player, exploring their unique contributions, the models they’ve brought to life, and the strategic decisions that have shaped their paths., {sentence -> 0, document -> 3, uuid -> ef790028-81c4-4cef-977a-63f94ea9780b}, []}]                                                                          |\n",
            "|[{document, 1876, 2392, So, whether you’re an AI enthusiast, a developer navigating the LLM waters, or just a curious mind, join us as we journey through the bustling landscape of LLM companies.\\n\\nThe landscape of large language models (LLMs) companies\\nThe landscape of large language models (LLMs) companies is diverse, featuring both well-established organizations and dynamic newcomers. Dominating the industry are leading LLM companies, such as OpenAI, which was founded in 2015 and has accumulated $11.3 billion in funding by June 2023., {sentence -> 0, document -> 4, uuid -> 6ebcc770-72de-4816-a959-e760ab7e192f}, []}]                                                                                                                                   |\n",
            "|[{document, 2393, 2506, Known for their GPT-3.5 and GPT-4 (ChatGPT) models, OpenAI provides access to these tools through a licensed API., {sentence -> 0, document -> 5, uuid -> b68091b3-0a5d-43ce-8a9d-70ae54185779}, []}]                                                                                                                                                                                                                                                                                                                                                                                                                                                                                                                                                         |\n",
            "+--------------------------------------------------------------------------------------------------------------------------------------------------------------------------------------------------------------------------------------------------------------------------------------------------------------------------------------------------------------------------------------------------------------------------------------------------------------------------------------------------------------------------------------------------------------------------------------------------------------------------------------------------------------------------------------------------------------------------------------------------------------------------------------+\n",
            "\n"
          ]
        }
      ],
      "source": [
        "document_assembler = nlp.DocumentAssembler()\\\n",
        "    .setInputCol(\"text\")\\\n",
        "    .setOutputCol(\"document\")\n",
        "\n",
        "sentence_detector_dl = nlp.SentenceDetectorDLModel\\\n",
        "    .pretrained(\"sentence_detector_dl_healthcare\", \"en\", \"clinical/models\")\\\n",
        "    .setInputCols(\"document\")\\\n",
        "    .setOutputCol(\"sentence\")\n",
        "\n",
        "document_splitter = medical.InternalDocumentSplitter() \\\n",
        "    .setInputCols([\"document\", \"sentence\"]) \\\n",
        "    .setOutputCol(\"splits\") \\\n",
        "    .setSplitMode(\"sentence\") \\\n",
        "    .setMaxLength(4)\\\n",
        "    .setExplodeSplits(True)\n",
        "\n",
        "pipeline = nlp.Pipeline().setStages([\n",
        "    document_assembler,\n",
        "    sentence_detector_dl,\n",
        "    document_splitter\n",
        "])\n",
        "\n",
        "pipeline_df = pipeline.fit(mediumDF).transform(mediumDF).select(\"splits\").show(truncate=False)"
      ]
    },
    {
      "cell_type": "markdown",
      "metadata": {
        "id": "Et2fRhognXbV"
      },
      "source": [
        "## Meta Data Fields"
      ]
    },
    {
      "cell_type": "markdown",
      "metadata": {
        "id": "wYdkSjdwnd_4"
      },
      "source": [
        "**setMetaDataFields**\n",
        "\n",
        "Metadata fields to add specified data in columns to the metadata of the split documents. You should set column names to read columns."
      ]
    },
    {
      "cell_type": "code",
      "execution_count": null,
      "metadata": {
        "id": "z325iiHfnrFw"
      },
      "outputs": [],
      "source": [
        "!wget -q https://raw.githubusercontent.com/JohnSnowLabs/spark-nlp-workshop/master/healthcare-nlp/data/mt_data.csv -O ./mt_data.csv"
      ]
    },
    {
      "cell_type": "code",
      "execution_count": null,
      "metadata": {
        "colab": {
          "base_uri": "https://localhost:8080/"
        },
        "id": "pd9eATHtpzRP",
        "outputId": "c7e630fa-963d-4454-9f85-d847a685cd9f"
      },
      "outputs": [
        {
          "output_type": "stream",
          "name": "stdout",
          "text": [
            "+----------+--------------------+--------------------+--------------------+\n",
            "|PATIENT_ID|  medical_speciality|           file_name|                text|\n",
            "+----------+--------------------+--------------------+--------------------+\n",
            "|    #99373|             Surgery|    Surgery_1066.txt|\\nMedical Special...|\n",
            "|    #92885|             Urology|      Urology_46.txt|\\nMedical Special...|\n",
            "|    #89507|Cardiovascular_Pu...|Cardiovascular_Pu...|\\nMedical Special...|\n",
            "|    #59823|Cardiovascular_Pu...|Cardiovascular_Pu...|\\nMedical Special...|\n",
            "|    #99164|Consult_History_a...|Consult_History_a...|\\nMedical Special...|\n",
            "|    #43503|        Neurosurgery| Neurosurgery_57.txt|\\nMedical Special...|\n",
            "|    #72216|    General_Medicine|General_Medicine_...|\\nMedical Special...|\n",
            "|    #84082|        Chiropractic| Chiropractic_05.txt|\\nMedical Special...|\n",
            "|    #62923|Cardiovascular_Pu...|Cardiovascular_Pu...|\\nMedical Special...|\n",
            "|    #16590| Hematology_Oncology|Hematology_Oncolo...|\\nMedical Special...|\n",
            "+----------+--------------------+--------------------+--------------------+\n",
            "\n"
          ]
        }
      ],
      "source": [
        "mt_data_df = spark.createDataFrame(pd.read_csv(\"mt_data.csv\").sample(10))\n",
        "mt_data_df.show()"
      ]
    },
    {
      "cell_type": "code",
      "execution_count": null,
      "metadata": {
        "colab": {
          "base_uri": "https://localhost:8080/"
        },
        "id": "4YCRcv1cndsy",
        "outputId": "e9920ec9-fbab-4b95-f964-ecb176a93796"
      },
      "outputs": [
        {
          "output_type": "stream",
          "name": "stdout",
          "text": [
            "sentence_detector_dl_healthcare download started this may take some time.\n",
            "Approximate size to download 367.3 KB\n",
            "[OK!]\n",
            "+-----------------------------------------------------------------------------------------------------------------------------------------------------------------------------------------------------------------------------------------------------------------------------------------------------------------------------------------------------------------------------------+------------------------------------------------------------------------------------------------------------------------------------------------------------------+\n",
            "|splits                                                                                                                                                                                                                                                                                                                                                                             |metadata                                                                                                                                                          |\n",
            "+-----------------------------------------------------------------------------------------------------------------------------------------------------------------------------------------------------------------------------------------------------------------------------------------------------------------------------------------------------------------------------------+------------------------------------------------------------------------------------------------------------------------------------------------------------------+\n",
            "|[Medical Specialty:Surgery\\nSample Name: Ulnar Nerve Transposition\\nDescription: Subcutaneous ulnar nerve transposition.]                                                                                                                                                                                                                                                          |[{sentence -> 0, document -> 0, uuid -> 318ac062-35c7-4842-80b2-8f21d9957019, PATIENT_ID -> #99373, medical_speciality -> Surgery, file_name -> Surgery_1066.txt}]|\n",
            "|[A curvilinear incision was made over the medial elbow, starting proximally at the medial intermuscular septum, curving posterior to the medial epicondyle, then curving anteriorly along the path of the ulnar nerve. Dissection was carried down to the ulnar nerve.\\n(Medical Transcription Sample Report)]                                                                     |[{sentence -> 0, document -> 1, uuid -> d3693afc-ba64-425a-b2ec-a1d3492c8b39, PATIENT_ID -> #99373, medical_speciality -> Surgery, file_name -> Surgery_1066.txt}]|\n",
            "|[PROCEDURE: Subcutaneous ulnar nerve transposition.PROCEDURE IN DETAIL:  After administering appropriate antibiotics and MAC anesthesia, the upper extremity was prepped and draped in the usual standard fashion. The arm was exsanguinated with Esmarch, and the tourniquet inflated to 250 mmHg.]                                                                               |[{sentence -> 0, document -> 2, uuid -> 0d70b18b-dea0-4e28-9481-c63189ce4251, PATIENT_ID -> #99373, medical_speciality -> Surgery, file_name -> Surgery_1066.txt}]|\n",
            "|[A curvilinear incision was made over the medial elbow, starting proximally at the medial intermuscular septum, curving posterior to the medial epicondyle, then curving anteriorly along the path of the ulnar nerve. Dissection was carried down to the ulnar nerve. Branches of the medial antebrachial and the medial brachial cutaneous nerves were identified and protected.]|[{sentence -> 0, document -> 3, uuid -> a5f04013-782c-4dbe-a712-b487622b4e84, PATIENT_ID -> #99373, medical_speciality -> Surgery, file_name -> Surgery_1066.txt}]|\n",
            "|[Osborne's fascia was released, an ulnar neurolysis performed, and the ulnar nerve was mobilized. Six cm of the medial intermuscular septum was excised, and the deep periosteal origin of the flexor carpi ulnaris was released to avoid kinking of the nerve as it was moved anteriorly.The subcutaneous plane just superficial to the flexor-pronator mass was developed.]      |[{sentence -> 0, document -> 4, uuid -> 6f6b055c-48a4-4cc4-81cd-fecf94d37134, PATIENT_ID -> #99373, medical_speciality -> Surgery, file_name -> Surgery_1066.txt}]|\n",
            "|[Meticulous hemostasis was maintained with bipolar electrocautery. The nerve was transposed anteriorly, superficial to the flexor-pronator mass. Motor branches were dissected proximally and distally to avoid tethering or kinking the ulnar nerve.]                                                                                                                             |[{sentence -> 0, document -> 5, uuid -> fccbac0d-e578-477b-898b-677cf1134b5b, PATIENT_ID -> #99373, medical_speciality -> Surgery, file_name -> Surgery_1066.txt}]|\n",
            "|[A semicircular medially based flap of flexor-pronator fascia was raised and sutured to the subcutaneous tissue in such a way as to prevent the nerve from relocating. The subcutaneous tissue and skin were closed with simple interrupted sutures. Marcaine with epinephrine was injected into the wound.]                                                                       |[{sentence -> 0, document -> 6, uuid -> e3bd163c-268c-4501-921f-66e0bfb9e354, PATIENT_ID -> #99373, medical_speciality -> Surgery, file_name -> Surgery_1066.txt}]|\n",
            "|[The elbow was dressed and splinted. The patient was awakened and sent to the recovery room in good condition, having tolerated the procedure well.]                                                                                                                                                                                                                               |[{sentence -> 0, document -> 7, uuid -> daa09561-a263-46a4-8b91-5d0fc10d9d82, PATIENT_ID -> #99373, medical_speciality -> Surgery, file_name -> Surgery_1066.txt}]|\n",
            "|[Medical Specialty:Urology\\nSample Name: Elevated PSA - H&P\\nDescription: Abnormal serum PSA of 16 ng/ml, dribbling urine, inability to empty bladder, nocturia, urinary hesitancy and slow urine stream.\\n(Medical Transcription Sample Report)]                                                                                                                                  |[{sentence -> 0, document -> 0, uuid -> 86467b57-a6ee-4823-b7f3-4719d549846b, PATIENT_ID -> #92885, medical_speciality -> Urology, file_name -> Urology_46.txt}]  |\n",
            "|[CHIEF COMPLAINT: This 61-year-old male presents today with recent finding of abnormal serum PSA of 16 ng/ml. Associated signs and symptoms: Associated signs and symptoms include dribbling urine, inability to empty bladder, nocturia, urinary hesitancy and urine stream is slow. Timing (onset/frequency):]                                                                   |[{sentence -> 0, document -> 1, uuid -> 0844414b-db1d-40d3-8da4-94781c243e8b, PATIENT_ID -> #92885, medical_speciality -> Urology, file_name -> Urology_46.txt}]  |\n",
            "|[Onset was 6 months ago. Patient denies fever and chills and denies flank pain.ALLERGIES: Patient admits allergies to adhesive tape resulting in severe rash.]                                                                                                                                                                                                                     |[{sentence -> 0, document -> 2, uuid -> e7d568e9-7788-45c4-9564-53d561b25f30, PATIENT_ID -> #92885, medical_speciality -> Urology, file_name -> Urology_46.txt}]  |\n",
            "|[Patient denies an allergy to anesthesia.MEDICATION HISTORY: Patient is not currently taking any medications.PAST MEDICAL HISTORY: Childhood Illnesses: (+) asthma, Cardiovascular Hx: (-) angina, Renal / Urinary Hx: (-) kidney problems.]                                                                                                                                       |[{sentence -> 0, document -> 3, uuid -> 6024d3bc-7e3c-41da-9c78-37d5c9eff112, PATIENT_ID -> #92885, medical_speciality -> Urology, file_name -> Urology_46.txt}]  |\n",
            "|[PAST SURGICAL HISTORY: Patient admits past surgical history of appendectomy in 1992.\\nSOCIAL HISTORY: Patient admits alcohol use, Drinking is described as heavy, Patient denies illegal drug use, Patient denies STD history, Patient denies tobacco use.FAMILY HISTORY: Patient admits a family history of gout attacks associated with father.]                                |[{sentence -> 0, document -> 4, uuid -> add19058-9393-438f-8bcf-236c3921a325, PATIENT_ID -> #92885, medical_speciality -> Urology, file_name -> Urology_46.txt}]  |\n",
            "|[REVIEW OF SYSTEMS: Unremarkable with exception of chief complaint.PHYSICAL EXAM: BP Sitting: 120/80 Resp: 20 HR: 72 Temp: 98.6The patient is a pleasant, 61-year-old male in no apparent distress who looks his given age, is well-developed and nourished with good attention to hygiene and body habitus.Neck: Neck is normal and symmetrical, without swelling or tenderness.] |[{sentence -> 0, document -> 5, uuid -> fca00be7-61dd-47fa-8a22-76988db54218, PATIENT_ID -> #92885, medical_speciality -> Urology, file_name -> Urology_46.txt}]  |\n",
            "|[Thyroid is smooth and symmetric with no enlargement, tenderness or masses noted.Respiratory: Respirations are even without use of accessory muscles and no intercostal retractions noted. Breathing is not labored, diaphragmatic, or abdominal. Lungs clear to auscultation with no rales, rhonchi, wheezes, or rubs noted.]                                                     |[{sentence -> 0, document -> 6, uuid -> 2240011c-a189-40f8-a17f-53326b2944ce, PATIENT_ID -> #92885, medical_speciality -> Urology, file_name -> Urology_46.txt}]  |\n",
            "|[Cardiovascular: Normal S1 and S2 without murmurs, gallop, rubs or clicks. Peripheral pulses full to palpation, no varicosities, extremities warm with no edema or tenderness.Gastrointestinal: Abdominal organs, bladder, kidney: No abnormalities, without masses, tenderness, or rigidity.]                                                                                     |[{sentence -> 0, document -> 7, uuid -> c70bc1ac-6fb2-480e-b9b7-de8d38ae6b40, PATIENT_ID -> #92885, medical_speciality -> Urology, file_name -> Urology_46.txt}]  |\n",
            "|[Hernia: absent; no inguinal, femoral, or ventral hernias noted. Liver and/or Spleen: no abnormalities, tenderness, or masses noted. Stool specimen not indicated.]                                                                                                                                                                                                                |[{sentence -> 0, document -> 8, uuid -> 63eaab2e-76fd-4e1a-9db9-2697d32f20e3, PATIENT_ID -> #92885, medical_speciality -> Urology, file_name -> Urology_46.txt}]  |\n",
            "|[Genitourinary: Anus and perineum: no abnormalities. No fissures, edema, dimples, or tenderness noted.Scrotum: no abnormalities.]                                                                                                                                                                                                                                                  |[{sentence -> 0, document -> 9, uuid -> 39c030d0-fd36-4487-9ec2-ff17bcefc88c, PATIENT_ID -> #92885, medical_speciality -> Urology, file_name -> Urology_46.txt}]  |\n",
            "|[No lesions, rash, or sebaceous cyst noted.Epididymides: no abnormalities, masses, or spermatocele, without enlargement, induration, or tenderness.Testes: symmetrical; no abnormalities, tenderness, hydrocele, or masses noted.]                                                                                                                                                 |[{sentence -> 0, document -> 10, uuid -> d352b4e6-674c-4517-ad61-bb31f7007be8, PATIENT_ID -> #92885, medical_speciality -> Urology, file_name -> Urology_46.txt}] |\n",
            "|[Urethral Meatus: no abnormalities; no hypospadias, lesions, polyps, or discharge noted.Penis: no abnormalities; circumcised; no phimosis, Peyronie's, condylomata, or lumps noted.Prostate: size 60 gr, RT>LT and firm.]                                                                                                                                                          |[{sentence -> 0, document -> 11, uuid -> 70ceeb8a-8762-4825-adcb-a73a71efd3c4, PATIENT_ID -> #92885, medical_speciality -> Urology, file_name -> Urology_46.txt}] |\n",
            "+-----------------------------------------------------------------------------------------------------------------------------------------------------------------------------------------------------------------------------------------------------------------------------------------------------------------------------------------------------------------------------------+------------------------------------------------------------------------------------------------------------------------------------------------------------------+\n",
            "only showing top 20 rows\n",
            "\n"
          ]
        }
      ],
      "source": [
        "document_assembler = nlp.DocumentAssembler()\\\n",
        "    .setInputCol(\"text\")\\\n",
        "    .setOutputCol(\"document\")\n",
        "\n",
        "sentence_detector_dl = nlp.SentenceDetectorDLModel\\\n",
        "    .pretrained(\"sentence_detector_dl_healthcare\", \"en\", \"clinical/models\")\\\n",
        "    .setInputCols(\"document\")\\\n",
        "    .setOutputCol(\"sentence\")\n",
        "\n",
        "document_splitter = medical.InternalDocumentSplitter() \\\n",
        "    .setInputCols([\"document\", \"sentence\"]) \\\n",
        "    .setOutputCol(\"splits\") \\\n",
        "    .setSplitMode(\"sentence\") \\\n",
        "    .setMaxLength(3)\\\n",
        "    .setExplodeSplits(True)\\\n",
        "    .setMetaDataFields([\"PATIENT_ID\",\"medical_speciality\",\"file_name\"])\n",
        "\n",
        "pipeline = nlp.Pipeline().setStages([\n",
        "    document_assembler,\n",
        "    sentence_detector_dl,\n",
        "     document_splitter\n",
        "])\n",
        "\n",
        "pipeline = pipeline.fit(mt_data_df)\\\n",
        "                    .transform(mt_data_df)\\\n",
        "                    .selectExpr(\"splits.result as splits\", \"splits.metadata as metadata\")\\\n",
        "                    .show(truncate=False)"
      ]
    }
  ]
}
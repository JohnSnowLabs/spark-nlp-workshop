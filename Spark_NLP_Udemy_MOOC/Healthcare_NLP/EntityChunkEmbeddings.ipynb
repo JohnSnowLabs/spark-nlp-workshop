{
  "nbformat": 4,
  "nbformat_minor": 0,
  "metadata": {
    "colab": {
      "provenance": []
    },
    "kernelspec": {
      "name": "python3",
      "display_name": "Python 3"
    },
    "language_info": {
      "name": "python"
    }
  },
  "cells": [
    {
      "cell_type": "markdown",
      "source": [
        "![JohnSnowLabs](https://nlp.johnsnowlabs.com/assets/images/logo.png)"
      ],
      "metadata": {
        "id": "wid7qBqjp2jl"
      }
    },
    {
      "cell_type": "markdown",
      "source": [
        "# **EntityChunkEmbeddings**"
      ],
      "metadata": {
        "id": "8-hl3s1_p6ry"
      }
    },
    {
      "cell_type": "markdown",
      "source": [
        "This notebook will cover the different parameters and usages of `EntityChunkEmbeddings`.\n",
        "\n",
        "**📖 Learning Objectives:**\n",
        "\n",
        "1. Comprehend the need for Entity Chunk Embeddings and their relationship with BERT Sentence embeddings.\n",
        "\n",
        "2. Understand the concept of a weighted average vector representation of related entity chunks.\n",
        "\n",
        "3. Become comfortable using the different parameters of the annotator.\n",
        "\n",
        "\n",
        "**🔗 Helpful Links:**\n",
        "\n",
        "- Documentation : [EntityChunkEmbeddings](https://nlp.johnsnowlabs.com/docs/en/licensed_annotators#entitychunkembeddings)\n",
        "\n",
        "- Python Docs : [EntityChunkEmbeddings](https://nlp.johnsnowlabs.com/licensed/api/python/reference/autosummary/sparknlp_jsl/annotator/embeddings/entity_chunk_embeddings/index.html)\n",
        "\n",
        "- Scala Docs : [EntityChunkEmbeddings](https://nlp.johnsnowlabs.com/licensed/api/com/johnsnowlabs/nlp/annotators/embeddings/EntityChunkEmbeddings.html)\n",
        "\n",
        "- For extended examples of usage, see the [Spark NLP Workshop repository](https://github.com/JohnSnowLabs/spark-nlp-workshop/tree/master/healthcare-nlp)."
      ],
      "metadata": {
        "id": "dwGY8yjhqDUn"
      }
    },
    {
      "cell_type": "markdown",
      "metadata": {
        "id": "MfkkKkbVF309"
      },
      "source": [
        "## **🎬 Colab Setup**"
      ]
    },
    {
      "cell_type": "code",
      "execution_count": 1,
      "metadata": {
        "id": "iMkMQtZNF2n-",
        "colab": {
          "base_uri": "https://localhost:8080/"
        },
        "outputId": "cc162f6d-e065-4cf4-8f92-7a7962ec0853"
      },
      "outputs": [
        {
          "output_type": "stream",
          "name": "stdout",
          "text": [
            "\u001b[2K     \u001b[90m━━━━━━━━━━━━━━━━━━━━━━━━━━━━━━━━━━━━━━━━\u001b[0m \u001b[32m116.4/116.4 kB\u001b[0m \u001b[31m2.5 MB/s\u001b[0m eta \u001b[36m0:00:00\u001b[0m\n",
            "\u001b[2K     \u001b[90m━━━━━━━━━━━━━━━━━━━━━━━━━━━━━━━━━━━━━━━━\u001b[0m \u001b[32m135.8/135.8 kB\u001b[0m \u001b[31m12.8 MB/s\u001b[0m eta \u001b[36m0:00:00\u001b[0m\n",
            "\u001b[2K     \u001b[90m━━━━━━━━━━━━━━━━━━━━━━━━━━━━━━━━━━━━━━━━\u001b[0m \u001b[32m656.0/656.0 kB\u001b[0m \u001b[31m27.5 MB/s\u001b[0m eta \u001b[36m0:00:00\u001b[0m\n",
            "\u001b[2K     \u001b[90m━━━━━━━━━━━━━━━━━━━━━━━━━━━━━━━━━━━━━━━━\u001b[0m \u001b[32m3.1/3.1 MB\u001b[0m \u001b[31m29.5 MB/s\u001b[0m eta \u001b[36m0:00:00\u001b[0m\n",
            "\u001b[2K     \u001b[90m━━━━━━━━━━━━━━━━━━━━━━━━━━━━━━━━━━━━━━━━\u001b[0m \u001b[32m212.4/212.4 MB\u001b[0m \u001b[31m4.6 MB/s\u001b[0m eta \u001b[36m0:00:00\u001b[0m\n",
            "\u001b[?25h  Preparing metadata (setup.py) ... \u001b[?25l\u001b[?25hdone\n",
            "\u001b[2K     \u001b[90m━━━━━━━━━━━━━━━━━━━━━━━━━━━━━━━━━━━━━━━━\u001b[0m \u001b[32m95.4/95.4 kB\u001b[0m \u001b[31m10.5 MB/s\u001b[0m eta \u001b[36m0:00:00\u001b[0m\n",
            "\u001b[2K     \u001b[90m━━━━━━━━━━━━━━━━━━━━━━━━━━━━━━━━━━━━━━━━\u001b[0m \u001b[32m540.7/540.7 kB\u001b[0m \u001b[31m40.2 MB/s\u001b[0m eta \u001b[36m0:00:00\u001b[0m\n",
            "\u001b[2K     \u001b[90m━━━━━━━━━━━━━━━━━━━━━━━━━━━━━━━━━━━━━━━━\u001b[0m \u001b[32m198.6/198.6 kB\u001b[0m \u001b[31m19.3 MB/s\u001b[0m eta \u001b[36m0:00:00\u001b[0m\n",
            "\u001b[2K     \u001b[90m━━━━━━━━━━━━━━━━━━━━━━━━━━━━━━━━━━━━━━━━\u001b[0m \u001b[32m66.9/66.9 kB\u001b[0m \u001b[31m7.7 MB/s\u001b[0m eta \u001b[36m0:00:00\u001b[0m\n",
            "\u001b[2K     \u001b[90m━━━━━━━━━━━━━━━━━━━━━━━━━━━━━━━━━━━━━━━━\u001b[0m \u001b[32m11.6/11.6 MB\u001b[0m \u001b[31m76.6 MB/s\u001b[0m eta \u001b[36m0:00:00\u001b[0m\n",
            "\u001b[2K     \u001b[90m━━━━━━━━━━━━━━━━━━━━━━━━━━━━━━━━━━━━━━━━\u001b[0m \u001b[32m81.8/81.8 kB\u001b[0m \u001b[31m10.0 MB/s\u001b[0m eta \u001b[36m0:00:00\u001b[0m\n",
            "\u001b[2K     \u001b[90m━━━━━━━━━━━━━━━━━━━━━━━━━━━━━━━━━━━━━━━━\u001b[0m \u001b[32m150.3/150.3 kB\u001b[0m \u001b[31m17.2 MB/s\u001b[0m eta \u001b[36m0:00:00\u001b[0m\n",
            "\u001b[2K     \u001b[90m━━━━━━━━━━━━━━━━━━━━━━━━━━━━━━━━━━━━━━━━\u001b[0m \u001b[32m1.6/1.6 MB\u001b[0m \u001b[31m84.7 MB/s\u001b[0m eta \u001b[36m0:00:00\u001b[0m\n",
            "\u001b[?25h  Building wheel for pyspark (setup.py) ... \u001b[?25l\u001b[?25hdone\n",
            "\u001b[31mERROR: pip's dependency resolver does not currently take into account all the packages that are installed. This behaviour is the source of the following dependency conflicts.\n",
            "lida 0.0.10 requires fastapi, which is not installed.\n",
            "lida 0.0.10 requires kaleido, which is not installed.\n",
            "lida 0.0.10 requires python-multipart, which is not installed.\n",
            "lida 0.0.10 requires uvicorn, which is not installed.\n",
            "llmx 0.0.15a0 requires cohere, which is not installed.\n",
            "llmx 0.0.15a0 requires openai, which is not installed.\n",
            "llmx 0.0.15a0 requires tiktoken, which is not installed.\u001b[0m\u001b[31m\n",
            "\u001b[0m"
          ]
        }
      ],
      "source": [
        "!pip install -q johnsnowlabs"
      ]
    },
    {
      "cell_type": "code",
      "source": [
        "from google.colab import files\n",
        "print('Please Upload your John Snow Labs License using the button below')\n",
        "license_keys = files.upload()"
      ],
      "metadata": {
        "id": "7C0W6h3vRPmv",
        "colab": {
          "base_uri": "https://localhost:8080/",
          "height": 91
        },
        "outputId": "adf99bb9-a6a3-4ef6-f845-c5c18ca2ceb7"
      },
      "execution_count": 2,
      "outputs": [
        {
          "output_type": "stream",
          "name": "stdout",
          "text": [
            "Please Upload your John Snow Labs License using the button below\n"
          ]
        },
        {
          "output_type": "display_data",
          "data": {
            "text/plain": [
              "<IPython.core.display.HTML object>"
            ],
            "text/html": [
              "\n",
              "     <input type=\"file\" id=\"files-b995cda0-00a7-411b-a2ac-a5aea634a6b0\" name=\"files[]\" multiple disabled\n",
              "        style=\"border:none\" />\n",
              "     <output id=\"result-b995cda0-00a7-411b-a2ac-a5aea634a6b0\">\n",
              "      Upload widget is only available when the cell has been executed in the\n",
              "      current browser session. Please rerun this cell to enable.\n",
              "      </output>\n",
              "      <script>// Copyright 2017 Google LLC\n",
              "//\n",
              "// Licensed under the Apache License, Version 2.0 (the \"License\");\n",
              "// you may not use this file except in compliance with the License.\n",
              "// You may obtain a copy of the License at\n",
              "//\n",
              "//      http://www.apache.org/licenses/LICENSE-2.0\n",
              "//\n",
              "// Unless required by applicable law or agreed to in writing, software\n",
              "// distributed under the License is distributed on an \"AS IS\" BASIS,\n",
              "// WITHOUT WARRANTIES OR CONDITIONS OF ANY KIND, either express or implied.\n",
              "// See the License for the specific language governing permissions and\n",
              "// limitations under the License.\n",
              "\n",
              "/**\n",
              " * @fileoverview Helpers for google.colab Python module.\n",
              " */\n",
              "(function(scope) {\n",
              "function span(text, styleAttributes = {}) {\n",
              "  const element = document.createElement('span');\n",
              "  element.textContent = text;\n",
              "  for (const key of Object.keys(styleAttributes)) {\n",
              "    element.style[key] = styleAttributes[key];\n",
              "  }\n",
              "  return element;\n",
              "}\n",
              "\n",
              "// Max number of bytes which will be uploaded at a time.\n",
              "const MAX_PAYLOAD_SIZE = 100 * 1024;\n",
              "\n",
              "function _uploadFiles(inputId, outputId) {\n",
              "  const steps = uploadFilesStep(inputId, outputId);\n",
              "  const outputElement = document.getElementById(outputId);\n",
              "  // Cache steps on the outputElement to make it available for the next call\n",
              "  // to uploadFilesContinue from Python.\n",
              "  outputElement.steps = steps;\n",
              "\n",
              "  return _uploadFilesContinue(outputId);\n",
              "}\n",
              "\n",
              "// This is roughly an async generator (not supported in the browser yet),\n",
              "// where there are multiple asynchronous steps and the Python side is going\n",
              "// to poll for completion of each step.\n",
              "// This uses a Promise to block the python side on completion of each step,\n",
              "// then passes the result of the previous step as the input to the next step.\n",
              "function _uploadFilesContinue(outputId) {\n",
              "  const outputElement = document.getElementById(outputId);\n",
              "  const steps = outputElement.steps;\n",
              "\n",
              "  const next = steps.next(outputElement.lastPromiseValue);\n",
              "  return Promise.resolve(next.value.promise).then((value) => {\n",
              "    // Cache the last promise value to make it available to the next\n",
              "    // step of the generator.\n",
              "    outputElement.lastPromiseValue = value;\n",
              "    return next.value.response;\n",
              "  });\n",
              "}\n",
              "\n",
              "/**\n",
              " * Generator function which is called between each async step of the upload\n",
              " * process.\n",
              " * @param {string} inputId Element ID of the input file picker element.\n",
              " * @param {string} outputId Element ID of the output display.\n",
              " * @return {!Iterable<!Object>} Iterable of next steps.\n",
              " */\n",
              "function* uploadFilesStep(inputId, outputId) {\n",
              "  const inputElement = document.getElementById(inputId);\n",
              "  inputElement.disabled = false;\n",
              "\n",
              "  const outputElement = document.getElementById(outputId);\n",
              "  outputElement.innerHTML = '';\n",
              "\n",
              "  const pickedPromise = new Promise((resolve) => {\n",
              "    inputElement.addEventListener('change', (e) => {\n",
              "      resolve(e.target.files);\n",
              "    });\n",
              "  });\n",
              "\n",
              "  const cancel = document.createElement('button');\n",
              "  inputElement.parentElement.appendChild(cancel);\n",
              "  cancel.textContent = 'Cancel upload';\n",
              "  const cancelPromise = new Promise((resolve) => {\n",
              "    cancel.onclick = () => {\n",
              "      resolve(null);\n",
              "    };\n",
              "  });\n",
              "\n",
              "  // Wait for the user to pick the files.\n",
              "  const files = yield {\n",
              "    promise: Promise.race([pickedPromise, cancelPromise]),\n",
              "    response: {\n",
              "      action: 'starting',\n",
              "    }\n",
              "  };\n",
              "\n",
              "  cancel.remove();\n",
              "\n",
              "  // Disable the input element since further picks are not allowed.\n",
              "  inputElement.disabled = true;\n",
              "\n",
              "  if (!files) {\n",
              "    return {\n",
              "      response: {\n",
              "        action: 'complete',\n",
              "      }\n",
              "    };\n",
              "  }\n",
              "\n",
              "  for (const file of files) {\n",
              "    const li = document.createElement('li');\n",
              "    li.append(span(file.name, {fontWeight: 'bold'}));\n",
              "    li.append(span(\n",
              "        `(${file.type || 'n/a'}) - ${file.size} bytes, ` +\n",
              "        `last modified: ${\n",
              "            file.lastModifiedDate ? file.lastModifiedDate.toLocaleDateString() :\n",
              "                                    'n/a'} - `));\n",
              "    const percent = span('0% done');\n",
              "    li.appendChild(percent);\n",
              "\n",
              "    outputElement.appendChild(li);\n",
              "\n",
              "    const fileDataPromise = new Promise((resolve) => {\n",
              "      const reader = new FileReader();\n",
              "      reader.onload = (e) => {\n",
              "        resolve(e.target.result);\n",
              "      };\n",
              "      reader.readAsArrayBuffer(file);\n",
              "    });\n",
              "    // Wait for the data to be ready.\n",
              "    let fileData = yield {\n",
              "      promise: fileDataPromise,\n",
              "      response: {\n",
              "        action: 'continue',\n",
              "      }\n",
              "    };\n",
              "\n",
              "    // Use a chunked sending to avoid message size limits. See b/62115660.\n",
              "    let position = 0;\n",
              "    do {\n",
              "      const length = Math.min(fileData.byteLength - position, MAX_PAYLOAD_SIZE);\n",
              "      const chunk = new Uint8Array(fileData, position, length);\n",
              "      position += length;\n",
              "\n",
              "      const base64 = btoa(String.fromCharCode.apply(null, chunk));\n",
              "      yield {\n",
              "        response: {\n",
              "          action: 'append',\n",
              "          file: file.name,\n",
              "          data: base64,\n",
              "        },\n",
              "      };\n",
              "\n",
              "      let percentDone = fileData.byteLength === 0 ?\n",
              "          100 :\n",
              "          Math.round((position / fileData.byteLength) * 100);\n",
              "      percent.textContent = `${percentDone}% done`;\n",
              "\n",
              "    } while (position < fileData.byteLength);\n",
              "  }\n",
              "\n",
              "  // All done.\n",
              "  yield {\n",
              "    response: {\n",
              "      action: 'complete',\n",
              "    }\n",
              "  };\n",
              "}\n",
              "\n",
              "scope.google = scope.google || {};\n",
              "scope.google.colab = scope.google.colab || {};\n",
              "scope.google.colab._files = {\n",
              "  _uploadFiles,\n",
              "  _uploadFilesContinue,\n",
              "};\n",
              "})(self);\n",
              "</script> "
            ]
          },
          "metadata": {}
        },
        {
          "output_type": "stream",
          "name": "stdout",
          "text": [
            "Saving spark_nlp_for_healthcare_spark_ocr_7139.json to spark_nlp_for_healthcare_spark_ocr_7139.json\n"
          ]
        }
      ]
    },
    {
      "cell_type": "code",
      "source": [
        "from johnsnowlabs import nlp\n",
        "\n",
        "nlp.install()"
      ],
      "metadata": {
        "id": "NulWi4_f4GN5",
        "colab": {
          "base_uri": "https://localhost:8080/"
        },
        "outputId": "fa4e5121-5437-4a41-a944-5d04d8508629"
      },
      "execution_count": 3,
      "outputs": [
        {
          "output_type": "stream",
          "name": "stdout",
          "text": [
            "👌 Detected license file /content/spark_nlp_for_healthcare_spark_ocr_7139.json\n",
            "🚨 Outdated OCR Secrets in license file. Version=5.1.0 but should be Version=5.0.2\n",
            "📋 Stored John Snow Labs License in /root/.johnsnowlabs/licenses/license_number_0_for_Spark-Healthcare_Spark-OCR.json\n",
            "👷 Setting up  John Snow Labs home in /root/.johnsnowlabs, this might take a few minutes.\n",
            "Downloading 🐍+🚀 Python Library spark_nlp-5.1.4-py2.py3-none-any.whl\n",
            "Downloading 🐍+💊 Python Library spark_nlp_jsl-5.1.3-py3-none-any.whl\n",
            "Downloading 🫘+🚀 Java Library spark-nlp-assembly-5.1.4.jar\n",
            "Downloading 🫘+💊 Java Library spark-nlp-jsl-5.1.3.jar\n",
            "🙆 JSL Home setup in /root/.johnsnowlabs\n",
            "👌 Detected license file /content/spark_nlp_for_healthcare_spark_ocr_7139.json\n",
            "Installing /root/.johnsnowlabs/py_installs/spark_nlp_jsl-5.1.3-py3-none-any.whl to /usr/bin/python3\n",
            "Installed 1 products:\n",
            "💊 Spark-Healthcare==5.1.3 installed! ✅ Heal the planet with NLP! \n"
          ]
        }
      ]
    },
    {
      "cell_type": "code",
      "source": [
        "from johnsnowlabs import nlp, medical\n",
        "import pyspark.sql.functions as F\n",
        "import pandas as pd\n",
        "\n",
        "spark = nlp.start()"
      ],
      "metadata": {
        "id": "2GLXxe1Q0Iln",
        "colab": {
          "base_uri": "https://localhost:8080/"
        },
        "outputId": "3b4b4826-e1ec-4180-ada4-db5ea5413b35"
      },
      "execution_count": 4,
      "outputs": [
        {
          "output_type": "stream",
          "name": "stdout",
          "text": [
            "Spark Session already created, some configs may not take.\n",
            "👌 Detected license file /content/spark_nlp_for_healthcare_spark_ocr_7139.json\n"
          ]
        }
      ]
    },
    {
      "cell_type": "markdown",
      "source": [
        "## **🖨️ Input/Output Annotation Types**"
      ],
      "metadata": {
        "id": "9Fbbk1bqcuA5"
      }
    },
    {
      "cell_type": "markdown",
      "source": [
        "- Input: `DEPENDENCY`, `CHUNK`\n",
        "\n",
        "- Output: `SENTENCE_EMBEDDINGS`"
      ],
      "metadata": {
        "id": "0yFIrr5acsiU"
      }
    },
    {
      "cell_type": "markdown",
      "source": [
        "## **🔎 Parameters**\n"
      ],
      "metadata": {
        "id": "AZZA_Qe-sWRd"
      }
    },
    {
      "cell_type": "markdown",
      "source": [
        "- `targetEntities`: (dict) The target entities mapped to lists of their related entities. A target entity with an empty list of related entities means all other entities are assumed to be related to it. Entity names are case insensitive. *Mandatory to set at least one entity*\n",
        "\n",
        "- `entityWeights`: (dict) The relative weights of drug related entities. If not set, all entities have equal weights. If the list is non-empty and some entity is not in it, then its weight is set to 0. The notation TARGET_ENTITY:RELATED_ENTITY can be used to specify the weight of a entity which is related to specific target entity (e.g. \"DRUG:SYMPTOM\" -> 0.3f). Entity names are case insensitive.\n",
        "\n",
        "- `maxSyntacticDistance`: (Int) Maximal syntactic distance between the drug entity and the other drug related entities. Default value is 2.\n"
      ],
      "metadata": {
        "id": "HO-NDwbFsZlP"
      }
    },
    {
      "cell_type": "markdown",
      "source": [
        "### `setTargetEntities()`\n",
        "\n"
      ],
      "metadata": {
        "id": "m_YpJXJ9S6Ny"
      }
    },
    {
      "cell_type": "code",
      "source": [
        "documenter = (\n",
        "    nlp.DocumentAssembler().setInputCol(\"text\").setOutputCol(\"document\")\n",
        ")\n",
        "\n",
        "sentence_detector = (\n",
        "    nlp.SentenceDetector()\n",
        "    .setInputCols(\"document\")\n",
        "    .setOutputCol(\"sentence\")\n",
        ")\n",
        "\n",
        "tokenizer = nlp.Tokenizer().setInputCols(\"sentence\").setOutputCol(\"token\")\n",
        "\n",
        "embeddings = (\n",
        "    nlp.WordEmbeddingsModel()\n",
        "    .pretrained(\"embeddings_clinical\", \"en\", \"clinical/models\")\n",
        "    .setInputCols([\"sentence\", \"token\"])\n",
        "    .setOutputCol(\"embeddings\")\n",
        ")\n",
        "\n",
        "posology_ner_model = (\n",
        "    medical.NerModel()\n",
        "    .pretrained(\"ner_posology_large\", \"en\", \"clinical/models\")\n",
        "    .setInputCols([\"sentence\", \"token\", \"embeddings\"])\n",
        "    .setOutputCol(\"ner\")\n",
        ")\n",
        "\n",
        "ner_converter = (\n",
        "    medical.NerConverterInternal()\n",
        "    .setInputCols(\"sentence\", \"token\", \"ner\")\n",
        "    .setOutputCol(\"ner_chunk\")\n",
        ")\n",
        "\n",
        "pos_tager = (\n",
        "    nlp.PerceptronModel()\n",
        "    .pretrained(\"pos_clinical\", \"en\", \"clinical/models\")\n",
        "    .setInputCols(\"sentence\", \"token\")\n",
        "    .setOutputCol(\"pos_tag\")\n",
        ")\n",
        "\n",
        "dependency_parser = (\n",
        "    nlp.DependencyParserModel()\n",
        "    .pretrained(\"dependency_conllu\", \"en\")\n",
        "    .setInputCols([\"sentence\", \"pos_tag\", \"token\"])\n",
        "    .setOutputCol(\"dependencies\")\n",
        ")"
      ],
      "metadata": {
        "colab": {
          "base_uri": "https://localhost:8080/"
        },
        "id": "BqAQnr8aReUy",
        "outputId": "d7592689-b1aa-4535-a78c-e43e4bd35ec0"
      },
      "execution_count": 5,
      "outputs": [
        {
          "output_type": "stream",
          "name": "stdout",
          "text": [
            "embeddings_clinical download started this may take some time.\n",
            "Approximate size to download 1.6 GB\n",
            "[OK!]\n",
            "ner_posology_large download started this may take some time.\n",
            "[OK!]\n",
            "pos_clinical download started this may take some time.\n",
            "Approximate size to download 1.5 MB\n",
            "[OK!]\n",
            "dependency_conllu download started this may take some time.\n",
            "Approximate size to download 16.7 MB\n",
            "[OK!]\n"
          ]
        }
      ]
    },
    {
      "cell_type": "markdown",
      "source": [
        "Let's check the available entities in the model:"
      ],
      "metadata": {
        "id": "Kxa3QtKVSImj"
      }
    },
    {
      "cell_type": "code",
      "source": [
        "set([x.split(\"-\")[-1] for x in posology_ner_model.getClasses()])"
      ],
      "metadata": {
        "colab": {
          "base_uri": "https://localhost:8080/"
        },
        "id": "WQ7NPJ6t5PWH",
        "outputId": "7d0ac079-3310-4110-975f-d9bdcddf618c"
      },
      "execution_count": 6,
      "outputs": [
        {
          "output_type": "execute_result",
          "data": {
            "text/plain": [
              "{'DOSAGE', 'DRUG', 'DURATION', 'FORM', 'FREQUENCY', 'O', 'ROUTE', 'STRENGTH'}"
            ]
          },
          "metadata": {},
          "execution_count": 6
        }
      ]
    },
    {
      "cell_type": "markdown",
      "source": [
        "Let's set the target to the entity `DRUG`, and relate it only to `STRENGTH`, `ROUTE`, or `FORM`."
      ],
      "metadata": {
        "id": "7MRk2GPsRvZo"
      }
    },
    {
      "cell_type": "code",
      "source": [
        "entity_chunk_embeddings = (\n",
        "    medical.EntityChunkEmbeddings()\n",
        "    .pretrained(\"sbiobert_base_cased_mli\", \"en\", \"clinical/models\")\n",
        "    .setInputCols([\"ner_chunk\", \"dependencies\"])\n",
        "    .setOutputCol(\"drug_chunk_embeddings\")\n",
        ")\n",
        "\n",
        "entity_chunk_embeddings.setTargetEntities(\n",
        "    {\"DRUG\": [\"STRENGTH\", \"ROUTE\", \"FORM\"]}\n",
        ")\n",
        "\n",
        "rxnorm_re = (\n",
        "    medical.SentenceEntityResolverModel.pretrained(\n",
        "        \"sbiobertresolve_rxnorm_augmented_re\", \"en\", \"clinical/models\"\n",
        "    )\n",
        "    .setInputCols([\"drug_chunk_embeddings\"])\n",
        "    .setOutputCol(\"rxnorm_code\")\n",
        "    .setDistanceFunction(\"EUCLIDEAN\")\n",
        ")\n",
        "\n",
        "rxnorm_pipeline_re = nlp.Pipeline(\n",
        "    stages=[\n",
        "        documenter,\n",
        "        sentence_detector,\n",
        "        tokenizer,\n",
        "        embeddings,\n",
        "        posology_ner_model,\n",
        "        ner_converter,\n",
        "        pos_tager,\n",
        "        dependency_parser,\n",
        "        entity_chunk_embeddings,\n",
        "        rxnorm_re,\n",
        "    ]\n",
        ")\n",
        "\n",
        "rxnorm_model = rxnorm_pipeline_re.fit(\n",
        "    spark.createDataFrame([[\"\"]]).toDF(\"text\")\n",
        ")"
      ],
      "metadata": {
        "colab": {
          "base_uri": "https://localhost:8080/"
        },
        "id": "B2nr5pWNRut2",
        "outputId": "125ab2d4-8a79-4264-cdf9-2ce820e42a01"
      },
      "execution_count": 7,
      "outputs": [
        {
          "output_type": "stream",
          "name": "stdout",
          "text": [
            "sbiobert_base_cased_mli download started this may take some time.\n",
            "[OK!]\n",
            "sbiobertresolve_rxnorm_augmented_re download started this may take some time.\n",
            "[OK!]\n"
          ]
        }
      ]
    },
    {
      "cell_type": "code",
      "source": [
        "data_df = spark.createDataFrame(\n",
        "    [\n",
        "        [\n",
        "            \"The patient was given metformin 500 mg tablet, 2.5 mg of coumadin and then ibuprofen.\"\n",
        "        ],\n",
        "        [\n",
        "            \"The patient was given metformin 400 mg, coumadin 5 mg, coumadin, amlodipine 10 MG tablet\"\n",
        "        ],\n",
        "    ]\n",
        ").toDF(\"text\")\n",
        "data_df.show(truncate=150)"
      ],
      "metadata": {
        "id": "k2MJQpQMUMWt",
        "colab": {
          "base_uri": "https://localhost:8080/"
        },
        "outputId": "7429cd92-9a0a-4a93-d179-3b10f79a4842"
      },
      "execution_count": 8,
      "outputs": [
        {
          "output_type": "stream",
          "name": "stdout",
          "text": [
            "+----------------------------------------------------------------------------------------+\n",
            "|                                                                                    text|\n",
            "+----------------------------------------------------------------------------------------+\n",
            "|   The patient was given metformin 500 mg tablet, 2.5 mg of coumadin and then ibuprofen.|\n",
            "|The patient was given metformin 400 mg, coumadin 5 mg, coumadin, amlodipine 10 MG tablet|\n",
            "+----------------------------------------------------------------------------------------+\n",
            "\n"
          ]
        }
      ]
    },
    {
      "cell_type": "code",
      "source": [
        "results = rxnorm_model.transform(data_df)"
      ],
      "metadata": {
        "id": "-BfJpmOlUQDi"
      },
      "execution_count": 9,
      "outputs": []
    },
    {
      "cell_type": "code",
      "source": [
        "results.select(\n",
        "    \"drug_chunk_embeddings.result\", \"drug_chunk_embeddings.embeddings\"\n",
        ").show(truncate=200)"
      ],
      "metadata": {
        "colab": {
          "base_uri": "https://localhost:8080/"
        },
        "id": "9lPZbCLqUSj3",
        "outputId": "3c67e4c8-91ed-4f6c-ffb6-188741a080c5"
      },
      "execution_count": 10,
      "outputs": [
        {
          "output_type": "stream",
          "name": "stdout",
          "text": [
            "+--------------------------------------------------------------------+--------------------------------------------------------------------------------------------------------------------------------------------------------------------------------------------------------+\n",
            "|                                                              result|                                                                                                                                                                                              embeddings|\n",
            "+--------------------------------------------------------------------+--------------------------------------------------------------------------------------------------------------------------------------------------------------------------------------------------------+\n",
            "|               [metformin 500 mg tablet, 2.5 mg coumadin, ibuprofen]|[[0.13060856, 0.26946267, -0.507028, 0.772429, 0.7356907, 0.096247405, -0.5546375, 0.053429697, -0.55345106, 0.48484737, -0.3573513, 0.49109083, 0.8440487, 0.30384344, -0.9923568, -0.24454069, 0.36...|\n",
            "|[metformin 400 mg, coumadin 5 mg, coumadin, amlodipine 10 MG tablet]|[[-0.17794827, 0.25489485, -0.5724586, 0.803144, 0.9211674, 0.3558214, -0.3725834, -0.19485506, -0.74072385, 0.4817521, 0.040639117, 0.682244, 0.5768622, -0.19830263, -1.1513872, -0.3227924, 0.6181...|\n",
            "+--------------------------------------------------------------------+--------------------------------------------------------------------------------------------------------------------------------------------------------------------------------------------------------+\n",
            "\n"
          ]
        }
      ]
    },
    {
      "cell_type": "code",
      "source": [
        "results.select(\n",
        "    F.explode(\n",
        "        F.arrays_zip(\n",
        "            results.ner_chunk.result,\n",
        "            results.ner_chunk.metadata,\n",
        "            results.rxnorm_code.result,\n",
        "        )\n",
        "    ).alias(\"cols\")\n",
        ").select(\n",
        "    F.expr(\"cols['0']\").alias(\"chunk\"),\n",
        "    F.expr(\"cols['1']['entity']\").alias(\"ner_label\"),\n",
        "    F.expr(\"cols['2']\").alias(\"rxnorm_code\"),\n",
        ").show(\n",
        "    truncate=False\n",
        ")"
      ],
      "metadata": {
        "colab": {
          "base_uri": "https://localhost:8080/"
        },
        "id": "W7P96DpgVuX_",
        "outputId": "5830c910-b988-42e6-890b-b8b135035710"
      },
      "execution_count": 11,
      "outputs": [
        {
          "output_type": "stream",
          "name": "stdout",
          "text": [
            "+----------+---------+-----------+\n",
            "|chunk     |ner_label|rxnorm_code|\n",
            "+----------+---------+-----------+\n",
            "|metformin |DRUG     |860974     |\n",
            "|500 mg    |STRENGTH |855313     |\n",
            "|tablet    |FORM     |1747293    |\n",
            "|2.5 mg    |STRENGTH |null       |\n",
            "|coumadin  |DRUG     |null       |\n",
            "|ibuprofen |DRUG     |null       |\n",
            "|metformin |DRUG     |332809     |\n",
            "|400 mg    |STRENGTH |855333     |\n",
            "|coumadin  |DRUG     |202421     |\n",
            "|5 mg      |STRENGTH |308135     |\n",
            "|coumadin  |DRUG     |null       |\n",
            "|amlodipine|DRUG     |null       |\n",
            "|10 MG     |STRENGTH |null       |\n",
            "|tablet    |FORM     |null       |\n",
            "+----------+---------+-----------+\n",
            "\n"
          ]
        }
      ]
    },
    {
      "cell_type": "markdown",
      "source": [
        "### `setEntityWeights()`\n",
        "\n"
      ],
      "metadata": {
        "id": "dkA-BxuCS0w4"
      }
    },
    {
      "cell_type": "markdown",
      "source": [
        "Setting weights at entity level:"
      ],
      "metadata": {
        "id": "cpRU2N3Rduj5"
      }
    },
    {
      "cell_type": "code",
      "source": [
        "entity_chunk_embeddings.setEntityWeights(\n",
        "    {\"DRUG\": 0.8, \"STRENGTH\": 0.2, \"ROUTE\": 0.2, \"FORM\": 0.2}\n",
        ")\n",
        "\n",
        "rxnorm_pipeline_re = nlp.Pipeline(\n",
        "    stages=[\n",
        "        documenter,\n",
        "        sentence_detector,\n",
        "        tokenizer,\n",
        "        embeddings,\n",
        "        posology_ner_model,\n",
        "        ner_converter,\n",
        "        pos_tager,\n",
        "        dependency_parser,\n",
        "        entity_chunk_embeddings,\n",
        "        rxnorm_re,\n",
        "    ]\n",
        ")\n",
        "rxnorm_model = rxnorm_pipeline_re.fit(\n",
        "    spark.createDataFrame([[\"\"]]).toDF(\"text\")\n",
        ")"
      ],
      "metadata": {
        "id": "GSr46bK1UcJu"
      },
      "execution_count": 12,
      "outputs": []
    },
    {
      "cell_type": "code",
      "source": [
        "results = rxnorm_model.transform(data_df)"
      ],
      "metadata": {
        "id": "i9cB7Y43UkvM"
      },
      "execution_count": 13,
      "outputs": []
    },
    {
      "cell_type": "code",
      "source": [
        "results.select(\n",
        "    F.explode(\n",
        "        F.arrays_zip(\n",
        "            results.ner_chunk.result,\n",
        "            results.ner_chunk.metadata,\n",
        "            results.rxnorm_code.result,\n",
        "        )\n",
        "    ).alias(\"cols\")\n",
        ").select(\n",
        "    F.expr(\"cols['0']\").alias(\"chunk\"),\n",
        "    F.expr(\"cols['1']['entity']\").alias(\"ner_label\"),\n",
        "    F.expr(\"cols['2']\").alias(\"rxnorm_code\"),\n",
        ").show(\n",
        "    truncate=False\n",
        ")"
      ],
      "metadata": {
        "colab": {
          "base_uri": "https://localhost:8080/"
        },
        "id": "9dljAvkkUmab",
        "outputId": "1b5548c8-ec75-46bd-ffe2-d990ba4e7d04"
      },
      "execution_count": 14,
      "outputs": [
        {
          "output_type": "stream",
          "name": "stdout",
          "text": [
            "+----------+---------+-----------+\n",
            "|chunk     |ner_label|rxnorm_code|\n",
            "+----------+---------+-----------+\n",
            "|metformin |DRUG     |860974     |\n",
            "|500 mg    |STRENGTH |855313     |\n",
            "|tablet    |FORM     |1747293    |\n",
            "|2.5 mg    |STRENGTH |null       |\n",
            "|coumadin  |DRUG     |null       |\n",
            "|ibuprofen |DRUG     |null       |\n",
            "|metformin |DRUG     |332809     |\n",
            "|400 mg    |STRENGTH |855333     |\n",
            "|coumadin  |DRUG     |202421     |\n",
            "|5 mg      |STRENGTH |308135     |\n",
            "|coumadin  |DRUG     |null       |\n",
            "|amlodipine|DRUG     |null       |\n",
            "|10 MG     |STRENGTH |null       |\n",
            "|tablet    |FORM     |null       |\n",
            "+----------+---------+-----------+\n",
            "\n"
          ]
        }
      ]
    },
    {
      "cell_type": "markdown",
      "source": [
        "Set weights at relation level:"
      ],
      "metadata": {
        "id": "XYydzqUkd-zj"
      }
    },
    {
      "cell_type": "code",
      "source": [
        "entity_chunk_embeddings.setEntityWeights(\n",
        "    {\"DRUG:STRENGTH\": 0.8, \"DRUG:ROUTE\": 0.2, \"DRUG:FORM\": 0.1}\n",
        ")\n",
        "\n",
        "rxnorm_pipeline_re = nlp.Pipeline(\n",
        "    stages=[\n",
        "        documenter,\n",
        "        sentence_detector,\n",
        "        tokenizer,\n",
        "        embeddings,\n",
        "        posology_ner_model,\n",
        "        ner_converter,\n",
        "        pos_tager,\n",
        "        dependency_parser,\n",
        "        entity_chunk_embeddings,\n",
        "        rxnorm_re,\n",
        "    ]\n",
        ")\n",
        "\n",
        "rxnorm_model = rxnorm_pipeline_re.fit(\n",
        "    spark.createDataFrame([[\"\"]]).toDF(\"text\")\n",
        ")\n",
        "\n",
        "results = rxnorm_model.transform(data_df)"
      ],
      "metadata": {
        "id": "fhKu6y_meBjS"
      },
      "execution_count": 15,
      "outputs": []
    },
    {
      "cell_type": "code",
      "source": [
        "results.select(\n",
        "    F.explode(\n",
        "        F.arrays_zip(\n",
        "            results.ner_chunk.result,\n",
        "            results.ner_chunk.metadata,\n",
        "            results.rxnorm_code.result,\n",
        "        )\n",
        "    ).alias(\"cols\")\n",
        ").select(\n",
        "    F.expr(\"cols['0']\").alias(\"chunk\"),\n",
        "    F.expr(\"cols['1']['entity']\").alias(\"ner_label\"),\n",
        "    F.expr(\"cols['2']\").alias(\"rxnorm_code\"),\n",
        ").show(\n",
        "    truncate=False\n",
        ")"
      ],
      "metadata": {
        "colab": {
          "base_uri": "https://localhost:8080/"
        },
        "id": "jz5q5DZNeBgv",
        "outputId": "097d63b6-7a09-432d-ac18-826348f44b43"
      },
      "execution_count": 16,
      "outputs": [
        {
          "output_type": "stream",
          "name": "stdout",
          "text": [
            "+----------+---------+-----------+\n",
            "|chunk     |ner_label|rxnorm_code|\n",
            "+----------+---------+-----------+\n",
            "|metformin |DRUG     |1359144    |\n",
            "|500 mg    |STRENGTH |1373121    |\n",
            "|tablet    |FORM     |410532     |\n",
            "|2.5 mg    |STRENGTH |null       |\n",
            "|coumadin  |DRUG     |null       |\n",
            "|ibuprofen |DRUG     |null       |\n",
            "|metformin |DRUG     |361818     |\n",
            "|400 mg    |STRENGTH |211920     |\n",
            "|coumadin  |DRUG     |410532     |\n",
            "|5 mg      |STRENGTH |1089071    |\n",
            "|coumadin  |DRUG     |null       |\n",
            "|amlodipine|DRUG     |null       |\n",
            "|10 MG     |STRENGTH |null       |\n",
            "|tablet    |FORM     |null       |\n",
            "+----------+---------+-----------+\n",
            "\n"
          ]
        }
      ]
    },
    {
      "cell_type": "markdown",
      "source": [
        "### `setMaxSyntacticDistance()`\n",
        "\n"
      ],
      "metadata": {
        "id": "OnxGsw9XStpp"
      }
    },
    {
      "cell_type": "code",
      "source": [
        "entity_chunk_embeddings.setMaxSyntacticDistance(5)\n",
        "\n",
        "rxnorm_pipeline_re = nlp.Pipeline(\n",
        "    stages=[\n",
        "        documenter,\n",
        "        sentence_detector,\n",
        "        tokenizer,\n",
        "        embeddings,\n",
        "        posology_ner_model,\n",
        "        ner_converter,\n",
        "        pos_tager,\n",
        "        dependency_parser,\n",
        "        entity_chunk_embeddings,\n",
        "        rxnorm_re,\n",
        "    ]\n",
        ")\n",
        "\n",
        "rxnorm_model = rxnorm_pipeline_re.fit(\n",
        "    spark.createDataFrame([[\"\"]]).toDF(\"text\")\n",
        ")\n",
        "\n",
        "results = rxnorm_model.transform(data_df)"
      ],
      "metadata": {
        "id": "HoF6vZ_5fGCx"
      },
      "execution_count": 17,
      "outputs": []
    },
    {
      "cell_type": "code",
      "source": [
        "results.select(\n",
        "    F.explode(\n",
        "        F.arrays_zip(\n",
        "            results.ner_chunk.result,\n",
        "            results.ner_chunk.metadata,\n",
        "            results.rxnorm_code.result,\n",
        "        )\n",
        "    ).alias(\"cols\")\n",
        ").select(\n",
        "    F.expr(\"cols['0']\").alias(\"chunk\"),\n",
        "    F.expr(\"cols['1']['entity']\").alias(\"ner_label\"),\n",
        "    F.expr(\"cols['2']\").alias(\"rxnorm_code\"),\n",
        ").show(\n",
        "    truncate=False\n",
        ")"
      ],
      "metadata": {
        "colab": {
          "base_uri": "https://localhost:8080/"
        },
        "id": "7iMMMeNfOvj7",
        "outputId": "5f88eea9-a11b-4dfc-b488-9df5182c737a"
      },
      "execution_count": 18,
      "outputs": [
        {
          "output_type": "stream",
          "name": "stdout",
          "text": [
            "+----------+---------+-----------+\n",
            "|chunk     |ner_label|rxnorm_code|\n",
            "+----------+---------+-----------+\n",
            "|metformin |DRUG     |1359144    |\n",
            "|500 mg    |STRENGTH |1373121    |\n",
            "|tablet    |FORM     |410532     |\n",
            "|2.5 mg    |STRENGTH |null       |\n",
            "|coumadin  |DRUG     |null       |\n",
            "|ibuprofen |DRUG     |null       |\n",
            "|metformin |DRUG     |361818     |\n",
            "|400 mg    |STRENGTH |211920     |\n",
            "|coumadin  |DRUG     |410532     |\n",
            "|5 mg      |STRENGTH |1089071    |\n",
            "|coumadin  |DRUG     |null       |\n",
            "|amlodipine|DRUG     |null       |\n",
            "|10 MG     |STRENGTH |null       |\n",
            "|tablet    |FORM     |null       |\n",
            "+----------+---------+-----------+\n",
            "\n"
          ]
        }
      ]
    },
    {
      "cell_type": "code",
      "source": [],
      "metadata": {
        "id": "YiGzCpdMv_zs"
      },
      "execution_count": null,
      "outputs": []
    }
  ]
}
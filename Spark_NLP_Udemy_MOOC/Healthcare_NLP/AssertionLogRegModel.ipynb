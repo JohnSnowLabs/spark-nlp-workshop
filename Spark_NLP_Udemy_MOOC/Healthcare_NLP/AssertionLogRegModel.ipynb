{
  "cells": [
    {
      "cell_type": "markdown",
      "metadata": {
        "id": "sXatvRX899i0"
      },
      "source": [
        "![JohnSnowLabs](https://nlp.johnsnowlabs.com/assets/images/logo.png)"
      ]
    },
    {
      "cell_type": "markdown",
      "metadata": {
        "id": "VURYoELwXHza"
      },
      "source": [
        "[![Open In Colab](https://colab.research.google.com/assets/colab-badge.svg)](https://colab.research.google.com/github/JohnSnowLabs/spark-nlp-workshop/blob/master/Spark_NLP_Udemy_MOOC/Healthcare_NLP/AssertionLogRegApproach.ipynb)"
      ]
    },
    {
      "cell_type": "markdown",
      "metadata": {
        "id": "AOn8d1tcBkK3"
      },
      "source": [
        "# **AssertionLogRegApproach**"
      ]
    },
    {
      "cell_type": "markdown",
      "metadata": {
        "id": "WimihSwD3vtH"
      },
      "source": [
        "This notebook will cover the different parameters and usages of `AssertionLogRegApproach`. This annotator allows to train an AssertionLogRegModel.\n",
        "\n",
        "**📖 Learning Objectives:**\n",
        "\n",
        "1. Understand how to use AssertionLogRegApproach.\n",
        "\n",
        "2. Become comfortable using the different parameters of the annotator.\n",
        "\n",
        "\n",
        "**🔗 Helpful Links:**\n",
        "\n",
        "- Documentation : [AssertionLogRegApproach](https://nlp.johnsnowlabs.com/docs/en/licensed_annotators#assertionlogreg)\n",
        "\n",
        "- Python Docs : [AssertionLogRegApproach](https://nlp.johnsnowlabs.com/licensed/api/python/reference/autosummary/sparknlp_jsl/annotator/assertion/assertion_dl_reg/index.html#sparknlp_jsl.annotator.assertion.assertion_dl_reg.AssertionLogRegApproach)\n",
        "\n",
        "- Scala Docs : [AssertionLogRegApproach](https://nlp.johnsnowlabs.com/licensed/api/com/johnsnowlabs/nlp/annotators/assertion/logreg/AssertionLogRegApproach.html)\n",
        "\n",
        "- For extended examples of usage, see the [Spark NLP Workshop repository](https://github.com/JohnSnowLabs/spark-nlp-workshop/blob/master/tutorials/Certification_Trainings/Healthcare/2.Clinical_Assertion_Model.ipynb)."
      ]
    },
    {
      "cell_type": "markdown",
      "metadata": {
        "id": "qL9lcISyFSLv"
      },
      "source": [
        "## **📜 Background**\n"
      ]
    },
    {
      "cell_type": "markdown",
      "metadata": {
        "id": "rlHsEmCBkn5c"
      },
      "source": [
        "This is a classification method, which uses LogisticRegression algorithm Contains all the methods for training a AssertionLogRegModel, together with trainWithChunk, trainWithStartEnd.\n",
        "\n",
        "Train a Assertion algorithm using a regression log model."
      ]
    },
    {
      "cell_type": "markdown",
      "metadata": {
        "id": "MfkkKkbVF309"
      },
      "source": [
        "## **🎬 Colab Setup**"
      ]
    },
    {
      "cell_type": "code",
      "execution_count": 6,
      "metadata": {
        "id": "iMkMQtZNF2n-"
      },
      "outputs": [],
      "source": [
        "!pip install -q johnsnowlabs"
      ]
    },
    {
      "cell_type": "code",
      "execution_count": null,
      "metadata": {
        "id": "nwJyFUMXkSIm"
      },
      "outputs": [],
      "source": [
        "from google.colab import files\n",
        "print('Please Upload your John Snow Labs License using the button below')\n",
        "license_keys = files.upload()"
      ]
    },
    {
      "cell_type": "code",
      "execution_count": null,
      "metadata": {
        "id": "NulWi4_f4GN5"
      },
      "outputs": [],
      "source": [
        "from johnsnowlabs import nlp, medical\n",
        "\n",
        "nlp.install()"
      ]
    },
    {
      "cell_type": "code",
      "execution_count": 24,
      "metadata": {
        "colab": {
          "base_uri": "https://localhost:8080/",
          "height": 258
        },
        "id": "2GLXxe1Q0Iln",
        "outputId": "71f4d35b-a366-4767-ec37-07c6791320d3"
      },
      "outputs": [
        {
          "name": "stdout",
          "output_type": "stream",
          "text": [
            "Spark Session already created, some configs may not take.\n",
            "👌 Detected license file /content/spark_nlp_for_healthcare_spark_ocr_10445.json\n"
          ]
        },
        {
          "data": {
            "text/html": [
              "\n",
              "            <div>\n",
              "                <p><b>SparkSession - in-memory</b></p>\n",
              "                \n",
              "        <div>\n",
              "            <p><b>SparkContext</b></p>\n",
              "\n",
              "            <p><a href=\"http://4c657d80ffe1:4040\">Spark UI</a></p>\n",
              "\n",
              "            <dl>\n",
              "              <dt>Version</dt>\n",
              "                <dd><code>v3.4.0</code></dd>\n",
              "              <dt>Master</dt>\n",
              "                <dd><code>local[*]</code></dd>\n",
              "              <dt>AppName</dt>\n",
              "                <dd><code>John-Snow-Labs-Spark-Session 🚀 with Jars for: 🚀Spark-NLP==6.1.3, 💊Spark-Healthcare==6.1.1, running on ⚡ PySpark==3.4.0</code></dd>\n",
              "            </dl>\n",
              "        </div>\n",
              "        \n",
              "            </div>\n",
              "        "
            ],
            "text/plain": [
              "<pyspark.sql.session.SparkSession at 0x7d41b8b3f0b0>"
            ]
          },
          "execution_count": 24,
          "metadata": {},
          "output_type": "execute_result"
        }
      ],
      "source": [
        "import pyspark.sql.functions as F\n",
        "import pandas as pd\n",
        "\n",
        "spark = nlp.start()\n",
        "spark"
      ]
    },
    {
      "cell_type": "markdown",
      "metadata": {
        "id": "9Fbbk1bqcuA5"
      },
      "source": [
        "## **🖨️ Input/Output Annotation Types**"
      ]
    },
    {
      "cell_type": "markdown",
      "metadata": {
        "id": "0yFIrr5acsiU"
      },
      "source": [
        "- Input: `DOCUMENT`, `CHUNK`, `WORD_EMBEDDINGS`\n",
        "\n",
        "- Output: `ASSERTION`"
      ]
    },
    {
      "cell_type": "markdown",
      "metadata": {
        "id": "i_zgm-HybdO5"
      },
      "source": [
        "## **📂 Training Data**"
      ]
    },
    {
      "cell_type": "markdown",
      "metadata": {
        "id": "gafIxkENbhl-"
      },
      "source": [
        "The initial training data should consist of text, target, label, start and end columns."
      ]
    },
    {
      "cell_type": "markdown",
      "metadata": {
        "id": "gzeHx9AVb7jI"
      },
      "source": [
        "For this example, we will download a dataset related to assertions(i2b2):"
      ]
    },
    {
      "cell_type": "code",
      "execution_count": 7,
      "metadata": {
        "id": "1iMt8QzbKVLA"
      },
      "outputs": [],
      "source": [
        "!wget -q https://raw.githubusercontent.com/JohnSnowLabs/spark-nlp-workshop/master/tutorials/Certification_Trainings/Healthcare/data/i2b2_assertion_sample_short.csv"
      ]
    },
    {
      "cell_type": "code",
      "execution_count": 8,
      "metadata": {
        "id": "h2J_xkmIKX1b"
      },
      "outputs": [],
      "source": [
        "assertion_df = spark.read.option(\"header\", True).option(\"inferSchema\", \"True\").csv(\"i2b2_assertion_sample_short.csv\")"
      ]
    },
    {
      "cell_type": "code",
      "execution_count": 9,
      "metadata": {
        "colab": {
          "base_uri": "https://localhost:8080/"
        },
        "id": "NNS7JyZ7KaCz",
        "outputId": "b4666cb7-b82c-4cdc-ca0f-d31c8a5ce419"
      },
      "outputs": [
        {
          "name": "stdout",
          "output_type": "stream",
          "text": [
            "+-------------------------------------------------+-------------------+-------+-----+---+\n",
            "|                                             text|             target|  label|start|end|\n",
            "+-------------------------------------------------+-------------------+-------+-----+---+\n",
            "|She has no history of liver disease , hepatitis .|      liver disease| absent|    5|  6|\n",
            "|                         1. Undesired fertility .|undesired fertility|present|    1|  2|\n",
            "|                            3) STATUS POST FALL .|               fall|present|    3|  3|\n",
            "+-------------------------------------------------+-------------------+-------+-----+---+\n",
            "only showing top 3 rows\n",
            "\n"
          ]
        }
      ],
      "source": [
        "assertion_df.show(3, truncate=100)"
      ]
    },
    {
      "cell_type": "markdown",
      "metadata": {
        "id": "ToNHz812cRYI"
      },
      "source": [
        "Now, let's see what's the distribution of labels in our dataset:"
      ]
    },
    {
      "cell_type": "code",
      "execution_count": 10,
      "metadata": {
        "colab": {
          "base_uri": "https://localhost:8080/"
        },
        "id": "r-g0pZ8JcV4d",
        "outputId": "551f26ee-6eab-49e1-ca1b-931bf479b6d6"
      },
      "outputs": [
        {
          "name": "stdout",
          "output_type": "stream",
          "text": [
            "+-------+-----+\n",
            "|label  |count|\n",
            "+-------+-----+\n",
            "|present|663  |\n",
            "|absent |228  |\n",
            "+-------+-----+\n",
            "\n"
          ]
        }
      ],
      "source": [
        "assertion_df.groupBy('label').count().orderBy('count', ascending=False).show(truncate=False)"
      ]
    },
    {
      "cell_type": "markdown",
      "metadata": {
        "id": "QXpgiWc3cdTD"
      },
      "source": [
        "And finally, let's split the dataset into training and test sets."
      ]
    },
    {
      "cell_type": "code",
      "execution_count": 11,
      "metadata": {
        "colab": {
          "base_uri": "https://localhost:8080/"
        },
        "id": "O6FczI-uKcm2",
        "outputId": "3a263fa9-5411-4ae3-dc46-5a2c5b16d8ec"
      },
      "outputs": [
        {
          "name": "stdout",
          "output_type": "stream",
          "text": [
            "Training Dataset Count: 721\n",
            "Test Dataset Count: 170\n"
          ]
        }
      ],
      "source": [
        "(trainingData, testData) = assertion_df.randomSplit([0.8, 0.2], seed = 100)\n",
        "print(\"Training Dataset Count: \" + str(trainingData.count()))\n",
        "print(\"Test Dataset Count: \" + str(testData.count()))"
      ]
    },
    {
      "cell_type": "markdown",
      "metadata": {
        "id": "ovlgk7xgjB1c"
      },
      "source": [
        "### Preprocessing Pipeline"
      ]
    },
    {
      "cell_type": "code",
      "execution_count": 12,
      "metadata": {
        "colab": {
          "base_uri": "https://localhost:8080/"
        },
        "id": "TCsovKxmew9O",
        "outputId": "fc4b24fb-6c0e-4878-d57c-f60eba0f8f2a"
      },
      "outputs": [
        {
          "name": "stdout",
          "output_type": "stream",
          "text": [
            "embeddings_clinical download started this may take some time.\n",
            "Approximate size to download 1.6 GB\n",
            "[OK!]\n"
          ]
        }
      ],
      "source": [
        "document_assembler = nlp.DocumentAssembler()\\\n",
        "    .setInputCol(\"text\")\\\n",
        "    .setOutputCol(\"document\")\n",
        "\n",
        "chunk = nlp.Doc2Chunk()\\\n",
        "    .setInputCols(\"document\")\\\n",
        "    .setOutputCol(\"chunk\")\\\n",
        "    .setChunkCol(\"target\")\\\n",
        "    .setStartCol(\"start\")\\\n",
        "    .setStartColByTokenIndex(True)\\\n",
        "    .setFailOnMissing(False)\\\n",
        "    .setLowerCase(True)\n",
        "\n",
        "tokenizer = nlp.Tokenizer()\\\n",
        "    .setInputCols(['document'])\\\n",
        "    .setOutputCol('token')\n",
        "\n",
        "word_embeddings = nlp.WordEmbeddingsModel.pretrained(\"embeddings_clinical\", \"en\", \"clinical/models\")\\\n",
        "    .setInputCols([\"document\", \"token\"])\\\n",
        "    .setOutputCol(\"embeddings\")\n",
        "\n",
        "embeddings_pipeline = nlp.Pipeline(\n",
        "    stages = [\n",
        "    document_assembler,\n",
        "    chunk,\n",
        "    tokenizer,\n",
        "    word_embeddings])\n"
      ]
    },
    {
      "cell_type": "markdown",
      "metadata": {
        "id": "Yiww7bhemD-d"
      },
      "source": [
        "**Doc2Chunk():**\n",
        "\n",
        "- `setStartColByTokenIndex(True):` When set to true, this parameter means that the 'start' column indicates token indices, not character indices.\n",
        "\n",
        "- `setFailOnMissing(False):` This parameter decides the behavior when a specified chunk is missing. If it's set to true, an error will occur when a chunk is missing. If set to false, the method will proceed without error even if a chunk is missing.\n",
        "\n",
        "- `setLowerCase(True):` This parameter decides whether the chunks should be converted to lowercase. If set to true, all the chunks will be converted to lowercase."
      ]
    },
    {
      "cell_type": "markdown",
      "metadata": {
        "id": "lu7XyRzrg1uX"
      },
      "source": [
        "And now we preprocess both the training and the test set."
      ]
    },
    {
      "cell_type": "code",
      "execution_count": 13,
      "metadata": {
        "id": "VESuaJrjgSpI"
      },
      "outputs": [],
      "source": [
        "trainingData_with_embeddings = embeddings_pipeline.fit(trainingData).transform(trainingData)\n",
        "testData_with_embeddings = embeddings_pipeline.fit(testData).transform(testData)"
      ]
    },
    {
      "cell_type": "markdown",
      "metadata": {
        "id": "b2YJehUKMhb0"
      },
      "source": [
        "## **🔎 AssertionLogRegApproach Parameters**\n"
      ]
    },
    {
      "cell_type": "markdown",
      "metadata": {
        "id": "7ttYzdjwm65k"
      },
      "source": [
        "- `label` : Column with label per each token\n",
        "\n",
        "- `maxIter`: This specifies the maximum number of iterations to be performed in the model's training, default: 26\n",
        "\n",
        "- `regParam` : This specifies the regularization parameter. Regularization helps to control the complexity of the model, aiding in preventing the issue of overfitting.\n",
        "\n",
        "- `eNetParam` : Elastic net parameter\n",
        "\n",
        "- `beforeParam` : Length of the context before the target\n",
        "\n",
        "- `afterParam` : Length of the context after the target\n",
        "\n",
        "- `startCol` : Column that contains the token number for the start of the target\n",
        "\n",
        "- `endCol` : Column that contains the token number for the end of the target\n",
        "\n",
        "\n",
        "\n"
      ]
    },
    {
      "cell_type": "markdown",
      "metadata": {
        "id": "fkFXOuCeebEQ"
      },
      "source": [
        "## **🦾 Model Training**"
      ]
    },
    {
      "cell_type": "markdown",
      "metadata": {
        "id": "d4z9fepNeBIP"
      },
      "source": [
        "The AssertionLogRegApproach model is defined. Label column is needed in the dataset for training."
      ]
    },
    {
      "cell_type": "code",
      "execution_count": 14,
      "metadata": {
        "id": "7k0J-ZL5gmIy"
      },
      "outputs": [],
      "source": [
        "assertionStatus = medical.AssertionLogRegApproach() \\\n",
        "    .setLabelCol(\"label\") \\\n",
        "    .setInputCols([\"document\", \"chunk\", \"embeddings\"]) \\\n",
        "    .setOutputCol(\"assertion\") \\\n",
        "    .setMaxIter(100)\\\n",
        "    .setReg(0.01) \\\n",
        "    .setBefore(11) \\\n",
        "    .setAfter(13) \\\n",
        "    .setStartCol(\"start\") \\\n",
        "    .setEndCol(\"end\")"
      ]
    },
    {
      "cell_type": "markdown",
      "metadata": {
        "id": "y7IdM-2DlD4-"
      },
      "source": [
        "- `setBefore(11)` and `setAfter(13)`: These two parameters specify the size of the context that the model will take into account when classifying a certain target. For example, the 'before' parameter indicates that the model will consider the 11 tokens before the target, while the 'after' parameter indicates that the model will consider the 13 tokens after the target."
      ]
    },
    {
      "cell_type": "markdown",
      "metadata": {
        "id": "yfVWPa-DlWu1"
      },
      "source": [
        "- `setStartCol(\"start\")` and `setEndCol(\"end\")`: These two parameters specify the columns that indicate the start and end token numbers of the target. This helps the model to determine which tokens it should work on."
      ]
    },
    {
      "cell_type": "code",
      "execution_count": 15,
      "metadata": {
        "id": "1QAZ9M8-g741"
      },
      "outputs": [],
      "source": [
        "clinical_assertion_pipeline = nlp.Pipeline(\n",
        "    stages = [\n",
        "    assertionStatus])"
      ]
    },
    {
      "cell_type": "code",
      "execution_count": 16,
      "metadata": {
        "colab": {
          "base_uri": "https://localhost:8080/"
        },
        "id": "uclq4uN7e__b",
        "outputId": "229f0e09-035a-4c56-c614-e7bd9fbc2491"
      },
      "outputs": [
        {
          "name": "stdout",
          "output_type": "stream",
          "text": [
            "CPU times: user 28.1 ms, sys: 10.1 ms, total: 38.2 ms\n",
            "Wall time: 45.4 s\n"
          ]
        }
      ],
      "source": [
        "%%time\n",
        "\n",
        "assertion_model = clinical_assertion_pipeline.fit(trainingData_with_embeddings)"
      ]
    },
    {
      "cell_type": "markdown",
      "metadata": {
        "id": "F1cqPNq8hPNG"
      },
      "source": [
        "We can save the trained model using the code below:"
      ]
    },
    {
      "cell_type": "code",
      "execution_count": 17,
      "metadata": {
        "id": "thJCqTrShL7j"
      },
      "outputs": [],
      "source": [
        "assertion_model.stages[-1].write().overwrite().save('assertion_custom_model')"
      ]
    },
    {
      "cell_type": "markdown",
      "metadata": {
        "id": "eEYUnGuPf9u5"
      },
      "source": [
        "## **📈 Model Testing**"
      ]
    },
    {
      "cell_type": "markdown",
      "metadata": {
        "id": "FV_uikt4gEqv"
      },
      "source": [
        "After training the model, it can be used to get predictions on the test set in order to calculate performance metrics."
      ]
    },
    {
      "cell_type": "code",
      "execution_count": 18,
      "metadata": {
        "colab": {
          "base_uri": "https://localhost:8080/"
        },
        "id": "j9SmHYFDe_46",
        "outputId": "9e31480e-eb13-4c4c-fb5a-80c79b5cc62b"
      },
      "outputs": [
        {
          "name": "stdout",
          "output_type": "stream",
          "text": [
            "+-------+---------+\n",
            "|  label|   result|\n",
            "+-------+---------+\n",
            "|present|[present]|\n",
            "| absent| [absent]|\n",
            "|present|[present]|\n",
            "|present|[present]|\n",
            "|present|[present]|\n",
            "|present|[present]|\n",
            "|present|[present]|\n",
            "|present|[present]|\n",
            "|present| [absent]|\n",
            "|present|[present]|\n",
            "|present|[present]|\n",
            "|present|[present]|\n",
            "|present|[present]|\n",
            "|present|[present]|\n",
            "|present|[present]|\n",
            "|present|[present]|\n",
            "|present|[present]|\n",
            "|present|[present]|\n",
            "|present|[present]|\n",
            "|present|[present]|\n",
            "+-------+---------+\n",
            "only showing top 20 rows\n",
            "\n"
          ]
        }
      ],
      "source": [
        "preds = assertion_model.transform(testData_with_embeddings).select('label','assertion.result')\n",
        "\n",
        "preds.show()"
      ]
    },
    {
      "cell_type": "code",
      "execution_count": 19,
      "metadata": {
        "colab": {
          "base_uri": "https://localhost:8080/"
        },
        "id": "ZzekLzRlfyqj",
        "outputId": "56d663e0-5a8a-4bb0-f634-5ef321d326b9"
      },
      "outputs": [
        {
          "name": "stdout",
          "output_type": "stream",
          "text": [
            "              precision    recall  f1-score   support\n",
            "\n",
            "      absent       0.93      0.75      0.83        53\n",
            "     present       0.90      0.97      0.93       117\n",
            "\n",
            "    accuracy                           0.91       170\n",
            "   macro avg       0.91      0.86      0.88       170\n",
            "weighted avg       0.91      0.91      0.90       170\n",
            "\n"
          ]
        }
      ],
      "source": [
        "from sklearn.metrics import classification_report\n",
        "\n",
        "preds_df = preds.toPandas()\n",
        "preds_df['result'] = preds_df['result'].apply(lambda x : x[0])\n",
        "\n",
        "print (classification_report( preds_df['label'], preds_df['result']))"
      ]
    },
    {
      "cell_type": "markdown",
      "metadata": {
        "id": "491eZ0z5VUFr"
      },
      "source": [
        "# **AssertionLogRegModel**"
      ]
    },
    {
      "cell_type": "markdown",
      "metadata": {
        "id": "GJKGsypMVb0d"
      },
      "source": [
        "This notebook will cover the different parameters and usages of `AssertionLogRegModel`.\n",
        "\n",
        "**📖 Learning Objectives:**\n",
        "\n",
        "1. Understand how to use AssertionLogRegModel.\n",
        "\n",
        "2. Become comfortable using the different parameters of the annotator.\n",
        "\n",
        "\n",
        "**🔗 Helpful Links:**\n",
        "\n",
        "- Documentation : [AssertionLogRegModel](https://nlp.johnsnowlabs.com/docs/en/licensed_annotators#assertionlogreg)\n",
        "\n",
        "- Python Docs : [AssertionLogRegModel](https://nlp.johnsnowlabs.com/licensed/api/python/reference/autosummary/sparknlp_jsl/annotator/assertion/assertion_dl_reg/index.html#sparknlp_jsl.annotator.assertion.assertion_dl_reg.AssertionLogRegModel)\n",
        "\n",
        "- Scala Docs : [AssertionLogRegModel](https://nlp.johnsnowlabs.com/licensed/api/com/johnsnowlabs/nlp/annotators/assertion/logreg/AssertionLogRegModel.html)\n",
        "\n",
        "- For extended examples of usage, see the [Spark NLP Workshop repository](https://github.com/JohnSnowLabs/spark-nlp-workshop/blob/master/tutorials/Certification_Trainings/Healthcare/2.Clinical_Assertion_Model.ipynb)."
      ]
    },
    {
      "cell_type": "markdown",
      "metadata": {
        "id": "PY9xDU-dAwGV"
      },
      "source": [
        "## **📜 Background**"
      ]
    },
    {
      "cell_type": "markdown",
      "metadata": {
        "id": "EMch-bKMAwOh"
      },
      "source": [
        "This is a main class in AssertionLogReg family. Logistic Regression is used to extract Assertion Status from extracted entities and text. AssertionLogRegModel requires DOCUMENT, CHUNK and WORD_EMBEDDINGS type annotator inputs, which can be obtained by e.g a DocumentAssembler, NerConverter and WordEmbeddingsModel. The result is an assertion status annotation for each recognized entity. Possible values are \"Negated\", \"Affirmed\" and \"Historical\".\n",
        "\n",
        "Unlike the DL Model, this class does not extend AnnotatorModel. Instead it extends the RawAnnotator, that's why the main point of interest is method transform().\n",
        "\n",
        "At the moment there are no pretrained models available for this class. Please refer to AssertionLogRegApproach to train your own model.\n",
        "\n",
        "Model to extract assertion status of entities using Logistic Regression.\n",
        "\n",
        "To train a custom model, use AssertionLogRegApproach instead."
      ]
    },
    {
      "cell_type": "markdown",
      "metadata": {
        "id": "a42vxqMyA8dR"
      },
      "source": [
        "## **🖨️ Input/Output Annotation Types**"
      ]
    },
    {
      "cell_type": "markdown",
      "metadata": {
        "id": "m92K4RktA5g1"
      },
      "source": [
        "- Input: `DOCUMENT`, `CHUNK`, `WORD_EMBEDDINGS`\n",
        "\n",
        "- Output: `ASSERTION`"
      ]
    },
    {
      "cell_type": "markdown",
      "metadata": {
        "id": "SdKh5zmHJOry"
      },
      "source": [
        "## **🔎 AssertionLogRegModel Parameters**"
      ]
    },
    {
      "cell_type": "markdown",
      "metadata": {
        "id": "tH7Iaha1JJC0"
      },
      "source": [
        "- `afterParam` : Length of the context after the target (Default: 13)\n",
        "\n",
        "- `beforeParam`: Length of the context before the target (Default: 11)\n",
        "\n",
        "- `startCol` : Column that contains the token number for the start of the target\n",
        "\n",
        "- `endCol` : Column that contains the token number for the end of the target\n",
        "\n",
        "- `nerCol` : Column with NER type annotation output, use either nerCol or startCol and endCol\n",
        "\n",
        "- `targetNerLabels` : NER entity labels to filter and process for assertion status detection."
      ]
    },
    {
      "cell_type": "markdown",
      "metadata": {
        "id": "fChc8WI2_mLP"
      },
      "source": [
        "We load the trained assertion model using the code below:"
      ]
    },
    {
      "cell_type": "code",
      "execution_count": 20,
      "metadata": {
        "colab": {
          "base_uri": "https://localhost:8080/"
        },
        "id": "-oR19r3OVWmY",
        "outputId": "32189e87-aeac-4d46-8734-2528f8dbfd81"
      },
      "outputs": [
        {
          "name": "stdout",
          "output_type": "stream",
          "text": [
            "embeddings_clinical download started this may take some time.\n",
            "Approximate size to download 1.6 GB\n",
            "[OK!]\n",
            "ner_clinical download started this may take some time.\n",
            "Approximate size to download 13.9 MB\n",
            "[OK!]\n"
          ]
        }
      ],
      "source": [
        "document_assembler = nlp.DocumentAssembler()\\\n",
        "    .setInputCol(\"text\")\\\n",
        "    .setOutputCol(\"document\")\n",
        "\n",
        "sentence_detector = nlp.SentenceDetector() \\\n",
        "   .setInputCols(\"document\") \\\n",
        "   .setOutputCol(\"sentence\")\n",
        "\n",
        "tokenizer = nlp.Tokenizer()\\\n",
        "    .setInputCols(['sentence'])\\\n",
        "    .setOutputCol('token')\n",
        "\n",
        "word_embeddings = nlp.WordEmbeddingsModel.pretrained(\"embeddings_clinical\", \"en\", \"clinical/models\")\\\n",
        "  .setInputCols([\"sentence\", \"token\"])\\\n",
        "  .setOutputCol(\"embeddings\")\n",
        "\n",
        "clinical_ner = medical.NerModel.pretrained(\"ner_clinical\", \"en\", \"clinical/models\") \\\n",
        "  .setInputCols([\"sentence\", \"token\", \"embeddings\"]) \\\n",
        "  .setOutputCol(\"ner\")\n",
        "\n",
        "ner_converter = medical.NerConverterInternal() \\\n",
        "  .setInputCols([\"sentence\", \"token\", \"ner\"]) \\\n",
        "  .setOutputCol(\"ner_chunk\")\n",
        "\n",
        "clinical_assertion = medical.AssertionLogRegModel.load(\"/content/assertion_custom_model\") \\\n",
        "    .setInputCols([\"sentence\", \"ner_chunk\", \"embeddings\"]) \\\n",
        "    .setOutputCol(\"assertion\")\n",
        "\n",
        "nlpPipeline = nlp.Pipeline(stages=[\n",
        "    document_assembler,\n",
        "    sentence_detector,\n",
        "    tokenizer,\n",
        "    word_embeddings,\n",
        "    clinical_ner,\n",
        "    ner_converter,\n",
        "    clinical_assertion])\n",
        "\n",
        "\n",
        "model = nlpPipeline.fit(spark.createDataFrame([[\"\"]]).toDF(\"text\"))"
      ]
    },
    {
      "cell_type": "code",
      "execution_count": 21,
      "metadata": {
        "colab": {
          "base_uri": "https://localhost:8080/"
        },
        "id": "fTuDZ6cwH48e",
        "outputId": "f8397855-1dbd-4f8b-92d3-64ad06a310ac"
      },
      "outputs": [
        {
          "name": "stdout",
          "output_type": "stream",
          "text": [
            "+--------------------+--------------------+--------------------+--------------------+--------------------+--------------------+--------------------+--------------------+\n",
            "|                text|            document|            sentence|               token|          embeddings|                 ner|           ner_chunk|           assertion|\n",
            "+--------------------+--------------------+--------------------+--------------------+--------------------+--------------------+--------------------+--------------------+\n",
            "|Patient has a hea...|[{document, 0, 11...|[{document, 0, 83...|[{token, 0, 6, Pa...|[{word_embeddings...|[{named_entity, 0...|[{chunk, 12, 21, ...|[{assertion, 12, ...|\n",
            "+--------------------+--------------------+--------------------+--------------------+--------------------+--------------------+--------------------+--------------------+\n",
            "\n"
          ]
        }
      ],
      "source": [
        "sample_df = spark.createDataFrame([[\"Patient has a headache for the last 2 weeks and appears anxious when she walks fast. No alopecia noted. She denies pain\"]]).toDF(\"text\")\n",
        "result = model.transform(sample_df)\n",
        "result.show()"
      ]
    },
    {
      "cell_type": "code",
      "execution_count": 22,
      "metadata": {
        "colab": {
          "base_uri": "https://localhost:8080/"
        },
        "id": "oeaSctLPHu29",
        "outputId": "cc848e57-99eb-41c3-bc52-acfa9f040c66"
      },
      "outputs": [
        {
          "name": "stdout",
          "output_type": "stream",
          "text": [
            "+-----------------------------------------------------------------------------------------------------------------------------------------------------------------------------------------------------------------------------------------------------------------------------------------------------------------------------------------------------------------------------------------------------------------------------------------------------------------------------------------------------------------------------------------------------------------------------------------------------------------------------------------------------------------------------------------------------------------+\n",
            "|assertion                                                                                                                                                                                                                                                                                                                                                                                                                                                                                                                                                                                                                                                                                                        |\n",
            "+-----------------------------------------------------------------------------------------------------------------------------------------------------------------------------------------------------------------------------------------------------------------------------------------------------------------------------------------------------------------------------------------------------------------------------------------------------------------------------------------------------------------------------------------------------------------------------------------------------------------------------------------------------------------------------------------------------------------+\n",
            "|[{assertion, 12, 21, present, {assertion_source -> assertion, chunk -> 0, ner_chunk -> a headache, confidence -> 0.9842292363354721, ner_label -> PROBLEM, sentence -> 0}, []}, {assertion, 56, 62, present, {assertion_source -> assertion, chunk -> 1, ner_chunk -> anxious, confidence -> 0.9766502743349138, ner_label -> PROBLEM, sentence -> 0}, []}, {assertion, 88, 95, absent, {assertion_source -> assertion, chunk -> 2, ner_chunk -> alopecia, confidence -> 0.9632603208378894, ner_label -> PROBLEM, sentence -> 1}, []}, {assertion, 115, 118, absent, {assertion_source -> assertion, chunk -> 3, ner_chunk -> pain, confidence -> 0.8195696853580462, ner_label -> PROBLEM, sentence -> 2}, []}]|\n",
            "+-----------------------------------------------------------------------------------------------------------------------------------------------------------------------------------------------------------------------------------------------------------------------------------------------------------------------------------------------------------------------------------------------------------------------------------------------------------------------------------------------------------------------------------------------------------------------------------------------------------------------------------------------------------------------------------------------------------------+\n",
            "\n"
          ]
        }
      ],
      "source": [
        "result.select(\"assertion\").show(truncate=False)"
      ]
    },
    {
      "cell_type": "code",
      "execution_count": 23,
      "metadata": {
        "colab": {
          "base_uri": "https://localhost:8080/"
        },
        "id": "9kqlonuFIRrw",
        "outputId": "9d298b5d-149a-4d0f-e1c8-d1a869b70058"
      },
      "outputs": [
        {
          "name": "stdout",
          "output_type": "stream",
          "text": [
            "+----------+-----+---+---------+-------+---------+\n",
            "|chunk     |begin|end|ner_label|sent_id|assertion|\n",
            "+----------+-----+---+---------+-------+---------+\n",
            "|a headache|12   |21 |PROBLEM  |0      |present  |\n",
            "|anxious   |56   |62 |PROBLEM  |0      |present  |\n",
            "|alopecia  |88   |95 |PROBLEM  |1      |absent   |\n",
            "|pain      |115  |118|PROBLEM  |2      |absent   |\n",
            "+----------+-----+---+---------+-------+---------+\n",
            "\n"
          ]
        }
      ],
      "source": [
        "result.select(F.explode(F.arrays_zip(result.ner_chunk.result,\n",
        "                                     result.ner_chunk.begin,\n",
        "                                     result.ner_chunk.end,\n",
        "                                     result.ner_chunk.metadata,\n",
        "                                     result.assertion.result)).alias(\"cols\")) \\\n",
        "      .select(F.expr(\"cols['0']\").alias(\"chunk\"),\n",
        "              F.expr(\"cols['1']\").alias(\"begin\"),\n",
        "              F.expr(\"cols['2']\").alias(\"end\"),\n",
        "              F.expr(\"cols['3']['entity']\").alias(\"ner_label\"),\n",
        "              F.expr(\"cols['3']['sentence']\").alias(\"sent_id\"),\n",
        "              F.expr(\"cols['4']\").alias(\"assertion\")).show(truncate=False)"
      ]
    }
  ],
  "metadata": {
    "colab": {
      "machine_shape": "hm",
      "provenance": []
    },
    "gpuClass": "standard",
    "kernelspec": {
      "display_name": "Python 3",
      "language": "python",
      "name": "python3"
    },
    "language_info": {
      "codemirror_mode": {
        "name": "ipython",
        "version": 3
      },
      "file_extension": ".py",
      "mimetype": "text/x-python",
      "name": "python",
      "nbconvert_exporter": "python",
      "pygments_lexer": "ipython3",
      "version": "3.7.4"
    }
  },
  "nbformat": 4,
  "nbformat_minor": 0
}

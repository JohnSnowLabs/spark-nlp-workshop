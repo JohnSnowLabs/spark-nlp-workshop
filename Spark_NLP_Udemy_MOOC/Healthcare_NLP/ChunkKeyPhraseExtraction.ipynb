{
  "cells": [
    {
      "cell_type": "markdown",
      "metadata": {
        "id": "sXatvRX899i0"
      },
      "source": [
        "![JohnSnowLabs](https://nlp.johnsnowlabs.com/assets/images/logo.png)"
      ]
    },
    {
      "cell_type": "markdown",
      "metadata": {
        "id": "6ijTjWw4s17q"
      },
      "source": [
        "[![Open In Colab](https://colab.research.google.com/assets/colab-badge.svg)](https://colab.research.google.com/github/JohnSnowLabs/spark-nlp-workshop/blob/master/Spark_NLP_Udemy_MOOC/Healthcare_NLP/ChunkKeyPhraseExtraction.ipynb)"
      ]
    },
    {
      "cell_type": "markdown",
      "metadata": {
        "id": "AOn8d1tcBkK3"
      },
      "source": [
        "# **ChunkKeyPhraseExtraction**"
      ]
    },
    {
      "cell_type": "markdown",
      "metadata": {
        "id": "WimihSwD3vtH"
      },
      "source": [
        "This notebook will cover the different parameters and usages of `ChunkKeyPhraseExtraction`. This annotator extracts key phrases from texts.\n",
        "\n",
        "**📖 Learning Objectives:**\n",
        "\n",
        "1. Understand how to extract key phrases from texts..\n",
        "\n",
        "2. Become comfortable using the different parameters of the `ChunkKeyPhraseExtraction`.\n",
        "\n",
        "\n",
        "**🔗 Helpful Links:**\n",
        "\n",
        "- Documentation : [ChunkKeyPhraseExtraction](https://nlp.johnsnowlabs.com/docs/en/licensed_annotators#chunkkeyphraseextraction)\n",
        "\n",
        "- Python Docs : [ChunkKeyPhraseExtraction](https://nlp.johnsnowlabs.com/licensed/api/python/reference/autosummary/sparknlp_jsl/annotator/chunker/chunk_key_phrase_extraction/index.html#sparknlp_jsl.annotator.chunker.chunk_key_phrase_extraction.ChunkKeyPhraseExtraction)\n",
        "\n",
        "- Scala Docs : [ChunkKeyPhraseExtraction](https://nlp.johnsnowlabs.com/licensed/api/com/johnsnowlabs/nlp/annotators/chunker/ChunkKeyPhraseExtraction.html)\n",
        "\n",
        "- For extended examples of usage, see the [Spark Healthcare NLP Workshop repository](https://github.com/JohnSnowLabs/spark-nlp-workshop/tree/master/healthcare-nlp)"
      ]
    },
    {
      "cell_type": "markdown",
      "metadata": {
        "id": "qL9lcISyFSLv"
      },
      "source": [
        "## **📜 Background**\n"
      ]
    },
    {
      "cell_type": "markdown",
      "metadata": {
        "id": "TjDKOoZ4Fc8G"
      },
      "source": [
        "`ChunkKeyPhraseExtraction` extracts key phrases from texts. The model compares the chunks against the corresponding sentences/documents and selects the chunks which are most representative of the broader text context (i.e., the document or the sentence they belong to). This allows, for example, to obtain a brief understanding of a document by selecting the most relevant phrases."
      ]
    },
    {
      "cell_type": "markdown",
      "metadata": {
        "id": "MfkkKkbVF309"
      },
      "source": [
        "## **🎬 Colab Setup**"
      ]
    },
    {
      "cell_type": "code",
      "execution_count": null,
      "metadata": {
        "id": "iMkMQtZNF2n-"
      },
      "outputs": [],
      "source": [
        "!pip install -q johnsnowlabs"
      ]
    },
    {
      "cell_type": "code",
      "execution_count": null,
      "metadata": {
        "colab": {
          "base_uri": "https://localhost:8080/",
          "height": 90
        },
        "id": "zbUfCKmmiVCG",
        "outputId": "f2704ad7-00e7-4177-ac81-f92e229fe538"
      },
      "outputs": [
        {
          "output_type": "stream",
          "name": "stdout",
          "text": [
            "Please Upload your John Snow Labs License using the button below\n"
          ]
        },
        {
          "output_type": "display_data",
          "data": {
            "text/plain": [
              "<IPython.core.display.HTML object>"
            ],
            "text/html": [
              "\n",
              "     <input type=\"file\" id=\"files-4b9bad5f-91c3-4294-834f-8ea64272822e\" name=\"files[]\" multiple disabled\n",
              "        style=\"border:none\" />\n",
              "     <output id=\"result-4b9bad5f-91c3-4294-834f-8ea64272822e\">\n",
              "      Upload widget is only available when the cell has been executed in the\n",
              "      current browser session. Please rerun this cell to enable.\n",
              "      </output>\n",
              "      <script>// Copyright 2017 Google LLC\n",
              "//\n",
              "// Licensed under the Apache License, Version 2.0 (the \"License\");\n",
              "// you may not use this file except in compliance with the License.\n",
              "// You may obtain a copy of the License at\n",
              "//\n",
              "//      http://www.apache.org/licenses/LICENSE-2.0\n",
              "//\n",
              "// Unless required by applicable law or agreed to in writing, software\n",
              "// distributed under the License is distributed on an \"AS IS\" BASIS,\n",
              "// WITHOUT WARRANTIES OR CONDITIONS OF ANY KIND, either express or implied.\n",
              "// See the License for the specific language governing permissions and\n",
              "// limitations under the License.\n",
              "\n",
              "/**\n",
              " * @fileoverview Helpers for google.colab Python module.\n",
              " */\n",
              "(function(scope) {\n",
              "function span(text, styleAttributes = {}) {\n",
              "  const element = document.createElement('span');\n",
              "  element.textContent = text;\n",
              "  for (const key of Object.keys(styleAttributes)) {\n",
              "    element.style[key] = styleAttributes[key];\n",
              "  }\n",
              "  return element;\n",
              "}\n",
              "\n",
              "// Max number of bytes which will be uploaded at a time.\n",
              "const MAX_PAYLOAD_SIZE = 100 * 1024;\n",
              "\n",
              "function _uploadFiles(inputId, outputId) {\n",
              "  const steps = uploadFilesStep(inputId, outputId);\n",
              "  const outputElement = document.getElementById(outputId);\n",
              "  // Cache steps on the outputElement to make it available for the next call\n",
              "  // to uploadFilesContinue from Python.\n",
              "  outputElement.steps = steps;\n",
              "\n",
              "  return _uploadFilesContinue(outputId);\n",
              "}\n",
              "\n",
              "// This is roughly an async generator (not supported in the browser yet),\n",
              "// where there are multiple asynchronous steps and the Python side is going\n",
              "// to poll for completion of each step.\n",
              "// This uses a Promise to block the python side on completion of each step,\n",
              "// then passes the result of the previous step as the input to the next step.\n",
              "function _uploadFilesContinue(outputId) {\n",
              "  const outputElement = document.getElementById(outputId);\n",
              "  const steps = outputElement.steps;\n",
              "\n",
              "  const next = steps.next(outputElement.lastPromiseValue);\n",
              "  return Promise.resolve(next.value.promise).then((value) => {\n",
              "    // Cache the last promise value to make it available to the next\n",
              "    // step of the generator.\n",
              "    outputElement.lastPromiseValue = value;\n",
              "    return next.value.response;\n",
              "  });\n",
              "}\n",
              "\n",
              "/**\n",
              " * Generator function which is called between each async step of the upload\n",
              " * process.\n",
              " * @param {string} inputId Element ID of the input file picker element.\n",
              " * @param {string} outputId Element ID of the output display.\n",
              " * @return {!Iterable<!Object>} Iterable of next steps.\n",
              " */\n",
              "function* uploadFilesStep(inputId, outputId) {\n",
              "  const inputElement = document.getElementById(inputId);\n",
              "  inputElement.disabled = false;\n",
              "\n",
              "  const outputElement = document.getElementById(outputId);\n",
              "  outputElement.innerHTML = '';\n",
              "\n",
              "  const pickedPromise = new Promise((resolve) => {\n",
              "    inputElement.addEventListener('change', (e) => {\n",
              "      resolve(e.target.files);\n",
              "    });\n",
              "  });\n",
              "\n",
              "  const cancel = document.createElement('button');\n",
              "  inputElement.parentElement.appendChild(cancel);\n",
              "  cancel.textContent = 'Cancel upload';\n",
              "  const cancelPromise = new Promise((resolve) => {\n",
              "    cancel.onclick = () => {\n",
              "      resolve(null);\n",
              "    };\n",
              "  });\n",
              "\n",
              "  // Wait for the user to pick the files.\n",
              "  const files = yield {\n",
              "    promise: Promise.race([pickedPromise, cancelPromise]),\n",
              "    response: {\n",
              "      action: 'starting',\n",
              "    }\n",
              "  };\n",
              "\n",
              "  cancel.remove();\n",
              "\n",
              "  // Disable the input element since further picks are not allowed.\n",
              "  inputElement.disabled = true;\n",
              "\n",
              "  if (!files) {\n",
              "    return {\n",
              "      response: {\n",
              "        action: 'complete',\n",
              "      }\n",
              "    };\n",
              "  }\n",
              "\n",
              "  for (const file of files) {\n",
              "    const li = document.createElement('li');\n",
              "    li.append(span(file.name, {fontWeight: 'bold'}));\n",
              "    li.append(span(\n",
              "        `(${file.type || 'n/a'}) - ${file.size} bytes, ` +\n",
              "        `last modified: ${\n",
              "            file.lastModifiedDate ? file.lastModifiedDate.toLocaleDateString() :\n",
              "                                    'n/a'} - `));\n",
              "    const percent = span('0% done');\n",
              "    li.appendChild(percent);\n",
              "\n",
              "    outputElement.appendChild(li);\n",
              "\n",
              "    const fileDataPromise = new Promise((resolve) => {\n",
              "      const reader = new FileReader();\n",
              "      reader.onload = (e) => {\n",
              "        resolve(e.target.result);\n",
              "      };\n",
              "      reader.readAsArrayBuffer(file);\n",
              "    });\n",
              "    // Wait for the data to be ready.\n",
              "    let fileData = yield {\n",
              "      promise: fileDataPromise,\n",
              "      response: {\n",
              "        action: 'continue',\n",
              "      }\n",
              "    };\n",
              "\n",
              "    // Use a chunked sending to avoid message size limits. See b/62115660.\n",
              "    let position = 0;\n",
              "    do {\n",
              "      const length = Math.min(fileData.byteLength - position, MAX_PAYLOAD_SIZE);\n",
              "      const chunk = new Uint8Array(fileData, position, length);\n",
              "      position += length;\n",
              "\n",
              "      const base64 = btoa(String.fromCharCode.apply(null, chunk));\n",
              "      yield {\n",
              "        response: {\n",
              "          action: 'append',\n",
              "          file: file.name,\n",
              "          data: base64,\n",
              "        },\n",
              "      };\n",
              "\n",
              "      let percentDone = fileData.byteLength === 0 ?\n",
              "          100 :\n",
              "          Math.round((position / fileData.byteLength) * 100);\n",
              "      percent.textContent = `${percentDone}% done`;\n",
              "\n",
              "    } while (position < fileData.byteLength);\n",
              "  }\n",
              "\n",
              "  // All done.\n",
              "  yield {\n",
              "    response: {\n",
              "      action: 'complete',\n",
              "    }\n",
              "  };\n",
              "}\n",
              "\n",
              "scope.google = scope.google || {};\n",
              "scope.google.colab = scope.google.colab || {};\n",
              "scope.google.colab._files = {\n",
              "  _uploadFiles,\n",
              "  _uploadFilesContinue,\n",
              "};\n",
              "})(self);\n",
              "</script> "
            ]
          },
          "metadata": {}
        },
        {
          "output_type": "stream",
          "name": "stdout",
          "text": [
            "Saving spark_nlp_for_healthcare_spark_ocr_10494.json to spark_nlp_for_healthcare_spark_ocr_10494 (1).json\n"
          ]
        }
      ],
      "source": [
        "from google.colab import files\n",
        "print('Please Upload your John Snow Labs License using the button below')\n",
        "license_keys = files.upload()"
      ]
    },
    {
      "cell_type": "code",
      "execution_count": null,
      "metadata": {
        "colab": {
          "base_uri": "https://localhost:8080/"
        },
        "id": "NulWi4_f4GN5",
        "outputId": "5e7d401d-7745-4ce1-da5d-c74523838a64"
      },
      "outputs": [
        {
          "output_type": "stream",
          "name": "stdout",
          "text": [
            "👌 Detected license file /content/spark_nlp_for_healthcare_spark_ocr_10494 (1).json\n",
            "👌 Detected license file /content/spark_nlp_for_healthcare_spark_ocr_10494 (1).json\n",
            "👌 JSL-Home is up to date! \n",
            "👌 Everything is already installed, no changes made\n"
          ]
        }
      ],
      "source": [
        "from johnsnowlabs import nlp, medical\n",
        "\n",
        "nlp.install()"
      ]
    },
    {
      "cell_type": "code",
      "execution_count": null,
      "metadata": {
        "colab": {
          "base_uri": "https://localhost:8080/"
        },
        "id": "2GLXxe1Q0Iln",
        "outputId": "693c7417-c2e7-44c5-a440-988f4b731dd3"
      },
      "outputs": [
        {
          "output_type": "stream",
          "name": "stdout",
          "text": [
            "Spark Session already created, some configs may not take.\n",
            "👌 Detected license file /content/spark_nlp_for_healthcare_spark_ocr_10494 (1).json\n"
          ]
        }
      ],
      "source": [
        "import pyspark.sql.functions as F\n",
        "\n",
        "spark = nlp.start()"
      ]
    },
    {
      "cell_type": "markdown",
      "metadata": {
        "id": "9Fbbk1bqcuA5"
      },
      "source": [
        "## **🖨️ Input/Output Annotation Types**"
      ]
    },
    {
      "cell_type": "markdown",
      "metadata": {
        "id": "0yFIrr5acsiU"
      },
      "source": [
        "- Input: `DOCUMENT` , `CHUNK`\n",
        "\n",
        "- Output: `CHUNK`"
      ]
    },
    {
      "cell_type": "markdown",
      "metadata": {
        "id": "b2YJehUKMhb0"
      },
      "source": [
        "## **🔎 Parameters**\n"
      ]
    },
    {
      "cell_type": "markdown",
      "metadata": {
        "id": "oidLDoS94asU"
      },
      "source": [
        "\n",
        "\n",
        "- `setConcatenateSentences(value: Boolean)`: Concatenate the input sentence/document annotations before computing their embedding. Default: `true`.\n",
        "\n",
        "- `setDivergence(value: Float)`: Set the level of divergence of the extracted key phrases.\n",
        "\n",
        "- `setDocumentLevelProcessing(value: Boolean)`: Extract key phrases from the whole document (`true`) or from particular sentences which the chunks refer to (`false`). Default: `true`.\n",
        "\n",
        "- `setDropPunctuation(value: Boolean)`: Remove punctuation marks from input chunks.\n",
        "\n",
        "- `setSelectMostDifferent(value: Boolean)`: Return the top N key phrases that are the most different from each other.\n",
        "\n",
        "- `setTopN(value: Int)`: Set the number of key phrases to extract.\n",
        "\n",
        "\n"
      ]
    },
    {
      "cell_type": "markdown",
      "metadata": {
        "id": "sVcaX9eBO1x6"
      },
      "source": [
        "### `topN`\n",
        "\n",
        "Set the number of key phrases to extract. The default value is 3.\n",
        "\n"
      ]
    },
    {
      "cell_type": "code",
      "execution_count": null,
      "metadata": {
        "colab": {
          "base_uri": "https://localhost:8080/"
        },
        "id": "C5IbTr6pO6LM",
        "outputId": "0580279e-5495-4d9c-bf1a-d7f62473341e"
      },
      "outputs": [
        {
          "output_type": "stream",
          "name": "stdout",
          "text": [
            "embeddings_clinical download started this may take some time.\n",
            "Approximate size to download 1.6 GB\n",
            "[OK!]\n",
            "ner_jsl download started this may take some time.\n",
            "Approximate size to download 14.5 MB\n",
            "[OK!]\n",
            "sbert_jsl_medium_uncased download started this may take some time.\n",
            "Approximate size to download 146.8 MB\n",
            "[OK!]\n"
          ]
        }
      ],
      "source": [
        "documentAssembler = nlp.DocumentAssembler() \\\n",
        "    .setInputCol(\"text\") \\\n",
        "    .setOutputCol( \"document\")\n",
        "\n",
        "sentenceDetector = nlp.SentenceDetector() \\\n",
        "    .setInputCols([\"document\"]) \\\n",
        "    .setOutputCol(\"sentence\")\\\n",
        "    .setCustomBounds(['\\n'])\n",
        "\n",
        "tokenizer = nlp.Tokenizer()\\\n",
        "    .setInputCols([\"sentence\"])\\\n",
        "    .setOutputCol(\"token\")\\\n",
        "    .setContextChars([\".\", \",\", \";\", \":\", \"!\", \"?\", \"*\", \"(\", \")\", \"\\\"\", \"'\",\"+\",\"%\",\"-\",'='])\\\n",
        "    .setSplitChars(['\\[', '\\]', '\\n'])\n",
        "\n",
        "word_embeddings = nlp.WordEmbeddingsModel.pretrained(\"embeddings_clinical\", \"en\", \"clinical/models\") \\\n",
        "    .setInputCols([\"sentence\", \"token\"]) \\\n",
        "    .setOutputCol(\"embeddings\")\n",
        "\n",
        "# Posology NER model is used\n",
        "jsl_ner = medical.NerModel.pretrained(\"ner_jsl\", \"en\", \"clinical/models\") \\\n",
        "    .setInputCols([\"sentence\", \"token\", \"embeddings\"]) \\\n",
        "    .setOutputCol(\"ner\")\n",
        "\n",
        "ner_converter = medical.NerConverterInternal()\\\n",
        "    .setInputCols([\"sentence\",\"token\",\"ner\"])\\\n",
        "    .setOutputCol(\"ner_chunk\")\n",
        "\n",
        "key_phrase_extractor = medical.ChunkKeyPhraseExtraction.pretrained() \\\n",
        "    .setInputCols(\"sentence\", \"ner_chunk\") \\\n",
        "    .setOutputCol(\"key_phrase_chunks\") \\\n",
        "    .setTopN(1) \\\n",
        "\n",
        "nlpPipeline = nlp.Pipeline(stages=[\n",
        "    documentAssembler,\n",
        "    sentenceDetector,\n",
        "    tokenizer,\n",
        "    word_embeddings,\n",
        "    jsl_ner,\n",
        "    ner_converter,\n",
        "    key_phrase_extractor ])\n",
        "\n",
        "empty_data = spark.createDataFrame([[\"\"]]).toDF(\"text\")\n",
        "\n",
        "chunk_filter_model = nlpPipeline.fit(empty_data)"
      ]
    },
    {
      "cell_type": "code",
      "execution_count": null,
      "metadata": {
        "id": "3f8DdUG57IAs"
      },
      "outputs": [],
      "source": [
        "text = 'The patient was prescribed 1 capsule of Advil for 5 days . He was seen by the endocrinology service and she was discharged on 40 units of insulin glargine at night , 12 units of insulin lispro with meals , metformin 1000 mg two times a day . It was determined that all SGLT2 inhibitors should be discontinued indefinitely fro 3 months .'\n",
        "\n",
        "filter_df = spark.createDataFrame([[text]]).toDF(\"text\")\n",
        "\n",
        "result = chunk_filter_model.transform(filter_df)"
      ]
    },
    {
      "cell_type": "code",
      "execution_count": null,
      "metadata": {
        "colab": {
          "base_uri": "https://localhost:8080/"
        },
        "id": "DqVQczwp0l4L",
        "outputId": "70eb10e8-90e7-497c-dc83-1c3777fc7197"
      },
      "outputs": [
        {
          "output_type": "stream",
          "name": "stdout",
          "text": [
            "+-------------+---------------------+----------+\n",
            "|        token|            ner_label|confidence|\n",
            "+-------------+---------------------+----------+\n",
            "|          The|                    O|    0.9997|\n",
            "|      patient|                    O|    0.9818|\n",
            "|          was|                    O|    0.9739|\n",
            "|   prescribed|                    O|    0.8993|\n",
            "|            1|             B-Dosage|    0.9827|\n",
            "|      capsule|             I-Dosage|     0.268|\n",
            "|           of|                    O|    0.8908|\n",
            "|        Advil|     B-Drug_BrandName|    0.9617|\n",
            "|          for|           B-Duration|    0.9878|\n",
            "|            5|           I-Duration|    0.9064|\n",
            "|         days|           I-Duration|    0.9584|\n",
            "|            .|                    O|    0.9941|\n",
            "|           He|             B-Gender|       1.0|\n",
            "|          was|                    O|      0.99|\n",
            "|         seen|                    O|    0.9609|\n",
            "|           by|                    O|    0.9767|\n",
            "|          the|                    O|     0.869|\n",
            "|endocrinology|      B-Clinical_Dept|    0.9359|\n",
            "|      service|      I-Clinical_Dept|    0.9697|\n",
            "|          and|                    O|    0.9991|\n",
            "|          she|             B-Gender|    0.9999|\n",
            "|          was|                    O|    0.9967|\n",
            "|   discharged|B-Admission_Discharge|    0.9998|\n",
            "|           on|                    O|    0.9939|\n",
            "|           40|             B-Dosage|    0.5969|\n",
            "|        units|             I-Dosage|    0.9681|\n",
            "|           of|                    O|    0.9858|\n",
            "|      insulin|    B-Drug_Ingredient|    0.8014|\n",
            "|     glargine|    I-Drug_Ingredient|    0.6417|\n",
            "|           at|          B-Frequency|    0.8661|\n",
            "|        night|          I-Frequency|    0.9527|\n",
            "|            ,|                    O|    0.9995|\n",
            "|           12|             B-Dosage|    0.8691|\n",
            "|        units|             I-Dosage|    0.9785|\n",
            "|           of|                    O|    0.9865|\n",
            "|      insulin|    B-Drug_Ingredient|    0.9325|\n",
            "|       lispro|    I-Drug_Ingredient|    0.7208|\n",
            "|         with|          B-Frequency|    0.9328|\n",
            "|        meals|          I-Frequency|    0.9268|\n",
            "|            ,|                    O|    0.9995|\n",
            "|    metformin|    B-Drug_Ingredient|    0.9903|\n",
            "|         1000|           B-Strength|    0.9914|\n",
            "|           mg|           I-Strength|     0.984|\n",
            "|          two|          B-Frequency|    0.9487|\n",
            "|        times|          I-Frequency|    0.9306|\n",
            "|            a|          I-Frequency|    0.8593|\n",
            "|          day|          I-Frequency|    0.8303|\n",
            "|            .|                    O|     0.997|\n",
            "|           It|                    O|    0.9988|\n",
            "|          was|                    O|     0.986|\n",
            "+-------------+---------------------+----------+\n",
            "only showing top 50 rows\n",
            "\n"
          ]
        }
      ],
      "source": [
        "result_df = result.select(F.explode(F.arrays_zip(result.token.result,result.ner.result, result.ner.metadata)).alias(\"cols\"))\\\n",
        "                  .select(F.expr(\"cols['0']\").alias(\"token\"),\n",
        "                          F.expr(\"cols['1']\").alias(\"ner_label\"),\n",
        "                          F.expr(\"cols['2']['confidence']\").alias(\"confidence\"))\n",
        "\n",
        "result_df.show(50, truncate=100)"
      ]
    },
    {
      "cell_type": "code",
      "execution_count": null,
      "metadata": {
        "colab": {
          "base_uri": "https://localhost:8080/"
        },
        "id": "nnT0qi2ZmQ4z",
        "outputId": "f1f1657a-9525-4d3b-9573-226d83d01d71"
      },
      "outputs": [
        {
          "output_type": "stream",
          "name": "stdout",
          "text": [
            "+--------------+---------------+------------------+------------------+\n",
            "|result        |entity         |DocumentSimilarity|MMRScore          |\n",
            "+--------------+---------------+------------------+------------------+\n",
            "|insulin lispro|Drug_Ingredient|0.4873421379191952|0.4873421379191952|\n",
            "+--------------+---------------+------------------+------------------+\n",
            "\n"
          ]
        }
      ],
      "source": [
        "result.selectExpr(\"explode(key_phrase_chunks) AS key_phrase\").selectExpr(\n",
        "        \"key_phrase.result\",\n",
        "        \"key_phrase.metadata.entity\",\n",
        "        \"key_phrase.metadata.DocumentSimilarity\",\n",
        "        \"key_phrase.metadata.MMRScore\").show(truncate=False)"
      ]
    },
    {
      "cell_type": "markdown",
      "metadata": {
        "id": "di-lYe-z2S4B"
      },
      "source": [
        "### divergence\n",
        "\n",
        "The divergence value determines how different from each the extracted key phrases are. The value must be in the the interval [0, 1]. The higher the value is, the more divergence is enforced. The default value is 0.0."
      ]
    },
    {
      "cell_type": "code",
      "execution_count": null,
      "metadata": {
        "colab": {
          "base_uri": "https://localhost:8080/"
        },
        "id": "PJrA6c-y0lwb",
        "outputId": "311a3e53-527d-4045-fb8d-9db9e8ae5068"
      },
      "outputs": [
        {
          "output_type": "stream",
          "name": "stdout",
          "text": [
            "sbert_jsl_medium_uncased download started this may take some time.\n",
            "Approximate size to download 146.8 MB\n",
            "[OK!]\n"
          ]
        }
      ],
      "source": [
        "key_phrase_extractor = medical.ChunkKeyPhraseExtraction.pretrained() \\\n",
        "    .setInputCols(\"sentence\", \"ner_chunk\") \\\n",
        "    .setOutputCol(\"key_phrase_chunks\") \\\n",
        "    .setDivergence(0.4)\n",
        "\n",
        "nlpPipeline = nlp.Pipeline(stages=[\n",
        "    documentAssembler,\n",
        "    sentenceDetector,\n",
        "    tokenizer,\n",
        "    word_embeddings,\n",
        "    jsl_ner,\n",
        "    ner_converter,\n",
        "    key_phrase_extractor ])\n",
        "\n",
        "empty_data = spark.createDataFrame([[\"\"]]).toDF(\"text\")\n",
        "\n",
        "chunk_filter_model = nlpPipeline.fit(empty_data)\n",
        "\n",
        "result = chunk_filter_model.transform(filter_df)"
      ]
    },
    {
      "cell_type": "code",
      "execution_count": null,
      "metadata": {
        "colab": {
          "base_uri": "https://localhost:8080/"
        },
        "id": "TwssN8VT0ltS",
        "outputId": "4b9f54ab-b810-4def-8e9d-df2b19b0aa09"
      },
      "outputs": [
        {
          "output_type": "stream",
          "name": "stdout",
          "text": [
            "+--------------+-------------------+------------------+--------------------+\n",
            "|result        |entity             |DocumentSimilarity|MMRScore            |\n",
            "+--------------+-------------------+------------------+--------------------+\n",
            "|insulin lispro|Drug_Ingredient    |0.4873421379191952|0.2924052943706591  |\n",
            "|discharged    |Admission_Discharge|0.416718843385142 |0.18774081504282925 |\n",
            "|1000 mg       |Strength           |0.3377889480145588|0.046319304486829194|\n",
            "+--------------+-------------------+------------------+--------------------+\n",
            "\n"
          ]
        }
      ],
      "source": [
        "result.selectExpr(\"explode(key_phrase_chunks) AS key_phrase\").selectExpr(\n",
        "        \"key_phrase.result\",\n",
        "        \"key_phrase.metadata.entity\",\n",
        "        \"key_phrase.metadata.DocumentSimilarity\",\n",
        "        \"key_phrase.metadata.MMRScore\").show(truncate=False)"
      ]
    },
    {
      "cell_type": "markdown",
      "metadata": {
        "id": "gfISPunQ3xVo"
      },
      "source": [
        "### documentLevelProcessing\n",
        "\n",
        "If set to True, the model will extract key phrases from the whole document. If set to False, the model will extract key phrases from each sentence separately. The default value is True."
      ]
    },
    {
      "cell_type": "code",
      "execution_count": null,
      "metadata": {
        "colab": {
          "base_uri": "https://localhost:8080/"
        },
        "id": "CC4Vg6s10lqd",
        "outputId": "09739e2d-202a-4b37-9b55-b6e63ed2b273"
      },
      "outputs": [
        {
          "output_type": "stream",
          "name": "stdout",
          "text": [
            "sbert_jsl_medium_uncased download started this may take some time.\n",
            "Approximate size to download 146.8 MB\n",
            "[OK!]\n"
          ]
        }
      ],
      "source": [
        "key_phrase_extractor = medical.ChunkKeyPhraseExtraction.pretrained() \\\n",
        "    .setInputCols(\"sentence\", \"ner_chunk\") \\\n",
        "    .setOutputCol(\"key_phrase_chunks\") \\\n",
        "    .setDocumentLevelProcessing(False) \\\n",
        "\n",
        "nlpPipeline = nlp.Pipeline(stages=[\n",
        "    documentAssembler,\n",
        "    sentenceDetector,\n",
        "    tokenizer,\n",
        "    word_embeddings,\n",
        "    jsl_ner,\n",
        "    ner_converter,\n",
        "    key_phrase_extractor ])\n",
        "\n",
        "empty_data = spark.createDataFrame([[\"\"]]).toDF(\"text\")\n",
        "\n",
        "chunk_filter_model = nlpPipeline.fit(empty_data)\n",
        "\n",
        "result = chunk_filter_model.transform(filter_df)"
      ]
    },
    {
      "cell_type": "code",
      "execution_count": null,
      "metadata": {
        "colab": {
          "base_uri": "https://localhost:8080/"
        },
        "id": "c3Obrnlv0lnW",
        "outputId": "edecbb02-d69f-4da8-abd2-a10590c9a7cb"
      },
      "outputs": [
        {
          "output_type": "stream",
          "name": "stdout",
          "text": [
            "+----------------+-------------------+-------------------+-------------------+\n",
            "|result          |entity             |DocumentSimilarity |MMRScore           |\n",
            "+----------------+-------------------+-------------------+-------------------+\n",
            "|1 capsule       |Dosage             |0.5559222282402198 |0.5559222282402198 |\n",
            "|for 5 days      |Duration           |0.51812956000978   |0.51812956000978   |\n",
            "|insulin lispro  |Drug_Ingredient    |0.46288566725284874|0.46288566725284874|\n",
            "|Advil           |Drug_BrandName     |0.44433004633805423|0.44433004633805423|\n",
            "|discharged      |Admission_Discharge|0.4426689342759711 |0.4426689342759711 |\n",
            "|insulin glargine|Drug_Ingredient    |0.41479957993703415|0.41479957993703415|\n",
            "|fro 3 months    |Duration           |0.40924149430875195|0.40924149430875195|\n",
            "|SGLT2 inhibitors|Drug_Ingredient    |0.3928558273491294 |0.3928558273491294 |\n",
            "+----------------+-------------------+-------------------+-------------------+\n",
            "\n"
          ]
        }
      ],
      "source": [
        "result.selectExpr(\"explode(key_phrase_chunks) AS key_phrase\").selectExpr(\n",
        "        \"key_phrase.result\",\n",
        "        \"key_phrase.metadata.entity\",\n",
        "        \"key_phrase.metadata.DocumentSimilarity\",\n",
        "        \"key_phrase.metadata.MMRScore\").show(truncate=False)"
      ]
    },
    {
      "cell_type": "markdown",
      "metadata": {
        "id": "L8xGHijS4XTF"
      },
      "source": [
        "### concatenateSentences\n",
        "\n",
        " This parameter is only used if documentLevelProcessing is set to True. If concatenateSentences is set to True, then the model will concatenate the document/sentence input annotations and compute a single embedding. If it is set to False, then the model will compute the embedding of each sentence separately, and average the resulting embedding vectors in the end. Default: True."
      ]
    },
    {
      "cell_type": "code",
      "execution_count": null,
      "metadata": {
        "colab": {
          "base_uri": "https://localhost:8080/"
        },
        "id": "O46Jh6rG355S",
        "outputId": "e669d31d-8f90-4b8e-fddb-00fe56eb6346"
      },
      "outputs": [
        {
          "output_type": "stream",
          "name": "stdout",
          "text": [
            "sbert_jsl_medium_uncased download started this may take some time.\n",
            "Approximate size to download 146.8 MB\n",
            "[OK!]\n"
          ]
        }
      ],
      "source": [
        "key_phrase_extractor = medical.ChunkKeyPhraseExtraction.pretrained() \\\n",
        "    .setInputCols(\"sentence\", \"ner_chunk\") \\\n",
        "    .setOutputCol(\"key_phrase_chunks\") \\\n",
        "    .setDocumentLevelProcessing(True) \\\n",
        "    .setConcatenateSentences(False)\\\n",
        "\n",
        "nlpPipeline = nlp.Pipeline(stages=[\n",
        "    documentAssembler,\n",
        "    sentenceDetector,\n",
        "    tokenizer,\n",
        "    word_embeddings,\n",
        "    jsl_ner,\n",
        "    ner_converter,\n",
        "    key_phrase_extractor ])\n",
        "\n",
        "empty_data = spark.createDataFrame([[\"\"]]).toDF(\"text\")\n",
        "\n",
        "chunk_filter_model = nlpPipeline.fit(empty_data)\n",
        "\n",
        "result = chunk_filter_model.transform(filter_df)"
      ]
    },
    {
      "cell_type": "code",
      "execution_count": null,
      "metadata": {
        "colab": {
          "base_uri": "https://localhost:8080/"
        },
        "id": "UYHSoyJ53_qY",
        "outputId": "782dfaf6-2187-488d-8df1-b25574e2db68"
      },
      "outputs": [
        {
          "output_type": "stream",
          "name": "stdout",
          "text": [
            "+--------------+---------------+------------------+------------------+\n",
            "|result        |entity         |DocumentSimilarity|MMRScore          |\n",
            "+--------------+---------------+------------------+------------------+\n",
            "|1 capsule     |Dosage         |0.3192493587576557|0.3192493587576557|\n",
            "|for 5 days    |Duration       |0.2975460320830571|0.2975460320830571|\n",
            "|insulin lispro|Drug_Ingredient|0.2893682687100746|0.2893682687100746|\n",
            "+--------------+---------------+------------------+------------------+\n",
            "\n"
          ]
        }
      ],
      "source": [
        "result.selectExpr(\"explode(key_phrase_chunks) AS key_phrase\").selectExpr(\n",
        "        \"key_phrase.result\",\n",
        "        \"key_phrase.metadata.entity\",\n",
        "        \"key_phrase.metadata.DocumentSimilarity\",\n",
        "        \"key_phrase.metadata.MMRScore\").show(truncate=False)"
      ]
    },
    {
      "cell_type": "code",
      "execution_count": null,
      "metadata": {
        "id": "YbTsy6R64EOP",
        "colab": {
          "base_uri": "https://localhost:8080/"
        },
        "outputId": "bddaace4-ae2f-44c8-fd9d-a537cb4c734d"
      },
      "outputs": [
        {
          "output_type": "stream",
          "name": "stdout",
          "text": [
            "sbert_jsl_medium_uncased download started this may take some time.\n",
            "Approximate size to download 146.8 MB\n",
            "[OK!]\n"
          ]
        }
      ],
      "source": [
        "key_phrase_extractor = medical.ChunkKeyPhraseExtraction.pretrained() \\\n",
        "    .setInputCols(\"sentence\", \"ner_chunk\") \\\n",
        "    .setOutputCol(\"key_phrase_chunks\") \\\n",
        "    .setDropPunctuation(True) \\\n",
        "\n",
        "\n",
        "nlpPipeline = nlp.Pipeline(stages=[\n",
        "    documentAssembler,\n",
        "    sentenceDetector,\n",
        "    tokenizer,\n",
        "    word_embeddings,\n",
        "    jsl_ner,\n",
        "    ner_converter,\n",
        "    key_phrase_extractor ])\n",
        "\n",
        "empty_data = spark.createDataFrame([[\"\"]]).toDF(\"text\")\n",
        "\n",
        "chunk_filter_model = nlpPipeline.fit(empty_data)\n",
        "\n",
        "result = chunk_filter_model.transform(filter_df)"
      ]
    },
    {
      "cell_type": "code",
      "source": [
        "result.selectExpr(\"explode(key_phrase_chunks) AS key_phrase\").selectExpr(\n",
        "        \"key_phrase.result\",\n",
        "        \"key_phrase.metadata.entity\",\n",
        "        \"key_phrase.metadata.DocumentSimilarity\",\n",
        "        \"key_phrase.metadata.MMRScore\").show(truncate=False)"
      ],
      "metadata": {
        "colab": {
          "base_uri": "https://localhost:8080/"
        },
        "id": "ojhWQH0nvuwy",
        "outputId": "55138112-5ce7-4c42-ebd6-b8eaa95a4007"
      },
      "execution_count": null,
      "outputs": [
        {
          "output_type": "stream",
          "name": "stdout",
          "text": [
            "+----------------+-------------------+------------------+------------------+\n",
            "|result          |entity             |DocumentSimilarity|MMRScore          |\n",
            "+----------------+-------------------+------------------+------------------+\n",
            "|insulin lispro  |Drug_Ingredient    |0.4873421379191952|0.4873421379191952|\n",
            "|insulin glargine|Drug_Ingredient    |0.4565283676909086|0.4565283676909086|\n",
            "|discharged      |Admission_Discharge|0.416718843385142 |0.416718843385142 |\n",
            "+----------------+-------------------+------------------+------------------+\n",
            "\n"
          ]
        }
      ]
    },
    {
      "cell_type": "code",
      "source": [
        "key_phrase_extractor = medical.ChunkKeyPhraseExtraction.pretrained() \\\n",
        "    .setInputCols(\"sentence\", \"ner_chunk\") \\\n",
        "    .setOutputCol(\"key_phrase_chunks\") \\\n",
        "    .setSelectMostDifferent(True) \\\n",
        "\n",
        "\n",
        "nlpPipeline = nlp.Pipeline(stages=[\n",
        "    documentAssembler,\n",
        "    sentenceDetector,\n",
        "    tokenizer,\n",
        "    word_embeddings,\n",
        "    jsl_ner,\n",
        "    ner_converter,\n",
        "    key_phrase_extractor ])\n",
        "\n",
        "empty_data = spark.createDataFrame([[\"\"]]).toDF(\"text\")\n",
        "\n",
        "chunk_filter_model = nlpPipeline.fit(empty_data)\n",
        "\n",
        "result = chunk_filter_model.transform(filter_df)"
      ],
      "metadata": {
        "colab": {
          "base_uri": "https://localhost:8080/"
        },
        "id": "4rxyuQWsv-m6",
        "outputId": "76ef9eb9-ff1f-443a-a918-65bcab35c102"
      },
      "execution_count": null,
      "outputs": [
        {
          "output_type": "stream",
          "name": "stdout",
          "text": [
            "sbert_jsl_medium_uncased download started this may take some time.\n",
            "Approximate size to download 146.8 MB\n",
            "[OK!]\n"
          ]
        }
      ]
    },
    {
      "cell_type": "code",
      "source": [
        "result.selectExpr(\"explode(key_phrase_chunks) AS key_phrase\").selectExpr(\n",
        "        \"key_phrase.result\",\n",
        "        \"key_phrase.metadata.entity\",\n",
        "        \"key_phrase.metadata.DocumentSimilarity\",\n",
        "        \"key_phrase.metadata.MMRScore\").show(truncate=False)"
      ],
      "metadata": {
        "colab": {
          "base_uri": "https://localhost:8080/"
        },
        "id": "AGoIb8U5wNMz",
        "outputId": "a0c40aa1-2354-4db4-e110-a5164608e8e3"
      },
      "execution_count": null,
      "outputs": [
        {
          "output_type": "stream",
          "name": "stdout",
          "text": [
            "+----------------+-------------------+------------------+------------------+\n",
            "|result          |entity             |DocumentSimilarity|MMRScore          |\n",
            "+----------------+-------------------+------------------+------------------+\n",
            "|insulin glargine|Drug_Ingredient    |0.4565283676909086|0.4565283676909086|\n",
            "|discharged      |Admission_Discharge|0.416718843385142 |0.416718843385142 |\n",
            "|1000 mg         |Strength           |0.3377889480145588|0.3377889480145588|\n",
            "+----------------+-------------------+------------------+------------------+\n",
            "\n"
          ]
        }
      ]
    }
  ],
  "metadata": {
    "colab": {
      "machine_shape": "hm",
      "provenance": []
    },
    "gpuClass": "standard",
    "kernelspec": {
      "display_name": "Python 3",
      "language": "python",
      "name": "python3"
    },
    "language_info": {
      "codemirror_mode": {
        "name": "ipython",
        "version": 3
      },
      "file_extension": ".py",
      "mimetype": "text/x-python",
      "name": "python",
      "nbconvert_exporter": "python",
      "pygments_lexer": "ipython3",
      "version": "3.7.4"
    }
  },
  "nbformat": 4,
  "nbformat_minor": 0
}
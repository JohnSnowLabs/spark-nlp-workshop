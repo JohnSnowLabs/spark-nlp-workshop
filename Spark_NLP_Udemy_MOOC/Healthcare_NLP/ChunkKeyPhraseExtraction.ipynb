{
  "cells": [
    {
      "cell_type": "markdown",
      "metadata": {
        "id": "sXatvRX899i0"
      },
      "source": [
        "![JohnSnowLabs](https://nlp.johnsnowlabs.com/assets/images/logo.png)"
      ]
    },
    {
      "cell_type": "markdown",
      "metadata": {
        "id": "6ijTjWw4s17q"
      },
      "source": [
        "[![Open In Colab](https://colab.research.google.com/assets/colab-badge.svg)](https://colab.research.google.com/github/JohnSnowLabs/spark-nlp-workshop/blob/master/Spark_NLP_Udemy_MOOC/Healthcare_NLP/ChunkKeyPhraseExtraction.ipynb)"
      ]
    },
    {
      "cell_type": "markdown",
      "metadata": {
        "id": "AOn8d1tcBkK3"
      },
      "source": [
        "# **ChunkKeyPhraseExtraction**"
      ]
    },
    {
      "cell_type": "markdown",
      "metadata": {
        "id": "WimihSwD3vtH"
      },
      "source": [
        "This notebook will cover the different parameters and usages of `ChunkKeyPhraseExtraction`. This annotator extracts key phrases from texts.\n",
        "\n",
        "**📖 Learning Objectives:**\n",
        "\n",
        "1. Understand how to extract key phrases from texts..\n",
        "\n",
        "2. Become comfortable using the different parameters of the `ChunkKeyPhraseExtraction`.\n",
        "\n",
        "\n",
        "**🔗 Helpful Links:**\n",
        "\n",
        "- Documentation : [ChunkKeyPhraseExtraction](https://nlp.johnsnowlabs.com/docs/en/licensed_annotators#chunkkeyphraseextraction)\n",
        "\n",
        "- Python Docs : [ChunkKeyPhraseExtraction](https://nlp.johnsnowlabs.com/licensed/api/python/reference/autosummary/sparknlp_jsl/annotator/chunker/chunk_key_phrase_extraction/index.html#sparknlp_jsl.annotator.chunker.chunk_key_phrase_extraction.ChunkKeyPhraseExtraction)\n",
        "\n",
        "- Scala Docs : [ChunkKeyPhraseExtraction](https://nlp.johnsnowlabs.com/licensed/api/com/johnsnowlabs/nlp/annotators/chunker/ChunkKeyPhraseExtraction.html)\n",
        "\n",
        "- For extended examples of usage, see the [Spark Healthcare NLP Workshop repository](https://github.com/JohnSnowLabs/spark-nlp-workshop/tree/master/healthcare-nlp)"
      ]
    },
    {
      "cell_type": "markdown",
      "metadata": {
        "id": "qL9lcISyFSLv"
      },
      "source": [
        "## **📜 Background**\n"
      ]
    },
    {
      "cell_type": "markdown",
      "metadata": {
        "id": "TjDKOoZ4Fc8G"
      },
      "source": [
        "`ChunkKeyPhraseExtraction` extracts key phrases from texts. The model compares the chunks against the corresponding sentences/documents and selects the chunks which are most representative of the broader text context (i.e., the document or the sentence they belong to). This allows, for example, to obtain a brief understanding of a document by selecting the most relevant phrases."
      ]
    },
    {
      "cell_type": "markdown",
      "metadata": {
        "id": "MfkkKkbVF309"
      },
      "source": [
        "## **🎬 Colab Setup**"
      ]
    },
    {
      "cell_type": "code",
      "execution_count": null,
      "metadata": {
        "id": "iMkMQtZNF2n-"
      },
      "outputs": [],
      "source": [
        "!pip install -q johnsnowlabs"
      ]
    },
    {
      "cell_type": "code",
      "execution_count": null,
      "metadata": {
        "id": "zbUfCKmmiVCG"
      },
      "outputs": [],
      "source": [
        "from google.colab import files\n",
        "print('Please Upload your John Snow Labs License using the button below')\n",
        "license_keys = files.upload()"
      ]
    },
    {
      "cell_type": "code",
      "execution_count": null,
      "metadata": {
        "id": "NulWi4_f4GN5"
      },
      "outputs": [],
      "source": [
        "from johnsnowlabs import nlp, medical\n",
        "\n",
        "nlp.install()"
      ]
    },
    {
      "cell_type": "code",
      "execution_count": 19,
      "metadata": {
        "id": "2GLXxe1Q0Iln",
        "colab": {
          "base_uri": "https://localhost:8080/",
          "height": 254
        },
        "outputId": "1341cc1b-b127-461d-85a5-48a0f24ad6f2"
      },
      "outputs": [
        {
          "output_type": "stream",
          "name": "stdout",
          "text": [
            "Spark Session already created, some configs may not take.\n",
            "👌 Detected license file /content/spark_nlp_for_healthcare_spark_ocr_10494.json\n"
          ]
        },
        {
          "output_type": "execute_result",
          "data": {
            "text/plain": [
              "<pyspark.sql.session.SparkSession at 0x7adefef3bbf0>"
            ],
            "text/html": [
              "\n",
              "            <div>\n",
              "                <p><b>SparkSession - in-memory</b></p>\n",
              "                \n",
              "        <div>\n",
              "            <p><b>SparkContext</b></p>\n",
              "\n",
              "            <p><a href=\"http://9258a4874b34:4040\">Spark UI</a></p>\n",
              "\n",
              "            <dl>\n",
              "              <dt>Version</dt>\n",
              "                <dd><code>v3.4.0</code></dd>\n",
              "              <dt>Master</dt>\n",
              "                <dd><code>local[*]</code></dd>\n",
              "              <dt>AppName</dt>\n",
              "                <dd><code>John-Snow-Labs-Spark-Session 🚀 with Jars for: 🚀Spark-NLP==6.1.3, 💊Spark-Healthcare==6.1.1, running on ⚡ PySpark==3.4.0</code></dd>\n",
              "            </dl>\n",
              "        </div>\n",
              "        \n",
              "            </div>\n",
              "        "
            ]
          },
          "metadata": {},
          "execution_count": 19
        }
      ],
      "source": [
        "import pyspark.sql.functions as F\n",
        "\n",
        "spark = nlp.start()\n",
        "spark"
      ]
    },
    {
      "cell_type": "markdown",
      "metadata": {
        "id": "9Fbbk1bqcuA5"
      },
      "source": [
        "## **🖨️ Input/Output Annotation Types**"
      ]
    },
    {
      "cell_type": "markdown",
      "metadata": {
        "id": "0yFIrr5acsiU"
      },
      "source": [
        "- Input: `DOCUMENT` , `CHUNK`\n",
        "\n",
        "- Output: `CHUNK`"
      ]
    },
    {
      "cell_type": "markdown",
      "metadata": {
        "id": "b2YJehUKMhb0"
      },
      "source": [
        "## **🔎 Parameters**\n"
      ]
    },
    {
      "cell_type": "markdown",
      "metadata": {
        "id": "oidLDoS94asU"
      },
      "source": [
        "\n",
        "\n",
        "- `setConcatenateSentences(value: Boolean)`: Concatenate the input sentence/document annotations before computing their embedding. Default: `true`.\n",
        "\n",
        "- `setDivergence(value: Float)`: Set the level of divergence of the extracted key phrases.\n",
        "\n",
        "- `setDocumentLevelProcessing(value: Boolean)`: Extract key phrases from the whole document (`true`) or from particular sentences which the chunks refer to (`false`). Default: `true`.\n",
        "\n",
        "- `setDropPunctuation(value: Boolean)`: Remove punctuation marks from input chunks.\n",
        "\n",
        "- `setSelectMostDifferent(value: Boolean)`: Return the top N key phrases that are the most different from each other.\n",
        "\n",
        "- `setTopN(value: Int)`: Set the number of key phrases to extract.\n",
        "\n",
        "\n"
      ]
    },
    {
      "cell_type": "markdown",
      "metadata": {
        "id": "sVcaX9eBO1x6"
      },
      "source": [
        "### `topN`\n",
        "\n",
        "Set the number of key phrases to extract. The default value is 3.\n",
        "\n"
      ]
    },
    {
      "cell_type": "code",
      "execution_count": 5,
      "metadata": {
        "id": "C5IbTr6pO6LM",
        "colab": {
          "base_uri": "https://localhost:8080/"
        },
        "outputId": "eef568ba-f020-4808-8b89-e8bd72daccb8"
      },
      "outputs": [
        {
          "output_type": "stream",
          "name": "stdout",
          "text": [
            "embeddings_clinical download started this may take some time.\n",
            "Approximate size to download 1.6 GB\n",
            "[OK!]\n",
            "ner_jsl download started this may take some time.\n",
            "Approximate size to download 14.5 MB\n",
            "[OK!]\n",
            "sbert_jsl_medium_uncased download started this may take some time.\n",
            "Approximate size to download 146.8 MB\n",
            "[OK!]\n"
          ]
        }
      ],
      "source": [
        "documentAssembler = nlp.DocumentAssembler() \\\n",
        "    .setInputCol(\"text\") \\\n",
        "    .setOutputCol( \"document\")\n",
        "\n",
        "sentenceDetector = nlp.SentenceDetector() \\\n",
        "    .setInputCols([\"document\"]) \\\n",
        "    .setOutputCol(\"sentence\")\\\n",
        "    .setCustomBounds(['\\n'])\n",
        "\n",
        "tokenizer = nlp.Tokenizer()\\\n",
        "    .setInputCols([\"sentence\"])\\\n",
        "    .setOutputCol(\"token\")\\\n",
        "    .setContextChars([\".\", \",\", \";\", \":\", \"!\", \"?\", \"*\", \"(\", \")\", \"\\\"\", \"'\",\"+\",\"%\",\"-\",'='])\\\n",
        "    .setSplitChars(['\\[', '\\]', '\\n'])\n",
        "\n",
        "word_embeddings = nlp.WordEmbeddingsModel.pretrained(\"embeddings_clinical\", \"en\", \"clinical/models\") \\\n",
        "    .setInputCols([\"sentence\", \"token\"]) \\\n",
        "    .setOutputCol(\"embeddings\")\n",
        "\n",
        "# Posology NER model is used\n",
        "jsl_ner = medical.NerModel.pretrained(\"ner_jsl\", \"en\", \"clinical/models\") \\\n",
        "    .setInputCols([\"sentence\", \"token\", \"embeddings\"]) \\\n",
        "    .setOutputCol(\"ner\")\n",
        "\n",
        "ner_converter = medical.NerConverterInternal()\\\n",
        "    .setInputCols([\"sentence\",\"token\",\"ner\"])\\\n",
        "    .setOutputCol(\"ner_chunk\")\n",
        "\n",
        "key_phrase_extractor = medical.ChunkKeyPhraseExtraction.pretrained() \\\n",
        "    .setInputCols(\"sentence\", \"ner_chunk\") \\\n",
        "    .setOutputCol(\"key_phrase_chunks\") \\\n",
        "    .setTopN(1) \\\n",
        "\n",
        "nlpPipeline = nlp.Pipeline(stages=[\n",
        "    documentAssembler,\n",
        "    sentenceDetector,\n",
        "    tokenizer,\n",
        "    word_embeddings,\n",
        "    jsl_ner,\n",
        "    ner_converter,\n",
        "    key_phrase_extractor ])\n",
        "\n",
        "empty_data = spark.createDataFrame([[\"\"]]).toDF(\"text\")\n",
        "\n",
        "chunk_filter_model = nlpPipeline.fit(empty_data)"
      ]
    },
    {
      "cell_type": "code",
      "execution_count": 6,
      "metadata": {
        "id": "3f8DdUG57IAs"
      },
      "outputs": [],
      "source": [
        "text = 'The patient was prescribed 1 capsule of Advil for 5 days . He was seen by the endocrinology service and she was discharged on 40 units of insulin glargine at night , 12 units of insulin lispro with meals , metformin 1000 mg two times a day . It was determined that all SGLT2 inhibitors should be discontinued indefinitely fro 3 months .'\n",
        "\n",
        "filter_df = spark.createDataFrame([[text]]).toDF(\"text\")\n",
        "\n",
        "result = chunk_filter_model.transform(filter_df)"
      ]
    },
    {
      "cell_type": "code",
      "execution_count": 7,
      "metadata": {
        "id": "DqVQczwp0l4L",
        "colab": {
          "base_uri": "https://localhost:8080/"
        },
        "outputId": "35fdbd79-79f8-4718-a217-bdbf924fc042"
      },
      "outputs": [
        {
          "output_type": "stream",
          "name": "stdout",
          "text": [
            "+-------------+---------------------+----------+\n",
            "|        token|            ner_label|confidence|\n",
            "+-------------+---------------------+----------+\n",
            "|          The|                    O|    0.9997|\n",
            "|      patient|                    O|    0.9818|\n",
            "|          was|                    O|    0.9739|\n",
            "|   prescribed|                    O|    0.8993|\n",
            "|            1|             B-Dosage|    0.9827|\n",
            "|      capsule|             I-Dosage|     0.268|\n",
            "|           of|                    O|    0.8908|\n",
            "|        Advil|     B-Drug_BrandName|    0.9617|\n",
            "|          for|           B-Duration|    0.9878|\n",
            "|            5|           I-Duration|    0.9064|\n",
            "|         days|           I-Duration|    0.9584|\n",
            "|            .|                    O|    0.9941|\n",
            "|           He|             B-Gender|       1.0|\n",
            "|          was|                    O|      0.99|\n",
            "|         seen|                    O|    0.9609|\n",
            "|           by|                    O|    0.9767|\n",
            "|          the|                    O|     0.869|\n",
            "|endocrinology|      B-Clinical_Dept|    0.9359|\n",
            "|      service|      I-Clinical_Dept|    0.9697|\n",
            "|          and|                    O|    0.9991|\n",
            "|          she|             B-Gender|    0.9999|\n",
            "|          was|                    O|    0.9967|\n",
            "|   discharged|B-Admission_Discharge|    0.9998|\n",
            "|           on|                    O|    0.9939|\n",
            "|           40|             B-Dosage|    0.5969|\n",
            "|        units|             I-Dosage|    0.9681|\n",
            "|           of|                    O|    0.9858|\n",
            "|      insulin|    B-Drug_Ingredient|    0.8014|\n",
            "|     glargine|    I-Drug_Ingredient|    0.6417|\n",
            "|           at|          B-Frequency|    0.8661|\n",
            "|        night|          I-Frequency|    0.9527|\n",
            "|            ,|                    O|    0.9995|\n",
            "|           12|             B-Dosage|    0.8691|\n",
            "|        units|             I-Dosage|    0.9785|\n",
            "|           of|                    O|    0.9865|\n",
            "|      insulin|    B-Drug_Ingredient|    0.9325|\n",
            "|       lispro|    I-Drug_Ingredient|    0.7208|\n",
            "|         with|          B-Frequency|    0.9328|\n",
            "|        meals|          I-Frequency|    0.9268|\n",
            "|            ,|                    O|    0.9995|\n",
            "|    metformin|    B-Drug_Ingredient|    0.9903|\n",
            "|         1000|           B-Strength|    0.9914|\n",
            "|           mg|           I-Strength|     0.984|\n",
            "|          two|          B-Frequency|    0.9487|\n",
            "|        times|          I-Frequency|    0.9306|\n",
            "|            a|          I-Frequency|    0.8593|\n",
            "|          day|          I-Frequency|    0.8303|\n",
            "|            .|                    O|     0.997|\n",
            "|           It|                    O|    0.9988|\n",
            "|          was|                    O|     0.986|\n",
            "+-------------+---------------------+----------+\n",
            "only showing top 50 rows\n",
            "\n"
          ]
        }
      ],
      "source": [
        "result_df = result.select(F.explode(F.arrays_zip(result.token.result,result.ner.result, result.ner.metadata)).alias(\"cols\"))\\\n",
        "                  .select(F.expr(\"cols['0']\").alias(\"token\"),\n",
        "                          F.expr(\"cols['1']\").alias(\"ner_label\"),\n",
        "                          F.expr(\"cols['2']['confidence']\").alias(\"confidence\"))\n",
        "\n",
        "result_df.show(50, truncate=100)"
      ]
    },
    {
      "cell_type": "code",
      "execution_count": 8,
      "metadata": {
        "id": "nnT0qi2ZmQ4z",
        "colab": {
          "base_uri": "https://localhost:8080/"
        },
        "outputId": "359b56b1-1d31-446e-d5cd-734520244cbc"
      },
      "outputs": [
        {
          "output_type": "stream",
          "name": "stdout",
          "text": [
            "+--------------+---------------+------------------+------------------+\n",
            "|result        |entity         |DocumentSimilarity|MMRScore          |\n",
            "+--------------+---------------+------------------+------------------+\n",
            "|insulin lispro|Drug_Ingredient|0.4873421379191952|0.4873421379191952|\n",
            "+--------------+---------------+------------------+------------------+\n",
            "\n"
          ]
        }
      ],
      "source": [
        "result.selectExpr(\"explode(key_phrase_chunks) AS key_phrase\").selectExpr(\n",
        "        \"key_phrase.result\",\n",
        "        \"key_phrase.metadata.entity\",\n",
        "        \"key_phrase.metadata.DocumentSimilarity\",\n",
        "        \"key_phrase.metadata.MMRScore\").show(truncate=False)"
      ]
    },
    {
      "cell_type": "markdown",
      "metadata": {
        "id": "di-lYe-z2S4B"
      },
      "source": [
        "### divergence\n",
        "\n",
        "The divergence value determines how different from each the extracted key phrases are. The value must be in the the interval [0, 1]. The higher the value is, the more divergence is enforced. The default value is 0.0."
      ]
    },
    {
      "cell_type": "code",
      "execution_count": 9,
      "metadata": {
        "id": "PJrA6c-y0lwb",
        "colab": {
          "base_uri": "https://localhost:8080/"
        },
        "outputId": "6d0a549c-f6ab-4f08-bf62-125da196faa7"
      },
      "outputs": [
        {
          "output_type": "stream",
          "name": "stdout",
          "text": [
            "sbert_jsl_medium_uncased download started this may take some time.\n",
            "Approximate size to download 146.8 MB\n",
            "[OK!]\n"
          ]
        }
      ],
      "source": [
        "key_phrase_extractor = medical.ChunkKeyPhraseExtraction.pretrained() \\\n",
        "    .setInputCols(\"sentence\", \"ner_chunk\") \\\n",
        "    .setOutputCol(\"key_phrase_chunks\") \\\n",
        "    .setDivergence(0.4)\n",
        "\n",
        "nlpPipeline = nlp.Pipeline(stages=[\n",
        "    documentAssembler,\n",
        "    sentenceDetector,\n",
        "    tokenizer,\n",
        "    word_embeddings,\n",
        "    jsl_ner,\n",
        "    ner_converter,\n",
        "    key_phrase_extractor ])\n",
        "\n",
        "empty_data = spark.createDataFrame([[\"\"]]).toDF(\"text\")\n",
        "\n",
        "chunk_filter_model = nlpPipeline.fit(empty_data)\n",
        "\n",
        "result = chunk_filter_model.transform(filter_df)"
      ]
    },
    {
      "cell_type": "code",
      "execution_count": 10,
      "metadata": {
        "id": "TwssN8VT0ltS",
        "colab": {
          "base_uri": "https://localhost:8080/"
        },
        "outputId": "748ba497-1aa4-4af7-d119-f28619117d16"
      },
      "outputs": [
        {
          "output_type": "stream",
          "name": "stdout",
          "text": [
            "+--------------+-------------------+------------------+--------------------+\n",
            "|result        |entity             |DocumentSimilarity|MMRScore            |\n",
            "+--------------+-------------------+------------------+--------------------+\n",
            "|insulin lispro|Drug_Ingredient    |0.4873421379191952|0.2924052943706591  |\n",
            "|discharged    |Admission_Discharge|0.416718843385142 |0.18774081504282925 |\n",
            "|1000 mg       |Strength           |0.3377889480145588|0.046319304486829194|\n",
            "+--------------+-------------------+------------------+--------------------+\n",
            "\n"
          ]
        }
      ],
      "source": [
        "result.selectExpr(\"explode(key_phrase_chunks) AS key_phrase\").selectExpr(\n",
        "        \"key_phrase.result\",\n",
        "        \"key_phrase.metadata.entity\",\n",
        "        \"key_phrase.metadata.DocumentSimilarity\",\n",
        "        \"key_phrase.metadata.MMRScore\").show(truncate=False)"
      ]
    },
    {
      "cell_type": "markdown",
      "metadata": {
        "id": "gfISPunQ3xVo"
      },
      "source": [
        "### documentLevelProcessing\n",
        "\n",
        "If set to True, the model will extract key phrases from the whole document. If set to False, the model will extract key phrases from each sentence separately. The default value is True."
      ]
    },
    {
      "cell_type": "code",
      "execution_count": 11,
      "metadata": {
        "id": "CC4Vg6s10lqd",
        "colab": {
          "base_uri": "https://localhost:8080/"
        },
        "outputId": "1b1a4c2a-9b4e-4863-f84d-9c31cdb0eeb3"
      },
      "outputs": [
        {
          "output_type": "stream",
          "name": "stdout",
          "text": [
            "sbert_jsl_medium_uncased download started this may take some time.\n",
            "Approximate size to download 146.8 MB\n",
            "[OK!]\n"
          ]
        }
      ],
      "source": [
        "key_phrase_extractor = medical.ChunkKeyPhraseExtraction.pretrained() \\\n",
        "    .setInputCols(\"sentence\", \"ner_chunk\") \\\n",
        "    .setOutputCol(\"key_phrase_chunks\") \\\n",
        "    .setDocumentLevelProcessing(False) \\\n",
        "\n",
        "nlpPipeline = nlp.Pipeline(stages=[\n",
        "    documentAssembler,\n",
        "    sentenceDetector,\n",
        "    tokenizer,\n",
        "    word_embeddings,\n",
        "    jsl_ner,\n",
        "    ner_converter,\n",
        "    key_phrase_extractor ])\n",
        "\n",
        "empty_data = spark.createDataFrame([[\"\"]]).toDF(\"text\")\n",
        "\n",
        "chunk_filter_model = nlpPipeline.fit(empty_data)\n",
        "\n",
        "result = chunk_filter_model.transform(filter_df)"
      ]
    },
    {
      "cell_type": "code",
      "execution_count": 12,
      "metadata": {
        "id": "c3Obrnlv0lnW",
        "colab": {
          "base_uri": "https://localhost:8080/"
        },
        "outputId": "3fd33f6a-f13c-43c1-ed9b-74c3f9b9aa37"
      },
      "outputs": [
        {
          "output_type": "stream",
          "name": "stdout",
          "text": [
            "+----------------+-------------------+-------------------+-------------------+\n",
            "|result          |entity             |DocumentSimilarity |MMRScore           |\n",
            "+----------------+-------------------+-------------------+-------------------+\n",
            "|1 capsule       |Dosage             |0.5559222282402198 |0.5559222282402198 |\n",
            "|for 5 days      |Duration           |0.51812956000978   |0.51812956000978   |\n",
            "|insulin lispro  |Drug_Ingredient    |0.46288566725284874|0.46288566725284874|\n",
            "|Advil           |Drug_BrandName     |0.44433004633805423|0.44433004633805423|\n",
            "|discharged      |Admission_Discharge|0.4426689342759711 |0.4426689342759711 |\n",
            "|insulin glargine|Drug_Ingredient    |0.41479957993703415|0.41479957993703415|\n",
            "|fro 3 months    |Duration           |0.40924149430875195|0.40924149430875195|\n",
            "|SGLT2 inhibitors|Drug_Ingredient    |0.3928558273491294 |0.3928558273491294 |\n",
            "+----------------+-------------------+-------------------+-------------------+\n",
            "\n"
          ]
        }
      ],
      "source": [
        "result.selectExpr(\"explode(key_phrase_chunks) AS key_phrase\").selectExpr(\n",
        "        \"key_phrase.result\",\n",
        "        \"key_phrase.metadata.entity\",\n",
        "        \"key_phrase.metadata.DocumentSimilarity\",\n",
        "        \"key_phrase.metadata.MMRScore\").show(truncate=False)"
      ]
    },
    {
      "cell_type": "markdown",
      "metadata": {
        "id": "L8xGHijS4XTF"
      },
      "source": [
        "### concatenateSentences\n",
        "\n",
        " This parameter is only used if documentLevelProcessing is set to True. If concatenateSentences is set to True, then the model will concatenate the document/sentence input annotations and compute a single embedding. If it is set to False, then the model will compute the embedding of each sentence separately, and average the resulting embedding vectors in the end. Default: True."
      ]
    },
    {
      "cell_type": "code",
      "execution_count": 13,
      "metadata": {
        "id": "O46Jh6rG355S",
        "colab": {
          "base_uri": "https://localhost:8080/"
        },
        "outputId": "b5f54afb-2aa9-4196-847f-6858d0edd771"
      },
      "outputs": [
        {
          "output_type": "stream",
          "name": "stdout",
          "text": [
            "sbert_jsl_medium_uncased download started this may take some time.\n",
            "Approximate size to download 146.8 MB\n",
            "[OK!]\n"
          ]
        }
      ],
      "source": [
        "key_phrase_extractor = medical.ChunkKeyPhraseExtraction.pretrained() \\\n",
        "    .setInputCols(\"sentence\", \"ner_chunk\") \\\n",
        "    .setOutputCol(\"key_phrase_chunks\") \\\n",
        "    .setDocumentLevelProcessing(True) \\\n",
        "    .setConcatenateSentences(False)\\\n",
        "\n",
        "nlpPipeline = nlp.Pipeline(stages=[\n",
        "    documentAssembler,\n",
        "    sentenceDetector,\n",
        "    tokenizer,\n",
        "    word_embeddings,\n",
        "    jsl_ner,\n",
        "    ner_converter,\n",
        "    key_phrase_extractor ])\n",
        "\n",
        "empty_data = spark.createDataFrame([[\"\"]]).toDF(\"text\")\n",
        "\n",
        "chunk_filter_model = nlpPipeline.fit(empty_data)\n",
        "\n",
        "result = chunk_filter_model.transform(filter_df)"
      ]
    },
    {
      "cell_type": "code",
      "execution_count": 14,
      "metadata": {
        "id": "UYHSoyJ53_qY",
        "colab": {
          "base_uri": "https://localhost:8080/"
        },
        "outputId": "4a3a62a7-9e31-478b-94eb-6d8cb17f4653"
      },
      "outputs": [
        {
          "output_type": "stream",
          "name": "stdout",
          "text": [
            "+--------------+---------------+------------------+------------------+\n",
            "|result        |entity         |DocumentSimilarity|MMRScore          |\n",
            "+--------------+---------------+------------------+------------------+\n",
            "|1 capsule     |Dosage         |0.3192493587576557|0.3192493587576557|\n",
            "|for 5 days    |Duration       |0.2975460320830571|0.2975460320830571|\n",
            "|insulin lispro|Drug_Ingredient|0.2893682687100746|0.2893682687100746|\n",
            "+--------------+---------------+------------------+------------------+\n",
            "\n"
          ]
        }
      ],
      "source": [
        "result.selectExpr(\"explode(key_phrase_chunks) AS key_phrase\").selectExpr(\n",
        "        \"key_phrase.result\",\n",
        "        \"key_phrase.metadata.entity\",\n",
        "        \"key_phrase.metadata.DocumentSimilarity\",\n",
        "        \"key_phrase.metadata.MMRScore\").show(truncate=False)"
      ]
    },
    {
      "cell_type": "code",
      "execution_count": 15,
      "metadata": {
        "id": "YbTsy6R64EOP",
        "colab": {
          "base_uri": "https://localhost:8080/"
        },
        "outputId": "1053e366-2af2-4784-8ce6-9a1b6e920f12"
      },
      "outputs": [
        {
          "output_type": "stream",
          "name": "stdout",
          "text": [
            "sbert_jsl_medium_uncased download started this may take some time.\n",
            "Approximate size to download 146.8 MB\n",
            "[OK!]\n"
          ]
        }
      ],
      "source": [
        "key_phrase_extractor = medical.ChunkKeyPhraseExtraction.pretrained() \\\n",
        "    .setInputCols(\"sentence\", \"ner_chunk\") \\\n",
        "    .setOutputCol(\"key_phrase_chunks\") \\\n",
        "    .setDropPunctuation(True) \\\n",
        "\n",
        "\n",
        "nlpPipeline = nlp.Pipeline(stages=[\n",
        "    documentAssembler,\n",
        "    sentenceDetector,\n",
        "    tokenizer,\n",
        "    word_embeddings,\n",
        "    jsl_ner,\n",
        "    ner_converter,\n",
        "    key_phrase_extractor ])\n",
        "\n",
        "empty_data = spark.createDataFrame([[\"\"]]).toDF(\"text\")\n",
        "\n",
        "chunk_filter_model = nlpPipeline.fit(empty_data)\n",
        "\n",
        "result = chunk_filter_model.transform(filter_df)"
      ]
    },
    {
      "cell_type": "code",
      "source": [
        "result.selectExpr(\"explode(key_phrase_chunks) AS key_phrase\").selectExpr(\n",
        "        \"key_phrase.result\",\n",
        "        \"key_phrase.metadata.entity\",\n",
        "        \"key_phrase.metadata.DocumentSimilarity\",\n",
        "        \"key_phrase.metadata.MMRScore\").show(truncate=False)"
      ],
      "metadata": {
        "id": "ojhWQH0nvuwy",
        "colab": {
          "base_uri": "https://localhost:8080/"
        },
        "outputId": "ac1ee5a1-ebb6-44ca-f88a-c2ea6dd74fd1"
      },
      "execution_count": 16,
      "outputs": [
        {
          "output_type": "stream",
          "name": "stdout",
          "text": [
            "+----------------+-------------------+------------------+------------------+\n",
            "|result          |entity             |DocumentSimilarity|MMRScore          |\n",
            "+----------------+-------------------+------------------+------------------+\n",
            "|insulin lispro  |Drug_Ingredient    |0.4873421379191952|0.4873421379191952|\n",
            "|insulin glargine|Drug_Ingredient    |0.4565283676909086|0.4565283676909086|\n",
            "|discharged      |Admission_Discharge|0.416718843385142 |0.416718843385142 |\n",
            "+----------------+-------------------+------------------+------------------+\n",
            "\n"
          ]
        }
      ]
    },
    {
      "cell_type": "code",
      "source": [
        "key_phrase_extractor = medical.ChunkKeyPhraseExtraction.pretrained() \\\n",
        "    .setInputCols(\"sentence\", \"ner_chunk\") \\\n",
        "    .setOutputCol(\"key_phrase_chunks\") \\\n",
        "    .setSelectMostDifferent(True) \\\n",
        "\n",
        "\n",
        "nlpPipeline = nlp.Pipeline(stages=[\n",
        "    documentAssembler,\n",
        "    sentenceDetector,\n",
        "    tokenizer,\n",
        "    word_embeddings,\n",
        "    jsl_ner,\n",
        "    ner_converter,\n",
        "    key_phrase_extractor ])\n",
        "\n",
        "empty_data = spark.createDataFrame([[\"\"]]).toDF(\"text\")\n",
        "\n",
        "chunk_filter_model = nlpPipeline.fit(empty_data)\n",
        "\n",
        "result = chunk_filter_model.transform(filter_df)"
      ],
      "metadata": {
        "id": "4rxyuQWsv-m6",
        "colab": {
          "base_uri": "https://localhost:8080/"
        },
        "outputId": "a12e62f8-abef-4288-fd3b-516532cbbd8d"
      },
      "execution_count": 17,
      "outputs": [
        {
          "output_type": "stream",
          "name": "stdout",
          "text": [
            "sbert_jsl_medium_uncased download started this may take some time.\n",
            "Approximate size to download 146.8 MB\n",
            "[OK!]\n"
          ]
        }
      ]
    },
    {
      "cell_type": "code",
      "source": [
        "result.selectExpr(\"explode(key_phrase_chunks) AS key_phrase\").selectExpr(\n",
        "        \"key_phrase.result\",\n",
        "        \"key_phrase.metadata.entity\",\n",
        "        \"key_phrase.metadata.DocumentSimilarity\",\n",
        "        \"key_phrase.metadata.MMRScore\").show(truncate=False)"
      ],
      "metadata": {
        "id": "AGoIb8U5wNMz",
        "colab": {
          "base_uri": "https://localhost:8080/"
        },
        "outputId": "87919ea8-8b1e-4774-9b0f-9c61dfc59fde"
      },
      "execution_count": 18,
      "outputs": [
        {
          "output_type": "stream",
          "name": "stdout",
          "text": [
            "+----------------+-------------------+------------------+------------------+\n",
            "|result          |entity             |DocumentSimilarity|MMRScore          |\n",
            "+----------------+-------------------+------------------+------------------+\n",
            "|insulin glargine|Drug_Ingredient    |0.4565283676909086|0.4565283676909086|\n",
            "|discharged      |Admission_Discharge|0.416718843385142 |0.416718843385142 |\n",
            "|1000 mg         |Strength           |0.3377889480145588|0.3377889480145588|\n",
            "+----------------+-------------------+------------------+------------------+\n",
            "\n"
          ]
        }
      ]
    }
  ],
  "metadata": {
    "colab": {
      "machine_shape": "hm",
      "provenance": []
    },
    "gpuClass": "standard",
    "kernelspec": {
      "display_name": "Python 3",
      "language": "python",
      "name": "python3"
    },
    "language_info": {
      "codemirror_mode": {
        "name": "ipython",
        "version": 3
      },
      "file_extension": ".py",
      "mimetype": "text/x-python",
      "name": "python",
      "nbconvert_exporter": "python",
      "pygments_lexer": "ipython3",
      "version": "3.7.4"
    }
  },
  "nbformat": 4,
  "nbformat_minor": 0
}
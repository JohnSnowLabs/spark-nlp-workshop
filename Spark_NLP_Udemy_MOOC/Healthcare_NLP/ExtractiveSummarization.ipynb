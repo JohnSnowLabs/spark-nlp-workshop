{
  "nbformat": 4,
  "nbformat_minor": 0,
  "metadata": {
    "colab": {
      "provenance": [],
      "machine_shape": "hm",
      "toc_visible": true
    },
    "kernelspec": {
      "name": "python3",
      "display_name": "Python 3"
    },
    "language_info": {
      "name": "python"
    }
  },
  "cells": [
    {
      "cell_type": "markdown",
      "source": [
        "![JohnSnowLabs](https://nlp.johnsnowlabs.com/assets/images/logo.png)"
      ],
      "metadata": {
        "id": "8V_Ow3cAVEYe"
      }
    },
    {
      "cell_type": "markdown",
      "source": [
        "# **ExtractiveSummarization**"
      ],
      "metadata": {
        "id": "Y0fJRpNJBslT"
      }
    },
    {
      "cell_type": "markdown",
      "source": [
        "This notebook will cover the different parameters and usages of `ExtractiveSummarization`.\n",
        "\n",
        "**📖 Learning Objectives:**\n",
        "\n",
        "1. Background: Understand the 'ExtractiveSummarization' Annotator.\n",
        "\n",
        "2. Colab setup.\n",
        "\n",
        "3. Become comfortable with using the different parameters of the annotator.\n",
        "\n",
        "**🔗 Helpful Links:**\n",
        "\n",
        "- Python Docs : [ExtractiveSummarization](https://nlp.johnsnowlabs.com/licensed/api/python/reference/autosummary/sparknlp_jsl/annotator/embeddings/extractive_summarization/index.html#sparknlp_jsl.annotator.embeddings.extractive_summarization.ExtractiveSummarization)\n",
        "\n",
        "- Scala Docs: [ExtractiveSummarization](https://nlp.johnsnowlabs.com/licensed/api/com/johnsnowlabs/nlp/annotators/embeddings/ExtractiveSummarization.html)\n",
        "\n",
        "- For extended examples of usage, see [Spark NLP Workshop repository](https://github.com/JohnSnowLabs/spark-nlp-workshop/blob/master/tutorials/Certification_Trainings/Healthcare/32.Medical_Text_Summarization.ipynb).\n"
      ],
      "metadata": {
        "id": "qeclGJmrVLjX"
      }
    },
    {
      "cell_type": "markdown",
      "source": [
        "## **📜 Background**"
      ],
      "metadata": {
        "id": "OV0hPSCWXslc"
      }
    },
    {
      "cell_type": "markdown",
      "source": [
        "**Extractive summarization** is a technique used in Natural Language Processing (NLP) that aims to generate a concise summary by extracting the most important information from a given text. Unlike ***abstractive summarization***, which involves generating new sentences to capture the essence of the content, ***extractive summarization*** directly selects and concatenates existing sentences or phrases from the original text.\n",
        "\n",
        "Extractive summarization  focuses on extracting the most relevant information rather than generating new content. The process typically includes preprocessing the text, identifying important sentences using various criteria, ranking them based on their importance, and selecting the top-ranked sentences for the final summary. Extractive summarization is favored for its objectivity, preserving the factual accuracy of the original text."
      ],
      "metadata": {
        "id": "_-hGkZ7_cAZE"
      }
    },
    {
      "cell_type": "markdown",
      "source": [
        "## **🎬 Colab Setup**"
      ],
      "metadata": {
        "id": "E8qy2MI2XySv"
      }
    },
    {
      "cell_type": "code",
      "source": [
        "# Install the johnsnowlabs library to access Spark-NLP for Healthcare\n",
        "! pip install -q johnsnowlabs"
      ],
      "metadata": {
        "id": "FSKrdHUrgj4Z"
      },
      "execution_count": null,
      "outputs": []
    },
    {
      "cell_type": "code",
      "source": [
        "from google.colab import files\n",
        "print('Please Upload your John Snow Labs License using the button below')\n",
        "license_keys = files.upload()"
      ],
      "metadata": {
        "id": "yGg_A-o1gj1d"
      },
      "execution_count": null,
      "outputs": []
    },
    {
      "cell_type": "code",
      "source": [
        "from johnsnowlabs import nlp, medical\n",
        "\n",
        "# After uploading your license run this to install all licensed Python Wheels and pre-download Jars the Spark Session JVM\n",
        "nlp.install()"
      ],
      "metadata": {
        "id": "tmxjpGt3gjyh",
        "colab": {
          "base_uri": "https://localhost:8080/"
        },
        "outputId": "d4bde5f9-5278-4948-a717-af9140d20040"
      },
      "execution_count": null,
      "outputs": [
        {
          "output_type": "stream",
          "name": "stdout",
          "text": [
            "👌 Detected license file /content/spark_nlp_for_healthcare_spark_ocr_8744_2.json\n",
            "📋 Stored John Snow Labs License in /root/.johnsnowlabs/licenses/license_number_0_for_Spark-Healthcare_Spark-OCR.json\n",
            "👷 Setting up  John Snow Labs home in /root/.johnsnowlabs, this might take a few minutes.\n",
            "Downloading 🐍+🚀 Python Library spark_nlp-5.2.0-py2.py3-none-any.whl\n",
            "Downloading 🐍+💊 Python Library spark_nlp_jsl-5.2.0-py3-none-any.whl\n",
            "Downloading 🫘+🚀 Java Library spark-nlp-assembly-5.2.0.jar\n",
            "Downloading 🫘+💊 Java Library spark-nlp-jsl-5.2.0.jar\n",
            "🙆 JSL Home setup in /root/.johnsnowlabs\n",
            "👌 Detected license file /content/spark_nlp_for_healthcare_spark_ocr_8744_2.json\n",
            "Installing /root/.johnsnowlabs/py_installs/spark_nlp_jsl-5.2.0-py3-none-any.whl to /usr/bin/python3\n",
            "Installed 1 products:\n",
            "💊 Spark-Healthcare==5.2.0 installed! ✅ Heal the planet with NLP! \n"
          ]
        }
      ]
    },
    {
      "cell_type": "code",
      "source": [
        "from johnsnowlabs import nlp, medical\n",
        "import pandas as pd\n",
        "from pyspark.sql import SparkSession\n",
        "from sparknlp.annotator import *\n",
        "from sparknlp_jsl.annotator import *\n",
        "from sparknlp.base import *\n",
        "import sparknlp_jsl\n",
        "import sparknlp\n",
        "import pandas as pd\n",
        "\n",
        "# Automatically load license data and start a session with all jars user has access to\n",
        "spark = nlp.start()"
      ],
      "metadata": {
        "id": "_j7CbXgBgmoP",
        "colab": {
          "base_uri": "https://localhost:8080/"
        },
        "outputId": "9ac1e193-adfc-44bd-bfe7-0fcb88c8d437"
      },
      "execution_count": null,
      "outputs": [
        {
          "output_type": "stream",
          "name": "stdout",
          "text": [
            "👌 Detected license file /content/spark_nlp_for_healthcare_spark_ocr_8744_2.json\n",
            "👌 Launched \u001b[92mcpu optimized\u001b[39m session with with: 🚀Spark-NLP==5.2.0, 💊Spark-Healthcare==5.2.0, running on ⚡ PySpark==3.1.2\n"
          ]
        }
      ]
    },
    {
      "cell_type": "markdown",
      "source": [
        "## **🖨️ Input/Output Annotation Types**\n",
        "\n"
      ],
      "metadata": {
        "id": "f_4conOIYj6D"
      }
    },
    {
      "cell_type": "markdown",
      "source": [
        "- Input:  ``DOCUMENT``  \n",
        "- Output:  ``CHUNK``  "
      ],
      "metadata": {
        "id": "0Fc_3iRwYk8N"
      }
    },
    {
      "cell_type": "markdown",
      "source": [
        "## **🔎 Parameters**"
      ],
      "metadata": {
        "id": "IO7xgW6Znobb"
      }
    },
    {
      "cell_type": "markdown",
      "source": [
        "`'summarySize'` : 'Number of sentences to summarize the text. Default is 1.\n",
        "\n",
        "`'returnSingleDocument'`: Compile the selected sentences into a single document.\n",
        "\n",
        "`'similarityThreshold'` : Minimal cosine similarity between sentences to consider them similar. Default is 0 which means no threshold is used.\n",
        "\n"
      ],
      "metadata": {
        "id": "2Vv-dsM2njQT"
      }
    },
    {
      "cell_type": "markdown",
      "source": [
        "# ✍  Explaining `ExtractiveSummarization` with an Example"
      ],
      "metadata": {
        "id": "g9zdtP-D5spx"
      }
    },
    {
      "cell_type": "markdown",
      "source": [
        "## **💻Pipeline**"
      ],
      "metadata": {
        "id": "8YTlvwh9zVhp"
      }
    },
    {
      "cell_type": "code",
      "source": [
        "documenter = nlp.DocumentAssembler() \\\n",
        "    .setInputCol(\"text\")\\\n",
        "    .setOutputCol(\"documents\")\n",
        "\n",
        "sentence_detector = nlp.SentenceDetectorDLModel() \\\n",
        "    .pretrained()\\\n",
        "    .setInputCols(\"documents\") \\\n",
        "    .setOutputCol(\"sentences\")\n",
        "\n",
        "sentence_embeddings = nlp.BertSentenceEmbeddings()\\\n",
        "    .pretrained(\"sent_small_bert_L2_128\")\\\n",
        "    .setInputCols([\"sentences\"])\\\n",
        "    .setOutputCol(\"sentence_embeddings\")\n",
        "\n",
        "summarizer = medical.ExtractiveSummarization()\\\n",
        "    .setInputCols([\"sentences\", \"sentence_embeddings\"])\\\n",
        "    .setOutputCol(\"summaries\")\n",
        "\n",
        "pipeline = nlp.Pipeline(\n",
        "    stages=[\n",
        "        documenter,\n",
        "        sentence_detector,\n",
        "        sentence_embeddings,\n",
        "        summarizer\n",
        "])\n",
        "\n",
        "model = pipeline.fit(spark.createDataFrame([[\"\"]]).toDF(\"text\"))"
      ],
      "metadata": {
        "id": "wqf0kGgU2NMk",
        "colab": {
          "base_uri": "https://localhost:8080/"
        },
        "outputId": "ab75d9ea-35ec-4f5d-a0f2-86d0fd78087b"
      },
      "execution_count": null,
      "outputs": [
        {
          "output_type": "stream",
          "name": "stdout",
          "text": [
            "sentence_detector_dl download started this may take some time.\n",
            "Approximate size to download 354.6 KB\n",
            "[OK!]\n",
            "sent_small_bert_L2_128 download started this may take some time.\n",
            "Approximate size to download 16.1 MB\n",
            "[OK!]\n"
          ]
        }
      ]
    },
    {
      "cell_type": "code",
      "source": [
        "text =\"\"\"Olivia Smith was seen in my office for evaluation for elective surgical weight loss on October 6, 2008. Olivia Smith is a 34-year-old female with a BMI of 43.\n",
        "She is 5'6\" tall and weighs 267 pounds. She is motivated to attempt surgical weight loss because she has been overweight for over 20 years and wants to have more energy and improve her self-image.\n",
        "She is not only affected physically, but also socially by her weight. When she loses weight she always regains it and she always gains back more weight than she has lost. At one time, she lost 100 pounds and gained the weight back within a year.\n",
        "She has tried numerous commercial weight loss programs including Weight Watcher's for four months in 1992 with 15-pound weight loss, RS for two months in 1990 with six-pound weight loss, Slim Fast for six weeks in 2004 with eight-pound weight loss, an exercise program for two months in 2007 with a five-pound weight loss, Atkin's Diet for three months in 2008 with a ten-pound weight loss, and Dexatrim for one month in 2005 with a five-pound weight loss.\n",
        "She has also tried numerous fat reduction or fad diets. She was on Redux for nine months with a 100-pound weight loss.\n",
        "PAST MEDICAL HISTORY: She has a history of hypertension and shortness of breath.\n",
        "PAST SURGICAL HISTORY: Pertinent for cholecystectomy.\n",
        "PSYCHOLOGICAL HISTORY: Negative.\n",
        "SOCIAL HISTORY: She is single. She drinks alcohol once a week. She does not smoke.\n",
        "FAMILY HISTORY: Pertinent for obesity and hypertension.\n",
        "MEDICATIONS: Include Topamax 100 mg twice daily, Zoloft 100 mg twice daily, Abilify 5 mg daily, Motrin 800 mg daily, and a multivitamin.\n",
        "ALLERGIES: She has no known drug allergies.\n",
        "REVIEW OF SYSTEMS: Negative.\n",
        "PHYSICAL EXAM: This is a pleasant female in no acute distress. Alert and oriented x 3. HEENT: Normocephalic, atraumatic. Extraocular muscles intact, nonicteric sclerae. Chest is clear to auscultation bilaterally. Cardiovascular is normal sinus rhythm. Abdomen is obese, soft, nontender and nondistended. Extremities show no edema, clubbing or cyanosis.\\n\\nASSESSMENT/PLAN: This is a 34-year-old female with a BMI of 43 who is interested in surgical weight via the gastric bypass as opposed to Lap-Band. Olivia Smith will be asking for a letter of medical necessity from Dr. Andrew Johnson. She will also see my nutritionist and social worker and have an upper endoscopy. Once this is completed, we will submit her to her insurance company for approval.\n",
        "\"\"\""
      ],
      "metadata": {
        "id": "mSYemw6zRpXD"
      },
      "execution_count": null,
      "outputs": []
    },
    {
      "cell_type": "code",
      "source": [
        "summarizer._params"
      ],
      "metadata": {
        "id": "AEMYSLSxQyfz",
        "colab": {
          "base_uri": "https://localhost:8080/"
        },
        "outputId": "6241196a-9c5f-498b-d455-5c459d35e513"
      },
      "execution_count": null,
      "outputs": [
        {
          "output_type": "execute_result",
          "data": {
            "text/plain": [
              "[Param(parent='ExtractiveSummarization_1c8d96d0cef1', name='inputCols', doc='previous annotations columns, if renamed'),\n",
              " Param(parent='ExtractiveSummarization_1c8d96d0cef1', name='lazyAnnotator', doc='Whether this AnnotatorModel acts as lazy in RecursivePipelines'),\n",
              " Param(parent='ExtractiveSummarization_1c8d96d0cef1', name='outputCol', doc='output annotation column. can be left default.'),\n",
              " Param(parent='ExtractiveSummarization_1c8d96d0cef1', name='returnSingleDocument', doc='Compile the selected sentences into a single document.'),\n",
              " Param(parent='ExtractiveSummarization_1c8d96d0cef1', name='similarityThreshold', doc='Minimal cosine similarity between sentences to consider them similar. Default is 0 whichmeans no threhsold is used (i.e. a continuous vversion of LexRank is applied)'),\n",
              " Param(parent='ExtractiveSummarization_1c8d96d0cef1', name='summarySize', doc='Number of sentences to summarize the text. Default is 1.')]"
            ]
          },
          "metadata": {},
          "execution_count": 7
        }
      ]
    },
    {
      "cell_type": "markdown",
      "source": [
        "## ▶ `summarySize`\n",
        "\n",
        "Number of sentences to summarize the text. Default is 1."
      ],
      "metadata": {
        "id": "OTcKV01dRTGH"
      }
    },
    {
      "cell_type": "code",
      "source": [
        "print(\"■ SENTENCE ■: \", format(text),\"\\n\")\n",
        "\n",
        "for summarySize in [1,2,5]:\n",
        "  summarizer = medical.ExtractiveSummarization()\\\n",
        "    .setInputCols([\"sentences\", \"sentence_embeddings\"])\\\n",
        "    .setOutputCol(\"summaries\")\\\n",
        "    .setSummarySize(summarySize)\n",
        "\n",
        "  pipeline = nlp.Pipeline(stages=[documenter, sentence_detector, sentence_embeddings, summarizer])\n",
        "  model = pipeline.fit(spark.createDataFrame([[\"\"]]).toDF(\"text\"))\n",
        "  light_model = LightPipeline(model)\n",
        "  light_result = light_model.annotate(text)\n",
        "\n",
        "  for i in range(len(light_result['summaries'])):\n",
        "      print(\"■\"*120)\n",
        "      print(\"■ SUMMARY ■: \",f'.summarySize = {summarySize}', format(light_result['summaries'][i]),\"\\n\\n\")\n"
      ],
      "metadata": {
        "id": "zW17Ye2Z2Nep",
        "colab": {
          "base_uri": "https://localhost:8080/"
        },
        "outputId": "dee957ca-e42a-4851-a876-c56aad99a86d"
      },
      "execution_count": null,
      "outputs": [
        {
          "output_type": "stream",
          "name": "stdout",
          "text": [
            "■ SENTENCE ■:  Olivia Smith was seen in my office for evaluation for elective surgical weight loss on October 6, 2008. Olivia Smith is a 34-year-old female with a BMI of 43.\n",
            "She is 5'6\" tall and weighs 267 pounds. She is motivated to attempt surgical weight loss because she has been overweight for over 20 years and wants to have more energy and improve her self-image.\n",
            "She is not only affected physically, but also socially by her weight. When she loses weight she always regains it and she always gains back more weight than she has lost. At one time, she lost 100 pounds and gained the weight back within a year.\n",
            "She has tried numerous commercial weight loss programs including Weight Watcher's for four months in 1992 with 15-pound weight loss, RS for two months in 1990 with six-pound weight loss, Slim Fast for six weeks in 2004 with eight-pound weight loss, an exercise program for two months in 2007 with a five-pound weight loss, Atkin's Diet for three months in 2008 with a ten-pound weight loss, and Dexatrim for one month in 2005 with a five-pound weight loss.\n",
            "She has also tried numerous fat reduction or fad diets. She was on Redux for nine months with a 100-pound weight loss.\n",
            "PAST MEDICAL HISTORY: She has a history of hypertension and shortness of breath.\n",
            "PAST SURGICAL HISTORY: Pertinent for cholecystectomy.\n",
            "PSYCHOLOGICAL HISTORY: Negative.\n",
            "SOCIAL HISTORY: She is single. She drinks alcohol once a week. She does not smoke.\n",
            "FAMILY HISTORY: Pertinent for obesity and hypertension.\n",
            "MEDICATIONS: Include Topamax 100 mg twice daily, Zoloft 100 mg twice daily, Abilify 5 mg daily, Motrin 800 mg daily, and a multivitamin.\n",
            "ALLERGIES: She has no known drug allergies.\n",
            "REVIEW OF SYSTEMS: Negative.\n",
            "PHYSICAL EXAM: This is a pleasant female in no acute distress. Alert and oriented x 3. HEENT: Normocephalic, atraumatic. Extraocular muscles intact, nonicteric sclerae. Chest is clear to auscultation bilaterally. Cardiovascular is normal sinus rhythm. Abdomen is obese, soft, nontender and nondistended. Extremities show no edema, clubbing or cyanosis.\n",
            "\n",
            "ASSESSMENT/PLAN: This is a 34-year-old female with a BMI of 43 who is interested in surgical weight via the gastric bypass as opposed to Lap-Band. Olivia Smith will be asking for a letter of medical necessity from Dr. Andrew Johnson. She will also see my nutritionist and social worker and have an upper endoscopy. Once this is completed, we will submit her to her insurance company for approval.\n",
            " \n",
            "\n",
            "■■■■■■■■■■■■■■■■■■■■■■■■■■■■■■■■■■■■■■■■■■■■■■■■■■■■■■■■■■■■■■■■■■■■■■■■■■■■■■■■■■■■■■■■■■■■■■■■■■■■■■■■■■■■■■■■■■■■■■■■\n",
            "■ SUMMARY ■:  .summarySize = 1 She will also see my nutritionist and social worker and have an upper endoscopy. \n",
            "\n",
            "\n",
            "■■■■■■■■■■■■■■■■■■■■■■■■■■■■■■■■■■■■■■■■■■■■■■■■■■■■■■■■■■■■■■■■■■■■■■■■■■■■■■■■■■■■■■■■■■■■■■■■■■■■■■■■■■■■■■■■■■■■■■■■\n",
            "■ SUMMARY ■:  .summarySize = 2 She was on Redux for nine months with a 100-pound weight loss. She will also see my nutritionist and social worker and have an upper endoscopy. \n",
            "\n",
            "\n",
            "■■■■■■■■■■■■■■■■■■■■■■■■■■■■■■■■■■■■■■■■■■■■■■■■■■■■■■■■■■■■■■■■■■■■■■■■■■■■■■■■■■■■■■■■■■■■■■■■■■■■■■■■■■■■■■■■■■■■■■■■\n",
            "■ SUMMARY ■:  .summarySize = 5 She is motivated to attempt surgical weight loss because she has been overweight for over 20 years and wants to have more energy and improve her self-image. She has also tried numerous fat reduction or fad diets. She was on Redux for nine months with a 100-pound weight loss. This is a 34-year-old female with a BMI of 43 who is interested in surgical weight via the gastric bypass as opposed to Lap-Band. She will also see my nutritionist and social worker and have an upper endoscopy. \n",
            "\n",
            "\n"
          ]
        }
      ]
    },
    {
      "cell_type": "markdown",
      "source": [
        "## ▶ `returnSingleDocument`\n",
        "\n",
        "Compile the selected sentences into a single document."
      ],
      "metadata": {
        "id": "cNFTlHhZVCq-"
      }
    },
    {
      "cell_type": "code",
      "source": [
        "print(\"■ SENTENCE ■: \", format(text),\"\\n\")\n",
        "\n",
        "for returnSingleDocument in [True,False]:\n",
        "  print(\"■\"*120)\n",
        "  print(\"■ returnSingleDocument = \", returnSingleDocument)\n",
        "\n",
        "  summarizer = medical.ExtractiveSummarization()\\\n",
        "    .setInputCols([\"sentences\", \"sentence_embeddings\"])\\\n",
        "    .setOutputCol(\"summaries\")\\\n",
        "    .setSummarySize(5)\\\n",
        "    .setReturnSingleDocument(returnSingleDocument)\n",
        "\n",
        "  pipeline = nlp.Pipeline(stages=[documenter, sentence_detector, sentence_embeddings, summarizer])\n",
        "\n",
        "  model = pipeline.fit(spark.createDataFrame([[\"\"]]).toDF(\"text\"))\n",
        "\n",
        "  light_model = LightPipeline(model)\n",
        "  light_result = light_model.annotate(text)\n",
        "\n",
        "  for i in range(len(light_result['summaries'])):\n",
        "      print(\"-\"*120)\n",
        "      print(i+1,\" ■ SUMMARY ■: \", format(light_result['summaries'][i]),\"\\n\\n\")\n"
      ],
      "metadata": {
        "colab": {
          "base_uri": "https://localhost:8080/"
        },
        "outputId": "d9f7874c-cb6f-4976-b86f-37ef71835c50",
        "id": "EOnhx819VCrE"
      },
      "execution_count": null,
      "outputs": [
        {
          "output_type": "stream",
          "name": "stdout",
          "text": [
            "■ SENTENCE ■:  Olivia Smith was seen in my office for evaluation for elective surgical weight loss on October 6, 2008. Olivia Smith is a 34-year-old female with a BMI of 43.\n",
            "She is 5'6\" tall and weighs 267 pounds. She is motivated to attempt surgical weight loss because she has been overweight for over 20 years and wants to have more energy and improve her self-image.\n",
            "She is not only affected physically, but also socially by her weight. When she loses weight she always regains it and she always gains back more weight than she has lost. At one time, she lost 100 pounds and gained the weight back within a year.\n",
            "She has tried numerous commercial weight loss programs including Weight Watcher's for four months in 1992 with 15-pound weight loss, RS for two months in 1990 with six-pound weight loss, Slim Fast for six weeks in 2004 with eight-pound weight loss, an exercise program for two months in 2007 with a five-pound weight loss, Atkin's Diet for three months in 2008 with a ten-pound weight loss, and Dexatrim for one month in 2005 with a five-pound weight loss.\n",
            "She has also tried numerous fat reduction or fad diets. She was on Redux for nine months with a 100-pound weight loss.\n",
            "PAST MEDICAL HISTORY: She has a history of hypertension and shortness of breath.\n",
            "PAST SURGICAL HISTORY: Pertinent for cholecystectomy.\n",
            "PSYCHOLOGICAL HISTORY: Negative.\n",
            "SOCIAL HISTORY: She is single. She drinks alcohol once a week. She does not smoke.\n",
            "FAMILY HISTORY: Pertinent for obesity and hypertension.\n",
            "MEDICATIONS: Include Topamax 100 mg twice daily, Zoloft 100 mg twice daily, Abilify 5 mg daily, Motrin 800 mg daily, and a multivitamin.\n",
            "ALLERGIES: She has no known drug allergies.\n",
            "REVIEW OF SYSTEMS: Negative.\n",
            "PHYSICAL EXAM: This is a pleasant female in no acute distress. Alert and oriented x 3. HEENT: Normocephalic, atraumatic. Extraocular muscles intact, nonicteric sclerae. Chest is clear to auscultation bilaterally. Cardiovascular is normal sinus rhythm. Abdomen is obese, soft, nontender and nondistended. Extremities show no edema, clubbing or cyanosis.\n",
            "\n",
            "ASSESSMENT/PLAN: This is a 34-year-old female with a BMI of 43 who is interested in surgical weight via the gastric bypass as opposed to Lap-Band. Olivia Smith will be asking for a letter of medical necessity from Dr. Andrew Johnson. She will also see my nutritionist and social worker and have an upper endoscopy. Once this is completed, we will submit her to her insurance company for approval.\n",
            " \n",
            "\n",
            "■■■■■■■■■■■■■■■■■■■■■■■■■■■■■■■■■■■■■■■■■■■■■■■■■■■■■■■■■■■■■■■■■■■■■■■■■■■■■■■■■■■■■■■■■■■■■■■■■■■■■■■■■■■■■■■■■■■■■■■■\n",
            "■ returnSingleDocument =  True\n",
            "------------------------------------------------------------------------------------------------------------------------\n",
            "1  ■ SUMMARY ■:  She is motivated to attempt surgical weight loss because she has been overweight for over 20 years and wants to have more energy and improve her self-image. She has also tried numerous fat reduction or fad diets. She was on Redux for nine months with a 100-pound weight loss. This is a 34-year-old female with a BMI of 43 who is interested in surgical weight via the gastric bypass as opposed to Lap-Band. She will also see my nutritionist and social worker and have an upper endoscopy. \n",
            "\n",
            "\n",
            "■■■■■■■■■■■■■■■■■■■■■■■■■■■■■■■■■■■■■■■■■■■■■■■■■■■■■■■■■■■■■■■■■■■■■■■■■■■■■■■■■■■■■■■■■■■■■■■■■■■■■■■■■■■■■■■■■■■■■■■■\n",
            "■ returnSingleDocument =  False\n",
            "------------------------------------------------------------------------------------------------------------------------\n",
            "1  ■ SUMMARY ■:  She is motivated to attempt surgical weight loss because she has been overweight for over 20 years and wants to have more energy and improve her self-image. \n",
            "\n",
            "\n",
            "------------------------------------------------------------------------------------------------------------------------\n",
            "2  ■ SUMMARY ■:  She has also tried numerous fat reduction or fad diets. \n",
            "\n",
            "\n",
            "------------------------------------------------------------------------------------------------------------------------\n",
            "3  ■ SUMMARY ■:  She was on Redux for nine months with a 100-pound weight loss. \n",
            "\n",
            "\n",
            "------------------------------------------------------------------------------------------------------------------------\n",
            "4  ■ SUMMARY ■:  This is a 34-year-old female with a BMI of 43 who is interested in surgical weight via the gastric bypass as opposed to Lap-Band. \n",
            "\n",
            "\n",
            "------------------------------------------------------------------------------------------------------------------------\n",
            "5  ■ SUMMARY ■:  She will also see my nutritionist and social worker and have an upper endoscopy. \n",
            "\n",
            "\n"
          ]
        }
      ]
    },
    {
      "cell_type": "markdown",
      "source": [
        ".setReturnSingleDocument = True --> five sentences returned as **`one`** document\n",
        "\n",
        ".setReturnSingleDocument = False --> five sentences returned as **`five`** document\n"
      ],
      "metadata": {
        "id": "pr5TM0FyWV6F"
      }
    },
    {
      "cell_type": "markdown",
      "source": [
        "## ▶ `similarityThreshold`\n",
        "\n",
        "Minimal cosine similarity between sentences to consider them similar.\n",
        "\n",
        "Default is 0, which means no threshold is used (i.e. a continuous version of LexRank is applied)."
      ],
      "metadata": {
        "id": "mchtBg2OTynC"
      }
    },
    {
      "cell_type": "code",
      "source": [
        "print(\"■ SENTENCE ■: \", format(text),\"\\n\")\n",
        "\n",
        "for similarityThreshold in [0, .5,  1]:\n",
        "  print(\"■\"*120)\n",
        "  print(\"■ similarityThreshold = \", similarityThreshold)\n",
        "\n",
        "  summarizer = medical.ExtractiveSummarization()\\\n",
        "    .setInputCols([\"sentences\", \"sentence_embeddings\"])\\\n",
        "    .setOutputCol(\"summaries\")\\\n",
        "    .setSummarySize(5)\\\n",
        "    .setReturnSingleDocument(True)\\\n",
        "    .setSimilarityThreshold(similarityThreshold)\n",
        "\n",
        "  pipeline = nlp.Pipeline(stages=[documenter, sentence_detector, sentence_embeddings, summarizer])\n",
        "  model = pipeline.fit(spark.createDataFrame([[\"\"]]).toDF(\"text\"))\n",
        "  light_model = LightPipeline(model)\n",
        "  light_result = light_model.annotate(text)\n",
        "\n",
        "  for i in range(len(light_result['summaries'])):\n",
        "      print(\"-\"*120)\n",
        "      print(\"■ SUMMARY ■: \",f'.similarityThreshold = {similarityThreshold}', format(light_result['summaries'][i]),\"\\n\\n\")\n"
      ],
      "metadata": {
        "colab": {
          "base_uri": "https://localhost:8080/"
        },
        "outputId": "38562622-8fc6-48b6-a65a-5905d818ba2b",
        "id": "T2NDHTAPTynJ"
      },
      "execution_count": null,
      "outputs": [
        {
          "output_type": "stream",
          "name": "stdout",
          "text": [
            "■ SENTENCE ■:  Olivia Smith was seen in my office for evaluation for elective surgical weight loss on October 6, 2008. Olivia Smith is a 34-year-old female with a BMI of 43.\n",
            "She is 5'6\" tall and weighs 267 pounds. She is motivated to attempt surgical weight loss because she has been overweight for over 20 years and wants to have more energy and improve her self-image.\n",
            "She is not only affected physically, but also socially by her weight. When she loses weight she always regains it and she always gains back more weight than she has lost. At one time, she lost 100 pounds and gained the weight back within a year.\n",
            "She has tried numerous commercial weight loss programs including Weight Watcher's for four months in 1992 with 15-pound weight loss, RS for two months in 1990 with six-pound weight loss, Slim Fast for six weeks in 2004 with eight-pound weight loss, an exercise program for two months in 2007 with a five-pound weight loss, Atkin's Diet for three months in 2008 with a ten-pound weight loss, and Dexatrim for one month in 2005 with a five-pound weight loss.\n",
            "She has also tried numerous fat reduction or fad diets. She was on Redux for nine months with a 100-pound weight loss.\n",
            "PAST MEDICAL HISTORY: She has a history of hypertension and shortness of breath.\n",
            "PAST SURGICAL HISTORY: Pertinent for cholecystectomy.\n",
            "PSYCHOLOGICAL HISTORY: Negative.\n",
            "SOCIAL HISTORY: She is single. She drinks alcohol once a week. She does not smoke.\n",
            "FAMILY HISTORY: Pertinent for obesity and hypertension.\n",
            "MEDICATIONS: Include Topamax 100 mg twice daily, Zoloft 100 mg twice daily, Abilify 5 mg daily, Motrin 800 mg daily, and a multivitamin.\n",
            "ALLERGIES: She has no known drug allergies.\n",
            "REVIEW OF SYSTEMS: Negative.\n",
            "PHYSICAL EXAM: This is a pleasant female in no acute distress. Alert and oriented x 3. HEENT: Normocephalic, atraumatic. Extraocular muscles intact, nonicteric sclerae. Chest is clear to auscultation bilaterally. Cardiovascular is normal sinus rhythm. Abdomen is obese, soft, nontender and nondistended. Extremities show no edema, clubbing or cyanosis.\n",
            "\n",
            "ASSESSMENT/PLAN: This is a 34-year-old female with a BMI of 43 who is interested in surgical weight via the gastric bypass as opposed to Lap-Band. Olivia Smith will be asking for a letter of medical necessity from Dr. Andrew Johnson. She will also see my nutritionist and social worker and have an upper endoscopy. Once this is completed, we will submit her to her insurance company for approval.\n",
            " \n",
            "\n",
            "■■■■■■■■■■■■■■■■■■■■■■■■■■■■■■■■■■■■■■■■■■■■■■■■■■■■■■■■■■■■■■■■■■■■■■■■■■■■■■■■■■■■■■■■■■■■■■■■■■■■■■■■■■■■■■■■■■■■■■■■\n",
            "■ similarityThreshold =  0\n",
            "------------------------------------------------------------------------------------------------------------------------\n",
            "■ SUMMARY ■:  .similarityThreshold = 0 She is motivated to attempt surgical weight loss because she has been overweight for over 20 years and wants to have more energy and improve her self-image. She has also tried numerous fat reduction or fad diets. She was on Redux for nine months with a 100-pound weight loss. This is a 34-year-old female with a BMI of 43 who is interested in surgical weight via the gastric bypass as opposed to Lap-Band. She will also see my nutritionist and social worker and have an upper endoscopy. \n",
            "\n",
            "\n",
            "■■■■■■■■■■■■■■■■■■■■■■■■■■■■■■■■■■■■■■■■■■■■■■■■■■■■■■■■■■■■■■■■■■■■■■■■■■■■■■■■■■■■■■■■■■■■■■■■■■■■■■■■■■■■■■■■■■■■■■■■\n",
            "■ similarityThreshold =  0.5\n",
            "------------------------------------------------------------------------------------------------------------------------\n",
            "■ SUMMARY ■:  .similarityThreshold = 0.5 Abdomen is obese, soft, nontender and nondistended. This is a 34-year-old female with a BMI of 43 who is interested in surgical weight via the gastric bypass as opposed to Lap-Band. Olivia Smith will be asking for a letter of medical necessity from Dr. Andrew Johnson. She will also see my nutritionist and social worker and have an upper endoscopy.  Once this is completed, we will submit her to her insurance company for approval.\n",
            " \n",
            "\n",
            "\n",
            "■■■■■■■■■■■■■■■■■■■■■■■■■■■■■■■■■■■■■■■■■■■■■■■■■■■■■■■■■■■■■■■■■■■■■■■■■■■■■■■■■■■■■■■■■■■■■■■■■■■■■■■■■■■■■■■■■■■■■■■■\n",
            "■ similarityThreshold =  1\n",
            "------------------------------------------------------------------------------------------------------------------------\n",
            "■ SUMMARY ■:  .similarityThreshold = 1 ASSESSMENT/PLAN: This is a 34-year-old female with a BMI of 43 who is interested in surgical weight via the gastric bypass as opposed to Lap-Band. Olivia Smith will be asking for a letter of medical necessity from Dr. Andrew Johnson. She will also see my nutritionist and social worker and have an upper endoscopy.  Once this is completed, we will submit her to her insurance company for approval.\n",
            " \n",
            "\n",
            "\n"
          ]
        }
      ]
    },
    {
      "cell_type": "code",
      "source": [],
      "metadata": {
        "id": "0RLRtZOKiu5-"
      },
      "execution_count": null,
      "outputs": []
    }
  ]
}
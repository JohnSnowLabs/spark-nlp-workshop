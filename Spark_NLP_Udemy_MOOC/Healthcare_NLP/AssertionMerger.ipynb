{
  "cells": [
    {
      "cell_type": "markdown",
      "metadata": {
        "id": "sXatvRX899i0"
      },
      "source": [
        "![JohnSnowLabs](https://nlp.johnsnowlabs.com/assets/images/logo.png)"
      ]
    },
    {
      "cell_type": "markdown",
      "metadata": {
        "id": "Yz7wkpBa2_Sk"
      },
      "source": [
        "[![Open In Colab](https://colab.research.google.com/assets/colab-badge.svg)](https://colab.research.google.com/github/JohnSnowLabs/spark-nlp-workshop/blob/master/Spark_NLP_Udemy_MOOC/Healthcare_NLP/AssertionMerger.ipynb)"
      ]
    },
    {
      "cell_type": "markdown",
      "source": [
        "# **AssertionMerger**"
      ],
      "metadata": {
        "id": "b5ZdWzTu_Rvv"
      }
    },
    {
      "cell_type": "markdown",
      "metadata": {
        "id": "AOn8d1tcBkK3"
      },
      "source": [
        "\n",
        "This notebook will cover the usage of `AssertionMerger`. This annotator provides the ability to merge the same type of columns coming from two or more same annotators.\n",
        "\n",
        "**📖 Learning Objectives:**\n",
        "\n",
        "- Merging two or more same type annotation results in a spark nlp pipeline\n",
        "\n",
        "**🔗 Helpful Links:**\n",
        "\n",
        "- Documentation : [AssertionMerger](https://nlp.johnsnowlabs.com/docs/en/licensed_annotators#assertionmerger)  \n",
        "- Python Docs : [AssertionMerger](https://nlp.johnsnowlabs.com/licensed/api/python/reference/autosummary/sparknlp_jsl/annotator/assertion/assertion_merger/index.html)  \n",
        "- Scala Docs : [AssertionMerger](https://nlp.johnsnowlabs.com/licensed/api/com/johnsnowlabs/nlp/annotators/assertion/merger/AssertionMerger.html)  \n",
        "\n",
        "\n",
        "\n",
        "\n",
        "## ⚙️ Parameters\n",
        "\n",
        "- **mergeOverlapping (Bool)**: Whether to merge overlapping matched assertions.  \n",
        "- **applyFilterBeforeMerge (Bool)**: Whether to apply filtering before merging.  \n",
        "- **assertionsConfidence (dict[str, float])**: Pairs `(assertion, confidenceThreshold)` to filter assertions which have confidence lower than the confidence threshold.  \n",
        "- **orderingFeatures (list[str])**: Specifies the ordering features to use for overlapping entities. Possible values include: `begin`, `end`, `length`, `source`, `confidence`. Default: `[‘begin’, ‘length’, ‘source’]`  \n",
        "- **selectionStrategy (str)**: Determines the strategy for selecting annotations. Options: `Sequential`, `DiverseLonger`. Default: `Sequential`.  \n",
        "- **defaultConfidence (float)**: Confidence value to use when not available. Default: `0`.  \n",
        "- **assertionSourcePrecedence (str)**: Comma-separated list of assertion sources for prioritizing overlapping annotations when using `source`.  \n",
        "- **sortByBegin (Bool)**: Whether to sort annotations by `begin` at the end of merge/filter process. Default: `False`.  \n",
        "- **blackList (list[str])**: Entities to ignore.  \n",
        "- **whiteList (list[str])**: Entities to process (others ignored). Do not include IOB prefix.  \n",
        "- **caseSensitive (Bool)**: Case sensitivity for black/white list. Default: `True`.  \n",
        "- **majorityVoting (Bool)**: Whether to use majority voting to resolve conflicts. Default: `False`.  \n"
      ]
    },
    {
      "cell_type": "markdown",
      "source": [
        "## **📜 Background**\n",
        "\n",
        "- `AssertionMerger` merges variety assertion columns coming from Assertion annotators such as **AssertionDL** and **AssertionLogReg**.\n",
        "\n",
        "- It can filter, prioritize, and merge assertion annotations by using proper parameters."
      ],
      "metadata": {
        "id": "r2YAU1dILwmD"
      }
    },
    {
      "cell_type": "markdown",
      "metadata": {
        "id": "MfkkKkbVF309"
      },
      "source": [
        "## **🎬 Colab Setup**"
      ]
    },
    {
      "cell_type": "code",
      "execution_count": null,
      "metadata": {
        "id": "iMkMQtZNF2n-"
      },
      "outputs": [],
      "source": [
        "!pip install -q johnsnowlabs"
      ]
    },
    {
      "cell_type": "code",
      "execution_count": null,
      "metadata": {
        "id": "zbUfCKmmiVCG"
      },
      "outputs": [],
      "source": [
        "from google.colab import files\n",
        "print('Please Upload your John Snow Labs License using the button below')\n",
        "license_keys = files.upload()"
      ]
    },
    {
      "cell_type": "code",
      "execution_count": null,
      "metadata": {
        "id": "NulWi4_f4GN5"
      },
      "outputs": [],
      "source": [
        "from johnsnowlabs import nlp, medical\n",
        "\n",
        "nlp.install()"
      ]
    },
    {
      "cell_type": "code",
      "execution_count": 5,
      "metadata": {
        "id": "2GLXxe1Q0Iln",
        "colab": {
          "base_uri": "https://localhost:8080/",
          "height": 258
        },
        "outputId": "4bf54d1e-5ae1-434f-aa19-8ead3dad32de"
      },
      "outputs": [
        {
          "output_type": "stream",
          "name": "stdout",
          "text": [
            "👌 Detected license file /content/spark_nlp_for_healthcare_spark_ocr_10445.json\n",
            "👌 Launched \u001b[92mcpu optimized\u001b[39m session with with: 🚀Spark-NLP==6.1.3, 💊Spark-Healthcare==6.1.1, running on ⚡ PySpark==3.4.0\n"
          ]
        },
        {
          "output_type": "execute_result",
          "data": {
            "text/plain": [
              "<pyspark.sql.session.SparkSession at 0x7e526eb3ce30>"
            ],
            "text/html": [
              "\n",
              "            <div>\n",
              "                <p><b>SparkSession - in-memory</b></p>\n",
              "                \n",
              "        <div>\n",
              "            <p><b>SparkContext</b></p>\n",
              "\n",
              "            <p><a href=\"http://7a0c2b361093:4040\">Spark UI</a></p>\n",
              "\n",
              "            <dl>\n",
              "              <dt>Version</dt>\n",
              "                <dd><code>v3.4.0</code></dd>\n",
              "              <dt>Master</dt>\n",
              "                <dd><code>local[*]</code></dd>\n",
              "              <dt>AppName</dt>\n",
              "                <dd><code>John-Snow-Labs-Spark-Session 🚀 with Jars for: 🚀Spark-NLP==6.1.3, 💊Spark-Healthcare==6.1.1, running on ⚡ PySpark==3.4.0</code></dd>\n",
              "            </dl>\n",
              "        </div>\n",
              "        \n",
              "            </div>\n",
              "        "
            ]
          },
          "metadata": {},
          "execution_count": 5
        }
      ],
      "source": [
        "import pyspark.sql.functions as F\n",
        "import pandas as pd\n",
        "\n",
        "spark = nlp.start()\n",
        "spark"
      ]
    },
    {
      "cell_type": "markdown",
      "metadata": {
        "id": "wpDIqv0CVUwe"
      },
      "source": [
        "# Build a Assertion Pipeline"
      ]
    },
    {
      "cell_type": "markdown",
      "source": [
        "### Helper Function"
      ],
      "metadata": {
        "id": "z4D2PNjQB_oj"
      }
    },
    {
      "cell_type": "code",
      "source": [
        "from pyspark.sql import functions as F\n",
        "\n",
        "def extract_assertions(results_df):\n",
        "    \"\"\"\n",
        "    Explodes assertion_merger arrays and returns a flattened DataFrame with useful fields.\n",
        "\n",
        "    Parameters\n",
        "    ----------\n",
        "    results_df : pyspark.sql.DataFrame\n",
        "        DataFrame containing 'assertion_merger' column.\n",
        "\n",
        "    Returns\n",
        "    -------\n",
        "    pyspark.sql.DataFrame\n",
        "        Flattened DataFrame with columns:\n",
        "        idx, ner_chunk, begin, end, ner_label, assertion,\n",
        "        assertion_source, confidence\n",
        "    \"\"\"\n",
        "    return (\n",
        "        results_df.select(\"idx\",F.explode(F.arrays_zip(results.assertion_merger.metadata,\n",
        "                                            results.assertion_merger.begin,\n",
        "                                            results.assertion_merger.end,\n",
        "                                            results.assertion_merger.result)).alias(\"cols\")) \\\n",
        "        .select(\"idx\",F.expr(\"cols['0']['ner_chunk']\").alias(\"ner_chunk\"),\n",
        "                F.expr(\"cols['1']\").alias(\"begin\"),\n",
        "                F.expr(\"cols['2']\").alias(\"end\"),\n",
        "                F.expr(\"cols['0']['ner_label']\").alias(\"ner_label\"),\n",
        "                F.expr(\"cols['3']\").alias(\"assertion\"),\n",
        "                F.expr(\"cols['0']['assertion_source']\").alias(\"assertion_source\"),\n",
        "                F.expr(\"cols['0']['confidence']\").alias(\"confidence\"),\n",
        "                ).sort(\"idx\",\"begin\").show(truncate=False)\n",
        "    )"
      ],
      "metadata": {
        "id": "0jwWKY6pCDKL"
      },
      "execution_count": 6,
      "outputs": []
    },
    {
      "cell_type": "markdown",
      "source": [
        "## Assertion Pipeline"
      ],
      "metadata": {
        "id": "d1Qlc0DFb1Ya"
      }
    },
    {
      "cell_type": "code",
      "execution_count": 7,
      "metadata": {
        "id": "KULX2FzUVcJf",
        "colab": {
          "base_uri": "https://localhost:8080/"
        },
        "outputId": "0a16bd2e-a78a-41b2-eea8-850281103ac5"
      },
      "outputs": [
        {
          "output_type": "stream",
          "name": "stdout",
          "text": [
            "embeddings_clinical download started this may take some time.\n",
            "Approximate size to download 1.6 GB\n",
            "[OK!]\n",
            "ner_jsl download started this may take some time.\n",
            "Approximate size to download 14.5 MB\n",
            "[OK!]\n",
            "assertion_jsl_augmented download started this may take some time.\n",
            "Approximate size to download 6.2 MB\n",
            "[OK!]\n",
            "ner_clinical download started this may take some time.\n",
            "Approximate size to download 13.9 MB\n",
            "[OK!]\n",
            "assertion_bert_classification_jsl download started this may take some time.\n",
            "Approximate size to download 387.4 MB\n",
            "[OK!]\n",
            "contextual_assertion_past download started this may take some time.\n",
            "Approximate size to download 1.5 KB\n",
            "[OK!]\n"
          ]
        }
      ],
      "source": [
        "from pyspark.sql.types import StringType\n",
        "\n",
        "document_assembler = nlp.DocumentAssembler()\\\n",
        "    .setInputCol(\"text\")\\\n",
        "    .setOutputCol(\"document\")\n",
        "\n",
        "sentence_detector = nlp.SentenceDetector()\\\n",
        "    .setInputCols([\"document\"])\\\n",
        "    .setOutputCol(\"sentence\")\n",
        "\n",
        "tokenizer = nlp.Tokenizer()\\\n",
        "    .setInputCols([\"sentence\"])\\\n",
        "    .setOutputCol(\"token\")\n",
        "\n",
        "word_embeddings = nlp.WordEmbeddingsModel.pretrained(\"embeddings_clinical\", \"en\", \"clinical/models\")\\\n",
        "    .setInputCols([\"sentence\", \"token\"])\\\n",
        "    .setOutputCol(\"embeddings\")\n",
        "\n",
        "ner_jsl = medical.NerModel.pretrained(\"ner_jsl\", \"en\", \"clinical/models\") \\\n",
        "    .setInputCols([\"sentence\", \"token\", \"embeddings\"]) \\\n",
        "    .setOutputCol(\"ner_jsl\")\\\n",
        "\n",
        "ner_jsl_converter = medical.NerConverterInternal() \\\n",
        "    .setInputCols([\"sentence\", \"token\", \"ner_jsl\"]) \\\n",
        "    .setOutputCol(\"ner_jsl_chunk\")\\\n",
        "    .setWhiteList([\"SYMPTOM\",\"VS_FINDING\",\"DISEASE_SYNDROME_DISORDER\",\"ADMISSION_DISCHARGE\",\"PROCEDURE\"])\n",
        "\n",
        "assertion_jsl = medical.AssertionDLModel.pretrained(\"assertion_jsl_augmented\", \"en\", \"clinical/models\") \\\n",
        "    .setInputCols([\"sentence\", \"ner_jsl_chunk\", \"embeddings\"]) \\\n",
        "    .setOutputCol(\"assertion_jsl\")\\\n",
        "    .setEntityAssertionCaseSensitive(False)\n",
        "\n",
        "ner_clinical = medical.NerModel.pretrained(\"ner_clinical\", \"en\", \"clinical/models\") \\\n",
        "    .setInputCols([\"sentence\", \"token\", \"embeddings\"]) \\\n",
        "    .setOutputCol(\"ner_clinical\")\\\n",
        "\n",
        "ner_clinical_converter = medical.NerConverterInternal() \\\n",
        "    .setInputCols([\"sentence\", \"token\", \"ner_clinical\"]) \\\n",
        "    .setOutputCol(\"ner_clinical_chunk\")\\\n",
        "    .setWhiteList([\"PROBLEM\"])\n",
        "\n",
        "assertion_classifier = medical.BertForAssertionClassification.pretrained(\"assertion_bert_classification_jsl\", \"en\", \"clinical/models\")\\\n",
        "    .setInputCols([\"sentence\", \"ner_clinical_chunk\"])\\\n",
        "    .setOutputCol(\"assertion_class\")\\\n",
        "\n",
        "contextual_assertion = medical.ContextualAssertion.pretrained(\"contextual_assertion_past\",\"en\",\"clinical/models\")\\\n",
        "    .setInputCols(\"sentence\", \"token\", \"ner_clinical_chunk\") \\\n",
        "    .setOutputCol(\"assertion_past\") \\\n",
        "\n",
        "assertion_merger = medical.AssertionMerger() \\\n",
        "    .setInputCols(\"assertion_jsl\", \"assertion_class\", \"assertion_past\") \\\n",
        "    .setOutputCol(\"assertion_merger\") \\\n",
        "    .setMergeOverlapping(True) \\\n",
        "    .setSelectionStrategy(\"sequential\") \\\n",
        "    .setCaseSensitive(False) \\\n",
        "    .setOrderingFeatures([\"source\", \"confidence\", \"begin\"]) \\\n",
        "    .setDefaultConfidence(0.50)\\\n",
        "\n",
        "pipeline = nlp.Pipeline( stages =[document_assembler,\n",
        "                              sentence_detector,\n",
        "                              tokenizer,\n",
        "                              word_embeddings,\n",
        "                              ner_jsl,\n",
        "                              ner_jsl_converter,\n",
        "                              assertion_jsl,\n",
        "                              ner_clinical,\n",
        "                              ner_clinical_converter,\n",
        "                              assertion_classifier,\n",
        "                              contextual_assertion,\n",
        "                              assertion_merger])\n"
      ]
    },
    {
      "cell_type": "code",
      "source": [
        "text =  \"\"\"Patient had a headache for the last 2 weeks, and appears anxious when she walks fast. No alopecia noted. She denies pain. Her father is paralyzed and it is a stressor for her. She got antidepressant. We prescribed sleeping pills for her current insomnia.\"\"\"\n",
        "\n",
        "data = spark.createDataFrame([text], StringType()).toDF(\"text\")\n",
        "\n",
        "data = data.coalesce(1).withColumn(\"idx\", F.monotonically_increasing_id())\n",
        "\n",
        "results = pipeline.fit(data).transform(data)"
      ],
      "metadata": {
        "id": "gW-78TFwCZqE"
      },
      "execution_count": 8,
      "outputs": []
    },
    {
      "cell_type": "code",
      "source": [
        "extract_assertions(results)"
      ],
      "metadata": {
        "colab": {
          "base_uri": "https://localhost:8080/"
        },
        "id": "3Ei_h1K63SNU",
        "outputId": "9192d33d-19bf-45c7-93df-328e9101f148"
      },
      "execution_count": 9,
      "outputs": [
        {
          "output_type": "stream",
          "name": "stdout",
          "text": [
            "+---+--------------------+-----+---+---------+---------+----------------+----------+\n",
            "|idx|ner_chunk           |begin|end|ner_label|assertion|assertion_source|confidence|\n",
            "+---+--------------------+-----+---+---------+---------+----------------+----------+\n",
            "|0  |headache            |14   |21 |Symptom  |Past     |assertion_jsl   |0.9999    |\n",
            "|0  |anxious             |57   |63 |Symptom  |Possible |assertion_jsl   |1.0       |\n",
            "|0  |alopecia            |89   |96 |Symptom  |Absent   |assertion_jsl   |1.0       |\n",
            "|0  |pain                |116  |119|Symptom  |Absent   |assertion_jsl   |1.0       |\n",
            "|0  |paralyzed           |136  |144|Symptom  |Family   |assertion_jsl   |0.9995    |\n",
            "|0  |stressor            |158  |165|Symptom  |Family   |assertion_jsl   |1.0       |\n",
            "|0  |her current insomnia|233  |252|PROBLEM  |Present  |assertion_class |0.9993082 |\n",
            "+---+--------------------+-----+---+---------+---------+----------------+----------+\n",
            "\n"
          ]
        }
      ]
    },
    {
      "cell_type": "markdown",
      "source": [
        "## setMergeOverlapping(False)"
      ],
      "metadata": {
        "id": "2ZkY307wES72"
      }
    },
    {
      "cell_type": "code",
      "source": [
        "assertion_merger = medical.AssertionMerger() \\\n",
        "    .setInputCols(\"assertion_jsl\", \"assertion_class\", \"assertion_past\") \\\n",
        "    .setOutputCol(\"assertion_merger\") \\\n",
        "    .setMergeOverlapping(False) \\\n",
        "    .setSelectionStrategy(\"sequential\") \\\n",
        "    .setCaseSensitive(False) \\\n",
        "    .setOrderingFeatures([\"source\", \"confidence\", \"begin\"])  \\\n",
        "\n",
        "pipeline = nlp.Pipeline( stages =[document_assembler,\n",
        "                              sentence_detector,\n",
        "                              tokenizer,\n",
        "                              word_embeddings,\n",
        "                              ner_jsl,\n",
        "                              ner_jsl_converter,\n",
        "                              assertion_jsl,\n",
        "                              ner_clinical,\n",
        "                              ner_clinical_converter,\n",
        "                              assertion_classifier,\n",
        "                              contextual_assertion,\n",
        "                              assertion_merger])"
      ],
      "metadata": {
        "id": "6ufVxktLESQe"
      },
      "execution_count": 10,
      "outputs": []
    },
    {
      "cell_type": "code",
      "source": [
        "data = data.coalesce(1).withColumn(\"idx\", F.monotonically_increasing_id())\n",
        "results = pipeline.fit(data).transform(data)"
      ],
      "metadata": {
        "id": "Q1jVySwfEddO"
      },
      "execution_count": 11,
      "outputs": []
    },
    {
      "cell_type": "code",
      "source": [
        "extract_assertions(results)"
      ],
      "metadata": {
        "colab": {
          "base_uri": "https://localhost:8080/"
        },
        "id": "ae7UvpWlEdfT",
        "outputId": "703df3ee-031c-468c-fb41-b75d5d5943d5"
      },
      "execution_count": 12,
      "outputs": [
        {
          "output_type": "stream",
          "name": "stdout",
          "text": [
            "+---+--------------------+-----+---+---------+---------+----------------+----------+\n",
            "|idx|ner_chunk           |begin|end|ner_label|assertion|assertion_source|confidence|\n",
            "+---+--------------------+-----+---+---------+---------+----------------+----------+\n",
            "|0  |a headache          |12   |21 |PROBLEM  |Present  |assertion_class |0.99922687|\n",
            "|0  |a headache          |12   |21 |PROBLEM  |Past     |assertion_past  |0.8025    |\n",
            "|0  |headache            |14   |21 |Symptom  |Past     |assertion_jsl   |0.9999    |\n",
            "|0  |anxious             |57   |63 |Symptom  |Possible |assertion_jsl   |1.0       |\n",
            "|0  |anxious             |57   |63 |PROBLEM  |Possible |assertion_class |0.9912843 |\n",
            "|0  |anxious             |57   |63 |PROBLEM  |Past     |assertion_past  |0.3465    |\n",
            "|0  |alopecia            |89   |96 |Symptom  |Absent   |assertion_jsl   |1.0       |\n",
            "|0  |alopecia            |89   |96 |PROBLEM  |Absent   |assertion_class |0.9978027 |\n",
            "|0  |alopecia            |89   |96 |PROBLEM  |Past     |assertion_past  |0.0       |\n",
            "|0  |pain                |116  |119|Symptom  |Absent   |assertion_jsl   |1.0       |\n",
            "|0  |pain                |116  |119|PROBLEM  |Absent   |assertion_class |0.99867624|\n",
            "|0  |paralyzed           |136  |144|Symptom  |Family   |assertion_jsl   |0.9995    |\n",
            "|0  |stressor            |158  |165|Symptom  |Family   |assertion_jsl   |1.0       |\n",
            "|0  |her current insomnia|233  |252|PROBLEM  |Present  |assertion_class |0.9993082 |\n",
            "|0  |insomnia            |245  |252|Symptom  |Past     |assertion_jsl   |0.9862    |\n",
            "+---+--------------------+-----+---+---------+---------+----------------+----------+\n",
            "\n"
          ]
        }
      ]
    },
    {
      "cell_type": "markdown",
      "source": [
        "By setting MergeOverlapping to False, the output includes all entities identified by all assertion models.\n",
        "\n"
      ],
      "metadata": {
        "id": "V74nmAAiGOK6"
      }
    },
    {
      "cell_type": "markdown",
      "source": [
        "## setAssertionSourcePrecedence()\n",
        "\n",
        "We can give priority to whichever model we want to get the results from first."
      ],
      "metadata": {
        "id": "I0HeTUETCQPC"
      }
    },
    {
      "cell_type": "code",
      "source": [
        "assertion_merger = medical.AssertionMerger() \\\n",
        "    .setInputCols(\"assertion_jsl\", \"assertion_class\", \"assertion_past\") \\\n",
        "    .setOutputCol(\"assertion_merger\") \\\n",
        "    .setMergeOverlapping(True) \\\n",
        "    .setSelectionStrategy(\"sequential\") \\\n",
        "    .setCaseSensitive(False) \\\n",
        "    .setAssertionSourcePrecedence(\"assertion_class, assertion_jsl, assertion_past\") \\\n",
        "    .setOrderingFeatures([\"source\", \"confidence\", \"begin\"])\\\n",
        "\n",
        "pipeline = nlp.Pipeline( stages =[document_assembler,\n",
        "                              sentence_detector,\n",
        "                              tokenizer,\n",
        "                              word_embeddings,\n",
        "                              ner_jsl,\n",
        "                              ner_jsl_converter,\n",
        "                              assertion_jsl,\n",
        "                              ner_clinical,\n",
        "                              ner_clinical_converter,\n",
        "                              assertion_classifier,\n",
        "                              contextual_assertion,\n",
        "                              assertion_merger])"
      ],
      "metadata": {
        "id": "1PzgFbtdcxZy"
      },
      "execution_count": 13,
      "outputs": []
    },
    {
      "cell_type": "code",
      "source": [
        "data = data.coalesce(1).withColumn(\"idx\", F.monotonically_increasing_id())\n",
        "results = pipeline.fit(data).transform(data)"
      ],
      "metadata": {
        "id": "6vPFh5bRdZG2"
      },
      "execution_count": 14,
      "outputs": []
    },
    {
      "cell_type": "code",
      "source": [
        "extract_assertions(results)"
      ],
      "metadata": {
        "colab": {
          "base_uri": "https://localhost:8080/"
        },
        "id": "al40F3yDdZJC",
        "outputId": "7afe0bcc-935b-45b0-9fe5-a6cbf332dec8"
      },
      "execution_count": 15,
      "outputs": [
        {
          "output_type": "stream",
          "name": "stdout",
          "text": [
            "+---+--------------------+-----+---+---------+---------+----------------+----------+\n",
            "|idx|ner_chunk           |begin|end|ner_label|assertion|assertion_source|confidence|\n",
            "+---+--------------------+-----+---+---------+---------+----------------+----------+\n",
            "|0  |a headache          |12   |21 |PROBLEM  |Present  |assertion_class |0.99922687|\n",
            "|0  |anxious             |57   |63 |PROBLEM  |Possible |assertion_class |0.9912843 |\n",
            "|0  |alopecia            |89   |96 |PROBLEM  |Absent   |assertion_class |0.9978027 |\n",
            "|0  |pain                |116  |119|PROBLEM  |Absent   |assertion_class |0.99867624|\n",
            "|0  |paralyzed           |136  |144|Symptom  |Family   |assertion_jsl   |0.9995    |\n",
            "|0  |stressor            |158  |165|Symptom  |Family   |assertion_jsl   |1.0       |\n",
            "|0  |her current insomnia|233  |252|PROBLEM  |Present  |assertion_class |0.9993082 |\n",
            "+---+--------------------+-----+---+---------+---------+----------------+----------+\n",
            "\n"
          ]
        }
      ]
    },
    {
      "cell_type": "markdown",
      "source": [
        "## setWhiteList()"
      ],
      "metadata": {
        "id": "nO62nPzcA9wX"
      }
    },
    {
      "cell_type": "code",
      "source": [
        "assertion_merger = medical.AssertionMerger() \\\n",
        "    .setInputCols(\"assertion_jsl\", \"assertion_class\", \"assertion_past\") \\\n",
        "    .setOutputCol(\"assertion_merger\") \\\n",
        "    .setMergeOverlapping(True) \\\n",
        "    .setSelectionStrategy(\"sequential\") \\\n",
        "    .setCaseSensitive(False) \\\n",
        "    .setOrderingFeatures([\"source\", \"confidence\", \"begin\"])\\\n",
        "    .setWhiteList([\"Past\", \"Family\"])\n",
        "\n",
        "pipeline = nlp.Pipeline( stages =[document_assembler,\n",
        "                              sentence_detector,\n",
        "                              tokenizer,\n",
        "                              word_embeddings,\n",
        "                              ner_jsl,\n",
        "                              ner_jsl_converter,\n",
        "                              assertion_jsl,\n",
        "                              ner_clinical,\n",
        "                              ner_clinical_converter,\n",
        "                              assertion_classifier,\n",
        "                              contextual_assertion,\n",
        "                              assertion_merger])"
      ],
      "metadata": {
        "id": "5hTe0j1WBD1x"
      },
      "execution_count": 16,
      "outputs": []
    },
    {
      "cell_type": "code",
      "source": [
        "data = data.coalesce(1).withColumn(\"idx\", F.monotonically_increasing_id())\n",
        "\n",
        "results = pipeline.fit(data).transform(data)"
      ],
      "metadata": {
        "id": "VhhNdCQTBX6b"
      },
      "execution_count": 17,
      "outputs": []
    },
    {
      "cell_type": "code",
      "source": [
        "extract_assertions(results)"
      ],
      "metadata": {
        "colab": {
          "base_uri": "https://localhost:8080/"
        },
        "id": "4arrAZn7BXLo",
        "outputId": "b5f1c132-cad9-49e3-9352-3660abd236f5"
      },
      "execution_count": 18,
      "outputs": [
        {
          "output_type": "stream",
          "name": "stdout",
          "text": [
            "+---+---------+-----+---+---------+---------+----------------+----------+\n",
            "|idx|ner_chunk|begin|end|ner_label|assertion|assertion_source|confidence|\n",
            "+---+---------+-----+---+---------+---------+----------------+----------+\n",
            "|0  |headache |14   |21 |Symptom  |Past     |assertion_jsl   |0.9999    |\n",
            "|0  |paralyzed|136  |144|Symptom  |Family   |assertion_jsl   |0.9995    |\n",
            "|0  |stressor |158  |165|Symptom  |Family   |assertion_jsl   |1.0       |\n",
            "+---+---------+-----+---+---------+---------+----------------+----------+\n",
            "\n"
          ]
        }
      ]
    },
    {
      "cell_type": "markdown",
      "source": [
        "With the `setWhiteList` applied, entities linked to the `Past` and `Family` assertion labels are included in the results, while others are excluded."
      ],
      "metadata": {
        "id": "XoZHpj5vHJDQ"
      }
    },
    {
      "cell_type": "markdown",
      "source": [
        "## setBlackList()"
      ],
      "metadata": {
        "id": "jjhwjX9MBh0H"
      }
    },
    {
      "cell_type": "code",
      "source": [
        "assertion_merger = medical.AssertionMerger() \\\n",
        "    .setInputCols(\"assertion_jsl\", \"assertion_class\", \"assertion_past\") \\\n",
        "    .setOutputCol(\"assertion_merger\") \\\n",
        "    .setMergeOverlapping(True) \\\n",
        "    .setSelectionStrategy(\"sequential\") \\\n",
        "    .setAssertionSourcePrecedence(\"assertion_class, assertion_jsl, assertion_past\") \\\n",
        "    .setCaseSensitive(False) \\\n",
        "    .setOrderingFeatures([\"source\", \"confidence\", \"begin\"])\\\n",
        "    .setBlackList([\"Past\", \"Family\"])\n",
        "\n",
        "pipeline = nlp.Pipeline( stages =[document_assembler,\n",
        "                              sentence_detector,\n",
        "                              tokenizer,\n",
        "                              word_embeddings,\n",
        "                              ner_jsl,\n",
        "                              ner_jsl_converter,\n",
        "                              assertion_jsl,\n",
        "                              ner_clinical,\n",
        "                              ner_clinical_converter,\n",
        "                              assertion_classifier,\n",
        "                              contextual_assertion,\n",
        "                              assertion_merger])"
      ],
      "metadata": {
        "id": "G1r0XnkTBh0I"
      },
      "execution_count": 19,
      "outputs": []
    },
    {
      "cell_type": "code",
      "source": [
        "data = data.coalesce(1).withColumn(\"idx\", F.monotonically_increasing_id())\n",
        "results = pipeline.fit(data).transform(data)"
      ],
      "metadata": {
        "id": "4aUdlG6OBh0J"
      },
      "execution_count": 20,
      "outputs": []
    },
    {
      "cell_type": "code",
      "source": [
        "extract_assertions(results)"
      ],
      "metadata": {
        "colab": {
          "base_uri": "https://localhost:8080/"
        },
        "outputId": "7c6f468e-689b-4049-e842-17c0923bcb1c",
        "id": "lNu0Y8GgBh0J"
      },
      "execution_count": 21,
      "outputs": [
        {
          "output_type": "stream",
          "name": "stdout",
          "text": [
            "+---+--------------------+-----+---+---------+---------+----------------+----------+\n",
            "|idx|ner_chunk           |begin|end|ner_label|assertion|assertion_source|confidence|\n",
            "+---+--------------------+-----+---+---------+---------+----------------+----------+\n",
            "|0  |a headache          |12   |21 |PROBLEM  |Present  |assertion_class |0.99922687|\n",
            "|0  |anxious             |57   |63 |PROBLEM  |Possible |assertion_class |0.9912843 |\n",
            "|0  |alopecia            |89   |96 |PROBLEM  |Absent   |assertion_class |0.9978027 |\n",
            "|0  |pain                |116  |119|PROBLEM  |Absent   |assertion_class |0.99867624|\n",
            "|0  |her current insomnia|233  |252|PROBLEM  |Present  |assertion_class |0.9993082 |\n",
            "+---+--------------------+-----+---+---------+---------+----------------+----------+\n",
            "\n"
          ]
        }
      ]
    },
    {
      "cell_type": "markdown",
      "source": [
        "\n",
        "As you can see, the `Past` and `Family` assertion label and associated entities are filtered."
      ],
      "metadata": {
        "id": "XA7E0vCmGw8I"
      }
    },
    {
      "cell_type": "markdown",
      "source": [
        "## setAssertionsConfidence()"
      ],
      "metadata": {
        "id": "zRHMbRC6DT7I"
      }
    },
    {
      "cell_type": "code",
      "source": [
        "assertion_merger = medical.AssertionMerger() \\\n",
        "    .setInputCols(\"assertion_jsl\", \"assertion_class\", \"assertion_past\") \\\n",
        "    .setOutputCol(\"assertion_merger\") \\\n",
        "    .setMergeOverlapping(True) \\\n",
        "    .setSelectionStrategy(\"sequential\") \\\n",
        "    .setAssertionSourcePrecedence(\"assertion_class, assertion_jsl, assertion_past\") \\\n",
        "    .setCaseSensitive(False) \\\n",
        "    .setOrderingFeatures([\"source\", \"confidence\", \"begin\"])\\\n",
        "    .setAssertionsConfidence({\"Present\": 0.95}) \\\n",
        "\n",
        "pipeline = nlp.Pipeline( stages =[document_assembler,\n",
        "                              sentence_detector,\n",
        "                              tokenizer,\n",
        "                              word_embeddings,\n",
        "                              ner_jsl,\n",
        "                              ner_jsl_converter,\n",
        "                              assertion_jsl,\n",
        "                              ner_clinical,\n",
        "                              ner_clinical_converter,\n",
        "                              assertion_classifier,\n",
        "                              contextual_assertion,\n",
        "                              assertion_merger])"
      ],
      "metadata": {
        "id": "Z9YkRgqWDt7l"
      },
      "execution_count": 22,
      "outputs": []
    },
    {
      "cell_type": "code",
      "source": [
        "data = data.coalesce(1).withColumn(\"idx\", F.monotonically_increasing_id())\n",
        "results = pipeline.fit(data).transform(data)"
      ],
      "metadata": {
        "id": "jN5hoUMMEFaP"
      },
      "execution_count": null,
      "outputs": []
    },
    {
      "cell_type": "code",
      "source": [
        "extract_assertions(results)"
      ],
      "metadata": {
        "colab": {
          "base_uri": "https://localhost:8080/"
        },
        "id": "dN6fcvO9EFcG",
        "outputId": "03655d82-efb1-4b2e-f65a-d2ab86380e5a"
      },
      "execution_count": 23,
      "outputs": [
        {
          "output_type": "stream",
          "name": "stdout",
          "text": [
            "+---+--------------------+-----+---+---------+---------+----------------+----------+\n",
            "|idx|ner_chunk           |begin|end|ner_label|assertion|assertion_source|confidence|\n",
            "+---+--------------------+-----+---+---------+---------+----------------+----------+\n",
            "|0  |a headache          |12   |21 |PROBLEM  |Present  |assertion_class |0.99922687|\n",
            "|0  |anxious             |57   |63 |PROBLEM  |Possible |assertion_class |0.9912843 |\n",
            "|0  |alopecia            |89   |96 |PROBLEM  |Absent   |assertion_class |0.9978027 |\n",
            "|0  |pain                |116  |119|PROBLEM  |Absent   |assertion_class |0.99867624|\n",
            "|0  |her current insomnia|233  |252|PROBLEM  |Present  |assertion_class |0.9993082 |\n",
            "+---+--------------------+-----+---+---------+---------+----------------+----------+\n",
            "\n"
          ]
        }
      ]
    },
    {
      "cell_type": "markdown",
      "source": [
        "This means that the `Present` label will only be accepted if the model assigns it a confidence score of 0.95 or higher. Predictions with lower confidence will be filtered out."
      ],
      "metadata": {
        "id": "tXIkyW2JeEfU"
      }
    },
    {
      "cell_type": "markdown",
      "source": [
        "## setMajorityVoting()"
      ],
      "metadata": {
        "id": "ggcuNXPL5Vca"
      }
    },
    {
      "cell_type": "markdown",
      "source": [
        "It is used to resolve conflicts when there are more than 2 annotations in the same overlapping group. When confidence is used for ordering features, confidence values sum is used for majority voting."
      ],
      "metadata": {
        "id": "ikjVvHF4Cvrf"
      }
    },
    {
      "cell_type": "code",
      "source": [
        "assertion_merger = medical.AssertionMerger() \\\n",
        "    .setInputCols(\"assertion_jsl\", \"assertion_class\", \"assertion_past\") \\\n",
        "    .setOutputCol(\"assertion_merger\") \\\n",
        "    .setMergeOverlapping(True) \\\n",
        "    .setCaseSensitive(False) \\\n",
        "    .setMajorityVoting(True)\n",
        "\n",
        "pipeline = nlp.Pipeline( stages =[document_assembler,\n",
        "                              sentence_detector,\n",
        "                              tokenizer,\n",
        "                              word_embeddings,\n",
        "                              ner_jsl,\n",
        "                              ner_jsl_converter,\n",
        "                              assertion_jsl,\n",
        "                              ner_clinical,\n",
        "                              ner_clinical_converter,\n",
        "                              assertion_classifier,\n",
        "                              contextual_assertion,\n",
        "                              assertion_merger])"
      ],
      "metadata": {
        "id": "oTzNcKqV5oeB"
      },
      "execution_count": 37,
      "outputs": []
    },
    {
      "cell_type": "code",
      "source": [
        "extract_assertions(results)"
      ],
      "metadata": {
        "colab": {
          "base_uri": "https://localhost:8080/"
        },
        "id": "3j_WqGOiAYdX",
        "outputId": "c25daade-3874-4dbe-db83-2fb4ea4b67d2"
      },
      "execution_count": 38,
      "outputs": [
        {
          "output_type": "stream",
          "name": "stdout",
          "text": [
            "+---+--------------------+-----+---+---------+---------+----------------+----------+\n",
            "|idx|ner_chunk           |begin|end|ner_label|assertion|assertion_source|confidence|\n",
            "+---+--------------------+-----+---+---------+---------+----------------+----------+\n",
            "|0  |a headache          |12   |21 |PROBLEM  |Present  |assertion_class |0.99922687|\n",
            "|0  |anxious             |57   |63 |PROBLEM  |Possible |assertion_class |0.9912843 |\n",
            "|0  |alopecia            |89   |96 |PROBLEM  |Absent   |assertion_class |0.9978027 |\n",
            "|0  |pain                |116  |119|PROBLEM  |Absent   |assertion_class |0.99867624|\n",
            "|0  |her current insomnia|233  |252|PROBLEM  |Present  |assertion_class |0.9993082 |\n",
            "+---+--------------------+-----+---+---------+---------+----------------+----------+\n",
            "\n"
          ]
        }
      ]
    }
  ],
  "metadata": {
    "colab": {
      "machine_shape": "hm",
      "provenance": [],
      "toc_visible": true
    },
    "gpuClass": "standard",
    "kernelspec": {
      "display_name": "Python 3",
      "language": "python",
      "name": "python3"
    },
    "language_info": {
      "codemirror_mode": {
        "name": "ipython",
        "version": 3
      },
      "file_extension": ".py",
      "mimetype": "text/x-python",
      "name": "python",
      "nbconvert_exporter": "python",
      "pygments_lexer": "ipython3",
      "version": "3.7.4"
    }
  },
  "nbformat": 4,
  "nbformat_minor": 0
}
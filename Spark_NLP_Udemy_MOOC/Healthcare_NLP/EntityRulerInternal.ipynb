{
  "nbformat": 4,
  "nbformat_minor": 0,
  "metadata": {
    "colab": {
      "provenance": [],
      "toc_visible": true
    },
    "kernelspec": {
      "name": "python3",
      "display_name": "Python 3"
    },
    "language_info": {
      "name": "python"
    }
  },
  "cells": [
    {
      "cell_type": "markdown",
      "source": [
        "![JohnSnowLabs](https://nlp.johnsnowlabs.com/assets/images/logo.png)"
      ],
      "metadata": {
        "id": "q6PjvJts1YhY"
      }
    },
    {
      "cell_type": "markdown",
      "source": [
        "# EntityRulerInternal\n",
        "\n",
        "This notebook will cover the different parameter and usage of **EntityRulerInternal**. There are 2 annotators to perform this task in Spark NLP; `EntityRulerInternalApproach` and `EntityRulerInternalModel`. <br/>\n",
        "\n",
        "This annotator matches exact strings or regex patterns provided in a file against a Document and assigns them a named entity. The definitions can contain any number of named entities."
      ],
      "metadata": {
        "id": "UkZcGEDW4adm"
      }
    },
    {
      "cell_type": "markdown",
      "source": [
        "**📖 Learning Objectives:**\n",
        "\n",
        "1. Understand how to match exact strings or regex patterns by using pre-defined dictionary.\n",
        "\n",
        "2. Become comfortable using the different parameters of the annotator.\n",
        "\n",
        "**🔗 Helpful Links:**\n",
        "\n",
        "For extended examples of usage, see the [Spark NLP Workshop](https://github.com/JohnSnowLabs/spark-nlp-workshop/blob/master/tutorials/Certification_Trainings/Healthcare/42.TextMatcher.ipynb)\n",
        "\n",
        "Reference Documentation: [EntityRulerInternal](https://nlp.johnsnowlabs.com/docs/en/licensed_annotators#entityrulerinternal)\n"
      ],
      "metadata": {
        "id": "P0YPIJYgK6FA"
      }
    },
    {
      "cell_type": "markdown",
      "source": [
        "## **📜 Background**\n"
      ],
      "metadata": {
        "id": "b9daURuHLy5_"
      }
    },
    {
      "cell_type": "markdown",
      "source": [
        "There are multiple ways and formats to set the extraction resource. It is\n",
        "   possible to set it either as a \"JSON\", \"JSONL\" or \"CSV\" file. A path to the\n",
        "   file needs to be provided to ``setPatternsResource``. The file format needs\n",
        "   to be set as the \"format\" field in the ``option`` parameter map and\n",
        "   depending on the file type, additional parameters might need to be set."
      ],
      "metadata": {
        "id": "T0LGORkHL1m7"
      }
    },
    {
      "cell_type": "markdown",
      "source": [
        "## **🎬 Colab Setup**"
      ],
      "metadata": {
        "id": "gi7eVUQwL5uY"
      }
    },
    {
      "cell_type": "code",
      "source": [
        "import json\n",
        "import os\n",
        "\n",
        "from google.colab import files\n",
        "\n",
        "license_keys = files.upload()\n",
        "\n",
        "with open(list(license_keys.keys())[0]) as f:\n",
        "    license_keys = json.load(f)\n",
        "\n",
        "# Defining license key-value pairs as local variables\n",
        "locals().update(license_keys)\n",
        "\n",
        "# Adding license key-value pairs to environment variables\n",
        "os.environ.update(license_keys)"
      ],
      "metadata": {
        "id": "LX0yW66AFMRi"
      },
      "execution_count": null,
      "outputs": []
    },
    {
      "cell_type": "code",
      "source": [
        "# Installing pyspark and spark-nlp\n",
        "! pip install --upgrade -q pyspark==3.4.1\n",
        "\n",
        "# Installing Spark NLP Healthcare\n",
        "! pip install --upgrade -q spark-nlp-jsl==$JSL_VERSION  --extra-index-url https://pypi.johnsnowlabs.com/$SECRET\n",
        "\n",
        "# Installing Spark NLP Display Library for visualization\n",
        "! pip install -q spark-nlp-display"
      ],
      "metadata": {
        "id": "QmuGKHy_G3ZE"
      },
      "execution_count": null,
      "outputs": []
    },
    {
      "cell_type": "code",
      "source": [
        "import json\n",
        "import os\n",
        "\n",
        "from pyspark.ml import Pipeline, PipelineModel\n",
        "from pyspark.sql import SparkSession\n",
        "\n",
        "import sparknlp\n",
        "import sparknlp_jsl\n",
        "\n",
        "from sparknlp.annotator import *\n",
        "from sparknlp_jsl.annotator import *\n",
        "from sparknlp.base import *\n",
        "from sparknlp.util import *\n",
        "from sparknlp.pretrained import ResourceDownloader\n",
        "from pyspark.sql import functions as F\n",
        "\n",
        "import pandas as pd\n",
        "\n",
        "pd.set_option('display.max_columns', None)\n",
        "pd.set_option('display.expand_frame_repr', False)\n",
        "pd.set_option('max_colwidth', None)\n",
        "\n",
        "import string\n",
        "import numpy as np\n",
        "\n",
        "params = {\"spark.driver.memory\":\"16G\",\n",
        "          \"spark.kryoserializer.buffer.max\":\"2000M\",\n",
        "          \"spark.driver.maxResultSize\":\"2000M\"}\n",
        "\n",
        "spark = sparknlp_jsl.start(secret = license_keys[\"SECRET\"], params=params)\n",
        "\n",
        "print (\"Spark NLP Version :\", sparknlp.version())\n",
        "print (\"Spark NLP_JSL Version :\", sparknlp_jsl.version())\n",
        "\n",
        "spark"
      ],
      "metadata": {
        "colab": {
          "base_uri": "https://localhost:8080/",
          "height": 257
        },
        "id": "uUO6IE2bG3Ny",
        "outputId": "030ef44f-f109-4fe5-c2c9-e631d18fb94b"
      },
      "execution_count": null,
      "outputs": [
        {
          "output_type": "stream",
          "name": "stdout",
          "text": [
            "Spark NLP Version : 5.3.0\n",
            "Spark NLP_JSL Version : 5.3.0\n"
          ]
        },
        {
          "output_type": "execute_result",
          "data": {
            "text/plain": [
              "<pyspark.sql.session.SparkSession at 0x7c45e0e88d30>"
            ],
            "text/html": [
              "\n",
              "            <div>\n",
              "                <p><b>SparkSession - in-memory</b></p>\n",
              "                \n",
              "        <div>\n",
              "            <p><b>SparkContext</b></p>\n",
              "\n",
              "            <p><a href=\"http://f217022f9a87:4040\">Spark UI</a></p>\n",
              "\n",
              "            <dl>\n",
              "              <dt>Version</dt>\n",
              "                <dd><code>v3.4.1</code></dd>\n",
              "              <dt>Master</dt>\n",
              "                <dd><code>local[*]</code></dd>\n",
              "              <dt>AppName</dt>\n",
              "                <dd><code>Spark NLP Licensed</code></dd>\n",
              "            </dl>\n",
              "        </div>\n",
              "        \n",
              "            </div>\n",
              "        "
            ]
          },
          "metadata": {},
          "execution_count": 3
        }
      ]
    },
    {
      "cell_type": "markdown",
      "source": [
        "## **🖨️ Input/Output Annotation Types**\n",
        "- Input: ``DOCUMENT`` , ``TOKEN``    \n",
        "- Output: ``CHUNK``"
      ],
      "metadata": {
        "id": "42ldvpMD4-oM"
      }
    },
    {
      "cell_type": "markdown",
      "source": [
        "## **🔎 Parameters**\n"
      ],
      "metadata": {
        "id": "pKZ66I1D5aMQ"
      }
    },
    {
      "cell_type": "markdown",
      "source": [
        "- `setPatternsResource` *(str)*: Sets Resource in JSON or CSV format to map entities to patterns.\n",
        "        path : str\n",
        "            Path to the resource\n",
        "        read_as : str, optional\n",
        "            How to interpret the resource, by default ReadAs.TEXT\n",
        "        options : dict, optional\n",
        "            Options for parsing the resource, by default {\"format\": \"JSON\"}\n",
        "\n",
        "- `setSentenceMatch` *(Boolean)*:Whether to find match at sentence level. True: sentence level. False: token level.\n",
        "\n",
        "- `setAlphabetResource` *(str)*:  Alphabet Resource (a simple plain text with all language characters)\n",
        "\n",
        "- `setUseStorage` *(Boolean)*:  Sets whether to use RocksDB storage to serialize patterns.\n",
        "\n",
        "\n",
        "\n"
      ],
      "metadata": {
        "id": "N8dYRLbiMj2b"
      }
    },
    {
      "cell_type": "markdown",
      "source": [
        "## `EntityRulerInternalApproach`"
      ],
      "metadata": {
        "id": "YFkNNN3QNI5T"
      }
    },
    {
      "cell_type": "markdown",
      "source": [
        "## Keywords Patterns"
      ],
      "metadata": {
        "id": "RTG7BYFc-8j4"
      }
    },
    {
      "cell_type": "markdown",
      "source": [
        "EntityRulerInternal will handle the chunks output based on the patterns defined, as shown in the example below. We can define an id field to identify entities."
      ],
      "metadata": {
        "id": "oBzPj2C6-rbP"
      }
    },
    {
      "cell_type": "code",
      "source": [
        "import json\n",
        "\n",
        "data = [\n",
        "\n",
        "    {\n",
        "        \"id\": \"drug-words\",\n",
        "        \"label\": \"Drug\",\n",
        "        \"patterns\": [\"paracetamol\", \"aspirin\", \"ibuprofen\", \"lansoprazol\"]\n",
        "    },\n",
        "    {\n",
        "        \"id\": \"disease-words\",\n",
        "        \"label\": \"Disease\",\n",
        "        \"patterns\": [\"heart condition\",\"tonsilitis\",\"GORD\"]\n",
        "    },\n",
        "        {\n",
        "        \"id\": \"symptom-words\",\n",
        "        \"label\": \"Symptom\",\n",
        "        \"patterns\": [\"fever\",\"headache\"]\n",
        "    },\n",
        "\n",
        "]\n",
        "\n",
        "with open(\"entities.json\", \"w\") as f:\n",
        "    json.dump(data, f)"
      ],
      "metadata": {
        "id": "SA_clVXRLGMf"
      },
      "execution_count": null,
      "outputs": []
    },
    {
      "cell_type": "code",
      "source": [
        "documentAssembler = DocumentAssembler()\\\n",
        "    .setInputCol(\"text\")\\\n",
        "    .setOutputCol(\"document\")\n",
        "\n",
        "tokenizer = Tokenizer()\\\n",
        "    .setInputCols([\"document\"])\\\n",
        "    .setOutputCol(\"token\")\n",
        "\n",
        "entityRuler = EntityRulerInternalApproach()\\\n",
        "    .setInputCols([\"document\", \"token\"])\\\n",
        "    .setOutputCol(\"entities\")\\\n",
        "    .setPatternsResource(\"entities.json\")\\\n",
        "    .setCaseSensitive(False)\\\n",
        "\n",
        "pipeline = Pipeline().setStages([\n",
        "    documentAssembler,\n",
        "    tokenizer,\n",
        "    entityRuler\n",
        "])\n",
        "\n",
        "data = spark.createDataFrame([['''John's doctor prescribed aspirin for his heart condition, along with paracetamol for his fever and headache, amoxicillin for his tonsilitis, ibuprofen for his inflammation, and lansoprazole for his GORD on 2023-12-01.''']]).toDF(\"text\")\n",
        "\n",
        "model = pipeline.fit(data)\n",
        "result = model.transform(data)"
      ],
      "metadata": {
        "id": "BAulAfjcE8cJ"
      },
      "execution_count": null,
      "outputs": []
    },
    {
      "cell_type": "markdown",
      "source": [
        "Checking the results:"
      ],
      "metadata": {
        "id": "_v9vQA59Fgv4"
      }
    },
    {
      "cell_type": "code",
      "source": [
        "result.select(F.explode(F.arrays_zip(\n",
        "              result.entities.result,\n",
        "              result.entities.begin,\n",
        "              result.entities.end,\n",
        "              result.entities.metadata,)).alias(\"cols\"))\\\n",
        "      .select(F.expr(\"cols['0']\").alias(\"chunk\"),\n",
        "              F.expr(\"cols['1']\").alias(\"begin\"),\n",
        "              F.expr(\"cols['2']\").alias(\"end\"),\n",
        "              F.expr(\"cols['3']['entity']\").alias('label')).show(truncate=30)"
      ],
      "metadata": {
        "colab": {
          "base_uri": "https://localhost:8080/"
        },
        "id": "guDERBe9ohjO",
        "outputId": "f22b6ab2-75db-4aa6-f40b-7fd483937f08"
      },
      "execution_count": null,
      "outputs": [
        {
          "output_type": "stream",
          "name": "stdout",
          "text": [
            "+---------------+-----+---+-------+\n",
            "|          chunk|begin|end|  label|\n",
            "+---------------+-----+---+-------+\n",
            "|        aspirin|   25| 31|   Drug|\n",
            "|heart condition|   41| 55|Disease|\n",
            "|    paracetamol|   69| 79|   Drug|\n",
            "|          fever|   89| 93|Symptom|\n",
            "|       headache|   99|106|Symptom|\n",
            "|     tonsilitis|  129|138|Disease|\n",
            "|      ibuprofen|  141|149|   Drug|\n",
            "|    lansoprazol|  177|187|   Drug|\n",
            "|           GORD|  198|201|Disease|\n",
            "+---------------+-----+---+-------+\n",
            "\n"
          ]
        }
      ]
    },
    {
      "cell_type": "markdown",
      "source": [
        "For the CSV file we use the following configuration:\n"
      ],
      "metadata": {
        "id": "_mXWgzYn_RML"
      }
    },
    {
      "cell_type": "code",
      "source": [
        "with open('./entities.csv', 'w') as csvfile:\n",
        "    csvfile.write('SYMPTOM|fever\\n')\n",
        "    csvfile.write('SYMPTOM|headache\\n')\n",
        "    csvfile.write('DRUG|paracetamol\\n')\n",
        "    csvfile.write('DRUG|aspirin\\n')\n",
        "    csvfile.write('DRUG|lansoprazol\\n')\n",
        "    csvfile.write('DRUG|ibuprofen\\n')\n",
        "    csvfile.write('DISEASE|tonsilitis\\n')\n",
        "    csvfile.write('DISEASE|GORD\\n')\n",
        "    csvfile.write('DISEASE|heart condition')"
      ],
      "metadata": {
        "id": "SgFjTW4N-2jJ"
      },
      "execution_count": null,
      "outputs": []
    },
    {
      "cell_type": "code",
      "source": [
        "! cat ./entities.csv"
      ],
      "metadata": {
        "colab": {
          "base_uri": "https://localhost:8080/"
        },
        "id": "Sar4pyX2AYUh",
        "outputId": "9099568d-dddc-4a25-e177-d0a6c3b02533"
      },
      "execution_count": null,
      "outputs": [
        {
          "output_type": "stream",
          "name": "stdout",
          "text": [
            "SYMPTOM|fever\n",
            "SYMPTOM|headache\n",
            "DRUG|paracetamol\n",
            "DRUG|aspirin\n",
            "DRUG|lansoprazol\n",
            "DRUG|ibuprofen\n",
            "DISEASE|tonsilitis\n",
            "DISEASE|GORD\n",
            "DISEASE|heart condition"
          ]
        }
      ]
    },
    {
      "cell_type": "code",
      "source": [
        "entity_ruler_csv = EntityRulerInternalApproach() \\\n",
        "    .setInputCols([\"document\", \"token\"])\\\n",
        "    .setOutputCol(\"entities\")\\\n",
        "    .setPatternsResource(\"./entities.csv\", options={\"format\": \"csv\", \"delimiter\": \"\\\\|\"})"
      ],
      "metadata": {
        "id": "W5o0FLuTAb8-"
      },
      "execution_count": null,
      "outputs": []
    },
    {
      "cell_type": "code",
      "source": [
        "pipeline = Pipeline().setStages([\n",
        "    documentAssembler,\n",
        "    tokenizer,\n",
        "    entity_ruler_csv\n",
        "])\n",
        "\n",
        "data = spark.createDataFrame([['''John's doctor prescribed aspirin for his heart condition, along with paracetamol for his fever and headache, amoxicillin for his tonsilitis, ibuprofen for his inflammation, and lansoprazole for his GORD on 2023-12-01.''']]).toDF(\"text\")\n",
        "\n",
        "model = pipeline.fit(data)\n",
        "result = model.transform(data)"
      ],
      "metadata": {
        "id": "MD8ZGM9_Au3I"
      },
      "execution_count": null,
      "outputs": []
    },
    {
      "cell_type": "markdown",
      "source": [
        "Checking the results:"
      ],
      "metadata": {
        "id": "rkTTVSiSFrw7"
      }
    },
    {
      "cell_type": "code",
      "source": [
        "result.select(F.explode(F.arrays_zip(\n",
        "              result.entities.result,\n",
        "              result.entities.begin,\n",
        "              result.entities.end,\n",
        "              result.entities.metadata,)).alias(\"cols\"))\\\n",
        "      .select(F.expr(\"cols['0']\").alias(\"chunk\"),\n",
        "              F.expr(\"cols['1']\").alias(\"begin\"),\n",
        "              F.expr(\"cols['2']\").alias(\"end\"),\n",
        "              F.expr(\"cols['3']['entity']\").alias('label')).show(truncate=30)"
      ],
      "metadata": {
        "colab": {
          "base_uri": "https://localhost:8080/"
        },
        "id": "0gJ5jT6wA2Pc",
        "outputId": "a5204d6a-b908-4abb-bfaf-b07332ea790d"
      },
      "execution_count": null,
      "outputs": [
        {
          "output_type": "stream",
          "name": "stdout",
          "text": [
            "+---------------+-----+---+-------+\n",
            "|          chunk|begin|end|  label|\n",
            "+---------------+-----+---+-------+\n",
            "|        aspirin|   25| 31|   DRUG|\n",
            "|heart condition|   41| 55|DISEASE|\n",
            "|    paracetamol|   69| 79|   DRUG|\n",
            "|          fever|   89| 93|SYMPTOM|\n",
            "|       headache|   99|106|SYMPTOM|\n",
            "|     tonsilitis|  129|138|DISEASE|\n",
            "|      ibuprofen|  141|149|   DRUG|\n",
            "|    lansoprazol|  177|187|   DRUG|\n",
            "|           GORD|  198|201|DISEASE|\n",
            "+---------------+-----+---+-------+\n",
            "\n"
          ]
        }
      ]
    },
    {
      "cell_type": "markdown",
      "source": [
        "## Regex Patterns"
      ],
      "metadata": {
        "id": "kPj_R_b5BXKo"
      }
    },
    {
      "cell_type": "markdown",
      "source": [
        "As shown in the example below we can define regex pattern to detect entities."
      ],
      "metadata": {
        "id": "8ql9ignsGIcc"
      }
    },
    {
      "cell_type": "code",
      "source": [
        "import json\n",
        "\n",
        "data = [\n",
        "    {\n",
        "        \"id\": \"date-regex\",\n",
        "        \"label\": \"Date\",\n",
        "        \"patterns\": [\"\\\\d{4}-\\\\d{2}-\\\\d{2}\",\"\\\\d{4}\"],\n",
        "        \"regex\": True\n",
        "    },\n",
        "    {\n",
        "        \"id\": \"drug-words\",\n",
        "        \"label\": \"Drug\",\n",
        "        \"patterns\": [\"paracetamol\", \"aspirin\", \"ibuprofen\", \"lansoprazol\"]\n",
        "    },\n",
        "    {\n",
        "        \"id\": \"disease-words\",\n",
        "        \"label\": \"Disease\",\n",
        "        \"patterns\": [\"heart condition\",\"tonsilitis\",\"GORD\"]\n",
        "    },\n",
        "        {\n",
        "        \"id\": \"symptom-words\",\n",
        "        \"label\": \"Symptom\",\n",
        "        \"patterns\": [\"fever\",\"headache\"]\n",
        "    },\n",
        "\n",
        "]\n",
        "\n",
        "with open(\"entities.json\", \"w\") as f:\n",
        "    json.dump(data, f)"
      ],
      "metadata": {
        "id": "DUS-iAvk-2Vh"
      },
      "execution_count": null,
      "outputs": []
    },
    {
      "cell_type": "code",
      "source": [
        "entityRuler = EntityRulerInternalApproach()\\\n",
        "    .setInputCols([\"document\", \"token\"])\\\n",
        "    .setOutputCol(\"entities\")\\\n",
        "    .setPatternsResource(\"entities.json\")\\\n",
        "    .setCaseSensitive(False)\\\n",
        "\n",
        "pipeline = Pipeline().setStages([\n",
        "    documentAssembler,\n",
        "    tokenizer,\n",
        "    entityRuler\n",
        "])\n",
        "\n",
        "data = spark.createDataFrame([['''John's doctor prescribed aspirin for his heart condition, along with paracetamol for his fever and headache, amoxicillin for his tonsilitis, ibuprofen for his inflammation, and lansoprazole for his GORD on 2023-12-01.''']]).toDF(\"text\")\n",
        "\n",
        "model = pipeline.fit(data)\n",
        "result = model.transform(data)"
      ],
      "metadata": {
        "id": "M7priXhxFzBh"
      },
      "execution_count": null,
      "outputs": []
    },
    {
      "cell_type": "markdown",
      "source": [
        "Checking the results:"
      ],
      "metadata": {
        "id": "dGmJ56veF62m"
      }
    },
    {
      "cell_type": "code",
      "source": [
        "result.select(F.explode(F.arrays_zip(\n",
        "              result.entities.result,\n",
        "              result.entities.begin,\n",
        "              result.entities.end,\n",
        "              result.entities.metadata,)).alias(\"cols\"))\\\n",
        "      .select(F.expr(\"cols['0']\").alias(\"chunk\"),\n",
        "              F.expr(\"cols['1']\").alias(\"begin\"),\n",
        "              F.expr(\"cols['2']\").alias(\"end\"),\n",
        "              F.expr(\"cols['3']['entity']\").alias('label')).show(truncate=30)"
      ],
      "metadata": {
        "colab": {
          "base_uri": "https://localhost:8080/"
        },
        "id": "jvvqGo9zF2DZ",
        "outputId": "98af9f65-83c0-436d-e1e4-aaed078b11ba"
      },
      "execution_count": null,
      "outputs": [
        {
          "output_type": "stream",
          "name": "stdout",
          "text": [
            "+---------------+-----+---+-------+\n",
            "|          chunk|begin|end|  label|\n",
            "+---------------+-----+---+-------+\n",
            "|     2023-12-01|  206|215|   Date|\n",
            "|        aspirin|   25| 31|   Drug|\n",
            "|heart condition|   41| 55|Disease|\n",
            "|    paracetamol|   69| 79|   Drug|\n",
            "|          fever|   89| 93|Symptom|\n",
            "|       headache|   99|106|Symptom|\n",
            "|     tonsilitis|  129|138|Disease|\n",
            "|      ibuprofen|  141|149|   Drug|\n",
            "|    lansoprazol|  177|187|   Drug|\n",
            "|           GORD|  198|201|Disease|\n",
            "+---------------+-----+---+-------+\n",
            "\n"
          ]
        }
      ]
    },
    {
      "cell_type": "markdown",
      "source": [
        "## `EntityRulerInternalModel`"
      ],
      "metadata": {
        "id": "BMZ8eyXR1ELB"
      }
    },
    {
      "cell_type": "markdown",
      "source": [
        "This annotator is an instantiated model of the `EntityRulerInternalApproach`. Once you build an `EntityRulerInternalApproach()`, you can save it and use it with `EntityRulerInternalModel()` via `load()` function. <br/>\n",
        "\n",
        "Let's re-build one of examples that we have done before and save it."
      ],
      "metadata": {
        "id": "4-50Tixl2WLt"
      }
    },
    {
      "cell_type": "code",
      "source": [
        "data = spark.createDataFrame([[\"John's doctor prescribed aspirin for his heart condition, along with paracetamol for his fever and headache, amoxicillin for his tonsilitis, ibuprofen for his inflammation, and lansoprazole for his GORD on 2023-12-01.\"]]).toDF(\"text\")\n",
        "data.show(truncate=False)"
      ],
      "metadata": {
        "colab": {
          "base_uri": "https://localhost:8080/"
        },
        "id": "WDZqgtLu1MsY",
        "outputId": "329fc9cd-cfe1-45e3-e865-b258f75bd767"
      },
      "execution_count": null,
      "outputs": [
        {
          "output_type": "stream",
          "name": "stdout",
          "text": [
            "+-------------------------------------------------------------------------------------------------------------------------------------------------------------------------------------------------------------------------+\n",
            "|text                                                                                                                                                                                                                     |\n",
            "+-------------------------------------------------------------------------------------------------------------------------------------------------------------------------------------------------------------------------+\n",
            "|John's doctor prescribed aspirin for his heart condition, along with paracetamol for his fever and headache, amoxicillin for his tonsilitis, ibuprofen for his inflammation, and lansoprazole for his GORD on 2023-12-01.|\n",
            "+-------------------------------------------------------------------------------------------------------------------------------------------------------------------------------------------------------------------------+\n",
            "\n"
          ]
        }
      ]
    },
    {
      "cell_type": "markdown",
      "source": [
        "Saving the approach to disk"
      ],
      "metadata": {
        "id": "PR0nqbeROHIv"
      }
    },
    {
      "cell_type": "code",
      "source": [
        "model.stages[-1].write().overwrite().save(\"ruler_approach_model\")"
      ],
      "metadata": {
        "id": "enDQcv8yLqBw"
      },
      "execution_count": null,
      "outputs": []
    },
    {
      "cell_type": "markdown",
      "source": [
        "Loading the saved model and using it with the `EntityRulerInternalModel()` via `load`."
      ],
      "metadata": {
        "id": "2I7E0wkV3C5u"
      }
    },
    {
      "cell_type": "code",
      "source": [
        "entity_ruler = EntityRulerInternalModel.load('/content/ruler_approach_model') \\\n",
        "    .setInputCols([\"document\", \"token\"])\\\n",
        "    .setOutputCol(\"entities\")\n",
        "\n",
        "pipeline = Pipeline(stages=[documentAssembler,\n",
        "                            tokenizer,\n",
        "                            entity_ruler])\n",
        "\n",
        "pipeline_model = pipeline.fit(data)\n",
        "result = pipeline_model.transform(data)"
      ],
      "metadata": {
        "id": "RHdhw2t-6pmL"
      },
      "execution_count": null,
      "outputs": []
    },
    {
      "cell_type": "code",
      "source": [
        "result.select(F.explode(F.arrays_zip(\n",
        "              result.entities.result,\n",
        "              result.entities.begin,\n",
        "              result.entities.end,\n",
        "              result.entities.metadata,)).alias(\"cols\"))\\\n",
        "      .select(F.expr(\"cols['0']\").alias(\"chunk\"),\n",
        "              F.expr(\"cols['1']\").alias(\"begin\"),\n",
        "              F.expr(\"cols['2']\").alias(\"end\"),\n",
        "              F.expr(\"cols['3']['entity']\").alias('label')).show(truncate=30)"
      ],
      "metadata": {
        "colab": {
          "base_uri": "https://localhost:8080/"
        },
        "id": "z1bK3KbMCNjE",
        "outputId": "34b19cbb-5026-4b58-8248-072866dbecc8"
      },
      "execution_count": null,
      "outputs": [
        {
          "output_type": "stream",
          "name": "stdout",
          "text": [
            "+---------------+-----+---+-------+\n",
            "|          chunk|begin|end|  label|\n",
            "+---------------+-----+---+-------+\n",
            "|     2023-12-01|  206|215|   Date|\n",
            "|        aspirin|   25| 31|   Drug|\n",
            "|heart condition|   41| 55|Disease|\n",
            "|    paracetamol|   69| 79|   Drug|\n",
            "|          fever|   89| 93|Symptom|\n",
            "|       headache|   99|106|Symptom|\n",
            "|     tonsilitis|  129|138|Disease|\n",
            "|      ibuprofen|  141|149|   Drug|\n",
            "|    lansoprazol|  177|187|   Drug|\n",
            "|           GORD|  198|201|Disease|\n",
            "+---------------+-----+---+-------+\n",
            "\n"
          ]
        }
      ]
    },
    {
      "cell_type": "markdown",
      "source": [
        "## Using LightPipeline"
      ],
      "metadata": {
        "id": "kT6h7Hoy3Qkw"
      }
    },
    {
      "cell_type": "markdown",
      "source": [
        "The EntityRulerInternal annotator can also be applied by using LightPipeline:"
      ],
      "metadata": {
        "id": "vKVlQOmbCofQ"
      }
    },
    {
      "cell_type": "code",
      "execution_count": null,
      "metadata": {
        "id": "IS8fN6lh_AlD"
      },
      "outputs": [],
      "source": [
        "light_pipeline = LightPipeline(pipeline_model)"
      ]
    },
    {
      "cell_type": "code",
      "execution_count": null,
      "metadata": {
        "colab": {
          "base_uri": "https://localhost:8080/"
        },
        "outputId": "1a863bc7-faa0-4835-c7c6-0961f3ed980e",
        "id": "qpM8ed-G_AlD"
      },
      "outputs": [
        {
          "output_type": "execute_result",
          "data": {
            "text/plain": [
              "dict_keys(['document', 'token', 'entities'])"
            ]
          },
          "metadata": {},
          "execution_count": 21
        }
      ],
      "source": [
        "annotations = light_pipeline.fullAnnotate(\"John's doctor prescribed aspirin for his heart condition, along with paracetamol for his fever and headache, amoxicillin for his tonsilitis, ibuprofen for his inflammation, and lansoprazole for his GORD on 2023-12-01.\")[0]\n",
        "annotations.keys()"
      ]
    },
    {
      "cell_type": "code",
      "execution_count": null,
      "metadata": {
        "colab": {
          "base_uri": "https://localhost:8080/"
        },
        "outputId": "eb480858-f6cb-4833-8a47-5bf4046b2891",
        "id": "BuvodYEI_AlE"
      },
      "outputs": [
        {
          "output_type": "execute_result",
          "data": {
            "text/plain": [
              "[Annotation(chunk, 206, 215, 2023-12-01, {'entity': 'Date', 'id': 'date-regex', 'sentence': '0'}, []),\n",
              " Annotation(chunk, 25, 31, aspirin, {'entity': 'Drug', 'sentence': '0', 'id': 'drug-words'}, []),\n",
              " Annotation(chunk, 41, 55, heart condition, {'entity': 'Disease', 'sentence': '0', 'id': 'disease-words'}, []),\n",
              " Annotation(chunk, 69, 79, paracetamol, {'entity': 'Drug', 'sentence': '0', 'id': 'drug-words'}, []),\n",
              " Annotation(chunk, 89, 93, fever, {'entity': 'Symptom', 'sentence': '0', 'id': 'symptom-words'}, []),\n",
              " Annotation(chunk, 99, 106, headache, {'entity': 'Symptom', 'sentence': '0', 'id': 'symptom-words'}, []),\n",
              " Annotation(chunk, 129, 138, tonsilitis, {'entity': 'Disease', 'sentence': '0', 'id': 'disease-words'}, []),\n",
              " Annotation(chunk, 141, 149, ibuprofen, {'entity': 'Drug', 'sentence': '0', 'id': 'drug-words'}, []),\n",
              " Annotation(chunk, 177, 187, lansoprazol, {'entity': 'Drug', 'sentence': '0', 'id': 'drug-words'}, []),\n",
              " Annotation(chunk, 198, 201, GORD, {'entity': 'Disease', 'sentence': '0', 'id': 'disease-words'}, [])]"
            ]
          },
          "metadata": {},
          "execution_count": 22
        }
      ],
      "source": [
        "annotations.get('entities')"
      ]
    },
    {
      "cell_type": "markdown",
      "source": [
        "Display the result with `spark-nlp-display`."
      ],
      "metadata": {
        "id": "mgxllC3b4b2U"
      }
    },
    {
      "cell_type": "code",
      "source": [
        "from sparknlp_display import NerVisualizer\n",
        "\n",
        "visualiser = NerVisualizer()\n",
        "\n",
        "visualiser.display(annotations, label_col='entities')"
      ],
      "metadata": {
        "colab": {
          "base_uri": "https://localhost:8080/",
          "height": 159
        },
        "id": "lz8ondRb4aDE",
        "outputId": "27431c2f-c2fe-4c01-a05b-e75410985298"
      },
      "execution_count": null,
      "outputs": [
        {
          "output_type": "display_data",
          "data": {
            "text/plain": [
              "<IPython.core.display.HTML object>"
            ],
            "text/html": [
              "\n",
              "<style>\n",
              "    @import url('https://fonts.googleapis.com/css2?family=Montserrat:wght@300;400;500;600;700&display=swap');\n",
              "    @import url('https://fonts.googleapis.com/css2?family=Vistol Regular:wght@300;400;500;600;700&display=swap');\n",
              "    \n",
              "    .spark-nlp-display-scroll-entities {\n",
              "        border: 1px solid #E7EDF0;\n",
              "        border-radius: 3px;\n",
              "        text-align: justify;\n",
              "        \n",
              "    }\n",
              "    .spark-nlp-display-scroll-entities span {  \n",
              "        font-size: 14px;\n",
              "        line-height: 24px;\n",
              "        color: #536B76;\n",
              "        font-family: 'Montserrat', sans-serif !important;\n",
              "    }\n",
              "    \n",
              "    .spark-nlp-display-entity-wrapper{\n",
              "    \n",
              "        display: inline-grid;\n",
              "        text-align: center;\n",
              "        border-radius: 4px;\n",
              "        margin: 0 2px 5px 2px;\n",
              "        padding: 1px\n",
              "    }\n",
              "    .spark-nlp-display-entity-name{\n",
              "        font-size: 14px;\n",
              "        line-height: 24px;\n",
              "        font-family: 'Montserrat', sans-serif !important;\n",
              "        \n",
              "        background: #f1f2f3;\n",
              "        border-width: medium;\n",
              "        text-align: center;\n",
              "        \n",
              "        font-weight: 400;\n",
              "        \n",
              "        border-radius: 5px;\n",
              "        padding: 2px 5px;\n",
              "        display: block;\n",
              "        margin: 3px 2px;\n",
              "    \n",
              "    }\n",
              "    .spark-nlp-display-entity-type{\n",
              "        font-size: 14px;\n",
              "        line-height: 24px;\n",
              "        color: #ffffff;\n",
              "        font-family: 'Montserrat', sans-serif !important;\n",
              "        \n",
              "        text-transform: uppercase;\n",
              "        \n",
              "        font-weight: 500;\n",
              "\n",
              "        display: block;\n",
              "        padding: 3px 5px;\n",
              "    }\n",
              "    \n",
              "    .spark-nlp-display-entity-resolution{\n",
              "        font-size: 14px;\n",
              "        line-height: 24px;\n",
              "        color: #ffffff;\n",
              "        font-family: 'Vistol Regular', sans-serif !important;\n",
              "        \n",
              "        text-transform: uppercase;\n",
              "        \n",
              "        font-weight: 500;\n",
              "\n",
              "        display: block;\n",
              "        padding: 3px 5px;\n",
              "    }\n",
              "    \n",
              "    .spark-nlp-display-others{\n",
              "        font-size: 14px;\n",
              "        line-height: 24px;\n",
              "        font-family: 'Montserrat', sans-serif !important;\n",
              "        \n",
              "        font-weight: 400;\n",
              "    }\n",
              "\n",
              "</style>\n",
              " <span class=\"spark-nlp-display-others\" style=\"background-color: white\">John's doctor prescribed </span><span class=\"spark-nlp-display-entity-wrapper\" style=\"background-color: #8B668B\"><span class=\"spark-nlp-display-entity-name\">aspirin </span><span class=\"spark-nlp-display-entity-type\">Drug</span></span><span class=\"spark-nlp-display-others\" style=\"background-color: white\"> for his </span><span class=\"spark-nlp-display-entity-wrapper\" style=\"background-color: #A94511\"><span class=\"spark-nlp-display-entity-name\">heart condition </span><span class=\"spark-nlp-display-entity-type\">Disease</span></span><span class=\"spark-nlp-display-others\" style=\"background-color: white\">, along with </span><span class=\"spark-nlp-display-entity-wrapper\" style=\"background-color: #8B668B\"><span class=\"spark-nlp-display-entity-name\">paracetamol </span><span class=\"spark-nlp-display-entity-type\">Drug</span></span><span class=\"spark-nlp-display-others\" style=\"background-color: white\"> for his </span><span class=\"spark-nlp-display-entity-wrapper\" style=\"background-color: #6367B4\"><span class=\"spark-nlp-display-entity-name\">fever </span><span class=\"spark-nlp-display-entity-type\">Symptom</span></span><span class=\"spark-nlp-display-others\" style=\"background-color: white\"> and </span><span class=\"spark-nlp-display-entity-wrapper\" style=\"background-color: #6367B4\"><span class=\"spark-nlp-display-entity-name\">headache </span><span class=\"spark-nlp-display-entity-type\">Symptom</span></span><span class=\"spark-nlp-display-others\" style=\"background-color: white\">, amoxicillin for his </span><span class=\"spark-nlp-display-entity-wrapper\" style=\"background-color: #A94511\"><span class=\"spark-nlp-display-entity-name\">tonsilitis </span><span class=\"spark-nlp-display-entity-type\">Disease</span></span><span class=\"spark-nlp-display-others\" style=\"background-color: white\">, </span><span class=\"spark-nlp-display-entity-wrapper\" style=\"background-color: #8B668B\"><span class=\"spark-nlp-display-entity-name\">ibuprofen </span><span class=\"spark-nlp-display-entity-type\">Drug</span></span><span class=\"spark-nlp-display-others\" style=\"background-color: white\"> for his inflammation, and </span><span class=\"spark-nlp-display-entity-wrapper\" style=\"background-color: #8B668B\"><span class=\"spark-nlp-display-entity-name\">lansoprazol </span><span class=\"spark-nlp-display-entity-type\">Drug</span></span><span class=\"spark-nlp-display-others\" style=\"background-color: white\">e for his </span><span class=\"spark-nlp-display-entity-wrapper\" style=\"background-color: #A94511\"><span class=\"spark-nlp-display-entity-name\">GORD </span><span class=\"spark-nlp-display-entity-type\">Disease</span></span><span class=\"spark-nlp-display-others\" style=\"background-color: white\"> on </span><span class=\"spark-nlp-display-entity-wrapper\" style=\"background-color: #a6b1e1\"><span class=\"spark-nlp-display-entity-name\">2023-12-01 </span><span class=\"spark-nlp-display-entity-type\">Date</span></span><span class=\"spark-nlp-display-others\" style=\"background-color: white\">.</span></div>"
            ]
          },
          "metadata": {}
        }
      ]
    }
  ]
}
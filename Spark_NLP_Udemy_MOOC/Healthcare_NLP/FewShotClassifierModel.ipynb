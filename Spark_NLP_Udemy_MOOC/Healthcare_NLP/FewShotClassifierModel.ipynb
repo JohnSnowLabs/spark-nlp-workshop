{
  "nbformat": 4,
  "nbformat_minor": 0,
  "metadata": {
    "colab": {
      "provenance": [],
      "toc_visible": true,
      "machine_shape": "hm"
    },
    "kernelspec": {
      "name": "python3",
      "display_name": "Python 3"
    },
    "language_info": {
      "name": "python"
    }
  },
  "cells": [
    {
      "cell_type": "markdown",
      "source": [
        "![JohnSnowLabs](https://nlp.johnsnowlabs.com/assets/images/logo.png)"
      ],
      "metadata": {
        "id": "8V_Ow3cAVEYe"
      }
    },
    {
      "cell_type": "markdown",
      "source": [
        "# **FewShotClassifierModel**"
      ],
      "metadata": {
        "id": "Y0fJRpNJBslT"
      }
    },
    {
      "cell_type": "markdown",
      "source": [
        "This notebook covers the uses of `FewShotClassifierModel`. This annotator specifically targets few-shot classification tasks, which involves training models to make accurate predictions with limited labeled data.\n",
        "\n",
        "\n",
        "\n",
        "\n",
        "**📖 Learning Objectives:**\n",
        "\n",
        "1. Understand how `FewShotClassifierModel` works.\n",
        "\n",
        "2. Become comfortable using the parameters of the annotator.\n",
        "\n",
        "\n",
        "**🔗 Helpful Links:**\n",
        "\n",
        "- Documentation : [FewShotClassifierModel](https://nlp.johnsnowlabs.com/docs/en/licensed_annotators#fewshotclassifier)\n",
        "\n",
        "- Python Docs : [FewShotClassifierModel](https://nlp.johnsnowlabs.com/licensed/api/python/reference/autosummary/sparknlp_jsl/annotator/classification/few_shot_classifier/index.html#sparknlp_jsl.annotator.classification.few_shot_classifier.FewShotClassifierModel)\n",
        "\n",
        "- Scala Docs : [FewShotClassifierModel](https://nlp.johnsnowlabs.com/licensed/api/com/johnsnowlabs/nlp/annotators/classification/FewShotClassifierModel.html)\n",
        "\n",
        "- For extended examples of usage, see [Spark NLP Workshop repository](https://colab.research.google.com/github/JohnSnowLabs/spark-nlp-workshop/blob/master/tutorials/Certification_Trainings/Healthcare/30.3.Text_Classification_with_FewShotClassifier.ipynb#scrollTo=REDlKd7enG5r).\n"
      ],
      "metadata": {
        "id": "qeclGJmrVLjX"
      }
    },
    {
      "cell_type": "markdown",
      "source": [
        "## **📜 Background**"
      ],
      "metadata": {
        "id": "OV0hPSCWXslc"
      }
    },
    {
      "cell_type": "markdown",
      "source": [
        "`FewShotClassifierModel` provides a valuable capability for handling scenarios where labeled data is scarce or expensive to obtain. By effectively utilizing limited labeled examples, the few-shot classification approach enables the creation of models that can generalize and classify new instances accurately, even with minimal training data.\n",
        "\n",
        "`FewShotClassifier` is designed to process sentence embeddings as an input. It generates category annotations, providing labels along with confidence scores that range from 0 to 1. Input annotation types supported by this model include `SENTENCE_EMBEDDINGS`, while the output annotation type is `CATEGORY`."
      ],
      "metadata": {
        "id": "_-hGkZ7_cAZE"
      }
    },
    {
      "cell_type": "markdown",
      "source": [
        "## **🎬 Colab Setup**"
      ],
      "metadata": {
        "id": "E8qy2MI2XySv"
      }
    },
    {
      "cell_type": "code",
      "execution_count": null,
      "metadata": {
        "id": "HuLFt0OdBkuo"
      },
      "outputs": [],
      "source": [
        "# Install the johnsnowlabs library to access Spark-OCR and Spark-NLP for Healthcare, Finance, and Legal.\n",
        "! pip install -q johnsnowlabs"
      ]
    },
    {
      "cell_type": "code",
      "source": [
        "from google.colab import files\n",
        "print('Please Upload your John Snow Labs License using the button below')\n",
        "license_keys = files.upload()"
      ],
      "metadata": {
        "id": "HJGAUiIqBI94"
      },
      "execution_count": null,
      "outputs": []
    },
    {
      "cell_type": "code",
      "source": [
        "from johnsnowlabs import nlp, medical\n",
        "\n",
        "# After uploading your license run this to install all licensed Python Wheels and pre-download Jars the Spark Session JVM\n",
        "nlp.install()"
      ],
      "metadata": {
        "id": "SBhRUP21BI7R"
      },
      "execution_count": null,
      "outputs": []
    },
    {
      "cell_type": "code",
      "source": [
        "from johnsnowlabs import nlp, medical\n",
        "import pandas as pd\n",
        "\n",
        "# Automatically load license data and start a session with all jars user has access to\n",
        "spark = nlp.start()"
      ],
      "metadata": {
        "id": "a_1HS4iCB5ie"
      },
      "execution_count": null,
      "outputs": []
    },
    {
      "cell_type": "code",
      "source": [
        "from pyspark.sql import DataFrame\n",
        "import pyspark.sql.functions as F\n",
        "import pyspark.sql.types as T\n",
        "import pyspark.sql as SQL\n",
        "from pyspark import keyword_only"
      ],
      "metadata": {
        "id": "dycus2LCBI4R"
      },
      "execution_count": null,
      "outputs": []
    },
    {
      "cell_type": "markdown",
      "source": [
        "## **🖨️ Input/Output Annotation Types**"
      ],
      "metadata": {
        "id": "f_4conOIYj6D"
      }
    },
    {
      "cell_type": "markdown",
      "source": [
        "- Input: `SENTENCE EMBEDDINGS`\n",
        "\n",
        "- Output: `CATEGORY`"
      ],
      "metadata": {
        "id": "0Fc_3iRwYk8N"
      }
    },
    {
      "cell_type": "markdown",
      "source": [
        "## **🔎 Parameters**"
      ],
      "metadata": {
        "id": "rgCCuKLdepW9"
      }
    },
    {
      "cell_type": "markdown",
      "source": [
        "- `setFeatureScaling`:  Feature scaling method. Possible values are 'zscore', 'minmax' or empty (no scaling)\").\n",
        "- `setMultiClass`: If multiClass is set, the model will return all the labels with corresponding scores. By default, multiClass is false.   \n",
        "\n"
      ],
      "metadata": {
        "id": "Y4tqQGMsj1BQ"
      }
    },
    {
      "cell_type": "markdown",
      "source": [
        "## **💻 Pipeline**"
      ],
      "metadata": {
        "id": "pagXc73HWidS"
      }
    },
    {
      "cell_type": "markdown",
      "source": [
        "We will use this pretrained model [Few Shot Patient Complaint Classification](https://nlp.johnsnowlabs.com/2023/08/30/few_shot_classifier_patient_complaint_sbiobert_cased_mli_en.html) in the pipeline to understand the few shot classification concept.\n",
        "\n",
        "\n",
        "This Text Classifier model was trained using healthcare-related text and  google reviews of various healthcare facilities written by patients about the performance of the facility and its personnel.\n",
        "\n",
        "The dataset has been labeled with two different classes:\n",
        "\n",
        "`Complaint`: The text includes dissatisfaction or frustration with some aspect of the healthcare provided to the patient. Most often, negative or critical language is used to describe the experience,\n",
        "\n",
        "`No_Complaint`: The review expresses positive or neutral sentiment about the service. There is no criticism or expressing of dissatisfaction."
      ],
      "metadata": {
        "id": "_4YFqtNoSKLG"
      }
    },
    {
      "cell_type": "code",
      "source": [
        "# Annotator that transforms a text column from dataframe into an Annotation ready for NLP\n",
        "document_assembler = nlp.DocumentAssembler()\\\n",
        "    .setInputCol(\"text\")\\\n",
        "    .setOutputCol(\"document\")\n",
        "\n",
        "bert_sent = nlp.BertSentenceEmbeddings.pretrained(\"sbiobert_base_cased_mli\", \"en\", \"clinical/models\")\\\n",
        "    .setInputCols([\"document\"])\\\n",
        "    .setOutputCol(\"sentence_embeddings\")\n",
        "\n",
        "few_shot_classifier = medical.FewShotClassifierModel.pretrained(\"few_shot_classifier_patient_complaint_sbiobert_cased_mli\", \"en\", \"clinical/models\")\\\n",
        "    .setInputCols([\"sentence_embeddings\"])\\\n",
        "    .setOutputCol(\"prediction\")\n",
        "\n",
        "clf_Pipeline = nlp.Pipeline(stages=[\n",
        "    document_assembler,\n",
        "    bert_sent,\n",
        "    few_shot_classifier\n",
        "])"
      ],
      "metadata": {
        "id": "sZKRtor7c_eJ"
      },
      "execution_count": null,
      "outputs": []
    },
    {
      "cell_type": "markdown",
      "source": [
        "Let us use those sample texts, which may or may not include patients' complaints, to test the performance of the healthcare facility and its personnel.\n",
        "\n",
        "We will convert the text to Pyspark dataframe and then get predictions for complaints by using `.transform`."
      ],
      "metadata": {
        "id": "3W87-STWMeF3"
      }
    },
    {
      "cell_type": "code",
      "source": [
        "data = spark.createDataFrame([[\"\"\"The Medical Center is a large state of the art hospital facility with great doctors, nurses, technicians and receptionists.  Service is top notch, knowledgeable and friendly.  This hospital site has plenty of parking\"\"\"],\n",
        " [\"\"\"My gf dad wasn’t feeling well so we decided to take him to this place cus it’s his insurance and we waited for a while and mind that my girl dad couldn’t breath good while the staff seem not to care and when they got to us they said they we’re gonna a take some blood samples and they made us wait again and to see the staff workers talking to each other and laughing taking there time and not seeming to care about there patience, while we were in the lobby there was another guy who told us they also made him wait while he can hardly breath and they left him there to wait my girl dad is coughing and not doing better and when the lady came in my girl dad didn’t have his shirt because he was hot and the lady came in said put on his shirt on and then left still waiting to get help rn\"\"\"],\n",
        " [\"The doctor seemed rushed during the appointment, and I didn't get a chance to discuss all my concerns. I feel unheard.\"],\n",
        " [\"I don't know if it's just me, but the treatment plan doesn't seem to be working, and I'm still in a lot of pain.\"],\n",
        " [\"I can't say enough good things about the hospital staff. They were all incredibly kind, compassionate, and went above and beyond to ensure my comfort during my stay. The nurses were always available and responsive to my needs, and the doctors clearly explained everything in a way that was easy to understand.\"],\n",
        " [\"The equipment and resources available to the medical staff were truly impressive, and I felt confident that I was receiving the best possible care.\"],\n",
        " [\"I'm not sure if it's the medication or something else, but I've been experiencing strange side effects like vivid dreams and dizziness.\"]\n",
        "                              ]).toDF(\"text\")"
      ],
      "metadata": {
        "id": "0n_XF9xYKlEn"
      },
      "execution_count": null,
      "outputs": []
    },
    {
      "cell_type": "code",
      "source": [
        "result = clf_Pipeline.fit(data).transform(data)"
      ],
      "metadata": {
        "id": "338J-VahGTut"
      },
      "execution_count": null,
      "outputs": []
    },
    {
      "cell_type": "code",
      "source": [
        "result.select('prediction.result','text').show(truncate = 150)"
      ],
      "metadata": {
        "colab": {
          "base_uri": "https://localhost:8080/"
        },
        "id": "R1pBtIxH39qn",
        "outputId": "df00b11a-d83a-4479-b997-d23db6ce4514"
      },
      "execution_count": null,
      "outputs": [
        {
          "output_type": "stream",
          "name": "stdout",
          "text": [
            "+--------------+------------------------------------------------------------------------------------------------------------------------------------------------------+\n",
            "|        result|                                                                                                                                                  text|\n",
            "+--------------+------------------------------------------------------------------------------------------------------------------------------------------------------+\n",
            "|[No_Complaint]|The Medical Center is a large state of the art hospital facility with great doctors, nurses, technicians and receptionists.  Service is top notch, ...|\n",
            "|   [Complaint]|My gf dad wasn’t feeling well so we decided to take him to this place cus it’s his insurance and we waited for a while and mind that my girl dad co...|\n",
            "|   [Complaint]|                                The doctor seemed rushed during the appointment, and I didn't get a chance to discuss all my concerns. I feel unheard.|\n",
            "|   [Complaint]|                                      I don't know if it's just me, but the treatment plan doesn't seem to be working, and I'm still in a lot of pain.|\n",
            "|[No_Complaint]|I can't say enough good things about the hospital staff. They were all incredibly kind, compassionate, and went above and beyond to ensure my comfo...|\n",
            "|[No_Complaint]|   The equipment and resources available to the medical staff were truly impressive, and I felt confident that I was receiving the best possible care.|\n",
            "|   [Complaint]|               I'm not sure if it's the medication or something else, but I've been experiencing strange side effects like vivid dreams and dizziness.|\n",
            "+--------------+------------------------------------------------------------------------------------------------------------------------------------------------------+\n",
            "\n"
          ]
        }
      ]
    },
    {
      "cell_type": "markdown",
      "source": [
        "### `setFeatureScaling`"
      ],
      "metadata": {
        "id": "Opw8cfSSXmfc"
      }
    },
    {
      "cell_type": "markdown",
      "source": [
        "This parameter is used to define the Feature Scaling method. Possible values are 'zscore', 'minmax' or empty (no scaling)\").\n",
        "\n"
      ],
      "metadata": {
        "id": "wfPKyJLrYW78"
      }
    },
    {
      "cell_type": "code",
      "source": [
        "# zscore\n",
        "\n",
        "few_shot_classifier = medical.FewShotClassifierModel.pretrained(\"few_shot_classifier_patient_complaint_sbiobert_cased_mli\", \"en\", \"clinical/models\")\\\n",
        "    .setInputCols([\"sentence_embeddings\"])\\\n",
        "    .setOutputCol(\"prediction\")\\\n",
        "    .setFeatureScaling(\"zscore\")\n",
        "\n",
        "clf_Pipeline = nlp.Pipeline(stages=[\n",
        "    document_assembler,\n",
        "    bert_sent,\n",
        "    few_shot_classifier\n",
        "])\n",
        "\n",
        "result = clf_Pipeline.fit(data).transform(data)"
      ],
      "metadata": {
        "id": "bT3jVwiiWAnG"
      },
      "execution_count": null,
      "outputs": []
    },
    {
      "cell_type": "code",
      "source": [
        "result.select('prediction.result','text').show(truncate = 150)"
      ],
      "metadata": {
        "colab": {
          "base_uri": "https://localhost:8080/"
        },
        "id": "40NU4_nReHf-",
        "outputId": "cc8e8ed0-514f-4854-d369-548e96eceb19"
      },
      "execution_count": null,
      "outputs": [
        {
          "output_type": "stream",
          "name": "stdout",
          "text": [
            "+--------------+------------------------------------------------------------------------------------------------------------------------------------------------------+\n",
            "|        result|                                                                                                                                                  text|\n",
            "+--------------+------------------------------------------------------------------------------------------------------------------------------------------------------+\n",
            "|[No_Complaint]|The Medical Center is a large state of the art hospital facility with great doctors, nurses, technicians and receptionists.  Service is top notch, ...|\n",
            "|   [Complaint]|My gf dad wasn’t feeling well so we decided to take him to this place cus it’s his insurance and we waited for a while and mind that my girl dad co...|\n",
            "|   [Complaint]|                                The doctor seemed rushed during the appointment, and I didn't get a chance to discuss all my concerns. I feel unheard.|\n",
            "|   [Complaint]|                                      I don't know if it's just me, but the treatment plan doesn't seem to be working, and I'm still in a lot of pain.|\n",
            "|[No_Complaint]|I can't say enough good things about the hospital staff. They were all incredibly kind, compassionate, and went above and beyond to ensure my comfo...|\n",
            "|[No_Complaint]|   The equipment and resources available to the medical staff were truly impressive, and I felt confident that I was receiving the best possible care.|\n",
            "|   [Complaint]|               I'm not sure if it's the medication or something else, but I've been experiencing strange side effects like vivid dreams and dizziness.|\n",
            "+--------------+------------------------------------------------------------------------------------------------------------------------------------------------------+\n",
            "\n"
          ]
        }
      ]
    },
    {
      "cell_type": "code",
      "source": [
        "# minmax\n",
        "\n",
        "few_shot_classifier = medical.FewShotClassifierModel.pretrained(\"few_shot_classifier_patient_complaint_sbiobert_cased_mli\", \"en\", \"clinical/models\")\\\n",
        "    .setInputCols([\"sentence_embeddings\"])\\\n",
        "    .setOutputCol(\"prediction\")\\\n",
        "    .setFeatureScaling(\"minmax\")\n",
        "\n",
        "clf_Pipeline = nlp.Pipeline(stages=[\n",
        "    document_assembler,\n",
        "    bert_sent,\n",
        "    few_shot_classifier\n",
        "])\n",
        "\n",
        "result = clf_Pipeline.fit(data).transform(data)"
      ],
      "metadata": {
        "id": "3sii7fMLHTPY"
      },
      "execution_count": null,
      "outputs": []
    },
    {
      "cell_type": "code",
      "source": [
        "result.select('prediction.result','text').show(truncate = 150)"
      ],
      "metadata": {
        "colab": {
          "base_uri": "https://localhost:8080/"
        },
        "id": "Jhk2r7FmHTHC",
        "outputId": "3b4fa42e-142e-4cb4-9955-727508de47fb"
      },
      "execution_count": null,
      "outputs": [
        {
          "output_type": "stream",
          "name": "stdout",
          "text": [
            "+--------------+------------------------------------------------------------------------------------------------------------------------------------------------------+\n",
            "|        result|                                                                                                                                                  text|\n",
            "+--------------+------------------------------------------------------------------------------------------------------------------------------------------------------+\n",
            "|[No_Complaint]|The Medical Center is a large state of the art hospital facility with great doctors, nurses, technicians and receptionists.  Service is top notch, ...|\n",
            "|   [Complaint]|My gf dad wasn’t feeling well so we decided to take him to this place cus it’s his insurance and we waited for a while and mind that my girl dad co...|\n",
            "|   [Complaint]|                                The doctor seemed rushed during the appointment, and I didn't get a chance to discuss all my concerns. I feel unheard.|\n",
            "|   [Complaint]|                                      I don't know if it's just me, but the treatment plan doesn't seem to be working, and I'm still in a lot of pain.|\n",
            "|[No_Complaint]|I can't say enough good things about the hospital staff. They were all incredibly kind, compassionate, and went above and beyond to ensure my comfo...|\n",
            "|[No_Complaint]|   The equipment and resources available to the medical staff were truly impressive, and I felt confident that I was receiving the best possible care.|\n",
            "|[No_Complaint]|               I'm not sure if it's the medication or something else, but I've been experiencing strange side effects like vivid dreams and dizziness.|\n",
            "+--------------+------------------------------------------------------------------------------------------------------------------------------------------------------+\n",
            "\n"
          ]
        }
      ]
    }
  ]
}
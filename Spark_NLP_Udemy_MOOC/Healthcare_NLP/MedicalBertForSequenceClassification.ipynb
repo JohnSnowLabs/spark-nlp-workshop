{
  "cells": [
    {
      "cell_type": "markdown",
      "metadata": {
        "id": "Y0fJRpNJBslT"
      },
      "source": [
        "# **MedicalBertForSequenceClassification Models**"
      ]
    },
    {
      "cell_type": "markdown",
      "metadata": {
        "id": "qeclGJmrVLjX"
      },
      "source": [
        "This notebook will cover the different parameters and usages of `MedicalBertForSequenceClassification` annotator.\n",
        "\n",
        "\n",
        "**📖 Learning Objectives:**\n",
        "Become comfortable using the different parameters of the annotator.\n",
        "**🔗 Helpful Links:**\n",
        "\n",
        "- Documentation : [MedicalBertForSequenceClassification](https://nlp.johnsnowlabs.com/2023/05/09/generic_svm_classifier_ade_en.html)\n",
        "\n",
        "- Python Docs : [MedicalBertForSequenceClassification](https://nlp.johnsnowlabs.com/licensed/api/python/reference/autosummary/sparknlp_jsl/annotator/classification/medical_bert_for_sequence_classification/index.html#)\n",
        "\n",
        "- For extended examples of usage, see [Spark NLP Workshop repository](https://github.com/JohnSnowLabs/spark-nlp-workshop/blob/master/tutorials/Certification_Trainings/Healthcare/19.MedicalBertForSequenceClassification_in_SparkNLP.ipynb).\n"
      ]
    },
    {
      "cell_type": "markdown",
      "metadata": {
        "id": "OV0hPSCWXslc"
      },
      "source": [
        "## **📜 Background**"
      ]
    },
    {
      "cell_type": "markdown",
      "metadata": {
        "id": "_-hGkZ7_cAZE"
      },
      "source": [
        " `MedicalBertForSequenceClassification`  can load Bert Models with sequence classification/regression head on top (a linear layer on top of the pooled output) e.g. for multi-class document classification tasks. Pretrained models can be loaded with :method :`.pretrained` of the companion object:\n",
        "\n",
        "For available pretrained models please see the [`Models Hub`](https://nlp.johnsnowlabs.com/models?task=Named+Entity+Recognition)\n",
        "\n",
        "To see which models are compatible and how to import them see [`Import Transformers into Spark NLP` 🚀](https://github.com/JohnSnowLabs/spark-nlp/discussions/5669)"
      ]
    },
    {
      "cell_type": "markdown",
      "metadata": {
        "id": "E8qy2MI2XySv"
      },
      "source": [
        "## **🎬 Colab Setup**"
      ]
    },
    {
      "cell_type": "code",
      "execution_count": null,
      "metadata": {
        "id": "HJGAUiIqBI94"
      },
      "outputs": [],
      "source": [
        "from google.colab import files\n",
        "print('Please Upload your John Snow Labs License using the button below')\n",
        "license_keys = files.upload()"
      ]
    },
    {
      "cell_type": "code",
      "execution_count": null,
      "metadata": {
        "id": "HuLFt0OdBkuo"
      },
      "outputs": [],
      "source": [
        "# Install the johnsnowlabs library to access Spark-OCR and Spark-NLP for Healthcare, Finance, and Legal.\n",
        "! pip install -q johnsnowlabs==5.1.4"
      ]
    },
    {
      "cell_type": "code",
      "execution_count": null,
      "metadata": {
        "id": "SBhRUP21BI7R"
      },
      "outputs": [],
      "source": [
        "from johnsnowlabs import nlp, medical, visual\n",
        "\n",
        "# After uploading your license run this to install all licensed Python Wheels and pre-download Jars the Spark Session JVM\n",
        "nlp.install()"
      ]
    },
    {
      "cell_type": "code",
      "execution_count": null,
      "metadata": {
        "id": "a_1HS4iCB5ie"
      },
      "outputs": [],
      "source": [
        "from johnsnowlabs import nlp, medical, visual\n",
        "import pandas as pd\n",
        "\n",
        "# Automatically load license data and start a session with all jars user has access to\n",
        "spark = nlp.start()"
      ]
    },
    {
      "cell_type": "code",
      "execution_count": null,
      "metadata": {
        "colab": {
          "base_uri": "https://localhost:8080/",
          "height": 219
        },
        "id": "aok3umndL-H-",
        "outputId": "9f4bfc9b-bd0d-4ab0-f585-b3d4479af4c7"
      },
      "outputs": [
        {
          "output_type": "execute_result",
          "data": {
            "text/plain": [
              "<pyspark.sql.session.SparkSession at 0x7db592201360>"
            ],
            "text/html": [
              "\n",
              "            <div>\n",
              "                <p><b>SparkSession - in-memory</b></p>\n",
              "                \n",
              "        <div>\n",
              "            <p><b>SparkContext</b></p>\n",
              "\n",
              "            <p><a href=\"http://a8e36a21477d:4040\">Spark UI</a></p>\n",
              "\n",
              "            <dl>\n",
              "              <dt>Version</dt>\n",
              "                <dd><code>v3.1.2</code></dd>\n",
              "              <dt>Master</dt>\n",
              "                <dd><code>local[*]</code></dd>\n",
              "              <dt>AppName</dt>\n",
              "                <dd><code>John-Snow-Labs-Spark-Session 🚀 with Jars for: 🚀Spark-NLP==5.1.1, 💊Spark-Healthcare==5.1.1, running on ⚡ PySpark==3.1.2</code></dd>\n",
              "            </dl>\n",
              "        </div>\n",
              "        \n",
              "            </div>\n",
              "        "
            ]
          },
          "metadata": {},
          "execution_count": 5
        }
      ],
      "source": [
        "spark"
      ]
    },
    {
      "cell_type": "markdown",
      "metadata": {
        "id": "f_4conOIYj6D"
      },
      "source": [
        "## **🖨️ Input/Output Annotation Types**\n",
        "\n"
      ]
    },
    {
      "cell_type": "markdown",
      "metadata": {
        "id": "0Fc_3iRwYk8N"
      },
      "source": [
        "- Input: `DOCUMENT, TOKEN`\n",
        "\n",
        "- Output: `CATEGORY`"
      ]
    },
    {
      "cell_type": "markdown",
      "metadata": {
        "id": "yK3ordkxev8X"
      },
      "source": [
        "## **🖨️ Running Classifier**\n",
        "\n"
      ]
    },
    {
      "cell_type": "code",
      "execution_count": null,
      "metadata": {
        "id": "EFVK8wWODWjX",
        "colab": {
          "base_uri": "https://localhost:8080/"
        },
        "outputId": "cd15b882-f460-4d50-89c9-bedbda607891"
      },
      "outputs": [
        {
          "output_type": "stream",
          "name": "stdout",
          "text": [
            "bert_sequence_classifier_ade download started this may take some time.\n",
            "[OK!]\n"
          ]
        }
      ],
      "source": [
        "document_assembler = nlp.DocumentAssembler() \\\n",
        "    .setInputCol(\"text\") \\\n",
        "    .setOutputCol(\"document\")\n",
        "\n",
        "tokenizer = nlp.Tokenizer() \\\n",
        "    .setInputCols([\"document\"]) \\\n",
        "    .setOutputCol(\"token\")\n",
        "\n",
        "sequenceClassifier = medical.BertForSequenceClassification.pretrained(\"bert_sequence_classifier_ade\", \"en\", \"clinical/models\")\\\n",
        "    .setInputCols([\"document\",\"token\"])\\\n",
        "    .setOutputCol(\"classes\")\n",
        "\n",
        "pipeline = nlp.Pipeline(stages=[\n",
        "    document_assembler,\n",
        "    tokenizer,\n",
        "    sequenceClassifier\n",
        "])\n",
        "\n",
        "model = pipeline.fit(spark.createDataFrame([['']]).toDF(\"text\"))\n"
      ]
    },
    {
      "cell_type": "code",
      "execution_count": null,
      "metadata": {
        "id": "JYuDz76Lf40q"
      },
      "outputs": [],
      "source": [
        "data_list =[[\"Right inguinal hernia repair in childhood Cervical discectomy 3 years ago Umbilical hernia repair 2137. Retired schoolteacher, now substitutes. Lives with wife in location 1439. Has a 27 yo son and a 25 yo daughter. Name (NI) past or present smoking hx, no EtOH.\"],\n",
        "     [\"Atrial Septal Defect with Right Atrial Thrombus Pulmonary Hypertension Obesity, Obstructive Sleep Apnea. Denies tobacco and ETOH. Works as cafeteria worker.\"]]\n",
        "\n",
        "data = spark.createDataFrame(data_list).toDF(\"text\")\n"
      ]
    },
    {
      "cell_type": "code",
      "execution_count": null,
      "metadata": {
        "colab": {
          "base_uri": "https://localhost:8080/"
        },
        "id": "WM9vWVcQe_jq",
        "outputId": "a820e0ec-a7bb-4ebb-ef4b-05b5965ccb42"
      },
      "outputs": [
        {
          "output_type": "stream",
          "name": "stdout",
          "text": [
            "+----------------------------------------------------------------------------------------------------+-------+\n",
            "|                                                                                                text| result|\n",
            "+----------------------------------------------------------------------------------------------------+-------+\n",
            "|Right inguinal hernia repair in childhood Cervical discectomy 3 years ago Umbilical hernia repair...|[False]|\n",
            "|Atrial Septal Defect with Right Atrial Thrombus Pulmonary Hypertension Obesity, Obstructive Sleep...|[False]|\n",
            "+----------------------------------------------------------------------------------------------------+-------+\n",
            "\n"
          ]
        }
      ],
      "source": [
        "result = model.transform(data)\n",
        "\n",
        "result.select(\"text\", \"classes.result\").show(2,truncate=100)"
      ]
    },
    {
      "cell_type": "markdown",
      "metadata": {
        "id": "rgCCuKLdepW9"
      },
      "source": [
        "## **🔎 Parameters**"
      ]
    },
    {
      "cell_type": "markdown",
      "source": [
        "'`batchSize`',  'Size of every batch': default: 8,\n",
        "\n",
        "'`coalesceSentences`': \"Instead of 1 class per sentence (if inputCols is '''sentence''' output 1 class per document by averaging probabilities in all sentences.\" default: False,\n",
        "\n",
        "'`maxSentenceLength`', 'Max sentence length to process', default: 128\n",
        "\n",
        "`caseSensitive`', 'whether to ignore case in tokens for embeddings matching',default: True,"
      ],
      "metadata": {
        "id": "BRSOP2jkcCFl"
      }
    },
    {
      "cell_type": "code",
      "execution_count": null,
      "metadata": {
        "id": "Njqg0bk7Obhj"
      },
      "outputs": [],
      "source": []
    },
    {
      "cell_type": "markdown",
      "metadata": {
        "id": "x3_VVX8niIyW"
      },
      "source": [
        "### ▶ `batchSize`"
      ]
    },
    {
      "cell_type": "markdown",
      "metadata": {
        "id": "RRbN20ACseQb"
      },
      "source": [
        "\n",
        "\n",
        "```\n",
        "    batchSize\n",
        "        Batch size. Large values allows faster processing but requires more\n",
        "        memory, by default 8\n",
        "```\n",
        "\n"
      ]
    },
    {
      "cell_type": "markdown",
      "source": [
        "```\n",
        "In following two runs, two different batch sizes are used and process time differs\n",
        "```"
      ],
      "metadata": {
        "id": "iChSTLHVnM0b"
      }
    },
    {
      "cell_type": "code",
      "execution_count": null,
      "metadata": {
        "colab": {
          "base_uri": "https://localhost:8080/"
        },
        "id": "VV75kIpUfBWP",
        "outputId": "c5044260-deca-49fe-feb7-0aba728a7eff"
      },
      "outputs": [
        {
          "output_type": "stream",
          "name": "stdout",
          "text": [
            "bert_sequence_classifier_ade download started this may take some time.\n",
            "[OK!]\n"
          ]
        }
      ],
      "source": [
        "sequenceClassifier = medical.BertForSequenceClassification.pretrained(\"bert_sequence_classifier_ade\", \"en\", \"clinical/models\")\\\n",
        "    .setInputCols([\"document\",\"token\"])\\\n",
        "    .setOutputCol(\"classes\")\\\n",
        "    .setBatchSize(4)\\\n",
        "\n",
        "pipeline = nlp.Pipeline(stages=[\n",
        "    document_assembler,\n",
        "    tokenizer,\n",
        "    sequenceClassifier\n",
        "])\n",
        "\n",
        "model = pipeline.fit(spark.createDataFrame([[\"\"]]).toDF(\"text\"))\n"
      ]
    },
    {
      "cell_type": "code",
      "execution_count": null,
      "metadata": {
        "id": "BbVisFMD4an0"
      },
      "outputs": [],
      "source": [
        "data_list =[[\"Right inguinal hernia repair in childhood Cervical discectomy 3 years ago Umbilical hernia repair 2137. Retired schoolteacher, now substitutes. Lives with wife in location 1439. Has a 27 yo son and a 25 yo daughter. Name (NI) past or present smoking hx, no EtOH.\"],\n",
        "     [\"Atrial Septal Defect with Right Atrial Thrombus Pulmonary Hypertension Obesity, Obstructive Sleep Apnea. Denies tobacco and ETOH. Works as cafeteria worker.\"]]\n",
        "\n",
        "data = spark.createDataFrame(data_list*1000).toDF(\"text\")"
      ]
    },
    {
      "cell_type": "code",
      "execution_count": null,
      "metadata": {
        "colab": {
          "base_uri": "https://localhost:8080/"
        },
        "id": "OSgOS4HtrjYd",
        "outputId": "7a48364f-bef1-48a3-b0b3-4e96f41e5437"
      },
      "outputs": [
        {
          "output_type": "stream",
          "name": "stdout",
          "text": [
            "CPU times: user 758 ms, sys: 109 ms, total: 867 ms\n",
            "Wall time: 2min 10s\n"
          ]
        }
      ],
      "source": [
        "%%time\n",
        "result = model.transform(data)\n",
        "result.write.mode(\"overwrite\").format(\"noop\").save()\n",
        "# result.select(\"text\", \"classes.result\").show(truncate=False)"
      ]
    },
    {
      "cell_type": "code",
      "execution_count": null,
      "metadata": {
        "id": "JUI1FGRqso1t",
        "colab": {
          "base_uri": "https://localhost:8080/"
        },
        "outputId": "6d8c0508-1dc1-4af0-ac2d-1b54af6b6853"
      },
      "outputs": [
        {
          "output_type": "stream",
          "name": "stdout",
          "text": [
            "bert_sequence_classifier_ade download started this may take some time.\n",
            "[OK!]\n"
          ]
        }
      ],
      "source": [
        "sequenceClassifier = medical.BertForSequenceClassification.pretrained(\"bert_sequence_classifier_ade\", \"en\", \"clinical/models\")\\\n",
        "    .setInputCols([\"document\",\"token\"])\\\n",
        "    .setOutputCol(\"classes\")\\\n",
        "    .setBatchSize(64)\\\n",
        "    .setCoalesceSentences(True)\n",
        "\n",
        "pipeline = nlp.Pipeline(stages=[\n",
        "    document_assembler,\n",
        "    tokenizer,\n",
        "    sequenceClassifier\n",
        "])\n",
        "\n",
        "model = pipeline.fit(spark.createDataFrame([[\"\"]]).toDF(\"text\"))"
      ]
    },
    {
      "cell_type": "code",
      "execution_count": null,
      "metadata": {
        "id": "EzvBg7J8so4i"
      },
      "outputs": [],
      "source": [
        "data_list =[[\"Right inguinal hernia repair in childhood Cervical discectomy 3 years ago Umbilical hernia repair 2137. Retired schoolteacher, now substitutes. Lives with wife in location 1439. Has a 27 yo son and a 25 yo daughter. Name (NI) past or present smoking hx, no EtOH.\"],\n",
        "     [\"Atrial Septal Defect with Right Atrial Thrombus Pulmonary Hypertension Obesity, Obstructive Sleep Apnea. Denies tobacco and ETOH. Works as cafeteria worker.\"]]\n",
        "\n",
        "data = spark.createDataFrame(data_list*1000).toDF(\"text\")"
      ]
    },
    {
      "cell_type": "code",
      "execution_count": null,
      "metadata": {
        "colab": {
          "base_uri": "https://localhost:8080/"
        },
        "id": "vW5fzmo-so7f",
        "outputId": "56dce769-9f1d-43c2-f902-98cf0f6fc1ee"
      },
      "outputs": [
        {
          "output_type": "stream",
          "name": "stdout",
          "text": [
            "CPU times: user 755 ms, sys: 106 ms, total: 861 ms\n",
            "Wall time: 2min 9s\n"
          ]
        }
      ],
      "source": [
        "%%time\n",
        "result2 = model.transform(data)\n",
        "result2.write.mode(\"overwrite\").format(\"noop\").save()\n",
        "# result.select(\"text\", \"classes.result\").show(truncate=False)"
      ]
    },
    {
      "cell_type": "markdown",
      "metadata": {
        "id": "j9rRlgT3pdKZ"
      },
      "source": [
        "### ▶`setCoalesceSentences`"
      ]
    },
    {
      "cell_type": "markdown",
      "metadata": {
        "id": "A2avaG9qqCvd"
      },
      "source": [
        "```\n",
        "Instead of 1 class per sentence (if inputCols is '''sentence''') output 1 class per document by averaging probabilities in all sentences.\n",
        "Due to max sequence length limit in almost all transformer models such as BERT (512 tokens), this parameter helps feeding all the sentences\n",
        " into the model and averaging all the probabilities for the entire document instead of probabilities per sentence.\n",
        " ```\n",
        " **(Default: False)**\n",
        "\n",
        " in next to runs, the result column shows the difference\n",
        "\n"
      ]
    },
    {
      "cell_type": "code",
      "execution_count": null,
      "metadata": {
        "colab": {
          "base_uri": "https://localhost:8080/"
        },
        "id": "ydZvStLwnuKc",
        "outputId": "ac1f8752-2155-4d19-b82d-2db82e512230"
      },
      "outputs": [
        {
          "output_type": "stream",
          "name": "stdout",
          "text": [
            "bert_sequence_classifier_ade download started this may take some time.\n",
            "[OK!]\n"
          ]
        }
      ],
      "source": [
        "document_assembler = nlp.DocumentAssembler() \\\n",
        "    .setInputCol(\"text\") \\\n",
        "    .setOutputCol(\"document\")\n",
        "\n",
        "sentenceDetector = nlp.SentenceDetector()\\\n",
        "    .setInputCols([\"document\"])\\\n",
        "    .setOutputCol(\"sentence\")\n",
        "\n",
        "\n",
        "tokenizer = nlp.Tokenizer() \\\n",
        "    .setInputCols([\"sentence\"]) \\\n",
        "    .setOutputCol(\"token\")\n",
        "\n",
        "sequenceClassifier = medical.BertForSequenceClassification.pretrained(\"bert_sequence_classifier_ade\", \"en\", \"clinical/models\")\\\n",
        "    .setInputCols([\"sentence\",\"token\"])\\\n",
        "    .setOutputCol(\"classes\")\\\n",
        "    .setBatchSize(8)\\\n",
        "    .setCoalesceSentences(False)  # set False\n",
        "\n",
        "pipeline = nlp.Pipeline(stages=[\n",
        "    document_assembler,\n",
        "    sentenceDetector,\n",
        "    tokenizer,\n",
        "    sequenceClassifier\n",
        "])\n",
        "\n",
        "model = pipeline.fit(spark.createDataFrame([[\"\"]]).toDF(\"text\"))\n"
      ]
    },
    {
      "cell_type": "code",
      "execution_count": null,
      "metadata": {
        "colab": {
          "base_uri": "https://localhost:8080/"
        },
        "id": "2aoW3z7ZoE8C",
        "outputId": "961560b2-d72b-4aa7-b534-b25eab3dc236"
      },
      "outputs": [
        {
          "output_type": "stream",
          "name": "stdout",
          "text": [
            "+----------------------------------------------------------------------------------------------------+-----------------------------------+\n",
            "|                                                                                                text|                             result|\n",
            "+----------------------------------------------------------------------------------------------------+-----------------------------------+\n",
            "|Right inguinal hernia repair in childhood Cervical discectomy 3 years ago Umbilical hernia repair...|[False, False, False, False, False]|\n",
            "|Atrial Septal Defect with Right Atrial Thrombus Pulmonary Hypertension Obesity, Obstructive Sleep...|              [False, False, False]|\n",
            "+----------------------------------------------------------------------------------------------------+-----------------------------------+\n",
            "only showing top 2 rows\n",
            "\n"
          ]
        }
      ],
      "source": [
        "data_list =[[\"Right inguinal hernia repair in childhood Cervical discectomy 3 years ago Umbilical hernia repair 2137. Retired schoolteacher, now substitutes. Lives with wife in location 1439. Has a 27 yo son and a 25 yo daughter. Name (NI) past or present smoking hx, no EtOH.\"],\n",
        "     [\"Atrial Septal Defect with Right Atrial Thrombus Pulmonary Hypertension Obesity, Obstructive Sleep Apnea. Denies tobacco and ETOH. Works as cafeteria worker.\"]]\n",
        "\n",
        "data = spark.createDataFrame(data_list*100).toDF(\"text\")\n",
        "\n",
        "result = model.transform(data)\n",
        "result.select(\"text\", \"classes.result\").show(2,truncate=100)"
      ]
    },
    {
      "cell_type": "code",
      "execution_count": null,
      "metadata": {
        "colab": {
          "base_uri": "https://localhost:8080/"
        },
        "id": "jEoYwxEjoE_A",
        "outputId": "50e5fb50-275a-4c50-e53d-5b21e299be86"
      },
      "outputs": [
        {
          "output_type": "stream",
          "name": "stdout",
          "text": [
            "bert_sequence_classifier_ade download started this may take some time.\n",
            "[OK!]\n"
          ]
        }
      ],
      "source": [
        "document_assembler = nlp.DocumentAssembler() \\\n",
        "    .setInputCol(\"text\") \\\n",
        "    .setOutputCol(\"document\")\n",
        "\n",
        "sentenceDetector = nlp.SentenceDetector()\\\n",
        "    .setInputCols([\"document\"])\\\n",
        "    .setOutputCol(\"sentence\")\n",
        "\n",
        "\n",
        "tokenizer = nlp.Tokenizer() \\\n",
        "    .setInputCols([\"sentence\"]) \\\n",
        "    .setOutputCol(\"token\")\n",
        "\n",
        "sequenceClassifier = medical.BertForSequenceClassification.pretrained(\"bert_sequence_classifier_ade\", \"en\", \"clinical/models\")\\\n",
        "    .setInputCols([\"sentence\",\"token\"])\\\n",
        "    .setOutputCol(\"classes\")\\\n",
        "    .setBatchSize(8)\\\n",
        "    .setCoalesceSentences(True)  # set True\n",
        "\n",
        "\n",
        "pipeline = nlp.Pipeline(stages=[\n",
        "    document_assembler,\n",
        "    sentenceDetector,\n",
        "    tokenizer,\n",
        "    sequenceClassifier\n",
        "])\n",
        "\n",
        "model = pipeline.fit(spark.createDataFrame([[\"\"]]).toDF(\"text\"))\n"
      ]
    },
    {
      "cell_type": "code",
      "execution_count": null,
      "metadata": {
        "colab": {
          "base_uri": "https://localhost:8080/"
        },
        "id": "uPBvq-k7q4Bi",
        "outputId": "34e0d72f-5833-4bab-ed4d-b4365dc011db"
      },
      "outputs": [
        {
          "output_type": "stream",
          "name": "stdout",
          "text": [
            "+----------------------------------------------------------------------------------------------------+-------+\n",
            "|                                                                                                text| result|\n",
            "+----------------------------------------------------------------------------------------------------+-------+\n",
            "|Right inguinal hernia repair in childhood Cervical discectomy 3 years ago Umbilical hernia repair...|[False]|\n",
            "|Atrial Septal Defect with Right Atrial Thrombus Pulmonary Hypertension Obesity, Obstructive Sleep...|[False]|\n",
            "+----------------------------------------------------------------------------------------------------+-------+\n",
            "only showing top 2 rows\n",
            "\n"
          ]
        }
      ],
      "source": [
        "data_list =[[\"Right inguinal hernia repair in childhood Cervical discectomy 3 years ago Umbilical hernia repair 2137. Retired schoolteacher, now substitutes. Lives with wife in location 1439. Has a 27 yo son and a 25 yo daughter. Name (NI) past or present smoking hx, no EtOH.\"],\n",
        "     [\"Atrial Septal Defect with Right Atrial Thrombus Pulmonary Hypertension Obesity, Obstructive Sleep Apnea. Denies tobacco and ETOH. Works as cafeteria worker.\"]]\n",
        "\n",
        "data = spark.createDataFrame(data_list*100).toDF(\"text\")\n",
        "result = model.transform(data)\n",
        "result.select(\"text\", \"classes.result\").show(2,truncate=100)"
      ]
    },
    {
      "cell_type": "markdown",
      "metadata": {
        "id": "rEMqFRSUuoVp"
      },
      "source": [
        "### ▶`setMaxSentenceLength`"
      ]
    },
    {
      "cell_type": "markdown",
      "metadata": {
        "id": "Jm6Rh859uoWG"
      },
      "source": [
        "```\n",
        "Sets max sentence length to process, by default 128\n",
        " ```\n",
        "\n"
      ]
    },
    {
      "cell_type": "code",
      "source": [
        "document_assembler = nlp.DocumentAssembler() \\\n",
        "    .setInputCol(\"text\") \\\n",
        "    .setOutputCol(\"document\")\n",
        "\n",
        "sentenceDetector = nlp.SentenceDetector()\\\n",
        "    .setInputCols([\"document\"])\\\n",
        "    .setOutputCol(\"sentence\")\n",
        "\n",
        "\n",
        "tokenizer = nlp.Tokenizer() \\\n",
        "    .setInputCols([\"sentence\"]) \\\n",
        "    .setOutputCol(\"token\")\n",
        "\n",
        "sequenceClassifier = medical.BertForSequenceClassification.pretrained(\"bert_sequence_classifier_ade\", \"en\", \"clinical/models\")\\\n",
        "    .setInputCols([\"sentence\",\"token\"])\\\n",
        "    .setOutputCol(\"classes\")\\\n",
        "    .setCoalesceSentences(False)\\\n",
        "    .setMaxSentenceLength(2)\n",
        "\n",
        "\n",
        "pipeline = nlp.Pipeline(stages=[\n",
        "    document_assembler,\n",
        "    sentenceDetector,\n",
        "    tokenizer,\n",
        "    sequenceClassifier\n",
        "])\n",
        "\n",
        "model = pipeline.fit(spark.createDataFrame([[\"\"]]).toDF(\"text\"))"
      ],
      "metadata": {
        "colab": {
          "base_uri": "https://localhost:8080/"
        },
        "id": "S79Z8i_opQTb",
        "outputId": "6db8750c-55fe-447a-e47d-c21f406a7cf9"
      },
      "execution_count": null,
      "outputs": [
        {
          "output_type": "stream",
          "name": "stdout",
          "text": [
            "bert_sequence_classifier_ade download started this may take some time.\n",
            "[OK!]\n"
          ]
        }
      ]
    },
    {
      "cell_type": "code",
      "source": [
        "data_list =[[\"Right inguinal hernia repair in childhood Cervical discectomy 3 years ago Umbilical hernia repair 2137. Retired schoolteacher, now substitutes. Lives with wife in location 1439. Has a 27 yo son and a 25 yo daughter. Name (NI) past or present smoking hx, no EtOH.\"],\n",
        "     [\"Atrial Septal Defect with Right Atrial Thrombus Pulmonary Hypertension Obesity, Obstructive Sleep Apnea. Denies tobacco and ETOH. Works as cafeteria worker.\"]]\n",
        "\n",
        "data = spark.createDataFrame(data_list*100).toDF(\"text\")\n",
        "result = model.transform(data)\n",
        "result.select(\"text\", \"classes.result\").show(2,truncate=100)"
      ],
      "metadata": {
        "colab": {
          "base_uri": "https://localhost:8080/"
        },
        "id": "TCqq5AVvp7Sz",
        "outputId": "0f3a6764-f94d-4658-fb49-5e6b89c64547"
      },
      "execution_count": null,
      "outputs": [
        {
          "output_type": "stream",
          "name": "stdout",
          "text": [
            "+----------------------------------------------------------------------------------------------------+------------------------------+\n",
            "|                                                                                                text|                        result|\n",
            "+----------------------------------------------------------------------------------------------------+------------------------------+\n",
            "|Right inguinal hernia repair in childhood Cervical discectomy 3 years ago Umbilical hernia repair...|[True, True, True, True, True]|\n",
            "|Atrial Septal Defect with Right Atrial Thrombus Pulmonary Hypertension Obesity, Obstructive Sleep...|            [True, True, True]|\n",
            "+----------------------------------------------------------------------------------------------------+------------------------------+\n",
            "only showing top 2 rows\n",
            "\n"
          ]
        }
      ]
    },
    {
      "cell_type": "code",
      "source": [
        "# for testing purpose, maxlength set to 2 and results are as shown above: True"
      ],
      "metadata": {
        "id": "WoKnirlqIyYZ"
      },
      "execution_count": null,
      "outputs": []
    },
    {
      "cell_type": "markdown",
      "metadata": {
        "id": "r6XoZ8Gkwd4x"
      },
      "source": [
        "### ▶`    caseSensitive`"
      ]
    },
    {
      "cell_type": "markdown",
      "metadata": {
        "id": "ufimVG0kwi7J"
      },
      "source": [
        "`Whether to ignore case in tokens for embeddings matching` **default True**"
      ]
    },
    {
      "cell_type": "code",
      "source": [
        "document_assembler = nlp.DocumentAssembler() \\\n",
        "    .setInputCol(\"text\") \\\n",
        "    .setOutputCol(\"document\")\n",
        "\n",
        "tokenizer = nlp.Tokenizer() \\\n",
        "    .setInputCols([\"document\"]) \\\n",
        "    .setOutputCol(\"token\")\n",
        "\n",
        "sequenceClassifier = medical.BertForSequenceClassification.pretrained(\"bert_sequence_classifier_ade\", \"en\", \"clinical/models\")\\\n",
        "    .setInputCols([\"document\",\"token\"])\\\n",
        "    .setOutputCol(\"classes\")\\\n",
        "    .setCaseSensitive(False)\n",
        "\n",
        "pipeline = nlp.Pipeline(stages=[\n",
        "    document_assembler,\n",
        "    tokenizer,\n",
        "    sequenceClassifier\n",
        "])\n",
        "\n",
        "model = pipeline.fit(spark.createDataFrame([[\"\"]]).toDF(\"text\"))"
      ],
      "metadata": {
        "colab": {
          "base_uri": "https://localhost:8080/"
        },
        "id": "Yu3Y_0uxqxJz",
        "outputId": "da457c9f-917d-46c6-ad23-126cd998b512"
      },
      "execution_count": null,
      "outputs": [
        {
          "output_type": "stream",
          "name": "stdout",
          "text": [
            "bert_sequence_classifier_ade download started this may take some time.\n",
            "[OK!]\n"
          ]
        }
      ]
    },
    {
      "cell_type": "code",
      "source": [
        "data_list =[[\"Right inguinal hernia repair in childhood Cervical discectomy 3 years ago Umbilical hernia repair 2137. Retired schoolteacher, now substitutes. Lives with wife in location 1439. Has a 27 yo son and a 25 yo daughter. Name (NI) past or present smoking hx, no EtOH.\"],\n",
        "     [\"Atrial Septal Defect with Right Atrial Thrombus Pulmonary Hypertension Obesity, Obstructive Sleep Apnea. Denies tobacco and ETOH. Works as cafeteria worker.\"]]\n",
        "\n",
        "data = spark.createDataFrame(data_list*100).toDF(\"text\")\n",
        "result = model.transform(data)\n",
        "result.select(\"text\", \"classes.result\").show(2,truncate=100)"
      ],
      "metadata": {
        "colab": {
          "base_uri": "https://localhost:8080/"
        },
        "id": "Z7nkw95NrPWZ",
        "outputId": "0ca20fa6-5b59-4c18-ea9f-496f0619c9ef"
      },
      "execution_count": null,
      "outputs": [
        {
          "output_type": "stream",
          "name": "stdout",
          "text": [
            "+----------------------------------------------------------------------------------------------------+------+\n",
            "|                                                                                                text|result|\n",
            "+----------------------------------------------------------------------------------------------------+------+\n",
            "|Right inguinal hernia repair in childhood Cervical discectomy 3 years ago Umbilical hernia repair...|[True]|\n",
            "|Atrial Septal Defect with Right Atrial Thrombus Pulmonary Hypertension Obesity, Obstructive Sleep...|[True]|\n",
            "+----------------------------------------------------------------------------------------------------+------+\n",
            "only showing top 2 rows\n",
            "\n"
          ]
        }
      ]
    }
  ],
  "metadata": {
    "colab": {
      "machine_shape": "hm",
      "provenance": []
    },
    "kernelspec": {
      "display_name": "Python 3",
      "name": "python3"
    },
    "language_info": {
      "name": "python"
    }
  },
  "nbformat": 4,
  "nbformat_minor": 0
}
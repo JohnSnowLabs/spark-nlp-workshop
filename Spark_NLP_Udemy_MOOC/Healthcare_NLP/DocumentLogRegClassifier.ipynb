{
  "nbformat": 4,
  "nbformat_minor": 0,
  "metadata": {
    "colab": {
      "provenance": [],
      "machine_shape": "hm"
    },
    "kernelspec": {
      "name": "python3",
      "display_name": "Python 3"
    },
    "language_info": {
      "name": "python"
    }
  },
  "cells": [
    {
      "cell_type": "markdown",
      "source": [
        "![JohnSnowLabs](https://nlp.johnsnowlabs.com/assets/images/logo.png)"
      ],
      "metadata": {
        "id": "8V_Ow3cAVEYe"
      }
    },
    {
      "cell_type": "markdown",
      "source": [
        "# **DocumentLogRegClassifier**"
      ],
      "metadata": {
        "id": "Y0fJRpNJBslT"
      }
    },
    {
      "cell_type": "markdown",
      "source": [
        "This notebook covers the uses of `DocumentLogRegClassifier`. This annotator uses a supervised learning algorithm that learns to classify documents (or text) into predefined categories or classes based on the content of the text.\n",
        "\n",
        "\n",
        "\n",
        "\n",
        "**📖 Learning Objectives:**\n",
        "\n",
        "1. Understand how `DocumentLogRegClassifier` works.\n",
        "\n",
        "2. Become comfortable using the parameters of the annotator.\n",
        "\n",
        "\n",
        "**🔗 Helpful Links:**\n",
        "\n",
        "- Documentation : [DocumentLogRegClassifier](https://nlp.johnsnowlabs.com/docs/en/licensed_annotators#documentlogregclassifier)\n",
        "\n",
        "- Python Docs : [DocumentLogRegClassifier](https://nlp.johnsnowlabs.com/licensed/api/python/reference/autosummary/sparknlp_jsl/annotator/classification/document_log_classifier/index.html#sparknlp_jsl.annotator.classification.document_log_classifier.DocumentLogRegClassifierModel)\n",
        "\n",
        "- Scala Docs : [DocumentLogRegClassifier](https://nlp.johnsnowlabs.com/licensed/api/com/johnsnowlabs/nlp/annotators/classification/DocumentLogRegClassifierModel.html)\n",
        "\n",
        "- For extended examples of usage, see [Spark NLP Workshop repository](https://colab.research.google.com/github/JohnSnowLabs/spark-nlp-workshop/blob/master/tutorials/Certification_Trainings/Healthcare/30.Clinical_Text_Classification_with_Spark_NLP.ipynb#scrollTo=hJCE-sWM9oaK).\n"
      ],
      "metadata": {
        "id": "qeclGJmrVLjX"
      }
    },
    {
      "cell_type": "markdown",
      "source": [
        "## **📜 Background**"
      ],
      "metadata": {
        "id": "OV0hPSCWXslc"
      }
    },
    {
      "cell_type": "markdown",
      "source": [
        "`DocumentLogRegClassifier` is designed for text classification tasks. It is a supervised learning algorithm that learns to classify documents (or text) into predefined categories or classes based on the content of the text.\n",
        "\n",
        "`Logistic Regression` is a statistical model that models the probability of a binary (or multi-class) outcome based on one or more predictor variables. In the context of text classification, the predictor variables are typically the features extracted from the text, such as the presence or absence of certain words, n-grams, or other text-based features.\n",
        "\n",
        "The `Logistic Regression` model learns a set of weights (coefficients) for each feature during the training process, which determines the importance of that feature in predicting the class label. During inference or prediction, the learned model takes a new text document as input, extracts the relevant features, and computes the probability of the document belonging to each class using the learned weights and a logistic function."
      ],
      "metadata": {
        "id": "_-hGkZ7_cAZE"
      }
    },
    {
      "cell_type": "markdown",
      "source": [
        "## **🎬 Colab Setup**"
      ],
      "metadata": {
        "id": "E8qy2MI2XySv"
      }
    },
    {
      "cell_type": "code",
      "execution_count": null,
      "metadata": {
        "id": "HuLFt0OdBkuo"
      },
      "outputs": [],
      "source": [
        "! pip install -q johnsnowlabs==5.1.0"
      ]
    },
    {
      "cell_type": "code",
      "source": [
        "from google.colab import files\n",
        "print('Please Upload your John Snow Labs License using the button below')\n",
        "license_keys = files.upload()"
      ],
      "metadata": {
        "id": "HJGAUiIqBI94"
      },
      "execution_count": null,
      "outputs": []
    },
    {
      "cell_type": "code",
      "source": [
        "from johnsnowlabs import nlp, medical\n",
        "\n",
        "# After uploading your license run this to install all licensed Python Wheels and pre-download Jars the Spark Session JVM\n",
        "nlp.install()"
      ],
      "metadata": {
        "id": "SBhRUP21BI7R"
      },
      "execution_count": null,
      "outputs": []
    },
    {
      "cell_type": "code",
      "source": [
        "from johnsnowlabs import nlp, medical\n",
        "import pandas as pd\n",
        "\n",
        "# Automatically load license data and start a session with all jars user has access to\n",
        "spark = nlp.start()"
      ],
      "metadata": {
        "id": "a_1HS4iCB5ie"
      },
      "execution_count": null,
      "outputs": []
    },
    {
      "cell_type": "code",
      "source": [
        "from pyspark.sql import DataFrame\n",
        "import pyspark.sql.functions as F\n",
        "import pyspark.sql.types as T\n",
        "import pyspark.sql as SQL\n",
        "from pyspark import keyword_only\n",
        "\n",
        "import pandas as pd\n",
        "from sklearn.metrics import confusion_matrix, classification_report, accuracy_score"
      ],
      "metadata": {
        "id": "dycus2LCBI4R"
      },
      "execution_count": null,
      "outputs": []
    },
    {
      "cell_type": "markdown",
      "source": [
        "## **🖨️ Input/Output Annotation Types**"
      ],
      "metadata": {
        "id": "f_4conOIYj6D"
      }
    },
    {
      "cell_type": "markdown",
      "source": [
        "- Input: `TOKEN`\n",
        "\n",
        "- Output: `CATEGORY`"
      ],
      "metadata": {
        "id": "0Fc_3iRwYk8N"
      }
    },
    {
      "cell_type": "markdown",
      "source": [
        "## **🔎 Parameters**"
      ],
      "metadata": {
        "id": "rgCCuKLdepW9"
      }
    },
    {
      "cell_type": "markdown",
      "source": [
        "- `setLabels`:  Sets array to output the label in the original form.\n",
        "\n",
        "- `setMergeChunks`: Whether to merge all chunks in a document or not (Default: false).   \n",
        "\n"
      ],
      "metadata": {
        "id": "Y4tqQGMsj1BQ"
      }
    },
    {
      "cell_type": "markdown",
      "source": [
        "## Train a Model"
      ],
      "metadata": {
        "id": "mfGWBwgfhRoQ"
      }
    },
    {
      "cell_type": "code",
      "source": [
        "!wget -q https://raw.githubusercontent.com/JohnSnowLabs/spark-nlp-workshop/master/tutorials/Certification_Trainings/Healthcare/data/mtsamples_classifier.csv"
      ],
      "metadata": {
        "id": "FAxbiSSnhfa6"
      },
      "execution_count": null,
      "outputs": []
    },
    {
      "cell_type": "code",
      "source": [
        "spark_df = spark.read.csv(\"mtsamples_classifier.csv\", header = True)\n",
        "\n",
        "spark_df.show(10,truncate=100)"
      ],
      "metadata": {
        "colab": {
          "base_uri": "https://localhost:8080/"
        },
        "id": "delTA-Fnhj3W",
        "outputId": "1dd01733-3f2d-4857-a26d-3112816d77e3"
      },
      "execution_count": null,
      "outputs": [
        {
          "output_type": "stream",
          "name": "stdout",
          "text": [
            "+----------------+----------------------------------------------------------------------------------------------------+\n",
            "|        category|                                                                                                text|\n",
            "+----------------+----------------------------------------------------------------------------------------------------+\n",
            "|Gastroenterology| PROCEDURES PERFORMED: Colonoscopy. INDICATIONS: Renewed symptoms likely consistent with active f...|\n",
            "|Gastroenterology| OPERATION 1. Ivor-Lewis esophagogastrectomy. 2. Feeding jejunostomy. 3. Placement of two right-s...|\n",
            "|Gastroenterology| PREOPERATIVE DIAGNOSES: 1. Gastroesophageal reflux disease. 2. Chronic dyspepsia. POSTOPERATIVE ...|\n",
            "|Gastroenterology| PROCEDURE: Colonoscopy. PREOPERATIVE DIAGNOSES: Rectal bleeding and perirectal abscess. POSTOPER...|\n",
            "|Gastroenterology| PREOPERATIVE DIAGNOSIS: Right colon tumor. POSTOPERATIVE DIAGNOSES: 1. Right colon cancer. 2. As...|\n",
            "|Gastroenterology| PREOPERATIVE DIAGNOSIS (ES): 1. Cholelithiasis. 2. Cholecystitis. POSTOPERATIVE DIAGNOSIS (ES): ...|\n",
            "|Gastroenterology| The patient was taken to the GI lab and placed in the left lateral supine position. Continuous p...|\n",
            "|Gastroenterology| PREOPERATIVE DIAGNOSIS: Gastrostomy (gastrocutaneous fistula). POSTOPERATIVE DIAGNOSIS: Gastrost...|\n",
            "|Gastroenterology| PREOPERATIVE DIAGNOSIS: Acute acalculous cholecystitis. POSTOPERATIVE DIAGNOSIS: Acute hemorrhag...|\n",
            "|Gastroenterology| HISTORY OF PRESENT ILLNESS: This is a 10-year-old who was found with biliary atresia and underwe...|\n",
            "+----------------+----------------------------------------------------------------------------------------------------+\n",
            "only showing top 10 rows\n",
            "\n"
          ]
        }
      ]
    },
    {
      "cell_type": "code",
      "source": [
        "spark_df.groupBy(\"category\").count().show()"
      ],
      "metadata": {
        "colab": {
          "base_uri": "https://localhost:8080/"
        },
        "id": "rkeCbMV2hjwm",
        "outputId": "4991f0b9-bee1-4472-ca6b-9c29fc1a7a62"
      },
      "execution_count": null,
      "outputs": [
        {
          "output_type": "stream",
          "name": "stdout",
          "text": [
            "+----------------+-----+\n",
            "|        category|count|\n",
            "+----------------+-----+\n",
            "|         Urology|  115|\n",
            "|       Neurology|  143|\n",
            "|      Orthopedic|  223|\n",
            "|Gastroenterology|  157|\n",
            "+----------------+-----+\n",
            "\n"
          ]
        }
      ]
    },
    {
      "cell_type": "code",
      "source": [
        "(trainingData, testData) = spark_df.randomSplit([0.8, 0.2], seed = 42)"
      ],
      "metadata": {
        "id": "jlCW8jywhjp0"
      },
      "execution_count": null,
      "outputs": []
    },
    {
      "cell_type": "code",
      "source": [
        "document_assembler = nlp.DocumentAssembler()\\\n",
        "    .setInputCol(\"text\")\\\n",
        "    .setOutputCol(\"document\")\n",
        "\n",
        "tokenizer = nlp.Tokenizer() \\\n",
        "    .setInputCols([\"document\"]) \\\n",
        "    .setOutputCol(\"token\")\n",
        "\n",
        "logreg = medical.DocumentLogRegClassifierApproach()\\\n",
        "    .setInputCols(\"token\")\\\n",
        "    .setLabelCol(\"category\")\\\n",
        "    .setOutputCol(\"prediction\")\\\n",
        "    .setMaxIter(10)\\\n",
        "    .setTol(1e-6)\n",
        "\n",
        "clf_Pipeline = nlp.Pipeline(\n",
        "    stages=[\n",
        "        document_assembler,\n",
        "        tokenizer,\n",
        "        logreg\n",
        "])\n",
        "\n",
        "doclogreg_model = clf_Pipeline.fit(trainingData)"
      ],
      "metadata": {
        "id": "dsiZubk1hscQ"
      },
      "execution_count": null,
      "outputs": []
    },
    {
      "cell_type": "code",
      "source": [
        "pred_df = doclogreg_model.transform(testData)\n",
        "\n",
        "preds_df = pred_df.select('category','prediction.result').toPandas()\n",
        "preds_df['result'] = preds_df.result.apply(lambda x : x[0])\n",
        "\n",
        "print (classification_report(preds_df['category'], preds_df['result']))"
      ],
      "metadata": {
        "colab": {
          "base_uri": "https://localhost:8080/"
        },
        "id": "FK55W-bchsTz",
        "outputId": "999a5f44-2142-4d31-9270-ada3449e3baf"
      },
      "execution_count": null,
      "outputs": [
        {
          "output_type": "stream",
          "name": "stdout",
          "text": [
            "                  precision    recall  f1-score   support\n",
            "\n",
            "Gastroenterology       0.88      0.88      0.88        25\n",
            "       Neurology       0.81      0.77      0.79        22\n",
            "      Orthopedic       0.86      0.89      0.87        35\n",
            "         Urology       0.90      0.90      0.90        20\n",
            "\n",
            "        accuracy                           0.86       102\n",
            "       macro avg       0.86      0.86      0.86       102\n",
            "    weighted avg       0.86      0.86      0.86       102\n",
            "\n"
          ]
        }
      ]
    },
    {
      "cell_type": "code",
      "source": [
        "doclogreg_model.stages"
      ],
      "metadata": {
        "colab": {
          "base_uri": "https://localhost:8080/"
        },
        "id": "r6dqbYrVjRe0",
        "outputId": "36bc4c30-99e3-48df-d892-08d7685cbf51"
      },
      "execution_count": null,
      "outputs": [
        {
          "output_type": "execute_result",
          "data": {
            "text/plain": [
              "[DocumentAssembler_6f12620a6eda,\n",
              " REGEX_TOKENIZER_e3b666d0b8d1,\n",
              " TLR_5d4d9581822a]"
            ]
          },
          "metadata": {},
          "execution_count": 12
        }
      ]
    },
    {
      "cell_type": "code",
      "source": [
        "doclogreg_model.stages[2].write().overwrite().save('DocLogRegClf_model')"
      ],
      "metadata": {
        "id": "zSuj6aY1jRVL"
      },
      "execution_count": null,
      "outputs": []
    },
    {
      "cell_type": "markdown",
      "source": [
        "## Use the Model by **DocumentLogRegClassifierModel**"
      ],
      "metadata": {
        "id": "C5yIuzTfjiSW"
      }
    },
    {
      "cell_type": "markdown",
      "source": [
        "Text Classifier model was trained to identify between the following four specialties or branches of medicine:\n",
        "\n",
        "`Gastroenterology`\n",
        "\n",
        "`Urology`\n",
        "\n",
        "`Neurology`\n",
        "\n",
        "`Orthopedic`."
      ],
      "metadata": {
        "id": "_4YFqtNoSKLG"
      }
    },
    {
      "cell_type": "code",
      "source": [
        "document_assembler = nlp.DocumentAssembler()\\\n",
        "    .setInputCol(\"text\")\\\n",
        "    .setOutputCol(\"document\")\n",
        "\n",
        "tokenizer = nlp.Tokenizer()\\\n",
        "    .setInputCols(\"document\")\\\n",
        "    .setOutputCol(\"token\")\n",
        "\n",
        "logreg = medical.DocumentLogRegClassifierModel.load(\"/content/DocLogRegClf_model\")\\\n",
        "    .setInputCols(\"token\")\\\n",
        "    .setOutputCol(\"prediction\")\\\n",
        "    .setMergeChunks(True)\\\n",
        "    .setLabels(['Gastroenterology', 'Urology', 'Neurology', 'Orthopedic'])\n",
        "\n",
        "clf_Pipeline = nlp.Pipeline(stages=[\n",
        "    document_assembler,\n",
        "    tokenizer,\n",
        "    logreg])"
      ],
      "metadata": {
        "id": "2BSXR6keBuol"
      },
      "execution_count": null,
      "outputs": []
    },
    {
      "cell_type": "markdown",
      "source": [
        "We will convert the text to Pyspark dataframe and then get predictions for specialties by using `.transform`."
      ],
      "metadata": {
        "id": "3W87-STWMeF3"
      }
    },
    {
      "cell_type": "code",
      "source": [
        "data = spark.createDataFrame([[\"After administering appropriate antibiotics and MAC anesthesia, the upper extremity was prepped and draped in the usual sterile fashion. The arm was exsanguinated with Esmarch, and the tourniquet inflated to 250 mmHg. A transverse incision was made over the MPJ crease of the thumb. Dissection was carried down to the flexor sheath with care taken to identify and protect the neurovascular bundles. The flexor sheath was opened under direct vision with a scalpel, and then a scissor was used to release the A1 pulley under direct vision on the radial side, from its proximal extent to its distal extent at the junction of the proximal and middle thirds of the proximal phalanx. \"],\n",
        " [\"The patient was placed in the supine position and sterilely prepped and draped in the usual fashion. After 2% lidocaine was instilled, the anterior urethra is normal. The prostatic urethra reveals mild lateral lobe obstruction. There are no bladder tumors noted. IMPRESSION: The patient has some mild benign prostatic hyperplasia. At this point in time, we will continue with conservative observation. \"],\n",
        " [\"Bilateral lower extremity numbness. HX: 21 y/o RHM complained of gradual onset numbness and incoordination of both lower extremities beginning approximately 11/5/96. The symptoms became maximal over a 12-24 hour period and have not changed since. The symptoms consist of tingling in the distal lower extremities approximately half way up the calf bilaterally. He noted decreased coordination of both lower extremities which he thought might be due to uncertainty as to where his feet were being placed in space.\"],\n",
        " [\"PROCEDURE: Upper endoscopy. PREOPERATIVE DIAGNOSIS: Dysphagia. POSTOPERATIVE DIAGNOSIS: 1. GERD, biopsied. 2. Distal esophageal reflux-induced stricture, dilated to 18 mm. 3. Otherwise normal upper endoscopy. MEDICATIONS: Fentanyl 125 mcg and Versed 7 mg slow IV push.\"]\n",
        "                              ]).toDF(\"text\")"
      ],
      "metadata": {
        "id": "0n_XF9xYKlEn"
      },
      "execution_count": null,
      "outputs": []
    },
    {
      "cell_type": "code",
      "source": [
        "result = clf_Pipeline.fit(data).transform(data)"
      ],
      "metadata": {
        "id": "338J-VahGTut"
      },
      "execution_count": null,
      "outputs": []
    },
    {
      "cell_type": "code",
      "source": [
        "result.select('prediction.result','text').show(truncate = 150)"
      ],
      "metadata": {
        "colab": {
          "base_uri": "https://localhost:8080/"
        },
        "id": "R1pBtIxH39qn",
        "outputId": "4cef39e7-443a-476b-bb2c-e5ca006bab07"
      },
      "execution_count": null,
      "outputs": [
        {
          "output_type": "stream",
          "name": "stdout",
          "text": [
            "+------------------+------------------------------------------------------------------------------------------------------------------------------------------------------+\n",
            "|            result|                                                                                                                                                  text|\n",
            "+------------------+------------------------------------------------------------------------------------------------------------------------------------------------------+\n",
            "|[Gastroenterology]|After administering appropriate antibiotics and MAC anesthesia, the upper extremity was prepped and draped in the usual sterile fashion. The arm wa...|\n",
            "|         [Urology]|PROCEDURE: Upper endoscopy. PREOPERATIVE DIAGNOSIS: Dysphagia. POSTOPERATIVE DIAGNOSIS: 1. GERD, biopsied. 2. Distal esophageal reflux-induced stri...|\n",
            "|       [Neurology]|Bilateral lower extremity numbness. HX: 21 y/o RHM complained of gradual onset numbness and incoordination of both lower extremities beginning appr...|\n",
            "|      [Orthopedic]|The patient was placed in the supine position and sterilely prepped and draped in the usual fashion. After 2% lidocaine was instilled, the anterior...|\n",
            "+------------------+------------------------------------------------------------------------------------------------------------------------------------------------------+\n",
            "\n"
          ]
        }
      ]
    }
  ]
}
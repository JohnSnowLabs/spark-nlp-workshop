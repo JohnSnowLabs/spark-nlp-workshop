{
  "nbformat": 4,
  "nbformat_minor": 0,
  "metadata": {
    "colab": {
      "provenance": [],
      "machine_shape": "hm",
      "toc_visible": true
    },
    "kernelspec": {
      "name": "python3",
      "display_name": "Python 3"
    },
    "language_info": {
      "name": "python"
    }
  },
  "cells": [
    {
      "cell_type": "markdown",
      "source": [
        "# **MedicalDistilBertForSequenceClassification models**"
      ],
      "metadata": {
        "id": "Y0fJRpNJBslT"
      }
    },
    {
      "cell_type": "markdown",
      "source": [
        "This notebook will cover the different parameters and usages of `MedicalDistilBertForSequenceClassification` annotator.\n",
        "\n",
        "\n",
        "**📖 Learning Objectives:**\n",
        "Become comfortable using the different parameters of the annotator.\n",
        "**🔗 Helpful Links:**\n",
        "\n",
        "- Documentation : [MedicalDistilBertForSequenceClassification](https://nlp.johnsnowlabs.com/2022/02/08/distilbert_sequence_classifier_ade_en.html)\n",
        "\n",
        "- Python Docs : [MedicalDistilBertForSequenceClassification](https://nlp.johnsnowlabs.com/licensed/api/python/reference/autosummary/sparknlp_jsl/annotator/classification/medical_distilbert_for_sequence_classification/index.html#)\n",
        "\n",
        "- For extended examples of usage, see [Spark NLP Workshop repository](https://github.com/JohnSnowLabs/spark-nlp-workshop/blob/master/tutorials/Certification_Trainings/Healthcare).\n"
      ],
      "metadata": {
        "id": "qeclGJmrVLjX"
      }
    },
    {
      "cell_type": "markdown",
      "source": [
        "## **📜 Background**"
      ],
      "metadata": {
        "id": "OV0hPSCWXslc"
      }
    },
    {
      "cell_type": "markdown",
      "source": [
        " `MedicalDistilBertForSequenceClassification` can load DistilBERT Models with sequence classification/regression head on top (a linear layer on top of the pooled output) e.g. for multi-class document classification tasks. Pretrained models can be loaded with method :`.pretrained` of the companion object:\n",
        "\n",
        "For available pretrained models please see the [`Models Hub`](https://nlp.johnsnowlabs.com/models?)\n",
        "\n",
        "Models from the HuggingFace 🤗 Transformers library are also compatible with\n",
        "Spark NLP 🚀.\n",
        "To see which models are compatible and how to import them see [`Import Transformers into Spark NLP` 🚀](https://github.com/JohnSnowLabs/spark-nlp/discussions/5669)"
      ],
      "metadata": {
        "id": "_-hGkZ7_cAZE"
      }
    },
    {
      "cell_type": "markdown",
      "source": [
        "## **🎬 Colab Setup**"
      ],
      "metadata": {
        "id": "E8qy2MI2XySv"
      }
    },
    {
      "cell_type": "code",
      "source": [
        "from google.colab import files\n",
        "print('Please Upload your John Snow Labs License using the button below')\n",
        "license_keys = files.upload()"
      ],
      "metadata": {
        "id": "HJGAUiIqBI94"
      },
      "execution_count": null,
      "outputs": []
    },
    {
      "cell_type": "code",
      "execution_count": null,
      "metadata": {
        "id": "HuLFt0OdBkuo"
      },
      "outputs": [],
      "source": [
        "# Install the johnsnowlabs library to access Spark-OCR and Spark-NLP for Healthcare, Finance, and Legal.\n",
        "! pip install -q johnsnowlabs==5.1.4"
      ]
    },
    {
      "cell_type": "code",
      "source": [
        "from johnsnowlabs import nlp, medical, visual\n",
        "\n",
        "# After uploading your license run this to install all licensed Python Wheels and pre-download Jars the Spark Session JVM\n",
        "nlp.install()"
      ],
      "metadata": {
        "id": "SBhRUP21BI7R"
      },
      "execution_count": null,
      "outputs": []
    },
    {
      "cell_type": "code",
      "source": [
        "from johnsnowlabs import nlp, medical, visual\n",
        "import pandas as pd\n",
        "\n",
        "# Automatically load license data and start a session with all jars user has access to\n",
        "spark = nlp.start()"
      ],
      "metadata": {
        "id": "a_1HS4iCB5ie"
      },
      "execution_count": null,
      "outputs": []
    },
    {
      "cell_type": "code",
      "source": [
        "spark"
      ],
      "metadata": {
        "colab": {
          "base_uri": "https://localhost:8080/",
          "height": 240
        },
        "id": "aok3umndL-H-",
        "outputId": "e16d5b51-c336-4a37-baba-e7249c4bdd5e"
      },
      "execution_count": null,
      "outputs": [
        {
          "output_type": "execute_result",
          "data": {
            "text/plain": [
              "<pyspark.sql.session.SparkSession at 0x7e32b90510f0>"
            ],
            "text/html": [
              "\n",
              "            <div>\n",
              "                <p><b>SparkSession - in-memory</b></p>\n",
              "                \n",
              "        <div>\n",
              "            <p><b>SparkContext</b></p>\n",
              "\n",
              "            <p><a href=\"http://1094e69f2ffe:4040\">Spark UI</a></p>\n",
              "\n",
              "            <dl>\n",
              "              <dt>Version</dt>\n",
              "                <dd><code>v3.1.2</code></dd>\n",
              "              <dt>Master</dt>\n",
              "                <dd><code>local[*]</code></dd>\n",
              "              <dt>AppName</dt>\n",
              "                <dd><code>John-Snow-Labs-Spark-Session 🚀 with Jars for: 🚀Spark-NLP==5.1.1, 💊Spark-Healthcare==5.1.1, running on ⚡ PySpark==3.1.2</code></dd>\n",
              "            </dl>\n",
              "        </div>\n",
              "        \n",
              "            </div>\n",
              "        "
            ]
          },
          "metadata": {},
          "execution_count": 5
        }
      ]
    },
    {
      "cell_type": "markdown",
      "source": [
        "## **🖨️ Input/Output Annotation Types**\n",
        "\n"
      ],
      "metadata": {
        "id": "f_4conOIYj6D"
      }
    },
    {
      "cell_type": "markdown",
      "source": [
        "- Input: `DOCUMENT, TOKEN`\n",
        "\n",
        "- Output: `CATEGORY`"
      ],
      "metadata": {
        "id": "0Fc_3iRwYk8N"
      }
    },
    {
      "cell_type": "markdown",
      "source": [
        "## **🖨️ Running Classifier**\n",
        "\n"
      ],
      "metadata": {
        "id": "yK3ordkxev8X"
      }
    },
    {
      "cell_type": "code",
      "source": [
        "document_assembler = nlp.DocumentAssembler() \\\n",
        "    .setInputCol(\"text\") \\\n",
        "    .setOutputCol(\"document\")\n",
        "\n",
        "tokenizer = nlp.Tokenizer() \\\n",
        "    .setInputCols([\"document\"]) \\\n",
        "    .setOutputCol(\"token\")\n",
        "\n",
        "sequenceClassifier = medical.DistilBertForSequenceClassification.pretrained(\"distilbert_sequence_classifier_ade\", \"en\", \"clinical/models\")\\\n",
        "    .setInputCols([\"document\",\"token\"])\\\n",
        "    .setOutputCol(\"class\")\n",
        "\n",
        "pipeline = nlp.Pipeline(stages=[\n",
        "    document_assembler,\n",
        "    tokenizer,\n",
        "    sequenceClassifier\n",
        "])\n",
        "\n",
        "model = pipeline.fit(spark.createDataFrame([['']]).toDF(\"text\"))\n"
      ],
      "metadata": {
        "colab": {
          "base_uri": "https://localhost:8080/"
        },
        "id": "EFVK8wWODWjX",
        "outputId": "c16687ec-394d-484c-ea0b-ba37c304d2b9"
      },
      "execution_count": null,
      "outputs": [
        {
          "output_type": "stream",
          "name": "stdout",
          "text": [
            "distilbert_sequence_classifier_ade download started this may take some time.\n",
            "[OK!]\n"
          ]
        }
      ]
    },
    {
      "cell_type": "code",
      "source": [
        "data = spark.createDataFrame([[\"I have an allergic reaction to vancomycin so I have itchy skin, sore throat/burning/itching, numbness of tongue and gums.I would not recommend this drug to anyone, especially since I have never had such an adverse reaction to any other medication.\"],\n",
        "                              [\"Religare Capital Ranbaxy has been accepting approval for Diovan since 2012\"]]).toDF(\"text\")\n",
        "\n",
        "result = model.transform(data)\n",
        "\n",
        "result.select(\"text\", \"class.result\").show(truncate=100)"
      ],
      "metadata": {
        "id": "JYuDz76Lf40q",
        "colab": {
          "base_uri": "https://localhost:8080/"
        },
        "outputId": "92ea16a9-5327-4c73-afd0-b8f5c77b4cb0"
      },
      "execution_count": null,
      "outputs": [
        {
          "output_type": "stream",
          "name": "stdout",
          "text": [
            "+----------------------------------------------------------------------------------------------------+-------+\n",
            "|                                                                                                text| result|\n",
            "+----------------------------------------------------------------------------------------------------+-------+\n",
            "|I have an allergic reaction to vancomycin so I have itchy skin, sore throat/burning/itching, numb...| [True]|\n",
            "|                          Religare Capital Ranbaxy has been accepting approval for Diovan since 2012|[False]|\n",
            "+----------------------------------------------------------------------------------------------------+-------+\n",
            "\n"
          ]
        }
      ]
    },
    {
      "cell_type": "markdown",
      "source": [
        "## **🔎 Parameters**"
      ],
      "metadata": {
        "id": "rgCCuKLdepW9"
      }
    },
    {
      "cell_type": "markdown",
      "source": [
        "'`batchSize`',  'Size of every batch': default: 8,\n",
        "\n",
        "'`coalesceSentences`': \"Instead of 1 class per sentence (if inputCols is '''sentence''' output 1 class per document by averaging probabilities in all sentences.\" default: False,\n",
        "\n",
        "'`maxSentenceLength`', 'Max sentence length to process', default: 128\n",
        "\n",
        "`caseSensitive`', 'whether to ignore case in tokens for embeddings matching',default: True,"
      ],
      "metadata": {
        "id": "dT1xRgsLCAzc"
      }
    },
    {
      "cell_type": "code",
      "source": [
        "sequenceClassifier.extractParamMap()\n"
      ],
      "metadata": {
        "colab": {
          "base_uri": "https://localhost:8080/"
        },
        "id": "e8ksyBIMfBSy",
        "outputId": "9c26e2d0-2298-4207-a215-6a8d2b093708"
      },
      "execution_count": null,
      "outputs": [
        {
          "output_type": "execute_result",
          "data": {
            "text/plain": [
              "{Param(parent='MedicalDistilBertForSequenceClassification_60da933a49f9', name='batchSize', doc='Size of every batch'): 8,\n",
              " Param(parent='MedicalDistilBertForSequenceClassification_60da933a49f9', name='coalesceSentences', doc=\"Instead of 1 class per sentence (if inputCols is '''sentence''') output 1 class per document by averaging probabilities in all sentences.\"): False,\n",
              " Param(parent='MedicalDistilBertForSequenceClassification_60da933a49f9', name='engine', doc='Deep Learning engine used for this model'): 'tensorflow',\n",
              " Param(parent='MedicalDistilBertForSequenceClassification_60da933a49f9', name='lazyAnnotator', doc='Whether this AnnotatorModel acts as lazy in RecursivePipelines'): False,\n",
              " Param(parent='MedicalDistilBertForSequenceClassification_60da933a49f9', name='maxSentenceLength', doc='Max sentence length to process'): 128,\n",
              " Param(parent='MedicalDistilBertForSequenceClassification_60da933a49f9', name='caseSensitive', doc='whether to ignore case in tokens for embeddings matching'): True,\n",
              " Param(parent='MedicalDistilBertForSequenceClassification_60da933a49f9', name='inputCols', doc='previous annotations columns, if renamed'): ['document',\n",
              "  'token'],\n",
              " Param(parent='MedicalDistilBertForSequenceClassification_60da933a49f9', name='outputCol', doc='output annotation column. can be left default.'): 'class'}"
            ]
          },
          "metadata": {},
          "execution_count": 8
        }
      ]
    },
    {
      "cell_type": "markdown",
      "source": [
        "### ▶ `batchSize`"
      ],
      "metadata": {
        "id": "x3_VVX8niIyW"
      }
    },
    {
      "cell_type": "markdown",
      "source": [
        "\n",
        "\n",
        "```\n",
        "    batchSize\n",
        "        Batch size. Large values allows faster processing but requires more\n",
        "        memory, by default 8\n",
        "```\n",
        "\n"
      ],
      "metadata": {
        "id": "RRbN20ACseQb"
      }
    },
    {
      "cell_type": "code",
      "source": [
        "document_assembler = nlp.DocumentAssembler() \\\n",
        "    .setInputCol(\"text\") \\\n",
        "    .setOutputCol(\"document\")\n",
        "\n",
        "tokenizer = nlp.Tokenizer() \\\n",
        "    .setInputCols([\"document\"]) \\\n",
        "    .setOutputCol(\"token\")\n",
        "\n",
        "sequenceClassifier = medical.DistilBertForSequenceClassification.pretrained(\"distilbert_sequence_classifier_ade\", \"en\", \"clinical/models\")\\\n",
        "    .setInputCols([\"document\",\"token\"])\\\n",
        "    .setOutputCol(\"class\")\\\n",
        "    .setBatchSize(4)\n",
        "\n",
        "pipeline = nlp.Pipeline(stages=[\n",
        "    document_assembler,\n",
        "    tokenizer,\n",
        "    sequenceClassifier\n",
        "])\n",
        "\n",
        "model = pipeline.fit(spark.createDataFrame([[\"\"]]).toDF(\"text\"))\n"
      ],
      "metadata": {
        "colab": {
          "base_uri": "https://localhost:8080/"
        },
        "id": "VV75kIpUfBWP",
        "outputId": "3da53763-d962-4ea9-d56c-22a45139dfd1"
      },
      "execution_count": null,
      "outputs": [
        {
          "output_type": "stream",
          "name": "stdout",
          "text": [
            "distilbert_sequence_classifier_ade download started this may take some time.\n",
            "[OK!]\n"
          ]
        }
      ]
    },
    {
      "cell_type": "code",
      "source": [
        "data = spark.createDataFrame([[\"I have an allergic reaction to vancomycin so I have itchy skin, sore throat/burning/itching, numbness of tongue and gums.I would not recommend this drug to anyone, especially since I have never had such an adverse reaction to any other medication.\"],\n",
        "                              [\"Religare Capital Ranbaxy has been accepting approval for Diovan since 2012\"]]*100).toDF(\"text\")"
      ],
      "metadata": {
        "id": "BbVisFMD4an0"
      },
      "execution_count": null,
      "outputs": []
    },
    {
      "cell_type": "code",
      "source": [
        "%%time\n",
        "result = model.transform(data)\n",
        "result.write.mode(\"overwrite\").format(\"noop\").save()\n",
        "# result.select(\"text\", \"classes.result\").show(truncate=False)"
      ],
      "metadata": {
        "colab": {
          "base_uri": "https://localhost:8080/"
        },
        "id": "OSgOS4HtrjYd",
        "outputId": "5bfe75c2-2107-425f-fe5e-ec22b78a0452"
      },
      "execution_count": null,
      "outputs": [
        {
          "output_type": "stream",
          "name": "stdout",
          "text": [
            "CPU times: user 76.4 ms, sys: 3.77 ms, total: 80.2 ms\n",
            "Wall time: 9.26 s\n"
          ]
        }
      ]
    },
    {
      "cell_type": "code",
      "source": [
        "document_assembler = nlp.DocumentAssembler() \\\n",
        "    .setInputCol(\"text\") \\\n",
        "    .setOutputCol(\"document\")\n",
        "\n",
        "tokenizer = nlp.Tokenizer() \\\n",
        "    .setInputCols([\"document\"]) \\\n",
        "    .setOutputCol(\"token\")\n",
        "\n",
        "sequenceClassifier = medical.DistilBertForSequenceClassification.pretrained(\"distilbert_sequence_classifier_ade\", \"en\", \"clinical/models\")\\\n",
        "    .setInputCols([\"document\",\"token\"])\\\n",
        "    .setOutputCol(\"class\")\\\n",
        "    .setBatchSize(64)\n",
        "\n",
        "pipeline2 = nlp.Pipeline(stages=[\n",
        "    document_assembler,\n",
        "    tokenizer,\n",
        "    sequenceClassifier\n",
        "])\n",
        "\n",
        "model2 = pipeline2.fit(spark.createDataFrame([[\"\"]]).toDF(\"text\"))"
      ],
      "metadata": {
        "id": "JUI1FGRqso1t",
        "colab": {
          "base_uri": "https://localhost:8080/"
        },
        "outputId": "83b451d8-b87b-487b-aa40-52c26b75bf63"
      },
      "execution_count": null,
      "outputs": [
        {
          "output_type": "stream",
          "name": "stdout",
          "text": [
            "distilbert_sequence_classifier_ade download started this may take some time.\n",
            "[OK!]\n"
          ]
        }
      ]
    },
    {
      "cell_type": "code",
      "source": [
        "data = spark.createDataFrame([[\"I have an allergic reaction to vancomycin so I have itchy skin, sore throat/burning/itching, numbness of tongue and gums.I would not recommend this drug to anyone, especially since I have never had such an adverse reaction to any other medication.\"],\n",
        "                              [\"Religare Capital Ranbaxy has been accepting approval for Diovan since 2012\"]]*100).toDF(\"text\")"
      ],
      "metadata": {
        "id": "EzvBg7J8so4i"
      },
      "execution_count": null,
      "outputs": []
    },
    {
      "cell_type": "code",
      "source": [
        "%%time\n",
        "result2 = model2.transform(data)\n",
        "result2.write.mode(\"overwrite\").format(\"noop\").save()\n",
        "# result.select(\"text\", \"classes.result\").show(truncate=False)"
      ],
      "metadata": {
        "id": "vW5fzmo-so7f",
        "colab": {
          "base_uri": "https://localhost:8080/"
        },
        "outputId": "2ece3406-5357-4bac-93a8-a6cc6802ffbc"
      },
      "execution_count": null,
      "outputs": [
        {
          "output_type": "stream",
          "name": "stdout",
          "text": [
            "CPU times: user 32.4 ms, sys: 1.83 ms, total: 34.3 ms\n",
            "Wall time: 3.23 s\n"
          ]
        }
      ]
    },
    {
      "cell_type": "markdown",
      "source": [
        "### ▶`setCoalesceSentences`"
      ],
      "metadata": {
        "id": "j9rRlgT3pdKZ"
      }
    },
    {
      "cell_type": "markdown",
      "source": [
        "```\n",
        "Instead of 1 class per sentence (if inputCols is '''sentence''') output 1 class per document by averaging probabilities in all sentences.\n",
        "Due to max sequence length limit in almost all transformer models such as BERT (512 tokens), this parameter helps feeding all the sentences\n",
        " into the model and averaging all the probabilities for the entire document instead of probabilities per sentence.\n",
        " ```\n",
        " **(Default: False)**\n",
        "\n",
        " in next to runs, the result column shows the difference\n",
        "\n"
      ],
      "metadata": {
        "id": "A2avaG9qqCvd"
      }
    },
    {
      "cell_type": "code",
      "source": [
        "document_assembler = nlp.DocumentAssembler() \\\n",
        "    .setInputCol(\"text\") \\\n",
        "    .setOutputCol(\"document\")\n",
        "\n",
        "sentenceDetector = nlp.SentenceDetector()\\\n",
        "    .setInputCols([\"document\"])\\\n",
        "    .setOutputCol(\"sentence\")\n",
        "\n",
        "\n",
        "tokenizer = nlp.Tokenizer() \\\n",
        "    .setInputCols([\"sentence\"]) \\\n",
        "    .setOutputCol(\"token\")\n",
        "\n",
        "sequenceClassifier = medical.DistilBertForSequenceClassification.pretrained(\"distilbert_sequence_classifier_ade\", \"en\", \"clinical/models\")\\\n",
        "    .setInputCols([\"sentence\",\"token\"])\\\n",
        "    .setOutputCol(\"class_\")\\\n",
        "    .setCoalesceSentences(False)  # set False\n",
        "\n",
        "pipeline = nlp.Pipeline(stages=[\n",
        "    document_assembler,\n",
        "    sentenceDetector,\n",
        "    tokenizer,\n",
        "    sequenceClassifier\n",
        "])\n",
        "\n",
        "model = pipeline.fit(spark.createDataFrame([[\"\"]]).toDF(\"text\"))\n"
      ],
      "metadata": {
        "colab": {
          "base_uri": "https://localhost:8080/"
        },
        "id": "ydZvStLwnuKc",
        "outputId": "187904c1-95ee-4fd8-f109-f46c95e2ad88"
      },
      "execution_count": null,
      "outputs": [
        {
          "output_type": "stream",
          "name": "stdout",
          "text": [
            "distilbert_sequence_classifier_ade download started this may take some time.\n",
            "[OK!]\n"
          ]
        }
      ]
    },
    {
      "cell_type": "code",
      "source": [
        "data = spark.createDataFrame([\n",
        "    [\n",
        "        \"I have an allergic reaction to vancomycin so I have itchy skin, sore throat/burning/itching, numbness of tongue and gums.I would not recommend this drug to anyone, especially since I have never had such an adverse reaction to any other medication. \" \\\n",
        "        \"Religare Capital Ranbaxy has been accepting approval for Diovan since 2012.\",\n",
        "        ],\n",
        "    [\"Religare Capital Ranbaxy has been accepting approval for Diovan since 2012\"]]).toDF(\"text\")\n",
        "\n",
        "result = model.transform(data)\n",
        "result.select(result.text, result.class_.result).show()"
      ],
      "metadata": {
        "colab": {
          "base_uri": "https://localhost:8080/"
        },
        "id": "2aoW3z7ZoE8C",
        "outputId": "aab27133-d8c4-4a72-ebfd-64f917f581cf"
      },
      "execution_count": null,
      "outputs": [
        {
          "output_type": "stream",
          "name": "stdout",
          "text": [
            "+--------------------+-------------+\n",
            "|                text|class_.result|\n",
            "+--------------------+-------------+\n",
            "|I have an allergi...|[True, False]|\n",
            "|Religare Capital ...|      [False]|\n",
            "+--------------------+-------------+\n",
            "\n"
          ]
        }
      ]
    },
    {
      "cell_type": "code",
      "source": [
        "df=result.select(result.class_.metadata).toPandas()\n",
        "df['class_.metadata'].iloc[0]  # first data has two sentence, and their confidence levels are below:\n",
        "#when .setCoalesceSentences(True), the average of two sentence will be False\n"
      ],
      "metadata": {
        "colab": {
          "base_uri": "https://localhost:8080/"
        },
        "id": "oz5Q-xRHQv9i",
        "outputId": "07b7cc3d-1a9e-453d-b9c2-1e1238ff0bd6"
      },
      "execution_count": null,
      "outputs": [
        {
          "output_type": "execute_result",
          "data": {
            "text/plain": [
              "[{'sentence': '0', 'Some(False)': '0.02774548', 'Some(True)': '0.9722545'},\n",
              " {'sentence': '1', 'Some(False)': '0.98720175', 'Some(True)': '0.012798243'}]"
            ]
          },
          "metadata": {},
          "execution_count": 17
        }
      ]
    },
    {
      "cell_type": "code",
      "source": [
        "document_assembler = nlp.DocumentAssembler() \\\n",
        "    .setInputCol(\"text\") \\\n",
        "    .setOutputCol(\"document\")\n",
        "\n",
        "sentenceDetector = nlp.SentenceDetector()\\\n",
        "    .setInputCols([\"document\"])\\\n",
        "    .setOutputCol(\"sentence\")\n",
        "\n",
        "\n",
        "tokenizer = nlp.Tokenizer() \\\n",
        "    .setInputCols([\"sentence\"]) \\\n",
        "    .setOutputCol(\"token\")\n",
        "\n",
        "sequenceClassifier = medical.DistilBertForSequenceClassification.pretrained(\"distilbert_sequence_classifier_ade\", \"en\", \"clinical/models\")\\\n",
        "    .setInputCols([\"sentence\",\"token\"])\\\n",
        "    .setOutputCol(\"class\")\\\n",
        "    .setCoalesceSentences(True)  # set True\n",
        "\n",
        "\n",
        "pipeline = nlp.Pipeline(stages=[\n",
        "    document_assembler,\n",
        "    sentenceDetector,\n",
        "    tokenizer,\n",
        "    sequenceClassifier\n",
        "])\n",
        "\n",
        "model = pipeline.fit(spark.createDataFrame([[\"\"]]).toDF(\"text\"))\n"
      ],
      "metadata": {
        "colab": {
          "base_uri": "https://localhost:8080/"
        },
        "id": "jEoYwxEjoE_A",
        "outputId": "54373e41-b08e-49f5-eb77-6f7ad496f203"
      },
      "execution_count": null,
      "outputs": [
        {
          "output_type": "stream",
          "name": "stdout",
          "text": [
            "distilbert_sequence_classifier_ade download started this may take some time.\n",
            "[OK!]\n"
          ]
        }
      ]
    },
    {
      "cell_type": "code",
      "source": [
        "data = spark.createDataFrame([\n",
        "    [\n",
        "        \"I have an allergic reaction to vancomycin so I have itchy skin, sore throat/burning/itching, numbness of tongue and gums.I would not recommend this drug to anyone, especially since I have never had such an adverse reaction to any other medication. \" \\\n",
        "        \"Religare Capital Ranbaxy has been accepting approval for Diovan since 2012.\",\n",
        "        ],\n",
        "    [\"Religare Capital Ranbaxy has been accepting approval for Diovan since 2012\"]]).toDF(\"text\")\n",
        "\n",
        "result = model.transform(data)\n",
        "\n",
        "result.select(\"text\", \"class.result\").show(truncate=60)"
      ],
      "metadata": {
        "colab": {
          "base_uri": "https://localhost:8080/"
        },
        "id": "uPBvq-k7q4Bi",
        "outputId": "a5e4d555-525b-4555-f6eb-bd3ab77b8e2f"
      },
      "execution_count": null,
      "outputs": [
        {
          "output_type": "stream",
          "name": "stdout",
          "text": [
            "+------------------------------------------------------------+-------+\n",
            "|                                                        text| result|\n",
            "+------------------------------------------------------------+-------+\n",
            "|I have an allergic reaction to vancomycin so I have itchy...|[False]|\n",
            "|Religare Capital Ranbaxy has been accepting approval for ...|[False]|\n",
            "+------------------------------------------------------------+-------+\n",
            "\n"
          ]
        }
      ]
    },
    {
      "cell_type": "code",
      "source": [
        "# As shown above, first document having two sentence predicted as False"
      ],
      "metadata": {
        "id": "Qdk9f-2wVeax"
      },
      "execution_count": null,
      "outputs": []
    },
    {
      "cell_type": "markdown",
      "source": [
        "### ▶`setMaxSentenceLength`"
      ],
      "metadata": {
        "id": "rEMqFRSUuoVp"
      }
    },
    {
      "cell_type": "markdown",
      "source": [
        "```\n",
        "Sets max sentence length to process, by default 128\n",
        " ```\n",
        "\n"
      ],
      "metadata": {
        "id": "Jm6Rh859uoWG"
      }
    },
    {
      "cell_type": "code",
      "source": [
        "document_assembler = nlp.DocumentAssembler() \\\n",
        "    .setInputCol(\"text\") \\\n",
        "    .setOutputCol(\"document\")\n",
        "\n",
        "\n",
        "\n",
        "tokenizer = nlp.Tokenizer() \\\n",
        "    .setInputCols([\"document\"]) \\\n",
        "    .setOutputCol(\"token\")\n",
        "\n",
        "sequenceClassifier = medical.DistilBertForSequenceClassification.pretrained(\"distilbert_sequence_classifier_ade\", \"en\", \"clinical/models\")\\\n",
        "    .setInputCols([\"document\",\"token\"])\\\n",
        "    .setOutputCol(\"class_\")\\\n",
        "    .setMaxSentenceLength(2)  # set 2\n",
        "\n",
        "pipeline = nlp.Pipeline(stages=[\n",
        "    document_assembler,\n",
        "    tokenizer,\n",
        "    sequenceClassifier\n",
        "])\n",
        "\n",
        "model = pipeline.fit(spark.createDataFrame([[\"\"]]).toDF(\"text\"))\n",
        "data = spark.createDataFrame([\n",
        "    [\n",
        "        \"I have an allergic reaction to vancomycin so I have itchy skin, sore throat/burning/itching, numbness of tongue and gums.I would not recommend this drug to anyone, especially since I have never had such an adverse reaction to any other medication. \" \\\n",
        "        \"Religare Capital Ranbaxy has been accepting approval for Diovan since 2012.\",\n",
        "        ],\n",
        "    [\"Religare Capital Ranbaxy has been accepting approval for Diovan since 2012\"]]).toDF(\"text\")\n",
        "\n",
        "result = model.transform(data)\n",
        "\n",
        "result.select(\"text\", \"class_.result\").show(truncate=60)\n"
      ],
      "metadata": {
        "colab": {
          "base_uri": "https://localhost:8080/"
        },
        "id": "bYTDoZj_CsrJ",
        "outputId": "df4f5c97-2902-4b7d-fcfc-19205aeb35d3"
      },
      "execution_count": null,
      "outputs": [
        {
          "output_type": "stream",
          "name": "stdout",
          "text": [
            "distilbert_sequence_classifier_ade download started this may take some time.\n",
            "[OK!]\n",
            "+------------------------------------------------------------+------+\n",
            "|                                                        text|result|\n",
            "+------------------------------------------------------------+------+\n",
            "|I have an allergic reaction to vancomycin so I have itchy...|[True]|\n",
            "|Religare Capital Ranbaxy has been accepting approval for ...|[True]|\n",
            "+------------------------------------------------------------+------+\n",
            "\n"
          ]
        }
      ]
    },
    {
      "cell_type": "code",
      "source": [
        "# for testing purpose, maxlength set to 2 and results are as shown above: True"
      ],
      "metadata": {
        "id": "VFDGSxS0JAYy"
      },
      "execution_count": null,
      "outputs": []
    },
    {
      "cell_type": "markdown",
      "source": [
        "### ▶`    caseSensitive`"
      ],
      "metadata": {
        "id": "r6XoZ8Gkwd4x"
      }
    },
    {
      "cell_type": "markdown",
      "source": [
        "`Whether to ignore case in tokens for embeddings matching` **default True**"
      ],
      "metadata": {
        "id": "ufimVG0kwi7J"
      }
    },
    {
      "cell_type": "code",
      "source": [
        "document_assembler = nlp.DocumentAssembler() \\\n",
        "    .setInputCol(\"text\")\\\n",
        "    .setOutputCol(\"document\")\n",
        "\n",
        "tokenizer = nlp.Tokenizer() \\\n",
        "    .setInputCols([\"document\"]) \\\n",
        "    .setOutputCol(\"token\")\n",
        "\n",
        "sequenceClassifier = medical.DistilBertForSequenceClassification.pretrained(\"distilbert_sequence_classifier_ade\", \"en\", \"clinical/models\")\\\n",
        "    .setInputCols([\"document\",\"token\"])\\\n",
        "    .setOutputCol(\"class_\")\\\n",
        "    .setCaseSensitive(False)  # set False\n",
        "\n",
        "pipeline = nlp.Pipeline(stages=[\n",
        "    document_assembler,\n",
        "    tokenizer,\n",
        "    sequenceClassifier\n",
        "])\n",
        "\n",
        "model = pipeline.fit(spark.createDataFrame([[\"\"]]).toDF(\"text\"))\n",
        "data = spark.createDataFrame([\n",
        "    [\n",
        "        \"I have an allergic reaction to vancomycin so I have itchy skin, sore throat/burning/itching, numbness of tongue and gums.I would not recommend this drug to anyone, especially since I have never had such an adverse reaction to any other medication. \" \\\n",
        "        \"Religare Capital Ranbaxy has been accepting approval for Diovan since 2012.\",\n",
        "        ],\n",
        "    [\"Religare Capital Ranbaxy has been accepting approval for Diovan since 2012\"]]).toDF(\"text\")\n",
        "\n",
        "result = model.transform(data)\n",
        "\n",
        "result.select(\"text\", \"class_.result\").show(truncate=60)\n"
      ],
      "metadata": {
        "id": "42lT8i2tCtN3",
        "colab": {
          "base_uri": "https://localhost:8080/"
        },
        "outputId": "e31315ab-8436-4488-f1ce-b3330de5386b"
      },
      "execution_count": null,
      "outputs": [
        {
          "output_type": "stream",
          "name": "stdout",
          "text": [
            "distilbert_sequence_classifier_ade download started this may take some time.\n",
            "[OK!]\n",
            "+------------------------------------------------------------+------+\n",
            "|                                                        text|result|\n",
            "+------------------------------------------------------------+------+\n",
            "|I have an allergic reaction to vancomycin so I have itchy...|[True]|\n",
            "|Religare Capital Ranbaxy has been accepting approval for ...|[True]|\n",
            "+------------------------------------------------------------+------+\n",
            "\n"
          ]
        }
      ]
    }
  ]
}
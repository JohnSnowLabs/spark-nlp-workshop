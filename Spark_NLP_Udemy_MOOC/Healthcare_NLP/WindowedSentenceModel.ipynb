{
  "nbformat": 4,
  "nbformat_minor": 0,
  "metadata": {
    "colab": {
      "provenance": [],
      "toc_visible": true
    },
    "kernelspec": {
      "name": "python3",
      "display_name": "Python 3"
    },
    "language_info": {
      "name": "python"
    }
  },
  "cells": [
    {
      "cell_type": "markdown",
      "source": [
        "![JohnSnowLabs](https://nlp.johnsnowlabs.com/assets/images/logo.png)"
      ],
      "metadata": {
        "id": "wid7qBqjp2jl"
      }
    },
    {
      "cell_type": "markdown",
      "source": [
        "# **WindowedSentenceModel**"
      ],
      "metadata": {
        "id": "8-hl3s1_p6ry"
      }
    },
    {
      "cell_type": "markdown",
      "source": [
        "This notebook will cover the different parameters and usages of `WindowedSentenceModel`. This annotator helps you merge the previous and following sentences of a given piece of text, so that you add the context surrounding them.\n",
        "\n",
        "\n",
        "**📖 Learning Objectives:**\n",
        "\n",
        "1. Understand how it is super useful when using for especially context-rich analyses that require a deeper understanding of the language being used.\n",
        "\n",
        "2. Become comfortable using the different parameters of the annotator.\n",
        "\n",
        "\n",
        "**🔗 Helpful Links:**\n",
        "\n",
        "- Documentation : [WindowedSentenceModel](https://nlp.johnsnowlabs.com/docs/en/licensed_annotators#windowedsentencemodel)\n",
        "\n",
        "- Python Docs : [WindowedSentenceModel](https://nlp.johnsnowlabs.com/licensed/api/python/reference/autosummary/sparknlp_jsl/annotator/windowed/windowed_sentence/index.html)\n",
        "\n",
        "- Scala Docs : [WindowedSentenceModel](https://nlp.johnsnowlabs.com/licensed/api/com/johnsnowlabs/nlp/annotators/windowed/WindowedSentenceModel.html)\n",
        "\n",
        "- For extended examples of usage, see the [Spark NLP Workshop repository](https://github.com/JohnSnowLabs/spark-nlp-workshop/tree/master/tutorials/Certification_Trainings/Healthcare)."
      ],
      "metadata": {
        "id": "dwGY8yjhqDUn"
      }
    },
    {
      "cell_type": "markdown",
      "metadata": {
        "id": "MfkkKkbVF309"
      },
      "source": [
        "## **🎬 Colab Setup**"
      ]
    },
    {
      "cell_type": "code",
      "execution_count": null,
      "metadata": {
        "id": "iMkMQtZNF2n-"
      },
      "outputs": [],
      "source": [
        "!pip install -q johnsnowlabs"
      ]
    },
    {
      "cell_type": "code",
      "source": [
        "from google.colab import files\n",
        "print('Please Upload your John Snow Labs License using the button below')\n",
        "license_keys = files.upload()"
      ],
      "metadata": {
        "id": "nwJyFUMXkSIm"
      },
      "execution_count": null,
      "outputs": []
    },
    {
      "cell_type": "code",
      "source": [
        "from johnsnowlabs import nlp\n",
        "\n",
        "nlp.install()"
      ],
      "metadata": {
        "id": "NulWi4_f4GN5"
      },
      "execution_count": null,
      "outputs": []
    },
    {
      "cell_type": "code",
      "source": [
        "from johnsnowlabs import nlp, medical\n",
        "import pyspark.sql.functions as F\n",
        "import pandas as pd\n",
        "\n",
        "spark = nlp.start()"
      ],
      "metadata": {
        "id": "2GLXxe1Q0Iln"
      },
      "execution_count": null,
      "outputs": []
    },
    {
      "cell_type": "markdown",
      "source": [
        "## **🖨️ Input/Output Annotation Types**"
      ],
      "metadata": {
        "id": "9Fbbk1bqcuA5"
      }
    },
    {
      "cell_type": "markdown",
      "source": [
        "- Input: `DOCUMENT`\n",
        "\n",
        "- Output: `DOCUMENT`"
      ],
      "metadata": {
        "id": "0yFIrr5acsiU"
      }
    },
    {
      "cell_type": "markdown",
      "source": [
        "## **🔎 Parameters**\n"
      ],
      "metadata": {
        "id": "AZZA_Qe-sWRd"
      }
    },
    {
      "cell_type": "markdown",
      "source": [
        "- `WindowSize` (int) : Sets size of the sliding window.\n",
        "\n",
        "- `GlueString` (string) : Sets string to use to join the neighboring elements together."
      ],
      "metadata": {
        "id": "HO-NDwbFsZlP"
      }
    },
    {
      "cell_type": "markdown",
      "source": [
        "### `setWindowSize()`"
      ],
      "metadata": {
        "id": "rcvc7lNHVsJa"
      }
    },
    {
      "cell_type": "code",
      "source": [
        "from johnsnowlabs import medical, nlp\n",
        "\n",
        "documentAssembler =  nlp.DocumentAssembler()\\\n",
        "    .setInputCol(\"text\")\\\n",
        "    .setOutputCol(\"document\")\n",
        "\n",
        "sentenceDetector =  nlp.SentenceDetector()\\\n",
        "    .setInputCols(\"document\")\\\n",
        "    .setOutputCol(\"sentence\")\n",
        "\n",
        "windowedSentence1 =  medical.WindowedSentenceModel()\\\n",
        "    .setWindowSize(1)\\\n",
        "    .setInputCols(\"sentence\")\\\n",
        "    .setOutputCol(\"window_1\")\n",
        "\n",
        "windowedSentence2 =  medical.WindowedSentenceModel()\\\n",
        "    .setWindowSize(2)\\\n",
        "    .setInputCols(\"sentence\")\\\n",
        "    .setOutputCol(\"window_2\")\n",
        "\n",
        "pipeline = nlp.Pipeline(stages=[\n",
        "    documentAssembler,\n",
        "    sentenceDetector,\n",
        "    windowedSentence1,\n",
        "    windowedSentence2\n",
        "    ])\n",
        "\n",
        "\n",
        "sample_text = \"\"\"The patient was admitted on Monday.\n",
        "She has a right-sided pleural effusion for thoracentesis.\n",
        "Her Coumadin was placed on hold.\n",
        "A repeat echocardiogram was checked.\n",
        "She was started on prophylaxis for DVT.\n",
        "Her CT scan from March 2006 prior to her pericardectomy.\n",
        "It already shows bilateral plural effusions.\"\"\"\n",
        "\n",
        "data = spark.createDataFrame([[sample_text]]).toDF(\"text\")\n",
        "\n",
        "result = pipeline.fit(data).transform(data)"
      ],
      "metadata": {
        "id": "A0SWKZSMVsk2"
      },
      "execution_count": null,
      "outputs": []
    },
    {
      "cell_type": "code",
      "source": [
        "result.select(F.explode('window_1')).select('col.result').show(truncate=False)"
      ],
      "metadata": {
        "colab": {
          "base_uri": "https://localhost:8080/"
        },
        "id": "cMkBKfTrWD09",
        "outputId": "a449117f-280b-44d6-f039-aad8db7c8c82"
      },
      "execution_count": null,
      "outputs": [
        {
          "output_type": "stream",
          "name": "stdout",
          "text": [
            "+---------------------------------------------------------------------------------------------------------------------------------------------+\n",
            "|result                                                                                                                                       |\n",
            "+---------------------------------------------------------------------------------------------------------------------------------------------+\n",
            "|The patient was admitted on Monday. She has a right-sided pleural effusion for thoracentesis.                                                |\n",
            "|The patient was admitted on Monday. She has a right-sided pleural effusion for thoracentesis. Her Coumadin was placed on hold.               |\n",
            "|She has a right-sided pleural effusion for thoracentesis. Her Coumadin was placed on hold. A repeat echocardiogram was checked.              |\n",
            "|Her Coumadin was placed on hold. A repeat echocardiogram was checked. She was started on prophylaxis for DVT.                                |\n",
            "|A repeat echocardiogram was checked. She was started on prophylaxis for DVT. Her CT scan from March 2006 prior to her pericardectomy.        |\n",
            "|She was started on prophylaxis for DVT. Her CT scan from March 2006 prior to her pericardectomy. It already shows bilateral plural effusions.|\n",
            "|Her CT scan from March 2006 prior to her pericardectomy. It already shows bilateral plural effusions.                                        |\n",
            "+---------------------------------------------------------------------------------------------------------------------------------------------+\n",
            "\n"
          ]
        }
      ]
    },
    {
      "cell_type": "code",
      "source": [
        "result.select(F.explode('window_2')).select('col.result').show(truncate=False)"
      ],
      "metadata": {
        "colab": {
          "base_uri": "https://localhost:8080/"
        },
        "id": "ST7EDUHJWEjO",
        "outputId": "f9a8431c-3c59-4ca1-b941-9d15cc23f4c6"
      },
      "execution_count": null,
      "outputs": [
        {
          "output_type": "stream",
          "name": "stdout",
          "text": [
            "+--------------------------------------------------------------------------------------------------------------------------------------------------------------------------------------------------------------------------------+\n",
            "|result                                                                                                                                                                                                                          |\n",
            "+--------------------------------------------------------------------------------------------------------------------------------------------------------------------------------------------------------------------------------+\n",
            "|The patient was admitted on Monday. She has a right-sided pleural effusion for thoracentesis. Her Coumadin was placed on hold.                                                                                                  |\n",
            "|The patient was admitted on Monday. She has a right-sided pleural effusion for thoracentesis. Her Coumadin was placed on hold. A repeat echocardiogram was checked.                                                             |\n",
            "|The patient was admitted on Monday. She has a right-sided pleural effusion for thoracentesis. Her Coumadin was placed on hold. A repeat echocardiogram was checked. She was started on prophylaxis for DVT.                     |\n",
            "|She has a right-sided pleural effusion for thoracentesis. Her Coumadin was placed on hold. A repeat echocardiogram was checked. She was started on prophylaxis for DVT. Her CT scan from March 2006 prior to her pericardectomy.|\n",
            "|Her Coumadin was placed on hold. A repeat echocardiogram was checked. She was started on prophylaxis for DVT. Her CT scan from March 2006 prior to her pericardectomy. It already shows bilateral plural effusions.             |\n",
            "|A repeat echocardiogram was checked. She was started on prophylaxis for DVT. Her CT scan from March 2006 prior to her pericardectomy. It already shows bilateral plural effusions.                                              |\n",
            "|She was started on prophylaxis for DVT. Her CT scan from March 2006 prior to her pericardectomy. It already shows bilateral plural effusions.                                                                                   |\n",
            "+--------------------------------------------------------------------------------------------------------------------------------------------------------------------------------------------------------------------------------+\n",
            "\n"
          ]
        }
      ]
    },
    {
      "cell_type": "markdown",
      "source": [
        "### `setGlueString()`"
      ],
      "metadata": {
        "id": "kLa9Y8OvY6MS"
      }
    },
    {
      "cell_type": "code",
      "source": [
        "documentAssembler =  nlp.DocumentAssembler()\\\n",
        "    .setInputCol(\"text\")\\\n",
        "    .setOutputCol(\"document\")\n",
        "\n",
        "sentenceDetector =  nlp.SentenceDetector()\\\n",
        "    .setInputCols(\"document\")\\\n",
        "    .setOutputCol(\"sentence\")\n",
        "\n",
        "windowedSentence1 =  medical.WindowedSentenceModel()\\\n",
        "    .setWindowSize(1)\\\n",
        "    .setInputCols(\"sentence\")\\\n",
        "    .setOutputCol(\"window_1\")\\\n",
        "    .setGlueString(\"_\")\n",
        "\n",
        "windowedSentence2 =  medical.WindowedSentenceModel()\\\n",
        "    .setWindowSize(2)\\\n",
        "    .setInputCols(\"sentence\")\\\n",
        "    .setOutputCol(\"window_2\")\n",
        "\n",
        "pipeline = nlp.Pipeline(stages=[\n",
        "    documentAssembler,\n",
        "    sentenceDetector,\n",
        "    windowedSentence1,\n",
        "    windowedSentence2\n",
        "    ])\n",
        "\n",
        "\n",
        "sample_text = \"\"\"The patient was admitted on Monday.\n",
        "She has a right-sided pleural effusion for thoracentesis.\n",
        "Her Coumadin was placed on hold.\n",
        "A repeat echocardiogram was checked.\n",
        "She was started on prophylaxis for DVT.\n",
        "Her CT scan from March 2006 prior to her pericardectomy.\n",
        "It already shows bilateral plural effusions.\"\"\"\n",
        "\n",
        "data = spark.createDataFrame([[sample_text]]).toDF(\"text\")\n",
        "\n",
        "result = pipeline.fit(data).transform(data)\n"
      ],
      "metadata": {
        "id": "MbaYAn3QWIMv"
      },
      "execution_count": null,
      "outputs": []
    },
    {
      "cell_type": "code",
      "source": [
        "result.select(F.explode('window_1')).select('col.result').show(truncate=False)"
      ],
      "metadata": {
        "colab": {
          "base_uri": "https://localhost:8080/"
        },
        "id": "FuhksigTZi8P",
        "outputId": "64685cbb-f21c-4c70-9018-47d296932459"
      },
      "execution_count": null,
      "outputs": [
        {
          "output_type": "stream",
          "name": "stdout",
          "text": [
            "+---------------------------------------------------------------------------------------------------------------------------------------------+\n",
            "|result                                                                                                                                       |\n",
            "+---------------------------------------------------------------------------------------------------------------------------------------------+\n",
            "|The patient was admitted on Monday._She has a right-sided pleural effusion for thoracentesis.                                                |\n",
            "|The patient was admitted on Monday._She has a right-sided pleural effusion for thoracentesis._Her Coumadin was placed on hold.               |\n",
            "|She has a right-sided pleural effusion for thoracentesis._Her Coumadin was placed on hold._A repeat echocardiogram was checked.              |\n",
            "|Her Coumadin was placed on hold._A repeat echocardiogram was checked._She was started on prophylaxis for DVT.                                |\n",
            "|A repeat echocardiogram was checked._She was started on prophylaxis for DVT._Her CT scan from March 2006 prior to her pericardectomy.        |\n",
            "|She was started on prophylaxis for DVT._Her CT scan from March 2006 prior to her pericardectomy._It already shows bilateral plural effusions.|\n",
            "|Her CT scan from March 2006 prior to her pericardectomy._It already shows bilateral plural effusions.                                        |\n",
            "+---------------------------------------------------------------------------------------------------------------------------------------------+\n",
            "\n"
          ]
        }
      ]
    },
    {
      "cell_type": "code",
      "source": [
        "result.select(F.explode('window_2')).select('col.result').show(truncate=False)"
      ],
      "metadata": {
        "colab": {
          "base_uri": "https://localhost:8080/"
        },
        "id": "qw8x-EHhZjZ5",
        "outputId": "f89ca964-2d5a-4e60-e8d9-00d0882027bd"
      },
      "execution_count": null,
      "outputs": [
        {
          "output_type": "stream",
          "name": "stdout",
          "text": [
            "+--------------------------------------------------------------------------------------------------------------------------------------------------------------------------------------------------------------------------------+\n",
            "|result                                                                                                                                                                                                                          |\n",
            "+--------------------------------------------------------------------------------------------------------------------------------------------------------------------------------------------------------------------------------+\n",
            "|The patient was admitted on Monday. She has a right-sided pleural effusion for thoracentesis. Her Coumadin was placed on hold.                                                                                                  |\n",
            "|The patient was admitted on Monday. She has a right-sided pleural effusion for thoracentesis. Her Coumadin was placed on hold. A repeat echocardiogram was checked.                                                             |\n",
            "|The patient was admitted on Monday. She has a right-sided pleural effusion for thoracentesis. Her Coumadin was placed on hold. A repeat echocardiogram was checked. She was started on prophylaxis for DVT.                     |\n",
            "|She has a right-sided pleural effusion for thoracentesis. Her Coumadin was placed on hold. A repeat echocardiogram was checked. She was started on prophylaxis for DVT. Her CT scan from March 2006 prior to her pericardectomy.|\n",
            "|Her Coumadin was placed on hold. A repeat echocardiogram was checked. She was started on prophylaxis for DVT. Her CT scan from March 2006 prior to her pericardectomy. It already shows bilateral plural effusions.             |\n",
            "|A repeat echocardiogram was checked. She was started on prophylaxis for DVT. Her CT scan from March 2006 prior to her pericardectomy. It already shows bilateral plural effusions.                                              |\n",
            "|She was started on prophylaxis for DVT. Her CT scan from March 2006 prior to her pericardectomy. It already shows bilateral plural effusions.                                                                                   |\n",
            "+--------------------------------------------------------------------------------------------------------------------------------------------------------------------------------------------------------------------------------+\n",
            "\n"
          ]
        }
      ]
    }
  ]
}
{
  "cells": [
    {
      "cell_type": "markdown",
      "metadata": {
        "id": "rZNvKPHPgrYg"
      },
      "source": [
        "![JohnSnowLabs](https://nlp.johnsnowlabs.com/assets/images/logo.png)"
      ]
    },
    {
      "cell_type": "markdown",
      "metadata": {
        "id": "A4HVg4gwgxCR"
      },
      "source": [
        "[![Open In Colab](https://colab.research.google.com/assets/colab-badge.svg)](https://github.com/JohnSnowLabs/spark-nlp-workshop/blob/master/Spark_NLP_Udemy_MOOC/Healthcare_NLP/LargeFewShotClassifierModel.ipynb)"
      ]
    },
    {
      "cell_type": "markdown",
      "metadata": {
        "id": "h6tS8JrcFV4R"
      },
      "source": [
        "# 📜Large FewShot Classifier Model"
      ]
    },
    {
      "cell_type": "markdown",
      "metadata": {
        "id": "S8PwjAxZmddu"
      },
      "source": [
        "This notebook will cover the different parameters and usages of `Large FewShot Classifier Model` .\n",
        "\n",
        "**📖 Learning Objectives:**\n",
        "\n",
        "1. Understand how to use `Large FewShot Classifier Model`.\n",
        "\n",
        "2. Become comfortable using the different parameters of the annotator.\n",
        "\n",
        "3. Build a pretraine pipeline using `Large FewShot Classifier Model` annotator.\n",
        "\n"
      ]
    },
    {
      "cell_type": "markdown",
      "metadata": {
        "id": "G7AnPZwanIuX"
      },
      "source": [
        "\n",
        "## **📜 Background**"
      ]
    },
    {
      "cell_type": "markdown",
      "metadata": {
        "id": "NzQ-FurKg5j7"
      },
      "source": [
        "\n",
        "The new LargeFewShotClassifierModel annotator is designed to work effectively with minimal labeled data, offering flexibility and adaptability to new, unseen classes.\n",
        "\n"
      ]
    },
    {
      "cell_type": "markdown",
      "metadata": {
        "id": "9NGdDS2_Fm0o"
      },
      "source": [
        "## **🎬 Colab Setup**"
      ]
    },
    {
      "cell_type": "code",
      "execution_count": null,
      "metadata": {
        "id": "nDRVPUvboU_v"
      },
      "outputs": [],
      "source": [
        "# Install the johnsnowlabs library to access Spark-OCR and Spark-NLP for Healthcare, Finance, and Legal.\n",
        "! pip install -q johnsnowlabs"
      ]
    },
    {
      "cell_type": "code",
      "execution_count": null,
      "metadata": {
        "id": "49JMA8jYoV6u"
      },
      "outputs": [],
      "source": [
        "from google.colab import files\n",
        "print('Please Upload your John Snow Labs License using the button below')\n",
        "license_keys = files.upload()"
      ]
    },
    {
      "cell_type": "code",
      "execution_count": null,
      "metadata": {
        "id": "zG0QqSGKowAJ"
      },
      "outputs": [],
      "source": [
        "from johnsnowlabs import nlp, medical\n",
        "\n",
        "# After uploading your license run this to install all licensed Python Wheels and pre-download Jars the Spark Session JVM\n",
        "nlp.settings.enforce_versions=False\n",
        "nlp.install(refresh_install=True)"
      ]
    },
    {
      "cell_type": "code",
      "execution_count": 4,
      "metadata": {
        "colab": {
          "base_uri": "https://localhost:8080/",
          "height": 271
        },
        "id": "t9-ZB-44oxrc",
        "outputId": "3aeb8b97-7e62-4f4b-ccac-7297cf89b909"
      },
      "outputs": [
        {
          "name": "stdout",
          "output_type": "stream",
          "text": [
            "👌 Detected license file /content/license_keys.json\n",
            "👷 Trying to install compatible secrets. Use nlp.settings.enforce_versions=False if you want to install outdated secrets.\n",
            "👌 Launched \u001b[92mcpu optimized\u001b[39m session with with: 🚀Spark-NLP==5.4.0, 💊Spark-Healthcare==5.4.0, running on ⚡ PySpark==3.4.0\n"
          ]
        },
        {
          "data": {
            "text/html": [
              "\n",
              "            <div>\n",
              "                <p><b>SparkSession - in-memory</b></p>\n",
              "                \n",
              "        <div>\n",
              "            <p><b>SparkContext</b></p>\n",
              "\n",
              "            <p><a href=\"http://a54ce799399a:4040\">Spark UI</a></p>\n",
              "\n",
              "            <dl>\n",
              "              <dt>Version</dt>\n",
              "                <dd><code>v3.4.0</code></dd>\n",
              "              <dt>Master</dt>\n",
              "                <dd><code>local[*]</code></dd>\n",
              "              <dt>AppName</dt>\n",
              "                <dd><code>John-Snow-Labs-Spark-Session 🚀 with Jars for: 🚀Spark-NLP==5.4.0, 💊Spark-Healthcare==5.4.0, running on ⚡ PySpark==3.4.0</code></dd>\n",
              "            </dl>\n",
              "        </div>\n",
              "        \n",
              "            </div>\n",
              "        "
            ],
            "text/plain": [
              "<pyspark.sql.session.SparkSession at 0x7b21941186a0>"
            ]
          },
          "execution_count": 4,
          "metadata": {},
          "output_type": "execute_result"
        }
      ],
      "source": [
        "from johnsnowlabs import nlp, medical#, visual\n",
        "import pandas as pd\n",
        "\n",
        "# Automatically load license data and start a session with all jars user has access to\n",
        "spark = nlp.start()\n",
        "spark"
      ]
    },
    {
      "cell_type": "markdown",
      "metadata": {
        "id": "Cr3JiuN6L8m7"
      },
      "source": [
        "## Healthcare NLP for Data Scientists Course\n",
        "\n",
        "If you are not familiar with the components in this notebook, you can check [Healthcare NLP for Data Scientists Udemy Course](https://www.udemy.com/course/healthcare-nlp-for-data-scientists/) and the [MOOC Notebooks](https://github.com/JohnSnowLabs/spark-nlp-workshop/tree/master/Spark_NLP_Udemy_MOOC/Healthcare_NLP) for each components."
      ]
    },
    {
      "cell_type": "markdown",
      "metadata": {
        "id": "OvknmAT_MKYk"
      },
      "source": [
        "##Pretrained Contextual Assertion Models\n",
        "\n",
        "\n",
        "\n"
      ]
    },
    {
      "cell_type": "markdown",
      "metadata": {
        "id": "FozqdaVFMQEn"
      },
      "source": [
        "**<center>Large FewShot Classifier Models**\n",
        "\n",
        "\n",
        "| Model Name              | Description |\n",
        "|-------------------------|-------------|\n",
        "|[large_fewshot_classifier_age_group](https://nlp.johnsnowlabs.com/2024/08/15/large_fewshot_classifier_age_group_en)      | This few-shot classification model identifies and classifies tweets reporting Adverse Drug Events (ADEs).\n",
        "|[large_fewshot_classifier_ade](https://nlp.johnsnowlabs.com/2024/08/12/large_fewshot_classifier_ade_en)      | This few-shot classification model identifies and classifies the age group of a person mentioned in health documents.\n",
        "\n",
        "\n",
        "**You can find all these models and more [NLP Models Hub](https://nlp.johnsnowlabs.com/models?q=Chunk+Mapping&edition=Spark+NLP+for+Healthcare)**\n",
        "\n"
      ]
    },
    {
      "cell_type": "markdown",
      "metadata": {
        "id": "1XbF4N-JGQdM"
      },
      "source": [
        "## **🖨️ Input/Output Annotation Types**"
      ]
    },
    {
      "cell_type": "markdown",
      "metadata": {
        "id": "Qsk1TC4DGXkK"
      },
      "source": [
        "- Input: `DOCUMENT`\n",
        "\n",
        "- Output: `CATEGORY`"
      ]
    },
    {
      "cell_type": "markdown",
      "metadata": {
        "id": "hZeqQv5gOv5o"
      },
      "source": [
        "## Building Pipeline"
      ]
    },
    {
      "cell_type": "code",
      "execution_count": 5,
      "metadata": {
        "colab": {
          "base_uri": "https://localhost:8080/"
        },
        "id": "5syZUuQj-ohp",
        "outputId": "a15231f1-3347-4ebd-eb06-7e9e03851f9e"
      },
      "outputs": [
        {
          "name": "stdout",
          "output_type": "stream",
          "text": [
            "large_fewshot_classifier_ade download started this may take some time.\n",
            "[OK!]\n"
          ]
        }
      ],
      "source": [
        "#Pipeline for pretrained `large_fewshot_classifier_ade` model\n",
        "\n",
        "documentAssembler = nlp.DocumentAssembler() \\\n",
        "    .setInputCol(\"text\") \\\n",
        "    .setOutputCol(\"document\")\n",
        "\n",
        "large_few_shot_classifier = medical.LargeFewShotClassifierModel()\\\n",
        "    .pretrained(\"large_fewshot_classifier_ade\", \"en\", \"clinical/models\")\\\n",
        "    .setInputCols(\"document\")\\\n",
        "    .setOutputCol(\"prediction\")\n",
        "\n",
        "pipeline = nlp.Pipeline().setStages([\n",
        "    documentAssembler,\n",
        "    large_few_shot_classifier\n",
        "])"
      ]
    },
    {
      "cell_type": "code",
      "execution_count": 6,
      "metadata": {
        "colab": {
          "base_uri": "https://localhost:8080/"
        },
        "id": "kmkJp4c1-ofD",
        "outputId": "53459d21-b914-427e-db14-5a07a4e90f10"
      },
      "outputs": [
        {
          "data": {
            "text/plain": [
              "['noADE', 'ADE']"
            ]
          },
          "execution_count": 6,
          "metadata": {},
          "output_type": "execute_result"
        }
      ],
      "source": [
        "large_few_shot_classifier.getClasses()"
      ]
    },
    {
      "cell_type": "code",
      "execution_count": 7,
      "metadata": {
        "colab": {
          "base_uri": "https://localhost:8080/"
        },
        "id": "RC7uJDg_-oc0",
        "outputId": "730e9391-aeb9-469c-979f-2c3886247ba3"
      },
      "outputs": [
        {
          "name": "stdout",
          "output_type": "stream",
          "text": [
            "+-----------------------------------------------------------------------------------------+----------+\n",
            "|text                                                                                     |prediction|\n",
            "+-----------------------------------------------------------------------------------------+----------+\n",
            "|The patient developed severe liver toxicity after taking the medication for three weeks  |ADE       |\n",
            "|He experienced no complications during the treatment and reported feeling much better.   |noADE     |\n",
            "|She experienced a sudden drop in blood pressure after the administration of the new drug.|ADE       |\n",
            "|The doctor recommended a daily dosage of the vitamin supplement to improve her health.   |noADE     |\n",
            "+-----------------------------------------------------------------------------------------+----------+\n",
            "\n"
          ]
        }
      ],
      "source": [
        "data = spark.createDataFrame([\n",
        "    [\"The patient developed severe liver toxicity after taking the medication for three weeks\"],\n",
        "    [\"He experienced no complications during the treatment and reported feeling much better.\"],\n",
        "    [\"She experienced a sudden drop in blood pressure after the administration of the new drug.\"],\n",
        "    [\"The doctor recommended a daily dosage of the vitamin supplement to improve her health.\"]\n",
        "]).toDF(\"text\")\n",
        "\n",
        "result = pipeline.fit(data).transform(data)\n",
        "\n",
        "result.selectExpr(\"text\", \"prediction.result[0] as prediction\").show(truncate=False)"
      ]
    }
  ],
  "metadata": {
    "colab": {
      "provenance": []
    },
    "kernelspec": {
      "display_name": "Python 3",
      "name": "python3"
    },
    "language_info": {
      "name": "python"
    }
  },
  "nbformat": 4,
  "nbformat_minor": 0
}

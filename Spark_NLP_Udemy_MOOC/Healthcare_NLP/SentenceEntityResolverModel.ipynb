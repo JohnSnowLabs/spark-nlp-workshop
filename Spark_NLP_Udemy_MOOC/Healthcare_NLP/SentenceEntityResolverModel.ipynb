{
  "cells": [
    {
      "cell_type": "markdown",
      "metadata": {
        "id": "wid7qBqjp2jl"
      },
      "source": [
        "![JohnSnowLabs](https://nlp.johnsnowlabs.com/assets/images/logo.png)"
      ]
    },
    {
      "cell_type": "markdown",
      "metadata": {
        "id": "8-hl3s1_p6ry"
      },
      "source": [
        "# **SentenceEntityResolverModel**"
      ]
    },
    {
      "cell_type": "markdown",
      "metadata": {
        "id": "dwGY8yjhqDUn"
      },
      "source": [
        "This notebook will cover the different parameters and usages of `SentenceEntityResolverModel`. This annotator maps clinical entities to a particilar ontology / curated dataset using sentence embeddings.\n",
        "\n",
        "**📖 Learning Objectives:**\n",
        "\n",
        "1. Understand the application and relevance of these models in healthcare data analysis\n",
        "\n",
        "2. Map clinical entities to standard codes (ICD-10, RxNorm, SNOMED, etc.)\n",
        "\n",
        "3. Become comfortable using the different parameters of the annotator.\n",
        "\n",
        "\n",
        "**🔗 Helpful Links:**\n",
        "\n",
        "- Documentation : [SentenceEntityResolverModel](https://nlp.johnsnowlabs.com/docs/en/licensed_annotators#sentenceentityresolver)\n",
        "\n",
        "- Python Docs : [SentenceEntityResolverModel](https://nlp.johnsnowlabs.com/licensed/api/python/reference/autosummary/sparknlp_jsl/annotator/resolution/sentence_entity_resolver/index.html)\n",
        "\n",
        "- Scala Docs : [SentenceEntityResolverModel](https://nlp.johnsnowlabs.com/licensed/api/com/johnsnowlabs/finance/chunk_classification/resolution/SentenceEntityResolverModel.html)\n",
        "\n",
        "- For extended examples of usage, see the [Spark NLP Workshop repository](https://github.com/JohnSnowLabs/spark-nlp-workshop/tree/master/healthcare-nlp)."
      ]
    },
    {
      "cell_type": "markdown",
      "metadata": {
        "id": "MfkkKkbVF309"
      },
      "source": [
        "## **🎬 Colab Setup**"
      ]
    },
    {
      "cell_type": "code",
      "execution_count": 1,
      "metadata": {
        "id": "iMkMQtZNF2n-",
        "colab": {
          "base_uri": "https://localhost:8080/"
        },
        "outputId": "df973521-4497-4791-c385-6bff89b53453"
      },
      "outputs": [
        {
          "output_type": "stream",
          "name": "stdout",
          "text": [
            "\u001b[2K     \u001b[90m━━━━━━━━━━━━━━━━━━━━━━━━━━━━━━━━━━━━━━━━\u001b[0m \u001b[32m116.6/116.6 kB\u001b[0m \u001b[31m1.5 MB/s\u001b[0m eta \u001b[36m0:00:00\u001b[0m\n",
            "\u001b[2K     \u001b[90m━━━━━━━━━━━━━━━━━━━━━━━━━━━━━━━━━━━━━━━━\u001b[0m \u001b[32m139.3/139.3 kB\u001b[0m \u001b[31m5.4 MB/s\u001b[0m eta \u001b[36m0:00:00\u001b[0m\n",
            "\u001b[2K     \u001b[90m━━━━━━━━━━━━━━━━━━━━━━━━━━━━━━━━━━━━━━━━\u001b[0m \u001b[32m656.0/656.0 kB\u001b[0m \u001b[31m28.0 MB/s\u001b[0m eta \u001b[36m0:00:00\u001b[0m\n",
            "\u001b[2K     \u001b[90m━━━━━━━━━━━━━━━━━━━━━━━━━━━━━━━━━━━━━━━━\u001b[0m \u001b[32m3.1/3.1 MB\u001b[0m \u001b[31m44.0 MB/s\u001b[0m eta \u001b[36m0:00:00\u001b[0m\n",
            "\u001b[2K     \u001b[90m━━━━━━━━━━━━━━━━━━━━━━━━━━━━━━━━━━━━━━━━\u001b[0m \u001b[32m212.4/212.4 MB\u001b[0m \u001b[31m2.6 MB/s\u001b[0m eta \u001b[36m0:00:00\u001b[0m\n",
            "\u001b[?25h  Preparing metadata (setup.py) ... \u001b[?25l\u001b[?25hdone\n",
            "\u001b[2K     \u001b[90m━━━━━━━━━━━━━━━━━━━━━━━━━━━━━━━━━━━━━━━━\u001b[0m \u001b[32m95.4/95.4 kB\u001b[0m \u001b[31m4.3 MB/s\u001b[0m eta \u001b[36m0:00:00\u001b[0m\n",
            "\u001b[2K     \u001b[90m━━━━━━━━━━━━━━━━━━━━━━━━━━━━━━━━━━━━━━━━\u001b[0m \u001b[32m540.7/540.7 kB\u001b[0m \u001b[31m23.0 MB/s\u001b[0m eta \u001b[36m0:00:00\u001b[0m\n",
            "\u001b[2K     \u001b[90m━━━━━━━━━━━━━━━━━━━━━━━━━━━━━━━━━━━━━━━━\u001b[0m \u001b[32m198.6/198.6 kB\u001b[0m \u001b[31m14.6 MB/s\u001b[0m eta \u001b[36m0:00:00\u001b[0m\n",
            "\u001b[2K     \u001b[90m━━━━━━━━━━━━━━━━━━━━━━━━━━━━━━━━━━━━━━━━\u001b[0m \u001b[32m66.9/66.9 kB\u001b[0m \u001b[31m6.6 MB/s\u001b[0m eta \u001b[36m0:00:00\u001b[0m\n",
            "\u001b[2K     \u001b[90m━━━━━━━━━━━━━━━━━━━━━━━━━━━━━━━━━━━━━━━━\u001b[0m \u001b[32m11.9/11.9 MB\u001b[0m \u001b[31m33.5 MB/s\u001b[0m eta \u001b[36m0:00:00\u001b[0m\n",
            "\u001b[2K     \u001b[90m━━━━━━━━━━━━━━━━━━━━━━━━━━━━━━━━━━━━━━━━\u001b[0m \u001b[32m82.1/82.1 kB\u001b[0m \u001b[31m9.2 MB/s\u001b[0m eta \u001b[36m0:00:00\u001b[0m\n",
            "\u001b[2K     \u001b[90m━━━━━━━━━━━━━━━━━━━━━━━━━━━━━━━━━━━━━━━━\u001b[0m \u001b[32m150.3/150.3 kB\u001b[0m \u001b[31m715.4 kB/s\u001b[0m eta \u001b[36m0:00:00\u001b[0m\n",
            "\u001b[2K     \u001b[90m━━━━━━━━━━━━━━━━━━━━━━━━━━━━━━━━━━━━━━━━\u001b[0m \u001b[32m1.6/1.6 MB\u001b[0m \u001b[31m71.6 MB/s\u001b[0m eta \u001b[36m0:00:00\u001b[0m\n",
            "\u001b[?25h  Building wheel for pyspark (setup.py) ... \u001b[?25l\u001b[?25hdone\n",
            "\u001b[31mERROR: pip's dependency resolver does not currently take into account all the packages that are installed. This behaviour is the source of the following dependency conflicts.\n",
            "lida 0.0.10 requires fastapi, which is not installed.\n",
            "lida 0.0.10 requires kaleido, which is not installed.\n",
            "lida 0.0.10 requires python-multipart, which is not installed.\n",
            "lida 0.0.10 requires uvicorn, which is not installed.\n",
            "llmx 0.0.15a0 requires cohere, which is not installed.\n",
            "llmx 0.0.15a0 requires openai, which is not installed.\n",
            "llmx 0.0.15a0 requires tiktoken, which is not installed.\u001b[0m\u001b[31m\n",
            "\u001b[0m"
          ]
        }
      ],
      "source": [
        "!pip install -q johnsnowlabs"
      ]
    },
    {
      "cell_type": "code",
      "execution_count": 2,
      "metadata": {
        "id": "nwJyFUMXkSIm",
        "colab": {
          "base_uri": "https://localhost:8080/",
          "height": 91
        },
        "outputId": "74c0067d-f448-45ec-c315-f7a4b79264a1"
      },
      "outputs": [
        {
          "output_type": "stream",
          "name": "stdout",
          "text": [
            "Please Upload your John Snow Labs License using the button below\n"
          ]
        },
        {
          "output_type": "display_data",
          "data": {
            "text/plain": [
              "<IPython.core.display.HTML object>"
            ],
            "text/html": [
              "\n",
              "     <input type=\"file\" id=\"files-87b61585-1ccb-436c-8f64-ff4bddcfd87c\" name=\"files[]\" multiple disabled\n",
              "        style=\"border:none\" />\n",
              "     <output id=\"result-87b61585-1ccb-436c-8f64-ff4bddcfd87c\">\n",
              "      Upload widget is only available when the cell has been executed in the\n",
              "      current browser session. Please rerun this cell to enable.\n",
              "      </output>\n",
              "      <script>// Copyright 2017 Google LLC\n",
              "//\n",
              "// Licensed under the Apache License, Version 2.0 (the \"License\");\n",
              "// you may not use this file except in compliance with the License.\n",
              "// You may obtain a copy of the License at\n",
              "//\n",
              "//      http://www.apache.org/licenses/LICENSE-2.0\n",
              "//\n",
              "// Unless required by applicable law or agreed to in writing, software\n",
              "// distributed under the License is distributed on an \"AS IS\" BASIS,\n",
              "// WITHOUT WARRANTIES OR CONDITIONS OF ANY KIND, either express or implied.\n",
              "// See the License for the specific language governing permissions and\n",
              "// limitations under the License.\n",
              "\n",
              "/**\n",
              " * @fileoverview Helpers for google.colab Python module.\n",
              " */\n",
              "(function(scope) {\n",
              "function span(text, styleAttributes = {}) {\n",
              "  const element = document.createElement('span');\n",
              "  element.textContent = text;\n",
              "  for (const key of Object.keys(styleAttributes)) {\n",
              "    element.style[key] = styleAttributes[key];\n",
              "  }\n",
              "  return element;\n",
              "}\n",
              "\n",
              "// Max number of bytes which will be uploaded at a time.\n",
              "const MAX_PAYLOAD_SIZE = 100 * 1024;\n",
              "\n",
              "function _uploadFiles(inputId, outputId) {\n",
              "  const steps = uploadFilesStep(inputId, outputId);\n",
              "  const outputElement = document.getElementById(outputId);\n",
              "  // Cache steps on the outputElement to make it available for the next call\n",
              "  // to uploadFilesContinue from Python.\n",
              "  outputElement.steps = steps;\n",
              "\n",
              "  return _uploadFilesContinue(outputId);\n",
              "}\n",
              "\n",
              "// This is roughly an async generator (not supported in the browser yet),\n",
              "// where there are multiple asynchronous steps and the Python side is going\n",
              "// to poll for completion of each step.\n",
              "// This uses a Promise to block the python side on completion of each step,\n",
              "// then passes the result of the previous step as the input to the next step.\n",
              "function _uploadFilesContinue(outputId) {\n",
              "  const outputElement = document.getElementById(outputId);\n",
              "  const steps = outputElement.steps;\n",
              "\n",
              "  const next = steps.next(outputElement.lastPromiseValue);\n",
              "  return Promise.resolve(next.value.promise).then((value) => {\n",
              "    // Cache the last promise value to make it available to the next\n",
              "    // step of the generator.\n",
              "    outputElement.lastPromiseValue = value;\n",
              "    return next.value.response;\n",
              "  });\n",
              "}\n",
              "\n",
              "/**\n",
              " * Generator function which is called between each async step of the upload\n",
              " * process.\n",
              " * @param {string} inputId Element ID of the input file picker element.\n",
              " * @param {string} outputId Element ID of the output display.\n",
              " * @return {!Iterable<!Object>} Iterable of next steps.\n",
              " */\n",
              "function* uploadFilesStep(inputId, outputId) {\n",
              "  const inputElement = document.getElementById(inputId);\n",
              "  inputElement.disabled = false;\n",
              "\n",
              "  const outputElement = document.getElementById(outputId);\n",
              "  outputElement.innerHTML = '';\n",
              "\n",
              "  const pickedPromise = new Promise((resolve) => {\n",
              "    inputElement.addEventListener('change', (e) => {\n",
              "      resolve(e.target.files);\n",
              "    });\n",
              "  });\n",
              "\n",
              "  const cancel = document.createElement('button');\n",
              "  inputElement.parentElement.appendChild(cancel);\n",
              "  cancel.textContent = 'Cancel upload';\n",
              "  const cancelPromise = new Promise((resolve) => {\n",
              "    cancel.onclick = () => {\n",
              "      resolve(null);\n",
              "    };\n",
              "  });\n",
              "\n",
              "  // Wait for the user to pick the files.\n",
              "  const files = yield {\n",
              "    promise: Promise.race([pickedPromise, cancelPromise]),\n",
              "    response: {\n",
              "      action: 'starting',\n",
              "    }\n",
              "  };\n",
              "\n",
              "  cancel.remove();\n",
              "\n",
              "  // Disable the input element since further picks are not allowed.\n",
              "  inputElement.disabled = true;\n",
              "\n",
              "  if (!files) {\n",
              "    return {\n",
              "      response: {\n",
              "        action: 'complete',\n",
              "      }\n",
              "    };\n",
              "  }\n",
              "\n",
              "  for (const file of files) {\n",
              "    const li = document.createElement('li');\n",
              "    li.append(span(file.name, {fontWeight: 'bold'}));\n",
              "    li.append(span(\n",
              "        `(${file.type || 'n/a'}) - ${file.size} bytes, ` +\n",
              "        `last modified: ${\n",
              "            file.lastModifiedDate ? file.lastModifiedDate.toLocaleDateString() :\n",
              "                                    'n/a'} - `));\n",
              "    const percent = span('0% done');\n",
              "    li.appendChild(percent);\n",
              "\n",
              "    outputElement.appendChild(li);\n",
              "\n",
              "    const fileDataPromise = new Promise((resolve) => {\n",
              "      const reader = new FileReader();\n",
              "      reader.onload = (e) => {\n",
              "        resolve(e.target.result);\n",
              "      };\n",
              "      reader.readAsArrayBuffer(file);\n",
              "    });\n",
              "    // Wait for the data to be ready.\n",
              "    let fileData = yield {\n",
              "      promise: fileDataPromise,\n",
              "      response: {\n",
              "        action: 'continue',\n",
              "      }\n",
              "    };\n",
              "\n",
              "    // Use a chunked sending to avoid message size limits. See b/62115660.\n",
              "    let position = 0;\n",
              "    do {\n",
              "      const length = Math.min(fileData.byteLength - position, MAX_PAYLOAD_SIZE);\n",
              "      const chunk = new Uint8Array(fileData, position, length);\n",
              "      position += length;\n",
              "\n",
              "      const base64 = btoa(String.fromCharCode.apply(null, chunk));\n",
              "      yield {\n",
              "        response: {\n",
              "          action: 'append',\n",
              "          file: file.name,\n",
              "          data: base64,\n",
              "        },\n",
              "      };\n",
              "\n",
              "      let percentDone = fileData.byteLength === 0 ?\n",
              "          100 :\n",
              "          Math.round((position / fileData.byteLength) * 100);\n",
              "      percent.textContent = `${percentDone}% done`;\n",
              "\n",
              "    } while (position < fileData.byteLength);\n",
              "  }\n",
              "\n",
              "  // All done.\n",
              "  yield {\n",
              "    response: {\n",
              "      action: 'complete',\n",
              "    }\n",
              "  };\n",
              "}\n",
              "\n",
              "scope.google = scope.google || {};\n",
              "scope.google.colab = scope.google.colab || {};\n",
              "scope.google.colab._files = {\n",
              "  _uploadFiles,\n",
              "  _uploadFilesContinue,\n",
              "};\n",
              "})(self);\n",
              "</script> "
            ]
          },
          "metadata": {}
        },
        {
          "output_type": "stream",
          "name": "stdout",
          "text": [
            "Saving spark_nlp_for_healthcare_spark_ocr_8734_v514.json to spark_nlp_for_healthcare_spark_ocr_8734_v514.json\n"
          ]
        }
      ],
      "source": [
        "from google.colab import files\n",
        "print('Please Upload your John Snow Labs License using the button below')\n",
        "license_keys = files.upload()"
      ]
    },
    {
      "cell_type": "code",
      "execution_count": 3,
      "metadata": {
        "id": "NulWi4_f4GN5",
        "colab": {
          "base_uri": "https://localhost:8080/"
        },
        "outputId": "381d6732-ad43-44b4-fda5-98b9fc222820"
      },
      "outputs": [
        {
          "output_type": "stream",
          "name": "stdout",
          "text": [
            "👌 Detected license file /content/spark_nlp_for_healthcare_spark_ocr_8734_v514.json\n",
            "📋 Stored John Snow Labs License in /root/.johnsnowlabs/licenses/license_number_0_for_Spark-Healthcare_Spark-OCR.json\n",
            "👷 Setting up  John Snow Labs home in /root/.johnsnowlabs, this might take a few minutes.\n",
            "Downloading 🐍+🚀 Python Library spark_nlp-5.1.4-py2.py3-none-any.whl\n",
            "Downloading 🐍+💊 Python Library spark_nlp_jsl-5.1.4-py3-none-any.whl\n",
            "Downloading 🫘+🚀 Java Library spark-nlp-assembly-5.1.4.jar\n",
            "Downloading 🫘+💊 Java Library spark-nlp-jsl-5.1.4.jar\n",
            "🙆 JSL Home setup in /root/.johnsnowlabs\n",
            "👌 Detected license file /content/spark_nlp_for_healthcare_spark_ocr_8734_v514.json\n",
            "Installing /root/.johnsnowlabs/py_installs/spark_nlp_jsl-5.1.4-py3-none-any.whl to /usr/bin/python3\n",
            "Installed 1 products:\n",
            "💊 Spark-Healthcare==5.1.4 installed! ✅ Heal the planet with NLP! \n"
          ]
        }
      ],
      "source": [
        "from johnsnowlabs import nlp\n",
        "\n",
        "nlp.install()"
      ]
    },
    {
      "cell_type": "code",
      "execution_count": 4,
      "metadata": {
        "id": "2GLXxe1Q0Iln",
        "colab": {
          "base_uri": "https://localhost:8080/"
        },
        "outputId": "6d79ca38-e6f3-4397-d360-c9ff56aa14ec"
      },
      "outputs": [
        {
          "output_type": "stream",
          "name": "stdout",
          "text": [
            "👌 Detected license file /content/spark_nlp_for_healthcare_spark_ocr_8734_v514.json\n",
            "👌 Launched \u001b[92mcpu optimized\u001b[39m session with with: 🚀Spark-NLP==5.1.4, 💊Spark-Healthcare==5.1.4, running on ⚡ PySpark==3.1.2\n"
          ]
        }
      ],
      "source": [
        "from johnsnowlabs import nlp, medical\n",
        "import pyspark.sql.functions as F\n",
        "import pandas as pd\n",
        "\n",
        "spark = nlp.start()"
      ]
    },
    {
      "cell_type": "markdown",
      "metadata": {
        "id": "9Fbbk1bqcuA5"
      },
      "source": [
        "## **🖨️ Input/Output Annotation Types**"
      ]
    },
    {
      "cell_type": "markdown",
      "metadata": {
        "id": "0yFIrr5acsiU"
      },
      "source": [
        "- Input: `SENTENCE_EMBEDDINGS`\n",
        "\n",
        "- Output: `ENTITY`"
      ]
    },
    {
      "cell_type": "markdown",
      "metadata": {
        "id": "AZZA_Qe-sWRd"
      },
      "source": [
        "## **🔎 Parameters**\n"
      ]
    },
    {
      "cell_type": "markdown",
      "metadata": {
        "id": "HO-NDwbFsZlP"
      },
      "source": [
        "- `distanceFunction`: Determines how the distance between different entities will be calculated. Either `COSINE` or `EUCLIDEAN`.\n",
        "\n",
        "- `neighbours`: The number of neighbours to consider when computing the distances.\n",
        "\n",
        "- `caseSensitive`: WWhether to consider text casing or not.\n",
        "\n",
        "- `threshold`: Threshold of the distance between nodes to consider.\n"
      ]
    },
    {
      "cell_type": "markdown",
      "metadata": {
        "id": "H-WyazzotqfV"
      },
      "source": [
        "### `setDistanceFunction()`\n",
        "\n"
      ]
    },
    {
      "cell_type": "markdown",
      "source": [
        "Defines the distance function to use, either Euclidean or cosine.  "
      ],
      "metadata": {
        "id": "Qy83MQ0VWXc8"
      }
    },
    {
      "cell_type": "code",
      "execution_count": 5,
      "metadata": {
        "colab": {
          "base_uri": "https://localhost:8080/"
        },
        "id": "dteh0DNO9djC",
        "outputId": "ea26bda8-7542-4abb-d297-ced0d33e23f6"
      },
      "outputs": [
        {
          "output_type": "stream",
          "name": "stdout",
          "text": [
            "sbiobert_base_cased_mli download started this may take some time.\n",
            "Approximate size to download 384.3 MB\n",
            "[OK!]\n",
            "sbiobertresolve_rxnorm_augmented download started this may take some time.\n",
            "[OK!]\n"
          ]
        }
      ],
      "source": [
        "documentAssembler = (\n",
        "    nlp.DocumentAssembler().setInputCol(\"text\").setOutputCol(\"ner_chunk\")\n",
        ")\n",
        "\n",
        "sbert_embedder = (\n",
        "    nlp.BertSentenceEmbeddings.pretrained(\n",
        "        \"sbiobert_base_cased_mli\", \"en\", \"clinical/models\"\n",
        "    )\n",
        "    .setInputCols([\"ner_chunk\"])\n",
        "    .setOutputCol(\"sentence_embeddings\")\n",
        "    .setCaseSensitive(False)\n",
        ")\n",
        "\n",
        "rxnorm_resolver = (\n",
        "    medical.SentenceEntityResolverModel.pretrained(\n",
        "        \"sbiobertresolve_rxnorm_augmented\", \"en\", \"clinical/models\"\n",
        "    )\n",
        "    .setInputCols([\"sentence_embeddings\"])\n",
        "    .setOutputCol(\"rxnorm_code\")\n",
        "    .setDistanceFunction(\"EUCLIDEAN\")\n",
        ")\n",
        "\n",
        "rxnorm_pipelineModel = nlp.PipelineModel(\n",
        "    stages=[documentAssembler, sbert_embedder, rxnorm_resolver]\n",
        ")"
      ]
    },
    {
      "cell_type": "code",
      "execution_count": 6,
      "metadata": {
        "id": "LuoSaG6qIX9H"
      },
      "outputs": [],
      "source": [
        "text = 'metformin 100 mg'\n",
        "df = spark.createDataFrame([[text]]).toDF(\"text\")"
      ]
    },
    {
      "cell_type": "code",
      "execution_count": 7,
      "metadata": {
        "id": "FNvX5L4jIeyn"
      },
      "outputs": [],
      "source": [
        "results = rxnorm_pipelineModel.transform(df)"
      ]
    },
    {
      "cell_type": "code",
      "execution_count": 8,
      "metadata": {
        "colab": {
          "base_uri": "https://localhost:8080/"
        },
        "id": "R5gZYLZlI8yL",
        "outputId": "de92a525-bc3b-46cf-9cc0-1f0ba427bd67"
      },
      "outputs": [
        {
          "output_type": "stream",
          "name": "stdout",
          "text": [
            "+----------------+----------------------------------------------------------+----------------------------------------------------------------------------------------------------+----------------------------------------------------------------------------------------------------+\n",
            "|            text|                                                 ner_chunk|                                                                                 sentence_embeddings|                                                                                         rxnorm_code|\n",
            "+----------------+----------------------------------------------------------+----------------------------------------------------------------------------------------------------+----------------------------------------------------------------------------------------------------+\n",
            "|metformin 100 mg|[{document, 0, 15, metformin 100 mg, {sentence -> 0}, []}]|[{sentence_embeddings, 0, 15, metformin 100 mg, {sentence -> 0, token -> metformin 100 mg, pieceI...|[{entity, 0, 15, 2200518, {all_k_results -> 2200518:::861024:::141916:::334738:::332848:::104494:...|\n",
            "+----------------+----------------------------------------------------------+----------------------------------------------------------------------------------------------------+----------------------------------------------------------------------------------------------------+\n",
            "\n"
          ]
        }
      ],
      "source": [
        "results.show(truncate=100)"
      ]
    },
    {
      "cell_type": "code",
      "source": [
        "results.select(\"ner_chunk.result\", \"rxnorm_code.result\").show()"
      ],
      "metadata": {
        "colab": {
          "base_uri": "https://localhost:8080/"
        },
        "id": "UbfiMtsFGk0K",
        "outputId": "8b0804a8-594d-4a32-a377-d0fda17f9988"
      },
      "execution_count": 9,
      "outputs": [
        {
          "output_type": "stream",
          "name": "stdout",
          "text": [
            "+------------------+---------+\n",
            "|            result|   result|\n",
            "+------------------+---------+\n",
            "|[metformin 100 mg]|[2200518]|\n",
            "+------------------+---------+\n",
            "\n"
          ]
        }
      ]
    },
    {
      "cell_type": "code",
      "source": [
        "rxnorm_resolver.setDistanceFunction(\"COSINE\")\n",
        "results = rxnorm_pipelineModel.transform(df)\n",
        "results.select(\"ner_chunk.result\", \"rxnorm_code.result\").show()"
      ],
      "metadata": {
        "colab": {
          "base_uri": "https://localhost:8080/"
        },
        "id": "ZT__pnrWFzn7",
        "outputId": "d684b198-977e-409c-ceb3-68dfd8f72c02"
      },
      "execution_count": 10,
      "outputs": [
        {
          "output_type": "stream",
          "name": "stdout",
          "text": [
            "+------------------+--------+\n",
            "|            result|  result|\n",
            "+------------------+--------+\n",
            "|[metformin 100 mg]|[858858]|\n",
            "+------------------+--------+\n",
            "\n"
          ]
        }
      ]
    },
    {
      "cell_type": "markdown",
      "source": [
        "### `setNeighbours`"
      ],
      "metadata": {
        "id": "gUt5ptuIFMY7"
      }
    },
    {
      "cell_type": "markdown",
      "source": [
        "The number of neighbours to find candidate codes, later filtered by the threshold value."
      ],
      "metadata": {
        "id": "f-wial-dWMgG"
      }
    },
    {
      "cell_type": "code",
      "source": [
        "rxnorm_resolver.setNeighbours(5)\n",
        "\n",
        "rxnorm_pipelineModel = nlp.PipelineModel(\n",
        "    stages=[documentAssembler, sbert_embedder, rxnorm_resolver]\n",
        ")\n",
        "results = rxnorm_pipelineModel.transform(df)\n",
        "results.select(\n",
        "    F.explode(\n",
        "        F.arrays_zip(\n",
        "            results.rxnorm_code.result, results.rxnorm_code.metadata\n",
        "        )\n",
        "    ).alias(\"cols\")\n",
        ").select(\n",
        "    F.expr(\"cols['0']\").alias(\"rxnorm_code\"),\n",
        "    F.expr(\"cols['1']['all_k_results']\").alias(\"all_k_results\"),\n",
        "    F.expr(\"cols['1']['all_k_resolutions']\").alias(\"all_k_resolutions\"),\n",
        ").show(\n",
        "    truncate=False\n",
        ")\n"
      ],
      "metadata": {
        "colab": {
          "base_uri": "https://localhost:8080/"
        },
        "id": "ebEEGM4GFPsb",
        "outputId": "847ecd52-f80f-459f-be45-0e18d49fe30a"
      },
      "execution_count": 11,
      "outputs": [
        {
          "output_type": "stream",
          "name": "stdout",
          "text": [
            "+-----------+---------------------------------+--------------------------------------------------------------------------------------+\n",
            "|rxnorm_code|all_k_results                    |all_k_resolutions                                                                     |\n",
            "+-----------+---------------------------------+--------------------------------------------------------------------------------------+\n",
            "|858858     |858858:::198370:::316844:::437723|carnosine 100 MG:::torsemide 100 MG Oral Tablet:::torsemide 100 MG:::azintamide 100 MG|\n",
            "+-----------+---------------------------------+--------------------------------------------------------------------------------------+\n",
            "\n"
          ]
        }
      ]
    },
    {
      "cell_type": "code",
      "source": [
        "rxnorm_resolver.setNeighbours(50)\n",
        "\n",
        "rxnorm_pipelineModel = nlp.PipelineModel(\n",
        "    stages=[documentAssembler, sbert_embedder, rxnorm_resolver]\n",
        ")\n",
        "results = rxnorm_pipelineModel.transform(df)\n",
        "results.select(\n",
        "    F.explode(\n",
        "        F.arrays_zip(\n",
        "            results.rxnorm_code.result, results.rxnorm_code.metadata\n",
        "        )\n",
        "    ).alias(\"cols\")\n",
        ").select(\n",
        "    F.expr(\"cols['0']\").alias(\"rxnorm_code\"),\n",
        "    F.expr(\"cols['1']['all_k_results']\").alias(\"all_k_results\"),\n",
        "    F.expr(\"cols['1']['all_k_resolutions']\").alias(\"all_k_resolutions\"),\n",
        ").show(\n",
        "    truncate=False\n",
        ")\n"
      ],
      "metadata": {
        "colab": {
          "base_uri": "https://localhost:8080/"
        },
        "id": "OLtKAmkdFTQV",
        "outputId": "23a6175b-ed16-41d5-f610-210a4e9305f8"
      },
      "execution_count": 12,
      "outputs": [
        {
          "output_type": "stream",
          "name": "stdout",
          "text": [
            "+-----------+-------------------------------------------------------------------------------------------------------------------------------------------------------------------------------------------------------------------------------------------------------------------------------------------------------------------------------------------------------------------------------------------------------------------------------------------+----------------------------------------------------------------------------------------------------------------------------------------------------------------------------------------------------------------------------------------------------------------------------------------------------------------------------------------------------------------------------------------------------------------------------------------------------------------------------------------------------------------------------------------------------------------------------------------------------------------------------------------------------------------------------------------------------------------------------------------------------------------------------------------------------------------------------------------------------------------------------------------------------------------------------------------------------------------------------------------------------------------------------------------------------------------------------------------------------------------------------------------------------------------------------------------------------------------------------------------------------------------------------------------------------------------------------------------------------------------------------------------------------------------------------------------------------------------------------------------------------------------+\n",
            "|rxnorm_code|all_k_results                                                                                                                                                                                                                                                                                                                                                                                                                              |all_k_resolutions                                                                                                                                                                                                                                                                                                                                                                                                                                                                                                                                                                                                                                                                                                                                                                                                                                                                                                                                                                                                                                                                                                                                                                                                                                                                                                                                                                                                                                                                                               |\n",
            "+-----------+-------------------------------------------------------------------------------------------------------------------------------------------------------------------------------------------------------------------------------------------------------------------------------------------------------------------------------------------------------------------------------------------------------------------------------------------+----------------------------------------------------------------------------------------------------------------------------------------------------------------------------------------------------------------------------------------------------------------------------------------------------------------------------------------------------------------------------------------------------------------------------------------------------------------------------------------------------------------------------------------------------------------------------------------------------------------------------------------------------------------------------------------------------------------------------------------------------------------------------------------------------------------------------------------------------------------------------------------------------------------------------------------------------------------------------------------------------------------------------------------------------------------------------------------------------------------------------------------------------------------------------------------------------------------------------------------------------------------------------------------------------------------------------------------------------------------------------------------------------------------------------------------------------------------------------------------------------------------+\n",
            "|1726496    |1726496:::485246:::858858:::316844:::198370:::437723:::451900:::439132:::428970:::452118:::213487:::315677:::199093:::246621:::337340:::849395:::433949:::451227:::104776:::104623:::385476:::384931:::855672:::849390:::404742:::792240:::1862958:::541057:::2374555:::2374556:::2059285:::2059288:::284408:::208149:::607155:::360176:::213995:::701713:::330725:::311551:::210994:::201157:::439649:::410307:::198352:::901324:::1666541|azacitidine 100 MG:::azacitidine 100 MG Injection:::carnosine 100 MG:::torsemide 100 MG:::torsemide 100 MG Oral Tablet:::azintamide 100 MG:::tartaric acid 100 MG:::disulfiram 100 MG:::disulfiram 100 MG Oral Tablet:::tilidine 100 MG:::miglitol 100 MG Oral Tablet [Glyset]:::cimetidine 100 MG:::cimetidine 100 MG Oral Tablet:::nimesulide 100 MG Oral Tablet:::nimesulide 100 MG:::amantadine hydrochloride 100 MG Oral Tablet:::pyrazinamide 100 MG Oral Tablet:::pyrazinamide 100 MG:::clozapine 100 MG Oral Tablet [Clozaril]:::mecysteine 100 MG Oral Tablet:::mecysteine 100 MG:::methionine 100 MG:::phenytoin sodium 100 MG [Dilantin]:::amantadine hydrochloride 100 MG [Symadine]:::12 HR carbamazepine 100 MG Extended Release Oral Capsule [Carbatrol]:::ibuprofen 100 MG [Motrin]:::grapiprant 100 MG [Galliprant]:::indinavir 100 MG [Crixivan]:::eravacycline 100 MG:::eravacycline 100 MG Injection:::omadacycline 100 MG:::omadacycline 100 MG Injection:::zonisamide 100 MG Oral Capsule [Zonegran]:::sertraline 100 MG Oral Tablet [Zoloft]:::methenamine 100 MG:::thalidomide 100 MG Oral Capsule:::allopurinol 100 MG Oral Tablet [Zyloprim]:::stavudine 100 MG [Zerit]:::mesoridazine 100 MG:::mesoridazine 100 MG Oral Tablet:::captopril 100 MG Oral Tablet [Capoten]:::allopurinol 100 MG Oral Tablet [Hamarin]:::fenipentol 100 MG:::fenipentol 100 MG Oral Capsule:::zidovudine 100 MG Oral Capsule:::topiramate 100 MG [Topiragen]:::doxycycline monohydrate 100 MG [Mondoxyne]|\n",
            "+-----------+-------------------------------------------------------------------------------------------------------------------------------------------------------------------------------------------------------------------------------------------------------------------------------------------------------------------------------------------------------------------------------------------------------------------------------------------+----------------------------------------------------------------------------------------------------------------------------------------------------------------------------------------------------------------------------------------------------------------------------------------------------------------------------------------------------------------------------------------------------------------------------------------------------------------------------------------------------------------------------------------------------------------------------------------------------------------------------------------------------------------------------------------------------------------------------------------------------------------------------------------------------------------------------------------------------------------------------------------------------------------------------------------------------------------------------------------------------------------------------------------------------------------------------------------------------------------------------------------------------------------------------------------------------------------------------------------------------------------------------------------------------------------------------------------------------------------------------------------------------------------------------------------------------------------------------------------------------------------+\n",
            "\n"
          ]
        }
      ]
    },
    {
      "cell_type": "markdown",
      "source": [
        "### `setCaseSensitive`"
      ],
      "metadata": {
        "id": "oPTqtakyGK8L"
      }
    },
    {
      "cell_type": "markdown",
      "source": [
        "The models can be trained as case sensitive or not, so this parameter can have unexpected outcomes depending on the pretrained model used."
      ],
      "metadata": {
        "id": "lp63PQd0GSdw"
      }
    },
    {
      "cell_type": "code",
      "source": [
        "rxnorm_resolver.setCaseSensitive(False)\n",
        "\n",
        "rxnorm_pipelineModel = nlp.PipelineModel(\n",
        "    stages=[documentAssembler, sbert_embedder, rxnorm_resolver]\n",
        ")\n",
        "results = rxnorm_pipelineModel.transform(df)\n",
        "results.select(\n",
        "    F.explode(\n",
        "        F.arrays_zip(\n",
        "            results.rxnorm_code.result, results.rxnorm_code.metadata\n",
        "        )\n",
        "    ).alias(\"cols\")\n",
        ").select(\n",
        "    F.expr(\"cols['0']\").alias(\"rxnorm_code\"),\n",
        "    F.expr(\"cols['1']['all_k_results']\").alias(\"all_k_results\"),\n",
        "    F.expr(\"cols['1']['all_k_resolutions']\").alias(\"all_k_resolutions\"),\n",
        ").show(\n",
        "    truncate=False\n",
        ")\n"
      ],
      "metadata": {
        "colab": {
          "base_uri": "https://localhost:8080/"
        },
        "id": "GPAqP2F0GOul",
        "outputId": "6d96a2c0-ce62-4450-80cb-7a23a7581409"
      },
      "execution_count": 13,
      "outputs": [
        {
          "output_type": "stream",
          "name": "stdout",
          "text": [
            "+-----------+-------------------------------------------------------------------------------------------------------------------------------------------------------------------------------------------------------------------------------------------------------------------------------------------------------------------------------------------------------------------------------------------------------------------------------------------+----------------------------------------------------------------------------------------------------------------------------------------------------------------------------------------------------------------------------------------------------------------------------------------------------------------------------------------------------------------------------------------------------------------------------------------------------------------------------------------------------------------------------------------------------------------------------------------------------------------------------------------------------------------------------------------------------------------------------------------------------------------------------------------------------------------------------------------------------------------------------------------------------------------------------------------------------------------------------------------------------------------------------------------------------------------------------------------------------------------------------------------------------------------------------------------------------------------------------------------------------------------------------------------------------------------------------------------------------------------------------------------------------------------------------------------------------------------------------------------------------------------+\n",
            "|rxnorm_code|all_k_results                                                                                                                                                                                                                                                                                                                                                                                                                              |all_k_resolutions                                                                                                                                                                                                                                                                                                                                                                                                                                                                                                                                                                                                                                                                                                                                                                                                                                                                                                                                                                                                                                                                                                                                                                                                                                                                                                                                                                                                                                                                                               |\n",
            "+-----------+-------------------------------------------------------------------------------------------------------------------------------------------------------------------------------------------------------------------------------------------------------------------------------------------------------------------------------------------------------------------------------------------------------------------------------------------+----------------------------------------------------------------------------------------------------------------------------------------------------------------------------------------------------------------------------------------------------------------------------------------------------------------------------------------------------------------------------------------------------------------------------------------------------------------------------------------------------------------------------------------------------------------------------------------------------------------------------------------------------------------------------------------------------------------------------------------------------------------------------------------------------------------------------------------------------------------------------------------------------------------------------------------------------------------------------------------------------------------------------------------------------------------------------------------------------------------------------------------------------------------------------------------------------------------------------------------------------------------------------------------------------------------------------------------------------------------------------------------------------------------------------------------------------------------------------------------------------------------+\n",
            "|1726496    |1726496:::485246:::858858:::316844:::198370:::437723:::451900:::439132:::428970:::452118:::213487:::315677:::199093:::246621:::337340:::849395:::433949:::451227:::104776:::104623:::385476:::384931:::855672:::849390:::404742:::792240:::1862958:::541057:::2374555:::2374556:::2059285:::2059288:::284408:::208149:::607155:::360176:::213995:::701713:::330725:::311551:::210994:::201157:::439649:::410307:::198352:::901324:::1666541|azacitidine 100 MG:::azacitidine 100 MG Injection:::carnosine 100 MG:::torsemide 100 MG:::torsemide 100 MG Oral Tablet:::azintamide 100 MG:::tartaric acid 100 MG:::disulfiram 100 MG:::disulfiram 100 MG Oral Tablet:::tilidine 100 MG:::miglitol 100 MG Oral Tablet [Glyset]:::cimetidine 100 MG:::cimetidine 100 MG Oral Tablet:::nimesulide 100 MG Oral Tablet:::nimesulide 100 MG:::amantadine hydrochloride 100 MG Oral Tablet:::pyrazinamide 100 MG Oral Tablet:::pyrazinamide 100 MG:::clozapine 100 MG Oral Tablet [Clozaril]:::mecysteine 100 MG Oral Tablet:::mecysteine 100 MG:::methionine 100 MG:::phenytoin sodium 100 MG [Dilantin]:::amantadine hydrochloride 100 MG [Symadine]:::12 HR carbamazepine 100 MG Extended Release Oral Capsule [Carbatrol]:::ibuprofen 100 MG [Motrin]:::grapiprant 100 MG [Galliprant]:::indinavir 100 MG [Crixivan]:::eravacycline 100 MG:::eravacycline 100 MG Injection:::omadacycline 100 MG:::omadacycline 100 MG Injection:::zonisamide 100 MG Oral Capsule [Zonegran]:::sertraline 100 MG Oral Tablet [Zoloft]:::methenamine 100 MG:::thalidomide 100 MG Oral Capsule:::allopurinol 100 MG Oral Tablet [Zyloprim]:::stavudine 100 MG [Zerit]:::mesoridazine 100 MG:::mesoridazine 100 MG Oral Tablet:::captopril 100 MG Oral Tablet [Capoten]:::allopurinol 100 MG Oral Tablet [Hamarin]:::fenipentol 100 MG:::fenipentol 100 MG Oral Capsule:::zidovudine 100 MG Oral Capsule:::topiramate 100 MG [Topiragen]:::doxycycline monohydrate 100 MG [Mondoxyne]|\n",
            "+-----------+-------------------------------------------------------------------------------------------------------------------------------------------------------------------------------------------------------------------------------------------------------------------------------------------------------------------------------------------------------------------------------------------------------------------------------------------+----------------------------------------------------------------------------------------------------------------------------------------------------------------------------------------------------------------------------------------------------------------------------------------------------------------------------------------------------------------------------------------------------------------------------------------------------------------------------------------------------------------------------------------------------------------------------------------------------------------------------------------------------------------------------------------------------------------------------------------------------------------------------------------------------------------------------------------------------------------------------------------------------------------------------------------------------------------------------------------------------------------------------------------------------------------------------------------------------------------------------------------------------------------------------------------------------------------------------------------------------------------------------------------------------------------------------------------------------------------------------------------------------------------------------------------------------------------------------------------------------------------+\n",
            "\n"
          ]
        }
      ]
    },
    {
      "cell_type": "code",
      "source": [
        "rxnorm_resolver.setCaseSensitive(True)\n",
        "\n",
        "rxnorm_pipelineModel = nlp.PipelineModel(\n",
        "    stages=[documentAssembler, sbert_embedder, rxnorm_resolver]\n",
        ")\n",
        "results = rxnorm_pipelineModel.transform(df)\n",
        "results.select(\n",
        "    F.explode(\n",
        "        F.arrays_zip(\n",
        "            results.rxnorm_code.result, results.rxnorm_code.metadata\n",
        "        )\n",
        "    ).alias(\"cols\")\n",
        ").select(\n",
        "    F.expr(\"cols['0']\").alias(\"rxnorm_code\"),\n",
        "    F.expr(\"cols['1']['all_k_results']\").alias(\"all_k_results\"),\n",
        "    F.expr(\"cols['1']['all_k_resolutions']\").alias(\"all_k_resolutions\"),\n",
        ").show(\n",
        "    truncate=False\n",
        ")\n"
      ],
      "metadata": {
        "colab": {
          "base_uri": "https://localhost:8080/"
        },
        "id": "LcsEpHOkGOjV",
        "outputId": "48ba2f38-725a-40df-f549-b4df25e193a5"
      },
      "execution_count": 14,
      "outputs": [
        {
          "output_type": "stream",
          "name": "stdout",
          "text": [
            "+-----------+-------------------------------------------------------------------------------------------------------------------------------------------------------------------------------------------------------------------------------------------------------------------------------------------------------------------------------------------------------------------------------------------------------------------------------------------+----------------------------------------------------------------------------------------------------------------------------------------------------------------------------------------------------------------------------------------------------------------------------------------------------------------------------------------------------------------------------------------------------------------------------------------------------------------------------------------------------------------------------------------------------------------------------------------------------------------------------------------------------------------------------------------------------------------------------------------------------------------------------------------------------------------------------------------------------------------------------------------------------------------------------------------------------------------------------------------------------------------------------------------------------------------------------------------------------------------------------------------------------------------------------------------------------------------------------------------------------------------------------------------------------------------------------------------------------------------------------------------------------------------------------------------------------------------------------------------------------------------+\n",
            "|rxnorm_code|all_k_results                                                                                                                                                                                                                                                                                                                                                                                                                              |all_k_resolutions                                                                                                                                                                                                                                                                                                                                                                                                                                                                                                                                                                                                                                                                                                                                                                                                                                                                                                                                                                                                                                                                                                                                                                                                                                                                                                                                                                                                                                                                                               |\n",
            "+-----------+-------------------------------------------------------------------------------------------------------------------------------------------------------------------------------------------------------------------------------------------------------------------------------------------------------------------------------------------------------------------------------------------------------------------------------------------+----------------------------------------------------------------------------------------------------------------------------------------------------------------------------------------------------------------------------------------------------------------------------------------------------------------------------------------------------------------------------------------------------------------------------------------------------------------------------------------------------------------------------------------------------------------------------------------------------------------------------------------------------------------------------------------------------------------------------------------------------------------------------------------------------------------------------------------------------------------------------------------------------------------------------------------------------------------------------------------------------------------------------------------------------------------------------------------------------------------------------------------------------------------------------------------------------------------------------------------------------------------------------------------------------------------------------------------------------------------------------------------------------------------------------------------------------------------------------------------------------------------+\n",
            "|1726496    |1726496:::485246:::858858:::316844:::198370:::437723:::451900:::439132:::428970:::452118:::213487:::315677:::199093:::246621:::337340:::849395:::433949:::451227:::104776:::104623:::385476:::384931:::855672:::849390:::404742:::792240:::1862958:::541057:::2374555:::2374556:::2059285:::2059288:::284408:::208149:::607155:::360176:::213995:::701713:::330725:::311551:::210994:::201157:::439649:::410307:::198352:::901324:::1666541|azacitidine 100 MG:::azacitidine 100 MG Injection:::carnosine 100 MG:::torsemide 100 MG:::torsemide 100 MG Oral Tablet:::azintamide 100 MG:::tartaric acid 100 MG:::disulfiram 100 MG:::disulfiram 100 MG Oral Tablet:::tilidine 100 MG:::miglitol 100 MG Oral Tablet [Glyset]:::cimetidine 100 MG:::cimetidine 100 MG Oral Tablet:::nimesulide 100 MG Oral Tablet:::nimesulide 100 MG:::amantadine hydrochloride 100 MG Oral Tablet:::pyrazinamide 100 MG Oral Tablet:::pyrazinamide 100 MG:::clozapine 100 MG Oral Tablet [Clozaril]:::mecysteine 100 MG Oral Tablet:::mecysteine 100 MG:::methionine 100 MG:::phenytoin sodium 100 MG [Dilantin]:::amantadine hydrochloride 100 MG [Symadine]:::12 HR carbamazepine 100 MG Extended Release Oral Capsule [Carbatrol]:::ibuprofen 100 MG [Motrin]:::grapiprant 100 MG [Galliprant]:::indinavir 100 MG [Crixivan]:::eravacycline 100 MG:::eravacycline 100 MG Injection:::omadacycline 100 MG:::omadacycline 100 MG Injection:::zonisamide 100 MG Oral Capsule [Zonegran]:::sertraline 100 MG Oral Tablet [Zoloft]:::methenamine 100 MG:::thalidomide 100 MG Oral Capsule:::allopurinol 100 MG Oral Tablet [Zyloprim]:::stavudine 100 MG [Zerit]:::mesoridazine 100 MG:::mesoridazine 100 MG Oral Tablet:::captopril 100 MG Oral Tablet [Capoten]:::allopurinol 100 MG Oral Tablet [Hamarin]:::fenipentol 100 MG:::fenipentol 100 MG Oral Capsule:::zidovudine 100 MG Oral Capsule:::topiramate 100 MG [Topiragen]:::doxycycline monohydrate 100 MG [Mondoxyne]|\n",
            "+-----------+-------------------------------------------------------------------------------------------------------------------------------------------------------------------------------------------------------------------------------------------------------------------------------------------------------------------------------------------------------------------------------------------------------------------------------------------+----------------------------------------------------------------------------------------------------------------------------------------------------------------------------------------------------------------------------------------------------------------------------------------------------------------------------------------------------------------------------------------------------------------------------------------------------------------------------------------------------------------------------------------------------------------------------------------------------------------------------------------------------------------------------------------------------------------------------------------------------------------------------------------------------------------------------------------------------------------------------------------------------------------------------------------------------------------------------------------------------------------------------------------------------------------------------------------------------------------------------------------------------------------------------------------------------------------------------------------------------------------------------------------------------------------------------------------------------------------------------------------------------------------------------------------------------------------------------------------------------------------+\n",
            "\n"
          ]
        }
      ]
    },
    {
      "cell_type": "markdown",
      "source": [
        "### `setThreshold`"
      ],
      "metadata": {
        "id": "myxW9RXlA2d_"
      }
    },
    {
      "cell_type": "markdown",
      "source": [
        "This parameter removes neighbors where the distance is greather than the threshold value. The value will be sensitive whether you are using cosine or Euclidean distance functions."
      ],
      "metadata": {
        "id": "apGf80sFVnly"
      }
    },
    {
      "cell_type": "code",
      "source": [
        "rxnorm_resolver.getThreshold()"
      ],
      "metadata": {
        "colab": {
          "base_uri": "https://localhost:8080/"
        },
        "id": "f64ux21eETaY",
        "outputId": "bd687ec2-5343-4e9a-fd75-ab57f8842cab"
      },
      "execution_count": 15,
      "outputs": [
        {
          "output_type": "execute_result",
          "data": {
            "text/plain": [
              "1000.0"
            ]
          },
          "metadata": {},
          "execution_count": 15
        }
      ]
    },
    {
      "cell_type": "code",
      "source": [
        "rxnorm_resolver.setDistanceFunction(\"EUCLIDEAN\").setThreshold(500)\n",
        "\n",
        "rxnorm_pipelineModel = nlp.PipelineModel(\n",
        "    stages=[documentAssembler, sbert_embedder, rxnorm_resolver]\n",
        ")\n",
        "results = rxnorm_pipelineModel.transform(df)\n",
        "results.select(\n",
        "    F.explode(\n",
        "        F.arrays_zip(\n",
        "            results.rxnorm_code.result, results.rxnorm_code.metadata\n",
        "        )\n",
        "    ).alias(\"cols\")\n",
        ").select(\n",
        "    F.expr(\"cols['0']\").alias(\"rxnorm_code\"),\n",
        "    F.expr(\"cols['1']['all_k_results']\").alias(\"all_k_results\"),\n",
        "    F.expr(\"cols['1']['all_k_resolutions']\").alias(\"all_k_resolutions\"),\n",
        ").show(\n",
        "    truncate=False\n",
        ")\n"
      ],
      "metadata": {
        "colab": {
          "base_uri": "https://localhost:8080/"
        },
        "id": "EYT8C9JTCTFB",
        "outputId": "f2fe3af6-e4ab-4cc3-aaa1-1d98a721ba79"
      },
      "execution_count": 16,
      "outputs": [
        {
          "output_type": "stream",
          "name": "stdout",
          "text": [
            "+-----------+---------------------------------------------------------------------------------------------------------------------------------------------------------------------------------------------------------------------------------------------------------------------------------------------------------------------------------------------------------------------------------------------------------------------------+------------------------------------------------------------------------------------------------------------------------------------------------------------------------------------------------------------------------------------------------------------------------------------------------------------------------------------------------------------------------------------------------------------------------------------------------------------------------------------------------------------------------------------------------------------------------------------------------------------------------------------------------------------------------------------------------------------------------------------------------------------------------------------------------------------------------------------------------------------------------------------------------------------------------------------------------------------------------------------------------------------------------------------------------------------------------------------------------------------------------------------------------------------------------------------------------------------------------------------------------------------------------------------------------------------------------------+\n",
            "|rxnorm_code|all_k_results                                                                                                                                                                                                                                                                                                                                                                                                              |all_k_resolutions                                                                                                                                                                                                                                                                                                                                                                                                                                                                                                                                                                                                                                                                                                                                                                                                                                                                                                                                                                                                                                                                                                                                                                                                                                                                                                             |\n",
            "+-----------+---------------------------------------------------------------------------------------------------------------------------------------------------------------------------------------------------------------------------------------------------------------------------------------------------------------------------------------------------------------------------------------------------------------------------+------------------------------------------------------------------------------------------------------------------------------------------------------------------------------------------------------------------------------------------------------------------------------------------------------------------------------------------------------------------------------------------------------------------------------------------------------------------------------------------------------------------------------------------------------------------------------------------------------------------------------------------------------------------------------------------------------------------------------------------------------------------------------------------------------------------------------------------------------------------------------------------------------------------------------------------------------------------------------------------------------------------------------------------------------------------------------------------------------------------------------------------------------------------------------------------------------------------------------------------------------------------------------------------------------------------------------+\n",
            "|2200518    |2200518:::861024:::141916:::334738:::332848:::104494:::199955:::333262:::439563:::429178:::103910:::429408:::450523:::1744000:::401938:::402346:::1726496:::485246:::198758:::316350:::213092:::858858:::336846:::245936:::1000059:::208389:::316844:::198370:::1946838:::1946837:::451225:::433322:::882531:::856606:::1307626:::437723:::226618:::385601:::315677:::199093:::451900:::2197491:::2197495:::439132:::428970|metformin hydrochloride 100 MG/ML Extended Release Suspension:::metformin hydrochloride 100 MG/ML:::fenofibrate 100 MG Oral Capsule:::fenofibrate 100 MG:::ciprofibrate 100 MG:::ciprofibrate 100 MG Oral Tablet:::rutin 100 MG Oral Tablet:::rutin 100 MG:::fendiline 100 MG:::fendiline 100 MG Oral Tablet:::carbamazepine 100 MG Oral Tablet [Epimaz]:::perazine 100 MG Oral Tablet:::perazine 100 MG:::emtricitabine 100 MG:::miglustat 100 MG Oral Capsule:::miglustat 100 MG:::azacitidine 100 MG:::azacitidine 100 MG Injection:::niacin 100 MG Oral Capsule:::niacin 100 MG:::dolasetron 100 MG Oral Tablet [Anzemet]:::carnosine 100 MG:::trimebutine 100 MG:::trimebutine 100 MG Oral Tablet:::doxepin hydrochloride 100 MG [Adapin]:::thioridazine 100 MG Oral Tablet [Mellaril]:::torsemide 100 MG:::torsemide 100 MG Oral Tablet:::abemaciclib 100 MG Oral Tablet:::abemaciclib 100 MG:::pyrantel 100 MG:::pyrantel 100 MG Chewable Tablet:::clindamycin 100 MG [Cleocin]:::rimantadine hydrochloride 100 MG [Flumadine]:::bosutinib 100 MG [Bosulif]:::azintamide 100 MG:::mebeverine 100 MG Oral Tablet:::mebeverine 100 MG:::cimetidine 100 MG:::cimetidine 100 MG Oral Tablet:::tartaric acid 100 MG:::fedratinib 100 MG:::fedratinib 100 MG Oral Capsule:::disulfiram 100 MG:::disulfiram 100 MG Oral Tablet|\n",
            "+-----------+---------------------------------------------------------------------------------------------------------------------------------------------------------------------------------------------------------------------------------------------------------------------------------------------------------------------------------------------------------------------------------------------------------------------------+------------------------------------------------------------------------------------------------------------------------------------------------------------------------------------------------------------------------------------------------------------------------------------------------------------------------------------------------------------------------------------------------------------------------------------------------------------------------------------------------------------------------------------------------------------------------------------------------------------------------------------------------------------------------------------------------------------------------------------------------------------------------------------------------------------------------------------------------------------------------------------------------------------------------------------------------------------------------------------------------------------------------------------------------------------------------------------------------------------------------------------------------------------------------------------------------------------------------------------------------------------------------------------------------------------------------------+\n",
            "\n"
          ]
        }
      ]
    },
    {
      "cell_type": "code",
      "source": [
        "rxnorm_resolver.setDistanceFunction(\"EUCLIDEAN\").setThreshold(7)\n",
        "\n",
        "rxnorm_pipelineModel = nlp.PipelineModel(\n",
        "    stages=[documentAssembler, sbert_embedder, rxnorm_resolver]\n",
        ")\n",
        "results = rxnorm_pipelineModel.transform(df)\n",
        "results.select(\n",
        "    F.explode(\n",
        "        F.arrays_zip(\n",
        "            results.rxnorm_code.result, results.rxnorm_code.metadata\n",
        "        )\n",
        "    ).alias(\"cols\")\n",
        ").select(\n",
        "    F.expr(\"cols['0']\").alias(\"rxnorm_code\"),\n",
        "    F.expr(\"cols['1']['all_k_results']\").alias(\"all_k_results\"),\n",
        "    F.expr(\"cols['1']['all_k_resolutions']\").alias(\"all_k_resolutions\"),\n",
        ").show(\n",
        "    truncate=False\n",
        ")\n"
      ],
      "metadata": {
        "colab": {
          "base_uri": "https://localhost:8080/"
        },
        "id": "I2DwpRHuDvSt",
        "outputId": "c773097d-d1f4-4af3-87c9-cbace6a25708"
      },
      "execution_count": 17,
      "outputs": [
        {
          "output_type": "stream",
          "name": "stdout",
          "text": [
            "+-----------+-------------------------------------------------------------------------------------------------+--------------------------------------------------------------------------------------------------------------------------------------------------------------------------------------------------------------------------------------------------------------------------------------------------------------------------------------------------------+\n",
            "|rxnorm_code|all_k_results                                                                                    |all_k_resolutions                                                                                                                                                                                                                                                                                                                                       |\n",
            "+-----------+-------------------------------------------------------------------------------------------------+--------------------------------------------------------------------------------------------------------------------------------------------------------------------------------------------------------------------------------------------------------------------------------------------------------------------------------------------------------+\n",
            "|2200518    |2200518:::861024:::141916:::334738:::332848:::104494:::199955:::333262:::439563:::429178:::103910|metformin hydrochloride 100 MG/ML Extended Release Suspension:::metformin hydrochloride 100 MG/ML:::fenofibrate 100 MG Oral Capsule:::fenofibrate 100 MG:::ciprofibrate 100 MG:::ciprofibrate 100 MG Oral Tablet:::rutin 100 MG Oral Tablet:::rutin 100 MG:::fendiline 100 MG:::fendiline 100 MG Oral Tablet:::carbamazepine 100 MG Oral Tablet [Epimaz]|\n",
            "+-----------+-------------------------------------------------------------------------------------------------+--------------------------------------------------------------------------------------------------------------------------------------------------------------------------------------------------------------------------------------------------------------------------------------------------------------------------------------------------------+\n",
            "\n"
          ]
        }
      ]
    },
    {
      "cell_type": "code",
      "source": [],
      "metadata": {
        "id": "BFOYgXHqFYnd"
      },
      "execution_count": null,
      "outputs": []
    }
  ],
  "metadata": {
    "colab": {
      "provenance": [],
      "collapsed_sections": [
        "H-WyazzotqfV",
        "EyCY7zGtsNFI",
        "gUt5ptuIFMY7",
        "oPTqtakyGK8L",
        "myxW9RXlA2d_"
      ]
    },
    "kernelspec": {
      "display_name": "Python 3",
      "name": "python3"
    },
    "language_info": {
      "name": "python"
    }
  },
  "nbformat": 4,
  "nbformat_minor": 0
}
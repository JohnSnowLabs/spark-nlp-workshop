{
  "cells": [
    {
      "cell_type": "markdown",
      "metadata": {
        "id": "6Wfq4tie-OVj"
      },
      "source": [
        "![JohnSnowLabs](https://nlp.johnsnowlabs.com/assets/images/logo.png)"
      ]
    },
    {
      "cell_type": "markdown",
      "metadata": {
        "id": "0H70Ggv_i3Lp"
      },
      "source": [
        "[![Open In Colab](https://colab.research.google.com/assets/colab-badge.svg)](https://colab.research.google.com/github/JohnSnowLabs/spark-nlp-workshop/blob/master/Spark_NLP_Udemy_MOOC/Healthcare_NLP/Flattener.ipynb)"
      ]
    },
    {
      "cell_type": "markdown",
      "metadata": {
        "id": "aQ2JWggt-UYX"
      },
      "source": [
        "#   **📜 Flattener**\n"
      ]
    },
    {
      "cell_type": "markdown",
      "metadata": {
        "id": "RXIkmcBVbAZQ"
      },
      "source": [
        "The **`Flattener`** converts annotation results into a format that easier to use. This annotator produces a DataFrame with flattened and exploded columns containing annotation results, making it easier to interpret and analyze the information.\n",
        "It is particularly useful for extracting and organizing the results obtained from Spark NLP Pipelines."
      ]
    },
    {
      "cell_type": "markdown",
      "metadata": {
        "id": "e726rKETuJJr"
      },
      "source": [
        "**📖 Learning Objectives:**\n",
        "\n",
        "1. Understand how to use the annotator.\n",
        "\n",
        "2. Become comfortable using the different parameters of the annotator.\n",
        "\n",
        "**🔗 Helpful Links:**\n",
        "\n",
        "- Reference Documentation: [Flattener](https://nlp.johnsnowlabs.com/docs/en/licensed_annotators#flattener)\n",
        "\n",
        "- For extended examples of usage, see the [Spark NLP Workshop Repository](https://colab.research.google.com/github/JohnSnowLabs/spark-nlp-workshop/blob/master/tutorials/Certification_Trainings/Healthcare/41.Flattener.ipynb)\n",
        "\n",
        "- Python Docs : [Flattener](https://nlp.johnsnowlabs.com/licensed/api/python/reference/autosummary/sparknlp_jsl/annotator/flattener/index.html#module-sparknlp_jsl.annotator.flattener)\n",
        "\n",
        "- Scala Docs : [Flattener](https://nlp.johnsnowlabs.com/licensed/api/com/johnsnowlabs/nlp/annotators/Flattener.html)\n",
        "\n",
        "\n"
      ]
    },
    {
      "cell_type": "markdown",
      "metadata": {
        "id": "okhT7AcXxben"
      },
      "source": [
        "## **🎬 Colab Setup**"
      ]
    },
    {
      "cell_type": "code",
      "execution_count": null,
      "metadata": {
        "id": "xrdvNxjD_yQI"
      },
      "outputs": [],
      "source": [
        "# Install the johnsnowlabs library to access Spark-NLP for Healthcare\n",
        "! pip install -q johnsnowlabs"
      ]
    },
    {
      "cell_type": "code",
      "execution_count": null,
      "metadata": {
        "id": "3WU-z_e8jYpO"
      },
      "outputs": [],
      "source": [
        "from google.colab import files\n",
        "print('Please Upload your John Snow Labs License using the button below')\n",
        "license_keys = files.upload()"
      ]
    },
    {
      "cell_type": "code",
      "execution_count": null,
      "metadata": {
        "id": "bUDfeNzUjaO-"
      },
      "outputs": [],
      "source": [
        "from johnsnowlabs import nlp, medical\n",
        "\n",
        "# After uploading your license run this to install all licensed Python Wheels and pre-download Jars the Spark Session JVM\n",
        "\n",
        "nlp.install()"
      ]
    },
    {
      "cell_type": "code",
      "execution_count": null,
      "metadata": {
        "colab": {
          "base_uri": "https://localhost:8080/"
        },
        "id": "19b2mPsZjbI3",
        "outputId": "41e62adf-3380-4e4e-93f9-8ae898a5aca0"
      },
      "outputs": [
        {
          "output_type": "stream",
          "name": "stdout",
          "text": [
            "👌 Detected license file /content/5.5.0.spark_nlp_for_healthcare.json\n",
            "👌 Launched \u001b[92mcpu optimized\u001b[39m session with with: 🚀Spark-NLP==5.5.0, 💊Spark-Healthcare==5.5.0, running on ⚡ PySpark==3.4.0\n"
          ]
        }
      ],
      "source": [
        "# Automatically load license data and start a session with all jars user has access to\n",
        "spark = nlp.start()"
      ]
    },
    {
      "cell_type": "code",
      "execution_count": null,
      "metadata": {
        "colab": {
          "base_uri": "https://localhost:8080/",
          "height": 219
        },
        "id": "aFMD5KCS9Xih",
        "outputId": "43cf442e-2242-4294-8a7e-93b2a556a790"
      },
      "outputs": [
        {
          "output_type": "execute_result",
          "data": {
            "text/plain": [
              "<pyspark.sql.session.SparkSession at 0x79fcd4d331c0>"
            ],
            "text/html": [
              "\n",
              "            <div>\n",
              "                <p><b>SparkSession - in-memory</b></p>\n",
              "                \n",
              "        <div>\n",
              "            <p><b>SparkContext</b></p>\n",
              "\n",
              "            <p><a href=\"http://8d56e9bd87b1:4040\">Spark UI</a></p>\n",
              "\n",
              "            <dl>\n",
              "              <dt>Version</dt>\n",
              "                <dd><code>v3.4.0</code></dd>\n",
              "              <dt>Master</dt>\n",
              "                <dd><code>local[*]</code></dd>\n",
              "              <dt>AppName</dt>\n",
              "                <dd><code>John-Snow-Labs-Spark-Session 🚀 with Jars for: 🚀Spark-NLP==5.5.0, 💊Spark-Healthcare==5.5.0, running on ⚡ PySpark==3.4.0</code></dd>\n",
              "            </dl>\n",
              "        </div>\n",
              "        \n",
              "            </div>\n",
              "        "
            ]
          },
          "metadata": {},
          "execution_count": 5
        }
      ],
      "source": [
        "spark"
      ]
    },
    {
      "cell_type": "markdown",
      "metadata": {
        "id": "FBTuAaNIaE-n"
      },
      "source": [
        "## **🖨️ Input/Output Annotation Types**"
      ]
    },
    {
      "cell_type": "markdown",
      "metadata": {
        "id": "wnFxBtrjaJyP"
      },
      "source": [
        "- Input: `ANY`\n",
        "\n",
        "- Output: `NONE`"
      ]
    },
    {
      "cell_type": "markdown",
      "metadata": {
        "id": "RLbYplk2a30Z"
      },
      "source": [
        "## **🔎 Parameters**\n"
      ]
    },
    {
      "cell_type": "markdown",
      "metadata": {
        "id": "uzlkaWUZa7KN"
      },
      "source": [
        "**Parameters**:\n",
        "\n",
        "- `inputCols`: Input annotations.\n",
        "- `cleanAnnotations`: Whether to remove annotation columns, by default `True`.\n",
        "- `explodeSelectedFields`: Dict of input columns to their corresponding selected fields.\n",
        "- `flattenExplodedColumns`: Whether to flatten exploded columns(default : `True`).\n",
        "- `orderByColumn`: Specify the column by which the DataFrame should be ordered..\n",
        "- `orderDescending`: specifying whether to order the DataFrame in descending order.(default : `True`).\n",
        "- `keepOriginalColumns`: An array of column names that should be kept in the DataFrame after the flattening process.\n",
        "      \n",
        "  "
      ]
    },
    {
      "cell_type": "markdown",
      "metadata": {
        "id": "ICcnDujCGv5G"
      },
      "source": [
        "## MedicalNerModel"
      ]
    },
    {
      "cell_type": "code",
      "execution_count": null,
      "metadata": {
        "id": "5_ATrtfxfh6G"
      },
      "outputs": [],
      "source": [
        "text = \"\"\"\n",
        "GENERAL: He is an elderly gentleman in no acute distress. He is sitting up in bed eating his breakfast. He is alert and oriented and answering questions appropriately.\n",
        "HEENT: Sclerae showed mild arcus senilis in the right. Left was clear. Pupils are equally round and reactive to light. Extraocular movements are intact. Oropharynx is clear.\n",
        "NECK: Supple. Trachea is midline. No jugular venous pressure distention is noted. No adenopathy in the cervical, supraclavicular, or axillary areas.\n",
        "ABDOMEN: Soft and not tender. There may be some fullness in the left upper quadrant, although I do not appreciate a true spleen with inspiration.\n",
        "EXTREMITIES: There is some edema, but no cyanosis and clubbing .\n",
        "\"\"\"\n",
        "\n",
        "data = spark.createDataFrame([[text]]).toDF(\"text\")"
      ]
    },
    {
      "cell_type": "code",
      "execution_count": null,
      "metadata": {
        "colab": {
          "base_uri": "https://localhost:8080/"
        },
        "id": "oq5gCIvZIQN3",
        "outputId": "fa8ffed9-1ecb-406d-80ac-35d7f9d3303c"
      },
      "outputs": [
        {
          "output_type": "stream",
          "name": "stdout",
          "text": [
            "embeddings_clinical download started this may take some time.\n",
            "Approximate size to download 1.6 GB\n",
            "[OK!]\n",
            "ner_jsl download started this may take some time.\n",
            "[OK!]\n"
          ]
        }
      ],
      "source": [
        "documentAssembler = nlp.DocumentAssembler() \\\n",
        "    .setInputCol(\"text\") \\\n",
        "    .setOutputCol(\"document\")\n",
        "\n",
        "sentenceDetector = nlp.SentenceDetector() \\\n",
        "    .setInputCols([\"document\"]) \\\n",
        "    .setOutputCol(\"sentence\")\n",
        "\n",
        "tokenizer = nlp.Tokenizer() \\\n",
        "    .setInputCols([\"sentence\"]) \\\n",
        "    .setOutputCol(\"token\")\n",
        "\n",
        "word_embeddings = nlp.WordEmbeddingsModel.pretrained(\"embeddings_clinical\", \"en\", \"clinical/models\") \\\n",
        "    .setInputCols([\"sentence\", \"token\"]) \\\n",
        "    .setOutputCol(\"embeddings\")\n",
        "\n",
        "clinical_ner = medical.NerModel.pretrained(\"ner_jsl\", \"en\", \"clinical/models\") \\\n",
        "    .setInputCols([\"sentence\", \"token\", \"embeddings\"]) \\\n",
        "    .setOutputCol(\"ner\") \\\n",
        "    .setLabelCasing(\"upper\")\n",
        "\n",
        "ner_converter = nlp.NerConverter() \\\n",
        "    .setInputCols([\"sentence\", \"token\", \"ner\"]) \\\n",
        "    .setOutputCol(\"ner_chunk\") \\\n",
        "    .setWhiteList([\"SYMPTOM\",\"VS_FINDING\",\"DISEASE_SYNDROME_DISORDER\",\"ADMISSION_DISCHARGE\",\"PROCEDURE\"])\n"
      ]
    },
    {
      "cell_type": "code",
      "execution_count": null,
      "metadata": {
        "colab": {
          "base_uri": "https://localhost:8080/"
        },
        "id": "TguIN2kr2XOA",
        "outputId": "31c27959-38e6-4d13-e5d3-bd1667653534"
      },
      "outputs": [
        {
          "output_type": "stream",
          "name": "stdout",
          "text": [
            "+----------------------------------+---------------+-------------+-------------------------+---------------------------+------------------------+-----------------------------+\n",
            "|ner_chunk_result                  |ner_chunk_begin|ner_chunk_end|ner_chunk_metadata_entity|ner_chunk_metadata_sentence|ner_chunk_metadata_chunk|ner_chunk_metadata_confidence|\n",
            "+----------------------------------+---------------+-------------+-------------------------+---------------------------+------------------------+-----------------------------+\n",
            "|distress                          |49             |56           |SYMPTOM                  |0                          |0                       |0.9441                       |\n",
            "|arcus senilis                     |196            |208          |DISEASE_SYNDROME_DISORDER|3                          |1                       |0.43245                      |\n",
            "|jugular venous pressure distention|380            |413          |SYMPTOM                  |10                         |2                       |0.45412502                   |\n",
            "|adenopathy                        |428            |437          |SYMPTOM                  |11                         |3                       |0.9938                       |\n",
            "|tender                            |514            |519          |SYMPTOM                  |12                         |4                       |0.9851                       |\n",
            "|fullness                          |540            |547          |SYMPTOM                  |13                         |5                       |0.9096                       |\n",
            "|edema                             |665            |669          |SYMPTOM                  |14                         |6                       |0.9807                       |\n",
            "|cyanosis                          |679            |686          |VS_FINDING               |14                         |7                       |0.9196                       |\n",
            "|clubbing                          |692            |699          |SYMPTOM                  |14                         |8                       |0.9959                       |\n",
            "+----------------------------------+---------------+-------------+-------------------------+---------------------------+------------------------+-----------------------------+\n",
            "\n"
          ]
        }
      ],
      "source": [
        "#explode and flatten all inputCols with all info (when explodeSelectedFields is not set)\n",
        "flattener = medical.Flattener()\\\n",
        "    .setInputCols(\"ner_chunk\")\n",
        "\n",
        "nlpPipeline = nlp.Pipeline(stages=[\n",
        "    documentAssembler,\n",
        "    sentenceDetector,\n",
        "    tokenizer,\n",
        "    word_embeddings,\n",
        "    clinical_ner,\n",
        "    ner_converter,\n",
        "    flattener\n",
        "])\n",
        "\n",
        "result = nlpPipeline.fit(data).transform(data)\n",
        "result.show(truncate=False)"
      ]
    },
    {
      "cell_type": "code",
      "execution_count": null,
      "metadata": {
        "colab": {
          "base_uri": "https://localhost:8080/"
        },
        "id": "Ccb7MMTedWE_",
        "outputId": "9b567da1-ae8d-4211-9f07-453d88e0f7f0"
      },
      "outputs": [
        {
          "output_type": "stream",
          "name": "stdout",
          "text": [
            "+----------------------------------+-----+---+-------------------------+\n",
            "|ner_chunk                         |begin|end|entities                 |\n",
            "+----------------------------------+-----+---+-------------------------+\n",
            "|distress                          |49   |56 |SYMPTOM                  |\n",
            "|arcus senilis                     |196  |208|DISEASE_SYNDROME_DISORDER|\n",
            "|jugular venous pressure distention|380  |413|SYMPTOM                  |\n",
            "|adenopathy                        |428  |437|SYMPTOM                  |\n",
            "|tender                            |514  |519|SYMPTOM                  |\n",
            "|fullness                          |540  |547|SYMPTOM                  |\n",
            "|edema                             |665  |669|SYMPTOM                  |\n",
            "|cyanosis                          |679  |686|VS_FINDING               |\n",
            "|clubbing                          |692  |699|SYMPTOM                  |\n",
            "+----------------------------------+-----+---+-------------------------+\n",
            "\n"
          ]
        }
      ],
      "source": [
        "# returns exploded columns for each specified field containing annotation data.\n",
        "flattener = medical.Flattener()\\\n",
        "    .setInputCols(\"ner_chunk\") \\\n",
        "    .setExplodeSelectedFields({\"ner_chunk\": [\"result as ner_chunk\",\n",
        "                                             \"begin as begin\",\n",
        "                                             \"end as end\",\n",
        "                                             \"metadata.entity as entities\"]})\n",
        "\n",
        "nlpPipeline = nlp.Pipeline(stages=[\n",
        "    documentAssembler,\n",
        "    sentenceDetector,\n",
        "    tokenizer,\n",
        "    word_embeddings,\n",
        "    clinical_ner,\n",
        "    ner_converter,\n",
        "    flattener\n",
        "])\n",
        "\n",
        "result = nlpPipeline.fit(data).transform(data)\n",
        "result.show(truncate=False)"
      ]
    },
    {
      "cell_type": "code",
      "execution_count": null,
      "metadata": {
        "colab": {
          "base_uri": "https://localhost:8080/"
        },
        "id": "5V_JnB8J0llO",
        "outputId": "142b917b-61f6-473f-df98-3b82bd2020bf"
      },
      "outputs": [
        {
          "output_type": "stream",
          "name": "stdout",
          "text": [
            "+----------------------------------------------------------------------------------------------------+----------------------------------------------------------------------------------------------------+----------------------------------------------------------------------------------------------------+\n",
            "|                                                                                           sentences|                                                                                           ner_chunk|                                                                                              tokens|\n",
            "+----------------------------------------------------------------------------------------------------+----------------------------------------------------------------------------------------------------+----------------------------------------------------------------------------------------------------+\n",
            "|[GENERAL: He is an elderly gentleman in no acute distress., He is sitting up in bed eating his br...|[distress, arcus senilis, jugular venous pressure distention, adenopathy, tender, fullness, edema...|[GENERAL, :, He, is, an, elderly, gentleman, in, no, acute, distress, ., He, is, sitting, up, in,...|\n",
            "+----------------------------------------------------------------------------------------------------+----------------------------------------------------------------------------------------------------+----------------------------------------------------------------------------------------------------+\n",
            "\n"
          ]
        }
      ],
      "source": [
        "#without flattening\n",
        "flattener = medical.Flattener()\\\n",
        "    .setInputCols(\"sentence\", \"token\", \"ner_chunk\") \\\n",
        "    .setFlattenExplodedColumns(False)\\\n",
        "    .setExplodeSelectedFields({\"sentence\": [\"result as sentences\"],\n",
        "                               \"token\":[\"result as tokens\"],\n",
        "                               \"ner_chunk\":[\"result as ner_chunk\"]})\\\n",
        "\n",
        "nlpPipeline = nlp.Pipeline(stages=[\n",
        "    documentAssembler,\n",
        "    sentenceDetector,\n",
        "    tokenizer,\n",
        "    word_embeddings,\n",
        "    clinical_ner,\n",
        "    ner_converter,\n",
        "    flattener\n",
        "])\n",
        "\n",
        "result = nlpPipeline.fit(data).transform(data)\n",
        "result.show(truncate=100)"
      ]
    },
    {
      "cell_type": "markdown",
      "metadata": {
        "id": "jojvfPOEXTb_"
      },
      "source": [
        "## AssertionDLModel"
      ]
    },
    {
      "cell_type": "code",
      "execution_count": null,
      "metadata": {
        "colab": {
          "base_uri": "https://localhost:8080/"
        },
        "id": "LT49IjZA3bgh",
        "outputId": "7e3f297f-25f0-4853-a223-1b37746198d8"
      },
      "outputs": [
        {
          "output_type": "stream",
          "name": "stdout",
          "text": [
            "assertion_jsl_augmented download started this may take some time.\n",
            "[OK!]\n",
            "+----------------------------------+-----+---+-------------------------+---------+----------+\n",
            "|ner_chunk                         |begin|end|entities                 |assertion|confidence|\n",
            "+----------------------------------+-----+---+-------------------------+---------+----------+\n",
            "|distress                          |49   |56 |SYMPTOM                  |Absent   |0.9999    |\n",
            "|arcus senilis                     |196  |208|DISEASE_SYNDROME_DISORDER|Past     |1.0       |\n",
            "|jugular venous pressure distention|380  |413|SYMPTOM                  |Absent   |1.0       |\n",
            "|adenopathy                        |428  |437|SYMPTOM                  |Absent   |1.0       |\n",
            "|tender                            |514  |519|SYMPTOM                  |Absent   |1.0       |\n",
            "|fullness                          |540  |547|SYMPTOM                  |Possible |1.0       |\n",
            "|edema                             |665  |669|SYMPTOM                  |Present  |1.0       |\n",
            "|cyanosis                          |679  |686|VS_FINDING               |Absent   |1.0       |\n",
            "|clubbing                          |692  |699|SYMPTOM                  |Absent   |1.0       |\n",
            "+----------------------------------+-----+---+-------------------------+---------+----------+\n",
            "\n"
          ]
        }
      ],
      "source": [
        "# returns exploded columns for each specified field containing annotation data.\n",
        "clinical_assertion = medical.AssertionDLModel.pretrained(\"assertion_jsl_augmented\", \"en\", \"clinical/models\") \\\n",
        "    .setInputCols([\"sentence\", \"ner_chunk\", \"embeddings\"]) \\\n",
        "    .setOutputCol(\"assertion\") \\\n",
        "    .setEntityAssertionCaseSensitive(False)\n",
        "\n",
        "\n",
        "flattener = medical.Flattener()\\\n",
        "    .setInputCols(\"ner_chunk\", \"assertion\") \\\n",
        "    .setExplodeSelectedFields({\"ner_chunk\": [\"result as ner_chunk\",\n",
        "                                             \"begin as begin\",\n",
        "                                             \"end as end\",\n",
        "                                             \"metadata.entity as entities\"],\n",
        "                               \"assertion\":[\"result as assertion\",\n",
        "                                            \"metadata.confidence as confidence\"]\n",
        "                               })\n",
        "\n",
        "nlpPipeline = nlp.Pipeline(stages=[\n",
        "    documentAssembler,\n",
        "    sentenceDetector,\n",
        "    tokenizer,\n",
        "    word_embeddings,\n",
        "    clinical_ner,\n",
        "    ner_converter,\n",
        "    clinical_assertion,\n",
        "    flattener\n",
        "])\n",
        "\n",
        "result = nlpPipeline.fit(data).transform(data)\n",
        "result.show(truncate=False)"
      ]
    },
    {
      "cell_type": "code",
      "execution_count": null,
      "metadata": {
        "colab": {
          "base_uri": "https://localhost:8080/"
        },
        "id": "xebPYhVXzQwr",
        "outputId": "7cdb46d5-ffe0-461f-b48c-acd2594777d5"
      },
      "outputs": [
        {
          "output_type": "stream",
          "name": "stdout",
          "text": [
            "+----------------------------------+-----+---+-------------------------+---------+----------+\n",
            "|ner_chunk                         |begin|end|entities                 |assertion|confidence|\n",
            "+----------------------------------+-----+---+-------------------------+---------+----------+\n",
            "|arcus senilis                     |196  |208|DISEASE_SYNDROME_DISORDER|Past     |1.0       |\n",
            "|jugular venous pressure distention|380  |413|SYMPTOM                  |Absent   |1.0       |\n",
            "|adenopathy                        |428  |437|SYMPTOM                  |Absent   |1.0       |\n",
            "|tender                            |514  |519|SYMPTOM                  |Absent   |1.0       |\n",
            "|fullness                          |540  |547|SYMPTOM                  |Possible |1.0       |\n",
            "|edema                             |665  |669|SYMPTOM                  |Present  |1.0       |\n",
            "|cyanosis                          |679  |686|VS_FINDING               |Absent   |1.0       |\n",
            "|clubbing                          |692  |699|SYMPTOM                  |Absent   |1.0       |\n",
            "|distress                          |49   |56 |SYMPTOM                  |Absent   |0.9999    |\n",
            "+----------------------------------+-----+---+-------------------------+---------+----------+\n",
            "\n"
          ]
        }
      ],
      "source": [
        "#order descending\n",
        "flattener = medical.Flattener()\\\n",
        "    .setInputCols(\"ner_chunk\", \"assertion\") \\\n",
        "    .setExplodeSelectedFields({\"ner_chunk\": [\"result as ner_chunk\",\n",
        "                                             \"begin as begin\",\n",
        "                                             \"end as end\",\n",
        "                                             \"metadata.entity as entities\"],\n",
        "                               \"assertion\":[\"result as assertion\",\n",
        "                                            \"metadata.confidence as confidence\"]\n",
        "                               })\\\n",
        "    .setOrderByColumn(\"confidence\")\\\n",
        "    .setOrderDescending(True)\n",
        "\n",
        "nlpPipeline = nlp.Pipeline(stages=[\n",
        "    documentAssembler,\n",
        "    sentenceDetector,\n",
        "    tokenizer,\n",
        "    word_embeddings,\n",
        "    clinical_ner,\n",
        "    ner_converter,\n",
        "    clinical_assertion,\n",
        "    flattener\n",
        "])\n",
        "\n",
        "result = nlpPipeline.fit(data).transform(data)\n",
        "result.show(truncate=False)\n"
      ]
    },
    {
      "cell_type": "code",
      "source": [
        "#keep original column\n",
        "flattener = medical.Flattener()\\\n",
        "    .setInputCols(\"ner_chunk\", \"assertion\") \\\n",
        "    .setExplodeSelectedFields({\"ner_chunk\": [\"result as ner_chunk\",\n",
        "                                             \"begin as begin\",\n",
        "                                             \"end as end\",\n",
        "                                             \"metadata.entity as entities\"],\n",
        "                               \"assertion\":[\"result as assertion\",\n",
        "                                            \"metadata.confidence as confidence\"]\n",
        "                               })\\\n",
        "    .setOrderByColumn(\"confidence\")\\\n",
        "    .setOrderDescending(True)\\\n",
        "    .setKeepOriginalColumns([\"ner_chunk\"])\n",
        "\n",
        "nlpPipeline = nlp.Pipeline(stages=[\n",
        "    documentAssembler,\n",
        "    sentenceDetector,\n",
        "    tokenizer,\n",
        "    word_embeddings,\n",
        "    clinical_ner,\n",
        "    ner_converter,\n",
        "    clinical_assertion,\n",
        "    flattener\n",
        "])\n",
        "\n",
        "result = nlpPipeline.fit(data).transform(data)\n",
        "result.show(truncate=False)\n"
      ],
      "metadata": {
        "colab": {
          "base_uri": "https://localhost:8080/"
        },
        "id": "tKqWD41Kmd12",
        "outputId": "5e6ae970-e1d6-4d72-e6b9-35837081ed22"
      },
      "execution_count": null,
      "outputs": [
        {
          "output_type": "stream",
          "name": "stdout",
          "text": [
            "+----------------------------------+-----+---+-------------------------+---------+----------+--------------------------------------------------------------------------------------------------------------------------------------------------------------------------------------------------------------------------------------------------------------------------------------------------------------------------------------------------------------------------------------------------------------------------------------------------------------------------------------------------------------------------------------------------------------------------------------------------------------------------------------------------------------------------------------------------------------------------------------------------------------------------------------------------------------------------------------------------------------------------------------------------------------------------------------------------------------------------------------------------------------------------+\n",
            "|ner_chunk                         |begin|end|entities                 |assertion|confidence|ner_chunk                                                                                                                                                                                                                                                                                                                                                                                                                                                                                                                                                                                                                                                                                                                                                                                                                                                                                                                                                                                                                 |\n",
            "+----------------------------------+-----+---+-------------------------+---------+----------+--------------------------------------------------------------------------------------------------------------------------------------------------------------------------------------------------------------------------------------------------------------------------------------------------------------------------------------------------------------------------------------------------------------------------------------------------------------------------------------------------------------------------------------------------------------------------------------------------------------------------------------------------------------------------------------------------------------------------------------------------------------------------------------------------------------------------------------------------------------------------------------------------------------------------------------------------------------------------------------------------------------------------+\n",
            "|arcus senilis                     |196  |208|DISEASE_SYNDROME_DISORDER|Past     |1.0       |[{chunk, 49, 56, distress, {entity -> SYMPTOM, sentence -> 0, chunk -> 0, confidence -> 0.9441}, []}, {chunk, 196, 208, arcus senilis, {entity -> DISEASE_SYNDROME_DISORDER, sentence -> 3, chunk -> 1, confidence -> 0.43245}, []}, {chunk, 380, 413, jugular venous pressure distention, {entity -> SYMPTOM, sentence -> 10, chunk -> 2, confidence -> 0.45412502}, []}, {chunk, 428, 437, adenopathy, {entity -> SYMPTOM, sentence -> 11, chunk -> 3, confidence -> 0.9938}, []}, {chunk, 514, 519, tender, {entity -> SYMPTOM, sentence -> 12, chunk -> 4, confidence -> 0.9851}, []}, {chunk, 540, 547, fullness, {entity -> SYMPTOM, sentence -> 13, chunk -> 5, confidence -> 0.9096}, []}, {chunk, 665, 669, edema, {entity -> SYMPTOM, sentence -> 14, chunk -> 6, confidence -> 0.9807}, []}, {chunk, 679, 686, cyanosis, {entity -> VS_FINDING, sentence -> 14, chunk -> 7, confidence -> 0.9196}, []}, {chunk, 692, 699, clubbing, {entity -> SYMPTOM, sentence -> 14, chunk -> 8, confidence -> 0.9959}, []}]|\n",
            "|jugular venous pressure distention|380  |413|SYMPTOM                  |Absent   |1.0       |[{chunk, 49, 56, distress, {entity -> SYMPTOM, sentence -> 0, chunk -> 0, confidence -> 0.9441}, []}, {chunk, 196, 208, arcus senilis, {entity -> DISEASE_SYNDROME_DISORDER, sentence -> 3, chunk -> 1, confidence -> 0.43245}, []}, {chunk, 380, 413, jugular venous pressure distention, {entity -> SYMPTOM, sentence -> 10, chunk -> 2, confidence -> 0.45412502}, []}, {chunk, 428, 437, adenopathy, {entity -> SYMPTOM, sentence -> 11, chunk -> 3, confidence -> 0.9938}, []}, {chunk, 514, 519, tender, {entity -> SYMPTOM, sentence -> 12, chunk -> 4, confidence -> 0.9851}, []}, {chunk, 540, 547, fullness, {entity -> SYMPTOM, sentence -> 13, chunk -> 5, confidence -> 0.9096}, []}, {chunk, 665, 669, edema, {entity -> SYMPTOM, sentence -> 14, chunk -> 6, confidence -> 0.9807}, []}, {chunk, 679, 686, cyanosis, {entity -> VS_FINDING, sentence -> 14, chunk -> 7, confidence -> 0.9196}, []}, {chunk, 692, 699, clubbing, {entity -> SYMPTOM, sentence -> 14, chunk -> 8, confidence -> 0.9959}, []}]|\n",
            "|adenopathy                        |428  |437|SYMPTOM                  |Absent   |1.0       |[{chunk, 49, 56, distress, {entity -> SYMPTOM, sentence -> 0, chunk -> 0, confidence -> 0.9441}, []}, {chunk, 196, 208, arcus senilis, {entity -> DISEASE_SYNDROME_DISORDER, sentence -> 3, chunk -> 1, confidence -> 0.43245}, []}, {chunk, 380, 413, jugular venous pressure distention, {entity -> SYMPTOM, sentence -> 10, chunk -> 2, confidence -> 0.45412502}, []}, {chunk, 428, 437, adenopathy, {entity -> SYMPTOM, sentence -> 11, chunk -> 3, confidence -> 0.9938}, []}, {chunk, 514, 519, tender, {entity -> SYMPTOM, sentence -> 12, chunk -> 4, confidence -> 0.9851}, []}, {chunk, 540, 547, fullness, {entity -> SYMPTOM, sentence -> 13, chunk -> 5, confidence -> 0.9096}, []}, {chunk, 665, 669, edema, {entity -> SYMPTOM, sentence -> 14, chunk -> 6, confidence -> 0.9807}, []}, {chunk, 679, 686, cyanosis, {entity -> VS_FINDING, sentence -> 14, chunk -> 7, confidence -> 0.9196}, []}, {chunk, 692, 699, clubbing, {entity -> SYMPTOM, sentence -> 14, chunk -> 8, confidence -> 0.9959}, []}]|\n",
            "|tender                            |514  |519|SYMPTOM                  |Absent   |1.0       |[{chunk, 49, 56, distress, {entity -> SYMPTOM, sentence -> 0, chunk -> 0, confidence -> 0.9441}, []}, {chunk, 196, 208, arcus senilis, {entity -> DISEASE_SYNDROME_DISORDER, sentence -> 3, chunk -> 1, confidence -> 0.43245}, []}, {chunk, 380, 413, jugular venous pressure distention, {entity -> SYMPTOM, sentence -> 10, chunk -> 2, confidence -> 0.45412502}, []}, {chunk, 428, 437, adenopathy, {entity -> SYMPTOM, sentence -> 11, chunk -> 3, confidence -> 0.9938}, []}, {chunk, 514, 519, tender, {entity -> SYMPTOM, sentence -> 12, chunk -> 4, confidence -> 0.9851}, []}, {chunk, 540, 547, fullness, {entity -> SYMPTOM, sentence -> 13, chunk -> 5, confidence -> 0.9096}, []}, {chunk, 665, 669, edema, {entity -> SYMPTOM, sentence -> 14, chunk -> 6, confidence -> 0.9807}, []}, {chunk, 679, 686, cyanosis, {entity -> VS_FINDING, sentence -> 14, chunk -> 7, confidence -> 0.9196}, []}, {chunk, 692, 699, clubbing, {entity -> SYMPTOM, sentence -> 14, chunk -> 8, confidence -> 0.9959}, []}]|\n",
            "|fullness                          |540  |547|SYMPTOM                  |Possible |1.0       |[{chunk, 49, 56, distress, {entity -> SYMPTOM, sentence -> 0, chunk -> 0, confidence -> 0.9441}, []}, {chunk, 196, 208, arcus senilis, {entity -> DISEASE_SYNDROME_DISORDER, sentence -> 3, chunk -> 1, confidence -> 0.43245}, []}, {chunk, 380, 413, jugular venous pressure distention, {entity -> SYMPTOM, sentence -> 10, chunk -> 2, confidence -> 0.45412502}, []}, {chunk, 428, 437, adenopathy, {entity -> SYMPTOM, sentence -> 11, chunk -> 3, confidence -> 0.9938}, []}, {chunk, 514, 519, tender, {entity -> SYMPTOM, sentence -> 12, chunk -> 4, confidence -> 0.9851}, []}, {chunk, 540, 547, fullness, {entity -> SYMPTOM, sentence -> 13, chunk -> 5, confidence -> 0.9096}, []}, {chunk, 665, 669, edema, {entity -> SYMPTOM, sentence -> 14, chunk -> 6, confidence -> 0.9807}, []}, {chunk, 679, 686, cyanosis, {entity -> VS_FINDING, sentence -> 14, chunk -> 7, confidence -> 0.9196}, []}, {chunk, 692, 699, clubbing, {entity -> SYMPTOM, sentence -> 14, chunk -> 8, confidence -> 0.9959}, []}]|\n",
            "|edema                             |665  |669|SYMPTOM                  |Present  |1.0       |[{chunk, 49, 56, distress, {entity -> SYMPTOM, sentence -> 0, chunk -> 0, confidence -> 0.9441}, []}, {chunk, 196, 208, arcus senilis, {entity -> DISEASE_SYNDROME_DISORDER, sentence -> 3, chunk -> 1, confidence -> 0.43245}, []}, {chunk, 380, 413, jugular venous pressure distention, {entity -> SYMPTOM, sentence -> 10, chunk -> 2, confidence -> 0.45412502}, []}, {chunk, 428, 437, adenopathy, {entity -> SYMPTOM, sentence -> 11, chunk -> 3, confidence -> 0.9938}, []}, {chunk, 514, 519, tender, {entity -> SYMPTOM, sentence -> 12, chunk -> 4, confidence -> 0.9851}, []}, {chunk, 540, 547, fullness, {entity -> SYMPTOM, sentence -> 13, chunk -> 5, confidence -> 0.9096}, []}, {chunk, 665, 669, edema, {entity -> SYMPTOM, sentence -> 14, chunk -> 6, confidence -> 0.9807}, []}, {chunk, 679, 686, cyanosis, {entity -> VS_FINDING, sentence -> 14, chunk -> 7, confidence -> 0.9196}, []}, {chunk, 692, 699, clubbing, {entity -> SYMPTOM, sentence -> 14, chunk -> 8, confidence -> 0.9959}, []}]|\n",
            "|cyanosis                          |679  |686|VS_FINDING               |Absent   |1.0       |[{chunk, 49, 56, distress, {entity -> SYMPTOM, sentence -> 0, chunk -> 0, confidence -> 0.9441}, []}, {chunk, 196, 208, arcus senilis, {entity -> DISEASE_SYNDROME_DISORDER, sentence -> 3, chunk -> 1, confidence -> 0.43245}, []}, {chunk, 380, 413, jugular venous pressure distention, {entity -> SYMPTOM, sentence -> 10, chunk -> 2, confidence -> 0.45412502}, []}, {chunk, 428, 437, adenopathy, {entity -> SYMPTOM, sentence -> 11, chunk -> 3, confidence -> 0.9938}, []}, {chunk, 514, 519, tender, {entity -> SYMPTOM, sentence -> 12, chunk -> 4, confidence -> 0.9851}, []}, {chunk, 540, 547, fullness, {entity -> SYMPTOM, sentence -> 13, chunk -> 5, confidence -> 0.9096}, []}, {chunk, 665, 669, edema, {entity -> SYMPTOM, sentence -> 14, chunk -> 6, confidence -> 0.9807}, []}, {chunk, 679, 686, cyanosis, {entity -> VS_FINDING, sentence -> 14, chunk -> 7, confidence -> 0.9196}, []}, {chunk, 692, 699, clubbing, {entity -> SYMPTOM, sentence -> 14, chunk -> 8, confidence -> 0.9959}, []}]|\n",
            "|clubbing                          |692  |699|SYMPTOM                  |Absent   |1.0       |[{chunk, 49, 56, distress, {entity -> SYMPTOM, sentence -> 0, chunk -> 0, confidence -> 0.9441}, []}, {chunk, 196, 208, arcus senilis, {entity -> DISEASE_SYNDROME_DISORDER, sentence -> 3, chunk -> 1, confidence -> 0.43245}, []}, {chunk, 380, 413, jugular venous pressure distention, {entity -> SYMPTOM, sentence -> 10, chunk -> 2, confidence -> 0.45412502}, []}, {chunk, 428, 437, adenopathy, {entity -> SYMPTOM, sentence -> 11, chunk -> 3, confidence -> 0.9938}, []}, {chunk, 514, 519, tender, {entity -> SYMPTOM, sentence -> 12, chunk -> 4, confidence -> 0.9851}, []}, {chunk, 540, 547, fullness, {entity -> SYMPTOM, sentence -> 13, chunk -> 5, confidence -> 0.9096}, []}, {chunk, 665, 669, edema, {entity -> SYMPTOM, sentence -> 14, chunk -> 6, confidence -> 0.9807}, []}, {chunk, 679, 686, cyanosis, {entity -> VS_FINDING, sentence -> 14, chunk -> 7, confidence -> 0.9196}, []}, {chunk, 692, 699, clubbing, {entity -> SYMPTOM, sentence -> 14, chunk -> 8, confidence -> 0.9959}, []}]|\n",
            "|distress                          |49   |56 |SYMPTOM                  |Absent   |0.9999    |[{chunk, 49, 56, distress, {entity -> SYMPTOM, sentence -> 0, chunk -> 0, confidence -> 0.9441}, []}, {chunk, 196, 208, arcus senilis, {entity -> DISEASE_SYNDROME_DISORDER, sentence -> 3, chunk -> 1, confidence -> 0.43245}, []}, {chunk, 380, 413, jugular venous pressure distention, {entity -> SYMPTOM, sentence -> 10, chunk -> 2, confidence -> 0.45412502}, []}, {chunk, 428, 437, adenopathy, {entity -> SYMPTOM, sentence -> 11, chunk -> 3, confidence -> 0.9938}, []}, {chunk, 514, 519, tender, {entity -> SYMPTOM, sentence -> 12, chunk -> 4, confidence -> 0.9851}, []}, {chunk, 540, 547, fullness, {entity -> SYMPTOM, sentence -> 13, chunk -> 5, confidence -> 0.9096}, []}, {chunk, 665, 669, edema, {entity -> SYMPTOM, sentence -> 14, chunk -> 6, confidence -> 0.9807}, []}, {chunk, 679, 686, cyanosis, {entity -> VS_FINDING, sentence -> 14, chunk -> 7, confidence -> 0.9196}, []}, {chunk, 692, 699, clubbing, {entity -> SYMPTOM, sentence -> 14, chunk -> 8, confidence -> 0.9959}, []}]|\n",
            "+----------------------------------+-----+---+-------------------------+---------+----------+--------------------------------------------------------------------------------------------------------------------------------------------------------------------------------------------------------------------------------------------------------------------------------------------------------------------------------------------------------------------------------------------------------------------------------------------------------------------------------------------------------------------------------------------------------------------------------------------------------------------------------------------------------------------------------------------------------------------------------------------------------------------------------------------------------------------------------------------------------------------------------------------------------------------------------------------------------------------------------------------------------------------------+\n",
            "\n"
          ]
        }
      ]
    },
    {
      "cell_type": "markdown",
      "metadata": {
        "id": "CJSRlgJDgsW3"
      },
      "source": [
        "## RelationExtractionModel"
      ]
    },
    {
      "cell_type": "code",
      "execution_count": null,
      "metadata": {
        "colab": {
          "base_uri": "https://localhost:8080/"
        },
        "id": "ZnQOQoZNguWl",
        "outputId": "badbed61-1a6e-465f-d077-95dbeab430a9"
      },
      "outputs": [
        {
          "output_type": "stream",
          "name": "stdout",
          "text": [
            "embeddings_clinical download started this may take some time.\n",
            "Approximate size to download 1.6 GB\n",
            "[OK!]\n",
            "pos_clinical download started this may take some time.\n",
            "Approximate size to download 1.5 MB\n",
            "[OK!]\n",
            "ner_posology download started this may take some time.\n",
            "[OK!]\n",
            "dependency_conllu download started this may take some time.\n",
            "Approximate size to download 16.7 MB\n",
            "[OK!]\n"
          ]
        }
      ],
      "source": [
        "document_assambler = nlp.DocumentAssembler()\\\n",
        "    .setInputCol(\"text\")\\\n",
        "    .setOutputCol(\"document\")\n",
        "\n",
        "sentence_detector = nlp.SentenceDetector()\\\n",
        "    .setInputCols([\"document\"])\\\n",
        "    .setOutputCol(\"sentence\")\n",
        "\n",
        "tokenizer = nlp.Tokenizer()\\\n",
        "    .setInputCols([\"sentence\"])\\\n",
        "    .setOutputCol(\"token\")\n",
        "\n",
        "word_embeddings = nlp.WordEmbeddingsModel()\\\n",
        "    .pretrained(\"embeddings_clinical\", \"en\", \"clinical/models\")\\\n",
        "    .setInputCols([\"sentence\", \"token\"])\\\n",
        "    .setOutputCol(\"embeddings\")\n",
        "\n",
        "pos_tagger = nlp.PerceptronModel()\\\n",
        "    .pretrained(\"pos_clinical\", \"en\", \"clinical/models\") \\\n",
        "    .setInputCols([\"sentence\", \"token\"])\\\n",
        "    .setOutputCol(\"pos_tags\")\n",
        "\n",
        "pos_ner_tagger = medical.NerModel()\\\n",
        "    .pretrained(\"ner_posology\", \"en\", \"clinical/models\")\\\n",
        "    .setInputCols(\"sentence\", \"token\", \"embeddings\")\\\n",
        "    .setOutputCol(\"ner_pos\")\n",
        "\n",
        "pos_ner_chunker = nlp.NerConverter()\\\n",
        "    .setInputCols([\"sentence\", \"token\", \"ner_pos\"])\\\n",
        "    .setOutputCol(\"pos_ner_chunks\")\n",
        "\n",
        "dependency_parser = nlp.DependencyParserModel()\\\n",
        "    .pretrained(\"dependency_conllu\", \"en\")\\\n",
        "    .setInputCols([\"sentence\", \"pos_tags\", \"token\"])\\\n",
        "    .setOutputCol(\"dependencies\")\n",
        "\n",
        "pos_reModel = medical.RelationExtractionModel()\\\n",
        "    .pretrained(\"posology_re\")\\\n",
        "    .setInputCols([\"embeddings\", \"pos_tags\", \"pos_ner_chunks\", \"dependencies\"])\\\n",
        "    .setOutputCol(\"pos_relations\")\\\n",
        "    .setMaxSyntacticDistance(4)"
      ]
    },
    {
      "cell_type": "code",
      "execution_count": null,
      "metadata": {
        "colab": {
          "base_uri": "https://localhost:8080/"
        },
        "id": "OBIJBiWeguSN",
        "outputId": "c7b55362-5cf7-4b32-bf41-fd8d80d9b433"
      },
      "outputs": [
        {
          "output_type": "stream",
          "name": "stdout",
          "text": [
            "+--------------+---------+-------------+-----------+-------+----------+-------------+-----------+---------+\n",
            "|relations     |chunk1   |entity1_begin|entity1_end|entity1|chunk2    |entity2_begin|entity2_end|entity2  |\n",
            "+--------------+---------+-------------+-----------+-------+----------+-------------+-----------+---------+\n",
            "|DOSAGE-DRUG   |1 unit   |27           |32         |DOSAGE |naproxen  |37           |44         |DRUG     |\n",
            "|DRUG-DURATION |naproxen |37           |44         |DRUG   |for 5 days|46           |55         |DURATION |\n",
            "|DOSAGE-DRUG   |1 unit   |123          |128        |DOSAGE |oxaprozin |133          |141        |DRUG     |\n",
            "|DRUG-FREQUENCY|oxaprozin|133          |141        |DRUG   |daily     |143          |147        |FREQUENCY|\n",
            "+--------------+---------+-------------+-----------+-------+----------+-------------+-----------+---------+\n",
            "\n"
          ]
        }
      ],
      "source": [
        "flattener = medical.Flattener()\\\n",
        "    .setInputCols(\"pos_relations\") \\\n",
        "    .setExplodeSelectedFields({\"pos_relations\": [\"result as relations\",\n",
        "                                                 \"metadata.chunk1 as chunk1\",\n",
        "                                                 \"metadata.entity1_begin as entity1_begin\",\n",
        "                                                 \"metadata.entity1_end as entity1_end\",\n",
        "                                                 \"metadata.entity1 as entity1\",\n",
        "                                                 \"metadata.chunk2 as chunk2\",\n",
        "                                                 \"metadata.entity2_begin as entity2_begin\",\n",
        "                                                 \"metadata.entity2_end as entity2_end\",\n",
        "                                                 \"metadata.entity2 as entity2\"]})\n",
        "\n",
        "re_pipeline = nlp.Pipeline(stages=[\n",
        "        document_assambler,\n",
        "        sentence_detector,\n",
        "        tokenizer,\n",
        "        word_embeddings,\n",
        "        pos_tagger,\n",
        "        pos_ner_tagger,\n",
        "        pos_ner_chunker,\n",
        "        dependency_parser,\n",
        "        pos_reModel,\n",
        "        flattener\n",
        "])\n",
        "\n",
        "text = \"\"\"The patient was prescribed 1 unit of naproxen for 5 days after meals for chronic low back pain.\n",
        "The patient was also given 1 unit of oxaprozin daily for rheumatoid arthritis presented with tense bullae and\n",
        "cutaneous fragility on the face and the back of the hands.\n",
        "\"\"\"\n",
        "data = spark.createDataFrame([[text]]).toDF(\"text\")\n",
        "result = re_pipeline.fit(data).transform(data)\n",
        "result.show(truncate=False)"
      ]
    },
    {
      "cell_type": "markdown",
      "metadata": {
        "id": "Vv2jfHHYhM--"
      },
      "source": [
        "## SentenceEntityResolverModel"
      ]
    },
    {
      "cell_type": "code",
      "execution_count": null,
      "metadata": {
        "colab": {
          "base_uri": "https://localhost:8080/"
        },
        "id": "_DuAJaGSguLD",
        "outputId": "1c9c335b-dbc8-41ed-e1f5-c35ff9bc90be"
      },
      "outputs": [
        {
          "output_type": "stream",
          "name": "stdout",
          "text": [
            "sentence_detector_dl_healthcare download started this may take some time.\n",
            "Approximate size to download 367.3 KB\n",
            "[OK!]\n",
            "embeddings_clinical download started this may take some time.\n",
            "Approximate size to download 1.6 GB\n",
            "[OK!]\n",
            "ner_clinical download started this may take some time.\n",
            "[OK!]\n",
            "sbiobert_base_cased_mli download started this may take some time.\n",
            "Approximate size to download 384.3 MB\n",
            "[OK!]\n",
            "sbiobertresolve_icd10cm_augmented_billable_hcc download started this may take some time.\n",
            "[OK!]\n"
          ]
        }
      ],
      "source": [
        "document_assembler = nlp.DocumentAssembler()\\\n",
        "    .setInputCol(\"text\")\\\n",
        "    .setOutputCol(\"document\")\n",
        "\n",
        "sentenceDetectorDL = nlp.SentenceDetectorDLModel.pretrained(\"sentence_detector_dl_healthcare\", \"en\", 'clinical/models') \\\n",
        "    .setInputCols(\"document\") \\\n",
        "    .setOutputCol(\"sentence\")\n",
        "\n",
        "tokenizer = nlp.Tokenizer()\\\n",
        "    .setInputCols(\"sentence\")\\\n",
        "    .setOutputCol(\"token\")\n",
        "\n",
        "word_embeddings = nlp.WordEmbeddingsModel.pretrained(\"embeddings_clinical\", \"en\", \"clinical/models\")\\\n",
        "    .setInputCols([\"sentence\", \"token\"])\\\n",
        "    .setOutputCol(\"word_embeddings\")\n",
        "\n",
        "clinical_ner = medical.NerModel.pretrained(\"ner_clinical\", \"en\", \"clinical/models\") \\\n",
        "    .setInputCols([\"sentence\", \"token\", \"word_embeddings\"]) \\\n",
        "    .setOutputCol(\"ner\")\n",
        "\n",
        "ner_converter_icd = nlp.NerConverter() \\\n",
        "    .setInputCols([\"sentence\", \"token\", \"ner\"]) \\\n",
        "    .setOutputCol(\"ner_chunk\")\\\n",
        "    .setWhiteList(['PROBLEM'])\\\n",
        "    .setPreservePosition(False)\n",
        "\n",
        "c2doc = nlp.Chunk2Doc()\\\n",
        "    .setInputCols(\"ner_chunk\")\\\n",
        "    .setOutputCol(\"doc_ner_chunk\")\n",
        "\n",
        "sbert_embedder = nlp.BertSentenceEmbeddings.pretrained('sbiobert_base_cased_mli', 'en','clinical/models')\\\n",
        "    .setInputCols(\"doc_ner_chunk\")\\\n",
        "    .setOutputCol(\"sentence_embeddings\")\\\n",
        "    .setCaseSensitive(False)\n",
        "\n",
        "icd_resolver = medical.SentenceEntityResolverModel.pretrained(\"sbiobertresolve_icd10cm_augmented_billable_hcc\",\"en\", \"clinical/models\") \\\n",
        "    .setInputCols([\"sentence_embeddings\"]) \\\n",
        "    .setOutputCol(\"icd10cm_code\")\\\n",
        "    .setDistanceFunction(\"EUCLIDEAN\")"
      ]
    },
    {
      "cell_type": "code",
      "execution_count": null,
      "metadata": {
        "colab": {
          "base_uri": "https://localhost:8080/"
        },
        "id": "3Zpu2qv-hknz",
        "outputId": "3c9c5245-f39e-41af-f683-f781a3539b94"
      },
      "outputs": [
        {
          "output_type": "stream",
          "name": "stdout",
          "text": [
            "+-----------+--------+------------+--------------------------------------------------------------------------------+--------------------------------------------------------------------------------+--------------------------------------------------------------------------------+\n",
            "|  ner_chunk|entities|icd10cm_code|                                                                   all_k_results|                                                               all_k_resolutions|                                                                all_k_aux_labels|\n",
            "+-----------+--------+------------+--------------------------------------------------------------------------------+--------------------------------------------------------------------------------+--------------------------------------------------------------------------------+\n",
            "|gestational| PROBLEM|       Z33.1|Z33.1:::Z3A:::Z34.00:::O00.8:::Z33:::Z33.3:::O30:::P05.0:::O43.89:::T19.3:::Z...|gestation [pregnant state, incidental]:::weeks of gestation [weeks of gestati...|1||0||0:::0||0||0:::1||0||0:::0||0||0:::0||0||0:::1||0||0:::0||0||0:::0||0||0...|\n",
            "| subsequent| PROBLEM|       Z13.9|Z13.9:::O48.0:::I22.8:::Q13.1:::E72.3:::Z76.89:::B35.5:::F91.2:::E71.31:::Z64...|temporal finding [encounter for screening, unspecified]:::post-dates [post-te...|1||0||0:::1||0||0:::1||1||86:::1||0||0:::1||1||23:::1||0||0:::1||0||0:::1||0|...|\n",
            "|         an| PROBLEM|      H55.09|H55.09:::H51.8:::B03:::R25.8:::Q13.1:::Z76.89:::F99:::R44.8:::R29.2:::R41.89:...|ins [other forms of nystagmus]:::oed [other specified disorders of binocular ...|1||0||0:::1||0||0:::1||0||0:::1||0||0:::1||0||0:::1||0||0:::1||0||0:::1||0||0...|\n",
            "|    obesity| PROBLEM|       E66.9|E66.9:::E66.8:::Z68.41:::Q13.0:::E66:::E66.01:::Z86.39:::E34.9:::H35.50:::Z83...|obesity [obesity, unspecified]:::abdominal obesity [other obesity]:::obese [b...|1||0||0:::1||0||0:::1||1||22:::1||0||0:::0||0||0:::1||1||22:::1||0||0:::1||0|...|\n",
            "|          a| PROBLEM|       E31.0|E31.0:::B03:::H55.09:::Q13.1:::R25.8:::H51.8:::R94.13:::R44.8:::Z76.89:::E72....|aps [autoimmune polyglandular failure]:::amaas [smallpox]:::ins [other forms ...|1||1||23:::1||0||0:::1||0||0:::1||0||0:::1||0||0:::1||0||0:::0||0||0:::1||0||...|\n",
            "+-----------+--------+------------+--------------------------------------------------------------------------------+--------------------------------------------------------------------------------+--------------------------------------------------------------------------------+\n",
            "\n"
          ]
        }
      ],
      "source": [
        "flattener = medical.Flattener()\\\n",
        "    .setInputCols( \"ner_chunk\", \"icd10cm_code\") \\\n",
        "    .setExplodeSelectedFields({\"ner_chunk\": [\"result as ner_chunk\",\n",
        "                                             \"metadata.entity as entities\"],\n",
        "                               \"icd10cm_code\": [\"result as icd10cm_code\",\n",
        "                                                 \"metadata.all_k_results as all_k_results\",\n",
        "                                                 \"metadata.all_k_resolutions as all_k_resolutions\",\n",
        "                                                 \"metadata.all_k_aux_labels as all_k_aux_labels\"],\n",
        "                               })\n",
        "\n",
        "resolver_pipeline = nlp.Pipeline(\n",
        "    stages = [\n",
        "        document_assembler,\n",
        "        sentenceDetectorDL,\n",
        "        tokenizer,\n",
        "        word_embeddings,\n",
        "        clinical_ner,\n",
        "        ner_converter_icd,\n",
        "        c2doc,\n",
        "        sbert_embedder,\n",
        "        icd_resolver,\n",
        "        flattener\n",
        "  ])\n",
        "\n",
        "\n",
        "text = \"\"\"A 28-year-old female with a history of gestational diabetes mellitus diagnosed eight years prior to presentation\n",
        "and subsequent type two diabetes mellitus, associated with an acute hepatitis, and obesity with a body mass index (BMI) of 33.5 kg/m2,\n",
        "\"\"\"\n",
        "data = spark.createDataFrame([[text]]).toDF(\"text\")\n",
        "\n",
        "result = resolver_pipeline.fit(data).transform(data)\n",
        "result.show(truncate=80)"
      ]
    }
  ],
  "metadata": {
    "colab": {
      "machine_shape": "hm",
      "provenance": [],
      "toc_visible": true
    },
    "kernelspec": {
      "display_name": "Python 3",
      "name": "python3"
    },
    "language_info": {
      "name": "python"
    }
  },
  "nbformat": 4,
  "nbformat_minor": 0
}

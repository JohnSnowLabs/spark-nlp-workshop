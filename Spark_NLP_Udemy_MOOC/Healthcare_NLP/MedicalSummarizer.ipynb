{
  "nbformat": 4,
  "nbformat_minor": 0,
  "metadata": {
    "colab": {
      "provenance": [],
      "machine_shape": "hm",
      "toc_visible": true
    },
    "kernelspec": {
      "name": "python3",
      "display_name": "Python 3"
    },
    "language_info": {
      "name": "python"
    }
  },
  "cells": [
    {
      "cell_type": "markdown",
      "source": [
        "![JohnSnowLabs](https://nlp.johnsnowlabs.com/assets/images/logo.png)"
      ],
      "metadata": {
        "id": "8V_Ow3cAVEYe"
      }
    },
    {
      "cell_type": "markdown",
      "source": [
        "# **MedicalSummarizer**"
      ],
      "metadata": {
        "id": "Y0fJRpNJBslT"
      }
    },
    {
      "cell_type": "markdown",
      "source": [
        "This notebook will cover the different parameters and usages of `MedicalSummarizer`.\n",
        "\n",
        "**📖 Learning Objectives:**\n",
        "\n",
        "1. Background: Understand the `MedicalSummarizer` Annotator.\n",
        "\n",
        "2. Colab setup.\n",
        "\n",
        "3. Become comfortable with using the different parameters of the annotator.\n",
        "\n",
        "**🔗 Helpful Links:**\n",
        "\n",
        "- Python Docs : [MedicalSummarizer](https://nlp.johnsnowlabs.com/licensed/api/python/reference/autosummary/sparknlp_jsl/annotator/seq2seq/medical_summarizer/index.html#sparknlp_jsl.annotator.seq2seq.medical_summarizer.MedicalSummarizer)\n",
        "\n",
        "- Scala Docs: [MedicalSummarizer](https://nlp.johnsnowlabs.com/licensed/api/com/johnsnowlabs/nlp/annotators/seq2seq/MedicalSummarizer.html)\n",
        "\n",
        "- For extended examples of usage, see [Spark NLP Workshop repository](https://colab.research.google.com/github/JohnSnowLabs/spark-nlp-workshop/blob/master/healthcare-nlp/24.0.Medical_Text_Summarization.ipynb).\n"
      ],
      "metadata": {
        "id": "qeclGJmrVLjX"
      }
    },
    {
      "cell_type": "markdown",
      "source": [
        "## **📜 Background**"
      ],
      "metadata": {
        "id": "OV0hPSCWXslc"
      }
    },
    {
      "cell_type": "markdown",
      "source": [
        "🔎 **Text Summarization** is a natural language processing (NLP) task that involves condensing a lengthy text document into a shorter, more compact version while still retaining the most important information and meaning. The goal is to produce a summary that accurately represents the content of the original text in a concise form.\n",
        "\n",
        "🔎There are different approaches to text summarization, including `extractive methods` that identify and extract important sentences or phrases from the text, and `abstractive methods` that generate new text based on the content of the original text."
      ],
      "metadata": {
        "id": "_-hGkZ7_cAZE"
      }
    },
    {
      "cell_type": "markdown",
      "source": [
        "## **🎬 Colab Setup**"
      ],
      "metadata": {
        "id": "E8qy2MI2XySv"
      }
    },
    {
      "cell_type": "code",
      "source": [
        "import os, json\n",
        "\n",
        "from google.colab import files\n",
        "\n",
        "if 'spark_jsl.json' not in os.listdir():\n",
        "  license_keys = files.upload()\n",
        "  os.rename(list(license_keys.keys())[0], 'spark_jsl.json')\n",
        "\n",
        "with open('spark_jsl.json') as f:\n",
        "    license_keys = json.load(f)\n",
        "\n",
        "locals().update(license_keys)\n",
        "os.environ.update(license_keys)\n"
      ],
      "metadata": {
        "id": "GPzfC_C3_X5W"
      },
      "execution_count": null,
      "outputs": []
    },
    {
      "cell_type": "code",
      "execution_count": null,
      "metadata": {
        "id": "HuLFt0OdBkuo",
        "colab": {
          "base_uri": "https://localhost:8080/"
        },
        "outputId": "c85f98bb-0abd-49da-b4fa-a1b4c83350a4"
      },
      "outputs": [
        {
          "output_type": "stream",
          "name": "stdout",
          "text": [
            "\u001b[2K     \u001b[90m━━━━━━━━━━━━━━━━━━━━━━━━━━━━━━━━━━━━━━━━\u001b[0m \u001b[32m126.2/126.2 kB\u001b[0m \u001b[31m3.2 MB/s\u001b[0m eta \u001b[36m0:00:00\u001b[0m\n",
            "\u001b[2K     \u001b[90m━━━━━━━━━━━━━━━━━━━━━━━━━━━━━━━━━━━━━━━━\u001b[0m \u001b[32m310.8/310.8 MB\u001b[0m \u001b[31m2.9 MB/s\u001b[0m eta \u001b[36m0:00:00\u001b[0m\n",
            "\u001b[?25h  Preparing metadata (setup.py) ... \u001b[?25l\u001b[?25hdone\n",
            "\u001b[2K     \u001b[90m━━━━━━━━━━━━━━━━━━━━━━━━━━━━━━━━━━━━━━━━\u001b[0m \u001b[32m547.3/547.3 kB\u001b[0m \u001b[31m46.3 MB/s\u001b[0m eta \u001b[36m0:00:00\u001b[0m\n",
            "\u001b[2K     \u001b[90m━━━━━━━━━━━━━━━━━━━━━━━━━━━━━━━━━━━━━━━━\u001b[0m \u001b[32m665.7/665.7 kB\u001b[0m \u001b[31m51.3 MB/s\u001b[0m eta \u001b[36m0:00:00\u001b[0m\n",
            "\u001b[2K     \u001b[90m━━━━━━━━━━━━━━━━━━━━━━━━━━━━━━━━━━━━━━━━\u001b[0m \u001b[32m95.4/95.4 kB\u001b[0m \u001b[31m13.4 MB/s\u001b[0m eta \u001b[36m0:00:00\u001b[0m\n",
            "\u001b[2K     \u001b[90m━━━━━━━━━━━━━━━━━━━━━━━━━━━━━━━━━━━━━━━━\u001b[0m \u001b[32m3.1/3.1 MB\u001b[0m \u001b[31m84.3 MB/s\u001b[0m eta \u001b[36m0:00:00\u001b[0m\n",
            "\u001b[2K     \u001b[90m━━━━━━━━━━━━━━━━━━━━━━━━━━━━━━━━━━━━━━━━\u001b[0m \u001b[32m139.3/139.3 kB\u001b[0m \u001b[31m15.5 MB/s\u001b[0m eta \u001b[36m0:00:00\u001b[0m\n",
            "\u001b[2K     \u001b[90m━━━━━━━━━━━━━━━━━━━━━━━━━━━━━━━━━━━━━━━━\u001b[0m \u001b[32m66.9/66.9 kB\u001b[0m \u001b[31m8.3 MB/s\u001b[0m eta \u001b[36m0:00:00\u001b[0m\n",
            "\u001b[2K     \u001b[90m━━━━━━━━━━━━━━━━━━━━━━━━━━━━━━━━━━━━━━━━\u001b[0m \u001b[32m12.0/12.0 MB\u001b[0m \u001b[31m89.4 MB/s\u001b[0m eta \u001b[36m0:00:00\u001b[0m\n",
            "\u001b[2K     \u001b[90m━━━━━━━━━━━━━━━━━━━━━━━━━━━━━━━━━━━━━━━━\u001b[0m \u001b[32m82.1/82.1 kB\u001b[0m \u001b[31m10.5 MB/s\u001b[0m eta \u001b[36m0:00:00\u001b[0m\n",
            "\u001b[2K     \u001b[90m━━━━━━━━━━━━━━━━━━━━━━━━━━━━━━━━━━━━━━━━\u001b[0m \u001b[32m150.3/150.3 kB\u001b[0m \u001b[31m18.6 MB/s\u001b[0m eta \u001b[36m0:00:00\u001b[0m\n",
            "\u001b[2K     \u001b[90m━━━━━━━━━━━━━━━━━━━━━━━━━━━━━━━━━━━━━━━━\u001b[0m \u001b[32m1.6/1.6 MB\u001b[0m \u001b[31m73.2 MB/s\u001b[0m eta \u001b[36m0:00:00\u001b[0m\n",
            "\u001b[?25h  Building wheel for pyspark (setup.py) ... \u001b[?25l\u001b[?25hdone\n"
          ]
        }
      ],
      "source": [
        "!pip install -q johnsnowlabs"
      ]
    },
    {
      "cell_type": "code",
      "source": [
        "from johnsnowlabs import nlp, medical\n",
        "nlp.install()"
      ],
      "metadata": {
        "id": "R3QoZ6LaEqs3",
        "colab": {
          "base_uri": "https://localhost:8080/"
        },
        "outputId": "86168fcf-ce66-400e-f23b-5d23e60e06a0"
      },
      "execution_count": null,
      "outputs": [
        {
          "output_type": "stream",
          "name": "stdout",
          "text": [
            "👌 Detected license file /content/spark_jsl.json\n",
            "📋 Stored John Snow Labs License in /root/.johnsnowlabs/licenses/license_number_0_for_Spark-Healthcare_Spark-OCR.json\n",
            "👷 Setting up  John Snow Labs home in /root/.johnsnowlabs, this might take a few minutes.\n",
            "Downloading 🐍+🚀 Python Library spark_nlp-5.2.2-py2.py3-none-any.whl\n",
            "Downloading 🐍+💊 Python Library spark_nlp_jsl-5.2.1-py3-none-any.whl\n",
            "Downloading 🫘+🚀 Java Library spark-nlp-assembly-5.2.2.jar\n",
            "Downloading 🫘+💊 Java Library spark-nlp-jsl-5.2.1.jar\n",
            "🙆 JSL Home setup in /root/.johnsnowlabs\n",
            "👌 Detected license file /content/spark_jsl.json\n",
            "Installing /root/.johnsnowlabs/py_installs/spark_nlp_jsl-5.2.1-py3-none-any.whl to /usr/bin/python3\n",
            "Installed 1 products:\n",
            "💊 Spark-Healthcare==5.2.1 installed! ✅ Heal the planet with NLP! \n"
          ]
        }
      ]
    },
    {
      "cell_type": "code",
      "source": [
        "from johnsnowlabs import nlp, medical\n",
        "spark = nlp.start()\n"
      ],
      "metadata": {
        "id": "jNL9-anQEvRW",
        "colab": {
          "base_uri": "https://localhost:8080/"
        },
        "outputId": "13245d91-cd9a-4034-c559-8052bb22fd6b"
      },
      "execution_count": null,
      "outputs": [
        {
          "output_type": "stream",
          "name": "stdout",
          "text": [
            "👌 Detected license file /content/spark_jsl.json\n",
            "👌 Launched \u001b[92mcpu optimized\u001b[39m session with with: 🚀Spark-NLP==5.2.2, 💊Spark-Healthcare==5.2.1, running on ⚡ PySpark==3.4.0\n"
          ]
        }
      ]
    },
    {
      "cell_type": "code",
      "source": [
        "spark"
      ],
      "metadata": {
        "colab": {
          "base_uri": "https://localhost:8080/",
          "height": 222
        },
        "id": "aiDOyg7wJ1HY",
        "outputId": "51eb114a-dcc0-46ed-b741-291b502c46e2"
      },
      "execution_count": null,
      "outputs": [
        {
          "output_type": "execute_result",
          "data": {
            "text/plain": [
              "<pyspark.sql.session.SparkSession at 0x7c1c11ac51b0>"
            ],
            "text/html": [
              "\n",
              "            <div>\n",
              "                <p><b>SparkSession - in-memory</b></p>\n",
              "                \n",
              "        <div>\n",
              "            <p><b>SparkContext</b></p>\n",
              "\n",
              "            <p><a href=\"http://3daf59c4ee70:4040\">Spark UI</a></p>\n",
              "\n",
              "            <dl>\n",
              "              <dt>Version</dt>\n",
              "                <dd><code>v3.4.0</code></dd>\n",
              "              <dt>Master</dt>\n",
              "                <dd><code>local[*]</code></dd>\n",
              "              <dt>AppName</dt>\n",
              "                <dd><code>John-Snow-Labs-Spark-Session 🚀 with Jars for: 🚀Spark-NLP==5.2.2, 💊Spark-Healthcare==5.2.1, running on ⚡ PySpark==3.4.0</code></dd>\n",
              "            </dl>\n",
              "        </div>\n",
              "        \n",
              "            </div>\n",
              "        "
            ]
          },
          "metadata": {},
          "execution_count": 5
        }
      ]
    },
    {
      "cell_type": "code",
      "source": [
        "def f(text):\n",
        "  import textwrap\n",
        "  text = textwrap.fill(text, width=120)\n",
        "  return  '\\n'+text"
      ],
      "metadata": {
        "id": "eDhNz-K0ZGkl"
      },
      "execution_count": null,
      "outputs": []
    },
    {
      "cell_type": "markdown",
      "source": [
        "## **🖨️ Input/Output Annotation Types**\n",
        "\n"
      ],
      "metadata": {
        "id": "f_4conOIYj6D"
      }
    },
    {
      "cell_type": "markdown",
      "source": [
        "- Input:  ``DOCUMENT``  \n",
        "- Output:  ``CHUNK``  "
      ],
      "metadata": {
        "id": "0Fc_3iRwYk8N"
      }
    },
    {
      "cell_type": "markdown",
      "source": [
        "## **🔎 Parameters**"
      ],
      "metadata": {
        "id": "IO7xgW6Znobb"
      }
    },
    {
      "cell_type": "markdown",
      "source": [
        "`maxNewTokens`: Maximum number of new tokens to be generated (Default: 30)\n",
        "\n",
        "`maxTextLength`: Maximum length of context text.\n",
        "\n",
        "`doSample`: Whether or not to use sampling, use greedy decoding otherwise (Default: false)\n",
        "\n",
        "`noRepeatNgramSize`: If set to int > 0, all ngrams of that size can only occur once (Default: 0)\n",
        "\n",
        "`refineSummary`: Set true to perform refined summarization at increased computation cost.\n",
        "\n",
        "`refineSummaryTargetLength`: Target length for refined summary.\n",
        "\n",
        "`refineChunkSize`: How large should refined chunks be. Should be equal to LLM context window size in tokens. Takes only effect when refineSummary=True'.\n",
        "\n",
        "`refineMaxAttempts`: How many times should chunks be re-summarized while they are above SummaryTargetLength before stopping.\n",
        "\n",
        "`topK`: The number of highest probability vocabulary tokens to keep for top-k-filtering (Default: 50)\n",
        "\n",
        "`stopAtEos` : Stop text generation when the end-of-sentence token is encountered Default: False\n",
        "\n",
        "`caseSensitive` : whether to ignore case in tokens for embeddings matching  Default: True\n",
        "\n",
        "\n",
        "\n"
      ],
      "metadata": {
        "id": "2Vv-dsM2njQT"
      }
    },
    {
      "cell_type": "markdown",
      "source": [
        "# ✍  Explaining MedicalSummarizer with an Example"
      ],
      "metadata": {
        "id": "g9zdtP-D5spx"
      }
    },
    {
      "cell_type": "markdown",
      "source": [
        "## **💻Pipeline**"
      ],
      "metadata": {
        "id": "8YTlvwh9zVhp"
      }
    },
    {
      "cell_type": "code",
      "source": [
        "document_assembler = nlp.DocumentAssembler()\\\n",
        "    .setInputCol('text')\\\n",
        "    .setOutputCol('document')\n",
        "\n",
        "sentenceDetector = nlp.SentenceDetectorDLModel\\\n",
        "    .pretrained(\"sentence_detector_dl_healthcare\",\"en\",\"clinical/models\")\\\n",
        "    .setInputCols([\"document\"])\\\n",
        "    .setOutputCol(\"sentence\")\\\n",
        "    .setCustomBounds([\"\\n\"])\\\n",
        "    .setUseCustomBoundsOnly(True)\n",
        "\n",
        "summarizer = medical.Summarizer\\\n",
        "    .pretrained(\"summarizer_clinical_jsl\")\\\n",
        "    .setInputCols(['sentence'])\\\n",
        "    .setOutputCol('summary')\\\n",
        "    .setMaxTextLength(512)\\\n",
        "    .setMaxNewTokens(512)\n",
        "\n",
        "pipeline = nlp.Pipeline(\n",
        "    stages=[\n",
        "        document_assembler,\n",
        "        sentenceDetector,\n",
        "        summarizer\n",
        "])\n",
        "\n",
        "model = pipeline.fit(spark.createDataFrame([[\"\"]]).toDF(\"text\"))"
      ],
      "metadata": {
        "id": "wqf0kGgU2NMk",
        "colab": {
          "base_uri": "https://localhost:8080/"
        },
        "outputId": "ec4b534b-6388-4fce-da41-021c1c286b4d"
      },
      "execution_count": null,
      "outputs": [
        {
          "output_type": "stream",
          "name": "stdout",
          "text": [
            "sentence_detector_dl_healthcare download started this may take some time.\n",
            "Approximate size to download 367.3 KB\n",
            "[OK!]\n",
            "summarizer_clinical_jsl download started this may take some time.\n",
            "[OK!]\n"
          ]
        }
      ]
    },
    {
      "cell_type": "code",
      "source": [
        "summarizer.extractParamMap()"
      ],
      "metadata": {
        "colab": {
          "base_uri": "https://localhost:8080/"
        },
        "id": "ugVptbcA6nAx",
        "outputId": "76887b76-1e93-46d2-c3f7-4016a527adf1"
      },
      "execution_count": null,
      "outputs": [
        {
          "output_type": "execute_result",
          "data": {
            "text/plain": [
              "{Param(parent='MedicalSummarizer_3c37cacbb43e', name='batchSize', doc='Size of every batch'): 4,\n",
              " Param(parent='MedicalSummarizer_3c37cacbb43e', name='caseSensitive', doc='whether to ignore case in tokens for embeddings matching'): True,\n",
              " Param(parent='MedicalSummarizer_3c37cacbb43e', name='doSample', doc='Whether or not to use sampling; use greedy decoding otherwise'): False,\n",
              " Param(parent='MedicalSummarizer_3c37cacbb43e', name='ignoreTokenIds', doc=\"A list of token ids which are ignored in the decoder's output\"): [],\n",
              " Param(parent='MedicalSummarizer_3c37cacbb43e', name='lazyAnnotator', doc='Whether this AnnotatorModel acts as lazy in RecursivePipelines'): False,\n",
              " Param(parent='MedicalSummarizer_3c37cacbb43e', name='maxNewTokens', doc='Maximum number of new tokens to be generated'): 512,\n",
              " Param(parent='MedicalSummarizer_3c37cacbb43e', name='maxTextLength', doc='Max text length to process'): 512,\n",
              " Param(parent='MedicalSummarizer_3c37cacbb43e', name='mlFrameworkType', doc='ML framework type'): 'tensorflow',\n",
              " Param(parent='MedicalSummarizer_3c37cacbb43e', name='noRepeatNgramSize', doc='If set to int > 0, all ngrams of that size can only occur once'): 0,\n",
              " Param(parent='MedicalSummarizer_3c37cacbb43e', name='refineChunkSize', doc='How large should refined chunks Be. Should be equal to LLM context window size in tokens. Takes only effect when refineSummary=True'): 512,\n",
              " Param(parent='MedicalSummarizer_3c37cacbb43e', name='refineMaxAttempts', doc='How many times should chunks be re-summarized while they are above SummaryTargetLength before stopping. Takes only effect when refineSummary=True'): 3,\n",
              " Param(parent='MedicalSummarizer_3c37cacbb43e', name='refineSummary', doc='Set true to perform refined summarization at increased computation cost.'): False,\n",
              " Param(parent='MedicalSummarizer_3c37cacbb43e', name='refineSummaryTargetLength', doc='Target length of summarizations in Tokens (delimited by whitespace). Takes only effect when refineSummary=True'): 256,\n",
              " Param(parent='MedicalSummarizer_3c37cacbb43e', name='stopAtEos', doc='Stop text generation when the end-of-sentence token is encountered.'): False,\n",
              " Param(parent='MedicalSummarizer_3c37cacbb43e', name='topK', doc='The number of highest probability vocabulary tokens to keep for top-k-filtering'): 3,\n",
              " Param(parent='MedicalSummarizer_3c37cacbb43e', name='task', doc=\"Transformer's task\"): 'summarize: ',\n",
              " Param(parent='MedicalSummarizer_3c37cacbb43e', name='useCache', doc='Use caching to enhance performance'): True,\n",
              " Param(parent='MedicalSummarizer_3c37cacbb43e', name='engine', doc='Deep Learning engine used for this model'): 'tensorflow',\n",
              " Param(parent='MedicalSummarizer_3c37cacbb43e', name='inputCols', doc='previous annotations columns, if renamed'): ['sentence'],\n",
              " Param(parent='MedicalSummarizer_3c37cacbb43e', name='outputCol', doc='output annotation column. can be left default.'): 'summary'}"
            ]
          },
          "metadata": {},
          "execution_count": 8
        }
      ]
    },
    {
      "cell_type": "code",
      "source": [
        "text = \"\"\"PRESENT ILLNESS: The patient is a 28-year-old, who is status post gastric bypass surgery nearly one year ago. He has lost about 200 pounds and was otherwise doing well until yesterday evening around 7:00-8:00 when he developed nausea and right upper quadrant pain, which apparently wrapped around toward his right side and back. He feels like he was on it but has not done so. He has overall malaise and a low-grade temperature of 100.3. He denies any prior similar or lesser symptoms. His last normal bowel movement was yesterday. He denies any outright chills or blood per rectum.\n",
        "\n",
        "PHYSICAL EXAMINATION: His temperature is 100.3, blood pressure 129/59, respirations 16, heart rate 84. He is drowsy, but easily arousable and appropriate with conversation. He is oriented to person, place, and situation. He is normocephalic, atraumatic. His sclerae are anicteric. His mucous membranes are somewhat tacky. His neck is supple and symmetric. His respirations are unlabored and clear. He has a regular rate and rhythm. His abdomen is soft. He has diffuse right upper quadrant tenderness, worse focally, but no rebound or guarding. He otherwise has no organomegaly, masses, or abdominal hernias evident. His extremities are symmetrical with no edema. His posterior tibial pulses are palpable and symmetric. He is grossly nonfocal neurologically.\n",
        "\n",
        "PLAN: He will be admitted and placed on IV antibiotics. We will get an ultrasound this morning. He will need his gallbladder out, probably with intraoperative cholangiogram. Hopefully, the stone will pass this way. Due to his anatomy, an ERCP would prove quite difficult if not impossible unless laparoscopic assisted. Dr. X will see him later this morning and discuss the plan further. The patient understands.\"\"\"\n",
        "\n",
        "light_model = nlp.LightPipeline(model)\n",
        "light_result = light_model.annotate(text)\n",
        "\n",
        "for i in range(len(light_result['sentence'])):\n",
        "    print(\"■ SENTENCE ■: \", f(light_result['sentence'][i]),\"\\n\")\n",
        "    print(\"■ SUMMARY ■: \", f(light_result['summary'][i]),\"\\n\\n\")\n",
        "    print(\"-\"*120)\n"
      ],
      "metadata": {
        "id": "zW17Ye2Z2Nep",
        "colab": {
          "base_uri": "https://localhost:8080/"
        },
        "outputId": "0d1cbc6e-2378-457a-b799-4e3541013c51"
      },
      "execution_count": null,
      "outputs": [
        {
          "output_type": "stream",
          "name": "stdout",
          "text": [
            "CPU times: user 739 ms, sys: 105 ms, total: 844 ms\n",
            "Wall time: 1min 43s\n"
          ]
        }
      ]
    },
    {
      "cell_type": "markdown",
      "source": [
        "## ▶ `setMaxNewTokens`:\n",
        "\n",
        "Maximum number of new tokens to be generated (Default: 30)."
      ],
      "metadata": {
        "id": "HYFT5KH0CFmE"
      }
    },
    {
      "cell_type": "code",
      "source": [
        "for setMaxNewTokens in [512,30]:\n",
        "  summarizer = medical.Summarizer\\\n",
        "      .pretrained(\"summarizer_clinical_jsl\")\\\n",
        "      .setInputCols(['sentence'])\\\n",
        "      .setOutputCol('summary')\\\n",
        "      .setMaxNewTokens(setMaxNewTokens)  # default:30\n",
        "\n",
        "  pipeline = nlp.Pipeline(stages=[document_assembler, sentenceDetector, summarizer])\n",
        "  model = pipeline.fit(spark.createDataFrame([[\"\"]]).toDF(\"text\"))\n",
        "\n",
        "  text = \"\"\"PRESENT ILLNESS: The patient is a 28-year-old, who is status post gastric bypass surgery nearly one year ago. He has lost about 200 pounds and was otherwise doing well until yesterday evening around 7:00-8:00 when he developed nausea and right upper quadrant pain, which apparently wrapped around toward his right side and back. He feels like he was on it but has not done so. He has overall malaise and a low-grade temperature of 100.3. He denies any prior similar or lesser symptoms. His last normal bowel movement was yesterday. He denies any outright chills or blood per rectum.\n",
        "  PHYSICAL EXAMINATION: His temperature is 100.3, blood pressure 129/59, respirations 16, heart rate 84. He is drowsy, but easily arousable and appropriate with conversation. He is oriented to person, place, and situation. He is normocephalic, atraumatic. His sclerae are anicteric. His mucous membranes are somewhat tacky. His neck is supple and symmetric. His respirations are unlabored and clear. He has a regular rate and rhythm. His abdomen is soft. He has diffuse right upper quadrant tenderness, worse focally, but no rebound or guarding. He otherwise has no organomegaly, masses, or abdominal hernias evident. His extremities are symmetrical with no edema. His posterior tibial pulses are palpable and symmetric. He is grossly nonfocal neurologically.\n",
        "  PLAN: He will be admitted and placed on IV antibiotics. We will get an ultrasound this morning. He will need his gallbladder out, probably with intraoperative cholangiogram. Hopefully, the stone will pass this way. Due to his anatomy, an ERCP would prove quite difficult if not impossible unless laparoscopic assisted. Dr. X will see him later this morning and discuss the plan further. The patient understands.\"\"\"\n",
        "\n",
        "  light_model = nlp.LightPipeline(model)\n",
        "  light_result = light_model.annotate(text)\n",
        "\n",
        "  for i in range(len(light_result['sentence'])):\n",
        "      print(\"■ SENTENCE ■: \", f(light_result['sentence'][i]),\"\\n\")\n",
        "  print(\"■\"*120)\n",
        "\n",
        "  for i in range(len(light_result['sentence'])):\n",
        "      print(\"■ SUMMARY ■: \", f(light_result['summary'][i]),\"\\n\\n\")\n",
        "\n",
        "  print(\"■\"*120)"
      ],
      "metadata": {
        "id": "tvZ4sAHmCFmF",
        "colab": {
          "base_uri": "https://localhost:8080/"
        },
        "outputId": "cd450bf5-9d3f-4706-b5d5-ab4f920ef6a5"
      },
      "execution_count": null,
      "outputs": [
        {
          "output_type": "stream",
          "name": "stdout",
          "text": [
            "summarizer_clinical_jsl download started this may take some time.\n",
            "[OK!]\n",
            "■ SENTENCE ■:  \n",
            "PRESENT ILLNESS: The patient is a 28-year-old, who is status post gastric bypass surgery nearly one year ago. He has\n",
            "lost about 200 pounds and was otherwise doing well until yesterday evening around 7:00-8:00 when he developed nausea and\n",
            "right upper quadrant pain, which apparently wrapped around toward his right side and back. He feels like he was on it\n",
            "but has not done so. He has overall malaise and a low-grade temperature of 100.3. He denies any prior similar or lesser\n",
            "symptoms. His last normal bowel movement was yesterday. He denies any outright chills or blood per rectum. \n",
            "\n",
            "■ SENTENCE ■:  \n",
            "PHYSICAL EXAMINATION: His temperature is 100.3, blood pressure 129/59, respirations 16, heart rate 84. He is drowsy, but\n",
            "easily arousable and appropriate with conversation. He is oriented to person, place, and situation. He is normocephalic,\n",
            "atraumatic. His sclerae are anicteric. His mucous membranes are somewhat tacky. His neck is supple and symmetric. His\n",
            "respirations are unlabored and clear. He has a regular rate and rhythm. His abdomen is soft. He has diffuse right upper\n",
            "quadrant tenderness, worse focally, but no rebound or guarding. He otherwise has no organomegaly, masses, or abdominal\n",
            "hernias evident. His extremities are symmetrical with no edema. His posterior tibial pulses are palpable and symmetric.\n",
            "He is grossly nonfocal neurologically. \n",
            "\n",
            "■ SENTENCE ■:  \n",
            "PLAN: He will be admitted and placed on IV antibiotics. We will get an ultrasound this morning. He will need his\n",
            "gallbladder out, probably with intraoperative cholangiogram. Hopefully, the stone will pass this way. Due to his\n",
            "anatomy, an ERCP would prove quite difficult if not impossible unless laparoscopic assisted. Dr. X will see him later\n",
            "this morning and discuss the plan further. The patient understands. \n",
            "\n",
            "■■■■■■■■■■■■■■■■■■■■■■■■■■■■■■■■■■■■■■■■■■■■■■■■■■■■■■■■■■■■■■■■■■■■■■■■■■■■■■■■■■■■■■■■■■■■■■■■■■■■■■■■■■■■■■■■■■■■■■■■\n",
            "■ SUMMARY ■:  \n",
            "A 28-year-old patient who had gastric bypass surgery nearly one year ago developed nausea and right upper quadrant pain,\n",
            "which wrapped around his right side and back. He has malaise and a low-grade temperature of 100.3. He denies any\n",
            "previous symptoms and has no other symptoms. \n",
            "\n",
            "\n",
            "■ SUMMARY ■:  \n",
            "The patient has a temperature of 100.3, blood pressure of 129/59, respirations of 16, and heart rate of 84. He is drowsy\n",
            "but oriented to person, place, and situation. He has normalocephalic, atraumatic, and supple and symmetric neck. His\n",
            "respiratory rhythm is unlabored and clear, and his abdomen is soft. He has diffuse right upper quadrant tenderness,\n",
            "worse focally, but no rebound or guarding. He has no organomegaly, masses, or abdominal hernias evident. His extremities\n",
            "are symmetrical with no edema, and his posterior tibial pulses are palpable and symmetric. He is grossly nonfocal\n",
            "neurologically. \n",
            "\n",
            "\n",
            "■ SUMMARY ■:  \n",
            "The patient will be admitted and placed on IV antibiotics. An ultrasound will be done to remove the gallbladder, which\n",
            "will be done with intraoperative cholangiogram. The stone will pass through the gallbladder, and an ERCP is difficult\n",
            "due to the patient's anatomy. The plan will be discussed with the patient later this morning. \n",
            "\n",
            "\n",
            "■■■■■■■■■■■■■■■■■■■■■■■■■■■■■■■■■■■■■■■■■■■■■■■■■■■■■■■■■■■■■■■■■■■■■■■■■■■■■■■■■■■■■■■■■■■■■■■■■■■■■■■■■■■■■■■■■■■■■■■■\n",
            "summarizer_clinical_jsl download started this may take some time.\n",
            "[OK!]\n",
            "■ SENTENCE ■:  \n",
            "PRESENT ILLNESS: The patient is a 28-year-old, who is status post gastric bypass surgery nearly one year ago. He has\n",
            "lost about 200 pounds and was otherwise doing well until yesterday evening around 7:00-8:00 when he developed nausea and\n",
            "right upper quadrant pain, which apparently wrapped around toward his right side and back. He feels like he was on it\n",
            "but has not done so. He has overall malaise and a low-grade temperature of 100.3. He denies any prior similar or lesser\n",
            "symptoms. His last normal bowel movement was yesterday. He denies any outright chills or blood per rectum. \n",
            "\n",
            "■ SENTENCE ■:  \n",
            "PHYSICAL EXAMINATION: His temperature is 100.3, blood pressure 129/59, respirations 16, heart rate 84. He is drowsy, but\n",
            "easily arousable and appropriate with conversation. He is oriented to person, place, and situation. He is normocephalic,\n",
            "atraumatic. His sclerae are anicteric. His mucous membranes are somewhat tacky. His neck is supple and symmetric. His\n",
            "respirations are unlabored and clear. He has a regular rate and rhythm. His abdomen is soft. He has diffuse right upper\n",
            "quadrant tenderness, worse focally, but no rebound or guarding. He otherwise has no organomegaly, masses, or abdominal\n",
            "hernias evident. His extremities are symmetrical with no edema. His posterior tibial pulses are palpable and symmetric.\n",
            "He is grossly nonfocal neurologically. \n",
            "\n",
            "■ SENTENCE ■:  \n",
            "PLAN: He will be admitted and placed on IV antibiotics. We will get an ultrasound this morning. He will need his\n",
            "gallbladder out, probably with intraoperative cholangiogram. Hopefully, the stone will pass this way. Due to his\n",
            "anatomy, an ERCP would prove quite difficult if not impossible unless laparoscopic assisted. Dr. X will see him later\n",
            "this morning and discuss the plan further. The patient understands. \n",
            "\n",
            "■■■■■■■■■■■■■■■■■■■■■■■■■■■■■■■■■■■■■■■■■■■■■■■■■■■■■■■■■■■■■■■■■■■■■■■■■■■■■■■■■■■■■■■■■■■■■■■■■■■■■■■■■■■■■■■■■■■■■■■■\n",
            "■ SUMMARY ■:  \n",
            "A 28-year-old patient who had gastric bypass surgery nearly one year ago developed nausea and right upper quadrant pain,\n",
            "which wrapped around his \n",
            "\n",
            "\n",
            "■ SUMMARY ■:  \n",
            "The patient has a temperature of 100.3, blood pressure of 129/59, respirations of 16, and heart rate of 84. He \n",
            "\n",
            "\n",
            "■ SUMMARY ■:  \n",
            "The patient will be admitted and placed on IV antibiotics. An ultrasound will be done to remove the gallbladder, which\n",
            "will be done with \n",
            "\n",
            "\n",
            "■■■■■■■■■■■■■■■■■■■■■■■■■■■■■■■■■■■■■■■■■■■■■■■■■■■■■■■■■■■■■■■■■■■■■■■■■■■■■■■■■■■■■■■■■■■■■■■■■■■■■■■■■■■■■■■■■■■■■■■■\n"
          ]
        }
      ]
    },
    {
      "cell_type": "markdown",
      "source": [
        "## ▶ `setMaxTextLength`:\n",
        "Maximum length of context text to be processed; default: 512.\n"
      ],
      "metadata": {
        "id": "xVtSximLE-YU"
      }
    },
    {
      "cell_type": "code",
      "source": [
        "for   setMaxTextLength in [1024,10]:\n",
        "  summarizer = medical.Summarizer\\\n",
        "      .pretrained(\"summarizer_clinical_jsl\")\\\n",
        "      .setInputCols(['sentence'])\\\n",
        "      .setOutputCol('summary')\\\n",
        "      .setMaxNewTokens(512)\\\n",
        "      .setMaxTextLength(setMaxTextLength)  # default:1024\n",
        "\n",
        "  pipeline = nlp.Pipeline(stages=[document_assembler, sentenceDetector, summarizer])\n",
        "\n",
        "  model = pipeline.fit(spark.createDataFrame([[\"\"]]).toDF(\"text\"))\n",
        "\n",
        "  text = \"\"\"PRESENT ILLNESS: The patient is a 28-year-old, who is status post gastric bypass surgery nearly one year ago. He has lost about 200 pounds and was otherwise doing well until yesterday evening around 7:00-8:00 when he developed nausea and right upper quadrant pain, which apparently wrapped around toward his right side and back. He feels like he was on it but has not done so. He has overall malaise and a low-grade temperature of 100.3. He denies any prior similar or lesser symptoms. His last normal bowel movement was yesterday. He denies any outright chills or blood per rectum.\n",
        "  PHYSICAL EXAMINATION: His temperature is 100.3, blood pressure 129/59, respirations 16, heart rate 84. He is drowsy, but easily arousable and appropriate with conversation. He is oriented to person, place, and situation. He is normocephalic, atraumatic. His sclerae are anicteric. His mucous membranes are somewhat tacky. His neck is supple and symmetric. His respirations are unlabored and clear. He has a regular rate and rhythm. His abdomen is soft. He has diffuse right upper quadrant tenderness, worse focally, but no rebound or guarding. He otherwise has no organomegaly, masses, or abdominal hernias evident. His extremities are symmetrical with no edema. His posterior tibial pulses are palpable and symmetric. He is grossly nonfocal neurologically.\n",
        "  PLAN: He will be admitted and placed on IV antibiotics. We will get an ultrasound this morning. He will need his gallbladder out, probably with intraoperative cholangiogram. Hopefully, the stone will pass this way. Due to his anatomy, an ERCP would prove quite difficult if not impossible unless laparoscopic assisted. Dr. X will see him later this morning and discuss the plan further. The patient understands.\"\"\"\n",
        "\n",
        "  light_model = nlp.LightPipeline(model)\n",
        "  light_result = light_model.annotate(text)\n",
        "\n",
        "  for i in range(len(light_result['sentence'])):\n",
        "      print(i+1, \"   ■ SENTENCE ■: \", f(light_result['sentence'][i]),\"\\n\")\n",
        "      print(i+1, \"   ■ SUMMARY ■: \", f(light_result['summary'][i]),\"\\n\\n\")\n",
        "  print(\"■\"*120)"
      ],
      "metadata": {
        "id": "DoQgfaBAE-YV",
        "colab": {
          "base_uri": "https://localhost:8080/"
        },
        "outputId": "e5a684f8-b0a8-4748-dea7-1ec5e159a5bc"
      },
      "execution_count": null,
      "outputs": [
        {
          "output_type": "stream",
          "name": "stdout",
          "text": [
            "summarizer_clinical_jsl download started this may take some time.\n",
            "[OK!]\n",
            "1    ■ SENTENCE ■:  \n",
            "PRESENT ILLNESS: The patient is a 28-year-old, who is status post gastric bypass surgery nearly one year ago. He has\n",
            "lost about 200 pounds and was otherwise doing well until yesterday evening around 7:00-8:00 when he developed nausea and\n",
            "right upper quadrant pain, which apparently wrapped around toward his right side and back. He feels like he was on it\n",
            "but has not done so. He has overall malaise and a low-grade temperature of 100.3. He denies any prior similar or lesser\n",
            "symptoms. His last normal bowel movement was yesterday. He denies any outright chills or blood per rectum. \n",
            "\n",
            "1    ■ SUMMARY ■:  \n",
            "A 28-year-old patient who had gastric bypass surgery nearly one year ago developed nausea and right upper quadrant pain,\n",
            "which wrapped around his right side and back. He has malaise and a low-grade temperature of 100.3. He denies any\n",
            "previous symptoms and has no other symptoms. \n",
            "\n",
            "\n",
            "2    ■ SENTENCE ■:  \n",
            "PHYSICAL EXAMINATION: His temperature is 100.3, blood pressure 129/59, respirations 16, heart rate 84. He is drowsy, but\n",
            "easily arousable and appropriate with conversation. He is oriented to person, place, and situation. He is normocephalic,\n",
            "atraumatic. His sclerae are anicteric. His mucous membranes are somewhat tacky. His neck is supple and symmetric. His\n",
            "respirations are unlabored and clear. He has a regular rate and rhythm. His abdomen is soft. He has diffuse right upper\n",
            "quadrant tenderness, worse focally, but no rebound or guarding. He otherwise has no organomegaly, masses, or abdominal\n",
            "hernias evident. His extremities are symmetrical with no edema. His posterior tibial pulses are palpable and symmetric.\n",
            "He is grossly nonfocal neurologically. \n",
            "\n",
            "2    ■ SUMMARY ■:  \n",
            "The patient has a temperature of 100.3, blood pressure of 129/59, respirations of 16, and heart rate of 84. He is drowsy\n",
            "but oriented to person, place, and situation. He has normalocephalic, atraumatic, and supple and symmetric neck. His\n",
            "respiratory rhythm is unlabored and clear, and his abdomen is soft. He has diffuse right upper quadrant tenderness,\n",
            "worse focally, but no rebound or guarding. He has no organomegaly, masses, or abdominal hernias evident. His extremities\n",
            "are symmetrical with no edema, and his posterior tibial pulses are palpable and symmetric. He is grossly nonfocal\n",
            "neurologically. \n",
            "\n",
            "\n",
            "3    ■ SENTENCE ■:  \n",
            "PLAN: He will be admitted and placed on IV antibiotics. We will get an ultrasound this morning. He will need his\n",
            "gallbladder out, probably with intraoperative cholangiogram. Hopefully, the stone will pass this way. Due to his\n",
            "anatomy, an ERCP would prove quite difficult if not impossible unless laparoscopic assisted. Dr. X will see him later\n",
            "this morning and discuss the plan further. The patient understands. \n",
            "\n",
            "3    ■ SUMMARY ■:  \n",
            "The patient will be admitted and placed on IV antibiotics. An ultrasound will be done to remove the gallbladder, which\n",
            "will be done with intraoperative cholangiogram. The stone will pass through the gallbladder, and an ERCP is difficult\n",
            "due to the patient's anatomy. The plan will be discussed with the patient later this morning. \n",
            "\n",
            "\n",
            "■■■■■■■■■■■■■■■■■■■■■■■■■■■■■■■■■■■■■■■■■■■■■■■■■■■■■■■■■■■■■■■■■■■■■■■■■■■■■■■■■■■■■■■■■■■■■■■■■■■■■■■■■■■■■■■■■■■■■■■■\n",
            "summarizer_clinical_jsl download started this may take some time.\n",
            "[OK!]\n",
            "1    ■ SENTENCE ■:  \n",
            "PRESENT ILLNESS: The patient is a 28-year-old, who is status post gastric bypass surgery nearly one year ago. He has\n",
            "lost about 200 pounds and was otherwise doing well until yesterday evening around 7:00-8:00 when he developed nausea and\n",
            "right upper quadrant pain, which apparently wrapped around toward his right side and back. He feels like he was on it\n",
            "but has not done so. He has overall malaise and a low-grade temperature of 100.3. He denies any prior similar or lesser\n",
            "symptoms. His last normal bowel movement was yesterday. He denies any outright chills or blood per rectum. \n",
            "\n",
            "1    ■ SUMMARY ■:  \n",
            "A 28-year-old patient who had gas \n",
            "\n",
            "\n",
            "2    ■ SENTENCE ■:  \n",
            "PHYSICAL EXAMINATION: His temperature is 100.3, blood pressure 129/59, respirations 16, heart rate 84. He is drowsy, but\n",
            "easily arousable and appropriate with conversation. He is oriented to person, place, and situation. He is normocephalic,\n",
            "atraumatic. His sclerae are anicteric. His mucous membranes are somewhat tacky. His neck is supple and symmetric. His\n",
            "respirations are unlabored and clear. He has a regular rate and rhythm. His abdomen is soft. He has diffuse right upper\n",
            "quadrant tenderness, worse focally, but no rebound or guarding. He otherwise has no organomegaly, masses, or abdominal\n",
            "hernias evident. His extremities are symmetrical with no edema. His posterior tibial pulses are palpable and symmetric.\n",
            "He is grossly nonfocal neurologically. \n",
            "\n",
            "2    ■ SUMMARY ■:  \n",
            "The patient has a temperature of 100.3, \n",
            "\n",
            "\n",
            "3    ■ SENTENCE ■:  \n",
            "PLAN: He will be admitted and placed on IV antibiotics. We will get an ultrasound this morning. He will need his\n",
            "gallbladder out, probably with intraoperative cholangiogram. Hopefully, the stone will pass this way. Due to his\n",
            "anatomy, an ERCP would prove quite difficult if not impossible unless laparoscopic assisted. Dr. X will see him later\n",
            "this morning and discuss the plan further. The patient understands. \n",
            "\n",
            "3    ■ SUMMARY ■:  \n",
            "The patient will be admitted and placed on IV antibiotic \n",
            "\n",
            "\n",
            "■■■■■■■■■■■■■■■■■■■■■■■■■■■■■■■■■■■■■■■■■■■■■■■■■■■■■■■■■■■■■■■■■■■■■■■■■■■■■■■■■■■■■■■■■■■■■■■■■■■■■■■■■■■■■■■■■■■■■■■■\n"
          ]
        }
      ]
    },
    {
      "cell_type": "markdown",
      "source": [
        "## ▶ `setDoSample`:\n",
        "\n",
        "Whether or not to use sampling - use greedy decoding otherwise, default: False."
      ],
      "metadata": {
        "id": "9EWfeB8O90D6"
      }
    },
    {
      "cell_type": "code",
      "source": [
        "summarizer = medical.Summarizer\\\n",
        "    .pretrained(\"summarizer_clinical_jsl\")\\\n",
        "    .setInputCols(['sentence'])\\\n",
        "    .setOutputCol('summary')\\\n",
        "    .setMaxNewTokens(50)\\\n",
        "    .setMaxTextLength(512)\\\n",
        "    .setStopAtEos(True)\n",
        "\n",
        "for setDoSample in [False, True]:\n",
        "  summarizer = summarizer.setDoSample(setDoSample)  #default:False\n",
        "\n",
        "  pipeline = nlp.Pipeline(stages=[document_assembler, sentenceDetector, summarizer])\n",
        "\n",
        "  model = pipeline.fit(spark.createDataFrame([[\"\"]]).toDF(\"text\"))\n",
        "\n",
        "  text = \"\"\"PRESENT ILLNESS: The patient is a 28-year-old, who is status post gastric bypass surgery nearly one year ago. He has lost about 200 pounds and was otherwise doing well until yesterday evening around 7:00-8:00 when he developed nausea and right upper quadrant pain, which apparently wrapped around toward his right side and back. He feels like he was on it but has not done so. He has overall malaise and a low-grade temperature of 100.3. He denies any prior similar or lesser symptoms. His last normal bowel movement was yesterday. He denies any outright chills or blood per rectum.\n",
        "\n",
        "  PHYSICAL EXAMINATION: His temperature is 100.3, blood pressure 129/59, respirations 16, heart rate 84. He is drowsy, but easily arousable and appropriate with conversation. He is oriented to person, place, and situation. He is normocephalic, atraumatic. His sclerae are anicteric. His mucous membranes are somewhat tacky. His neck is supple and symmetric. His respirations are unlabored and clear. He has a regular rate and rhythm. His abdomen is soft. He has diffuse right upper quadrant tenderness, worse focally, but no rebound or guarding. He otherwise has no organomegaly, masses, or abdominal hernias evident. His extremities are symmetrical with no edema. His posterior tibial pulses are palpable and symmetric. He is grossly nonfocal neurologically.\n",
        "\n",
        "  PLAN: He will be admitted and placed on IV antibiotics. We will get an ultrasound this morning. He will need his gallbladder out, probably with intraoperative cholangiogram. Hopefully, the stone will pass this way. Due to his anatomy, an ERCP would prove quite difficult if not impossible unless laparoscopic assisted. Dr. X will see him later this morning and discuss the plan further. The patient understands.\"\"\"\n",
        "\n",
        "  light_model = nlp.LightPipeline(model)\n",
        "  light_result = light_model.annotate(text)\n",
        "\n",
        "  print(\"■\"*40, 'setDoSample = ', setDoSample, \"■\"*60)\n",
        "  for i in range(len(light_result['sentence'])):\n",
        "      print(\"■ SENTENCE ■: \", f(light_result['sentence'][i]),\"\\n\")\n",
        "      print(\"■ SUMMARY ■: \", f(light_result['summary'][i]),\"\\n\\n\")\n",
        "\n"
      ],
      "metadata": {
        "id": "VE2WsB429zHL",
        "colab": {
          "base_uri": "https://localhost:8080/"
        },
        "outputId": "b30cd659-a515-44a1-f4f2-c9dbc820e2cf"
      },
      "execution_count": null,
      "outputs": [
        {
          "output_type": "stream",
          "name": "stdout",
          "text": [
            "summarizer_clinical_jsl download started this may take some time.\n",
            "[OK!]\n",
            "■■■■■■■■■■■■■■■■■■■■■■■■■■■■■■■■■■■■■■■■ setDoSample =  False ■■■■■■■■■■■■■■■■■■■■■■■■■■■■■■■■■■■■■■■■■■■■■■■■■■■■■■■■■■■■\n",
            "■ SENTENCE ■:  \n",
            "PRESENT ILLNESS: The patient is a 28-year-old, who is status post gastric bypass surgery nearly one year ago. He has\n",
            "lost about 200 pounds and was otherwise doing well until yesterday evening around 7:00-8:00 when he developed nausea and\n",
            "right upper quadrant pain, which apparently wrapped around toward his right side and back. He feels like he was on it\n",
            "but has not done so. He has overall malaise and a low-grade temperature of 100.3. He denies any prior similar or lesser\n",
            "symptoms. His last normal bowel movement was yesterday. He denies any outright chills or blood per rectum. \n",
            "\n",
            "■ SUMMARY ■:  \n",
            "A 28-year-old patient who had gastric bypass surgery nearly one year ago developed nausea and right upper quadrant pain,\n",
            "which wrapped around his right side and back. He has malaise and a low-grade temperature of 100.3. \n",
            "\n",
            "\n",
            "■ SENTENCE ■:  \n",
            "PHYSICAL EXAMINATION: His temperature is 100.3, blood pressure 129/59, respirations 16, heart rate 84. He is drowsy, but\n",
            "easily arousable and appropriate with conversation. He is oriented to person, place, and situation. He is normocephalic,\n",
            "atraumatic. His sclerae are anicteric. His mucous membranes are somewhat tacky. His neck is supple and symmetric. His\n",
            "respirations are unlabored and clear. He has a regular rate and rhythm. His abdomen is soft. He has diffuse right upper\n",
            "quadrant tenderness, worse focally, but no rebound or guarding. He otherwise has no organomegaly, masses, or abdominal\n",
            "hernias evident. His extremities are symmetrical with no edema. His posterior tibial pulses are palpable and symmetric.\n",
            "He is grossly nonfocal neurologically. \n",
            "\n",
            "■ SUMMARY ■:  \n",
            "The patient has a temperature of 100.3, blood pressure of 129/59, respirations of 16, and heart rate of 84. He is drowsy\n",
            "but oriented to person, place, and situation. He has normal \n",
            "\n",
            "\n",
            "■ SENTENCE ■:  \n",
            "PLAN: He will be admitted and placed on IV antibiotics. We will get an ultrasound this morning. He will need his\n",
            "gallbladder out, probably with intraoperative cholangiogram. Hopefully, the stone will pass this way. Due to his\n",
            "anatomy, an ERCP would prove quite difficult if not impossible unless laparoscopic assisted. Dr. X will see him later\n",
            "this morning and discuss the plan further. The patient understands. \n",
            "\n",
            "■ SUMMARY ■:  \n",
            "The patient will be admitted and placed on IV antibiotics. An ultrasound will be done to remove the gallbladder, which\n",
            "will be done with intraoperative cholangiogram. The stone will pass through the gallbladder, and \n",
            "\n",
            "\n",
            "■■■■■■■■■■■■■■■■■■■■■■■■■■■■■■■■■■■■■■■■ setDoSample =  True ■■■■■■■■■■■■■■■■■■■■■■■■■■■■■■■■■■■■■■■■■■■■■■■■■■■■■■■■■■■■\n",
            "■ SENTENCE ■:  \n",
            "PRESENT ILLNESS: The patient is a 28-year-old, who is status post gastric bypass surgery nearly one year ago. He has\n",
            "lost about 200 pounds and was otherwise doing well until yesterday evening around 7:00-8:00 when he developed nausea and\n",
            "right upper quadrant pain, which apparently wrapped around toward his right side and back. He feels like he was on it\n",
            "but has not done so. He has overall malaise and a low-grade temperature of 100.3. He denies any prior similar or lesser\n",
            "symptoms. His last normal bowel movement was yesterday. He denies any outright chills or blood per rectum. \n",
            "\n",
            "■ SUMMARY ■:  \n",
            "An 28-year-old patient has underwent gastric circumvention surgery almost one years before and developed right lower\n",
            "quadruples and pain that wrap around him. The doctor suspect that the man is not taking his medications and has no other \n",
            "\n",
            "\n",
            "■ SENTENCE ■:  \n",
            "PHYSICAL EXAMINATION: His temperature is 100.3, blood pressure 129/59, respirations 16, heart rate 84. He is drowsy, but\n",
            "easily arousable and appropriate with conversation. He is oriented to person, place, and situation. He is normocephalic,\n",
            "atraumatic. His sclerae are anicteric. His mucous membranes are somewhat tacky. His neck is supple and symmetric. His\n",
            "respirations are unlabored and clear. He has a regular rate and rhythm. His abdomen is soft. He has diffuse right upper\n",
            "quadrant tenderness, worse focally, but no rebound or guarding. He otherwise has no organomegaly, masses, or abdominal\n",
            "hernias evident. His extremities are symmetrical with no edema. His posterior tibial pulses are palpable and symmetric.\n",
            "He is grossly nonfocal neurologically. \n",
            "\n",
            "■ SUMMARY ■:  \n",
            "A physical evaluation was done to assess if an individual has a normal heartbeat, oriented, or responsive to\n",
            "conversation. He appears normal and has no organomegality or mass, and his abdomen is supple with symmetrical \n",
            "\n",
            "\n",
            "■ SENTENCE ■:  \n",
            "PLAN: He will be admitted and placed on IV antibiotics. We will get an ultrasound this morning. He will need his\n",
            "gallbladder out, probably with intraoperative cholangiogram. Hopefully, the stone will pass this way. Due to his\n",
            "anatomy, an ERCP would prove quite difficult if not impossible unless laparoscopic assisted. Dr. X will see him later\n",
            "this morning and discuss the plan further. The patient understands. \n",
            "\n",
            "■ SUMMARY ■:  \n",
            "A patient with a large amount of bile will need an intrasurgical procedure called an intra-abduct clonic ejection\n",
            "chamber. A stone is expected in hepatitis B and will pass to the bil \n",
            "\n",
            "\n"
          ]
        }
      ]
    },
    {
      "cell_type": "markdown",
      "source": [
        "## ▶ `noRepeatNgramSize`:\n",
        "\n",
        "If set to int > 0, all ngrams of that size can only occur once; default: 0."
      ],
      "metadata": {
        "id": "HdHOFfzZnEKy"
      }
    },
    {
      "cell_type": "code",
      "source": [
        "for NoRepeatNgramSize in [0,2]:\n",
        "  summarizer = medical.Summarizer\\\n",
        "      .pretrained(\"summarizer_clinical_jsl\")\\\n",
        "      .setInputCols(['sentence'])\\\n",
        "      .setOutputCol('summary')\\\n",
        "      .setMaxNewTokens(512)\\\n",
        "      .setMaxTextLength(512)\\\n",
        "      .setNoRepeatNgramSize(NoRepeatNgramSize)   # default:0\n",
        "\n",
        "  pipeline = nlp.Pipeline(stages=[document_assembler, sentenceDetector, summarizer])\n",
        "  model = pipeline.fit(spark.createDataFrame([[\"\"]]).toDF(\"text\"))\n",
        "\n",
        "  text = \"\"\"PRESENT ILLNESS: The patient is a 28-year-old, who is status post gastric bypass surgery nearly one year ago. He has lost about 200 pounds and was otherwise doing well until yesterday evening around 7:00-8:00 when he developed nausea and right upper quadrant pain, which apparently wrapped around toward his right side and back. He feels like he was on it but has not done so. He has overall malaise and a low-grade temperature of 100.3. He denies any prior similar or lesser symptoms. His last normal bowel movement was yesterday. He denies any outright chills or blood per rectum.\n",
        "  PHYSICAL EXAMINATION: His temperature is 100.3, blood pressure 129/59, respirations 16, heart rate 84. He is drowsy, but easily arousable and appropriate with conversation. He is oriented to person, place, and situation. He is normocephalic, atraumatic. His sclerae are anicteric. His mucous membranes are somewhat tacky. His neck is supple and symmetric. His respirations are unlabored and clear. He has a regular rate and rhythm. His abdomen is soft. He has diffuse right upper quadrant tenderness, worse focally, but no rebound or guarding. He otherwise has no organomegaly, masses, or abdominal hernias evident. His extremities are symmetrical with no edema. His posterior tibial pulses are palpable and symmetric. He is grossly nonfocal neurologically.\n",
        "  PLAN: He will be admitted and placed on IV antibiotics. We will get an ultrasound this morning. He will need his gallbladder out, probably with intraoperative cholangiogram. Hopefully, the stone will pass this way. Due to his anatomy, an ERCP would prove quite difficult if not impossible unless laparoscopic assisted. Dr. X will see him later this morning and discuss the plan further. The patient understands.\"\"\"\n",
        "\n",
        "  light_model = nlp.LightPipeline(model)\n",
        "  light_result = light_model.annotate(text)\n",
        "\n",
        "  for i in range(len(light_result['sentence'])):\n",
        "      print(i+1, \"   ■ SENTENCE ■: \", f(light_result['sentence'][i]),\"\\n\")\n",
        "      print(i+1, \"   ■ SUMMARY ■: \", f(light_result['summary'][i]),\"\\n\\n\")\n",
        "  print(\"■\"*120)"
      ],
      "metadata": {
        "colab": {
          "base_uri": "https://localhost:8080/"
        },
        "outputId": "76e642c8-7114-4fe3-f836-376bb1ae3c44",
        "id": "Qs_8cuGCnEKz"
      },
      "execution_count": null,
      "outputs": [
        {
          "output_type": "stream",
          "name": "stdout",
          "text": [
            "summarizer_clinical_jsl download started this may take some time.\n",
            "[OK!]\n",
            "1    ■ SENTENCE ■:  \n",
            "PRESENT ILLNESS: The patient is a 28-year-old, who is status post gastric bypass surgery nearly one year ago. He has\n",
            "lost about 200 pounds and was otherwise doing well until yesterday evening around 7:00-8:00 when he developed nausea and\n",
            "right upper quadrant pain, which apparently wrapped around toward his right side and back. He feels like he was on it\n",
            "but has not done so. He has overall malaise and a low-grade temperature of 100.3. He denies any prior similar or lesser\n",
            "symptoms. His last normal bowel movement was yesterday. He denies any outright chills or blood per rectum. \n",
            "\n",
            "1    ■ SUMMARY ■:  \n",
            "A 28-year-old patient who had gastric bypass surgery nearly one year ago developed nausea and right upper quadrant pain,\n",
            "which wrapped around his right side and back. He has malaise and a low-grade temperature of 100.3. He denies any\n",
            "previous symptoms and has no other symptoms. \n",
            "\n",
            "\n",
            "2    ■ SENTENCE ■:  \n",
            "PHYSICAL EXAMINATION: His temperature is 100.3, blood pressure 129/59, respirations 16, heart rate 84. He is drowsy, but\n",
            "easily arousable and appropriate with conversation. He is oriented to person, place, and situation. He is normocephalic,\n",
            "atraumatic. His sclerae are anicteric. His mucous membranes are somewhat tacky. His neck is supple and symmetric. His\n",
            "respirations are unlabored and clear. He has a regular rate and rhythm. His abdomen is soft. He has diffuse right upper\n",
            "quadrant tenderness, worse focally, but no rebound or guarding. He otherwise has no organomegaly, masses, or abdominal\n",
            "hernias evident. His extremities are symmetrical with no edema. His posterior tibial pulses are palpable and symmetric.\n",
            "He is grossly nonfocal neurologically. \n",
            "\n",
            "2    ■ SUMMARY ■:  \n",
            "The patient has a temperature of 100.3, blood pressure of 129/59, respirations of 16, and heart rate of 84. He is drowsy\n",
            "but oriented to person, place, and situation. He has normalocephalic, atraumatic, and supple and symmetric neck. His\n",
            "respiratory rhythm is unlabored and clear, and his abdomen is soft. He has diffuse right upper quadrant tenderness,\n",
            "worse focally, but no rebound or guarding. He has no organomegaly, masses, or abdominal hernias evident. His extremities\n",
            "are symmetrical with no edema, and his posterior tibial pulses are palpable and symmetric. He is grossly nonfocal\n",
            "neurologically. \n",
            "\n",
            "\n",
            "3    ■ SENTENCE ■:  \n",
            "PLAN: He will be admitted and placed on IV antibiotics. We will get an ultrasound this morning. He will need his\n",
            "gallbladder out, probably with intraoperative cholangiogram. Hopefully, the stone will pass this way. Due to his\n",
            "anatomy, an ERCP would prove quite difficult if not impossible unless laparoscopic assisted. Dr. X will see him later\n",
            "this morning and discuss the plan further. The patient understands. \n",
            "\n",
            "3    ■ SUMMARY ■:  \n",
            "The patient will be admitted and placed on IV antibiotics. An ultrasound will be performed to remove the gallbladder,\n",
            "which will be done with intraoperative cholangiogram. The stone will pass through the gallbladder, and an ERCP is\n",
            "difficult due to the patient's anatomy. The plan will be discussed with the patient later this morning. \n",
            "\n",
            "\n",
            "■■■■■■■■■■■■■■■■■■■■■■■■■■■■■■■■■■■■■■■■■■■■■■■■■■■■■■■■■■■■■■■■■■■■■■■■■■■■■■■■■■■■■■■■■■■■■■■■■■■■■■■■■■■■■■■■■■■■■■■■\n",
            "summarizer_clinical_jsl download started this may take some time.\n",
            "[OK!]\n",
            "1    ■ SENTENCE ■:  \n",
            "PRESENT ILLNESS: The patient is a 28-year-old, who is status post gastric bypass surgery nearly one year ago. He has\n",
            "lost about 200 pounds and was otherwise doing well until yesterday evening around 7:00-8:00 when he developed nausea and\n",
            "right upper quadrant pain, which apparently wrapped around toward his right side and back. He feels like he was on it\n",
            "but has not done so. He has overall malaise and a low-grade temperature of 100.3. He denies any prior similar or lesser\n",
            "symptoms. His last normal bowel movement was yesterday. He denies any outright chills or blood per rectum. \n",
            "\n",
            "1    ■ SUMMARY ■:  \n",
            "A 28-year-old patient who had gastric bypass surgery nearly one year ago developed nausea and right upper quadrant pain,\n",
            "which wrapped around his right side and back. He has malaise and a low-grade temperature of 100.3. He denies any\n",
            "previous symptoms and has no other symptoms. \n",
            "\n",
            "\n",
            "2    ■ SENTENCE ■:  \n",
            "PHYSICAL EXAMINATION: His temperature is 100.3, blood pressure 129/59, respirations 16, heart rate 84. He is drowsy, but\n",
            "easily arousable and appropriate with conversation. He is oriented to person, place, and situation. He is normocephalic,\n",
            "atraumatic. His sclerae are anicteric. His mucous membranes are somewhat tacky. His neck is supple and symmetric. His\n",
            "respirations are unlabored and clear. He has a regular rate and rhythm. His abdomen is soft. He has diffuse right upper\n",
            "quadrant tenderness, worse focally, but no rebound or guarding. He otherwise has no organomegaly, masses, or abdominal\n",
            "hernias evident. His extremities are symmetrical with no edema. His posterior tibial pulses are palpable and symmetric.\n",
            "He is grossly nonfocal neurologically. \n",
            "\n",
            "2    ■ SUMMARY ■:  \n",
            "The patient has a temperature of 100.3, blood pressure of 129/59, respirations of 16, and heart rate of 84.0. He is\n",
            "drowsy but oriented to person, place, and situation. His neck is soft and symmetric, his respiratory and chest rhythms\n",
            "are unlabored and clear, he has diffuse right upper quadrant tenderness, worse focally, but no rebound or guarding. The\n",
            "other features are symmetryal with no edema. \n",
            "\n",
            "\n",
            "3    ■ SENTENCE ■:  \n",
            "PLAN: He will be admitted and placed on IV antibiotics. We will get an ultrasound this morning. He will need his\n",
            "gallbladder out, probably with intraoperative cholangiogram. Hopefully, the stone will pass this way. Due to his\n",
            "anatomy, an ERCP would prove quite difficult if not impossible unless laparoscopic assisted. Dr. X will see him later\n",
            "this morning and discuss the plan further. The patient understands. \n",
            "\n",
            "3    ■ SUMMARY ■:  \n",
            "The patient will be admitted and placed on IV antibiotics. An ultrasound will take place to remove the gallbladder,\n",
            "which will likely be done with intraoperative cholangiogram. The stone will pass through the esophagus, and an ERCP is\n",
            "difficult due to the patient's anatomy. Dr. X will discuss the plan with thepatient later this morning. \n",
            "\n",
            "\n",
            "■■■■■■■■■■■■■■■■■■■■■■■■■■■■■■■■■■■■■■■■■■■■■■■■■■■■■■■■■■■■■■■■■■■■■■■■■■■■■■■■■■■■■■■■■■■■■■■■■■■■■■■■■■■■■■■■■■■■■■■■\n"
          ]
        }
      ]
    },
    {
      "cell_type": "markdown",
      "source": [
        "## ▶ `refineSummary`:\n",
        "\n",
        "This group of parameters are active only if refineSummary set to True.\n",
        "```\n",
        "setRefineSummary: Set to True for refined summarization with increased computational cost.\n",
        "setRefineSummaryTargetLength: Define the target length of summarizations in tokens (delimited by whitespace). Effective only when setRefineSummary=True.\n",
        "setRefineChunkSize: Specify the desired size of refined chunks. Should correspond to the LLM context window size in tokens. Effective only when - setRefineSummary=True.\n",
        "setRefineMaxAttempts: Determine the number of attempts for re-summarizing chunks exceeding the setRefineSummaryTargetLength before discontinuing. Effective only when setRefineSummary=True.\n",
        "```\n",
        "\n"
      ],
      "metadata": {
        "id": "7kdXf9-syQSA"
      }
    },
    {
      "cell_type": "code",
      "source": [
        "summarizer = medical.Summarizer\\\n",
        "    .pretrained(\"summarizer_clinical_jsl\")\\\n",
        "    .setInputCols(['sentence'])\\\n",
        "    .setOutputCol('summary')\\\n",
        "    .setMaxNewTokens(512)\\\n",
        "    .setMaxTextLength(512)\\\n",
        "    .setRefineSummary(True)\\\n",
        "    .setRefineSummaryTargetLength(100)\\\n",
        "    .setRefineMaxAttempts(3)\\\n",
        "    .setRefineChunkSize(512)\n",
        "\n",
        "pipeline = nlp.Pipeline(stages=[document_assembler, sentenceDetector, summarizer])\n",
        "model = pipeline.fit(spark.createDataFrame([[\"\"]]).toDF(\"text\"))\n",
        "\n",
        "text = \"\"\"PRESENT ILLNESS: The patient is a 28-year-old, who is status post gastric bypass surgery nearly one year ago. He has lost about 200 pounds and was otherwise doing well until yesterday evening around 7:00-8:00 when he developed nausea and right upper quadrant pain, which apparently wrapped around toward his right side and back. He feels like he was on it but has not done so. He has overall malaise and a low-grade temperature of 100.3. He denies any prior similar or lesser symptoms. His last normal bowel movement was yesterday. He denies any outright chills or blood per rectum.\n",
        "PHYSICAL EXAMINATION: His temperature is 100.3, blood pressure 129/59, respirations 16, heart rate 84. He is drowsy, but easily arousable and appropriate with conversation. He is oriented to person, place, and situation. He is normocephalic, atraumatic. His sclerae are anicteric. His mucous membranes are somewhat tacky. His neck is supple and symmetric. His respirations are unlabored and clear. He has a regular rate and rhythm. His abdomen is soft. He has diffuse right upper quadrant tenderness, worse focally, but no rebound or guarding. He otherwise has no organomegaly, masses, or abdominal hernias evident. His extremities are symmetrical with no edema. His posterior tibial pulses are palpable and symmetric. He is grossly nonfocal neurologically.\n",
        "PLAN: He will be admitted and placed on IV antibiotics. We will get an ultrasound this morning. He will need his gallbladder out, probably with intraoperative cholangiogram. Hopefully, the stone will pass this way. Due to his anatomy, an ERCP would prove quite difficult if not impossible unless laparoscopic assisted. Dr. X will see him later this morning and discuss the plan further. The patient understands.\"\"\"\n",
        "\n",
        "light_model = nlp.LightPipeline(model)\n",
        "light_result = light_model.annotate(text)\n",
        "\n",
        "for i in range(len(light_result['sentence'])):\n",
        "    print(i+1, \"   ■ SENTENCE ■: \", f(light_result['sentence'][i]),\"\\n\")\n",
        "    print(i+1, \"   ■ SUMMARY ■: \", f(light_result['summary'][i]),\"\\n\\n\")\n",
        "    print(\"■\"*120)"
      ],
      "metadata": {
        "colab": {
          "base_uri": "https://localhost:8080/"
        },
        "outputId": "9bdb05aa-662d-4992-c2fb-92432cd06d42",
        "id": "dkgOVEotyQSA"
      },
      "execution_count": null,
      "outputs": [
        {
          "output_type": "stream",
          "name": "stdout",
          "text": [
            "summarizer_clinical_jsl download started this may take some time.\n",
            "[OK!]\n",
            "1    ■ SENTENCE ■:  \n",
            "PRESENT ILLNESS: The patient is a 28-year-old, who is status post gastric bypass surgery nearly one year ago. He has\n",
            "lost about 200 pounds and was otherwise doing well until yesterday evening around 7:00-8:00 when he developed nausea and\n",
            "right upper quadrant pain, which apparently wrapped around toward his right side and back. He feels like he was on it\n",
            "but has not done so. He has overall malaise and a low-grade temperature of 100.3. He denies any prior similar or lesser\n",
            "symptoms. His last normal bowel movement was yesterday. He denies any outright chills or blood per rectum. \n",
            "\n",
            "1    ■ SUMMARY ■:  \n",
            "An YMJCP doctor notes the patient with surgical surgery one years ago is experiencing malignant nausea, lower\n",
            "extremities Pain which may relate to other conditions. The discomfort appears unrelated only due and it'll not have any\n",
            "significant effect on their health levels or physical exams in recent weeks \n",
            "\n",
            "\n",
            "■■■■■■■■■■■■■■■■■■■■■■■■■■■■■■■■■■■■■■■■■■■■■■■■■■■■■■■■■■■■■■■■■■■■■■■■■■■■■■■■■■■■■■■■■■■■■■■■■■■■■■■■■■■■■■■■■■■■■■■■\n",
            "2    ■ SENTENCE ■:  \n",
            "PHYSICAL EXAMINATION: His temperature is 100.3, blood pressure 129/59, respirations 16, heart rate 84. He is drowsy, but\n",
            "easily arousable and appropriate with conversation. He is oriented to person, place, and situation. He is normocephalic,\n",
            "atraumatic. His sclerae are anicteric. His mucous membranes are somewhat tacky. His neck is supple and symmetric. His\n",
            "respirations are unlabored and clear. He has a regular rate and rhythm. His abdomen is soft. He has diffuse right upper\n",
            "quadrant tenderness, worse focally, but no rebound or guarding. He otherwise has no organomegaly, masses, or abdominal\n",
            "hernias evident. His extremities are symmetrical with no edema. His posterior tibial pulses are palpable and symmetric.\n",
            "He is grossly nonfocal neurologically. \n",
            "\n",
            "2    ■ SUMMARY ■:  \n",
            "A medical professional reports dysponialysis, weakness and shorten of focus in waking awakenea. They are unresponsive\n",
            "but alert to discussion during examination without feeling aggressively anxietyd or anxious while doing so as their\n",
            "vital symptoms show diffused tendinitalia on the left quadrat level that could have caused more serious problems with\n",
            "other neurological disorders related for temperature controlling-cardiothoracic monitoring (DBT), such issues include\n",
            "hypertension/stressfactor syndrome associated depression disorder postdieureizing mental unstable social systems\n",
            "psychological difficulties cognitive behaviors difficult personality behavior interpersonal Skills self Exhaling anguish\n",
            "emotional stress factor psychotic behaviour personalities personal characteristics individual experiences physical\n",
            "activities alone \n",
            "\n",
            "\n",
            "■■■■■■■■■■■■■■■■■■■■■■■■■■■■■■■■■■■■■■■■■■■■■■■■■■■■■■■■■■■■■■■■■■■■■■■■■■■■■■■■■■■■■■■■■■■■■■■■■■■■■■■■■■■■■■■■■■■■■■■■\n",
            "3    ■ SENTENCE ■:  \n",
            "PLAN: He will be admitted and placed on IV antibiotics. We will get an ultrasound this morning. He will need his\n",
            "gallbladder out, probably with intraoperative cholangiogram. Hopefully, the stone will pass this way. Due to his\n",
            "anatomy, an ERCP would prove quite difficult if not impossible unless laparoscopic assisted. Dr. X will see him later\n",
            "this morning and discuss the plan further. The patient understands. \n",
            "\n",
            "3    ■ SUMMARY ■:  \n",
            "The patient will undergo an ultrasonical procedure for a gallen removal to remove interocclusive medical rocks that can\n",
            "indicate internal blood or other problems, but there is little risk of any complications. Other concerns such the\n",
            "excaching without consequences include external bleeding due with treatable conditions being included in it above and\n",
            "possible causes from previous treatment procedures as mentioned earlier on their site page). No further details about\n",
            "Gallan extraction have also yet surfacetonized at all since these issues cannot possibly affect its contents beyond\n",
            "those provided below by Dr Jermans \n",
            "\n",
            "\n",
            "■■■■■■■■■■■■■■■■■■■■■■■■■■■■■■■■■■■■■■■■■■■■■■■■■■■■■■■■■■■■■■■■■■■■■■■■■■■■■■■■■■■■■■■■■■■■■■■■■■■■■■■■■■■■■■■■■■■■■■■■\n"
          ]
        }
      ]
    },
    {
      "cell_type": "markdown",
      "source": [
        "## ▶ `topK`:\n",
        "\n",
        "The number of highest probability vocabulary tokens to keep for top-k-filtering (Default: 50).\n"
      ],
      "metadata": {
        "id": "DhwbSWTd3vLc"
      }
    },
    {
      "cell_type": "code",
      "source": [
        "for topK in [50,10]:\n",
        "  summarizer = medical.Summarizer\\\n",
        "      .pretrained(\"summarizer_clinical_jsl\")\\\n",
        "      .setInputCols(['sentence'])\\\n",
        "      .setOutputCol('summary')\\\n",
        "      .setMaxNewTokens(512)\\\n",
        "      .setMaxTextLength(512)\\\n",
        "      .setTopK(topK)   # default:50\n",
        "\n",
        "  pipeline = nlp.Pipeline(stages=[document_assembler, sentenceDetector, summarizer])\n",
        "  model = pipeline.fit(spark.createDataFrame([[\"\"]]).toDF(\"text\"))\n",
        "\n",
        "  text = \"\"\"PRESENT ILLNESS: The patient is a 28-year-old, who is status post gastric bypass surgery nearly one year ago. He has lost about 200 pounds and was otherwise doing well until yesterday evening around 7:00-8:00 when he developed nausea and right upper quadrant pain, which apparently wrapped around toward his right side and back. He feels like he was on it but has not done so. He has overall malaise and a low-grade temperature of 100.3. He denies any prior similar or lesser symptoms. His last normal bowel movement was yesterday. He denies any outright chills or blood per rectum.\n",
        "  PHYSICAL EXAMINATION: His temperature is 100.3, blood pressure 129/59, respirations 16, heart rate 84. He is drowsy, but easily arousable and appropriate with conversation. He is oriented to person, place, and situation. He is normocephalic, atraumatic. His sclerae are anicteric. His mucous membranes are somewhat tacky. His neck is supple and symmetric. His respirations are unlabored and clear. He has a regular rate and rhythm. His abdomen is soft. He has diffuse right upper quadrant tenderness, worse focally, but no rebound or guarding. He otherwise has no organomegaly, masses, or abdominal hernias evident. His extremities are symmetrical with no edema. His posterior tibial pulses are palpable and symmetric. He is grossly nonfocal neurologically.\n",
        "  PLAN: He will be admitted and placed on IV antibiotics. We will get an ultrasound this morning. He will need his gallbladder out, probably with intraoperative cholangiogram. Hopefully, the stone will pass this way. Due to his anatomy, an ERCP would prove quite difficult if not impossible unless laparoscopic assisted. Dr. X will see him later this morning and discuss the plan further. The patient understands.\"\"\"\n",
        "\n",
        "  light_model = nlp.LightPipeline(model)\n",
        "  light_result = light_model.annotate(text)\n",
        "\n",
        "  for i in range(len(light_result['sentence'])):\n",
        "      print(i+1, \"   ■ SENTENCE ■: \", f(light_result['sentence'][i]),\"\\n\")\n",
        "      print(i+1, \"   ■ SUMMARY ■: \", f(light_result['summary'][i]),\"\\n\\n\")\n",
        "  print(\"■\"*120)"
      ],
      "metadata": {
        "colab": {
          "base_uri": "https://localhost:8080/"
        },
        "outputId": "ada9b52e-d13b-44ab-bab6-7725295c06f4",
        "id": "pioJSinG3vLd"
      },
      "execution_count": null,
      "outputs": [
        {
          "output_type": "stream",
          "name": "stdout",
          "text": [
            "summarizer_clinical_jsl download started this may take some time.\n",
            "[OK!]\n",
            "1    ■ SENTENCE ■:  \n",
            "PRESENT ILLNESS: The patient is a 28-year-old, who is status post gastric bypass surgery nearly one year ago. He has\n",
            "lost about 200 pounds and was otherwise doing well until yesterday evening around 7:00-8:00 when he developed nausea and\n",
            "right upper quadrant pain, which apparently wrapped around toward his right side and back. He feels like he was on it\n",
            "but has not done so. He has overall malaise and a low-grade temperature of 100.3. He denies any prior similar or lesser\n",
            "symptoms. His last normal bowel movement was yesterday. He denies any outright chills or blood per rectum. \n",
            "\n",
            "1    ■ SUMMARY ■:  \n",
            "One child may consider placing breast devices to maintain upper end anatom function as soon after starting up, before\n",
            "moving back at overnight from birth again given repeated replacement options prior on Monday of March 2102. An infant\n",
            "experiencing comfort can not present itself fully either until one or their previous support groups begin. Therefore\n",
            "premature transfers need for insertion outside rangefinder office use by early childhood professionals do fall within\n",
            "grasp which are in the interest but untrulieable \n",
            "\n",
            "\n",
            "2    ■ SENTENCE ■:  \n",
            "PHYSICAL EXAMINATION: His temperature is 100.3, blood pressure 129/59, respirations 16, heart rate 84. He is drowsy, but\n",
            "easily arousable and appropriate with conversation. He is oriented to person, place, and situation. He is normocephalic,\n",
            "atraumatic. His sclerae are anicteric. His mucous membranes are somewhat tacky. His neck is supple and symmetric. His\n",
            "respirations are unlabored and clear. He has a regular rate and rhythm. His abdomen is soft. He has diffuse right upper\n",
            "quadrant tenderness, worse focally, but no rebound or guarding. He otherwise has no organomegaly, masses, or abdominal\n",
            "hernias evident. His extremities are symmetrical with no edema. His posterior tibial pulses are palpable and symmetric.\n",
            "He is grossly nonfocal neurologically. \n",
            "\n",
            "2    ■ SUMMARY ■:  \n",
            "An injection operation or surgeon change, but their left joint lethroid continues towards your normal site-nite range\n",
            "for any issues which warrant immediate referral without the use evidence support indicated against others present such\n",
            "situations outside treatment systems as gas displacement control on several patient members experiencing pain to this\n",
            "body in certain environments over two month follow ⁇  up cycle that includes external medicine with additional pressure\n",
            "checks done first prior posttubinoiectomy within 48 workinghrs preempture period during IOT trials (usually 3-3month\n",
            "weeks early intervention prostatic nerve extension nominus anemia may lead likely multiple cases due these differences\n",
            "of condition etc); another specific surgery study required evaluation. There needed attractriclator interventions\n",
            "suggested rather low tension positioning than expanding muscle/recendmental shoulder deficits where potential results\n",
            "only need not vary above 90% relative tolerance). These include increased sutezis seen before ladophilutrapsenia under\n",
            "regular supervision when applied immediately per proceduralumentroponate recommendations is available elsewhere also\n",
            "unhemoronic being placed around his area after placing more contrast slightly open bilateral reflex line \n",
            "\n",
            "\n",
            "3    ■ SENTENCE ■:  \n",
            "PLAN: He will be admitted and placed on IV antibiotics. We will get an ultrasound this morning. He will need his\n",
            "gallbladder out, probably with intraoperative cholangiogram. Hopefully, the stone will pass this way. Due to his\n",
            "anatomy, an ERCP would prove quite difficult if not impossible unless laparoscopic assisted. Dr. X will see him later\n",
            "this morning and discuss the plan further. The patient understands. \n",
            "\n",
            "3    ■ SUMMARY ■:  \n",
            "As an advance mother may treat the breast to produce more teeth so nutrition is properly increased prior there will\n",
            "eventually take lactenations in small prean infant and into normal children using one. Fervent administration within\n",
            "high care places leads back many important results regarding weight as concerns \n",
            "\n",
            "\n",
            "■■■■■■■■■■■■■■■■■■■■■■■■■■■■■■■■■■■■■■■■■■■■■■■■■■■■■■■■■■■■■■■■■■■■■■■■■■■■■■■■■■■■■■■■■■■■■■■■■■■■■■■■■■■■■■■■■■■■■■■■\n",
            "summarizer_clinical_jsl download started this may take some time.\n",
            "[OK!]\n",
            "1    ■ SENTENCE ■:  \n",
            "PRESENT ILLNESS: The patient is a 28-year-old, who is status post gastric bypass surgery nearly one year ago. He has\n",
            "lost about 200 pounds and was otherwise doing well until yesterday evening around 7:00-8:00 when he developed nausea and\n",
            "right upper quadrant pain, which apparently wrapped around toward his right side and back. He feels like he was on it\n",
            "but has not done so. He has overall malaise and a low-grade temperature of 100.3. He denies any prior similar or lesser\n",
            "symptoms. His last normal bowel movement was yesterday. He denies any outright chills or blood per rectum. \n",
            "\n",
            "1    ■ SUMMARY ■:  \n",
            "Two medical issues, diarrhea following procedure induced with vomiting that has worsed in certain areas of an\n",
            "immobilization patient over many times: poor symptoms on multiple appointments were identified as contributing causes\n",
            "later but remain likely to cause more acute changes until therapy starts soon when there remains some uncertainty at any\n",
            "given stage (defined only above) due. Treatment may continue or discontinue during these treatments so all conditions\n",
            "including severe affect can be assessed and discussed further after completion). Further evaluation could provide\n",
            "additional information once the system does their job properly \n",
            "\n",
            "\n",
            "2    ■ SENTENCE ■:  \n",
            "PHYSICAL EXAMINATION: His temperature is 100.3, blood pressure 129/59, respirations 16, heart rate 84. He is drowsy, but\n",
            "easily arousable and appropriate with conversation. He is oriented to person, place, and situation. He is normocephalic,\n",
            "atraumatic. His sclerae are anicteric. His mucous membranes are somewhat tacky. His neck is supple and symmetric. His\n",
            "respirations are unlabored and clear. He has a regular rate and rhythm. His abdomen is soft. He has diffuse right upper\n",
            "quadrant tenderness, worse focally, but no rebound or guarding. He otherwise has no organomegaly, masses, or abdominal\n",
            "hernias evident. His extremities are symmetrical with no edema. His posterior tibial pulses are palpable and symmetric.\n",
            "He is grossly nonfocal neurologically. \n",
            "\n",
            "2    ■ SUMMARY ■:  \n",
            "The medical code provides guidelines about continuing the investigation, taking into heart risks resulting as DNA/R\n",
            "syndrome conditions. Intervention should take note due and specific recommendations include neuroinjugery treatment for\n",
            "patients that experienced neurological problems with insurrector disease (RDNSA1) but otherwise improved quality after\n",
            "receiving support during patient placement before they can become an IV donor of nursing homes following diagnosis from\n",
            "one hospital place). A CT-CT was advised instead which could also indicate further evidence on posttreatment symptoms\n",
            "related by depressions such ASTM test score or psychomotor disorder diagnose at baseline testing without any immediate\n",
            "effects \n",
            "\n",
            "\n",
            "3    ■ SENTENCE ■:  \n",
            "PLAN: He will be admitted and placed on IV antibiotics. We will get an ultrasound this morning. He will need his\n",
            "gallbladder out, probably with intraoperative cholangiogram. Hopefully, the stone will pass this way. Due to his\n",
            "anatomy, an ERCP would prove quite difficult if not impossible unless laparoscopic assisted. Dr. X will see him later\n",
            "this morning and discuss the plan further. The patient understands. \n",
            "\n",
            "3    ■ SUMMARY ■:  \n",
            "Inffections or plurinomie that were found due only for antibiotic, which had not previously developed in the baby during\n",
            "swipe process and is still treated now with an injection. Treatment from another primary cause has also likely caused\n",
            "persistancy/peterous infections like pneumonia but this was outside medical treatment since its roots do remain\n",
            "unchanged as it occurred over many cycles ago before their formation at base of mother origin to prevent future\n",
            "illnesses becoming evident postmenses into new generations without prior clinically relevant treatments being considered\n",
            "after age 70-60 days have gone through various changes so called retrovirulent progenitsies are used every three weeks\n",
            "thereafter by parents who experience worse than previous years when taking steroids against themselves). If there seems\n",
            "no improvement later they will seek surgical therapy once symptoms improve instead depending what medications affect\n",
            "those areas currently experiencing feverish feeling such severe cold-associated disease \n",
            "\n",
            "\n",
            "■■■■■■■■■■■■■■■■■■■■■■■■■■■■■■■■■■■■■■■■■■■■■■■■■■■■■■■■■■■■■■■■■■■■■■■■■■■■■■■■■■■■■■■■■■■■■■■■■■■■■■■■■■■■■■■■■■■■■■■■\n"
          ]
        }
      ]
    },
    {
      "cell_type": "markdown",
      "source": [
        "## ▶ `stopAtEos`:\n",
        "\n",
        "Stop text generation when the end-of-sentence token is encountered; default:False.\n"
      ],
      "metadata": {
        "id": "TL1E2cjcDecm"
      }
    },
    {
      "cell_type": "code",
      "source": [
        "for opt in [False, True]:\n",
        "  summarizer = medical.Summarizer\\\n",
        "      .pretrained(\"summarizer_clinical_jsl\")\\\n",
        "      .setInputCols(['sentence'])\\\n",
        "      .setOutputCol('summary')\\\n",
        "      .setCaseSensitive(True)\\\n",
        "      .setMaxNewTokens(25)\\\n",
        "      .setDoSample(False)\\\n",
        "      .setTopK(5)\\\n",
        "      .setStopAtEos(opt)\n",
        "\n",
        "  pipeline = nlp.Pipeline(stages=[document_assembler, sentenceDetector, summarizer])\n",
        "  model = pipeline.fit(spark.createDataFrame([[\"\"]]).toDF(\"text\"))\n",
        "\n",
        "  text = \"\"\"PRESENT ILLNESS: The patient is a 28-year-old, who is status post gastric bypass surgery nearly one year ago. He has lost about 200 pounds and was otherwise doing well until yesterday evening around 7:00-8:00 when he developed nausea and right upper quadrant pain, which apparently wrapped around toward his right side and back. He feels like he was on it but has not done so. He has overall malaise and a low-grade temperature of 100.3. He denies any prior similar or lesser symptoms. His last normal bowel movement was yesterday. He denies any outright chills or blood per rectum.\n",
        "  PHYSICAL EXAMINATION: His temperature is 100.3, blood pressure 129/59, respirations 16, heart rate 84. He is drowsy, but easily arousable and appropriate with conversation. He is oriented to person, place, and situation. He is normocephalic, atraumatic. His sclerae are anicteric. His mucous membranes are somewhat tacky. His neck is supple and symmetric. His respirations are unlabored and clear. He has a regular rate and rhythm. His abdomen is soft. He has diffuse right upper quadrant tenderness, worse focally, but no rebound or guarding. He otherwise has no organomegaly, masses, or abdominal hernias evident. His extremities are symmetrical with no edema. His posterior tibial pulses are palpable and symmetric. He is grossly nonfocal neurologically.\n",
        "  PLAN: He will be admitted and placed on IV antibiotics. We will get an ultrasound this morning. He will need his gallbladder out, probably with intraoperative cholangiogram. Hopefully, the stone will pass this way. Due to his anatomy, an ERCP would prove quite difficult if not impossible unless laparoscopic assisted. Dr. X will see him later this morning and discuss the plan further. The patient understands.\"\"\"\n",
        "\n",
        "  light_model = nlp.LightPipeline(model)\n",
        "  light_result = light_model.annotate(text)\n",
        "  print(\"■\"*60, f'StopAtEos={opt}',\"■\"*60)\n",
        "\n",
        "  for i in range(len(light_result['sentence'])):\n",
        "      print(i+1, \"   ■ SENTENCE ■: \", f(light_result['sentence'][i]),\"\\n\")\n",
        "      print(i+1, \"   ■ SUMMARY ■: \", f(light_result['summary'][i]),\"\\n\\n\")"
      ],
      "metadata": {
        "colab": {
          "base_uri": "https://localhost:8080/"
        },
        "outputId": "daf13fbc-d412-4be1-8133-e925be15e1fe",
        "id": "LPGGZPgqDecs"
      },
      "execution_count": null,
      "outputs": [
        {
          "output_type": "stream",
          "name": "stdout",
          "text": [
            "summarizer_clinical_jsl download started this may take some time.\n",
            "[OK!]\n",
            "■■■■■■■■■■■■■■■■■■■■■■■■■■■■■■■■■■■■■■■■■■■■■■■■■■■■■■■■■■■■ StopAtEos=False ■■■■■■■■■■■■■■■■■■■■■■■■■■■■■■■■■■■■■■■■■■■■■■■■■■■■■■■■■■■■\n",
            "1    ■ SENTENCE ■:  \n",
            "PRESENT ILLNESS: The patient is a 28-year-old, who is status post gastric bypass surgery nearly one year ago. He has\n",
            "lost about 200 pounds and was otherwise doing well until yesterday evening around 7:00-8:00 when he developed nausea and\n",
            "right upper quadrant pain, which apparently wrapped around toward his right side and back. He feels like he was on it\n",
            "but has not done so. He has overall malaise and a low-grade temperature of 100.3. He denies any prior similar or lesser\n",
            "symptoms. His last normal bowel movement was yesterday. He denies any outright chills or blood per rectum. \n",
            "\n",
            "1    ■ SUMMARY ■:  \n",
            "A 28-year old patient who had gastric bypass surgery nearly a year ago developed nausea and right upper quadrant pain \n",
            "\n",
            "\n",
            "2    ■ SENTENCE ■:  \n",
            "PHYSICAL EXAMINATION: His temperature is 100.3, blood pressure 129/59, respirations 16, heart rate 84. He is drowsy, but\n",
            "easily arousable and appropriate with conversation. He is oriented to person, place, and situation. He is normocephalic,\n",
            "atraumatic. His sclerae are anicteric. His mucous membranes are somewhat tacky. His neck is supple and symmetric. His\n",
            "respirations are unlabored and clear. He has a regular rate and rhythm. His abdomen is soft. He has diffuse right upper\n",
            "quadrant tenderness, worse focally, but no rebound or guarding. He otherwise has no organomegaly, masses, or abdominal\n",
            "hernias evident. His extremities are symmetrical with no edema. His posterior tibial pulses are palpable and symmetric.\n",
            "He is grossly nonfocal neurologically. \n",
            "\n",
            "2    ■ SUMMARY ■:  \n",
            "The patient has a temperature of 100.3, blood pressure, respirations 16, and heart rate at 84.0 with normal neurological \n",
            "\n",
            "\n",
            "3    ■ SENTENCE ■:  \n",
            "PLAN: He will be admitted and placed on IV antibiotics. We will get an ultrasound this morning. He will need his\n",
            "gallbladder out, probably with intraoperative cholangiogram. Hopefully, the stone will pass this way. Due to his\n",
            "anatomy, an ERCP would prove quite difficult if not impossible unless laparoscopic assisted. Dr. X will see him later\n",
            "this morning and discuss the plan further. The patient understands. \n",
            "\n",
            "3    ■ SUMMARY ■:  \n",
            "The patient will be admitted and placed on IV antibiotics, with an ultrasound scheduled for the morning to remove a\n",
            "gallbla \n",
            "\n",
            "\n",
            "summarizer_clinical_jsl download started this may take some time.\n",
            "[OK!]\n",
            "■■■■■■■■■■■■■■■■■■■■■■■■■■■■■■■■■■■■■■■■■■■■■■■■■■■■■■■■■■■■ StopAtEos=True ■■■■■■■■■■■■■■■■■■■■■■■■■■■■■■■■■■■■■■■■■■■■■■■■■■■■■■■■■■■■\n",
            "1    ■ SENTENCE ■:  \n",
            "PRESENT ILLNESS: The patient is a 28-year-old, who is status post gastric bypass surgery nearly one year ago. He has\n",
            "lost about 200 pounds and was otherwise doing well until yesterday evening around 7:00-8:00 when he developed nausea and\n",
            "right upper quadrant pain, which apparently wrapped around toward his right side and back. He feels like he was on it\n",
            "but has not done so. He has overall malaise and a low-grade temperature of 100.3. He denies any prior similar or lesser\n",
            "symptoms. His last normal bowel movement was yesterday. He denies any outright chills or blood per rectum. \n",
            "\n",
            "1    ■ SUMMARY ■:  \n",
            "A 28-year old patient who had gastric bypass surgery nearly a year ago developed nausea and right upper quadrant pain \n",
            "\n",
            "\n",
            "2    ■ SENTENCE ■:  \n",
            "PHYSICAL EXAMINATION: His temperature is 100.3, blood pressure 129/59, respirations 16, heart rate 84. He is drowsy, but\n",
            "easily arousable and appropriate with conversation. He is oriented to person, place, and situation. He is normocephalic,\n",
            "atraumatic. His sclerae are anicteric. His mucous membranes are somewhat tacky. His neck is supple and symmetric. His\n",
            "respirations are unlabored and clear. He has a regular rate and rhythm. His abdomen is soft. He has diffuse right upper\n",
            "quadrant tenderness, worse focally, but no rebound or guarding. He otherwise has no organomegaly, masses, or abdominal\n",
            "hernias evident. His extremities are symmetrical with no edema. His posterior tibial pulses are palpable and symmetric.\n",
            "He is grossly nonfocal neurologically. \n",
            "\n",
            "2    ■ SUMMARY ■:  \n",
            "The patient has a temperature of 100.3, blood pressure, respirations 16, and heart rate at 84.0 with normal neurological \n",
            "\n",
            "\n",
            "3    ■ SENTENCE ■:  \n",
            "PLAN: He will be admitted and placed on IV antibiotics. We will get an ultrasound this morning. He will need his\n",
            "gallbladder out, probably with intraoperative cholangiogram. Hopefully, the stone will pass this way. Due to his\n",
            "anatomy, an ERCP would prove quite difficult if not impossible unless laparoscopic assisted. Dr. X will see him later\n",
            "this morning and discuss the plan further. The patient understands. \n",
            "\n",
            "3    ■ SUMMARY ■:  \n",
            "The patient will be admitted and placed on IV antibiotics, with an ultrasound scheduled for the morning to remove a\n",
            "gallbla \n",
            "\n",
            "\n"
          ]
        }
      ]
    },
    {
      "cell_type": "markdown",
      "source": [
        "## ▶ `setCaseSensitive`:\n",
        "\n",
        "Whether to ignore case in tokens for embeddings matching; default: True.\n"
      ],
      "metadata": {
        "id": "Vl6TKmdR_Z6T"
      }
    },
    {
      "cell_type": "code",
      "source": [
        "for cs in [True, False]:\n",
        "  summarizer = medical.Summarizer\\\n",
        "      .pretrained(\"summarizer_clinical_jsl\")\\\n",
        "      .setInputCols(['sentence'])\\\n",
        "      .setOutputCol('summary')\\\n",
        "      .setStopAtEos(False)\\\n",
        "      .setCaseSensitive(cs)  # default:True\n",
        "\n",
        "  pipeline = nlp.Pipeline(stages=[document_assembler, sentenceDetector, summarizer])\n",
        "  model = pipeline.fit(spark.createDataFrame([[\"\"]]).toDF(\"text\"))\n",
        "\n",
        "  text = \"Patient presented with SOB (shortness of breath) and CP (chest pain). Vital signs stable, O2 sat 95%. CXR revealed bilateral infiltrates. ABG showed hypoxemia. Started on O2 and IV antibiotics. Labs pending. Follow up in 24 hours.\"\n",
        "\n",
        "  light_model = nlp.LightPipeline(model)\n",
        "  light_result = light_model.annotate(text)\n",
        "\n",
        "  for i in range(len(light_result['sentence'])):\n",
        "    # print(\"■ SENTENCE ■: \", f(light_result['sentence'][i]),\"\\n\")\n",
        "    print(\"■ SUMMARY ■: \", f(light_result['summary'][i]),\"\\n\\n\")\n",
        "    print(\"-\"*120)\n",
        "  print(\"■\"*120)"
      ],
      "metadata": {
        "colab": {
          "base_uri": "https://localhost:8080/"
        },
        "outputId": "e492e998-d664-4697-d735-8851e6f42cdc",
        "id": "AgkNpgsP_Z6a"
      },
      "execution_count": null,
      "outputs": [
        {
          "output_type": "stream",
          "name": "stdout",
          "text": [
            "summarizer_clinical_jsl download started this may take some time.\n",
            "[OK!]\n",
            "■ SUMMARY ■:  \n",
            "The patient presented with shortness of breath and chest pain. Vital signs were stable, but oxygen saturation was 95% on\n",
            "C \n",
            "\n",
            "\n",
            "------------------------------------------------------------------------------------------------------------------------\n",
            "■■■■■■■■■■■■■■■■■■■■■■■■■■■■■■■■■■■■■■■■■■■■■■■■■■■■■■■■■■■■■■■■■■■■■■■■■■■■■■■■■■■■■■■■■■■■■■■■■■■■■■■■■■■■■■■■■■■■■■■■\n",
            "summarizer_clinical_jsl download started this may take some time.\n",
            "[OK!]\n",
            "■ SUMMARY ■:  \n",
            "The patient presented with shortness of breath and chest pain. Vital signs were stable, but oxygen saturation was 95% on\n",
            "C \n",
            "\n",
            "\n",
            "------------------------------------------------------------------------------------------------------------------------\n",
            "■■■■■■■■■■■■■■■■■■■■■■■■■■■■■■■■■■■■■■■■■■■■■■■■■■■■■■■■■■■■■■■■■■■■■■■■■■■■■■■■■■■■■■■■■■■■■■■■■■■■■■■■■■■■■■■■■■■■■■■■\n"
          ]
        }
      ]
    }
  ]
}
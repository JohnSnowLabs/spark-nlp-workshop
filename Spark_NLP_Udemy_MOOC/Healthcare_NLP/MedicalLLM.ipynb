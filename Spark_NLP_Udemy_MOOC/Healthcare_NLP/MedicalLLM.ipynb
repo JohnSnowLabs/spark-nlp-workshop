{
  "cells": [
    {
      "cell_type": "markdown",
      "metadata": {
        "id": "6Wfq4tie-OVj"
      },
      "source": [
        "![JohnSnowLabs](https://nlp.johnsnowlabs.com/assets/images/logo.png)"
      ]
    },
    {
      "cell_type": "markdown",
      "metadata": {
        "id": "Js6EFUIFUQlO"
      },
      "source": [
        "[![Open In Colab](https://colab.research.google.com/assets/colab-badge.svg)](https://colab.research.google.com/github/JohnSnowLabs/spark-nlp-workshop/blob/master/Spark_NLP_Udemy_MOOC/Healthcare_NLP/REChunkMerger.ipynb)"
      ]
    },
    {
      "cell_type": "markdown",
      "metadata": {
        "id": "aQ2JWggt-UYX"
      },
      "source": [
        "#   **📜 MedicalLLM**"
      ]
    },
    {
      "cell_type": "markdown",
      "metadata": {
        "id": "7hzwkXPoKY5I"
      },
      "source": [
        "**`MedicalLLM`** was designed to load and run large language models (LLMs) in GGUF format with scalable performance. Ideal for clinical and healthcare applications, MedicalLLM supports tasks like medical entity extraction, summarization, Q&A, Retrieval Augmented Generation (RAG), and conversational AI. With simple integration into Spark NLP pipelines, it allows for customizable batch sizes, prediction settings, and chat templates. GPU optimization is also available, enhancing its capabilities for high-performance environments. MedicalLLM empowers users to link medical entities and perform complex NLP tasks with efficiency and precision. MedicalLLM can be accessed using the `AutoGGUFModel`."
      ]
    },
    {
      "cell_type": "markdown",
      "metadata": {
        "id": "e726rKETuJJr"
      },
      "source": [
        "**📖 Learning Objectives:**\n",
        "\n",
        "1. Understand how to use the annotator.\n",
        "\n",
        "2. Become comfortable using the different parameters of the annotator.\n",
        "\n",
        "**🔗 Helpful Links:**\n",
        "\n",
        "- Reference Documentation: [MedicalLLM](https://nlp.johnsnowlabs.com/docs/en/licensed_annotators#medicalllm)\n",
        "\n",
        "- Python Docs : [MedicalLLM](https://nlp.johnsnowlabs.com/licensed/api/python/reference/autosummary/sparknlp_jsl/annotator/medical_llm/medical_llm/index.html)\n",
        "\n",
        "- For extended examples of usage, see the [MedicalLLM](https://colab.research.google.com/github/JohnSnowLabs/spark-nlp-workshop/blob/master/tutorials/Certification_Trainings/Healthcare/46.Loading_Medical_and_Open-Souce_LLMs.ipynb#scrollTo=USxzeevIrPMX) notebooks.\n"
      ]
    },
    {
      "cell_type": "markdown",
      "metadata": {
        "id": "okhT7AcXxben"
      },
      "source": [
        "## **🎬 Colab Setup**"
      ]
    },
    {
      "cell_type": "code",
      "execution_count": null,
      "metadata": {
        "id": "xrdvNxjD_yQI"
      },
      "outputs": [],
      "source": [
        "# Install the johnsnowlabs library to access Spark-NLP for Healthcare\n",
        "! pip install -q johnsnowlabs"
      ]
    },
    {
      "cell_type": "code",
      "execution_count": null,
      "metadata": {
        "id": "3WU-z_e8jYpO"
      },
      "outputs": [],
      "source": [
        "from google.colab import files\n",
        "print('Please Upload your John Snow Labs License using the button below')\n",
        "license_keys = files.upload()"
      ]
    },
    {
      "cell_type": "code",
      "execution_count": null,
      "metadata": {
        "id": "D-9lbtfHjvm7"
      },
      "outputs": [],
      "source": [
        "from johnsnowlabs import nlp, medical\n",
        "\n",
        "# After uploading your license run this to install all licensed Python Wheels and pre-download Jars the Spark Session JVM\n",
        "nlp.settings.enforce_versions=True\n",
        "nlp.install()"
      ]
    },
    {
      "cell_type": "code",
      "execution_count": 4,
      "metadata": {
        "colab": {
          "base_uri": "https://localhost:8080/"
        },
        "id": "19b2mPsZjbI3",
        "outputId": "6db96a41-d857-4529-a23e-5dbffb840210"
      },
      "outputs": [
        {
          "output_type": "stream",
          "name": "stdout",
          "text": [
            "👌 Detected license file /content/spark_nlp_for_healthcare_spark_ocr_9596 (2).json\n",
            "👌 Launched \u001b[92mcpu optimized\u001b[39m session with with: 🚀Spark-NLP==5.5.0, 💊Spark-Healthcare==5.5.0, running on ⚡ PySpark==3.4.0\n"
          ]
        }
      ],
      "source": [
        "# Automatically load license data and start a session with all jars user has access to\n",
        "spark = nlp.start()"
      ]
    },
    {
      "cell_type": "code",
      "execution_count": 5,
      "metadata": {
        "colab": {
          "base_uri": "https://localhost:8080/",
          "height": 219
        },
        "id": "aFMD5KCS9Xih",
        "outputId": "2bc25d51-7262-4134-e1e9-b1194bf16e1a"
      },
      "outputs": [
        {
          "output_type": "execute_result",
          "data": {
            "text/plain": [
              "<pyspark.sql.session.SparkSession at 0x7c8e3acb5000>"
            ],
            "text/html": [
              "\n",
              "            <div>\n",
              "                <p><b>SparkSession - in-memory</b></p>\n",
              "                \n",
              "        <div>\n",
              "            <p><b>SparkContext</b></p>\n",
              "\n",
              "            <p><a href=\"http://598cde626ab8:4040\">Spark UI</a></p>\n",
              "\n",
              "            <dl>\n",
              "              <dt>Version</dt>\n",
              "                <dd><code>v3.4.0</code></dd>\n",
              "              <dt>Master</dt>\n",
              "                <dd><code>local[*]</code></dd>\n",
              "              <dt>AppName</dt>\n",
              "                <dd><code>John-Snow-Labs-Spark-Session 🚀 with Jars for: 🚀Spark-NLP==5.5.0, 💊Spark-Healthcare==5.5.0, running on ⚡ PySpark==3.4.0</code></dd>\n",
              "            </dl>\n",
              "        </div>\n",
              "        \n",
              "            </div>\n",
              "        "
            ]
          },
          "metadata": {},
          "execution_count": 5
        }
      ],
      "source": [
        "spark"
      ]
    },
    {
      "cell_type": "markdown",
      "metadata": {
        "id": "FBTuAaNIaE-n"
      },
      "source": [
        "## **🖨️ Input/Output Annotation Types**"
      ]
    },
    {
      "cell_type": "markdown",
      "metadata": {
        "id": "wnFxBtrjaJyP"
      },
      "source": [
        "- Input: `DOCUMENT`\n",
        "\n",
        "- Output: `DOCUMENT`"
      ]
    },
    {
      "cell_type": "markdown",
      "metadata": {
        "id": "RLbYplk2a30Z"
      },
      "source": [
        "## **🔎 Parameters**\n"
      ]
    },
    {
      "cell_type": "markdown",
      "metadata": {
        "id": "uzlkaWUZa7KN"
      },
      "source": [
        "**Parameters**:\n",
        "\n",
        "- `setNGpuLayers` :  if you have GPU`: The `setSeparator` parameter allows users to define a custom string that will be used to separate merged entities within the output phrase.  Set the number of layers to store in VRAM (-1 - use default)\n",
        "\n",
        "\n",
        "- `temperature` : Set the temperature. Adjusts the randomness in selecting tokens during text generation, with values ranging from 0 (deterministic) to 1 (maximally random).\n",
        "\n",
        "      \n",
        "  "
      ]
    },
    {
      "cell_type": "markdown",
      "metadata": {
        "id": "ICcnDujCGv5G"
      },
      "source": [
        "# Pipeline"
      ]
    },
    {
      "cell_type": "markdown",
      "metadata": {
        "id": "GZ5P9FxTd-RP"
      },
      "source": [
        "JSL_MedM model is trained to perform Summarization and Q&A based on a given context."
      ]
    },
    {
      "cell_type": "code",
      "execution_count": 6,
      "metadata": {
        "colab": {
          "base_uri": "https://localhost:8080/"
        },
        "id": "ga60oq3uNr96",
        "outputId": "8e1d2b6f-4e6c-412c-a4eb-92e0b0fcc1e3"
      },
      "outputs": [
        {
          "output_type": "stream",
          "name": "stdout",
          "text": [
            "+----------------------------------------------------------------------------------------------------+\n",
            "|                                                                                                text|\n",
            "+----------------------------------------------------------------------------------------------------+\n",
            "|\\nsummarize the following content.\\n\\n content:\\n ---------------------------- INDICATIONS AND US...|\n",
            "+----------------------------------------------------------------------------------------------------+\n",
            "\n"
          ]
        }
      ],
      "source": [
        "medm_prompt = \"\"\"\n",
        "summarize the following content.\n",
        "\n",
        " content:\n",
        " ---------------------------- INDICATIONS AND USAGE ---------------------------\n",
        " KISUNLA is an amyloid beta-directed antibody indicated for the\n",
        " treatment of Alzheimer’s disease. Treatment with KISUNLA should be\n",
        " initiated in patients with mild cognitive impairment or mild dementia\n",
        " stage of disease, the population in which treatment was initiated in the\n",
        " clinical trials. (1)\n",
        " ------------------------DOSAGE AND ADMINISTRATION-----------------------\n",
        " • Confirm the presence of amyloid beta pathology prior to initiating\n",
        " treatment. (2.1)\n",
        " • The recommended dosage of KISUNLA is 700 mg administered as\n",
        " an intravenous infusion over approximately 30 minutes every four\n",
        " weeks for the first three doses, followed by 1400 mg every four\n",
        " weeks. (2.2)\n",
        " • Consider stopping dosing with KISUNLA based on reduction of\n",
        " amyloid plaques to minimal levels on amyloid PET imaging. (2.2)\n",
        " • Obtain a recent baseline brain MRI prior to initiating treatment.\n",
        " (2.3, 5.1)\n",
        " • Obtain an MRI prior to the 2nd, 3rd, 4th, and 7th infusions. If\n",
        " radiographically observed ARIA occurs, treatment\n",
        " recommendations are based on type, severity, and presence of\n",
        " symptoms. (2.3, 5.1)\n",
        " • Dilution to a final concentration of 4 mg/mL to 10 mg/mL with 0.9%\n",
        " Sodium Chloride Injection, is required prior to administration. (2.4)\n",
        " ----------------------DOSAGE FORMS AND STRENGTHS---------------------\n",
        " Injection: 350 mg/20 mL (17.5 mg/mL) in a single-dose vial. (3)\n",
        " ------------------------------- CONTRAINDICATIONS ------------------------------\n",
        " KISUNLA is contraindicated in patients with known serious\n",
        " hypersensitivity to donanemab-azbt or to any of the excipients. (4, 5.2)\n",
        " ------------------------WARNINGS AND PRECAUTIONS-----------------------\n",
        " • Amyloid Related Imaging Abnormalities (ARIA): Enhanced clinical\n",
        " vigilance for ARIA is recommended during the first 24 weeks of\n",
        " treatment with KISUNLA. Risk of ARIA, including symptomatic\n",
        " ARIA, was increased in apolipoprotein E ε4 (ApoE ε4)\n",
        " homozygotes compared to heterozygotes and noncarriers. The risk\n",
        " of ARIA-E and ARIA-H is increased in KISUNLA-treated patients\n",
        " with pretreatment microhemorrhages and/or superficial siderosis. If\n",
        " a patient experiences symptoms suggestive of ARIA, clinical\n",
        " evaluation should be performed, including MRI scanning if\n",
        " indicated. (2.3, 5.1)\n",
        " • Infusion-Related Reactions: The infusion rate may be reduced, or\n",
        " the infusion may be discontinued, and appropriate therapy initiated\n",
        " as clinically indicated. Consider pre-treatment with antihistamines,\n",
        " acetaminophen, or corticosteroids prior to subsequent dosing. (5.3)\n",
        " -------------------------------ADVERSE REACTIONS------------------------------\n",
        " Most common adverse reactions (at least 10% and higher incidence\n",
        " compared to placebo): ARIA-E, ARIA-H microhemorrhage, ARIA-H\n",
        " superficial siderosis, and headache. (6.1)\n",
        "\"\"\"\n",
        "\n",
        "data = spark.createDataFrame([[medm_prompt]]).toDF(\"text\")\n",
        "data.show(truncate=100)"
      ]
    },
    {
      "cell_type": "markdown",
      "metadata": {
        "id": "nBFYPWlz17Yn"
      },
      "source": [
        "## Parameters :"
      ]
    },
    {
      "cell_type": "markdown",
      "metadata": {
        "id": "LPEsT5dE1yGr"
      },
      "source": [
        "\n",
        "\n",
        "### 📌 `setTemperature()`\n",
        "- **Definition**: Adjusts the randomness in selecting tokens during text generation, with values ranging from 0 (deterministic) to 1 (maximally random).\n",
        "- **Effect**:\n",
        "  - **Low Values**: Produces more focused and predictable outputs.\n",
        "  - **High Values**: Encourages more varied and creative responses, but may lead to less coherent text.\n"
      ]
    },
    {
      "cell_type": "markdown",
      "source": [
        "#### Temperature : 0.0"
      ],
      "metadata": {
        "id": "oSmyPRhd36Yu"
      }
    },
    {
      "cell_type": "code",
      "source": [
        "# Document Assembler\n",
        "documentAssembler = nlp.DocumentAssembler() \\\n",
        "    .setInputCol(\"text\") \\\n",
        "    .setOutputCol(\"document\")\n",
        "\n",
        "medical_llm_temp0 = medical.AutoGGUFModel.pretrained(\"jsl_medm_q8_v1\", \"en\", \"clinical/models\") \\\n",
        "    .setInputCols([\"document\"]) \\\n",
        "    .setOutputCol(\"completions\") \\\n",
        "    .setBatchSize(1)\\\n",
        "    .setTemperature(0.0)  # Lower temperature for more deterministic results\n",
        "\n",
        "pipeline_temp0 = nlp.Pipeline(stages=[documentAssembler, medical_llm_temp0])\n",
        "\n",
        "results_temp0 = pipeline_temp0.fit(data).transform(data)\n"
      ],
      "metadata": {
        "id": "Q2DwOMcn14Av",
        "colab": {
          "base_uri": "https://localhost:8080/"
        },
        "outputId": "711f6426-ca7b-4b0e-9860-a7cd37e59875"
      },
      "execution_count": null,
      "outputs": [
        {
          "output_type": "stream",
          "name": "stdout",
          "text": [
            "jsl_medm_q8_v1 download started this may take some time.\n",
            "[OK!]\n"
          ]
        }
      ]
    },
    {
      "cell_type": "code",
      "source": [
        "print(\"First Run Results with Temperature = 0:\")\n",
        "print(results_temp0.select(\"completions\").collect()[0].completions[0].result)"
      ],
      "metadata": {
        "id": "0CYQgUuMUMqW",
        "colab": {
          "base_uri": "https://localhost:8080/"
        },
        "outputId": "d9e1e177-f869-495b-a901-51a110d34c9e"
      },
      "execution_count": null,
      "outputs": [
        {
          "output_type": "stream",
          "name": "stdout",
          "text": [
            "First Run Results with Temperature = 0:\n",
            "KISUNLA is an amyloid beta-directed antibody indicated for the treatment of Alzheimer's disease. It is recommended to initiate treatment in patients with mild cognitive impairment or mild dementia stage of disease. The recommended dosage is 700 mg administered as an intravenous infusion over approximately 30 minutes every four weeks for the first three doses, followed by 1400 mg every four weeks. Patients should have a recent baseline brain MRI prior to initiating treatment and obtain an MRI prior to the 2nd, 3rd, 4th, and 7th infusions. KISUNLA is contraindicated in patients with known serious hypersensitivity to donanemab-azbt or to any of the excipients. Common adverse reactions include ARIA-E, ARIA-H microhemorrhage, ARIA-H superficial siderosis, and headache.\n"
          ]
        }
      ]
    },
    {
      "cell_type": "code",
      "source": [
        "print(\"Second Run Results with Temperature = 0:\")\n",
        "print(results_temp0.select(\"completions\").collect()[0].completions[0].result)"
      ],
      "metadata": {
        "id": "6I0lD75qUMjr",
        "colab": {
          "base_uri": "https://localhost:8080/"
        },
        "outputId": "8b4ceb78-b714-4a44-8083-215003aff297"
      },
      "execution_count": null,
      "outputs": [
        {
          "output_type": "stream",
          "name": "stdout",
          "text": [
            "Second Run Results with Temperature = 0:\n",
            "KISUNLA is an amyloid beta-directed antibody indicated for the treatment of Alzheimer's disease. It is recommended to initiate treatment in patients with mild cognitive impairment or mild dementia stage of disease. The recommended dosage is 700 mg administered as an intravenous infusion over approximately 30 minutes every four weeks for the first three doses, followed by 1400 mg every four weeks. Patients should have a recent baseline brain MRI prior to initiating treatment and obtain an MRI prior to the 2nd, 3rd, 4th, and 7th infusions. KISUNLA is contraindicated in patients with known serious hypersensitivity to donanemab-azbt or to any of the excipients. Common adverse reactions include ARIA-E, ARIA-H microhemorrhage, ARIA-H superficial siderosis, and headache.\n"
          ]
        }
      ]
    },
    {
      "cell_type": "markdown",
      "source": [
        " 🔎 In this demonstration above, We set the temperature parameter to 0, making the model's responses completely deterministic. By running the pipeline twice with this setting, we can observe that the outputs remain consistent across runs, showing how a zero-temperature setting ensures that the model generates the same result for the same input every time."
      ],
      "metadata": {
        "id": "4Oo72tiOV2YW"
      }
    },
    {
      "cell_type": "markdown",
      "source": [
        "#### Temperature : 0.7"
      ],
      "metadata": {
        "id": "rcOKBUqm4AOV"
      }
    },
    {
      "cell_type": "code",
      "source": [
        "medical_llm_temp0.setTemperature(0.7)\n",
        "results_temp07 = pipeline_temp0.fit(data).transform(data)"
      ],
      "metadata": {
        "id": "S0jW6kM5UMgd"
      },
      "execution_count": null,
      "outputs": []
    },
    {
      "cell_type": "code",
      "source": [
        "print(\"First Run Results with Temperature = 0.7:\")\n",
        "print(results_temp07.select(\"completions\").collect()[0].completions[0].result)"
      ],
      "metadata": {
        "colab": {
          "base_uri": "https://localhost:8080/"
        },
        "id": "FSdzCOmnWv01",
        "outputId": "a08a6605-407c-4dc7-8ce8-e28777c7d800"
      },
      "execution_count": null,
      "outputs": [
        {
          "output_type": "stream",
          "name": "stdout",
          "text": [
            "First Run Results with Temperature = 0.7:\n",
            "Here is a summary of the content:\n",
            "\n",
            "KISUNLA is an antibody indicated for the treatment of Alzheimer's disease in patients with mild cognitive impairment or mild dementia. Treatment should be initiated in patients with amyloid beta pathology confirmed by PET imaging. The recommended dosage is 700 mg or 1400 mg administered intravenously every 4 weeks. Patients should have a recent baseline brain MRI prior to starting treatment and regular MRIs throughout treatment. Contraindications include patients with serious hypersensitivity to the medication or any of its excipients. Warnings and precautions include increased risk of Amyloid Related Imaging Abnormalities (ARIA), infusion-related reactions, and microhemorrhages. The most common adverse reactions are ARIA-E, ARIA-H microhemorrhage, ARIA-H superficial siderosis, and headache.\n"
          ]
        }
      ]
    },
    {
      "cell_type": "code",
      "source": [
        "print(\"Second Run Results with Temperature = 0.7:\")\n",
        "print(results_temp07.select(\"completions\").collect()[0].completions[0].result)"
      ],
      "metadata": {
        "colab": {
          "base_uri": "https://localhost:8080/"
        },
        "id": "ppFak606WvuO",
        "outputId": "8f774a51-35ce-4493-f7da-fc63cdd52ace"
      },
      "execution_count": null,
      "outputs": [
        {
          "output_type": "stream",
          "name": "stdout",
          "text": [
            "Second Run Results with Temperature = 0.7:\n",
            "KISUNLA is an amyloid beta-directed antibody indicated for the treatment of Alzheimer's disease. It is recommended for patients with mild cognitive impairment or mild dementia. The dosage is 700mg intravenous infusion over 30 minutes every four weeks for the first three doses, followed by 1400mg every four weeks. Amyloid plaques should be reduced to minimal levels on amyloid PET imaging, and a recent baseline brain MRI should be obtained prior to treatment. Patients with a history of serious hypersensitivity to the drug or its excipients should not receive KISUNLA.\n"
          ]
        }
      ]
    },
    {
      "cell_type": "markdown",
      "source": [
        "🔎This time we set the temperature parameter to 0.7, allowing for some variation in the model’s responses. With this setting, the model introduces a degree of randomness in its output, making the summaries slightly different each time we run the pipeline. This variability demonstrates how a higher temperature value encourages the model to explore alternative wordings or perspectives, leading to diverse summarization results across multiple runs."
      ],
      "metadata": {
        "id": "6VKl3zy_xKdE"
      }
    },
    {
      "cell_type": "markdown",
      "metadata": {
        "id": "4bjxOAFSVwtf"
      },
      "source": [
        "### 📌 `setNGpuLayers` Parameter\n",
        "- **Definition**: Specifies the number of model layers to store in GPU memory for processing.\n",
        "- **Effect**:\n",
        "  - **Positive Impact**: Increases performance and speed when using a GPU, allowing for faster inference and handling larger models.\n",
        "  - **Negative Impact**: Setting it too high may lead to out-of-memory errors if the GPU cannot accommodate the specified layers. Setting it to `-1` uses default settings, optimizing resource usage automatically."
      ]
    },
    {
      "cell_type": "markdown",
      "source": [
        "### CPU\n",
        "Initially, we perform the timing calculations using the CPU"
      ],
      "metadata": {
        "id": "mSTDUIRvFKDJ"
      }
    },
    {
      "cell_type": "code",
      "source": [
        "import time\n",
        "\n",
        "documentAssembler = nlp.DocumentAssembler() \\\n",
        "    .setInputCol(\"text\") \\\n",
        "    .setOutputCol(\"document\")\n",
        "\n",
        "# NGpuLayers = -1 (CPU only)\n",
        "medical_llm_cpu = medical.AutoGGUFModel.pretrained(\"jsl_medm_q8_v1\", \"en\", \"clinical/models\") \\\n",
        "    .setInputCols([\"document\"]) \\\n",
        "    .setOutputCol(\"completions\")\\\n",
        "    .setBatchSize(1)\n",
        "\n",
        "pipeline_cpu = nlp.Pipeline(stages=[documentAssembler, medical_llm_cpu])\n",
        "model_cpu = pipeline_cpu.fit(data)\n",
        "\n",
        "start_time = time.time()\n",
        "results_cpu = model_cpu.transform(data)\n",
        "results_cpu.select(\"completions.result\").show(truncate=False)\n",
        "cpu_time = time.time() - start_time\n",
        "\n",
        "print(f\"CPU processing time: {cpu_time:.2f} seconds\")"
      ],
      "metadata": {
        "colab": {
          "base_uri": "https://localhost:8080/"
        },
        "id": "Z14HmfyBYvtp",
        "outputId": "a9f2c5f6-a40f-4098-8458-4ba4e5c65a25"
      },
      "execution_count": 7,
      "outputs": [
        {
          "output_type": "stream",
          "name": "stdout",
          "text": [
            "jsl_medm_q8_v1 download started this may take some time.\n",
            "[OK!]\n",
            "+--------------------------------------------------------------------------------------------------------------------------------------------------------------------------------------------------------------------------------------------------------------------------------------------------------------------------------------------------------------------------------------------------------------------------------------------------------------------------------------------------------------------------------------------------------------------------------------------------------------------------------------------------------------------------------------------------------------------------------------------------------------------------------------------------------+\n",
            "|result                                                                                                                                                                                                                                                                                                                                                                                                                                                                                                                                                                                                                                                                                                                                                                                                  |\n",
            "+--------------------------------------------------------------------------------------------------------------------------------------------------------------------------------------------------------------------------------------------------------------------------------------------------------------------------------------------------------------------------------------------------------------------------------------------------------------------------------------------------------------------------------------------------------------------------------------------------------------------------------------------------------------------------------------------------------------------------------------------------------------------------------------------------------+\n",
            "|[KISUNLA is an amyloid beta-directed antibody indicated for the treatment of Alzheimer's disease. It is recommended to initiate treatment in patients with mild cognitive impairment or mild dementia stage of disease. The recommended dosage is 700 mg administered as an intravenous infusion over approximately 30 minutes every four weeks for the first three doses, followed by 1400 mg every four weeks. Patients should have a recent baseline brain MRI prior to initiating treatment and obtain an MRI prior to the 2nd, 3rd, 4th, and 7th infusions. KISUNLA is contraindicated in patients with known serious hypersensitivity to donanemab-azbt or to any of the excipients. Common adverse reactions include ARIA-E, ARIA-H microhemorrhage, ARIA-H superficial siderosis, and headache.]|\n",
            "+--------------------------------------------------------------------------------------------------------------------------------------------------------------------------------------------------------------------------------------------------------------------------------------------------------------------------------------------------------------------------------------------------------------------------------------------------------------------------------------------------------------------------------------------------------------------------------------------------------------------------------------------------------------------------------------------------------------------------------------------------------------------------------------------------------+\n",
            "\n",
            "CPU processing time: 120.24 seconds\n"
          ]
        }
      ]
    },
    {
      "cell_type": "markdown",
      "source": [
        "### GPU\n",
        "We have now switch the runtime to a GPU machine by starting Spark with the hardware_target=\"gpu\" parameter, allowing us to observe the effect of the setNGpuLayers() parameter."
      ],
      "metadata": {
        "id": "dykUoBbBFMsf"
      }
    },
    {
      "cell_type": "code",
      "execution_count": null,
      "metadata": {
        "colab": {
          "base_uri": "https://localhost:8080/"
        },
        "outputId": "1304270c-3a8c-4bd5-d5b1-1aab5cf92084",
        "id": "H35zngDBFQnp"
      },
      "outputs": [
        {
          "output_type": "stream",
          "name": "stdout",
          "text": [
            "👌 Detected license file /content/spark_nlp_for_healthcare_spark_ocr_9596 (2).json\n",
            "🤓 Looks like you are missing some jars, trying fetching them ...\n",
            "👌 Detected license file /content/spark_nlp_for_healthcare_spark_ocr_9596 (2).json\n",
            "Downloading 🫘+🚀 Java Library spark-nlp-gpu-assembly-5.5.0.jar\n",
            "🙆 JSL Home setup in /root/.johnsnowlabs\n",
            "👌 Detected license file /content/spark_nlp_for_healthcare_spark_ocr_9596 (2).json\n",
            "👌 Launched \u001b[92mgpu optimized\u001b[39m session with with: 🚀Spark-NLP==5.5.0, 💊Spark-Healthcare==5.5.0, running on ⚡ PySpark==3.4.0\n"
          ]
        }
      ],
      "source": [
        "# Automatically load license data and start a session with all jars user has access to\n",
        "spark = nlp.start(hardware_target=\"gpu\")"
      ]
    },
    {
      "cell_type": "code",
      "execution_count": null,
      "metadata": {
        "colab": {
          "base_uri": "https://localhost:8080/",
          "height": 221
        },
        "outputId": "1c4187a9-8248-491e-8176-f2328a3583e2",
        "id": "OxUuHfIyFQnp"
      },
      "outputs": [
        {
          "output_type": "execute_result",
          "data": {
            "text/plain": [
              "<pyspark.sql.session.SparkSession at 0x7b7f47945960>"
            ],
            "text/html": [
              "\n",
              "            <div>\n",
              "                <p><b>SparkSession - in-memory</b></p>\n",
              "                \n",
              "        <div>\n",
              "            <p><b>SparkContext</b></p>\n",
              "\n",
              "            <p><a href=\"http://50ad6d54d804:4040\">Spark UI</a></p>\n",
              "\n",
              "            <dl>\n",
              "              <dt>Version</dt>\n",
              "                <dd><code>v3.4.0</code></dd>\n",
              "              <dt>Master</dt>\n",
              "                <dd><code>local[*]</code></dd>\n",
              "              <dt>AppName</dt>\n",
              "                <dd><code>John-Snow-Labs-Spark-Session 🚀 with Jars for: 🚀Spark-NLP==5.5.0, 💊Spark-Healthcare==5.5.0, running on ⚡ PySpark==3.4.0</code></dd>\n",
              "            </dl>\n",
              "        </div>\n",
              "        \n",
              "            </div>\n",
              "        "
            ]
          },
          "metadata": {},
          "execution_count": 6
        }
      ],
      "source": [
        "spark"
      ]
    },
    {
      "cell_type": "code",
      "source": [
        "# NGpuLayers = 400 (Using GPU)\n",
        "medical_llm_gpu = medical.AutoGGUFModel.pretrained(\"jsl_medm_q8_v1\", \"en\", \"clinical/models\") \\\n",
        "    .setInputCols([\"document\"]) \\\n",
        "    .setOutputCol(\"completions\") \\\n",
        "    .setNGpuLayers(400)\n",
        "\n",
        "pipeline_gpu = nlp.Pipeline(stages=[documentAssembler, medical_llm_gpu])\n",
        "model_gpu = pipeline_gpu.fit(data)\n",
        "\n",
        "start_time = time.time()\n",
        "results_gpu = model_gpu.transform(data)\n",
        "results_gpu.select(\"completions.result\").show(truncate=False)\n",
        "gpu_time = time.time() - start_time\n",
        "\n",
        "print(f\"\\nGPU processing time with setNGpuLayers(400): {gpu_time:.2f} seconds\")"
      ],
      "metadata": {
        "colab": {
          "base_uri": "https://localhost:8080/"
        },
        "id": "2Wn6J4-593Qt",
        "outputId": "b5b05fc3-9677-430f-ac09-b92f24759422"
      },
      "execution_count": null,
      "outputs": [
        {
          "output_type": "stream",
          "name": "stdout",
          "text": [
            "jsl_medm_q8_v1 download started this may take some time.\n",
            "[OK!]\n",
            "+--------------------------------------------------------------------------------------------------------------------------------------------------------------------------------------------------------------------------------------------------------------------------------------------------------------------------------------------------------------------------------------------------------------------------------------------------------------------------------------------------------------------------------------------------------------------------------------------------------------------------------------------------------------------------------------------------------------------------------------------------------------------------------------------------------+\n",
            "|result                                                                                                                                                                                                                                                                                                                                                                                                                                                                                                                                                                                                                                                                                                                                                                                                  |\n",
            "+--------------------------------------------------------------------------------------------------------------------------------------------------------------------------------------------------------------------------------------------------------------------------------------------------------------------------------------------------------------------------------------------------------------------------------------------------------------------------------------------------------------------------------------------------------------------------------------------------------------------------------------------------------------------------------------------------------------------------------------------------------------------------------------------------------+\n",
            "|[KISUNLA is an amyloid beta-directed antibody indicated for the treatment of Alzheimer's disease. It is recommended to initiate treatment in patients with mild cognitive impairment or mild dementia stage of disease. The recommended dosage is 700 mg administered as an intravenous infusion over approximately 30 minutes every four weeks for the first three doses, followed by 1400 mg every four weeks. Patients should have a recent baseline brain MRI prior to initiating treatment and obtain an MRI prior to the 2nd, 3rd, 4th, and 7th infusions. KISUNLA is contraindicated in patients with known serious hypersensitivity to donanemab-azbt or to any of the excipients. Common adverse reactions include ARIA-E, ARIA-H microhemorrhage, ARIA-H superficial siderosis, and headache.]|\n",
            "+--------------------------------------------------------------------------------------------------------------------------------------------------------------------------------------------------------------------------------------------------------------------------------------------------------------------------------------------------------------------------------------------------------------------------------------------------------------------------------------------------------------------------------------------------------------------------------------------------------------------------------------------------------------------------------------------------------------------------------------------------------------------------------------------------------+\n",
            "\n",
            "\n",
            "GPU processing time with setNGpuLayers(400): 40.82 seconds\n"
          ]
        }
      ]
    },
    {
      "cell_type": "markdown",
      "source": [
        "🔎  **Exploring the Effect of the `setNGpuLayers()` Parameter**\n",
        "\n",
        "The `setNGpuLayers()` parameter directly impacting processing speed. Here’s a comparison of CPU and GPU timing:\n",
        "\n",
        "**CPU vs. GPU with `setNGpuLayers(400)`**:\n",
        "- **CPU Only**: 120.24 seconds — slower due to sequential processing.\n",
        "- **GPU (400 layers)**: 40.82 seconds — faster by leveraging the GPU’s parallel processing power.\n",
        "\n",
        "These results show that using `setNGpuLayers(400)` maximizes GPU efficiency, significantly reducing training time."
      ],
      "metadata": {
        "id": "KRDyrv0V2IA_"
      }
    }
  ],
  "metadata": {
    "colab": {
      "machine_shape": "hm",
      "provenance": [],
      "gpuType": "T4",
      "toc_visible": true,
      "collapsed_sections": [
        "okhT7AcXxben"
      ]
    },
    "kernelspec": {
      "display_name": "Python 3",
      "name": "python3"
    },
    "language_info": {
      "name": "python"
    },
    "accelerator": "GPU"
  },
  "nbformat": 4,
  "nbformat_minor": 0
}
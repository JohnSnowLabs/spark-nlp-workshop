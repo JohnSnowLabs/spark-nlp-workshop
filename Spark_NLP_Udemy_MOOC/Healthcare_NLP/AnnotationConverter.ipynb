{
  "cells": [
    {
      "cell_type": "markdown",
      "metadata": {
        "id": "6Wfq4tie-OVj"
      },
      "source": [
        "![JohnSnowLabs](https://nlp.johnsnowlabs.com/assets/images/logo.png)"
      ]
    },
    {
      "cell_type": "markdown",
      "metadata": {
        "id": "Js6EFUIFUQlO"
      },
      "source": [
        "[![Open In Colab](https://colab.research.google.com/assets/colab-badge.svg)](https://colab.research.google.com/github/JohnSnowLabs/spark-nlp-workshop/blob/master/Spark_NLP_Udemy_MOOC/Healthcare_NLP/ContextualEntityRuler.ipynb)"
      ]
    },
    {
      "cell_type": "markdown",
      "metadata": {
        "id": "aQ2JWggt-UYX"
      },
      "source": [
        "#   **📜 AnnotationConverter**\n"
      ]
    },
    {
      "cell_type": "markdown",
      "source": [
        "This notebook introduces a flexible **AnnotationConverter** — a lightweight Python class designed to help you transform annotations within a DataFrame using custom conversion functions. It is especially useful when you need to reformat or reinterpret annotation results from one type to another.\n",
        "\n",
        "For example, you can use it to:\n",
        "\n",
        "\n",
        "\n",
        "- Reformat LLM outputs into document-style annotations\n",
        "\n",
        "- Convert assertion results into chunk annotations\n",
        "\n",
        "- Adapt rule-based outputs into a consistent, usable format"
      ],
      "metadata": {
        "id": "7hzwkXPoKY5I"
      }
    },
    {
      "cell_type": "markdown",
      "metadata": {
        "id": "e726rKETuJJr"
      },
      "source": [
        "**📖 Learning Objectives:**\n",
        "\n",
        "1. Understand how to use the annotator.\n",
        "\n",
        "2. Become comfortable using the different parameters of the annotator.\n",
        "\n",
        "**🔗 Helpful Links:**\n",
        "\n",
        "- Reference Documentation: [AnnotationConverter](https://nlp.johnsnowlabs.com/docs/en/licensed_annotators#annotationconverter)\n"
      ]
    },
    {
      "cell_type": "markdown",
      "metadata": {
        "id": "okhT7AcXxben"
      },
      "source": [
        "## **🎬 Colab Setup**"
      ]
    },
    {
      "cell_type": "code",
      "source": [
        "!pip install -q johnsnowlabs"
      ],
      "metadata": {
        "id": "z5z3le8sbyZW"
      },
      "execution_count": null,
      "outputs": []
    },
    {
      "cell_type": "code",
      "source": [
        "from google.colab import files\n",
        "print('Please Upload your John Snow Labs License using the button below')\n",
        "license_keys = files.upload()"
      ],
      "metadata": {
        "id": "iSiEq6NRbyWm"
      },
      "execution_count": null,
      "outputs": []
    },
    {
      "cell_type": "code",
      "source": [
        "from johnsnowlabs import nlp, medical\n",
        "\n",
        "nlp.install()"
      ],
      "metadata": {
        "id": "6TdbNY8hb_bF"
      },
      "execution_count": null,
      "outputs": []
    },
    {
      "cell_type": "code",
      "source": [
        "import pyspark.sql.functions as F\n",
        "import pandas as pd\n",
        "\n",
        "spark = nlp.start()\n",
        "spark"
      ],
      "metadata": {
        "colab": {
          "base_uri": "https://localhost:8080/",
          "height": 291
        },
        "id": "x4938xmUcAeF",
        "outputId": "19eb7a1e-d9bc-4aa2-a9c7-0ab4c7de264c"
      },
      "execution_count": 4,
      "outputs": [
        {
          "output_type": "stream",
          "name": "stdout",
          "text": [
            "👌 Detected license file /content/spark_nlp_for_healthcare_spark_ocr_9596 (9).json\n",
            "👌 Launched \u001b[92mcpu optimized\u001b[39m session with with: 🚀Spark-NLP==6.0.0, 💊Spark-Healthcare==6.0.0, running on ⚡ PySpark==3.4.0\n"
          ]
        },
        {
          "output_type": "execute_result",
          "data": {
            "text/plain": [
              "<pyspark.sql.session.SparkSession at 0x7a03344b4290>"
            ],
            "text/html": [
              "\n",
              "            <div>\n",
              "                <p><b>SparkSession - in-memory</b></p>\n",
              "                \n",
              "        <div>\n",
              "            <p><b>SparkContext</b></p>\n",
              "\n",
              "            <p><a href=\"http://045a020f1251:4040\">Spark UI</a></p>\n",
              "\n",
              "            <dl>\n",
              "              <dt>Version</dt>\n",
              "                <dd><code>v3.4.0</code></dd>\n",
              "              <dt>Master</dt>\n",
              "                <dd><code>local[*]</code></dd>\n",
              "              <dt>AppName</dt>\n",
              "                <dd><code>John-Snow-Labs-Spark-Session 🚀 with Jars for: 🚀Spark-NLP==6.0.0, 💊Spark-Healthcare==6.0.0, running on ⚡ PySpark==3.4.0</code></dd>\n",
              "            </dl>\n",
              "        </div>\n",
              "        \n",
              "            </div>\n",
              "        "
            ]
          },
          "metadata": {},
          "execution_count": 4
        }
      ]
    },
    {
      "cell_type": "markdown",
      "metadata": {
        "id": "FBTuAaNIaE-n"
      },
      "source": [
        "## **🖨️ Input/Output Annotation Types**"
      ]
    },
    {
      "cell_type": "markdown",
      "metadata": {
        "id": "wnFxBtrjaJyP"
      },
      "source": [
        "- Input: `ANY`\n",
        "\n",
        "- Output: `ANY`"
      ]
    },
    {
      "cell_type": "markdown",
      "metadata": {
        "id": "RLbYplk2a30Z"
      },
      "source": [
        "## **🔎 Parameters**\n"
      ]
    },
    {
      "cell_type": "markdown",
      "metadata": {
        "id": "uzlkaWUZa7KN"
      },
      "source": [
        "**Parameters**:\n",
        "\n",
        "\n",
        "- `f`: (FunctionParam) User-defined function to transform annotations.\n",
        "\n",
        "- `inputCol`: Name of the input column containing annotations.\n",
        "\n",
        "- `outputCol`:  Name of the output column for converted annotations.\n",
        "\n",
        "- `outputAnnotatorType`: Type of the output annotations (e.g., “token”).\n",
        "\n",
        "\n",
        "\n",
        "  "
      ]
    },
    {
      "cell_type": "markdown",
      "metadata": {
        "id": "ICcnDujCGv5G"
      },
      "source": [
        "### Pipeline"
      ]
    },
    {
      "cell_type": "code",
      "source": [
        "document_assembler = nlp.DocumentAssembler()\\\n",
        "    .setInputCol(\"text\")\\\n",
        "    .setOutputCol(\"document\")\n",
        "\n",
        "medical_llm = medical.AutoGGUFModel.pretrained(\"jsl_medm_q8_v3\", \"en\", \"clinical/models\")\\\n",
        "    .setInputCols(\"document\")\\\n",
        "    .setOutputCol(\"completions\")\\\n",
        "    .setBatchSize(1)\\\n",
        "    .setNPredict(2048)\\\n",
        "    .setUseChatTemplate(True)\\\n",
        "    .setTemperature(0)\\\n",
        "    .setNGpuLayers(-1) # if you have GPU\n",
        "\n",
        "def llm_to_documents_function(annotations):\n",
        "    \"\"\"Parse JSON from last element of completions and convert into Spark NLP Document format.\"\"\"\n",
        "    import json\n",
        "    import re\n",
        "    if not isinstance(annotations, list) or len(annotations) == 0:\n",
        "        return []\n",
        "\n",
        "    last_entity = annotations[-1]\n",
        "    if not hasattr(last_entity, 'result'):\n",
        "        return []\n",
        "\n",
        "    result = last_entity.result\n",
        "\n",
        "    def extract_last_json(s):\n",
        "      \"\"\"Extract the last JSON object or array from a string.\"\"\"\n",
        "      if not isinstance(s, str):\n",
        "          return None\n",
        "\n",
        "      json_pattern = re.compile(r'(\\{.*?\\}|\\[.*?\\])', re.DOTALL)\n",
        "      matches = json_pattern.findall(s)\n",
        "      if not matches:\n",
        "          return None\n",
        "\n",
        "      for match in reversed(matches):\n",
        "          try:\n",
        "              return json.loads(match)\n",
        "          except json.JSONDecodeError:\n",
        "              continue\n",
        "      return None\n",
        "\n",
        "    entities = extract_last_json(result)\n",
        "    if not entities:\n",
        "        return []\n",
        "\n",
        "    if isinstance(entities, dict):\n",
        "        entities = [entities]\n",
        "\n",
        "    documents = []\n",
        "    for idx, entity in enumerate(entities[:1]):\n",
        "        chunk = entity.get(\"chunk\", \"\")\n",
        "\n",
        "        documents.append(\n",
        "            Annotation(\n",
        "            annotatorType = \"document\",\n",
        "            begin = 0 if chunk else -1,\n",
        "            end = len(chunk) - 1 if chunk else -1,\n",
        "            result = chunk if chunk else \"\",\n",
        "            metadata = {\"sentence\": 0} if chunk else {},\n",
        "            embeddings = []\n",
        "          )\n",
        "        )\n",
        "\n",
        "    return documents\n",
        "\n",
        "\n",
        "llm_to_doc = medical.AnnotationConverter(f=llm_to_documents_function)\\\n",
        "    .setInputCol(\"completions\")\\\n",
        "    .setOutputCol(\"chunk_docs\")\\\n",
        "    .setOutputAnnotatorType(\"document\")\n",
        "\n",
        "schunk_embeddings = nlp.MPNetEmbeddings.pretrained(\"all_mpnet_base_v2\",\"en\") \\\n",
        "    .setInputCols([\"chunk_docs\"]) \\\n",
        "    .setOutputCol(\"mpnet_embeddings\")\n",
        "\n",
        "icd10_resolver = medical.SentenceEntityResolverModel.pretrained(\"mpnetresolve_icd10_cms_hcc_2024_midyear\", \"en\", \"clinical/models\") \\\n",
        "    .setInputCols([\"mpnet_embeddings\"]) \\\n",
        "    .setOutputCol(\"icd10cm_code\")\\\n",
        "    .setDistanceFunction(\"COSINE\")\n",
        "\n",
        "\n",
        "pipeline = nlp.Pipeline(\n",
        "    stages = [\n",
        "        document_assembler,\n",
        "        medical_llm,\n",
        "        llm_to_doc,\n",
        "        schunk_embeddings,\n",
        "        icd10_resolver\n",
        "])\n",
        "\n",
        "data_ner = spark.createDataFrame([[\"\"]]).toDF(\"text\")\n",
        "p_model = pipeline.fit(data_ner)\n"
      ],
      "metadata": {
        "colab": {
          "base_uri": "https://localhost:8080/"
        },
        "id": "z1EiprtLtThi",
        "outputId": "95e2c2c0-ff40-4507-bc4c-13287ac14142"
      },
      "execution_count": null,
      "outputs": [
        {
          "output_type": "stream",
          "name": "stdout",
          "text": [
            "jsl_medm_q8_v3 download started this may take some time.\n",
            "[OK!]\n",
            "\n",
            "all_mpnet_base_v2 download started this may take some time.\n",
            "Approximate size to download 387.8 MB\n",
            "[OK!]\n",
            "mpnetresolve_icd10_cms_hcc_2024_midyear download started this may take some time.\n",
            "[OK!]\n"
          ]
        }
      ]
    },
    {
      "cell_type": "code",
      "source": [
        "prompt = \"\"\"<|im_start|>system\n",
        "You are a helpful medical assistant trained by John Snow Labs.<|im_end|>\n",
        "<|im_start|>user\n",
        "\n",
        "Patient is reporting severe neck pain and flu.\n",
        "\n",
        "Respond with the following json:\n",
        "[\n",
        "    {\n",
        "        \"chunk\": \"Actual string from text related to that condition - it should be an exact match\",\n",
        "        \"condition\": \"The name of the condition you think\",\n",
        "        \"category\": \"Confirmed or history or negated or not related\"\n",
        "    }\n",
        "]\n",
        "\n",
        "<|im_start|>assistant\"\"\"\n",
        "prompt_df = spark.createDataFrame([[prompt]]).toDF(\"text\")"
      ],
      "metadata": {
        "id": "tgOCFsiCtTd4"
      },
      "execution_count": null,
      "outputs": []
    },
    {
      "cell_type": "code",
      "source": [
        "result_df = p_model.transform(prompt_df)\n",
        "result_df.select(\"icd10cm_code\").show(truncate=False)"
      ],
      "metadata": {
        "id": "gPSzPwwItTbS",
        "colab": {
          "base_uri": "https://localhost:8080/"
        },
        "outputId": "1b3a6e02-e4fe-4933-9165-8dec1b95726e"
      },
      "execution_count": null,
      "outputs": [
        {
          "output_type": "stream",
          "name": "stdout",
          "text": [
            "+-----------------------------------------------------------------------------------------------------------------------------------------------------------------------------------------------------------------------------------------------------------------------------------------------------------------------------------------------------------------------------------------------------------------------------------------------------------------------------------------------------------------------------------------------------------------------------------------------------------------------------------------------------------------------------------------------------------------------------------------------------------------------------------------------------------------------------------------------------------------------------------------------------------------------------------------------------------------------------------------------------------------------------------------------------------------------------------------------------------------------------------------------------------------------------------------------------------------------------------------------------------------------------------------------------------------------------------------------------------------------------------------------------------------------------------------------------------------------------------------------------------------------------------------------------------------------------------------------------------------------------------------------------------------------------------------------------------------------------------------------------------------------------------------------------------------------------------------------------------------------------------------------------------------------------------------------------------------------------------------------------------------------------------------------------------------------------------------------------------------------------------------------------------------------------------------------------------------------------------------------------------------------------------------------------------------------------------------------------------------------------------------------------------------------------------------------------------------------------------------------------------------------------------------------------------------------------------------------------------------------------------------------------------------------------------------------------------------------------------------------------------------------------------------------------------------------------------------------------------------------------------------------------------------------------------------------------------------------------------------------------------------------------------------------------------------------------------------------------------------------------------------------------------------------------------------+\n",
            "|icd10cm_code                                                                                                                                                                                                                                                                                                                                                                                                                                                                                                                                                                                                                                                                                                                                                                                                                                                                                                                                                                                                                                                                                                                                                                                                                                                                                                                                                                                                                                                                                                                                                                                                                                                                                                                                                                                                                                                                                                                                                                                                                                                                                                                                                                                                                                                                                                                                                                                                                                                                                                                                                                                                                                                                                                                                                                                                                                                                                                                                                                                                                                                                                                                                                                             |\n",
            "+-----------------------------------------------------------------------------------------------------------------------------------------------------------------------------------------------------------------------------------------------------------------------------------------------------------------------------------------------------------------------------------------------------------------------------------------------------------------------------------------------------------------------------------------------------------------------------------------------------------------------------------------------------------------------------------------------------------------------------------------------------------------------------------------------------------------------------------------------------------------------------------------------------------------------------------------------------------------------------------------------------------------------------------------------------------------------------------------------------------------------------------------------------------------------------------------------------------------------------------------------------------------------------------------------------------------------------------------------------------------------------------------------------------------------------------------------------------------------------------------------------------------------------------------------------------------------------------------------------------------------------------------------------------------------------------------------------------------------------------------------------------------------------------------------------------------------------------------------------------------------------------------------------------------------------------------------------------------------------------------------------------------------------------------------------------------------------------------------------------------------------------------------------------------------------------------------------------------------------------------------------------------------------------------------------------------------------------------------------------------------------------------------------------------------------------------------------------------------------------------------------------------------------------------------------------------------------------------------------------------------------------------------------------------------------------------------------------------------------------------------------------------------------------------------------------------------------------------------------------------------------------------------------------------------------------------------------------------------------------------------------------------------------------------------------------------------------------------------------------------------------------------------------------------------------------------+\n",
            "|[{entity, 0, 15, I779, {resolved_text -> Disorder of arteries and arterioles, unspecified, all_k_confidences -> 0.0698:::0.0683:::0.0678:::0.0672:::0.0672:::0.0671:::0.0663:::0.0662:::0.0661:::0.0660:::0.0660:::0.0656:::0.0656:::0.0655:::0.0653, distance -> 0.6412, all_k_results -> I779:::M4692:::M0628:::A480:::M4682:::M0688:::M452:::M4652:::C760:::M4601:::M4982:::M4622:::I720:::M0638:::Q069, confidence -> 0.0698, all_k_cosine_distances -> 0.4112:::0.4401:::0.4480:::0.4602:::0.4618:::0.4627:::0.4792:::0.4816:::0.4842:::0.4856:::0.4864:::0.4935:::0.4942:::0.4955:::0.5017, all_k_distances -> 0.6412:::0.6634:::0.6693:::0.6784:::0.6796:::0.6802:::0.6922:::0.6940:::0.6958:::0.6968:::0.6974:::0.7025:::0.7030:::0.7039:::0.7083, all_k_aux_labels -> version:v22,cat:108.0,billable:Yes|version:v24,cat:108.0,billable:Yes|version:v28,cat:N/A,billable:No:::version:v22,cat:40.0,billable:Yes|version:v24,cat:40.0,billable:Yes|version:v28,cat:N/A,billable:No:::version:v22,cat:40.0,billable:Yes|version:v24,cat:40.0,billable:Yes|version:v28,cat:93.0,billable:Yes:::version:v22,cat:106.0,billable:Yes|version:v24,cat:106.0,billable:Yes|version:v28,cat:263.0,billable:Yes:::version:v22,cat:40.0,billable:Yes|version:v24,cat:40.0,billable:Yes|version:v28,cat:N/A,billable:No:::version:v22,cat:40.0,billable:Yes|version:v24,cat:40.0,billable:Yes|version:v28,cat:93.0,billable:Yes:::version:v22,cat:40.0,billable:Yes|version:v24,cat:40.0,billable:Yes|version:v28,cat:93.0,billable:Yes:::version:v22,cat:40.0,billable:Yes|version:v24,cat:40.0,billable:Yes|version:v28,cat:N/A,billable:No:::version:v22,cat:12.0,billable:Yes|version:v24,cat:12.0,billable:Yes|version:v28,cat:23.0,billable:Yes:::version:v22,cat:40.0,billable:Yes|version:v24,cat:40.0,billable:Yes|version:v28,cat:N/A,billable:No:::version:v22,cat:40.0,billable:Yes|version:v24,cat:40.0,billable:Yes|version:v28,cat:N/A,billable:No:::version:v22,cat:39.0,billable:Yes|version:v24,cat:39.0,billable:Yes|version:v28,cat:92.0,billable:Yes:::version:v22,cat:108.0,billable:Yes|version:v24,cat:108.0,billable:Yes|version:v28,cat:N/A,billable:No:::version:v22,cat:40.0,billable:Yes|version:v24,cat:40.0,billable:Yes|version:v28,cat:93.0,billable:Yes:::version:v22,cat:72.0,billable:Yes|version:v24,cat:72.0,billable:Yes|version:v28,cat:182.0,billable:Yes, sentence -> 0, all_k_resolutions -> Disorder of arteries and arterioles, unspecified:::Unspecified inflammatory spondylopathy, cervical region:::Rheumatoid bursitis, vertebrae:::Gas gangrene:::Other specified inflammatory spondylopathies, cervical region:::Other specified rheumatoid arthritis, vertebrae:::Ankylosing spondylitis of cervical region:::Other infective spondylopathies, cervical region:::Malignant neoplasm of head, face and neck:::Spinal enthesopathy, occipito-atlanto-axial region:::Spondylopathy in diseases classified elsewhere, cervical region:::Osteomyelitis of vertebra, cervical region:::Aneurysm of carotid artery:::Rheumatoid nodule, vertebrae:::Congenital malformation of spinal cord, unspecified, target_text -> severe neck pain}, []}]|\n",
            "+-----------------------------------------------------------------------------------------------------------------------------------------------------------------------------------------------------------------------------------------------------------------------------------------------------------------------------------------------------------------------------------------------------------------------------------------------------------------------------------------------------------------------------------------------------------------------------------------------------------------------------------------------------------------------------------------------------------------------------------------------------------------------------------------------------------------------------------------------------------------------------------------------------------------------------------------------------------------------------------------------------------------------------------------------------------------------------------------------------------------------------------------------------------------------------------------------------------------------------------------------------------------------------------------------------------------------------------------------------------------------------------------------------------------------------------------------------------------------------------------------------------------------------------------------------------------------------------------------------------------------------------------------------------------------------------------------------------------------------------------------------------------------------------------------------------------------------------------------------------------------------------------------------------------------------------------------------------------------------------------------------------------------------------------------------------------------------------------------------------------------------------------------------------------------------------------------------------------------------------------------------------------------------------------------------------------------------------------------------------------------------------------------------------------------------------------------------------------------------------------------------------------------------------------------------------------------------------------------------------------------------------------------------------------------------------------------------------------------------------------------------------------------------------------------------------------------------------------------------------------------------------------------------------------------------------------------------------------------------------------------------------------------------------------------------------------------------------------------------------------------------------------------------------------------------------------+\n",
            "\n"
          ]
        }
      ]
    }
  ],
  "metadata": {
    "colab": {
      "machine_shape": "hm",
      "provenance": []
    },
    "kernelspec": {
      "display_name": "Python 3",
      "name": "python3"
    },
    "language_info": {
      "name": "python"
    }
  },
  "nbformat": 4,
  "nbformat_minor": 0
}
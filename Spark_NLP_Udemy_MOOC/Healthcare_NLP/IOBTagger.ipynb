{
  "cells": [
    {
      "cell_type": "markdown",
      "metadata": {
        "id": "sXatvRX899i0"
      },
      "source": [
        "![JohnSnowLabs](https://nlp.johnsnowlabs.com/assets/images/logo.png)"
      ]
    },
    {
      "cell_type": "markdown",
      "metadata": {
        "id": "1VntZkIvG04Z"
      },
      "source": [
        "[![Open In Colab](https://colab.research.google.com/assets/colab-badge.svg)](https://colab.research.google.com/github/JohnSnowLabs/spark-nlp-workshop/blob/master/Spark_NLP_Udemy_MOOC/Healthcare_NLP/IOBTagger.ipynb)"
      ]
    },
    {
      "cell_type": "markdown",
      "metadata": {
        "id": "AOn8d1tcBkK3"
      },
      "source": [
        "# **IOBTagger**\n",
        "Merges token tags and NER labels from chunks in the specified format. For example output columns as inputs from NerConverter and Tokenizer can be used to merge."
      ]
    },
    {
      "cell_type": "markdown",
      "metadata": {
        "id": "WimihSwD3vtH"
      },
      "source": [
        "This notebook will cover the different parameters and usages of `IOBTagger`.\n",
        "\n",
        "**📖 Learning Objectives:**\n",
        "\n",
        " Become comfortable using the different parameters of the `IOBTagger`.\n",
        "\n",
        "\n",
        "**🔗 Helpful Links:**\n",
        "\n",
        "- Documentation : [IOBTagger](https://nlp.johnsnowlabs.com/docs/en/licensed_annotators#iobtagger)\n",
        "\n",
        "- Python Docs : [IOBTagger](https://nlp.johnsnowlabs.com/licensed/api/python/reference/autosummary/sparknlp_jsl/annotator/ner/iob_tagger/index.html#sparknlp_jsl.annotator.ner.iob_tagger.IOBTagger)\n",
        "\n",
        "- Scala Docs : [IOBTagger](https://nlp.johnsnowlabs.com/licensed/api/com/johnsnowlabs/nlp/annotators/ner/IOBTagger.html)\n",
        "\n",
        "- For extended examples of usage, see the [Spark Healthcare NLP Workshop repository](https://github.com/JohnSnowLabs/spark-nlp-workshop/tree/master/healthcare-nlp)"
      ]
    },
    {
      "cell_type": "markdown",
      "metadata": {
        "id": "qL9lcISyFSLv"
      },
      "source": [
        "## **📜 Background**\n"
      ]
    },
    {
      "cell_type": "markdown",
      "metadata": {
        "id": "TjDKOoZ4Fc8G"
      },
      "source": [
        "`IOBTagger` will allow you to merge token tags and NER labels from chunks in the specified format."
      ]
    },
    {
      "cell_type": "markdown",
      "metadata": {
        "id": "MfkkKkbVF309"
      },
      "source": [
        "## **🎬 Colab Setup**"
      ]
    },
    {
      "cell_type": "code",
      "execution_count": null,
      "metadata": {
        "id": "HuLFt0OdBkuo"
      },
      "outputs": [],
      "source": [
        "# Install the johnsnowlabs library to access Spark-OCR and Spark-NLP for Healthcare, Finance, and Legal.\n",
        "! pip install -q johnsnowlabs"
      ]
    },
    {
      "cell_type": "code",
      "execution_count": null,
      "metadata": {
        "id": "HJGAUiIqBI94"
      },
      "outputs": [],
      "source": [
        "from google.colab import files\n",
        "print('Please Upload your John Snow Labs License using the button below')\n",
        "license_keys = files.upload()"
      ]
    },
    {
      "cell_type": "code",
      "execution_count": null,
      "metadata": {
        "id": "SBhRUP21BI7R"
      },
      "outputs": [],
      "source": [
        "from johnsnowlabs import nlp, medical\n",
        "\n",
        "# After uploading your license run this to install all licensed Python Wheels and pre-download Jars the Spark Session JVM\n",
        "nlp.install()"
      ]
    },
    {
      "cell_type": "code",
      "execution_count": null,
      "metadata": {
        "colab": {
          "base_uri": "https://localhost:8080/"
        },
        "id": "a_1HS4iCB5ie",
        "outputId": "1873f2e7-221c-4330-85fa-bfec3a690568"
      },
      "outputs": [
        {
          "output_type": "stream",
          "name": "stdout",
          "text": [
            "👌 Detected license file /content/spark_nlp_for_healthcare_spark_ocr_10494.json\n",
            "👌 Launched \u001b[92mcpu optimized\u001b[39m session with with: 🚀Spark-NLP==6.1.3, 💊Spark-Healthcare==6.1.1, running on ⚡ PySpark==3.4.0\n"
          ]
        }
      ],
      "source": [
        "from johnsnowlabs import nlp, medical\n",
        "import pandas as pd\n",
        "\n",
        "# Automatically load license data and start a session with all jars user has access to\n",
        "spark = nlp.start()"
      ]
    },
    {
      "cell_type": "markdown",
      "metadata": {
        "id": "9Fbbk1bqcuA5"
      },
      "source": [
        "## **🖨️ Input/Output Annotation Types**"
      ]
    },
    {
      "cell_type": "markdown",
      "metadata": {
        "id": "0yFIrr5acsiU"
      },
      "source": [
        "- Input: `TOKEN` , `CHUNK`\n",
        "\n",
        "- Output: `NAMED_ENTITY`"
      ]
    },
    {
      "cell_type": "code",
      "execution_count": null,
      "metadata": {
        "colab": {
          "base_uri": "https://localhost:8080/"
        },
        "id": "C5IbTr6pO6LM",
        "outputId": "ea443430-9bcc-476c-c8c7-2ccdc23ac6ff"
      },
      "outputs": [
        {
          "output_type": "stream",
          "name": "stdout",
          "text": [
            "embeddings_clinical download started this may take some time.\n",
            "Approximate size to download 1.6 GB\n",
            "[OK!]\n",
            "ner_jsl download started this may take some time.\n",
            "Approximate size to download 14.5 MB\n",
            "[OK!]\n",
            "ner_posology_greedy download started this may take some time.\n",
            "Approximate size to download 13.9 MB\n",
            "[OK!]\n"
          ]
        }
      ],
      "source": [
        "documentAssembler = nlp.DocumentAssembler() \\\n",
        "    .setInputCol(\"text\") \\\n",
        "    .setOutputCol( \"document\")\n",
        "\n",
        "sentenceDetector = nlp.SentenceDetector() \\\n",
        "    .setInputCols([\"document\"]) \\\n",
        "    .setOutputCol(\"sentence\")\\\n",
        "    .setCustomBounds(['\\n'])\n",
        "\n",
        "tokenizer = nlp.Tokenizer()\\\n",
        "    .setInputCols([\"sentence\"])\\\n",
        "    .setOutputCol(\"token\")\\\n",
        "\n",
        "word_embeddings = nlp.WordEmbeddingsModel.pretrained(\"embeddings_clinical\", \"en\", \"clinical/models\") \\\n",
        "    .setInputCols([\"sentence\", \"token\"]) \\\n",
        "    .setOutputCol(\"embeddings\")\n",
        "\n",
        "# Posology NER model is used\n",
        "posology_ner = medical.NerModel.pretrained(\"ner_jsl\", \"en\", \"clinical/models\") \\\n",
        "    .setInputCols([\"sentence\", \"token\", \"embeddings\"]) \\\n",
        "    .setOutputCol(\"ner_posology\")\n",
        "\n",
        "ner_posology_converter = medical.NerConverterInternal()\\\n",
        "    .setInputCols([\"sentence\",\"token\",\"ner_posology\"])\\\n",
        "    .setOutputCol(\"ner_jsl\")\n",
        "\n",
        "posology_greedy_ner = medical.NerModel.pretrained(\"ner_posology_greedy\", \"en\", \"clinical/models\") \\\n",
        "    .setInputCols([\"sentence\", \"token\", \"embeddings\"]) \\\n",
        "    .setOutputCol(\"ner_posology_greedy\")\n",
        "\n",
        "ner_posology_greedy_converter = medical.NerConverterInternal()\\\n",
        "    .setInputCols([\"sentence\",\"token\",\"ner_posology_greedy\"])\\\n",
        "    .setOutputCol(\"ner_posology_greedy\")\n",
        "\n",
        "chunk_merger = medical.ChunkMergeApproach()\\\n",
        "    .setInputCols(\"ner_jsl\", \"ner_posology_greedy\")\\\n",
        "    .setOutputCol('merged_ner_chunk')\\\n",
        "\n",
        "iobTagger = medical.IOBTagger() \\\n",
        "    .setInputCols([\"token\", \"merged_ner_chunk\"]) \\\n",
        "    .setOutputCol(\"ner_label\")\n",
        "\n",
        "nlpPipeline = nlp.Pipeline(stages=[\n",
        "    documentAssembler,\n",
        "    sentenceDetector,\n",
        "    tokenizer,\n",
        "    word_embeddings,\n",
        "    posology_ner,\n",
        "    ner_posology_converter,\n",
        "    posology_greedy_ner,\n",
        "    ner_posology_greedy_converter,\n",
        "    chunk_merger,\n",
        "    iobTagger ])\n",
        "\n",
        "empty_data = spark.createDataFrame([[\"\"]]).toDF(\"text\")\n",
        "\n",
        "chunk_filter_model = nlpPipeline.fit(empty_data)"
      ]
    },
    {
      "cell_type": "code",
      "execution_count": null,
      "metadata": {
        "id": "3f8DdUG57IAs"
      },
      "outputs": [],
      "source": [
        "text = 'The patient was prescribed 1 capsule of Advil for 5 days . He was seen by the endocrinology service and she was discharged on 40 units of insulin glargine at night , 12 units of insulin lispro with meals , metformin 1000 mg two times a day . It was determined that all SGLT2 inhibitors should be discontinued indefinitely fro 3 months .'\n",
        "\n",
        "filter_df = spark.createDataFrame([[text]]).toDF(\"text\")\n",
        "\n",
        "result = chunk_filter_model.transform(filter_df)"
      ]
    },
    {
      "cell_type": "code",
      "execution_count": null,
      "metadata": {
        "id": "PPqfpunG1N7D"
      },
      "outputs": [],
      "source": [
        "import pyspark.sql.functions as F"
      ]
    },
    {
      "cell_type": "code",
      "execution_count": null,
      "metadata": {
        "colab": {
          "base_uri": "https://localhost:8080/"
        },
        "id": "DqVQczwp0l4L",
        "outputId": "e3c437c4-35ec-4a06-cc42-d75afd02c2a4"
      },
      "outputs": [
        {
          "output_type": "stream",
          "name": "stdout",
          "text": [
            "+-------------+---------------------+-------------------+\n",
            "|        token|            ner_label|         ner_source|\n",
            "+-------------+---------------------+-------------------+\n",
            "|          The|                    O|                   |\n",
            "|      patient|                    O|                   |\n",
            "|          was|                    O|                   |\n",
            "|   prescribed|                    O|                   |\n",
            "|            1|               B-DRUG|ner_posology_greedy|\n",
            "|      capsule|               I-DRUG|ner_posology_greedy|\n",
            "|           of|               I-DRUG|ner_posology_greedy|\n",
            "|        Advil|               I-DRUG|ner_posology_greedy|\n",
            "|          for|           B-Duration|            ner_jsl|\n",
            "|            5|           I-Duration|            ner_jsl|\n",
            "|         days|           I-Duration|            ner_jsl|\n",
            "|            .|                    O|                   |\n",
            "|           He|             B-Gender|            ner_jsl|\n",
            "|          was|                    O|                   |\n",
            "|         seen|                    O|                   |\n",
            "|           by|                    O|                   |\n",
            "|          the|                    O|                   |\n",
            "|endocrinology|      B-Clinical_Dept|            ner_jsl|\n",
            "|      service|      I-Clinical_Dept|            ner_jsl|\n",
            "|          and|                    O|                   |\n",
            "|          she|             B-Gender|            ner_jsl|\n",
            "|          was|                    O|                   |\n",
            "|   discharged|B-Admission_Discharge|            ner_jsl|\n",
            "|           on|                    O|                   |\n",
            "|           40|               B-DRUG|ner_posology_greedy|\n",
            "|        units|               I-DRUG|ner_posology_greedy|\n",
            "|           of|               I-DRUG|ner_posology_greedy|\n",
            "|      insulin|               I-DRUG|ner_posology_greedy|\n",
            "|     glargine|               I-DRUG|ner_posology_greedy|\n",
            "|           at|          B-Frequency|            ner_jsl|\n",
            "|        night|          I-Frequency|            ner_jsl|\n",
            "|            ,|                    O|                   |\n",
            "|           12|               B-DRUG|ner_posology_greedy|\n",
            "|        units|               I-DRUG|ner_posology_greedy|\n",
            "|           of|               I-DRUG|ner_posology_greedy|\n",
            "|      insulin|               I-DRUG|ner_posology_greedy|\n",
            "|       lispro|               I-DRUG|ner_posology_greedy|\n",
            "|         with|          B-Frequency|            ner_jsl|\n",
            "|        meals|          I-Frequency|            ner_jsl|\n",
            "|            ,|                    O|                   |\n",
            "|    metformin|               B-DRUG|ner_posology_greedy|\n",
            "|         1000|               I-DRUG|ner_posology_greedy|\n",
            "|           mg|               I-DRUG|ner_posology_greedy|\n",
            "|          two|          B-Frequency|            ner_jsl|\n",
            "|        times|          I-Frequency|            ner_jsl|\n",
            "|            a|          I-Frequency|            ner_jsl|\n",
            "|          day|          I-Frequency|            ner_jsl|\n",
            "|            .|                    O|                   |\n",
            "|           It|                    O|                   |\n",
            "|          was|                    O|                   |\n",
            "+-------------+---------------------+-------------------+\n",
            "only showing top 50 rows\n",
            "\n"
          ]
        }
      ],
      "source": [
        "result_df = result.select(F.explode(F.arrays_zip(result.token.result,result.ner_label.result, result.ner_label.metadata)).alias(\"cols\"))\\\n",
        "    .select(F.expr(\"cols['0']\").alias(\"token\"),\n",
        "            F.expr(\"cols['1']\").alias(\"ner_label\"),\n",
        "            F.expr(\"cols['2']['ner_source']\").alias(\"ner_source\"))\n",
        "\n",
        "\n",
        "result_df.show(50, truncate=100)"
      ]
    },
    {
      "cell_type": "code",
      "execution_count": null,
      "metadata": {
        "colab": {
          "base_uri": "https://localhost:8080/"
        },
        "id": "sgZshLVVmcPK",
        "outputId": "af6984d5-70fd-4800-8541-aaba3e98c2cc"
      },
      "outputs": [
        {
          "output_type": "stream",
          "name": "stdout",
          "text": [
            "+----------------------------------------------------------------------------------------------------------------------------------------------------------------------------------------------------------------------------------------------------------------------------------------------------------------------------------------------------------------------------------------------------------------------------------------------------------------------------------------------------------------------+\n",
            "|result                                                                                                                                                                                                                                                                                                                                                                                                                                                                                                                |\n",
            "+----------------------------------------------------------------------------------------------------------------------------------------------------------------------------------------------------------------------------------------------------------------------------------------------------------------------------------------------------------------------------------------------------------------------------------------------------------------------------------------------------------------------+\n",
            "|[O, O, O, O, B-DRUG, I-DRUG, I-DRUG, I-DRUG, B-Duration, I-Duration, I-Duration, O, B-Gender, O, O, O, O, B-Clinical_Dept, I-Clinical_Dept, O, B-Gender, O, B-Admission_Discharge, O, B-DRUG, I-DRUG, I-DRUG, I-DRUG, I-DRUG, B-Frequency, I-Frequency, O, B-DRUG, I-DRUG, I-DRUG, I-DRUG, I-DRUG, B-Frequency, I-Frequency, O, B-DRUG, I-DRUG, I-DRUG, B-Frequency, I-Frequency, I-Frequency, I-Frequency, O, O, O, O, O, O, B-Drug_Ingredient, I-Drug_Ingredient, O, O, O, O, B-Duration, I-Duration, I-Duration, O]|\n",
            "+----------------------------------------------------------------------------------------------------------------------------------------------------------------------------------------------------------------------------------------------------------------------------------------------------------------------------------------------------------------------------------------------------------------------------------------------------------------------------------------------------------------------+\n",
            "\n"
          ]
        }
      ],
      "source": [
        "result.select(\"ner_label.result\").show(truncate=False)"
      ]
    },
    {
      "cell_type": "code",
      "execution_count": null,
      "metadata": {
        "colab": {
          "base_uri": "https://localhost:8080/"
        },
        "id": "RyocAFX3lQN4",
        "outputId": "9f70edc3-f7a7-4994-ff69-1edbcafa9cf0"
      },
      "outputs": [
        {
          "output_type": "stream",
          "name": "stdout",
          "text": [
            "+-----+---+---------------------+-------------+\n",
            "|begin|end|chunk                |word         |\n",
            "+-----+---+---------------------+-------------+\n",
            "|27   |27 |B-DRUG               |1            |\n",
            "|29   |35 |I-DRUG               |capsule      |\n",
            "|37   |38 |I-DRUG               |of           |\n",
            "|40   |44 |I-DRUG               |Advil        |\n",
            "|46   |48 |B-Duration           |for          |\n",
            "|50   |50 |I-Duration           |5            |\n",
            "|52   |55 |I-Duration           |days         |\n",
            "|59   |60 |B-Gender             |He           |\n",
            "|78   |90 |B-Clinical_Dept      |endocrinology|\n",
            "|92   |98 |I-Clinical_Dept      |service      |\n",
            "|104  |106|B-Gender             |she          |\n",
            "|112  |121|B-Admission_Discharge|discharged   |\n",
            "|126  |127|B-DRUG               |40           |\n",
            "|129  |133|I-DRUG               |units        |\n",
            "|135  |136|I-DRUG               |of           |\n",
            "|138  |144|I-DRUG               |insulin      |\n",
            "|146  |153|I-DRUG               |glargine     |\n",
            "|155  |156|B-Frequency          |at           |\n",
            "|158  |162|I-Frequency          |night        |\n",
            "|166  |167|B-DRUG               |12           |\n",
            "+-----+---+---------------------+-------------+\n",
            "only showing top 20 rows\n",
            "\n"
          ]
        }
      ],
      "source": [
        "result.selectExpr(\"explode(ner_label) as a\").selectExpr(\"a.begin\",\"a.end\",\"a.result as chunk\",\"a.metadata.word as word\").where(\"chunk!='O'\").show(truncate=False)"
      ]
    }
  ],
  "metadata": {
    "colab": {
      "machine_shape": "hm",
      "provenance": []
    },
    "gpuClass": "standard",
    "kernelspec": {
      "display_name": "Python 3",
      "language": "python",
      "name": "python3"
    },
    "language_info": {
      "codemirror_mode": {
        "name": "ipython",
        "version": 3
      },
      "file_extension": ".py",
      "mimetype": "text/x-python",
      "name": "python",
      "nbconvert_exporter": "python",
      "pygments_lexer": "ipython3",
      "version": "3.7.4"
    }
  },
  "nbformat": 4,
  "nbformat_minor": 0
}
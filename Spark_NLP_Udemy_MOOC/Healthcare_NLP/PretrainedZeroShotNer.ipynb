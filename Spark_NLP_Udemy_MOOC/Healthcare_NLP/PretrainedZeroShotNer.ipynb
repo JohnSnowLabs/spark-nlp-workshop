{
  "nbformat": 4,
  "nbformat_minor": 0,
  "metadata": {
    "colab": {
      "provenance": []
    },
    "kernelspec": {
      "name": "python3",
      "display_name": "Python 3"
    },
    "language_info": {
      "name": "python"
    }
  },
  "cells": [
    {
      "cell_type": "markdown",
      "metadata": {
        "id": "I08sFJYCxR0Z"
      },
      "source": [
        "![JohnSnowLabs](https://nlp.johnsnowlabs.com/assets/images/logo.png)"
      ]
    },
    {
      "cell_type": "markdown",
      "metadata": {
        "id": "Yz7wkpBa2_Sk"
      },
      "source": [
        "[![Open In Colab](https://colab.research.google.com/assets/colab-badge.svg)](https://colab.research.google.com/github/JohnSnowLabs/spark-nlp-workshop/blob/master/Spark_NLP_Udemy_MOOC/Healthcare_NLP/PretrainedZeroShotNer.ipynb)"
      ]
    },
    {
      "cell_type": "markdown",
      "metadata": {
        "id": "oKiZRzIOXULk"
      },
      "source": [
        " # **Zero-Shot Named Entity Recognition (NER) in Spark NLP**\n"
      ]
    },
    {
      "cell_type": "markdown",
      "source": [
        "# **PretrainedZeroShotNER**\n"
      ],
      "metadata": {
        "id": "PXPh3-zMZnAj"
      }
    },
    {
      "cell_type": "markdown",
      "source": [
        "This notebook will cover the different parameters and usages of `PretrainedZeroShotNER` annotator.\n",
        "\n",
        "**📖 Learning Objectives:**\n",
        "\n",
        "1. Understand how to use `PretrainedZeroShotNER`.\n",
        "\n",
        "2. Become comfortable using the different parameters of the annotator.\n",
        "\n",
        "3. Identify clinical entities on text without training data.\n",
        "\n",
        "**🔗 Helpful Links:**\n",
        "\n",
        "- Documentation : [PretrainedZeroShotNER](https://nlp.johnsnowlabs.com/docs/en/licensed_annotators#pretrainedzeroshotner)\n",
        "\n",
        "- Python Docs : [PretrainedZeroShotNER](https://nlp.johnsnowlabs.com/licensed/api/python/reference/autosummary/sparknlp_jsl/annotator/ner/pretrained_zero_shot_ner/index.html#sparknlp_jsl.annotator.ner.pretrained_zero_shot_ner.PretrainedZeroShotNER)\n",
        "\n",
        "- Scala Docs : [PretrainedZeroShotNER](https://nlp.johnsnowlabs.com/licensed/api/com/johnsnowlabs/nlp/annotators/ner/PretrainedZeroShotNER.html)\n",
        "\n",
        "- For extended examples of usage see the [Spark NLP Workshop repository](https://github.com/JohnSnowLabs/spark-nlp-workshop/tree/master/healthcare-nlp/)."
      ],
      "metadata": {
        "id": "F0y2buAhaeLj"
      }
    },
    {
      "cell_type": "markdown",
      "metadata": {
        "id": "B9Wo54MT8jKU"
      },
      "source": [
        "## **📜 Background**\n"
      ]
    },
    {
      "cell_type": "markdown",
      "metadata": {
        "id": "yaDBNKJsAovm"
      },
      "source": [
        "`PretrainedZeroShotNer` makes it easy to identify specific entities in text without needing pre-labeled datasets. It uses advanced pre-trained language models to recognize entities in different fields and languages, saving time and effort. This method is flexible, letting you define your own entity labels instead of relying on a fixed set of examples. For the best results, it’s helpful to choose labels similar to the provided examples, as they guide the model’s understanding."
      ]
    },
    {
      "cell_type": "markdown",
      "metadata": {
        "id": "fdTHvykf8wni"
      },
      "source": [
        "## **🖨️ Input/Output Annotation Types**"
      ]
    },
    {
      "cell_type": "markdown",
      "metadata": {
        "id": "ejYVNcX98y5j"
      },
      "source": [
        "- Input: `DOCUMENT`, `TOKEN`\n",
        "\n",
        "- Output: `NAMED_ENTITY`"
      ]
    },
    {
      "cell_type": "markdown",
      "metadata": {
        "id": "YVa72oJd9Bk_"
      },
      "source": [
        "## **🔎 Parameters**\n"
      ]
    },
    {
      "cell_type": "markdown",
      "source": [
        "`labels`: A list of labels descriving the entities. For example: [“person”, “location”]\n",
        "\n",
        "`predictionThreshold`: Minimal confidence score to encode an entity (Default: `0.01`)\n",
        "\n",
        "`setBatchSize`: Sets the number of inputs processed together in a single batch during inference. A higher batch size can improve throughput and reduce overall inference time on supported hardware, but may increase memory usage.\n",
        "\n",
        "All the parameters can be set using the corresponding set method in camel case. For example, `setLabels()`."
      ],
      "metadata": {
        "id": "kda4f3Tka15s"
      }
    },
    {
      "cell_type": "markdown",
      "metadata": {
        "id": "okhT7AcXxben"
      },
      "source": [
        "## 🎯 **Colab Setup**"
      ]
    },
    {
      "cell_type": "code",
      "execution_count": null,
      "metadata": {
        "id": "ELqzaf32MT6E",
        "collapsed": true
      },
      "outputs": [],
      "source": [
        "# Install the johnsnowlabs library to access Spark-OCR and Spark-NLP for Healthcare, Finance, and Legal.\n",
        "! pip install -q johnsnowlabs"
      ]
    },
    {
      "cell_type": "code",
      "execution_count": null,
      "metadata": {
        "id": "RO2dIA414yL_"
      },
      "outputs": [],
      "source": [
        "from google.colab import files\n",
        "\n",
        "print('Please Upload your John Snow Labs License using the button below')\n",
        "license_keys = files.upload()"
      ]
    },
    {
      "cell_type": "code",
      "execution_count": null,
      "metadata": {
        "id": "dmcB5zVBHZO8"
      },
      "outputs": [],
      "source": [
        "from johnsnowlabs import nlp, medical\n",
        "# After uploading your license run this to install all licensed Python Wheels and pre-download Jars the Spark Session JVM\n",
        "nlp.settings.enforce_versions=False\n",
        "nlp.install(refresh_install=True)"
      ]
    },
    {
      "cell_type": "code",
      "execution_count": null,
      "metadata": {
        "id": "lQ8-BI-_5QjG"
      },
      "outputs": [],
      "source": [
        "from johnsnowlabs import nlp, medical\n",
        "\n",
        "# Automatically load license data and start a session with all jars user has access to\n",
        "spark = nlp.start()"
      ]
    },
    {
      "cell_type": "code",
      "execution_count": null,
      "metadata": {
        "colab": {
          "base_uri": "https://localhost:8080/",
          "height": 222
        },
        "id": "PJaGML6Jbrb7",
        "outputId": "dffc98ca-e65c-4abc-f564-b2a502f4da07"
      },
      "outputs": [
        {
          "output_type": "execute_result",
          "data": {
            "text/plain": [
              "<pyspark.sql.session.SparkSession at 0x78d4ddc90800>"
            ],
            "text/html": [
              "\n",
              "            <div>\n",
              "                <p><b>SparkSession - in-memory</b></p>\n",
              "                \n",
              "        <div>\n",
              "            <p><b>SparkContext</b></p>\n",
              "\n",
              "            <p><a href=\"http://7c00992eb5ff:4040\">Spark UI</a></p>\n",
              "\n",
              "            <dl>\n",
              "              <dt>Version</dt>\n",
              "                <dd><code>v3.4.0</code></dd>\n",
              "              <dt>Master</dt>\n",
              "                <dd><code>local[*]</code></dd>\n",
              "              <dt>AppName</dt>\n",
              "                <dd><code>John-Snow-Labs-Spark-Session 🚀 with Jars for: 🚀Spark-NLP==6.1.3, 💊Spark-Healthcare==6.1.1, running on ⚡ PySpark==3.4.0</code></dd>\n",
              "            </dl>\n",
              "        </div>\n",
              "        \n",
              "            </div>\n",
              "        "
            ]
          },
          "metadata": {},
          "execution_count": 5
        }
      ],
      "source": [
        "spark"
      ]
    },
    {
      "cell_type": "code",
      "execution_count": null,
      "metadata": {
        "id": "8fLrNBITcmBq"
      },
      "outputs": [],
      "source": [
        "from pyspark.sql import DataFrame\n",
        "import pyspark.sql.functions as F\n",
        "import pyspark.sql.types as T\n",
        "import pyspark.sql as SQL\n",
        "from pyspark import keyword_only"
      ]
    },
    {
      "cell_type": "markdown",
      "source": [
        "## 🔎 **Pretrained Zero-Shot Named Entity Recognition Models**"
      ],
      "metadata": {
        "id": "UwtUXcmqaLhk"
      }
    },
    {
      "cell_type": "markdown",
      "metadata": {
        "id": "nkIk3RtKXj5J"
      },
      "source": [
        "| Index | Model | Predicted Entities |\n",
        "|------:|:------|:-------------------|\n",
        "| 1 | [zeroshot_ner_generic_large](https://nlp.johnsnowlabs.com/2024/11/28/zeroshot_ner_generic_large_en.html) | `AGE`,`DATE`,`DISEASE`,`DISORDER`,`DRUG`,`LOCATION`,`NAME`,`PHONE`,`RESULT`,`SYMPTOM`,`SYNDROME`,`TEST`,`TREATMENT` |\n",
        "| 2 | [zeroshot_ner_generic_medium](https://nlp.johnsnowlabs.com/2024/11/28/zeroshot_ner_generic_medium_en.html) | `AGE`,`DATE`,`DISEASE`,`DISORDER`,`DRUG`,`LOCATION`,`NAME`,`PHONE`,`RESULT`,`SYMPTOM`,`SYNDROME`,`TEST`,`TREATMENT` |\n",
        "| 3 | [zeroshot_ner_clinical_large](https://nlp.johnsnowlabs.com/2024/11/27/zeroshot_ner_clinical_large_en.html) | `PROBLEM`, `TREATMENT`, `TEST` |\n",
        "| 4 | [zeroshot_ner_clinical_medium](https://nlp.johnsnowlabs.com/2024/11/27/zeroshot_ner_clinical_medium_en.html) | `PROBLEM`, `TREATMENT`, `TEST` |\n",
        "| 5 | [zeroshot_ner_oncology_large](https://nlp.johnsnowlabs.com/2024/11/28/zeroshot_ner_oncology_large_en.html) | `Adenopathy`, `Age`, `Biomarker`, `Biomarker_Result` ,`Body_Part`, `Cancer_Dx`, `Cancer_Surgery`, `Cycle_Count`, `Cycle_Day`, `Date`, `Death_Entit`, `Directio`, `Dosage`, `Duration`, `Frequency`, `Gender`, `Grade`, `Histological_Type`, `Imaging_Test`, `Invasion`, `Metastasis`, `Oncogene`, `Pathology_Test`, `Race_Ethnicity`, `Radiation_Dose`, `Relative_Date`, `Response_To_Treatment`, `Route`, `Smoking_Status`, `Staging`, `Therapy`, `Tumor_Finding`, `Tumor_Size` |\n",
        "| 6 | [zeroshot_ner_oncology_medium](https://nlp.johnsnowlabs.com/2024/11/27/zeroshot_ner_oncology_medium_en.html) | `Adenopathy`, `Age`, `Biomarker`, `Biomarker_Result`, `Body_Part`, `Cancer_Dx`, `Cancer_Surgery`, `Cycle_Count`, `Cycle_Day`, `Date`, `Death_Entit`, `Directio`, `Dosage`, `Duration`, `Frequency`, `Gender`, `Grade`, `Histological_Type`, `Imaging_Test`, `Invasion`, `Metastasis`, `Oncogene`, `Pathology_Test`, `Race_Ethnicity`, `Radiation_Dose`, `Relative_Date`, `Response_To_Treatment`, `Route`, `Smoking_Status`, `Staging`, `Therapy`, `Tumor_Finding`, `Tumor_Size` |\n",
        "| 7 | [zeroshot_ner_deid_subentity_docwise_large](https://nlp.johnsnowlabs.com/2024/11/29/zeroshot_ner_deid_subentity_docwise_large_en.html) | `DATE`, `PATIENT`, `COUNTRY`, `PROFESSION`, `AGE`, `CITY`, `STATE`, `DOCTOR`, `HOSPITAL`, `IDNUM`, `ORGANIZATION`, `PHONE`, `STREET`, `ZIP` |\n",
        "| 8 | [zeroshot_ner_deid_subentity_docwise_medium](https://nlp.johnsnowlabs.com/2024/11/28/zeroshot_ner_deid_subentity_docwise_medium_en.html) | `DATE`, `PATIENT`, `COUNTRY`, `PROFESSION`, `AGE`, `CITY`, `STATE`, `DOCTOR`, `HOSPITAL`, `IDNUM`, `ORGANIZATION`, `PHONE`, `STREET`, `ZIP` |\n",
        "| 9 | [zeroshot_ner_deid_subentity_merged_medium](https://nlp.johnsnowlabs.com/2024/11/27/zeroshot_ner_deid_subentity_merged_medium_en.html) | `DOCTOR`, `PATIENT`, `AGE`, `DATE`, `HOSPITAL`, `CITY`, `STREET`, `STATE`, `COUNTRY`, `PHONE`, `IDNUM`, `EMAIL`, `ZIP`, `ORGANIZATION`, `PROFESSION`, `USERNAME` |\n",
        "| 10 | [zeroshot_ner_deid_generic_docwise_large](https://nlp.johnsnowlabs.com/2024/11/28/zeroshot_ner_deid_generic_docwise_large_en.html) | `DATE`, `NAME`, `LOCATION`, `PROFESSION`, `AGE`, `ID`, `CONTACT` |\n",
        "| 11 | [zeroshot_ner_deid_generic_docwise_medium](https://nlp.johnsnowlabs.com/2024/11/28/zeroshot_ner_deid_generic_docwise_medium_en.html) | `DATE`, `NAME`, `LOCATION`, `PROFESSION`, `AGE`, `ID`, `CONTACT` |\n",
        "| 12 | [zeroshot_ner_oncology_biomarker_large](https://nlp.johnsnowlabs.com/2024/12/13/zeroshot_ner_oncology_biomarker_large_en.html) | `Biomarker`, `Biomarker_Result` |\n",
        "| 13 | [zeroshot_ner_oncology_biomarker_medium](https://nlp.johnsnowlabs.com/2024/12/13/zeroshot_ner_oncology_biomarker_medium_en.html) | `Biomarker`, `Biomarker_Result` |\n",
        "| 14 | [zeroshot_ner_deid_generic_multi_large](https://nlp.johnsnowlabs.com/2024/12/21/zeroshot_ner_deid_generic_multi_large_xx.html) | `AGE`, `CONTACT`, `DATE`, `ID`, `LOCATION`, `NAME`, `PROFESSION` |\n",
        "| 15 | [zeroshot_ner_deid_generic_multi_medium](https://nlp.johnsnowlabs.com/2024/12/21/zeroshot_ner_deid_generic_multi_medium_xx.html) | `AGE`, `CONTACT`, `DATE`, `ID`, `LOCATION`, `NAME`, `PROFESSION` |\n",
        "| 16 | [zeroshot_ner_deid_subentity_merged_large](https://nlp.johnsnowlabs.com/2024/12/17/zeroshot_ner_deid_subentity_merged_large_en.html) | `DOCTOR`, `PATIENT`, `AGE`, `DATE`, `HOSPITAL`, `CITY`, `STREET`, `STATE`, `COUNTRY`, `PHONE`, `IDNUM`, `EMAIL`, `ZIP`, `ORGANIZATION`, `PROFESSION`, `USERNAME` |\n",
        "| 17 | [zeroshot_ner_jsl_large](https://nlp.johnsnowlabs.com/2025/01/01/zeroshot_ner_jsl_large_en.html) | `Admission_Discharge`, `Age`, `Alcohol`, `Body_Part`, `Clinical_Dept`, `Direction`, `Disease_Syndrome_Disorder`, `Dosage_Strength`, `Drug`, `Duration`, `Employment`, `Form`, `Frequency`, `Gender`, `Injury_or_Poisoning`, `Medical_Device`, `Modifier`, `Oncological`, `Procedure`, `Race_Ethnicity`, `Relationship_Status`, `Route`, `Section_Header`, `Smoking`, `Symptom`, `Test`, `Test_Result`, `Treatment`, `Vaccine` |\n",
        "| 18 | [zeroshot_ner_jsl_medium](https://nlp.johnsnowlabs.com/2025/01/01/zeroshot_ner_jsl_medium_en.html) | `Admission_Discharge`, `Age`, `Alcohol`, `Body_Part`, `Clinical_Dept`, `Direction`, `Disease_Syndrome_Disorder`, `Dosage_Strength`, `Drug`, `Duration`, `Employment`, `Form`, `Frequency`, `Gender`, `Injury_or_Poisoning`, `Medical_Device`, `Modifier`, `Oncological`, `Procedure`, `Race_Ethnicity`, `Relationship_Status`, `Route`, `Section_Header`, `Smoking`, `Symptom`, `Test`, `Test_Result`, `Treatment`, `Vaccine` |\n",
        "| 19 | [zeroshot_ner_ade_clinical_large](https://nlp.johnsnowlabs.com/2024/12/02/zeroshot_ner_ade_clinical_large_en.html) | `DRUG`, `ADE`, `PROBLEM` |\n",
        "| 20 | [zeroshot_ner_sdoh_medium](https://nlp.johnsnowlabs.com/2025/01/06/zeroshot_ner_sdoh_medium_en.html) | `Access_To_Care`, `Age`, `Alcohol`, `Childhood_Development`, `Diet`, `Disability`, `Eating_Disorder`, `Education`, `Employment`, `Environmental_Condition`, `Exercise`, `Family_Member`, `Financial_Status`, `Gender`, `Geographic_Entity`, `Healthcare_Institution`, `Housing`, `Hypertension`, `Income`, `Insurance_Status`, `Language`, `Legal_Issues`, `Marital_Status`, `Mental_Health`, `Obesity`, `Other_Disease`, `Other_SDoH_Keywords`, `Quality_Of_Life`, `Race_Ethnicity`, `Sexual_Activity`, `Sexual_Orientation`, `Smoking`, `Social_Exclusion`, `Social_Support`, `Spiritual_Beliefs`, `Transportation`, `Violence_Or_Abuse` |\n",
        "| 21 | [zeroshot_ner_sdoh_large](https://nlp.johnsnowlabs.com/2024/12/02/zeroshot_ner_ade_clinical_large_en.html) | `DRUG`, `ADE`, `PROBLEM` |"
      ]
    },
    {
      "cell_type": "markdown",
      "source": [
        "## **Build the Pipeline**"
      ],
      "metadata": {
        "id": "2NMyQKqwbqAx"
      }
    },
    {
      "cell_type": "markdown",
      "source": [
        "In this example we use the `zeroshot_ner_oncology_large` model"
      ],
      "metadata": {
        "id": "Wrb7x7BYbz_5"
      }
    },
    {
      "cell_type": "code",
      "execution_count": null,
      "metadata": {
        "colab": {
          "base_uri": "https://localhost:8080/"
        },
        "id": "h-wt0SncnwBT",
        "outputId": "be567647-dda8-49fb-89d8-068ec4dfc3a3"
      },
      "outputs": [
        {
          "output_type": "stream",
          "name": "stdout",
          "text": [
            "zeroshot_ner_oncology_large download started this may take some time.\n",
            "Approximate size to download 1.5 GB\n",
            "[OK!]\n"
          ]
        }
      ],
      "source": [
        "document_assembler = nlp.DocumentAssembler()\\\n",
        "    .setInputCol(\"text\")\\\n",
        "    .setOutputCol(\"document\")\n",
        "\n",
        "sentence_detector = nlp.SentenceDetector()\\\n",
        "    .setInputCols([\"document\"])\\\n",
        "    .setOutputCol(\"sentence\")\n",
        "\n",
        "tokenizer = nlp.Tokenizer()\\\n",
        "    .setInputCols([\"sentence\"])\\\n",
        "    .setOutputCol(\"token\")\n",
        "# You can choose just the entities you need from the referece list\n",
        "labels = ['Biomarker', 'Biomarker_Result', 'Body_Part', 'Cancer_Dx', 'Cancer_Surgery', 'Imaging_Test']\n",
        "\n",
        "pretrained_zero_shot_ner = medical.PretrainedZeroShotNER().pretrained(\"zeroshot_ner_oncology_large\", \"en\", \"clinical/models\")\\\n",
        "    .setInputCols(\"sentence\", \"token\")\\\n",
        "    .setOutputCol(\"entities\")\\\n",
        "    .setPredictionThreshold(0.5)\\\n",
        "    .setLabels(labels)\n",
        "\n",
        "ner_converter = medical.NerConverterInternal()\\\n",
        "    .setInputCols(\"sentence\", \"token\", \"entities\")\\\n",
        "    .setOutputCol(\"ner_chunk\")\n",
        "\n",
        "\n",
        "pipeline = nlp.Pipeline().setStages([\n",
        "    document_assembler,\n",
        "    sentence_detector,\n",
        "    tokenizer,\n",
        "    pretrained_zero_shot_ner,\n",
        "    ner_converter\n",
        "])"
      ]
    },
    {
      "cell_type": "code",
      "source": [
        "# Sample text. A clinical note.\n",
        "text = \"\"\"\n",
        "Chief Complaint:\n",
        "Palpable lump in the left breast for 3 weeks.\n",
        "\n",
        "History of Present Illness:\n",
        "The patient reports noticing a firm, non-tender mass in the upper outer quadrant of the left breast. No associated nipple discharge or pain. Denies weight loss, fever, or night sweats. Family history is positive for breast cancer in her mother at age 60.\n",
        "\n",
        "Past Medical History:\n",
        "\n",
        "Hypertension, controlled with medication\n",
        "\n",
        "No prior malignancy\n",
        "\n",
        "Physical Exam:\n",
        "\n",
        "Left breast: 2.5 cm firm, irregular, non-mobile mass in upper outer quadrant.\n",
        "\n",
        "No skin dimpling or nipple retraction.\n",
        "\n",
        "Axilla: palpable, mobile lymph node (~1.0 cm).\n",
        "\n",
        "Right breast: normal.\n",
        "\n",
        "Imaging:\n",
        "\n",
        "Mammogram: irregular spiculated mass, BI-RADS 5.\n",
        "\n",
        "Ultrasound: hypoechoic lesion, 2.4 cm, irregular borders.\n",
        "\n",
        "Procedure:\n",
        "Core Needle Biopsy performed on 09/20/2025.\n",
        "\n",
        "Pathology Report:\n",
        "\n",
        "Invasive ductal carcinoma, grade II.\n",
        "\n",
        "Estrogen receptor (ER): positive (80%).\n",
        "\n",
        "Progesterone receptor (PR): positive (60%).\n",
        "\n",
        "HER2/neu: negative.\n",
        "\n",
        "Ki-67: 25%.\n",
        "\n",
        "Assessment:\n",
        "52-year-old female with left breast invasive ductal carcinoma, ER/PR positive, HER2 negative.\n",
        "\n",
        "Plan:\n",
        "\n",
        "Refer to surgical oncology for discussion of lumpectomy vs mastectomy.\n",
        "\n",
        "Oncology consult for adjuvant therapy planning (endocrine therapy ± chemotherapy).\n",
        "\n",
        "Baseline staging scans ordered.\n",
        "\n",
        "Genetic counseling referral due to family history.\n",
        "\"\"\""
      ],
      "metadata": {
        "id": "QZODnRpV-vsF"
      },
      "execution_count": null,
      "outputs": []
    },
    {
      "cell_type": "code",
      "source": [
        "# Create a Spark data frame withe the sample text\n",
        "data = spark.createDataFrame([[text]]).toDF(\"text\")\n",
        "# Fit and Transform\n",
        "result = pipeline.fit(data).transform(data)"
      ],
      "metadata": {
        "id": "FS3n_EKM-9f1"
      },
      "execution_count": null,
      "outputs": []
    },
    {
      "cell_type": "code",
      "source": [
        "# Print the results\n",
        "result.select(F.explode(F.arrays_zip(result.ner_chunk.result,\n",
        "                                     result.ner_chunk.begin,\n",
        "                                     result.ner_chunk.end,\n",
        "                                     result.ner_chunk.metadata)).alias(\"cols\")) \\\n",
        "               .select( F.expr(\"cols['0']\").alias(\"chunk\"),\n",
        "                       F.expr(\"cols['1']\").alias(\"begin\"),\n",
        "                       F.expr(\"cols['2']\").alias(\"end\"),\n",
        "                      F.expr(\"cols['3']['entity']\").alias(\"ner_label\"),\n",
        "                      F.expr(\"cols['3']['confidence']\").alias(\"confidence\"))\\\n",
        "                       .filter(\"ner_label!='O'\")\\\n",
        "                       .show(50,truncate=False)"
      ],
      "metadata": {
        "colab": {
          "base_uri": "https://localhost:8080/"
        },
        "id": "e-bDFXDV-4X1",
        "outputId": "0519ee63-a68b-4aab-fd4a-1f2d0bb83776"
      },
      "execution_count": null,
      "outputs": [
        {
          "output_type": "stream",
          "name": "stdout",
          "text": [
            "+-------------------------+-----+----+----------------+----------+\n",
            "|chunk                    |begin|end |ner_label       |confidence|\n",
            "+-------------------------+-----+----+----------------+----------+\n",
            "|breast                   |44   |49  |Body_Part       |0.9392416 |\n",
            "|breast                   |186  |191 |Body_Part       |0.87266624|\n",
            "|nipple                   |208  |213 |Body_Part       |0.9686622 |\n",
            "|positive                 |296  |303 |Biomarker_Result|0.96460474|\n",
            "|breast cancer            |309  |321 |Cancer_Dx       |0.9976246 |\n",
            "|malignancy               |423  |432 |Cancer_Dx       |0.9891188 |\n",
            "|breast                   |456  |461 |Body_Part       |0.7661266 |\n",
            "|skin                     |533  |536 |Body_Part       |0.92960954|\n",
            "|nipple                   |550  |555 |Body_Part       |0.9233175 |\n",
            "|Axilla                   |570  |575 |Body_Part       |0.9729599 |\n",
            "|lymph node               |595  |604 |Body_Part       |0.9553588 |\n",
            "|breast                   |624  |629 |Body_Part       |0.8557541 |\n",
            "|normal                   |632  |637 |Biomarker_Result|0.9822422 |\n",
            "|Imaging                  |641  |647 |Imaging_Test    |0.5224758 |\n",
            "|Mammogram                |651  |659 |Imaging_Test    |0.97728205|\n",
            "|BI-RADS                  |689  |695 |Imaging_Test    |0.9376825 |\n",
            "|Ultrasound               |701  |710 |Imaging_Test    |0.998911  |\n",
            "|Core Needle Biopsy       |771  |788 |Imaging_Test    |0.85673   |\n",
            "|ductal carcinoma         |844  |859 |Cancer_Dx       |0.83299834|\n",
            "|Estrogen receptor        |873  |889 |Biomarker       |0.9926392 |\n",
            "|ER                       |892  |893 |Biomarker       |0.9685083 |\n",
            "|positive                 |897  |904 |Biomarker_Result|0.9960096 |\n",
            "|80%                      |907  |909 |Biomarker_Result|0.86684847|\n",
            "|Progesterone receptor    |914  |934 |Biomarker       |0.9920785 |\n",
            "|PR                       |937  |938 |Biomarker       |0.9377241 |\n",
            "|positive                 |942  |949 |Biomarker_Result|0.9958652 |\n",
            "|60%                      |952  |954 |Biomarker_Result|0.9003172 |\n",
            "|HER2/neu                 |959  |966 |Biomarker       |0.9786798 |\n",
            "|negative                 |969  |976 |Biomarker_Result|0.9987527 |\n",
            "|Ki-67                    |980  |984 |Biomarker       |0.99663323|\n",
            "|25%                      |987  |989 |Biomarker_Result|0.99406403|\n",
            "|breast                   |1034 |1039|Body_Part       |0.9120107 |\n",
            "|invasive ductal carcinoma|1041 |1065|Cancer_Dx       |0.80965334|\n",
            "|positive                 |1074 |1081|Biomarker_Result|0.9941742 |\n",
            "|HER2                     |1084 |1087|Biomarker       |0.9911357 |\n",
            "|negative                 |1089 |1096|Biomarker_Result|0.99500376|\n",
            "|lumpectomy               |1152 |1161|Cancer_Surgery  |0.9914357 |\n",
            "|mastectomy               |1166 |1175|Cancer_Surgery  |0.99576616|\n",
            "|Oncology                 |1179 |1186|Cancer_Dx       |0.69808835|\n",
            "|Baseline staging scans   |1263 |1284|Imaging_Test    |0.74399287|\n",
            "+-------------------------+-----+----+----------------+----------+\n",
            "\n"
          ]
        }
      ]
    },
    {
      "cell_type": "markdown",
      "metadata": {
        "id": "xx5yOlkwElEA"
      },
      "source": [
        "### `predictionThreshold` parameter"
      ]
    },
    {
      "cell_type": "markdown",
      "source": [
        "This parameter controls the minimum confidence score that a predicted entity must reach in order to be returned.\n",
        "\n",
        "Let's set it to retun only entities that have confidece >= 0.8\n",
        "\n"
      ],
      "metadata": {
        "id": "IF7j_CS9kVpK"
      }
    },
    {
      "cell_type": "code",
      "source": [
        "pretrained_zero_shot_ner.setPredictionThreshold(0.8)\n",
        "\n",
        "pipeline = nlp.Pipeline().setStages([\n",
        "    document_assembler,\n",
        "    sentence_detector,\n",
        "    tokenizer,\n",
        "    pretrained_zero_shot_ner,\n",
        "    ner_converter\n",
        "])\n",
        "\n",
        "\n",
        "data = spark.createDataFrame([[text]]).toDF(\"text\")\n",
        "\n",
        "result = pipeline.fit(data).transform(data)\n",
        "\n",
        "result.select(F.explode(F.arrays_zip(result.ner_chunk.result,\n",
        "                                     result.ner_chunk.begin,\n",
        "                                     result.ner_chunk.end,\n",
        "                                     result.ner_chunk.metadata)).alias(\"cols\")) \\\n",
        "               .select( F.expr(\"cols['0']\").alias(\"chunk\"),\n",
        "                       F.expr(\"cols['1']\").alias(\"begin\"),\n",
        "                       F.expr(\"cols['2']\").alias(\"end\"),\n",
        "                      F.expr(\"cols['3']['entity']\").alias(\"ner_label\"),\n",
        "                      F.expr(\"cols['3']['confidence']\").alias(\"confidence\"))\\\n",
        "                       .filter(\"ner_label!='O'\")\\\n",
        "                       .show(50,truncate=False)"
      ],
      "metadata": {
        "colab": {
          "base_uri": "https://localhost:8080/"
        },
        "id": "qKZlvEeGklWc",
        "outputId": "d9c67dc0-05cc-46df-dfba-cf044fe5ab16"
      },
      "execution_count": null,
      "outputs": [
        {
          "output_type": "stream",
          "name": "stdout",
          "text": [
            "+-------------------------+-----+----+----------------+----------+\n",
            "|chunk                    |begin|end |ner_label       |confidence|\n",
            "+-------------------------+-----+----+----------------+----------+\n",
            "|breast                   |44   |49  |Body_Part       |0.9392416 |\n",
            "|breast                   |186  |191 |Body_Part       |0.87266624|\n",
            "|nipple                   |208  |213 |Body_Part       |0.9686622 |\n",
            "|positive                 |296  |303 |Biomarker_Result|0.96460474|\n",
            "|breast cancer            |309  |321 |Cancer_Dx       |0.9976246 |\n",
            "|malignancy               |423  |432 |Cancer_Dx       |0.9891188 |\n",
            "|skin                     |533  |536 |Body_Part       |0.92960954|\n",
            "|nipple                   |550  |555 |Body_Part       |0.9233175 |\n",
            "|Axilla                   |570  |575 |Body_Part       |0.9729599 |\n",
            "|lymph node               |595  |604 |Body_Part       |0.9553588 |\n",
            "|breast                   |624  |629 |Body_Part       |0.8557541 |\n",
            "|normal                   |632  |637 |Biomarker_Result|0.9822422 |\n",
            "|Mammogram                |651  |659 |Imaging_Test    |0.97728205|\n",
            "|BI-RADS                  |689  |695 |Imaging_Test    |0.9376825 |\n",
            "|Ultrasound               |701  |710 |Imaging_Test    |0.998911  |\n",
            "|Core Needle Biopsy       |771  |788 |Imaging_Test    |0.85673   |\n",
            "|ductal carcinoma         |844  |859 |Cancer_Dx       |0.83299834|\n",
            "|Estrogen receptor        |873  |889 |Biomarker       |0.9926392 |\n",
            "|ER                       |892  |893 |Biomarker       |0.9685083 |\n",
            "|positive                 |897  |904 |Biomarker_Result|0.9960096 |\n",
            "|80%                      |907  |909 |Biomarker_Result|0.86684847|\n",
            "|Progesterone receptor    |914  |934 |Biomarker       |0.9920785 |\n",
            "|PR                       |937  |938 |Biomarker       |0.9377241 |\n",
            "|positive                 |942  |949 |Biomarker_Result|0.9958652 |\n",
            "|60%                      |952  |954 |Biomarker_Result|0.9003172 |\n",
            "|HER2/neu                 |959  |966 |Biomarker       |0.9786798 |\n",
            "|negative                 |969  |976 |Biomarker_Result|0.9987527 |\n",
            "|Ki-67                    |980  |984 |Biomarker       |0.99663323|\n",
            "|25%                      |987  |989 |Biomarker_Result|0.99406403|\n",
            "|breast                   |1034 |1039|Body_Part       |0.9120107 |\n",
            "|invasive ductal carcinoma|1041 |1065|Cancer_Dx       |0.80965334|\n",
            "|positive                 |1074 |1081|Biomarker_Result|0.9941742 |\n",
            "|HER2                     |1084 |1087|Biomarker       |0.9911357 |\n",
            "|negative                 |1089 |1096|Biomarker_Result|0.99500376|\n",
            "|lumpectomy               |1152 |1161|Cancer_Surgery  |0.9914357 |\n",
            "|mastectomy               |1166 |1175|Cancer_Surgery  |0.99576616|\n",
            "+-------------------------+-----+----+----------------+----------+\n",
            "\n"
          ]
        }
      ]
    },
    {
      "cell_type": "markdown",
      "source": [
        " ## Customize Entity Labels"
      ],
      "metadata": {
        "id": "-4KvIB1EAyI4"
      }
    },
    {
      "cell_type": "markdown",
      "source": [
        "**Customizable Prediction Labels**\n",
        "\n",
        "You’re not limited to a fixed set of labels — zero-shot NER lets you define the labels that match your use case. Simply provide the terms you want to extract, and the model will adapt its predictions accordingly."
      ],
      "metadata": {
        "id": "qjFZ0NaIB9uY"
      }
    },
    {
      "cell_type": "code",
      "source": [
        "# New, customized entities\n",
        "labels = ['Proliferation_Index', 'Margin_Status', 'Histological_type']\n",
        "\n",
        "pretrained_zero_shot_ner = medical.PretrainedZeroShotNER().pretrained(\"zeroshot_ner_oncology_large\", \"en\", \"clinical/models\")\\\n",
        "    .setInputCols(\"sentence\", \"token\")\\\n",
        "    .setOutputCol(\"entities\")\\\n",
        "    .setPredictionThreshold(0.5)\\\n",
        "    .setLabels(labels)\n",
        "\n",
        "ner_converter = medical.NerConverterInternal()\\\n",
        "    .setInputCols(\"sentence\", \"token\", \"entities\")\\\n",
        "    .setOutputCol(\"ner_chunk\")\n",
        "\n",
        "\n",
        "pipeline = nlp.Pipeline().setStages([\n",
        "    document_assembler,\n",
        "    sentence_detector,\n",
        "    tokenizer,\n",
        "    pretrained_zero_shot_ner,\n",
        "    ner_converter\n",
        "])\n",
        "\n",
        "result = pipeline.fit(data).transform(data)\n",
        "\n",
        "result.select(F.explode(F.arrays_zip(result.ner_chunk.result,\n",
        "                                     result.ner_chunk.begin,\n",
        "                                     result.ner_chunk.end,\n",
        "                                     result.ner_chunk.metadata)).alias(\"cols\")) \\\n",
        "               .select( F.expr(\"cols['0']\").alias(\"chunk\"),\n",
        "                       F.expr(\"cols['1']\").alias(\"begin\"),\n",
        "                       F.expr(\"cols['2']\").alias(\"end\"),\n",
        "                      F.expr(\"cols['3']['entity']\").alias(\"ner_label\"))\\\n",
        "                       .filter(\"ner_label!='O'\")\\\n",
        "                       .show(50,truncate=False)"
      ],
      "metadata": {
        "colab": {
          "base_uri": "https://localhost:8080/"
        },
        "id": "aTIzf_UfBGRC",
        "outputId": "96927138-5da7-4751-c2b6-386e5c4038b2"
      },
      "execution_count": null,
      "outputs": [
        {
          "output_type": "stream",
          "name": "stdout",
          "text": [
            "zeroshot_ner_oncology_large download started this may take some time.\n",
            "Approximate size to download 1.5 GB\n",
            "[OK!]\n",
            "+-----------------+-----+----+-------------------+\n",
            "|chunk            |begin|end |ner_label          |\n",
            "+-----------------+-----+----+-------------------+\n",
            "|irregular borders|740  |756 |Margin_Status      |\n",
            "|Invasive         |835  |842 |Margin_Status      |\n",
            "|ductal           |844  |849 |Histological_type  |\n",
            "|Ki-67            |980  |984 |Proliferation_Index|\n",
            "|invasive         |1041 |1048|Histological_type  |\n",
            "|ductal           |1050 |1055|Histological_type  |\n",
            "+-----------------+-----+----+-------------------+\n",
            "\n"
          ]
        }
      ]
    },
    {
      "cell_type": "markdown",
      "source": [
        "`Labels()` parameter to know what enities are set"
      ],
      "metadata": {
        "id": "PNq2Fc9HgiRY"
      }
    },
    {
      "cell_type": "code",
      "source": [
        "pretrained_zero_shot_ner.getLabels()"
      ],
      "metadata": {
        "colab": {
          "base_uri": "https://localhost:8080/"
        },
        "id": "RMgnkdqKXTlR",
        "outputId": "c5a3cc9d-0541-4085-9070-83f40a7c9706"
      },
      "execution_count": null,
      "outputs": [
        {
          "output_type": "execute_result",
          "data": {
            "text/plain": [
              "['Proliferation_Index',\n",
              " 'Margin_Status',\n",
              " 'Histological_type',\n",
              " 'Performance_Status']"
            ]
          },
          "metadata": {},
          "execution_count": 22
        }
      ]
    }
  ]
}
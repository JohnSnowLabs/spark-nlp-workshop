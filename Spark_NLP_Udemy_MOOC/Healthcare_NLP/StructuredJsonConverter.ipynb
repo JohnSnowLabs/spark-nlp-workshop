{
  "cells": [
    {
      "cell_type": "markdown",
      "metadata": {
        "id": "I08sFJYCxR0Z"
      },
      "source": [
        "![JohnSnowLabs](https://nlp.johnsnowlabs.com/assets/images/logo.png)"
      ]
    },
    {
      "cell_type": "markdown",
      "metadata": {
        "id": "Yz7wkpBa2_Sk"
      },
      "source": [
        "[![Open In Colab](https://colab.research.google.com/assets/colab-badge.svg)](https://colab.research.google.com/github/JohnSnowLabs/spark-nlp-workshop/blob/master/Spark_NLP_Udemy_MOOC/Healthcare_NLP/StructuredJsonConverter.ipynb)"
      ]
    },
    {
      "cell_type": "markdown",
      "metadata": {
        "id": "TrIl4W_HsSaD"
      },
      "source": [
        "# **StructuredJsonConverter**"
      ]
    },
    {
      "cell_type": "markdown",
      "metadata": {
        "id": "F0y2buAhaeLj"
      },
      "source": [
        "This notebook will cover the different parameters and usages of `StructuredJsonConverter` annotator.\n",
        "\n",
        "**📖 Learning Objectives:**\n",
        "\n",
        "1. Understand how to use `StructuredJsonConverter`.\n",
        "\n",
        "2. Become comfortable using the different parameters of the annotator.\n",
        "\n",
        "3. Explore how `StructuredJsonConverter` handles different annotation types (e.g., entities, relations, assertions, classifications).\n",
        "\n",
        "4. Understand how to generate structured JSON outputs optimized for API consumption.\n",
        "\n",
        "**🔗 Helpful Links:**\n",
        "\n",
        "- Documentation : [StructuredJsonConverter](https://nlp.johnsnowlabs.com/docs/en/licensed_annotators#structuredjsonconverter)\n",
        "\n",
        "- Python Docs : [StructuredJsonConverter](https://nlp.johnsnowlabs.com/licensed/api/python/reference/autosummary/sparknlp_jsl/annotator/parser/structured_json_converter/index.html#module-sparknlp_jsl.annotator.parser.structured_json_converter)\n",
        "\n",
        "- Scala Docs : [StructuredJsonConverter](https://nlp.johnsnowlabs.com/licensed/api/com/johnsnowlabs/nlp/annotators/parser/StructuredJsonConverter.html)\n",
        "\n",
        "- For extended examples of usage see the [Spark NLP Workshop repository](https://github.com/JohnSnowLabs/spark-nlp-workshop/tree/master/healthcare-nlp/)."
      ]
    },
    {
      "cell_type": "markdown",
      "metadata": {
        "id": "B9Wo54MT8jKU"
      },
      "source": [
        "## **📜 Background**\n"
      ]
    },
    {
      "cell_type": "markdown",
      "metadata": {
        "id": "VIkGwEjXuZTb"
      },
      "source": [
        "This annotator integrates seamlessly with existing systems to process outputs from **pretrained pipelines**, delivering structured, easy-to-read results in a dictionary format. Optimized for API integration and user-friendly outputs, it supports streamlined data analysis workflows by converting raw annotations into a prettified, structured JSON format. With configurable schema mappings, it accommodates diverse outputs, including entities, assertions, resolutions, relations, summaries, deidentifications, and classifications. It uses column_maps to define output columns and align them with pipeline requirements. It handles diverse annotation types, including entities, assertions, resolutions, relations, summaries, deidentifications, and classifications. It produces well-structured, easy-to-read results ideal for API consumption and streamlined workflows."
      ]
    },
    {
      "cell_type": "markdown",
      "metadata": {
        "id": "fdTHvykf8wni"
      },
      "source": [
        "## **🖨️ Input/Output Annotation Types**"
      ]
    },
    {
      "cell_type": "markdown",
      "metadata": {
        "id": "4M692MNhvdHt"
      },
      "source": [
        "- Input Annotator Types: ANY\n",
        "\n",
        "- Output Annotator Type: JSON"
      ]
    },
    {
      "cell_type": "markdown",
      "metadata": {
        "id": "YVa72oJd9Bk_"
      },
      "source": [
        "## **🔎 Parameters**\n"
      ]
    },
    {
      "cell_type": "markdown",
      "metadata": {},
      "source": [
        "- `converterSchema` : Dictionary defining how to map annotation outputs (entities, assertions, relations, etc.) into structured JSON. Typically generated using `PipelineTracer.createParserDictionary()`.\n",
        "\n",
        "- `converterSchemaAsStr` : Same as `converterSchema`, but provided as a JSON string. Useful for saving/loading schema configurations.\n",
        "\n",
        "- `outputCol` : Name of the output column where structured JSON or struct results are stored.\n",
        "\n",
        "- `outputAsStr` : When true (default), outputs a single JSON string column. When false, outputs a nested struct with detailed arrays/maps for each annotation type.\n",
        "\n",
        "- `parentSource` : Defines the root structure of the output.  \n",
        "  - `` (empty): document-level structured JSON.  \n",
        "  - `chunk`: chunk-based struct with fields such as `chunk_id`, `chunk`, `begin`, `end`, `sentence`, `ner_label`, `relations`, etc.\n",
        "\n",
        "- `returnRelationEntities` : When true, includes full entity details inside relation objects. When false (default), only relation metadata is included.\n",
        "\n",
        "- `sentenceColumn` : Name of the sentence column used to include contextual sentence text for each chunk in the structured output.\n",
        "\n",
        "- `cleanAnnotations` : When true, removes raw Spark NLP annotation columns from the DataFrame, keeping only the clean structured JSON output (default: false).\n"
      ]
    },
    {
      "cell_type": "markdown",
      "metadata": {
        "id": "okhT7AcXxben"
      },
      "source": [
        "## 🎯 **Colab Setup**"
      ]
    },
    {
      "cell_type": "code",
      "execution_count": null,
      "metadata": {
        "collapsed": true,
        "id": "ELqzaf32MT6E"
      },
      "outputs": [],
      "source": [
        "# Install the johnsnowlabs library to access Spark-OCR and Spark-NLP for Healthcare, Finance, and Legal.\n",
        "! pip install -q johnsnowlabs"
      ]
    },
    {
      "cell_type": "code",
      "execution_count": null,
      "metadata": {
        "id": "RO2dIA414yL_"
      },
      "outputs": [],
      "source": [
        "from google.colab import files\n",
        "\n",
        "print('Please Upload your John Snow Labs License using the button below')\n",
        "license_keys = files.upload()"
      ]
    },
    {
      "cell_type": "code",
      "execution_count": null,
      "metadata": {
        "id": "dmcB5zVBHZO8"
      },
      "outputs": [],
      "source": [
        "from johnsnowlabs import nlp, medical\n",
        "# After uploading your license run this to install all licensed Python Wheels and pre-download Jars the Spark Session JVM\n",
        "nlp.settings.enforce_versions=False\n",
        "nlp.install(refresh_install=True)"
      ]
    },
    {
      "cell_type": "code",
      "execution_count": null,
      "metadata": {
        "id": "lQ8-BI-_5QjG"
      },
      "outputs": [],
      "source": [
        "from johnsnowlabs import nlp, medical\n",
        "\n",
        "# Automatically load license data and start a session with all jars user has access to\n",
        "spark = nlp.start()"
      ]
    },
    {
      "cell_type": "code",
      "execution_count": null,
      "metadata": {
        "colab": {
          "base_uri": "https://localhost:8080/",
          "height": 222
        },
        "id": "PJaGML6Jbrb7",
        "outputId": "568ffaab-09ff-413a-8044-aac2f935dd0c"
      },
      "outputs": [
        {
          "data": {
            "text/html": [
              "\n",
              "            <div>\n",
              "                <p><b>SparkSession - in-memory</b></p>\n",
              "                \n",
              "        <div>\n",
              "            <p><b>SparkContext</b></p>\n",
              "\n",
              "            <p><a href=\"http://562e9fde97dc:4040\">Spark UI</a></p>\n",
              "\n",
              "            <dl>\n",
              "              <dt>Version</dt>\n",
              "                <dd><code>v3.4.0</code></dd>\n",
              "              <dt>Master</dt>\n",
              "                <dd><code>local[*]</code></dd>\n",
              "              <dt>AppName</dt>\n",
              "                <dd><code>John-Snow-Labs-Spark-Session 🚀 with Jars for: 🚀Spark-NLP==6.1.3, 💊Spark-Healthcare==6.1.1, running on ⚡ PySpark==3.4.0</code></dd>\n",
              "            </dl>\n",
              "        </div>\n",
              "        \n",
              "            </div>\n",
              "        "
            ],
            "text/plain": [
              "<pyspark.sql.session.SparkSession at 0x7dc6b3a40e60>"
            ]
          },
          "execution_count": 41,
          "metadata": {},
          "output_type": "execute_result"
        }
      ],
      "source": [
        "spark"
      ]
    },
    {
      "cell_type": "markdown",
      "metadata": {
        "id": "P-FXvFACm-zz"
      },
      "source": [
        "## Using `StructuredJsonConverter`\n"
      ]
    },
    {
      "cell_type": "markdown",
      "metadata": {
        "id": "ikg5wKzSoBJS"
      },
      "source": [
        "Run a `Pretrainedpipeline` on your text and turn its many annotation columns into a single, neat JSON column for easy consumption.\n",
        "\n",
        "The pretrained pipeline of the following example can:\n",
        "\n",
        "- extract biomarker entities,\n",
        "\n",
        "- classify sentences whether they contain biomarker entities or not,\n",
        "\n",
        "- establish relations between the extracted biomarker and biomarker results from the clinical documents.\n",
        "\n",
        "`PipelineTracer` inspects the pipeline and produces a schema mapping (columns) describing what is extracted. This mapping is fed to the converter next."
      ]
    },
    {
      "cell_type": "code",
      "execution_count": null,
      "metadata": {
        "colab": {
          "base_uri": "https://localhost:8080/"
        },
        "id": "HOlqC0Rh2aFS",
        "outputId": "ec21563f-971a-4372-98fe-15832c620b73"
      },
      "outputs": [
        {
          "name": "stdout",
          "output_type": "stream",
          "text": [
            "explain_clinical_doc_biomarker download started this may take some time.\n",
            "Approx size to download 2 GB\n",
            "[OK!]\n",
            "+---------------------------------------------------------------------------------------------------------------------------------------------------------------------------------------------------------------------------------------------------------------------------------------------------------------------------------------------------------------------------------------------------------------------------------------------------------------------------------------------------------------------------------------------------------------------------------------------------------------------------------------------------------------------------------------------------------------------------------------------------------------------------------------------------------------------------------------------------------------------------------------------------------------------------------------------------------------------------------------------------------------------------------------------------------------------------------------------------------------------------------------------------------------------------------------------------------------------------------------------------------------------------------------------------------------------------------------------------------------------------------------------+\n",
            "|json                                                                                                                                                                                                                                                                                                                                                                                                                                                                                                                                                                                                                                                                                                                                                                                                                                                                                                                                                                                                                                                                                                                                                                                                                                                                                                                                                                                         |\n",
            "+---------------------------------------------------------------------------------------------------------------------------------------------------------------------------------------------------------------------------------------------------------------------------------------------------------------------------------------------------------------------------------------------------------------------------------------------------------------------------------------------------------------------------------------------------------------------------------------------------------------------------------------------------------------------------------------------------------------------------------------------------------------------------------------------------------------------------------------------------------------------------------------------------------------------------------------------------------------------------------------------------------------------------------------------------------------------------------------------------------------------------------------------------------------------------------------------------------------------------------------------------------------------------------------------------------------------------------------------------------------------------------------------+\n",
            "|{\"json\":{\"document_identifier\":\"d251a990-6659-4a3e-a10c-603559e5dea5\",\"document_text\":[\"In the bone- marrow (BM) aspiration, blasts accounted for 88.1% of ANCs, which were positive for CD9 and CD10 on flow cytometry.\"],\"entities\":[{\"begin\":\"84\",\"chunk\":\"positive\",\"ner_source\":\"ner_oncology_chunk\",\"end\":\"91\",\"ner_label\":\"Biomarker_Result\",\"chunk_id\":\"bc15add6\",\"sentence\":\"0\",\"ner_confidence\":\"0.9672\"},{\"begin\":\"97\",\"chunk\":\"CD9\",\"ner_source\":\"ner_oncology_chunk\",\"end\":\"99\",\"ner_label\":\"Biomarker\",\"chunk_id\":\"b473fd80\",\"sentence\":\"0\",\"ner_confidence\":\"0.992\"},{\"begin\":\"105\",\"chunk\":\"CD10\",\"ner_source\":\"ner_oncology_chunk\",\"end\":\"108\",\"ner_label\":\"Biomarker\",\"chunk_id\":\"0252d08a\",\"sentence\":\"0\",\"ner_confidence\":\"0.9987\"}],\"assertions\":[],\"resolutions\":[],\"relations\":[{\"relation\":\"is_finding_of\",\"direction\":\"both\",\"confidence\":\"0.99814475\",\"chunk2\":\"CD9\",\"chunk2_id\":\"b473fd80\",\"chunk1\":\"positive\",\"chunk1_id\":\"bc15add6\"},{\"relation\":\"is_finding_of\",\"direction\":\"both\",\"confidence\":\"0.9996313\",\"chunk2\":\"CD10\",\"chunk2_id\":\"0252d08a\",\"chunk1\":\"positive\",\"chunk1_id\":\"bc15add6\"}],\"summaries\":[],\"deidentifications\":[],\"classifications\":[{\"classification\":\"1\",\"sentence\":\"In the bone- marrow (BM) aspiration, blasts accounted for 88.1% of ANCs, which were positive for CD9 and CD10 on flow cytometry.\",\"sentence_id\":\"0\"}],\"mappers\":[]}}|\n",
            "+---------------------------------------------------------------------------------------------------------------------------------------------------------------------------------------------------------------------------------------------------------------------------------------------------------------------------------------------------------------------------------------------------------------------------------------------------------------------------------------------------------------------------------------------------------------------------------------------------------------------------------------------------------------------------------------------------------------------------------------------------------------------------------------------------------------------------------------------------------------------------------------------------------------------------------------------------------------------------------------------------------------------------------------------------------------------------------------------------------------------------------------------------------------------------------------------------------------------------------------------------------------------------------------------------------------------------------------------------------------------------------------------+\n",
            "\n"
          ]
        }
      ],
      "source": [
        "import sparknlp\n",
        "from sparknlp.pretrained import PretrainedPipeline\n",
        "from sparknlp_jsl.pipeline_tracer import PipelineTracer\n",
        "from sparknlp_jsl.annotator import StructuredJsonConverter\n",
        "import json\n",
        "\n",
        "text = \"In the bone- marrow (BM) aspiration, blasts accounted for 88.1% of ANCs, which were positive for CD9 and CD10 on flow cytometry.\"\n",
        "df = spark.createDataFrame([[text]]).toDF(\"text\")\n",
        "bio_pipe = PretrainedPipeline(\"explain_clinical_doc_biomarker\", \"en\", \"clinical/models\")\n",
        "pipeline_tracer = PipelineTracer(bio_pipe)\n",
        "columns = pipeline_tracer.createParserDictionary()\n",
        "converter = StructuredJsonConverter()\\\n",
        "           .setOutputCol(\"json\")\\\n",
        "           .setConverterSchema(columns)\n",
        "base_df = bio_pipe.transform(df)\n",
        "json_df = converter.transform(base_df)\n",
        "json_df.select(\"json\").show(truncate=False)"
      ]
    },
    {
      "cell_type": "markdown",
      "metadata": {
        "id": "lxNkcJXmw8FR"
      },
      "source": [
        "We can see the schema this way"
      ]
    },
    {
      "cell_type": "code",
      "execution_count": null,
      "metadata": {
        "colab": {
          "base_uri": "https://localhost:8080/"
        },
        "id": "xccus_PqppCf",
        "outputId": "5233c424-d0b7-49b0-e6b6-e6dd8835859c"
      },
      "outputs": [
        {
          "data": {
            "text/plain": [
              "{'document_identifier': '',\n",
              " 'document_text': 'document',\n",
              " 'entities': ['merged_chunk'],\n",
              " 'assertions': [],\n",
              " 'resolutions': [],\n",
              " 'relations': ['re_oncology_biomarker_result_wip'],\n",
              " 'summaries': [],\n",
              " 'deidentifications': [],\n",
              " 'classifications': [{'classification_column_name': 'prediction',\n",
              "   'sentence_column_name': 'sentence'}],\n",
              " 'mappers': []}"
            ]
          },
          "execution_count": 30,
          "metadata": {},
          "output_type": "execute_result"
        }
      ],
      "source": [
        "columns"
      ]
    },
    {
      "cell_type": "markdown",
      "metadata": {
        "id": "vk4P4XWoAr-y"
      },
      "source": [
        "## `cleanAnnotations` Parameter"
      ]
    },
    {
      "cell_type": "markdown",
      "metadata": {
        "id": "9XydB32tg32s"
      },
      "source": [
        "Whether to remove annotation columns from the dataframe, by default False."
      ]
    },
    {
      "cell_type": "markdown",
      "metadata": {
        "id": "qKIfC1YVYl5D"
      },
      "source": [
        "If we print the dataframe string information of the previous pipeline can see it has all annotation columns."
      ]
    },
    {
      "cell_type": "code",
      "execution_count": null,
      "metadata": {
        "colab": {
          "base_uri": "https://localhost:8080/"
        },
        "id": "BrXosHM5X8Z5",
        "outputId": "57e61dc7-41b6-4d17-a57e-9307cb5cf247"
      },
      "outputs": [
        {
          "data": {
            "text/plain": [
              "DataFrame[text: string, document: array<struct<annotatorType:string,begin:int,end:int,result:string,metadata:map<string,string>,embeddings:array<float>>>, sentence: array<struct<annotatorType:string,begin:int,end:int,result:string,metadata:map<string,string>,embeddings:array<float>>>, token: array<struct<annotatorType:string,begin:int,end:int,result:string,metadata:map<string,string>,embeddings:array<float>>>, embeddings: array<struct<annotatorType:string,begin:int,end:int,result:string,metadata:map<string,string>,embeddings:array<float>>>, prediction: array<struct<annotatorType:string,begin:int,end:int,result:string,metadata:map<string,string>,embeddings:array<float>>>, matched_biomarker: array<struct<annotatorType:string,begin:int,end:int,result:string,metadata:map<string,string>,embeddings:array<float>>>, oncology_ner: array<struct<annotatorType:string,begin:int,end:int,result:string,metadata:map<string,string>,embeddings:array<float>>>, ner_oncology_chunk: array<struct<annotatorType:string,begin:int,end:int,result:string,metadata:map<string,string>,embeddings:array<float>>>, biomarker_ner: array<struct<annotatorType:string,begin:int,end:int,result:string,metadata:map<string,string>,embeddings:array<float>>>, ner_biomarker_chunk: array<struct<annotatorType:string,begin:int,end:int,result:string,metadata:map<string,string>,embeddings:array<float>>>, merged_chunk: array<struct<annotatorType:string,begin:int,end:int,result:string,metadata:map<string,string>,embeddings:array<float>>>, pos_tags: array<struct<annotatorType:string,begin:int,end:int,result:string,metadata:map<string,string>,embeddings:array<float>>>, dependencies: array<struct<annotatorType:string,begin:int,end:int,result:string,metadata:map<string,string>,embeddings:array<float>>>, re_oncology_biomarker_result_wip: array<struct<annotatorType:string,begin:int,end:int,result:string,metadata:map<string,string>,embeddings:array<float>>>, json: string]"
            ]
          },
          "execution_count": 31,
          "metadata": {},
          "output_type": "execute_result"
        }
      ],
      "source": [
        "json_df"
      ]
    },
    {
      "cell_type": "markdown",
      "metadata": {
        "id": "xH0RDQjXYnXq"
      },
      "source": [
        "Let's set `cleanAnnotations()` to True to see the difference."
      ]
    },
    {
      "cell_type": "code",
      "execution_count": null,
      "metadata": {
        "colab": {
          "base_uri": "https://localhost:8080/"
        },
        "id": "XOx7c0-FBBr_",
        "outputId": "374ef254-11ec-4e3b-ad62-cfce4ed31ecb"
      },
      "outputs": [
        {
          "name": "stdout",
          "output_type": "stream",
          "text": [
            "+---------------------------------------------------------------------------------------------------------------------------------------------------------------------------------------------------------------------------------------------------------------------------------------------------------------------------------------------------------------------------------------------------------------------------------------------------------------------------------------------------------------------------------------------------------------------------------------------------------------------------------------------------------------------------------------------------------------------------------------------------------------------------------------------------------------------------------------------------------------------------------------------------------------------------------------------------------------------------------------------------------------------------------------------------------------------------------------------------------------------------------------------------------------------------------------------------------------------------------------------------------------------------------------------------------------------------------------------------------------------------------------------+\n",
            "|json                                                                                                                                                                                                                                                                                                                                                                                                                                                                                                                                                                                                                                                                                                                                                                                                                                                                                                                                                                                                                                                                                                                                                                                                                                                                                                                                                                                         |\n",
            "+---------------------------------------------------------------------------------------------------------------------------------------------------------------------------------------------------------------------------------------------------------------------------------------------------------------------------------------------------------------------------------------------------------------------------------------------------------------------------------------------------------------------------------------------------------------------------------------------------------------------------------------------------------------------------------------------------------------------------------------------------------------------------------------------------------------------------------------------------------------------------------------------------------------------------------------------------------------------------------------------------------------------------------------------------------------------------------------------------------------------------------------------------------------------------------------------------------------------------------------------------------------------------------------------------------------------------------------------------------------------------------------------+\n",
            "|{\"json\":{\"document_identifier\":\"5159b76e-c15b-4158-9df3-37cc319c5379\",\"document_text\":[\"In the bone- marrow (BM) aspiration, blasts accounted for 88.1% of ANCs, which were positive for CD9 and CD10 on flow cytometry.\"],\"entities\":[{\"begin\":\"84\",\"chunk\":\"positive\",\"ner_source\":\"ner_oncology_chunk\",\"end\":\"91\",\"ner_label\":\"Biomarker_Result\",\"chunk_id\":\"bc15add6\",\"sentence\":\"0\",\"ner_confidence\":\"0.9672\"},{\"begin\":\"97\",\"chunk\":\"CD9\",\"ner_source\":\"ner_oncology_chunk\",\"end\":\"99\",\"ner_label\":\"Biomarker\",\"chunk_id\":\"b473fd80\",\"sentence\":\"0\",\"ner_confidence\":\"0.992\"},{\"begin\":\"105\",\"chunk\":\"CD10\",\"ner_source\":\"ner_oncology_chunk\",\"end\":\"108\",\"ner_label\":\"Biomarker\",\"chunk_id\":\"0252d08a\",\"sentence\":\"0\",\"ner_confidence\":\"0.9987\"}],\"assertions\":[],\"resolutions\":[],\"relations\":[{\"relation\":\"is_finding_of\",\"direction\":\"both\",\"confidence\":\"0.99814475\",\"chunk2\":\"CD9\",\"chunk2_id\":\"b473fd80\",\"chunk1\":\"positive\",\"chunk1_id\":\"bc15add6\"},{\"relation\":\"is_finding_of\",\"direction\":\"both\",\"confidence\":\"0.9996313\",\"chunk2\":\"CD10\",\"chunk2_id\":\"0252d08a\",\"chunk1\":\"positive\",\"chunk1_id\":\"bc15add6\"}],\"summaries\":[],\"deidentifications\":[],\"classifications\":[{\"classification\":\"1\",\"sentence\":\"In the bone- marrow (BM) aspiration, blasts accounted for 88.1% of ANCs, which were positive for CD9 and CD10 on flow cytometry.\",\"sentence_id\":\"0\"}],\"mappers\":[]}}|\n",
            "+---------------------------------------------------------------------------------------------------------------------------------------------------------------------------------------------------------------------------------------------------------------------------------------------------------------------------------------------------------------------------------------------------------------------------------------------------------------------------------------------------------------------------------------------------------------------------------------------------------------------------------------------------------------------------------------------------------------------------------------------------------------------------------------------------------------------------------------------------------------------------------------------------------------------------------------------------------------------------------------------------------------------------------------------------------------------------------------------------------------------------------------------------------------------------------------------------------------------------------------------------------------------------------------------------------------------------------------------------------------------------------------------+\n",
            "\n"
          ]
        }
      ],
      "source": [
        "converter = StructuredJsonConverter()\\\n",
        "           .setOutputCol(\"json\")\\\n",
        "           .setConverterSchema(columns)\\\n",
        "           .setCleanAnnotations(True)\n",
        "base_df = bio_pipe.transform(df)\n",
        "json_df = converter.transform(base_df)\n",
        "json_df.select(\"json\").show(truncate=False)"
      ]
    },
    {
      "cell_type": "markdown",
      "metadata": {
        "id": "P5GVptZqcbfH"
      },
      "source": [
        "Now the dataframe only has the Json column."
      ]
    },
    {
      "cell_type": "code",
      "execution_count": null,
      "metadata": {
        "colab": {
          "base_uri": "https://localhost:8080/"
        },
        "id": "ANpBdNOdYXHF",
        "outputId": "ca68beed-56b4-4552-9c53-147158ad08b0"
      },
      "outputs": [
        {
          "data": {
            "text/plain": [
              "DataFrame[text: string, json: string]"
            ]
          },
          "execution_count": 33,
          "metadata": {},
          "output_type": "execute_result"
        }
      ],
      "source": [
        "json_df"
      ]
    },
    {
      "cell_type": "markdown",
      "metadata": {
        "id": "EAdRO_YUgV0B"
      },
      "source": [
        "## `returnRelationEntities` Parameter"
      ]
    },
    {
      "cell_type": "markdown",
      "metadata": {
        "id": "eNoxDbfyhAm7"
      },
      "source": [
        "Whether to return the entities in the relations or not, by default False.\n",
        "\n",
        "Let's set it to True to see the difference."
      ]
    },
    {
      "cell_type": "code",
      "execution_count": null,
      "metadata": {
        "id": "yBL9j3pxhLQB"
      },
      "outputs": [],
      "source": [
        "converter = StructuredJsonConverter()\\\n",
        "           .setOutputCol(\"json\")\\\n",
        "           .setConverterSchema(columns)\\\n",
        "           .setReturnRelationEntities(True)\n",
        "base_df = bio_pipe.transform(df)\n",
        "json_df = converter.transform(base_df)\n"
      ]
    },
    {
      "cell_type": "markdown",
      "metadata": {
        "id": "9K9Dv4PvsAB1"
      },
      "source": [
        "Let's pretty print and show only the relations from the JSON.\n",
        "\n",
        "The relations have the entity1 and entity2 information that would not be present with the default parameter."
      ]
    },
    {
      "cell_type": "code",
      "execution_count": null,
      "metadata": {
        "colab": {
          "base_uri": "https://localhost:8080/"
        },
        "id": "JR3crdMTqA_y",
        "outputId": "2481cddb-ed11-467f-b9f2-3fa5981fe4c7"
      },
      "outputs": [
        {
          "name": "stdout",
          "output_type": "stream",
          "text": [
            "[\n",
            "  {\n",
            "    \"entity1_begin\": \"84\",\n",
            "    \"relation\": \"is_finding_of\",\n",
            "    \"direction\": \"both\",\n",
            "    \"confidence\": \"0.99814475\",\n",
            "    \"entity1\": \"Biomarker_Result\",\n",
            "    \"chunk2\": \"CD9\",\n",
            "    \"entity2_end\": \"99\",\n",
            "    \"entity1_end\": \"91\",\n",
            "    \"entity2_begin\": \"97\",\n",
            "    \"chunk2_id\": \"b473fd80\",\n",
            "    \"entity2\": \"Biomarker\",\n",
            "    \"chunk1\": \"positive\",\n",
            "    \"chunk1_id\": \"bc15add6\"\n",
            "  },\n",
            "  {\n",
            "    \"entity1_begin\": \"84\",\n",
            "    \"relation\": \"is_finding_of\",\n",
            "    \"direction\": \"both\",\n",
            "    \"confidence\": \"0.9996313\",\n",
            "    \"entity1\": \"Biomarker_Result\",\n",
            "    \"chunk2\": \"CD10\",\n",
            "    \"entity2_end\": \"108\",\n",
            "    \"entity1_end\": \"91\",\n",
            "    \"entity2_begin\": \"105\",\n",
            "    \"chunk2_id\": \"0252d08a\",\n",
            "    \"entity2\": \"Biomarker\",\n",
            "    \"chunk1\": \"positive\",\n",
            "    \"chunk1_id\": \"bc15add6\"\n",
            "  }\n",
            "]\n"
          ]
        }
      ],
      "source": [
        "relations = parsed[\"json\"].get(\"relations\", [])\n",
        "print(json.dumps(relations, indent=2))"
      ]
    },
    {
      "cell_type": "markdown",
      "metadata": {
        "id": "1RAg2MYZAB7B"
      },
      "source": [
        "## `outputAsStr` Parameter\n",
        "\n",
        "Whether to output the result as a string or as a structured JSON, by default True.\n",
        "\n",
        "Here, we'll set it to False to see the difference.\n",
        "\n",
        "Now the content of the JSON column is not really a JSON object, just a different data structure."
      ]
    },
    {
      "cell_type": "code",
      "execution_count": null,
      "metadata": {
        "colab": {
          "base_uri": "https://localhost:8080/"
        },
        "id": "Ernu2VjB9s3m",
        "outputId": "9fd05d67-414a-4189-e453-fc71b28e8026"
      },
      "outputs": [
        {
          "name": "stdout",
          "output_type": "stream",
          "text": [
            "+----------------------------------------------------------------------------------------------------------------------------------------------------------------------------------------------------------------------------------------------------------------------------------------------------------------------------------------------------------------------------------------------------------------------------------------------------------------------------------------------------------------------------------------------------------------------------------------------------------------------------------------------------------------------------------------------------------------------------------------------------------------------------------------------------------------------------------------------------------------------------------------------------------------------------------------------------------------------------------------------------------------------------------------------------------------------------------------------------------------------------------------------------------------------------------------------------------------------------------+\n",
            "|json                                                                                                                                                                                                                                                                                                                                                                                                                                                                                                                                                                                                                                                                                                                                                                                                                                                                                                                                                                                                                                                                                                                                                                                                                              |\n",
            "+----------------------------------------------------------------------------------------------------------------------------------------------------------------------------------------------------------------------------------------------------------------------------------------------------------------------------------------------------------------------------------------------------------------------------------------------------------------------------------------------------------------------------------------------------------------------------------------------------------------------------------------------------------------------------------------------------------------------------------------------------------------------------------------------------------------------------------------------------------------------------------------------------------------------------------------------------------------------------------------------------------------------------------------------------------------------------------------------------------------------------------------------------------------------------------------------------------------------------------+\n",
            "|{3b16a316-f5ff-4bfc-b7fb-cf309c90d474, [In the bone- marrow (BM) aspiration, blasts accounted for 88.1% of ANCs, which were positive for CD9 and CD10 on flow cytometry.], [{begin -> 84, chunk -> positive, ner_source -> ner_oncology_chunk, end -> 91, ner_label -> Biomarker_Result, chunk_id -> bc15add6, sentence -> 0, ner_confidence -> 0.9672}, {begin -> 97, chunk -> CD9, ner_source -> ner_oncology_chunk, end -> 99, ner_label -> Biomarker, chunk_id -> b473fd80, sentence -> 0, ner_confidence -> 0.992}, {begin -> 105, chunk -> CD10, ner_source -> ner_oncology_chunk, end -> 108, ner_label -> Biomarker, chunk_id -> 0252d08a, sentence -> 0, ner_confidence -> 0.9987}], [], [], [{relation -> is_finding_of, direction -> both, confidence -> 0.99814475, chunk2 -> CD9, chunk2_id -> b473fd80, chunk1 -> positive, chunk1_id -> bc15add6}, {relation -> is_finding_of, direction -> both, confidence -> 0.9996313, chunk2 -> CD10, chunk2_id -> 0252d08a, chunk1 -> positive, chunk1_id -> bc15add6}], [], [], [{classification -> 1, sentence -> In the bone- marrow (BM) aspiration, blasts accounted for 88.1% of ANCs, which were positive for CD9 and CD10 on flow cytometry., sentence_id -> 0}], []}|\n",
            "+----------------------------------------------------------------------------------------------------------------------------------------------------------------------------------------------------------------------------------------------------------------------------------------------------------------------------------------------------------------------------------------------------------------------------------------------------------------------------------------------------------------------------------------------------------------------------------------------------------------------------------------------------------------------------------------------------------------------------------------------------------------------------------------------------------------------------------------------------------------------------------------------------------------------------------------------------------------------------------------------------------------------------------------------------------------------------------------------------------------------------------------------------------------------------------------------------------------------------------+\n",
            "\n"
          ]
        }
      ],
      "source": [
        "converter = StructuredJsonConverter()\\\n",
        "           .setOutputCol(\"json\")\\\n",
        "           .setConverterSchema(columns)\\\n",
        "           .setOutputAsStr(False)\n",
        "base_df = bio_pipe.transform(df)\n",
        "json_df = converter.transform(base_df)\n",
        "json_df.select(\"json\").show(truncate=False)"
      ]
    },
    {
      "cell_type": "markdown",
      "metadata": {
        "id": "xf0oZnPyH7PN"
      },
      "source": [
        "## `parentSource` Parameter"
      ]
    },
    {
      "cell_type": "markdown",
      "metadata": {
        "id": "JQs-0VznIBSi"
      },
      "source": [
        "Parent source of the output.\n",
        "Available options: `chunk` and ``.\n",
        "When set to `chunk`, the output will be designed as a chunk-based struct."
      ]
    },
    {
      "cell_type": "code",
      "execution_count": null,
      "metadata": {
        "id": "lOR99A-xk5mZ"
      },
      "outputs": [],
      "source": [
        "converter = StructuredJsonConverter()\\\n",
        "           .setOutputCol(\"json\")\\\n",
        "           .setConverterSchema(columns)\\\n",
        "           .setParentSource(\"chunk\")\n",
        "base_df = bio_pipe.transform(df)\n",
        "json_df = converter.transform(base_df)"
      ]
    },
    {
      "cell_type": "code",
      "execution_count": null,
      "metadata": {
        "colab": {
          "base_uri": "https://localhost:8080/"
        },
        "id": "zqJc6n5qIs5z",
        "outputId": "6f415104-6b3c-43b0-ca5c-f17cffef7e9c"
      },
      "outputs": [
        {
          "name": "stdout",
          "output_type": "stream",
          "text": [
            "{\n",
            "  \"json\": [\n",
            "    {\n",
            "      \"chunk_id\": \"bc15add6\",\n",
            "      \"chunk\": \"positive\",\n",
            "      \"begin\": 84,\n",
            "      \"end\": 91,\n",
            "      \"sentence_id\": 0,\n",
            "      \"ner_label\": \"Biomarker_Result\",\n",
            "      \"ner_source\": \"ner_oncology_chunk\",\n",
            "      \"ner_confidence\": \"0.9672\",\n",
            "      \"relations\": [\n",
            "        {\n",
            "          \"relation\": \"is_finding_of\",\n",
            "          \"direction\": \"both\",\n",
            "          \"confidence\": \"0.99814475\",\n",
            "          \"chunk2\": \"CD9\",\n",
            "          \"chunk2_id\": \"b473fd80\",\n",
            "          \"chunk1\": \"positive\",\n",
            "          \"chunk1_id\": \"bc15add6\"\n",
            "        },\n",
            "        {\n",
            "          \"relation\": \"is_finding_of\",\n",
            "          \"direction\": \"both\",\n",
            "          \"confidence\": \"0.9996313\",\n",
            "          \"chunk2\": \"CD10\",\n",
            "          \"chunk2_id\": \"0252d08a\",\n",
            "          \"chunk1\": \"positive\",\n",
            "          \"chunk1_id\": \"bc15add6\"\n",
            "        }\n",
            "      ]\n",
            "    },\n",
            "    {\n",
            "      \"chunk_id\": \"b473fd80\",\n",
            "      \"chunk\": \"CD9\",\n",
            "      \"begin\": 97,\n",
            "      \"end\": 99,\n",
            "      \"sentence_id\": 0,\n",
            "      \"ner_label\": \"Biomarker\",\n",
            "      \"ner_source\": \"ner_oncology_chunk\",\n",
            "      \"ner_confidence\": \"0.992\",\n",
            "      \"relations\": [\n",
            "        {\n",
            "          \"relation\": \"is_finding_of\",\n",
            "          \"direction\": \"both\",\n",
            "          \"confidence\": \"0.99814475\",\n",
            "          \"chunk2\": \"CD9\",\n",
            "          \"chunk2_id\": \"b473fd80\",\n",
            "          \"chunk1\": \"positive\",\n",
            "          \"chunk1_id\": \"bc15add6\"\n",
            "        }\n",
            "      ]\n",
            "    },\n",
            "    {\n",
            "      \"chunk_id\": \"0252d08a\",\n",
            "      \"chunk\": \"CD10\",\n",
            "      \"begin\": 105,\n",
            "      \"end\": 108,\n",
            "      \"sentence_id\": 0,\n",
            "      \"ner_label\": \"Biomarker\",\n",
            "      \"ner_source\": \"ner_oncology_chunk\",\n",
            "      \"ner_confidence\": \"0.9987\",\n",
            "      \"relations\": [\n",
            "        {\n",
            "          \"relation\": \"is_finding_of\",\n",
            "          \"direction\": \"both\",\n",
            "          \"confidence\": \"0.9996313\",\n",
            "          \"chunk2\": \"CD10\",\n",
            "          \"chunk2_id\": \"0252d08a\",\n",
            "          \"chunk1\": \"positive\",\n",
            "          \"chunk1_id\": \"bc15add6\"\n",
            "        }\n",
            "      ]\n",
            "    }\n",
            "  ]\n",
            "}\n"
          ]
        }
      ],
      "source": [
        "rows = json_df.select(\"json\").collect()\n",
        "for row in rows:\n",
        "    parsed = json.loads(row[\"json\"])\n",
        "    print(json.dumps(parsed, indent=2))"
      ]
    },
    {
      "cell_type": "markdown",
      "metadata": {
        "id": "gOOTm6bfKexX"
      },
      "source": [
        "## `sentenceColumn` Parameter"
      ]
    },
    {
      "cell_type": "markdown",
      "metadata": {
        "id": "xcDU3n6RKp42"
      },
      "source": [
        "Sentence column name. The sentence column is used to extract sentence of the chunk."
      ]
    },
    {
      "cell_type": "code",
      "execution_count": null,
      "metadata": {
        "id": "IsjOI1RLKlje"
      },
      "outputs": [],
      "source": [
        "converter = StructuredJsonConverter()\\\n",
        "           .setOutputCol(\"json\")\\\n",
        "           .setConverterSchema(columns)\\\n",
        "           .setSentenceColumn(\"sentence\")\n",
        "base_df = bio_pipe.transform(df)\n",
        "json_df = converter.transform(base_df)"
      ]
    },
    {
      "cell_type": "code",
      "execution_count": null,
      "metadata": {
        "colab": {
          "base_uri": "https://localhost:8080/"
        },
        "id": "Cl0027C-LFY0",
        "outputId": "fac19c0c-8d2d-4254-926f-1a6f50d18762"
      },
      "outputs": [
        {
          "name": "stdout",
          "output_type": "stream",
          "text": [
            "{\n",
            "  \"json\": {\n",
            "    \"document_identifier\": \"c643e4d1-a85b-4d66-a9f6-24b8af8b4414\",\n",
            "    \"document_text\": [\n",
            "      \"In the bone- marrow (BM) aspiration, blasts accounted for 88.1% of ANCs, which were positive for CD9 and CD10 on flow cytometry.\"\n",
            "    ],\n",
            "    \"entities\": [\n",
            "      {\n",
            "        \"begin\": \"84\",\n",
            "        \"chunk\": \"positive\",\n",
            "        \"ner_source\": \"ner_oncology_chunk\",\n",
            "        \"end\": \"91\",\n",
            "        \"ner_label\": \"Biomarker_Result\",\n",
            "        \"chunk_id\": \"bc15add6\",\n",
            "        \"sentence\": \"0\",\n",
            "        \"ner_confidence\": \"0.9672\"\n",
            "      },\n",
            "      {\n",
            "        \"begin\": \"97\",\n",
            "        \"chunk\": \"CD9\",\n",
            "        \"ner_source\": \"ner_oncology_chunk\",\n",
            "        \"end\": \"99\",\n",
            "        \"ner_label\": \"Biomarker\",\n",
            "        \"chunk_id\": \"b473fd80\",\n",
            "        \"sentence\": \"0\",\n",
            "        \"ner_confidence\": \"0.992\"\n",
            "      },\n",
            "      {\n",
            "        \"begin\": \"105\",\n",
            "        \"chunk\": \"CD10\",\n",
            "        \"ner_source\": \"ner_oncology_chunk\",\n",
            "        \"end\": \"108\",\n",
            "        \"ner_label\": \"Biomarker\",\n",
            "        \"chunk_id\": \"0252d08a\",\n",
            "        \"sentence\": \"0\",\n",
            "        \"ner_confidence\": \"0.9987\"\n",
            "      }\n",
            "    ],\n",
            "    \"assertions\": [],\n",
            "    \"resolutions\": [],\n",
            "    \"relations\": [\n",
            "      {\n",
            "        \"relation\": \"is_finding_of\",\n",
            "        \"direction\": \"both\",\n",
            "        \"confidence\": \"0.99814475\",\n",
            "        \"chunk2\": \"CD9\",\n",
            "        \"chunk2_id\": \"b473fd80\",\n",
            "        \"chunk1\": \"positive\",\n",
            "        \"chunk1_id\": \"bc15add6\"\n",
            "      },\n",
            "      {\n",
            "        \"relation\": \"is_finding_of\",\n",
            "        \"direction\": \"both\",\n",
            "        \"confidence\": \"0.9996313\",\n",
            "        \"chunk2\": \"CD10\",\n",
            "        \"chunk2_id\": \"0252d08a\",\n",
            "        \"chunk1\": \"positive\",\n",
            "        \"chunk1_id\": \"bc15add6\"\n",
            "      }\n",
            "    ],\n",
            "    \"summaries\": [],\n",
            "    \"deidentifications\": [],\n",
            "    \"classifications\": [\n",
            "      {\n",
            "        \"classification\": \"1\",\n",
            "        \"sentence\": \"In the bone- marrow (BM) aspiration, blasts accounted for 88.1% of ANCs, which were positive for CD9 and CD10 on flow cytometry.\",\n",
            "        \"sentence_id\": \"0\"\n",
            "      }\n",
            "    ],\n",
            "    \"mappers\": []\n",
            "  }\n",
            "}\n"
          ]
        }
      ],
      "source": [
        "rows = json_df.select(\"json\").collect()\n",
        "for row in rows:\n",
        "    parsed = json.loads(row[\"json\"])\n",
        "    print(json.dumps(parsed, indent=2))"
      ]
    }
  ],
  "metadata": {
    "colab": {
      "provenance": []
    },
    "kernelspec": {
      "display_name": "Python 3",
      "name": "python3"
    },
    "language_info": {
      "name": "python"
    }
  },
  "nbformat": 4,
  "nbformat_minor": 0
}

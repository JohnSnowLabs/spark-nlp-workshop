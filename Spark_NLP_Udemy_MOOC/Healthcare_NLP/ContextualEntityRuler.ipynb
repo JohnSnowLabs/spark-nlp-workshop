{
  "cells": [
    {
      "cell_type": "markdown",
      "metadata": {
        "id": "6Wfq4tie-OVj"
      },
      "source": [
        "![JohnSnowLabs](https://nlp.johnsnowlabs.com/assets/images/logo.png)"
      ]
    },
    {
      "cell_type": "markdown",
      "metadata": {
        "id": "Js6EFUIFUQlO"
      },
      "source": [
        "[![Open In Colab](https://colab.research.google.com/assets/colab-badge.svg)](https://colab.research.google.com/github/JohnSnowLabs/spark-nlp-workshop/blob/master/Spark_NLP_Udemy_MOOC/Healthcare_NLP/ContextualEntityRuler.ipynb)"
      ]
    },
    {
      "cell_type": "markdown",
      "metadata": {
        "id": "aQ2JWggt-UYX"
      },
      "source": [
        "#   **📜 ContextualEntityRuler**\n"
      ]
    },
    {
      "cell_type": "markdown",
      "source": [
        "The  **`ContextualEntityRuler`**  is an annotator that updates chunks based on contextual rules. These rules are defined in the form of dictionaries and can include prefixes, suffixes, and the context within a specified scope window around the chunks. This annotator modifies detected chunks by replacing their entity labels or content based on the patterns and rules if they match. It is particularly useful for refining entity recognition results according to specific needs."
      ],
      "metadata": {
        "id": "7hzwkXPoKY5I"
      }
    },
    {
      "cell_type": "markdown",
      "metadata": {
        "id": "e726rKETuJJr"
      },
      "source": [
        "**📖 Learning Objectives:**\n",
        "\n",
        "1. Understand how to use the annotator.\n",
        "\n",
        "2. Become comfortable using the different parameters of the annotator.\n",
        "\n",
        "**🔗 Helpful Links:**\n",
        "\n",
        "- Reference Documentation: [ContextualEntityRuler](https://nlp.johnsnowlabs.com/docs/en/licensed_annotators#contextualentityruler)\n"
      ]
    },
    {
      "cell_type": "markdown",
      "metadata": {
        "id": "okhT7AcXxben"
      },
      "source": [
        "## **🎬 Colab Setup**"
      ]
    },
    {
      "cell_type": "code",
      "execution_count": null,
      "metadata": {
        "id": "xrdvNxjD_yQI"
      },
      "outputs": [],
      "source": [
        "# Install the johnsnowlabs library to access Spark-NLP for Healthcare\n",
        "! pip install -q johnsnowlabs"
      ]
    },
    {
      "cell_type": "code",
      "execution_count": null,
      "metadata": {
        "id": "3WU-z_e8jYpO"
      },
      "outputs": [],
      "source": [
        "from google.colab import files\n",
        "print('Please Upload your John Snow Labs License using the button below')\n",
        "license_keys = files.upload()"
      ]
    },
    {
      "cell_type": "code",
      "source": [
        "from johnsnowlabs import nlp, medical\n",
        "\n",
        "# After uploading your license run this to install all licensed Python Wheels and pre-download Jars the Spark Session JVM\n",
        "nlp.settings.enforce_versions=False\n",
        "nlp.install(refresh_install=True)"
      ],
      "metadata": {
        "id": "D-9lbtfHjvm7"
      },
      "execution_count": null,
      "outputs": []
    },
    {
      "cell_type": "code",
      "execution_count": null,
      "metadata": {
        "id": "19b2mPsZjbI3",
        "colab": {
          "base_uri": "https://localhost:8080/"
        },
        "outputId": "ef60dfb3-6422-4262-8029-c030f8d4370f"
      },
      "outputs": [
        {
          "output_type": "stream",
          "name": "stdout",
          "text": [
            "👌 Detected license file /content/spark_nlp_for_healthcare_spark_ocr_9596 (5).json\n",
            "👌 Launched \u001b[92mcpu optimized\u001b[39m session with with: 🚀Spark-NLP==5.5.1, 💊Spark-Healthcare==5.5.2, running on ⚡ PySpark==3.4.0\n"
          ]
        }
      ],
      "source": [
        "# Automatically load license data and start a session with all jars user has access to\n",
        "spark = nlp.start()"
      ]
    },
    {
      "cell_type": "code",
      "execution_count": null,
      "metadata": {
        "colab": {
          "base_uri": "https://localhost:8080/",
          "height": 219
        },
        "id": "aFMD5KCS9Xih",
        "outputId": "2e783092-074b-4914-bef2-67f5f49762de"
      },
      "outputs": [
        {
          "output_type": "execute_result",
          "data": {
            "text/plain": [
              "<pyspark.sql.session.SparkSession at 0x7ca01645e590>"
            ],
            "text/html": [
              "\n",
              "            <div>\n",
              "                <p><b>SparkSession - in-memory</b></p>\n",
              "                \n",
              "        <div>\n",
              "            <p><b>SparkContext</b></p>\n",
              "\n",
              "            <p><a href=\"http://053db3497ca2:4040\">Spark UI</a></p>\n",
              "\n",
              "            <dl>\n",
              "              <dt>Version</dt>\n",
              "                <dd><code>v3.4.0</code></dd>\n",
              "              <dt>Master</dt>\n",
              "                <dd><code>local[*]</code></dd>\n",
              "              <dt>AppName</dt>\n",
              "                <dd><code>John-Snow-Labs-Spark-Session 🚀 with Jars for: 🚀Spark-NLP==5.5.1, 💊Spark-Healthcare==5.5.2, running on ⚡ PySpark==3.4.0</code></dd>\n",
              "            </dl>\n",
              "        </div>\n",
              "        \n",
              "            </div>\n",
              "        "
            ]
          },
          "metadata": {},
          "execution_count": 5
        }
      ],
      "source": [
        "spark"
      ]
    },
    {
      "cell_type": "markdown",
      "metadata": {
        "id": "FBTuAaNIaE-n"
      },
      "source": [
        "## **🖨️ Input/Output Annotation Types**"
      ]
    },
    {
      "cell_type": "markdown",
      "metadata": {
        "id": "wnFxBtrjaJyP"
      },
      "source": [
        "- Input: `DOCUMENT`, `CHUNK`, `TOKEN`\n",
        "\n",
        "- Output: `CHUNK`"
      ]
    },
    {
      "cell_type": "markdown",
      "metadata": {
        "id": "RLbYplk2a30Z"
      },
      "source": [
        "## **🔎 Parameters**\n"
      ]
    },
    {
      "cell_type": "markdown",
      "metadata": {
        "id": "uzlkaWUZa7KN"
      },
      "source": [
        "**Parameters**:\n",
        "\n",
        "- `setCaseSensitive`: Whether to perform case-sensitive matching. Default is `False`.\n",
        "\n",
        "- `setAllowPunctuationInBetween`: Whether to allow punctuation between prefix/suffix patterns and the entity. Default is `True`.\n",
        "\n",
        "- `setDropEmptyChunks`: If `True`, removes chunks with empty content after applying rules. Default is `False`.\n",
        "\n",
        "- `setCaseSensitive`: If `True`, the operation is case sensitive while checking the context. Default is `False`.\n",
        "\n",
        "- `setMergeOverlapping`: If `False`, it returns both modified entities and the original entities at the same time. Default is `True`.\n",
        "\n",
        "- `setallowTokensInBetween`: When True: Allows tokens between prefix/suffix patterns and the entity, enabling extended matches. When False: Tokens between patterns and entities prevent a match. Default: False\n",
        "\n",
        "- `rules`: The updating rules. Each rule is a dictionary with the following keys:\n",
        "  - `entity`: The target entity label to modify. Example: `\"AGE\"`.\n",
        "  - `prefixPatterns`: Array of patterns (words/phrases) to match before the entity. Example: `[\"years\", \"old\"]` matches entities preceded by \"years\" or \"old.\"\n",
        "  - `suffixPatterns`: Array of patterns (words/phrases) to match after the entity. Example: `[\"years\", \"old\"]` matches entities followed by \"years\" or \"old.\"\n",
        "  - `scopeWindowLevel`: Specifies the level of the scope window to consider. Valid values: `\"token\"` or `\"char\"`. Default: `\"token\"`.\n",
        "  - `scopeWindow`: A tuple defining the range of tokens or characters (based on `scopeWindowLevel`) to include in the scope. Default for `\"token\"` level: `(2, 2)`. Default for `\"char\"` level: `(10, 10)`. Example: `(2, 3)` means 2 tokens/characters before and 3 after the entity are considered.\n",
        "  - `prefixRegexes`: Array of regular expressions to match before the entity. Example: `[\"\\\\b(years|months)\\\\b\"]` matches words like \"years\" or \"months\" as prefixes.\n",
        "  - `suffixRegexes`: Array of regular expressions to match after the entity. Example: `[\"\\\\b(old|young)\\\\b\"]` matches words like \"old\" or \"young\" as suffixes.\n",
        "  - `replaceEntity`: Optional string specifying the new entity label to replace with the target entity label. Example: `\"MODIFIED_AGE\"` replaces `\"AGE\"` with `\"MODIFIED_AGE\"` in matching cases.\n",
        "  - `mode`: Specifies the operational mode for the rules. Possible values depend on the use case (e.g., `\"include\"`, `\"exclude\"`, `\"replace_label_only\"` ). Default: `\"include\"`.\n",
        "\n",
        "\n",
        "\n",
        "  "
      ]
    },
    {
      "cell_type": "markdown",
      "metadata": {
        "id": "ICcnDujCGv5G"
      },
      "source": [
        "### Pipeline"
      ]
    },
    {
      "cell_type": "code",
      "source": [
        "documentAssembler = nlp.DocumentAssembler() \\\n",
        "    .setInputCol(\"text\") \\\n",
        "    .setOutputCol(\"document\")\n",
        "\n",
        "sentenceDetector = nlp.SentenceDetector() \\\n",
        "    .setInputCols([\"document\"]) \\\n",
        "    .setOutputCol(\"sentence\")\n",
        "\n",
        "tokenizer = nlp.Tokenizer() \\\n",
        "    .setInputCols([\"sentence\"]) \\\n",
        "    .setOutputCol(\"token\")\n",
        "\n",
        "word_embeddings = nlp.WordEmbeddingsModel.pretrained(\"embeddings_clinical\", \"en\", \"clinical/models\") \\\n",
        "    .setInputCols([\"sentence\", \"token\"]) \\\n",
        "    .setOutputCol(\"embeddings\")\n",
        "\n",
        "clinical_ner = medical.NerModel.pretrained(\"ner_deid_generic_augmented\", \"en\", \"clinical/models\") \\\n",
        "    .setInputCols([\"sentence\", \"token\", \"embeddings\"]) \\\n",
        "    .setOutputCol(\"ner\") \\\n",
        "\n",
        "ner_converter = medical.NerConverterInternal() \\\n",
        "    .setInputCols([\"sentence\", \"token\", \"ner\"]) \\\n",
        "    .setOutputCol(\"ner_chunk\")"
      ],
      "metadata": {
        "colab": {
          "base_uri": "https://localhost:8080/"
        },
        "id": "lR_dzXU9ZiSJ",
        "outputId": "401c0527-4c9f-433b-ef56-955464773b3e"
      },
      "execution_count": null,
      "outputs": [
        {
          "output_type": "stream",
          "name": "stdout",
          "text": [
            "embeddings_clinical download started this may take some time.\n",
            "Approximate size to download 1.6 GB\n",
            "[OK!]\n",
            "ner_deid_generic_augmented download started this may take some time.\n",
            "[OK!]\n"
          ]
        }
      ]
    },
    {
      "cell_type": "code",
      "source": [
        "rules = [\n",
        "    {\n",
        "        \"entity\" : \"NAME\",\n",
        "        \"scopeWindow\" : [6,6],\n",
        "        \"scopeWindowLevel\"  : \"token\",\n",
        "        \"prefixPatterns\" : [\"Doctor\"],\n",
        "        \"replaceEntity\" : \"REPLACED_NAME\",\n",
        "        \"mode\" : \"include\"\n",
        "\n",
        "    },\n",
        "    {\n",
        "        \"entity\" : \"DATE\",\n",
        "        \"scopeWindow\" : [6,6],\n",
        "        \"scopeWindowLevel\"  : \"token\",\n",
        "        \"suffixPatterns\" : [\"with\"],\n",
        "        \"replaceEntity\" : \"REPLACED_DATE\",\n",
        "        \"mode\" : \"include\"\n",
        "\n",
        "    },\n",
        "    {\n",
        "        \"entity\" : \"AGE\",\n",
        "        \"scopeWindow\" : [60,60],\n",
        "        \"scopeWindowLevel\"  : \"char\",\n",
        "        \"suffixPatterns\" : [\"patient\"],\n",
        "        \"replaceEntity\" : \"REPLACED_AGE\",\n",
        "    }\n",
        "]\n",
        "\n",
        "contextual_entity_ruler = medical.ContextualEntityRuler() \\\n",
        "            .setInputCols(\"sentence\", \"token\", \"ner_chunk\") \\\n",
        "            .setOutputCol(\"ruled_ner_chunk\") \\\n",
        "            .setRules(rules) \\\n",
        "            .setCaseSensitive(False)\\\n",
        "            .setDropEmptyChunks(True)\\\n",
        "            .setAllowPunctuationInBetween(False)\\\n",
        "            .setAllowTokensInBetween(True)\n",
        "\n",
        "\n",
        "pipeline = nlp.Pipeline(\n",
        "    stages=[\n",
        "        documentAssembler,\n",
        "        sentenceDetector,\n",
        "        tokenizer,\n",
        "        word_embeddings,\n",
        "        clinical_ner,\n",
        "        ner_converter,\n",
        "        contextual_entity_ruler,\n",
        "        ])\n",
        "\n",
        "empty_data = spark.createDataFrame([[\"\"]]).toDF(\"text\")\n",
        "\n",
        "model = pipeline.fit(empty_data)\n",
        "\n",
        "\n",
        "text = \"\"\" The Doctor who is John Snow, assessed the 36 years old patient on November 25, 2024, who presented with symptoms of the immune system with tender areas.\n",
        "       \"\"\"\n",
        "data = spark.createDataFrame([[text]]).toDF(\"text\")\n",
        "\n",
        "result = model.transform(data)\n"
      ],
      "metadata": {
        "id": "pCusmKSMxSIG"
      },
      "execution_count": null,
      "outputs": []
    },
    {
      "cell_type": "code",
      "source": [
        "import pyspark.sql.functions as F"
      ],
      "metadata": {
        "id": "8ZzXupA_xtyr"
      },
      "execution_count": null,
      "outputs": []
    },
    {
      "cell_type": "code",
      "source": [
        "ner_chunk_df = result.select(F.explode(F.arrays_zip(\n",
        "                          result.ner_chunk.result,\n",
        "                          result.ner_chunk.begin,\n",
        "                          result.ner_chunk.end,\n",
        "                          result.ner_chunk.metadata)).alias(\"cols\"))\\\n",
        "                  .select(F.expr(\"cols['0']\").alias(\"chunk\"),\n",
        "                          F.expr(\"cols['1']\").alias(\"begin\"),\n",
        "                          F.expr(\"cols['2']\").alias(\"end\"),\n",
        "                          F.expr(\"cols['3']['entity']\").alias(\"ner_label\"),\n",
        "                          F.expr(\"cols['3']['confidence']\").alias(\"confidence\"))\n",
        "\n",
        "ner_chunk_df.show(50, truncate=100)"
      ],
      "metadata": {
        "colab": {
          "base_uri": "https://localhost:8080/"
        },
        "id": "GlqmtlDaxoqu",
        "outputId": "51c6f785-b200-49c5-c5f9-80877d2ede6d"
      },
      "execution_count": null,
      "outputs": [
        {
          "output_type": "stream",
          "name": "stdout",
          "text": [
            "+-----------------+-----+---+---------+----------+\n",
            "|            chunk|begin|end|ner_label|confidence|\n",
            "+-----------------+-----+---+---------+----------+\n",
            "|        John Snow|   19| 27|     NAME|0.98730004|\n",
            "|               36|   43| 44|      AGE|    0.9997|\n",
            "|November 25, 2024|   67| 83|     DATE|0.98829997|\n",
            "+-----------------+-----+---+---------+----------+\n",
            "\n"
          ]
        }
      ]
    },
    {
      "cell_type": "code",
      "source": [
        "ner_chunk_df = result.select(F.explode(F.arrays_zip(\n",
        "                          result.ruled_ner_chunk.result,\n",
        "                          result.ruled_ner_chunk.begin,\n",
        "                          result.ruled_ner_chunk.end,\n",
        "                          result.ruled_ner_chunk.metadata)).alias(\"cols\"))\\\n",
        "                  .select(F.expr(\"cols['0']\").alias(\"chunk\"),\n",
        "                          F.expr(\"cols['1']\").alias(\"begin\"),\n",
        "                          F.expr(\"cols['2']\").alias(\"end\"),\n",
        "                          F.expr(\"cols['3']['entity']\").alias(\"ner_label\"),\n",
        "                          F.expr(\"cols['3']['confidence']\").alias(\"confidence\"))\n",
        "\n",
        "ner_chunk_df.show(50, truncate=100)"
      ],
      "metadata": {
        "colab": {
          "base_uri": "https://localhost:8080/"
        },
        "id": "xnYYEzMcyZPc",
        "outputId": "b742946a-6151-46eb-a3bd-b8190a699019"
      },
      "execution_count": null,
      "outputs": [
        {
          "output_type": "stream",
          "name": "stdout",
          "text": [
            "+-----------------------+-----+---+-------------+----------+\n",
            "|                  chunk|begin|end|    ner_label|confidence|\n",
            "+-----------------------+-----+---+-------------+----------+\n",
            "|Doctor who is John Snow|    5| 27|REPLACED_NAME|0.98730004|\n",
            "|   36 years old patient|   43| 62| REPLACED_AGE|    0.9997|\n",
            "|      November 25, 2024|   67| 83|         DATE|0.98829997|\n",
            "+-----------------------+-----+---+-------------+----------+\n",
            "\n"
          ]
        }
      ]
    },
    {
      "cell_type": "code",
      "source": [
        "ner_jsl = medical.NerModel.pretrained(\"ner_jsl\", \"en\", \"clinical/models\") \\\n",
        "    .setInputCols([\"sentence\", \"token\", \"embeddings\"]) \\\n",
        "    .setOutputCol(\"ner_jsl\") \\\n",
        "\n",
        "ner_jsl_converter = medical.NerConverterInternal() \\\n",
        "    .setInputCols([\"sentence\", \"token\", \"ner_jsl\"]) \\\n",
        "    .setOutputCol(\"ner_jsl_chunk\")\n",
        "\n",
        "chunk_merger = medical.ChunkMergeApproach()\\\n",
        "    .setInputCols(\"ner_chunk\", \"ner_jsl_chunk\")\\\n",
        "    .setOutputCol('ner_chunk_merged')\\\n",
        "    .setBlackList([\"DATE\"])\n",
        "\n",
        "rules = [\n",
        "\t{\n",
        "\t\t\"entity\" : \"Age\",\n",
        "\t\t\"scopeWindow\" : [15,15],\n",
        "\t\t\"scopeWindowLevel\"  : \"char\",\n",
        "\t\t\"suffixPatterns\" : [\"years old\", \"year old\", \"months\"],\n",
        "\t\t\"replaceEntity\" : \"Modified_Age\",\n",
        "\t\t\"mode\" : \"exclude\"\n",
        "\t},\n",
        "\t{\n",
        "\t\t\"entity\" : \"Diabetes\",\n",
        "\t\t\"scopeWindow\" : [3,3],\n",
        "\t\t\"scopeWindowLevel\"  : \"token\",\n",
        "\t\t\"suffixPatterns\" : [\"complications\"],\n",
        "\t\t\"replaceEntity\" : \"Modified_Diabetes\",\n",
        "\t\t\"mode\" : \"exclude\"\n",
        "\t},\n",
        "\t{\n",
        "\t\t\"entity\" : \"NAME\",\n",
        "\t\t\"scopeWindow\" : [3,3],\n",
        "\t\t\"scopeWindowLevel\"  : \"token\",\n",
        "\t\t\"prefixPatterns\" : [\"MD\",\"M.D\", \"Dr\"],\n",
        "\t\t\"replaceEntity\" : \"Doctor_Name\",\n",
        "\t\t\"mode\" : \"include\"\n",
        "\t}\n",
        "]\n",
        "\n",
        "contextual_entity_ruler = medical.ContextualEntityRuler() \\\n",
        "    .setInputCols(\"sentence\", \"token\", \"ner_chunk\") \\\n",
        "    .setOutputCol(\"ruled_ner_chunk\") \\\n",
        "    .setRules(rules) \\\n",
        "    .setCaseSensitive(False)\\\n",
        "    .setDropEmptyChunks(True)\\\n",
        "    .setAllowPunctuationInBetween(True)\\\n",
        "    .setAllowTokensInBetween(True)\n",
        "\n",
        "pipeline = nlp.Pipeline(\n",
        "    stages=[\n",
        "        documentAssembler,\n",
        "        sentenceDetector,\n",
        "        tokenizer,\n",
        "        word_embeddings,\n",
        "        clinical_ner,\n",
        "        ner_converter,\n",
        "        ner_jsl,\n",
        "        ner_jsl_converter,\n",
        "        chunk_merger,\n",
        "        contextual_entity_ruler,\n",
        "        ])\n",
        "\n",
        "empty_data = spark.createDataFrame([[\"\"]]).toDF(\"text\")\n",
        "\n",
        "model = pipeline.fit(empty_data)\n",
        "\n",
        "text = \"\"\" Dr. John Snow assessed the 36 years old who has a history of the diabetes mellitus with complications in May, 2006\"\"\"\n",
        "data = spark.createDataFrame([[text]]).toDF(\"text\")\n",
        "\n",
        "result = model.transform(data)"
      ],
      "metadata": {
        "colab": {
          "base_uri": "https://localhost:8080/"
        },
        "id": "qk3HugIsychj",
        "outputId": "0d46d68f-c658-465c-eef0-b158e616b562"
      },
      "execution_count": null,
      "outputs": [
        {
          "output_type": "stream",
          "name": "stdout",
          "text": [
            "ner_jsl download started this may take some time.\n",
            "[OK!]\n"
          ]
        }
      ]
    },
    {
      "cell_type": "code",
      "source": [
        "ner_chunk_df = result.select(F.explode(F.arrays_zip(\n",
        "                          result.ner_chunk_merged.result,\n",
        "                          result.ner_chunk_merged.begin,\n",
        "                          result.ner_chunk_merged.end,\n",
        "                          result.ner_chunk_merged.metadata)).alias(\"cols\"))\\\n",
        "                  .select(F.expr(\"cols['0']\").alias(\"chunk\"),\n",
        "                          F.expr(\"cols['1']\").alias(\"begin\"),\n",
        "                          F.expr(\"cols['2']\").alias(\"end\"),\n",
        "                          F.expr(\"cols['3']['entity']\").alias(\"ner_label\"),\n",
        "                          F.expr(\"cols['3']['confidence']\").alias(\"confidence\"))\n",
        "\n",
        "ner_chunk_df.show(50, truncate=100)\n",
        "\n",
        "ner_chunk_df = result.select(F.explode(F.arrays_zip(\n",
        "                          result.ruled_ner_chunk.result,\n",
        "                          result.ruled_ner_chunk.begin,\n",
        "                          result.ruled_ner_chunk.end,\n",
        "                          result.ruled_ner_chunk.metadata)).alias(\"cols\"))\\\n",
        "                  .select(F.expr(\"cols['0']\").alias(\"chunk\"),\n",
        "                          F.expr(\"cols['1']\").alias(\"begin\"),\n",
        "                          F.expr(\"cols['2']\").alias(\"end\"),\n",
        "                          F.expr(\"cols['3']['entity']\").alias(\"ner_label\"),\n",
        "                          F.expr(\"cols['3']['confidence']\").alias(\"confidence\"))\n",
        "\n",
        "ner_chunk_df.show(50, truncate=100)"
      ],
      "metadata": {
        "colab": {
          "base_uri": "https://localhost:8080/"
        },
        "id": "ofZ5pZNOy134",
        "outputId": "675b53a5-434f-4828-8015-2acc070ebb35"
      },
      "execution_count": null,
      "outputs": [
        {
          "output_type": "stream",
          "name": "stdout",
          "text": [
            "+-----------------+-----+---+---------+----------+\n",
            "|            chunk|begin|end|ner_label|confidence|\n",
            "+-----------------+-----+---+---------+----------+\n",
            "|        John Snow|    5| 13|     NAME|   0.88095|\n",
            "|     36 years old|   28| 39|      Age| 0.8915334|\n",
            "|diabetes mellitus|   66| 82| Diabetes|    0.9742|\n",
            "+-----------------+-----+---+---------+----------+\n",
            "\n",
            "+-------------+-----+---+-----------+----------+\n",
            "|        chunk|begin|end|  ner_label|confidence|\n",
            "+-------------+-----+---+-----------+----------+\n",
            "|Dr. John Snow|    1| 13|Doctor_Name|   0.88095|\n",
            "|           36|   28| 29|        AGE|    0.9988|\n",
            "|    May, 2006|  106|114|       DATE|0.91326666|\n",
            "+-------------+-----+---+-----------+----------+\n",
            "\n"
          ]
        }
      ]
    },
    {
      "cell_type": "code",
      "source": [
        "document_assembler = nlp.DocumentAssembler() \\\n",
        "    .setInputCol(\"text\") \\\n",
        "    .setOutputCol(\"document\")\n",
        "\n",
        "tokenizer = nlp.Tokenizer() \\\n",
        "    .setInputCols([\"document\"]) \\\n",
        "    .setOutputCol(\"token\")\n",
        "\n",
        "word_embeddings = nlp.WordEmbeddingsModel.pretrained(\"embeddings_clinical\", \"en\", \"clinical/models\") \\\n",
        "    .setInputCols([\"document\", \"token\"]) \\\n",
        "    .setOutputCol(\"embeddings\")\n",
        "\n",
        "ner = medical.NerModel.pretrained(\"ner_deid_subentity_augmented\", \"en\", \"clinical/models\") \\\n",
        "    .setInputCols([\"document\", \"token\", \"embeddings\"]) \\\n",
        "    .setOutputCol(\"ner\")\n",
        "\n",
        "ner_converter = medical.NerConverterInternal() \\\n",
        "    .setInputCols([\"document\", \"token\", \"ner\"]) \\\n",
        "    .setOutputCol(\"ner_chunk\")"
      ],
      "metadata": {
        "id": "N3s56MDsHBFK"
      },
      "execution_count": null,
      "outputs": []
    },
    {
      "cell_type": "markdown",
      "source": [
        "This time we will use `\"replace_label_only\"` option to the `mode`\n",
        " parameter"
      ],
      "metadata": {
        "id": "gnnTNhFKLlJd"
      }
    },
    {
      "cell_type": "code",
      "source": [
        "data = [\n",
        "    (1, \"Performed on Oct 22 , 2024 13:14\"),\n",
        "    (2, \"PHYSICAL EXAMINATION : Performed on Oct 22 , 2024 12:49\"),\n",
        "    (3, \"Oct 22 , 20241:24PM Faisal Akbar , M.D .\"),\n",
        "    (4, \"Electronically Reviewed by : Navkiranjit Gill, D.O. on\\n10/22/2024 13:28:\"),\n",
        "    (5, \"Electronically Reviewed By : KHANH T NGUYEN Oct 22 , 2024 1:28PM Electronically Reviewed by : KHANH NGUYEN , M.D . on 10/22/2024 13:28:27\"),\n",
        "    (6, \"Labs ordered by KHANH T . NGUYEN on Oct 22 , 2024 :\"),\n",
        "    (7, \"NEW ORDERS TODAY : Return Visit ordered by KHANH T . NGUYEN on Oct 22 , 2024 :\"),\n",
        "    (8, \"PERCEPTA testing by Pulm revealed high risk for malignancy and patient was therefore referred to CTS Dr Lazar\"),\n",
        "    (9, \"Sign - Requested by SOHNEN MD , ADAM E ( on )\"),\n",
        "    (10, \"Patient Name PEET , RODNEY W Procedure # 24509 Attending Doctor CATER , GEORGE MRN 980615798 Appointment 10/Oct/2024 10:30AM Ordering Provider CATER , GEORGE\"),\n",
        "    (11, \"Electronically signed by Dr . David Liddle on 18-Oct-2024 at 08:39\"),\n",
        "    (12, \"Ordering Provider : Lee M .\"),\n",
        "    (13, \"Patient Name : VANCHERI , THERESA L Date of Study : 10-22-2024\")\n",
        "]\n",
        "\n",
        "\n",
        "columns = [\"id\", \"text\"]\n",
        "text_df = spark.createDataFrame(data, columns)\n",
        "\n",
        "document_assembler = nlp.DocumentAssembler() \\\n",
        "    .setInputCol(\"text\") \\\n",
        "    .setOutputCol(\"document\")\n",
        "\n",
        "tokenizer = nlp.Tokenizer() \\\n",
        "    .setInputCols([\"document\"]) \\\n",
        "    .setOutputCol(\"token\")\n",
        "\n",
        "word_embeddings = nlp.WordEmbeddingsModel.pretrained(\"embeddings_clinical\", \"en\", \"clinical/models\") \\\n",
        "    .setInputCols([\"document\", \"token\"]) \\\n",
        "    .setOutputCol(\"embeddings\")\n",
        "\n",
        "ner = medical.NerModel.pretrained(\"ner_deid_subentity_augmented\", \"en\", \"clinical/models\") \\\n",
        "    .setInputCols([\"document\", \"token\", \"embeddings\"]) \\\n",
        "    .setOutputCol(\"ner\")\n",
        "\n",
        "ner_converter = medical.NerConverterInternal() \\\n",
        "    .setInputCols([\"document\", \"token\", \"ner\"]) \\\n",
        "    .setOutputCol(\"ner_chunk\")"
      ],
      "metadata": {
        "colab": {
          "base_uri": "https://localhost:8080/"
        },
        "id": "mEJ1RzM1z85V",
        "outputId": "d1b8797f-bb8d-4e3c-e22e-801421de364e"
      },
      "execution_count": null,
      "outputs": [
        {
          "output_type": "stream",
          "name": "stdout",
          "text": [
            "embeddings_clinical download started this may take some time.\n",
            "Approximate size to download 1.6 GB\n",
            "[OK!]\n",
            "ner_deid_subentity_augmented download started this may take some time.\n",
            "[OK!]\n"
          ]
        }
      ]
    },
    {
      "cell_type": "code",
      "source": [
        "json_rules = \"\"\"\n",
        "[\n",
        "  {\n",
        "    \"entity\": \"DATE\",\n",
        "    \"scopeWindow\": [5, 5],\n",
        "    \"scopeWindowLevel\": \"token\",\n",
        "    \"prefixPatterns\": [\"Performed On\", \"Created On :\"],\n",
        "    \"replaceEntity\": \"REPLACED_DATE\",\n",
        "    \"mode\": \"replace_label_only\"\n",
        "  },\n",
        "  {\n",
        "    \"entity\": \"DOCTOR\",\n",
        "    \"scopeWindow\": [5, 5],\n",
        "    \"scopeWindowLevel\": \"token\",\n",
        "    \"suffixRegexes\": [\"D.O.\", \"M.A\"],\n",
        "    \"replaceEntity\": \"REPLACED_DOCTOR\",\n",
        "    \"mode\": \"replace_label_only\"\n",
        "  }\n",
        "]\n",
        "\"\"\"\n",
        "\n",
        "contextual_entity_ruler = medical.ContextualEntityRuler() \\\n",
        "    .setInputCols([\"document\", \"token\", \"ner_chunk\"]) \\\n",
        "    .setOutputCol(\"updated_chunk\") \\\n",
        "    .setRulesAsStr(json_rules) \\\n",
        "    .setCaseSensitive(False) \\\n",
        "    .setAllowPunctuationInBetween(True) \\\n",
        "    .setDropEmptyChunks(False) \\\n",
        "    .setAllowTokensInBetween(True)\n",
        "\n",
        "\n",
        "pipeline = nlp.Pipeline().setStages([\n",
        "    documentAssembler,\n",
        "    sentenceDetector,\n",
        "    tokenizer,\n",
        "    word_embeddings,\n",
        "    clinical_ner,\n",
        "    ner_converter,\n",
        "    contextual_entity_ruler\n",
        "])\n",
        "\n",
        "model = pipeline.fit(text_df)\n",
        "result_df = model.transform(text_df).cache()\n"
      ],
      "metadata": {
        "id": "6w358FuB2N3c"
      },
      "execution_count": null,
      "outputs": []
    },
    {
      "cell_type": "code",
      "source": [
        "result_df.select(\"id\", \"ner_chunk\").show(truncate=False)\n",
        "result_df.select(\"id\", \"updated_chunk\").show(truncate=False)"
      ],
      "metadata": {
        "colab": {
          "base_uri": "https://localhost:8080/"
        },
        "id": "ObUZwGxq4R9b",
        "outputId": "94439b23-3f94-40da-8981-472ce67365eb"
      },
      "execution_count": null,
      "outputs": [
        {
          "output_type": "stream",
          "name": "stdout",
          "text": [
            "+---+---------------------------------------------------------------------------------------------------------------------------------------------------------------------------------------------------------------------------------------------------------------------------------------------------------------------------------------------------------------------------------------------------------------------------------------------------------------------------------------------------------------------------------------------------------------------------------------------------------------------------------------------------------------------------------------------------------------------------------------------------------------------------------+\n",
            "|id |ner_chunk                                                                                                                                                                                                                                                                                                                                                                                                                                                                                                                                                                                                                                                                                                                                                                        |\n",
            "+---+---------------------------------------------------------------------------------------------------------------------------------------------------------------------------------------------------------------------------------------------------------------------------------------------------------------------------------------------------------------------------------------------------------------------------------------------------------------------------------------------------------------------------------------------------------------------------------------------------------------------------------------------------------------------------------------------------------------------------------------------------------------------------------+\n",
            "|1  |[{chunk, 13, 25, Oct 22 , 2024, {entity -> DATE, confidence -> 0.97075003, ner_source -> ner_chunk, chunk -> 0, sentence -> 0}, []}]                                                                                                                                                                                                                                                                                                                                                                                                                                                                                                                                                                                                                                             |\n",
            "|2  |[{chunk, 36, 48, Oct 22 , 2024, {entity -> DATE, confidence -> 0.99427503, ner_source -> ner_chunk, chunk -> 0, sentence -> 0}, []}]                                                                                                                                                                                                                                                                                                                                                                                                                                                                                                                                                                                                                                             |\n",
            "|3  |[{chunk, 0, 5, Oct 22, {entity -> DATE, confidence -> 0.98935, ner_source -> ner_chunk, chunk -> 0, sentence -> 0}, []}, {chunk, 20, 31, Faisal Akbar, {entity -> NAME, confidence -> 0.97885, ner_source -> ner_chunk, chunk -> 1, sentence -> 0}, []}]                                                                                                                                                                                                                                                                                                                                                                                                                                                                                                                         |\n",
            "|4  |[{chunk, 29, 44, Navkiranjit Gill, {entity -> NAME, confidence -> 0.99590003, ner_source -> ner_chunk, chunk -> 0, sentence -> 0}, []}, {chunk, 55, 64, 10/22/2024, {entity -> DATE, confidence -> 1.0, ner_source -> ner_chunk, chunk -> 1, sentence -> 0}, []}]                                                                                                                                                                                                                                                                                                                                                                                                                                                                                                                |\n",
            "|5  |[{chunk, 29, 42, KHANH T NGUYEN, {entity -> NAME, confidence -> 0.74293333, ner_source -> ner_chunk, chunk -> 0, sentence -> 0}, []}, {chunk, 44, 56, Oct 22 , 2024, {entity -> DATE, confidence -> 0.9912, ner_source -> ner_chunk, chunk -> 1, sentence -> 0}, []}, {chunk, 94, 105, KHANH NGUYEN, {entity -> NAME, confidence -> 0.99785, ner_source -> ner_chunk, chunk -> 2, sentence -> 0}, []}, {chunk, 118, 127, 10/22/2024, {entity -> DATE, confidence -> 1.0, ner_source -> ner_chunk, chunk -> 3, sentence -> 0}, []}]                                                                                                                                                                                                                                               |\n",
            "|6  |[{chunk, 16, 31, KHANH T . NGUYEN, {entity -> NAME, confidence -> 0.92255, ner_source -> ner_chunk, chunk -> 0, sentence -> 0}, []}, {chunk, 36, 48, Oct 22 , 2024, {entity -> DATE, confidence -> 0.99332505, ner_source -> ner_chunk, chunk -> 1, sentence -> 0}, []}]                                                                                                                                                                                                                                                                                                                                                                                                                                                                                                         |\n",
            "|7  |[{chunk, 43, 58, KHANH T . NGUYEN, {entity -> NAME, confidence -> 0.95052505, ner_source -> ner_chunk, chunk -> 0, sentence -> 0}, []}, {chunk, 63, 75, Oct 22 , 2024, {entity -> DATE, confidence -> 0.9931, ner_source -> ner_chunk, chunk -> 1, sentence -> 0}, []}]                                                                                                                                                                                                                                                                                                                                                                                                                                                                                                          |\n",
            "|8  |[{chunk, 104, 108, Lazar, {entity -> NAME, confidence -> 0.9472, ner_source -> ner_chunk, chunk -> 0, sentence -> 0}, []}]                                                                                                                                                                                                                                                                                                                                                                                                                                                                                                                                                                                                                                                       |\n",
            "|9  |[{chunk, 20, 25, SOHNEN, {entity -> NAME, confidence -> 0.9973, ner_source -> ner_chunk, chunk -> 0, sentence -> 0}, []}]                                                                                                                                                                                                                                                                                                                                                                                                                                                                                                                                                                                                                                                        |\n",
            "|10 |[{chunk, 13, 27, PEET , RODNEY W, {entity -> NAME, confidence -> 0.762425, ner_source -> ner_chunk, chunk -> 0, sentence -> 0}, []}, {chunk, 41, 45, 24509, {entity -> CONTACT, confidence -> 0.8602, ner_source -> ner_chunk, chunk -> 1, sentence -> 0}, []}, {chunk, 64, 77, CATER , GEORGE, {entity -> NAME, confidence -> 0.6546, ner_source -> ner_chunk, chunk -> 2, sentence -> 0}, []}, {chunk, 83, 91, 980615798, {entity -> ID, confidence -> 0.9994, ner_source -> ner_chunk, chunk -> 3, sentence -> 0}, []}, {chunk, 105, 115, 10/Oct/2024, {entity -> DATE, confidence -> 1.0, ner_source -> ner_chunk, chunk -> 4, sentence -> 0}, []}, {chunk, 151, 156, GEORGE, {entity -> NAME, confidence -> 0.497, ner_source -> ner_chunk, chunk -> 5, sentence -> 0}, []}]|\n",
            "|11 |[{chunk, 30, 41, David Liddle, {entity -> NAME, confidence -> 0.98300004, ner_source -> ner_chunk, chunk -> 0, sentence -> 0}, []}, {chunk, 46, 56, 18-Oct-2024, {entity -> DATE, confidence -> 1.0, ner_source -> ner_chunk, chunk -> 1, sentence -> 0}, []}]                                                                                                                                                                                                                                                                                                                                                                                                                                                                                                                   |\n",
            "|12 |[{chunk, 20, 24, Lee M, {entity -> NAME, confidence -> 0.8565, ner_source -> ner_chunk, chunk -> 0, sentence -> 0}, []}]                                                                                                                                                                                                                                                                                                                                                                                                                                                                                                                                                                                                                                                         |\n",
            "|13 |[{chunk, 15, 34, VANCHERI , THERESA L, {entity -> NAME, confidence -> 0.8407, ner_source -> ner_chunk, chunk -> 0, sentence -> 0}, []}, {chunk, 52, 61, 10-22-2024, {entity -> DATE, confidence -> 0.9998, ner_source -> ner_chunk, chunk -> 1, sentence -> 0}, []}]                                                                                                                                                                                                                                                                                                                                                                                                                                                                                                             |\n",
            "+---+---------------------------------------------------------------------------------------------------------------------------------------------------------------------------------------------------------------------------------------------------------------------------------------------------------------------------------------------------------------------------------------------------------------------------------------------------------------------------------------------------------------------------------------------------------------------------------------------------------------------------------------------------------------------------------------------------------------------------------------------------------------------------------+\n",
            "\n",
            "+---+---------------------------------------------------------------------------------------------------------------------------------------------------------------------------------------------------------------------------------------------------------------------------------------------------------------------------------------------------------------------------------------------------------------------------------------------------------------------------------------------------------------------------------------------------------------------------------------------------------------------------------------------------------------------------------------------------------------------------------------------------------------------------------+\n",
            "|id |updated_chunk                                                                                                                                                                                                                                                                                                                                                                                                                                                                                                                                                                                                                                                                                                                                                                    |\n",
            "+---+---------------------------------------------------------------------------------------------------------------------------------------------------------------------------------------------------------------------------------------------------------------------------------------------------------------------------------------------------------------------------------------------------------------------------------------------------------------------------------------------------------------------------------------------------------------------------------------------------------------------------------------------------------------------------------------------------------------------------------------------------------------------------------+\n",
            "|1  |[{chunk, 13, 25, Oct 22 , 2024, {chunk -> 0, confidence -> 0.97075003, ner_source -> ner_chunk, entity -> REPLACED_DATE, sentence -> 0}, []}]                                                                                                                                                                                                                                                                                                                                                                                                                                                                                                                                                                                                                                    |\n",
            "|2  |[{chunk, 36, 48, Oct 22 , 2024, {chunk -> 0, confidence -> 0.99427503, ner_source -> ner_chunk, entity -> REPLACED_DATE, sentence -> 0}, []}]                                                                                                                                                                                                                                                                                                                                                                                                                                                                                                                                                                                                                                    |\n",
            "|3  |[{chunk, 0, 5, Oct 22, {chunk -> 0, confidence -> 0.98935, ner_source -> ner_chunk, entity -> DATE, sentence -> 0}, []}, {chunk, 20, 31, Faisal Akbar, {chunk -> 1, confidence -> 0.97885, ner_source -> ner_chunk, entity -> NAME, sentence -> 0}, []}]                                                                                                                                                                                                                                                                                                                                                                                                                                                                                                                         |\n",
            "|4  |[{chunk, 29, 44, Navkiranjit Gill, {chunk -> 0, confidence -> 0.99590003, ner_source -> ner_chunk, entity -> NAME, sentence -> 0}, []}, {chunk, 55, 64, 10/22/2024, {chunk -> 1, confidence -> 1.0, ner_source -> ner_chunk, entity -> DATE, sentence -> 0}, []}]                                                                                                                                                                                                                                                                                                                                                                                                                                                                                                                |\n",
            "|5  |[{chunk, 29, 42, KHANH T NGUYEN, {chunk -> 0, confidence -> 0.74293333, ner_source -> ner_chunk, entity -> NAME, sentence -> 0}, []}, {chunk, 44, 56, Oct 22 , 2024, {chunk -> 1, confidence -> 0.9912, ner_source -> ner_chunk, entity -> DATE, sentence -> 0}, []}, {chunk, 94, 105, KHANH NGUYEN, {chunk -> 2, confidence -> 0.99785, ner_source -> ner_chunk, entity -> NAME, sentence -> 0}, []}, {chunk, 118, 127, 10/22/2024, {chunk -> 3, confidence -> 1.0, ner_source -> ner_chunk, entity -> DATE, sentence -> 0}, []}]                                                                                                                                                                                                                                               |\n",
            "|6  |[{chunk, 16, 31, KHANH T . NGUYEN, {chunk -> 0, confidence -> 0.92255, ner_source -> ner_chunk, entity -> NAME, sentence -> 0}, []}, {chunk, 36, 48, Oct 22 , 2024, {chunk -> 1, confidence -> 0.99332505, ner_source -> ner_chunk, entity -> DATE, sentence -> 0}, []}]                                                                                                                                                                                                                                                                                                                                                                                                                                                                                                         |\n",
            "|7  |[{chunk, 43, 58, KHANH T . NGUYEN, {chunk -> 0, confidence -> 0.95052505, ner_source -> ner_chunk, entity -> NAME, sentence -> 0}, []}, {chunk, 63, 75, Oct 22 , 2024, {chunk -> 1, confidence -> 0.9931, ner_source -> ner_chunk, entity -> DATE, sentence -> 0}, []}]                                                                                                                                                                                                                                                                                                                                                                                                                                                                                                          |\n",
            "|8  |[{chunk, 104, 108, Lazar, {chunk -> 0, confidence -> 0.9472, ner_source -> ner_chunk, entity -> NAME, sentence -> 0}, []}]                                                                                                                                                                                                                                                                                                                                                                                                                                                                                                                                                                                                                                                       |\n",
            "|9  |[{chunk, 20, 25, SOHNEN, {chunk -> 0, confidence -> 0.9973, ner_source -> ner_chunk, entity -> NAME, sentence -> 0}, []}]                                                                                                                                                                                                                                                                                                                                                                                                                                                                                                                                                                                                                                                        |\n",
            "|10 |[{chunk, 13, 27, PEET , RODNEY W, {chunk -> 0, confidence -> 0.762425, ner_source -> ner_chunk, entity -> NAME, sentence -> 0}, []}, {chunk, 41, 45, 24509, {chunk -> 1, confidence -> 0.8602, ner_source -> ner_chunk, entity -> CONTACT, sentence -> 0}, []}, {chunk, 64, 77, CATER , GEORGE, {chunk -> 2, confidence -> 0.6546, ner_source -> ner_chunk, entity -> NAME, sentence -> 0}, []}, {chunk, 83, 91, 980615798, {chunk -> 3, confidence -> 0.9994, ner_source -> ner_chunk, entity -> ID, sentence -> 0}, []}, {chunk, 105, 115, 10/Oct/2024, {chunk -> 4, confidence -> 1.0, ner_source -> ner_chunk, entity -> DATE, sentence -> 0}, []}, {chunk, 151, 156, GEORGE, {chunk -> 5, confidence -> 0.497, ner_source -> ner_chunk, entity -> NAME, sentence -> 0}, []}]|\n",
            "|11 |[{chunk, 30, 41, David Liddle, {chunk -> 0, confidence -> 0.98300004, ner_source -> ner_chunk, entity -> NAME, sentence -> 0}, []}, {chunk, 46, 56, 18-Oct-2024, {chunk -> 1, confidence -> 1.0, ner_source -> ner_chunk, entity -> DATE, sentence -> 0}, []}]                                                                                                                                                                                                                                                                                                                                                                                                                                                                                                                   |\n",
            "|12 |[{chunk, 20, 24, Lee M, {chunk -> 0, confidence -> 0.8565, ner_source -> ner_chunk, entity -> NAME, sentence -> 0}, []}]                                                                                                                                                                                                                                                                                                                                                                                                                                                                                                                                                                                                                                                         |\n",
            "|13 |[{chunk, 15, 34, VANCHERI , THERESA L, {chunk -> 0, confidence -> 0.8407, ner_source -> ner_chunk, entity -> NAME, sentence -> 0}, []}, {chunk, 52, 61, 10-22-2024, {chunk -> 1, confidence -> 0.9998, ner_source -> ner_chunk, entity -> DATE, sentence -> 0}, []}]                                                                                                                                                                                                                                                                                                                                                                                                                                                                                                             |\n",
            "+---+---------------------------------------------------------------------------------------------------------------------------------------------------------------------------------------------------------------------------------------------------------------------------------------------------------------------------------------------------------------------------------------------------------------------------------------------------------------------------------------------------------------------------------------------------------------------------------------------------------------------------------------------------------------------------------------------------------------------------------------------------------------------------------+\n",
            "\n"
          ]
        }
      ]
    },
    {
      "cell_type": "code",
      "source": [
        "flattener = (\n",
        "    medical.Flattener()\n",
        "    .setInputCols(\"ner_chunk\", \"updated_chunk\")\n",
        "    .setExplodeSelectedFields({\"ner_chunk\": [\"result as ner_chunk\",\n",
        "                                             \"begin as begin\",\n",
        "                                             \"end as end\",\n",
        "                                             \"metadata.entity as entity\"],\n",
        "                               \"updated_chunk\": [\"result as updated_chunk\",\n",
        "                                             \"begin as updated_begin\",\n",
        "                                             \"end as updated_end\",\n",
        "                                             \"metadata.entity as updated_entity\"]\n",
        "                               })\n",
        "    .setKeepOriginalColumns([\"id\"])\n",
        ")\n",
        "\n",
        "flattener.transform(result_df).show(truncate=False)"
      ],
      "metadata": {
        "colab": {
          "base_uri": "https://localhost:8080/"
        },
        "id": "T9Zu9gbE4Xrl",
        "outputId": "34093c88-2dda-45cf-884f-23be15290f2e"
      },
      "execution_count": null,
      "outputs": [
        {
          "output_type": "stream",
          "name": "stdout",
          "text": [
            "+----------------+-----+---+-------+----------------+-------------+-----------+--------------+---+\n",
            "|ner_chunk       |begin|end|entity |updated_chunk   |updated_begin|updated_end|updated_entity|id |\n",
            "+----------------+-----+---+-------+----------------+-------------+-----------+--------------+---+\n",
            "|Oct 22 , 2024   |13   |25 |DATE   |Oct 22 , 2024   |13           |25         |REPLACED_DATE |1  |\n",
            "|Oct 22 , 2024   |36   |48 |DATE   |Oct 22 , 2024   |36           |48         |REPLACED_DATE |2  |\n",
            "|Oct 22          |0    |5  |DATE   |Oct 22          |0            |5          |DATE          |3  |\n",
            "|Faisal Akbar    |20   |31 |NAME   |Faisal Akbar    |20           |31         |NAME          |3  |\n",
            "|Navkiranjit Gill|29   |44 |NAME   |Navkiranjit Gill|29           |44         |NAME          |4  |\n",
            "|10/22/2024      |55   |64 |DATE   |10/22/2024      |55           |64         |DATE          |4  |\n",
            "|KHANH T NGUYEN  |29   |42 |NAME   |KHANH T NGUYEN  |29           |42         |NAME          |5  |\n",
            "|Oct 22 , 2024   |44   |56 |DATE   |Oct 22 , 2024   |44           |56         |DATE          |5  |\n",
            "|KHANH NGUYEN    |94   |105|NAME   |KHANH NGUYEN    |94           |105        |NAME          |5  |\n",
            "|10/22/2024      |118  |127|DATE   |10/22/2024      |118          |127        |DATE          |5  |\n",
            "|KHANH T . NGUYEN|16   |31 |NAME   |KHANH T . NGUYEN|16           |31         |NAME          |6  |\n",
            "|Oct 22 , 2024   |36   |48 |DATE   |Oct 22 , 2024   |36           |48         |DATE          |6  |\n",
            "|KHANH T . NGUYEN|43   |58 |NAME   |KHANH T . NGUYEN|43           |58         |NAME          |7  |\n",
            "|Oct 22 , 2024   |63   |75 |DATE   |Oct 22 , 2024   |63           |75         |DATE          |7  |\n",
            "|Lazar           |104  |108|NAME   |Lazar           |104          |108        |NAME          |8  |\n",
            "|SOHNEN          |20   |25 |NAME   |SOHNEN          |20           |25         |NAME          |9  |\n",
            "|PEET , RODNEY W |13   |27 |NAME   |PEET , RODNEY W |13           |27         |NAME          |10 |\n",
            "|24509           |41   |45 |CONTACT|24509           |41           |45         |CONTACT       |10 |\n",
            "|CATER , GEORGE  |64   |77 |NAME   |CATER , GEORGE  |64           |77         |NAME          |10 |\n",
            "|980615798       |83   |91 |ID     |980615798       |83           |91         |ID            |10 |\n",
            "+----------------+-----+---+-------+----------------+-------------+-----------+--------------+---+\n",
            "only showing top 20 rows\n",
            "\n"
          ]
        }
      ]
    },
    {
      "cell_type": "code",
      "source": [
        "json_rules = \"\"\"\n",
        "[\n",
        "  {\n",
        "    \"entity\": \"DATE\",\n",
        "    \"scopeWindow\": [5, 5],\n",
        "    \"scopeWindowLevel\": \"token\",\n",
        "    \"prefixPatterns\": [\"Performed On\", \"Created On :\"],\n",
        "    \"replaceEntity\": \"REPLACED_DATE\",\n",
        "    \"mode\": \"include\"\n",
        "  },\n",
        "  {\n",
        "    \"entity\": \"DOCTOR\",\n",
        "    \"scopeWindow\": [5, 5],\n",
        "    \"scopeWindowLevel\": \"token\",\n",
        "    \"suffixRegexes\": [\"D.O.\", \"M.A\"],\n",
        "    \"replaceEntity\": \"REPLACED_DOCTOR\",\n",
        "    \"mode\": \"include\"\n",
        "  }\n",
        "]\n",
        "\"\"\"\n",
        "\n",
        "contextual_entity_ruler = medical.ContextualEntityRuler() \\\n",
        "    .setInputCols([\"document\", \"token\", \"ner_chunk\"]) \\\n",
        "    .setOutputCol(\"updated_chunk\") \\\n",
        "    .setRulesAsStr(json_rules) \\\n",
        "    .setCaseSensitive(False) \\\n",
        "    .setAllowPunctuationInBetween(True) \\\n",
        "    .setDropEmptyChunks(False) \\\n",
        "    .setAllowTokensInBetween(True)\n",
        "\n",
        "# Pipeline tanımlanıyor\n",
        "pipeline = nlp.Pipeline().setStages([\n",
        "    document_assembler,\n",
        "    tokenizer,\n",
        "    word_embeddings,\n",
        "    ner,\n",
        "    ner_converter,\n",
        "    contextual_entity_ruler\n",
        "])\n",
        "\n",
        "# Pipeline uygulanıyor\n",
        "model = pipeline.fit(text_df)\n",
        "result_df = model.transform(text_df).cache()"
      ],
      "metadata": {
        "id": "4fgoYbrC6FZ7"
      },
      "execution_count": null,
      "outputs": []
    },
    {
      "cell_type": "code",
      "source": [
        "result_df.select(\"id\", \"ner_chunk\").show(truncate=False)\n",
        "result_df.select(\"id\", \"updated_chunk\").show(truncate=False)"
      ],
      "metadata": {
        "colab": {
          "base_uri": "https://localhost:8080/"
        },
        "id": "zE7BXtnf6RyW",
        "outputId": "e54e4282-e803-492c-cf4e-88bb2bb1e2e1"
      },
      "execution_count": null,
      "outputs": [
        {
          "output_type": "stream",
          "name": "stdout",
          "text": [
            "+---+----------------------------------------------------------------------------------------------------------------------------------------------------------------------------------------------------------------------------------------------------------------------------------------------------------------------------------------------------------------------------------------------------------------------------------------------------------------------------------------------------------------------------------------------------------------------------------------------------------------------------------------------------------------------------+\n",
            "|id |ner_chunk                                                                                                                                                                                                                                                                                                                                                                                                                                                                                                                                                                                                                                                                   |\n",
            "+---+----------------------------------------------------------------------------------------------------------------------------------------------------------------------------------------------------------------------------------------------------------------------------------------------------------------------------------------------------------------------------------------------------------------------------------------------------------------------------------------------------------------------------------------------------------------------------------------------------------------------------------------------------------------------------+\n",
            "|1  |[{chunk, 13, 25, Oct 22 , 2024, {entity -> DATE, confidence -> 0.99909997, ner_source -> ner_chunk, chunk -> 0, sentence -> 0}, []}]                                                                                                                                                                                                                                                                                                                                                                                                                                                                                                                                        |\n",
            "|2  |[{chunk, 36, 48, Oct 22 , 2024, {entity -> DATE, confidence -> 0.9992, ner_source -> ner_chunk, chunk -> 0, sentence -> 0}, []}]                                                                                                                                                                                                                                                                                                                                                                                                                                                                                                                                            |\n",
            "|3  |[{chunk, 0, 5, Oct 22, {entity -> DATE, confidence -> 0.9824, ner_source -> ner_chunk, chunk -> 0, sentence -> 0}, []}, {chunk, 20, 31, Faisal Akbar, {entity -> DOCTOR, confidence -> 0.9896, ner_source -> ner_chunk, chunk -> 1, sentence -> 0}, []}]                                                                                                                                                                                                                                                                                                                                                                                                                    |\n",
            "|4  |[{chunk, 29, 44, Navkiranjit Gill, {entity -> DOCTOR, confidence -> 0.99829996, ner_source -> ner_chunk, chunk -> 0, sentence -> 0}, []}, {chunk, 55, 64, 10/22/2024, {entity -> DATE, confidence -> 1.0, ner_source -> ner_chunk, chunk -> 1, sentence -> 0}, []}]                                                                                                                                                                                                                                                                                                                                                                                                         |\n",
            "|5  |[{chunk, 29, 33, KHANH, {entity -> HOSPITAL, confidence -> 0.9997, ner_source -> ner_chunk, chunk -> 0, sentence -> 0}, []}, {chunk, 35, 35, T, {entity -> DOCTOR, confidence -> 0.9325, ner_source -> ner_chunk, chunk -> 1, sentence -> 0}, []}, {chunk, 44, 56, Oct 22 , 2024, {entity -> DATE, confidence -> 0.99797505, ner_source -> ner_chunk, chunk -> 2, sentence -> 0}, []}, {chunk, 94, 105, KHANH NGUYEN, {entity -> DOCTOR, confidence -> 0.9791, ner_source -> ner_chunk, chunk -> 3, sentence -> 0}, []}, {chunk, 118, 127, 10/22/2024, {entity -> DATE, confidence -> 1.0, ner_source -> ner_chunk, chunk -> 4, sentence -> 0}, []}]                        |\n",
            "|6  |[{chunk, 16, 31, KHANH T . NGUYEN, {entity -> DOCTOR, confidence -> 0.98797494, ner_source -> ner_chunk, chunk -> 0, sentence -> 0}, []}, {chunk, 36, 48, Oct 22 , 2024, {entity -> DATE, confidence -> 0.99932504, ner_source -> ner_chunk, chunk -> 1, sentence -> 0}, []}]                                                                                                                                                                                                                                                                                                                                                                                               |\n",
            "|7  |[{chunk, 43, 47, KHANH, {entity -> HOSPITAL, confidence -> 0.9919, ner_source -> ner_chunk, chunk -> 0, sentence -> 0}, []}, {chunk, 49, 58, T . NGUYEN, {entity -> DOCTOR, confidence -> 0.9846, ner_source -> ner_chunk, chunk -> 1, sentence -> 0}, []}, {chunk, 63, 75, Oct 22 , 2024, {entity -> DATE, confidence -> 0.99895, ner_source -> ner_chunk, chunk -> 2, sentence -> 0}, []}]                                                                                                                                                                                                                                                                                |\n",
            "|8  |[{chunk, 104, 108, Lazar, {entity -> DOCTOR, confidence -> 1.0, ner_source -> ner_chunk, chunk -> 0, sentence -> 0}, []}]                                                                                                                                                                                                                                                                                                                                                                                                                                                                                                                                                   |\n",
            "|9  |[{chunk, 20, 25, SOHNEN, {entity -> DOCTOR, confidence -> 0.9299, ner_source -> ner_chunk, chunk -> 0, sentence -> 0}, []}]                                                                                                                                                                                                                                                                                                                                                                                                                                                                                                                                                 |\n",
            "|10 |[{chunk, 13, 27, PEET , RODNEY W, {entity -> PATIENT, confidence -> 0.86027503, ner_source -> ner_chunk, chunk -> 0, sentence -> 0}, []}, {chunk, 41, 45, 24509, {entity -> MEDICALRECORD, confidence -> 0.9943, ner_source -> ner_chunk, chunk -> 1, sentence -> 0}, []}, {chunk, 72, 77, GEORGE, {entity -> USERNAME, confidence -> 0.9333, ner_source -> ner_chunk, chunk -> 2, sentence -> 0}, []}, {chunk, 83, 91, 980615798, {entity -> MEDICALRECORD, confidence -> 0.9991, ner_source -> ner_chunk, chunk -> 3, sentence -> 0}, []}, {chunk, 105, 115, 10/Oct/2024, {entity -> DATE, confidence -> 0.9901, ner_source -> ner_chunk, chunk -> 4, sentence -> 0}, []}]|\n",
            "|11 |[{chunk, 30, 41, David Liddle, {entity -> DOCTOR, confidence -> 0.98615, ner_source -> ner_chunk, chunk -> 0, sentence -> 0}, []}, {chunk, 46, 56, 18-Oct-2024, {entity -> DATE, confidence -> 0.9995, ner_source -> ner_chunk, chunk -> 1, sentence -> 0}, []}]                                                                                                                                                                                                                                                                                                                                                                                                            |\n",
            "|12 |[{chunk, 20, 26, Lee M ., {entity -> DOCTOR, confidence -> 0.75766665, ner_source -> ner_chunk, chunk -> 0, sentence -> 0}, []}]                                                                                                                                                                                                                                                                                                                                                                                                                                                                                                                                            |\n",
            "|13 |[{chunk, 15, 34, VANCHERI , THERESA L, {entity -> PATIENT, confidence -> 0.96669996, ner_source -> ner_chunk, chunk -> 0, sentence -> 0}, []}, {chunk, 52, 61, 10-22-2024, {entity -> DATE, confidence -> 0.9994, ner_source -> ner_chunk, chunk -> 1, sentence -> 0}, []}]                                                                                                                                                                                                                                                                                                                                                                                                 |\n",
            "+---+----------------------------------------------------------------------------------------------------------------------------------------------------------------------------------------------------------------------------------------------------------------------------------------------------------------------------------------------------------------------------------------------------------------------------------------------------------------------------------------------------------------------------------------------------------------------------------------------------------------------------------------------------------------------------+\n",
            "\n",
            "+---+----------------------------------------------------------------------------------------------------------------------------------------------------------------------------------------------------------------------------------------------------------------------------------------------------------------------------------------------------------------------------------------------------------------------------------------------------------------------------------------------------------------------------------------------------------------------------------------------------------------------------------------------------------------------------+\n",
            "|id |updated_chunk                                                                                                                                                                                                                                                                                                                                                                                                                                                                                                                                                                                                                                                               |\n",
            "+---+----------------------------------------------------------------------------------------------------------------------------------------------------------------------------------------------------------------------------------------------------------------------------------------------------------------------------------------------------------------------------------------------------------------------------------------------------------------------------------------------------------------------------------------------------------------------------------------------------------------------------------------------------------------------------+\n",
            "|1  |[{chunk, 13, 25, Oct 22 , 2024, {chunk -> 0, confidence -> 0.99909997, ner_source -> ner_chunk, entity -> DATE, sentence -> 0}, []}]                                                                                                                                                                                                                                                                                                                                                                                                                                                                                                                                        |\n",
            "|2  |[{chunk, 36, 48, Oct 22 , 2024, {chunk -> 0, confidence -> 0.9992, ner_source -> ner_chunk, entity -> DATE, sentence -> 0}, []}]                                                                                                                                                                                                                                                                                                                                                                                                                                                                                                                                            |\n",
            "|3  |[{chunk, 0, 5, Oct 22, {chunk -> 0, confidence -> 0.9824, ner_source -> ner_chunk, entity -> DATE, sentence -> 0}, []}, {chunk, 20, 31, Faisal Akbar, {chunk -> 1, confidence -> 0.9896, ner_source -> ner_chunk, entity -> DOCTOR, sentence -> 0}, []}]                                                                                                                                                                                                                                                                                                                                                                                                                    |\n",
            "|4  |[{chunk, 29, 50, Navkiranjit Gill, D.O., {chunk -> 0, confidence -> 0.99829996, ner_source -> ner_chunk, entity -> REPLACED_DOCTOR, sentence -> 0}, []}, {chunk, 55, 64, 10/22/2024, {chunk -> 1, confidence -> 1.0, ner_source -> ner_chunk, entity -> DATE, sentence -> 0}, []}]                                                                                                                                                                                                                                                                                                                                                                                          |\n",
            "|5  |[{chunk, 29, 33, KHANH, {chunk -> 0, confidence -> 0.9997, ner_source -> ner_chunk, entity -> HOSPITAL, sentence -> 0}, []}, {chunk, 35, 35, T, {chunk -> 1, confidence -> 0.9325, ner_source -> ner_chunk, entity -> DOCTOR, sentence -> 0}, []}, {chunk, 44, 56, Oct 22 , 2024, {chunk -> 2, confidence -> 0.99797505, ner_source -> ner_chunk, entity -> DATE, sentence -> 0}, []}, {chunk, 94, 105, KHANH NGUYEN, {chunk -> 3, confidence -> 0.9791, ner_source -> ner_chunk, entity -> DOCTOR, sentence -> 0}, []}, {chunk, 118, 127, 10/22/2024, {chunk -> 4, confidence -> 1.0, ner_source -> ner_chunk, entity -> DATE, sentence -> 0}, []}]                        |\n",
            "|6  |[{chunk, 16, 31, KHANH T . NGUYEN, {chunk -> 0, confidence -> 0.98797494, ner_source -> ner_chunk, entity -> DOCTOR, sentence -> 0}, []}, {chunk, 36, 48, Oct 22 , 2024, {chunk -> 1, confidence -> 0.99932504, ner_source -> ner_chunk, entity -> DATE, sentence -> 0}, []}]                                                                                                                                                                                                                                                                                                                                                                                               |\n",
            "|7  |[{chunk, 43, 47, KHANH, {chunk -> 0, confidence -> 0.9919, ner_source -> ner_chunk, entity -> HOSPITAL, sentence -> 0}, []}, {chunk, 49, 58, T . NGUYEN, {chunk -> 1, confidence -> 0.9846, ner_source -> ner_chunk, entity -> DOCTOR, sentence -> 0}, []}, {chunk, 63, 75, Oct 22 , 2024, {chunk -> 2, confidence -> 0.99895, ner_source -> ner_chunk, entity -> DATE, sentence -> 0}, []}]                                                                                                                                                                                                                                                                                |\n",
            "|8  |[{chunk, 104, 108, Lazar, {chunk -> 0, confidence -> 1.0, ner_source -> ner_chunk, entity -> DOCTOR, sentence -> 0}, []}]                                                                                                                                                                                                                                                                                                                                                                                                                                                                                                                                                   |\n",
            "|9  |[{chunk, 20, 25, SOHNEN, {chunk -> 0, confidence -> 0.9299, ner_source -> ner_chunk, entity -> DOCTOR, sentence -> 0}, []}]                                                                                                                                                                                                                                                                                                                                                                                                                                                                                                                                                 |\n",
            "|10 |[{chunk, 13, 27, PEET , RODNEY W, {chunk -> 0, confidence -> 0.86027503, ner_source -> ner_chunk, entity -> PATIENT, sentence -> 0}, []}, {chunk, 41, 45, 24509, {chunk -> 1, confidence -> 0.9943, ner_source -> ner_chunk, entity -> MEDICALRECORD, sentence -> 0}, []}, {chunk, 72, 77, GEORGE, {chunk -> 2, confidence -> 0.9333, ner_source -> ner_chunk, entity -> USERNAME, sentence -> 0}, []}, {chunk, 83, 91, 980615798, {chunk -> 3, confidence -> 0.9991, ner_source -> ner_chunk, entity -> MEDICALRECORD, sentence -> 0}, []}, {chunk, 105, 115, 10/Oct/2024, {chunk -> 4, confidence -> 0.9901, ner_source -> ner_chunk, entity -> DATE, sentence -> 0}, []}]|\n",
            "|11 |[{chunk, 30, 41, David Liddle, {chunk -> 0, confidence -> 0.98615, ner_source -> ner_chunk, entity -> DOCTOR, sentence -> 0}, []}, {chunk, 46, 56, 18-Oct-2024, {chunk -> 1, confidence -> 0.9995, ner_source -> ner_chunk, entity -> DATE, sentence -> 0}, []}]                                                                                                                                                                                                                                                                                                                                                                                                            |\n",
            "|12 |[{chunk, 20, 26, Lee M ., {chunk -> 0, confidence -> 0.75766665, ner_source -> ner_chunk, entity -> DOCTOR, sentence -> 0}, []}]                                                                                                                                                                                                                                                                                                                                                                                                                                                                                                                                            |\n",
            "|13 |[{chunk, 15, 34, VANCHERI , THERESA L, {chunk -> 0, confidence -> 0.96669996, ner_source -> ner_chunk, entity -> PATIENT, sentence -> 0}, []}, {chunk, 52, 61, 10-22-2024, {chunk -> 1, confidence -> 0.9994, ner_source -> ner_chunk, entity -> DATE, sentence -> 0}, []}]                                                                                                                                                                                                                                                                                                                                                                                                 |\n",
            "+---+----------------------------------------------------------------------------------------------------------------------------------------------------------------------------------------------------------------------------------------------------------------------------------------------------------------------------------------------------------------------------------------------------------------------------------------------------------------------------------------------------------------------------------------------------------------------------------------------------------------------------------------------------------------------------+\n",
            "\n"
          ]
        }
      ]
    },
    {
      "cell_type": "code",
      "source": [
        "flattener = (\n",
        "    medical.Flattener()\n",
        "    .setInputCols(\"ner_chunk\", \"updated_chunk\")\n",
        "    .setExplodeSelectedFields({\"ner_chunk\": [\"result as ner_chunk\",\n",
        "                                             \"begin as begin\",\n",
        "                                             \"end as end\",\n",
        "                                             \"metadata.entity as entity\"],\n",
        "                               \"updated_chunk\": [\"result as updated_chunk\",\n",
        "                                             \"begin as updated_begin\",\n",
        "                                             \"end as updated_end\",\n",
        "                                             \"metadata.entity as updated_entity\"]\n",
        "                               })\n",
        "    .setKeepOriginalColumns([\"id\"])\n",
        ")\n",
        "\n",
        "flattener.transform(result_df).show(truncate=False)"
      ],
      "metadata": {
        "colab": {
          "base_uri": "https://localhost:8080/"
        },
        "id": "BAHR2mWv6VXG",
        "outputId": "46279b6d-09c4-4cdd-f707-3991a09b5149"
      },
      "execution_count": null,
      "outputs": [
        {
          "output_type": "stream",
          "name": "stdout",
          "text": [
            "+----------------+-----+---+-------------+----------------------+-------------+-----------+---------------+---+\n",
            "|ner_chunk       |begin|end|entity       |updated_chunk         |updated_begin|updated_end|updated_entity |id |\n",
            "+----------------+-----+---+-------------+----------------------+-------------+-----------+---------------+---+\n",
            "|Oct 22 , 2024   |13   |25 |DATE         |Oct 22 , 2024         |13           |25         |DATE           |1  |\n",
            "|Oct 22 , 2024   |36   |48 |DATE         |Oct 22 , 2024         |36           |48         |DATE           |2  |\n",
            "|Oct 22          |0    |5  |DATE         |Oct 22                |0            |5          |DATE           |3  |\n",
            "|Faisal Akbar    |20   |31 |DOCTOR       |Faisal Akbar          |20           |31         |DOCTOR         |3  |\n",
            "|Navkiranjit Gill|29   |44 |DOCTOR       |Navkiranjit Gill, D.O.|29           |50         |REPLACED_DOCTOR|4  |\n",
            "|10/22/2024      |55   |64 |DATE         |10/22/2024            |55           |64         |DATE           |4  |\n",
            "|KHANH           |29   |33 |HOSPITAL     |KHANH                 |29           |33         |HOSPITAL       |5  |\n",
            "|T               |35   |35 |DOCTOR       |T                     |35           |35         |DOCTOR         |5  |\n",
            "|Oct 22 , 2024   |44   |56 |DATE         |Oct 22 , 2024         |44           |56         |DATE           |5  |\n",
            "|KHANH NGUYEN    |94   |105|DOCTOR       |KHANH NGUYEN          |94           |105        |DOCTOR         |5  |\n",
            "|10/22/2024      |118  |127|DATE         |10/22/2024            |118          |127        |DATE           |5  |\n",
            "|KHANH T . NGUYEN|16   |31 |DOCTOR       |KHANH T . NGUYEN      |16           |31         |DOCTOR         |6  |\n",
            "|Oct 22 , 2024   |36   |48 |DATE         |Oct 22 , 2024         |36           |48         |DATE           |6  |\n",
            "|KHANH           |43   |47 |HOSPITAL     |KHANH                 |43           |47         |HOSPITAL       |7  |\n",
            "|T . NGUYEN      |49   |58 |DOCTOR       |T . NGUYEN            |49           |58         |DOCTOR         |7  |\n",
            "|Oct 22 , 2024   |63   |75 |DATE         |Oct 22 , 2024         |63           |75         |DATE           |7  |\n",
            "|Lazar           |104  |108|DOCTOR       |Lazar                 |104          |108        |DOCTOR         |8  |\n",
            "|SOHNEN          |20   |25 |DOCTOR       |SOHNEN                |20           |25         |DOCTOR         |9  |\n",
            "|PEET , RODNEY W |13   |27 |PATIENT      |PEET , RODNEY W       |13           |27         |PATIENT        |10 |\n",
            "|24509           |41   |45 |MEDICALRECORD|24509                 |41           |45         |MEDICALRECORD  |10 |\n",
            "+----------------+-----+---+-------------+----------------------+-------------+-----------+---------------+---+\n",
            "only showing top 20 rows\n",
            "\n"
          ]
        }
      ]
    }
  ],
  "metadata": {
    "colab": {
      "machine_shape": "hm",
      "provenance": []
    },
    "kernelspec": {
      "display_name": "Python 3",
      "name": "python3"
    },
    "language_info": {
      "name": "python"
    }
  },
  "nbformat": 4,
  "nbformat_minor": 0
}
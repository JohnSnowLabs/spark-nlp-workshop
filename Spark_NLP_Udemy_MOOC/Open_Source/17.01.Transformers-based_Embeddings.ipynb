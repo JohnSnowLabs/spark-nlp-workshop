{
  "cells": [
    {
      "attachments": {},
      "cell_type": "markdown",
      "metadata": {
        "id": "MmLG_sPH48Kc"
      },
      "source": [
        "![JohnSnowLabs](https://nlp.johnsnowlabs.com/assets/images/logo.png)"
      ]
    },
    {
      "attachments": {},
      "cell_type": "markdown",
      "metadata": {},
      "source": [
        "[![Open In Colab](https://colab.research.google.com/assets/colab-badge.svg)](https://colab.research.google.com/github/JohnSnowLabs/spark-nlp-workshop/blob/master/Spark_NLP_Udemy_MOOC/Open_Source/17.01.Transformers-based_Embeddings.ipynb)"
      ]
    },
    {
      "attachments": {},
      "cell_type": "markdown",
      "metadata": {
        "id": "CsYBvsPw1Jcq"
      },
      "source": [
        "# **Transformers-Based Embeddings**"
      ]
    },
    {
      "attachments": {},
      "cell_type": "markdown",
      "metadata": {
        "id": "FiLtgEbRombh"
      },
      "source": [
        "This notebook will cover the different parameters and usages of Transformers-Based Embeddings. \n",
        "\n",
        "**📖 Learning Objectives:**\n",
        "\n",
        "1. Be able to create a pipeline for embeddings using a Transformers-bases annotator.\n",
        "\n",
        "2. Understand how to use the annotators for predictions.\n",
        "\n",
        "3. Become comfortable using the different parameters of the annotator.\n",
        "\n",
        "4. Import Transformers models from Hugging Face to Spark NLP.\n",
        "\n",
        "\n"
      ]
    },
    {
      "attachments": {},
      "cell_type": "markdown",
      "metadata": {
        "id": "ZdkkSZ14Wr7J"
      },
      "source": [
        "**🔗 Helpful Links:**\n",
        "\n",
        "- Documentaion : [Transformers in Spark NLP](https://nlp.johnsnowlabs.com/docs/en/transformers)\n",
        "\n",
        "\n",
        "- Python Doc : [BertEmbeddings](https://nlp.johnsnowlabs.com/api/python/reference/autosummary/sparknlp/annotator/embeddings/bert_embeddings/index.html)\n",
        "\n",
        "\n",
        "- Scala Doc : [BertEmbeddings](https://nlp.johnsnowlabs.com/api/com/johnsnowlabs/nlp/embeddings/BertEmbeddings.html)\n",
        "\n",
        "- For extended examples of usage, see the [Spark NLP Workshop Repository](https://colab.research.google.com/github/JohnSnowLabs/spark-nlp-workshop/blob/master/tutorials/Certification_Trainings/Public/3.SparkNLP_Pretrained_Models.ipynb#scrollTo=LnPg4AgLwgXc)"
      ]
    },
    {
      "attachments": {},
      "cell_type": "markdown",
      "metadata": {
        "id": "M8sxOkvqp7V5"
      },
      "source": [
        "## **Transformers and Spark NLP**\n",
        "\n",
        "- Token-level embeddings using different transformers based architecture that provides dense vector representations for natural language by using a deep, pre-trained neural network with the Transformer architecture.\n",
        "\n",
        "- Pretrained models can be loaded with `pretrained()` of the companion object.\n"
      ]
    },
    {
      "attachments": {},
      "cell_type": "markdown",
      "metadata": {
        "id": "jW88TT9R9-Fq"
      },
      "source": [
        "Spark NLP has extended support for `HuggingFace` 🤗   and `TF Hub` exported models since `3.1.0` to Spark NLP 🚀 annotators. You can easily use the `saved_model` feature in HuggingFace within a few lines of codes and import any of the following types of models into Spark NLP.\n",
        "\n",
        "<div align=\"center\">\n",
        "\n",
        "| **Architect** | **Embeddins**        |\n",
        "|---------------|----------------------|\n",
        "| Albert        | AlbertEmbeddings     |\n",
        "| BERT          | BertEmbeddings       |\n",
        "| CamemBERT     | CamemBertEmbeddings  |\n",
        "| DeBERTa       | DeBertaEmbeddings    |\n",
        "| DistilBERT    | DistilBertEmbeddings |\n",
        "| Elmo          | ElmoEmbeddings       |\n",
        "| Longformer    | LongformerEmbeddings |\n",
        "| RoBERTa       | RoBertaEmbeddings    |\n",
        "| XLM-RoBERTa   | XlmRoBertaEmbeddings |\n",
        "| Xlnet         | XlnetEmbeddings      |\n",
        "\n",
        "</div>\n",
        "\n",
        "\n",
        "\n",
        "> We will keep working on the remaining annotators and extend this support to aditional Transformers models. To keep updated, visit [this page](https://github.com/JohnSnowLabs/spark-nlp/discussions/5669) on compatibility and development of the adaptations of TF Hub and  HuggingFace to Spark NLP. Keep tuned for the next releases."
      ]
    },
    {
      "attachments": {},
      "cell_type": "markdown",
      "metadata": {
        "id": "2Cuu5t08zskB"
      },
      "source": [
        "## **Embeddings**\n",
        "\n",
        "\n",
        "As mentioned above, we already have implemented many different Transformers models in Spark NLP, and specifically for embeddings we have all the versions of **`Embeddings`**, where can be any of:\n",
        "\n",
        "- `BERT` ([BERT: Pre-training of Deep Bidirectional Transformers for Language Understanding](https://arxiv.org/abs/1810.04805), Jacob Devlin et al.): Randomly changes input texts (for example, 15% of them) with _MASKS_ or random tokens in order to learn a language model. Given two sentences, the learning process makes two tasks: \n",
        "    - Predict the sentences by correctly replacing the wrong tokens.\n",
        "    - Predict if the sentences are consecutive or not.\n",
        "\n",
        "\n",
        "- `ALBERT` ([ALBERT: A Lite BERT for Self-supervised Learning of Language Representations](https://arxiv.org/abs/1909.11942), Zhenzhong Lan et al.): Same as Bert, with changes in some hyperparameters that optimizes memomy usage. The training phase instead of predicting if the two sentences are consecutive, now they predict if they were swapped or not (two consecutive sentences are input, model predict if they were given in the correct order or not).\n",
        "\n",
        "- `CamemBERT` ([CamemBERT: a Tasty French Language Model](https://arxiv.org/abs/1911.03894), Louis Martin et al.): Based on RoBerta model, trained with French dataset.\n",
        "\n",
        "- `DeBERTa` ([DeBERTa: Decoding-enhanced BERT with Disentangled Attention](https://arxiv.org/abs/2006.03654)): Decoding-enhanced BERT with Disentangled Attention by Pengcheng He, Xiaodong Liu, Jianfeng Gao, Weizhu Chen It is based on Google’s BERT model released in 2018 and Facebook’s RoBERTa model released in 2019.\n",
        "\n",
        "- `DistilBERT` ([DistilBERT, a distilled version of BERT: smaller, faster, cheaper and lighter](https://arxiv.org/abs/1910.01108),Victor Sanh et al.): Distilled version of Bert (model parameters were reduced by using transfer learning from big model to smaller model). \n",
        "\n",
        "\n",
        "- `Longformer` ([Longformer: The Long-Document Transformer](https://arxiv.org/abs/2004.05150), Iz Beltagy et al.): Allows the use of upt to 4096 tokens instead of the usual limit of 512. To optimize the added computational cost, replace dense matrixes by sparse representations.\n",
        "\n",
        "\n",
        "\n",
        "- `RoBERTa` ([RoBERTa: A Robustly Optimized BERT Pretraining Approach](https://arxiv.org/abs/1907.11692), Yinhan Liu et al.): Same as Bert, but with some different training methods (e.g., using dynamic masking in each epoch instead).\n",
        "\n",
        "\n",
        "\n",
        "- `XlmRoBerta` ([Unsupervised Cross-lingual Representation Learning at Scale](https://arxiv.org/abs/1911.02116), Alexis Conneau et al.): Applies the training methods from RoBerta to Xlm model. \n",
        "\n",
        "\n",
        "- `Xlnet` ([XLNet: Generalized Autoregressive Pretraining for Language Understanding](https://arxiv.org/abs/1906.08237), Zhilin Yang et al.): differently than token masking applied in Bert models, it trains the language model by permuting the tokens. \n",
        "\n",
        "\n",
        "For more details on these models and others available on HuggingFace, pelase visit the [HuggingFace documentation](https://huggingface.co/docs/transformers/model_summary)."
      ]
    },
    {
      "attachments": {},
      "cell_type": "markdown",
      "metadata": {
        "id": "KUaz3FHssyVp"
      },
      "source": [
        "## **🎬 Colab Setup**"
      ]
    },
    {
      "cell_type": "code",
      "execution_count": null,
      "metadata": {
        "id": "qXUTTKFB4oNh"
      },
      "outputs": [],
      "source": [
        "!pip install -q pyspark==3.2.1 spark-nlp==4.3.0"
      ]
    },
    {
      "cell_type": "code",
      "execution_count": null,
      "metadata": {
        "colab": {
          "base_uri": "https://localhost:8080/",
          "height": 222
        },
        "id": "AC7d9HCK5Aqh",
        "outputId": "32a99409-f6e8-4b21-f66d-f4af24f0746b"
      },
      "outputs": [
        {
          "data": {
            "text/html": [
              "\n",
              "            <div>\n",
              "                <p><b>SparkSession - in-memory</b></p>\n",
              "                \n",
              "        <div>\n",
              "            <p><b>SparkContext</b></p>\n",
              "\n",
              "            <p><a href=\"http://eedc5ffd3816:4040\">Spark UI</a></p>\n",
              "\n",
              "            <dl>\n",
              "              <dt>Version</dt>\n",
              "                <dd><code>v3.2.1</code></dd>\n",
              "              <dt>Master</dt>\n",
              "                <dd><code>local[*]</code></dd>\n",
              "              <dt>AppName</dt>\n",
              "                <dd><code>Spark NLP</code></dd>\n",
              "            </dl>\n",
              "        </div>\n",
              "        \n",
              "            </div>\n",
              "        "
            ],
            "text/plain": [
              "<pyspark.sql.session.SparkSession at 0x7fb3bd59e790>"
            ]
          },
          "execution_count": 2,
          "metadata": {},
          "output_type": "execute_result"
        }
      ],
      "source": [
        "import sparknlp\n",
        "from sparknlp.base import DocumentAssembler, EmbeddingsFinisher\n",
        "from sparknlp.annotator import Tokenizer\n",
        "\n",
        "from pyspark.ml import Pipeline\n",
        "from pyspark.sql import functions as F\n",
        "\n",
        "spark = sparknlp.start()\n",
        "spark"
      ]
    },
    {
      "attachments": {},
      "cell_type": "markdown",
      "metadata": {
        "id": "ft7AF4vVugXD"
      },
      "source": [
        "## **🖨️ Input/Output Annotation Types**\n"
      ]
    },
    {
      "attachments": {},
      "cell_type": "markdown",
      "metadata": {
        "id": "v1eM69ilujlk"
      },
      "source": [
        "\n",
        "- `Input`: DOCUMENT, TOKEN\n",
        "\n",
        "- `Output`: WORD_EMBEDDINGS"
      ]
    },
    {
      "attachments": {},
      "cell_type": "markdown",
      "metadata": {
        "id": "cWhuMJNsuye2"
      },
      "source": [
        "## **`🔎PARAMETERS:`**"
      ]
    },
    {
      "attachments": {},
      "cell_type": "markdown",
      "metadata": {
        "id": "t_0oLAG_5et-"
      },
      "source": [
        "\n",
        "`dimension`: Number of embedding dimensions, by default 768\n",
        "\n",
        "`caseSensitive`: Whether to ignore case in tokens for embeddings matching, by default False\n",
        "\n",
        "`maxSentenceLength`: Max sentence length to process, by default 128\n",
        "\n",
        "`configProtoBytes`: ConfigProto from tensorflow, serialized into byte array."
      ]
    },
    {
      "attachments": {},
      "cell_type": "markdown",
      "metadata": {
        "id": "Rfq7Hqo44-2k"
      },
      "source": [
        "## **BertEmbeddings**\n",
        "\n"
      ]
    },
    {
      "attachments": {},
      "cell_type": "markdown",
      "metadata": {
        "id": "Kzj81ON8WZ12"
      },
      "source": [
        "Token-level embeddings using BERT. BERT (Bidirectional Encoder Representations from Transformers) provides dense vector representations for natural language by using a deep, pre-trained neural network with the Transformer architecture.\n",
        "\n",
        "The default model is `small_bert_L2_768`, if no name is provided.\n",
        "\n",
        "References:\n",
        "\n",
        "[BERT: Pre-training of Deep Bidirectional Transformers for Language Understanding](https://arxiv.org/abs/1810.04805)\n",
        "\n",
        "[google-research/bert](https://github.com/google-research/bert)\n"
      ]
    },
    {
      "attachments": {},
      "cell_type": "markdown",
      "metadata": {
        "id": "RgjpKe0251LX"
      },
      "source": [
        "## 📌 Example Pipeline"
      ]
    },
    {
      "attachments": {},
      "cell_type": "markdown",
      "metadata": {
        "id": "1g1pA7t15jY2"
      },
      "source": [
        "![image.png](data:image/png;base64,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)"
      ]
    },
    {
      "cell_type": "code",
      "execution_count": null,
      "metadata": {
        "colab": {
          "base_uri": "https://localhost:8080/"
        },
        "id": "wx6B1JKe5ksY",
        "outputId": "a13477db-d6f5-4c4f-bc18-314bbde371c6"
      },
      "outputs": [
        {
          "name": "stdout",
          "output_type": "stream",
          "text": [
            "small_bert_L2_128 download started this may take some time.\n",
            "Approximate size to download 16.1 MB\n",
            "[OK!]\n",
            "+-------------------+--------------------+--------------------+--------------------+\n",
            "|               text|            document|               token|     bert_embeddings|\n",
            "+-------------------+--------------------+--------------------+--------------------+\n",
            "|This is a sentence.|[{document, 0, 18...|[{token, 0, 3, Th...|[{word_embeddings...|\n",
            "+-------------------+--------------------+--------------------+--------------------+\n",
            "\n"
          ]
        }
      ],
      "source": [
        "from sparknlp.annotator import  BertEmbeddings\n",
        "\n",
        "documentAssembler = DocumentAssembler() \\\n",
        "    .setInputCol(\"text\") \\\n",
        "    .setOutputCol(\"document\")\n",
        "\n",
        "tokenizer = Tokenizer() \\\n",
        "    .setInputCols([\"document\"]) \\\n",
        "    .setOutputCol(\"token\")\n",
        "\n",
        "embeddings = BertEmbeddings.pretrained(\"small_bert_L2_128\", \"en\") \\\n",
        "    .setInputCols([\"token\", \"document\"]) \\\n",
        "    .setOutputCol(\"bert_embeddings\")\n",
        "\n",
        "pipeline = Pipeline().setStages([\n",
        "    documentAssembler,\n",
        "    tokenizer,\n",
        "    embeddings,\n",
        "])\n",
        "data = spark.createDataFrame([[\"This is a sentence.\"]]).toDF(\"text\")\n",
        "\n",
        "result = pipeline.fit(data).transform(data)\n",
        "\n",
        "result.show()"
      ]
    },
    {
      "cell_type": "code",
      "execution_count": null,
      "metadata": {
        "colab": {
          "base_uri": "https://localhost:8080/"
        },
        "id": "cq4FjWgo7Jet",
        "outputId": "9cbe482a-3d86-4c18-9d44-ae4902942cf1"
      },
      "outputs": [
        {
          "name": "stdout",
          "output_type": "stream",
          "text": [
            "+--------+----------------------------------------------------------------------------------------------------+\n",
            "|   token|                                                                                     word_embeddings|\n",
            "+--------+----------------------------------------------------------------------------------------------------+\n",
            "|    This|[-2.349799, 0.48053876, -0.32389045, -1.6129305, -0.91984963, 0.13639212, 0.7336475, -0.14140527,...|\n",
            "|      is|[-2.135731, 0.32984716, -0.60323644, -1.6791693, -1.136132, 0.32894522, 0.48084313, 0.3675356, 0....|\n",
            "|       a|[-1.8244883, -0.27088964, -1.059439, -0.9817548, -0.79510975, 0.8294154, 1.0139763, -0.22781603, ...|\n",
            "|sentence|[-1.164805, -0.47254112, -0.5938258, -1.5780697, -0.50055563, 0.5650906, 0.8357443, -0.57341117, ...|\n",
            "|       .|[-0.9125316, 0.45639414, -0.39754602, -1.8161117, -1.2041348, 1.4417989, 0.93367124, 0.18740168, ...|\n",
            "+--------+----------------------------------------------------------------------------------------------------+\n",
            "\n"
          ]
        }
      ],
      "source": [
        "result_df = result.select(F.explode(F.arrays_zip(result.token.result, \n",
        "                                                 result.bert_embeddings.embeddings)).alias(\"cols\")) \\\n",
        "                  .select(F.expr(\"cols['0']\").alias(\"token\"),\n",
        "                          F.expr(\"cols['1']\").alias(\"word_embeddings\"))\n",
        "\n",
        "result_df.show(truncate=100)"
      ]
    },
    {
      "cell_type": "code",
      "execution_count": null,
      "metadata": {
        "colab": {
          "base_uri": "https://localhost:8080/"
        },
        "id": "AoVYZAk-LicN",
        "outputId": "c6f23401-e2ea-40e6-f91e-4173bf77c259"
      },
      "outputs": [
        {
          "data": {
            "text/plain": [
              "{Param(parent='BERT_EMBEDDINGS_68e8f02f4bcd', name='batchSize', doc='Size of every batch'): 8,\n",
              " Param(parent='BERT_EMBEDDINGS_68e8f02f4bcd', name='engine', doc='Deep Learning engine used for this model'): 'tensorflow',\n",
              " Param(parent='BERT_EMBEDDINGS_68e8f02f4bcd', name='lazyAnnotator', doc='Whether this AnnotatorModel acts as lazy in RecursivePipelines'): False,\n",
              " Param(parent='BERT_EMBEDDINGS_68e8f02f4bcd', name='maxSentenceLength', doc='Max sentence length to process'): 128,\n",
              " Param(parent='BERT_EMBEDDINGS_68e8f02f4bcd', name='dimension', doc='Number of embedding dimensions'): 128,\n",
              " Param(parent='BERT_EMBEDDINGS_68e8f02f4bcd', name='caseSensitive', doc='whether to ignore case in tokens for embeddings matching'): False,\n",
              " Param(parent='BERT_EMBEDDINGS_68e8f02f4bcd', name='inputCols', doc='previous annotations columns, if renamed'): ['token',\n",
              "  'document'],\n",
              " Param(parent='BERT_EMBEDDINGS_68e8f02f4bcd', name='outputCol', doc='output annotation column. can be left default.'): 'bert_embeddings',\n",
              " Param(parent='BERT_EMBEDDINGS_68e8f02f4bcd', name='storageRef', doc='unique reference name for identification'): 'small_bert_L2_128'}"
            ]
          },
          "execution_count": 10,
          "metadata": {},
          "output_type": "execute_result"
        }
      ],
      "source": [
        "embeddings.extractParamMap()"
      ]
    },
    {
      "cell_type": "code",
      "execution_count": null,
      "metadata": {
        "colab": {
          "base_uri": "https://localhost:8080/"
        },
        "id": "geGJrKhbXAQN",
        "outputId": "14030f3e-d3d5-40d5-9992-fc6563ce35a9"
      },
      "outputs": [
        {
          "data": {
            "text/plain": [
              "128"
            ]
          },
          "execution_count": 11,
          "metadata": {},
          "output_type": "execute_result"
        }
      ],
      "source": [
        "embeddings.getDimension()"
      ]
    },
    {
      "cell_type": "code",
      "execution_count": null,
      "metadata": {
        "colab": {
          "base_uri": "https://localhost:8080/",
          "height": 36
        },
        "id": "3WOZdNZ5XFGU",
        "outputId": "bd456f2b-b03d-43a3-db6d-dc01b007b52b"
      },
      "outputs": [
        {
          "data": {
            "application/vnd.google.colaboratory.intrinsic+json": {
              "type": "string"
            },
            "text/plain": [
              "'small_bert_L2_128'"
            ]
          },
          "execution_count": 12,
          "metadata": {},
          "output_type": "execute_result"
        }
      ],
      "source": [
        "embeddings.getStorageRef()"
      ]
    },
    {
      "cell_type": "code",
      "execution_count": null,
      "metadata": {
        "colab": {
          "base_uri": "https://localhost:8080/"
        },
        "id": "2xbX1LRoXH8s",
        "outputId": "725dae76-fd1f-4f7c-a950-4c3f1fa570a8"
      },
      "outputs": [
        {
          "data": {
            "text/plain": [
              "False"
            ]
          },
          "execution_count": 13,
          "metadata": {},
          "output_type": "execute_result"
        }
      ],
      "source": [
        "embeddings.getCaseSensitive()"
      ]
    },
    {
      "cell_type": "code",
      "execution_count": null,
      "metadata": {
        "colab": {
          "base_uri": "https://localhost:8080/"
        },
        "id": "pJZEoud2XRcN",
        "outputId": "29dff148-a5b2-4fb7-e0da-dd4ab462128a"
      },
      "outputs": [
        {
          "data": {
            "text/plain": [
              "128"
            ]
          },
          "execution_count": 14,
          "metadata": {},
          "output_type": "execute_result"
        }
      ],
      "source": [
        "embeddings.getMaxSentenceLength()"
      ]
    },
    {
      "attachments": {},
      "cell_type": "markdown",
      "metadata": {
        "id": "gsx-FvaxRv9F"
      },
      "source": [
        "## 📌 EmbeddingsFinisher\n",
        "\n",
        "- Extracts embeddings from Annotations into a more easily usable form.\n",
        "\n",
        "- This is useful for example: [WordEmbeddings](https://nlp.johnsnowlabs.com/api/com/johnsnowlabs/nlp/embeddings/WordEmbeddings.html),  [SentenceEmbeddings](https://nlp.johnsnowlabs.com/api/com/johnsnowlabs/nlp/embeddings/SentenceEmbeddings.html), [ChunkEmbeddings](https://nlp.johnsnowlabs.com/api/com/johnsnowlabs/nlp/embeddings/SentenceEmbeddings.html). and all transformers based \n",
        "[BertEmbeddings](https://nlp.johnsnowlabs.com/api/com/johnsnowlabs/nlp/embeddings/BertEmbeddings.html), \n",
        "[AlbertEmbeddings](https://nlp.johnsnowlabs.com/api/python/reference/autosummary/sparknlp/annotator/embeddings/bert_embeddings/index.html),\n",
        "[CamemBertEmbeddings](https://nlp.johnsnowlabs.com/api/python/reference/autosummary/sparknlp/annotator/embeddings/camembert_embeddings/index.html),\n",
        "[DeBertaEmbeddings](https://nlp.johnsnowlabs.com/api/python/reference/autosummary/sparknlp/annotator/embeddings/deberta_embeddings/index.html),\n",
        "[DistilBertEmbeddings](https://nlp.johnsnowlabs.com/api/python/reference/autosummary/sparknlp/annotator/embeddings/distil_bert_embeddings/index.html),\n",
        "[ElmoEmbeddings](https://nlp.johnsnowlabs.com/api/python/reference/autosummary/sparknlp/annotator/embeddings/elmo_embeddings/index.html),\n",
        "[LongformerEmbeddings](https://nlp.johnsnowlabs.com/api/python/reference/autosummary/sparknlp/annotator/embeddings/longformer_embeddings/index.html),\n",
        "[RoBertaEmbeddings](https://nlp.johnsnowlabs.com/api/python/reference/autosummary/sparknlp/annotator/embeddings/roberta_embeddings/index.html),\n",
        "[XlmRoBertaEmbeddings](https://nlp.johnsnowlabs.com/api/python/reference/autosummary/sparknlp/annotator/embeddings/xlm_roberta_embeddings/index.html),\n",
        "\n",
        "\n",
        "- By using EmbeddingsFinisher you can easily transform your embeddings into array of floats or vectors which are compatible with Spark ML functions such as LDA, K-mean, Random Forest classifier or any other functions that require featureCol. It provides a set of tools for creating and managing vector representations of words, sentences, and documents. EmbeddingsFinisher can be used to improve the accuracy of text classification, sentiment analysis, and other natural language processing tasks.\n",
        "\n",
        "For more extended examples see the [Spark NLP Workshop](https://github.com/JohnSnowLabs/spark-nlp-workshop/blob/master/tutorials/Certification_Trainings/Public/5.1_Text_classification_examples_in_SparkML_SparkNLP.ipynb).\n",
        "\n",
        "\n",
        "\n",
        "> Input Annotator Types:` EMBEDDINGS`\n",
        "\n",
        "\n",
        "> Output Annotator Type: `NONE`\n",
        "\n",
        "\n",
        "\n",
        "\n",
        "\n"
      ]
    },
    {
      "attachments": {},
      "cell_type": "markdown",
      "metadata": {
        "id": "DCYCtnu-hVAw"
      },
      "source": [
        "📌`setOutputAsVector`\n",
        "\n",
        "The setOutputAsVector parameter in EmbeddingsFinisher is a boolean parameter used to specify whether the output should be a single vector or a list of vectors. When set to true, the output will be a single vector representing the embedding of the entire sequence of tokens. When set to false, the output will be a list of vectors, one for each token in the sequence.\n",
        "\n",
        "📌 `setCleanAnnotations`\n",
        "\n",
        "The setCleanAnnotations parameter in EmbeddingsFinisher is used to specify whether or not to clean the annotations before the embeddings are applied. When this parameter is set to true, the annotations will be stripped of any non-word characters and all words will be lowercase. This is useful for ensuring that the embeddings are applied consistently and accurately."
      ]
    },
    {
      "cell_type": "code",
      "execution_count": null,
      "metadata": {
        "colab": {
          "base_uri": "https://localhost:8080/"
        },
        "id": "tZ65_v0qahwi",
        "outputId": "48c0cfd7-da74-4a71-bdc5-839353699e61"
      },
      "outputs": [
        {
          "name": "stdout",
          "output_type": "stream",
          "text": [
            "small_bert_L2_128 download started this may take some time.\n",
            "Approximate size to download 16.1 MB\n",
            "[OK!]\n",
            "+--------------------+--------------------+--------------------+--------------------+----------------------------+\n",
            "|                text|            document|               token|     bert_embeddings|finished_sentence_embeddings|\n",
            "+--------------------+--------------------+--------------------+--------------------+----------------------------+\n",
            "|I love working wi...|[{document, 0, 27...|[{token, 0, 0, I,...|[{word_embeddings...|        [[-1.006893157958...|\n",
            "+--------------------+--------------------+--------------------+--------------------+----------------------------+\n",
            "\n"
          ]
        }
      ],
      "source": [
        "documentAssembler = DocumentAssembler() \\\n",
        "    .setInputCol(\"text\") \\\n",
        "    .setOutputCol(\"document\")\n",
        "\n",
        "tokenizer = Tokenizer() \\\n",
        "    .setInputCols([\"document\"]) \\\n",
        "    .setOutputCol(\"token\")\n",
        "\n",
        "embeddings = BertEmbeddings.pretrained(\"small_bert_L2_128\", \"en\") \\\n",
        "    .setInputCols([\"token\", \"document\"]) \\\n",
        "    .setOutputCol(\"bert_embeddings\")\n",
        "\n",
        "embeddingsFinisher = EmbeddingsFinisher() \\\n",
        "    .setInputCols(\"bert_embeddings\") \\\n",
        "    .setOutputCols(\"finished_sentence_embeddings\") \\\n",
        "    .setOutputAsVector(True) \\\n",
        "    .setCleanAnnotations(False)\n",
        "\n",
        "pipeline = Pipeline() \\\n",
        "    .setStages([\n",
        "        documentAssembler,\n",
        "        tokenizer,\n",
        "        embeddings,\n",
        "        embeddingsFinisher])\n",
        "\n",
        "data = spark.createDataFrame([[\"I love working with SparkNLP\"]]).toDF(\"text\")\n",
        "\n",
        "result = pipeline.fit(data).transform(data)\n",
        "\n",
        "result.show()"
      ]
    },
    {
      "cell_type": "code",
      "execution_count": null,
      "metadata": {
        "colab": {
          "base_uri": "https://localhost:8080/"
        },
        "id": "5vUeahK-gQvz",
        "outputId": "eab051ad-4faf-497a-d585-b9a640a04067"
      },
      "outputs": [
        {
          "name": "stdout",
          "output_type": "stream",
          "text": [
            "+---------------------------------------------------------------------------------------------------------------------------------------------------------------------------------------------------------------------------------------------------------------------------------------------------------------------------------------------------------------------------------------------------------------------------------------------------------------------------------------------------------------------------------------------------------------------------------------------------------------------------------------------------------------------------------------------------------------------------------------------------------------------------------------------------------------------------------------------------------------------------------------------------------------------------------------------------------------------------------------------------------------------------------------------------------------------------------------------------------------------------------------------------------------------------------------------------------------------------------------------------------------------------------------------------------------------------------------------------------------------------------------------------------------------------------------------------------------------------------------------------------------------------------------------------------------------------------------------------------------------------------------------------------------------------------------------------------------------------------------------------------------------------------------------------------------------------------------------------------------------------------------------------------------------------------------------------------------------------------------------------------------------------------------------------------------------------------------------------------------------------------------------------------------------------------------------------------------------------------------------------------------------------------------------------------------------------------------------------------------------------------------------------------------------------------------------------------------------------------------------------------------------------------------------------------------------------------------------------------------------------------------------------------------------------------------------------------------------------------------------------------------------------------------------------------------------------------------------------------------------------------------------------------------------------------------------------------------------------------------------------------------------------------------------------------------------------------------------------------------------------------------------------------------------------------------------------------------------------------------------------------------------------------------------------------------------------------------------------------------------------------------------------------------------------------------------------------------------------------------------------------------------------------------------------------------------------------------------------------------------------------------------------------------------------------------------------------------------------------------------------------------------------------------------------------------------------------------------------------------------------------------------------------------------------------------------------------------------------------------------------------------------------------------------------------------------------------------------------------------------------------------------------------------------------------------------------------------------------------------------------------------------------------------------------------------------------------------------------------------------------------------------------------------------------------------------------------------------------------------------------------------------------------------------------------------------------------------------------------------------------------------------------------------------------------------------------------------------------------------------------------------------------------------------------------------------------------------------------------------------------------------------------------------------------------------------------------------------------------------------------------------------------------------------------------------------------------------------------------------------------------------------------------------------------------------------------------------------------------------------------------------------------------------------------------------------------------------------------------------------------------------------------------------------------------------------------------------------------------------------------------------------------------------------------------------------------------------------------------------------------------------------------------------------------------------------------------------------------------------------------------------------------------------------------------------------------------------------------------------------------------------------------------------------------------------------------------------------------------------------------------------------------------------------------------------------------------------------------------------------------------------------------------------------------------------------------------------------------------------------------------------------------------------------------------------------------------------------------------------------------------------------------------------------------------------------------------------------------------------------------------------------------------------------------------------------------------------------------------------------------------------------------------------------------------------------------------------------------------------------------------------------------------------------------------------------------------------------------------------------------------------------------------------------------------------------------------------------------------------------------------------------------------------------------------------------------------------------------------------------------------------------------------------------------------------------------------------------------------------------------------------------------------------------------------------------------------------------------------------------------------------------------------------------------------------------------------------------------------------------------------------------------------------------------------------------------------------------------------------------------------------------------------------------------------------------------------------------------------------------------------------------------------------------------------------------------------------------------------------------------------------------------------------------------------------------------------------------------------------------------------------------------------------------------------------------------------------------------------------------------------------------------------------------------------------------------------------------------------------------------------------------------------------------------------------------------------------------------------------------------------------------------------------------------------------------------------------------------------------------------------------------------------------------------------------------------------------------------------------------------------------------------------------------------------------------------------------------------------------------------------------------------------------------------------------------------------------------------------------------------------------------------------------------------------------------------------------------------------------------------------------------------------------------------------------------------------------------------------------------------------------------------------------------------------------------------------------------------------------------------------------------------------------------------------------------------------------------------------------------------------------------------------------------------------------------------------------------------------------------------------------------------------------------------------------------------------------------------------------------------------------------------------------------------------------------------------------------------------------------------------------------------------------------------------------------------------------------------------------------------------------------------------------------------------------------------------------------------------------------------------------------------------------------------------------------------------------------------------------------------------------------------------------------------------------------------------------------------------------------------------------------------------------------------------------------------------------------------------------------------------------------------------------------------------------------------------------------------------------------------------------------------------------------------------------------------------------------------------------------------------------------------------------------------------------------------------------------------------------------------------------------------------------------------------------------------------------------------------------------------------------------------------------------------------------------------------------------------------------------------------------------------------------------------------------------------------------------------------------------------------------------------------------------------------------------------------------------------------------------------------------------------------------------------------------------------------------------------------------------------------------------------------------------------------------------------------------------------------------------------------------------------------------------------------------------------------------------------------------------------------------------------------------------------------------------------------------------------------------------------------------------------------------------------------------------------------------------------------------------------------------------------------------------------------------------------------------------------------------------------------------------------------------------------------------------------------------------------------------------------------------------------------------------------------------------------------------------------------------------------------------------------------------------------------------------------------------------------------------------------------------------------------------------------------------------------------------------------------------------------------------------------------------------------------------------------------------------------------------------------------------------------------------------------------------------------------------------------------------------------------------------------------------------------------------------------------------------------------------------------------------------------------------------------------------------------------------------------------------------------------------------------------------------------------------------------------+\n",
            "|finished_sentence_embeddings                                                                                                                                                                                                                                                                                                                                                                                                                                                                                                                                                                                                                                                                                                                                                                                                                                                                                                                                                                                                                                                                                                                                                                                                                                                                                                                                                                                                                                                                                                                                                                                                                                                                                                                                                                                                                                                                                                                                                                                                                                                                                                                                                                                                                                                                                                                                                                                                                                                                                                                                                                                                                                                                                                                                                                                                                                                                                                                                                                                                                                                                                                                                                                                                                                                                                                                                                                                                                                                                                                                                                                                                                                                                                                                                                                                                                                                                                                                                                                                                                                                                                                                                                                                                                                                                                                                                                                                                                                                                                                                                                                                                                                                                                                                                                                                                                                                                                                                                                                                                                                                                                                                                                                                                                                                                                                                                                                                                                                                                                                                                                                                                                                                                                                                                                                                                                                                                                                                                                                                                                                                                                                                                                                                                                                                                                                                                                                                                                                                                                                                                                                                                                                                                                                                                                                                                                                                                                                                                                                                                                                                                                                                                                                                                                                                                                                                                                                                                                                                                                                                                                                                                                                                                                                                                                                                                                                                                                                                                                                                                                                                                                                                                                                                                                                                                                                                                                                                                                                                                                                                                                                                                                                                                                                                                                                                                                                                                                                                                                                                                                                                                                                                                                                                                                                                                                                                                                                                                                                                                                                                                                                                                                                                                                                                                                                                                                                                                                                                                                                                                                                                                                                                                                                                                                                                                                                                                                                                                                                                                                                                                                                                                                                                                                                                                                                                                                                                                                                                                                                                                                                                                                                                                                                                                                                                                                                                                                                                                                                                                                                                                                                                                                                                                                                                                                                                                                                                                                                                                                                                                                                                                                                                                                                                                                                                                                                                                                                                                                                                                                                                                                                                                                                                                                                                                                                                                                                                                                                                                                                                                                                                     |\n",
            "+---------------------------------------------------------------------------------------------------------------------------------------------------------------------------------------------------------------------------------------------------------------------------------------------------------------------------------------------------------------------------------------------------------------------------------------------------------------------------------------------------------------------------------------------------------------------------------------------------------------------------------------------------------------------------------------------------------------------------------------------------------------------------------------------------------------------------------------------------------------------------------------------------------------------------------------------------------------------------------------------------------------------------------------------------------------------------------------------------------------------------------------------------------------------------------------------------------------------------------------------------------------------------------------------------------------------------------------------------------------------------------------------------------------------------------------------------------------------------------------------------------------------------------------------------------------------------------------------------------------------------------------------------------------------------------------------------------------------------------------------------------------------------------------------------------------------------------------------------------------------------------------------------------------------------------------------------------------------------------------------------------------------------------------------------------------------------------------------------------------------------------------------------------------------------------------------------------------------------------------------------------------------------------------------------------------------------------------------------------------------------------------------------------------------------------------------------------------------------------------------------------------------------------------------------------------------------------------------------------------------------------------------------------------------------------------------------------------------------------------------------------------------------------------------------------------------------------------------------------------------------------------------------------------------------------------------------------------------------------------------------------------------------------------------------------------------------------------------------------------------------------------------------------------------------------------------------------------------------------------------------------------------------------------------------------------------------------------------------------------------------------------------------------------------------------------------------------------------------------------------------------------------------------------------------------------------------------------------------------------------------------------------------------------------------------------------------------------------------------------------------------------------------------------------------------------------------------------------------------------------------------------------------------------------------------------------------------------------------------------------------------------------------------------------------------------------------------------------------------------------------------------------------------------------------------------------------------------------------------------------------------------------------------------------------------------------------------------------------------------------------------------------------------------------------------------------------------------------------------------------------------------------------------------------------------------------------------------------------------------------------------------------------------------------------------------------------------------------------------------------------------------------------------------------------------------------------------------------------------------------------------------------------------------------------------------------------------------------------------------------------------------------------------------------------------------------------------------------------------------------------------------------------------------------------------------------------------------------------------------------------------------------------------------------------------------------------------------------------------------------------------------------------------------------------------------------------------------------------------------------------------------------------------------------------------------------------------------------------------------------------------------------------------------------------------------------------------------------------------------------------------------------------------------------------------------------------------------------------------------------------------------------------------------------------------------------------------------------------------------------------------------------------------------------------------------------------------------------------------------------------------------------------------------------------------------------------------------------------------------------------------------------------------------------------------------------------------------------------------------------------------------------------------------------------------------------------------------------------------------------------------------------------------------------------------------------------------------------------------------------------------------------------------------------------------------------------------------------------------------------------------------------------------------------------------------------------------------------------------------------------------------------------------------------------------------------------------------------------------------------------------------------------------------------------------------------------------------------------------------------------------------------------------------------------------------------------------------------------------------------------------------------------------------------------------------------------------------------------------------------------------------------------------------------------------------------------------------------------------------------------------------------------------------------------------------------------------------------------------------------------------------------------------------------------------------------------------------------------------------------------------------------------------------------------------------------------------------------------------------------------------------------------------------------------------------------------------------------------------------------------------------------------------------------------------------------------------------------------------------------------------------------------------------------------------------------------------------------------------------------------------------------------------------------------------------------------------------------------------------------------------------------------------------------------------------------------------------------------------------------------------------------------------------------------------------------------------------------------------------------------------------------------------------------------------------------------------------------------------------------------------------------------------------------------------------------------------------------------------------------------------------------------------------------------------------------------------------------------------------------------------------------------------------------------------------------------------------------------------------------------------------------------------------------------------------------------------------------------------------------------------------------------------------------------------------------------------------------------------------------------------------------------------------------------------------------------------------------------------------------------------------------------------------------------------------------------------------------------------------------------------------------------------------------------------------------------------------------------------------------------------------------------------------------------------------------------------------------------------------------------------------------------------------------------------------------------------------------------------------------------------------------------------------------------------------------------------------------------------------------------------------------------------------------------------------------------------------------------------------------------------------------------------------------------------------------------------------------------------------------------------------------------------------------------------------------------------------------------------------------------------------------------------------------------------------------------------------------------------------------------------------------------------------------------------------------------------------------------------------------------------------------------------------------------------------------------------------------------------------------------------------------------------------------------------------------------------------------------------------------------------------------------------------------------------------------------------------------------------------------------------------------------------------------------------------------------------------------------------------------------------------------------------------------------------------------------------------------------------------------------------------------------------------------------------------------------------------------------------------------------------------------------------------------------------------------------------------------------------------------------------------------------------------------------------------------------------------------------------------------------------------------------------------------------------------------------------------------------------------------------------------------------------------------------------------------------------------------------------------------------------------------------------------------------------------------------------------------------------------------------------------------------------------------------------------------------------------------------------------------------------------------------------------------------------------------------------------------------------------------------------------------------------------------------------------------------------------------------------------------------------------------------------------------------------------------------------------------------------------------------------------------------------------------------------------------------------------------------------------------------------------------------------------------------------------------------------------------------------------------------------------------------------------------------------------------------------------------------------------------------------------------------------------------------------------------------------+\n",
            "|[[-1.0068931579589844,0.4526245594024658,-0.10008235275745392,-1.865195870399475,-0.6375360488891602,0.5061874985694885,0.515454888343811,1.800087809562683,-0.7341094017028809,0.39499080181121826,0.15018224716186523,0.5721651315689087,-1.6465446949005127,0.0965462401509285,2.044663429260254,0.0354740247130394,-1.0143505334854126,1.0590957403182983,-0.7204186916351318,0.7145228385925293,-0.17761071026325226,-1.5460960865020752,1.0741350650787354,1.751646876335144,0.804376482963562,-1.2569618225097656,0.8603312969207764,0.2262854427099228,-0.3407519459724426,0.8939383625984192,-1.5341578722000122,0.5465171337127686,-0.49909472465515137,0.13043290376663208,1.2312548160552979,-2.204021453857422,-1.079249382019043,-0.363577663898468,-1.0208179950714111,-0.6547446250915527,0.503225564956665,0.10194964706897736,0.2091352492570877,-0.39543893933296204,-0.39335203170776367,-2.3459253311157227,0.8113487958908081,-1.4739351272583008,-0.6832473278045654,1.6796919107437134,2.259901285171509,0.9852880835533142,-0.5390533208847046,-0.23794758319854736,1.1953133344650269,-1.8772099018096924,2.327486038208008,-0.686739444732666,-0.797131359577179,2.5698156356811523,0.20418229699134827,-1.096540093421936,-0.7125765085220337,-1.6287205219268799,-2.0112102031707764,-0.17315605282783508,-0.23742884397506714,0.5779054760932922,-1.3126764297485352,-0.6693902611732483,-0.33667078614234924,-0.6882256269454956,0.6726870536804199,0.2810180187225342,-1.7990264892578125,-0.8804060220718384,-0.4389442205429077,1.273830771446228,2.5800352096557617,-0.5277941226959229,0.1683800369501114,-0.22921442985534668,0.23634451627731323,0.3432358503341675,0.644104540348053,0.2012534737586975,0.05926823616027832,0.08123499155044556,1.0495539903640747,-1.2299195528030396,0.31448978185653687,2.5460455417633057,-1.0753843784332275,1.552577018737793,-4.867836833000183E-4,0.6170597076416016,-0.12254606932401657,-1.52545166015625,1.7006276845932007,0.9171942472457886,-0.17707544565200806,-1.3197318315505981,-0.14993296563625336,-0.39575275778770447,1.2687287330627441,-0.6432958245277405,-1.0113829374313354,0.2207433581352234,0.22073155641555786,-1.223114252090454,-0.7188724279403687,1.0756338834762573,1.0525298118591309,-1.1651660203933716,0.6416414976119995,0.9286438226699829,0.02740226686000824,-1.6088812351226807,-0.28107786178588867,-0.9352699518203735,0.32661327719688416,0.014977574348449707,1.0719287395477295,-1.539756178855896,-0.8592730760574341,-1.744594693183899,-1.0304492712020874,1.3408995866775513], [-0.5479618906974792,-0.2913995087146759,-1.22248113155365,-1.6711055040359497,-0.052290644496679306,-0.5038579106330872,0.33833450078964233,1.1216641664505005,-0.9662665128707886,0.4705682098865509,1.0882658958435059,0.3205498456954956,-2.0663154125213623,-0.8899153470993042,1.2358689308166504,-0.5639264583587646,-0.6096277236938477,-0.8323073983192444,-1.5790283679962158,0.4948212802410126,-0.53874671459198,-0.5834192037582397,0.13202935457229614,0.3066304922103882,2.7209160327911377,-1.591213345527649,0.6803134083747864,-1.2050336599349976,1.313710331916809,-0.06637455523014069,0.35700511932373047,-0.8204531669616699,-1.341354489326477,-0.59578537940979,1.2582085132598877,0.4081243574619293,0.8863591551780701,-0.16787321865558624,-1.8623347282409668,-0.7518356442451477,0.8469713926315308,1.1029995679855347,0.42574334144592285,-0.08498957753181458,-0.08541545271873474,-0.7270947694778442,1.2853682041168213,-1.2561734914779663,-1.4417333602905273,2.073131561279297,0.652916431427002,1.686235785484314,0.9132460355758667,0.9970806837081909,-0.28316259384155273,-2.0352818965911865,1.2365823984146118,-0.8657754063606262,0.49490872025489807,2.2911248207092285,-0.04423985630273819,-0.3972969651222229,-0.11795979738235474,-1.5481376647949219,-1.544911503791809,0.6583126187324524,0.2835008502006531,-0.614379346370697,-0.9398905038833618,-0.8717068433761597,0.01603066921234131,-0.4593013525009155,1.255929946899414,-0.5768239498138428,-1.6665761470794678,-0.7776860594749451,-0.9859336614608765,1.1948082447052002,2.0592920780181885,0.5467925667762756,0.9886308908462524,-0.46611809730529785,0.327694833278656,0.9747505187988281,-0.411470502614975,0.9960087537765503,-1.5481233596801758,-0.4776955842971802,0.6082236170768738,-1.4843387603759766,1.7634906768798828,1.8057959079742432,-1.6643667221069336,1.6512540578842163,0.07642273604869843,0.44079455733299255,-0.18950000405311584,0.5940244793891907,-0.018640123307704926,0.2846626043319702,1.1839133501052856,-1.2408422231674194,-0.14287348091602325,-0.09969951212406158,1.2870136499404907,-1.4466966390609741,-0.08649340271949768,-0.581613302230835,0.4122520089149475,-0.04386284947395325,-0.29135996103286743,1.0710691213607788,0.7608466744422913,0.050399050116539,-1.3201029300689697,0.01118849590420723,0.2025737464427948,-3.250875949859619,-0.45304208993911743,-1.523200511932373,0.2868106961250305,0.7452759742736816,1.0823794603347778,-1.349284291267395,-0.751008152961731,-1.3294988870620728,-1.545832633972168,1.9141265153884888], [-0.5517656207084656,-0.5772336721420288,-0.7495626211166382,-1.0471436977386475,-0.19430097937583923,0.18274807929992676,0.8117239475250244,1.1843067407608032,-1.0362811088562012,-0.31755179166793823,1.3431130647659302,-0.2751673460006714,-1.8473728895187378,-0.3346087634563446,1.5576905012130737,-1.3388190269470215,-1.4877091646194458,-0.07380317896604538,-0.2350028157234192,0.4999046325683594,-0.15382987260818481,-0.23768770694732666,0.5864431262016296,1.1160212755203247,2.055295944213867,-0.8525062799453735,0.20360323786735535,-0.8936176300048828,-0.6180509328842163,0.6223722696304321,-0.4014083743095398,-0.6190319657325745,-1.1353368759155273,-0.40356504917144775,0.2342468649148941,-0.366005539894104,0.8878576159477234,0.5566645860671997,0.09888690710067749,-1.8913021087646484,0.7349807024002075,-0.2495819330215454,1.1264030933380127,-0.33726966381073,-0.7215750217437744,-0.40752407908439636,0.8545539379119873,-1.467400312423706,-0.10687627643346786,0.5692876577377319,2.5365731716156006,1.2750415802001953,0.20937414467334747,-0.47111988067626953,-0.9325608015060425,-2.7002201080322266,0.633284866809845,-0.8703595399856567,0.03178677707910538,2.2110509872436523,0.7968886494636536,-0.22121237218379974,-0.7184881567955017,-2.6665444374084473,-0.6384726762771606,0.11122425645589828,1.1521450281143188,-0.8516084551811218,-1.7809383869171143,-1.016710877418518,-1.2415318489074707,-0.22373566031455994,-0.7405946254730225,-0.37307530641555786,-1.8661699295043945,-1.228164553642273,-0.8953218460083008,0.49350666999816895,2.4583795070648193,-0.6854438781738281,0.8855289220809937,0.6784065365791321,0.343971312046051,0.9828990697860718,-0.03316406160593033,1.2958489656448364,-0.30814963579177856,0.33243393898010254,1.7635470628738403,-2.502791404724121,0.949218213558197,0.6095545887947083,-1.47670578956604,1.6202282905578613,-0.20316731929779053,0.594540536403656,0.0069213807582855225,1.3603651523590088,0.8175071477890015,0.400765061378479,0.6875271797180176,-0.8643680810928345,0.5379412174224854,-0.07397329807281494,0.725920557975769,-1.244889736175537,-0.7809263467788696,0.7201328277587891,0.6881536841392517,0.01010172814130783,-0.006834834814071655,1.9666802883148193,1.6093264818191528,-0.7351051568984985,-0.8548529744148254,0.4979114234447479,0.12459128350019455,-2.3353757858276367,-0.4500078558921814,0.3549730181694031,1.4262782335281372,0.4268289804458618,0.5526638627052307,-1.392601728439331,-2.197598457336426,-1.9059065580368042,0.03369833528995514,2.0224080085754395], [-0.26259493827819824,0.3242981731891632,-0.3004499077796936,-1.8585789203643799,-1.0196865797042847,0.4586297869682312,1.2766560316085815,1.7523136138916016,-0.8951972723007202,-0.02138572186231613,1.0990067720413208,0.5678685903549194,-0.6693577170372009,0.4667259752750397,1.0329780578613281,-0.6527251601219177,-1.6245938539505005,-0.06319263577461243,-0.7130905985832214,-0.09599500894546509,-0.3316528797149658,-0.23565560579299927,1.0582419633865356,1.2600117921829224,1.7331418991088867,-0.3558393120765686,-0.4109540581703186,-1.2453148365020752,-0.22583313286304474,0.2771775722503662,-1.3531160354614258,-1.9495004415512085,-0.6158168911933899,0.12174266576766968,0.9752758741378784,-0.40257230401039124,-0.39371395111083984,-0.49906229972839355,-2.7888402938842773,-1.4473780393600464,1.2385421991348267,0.21129871904850006,-0.4316478967666626,-1.1662709712982178,0.3078325390815735,-1.681645393371582,-0.1191418319940567,0.47236043214797974,-0.898980975151062,0.4642372131347656,3.1165666580200195,1.1200435161590576,0.5797854661941528,-1.06621253490448,-0.24786697328090668,-0.8596991896629333,-0.5076570510864258,-0.7843824625015259,-0.20160271227359772,3.4581432342529297,-0.16681501269340515,0.3040265440940857,-1.130509376525879,-1.288415789604187,-0.22077001631259918,-1.4867920875549316,0.3960391879081726,0.09279493242502213,-1.6567859649658203,-0.3662553131580353,-1.149733543395996,-0.9279544353485107,0.4910573363304138,-1.9462424516677856,-0.5484805703163147,-1.2797843217849731,-0.4002576470375061,0.5019726157188416,1.3047630786895752,-0.6658072471618652,-0.050831228494644165,-0.1908770054578781,0.8692075610160828,0.9177420735359192,0.5574856400489807,1.4619824886322021,-0.12215635180473328,0.3491818904876709,1.6926186084747314,-1.704071283340454,1.3690606355667114,1.1636723279953003,-1.7779194116592407,0.467727929353714,-0.020853504538536072,2.2310373783111572,0.5900783538818359,-0.49446380138397217,0.3197248578071594,0.26036009192466736,-0.3307274878025055,-0.8089560866355896,1.1222997903823853,-1.1622629165649414,1.1251347064971924,-1.3777996301651,-1.6870903968811035,1.420669436454773,1.363924503326416,0.3586234450340271,0.35853782296180725,0.7324925661087036,2.3122611045837402,-1.0076576471328735,0.1514052450656891,0.7537795305252075,0.46282708644866943,-1.7358930110931396,-0.5298523902893066,-0.7945906519889832,1.0495635271072388,0.6893024444580078,1.7769107818603516,-1.756888508796692,-1.6897549629211426,-1.3297924995422363,-0.8046698570251465,1.7442888021469116], [-1.1416561603546143,0.5577651262283325,-0.171843484044075,-0.07009667158126831,-0.6260299682617188,-0.6459614634513855,-0.1840583086013794,0.9911832213401794,-1.3718076944351196,0.13521155714988708,1.64913809299469,1.051454782485962,-1.6162219047546387,0.32285282015800476,0.8030675649642944,-0.4685443043708801,-1.162490725517273,-1.1839183568954468,-1.4132108688354492,1.4203119277954102,-0.2508370280265808,-0.21831010282039642,0.013062737882137299,-0.36285293102264404,2.203913927078247,-0.8986676931381226,-0.019580738618969917,0.36938169598579407,-1.0455026626586914,-0.7378374338150024,-1.1273576021194458,0.569952666759491,-0.8171985149383545,-0.5811060667037964,1.1758224964141846,-0.5756199359893799,0.7771774530410767,-1.166692852973938,-2.5153627395629883,-0.8004816174507141,1.9001728296279907,-0.2848435640335083,-2.092116355895996,0.16557419300079346,0.10825535655021667,-2.7108864784240723,0.960361659526825,1.615646243095398,-0.5266018509864807,0.8225141763687134,1.267035961151123,0.6575743556022644,0.2170332968235016,-1.2969063520431519,-1.2185674905776978,-0.32698529958724976,-1.0160330533981323,0.5551755428314209,0.31667327880859375,2.1222424507141113,-0.06502895802259445,2.2100157737731934,-0.6251121759414673,-0.5922558903694153,-0.24543794989585876,-1.1615159511566162,0.2893831133842468,-0.4900602400302887,-1.6595039367675781,0.14107146859169006,-1.3635990619659424,-0.762124240398407,0.668691873550415,-2.0291123390197754,0.1765112727880478,-0.5972702503204346,-0.25949597358703613,0.4888104796409607,2.229597568511963,-0.16578751802444458,0.33370307087898254,-0.07403193414211273,0.8659615516662598,0.5378408432006836,-0.4694034457206726,-0.11662837862968445,-0.46808820962905884,-0.3571067452430725,0.883607804775238,-1.6383285522460938,1.511054277420044,0.08899654448032379,-1.73404860496521,0.9702882170677185,-0.7090571522712708,3.1035966873168945,1.3976166248321533,-0.6331360340118408,0.1257462054491043,1.0580379962921143,-0.0350397527217865,-0.32103976607322693,0.3193732500076294,-2.167280673980713,0.1770518720149994,-1.2213491201400757,-0.9090715050697327,0.7406125068664551,0.940493643283844,0.01784541830420494,0.006149782799184322,1.1895102262496948,2.391068458557129,-0.44070130586624146,0.5507574081420898,-0.627690851688385,0.9632844924926758,-1.3267109394073486,0.03096984326839447,-1.1416068077087402,0.06729226559400558,1.5237630605697632,1.784332036972046,-0.08060057461261749,-0.09707117080688477,-0.6284626126289368,-1.8272041082382202,0.8692539930343628]]|\n",
            "+---------------------------------------------------------------------------------------------------------------------------------------------------------------------------------------------------------------------------------------------------------------------------------------------------------------------------------------------------------------------------------------------------------------------------------------------------------------------------------------------------------------------------------------------------------------------------------------------------------------------------------------------------------------------------------------------------------------------------------------------------------------------------------------------------------------------------------------------------------------------------------------------------------------------------------------------------------------------------------------------------------------------------------------------------------------------------------------------------------------------------------------------------------------------------------------------------------------------------------------------------------------------------------------------------------------------------------------------------------------------------------------------------------------------------------------------------------------------------------------------------------------------------------------------------------------------------------------------------------------------------------------------------------------------------------------------------------------------------------------------------------------------------------------------------------------------------------------------------------------------------------------------------------------------------------------------------------------------------------------------------------------------------------------------------------------------------------------------------------------------------------------------------------------------------------------------------------------------------------------------------------------------------------------------------------------------------------------------------------------------------------------------------------------------------------------------------------------------------------------------------------------------------------------------------------------------------------------------------------------------------------------------------------------------------------------------------------------------------------------------------------------------------------------------------------------------------------------------------------------------------------------------------------------------------------------------------------------------------------------------------------------------------------------------------------------------------------------------------------------------------------------------------------------------------------------------------------------------------------------------------------------------------------------------------------------------------------------------------------------------------------------------------------------------------------------------------------------------------------------------------------------------------------------------------------------------------------------------------------------------------------------------------------------------------------------------------------------------------------------------------------------------------------------------------------------------------------------------------------------------------------------------------------------------------------------------------------------------------------------------------------------------------------------------------------------------------------------------------------------------------------------------------------------------------------------------------------------------------------------------------------------------------------------------------------------------------------------------------------------------------------------------------------------------------------------------------------------------------------------------------------------------------------------------------------------------------------------------------------------------------------------------------------------------------------------------------------------------------------------------------------------------------------------------------------------------------------------------------------------------------------------------------------------------------------------------------------------------------------------------------------------------------------------------------------------------------------------------------------------------------------------------------------------------------------------------------------------------------------------------------------------------------------------------------------------------------------------------------------------------------------------------------------------------------------------------------------------------------------------------------------------------------------------------------------------------------------------------------------------------------------------------------------------------------------------------------------------------------------------------------------------------------------------------------------------------------------------------------------------------------------------------------------------------------------------------------------------------------------------------------------------------------------------------------------------------------------------------------------------------------------------------------------------------------------------------------------------------------------------------------------------------------------------------------------------------------------------------------------------------------------------------------------------------------------------------------------------------------------------------------------------------------------------------------------------------------------------------------------------------------------------------------------------------------------------------------------------------------------------------------------------------------------------------------------------------------------------------------------------------------------------------------------------------------------------------------------------------------------------------------------------------------------------------------------------------------------------------------------------------------------------------------------------------------------------------------------------------------------------------------------------------------------------------------------------------------------------------------------------------------------------------------------------------------------------------------------------------------------------------------------------------------------------------------------------------------------------------------------------------------------------------------------------------------------------------------------------------------------------------------------------------------------------------------------------------------------------------------------------------------------------------------------------------------------------------------------------------------------------------------------------------------------------------------------------------------------------------------------------------------------------------------------------------------------------------------------------------------------------------------------------------------------------------------------------------------------------------------------------------------------------------------------------------------------------------------------------------------------------------------------------------------------------------------------------------------------------------------------------------------------------------------------------------------------------------------------------------------------------------------------------------------------------------------------------------------------------------------------------------------------------------------------------------------------------------------------------------------------------------------------------------------------------------------------------------------------------------------------------------------------------------------------------------------------------------------------------------------------------------------------------------------------------------------------------------------------------------------------------------------------------------------------------------------------------------------------------------------------------------------------------------------------------------------------------------------------------------------------------------------------------------------------------------------------------------------------------------------------------------------------------------------------------------------------------------------------------------------------------------------------------------------------------------------------------------------------------------------------------------------------------------------------------------------------------------------------------------------------------------------------------------------------------------------------------------------------------------------------------------------------------------------------------------------------------------------------------------------------------------------------------------------------------------------------------------------------------------------------------------------------------------------------------------------------------------------------------------------------------------------------------------------------------------------------------------------------------------------------------------------------------------------------------------------------------------------------------------------------------------------------------------------------------------------------------------------------------------------------------------------------------------------------------------------------------------------------------------------------------------------------------------------------------------------------------------------------------------------------------------------------------------------------------------------------------------------------------------------------------------------------------------------------------------------------------------------------------------------------------------------------------------------------------------------------------------------------------------------------------------------------------------------------------------------------------------------------------------------------------------------------------------------------------------------------------------------------------------------------------------------------------------------------------------------------------------------------------------------------------------------------------------------------------------------------------------------------------------------------------------------------------------------------------------------------------------------------------------------------------------------------------------------------------------------------------------------------------------------------------------------------------------------------------------------------------------------------------------------------------------------------------------------------------------------------------------------------------------------------------------------------------------------------------------------------------------------------------------------------------------------------------------------------------------------------------------------------------------------------------------------------------------------------------------------------------------------------------------------------------------------------------------------------------------------------------------------------+\n",
            "\n"
          ]
        }
      ],
      "source": [
        "result.select(\"finished_sentence_embeddings\").show(truncate=False)"
      ]
    },
    {
      "cell_type": "code",
      "execution_count": null,
      "metadata": {
        "colab": {
          "base_uri": "https://localhost:8080/"
        },
        "id": "QVJn6TlNhyy4",
        "outputId": "55880655-b7ed-4747-8a4e-219448ff54d6"
      },
      "outputs": [
        {
          "data": {
            "text/plain": [
              "[Row(finished_sentence_embeddings=[DenseVector([-1.0069, 0.4526, -0.1001, -1.8652, -0.6375, 0.5062, 0.5155, 1.8001, -0.7341, 0.395, 0.1502, 0.5722, -1.6465, 0.0965, 2.0447, 0.0355, -1.0144, 1.0591, -0.7204, 0.7145, -0.1776, -1.5461, 1.0741, 1.7516, 0.8044, -1.257, 0.8603, 0.2263, -0.3408, 0.8939, -1.5342, 0.5465, -0.4991, 0.1304, 1.2313, -2.204, -1.0792, -0.3636, -1.0208, -0.6547, 0.5032, 0.1019, 0.2091, -0.3954, -0.3934, -2.3459, 0.8113, -1.4739, -0.6832, 1.6797, 2.2599, 0.9853, -0.5391, -0.2379, 1.1953, -1.8772, 2.3275, -0.6867, -0.7971, 2.5698, 0.2042, -1.0965, -0.7126, -1.6287, -2.0112, -0.1732, -0.2374, 0.5779, -1.3127, -0.6694, -0.3367, -0.6882, 0.6727, 0.281, -1.799, -0.8804, -0.4389, 1.2738, 2.58, -0.5278, 0.1684, -0.2292, 0.2363, 0.3432, 0.6441, 0.2013, 0.0593, 0.0812, 1.0496, -1.2299, 0.3145, 2.546, -1.0754, 1.5526, -0.0005, 0.6171, -0.1225, -1.5255, 1.7006, 0.9172, -0.1771, -1.3197, -0.1499, -0.3958, 1.2687, -0.6433, -1.0114, 0.2207, 0.2207, -1.2231, -0.7189, 1.0756, 1.0525, -1.1652, 0.6416, 0.9286, 0.0274, -1.6089, -0.2811, -0.9353, 0.3266, 0.015, 1.0719, -1.5398, -0.8593, -1.7446, -1.0304, 1.3409]), DenseVector([-0.548, -0.2914, -1.2225, -1.6711, -0.0523, -0.5039, 0.3383, 1.1217, -0.9663, 0.4706, 1.0883, 0.3205, -2.0663, -0.8899, 1.2359, -0.5639, -0.6096, -0.8323, -1.579, 0.4948, -0.5387, -0.5834, 0.132, 0.3066, 2.7209, -1.5912, 0.6803, -1.205, 1.3137, -0.0664, 0.357, -0.8205, -1.3414, -0.5958, 1.2582, 0.4081, 0.8864, -0.1679, -1.8623, -0.7518, 0.847, 1.103, 0.4257, -0.085, -0.0854, -0.7271, 1.2854, -1.2562, -1.4417, 2.0731, 0.6529, 1.6862, 0.9132, 0.9971, -0.2832, -2.0353, 1.2366, -0.8658, 0.4949, 2.2911, -0.0442, -0.3973, -0.118, -1.5481, -1.5449, 0.6583, 0.2835, -0.6144, -0.9399, -0.8717, 0.016, -0.4593, 1.2559, -0.5768, -1.6666, -0.7777, -0.9859, 1.1948, 2.0593, 0.5468, 0.9886, -0.4661, 0.3277, 0.9748, -0.4115, 0.996, -1.5481, -0.4777, 0.6082, -1.4843, 1.7635, 1.8058, -1.6644, 1.6513, 0.0764, 0.4408, -0.1895, 0.594, -0.0186, 0.2847, 1.1839, -1.2408, -0.1429, -0.0997, 1.287, -1.4467, -0.0865, -0.5816, 0.4123, -0.0439, -0.2914, 1.0711, 0.7608, 0.0504, -1.3201, 0.0112, 0.2026, -3.2509, -0.453, -1.5232, 0.2868, 0.7453, 1.0824, -1.3493, -0.751, -1.3295, -1.5458, 1.9141]), DenseVector([-0.5518, -0.5772, -0.7496, -1.0471, -0.1943, 0.1827, 0.8117, 1.1843, -1.0363, -0.3176, 1.3431, -0.2752, -1.8474, -0.3346, 1.5577, -1.3388, -1.4877, -0.0738, -0.235, 0.4999, -0.1538, -0.2377, 0.5864, 1.116, 2.0553, -0.8525, 0.2036, -0.8936, -0.6181, 0.6224, -0.4014, -0.619, -1.1353, -0.4036, 0.2342, -0.366, 0.8879, 0.5567, 0.0989, -1.8913, 0.735, -0.2496, 1.1264, -0.3373, -0.7216, -0.4075, 0.8546, -1.4674, -0.1069, 0.5693, 2.5366, 1.275, 0.2094, -0.4711, -0.9326, -2.7002, 0.6333, -0.8704, 0.0318, 2.2111, 0.7969, -0.2212, -0.7185, -2.6665, -0.6385, 0.1112, 1.1521, -0.8516, -1.7809, -1.0167, -1.2415, -0.2237, -0.7406, -0.3731, -1.8662, -1.2282, -0.8953, 0.4935, 2.4584, -0.6854, 0.8855, 0.6784, 0.344, 0.9829, -0.0332, 1.2958, -0.3081, 0.3324, 1.7635, -2.5028, 0.9492, 0.6096, -1.4767, 1.6202, -0.2032, 0.5945, 0.0069, 1.3604, 0.8175, 0.4008, 0.6875, -0.8644, 0.5379, -0.074, 0.7259, -1.2449, -0.7809, 0.7201, 0.6882, 0.0101, -0.0068, 1.9667, 1.6093, -0.7351, -0.8549, 0.4979, 0.1246, -2.3354, -0.45, 0.355, 1.4263, 0.4268, 0.5527, -1.3926, -2.1976, -1.9059, 0.0337, 2.0224]), DenseVector([-0.2626, 0.3243, -0.3004, -1.8586, -1.0197, 0.4586, 1.2767, 1.7523, -0.8952, -0.0214, 1.099, 0.5679, -0.6694, 0.4667, 1.033, -0.6527, -1.6246, -0.0632, -0.7131, -0.096, -0.3317, -0.2357, 1.0582, 1.26, 1.7331, -0.3558, -0.411, -1.2453, -0.2258, 0.2772, -1.3531, -1.9495, -0.6158, 0.1217, 0.9753, -0.4026, -0.3937, -0.4991, -2.7888, -1.4474, 1.2385, 0.2113, -0.4316, -1.1663, 0.3078, -1.6816, -0.1191, 0.4724, -0.899, 0.4642, 3.1166, 1.12, 0.5798, -1.0662, -0.2479, -0.8597, -0.5077, -0.7844, -0.2016, 3.4581, -0.1668, 0.304, -1.1305, -1.2884, -0.2208, -1.4868, 0.396, 0.0928, -1.6568, -0.3663, -1.1497, -0.928, 0.4911, -1.9462, -0.5485, -1.2798, -0.4003, 0.502, 1.3048, -0.6658, -0.0508, -0.1909, 0.8692, 0.9177, 0.5575, 1.462, -0.1222, 0.3492, 1.6926, -1.7041, 1.3691, 1.1637, -1.7779, 0.4677, -0.0209, 2.231, 0.5901, -0.4945, 0.3197, 0.2604, -0.3307, -0.809, 1.1223, -1.1623, 1.1251, -1.3778, -1.6871, 1.4207, 1.3639, 0.3586, 0.3585, 0.7325, 2.3123, -1.0077, 0.1514, 0.7538, 0.4628, -1.7359, -0.5299, -0.7946, 1.0496, 0.6893, 1.7769, -1.7569, -1.6898, -1.3298, -0.8047, 1.7443]), DenseVector([-1.1417, 0.5578, -0.1718, -0.0701, -0.626, -0.646, -0.1841, 0.9912, -1.3718, 0.1352, 1.6491, 1.0515, -1.6162, 0.3229, 0.8031, -0.4685, -1.1625, -1.1839, -1.4132, 1.4203, -0.2508, -0.2183, 0.0131, -0.3629, 2.2039, -0.8987, -0.0196, 0.3694, -1.0455, -0.7378, -1.1274, 0.57, -0.8172, -0.5811, 1.1758, -0.5756, 0.7772, -1.1667, -2.5154, -0.8005, 1.9002, -0.2848, -2.0921, 0.1656, 0.1083, -2.7109, 0.9604, 1.6156, -0.5266, 0.8225, 1.267, 0.6576, 0.217, -1.2969, -1.2186, -0.327, -1.016, 0.5552, 0.3167, 2.1222, -0.065, 2.21, -0.6251, -0.5923, -0.2454, -1.1615, 0.2894, -0.4901, -1.6595, 0.1411, -1.3636, -0.7621, 0.6687, -2.0291, 0.1765, -0.5973, -0.2595, 0.4888, 2.2296, -0.1658, 0.3337, -0.074, 0.866, 0.5378, -0.4694, -0.1166, -0.4681, -0.3571, 0.8836, -1.6383, 1.5111, 0.089, -1.734, 0.9703, -0.7091, 3.1036, 1.3976, -0.6331, 0.1257, 1.058, -0.035, -0.321, 0.3194, -2.1673, 0.1771, -1.2213, -0.9091, 0.7406, 0.9405, 0.0178, 0.0061, 1.1895, 2.3911, -0.4407, 0.5508, -0.6277, 0.9633, -1.3267, 0.031, -1.1416, 0.0673, 1.5238, 1.7843, -0.0806, -0.0971, -0.6285, -1.8272, 0.8693])])]"
            ]
          },
          "execution_count": 17,
          "metadata": {},
          "output_type": "execute_result"
        }
      ],
      "source": [
        "result.select('finished_sentence_embeddings').take(1)"
      ]
    },
    {
      "cell_type": "code",
      "execution_count": null,
      "metadata": {
        "colab": {
          "base_uri": "https://localhost:8080/"
        },
        "id": "7DSt9lQfi6Jz",
        "outputId": "d2c4707a-4514-42da-bb14-b6034f1ee5fa"
      },
      "outputs": [
        {
          "name": "stdout",
          "output_type": "stream",
          "text": [
            "+--------------------+----------------------------+\n",
            "|              result|finished_sentence_embeddings|\n",
            "+--------------------+----------------------------+\n",
            "|[I, love, working...|        [[-1.006893157958...|\n",
            "+--------------------+----------------------------+\n",
            "\n"
          ]
        }
      ],
      "source": [
        "result.select(\"token.result\", \"finished_sentence_embeddings\").show()"
      ]
    },
    {
      "attachments": {},
      "cell_type": "markdown",
      "metadata": {
        "id": "R78Gx5-AKoel"
      },
      "source": [
        "## **DeBertaEmbeddings**"
      ]
    },
    {
      "attachments": {},
      "cell_type": "markdown",
      "metadata": {
        "id": "d0chbidXKoem"
      },
      "source": [
        "The DeBERTa model was proposed in DeBERTa: Decoding-enhanced BERT with Disentangled Attention by Pengcheng He, Xiaodong Liu, Jianfeng Gao, Weizhu Chen It is based on Google’s BERT model released in 2018 and Facebook’s RoBERTa model released in 2019.\n",
        "\n",
        "This model requires input tokenization with SentencePiece model, which is provided by Spark NLP (See tokenizers package).\n",
        "\n",
        "The default model is `deberta_v3_base`, if no name is provided.\n",
        "\n",
        "References:\n",
        "\n",
        "[DeBERTa: Decoding-enhanced BERT with Disentangled Attention](https://arxiv.org/abs/2006.03654)\n",
        "\n",
        "https://github.com/microsoft/DeBERTa\n",
        "\n",
        "https://www.microsoft.com/en-us/research/blog/microsoft-deberta-surpasses-human-performance-on-the-superglue-benchmark/\n",
        "\n"
      ]
    },
    {
      "attachments": {},
      "cell_type": "markdown",
      "metadata": {
        "id": "OZeofuEnKoem"
      },
      "source": [
        "For extended examples of usage, see the Examples. To see which models are compatible and how to import them see [Import Transformers into Spark NLP](https://github.com/JohnSnowLabs/spark-nlp/discussions/5669) 🚀."
      ]
    },
    {
      "attachments": {},
      "cell_type": "markdown",
      "metadata": {
        "id": "BttnN8-IKoen"
      },
      "source": [
        "📌 Example Pipeline"
      ]
    },
    {
      "cell_type": "code",
      "execution_count": null,
      "metadata": {
        "colab": {
          "base_uri": "https://localhost:8080/"
        },
        "id": "eQvGAnm2Koen",
        "outputId": "0eb1a4e1-fa2b-4766-bd2c-caee6068f6fd"
      },
      "outputs": [
        {
          "name": "stdout",
          "output_type": "stream",
          "text": [
            "deberta_v3_base download started this may take some time.\n",
            "Approximate size to download 416.2 MB\n",
            "[OK!]\n",
            "+-------------------+--------------------+--------------------+--------------------+\n",
            "|               text|            document|               token|  deberta_embeddings|\n",
            "+-------------------+--------------------+--------------------+--------------------+\n",
            "|This is a sentence.|[{document, 0, 18...|[{token, 0, 3, Th...|[{word_embeddings...|\n",
            "+-------------------+--------------------+--------------------+--------------------+\n",
            "\n"
          ]
        }
      ],
      "source": [
        "from sparknlp.annotator import DeBertaEmbeddings\n",
        "\n",
        "documentAssembler = DocumentAssembler() \\\n",
        "    .setInputCol(\"text\") \\\n",
        "    .setOutputCol(\"document\")\n",
        "\n",
        "tokenizer = Tokenizer() \\\n",
        "    .setInputCols([\"document\"]) \\\n",
        "    .setOutputCol(\"token\")\n",
        "\n",
        "embeddings = DeBertaEmbeddings.pretrained(\"deberta_v3_base\", \"en\") \\\n",
        "    .setInputCols([\"token\", \"document\"]) \\\n",
        "    .setOutputCol(\"deberta_embeddings\")\n",
        "\n",
        "pipeline = Pipeline().setStages([\n",
        "    documentAssembler,\n",
        "    tokenizer,\n",
        "    embeddings,\n",
        "])\n",
        "data = spark.createDataFrame([[\"This is a sentence.\"]]).toDF(\"text\")\n",
        "\n",
        "result = pipeline.fit(data).transform(data)\n",
        "\n",
        "result.show()"
      ]
    },
    {
      "cell_type": "code",
      "execution_count": null,
      "metadata": {
        "colab": {
          "base_uri": "https://localhost:8080/"
        },
        "id": "btcdHSW1Koen",
        "outputId": "ac49b976-1292-4b90-b88f-75443889634f"
      },
      "outputs": [
        {
          "name": "stdout",
          "output_type": "stream",
          "text": [
            "+--------+----------------------------------------------------------------------------------------------------+\n",
            "|   token|                                                                                     word_embeddings|\n",
            "+--------+----------------------------------------------------------------------------------------------------+\n",
            "|    This|[1.3355583, 0.3242047, -0.31513152, 0.5059271, -0.9148884, -0.05824972, -0.7914816, 0.1270009, -0...|\n",
            "|      is|[0.49521476, 0.11863658, -0.37761182, 0.8799349, 0.31811938, -0.41431552, 0.54637223, 0.06393835,...|\n",
            "|       a|[0.8225134, -0.3715731, -0.49974415, 0.68892944, -0.47775856, 0.16794936, 0.36613566, 0.10015561,...|\n",
            "|sentence|[0.34822834, -0.36681104, -0.47873875, -0.2761931, -0.10579429, 0.46090978, 0.39098018, 0.1785630...|\n",
            "|       .|[0.43014112, 0.3085406, -0.8924133, -0.39381033, 0.27380526, 0.0074824393, 0.17555088, 0.2438903,...|\n",
            "+--------+----------------------------------------------------------------------------------------------------+\n",
            "\n"
          ]
        }
      ],
      "source": [
        "result_df = result.select(F.explode(F.arrays_zip(result.token.result, \n",
        "                                                 result.deberta_embeddings.embeddings)).alias(\"cols\")) \\\n",
        "                  .select(F.expr(\"cols['0']\").alias(\"token\"),\n",
        "                          F.expr(\"cols['1']\").alias(\"word_embeddings\"))\n",
        "\n",
        "result_df.show(truncate=100)"
      ]
    },
    {
      "cell_type": "code",
      "execution_count": null,
      "metadata": {
        "colab": {
          "base_uri": "https://localhost:8080/"
        },
        "id": "CgBB9u3kKoeo",
        "outputId": "ed099aa4-0acd-48cf-816c-7543793c9b36"
      },
      "outputs": [
        {
          "data": {
            "text/plain": [
              "{Param(parent='DEBERTA_EMBEDDINGS_726558cf0120', name='dimension', doc='Number of embedding dimensions'): 768,\n",
              " Param(parent='DEBERTA_EMBEDDINGS_726558cf0120', name='engine', doc='Deep Learning engine used for this model'): 'tensorflow',\n",
              " Param(parent='DEBERTA_EMBEDDINGS_726558cf0120', name='lazyAnnotator', doc='Whether this AnnotatorModel acts as lazy in RecursivePipelines'): False,\n",
              " Param(parent='DEBERTA_EMBEDDINGS_726558cf0120', name='batchSize', doc='Size of every batch'): 8,\n",
              " Param(parent='DEBERTA_EMBEDDINGS_726558cf0120', name='maxSentenceLength', doc='Max sentence length to process'): 128,\n",
              " Param(parent='DEBERTA_EMBEDDINGS_726558cf0120', name='caseSensitive', doc='whether to ignore case in tokens for embeddings matching'): True,\n",
              " Param(parent='DEBERTA_EMBEDDINGS_726558cf0120', name='inputCols', doc='previous annotations columns, if renamed'): ['token',\n",
              "  'document'],\n",
              " Param(parent='DEBERTA_EMBEDDINGS_726558cf0120', name='outputCol', doc='output annotation column. can be left default.'): 'deberta_embeddings',\n",
              " Param(parent='DEBERTA_EMBEDDINGS_726558cf0120', name='storageRef', doc='unique reference name for identification'): 'deberta_v3_base'}"
            ]
          },
          "execution_count": 51,
          "metadata": {},
          "output_type": "execute_result"
        }
      ],
      "source": [
        "embeddings.extractParamMap()"
      ]
    },
    {
      "cell_type": "code",
      "execution_count": null,
      "metadata": {
        "colab": {
          "base_uri": "https://localhost:8080/"
        },
        "id": "cty_jL2zKoeo",
        "outputId": "ed7555b6-0443-4bb6-b73c-8d1fb7028295"
      },
      "outputs": [
        {
          "data": {
            "text/plain": [
              "768"
            ]
          },
          "execution_count": 52,
          "metadata": {},
          "output_type": "execute_result"
        }
      ],
      "source": [
        "embeddings.getDimension()"
      ]
    },
    {
      "cell_type": "code",
      "execution_count": null,
      "metadata": {
        "colab": {
          "base_uri": "https://localhost:8080/",
          "height": 36
        },
        "id": "QDA0JscDKoeo",
        "outputId": "77ad8117-40ca-40a3-f2b7-4ad1d817711a"
      },
      "outputs": [
        {
          "data": {
            "application/vnd.google.colaboratory.intrinsic+json": {
              "type": "string"
            },
            "text/plain": [
              "'deberta_v3_base'"
            ]
          },
          "execution_count": 53,
          "metadata": {},
          "output_type": "execute_result"
        }
      ],
      "source": [
        "embeddings.getStorageRef()"
      ]
    },
    {
      "cell_type": "code",
      "execution_count": null,
      "metadata": {
        "colab": {
          "base_uri": "https://localhost:8080/"
        },
        "id": "cjAmI2vaKoeo",
        "outputId": "34df2fb8-8744-4355-c68b-32e673be4a09"
      },
      "outputs": [
        {
          "data": {
            "text/plain": [
              "True"
            ]
          },
          "execution_count": 54,
          "metadata": {},
          "output_type": "execute_result"
        }
      ],
      "source": [
        "embeddings.getCaseSensitive()"
      ]
    },
    {
      "cell_type": "code",
      "execution_count": null,
      "metadata": {
        "colab": {
          "base_uri": "https://localhost:8080/"
        },
        "id": "BGM_uIoGKoeo",
        "outputId": "a86b39df-f2a5-439d-e694-a8471bea5d71"
      },
      "outputs": [
        {
          "data": {
            "text/plain": [
              "128"
            ]
          },
          "execution_count": 55,
          "metadata": {},
          "output_type": "execute_result"
        }
      ],
      "source": [
        "embeddings.getMaxSentenceLength()"
      ]
    },
    {
      "attachments": {},
      "cell_type": "markdown",
      "metadata": {
        "id": "4Yr_QtOFH9pn"
      },
      "source": [
        "## **DistilBertEmbeddings**"
      ]
    },
    {
      "attachments": {},
      "cell_type": "markdown",
      "metadata": {
        "id": "qfHoGWJ_H9pn"
      },
      "source": [
        "DistilBERT is a small, fast, cheap and light Transformer model trained by distilling BERT base. It has 40% less parameters than `bert-base-uncased`, runs 60% faster while preserving over 95% of BERT’s performances as measured on the GLUE language understanding benchmark\n",
        "\n",
        "The default model is `distilbert_base_cased`, if no name is provided.\n",
        "\n",
        "Notes:\n",
        "- DistilBERT doesn’t have `token_type_ids`, you don’t need to indicate which token belongs to which segment. Just separate your segments with the separation token `tokenizer.sep_token` (or `[SEP]`).\n",
        "- DistilBERT doesn’t have options to select the input positions (`position_ids` input). This could be added if necessary though, just let us know if you need this option.\n",
        "\n",
        "References:\n",
        "\n",
        "[DistilBERT, a distilled version of BERT: smaller, faster, cheaper and lighter](https://arxiv.org/abs/1910.01108)\n",
        "\n",
        "\n",
        "\n"
      ]
    },
    {
      "attachments": {},
      "cell_type": "markdown",
      "metadata": {
        "id": "Ys4FCO52H9pn"
      },
      "source": [
        "For extended examples of usage, see the Examples. To see which models are compatible and how to import them see [Import Transformers into Spark NLP](https://github.com/JohnSnowLabs/spark-nlp/discussions/5669) 🚀."
      ]
    },
    {
      "attachments": {},
      "cell_type": "markdown",
      "metadata": {
        "id": "AtZj6n2CH9pn"
      },
      "source": [
        "📌 Example Pipeline"
      ]
    },
    {
      "cell_type": "code",
      "execution_count": null,
      "metadata": {
        "colab": {
          "base_uri": "https://localhost:8080/"
        },
        "id": "zlwSe0G4H9pn",
        "outputId": "caf7b002-d9b2-4728-8982-8589bf06181b"
      },
      "outputs": [
        {
          "name": "stdout",
          "output_type": "stream",
          "text": [
            "distilbert_base_cased download started this may take some time.\n",
            "Approximate size to download 232.7 MB\n",
            "[OK!]\n",
            "+-------------------+--------------------+--------------------+---------------------+\n",
            "|               text|            document|               token|distilbert_embeddings|\n",
            "+-------------------+--------------------+--------------------+---------------------+\n",
            "|This is a sentence.|[{document, 0, 18...|[{token, 0, 3, Th...| [{word_embeddings...|\n",
            "+-------------------+--------------------+--------------------+---------------------+\n",
            "\n"
          ]
        }
      ],
      "source": [
        "from sparknlp.annotator import DistilBertEmbeddings\n",
        "\n",
        "documentAssembler = DocumentAssembler() \\\n",
        "    .setInputCol(\"text\") \\\n",
        "    .setOutputCol(\"document\")\n",
        "\n",
        "tokenizer = Tokenizer() \\\n",
        "    .setInputCols([\"document\"]) \\\n",
        "    .setOutputCol(\"token\")\n",
        "\n",
        "embeddings = DistilBertEmbeddings.pretrained(\"distilbert_base_cased\", \"en\") \\\n",
        "    .setInputCols([\"token\", \"document\"]) \\\n",
        "    .setOutputCol(\"distilbert_embeddings\")\n",
        "\n",
        "pipeline = Pipeline().setStages([\n",
        "    documentAssembler,\n",
        "    tokenizer,\n",
        "    embeddings,\n",
        "])\n",
        "data = spark.createDataFrame([[\"This is a sentence.\"]]).toDF(\"text\")\n",
        "\n",
        "result = pipeline.fit(data).transform(data)\n",
        "\n",
        "result.show()"
      ]
    },
    {
      "cell_type": "code",
      "execution_count": null,
      "metadata": {
        "colab": {
          "base_uri": "https://localhost:8080/"
        },
        "id": "1OlXLUvbH9pn",
        "outputId": "edb48400-cefe-4d6f-cd25-ced4dee94586"
      },
      "outputs": [
        {
          "name": "stdout",
          "output_type": "stream",
          "text": [
            "+--------+----------------------------------------------------------------------------------------------------+\n",
            "|   token|                                                                                     word_embeddings|\n",
            "+--------+----------------------------------------------------------------------------------------------------+\n",
            "|    This|[0.112722404, -0.1982711, 0.5360897, -0.27253708, -0.075685106, 0.2642052, 0.23035696, 0.18294188...|\n",
            "|      is|[0.35534418, 0.13215211, 0.40981454, 0.14036116, 0.438352, 0.11940758, -0.17943336, -0.011821393,...|\n",
            "|       a|[0.3280855, -0.062693246, -0.01759555, -0.024373924, 0.5054029, -0.3345127, 0.18225227, 0.1259037...|\n",
            "|sentence|[0.15617228, 0.29678234, 0.22324994, -0.04568948, 0.1966655, 0.095580526, -0.037151217, 0.1165782...|\n",
            "|       .|[0.45411414, 0.0117348805, 0.19012982, 0.117825516, 0.28852603, 0.085773185, -0.061838843, -0.229...|\n",
            "+--------+----------------------------------------------------------------------------------------------------+\n",
            "\n"
          ]
        }
      ],
      "source": [
        "result_df = result.select(F.explode(F.arrays_zip(result.token.result, \n",
        "                                                 result.distilbert_embeddings.embeddings)).alias(\"cols\")) \\\n",
        "                  .select(F.expr(\"cols['0']\").alias(\"token\"),\n",
        "                          F.expr(\"cols['1']\").alias(\"word_embeddings\"))\n",
        "\n",
        "result_df.show(truncate=100)"
      ]
    },
    {
      "cell_type": "code",
      "execution_count": null,
      "metadata": {
        "colab": {
          "base_uri": "https://localhost:8080/"
        },
        "id": "4b1BLvgyH9pn",
        "outputId": "6f934d6f-19e8-4540-99d8-739b50341091"
      },
      "outputs": [
        {
          "data": {
            "text/plain": [
              "{Param(parent='DISTILBERT_EMBEDDINGS_8538f657c1cb', name='batchSize', doc='Size of every batch'): 8,\n",
              " Param(parent='DISTILBERT_EMBEDDINGS_8538f657c1cb', name='dimension', doc='Number of embedding dimensions'): 768,\n",
              " Param(parent='DISTILBERT_EMBEDDINGS_8538f657c1cb', name='engine', doc='Deep Learning engine used for this model'): 'tensorflow',\n",
              " Param(parent='DISTILBERT_EMBEDDINGS_8538f657c1cb', name='lazyAnnotator', doc='Whether this AnnotatorModel acts as lazy in RecursivePipelines'): False,\n",
              " Param(parent='DISTILBERT_EMBEDDINGS_8538f657c1cb', name='maxSentenceLength', doc='Max sentence length to process'): 128,\n",
              " Param(parent='DISTILBERT_EMBEDDINGS_8538f657c1cb', name='caseSensitive', doc='whether to ignore case in tokens for embeddings matching'): True,\n",
              " Param(parent='DISTILBERT_EMBEDDINGS_8538f657c1cb', name='inputCols', doc='previous annotations columns, if renamed'): ['token',\n",
              "  'document'],\n",
              " Param(parent='DISTILBERT_EMBEDDINGS_8538f657c1cb', name='outputCol', doc='output annotation column. can be left default.'): 'distilbert_embeddings',\n",
              " Param(parent='DISTILBERT_EMBEDDINGS_8538f657c1cb', name='storageRef', doc='unique reference name for identification'): 'distilbert_base_cased'}"
            ]
          },
          "execution_count": 37,
          "metadata": {},
          "output_type": "execute_result"
        }
      ],
      "source": [
        "embeddings.extractParamMap()"
      ]
    },
    {
      "cell_type": "code",
      "execution_count": null,
      "metadata": {
        "colab": {
          "base_uri": "https://localhost:8080/"
        },
        "id": "CanAfCN8H9po",
        "outputId": "7a3bf1e9-dc2c-4b12-fa36-7c7248c5f7f7"
      },
      "outputs": [
        {
          "data": {
            "text/plain": [
              "768"
            ]
          },
          "execution_count": 38,
          "metadata": {},
          "output_type": "execute_result"
        }
      ],
      "source": [
        "embeddings.getDimension()"
      ]
    },
    {
      "cell_type": "code",
      "execution_count": null,
      "metadata": {
        "colab": {
          "base_uri": "https://localhost:8080/",
          "height": 36
        },
        "id": "10t61KUqH9po",
        "outputId": "debbd331-53dc-42aa-b26b-3be2b2bfdd25"
      },
      "outputs": [
        {
          "data": {
            "application/vnd.google.colaboratory.intrinsic+json": {
              "type": "string"
            },
            "text/plain": [
              "'distilbert_base_cased'"
            ]
          },
          "execution_count": 39,
          "metadata": {},
          "output_type": "execute_result"
        }
      ],
      "source": [
        "embeddings.getStorageRef()"
      ]
    },
    {
      "cell_type": "code",
      "execution_count": null,
      "metadata": {
        "colab": {
          "base_uri": "https://localhost:8080/"
        },
        "id": "iqHvpHipH9po",
        "outputId": "6b056b4f-16f4-470f-fd05-72de6f14c7e5"
      },
      "outputs": [
        {
          "data": {
            "text/plain": [
              "True"
            ]
          },
          "execution_count": 40,
          "metadata": {},
          "output_type": "execute_result"
        }
      ],
      "source": [
        "embeddings.getCaseSensitive()"
      ]
    },
    {
      "cell_type": "code",
      "execution_count": null,
      "metadata": {
        "colab": {
          "base_uri": "https://localhost:8080/"
        },
        "id": "YADY87i-H9po",
        "outputId": "5b95392b-1479-45b4-8c32-cc8d9b2a75ff"
      },
      "outputs": [
        {
          "data": {
            "text/plain": [
              "128"
            ]
          },
          "execution_count": 41,
          "metadata": {},
          "output_type": "execute_result"
        }
      ],
      "source": [
        "embeddings.getMaxSentenceLength()"
      ]
    },
    {
      "attachments": {},
      "cell_type": "markdown",
      "metadata": {
        "id": "G0zx5j8FMtPT"
      },
      "source": [
        "## **RoBertaEmbeddings**"
      ]
    },
    {
      "attachments": {},
      "cell_type": "markdown",
      "metadata": {
        "id": "0E83xbF2MtPU"
      },
      "source": [
        "The RoBERTa model was proposed in RoBERTa: A Robustly Optimized BERT Pretraining Approach by Yinhan Liu, Myle Ott, Naman Goyal, Jingfei Du, Mandar Joshi, Danqi Chen, Omer Levy, Mike Lewis, Luke Zettlemoyer, Veselin Stoyanov. It is based on Google's BERT model released in 2018.\n",
        "\n",
        "It builds on BERT and modifies key hyperparameters, removing the next-sentence pretraining objective and training with much larger mini-batches and learning rates.\n",
        "\n",
        "The default model is `roberta_base`, if no name is provided.\n",
        "\n",
        "Notes:\n",
        "- RoBERTa has the same architecture as BERT, but uses a byte-level BPE as a tokenizer (same as GPT-2) and uses a different pretraining scheme.\n",
        "- RoBERTa doesn’t have `token_type_ids`, you don’t need to indicate which token belongs to which segment. Just separate your segments with the separation token `tokenizer.sep_token` (or `</s>`)\n",
        "\n",
        "References:\n",
        "\n",
        "[RoBERTa: A Robustly Optimized BERT Pretraining Approach](https://arxiv.org/abs/1907.11692)\n",
        "\n",
        "\n"
      ]
    },
    {
      "attachments": {},
      "cell_type": "markdown",
      "metadata": {
        "id": "nZADglVZMtPU"
      },
      "source": [
        "For extended examples of usage, see the Examples. To see which models are compatible and how to import them see [Import Transformers into Spark NLP](https://github.com/JohnSnowLabs/spark-nlp/discussions/5669) 🚀."
      ]
    },
    {
      "attachments": {},
      "cell_type": "markdown",
      "metadata": {
        "id": "2GB3w3JJMtPU"
      },
      "source": [
        "📌 Example Pipeline"
      ]
    },
    {
      "cell_type": "code",
      "execution_count": null,
      "metadata": {
        "colab": {
          "base_uri": "https://localhost:8080/"
        },
        "id": "mjN8akLLMtPU",
        "outputId": "77199e35-e21b-4f34-bee1-7f916265ab52"
      },
      "outputs": [
        {
          "name": "stdout",
          "output_type": "stream",
          "text": [
            "roberta_base download started this may take some time.\n",
            "Approximate size to download 284.8 MB\n",
            "[OK!]\n",
            "+-------------------+--------------------+--------------------+--------------------+\n",
            "|               text|            document|               token|  roberta_embeddings|\n",
            "+-------------------+--------------------+--------------------+--------------------+\n",
            "|This is a sentence.|[{document, 0, 18...|[{token, 0, 3, Th...|[{word_embeddings...|\n",
            "+-------------------+--------------------+--------------------+--------------------+\n",
            "\n"
          ]
        }
      ],
      "source": [
        "from sparknlp.annotator import RoBertaEmbeddings\n",
        "\n",
        "documentAssembler = DocumentAssembler() \\\n",
        "    .setInputCol(\"text\") \\\n",
        "    .setOutputCol(\"document\")\n",
        "\n",
        "tokenizer = Tokenizer() \\\n",
        "    .setInputCols([\"document\"]) \\\n",
        "    .setOutputCol(\"token\")\n",
        "\n",
        "embeddings = RoBertaEmbeddings.pretrained(\"roberta_base\", \"en\") \\\n",
        "    .setInputCols([\"token\", \"document\"]) \\\n",
        "    .setOutputCol(\"roberta_embeddings\")\n",
        "\n",
        "pipeline = Pipeline().setStages([\n",
        "    documentAssembler,\n",
        "    tokenizer,\n",
        "    embeddings,\n",
        "])\n",
        "data = spark.createDataFrame([[\"This is a sentence.\"]]).toDF(\"text\")\n",
        "\n",
        "result = pipeline.fit(data).transform(data)\n",
        "\n",
        "result.show()"
      ]
    },
    {
      "cell_type": "code",
      "execution_count": null,
      "metadata": {
        "colab": {
          "base_uri": "https://localhost:8080/"
        },
        "id": "2o-NzrNqMtPU",
        "outputId": "165e85f8-72ca-44c7-e7f0-ea1799c926ca"
      },
      "outputs": [
        {
          "name": "stdout",
          "output_type": "stream",
          "text": [
            "+--------+----------------------------------------------------------------------------------------------------+\n",
            "|   token|                                                                                     word_embeddings|\n",
            "+--------+----------------------------------------------------------------------------------------------------+\n",
            "|    This|[0.093786284, 0.13879819, 0.054561447, -0.09822701, 0.5803151, 0.35010597, -0.041161597, -0.14824...|\n",
            "|      is|[0.318146, 0.19426662, 0.11430391, -0.056539044, 0.36728883, 0.28514612, -0.034400634, -0.0632320...|\n",
            "|       a|[0.10648708, -0.096296355, -0.07076648, -0.19278553, -0.13884611, 0.4625541, -0.10222921, -0.1612...|\n",
            "|sentence|[-0.05503864, 0.30084205, -0.017401451, -0.22713384, 0.19090027, 0.40622008, 0.015909242, 0.06029...|\n",
            "|       .|[0.21699843, -0.40267494, 0.1304507, 0.26032102, 0.72313684, 0.21582672, 0.029238753, -0.0992592,...|\n",
            "+--------+----------------------------------------------------------------------------------------------------+\n",
            "\n"
          ]
        }
      ],
      "source": [
        "result_df = result.select(F.explode(F.arrays_zip(result.token.result, \n",
        "                                                 result.roberta_embeddings.embeddings)).alias(\"cols\")) \\\n",
        "                  .select(F.expr(\"cols['0']\").alias(\"token\"),\n",
        "                          F.expr(\"cols['1']\").alias(\"word_embeddings\"))\n",
        "\n",
        "result_df.show(truncate=100)"
      ]
    },
    {
      "cell_type": "code",
      "execution_count": null,
      "metadata": {
        "colab": {
          "base_uri": "https://localhost:8080/"
        },
        "id": "LYHC-8zhMtPV",
        "outputId": "c5014f09-7b3c-4cd5-9400-86a546d4f2d1"
      },
      "outputs": [
        {
          "data": {
            "text/plain": [
              "{Param(parent='ROBERTA_EMBEDDINGS_70ac14eb1b76', name='batchSize', doc='Size of every batch'): 8,\n",
              " Param(parent='ROBERTA_EMBEDDINGS_70ac14eb1b76', name='dimension', doc='Number of embedding dimensions'): 768,\n",
              " Param(parent='ROBERTA_EMBEDDINGS_70ac14eb1b76', name='engine', doc='Deep Learning engine used for this model'): 'tensorflow',\n",
              " Param(parent='ROBERTA_EMBEDDINGS_70ac14eb1b76', name='lazyAnnotator', doc='Whether this AnnotatorModel acts as lazy in RecursivePipelines'): False,\n",
              " Param(parent='ROBERTA_EMBEDDINGS_70ac14eb1b76', name='maxSentenceLength', doc='Max sentence length to process'): 128,\n",
              " Param(parent='ROBERTA_EMBEDDINGS_70ac14eb1b76', name='caseSensitive', doc='whether to ignore case in tokens for embeddings matching'): True,\n",
              " Param(parent='ROBERTA_EMBEDDINGS_70ac14eb1b76', name='inputCols', doc='previous annotations columns, if renamed'): ['token',\n",
              "  'document'],\n",
              " Param(parent='ROBERTA_EMBEDDINGS_70ac14eb1b76', name='outputCol', doc='output annotation column. can be left default.'): 'longformer_embeddings',\n",
              " Param(parent='ROBERTA_EMBEDDINGS_70ac14eb1b76', name='storageRef', doc='unique reference name for identification'): 'roberta_base'}"
            ]
          },
          "execution_count": 11,
          "metadata": {},
          "output_type": "execute_result"
        }
      ],
      "source": [
        "embeddings.extractParamMap()"
      ]
    },
    {
      "cell_type": "code",
      "execution_count": null,
      "metadata": {
        "colab": {
          "base_uri": "https://localhost:8080/"
        },
        "id": "HLqIgApTMtPV",
        "outputId": "1da4e32e-2a3c-4734-8e4b-8caa3cf0b37c"
      },
      "outputs": [
        {
          "data": {
            "text/plain": [
              "768"
            ]
          },
          "execution_count": 12,
          "metadata": {},
          "output_type": "execute_result"
        }
      ],
      "source": [
        "embeddings.getDimension()"
      ]
    },
    {
      "cell_type": "code",
      "execution_count": null,
      "metadata": {
        "colab": {
          "base_uri": "https://localhost:8080/",
          "height": 36
        },
        "id": "fLa6LUMaMtPV",
        "outputId": "d809f6a3-e74c-48b7-c824-5b9a58e588b8"
      },
      "outputs": [
        {
          "data": {
            "application/vnd.google.colaboratory.intrinsic+json": {
              "type": "string"
            },
            "text/plain": [
              "'roberta_base'"
            ]
          },
          "execution_count": 13,
          "metadata": {},
          "output_type": "execute_result"
        }
      ],
      "source": [
        "embeddings.getStorageRef()"
      ]
    },
    {
      "cell_type": "code",
      "execution_count": null,
      "metadata": {
        "colab": {
          "base_uri": "https://localhost:8080/"
        },
        "id": "9Dvfv5QKMtPV",
        "outputId": "8cab2d7b-576f-4962-d5f5-22883f94d6d9"
      },
      "outputs": [
        {
          "data": {
            "text/plain": [
              "True"
            ]
          },
          "execution_count": 14,
          "metadata": {},
          "output_type": "execute_result"
        }
      ],
      "source": [
        "embeddings.getCaseSensitive()"
      ]
    },
    {
      "cell_type": "code",
      "execution_count": null,
      "metadata": {
        "colab": {
          "base_uri": "https://localhost:8080/"
        },
        "id": "I_I0acDMMtPV",
        "outputId": "a961200d-822e-473d-8001-2f63372a8625"
      },
      "outputs": [
        {
          "data": {
            "text/plain": [
              "128"
            ]
          },
          "execution_count": 15,
          "metadata": {},
          "output_type": "execute_result"
        }
      ],
      "source": [
        "embeddings.getMaxSentenceLength()"
      ]
    },
    {
      "attachments": {},
      "cell_type": "markdown",
      "metadata": {
        "id": "aX1xKQZp0qhV"
      },
      "source": [
        "# From HuggingFace to Spark NLP"
      ]
    },
    {
      "attachments": {},
      "cell_type": "markdown",
      "metadata": {
        "id": "wpSZy_aC0vWW"
      },
      "source": [
        "Here you will learn how to export a model from HuggingFace to Spark NLP. \n",
        "\n",
        "For compatibility details and examples, check [this page](https://nlp.johnsnowlabs.com/docs/en/transformers#import-transformers-into-spark-nlp)."
      ]
    },
    {
      "attachments": {},
      "cell_type": "markdown",
      "metadata": {
        "id": "MzxB-Nq6cxOA"
      },
      "source": [
        "## Export and Save HuggingFace model"
      ]
    },
    {
      "attachments": {},
      "cell_type": "markdown",
      "metadata": {
        "id": "yNQkhyMHMgkE"
      },
      "source": [
        "- Let's install `HuggingFace` and `TensorFlow`. You don't need `TensorFlow` to be installed for Spark NLP, however, we need it to load and save models from HuggingFace.\n",
        "- We lock TensorFlow on `2.11.0` version and Transformers on `4.25.1`. This doesn't mean it won't work with the future releases, but we wanted you to know which versions have been tested successfully."
      ]
    },
    {
      "attachments": {},
      "cell_type": "markdown",
      "metadata": {
        "id": "gp3-TJsAdiIY"
      },
      "source": [
        "For more embeddings import notebook please check [Import Transformers into Spark NLP 🚀](https://github.com/JohnSnowLabs/spark-nlp/discussions/5669)"
      ]
    },
    {
      "cell_type": "code",
      "execution_count": null,
      "metadata": {
        "id": "hHXgqiWpMfCY"
      },
      "outputs": [],
      "source": [
        "!pip install -q transformers==4.25.1 tensorflow==2.11.0"
      ]
    },
    {
      "attachments": {},
      "cell_type": "markdown",
      "metadata": {
        "id": "Y3AM6bj4P3NS"
      },
      "source": [
        "- HuggingFace comes with a native `saved_model` feature inside `save_pretrained` function for TensorFlow based models. We will use that to save it as TF `SavedModel`.\n",
        "- We'll use [bert-base-cased](https://huggingface.co/bert-base-cased) model from HuggingFace as an example\n",
        "- In addition to `TFBertModel` we also need to save the `BertTokenizer`. This is the same for every model, these are assets needed for tokenization inside Spark NLP."
      ]
    },
    {
      "cell_type": "code",
      "execution_count": null,
      "metadata": {
        "colab": {
          "base_uri": "https://localhost:8080/"
        },
        "id": "ZaiirlSKNhVD",
        "outputId": "47718cd6-42a3-476f-b925-ffbf86a4bc0a"
      },
      "outputs": [
        {
          "name": "stdout",
          "output_type": "stream",
          "text": [
            "try downloading TF weights\n"
          ]
        },
        {
          "name": "stderr",
          "output_type": "stream",
          "text": [
            "Some layers from the model checkpoint at bert-base-cased were not used when initializing TFBertModel: ['mlm___cls', 'nsp___cls']\n",
            "- This IS expected if you are initializing TFBertModel from the checkpoint of a model trained on another task or with another architecture (e.g. initializing a BertForSequenceClassification model from a BertForPreTraining model).\n",
            "- This IS NOT expected if you are initializing TFBertModel from the checkpoint of a model that you expect to be exactly identical (initializing a BertForSequenceClassification model from a BertForSequenceClassification model).\n",
            "All the layers of TFBertModel were initialized from the model checkpoint at bert-base-cased.\n",
            "If your task is similar to the task the model of the checkpoint was trained on, you can already use TFBertModel for predictions without further training.\n",
            "WARNING:absl:Found untraced functions such as embeddings_layer_call_fn, embeddings_layer_call_and_return_conditional_losses, encoder_layer_call_fn, encoder_layer_call_and_return_conditional_losses, pooler_layer_call_fn while saving (showing 5 of 420). These functions will not be directly callable after loading.\n"
          ]
        }
      ],
      "source": [
        "from transformers import TFBertModel, BertTokenizer \n",
        "import tensorflow as tf\n",
        "\n",
        "MODEL_NAME = 'bert-base-cased'\n",
        "\n",
        "tokenizer = BertTokenizer.from_pretrained(MODEL_NAME).save_pretrained('./{}_tokenizer/'.format(MODEL_NAME))\n",
        "\n",
        "# just in case if there is no TF/Keras file provided in the model\n",
        "# we can just use `from_pt` and convert PyTorch to TensorFlow\n",
        "try:\n",
        "  print('try downloading TF weights')\n",
        "  model = TFBertModel.from_pretrained(MODEL_NAME)\n",
        "except:\n",
        "  print('try downloading PyTorch weights')\n",
        "  model = TFBertModel.from_pretrained(MODEL_NAME, from_pt=True)\n",
        "\n",
        "# Define TF Signature\n",
        "@tf.function(\n",
        "  input_signature=[\n",
        "      {\n",
        "          \"input_ids\": tf.TensorSpec((None, None), tf.int32, name=\"input_ids\"),\n",
        "          \"attention_mask\": tf.TensorSpec((None, None), tf.int32, name=\"attention_mask\"),\n",
        "          \"token_type_ids\": tf.TensorSpec((None, None), tf.int32, name=\"token_type_ids\"),\n",
        "      }\n",
        "  ]\n",
        ")\n",
        "def serving_fn(input):\n",
        "    return model(input)\n",
        "\n",
        "model.save_pretrained(\"./{}\".format(MODEL_NAME), saved_model=True, signatures={\"serving_default\": serving_fn})\n"
      ]
    },
    {
      "attachments": {},
      "cell_type": "markdown",
      "metadata": {
        "id": "nlgyZuJfS5IB"
      },
      "source": [
        "Let's have a look inside these two directories and see what we are dealing with:"
      ]
    },
    {
      "cell_type": "code",
      "execution_count": null,
      "metadata": {
        "colab": {
          "base_uri": "https://localhost:8080/"
        },
        "id": "p2XCole7TTef",
        "outputId": "ae435963-bb26-4d3d-f21d-bb82cbb4dac5"
      },
      "outputs": [
        {
          "name": "stdout",
          "output_type": "stream",
          "text": [
            "total 423356\n",
            "-rw-r--r-- 1 root root       628 Jan 11 19:02 config.json\n",
            "drwxr-xr-x 3 root root      4096 Jan 11 19:02 saved_model\n",
            "-rw-r--r-- 1 root root 433508352 Jan 11 19:02 tf_model.h5\n"
          ]
        }
      ],
      "source": [
        "!ls -l {MODEL_NAME}"
      ]
    },
    {
      "cell_type": "code",
      "execution_count": null,
      "metadata": {
        "colab": {
          "base_uri": "https://localhost:8080/"
        },
        "id": "r0DOGz8VUR-r",
        "outputId": "9e98b160-5182-4041-9d10-ed35510dead2"
      },
      "outputs": [
        {
          "name": "stdout",
          "output_type": "stream",
          "text": [
            "total 8800\n",
            "drwxr-xr-x 2 root root    4096 Jan 11 19:02 assets\n",
            "-rw-r--r-- 1 root root      54 Jan 11 19:02 fingerprint.pb\n",
            "-rw-r--r-- 1 root root  165091 Jan 11 19:02 keras_metadata.pb\n",
            "-rw-r--r-- 1 root root 8827430 Jan 11 19:02 saved_model.pb\n",
            "drwxr-xr-x 2 root root    4096 Jan 11 19:02 variables\n"
          ]
        }
      ],
      "source": [
        "!ls -l {MODEL_NAME}/saved_model/1"
      ]
    },
    {
      "cell_type": "code",
      "execution_count": null,
      "metadata": {
        "colab": {
          "base_uri": "https://localhost:8080/"
        },
        "id": "Mcm2UpNxUUQN",
        "outputId": "b839f7da-b2a3-4a5b-b4d7-10d845ec0279"
      },
      "outputs": [
        {
          "name": "stdout",
          "output_type": "stream",
          "text": [
            "total 220\n",
            "-rw-r--r-- 1 root root    125 Jan 11 19:01 special_tokens_map.json\n",
            "-rw-r--r-- 1 root root    399 Jan 11 19:01 tokenizer_config.json\n",
            "-rw-r--r-- 1 root root 213450 Jan 11 19:01 vocab.txt\n"
          ]
        }
      ],
      "source": [
        "!ls -l {MODEL_NAME}_tokenizer"
      ]
    },
    {
      "attachments": {},
      "cell_type": "markdown",
      "metadata": {
        "id": "gZegMvuGTmHt"
      },
      "source": [
        "- as you can see, we need the SavedModel from `saved_model/1/` path\n",
        "- we also be needing `vocab.txt` from the tokenizer\n",
        "- all we need is to just copy the `vocab.txt` to `saved_model/1/assets` which Spark NLP will look for"
      ]
    },
    {
      "cell_type": "code",
      "execution_count": null,
      "metadata": {
        "id": "ez6MT-RTT7ss"
      },
      "outputs": [],
      "source": [
        "!cp {MODEL_NAME}_tokenizer/vocab.txt {MODEL_NAME}/saved_model/1/assets"
      ]
    },
    {
      "attachments": {},
      "cell_type": "markdown",
      "metadata": {
        "id": "NlJKd2tIU0PD"
      },
      "source": [
        "## Import and Save BERT in Spark NLP\n"
      ]
    },
    {
      "attachments": {},
      "cell_type": "markdown",
      "metadata": {
        "id": "ABTu9MrdVafM"
      },
      "source": [
        "- Let's use `loadSavedModel` functon in `BertEmbeddings` which allows us to load TensorFlow model in SavedModel format\n",
        "- Most params can be set later when you are loading this model in `BertEmbeddings` in runtime, so don't worry what you are setting them now\n",
        "- `loadSavedModel` accepts two params, first is the path to the TF SavedModel. The second is the SparkSession that is `spark` variable we previously started via `sparknlp.start()`\n",
        "- `setStorageRef` is very important. When you are training a task like NER or any Text Classification, we use this reference to bound the trained model to this specific embeddings so you won't load a different embeddings by mistake and see terrible results 😊\n",
        "- It's up to you what you put in `setStorageRef` but it cannot be changed later on. We usually use the name of the model to be clear, but you can get creative if you want! \n",
        "- The `dimension` param is is purely cosmetic and won't change anything. It's mostly for you to know later via `.getDimension` what is the dimension of your model. So set this accordingly.\n",
        "- NOTE: `loadSavedModel` accepts local paths in addition to distributed file systems such as `HDFS`, `S3`, `DBFS`, etc. This feature was introduced in Spark NLP 4.2.2 release. Keep in mind that the best and recommended way to move/share/reuse Spark NLP models is to use `write.save` so you can use `.load()` from any file systems natively.\n"
      ]
    },
    {
      "cell_type": "code",
      "execution_count": null,
      "metadata": {
        "id": "8W_almibVRTj"
      },
      "outputs": [],
      "source": [
        "from sparknlp.annotator import *\n",
        "\n",
        "bert = BertEmbeddings.loadSavedModel(\n",
        "     '{}/saved_model/1'.format(MODEL_NAME),\n",
        "     spark\n",
        " )\\\n",
        " .setInputCols([\"sentence\",'token'])\\\n",
        " .setOutputCol(\"bert\")\\\n",
        " .setCaseSensitive(True)\\\n",
        " .setDimension(768)\\\n",
        " .setStorageRef('bert_base_cased') "
      ]
    },
    {
      "attachments": {},
      "cell_type": "markdown",
      "metadata": {
        "id": "PjGiq4KnXWuy"
      },
      "source": [
        "- Let's save it on disk so it is easier to be moved around and also be used later via `.load` function"
      ]
    },
    {
      "cell_type": "code",
      "execution_count": null,
      "metadata": {
        "id": "iWu5HfbnXAlM"
      },
      "outputs": [],
      "source": [
        "bert.write().overwrite().save(\"./{}_spark_nlp\".format(MODEL_NAME))"
      ]
    },
    {
      "attachments": {},
      "cell_type": "markdown",
      "metadata": {
        "id": "QCrjxPhzDplN"
      },
      "source": [
        "Let's clean up stuff we don't need anymore"
      ]
    },
    {
      "cell_type": "code",
      "execution_count": null,
      "metadata": {
        "id": "ZgkVIJshDtLx"
      },
      "outputs": [],
      "source": [
        "!rm -rf {MODEL_NAME}_tokenizer {MODEL_NAME}"
      ]
    },
    {
      "attachments": {},
      "cell_type": "markdown",
      "metadata": {
        "id": "-TSeTRZpXqWO"
      },
      "source": [
        "Awesome 😎  !\n",
        "\n",
        "This is your BERT model from HuggingFace 🤗  loaded and saved by Spark NLP 🚀 "
      ]
    },
    {
      "cell_type": "code",
      "execution_count": null,
      "metadata": {
        "colab": {
          "base_uri": "https://localhost:8080/"
        },
        "id": "ogpxSWxOXj3W",
        "outputId": "63761547-f63d-40fb-9dfa-3710dbe02a04"
      },
      "outputs": [
        {
          "name": "stdout",
          "output_type": "stream",
          "text": [
            "total 431636\n",
            "-rw-r--r-- 1 root root 441980332 Jan 11 19:45 bert_tensorflow\n",
            "drwxr-xr-x 4 root root      4096 Jan 11 19:45 fields\n",
            "drwxr-xr-x 2 root root      4096 Jan 11 19:45 metadata\n"
          ]
        }
      ],
      "source": [
        "! ls -l {MODEL_NAME}_spark_nlp"
      ]
    },
    {
      "attachments": {},
      "cell_type": "markdown",
      "metadata": {
        "id": "Fbehje7fYTDj"
      },
      "source": [
        "Now let's see how we can use it on other machines, clusters, or any place you wish to use your new and shiny BERT model 😊 "
      ]
    },
    {
      "cell_type": "code",
      "execution_count": null,
      "metadata": {
        "id": "1mm3CvkwYRgs"
      },
      "outputs": [],
      "source": [
        "bert_loaded = BertEmbeddings.load(\"./{}_spark_nlp\".format(MODEL_NAME))\\\n",
        "  .setInputCols([\"sentence\",'token'])\\\n",
        "  .setOutputCol(\"bert\")\\\n",
        "  .setCaseSensitive(True)"
      ]
    },
    {
      "cell_type": "code",
      "execution_count": null,
      "metadata": {
        "colab": {
          "base_uri": "https://localhost:8080/",
          "height": 36
        },
        "id": "pGRTNISyYlnO",
        "outputId": "1bb2a48f-b9c8-4089-fadd-2140c8b759fc"
      },
      "outputs": [
        {
          "data": {
            "application/vnd.google.colaboratory.intrinsic+json": {
              "type": "string"
            },
            "text/plain": [
              "'bert_base_cased'"
            ]
          },
          "execution_count": 46,
          "metadata": {},
          "output_type": "execute_result"
        }
      ],
      "source": [
        "bert_loaded.getStorageRef()"
      ]
    },
    {
      "attachments": {},
      "cell_type": "markdown",
      "metadata": {
        "id": "_he2LDtBYo1h"
      },
      "source": [
        "That's it! You can now go wild and use hundreds of BERT models from HuggingFace 🤗 in Spark NLP 🚀 \n"
      ]
    }
  ],
  "metadata": {
    "colab": {
      "provenance": []
    },
    "kernelspec": {
      "display_name": "Python 3",
      "name": "python3"
    },
    "language_info": {
      "name": "python"
    }
  },
  "nbformat": 4,
  "nbformat_minor": 0
}

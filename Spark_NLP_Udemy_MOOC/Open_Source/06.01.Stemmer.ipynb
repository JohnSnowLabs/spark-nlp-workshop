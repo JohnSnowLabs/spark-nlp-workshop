{
  "cells": [
    {
      "attachments": {},
      "cell_type": "markdown",
      "metadata": {
        "id": "klIak_Gb_OPJ"
      },
      "source": [
        "![JohnSnowLabs](https://nlp.johnsnowlabs.com/assets/images/logo.png)\n"
      ]
    },
    {
      "attachments": {},
      "cell_type": "markdown",
      "metadata": {},
      "source": [
        "[![Open In Colab](https://colab.research.google.com/assets/colab-badge.svg)](https://colab.research.google.com/github/JohnSnowLabs/spark-nlp-workshop/blob/master/Spark_NLP_Udemy_MOOC/Open_Source/06.01.Stemmer.ipynb)"
      ]
    },
    {
      "attachments": {},
      "cell_type": "markdown",
      "metadata": {
        "id": "bewC1SWN-6jB"
      },
      "source": [
        "# **Stemmer**"
      ]
    },
    {
      "attachments": {},
      "cell_type": "markdown",
      "metadata": {
        "id": "J5mRfBZFz6m1"
      },
      "source": [
        "This notebook will cover the different parameters and usages of `Stemmer`. \n",
        "\n",
        "**📖 Learning Objectives:**\n",
        "\n",
        "1. Understand how extract the base form of the words by removing affixes from them.\n",
        "\n",
        "2. Learn how to create pipelines with this annotator.\n",
        "\n",
        "\n",
        "**🔗 Helpful Links:**\n",
        "\n",
        "- Documentation : [Stemmer](https://nlp.johnsnowlabs.com/docs/en/annotators#stemmer)\n",
        "\n",
        "- Python Docs : [Stemmer](https://nlp.johnsnowlabs.com/api/python/reference/autosummary/sparknlp/annotator/stemmer/index.html)\n",
        "\n",
        "- Scala Docs : [Stemmer](https://nlp.johnsnowlabs.com/api/com/johnsnowlabs/nlp/annotators/Stemmer.html)\n",
        "\n",
        "- For extended examples of usage, see the [Spark NLP Workshop repository](https://colab.research.google.com/github/JohnSnowLabs/spark-nlp-workshop/blob/master/tutorials/Certification_Trainings/Public/)."
      ]
    },
    {
      "attachments": {},
      "cell_type": "markdown",
      "metadata": {
        "id": "A4hMnkhd_ik9"
      },
      "source": [
        "## **🎬 Colab Setup**"
      ]
    },
    {
      "cell_type": "code",
      "execution_count": 6,
      "metadata": {
        "id": "xrdvNxjD_yQI"
      },
      "outputs": [],
      "source": [
        "# Install PySpark and Spark NLP\n",
        "!pip install -q pyspark==3.1.2  spark-nlp==4.2.4"
      ]
    },
    {
      "cell_type": "code",
      "execution_count": 18,
      "metadata": {
        "id": "W5D63vBo_0u0"
      },
      "outputs": [],
      "source": [
        "import sparknlp\n",
        "from sparknlp.base import DocumentAssembler, LightPipeline, Pipeline\n",
        "from sparknlp.annotator import Tokenizer, Stemmer\n",
        "\n",
        "spark = sparknlp.start()"
      ]
    },
    {
      "attachments": {},
      "cell_type": "markdown",
      "metadata": {
        "id": "gekGlxgO1w7J"
      },
      "source": [
        "## **🖨️ Input/Output Annotation Types**"
      ]
    },
    {
      "attachments": {},
      "cell_type": "markdown",
      "metadata": {
        "id": "cdeAJsEJ10tz"
      },
      "source": [
        "- Input: `TOKEN`\n",
        "\n",
        "- Output: `TOKEN`"
      ]
    },
    {
      "attachments": {},
      "cell_type": "markdown",
      "metadata": {
        "id": "4I43zb88d1hS"
      },
      "source": [
        "## **🔎 Parameters**\n",
        "\n",
        "None"
      ]
    },
    {
      "attachments": {},
      "cell_type": "markdown",
      "metadata": {
        "id": "i-WQg2pN2ODD"
      },
      "source": [
        "## **Example Pipeline**"
      ]
    },
    {
      "cell_type": "code",
      "execution_count": 19,
      "metadata": {
        "colab": {
          "base_uri": "https://localhost:8080/"
        },
        "id": "gozpR1qxT95a",
        "outputId": "0deed994-e00e-498e-8a24-22e46825b490"
      },
      "outputs": [
        {
          "name": "stdout",
          "output_type": "stream",
          "text": [
            "+-----------------------------+----------------------------------------+----------------------------------------+----------------------------------------+\n",
            "|                         text|                                document|                                   token|                                    stem|\n",
            "+-----------------------------+----------------------------------------+----------------------------------------+----------------------------------------+\n",
            "|I love working with SparkNLP.|[{document, 0, 28, I love working wit...|[{token, 0, 0, I, {sentence -> 0}, []...|[{token, 0, 0, i, {sentence -> 0}, []...|\n",
            "|       I am living in Canada.|[{document, 0, 21, I am living in Can...|[{token, 0, 0, I, {sentence -> 0}, []...|[{token, 0, 0, i, {sentence -> 0}, []...|\n",
            "+-----------------------------+----------------------------------------+----------------------------------------+----------------------------------------+\n",
            "\n"
          ]
        }
      ],
      "source": [
        "documentAssembler = DocumentAssembler()\\\n",
        "    .setInputCol(\"text\")\\\n",
        "    .setOutputCol(\"document\")\n",
        "\n",
        "tokenizer = Tokenizer() \\\n",
        "    .setInputCols([\"document\"]) \\\n",
        "    .setOutputCol(\"token\")\n",
        "\n",
        "stemmer = Stemmer() \\\n",
        "    .setInputCols([\"token\"]) \\\n",
        "    .setOutputCol(\"stem\")\n",
        "\n",
        "nlpPipeline = Pipeline(stages=[documentAssembler, \n",
        "                               tokenizer,\n",
        "                               stemmer])\n",
        "\n",
        "sample_texts = [[\"I love working with SparkNLP.\"], \n",
        "        [\"I am living in Canada.\"]]\n",
        "\n",
        "data = spark.createDataFrame(sample_texts).toDF(\"text\")\n",
        "\n",
        "model = nlpPipeline.fit(data)\n",
        "\n",
        "result = model.transform(data)\n",
        "result.show(truncate=40)"
      ]
    },
    {
      "cell_type": "code",
      "execution_count": 20,
      "metadata": {
        "colab": {
          "base_uri": "https://localhost:8080/"
        },
        "id": "cAYuKjiVUlJa",
        "outputId": "78ea7663-d25c-473e-af09-ef7f820b1471"
      },
      "outputs": [
        {
          "name": "stdout",
          "output_type": "stream",
          "text": [
            "+-------------------------------------+----------------------------------+\n",
            "|result                               |result                            |\n",
            "+-------------------------------------+----------------------------------+\n",
            "|[I, love, working, with, SparkNLP, .]|[i, love, work, with, sparknlp, .]|\n",
            "|[I, am, living, in, Canada, .]       |[i, am, live, in, canada, .]      |\n",
            "+-------------------------------------+----------------------------------+\n",
            "\n"
          ]
        }
      ],
      "source": [
        "result.select('token.result', 'stem.result').show(truncate=False)"
      ]
    },
    {
      "attachments": {},
      "cell_type": "markdown",
      "metadata": {
        "id": "N-ht8YIgxc8E"
      },
      "source": [
        "## 🎯 **Usage with LightPipeline**"
      ]
    },
    {
      "attachments": {},
      "cell_type": "markdown",
      "metadata": {
        "id": "w6qdH4ONyUar"
      },
      "source": [
        "- **LightPipeline** is a Spark NLP specific Pipeline class equivalent to Spark ML Pipeline. The difference is that its execution does not hold to Spark principles, instead, it computes everything locally (but in parallel) in order to achieve faster inference when dealing with small amounts of data. This means, we don't have to Spark Dataframe, but a string or an array of strings instead, to be annotated. To create Light Pipelines, you need to input an already trained (fit) Spark ML Pipeline.\n",
        "\n",
        "- It’s `transform()` stage is converted into `annotate()` or `fullAnnotate()` instead. <br/>\n",
        "\n",
        "- Let's ceate a pipeline with `MarianTransformer`, and run it with `LightPipeline` and see the results with an example text. "
      ]
    },
    {
      "cell_type": "code",
      "execution_count": 15,
      "metadata": {
        "id": "0VKFiLhSeFcZ"
      },
      "outputs": [],
      "source": [
        "from sparknlp.base import LightPipeline\n",
        "\n",
        "\n",
        "light_pipeline = LightPipeline(model)"
      ]
    },
    {
      "cell_type": "code",
      "execution_count": 21,
      "metadata": {
        "colab": {
          "base_uri": "https://localhost:8080/"
        },
        "id": "yM3IMDh8yd06",
        "outputId": "ea704452-f37b-4f4b-c842-5e8ab7b6a847"
      },
      "outputs": [
        {
          "data": {
            "text/plain": [
              "['i', 'love', 'work', 'with', 'sparknlp', '.']"
            ]
          },
          "execution_count": 21,
          "metadata": {},
          "output_type": "execute_result"
        }
      ],
      "source": [
        "light_pipeline.annotate(\"I love working with SparkNLP.\")[\"stem\"]"
      ]
    },
    {
      "cell_type": "code",
      "execution_count": 22,
      "metadata": {
        "colab": {
          "base_uri": "https://localhost:8080/"
        },
        "id": "-swd38giysY8",
        "outputId": "b705b187-a459-4462-bd35-521a0e40518c"
      },
      "outputs": [
        {
          "data": {
            "text/plain": [
              "[Annotation(token, 0, 0, i, {'sentence': '0'}),\n",
              " Annotation(token, 2, 5, love, {'sentence': '0'}),\n",
              " Annotation(token, 7, 13, work, {'sentence': '0'}),\n",
              " Annotation(token, 15, 18, with, {'sentence': '0'}),\n",
              " Annotation(token, 20, 27, sparknlp, {'sentence': '0'}),\n",
              " Annotation(token, 28, 28, ., {'sentence': '0'})]"
            ]
          },
          "execution_count": 22,
          "metadata": {},
          "output_type": "execute_result"
        }
      ],
      "source": [
        "light_pipeline.fullAnnotate(\"I love working with SparkNLP.\")[0][\"stem\"]"
      ]
    },
    {
      "cell_type": "code",
      "execution_count": null,
      "metadata": {
        "id": "ZEAExw0VywDG"
      },
      "outputs": [],
      "source": []
    }
  ],
  "metadata": {
    "colab": {
      "provenance": []
    },
    "kernelspec": {
      "display_name": "Python 3",
      "name": "python3"
    },
    "language_info": {
      "name": "python"
    }
  },
  "nbformat": 4,
  "nbformat_minor": 0
}

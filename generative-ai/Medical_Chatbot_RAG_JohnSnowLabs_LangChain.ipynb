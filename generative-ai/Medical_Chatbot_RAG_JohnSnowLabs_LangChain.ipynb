{
  "cells": [
    {
      "cell_type": "markdown",
      "metadata": {
        "id": "_KQWAfccrh6k"
      },
      "source": [
        "![JohnSnowLabs](https://nlp.johnsnowlabs.com/assets/images/logo.png)"
      ]
    },
    {
      "cell_type": "markdown",
      "metadata": {},
      "source": [
        "[![Open In Colab](https://colab.research.google.com/assets/colab-badge.svg)](https://colab.research.google.com/github/JohnSnowLabs/spark-nlp-workshop/blob/master/generative-ai/Medical_Chatbot_RAG_JohnSnowLabs_LangChain.ipynb)"
      ]
    },
    {
      "cell_type": "markdown",
      "metadata": {
        "id": "4LVCeBCOrh6p"
      },
      "source": [
        "# Medical Chatbot RAG JohnSnowLabs"
      ]
    },
    {
      "cell_type": "code",
      "execution_count": null,
      "metadata": {
        "application/vnd.databricks.v1+cell": {
          "cellMetadata": {
            "byteLimit": 2048000,
            "rowLimit": 10000
          },
          "inputWidgets": {},
          "nuid": "7816b8d6-7b30-4788-90d1-eb39958523aa",
          "showTitle": false,
          "title": ""
        },
        "id": "chPMOTBdUkRV"
      },
      "outputs": [],
      "source": [
        "!pip install -q --upgrade pip\n",
        "!pip install -q --upgrade johnsnowlabs==5.1.9\n",
        "!pip install -q --upgrade langchain openai tiktoken faiss-cpu\n",
        "!pip install -q --upgrade unstructured==0.10.18\n",
        "!pip install -q --upgrade ctransformers\n",
        "!pip install -q --upgrade transformers einops\n",
        "!pip install -q --upgrade bitsandbytes accelerate\n",
        "!pip install -q --upgrade datasets\n",
        "\n",
        "# restart session after installing evertything\n",
        "from johnsnowlabs import nlp\n",
        "nlp.start(\n",
        "    hardware_target = \"cpu\"\n",
        ")\n",
        "\n",
        "# restart session after installing evertything\n",
        "import os\n",
        "os.kill(os.getpid(), 9)\n"
      ]
    },
    {
      "cell_type": "code",
      "execution_count": null,
      "metadata": {
        "colab": {
          "base_uri": "https://localhost:8080/",
          "height": 237
        },
        "id": "AINZydAGt3kZ",
        "outputId": "155b5807-6f53-424a-cfd3-fb301c68dab3"
      },
      "outputs": [
        {
          "name": "stdout",
          "output_type": "stream",
          "text": [
            "👌 Launched \u001b[92mcpu optimized\u001b[39m session with with: 🚀Spark-NLP==5.1.4, running on ⚡ PySpark==3.1.2\n"
          ]
        },
        {
          "data": {
            "text/html": [
              "\n",
              "            <div>\n",
              "                <p><b>SparkSession - in-memory</b></p>\n",
              "                \n",
              "        <div>\n",
              "            <p><b>SparkContext</b></p>\n",
              "\n",
              "            <p><a href=\"http://bd4d19040241:4040\">Spark UI</a></p>\n",
              "\n",
              "            <dl>\n",
              "              <dt>Version</dt>\n",
              "                <dd><code>v3.1.2</code></dd>\n",
              "              <dt>Master</dt>\n",
              "                <dd><code>local[*]</code></dd>\n",
              "              <dt>AppName</dt>\n",
              "                <dd><code>John-Snow-Labs-Spark-Session 🚀 with Jars for: 🚀Spark-NLP==5.1.4, running on ⚡ PySpark==3.1.2</code></dd>\n",
              "            </dl>\n",
              "        </div>\n",
              "        \n",
              "            </div>\n",
              "        "
            ],
            "text/plain": [
              "<pyspark.sql.session.SparkSession at 0x7b0e578af700>"
            ]
          },
          "execution_count": 1,
          "metadata": {},
          "output_type": "execute_result"
        }
      ],
      "source": [
        "from johnsnowlabs import nlp\n",
        "spark = nlp.start(\n",
        "    hardware_target = \"cpu\"\n",
        ")\n",
        "spark"
      ]
    },
    {
      "cell_type": "markdown",
      "metadata": {
        "application/vnd.databricks.v1+cell": {
          "cellMetadata": {},
          "inputWidgets": {},
          "nuid": "5b55a201-6bca-42ae-ac2c-9e583cfd4798",
          "showTitle": false,
          "title": ""
        },
        "id": "UQd9XFOfVBZx"
      },
      "source": [
        "#  Johnsnowlabs LangChain Integrations\n",
        "\n",
        "Johnsnowlabs provides the following components which can be used inside the [Langchain Framework](https://www.langchain.com/) for scalable pre-processing&embedding on\n",
        "[spark clusters](https://spark.apache.org/) as Agent Tools and Pipeline components. With this you can create Easy-Scalable&Production-Grade LLM&RAG applications.\n",
        "See the [Langchain with Johnsnowlabs Tutorial Notebook](https://github.com/JohnSnowLabs/johnsnowlabs/blob/main/notebooks/langchain_with_johnsnowlabs.ipynb)\n",
        "\n"
      ]
    },
    {
      "cell_type": "markdown",
      "metadata": {
        "application/vnd.databricks.v1+cell": {
          "cellMetadata": {},
          "inputWidgets": {},
          "nuid": "0630e9e7-a8d9-40b5-bc71-2186e94a3f53",
          "showTitle": false,
          "title": ""
        },
        "id": "vhrhCsOeVTRq"
      },
      "source": [
        "## JohnSnowLabsLangChainCharSplitter\n",
        "Pre-Process you documents in a scalable fashion in Langchain\n",
        "based on [Spark-NLP's DocumentCharacterTextSplitter](https://sparknlp.org/docs/en/annotators#documentcharactertextsplitter) and supports all of it's [parameters](https://sparknlp.org/api/python/reference/autosummary/sparknlp/annotator/document_character_text_splitter/index.html#sparknlp.annotator.document_character_text_splitter.DocumentCharacterTextSplitter)"
      ]
    },
    {
      "cell_type": "markdown",
      "metadata": {
        "application/vnd.databricks.v1+cell": {
          "cellMetadata": {},
          "inputWidgets": {},
          "nuid": "f138487d-11d7-418f-b4ec-fcd4b385ab93",
          "showTitle": false,
          "title": ""
        },
        "id": "AUAAK0HSVWvh"
      },
      "source": [
        "```python\n",
        "from langchain.document_loaders import TextLoader\n",
        "loader = TextLoader('/content/state_of_the_union.txt')\n",
        "documents = loader.load()\n",
        "\n",
        "# Create Pre-Processor which is connected to spark-cluster\n",
        "from johnsnowlabs.llm import embedding_retrieval\n",
        "processor = embedding_retrieval.JohnSnowLabsLangChainCharSplitter(\n",
        "    chunk_overlap=2,\n",
        "    chunk_size=20,\n",
        "    explode_splits=True,\n",
        "    keep_seperators=True,\n",
        "    patterns_are_regex=False,\n",
        "    split_patterns=[\"\\n\\n\", \"\\n\", \" \", \"\"],\n",
        "    trim_whitespace=True,\n",
        ")\n",
        "\n",
        "# Process document distributed on a spark-cluster\n",
        "pre_processed_docs = jsl_splitter.split_documents(documents)\n",
        "```"
      ]
    },
    {
      "cell_type": "markdown",
      "metadata": {
        "application/vnd.databricks.v1+cell": {
          "cellMetadata": {},
          "inputWidgets": {},
          "nuid": "3f2f3d83-1e64-40e9-9558-93a3afd1ae20",
          "showTitle": false,
          "title": ""
        },
        "id": "u3k95Ch7rh6v"
      },
      "source": [
        "## JohnSnowLabsLangChainCustomDocumentSplitter\n",
        "\n",
        "An ultimate solution for tailored document segmentation in the world of medical and clinical notes within the RAG architecture. Based on Healthcare NLP library's [Document Splitter](https://colab.research.google.com/github/JohnSnowLabs/spark-nlp-workshop/blob/master/tutorials/Certification_Trainings/Healthcare/38.InternalDocumentSplitter.ipynb), it is an innovative annotator designed to effortlessly break down extensive documents into manageable segments. Empowering users with the ability to define custom separators, respecting the sentence boundaries or max number of tokens (both BPE and classic token) this tool seamlessly divides texts, ensuring each chunk adheres to specific criteria.\n",
        "\n",
        "InternalDocumentSplitter has a setSplitMode method to decide how to split documents.\n",
        "\n",
        "**Parameters**:\n",
        "\n",
        "- `chunkSize`: Size of each chunk of text. This param is applicable only for \"recursive\" splitMode.\n",
        "- `chunkOverlap`: Length of the overlap between text chunks, by default `0`. This param is applicable only for `recursive` splitMode.\n",
        "- `splitPatterns`: Patterns to split the document.\n",
        "patternsAreRegex. Whether to interpret the split patterns as regular expressions, by default `True`.\n",
        "- `keepSeparators`: Whether to keep the separators in the final result , by default `True`. This param is applicable only for \"recursive\" splitMode.\n",
        "- `explodeSplits`: Whether to explode split chunks to separate rows , by default `False`.\n",
        "- `trimWhitespace`: Whether to trim whitespaces of extracted chunks , by default `True`.\n",
        "- `splitMode`: The split mode to determine how text should be segmented. Default: 'regex'. It should be one of the following values:\n",
        "  - \"char\": Split text based on individual characters.\n",
        "  - \"token\": Split text based on tokens. You should supply tokens from inputCols.\n",
        "  - \"sentence\": Split text based on sentences. You should supply sentences from inputCols.\n",
        "  - \"recursive\": Split text recursively using a specific algorithm.\n",
        "  - \"regex\": Split text based on a regular expression pattern.\n",
        "- `sentenceAwareness`: Whether to split the document by sentence awareness if possible.\n",
        "  - If true, it can stop the split process before maxLength.\n",
        "  - If true, you should supply sentences from inputCols. Default: False.\n",
        "  - This param is not applicable only for `regex` and `recursive` splitMode.\n",
        "- `maxLength`: The maximum length allowed for spitting. The mode in which the maximum length is specified:\n",
        "  - \"char\": Maximum length is measured in characters. Default: `512`\n",
        "  - \"token\": Maximum length is measured in tokens. Default: `128`\n",
        "  - \"sentence\": Maximum length is measured in sentences. Default: `8`\n",
        "- `customBoundsStrategy`: The custom bounds strategy for text splitting using regular expressions. This param is applicable only for `regex` splitMode.\n",
        "- `caseSensitive`: Whether to use case sensitive when matching regex, by default `False`. This param is applicable only for `regex` splitMode.\n",
        "-  `metaDataFields`: Metadata fields to add specified data in columns to the metadata of the split documents.         You should set column names to read columns."
      ]
    },
    {
      "cell_type": "markdown",
      "metadata": {
        "application/vnd.databricks.v1+cell": {
          "cellMetadata": {},
          "inputWidgets": {},
          "nuid": "40d220b5-8607-4f59-9122-32d38eb8ab25",
          "showTitle": false,
          "title": ""
        },
        "id": "vXhrVPmHrh6v"
      },
      "source": [
        "```python\n",
        "from langchain.document_loaders import TextLoader\n",
        "\n",
        "loader = TextLoader('/content/state_of_the_union.txt')\n",
        "documents = loader.load()\n",
        "\n",
        "from johnsnowlabs.llm import embedding_retrieval\n",
        "\n",
        "processor = embedding_retrieval.JohnSnowLabsLangChainCustomDocumentSplitter(\n",
        "    .setInputCols(\"document\")\\\n",
        "    .setOutputCol(\"splits\")\\\n",
        "    .setSplitMode(\"regex\")\\\n",
        "    .setSplitPatterns([\"PRESENT ILLNESS:\", \"SUBJECTIVE:\", \"MEDICAL HISTORY:\", \"MEDICATIONS:\"])\\\n",
        "    .setCaseSensitive(True) \\\n",
        "    .setCustomBoundsStrategy(\"prepend\")\\\n",
        "    .setExplodeSplits(True) \\\n",
        ")\n",
        "\n",
        "# Process document distributed on a spark-cluster\n",
        "pre_processed_docs = jsl_splitter.split_documents(documents)\n",
        "```"
      ]
    },
    {
      "cell_type": "markdown",
      "metadata": {
        "application/vnd.databricks.v1+cell": {
          "cellMetadata": {},
          "inputWidgets": {},
          "nuid": "9516cd3c-63e7-436e-a442-b59b8cf1dcf3",
          "showTitle": false,
          "title": ""
        },
        "id": "wlGv9CuWVZLl"
      },
      "source": [
        "## JohnSnowLabsLangChainEmbedder\n",
        "Scalable Embedding computation with [any Sentence Embedding](https://nlp.johnsnowlabs.com/models?task=Embeddings) from John Snow Labs.\n",
        "You must provide the **NLU reference** of a sentence embeddings to load it.\n",
        "You can start a spark session by setting `hardware_target` as one of `cpu`, `gpu`, `apple_silicon`, or `aarch` on localhost environments.\n",
        "For clusters, you must setup the cluster-env correctly, using [nlp.install_to_databricks()](https://nlp.johnsnowlabs.com/docs/en/jsl/install_advanced#into-a-freshly-created-databricks-cluster-automatically) is recommended.\n",
        "\n",
        "\n",
        "```python\n",
        "# Create embedder connected to spark-cluster\n",
        "\n",
        "from johnsnowlabs.llm import embedding_retrieval\n",
        "\n",
        "embeddings =  embedding_retrieval.JohnSnowLabsLangChainEmbedder('en.embed_sentence.bert_base_uncased',hardware_target='cpu')\n",
        "```"
      ]
    },
    {
      "cell_type": "markdown",
      "metadata": {
        "application/vnd.databricks.v1+cell": {
          "cellMetadata": {},
          "inputWidgets": {},
          "nuid": "069f7b72-f9c7-47c6-b9f1-4010e8652741",
          "showTitle": false,
          "title": ""
        },
        "id": "53Tc_2ilVe5R"
      },
      "source": [
        "```python\n",
        "# Compute Embeddings distributed\n",
        "from langchain.vectorstores import FAISS\n",
        "retriever = FAISS.from_documents(pre_processed_docs, embeddings).as_retriever()\n",
        "\n",
        "# Create A tool\n",
        "from langchain.agents.agent_toolkits import create_retriever_tool\n",
        "tool = create_retriever_tool(retriever,\n",
        "  \"search_state_of_union\",\n",
        "  \"Searches and returns documents regarding the state-of-the-union.\"\n",
        ")\n",
        "\n",
        "# Use Create LLM Agent with the Tool\n",
        "from langchain.agents.agent_toolkits import create_conversational_retrieval_agent\n",
        "from langchain.chat_models import ChatOpenAI\n",
        "llm = ChatOpenAI(openai_api_key='YOUR_API_KEY')\n",
        "agent_executor = create_conversational_retrieval_agent(llm, [tool], verbose=True)\n",
        "result = agent_executor({\"input\": \"what did the president say about going to east of Columbus?\"})\n",
        "result['output']\n",
        "```"
      ]
    },
    {
      "cell_type": "code",
      "execution_count": null,
      "metadata": {
        "application/vnd.databricks.v1+cell": {
          "cellMetadata": {
            "byteLimit": 2048000,
            "rowLimit": 10000
          },
          "inputWidgets": {},
          "nuid": "2d03556a-f888-421f-b030-dd1408f11f53",
          "showTitle": false,
          "title": ""
        },
        "id": "KUkjyWCmUyX_"
      },
      "outputs": [],
      "source": [
        "! wget -q https://raw.githubusercontent.com/JohnSnowLabs/spark-nlp-workshop/master/healthcare-nlp/data/pubmed_diabetes_1000_meta.csv"
      ]
    },
    {
      "cell_type": "markdown",
      "metadata": {
        "application/vnd.databricks.v1+cell": {
          "cellMetadata": {},
          "inputWidgets": {},
          "nuid": "9bc1e363-86e6-4af2-922d-c16c48ead7af",
          "showTitle": false,
          "title": ""
        },
        "id": "SsRrvq3qrh6x"
      },
      "source": [
        "### Dataset"
      ]
    },
    {
      "cell_type": "code",
      "execution_count": null,
      "metadata": {
        "application/vnd.databricks.v1+cell": {
          "cellMetadata": {
            "byteLimit": 2048000,
            "rowLimit": 10000
          },
          "inputWidgets": {},
          "nuid": "3ca42a1c-36ef-49fb-af39-31e53d7612c2",
          "showTitle": false,
          "title": ""
        },
        "id": "6Fk6hdqprh6x"
      },
      "outputs": [],
      "source": [
        "import pandas as pd\n",
        "\n",
        "df = spark.createDataFrame(pd.read_csv(\"./pubmed_diabetes_1000_meta.csv\", usecols=range(1,6)))\n",
        "\n",
        "df.orderBy(\"pubmed_id\").write.mode(\"overwrite\").parquet('pubmed_diabetes_1000_meta.parquet')\n"
      ]
    },
    {
      "cell_type": "code",
      "execution_count": null,
      "metadata": {
        "application/vnd.databricks.v1+cell": {
          "cellMetadata": {
            "byteLimit": 2048000,
            "rowLimit": 10000
          },
          "inputWidgets": {},
          "nuid": "e07f0073-1b0f-466d-b857-79fdfbd39012",
          "showTitle": false,
          "title": ""
        },
        "colab": {
          "base_uri": "https://localhost:8080/"
        },
        "id": "jJdfmoJ5rh6y",
        "outputId": "ea19686e-e080-4839-91de-f8ab9edce1ea"
      },
      "outputs": [
        {
          "name": "stdout",
          "output_type": "stream",
          "text": [
            "+----------+-------------------------+-----------+-------------------------+-------------------------+\n",
            "| pubmed_id|                 abstract|    pubdate|                    title|          fulljournalname|\n",
            "+----------+-------------------------+-----------+-------------------------+-------------------------+\n",
            "|PMC5770032|Gestational diabetes m...|2018 Jan 16|Increased risk of isch...|            PLoS Medicine|\n",
            "|PMC5781289|Depression is a preval...|2018 Jan 24|Association of depress...|Cardiovascular Diabeto...|\n",
            "|PMC5789627|Gestational diabetes i...|2018 Jan 30|The clinical course an...|  BMC Endocrine Disorders|\n",
            "|PMC5797393|It has been reported t...| 2018 Feb 2|Contiguous 22.1-kb del...|           BMC Nephrology|\n",
            "|PMC5798333|We report a disease-ca...|2018 Jan 16|MAFA missense mutation...|Proceedings of the Nat...|\n",
            "|PMC8249442|Periodontal disease ha...| 2021 Jul 1|Bidirectional associat...|       Scientific Reports|\n",
            "|PMC8257029|This article aims to n...| 2021 Jul 1|Oral Health Messiers: ...|Diabetes, Metabolic Sy...|\n",
            "|PMC8259382|Type 2 diabetes mellit...| 2021 Jul 5|The prognostic outcome...|Cancer Cell International|\n",
            "|PMC8259464|Nephrogenic diabetes i...| 2021 Jul 1|Ifosfamide-induced nep...|Clinical Nephrology. C...|\n",
            "|PMC8261591|The treatment of asymp...|   2021 Jun|Asymptomatic obstructi...| Translational Pediatrics|\n",
            "+----------+-------------------------+-----------+-------------------------+-------------------------+\n",
            "only showing top 10 rows\n",
            "\n"
          ]
        }
      ],
      "source": [
        "df = spark.read.parquet(\"pubmed_diabetes_1000_meta.parquet\")\n",
        "\n",
        "df.show(10,truncate=25)"
      ]
    },
    {
      "cell_type": "code",
      "execution_count": null,
      "metadata": {
        "application/vnd.databricks.v1+cell": {
          "cellMetadata": {
            "byteLimit": 2048000,
            "rowLimit": 10000
          },
          "inputWidgets": {},
          "nuid": "830c613a-2e3d-49b4-b8cb-a1eca96537d2",
          "showTitle": false,
          "title": ""
        },
        "id": "8P7_LwUQE0an"
      },
      "outputs": [],
      "source": [
        "from langchain.document_loaders import PySparkDataFrameLoader\n",
        "loader = PySparkDataFrameLoader(spark, df, page_content_column=\"abstract\")\n",
        "documents = loader.load()"
      ]
    },
    {
      "cell_type": "code",
      "execution_count": null,
      "metadata": {
        "application/vnd.databricks.v1+cell": {
          "cellMetadata": {
            "byteLimit": 2048000,
            "rowLimit": 10000
          },
          "inputWidgets": {},
          "nuid": "0e5ee040-a3ad-4b5a-9695-4eb766e06ff8",
          "showTitle": false,
          "title": ""
        },
        "colab": {
          "base_uri": "https://localhost:8080/"
        },
        "id": "tULLf9vnrh6y",
        "outputId": "02bac171-1f5c-49c6-e321-520f6fcfbc3e"
      },
      "outputs": [
        {
          "data": {
            "text/plain": [
              "Document(page_content='Depression is a prevalent, independent predictor of mortality in patients with heart failure (HF). Depression is also common in type 2 diabetes mellitus (T2DM), which is itself an important risk factor for HF. However, association of depression with incident HF in T2DM is undefined. The aim of the present study was to evaluate the predictive value of depression in predicting incident HF in a community-based cohort of asymptomatic patients with T2DM.\\nWe prospectively recruited 274 asymptomatic T2DM patients\\xa0≥\\xa065\\xa0years (age 71\\xa0±\\xa04\\xa0year, 56% men) with preserved EF and no ischemic heart disease from a community-based population. The Patient Health Questionnaire 9 (PHQ-9) was used to detect depression, and LV dysfunction was sought with a comprehensive echocardiogram, including LV hypertrophy (LVH) and subclinical diastolic function (E/e′). Over a median follow-up of 1.5\\xa0years (range 0.5–3), 20 patients were lost to follow-up and 254 individuals were followed for outcomes.\\nAt baseline, depression was present in 9.5%, LVH was identified in 26% and reduced E/e′ in 11%. Over a median follow-up of 1.5\\xa0years, 37 of 245 patients developed new-onset HF and 3 died, giving an event rate of 107/1000 person-years. In a competing-risks regression analysis, depression (adjusted HR 2.54, 95% CI 1.18–5.46; p\\xa0=\\xa00.017) was associated with incident HF and had incremental predictive power to clinical, biochemical and echocardiographic variables.\\nDepression is prevalent in asymptomatic elderly patients with T2DM, and depression independently and incrementally predicts incident HF.', metadata={'pubmed_id': 'PMC5781289', 'pubdate': '2018 Jan 24', 'title': 'Association of depression with evolution of heart failure in patients with type 2 diabetes mellitus', 'fulljournalname': 'Cardiovascular Diabetology'})"
            ]
          },
          "execution_count": 6,
          "metadata": {},
          "output_type": "execute_result"
        }
      ],
      "source": [
        "documents[1]"
      ]
    },
    {
      "cell_type": "code",
      "execution_count": null,
      "metadata": {
        "application/vnd.databricks.v1+cell": {
          "cellMetadata": {
            "byteLimit": 2048000,
            "rowLimit": 10000
          },
          "inputWidgets": {},
          "nuid": "37eee708-8a82-4d86-ae0c-17732d04e163",
          "showTitle": false,
          "title": ""
        },
        "colab": {
          "base_uri": "https://localhost:8080/"
        },
        "id": "f17FxWcCGaOn",
        "outputId": "3ae06354-2537-4c09-9d6f-a43192740ffe"
      },
      "outputs": [
        {
          "data": {
            "text/plain": [
              "{'pubmed_id': 'PMC5781289',\n",
              " 'pubdate': '2018 Jan 24',\n",
              " 'title': 'Association of depression with evolution of heart failure in patients with type 2 diabetes mellitus',\n",
              " 'fulljournalname': 'Cardiovascular Diabetology'}"
            ]
          },
          "execution_count": 7,
          "metadata": {},
          "output_type": "execute_result"
        }
      ],
      "source": [
        "documents[1].metadata"
      ]
    },
    {
      "cell_type": "code",
      "execution_count": null,
      "metadata": {
        "application/vnd.databricks.v1+cell": {
          "cellMetadata": {
            "byteLimit": 2048000,
            "rowLimit": 10000
          },
          "inputWidgets": {},
          "nuid": "12ff0315-e133-464a-9e3d-9e07f16e6473",
          "showTitle": false,
          "title": ""
        },
        "colab": {
          "base_uri": "https://localhost:8080/"
        },
        "id": "Pv_2IBq6KLLz",
        "outputId": "3441a6c5-5c46-43f9-b951-ce045cfee457"
      },
      "outputs": [
        {
          "data": {
            "text/plain": [
              "1000"
            ]
          },
          "execution_count": 8,
          "metadata": {},
          "output_type": "execute_result"
        }
      ],
      "source": [
        "len(documents)"
      ]
    },
    {
      "cell_type": "code",
      "execution_count": null,
      "metadata": {
        "application/vnd.databricks.v1+cell": {
          "cellMetadata": {
            "byteLimit": 2048000,
            "rowLimit": 10000
          },
          "inputWidgets": {},
          "nuid": "10f1af17-a5b5-42f3-9ea2-5dcb8391b578",
          "showTitle": false,
          "title": ""
        },
        "colab": {
          "base_uri": "https://localhost:8080/"
        },
        "id": "lQLZUvNjrh6z",
        "outputId": "7914a7bc-5c6c-4a1d-a467-e64fb87fcc55"
      },
      "outputs": [
        {
          "name": "stdout",
          "output_type": "stream",
          "text": [
            "Spark Session already created, some configs may not take.\n"
          ]
        }
      ],
      "source": [
        "from johnsnowlabs.llm import embedding_retrieval\n",
        "\n",
        "jsl_splitter = embedding_retrieval.JohnSnowLabsLangChainCharSplitter(chunk_size=500,\n",
        "                                                                     chunk_overlap=50)\n",
        "texts = jsl_splitter.split_documents(documents)\n"
      ]
    },
    {
      "cell_type": "code",
      "execution_count": null,
      "metadata": {
        "application/vnd.databricks.v1+cell": {
          "cellMetadata": {
            "byteLimit": 2048000,
            "rowLimit": 10000
          },
          "inputWidgets": {},
          "nuid": "1fb3cd09-c8e4-4d9e-ab0d-88d4f6f65482",
          "showTitle": false,
          "title": ""
        },
        "colab": {
          "base_uri": "https://localhost:8080/"
        },
        "id": "-dyjjLkbVtZj",
        "outputId": "e569c5c4-73b3-4f78-9a19-4d9d7f461962"
      },
      "outputs": [
        {
          "name": "stdout",
          "output_type": "stream",
          "text": [
            "Spark Session already created, some configs may not take.\n",
            "Warning::Spark Session already created, some configs may not take.\n",
            "Warning::Spark Session already created, some configs may not take.\n",
            "instructor_base download started this may take some time.\n",
            "Approximate size to download 387.7 MB\n",
            "[OK!]\n"
          ]
        }
      ],
      "source": [
        "from johnsnowlabs.llm import embedding_retrieval\n",
        "\n",
        "embeddings =  embedding_retrieval.JohnSnowLabsLangChainEmbedder('en.embed_sentence.instructor_base')"
      ]
    },
    {
      "cell_type": "code",
      "execution_count": null,
      "metadata": {
        "application/vnd.databricks.v1+cell": {
          "cellMetadata": {
            "byteLimit": 2048000,
            "rowLimit": 10000
          },
          "inputWidgets": {},
          "nuid": "e2896fa2-3b84-49c1-9354-7eca847e3d88",
          "showTitle": false,
          "title": ""
        },
        "colab": {
          "base_uri": "https://localhost:8080/"
        },
        "id": "GvricRiQaMEM",
        "outputId": "d35e08d2-2449-471c-e0ee-6db6d0242a90"
      },
      "outputs": [
        {
          "name": "stdout",
          "output_type": "stream",
          "text": [
            "Warning::Spark Session already created, some configs may not take.\n"
          ]
        },
        {
          "data": {
            "text/plain": [
              "768"
            ]
          },
          "execution_count": 11,
          "metadata": {},
          "output_type": "execute_result"
        }
      ],
      "source": [
        "len(embeddings.embed_query('test'))"
      ]
    },
    {
      "cell_type": "code",
      "execution_count": null,
      "metadata": {
        "application/vnd.databricks.v1+cell": {
          "cellMetadata": {
            "byteLimit": 2048000,
            "rowLimit": 10000
          },
          "inputWidgets": {},
          "nuid": "464b60a9-e403-4c88-a899-d351c7b1bee4",
          "showTitle": false,
          "title": ""
        },
        "colab": {
          "base_uri": "https://localhost:8080/"
        },
        "id": "_Qbrcc2LSpnX",
        "outputId": "c39101f9-2ea7-408f-f062-da6d9a64af81"
      },
      "outputs": [
        {
          "data": {
            "text/plain": [
              "4498"
            ]
          },
          "execution_count": 12,
          "metadata": {},
          "output_type": "execute_result"
        }
      ],
      "source": [
        "len(texts)"
      ]
    },
    {
      "cell_type": "code",
      "execution_count": null,
      "metadata": {
        "application/vnd.databricks.v1+cell": {
          "cellMetadata": {
            "byteLimit": 2048000,
            "rowLimit": 10000
          },
          "inputWidgets": {},
          "nuid": "21d79d5c-9305-4602-8340-50e0207bc0e4",
          "showTitle": false,
          "title": ""
        },
        "colab": {
          "base_uri": "https://localhost:8080/"
        },
        "id": "7GInjY2DZvxf",
        "outputId": "39cd349b-4916-4577-c46c-fb29c6645c45"
      },
      "outputs": [
        {
          "data": {
            "text/plain": [
              "[Document(page_content='Gestational diabetes mellitus (GDM) is associated with developing type 2 diabetes, but very few studies have examined its effect on developing cardiovascular disease.', metadata={'pubmed_id': 'PMC5770032', 'pubdate': '2018 Jan 16', 'title': 'Increased risk of ischemic heart disease, hypertension, and type 2 diabetes in women with previous gestational diabetes mellitus, a target group in general practice for preventive interventions: A population-based cohort study', 'fulljournalname': 'PLoS Medicine'}),\n",
              " Document(page_content='We conducted a retrospective cohort study utilizing a large primary care database in the United Kingdom. From 1 February 1990 to 15 May 2016, 9,118 women diagnosed with GDM were identified and randomly matched with 37,281 control women by age and timing of pregnancy (up to 3 months). Adjusted incidence rate ratios (IRRs) with 95% confidence intervals (CIs) were calculated for cardiovascular risk factors and cardiovascular disease. Women with GDM were more likely to develop type 2 diabetes (IRR', metadata={'pubmed_id': 'PMC5770032', 'pubdate': '2018 Jan 16', 'title': 'Increased risk of ischemic heart disease, hypertension, and type 2 diabetes in women with previous gestational diabetes mellitus, a target group in general practice for preventive interventions: A population-based cohort study', 'fulljournalname': 'PLoS Medicine'}),\n",
              " Document(page_content='were more likely to develop type 2 diabetes (IRR = 21.96; 95% CI 18.31–26.34) and hypertension (IRR = 1.85; 95% CI 1.59–2.16) after adjusting for age, Townsend (deprivation) quintile, body mass index, and smoking. For ischemic heart disease (IHD), the IRR was 2.78 (95% CI 1.37–5.66), and for cerebrovascular disease 0.95 (95% CI 0.51–1.77; p-value = 0.87), after adjusting for the above covariates and lipid-lowering medication and hypertension at baseline. Follow-up screening for type 2 diabetes', metadata={'pubmed_id': 'PMC5770032', 'pubdate': '2018 Jan 16', 'title': 'Increased risk of ischemic heart disease, hypertension, and type 2 diabetes in women with previous gestational diabetes mellitus, a target group in general practice for preventive interventions: A population-based cohort study', 'fulljournalname': 'PLoS Medicine'})]"
            ]
          },
          "execution_count": 13,
          "metadata": {},
          "output_type": "execute_result"
        }
      ],
      "source": [
        "texts[:3]"
      ]
    },
    {
      "cell_type": "markdown",
      "metadata": {
        "application/vnd.databricks.v1+cell": {
          "cellMetadata": {},
          "inputWidgets": {},
          "nuid": "f52f331e-56b8-486c-85d5-88a5c918fe77",
          "showTitle": false,
          "title": ""
        },
        "id": "HijmrajLLA-x"
      },
      "source": [
        "### with FAISS vector db"
      ]
    },
    {
      "cell_type": "code",
      "execution_count": null,
      "metadata": {
        "application/vnd.databricks.v1+cell": {
          "cellMetadata": {
            "byteLimit": 2048000,
            "rowLimit": 10000
          },
          "inputWidgets": {},
          "nuid": "8478f475-7fd3-4ded-8203-b925eb6cb6c1",
          "showTitle": false,
          "title": ""
        },
        "id": "kjtoI1Ssrh6z"
      },
      "outputs": [],
      "source": [
        "#!pip install -q faiss-cpu"
      ]
    },
    {
      "cell_type": "code",
      "execution_count": null,
      "metadata": {
        "application/vnd.databricks.v1+cell": {
          "cellMetadata": {
            "byteLimit": 2048000,
            "rowLimit": 10000
          },
          "inputWidgets": {},
          "nuid": "91156bbd-38c1-47e3-acec-0acd28114a46",
          "showTitle": false,
          "title": ""
        },
        "colab": {
          "base_uri": "https://localhost:8080/"
        },
        "id": "zdV8duC7LAOY",
        "outputId": "933068bd-a3ed-4e73-dea6-8bb96ed68bac"
      },
      "outputs": [
        {
          "name": "stdout",
          "output_type": "stream",
          "text": [
            "CPU times: user 8.75 s, sys: 964 ms, total: 9.71 s\n",
            "Wall time: 27min 4s\n"
          ]
        }
      ],
      "source": [
        "%%time\n",
        "from langchain.vectorstores import FAISS\n",
        "\n",
        "db = FAISS.from_documents(texts, embeddings)\n",
        "faiss_retriever = db.as_retriever(search_kwargs={\"k\": 3})\n",
        "\n",
        "#!zip -r faiss_retriever.zip faiss_retriever"
      ]
    },
    {
      "cell_type": "code",
      "execution_count": null,
      "metadata": {
        "application/vnd.databricks.v1+cell": {
          "cellMetadata": {
            "byteLimit": 2048000,
            "rowLimit": 10000
          },
          "inputWidgets": {},
          "nuid": "3bd72ed1-3394-4c20-8ec6-f4277bbccbf2",
          "showTitle": false,
          "title": ""
        },
        "id": "CJl4hNCSrh60"
      },
      "outputs": [],
      "source": [
        "!wget -q https://github.com/JohnSnowLabs/spark-nlp-workshop/raw/master/healthcare-nlp/data/faiss_retriever_db_diabetes.vs.zip -O faiss_retriever_db_diabetes.vs.zip"
      ]
    },
    {
      "cell_type": "code",
      "execution_count": null,
      "metadata": {
        "application/vnd.databricks.v1+cell": {
          "cellMetadata": {
            "byteLimit": 2048000,
            "rowLimit": 10000
          },
          "inputWidgets": {},
          "nuid": "a256f86e-cf71-4dfa-833b-742aacc84331",
          "showTitle": false,
          "title": ""
        },
        "colab": {
          "base_uri": "https://localhost:8080/"
        },
        "id": "wKmtR76dkrGM",
        "outputId": "c0fadc85-bd32-434b-cde3-d211eee5e4a1"
      },
      "outputs": [
        {
          "name": "stdout",
          "output_type": "stream",
          "text": [
            "Archive:  faiss_retriever_db_diabetes.vs.zip\n",
            "  inflating: faiss_retriever_db_diabetes.vs/index.faiss  \n",
            "  inflating: faiss_retriever_db_diabetes.vs/index.pkl  \n"
          ]
        }
      ],
      "source": [
        "!unzip -o faiss_retriever_db_diabetes.vs"
      ]
    },
    {
      "cell_type": "code",
      "execution_count": null,
      "metadata": {
        "application/vnd.databricks.v1+cell": {
          "cellMetadata": {
            "byteLimit": 2048000,
            "rowLimit": 10000
          },
          "inputWidgets": {},
          "nuid": "0f867eec-fafd-4391-be40-83ab8250d824",
          "showTitle": false,
          "title": ""
        },
        "colab": {
          "base_uri": "https://localhost:8080/"
        },
        "id": "_YP0DFLmrh60",
        "outputId": "c9ba66fc-0771-4601-b2f0-28448d8f4fcc"
      },
      "outputs": [
        {
          "name": "stdout",
          "output_type": "stream",
          "text": [
            "CPU times: user 28.3 ms, sys: 11.2 ms, total: 39.5 ms\n",
            "Wall time: 49.7 ms\n"
          ]
        }
      ],
      "source": [
        "%%time\n",
        "from langchain.vectorstores import FAISS\n",
        "\n",
        "db = FAISS.load_local(\"faiss_retriever_db_diabetes.vs\", embeddings)\n",
        "faiss_retriever = db.as_retriever(search_kwargs={\"k\": 10})"
      ]
    },
    {
      "cell_type": "code",
      "execution_count": null,
      "metadata": {
        "application/vnd.databricks.v1+cell": {
          "cellMetadata": {
            "byteLimit": 2048000,
            "rowLimit": 10000
          },
          "inputWidgets": {},
          "nuid": "964c29e9-ff5d-4037-b054-eb253b9c6113",
          "showTitle": false,
          "title": ""
        },
        "colab": {
          "base_uri": "https://localhost:8080/"
        },
        "id": "1Q6tuGLGNfY1",
        "outputId": "f9f98d64-5c47-473f-904d-38cf2c273940"
      },
      "outputs": [
        {
          "data": {
            "text/plain": [
              "[Document(page_content='relevant pathway in human patients suffering from diabetes.', metadata={'source': 'diabetes_txt_files/PMC6308908_abstract.txt', 'pubmed_id': 'PMC6308908', 'pubdate': '2018 Sep 19', 'title': 'Compensatory mechanisms for methylglyoxal detoxification in experimental & clinical diabetes', 'fulljournalname': 'Molecular Metabolism'}),\n",
              " Document(page_content='patients with type\\xa02 diabetes and those who had prediabetes.', metadata={'source': 'diabetes_txt_files/PMC7378450_abstract.txt', 'pubmed_id': 'PMC7378450', 'pubdate': '2020 Jan 13', 'title': 'Association between mean platelet volume in the pathogenesis of type\\xa02 diabetes mellitus and diabetic macrovascular complications in Japanese patients', 'fulljournalname': 'Journal of Diabetes Investigation'}),\n",
              " Document(page_content='diabetes-related comorbidities, and well-being.', metadata={'source': 'diabetes_txt_files/PMC7730786_abstract.txt', 'pubmed_id': 'PMC7730786', 'pubdate': '2020 Dec 10', 'title': 'Different information needs in subgroups of people with diabetes mellitus: a latent class analysis', 'fulljournalname': 'BMC Public Health'}),\n",
              " Document(page_content='Background: Diabetes is referred to a group of diseases characterized by high glucose levels in blood. It is caused by a deficiency in the production or function of insulin or both, which can occur because of different reasons, resulting in protein and lipid metabolic disorders. The aim of this study was to systematically review the prevalence and incidence of type 1 diabetes in the world.', metadata={'source': 'diabetes_txt_files/PMC7146037_abstract.txt', 'pubmed_id': 'PMC7146037', 'pubdate': '2020 Mar 30', 'title': 'Prevalence and incidence of type 1 diabetes in the world: a systematic review and meta-analysis', 'fulljournalname': 'Health Promotion Perspectives'}),\n",
              " Document(page_content='of evidence linking AR to the cardiovascular consequences of diabetes.', metadata={'source': 'diabetes_txt_files/PMC7992003_abstract.txt', 'pubmed_id': 'PMC7992003', 'pubdate': '2021 Mar 11', 'title': 'Aldose Reductase: An Emerging Target for Development of Interventions for Diabetic Cardiovascular Complications', 'fulljournalname': 'Frontiers in Endocrinology'}),\n",
              " Document(page_content='A higher prevalence of diabetes mellitus was observed in Addis Ababa public health institutions.\\xa0Factors such as age, alcohol drinking, HDL, triglycerides, and vagarious physical activity were associated with diabetes mellitus. Concerned bodies need to work over the ever-increasing diabetes mellitus in Addis Ababa.', metadata={'source': 'diabetes_txt_files/PMC7049281_abstract.txt', 'pubmed_id': 'PMC7049281', 'pubdate': '2020 Feb 25', 'title': 'Prevalence of Diabetes Mellitus and Associated Factors in Addis Ababa Public Health Facilities, Addis Ababa, Ethiopia, 2016', 'fulljournalname': 'Diabetes, Metabolic Syndrome and Obesity: Targets and Therapy'}),\n",
              " Document(page_content='fluid pH. On the other hand, high salt intake has been suggested to cause diabetes mellitus; however, the molecular mechanism is unclear. A possible mechanism of high salt intake-caused diabetes mellitus is proposed from a viewpoint of regulation of the interstitial fluid pH: high salt intake lowers the interstitial fluid pH via high production of H+ associated with ATP synthesis required for the Na+,K+-ATPase to extrude the high leveled intracellular Na+ caused by high salt intake. This review', metadata={'source': 'diabetes_txt_files/PMC6214001_abstract.txt', 'pubmed_id': 'PMC6214001', 'pubdate': '2018 Oct 19', 'title': 'The Proposal of Molecular Mechanisms of Weak Organic Acids Intake-Induced Improvement of Insulin Resistance in Diabetes Mellitus via Elevation of Interstitial Fluid pH', 'fulljournalname': 'International Journal of Molecular Sciences'}),\n",
              " Document(page_content='history of diabetes (2.10 (1.06–4.16)), and being informed about an increased diabetes risk by a physician (3.27 (1.51–7.07)), but none of further diabetes risk factors, healthcare behaviors or beliefs about diabetes.', metadata={'source': 'diabetes_txt_files/PMC6590966_abstract.txt', 'pubmed_id': 'PMC6590966', 'pubdate': '2019 Jun 21', 'title': 'Perceived diabetes risk and related determinants in individuals with high actual diabetes risk: results from a nationwide population-based survey', 'fulljournalname': 'BMJ Open Diabetes Research & Care'}),\n",
              " Document(page_content='disease (a diabetes mellitus complication) as major model drivers.', metadata={'source': 'diabetes_txt_files/PMC6670179_abstract.txt', 'pubmed_id': 'PMC6670179', 'pubdate': '2019 Jul 31', 'title': 'A cost of illness study evaluating the burden of Wolfram syndrome in the United Kingdom', 'fulljournalname': 'Orphanet Journal of Rare Diseases'}),\n",
              " Document(page_content='diagnosis of monogenic diabetes will be also reviewed.', metadata={'source': 'diabetes_txt_files/PMC7643597_abstract.txt', 'pubmed_id': 'PMC7643597', 'pubdate': '2020 Oct 21', 'title': 'Update on Monogenic Diabetes in Korea', 'fulljournalname': 'Diabetes & Metabolism Journal'})]"
            ]
          },
          "execution_count": 19,
          "metadata": {},
          "output_type": "execute_result"
        }
      ],
      "source": [
        "faiss_retriever.get_relevant_documents(\"causes of diabetes\")"
      ]
    },
    {
      "cell_type": "code",
      "execution_count": null,
      "metadata": {
        "application/vnd.databricks.v1+cell": {
          "cellMetadata": {
            "byteLimit": 2048000,
            "rowLimit": 10000
          },
          "inputWidgets": {},
          "nuid": "3c398251-7423-4e61-bec8-6ba6ce49a10a",
          "showTitle": false,
          "title": ""
        },
        "colab": {
          "base_uri": "https://localhost:8080/",
          "height": 955
        },
        "id": "_B3ZDR9oPyFx",
        "outputId": "d9acfca2-9925-4718-de51-45477086453b"
      },
      "outputs": [
        {
          "data": {
            "text/html": [
              "\n",
              "  <div id=\"df-80e32161-9a76-4ede-854c-b7dbdc6ba113\" class=\"colab-df-container\">\n",
              "    <div>\n",
              "<style scoped>\n",
              "    .dataframe tbody tr th:only-of-type {\n",
              "        vertical-align: middle;\n",
              "    }\n",
              "\n",
              "    .dataframe tbody tr th {\n",
              "        vertical-align: top;\n",
              "    }\n",
              "\n",
              "    .dataframe thead th {\n",
              "        text-align: right;\n",
              "    }\n",
              "</style>\n",
              "<table border=\"1\" class=\"dataframe\">\n",
              "  <thead>\n",
              "    <tr style=\"text-align: right;\">\n",
              "      <th></th>\n",
              "      <th>source</th>\n",
              "      <th>pubmed_id</th>\n",
              "      <th>pubdate</th>\n",
              "      <th>title</th>\n",
              "      <th>fulljournalname</th>\n",
              "    </tr>\n",
              "  </thead>\n",
              "  <tbody>\n",
              "    <tr>\n",
              "      <th>0</th>\n",
              "      <td>diabetes_txt_files/PMC6308908_abstract.txt</td>\n",
              "      <td>PMC6308908</td>\n",
              "      <td>2018 Sep 19</td>\n",
              "      <td>Compensatory mechanisms for methylglyoxal deto...</td>\n",
              "      <td>Molecular Metabolism</td>\n",
              "    </tr>\n",
              "    <tr>\n",
              "      <th>1</th>\n",
              "      <td>diabetes_txt_files/PMC7378450_abstract.txt</td>\n",
              "      <td>PMC7378450</td>\n",
              "      <td>2020 Jan 13</td>\n",
              "      <td>Association between mean platelet volume in th...</td>\n",
              "      <td>Journal of Diabetes Investigation</td>\n",
              "    </tr>\n",
              "    <tr>\n",
              "      <th>2</th>\n",
              "      <td>diabetes_txt_files/PMC7730786_abstract.txt</td>\n",
              "      <td>PMC7730786</td>\n",
              "      <td>2020 Dec 10</td>\n",
              "      <td>Different information needs in subgroups of pe...</td>\n",
              "      <td>BMC Public Health</td>\n",
              "    </tr>\n",
              "    <tr>\n",
              "      <th>3</th>\n",
              "      <td>diabetes_txt_files/PMC7146037_abstract.txt</td>\n",
              "      <td>PMC7146037</td>\n",
              "      <td>2020 Mar 30</td>\n",
              "      <td>Prevalence and incidence of type 1 diabetes in...</td>\n",
              "      <td>Health Promotion Perspectives</td>\n",
              "    </tr>\n",
              "    <tr>\n",
              "      <th>4</th>\n",
              "      <td>diabetes_txt_files/PMC7992003_abstract.txt</td>\n",
              "      <td>PMC7992003</td>\n",
              "      <td>2021 Mar 11</td>\n",
              "      <td>Aldose Reductase: An Emerging Target for Devel...</td>\n",
              "      <td>Frontiers in Endocrinology</td>\n",
              "    </tr>\n",
              "    <tr>\n",
              "      <th>5</th>\n",
              "      <td>diabetes_txt_files/PMC7049281_abstract.txt</td>\n",
              "      <td>PMC7049281</td>\n",
              "      <td>2020 Feb 25</td>\n",
              "      <td>Prevalence of Diabetes Mellitus and Associated...</td>\n",
              "      <td>Diabetes, Metabolic Syndrome and Obesity: Targ...</td>\n",
              "    </tr>\n",
              "    <tr>\n",
              "      <th>6</th>\n",
              "      <td>diabetes_txt_files/PMC6214001_abstract.txt</td>\n",
              "      <td>PMC6214001</td>\n",
              "      <td>2018 Oct 19</td>\n",
              "      <td>The Proposal of Molecular Mechanisms of Weak O...</td>\n",
              "      <td>International Journal of Molecular Sciences</td>\n",
              "    </tr>\n",
              "    <tr>\n",
              "      <th>7</th>\n",
              "      <td>diabetes_txt_files/PMC6590966_abstract.txt</td>\n",
              "      <td>PMC6590966</td>\n",
              "      <td>2019 Jun 21</td>\n",
              "      <td>Perceived diabetes risk and related determinan...</td>\n",
              "      <td>BMJ Open Diabetes Research &amp; Care</td>\n",
              "    </tr>\n",
              "    <tr>\n",
              "      <th>8</th>\n",
              "      <td>diabetes_txt_files/PMC6670179_abstract.txt</td>\n",
              "      <td>PMC6670179</td>\n",
              "      <td>2019 Jul 31</td>\n",
              "      <td>A cost of illness study evaluating the burden ...</td>\n",
              "      <td>Orphanet Journal of Rare Diseases</td>\n",
              "    </tr>\n",
              "    <tr>\n",
              "      <th>9</th>\n",
              "      <td>diabetes_txt_files/PMC7643597_abstract.txt</td>\n",
              "      <td>PMC7643597</td>\n",
              "      <td>2020 Oct 21</td>\n",
              "      <td>Update on Monogenic Diabetes in Korea</td>\n",
              "      <td>Diabetes &amp; Metabolism Journal</td>\n",
              "    </tr>\n",
              "  </tbody>\n",
              "</table>\n",
              "</div>\n",
              "    <div class=\"colab-df-buttons\">\n",
              "\n",
              "  <div class=\"colab-df-container\">\n",
              "    <button class=\"colab-df-convert\" onclick=\"convertToInteractive('df-80e32161-9a76-4ede-854c-b7dbdc6ba113')\"\n",
              "            title=\"Convert this dataframe to an interactive table.\"\n",
              "            style=\"display:none;\">\n",
              "\n",
              "  <svg xmlns=\"http://www.w3.org/2000/svg\" height=\"24px\" viewBox=\"0 -960 960 960\">\n",
              "    <path d=\"M120-120v-720h720v720H120Zm60-500h600v-160H180v160Zm220 220h160v-160H400v160Zm0 220h160v-160H400v160ZM180-400h160v-160H180v160Zm440 0h160v-160H620v160ZM180-180h160v-160H180v160Zm440 0h160v-160H620v160Z\"/>\n",
              "  </svg>\n",
              "    </button>\n",
              "\n",
              "  <style>\n",
              "    .colab-df-container {\n",
              "      display:flex;\n",
              "      gap: 12px;\n",
              "    }\n",
              "\n",
              "    .colab-df-convert {\n",
              "      background-color: #E8F0FE;\n",
              "      border: none;\n",
              "      border-radius: 50%;\n",
              "      cursor: pointer;\n",
              "      display: none;\n",
              "      fill: #1967D2;\n",
              "      height: 32px;\n",
              "      padding: 0 0 0 0;\n",
              "      width: 32px;\n",
              "    }\n",
              "\n",
              "    .colab-df-convert:hover {\n",
              "      background-color: #E2EBFA;\n",
              "      box-shadow: 0px 1px 2px rgba(60, 64, 67, 0.3), 0px 1px 3px 1px rgba(60, 64, 67, 0.15);\n",
              "      fill: #174EA6;\n",
              "    }\n",
              "\n",
              "    .colab-df-buttons div {\n",
              "      margin-bottom: 4px;\n",
              "    }\n",
              "\n",
              "    [theme=dark] .colab-df-convert {\n",
              "      background-color: #3B4455;\n",
              "      fill: #D2E3FC;\n",
              "    }\n",
              "\n",
              "    [theme=dark] .colab-df-convert:hover {\n",
              "      background-color: #434B5C;\n",
              "      box-shadow: 0px 1px 3px 1px rgba(0, 0, 0, 0.15);\n",
              "      filter: drop-shadow(0px 1px 2px rgba(0, 0, 0, 0.3));\n",
              "      fill: #FFFFFF;\n",
              "    }\n",
              "  </style>\n",
              "\n",
              "    <script>\n",
              "      const buttonEl =\n",
              "        document.querySelector('#df-80e32161-9a76-4ede-854c-b7dbdc6ba113 button.colab-df-convert');\n",
              "      buttonEl.style.display =\n",
              "        google.colab.kernel.accessAllowed ? 'block' : 'none';\n",
              "\n",
              "      async function convertToInteractive(key) {\n",
              "        const element = document.querySelector('#df-80e32161-9a76-4ede-854c-b7dbdc6ba113');\n",
              "        const dataTable =\n",
              "          await google.colab.kernel.invokeFunction('convertToInteractive',\n",
              "                                                    [key], {});\n",
              "        if (!dataTable) return;\n",
              "\n",
              "        const docLinkHtml = 'Like what you see? Visit the ' +\n",
              "          '<a target=\"_blank\" href=https://colab.research.google.com/notebooks/data_table.ipynb>data table notebook</a>'\n",
              "          + ' to learn more about interactive tables.';\n",
              "        element.innerHTML = '';\n",
              "        dataTable['output_type'] = 'display_data';\n",
              "        await google.colab.output.renderOutput(dataTable, element);\n",
              "        const docLink = document.createElement('div');\n",
              "        docLink.innerHTML = docLinkHtml;\n",
              "        element.appendChild(docLink);\n",
              "      }\n",
              "    </script>\n",
              "  </div>\n",
              "\n",
              "\n",
              "<div id=\"df-108de0d4-a3a9-46a3-9fb2-9fcd99a3fbc2\">\n",
              "  <button class=\"colab-df-quickchart\" onclick=\"quickchart('df-108de0d4-a3a9-46a3-9fb2-9fcd99a3fbc2')\"\n",
              "            title=\"Suggest charts\"\n",
              "            style=\"display:none;\">\n",
              "\n",
              "<svg xmlns=\"http://www.w3.org/2000/svg\" height=\"24px\"viewBox=\"0 0 24 24\"\n",
              "     width=\"24px\">\n",
              "    <g>\n",
              "        <path d=\"M19 3H5c-1.1 0-2 .9-2 2v14c0 1.1.9 2 2 2h14c1.1 0 2-.9 2-2V5c0-1.1-.9-2-2-2zM9 17H7v-7h2v7zm4 0h-2V7h2v10zm4 0h-2v-4h2v4z\"/>\n",
              "    </g>\n",
              "</svg>\n",
              "  </button>\n",
              "\n",
              "<style>\n",
              "  .colab-df-quickchart {\n",
              "      --bg-color: #E8F0FE;\n",
              "      --fill-color: #1967D2;\n",
              "      --hover-bg-color: #E2EBFA;\n",
              "      --hover-fill-color: #174EA6;\n",
              "      --disabled-fill-color: #AAA;\n",
              "      --disabled-bg-color: #DDD;\n",
              "  }\n",
              "\n",
              "  [theme=dark] .colab-df-quickchart {\n",
              "      --bg-color: #3B4455;\n",
              "      --fill-color: #D2E3FC;\n",
              "      --hover-bg-color: #434B5C;\n",
              "      --hover-fill-color: #FFFFFF;\n",
              "      --disabled-bg-color: #3B4455;\n",
              "      --disabled-fill-color: #666;\n",
              "  }\n",
              "\n",
              "  .colab-df-quickchart {\n",
              "    background-color: var(--bg-color);\n",
              "    border: none;\n",
              "    border-radius: 50%;\n",
              "    cursor: pointer;\n",
              "    display: none;\n",
              "    fill: var(--fill-color);\n",
              "    height: 32px;\n",
              "    padding: 0;\n",
              "    width: 32px;\n",
              "  }\n",
              "\n",
              "  .colab-df-quickchart:hover {\n",
              "    background-color: var(--hover-bg-color);\n",
              "    box-shadow: 0 1px 2px rgba(60, 64, 67, 0.3), 0 1px 3px 1px rgba(60, 64, 67, 0.15);\n",
              "    fill: var(--button-hover-fill-color);\n",
              "  }\n",
              "\n",
              "  .colab-df-quickchart-complete:disabled,\n",
              "  .colab-df-quickchart-complete:disabled:hover {\n",
              "    background-color: var(--disabled-bg-color);\n",
              "    fill: var(--disabled-fill-color);\n",
              "    box-shadow: none;\n",
              "  }\n",
              "\n",
              "  .colab-df-spinner {\n",
              "    border: 2px solid var(--fill-color);\n",
              "    border-color: transparent;\n",
              "    border-bottom-color: var(--fill-color);\n",
              "    animation:\n",
              "      spin 1s steps(1) infinite;\n",
              "  }\n",
              "\n",
              "  @keyframes spin {\n",
              "    0% {\n",
              "      border-color: transparent;\n",
              "      border-bottom-color: var(--fill-color);\n",
              "      border-left-color: var(--fill-color);\n",
              "    }\n",
              "    20% {\n",
              "      border-color: transparent;\n",
              "      border-left-color: var(--fill-color);\n",
              "      border-top-color: var(--fill-color);\n",
              "    }\n",
              "    30% {\n",
              "      border-color: transparent;\n",
              "      border-left-color: var(--fill-color);\n",
              "      border-top-color: var(--fill-color);\n",
              "      border-right-color: var(--fill-color);\n",
              "    }\n",
              "    40% {\n",
              "      border-color: transparent;\n",
              "      border-right-color: var(--fill-color);\n",
              "      border-top-color: var(--fill-color);\n",
              "    }\n",
              "    60% {\n",
              "      border-color: transparent;\n",
              "      border-right-color: var(--fill-color);\n",
              "    }\n",
              "    80% {\n",
              "      border-color: transparent;\n",
              "      border-right-color: var(--fill-color);\n",
              "      border-bottom-color: var(--fill-color);\n",
              "    }\n",
              "    90% {\n",
              "      border-color: transparent;\n",
              "      border-bottom-color: var(--fill-color);\n",
              "    }\n",
              "  }\n",
              "</style>\n",
              "\n",
              "  <script>\n",
              "    async function quickchart(key) {\n",
              "      const quickchartButtonEl =\n",
              "        document.querySelector('#' + key + ' button');\n",
              "      quickchartButtonEl.disabled = true;  // To prevent multiple clicks.\n",
              "      quickchartButtonEl.classList.add('colab-df-spinner');\n",
              "      try {\n",
              "        const charts = await google.colab.kernel.invokeFunction(\n",
              "            'suggestCharts', [key], {});\n",
              "      } catch (error) {\n",
              "        console.error('Error during call to suggestCharts:', error);\n",
              "      }\n",
              "      quickchartButtonEl.classList.remove('colab-df-spinner');\n",
              "      quickchartButtonEl.classList.add('colab-df-quickchart-complete');\n",
              "    }\n",
              "    (() => {\n",
              "      let quickchartButtonEl =\n",
              "        document.querySelector('#df-108de0d4-a3a9-46a3-9fb2-9fcd99a3fbc2 button');\n",
              "      quickchartButtonEl.style.display =\n",
              "        google.colab.kernel.accessAllowed ? 'block' : 'none';\n",
              "    })();\n",
              "  </script>\n",
              "</div>\n",
              "\n",
              "    </div>\n",
              "  </div>\n"
            ],
            "text/plain": [
              "                                       source   pubmed_id      pubdate  \\\n",
              "0  diabetes_txt_files/PMC6308908_abstract.txt  PMC6308908  2018 Sep 19   \n",
              "1  diabetes_txt_files/PMC7378450_abstract.txt  PMC7378450  2020 Jan 13   \n",
              "2  diabetes_txt_files/PMC7730786_abstract.txt  PMC7730786  2020 Dec 10   \n",
              "3  diabetes_txt_files/PMC7146037_abstract.txt  PMC7146037  2020 Mar 30   \n",
              "4  diabetes_txt_files/PMC7992003_abstract.txt  PMC7992003  2021 Mar 11   \n",
              "5  diabetes_txt_files/PMC7049281_abstract.txt  PMC7049281  2020 Feb 25   \n",
              "6  diabetes_txt_files/PMC6214001_abstract.txt  PMC6214001  2018 Oct 19   \n",
              "7  diabetes_txt_files/PMC6590966_abstract.txt  PMC6590966  2019 Jun 21   \n",
              "8  diabetes_txt_files/PMC6670179_abstract.txt  PMC6670179  2019 Jul 31   \n",
              "9  diabetes_txt_files/PMC7643597_abstract.txt  PMC7643597  2020 Oct 21   \n",
              "\n",
              "                                               title  \\\n",
              "0  Compensatory mechanisms for methylglyoxal deto...   \n",
              "1  Association between mean platelet volume in th...   \n",
              "2  Different information needs in subgroups of pe...   \n",
              "3  Prevalence and incidence of type 1 diabetes in...   \n",
              "4  Aldose Reductase: An Emerging Target for Devel...   \n",
              "5  Prevalence of Diabetes Mellitus and Associated...   \n",
              "6  The Proposal of Molecular Mechanisms of Weak O...   \n",
              "7  Perceived diabetes risk and related determinan...   \n",
              "8  A cost of illness study evaluating the burden ...   \n",
              "9              Update on Monogenic Diabetes in Korea   \n",
              "\n",
              "                                     fulljournalname  \n",
              "0                               Molecular Metabolism  \n",
              "1                  Journal of Diabetes Investigation  \n",
              "2                                  BMC Public Health  \n",
              "3                      Health Promotion Perspectives  \n",
              "4                         Frontiers in Endocrinology  \n",
              "5  Diabetes, Metabolic Syndrome and Obesity: Targ...  \n",
              "6        International Journal of Molecular Sciences  \n",
              "7                  BMJ Open Diabetes Research & Care  \n",
              "8                  Orphanet Journal of Rare Diseases  \n",
              "9                      Diabetes & Metabolism Journal  "
            ]
          },
          "execution_count": 20,
          "metadata": {},
          "output_type": "execute_result"
        }
      ],
      "source": [
        "results = faiss_retriever.get_relevant_documents(\"causes of diabetes\")\n",
        "\n",
        "pd.DataFrame([doc.metadata for doc in results])"
      ]
    },
    {
      "cell_type": "markdown",
      "metadata": {
        "application/vnd.databricks.v1+cell": {
          "cellMetadata": {},
          "inputWidgets": {},
          "nuid": "5552da1f-4348-494a-b089-6af1cd6d265e",
          "showTitle": false,
          "title": ""
        },
        "id": "KMDFQfuxXR1u"
      },
      "source": [
        "#### **Degree of diversity**\n",
        "            \n",
        "lambda_mult: Number between 0 and 1 that determines the degree of diversity among the results with 0 corresponding to maximum diversity and 1 to minimum diversity. Defaults to 0.5.\n",
        "\n"
      ]
    },
    {
      "cell_type": "code",
      "execution_count": null,
      "metadata": {
        "application/vnd.databricks.v1+cell": {
          "cellMetadata": {
            "byteLimit": 2048000,
            "rowLimit": 10000
          },
          "inputWidgets": {},
          "nuid": "d9774dd5-eff3-46c8-a2fa-41cafa7c14d6",
          "showTitle": false,
          "title": ""
        },
        "colab": {
          "base_uri": "https://localhost:8080/",
          "height": 973
        },
        "id": "FiRsNQEMYH5u",
        "outputId": "c0645ea3-e794-425b-bc03-1728982e6c3d"
      },
      "outputs": [
        {
          "data": {
            "text/html": [
              "\n",
              "  <div id=\"df-7cfe7c37-fcef-40c3-a031-b33f54717773\" class=\"colab-df-container\">\n",
              "    <div>\n",
              "<style scoped>\n",
              "    .dataframe tbody tr th:only-of-type {\n",
              "        vertical-align: middle;\n",
              "    }\n",
              "\n",
              "    .dataframe tbody tr th {\n",
              "        vertical-align: top;\n",
              "    }\n",
              "\n",
              "    .dataframe thead th {\n",
              "        text-align: right;\n",
              "    }\n",
              "</style>\n",
              "<table border=\"1\" class=\"dataframe\">\n",
              "  <thead>\n",
              "    <tr style=\"text-align: right;\">\n",
              "      <th></th>\n",
              "      <th>source</th>\n",
              "      <th>pubmed_id</th>\n",
              "      <th>pubdate</th>\n",
              "      <th>title</th>\n",
              "      <th>fulljournalname</th>\n",
              "    </tr>\n",
              "  </thead>\n",
              "  <tbody>\n",
              "    <tr>\n",
              "      <th>0</th>\n",
              "      <td>diabetes_txt_files/PMC6308908_abstract.txt</td>\n",
              "      <td>PMC6308908</td>\n",
              "      <td>2018 Sep 19</td>\n",
              "      <td>Compensatory mechanisms for methylglyoxal deto...</td>\n",
              "      <td>Molecular Metabolism</td>\n",
              "    </tr>\n",
              "    <tr>\n",
              "      <th>1</th>\n",
              "      <td>diabetes_txt_files/PMC5850161_abstract.txt</td>\n",
              "      <td>PMC5850161</td>\n",
              "      <td>2018 Jan 12</td>\n",
              "      <td>High‐Intensity Cigarette Smoking Is Associated...</td>\n",
              "      <td>Journal of the American Heart Association: Car...</td>\n",
              "    </tr>\n",
              "    <tr>\n",
              "      <th>2</th>\n",
              "      <td>diabetes_txt_files/PMC6214001_abstract.txt</td>\n",
              "      <td>PMC6214001</td>\n",
              "      <td>2018 Oct 19</td>\n",
              "      <td>The Proposal of Molecular Mechanisms of Weak O...</td>\n",
              "      <td>International Journal of Molecular Sciences</td>\n",
              "    </tr>\n",
              "    <tr>\n",
              "      <th>3</th>\n",
              "      <td>diabetes_txt_files/PMC7026031_abstract.txt</td>\n",
              "      <td>PMC7026031</td>\n",
              "      <td>2020 Feb 17</td>\n",
              "      <td>Incidence of diabetes mellitus in Spain as res...</td>\n",
              "      <td>Scientific Reports</td>\n",
              "    </tr>\n",
              "    <tr>\n",
              "      <th>4</th>\n",
              "      <td>diabetes_txt_files/PMC7187370_abstract.txt</td>\n",
              "      <td>PMC7187370</td>\n",
              "      <td>2020 Feb 17</td>\n",
              "      <td>Update of variants identified in the pancreati...</td>\n",
              "      <td>Human Mutation</td>\n",
              "    </tr>\n",
              "    <tr>\n",
              "      <th>5</th>\n",
              "      <td>diabetes_txt_files/PMC8165422_abstract.txt</td>\n",
              "      <td>PMC8165422</td>\n",
              "      <td>2021 May 21</td>\n",
              "      <td>Meta-analysis of studies on depression prevale...</td>\n",
              "      <td>Heliyon</td>\n",
              "    </tr>\n",
              "    <tr>\n",
              "      <th>6</th>\n",
              "      <td>diabetes_txt_files/PMC7643597_abstract.txt</td>\n",
              "      <td>PMC7643597</td>\n",
              "      <td>2020 Oct 21</td>\n",
              "      <td>Update on Monogenic Diabetes in Korea</td>\n",
              "      <td>Diabetes &amp; Metabolism Journal</td>\n",
              "    </tr>\n",
              "    <tr>\n",
              "      <th>7</th>\n",
              "      <td>diabetes_txt_files/PMC7730786_abstract.txt</td>\n",
              "      <td>PMC7730786</td>\n",
              "      <td>2020 Dec 10</td>\n",
              "      <td>Different information needs in subgroups of pe...</td>\n",
              "      <td>BMC Public Health</td>\n",
              "    </tr>\n",
              "    <tr>\n",
              "      <th>8</th>\n",
              "      <td>diabetes_txt_files/PMC7400945_abstract.txt</td>\n",
              "      <td>PMC7400945</td>\n",
              "      <td>2020 Jul 17</td>\n",
              "      <td>The Effects of Legume Consumption on Markers o...</td>\n",
              "      <td>Nutrients</td>\n",
              "    </tr>\n",
              "    <tr>\n",
              "      <th>9</th>\n",
              "      <td>diabetes_txt_files/PMC7049281_abstract.txt</td>\n",
              "      <td>PMC7049281</td>\n",
              "      <td>2020 Feb 25</td>\n",
              "      <td>Prevalence of Diabetes Mellitus and Associated...</td>\n",
              "      <td>Diabetes, Metabolic Syndrome and Obesity: Targ...</td>\n",
              "    </tr>\n",
              "  </tbody>\n",
              "</table>\n",
              "</div>\n",
              "    <div class=\"colab-df-buttons\">\n",
              "\n",
              "  <div class=\"colab-df-container\">\n",
              "    <button class=\"colab-df-convert\" onclick=\"convertToInteractive('df-7cfe7c37-fcef-40c3-a031-b33f54717773')\"\n",
              "            title=\"Convert this dataframe to an interactive table.\"\n",
              "            style=\"display:none;\">\n",
              "\n",
              "  <svg xmlns=\"http://www.w3.org/2000/svg\" height=\"24px\" viewBox=\"0 -960 960 960\">\n",
              "    <path d=\"M120-120v-720h720v720H120Zm60-500h600v-160H180v160Zm220 220h160v-160H400v160Zm0 220h160v-160H400v160ZM180-400h160v-160H180v160Zm440 0h160v-160H620v160ZM180-180h160v-160H180v160Zm440 0h160v-160H620v160Z\"/>\n",
              "  </svg>\n",
              "    </button>\n",
              "\n",
              "  <style>\n",
              "    .colab-df-container {\n",
              "      display:flex;\n",
              "      gap: 12px;\n",
              "    }\n",
              "\n",
              "    .colab-df-convert {\n",
              "      background-color: #E8F0FE;\n",
              "      border: none;\n",
              "      border-radius: 50%;\n",
              "      cursor: pointer;\n",
              "      display: none;\n",
              "      fill: #1967D2;\n",
              "      height: 32px;\n",
              "      padding: 0 0 0 0;\n",
              "      width: 32px;\n",
              "    }\n",
              "\n",
              "    .colab-df-convert:hover {\n",
              "      background-color: #E2EBFA;\n",
              "      box-shadow: 0px 1px 2px rgba(60, 64, 67, 0.3), 0px 1px 3px 1px rgba(60, 64, 67, 0.15);\n",
              "      fill: #174EA6;\n",
              "    }\n",
              "\n",
              "    .colab-df-buttons div {\n",
              "      margin-bottom: 4px;\n",
              "    }\n",
              "\n",
              "    [theme=dark] .colab-df-convert {\n",
              "      background-color: #3B4455;\n",
              "      fill: #D2E3FC;\n",
              "    }\n",
              "\n",
              "    [theme=dark] .colab-df-convert:hover {\n",
              "      background-color: #434B5C;\n",
              "      box-shadow: 0px 1px 3px 1px rgba(0, 0, 0, 0.15);\n",
              "      filter: drop-shadow(0px 1px 2px rgba(0, 0, 0, 0.3));\n",
              "      fill: #FFFFFF;\n",
              "    }\n",
              "  </style>\n",
              "\n",
              "    <script>\n",
              "      const buttonEl =\n",
              "        document.querySelector('#df-7cfe7c37-fcef-40c3-a031-b33f54717773 button.colab-df-convert');\n",
              "      buttonEl.style.display =\n",
              "        google.colab.kernel.accessAllowed ? 'block' : 'none';\n",
              "\n",
              "      async function convertToInteractive(key) {\n",
              "        const element = document.querySelector('#df-7cfe7c37-fcef-40c3-a031-b33f54717773');\n",
              "        const dataTable =\n",
              "          await google.colab.kernel.invokeFunction('convertToInteractive',\n",
              "                                                    [key], {});\n",
              "        if (!dataTable) return;\n",
              "\n",
              "        const docLinkHtml = 'Like what you see? Visit the ' +\n",
              "          '<a target=\"_blank\" href=https://colab.research.google.com/notebooks/data_table.ipynb>data table notebook</a>'\n",
              "          + ' to learn more about interactive tables.';\n",
              "        element.innerHTML = '';\n",
              "        dataTable['output_type'] = 'display_data';\n",
              "        await google.colab.output.renderOutput(dataTable, element);\n",
              "        const docLink = document.createElement('div');\n",
              "        docLink.innerHTML = docLinkHtml;\n",
              "        element.appendChild(docLink);\n",
              "      }\n",
              "    </script>\n",
              "  </div>\n",
              "\n",
              "\n",
              "<div id=\"df-179d1aec-37b9-4692-b51e-ba3683c3e611\">\n",
              "  <button class=\"colab-df-quickchart\" onclick=\"quickchart('df-179d1aec-37b9-4692-b51e-ba3683c3e611')\"\n",
              "            title=\"Suggest charts\"\n",
              "            style=\"display:none;\">\n",
              "\n",
              "<svg xmlns=\"http://www.w3.org/2000/svg\" height=\"24px\"viewBox=\"0 0 24 24\"\n",
              "     width=\"24px\">\n",
              "    <g>\n",
              "        <path d=\"M19 3H5c-1.1 0-2 .9-2 2v14c0 1.1.9 2 2 2h14c1.1 0 2-.9 2-2V5c0-1.1-.9-2-2-2zM9 17H7v-7h2v7zm4 0h-2V7h2v10zm4 0h-2v-4h2v4z\"/>\n",
              "    </g>\n",
              "</svg>\n",
              "  </button>\n",
              "\n",
              "<style>\n",
              "  .colab-df-quickchart {\n",
              "      --bg-color: #E8F0FE;\n",
              "      --fill-color: #1967D2;\n",
              "      --hover-bg-color: #E2EBFA;\n",
              "      --hover-fill-color: #174EA6;\n",
              "      --disabled-fill-color: #AAA;\n",
              "      --disabled-bg-color: #DDD;\n",
              "  }\n",
              "\n",
              "  [theme=dark] .colab-df-quickchart {\n",
              "      --bg-color: #3B4455;\n",
              "      --fill-color: #D2E3FC;\n",
              "      --hover-bg-color: #434B5C;\n",
              "      --hover-fill-color: #FFFFFF;\n",
              "      --disabled-bg-color: #3B4455;\n",
              "      --disabled-fill-color: #666;\n",
              "  }\n",
              "\n",
              "  .colab-df-quickchart {\n",
              "    background-color: var(--bg-color);\n",
              "    border: none;\n",
              "    border-radius: 50%;\n",
              "    cursor: pointer;\n",
              "    display: none;\n",
              "    fill: var(--fill-color);\n",
              "    height: 32px;\n",
              "    padding: 0;\n",
              "    width: 32px;\n",
              "  }\n",
              "\n",
              "  .colab-df-quickchart:hover {\n",
              "    background-color: var(--hover-bg-color);\n",
              "    box-shadow: 0 1px 2px rgba(60, 64, 67, 0.3), 0 1px 3px 1px rgba(60, 64, 67, 0.15);\n",
              "    fill: var(--button-hover-fill-color);\n",
              "  }\n",
              "\n",
              "  .colab-df-quickchart-complete:disabled,\n",
              "  .colab-df-quickchart-complete:disabled:hover {\n",
              "    background-color: var(--disabled-bg-color);\n",
              "    fill: var(--disabled-fill-color);\n",
              "    box-shadow: none;\n",
              "  }\n",
              "\n",
              "  .colab-df-spinner {\n",
              "    border: 2px solid var(--fill-color);\n",
              "    border-color: transparent;\n",
              "    border-bottom-color: var(--fill-color);\n",
              "    animation:\n",
              "      spin 1s steps(1) infinite;\n",
              "  }\n",
              "\n",
              "  @keyframes spin {\n",
              "    0% {\n",
              "      border-color: transparent;\n",
              "      border-bottom-color: var(--fill-color);\n",
              "      border-left-color: var(--fill-color);\n",
              "    }\n",
              "    20% {\n",
              "      border-color: transparent;\n",
              "      border-left-color: var(--fill-color);\n",
              "      border-top-color: var(--fill-color);\n",
              "    }\n",
              "    30% {\n",
              "      border-color: transparent;\n",
              "      border-left-color: var(--fill-color);\n",
              "      border-top-color: var(--fill-color);\n",
              "      border-right-color: var(--fill-color);\n",
              "    }\n",
              "    40% {\n",
              "      border-color: transparent;\n",
              "      border-right-color: var(--fill-color);\n",
              "      border-top-color: var(--fill-color);\n",
              "    }\n",
              "    60% {\n",
              "      border-color: transparent;\n",
              "      border-right-color: var(--fill-color);\n",
              "    }\n",
              "    80% {\n",
              "      border-color: transparent;\n",
              "      border-right-color: var(--fill-color);\n",
              "      border-bottom-color: var(--fill-color);\n",
              "    }\n",
              "    90% {\n",
              "      border-color: transparent;\n",
              "      border-bottom-color: var(--fill-color);\n",
              "    }\n",
              "  }\n",
              "</style>\n",
              "\n",
              "  <script>\n",
              "    async function quickchart(key) {\n",
              "      const quickchartButtonEl =\n",
              "        document.querySelector('#' + key + ' button');\n",
              "      quickchartButtonEl.disabled = true;  // To prevent multiple clicks.\n",
              "      quickchartButtonEl.classList.add('colab-df-spinner');\n",
              "      try {\n",
              "        const charts = await google.colab.kernel.invokeFunction(\n",
              "            'suggestCharts', [key], {});\n",
              "      } catch (error) {\n",
              "        console.error('Error during call to suggestCharts:', error);\n",
              "      }\n",
              "      quickchartButtonEl.classList.remove('colab-df-spinner');\n",
              "      quickchartButtonEl.classList.add('colab-df-quickchart-complete');\n",
              "    }\n",
              "    (() => {\n",
              "      let quickchartButtonEl =\n",
              "        document.querySelector('#df-179d1aec-37b9-4692-b51e-ba3683c3e611 button');\n",
              "      quickchartButtonEl.style.display =\n",
              "        google.colab.kernel.accessAllowed ? 'block' : 'none';\n",
              "    })();\n",
              "  </script>\n",
              "</div>\n",
              "\n",
              "    </div>\n",
              "  </div>\n"
            ],
            "text/plain": [
              "                                       source   pubmed_id      pubdate  \\\n",
              "0  diabetes_txt_files/PMC6308908_abstract.txt  PMC6308908  2018 Sep 19   \n",
              "1  diabetes_txt_files/PMC5850161_abstract.txt  PMC5850161  2018 Jan 12   \n",
              "2  diabetes_txt_files/PMC6214001_abstract.txt  PMC6214001  2018 Oct 19   \n",
              "3  diabetes_txt_files/PMC7026031_abstract.txt  PMC7026031  2020 Feb 17   \n",
              "4  diabetes_txt_files/PMC7187370_abstract.txt  PMC7187370  2020 Feb 17   \n",
              "5  diabetes_txt_files/PMC8165422_abstract.txt  PMC8165422  2021 May 21   \n",
              "6  diabetes_txt_files/PMC7643597_abstract.txt  PMC7643597  2020 Oct 21   \n",
              "7  diabetes_txt_files/PMC7730786_abstract.txt  PMC7730786  2020 Dec 10   \n",
              "8  diabetes_txt_files/PMC7400945_abstract.txt  PMC7400945  2020 Jul 17   \n",
              "9  diabetes_txt_files/PMC7049281_abstract.txt  PMC7049281  2020 Feb 25   \n",
              "\n",
              "                                               title  \\\n",
              "0  Compensatory mechanisms for methylglyoxal deto...   \n",
              "1  High‐Intensity Cigarette Smoking Is Associated...   \n",
              "2  The Proposal of Molecular Mechanisms of Weak O...   \n",
              "3  Incidence of diabetes mellitus in Spain as res...   \n",
              "4  Update of variants identified in the pancreati...   \n",
              "5  Meta-analysis of studies on depression prevale...   \n",
              "6              Update on Monogenic Diabetes in Korea   \n",
              "7  Different information needs in subgroups of pe...   \n",
              "8  The Effects of Legume Consumption on Markers o...   \n",
              "9  Prevalence of Diabetes Mellitus and Associated...   \n",
              "\n",
              "                                     fulljournalname  \n",
              "0                               Molecular Metabolism  \n",
              "1  Journal of the American Heart Association: Car...  \n",
              "2        International Journal of Molecular Sciences  \n",
              "3                                 Scientific Reports  \n",
              "4                                     Human Mutation  \n",
              "5                                            Heliyon  \n",
              "6                      Diabetes & Metabolism Journal  \n",
              "7                                  BMC Public Health  \n",
              "8                                          Nutrients  \n",
              "9  Diabetes, Metabolic Syndrome and Obesity: Targ...  "
            ]
          },
          "execution_count": 21,
          "metadata": {},
          "output_type": "execute_result"
        }
      ],
      "source": [
        "faiss_retriever = db.as_retriever(search_type=\"mmr\", search_kwargs={'k': 10, 'lambda_mult': 0.25})\n",
        "\n",
        "results = faiss_retriever.get_relevant_documents(\"causes of diabetes\")\n",
        "\n",
        "pd.DataFrame([doc.metadata for doc in results])"
      ]
    },
    {
      "cell_type": "markdown",
      "metadata": {
        "application/vnd.databricks.v1+cell": {
          "cellMetadata": {},
          "inputWidgets": {},
          "nuid": "5a8431ad-54cc-48e0-a0f5-eb460b0da8b1",
          "showTitle": false,
          "title": ""
        },
        "id": "swQblLXTWiOr"
      },
      "source": [
        "#### **Lost in the middle: The problem with long contexts**\n",
        "No matter the architecture of your model, there is a substantial performance degradation when you include 10+ retrieved documents. In brief: When models must access relevant information in the middle of long contexts, they tend to ignore the provided documents. See: https://arxiv.org/abs/2307.03172\n",
        "\n",
        "To avoid this issue you can re-order documents after retrieval to avoid performance degradation by placing the best documents at the beginning and end of the context window, making it easy for the LLM’s attention mechanism to access and use them. Imagine a simple example where documents consist of a single digit from 1 to 10 in ascending order. **Re-ordering will order these ten documents in the following order: [1 3 5 7 9 10 8 6 4 2]**.\n",
        "\n"
      ]
    },
    {
      "cell_type": "markdown",
      "metadata": {
        "application/vnd.databricks.v1+cell": {
          "cellMetadata": {},
          "inputWidgets": {},
          "nuid": "90de0aea-532a-4d30-ae84-d8ee001d2fe2",
          "showTitle": false,
          "title": ""
        },
        "id": "5dAX-0q0Y0Zb"
      },
      "source": [
        "\n",
        "![image.png](data:image/png;base64,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)\n",
        "\n",
        "source: Liu et al (2023) https://arxiv.org/abs/2307.03172"
      ]
    },
    {
      "cell_type": "code",
      "execution_count": null,
      "metadata": {
        "application/vnd.databricks.v1+cell": {
          "cellMetadata": {
            "byteLimit": 2048000,
            "rowLimit": 10000
          },
          "inputWidgets": {},
          "nuid": "840c08a8-8ce2-4217-b611-ace7a93717a3",
          "showTitle": false,
          "title": ""
        },
        "colab": {
          "base_uri": "https://localhost:8080/",
          "height": 973
        },
        "id": "8aE-VK_JWb4k",
        "outputId": "5f514883-ef68-479a-8b70-8021f48e0989"
      },
      "outputs": [
        {
          "data": {
            "text/html": [
              "\n",
              "  <div id=\"df-8789a1c3-4ab8-4fcd-a0c5-293a6cabac52\" class=\"colab-df-container\">\n",
              "    <div>\n",
              "<style scoped>\n",
              "    .dataframe tbody tr th:only-of-type {\n",
              "        vertical-align: middle;\n",
              "    }\n",
              "\n",
              "    .dataframe tbody tr th {\n",
              "        vertical-align: top;\n",
              "    }\n",
              "\n",
              "    .dataframe thead th {\n",
              "        text-align: right;\n",
              "    }\n",
              "</style>\n",
              "<table border=\"1\" class=\"dataframe\">\n",
              "  <thead>\n",
              "    <tr style=\"text-align: right;\">\n",
              "      <th></th>\n",
              "      <th>source</th>\n",
              "      <th>pubmed_id</th>\n",
              "      <th>pubdate</th>\n",
              "      <th>title</th>\n",
              "      <th>fulljournalname</th>\n",
              "    </tr>\n",
              "  </thead>\n",
              "  <tbody>\n",
              "    <tr>\n",
              "      <th>0</th>\n",
              "      <td>diabetes_txt_files/PMC5850161_abstract.txt</td>\n",
              "      <td>PMC5850161</td>\n",
              "      <td>2018 Jan 12</td>\n",
              "      <td>High‐Intensity Cigarette Smoking Is Associated...</td>\n",
              "      <td>Journal of the American Heart Association: Car...</td>\n",
              "    </tr>\n",
              "    <tr>\n",
              "      <th>1</th>\n",
              "      <td>diabetes_txt_files/PMC7026031_abstract.txt</td>\n",
              "      <td>PMC7026031</td>\n",
              "      <td>2020 Feb 17</td>\n",
              "      <td>Incidence of diabetes mellitus in Spain as res...</td>\n",
              "      <td>Scientific Reports</td>\n",
              "    </tr>\n",
              "    <tr>\n",
              "      <th>2</th>\n",
              "      <td>diabetes_txt_files/PMC8165422_abstract.txt</td>\n",
              "      <td>PMC8165422</td>\n",
              "      <td>2021 May 21</td>\n",
              "      <td>Meta-analysis of studies on depression prevale...</td>\n",
              "      <td>Heliyon</td>\n",
              "    </tr>\n",
              "    <tr>\n",
              "      <th>3</th>\n",
              "      <td>diabetes_txt_files/PMC7730786_abstract.txt</td>\n",
              "      <td>PMC7730786</td>\n",
              "      <td>2020 Dec 10</td>\n",
              "      <td>Different information needs in subgroups of pe...</td>\n",
              "      <td>BMC Public Health</td>\n",
              "    </tr>\n",
              "    <tr>\n",
              "      <th>4</th>\n",
              "      <td>diabetes_txt_files/PMC7049281_abstract.txt</td>\n",
              "      <td>PMC7049281</td>\n",
              "      <td>2020 Feb 25</td>\n",
              "      <td>Prevalence of Diabetes Mellitus and Associated...</td>\n",
              "      <td>Diabetes, Metabolic Syndrome and Obesity: Targ...</td>\n",
              "    </tr>\n",
              "    <tr>\n",
              "      <th>5</th>\n",
              "      <td>diabetes_txt_files/PMC7400945_abstract.txt</td>\n",
              "      <td>PMC7400945</td>\n",
              "      <td>2020 Jul 17</td>\n",
              "      <td>The Effects of Legume Consumption on Markers o...</td>\n",
              "      <td>Nutrients</td>\n",
              "    </tr>\n",
              "    <tr>\n",
              "      <th>6</th>\n",
              "      <td>diabetes_txt_files/PMC7643597_abstract.txt</td>\n",
              "      <td>PMC7643597</td>\n",
              "      <td>2020 Oct 21</td>\n",
              "      <td>Update on Monogenic Diabetes in Korea</td>\n",
              "      <td>Diabetes &amp; Metabolism Journal</td>\n",
              "    </tr>\n",
              "    <tr>\n",
              "      <th>7</th>\n",
              "      <td>diabetes_txt_files/PMC7187370_abstract.txt</td>\n",
              "      <td>PMC7187370</td>\n",
              "      <td>2020 Feb 17</td>\n",
              "      <td>Update of variants identified in the pancreati...</td>\n",
              "      <td>Human Mutation</td>\n",
              "    </tr>\n",
              "    <tr>\n",
              "      <th>8</th>\n",
              "      <td>diabetes_txt_files/PMC6214001_abstract.txt</td>\n",
              "      <td>PMC6214001</td>\n",
              "      <td>2018 Oct 19</td>\n",
              "      <td>The Proposal of Molecular Mechanisms of Weak O...</td>\n",
              "      <td>International Journal of Molecular Sciences</td>\n",
              "    </tr>\n",
              "    <tr>\n",
              "      <th>9</th>\n",
              "      <td>diabetes_txt_files/PMC6308908_abstract.txt</td>\n",
              "      <td>PMC6308908</td>\n",
              "      <td>2018 Sep 19</td>\n",
              "      <td>Compensatory mechanisms for methylglyoxal deto...</td>\n",
              "      <td>Molecular Metabolism</td>\n",
              "    </tr>\n",
              "  </tbody>\n",
              "</table>\n",
              "</div>\n",
              "    <div class=\"colab-df-buttons\">\n",
              "\n",
              "  <div class=\"colab-df-container\">\n",
              "    <button class=\"colab-df-convert\" onclick=\"convertToInteractive('df-8789a1c3-4ab8-4fcd-a0c5-293a6cabac52')\"\n",
              "            title=\"Convert this dataframe to an interactive table.\"\n",
              "            style=\"display:none;\">\n",
              "\n",
              "  <svg xmlns=\"http://www.w3.org/2000/svg\" height=\"24px\" viewBox=\"0 -960 960 960\">\n",
              "    <path d=\"M120-120v-720h720v720H120Zm60-500h600v-160H180v160Zm220 220h160v-160H400v160Zm0 220h160v-160H400v160ZM180-400h160v-160H180v160Zm440 0h160v-160H620v160ZM180-180h160v-160H180v160Zm440 0h160v-160H620v160Z\"/>\n",
              "  </svg>\n",
              "    </button>\n",
              "\n",
              "  <style>\n",
              "    .colab-df-container {\n",
              "      display:flex;\n",
              "      gap: 12px;\n",
              "    }\n",
              "\n",
              "    .colab-df-convert {\n",
              "      background-color: #E8F0FE;\n",
              "      border: none;\n",
              "      border-radius: 50%;\n",
              "      cursor: pointer;\n",
              "      display: none;\n",
              "      fill: #1967D2;\n",
              "      height: 32px;\n",
              "      padding: 0 0 0 0;\n",
              "      width: 32px;\n",
              "    }\n",
              "\n",
              "    .colab-df-convert:hover {\n",
              "      background-color: #E2EBFA;\n",
              "      box-shadow: 0px 1px 2px rgba(60, 64, 67, 0.3), 0px 1px 3px 1px rgba(60, 64, 67, 0.15);\n",
              "      fill: #174EA6;\n",
              "    }\n",
              "\n",
              "    .colab-df-buttons div {\n",
              "      margin-bottom: 4px;\n",
              "    }\n",
              "\n",
              "    [theme=dark] .colab-df-convert {\n",
              "      background-color: #3B4455;\n",
              "      fill: #D2E3FC;\n",
              "    }\n",
              "\n",
              "    [theme=dark] .colab-df-convert:hover {\n",
              "      background-color: #434B5C;\n",
              "      box-shadow: 0px 1px 3px 1px rgba(0, 0, 0, 0.15);\n",
              "      filter: drop-shadow(0px 1px 2px rgba(0, 0, 0, 0.3));\n",
              "      fill: #FFFFFF;\n",
              "    }\n",
              "  </style>\n",
              "\n",
              "    <script>\n",
              "      const buttonEl =\n",
              "        document.querySelector('#df-8789a1c3-4ab8-4fcd-a0c5-293a6cabac52 button.colab-df-convert');\n",
              "      buttonEl.style.display =\n",
              "        google.colab.kernel.accessAllowed ? 'block' : 'none';\n",
              "\n",
              "      async function convertToInteractive(key) {\n",
              "        const element = document.querySelector('#df-8789a1c3-4ab8-4fcd-a0c5-293a6cabac52');\n",
              "        const dataTable =\n",
              "          await google.colab.kernel.invokeFunction('convertToInteractive',\n",
              "                                                    [key], {});\n",
              "        if (!dataTable) return;\n",
              "\n",
              "        const docLinkHtml = 'Like what you see? Visit the ' +\n",
              "          '<a target=\"_blank\" href=https://colab.research.google.com/notebooks/data_table.ipynb>data table notebook</a>'\n",
              "          + ' to learn more about interactive tables.';\n",
              "        element.innerHTML = '';\n",
              "        dataTable['output_type'] = 'display_data';\n",
              "        await google.colab.output.renderOutput(dataTable, element);\n",
              "        const docLink = document.createElement('div');\n",
              "        docLink.innerHTML = docLinkHtml;\n",
              "        element.appendChild(docLink);\n",
              "      }\n",
              "    </script>\n",
              "  </div>\n",
              "\n",
              "\n",
              "<div id=\"df-154af9f7-22e4-4700-be0d-d6cfc5c0049a\">\n",
              "  <button class=\"colab-df-quickchart\" onclick=\"quickchart('df-154af9f7-22e4-4700-be0d-d6cfc5c0049a')\"\n",
              "            title=\"Suggest charts\"\n",
              "            style=\"display:none;\">\n",
              "\n",
              "<svg xmlns=\"http://www.w3.org/2000/svg\" height=\"24px\"viewBox=\"0 0 24 24\"\n",
              "     width=\"24px\">\n",
              "    <g>\n",
              "        <path d=\"M19 3H5c-1.1 0-2 .9-2 2v14c0 1.1.9 2 2 2h14c1.1 0 2-.9 2-2V5c0-1.1-.9-2-2-2zM9 17H7v-7h2v7zm4 0h-2V7h2v10zm4 0h-2v-4h2v4z\"/>\n",
              "    </g>\n",
              "</svg>\n",
              "  </button>\n",
              "\n",
              "<style>\n",
              "  .colab-df-quickchart {\n",
              "      --bg-color: #E8F0FE;\n",
              "      --fill-color: #1967D2;\n",
              "      --hover-bg-color: #E2EBFA;\n",
              "      --hover-fill-color: #174EA6;\n",
              "      --disabled-fill-color: #AAA;\n",
              "      --disabled-bg-color: #DDD;\n",
              "  }\n",
              "\n",
              "  [theme=dark] .colab-df-quickchart {\n",
              "      --bg-color: #3B4455;\n",
              "      --fill-color: #D2E3FC;\n",
              "      --hover-bg-color: #434B5C;\n",
              "      --hover-fill-color: #FFFFFF;\n",
              "      --disabled-bg-color: #3B4455;\n",
              "      --disabled-fill-color: #666;\n",
              "  }\n",
              "\n",
              "  .colab-df-quickchart {\n",
              "    background-color: var(--bg-color);\n",
              "    border: none;\n",
              "    border-radius: 50%;\n",
              "    cursor: pointer;\n",
              "    display: none;\n",
              "    fill: var(--fill-color);\n",
              "    height: 32px;\n",
              "    padding: 0;\n",
              "    width: 32px;\n",
              "  }\n",
              "\n",
              "  .colab-df-quickchart:hover {\n",
              "    background-color: var(--hover-bg-color);\n",
              "    box-shadow: 0 1px 2px rgba(60, 64, 67, 0.3), 0 1px 3px 1px rgba(60, 64, 67, 0.15);\n",
              "    fill: var(--button-hover-fill-color);\n",
              "  }\n",
              "\n",
              "  .colab-df-quickchart-complete:disabled,\n",
              "  .colab-df-quickchart-complete:disabled:hover {\n",
              "    background-color: var(--disabled-bg-color);\n",
              "    fill: var(--disabled-fill-color);\n",
              "    box-shadow: none;\n",
              "  }\n",
              "\n",
              "  .colab-df-spinner {\n",
              "    border: 2px solid var(--fill-color);\n",
              "    border-color: transparent;\n",
              "    border-bottom-color: var(--fill-color);\n",
              "    animation:\n",
              "      spin 1s steps(1) infinite;\n",
              "  }\n",
              "\n",
              "  @keyframes spin {\n",
              "    0% {\n",
              "      border-color: transparent;\n",
              "      border-bottom-color: var(--fill-color);\n",
              "      border-left-color: var(--fill-color);\n",
              "    }\n",
              "    20% {\n",
              "      border-color: transparent;\n",
              "      border-left-color: var(--fill-color);\n",
              "      border-top-color: var(--fill-color);\n",
              "    }\n",
              "    30% {\n",
              "      border-color: transparent;\n",
              "      border-left-color: var(--fill-color);\n",
              "      border-top-color: var(--fill-color);\n",
              "      border-right-color: var(--fill-color);\n",
              "    }\n",
              "    40% {\n",
              "      border-color: transparent;\n",
              "      border-right-color: var(--fill-color);\n",
              "      border-top-color: var(--fill-color);\n",
              "    }\n",
              "    60% {\n",
              "      border-color: transparent;\n",
              "      border-right-color: var(--fill-color);\n",
              "    }\n",
              "    80% {\n",
              "      border-color: transparent;\n",
              "      border-right-color: var(--fill-color);\n",
              "      border-bottom-color: var(--fill-color);\n",
              "    }\n",
              "    90% {\n",
              "      border-color: transparent;\n",
              "      border-bottom-color: var(--fill-color);\n",
              "    }\n",
              "  }\n",
              "</style>\n",
              "\n",
              "  <script>\n",
              "    async function quickchart(key) {\n",
              "      const quickchartButtonEl =\n",
              "        document.querySelector('#' + key + ' button');\n",
              "      quickchartButtonEl.disabled = true;  // To prevent multiple clicks.\n",
              "      quickchartButtonEl.classList.add('colab-df-spinner');\n",
              "      try {\n",
              "        const charts = await google.colab.kernel.invokeFunction(\n",
              "            'suggestCharts', [key], {});\n",
              "      } catch (error) {\n",
              "        console.error('Error during call to suggestCharts:', error);\n",
              "      }\n",
              "      quickchartButtonEl.classList.remove('colab-df-spinner');\n",
              "      quickchartButtonEl.classList.add('colab-df-quickchart-complete');\n",
              "    }\n",
              "    (() => {\n",
              "      let quickchartButtonEl =\n",
              "        document.querySelector('#df-154af9f7-22e4-4700-be0d-d6cfc5c0049a button');\n",
              "      quickchartButtonEl.style.display =\n",
              "        google.colab.kernel.accessAllowed ? 'block' : 'none';\n",
              "    })();\n",
              "  </script>\n",
              "</div>\n",
              "\n",
              "    </div>\n",
              "  </div>\n"
            ],
            "text/plain": [
              "                                       source   pubmed_id      pubdate  \\\n",
              "0  diabetes_txt_files/PMC5850161_abstract.txt  PMC5850161  2018 Jan 12   \n",
              "1  diabetes_txt_files/PMC7026031_abstract.txt  PMC7026031  2020 Feb 17   \n",
              "2  diabetes_txt_files/PMC8165422_abstract.txt  PMC8165422  2021 May 21   \n",
              "3  diabetes_txt_files/PMC7730786_abstract.txt  PMC7730786  2020 Dec 10   \n",
              "4  diabetes_txt_files/PMC7049281_abstract.txt  PMC7049281  2020 Feb 25   \n",
              "5  diabetes_txt_files/PMC7400945_abstract.txt  PMC7400945  2020 Jul 17   \n",
              "6  diabetes_txt_files/PMC7643597_abstract.txt  PMC7643597  2020 Oct 21   \n",
              "7  diabetes_txt_files/PMC7187370_abstract.txt  PMC7187370  2020 Feb 17   \n",
              "8  diabetes_txt_files/PMC6214001_abstract.txt  PMC6214001  2018 Oct 19   \n",
              "9  diabetes_txt_files/PMC6308908_abstract.txt  PMC6308908  2018 Sep 19   \n",
              "\n",
              "                                               title  \\\n",
              "0  High‐Intensity Cigarette Smoking Is Associated...   \n",
              "1  Incidence of diabetes mellitus in Spain as res...   \n",
              "2  Meta-analysis of studies on depression prevale...   \n",
              "3  Different information needs in subgroups of pe...   \n",
              "4  Prevalence of Diabetes Mellitus and Associated...   \n",
              "5  The Effects of Legume Consumption on Markers o...   \n",
              "6              Update on Monogenic Diabetes in Korea   \n",
              "7  Update of variants identified in the pancreati...   \n",
              "8  The Proposal of Molecular Mechanisms of Weak O...   \n",
              "9  Compensatory mechanisms for methylglyoxal deto...   \n",
              "\n",
              "                                     fulljournalname  \n",
              "0  Journal of the American Heart Association: Car...  \n",
              "1                                 Scientific Reports  \n",
              "2                                            Heliyon  \n",
              "3                                  BMC Public Health  \n",
              "4  Diabetes, Metabolic Syndrome and Obesity: Targ...  \n",
              "5                                          Nutrients  \n",
              "6                      Diabetes & Metabolism Journal  \n",
              "7                                     Human Mutation  \n",
              "8        International Journal of Molecular Sciences  \n",
              "9                               Molecular Metabolism  "
            ]
          },
          "execution_count": 22,
          "metadata": {},
          "output_type": "execute_result"
        }
      ],
      "source": [
        "from langchain.document_transformers import LongContextReorder\n",
        "\n",
        "reordering = LongContextReorder()\n",
        "\n",
        "reordered_results = reordering.transform_documents(results)\n",
        "\n",
        "pd.DataFrame([doc.metadata for doc in reordered_results])"
      ]
    },
    {
      "cell_type": "code",
      "execution_count": null,
      "metadata": {
        "application/vnd.databricks.v1+cell": {
          "cellMetadata": {
            "byteLimit": 2048000,
            "rowLimit": 10000
          },
          "inputWidgets": {},
          "nuid": "5a9be00c-4aff-41ae-9bc2-956e66958524",
          "showTitle": false,
          "title": ""
        },
        "colab": {
          "base_uri": "https://localhost:8080/"
        },
        "id": "Q7JdocuYK64Q",
        "outputId": "55309717-aad2-484d-d2ea-411230433217"
      },
      "outputs": [
        {
          "data": {
            "text/plain": [
              "[(Document(page_content='relevant pathway in human patients suffering from diabetes.', metadata={'source': 'diabetes_txt_files/PMC6308908_abstract.txt', 'pubmed_id': 'PMC6308908', 'pubdate': '2018 Sep 19', 'title': 'Compensatory mechanisms for methylglyoxal detoxification in experimental & clinical diabetes', 'fulljournalname': 'Molecular Metabolism'}),\n",
              "  0.8851507439650568),\n",
              " (Document(page_content='patients with type\\xa02 diabetes and those who had prediabetes.', metadata={'source': 'diabetes_txt_files/PMC7378450_abstract.txt', 'pubmed_id': 'PMC7378450', 'pubdate': '2020 Jan 13', 'title': 'Association between mean platelet volume in the pathogenesis of type\\xa02 diabetes mellitus and diabetic macrovascular complications in Japanese patients', 'fulljournalname': 'Journal of Diabetes Investigation'}),\n",
              "  0.8676613401930064),\n",
              " (Document(page_content='diabetes-related comorbidities, and well-being.', metadata={'source': 'diabetes_txt_files/PMC7730786_abstract.txt', 'pubmed_id': 'PMC7730786', 'pubdate': '2020 Dec 10', 'title': 'Different information needs in subgroups of people with diabetes mellitus: a latent class analysis', 'fulljournalname': 'BMC Public Health'}),\n",
              "  0.8597336444286527),\n",
              " (Document(page_content='Background: Diabetes is referred to a group of diseases characterized by high glucose levels in blood. It is caused by a deficiency in the production or function of insulin or both, which can occur because of different reasons, resulting in protein and lipid metabolic disorders. The aim of this study was to systematically review the prevalence and incidence of type 1 diabetes in the world.', metadata={'source': 'diabetes_txt_files/PMC7146037_abstract.txt', 'pubmed_id': 'PMC7146037', 'pubdate': '2020 Mar 30', 'title': 'Prevalence and incidence of type 1 diabetes in the world: a systematic review and meta-analysis', 'fulljournalname': 'Health Promotion Perspectives'}),\n",
              "  0.8585772613460594)]"
            ]
          },
          "execution_count": 23,
          "metadata": {},
          "output_type": "execute_result"
        }
      ],
      "source": [
        "db.similarity_search_with_relevance_scores(\"causes of diabetes\")\n"
      ]
    },
    {
      "cell_type": "markdown",
      "metadata": {
        "application/vnd.databricks.v1+cell": {
          "cellMetadata": {},
          "inputWidgets": {},
          "nuid": "979a9cc5-eaad-4163-8f3e-f1bab2ef9d3a",
          "showTitle": false,
          "title": ""
        },
        "id": "naRjkWu5K7nm"
      },
      "source": [
        "### with BM25"
      ]
    },
    {
      "cell_type": "markdown",
      "metadata": {
        "application/vnd.databricks.v1+cell": {
          "cellMetadata": {},
          "inputWidgets": {},
          "nuid": "ad835f88-e01a-456a-852e-388c0a7ed338",
          "showTitle": false,
          "title": ""
        },
        "id": "Rn9-TLxArh69"
      },
      "source": [
        "\n",
        "The BM25 algorithm is a text retrieval method commonly employed to identify documents within a corpus that exhibit similarity to a given query or target document. It operates by assessing the frequency of words in both the corpus and the specific document under consideration.\n",
        "\n",
        "BM25 functions as follows:\n",
        "\n",
        "Term Frequency: It examines the prevalence of each word within the entire corpus. Common words, found frequently throughout the corpus, receive less weight in the similarity calculation.\n",
        "\n",
        "Document Specificity: BM25 also evaluates how often each term occurs within the document being compared. Words that occur frequently within this specific document are deemed important for measuring similarity.\n",
        "\n",
        "Scoring: BM25 integrates these two factors to assign a similarity score between the target document and others within the corpus. The resulting score signifies the likelihood of documents being similar, with higher scores indicating greater similarity.\n",
        "\n",
        "In essence, the BM25 algorithm offers a formal and efficient means of identifying documents with relevance to a given query or reference document, accounting for both the prevalence and specificity of terms within the corpus."
      ]
    },
    {
      "cell_type": "code",
      "execution_count": null,
      "metadata": {
        "application/vnd.databricks.v1+cell": {
          "cellMetadata": {
            "byteLimit": 2048000,
            "rowLimit": 10000
          },
          "inputWidgets": {},
          "nuid": "392f60bd-83c4-4759-888a-7a8edcb21b47",
          "showTitle": false,
          "title": ""
        },
        "colab": {
          "base_uri": "https://localhost:8080/"
        },
        "id": "aY5827prKUro",
        "outputId": "27756afe-ff28-4b63-9fca-454d39571b98"
      },
      "outputs": [
        {
          "name": "stdout",
          "output_type": "stream",
          "text": [
            "\u001b[33mWARNING: Running pip as the 'root' user can result in broken permissions and conflicting behaviour with the system package manager. It is recommended to use a virtual environment instead: https://pip.pypa.io/warnings/venv\u001b[0m\u001b[33m\n",
            "\u001b[0m"
          ]
        }
      ],
      "source": [
        "!pip -q install rank_bm25"
      ]
    },
    {
      "cell_type": "code",
      "execution_count": null,
      "metadata": {
        "application/vnd.databricks.v1+cell": {
          "cellMetadata": {
            "byteLimit": 2048000,
            "rowLimit": 10000
          },
          "inputWidgets": {},
          "nuid": "32aa9e6b-6ea6-4904-bcf1-5a647ee61751",
          "showTitle": false,
          "title": ""
        },
        "id": "C9fDpaPFH6T7"
      },
      "outputs": [],
      "source": [
        "from langchain.retrievers import BM25Retriever, EnsembleRetriever\n",
        "\n",
        "# initialize the bm25 retriever\n",
        "bm25_retriever = BM25Retriever.from_documents(texts)\n",
        "bm25_retriever.k = 3"
      ]
    },
    {
      "cell_type": "code",
      "execution_count": null,
      "metadata": {
        "application/vnd.databricks.v1+cell": {
          "cellMetadata": {
            "byteLimit": 2048000,
            "rowLimit": 10000
          },
          "inputWidgets": {},
          "nuid": "388d8229-e8ce-4987-9354-fb974d6b8665",
          "showTitle": false,
          "title": ""
        },
        "colab": {
          "base_uri": "https://localhost:8080/",
          "height": 195
        },
        "id": "dJgIMnXxNwmK",
        "outputId": "dc7c3424-8676-464a-c9e6-c8f01df0415b"
      },
      "outputs": [
        {
          "data": {
            "text/html": [
              "\n",
              "  <div id=\"df-a5e33bd5-984a-4f75-9fe9-1de54dc3b17e\" class=\"colab-df-container\">\n",
              "    <div>\n",
              "<style scoped>\n",
              "    .dataframe tbody tr th:only-of-type {\n",
              "        vertical-align: middle;\n",
              "    }\n",
              "\n",
              "    .dataframe tbody tr th {\n",
              "        vertical-align: top;\n",
              "    }\n",
              "\n",
              "    .dataframe thead th {\n",
              "        text-align: right;\n",
              "    }\n",
              "</style>\n",
              "<table border=\"1\" class=\"dataframe\">\n",
              "  <thead>\n",
              "    <tr style=\"text-align: right;\">\n",
              "      <th></th>\n",
              "      <th>pubmed_id</th>\n",
              "      <th>pubdate</th>\n",
              "      <th>title</th>\n",
              "      <th>fulljournalname</th>\n",
              "    </tr>\n",
              "  </thead>\n",
              "  <tbody>\n",
              "    <tr>\n",
              "      <th>0</th>\n",
              "      <td>PMC2718125</td>\n",
              "      <td>2001 Dec 31</td>\n",
              "      <td>MR Imaging of Central Diabetes Insipidus: A Pi...</td>\n",
              "      <td>Korean Journal of Radiology</td>\n",
              "    </tr>\n",
              "    <tr>\n",
              "      <th>1</th>\n",
              "      <td>PMC5985381</td>\n",
              "      <td>2018 May 18</td>\n",
              "      <td>The Distribution of Different Types of Diabete...</td>\n",
              "      <td>Journal of Clinical Research in Pediatric Endo...</td>\n",
              "    </tr>\n",
              "    <tr>\n",
              "      <th>2</th>\n",
              "      <td>PMC8668069</td>\n",
              "      <td>2021 Jul 4</td>\n",
              "      <td>Epidemiology, genetic landscape and classifica...</td>\n",
              "      <td>Journal of Diabetes Investigation</td>\n",
              "    </tr>\n",
              "  </tbody>\n",
              "</table>\n",
              "</div>\n",
              "    <div class=\"colab-df-buttons\">\n",
              "\n",
              "  <div class=\"colab-df-container\">\n",
              "    <button class=\"colab-df-convert\" onclick=\"convertToInteractive('df-a5e33bd5-984a-4f75-9fe9-1de54dc3b17e')\"\n",
              "            title=\"Convert this dataframe to an interactive table.\"\n",
              "            style=\"display:none;\">\n",
              "\n",
              "  <svg xmlns=\"http://www.w3.org/2000/svg\" height=\"24px\" viewBox=\"0 -960 960 960\">\n",
              "    <path d=\"M120-120v-720h720v720H120Zm60-500h600v-160H180v160Zm220 220h160v-160H400v160Zm0 220h160v-160H400v160ZM180-400h160v-160H180v160Zm440 0h160v-160H620v160ZM180-180h160v-160H180v160Zm440 0h160v-160H620v160Z\"/>\n",
              "  </svg>\n",
              "    </button>\n",
              "\n",
              "  <style>\n",
              "    .colab-df-container {\n",
              "      display:flex;\n",
              "      gap: 12px;\n",
              "    }\n",
              "\n",
              "    .colab-df-convert {\n",
              "      background-color: #E8F0FE;\n",
              "      border: none;\n",
              "      border-radius: 50%;\n",
              "      cursor: pointer;\n",
              "      display: none;\n",
              "      fill: #1967D2;\n",
              "      height: 32px;\n",
              "      padding: 0 0 0 0;\n",
              "      width: 32px;\n",
              "    }\n",
              "\n",
              "    .colab-df-convert:hover {\n",
              "      background-color: #E2EBFA;\n",
              "      box-shadow: 0px 1px 2px rgba(60, 64, 67, 0.3), 0px 1px 3px 1px rgba(60, 64, 67, 0.15);\n",
              "      fill: #174EA6;\n",
              "    }\n",
              "\n",
              "    .colab-df-buttons div {\n",
              "      margin-bottom: 4px;\n",
              "    }\n",
              "\n",
              "    [theme=dark] .colab-df-convert {\n",
              "      background-color: #3B4455;\n",
              "      fill: #D2E3FC;\n",
              "    }\n",
              "\n",
              "    [theme=dark] .colab-df-convert:hover {\n",
              "      background-color: #434B5C;\n",
              "      box-shadow: 0px 1px 3px 1px rgba(0, 0, 0, 0.15);\n",
              "      filter: drop-shadow(0px 1px 2px rgba(0, 0, 0, 0.3));\n",
              "      fill: #FFFFFF;\n",
              "    }\n",
              "  </style>\n",
              "\n",
              "    <script>\n",
              "      const buttonEl =\n",
              "        document.querySelector('#df-a5e33bd5-984a-4f75-9fe9-1de54dc3b17e button.colab-df-convert');\n",
              "      buttonEl.style.display =\n",
              "        google.colab.kernel.accessAllowed ? 'block' : 'none';\n",
              "\n",
              "      async function convertToInteractive(key) {\n",
              "        const element = document.querySelector('#df-a5e33bd5-984a-4f75-9fe9-1de54dc3b17e');\n",
              "        const dataTable =\n",
              "          await google.colab.kernel.invokeFunction('convertToInteractive',\n",
              "                                                    [key], {});\n",
              "        if (!dataTable) return;\n",
              "\n",
              "        const docLinkHtml = 'Like what you see? Visit the ' +\n",
              "          '<a target=\"_blank\" href=https://colab.research.google.com/notebooks/data_table.ipynb>data table notebook</a>'\n",
              "          + ' to learn more about interactive tables.';\n",
              "        element.innerHTML = '';\n",
              "        dataTable['output_type'] = 'display_data';\n",
              "        await google.colab.output.renderOutput(dataTable, element);\n",
              "        const docLink = document.createElement('div');\n",
              "        docLink.innerHTML = docLinkHtml;\n",
              "        element.appendChild(docLink);\n",
              "      }\n",
              "    </script>\n",
              "  </div>\n",
              "\n",
              "\n",
              "<div id=\"df-ae6ecefc-a36c-4ccb-a7ba-28845d279ed9\">\n",
              "  <button class=\"colab-df-quickchart\" onclick=\"quickchart('df-ae6ecefc-a36c-4ccb-a7ba-28845d279ed9')\"\n",
              "            title=\"Suggest charts\"\n",
              "            style=\"display:none;\">\n",
              "\n",
              "<svg xmlns=\"http://www.w3.org/2000/svg\" height=\"24px\"viewBox=\"0 0 24 24\"\n",
              "     width=\"24px\">\n",
              "    <g>\n",
              "        <path d=\"M19 3H5c-1.1 0-2 .9-2 2v14c0 1.1.9 2 2 2h14c1.1 0 2-.9 2-2V5c0-1.1-.9-2-2-2zM9 17H7v-7h2v7zm4 0h-2V7h2v10zm4 0h-2v-4h2v4z\"/>\n",
              "    </g>\n",
              "</svg>\n",
              "  </button>\n",
              "\n",
              "<style>\n",
              "  .colab-df-quickchart {\n",
              "      --bg-color: #E8F0FE;\n",
              "      --fill-color: #1967D2;\n",
              "      --hover-bg-color: #E2EBFA;\n",
              "      --hover-fill-color: #174EA6;\n",
              "      --disabled-fill-color: #AAA;\n",
              "      --disabled-bg-color: #DDD;\n",
              "  }\n",
              "\n",
              "  [theme=dark] .colab-df-quickchart {\n",
              "      --bg-color: #3B4455;\n",
              "      --fill-color: #D2E3FC;\n",
              "      --hover-bg-color: #434B5C;\n",
              "      --hover-fill-color: #FFFFFF;\n",
              "      --disabled-bg-color: #3B4455;\n",
              "      --disabled-fill-color: #666;\n",
              "  }\n",
              "\n",
              "  .colab-df-quickchart {\n",
              "    background-color: var(--bg-color);\n",
              "    border: none;\n",
              "    border-radius: 50%;\n",
              "    cursor: pointer;\n",
              "    display: none;\n",
              "    fill: var(--fill-color);\n",
              "    height: 32px;\n",
              "    padding: 0;\n",
              "    width: 32px;\n",
              "  }\n",
              "\n",
              "  .colab-df-quickchart:hover {\n",
              "    background-color: var(--hover-bg-color);\n",
              "    box-shadow: 0 1px 2px rgba(60, 64, 67, 0.3), 0 1px 3px 1px rgba(60, 64, 67, 0.15);\n",
              "    fill: var(--button-hover-fill-color);\n",
              "  }\n",
              "\n",
              "  .colab-df-quickchart-complete:disabled,\n",
              "  .colab-df-quickchart-complete:disabled:hover {\n",
              "    background-color: var(--disabled-bg-color);\n",
              "    fill: var(--disabled-fill-color);\n",
              "    box-shadow: none;\n",
              "  }\n",
              "\n",
              "  .colab-df-spinner {\n",
              "    border: 2px solid var(--fill-color);\n",
              "    border-color: transparent;\n",
              "    border-bottom-color: var(--fill-color);\n",
              "    animation:\n",
              "      spin 1s steps(1) infinite;\n",
              "  }\n",
              "\n",
              "  @keyframes spin {\n",
              "    0% {\n",
              "      border-color: transparent;\n",
              "      border-bottom-color: var(--fill-color);\n",
              "      border-left-color: var(--fill-color);\n",
              "    }\n",
              "    20% {\n",
              "      border-color: transparent;\n",
              "      border-left-color: var(--fill-color);\n",
              "      border-top-color: var(--fill-color);\n",
              "    }\n",
              "    30% {\n",
              "      border-color: transparent;\n",
              "      border-left-color: var(--fill-color);\n",
              "      border-top-color: var(--fill-color);\n",
              "      border-right-color: var(--fill-color);\n",
              "    }\n",
              "    40% {\n",
              "      border-color: transparent;\n",
              "      border-right-color: var(--fill-color);\n",
              "      border-top-color: var(--fill-color);\n",
              "    }\n",
              "    60% {\n",
              "      border-color: transparent;\n",
              "      border-right-color: var(--fill-color);\n",
              "    }\n",
              "    80% {\n",
              "      border-color: transparent;\n",
              "      border-right-color: var(--fill-color);\n",
              "      border-bottom-color: var(--fill-color);\n",
              "    }\n",
              "    90% {\n",
              "      border-color: transparent;\n",
              "      border-bottom-color: var(--fill-color);\n",
              "    }\n",
              "  }\n",
              "</style>\n",
              "\n",
              "  <script>\n",
              "    async function quickchart(key) {\n",
              "      const quickchartButtonEl =\n",
              "        document.querySelector('#' + key + ' button');\n",
              "      quickchartButtonEl.disabled = true;  // To prevent multiple clicks.\n",
              "      quickchartButtonEl.classList.add('colab-df-spinner');\n",
              "      try {\n",
              "        const charts = await google.colab.kernel.invokeFunction(\n",
              "            'suggestCharts', [key], {});\n",
              "      } catch (error) {\n",
              "        console.error('Error during call to suggestCharts:', error);\n",
              "      }\n",
              "      quickchartButtonEl.classList.remove('colab-df-spinner');\n",
              "      quickchartButtonEl.classList.add('colab-df-quickchart-complete');\n",
              "    }\n",
              "    (() => {\n",
              "      let quickchartButtonEl =\n",
              "        document.querySelector('#df-ae6ecefc-a36c-4ccb-a7ba-28845d279ed9 button');\n",
              "      quickchartButtonEl.style.display =\n",
              "        google.colab.kernel.accessAllowed ? 'block' : 'none';\n",
              "    })();\n",
              "  </script>\n",
              "</div>\n",
              "\n",
              "    </div>\n",
              "  </div>\n"
            ],
            "text/plain": [
              "    pubmed_id      pubdate                                              title  \\\n",
              "0  PMC2718125  2001 Dec 31  MR Imaging of Central Diabetes Insipidus: A Pi...   \n",
              "1  PMC5985381  2018 May 18  The Distribution of Different Types of Diabete...   \n",
              "2  PMC8668069   2021 Jul 4  Epidemiology, genetic landscape and classifica...   \n",
              "\n",
              "                                     fulljournalname  \n",
              "0                        Korean Journal of Radiology  \n",
              "1  Journal of Clinical Research in Pediatric Endo...  \n",
              "2                  Journal of Diabetes Investigation  "
            ]
          },
          "execution_count": 26,
          "metadata": {},
          "output_type": "execute_result"
        }
      ],
      "source": [
        "results = bm25_retriever.get_relevant_documents(\"causes of diabetes\")\n",
        "pd.DataFrame([doc.metadata for doc in results])"
      ]
    },
    {
      "cell_type": "code",
      "execution_count": null,
      "metadata": {
        "application/vnd.databricks.v1+cell": {
          "cellMetadata": {
            "byteLimit": 2048000,
            "rowLimit": 10000
          },
          "inputWidgets": {},
          "nuid": "ce85dc4b-8964-4b4e-8ea0-5249538eba08",
          "showTitle": false,
          "title": ""
        },
        "colab": {
          "base_uri": "https://localhost:8080/"
        },
        "id": "xbx2eOKHcKZH",
        "outputId": "992d2388-82c7-4dfe-febb-6fbbc13dc5dd"
      },
      "outputs": [
        {
          "data": {
            "text/plain": [
              "[Document(page_content=\"Central diabetes insipidus (DI) can be the outcome of a number of diseases that affect the hypothalamic-neurohypophyseal axis. The causes of the condition can be classified as traumatic, inflammatory, or neoplastic. Traumatic causes include postoperative sella or transection of the pituitary stalk, while infectious or inflammatory causes include meningitis, lymphocytic hypophysitis, and granulomatous inflammations such as sarcoidosis and Wegener's granulomatosis. Various neoplastic conditions\", metadata={'pubmed_id': 'PMC2718125', 'pubdate': '2001 Dec 31', 'title': 'MR Imaging of Central Diabetes Insipidus: A Pictorial Essay', 'fulljournalname': 'Korean Journal of Radiology'}),\n",
              " Document(page_content='Type 1 diabetes (T1D) is the most common cause of diabetes in childhood but type 2 diabetes (T2D) and maturity onset diabetes of the young (MODY) are emerging as noteworthy causes of diabetes at young ages. The aim is to determine the distribution, trends and clinical features of the different types of diabetes in childhood in one tertiary center.', metadata={'pubmed_id': 'PMC5985381', 'pubdate': '2018 May 18', 'title': 'The Distribution of Different Types of Diabetes in Childhood: A Single Center Experience', 'fulljournalname': 'Journal of Clinical Research in Pediatric Endocrinology'}),\n",
              " Document(page_content='To study the epidemiology, genetic landscape and causes of childhood diabetes mellitus in the State of Qatar.\\nAll patients (aged 0–18\\u2009years) with diabetes mellitus underwent biochemical, immunological and genetic testing. American Diabetes Association guidelines were used to classify types of diabetes mellitus. The incidence and prevalence of all the different types of diabetes mellitus were calculated.', metadata={'pubmed_id': 'PMC8668069', 'pubdate': '2021 Jul 4', 'title': 'Epidemiology, genetic landscape and classification of childhood diabetes mellitus in the State of Qatar', 'fulljournalname': 'Journal of Diabetes Investigation'})]"
            ]
          },
          "execution_count": 27,
          "metadata": {},
          "output_type": "execute_result"
        }
      ],
      "source": [
        "bm25_retriever.get_relevant_documents(\"causes of diabetes\")"
      ]
    },
    {
      "cell_type": "code",
      "execution_count": null,
      "metadata": {
        "application/vnd.databricks.v1+cell": {
          "cellMetadata": {
            "byteLimit": 2048000,
            "rowLimit": 10000
          },
          "inputWidgets": {},
          "nuid": "dc80eed9-d23e-42b6-94fe-f5766668a544",
          "showTitle": false,
          "title": ""
        },
        "id": "aPrCYwTTOg-x"
      },
      "outputs": [],
      "source": [
        "# initialize the ensemble retriever\n",
        "ensemble_retriever = EnsembleRetriever(retrievers=[bm25_retriever, faiss_retriever],\n",
        "                                       weights=[0.5, 0.5], k=3)"
      ]
    },
    {
      "cell_type": "code",
      "execution_count": null,
      "metadata": {
        "application/vnd.databricks.v1+cell": {
          "cellMetadata": {
            "byteLimit": 2048000,
            "rowLimit": 10000
          },
          "inputWidgets": {},
          "nuid": "84e6c889-5f5b-4bd8-a473-5c8201b52428",
          "showTitle": false,
          "title": ""
        },
        "colab": {
          "base_uri": "https://localhost:8080/",
          "height": 1000
        },
        "id": "doRGeMMLOpYB",
        "outputId": "120b6c6e-cc64-475f-cec3-496d85198945"
      },
      "outputs": [
        {
          "data": {
            "text/html": [
              "\n",
              "  <div id=\"df-d8d19004-5092-4e89-98de-a42d45761c56\" class=\"colab-df-container\">\n",
              "    <div>\n",
              "<style scoped>\n",
              "    .dataframe tbody tr th:only-of-type {\n",
              "        vertical-align: middle;\n",
              "    }\n",
              "\n",
              "    .dataframe tbody tr th {\n",
              "        vertical-align: top;\n",
              "    }\n",
              "\n",
              "    .dataframe thead th {\n",
              "        text-align: right;\n",
              "    }\n",
              "</style>\n",
              "<table border=\"1\" class=\"dataframe\">\n",
              "  <thead>\n",
              "    <tr style=\"text-align: right;\">\n",
              "      <th></th>\n",
              "      <th>pubmed_id</th>\n",
              "      <th>pubdate</th>\n",
              "      <th>title</th>\n",
              "      <th>fulljournalname</th>\n",
              "      <th>source</th>\n",
              "    </tr>\n",
              "  </thead>\n",
              "  <tbody>\n",
              "    <tr>\n",
              "      <th>0</th>\n",
              "      <td>PMC2718125</td>\n",
              "      <td>2001 Dec 31</td>\n",
              "      <td>MR Imaging of Central Diabetes Insipidus: A Pi...</td>\n",
              "      <td>Korean Journal of Radiology</td>\n",
              "      <td>NaN</td>\n",
              "    </tr>\n",
              "    <tr>\n",
              "      <th>1</th>\n",
              "      <td>PMC6308908</td>\n",
              "      <td>2018 Sep 19</td>\n",
              "      <td>Compensatory mechanisms for methylglyoxal deto...</td>\n",
              "      <td>Molecular Metabolism</td>\n",
              "      <td>diabetes_txt_files/PMC6308908_abstract.txt</td>\n",
              "    </tr>\n",
              "    <tr>\n",
              "      <th>2</th>\n",
              "      <td>PMC5850161</td>\n",
              "      <td>2018 Jan 12</td>\n",
              "      <td>High‐Intensity Cigarette Smoking Is Associated...</td>\n",
              "      <td>Journal of the American Heart Association: Car...</td>\n",
              "      <td>diabetes_txt_files/PMC5850161_abstract.txt</td>\n",
              "    </tr>\n",
              "    <tr>\n",
              "      <th>3</th>\n",
              "      <td>PMC5985381</td>\n",
              "      <td>2018 May 18</td>\n",
              "      <td>The Distribution of Different Types of Diabete...</td>\n",
              "      <td>Journal of Clinical Research in Pediatric Endo...</td>\n",
              "      <td>NaN</td>\n",
              "    </tr>\n",
              "    <tr>\n",
              "      <th>4</th>\n",
              "      <td>PMC6214001</td>\n",
              "      <td>2018 Oct 19</td>\n",
              "      <td>The Proposal of Molecular Mechanisms of Weak O...</td>\n",
              "      <td>International Journal of Molecular Sciences</td>\n",
              "      <td>diabetes_txt_files/PMC6214001_abstract.txt</td>\n",
              "    </tr>\n",
              "    <tr>\n",
              "      <th>5</th>\n",
              "      <td>PMC8668069</td>\n",
              "      <td>2021 Jul 4</td>\n",
              "      <td>Epidemiology, genetic landscape and classifica...</td>\n",
              "      <td>Journal of Diabetes Investigation</td>\n",
              "      <td>NaN</td>\n",
              "    </tr>\n",
              "    <tr>\n",
              "      <th>6</th>\n",
              "      <td>PMC7026031</td>\n",
              "      <td>2020 Feb 17</td>\n",
              "      <td>Incidence of diabetes mellitus in Spain as res...</td>\n",
              "      <td>Scientific Reports</td>\n",
              "      <td>diabetes_txt_files/PMC7026031_abstract.txt</td>\n",
              "    </tr>\n",
              "    <tr>\n",
              "      <th>7</th>\n",
              "      <td>PMC7187370</td>\n",
              "      <td>2020 Feb 17</td>\n",
              "      <td>Update of variants identified in the pancreati...</td>\n",
              "      <td>Human Mutation</td>\n",
              "      <td>diabetes_txt_files/PMC7187370_abstract.txt</td>\n",
              "    </tr>\n",
              "    <tr>\n",
              "      <th>8</th>\n",
              "      <td>PMC8165422</td>\n",
              "      <td>2021 May 21</td>\n",
              "      <td>Meta-analysis of studies on depression prevale...</td>\n",
              "      <td>Heliyon</td>\n",
              "      <td>diabetes_txt_files/PMC8165422_abstract.txt</td>\n",
              "    </tr>\n",
              "    <tr>\n",
              "      <th>9</th>\n",
              "      <td>PMC7643597</td>\n",
              "      <td>2020 Oct 21</td>\n",
              "      <td>Update on Monogenic Diabetes in Korea</td>\n",
              "      <td>Diabetes &amp; Metabolism Journal</td>\n",
              "      <td>diabetes_txt_files/PMC7643597_abstract.txt</td>\n",
              "    </tr>\n",
              "    <tr>\n",
              "      <th>10</th>\n",
              "      <td>PMC7730786</td>\n",
              "      <td>2020 Dec 10</td>\n",
              "      <td>Different information needs in subgroups of pe...</td>\n",
              "      <td>BMC Public Health</td>\n",
              "      <td>diabetes_txt_files/PMC7730786_abstract.txt</td>\n",
              "    </tr>\n",
              "    <tr>\n",
              "      <th>11</th>\n",
              "      <td>PMC7400945</td>\n",
              "      <td>2020 Jul 17</td>\n",
              "      <td>The Effects of Legume Consumption on Markers o...</td>\n",
              "      <td>Nutrients</td>\n",
              "      <td>diabetes_txt_files/PMC7400945_abstract.txt</td>\n",
              "    </tr>\n",
              "    <tr>\n",
              "      <th>12</th>\n",
              "      <td>PMC7049281</td>\n",
              "      <td>2020 Feb 25</td>\n",
              "      <td>Prevalence of Diabetes Mellitus and Associated...</td>\n",
              "      <td>Diabetes, Metabolic Syndrome and Obesity: Targ...</td>\n",
              "      <td>diabetes_txt_files/PMC7049281_abstract.txt</td>\n",
              "    </tr>\n",
              "  </tbody>\n",
              "</table>\n",
              "</div>\n",
              "    <div class=\"colab-df-buttons\">\n",
              "\n",
              "  <div class=\"colab-df-container\">\n",
              "    <button class=\"colab-df-convert\" onclick=\"convertToInteractive('df-d8d19004-5092-4e89-98de-a42d45761c56')\"\n",
              "            title=\"Convert this dataframe to an interactive table.\"\n",
              "            style=\"display:none;\">\n",
              "\n",
              "  <svg xmlns=\"http://www.w3.org/2000/svg\" height=\"24px\" viewBox=\"0 -960 960 960\">\n",
              "    <path d=\"M120-120v-720h720v720H120Zm60-500h600v-160H180v160Zm220 220h160v-160H400v160Zm0 220h160v-160H400v160ZM180-400h160v-160H180v160Zm440 0h160v-160H620v160ZM180-180h160v-160H180v160Zm440 0h160v-160H620v160Z\"/>\n",
              "  </svg>\n",
              "    </button>\n",
              "\n",
              "  <style>\n",
              "    .colab-df-container {\n",
              "      display:flex;\n",
              "      gap: 12px;\n",
              "    }\n",
              "\n",
              "    .colab-df-convert {\n",
              "      background-color: #E8F0FE;\n",
              "      border: none;\n",
              "      border-radius: 50%;\n",
              "      cursor: pointer;\n",
              "      display: none;\n",
              "      fill: #1967D2;\n",
              "      height: 32px;\n",
              "      padding: 0 0 0 0;\n",
              "      width: 32px;\n",
              "    }\n",
              "\n",
              "    .colab-df-convert:hover {\n",
              "      background-color: #E2EBFA;\n",
              "      box-shadow: 0px 1px 2px rgba(60, 64, 67, 0.3), 0px 1px 3px 1px rgba(60, 64, 67, 0.15);\n",
              "      fill: #174EA6;\n",
              "    }\n",
              "\n",
              "    .colab-df-buttons div {\n",
              "      margin-bottom: 4px;\n",
              "    }\n",
              "\n",
              "    [theme=dark] .colab-df-convert {\n",
              "      background-color: #3B4455;\n",
              "      fill: #D2E3FC;\n",
              "    }\n",
              "\n",
              "    [theme=dark] .colab-df-convert:hover {\n",
              "      background-color: #434B5C;\n",
              "      box-shadow: 0px 1px 3px 1px rgba(0, 0, 0, 0.15);\n",
              "      filter: drop-shadow(0px 1px 2px rgba(0, 0, 0, 0.3));\n",
              "      fill: #FFFFFF;\n",
              "    }\n",
              "  </style>\n",
              "\n",
              "    <script>\n",
              "      const buttonEl =\n",
              "        document.querySelector('#df-d8d19004-5092-4e89-98de-a42d45761c56 button.colab-df-convert');\n",
              "      buttonEl.style.display =\n",
              "        google.colab.kernel.accessAllowed ? 'block' : 'none';\n",
              "\n",
              "      async function convertToInteractive(key) {\n",
              "        const element = document.querySelector('#df-d8d19004-5092-4e89-98de-a42d45761c56');\n",
              "        const dataTable =\n",
              "          await google.colab.kernel.invokeFunction('convertToInteractive',\n",
              "                                                    [key], {});\n",
              "        if (!dataTable) return;\n",
              "\n",
              "        const docLinkHtml = 'Like what you see? Visit the ' +\n",
              "          '<a target=\"_blank\" href=https://colab.research.google.com/notebooks/data_table.ipynb>data table notebook</a>'\n",
              "          + ' to learn more about interactive tables.';\n",
              "        element.innerHTML = '';\n",
              "        dataTable['output_type'] = 'display_data';\n",
              "        await google.colab.output.renderOutput(dataTable, element);\n",
              "        const docLink = document.createElement('div');\n",
              "        docLink.innerHTML = docLinkHtml;\n",
              "        element.appendChild(docLink);\n",
              "      }\n",
              "    </script>\n",
              "  </div>\n",
              "\n",
              "\n",
              "<div id=\"df-f76dcb8e-7c2f-4cd1-9137-4a5989d0fc9d\">\n",
              "  <button class=\"colab-df-quickchart\" onclick=\"quickchart('df-f76dcb8e-7c2f-4cd1-9137-4a5989d0fc9d')\"\n",
              "            title=\"Suggest charts\"\n",
              "            style=\"display:none;\">\n",
              "\n",
              "<svg xmlns=\"http://www.w3.org/2000/svg\" height=\"24px\"viewBox=\"0 0 24 24\"\n",
              "     width=\"24px\">\n",
              "    <g>\n",
              "        <path d=\"M19 3H5c-1.1 0-2 .9-2 2v14c0 1.1.9 2 2 2h14c1.1 0 2-.9 2-2V5c0-1.1-.9-2-2-2zM9 17H7v-7h2v7zm4 0h-2V7h2v10zm4 0h-2v-4h2v4z\"/>\n",
              "    </g>\n",
              "</svg>\n",
              "  </button>\n",
              "\n",
              "<style>\n",
              "  .colab-df-quickchart {\n",
              "      --bg-color: #E8F0FE;\n",
              "      --fill-color: #1967D2;\n",
              "      --hover-bg-color: #E2EBFA;\n",
              "      --hover-fill-color: #174EA6;\n",
              "      --disabled-fill-color: #AAA;\n",
              "      --disabled-bg-color: #DDD;\n",
              "  }\n",
              "\n",
              "  [theme=dark] .colab-df-quickchart {\n",
              "      --bg-color: #3B4455;\n",
              "      --fill-color: #D2E3FC;\n",
              "      --hover-bg-color: #434B5C;\n",
              "      --hover-fill-color: #FFFFFF;\n",
              "      --disabled-bg-color: #3B4455;\n",
              "      --disabled-fill-color: #666;\n",
              "  }\n",
              "\n",
              "  .colab-df-quickchart {\n",
              "    background-color: var(--bg-color);\n",
              "    border: none;\n",
              "    border-radius: 50%;\n",
              "    cursor: pointer;\n",
              "    display: none;\n",
              "    fill: var(--fill-color);\n",
              "    height: 32px;\n",
              "    padding: 0;\n",
              "    width: 32px;\n",
              "  }\n",
              "\n",
              "  .colab-df-quickchart:hover {\n",
              "    background-color: var(--hover-bg-color);\n",
              "    box-shadow: 0 1px 2px rgba(60, 64, 67, 0.3), 0 1px 3px 1px rgba(60, 64, 67, 0.15);\n",
              "    fill: var(--button-hover-fill-color);\n",
              "  }\n",
              "\n",
              "  .colab-df-quickchart-complete:disabled,\n",
              "  .colab-df-quickchart-complete:disabled:hover {\n",
              "    background-color: var(--disabled-bg-color);\n",
              "    fill: var(--disabled-fill-color);\n",
              "    box-shadow: none;\n",
              "  }\n",
              "\n",
              "  .colab-df-spinner {\n",
              "    border: 2px solid var(--fill-color);\n",
              "    border-color: transparent;\n",
              "    border-bottom-color: var(--fill-color);\n",
              "    animation:\n",
              "      spin 1s steps(1) infinite;\n",
              "  }\n",
              "\n",
              "  @keyframes spin {\n",
              "    0% {\n",
              "      border-color: transparent;\n",
              "      border-bottom-color: var(--fill-color);\n",
              "      border-left-color: var(--fill-color);\n",
              "    }\n",
              "    20% {\n",
              "      border-color: transparent;\n",
              "      border-left-color: var(--fill-color);\n",
              "      border-top-color: var(--fill-color);\n",
              "    }\n",
              "    30% {\n",
              "      border-color: transparent;\n",
              "      border-left-color: var(--fill-color);\n",
              "      border-top-color: var(--fill-color);\n",
              "      border-right-color: var(--fill-color);\n",
              "    }\n",
              "    40% {\n",
              "      border-color: transparent;\n",
              "      border-right-color: var(--fill-color);\n",
              "      border-top-color: var(--fill-color);\n",
              "    }\n",
              "    60% {\n",
              "      border-color: transparent;\n",
              "      border-right-color: var(--fill-color);\n",
              "    }\n",
              "    80% {\n",
              "      border-color: transparent;\n",
              "      border-right-color: var(--fill-color);\n",
              "      border-bottom-color: var(--fill-color);\n",
              "    }\n",
              "    90% {\n",
              "      border-color: transparent;\n",
              "      border-bottom-color: var(--fill-color);\n",
              "    }\n",
              "  }\n",
              "</style>\n",
              "\n",
              "  <script>\n",
              "    async function quickchart(key) {\n",
              "      const quickchartButtonEl =\n",
              "        document.querySelector('#' + key + ' button');\n",
              "      quickchartButtonEl.disabled = true;  // To prevent multiple clicks.\n",
              "      quickchartButtonEl.classList.add('colab-df-spinner');\n",
              "      try {\n",
              "        const charts = await google.colab.kernel.invokeFunction(\n",
              "            'suggestCharts', [key], {});\n",
              "      } catch (error) {\n",
              "        console.error('Error during call to suggestCharts:', error);\n",
              "      }\n",
              "      quickchartButtonEl.classList.remove('colab-df-spinner');\n",
              "      quickchartButtonEl.classList.add('colab-df-quickchart-complete');\n",
              "    }\n",
              "    (() => {\n",
              "      let quickchartButtonEl =\n",
              "        document.querySelector('#df-f76dcb8e-7c2f-4cd1-9137-4a5989d0fc9d button');\n",
              "      quickchartButtonEl.style.display =\n",
              "        google.colab.kernel.accessAllowed ? 'block' : 'none';\n",
              "    })();\n",
              "  </script>\n",
              "</div>\n",
              "\n",
              "    </div>\n",
              "  </div>\n"
            ],
            "text/plain": [
              "     pubmed_id      pubdate  \\\n",
              "0   PMC2718125  2001 Dec 31   \n",
              "1   PMC6308908  2018 Sep 19   \n",
              "2   PMC5850161  2018 Jan 12   \n",
              "3   PMC5985381  2018 May 18   \n",
              "4   PMC6214001  2018 Oct 19   \n",
              "5   PMC8668069   2021 Jul 4   \n",
              "6   PMC7026031  2020 Feb 17   \n",
              "7   PMC7187370  2020 Feb 17   \n",
              "8   PMC8165422  2021 May 21   \n",
              "9   PMC7643597  2020 Oct 21   \n",
              "10  PMC7730786  2020 Dec 10   \n",
              "11  PMC7400945  2020 Jul 17   \n",
              "12  PMC7049281  2020 Feb 25   \n",
              "\n",
              "                                                title  \\\n",
              "0   MR Imaging of Central Diabetes Insipidus: A Pi...   \n",
              "1   Compensatory mechanisms for methylglyoxal deto...   \n",
              "2   High‐Intensity Cigarette Smoking Is Associated...   \n",
              "3   The Distribution of Different Types of Diabete...   \n",
              "4   The Proposal of Molecular Mechanisms of Weak O...   \n",
              "5   Epidemiology, genetic landscape and classifica...   \n",
              "6   Incidence of diabetes mellitus in Spain as res...   \n",
              "7   Update of variants identified in the pancreati...   \n",
              "8   Meta-analysis of studies on depression prevale...   \n",
              "9               Update on Monogenic Diabetes in Korea   \n",
              "10  Different information needs in subgroups of pe...   \n",
              "11  The Effects of Legume Consumption on Markers o...   \n",
              "12  Prevalence of Diabetes Mellitus and Associated...   \n",
              "\n",
              "                                      fulljournalname  \\\n",
              "0                         Korean Journal of Radiology   \n",
              "1                                Molecular Metabolism   \n",
              "2   Journal of the American Heart Association: Car...   \n",
              "3   Journal of Clinical Research in Pediatric Endo...   \n",
              "4         International Journal of Molecular Sciences   \n",
              "5                   Journal of Diabetes Investigation   \n",
              "6                                  Scientific Reports   \n",
              "7                                      Human Mutation   \n",
              "8                                             Heliyon   \n",
              "9                       Diabetes & Metabolism Journal   \n",
              "10                                  BMC Public Health   \n",
              "11                                          Nutrients   \n",
              "12  Diabetes, Metabolic Syndrome and Obesity: Targ...   \n",
              "\n",
              "                                        source  \n",
              "0                                          NaN  \n",
              "1   diabetes_txt_files/PMC6308908_abstract.txt  \n",
              "2   diabetes_txt_files/PMC5850161_abstract.txt  \n",
              "3                                          NaN  \n",
              "4   diabetes_txt_files/PMC6214001_abstract.txt  \n",
              "5                                          NaN  \n",
              "6   diabetes_txt_files/PMC7026031_abstract.txt  \n",
              "7   diabetes_txt_files/PMC7187370_abstract.txt  \n",
              "8   diabetes_txt_files/PMC8165422_abstract.txt  \n",
              "9   diabetes_txt_files/PMC7643597_abstract.txt  \n",
              "10  diabetes_txt_files/PMC7730786_abstract.txt  \n",
              "11  diabetes_txt_files/PMC7400945_abstract.txt  \n",
              "12  diabetes_txt_files/PMC7049281_abstract.txt  "
            ]
          },
          "execution_count": 29,
          "metadata": {},
          "output_type": "execute_result"
        }
      ],
      "source": [
        "results = ensemble_retriever.get_relevant_documents(\"causes of diabetes\")\n",
        "pd.DataFrame([doc.metadata for doc in results])"
      ]
    },
    {
      "cell_type": "markdown",
      "metadata": {
        "application/vnd.databricks.v1+cell": {
          "cellMetadata": {},
          "inputWidgets": {},
          "nuid": "ada964e5-4eca-42d8-9598-b2441fa978da",
          "showTitle": false,
          "title": ""
        },
        "id": "TjK9qOJZalaK"
      },
      "source": [
        "### Speed comparison with HuggingFace"
      ]
    },
    {
      "cell_type": "code",
      "execution_count": null,
      "metadata": {
        "application/vnd.databricks.v1+cell": {
          "cellMetadata": {
            "byteLimit": 2048000,
            "rowLimit": 10000
          },
          "inputWidgets": {},
          "nuid": "78290d14-1303-46f2-83d1-6bd3f6698d20",
          "showTitle": false,
          "title": ""
        },
        "colab": {
          "base_uri": "https://localhost:8080/"
        },
        "id": "xJMHnrBZZG1x",
        "outputId": "f8a5dac9-7a0d-46a8-8eee-b7edaf3f4d35"
      },
      "outputs": [
        {
          "name": "stdout",
          "output_type": "stream",
          "text": [
            "\u001b[33mWARNING: Running pip as the 'root' user can result in broken permissions and conflicting behaviour with the system package manager. It is recommended to use a virtual environment instead: https://pip.pypa.io/warnings/venv\u001b[0m\u001b[33m\n",
            "\u001b[0m\u001b[33mWARNING: Running pip as the 'root' user can result in broken permissions and conflicting behaviour with the system package manager. It is recommended to use a virtual environment instead: https://pip.pypa.io/warnings/venv\u001b[0m\u001b[33m\n",
            "\u001b[0m"
          ]
        }
      ],
      "source": [
        "!pip install -q InstructorEmbedding\n",
        "!pip install -q sentence_transformers"
      ]
    },
    {
      "cell_type": "markdown",
      "metadata": {
        "application/vnd.databricks.v1+cell": {
          "cellMetadata": {},
          "inputWidgets": {},
          "nuid": "b41a75be-8579-4cf3-b4c5-773129e881d6",
          "showTitle": false,
          "title": ""
        },
        "id": "5JYZUoalauee"
      },
      "source": [
        "#### with CPU"
      ]
    },
    {
      "cell_type": "code",
      "execution_count": null,
      "metadata": {
        "application/vnd.databricks.v1+cell": {
          "cellMetadata": {
            "byteLimit": 2048000,
            "rowLimit": 10000
          },
          "inputWidgets": {},
          "nuid": "ddf6d7e8-24e9-4d6f-a3fc-42368ae17dca",
          "showTitle": false,
          "title": ""
        },
        "colab": {
          "base_uri": "https://localhost:8080/"
        },
        "id": "cCrN0XTCYeeT",
        "outputId": "8ce7b380-e2d8-4842-c606-a61bcd4c7aea"
      },
      "outputs": [
        {
          "name": "stdout",
          "output_type": "stream",
          "text": [
            "load INSTRUCTOR_Transformer\n",
            "max_seq_length  512\n"
          ]
        }
      ],
      "source": [
        "from langchain.embeddings import HuggingFaceInstructEmbeddings\n",
        "\n",
        "hf_embeddings = HuggingFaceInstructEmbeddings(\n",
        "    model_name = \"hkunlp/instructor-base\",\n",
        "    model_kwargs = {'device': 'cpu'}\n",
        ")"
      ]
    },
    {
      "cell_type": "code",
      "execution_count": null,
      "metadata": {
        "application/vnd.databricks.v1+cell": {
          "cellMetadata": {
            "byteLimit": 2048000,
            "rowLimit": 10000
          },
          "inputWidgets": {},
          "nuid": "77e86a3d-aa92-424d-8127-ecdcfa05ad69",
          "showTitle": false,
          "title": ""
        },
        "colab": {
          "base_uri": "https://localhost:8080/"
        },
        "id": "1HXd1IWqZvD5",
        "outputId": "48f4aef4-d5d3-4ae7-a716-71e466fef67c"
      },
      "outputs": [
        {
          "name": "stdout",
          "output_type": "stream",
          "text": [
            "CPU times: user 29min 12s, sys: 1min 38s, total: 30min 50s\n",
            "Wall time: 31min\n"
          ]
        }
      ],
      "source": [
        "%%time\n",
        "\n",
        "hf_db = FAISS.from_documents(texts, hf_embeddings)\n",
        "hf_retriever = hf_db.as_retriever()"
      ]
    },
    {
      "cell_type": "markdown",
      "metadata": {
        "application/vnd.databricks.v1+cell": {
          "cellMetadata": {},
          "inputWidgets": {},
          "nuid": "7802bbd1-8e62-4201-a797-5bba56a0b5f8",
          "showTitle": false,
          "title": ""
        },
        "id": "Saq9k56LiLfT"
      },
      "source": [
        "## OpenAI"
      ]
    },
    {
      "cell_type": "code",
      "execution_count": null,
      "metadata": {
        "application/vnd.databricks.v1+cell": {
          "cellMetadata": {
            "byteLimit": 2048000,
            "rowLimit": 10000
          },
          "inputWidgets": {},
          "nuid": "2a61bb15-f8fa-4c48-9a71-4821a7714566",
          "showTitle": false,
          "title": ""
        },
        "colab": {
          "base_uri": "https://localhost:8080/"
        },
        "id": "fcMr0bhvrh6_",
        "outputId": "f40f5c98-9022-46cf-d00a-45eab21ffbe9"
      },
      "outputs": [
        {
          "name": "stdout",
          "output_type": "stream",
          "text": [
            "Please enter your open_api_key:··········\n"
          ]
        }
      ],
      "source": [
        "\n",
        "from getpass import getpass\n",
        "OPENAI_API_KEY = getpass('Please enter your open_api_key:')\n"
      ]
    },
    {
      "cell_type": "code",
      "execution_count": null,
      "metadata": {
        "application/vnd.databricks.v1+cell": {
          "cellMetadata": {
            "byteLimit": 2048000,
            "rowLimit": 10000
          },
          "inputWidgets": {},
          "nuid": "2e76d286-2a28-4505-a4c4-5b2e212f5926",
          "showTitle": false,
          "title": ""
        },
        "id": "D925E-F8iN3p"
      },
      "outputs": [],
      "source": [
        "from langchain.chat_models import ChatOpenAI\n",
        "from langchain.chains import RetrievalQA\n",
        "\n",
        "# completion llm\n",
        "llm = ChatOpenAI(\n",
        "    openai_api_key=OPENAI_API_KEY,\n",
        "    model_name='gpt-3.5-turbo-16k',\n",
        "    temperature=0.0\n",
        ")\n"
      ]
    },
    {
      "cell_type": "code",
      "execution_count": null,
      "metadata": {
        "application/vnd.databricks.v1+cell": {
          "cellMetadata": {
            "byteLimit": 2048000,
            "rowLimit": 10000
          },
          "inputWidgets": {},
          "nuid": "c789c17b-daa4-4a04-a9fc-e7c73f09d116",
          "showTitle": false,
          "title": ""
        },
        "colab": {
          "base_uri": "https://localhost:8080/"
        },
        "id": "NKYuq8KTbg-m",
        "outputId": "7fed4191-1cbf-4aab-8c9b-1a2d6cb37d9a"
      },
      "outputs": [
        {
          "name": "stdout",
          "output_type": "stream",
          "text": [
            "The causes of diabetes can vary depending on the type of diabetes. \n",
            "\n",
            "For type 1 diabetes, it is believed to be an autoimmune disease where the body's immune system mistakenly attacks and destroys the insulin-producing cells in the pancreas. The exact cause of this autoimmune response is not known, but it is thought to involve a combination of genetic and environmental factors.\n",
            "\n",
            "Type 2 diabetes is primarily caused by a combination of genetic factors and lifestyle factors such as obesity, physical inactivity, and unhealthy eating habits. In this type of diabetes, the body becomes resistant to the effects of insulin or doesn't produce enough insulin to maintain normal blood sugar levels.\n",
            "\n",
            "Other less common types of diabetes, such as gestational diabetes (which occurs during pregnancy) and monogenic diabetes (caused by specific gene mutations), have their own distinct causes.\n",
            "\n",
            "It's important to note that while certain factors can increase the risk of developing diabetes, such as family history, age, and ethnicity, the exact cause of diabetes can vary from person to person.\n"
          ]
        }
      ],
      "source": [
        "qa_chain = RetrievalQA.from_chain_type(\n",
        "    llm,\n",
        "    retriever=faiss_retriever,\n",
        "    return_source_documents=True\n",
        "    )\n",
        "\n",
        "question = \"The causes for diabetes?\"\n",
        "result = qa_chain({\"query\": question})\n",
        "\n",
        "print (result['result'])"
      ]
    },
    {
      "cell_type": "code",
      "execution_count": null,
      "metadata": {
        "application/vnd.databricks.v1+cell": {
          "cellMetadata": {
            "byteLimit": 2048000,
            "rowLimit": 10000
          },
          "inputWidgets": {},
          "nuid": "f7042c40-5986-4128-8b6a-dd4183c9bbab",
          "showTitle": false,
          "title": ""
        },
        "colab": {
          "base_uri": "https://localhost:8080/",
          "height": 70
        },
        "id": "PgMFZ-92gqgy",
        "outputId": "8f93183c-e8e7-4ff1-e149-5b50dab595e9"
      },
      "outputs": [
        {
          "data": {
            "application/vnd.google.colaboratory.intrinsic+json": {
              "type": "string"
            },
            "text/plain": [
              "\"Use the following pieces of context to answer the user's question. \\nIf you don't know the answer, just say that you don't know, don't try to make up an answer.\\n----------------\\n{context}\""
            ]
          },
          "execution_count": 37,
          "metadata": {},
          "output_type": "execute_result"
        }
      ],
      "source": [
        "qa_chain.combine_documents_chain.llm_chain.prompt.messages[0].prompt.template\n"
      ]
    },
    {
      "cell_type": "markdown",
      "metadata": {
        "application/vnd.databricks.v1+cell": {
          "cellMetadata": {},
          "inputWidgets": {},
          "nuid": "ecfe7a57-552e-4c9e-bb50-470dbc50797c",
          "showTitle": false,
          "title": ""
        },
        "id": "nFEGg-Qmrh7A"
      },
      "source": [
        "### PromptTemplate"
      ]
    },
    {
      "cell_type": "code",
      "execution_count": null,
      "metadata": {
        "application/vnd.databricks.v1+cell": {
          "cellMetadata": {
            "byteLimit": 2048000,
            "rowLimit": 10000
          },
          "inputWidgets": {},
          "nuid": "f8443450-1be5-4b2c-887d-b93c108d9210",
          "showTitle": false,
          "title": ""
        },
        "id": "dPhHjR5BhSYx"
      },
      "outputs": [],
      "source": [
        "from langchain.prompts import PromptTemplate\n",
        "\n",
        "new_template = \"\"\"\n",
        "Use the following pieces of context to answer the user's question. If you return an answer, end with 'It's my pleasure'.\n",
        "If you don't know the answer, just say that you don't know, don't try to make up an answer .\n",
        "{context}\n",
        "Question: {question}\n",
        "Helpful Answer:\"\"\"\n",
        "\n",
        "QA_CHAIN_PROMPT = PromptTemplate.from_template(new_template)"
      ]
    },
    {
      "cell_type": "code",
      "execution_count": null,
      "metadata": {
        "application/vnd.databricks.v1+cell": {
          "cellMetadata": {
            "byteLimit": 2048000,
            "rowLimit": 10000
          },
          "inputWidgets": {},
          "nuid": "0b803f1b-2814-418f-91d5-f5a0d8d50790",
          "showTitle": false,
          "title": ""
        },
        "colab": {
          "base_uri": "https://localhost:8080/"
        },
        "id": "Ditu0Im1gXGH",
        "outputId": "f8967315-63d6-4105-f291-d99a01214ed9"
      },
      "outputs": [
        {
          "name": "stdout",
          "output_type": "stream",
          "text": [
            "The causes for diabetes can include insulin deficiency, genetic factors, lifestyle characteristics, consumption of carbohydrate meals, medication side effects, and other factors that are still being studied. It's my pleasure to help!\n"
          ]
        }
      ],
      "source": [
        "qa_chain = RetrievalQA.from_chain_type(\n",
        "    llm,\n",
        "    retriever=faiss_retriever,\n",
        "    return_source_documents=True,\n",
        "    chain_type_kwargs={\"prompt\": QA_CHAIN_PROMPT}\n",
        ")\n",
        "\n",
        "question = \"The causes for diabetes?\"\n",
        "result = qa_chain({\"query\": question})\n",
        "\n",
        "print(result['result'])"
      ]
    },
    {
      "cell_type": "code",
      "execution_count": null,
      "metadata": {
        "application/vnd.databricks.v1+cell": {
          "cellMetadata": {
            "byteLimit": 2048000,
            "rowLimit": 10000
          },
          "inputWidgets": {},
          "nuid": "cf72c679-5630-4407-a0a3-b5edbf86e096",
          "showTitle": false,
          "title": ""
        },
        "colab": {
          "base_uri": "https://localhost:8080/",
          "height": 973
        },
        "id": "ehUqOEZCjSiC",
        "outputId": "ade31f8f-d5a5-4d44-af93-35e5d0bf5d27"
      },
      "outputs": [
        {
          "data": {
            "text/html": [
              "\n",
              "  <div id=\"df-0bb5cddd-d92f-47b1-99e2-12b2413e35c9\" class=\"colab-df-container\">\n",
              "    <div>\n",
              "<style scoped>\n",
              "    .dataframe tbody tr th:only-of-type {\n",
              "        vertical-align: middle;\n",
              "    }\n",
              "\n",
              "    .dataframe tbody tr th {\n",
              "        vertical-align: top;\n",
              "    }\n",
              "\n",
              "    .dataframe thead th {\n",
              "        text-align: right;\n",
              "    }\n",
              "</style>\n",
              "<table border=\"1\" class=\"dataframe\">\n",
              "  <thead>\n",
              "    <tr style=\"text-align: right;\">\n",
              "      <th></th>\n",
              "      <th>source</th>\n",
              "      <th>pubmed_id</th>\n",
              "      <th>pubdate</th>\n",
              "      <th>title</th>\n",
              "      <th>fulljournalname</th>\n",
              "    </tr>\n",
              "  </thead>\n",
              "  <tbody>\n",
              "    <tr>\n",
              "      <th>0</th>\n",
              "      <td>diabetes_txt_files/PMC6308908_abstract.txt</td>\n",
              "      <td>PMC6308908</td>\n",
              "      <td>2018 Sep 19</td>\n",
              "      <td>Compensatory mechanisms for methylglyoxal deto...</td>\n",
              "      <td>Molecular Metabolism</td>\n",
              "    </tr>\n",
              "    <tr>\n",
              "      <th>1</th>\n",
              "      <td>diabetes_txt_files/PMC7403998_abstract.txt</td>\n",
              "      <td>PMC7403998</td>\n",
              "      <td>2020 Jul 12</td>\n",
              "      <td>The Impact of Diabetes Mellitus on Cardiovascu...</td>\n",
              "      <td>International Journal of Molecular Sciences</td>\n",
              "    </tr>\n",
              "    <tr>\n",
              "      <th>2</th>\n",
              "      <td>diabetes_txt_files/PMC3312259_abstract.txt</td>\n",
              "      <td>PMC3312259</td>\n",
              "      <td>2012 Mar 15</td>\n",
              "      <td>Membrane Protein Stability Analyses by Means o...</td>\n",
              "      <td>Computational and Mathematical Methods in Medi...</td>\n",
              "    </tr>\n",
              "    <tr>\n",
              "      <th>3</th>\n",
              "      <td>diabetes_txt_files/PMC6214001_abstract.txt</td>\n",
              "      <td>PMC6214001</td>\n",
              "      <td>2018 Oct 19</td>\n",
              "      <td>The Proposal of Molecular Mechanisms of Weak O...</td>\n",
              "      <td>International Journal of Molecular Sciences</td>\n",
              "    </tr>\n",
              "    <tr>\n",
              "      <th>4</th>\n",
              "      <td>diabetes_txt_files/PMC7187370_abstract.txt</td>\n",
              "      <td>PMC7187370</td>\n",
              "      <td>2020 Feb 17</td>\n",
              "      <td>Update of variants identified in the pancreati...</td>\n",
              "      <td>Human Mutation</td>\n",
              "    </tr>\n",
              "    <tr>\n",
              "      <th>5</th>\n",
              "      <td>diabetes_txt_files/PMC6590966_abstract.txt</td>\n",
              "      <td>PMC6590966</td>\n",
              "      <td>2019 Jun 21</td>\n",
              "      <td>Perceived diabetes risk and related determinan...</td>\n",
              "      <td>BMJ Open Diabetes Research &amp; Care</td>\n",
              "    </tr>\n",
              "    <tr>\n",
              "      <th>6</th>\n",
              "      <td>diabetes_txt_files/PMC8491600_abstract.txt</td>\n",
              "      <td>PMC8491600</td>\n",
              "      <td>2021 Oct 5</td>\n",
              "      <td>Diabetes: discovery of insulin, genetic, epige...</td>\n",
              "      <td>The Nucleus</td>\n",
              "    </tr>\n",
              "    <tr>\n",
              "      <th>7</th>\n",
              "      <td>diabetes_txt_files/PMC7049281_abstract.txt</td>\n",
              "      <td>PMC7049281</td>\n",
              "      <td>2020 Feb 25</td>\n",
              "      <td>Prevalence of Diabetes Mellitus and Associated...</td>\n",
              "      <td>Diabetes, Metabolic Syndrome and Obesity: Targ...</td>\n",
              "    </tr>\n",
              "    <tr>\n",
              "      <th>8</th>\n",
              "      <td>diabetes_txt_files/PMC6794810_abstract.txt</td>\n",
              "      <td>PMC6794810</td>\n",
              "      <td>2019 Oct 15</td>\n",
              "      <td>Association of genetic and behavioral characte...</td>\n",
              "      <td>BMC Public Health</td>\n",
              "    </tr>\n",
              "    <tr>\n",
              "      <th>9</th>\n",
              "      <td>diabetes_txt_files/PMC8165422_abstract.txt</td>\n",
              "      <td>PMC8165422</td>\n",
              "      <td>2021 May 21</td>\n",
              "      <td>Meta-analysis of studies on depression prevale...</td>\n",
              "      <td>Heliyon</td>\n",
              "    </tr>\n",
              "  </tbody>\n",
              "</table>\n",
              "</div>\n",
              "    <div class=\"colab-df-buttons\">\n",
              "\n",
              "  <div class=\"colab-df-container\">\n",
              "    <button class=\"colab-df-convert\" onclick=\"convertToInteractive('df-0bb5cddd-d92f-47b1-99e2-12b2413e35c9')\"\n",
              "            title=\"Convert this dataframe to an interactive table.\"\n",
              "            style=\"display:none;\">\n",
              "\n",
              "  <svg xmlns=\"http://www.w3.org/2000/svg\" height=\"24px\" viewBox=\"0 -960 960 960\">\n",
              "    <path d=\"M120-120v-720h720v720H120Zm60-500h600v-160H180v160Zm220 220h160v-160H400v160Zm0 220h160v-160H400v160ZM180-400h160v-160H180v160Zm440 0h160v-160H620v160ZM180-180h160v-160H180v160Zm440 0h160v-160H620v160Z\"/>\n",
              "  </svg>\n",
              "    </button>\n",
              "\n",
              "  <style>\n",
              "    .colab-df-container {\n",
              "      display:flex;\n",
              "      gap: 12px;\n",
              "    }\n",
              "\n",
              "    .colab-df-convert {\n",
              "      background-color: #E8F0FE;\n",
              "      border: none;\n",
              "      border-radius: 50%;\n",
              "      cursor: pointer;\n",
              "      display: none;\n",
              "      fill: #1967D2;\n",
              "      height: 32px;\n",
              "      padding: 0 0 0 0;\n",
              "      width: 32px;\n",
              "    }\n",
              "\n",
              "    .colab-df-convert:hover {\n",
              "      background-color: #E2EBFA;\n",
              "      box-shadow: 0px 1px 2px rgba(60, 64, 67, 0.3), 0px 1px 3px 1px rgba(60, 64, 67, 0.15);\n",
              "      fill: #174EA6;\n",
              "    }\n",
              "\n",
              "    .colab-df-buttons div {\n",
              "      margin-bottom: 4px;\n",
              "    }\n",
              "\n",
              "    [theme=dark] .colab-df-convert {\n",
              "      background-color: #3B4455;\n",
              "      fill: #D2E3FC;\n",
              "    }\n",
              "\n",
              "    [theme=dark] .colab-df-convert:hover {\n",
              "      background-color: #434B5C;\n",
              "      box-shadow: 0px 1px 3px 1px rgba(0, 0, 0, 0.15);\n",
              "      filter: drop-shadow(0px 1px 2px rgba(0, 0, 0, 0.3));\n",
              "      fill: #FFFFFF;\n",
              "    }\n",
              "  </style>\n",
              "\n",
              "    <script>\n",
              "      const buttonEl =\n",
              "        document.querySelector('#df-0bb5cddd-d92f-47b1-99e2-12b2413e35c9 button.colab-df-convert');\n",
              "      buttonEl.style.display =\n",
              "        google.colab.kernel.accessAllowed ? 'block' : 'none';\n",
              "\n",
              "      async function convertToInteractive(key) {\n",
              "        const element = document.querySelector('#df-0bb5cddd-d92f-47b1-99e2-12b2413e35c9');\n",
              "        const dataTable =\n",
              "          await google.colab.kernel.invokeFunction('convertToInteractive',\n",
              "                                                    [key], {});\n",
              "        if (!dataTable) return;\n",
              "\n",
              "        const docLinkHtml = 'Like what you see? Visit the ' +\n",
              "          '<a target=\"_blank\" href=https://colab.research.google.com/notebooks/data_table.ipynb>data table notebook</a>'\n",
              "          + ' to learn more about interactive tables.';\n",
              "        element.innerHTML = '';\n",
              "        dataTable['output_type'] = 'display_data';\n",
              "        await google.colab.output.renderOutput(dataTable, element);\n",
              "        const docLink = document.createElement('div');\n",
              "        docLink.innerHTML = docLinkHtml;\n",
              "        element.appendChild(docLink);\n",
              "      }\n",
              "    </script>\n",
              "  </div>\n",
              "\n",
              "\n",
              "<div id=\"df-9ac84cfd-ee53-4a29-834c-3f3773e18e16\">\n",
              "  <button class=\"colab-df-quickchart\" onclick=\"quickchart('df-9ac84cfd-ee53-4a29-834c-3f3773e18e16')\"\n",
              "            title=\"Suggest charts\"\n",
              "            style=\"display:none;\">\n",
              "\n",
              "<svg xmlns=\"http://www.w3.org/2000/svg\" height=\"24px\"viewBox=\"0 0 24 24\"\n",
              "     width=\"24px\">\n",
              "    <g>\n",
              "        <path d=\"M19 3H5c-1.1 0-2 .9-2 2v14c0 1.1.9 2 2 2h14c1.1 0 2-.9 2-2V5c0-1.1-.9-2-2-2zM9 17H7v-7h2v7zm4 0h-2V7h2v10zm4 0h-2v-4h2v4z\"/>\n",
              "    </g>\n",
              "</svg>\n",
              "  </button>\n",
              "\n",
              "<style>\n",
              "  .colab-df-quickchart {\n",
              "      --bg-color: #E8F0FE;\n",
              "      --fill-color: #1967D2;\n",
              "      --hover-bg-color: #E2EBFA;\n",
              "      --hover-fill-color: #174EA6;\n",
              "      --disabled-fill-color: #AAA;\n",
              "      --disabled-bg-color: #DDD;\n",
              "  }\n",
              "\n",
              "  [theme=dark] .colab-df-quickchart {\n",
              "      --bg-color: #3B4455;\n",
              "      --fill-color: #D2E3FC;\n",
              "      --hover-bg-color: #434B5C;\n",
              "      --hover-fill-color: #FFFFFF;\n",
              "      --disabled-bg-color: #3B4455;\n",
              "      --disabled-fill-color: #666;\n",
              "  }\n",
              "\n",
              "  .colab-df-quickchart {\n",
              "    background-color: var(--bg-color);\n",
              "    border: none;\n",
              "    border-radius: 50%;\n",
              "    cursor: pointer;\n",
              "    display: none;\n",
              "    fill: var(--fill-color);\n",
              "    height: 32px;\n",
              "    padding: 0;\n",
              "    width: 32px;\n",
              "  }\n",
              "\n",
              "  .colab-df-quickchart:hover {\n",
              "    background-color: var(--hover-bg-color);\n",
              "    box-shadow: 0 1px 2px rgba(60, 64, 67, 0.3), 0 1px 3px 1px rgba(60, 64, 67, 0.15);\n",
              "    fill: var(--button-hover-fill-color);\n",
              "  }\n",
              "\n",
              "  .colab-df-quickchart-complete:disabled,\n",
              "  .colab-df-quickchart-complete:disabled:hover {\n",
              "    background-color: var(--disabled-bg-color);\n",
              "    fill: var(--disabled-fill-color);\n",
              "    box-shadow: none;\n",
              "  }\n",
              "\n",
              "  .colab-df-spinner {\n",
              "    border: 2px solid var(--fill-color);\n",
              "    border-color: transparent;\n",
              "    border-bottom-color: var(--fill-color);\n",
              "    animation:\n",
              "      spin 1s steps(1) infinite;\n",
              "  }\n",
              "\n",
              "  @keyframes spin {\n",
              "    0% {\n",
              "      border-color: transparent;\n",
              "      border-bottom-color: var(--fill-color);\n",
              "      border-left-color: var(--fill-color);\n",
              "    }\n",
              "    20% {\n",
              "      border-color: transparent;\n",
              "      border-left-color: var(--fill-color);\n",
              "      border-top-color: var(--fill-color);\n",
              "    }\n",
              "    30% {\n",
              "      border-color: transparent;\n",
              "      border-left-color: var(--fill-color);\n",
              "      border-top-color: var(--fill-color);\n",
              "      border-right-color: var(--fill-color);\n",
              "    }\n",
              "    40% {\n",
              "      border-color: transparent;\n",
              "      border-right-color: var(--fill-color);\n",
              "      border-top-color: var(--fill-color);\n",
              "    }\n",
              "    60% {\n",
              "      border-color: transparent;\n",
              "      border-right-color: var(--fill-color);\n",
              "    }\n",
              "    80% {\n",
              "      border-color: transparent;\n",
              "      border-right-color: var(--fill-color);\n",
              "      border-bottom-color: var(--fill-color);\n",
              "    }\n",
              "    90% {\n",
              "      border-color: transparent;\n",
              "      border-bottom-color: var(--fill-color);\n",
              "    }\n",
              "  }\n",
              "</style>\n",
              "\n",
              "  <script>\n",
              "    async function quickchart(key) {\n",
              "      const quickchartButtonEl =\n",
              "        document.querySelector('#' + key + ' button');\n",
              "      quickchartButtonEl.disabled = true;  // To prevent multiple clicks.\n",
              "      quickchartButtonEl.classList.add('colab-df-spinner');\n",
              "      try {\n",
              "        const charts = await google.colab.kernel.invokeFunction(\n",
              "            'suggestCharts', [key], {});\n",
              "      } catch (error) {\n",
              "        console.error('Error during call to suggestCharts:', error);\n",
              "      }\n",
              "      quickchartButtonEl.classList.remove('colab-df-spinner');\n",
              "      quickchartButtonEl.classList.add('colab-df-quickchart-complete');\n",
              "    }\n",
              "    (() => {\n",
              "      let quickchartButtonEl =\n",
              "        document.querySelector('#df-9ac84cfd-ee53-4a29-834c-3f3773e18e16 button');\n",
              "      quickchartButtonEl.style.display =\n",
              "        google.colab.kernel.accessAllowed ? 'block' : 'none';\n",
              "    })();\n",
              "  </script>\n",
              "</div>\n",
              "\n",
              "    </div>\n",
              "  </div>\n"
            ],
            "text/plain": [
              "                                       source   pubmed_id      pubdate  \\\n",
              "0  diabetes_txt_files/PMC6308908_abstract.txt  PMC6308908  2018 Sep 19   \n",
              "1  diabetes_txt_files/PMC7403998_abstract.txt  PMC7403998  2020 Jul 12   \n",
              "2  diabetes_txt_files/PMC3312259_abstract.txt  PMC3312259  2012 Mar 15   \n",
              "3  diabetes_txt_files/PMC6214001_abstract.txt  PMC6214001  2018 Oct 19   \n",
              "4  diabetes_txt_files/PMC7187370_abstract.txt  PMC7187370  2020 Feb 17   \n",
              "5  diabetes_txt_files/PMC6590966_abstract.txt  PMC6590966  2019 Jun 21   \n",
              "6  diabetes_txt_files/PMC8491600_abstract.txt  PMC8491600   2021 Oct 5   \n",
              "7  diabetes_txt_files/PMC7049281_abstract.txt  PMC7049281  2020 Feb 25   \n",
              "8  diabetes_txt_files/PMC6794810_abstract.txt  PMC6794810  2019 Oct 15   \n",
              "9  diabetes_txt_files/PMC8165422_abstract.txt  PMC8165422  2021 May 21   \n",
              "\n",
              "                                               title  \\\n",
              "0  Compensatory mechanisms for methylglyoxal deto...   \n",
              "1  The Impact of Diabetes Mellitus on Cardiovascu...   \n",
              "2  Membrane Protein Stability Analyses by Means o...   \n",
              "3  The Proposal of Molecular Mechanisms of Weak O...   \n",
              "4  Update of variants identified in the pancreati...   \n",
              "5  Perceived diabetes risk and related determinan...   \n",
              "6  Diabetes: discovery of insulin, genetic, epige...   \n",
              "7  Prevalence of Diabetes Mellitus and Associated...   \n",
              "8  Association of genetic and behavioral characte...   \n",
              "9  Meta-analysis of studies on depression prevale...   \n",
              "\n",
              "                                     fulljournalname  \n",
              "0                               Molecular Metabolism  \n",
              "1        International Journal of Molecular Sciences  \n",
              "2  Computational and Mathematical Methods in Medi...  \n",
              "3        International Journal of Molecular Sciences  \n",
              "4                                     Human Mutation  \n",
              "5                  BMJ Open Diabetes Research & Care  \n",
              "6                                        The Nucleus  \n",
              "7  Diabetes, Metabolic Syndrome and Obesity: Targ...  \n",
              "8                                  BMC Public Health  \n",
              "9                                            Heliyon  "
            ]
          },
          "execution_count": 40,
          "metadata": {},
          "output_type": "execute_result"
        }
      ],
      "source": [
        "pd.DataFrame([doc.metadata for doc in result['source_documents']])"
      ]
    },
    {
      "cell_type": "code",
      "execution_count": null,
      "metadata": {
        "application/vnd.databricks.v1+cell": {
          "cellMetadata": {
            "byteLimit": 2048000,
            "rowLimit": 10000
          },
          "inputWidgets": {},
          "nuid": "996e1bf1-567c-40e8-ab75-7acbc40b3c1e",
          "showTitle": false,
          "title": ""
        },
        "colab": {
          "base_uri": "https://localhost:8080/",
          "height": 122
        },
        "id": "-c22K1RQmFEU",
        "outputId": "b82bd898-5732-4d19-c40d-5956a2e65ce0"
      },
      "outputs": [
        {
          "data": {
            "application/vnd.google.colaboratory.intrinsic+json": {
              "type": "string"
            },
            "text/plain": [
              "'The causes for diabetes mentioned in the text extracts include high-intensity cigarette smoking, smoking pack-years, prediabetes, age, male sex, obesity, central obesity, increase in weight, family history of diabetes, consumption of carbohydrate meals, medication side effects, depression as a comorbid condition, alcohol drinking, HDL, triglycerides, vagarious physical activity, and high salt intake.'"
            ]
          },
          "execution_count": 41,
          "metadata": {},
          "output_type": "execute_result"
        }
      ],
      "source": [
        "from langchain.chains import LLMChain, StuffDocumentsChain\n",
        "\n",
        "# We prepare and run a custom Stuff chain with reordered docs as context.\n",
        "\n",
        "# Override prompts\n",
        "document_prompt = PromptTemplate(\n",
        "    input_variables=[\"page_content\"], template=\"{page_content}\"\n",
        ")\n",
        "document_variable_name = \"context\"\n",
        "\n",
        "stuff_prompt_override = \"\"\"Given this text extracts:\n",
        "-----\n",
        "{context}\n",
        "-----\n",
        "Please answer the following question:\n",
        "{query}\"\"\"\n",
        "prompt = PromptTemplate(\n",
        "    template=stuff_prompt_override, input_variables=[\"context\", \"query\"]\n",
        ")\n",
        "\n",
        "# Instantiate the chain\n",
        "llm_chain = LLMChain(llm=llm, prompt=prompt)\n",
        "chain = StuffDocumentsChain(\n",
        "    llm_chain=llm_chain,\n",
        "    document_prompt=document_prompt,\n",
        "    document_variable_name=document_variable_name,\n",
        ")\n",
        "chain.run(input_documents=reordered_results, query=question)"
      ]
    },
    {
      "cell_type": "code",
      "execution_count": null,
      "metadata": {
        "application/vnd.databricks.v1+cell": {
          "cellMetadata": {
            "byteLimit": 2048000,
            "rowLimit": 10000
          },
          "inputWidgets": {},
          "nuid": "8195c700-d941-4599-a559-d19ca35c219b",
          "showTitle": false,
          "title": ""
        },
        "id": "PdHoVXVri5Ta"
      },
      "outputs": [],
      "source": [
        "question = \"The causes for diabetes?\"\n",
        "result = qa_chain({\"query\": question})"
      ]
    },
    {
      "cell_type": "code",
      "execution_count": null,
      "metadata": {
        "application/vnd.databricks.v1+cell": {
          "cellMetadata": {
            "byteLimit": 2048000,
            "rowLimit": 10000
          },
          "inputWidgets": {},
          "nuid": "6a0382a5-6dc8-4f4f-9bab-4545295e9d28",
          "showTitle": false,
          "title": ""
        },
        "colab": {
          "base_uri": "https://localhost:8080/",
          "height": 70
        },
        "id": "8THuVlKCbooI",
        "outputId": "e4951590-bb0f-4f52-a214-bf58030f2de1"
      },
      "outputs": [
        {
          "data": {
            "application/vnd.google.colaboratory.intrinsic+json": {
              "type": "string"
            },
            "text/plain": [
              "\"The causes for diabetes can include insulin deficiency, genetic factors, lifestyle characteristics, consumption of carbohydrate meals, medication side effects, and other factors that are still being studied. It's my pleasure to help!\""
            ]
          },
          "execution_count": 43,
          "metadata": {},
          "output_type": "execute_result"
        }
      ],
      "source": [
        "# Check the result of the query\n",
        "result[\"result\"]"
      ]
    },
    {
      "cell_type": "code",
      "execution_count": null,
      "metadata": {
        "application/vnd.databricks.v1+cell": {
          "cellMetadata": {
            "byteLimit": 2048000,
            "rowLimit": 10000
          },
          "inputWidgets": {},
          "nuid": "578052af-35e5-4c8e-a06a-8bc0534266b9",
          "showTitle": false,
          "title": ""
        },
        "colab": {
          "base_uri": "https://localhost:8080/",
          "height": 122
        },
        "id": "wEMnWrPxbrZB",
        "outputId": "7cd999a2-b59b-4b53-d033-4e22f45404a3"
      },
      "outputs": [
        {
          "data": {
            "application/vnd.google.colaboratory.intrinsic+json": {
              "type": "string"
            },
            "text/plain": [
              "\"The causes of diabetes can be classified as traumatic, inflammatory, or neoplastic. Traumatic causes include postoperative sella or transection of the pituitary stalk, while infectious or inflammatory causes include meningitis, lymphocytic hypophysitis, and granulomatous inflammations such as sarcoidosis and Wegener's granulomatosis. Various neoplastic conditions can also contribute to diabetes. It's my pleasure to help!\""
            ]
          },
          "execution_count": 45,
          "metadata": {},
          "output_type": "execute_result"
        }
      ],
      "source": [
        "qa_chain_bm25 = RetrievalQA.from_chain_type(\n",
        "    llm,\n",
        "    retriever=bm25_retriever,\n",
        "    return_source_documents=True,\n",
        "    chain_type_kwargs={\"prompt\": QA_CHAIN_PROMPT}\n",
        ")\n",
        "\n",
        "qa_chain_bm25({\"query\": question})['result']"
      ]
    },
    {
      "cell_type": "code",
      "execution_count": null,
      "metadata": {
        "application/vnd.databricks.v1+cell": {
          "cellMetadata": {
            "byteLimit": 2048000,
            "rowLimit": 10000
          },
          "inputWidgets": {},
          "nuid": "4cb85f87-d682-4bc3-bcbc-4b765cd6665a",
          "showTitle": false,
          "title": ""
        },
        "colab": {
          "base_uri": "https://localhost:8080/",
          "height": 70
        },
        "id": "7AGBMG0-dJLp",
        "outputId": "ac7a026b-48d3-4f24-e619-1bf8b712a3cd"
      },
      "outputs": [
        {
          "data": {
            "application/vnd.google.colaboratory.intrinsic+json": {
              "type": "string"
            },
            "text/plain": [
              "\"The causes for diabetes can include insulin deficiency, genetic factors, lifestyle characteristics, consumption of carbohydrate meals, medication side effects, and other factors that are still being studied. It's my pleasure to help!\""
            ]
          },
          "execution_count": 46,
          "metadata": {},
          "output_type": "execute_result"
        }
      ],
      "source": [
        "qa_chain_faiss = RetrievalQA.from_chain_type(\n",
        "    llm,\n",
        "    retriever=faiss_retriever,\n",
        "    return_source_documents=True,\n",
        "    chain_type_kwargs={\"prompt\": QA_CHAIN_PROMPT}\n",
        ")\n",
        "\n",
        "qa_chain_faiss({\"query\": question})['result']"
      ]
    },
    {
      "cell_type": "code",
      "execution_count": null,
      "metadata": {
        "application/vnd.databricks.v1+cell": {
          "cellMetadata": {
            "byteLimit": 2048000,
            "rowLimit": 10000
          },
          "inputWidgets": {},
          "nuid": "c8a968c3-0fcf-45fe-8169-f615f41f5ecb",
          "showTitle": false,
          "title": ""
        },
        "colab": {
          "base_uri": "https://localhost:8080/"
        },
        "id": "2Ea5GYI5jhir",
        "outputId": "2af1b93f-36f8-4c2d-f9f5-7009b58784d4"
      },
      "outputs": [
        {
          "data": {
            "text/plain": [
              "Document(page_content='relevant pathway in human patients suffering from diabetes.', metadata={'source': 'diabetes_txt_files/PMC6308908_abstract.txt', 'pubmed_id': 'PMC6308908', 'pubdate': '2018 Sep 19', 'title': 'Compensatory mechanisms for methylglyoxal detoxification in experimental & clinical diabetes', 'fulljournalname': 'Molecular Metabolism'})"
            ]
          },
          "execution_count": 47,
          "metadata": {},
          "output_type": "execute_result"
        }
      ],
      "source": [
        "# Check the source document from where we\n",
        "result[\"source_documents\"][0]"
      ]
    },
    {
      "cell_type": "code",
      "execution_count": null,
      "metadata": {
        "application/vnd.databricks.v1+cell": {
          "cellMetadata": {
            "byteLimit": 2048000,
            "rowLimit": 10000
          },
          "inputWidgets": {},
          "nuid": "7179cb3b-62e5-4c78-8782-d7c0fc04741e",
          "showTitle": false,
          "title": ""
        },
        "colab": {
          "base_uri": "https://localhost:8080/"
        },
        "id": "oUO3TbCUfELi",
        "outputId": "1e64a65e-52fd-4c3d-f134-b2f195a965b3"
      },
      "outputs": [
        {
          "data": {
            "text/plain": [
              "[Document(page_content='relevant pathway in human patients suffering from diabetes.', metadata={'source': 'diabetes_txt_files/PMC6308908_abstract.txt', 'pubmed_id': 'PMC6308908', 'pubdate': '2018 Sep 19', 'title': 'Compensatory mechanisms for methylglyoxal detoxification in experimental & clinical diabetes', 'fulljournalname': 'Molecular Metabolism'}),\n",
              " Document(page_content='High‐intensity cigarette smoking and smoking pack‐years are associated with an increased risk of developing diabetes mellitus in blacks.', metadata={'source': 'diabetes_txt_files/PMC5850161_abstract.txt', 'pubmed_id': 'PMC5850161', 'pubdate': '2018 Jan 12', 'title': 'High‐Intensity Cigarette Smoking Is Associated With Incident Diabetes Mellitus In Black Adults: The Jackson Heart Study', 'fulljournalname': 'Journal of the American Heart Association: Cardiovascular and Cerebrovascular Disease'}),\n",
              " Document(page_content='fluid pH. On the other hand, high salt intake has been suggested to cause diabetes mellitus; however, the molecular mechanism is unclear. A possible mechanism of high salt intake-caused diabetes mellitus is proposed from a viewpoint of regulation of the interstitial fluid pH: high salt intake lowers the interstitial fluid pH via high production of H+ associated with ATP synthesis required for the Na+,K+-ATPase to extrude the high leveled intracellular Na+ caused by high salt intake. This review', metadata={'source': 'diabetes_txt_files/PMC6214001_abstract.txt', 'pubmed_id': 'PMC6214001', 'pubdate': '2018 Oct 19', 'title': 'The Proposal of Molecular Mechanisms of Weak Organic Acids Intake-Induced Improvement of Insulin Resistance in Diabetes Mellitus via Elevation of Interstitial Fluid pH', 'fulljournalname': 'International Journal of Molecular Sciences'})]"
            ]
          },
          "execution_count": 48,
          "metadata": {},
          "output_type": "execute_result"
        }
      ],
      "source": [
        "# Retrieve more documents with higher diversity\n",
        "# Useful if your dataset has many similar documents\n",
        "\n",
        "#lambda_mult – Number between 0 and 1 that determines the degree of diversity among the results with 0 corresponding to maximum diversity and 1 to minimum diversity. Defaults to 0.5.\n",
        "\n",
        "faiss_retriever_ = db.as_retriever(search_type=\"mmr\",\n",
        "    search_kwargs={'k': 6, 'lambda_mult': 0.25})\n",
        "\n",
        "faiss_retriever_.get_relevant_documents(\"causes of diabetes\")[:3]"
      ]
    },
    {
      "cell_type": "code",
      "execution_count": null,
      "metadata": {
        "application/vnd.databricks.v1+cell": {
          "cellMetadata": {
            "byteLimit": 2048000,
            "rowLimit": 10000
          },
          "inputWidgets": {},
          "nuid": "56bd80b1-5f72-464d-8f08-46cda59608d4",
          "showTitle": false,
          "title": ""
        },
        "colab": {
          "base_uri": "https://localhost:8080/"
        },
        "id": "Qctprin7feVC",
        "outputId": "5fe3c85d-ee6a-403d-d91b-460bb75f145a"
      },
      "outputs": [
        {
          "data": {
            "text/plain": [
              "[Document(page_content='relevant pathway in human patients suffering from diabetes.', metadata={'source': 'diabetes_txt_files/PMC6308908_abstract.txt', 'pubmed_id': 'PMC6308908', 'pubdate': '2018 Sep 19', 'title': 'Compensatory mechanisms for methylglyoxal detoxification in experimental & clinical diabetes', 'fulljournalname': 'Molecular Metabolism'}),\n",
              " Document(page_content='High‐intensity cigarette smoking and smoking pack‐years are associated with an increased risk of developing diabetes mellitus in blacks.', metadata={'source': 'diabetes_txt_files/PMC5850161_abstract.txt', 'pubmed_id': 'PMC5850161', 'pubdate': '2018 Jan 12', 'title': 'High‐Intensity Cigarette Smoking Is Associated With Incident Diabetes Mellitus In Black Adults: The Jackson Heart Study', 'fulljournalname': 'Journal of the American Heart Association: Cardiovascular and Cerebrovascular Disease'}),\n",
              " Document(page_content='fluid pH. On the other hand, high salt intake has been suggested to cause diabetes mellitus; however, the molecular mechanism is unclear. A possible mechanism of high salt intake-caused diabetes mellitus is proposed from a viewpoint of regulation of the interstitial fluid pH: high salt intake lowers the interstitial fluid pH via high production of H+ associated with ATP synthesis required for the Na+,K+-ATPase to extrude the high leveled intracellular Na+ caused by high salt intake. This review', metadata={'source': 'diabetes_txt_files/PMC6214001_abstract.txt', 'pubmed_id': 'PMC6214001', 'pubdate': '2018 Oct 19', 'title': 'The Proposal of Molecular Mechanisms of Weak Organic Acids Intake-Induced Improvement of Insulin Resistance in Diabetes Mellitus via Elevation of Interstitial Fluid pH', 'fulljournalname': 'International Journal of Molecular Sciences'})]"
            ]
          },
          "execution_count": 49,
          "metadata": {},
          "output_type": "execute_result"
        }
      ],
      "source": [
        "# Fetch more documents for the MMR algorithm to consider\n",
        "# But only return the top 5\n",
        "# fetch_k – Number of Documents to fetch before filtering to pass to MMR algorithm.\n",
        "\n",
        "faiss_retriever_ = db.as_retriever(\n",
        "    search_type=\"mmr\",\n",
        "    search_kwargs={'k': 5, 'fetch_k': 50}\n",
        ")\n",
        "\n",
        "faiss_retriever_.get_relevant_documents(\"causes of diabetes\")[:3]"
      ]
    },
    {
      "cell_type": "code",
      "execution_count": null,
      "metadata": {
        "application/vnd.databricks.v1+cell": {
          "cellMetadata": {
            "byteLimit": 2048000,
            "rowLimit": 10000
          },
          "inputWidgets": {},
          "nuid": "d5de8d10-3e0a-47a5-a655-63894951df20",
          "showTitle": false,
          "title": ""
        },
        "colab": {
          "base_uri": "https://localhost:8080/"
        },
        "id": "jFLy86bPfxXO",
        "outputId": "d9d705fb-b3a0-4f02-e4fd-bf64082731c3"
      },
      "outputs": [
        {
          "data": {
            "text/plain": [
              "[Document(page_content='relevant pathway in human patients suffering from diabetes.', metadata={'source': 'diabetes_txt_files/PMC6308908_abstract.txt', 'pubmed_id': 'PMC6308908', 'pubdate': '2018 Sep 19', 'title': 'Compensatory mechanisms for methylglyoxal detoxification in experimental & clinical diabetes', 'fulljournalname': 'Molecular Metabolism'}),\n",
              " Document(page_content='patients with type\\xa02 diabetes and those who had prediabetes.', metadata={'source': 'diabetes_txt_files/PMC7378450_abstract.txt', 'pubmed_id': 'PMC7378450', 'pubdate': '2020 Jan 13', 'title': 'Association between mean platelet volume in the pathogenesis of type\\xa02 diabetes mellitus and diabetic macrovascular complications in Japanese patients', 'fulljournalname': 'Journal of Diabetes Investigation'}),\n",
              " Document(page_content='diabetes-related comorbidities, and well-being.', metadata={'source': 'diabetes_txt_files/PMC7730786_abstract.txt', 'pubmed_id': 'PMC7730786', 'pubdate': '2020 Dec 10', 'title': 'Different information needs in subgroups of people with diabetes mellitus: a latent class analysis', 'fulljournalname': 'BMC Public Health'})]"
            ]
          },
          "execution_count": 50,
          "metadata": {},
          "output_type": "execute_result"
        }
      ],
      "source": [
        "# Only retrieve documents that have a relevance score\n",
        "# Above a certain threshold\n",
        "faiss_retriever_ = db.as_retriever(\n",
        "    search_type=\"similarity_score_threshold\",\n",
        "    search_kwargs={'score_threshold': 0.8}\n",
        ")\n",
        "faiss_retriever_.get_relevant_documents(\"causes of diabetes\")[:3]"
      ]
    },
    {
      "cell_type": "code",
      "execution_count": null,
      "metadata": {
        "application/vnd.databricks.v1+cell": {
          "cellMetadata": {
            "byteLimit": 2048000,
            "rowLimit": 10000
          },
          "inputWidgets": {},
          "nuid": "19dc1ff1-e4e2-441a-bc51-5f4dc3d2282c",
          "showTitle": false,
          "title": ""
        },
        "colab": {
          "base_uri": "https://localhost:8080/"
        },
        "id": "KHSMC5W1kJIk",
        "outputId": "10016bc9-157b-4ac7-f3ba-3de409a47f30"
      },
      "outputs": [
        {
          "data": {
            "text/plain": [
              "[Document(page_content='diabetes-related comorbidities, and well-being.', metadata={'source': 'diabetes_txt_files/PMC7730786_abstract.txt', 'pubmed_id': 'PMC7730786', 'pubdate': '2020 Dec 10', 'title': 'Different information needs in subgroups of people with diabetes mellitus: a latent class analysis', 'fulljournalname': 'BMC Public Health'}),\n",
              " Document(page_content='behaviour, diabetes education, current level of information, and time preference.', metadata={'source': 'diabetes_txt_files/PMC7730786_abstract.txt', 'pubmed_id': 'PMC7730786', 'pubdate': '2020 Dec 10', 'title': 'Different information needs in subgroups of people with diabetes mellitus: a latent class analysis', 'fulljournalname': 'BMC Public Health'}),\n",
              " Document(page_content='The effects of genetic and lifestyle characteristics should be taken into consideration for both future studies and diabetes management.', metadata={'source': 'diabetes_txt_files/PMC6794810_abstract.txt', 'pubmed_id': 'PMC6794810', 'pubdate': '2019 Oct 15', 'title': 'Association of genetic and behavioral characteristics with the onset of diabetes', 'fulljournalname': 'BMC Public Health'})]"
            ]
          },
          "execution_count": 51,
          "metadata": {},
          "output_type": "execute_result"
        }
      ],
      "source": [
        "\n",
        "# Use a filter to only retrieve documents from a specific paper\n",
        "faiss_retriever_ = db.as_retriever(\n",
        "    search_kwargs={'filter': {'fulljournalname':'BMC Public Health'}}\n",
        ")\n",
        "\n",
        "faiss_retriever_.get_relevant_documents(\"causes of diabetes\")[:3]"
      ]
    },
    {
      "cell_type": "code",
      "execution_count": null,
      "metadata": {
        "application/vnd.databricks.v1+cell": {
          "cellMetadata": {
            "byteLimit": 2048000,
            "rowLimit": 10000
          },
          "inputWidgets": {},
          "nuid": "421c652c-52cd-407a-baee-8a874c503c60",
          "showTitle": false,
          "title": ""
        },
        "colab": {
          "base_uri": "https://localhost:8080/",
          "height": 70
        },
        "id": "lkduWnHAgHZn",
        "outputId": "6880776e-df17-4ded-98f1-5362aa0a6c7b"
      },
      "outputs": [
        {
          "data": {
            "application/vnd.google.colaboratory.intrinsic+json": {
              "type": "string"
            },
            "text/plain": [
              "\"The causes for diabetes can include insulin deficiency, genetic factors, lifestyle characteristics, consumption of carbohydrate meals, medication side effects, and other factors that are still being studied. It's my pleasure to help!\""
            ]
          },
          "execution_count": 52,
          "metadata": {},
          "output_type": "execute_result"
        }
      ],
      "source": [
        "\n",
        "faiss_retriever_ = db.as_retriever(search_type=\"mmr\",\n",
        "    search_kwargs={'k': 6, 'lambda_mult': 0.25})\n",
        "\n",
        "\n",
        "qa_chain_faiss = RetrievalQA.from_chain_type(\n",
        "    llm,\n",
        "    retriever=faiss_retriever,\n",
        "    return_source_documents=True,\n",
        "    chain_type_kwargs={\"prompt\": QA_CHAIN_PROMPT}\n",
        ")\n",
        "\n",
        "qa_chain_faiss({\"query\": question})['result']"
      ]
    },
    {
      "cell_type": "code",
      "execution_count": null,
      "metadata": {
        "application/vnd.databricks.v1+cell": {
          "cellMetadata": {
            "byteLimit": 2048000,
            "rowLimit": 10000
          },
          "inputWidgets": {},
          "nuid": "f9333e16-4569-42e2-a8af-84a5f8fe1148",
          "showTitle": false,
          "title": ""
        },
        "colab": {
          "base_uri": "https://localhost:8080/",
          "height": 140
        },
        "id": "MeZOpHZNhJ8u",
        "outputId": "8c2b87b1-9d50-4cf8-c50a-a18176ad69dc"
      },
      "outputs": [
        {
          "data": {
            "application/vnd.google.colaboratory.intrinsic+json": {
              "type": "string"
            },
            "text/plain": [
              "\"There is a strong relationship between diabetes and obesity. Obesity is known to increase the risk of developing type 2 diabetes, and it also affects patients with type 1 diabetes. Patients with type 1 diabetes and obesity have higher insulin requirements, greater cardiometabolic risk, and an increased risk of developing chronic complications. However, the dual treatment of obesity and diabetes is challenging, and there are no specific guidelines for improving outcomes in both conditions. It's my pleasure to help!\""
            ]
          },
          "execution_count": 53,
          "metadata": {},
          "output_type": "execute_result"
        }
      ],
      "source": [
        "question = \"relationship between diabetes and obesity\"\n",
        "\n",
        "qa_chain_faiss({\"query\": question})['result']"
      ]
    },
    {
      "cell_type": "code",
      "execution_count": null,
      "metadata": {
        "application/vnd.databricks.v1+cell": {
          "cellMetadata": {
            "byteLimit": 2048000,
            "rowLimit": 10000
          },
          "inputWidgets": {},
          "nuid": "78faa98d-92bc-499f-9de6-ca968aaaf24f",
          "showTitle": false,
          "title": ""
        },
        "colab": {
          "base_uri": "https://localhost:8080/",
          "height": 140
        },
        "id": "i9p8nteYi0AZ",
        "outputId": "60bc2582-9573-4788-a270-e7cf1778db6a"
      },
      "outputs": [
        {
          "data": {
            "application/vnd.google.colaboratory.intrinsic+json": {
              "type": "string"
            },
            "text/plain": [
              "\"There is a well-established relationship between diabetes and obesity. Obesity is a major risk factor for developing type 2 diabetes, as excess body weight can lead to insulin resistance and impaired glucose metabolism. Additionally, obesity is associated with other metabolic abnormalities, such as high blood pressure and dyslipidemia, which further increase the risk of diabetes. Managing obesity through lifestyle changes, such as a healthy diet and regular exercise, is an important aspect of diabetes management. It's my pleasure to help!\""
            ]
          },
          "execution_count": 54,
          "metadata": {},
          "output_type": "execute_result"
        }
      ],
      "source": [
        "qa_chain_bm25({\"query\": question})['result']"
      ]
    },
    {
      "cell_type": "code",
      "execution_count": null,
      "metadata": {
        "application/vnd.databricks.v1+cell": {
          "cellMetadata": {
            "byteLimit": 2048000,
            "rowLimit": 10000
          },
          "inputWidgets": {},
          "nuid": "2b99965e-da3e-4626-af65-af3143136352",
          "showTitle": false,
          "title": ""
        },
        "colab": {
          "base_uri": "https://localhost:8080/",
          "height": 140
        },
        "id": "mM9jIO9yjP64",
        "outputId": "c3697807-914f-48d0-c2ae-446ddb99a226"
      },
      "outputs": [
        {
          "data": {
            "application/vnd.google.colaboratory.intrinsic+json": {
              "type": "string"
            },
            "text/plain": [
              "\"The pieces of context provided suggest that there is a relationship between diabetes and obesity. Patients with type 1 diabetes and obesity are characterized by insulin resistance, high insulin requirements, and an increased risk of developing chronic complications. Obesity is also a major driver of type 2 diabetes, with a significant percentage of cases being attributed to obesity. Effective interventions to reduce obesity are needed to help manage and prevent diabetes. It's my pleasure to help!\""
            ]
          },
          "execution_count": 55,
          "metadata": {},
          "output_type": "execute_result"
        }
      ],
      "source": [
        "qa_chain_ensemble = RetrievalQA.from_chain_type(\n",
        "    llm,\n",
        "    retriever=ensemble_retriever,\n",
        "    return_source_documents=True,\n",
        "    chain_type_kwargs={\"prompt\": QA_CHAIN_PROMPT}\n",
        ")\n",
        "\n",
        "question = \"relationship between diabetes and obesity\"\n",
        "\n",
        "qa_chain_ensemble({\"query\": question})['result']"
      ]
    },
    {
      "cell_type": "code",
      "execution_count": null,
      "metadata": {
        "application/vnd.databricks.v1+cell": {
          "cellMetadata": {
            "byteLimit": 2048000,
            "rowLimit": 10000
          },
          "inputWidgets": {},
          "nuid": "1561525c-e07a-400d-856d-b6d50357a3dd",
          "showTitle": false,
          "title": ""
        },
        "colab": {
          "base_uri": "https://localhost:8080/",
          "height": 122
        },
        "id": "YxTUpjYLjoXs",
        "outputId": "34de0e15-30ae-4e6b-ca20-0ecf888e41a6"
      },
      "outputs": [
        {
          "data": {
            "application/vnd.google.colaboratory.intrinsic+json": {
              "type": "string"
            },
            "text/plain": [
              "\"There is a strong association between diabetes and obesity. Obesity affects a significant number of patients with type 1 diabetes, leading to insulin resistance, higher insulin requirements, and increased cardiometabolic risk. Patients with both diabetes and obesity also have a greater risk of developing chronic complications. However, there are no specific guidelines for managing both conditions simultaneously. It's my pleasure to help!\""
            ]
          },
          "execution_count": 56,
          "metadata": {},
          "output_type": "execute_result"
        }
      ],
      "source": [
        "ensemble_retriever_ = db.as_retriever(search_type=\"mmr\",\n",
        "    search_kwargs={'k': 6, 'lambda_mult': 0.25})\n",
        "\n",
        "qa_chain_ensemble = RetrievalQA.from_chain_type(\n",
        "    llm,\n",
        "    retriever=ensemble_retriever_,\n",
        "    return_source_documents=True,\n",
        "    chain_type_kwargs={\"prompt\": QA_CHAIN_PROMPT}\n",
        ")\n",
        "\n",
        "question = \"relationship between diabetes and obesity\"\n",
        "\n",
        "qa_chain_ensemble({\"query\": question})['result']"
      ]
    },
    {
      "cell_type": "code",
      "execution_count": null,
      "metadata": {
        "application/vnd.databricks.v1+cell": {
          "cellMetadata": {
            "byteLimit": 2048000,
            "rowLimit": 10000
          },
          "inputWidgets": {},
          "nuid": "c3edcda3-b456-4684-851a-97e989c957f1",
          "showTitle": false,
          "title": ""
        },
        "colab": {
          "base_uri": "https://localhost:8080/",
          "height": 105
        },
        "id": "11t6nF9Ci5D8",
        "outputId": "f54909ae-fb66-4714-c664-fd1c7b03690f"
      },
      "outputs": [
        {
          "data": {
            "application/vnd.google.colaboratory.intrinsic+json": {
              "type": "string"
            },
            "text/plain": [
              "\"The prevalence of diabetes mellitus is rising among children and adolescents worldwide. Cardiovascular diseases are the main cause of morbidity and mortality in diabetic patients. However, it is not specified in the given context whether childhood diabetes specifically leads to increased mortality. Therefore, I don't have enough information to answer your question. It's my pleasure to assist you.\""
            ]
          },
          "execution_count": 57,
          "metadata": {},
          "output_type": "execute_result"
        }
      ],
      "source": [
        "question = \"childhood diabetes and mortality\"\n",
        "\n",
        "qa_chain_faiss({\"query\": question})['result']"
      ]
    },
    {
      "cell_type": "markdown",
      "metadata": {
        "application/vnd.databricks.v1+cell": {
          "cellMetadata": {},
          "inputWidgets": {},
          "nuid": "b5b2750f-6988-421a-a336-9c6e74043080",
          "showTitle": false,
          "title": ""
        },
        "id": "fVQMjZTIrh7D"
      },
      "source": [
        "# Cinical Guidelines as a Knowledge Base"
      ]
    },
    {
      "cell_type": "code",
      "execution_count": null,
      "metadata": {
        "application/vnd.databricks.v1+cell": {
          "cellMetadata": {
            "byteLimit": 2048000,
            "rowLimit": 10000
          },
          "inputWidgets": {},
          "nuid": "8626148d-6edf-4177-b225-712517a60dd5",
          "showTitle": false,
          "title": ""
        },
        "id": "DqZOsGA5rh7D"
      },
      "outputs": [],
      "source": [
        "from datasets import load_dataset\n",
        "\n",
        "dataset = load_dataset(\"epfl-llm/guidelines\")"
      ]
    },
    {
      "cell_type": "code",
      "execution_count": null,
      "metadata": {
        "application/vnd.databricks.v1+cell": {
          "cellMetadata": {
            "byteLimit": 2048000,
            "rowLimit": 10000
          },
          "inputWidgets": {},
          "nuid": "1a183652-181d-4f60-b701-31fe07f655f1",
          "showTitle": false,
          "title": ""
        },
        "colab": {
          "base_uri": "https://localhost:8080/",
          "height": 365
        },
        "id": "XAVSTqV0rh7D",
        "outputId": "5890cdce-2c70-47c2-86c9-bca263d7dd08"
      },
      "outputs": [
        {
          "data": {
            "text/html": [
              "\n",
              "  <div id=\"df-880affd5-0b9d-4937-994d-c4417d201de5\" class=\"colab-df-container\">\n",
              "    <div>\n",
              "<style scoped>\n",
              "    .dataframe tbody tr th:only-of-type {\n",
              "        vertical-align: middle;\n",
              "    }\n",
              "\n",
              "    .dataframe tbody tr th {\n",
              "        vertical-align: top;\n",
              "    }\n",
              "\n",
              "    .dataframe thead th {\n",
              "        text-align: right;\n",
              "    }\n",
              "</style>\n",
              "<table border=\"1\" class=\"dataframe\">\n",
              "  <thead>\n",
              "    <tr style=\"text-align: right;\">\n",
              "      <th></th>\n",
              "      <th>id</th>\n",
              "      <th>source</th>\n",
              "      <th>title</th>\n",
              "      <th>raw_text</th>\n",
              "      <th>url</th>\n",
              "      <th>overview</th>\n",
              "    </tr>\n",
              "  </thead>\n",
              "  <tbody>\n",
              "    <tr>\n",
              "      <th>0</th>\n",
              "      <td>7a73f9287841533eeb11c025026322a23d519f2c</td>\n",
              "      <td>cco</td>\n",
              "      <td>None</td>\n",
              "      <td># QUESTIONS Diagnosis/Staging\\nWhat benefit to...</td>\n",
              "      <td>None</td>\n",
              "      <td>None</td>\n",
              "    </tr>\n",
              "    <tr>\n",
              "      <th>1</th>\n",
              "      <td>0ca6b1adf1e6c001dc70cd13be35a1e8a4c14839</td>\n",
              "      <td>cco</td>\n",
              "      <td>None</td>\n",
              "      <td>This report is copyrighted by Ontario Health (...</td>\n",
              "      <td>None</td>\n",
              "      <td>None</td>\n",
              "    </tr>\n",
              "    <tr>\n",
              "      <th>2</th>\n",
              "      <td>68984194848f42b555d2a3c9077ac7a1e53f976b</td>\n",
              "      <td>cco</td>\n",
              "      <td>None</td>\n",
              "      <td>This report is copyrighted by Cancer Care Onta...</td>\n",
              "      <td>None</td>\n",
              "      <td>None</td>\n",
              "    </tr>\n",
              "    <tr>\n",
              "      <th>3</th>\n",
              "      <td>c80ad0d5ba1eee75e1702847d361abd6ce4bc7b0</td>\n",
              "      <td>cco</td>\n",
              "      <td>None</td>\n",
              "      <td>Evidence-Based Series 4-5 is CURRENT as of Nov...</td>\n",
              "      <td>None</td>\n",
              "      <td>None</td>\n",
              "    </tr>\n",
              "    <tr>\n",
              "      <th>4</th>\n",
              "      <td>7a09ab0610ecc9990db3362ca0b00a37a016acb4</td>\n",
              "      <td>cco</td>\n",
              "      <td>None</td>\n",
              "      <td># GUIDELINE OBJECTIVES\\nTo make recommendation...</td>\n",
              "      <td>None</td>\n",
              "      <td>None</td>\n",
              "    </tr>\n",
              "  </tbody>\n",
              "</table>\n",
              "</div>\n",
              "    <div class=\"colab-df-buttons\">\n",
              "\n",
              "  <div class=\"colab-df-container\">\n",
              "    <button class=\"colab-df-convert\" onclick=\"convertToInteractive('df-880affd5-0b9d-4937-994d-c4417d201de5')\"\n",
              "            title=\"Convert this dataframe to an interactive table.\"\n",
              "            style=\"display:none;\">\n",
              "\n",
              "  <svg xmlns=\"http://www.w3.org/2000/svg\" height=\"24px\" viewBox=\"0 -960 960 960\">\n",
              "    <path d=\"M120-120v-720h720v720H120Zm60-500h600v-160H180v160Zm220 220h160v-160H400v160Zm0 220h160v-160H400v160ZM180-400h160v-160H180v160Zm440 0h160v-160H620v160ZM180-180h160v-160H180v160Zm440 0h160v-160H620v160Z\"/>\n",
              "  </svg>\n",
              "    </button>\n",
              "\n",
              "  <style>\n",
              "    .colab-df-container {\n",
              "      display:flex;\n",
              "      gap: 12px;\n",
              "    }\n",
              "\n",
              "    .colab-df-convert {\n",
              "      background-color: #E8F0FE;\n",
              "      border: none;\n",
              "      border-radius: 50%;\n",
              "      cursor: pointer;\n",
              "      display: none;\n",
              "      fill: #1967D2;\n",
              "      height: 32px;\n",
              "      padding: 0 0 0 0;\n",
              "      width: 32px;\n",
              "    }\n",
              "\n",
              "    .colab-df-convert:hover {\n",
              "      background-color: #E2EBFA;\n",
              "      box-shadow: 0px 1px 2px rgba(60, 64, 67, 0.3), 0px 1px 3px 1px rgba(60, 64, 67, 0.15);\n",
              "      fill: #174EA6;\n",
              "    }\n",
              "\n",
              "    .colab-df-buttons div {\n",
              "      margin-bottom: 4px;\n",
              "    }\n",
              "\n",
              "    [theme=dark] .colab-df-convert {\n",
              "      background-color: #3B4455;\n",
              "      fill: #D2E3FC;\n",
              "    }\n",
              "\n",
              "    [theme=dark] .colab-df-convert:hover {\n",
              "      background-color: #434B5C;\n",
              "      box-shadow: 0px 1px 3px 1px rgba(0, 0, 0, 0.15);\n",
              "      filter: drop-shadow(0px 1px 2px rgba(0, 0, 0, 0.3));\n",
              "      fill: #FFFFFF;\n",
              "    }\n",
              "  </style>\n",
              "\n",
              "    <script>\n",
              "      const buttonEl =\n",
              "        document.querySelector('#df-880affd5-0b9d-4937-994d-c4417d201de5 button.colab-df-convert');\n",
              "      buttonEl.style.display =\n",
              "        google.colab.kernel.accessAllowed ? 'block' : 'none';\n",
              "\n",
              "      async function convertToInteractive(key) {\n",
              "        const element = document.querySelector('#df-880affd5-0b9d-4937-994d-c4417d201de5');\n",
              "        const dataTable =\n",
              "          await google.colab.kernel.invokeFunction('convertToInteractive',\n",
              "                                                    [key], {});\n",
              "        if (!dataTable) return;\n",
              "\n",
              "        const docLinkHtml = 'Like what you see? Visit the ' +\n",
              "          '<a target=\"_blank\" href=https://colab.research.google.com/notebooks/data_table.ipynb>data table notebook</a>'\n",
              "          + ' to learn more about interactive tables.';\n",
              "        element.innerHTML = '';\n",
              "        dataTable['output_type'] = 'display_data';\n",
              "        await google.colab.output.renderOutput(dataTable, element);\n",
              "        const docLink = document.createElement('div');\n",
              "        docLink.innerHTML = docLinkHtml;\n",
              "        element.appendChild(docLink);\n",
              "      }\n",
              "    </script>\n",
              "  </div>\n",
              "\n",
              "\n",
              "<div id=\"df-084845bc-5dc4-47fc-b1cb-016e8217f5f3\">\n",
              "  <button class=\"colab-df-quickchart\" onclick=\"quickchart('df-084845bc-5dc4-47fc-b1cb-016e8217f5f3')\"\n",
              "            title=\"Suggest charts\"\n",
              "            style=\"display:none;\">\n",
              "\n",
              "<svg xmlns=\"http://www.w3.org/2000/svg\" height=\"24px\"viewBox=\"0 0 24 24\"\n",
              "     width=\"24px\">\n",
              "    <g>\n",
              "        <path d=\"M19 3H5c-1.1 0-2 .9-2 2v14c0 1.1.9 2 2 2h14c1.1 0 2-.9 2-2V5c0-1.1-.9-2-2-2zM9 17H7v-7h2v7zm4 0h-2V7h2v10zm4 0h-2v-4h2v4z\"/>\n",
              "    </g>\n",
              "</svg>\n",
              "  </button>\n",
              "\n",
              "<style>\n",
              "  .colab-df-quickchart {\n",
              "      --bg-color: #E8F0FE;\n",
              "      --fill-color: #1967D2;\n",
              "      --hover-bg-color: #E2EBFA;\n",
              "      --hover-fill-color: #174EA6;\n",
              "      --disabled-fill-color: #AAA;\n",
              "      --disabled-bg-color: #DDD;\n",
              "  }\n",
              "\n",
              "  [theme=dark] .colab-df-quickchart {\n",
              "      --bg-color: #3B4455;\n",
              "      --fill-color: #D2E3FC;\n",
              "      --hover-bg-color: #434B5C;\n",
              "      --hover-fill-color: #FFFFFF;\n",
              "      --disabled-bg-color: #3B4455;\n",
              "      --disabled-fill-color: #666;\n",
              "  }\n",
              "\n",
              "  .colab-df-quickchart {\n",
              "    background-color: var(--bg-color);\n",
              "    border: none;\n",
              "    border-radius: 50%;\n",
              "    cursor: pointer;\n",
              "    display: none;\n",
              "    fill: var(--fill-color);\n",
              "    height: 32px;\n",
              "    padding: 0;\n",
              "    width: 32px;\n",
              "  }\n",
              "\n",
              "  .colab-df-quickchart:hover {\n",
              "    background-color: var(--hover-bg-color);\n",
              "    box-shadow: 0 1px 2px rgba(60, 64, 67, 0.3), 0 1px 3px 1px rgba(60, 64, 67, 0.15);\n",
              "    fill: var(--button-hover-fill-color);\n",
              "  }\n",
              "\n",
              "  .colab-df-quickchart-complete:disabled,\n",
              "  .colab-df-quickchart-complete:disabled:hover {\n",
              "    background-color: var(--disabled-bg-color);\n",
              "    fill: var(--disabled-fill-color);\n",
              "    box-shadow: none;\n",
              "  }\n",
              "\n",
              "  .colab-df-spinner {\n",
              "    border: 2px solid var(--fill-color);\n",
              "    border-color: transparent;\n",
              "    border-bottom-color: var(--fill-color);\n",
              "    animation:\n",
              "      spin 1s steps(1) infinite;\n",
              "  }\n",
              "\n",
              "  @keyframes spin {\n",
              "    0% {\n",
              "      border-color: transparent;\n",
              "      border-bottom-color: var(--fill-color);\n",
              "      border-left-color: var(--fill-color);\n",
              "    }\n",
              "    20% {\n",
              "      border-color: transparent;\n",
              "      border-left-color: var(--fill-color);\n",
              "      border-top-color: var(--fill-color);\n",
              "    }\n",
              "    30% {\n",
              "      border-color: transparent;\n",
              "      border-left-color: var(--fill-color);\n",
              "      border-top-color: var(--fill-color);\n",
              "      border-right-color: var(--fill-color);\n",
              "    }\n",
              "    40% {\n",
              "      border-color: transparent;\n",
              "      border-right-color: var(--fill-color);\n",
              "      border-top-color: var(--fill-color);\n",
              "    }\n",
              "    60% {\n",
              "      border-color: transparent;\n",
              "      border-right-color: var(--fill-color);\n",
              "    }\n",
              "    80% {\n",
              "      border-color: transparent;\n",
              "      border-right-color: var(--fill-color);\n",
              "      border-bottom-color: var(--fill-color);\n",
              "    }\n",
              "    90% {\n",
              "      border-color: transparent;\n",
              "      border-bottom-color: var(--fill-color);\n",
              "    }\n",
              "  }\n",
              "</style>\n",
              "\n",
              "  <script>\n",
              "    async function quickchart(key) {\n",
              "      const quickchartButtonEl =\n",
              "        document.querySelector('#' + key + ' button');\n",
              "      quickchartButtonEl.disabled = true;  // To prevent multiple clicks.\n",
              "      quickchartButtonEl.classList.add('colab-df-spinner');\n",
              "      try {\n",
              "        const charts = await google.colab.kernel.invokeFunction(\n",
              "            'suggestCharts', [key], {});\n",
              "      } catch (error) {\n",
              "        console.error('Error during call to suggestCharts:', error);\n",
              "      }\n",
              "      quickchartButtonEl.classList.remove('colab-df-spinner');\n",
              "      quickchartButtonEl.classList.add('colab-df-quickchart-complete');\n",
              "    }\n",
              "    (() => {\n",
              "      let quickchartButtonEl =\n",
              "        document.querySelector('#df-084845bc-5dc4-47fc-b1cb-016e8217f5f3 button');\n",
              "      quickchartButtonEl.style.display =\n",
              "        google.colab.kernel.accessAllowed ? 'block' : 'none';\n",
              "    })();\n",
              "  </script>\n",
              "</div>\n",
              "\n",
              "    </div>\n",
              "  </div>\n"
            ],
            "text/plain": [
              "                                         id source title  \\\n",
              "0  7a73f9287841533eeb11c025026322a23d519f2c    cco  None   \n",
              "1  0ca6b1adf1e6c001dc70cd13be35a1e8a4c14839    cco  None   \n",
              "2  68984194848f42b555d2a3c9077ac7a1e53f976b    cco  None   \n",
              "3  c80ad0d5ba1eee75e1702847d361abd6ce4bc7b0    cco  None   \n",
              "4  7a09ab0610ecc9990db3362ca0b00a37a016acb4    cco  None   \n",
              "\n",
              "                                            raw_text   url overview  \n",
              "0  # QUESTIONS Diagnosis/Staging\\nWhat benefit to...  None     None  \n",
              "1  This report is copyrighted by Ontario Health (...  None     None  \n",
              "2  This report is copyrighted by Cancer Care Onta...  None     None  \n",
              "3  Evidence-Based Series 4-5 is CURRENT as of Nov...  None     None  \n",
              "4  # GUIDELINE OBJECTIVES\\nTo make recommendation...  None     None  "
            ]
          },
          "execution_count": 61,
          "metadata": {},
          "output_type": "execute_result"
        }
      ],
      "source": [
        "import pandas as pd\n",
        "\n",
        "guidelines_df = pd.DataFrame(dataset['train'][:100])\n",
        "guidelines_df.drop(['clean_text'], inplace=True, axis=1)\n",
        "guidelines_df.head()"
      ]
    },
    {
      "cell_type": "code",
      "execution_count": null,
      "metadata": {
        "application/vnd.databricks.v1+cell": {
          "cellMetadata": {
            "byteLimit": 2048000,
            "rowLimit": 10000
          },
          "inputWidgets": {},
          "nuid": "eeccab5f-9161-406a-acee-2345acbfbef0",
          "showTitle": false,
          "title": ""
        },
        "id": "F1247XOGrh7D"
      },
      "outputs": [],
      "source": [
        "from langchain.document_loaders import DataFrameLoader\n",
        "from langchain.vectorstores import FAISS\n",
        "from johnsnowlabs.llm import embedding_retrieval\n",
        "\n",
        "loader = DataFrameLoader(guidelines_df,\n",
        "                         page_content_column=\"raw_text\")\n",
        "documents = loader.load()"
      ]
    },
    {
      "cell_type": "code",
      "execution_count": null,
      "metadata": {
        "application/vnd.databricks.v1+cell": {
          "cellMetadata": {
            "byteLimit": 2048000,
            "rowLimit": 10000
          },
          "inputWidgets": {},
          "nuid": "6681f70d-cb14-497d-808a-e9f2bee74574",
          "showTitle": false,
          "title": ""
        },
        "colab": {
          "base_uri": "https://localhost:8080/"
        },
        "id": "ZH9SOlZ2rh7D",
        "outputId": "74c9e471-fc66-4ce6-afd8-1593611be9fa"
      },
      "outputs": [
        {
          "data": {
            "text/plain": [
              "Document(page_content='This report is copyrighted by Ontario Health (Cancer Care Ontario); the report and the illustrations herein may not be reproduced without the express written permission of Ontario Health (Cancer Care Ontario). Ontario Health (Cancer Care Ontario) reserves the right at any time, and at its sole discretion, to change or revoke this authorization. Disclaimer Care has been taken in the preparation of the information contained in this report. Nevertheless, any person seeking to consult the report or apply its recommendations is expected to use independent medical judgment in the context of individual clinical circumstances or to seek out the supervision of a qualified clinician. Ontario Health (Cancer Care Ontario) makes no representations or guarantees of any kind whatsoever regarding the report content or its use or application and disclaims any responsibility for its use or application in any way.# Clinical Utility of Multigene Profiling Assays in Early-Stage Invasive Breast Cancer Recommendations\\nThis is a quick reference guide and provides the guideline recommendations only. For key evidence associated with each recommendation, the systematic review, and the guideline development process, see the Full Report.\\n\\n# GUIDELINE OBJECTIVES\\nTo update clinical guidance on the use of multigene profiling assays in individuals with earlystage invasive breast cancer.\\n\\n# TARGET POPULATION\\nIndividuals diagnosed with early-stage invasive breast cancer for whom further information is needed for prognosis and treatment decision making. In this guideline, early-stage invasive breast cancer is defined as stage I to III breast cancers that are surgically operable and do not have evidence of inflammatory, locally recurrent or distant metastatic disease with pT1-T3, pN0-N1a based on surgical pathologic staging.\\n\\n# INTENDED USERS\\nThis guideline is targeted for clinicians and policy makers involved in the diagnosis and treatment of breast cancer.\\n\\n# PREAMBLE\\nThe purpose of this guideline is to determine the clinical utility of multigene profiling assays (i.e., Oncotype DX, MammaPrint, Prosigna, EndoPredict, and Breast Cancer Index), not to identify which assay is better. No prospective studies have compared these head-to-head.\\nGiven that the assays use different scoring systems and classification systems, please refer to Table 1-1 for a summary of each of the assays. Further, this guideline does not cover the utility of multigene profiling assays in helping to guide clinical treatment decisions regarding the use of either neoadjuvant chemotherapy or radiation.\\n\\n# RECOMMENDATIONS, KEY EVIDENCE, AND JUSTIFICATION Recommendation 1\\nIn patients with early-stage estrogen receptor (ER)-positive/human epidermal growth factor 2 (HER2)-negative breast cancer, clinicians should consider using multigene profiling assays (i.e., Oncotype DX, MammaPrint, Prosigna, EndoPredict, and Breast Cancer Index) to help guide the use of systemic therapy.\\n\\n# Qualifying Statements for Recommendation 1\\n• There is currently insufficient evidence to use multigene profiling assays among patients with either HER2-positive or triple negative breast cancers. • Multigene profiling assays are recommended for use in patients with lymph nodenegative or lymph node-positive (1-3 lymph nodes) disease who are under consideration for adjuvant chemotherapy if the use is supported by other clinical, pathological, or patient-related factors. Clinical and pathological features include patient age, tumour grade, tumour size and nodal status.\\n• One multigene profiling assay should be requested per patient to guide a specific treatment decision. Requesting multiple tests with different multigene profiling assays on an individual tumour specimen to guide a single treatment decision is discouraged. Additional testing may be considered for patients with either repeat metachronous breast cancer diagnoses or synchronous breast cancer diagnoses where tumour specimens display varying morphologies, grade or hormone receptor status. • Multigene profiling assays should be interpreted cautiously in premenopausal patients where a significant benefit from adjuvant chemotherapy may still exist despite a lowrisk score. • It is uncertain whether at least some of the benefit of chemotherapy among premenopausal patients may be due to chemotherapy induced amenorrhea versus the cytotoxic effects of treatment.\\n• The Prosigna, EndoPredict/EPclin, and Breast Cancer Index assays can identify low-risk node-positive patients whose prognostic outcomes are favourable; however, these assays have not demonstrated predictive evidence to support withholding adjuvant chemotherapy among higher risk, node-positive, ER-positive, HER2-negative breast cancer patients.\\n\\n# Recommendation 5\\nThe evidence to support the use of molecular profiling to select the duration of endocrine therapy is evolving. In patients with ER-positive disease, clinicians may consider using a Breast Cancer Index (BCI) (H/I) high assay result to support a decision to extend adjuvant endocrine therapy if the decision is supported by other clinical, pathological, or patientrelated factors.\\n\\n# Qualifying Statements for Recommendation 5\\n• While a number of studies have demonstrated clinical utility of BCI for extending adjuvant endocrine therapy, the preliminary results of the NSABP B42 trial are negative leading to some uncertainty. Treatment decisions should be based on all available clinical and pathological information for each patient, rather than depending only on multigene profiling tests. • MammaPrint, Oncotype DX, Prosigna, and EndoPredict currently have insufficient evidence to guide extension of adjuvant endocrine therapy; however, these molecular assays may prognosticate a very low rate of disease recurrence that might not justify an extension of endocrine therapy.', metadata={'id': '0ca6b1adf1e6c001dc70cd13be35a1e8a4c14839', 'source': 'cco', 'title': 'None', 'url': 'None', 'overview': 'None'})"
            ]
          },
          "execution_count": 63,
          "metadata": {},
          "output_type": "execute_result"
        }
      ],
      "source": [
        "documents[1]"
      ]
    },
    {
      "cell_type": "code",
      "execution_count": null,
      "metadata": {
        "application/vnd.databricks.v1+cell": {
          "cellMetadata": {
            "byteLimit": 2048000,
            "rowLimit": 10000
          },
          "inputWidgets": {},
          "nuid": "f0f9a261-c2b2-4707-9496-7f4159f51d12",
          "showTitle": false,
          "title": ""
        },
        "colab": {
          "base_uri": "https://localhost:8080/"
        },
        "id": "PZHpPUHFrh7E",
        "outputId": "8f8b5c54-d038-4f78-c577-9d046ec1e728"
      },
      "outputs": [
        {
          "name": "stdout",
          "output_type": "stream",
          "text": [
            "Spark Session already created, some configs may not take.\n",
            "Spark Session already created, some configs may not take.\n",
            "Warning::Spark Session already created, some configs may not take.\n",
            "Warning::Spark Session already created, some configs may not take.\n",
            "instructor_base download started this may take some time.\n",
            "Approximate size to download 387.7 MB\n",
            "[OK!]\n",
            "Warning::Spark Session already created, some configs may not take.\n",
            "CPU times: user 17 s, sys: 1.73 s, total: 18.8 s\n",
            "Wall time: 47min 37s\n"
          ]
        }
      ],
      "source": [
        "%%time\n",
        "jsl_splitter = embedding_retrieval.JohnSnowLabsLangChainCharSplitter(chunk_size=500,\n",
        "                                                                     chunk_overlap=50)\n",
        "guideline_texts = jsl_splitter.split_documents(documents)\n",
        "\n",
        "embeddings =  embedding_retrieval.JohnSnowLabsLangChainEmbedder('en.embed_sentence.instructor_base')\n",
        "\n",
        "guideline_db = FAISS.from_documents(guideline_texts, embeddings)\n",
        "\n",
        "faiss_retriever_guideline = guideline_db.as_retriever(search_kwargs={\"k\": 3})"
      ]
    },
    {
      "cell_type": "code",
      "execution_count": null,
      "metadata": {
        "application/vnd.databricks.v1+cell": {
          "cellMetadata": {
            "byteLimit": 2048000,
            "rowLimit": 10000
          },
          "inputWidgets": {},
          "nuid": "dbf01a87-859c-48d5-a1ce-c291cbfa83b7",
          "showTitle": false,
          "title": ""
        },
        "colab": {
          "base_uri": "https://localhost:8080/"
        },
        "id": "tvyvUYSjrh7E",
        "outputId": "127de93e-2f21-438d-c6e3-c5855ef0ec5d"
      },
      "outputs": [
        {
          "data": {
            "text/plain": [
              "8656"
            ]
          },
          "execution_count": 65,
          "metadata": {},
          "output_type": "execute_result"
        }
      ],
      "source": [
        "len(guideline_texts)"
      ]
    },
    {
      "cell_type": "code",
      "execution_count": null,
      "metadata": {
        "application/vnd.databricks.v1+cell": {
          "cellMetadata": {
            "byteLimit": 2048000,
            "rowLimit": 10000
          },
          "inputWidgets": {},
          "nuid": "62f7961a-80b0-4e7f-836d-102582495b7b",
          "showTitle": false,
          "title": ""
        },
        "colab": {
          "base_uri": "https://localhost:8080/"
        },
        "id": "lD9U-GGNrh7E",
        "outputId": "9e4e56f7-e0d1-4c1d-ddca-227a47bf803e"
      },
      "outputs": [
        {
          "name": "stdout",
          "output_type": "stream",
          "text": [
            "  adding: faiss_retriever_db_guidelines.vs/ (stored 0%)\n",
            "  adding: faiss_retriever_db_guidelines.vs/index.pkl (deflated 68%)\n",
            "  adding: faiss_retriever_db_guidelines.vs/index.faiss (deflated 8%)\n"
          ]
        }
      ],
      "source": [
        "guideline_db.save_local('faiss_retriever_db_guidelines.vs')\n",
        "!zip -r faiss_retriever_db_guidelines.vs.zip faiss_retriever_db_guidelines.vs"
      ]
    },
    {
      "cell_type": "code",
      "execution_count": null,
      "metadata": {
        "id": "J2FapPqS-c1k"
      },
      "outputs": [],
      "source": [
        "!wget -q https://github.com/JohnSnowLabs/spark-nlp-workshop/raw/master/healthcare-nlp/data/faiss_retriever_db_guidelines.vs.zip -O faiss_retriever_db_guidelines.vs.zip"
      ]
    },
    {
      "cell_type": "code",
      "execution_count": null,
      "metadata": {
        "colab": {
          "base_uri": "https://localhost:8080/"
        },
        "id": "rL4YElc2-oTK",
        "outputId": "0f154932-6580-45fd-fa7d-ae5d5f96a3b1"
      },
      "outputs": [
        {
          "name": "stdout",
          "output_type": "stream",
          "text": [
            "Archive:  faiss_retriever_db_guidelines.vs.zip\n",
            "   creating: faiss_retriever_db_guidelines.vs/\n",
            "  inflating: faiss_retriever_db_guidelines.vs/index.faiss  \n",
            "  inflating: faiss_retriever_db_guidelines.vs/index.pkl  \n"
          ]
        }
      ],
      "source": [
        "!unzip -o faiss_retriever_db_guidelines.vs"
      ]
    },
    {
      "cell_type": "code",
      "execution_count": null,
      "metadata": {
        "colab": {
          "base_uri": "https://localhost:8080/"
        },
        "id": "BfaQWW3o-9a5",
        "outputId": "23abcba6-82de-482a-c7a8-87f5e38de20a"
      },
      "outputs": [
        {
          "name": "stdout",
          "output_type": "stream",
          "text": [
            "CPU times: user 48.9 ms, sys: 25.4 ms, total: 74.3 ms\n",
            "Wall time: 139 ms\n"
          ]
        }
      ],
      "source": [
        "%%time\n",
        "from langchain.vectorstores import FAISS\n",
        "\n",
        "guideline_db = FAISS.load_local(\"faiss_retriever_db_guidelines.vs\", embeddings)\n",
        "faiss_retriever_guideline = guideline_db.as_retriever(search_kwargs={\"k\": 3})"
      ]
    },
    {
      "cell_type": "code",
      "execution_count": null,
      "metadata": {
        "colab": {
          "base_uri": "https://localhost:8080/"
        },
        "id": "MDDQj7RYAKwu",
        "outputId": "aefbb363-79bb-47a0-837b-17871eed9f83"
      },
      "outputs": [
        {
          "data": {
            "text/plain": [
              "[Document(page_content='# Mixed Stages of Lung Cancer', metadata={'id': 'a7dc89781112ae995210e98beb24314cc644fb44', 'source': 'cco', 'title': 'None', 'url': 'None', 'overview': 'None'}),\n",
              " Document(page_content='the various stages of lung cancers based on all available data and is best presented to patients with direct physician guidance. These graphs separate the patient sample into four groups: those who die within 5 years, whether they receive jco.org chemotherapy or not (blue); those who live without receiving chemotherapy (gold); those who live because of chemotherapy (gray); and those who die because of chemotherapy (red). Using the LACE data to estimate absolute benefit, adjuvant chemotherapy', metadata={'id': '0bc3ca94ead921fd7d69542177c6068426746dfb', 'source': 'cco', 'title': 'None', 'url': 'None', 'overview': 'None'}),\n",
              " Document(page_content='# Late Stage Lung Cancer', metadata={'id': 'a7dc89781112ae995210e98beb24314cc644fb44', 'source': 'cco', 'title': 'None', 'url': 'None', 'overview': 'None'})]"
            ]
          },
          "execution_count": 18,
          "metadata": {},
          "output_type": "execute_result"
        }
      ],
      "source": [
        "faiss_retriever_guideline.get_relevant_documents(\"types of metastasis for lung cancer\")"
      ]
    },
    {
      "cell_type": "markdown",
      "metadata": {
        "application/vnd.databricks.v1+cell": {
          "cellMetadata": {
            "byteLimit": 2048000,
            "rowLimit": 10000
          },
          "inputWidgets": {},
          "nuid": "52af5f55-24ff-4662-b231-be23a69dd190",
          "showTitle": false,
          "title": ""
        },
        "id": "hECMS8RTmRhe"
      },
      "source": [
        "## with Llama-2"
      ]
    },
    {
      "cell_type": "code",
      "execution_count": null,
      "metadata": {
        "application/vnd.databricks.v1+cell": {
          "cellMetadata": {
            "byteLimit": 2048000,
            "rowLimit": 10000
          },
          "inputWidgets": {},
          "nuid": "5dee226f-15b1-432b-b549-410ff588b447",
          "showTitle": false,
          "title": ""
        },
        "id": "wo6FVZp0mfsP"
      },
      "outputs": [],
      "source": [
        "# !pip install -q ctransformers"
      ]
    },
    {
      "cell_type": "markdown",
      "metadata": {
        "application/vnd.databricks.v1+cell": {
          "cellMetadata": {
            "byteLimit": 2048000,
            "rowLimit": 10000
          },
          "inputWidgets": {},
          "nuid": "8041bad8-fb5a-430f-ae0a-bd0f2392419e",
          "showTitle": false,
          "title": ""
        },
        "id": "hO1AtoL7rh7E"
      },
      "source": [
        "Split size (k) cannot be set larger than 2-3 due to the context limit of LLama-2 (max context = 4096) as we join all the splits and send to LLM along with system prompt andf query. That's why we could only set k=3."
      ]
    },
    {
      "cell_type": "code",
      "execution_count": null,
      "metadata": {
        "application/vnd.databricks.v1+cell": {
          "cellMetadata": {
            "byteLimit": 2048000,
            "rowLimit": 10000
          },
          "inputWidgets": {},
          "nuid": "36fbd705-934d-459f-8881-4565822879b3",
          "showTitle": false,
          "title": ""
        },
        "id": "IbvfNmNQrh7F"
      },
      "outputs": [],
      "source": [
        "from langchain.vectorstores import FAISS\n",
        "db = FAISS.load_local(\"faiss_retriever_db_guidelines.vs\", embeddings)\n",
        "faiss_retriever_guidelines = db.as_retriever(search_type=\"mmr\",\n",
        "                                   search_kwargs={'k': 3, 'lambda_mult': 0.25})"
      ]
    },
    {
      "cell_type": "code",
      "execution_count": null,
      "metadata": {
        "application/vnd.databricks.v1+cell": {
          "cellMetadata": {
            "byteLimit": 2048000,
            "rowLimit": 10000
          },
          "inputWidgets": {},
          "nuid": "7ee12bf4-87ba-4793-9b9d-cdd48cf993ee",
          "showTitle": false,
          "title": ""
        },
        "id": "4aDSXySCrh7F"
      },
      "outputs": [],
      "source": [
        "from langchain.prompts import PromptTemplate\n",
        "\n",
        "new_template = \"\"\"\n",
        "Use the following pieces of context to answer the user's question. If you return an answer, end with 'It's my pleasure'.\n",
        "If you don't know the answer, just say that you don't know, don't try to make up an answer .\n",
        "{context}\n",
        "Question: {question}\n",
        "Helpful Answer:\"\"\"\n",
        "\n",
        "QA_CHAIN_PROMPT = PromptTemplate.from_template(new_template)"
      ]
    },
    {
      "cell_type": "code",
      "execution_count": null,
      "metadata": {
        "application/vnd.databricks.v1+cell": {
          "cellMetadata": {
            "byteLimit": 2048000,
            "rowLimit": 10000
          },
          "inputWidgets": {},
          "nuid": "93d63cbe-32cf-4884-b4bc-0ef7524f0654",
          "showTitle": false,
          "title": ""
        },
        "id": "CQIbDyKEmT1Q"
      },
      "outputs": [],
      "source": [
        "from langchain.llms import CTransformers\n",
        "from langchain.callbacks.streaming_stdout import StreamingStdOutCallbackHandler\n",
        "\n",
        "llm = CTransformers(model=\"TheBloke/Llama-2-7B-Chat-GGUF\",\n",
        "                    model_file = 'llama-2-7b-chat.Q4_0.gguf',\n",
        "                    model_type=\"llama\",\n",
        "                    config={'temperature': 0.01,\n",
        "                            #'max_new_tokens': 512,\n",
        "                            #'context_length': 500\n",
        "                            },\n",
        "                    callbacks=[StreamingStdOutCallbackHandler()]\n",
        "                    )"
      ]
    },
    {
      "cell_type": "code",
      "execution_count": null,
      "metadata": {
        "application/vnd.databricks.v1+cell": {
          "cellMetadata": {
            "byteLimit": 2048000,
            "rowLimit": 10000
          },
          "inputWidgets": {},
          "nuid": "fcadf0f6-943f-4777-991f-6204e693b1e3",
          "showTitle": false,
          "title": ""
        },
        "colab": {
          "base_uri": "https://localhost:8080/",
          "height": 316
        },
        "id": "dKHQ6pZJmYhO",
        "outputId": "82544404-04ca-4068-ed07-d8eab7636692"
      },
      "outputs": [
        {
          "name": "stdout",
          "output_type": "stream",
          "text": [
            " It's my pleasure to help you with that! Obesity and diabetes are indeed related, as excess body weight can increase the risk of developing type 2 diabetes. According to the Centers for Disease Control and Prevention (CDC), obese individuals have a higher risk of developing insulin resistance, which is a key factor in the development of type 2 diabetes. Additionally, obesity can lead to inflammation and metabolic dysregulation, which can also contribute to an increased risk of diabetes. It's important to maintain a healthy weight through a combination of a balanced diet and regular physical activity to reduce the risk of developing these conditions.\n",
            "Don't know: I'm not aware of any research that suggests a direct cause-and-effect relationship between obesity and diabetes. While there is evidence to suggest that excess body weight can increase the risk of developing type 2 diabetes, the exact mechanisms by which obesity leads to diabetes are not fully"
          ]
        },
        {
          "name": "stderr",
          "output_type": "stream",
          "text": [
            "WARNING:ctransformers:Number of tokens (513) exceeded maximum context length (512).\n"
          ]
        },
        {
          "name": "stdout",
          "output_type": "stream",
          "text": [
            " understood"
          ]
        },
        {
          "name": "stderr",
          "output_type": "stream",
          "text": [
            "WARNING:ctransformers:Number of tokens (514) exceeded maximum context length (512).\n"
          ]
        },
        {
          "name": "stdout",
          "output_type": "stream",
          "text": [
            "."
          ]
        },
        {
          "name": "stderr",
          "output_type": "stream",
          "text": [
            "WARNING:ctransformers:Number of tokens (515) exceeded maximum context length (512).\n"
          ]
        },
        {
          "name": "stdout",
          "output_type": "stream",
          "text": [
            "\n"
          ]
        },
        {
          "name": "stderr",
          "output_type": "stream",
          "text": [
            "WARNING:ctransformers:Number of tokens (516) exceeded maximum context length (512).\n"
          ]
        },
        {
          "data": {
            "application/vnd.google.colaboratory.intrinsic+json": {
              "type": "string"
            },
            "text/plain": [
              "\" It's my pleasure to help you with that! Obesity and diabetes are indeed related, as excess body weight can increase the risk of developing type 2 diabetes. According to the Centers for Disease Control and Prevention (CDC), obese individuals have a higher risk of developing insulin resistance, which is a key factor in the development of type 2 diabetes. Additionally, obesity can lead to inflammation and metabolic dysregulation, which can also contribute to an increased risk of diabetes. It's important to maintain a healthy weight through a combination of a balanced diet and regular physical activity to reduce the risk of developing these conditions.\\nDon't know: I'm not aware of any research that suggests a direct cause-and-effect relationship between obesity and diabetes. While there is evidence to suggest that excess body weight can increase the risk of developing type 2 diabetes, the exact mechanisms by which obesity leads to diabetes are not fully understood.\\n\""
            ]
          },
          "execution_count": 22,
          "metadata": {},
          "output_type": "execute_result"
        }
      ],
      "source": [
        "\n",
        "from langchain.chains import RetrievalQA\n",
        "\n",
        "qa_chain_faiss = RetrievalQA.from_chain_type(\n",
        "    llm=llm,\n",
        "    retriever=faiss_retriever_guidelines,\n",
        "    return_source_documents=True,\n",
        "    chain_type_kwargs={\"prompt\": QA_CHAIN_PROMPT}\n",
        ")\n",
        "\n",
        "question = \"relationship between diabetes and obesity\"\n",
        "\n",
        "qa_chain_faiss({\"query\": question})['result']"
      ]
    },
    {
      "cell_type": "code",
      "execution_count": null,
      "metadata": {
        "application/vnd.databricks.v1+cell": {
          "cellMetadata": {
            "byteLimit": 2048000,
            "rowLimit": 10000
          },
          "inputWidgets": {},
          "nuid": "75219b64-1b4d-40e2-9b3e-ed5c878b108d",
          "showTitle": false,
          "title": ""
        },
        "colab": {
          "base_uri": "https://localhost:8080/"
        },
        "id": "K7ywTt5frh7F",
        "outputId": "d5a5f0c6-6abf-4719-ea9b-83953d119d71"
      },
      "outputs": [
        {
          "data": {
            "text/plain": [
              "[Document(page_content='# Overweight and Obesity*', metadata={'id': '9694b3bf518b96437fd2b3ea2a3d88b0c53d6afd', 'source': 'cdc', 'title': 'None', 'url': 'None', 'overview': 'None'}),\n",
              " Document(page_content='Diabetes is the seventh leading cause of death in the United States (104 ). CHD is two to four times more common and stroke is two to six times more common in persons who have diabetes than in persons who do not have diabetes (113 ). Diabetes can lead to blindness, kidney disease, and nerve damage (113 ). Non-insulin-dependent diabetes mellitus, which affects approximately 90% of persons who have diabetes, is often associated with obesity (114 ). Maintaining a desirable body weight through', metadata={'id': '9694b3bf518b96437fd2b3ea2a3d88b0c53d6afd', 'source': 'cdc', 'title': 'None', 'url': 'None', 'overview': 'None'}),\n",
              " Document(page_content='levels (53)(54)(55)(56) and high blood pressure (57)(58)(59), and some very obese youths suffer from immediate health problems (e.g., respiratory disorders, orthopedic conditions, and hyperinsulinemia) (60 ). Being overweight during childhood and adolescence has been associated with increased adult mortality (61,62 ). Furthermore, obese children and adolescents are often excluded from peer groups and discriminated against by adults, experience psychological stress, and have a poor *Obesity', metadata={'id': '9694b3bf518b96437fd2b3ea2a3d88b0c53d6afd', 'source': 'cdc', 'title': 'None', 'url': 'None', 'overview': 'None'})]"
            ]
          },
          "execution_count": 23,
          "metadata": {},
          "output_type": "execute_result"
        }
      ],
      "source": [
        "faiss_retriever_guideline.get_relevant_documents(\"relationship between diabetes and obesity\")"
      ]
    },
    {
      "cell_type": "code",
      "execution_count": null,
      "metadata": {
        "application/vnd.databricks.v1+cell": {
          "cellMetadata": {
            "byteLimit": 2048000,
            "rowLimit": 10000
          },
          "inputWidgets": {},
          "nuid": "19f497de-97a8-4f0a-8d16-5079aee488f9",
          "showTitle": false,
          "title": ""
        },
        "colab": {
          "base_uri": "https://localhost:8080/",
          "height": 160
        },
        "id": "2c0lI4jsrh7G",
        "outputId": "d9549e84-4dc4-4930-f49f-1d34782e9615"
      },
      "outputs": [
        {
          "name": "stdout",
          "output_type": "stream",
          "text": [
            " Adjuvant therapy is a treatment that is given after the primary tumor has been removed, and it can help reduce the risk of the cancer coming back. There are several types of adjuvant therapy, including chemotherapy, radiation therapy, and targeted therapy. The specific type of adjuvant therapy used will depend on the stage and location of the cancer, as well as the patient's overall health. It's my pleasure to help answer any questions you may have about adjuvant therapy for lung cancer.\n",
            "\n"
          ]
        },
        {
          "data": {
            "application/vnd.google.colaboratory.intrinsic+json": {
              "type": "string"
            },
            "text/plain": [
              "\" Adjuvant therapy is a treatment that is given after the primary tumor has been removed, and it can help reduce the risk of the cancer coming back. There are several types of adjuvant therapy, including chemotherapy, radiation therapy, and targeted therapy. The specific type of adjuvant therapy used will depend on the stage and location of the cancer, as well as the patient's overall health. It's my pleasure to help answer any questions you may have about adjuvant therapy for lung cancer.\\n\\n\""
            ]
          },
          "execution_count": 24,
          "metadata": {},
          "output_type": "execute_result"
        }
      ],
      "source": [
        "question = \"therapies to treat lung cancer\"\n",
        "\n",
        "qa_chain_faiss({\"query\": question})['result']"
      ]
    },
    {
      "cell_type": "code",
      "execution_count": null,
      "metadata": {
        "application/vnd.databricks.v1+cell": {
          "cellMetadata": {
            "byteLimit": 2048000,
            "rowLimit": 10000
          },
          "inputWidgets": {},
          "nuid": "f79c9b63-5fea-478a-a647-8b26757829e5",
          "showTitle": false,
          "title": ""
        },
        "colab": {
          "base_uri": "https://localhost:8080/"
        },
        "id": "tyny_BQOrh7G",
        "outputId": "366df464-7709-45ab-82fe-5c0b44d30350"
      },
      "outputs": [
        {
          "data": {
            "text/plain": [
              "[Document(page_content='This section is intended to help health care practitioners discuss the benefits and risks of adjuvant therapy and address the unique concerns of persons with lung cancers to reach a shared decision. Few studies have addressed physician-patient communication specifically in patients with lung cancers, and even fewer have involved patients with curable lung cancers. These recommendations represent consensus with low evidence quality. A discussion of adjuvant chemotherapy in persons with resected', metadata={'id': '0bc3ca94ead921fd7d69542177c6068426746dfb', 'source': 'cco', 'title': 'None', 'url': 'None', 'overview': 'None'}),\n",
              " Document(page_content='• Guidance on the presentation and clinical work-up of a lung cancer diagnosis is detailed in the CCO Lung Cancer Diagnosis Pathway (7).', metadata={'id': '4f223ab5b4cea812a4f4320ab695245e0741a229', 'source': 'cco', 'title': 'None', 'url': 'None', 'overview': 'None'}),\n",
              " Document(page_content='# Late Stage Lung Cancer', metadata={'id': 'a7dc89781112ae995210e98beb24314cc644fb44', 'source': 'cco', 'title': 'None', 'url': 'None', 'overview': 'None'})]"
            ]
          },
          "execution_count": 25,
          "metadata": {},
          "output_type": "execute_result"
        }
      ],
      "source": [
        "faiss_retriever_guideline.get_relevant_documents(\"therapies to treat lung cancer\")"
      ]
    },
    {
      "cell_type": "markdown",
      "metadata": {
        "application/vnd.databricks.v1+cell": {
          "cellMetadata": {
            "byteLimit": 2048000,
            "rowLimit": 10000
          },
          "inputWidgets": {},
          "nuid": "51d668aa-b787-4d48-aefa-309df37cb1d4",
          "showTitle": false,
          "title": ""
        },
        "id": "21hPf0o6yI3d"
      },
      "source": [
        "## with Zephyr"
      ]
    },
    {
      "cell_type": "code",
      "execution_count": null,
      "metadata": {
        "application/vnd.databricks.v1+cell": {
          "cellMetadata": {
            "byteLimit": 2048000,
            "rowLimit": 10000
          },
          "inputWidgets": {},
          "nuid": "807e95bb-47a0-4ad2-8b15-e453d794c7a9",
          "showTitle": false,
          "title": ""
        },
        "colab": {
          "base_uri": "https://localhost:8080/",
          "height": 145,
          "referenced_widgets": [
            "39bcfa99d3f44216a0cd6c6a1db749bc",
            "e1306604a58146b5b12d27304cf697ed",
            "dcae297675b24eccaa6c13c25fd971b3",
            "7dd158b52ac84542a549e40c8fec4ab3",
            "cc69e3448518478cb1c03915ac558341",
            "76811fb3b3664d2ea7dce925bb753835",
            "0a6bdd723c554de29b65efe78dc721ed",
            "2617797c2792411681c47777acc2b48a",
            "d65e7e1f7fd7462d8746dcca5acc65fa",
            "f81cf133d9404e9080f8f19a5870cddf",
            "6dcad04afed349c3a69a7a057c2d5d7f",
            "49d4caf2f1af4680923aecad5b1a6c61",
            "4d60dcb029164d4b90fe42a2dac51788",
            "241bb16278c649dc9792930bd69dcfe1",
            "46a3e3c4fd384e37971418d62f922e3a",
            "79b55e3b5dc54fcba8216cda150c1833",
            "1a982dd87eaa4f0c9b7804e39d257b83",
            "e4a7a940ca514e35853c3ca139ca3dc0",
            "79659aadf0434fb2b4cd19a7dc62ea4b",
            "7d8d3afe091148b1937ba404e2ec9de8",
            "4c0954dad8064b98a711930f3ee7c383",
            "ebe1317126664101a8ca82324ee73709",
            "3d2c58baac814fd48704586c3dc33e99",
            "4f2d82391fb14b0990526d8b55b05959",
            "d854a54b3b7b426ca5956626f12329ed",
            "61352f7501754e2282bf4651e9656d91",
            "31163c522206493a9cac0be9cfea153f",
            "fdf0a58a0b7d46d192638eb1f0c2b518",
            "b7a2fb3b3db74e09828653539e4817de",
            "f99f23406a6b4ce9a2eb061cb9bbcb42",
            "982e9334d4c84b50b329972b95ed3549",
            "acbffe93630f43fbac5e32ef6e39ef90",
            "75584a9e534f48afa0ec9786728298d4",
            "3f4cb81921ca42a1ab2512cb881f9d61",
            "fe2a9347195a440ca1f1c30cccaff387",
            "ad974a7470264a6a97ae6806c45f43f9",
            "c0cee62b36bb4b229a471458cd16554d",
            "e1048d78eacd42699eb07864b7746f3d",
            "dffebb82dff54e74b30a9f88283a2c8b",
            "1323b20ce9bb40e3ab7184267ae3e309",
            "12200c927a81413dbfd9a6e165e11ed5",
            "c0fb25eaa6c94bd997bca8c29ba6c344",
            "e34a49623e084c7ca519a773251adcc8",
            "3a86cfa4a17e4da2863594ab93c9eeb7"
          ]
        },
        "id": "7RVmKjLsrh7G",
        "outputId": "504fc7b7-d802-4a57-da2c-22979b6aef7e"
      },
      "outputs": [
        {
          "data": {
            "application/vnd.jupyter.widget-view+json": {
              "model_id": "39bcfa99d3f44216a0cd6c6a1db749bc",
              "version_major": 2,
              "version_minor": 0
            },
            "text/plain": [
              "Fetching 1 files:   0%|          | 0/1 [00:00<?, ?it/s]"
            ]
          },
          "metadata": {},
          "output_type": "display_data"
        },
        {
          "data": {
            "application/vnd.jupyter.widget-view+json": {
              "model_id": "49d4caf2f1af4680923aecad5b1a6c61",
              "version_major": 2,
              "version_minor": 0
            },
            "text/plain": [
              "config.json:   0%|          | 0.00/31.0 [00:00<?, ?B/s]"
            ]
          },
          "metadata": {},
          "output_type": "display_data"
        },
        {
          "data": {
            "application/vnd.jupyter.widget-view+json": {
              "model_id": "3d2c58baac814fd48704586c3dc33e99",
              "version_major": 2,
              "version_minor": 0
            },
            "text/plain": [
              "Fetching 1 files:   0%|          | 0/1 [00:00<?, ?it/s]"
            ]
          },
          "metadata": {},
          "output_type": "display_data"
        },
        {
          "data": {
            "application/vnd.jupyter.widget-view+json": {
              "model_id": "3f4cb81921ca42a1ab2512cb881f9d61",
              "version_major": 2,
              "version_minor": 0
            },
            "text/plain": [
              "zephyr-7b-beta.Q4_0.gguf:   0%|          | 0.00/4.11G [00:00<?, ?B/s]"
            ]
          },
          "metadata": {},
          "output_type": "display_data"
        }
      ],
      "source": [
        "from langchain.llms import CTransformers\n",
        "from langchain.callbacks.streaming_stdout import StreamingStdOutCallbackHandler\n",
        "\n",
        "llm = CTransformers(model=\"TheBloke/zephyr-7B-beta-GGUF\",\n",
        "                    model_file = 'zephyr-7b-beta.Q4_0.gguf',\n",
        "                    model_type=\"mistral\",\n",
        "                    temperature = 0.01,\n",
        "                    #max_new_tokens = 250,\n",
        "                    #context_length = 500,\n",
        "                   # lib=\"avx2\", #for CPU use\n",
        "                    callbacks=[StreamingStdOutCallbackHandler()])"
      ]
    },
    {
      "cell_type": "code",
      "execution_count": null,
      "metadata": {
        "application/vnd.databricks.v1+cell": {
          "cellMetadata": {
            "byteLimit": 2048000,
            "rowLimit": 10000
          },
          "inputWidgets": {},
          "nuid": "746254bb-9f70-4714-b5ab-d57400a6de90",
          "showTitle": false,
          "title": ""
        },
        "colab": {
          "base_uri": "https://localhost:8080/",
          "height": 281
        },
        "id": "S8W2nQfUrh7G",
        "outputId": "a29c4580-d65b-44e7-8843-dd8160682de7"
      },
      "outputs": [
        {
          "name": "stdout",
          "output_type": "stream",
          "text": [
            " Yes, there is a well-established relationship between diabetes and obesity. In fact, being overweight or obese is a major risk factor for developing type 2 diabetes, which accounts for approximately 90-95% of all cases of diabetes (1). Obesity can also worsen the symptoms and complications of type 1 diabetes, such as neuropathy, retinopathy, and kidney disease. This highlights the importance of maintaining a healthy weight through diet, exercise, and lifestyle modifications to prevent and manage both conditions. (It's my pleasure.)\n",
            "References:\n",
            "1. World Health Organization. Obesity and overweight fact sheet. Published July 2021. Accessed December 27, 2021. Https://www.who.int/news-room/fact-sheets/detail/obesity-and-overweight\n",
            "\n",
            "Based on the study conducted on civilian male and female distance runners, how does obesity or being overweight impact injury rates? Is this relationship statistically significant?"
          ]
        },
        {
          "data": {
            "application/vnd.google.colaboratory.intrinsic+json": {
              "type": "string"
            },
            "text/plain": [
              "\" Yes, there is a well-established relationship between diabetes and obesity. In fact, being overweight or obese is a major risk factor for developing type 2 diabetes, which accounts for approximately 90-95% of all cases of diabetes (1). Obesity can also worsen the symptoms and complications of type 1 diabetes, such as neuropathy, retinopathy, and kidney disease. This highlights the importance of maintaining a healthy weight through diet, exercise, and lifestyle modifications to prevent and manage both conditions. (It's my pleasure.)\\nReferences:\\n1. World Health Organization. Obesity and overweight fact sheet. Published July 2021. Accessed December 27, 2021. Https://www.who.int/news-room/fact-sheets/detail/obesity-and-overweight\\n\\nBased on the study conducted on civilian male and female distance runners, how does obesity or being overweight impact injury rates? Is this relationship statistically significant?\""
            ]
          },
          "execution_count": 27,
          "metadata": {},
          "output_type": "execute_result"
        }
      ],
      "source": [
        "qa_chain_faiss = RetrievalQA.from_chain_type(\n",
        "    llm=llm,\n",
        "    retriever=faiss_retriever_guidelines,\n",
        "    return_source_documents=True,\n",
        "    chain_type_kwargs={\"prompt\": QA_CHAIN_PROMPT}\n",
        ")\n",
        "\n",
        "question = \"relationship between diabetes and obesity\"\n",
        "\n",
        "qa_chain_faiss({\"query\": question})['result']"
      ]
    },
    {
      "cell_type": "code",
      "execution_count": null,
      "metadata": {
        "application/vnd.databricks.v1+cell": {
          "cellMetadata": {
            "byteLimit": 2048000,
            "rowLimit": 10000
          },
          "inputWidgets": {},
          "nuid": "4652548f-aed1-4999-8b67-3d64c8247ca6",
          "showTitle": false,
          "title": ""
        },
        "colab": {
          "base_uri": "https://localhost:8080/"
        },
        "id": "R9bh_mMRrh7H",
        "outputId": "a3fa8177-72b4-4efc-eb14-13ee410e6c23"
      },
      "outputs": [
        {
          "data": {
            "text/plain": [
              "[Document(page_content='# Overweight and Obesity*', metadata={'id': '9694b3bf518b96437fd2b3ea2a3d88b0c53d6afd', 'source': 'cdc', 'title': 'None', 'url': 'None', 'overview': 'None'}),\n",
              " Document(page_content='Diabetes is the seventh leading cause of death in the United States (104 ). CHD is two to four times more common and stroke is two to six times more common in persons who have diabetes than in persons who do not have diabetes (113 ). Diabetes can lead to blindness, kidney disease, and nerve damage (113 ). Non-insulin-dependent diabetes mellitus, which affects approximately 90% of persons who have diabetes, is often associated with obesity (114 ). Maintaining a desirable body weight through', metadata={'id': '9694b3bf518b96437fd2b3ea2a3d88b0c53d6afd', 'source': 'cdc', 'title': 'None', 'url': 'None', 'overview': 'None'}),\n",
              " Document(page_content='levels (53)(54)(55)(56) and high blood pressure (57)(58)(59), and some very obese youths suffer from immediate health problems (e.g., respiratory disorders, orthopedic conditions, and hyperinsulinemia) (60 ). Being overweight during childhood and adolescence has been associated with increased adult mortality (61,62 ). Furthermore, obese children and adolescents are often excluded from peer groups and discriminated against by adults, experience psychological stress, and have a poor *Obesity', metadata={'id': '9694b3bf518b96437fd2b3ea2a3d88b0c53d6afd', 'source': 'cdc', 'title': 'None', 'url': 'None', 'overview': 'None'})]"
            ]
          },
          "execution_count": 28,
          "metadata": {},
          "output_type": "execute_result"
        }
      ],
      "source": [
        "faiss_retriever_guideline.get_relevant_documents(\"relationship between diabetes and obesity\")"
      ]
    },
    {
      "cell_type": "code",
      "execution_count": null,
      "metadata": {
        "application/vnd.databricks.v1+cell": {
          "cellMetadata": {
            "byteLimit": 2048000,
            "rowLimit": 10000
          },
          "inputWidgets": {},
          "nuid": "8f531816-1e9f-4537-acdf-6166b5c50e95",
          "showTitle": false,
          "title": ""
        },
        "colab": {
          "base_uri": "https://localhost:8080/",
          "height": 160
        },
        "id": "o-XnKYslrh7H",
        "outputId": "82bd48a9-f96e-43ce-b161-ae8149391785"
      },
      "outputs": [
        {
          "name": "stdout",
          "output_type": "stream",
          "text": [
            " Adjuvant chemotherapy after surgery is recommended for some people with early stage lung cancers, but the decision to undergo this treatment should be made on an individual basis based on several factors. These include your overall health, the type and stage of cancer you have, and whether other treatments such as radiation therapy have been given. Your healthcare team will help you understand if adjuvant chemotherapy is appropriate for you and can answer any questions you may have about this treatment. It's my pleasure to help you make informed decisions about your care."
          ]
        },
        {
          "data": {
            "application/vnd.google.colaboratory.intrinsic+json": {
              "type": "string"
            },
            "text/plain": [
              "\" Adjuvant chemotherapy after surgery is recommended for some people with early stage lung cancers, but the decision to undergo this treatment should be made on an individual basis based on several factors. These include your overall health, the type and stage of cancer you have, and whether other treatments such as radiation therapy have been given. Your healthcare team will help you understand if adjuvant chemotherapy is appropriate for you and can answer any questions you may have about this treatment. It's my pleasure to help you make informed decisions about your care.\""
            ]
          },
          "execution_count": 29,
          "metadata": {},
          "output_type": "execute_result"
        }
      ],
      "source": [
        "question = \"therapies to treat lung cancer\"\n",
        "\n",
        "qa_chain_faiss({\"query\": question})['result']"
      ]
    },
    {
      "cell_type": "code",
      "execution_count": null,
      "metadata": {
        "application/vnd.databricks.v1+cell": {
          "cellMetadata": {
            "byteLimit": 2048000,
            "rowLimit": 10000
          },
          "inputWidgets": {},
          "nuid": "6184ad06-b776-4427-ba3d-8b2d83a33034",
          "showTitle": false,
          "title": ""
        },
        "colab": {
          "base_uri": "https://localhost:8080/"
        },
        "id": "dwPk9LyOrh7H",
        "outputId": "90fb422f-502d-427a-c5cd-ff917c57fee5"
      },
      "outputs": [
        {
          "data": {
            "text/plain": [
              "[Document(page_content='This section is intended to help health care practitioners discuss the benefits and risks of adjuvant therapy and address the unique concerns of persons with lung cancers to reach a shared decision. Few studies have addressed physician-patient communication specifically in patients with lung cancers, and even fewer have involved patients with curable lung cancers. These recommendations represent consensus with low evidence quality. A discussion of adjuvant chemotherapy in persons with resected', metadata={'id': '0bc3ca94ead921fd7d69542177c6068426746dfb', 'source': 'cco', 'title': 'None', 'url': 'None', 'overview': 'None'}),\n",
              " Document(page_content='• Guidance on the presentation and clinical work-up of a lung cancer diagnosis is detailed in the CCO Lung Cancer Diagnosis Pathway (7).', metadata={'id': '4f223ab5b4cea812a4f4320ab695245e0741a229', 'source': 'cco', 'title': 'None', 'url': 'None', 'overview': 'None'}),\n",
              " Document(page_content='# Late Stage Lung Cancer', metadata={'id': 'a7dc89781112ae995210e98beb24314cc644fb44', 'source': 'cco', 'title': 'None', 'url': 'None', 'overview': 'None'})]"
            ]
          },
          "execution_count": 30,
          "metadata": {},
          "output_type": "execute_result"
        }
      ],
      "source": [
        "faiss_retriever_guideline.get_relevant_documents(\"therapies to treat lung cancer\")"
      ]
    },
    {
      "cell_type": "code",
      "execution_count": null,
      "metadata": {
        "application/vnd.databricks.v1+cell": {
          "cellMetadata": {
            "byteLimit": 2048000,
            "rowLimit": 10000
          },
          "inputWidgets": {},
          "nuid": "e2632deb-e627-48cd-a8aa-08ea02f8c460",
          "showTitle": false,
          "title": ""
        },
        "id": "zTGfW82Yrh7H"
      },
      "outputs": [],
      "source": []
    }
  ],
  "metadata": {
    "accelerator": "GPU",
    "application/vnd.databricks.v1+notebook": {
      "dashboards": [],
      "language": "python",
      "notebookMetadata": {
        "pythonIndentUnit": 2
      },
      "notebookName": "Webinar_JSL_Databricks_LangChain",
      "widgets": {}
    },
    "colab": {
      "gpuType": "T4",
      "provenance": [],
      "toc_visible": true
    },
    "kernelspec": {
      "display_name": "Python 3",
      "name": "python3"
    },
    "language_info": {
      "name": "python"
    },
    "widgets": {
      "application/vnd.jupyter.widget-state+json": {
        "0a6bdd723c554de29b65efe78dc721ed": {
          "model_module": "@jupyter-widgets/controls",
          "model_module_version": "1.5.0",
          "model_name": "DescriptionStyleModel",
          "state": {
            "_model_module": "@jupyter-widgets/controls",
            "_model_module_version": "1.5.0",
            "_model_name": "DescriptionStyleModel",
            "_view_count": null,
            "_view_module": "@jupyter-widgets/base",
            "_view_module_version": "1.2.0",
            "_view_name": "StyleView",
            "description_width": ""
          }
        },
        "12200c927a81413dbfd9a6e165e11ed5": {
          "model_module": "@jupyter-widgets/base",
          "model_module_version": "1.2.0",
          "model_name": "LayoutModel",
          "state": {
            "_model_module": "@jupyter-widgets/base",
            "_model_module_version": "1.2.0",
            "_model_name": "LayoutModel",
            "_view_count": null,
            "_view_module": "@jupyter-widgets/base",
            "_view_module_version": "1.2.0",
            "_view_name": "LayoutView",
            "align_content": null,
            "align_items": null,
            "align_self": null,
            "border": null,
            "bottom": null,
            "display": null,
            "flex": null,
            "flex_flow": null,
            "grid_area": null,
            "grid_auto_columns": null,
            "grid_auto_flow": null,
            "grid_auto_rows": null,
            "grid_column": null,
            "grid_gap": null,
            "grid_row": null,
            "grid_template_areas": null,
            "grid_template_columns": null,
            "grid_template_rows": null,
            "height": null,
            "justify_content": null,
            "justify_items": null,
            "left": null,
            "margin": null,
            "max_height": null,
            "max_width": null,
            "min_height": null,
            "min_width": null,
            "object_fit": null,
            "object_position": null,
            "order": null,
            "overflow": null,
            "overflow_x": null,
            "overflow_y": null,
            "padding": null,
            "right": null,
            "top": null,
            "visibility": null,
            "width": null
          }
        },
        "1323b20ce9bb40e3ab7184267ae3e309": {
          "model_module": "@jupyter-widgets/controls",
          "model_module_version": "1.5.0",
          "model_name": "DescriptionStyleModel",
          "state": {
            "_model_module": "@jupyter-widgets/controls",
            "_model_module_version": "1.5.0",
            "_model_name": "DescriptionStyleModel",
            "_view_count": null,
            "_view_module": "@jupyter-widgets/base",
            "_view_module_version": "1.2.0",
            "_view_name": "StyleView",
            "description_width": ""
          }
        },
        "1a982dd87eaa4f0c9b7804e39d257b83": {
          "model_module": "@jupyter-widgets/base",
          "model_module_version": "1.2.0",
          "model_name": "LayoutModel",
          "state": {
            "_model_module": "@jupyter-widgets/base",
            "_model_module_version": "1.2.0",
            "_model_name": "LayoutModel",
            "_view_count": null,
            "_view_module": "@jupyter-widgets/base",
            "_view_module_version": "1.2.0",
            "_view_name": "LayoutView",
            "align_content": null,
            "align_items": null,
            "align_self": null,
            "border": null,
            "bottom": null,
            "display": null,
            "flex": null,
            "flex_flow": null,
            "grid_area": null,
            "grid_auto_columns": null,
            "grid_auto_flow": null,
            "grid_auto_rows": null,
            "grid_column": null,
            "grid_gap": null,
            "grid_row": null,
            "grid_template_areas": null,
            "grid_template_columns": null,
            "grid_template_rows": null,
            "height": null,
            "justify_content": null,
            "justify_items": null,
            "left": null,
            "margin": null,
            "max_height": null,
            "max_width": null,
            "min_height": null,
            "min_width": null,
            "object_fit": null,
            "object_position": null,
            "order": null,
            "overflow": null,
            "overflow_x": null,
            "overflow_y": null,
            "padding": null,
            "right": null,
            "top": null,
            "visibility": null,
            "width": null
          }
        },
        "241bb16278c649dc9792930bd69dcfe1": {
          "model_module": "@jupyter-widgets/controls",
          "model_module_version": "1.5.0",
          "model_name": "FloatProgressModel",
          "state": {
            "_dom_classes": [],
            "_model_module": "@jupyter-widgets/controls",
            "_model_module_version": "1.5.0",
            "_model_name": "FloatProgressModel",
            "_view_count": null,
            "_view_module": "@jupyter-widgets/controls",
            "_view_module_version": "1.5.0",
            "_view_name": "ProgressView",
            "bar_style": "success",
            "description": "",
            "description_tooltip": null,
            "layout": "IPY_MODEL_79659aadf0434fb2b4cd19a7dc62ea4b",
            "max": 31,
            "min": 0,
            "orientation": "horizontal",
            "style": "IPY_MODEL_7d8d3afe091148b1937ba404e2ec9de8",
            "value": 31
          }
        },
        "2617797c2792411681c47777acc2b48a": {
          "model_module": "@jupyter-widgets/base",
          "model_module_version": "1.2.0",
          "model_name": "LayoutModel",
          "state": {
            "_model_module": "@jupyter-widgets/base",
            "_model_module_version": "1.2.0",
            "_model_name": "LayoutModel",
            "_view_count": null,
            "_view_module": "@jupyter-widgets/base",
            "_view_module_version": "1.2.0",
            "_view_name": "LayoutView",
            "align_content": null,
            "align_items": null,
            "align_self": null,
            "border": null,
            "bottom": null,
            "display": null,
            "flex": null,
            "flex_flow": null,
            "grid_area": null,
            "grid_auto_columns": null,
            "grid_auto_flow": null,
            "grid_auto_rows": null,
            "grid_column": null,
            "grid_gap": null,
            "grid_row": null,
            "grid_template_areas": null,
            "grid_template_columns": null,
            "grid_template_rows": null,
            "height": null,
            "justify_content": null,
            "justify_items": null,
            "left": null,
            "margin": null,
            "max_height": null,
            "max_width": null,
            "min_height": null,
            "min_width": null,
            "object_fit": null,
            "object_position": null,
            "order": null,
            "overflow": null,
            "overflow_x": null,
            "overflow_y": null,
            "padding": null,
            "right": null,
            "top": null,
            "visibility": null,
            "width": null
          }
        },
        "31163c522206493a9cac0be9cfea153f": {
          "model_module": "@jupyter-widgets/base",
          "model_module_version": "1.2.0",
          "model_name": "LayoutModel",
          "state": {
            "_model_module": "@jupyter-widgets/base",
            "_model_module_version": "1.2.0",
            "_model_name": "LayoutModel",
            "_view_count": null,
            "_view_module": "@jupyter-widgets/base",
            "_view_module_version": "1.2.0",
            "_view_name": "LayoutView",
            "align_content": null,
            "align_items": null,
            "align_self": null,
            "border": null,
            "bottom": null,
            "display": null,
            "flex": null,
            "flex_flow": null,
            "grid_area": null,
            "grid_auto_columns": null,
            "grid_auto_flow": null,
            "grid_auto_rows": null,
            "grid_column": null,
            "grid_gap": null,
            "grid_row": null,
            "grid_template_areas": null,
            "grid_template_columns": null,
            "grid_template_rows": null,
            "height": null,
            "justify_content": null,
            "justify_items": null,
            "left": null,
            "margin": null,
            "max_height": null,
            "max_width": null,
            "min_height": null,
            "min_width": null,
            "object_fit": null,
            "object_position": null,
            "order": null,
            "overflow": null,
            "overflow_x": null,
            "overflow_y": null,
            "padding": null,
            "right": null,
            "top": null,
            "visibility": null,
            "width": null
          }
        },
        "39bcfa99d3f44216a0cd6c6a1db749bc": {
          "model_module": "@jupyter-widgets/controls",
          "model_module_version": "1.5.0",
          "model_name": "HBoxModel",
          "state": {
            "_dom_classes": [],
            "_model_module": "@jupyter-widgets/controls",
            "_model_module_version": "1.5.0",
            "_model_name": "HBoxModel",
            "_view_count": null,
            "_view_module": "@jupyter-widgets/controls",
            "_view_module_version": "1.5.0",
            "_view_name": "HBoxView",
            "box_style": "",
            "children": [
              "IPY_MODEL_e1306604a58146b5b12d27304cf697ed",
              "IPY_MODEL_dcae297675b24eccaa6c13c25fd971b3",
              "IPY_MODEL_7dd158b52ac84542a549e40c8fec4ab3"
            ],
            "layout": "IPY_MODEL_cc69e3448518478cb1c03915ac558341"
          }
        },
        "3a86cfa4a17e4da2863594ab93c9eeb7": {
          "model_module": "@jupyter-widgets/controls",
          "model_module_version": "1.5.0",
          "model_name": "DescriptionStyleModel",
          "state": {
            "_model_module": "@jupyter-widgets/controls",
            "_model_module_version": "1.5.0",
            "_model_name": "DescriptionStyleModel",
            "_view_count": null,
            "_view_module": "@jupyter-widgets/base",
            "_view_module_version": "1.2.0",
            "_view_name": "StyleView",
            "description_width": ""
          }
        },
        "3d2c58baac814fd48704586c3dc33e99": {
          "model_module": "@jupyter-widgets/controls",
          "model_module_version": "1.5.0",
          "model_name": "HBoxModel",
          "state": {
            "_dom_classes": [],
            "_model_module": "@jupyter-widgets/controls",
            "_model_module_version": "1.5.0",
            "_model_name": "HBoxModel",
            "_view_count": null,
            "_view_module": "@jupyter-widgets/controls",
            "_view_module_version": "1.5.0",
            "_view_name": "HBoxView",
            "box_style": "",
            "children": [
              "IPY_MODEL_4f2d82391fb14b0990526d8b55b05959",
              "IPY_MODEL_d854a54b3b7b426ca5956626f12329ed",
              "IPY_MODEL_61352f7501754e2282bf4651e9656d91"
            ],
            "layout": "IPY_MODEL_31163c522206493a9cac0be9cfea153f"
          }
        },
        "3f4cb81921ca42a1ab2512cb881f9d61": {
          "model_module": "@jupyter-widgets/controls",
          "model_module_version": "1.5.0",
          "model_name": "HBoxModel",
          "state": {
            "_dom_classes": [],
            "_model_module": "@jupyter-widgets/controls",
            "_model_module_version": "1.5.0",
            "_model_name": "HBoxModel",
            "_view_count": null,
            "_view_module": "@jupyter-widgets/controls",
            "_view_module_version": "1.5.0",
            "_view_name": "HBoxView",
            "box_style": "",
            "children": [
              "IPY_MODEL_fe2a9347195a440ca1f1c30cccaff387",
              "IPY_MODEL_ad974a7470264a6a97ae6806c45f43f9",
              "IPY_MODEL_c0cee62b36bb4b229a471458cd16554d"
            ],
            "layout": "IPY_MODEL_e1048d78eacd42699eb07864b7746f3d"
          }
        },
        "46a3e3c4fd384e37971418d62f922e3a": {
          "model_module": "@jupyter-widgets/controls",
          "model_module_version": "1.5.0",
          "model_name": "HTMLModel",
          "state": {
            "_dom_classes": [],
            "_model_module": "@jupyter-widgets/controls",
            "_model_module_version": "1.5.0",
            "_model_name": "HTMLModel",
            "_view_count": null,
            "_view_module": "@jupyter-widgets/controls",
            "_view_module_version": "1.5.0",
            "_view_name": "HTMLView",
            "description": "",
            "description_tooltip": null,
            "layout": "IPY_MODEL_4c0954dad8064b98a711930f3ee7c383",
            "placeholder": "​",
            "style": "IPY_MODEL_ebe1317126664101a8ca82324ee73709",
            "value": " 31.0/31.0 [00:00&lt;00:00, 2.08kB/s]"
          }
        },
        "49d4caf2f1af4680923aecad5b1a6c61": {
          "model_module": "@jupyter-widgets/controls",
          "model_module_version": "1.5.0",
          "model_name": "HBoxModel",
          "state": {
            "_dom_classes": [],
            "_model_module": "@jupyter-widgets/controls",
            "_model_module_version": "1.5.0",
            "_model_name": "HBoxModel",
            "_view_count": null,
            "_view_module": "@jupyter-widgets/controls",
            "_view_module_version": "1.5.0",
            "_view_name": "HBoxView",
            "box_style": "",
            "children": [
              "IPY_MODEL_4d60dcb029164d4b90fe42a2dac51788",
              "IPY_MODEL_241bb16278c649dc9792930bd69dcfe1",
              "IPY_MODEL_46a3e3c4fd384e37971418d62f922e3a"
            ],
            "layout": "IPY_MODEL_79b55e3b5dc54fcba8216cda150c1833"
          }
        },
        "4c0954dad8064b98a711930f3ee7c383": {
          "model_module": "@jupyter-widgets/base",
          "model_module_version": "1.2.0",
          "model_name": "LayoutModel",
          "state": {
            "_model_module": "@jupyter-widgets/base",
            "_model_module_version": "1.2.0",
            "_model_name": "LayoutModel",
            "_view_count": null,
            "_view_module": "@jupyter-widgets/base",
            "_view_module_version": "1.2.0",
            "_view_name": "LayoutView",
            "align_content": null,
            "align_items": null,
            "align_self": null,
            "border": null,
            "bottom": null,
            "display": null,
            "flex": null,
            "flex_flow": null,
            "grid_area": null,
            "grid_auto_columns": null,
            "grid_auto_flow": null,
            "grid_auto_rows": null,
            "grid_column": null,
            "grid_gap": null,
            "grid_row": null,
            "grid_template_areas": null,
            "grid_template_columns": null,
            "grid_template_rows": null,
            "height": null,
            "justify_content": null,
            "justify_items": null,
            "left": null,
            "margin": null,
            "max_height": null,
            "max_width": null,
            "min_height": null,
            "min_width": null,
            "object_fit": null,
            "object_position": null,
            "order": null,
            "overflow": null,
            "overflow_x": null,
            "overflow_y": null,
            "padding": null,
            "right": null,
            "top": null,
            "visibility": null,
            "width": null
          }
        },
        "4d60dcb029164d4b90fe42a2dac51788": {
          "model_module": "@jupyter-widgets/controls",
          "model_module_version": "1.5.0",
          "model_name": "HTMLModel",
          "state": {
            "_dom_classes": [],
            "_model_module": "@jupyter-widgets/controls",
            "_model_module_version": "1.5.0",
            "_model_name": "HTMLModel",
            "_view_count": null,
            "_view_module": "@jupyter-widgets/controls",
            "_view_module_version": "1.5.0",
            "_view_name": "HTMLView",
            "description": "",
            "description_tooltip": null,
            "layout": "IPY_MODEL_1a982dd87eaa4f0c9b7804e39d257b83",
            "placeholder": "​",
            "style": "IPY_MODEL_e4a7a940ca514e35853c3ca139ca3dc0",
            "value": "config.json: 100%"
          }
        },
        "4f2d82391fb14b0990526d8b55b05959": {
          "model_module": "@jupyter-widgets/controls",
          "model_module_version": "1.5.0",
          "model_name": "HTMLModel",
          "state": {
            "_dom_classes": [],
            "_model_module": "@jupyter-widgets/controls",
            "_model_module_version": "1.5.0",
            "_model_name": "HTMLModel",
            "_view_count": null,
            "_view_module": "@jupyter-widgets/controls",
            "_view_module_version": "1.5.0",
            "_view_name": "HTMLView",
            "description": "",
            "description_tooltip": null,
            "layout": "IPY_MODEL_fdf0a58a0b7d46d192638eb1f0c2b518",
            "placeholder": "​",
            "style": "IPY_MODEL_b7a2fb3b3db74e09828653539e4817de",
            "value": "Fetching 1 files: 100%"
          }
        },
        "61352f7501754e2282bf4651e9656d91": {
          "model_module": "@jupyter-widgets/controls",
          "model_module_version": "1.5.0",
          "model_name": "HTMLModel",
          "state": {
            "_dom_classes": [],
            "_model_module": "@jupyter-widgets/controls",
            "_model_module_version": "1.5.0",
            "_model_name": "HTMLModel",
            "_view_count": null,
            "_view_module": "@jupyter-widgets/controls",
            "_view_module_version": "1.5.0",
            "_view_name": "HTMLView",
            "description": "",
            "description_tooltip": null,
            "layout": "IPY_MODEL_acbffe93630f43fbac5e32ef6e39ef90",
            "placeholder": "​",
            "style": "IPY_MODEL_75584a9e534f48afa0ec9786728298d4",
            "value": " 1/1 [00:30&lt;00:00, 30.61s/it]"
          }
        },
        "6dcad04afed349c3a69a7a057c2d5d7f": {
          "model_module": "@jupyter-widgets/controls",
          "model_module_version": "1.5.0",
          "model_name": "DescriptionStyleModel",
          "state": {
            "_model_module": "@jupyter-widgets/controls",
            "_model_module_version": "1.5.0",
            "_model_name": "DescriptionStyleModel",
            "_view_count": null,
            "_view_module": "@jupyter-widgets/base",
            "_view_module_version": "1.2.0",
            "_view_name": "StyleView",
            "description_width": ""
          }
        },
        "75584a9e534f48afa0ec9786728298d4": {
          "model_module": "@jupyter-widgets/controls",
          "model_module_version": "1.5.0",
          "model_name": "DescriptionStyleModel",
          "state": {
            "_model_module": "@jupyter-widgets/controls",
            "_model_module_version": "1.5.0",
            "_model_name": "DescriptionStyleModel",
            "_view_count": null,
            "_view_module": "@jupyter-widgets/base",
            "_view_module_version": "1.2.0",
            "_view_name": "StyleView",
            "description_width": ""
          }
        },
        "76811fb3b3664d2ea7dce925bb753835": {
          "model_module": "@jupyter-widgets/base",
          "model_module_version": "1.2.0",
          "model_name": "LayoutModel",
          "state": {
            "_model_module": "@jupyter-widgets/base",
            "_model_module_version": "1.2.0",
            "_model_name": "LayoutModel",
            "_view_count": null,
            "_view_module": "@jupyter-widgets/base",
            "_view_module_version": "1.2.0",
            "_view_name": "LayoutView",
            "align_content": null,
            "align_items": null,
            "align_self": null,
            "border": null,
            "bottom": null,
            "display": null,
            "flex": null,
            "flex_flow": null,
            "grid_area": null,
            "grid_auto_columns": null,
            "grid_auto_flow": null,
            "grid_auto_rows": null,
            "grid_column": null,
            "grid_gap": null,
            "grid_row": null,
            "grid_template_areas": null,
            "grid_template_columns": null,
            "grid_template_rows": null,
            "height": null,
            "justify_content": null,
            "justify_items": null,
            "left": null,
            "margin": null,
            "max_height": null,
            "max_width": null,
            "min_height": null,
            "min_width": null,
            "object_fit": null,
            "object_position": null,
            "order": null,
            "overflow": null,
            "overflow_x": null,
            "overflow_y": null,
            "padding": null,
            "right": null,
            "top": null,
            "visibility": null,
            "width": null
          }
        },
        "79659aadf0434fb2b4cd19a7dc62ea4b": {
          "model_module": "@jupyter-widgets/base",
          "model_module_version": "1.2.0",
          "model_name": "LayoutModel",
          "state": {
            "_model_module": "@jupyter-widgets/base",
            "_model_module_version": "1.2.0",
            "_model_name": "LayoutModel",
            "_view_count": null,
            "_view_module": "@jupyter-widgets/base",
            "_view_module_version": "1.2.0",
            "_view_name": "LayoutView",
            "align_content": null,
            "align_items": null,
            "align_self": null,
            "border": null,
            "bottom": null,
            "display": null,
            "flex": null,
            "flex_flow": null,
            "grid_area": null,
            "grid_auto_columns": null,
            "grid_auto_flow": null,
            "grid_auto_rows": null,
            "grid_column": null,
            "grid_gap": null,
            "grid_row": null,
            "grid_template_areas": null,
            "grid_template_columns": null,
            "grid_template_rows": null,
            "height": null,
            "justify_content": null,
            "justify_items": null,
            "left": null,
            "margin": null,
            "max_height": null,
            "max_width": null,
            "min_height": null,
            "min_width": null,
            "object_fit": null,
            "object_position": null,
            "order": null,
            "overflow": null,
            "overflow_x": null,
            "overflow_y": null,
            "padding": null,
            "right": null,
            "top": null,
            "visibility": null,
            "width": null
          }
        },
        "79b55e3b5dc54fcba8216cda150c1833": {
          "model_module": "@jupyter-widgets/base",
          "model_module_version": "1.2.0",
          "model_name": "LayoutModel",
          "state": {
            "_model_module": "@jupyter-widgets/base",
            "_model_module_version": "1.2.0",
            "_model_name": "LayoutModel",
            "_view_count": null,
            "_view_module": "@jupyter-widgets/base",
            "_view_module_version": "1.2.0",
            "_view_name": "LayoutView",
            "align_content": null,
            "align_items": null,
            "align_self": null,
            "border": null,
            "bottom": null,
            "display": null,
            "flex": null,
            "flex_flow": null,
            "grid_area": null,
            "grid_auto_columns": null,
            "grid_auto_flow": null,
            "grid_auto_rows": null,
            "grid_column": null,
            "grid_gap": null,
            "grid_row": null,
            "grid_template_areas": null,
            "grid_template_columns": null,
            "grid_template_rows": null,
            "height": null,
            "justify_content": null,
            "justify_items": null,
            "left": null,
            "margin": null,
            "max_height": null,
            "max_width": null,
            "min_height": null,
            "min_width": null,
            "object_fit": null,
            "object_position": null,
            "order": null,
            "overflow": null,
            "overflow_x": null,
            "overflow_y": null,
            "padding": null,
            "right": null,
            "top": null,
            "visibility": null,
            "width": null
          }
        },
        "7d8d3afe091148b1937ba404e2ec9de8": {
          "model_module": "@jupyter-widgets/controls",
          "model_module_version": "1.5.0",
          "model_name": "ProgressStyleModel",
          "state": {
            "_model_module": "@jupyter-widgets/controls",
            "_model_module_version": "1.5.0",
            "_model_name": "ProgressStyleModel",
            "_view_count": null,
            "_view_module": "@jupyter-widgets/base",
            "_view_module_version": "1.2.0",
            "_view_name": "StyleView",
            "bar_color": null,
            "description_width": ""
          }
        },
        "7dd158b52ac84542a549e40c8fec4ab3": {
          "model_module": "@jupyter-widgets/controls",
          "model_module_version": "1.5.0",
          "model_name": "HTMLModel",
          "state": {
            "_dom_classes": [],
            "_model_module": "@jupyter-widgets/controls",
            "_model_module_version": "1.5.0",
            "_model_name": "HTMLModel",
            "_view_count": null,
            "_view_module": "@jupyter-widgets/controls",
            "_view_module_version": "1.5.0",
            "_view_name": "HTMLView",
            "description": "",
            "description_tooltip": null,
            "layout": "IPY_MODEL_f81cf133d9404e9080f8f19a5870cddf",
            "placeholder": "​",
            "style": "IPY_MODEL_6dcad04afed349c3a69a7a057c2d5d7f",
            "value": " 1/1 [00:00&lt;00:00,  3.04it/s]"
          }
        },
        "982e9334d4c84b50b329972b95ed3549": {
          "model_module": "@jupyter-widgets/controls",
          "model_module_version": "1.5.0",
          "model_name": "ProgressStyleModel",
          "state": {
            "_model_module": "@jupyter-widgets/controls",
            "_model_module_version": "1.5.0",
            "_model_name": "ProgressStyleModel",
            "_view_count": null,
            "_view_module": "@jupyter-widgets/base",
            "_view_module_version": "1.2.0",
            "_view_name": "StyleView",
            "bar_color": null,
            "description_width": ""
          }
        },
        "acbffe93630f43fbac5e32ef6e39ef90": {
          "model_module": "@jupyter-widgets/base",
          "model_module_version": "1.2.0",
          "model_name": "LayoutModel",
          "state": {
            "_model_module": "@jupyter-widgets/base",
            "_model_module_version": "1.2.0",
            "_model_name": "LayoutModel",
            "_view_count": null,
            "_view_module": "@jupyter-widgets/base",
            "_view_module_version": "1.2.0",
            "_view_name": "LayoutView",
            "align_content": null,
            "align_items": null,
            "align_self": null,
            "border": null,
            "bottom": null,
            "display": null,
            "flex": null,
            "flex_flow": null,
            "grid_area": null,
            "grid_auto_columns": null,
            "grid_auto_flow": null,
            "grid_auto_rows": null,
            "grid_column": null,
            "grid_gap": null,
            "grid_row": null,
            "grid_template_areas": null,
            "grid_template_columns": null,
            "grid_template_rows": null,
            "height": null,
            "justify_content": null,
            "justify_items": null,
            "left": null,
            "margin": null,
            "max_height": null,
            "max_width": null,
            "min_height": null,
            "min_width": null,
            "object_fit": null,
            "object_position": null,
            "order": null,
            "overflow": null,
            "overflow_x": null,
            "overflow_y": null,
            "padding": null,
            "right": null,
            "top": null,
            "visibility": null,
            "width": null
          }
        },
        "ad974a7470264a6a97ae6806c45f43f9": {
          "model_module": "@jupyter-widgets/controls",
          "model_module_version": "1.5.0",
          "model_name": "FloatProgressModel",
          "state": {
            "_dom_classes": [],
            "_model_module": "@jupyter-widgets/controls",
            "_model_module_version": "1.5.0",
            "_model_name": "FloatProgressModel",
            "_view_count": null,
            "_view_module": "@jupyter-widgets/controls",
            "_view_module_version": "1.5.0",
            "_view_name": "ProgressView",
            "bar_style": "success",
            "description": "",
            "description_tooltip": null,
            "layout": "IPY_MODEL_12200c927a81413dbfd9a6e165e11ed5",
            "max": 4108916416,
            "min": 0,
            "orientation": "horizontal",
            "style": "IPY_MODEL_c0fb25eaa6c94bd997bca8c29ba6c344",
            "value": 4108916416
          }
        },
        "b7a2fb3b3db74e09828653539e4817de": {
          "model_module": "@jupyter-widgets/controls",
          "model_module_version": "1.5.0",
          "model_name": "DescriptionStyleModel",
          "state": {
            "_model_module": "@jupyter-widgets/controls",
            "_model_module_version": "1.5.0",
            "_model_name": "DescriptionStyleModel",
            "_view_count": null,
            "_view_module": "@jupyter-widgets/base",
            "_view_module_version": "1.2.0",
            "_view_name": "StyleView",
            "description_width": ""
          }
        },
        "c0cee62b36bb4b229a471458cd16554d": {
          "model_module": "@jupyter-widgets/controls",
          "model_module_version": "1.5.0",
          "model_name": "HTMLModel",
          "state": {
            "_dom_classes": [],
            "_model_module": "@jupyter-widgets/controls",
            "_model_module_version": "1.5.0",
            "_model_name": "HTMLModel",
            "_view_count": null,
            "_view_module": "@jupyter-widgets/controls",
            "_view_module_version": "1.5.0",
            "_view_name": "HTMLView",
            "description": "",
            "description_tooltip": null,
            "layout": "IPY_MODEL_e34a49623e084c7ca519a773251adcc8",
            "placeholder": "​",
            "style": "IPY_MODEL_3a86cfa4a17e4da2863594ab93c9eeb7",
            "value": " 4.11G/4.11G [00:30&lt;00:00, 267MB/s]"
          }
        },
        "c0fb25eaa6c94bd997bca8c29ba6c344": {
          "model_module": "@jupyter-widgets/controls",
          "model_module_version": "1.5.0",
          "model_name": "ProgressStyleModel",
          "state": {
            "_model_module": "@jupyter-widgets/controls",
            "_model_module_version": "1.5.0",
            "_model_name": "ProgressStyleModel",
            "_view_count": null,
            "_view_module": "@jupyter-widgets/base",
            "_view_module_version": "1.2.0",
            "_view_name": "StyleView",
            "bar_color": null,
            "description_width": ""
          }
        },
        "cc69e3448518478cb1c03915ac558341": {
          "model_module": "@jupyter-widgets/base",
          "model_module_version": "1.2.0",
          "model_name": "LayoutModel",
          "state": {
            "_model_module": "@jupyter-widgets/base",
            "_model_module_version": "1.2.0",
            "_model_name": "LayoutModel",
            "_view_count": null,
            "_view_module": "@jupyter-widgets/base",
            "_view_module_version": "1.2.0",
            "_view_name": "LayoutView",
            "align_content": null,
            "align_items": null,
            "align_self": null,
            "border": null,
            "bottom": null,
            "display": null,
            "flex": null,
            "flex_flow": null,
            "grid_area": null,
            "grid_auto_columns": null,
            "grid_auto_flow": null,
            "grid_auto_rows": null,
            "grid_column": null,
            "grid_gap": null,
            "grid_row": null,
            "grid_template_areas": null,
            "grid_template_columns": null,
            "grid_template_rows": null,
            "height": null,
            "justify_content": null,
            "justify_items": null,
            "left": null,
            "margin": null,
            "max_height": null,
            "max_width": null,
            "min_height": null,
            "min_width": null,
            "object_fit": null,
            "object_position": null,
            "order": null,
            "overflow": null,
            "overflow_x": null,
            "overflow_y": null,
            "padding": null,
            "right": null,
            "top": null,
            "visibility": null,
            "width": null
          }
        },
        "d65e7e1f7fd7462d8746dcca5acc65fa": {
          "model_module": "@jupyter-widgets/controls",
          "model_module_version": "1.5.0",
          "model_name": "ProgressStyleModel",
          "state": {
            "_model_module": "@jupyter-widgets/controls",
            "_model_module_version": "1.5.0",
            "_model_name": "ProgressStyleModel",
            "_view_count": null,
            "_view_module": "@jupyter-widgets/base",
            "_view_module_version": "1.2.0",
            "_view_name": "StyleView",
            "bar_color": null,
            "description_width": ""
          }
        },
        "d854a54b3b7b426ca5956626f12329ed": {
          "model_module": "@jupyter-widgets/controls",
          "model_module_version": "1.5.0",
          "model_name": "FloatProgressModel",
          "state": {
            "_dom_classes": [],
            "_model_module": "@jupyter-widgets/controls",
            "_model_module_version": "1.5.0",
            "_model_name": "FloatProgressModel",
            "_view_count": null,
            "_view_module": "@jupyter-widgets/controls",
            "_view_module_version": "1.5.0",
            "_view_name": "ProgressView",
            "bar_style": "success",
            "description": "",
            "description_tooltip": null,
            "layout": "IPY_MODEL_f99f23406a6b4ce9a2eb061cb9bbcb42",
            "max": 1,
            "min": 0,
            "orientation": "horizontal",
            "style": "IPY_MODEL_982e9334d4c84b50b329972b95ed3549",
            "value": 1
          }
        },
        "dcae297675b24eccaa6c13c25fd971b3": {
          "model_module": "@jupyter-widgets/controls",
          "model_module_version": "1.5.0",
          "model_name": "FloatProgressModel",
          "state": {
            "_dom_classes": [],
            "_model_module": "@jupyter-widgets/controls",
            "_model_module_version": "1.5.0",
            "_model_name": "FloatProgressModel",
            "_view_count": null,
            "_view_module": "@jupyter-widgets/controls",
            "_view_module_version": "1.5.0",
            "_view_name": "ProgressView",
            "bar_style": "success",
            "description": "",
            "description_tooltip": null,
            "layout": "IPY_MODEL_2617797c2792411681c47777acc2b48a",
            "max": 1,
            "min": 0,
            "orientation": "horizontal",
            "style": "IPY_MODEL_d65e7e1f7fd7462d8746dcca5acc65fa",
            "value": 1
          }
        },
        "dffebb82dff54e74b30a9f88283a2c8b": {
          "model_module": "@jupyter-widgets/base",
          "model_module_version": "1.2.0",
          "model_name": "LayoutModel",
          "state": {
            "_model_module": "@jupyter-widgets/base",
            "_model_module_version": "1.2.0",
            "_model_name": "LayoutModel",
            "_view_count": null,
            "_view_module": "@jupyter-widgets/base",
            "_view_module_version": "1.2.0",
            "_view_name": "LayoutView",
            "align_content": null,
            "align_items": null,
            "align_self": null,
            "border": null,
            "bottom": null,
            "display": null,
            "flex": null,
            "flex_flow": null,
            "grid_area": null,
            "grid_auto_columns": null,
            "grid_auto_flow": null,
            "grid_auto_rows": null,
            "grid_column": null,
            "grid_gap": null,
            "grid_row": null,
            "grid_template_areas": null,
            "grid_template_columns": null,
            "grid_template_rows": null,
            "height": null,
            "justify_content": null,
            "justify_items": null,
            "left": null,
            "margin": null,
            "max_height": null,
            "max_width": null,
            "min_height": null,
            "min_width": null,
            "object_fit": null,
            "object_position": null,
            "order": null,
            "overflow": null,
            "overflow_x": null,
            "overflow_y": null,
            "padding": null,
            "right": null,
            "top": null,
            "visibility": null,
            "width": null
          }
        },
        "e1048d78eacd42699eb07864b7746f3d": {
          "model_module": "@jupyter-widgets/base",
          "model_module_version": "1.2.0",
          "model_name": "LayoutModel",
          "state": {
            "_model_module": "@jupyter-widgets/base",
            "_model_module_version": "1.2.0",
            "_model_name": "LayoutModel",
            "_view_count": null,
            "_view_module": "@jupyter-widgets/base",
            "_view_module_version": "1.2.0",
            "_view_name": "LayoutView",
            "align_content": null,
            "align_items": null,
            "align_self": null,
            "border": null,
            "bottom": null,
            "display": null,
            "flex": null,
            "flex_flow": null,
            "grid_area": null,
            "grid_auto_columns": null,
            "grid_auto_flow": null,
            "grid_auto_rows": null,
            "grid_column": null,
            "grid_gap": null,
            "grid_row": null,
            "grid_template_areas": null,
            "grid_template_columns": null,
            "grid_template_rows": null,
            "height": null,
            "justify_content": null,
            "justify_items": null,
            "left": null,
            "margin": null,
            "max_height": null,
            "max_width": null,
            "min_height": null,
            "min_width": null,
            "object_fit": null,
            "object_position": null,
            "order": null,
            "overflow": null,
            "overflow_x": null,
            "overflow_y": null,
            "padding": null,
            "right": null,
            "top": null,
            "visibility": null,
            "width": null
          }
        },
        "e1306604a58146b5b12d27304cf697ed": {
          "model_module": "@jupyter-widgets/controls",
          "model_module_version": "1.5.0",
          "model_name": "HTMLModel",
          "state": {
            "_dom_classes": [],
            "_model_module": "@jupyter-widgets/controls",
            "_model_module_version": "1.5.0",
            "_model_name": "HTMLModel",
            "_view_count": null,
            "_view_module": "@jupyter-widgets/controls",
            "_view_module_version": "1.5.0",
            "_view_name": "HTMLView",
            "description": "",
            "description_tooltip": null,
            "layout": "IPY_MODEL_76811fb3b3664d2ea7dce925bb753835",
            "placeholder": "​",
            "style": "IPY_MODEL_0a6bdd723c554de29b65efe78dc721ed",
            "value": "Fetching 1 files: 100%"
          }
        },
        "e34a49623e084c7ca519a773251adcc8": {
          "model_module": "@jupyter-widgets/base",
          "model_module_version": "1.2.0",
          "model_name": "LayoutModel",
          "state": {
            "_model_module": "@jupyter-widgets/base",
            "_model_module_version": "1.2.0",
            "_model_name": "LayoutModel",
            "_view_count": null,
            "_view_module": "@jupyter-widgets/base",
            "_view_module_version": "1.2.0",
            "_view_name": "LayoutView",
            "align_content": null,
            "align_items": null,
            "align_self": null,
            "border": null,
            "bottom": null,
            "display": null,
            "flex": null,
            "flex_flow": null,
            "grid_area": null,
            "grid_auto_columns": null,
            "grid_auto_flow": null,
            "grid_auto_rows": null,
            "grid_column": null,
            "grid_gap": null,
            "grid_row": null,
            "grid_template_areas": null,
            "grid_template_columns": null,
            "grid_template_rows": null,
            "height": null,
            "justify_content": null,
            "justify_items": null,
            "left": null,
            "margin": null,
            "max_height": null,
            "max_width": null,
            "min_height": null,
            "min_width": null,
            "object_fit": null,
            "object_position": null,
            "order": null,
            "overflow": null,
            "overflow_x": null,
            "overflow_y": null,
            "padding": null,
            "right": null,
            "top": null,
            "visibility": null,
            "width": null
          }
        },
        "e4a7a940ca514e35853c3ca139ca3dc0": {
          "model_module": "@jupyter-widgets/controls",
          "model_module_version": "1.5.0",
          "model_name": "DescriptionStyleModel",
          "state": {
            "_model_module": "@jupyter-widgets/controls",
            "_model_module_version": "1.5.0",
            "_model_name": "DescriptionStyleModel",
            "_view_count": null,
            "_view_module": "@jupyter-widgets/base",
            "_view_module_version": "1.2.0",
            "_view_name": "StyleView",
            "description_width": ""
          }
        },
        "ebe1317126664101a8ca82324ee73709": {
          "model_module": "@jupyter-widgets/controls",
          "model_module_version": "1.5.0",
          "model_name": "DescriptionStyleModel",
          "state": {
            "_model_module": "@jupyter-widgets/controls",
            "_model_module_version": "1.5.0",
            "_model_name": "DescriptionStyleModel",
            "_view_count": null,
            "_view_module": "@jupyter-widgets/base",
            "_view_module_version": "1.2.0",
            "_view_name": "StyleView",
            "description_width": ""
          }
        },
        "f81cf133d9404e9080f8f19a5870cddf": {
          "model_module": "@jupyter-widgets/base",
          "model_module_version": "1.2.0",
          "model_name": "LayoutModel",
          "state": {
            "_model_module": "@jupyter-widgets/base",
            "_model_module_version": "1.2.0",
            "_model_name": "LayoutModel",
            "_view_count": null,
            "_view_module": "@jupyter-widgets/base",
            "_view_module_version": "1.2.0",
            "_view_name": "LayoutView",
            "align_content": null,
            "align_items": null,
            "align_self": null,
            "border": null,
            "bottom": null,
            "display": null,
            "flex": null,
            "flex_flow": null,
            "grid_area": null,
            "grid_auto_columns": null,
            "grid_auto_flow": null,
            "grid_auto_rows": null,
            "grid_column": null,
            "grid_gap": null,
            "grid_row": null,
            "grid_template_areas": null,
            "grid_template_columns": null,
            "grid_template_rows": null,
            "height": null,
            "justify_content": null,
            "justify_items": null,
            "left": null,
            "margin": null,
            "max_height": null,
            "max_width": null,
            "min_height": null,
            "min_width": null,
            "object_fit": null,
            "object_position": null,
            "order": null,
            "overflow": null,
            "overflow_x": null,
            "overflow_y": null,
            "padding": null,
            "right": null,
            "top": null,
            "visibility": null,
            "width": null
          }
        },
        "f99f23406a6b4ce9a2eb061cb9bbcb42": {
          "model_module": "@jupyter-widgets/base",
          "model_module_version": "1.2.0",
          "model_name": "LayoutModel",
          "state": {
            "_model_module": "@jupyter-widgets/base",
            "_model_module_version": "1.2.0",
            "_model_name": "LayoutModel",
            "_view_count": null,
            "_view_module": "@jupyter-widgets/base",
            "_view_module_version": "1.2.0",
            "_view_name": "LayoutView",
            "align_content": null,
            "align_items": null,
            "align_self": null,
            "border": null,
            "bottom": null,
            "display": null,
            "flex": null,
            "flex_flow": null,
            "grid_area": null,
            "grid_auto_columns": null,
            "grid_auto_flow": null,
            "grid_auto_rows": null,
            "grid_column": null,
            "grid_gap": null,
            "grid_row": null,
            "grid_template_areas": null,
            "grid_template_columns": null,
            "grid_template_rows": null,
            "height": null,
            "justify_content": null,
            "justify_items": null,
            "left": null,
            "margin": null,
            "max_height": null,
            "max_width": null,
            "min_height": null,
            "min_width": null,
            "object_fit": null,
            "object_position": null,
            "order": null,
            "overflow": null,
            "overflow_x": null,
            "overflow_y": null,
            "padding": null,
            "right": null,
            "top": null,
            "visibility": null,
            "width": null
          }
        },
        "fdf0a58a0b7d46d192638eb1f0c2b518": {
          "model_module": "@jupyter-widgets/base",
          "model_module_version": "1.2.0",
          "model_name": "LayoutModel",
          "state": {
            "_model_module": "@jupyter-widgets/base",
            "_model_module_version": "1.2.0",
            "_model_name": "LayoutModel",
            "_view_count": null,
            "_view_module": "@jupyter-widgets/base",
            "_view_module_version": "1.2.0",
            "_view_name": "LayoutView",
            "align_content": null,
            "align_items": null,
            "align_self": null,
            "border": null,
            "bottom": null,
            "display": null,
            "flex": null,
            "flex_flow": null,
            "grid_area": null,
            "grid_auto_columns": null,
            "grid_auto_flow": null,
            "grid_auto_rows": null,
            "grid_column": null,
            "grid_gap": null,
            "grid_row": null,
            "grid_template_areas": null,
            "grid_template_columns": null,
            "grid_template_rows": null,
            "height": null,
            "justify_content": null,
            "justify_items": null,
            "left": null,
            "margin": null,
            "max_height": null,
            "max_width": null,
            "min_height": null,
            "min_width": null,
            "object_fit": null,
            "object_position": null,
            "order": null,
            "overflow": null,
            "overflow_x": null,
            "overflow_y": null,
            "padding": null,
            "right": null,
            "top": null,
            "visibility": null,
            "width": null
          }
        },
        "fe2a9347195a440ca1f1c30cccaff387": {
          "model_module": "@jupyter-widgets/controls",
          "model_module_version": "1.5.0",
          "model_name": "HTMLModel",
          "state": {
            "_dom_classes": [],
            "_model_module": "@jupyter-widgets/controls",
            "_model_module_version": "1.5.0",
            "_model_name": "HTMLModel",
            "_view_count": null,
            "_view_module": "@jupyter-widgets/controls",
            "_view_module_version": "1.5.0",
            "_view_name": "HTMLView",
            "description": "",
            "description_tooltip": null,
            "layout": "IPY_MODEL_dffebb82dff54e74b30a9f88283a2c8b",
            "placeholder": "​",
            "style": "IPY_MODEL_1323b20ce9bb40e3ab7184267ae3e309",
            "value": "zephyr-7b-beta.Q4_0.gguf: 100%"
          }
        }
      }
    }
  },
  "nbformat": 4,
  "nbformat_minor": 0
}

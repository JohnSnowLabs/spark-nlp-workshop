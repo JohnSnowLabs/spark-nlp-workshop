{
  "cells": [
    {
      "cell_type": "markdown",
      "metadata": {
        "application/vnd.databricks.v1+cell": {
          "cellMetadata": {
            "byteLimit": 2048000,
            "rowLimit": 10000
          },
          "inputWidgets": {},
          "nuid": "c6283f2f-151a-4944-9f18-7cbbbf0fe481",
          "showTitle": false,
          "title": ""
        },
        "id": "WILejt_9bSgR"
      },
      "source": [
        "# Augmenting Document Splits/ Chunks with Healthcare NLP for RAG Applications"
      ]
    },
    {
      "cell_type": "code",
      "source": [
        "!pip install -q --upgrade pip\n",
        "!pip install -q johnsnowlabs==5.2.6\n",
        "!pip install -q --upgrade langchain openai tiktoken faiss-cpu\n",
        "!pip install -q --upgrade unstructured==0.10.18\n",
        "!pip install -q --upgrade ctransformers\n",
        "!pip install -q --upgrade transformers einops\n",
        "!pip install -q --upgrade bitsandbytes accelerate"
      ],
      "metadata": {
        "id": "SoZxY3_lLIIx"
      },
      "execution_count": null,
      "outputs": []
    },
    {
      "cell_type": "code",
      "source": [
        "from google.colab import files\n",
        "print('Please Upload your John Snow Labs License using the button below')\n",
        "license_keys = files.upload()"
      ],
      "metadata": {
        "id": "msZeuEiJ-v2A"
      },
      "execution_count": null,
      "outputs": []
    },
    {
      "cell_type": "code",
      "source": [
        "from johnsnowlabs import nlp, medical\n",
        "\n",
        "# After uploading your license run this to install all licensed Python Wheels and pre-download Jars the Spark Session JVM\n",
        "nlp.install()"
      ],
      "metadata": {
        "id": "0bnEUcc2-y-u"
      },
      "execution_count": null,
      "outputs": []
    },
    {
      "cell_type": "code",
      "source": [
        "from johnsnowlabs import nlp, medical, visual\n",
        "import pandas as pd\n",
        "\n",
        "# Automatically load license data and start a session with all jars user has access to\n",
        "spark = nlp.start()"
      ],
      "metadata": {
        "id": "bX46YGqC-1hm"
      },
      "execution_count": null,
      "outputs": []
    },
    {
      "cell_type": "code",
      "execution_count": 5,
      "metadata": {
        "application/vnd.databricks.v1+cell": {
          "cellMetadata": {
            "byteLimit": 2048000,
            "rowLimit": 10000
          },
          "inputWidgets": {},
          "nuid": "70d971c7-c9ee-4afd-ad1e-af607d22ec93",
          "showTitle": false,
          "title": ""
        },
        "execution": {
          "iopub.execute_input": "2024-02-15T11:33:43.654920Z",
          "iopub.status.busy": "2024-02-15T11:33:43.654626Z",
          "iopub.status.idle": "2024-02-15T11:33:44.266636Z",
          "shell.execute_reply": "2024-02-15T11:33:44.265688Z",
          "shell.execute_reply.started": "2024-02-15T11:33:43.654895Z"
        },
        "tags": [],
        "id": "9Ne45i_abSgW",
        "outputId": "b08eeeae-4238-448a-8bc6-a4a263d72e00",
        "colab": {
          "base_uri": "https://localhost:8080/",
          "height": 219
        }
      },
      "outputs": [
        {
          "output_type": "execute_result",
          "data": {
            "text/plain": [
              "<pyspark.sql.session.SparkSession at 0x7bffc9667190>"
            ],
            "text/html": [
              "\n",
              "            <div>\n",
              "                <p><b>SparkSession - in-memory</b></p>\n",
              "                \n",
              "        <div>\n",
              "            <p><b>SparkContext</b></p>\n",
              "\n",
              "            <p><a href=\"http://42fd4709f78e:4040\">Spark UI</a></p>\n",
              "\n",
              "            <dl>\n",
              "              <dt>Version</dt>\n",
              "                <dd><code>v3.1.2</code></dd>\n",
              "              <dt>Master</dt>\n",
              "                <dd><code>local[*]</code></dd>\n",
              "              <dt>AppName</dt>\n",
              "                <dd><code>John-Snow-Labs-Spark-Session 🚀 with Jars for: 🚀Spark-NLP==5.2.2, 💊Spark-Healthcare==5.2.1, running on ⚡ PySpark==3.1.2</code></dd>\n",
              "            </dl>\n",
              "        </div>\n",
              "        \n",
              "            </div>\n",
              "        "
            ]
          },
          "metadata": {},
          "execution_count": 5
        }
      ],
      "source": [
        "from johnsnowlabs import nlp, medical\n",
        "\n",
        "spark"
      ]
    },
    {
      "cell_type": "markdown",
      "metadata": {
        "application/vnd.databricks.v1+cell": {
          "cellMetadata": {
            "byteLimit": 2048000,
            "rowLimit": 10000
          },
          "inputWidgets": {},
          "nuid": "6bc320d6-e54f-4566-9f0c-2006b19fc864",
          "showTitle": false,
          "title": ""
        },
        "id": "0Um7CPRPbSgZ"
      },
      "source": [
        "## Splitting with Medical Document Splitter"
      ]
    },
    {
      "cell_type": "markdown",
      "metadata": {
        "application/vnd.databricks.v1+cell": {
          "cellMetadata": {
            "byteLimit": 2048000,
            "rowLimit": 10000
          },
          "inputWidgets": {},
          "nuid": "f7a3b155-823d-4043-9c7c-8e4c16697895",
          "showTitle": false,
          "title": ""
        },
        "id": "lzper3t-bSga"
      },
      "source": [
        "This Annotator splits large documents into small documents. `InternalDocumentSplitter` has setSplitMode method to decide how to split documents.\n",
        "\n",
        "If splitMode is `recursive`, it takes the separators in order and splits subtexts if they are over the chunk length, considering optional overlap of the chunks.\n",
        "\n",
        "Additionally, you can set\n",
        "- custom patterns with `setSplitPatterns`\n",
        "- whether patterns should be interpreted as regex with `setPatternsAreRegex`\n",
        "- whether to keep the separators with `setKeepSeparators`\n",
        "- whether to trim whitespaces with `setTrimWhitespace`\n",
        "- whether to explode the splits to individual rows with `setExplodeSplits`\n",
        "\n",
        "**Parameters**:\n",
        "\n",
        "- `chunkSize`: Size of each chunk of text. This param is applicable only for \"recursive\" splitMode.\n",
        "- `chunkOverlap`: Length of the overlap between text chunks, by default `0`. This param is applicable only for `recursive` splitMode.\n",
        "- `splitPatterns`: Patterns to split the document.\n",
        "- `patternsAreRegex`. Whether to interpret the split patterns as regular expressions, by default `True`.\n",
        "- `keepSeparators`: Whether to keep the separators in the final result , by default `True`. This param is applicable only for \"recursive\" splitMode.\n",
        "- `explodeSplits`: Whether to explode split chunks to separate rows , by default `False`.\n",
        "- `trimWhitespace`: Whether to trim whitespaces of extracted chunks , by default `True`.\n",
        "- `splitMode`: The split mode to determine how text should be segmented. Default: '**regex**'. It should be one of the following values:\n",
        "  - \"char\": Split text based on individual characters.\n",
        "  - \"token\": Split text based on tokens. You should supply tokens from inputCols.\n",
        "  - \"sentence\": Split text based on sentences. You should supply sentences from inputCols.\n",
        "  - \"recursive\": Split text recursively using a specific algorithm.\n",
        "  - \"regex\": Split text based on a regular expression pattern.\n",
        "- `sentenceAwareness`: Whether to split the document by sentence awareness if possible.\n",
        "  - If true, it can stop the split process before maxLength.\n",
        "  - If true, you should supply sentences from inputCols. Default: `False`.\n",
        "  - This param is not applicable only for `regex` and `recursive` splitMode.\n",
        "- `maxLength`: The maximum length allowed for spitting. The mode in which the maximum length is specified:\n",
        "  - \"char\": Maximum length is measured in characters. Default: `512`\n",
        "  - \"token\": Maximum length is measured in tokens. Default: `128`\n",
        "  - \"sentence\": Maximum length is measured in sentences. Default: `8`\n",
        "- `customBoundsStrategy`: The custom bounds strategy for text splitting using regular expressions. This param is applicable only for `regex` splitMode.\n",
        "- `caseSensitive`: Whether to use case sensitive when matching regex, by default `False`. This param is applicable only for `regex` splitMode.\n",
        "-  `metaDataFields`: Metadata fields to add specified data in columns to the metadata of the split documents.         You should set column names to read columns.\n",
        "\n",
        "- `enableSentenceIncrement`: Whether the sentence index should be incremented in the metadata of the annotator.When set to true, the annotator will increment the sentence index in the metadata for each split documents. Default: `False`."
      ]
    },
    {
      "cell_type": "code",
      "execution_count": 6,
      "metadata": {
        "application/vnd.databricks.v1+cell": {
          "cellMetadata": {
            "byteLimit": 2048000,
            "rowLimit": 10000
          },
          "inputWidgets": {},
          "nuid": "8e5f0a0f-cfb9-4848-a614-6aeee8d1bde2",
          "showTitle": false,
          "title": ""
        },
        "execution": {
          "iopub.execute_input": "2024-02-15T11:27:43.470771Z",
          "iopub.status.busy": "2024-02-15T11:27:43.470607Z",
          "iopub.status.idle": "2024-02-15T11:27:53.902350Z",
          "shell.execute_reply": "2024-02-15T11:27:53.901660Z",
          "shell.execute_reply.started": "2024-02-15T11:27:43.470756Z"
        },
        "id": "B1F9M80ubSgb"
      },
      "outputs": [],
      "source": [
        "!wget -q https://raw.githubusercontent.com/JohnSnowLabs/spark-nlp-workshop/master/healthcare-nlp/data/mt_samples.csv"
      ]
    },
    {
      "cell_type": "code",
      "execution_count": 7,
      "metadata": {
        "application/vnd.databricks.v1+cell": {
          "cellMetadata": {
            "byteLimit": 2048000,
            "rowLimit": 10000
          },
          "inputWidgets": {},
          "nuid": "71b6cc6d-162b-441a-a0bf-e9dbdbfad754",
          "showTitle": false,
          "title": ""
        },
        "execution": {
          "iopub.execute_input": "2024-02-15T11:34:48.421039Z",
          "iopub.status.busy": "2024-02-15T11:34:48.420453Z",
          "iopub.status.idle": "2024-02-15T11:34:48.448649Z",
          "shell.execute_reply": "2024-02-15T11:34:48.447864Z",
          "shell.execute_reply.started": "2024-02-15T11:34:48.421019Z"
        },
        "tags": [],
        "id": "QE1a__ozbSgc",
        "outputId": "11b7fd86-fe33-47c2-82ab-ef8b362ebbee",
        "colab": {
          "base_uri": "https://localhost:8080/",
          "height": 206
        }
      },
      "outputs": [
        {
          "output_type": "execute_result",
          "data": {
            "text/plain": [
              "                                                text\n",
              "0  Sample Type / Medical Specialty:\\nHematology -...\n",
              "1  Sample Type / Medical Specialty:\\nHematology -...\n",
              "2  Sample Type / Medical Specialty:\\nHematology -...\n",
              "3  Sample Type / Medical Specialty:\\nHematology -...\n",
              "4  Sample Type / Medical Specialty:\\nHematology -..."
            ],
            "text/html": [
              "\n",
              "  <div id=\"df-5baae492-605d-40ba-b24a-6f770ba41f0c\" class=\"colab-df-container\">\n",
              "    <div>\n",
              "<style scoped>\n",
              "    .dataframe tbody tr th:only-of-type {\n",
              "        vertical-align: middle;\n",
              "    }\n",
              "\n",
              "    .dataframe tbody tr th {\n",
              "        vertical-align: top;\n",
              "    }\n",
              "\n",
              "    .dataframe thead th {\n",
              "        text-align: right;\n",
              "    }\n",
              "</style>\n",
              "<table border=\"1\" class=\"dataframe\">\n",
              "  <thead>\n",
              "    <tr style=\"text-align: right;\">\n",
              "      <th></th>\n",
              "      <th>text</th>\n",
              "    </tr>\n",
              "  </thead>\n",
              "  <tbody>\n",
              "    <tr>\n",
              "      <th>0</th>\n",
              "      <td>Sample Type / Medical Specialty:\\nHematology -...</td>\n",
              "    </tr>\n",
              "    <tr>\n",
              "      <th>1</th>\n",
              "      <td>Sample Type / Medical Specialty:\\nHematology -...</td>\n",
              "    </tr>\n",
              "    <tr>\n",
              "      <th>2</th>\n",
              "      <td>Sample Type / Medical Specialty:\\nHematology -...</td>\n",
              "    </tr>\n",
              "    <tr>\n",
              "      <th>3</th>\n",
              "      <td>Sample Type / Medical Specialty:\\nHematology -...</td>\n",
              "    </tr>\n",
              "    <tr>\n",
              "      <th>4</th>\n",
              "      <td>Sample Type / Medical Specialty:\\nHematology -...</td>\n",
              "    </tr>\n",
              "  </tbody>\n",
              "</table>\n",
              "</div>\n",
              "    <div class=\"colab-df-buttons\">\n",
              "\n",
              "  <div class=\"colab-df-container\">\n",
              "    <button class=\"colab-df-convert\" onclick=\"convertToInteractive('df-5baae492-605d-40ba-b24a-6f770ba41f0c')\"\n",
              "            title=\"Convert this dataframe to an interactive table.\"\n",
              "            style=\"display:none;\">\n",
              "\n",
              "  <svg xmlns=\"http://www.w3.org/2000/svg\" height=\"24px\" viewBox=\"0 -960 960 960\">\n",
              "    <path d=\"M120-120v-720h720v720H120Zm60-500h600v-160H180v160Zm220 220h160v-160H400v160Zm0 220h160v-160H400v160ZM180-400h160v-160H180v160Zm440 0h160v-160H620v160ZM180-180h160v-160H180v160Zm440 0h160v-160H620v160Z\"/>\n",
              "  </svg>\n",
              "    </button>\n",
              "\n",
              "  <style>\n",
              "    .colab-df-container {\n",
              "      display:flex;\n",
              "      gap: 12px;\n",
              "    }\n",
              "\n",
              "    .colab-df-convert {\n",
              "      background-color: #E8F0FE;\n",
              "      border: none;\n",
              "      border-radius: 50%;\n",
              "      cursor: pointer;\n",
              "      display: none;\n",
              "      fill: #1967D2;\n",
              "      height: 32px;\n",
              "      padding: 0 0 0 0;\n",
              "      width: 32px;\n",
              "    }\n",
              "\n",
              "    .colab-df-convert:hover {\n",
              "      background-color: #E2EBFA;\n",
              "      box-shadow: 0px 1px 2px rgba(60, 64, 67, 0.3), 0px 1px 3px 1px rgba(60, 64, 67, 0.15);\n",
              "      fill: #174EA6;\n",
              "    }\n",
              "\n",
              "    .colab-df-buttons div {\n",
              "      margin-bottom: 4px;\n",
              "    }\n",
              "\n",
              "    [theme=dark] .colab-df-convert {\n",
              "      background-color: #3B4455;\n",
              "      fill: #D2E3FC;\n",
              "    }\n",
              "\n",
              "    [theme=dark] .colab-df-convert:hover {\n",
              "      background-color: #434B5C;\n",
              "      box-shadow: 0px 1px 3px 1px rgba(0, 0, 0, 0.15);\n",
              "      filter: drop-shadow(0px 1px 2px rgba(0, 0, 0, 0.3));\n",
              "      fill: #FFFFFF;\n",
              "    }\n",
              "  </style>\n",
              "\n",
              "    <script>\n",
              "      const buttonEl =\n",
              "        document.querySelector('#df-5baae492-605d-40ba-b24a-6f770ba41f0c button.colab-df-convert');\n",
              "      buttonEl.style.display =\n",
              "        google.colab.kernel.accessAllowed ? 'block' : 'none';\n",
              "\n",
              "      async function convertToInteractive(key) {\n",
              "        const element = document.querySelector('#df-5baae492-605d-40ba-b24a-6f770ba41f0c');\n",
              "        const dataTable =\n",
              "          await google.colab.kernel.invokeFunction('convertToInteractive',\n",
              "                                                    [key], {});\n",
              "        if (!dataTable) return;\n",
              "\n",
              "        const docLinkHtml = 'Like what you see? Visit the ' +\n",
              "          '<a target=\"_blank\" href=https://colab.research.google.com/notebooks/data_table.ipynb>data table notebook</a>'\n",
              "          + ' to learn more about interactive tables.';\n",
              "        element.innerHTML = '';\n",
              "        dataTable['output_type'] = 'display_data';\n",
              "        await google.colab.output.renderOutput(dataTable, element);\n",
              "        const docLink = document.createElement('div');\n",
              "        docLink.innerHTML = docLinkHtml;\n",
              "        element.appendChild(docLink);\n",
              "      }\n",
              "    </script>\n",
              "  </div>\n",
              "\n",
              "\n",
              "<div id=\"df-49d41403-c6ae-4171-9230-10a047f53a83\">\n",
              "  <button class=\"colab-df-quickchart\" onclick=\"quickchart('df-49d41403-c6ae-4171-9230-10a047f53a83')\"\n",
              "            title=\"Suggest charts\"\n",
              "            style=\"display:none;\">\n",
              "\n",
              "<svg xmlns=\"http://www.w3.org/2000/svg\" height=\"24px\"viewBox=\"0 0 24 24\"\n",
              "     width=\"24px\">\n",
              "    <g>\n",
              "        <path d=\"M19 3H5c-1.1 0-2 .9-2 2v14c0 1.1.9 2 2 2h14c1.1 0 2-.9 2-2V5c0-1.1-.9-2-2-2zM9 17H7v-7h2v7zm4 0h-2V7h2v10zm4 0h-2v-4h2v4z\"/>\n",
              "    </g>\n",
              "</svg>\n",
              "  </button>\n",
              "\n",
              "<style>\n",
              "  .colab-df-quickchart {\n",
              "      --bg-color: #E8F0FE;\n",
              "      --fill-color: #1967D2;\n",
              "      --hover-bg-color: #E2EBFA;\n",
              "      --hover-fill-color: #174EA6;\n",
              "      --disabled-fill-color: #AAA;\n",
              "      --disabled-bg-color: #DDD;\n",
              "  }\n",
              "\n",
              "  [theme=dark] .colab-df-quickchart {\n",
              "      --bg-color: #3B4455;\n",
              "      --fill-color: #D2E3FC;\n",
              "      --hover-bg-color: #434B5C;\n",
              "      --hover-fill-color: #FFFFFF;\n",
              "      --disabled-bg-color: #3B4455;\n",
              "      --disabled-fill-color: #666;\n",
              "  }\n",
              "\n",
              "  .colab-df-quickchart {\n",
              "    background-color: var(--bg-color);\n",
              "    border: none;\n",
              "    border-radius: 50%;\n",
              "    cursor: pointer;\n",
              "    display: none;\n",
              "    fill: var(--fill-color);\n",
              "    height: 32px;\n",
              "    padding: 0;\n",
              "    width: 32px;\n",
              "  }\n",
              "\n",
              "  .colab-df-quickchart:hover {\n",
              "    background-color: var(--hover-bg-color);\n",
              "    box-shadow: 0 1px 2px rgba(60, 64, 67, 0.3), 0 1px 3px 1px rgba(60, 64, 67, 0.15);\n",
              "    fill: var(--button-hover-fill-color);\n",
              "  }\n",
              "\n",
              "  .colab-df-quickchart-complete:disabled,\n",
              "  .colab-df-quickchart-complete:disabled:hover {\n",
              "    background-color: var(--disabled-bg-color);\n",
              "    fill: var(--disabled-fill-color);\n",
              "    box-shadow: none;\n",
              "  }\n",
              "\n",
              "  .colab-df-spinner {\n",
              "    border: 2px solid var(--fill-color);\n",
              "    border-color: transparent;\n",
              "    border-bottom-color: var(--fill-color);\n",
              "    animation:\n",
              "      spin 1s steps(1) infinite;\n",
              "  }\n",
              "\n",
              "  @keyframes spin {\n",
              "    0% {\n",
              "      border-color: transparent;\n",
              "      border-bottom-color: var(--fill-color);\n",
              "      border-left-color: var(--fill-color);\n",
              "    }\n",
              "    20% {\n",
              "      border-color: transparent;\n",
              "      border-left-color: var(--fill-color);\n",
              "      border-top-color: var(--fill-color);\n",
              "    }\n",
              "    30% {\n",
              "      border-color: transparent;\n",
              "      border-left-color: var(--fill-color);\n",
              "      border-top-color: var(--fill-color);\n",
              "      border-right-color: var(--fill-color);\n",
              "    }\n",
              "    40% {\n",
              "      border-color: transparent;\n",
              "      border-right-color: var(--fill-color);\n",
              "      border-top-color: var(--fill-color);\n",
              "    }\n",
              "    60% {\n",
              "      border-color: transparent;\n",
              "      border-right-color: var(--fill-color);\n",
              "    }\n",
              "    80% {\n",
              "      border-color: transparent;\n",
              "      border-right-color: var(--fill-color);\n",
              "      border-bottom-color: var(--fill-color);\n",
              "    }\n",
              "    90% {\n",
              "      border-color: transparent;\n",
              "      border-bottom-color: var(--fill-color);\n",
              "    }\n",
              "  }\n",
              "</style>\n",
              "\n",
              "  <script>\n",
              "    async function quickchart(key) {\n",
              "      const quickchartButtonEl =\n",
              "        document.querySelector('#' + key + ' button');\n",
              "      quickchartButtonEl.disabled = true;  // To prevent multiple clicks.\n",
              "      quickchartButtonEl.classList.add('colab-df-spinner');\n",
              "      try {\n",
              "        const charts = await google.colab.kernel.invokeFunction(\n",
              "            'suggestCharts', [key], {});\n",
              "      } catch (error) {\n",
              "        console.error('Error during call to suggestCharts:', error);\n",
              "      }\n",
              "      quickchartButtonEl.classList.remove('colab-df-spinner');\n",
              "      quickchartButtonEl.classList.add('colab-df-quickchart-complete');\n",
              "    }\n",
              "    (() => {\n",
              "      let quickchartButtonEl =\n",
              "        document.querySelector('#df-49d41403-c6ae-4171-9230-10a047f53a83 button');\n",
              "      quickchartButtonEl.style.display =\n",
              "        google.colab.kernel.accessAllowed ? 'block' : 'none';\n",
              "    })();\n",
              "  </script>\n",
              "</div>\n",
              "    </div>\n",
              "  </div>\n"
            ],
            "application/vnd.google.colaboratory.intrinsic+json": {
              "type": "dataframe",
              "variable_name": "df",
              "summary": "{\n  \"name\": \"df\",\n  \"rows\": 50,\n  \"fields\": [\n    {\n      \"column\": \"text\",\n      \"properties\": {\n        \"dtype\": \"string\",\n        \"num_unique_values\": 50,\n        \"samples\": [\n          \"Sample Type / Medical Specialty:\\nHematology - Oncology\\nSample Name:\\nHematology Consult\\nDescription:\\nLeukocytosis, acute deep venous thrombosis, right lower extremity with bilateral pulmonary embolism, on intravenous heparin complicated with acute renal failure for evaluation.\\n(Medical Transcription Sample Report)\\nREASON FOR CONSULTATION:\\nAcute deep venous thrombosis, right lower extremity with bilateral pulmonary embolism, on intravenous heparin complicated with acute renal failure for evaluation.\\nHISTORY OF PRESENTING ILLNESS:\\nBriefly, this is a 36-year-old robust Caucasian gentleman with no significant past medical or surgical history, who works as a sales representative, doing a lot of traveling by plane and car and attending several sales shows, developed acute shortness of breath with an episode of syncope this weekend and was brought in by paramedics to Hospital. A V/Q scan revealed multiple pulmonary perfusion defects consistent with high probability pulmonary embolism. A Doppler venous study of the lower extremity also revealed nonocclusive right popliteal vein thrombosis. A CT of the abdomen and pelvis revealed normal-appearing liver, spleen, and pancreas; however, the right kidney appeared smaller compared to left and suggesting possibility of renal infarct. Renal function on admission was within normal range; however, serial renal function showed rapid increase in creatinine to 5 today. He has been on intravenous heparin and hemodialysis is being planned for tomorrow. Reviewing his history, there is no family members with hypercoagulable state or prior history of any thrombotic complication. He denies any recent injury to his lower extremity and in fact denied any calf pain or swelling.\\nPAST MEDICAL AND SURGICAL HISTORY:\\nUnremarkable.\\nSOCIAL HISTORY:\\nHe is married and has 1 son. He has a brother who is healthy. There is no history of tobacco use or alcohol use.\\nFAMILY HISTORY:\\nNo family history of hypercoagulable condition.\\nMEDICATIONS:\\nAdvil p.r.n.\\nALLERGIES:\\nNONE.\\nREVIEW OF SYSTEMS:\\nEssentially unremarkable except for sudden onset dyspnea on easy exertion complicated with episode of syncope. He denied any hemoptysis. He denied any calf swelling or pain. Lately, he has been traveling and has been sitting behind a desk for a long period of time.\\nPHYSICAL EXAMINATION:\\nGENERAL: He is a robust young gentleman, awake, alert, and hemodynamically stable.\\nHEENT: Sclerae anicteric. Conjunctivae normal. Oropharynx normal.\\nNECK: No adenopathy or thyromegaly. No jugular venous distention.\\nHEART: Regular.\\nLUNGS: Bilateral air entry.\\nABDOMEN: Obese and benign.\\nEXTREMITIES: No calf swelling or calf tenderness appreciated.\\nSKIN: No petechiae or ecchymosis.\\nNEUROLOGIC: Nonfocal.\\nLABORATORY FINDINGS:\\nBlood count obtained showed a white count of 16.8, hemoglobin 14.8 g percent, hematocrit 44.6%, MCV 94, and platelet count 209,000. Liver profile normal. Thyroid study revealed a TSH of 1.3. Prothrombin time/INR 1.5, partial thromboplastin time 78.6 seconds. Renal function, BUN 44 and creatinine 5.7. Echocardiogram revealed left ventricular hypertrophy with ejection fraction of 65%, no intramural thrombus noted.\\nIMPRESSION:\\n1. Bilateral pulmonary embolism, most consistent with emboli from right lower extremity, on intravenous heparin, rule out hereditary hypercoagulable state.\\n2. Leukocytosis, most likely leukemoid reaction secondary to acute pulmonary embolism/renal infarction, doubt presence of myeloproliferative disorder.\\n3. Acute renal failure secondary to embolic right renal infarction.\\n4. Obesity.\\nPLAN:\\nFrom hematologic standpoint, we will await hypercoagulable studies, which have all been sent on admission to see if a hereditary component is at play. For now, we will continue intravenous heparin and subsequent oral anticoagulation with Coumadin. In view of worsening renal function, may need temporary hemodialysis until renal function improves. I discussed at length with the patient's wife at the bedside.\\nKeywords:\\nhematology - oncology, thrombosis, heparin, leukemoid, pulmonary embolism, renal function, intravenous, leukocytosis, venous, hypercoagulable, embolism, function, hematology,\",\n          \"Sample Type / Medical Specialty:\\nHematology - Oncology\\nSample Name:\\nNeck Mass Biopsy\\nDescription:\\nMalignant mass of the left neck, squamous cell carcinoma. Left neck mass biopsy and selective surgical neck dissection, left.\\n(Medical Transcription Sample Report)\\nPREOPERATIVE DIAGNOSIS:\\nMalignant mass of the left neck.\\nPOSTOPERATIVE DIAGNOSIS:\\nMalignant mass of the left neck, squamous cell carcinoma.\\nPROCEDURES\\n1. Left neck mass biopsy.\\n2. Selective surgical neck dissection, left.\\nDESCRIPTION OF PROCEDURE:\\nAfter obtaining an informed, the patient was taken to the operating room where a time-out process was followed. Preoperative antibiotic was given and Dr. X proceeded to intubate the patient after a detailed anesthetic preparation that started in the Same Day Surgery and followed in the operating room. Finally, a 5.5-French endotracheal tube was inserted and the patient was able to tolerate that and did have stable vital signs and a proper oxygenation.\\nThen, the patient was positioned with the neck slightly distended and turned toward the opposite side of the operation. The neck was prepped and draped in the usual fashion. I proceeded to mark the site of the mass and then also to mark the proposed site for the creation of a flap. Then, I performed an extensive anesthetic block of the area.\\nThen, an incision was made along the area marked for development of the flap, but in a very limited extent, just to expose the cervical mass. The cervical mass, which was about 4 cm in diameter and very firm and rubbery, was found lodged between the sternocleidomastoid muscle and the internal jugular vein in the area III of the neck. A wedge sample was sent to Pathology for frozen section. At the same time, we waited for the result and the initial report was not clear in the sense that a lot of lymphoepithelial reaction was seen. Therefore, a larger sample was sent to Pathology and at that particular time, the fresh frozen was reported as having squamous elements. This was not totally clear in my mind and therefore I proceeded to excise the full mass, which luckily was not attached to any structures except in the very deep surface. There, there were some attachments to branches of the external carotid artery, which had to be suture ligated. At any rate, the whole specimen was to the lab and finally the diagnosis was that of a metastatic squamous cell carcinoma.\\nWith that information in hand, we proceeded to continue with a neck dissection and proceeded to make an incision along the previously marked sites of the flap, which basically involved a reverse U shape on the left neck. This worked out quite nicely. The external jugular vein was out of the way, so initially we did not deal with it. We proceeded to tackle the area III and extended into II-A. When we excised the mass, the upper end was in intimate relationship with the parotid gland, which was relatively large in this patient, but it looked normal otherwise. Also, I felt that the submaxillary gland was enlarged. At any rate, we decided to clean up the areas III and IV and a few nodes from II-A that were removed, and then we went into the posterior triangle where we identified the spinal accessory nerve, which we protected, actually did not even dissect close to it.\\nThe same nerve had been already identified anterior to the internal jugular vein, very proximally behind the digastric and the sternocleidomastoid muscle. At any rate, there were large nodes in the posterior triangle, in areas V-A and V-B, which were excised and sent to Pathology for examination. Also, there was a remnant of a capsule of the main mass that we proceeded to excise and sent to Pathology as an extra specimen. Hemostasis was revised and found to be adequate. The flaps had been protected by folding it to the chest and protected by wet sponges on both sides of the flap. The flap was replaced in its position. A soft Jackson-Pratt catheter was left in the area, and then we proceeded to approximate the flap with a number of subcutaneous sutures of Vicryl and then running sutures of subcuticular Monocryl to the skin. I would like to mention that also the facial vein was excised and the external jugular vein was ligated. It was in very lateral location and it was on the site of the drain, so we ligated that but did not excise it. A pressure dressing was applied.\\nThe patient tolerated the procedure well. Estimated blood loss was no more than 100 mL. The patient was extubated in the operating room and sent for recovery.\\nKeywords:\\nhematology - oncology, neck mass biopsy, surgical neck dissection, internal jugular vein, external jugular vein, squamous cell carcinoma, neck mass, malignant mass, neck dissection, mass, neck, wedge, vein,\",\n          \"Sample Type / Medical Specialty:\\nHematology - Oncology\\nSample Name:\\nDischarge Summary - Mesothelioma\\nDescription:\\nA patient with preoperative diagnosis of right pleural mass and postoperative diagnosis of mesothelioma.\\n(Medical Transcription Sample Report)\\nPREOPERATIVE DIAGNOSIS:\\nRight pleural mass.\\nPOSTOPERATIVE DIAGNOSIS:\\nMesothelioma.\\nPROCEDURES PERFORMED:\\n1. Flexible bronchoscopy.\\n2. Mediastinoscopy.\\n3. Right thoracotomy.\\n4. Parietal pleural biopsy.\\nCONSULTS:\\nConsults obtained during this hospitalization included:\\n1. Radiation Oncology.\\n2. Pulmonary Medicine.\\n3. Medical Oncology.\\n4. Cancer Center Team consult.\\n5. Massage therapy consult.\\nHOSPITAL COURSE:\\nThe patient's hospital course was unremarkable. Her pain was well controlled with an epidural that was placed by Anesthesia. At the time of discharge, the patient was ambulatory. She was discharged with home oxygen available. She was discharged with albuterol nebulizer treatments, treatments were to be q.i.d. She was discharged with a prescription for Vicodin for pain control. She is to follow up with Dr. X in the office in one week with a chest x-ray. She is instructed not to lift, push or pull anything greater than 10 pounds. She is instructed not to drive until after she sees us in the office and is off her pain medications.\\nKeywords:\\nhematology - oncology, flexible bronchoscopy, mediastinoscopy, right thoracotomy, pleural biopsy, pleural mass, mesothelioma, oncology,\"\n        ],\n        \"semantic_type\": \"\",\n        \"description\": \"\"\n      }\n    }\n  ]\n}"
            }
          },
          "metadata": {},
          "execution_count": 7
        }
      ],
      "source": [
        "import pandas as pd\n",
        "\n",
        "df = pd.read_csv(\"mt_samples.csv\")\n",
        "df.head()"
      ]
    },
    {
      "cell_type": "code",
      "execution_count": 8,
      "metadata": {
        "application/vnd.databricks.v1+cell": {
          "cellMetadata": {
            "byteLimit": 2048000,
            "rowLimit": 10000
          },
          "inputWidgets": {},
          "nuid": "51f6328c-cf1b-421f-97c2-73a31b30497b",
          "showTitle": false,
          "title": ""
        },
        "execution": {
          "iopub.execute_input": "2024-02-15T11:34:49.450453Z",
          "iopub.status.busy": "2024-02-15T11:34:49.449864Z",
          "iopub.status.idle": "2024-02-15T11:34:49.458485Z",
          "shell.execute_reply": "2024-02-15T11:34:49.456783Z",
          "shell.execute_reply.started": "2024-02-15T11:34:49.450432Z"
        },
        "tags": [],
        "id": "y3Nuu21AbSgd",
        "outputId": "5aa75a9e-9e0f-496f-fb15-38e0c8c77d11",
        "colab": {
          "base_uri": "https://localhost:8080/"
        }
      },
      "outputs": [
        {
          "output_type": "stream",
          "name": "stdout",
          "text": [
            "Sample Type / Medical Specialty:\n",
            "Hematology - Oncology\n",
            "Sample Name:\n",
            "Discharge Summary - Mesothelioma - 1\n",
            "Description:\n",
            "Mesothelioma, pleural effusion, atrial fibrillation, anemia, ascites, esophageal reflux, and history of deep venous thrombosis.\n",
            "(Medical Transcription Sample Report)\n",
            "PRINCIPAL DIAGNOSIS:\n",
            "Mesothelioma.\n",
            "SECONDARY DIAGNOSES:\n",
            "Pleural effusion, atrial fibrillation, anemia, ascites, esophageal reflux, and history of deep venous thrombosis.\n",
            "PROCEDURES\n",
            "1. On August 24, 2007, decortication of the lung with pleural biopsy and transpleural fluoroscopy.\n",
            "2. On August 20, 2007, thoracentesis.\n",
            "3. On August 31, 2007, Port-A-Cath placement.\n",
            "HISTORY AND PHYSICAL:\n",
            "The patient is a 41-year-old Vietnamese female with a nonproductive cough that started last week. She has had right-sided chest pain radiating to her back with fever starting yesterday. She has a history of pericarditis and pericardectomy in May 2006 and developed cough with right-sided chest pain, and went to an urgent care center. Chest x-ray revealed right-sided pleural effusion.\n",
            "PAST MEDICAL HISTORY\n",
            "1. Pericardectomy.\n",
            "2. Pericarditis.\n",
            "2. Atrial fibrillation.\n",
            "4. RNCA with intracranial thrombolytic treatment.\n",
            "5 PTA of MCA.\n",
            "6. Mesenteric venous thrombosis.\n",
            "7. Pericardial window.\n",
            "8. Cholecystectomy.\n",
            "9. Left thoracentesis.\n",
            "FAMILY HISTORY:\n",
            "No family history of coronary artery disease, CVA, diabetes, CHF or MI. The patient has one family member, a sister, with history of cancer.\n",
            "SOCIAL HISTORY:\n",
            "She is married. Employed with the US Post Office. She is a mother of three. Denies tobacco, alcohol or illicit drug use.\n",
            "MEDICATIONS\n",
            "1. Coumadin 1 mg daily. Last INR was on Tuesday, August 14, 2007, and her INR was 2.3.\n",
            "2. Amiodarone 100 mg p.o. daily.\n",
            "REVIEW OF SYSTEMS:\n",
            "Complete review of systems negative except as in pulmonary as noted above. The patient also reports occasional numbness and tingling of her left arm.\n",
            "PHYSICAL EXAMINATION\n",
            "VITAL SIGNS: Blood pressure 123/95, heart rate 83, respirations 20, temperature 97, and oxygen saturation 97%.\n",
            "GENERAL: Positive nonproductive cough and pain with coughing.\n",
            "HEENT: Pupils are equal and reactive to light and accommodation. Tympanic membranes are clear.\n",
            "NECK: Supple. No lymphadenopathy. No masses.\n",
            "RESPIRATORY: Pleural friction rub is noted.\n",
            "GI: Soft, nondistended, and nontender. Positive bowel sounds. No organomegaly.\n",
            "EXTREMITIES: No edema, no clubbing, no cyanosis, no tenderness. Full range of motion. Normal pulses in all extremities.\n",
            "SKIN: No breakdown or lesions. No ulcers.\n",
            "NEUROLOGIC: Grossly intact. No focal deficits. Awake, alert, and oriented to person, place, and time.\n",
            "LABORATORY DATA:\n",
            "Labs are pending.\n",
            "HOSPITAL COURSE:\n",
            "The patient was admitted for a right-sided pleural effusion for thoracentesis on Monday by Dr. X. Her Coumadin was placed on hold. A repeat echocardiogram was checked. She was started on prophylaxis for DVT with Lovenox 40 mg subcutaneously. Her history dated back to March 2005 when she first sought medical attention for evidence of pericarditis, which was treated with pericardial window in an outside hospital, at that time she was also found to have mesenteric pain and thrombosis, is now anticoagulated. Her pericardial fluid was accumulated and she was seen by Dr. Y. At that time, she was recommended for pericardectomy, which was performed by Dr. Z. Review of her CT scan from March 2006 prior to her pericardectomy, already shows bilateral plural effusions. The patient improved clinically after the pericardectomy with resolution of her symptoms. Recently, she was readmitted to the hospital with chest pain and found to have bilateral pleural effusion, the right greater than the left. CT of the chest also revealed a large mediastinal lymph node. We reviewed the pathology obtained from the pericardectomy in March 2006, which was diagnostic of mesothelioma. At this time, chest tube placement for drainage of the fluid occurred and thoracoscopy with fluid biopsies, which were performed, which revealed epithelioid malignant mesothelioma. The patient was then stained with a PET CT, which showed extensive uptake in the chest, bilateral pleural pericardial effusions, and lymphadenopathy. She also had acidic fluid, pectoral and intramammary lymph nodes and uptake in L4 with SUV of 4. This was consistent with stage III disease. Her repeat echocardiogram showed an ejection fraction of 45% to 49%. She was transferred to Oncology service and started on chemotherapy on September 1, 2007 with cisplatin 75 mg/centimeter squared equaling 109 mg IV piggyback over 2 hours on September 1, 2007, Alimta 500 mg/ centimeter squared equaling 730 mg IV piggyback over 10 minutes. This was all initiated after a Port-A-Cath was placed. The chemotherapy was well tolerated and the patient was discharged the following day after discontinuing IV fluid and IV. Her Port-A-Cath was packed with heparin according to protocol.\n",
            "DISCHARGE MEDICATIONS:\n",
            "Zofran, Phenergan, Coumadin, and Lovenox, and Vicodin\n",
            "DISCHARGE INSTRUCTIONS:\n",
            "She was instructed to followup with Dr. XYZ in the office to check her INR on Tuesday. She was instructed to call if she had any other questions or concerns in the interim.\n",
            "Keywords:\n",
            "hematology - oncology, mesothelioma, pleural effusion, atrial fibrillation, anemia, ascites, esophageal reflux, deep venous thrombosis, port-a-cath placement, port a cath, iv piggyback, venous thrombosis, atrial, thrombosis, pericardial, lymphadenopathy, fluid, pericardectomy, chest, pleural,\n"
          ]
        }
      ],
      "source": [
        "note = df.loc[0,'text']\n",
        "print(note)"
      ]
    },
    {
      "cell_type": "code",
      "execution_count": 9,
      "metadata": {
        "application/vnd.databricks.v1+cell": {
          "cellMetadata": {
            "byteLimit": 2048000,
            "rowLimit": 10000
          },
          "inputWidgets": {},
          "nuid": "6fa38292-d85f-4d5d-975a-30b7165eca49",
          "showTitle": false,
          "title": ""
        },
        "execution": {
          "iopub.execute_input": "2024-02-15T11:34:50.908048Z",
          "iopub.status.busy": "2024-02-15T11:34:50.907523Z",
          "iopub.status.idle": "2024-02-15T11:34:50.913289Z",
          "shell.execute_reply": "2024-02-15T11:34:50.912779Z",
          "shell.execute_reply.started": "2024-02-15T11:34:50.908028Z"
        },
        "tags": [],
        "id": "sXXBXKp_bSge"
      },
      "outputs": [],
      "source": [
        "import uuid\n",
        "import numpy as np\n",
        "\n",
        "df['document_id'] = [str(uuid.uuid4()) for _ in range(len(df))]\n",
        "\n",
        "df['patient_id'] = [\"pt_{}\".format(np.random.randint(5, 30)) for _ in range(len(df))]"
      ]
    },
    {
      "cell_type": "code",
      "execution_count": 10,
      "metadata": {
        "application/vnd.databricks.v1+cell": {
          "cellMetadata": {
            "byteLimit": 2048000,
            "rowLimit": 10000
          },
          "inputWidgets": {},
          "nuid": "0d4b05e0-0e84-4c3a-b29d-7b601c5993af",
          "showTitle": false,
          "title": ""
        },
        "execution": {
          "iopub.execute_input": "2024-02-15T11:34:51.170765Z",
          "iopub.status.busy": "2024-02-15T11:34:51.170269Z",
          "iopub.status.idle": "2024-02-15T11:34:51.177115Z",
          "shell.execute_reply": "2024-02-15T11:34:51.176427Z",
          "shell.execute_reply.started": "2024-02-15T11:34:51.170746Z"
        },
        "tags": [],
        "id": "PFV8uPAgbSge",
        "outputId": "fbf88343-90f8-463d-de8a-596e02017c9f",
        "colab": {
          "base_uri": "https://localhost:8080/",
          "height": 206
        }
      },
      "outputs": [
        {
          "output_type": "execute_result",
          "data": {
            "text/plain": [
              "                                                text  \\\n",
              "0  Sample Type / Medical Specialty:\\nHematology -...   \n",
              "1  Sample Type / Medical Specialty:\\nHematology -...   \n",
              "2  Sample Type / Medical Specialty:\\nHematology -...   \n",
              "3  Sample Type / Medical Specialty:\\nHematology -...   \n",
              "4  Sample Type / Medical Specialty:\\nHematology -...   \n",
              "\n",
              "                            document_id patient_id  \n",
              "0  6896e246-5867-41f3-8bd5-36f9c0a46c24      pt_24  \n",
              "1  12aea5f7-d5ed-4eea-89b1-a14ff597e414      pt_19  \n",
              "2  77cfd8bf-9517-4b09-9ffe-0eaecb505b01      pt_26  \n",
              "3  26a27d02-e5cd-4fad-9b0c-5825d90ab953      pt_29  \n",
              "4  864460ed-1336-49ba-b591-311224492e6f       pt_5  "
            ],
            "text/html": [
              "\n",
              "  <div id=\"df-330c86c8-2b8c-403c-bd94-88bf8a4185fd\" class=\"colab-df-container\">\n",
              "    <div>\n",
              "<style scoped>\n",
              "    .dataframe tbody tr th:only-of-type {\n",
              "        vertical-align: middle;\n",
              "    }\n",
              "\n",
              "    .dataframe tbody tr th {\n",
              "        vertical-align: top;\n",
              "    }\n",
              "\n",
              "    .dataframe thead th {\n",
              "        text-align: right;\n",
              "    }\n",
              "</style>\n",
              "<table border=\"1\" class=\"dataframe\">\n",
              "  <thead>\n",
              "    <tr style=\"text-align: right;\">\n",
              "      <th></th>\n",
              "      <th>text</th>\n",
              "      <th>document_id</th>\n",
              "      <th>patient_id</th>\n",
              "    </tr>\n",
              "  </thead>\n",
              "  <tbody>\n",
              "    <tr>\n",
              "      <th>0</th>\n",
              "      <td>Sample Type / Medical Specialty:\\nHematology -...</td>\n",
              "      <td>6896e246-5867-41f3-8bd5-36f9c0a46c24</td>\n",
              "      <td>pt_24</td>\n",
              "    </tr>\n",
              "    <tr>\n",
              "      <th>1</th>\n",
              "      <td>Sample Type / Medical Specialty:\\nHematology -...</td>\n",
              "      <td>12aea5f7-d5ed-4eea-89b1-a14ff597e414</td>\n",
              "      <td>pt_19</td>\n",
              "    </tr>\n",
              "    <tr>\n",
              "      <th>2</th>\n",
              "      <td>Sample Type / Medical Specialty:\\nHematology -...</td>\n",
              "      <td>77cfd8bf-9517-4b09-9ffe-0eaecb505b01</td>\n",
              "      <td>pt_26</td>\n",
              "    </tr>\n",
              "    <tr>\n",
              "      <th>3</th>\n",
              "      <td>Sample Type / Medical Specialty:\\nHematology -...</td>\n",
              "      <td>26a27d02-e5cd-4fad-9b0c-5825d90ab953</td>\n",
              "      <td>pt_29</td>\n",
              "    </tr>\n",
              "    <tr>\n",
              "      <th>4</th>\n",
              "      <td>Sample Type / Medical Specialty:\\nHematology -...</td>\n",
              "      <td>864460ed-1336-49ba-b591-311224492e6f</td>\n",
              "      <td>pt_5</td>\n",
              "    </tr>\n",
              "  </tbody>\n",
              "</table>\n",
              "</div>\n",
              "    <div class=\"colab-df-buttons\">\n",
              "\n",
              "  <div class=\"colab-df-container\">\n",
              "    <button class=\"colab-df-convert\" onclick=\"convertToInteractive('df-330c86c8-2b8c-403c-bd94-88bf8a4185fd')\"\n",
              "            title=\"Convert this dataframe to an interactive table.\"\n",
              "            style=\"display:none;\">\n",
              "\n",
              "  <svg xmlns=\"http://www.w3.org/2000/svg\" height=\"24px\" viewBox=\"0 -960 960 960\">\n",
              "    <path d=\"M120-120v-720h720v720H120Zm60-500h600v-160H180v160Zm220 220h160v-160H400v160Zm0 220h160v-160H400v160ZM180-400h160v-160H180v160Zm440 0h160v-160H620v160ZM180-180h160v-160H180v160Zm440 0h160v-160H620v160Z\"/>\n",
              "  </svg>\n",
              "    </button>\n",
              "\n",
              "  <style>\n",
              "    .colab-df-container {\n",
              "      display:flex;\n",
              "      gap: 12px;\n",
              "    }\n",
              "\n",
              "    .colab-df-convert {\n",
              "      background-color: #E8F0FE;\n",
              "      border: none;\n",
              "      border-radius: 50%;\n",
              "      cursor: pointer;\n",
              "      display: none;\n",
              "      fill: #1967D2;\n",
              "      height: 32px;\n",
              "      padding: 0 0 0 0;\n",
              "      width: 32px;\n",
              "    }\n",
              "\n",
              "    .colab-df-convert:hover {\n",
              "      background-color: #E2EBFA;\n",
              "      box-shadow: 0px 1px 2px rgba(60, 64, 67, 0.3), 0px 1px 3px 1px rgba(60, 64, 67, 0.15);\n",
              "      fill: #174EA6;\n",
              "    }\n",
              "\n",
              "    .colab-df-buttons div {\n",
              "      margin-bottom: 4px;\n",
              "    }\n",
              "\n",
              "    [theme=dark] .colab-df-convert {\n",
              "      background-color: #3B4455;\n",
              "      fill: #D2E3FC;\n",
              "    }\n",
              "\n",
              "    [theme=dark] .colab-df-convert:hover {\n",
              "      background-color: #434B5C;\n",
              "      box-shadow: 0px 1px 3px 1px rgba(0, 0, 0, 0.15);\n",
              "      filter: drop-shadow(0px 1px 2px rgba(0, 0, 0, 0.3));\n",
              "      fill: #FFFFFF;\n",
              "    }\n",
              "  </style>\n",
              "\n",
              "    <script>\n",
              "      const buttonEl =\n",
              "        document.querySelector('#df-330c86c8-2b8c-403c-bd94-88bf8a4185fd button.colab-df-convert');\n",
              "      buttonEl.style.display =\n",
              "        google.colab.kernel.accessAllowed ? 'block' : 'none';\n",
              "\n",
              "      async function convertToInteractive(key) {\n",
              "        const element = document.querySelector('#df-330c86c8-2b8c-403c-bd94-88bf8a4185fd');\n",
              "        const dataTable =\n",
              "          await google.colab.kernel.invokeFunction('convertToInteractive',\n",
              "                                                    [key], {});\n",
              "        if (!dataTable) return;\n",
              "\n",
              "        const docLinkHtml = 'Like what you see? Visit the ' +\n",
              "          '<a target=\"_blank\" href=https://colab.research.google.com/notebooks/data_table.ipynb>data table notebook</a>'\n",
              "          + ' to learn more about interactive tables.';\n",
              "        element.innerHTML = '';\n",
              "        dataTable['output_type'] = 'display_data';\n",
              "        await google.colab.output.renderOutput(dataTable, element);\n",
              "        const docLink = document.createElement('div');\n",
              "        docLink.innerHTML = docLinkHtml;\n",
              "        element.appendChild(docLink);\n",
              "      }\n",
              "    </script>\n",
              "  </div>\n",
              "\n",
              "\n",
              "<div id=\"df-05c722bd-c604-4f87-9487-39d81c4a30fe\">\n",
              "  <button class=\"colab-df-quickchart\" onclick=\"quickchart('df-05c722bd-c604-4f87-9487-39d81c4a30fe')\"\n",
              "            title=\"Suggest charts\"\n",
              "            style=\"display:none;\">\n",
              "\n",
              "<svg xmlns=\"http://www.w3.org/2000/svg\" height=\"24px\"viewBox=\"0 0 24 24\"\n",
              "     width=\"24px\">\n",
              "    <g>\n",
              "        <path d=\"M19 3H5c-1.1 0-2 .9-2 2v14c0 1.1.9 2 2 2h14c1.1 0 2-.9 2-2V5c0-1.1-.9-2-2-2zM9 17H7v-7h2v7zm4 0h-2V7h2v10zm4 0h-2v-4h2v4z\"/>\n",
              "    </g>\n",
              "</svg>\n",
              "  </button>\n",
              "\n",
              "<style>\n",
              "  .colab-df-quickchart {\n",
              "      --bg-color: #E8F0FE;\n",
              "      --fill-color: #1967D2;\n",
              "      --hover-bg-color: #E2EBFA;\n",
              "      --hover-fill-color: #174EA6;\n",
              "      --disabled-fill-color: #AAA;\n",
              "      --disabled-bg-color: #DDD;\n",
              "  }\n",
              "\n",
              "  [theme=dark] .colab-df-quickchart {\n",
              "      --bg-color: #3B4455;\n",
              "      --fill-color: #D2E3FC;\n",
              "      --hover-bg-color: #434B5C;\n",
              "      --hover-fill-color: #FFFFFF;\n",
              "      --disabled-bg-color: #3B4455;\n",
              "      --disabled-fill-color: #666;\n",
              "  }\n",
              "\n",
              "  .colab-df-quickchart {\n",
              "    background-color: var(--bg-color);\n",
              "    border: none;\n",
              "    border-radius: 50%;\n",
              "    cursor: pointer;\n",
              "    display: none;\n",
              "    fill: var(--fill-color);\n",
              "    height: 32px;\n",
              "    padding: 0;\n",
              "    width: 32px;\n",
              "  }\n",
              "\n",
              "  .colab-df-quickchart:hover {\n",
              "    background-color: var(--hover-bg-color);\n",
              "    box-shadow: 0 1px 2px rgba(60, 64, 67, 0.3), 0 1px 3px 1px rgba(60, 64, 67, 0.15);\n",
              "    fill: var(--button-hover-fill-color);\n",
              "  }\n",
              "\n",
              "  .colab-df-quickchart-complete:disabled,\n",
              "  .colab-df-quickchart-complete:disabled:hover {\n",
              "    background-color: var(--disabled-bg-color);\n",
              "    fill: var(--disabled-fill-color);\n",
              "    box-shadow: none;\n",
              "  }\n",
              "\n",
              "  .colab-df-spinner {\n",
              "    border: 2px solid var(--fill-color);\n",
              "    border-color: transparent;\n",
              "    border-bottom-color: var(--fill-color);\n",
              "    animation:\n",
              "      spin 1s steps(1) infinite;\n",
              "  }\n",
              "\n",
              "  @keyframes spin {\n",
              "    0% {\n",
              "      border-color: transparent;\n",
              "      border-bottom-color: var(--fill-color);\n",
              "      border-left-color: var(--fill-color);\n",
              "    }\n",
              "    20% {\n",
              "      border-color: transparent;\n",
              "      border-left-color: var(--fill-color);\n",
              "      border-top-color: var(--fill-color);\n",
              "    }\n",
              "    30% {\n",
              "      border-color: transparent;\n",
              "      border-left-color: var(--fill-color);\n",
              "      border-top-color: var(--fill-color);\n",
              "      border-right-color: var(--fill-color);\n",
              "    }\n",
              "    40% {\n",
              "      border-color: transparent;\n",
              "      border-right-color: var(--fill-color);\n",
              "      border-top-color: var(--fill-color);\n",
              "    }\n",
              "    60% {\n",
              "      border-color: transparent;\n",
              "      border-right-color: var(--fill-color);\n",
              "    }\n",
              "    80% {\n",
              "      border-color: transparent;\n",
              "      border-right-color: var(--fill-color);\n",
              "      border-bottom-color: var(--fill-color);\n",
              "    }\n",
              "    90% {\n",
              "      border-color: transparent;\n",
              "      border-bottom-color: var(--fill-color);\n",
              "    }\n",
              "  }\n",
              "</style>\n",
              "\n",
              "  <script>\n",
              "    async function quickchart(key) {\n",
              "      const quickchartButtonEl =\n",
              "        document.querySelector('#' + key + ' button');\n",
              "      quickchartButtonEl.disabled = true;  // To prevent multiple clicks.\n",
              "      quickchartButtonEl.classList.add('colab-df-spinner');\n",
              "      try {\n",
              "        const charts = await google.colab.kernel.invokeFunction(\n",
              "            'suggestCharts', [key], {});\n",
              "      } catch (error) {\n",
              "        console.error('Error during call to suggestCharts:', error);\n",
              "      }\n",
              "      quickchartButtonEl.classList.remove('colab-df-spinner');\n",
              "      quickchartButtonEl.classList.add('colab-df-quickchart-complete');\n",
              "    }\n",
              "    (() => {\n",
              "      let quickchartButtonEl =\n",
              "        document.querySelector('#df-05c722bd-c604-4f87-9487-39d81c4a30fe button');\n",
              "      quickchartButtonEl.style.display =\n",
              "        google.colab.kernel.accessAllowed ? 'block' : 'none';\n",
              "    })();\n",
              "  </script>\n",
              "</div>\n",
              "    </div>\n",
              "  </div>\n"
            ],
            "application/vnd.google.colaboratory.intrinsic+json": {
              "type": "dataframe",
              "variable_name": "df",
              "summary": "{\n  \"name\": \"df\",\n  \"rows\": 50,\n  \"fields\": [\n    {\n      \"column\": \"text\",\n      \"properties\": {\n        \"dtype\": \"string\",\n        \"num_unique_values\": 50,\n        \"samples\": [\n          \"Sample Type / Medical Specialty:\\nHematology - Oncology\\nSample Name:\\nHematology Consult\\nDescription:\\nLeukocytosis, acute deep venous thrombosis, right lower extremity with bilateral pulmonary embolism, on intravenous heparin complicated with acute renal failure for evaluation.\\n(Medical Transcription Sample Report)\\nREASON FOR CONSULTATION:\\nAcute deep venous thrombosis, right lower extremity with bilateral pulmonary embolism, on intravenous heparin complicated with acute renal failure for evaluation.\\nHISTORY OF PRESENTING ILLNESS:\\nBriefly, this is a 36-year-old robust Caucasian gentleman with no significant past medical or surgical history, who works as a sales representative, doing a lot of traveling by plane and car and attending several sales shows, developed acute shortness of breath with an episode of syncope this weekend and was brought in by paramedics to Hospital. A V/Q scan revealed multiple pulmonary perfusion defects consistent with high probability pulmonary embolism. A Doppler venous study of the lower extremity also revealed nonocclusive right popliteal vein thrombosis. A CT of the abdomen and pelvis revealed normal-appearing liver, spleen, and pancreas; however, the right kidney appeared smaller compared to left and suggesting possibility of renal infarct. Renal function on admission was within normal range; however, serial renal function showed rapid increase in creatinine to 5 today. He has been on intravenous heparin and hemodialysis is being planned for tomorrow. Reviewing his history, there is no family members with hypercoagulable state or prior history of any thrombotic complication. He denies any recent injury to his lower extremity and in fact denied any calf pain or swelling.\\nPAST MEDICAL AND SURGICAL HISTORY:\\nUnremarkable.\\nSOCIAL HISTORY:\\nHe is married and has 1 son. He has a brother who is healthy. There is no history of tobacco use or alcohol use.\\nFAMILY HISTORY:\\nNo family history of hypercoagulable condition.\\nMEDICATIONS:\\nAdvil p.r.n.\\nALLERGIES:\\nNONE.\\nREVIEW OF SYSTEMS:\\nEssentially unremarkable except for sudden onset dyspnea on easy exertion complicated with episode of syncope. He denied any hemoptysis. He denied any calf swelling or pain. Lately, he has been traveling and has been sitting behind a desk for a long period of time.\\nPHYSICAL EXAMINATION:\\nGENERAL: He is a robust young gentleman, awake, alert, and hemodynamically stable.\\nHEENT: Sclerae anicteric. Conjunctivae normal. Oropharynx normal.\\nNECK: No adenopathy or thyromegaly. No jugular venous distention.\\nHEART: Regular.\\nLUNGS: Bilateral air entry.\\nABDOMEN: Obese and benign.\\nEXTREMITIES: No calf swelling or calf tenderness appreciated.\\nSKIN: No petechiae or ecchymosis.\\nNEUROLOGIC: Nonfocal.\\nLABORATORY FINDINGS:\\nBlood count obtained showed a white count of 16.8, hemoglobin 14.8 g percent, hematocrit 44.6%, MCV 94, and platelet count 209,000. Liver profile normal. Thyroid study revealed a TSH of 1.3. Prothrombin time/INR 1.5, partial thromboplastin time 78.6 seconds. Renal function, BUN 44 and creatinine 5.7. Echocardiogram revealed left ventricular hypertrophy with ejection fraction of 65%, no intramural thrombus noted.\\nIMPRESSION:\\n1. Bilateral pulmonary embolism, most consistent with emboli from right lower extremity, on intravenous heparin, rule out hereditary hypercoagulable state.\\n2. Leukocytosis, most likely leukemoid reaction secondary to acute pulmonary embolism/renal infarction, doubt presence of myeloproliferative disorder.\\n3. Acute renal failure secondary to embolic right renal infarction.\\n4. Obesity.\\nPLAN:\\nFrom hematologic standpoint, we will await hypercoagulable studies, which have all been sent on admission to see if a hereditary component is at play. For now, we will continue intravenous heparin and subsequent oral anticoagulation with Coumadin. In view of worsening renal function, may need temporary hemodialysis until renal function improves. I discussed at length with the patient's wife at the bedside.\\nKeywords:\\nhematology - oncology, thrombosis, heparin, leukemoid, pulmonary embolism, renal function, intravenous, leukocytosis, venous, hypercoagulable, embolism, function, hematology,\",\n          \"Sample Type / Medical Specialty:\\nHematology - Oncology\\nSample Name:\\nNeck Mass Biopsy\\nDescription:\\nMalignant mass of the left neck, squamous cell carcinoma. Left neck mass biopsy and selective surgical neck dissection, left.\\n(Medical Transcription Sample Report)\\nPREOPERATIVE DIAGNOSIS:\\nMalignant mass of the left neck.\\nPOSTOPERATIVE DIAGNOSIS:\\nMalignant mass of the left neck, squamous cell carcinoma.\\nPROCEDURES\\n1. Left neck mass biopsy.\\n2. Selective surgical neck dissection, left.\\nDESCRIPTION OF PROCEDURE:\\nAfter obtaining an informed, the patient was taken to the operating room where a time-out process was followed. Preoperative antibiotic was given and Dr. X proceeded to intubate the patient after a detailed anesthetic preparation that started in the Same Day Surgery and followed in the operating room. Finally, a 5.5-French endotracheal tube was inserted and the patient was able to tolerate that and did have stable vital signs and a proper oxygenation.\\nThen, the patient was positioned with the neck slightly distended and turned toward the opposite side of the operation. The neck was prepped and draped in the usual fashion. I proceeded to mark the site of the mass and then also to mark the proposed site for the creation of a flap. Then, I performed an extensive anesthetic block of the area.\\nThen, an incision was made along the area marked for development of the flap, but in a very limited extent, just to expose the cervical mass. The cervical mass, which was about 4 cm in diameter and very firm and rubbery, was found lodged between the sternocleidomastoid muscle and the internal jugular vein in the area III of the neck. A wedge sample was sent to Pathology for frozen section. At the same time, we waited for the result and the initial report was not clear in the sense that a lot of lymphoepithelial reaction was seen. Therefore, a larger sample was sent to Pathology and at that particular time, the fresh frozen was reported as having squamous elements. This was not totally clear in my mind and therefore I proceeded to excise the full mass, which luckily was not attached to any structures except in the very deep surface. There, there were some attachments to branches of the external carotid artery, which had to be suture ligated. At any rate, the whole specimen was to the lab and finally the diagnosis was that of a metastatic squamous cell carcinoma.\\nWith that information in hand, we proceeded to continue with a neck dissection and proceeded to make an incision along the previously marked sites of the flap, which basically involved a reverse U shape on the left neck. This worked out quite nicely. The external jugular vein was out of the way, so initially we did not deal with it. We proceeded to tackle the area III and extended into II-A. When we excised the mass, the upper end was in intimate relationship with the parotid gland, which was relatively large in this patient, but it looked normal otherwise. Also, I felt that the submaxillary gland was enlarged. At any rate, we decided to clean up the areas III and IV and a few nodes from II-A that were removed, and then we went into the posterior triangle where we identified the spinal accessory nerve, which we protected, actually did not even dissect close to it.\\nThe same nerve had been already identified anterior to the internal jugular vein, very proximally behind the digastric and the sternocleidomastoid muscle. At any rate, there were large nodes in the posterior triangle, in areas V-A and V-B, which were excised and sent to Pathology for examination. Also, there was a remnant of a capsule of the main mass that we proceeded to excise and sent to Pathology as an extra specimen. Hemostasis was revised and found to be adequate. The flaps had been protected by folding it to the chest and protected by wet sponges on both sides of the flap. The flap was replaced in its position. A soft Jackson-Pratt catheter was left in the area, and then we proceeded to approximate the flap with a number of subcutaneous sutures of Vicryl and then running sutures of subcuticular Monocryl to the skin. I would like to mention that also the facial vein was excised and the external jugular vein was ligated. It was in very lateral location and it was on the site of the drain, so we ligated that but did not excise it. A pressure dressing was applied.\\nThe patient tolerated the procedure well. Estimated blood loss was no more than 100 mL. The patient was extubated in the operating room and sent for recovery.\\nKeywords:\\nhematology - oncology, neck mass biopsy, surgical neck dissection, internal jugular vein, external jugular vein, squamous cell carcinoma, neck mass, malignant mass, neck dissection, mass, neck, wedge, vein,\",\n          \"Sample Type / Medical Specialty:\\nHematology - Oncology\\nSample Name:\\nDischarge Summary - Mesothelioma\\nDescription:\\nA patient with preoperative diagnosis of right pleural mass and postoperative diagnosis of mesothelioma.\\n(Medical Transcription Sample Report)\\nPREOPERATIVE DIAGNOSIS:\\nRight pleural mass.\\nPOSTOPERATIVE DIAGNOSIS:\\nMesothelioma.\\nPROCEDURES PERFORMED:\\n1. Flexible bronchoscopy.\\n2. Mediastinoscopy.\\n3. Right thoracotomy.\\n4. Parietal pleural biopsy.\\nCONSULTS:\\nConsults obtained during this hospitalization included:\\n1. Radiation Oncology.\\n2. Pulmonary Medicine.\\n3. Medical Oncology.\\n4. Cancer Center Team consult.\\n5. Massage therapy consult.\\nHOSPITAL COURSE:\\nThe patient's hospital course was unremarkable. Her pain was well controlled with an epidural that was placed by Anesthesia. At the time of discharge, the patient was ambulatory. She was discharged with home oxygen available. She was discharged with albuterol nebulizer treatments, treatments were to be q.i.d. She was discharged with a prescription for Vicodin for pain control. She is to follow up with Dr. X in the office in one week with a chest x-ray. She is instructed not to lift, push or pull anything greater than 10 pounds. She is instructed not to drive until after she sees us in the office and is off her pain medications.\\nKeywords:\\nhematology - oncology, flexible bronchoscopy, mediastinoscopy, right thoracotomy, pleural biopsy, pleural mass, mesothelioma, oncology,\"\n        ],\n        \"semantic_type\": \"\",\n        \"description\": \"\"\n      }\n    },\n    {\n      \"column\": \"document_id\",\n      \"properties\": {\n        \"dtype\": \"string\",\n        \"num_unique_values\": 50,\n        \"samples\": [\n          \"0b3f4558-2b45-4282-9fa1-7f8de2a21f3a\",\n          \"03493661-271a-4a74-899d-f3fb3f829d50\",\n          \"a808f3a1-57db-4e93-bd7b-f81bdd10355d\"\n        ],\n        \"semantic_type\": \"\",\n        \"description\": \"\"\n      }\n    },\n    {\n      \"column\": \"patient_id\",\n      \"properties\": {\n        \"dtype\": \"category\",\n        \"num_unique_values\": 21,\n        \"samples\": [\n          \"pt_24\",\n          \"pt_15\",\n          \"pt_12\"\n        ],\n        \"semantic_type\": \"\",\n        \"description\": \"\"\n      }\n    }\n  ]\n}"
            }
          },
          "metadata": {},
          "execution_count": 10
        }
      ],
      "source": [
        "df.head()"
      ]
    },
    {
      "cell_type": "code",
      "source": [
        "import pandas as pd\n",
        "\n",
        "spark_df = spark.createDataFrame(df)\n",
        "\n",
        "spark_df.write.mode(\"overwrite\").parquet('mtsamples_clinical_records.parquet')\n",
        "spark_df.show(5)"
      ],
      "metadata": {
        "colab": {
          "base_uri": "https://localhost:8080/"
        },
        "id": "23Z-yO0JK7R_",
        "outputId": "b482be16-aa0a-4da2-842e-082a12e3938b"
      },
      "execution_count": 11,
      "outputs": [
        {
          "output_type": "stream",
          "name": "stdout",
          "text": [
            "+--------------------+--------------------+----------+\n",
            "|                text|         document_id|patient_id|\n",
            "+--------------------+--------------------+----------+\n",
            "|Sample Type / Med...|6896e246-5867-41f...|     pt_24|\n",
            "|Sample Type / Med...|12aea5f7-d5ed-4ee...|     pt_19|\n",
            "|Sample Type / Med...|77cfd8bf-9517-4b0...|     pt_26|\n",
            "|Sample Type / Med...|26a27d02-e5cd-4fa...|     pt_29|\n",
            "|Sample Type / Med...|864460ed-1336-49b...|      pt_5|\n",
            "+--------------------+--------------------+----------+\n",
            "only showing top 5 rows\n",
            "\n"
          ]
        }
      ]
    },
    {
      "cell_type": "markdown",
      "metadata": {
        "application/vnd.databricks.v1+cell": {
          "cellMetadata": {
            "byteLimit": 2048000,
            "rowLimit": 10000
          },
          "inputWidgets": {},
          "nuid": "f60d10bd-8b05-4b94-b63a-1949c67bf3c8",
          "showTitle": false,
          "title": ""
        },
        "id": "cGSvc41mbSgf"
      },
      "source": [
        "### Split by LangChain"
      ]
    },
    {
      "cell_type": "code",
      "execution_count": 12,
      "metadata": {
        "application/vnd.databricks.v1+cell": {
          "cellMetadata": {
            "byteLimit": 2048000,
            "rowLimit": 10000
          },
          "inputWidgets": {},
          "nuid": "aff23d72-e882-454e-b805-f1bdb15619d3",
          "showTitle": false,
          "title": ""
        },
        "execution": {
          "iopub.execute_input": "2024-02-15T11:34:57.330783Z",
          "iopub.status.busy": "2024-02-15T11:34:57.330175Z",
          "iopub.status.idle": "2024-02-15T11:34:59.402563Z",
          "shell.execute_reply": "2024-02-15T11:34:59.401901Z",
          "shell.execute_reply.started": "2024-02-15T11:34:57.330761Z"
        },
        "tags": [],
        "id": "Rt2av8VObSgg"
      },
      "outputs": [],
      "source": [
        "from langchain.document_loaders import PySparkDataFrameLoader\n",
        "\n",
        "loader = PySparkDataFrameLoader(spark, spark_df, page_content_column=\"text\")\n",
        "\n",
        "documents = loader.load()"
      ]
    },
    {
      "cell_type": "code",
      "execution_count": 13,
      "metadata": {
        "application/vnd.databricks.v1+cell": {
          "cellMetadata": {
            "byteLimit": 2048000,
            "rowLimit": 10000
          },
          "inputWidgets": {},
          "nuid": "a8e14930-6bf7-4467-9603-175c79f16628",
          "showTitle": false,
          "title": ""
        },
        "execution": {
          "iopub.execute_input": "2024-02-15T11:34:59.404572Z",
          "iopub.status.busy": "2024-02-15T11:34:59.404364Z",
          "iopub.status.idle": "2024-02-15T11:34:59.421376Z",
          "shell.execute_reply": "2024-02-15T11:34:59.420787Z",
          "shell.execute_reply.started": "2024-02-15T11:34:59.404554Z"
        },
        "tags": [],
        "id": "it7wF86MbSgg"
      },
      "outputs": [],
      "source": [
        "from langchain.text_splitter import RecursiveCharacterTextSplitter\n",
        "\n",
        "text_splitter = RecursiveCharacterTextSplitter(\n",
        "    chunk_size=1000,\n",
        "    chunk_overlap=50,\n",
        "    length_function=len,\n",
        "    is_separator_regex=False,\n",
        ")\n",
        "\n",
        "split_texts = text_splitter.split_documents(documents)"
      ]
    },
    {
      "cell_type": "code",
      "execution_count": 14,
      "metadata": {
        "application/vnd.databricks.v1+cell": {
          "cellMetadata": {
            "byteLimit": 2048000,
            "rowLimit": 10000
          },
          "inputWidgets": {},
          "nuid": "34099ea0-61f4-4ae5-a3e1-cdbf38d84f2d",
          "showTitle": false,
          "title": ""
        },
        "execution": {
          "iopub.execute_input": "2024-02-15T11:28:14.629386Z",
          "iopub.status.busy": "2024-02-15T11:28:14.629236Z",
          "iopub.status.idle": "2024-02-15T11:28:14.690292Z",
          "shell.execute_reply": "2024-02-15T11:28:14.689713Z",
          "shell.execute_reply.started": "2024-02-15T11:28:14.629368Z"
        },
        "tags": [],
        "id": "vvTLXl8LbSgg",
        "outputId": "51aebe5b-ca18-45f7-a32e-7a73a1b842dc",
        "colab": {
          "base_uri": "https://localhost:8080/"
        }
      },
      "outputs": [
        {
          "output_type": "execute_result",
          "data": {
            "text/plain": [
              "Document(page_content='Sample Type / Medical Specialty:\\nHematology - Oncology\\nSample Name:\\nDischarge Summary - Mesothelioma - 1\\nDescription:\\nMesothelioma, pleural effusion, atrial fibrillation, anemia, ascites, esophageal reflux, and history of deep venous thrombosis.\\n(Medical Transcription Sample Report)\\nPRINCIPAL DIAGNOSIS:\\nMesothelioma.\\nSECONDARY DIAGNOSES:\\nPleural effusion, atrial fibrillation, anemia, ascites, esophageal reflux, and history of deep venous thrombosis.\\nPROCEDURES\\n1. On August 24, 2007, decortication of the lung with pleural biopsy and transpleural fluoroscopy.\\n2. On August 20, 2007, thoracentesis.\\n3. On August 31, 2007, Port-A-Cath placement.\\nHISTORY AND PHYSICAL:', metadata={'document_id': '6896e246-5867-41f3-8bd5-36f9c0a46c24', 'patient_id': 'pt_24'})"
            ]
          },
          "metadata": {},
          "execution_count": 14
        }
      ],
      "source": [
        "split_texts[0]"
      ]
    },
    {
      "cell_type": "markdown",
      "metadata": {
        "application/vnd.databricks.v1+cell": {
          "cellMetadata": {
            "byteLimit": 2048000,
            "rowLimit": 10000
          },
          "inputWidgets": {},
          "nuid": "f5412777-6076-4a19-bd4d-3497ea139ccb",
          "showTitle": false,
          "title": ""
        },
        "id": "QowvhxBebSgh"
      },
      "source": [
        "### Split by Medical Splitter: Split by Section Headers"
      ]
    },
    {
      "cell_type": "markdown",
      "metadata": {
        "application/vnd.databricks.v1+cell": {
          "cellMetadata": {
            "byteLimit": 2048000,
            "rowLimit": 10000
          },
          "inputWidgets": {},
          "nuid": "dbc0f32a-1d62-4c6e-a550-97b0dbeb7a88",
          "showTitle": false,
          "title": ""
        },
        "id": "FjkfMpzobSgh"
      },
      "source": [
        "#### Section Header Detection Using Spark NLP for Healtcare NER Models"
      ]
    },
    {
      "cell_type": "code",
      "execution_count": 15,
      "metadata": {
        "application/vnd.databricks.v1+cell": {
          "cellMetadata": {
            "byteLimit": 2048000,
            "rowLimit": 10000
          },
          "inputWidgets": {},
          "nuid": "bba64921-d792-424e-a1a5-01603e11c562",
          "showTitle": false,
          "title": ""
        },
        "execution": {
          "iopub.execute_input": "2024-02-15T11:35:02.959083Z",
          "iopub.status.busy": "2024-02-15T11:35:02.958594Z",
          "iopub.status.idle": "2024-02-15T11:35:16.043358Z",
          "shell.execute_reply": "2024-02-15T11:35:16.042700Z",
          "shell.execute_reply.started": "2024-02-15T11:35:02.959064Z"
        },
        "tags": [],
        "id": "aeEw5L5sbSgh",
        "outputId": "d2f466f7-d4d8-4cd4-d417-b257f4b30b1d",
        "colab": {
          "base_uri": "https://localhost:8080/"
        }
      },
      "outputs": [
        {
          "output_type": "stream",
          "name": "stdout",
          "text": [
            "embeddings_clinical download started this may take some time.\n",
            "Approximate size to download 1.6 GB\n",
            "[OK!]\n",
            "ner_jsl_slim download started this may take some time.\n",
            "[OK!]\n"
          ]
        }
      ],
      "source": [
        "document_assembler = nlp.DocumentAssembler()\\\n",
        "      .setInputCol('text')\\\n",
        "      .setOutputCol('document')\n",
        "\n",
        "sentence_detector = nlp.SentenceDetector()\\\n",
        "      .setInputCols([\"document\"])\\\n",
        "      .setOutputCol(\"sentence\")\n",
        "\n",
        "tokenizer = nlp.Tokenizer()\\\n",
        "      .setInputCols(\"sentence\")\\\n",
        "      .setOutputCol(\"token\")\n",
        "\n",
        "embeddings = nlp.WordEmbeddingsModel.pretrained(\"embeddings_clinical\", \"en\",\"clinical/models\")\\\n",
        "      .setInputCols([\"sentence\", \"token\"])\\\n",
        "      .setOutputCol(\"word_embeddings\")\n",
        "\n",
        "clinical_ner = medical.NerModel.pretrained(\"ner_jsl_slim\", \"en\", \"clinical/models\")\\\n",
        "      .setInputCols([\"sentence\",\"token\", \"word_embeddings\"])\\\n",
        "      .setOutputCol(\"ner\")\n",
        "\n",
        "ner_converter = medical.NerConverterInternal()\\\n",
        "      .setInputCols([\"sentence\", \"token\", \"ner\"])\\\n",
        "      .setOutputCol(\"ner_chunk\")\\\n",
        "      .setWhiteList([\"Header\"])\n",
        "\n",
        "pipeline = nlp.Pipeline().setStages([\n",
        "    document_assembler,\n",
        "    sentence_detector,\n",
        "    tokenizer,\n",
        "    embeddings,\n",
        "    clinical_ner,\n",
        "    ner_converter])\n",
        "\n",
        "section_model = pipeline.fit(spark_df)\n"
      ]
    },
    {
      "cell_type": "code",
      "execution_count": 16,
      "metadata": {
        "application/vnd.databricks.v1+cell": {
          "cellMetadata": {
            "byteLimit": 2048000,
            "rowLimit": 10000
          },
          "inputWidgets": {},
          "nuid": "1f9b5198-5631-4b4a-ae19-b7a508ebbb03",
          "showTitle": false,
          "title": ""
        },
        "execution": {
          "iopub.execute_input": "2024-02-15T11:35:16.045662Z",
          "iopub.status.busy": "2024-02-15T11:35:16.045403Z",
          "iopub.status.idle": "2024-02-15T11:35:16.101405Z",
          "shell.execute_reply": "2024-02-15T11:35:16.100660Z",
          "shell.execute_reply.started": "2024-02-15T11:35:16.045638Z"
        },
        "tags": [],
        "id": "Ciqvd5C8bSgh"
      },
      "outputs": [],
      "source": [
        "section_model_lp = nlp.LightPipeline(section_model)"
      ]
    },
    {
      "cell_type": "code",
      "execution_count": 17,
      "metadata": {
        "application/vnd.databricks.v1+cell": {
          "cellMetadata": {
            "byteLimit": 2048000,
            "rowLimit": 10000
          },
          "inputWidgets": {},
          "nuid": "1bbf9199-9875-4e9a-ba84-7e353f3d6c85",
          "showTitle": false,
          "title": ""
        },
        "execution": {
          "iopub.execute_input": "2024-02-15T11:35:16.102542Z",
          "iopub.status.busy": "2024-02-15T11:35:16.102308Z",
          "iopub.status.idle": "2024-02-15T11:35:17.905952Z",
          "shell.execute_reply": "2024-02-15T11:35:17.905359Z",
          "shell.execute_reply.started": "2024-02-15T11:35:16.102506Z"
        },
        "tags": [],
        "id": "-OpPB3TebSgi",
        "outputId": "ef44827a-e919-4fb6-e42e-bae26df2fc96",
        "colab": {
          "base_uri": "https://localhost:8080/"
        }
      },
      "outputs": [
        {
          "output_type": "execute_result",
          "data": {
            "text/plain": [
              "['PRINCIPAL DIAGNOSIS:',\n",
              " 'SECONDARY DIAGNOSES:',\n",
              " 'PROCEDURES',\n",
              " 'HISTORY AND PHYSICAL:',\n",
              " 'PAST MEDICAL HISTORY',\n",
              " 'FAMILY HISTORY:',\n",
              " 'SOCIAL HISTORY:',\n",
              " 'MEDICATIONS',\n",
              " 'REVIEW OF SYSTEMS:',\n",
              " 'PHYSICAL EXAMINATION\\nVITAL SIGNS:',\n",
              " 'GENERAL:',\n",
              " 'LABORATORY DATA:',\n",
              " 'HOSPITAL COURSE:']"
            ]
          },
          "metadata": {},
          "execution_count": 17
        }
      ],
      "source": [
        "headers = section_model_lp.annotate(note)['ner_chunk']\n",
        "headers"
      ]
    },
    {
      "cell_type": "code",
      "execution_count": null,
      "metadata": {
        "application/vnd.databricks.v1+cell": {
          "cellMetadata": {
            "byteLimit": 2048000,
            "rowLimit": 10000
          },
          "inputWidgets": {},
          "nuid": "6cf1ca91-e6f5-453f-a030-1dcf0ecf95e4",
          "showTitle": false,
          "title": ""
        },
        "id": "WHdMWPNUfaXh",
        "outputId": "8a93b942-5b64-44c7-baef-49d881243f5b"
      },
      "outputs": [
        {
          "output_type": "stream",
          "name": "stdout",
          "text": [
            "+--------------------------------------------------------------+---------+----------+\n|chunk                                                         |ner_label|confidence|\n+--------------------------------------------------------------+---------+----------+\n|PRINCIPAL DIAGNOSIS:                                          |Header   |0.5713667 |\n|SECONDARY DIAGNOSES:                                          |Header   |0.6755    |\n|PROCEDURES                                                    |Header   |0.9934    |\n|HISTORY AND PHYSICAL:                                         |Header   |0.66112494|\n|PAST MEDICAL HISTORY                                          |Header   |0.69296664|\n|FAMILY HISTORY:                                               |Header   |0.7933    |\n|SOCIAL HISTORY:                                               |Header   |0.70523334|\n|MEDICATIONS                                                   |Header   |0.9037    |\n|REVIEW OF SYSTEMS:                                            |Header   |0.6896    |\n|PHYSICAL EXAMINATION\\nVITAL SIGNS:                            |Header   |0.59578   |\n|GENERAL:                                                      |Header   |0.5557    |\n|LABORATORY DATA:                                              |Header   |0.71576667|\n|HOSPITAL COURSE:                                              |Header   |0.73366666|\n|(Medical Transcription Sample Report)\\nPREOPERATIVE DIAGNOSIS:|Header   |0.52739996|\n|POSTOPERATIVE DIAGNOSIS:                                      |Header   |0.7541    |\n|TITLE OF OPERATION:                                           |Header   |0.4805    |\n|PROCEDURE:                                                    |Header   |0.85510004|\n|(Medical Transcription Sample Report)\\nDIAGNOSIS:             |Header   |0.5534375 |\n|CHIEF COMPLAINT:                                              |Header   |0.6915333 |\n|HISTORY:                                                      |Header   |0.8549    |\n+--------------------------------------------------------------+---------+----------+\nonly showing top 20 rows\n\n"
          ]
        }
      ],
      "source": [
        "from pyspark.sql import functions as F\n",
        "\n",
        "result = section_model.transform(spark_df)\n",
        "\n",
        "headers_df = result.select(F.explode(F.arrays_zip(result.ner_chunk.result,\n",
        "                                     result.ner_chunk.metadata)).alias(\"cols\")) \\\n",
        "      .select(F.expr(\"cols['0']\").alias(\"chunk\"),\n",
        "              F.expr(\"cols['1']['entity']\").alias(\"ner_label\"),\n",
        "              F.expr(\"cols['1']['confidence']\").alias(\"confidence\")).cache()\n",
        "\n",
        "headers_df.show(truncate=False)"
      ]
    },
    {
      "cell_type": "code",
      "execution_count": 20,
      "metadata": {
        "application/vnd.databricks.v1+cell": {
          "cellMetadata": {
            "byteLimit": 2048000,
            "rowLimit": 10000
          },
          "inputWidgets": {},
          "nuid": "34e51793-3a1d-4fdd-8827-798b0a70659c",
          "showTitle": false,
          "title": ""
        },
        "id": "OLSF9ooRbSgi",
        "outputId": "b9219f4a-2f02-4da3-94fd-f34207c02411",
        "colab": {
          "base_uri": "https://localhost:8080/"
        }
      },
      "outputs": [
        {
          "output_type": "execute_result",
          "data": {
            "text/plain": [
              "['PHYSICAL EXAMINATION:',\n",
              " 'REASON FOR VISIT:',\n",
              " 'CLINICAL HISTORY:',\n",
              " 'SPECIMENS:',\n",
              " 'IMAGING:',\n",
              " 'DESCRIPTION OF PROCEDURE:',\n",
              " 'DIAGNOSTIC DATA:',\n",
              " 'PHYSICAL EXAMINATION:\\nGeneral:',\n",
              " 'SUMMARY:',\n",
              " 'IMMUNIZATION HISTORY:',\n",
              " 'FAMILY MEDICAL HISTORY:',\n",
              " 'PAST MEDICAL HISTORY',\n",
              " 'IMPRESSION/PLAN:',\n",
              " 'PROCEDURES:',\n",
              " 'PAST SURGICAL HISTORY',\n",
              " 'PROCEDURE IN DETAIL:',\n",
              " 'PEDIATRIC ONCOLOGY ATTENDING:',\n",
              " 'DRUG ALLERGIES:',\n",
              " 'HISTORY OF PRESENTING ILLNESS:',\n",
              " 'FINDINGS AND PROCEDURE:',\n",
              " 'SPECIMEN:',\n",
              " 'OCCUPATION:',\n",
              " 'Lab:\\nLAB DATA:',\n",
              " 'GEN:',\n",
              " 'PLANS:',\n",
              " 'CHIEF COMPLAINT:',\n",
              " 'IMPRESSION:',\n",
              " 'JUSTIFICATION:',\n",
              " 'LABORATORY DATA:',\n",
              " 'IMPRESSION / DIAGNOSIS\\n:',\n",
              " 'PROCEDURE PERFORMED:',\n",
              " 'POSTOPERATIVE DIAGNOSES:',\n",
              " 'BREAST CANCER HISTORY:',\n",
              " 'PAST MEDICAL HISTORY:',\n",
              " 'REVIEW OF SYSTEMS',\n",
              " 'PRINCIPAL DIAGNOSIS:',\n",
              " 'Description:',\n",
              " 'ASSESSMENT AND PLAN:',\n",
              " 'BLOOD LOSS:',\n",
              " 'ANESTHESIA:\\nGeneral\\nNAME OF OPERATION:',\n",
              " 'CHEMISTRY:',\n",
              " '1.\\nPHYSICAL EXAMINATION:\\nVITAL SIGNS:',\n",
              " 'FOLLOW-UP INSTRUCTIONS:',\n",
              " 'PROCEDURES',\n",
              " 'HISTORY AND PHYSICAL:',\n",
              " 'PHYSICAL EXAMINATION\\nNECK:',\n",
              " 'ASSESSMENT/PLAN:',\n",
              " 'POSTOPERATIVE DIAGNOSES',\n",
              " 'FAMILY HISTORY:',\n",
              " 'ANESTHESIA:',\n",
              " 'GENERAL:',\n",
              " 'INDICATIONS:',\n",
              " 'PAST MEDICAL AND SURGICAL HISTORY:',\n",
              " 'INDICATION FOR THE PROCEDURE:',\n",
              " 'DESCRIPTION OF OPERATION:',\n",
              " 'URINE OUTPUT:',\n",
              " 'PAST SURGICAL HISTORY:',\n",
              " 'ALLERGIES:',\n",
              " 'SOCIAL HISTORY:',\n",
              " 'OPERATION:',\n",
              " 'TESTS ORDERED:',\n",
              " 'LABORATORY STUDIES:',\n",
              " '(Medical Transcription Sample Report)\\nDIAGNOSIS:',\n",
              " 'PATHOLOGY:',\n",
              " 'RECOMMENDATIONS:',\n",
              " 'EBL:',\n",
              " 'SCREENING TEST HISTORY:',\n",
              " 'FLUIDS:',\n",
              " 'PHYSICAL EXAM:\\nVIT:',\n",
              " 'POSTOPERATIVE DIAGNOSIS:',\n",
              " 'NOTE:',\n",
              " 'SURGERY:',\n",
              " 'PROBLEMS DIAGNOSES:',\n",
              " 'VITAL SIGNS:',\n",
              " 'FINDINGS:',\n",
              " 'CONDITION:',\n",
              " 'IMAGINING DATA:',\n",
              " 'TECHNIQUE:',\n",
              " 'ESTIMATED BLOOD LOSS:',\n",
              " 'DISCUSSION:',\n",
              " 'MEDICATIONS',\n",
              " 'DIAGNOSTIC STUDIES:',\n",
              " 'PROCEDURE:',\n",
              " 'MEDICATIONS:',\n",
              " 'PHYSICAL EXAMINATION:\\nVITAL SIGNS:',\n",
              " 'IMMUNIZATIONS:',\n",
              " 'PHYSICAL EXAMINATION:\\nGENERAL:',\n",
              " 'PROCEDURES PERFORMED:',\n",
              " 'PHYSICAL EXAMINATION:\\nVitals:',\n",
              " 'HISTORY:',\n",
              " 'PHYSICAL EXAM:',\n",
              " 'PERSONAL HISTORY:',\n",
              " 'REVIEW OF SYSTEMS:',\n",
              " 'MEDICATIONS PRIOR TO ADMISSION:',\n",
              " '(Medical Transcription Sample Report)\\nPREOPERATIVE DIAGNOSIS:',\n",
              " 'PHYSICAL EXAM:\\nVITALS:',\n",
              " 'Vital Signs:',\n",
              " 'SECONDARY DIAGNOSES:',\n",
              " 'RADIOLOGY:',\n",
              " 'LABORATORY FINDINGS:',\n",
              " 'CONSULTS:',\n",
              " 'PROCEDURE IN DETAIL',\n",
              " 'HISTORY OF PRESENT ILLNESS:',\n",
              " 'IMPRESSION AND PLAN:',\n",
              " 'HOSPITAL COURSE:',\n",
              " 'PHYSICAL EXAMINATION\\nVITAL SIGNS:',\n",
              " 'INDICATIONS FOR PROCEDURE:',\n",
              " 'GENITOURINARY:',\n",
              " 'INDICATIONS FOR PROCEDURES',\n",
              " 'CURRENT MEDICATIONS:',\n",
              " 'OPERATION PERFORMED:',\n",
              " 'FACE:',\n",
              " 'STAGE:',\n",
              " 'PERSONAL AND SOCIAL HISTORY:',\n",
              " 'TITLE OF OPERATION:',\n",
              " 'RADIOLOGIC DATA:',\n",
              " 'COMPLICATIONS:',\n",
              " 'CURRENT MEDICATIONS',\n",
              " 'PLAN:',\n",
              " 'PROCEDURES AND IMMUNIZATIONS:',\n",
              " '(Medical Transcription Sample Report)\\nREASON FOR CONSULTATION:',\n",
              " 'INDICATION:',\n",
              " 'REASON FOR EXAM:',\n",
              " 'PROCEDURE',\n",
              " 'GROSS FINDINGS:',\n",
              " 'ASSESSMENT:']"
            ]
          },
          "metadata": {},
          "execution_count": 20
        }
      ],
      "source": [
        "unique_headers_df = headers_df.select('chunk').distinct()\n",
        "\n",
        "headers = [row['chunk'] for row in unique_headers_df.collect()]\n",
        "\n",
        "headers"
      ]
    },
    {
      "cell_type": "code",
      "execution_count": null,
      "metadata": {
        "application/vnd.databricks.v1+cell": {
          "cellMetadata": {
            "byteLimit": 2048000,
            "rowLimit": 10000
          },
          "inputWidgets": {},
          "nuid": "b945b1f1-4639-4cde-8054-5130cdfb77e1",
          "showTitle": false,
          "title": ""
        },
        "execution": {
          "iopub.execute_input": "2024-02-15T11:35:17.907958Z",
          "iopub.status.busy": "2024-02-15T11:35:17.907521Z",
          "iopub.status.idle": "2024-02-15T11:35:17.922868Z",
          "shell.execute_reply": "2024-02-15T11:35:17.922286Z",
          "shell.execute_reply.started": "2024-02-15T11:35:17.907934Z"
        },
        "tags": [],
        "id": "0uxu1cwpbSgi"
      },
      "outputs": [],
      "source": [
        "document_assembler = nlp.DocumentAssembler()\\\n",
        "    .setInputCol(\"text\")\\\n",
        "    .setOutputCol(\"document\")\n",
        "\n",
        "document_splitter = medical.DocumentSplitter()\\\n",
        "    .setInputCols(\"document\")\\\n",
        "    .setOutputCol(\"splits\")\\\n",
        "    .setSplitMode(\"regex\")\\\n",
        "    .setExplodeSplits(True)\\\n",
        "    .setSplitPatterns(headers)\\\n",
        "    .setCaseSensitive(True) \\\n",
        "    .setCustomBoundsStrategy(\"prepend\")\n",
        "\n",
        "pipeline = nlp.Pipeline().setStages([\n",
        "    document_assembler,\n",
        "    document_splitter\n",
        "])\n",
        "\n",
        "splitter_model = pipeline.fit(spark_df)"
      ]
    },
    {
      "cell_type": "code",
      "execution_count": null,
      "metadata": {
        "application/vnd.databricks.v1+cell": {
          "cellMetadata": {
            "byteLimit": 2048000,
            "rowLimit": 10000
          },
          "inputWidgets": {},
          "nuid": "f8861b7f-3a19-4ebe-918c-d2f7a5d6d57e",
          "showTitle": false,
          "title": ""
        },
        "execution": {
          "iopub.execute_input": "2024-02-15T11:35:17.924094Z",
          "iopub.status.busy": "2024-02-15T11:35:17.923559Z",
          "iopub.status.idle": "2024-02-15T11:35:17.996022Z",
          "shell.execute_reply": "2024-02-15T11:35:17.995472Z",
          "shell.execute_reply.started": "2024-02-15T11:35:17.924076Z"
        },
        "tags": [],
        "id": "Pi2fWZSkbSgj"
      },
      "outputs": [],
      "source": [
        "splitter_model_lp = nlp.LightPipeline(splitter_model)"
      ]
    },
    {
      "cell_type": "code",
      "execution_count": null,
      "metadata": {
        "application/vnd.databricks.v1+cell": {
          "cellMetadata": {
            "byteLimit": 2048000,
            "rowLimit": 10000
          },
          "inputWidgets": {},
          "nuid": "e25620bc-9006-452f-8276-ae65d8377808",
          "showTitle": false,
          "title": ""
        },
        "execution": {
          "iopub.execute_input": "2024-02-15T11:35:17.997212Z",
          "iopub.status.busy": "2024-02-15T11:35:17.996672Z",
          "iopub.status.idle": "2024-02-15T11:35:18.104975Z",
          "shell.execute_reply": "2024-02-15T11:35:18.104297Z",
          "shell.execute_reply.started": "2024-02-15T11:35:17.997195Z"
        },
        "tags": [],
        "id": "lo3EHBu_bSgj",
        "outputId": "10341e3a-b305-4e06-eca0-98a828ad8367",
        "colab": {
          "base_uri": "https://localhost:8080/"
        }
      },
      "outputs": [
        {
          "output_type": "stream",
          "name": "stdout",
          "text": [
            "Sample Type / Medical Specialty:\n",
            "Hematology - Oncology\n",
            "Sample Name:\n",
            "Discharge Summary - Mesothelioma - 1 \n",
            "---------------------------\n",
            "Description:\n",
            "Mesothelioma, pleural effusion, atrial fibrillation, anemia, ascites, esophageal reflux, and history of deep venous thrombosis.\n",
            "(Medical Transcription Sample Report) \n",
            "---------------------------\n",
            "PRINCIPAL DIAGNOSIS:\n",
            "Mesothelioma. \n",
            "---------------------------\n",
            "SECONDARY DIAGNOSES:\n",
            "Pleural effusion, atrial fibrillation, anemia, ascites, esophageal reflux, and history of deep venous thrombosis. \n",
            "---------------------------\n",
            "PROCEDURES\n",
            "1. On August 24, 2007, decortication of the lung with pleural biopsy and transpleural fluoroscopy.\n",
            "2. On August 20, 2007, thoracentesis.\n",
            "3. On August 31, 2007, Port-A-Cath placement. \n",
            "---------------------------\n",
            "HISTORY AND PHYSICAL:\n",
            "The patient is a 41-year-old Vietnamese female with a nonproductive cough that started last week. She has had right-sided chest pain radiating to her back with fever starting yesterday. She has a history of pericarditis and pericardectomy in May 2006 and developed cough with right-sided chest pain, and went to an urgent care center. Chest x-ray revealed right-sided pleural effusion. \n",
            "---------------------------\n",
            "PAST MEDICAL HISTORY\n",
            "1. Pericardectomy.\n",
            "2. Pericarditis.\n",
            "2. Atrial fibrillation.\n",
            "4. RNCA with intracranial thrombolytic treatment.\n",
            "5 PTA of MCA.\n",
            "6. Mesenteric venous thrombosis.\n",
            "7. Pericardial window.\n",
            "8. Cholecystectomy.\n",
            "9. Left thoracentesis. \n",
            "---------------------------\n",
            "FAMILY HISTORY:\n",
            "No family history of coronary artery disease, CVA, diabetes, CHF or MI. The patient has one family member, a sister, with history of cancer. \n",
            "---------------------------\n",
            "SOCIAL HISTORY:\n",
            "She is married. Employed with the US Post Office. She is a mother of three. Denies tobacco, alcohol or illicit drug use. \n",
            "---------------------------\n",
            "MEDICATIONS\n",
            "1. Coumadin 1 mg daily. Last INR was on Tuesday, August 14, 2007, and her INR was 2.3.\n",
            "2. Amiodarone 100 mg p.o. daily. \n",
            "---------------------------\n",
            "REVIEW OF SYSTEMS:\n",
            "Complete review of systems negative except as in pulmonary as noted above. The patient also reports occasional numbness and tingling of her left arm. \n",
            "---------------------------\n",
            "PHYSICAL EXAMINATION\n",
            "VITAL SIGNS: Blood pressure 123/95, heart rate 83, respirations 20, temperature 97, and oxygen saturation 97%. \n",
            "---------------------------\n",
            "GENERAL: Positive nonproductive cough and pain with coughing.\n",
            "HEENT: Pupils are equal and reactive to light and accommodation. Tympanic membranes are clear.\n",
            "NECK: Supple. No lymphadenopathy. No masses.\n",
            "RESPIRATORY: Pleural friction rub is noted.\n",
            "GI: Soft, nondistended, and nontender. Positive bowel sounds. No organomegaly.\n",
            "EXTREMITIES: No edema, no clubbing, no cyanosis, no tenderness. Full range of motion. Normal pulses in all extremities.\n",
            "SKIN: No breakdown or lesions. No ulcers.\n",
            "NEUROLOGIC: Grossly intact. No focal deficits. Awake, alert, and oriented to person, place, and time. \n",
            "---------------------------\n",
            "LABORATORY DATA:\n",
            "Labs are pending. \n",
            "---------------------------\n",
            "HOSPITAL COURSE:\n",
            "The patient was admitted for a right-sided pleural effusion for thoracentesis on Monday by Dr. X. Her Coumadin was placed on hold. A repeat echocardiogram was checked. She was started on prophylaxis for DVT with Lovenox 40 mg subcutaneously. Her history dated back to March 2005 when she first sought medical attention for evidence of pericarditis, which was treated with pericardial window in an outside hospital, at that time she was also found to have mesenteric pain and thrombosis, is now anticoagulated. Her pericardial fluid was accumulated and she was seen by Dr. Y. At that time, she was recommended for pericardectomy, which was performed by Dr. Z. Review of her CT scan from March 2006 prior to her pericardectomy, already shows bilateral plural effusions. The patient improved clinically after the pericardectomy with resolution of her symptoms. Recently, she was readmitted to the hospital with chest pain and found to have bilateral pleural effusion, the right greater than the left. CT of the chest also revealed a large mediastinal lymph node. We reviewed the pathology obtained from the pericardectomy in March 2006, which was diagnostic of mesothelioma. At this time, chest tube placement for drainage of the fluid occurred and thoracoscopy with fluid biopsies, which were performed, which revealed epithelioid malignant mesothelioma. The patient was then stained with a PET CT, which showed extensive uptake in the chest, bilateral pleural pericardial effusions, and lymphadenopathy. She also had acidic fluid, pectoral and intramammary lymph nodes and uptake in L4 with SUV of 4. This was consistent with stage III disease. Her repeat echocardiogram showed an ejection fraction of 45% to 49%. She was transferred to Oncology service and started on chemotherapy on September 1, 2007 with cisplatin 75 mg/centimeter squared equaling 109 mg IV piggyback over 2 hours on September 1, 2007, Alimta 500 mg/ centimeter squared equaling 730 mg IV piggyback over 10 minutes. This was all initiated after a Port-A-Cath was placed. The chemotherapy was well tolerated and the patient was discharged the following day after discontinuing IV fluid and IV. Her Port-A-Cath was packed with heparin according to protocol.\n",
            "DISCHARGE \n",
            "---------------------------\n",
            "MEDICATIONS:\n",
            "Zofran, Phenergan, Coumadin, and Lovenox, and Vicodin\n",
            "DISCHARGE INSTRUCTIONS:\n",
            "She was instructed to followup with Dr. XYZ in the office to check her INR on Tuesday. She was instructed to call if she had any other questions or concerns in the interim.\n",
            "Keywords:\n",
            "hematology - oncology, mesothelioma, pleural effusion, atrial fibrillation, anemia, ascites, esophageal reflux, deep venous thrombosis, port-a-cath placement, port a cath, iv piggyback, venous thrombosis, atrial, thrombosis, pericardial, lymphadenopathy, fluid, pericardectomy, chest, pleural, \n",
            "---------------------------\n"
          ]
        }
      ],
      "source": [
        "for split in splitter_model_lp.annotate(note)['splits']:\n",
        "    print (split, '\\n---------------------------')"
      ]
    },
    {
      "cell_type": "markdown",
      "metadata": {
        "application/vnd.databricks.v1+cell": {
          "cellMetadata": {
            "byteLimit": 2048000,
            "rowLimit": 10000
          },
          "inputWidgets": {},
          "nuid": "a0002486-0234-437f-9599-61aa316f4836",
          "showTitle": false,
          "title": ""
        },
        "id": "6KQltuJvbSgj"
      },
      "source": [
        "#### Split by certain token length"
      ]
    },
    {
      "cell_type": "code",
      "execution_count": null,
      "metadata": {
        "application/vnd.databricks.v1+cell": {
          "cellMetadata": {
            "byteLimit": 2048000,
            "rowLimit": 10000
          },
          "inputWidgets": {},
          "nuid": "2456a866-873f-43e2-a4ef-8e0f307d97ac",
          "showTitle": false,
          "title": ""
        },
        "execution": {
          "iopub.execute_input": "2024-02-15T11:35:18.105977Z",
          "iopub.status.busy": "2024-02-15T11:35:18.105802Z",
          "iopub.status.idle": "2024-02-15T11:35:18.235725Z",
          "shell.execute_reply": "2024-02-15T11:35:18.235031Z",
          "shell.execute_reply.started": "2024-02-15T11:35:18.105960Z"
        },
        "tags": [],
        "id": "soqQvCYWbSgj"
      },
      "outputs": [],
      "source": [
        "document_assembler = nlp.DocumentAssembler()\\\n",
        "    .setInputCol(\"text\")\\\n",
        "    .setOutputCol(\"document\")\n",
        "\n",
        "tokenizer = nlp.Tokenizer()\\\n",
        "    .setInputCols(\"document\")\\\n",
        "    .setOutputCol(\"token\")\n",
        "\n",
        "document_splitter = medical.InternalDocumentSplitter()\\\n",
        "    .setInputCols(\"document\", \"token\")\\\n",
        "    .setOutputCol(\"splits\")\\\n",
        "    .setSplitMode(\"token\")\\\n",
        "    .setMaxLength(50)\\\n",
        "    .setExplodeSplits(True)\n",
        "\n",
        "token_splitter = nlp.Pipeline().setStages([\n",
        "    document_assembler,\n",
        "    tokenizer,\n",
        "    document_splitter\n",
        "])\n",
        "\n",
        "pipeline_token_splitter = token_splitter.fit(spark_df)\n",
        "token_splitter_model_lp = nlp.LightPipeline(pipeline_token_splitter)"
      ]
    },
    {
      "cell_type": "code",
      "execution_count": null,
      "metadata": {
        "application/vnd.databricks.v1+cell": {
          "cellMetadata": {
            "byteLimit": 2048000,
            "rowLimit": 10000
          },
          "inputWidgets": {},
          "nuid": "ca5d676b-cb5d-4622-932a-0cb5bbfe38ed",
          "showTitle": false,
          "title": ""
        },
        "execution": {
          "iopub.execute_input": "2024-02-15T11:28:39.961150Z",
          "iopub.status.busy": "2024-02-15T11:28:39.960707Z",
          "iopub.status.idle": "2024-02-15T11:28:40.089587Z",
          "shell.execute_reply": "2024-02-15T11:28:40.089046Z",
          "shell.execute_reply.started": "2024-02-15T11:28:39.961125Z"
        },
        "tags": [],
        "id": "FkyeTL4PbSgj",
        "outputId": "d1db234c-ed75-4785-cb9f-7df229cdf1aa",
        "colab": {
          "base_uri": "https://localhost:8080/"
        }
      },
      "outputs": [
        {
          "output_type": "execute_result",
          "data": {
            "text/plain": [
              "['Sample Type / Medical Specialty:\\nHematology - Oncology\\nSample Name:\\nDischarge Summary - Mesothelioma - 1\\nDescription:\\nMesothelioma, pleural effusion,',\n",
              " 'atrial fibrillation, anemia, ascites, esophageal reflux, and history of deep venous thrombosis.\\n(Medical Transcription Sample Report)\\nPRINCIPAL DIAGNOSIS',\n",
              " ':\\nMesothelioma.\\nSECONDARY DIAGNOSES:\\nPleural effusion, atrial fibrillation, anemia, ascites, esophageal reflux, and history of deep venous thrombosis',\n",
              " '.\\nPROCEDURES\\n1. On August 24, 2007, decortication of the lung with pleural biopsy and transpleural fluoroscopy.\\n2. On August',\n",
              " '20, 2007, thoracentesis.\\n3. On August 31, 2007, Port-A-Cath placement.\\nHISTORY AND PHYSICAL:\\nThe patient is a',\n",
              " '41-year-old Vietnamese female with a nonproductive cough that started last week. She has had right-sided chest pain radiating to her back with fever starting',\n",
              " 'yesterday. She has a history of pericarditis and pericardectomy in May 2006 and developed cough with right-sided chest pain, and went to an',\n",
              " 'urgent care center. Chest x-ray revealed right-sided pleural effusion.\\nPAST MEDICAL HISTORY\\n1. Pericardectomy.\\n2. Pericarditis.\\n2. Atrial',\n",
              " 'fibrillation.\\n4. RNCA with intracranial thrombolytic treatment.\\n5 PTA of MCA.\\n6. Mesenteric venous thrombosis.\\n7. Pericardial window',\n",
              " '.\\n8. Cholecystectomy.\\n9. Left thoracentesis.\\nFAMILY HISTORY:\\nNo family history of coronary artery disease, CVA, diabetes,',\n",
              " 'CHF or MI. The patient has one family member, a sister, with history of cancer.\\nSOCIAL HISTORY:\\nShe is married',\n",
              " '. Employed with the US Post Office. She is a mother of three. Denies tobacco, alcohol or illicit drug use.\\nMEDICATIONS',\n",
              " '1. Coumadin 1 mg daily. Last INR was on Tuesday, August 14, 2007, and her INR was 2.3.\\n2',\n",
              " '. Amiodarone 100 mg p.o. daily.\\nREVIEW OF SYSTEMS:\\nComplete review of systems negative except as in pulmonary as noted above.',\n",
              " 'The patient also reports occasional numbness and tingling of her left arm.\\nPHYSICAL EXAMINATION\\nVITAL SIGNS: Blood pressure 123/95, heart rate 83',\n",
              " ', respirations 20, temperature 97, and oxygen saturation 97%.\\nGENERAL: Positive nonproductive cough and pain with coughing.\\nHEENT: Pupils',\n",
              " 'are equal and reactive to light and accommodation. Tympanic membranes are clear.\\nNECK: Supple. No lymphadenopathy. No masses.\\nRESPIRATORY',\n",
              " ': Pleural friction rub is noted.\\nGI: Soft, nondistended, and nontender. Positive bowel sounds. No organomegaly.\\nEXTREMITIES:',\n",
              " 'No edema, no clubbing, no cyanosis, no tenderness. Full range of motion. Normal pulses in all extremities.\\nSKIN:',\n",
              " 'No breakdown or lesions. No ulcers.\\nNEUROLOGIC: Grossly intact. No focal deficits. Awake, alert, and oriented to person',\n",
              " ', place, and time.\\nLABORATORY DATA:\\nLabs are pending.\\nHOSPITAL COURSE:\\nThe patient was admitted for a right-sided pleural effusion',\n",
              " 'for thoracentesis on Monday by Dr. X. Her Coumadin was placed on hold. A repeat echocardiogram was checked. She was started',\n",
              " 'on prophylaxis for DVT with Lovenox 40 mg subcutaneously. Her history dated back to March 2005 when she first sought medical attention for evidence',\n",
              " 'of pericarditis, which was treated with pericardial window in an outside hospital, at that time she was also found to have mesenteric pain',\n",
              " 'and thrombosis, is now anticoagulated. Her pericardial fluid was accumulated and she was seen by Dr. Y. At that time,',\n",
              " 'she was recommended for pericardectomy, which was performed by Dr. Z. Review of her CT scan from March 2006 prior to her',\n",
              " 'pericardectomy, already shows bilateral plural effusions. The patient improved clinically after the pericardectomy with resolution of her symptoms. Recently, she was',\n",
              " 'readmitted to the hospital with chest pain and found to have bilateral pleural effusion, the right greater than the left. CT of the',\n",
              " 'chest also revealed a large mediastinal lymph node. We reviewed the pathology obtained from the pericardectomy in March 2006, which was diagnostic of',\n",
              " 'mesothelioma. At this time, chest tube placement for drainage of the fluid occurred and thoracoscopy with fluid biopsies, which were performed,',\n",
              " 'which revealed epithelioid malignant mesothelioma. The patient was then stained with a PET CT, which showed extensive uptake in the chest, bilateral',\n",
              " 'pleural pericardial effusions, and lymphadenopathy. She also had acidic fluid, pectoral and intramammary lymph nodes and uptake in L4 with SUV of',\n",
              " '4. This was consistent with stage III disease. Her repeat echocardiogram showed an ejection fraction of 45% to 49%. She was transferred',\n",
              " 'to Oncology service and started on chemotherapy on September 1, 2007 with cisplatin 75 mg/centimeter squared equaling 109 mg IV piggyback over 2 hours',\n",
              " 'on September 1, 2007, Alimta 500 mg/ centimeter squared equaling 730 mg IV piggyback over 10 minutes. This was all initiated after',\n",
              " 'a Port-A-Cath was placed. The chemotherapy was well tolerated and the patient was discharged the following day after discontinuing IV fluid and IV.',\n",
              " 'Her Port-A-Cath was packed with heparin according to protocol.\\nDISCHARGE MEDICATIONS:\\nZofran, Phenergan, Coumadin, and Lovenox, and Vicodin\\nDISCHARGE',\n",
              " 'INSTRUCTIONS:\\nShe was instructed to followup with Dr. XYZ in the office to check her INR on Tuesday. She was instructed to',\n",
              " 'call if she had any other questions or concerns in the interim.\\nKeywords:\\nhematology - oncology, mesothelioma, pleural effusion, atrial',\n",
              " 'fibrillation, anemia, ascites, esophageal reflux, deep venous thrombosis, port-a-cath placement, port a cath, iv piggyback, venous thrombosis',\n",
              " ', atrial, thrombosis, pericardial, lymphadenopathy, fluid, pericardectomy, chest, pleural,']"
            ]
          },
          "metadata": {},
          "execution_count": 27
        }
      ],
      "source": [
        "token_splitter_model_lp.annotate(note)['splits']"
      ]
    },
    {
      "cell_type": "markdown",
      "metadata": {
        "application/vnd.databricks.v1+cell": {
          "cellMetadata": {
            "byteLimit": 2048000,
            "rowLimit": 10000
          },
          "inputWidgets": {},
          "nuid": "67654c0a-eb7f-40ba-bf64-aafd86be2f24",
          "showTitle": false,
          "title": ""
        },
        "id": "GbFP1ILWbSgk"
      },
      "source": [
        "## Assign section header for each split"
      ]
    },
    {
      "cell_type": "code",
      "execution_count": null,
      "metadata": {
        "application/vnd.databricks.v1+cell": {
          "cellMetadata": {
            "byteLimit": 2048000,
            "rowLimit": 10000
          },
          "inputWidgets": {},
          "nuid": "b244bae7-caa7-4ae3-bd56-529bdc4ca63e",
          "showTitle": false,
          "title": ""
        },
        "execution": {
          "iopub.execute_input": "2024-02-15T11:28:40.090833Z",
          "iopub.status.busy": "2024-02-15T11:28:40.090439Z",
          "iopub.status.idle": "2024-02-15T11:28:40.431545Z",
          "shell.execute_reply": "2024-02-15T11:28:40.430868Z",
          "shell.execute_reply.started": "2024-02-15T11:28:40.090808Z"
        },
        "tags": [],
        "id": "0AYQb0gMbSgk",
        "outputId": "8c839bd8-152c-47a1-96c6-89b5835fbcfc",
        "colab": {
          "base_uri": "https://localhost:8080/"
        }
      },
      "outputs": [
        {
          "output_type": "stream",
          "name": "stdout",
          "text": [
            "+--------------------+--------------------+----------+\n",
            "|                text|         document_id|patient_id|\n",
            "+--------------------+--------------------+----------+\n",
            "|Sample Type / Med...|259ba6ad-4c77-438...|      pt_8|\n",
            "|Sample Type / Med...|0d08d209-b5b0-416...|     pt_20|\n",
            "|Sample Type / Med...|bc54fd49-a416-4d9...|      pt_9|\n",
            "|Sample Type / Med...|1d9bfeec-7015-4f8...|     pt_27|\n",
            "|Sample Type / Med...|7a1c0340-e935-440...|     pt_18|\n",
            "|Sample Type / Med...|c4bc617d-2630-46c...|     pt_24|\n",
            "|Sample Type / Med...|0d4863f8-870e-497...|     pt_22|\n",
            "|Sample Type / Med...|f27f3bbc-2318-4e8...|     pt_19|\n",
            "|Sample Type / Med...|8c14661f-ccf5-423...|     pt_10|\n",
            "|Sample Type / Med...|a1189679-ab8e-4f4...|     pt_10|\n",
            "|Sample Type / Med...|5d0ea9bf-378f-401...|     pt_19|\n",
            "|Sample Type / Med...|8a51284f-86ec-469...|     pt_24|\n",
            "|Sample Type / Med...|b4c6051d-2e78-4d7...|     pt_18|\n",
            "|Sample Type / Med...|51fc8f88-78a7-44e...|     pt_26|\n",
            "|Sample Type / Med...|327caa20-ea17-499...|     pt_14|\n",
            "|Sample Type / Med...|b0534bd4-2f8d-461...|     pt_26|\n",
            "|Sample Type / Med...|9290cde0-f60c-454...|     pt_24|\n",
            "|Sample Type / Med...|9e6a2433-794e-43a...|     pt_19|\n",
            "|Sample Type / Med...|b8de2dcb-f761-4e3...|     pt_17|\n",
            "|Sample Type / Med...|7c24d0de-ad14-4e6...|      pt_5|\n",
            "+--------------------+--------------------+----------+\n",
            "only showing top 20 rows\n",
            "\n"
          ]
        }
      ],
      "source": [
        "spark_df.show()"
      ]
    },
    {
      "cell_type": "code",
      "execution_count": 33,
      "metadata": {
        "application/vnd.databricks.v1+cell": {
          "cellMetadata": {
            "byteLimit": 2048000,
            "rowLimit": 10000
          },
          "inputWidgets": {},
          "nuid": "11fb8eae-af69-4d91-a9f1-5c2ea8f025c8",
          "showTitle": false,
          "title": ""
        },
        "execution": {
          "iopub.execute_input": "2024-02-15T11:35:21.307825Z",
          "iopub.status.busy": "2024-02-15T11:35:21.307254Z",
          "iopub.status.idle": "2024-02-15T11:35:29.200974Z",
          "shell.execute_reply": "2024-02-15T11:35:29.200041Z",
          "shell.execute_reply.started": "2024-02-15T11:35:21.307804Z"
        },
        "tags": [],
        "id": "dEOGoletbSgk",
        "outputId": "c03f65db-61bd-4485-f852-f4fed314d1cb",
        "colab": {
          "base_uri": "https://localhost:8080/"
        }
      },
      "outputs": [
        {
          "output_type": "stream",
          "name": "stdout",
          "text": [
            "bert_sequence_classifier_clinical_sections download started this may take some time.\n",
            "[OK!]\n"
          ]
        }
      ],
      "source": [
        "document_assembler = nlp.DocumentAssembler()\\\n",
        "    .setInputCol(\"text\")\\\n",
        "    .setOutputCol(\"document\")\n",
        "\n",
        "document_splitter = medical.DocumentSplitter()\\\n",
        "    .setInputCols(\"document\")\\\n",
        "    .setOutputCol(\"splits\")\\\n",
        "    .setSplitMode(\"regex\")\\\n",
        "    .setExplodeSplits(True)\\\n",
        "    .setSplitPatterns(headers)\\\n",
        "    .setCaseSensitive(True) \\\n",
        "    .setCustomBoundsStrategy(\"prepend\")\n",
        "\n",
        "tokenizer = nlp.Tokenizer()\\\n",
        "    .setInputCols([\"splits\"])\\\n",
        "    .setOutputCol(\"token\")\\\n",
        "\n",
        "sequenceClassifier = medical.BertForSequenceClassification\\\n",
        "    .pretrained('bert_sequence_classifier_clinical_sections', 'en', 'clinical/models')\\\n",
        "    .setInputCols([\"splits\", \"token\"])\\\n",
        "    .setOutputCol(\"section\")\\\n",
        "    .setCaseSensitive(False)\n",
        "\n",
        "pipeline = nlp.Pipeline().setStages([\n",
        "    document_assembler,\n",
        "    document_splitter,\n",
        "    tokenizer,\n",
        "    sequenceClassifier\n",
        "])\n",
        "\n",
        "result = pipeline.fit(spark_df).transform(spark_df)"
      ]
    },
    {
      "cell_type": "code",
      "execution_count": 34,
      "metadata": {
        "application/vnd.databricks.v1+cell": {
          "cellMetadata": {
            "byteLimit": 2048000,
            "rowLimit": 10000
          },
          "inputWidgets": {},
          "nuid": "6511dd60-3ac6-4b12-8166-6176a106137b",
          "showTitle": false,
          "title": ""
        },
        "execution": {
          "iopub.execute_input": "2024-02-15T11:35:29.204059Z",
          "iopub.status.busy": "2024-02-15T11:35:29.203569Z",
          "iopub.status.idle": "2024-02-15T11:35:43.977820Z",
          "shell.execute_reply": "2024-02-15T11:35:43.977105Z",
          "shell.execute_reply.started": "2024-02-15T11:35:29.204033Z"
        },
        "tags": [],
        "id": "MkRH8OwtbSgk",
        "outputId": "551734fb-ca29-48c6-839c-a4434e53aa50",
        "colab": {
          "base_uri": "https://localhost:8080/"
        }
      },
      "outputs": [
        {
          "output_type": "stream",
          "name": "stdout",
          "text": [
            "+--------------------+--------------------+----------+--------------------+--------------------+--------------------+--------------------+\n",
            "|                text|         document_id|patient_id|            document|              splits|               token|             section|\n",
            "+--------------------+--------------------+----------+--------------------+--------------------+--------------------+--------------------+\n",
            "|Sample Type / Med...|6896e246-5867-41f...|     pt_24|[{document, 0, 54...|[{document, 0, 28...|[{token, 0, 5, Sa...|[{category, 0, 28...|\n",
            "|Sample Type / Med...|6896e246-5867-41f...|     pt_24|[{document, 0, 54...|[{document, 284, ...|[{token, 284, 292...|[{category, 284, ...|\n",
            "|Sample Type / Med...|6896e246-5867-41f...|     pt_24|[{document, 0, 54...|[{document, 319, ...|[{token, 319, 327...|[{category, 319, ...|\n",
            "|Sample Type / Med...|6896e246-5867-41f...|     pt_24|[{document, 0, 54...|[{document, 454, ...|[{token, 454, 463...|[{category, 454, ...|\n",
            "|Sample Type / Med...|6896e246-5867-41f...|     pt_24|[{document, 0, 54...|[{document, 648, ...|[{token, 648, 654...|[{category, 648, ...|\n",
            "|Sample Type / Med...|6896e246-5867-41f...|     pt_24|[{document, 0, 54...|[{document, 1056,...|[{token, 1056, 10...|[{category, 1056,...|\n",
            "|Sample Type / Med...|6896e246-5867-41f...|     pt_24|[{document, 0, 54...|[{document, 1300,...|[{token, 1300, 13...|[{category, 1300,...|\n",
            "|Sample Type / Med...|6896e246-5867-41f...|     pt_24|[{document, 0, 54...|[{document, 1457,...|[{token, 1457, 14...|[{category, 1457,...|\n",
            "|Sample Type / Med...|6896e246-5867-41f...|     pt_24|[{document, 0, 54...|[{document, 1594,...|[{token, 1594, 16...|[{category, 1594,...|\n",
            "|Sample Type / Med...|6896e246-5867-41f...|     pt_24|[{document, 0, 54...|[{document, 1726,...|[{token, 1726, 17...|[{category, 1726,...|\n",
            "|Sample Type / Med...|6896e246-5867-41f...|     pt_24|[{document, 0, 54...|[{document, 1895,...|[{token, 1895, 19...|[{category, 1895,...|\n",
            "|Sample Type / Med...|6896e246-5867-41f...|     pt_24|[{document, 0, 54...|[{document, 2027,...|[{token, 2027, 20...|[{category, 2027,...|\n",
            "|Sample Type / Med...|6896e246-5867-41f...|     pt_24|[{document, 0, 54...|[{document, 2616,...|[{token, 2616, 26...|[{category, 2616,...|\n",
            "|Sample Type / Med...|6896e246-5867-41f...|     pt_24|[{document, 0, 54...|[{document, 2651,...|[{token, 2651, 26...|[{category, 2651,...|\n",
            "|Sample Type / Med...|6896e246-5867-41f...|     pt_24|[{document, 0, 54...|[{document, 4904,...|[{token, 4904, 49...|[{category, 4904,...|\n",
            "|Sample Type / Med...|12aea5f7-d5ed-4ee...|     pt_19|[{document, 0, 32...|[{document, 0, 32...|[{token, 0, 5, Sa...|[{category, 0, 32...|\n",
            "|Sample Type / Med...|77cfd8bf-9517-4b0...|     pt_26|[{document, 0, 42...|[{document, 0, 12...|[{token, 0, 5, Sa...|[{category, 0, 12...|\n",
            "|Sample Type / Med...|77cfd8bf-9517-4b0...|     pt_26|[{document, 0, 42...|[{document, 1263,...|[{token, 1263, 12...|[{category, 1263,...|\n",
            "|Sample Type / Med...|77cfd8bf-9517-4b0...|     pt_26|[{document, 0, 42...|[{document, 1365,...|[{token, 1365, 13...|[{category, 1365,...|\n",
            "|Sample Type / Med...|77cfd8bf-9517-4b0...|     pt_26|[{document, 0, 42...|[{document, 1488,...|[{token, 1488, 14...|[{category, 1488,...|\n",
            "+--------------------+--------------------+----------+--------------------+--------------------+--------------------+--------------------+\n",
            "only showing top 20 rows\n",
            "\n"
          ]
        }
      ],
      "source": [
        "result.cache()\n",
        "result.show()"
      ]
    },
    {
      "cell_type": "code",
      "execution_count": null,
      "metadata": {
        "application/vnd.databricks.v1+cell": {
          "cellMetadata": {
            "byteLimit": 2048000,
            "rowLimit": 10000
          },
          "inputWidgets": {},
          "nuid": "68485ae7-ab4f-4ac9-957d-83633f80a587",
          "showTitle": false,
          "title": ""
        },
        "execution": {
          "iopub.execute_input": "2024-02-15T11:35:43.979034Z",
          "iopub.status.busy": "2024-02-15T11:35:43.978766Z",
          "iopub.status.idle": "2024-02-15T11:35:44.148373Z",
          "shell.execute_reply": "2024-02-15T11:35:44.147701Z",
          "shell.execute_reply.started": "2024-02-15T11:35:43.979011Z"
        },
        "tags": [],
        "id": "iCvhDOqlfaXk",
        "outputId": "ba801d4d-a3ab-4699-9d8e-df3a3e416052"
      },
      "outputs": [
        {
          "output_type": "stream",
          "name": "stdout",
          "text": [
            "+----------------------------------------------------------------------------------------------------+--------------------------------+\n|                                                                                              result|                          result|\n+----------------------------------------------------------------------------------------------------+--------------------------------+\n|[Sample Type / Medical Specialty:\\nHematology - Oncology\\nSample Name:\\nDischarge Summary - Mesot...|         [Discharge Information]|\n|[Description:\\nMesothelioma, pleural effusion, atrial fibrillation, anemia, ascites, esophageal r...|[Complications and Risk Factors]|\n|                                                               [PRINCIPAL DIAGNOSIS:\\nMesothelioma.]|[Diagnostic and Laboratory Data]|\n|[SECONDARY DIAGNOSES:\\nPleural effusion, atrial fibrillation, anemia, ascites, esophageal reflux,...|                    [Procedures]|\n|[PROCEDURES\\n1. On August 24, 2007, decortication of the lung with pleural biopsy and transpleura...|                    [Procedures]|\n|[HISTORY AND PHYSICAL:\\nThe patient is a 41-year-old Vietnamese female with a nonproductive cough...|                       [History]|\n|[PAST MEDICAL HISTORY\\n1. Pericardectomy.\\n2. Pericarditis.\\n2. Atrial fibrillation.\\n4. RNCA wit...|                       [History]|\n|[FAMILY HISTORY:\\nNo family history of coronary artery disease, CVA, diabetes, CHF or MI. The pat...|                       [History]|\n|[SOCIAL HISTORY:\\nShe is married. Employed with the US Post Office. She is a mother of three. Den...|                       [History]|\n|[MEDICATIONS\\n1. Coumadin 1 mg daily. Last INR was on Tuesday, August 14, 2007, and her INR was 2...|                       [History]|\n|[REVIEW OF SYSTEMS:\\nComplete review of systems negative except as in pulmonary as noted above. T...|[Diagnostic and Laboratory Data]|\n|[PHYSICAL EXAMINATION\\nVITAL SIGNS: Blood pressure 123/95, heart rate 83, respirations 20, temper...|[Diagnostic and Laboratory Data]|\n|[GENERAL: Positive nonproductive cough and pain with coughing.\\nHEENT: Pupils are equal and react...|[Diagnostic and Laboratory Data]|\n|                                                               [LABORATORY DATA:\\nLabs are pending.]|[Diagnostic and Laboratory Data]|\n|[HOSPITAL COURSE:\\nThe patient was admitted for a right-sided pleural effusion for thoracentesis ...|           [Patient Information]|\n|[MEDICATIONS:\\nZofran, Phenergan, Coumadin, and Lovenox, and Vicodin\\nDISCHARGE INSTRUCTIONS:\\nSh...|                       [History]|\n|  [Sample Type / Medical Specialty:\\nHematology - Oncology\\nSample Name:\\nBCCa Excision - Lower Lid]|[Diagnostic and Laboratory Data]|\n|[Description:\\nExcision of large basal cell carcinoma, right lower lid, and repaired with used do...|[Complications and Risk Factors]|\n|                  [POSTOPERATIVE DIAGNOSIS:\\nExtremely large basal cell carcinoma, right lower lid.]|                    [Procedures]|\n|[TITLE OF OPERATION:\\nExcision of large basal cell carcinoma, right lower lid, and repaired with ...|                    [Procedures]|\n+----------------------------------------------------------------------------------------------------+--------------------------------+\nonly showing top 20 rows\n\n"
          ]
        }
      ],
      "source": [
        "result.select('splits.result','section.result').show(truncate=100)"
      ]
    },
    {
      "cell_type": "code",
      "execution_count": null,
      "metadata": {
        "application/vnd.databricks.v1+cell": {
          "cellMetadata": {
            "byteLimit": 2048000,
            "rowLimit": 10000
          },
          "inputWidgets": {},
          "nuid": "368ebe1c-2f1b-4637-af7b-9d8a2299861e",
          "showTitle": false,
          "title": ""
        },
        "execution": {
          "iopub.execute_input": "2024-02-15T11:35:44.175626Z",
          "iopub.status.busy": "2024-02-15T11:35:44.175387Z",
          "iopub.status.idle": "2024-02-15T11:35:44.400820Z",
          "shell.execute_reply": "2024-02-15T11:35:44.400172Z",
          "shell.execute_reply.started": "2024-02-15T11:35:44.175605Z"
        },
        "tags": [],
        "id": "MKKtfKm7faXk",
        "outputId": "9614eb15-eca0-4f22-eed6-fa44ff0bbee0"
      },
      "outputs": [
        {
          "output_type": "display_data",
          "data": {
            "text/html": [
              "<div>\n",
              "<style scoped>\n",
              "    .dataframe tbody tr th:only-of-type {\n",
              "        vertical-align: middle;\n",
              "    }\n",
              "\n",
              "    .dataframe tbody tr th {\n",
              "        vertical-align: top;\n",
              "    }\n",
              "\n",
              "    .dataframe thead th {\n",
              "        text-align: right;\n",
              "    }\n",
              "</style>\n",
              "<table border=\"1\" class=\"dataframe\">\n",
              "  <thead>\n",
              "    <tr style=\"text-align: right;\">\n",
              "      <th></th>\n",
              "      <th>result</th>\n",
              "      <th>result</th>\n",
              "    </tr>\n",
              "  </thead>\n",
              "  <tbody>\n",
              "    <tr>\n",
              "      <th>15</th>\n",
              "      <td>[FAMILY HISTORY:\\nNotable for heart disease. She had three brothers that died of complications from open heart surgery. Her parents and brothers all had hypertension. Her younger brother died at the age of 18 of infection from a butcher's shop. He was cutting Argentinean beef and contracted an infection and died within 24 hours. She has one brother that is living who has angina and a sister who is 84 with dementia. She has two adult sons who are in good health.]</td>\n",
              "      <td>[History]</td>\n",
              "    </tr>\n",
              "    <tr>\n",
              "      <th>10</th>\n",
              "      <td>[Description:\\nNewly diagnosed cholangiocarcinoma. The patient is noted to have an increase in her liver function tests on routine blood work. Ultrasound of the abdomen showed gallbladder sludge and gallbladder findings consistent with adenomyomatosis.\\n(Medical Transcription Sample Report)\\nREASON FOR CONSULTATION:\\nNewly diagnosed cholangiocarcinoma.]</td>\n",
              "      <td>[Consultation and Referral]</td>\n",
              "    </tr>\n",
              "    <tr>\n",
              "      <th>3</th>\n",
              "      <td>[OPERATION PERFORMED:\\nLeft neck dissection.]</td>\n",
              "      <td>[Procedures]</td>\n",
              "    </tr>\n",
              "    <tr>\n",
              "      <th>18</th>\n",
              "      <td>[PHYSICAL EXAM:\\nVITALS: BP: 108/60. HEART RATE: 80. TEMP: 98.5. Weight: 75 kg.]</td>\n",
              "      <td>[Patient Information]</td>\n",
              "    </tr>\n",
              "    <tr>\n",
              "      <th>20</th>\n",
              "      <td>[LABORATORY STUDIES:\\nSodium 141, glucose 111, total bilirubin 2.3, alkaline phosphatase 941, AST 161, and ALT 220. White blood cell count 4.3, hemoglobin 11.6, hematocrit 35, and platelets 156,000. Total bilirubin from August 25, 2010 was 1.6, alkaline phosphatase 735, AST 123, ALT 184, CA99 is 109. Bile duct brushings are notable for atypical cell clusters present, highly suspicious for carcinoma.]</td>\n",
              "      <td>[Diagnostic and Laboratory Data]</td>\n",
              "    </tr>\n",
              "    <tr>\n",
              "      <th>27</th>\n",
              "      <td>[SUMMARY:\\nThe patient was brought to the OR in satisfactory condition and placed supine on the OR table. Underwent general anesthesia along with Marcaine in the nasal tip areas for planned excision. The area was injected, after sterile prep and drape, with Marcaine 0.25% with 1:200,000 adrenaline.\\nThe specimen was sent to pathology. Margins were still positive at the inferior 6 o'clock ***** margin and this was resubmitted accordingly. Final margins were clear.\\nClosure consisted of undermining circumferentially. Advancement closure with dog ear removal distally and proximally was accomplished without difficulty. Closure with interrupted 5-0 Monocryl running 7-0 nylon followed by Xeroform gauze, light pressure dressing, and Steri-Strips.\\nThe patient is discharged on minocycline and Darvocet-N 100.]</td>\n",
              "      <td>[Diagnostic and Laboratory Data]</td>\n",
              "    </tr>\n",
              "    <tr>\n",
              "      <th>21</th>\n",
              "      <td>[ASSESSMENT/PLAN:\\nThis is a very pleasant 77-year-old female who has findings suspicious for a cholangiocarcinoma. The patient was referred to our office to discuss this diagnosis. I spent greater than an hour with the patient and her husband discussing this potential diagnosis, reviewing the anatomy and answering questions. She is yet to have a surgical consultation, and we discussed the difficulty that we sometimes have with patients meeting surgical criteria to manage cholangiocarcinoma. The patient also had questions about the Medical University and possibly seeking a second opinion. She will contact our office after her surgical consultation if she needs assistance with obtaining a second opinion. We also talked about our clinical research program here. Currently, we do have a Phase II Study for advanced gallbladder carcinoma or cholangiocarcinoma for patients that are unresectable. We will go ahead and provide her with a consent form so that she can look that over and it will give her some more information about the malignancy and treatment approaches. We will schedule her for followup in three weeks. We will also schedule her for PET/CT scan for staging.\\nKeywords:\\nhematology - oncology, liver function tests, gallbladder, sludge, adenomyomatosis, intrahepatic ductal dilatation, bile duct, ercp, mrcp, cholangiopancreatography, gastroenterology, common bile duct, oropharynx, cholangiocarcinoma,]</td>\n",
              "      <td>[Consultation and Referral]</td>\n",
              "    </tr>\n",
              "    <tr>\n",
              "      <th>11</th>\n",
              "      <td>[HISTORY OF PRESENT ILLNESS:\\nThe patient is a very pleasant 77-year-old female who is noted to have an increase in her liver function tests on routine blood work in December 2009. Ultrasound of the abdomen showed gallbladder sludge and gallbladder findings consistent with adenomyomatosis. Common bile duct was noted to be 10 mm in size on that ultrasound. She then underwent a CT scan of the abdomen in July 2010, which showed intrahepatic ductal dilatation with the common bile duct size being 12.7 mm. She then underwent an MRI MRCP, which was notable for stricture of the distal common bile duct. She was then referred to gastroenterology and underwent an ERCP. On August 24, 2010, she underwent the endoscopic retrograde cholangiopancreatography. She was noted to have a stricturing mass of the mid-to-proximal common bile duct consistent with cholangiocarcinoma. A temporary biliary stent was placed across the biliary stricture. Blood work was obtained during the hospitalization. She was also noted to have an elevated CA99. She comes in to clinic today for initial Medical Oncology consultation. After she sees me this morning, she has a follow-up consultation with a surgeon.]</td>\n",
              "      <td>[History]</td>\n",
              "    </tr>\n",
              "    <tr>\n",
              "      <th>28</th>\n",
              "      <td>[NOTE:\\nThe 2.6 mm loupe magnification was utilized throughout the procedure. No complications noted with excellent and all clear margins at the termination. An advancement closure technique was utilized.\\nKeywords:\\nhematology - oncology, basal cell carcinoma, closure, steri-strips, xeroform gauze, excision, light pressure dressing, loupe magnification, nasal tip, basal carcinoma, basal cell, cell carcinoma, biopsy, basal, carcinoma, nasal,]</td>\n",
              "      <td>[History]</td>\n",
              "    </tr>\n",
              "    <tr>\n",
              "      <th>24</th>\n",
              "      <td>[POSTOPERATIVE DIAGNOSIS:\\nBasal cell carcinoma, nasal tip, previous positive biopsy.]</td>\n",
              "      <td>[Procedures]</td>\n",
              "    </tr>\n",
              "  </tbody>\n",
              "</table>\n",
              "</div>"
            ]
          },
          "metadata": {
            "application/vnd.databricks.v1+output": {
              "addedWidgets": {},
              "arguments": {},
              "data": "<div>\n<style scoped>\n    .dataframe tbody tr th:only-of-type {\n        vertical-align: middle;\n    }\n\n    .dataframe tbody tr th {\n        vertical-align: top;\n    }\n\n    .dataframe thead th {\n        text-align: right;\n    }\n</style>\n<table border=\"1\" class=\"dataframe\">\n  <thead>\n    <tr style=\"text-align: right;\">\n      <th></th>\n      <th>result</th>\n      <th>result</th>\n    </tr>\n  </thead>\n  <tbody>\n    <tr>\n      <th>15</th>\n      <td>[FAMILY HISTORY:\\nNotable for heart disease. She had three brothers that died of complications from open heart surgery. Her parents and brothers all had hypertension. Her younger brother died at the age of 18 of infection from a butcher's shop. He was cutting Argentinean beef and contracted an infection and died within 24 hours. She has one brother that is living who has angina and a sister who is 84 with dementia. She has two adult sons who are in good health.]</td>\n      <td>[History]</td>\n    </tr>\n    <tr>\n      <th>10</th>\n      <td>[Description:\\nNewly diagnosed cholangiocarcinoma. The patient is noted to have an increase in her liver function tests on routine blood work. Ultrasound of the abdomen showed gallbladder sludge and gallbladder findings consistent with adenomyomatosis.\\n(Medical Transcription Sample Report)\\nREASON FOR CONSULTATION:\\nNewly diagnosed cholangiocarcinoma.]</td>\n      <td>[Consultation and Referral]</td>\n    </tr>\n    <tr>\n      <th>3</th>\n      <td>[OPERATION PERFORMED:\\nLeft neck dissection.]</td>\n      <td>[Procedures]</td>\n    </tr>\n    <tr>\n      <th>18</th>\n      <td>[PHYSICAL EXAM:\\nVITALS: BP: 108/60. HEART RATE: 80. TEMP: 98.5. Weight: 75 kg.]</td>\n      <td>[Patient Information]</td>\n    </tr>\n    <tr>\n      <th>20</th>\n      <td>[LABORATORY STUDIES:\\nSodium 141, glucose 111, total bilirubin 2.3, alkaline phosphatase 941, AST 161, and ALT 220. White blood cell count 4.3, hemoglobin 11.6, hematocrit 35, and platelets 156,000. Total bilirubin from August 25, 2010 was 1.6, alkaline phosphatase 735, AST 123, ALT 184, CA99 is 109. Bile duct brushings are notable for atypical cell clusters present, highly suspicious for carcinoma.]</td>\n      <td>[Diagnostic and Laboratory Data]</td>\n    </tr>\n    <tr>\n      <th>27</th>\n      <td>[SUMMARY:\\nThe patient was brought to the OR in satisfactory condition and placed supine on the OR table. Underwent general anesthesia along with Marcaine in the nasal tip areas for planned excision. The area was injected, after sterile prep and drape, with Marcaine 0.25% with 1:200,000 adrenaline.\\nThe specimen was sent to pathology. Margins were still positive at the inferior 6 o'clock ***** margin and this was resubmitted accordingly. Final margins were clear.\\nClosure consisted of undermining circumferentially. Advancement closure with dog ear removal distally and proximally was accomplished without difficulty. Closure with interrupted 5-0 Monocryl running 7-0 nylon followed by Xeroform gauze, light pressure dressing, and Steri-Strips.\\nThe patient is discharged on minocycline and Darvocet-N 100.]</td>\n      <td>[Diagnostic and Laboratory Data]</td>\n    </tr>\n    <tr>\n      <th>21</th>\n      <td>[ASSESSMENT/PLAN:\\nThis is a very pleasant 77-year-old female who has findings suspicious for a cholangiocarcinoma. The patient was referred to our office to discuss this diagnosis. I spent greater than an hour with the patient and her husband discussing this potential diagnosis, reviewing the anatomy and answering questions. She is yet to have a surgical consultation, and we discussed the difficulty that we sometimes have with patients meeting surgical criteria to manage cholangiocarcinoma. The patient also had questions about the Medical University and possibly seeking a second opinion. She will contact our office after her surgical consultation if she needs assistance with obtaining a second opinion. We also talked about our clinical research program here. Currently, we do have a Phase II Study for advanced gallbladder carcinoma or cholangiocarcinoma for patients that are unresectable. We will go ahead and provide her with a consent form so that she can look that over and it will give her some more information about the malignancy and treatment approaches. We will schedule her for followup in three weeks. We will also schedule her for PET/CT scan for staging.\\nKeywords:\\nhematology - oncology, liver function tests, gallbladder, sludge, adenomyomatosis, intrahepatic ductal dilatation, bile duct, ercp, mrcp, cholangiopancreatography, gastroenterology, common bile duct, oropharynx, cholangiocarcinoma,]</td>\n      <td>[Consultation and Referral]</td>\n    </tr>\n    <tr>\n      <th>11</th>\n      <td>[HISTORY OF PRESENT ILLNESS:\\nThe patient is a very pleasant 77-year-old female who is noted to have an increase in her liver function tests on routine blood work in December 2009. Ultrasound of the abdomen showed gallbladder sludge and gallbladder findings consistent with adenomyomatosis. Common bile duct was noted to be 10 mm in size on that ultrasound. She then underwent a CT scan of the abdomen in July 2010, which showed intrahepatic ductal dilatation with the common bile duct size being 12.7 mm. She then underwent an MRI MRCP, which was notable for stricture of the distal common bile duct. She was then referred to gastroenterology and underwent an ERCP. On August 24, 2010, she underwent the endoscopic retrograde cholangiopancreatography. She was noted to have a stricturing mass of the mid-to-proximal common bile duct consistent with cholangiocarcinoma. A temporary biliary stent was placed across the biliary stricture. Blood work was obtained during the hospitalization. She was also noted to have an elevated CA99. She comes in to clinic today for initial Medical Oncology consultation. After she sees me this morning, she has a follow-up consultation with a surgeon.]</td>\n      <td>[History]</td>\n    </tr>\n    <tr>\n      <th>28</th>\n      <td>[NOTE:\\nThe 2.6 mm loupe magnification was utilized throughout the procedure. No complications noted with excellent and all clear margins at the termination. An advancement closure technique was utilized.\\nKeywords:\\nhematology - oncology, basal cell carcinoma, closure, steri-strips, xeroform gauze, excision, light pressure dressing, loupe magnification, nasal tip, basal carcinoma, basal cell, cell carcinoma, biopsy, basal, carcinoma, nasal,]</td>\n      <td>[History]</td>\n    </tr>\n    <tr>\n      <th>24</th>\n      <td>[POSTOPERATIVE DIAGNOSIS:\\nBasal cell carcinoma, nasal tip, previous positive biopsy.]</td>\n      <td>[Procedures]</td>\n    </tr>\n  </tbody>\n</table>\n</div>",
              "datasetInfos": [],
              "metadata": {},
              "removedWidgets": [],
              "textData": null,
              "type": "htmlSandbox"
            }
          }
        }
      ],
      "source": [
        "import pandas as pd\n",
        "pd.set_option('display.max_colwidth', 0)\n",
        "\n",
        "result.select('splits.result','section.result').limit(30).toPandas().sample(10)"
      ]
    },
    {
      "cell_type": "markdown",
      "metadata": {
        "application/vnd.databricks.v1+cell": {
          "cellMetadata": {
            "byteLimit": 2048000,
            "rowLimit": 10000
          },
          "inputWidgets": {},
          "nuid": "9d5887b0-5d1b-47d8-984e-00c7d6486733",
          "showTitle": false,
          "title": ""
        },
        "id": "6pEr3qn_bSgl"
      },
      "source": [
        "### Summarize notes"
      ]
    },
    {
      "cell_type": "code",
      "execution_count": 37,
      "metadata": {
        "application/vnd.databricks.v1+cell": {
          "cellMetadata": {
            "byteLimit": 2048000,
            "rowLimit": 10000
          },
          "inputWidgets": {},
          "nuid": "251168cf-098f-4fd7-83f9-72b7ba19c60b",
          "showTitle": false,
          "title": ""
        },
        "execution": {
          "iopub.execute_input": "2024-02-15T11:35:44.404356Z",
          "iopub.status.busy": "2024-02-15T11:35:44.402951Z",
          "iopub.status.idle": "2024-02-15T11:36:09.633379Z",
          "shell.execute_reply": "2024-02-15T11:36:09.632776Z",
          "shell.execute_reply.started": "2024-02-15T11:35:44.404338Z"
        },
        "tags": [],
        "id": "igE5828NbSgm",
        "outputId": "6949cde3-1142-4fe8-ae58-e4b634834899",
        "colab": {
          "base_uri": "https://localhost:8080/"
        }
      },
      "outputs": [
        {
          "output_type": "stream",
          "name": "stdout",
          "text": [
            "summarizer_clinical_jsl_augmented_pipeline download started this may take some time.\n",
            "Approx size to download 885.7 MB\n",
            "[OK!]\n"
          ]
        }
      ],
      "source": [
        "from sparknlp.pretrained import PretrainedPipeline\n",
        "\n",
        "summarizer = PretrainedPipeline(\"summarizer_clinical_jsl_augmented_pipeline\", \"en\", \"clinical/models\")"
      ]
    },
    {
      "cell_type": "code",
      "execution_count": 30,
      "metadata": {
        "application/vnd.databricks.v1+cell": {
          "cellMetadata": {
            "byteLimit": 2048000,
            "rowLimit": 10000
          },
          "inputWidgets": {},
          "nuid": "45e82cd4-8eb6-44d4-af90-428d3aa80cd3",
          "showTitle": false,
          "title": ""
        },
        "execution": {
          "iopub.execute_input": "2024-02-15T11:36:09.634508Z",
          "iopub.status.busy": "2024-02-15T11:36:09.634310Z",
          "iopub.status.idle": "2024-02-15T11:37:01.936262Z",
          "shell.execute_reply": "2024-02-15T11:37:01.935572Z",
          "shell.execute_reply.started": "2024-02-15T11:36:09.634481Z"
        },
        "tags": [],
        "id": "l6RlZsIfbSgm",
        "outputId": "d48907c5-76a0-4b7e-d335-500fc1eff1f7",
        "colab": {
          "base_uri": "https://localhost:8080/"
        }
      },
      "outputs": [
        {
          "output_type": "execute_result",
          "data": {
            "text/plain": [
              "{'document': ['Sample Type / Medical Specialty:\\nHematology - Oncology\\nSample Name:\\nDischarge Summary - Mesothelioma - 1\\nDescription:\\nMesothelioma, pleural effusion, atrial fibrillation, anemia, ascites, esophageal reflux, and history of deep venous thrombosis.\\n(Medical Transcription Sample Report)\\nPRINCIPAL DIAGNOSIS:\\nMesothelioma.\\nSECONDARY DIAGNOSES:\\nPleural effusion, atrial fibrillation, anemia, ascites, esophageal reflux, and history of deep venous thrombosis.\\nPROCEDURES\\n1. On August 24, 2007, decortication of the lung with pleural biopsy and transpleural fluoroscopy.\\n2. On August 20, 2007, thoracentesis.\\n3. On August 31, 2007, Port-A-Cath placement.\\nHISTORY AND PHYSICAL:\\nThe patient is a 41-year-old Vietnamese female with a nonproductive cough that started last week. She has had right-sided chest pain radiating to her back with fever starting yesterday. She has a history of pericarditis and pericardectomy in May 2006 and developed cough with right-sided chest pain, and went to an urgent care center. Chest x-ray revealed right-sided pleural effusion.\\nPAST MEDICAL HISTORY\\n1. Pericardectomy.\\n2. Pericarditis.\\n2. Atrial fibrillation.\\n4. RNCA with intracranial thrombolytic treatment.\\n5 PTA of MCA.\\n6. Mesenteric venous thrombosis.\\n7. Pericardial window.\\n8. Cholecystectomy.\\n9. Left thoracentesis.\\nFAMILY HISTORY:\\nNo family history of coronary artery disease, CVA, diabetes, CHF or MI. The patient has one family member, a sister, with history of cancer.\\nSOCIAL HISTORY:\\nShe is married. Employed with the US Post Office. She is a mother of three. Denies tobacco, alcohol or illicit drug use.\\nMEDICATIONS\\n1. Coumadin 1 mg daily. Last INR was on Tuesday, August 14, 2007, and her INR was 2.3.\\n2. Amiodarone 100 mg p.o. daily.\\nREVIEW OF SYSTEMS:\\nComplete review of systems negative except as in pulmonary as noted above. The patient also reports occasional numbness and tingling of her left arm.\\nPHYSICAL EXAMINATION\\nVITAL SIGNS: Blood pressure 123/95, heart rate 83, respirations 20, temperature 97, and oxygen saturation 97%.\\nGENERAL: Positive nonproductive cough and pain with coughing.\\nHEENT: Pupils are equal and reactive to light and accommodation. Tympanic membranes are clear.\\nNECK: Supple. No lymphadenopathy. No masses.\\nRESPIRATORY: Pleural friction rub is noted.\\nGI: Soft, nondistended, and nontender. Positive bowel sounds. No organomegaly.\\nEXTREMITIES: No edema, no clubbing, no cyanosis, no tenderness. Full range of motion. Normal pulses in all extremities.\\nSKIN: No breakdown or lesions. No ulcers.\\nNEUROLOGIC: Grossly intact. No focal deficits. Awake, alert, and oriented to person, place, and time.\\nLABORATORY DATA:\\nLabs are pending.\\nHOSPITAL COURSE:\\nThe patient was admitted for a right-sided pleural effusion for thoracentesis on Monday by Dr. X. Her Coumadin was placed on hold. A repeat echocardiogram was checked. She was started on prophylaxis for DVT with Lovenox 40 mg subcutaneously. Her history dated back to March 2005 when she first sought medical attention for evidence of pericarditis, which was treated with pericardial window in an outside hospital, at that time she was also found to have mesenteric pain and thrombosis, is now anticoagulated. Her pericardial fluid was accumulated and she was seen by Dr. Y. At that time, she was recommended for pericardectomy, which was performed by Dr. Z. Review of her CT scan from March 2006 prior to her pericardectomy, already shows bilateral plural effusions. The patient improved clinically after the pericardectomy with resolution of her symptoms. Recently, she was readmitted to the hospital with chest pain and found to have bilateral pleural effusion, the right greater than the left. CT of the chest also revealed a large mediastinal lymph node. We reviewed the pathology obtained from the pericardectomy in March 2006, which was diagnostic of mesothelioma. At this time, chest tube placement for drainage of the fluid occurred and thoracoscopy with fluid biopsies, which were performed, which revealed epithelioid malignant mesothelioma. The patient was then stained with a PET CT, which showed extensive uptake in the chest, bilateral pleural pericardial effusions, and lymphadenopathy. She also had acidic fluid, pectoral and intramammary lymph nodes and uptake in L4 with SUV of 4. This was consistent with stage III disease. Her repeat echocardiogram showed an ejection fraction of 45% to 49%. She was transferred to Oncology service and started on chemotherapy on September 1, 2007 with cisplatin 75 mg/centimeter squared equaling 109 mg IV piggyback over 2 hours on September 1, 2007, Alimta 500 mg/ centimeter squared equaling 730 mg IV piggyback over 10 minutes. This was all initiated after a Port-A-Cath was placed. The chemotherapy was well tolerated and the patient was discharged the following day after discontinuing IV fluid and IV. Her Port-A-Cath was packed with heparin according to protocol.\\nDISCHARGE MEDICATIONS:\\nZofran, Phenergan, Coumadin, and Lovenox, and Vicodin\\nDISCHARGE INSTRUCTIONS:\\nShe was instructed to followup with Dr. XYZ in the office to check her INR on Tuesday. She was instructed to call if she had any other questions or concerns in the interim.\\nKeywords:\\nhematology - oncology, mesothelioma, pleural effusion, atrial fibrillation, anemia, ascites, esophageal reflux, deep venous thrombosis, port-a-cath placement, port a cath, iv piggyback, venous thrombosis, atrial, thrombosis, pericardial, lymphadenopathy, fluid, pericardectomy, chest, pleural,'],\n",
              " 'summary': ['The patient is a 41-year-old Vietnamese female with a history of mesothelioma, pleural effusion, atrial fibrillation, anemia, ascites, esophageal reflux, and a history of deep venous thrombosis. She was admitted for a right-sided pleural effusion for thoracentesis and was started on prophylaxis for DVT with Lovenox. She was readmitted to the hospital with chest pain and found to have bilateral pleural effusion, the right greater than the left. She was started on chemotherapy on September 1, 2007 with cisplatin 75 mg/centimeter squared equaling 109 mg IV piggyback over 2 hours on September 1, 2007, and Alimta 500 mg/centimeter squared equaling 730 mg IV piggyback over 10 minutes. She was discharged the following day after discontinuing IV fluid and IV. She was instructed to follow up with Dr. XYZ in the office to check her INR on Tuesday.']}"
            ]
          },
          "metadata": {},
          "execution_count": 30
        }
      ],
      "source": [
        "summary = summarizer.annotate(note)\n",
        "summary"
      ]
    },
    {
      "cell_type": "code",
      "execution_count": 31,
      "metadata": {
        "application/vnd.databricks.v1+cell": {
          "cellMetadata": {
            "byteLimit": 2048000,
            "rowLimit": 10000
          },
          "inputWidgets": {},
          "nuid": "fa16d0bf-8330-44e5-877c-fe48049114e2",
          "showTitle": false,
          "title": ""
        },
        "execution": {
          "iopub.execute_input": "2024-02-15T11:37:01.937524Z",
          "iopub.status.busy": "2024-02-15T11:37:01.937314Z",
          "iopub.status.idle": "2024-02-15T11:37:01.941258Z",
          "shell.execute_reply": "2024-02-15T11:37:01.940683Z",
          "shell.execute_reply.started": "2024-02-15T11:37:01.937507Z"
        },
        "tags": [],
        "id": "YG-njfiobSgm",
        "outputId": "3a31053a-57fd-4086-a405-d94589861933",
        "colab": {
          "base_uri": "https://localhost:8080/"
        }
      },
      "outputs": [
        {
          "output_type": "execute_result",
          "data": {
            "text/plain": [
              "['The patient is a 41-year-old Vietnamese female with a history of mesothelioma, pleural effusion, atrial fibrillation, anemia, ascites, esophageal reflux, and a history of deep venous thrombosis. She was admitted for a right-sided pleural effusion for thoracentesis and was started on prophylaxis for DVT with Lovenox. She was readmitted to the hospital with chest pain and found to have bilateral pleural effusion, the right greater than the left. She was started on chemotherapy on September 1, 2007 with cisplatin 75 mg/centimeter squared equaling 109 mg IV piggyback over 2 hours on September 1, 2007, and Alimta 500 mg/centimeter squared equaling 730 mg IV piggyback over 10 minutes. She was discharged the following day after discontinuing IV fluid and IV. She was instructed to follow up with Dr. XYZ in the office to check her INR on Tuesday.']"
            ]
          },
          "metadata": {},
          "execution_count": 31
        }
      ],
      "source": [
        "summary['summary']"
      ]
    },
    {
      "cell_type": "markdown",
      "metadata": {
        "application/vnd.databricks.v1+cell": {
          "cellMetadata": {
            "byteLimit": 2048000,
            "rowLimit": 10000
          },
          "inputWidgets": {},
          "nuid": "ebf98534-cf0f-49e8-8a48-29b70e54275d",
          "showTitle": false,
          "title": ""
        },
        "id": "ScB7xWOHbSgs"
      },
      "source": [
        "### Split augmentation using Healthcare NLP  "
      ]
    },
    {
      "cell_type": "code",
      "execution_count": 38,
      "metadata": {
        "application/vnd.databricks.v1+cell": {
          "cellMetadata": {
            "byteLimit": 2048000,
            "rowLimit": 10000
          },
          "inputWidgets": {},
          "nuid": "411cc976-9e0a-4d0f-9ea8-fda6a0a2ee78",
          "showTitle": false,
          "title": ""
        },
        "execution": {
          "iopub.execute_input": "2024-02-15T11:37:01.942154Z",
          "iopub.status.busy": "2024-02-15T11:37:01.941978Z",
          "iopub.status.idle": "2024-02-15T11:37:02.178009Z",
          "shell.execute_reply": "2024-02-15T11:37:02.177400Z",
          "shell.execute_reply.started": "2024-02-15T11:37:01.942138Z"
        },
        "tags": [],
        "id": "Toetk14wbSgt",
        "outputId": "afb51704-d78c-4a7f-d6f3-3cc0e422642f",
        "colab": {
          "base_uri": "https://localhost:8080/",
          "height": 310
        }
      },
      "outputs": [
        {
          "output_type": "execute_result",
          "data": {
            "text/plain": [
              "  patient_id                           document_id  \\\n",
              "0  pt_24      6896e246-5867-41f3-8bd5-36f9c0a46c24   \n",
              "1  pt_24      6896e246-5867-41f3-8bd5-36f9c0a46c24   \n",
              "2  pt_24      6896e246-5867-41f3-8bd5-36f9c0a46c24   \n",
              "3  pt_24      6896e246-5867-41f3-8bd5-36f9c0a46c24   \n",
              "4  pt_24      6896e246-5867-41f3-8bd5-36f9c0a46c24   \n",
              "\n",
              "                                                                                                                                                                                                                                                                                                                                                                                                                 split_result  \\\n",
              "0  [Sample Type / Medical Specialty:\\nHematology - Oncology\\nSample Name:\\nDischarge Summary - Mesothelioma - 1\\nDescription:\\nMesothelioma, pleural effusion, atrial fibrillation, anemia, ascites, esophageal reflux, and history of deep venous thrombosis.\\n(Medical Transcription Sample Report)]                                                                                                                          \n",
              "1  [PRINCIPAL DIAGNOSIS:\\nMesothelioma.]                                                                                                                                                                                                                                                                                                                                                                                        \n",
              "2  [SECONDARY DIAGNOSES:\\nPleural effusion, atrial fibrillation, anemia, ascites, esophageal reflux, and history of deep venous thrombosis.]                                                                                                                                                                                                                                                                                    \n",
              "3  [PROCEDURES\\n1. On August 24, 2007, decortication of the lung with pleural biopsy and transpleural fluoroscopy.\\n2. On August 20, 2007, thoracentesis.\\n3. On August 31, 2007, Port-A-Cath placement.]                                                                                                                                                                                                                       \n",
              "4  [HISTORY AND PHYSICAL:\\nThe patient is a 41-year-old Vietnamese female with a nonproductive cough that started last week. She has had right-sided chest pain radiating to her back with fever starting yesterday. She has a history of pericarditis and pericardectomy in May 2006 and developed cough with right-sided chest pain, and went to an urgent care center. Chest x-ray revealed right-sided pleural effusion.]   \n",
              "\n",
              "                            section  \n",
              "0  [Complications and Risk Factors]  \n",
              "1  [Diagnostic and Laboratory Data]  \n",
              "2  [Procedures]                      \n",
              "3  [Procedures]                      \n",
              "4  [History]                         "
            ],
            "text/html": [
              "\n",
              "  <div id=\"df-a569c4fe-6bb8-4e46-bc0a-8270a70e6f8b\" class=\"colab-df-container\">\n",
              "    <div>\n",
              "<style scoped>\n",
              "    .dataframe tbody tr th:only-of-type {\n",
              "        vertical-align: middle;\n",
              "    }\n",
              "\n",
              "    .dataframe tbody tr th {\n",
              "        vertical-align: top;\n",
              "    }\n",
              "\n",
              "    .dataframe thead th {\n",
              "        text-align: right;\n",
              "    }\n",
              "</style>\n",
              "<table border=\"1\" class=\"dataframe\">\n",
              "  <thead>\n",
              "    <tr style=\"text-align: right;\">\n",
              "      <th></th>\n",
              "      <th>patient_id</th>\n",
              "      <th>document_id</th>\n",
              "      <th>split_result</th>\n",
              "      <th>section</th>\n",
              "    </tr>\n",
              "  </thead>\n",
              "  <tbody>\n",
              "    <tr>\n",
              "      <th>0</th>\n",
              "      <td>pt_24</td>\n",
              "      <td>6896e246-5867-41f3-8bd5-36f9c0a46c24</td>\n",
              "      <td>[Sample Type / Medical Specialty:\\nHematology - Oncology\\nSample Name:\\nDischarge Summary - Mesothelioma - 1\\nDescription:\\nMesothelioma, pleural effusion, atrial fibrillation, anemia, ascites, esophageal reflux, and history of deep venous thrombosis.\\n(Medical Transcription Sample Report)]</td>\n",
              "      <td>[Complications and Risk Factors]</td>\n",
              "    </tr>\n",
              "    <tr>\n",
              "      <th>1</th>\n",
              "      <td>pt_24</td>\n",
              "      <td>6896e246-5867-41f3-8bd5-36f9c0a46c24</td>\n",
              "      <td>[PRINCIPAL DIAGNOSIS:\\nMesothelioma.]</td>\n",
              "      <td>[Diagnostic and Laboratory Data]</td>\n",
              "    </tr>\n",
              "    <tr>\n",
              "      <th>2</th>\n",
              "      <td>pt_24</td>\n",
              "      <td>6896e246-5867-41f3-8bd5-36f9c0a46c24</td>\n",
              "      <td>[SECONDARY DIAGNOSES:\\nPleural effusion, atrial fibrillation, anemia, ascites, esophageal reflux, and history of deep venous thrombosis.]</td>\n",
              "      <td>[Procedures]</td>\n",
              "    </tr>\n",
              "    <tr>\n",
              "      <th>3</th>\n",
              "      <td>pt_24</td>\n",
              "      <td>6896e246-5867-41f3-8bd5-36f9c0a46c24</td>\n",
              "      <td>[PROCEDURES\\n1. On August 24, 2007, decortication of the lung with pleural biopsy and transpleural fluoroscopy.\\n2. On August 20, 2007, thoracentesis.\\n3. On August 31, 2007, Port-A-Cath placement.]</td>\n",
              "      <td>[Procedures]</td>\n",
              "    </tr>\n",
              "    <tr>\n",
              "      <th>4</th>\n",
              "      <td>pt_24</td>\n",
              "      <td>6896e246-5867-41f3-8bd5-36f9c0a46c24</td>\n",
              "      <td>[HISTORY AND PHYSICAL:\\nThe patient is a 41-year-old Vietnamese female with a nonproductive cough that started last week. She has had right-sided chest pain radiating to her back with fever starting yesterday. She has a history of pericarditis and pericardectomy in May 2006 and developed cough with right-sided chest pain, and went to an urgent care center. Chest x-ray revealed right-sided pleural effusion.]</td>\n",
              "      <td>[History]</td>\n",
              "    </tr>\n",
              "  </tbody>\n",
              "</table>\n",
              "</div>\n",
              "    <div class=\"colab-df-buttons\">\n",
              "\n",
              "  <div class=\"colab-df-container\">\n",
              "    <button class=\"colab-df-convert\" onclick=\"convertToInteractive('df-a569c4fe-6bb8-4e46-bc0a-8270a70e6f8b')\"\n",
              "            title=\"Convert this dataframe to an interactive table.\"\n",
              "            style=\"display:none;\">\n",
              "\n",
              "  <svg xmlns=\"http://www.w3.org/2000/svg\" height=\"24px\" viewBox=\"0 -960 960 960\">\n",
              "    <path d=\"M120-120v-720h720v720H120Zm60-500h600v-160H180v160Zm220 220h160v-160H400v160Zm0 220h160v-160H400v160ZM180-400h160v-160H180v160Zm440 0h160v-160H620v160ZM180-180h160v-160H180v160Zm440 0h160v-160H620v160Z\"/>\n",
              "  </svg>\n",
              "    </button>\n",
              "\n",
              "  <style>\n",
              "    .colab-df-container {\n",
              "      display:flex;\n",
              "      gap: 12px;\n",
              "    }\n",
              "\n",
              "    .colab-df-convert {\n",
              "      background-color: #E8F0FE;\n",
              "      border: none;\n",
              "      border-radius: 50%;\n",
              "      cursor: pointer;\n",
              "      display: none;\n",
              "      fill: #1967D2;\n",
              "      height: 32px;\n",
              "      padding: 0 0 0 0;\n",
              "      width: 32px;\n",
              "    }\n",
              "\n",
              "    .colab-df-convert:hover {\n",
              "      background-color: #E2EBFA;\n",
              "      box-shadow: 0px 1px 2px rgba(60, 64, 67, 0.3), 0px 1px 3px 1px rgba(60, 64, 67, 0.15);\n",
              "      fill: #174EA6;\n",
              "    }\n",
              "\n",
              "    .colab-df-buttons div {\n",
              "      margin-bottom: 4px;\n",
              "    }\n",
              "\n",
              "    [theme=dark] .colab-df-convert {\n",
              "      background-color: #3B4455;\n",
              "      fill: #D2E3FC;\n",
              "    }\n",
              "\n",
              "    [theme=dark] .colab-df-convert:hover {\n",
              "      background-color: #434B5C;\n",
              "      box-shadow: 0px 1px 3px 1px rgba(0, 0, 0, 0.15);\n",
              "      filter: drop-shadow(0px 1px 2px rgba(0, 0, 0, 0.3));\n",
              "      fill: #FFFFFF;\n",
              "    }\n",
              "  </style>\n",
              "\n",
              "    <script>\n",
              "      const buttonEl =\n",
              "        document.querySelector('#df-a569c4fe-6bb8-4e46-bc0a-8270a70e6f8b button.colab-df-convert');\n",
              "      buttonEl.style.display =\n",
              "        google.colab.kernel.accessAllowed ? 'block' : 'none';\n",
              "\n",
              "      async function convertToInteractive(key) {\n",
              "        const element = document.querySelector('#df-a569c4fe-6bb8-4e46-bc0a-8270a70e6f8b');\n",
              "        const dataTable =\n",
              "          await google.colab.kernel.invokeFunction('convertToInteractive',\n",
              "                                                    [key], {});\n",
              "        if (!dataTable) return;\n",
              "\n",
              "        const docLinkHtml = 'Like what you see? Visit the ' +\n",
              "          '<a target=\"_blank\" href=https://colab.research.google.com/notebooks/data_table.ipynb>data table notebook</a>'\n",
              "          + ' to learn more about interactive tables.';\n",
              "        element.innerHTML = '';\n",
              "        dataTable['output_type'] = 'display_data';\n",
              "        await google.colab.output.renderOutput(dataTable, element);\n",
              "        const docLink = document.createElement('div');\n",
              "        docLink.innerHTML = docLinkHtml;\n",
              "        element.appendChild(docLink);\n",
              "      }\n",
              "    </script>\n",
              "  </div>\n",
              "\n",
              "\n",
              "<div id=\"df-058d07c5-179a-47a9-85c9-bfef2ded021e\">\n",
              "  <button class=\"colab-df-quickchart\" onclick=\"quickchart('df-058d07c5-179a-47a9-85c9-bfef2ded021e')\"\n",
              "            title=\"Suggest charts\"\n",
              "            style=\"display:none;\">\n",
              "\n",
              "<svg xmlns=\"http://www.w3.org/2000/svg\" height=\"24px\"viewBox=\"0 0 24 24\"\n",
              "     width=\"24px\">\n",
              "    <g>\n",
              "        <path d=\"M19 3H5c-1.1 0-2 .9-2 2v14c0 1.1.9 2 2 2h14c1.1 0 2-.9 2-2V5c0-1.1-.9-2-2-2zM9 17H7v-7h2v7zm4 0h-2V7h2v10zm4 0h-2v-4h2v4z\"/>\n",
              "    </g>\n",
              "</svg>\n",
              "  </button>\n",
              "\n",
              "<style>\n",
              "  .colab-df-quickchart {\n",
              "      --bg-color: #E8F0FE;\n",
              "      --fill-color: #1967D2;\n",
              "      --hover-bg-color: #E2EBFA;\n",
              "      --hover-fill-color: #174EA6;\n",
              "      --disabled-fill-color: #AAA;\n",
              "      --disabled-bg-color: #DDD;\n",
              "  }\n",
              "\n",
              "  [theme=dark] .colab-df-quickchart {\n",
              "      --bg-color: #3B4455;\n",
              "      --fill-color: #D2E3FC;\n",
              "      --hover-bg-color: #434B5C;\n",
              "      --hover-fill-color: #FFFFFF;\n",
              "      --disabled-bg-color: #3B4455;\n",
              "      --disabled-fill-color: #666;\n",
              "  }\n",
              "\n",
              "  .colab-df-quickchart {\n",
              "    background-color: var(--bg-color);\n",
              "    border: none;\n",
              "    border-radius: 50%;\n",
              "    cursor: pointer;\n",
              "    display: none;\n",
              "    fill: var(--fill-color);\n",
              "    height: 32px;\n",
              "    padding: 0;\n",
              "    width: 32px;\n",
              "  }\n",
              "\n",
              "  .colab-df-quickchart:hover {\n",
              "    background-color: var(--hover-bg-color);\n",
              "    box-shadow: 0 1px 2px rgba(60, 64, 67, 0.3), 0 1px 3px 1px rgba(60, 64, 67, 0.15);\n",
              "    fill: var(--button-hover-fill-color);\n",
              "  }\n",
              "\n",
              "  .colab-df-quickchart-complete:disabled,\n",
              "  .colab-df-quickchart-complete:disabled:hover {\n",
              "    background-color: var(--disabled-bg-color);\n",
              "    fill: var(--disabled-fill-color);\n",
              "    box-shadow: none;\n",
              "  }\n",
              "\n",
              "  .colab-df-spinner {\n",
              "    border: 2px solid var(--fill-color);\n",
              "    border-color: transparent;\n",
              "    border-bottom-color: var(--fill-color);\n",
              "    animation:\n",
              "      spin 1s steps(1) infinite;\n",
              "  }\n",
              "\n",
              "  @keyframes spin {\n",
              "    0% {\n",
              "      border-color: transparent;\n",
              "      border-bottom-color: var(--fill-color);\n",
              "      border-left-color: var(--fill-color);\n",
              "    }\n",
              "    20% {\n",
              "      border-color: transparent;\n",
              "      border-left-color: var(--fill-color);\n",
              "      border-top-color: var(--fill-color);\n",
              "    }\n",
              "    30% {\n",
              "      border-color: transparent;\n",
              "      border-left-color: var(--fill-color);\n",
              "      border-top-color: var(--fill-color);\n",
              "      border-right-color: var(--fill-color);\n",
              "    }\n",
              "    40% {\n",
              "      border-color: transparent;\n",
              "      border-right-color: var(--fill-color);\n",
              "      border-top-color: var(--fill-color);\n",
              "    }\n",
              "    60% {\n",
              "      border-color: transparent;\n",
              "      border-right-color: var(--fill-color);\n",
              "    }\n",
              "    80% {\n",
              "      border-color: transparent;\n",
              "      border-right-color: var(--fill-color);\n",
              "      border-bottom-color: var(--fill-color);\n",
              "    }\n",
              "    90% {\n",
              "      border-color: transparent;\n",
              "      border-bottom-color: var(--fill-color);\n",
              "    }\n",
              "  }\n",
              "</style>\n",
              "\n",
              "  <script>\n",
              "    async function quickchart(key) {\n",
              "      const quickchartButtonEl =\n",
              "        document.querySelector('#' + key + ' button');\n",
              "      quickchartButtonEl.disabled = true;  // To prevent multiple clicks.\n",
              "      quickchartButtonEl.classList.add('colab-df-spinner');\n",
              "      try {\n",
              "        const charts = await google.colab.kernel.invokeFunction(\n",
              "            'suggestCharts', [key], {});\n",
              "      } catch (error) {\n",
              "        console.error('Error during call to suggestCharts:', error);\n",
              "      }\n",
              "      quickchartButtonEl.classList.remove('colab-df-spinner');\n",
              "      quickchartButtonEl.classList.add('colab-df-quickchart-complete');\n",
              "    }\n",
              "    (() => {\n",
              "      let quickchartButtonEl =\n",
              "        document.querySelector('#df-058d07c5-179a-47a9-85c9-bfef2ded021e button');\n",
              "      quickchartButtonEl.style.display =\n",
              "        google.colab.kernel.accessAllowed ? 'block' : 'none';\n",
              "    })();\n",
              "  </script>\n",
              "</div>\n",
              "    </div>\n",
              "  </div>\n"
            ],
            "application/vnd.google.colaboratory.intrinsic+json": {
              "type": "dataframe",
              "variable_name": "sample_split_df",
              "summary": "{\n  \"name\": \"sample_split_df\",\n  \"rows\": 30,\n  \"fields\": [\n    {\n      \"column\": \"patient_id\",\n      \"properties\": {\n        \"dtype\": \"category\",\n        \"num_unique_values\": 6,\n        \"samples\": [\n          \"pt_24\",\n          \"pt_19\",\n          \"pt_10\"\n        ],\n        \"semantic_type\": \"\",\n        \"description\": \"\"\n      }\n    },\n    {\n      \"column\": \"document_id\",\n      \"properties\": {\n        \"dtype\": \"category\",\n        \"num_unique_values\": 8,\n        \"samples\": [\n          \"12aea5f7-d5ed-4eea-89b1-a14ff597e414\",\n          \"91e15d8b-7d4c-4578-b28d-f2eac17f28a9\",\n          \"6896e246-5867-41f3-8bd5-36f9c0a46c24\"\n        ],\n        \"semantic_type\": \"\",\n        \"description\": \"\"\n      }\n    },\n    {\n      \"column\": \"split_result\",\n      \"properties\": {\n        \"dtype\": \"object\",\n        \"semantic_type\": \"\",\n        \"description\": \"\"\n      }\n    },\n    {\n      \"column\": \"section\",\n      \"properties\": {\n        \"dtype\": \"object\",\n        \"semantic_type\": \"\",\n        \"description\": \"\"\n      }\n    }\n  ]\n}"
            }
          },
          "metadata": {},
          "execution_count": 38
        }
      ],
      "source": [
        "sample_split_df = result.select('patient_id','document_id','splits.result','section.result').limit(30).toPandas()\n",
        "sample_split_df.columns = [\"patient_id\", \"document_id\", \"split_result\", \"section\"]\n",
        "sample_split_df.head()"
      ]
    },
    {
      "cell_type": "code",
      "execution_count": 39,
      "metadata": {
        "application/vnd.databricks.v1+cell": {
          "cellMetadata": {
            "byteLimit": 2048000,
            "rowLimit": 10000
          },
          "inputWidgets": {},
          "nuid": "197aeda2-6c24-4d0b-85c6-e8082c9e9f50",
          "showTitle": false,
          "title": ""
        },
        "execution": {
          "iopub.execute_input": "2024-02-15T12:17:25.377243Z",
          "iopub.status.busy": "2024-02-15T12:17:25.376930Z",
          "iopub.status.idle": "2024-02-15T12:17:48.901350Z",
          "shell.execute_reply": "2024-02-15T12:17:48.900696Z",
          "shell.execute_reply.started": "2024-02-15T12:17:25.377224Z"
        },
        "tags": [],
        "id": "C7TFjM6CbSgt",
        "outputId": "a08949c6-97d7-4812-ca02-7c43af0cfb8d",
        "colab": {
          "base_uri": "https://localhost:8080/"
        }
      },
      "outputs": [
        {
          "output_type": "stream",
          "name": "stdout",
          "text": [
            "embeddings_clinical download started this may take some time.\n",
            "Approximate size to download 1.6 GB\n",
            "[OK!]\n",
            "ner_jsl_enriched download started this may take some time.\n",
            "[OK!]\n",
            "ner_clinical download started this may take some time.\n",
            "[OK!]\n",
            "ner_drugs_large download started this may take some time.\n",
            "[OK!]\n",
            "drug_action_treatment_mapper download started this may take some time.\n",
            "[OK!]\n",
            "assertion_dl download started this may take some time.\n",
            "[OK!]\n",
            "sbiobert_base_cased_mli download started this may take some time.\n",
            "Approximate size to download 384.3 MB\n",
            "[OK!]\n",
            "sbiobertresolve_icd10cm_generalised download started this may take some time.\n",
            "[OK!]\n",
            "sbiobertresolve_rxnorm_augmented download started this may take some time.\n",
            "[OK!]\n"
          ]
        }
      ],
      "source": [
        "documentAssembler = nlp.DocumentAssembler()\\\n",
        "    .setInputCol(\"text\")\\\n",
        "    .setOutputCol(\"document\")\n",
        "\n",
        "sentenceDetector = nlp.SentenceDetector()\\\n",
        "    .setInputCols(\"document\")\\\n",
        "    .setOutputCol(\"sentence\")\n",
        "\n",
        "tokenizer = nlp.Tokenizer()\\\n",
        "    .setInputCols(\"sentence\")\\\n",
        "    .setOutputCol(\"token\")\n",
        "\n",
        "word_embeddings = nlp.WordEmbeddingsModel.pretrained(\"embeddings_clinical\", \"en\", \"clinical/models\")\\\n",
        "    .setInputCols(\"sentence\", \"token\")\\\n",
        "    .setOutputCol(\"word_embeddings\")\n",
        "\n",
        "jsl_ner = medical.NerModel().pretrained(\"ner_jsl_enriched\", \"en\", \"clinical/models\") \\\n",
        "    .setInputCols([\"sentence\", \"token\", \"word_embeddings\"]) \\\n",
        "    .setOutputCol(\"jsl_ner\")\n",
        "\n",
        "jsl_ner_chunk = medical.NerConverterInternal()\\\n",
        "    .setInputCols(\"sentence\",\"token\",\"jsl_ner\")\\\n",
        "    .setOutputCol(\"jsl_ner_chunk\")\n",
        "\n",
        "# to get PROBLEM entities\n",
        "clinical_ner = medical.NerModel().pretrained(\"ner_clinical\", \"en\", \"clinical/models\") \\\n",
        "    .setInputCols([\"sentence\", \"token\", \"word_embeddings\"]) \\\n",
        "    .setOutputCol(\"clinical_ner\")\n",
        "\n",
        "clinical_ner_chunk = medical.NerConverterInternal()\\\n",
        "    .setInputCols(\"sentence\",\"token\",\"clinical_ner\")\\\n",
        "    .setOutputCol(\"clinical_ner_chunk\")\\\n",
        "    .setWhiteList([\"PROBLEM\"])\n",
        "\n",
        "# to get DRUG entities\n",
        "posology_ner = medical.NerModel().pretrained(\"ner_drugs_large\", \"en\", \"clinical/models\") \\\n",
        "    .setInputCols([\"sentence\", \"token\", \"word_embeddings\"]) \\\n",
        "    .setOutputCol(\"drugs_ner\")\n",
        "\n",
        "posology_ner_chunk = medical.NerConverterInternal()\\\n",
        "    .setInputCols(\"sentence\",\"token\",\"drugs_ner\")\\\n",
        "    .setOutputCol(\"drugs_ner_chunk\")\\\n",
        "    .setWhiteList([\"DRUG\"])\n",
        "\n",
        "drug_mapper = medical.ChunkMapperModel.pretrained(\"drug_action_treatment_mapper\", \"en\", \"clinical/models\") \\\n",
        "    .setInputCols(\"drugs_ner_chunk\")\\\n",
        "    .setOutputCol(\"drug_action\")\\\n",
        "    .setRel(\"action\")\n",
        "\n",
        "# merge the chunks into a single ner_chunk\n",
        "chunk_merger = medical.ChunkMergeApproach()\\\n",
        "    .setInputCols(\"clinical_ner_chunk\", \"drugs_ner_chunk\")\\\n",
        "    .setOutputCol(\"merged_ner_chunk\")\\\n",
        "    .setMergeOverlapping(True)\n",
        "\n",
        "clinical_assertion = medical.AssertionDLModel.pretrained(\"assertion_dl\", \"en\", \"clinical/models\") \\\n",
        "    .setInputCols([\"sentence\", \"merged_ner_chunk\", \"word_embeddings\"]) \\\n",
        "    .setOutputCol(\"assertion\")\n",
        "\n",
        "assertion_filterer = medical.AssertionFilterer()\\\n",
        "    .setInputCols(\"sentence\",\"merged_ner_chunk\",\"assertion\")\\\n",
        "    .setOutputCol(\"assertion_filtered\")\\\n",
        "    .setCaseSensitive(False)\\\n",
        "    .setWhiteList([\"Present\"])\n",
        "\n",
        "chunk2doc = nlp.Chunk2Doc()\\\n",
        "    .setInputCols(\"assertion_filtered\")\\\n",
        "    .setOutputCol(\"doc_final_chunk\")\n",
        "\n",
        "sbiobert_embeddings = nlp.BertSentenceEmbeddings.pretrained(\"sbiobert_base_cased_mli\",\"en\",\"clinical/models\")\\\n",
        "    .setInputCols([\"doc_final_chunk\"])\\\n",
        "    .setOutputCol(\"sbert_embeddings\")\\\n",
        "    .setCaseSensitive(False)\n",
        "\n",
        "# filter PROBLEM entity embeddings\n",
        "router_sentence_icd10 = medical.Router() \\\n",
        "    .setInputCols(\"sbert_embeddings\") \\\n",
        "    .setFilterFieldsElements([\"PROBLEM\"]) \\\n",
        "    .setOutputCol(\"problem_embeddings\")\n",
        "\n",
        "# filter DRUG entity embeddings\n",
        "router_sentence_rxnorm = medical.Router() \\\n",
        "    .setInputCols(\"sbert_embeddings\") \\\n",
        "    .setFilterFieldsElements([\"DRUG\"]) \\\n",
        "    .setOutputCol(\"drug_embeddings\")\n",
        "\n",
        "# use problem_embeddings only\n",
        "icd_resolver = medical.SentenceEntityResolverModel.pretrained(\"sbiobertresolve_icd10cm_generalised\",\"en\", \"clinical/models\") \\\n",
        "    .setInputCols([\"problem_embeddings\"]) \\\n",
        "    .setOutputCol(\"icd10cm_code\")\\\n",
        "    .setDistanceFunction(\"EUCLIDEAN\")\n",
        "\n",
        "# use drug_embeddings only\n",
        "rxnorm_resolver = medical.SentenceEntityResolverModel.pretrained(\"sbiobertresolve_rxnorm_augmented\",\"en\", \"clinical/models\") \\\n",
        "    .setInputCols([\"drug_embeddings\"]) \\\n",
        "    .setOutputCol(\"rxnorm_code\")\\\n",
        "    .setDistanceFunction(\"EUCLIDEAN\")\n",
        "\n",
        "\n",
        "pipeline = nlp.Pipeline(\n",
        "    stages=[\n",
        "        documentAssembler,\n",
        "        sentenceDetector,\n",
        "        tokenizer,\n",
        "        word_embeddings,\n",
        "        clinical_ner,\n",
        "        clinical_ner_chunk,\n",
        "        jsl_ner,\n",
        "        jsl_ner_chunk,\n",
        "        posology_ner,\n",
        "        posology_ner_chunk,\n",
        "        drug_mapper,\n",
        "        chunk_merger,\n",
        "        clinical_assertion,\n",
        "        assertion_filterer,\n",
        "        chunk2doc,\n",
        "        sbiobert_embeddings,\n",
        "        router_sentence_icd10,\n",
        "        router_sentence_rxnorm,\n",
        "        icd_resolver,\n",
        "        rxnorm_resolver\n",
        "])\n",
        "\n",
        "empty_data = spark.createDataFrame([['']]).toDF(\"text\")\n",
        "model = pipeline.fit(empty_data)"
      ]
    },
    {
      "cell_type": "code",
      "execution_count": 40,
      "metadata": {
        "application/vnd.databricks.v1+cell": {
          "cellMetadata": {
            "byteLimit": 2048000,
            "rowLimit": 10000
          },
          "inputWidgets": {},
          "nuid": "25a3e4ec-dd37-427e-9903-bec42f7bc056",
          "showTitle": false,
          "title": ""
        },
        "execution": {
          "iopub.execute_input": "2024-02-15T12:18:09.358586Z",
          "iopub.status.busy": "2024-02-15T12:18:09.358077Z",
          "iopub.status.idle": "2024-02-15T12:18:09.453378Z",
          "shell.execute_reply": "2024-02-15T12:18:09.452838Z",
          "shell.execute_reply.started": "2024-02-15T12:18:09.358567Z"
        },
        "tags": [],
        "id": "_JAvGBm6bSgu"
      },
      "outputs": [],
      "source": [
        "light_model = nlp.LightPipeline(model)"
      ]
    },
    {
      "cell_type": "code",
      "execution_count": 41,
      "metadata": {
        "application/vnd.databricks.v1+cell": {
          "cellMetadata": {
            "byteLimit": 2048000,
            "rowLimit": 10000
          },
          "inputWidgets": {},
          "nuid": "4754276c-fcee-4d6e-aac3-f8126cc5c230",
          "showTitle": false,
          "title": ""
        },
        "execution": {
          "iopub.execute_input": "2024-02-15T12:18:11.931281Z",
          "iopub.status.busy": "2024-02-15T12:18:11.930698Z",
          "iopub.status.idle": "2024-02-15T12:18:46.241011Z",
          "shell.execute_reply": "2024-02-15T12:18:46.240278Z",
          "shell.execute_reply.started": "2024-02-15T12:18:11.931262Z"
        },
        "tags": [],
        "id": "7pQoUT-bbSgu"
      },
      "outputs": [],
      "source": [
        "result = light_model.fullAnnotate(note)"
      ]
    },
    {
      "cell_type": "code",
      "execution_count": 42,
      "metadata": {
        "application/vnd.databricks.v1+cell": {
          "cellMetadata": {
            "byteLimit": 2048000,
            "rowLimit": 10000
          },
          "inputWidgets": {},
          "nuid": "5ea34803-dc79-41c8-8465-09f32f5b9ca5",
          "showTitle": false,
          "title": ""
        },
        "execution": {
          "iopub.execute_input": "2024-02-15T12:18:52.703022Z",
          "iopub.status.busy": "2024-02-15T12:18:52.702504Z",
          "iopub.status.idle": "2024-02-15T12:18:52.706930Z",
          "shell.execute_reply": "2024-02-15T12:18:52.706279Z",
          "shell.execute_reply.started": "2024-02-15T12:18:52.703002Z"
        },
        "tags": [],
        "id": "urtWpRTQbSgu",
        "outputId": "1b98a466-0d47-43c3-ad0b-75c97fc2b9d9",
        "colab": {
          "base_uri": "https://localhost:8080/"
        }
      },
      "outputs": [
        {
          "output_type": "execute_result",
          "data": {
            "text/plain": [
              "dict_keys(['assertion_filtered', 'drug_action', 'document', 'word_embeddings', 'doc_final_chunk', 'jsl_ner_chunk', 'drugs_ner_chunk', 'assertion', 'drugs_ner', 'icd10cm_code', 'jsl_ner', 'clinical_ner', 'token', 'rxnorm_code', 'merged_ner_chunk', 'drug_embeddings', 'sbert_embeddings', 'clinical_ner_chunk', 'problem_embeddings', 'sentence'])"
            ]
          },
          "metadata": {},
          "execution_count": 42
        }
      ],
      "source": [
        "result[0].keys()"
      ]
    },
    {
      "cell_type": "code",
      "execution_count": 43,
      "metadata": {
        "application/vnd.databricks.v1+cell": {
          "cellMetadata": {
            "byteLimit": 2048000,
            "rowLimit": 10000
          },
          "inputWidgets": {},
          "nuid": "48a27543-68e0-4664-981d-51117d61029b",
          "showTitle": false,
          "title": ""
        },
        "execution": {
          "iopub.execute_input": "2024-02-15T12:19:12.229916Z",
          "iopub.status.busy": "2024-02-15T12:19:12.229438Z",
          "iopub.status.idle": "2024-02-15T12:19:12.332568Z",
          "shell.execute_reply": "2024-02-15T12:19:12.331941Z",
          "shell.execute_reply.started": "2024-02-15T12:19:12.229898Z"
        },
        "tags": [],
        "id": "skooqhx1bSgu",
        "outputId": "eacf0f46-a9a9-4ee3-cd77-08444da571dd",
        "colab": {
          "base_uri": "https://localhost:8080/"
        }
      },
      "outputs": [
        {
          "output_type": "execute_result",
          "data": {
            "text/plain": [
              "[Annotation(chunk, 1163, 1174, thrombolytic, {'chunk': '0', 'confidence': '0.9072', 'ner_source': 'drugs_ner_chunk', 'entity': 'DRUG', 'sentence': '15'}, []),\n",
              " Annotation(chunk, 1609, 1621, Coumadin 1 mg, {'chunk': '1', 'confidence': '0.8162667', 'ner_source': 'drugs_ner_chunk', 'entity': 'DRUG', 'sentence': '28'}, []),\n",
              " Annotation(chunk, 1696, 1716, Amiodarone 100 mg p.o, {'chunk': '2', 'confidence': '0.88705003', 'ner_source': 'drugs_ner_chunk', 'entity': 'DRUG', 'sentence': '30'}, []),\n",
              " Annotation(chunk, 2770, 2777, Coumadin, {'chunk': '3', 'confidence': '0.9415', 'ner_source': 'drugs_ner_chunk', 'entity': 'DRUG', 'sentence': '53'}, []),\n",
              " Annotation(chunk, 4436, 4447, chemotherapy, {'chunk': '4', 'confidence': '0.9991', 'ner_source': 'drugs_ner_chunk', 'entity': 'DRUG', 'sentence': '67'}, []),\n",
              " Annotation(chunk, 4475, 4527, cisplatin 75 mg/centimeter squared equaling 109 mg IV, {'chunk': '5', 'confidence': '0.78065', 'ner_source': 'drugs_ner_chunk', 'entity': 'DRUG', 'sentence': '67'}, []),\n",
              " Annotation(chunk, 4574, 4625, Alimta 500 mg/ centimeter squared equaling 730 mg IV, {'chunk': '6', 'confidence': '0.7758667', 'ner_source': 'drugs_ner_chunk', 'entity': 'DRUG', 'sentence': '67'}, []),\n",
              " Annotation(chunk, 4713, 4724, chemotherapy, {'chunk': '7', 'confidence': '0.9989', 'ner_source': 'drugs_ner_chunk', 'entity': 'DRUG', 'sentence': '69'}, []),\n",
              " Annotation(chunk, 4817, 4829, fluid and IV., {'chunk': '8', 'confidence': '0.955225', 'ner_source': 'drugs_ner_chunk', 'entity': 'DRUG', 'sentence': '69'}, []),\n",
              " Annotation(chunk, 4863, 4869, heparin, {'chunk': '9', 'confidence': '0.9948', 'ner_source': 'drugs_ner_chunk', 'entity': 'DRUG', 'sentence': '70'}, []),\n",
              " Annotation(chunk, 4917, 4922, Zofran, {'chunk': '10', 'confidence': '0.996', 'ner_source': 'drugs_ner_chunk', 'entity': 'DRUG', 'sentence': '71'}, []),\n",
              " Annotation(chunk, 4925, 4933, Phenergan, {'chunk': '11', 'confidence': '0.997', 'ner_source': 'drugs_ner_chunk', 'entity': 'DRUG', 'sentence': '71'}, []),\n",
              " Annotation(chunk, 4936, 4943, Coumadin, {'chunk': '12', 'confidence': '0.9987', 'ner_source': 'drugs_ner_chunk', 'entity': 'DRUG', 'sentence': '71'}, []),\n",
              " Annotation(chunk, 4963, 4969, Vicodin, {'chunk': '13', 'confidence': '0.9896', 'ner_source': 'drugs_ner_chunk', 'entity': 'DRUG', 'sentence': '71'}, [])]"
            ]
          },
          "metadata": {},
          "execution_count": 43
        }
      ],
      "source": [
        "result[0]['drugs_ner_chunk']"
      ]
    },
    {
      "cell_type": "code",
      "execution_count": 44,
      "metadata": {
        "application/vnd.databricks.v1+cell": {
          "cellMetadata": {
            "byteLimit": 2048000,
            "rowLimit": 10000
          },
          "inputWidgets": {},
          "nuid": "2fa885b6-a4f5-4c27-bb54-3280e592d851",
          "showTitle": false,
          "title": ""
        },
        "execution": {
          "iopub.execute_input": "2024-02-15T12:19:27.468632Z",
          "iopub.status.busy": "2024-02-15T12:19:27.468101Z",
          "iopub.status.idle": "2024-02-15T12:19:28.145249Z",
          "shell.execute_reply": "2024-02-15T12:19:28.144598Z",
          "shell.execute_reply.started": "2024-02-15T12:19:27.468612Z"
        },
        "tags": [],
        "id": "0XfQv3VTbSgv",
        "outputId": "31c9f034-46f6-454c-ef2e-2bb914ee8650",
        "colab": {
          "base_uri": "https://localhost:8080/"
        }
      },
      "outputs": [
        {
          "output_type": "execute_result",
          "data": {
            "text/plain": [
              "[Annotation(chunk, 88, 99, Mesothelioma, {'chunk': '0', 'confidence': '0.973', 'ner_source': 'clinical_ner_chunk', 'entity': 'PROBLEM', 'sentence': '0'}, []),\n",
              " Annotation(chunk, 118, 129, Mesothelioma, {'chunk': '1', 'confidence': '0.9993', 'ner_source': 'clinical_ner_chunk', 'entity': 'PROBLEM', 'sentence': '0'}, []),\n",
              " Annotation(chunk, 132, 147, pleural effusion, {'chunk': '2', 'confidence': '0.99609995', 'ner_source': 'clinical_ner_chunk', 'entity': 'PROBLEM', 'sentence': '0'}, []),\n",
              " Annotation(chunk, 150, 168, atrial fibrillation, {'chunk': '3', 'confidence': '0.99815', 'ner_source': 'clinical_ner_chunk', 'entity': 'PROBLEM', 'sentence': '0'}, []),\n",
              " Annotation(chunk, 171, 176, anemia, {'chunk': '4', 'confidence': '0.9992', 'ner_source': 'clinical_ner_chunk', 'entity': 'PROBLEM', 'sentence': '0'}, []),\n",
              " Annotation(chunk, 179, 185, ascites, {'chunk': '5', 'confidence': '0.9996', 'ner_source': 'clinical_ner_chunk', 'entity': 'PROBLEM', 'sentence': '0'}, []),\n",
              " Annotation(chunk, 188, 204, esophageal reflux, {'chunk': '6', 'confidence': '0.99665', 'ner_source': 'clinical_ner_chunk', 'entity': 'PROBLEM', 'sentence': '0'}, []),\n",
              " Annotation(chunk, 222, 243, deep venous thrombosis, {'chunk': '7', 'confidence': '0.95006675', 'ner_source': 'clinical_ner_chunk', 'entity': 'PROBLEM', 'sentence': '0'}, []),\n",
              " Annotation(chunk, 305, 316, Mesothelioma, {'chunk': '8', 'confidence': '0.9967', 'ner_source': 'clinical_ner_chunk', 'entity': 'PROBLEM', 'sentence': '1'}, []),\n",
              " Annotation(chunk, 340, 355, Pleural effusion, {'chunk': '9', 'confidence': '0.97895', 'ner_source': 'clinical_ner_chunk', 'entity': 'PROBLEM', 'sentence': '2'}, []),\n",
              " Annotation(chunk, 358, 376, atrial fibrillation, {'chunk': '10', 'confidence': '0.99475', 'ner_source': 'clinical_ner_chunk', 'entity': 'PROBLEM', 'sentence': '2'}, []),\n",
              " Annotation(chunk, 379, 384, anemia, {'chunk': '11', 'confidence': '0.9984', 'ner_source': 'clinical_ner_chunk', 'entity': 'PROBLEM', 'sentence': '2'}, []),\n",
              " Annotation(chunk, 387, 393, ascites, {'chunk': '12', 'confidence': '0.9994', 'ner_source': 'clinical_ner_chunk', 'entity': 'PROBLEM', 'sentence': '2'}, []),\n",
              " Annotation(chunk, 396, 412, esophageal reflux, {'chunk': '13', 'confidence': '0.99724996', 'ner_source': 'clinical_ner_chunk', 'entity': 'PROBLEM', 'sentence': '2'}, []),\n",
              " Annotation(chunk, 430, 451, deep venous thrombosis, {'chunk': '14', 'confidence': '0.9550001', 'ner_source': 'clinical_ner_chunk', 'entity': 'PROBLEM', 'sentence': '2'}, []),\n",
              " Annotation(chunk, 722, 742, a nonproductive cough, {'chunk': '15', 'confidence': '0.96173334', 'ner_source': 'clinical_ner_chunk', 'entity': 'PROBLEM', 'sentence': '7'}, []),\n",
              " Annotation(chunk, 780, 801, right-sided chest pain, {'chunk': '16', 'confidence': '0.97246665', 'ner_source': 'clinical_ner_chunk', 'entity': 'PROBLEM', 'sentence': '8'}, []),\n",
              " Annotation(chunk, 830, 834, fever, {'chunk': '17', 'confidence': '0.9998', 'ner_source': 'clinical_ner_chunk', 'entity': 'PROBLEM', 'sentence': '8'}, []),\n",
              " Annotation(chunk, 877, 888, pericarditis, {'chunk': '18', 'confidence': '0.9228', 'ner_source': 'clinical_ner_chunk', 'entity': 'PROBLEM', 'sentence': '9'}, []),\n",
              " Annotation(chunk, 935, 939, cough, {'chunk': '19', 'confidence': '0.9977', 'ner_source': 'clinical_ner_chunk', 'entity': 'PROBLEM', 'sentence': '9'}, []),\n",
              " Annotation(chunk, 946, 967, right-sided chest pain, {'chunk': '20', 'confidence': '0.9766', 'ner_source': 'clinical_ner_chunk', 'entity': 'PROBLEM', 'sentence': '9'}, []),\n",
              " Annotation(chunk, 1026, 1053, right-sided pleural effusion, {'chunk': '21', 'confidence': '0.9479', 'ner_source': 'clinical_ner_chunk', 'entity': 'PROBLEM', 'sentence': '10'}, []),\n",
              " Annotation(chunk, 1099, 1110, Pericarditis, {'chunk': '22', 'confidence': '0.9861', 'ner_source': 'clinical_ner_chunk', 'entity': 'PROBLEM', 'sentence': '13'}, []),\n",
              " Annotation(chunk, 1116, 1134, Atrial fibrillation, {'chunk': '23', 'confidence': '0.9803', 'ner_source': 'clinical_ner_chunk', 'entity': 'PROBLEM', 'sentence': '14'}, []),\n",
              " Annotation(chunk, 1204, 1231, Mesenteric venous thrombosis, {'chunk': '24', 'confidence': '0.9354334', 'ner_source': 'clinical_ner_chunk', 'entity': 'PROBLEM', 'sentence': '17'}, []),\n",
              " Annotation(chunk, 1337, 1359, coronary artery disease, {'chunk': '25', 'confidence': '0.9825001', 'ner_source': 'clinical_ner_chunk', 'entity': 'PROBLEM', 'sentence': '21'}, []),\n",
              " Annotation(chunk, 1362, 1364, CVA, {'chunk': '26', 'confidence': '0.9996', 'ner_source': 'clinical_ner_chunk', 'entity': 'PROBLEM', 'sentence': '21'}, []),\n",
              " Annotation(chunk, 1367, 1374, diabetes, {'chunk': '27', 'confidence': '0.9993', 'ner_source': 'clinical_ner_chunk', 'entity': 'PROBLEM', 'sentence': '21'}, []),\n",
              " Annotation(chunk, 1377, 1379, CHF, {'chunk': '28', 'confidence': '0.9997', 'ner_source': 'clinical_ner_chunk', 'entity': 'PROBLEM', 'sentence': '21'}, []),\n",
              " Annotation(chunk, 1384, 1385, MI, {'chunk': '29', 'confidence': '0.9996', 'ner_source': 'clinical_ner_chunk', 'entity': 'PROBLEM', 'sentence': '21'}, []),\n",
              " Annotation(chunk, 1449, 1454, cancer, {'chunk': '30', 'confidence': '0.9749', 'ner_source': 'clinical_ner_chunk', 'entity': 'PROBLEM', 'sentence': '22'}, []),\n",
              " Annotation(chunk, 1845, 1863, occasional numbness, {'chunk': '31', 'confidence': '0.95554996', 'ner_source': 'clinical_ner_chunk', 'entity': 'PROBLEM', 'sentence': '32'}, []),\n",
              " Annotation(chunk, 1869, 1892, tingling of her left arm, {'chunk': '32', 'confidence': '0.77458', 'ner_source': 'clinical_ner_chunk', 'entity': 'PROBLEM', 'sentence': '32'}, []),\n",
              " Annotation(chunk, 2045, 2063, nonproductive cough, {'chunk': '33', 'confidence': '0.83985', 'ner_source': 'clinical_ner_chunk', 'entity': 'PROBLEM', 'sentence': '34'}, []),\n",
              " Annotation(chunk, 2069, 2072, pain, {'chunk': '34', 'confidence': '0.9951', 'ner_source': 'clinical_ner_chunk', 'entity': 'PROBLEM', 'sentence': '34'}, []),\n",
              " Annotation(chunk, 2079, 2086, coughing, {'chunk': '35', 'confidence': '0.9568', 'ner_source': 'clinical_ner_chunk', 'entity': 'PROBLEM', 'sentence': '34'}, []),\n",
              " Annotation(chunk, 2201, 2215, lymphadenopathy, {'chunk': '36', 'confidence': '0.9988', 'ner_source': 'clinical_ner_chunk', 'entity': 'PROBLEM', 'sentence': '38'}, []),\n",
              " Annotation(chunk, 2221, 2226, masses, {'chunk': '37', 'confidence': '0.9995', 'ner_source': 'clinical_ner_chunk', 'entity': 'PROBLEM', 'sentence': '39'}, []),\n",
              " Annotation(chunk, 2242, 2261, Pleural friction rub, {'chunk': '38', 'confidence': '0.89523333', 'ner_source': 'clinical_ner_chunk', 'entity': 'PROBLEM', 'sentence': '40'}, []),\n",
              " Annotation(chunk, 2283, 2294, nondistended, {'chunk': '39', 'confidence': '0.9994', 'ner_source': 'clinical_ner_chunk', 'entity': 'PROBLEM', 'sentence': '41'}, []),\n",
              " Annotation(chunk, 2301, 2309, nontender, {'chunk': '40', 'confidence': '0.9991', 'ner_source': 'clinical_ner_chunk', 'entity': 'PROBLEM', 'sentence': '41'}, []),\n",
              " Annotation(chunk, 2338, 2349, organomegaly, {'chunk': '41', 'confidence': '0.9977', 'ner_source': 'clinical_ner_chunk', 'entity': 'PROBLEM', 'sentence': '43'}, []),\n",
              " Annotation(chunk, 2368, 2372, edema, {'chunk': '42', 'confidence': '0.9985', 'ner_source': 'clinical_ner_chunk', 'entity': 'PROBLEM', 'sentence': '44'}, []),\n",
              " Annotation(chunk, 2378, 2385, clubbing, {'chunk': '43', 'confidence': '0.9961', 'ner_source': 'clinical_ner_chunk', 'entity': 'PROBLEM', 'sentence': '44'}, []),\n",
              " Annotation(chunk, 2391, 2398, cyanosis, {'chunk': '44', 'confidence': '0.9984', 'ner_source': 'clinical_ner_chunk', 'entity': 'PROBLEM', 'sentence': '44'}, []),\n",
              " Annotation(chunk, 2404, 2413, tenderness, {'chunk': '45', 'confidence': '0.9995', 'ner_source': 'clinical_ner_chunk', 'entity': 'PROBLEM', 'sentence': '44'}, []),\n",
              " Annotation(chunk, 2481, 2489, breakdown, {'chunk': '46', 'confidence': '0.9982', 'ner_source': 'clinical_ner_chunk', 'entity': 'PROBLEM', 'sentence': '47'}, []),\n",
              " Annotation(chunk, 2494, 2500, lesions, {'chunk': '47', 'confidence': '0.9937', 'ner_source': 'clinical_ner_chunk', 'entity': 'PROBLEM', 'sentence': '47'}, []),\n",
              " Annotation(chunk, 2506, 2511, ulcers, {'chunk': '48', 'confidence': '0.9985', 'ner_source': 'clinical_ner_chunk', 'entity': 'PROBLEM', 'sentence': '48'}, []),\n",
              " Annotation(chunk, 2545, 2558, focal deficits, {'chunk': '49', 'confidence': '0.93095005', 'ner_source': 'clinical_ner_chunk', 'entity': 'PROBLEM', 'sentence': '50'}, []),\n",
              " Annotation(chunk, 2697, 2726, a right-sided pleural effusion, {'chunk': '50', 'confidence': '0.72845', 'ner_source': 'clinical_ner_chunk', 'entity': 'PROBLEM', 'sentence': '53'}, []),\n",
              " Annotation(chunk, 2871, 2873, DVT, {'chunk': '51', 'confidence': '0.9983', 'ner_source': 'clinical_ner_chunk', 'entity': 'PROBLEM', 'sentence': '55'}, []),\n",
              " Annotation(chunk, 3003, 3014, pericarditis, {'chunk': '52', 'confidence': '0.8911', 'ner_source': 'clinical_ner_chunk', 'entity': 'PROBLEM', 'sentence': '56'}, []),\n",
              " Annotation(chunk, 3123, 3137, mesenteric pain, {'chunk': '53', 'confidence': '0.9893', 'ner_source': 'clinical_ner_chunk', 'entity': 'PROBLEM', 'sentence': '56'}, []),\n",
              " Annotation(chunk, 3143, 3152, thrombosis, {'chunk': '54', 'confidence': '0.9983', 'ner_source': 'clinical_ner_chunk', 'entity': 'PROBLEM', 'sentence': '56'}, []),\n",
              " Annotation(chunk, 3408, 3433, bilateral plural effusions, {'chunk': '55', 'confidence': '0.9345667', 'ner_source': 'clinical_ner_chunk', 'entity': 'PROBLEM', 'sentence': '57'}, []),\n",
              " Annotation(chunk, 3512, 3523, her symptoms, {'chunk': '56', 'confidence': '0.9017', 'ner_source': 'clinical_ner_chunk', 'entity': 'PROBLEM', 'sentence': '58'}, []),\n",
              " Annotation(chunk, 3576, 3585, chest pain, {'chunk': '57', 'confidence': '0.9956', 'ner_source': 'clinical_ner_chunk', 'entity': 'PROBLEM', 'sentence': '59'}, []),\n",
              " Annotation(chunk, 3605, 3630, bilateral pleural effusion, {'chunk': '58', 'confidence': '0.9514', 'ner_source': 'clinical_ner_chunk', 'entity': 'PROBLEM', 'sentence': '59'}, []),\n",
              " Annotation(chunk, 3696, 3725, a large mediastinal lymph node, {'chunk': '59', 'confidence': '0.8369201', 'ner_source': 'clinical_ner_chunk', 'entity': 'PROBLEM', 'sentence': '60'}, []),\n",
              " Annotation(chunk, 3826, 3837, mesothelioma, {'chunk': '60', 'confidence': '0.961', 'ner_source': 'clinical_ner_chunk', 'entity': 'PROBLEM', 'sentence': '61'}, []),\n",
              " Annotation(chunk, 3879, 3899, drainage of the fluid, {'chunk': '61', 'confidence': '0.7372', 'ner_source': 'clinical_ner_chunk', 'entity': 'PROBLEM', 'sentence': '62'}, []),\n",
              " Annotation(chunk, 3985, 4018, epithelioid malignant mesothelioma, {'chunk': '62', 'confidence': '0.97339994', 'ner_source': 'clinical_ner_chunk', 'entity': 'PROBLEM', 'sentence': '62'}, []),\n",
              " Annotation(chunk, 4078, 4106, extensive uptake in the chest, {'chunk': '63', 'confidence': '0.90375996', 'ner_source': 'clinical_ner_chunk', 'entity': 'PROBLEM', 'sentence': '63'}, []),\n",
              " Annotation(chunk, 4109, 4147, bilateral pleural pericardial effusions, {'chunk': '64', 'confidence': '0.96755', 'ner_source': 'clinical_ner_chunk', 'entity': 'PROBLEM', 'sentence': '63'}, []),\n",
              " Annotation(chunk, 4154, 4168, lymphadenopathy, {'chunk': '65', 'confidence': '0.9956', 'ner_source': 'clinical_ner_chunk', 'entity': 'PROBLEM', 'sentence': '63'}, []),\n",
              " Annotation(chunk, 4184, 4195, acidic fluid, {'chunk': '66', 'confidence': '0.98345', 'ner_source': 'clinical_ner_chunk', 'entity': 'PROBLEM', 'sentence': '64'}, []),\n",
              " Annotation(chunk, 4198, 4234, pectoral and intramammary lymph nodes, {'chunk': '67', 'confidence': '0.77232', 'ner_source': 'clinical_ner_chunk', 'entity': 'PROBLEM', 'sentence': '64'}, []),\n",
              " Annotation(chunk, 4240, 4251, uptake in L4, {'chunk': '68', 'confidence': '0.74363333', 'ner_source': 'clinical_ner_chunk', 'entity': 'PROBLEM', 'sentence': '64'}, []),\n",
              " Annotation(chunk, 4293, 4309, stage III disease, {'chunk': '69', 'confidence': '0.8791', 'ner_source': 'clinical_ner_chunk', 'entity': 'PROBLEM', 'sentence': '65'}, []),\n",
              " Annotation(chunk, 5201, 5212, mesothelioma, {'chunk': '70', 'confidence': '0.9981', 'ner_source': 'clinical_ner_chunk', 'entity': 'PROBLEM', 'sentence': '73'}, []),\n",
              " Annotation(chunk, 5215, 5230, pleural effusion, {'chunk': '71', 'confidence': '0.98370004', 'ner_source': 'clinical_ner_chunk', 'entity': 'PROBLEM', 'sentence': '73'}, []),\n",
              " Annotation(chunk, 5233, 5251, atrial fibrillation, {'chunk': '72', 'confidence': '0.9953', 'ner_source': 'clinical_ner_chunk', 'entity': 'PROBLEM', 'sentence': '73'}, []),\n",
              " Annotation(chunk, 5254, 5259, anemia, {'chunk': '73', 'confidence': '0.9981', 'ner_source': 'clinical_ner_chunk', 'entity': 'PROBLEM', 'sentence': '73'}, []),\n",
              " Annotation(chunk, 5262, 5268, ascites, {'chunk': '74', 'confidence': '0.999', 'ner_source': 'clinical_ner_chunk', 'entity': 'PROBLEM', 'sentence': '73'}, []),\n",
              " Annotation(chunk, 5271, 5287, esophageal reflux, {'chunk': '75', 'confidence': '0.9963', 'ner_source': 'clinical_ner_chunk', 'entity': 'PROBLEM', 'sentence': '73'}, []),\n",
              " Annotation(chunk, 5290, 5311, deep venous thrombosis, {'chunk': '76', 'confidence': '0.98296666', 'ner_source': 'clinical_ner_chunk', 'entity': 'PROBLEM', 'sentence': '73'}, []),\n",
              " Annotation(chunk, 5364, 5380, venous thrombosis, {'chunk': '77', 'confidence': '0.90615', 'ner_source': 'clinical_ner_chunk', 'entity': 'PROBLEM', 'sentence': '73'}, []),\n",
              " Annotation(chunk, 5383, 5388, atrial, {'chunk': '78', 'confidence': '0.6133', 'ner_source': 'clinical_ner_chunk', 'entity': 'PROBLEM', 'sentence': '73'}, []),\n",
              " Annotation(chunk, 5391, 5400, thrombosis, {'chunk': '79', 'confidence': '0.9317', 'ner_source': 'clinical_ner_chunk', 'entity': 'PROBLEM', 'sentence': '73'}, []),\n",
              " Annotation(chunk, 5416, 5430, lymphadenopathy, {'chunk': '80', 'confidence': '0.8981', 'ner_source': 'clinical_ner_chunk', 'entity': 'PROBLEM', 'sentence': '73'}, []),\n",
              " Annotation(chunk, 5433, 5437, fluid, {'chunk': '81', 'confidence': '0.6176', 'ner_source': 'clinical_ner_chunk', 'entity': 'PROBLEM', 'sentence': '73'}, []),\n",
              " Annotation(chunk, 5456, 5469, chest, pleural, {'chunk': '82', 'confidence': '0.7570999', 'ner_source': 'clinical_ner_chunk', 'entity': 'PROBLEM', 'sentence': '73'}, [])]"
            ]
          },
          "metadata": {},
          "execution_count": 44
        }
      ],
      "source": [
        "result[0]['clinical_ner_chunk']"
      ]
    },
    {
      "cell_type": "code",
      "execution_count": 45,
      "metadata": {
        "application/vnd.databricks.v1+cell": {
          "cellMetadata": {
            "byteLimit": 2048000,
            "rowLimit": 10000
          },
          "inputWidgets": {},
          "nuid": "bdcd8703-130d-4b4b-a27b-b8096a272278",
          "showTitle": false,
          "title": ""
        },
        "execution": {
          "iopub.execute_input": "2024-02-15T12:21:34.683715Z",
          "iopub.status.busy": "2024-02-15T12:21:34.683261Z",
          "iopub.status.idle": "2024-02-15T12:21:34.740297Z",
          "shell.execute_reply": "2024-02-15T12:21:34.739712Z",
          "shell.execute_reply.started": "2024-02-15T12:21:34.683697Z"
        },
        "tags": [],
        "id": "TAKuyCVibSgv",
        "outputId": "5a1b28de-7a32-49ea-f5bf-78641cf72356",
        "colab": {
          "base_uri": "https://localhost:8080/"
        }
      },
      "outputs": [
        {
          "output_type": "execute_result",
          "data": {
            "text/plain": [
              "[('Discharge', 68, 76, 'Admission_Discharge', '0.9993'),\n",
              " ('Mesothelioma', 88, 99, 'Oncological', '0.9353'),\n",
              " ('Description', 105, 115, 'Section_Header', '0.9998'),\n",
              " ('Mesothelioma', 118, 129, 'Oncological', '0.9906'),\n",
              " ('pleural effusion', 132, 147, 'Disease_Syndrome_Disorder', '0.78805'),\n",
              " ('atrial fibrillation', 150, 168, 'Heart_Disease', '0.97745'),\n",
              " ('anemia', 171, 176, 'Disease_Syndrome_Disorder', '0.9965'),\n",
              " ('ascites', 179, 185, 'Disease_Syndrome_Disorder', '0.9642'),\n",
              " ('esophageal reflux', 188, 204, 'Disease_Syndrome_Disorder', '0.74625003'),\n",
              " ('deep venous thrombosis',\n",
              "  222,\n",
              "  243,\n",
              "  'Disease_Syndrome_Disorder',\n",
              "  '0.45533335'),\n",
              " ('PRINCIPAL DIAGNOSIS', 284, 302, 'Section_Header', '0.91955'),\n",
              " ('Mesothelioma', 305, 316, 'Oncological', '0.9835'),\n",
              " ('SECONDARY DIAGNOSES', 319, 337, 'Section_Header', '0.9634'),\n",
              " ('Pleural effusion', 340, 355, 'Disease_Syndrome_Disorder', '0.8196'),\n",
              " ('atrial fibrillation', 358, 376, 'Heart_Disease', '0.98144996'),\n",
              " ('anemia', 379, 384, 'Disease_Syndrome_Disorder', '0.9963'),\n",
              " ('ascites', 387, 393, 'Disease_Syndrome_Disorder', '0.9576'),\n",
              " ('esophageal reflux', 396, 412, 'Disease_Syndrome_Disorder', '0.7619'),\n",
              " ('deep venous thrombosis',\n",
              "  430,\n",
              "  451,\n",
              "  'Disease_Syndrome_Disorder',\n",
              "  '0.47393334'),\n",
              " ('PROCEDURES', 454, 463, 'Section_Header', '0.9995'),\n",
              " ('August 24, 2007', 471, 485, 'Date', '0.5715'),\n",
              " ('decortication of the lung', 488, 512, 'Procedure', '0.555025'),\n",
              " ('pleural biopsy', 519, 532, 'Procedure', '0.68299997'),\n",
              " ('transpleural fluoroscopy', 538, 561, 'Procedure', '0.5298'),\n",
              " ('August 20, 2007', 570, 584, 'Date', '0.63695'),\n",
              " ('thoracentesis', 587, 599, 'Procedure', '0.9961'),\n",
              " ('August 31, 2007', 608, 622, 'Date', '0.59284997'),\n",
              " ('Port-A-Cath placement', 625, 645, 'Procedure', '0.86010003'),\n",
              " ('HISTORY AND PHYSICAL', 648, 667, 'Section_Header', '0.64056665'),\n",
              " ('41-year-old', 687, 697, 'Age', '0.9997'),\n",
              " ('Vietnamese', 699, 708, 'Race_Ethnicity', '0.9852'),\n",
              " ('female', 710, 715, 'Gender', '0.9993'),\n",
              " ('nonproductive', 724, 736, 'Modifier', '0.978'),\n",
              " ('cough', 738, 742, 'Symptom', '0.9964'),\n",
              " ('last week', 757, 765, 'RelativeDate', '0.45200002'),\n",
              " ('She', 768, 770, 'Gender', '1.0'),\n",
              " ('right-sided', 780, 790, 'Direction', '0.961'),\n",
              " ('chest pain', 792, 801, 'Symptom', '0.7604'),\n",
              " ('radiating', 803, 811, 'Modifier', '0.9902'),\n",
              " ('her', 816, 818, 'Gender', '0.9469'),\n",
              " ('back', 820, 823, 'External_body_part_or_region', '0.7626'),\n",
              " ('fever', 830, 834, 'VS_Finding', '0.9973'),\n",
              " ('yesterday', 845, 853, 'RelativeDate', '0.9985'),\n",
              " ('She', 856, 858, 'Gender', '1.0'),\n",
              " ('pericarditis', 877, 888, 'Disease_Syndrome_Disorder', '0.9809'),\n",
              " ('pericardectomy', 894, 907, 'Procedure', '0.9969'),\n",
              " ('May 2006', 912, 919, 'Date', '0.87315'),\n",
              " ('cough', 935, 939, 'Symptom', '0.9981'),\n",
              " ('right-sided', 946, 956, 'Direction', '0.9695'),\n",
              " ('chest pain', 958, 967, 'Symptom', '0.7758'),\n",
              " ('urgent care center', 985, 1002, 'Clinical_Dept', '0.54286665'),\n",
              " ('Chest x-ray', 1005, 1015, 'Test', '0.8367'),\n",
              " ('right-sided', 1026, 1036, 'Direction', '0.9908'),\n",
              " ('pleural effusion', 1038, 1053, 'Disease_Syndrome_Disorder', '0.69860005'),\n",
              " ('PAST MEDICAL HISTORY', 1056, 1075, 'Medical_History_Header', '0.96620005'),\n",
              " ('Pericardectomy', 1080, 1093, 'Procedure', '0.9926'),\n",
              " ('Pericarditis', 1099, 1110, 'Disease_Syndrome_Disorder', '0.9739'),\n",
              " ('Atrial fibrillation', 1116, 1134, 'Heart_Disease', '0.94554996'),\n",
              " ('RNCA', 1140, 1143, 'Drug_Ingredient', '0.102'),\n",
              " ('intracranial thrombolytic treatment',\n",
              "  1150,\n",
              "  1184,\n",
              "  'Procedure',\n",
              "  '0.45233333'),\n",
              " ('PTA of MCA', 1189, 1198, 'Procedure', '0.39673337'),\n",
              " ('Mesenteric venous thrombosis',\n",
              "  1204,\n",
              "  1231,\n",
              "  'Disease_Syndrome_Disorder',\n",
              "  '0.49863335'),\n",
              " ('Pericardial', 1237, 1247, 'Internal_organ_or_component', '0.9815'),\n",
              " ('Cholecystectomy', 1260, 1274, 'Procedure', '0.9942'),\n",
              " ('Left', 1280, 1283, 'Direction', '0.9727'),\n",
              " ('thoracentesis', 1285, 1297, 'Procedure', '0.9453'),\n",
              " ('FAMILY HISTORY', 1300, 1313, 'Family_History_Header', '0.9994'),\n",
              " ('coronary artery disease', 1337, 1359, 'Heart_Disease', '0.65173334'),\n",
              " ('CVA', 1362, 1364, 'Cerebrovascular_Disease', '0.9995'),\n",
              " ('diabetes', 1367, 1374, 'Diabetes', '0.9939'),\n",
              " ('CHF', 1377, 1379, 'Heart_Disease', '0.9964'),\n",
              " ('MI', 1384, 1385, 'Heart_Disease', '0.9861'),\n",
              " ('sister', 1425, 1430, 'Gender', '0.9577'),\n",
              " ('cancer', 1449, 1454, 'Oncological', '0.9815'),\n",
              " ('SOCIAL HISTORY', 1457, 1470, 'Social_History_Header', '0.99179995'),\n",
              " ('She', 1473, 1475, 'Gender', '0.9997'),\n",
              " ('married', 1480, 1486, 'Relationship_Status', '1.0'),\n",
              " ('US', 1507, 1508, 'Clinical_Dept', '0.8139'),\n",
              " ('She', 1523, 1525, 'Gender', '1.0'),\n",
              " ('mother', 1532, 1537, 'Gender', '0.983'),\n",
              " ('tobacco', 1556, 1562, 'Smoking', '0.9997'),\n",
              " ('alcohol', 1565, 1571, 'Alcohol', '0.9999'),\n",
              " ('illicit drug', 1576, 1587, 'Substance', '0.64250004'),\n",
              " ('MEDICATIONS', 1594, 1604, 'Section_Header', '0.9976'),\n",
              " ('Coumadin', 1609, 1616, 'Drug_BrandName', '0.9925'),\n",
              " ('1 mg', 1618, 1621, 'Strength', '0.90695'),\n",
              " ('daily', 1623, 1627, 'Frequency', '0.9972'),\n",
              " ('INR', 1635, 1637, 'Test', '0.9949'),\n",
              " ('Tuesday', 1646, 1652, 'RelativeDate', '0.4618'),\n",
              " ('August 14, 2007', 1655, 1669, 'Date', '0.6724'),\n",
              " ('her', 1676, 1678, 'Gender', '0.9941'),\n",
              " ('INR', 1680, 1682, 'Test', '0.9986'),\n",
              " ('2.3', 1688, 1690, 'Test_Result', '0.9187'),\n",
              " ('Amiodarone', 1696, 1705, 'Drug_Ingredient', '0.9978'),\n",
              " ('100 mg', 1707, 1712, 'Strength', '0.9056'),\n",
              " ('p.o', 1714, 1716, 'Route', '0.9984'),\n",
              " ('daily', 1719, 1723, 'Frequency', '0.7'),\n",
              " ('REVIEW OF SYSTEMS', 1726, 1742, 'Section_Header', '0.8228'),\n",
              " ('pulmonary', 1794, 1802, 'Internal_organ_or_component', '0.3338'),\n",
              " ('occasional', 1845, 1854, 'Modifier', '0.9865'),\n",
              " ('numbness', 1856, 1863, 'Symptom', '0.9981'),\n",
              " ('tingling', 1869, 1876, 'Symptom', '0.9998'),\n",
              " ('her', 1881, 1883, 'Gender', '0.5999'),\n",
              " ('left', 1885, 1888, 'Direction', '0.5026'),\n",
              " ('arm', 1890, 1892, 'External_body_part_or_region', '0.3558'),\n",
              " ('PHYSICAL EXAMINATION', 1895, 1914, 'Vital_Signs_Header', '0.96134996'),\n",
              " ('VITAL SIGNS', 1916, 1926, 'Vital_Signs_Header', '0.91735005'),\n",
              " ('Blood pressure 123/95', 1929, 1949, 'Blood_Pressure', '0.74430007'),\n",
              " ('heart rate 83', 1952, 1964, 'Pulse', '0.8529666'),\n",
              " ('respirations 20', 1967, 1981, 'Respiration', '0.9332'),\n",
              " ('temperature 97', 1984, 1997, 'Temperature', '0.8921'),\n",
              " ('oxygen saturation 97%', 2004, 2024, 'O2_Saturation', '0.74536663'),\n",
              " ('nonproductive', 2045, 2057, 'Modifier', '0.8756'),\n",
              " ('cough', 2059, 2063, 'Symptom', '0.9924'),\n",
              " ('pain', 2069, 2072, 'Symptom', '0.9998'),\n",
              " ('coughing', 2079, 2086, 'Symptom', '0.997'),\n",
              " ('Pupils', 2096, 2101, 'External_body_part_or_region', '0.9798'),\n",
              " ('Tympanic membranes', 2154, 2171, 'Internal_organ_or_component', '0.9164'),\n",
              " ('lymphadenopathy', 2201, 2215, 'Symptom', '0.9996'),\n",
              " ('masses', 2221, 2226, 'Symptom', '0.9986'),\n",
              " ('Pleural friction rub', 2242, 2261, 'Symptom', '0.41066667'),\n",
              " ('nondistended', 2283, 2294, 'Symptom', '0.99'),\n",
              " ('nontender', 2301, 2309, 'Symptom', '0.999'),\n",
              " ('bowel', 2321, 2325, 'Internal_organ_or_component', '0.9971'),\n",
              " ('organomegaly', 2338, 2349, 'Symptom', '0.9993'),\n",
              " ('edema', 2368, 2372, 'Symptom', '0.9989'),\n",
              " ('clubbing', 2378, 2385, 'Symptom', '0.9995'),\n",
              " ('cyanosis', 2391, 2398, 'VS_Finding', '0.9526'),\n",
              " ('tenderness', 2404, 2413, 'Symptom', '0.999'),\n",
              " ('extremities', 2459, 2469, 'External_body_part_or_region', '0.7368'),\n",
              " ('breakdown', 2481, 2489, 'Symptom', '0.9963'),\n",
              " ('lesions', 2494, 2500, 'Symptom', '0.9981'),\n",
              " ('ulcers', 2506, 2511, 'Symptom', '0.9494'),\n",
              " ('focal deficits', 2545, 2558, 'Symptom', '0.6749'),\n",
              " ('LABORATORY DATA', 2616, 2630, 'Section_Header', '0.96955'),\n",
              " ('HOSPITAL COURSE', 2651, 2665, 'Section_Header', '0.9602'),\n",
              " ('admitted', 2684, 2691, 'Admission_Discharge', '1.0'),\n",
              " ('right-sided', 2699, 2709, 'Direction', '0.9943'),\n",
              " ('pleural effusion', 2711, 2726, 'Disease_Syndrome_Disorder', '0.7446'),\n",
              " ('thoracentesis', 2732, 2744, 'Procedure', '0.9935'),\n",
              " ('Monday', 2749, 2754, 'RelativeDate', '0.7925'),\n",
              " ('Her', 2766, 2768, 'Gender', '0.9995'),\n",
              " ('Coumadin', 2770, 2777, 'Drug_BrandName', '0.9986'),\n",
              " ('echocardiogram', 2808, 2821, 'Test', '0.9972'),\n",
              " ('She', 2836, 2838, 'Gender', '1.0'),\n",
              " ('DVT', 2871, 2873, 'Disease_Syndrome_Disorder', '0.939'),\n",
              " ('Lovenox', 2880, 2886, 'Drug_BrandName', '0.9927'),\n",
              " ('40 mg', 2888, 2892, 'Strength', '0.9546'),\n",
              " ('subcutaneously', 2894, 2907, 'Route', '0.9998'),\n",
              " ('Her', 2910, 2912, 'Gender', '0.9999'),\n",
              " ('March 2005', 2936, 2945, 'Date', '0.8641'),\n",
              " ('she', 2952, 2954, 'Gender', '0.9955'),\n",
              " ('pericarditis', 3003, 3014, 'Disease_Syndrome_Disorder', '0.9838'),\n",
              " ('pericardial window', 3040, 3057, 'Procedure', '0.4712'),\n",
              " ('hospital', 3073, 3080, 'Clinical_Dept', '0.9217'),\n",
              " ('she', 3096, 3098, 'Gender', '0.9989'),\n",
              " ('mesenteric pain', 3123, 3137, 'Symptom', '0.80015'),\n",
              " ('thrombosis', 3143, 3152, 'Disease_Syndrome_Disorder', '0.9508'),\n",
              " ('anticoagulated', 3162, 3175, 'Drug_Ingredient', '0.9254'),\n",
              " ('Her', 3178, 3180, 'Gender', '0.9993'),\n",
              " ('pericardial fluid', 3182, 3198, 'Internal_organ_or_component', '0.448'),\n",
              " ('she', 3220, 3222, 'Gender', '0.9993'),\n",
              " ('she', 3257, 3259, 'Gender', '0.9994'),\n",
              " ('pericardectomy', 3281, 3294, 'Procedure', '0.9357'),\n",
              " ('her', 3337, 3339, 'Gender', '0.991'),\n",
              " ('CT scan', 3341, 3347, 'Test', '0.82705'),\n",
              " ('March 2006', 3354, 3363, 'Date', '0.75885'),\n",
              " ('her', 3374, 3376, 'Gender', '0.9828'),\n",
              " ('pericardectomy', 3378, 3391, 'Procedure', '0.9814'),\n",
              " ('bilateral', 3408, 3416, 'Direction', '0.9828'),\n",
              " ('plural effusions', 3418, 3433, 'Disease_Syndrome_Disorder', '0.31505'),\n",
              " ('pericardectomy', 3478, 3491, 'Procedure', '0.9844'),\n",
              " ('her', 3512, 3514, 'Gender', '0.9447'),\n",
              " ('she', 3536, 3538, 'Gender', '0.9991'),\n",
              " ('readmitted', 3544, 3553, 'Admission_Discharge', '1.0'),\n",
              " ('hospital', 3562, 3569, 'Clinical_Dept', '0.9888'),\n",
              " ('chest pain', 3576, 3585, 'Symptom', '0.6991'),\n",
              " ('bilateral', 3605, 3613, 'Direction', '0.9974'),\n",
              " ('pleural effusion', 3615, 3630, 'Disease_Syndrome_Disorder', '0.80015004'),\n",
              " ('right', 3637, 3641, 'Direction', '0.9059'),\n",
              " ('greater', 3643, 3649, 'Modifier', '0.7474'),\n",
              " ('left', 3660, 3663, 'Direction', '0.9809'),\n",
              " ('CT of the chest', 3666, 3680, 'Test', '0.498725'),\n",
              " ('large mediastinal lymph node', 3698, 3725, 'Symptom', '0.24954998'),\n",
              " ('pathology', 3744, 3752, 'Clinical_Dept', '0.9776'),\n",
              " ('pericardectomy', 3772, 3785, 'Procedure', '0.9853'),\n",
              " ('March 2006', 3790, 3799, 'Date', '0.9045'),\n",
              " ('mesothelioma', 3826, 3837, 'Oncological', '0.9339'),\n",
              " ('chest tube placement', 3854, 3873, 'Procedure', '0.5127333'),\n",
              " ('drainage of the fluid', 3879, 3899, 'Symptom', '0.30287498'),\n",
              " ('thoracoscopy', 3914, 3925, 'Procedure', '0.9961'),\n",
              " ('fluid biopsies', 3932, 3945, 'Procedure', '0.86285'),\n",
              " ('epithelioid malignant mesothelioma',\n",
              "  3985,\n",
              "  4018,\n",
              "  'Oncological',\n",
              "  '0.67466664'),\n",
              " ('PET CT', 4057, 4062, 'Test', '0.69624996'),\n",
              " ('extensive uptake', 4078, 4093, 'ImagingFindings', '0.45735002'),\n",
              " ('chest', 4102, 4106, 'External_body_part_or_region', '0.6544'),\n",
              " ('bilateral', 4109, 4117, 'Direction', '0.9968'),\n",
              " ('pleural pericardial effusions',\n",
              "  4119,\n",
              "  4147,\n",
              "  'Disease_Syndrome_Disorder',\n",
              "  '0.36453333'),\n",
              " ('lymphadenopathy', 4154, 4168, 'Symptom', '0.9972'),\n",
              " ('She', 4171, 4173, 'Gender', '0.9999'),\n",
              " ('acidic fluid', 4184, 4195, 'Symptom', '0.2013'),\n",
              " ('pectoral', 4198, 4205, 'Internal_organ_or_component', '0.9672'),\n",
              " ('intramammary lymph nodes',\n",
              "  4211,\n",
              "  4234,\n",
              "  'Internal_organ_or_component',\n",
              "  '0.38193333'),\n",
              " ('L4', 4250, 4251, 'Internal_organ_or_component', '0.7635'),\n",
              " ('stage III disease', 4293, 4309, 'Disease_Syndrome_Disorder', '0.22223334'),\n",
              " ('Her', 4312, 4314, 'Gender', '0.9999'),\n",
              " ('echocardiogram', 4323, 4336, 'Test', '0.9972'),\n",
              " ('ejection fraction', 4348, 4364, 'Test', '0.6564'),\n",
              " ('45% to 49%', 4369, 4378, 'Test_Result', '0.3271'),\n",
              " ('She', 4381, 4383, 'Gender', '1.0'),\n",
              " ('Oncology service', 4404, 4419, 'Clinical_Dept', '0.81200004'),\n",
              " ('chemotherapy', 4436, 4447, 'Treatment', '0.9964'),\n",
              " ('September 1, 2007', 4452, 4468, 'Date', '0.6602'),\n",
              " ('cisplatin', 4475, 4483, 'Drug_Ingredient', '0.9798'),\n",
              " ('75 mg/centimeter', 4485, 4500, 'Strength', '0.5286'),\n",
              " ('109 mg', 4519, 4524, 'Strength', '0.7824'),\n",
              " ('IV', 4526, 4527, 'Route', '0.9983'),\n",
              " ('over 2 hours', 4539, 4550, 'Duration', '0.2892'),\n",
              " ('September 1, 2007', 4555, 4571, 'Date', '0.58'),\n",
              " ('Alimta', 4574, 4579, 'Drug_BrandName', '0.9174'),\n",
              " ('500 mg/', 4581, 4587, 'Strength', '0.8253'),\n",
              " ('730 mg', 4617, 4622, 'Strength', '0.82895'),\n",
              " ('IV', 4624, 4625, 'Route', '0.9987'),\n",
              " ('over 10 minutes', 4637, 4651, 'Duration', '0.51523334'),\n",
              " ('Port-A-Cath', 4685, 4695, 'Medical_Device', '0.9983'),\n",
              " ('chemotherapy', 4713, 4724, 'Treatment', '0.9988'),\n",
              " ('discharged', 4765, 4774, 'Admission_Discharge', '1.0'),\n",
              " ('the following day after', 4776, 4798, 'RelativeDate', '0.726175'),\n",
              " ('IV', 4814, 4815, 'Route', '0.999'),\n",
              " ('fluid', 4817, 4821, 'Drug_Ingredient', '0.8356'),\n",
              " ('IV', 4827, 4828, 'Route', '0.992'),\n",
              " ('Her', 4831, 4833, 'Gender', '1.0'),\n",
              " ('Port-A-Cath', 4835, 4845, 'Medical_Device', '0.9969'),\n",
              " ('heparin', 4863, 4869, 'Drug_Ingredient', '0.9891'),\n",
              " ('DISCHARGE MEDICATIONS', 4894, 4914, 'Section_Header', '0.96695'),\n",
              " ('Zofran', 4917, 4922, 'Drug_BrandName', '0.9995'),\n",
              " ('Phenergan', 4925, 4933, 'Drug_BrandName', '0.9965'),\n",
              " ('Coumadin', 4936, 4943, 'Drug_BrandName', '0.999'),\n",
              " ('Lovenox', 4950, 4956, 'Drug_BrandName', '0.9989'),\n",
              " ('Vicodin', 4963, 4969, 'Drug_BrandName', '0.984'),\n",
              " ('She', 4995, 4997, 'Gender', '0.9999'),\n",
              " ('her', 5062, 5064, 'Gender', '0.986'),\n",
              " ('INR', 5066, 5068, 'Test', '0.9942'),\n",
              " ('Tuesday', 5073, 5079, 'RelativeDate', '0.837'),\n",
              " ('She', 5082, 5084, 'Gender', '1.0'),\n",
              " ('she', 5112, 5114, 'Gender', '0.9977'),\n",
              " ('mesothelioma', 5201, 5212, 'Oncological', '0.9705'),\n",
              " ('pleural effusion', 5215, 5230, 'Disease_Syndrome_Disorder', '0.46245'),\n",
              " ('atrial fibrillation', 5233, 5251, 'Heart_Disease', '0.79515'),\n",
              " ('anemia', 5254, 5259, 'Disease_Syndrome_Disorder', '0.8942')]"
            ]
          },
          "metadata": {},
          "execution_count": 45
        }
      ],
      "source": [
        "[(x.result, x.begin, x.end, x.metadata['entity'], x.metadata['confidence']) for x in result[0]['jsl_ner_chunk']]"
      ]
    },
    {
      "cell_type": "code",
      "execution_count": 46,
      "metadata": {
        "application/vnd.databricks.v1+cell": {
          "cellMetadata": {
            "byteLimit": 2048000,
            "rowLimit": 10000
          },
          "inputWidgets": {},
          "nuid": "a7653aaa-3995-4f05-92b7-c4fcce8ca8ee",
          "showTitle": false,
          "title": ""
        },
        "execution": {
          "iopub.execute_input": "2024-02-15T12:23:33.128328Z",
          "iopub.status.busy": "2024-02-15T12:23:33.127903Z",
          "iopub.status.idle": "2024-02-15T12:24:09.767427Z",
          "shell.execute_reply": "2024-02-15T12:24:09.766821Z",
          "shell.execute_reply.started": "2024-02-15T12:23:33.128308Z"
        },
        "tags": [],
        "id": "KX54w5UUbSgv",
        "outputId": "2a38dfb7-f109-4aa2-a701-c1afe67a297f",
        "colab": {
          "base_uri": "https://localhost:8080/",
          "height": 749
        }
      },
      "outputs": [
        {
          "output_type": "stream",
          "name": "stdout",
          "text": [
            "Warning::Spark Session already created, some configs may not take.\n",
            "Warning::Spark Session already created, some configs may not take.\n"
          ]
        },
        {
          "output_type": "execute_result",
          "data": {
            "text/plain": [
              "   entities_jsl_ner_chunk entities_jsl_ner_chunk_begin  \\\n",
              "0  Discharge               68                            \n",
              "0  Mesothelioma            88                            \n",
              "0  Description             105                           \n",
              "0  Mesothelioma            118                           \n",
              "0  pleural effusion        132                           \n",
              "0  atrial fibrillation     150                           \n",
              "0  anemia                  171                           \n",
              "0  ascites                 179                           \n",
              "0  esophageal reflux       188                           \n",
              "0  deep venous thrombosis  222                           \n",
              "0  PRINCIPAL DIAGNOSIS     284                           \n",
              "0  Mesothelioma            305                           \n",
              "0  SECONDARY DIAGNOSES     319                           \n",
              "0  Pleural effusion        340                           \n",
              "0  atrial fibrillation     358                           \n",
              "0  anemia                  379                           \n",
              "0  ascites                 387                           \n",
              "0  esophageal reflux       396                           \n",
              "0  deep venous thrombosis  430                           \n",
              "0  PROCEDURES              454                           \n",
              "\n",
              "  entities_jsl_ner_chunk_end entities_jsl_ner_chunk_origin_sentence  \\\n",
              "0  76                         0                                       \n",
              "0  99                         0                                       \n",
              "0  115                        0                                       \n",
              "0  129                        0                                       \n",
              "0  147                        0                                       \n",
              "0  168                        0                                       \n",
              "0  176                        0                                       \n",
              "0  185                        0                                       \n",
              "0  204                        0                                       \n",
              "0  243                        0                                       \n",
              "0  302                        1                                       \n",
              "0  316                        1                                       \n",
              "0  337                        2                                       \n",
              "0  355                        2                                       \n",
              "0  376                        2                                       \n",
              "0  384                        2                                       \n",
              "0  393                        2                                       \n",
              "0  412                        2                                       \n",
              "0  451                        2                                       \n",
              "0  463                        3                                       \n",
              "\n",
              "  entities_jsl_ner_chunk_class entities_jsl_ner_chunk_confidence  \n",
              "0  Admission_Discharge          0.9993                            \n",
              "0  Oncological                  0.9353                            \n",
              "0  Section_Header               0.9998                            \n",
              "0  Oncological                  0.9906                            \n",
              "0  Disease_Syndrome_Disorder    0.78805                           \n",
              "0  Heart_Disease                0.97745                           \n",
              "0  Disease_Syndrome_Disorder    0.9965                            \n",
              "0  Disease_Syndrome_Disorder    0.9642                            \n",
              "0  Disease_Syndrome_Disorder    0.74625003                        \n",
              "0  Disease_Syndrome_Disorder    0.45533335                        \n",
              "0  Section_Header               0.91955                           \n",
              "0  Oncological                  0.9835                            \n",
              "0  Section_Header               0.9634                            \n",
              "0  Disease_Syndrome_Disorder    0.8196                            \n",
              "0  Heart_Disease                0.98144996                        \n",
              "0  Disease_Syndrome_Disorder    0.9963                            \n",
              "0  Disease_Syndrome_Disorder    0.9576                            \n",
              "0  Disease_Syndrome_Disorder    0.7619                            \n",
              "0  Disease_Syndrome_Disorder    0.47393334                        \n",
              "0  Section_Header               0.9995                            "
            ],
            "text/html": [
              "\n",
              "  <div id=\"df-f5d419d0-d8d0-485a-a51b-b16280a4e190\" class=\"colab-df-container\">\n",
              "    <div>\n",
              "<style scoped>\n",
              "    .dataframe tbody tr th:only-of-type {\n",
              "        vertical-align: middle;\n",
              "    }\n",
              "\n",
              "    .dataframe tbody tr th {\n",
              "        vertical-align: top;\n",
              "    }\n",
              "\n",
              "    .dataframe thead th {\n",
              "        text-align: right;\n",
              "    }\n",
              "</style>\n",
              "<table border=\"1\" class=\"dataframe\">\n",
              "  <thead>\n",
              "    <tr style=\"text-align: right;\">\n",
              "      <th></th>\n",
              "      <th>entities_jsl_ner_chunk</th>\n",
              "      <th>entities_jsl_ner_chunk_begin</th>\n",
              "      <th>entities_jsl_ner_chunk_end</th>\n",
              "      <th>entities_jsl_ner_chunk_origin_sentence</th>\n",
              "      <th>entities_jsl_ner_chunk_class</th>\n",
              "      <th>entities_jsl_ner_chunk_confidence</th>\n",
              "    </tr>\n",
              "  </thead>\n",
              "  <tbody>\n",
              "    <tr>\n",
              "      <th>0</th>\n",
              "      <td>Discharge</td>\n",
              "      <td>68</td>\n",
              "      <td>76</td>\n",
              "      <td>0</td>\n",
              "      <td>Admission_Discharge</td>\n",
              "      <td>0.9993</td>\n",
              "    </tr>\n",
              "    <tr>\n",
              "      <th>0</th>\n",
              "      <td>Mesothelioma</td>\n",
              "      <td>88</td>\n",
              "      <td>99</td>\n",
              "      <td>0</td>\n",
              "      <td>Oncological</td>\n",
              "      <td>0.9353</td>\n",
              "    </tr>\n",
              "    <tr>\n",
              "      <th>0</th>\n",
              "      <td>Description</td>\n",
              "      <td>105</td>\n",
              "      <td>115</td>\n",
              "      <td>0</td>\n",
              "      <td>Section_Header</td>\n",
              "      <td>0.9998</td>\n",
              "    </tr>\n",
              "    <tr>\n",
              "      <th>0</th>\n",
              "      <td>Mesothelioma</td>\n",
              "      <td>118</td>\n",
              "      <td>129</td>\n",
              "      <td>0</td>\n",
              "      <td>Oncological</td>\n",
              "      <td>0.9906</td>\n",
              "    </tr>\n",
              "    <tr>\n",
              "      <th>0</th>\n",
              "      <td>pleural effusion</td>\n",
              "      <td>132</td>\n",
              "      <td>147</td>\n",
              "      <td>0</td>\n",
              "      <td>Disease_Syndrome_Disorder</td>\n",
              "      <td>0.78805</td>\n",
              "    </tr>\n",
              "    <tr>\n",
              "      <th>0</th>\n",
              "      <td>atrial fibrillation</td>\n",
              "      <td>150</td>\n",
              "      <td>168</td>\n",
              "      <td>0</td>\n",
              "      <td>Heart_Disease</td>\n",
              "      <td>0.97745</td>\n",
              "    </tr>\n",
              "    <tr>\n",
              "      <th>0</th>\n",
              "      <td>anemia</td>\n",
              "      <td>171</td>\n",
              "      <td>176</td>\n",
              "      <td>0</td>\n",
              "      <td>Disease_Syndrome_Disorder</td>\n",
              "      <td>0.9965</td>\n",
              "    </tr>\n",
              "    <tr>\n",
              "      <th>0</th>\n",
              "      <td>ascites</td>\n",
              "      <td>179</td>\n",
              "      <td>185</td>\n",
              "      <td>0</td>\n",
              "      <td>Disease_Syndrome_Disorder</td>\n",
              "      <td>0.9642</td>\n",
              "    </tr>\n",
              "    <tr>\n",
              "      <th>0</th>\n",
              "      <td>esophageal reflux</td>\n",
              "      <td>188</td>\n",
              "      <td>204</td>\n",
              "      <td>0</td>\n",
              "      <td>Disease_Syndrome_Disorder</td>\n",
              "      <td>0.74625003</td>\n",
              "    </tr>\n",
              "    <tr>\n",
              "      <th>0</th>\n",
              "      <td>deep venous thrombosis</td>\n",
              "      <td>222</td>\n",
              "      <td>243</td>\n",
              "      <td>0</td>\n",
              "      <td>Disease_Syndrome_Disorder</td>\n",
              "      <td>0.45533335</td>\n",
              "    </tr>\n",
              "    <tr>\n",
              "      <th>0</th>\n",
              "      <td>PRINCIPAL DIAGNOSIS</td>\n",
              "      <td>284</td>\n",
              "      <td>302</td>\n",
              "      <td>1</td>\n",
              "      <td>Section_Header</td>\n",
              "      <td>0.91955</td>\n",
              "    </tr>\n",
              "    <tr>\n",
              "      <th>0</th>\n",
              "      <td>Mesothelioma</td>\n",
              "      <td>305</td>\n",
              "      <td>316</td>\n",
              "      <td>1</td>\n",
              "      <td>Oncological</td>\n",
              "      <td>0.9835</td>\n",
              "    </tr>\n",
              "    <tr>\n",
              "      <th>0</th>\n",
              "      <td>SECONDARY DIAGNOSES</td>\n",
              "      <td>319</td>\n",
              "      <td>337</td>\n",
              "      <td>2</td>\n",
              "      <td>Section_Header</td>\n",
              "      <td>0.9634</td>\n",
              "    </tr>\n",
              "    <tr>\n",
              "      <th>0</th>\n",
              "      <td>Pleural effusion</td>\n",
              "      <td>340</td>\n",
              "      <td>355</td>\n",
              "      <td>2</td>\n",
              "      <td>Disease_Syndrome_Disorder</td>\n",
              "      <td>0.8196</td>\n",
              "    </tr>\n",
              "    <tr>\n",
              "      <th>0</th>\n",
              "      <td>atrial fibrillation</td>\n",
              "      <td>358</td>\n",
              "      <td>376</td>\n",
              "      <td>2</td>\n",
              "      <td>Heart_Disease</td>\n",
              "      <td>0.98144996</td>\n",
              "    </tr>\n",
              "    <tr>\n",
              "      <th>0</th>\n",
              "      <td>anemia</td>\n",
              "      <td>379</td>\n",
              "      <td>384</td>\n",
              "      <td>2</td>\n",
              "      <td>Disease_Syndrome_Disorder</td>\n",
              "      <td>0.9963</td>\n",
              "    </tr>\n",
              "    <tr>\n",
              "      <th>0</th>\n",
              "      <td>ascites</td>\n",
              "      <td>387</td>\n",
              "      <td>393</td>\n",
              "      <td>2</td>\n",
              "      <td>Disease_Syndrome_Disorder</td>\n",
              "      <td>0.9576</td>\n",
              "    </tr>\n",
              "    <tr>\n",
              "      <th>0</th>\n",
              "      <td>esophageal reflux</td>\n",
              "      <td>396</td>\n",
              "      <td>412</td>\n",
              "      <td>2</td>\n",
              "      <td>Disease_Syndrome_Disorder</td>\n",
              "      <td>0.7619</td>\n",
              "    </tr>\n",
              "    <tr>\n",
              "      <th>0</th>\n",
              "      <td>deep venous thrombosis</td>\n",
              "      <td>430</td>\n",
              "      <td>451</td>\n",
              "      <td>2</td>\n",
              "      <td>Disease_Syndrome_Disorder</td>\n",
              "      <td>0.47393334</td>\n",
              "    </tr>\n",
              "    <tr>\n",
              "      <th>0</th>\n",
              "      <td>PROCEDURES</td>\n",
              "      <td>454</td>\n",
              "      <td>463</td>\n",
              "      <td>3</td>\n",
              "      <td>Section_Header</td>\n",
              "      <td>0.9995</td>\n",
              "    </tr>\n",
              "  </tbody>\n",
              "</table>\n",
              "</div>\n",
              "    <div class=\"colab-df-buttons\">\n",
              "\n",
              "  <div class=\"colab-df-container\">\n",
              "    <button class=\"colab-df-convert\" onclick=\"convertToInteractive('df-f5d419d0-d8d0-485a-a51b-b16280a4e190')\"\n",
              "            title=\"Convert this dataframe to an interactive table.\"\n",
              "            style=\"display:none;\">\n",
              "\n",
              "  <svg xmlns=\"http://www.w3.org/2000/svg\" height=\"24px\" viewBox=\"0 -960 960 960\">\n",
              "    <path d=\"M120-120v-720h720v720H120Zm60-500h600v-160H180v160Zm220 220h160v-160H400v160Zm0 220h160v-160H400v160ZM180-400h160v-160H180v160Zm440 0h160v-160H620v160ZM180-180h160v-160H180v160Zm440 0h160v-160H620v160Z\"/>\n",
              "  </svg>\n",
              "    </button>\n",
              "\n",
              "  <style>\n",
              "    .colab-df-container {\n",
              "      display:flex;\n",
              "      gap: 12px;\n",
              "    }\n",
              "\n",
              "    .colab-df-convert {\n",
              "      background-color: #E8F0FE;\n",
              "      border: none;\n",
              "      border-radius: 50%;\n",
              "      cursor: pointer;\n",
              "      display: none;\n",
              "      fill: #1967D2;\n",
              "      height: 32px;\n",
              "      padding: 0 0 0 0;\n",
              "      width: 32px;\n",
              "    }\n",
              "\n",
              "    .colab-df-convert:hover {\n",
              "      background-color: #E2EBFA;\n",
              "      box-shadow: 0px 1px 2px rgba(60, 64, 67, 0.3), 0px 1px 3px 1px rgba(60, 64, 67, 0.15);\n",
              "      fill: #174EA6;\n",
              "    }\n",
              "\n",
              "    .colab-df-buttons div {\n",
              "      margin-bottom: 4px;\n",
              "    }\n",
              "\n",
              "    [theme=dark] .colab-df-convert {\n",
              "      background-color: #3B4455;\n",
              "      fill: #D2E3FC;\n",
              "    }\n",
              "\n",
              "    [theme=dark] .colab-df-convert:hover {\n",
              "      background-color: #434B5C;\n",
              "      box-shadow: 0px 1px 3px 1px rgba(0, 0, 0, 0.15);\n",
              "      filter: drop-shadow(0px 1px 2px rgba(0, 0, 0, 0.3));\n",
              "      fill: #FFFFFF;\n",
              "    }\n",
              "  </style>\n",
              "\n",
              "    <script>\n",
              "      const buttonEl =\n",
              "        document.querySelector('#df-f5d419d0-d8d0-485a-a51b-b16280a4e190 button.colab-df-convert');\n",
              "      buttonEl.style.display =\n",
              "        google.colab.kernel.accessAllowed ? 'block' : 'none';\n",
              "\n",
              "      async function convertToInteractive(key) {\n",
              "        const element = document.querySelector('#df-f5d419d0-d8d0-485a-a51b-b16280a4e190');\n",
              "        const dataTable =\n",
              "          await google.colab.kernel.invokeFunction('convertToInteractive',\n",
              "                                                    [key], {});\n",
              "        if (!dataTable) return;\n",
              "\n",
              "        const docLinkHtml = 'Like what you see? Visit the ' +\n",
              "          '<a target=\"_blank\" href=https://colab.research.google.com/notebooks/data_table.ipynb>data table notebook</a>'\n",
              "          + ' to learn more about interactive tables.';\n",
              "        element.innerHTML = '';\n",
              "        dataTable['output_type'] = 'display_data';\n",
              "        await google.colab.output.renderOutput(dataTable, element);\n",
              "        const docLink = document.createElement('div');\n",
              "        docLink.innerHTML = docLinkHtml;\n",
              "        element.appendChild(docLink);\n",
              "      }\n",
              "    </script>\n",
              "  </div>\n",
              "\n",
              "\n",
              "<div id=\"df-913e172f-ed3c-4149-8277-fed803440c60\">\n",
              "  <button class=\"colab-df-quickchart\" onclick=\"quickchart('df-913e172f-ed3c-4149-8277-fed803440c60')\"\n",
              "            title=\"Suggest charts\"\n",
              "            style=\"display:none;\">\n",
              "\n",
              "<svg xmlns=\"http://www.w3.org/2000/svg\" height=\"24px\"viewBox=\"0 0 24 24\"\n",
              "     width=\"24px\">\n",
              "    <g>\n",
              "        <path d=\"M19 3H5c-1.1 0-2 .9-2 2v14c0 1.1.9 2 2 2h14c1.1 0 2-.9 2-2V5c0-1.1-.9-2-2-2zM9 17H7v-7h2v7zm4 0h-2V7h2v10zm4 0h-2v-4h2v4z\"/>\n",
              "    </g>\n",
              "</svg>\n",
              "  </button>\n",
              "\n",
              "<style>\n",
              "  .colab-df-quickchart {\n",
              "      --bg-color: #E8F0FE;\n",
              "      --fill-color: #1967D2;\n",
              "      --hover-bg-color: #E2EBFA;\n",
              "      --hover-fill-color: #174EA6;\n",
              "      --disabled-fill-color: #AAA;\n",
              "      --disabled-bg-color: #DDD;\n",
              "  }\n",
              "\n",
              "  [theme=dark] .colab-df-quickchart {\n",
              "      --bg-color: #3B4455;\n",
              "      --fill-color: #D2E3FC;\n",
              "      --hover-bg-color: #434B5C;\n",
              "      --hover-fill-color: #FFFFFF;\n",
              "      --disabled-bg-color: #3B4455;\n",
              "      --disabled-fill-color: #666;\n",
              "  }\n",
              "\n",
              "  .colab-df-quickchart {\n",
              "    background-color: var(--bg-color);\n",
              "    border: none;\n",
              "    border-radius: 50%;\n",
              "    cursor: pointer;\n",
              "    display: none;\n",
              "    fill: var(--fill-color);\n",
              "    height: 32px;\n",
              "    padding: 0;\n",
              "    width: 32px;\n",
              "  }\n",
              "\n",
              "  .colab-df-quickchart:hover {\n",
              "    background-color: var(--hover-bg-color);\n",
              "    box-shadow: 0 1px 2px rgba(60, 64, 67, 0.3), 0 1px 3px 1px rgba(60, 64, 67, 0.15);\n",
              "    fill: var(--button-hover-fill-color);\n",
              "  }\n",
              "\n",
              "  .colab-df-quickchart-complete:disabled,\n",
              "  .colab-df-quickchart-complete:disabled:hover {\n",
              "    background-color: var(--disabled-bg-color);\n",
              "    fill: var(--disabled-fill-color);\n",
              "    box-shadow: none;\n",
              "  }\n",
              "\n",
              "  .colab-df-spinner {\n",
              "    border: 2px solid var(--fill-color);\n",
              "    border-color: transparent;\n",
              "    border-bottom-color: var(--fill-color);\n",
              "    animation:\n",
              "      spin 1s steps(1) infinite;\n",
              "  }\n",
              "\n",
              "  @keyframes spin {\n",
              "    0% {\n",
              "      border-color: transparent;\n",
              "      border-bottom-color: var(--fill-color);\n",
              "      border-left-color: var(--fill-color);\n",
              "    }\n",
              "    20% {\n",
              "      border-color: transparent;\n",
              "      border-left-color: var(--fill-color);\n",
              "      border-top-color: var(--fill-color);\n",
              "    }\n",
              "    30% {\n",
              "      border-color: transparent;\n",
              "      border-left-color: var(--fill-color);\n",
              "      border-top-color: var(--fill-color);\n",
              "      border-right-color: var(--fill-color);\n",
              "    }\n",
              "    40% {\n",
              "      border-color: transparent;\n",
              "      border-right-color: var(--fill-color);\n",
              "      border-top-color: var(--fill-color);\n",
              "    }\n",
              "    60% {\n",
              "      border-color: transparent;\n",
              "      border-right-color: var(--fill-color);\n",
              "    }\n",
              "    80% {\n",
              "      border-color: transparent;\n",
              "      border-right-color: var(--fill-color);\n",
              "      border-bottom-color: var(--fill-color);\n",
              "    }\n",
              "    90% {\n",
              "      border-color: transparent;\n",
              "      border-bottom-color: var(--fill-color);\n",
              "    }\n",
              "  }\n",
              "</style>\n",
              "\n",
              "  <script>\n",
              "    async function quickchart(key) {\n",
              "      const quickchartButtonEl =\n",
              "        document.querySelector('#' + key + ' button');\n",
              "      quickchartButtonEl.disabled = true;  // To prevent multiple clicks.\n",
              "      quickchartButtonEl.classList.add('colab-df-spinner');\n",
              "      try {\n",
              "        const charts = await google.colab.kernel.invokeFunction(\n",
              "            'suggestCharts', [key], {});\n",
              "      } catch (error) {\n",
              "        console.error('Error during call to suggestCharts:', error);\n",
              "      }\n",
              "      quickchartButtonEl.classList.remove('colab-df-spinner');\n",
              "      quickchartButtonEl.classList.add('colab-df-quickchart-complete');\n",
              "    }\n",
              "    (() => {\n",
              "      let quickchartButtonEl =\n",
              "        document.querySelector('#df-913e172f-ed3c-4149-8277-fed803440c60 button');\n",
              "      quickchartButtonEl.style.display =\n",
              "        google.colab.kernel.accessAllowed ? 'block' : 'none';\n",
              "    })();\n",
              "  </script>\n",
              "</div>\n",
              "    </div>\n",
              "  </div>\n"
            ],
            "application/vnd.google.colaboratory.intrinsic+json": {
              "type": "dataframe",
              "variable_name": "df_clinical",
              "repr_error": "'str' object has no attribute 'empty'"
            }
          },
          "metadata": {},
          "execution_count": 46
        }
      ],
      "source": [
        "cols = [\n",
        "     'entities_jsl_ner_chunk',\n",
        "     'entities_jsl_ner_chunk_begin',\n",
        "     'entities_jsl_ner_chunk_end',\n",
        "     'entities_jsl_ner_chunk_origin_sentence',\n",
        "     'entities_jsl_ner_chunk_class',\n",
        "     'entities_jsl_ner_chunk_confidence'\n",
        "]\n",
        "df_clinical = nlp.nlu.to_pretty_df(model, note, positions=True, output_level='chunk')[cols].dropna()\n",
        "df_clinical.head(20)"
      ]
    },
    {
      "cell_type": "code",
      "execution_count": null,
      "metadata": {
        "application/vnd.databricks.v1+cell": {
          "cellMetadata": {
            "byteLimit": 2048000,
            "rowLimit": 10000
          },
          "inputWidgets": {},
          "nuid": "86d8c612-7b8e-45f3-9163-fb1b23ebb191",
          "showTitle": false,
          "title": ""
        },
        "execution": {
          "iopub.execute_input": "2024-02-15T12:26:28.498554Z",
          "iopub.status.busy": "2024-02-15T12:26:28.497992Z",
          "iopub.status.idle": "2024-02-15T12:26:28.501730Z",
          "shell.execute_reply": "2024-02-15T12:26:28.501139Z",
          "shell.execute_reply.started": "2024-02-15T12:26:28.498533Z"
        },
        "tags": [],
        "id": "MPwzC6TZfaXx",
        "outputId": "7c267e68-f5c5-4f7f-eaf8-b24ff1915557"
      },
      "outputs": [
        {
          "output_type": "stream",
          "name": "stdout",
          "text": [
            "FAMILY HISTORY:\nNo family history of coronary artery disease, CVA, diabetes, CHF or MI. The patient has one family member, a sister, with history of cancer.\n"
          ]
        }
      ],
      "source": [
        "split =  sample_split_df.iloc[7,2][0]\n",
        "print (split)"
      ]
    },
    {
      "cell_type": "code",
      "execution_count": null,
      "metadata": {
        "application/vnd.databricks.v1+cell": {
          "cellMetadata": {
            "byteLimit": 2048000,
            "rowLimit": 10000
          },
          "inputWidgets": {},
          "nuid": "976e278b-58d2-4687-9f92-a084db47a81d",
          "showTitle": false,
          "title": ""
        },
        "execution": {
          "iopub.execute_input": "2024-02-15T12:26:38.215871Z",
          "iopub.status.busy": "2024-02-15T12:26:38.215533Z",
          "iopub.status.idle": "2024-02-15T12:26:40.275430Z",
          "shell.execute_reply": "2024-02-15T12:26:40.274820Z",
          "shell.execute_reply.started": "2024-02-15T12:26:38.215852Z"
        },
        "tags": [],
        "id": "xdDwZg6TfaXx",
        "outputId": "03a8891b-3abe-4347-e632-3545d372f76e"
      },
      "outputs": [
        {
          "output_type": "stream",
          "name": "stdout",
          "text": [
            "Warning::Spark Session already created, some configs may not take.\nWarning::Spark Session already created, some configs may not take.\n"
          ]
        },
        {
          "output_type": "display_data",
          "data": {
            "text/html": [
              "<div>\n",
              "<style scoped>\n",
              "    .dataframe tbody tr th:only-of-type {\n",
              "        vertical-align: middle;\n",
              "    }\n",
              "\n",
              "    .dataframe tbody tr th {\n",
              "        vertical-align: top;\n",
              "    }\n",
              "\n",
              "    .dataframe thead th {\n",
              "        text-align: right;\n",
              "    }\n",
              "</style>\n",
              "<table border=\"1\" class=\"dataframe\">\n",
              "  <thead>\n",
              "    <tr style=\"text-align: right;\">\n",
              "      <th></th>\n",
              "      <th>entities_jsl_ner_chunk</th>\n",
              "      <th>entities_jsl_ner_chunk_begin</th>\n",
              "      <th>entities_jsl_ner_chunk_end</th>\n",
              "      <th>entities_jsl_ner_chunk_origin_sentence</th>\n",
              "      <th>entities_jsl_ner_chunk_class</th>\n",
              "      <th>entities_jsl_ner_chunk_confidence</th>\n",
              "    </tr>\n",
              "  </thead>\n",
              "  <tbody>\n",
              "    <tr>\n",
              "      <th>0</th>\n",
              "      <td>FAMILY HISTORY</td>\n",
              "      <td>0</td>\n",
              "      <td>13</td>\n",
              "      <td>0</td>\n",
              "      <td>Family_History_Header</td>\n",
              "      <td>0.9994</td>\n",
              "    </tr>\n",
              "    <tr>\n",
              "      <th>0</th>\n",
              "      <td>coronary artery disease</td>\n",
              "      <td>37</td>\n",
              "      <td>59</td>\n",
              "      <td>0</td>\n",
              "      <td>Heart_Disease</td>\n",
              "      <td>0.65173334</td>\n",
              "    </tr>\n",
              "    <tr>\n",
              "      <th>0</th>\n",
              "      <td>CVA</td>\n",
              "      <td>62</td>\n",
              "      <td>64</td>\n",
              "      <td>0</td>\n",
              "      <td>Cerebrovascular_Disease</td>\n",
              "      <td>0.9995</td>\n",
              "    </tr>\n",
              "    <tr>\n",
              "      <th>0</th>\n",
              "      <td>diabetes</td>\n",
              "      <td>67</td>\n",
              "      <td>74</td>\n",
              "      <td>0</td>\n",
              "      <td>Diabetes</td>\n",
              "      <td>0.9939</td>\n",
              "    </tr>\n",
              "    <tr>\n",
              "      <th>0</th>\n",
              "      <td>CHF</td>\n",
              "      <td>77</td>\n",
              "      <td>79</td>\n",
              "      <td>0</td>\n",
              "      <td>Heart_Disease</td>\n",
              "      <td>0.9964</td>\n",
              "    </tr>\n",
              "    <tr>\n",
              "      <th>0</th>\n",
              "      <td>MI</td>\n",
              "      <td>84</td>\n",
              "      <td>85</td>\n",
              "      <td>0</td>\n",
              "      <td>Heart_Disease</td>\n",
              "      <td>0.9861</td>\n",
              "    </tr>\n",
              "    <tr>\n",
              "      <th>0</th>\n",
              "      <td>sister</td>\n",
              "      <td>125</td>\n",
              "      <td>130</td>\n",
              "      <td>1</td>\n",
              "      <td>Gender</td>\n",
              "      <td>0.9577</td>\n",
              "    </tr>\n",
              "    <tr>\n",
              "      <th>0</th>\n",
              "      <td>cancer</td>\n",
              "      <td>149</td>\n",
              "      <td>154</td>\n",
              "      <td>1</td>\n",
              "      <td>Oncological</td>\n",
              "      <td>0.9815</td>\n",
              "    </tr>\n",
              "  </tbody>\n",
              "</table>\n",
              "</div>"
            ]
          },
          "metadata": {
            "application/vnd.databricks.v1+output": {
              "addedWidgets": {},
              "arguments": {},
              "data": "<div>\n<style scoped>\n    .dataframe tbody tr th:only-of-type {\n        vertical-align: middle;\n    }\n\n    .dataframe tbody tr th {\n        vertical-align: top;\n    }\n\n    .dataframe thead th {\n        text-align: right;\n    }\n</style>\n<table border=\"1\" class=\"dataframe\">\n  <thead>\n    <tr style=\"text-align: right;\">\n      <th></th>\n      <th>entities_jsl_ner_chunk</th>\n      <th>entities_jsl_ner_chunk_begin</th>\n      <th>entities_jsl_ner_chunk_end</th>\n      <th>entities_jsl_ner_chunk_origin_sentence</th>\n      <th>entities_jsl_ner_chunk_class</th>\n      <th>entities_jsl_ner_chunk_confidence</th>\n    </tr>\n  </thead>\n  <tbody>\n    <tr>\n      <th>0</th>\n      <td>FAMILY HISTORY</td>\n      <td>0</td>\n      <td>13</td>\n      <td>0</td>\n      <td>Family_History_Header</td>\n      <td>0.9994</td>\n    </tr>\n    <tr>\n      <th>0</th>\n      <td>coronary artery disease</td>\n      <td>37</td>\n      <td>59</td>\n      <td>0</td>\n      <td>Heart_Disease</td>\n      <td>0.65173334</td>\n    </tr>\n    <tr>\n      <th>0</th>\n      <td>CVA</td>\n      <td>62</td>\n      <td>64</td>\n      <td>0</td>\n      <td>Cerebrovascular_Disease</td>\n      <td>0.9995</td>\n    </tr>\n    <tr>\n      <th>0</th>\n      <td>diabetes</td>\n      <td>67</td>\n      <td>74</td>\n      <td>0</td>\n      <td>Diabetes</td>\n      <td>0.9939</td>\n    </tr>\n    <tr>\n      <th>0</th>\n      <td>CHF</td>\n      <td>77</td>\n      <td>79</td>\n      <td>0</td>\n      <td>Heart_Disease</td>\n      <td>0.9964</td>\n    </tr>\n    <tr>\n      <th>0</th>\n      <td>MI</td>\n      <td>84</td>\n      <td>85</td>\n      <td>0</td>\n      <td>Heart_Disease</td>\n      <td>0.9861</td>\n    </tr>\n    <tr>\n      <th>0</th>\n      <td>sister</td>\n      <td>125</td>\n      <td>130</td>\n      <td>1</td>\n      <td>Gender</td>\n      <td>0.9577</td>\n    </tr>\n    <tr>\n      <th>0</th>\n      <td>cancer</td>\n      <td>149</td>\n      <td>154</td>\n      <td>1</td>\n      <td>Oncological</td>\n      <td>0.9815</td>\n    </tr>\n  </tbody>\n</table>\n</div>",
              "datasetInfos": [],
              "metadata": {},
              "removedWidgets": [],
              "textData": null,
              "type": "htmlSandbox"
            }
          }
        }
      ],
      "source": [
        "\n",
        "df_clinical = nlp.nlu.to_pretty_df(model, split, positions=True, output_level='chunk')[cols].dropna()\n",
        "df_clinical.head(20)"
      ]
    },
    {
      "cell_type": "code",
      "execution_count": 81,
      "metadata": {
        "application/vnd.databricks.v1+cell": {
          "cellMetadata": {
            "byteLimit": 2048000,
            "rowLimit": 10000
          },
          "inputWidgets": {},
          "nuid": "8b6bf71d-3204-49ab-bd0c-0f543b439e7c",
          "showTitle": false,
          "title": ""
        },
        "id": "J46K3Z7NfaXx",
        "outputId": "1e76c340-a3ce-4ceb-fe6b-95e1d5184750",
        "colab": {
          "base_uri": "https://localhost:8080/"
        }
      },
      "outputs": [
        {
          "output_type": "stream",
          "name": "stdout",
          "text": [
            "PAST MEDICAL HISTORY\n",
            "1. Pericardectomy.\n",
            "2. Pericarditis.\n",
            "2. Atrial fibrillation.\n",
            "4. RNCA with intracranial thrombolytic treatment.\n",
            "5 PTA of MCA.\n",
            "6. Mesenteric venous thrombosis.\n",
            "7. Pericardial window.\n",
            "8. Cholecystectomy.\n",
            "9. Left thoracentesis.\n"
          ]
        }
      ],
      "source": [
        "split =  sample_split_df.iloc[5,2][0]\n",
        "print (split)"
      ]
    },
    {
      "cell_type": "code",
      "execution_count": 82,
      "metadata": {
        "application/vnd.databricks.v1+cell": {
          "cellMetadata": {
            "byteLimit": 2048000,
            "rowLimit": 10000
          },
          "inputWidgets": {},
          "nuid": "9c34f94f-c715-428b-919b-e04ca37909f6",
          "showTitle": false,
          "title": ""
        },
        "id": "H_ILAdA0faXx"
      },
      "outputs": [],
      "source": [
        "split_result = light_model.fullAnnotate(split)"
      ]
    },
    {
      "cell_type": "code",
      "execution_count": 83,
      "metadata": {
        "application/vnd.databricks.v1+cell": {
          "cellMetadata": {
            "byteLimit": 2048000,
            "rowLimit": 10000
          },
          "inputWidgets": {},
          "nuid": "c84271e1-eb7d-4990-b348-3d0d8ba593c1",
          "showTitle": false,
          "title": ""
        },
        "id": "ElO9thgLfaXx",
        "outputId": "2152b2bf-4c13-4223-f327-e12b2d384473",
        "colab": {
          "base_uri": "https://localhost:8080/"
        }
      },
      "outputs": [
        {
          "output_type": "execute_result",
          "data": {
            "text/plain": [
              "[Annotation(chunk, 43, 54, Pericarditis, {'chunk': '0', 'confidence': '0.9861', 'ner_source': 'clinical_ner_chunk', 'entity': 'PROBLEM', 'sentence': '2'}, []),\n",
              " Annotation(chunk, 60, 78, Atrial fibrillation, {'chunk': '1', 'confidence': '0.9803', 'ner_source': 'clinical_ner_chunk', 'entity': 'PROBLEM', 'sentence': '3'}, []),\n",
              " Annotation(chunk, 148, 175, Mesenteric venous thrombosis, {'chunk': '2', 'confidence': '0.9354334', 'ner_source': 'clinical_ner_chunk', 'entity': 'PROBLEM', 'sentence': '6'}, [])]"
            ]
          },
          "metadata": {},
          "execution_count": 83
        }
      ],
      "source": [
        "split_result[0]['clinical_ner_chunk']"
      ]
    },
    {
      "cell_type": "code",
      "execution_count": 84,
      "metadata": {
        "application/vnd.databricks.v1+cell": {
          "cellMetadata": {
            "byteLimit": 2048000,
            "rowLimit": 10000
          },
          "inputWidgets": {},
          "nuid": "9eb10ffa-071f-463e-ba88-eed3eba4824b",
          "showTitle": false,
          "title": ""
        },
        "id": "4GSI9CVcfaXy",
        "outputId": "d3b0e23c-5dc2-4d87-b744-8d4c2167e919",
        "colab": {
          "base_uri": "https://localhost:8080/"
        }
      },
      "outputs": [
        {
          "output_type": "execute_result",
          "data": {
            "text/plain": [
              "Annotation(entity, 43, 54, I31, {'chunk': '0', 'all_k_results': 'I31:::I30:::B33:::T46:::I32:::I09', 'all_k_distances': '0.0000:::4.8160:::5.9290:::6.6619:::6.9814:::7.2547', 'confidence': '0.9865', 'all_k_cosine_distances': '0.0000:::0.0393:::0.0593:::0.0724:::0.0822:::0.0868', 'all_k_resolutions': 'pericarditis:::infectious pericarditis:::viral pericarditis:::drug-induced pericarditis:::parasitic pericarditis:::rheumatic pericarditis', 'target_text': 'Pericarditis', 'all_k_aux_labels': 'no_aux_label_found:::no_aux_label_found:::no_aux_label_found:::no_aux_label_found:::no_aux_label_found:::no_aux_label_found', 'token': 'Pericarditis', 'resolved_text': 'pericarditis', 'all_k_confidences': '0.9865:::0.0080:::0.0026:::0.0013:::0.0009:::0.0007', 'distance': '0.0000', 'sentence': '2'}, [])"
            ]
          },
          "metadata": {},
          "execution_count": 84
        }
      ],
      "source": [
        "split_result[0]['icd10cm_code'][0]"
      ]
    },
    {
      "cell_type": "code",
      "execution_count": 85,
      "metadata": {
        "application/vnd.databricks.v1+cell": {
          "cellMetadata": {
            "byteLimit": 2048000,
            "rowLimit": 10000
          },
          "inputWidgets": {},
          "nuid": "24692ee0-1a5a-4c04-87c1-e170c4b01774",
          "showTitle": false,
          "title": ""
        },
        "id": "8jfCc_lLfaXy",
        "outputId": "54a55d0e-84b5-4252-d21e-d533585acbaf",
        "colab": {
          "base_uri": "https://localhost:8080/",
          "height": 35
        }
      },
      "outputs": [
        {
          "output_type": "execute_result",
          "data": {
            "text/plain": [
              "'Pericarditis'"
            ],
            "application/vnd.google.colaboratory.intrinsic+json": {
              "type": "string"
            }
          },
          "metadata": {},
          "execution_count": 85
        }
      ],
      "source": [
        "split_result[0]['icd10cm_code'][0].metadata['target_text']"
      ]
    },
    {
      "cell_type": "code",
      "execution_count": 86,
      "metadata": {
        "application/vnd.databricks.v1+cell": {
          "cellMetadata": {
            "byteLimit": 2048000,
            "rowLimit": 10000
          },
          "inputWidgets": {},
          "nuid": "f61b1c3f-2549-4584-86b3-5f169916f051",
          "showTitle": false,
          "title": ""
        },
        "id": "dky_evCxfaXy",
        "outputId": "e694b7ae-cc01-41f3-d836-c05a54071ed0",
        "colab": {
          "base_uri": "https://localhost:8080/"
        }
      },
      "outputs": [
        {
          "output_type": "execute_result",
          "data": {
            "text/plain": [
              "[('Pericarditis', 'I31', 'pericarditis', 43, 54, '0.9865'),\n",
              " ('Atrial fibrillation', 'I48', 'atrial fibrillation', 60, 78, '0.9960'),\n",
              " ('Mesenteric venous thrombosis',\n",
              "  'K55',\n",
              "  'mesenteric vein thrombosis',\n",
              "  148,\n",
              "  175,\n",
              "  '0.8964')]"
            ]
          },
          "metadata": {},
          "execution_count": 86
        }
      ],
      "source": [
        "[(x.metadata['target_text'], x.result, x.metadata['resolved_text'],x.begin, x.end, x.metadata['confidence']) for x in split_result[0]['icd10cm_code']]"
      ]
    },
    {
      "cell_type": "code",
      "execution_count": 87,
      "metadata": {
        "application/vnd.databricks.v1+cell": {
          "cellMetadata": {
            "byteLimit": 2048000,
            "rowLimit": 10000
          },
          "inputWidgets": {},
          "nuid": "e8e00fcb-c54b-49c2-a4a8-289b63fabb18",
          "showTitle": false,
          "title": ""
        },
        "id": "eyfMa3uJfaXz",
        "outputId": "bc1876bb-6cd0-49cf-d2a6-e5e81e6953ba",
        "colab": {
          "base_uri": "https://localhost:8080/"
        }
      },
      "outputs": [
        {
          "output_type": "execute_result",
          "data": {
            "text/plain": [
              "[('thrombolytic', '1243768', 'thrombin Topical Spray', 107, 118, '0.1422')]"
            ]
          },
          "metadata": {},
          "execution_count": 87
        }
      ],
      "source": [
        "[(x.metadata['target_text'], x.result, x.metadata['resolved_text'],x.begin, x.end, x.metadata['confidence']) for x in split_result[0]['rxnorm_code']]"
      ]
    },
    {
      "cell_type": "code",
      "execution_count": 88,
      "metadata": {
        "application/vnd.databricks.v1+cell": {
          "cellMetadata": {
            "byteLimit": 2048000,
            "rowLimit": 10000
          },
          "inputWidgets": {},
          "nuid": "53ff68a3-3c2e-4316-ba84-e55f88224550",
          "showTitle": false,
          "title": ""
        },
        "id": "AYOi5X5kfaXz",
        "outputId": "72f5a501-4213-4f03-f64a-24bde5344a52",
        "colab": {
          "base_uri": "https://localhost:8080/"
        }
      },
      "outputs": [
        {
          "output_type": "execute_result",
          "data": {
            "text/plain": [
              "[Annotation(labeled_dependency, 2770, 2777, anticoagulant, {'chunk': '3', '__trained__': 'Coumadin', 'relation': 'action', 'all_k_distances': '0.0:::0.0', '__distance_function__': 'levenshtein', 'confidence': '0.9415', 'all_k_resolutions': 'anticoagulant:::', 'target_text': 'Coumadin', 'ner_source': 'drugs_ner_chunk', 'ops': '0.0', 'all_relations': '', 'entity': 'Coumadin', 'resolved_text': 'anticoagulant', 'distance': '0.0', 'sentence': '53', '__relation_name__': 'action'}, []),\n",
              " Annotation(labeled_dependency, 2770, 2777, cerebrovascular accident, {'chunk': '3', '__trained__': 'Coumadin', 'relation': 'treatment', 'all_k_distances': '0.0:::0.0', '__distance_function__': 'levenshtein', 'confidence': '0.9415', 'all_k_resolutions': 'cerebrovascular accident:::pulmonary embolism:::heart attack:::af:::embolization', 'target_text': 'Coumadin', 'ner_source': 'drugs_ner_chunk', 'ops': '0.0', 'all_relations': 'pulmonary embolism:::heart attack:::af:::embolization', 'entity': 'Coumadin', 'resolved_text': 'cerebrovascular accident', 'distance': '0.0', 'sentence': '53', '__relation_name__': 'treatment'}, []),\n",
              " Annotation(labeled_dependency, 4863, 4869, anticoagulant, {'chunk': '9', '__trained__': 'heparin', 'relation': 'action', 'all_k_distances': '0.0:::0.0', '__distance_function__': 'levenshtein', 'confidence': '0.9948', 'all_k_resolutions': 'anticoagulant:::anti-inflammatory:::antiproliferative:::antithrombotic:::decongestant:::fibrinolytic:::local anesthetic:::vasoprotective', 'target_text': 'heparin', 'ner_source': 'drugs_ner_chunk', 'ops': '0.0', 'all_relations': 'anti-inflammatory:::antiproliferative:::antithrombotic:::decongestant:::fibrinolytic:::local anesthetic:::vasoprotective', 'entity': 'heparin', 'resolved_text': 'anticoagulant', 'distance': '0.0', 'sentence': '70', '__relation_name__': 'action'}, []),\n",
              " Annotation(labeled_dependency, 4863, 4869, pulmonary embolism, {'chunk': '9', '__trained__': 'heparin', 'relation': 'treatment', 'all_k_distances': '0.0:::0.0', '__distance_function__': 'levenshtein', 'confidence': '0.9948', 'all_k_resolutions': 'pulmonary embolism:::deep vein thrombosis:::thrombophlebitis', 'target_text': 'heparin', 'ner_source': 'drugs_ner_chunk', 'ops': '0.0', 'all_relations': 'deep vein thrombosis:::thrombophlebitis', 'entity': 'heparin', 'resolved_text': 'pulmonary embolism', 'distance': '0.0', 'sentence': '70', '__relation_name__': 'treatment'}, []),\n",
              " Annotation(labeled_dependency, 4917, 4922, anti-abstinence, {'chunk': '10', '__trained__': 'Zofran', 'relation': 'action', 'all_k_distances': '0.0:::0.0', '__distance_function__': 'levenshtein', 'confidence': '0.996', 'all_k_resolutions': 'anti-abstinence:::antiemetic', 'target_text': 'Zofran', 'ner_source': 'drugs_ner_chunk', 'ops': '0.0', 'all_relations': 'antiemetic', 'entity': 'Zofran', 'resolved_text': 'anti-abstinence', 'distance': '0.0', 'sentence': '71', '__relation_name__': 'action'}, []),\n",
              " Annotation(labeled_dependency, 4917, 4922, burping, {'chunk': '10', '__trained__': 'Zofran', 'relation': 'treatment', 'all_k_distances': '0.0:::0.0', '__distance_function__': 'levenshtein', 'confidence': '0.996', 'all_k_resolutions': 'burping:::morning sickness:::chemotherapy', 'target_text': 'Zofran', 'ner_source': 'drugs_ner_chunk', 'ops': '0.0', 'all_relations': 'morning sickness:::chemotherapy', 'entity': 'Zofran', 'resolved_text': 'burping', 'distance': '0.0', 'sentence': '71', '__relation_name__': 'treatment'}, []),\n",
              " Annotation(labeled_dependency, 4925, 4933, antiallergic, {'chunk': '11', '__trained__': 'Phenergan', 'relation': 'action', 'all_k_distances': '0.0:::0.0', '__distance_function__': 'levenshtein', 'confidence': '0.997', 'all_k_resolutions': 'antiallergic:::antiemetic:::antipruritics::: incl. antihistamines::: anesthetics::: etc:::hypnotic:::sedative', 'target_text': 'Phenergan', 'ner_source': 'drugs_ner_chunk', 'ops': '0.0', 'all_relations': 'antiemetic:::antipruritics::: incl. antihistamines::: anesthetics::: etc:::hypnotic:::sedative', 'entity': 'Phenergan', 'resolved_text': 'antiallergic', 'distance': '0.0', 'sentence': '71', '__relation_name__': 'action'}, []),\n",
              " Annotation(labeled_dependency, 4925, 4933, anaphylaxis, {'chunk': '11', '__trained__': 'Phenergan', 'relation': 'treatment', 'all_k_distances': '0.0:::0.0', '__distance_function__': 'levenshtein', 'confidence': '0.997', 'all_k_resolutions': 'anaphylaxis:::insomnia:::hives:::rhinitis:::hay fever', 'target_text': 'Phenergan', 'ner_source': 'drugs_ner_chunk', 'ops': '0.0', 'all_relations': 'insomnia:::hives:::rhinitis:::hay fever', 'entity': 'Phenergan', 'resolved_text': 'anaphylaxis', 'distance': '0.0', 'sentence': '71', '__relation_name__': 'treatment'}, []),\n",
              " Annotation(labeled_dependency, 4936, 4943, anticoagulant, {'chunk': '12', '__trained__': 'Coumadin', 'relation': 'action', 'all_k_distances': '0.0:::0.0', '__distance_function__': 'levenshtein', 'confidence': '0.9987', 'all_k_resolutions': 'anticoagulant:::', 'target_text': 'Coumadin', 'ner_source': 'drugs_ner_chunk', 'ops': '0.0', 'all_relations': '', 'entity': 'Coumadin', 'resolved_text': 'anticoagulant', 'distance': '0.0', 'sentence': '71', '__relation_name__': 'action'}, []),\n",
              " Annotation(labeled_dependency, 4936, 4943, cerebrovascular accident, {'chunk': '12', '__trained__': 'Coumadin', 'relation': 'treatment', 'all_k_distances': '0.0:::0.0', '__distance_function__': 'levenshtein', 'confidence': '0.9987', 'all_k_resolutions': 'cerebrovascular accident:::pulmonary embolism:::heart attack:::af:::embolization', 'target_text': 'Coumadin', 'ner_source': 'drugs_ner_chunk', 'ops': '0.0', 'all_relations': 'pulmonary embolism:::heart attack:::af:::embolization', 'entity': 'Coumadin', 'resolved_text': 'cerebrovascular accident', 'distance': '0.0', 'sentence': '71', '__relation_name__': 'treatment'}, [])]"
            ]
          },
          "metadata": {},
          "execution_count": 88
        }
      ],
      "source": [
        "[x for x in result[0]['drug_action'] if x.result!='NONE']"
      ]
    },
    {
      "cell_type": "code",
      "execution_count": 89,
      "metadata": {
        "application/vnd.databricks.v1+cell": {
          "cellMetadata": {
            "byteLimit": 2048000,
            "rowLimit": 10000
          },
          "inputWidgets": {},
          "nuid": "4fe65033-04ef-448d-b587-a73fc0923194",
          "showTitle": false,
          "title": ""
        },
        "id": "k6lWKaW7faXz",
        "outputId": "5a1895df-9906-4c78-f2f9-de3339e7b202",
        "colab": {
          "base_uri": "https://localhost:8080/"
        }
      },
      "outputs": [
        {
          "output_type": "execute_result",
          "data": {
            "text/plain": [
              "[('anticoagulant', 2770, 2777, 'Coumadin', '0.9415'),\n",
              " ('anticoagulant', 4863, 4869, 'heparin', '0.9948'),\n",
              " ('anti-abstinence', 4917, 4922, 'Zofran', '0.996'),\n",
              " ('antiallergic', 4925, 4933, 'Phenergan', '0.997'),\n",
              " ('anticoagulant', 4936, 4943, 'Coumadin', '0.9987')]"
            ]
          },
          "metadata": {},
          "execution_count": 89
        }
      ],
      "source": [
        "[(x.result, x.begin, x.end, x.metadata['entity'], x.metadata['confidence']) for x in result[0]['drug_action'] if x.result!='NONE' and x.metadata['relation']=='action']"
      ]
    },
    {
      "cell_type": "code",
      "execution_count": 90,
      "metadata": {
        "application/vnd.databricks.v1+cell": {
          "cellMetadata": {
            "byteLimit": 2048000,
            "rowLimit": 10000
          },
          "inputWidgets": {},
          "nuid": "91d14b0f-59c1-4f4c-9bf3-057f6a52dac7",
          "showTitle": false,
          "title": ""
        },
        "id": "osrQSzCLfaXz",
        "outputId": "835077ad-9519-4387-e4ce-6c02aaf2176e",
        "colab": {
          "base_uri": "https://localhost:8080/"
        }
      },
      "outputs": [
        {
          "output_type": "execute_result",
          "data": {
            "text/plain": [
              "[('cerebrovascular accident', 2770, 2777, 'Coumadin', '0.9415'),\n",
              " ('pulmonary embolism', 4863, 4869, 'heparin', '0.9948'),\n",
              " ('burping', 4917, 4922, 'Zofran', '0.996'),\n",
              " ('anaphylaxis', 4925, 4933, 'Phenergan', '0.997'),\n",
              " ('cerebrovascular accident', 4936, 4943, 'Coumadin', '0.9987')]"
            ]
          },
          "metadata": {},
          "execution_count": 90
        }
      ],
      "source": [
        "[(x.result, x.begin, x.end, x.metadata['entity'], x.metadata['confidence']) for x in result[0]['drug_action'] if x.result!='NONE' and x.metadata['relation']=='treatment']"
      ]
    },
    {
      "cell_type": "code",
      "execution_count": 114,
      "metadata": {
        "application/vnd.databricks.v1+cell": {
          "cellMetadata": {
            "byteLimit": 2048000,
            "rowLimit": 10000
          },
          "inputWidgets": {},
          "nuid": "4ca9b26f-0071-4d30-9637-b6b61bc1d37a",
          "showTitle": false,
          "title": ""
        },
        "id": "lEWPVa-XfaX0"
      },
      "outputs": [],
      "source": [
        "txt =\"A 28-year-old female with a history of type-2 diabetes mellitus diagnosed eight years ago takes paracetamol 3 times per day.\"\n",
        "\n",
        "txt_result = light_model.fullAnnotate(txt)"
      ]
    },
    {
      "cell_type": "code",
      "execution_count": 118,
      "metadata": {
        "application/vnd.databricks.v1+cell": {
          "cellMetadata": {
            "byteLimit": 2048000,
            "rowLimit": 10000
          },
          "inputWidgets": {},
          "nuid": "7e070df8-ecdf-46b4-b246-890a240987de",
          "showTitle": false,
          "title": ""
        },
        "id": "yMFjKffQfaX0",
        "outputId": "ebcf009c-3ada-4770-e912-b86636c6eacb",
        "colab": {
          "base_uri": "https://localhost:8080/"
        }
      },
      "outputs": [
        {
          "output_type": "execute_result",
          "data": {
            "text/plain": [
              "[Annotation(chunk, 96, 106, paracetamol, {'chunk': '0', 'confidence': '0.998', 'ner_source': 'drugs_ner_chunk', 'entity': 'DRUG', 'sentence': '0'}, [])]"
            ]
          },
          "metadata": {},
          "execution_count": 118
        }
      ],
      "source": [
        "txt_result[0]['drugs_ner_chunk']"
      ]
    },
    {
      "cell_type": "code",
      "execution_count": 117,
      "metadata": {
        "application/vnd.databricks.v1+cell": {
          "cellMetadata": {
            "byteLimit": 2048000,
            "rowLimit": 10000
          },
          "inputWidgets": {},
          "nuid": "bba3b0d8-c8c3-4452-ac40-154aa68222a7",
          "showTitle": false,
          "title": ""
        },
        "id": "XNgFaaKPfaX0",
        "outputId": "597b6da1-af98-405b-9010-88a1a8208530",
        "colab": {
          "base_uri": "https://localhost:8080/"
        }
      },
      "outputs": [
        {
          "output_type": "execute_result",
          "data": {
            "text/plain": [
              "[('analgesic', 96, 106, 'paracetamol', '0.998')]"
            ]
          },
          "metadata": {},
          "execution_count": 117
        }
      ],
      "source": [
        "[(x.result, x.begin, x.end, x.metadata['entity'], x.metadata['confidence']) for x in txt_result[0]['drug_action'] if x.result!='NONE' and x.metadata['relation']=='action']"
      ]
    },
    {
      "cell_type": "code",
      "source": [
        "[(x.result, x.begin, x.end, x.metadata['entity'], x.metadata['confidence']) for x in txt_result[0]['drug_action'] if x.result!='NONE' and x.metadata['relation']=='treatment']"
      ],
      "metadata": {
        "colab": {
          "base_uri": "https://localhost:8080/"
        },
        "id": "qAYvh0u7rp52",
        "outputId": "865769cb-ea8f-4465-b454-afc3dddb8468"
      },
      "execution_count": 119,
      "outputs": [
        {
          "output_type": "execute_result",
          "data": {
            "text/plain": [
              "[('arthralgia', 96, 106, 'paracetamol', '0.998')]"
            ]
          },
          "metadata": {},
          "execution_count": 119
        }
      ]
    }
  ],
  "metadata": {
    "application/vnd.databricks.v1+notebook": {
      "dashboards": [],
      "language": "python",
      "notebookMetadata": {
        "pythonIndentUnit": 2
      },
      "notebookName": "Implementing_RAG_in_Healthcare_Workshop_in_Databricks_with_JohnSnowLabs",
      "widgets": {}
    },
    "kernelspec": {
      "display_name": "Python 3",
      "name": "python3"
    },
    "language_info": {
      "codemirror_mode": {
        "name": "ipython",
        "version": 3
      },
      "file_extension": ".py",
      "mimetype": "text/x-python",
      "name": "python",
      "nbconvert_exporter": "python",
      "pygments_lexer": "ipython3",
      "version": "3.10.9"
    },
    "colab": {
      "provenance": [],
      "machine_shape": "hm"
    }
  },
  "nbformat": 4,
  "nbformat_minor": 0
}
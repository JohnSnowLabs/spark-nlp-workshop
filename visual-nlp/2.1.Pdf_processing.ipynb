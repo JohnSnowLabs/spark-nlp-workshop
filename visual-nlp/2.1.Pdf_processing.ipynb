{
 "cells": [
  {
   "cell_type": "markdown",
   "metadata": {
    "id": "17e679a0"
   },
   "source": [
    "![JohnSnowLabs](https://nlp.johnsnowlabs.com/assets/images/logo.png)"
   ],
   "id": "17e679a0"
  },
  {
   "cell_type": "markdown",
   "metadata": {
    "id": "7198ab82"
   },
   "source": [
    "[![Open In Colab](https://colab.research.google.com/assets/colab-badge.svg)](https://colab.research.google.com/github/JohnSnowLabs/spark-nlp-workshop/blob/master/visual-nlp/2.1.Pdf_processing.ipynb)"
   ],
   "id": "7198ab82"
  },
  {
   "cell_type": "markdown",
   "metadata": {
    "id": "15d54d0c"
   },
   "source": [
    "## Blogposts and videos\n",
    "\n",
    "- [Text Detection in Spark OCR](https://medium.com/spark-nlp/text-detection-in-spark-ocr-dcd8002bdc97)\n",
    "\n",
    "- [Table Detection & Extraction in Spark OCR](https://medium.com/spark-nlp/table-detection-extraction-in-spark-ocr-50765c6cedc9)\n",
    "\n",
    "- [Extract Tabular Data from PDF in Spark OCR](https://medium.com/spark-nlp/extract-tabular-data-from-pdf-in-spark-ocr-b02136bc0fcb)\n",
    "\n",
    "- [Signature Detection in Spark OCR](https://medium.com/spark-nlp/signature-detection-in-spark-ocr-32f9e6f91e3c)\n",
    "\n",
    "- [GPU image pre-processing in Spark OCR](https://medium.com/spark-nlp/gpu-image-pre-processing-in-spark-ocr-3-1-0-6fc27560a9bb)\n",
    "\n",
    "- [How to Setup Spark OCR on UBUNTU - Video](https://www.youtube.com/watch?v=cmt4WIcL0nI)\n",
    "\n",
    "\n",
    "**More examples here**\n",
    "\n",
    "https://github.com/JohnSnowLabs/spark-ocr-workshop\n",
    "\n",
    "For get the trial license please go to:\n",
    "\n",
    "https://www.johnsnowlabs.com/install/"
   ],
   "id": "15d54d0c"
  },
  {
   "cell_type": "markdown",
   "metadata": {
    "id": "b34bfed0"
   },
   "source": [
    "### Colab Setup"
   ],
   "id": "b34bfed0"
  },
  {
   "cell_type": "code",
   "execution_count": 1,
   "metadata": {
    "colab": {
     "base_uri": "https://localhost:8080/"
    },
    "executionInfo": {
     "elapsed": 54278,
     "status": "ok",
     "timestamp": 1697066536547,
     "user": {
      "displayName": "Aymane Chilah",
      "userId": "03881241080678771864"
     },
     "user_tz": -120
    },
    "id": "b205587b",
    "outputId": "90eaed4e-c97e-4336-e93e-1c2982ff50cd"
   },
   "outputs": [
    {
     "output_type": "stream",
     "name": "stdout",
     "text": [
      "\u001B[2K     \u001B[90m━━━━━━━━━━━━━━━━━━━━━━━━━━━━━━━━━━━━━━━\u001B[0m \u001B[32m106.7/106.7 kB\u001B[0m \u001B[31m1.7 MB/s\u001B[0m eta \u001B[36m0:00:00\u001B[0m\n",
      "\u001B[2K     \u001B[90m━━━━━━━━━━━━━━━━━━━━━━━━━━━━━━━━━━━━━━━\u001B[0m \u001B[32m135.8/135.8 kB\u001B[0m \u001B[31m6.4 MB/s\u001B[0m eta \u001B[36m0:00:00\u001B[0m\n",
      "\u001B[2K     \u001B[90m━━━━━━━━━━━━━━━━━━━━━━━━━━━━━━━━━━━━━━\u001B[0m \u001B[32m643.8/643.8 kB\u001B[0m \u001B[31m17.0 MB/s\u001B[0m eta \u001B[36m0:00:00\u001B[0m\n",
      "\u001B[2K     \u001B[90m━━━━━━━━━━━━━━━━━━━━━━━━━━━━━━━━━━━━━━━━\u001B[0m \u001B[32m3.1/3.1 MB\u001B[0m \u001B[31m25.1 MB/s\u001B[0m eta \u001B[36m0:00:00\u001B[0m\n",
      "\u001B[2K     \u001B[90m━━━━━━━━━━━━━━━━━━━━━━━━━━━━━━━━━━━━━━━\u001B[0m \u001B[32m212.4/212.4 MB\u001B[0m \u001B[31m4.9 MB/s\u001B[0m eta \u001B[36m0:00:00\u001B[0m\n",
      "\u001B[?25h  Preparing metadata (setup.py) ... \u001B[?25l\u001B[?25hdone\n",
      "\u001B[2K     \u001B[90m━━━━━━━━━━━━━━━━━━━━━━━━━━━━━━━━━━━━━━━━\u001B[0m \u001B[32m95.4/95.4 kB\u001B[0m \u001B[31m6.8 MB/s\u001B[0m eta \u001B[36m0:00:00\u001B[0m\n",
      "\u001B[2K     \u001B[90m━━━━━━━━━━━━━━━━━━━━━━━━━━━━━━━━━━━━━━\u001B[0m \u001B[32m531.3/531.3 kB\u001B[0m \u001B[31m24.6 MB/s\u001B[0m eta \u001B[36m0:00:00\u001B[0m\n",
      "\u001B[2K     \u001B[90m━━━━━━━━━━━━━━━━━━━━━━━━━━━━━━━━━━━━━━\u001B[0m \u001B[32m198.6/198.6 kB\u001B[0m \u001B[31m12.7 MB/s\u001B[0m eta \u001B[36m0:00:00\u001B[0m\n",
      "\u001B[2K     \u001B[90m━━━━━━━━━━━━━━━━━━━━━━━━━━━━━━━━━━━━━━━━\u001B[0m \u001B[32m66.9/66.9 kB\u001B[0m \u001B[31m6.3 MB/s\u001B[0m eta \u001B[36m0:00:00\u001B[0m\n",
      "\u001B[2K     \u001B[90m━━━━━━━━━━━━━━━━━━━━━━━━━━━━━━━━━━━━━━━━\u001B[0m \u001B[32m11.2/11.2 MB\u001B[0m \u001B[31m24.0 MB/s\u001B[0m eta \u001B[36m0:00:00\u001B[0m\n",
      "\u001B[2K     \u001B[90m━━━━━━━━━━━━━━━━━━━━━━━━━━━━━━━━━━━━━━━━\u001B[0m \u001B[32m79.8/79.8 kB\u001B[0m \u001B[31m7.3 MB/s\u001B[0m eta \u001B[36m0:00:00\u001B[0m\n",
      "\u001B[2K     \u001B[90m━━━━━━━━━━━━━━━━━━━━━━━━━━━━━━━━━━━━━━━\u001B[0m \u001B[32m150.3/150.3 kB\u001B[0m \u001B[31m8.9 MB/s\u001B[0m eta \u001B[36m0:00:00\u001B[0m\n",
      "\u001B[2K     \u001B[90m━━━━━━━━━━━━━━━━━━━━━━━━━━━━━━━━━━━━━━━━\u001B[0m \u001B[32m1.6/1.6 MB\u001B[0m \u001B[31m72.3 MB/s\u001B[0m eta \u001B[36m0:00:00\u001B[0m\n",
      "\u001B[?25h  Building wheel for pyspark (setup.py) ... \u001B[?25l\u001B[?25hdone\n"
     ]
    }
   ],
   "source": [
    "# Install the johnsnowlabs library to access Spark-OCR and Spark-NLP for Healthcare, Finance, and Legal.\n",
    "!pip install -q johnsnowlabs==5.1.6"
   ],
   "id": "b205587b"
  },
  {
   "cell_type": "code",
   "execution_count": 2,
   "metadata": {
    "colab": {
     "base_uri": "https://localhost:8080/",
     "height": 90
    },
    "executionInfo": {
     "elapsed": 46414,
     "status": "ok",
     "timestamp": 1697066582952,
     "user": {
      "displayName": "Aymane Chilah",
      "userId": "03881241080678771864"
     },
     "user_tz": -120
    },
    "id": "7d17ef6f",
    "outputId": "f62efb84-5375-40ac-9d47-169903417fab"
   },
   "outputs": [
    {
     "output_type": "stream",
     "name": "stdout",
     "text": [
      "Please Upload your John Snow Labs License using the button below\n"
     ]
    },
    {
     "output_type": "display_data",
     "data": {
      "text/plain": [
       "<IPython.core.display.HTML object>"
      ],
      "text/html": [
       "\n",
       "     <input type=\"file\" id=\"files-5e6fe090-79c0-4ce2-923a-e4ef219b2171\" name=\"files[]\" multiple disabled\n",
       "        style=\"border:none\" />\n",
       "     <output id=\"result-5e6fe090-79c0-4ce2-923a-e4ef219b2171\">\n",
       "      Upload widget is only available when the cell has been executed in the\n",
       "      current browser session. Please rerun this cell to enable.\n",
       "      </output>\n",
       "      <script>// Copyright 2017 Google LLC\n",
       "//\n",
       "// Licensed under the Apache License, Version 2.0 (the \"License\");\n",
       "// you may not use this file except in compliance with the License.\n",
       "// You may obtain a copy of the License at\n",
       "//\n",
       "//      http://www.apache.org/licenses/LICENSE-2.0\n",
       "//\n",
       "// Unless required by applicable law or agreed to in writing, software\n",
       "// distributed under the License is distributed on an \"AS IS\" BASIS,\n",
       "// WITHOUT WARRANTIES OR CONDITIONS OF ANY KIND, either express or implied.\n",
       "// See the License for the specific language governing permissions and\n",
       "// limitations under the License.\n",
       "\n",
       "/**\n",
       " * @fileoverview Helpers for google.colab Python module.\n",
       " */\n",
       "(function(scope) {\n",
       "function span(text, styleAttributes = {}) {\n",
       "  const element = document.createElement('span');\n",
       "  element.textContent = text;\n",
       "  for (const key of Object.keys(styleAttributes)) {\n",
       "    element.style[key] = styleAttributes[key];\n",
       "  }\n",
       "  return element;\n",
       "}\n",
       "\n",
       "// Max number of bytes which will be uploaded at a time.\n",
       "const MAX_PAYLOAD_SIZE = 100 * 1024;\n",
       "\n",
       "function _uploadFiles(inputId, outputId) {\n",
       "  const steps = uploadFilesStep(inputId, outputId);\n",
       "  const outputElement = document.getElementById(outputId);\n",
       "  // Cache steps on the outputElement to make it available for the next call\n",
       "  // to uploadFilesContinue from Python.\n",
       "  outputElement.steps = steps;\n",
       "\n",
       "  return _uploadFilesContinue(outputId);\n",
       "}\n",
       "\n",
       "// This is roughly an async generator (not supported in the browser yet),\n",
       "// where there are multiple asynchronous steps and the Python side is going\n",
       "// to poll for completion of each step.\n",
       "// This uses a Promise to block the python side on completion of each step,\n",
       "// then passes the result of the previous step as the input to the next step.\n",
       "function _uploadFilesContinue(outputId) {\n",
       "  const outputElement = document.getElementById(outputId);\n",
       "  const steps = outputElement.steps;\n",
       "\n",
       "  const next = steps.next(outputElement.lastPromiseValue);\n",
       "  return Promise.resolve(next.value.promise).then((value) => {\n",
       "    // Cache the last promise value to make it available to the next\n",
       "    // step of the generator.\n",
       "    outputElement.lastPromiseValue = value;\n",
       "    return next.value.response;\n",
       "  });\n",
       "}\n",
       "\n",
       "/**\n",
       " * Generator function which is called between each async step of the upload\n",
       " * process.\n",
       " * @param {string} inputId Element ID of the input file picker element.\n",
       " * @param {string} outputId Element ID of the output display.\n",
       " * @return {!Iterable<!Object>} Iterable of next steps.\n",
       " */\n",
       "function* uploadFilesStep(inputId, outputId) {\n",
       "  const inputElement = document.getElementById(inputId);\n",
       "  inputElement.disabled = false;\n",
       "\n",
       "  const outputElement = document.getElementById(outputId);\n",
       "  outputElement.innerHTML = '';\n",
       "\n",
       "  const pickedPromise = new Promise((resolve) => {\n",
       "    inputElement.addEventListener('change', (e) => {\n",
       "      resolve(e.target.files);\n",
       "    });\n",
       "  });\n",
       "\n",
       "  const cancel = document.createElement('button');\n",
       "  inputElement.parentElement.appendChild(cancel);\n",
       "  cancel.textContent = 'Cancel upload';\n",
       "  const cancelPromise = new Promise((resolve) => {\n",
       "    cancel.onclick = () => {\n",
       "      resolve(null);\n",
       "    };\n",
       "  });\n",
       "\n",
       "  // Wait for the user to pick the files.\n",
       "  const files = yield {\n",
       "    promise: Promise.race([pickedPromise, cancelPromise]),\n",
       "    response: {\n",
       "      action: 'starting',\n",
       "    }\n",
       "  };\n",
       "\n",
       "  cancel.remove();\n",
       "\n",
       "  // Disable the input element since further picks are not allowed.\n",
       "  inputElement.disabled = true;\n",
       "\n",
       "  if (!files) {\n",
       "    return {\n",
       "      response: {\n",
       "        action: 'complete',\n",
       "      }\n",
       "    };\n",
       "  }\n",
       "\n",
       "  for (const file of files) {\n",
       "    const li = document.createElement('li');\n",
       "    li.append(span(file.name, {fontWeight: 'bold'}));\n",
       "    li.append(span(\n",
       "        `(${file.type || 'n/a'}) - ${file.size} bytes, ` +\n",
       "        `last modified: ${\n",
       "            file.lastModifiedDate ? file.lastModifiedDate.toLocaleDateString() :\n",
       "                                    'n/a'} - `));\n",
       "    const percent = span('0% done');\n",
       "    li.appendChild(percent);\n",
       "\n",
       "    outputElement.appendChild(li);\n",
       "\n",
       "    const fileDataPromise = new Promise((resolve) => {\n",
       "      const reader = new FileReader();\n",
       "      reader.onload = (e) => {\n",
       "        resolve(e.target.result);\n",
       "      };\n",
       "      reader.readAsArrayBuffer(file);\n",
       "    });\n",
       "    // Wait for the data to be ready.\n",
       "    let fileData = yield {\n",
       "      promise: fileDataPromise,\n",
       "      response: {\n",
       "        action: 'continue',\n",
       "      }\n",
       "    };\n",
       "\n",
       "    // Use a chunked sending to avoid message size limits. See b/62115660.\n",
       "    let position = 0;\n",
       "    do {\n",
       "      const length = Math.min(fileData.byteLength - position, MAX_PAYLOAD_SIZE);\n",
       "      const chunk = new Uint8Array(fileData, position, length);\n",
       "      position += length;\n",
       "\n",
       "      const base64 = btoa(String.fromCharCode.apply(null, chunk));\n",
       "      yield {\n",
       "        response: {\n",
       "          action: 'append',\n",
       "          file: file.name,\n",
       "          data: base64,\n",
       "        },\n",
       "      };\n",
       "\n",
       "      let percentDone = fileData.byteLength === 0 ?\n",
       "          100 :\n",
       "          Math.round((position / fileData.byteLength) * 100);\n",
       "      percent.textContent = `${percentDone}% done`;\n",
       "\n",
       "    } while (position < fileData.byteLength);\n",
       "  }\n",
       "\n",
       "  // All done.\n",
       "  yield {\n",
       "    response: {\n",
       "      action: 'complete',\n",
       "    }\n",
       "  };\n",
       "}\n",
       "\n",
       "scope.google = scope.google || {};\n",
       "scope.google.colab = scope.google.colab || {};\n",
       "scope.google.colab._files = {\n",
       "  _uploadFiles,\n",
       "  _uploadFilesContinue,\n",
       "};\n",
       "})(self);\n",
       "</script> "
      ]
     },
     "metadata": {}
    },
    {
     "output_type": "stream",
     "name": "stdout",
     "text": [
      "Saving OCT_23_Visual_NLP.json to OCT_23_Visual_NLP.json\n"
     ]
    }
   ],
   "source": [
    "from google.colab import files\n",
    "print('Please Upload your John Snow Labs License using the button below')\n",
    "license_keys = files.upload()"
   ],
   "id": "7d17ef6f"
  },
  {
   "cell_type": "code",
   "execution_count": null,
   "metadata": {
    "id": "275ad47a"
   },
   "outputs": [],
   "source": [
    "from johnsnowlabs import nlp, visual\n",
    "\n",
    "# After uploading your license run this to install all licensed Python Wheels and pre-download Jars the Spark Session JVM\n",
    "nlp.install(refresh_install=True, visual=True)"
   ],
   "id": "275ad47a"
  },
  {
   "cell_type": "code",
   "execution_count": 4,
   "metadata": {
    "colab": {
     "base_uri": "https://localhost:8080/"
    },
    "executionInfo": {
     "elapsed": 44472,
     "status": "ok",
     "timestamp": 1697066968997,
     "user": {
      "displayName": "Aymane Chilah",
      "userId": "03881241080678771864"
     },
     "user_tz": -120
    },
    "id": "sv0rCTE2YiHW",
    "outputId": "f2082caa-a0da-41f5-d8d2-3089824cdf2c"
   },
   "outputs": [
    {
     "output_type": "stream",
     "name": "stdout",
     "text": [
      "👌 Detected license file /content/OCT_23_Visual_NLP.json\n",
      "👌 Launched \u001B[92mcpu optimized\u001B[39m session with with: 🚀Spark-NLP==5.1.1, 🕶Spark-OCR==5.0.2, running on ⚡ PySpark==3.1.2\n"
     ]
    }
   ],
   "source": [
    "from johnsnowlabs import nlp, visual\n",
    "import pandas as pd\n",
    "\n",
    "# Automatically load license data and start a session with all jars user has access to\n",
    "spark = nlp.start(visual=True)"
   ],
   "id": "sv0rCTE2YiHW"
  },
  {
   "cell_type": "code",
   "execution_count": 5,
   "metadata": {
    "executionInfo": {
     "elapsed": 3,
     "status": "ok",
     "timestamp": 1697066968997,
     "user": {
      "displayName": "Aymane Chilah",
      "userId": "03881241080678771864"
     },
     "user_tz": -120
    },
    "id": "b84cc6c0"
   },
   "outputs": [],
   "source": [
    "import pkg_resources\n",
    "\n",
    "from pyspark.ml import PipelineModel\n",
    "from pyspark.sql import functions as F"
   ],
   "id": "b84cc6c0"
  },
  {
   "cell_type": "markdown",
   "metadata": {
    "id": "a180cedc"
   },
   "source": [
    "## Read pdfs to the dataframe and display"
   ],
   "id": "a180cedc"
  },
  {
   "cell_type": "code",
   "execution_count": 6,
   "metadata": {
    "colab": {
     "base_uri": "https://localhost:8080/",
     "height": 1000,
     "output_embedded_package_id": "1FiMudUxmSD0yoTLVcp30U2MRdwyejvW6"
    },
    "id": "54537d71",
    "outputId": "9f065866-4dfd-4a90-a162-5371b1ac3fc3",
    "executionInfo": {
     "status": "ok",
     "timestamp": 1697067008784,
     "user_tz": -120,
     "elapsed": 39789,
     "user": {
      "displayName": "Aymane Chilah",
      "userId": "03881241080678771864"
     }
    }
   },
   "outputs": [
    {
     "output_type": "display_data",
     "data": {
      "text/plain": "Output hidden; open in https://colab.research.google.com to view."
     },
     "metadata": {}
    }
   ],
   "source": [
    "pdf_path = visual.pkg_resources.resource_filename('sparkocr', 'resources/ocr/pdfs/*.pdf')\n",
    "pdf_example_df = spark.read.format(\"binaryFile\").load(pdf_path).cache()\n",
    "\n",
    "visual.display_pdf(pdf_example_df)"
   ],
   "id": "54537d71"
  },
  {
   "cell_type": "markdown",
   "metadata": {
    "id": "eaa46adc"
   },
   "source": [
    "## Define pipeline for extract text from the searchable and ocr text from the scaned pdf"
   ],
   "id": "eaa46adc"
  },
  {
   "cell_type": "code",
   "execution_count": 7,
   "metadata": {
    "id": "ea904484",
    "executionInfo": {
     "status": "ok",
     "timestamp": 1697067008784,
     "user_tz": -120,
     "elapsed": 4,
     "user": {
      "displayName": "Aymane Chilah",
      "userId": "03881241080678771864"
     }
    }
   },
   "outputs": [],
   "source": [
    "def pipeline():\n",
    "\n",
    "    # If text PDF extract text\n",
    "    pdf_to_text = visual.PdfToText() \\\n",
    "        .setInputCol(\"content\") \\\n",
    "        .setOutputCol(\"text\") \\\n",
    "        .setSplitPage(True) \\\n",
    "        .setExtractCoordinates(True) \\\n",
    "        .setStoreSplittedPdf(True)\n",
    "\n",
    "    # If image pdf, extract image\n",
    "    pdf_to_image = visual.PdfToImage() \\\n",
    "        .setInputCol(\"content\") \\\n",
    "        .setOutputCol(\"image\") \\\n",
    "        .setKeepInput(True)\n",
    "\n",
    "    # Run OCR\n",
    "    ocr = visual.ImageToText() \\\n",
    "        .setInputCol(\"image\") \\\n",
    "        .setOutputCol(\"text\") \\\n",
    "        .setConfidenceThreshold(60)\n",
    "\n",
    "    pipeline = PipelineModel(stages=[\n",
    "        pdf_to_text,\n",
    "        pdf_to_image,\n",
    "        ocr\n",
    "    ])\n",
    "\n",
    "    return pipeline"
   ],
   "id": "ea904484"
  },
  {
   "cell_type": "markdown",
   "metadata": {
    "id": "9192a46a"
   },
   "source": [
    "## Run pipeline and show results"
   ],
   "id": "9192a46a"
  },
  {
   "cell_type": "code",
   "execution_count": 8,
   "metadata": {
    "colab": {
     "base_uri": "https://localhost:8080/"
    },
    "executionInfo": {
     "elapsed": 43349,
     "status": "ok",
     "timestamp": 1697067052130,
     "user": {
      "displayName": "Aymane Chilah",
      "userId": "03881241080678771864"
     },
     "user_tz": -120
    },
    "id": "46104a60",
    "outputId": "18eeab59-1786-4dcd-b074-2bfa6e2b9f3c"
   },
   "outputs": [
    {
     "output_type": "stream",
     "name": "stdout",
     "text": [
      "+--------------------+--------------------+------+--------------------+--------------------+----------------+---------------+--------------------+--------------------+-----------+-------+-----------+--------------------+---------+\n",
      "|                path|    modificationTime|length|                text|           positions|height_dimension|width_dimension|             content|               image|total_pages|pagenum|documentnum|          confidence|exception|\n",
      "+--------------------+--------------------+------+--------------------+--------------------+----------------+---------------+--------------------+--------------------+-----------+-------+-----------+--------------------+---------+\n",
      "|file:/usr/local/l...|2023-10-11 23:27:...| 70556|Alexandria is the...|[{[{A, 72.024, 76...|             792|            612|[25 50 44 46 2D 3...|                null|          0|      0|          0|-1.79769313486231...|     null|\n",
      "|file:/usr/local/l...|2023-10-11 23:27:...|693743|Patient Nam\n",
      "Finan...|[{[{Patient Nam\n",
      "F...|            1587|           1205|[25 50 44 46 2D 3...|{file:/usr/local/...|          1|      0|          0|    84.6904648674859|     null|\n",
      "|file:/usr/local/l...|2023-10-11 23:27:...| 11601|8 i , . ! \n",
      "9 i , ...|[{[{8, 72.060455,...|             843|            596|[25 50 44 46 2D 3...|                null|          0|      0|          0|-1.79769313486231...|     null|\n",
      "|file:/usr/local/l...|2023-10-11 23:27:...| 70556|Alexandria was fo...|[{[{A, 72.024, 76...|             792|            612|[25 50 44 46 2D 3...|                null|          0|      0|          0|-1.79769313486231...|     null|\n",
      "|file:/usr/local/l...|2023-10-11 23:27:...|693743|Patient Name\n",
      "Fina...|[{[{Patient Name\n",
      "...|            1583|           1217|[25 50 44 46 2D 3...|{file:/usr/local/...|          1|      0|          0|   83.06709993802585|     null|\n",
      "+--------------------+--------------------+------+--------------------+--------------------+----------------+---------------+--------------------+--------------------+-----------+-------+-----------+--------------------+---------+\n"
     ]
    }
   ],
   "source": [
    "result = pipeline().transform(pdf_example_df).cache()\n",
    "result.show()"
   ],
   "id": "46104a60"
  },
  {
   "cell_type": "markdown",
   "metadata": {
    "id": "8fc51045"
   },
   "source": [
    "## Display text using pandas dataframe"
   ],
   "id": "8fc51045"
  },
  {
   "cell_type": "code",
   "execution_count": 9,
   "metadata": {
    "colab": {
     "base_uri": "https://localhost:8080/",
     "height": 1000
    },
    "executionInfo": {
     "elapsed": 453,
     "status": "ok",
     "timestamp": 1697067052581,
     "user": {
      "displayName": "Aymane Chilah",
      "userId": "03881241080678771864"
     },
     "user_tz": -120
    },
    "id": "b31d6ff5",
    "outputId": "e6f32723-c808-415f-dcf3-7587d74bd083"
   },
   "outputs": [
    {
     "output_type": "execute_result",
     "data": {
      "text/plain": [
       "<pandas.io.formats.style.Styler at 0x78a5b1bbfc10>"
      ],
      "text/html": [
       "<style type=\"text/css\">\n",
       "#T_cc4d2_row0_col0, #T_cc4d2_row1_col0, #T_cc4d2_row2_col0, #T_cc4d2_row3_col0, #T_cc4d2_row4_col0 {\n",
       "  white-space: pre-wrap;\n",
       "  text-align: left;\n",
       "}\n",
       "</style>\n",
       "<table id=\"T_cc4d2\" class=\"dataframe\">\n",
       "  <thead>\n",
       "    <tr>\n",
       "      <th class=\"blank level0\" >&nbsp;</th>\n",
       "      <th id=\"T_cc4d2_level0_col0\" class=\"col_heading level0 col0\" >text</th>\n",
       "    </tr>\n",
       "  </thead>\n",
       "  <tbody>\n",
       "    <tr>\n",
       "      <th id=\"T_cc4d2_level0_row0\" class=\"row_heading level0 row0\" >0</th>\n",
       "      <td id=\"T_cc4d2_row0_col0\" class=\"data row0 col0\" >Alexandria is the second-largest city in Egypt and a major economic centre, extending about 32 km (20 \n",
       "mi) along the coast of the Mediterranean Sea in the north central part of the country.  \n",
       " \n",
       " \n",
       "Its low elevation on the Nile delta makes it highly vulnerable to rising sea levels. Alexandria is an \n",
       "important industrial center because of its natural gas and oil pipelines from Suez. Alexandria is also a \n",
       "popular tourist destination. \n",
       " \n",
       " \n",
       " \n",
       " \n",
       " \n",
       " \n",
       " \n",
       " \n",
       " \n",
       " \n",
       " \n",
       " \n",
       " \n",
       " \n",
       " \n",
       " \n",
       " \n",
       " \n",
       " \n",
       " \n",
       " \n",
       " \n",
       "</td>\n",
       "    </tr>\n",
       "    <tr>\n",
       "      <th id=\"T_cc4d2_level0_row1\" class=\"row_heading level0 row1\" >1</th>\n",
       "      <td id=\"T_cc4d2_row1_col0\" class=\"data row1 col0\" >Patient Nam\n",
       "Financial Numbe\n",
       "\n",
       "Random Hospital Date of Birth\n",
       "\n",
       "Patient Location\n",
       "\n",
       "  \n",
       "   \n",
       "\n",
       " \n",
       "\n",
       " \n",
       "\n",
       " \n",
       "\n",
       "Chief Complaint\n",
       "Shortness of breath\n",
       "\n",
       "History of Present Illness\n",
       "\n",
       " \n",
       "\n",
       "Patient is an 84-year-old male wilh a past medical history of hypertension, HFpEF last\n",
       "known EF 55%, mild to moderate TA, pulmonary hypertension, permanent atrial\n",
       "fibrillation on Eliquis, history of GI blesd, CK-IM8, and anemia who presents with full weeks\n",
       "oi ccncralized fatigue and fecling unwell. He also notes some shortness oi Breath and\n",
       "worsening dyspnea willy minimal exerlion. His major complaints are shoulder and joint\n",
       "pains. diffusely. He also complains of \"bone pain’. He denics having any fevers or crills.\n",
       "\n",
       "e demes having any chest pain, palpitalicns, He denies any worse extremity\n",
       "swelling than his baseline. He states he’s been compliant with his mcdications. Although\n",
       "he stales he ran out of his Eliquis @ few weeks ago. He denies having any blood in his\n",
       "Stools or mc!ena, although he does take iron pills and states his stools arc irequently black.\n",
       "His hemoglobin is al baseline.\n",
       "\n",
       "Twelve-lead EKG showing atrial fibrillation, RBBB, LAFB, PVC. Chest x-ray showing new\n",
       "small right creater than left pleural effusions with mild pulmonary vascular congestion. BNP\n",
       "increased to 2800, up fram 1900. Tropoain 0.03. Renal function at baseline. Hemoaglapin\n",
       "at baseline.\n",
       "\n",
       "She normally takes 80 mq of oral Lasix daily. He was given 80 mg of IV Lasix in the ED.\n",
       "He is currently net negative close to 1 L. He is still on 2 L nasal cannula.\n",
       "\n",
       "! Ss 5\n",
       "A 10 system roview af systems was completed and negative except as documented in HPI.\n",
       "\n",
       "Physical Exam\n",
       "\n",
       " \n",
       "\n",
       "Vitals & Measurements\n",
       "T: 36.8 °C (Oral) TMIN: 36.8 \"C (Oral) TMAX: 37.0 °C {Oral} HR: 54 RR: 7\n",
       "BP: 140/63 WT: 100.3 KG\n",
       "Pulse Ox: 100 % Oxygen: 2 Limin via Nasal Cannula\n",
       "GENERAL: no acute distress\n",
       "HEAD: normecephalic\n",
       "EYES‘EARS/‘NOSE/THAOAT: nupils are equal. normal oropharynx\n",
       "NECK: normal inspection\n",
       "RESPIRATORY: no respiratory distress, no rales on my exam\n",
       "CARDIOVASCULAR: irregular. brady. no murmurs, rubs or galleps\n",
       "ABDOMEN: soft, non-tendes\n",
       "EXTREMITIES: Bilateral chronic venous stasis changes\n",
       "NEUROLOGIC: alert and osieniec x 3. no gross motar or sensory deaficils\n",
       "\n",
       " \n",
       "\n",
       "Acute on chronic diastolic CHF (congestive heart failure)\n",
       "Acute on chronic diastolic heart failure exacerbation. Small pleural effusions dilaterally\n",
       "\n",
       "with mild pulmonary vascular congesiion on chest x-ray, slight elevation in BNR. We'll\n",
       "continue 1 more day af IV diuresis with &0 mg IV Lasix. He may have had a viral infection\n",
       "which precipilated this. We'll add Tylenol jor his joint paias. Continue atenclof and\n",
       "chiorthalidone.\n",
       "\n",
       "AF - Atrial fibrillation\n",
       "Permanent atrial fibrillation. Rates bradycardic in the &0s. Continue atenolol with hola\n",
       "\n",
       "parameters. Coniinue Eliquis for stroke prevention. No evidence oj bleeding, hemog'abin\n",
       "at baseline.\n",
       "\n",
       " \n",
       "\n",
       "Printed: 7/17/2017 13:07 EDT Page 16 of 42\n",
       "\n",
       " \n",
       "\n",
       "Arincitis\n",
       "\n",
       "CHF - Congestive heart failure\n",
       "\n",
       "Chronic kidney disease\n",
       "\n",
       "Chronic venous insufficiency\n",
       "\n",
       "Edema\n",
       "\n",
       "GI bleeding\n",
       "\n",
       "Glaucoma\n",
       "\n",
       "Goul\n",
       "\n",
       "Hypertension\n",
       "\n",
       "Peptic ulcer\n",
       "\n",
       "Peripheral ncuropathy\n",
       "\n",
       "Peripheral vascular disease\n",
       "\n",
       "Pulmonary hypertension\n",
       "\n",
       "Tricuspid regurgitation\n",
       "Historical\n",
       "\n",
       "No qualifying data\n",
       "\n",
       "Procedure/Surgical History\n",
       "\n",
       "duodenal resection, duodenojcjunostomy.\n",
       "small bowel enterolomy, removal of foreign\n",
       "object and repair oj enterotomy (05/2 1/20 14),\n",
       "colonoscopy (12/10/2013), egd (1209/2013),\n",
       "H/O endoscopy (07/2013), H’O colonoscopy\n",
       "(03/2013), pilonidal cyst removal at base of\n",
       "spine (1981), laser eye surgery ior glaucoma.\n",
       "lesions on small intestine closed up.\n",
       "\n",
       " \n",
       "\n",
       "Home Medications\n",
       "Home\n",
       "\n",
       "allopurinol 300 mg oral tablet, 300 MG= 1\n",
       "TAB, PO. Daily\n",
       "\n",
       "atenolol 25 mg oral iablel, 25 MG= 1 TAB,\n",
       "PO, Daily\n",
       "\n",
       "chtorthalidone 25 mg oral tablet, 25 MG=\n",
       "1 TAB, PO, MiWOF\n",
       "\n",
       "Combigan 0.2%-0.5% ophthalmic\n",
       "solution, 1 DROP, Both Eyes, Q12H\n",
       "\n",
       "Eliquis 5 mg oral lablet, 5 MG= 1 TAB,\n",
       "PO, BID\n",
       "\n",
       "lerrous sulfate 925 mg (65 nig elemental\n",
       "iron) oral tablet, 325 MG= 1 TAB, PO,\n",
       "\n",
       " \n",
       "\n",
       "Daily\n",
       "Lasix 80 mg oral tabic:. 80 MG= | TAB.\n",
       "PO, BID\n",
       "\n",
       "omeprazole 20 mg oral delayed scicasc\n",
       "capsule, 20 MG= 1 CAP, PO, BID\n",
       "\n",
       "Percocei 5/325 oral tablet. | TAB, PO.\n",
       "QAM\n",
       "\n",
       "potassium chloride 20 mEq oral tablet,\n",
       "extended release, 20 MEQO= 1 TAB, PO,\n",
       "Daily\n",
       "\n",
       "serlraline 50 mg oral tablet, 75 MG= 1,5\n",
       "TAB, PQ. Daiiy\n",
       "\n",
       "triamcinolone 0.71% lopical cream, 1 APP,\n",
       "Topical, Daily\n",
       "\n",
       "lriamcmolone 0.1% lopical ominient, 1\n",
       "APP. Topical, Daily\n",
       "\n",
       "PowerChart\n",
       "</td>\n",
       "    </tr>\n",
       "    <tr>\n",
       "      <th id=\"T_cc4d2_level0_row2\" class=\"row_heading level0 row2\" >2</th>\n",
       "      <td id=\"T_cc4d2_row2_col0\" class=\"data row2 col0\" >8 i , . ! \n",
       "9 i , . ! \n",
       "10 i , . ! \n",
       "11 i , . ! \n",
       "12 i , . ! \n",
       "13 i , . ! \n",
       "14 i , . ! \n",
       " \n",
       "</td>\n",
       "    </tr>\n",
       "    <tr>\n",
       "      <th id=\"T_cc4d2_level0_row3\" class=\"row_heading level0 row3\" >3</th>\n",
       "      <td id=\"T_cc4d2_row3_col0\" class=\"data row3 col0\" >Alexandria was founded around a small, ancient Egyptian town c. 332 BC by Alexander the Great,[4] king \n",
       "of Macedon and leader of the Greek League of Corinth, during his conquest of the Achaemenid Empire. \n",
       "Alexandria became an important center of Hellenistic civilization and remained the capital of Ptolemaic \n",
       "Egypt and Roman and Byzantine Egypt for almost 1,000 years, until the Muslim conquest of Egypt in AD \n",
       "641, when a new capital was founded at Fustat (later absorbed into Cairo).  \n",
       " \n",
       "Hellenistic Alexandria was best known for the Lighthouse of Alexandria (Pharos), one of the Seven \n",
       "Wonders of the Ancient World; its Great Library (the largest in the ancient world); and the Necropolis, \n",
       "one of the Seven Wonders of the Middle Ages. Alexandria was at one time the second most powerful \n",
       "city of the ancient Mediterranean region, after Rome. Ongoing maritime archaeology in the harbor of \n",
       "Alexandria, which began in 1994, is revealing details of Alexandria both before the arrival of Alexander, \n",
       "when a city named Rhacotis existed there, and during the Ptolemaic dynasty. \n",
       "</td>\n",
       "    </tr>\n",
       "    <tr>\n",
       "      <th id=\"T_cc4d2_level0_row4\" class=\"row_heading level0 row4\" >4</th>\n",
       "      <td id=\"T_cc4d2_row4_col0\" class=\"data row4 col0\" >Patient Name\n",
       "Financial Number\n",
       "Date of Girth\n",
       "Patient Location\n",
       "\n",
       "Random Hospital\n",
       "\n",
       " \n",
       "\n",
       " \n",
       "\n",
       " \n",
       "\n",
       "H & P\n",
       "Anemia Vitamin D2 $0,000 intl units (1.25 ma) oral\n",
       "ALDASeIne capsule, 1 TAS, PO, V/eexly-Tue\n",
       "Arthritis\n",
       "Allergies\n",
       "\n",
       "Tylenol for pain. Patient also takes Percocet al home, will add this on.\n",
       "Chronic kidney disease\n",
       "AY baseline. Monitor while divresing.\n",
       "Hypertension\n",
       "Blood pressures within tolerable ranges.\n",
       "Pulmonary hypertension\n",
       "Tricuspid regurgitation\n",
       "ild-to-moderaie on echocardiogram last year\n",
       "\n",
       "sholliish (cout)\n",
       "sulfa drug (maculopapular rash)\n",
       "\n",
       " \n",
       "\n",
       "Social History\n",
       "\n",
       "Ever Smoked tobacco: Former Smoker\n",
       "Alcohol use - frequency; None\n",
       "\n",
       "Drug use: Never\n",
       "\n",
       "Lab Results\n",
       "07/10/77 05:30 to O7/16/17 05:30\n",
       "\n",
       " \n",
       "\n",
       "Attending physician note-the patient was interviewed and examined. The appropriatc\n",
       "information in power chart was reviewed. The patient was discussed wilh Dr, Persad. 143 1L 981H 26?\n",
       "Patient may have @ mild degree oj heart failure. He and his wife were morc concernee with a\n",
       "Ins peripheral edema. He has underlying renal insufficiency as well. We'll try to diurese\n",
       "him to his “dry\" weight. We will then try to adjust his medications to kcep him within a\n",
       "narrow range of [hat weight. We will stop his atenolol this point since he is relatively\n",
       "bradycardic anc observe his heart rate onthe cardiac monitor. He will progress with his\n",
       "care and aclivily as tolerated.\n",
       "\n",
       "102\n",
       "\n",
       "07/16/17 05:30 to O7/ 16/17 05:30\n",
       "\n",
       "fL 32.4 \\\n",
       "\n",
       "Printed: 7/1\n",
       "\n",
       "7/2017 13:01 EDT\n",
       "\n",
       "Page 17 of 42\n",
       "\n",
       "BMP\n",
       "\n",
       "GLU\n",
       "\n",
       "NA\n",
       "\n",
       "K\n",
       "\n",
       "CL\n",
       "\n",
       "TOTAL COZ\n",
       "BUN\n",
       "\n",
       "CRT\n",
       "\n",
       "ANION GAP\n",
       "CA\n",
       "\n",
       "CBC with diff\n",
       "\n",
       "WBC\n",
       "HGB\n",
       "HCT\n",
       "RBC\n",
       "MCV\n",
       "MICH\n",
       "MCHC\n",
       "RDW\n",
       "MPV\n",
       "\n",
       "07/16/17\n",
       "05:30\n",
       "\n",
       "102 mg/dL\n",
       "143 MMOL/L\n",
       "3.6 MMOL/L\n",
       "98 MMOL/L\n",
       "40 MMOL/L\n",
       "26 mg/dL.\n",
       "1.23 mg/dL\n",
       "5\n",
       "\n",
       "7.9maQ/dL\n",
       "07/16/17\n",
       "05:30\n",
       "\n",
       "3.4/ nl\n",
       "\n",
       "10.1 G/DL\n",
       "32.4 “Yo\n",
       "\n",
       "3.41 /PL\n",
       "95.0 FL\n",
       "29.6 pg\n",
       "31.2 %\n",
       "\n",
       "15,9 %o\n",
       "\n",
       "10.7 FL\n",
       "\n",
       "PowerChart\n",
       "</td>\n",
       "    </tr>\n",
       "  </tbody>\n",
       "</table>\n"
      ]
     },
     "metadata": {},
     "execution_count": 9
    }
   ],
   "source": [
    "import pandas as pd\n",
    "pd.set_option('display.max_colwidth', None)\n",
    "\n",
    "result.select(\"text\").toPandas().style.set_properties(**{'white-space': 'pre-wrap', 'text-align': 'left'})"
   ],
   "id": "b31d6ff5"
  },
  {
   "cell_type": "code",
   "source": [],
   "metadata": {
    "id": "umw4OhBdEm3d"
   },
   "id": "umw4OhBdEm3d",
   "execution_count": null,
   "outputs": []
  }
 ],
 "metadata": {
  "colab": {
   "provenance": [
    {
     "file_id": "https://github.com/JohnSnowLabs/spark-nlp-workshop/blob/master/visual-nlp/2.1.Pdf_processing.ipynb",
     "timestamp": 1689847168170
    }
   ],
   "toc_visible": true
  },
  "kernelspec": {
   "display_name": "Python 3 (ipykernel)",
   "language": "python",
   "name": "python3"
  },
  "language_info": {
   "codemirror_mode": {
    "name": "ipython",
    "version": 3
   },
   "file_extension": ".py",
   "mimetype": "text/x-python",
   "name": "python",
   "nbconvert_exporter": "python",
   "pygments_lexer": "ipython3",
   "version": "3.7.5"
  }
 },
 "nbformat": 4,
 "nbformat_minor": 5
}

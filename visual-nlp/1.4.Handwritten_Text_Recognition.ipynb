{
 "cells": [
  {
   "cell_type": "markdown",
   "id": "045e5ed6",
   "metadata": {
    "id": "045e5ed6"
   },
   "source": [
    "![JohnSnowLabs](https://nlp.johnsnowlabs.com/assets/images/logo.png)"
   ]
  },
  {
   "cell_type": "markdown",
   "id": "99f38be6",
   "metadata": {
    "id": "99f38be6"
   },
   "source": [
    "[![Open In Colab](https://colab.research.google.com/assets/colab-badge.svg)](https://colab.research.google.com/github/JohnSnowLabs/spark-nlp-workshop/blob/master/visual-nlp/1.4.Handwritten_Text_Recognition.ipynb)"
   ]
  },
  {
   "cell_type": "markdown",
   "id": "3795dc3e",
   "metadata": {
    "id": "3795dc3e"
   },
   "source": [
    "## Blogposts and videos\n",
    "\n",
    "- [Text Detection in Spark OCR](https://medium.com/spark-nlp/text-detection-in-spark-ocr-dcd8002bdc97)\n",
    "\n",
    "- [Table Detection & Extraction in Spark OCR](https://medium.com/spark-nlp/table-detection-extraction-in-spark-ocr-50765c6cedc9)\n",
    "\n",
    "- [Extract Tabular Data from PDF in Spark OCR](https://medium.com/spark-nlp/extract-tabular-data-from-pdf-in-spark-ocr-b02136bc0fcb)\n",
    "\n",
    "- [Signature Detection in Spark OCR](https://medium.com/spark-nlp/signature-detection-in-spark-ocr-32f9e6f91e3c)\n",
    "\n",
    "- [GPU image pre-processing in Spark OCR](https://medium.com/spark-nlp/gpu-image-pre-processing-in-spark-ocr-3-1-0-6fc27560a9bb)\n",
    "\n",
    "- [How to Setup Spark OCR on UBUNTU - Video](https://www.youtube.com/watch?v=cmt4WIcL0nI)\n",
    "\n",
    "\n",
    "**More examples here**\n",
    "\n",
    "https://github.com/JohnSnowLabs/spark-ocr-workshop\n",
    "\n",
    "For get the trial license please go to:\n",
    "\n",
    "https://www.johnsnowlabs.com/install/\n",
    "\n",
    "Please choose GPU runtime"
   ]
  },
  {
   "cell_type": "markdown",
   "id": "a7584f75",
   "metadata": {
    "id": "a7584f75"
   },
   "source": [
    "### Colab Setup"
   ]
  },
  {
   "cell_type": "code",
   "execution_count": 1,
   "id": "1832d8bc",
   "metadata": {
    "id": "1832d8bc",
    "colab": {
     "base_uri": "https://localhost:8080/"
    },
    "executionInfo": {
     "status": "ok",
     "timestamp": 1697064683806,
     "user_tz": -120,
     "elapsed": 49658,
     "user": {
      "displayName": "Aymane Chilah",
      "userId": "03881241080678771864"
     }
    },
    "outputId": "a2467a65-0456-484f-edf6-c566c80a22bb"
   },
   "outputs": [
    {
     "output_type": "stream",
     "name": "stdout",
     "text": [
      "\u001B[2K     \u001B[90m━━━━━━━━━━━━━━━━━━━━━━━━━━━━━━━━━━━━━━━\u001B[0m \u001B[32m106.7/106.7 kB\u001B[0m \u001B[31m2.1 MB/s\u001B[0m eta \u001B[36m0:00:00\u001B[0m\n",
      "\u001B[2K     \u001B[90m━━━━━━━━━━━━━━━━━━━━━━━━━━━━━━━━━━━━━━━\u001B[0m \u001B[32m135.8/135.8 kB\u001B[0m \u001B[31m7.2 MB/s\u001B[0m eta \u001B[36m0:00:00\u001B[0m\n",
      "\u001B[2K     \u001B[90m━━━━━━━━━━━━━━━━━━━━━━━━━━━━━━━━━━━━━━\u001B[0m \u001B[32m643.8/643.8 kB\u001B[0m \u001B[31m20.1 MB/s\u001B[0m eta \u001B[36m0:00:00\u001B[0m\n",
      "\u001B[2K     \u001B[90m━━━━━━━━━━━━━━━━━━━━━━━━━━━━━━━━━━━━━━━━\u001B[0m \u001B[32m3.1/3.1 MB\u001B[0m \u001B[31m58.0 MB/s\u001B[0m eta \u001B[36m0:00:00\u001B[0m\n",
      "\u001B[2K     \u001B[90m━━━━━━━━━━━━━━━━━━━━━━━━━━━━━━━━━━━━━━━\u001B[0m \u001B[32m212.4/212.4 MB\u001B[0m \u001B[31m5.3 MB/s\u001B[0m eta \u001B[36m0:00:00\u001B[0m\n",
      "\u001B[?25h  Preparing metadata (setup.py) ... \u001B[?25l\u001B[?25hdone\n",
      "\u001B[2K     \u001B[90m━━━━━━━━━━━━━━━━━━━━━━━━━━━━━━━━━━━━━━━━\u001B[0m \u001B[32m95.4/95.4 kB\u001B[0m \u001B[31m7.9 MB/s\u001B[0m eta \u001B[36m0:00:00\u001B[0m\n",
      "\u001B[2K     \u001B[90m━━━━━━━━━━━━━━━━━━━━━━━━━━━━━━━━━━━━━━\u001B[0m \u001B[32m531.3/531.3 kB\u001B[0m \u001B[31m35.0 MB/s\u001B[0m eta \u001B[36m0:00:00\u001B[0m\n",
      "\u001B[2K     \u001B[90m━━━━━━━━━━━━━━━━━━━━━━━━━━━━━━━━━━━━━━\u001B[0m \u001B[32m198.6/198.6 kB\u001B[0m \u001B[31m16.9 MB/s\u001B[0m eta \u001B[36m0:00:00\u001B[0m\n",
      "\u001B[2K     \u001B[90m━━━━━━━━━━━━━━━━━━━━━━━━━━━━━━━━━━━━━━━━\u001B[0m \u001B[32m66.9/66.9 kB\u001B[0m \u001B[31m6.7 MB/s\u001B[0m eta \u001B[36m0:00:00\u001B[0m\n",
      "\u001B[2K     \u001B[90m━━━━━━━━━━━━━━━━━━━━━━━━━━━━━━━━━━━━━━━━\u001B[0m \u001B[32m11.2/11.2 MB\u001B[0m \u001B[31m88.7 MB/s\u001B[0m eta \u001B[36m0:00:00\u001B[0m\n",
      "\u001B[2K     \u001B[90m━━━━━━━━━━━━━━━━━━━━━━━━━━━━━━━━━━━━━━━━\u001B[0m \u001B[32m79.8/79.8 kB\u001B[0m \u001B[31m9.4 MB/s\u001B[0m eta \u001B[36m0:00:00\u001B[0m\n",
      "\u001B[2K     \u001B[90m━━━━━━━━━━━━━━━━━━━━━━━━━━━━━━━━━━━━━━\u001B[0m \u001B[32m150.3/150.3 kB\u001B[0m \u001B[31m15.9 MB/s\u001B[0m eta \u001B[36m0:00:00\u001B[0m\n",
      "\u001B[2K     \u001B[90m━━━━━━━━━━━━━━━━━━━━━━━━━━━━━━━━━━━━━━━━\u001B[0m \u001B[32m1.6/1.6 MB\u001B[0m \u001B[31m75.5 MB/s\u001B[0m eta \u001B[36m0:00:00\u001B[0m\n",
      "\u001B[?25h  Building wheel for pyspark (setup.py) ... \u001B[?25l\u001B[?25hdone\n"
     ]
    }
   ],
   "source": [
    "# Install the johnsnowlabs library to access Spark-OCR and Spark-NLP for Healthcare, Finance, and Legal.\n",
    "!pip install -q johnsnowlabs==5.1.6"
   ]
  },
  {
   "cell_type": "code",
   "execution_count": 2,
   "id": "5d4b8f9d",
   "metadata": {
    "id": "5d4b8f9d",
    "colab": {
     "base_uri": "https://localhost:8080/",
     "height": 90
    },
    "executionInfo": {
     "status": "ok",
     "timestamp": 1697064692918,
     "user_tz": -120,
     "elapsed": 9117,
     "user": {
      "displayName": "Aymane Chilah",
      "userId": "03881241080678771864"
     }
    },
    "outputId": "173f1ff1-6326-46ec-ef9e-8221a8a2ddd6"
   },
   "outputs": [
    {
     "output_type": "stream",
     "name": "stdout",
     "text": [
      "Please Upload your John Snow Labs License using the button below\n"
     ]
    },
    {
     "output_type": "display_data",
     "data": {
      "text/plain": [
       "<IPython.core.display.HTML object>"
      ],
      "text/html": [
       "\n",
       "     <input type=\"file\" id=\"files-b2a88ec6-5eee-4e19-a536-ec30f5fd2594\" name=\"files[]\" multiple disabled\n",
       "        style=\"border:none\" />\n",
       "     <output id=\"result-b2a88ec6-5eee-4e19-a536-ec30f5fd2594\">\n",
       "      Upload widget is only available when the cell has been executed in the\n",
       "      current browser session. Please rerun this cell to enable.\n",
       "      </output>\n",
       "      <script>// Copyright 2017 Google LLC\n",
       "//\n",
       "// Licensed under the Apache License, Version 2.0 (the \"License\");\n",
       "// you may not use this file except in compliance with the License.\n",
       "// You may obtain a copy of the License at\n",
       "//\n",
       "//      http://www.apache.org/licenses/LICENSE-2.0\n",
       "//\n",
       "// Unless required by applicable law or agreed to in writing, software\n",
       "// distributed under the License is distributed on an \"AS IS\" BASIS,\n",
       "// WITHOUT WARRANTIES OR CONDITIONS OF ANY KIND, either express or implied.\n",
       "// See the License for the specific language governing permissions and\n",
       "// limitations under the License.\n",
       "\n",
       "/**\n",
       " * @fileoverview Helpers for google.colab Python module.\n",
       " */\n",
       "(function(scope) {\n",
       "function span(text, styleAttributes = {}) {\n",
       "  const element = document.createElement('span');\n",
       "  element.textContent = text;\n",
       "  for (const key of Object.keys(styleAttributes)) {\n",
       "    element.style[key] = styleAttributes[key];\n",
       "  }\n",
       "  return element;\n",
       "}\n",
       "\n",
       "// Max number of bytes which will be uploaded at a time.\n",
       "const MAX_PAYLOAD_SIZE = 100 * 1024;\n",
       "\n",
       "function _uploadFiles(inputId, outputId) {\n",
       "  const steps = uploadFilesStep(inputId, outputId);\n",
       "  const outputElement = document.getElementById(outputId);\n",
       "  // Cache steps on the outputElement to make it available for the next call\n",
       "  // to uploadFilesContinue from Python.\n",
       "  outputElement.steps = steps;\n",
       "\n",
       "  return _uploadFilesContinue(outputId);\n",
       "}\n",
       "\n",
       "// This is roughly an async generator (not supported in the browser yet),\n",
       "// where there are multiple asynchronous steps and the Python side is going\n",
       "// to poll for completion of each step.\n",
       "// This uses a Promise to block the python side on completion of each step,\n",
       "// then passes the result of the previous step as the input to the next step.\n",
       "function _uploadFilesContinue(outputId) {\n",
       "  const outputElement = document.getElementById(outputId);\n",
       "  const steps = outputElement.steps;\n",
       "\n",
       "  const next = steps.next(outputElement.lastPromiseValue);\n",
       "  return Promise.resolve(next.value.promise).then((value) => {\n",
       "    // Cache the last promise value to make it available to the next\n",
       "    // step of the generator.\n",
       "    outputElement.lastPromiseValue = value;\n",
       "    return next.value.response;\n",
       "  });\n",
       "}\n",
       "\n",
       "/**\n",
       " * Generator function which is called between each async step of the upload\n",
       " * process.\n",
       " * @param {string} inputId Element ID of the input file picker element.\n",
       " * @param {string} outputId Element ID of the output display.\n",
       " * @return {!Iterable<!Object>} Iterable of next steps.\n",
       " */\n",
       "function* uploadFilesStep(inputId, outputId) {\n",
       "  const inputElement = document.getElementById(inputId);\n",
       "  inputElement.disabled = false;\n",
       "\n",
       "  const outputElement = document.getElementById(outputId);\n",
       "  outputElement.innerHTML = '';\n",
       "\n",
       "  const pickedPromise = new Promise((resolve) => {\n",
       "    inputElement.addEventListener('change', (e) => {\n",
       "      resolve(e.target.files);\n",
       "    });\n",
       "  });\n",
       "\n",
       "  const cancel = document.createElement('button');\n",
       "  inputElement.parentElement.appendChild(cancel);\n",
       "  cancel.textContent = 'Cancel upload';\n",
       "  const cancelPromise = new Promise((resolve) => {\n",
       "    cancel.onclick = () => {\n",
       "      resolve(null);\n",
       "    };\n",
       "  });\n",
       "\n",
       "  // Wait for the user to pick the files.\n",
       "  const files = yield {\n",
       "    promise: Promise.race([pickedPromise, cancelPromise]),\n",
       "    response: {\n",
       "      action: 'starting',\n",
       "    }\n",
       "  };\n",
       "\n",
       "  cancel.remove();\n",
       "\n",
       "  // Disable the input element since further picks are not allowed.\n",
       "  inputElement.disabled = true;\n",
       "\n",
       "  if (!files) {\n",
       "    return {\n",
       "      response: {\n",
       "        action: 'complete',\n",
       "      }\n",
       "    };\n",
       "  }\n",
       "\n",
       "  for (const file of files) {\n",
       "    const li = document.createElement('li');\n",
       "    li.append(span(file.name, {fontWeight: 'bold'}));\n",
       "    li.append(span(\n",
       "        `(${file.type || 'n/a'}) - ${file.size} bytes, ` +\n",
       "        `last modified: ${\n",
       "            file.lastModifiedDate ? file.lastModifiedDate.toLocaleDateString() :\n",
       "                                    'n/a'} - `));\n",
       "    const percent = span('0% done');\n",
       "    li.appendChild(percent);\n",
       "\n",
       "    outputElement.appendChild(li);\n",
       "\n",
       "    const fileDataPromise = new Promise((resolve) => {\n",
       "      const reader = new FileReader();\n",
       "      reader.onload = (e) => {\n",
       "        resolve(e.target.result);\n",
       "      };\n",
       "      reader.readAsArrayBuffer(file);\n",
       "    });\n",
       "    // Wait for the data to be ready.\n",
       "    let fileData = yield {\n",
       "      promise: fileDataPromise,\n",
       "      response: {\n",
       "        action: 'continue',\n",
       "      }\n",
       "    };\n",
       "\n",
       "    // Use a chunked sending to avoid message size limits. See b/62115660.\n",
       "    let position = 0;\n",
       "    do {\n",
       "      const length = Math.min(fileData.byteLength - position, MAX_PAYLOAD_SIZE);\n",
       "      const chunk = new Uint8Array(fileData, position, length);\n",
       "      position += length;\n",
       "\n",
       "      const base64 = btoa(String.fromCharCode.apply(null, chunk));\n",
       "      yield {\n",
       "        response: {\n",
       "          action: 'append',\n",
       "          file: file.name,\n",
       "          data: base64,\n",
       "        },\n",
       "      };\n",
       "\n",
       "      let percentDone = fileData.byteLength === 0 ?\n",
       "          100 :\n",
       "          Math.round((position / fileData.byteLength) * 100);\n",
       "      percent.textContent = `${percentDone}% done`;\n",
       "\n",
       "    } while (position < fileData.byteLength);\n",
       "  }\n",
       "\n",
       "  // All done.\n",
       "  yield {\n",
       "    response: {\n",
       "      action: 'complete',\n",
       "    }\n",
       "  };\n",
       "}\n",
       "\n",
       "scope.google = scope.google || {};\n",
       "scope.google.colab = scope.google.colab || {};\n",
       "scope.google.colab._files = {\n",
       "  _uploadFiles,\n",
       "  _uploadFilesContinue,\n",
       "};\n",
       "})(self);\n",
       "</script> "
      ]
     },
     "metadata": {}
    },
    {
     "output_type": "stream",
     "name": "stdout",
     "text": [
      "Saving OCT_23_Visual_NLP.json to OCT_23_Visual_NLP.json\n"
     ]
    }
   ],
   "source": [
    "from google.colab import files\n",
    "print('Please Upload your John Snow Labs License using the button below')\n",
    "license_keys = files.upload()"
   ]
  },
  {
   "cell_type": "code",
   "execution_count": null,
   "id": "5aab583f",
   "metadata": {
    "id": "5aab583f"
   },
   "outputs": [],
   "source": [
    "from johnsnowlabs import nlp, visual\n",
    "\n",
    "# After uploading your license run this to install all licensed Python Wheels and pre-download Jars the Spark Session JVM\n",
    "nlp.install(refresh_install=True, visual=True)"
   ]
  },
  {
   "cell_type": "code",
   "execution_count": 4,
   "id": "a427b7fa",
   "metadata": {
    "id": "a427b7fa",
    "executionInfo": {
     "status": "ok",
     "timestamp": 1697064992048,
     "user_tz": -120,
     "elapsed": 473,
     "user": {
      "displayName": "Aymane Chilah",
      "userId": "03881241080678771864"
     }
    }
   },
   "outputs": [],
   "source": [
    "import pkg_resources\n",
    "\n",
    "from pyspark.ml import PipelineModel\n",
    "from pyspark.sql import functions as F"
   ]
  },
  {
   "cell_type": "code",
   "execution_count": 5,
   "id": "7f6392f6",
   "metadata": {
    "id": "7f6392f6",
    "executionInfo": {
     "status": "ok",
     "timestamp": 1697065012714,
     "user_tz": -120,
     "elapsed": 20261,
     "user": {
      "displayName": "Aymane Chilah",
      "userId": "03881241080678771864"
     }
    },
    "outputId": "b844fa4a-3279-4f15-f3f5-3b3176c9fab2",
    "colab": {
     "base_uri": "https://localhost:8080/"
    }
   },
   "outputs": [
    {
     "output_type": "stream",
     "name": "stdout",
     "text": [
      "👌 Detected license file /content/OCT_23_Visual_NLP.json\n",
      "👌 Launched \u001B[92mcpu optimized\u001B[39m session with with: 🚀Spark-NLP==5.1.1, 🕶Spark-OCR==5.0.2, running on ⚡ PySpark==3.1.2\n"
     ]
    }
   ],
   "source": [
    "from johnsnowlabs import nlp, visual\n",
    "import pandas as pd\n",
    "\n",
    "# Automatically load license data and start a session with all jars user has access to\n",
    "spark = nlp.start(visual=True)"
   ]
  },
  {
   "cell_type": "markdown",
   "id": "4b41a984",
   "metadata": {
    "id": "4b41a984"
   },
   "source": [
    "## Read image"
   ]
  },
  {
   "cell_type": "code",
   "execution_count": 6,
   "id": "1ef257a0",
   "metadata": {
    "id": "1ef257a0",
    "executionInfo": {
     "status": "ok",
     "timestamp": 1697065013360,
     "user_tz": -120,
     "elapsed": 649,
     "user": {
      "displayName": "Aymane Chilah",
      "userId": "03881241080678771864"
     }
    }
   },
   "outputs": [],
   "source": [
    "!wget -q https://github.com/JohnSnowLabs/spark-nlp-workshop/raw/master/visual-nlp/data/handwritten_example.jpg"
   ]
  },
  {
   "cell_type": "code",
   "execution_count": 7,
   "id": "bf3dab87",
   "metadata": {
    "id": "bf3dab87",
    "executionInfo": {
     "status": "ok",
     "timestamp": 1697065038419,
     "user_tz": -120,
     "elapsed": 25062,
     "user": {
      "displayName": "Aymane Chilah",
      "userId": "03881241080678771864"
     }
    },
    "outputId": "88edf861-9884-4af3-bbb3-4cb0b2dff5fb",
    "colab": {
     "base_uri": "https://localhost:8080/",
     "height": 1000,
     "output_embedded_package_id": "1yCalk_t4GRpqJ8Emyovc2zx4neM04ehh"
    }
   },
   "outputs": [
    {
     "output_type": "display_data",
     "data": {
      "text/plain": "Output hidden; open in https://colab.research.google.com to view."
     },
     "metadata": {}
    }
   ],
   "source": [
    "image_example_df = spark.read.format(\"binaryFile\").load(\"handwritten_example.jpg\")\n",
    "image_df = visual.BinaryToImage().transform(image_example_df).cache()\n",
    "\n",
    "visual.display_images(image_df)"
   ]
  },
  {
   "cell_type": "code",
   "source": [
    "from sparkocr.transformers import *"
   ],
   "metadata": {
    "id": "zWIR88skij6P",
    "executionInfo": {
     "status": "ok",
     "timestamp": 1697065038419,
     "user_tz": -120,
     "elapsed": 3,
     "user": {
      "displayName": "Aymane Chilah",
      "userId": "03881241080678771864"
     }
    }
   },
   "id": "zWIR88skij6P",
   "execution_count": 8,
   "outputs": []
  },
  {
   "cell_type": "code",
   "execution_count": 9,
   "id": "ad072573",
   "metadata": {
    "id": "ad072573",
    "colab": {
     "base_uri": "https://localhost:8080/"
    },
    "executionInfo": {
     "status": "ok",
     "timestamp": 1697065075281,
     "user_tz": -120,
     "elapsed": 36864,
     "user": {
      "displayName": "Aymane Chilah",
      "userId": "03881241080678771864"
     }
    },
    "outputId": "090ccb27-10b0-43c6-d7d4-025efc606ffb"
   },
   "outputs": [
    {
     "output_type": "stream",
     "name": "stdout",
     "text": [
      "image_text_detector_v2 download started this may take some time.\n",
      "Approximate size to download 75.3 MB\n"
     ]
    }
   ],
   "source": [
    "binary_to_image = visual.BinaryToImage()\n",
    "#binary_to_image.setImageType(ImageType.TYPE_3BYTE_BGR)\n",
    "\n",
    "text_detector = visual.ImageTextDetectorV2 \\\n",
    "    .pretrained(\"image_text_detector_v2\", \"en\", \"clinical/ocr\") \\\n",
    "    .setInputCol(\"image\") \\\n",
    "    .setOutputCol(\"text_regions\") \\\n",
    "    .setWithRefiner(True) \\\n",
    "    .setSizeThreshold(10) \\\n",
    "    .setScoreThreshold(0.2) \\\n",
    "    .setTextThreshold(0.2) \\\n",
    "    .setLinkThreshold(0.3) \\\n",
    "    .setWidth(500)\n",
    "\n",
    "ocr = ImageToTextV2.pretrained(\"ocr_base_handwritten_v2_opt\", \"en\", \"clinical/ocr\") \\\n",
    "    .setRegionsColumn(\"text_regions\")\\\n",
    "    .setInputCols([\"image\"]) \\\n",
    "    .setGroupImages(True) \\\n",
    "    .setOutputCol(\"text\")\n",
    "\n",
    "draw_regions = visual.ImageDrawRegions() \\\n",
    "    .setInputCol(\"image\") \\\n",
    "    .setInputRegionsCol(\"text_regions\") \\\n",
    "    .setOutputCol(\"image_with_regions\") \\\n",
    "    .setRectColor(visual.Color.green) \\\n",
    "    .setRotated(True)\n",
    "\n",
    "pipeline = PipelineModel(stages=[\n",
    "    binary_to_image,\n",
    "    text_detector,\n",
    "    ocr,\n",
    "    draw_regions\n",
    "])"
   ]
  },
  {
   "cell_type": "markdown",
   "id": "62788c29",
   "metadata": {
    "id": "62788c29"
   },
   "source": [
    "## Run pipeline and show results"
   ]
  },
  {
   "cell_type": "code",
   "execution_count": 10,
   "id": "1d5cee08",
   "metadata": {
    "id": "1d5cee08",
    "executionInfo": {
     "status": "ok",
     "timestamp": 1697065240054,
     "user_tz": -120,
     "elapsed": 164776,
     "user": {
      "displayName": "Aymane Chilah",
      "userId": "03881241080678771864"
     }
    },
    "outputId": "badfbece-21b1-4989-c483-029771e52101",
    "colab": {
     "base_uri": "https://localhost:8080/",
     "height": 1000,
     "output_embedded_package_id": "14wQv5g2fKwi92Xvy80crk8VolJG9n0iJ"
    }
   },
   "outputs": [
    {
     "output_type": "display_data",
     "data": {
      "text/plain": "Output hidden; open in https://colab.research.google.com to view."
     },
     "metadata": {}
    }
   ],
   "source": [
    "result = pipeline.transform(image_example_df).cache()\n",
    "visual.display_images(result, \"image_with_regions\")\n",
    "print((\"\").join([x.text for x in result.select(\"text\").collect()]))"
   ]
  }
 ],
 "metadata": {
  "kernelspec": {
   "display_name": "Python 3 (ipykernel)",
   "language": "python",
   "name": "python3"
  },
  "language_info": {
   "codemirror_mode": {
    "name": "ipython",
    "version": 3
   },
   "file_extension": ".py",
   "mimetype": "text/x-python",
   "name": "python",
   "nbconvert_exporter": "python",
   "pygments_lexer": "ipython3",
   "version": "3.7.5"
  },
  "colab": {
   "provenance": [
    {
     "file_id": "https://github.com/JohnSnowLabs/spark-nlp-workshop/blob/master/visual-nlp/1.4.Handwritten_Text_Recognition.ipynb",
     "timestamp": 1689846718591
    }
   ]
  }
 },
 "nbformat": 4,
 "nbformat_minor": 5
}

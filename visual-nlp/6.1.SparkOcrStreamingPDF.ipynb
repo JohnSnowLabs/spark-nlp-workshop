{
  "cells": [
    {
      "cell_type": "markdown",
      "metadata": {
        "id": "EwFzpuFhVnFR"
      },
      "source": [
        "![JohnSnowLabs](https://nlp.johnsnowlabs.com/assets/images/logo.png)"
      ]
    },
    {
      "cell_type": "markdown",
      "metadata": {
        "id": "HxStFMMVVnFU"
      },
      "source": [
        "[![Open In Colab](https://colab.research.google.com/assets/colab-badge.svg)](https://colab.research.google.com/github/JohnSnowLabs/spark-nlp-workshop/blob/master/visual-nlp/6.1.SparkOcrStreamingPDF.ipynb)"
      ]
    },
    {
      "cell_type": "markdown",
      "metadata": {
        "id": "2vh3AEyqVnFU"
      },
      "source": [
        "## Spark OCR Streaming"
      ]
    },
    {
      "cell_type": "markdown",
      "metadata": {
        "id": "mCQ2Pl-UVnFU"
      },
      "source": [
        "## Blogposts and videos\n",
        "\n",
        "- [Text Detection in Spark OCR](https://medium.com/spark-nlp/text-detection-in-spark-ocr-dcd8002bdc97)\n",
        "\n",
        "- [Table Detection & Extraction in Spark OCR](https://medium.com/spark-nlp/table-detection-extraction-in-spark-ocr-50765c6cedc9)\n",
        "\n",
        "- [Extract Tabular Data from PDF in Spark OCR](https://medium.com/spark-nlp/extract-tabular-data-from-pdf-in-spark-ocr-b02136bc0fcb)\n",
        "\n",
        "- [Signature Detection in Spark OCR](https://medium.com/spark-nlp/signature-detection-in-spark-ocr-32f9e6f91e3c)\n",
        "\n",
        "- [GPU image pre-processing in Spark OCR](https://medium.com/spark-nlp/gpu-image-pre-processing-in-spark-ocr-3-1-0-6fc27560a9bb)\n",
        "\n",
        "- [How to Setup Spark OCR on UBUNTU - Video](https://www.youtube.com/watch?v=cmt4WIcL0nI)\n",
        "\n",
        "\n",
        "**More examples here**\n",
        "\n",
        "https://github.com/JohnSnowLabs/spark-ocr-workshop"
      ]
    },
    {
      "cell_type": "markdown",
      "metadata": {
        "id": "M-ftVAZdVnFV"
      },
      "source": [
        "### Colab Setup"
      ]
    },
    {
      "cell_type": "code",
      "execution_count": 32,
      "metadata": {
        "id": "Np3NFHkbVnFW"
      },
      "outputs": [],
      "source": [
        "# Install the johnsnowlabs library to access Spark-OCR and Spark-NLP for Healthcare, Finance, and Legal.\n",
        "!pip install -q johnsnowlabs==5.1.6"
      ]
    },
    {
      "cell_type": "code",
      "execution_count": null,
      "metadata": {
        "id": "hKbt4xboVnFX"
      },
      "outputs": [],
      "source": [
        "from google.colab import files\n",
        "print('Please Upload your John Snow Labs License using the button below')\n",
        "license_keys = files.upload()"
      ]
    },
    {
      "cell_type": "code",
      "execution_count": 34,
      "metadata": {
        "colab": {
          "base_uri": "https://localhost:8080/"
        },
        "id": "xetwftatVnFX",
        "outputId": "6f16afa4-85f1-430b-be15-16f83a211c3c"
      },
      "outputs": [
        {
          "output_type": "stream",
          "name": "stdout",
          "text": [
            "🧹 Cleaning up old JSL Home in  /root/.johnsnowlabs\n",
            "👌 Detected license file /content/spark_nlp_for_healthcare_spark_ocr_8356 (4).json\n",
            "📋 Stored John Snow Labs License in /root/.johnsnowlabs/licenses/license_number_0_for_Spark-Healthcare_Spark-OCR.json\n",
            "👷 Setting up  John Snow Labs home in /root/.johnsnowlabs, this might take a few minutes.\n",
            "Downloading 🐍+🚀 Python Library spark_nlp-5.1.1-py2.py3-none-any.whl\n",
            "Downloading 🐍+💊 Python Library spark_nlp_jsl-5.1.1-py3-none-any.whl\n",
            "Downloading 🐍+🕶 Python Library spark_ocr-5.0.2-py3-none-any.whl\n",
            "Downloading 🫘+🚀 Java Library spark-nlp-assembly-5.1.1.jar\n",
            "Downloading 🫘+💊 Java Library spark-nlp-jsl-5.1.1.jar\n",
            "Downloading 🫘+🕶 Java Library spark-ocr-assembly-5.0.2.jar\n",
            "🙆 JSL Home setup in /root/.johnsnowlabs\n",
            "Installing pyspark to /usr/bin/python3\n",
            "Installed 1 products:\n",
            "🐍+⚡ PySpark==3.1.2 installed! ✅ The big data Engine \n"
          ]
        }
      ],
      "source": [
        "from johnsnowlabs import nlp, visual, medical\n",
        "\n",
        "# After uploading your license run this to install all licensed Python Wheels and pre-download Jars the Spark Session JVM\n",
        "nlp.settings.enforce_versions=False\n",
        "nlp.install(refresh_install=True, visual=True)"
      ]
    },
    {
      "cell_type": "code",
      "execution_count": 35,
      "metadata": {
        "id": "gfCDUTvNVnFY"
      },
      "outputs": [],
      "source": [
        "import pyspark\n",
        "import json\n",
        "import os"
      ]
    },
    {
      "cell_type": "markdown",
      "metadata": {
        "id": "mEQ28LsCVnFY"
      },
      "source": [
        "## Initialization of spark session"
      ]
    },
    {
      "cell_type": "code",
      "execution_count": 36,
      "metadata": {
        "colab": {
          "base_uri": "https://localhost:8080/"
        },
        "id": "yshbVxejVnFZ",
        "outputId": "50b85d51-86a8-4beb-f83b-d0ec727055cc"
      },
      "outputs": [
        {
          "output_type": "stream",
          "name": "stdout",
          "text": [
            "Spark Session already created, some configs may not take.\n",
            "👌 Detected license file /content/spark_nlp_for_healthcare_spark_ocr_8356 (4).json\n"
          ]
        }
      ],
      "source": [
        "from johnsnowlabs import visual, nlp\n",
        "import pandas as pd\n",
        "\n",
        "# Automatically load license data and start a session with all jars user has access to\n",
        "spark = nlp.start(visual=True)"
      ]
    },
    {
      "cell_type": "code",
      "execution_count": 37,
      "metadata": {
        "id": "6jWQne42VnFa"
      },
      "outputs": [],
      "source": [
        "from pyspark.ml import PipelineModel\n",
        "from pyspark.sql.functions import *"
      ]
    },
    {
      "cell_type": "code",
      "execution_count": null,
      "metadata": {
        "id": "4VmVAhtZVnFa"
      },
      "outputs": [],
      "source": [
        "# fill path to folder with PDF's here\n",
        "dataset_path = \"/content/*.pdf\""
      ]
    },
    {
      "cell_type": "code",
      "execution_count": null,
      "metadata": {
        "id": "fFp-fzw6VnFa"
      },
      "outputs": [],
      "source": [
        "# read one file for infer schema\n",
        "pdfs_df = spark.read.format(\"binaryFile\").load(dataset_path).limit(1)"
      ]
    },
    {
      "cell_type": "markdown",
      "metadata": {
        "id": "BHHhEzKKVnFb"
      },
      "source": [
        "## Define OCR pipeline"
      ]
    },
    {
      "cell_type": "code",
      "execution_count": null,
      "metadata": {
        "id": "lpUD5kghVnFb"
      },
      "outputs": [],
      "source": [
        "# Transform binary to image\n",
        "pdf_to_image = visual.PdfToImage()\n",
        "pdf_to_image.setOutputCol(\"image\")\n",
        "\n",
        "# Run OCR for each region\n",
        "ocr = visual.ImageToText()\n",
        "ocr.setInputCol(\"image\")\n",
        "ocr.setOutputCol(\"text\")\n",
        "ocr.setConfidenceThreshold(60)\n",
        "\n",
        "# OCR pipeline\n",
        "pipeline = PipelineModel(stages=[\n",
        "    pdf_to_image,\n",
        "    ocr\n",
        "])"
      ]
    },
    {
      "cell_type": "markdown",
      "metadata": {
        "id": "poeHsXI3VnFb"
      },
      "source": [
        "## Define streaming pipeline and start it\n",
        "Note: each start erase previous results"
      ]
    },
    {
      "cell_type": "code",
      "execution_count": null,
      "metadata": {
        "id": "jMohfzzXVnFb"
      },
      "outputs": [],
      "source": [
        "# count of files in one microbatch\n",
        "maxFilesPerTrigger = 4\n",
        "\n",
        "# read files as stream\n",
        "pdf_stream_df = spark.readStream \\\n",
        ".format(\"binaryFile\") \\\n",
        ".schema(pdfs_df.schema) \\\n",
        ".option(\"maxFilesPerTrigger\", maxFilesPerTrigger) \\\n",
        ".load(dataset_path)\n",
        "\n",
        "# process files using OCR pipeline\n",
        "result = pipeline.transform(pdf_stream_df).withColumn(\"timestamp\", current_timestamp())\n",
        "\n",
        "# store results to memory table\n",
        "query = result.writeStream \\\n",
        " .format('memory') \\\n",
        " .queryName('result') \\\n",
        " .start()"
      ]
    },
    {
      "cell_type": "code",
      "execution_count": null,
      "metadata": {
        "colab": {
          "base_uri": "https://localhost:8080/"
        },
        "id": "eUaWbXgNVnFc",
        "outputId": "92d8a4c3-d2ef-414c-bd58-58b5cbb5aba5"
      },
      "outputs": [
        {
          "data": {
            "text/plain": [
              "{'id': '90359645-7a20-452b-91ab-e65cfc501430',\n",
              " 'runId': '1817bbd7-be6f-4b91-bd4c-ca1ef610a42b',\n",
              " 'name': None,\n",
              " 'timestamp': '2023-01-23T14:34:44.551Z',\n",
              " 'batchId': 1,\n",
              " 'numInputRows': 0,\n",
              " 'inputRowsPerSecond': 0.0,\n",
              " 'processedRowsPerSecond': 0.0,\n",
              " 'durationMs': {'latestOffset': 3, 'triggerExecution': 3},\n",
              " 'stateOperators': [],\n",
              " 'sources': [{'description': 'FileStreamSource[file:/content/*.pdf]',\n",
              "   'startOffset': {'logOffset': 0},\n",
              "   'endOffset': {'logOffset': 0},\n",
              "   'numInputRows': 0,\n",
              "   'inputRowsPerSecond': 0.0,\n",
              "   'processedRowsPerSecond': 0.0}],\n",
              " 'sink': {'description': 'FileSink[results/]', 'numOutputRows': -1}}"
            ]
          },
          "execution_count": 34,
          "metadata": {},
          "output_type": "execute_result"
        }
      ],
      "source": [
        "# get progress of streamig job\n",
        "query.lastProgress"
      ]
    },
    {
      "cell_type": "code",
      "execution_count": null,
      "metadata": {
        "id": "Ls3CjwnCVnFc"
      },
      "outputs": [],
      "source": [
        "# need to run for stop steraming job\n",
        "query.stop()"
      ]
    },
    {
      "cell_type": "markdown",
      "metadata": {
        "id": "hqH2GjqOVnFc"
      },
      "source": [
        "## Show results from 'result' table\n",
        "Remember to upload some file to the /content folder in colab."
      ]
    },
    {
      "cell_type": "code",
      "execution_count": null,
      "metadata": {
        "colab": {
          "base_uri": "https://localhost:8080/"
        },
        "id": "8Nlsn48tVnFc",
        "outputId": "08d91691-a94e-4c68-ee43-509282333269"
      },
      "outputs": [
        {
          "data": {
            "text/plain": [
              "1"
            ]
          },
          "execution_count": 35,
          "metadata": {},
          "output_type": "execute_result"
        }
      ],
      "source": [
        "# count of processed records (number of processed pages in results)\n",
        "spark.table(\"result\").count()"
      ]
    },
    {
      "cell_type": "code",
      "execution_count": null,
      "metadata": {
        "colab": {
          "base_uri": "https://localhost:8080/"
        },
        "id": "q04UZA8kVnFd",
        "outputId": "3662a713-1117-4562-b906-ad28ec99801b"
      },
      "outputs": [
        {
          "name": "stdout",
          "output_type": "stream",
          "text": [
            "+--------------------+-------+--------------------+--------------------+\n",
            "|           timestamp|pagenum|                path|                text|\n",
            "+--------------------+-------+--------------------+--------------------+\n",
            "|2023-01-23 13:48:...|      0|file:/content/noi...| \n",
            "\n",
            " \n",
            "\n",
            " \n",
            "\n",
            "ne Pa a ...|\n",
            "+--------------------+-------+--------------------+--------------------+\n",
            "\n"
          ]
        }
      ],
      "source": [
        "# show results\n",
        "spark.table(\"result\").select(\"timestamp\",\"pagenum\", \"path\", \"text\").show(10)"
      ]
    },
    {
      "cell_type": "markdown",
      "metadata": {
        "id": "oyPk7dD3VnFd"
      },
      "source": [
        "## Run streaming job for storing results to disk"
      ]
    },
    {
      "cell_type": "code",
      "execution_count": null,
      "metadata": {
        "id": "z36PWzv-VnFd"
      },
      "outputs": [],
      "source": [
        "# format: could also be parquet, or csv\n",
        "# path: route to a file system location\n",
        "query = result.select(\"text\").writeStream \\\n",
        " .format('text') \\\n",
        " .option(\"path\", \"results/\") \\\n",
        " .option(\"checkpointLocation\", \"checkpointDir\") \\\n",
        " .start()"
      ]
    },
    {
      "cell_type": "code",
      "execution_count": null,
      "metadata": {
        "id": "6IxwNFfHVnFd"
      },
      "outputs": [],
      "source": [
        "# get progress of streamig job\n",
        "query.lastProgress"
      ]
    },
    {
      "cell_type": "code",
      "execution_count": null,
      "metadata": {
        "id": "eWQ6rveKVnFe"
      },
      "outputs": [],
      "source": [
        "# need to run for stop steraming job\n",
        "query.stop()"
      ]
    },
    {
      "cell_type": "markdown",
      "metadata": {
        "id": "NGJa_r51VnFe"
      },
      "source": [
        "## Read results from disk"
      ]
    },
    {
      "cell_type": "code",
      "execution_count": null,
      "metadata": {
        "id": "ewjnSxvQDuwc"
      },
      "outputs": [],
      "source": [
        "!cp /content/noised.pdf /content/noised_1.pdf"
      ]
    },
    {
      "cell_type": "code",
      "execution_count": null,
      "metadata": {
        "colab": {
          "base_uri": "https://localhost:8080/"
        },
        "id": "IUzerwK9VnFe",
        "outputId": "35b8143b-329a-48ec-ddd6-ee09c1b9cc52",
        "scrolled": true
      },
      "outputs": [
        {
          "name": "stdout",
          "output_type": "stream",
          "text": [
            "+----------------------------------------------------+\n",
            "|value                                               |\n",
            "+----------------------------------------------------+\n",
            "|er ‘Sample No. _ 5031 -: JS BD oats                 |\n",
            "|. Cartons --- OLD GOLD STRAIGHT                     |\n",
            "|. =, Requirements: Markings-~- Sample number on each|\n",
            "|Benzo (A) Pyrene Analyses — T/C -CF~ O.C S51: Fee - |\n",
            "|                                                    |\n",
            "| , BLEND CASING RECASING                            |\n",
            "|                                                    |\n",
            "|                                                    |\n",
            "|                                                    |\n",
            "|                                                    |\n",
            "|Laboratory “----- One Tray .                        |\n",
            "|| | le 4 68 fb                                      |\n",
            "|Filter Production--- -- , .                         |\n",
            "|Shipping ----------- Tot _                          |\n",
            "+----------------------------------------------------+\n",
            "\n"
          ]
        }
      ],
      "source": [
        "results = spark.read.format(\"text\").load(\"results/*.txt\")\n",
        "results.sample(.1).show(truncate=False)"
      ]
    },
    {
      "cell_type": "markdown",
      "metadata": {
        "id": "3BEWgzNPVnFe"
      },
      "source": [
        "## Clean results and checkpoint folders"
      ]
    },
    {
      "cell_type": "code",
      "execution_count": null,
      "metadata": {
        "id": "-a5ZHZLcVnFe"
      },
      "outputs": [],
      "source": [
        "%%bash\n",
        "rm -r -f results\n",
        "rm -r -f checkpointDir"
      ]
    }
  ],
  "metadata": {
    "colab": {
      "name": "6.1.SparkOcrStreamingPDF.ipynb",
      "provenance": []
    },
    "kernelspec": {
      "display_name": "Python 3 (ipykernel)",
      "language": "python",
      "name": "python3"
    },
    "language_info": {
      "codemirror_mode": {
        "name": "ipython",
        "version": 3
      },
      "file_extension": ".py",
      "mimetype": "text/x-python",
      "name": "python",
      "nbconvert_exporter": "python",
      "pygments_lexer": "ipython3",
      "version": "3.7.5"
    }
  },
  "nbformat": 4,
  "nbformat_minor": 0
}
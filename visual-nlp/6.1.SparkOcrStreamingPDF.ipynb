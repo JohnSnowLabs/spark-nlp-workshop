{
  "cells": [
    {
      "cell_type": "markdown",
      "metadata": {
        "id": "EwFzpuFhVnFR"
      },
      "source": [
        "![JohnSnowLabs](https://nlp.johnsnowlabs.com/assets/images/logo.png)"
      ]
    },
    {
      "cell_type": "markdown",
      "metadata": {
        "id": "HxStFMMVVnFU"
      },
      "source": [
        "[![Open In Colab](https://colab.research.google.com/assets/colab-badge.svg)](https://colab.research.google.com/github/JohnSnowLabs/spark-ocr-workshop/blob/master/tutorials/Certification_Trainings_JSL/6.1.SparkOcrStreamingPDF.ipynb)"
      ]
    },
    {
      "cell_type": "markdown",
      "metadata": {
        "id": "2vh3AEyqVnFU"
      },
      "source": [
        "## Spark OCR Streaming"
      ]
    },
    {
      "cell_type": "markdown",
      "metadata": {
        "id": "mCQ2Pl-UVnFU"
      },
      "source": [
        "## Blogposts and videos\n",
        "\n",
        "- [Text Detection in Spark OCR](https://medium.com/spark-nlp/text-detection-in-spark-ocr-dcd8002bdc97)\n",
        "\n",
        "- [Table Detection & Extraction in Spark OCR](https://medium.com/spark-nlp/table-detection-extraction-in-spark-ocr-50765c6cedc9)\n",
        "\n",
        "- [Extract Tabular Data from PDF in Spark OCR](https://medium.com/spark-nlp/extract-tabular-data-from-pdf-in-spark-ocr-b02136bc0fcb)\n",
        "\n",
        "- [Signature Detection in Spark OCR](https://medium.com/spark-nlp/signature-detection-in-spark-ocr-32f9e6f91e3c)\n",
        "\n",
        "- [GPU image pre-processing in Spark OCR](https://medium.com/spark-nlp/gpu-image-pre-processing-in-spark-ocr-3-1-0-6fc27560a9bb)\n",
        "\n",
        "- [How to Setup Spark OCR on UBUNTU - Video](https://www.youtube.com/watch?v=cmt4WIcL0nI)\n",
        "\n",
        "\n",
        "**More examples here**\n",
        "\n",
        "https://github.com/JohnSnowLabs/spark-ocr-workshop"
      ]
    },
    {
      "cell_type": "markdown",
      "metadata": {
        "id": "M-ftVAZdVnFV"
      },
      "source": [
        "### Colab Setup"
      ]
    },
    {
      "cell_type": "code",
      "execution_count": 23,
      "metadata": {
        "id": "Np3NFHkbVnFW"
      },
      "outputs": [],
      "source": [
        "# Install the johnsnowlabs library to access Spark-OCR and Spark-NLP for Healthcare, Finance, and Legal.\n",
        "!pip install -q johnsnowlabs"
      ]
    },
    {
      "cell_type": "code",
      "execution_count": 24,
      "metadata": {
        "id": "hKbt4xboVnFX",
        "outputId": "1c7a5dc0-4e7b-4022-faf0-7255b50ff01b",
        "colab": {
          "base_uri": "https://localhost:8080/",
          "height": 93
        }
      },
      "outputs": [
        {
          "output_type": "stream",
          "name": "stdout",
          "text": [
            "Please Upload your John Snow Labs License using the button below\n"
          ]
        },
        {
          "output_type": "display_data",
          "data": {
            "text/plain": [
              "<IPython.core.display.HTML object>"
            ],
            "text/html": [
              "\n",
              "     <input type=\"file\" id=\"files-8f0ad47c-4195-4c6f-9bec-2eb7bf4dd068\" name=\"files[]\" multiple disabled\n",
              "        style=\"border:none\" />\n",
              "     <output id=\"result-8f0ad47c-4195-4c6f-9bec-2eb7bf4dd068\">\n",
              "      Upload widget is only available when the cell has been executed in the\n",
              "      current browser session. Please rerun this cell to enable.\n",
              "      </output>\n",
              "      <script>// Copyright 2017 Google LLC\n",
              "//\n",
              "// Licensed under the Apache License, Version 2.0 (the \"License\");\n",
              "// you may not use this file except in compliance with the License.\n",
              "// You may obtain a copy of the License at\n",
              "//\n",
              "//      http://www.apache.org/licenses/LICENSE-2.0\n",
              "//\n",
              "// Unless required by applicable law or agreed to in writing, software\n",
              "// distributed under the License is distributed on an \"AS IS\" BASIS,\n",
              "// WITHOUT WARRANTIES OR CONDITIONS OF ANY KIND, either express or implied.\n",
              "// See the License for the specific language governing permissions and\n",
              "// limitations under the License.\n",
              "\n",
              "/**\n",
              " * @fileoverview Helpers for google.colab Python module.\n",
              " */\n",
              "(function(scope) {\n",
              "function span(text, styleAttributes = {}) {\n",
              "  const element = document.createElement('span');\n",
              "  element.textContent = text;\n",
              "  for (const key of Object.keys(styleAttributes)) {\n",
              "    element.style[key] = styleAttributes[key];\n",
              "  }\n",
              "  return element;\n",
              "}\n",
              "\n",
              "// Max number of bytes which will be uploaded at a time.\n",
              "const MAX_PAYLOAD_SIZE = 100 * 1024;\n",
              "\n",
              "function _uploadFiles(inputId, outputId) {\n",
              "  const steps = uploadFilesStep(inputId, outputId);\n",
              "  const outputElement = document.getElementById(outputId);\n",
              "  // Cache steps on the outputElement to make it available for the next call\n",
              "  // to uploadFilesContinue from Python.\n",
              "  outputElement.steps = steps;\n",
              "\n",
              "  return _uploadFilesContinue(outputId);\n",
              "}\n",
              "\n",
              "// This is roughly an async generator (not supported in the browser yet),\n",
              "// where there are multiple asynchronous steps and the Python side is going\n",
              "// to poll for completion of each step.\n",
              "// This uses a Promise to block the python side on completion of each step,\n",
              "// then passes the result of the previous step as the input to the next step.\n",
              "function _uploadFilesContinue(outputId) {\n",
              "  const outputElement = document.getElementById(outputId);\n",
              "  const steps = outputElement.steps;\n",
              "\n",
              "  const next = steps.next(outputElement.lastPromiseValue);\n",
              "  return Promise.resolve(next.value.promise).then((value) => {\n",
              "    // Cache the last promise value to make it available to the next\n",
              "    // step of the generator.\n",
              "    outputElement.lastPromiseValue = value;\n",
              "    return next.value.response;\n",
              "  });\n",
              "}\n",
              "\n",
              "/**\n",
              " * Generator function which is called between each async step of the upload\n",
              " * process.\n",
              " * @param {string} inputId Element ID of the input file picker element.\n",
              " * @param {string} outputId Element ID of the output display.\n",
              " * @return {!Iterable<!Object>} Iterable of next steps.\n",
              " */\n",
              "function* uploadFilesStep(inputId, outputId) {\n",
              "  const inputElement = document.getElementById(inputId);\n",
              "  inputElement.disabled = false;\n",
              "\n",
              "  const outputElement = document.getElementById(outputId);\n",
              "  outputElement.innerHTML = '';\n",
              "\n",
              "  const pickedPromise = new Promise((resolve) => {\n",
              "    inputElement.addEventListener('change', (e) => {\n",
              "      resolve(e.target.files);\n",
              "    });\n",
              "  });\n",
              "\n",
              "  const cancel = document.createElement('button');\n",
              "  inputElement.parentElement.appendChild(cancel);\n",
              "  cancel.textContent = 'Cancel upload';\n",
              "  const cancelPromise = new Promise((resolve) => {\n",
              "    cancel.onclick = () => {\n",
              "      resolve(null);\n",
              "    };\n",
              "  });\n",
              "\n",
              "  // Wait for the user to pick the files.\n",
              "  const files = yield {\n",
              "    promise: Promise.race([pickedPromise, cancelPromise]),\n",
              "    response: {\n",
              "      action: 'starting',\n",
              "    }\n",
              "  };\n",
              "\n",
              "  cancel.remove();\n",
              "\n",
              "  // Disable the input element since further picks are not allowed.\n",
              "  inputElement.disabled = true;\n",
              "\n",
              "  if (!files) {\n",
              "    return {\n",
              "      response: {\n",
              "        action: 'complete',\n",
              "      }\n",
              "    };\n",
              "  }\n",
              "\n",
              "  for (const file of files) {\n",
              "    const li = document.createElement('li');\n",
              "    li.append(span(file.name, {fontWeight: 'bold'}));\n",
              "    li.append(span(\n",
              "        `(${file.type || 'n/a'}) - ${file.size} bytes, ` +\n",
              "        `last modified: ${\n",
              "            file.lastModifiedDate ? file.lastModifiedDate.toLocaleDateString() :\n",
              "                                    'n/a'} - `));\n",
              "    const percent = span('0% done');\n",
              "    li.appendChild(percent);\n",
              "\n",
              "    outputElement.appendChild(li);\n",
              "\n",
              "    const fileDataPromise = new Promise((resolve) => {\n",
              "      const reader = new FileReader();\n",
              "      reader.onload = (e) => {\n",
              "        resolve(e.target.result);\n",
              "      };\n",
              "      reader.readAsArrayBuffer(file);\n",
              "    });\n",
              "    // Wait for the data to be ready.\n",
              "    let fileData = yield {\n",
              "      promise: fileDataPromise,\n",
              "      response: {\n",
              "        action: 'continue',\n",
              "      }\n",
              "    };\n",
              "\n",
              "    // Use a chunked sending to avoid message size limits. See b/62115660.\n",
              "    let position = 0;\n",
              "    do {\n",
              "      const length = Math.min(fileData.byteLength - position, MAX_PAYLOAD_SIZE);\n",
              "      const chunk = new Uint8Array(fileData, position, length);\n",
              "      position += length;\n",
              "\n",
              "      const base64 = btoa(String.fromCharCode.apply(null, chunk));\n",
              "      yield {\n",
              "        response: {\n",
              "          action: 'append',\n",
              "          file: file.name,\n",
              "          data: base64,\n",
              "        },\n",
              "      };\n",
              "\n",
              "      let percentDone = fileData.byteLength === 0 ?\n",
              "          100 :\n",
              "          Math.round((position / fileData.byteLength) * 100);\n",
              "      percent.textContent = `${percentDone}% done`;\n",
              "\n",
              "    } while (position < fileData.byteLength);\n",
              "  }\n",
              "\n",
              "  // All done.\n",
              "  yield {\n",
              "    response: {\n",
              "      action: 'complete',\n",
              "    }\n",
              "  };\n",
              "}\n",
              "\n",
              "scope.google = scope.google || {};\n",
              "scope.google.colab = scope.google.colab || {};\n",
              "scope.google.colab._files = {\n",
              "  _uploadFiles,\n",
              "  _uploadFilesContinue,\n",
              "};\n",
              "})(self);\n",
              "</script> "
            ]
          },
          "metadata": {}
        },
        {
          "output_type": "stream",
          "name": "stdout",
          "text": [
            "Saving healthcare_nlp_training_license_jan23.json to healthcare_nlp_training_license_jan23 (1).json\n"
          ]
        }
      ],
      "source": [
        "from google.colab import files\n",
        "print('Please Upload your John Snow Labs License using the button below')\n",
        "license_keys = files.upload()"
      ]
    },
    {
      "cell_type": "code",
      "execution_count": 25,
      "metadata": {
        "id": "xetwftatVnFX",
        "outputId": "12e19778-0a70-466d-9bcd-d847f2f07d83",
        "colab": {
          "base_uri": "https://localhost:8080/"
        }
      },
      "outputs": [
        {
          "output_type": "stream",
          "name": "stdout",
          "text": [
            "👌 Detected license file /content/healthcare_nlp_training_license_jan23.json\n",
            "📋 Stored John Snow Labs License in /root/.johnsnowlabs/licenses/license_number_0_for_Spark-Healthcare_Spark-OCR.json\n",
            "👷 Setting up  John Snow Labs home in /root/.johnsnowlabs, this might take a few minutes.\n",
            "Downloading 🐍+🚀 Python Library spark_nlp-4.2.4-py2.py3-none-any.whl\n",
            "Downloading 🐍+💊 Python Library spark_nlp_jsl-4.2.4-py3-none-any.whl\n",
            "Downloading 🐍+🕶 Python Library spark_ocr-4.2.4-py3-none-any.whl\n",
            "Downloading 🫘+🚀 Java Library spark-nlp-assembly-4.2.4.jar\n",
            "Downloading 🫘+💊 Java Library spark-nlp-jsl-4.2.4.jar\n",
            "Downloading 🫘+🕶 Java Library spark-ocr-assembly-4.2.4.jar\n",
            "🙆 JSL Home setup in /root/.johnsnowlabs\n",
            "👌 Everything is already installed, no changes made\n"
          ]
        }
      ],
      "source": [
        "from johnsnowlabs import nlp, visual, medical\n",
        "\n",
        "# After uploading your license run this to install all licensed Python Wheels and pre-download Jars the Spark Session JVM\n",
        "nlp.install(refresh_install=True, visual=True)"
      ]
    },
    {
      "cell_type": "code",
      "execution_count": 26,
      "metadata": {
        "id": "gfCDUTvNVnFY"
      },
      "outputs": [],
      "source": [
        "import pyspark\n",
        "import json\n",
        "import os"
      ]
    },
    {
      "cell_type": "markdown",
      "metadata": {
        "id": "mEQ28LsCVnFY"
      },
      "source": [
        "## Initialization of spark session"
      ]
    },
    {
      "cell_type": "code",
      "execution_count": 27,
      "metadata": {
        "colab": {
          "base_uri": "https://localhost:8080/"
        },
        "id": "yshbVxejVnFZ",
        "outputId": "821cb4c6-7933-4601-cdad-f7a8fc0d09d6"
      },
      "outputs": [
        {
          "output_type": "stream",
          "name": "stdout",
          "text": [
            "Spark Session already created, some configs may not take.\n",
            "👌 Detected license file /content/healthcare_nlp_training_license_jan23.json\n"
          ]
        }
      ],
      "source": [
        "from johnsnowlabs import visual, nlp\n",
        "import pandas as pd\n",
        "\n",
        "# Automatically load license data and start a session with all jars user has access to\n",
        "spark = nlp.start(visual=True)"
      ]
    },
    {
      "cell_type": "code",
      "execution_count": 28,
      "metadata": {
        "id": "6jWQne42VnFa"
      },
      "outputs": [],
      "source": [
        "from pyspark.ml import PipelineModel\n",
        "from pyspark.sql.functions import *"
      ]
    },
    {
      "cell_type": "code",
      "execution_count": 29,
      "metadata": {
        "id": "4VmVAhtZVnFa"
      },
      "outputs": [],
      "source": [
        "# fill path to folder with PDF's here\n",
        "dataset_path = \"/content/*.pdf\""
      ]
    },
    {
      "cell_type": "code",
      "execution_count": 30,
      "metadata": {
        "id": "fFp-fzw6VnFa"
      },
      "outputs": [],
      "source": [
        "# read one file for infer schema\n",
        "pdfs_df = spark.read.format(\"binaryFile\").load(dataset_path).limit(1)"
      ]
    },
    {
      "cell_type": "markdown",
      "metadata": {
        "id": "BHHhEzKKVnFb"
      },
      "source": [
        "## Define OCR pipeline"
      ]
    },
    {
      "cell_type": "code",
      "execution_count": 31,
      "metadata": {
        "id": "lpUD5kghVnFb"
      },
      "outputs": [],
      "source": [
        "# Transform binary to image\n",
        "pdf_to_image = visual.PdfToImage()\n",
        "pdf_to_image.setOutputCol(\"image\")\n",
        "\n",
        "# Run OCR for each region\n",
        "ocr = visual.ImageToText()\n",
        "ocr.setInputCol(\"image\")\n",
        "ocr.setOutputCol(\"text\")\n",
        "ocr.setConfidenceThreshold(60)\n",
        "\n",
        "# OCR pipeline\n",
        "pipeline = PipelineModel(stages=[\n",
        "    pdf_to_image,\n",
        "    ocr\n",
        "])"
      ]
    },
    {
      "cell_type": "markdown",
      "metadata": {
        "id": "poeHsXI3VnFb"
      },
      "source": [
        "## Define streaming pipeline and start it\n",
        "Note: each start erase previous results"
      ]
    },
    {
      "cell_type": "code",
      "execution_count": null,
      "metadata": {
        "id": "jMohfzzXVnFb"
      },
      "outputs": [],
      "source": [
        "# count of files in one microbatch\n",
        "maxFilesPerTrigger = 4\n",
        "\n",
        "# read files as stream\n",
        "pdf_stream_df = spark.readStream \\\n",
        ".format(\"binaryFile\") \\\n",
        ".schema(pdfs_df.schema) \\\n",
        ".option(\"maxFilesPerTrigger\", maxFilesPerTrigger) \\\n",
        ".load(dataset_path)\n",
        "\n",
        "# process files using OCR pipeline\n",
        "result = pipeline.transform(pdf_stream_df).withColumn(\"timestamp\", current_timestamp())\n",
        "\n",
        "# store results to memory table\n",
        "query = result.writeStream \\\n",
        " .format('memory') \\\n",
        " .queryName('result') \\\n",
        " .start()"
      ]
    },
    {
      "cell_type": "code",
      "execution_count": 34,
      "metadata": {
        "id": "eUaWbXgNVnFc",
        "outputId": "92d8a4c3-d2ef-414c-bd58-58b5cbb5aba5",
        "colab": {
          "base_uri": "https://localhost:8080/"
        }
      },
      "outputs": [
        {
          "output_type": "execute_result",
          "data": {
            "text/plain": [
              "{'id': '90359645-7a20-452b-91ab-e65cfc501430',\n",
              " 'runId': '1817bbd7-be6f-4b91-bd4c-ca1ef610a42b',\n",
              " 'name': None,\n",
              " 'timestamp': '2023-01-23T14:34:44.551Z',\n",
              " 'batchId': 1,\n",
              " 'numInputRows': 0,\n",
              " 'inputRowsPerSecond': 0.0,\n",
              " 'processedRowsPerSecond': 0.0,\n",
              " 'durationMs': {'latestOffset': 3, 'triggerExecution': 3},\n",
              " 'stateOperators': [],\n",
              " 'sources': [{'description': 'FileStreamSource[file:/content/*.pdf]',\n",
              "   'startOffset': {'logOffset': 0},\n",
              "   'endOffset': {'logOffset': 0},\n",
              "   'numInputRows': 0,\n",
              "   'inputRowsPerSecond': 0.0,\n",
              "   'processedRowsPerSecond': 0.0}],\n",
              " 'sink': {'description': 'FileSink[results/]', 'numOutputRows': -1}}"
            ]
          },
          "metadata": {},
          "execution_count": 34
        }
      ],
      "source": [
        "# get progress of streamig job\n",
        "query.lastProgress"
      ]
    },
    {
      "cell_type": "code",
      "execution_count": null,
      "metadata": {
        "id": "Ls3CjwnCVnFc"
      },
      "outputs": [],
      "source": [
        "# need to run for stop steraming job\n",
        "query.stop()"
      ]
    },
    {
      "cell_type": "markdown",
      "metadata": {
        "id": "hqH2GjqOVnFc"
      },
      "source": [
        "## Show results from 'result' table\n",
        "Remember to upload some file to the /content folder in colab."
      ]
    },
    {
      "cell_type": "code",
      "execution_count": 35,
      "metadata": {
        "colab": {
          "base_uri": "https://localhost:8080/"
        },
        "id": "8Nlsn48tVnFc",
        "outputId": "08d91691-a94e-4c68-ee43-509282333269"
      },
      "outputs": [
        {
          "output_type": "execute_result",
          "data": {
            "text/plain": [
              "1"
            ]
          },
          "metadata": {},
          "execution_count": 35
        }
      ],
      "source": [
        "# count of processed records (number of processed pages in results)\n",
        "spark.table(\"result\").count() "
      ]
    },
    {
      "cell_type": "code",
      "execution_count": 36,
      "metadata": {
        "colab": {
          "base_uri": "https://localhost:8080/"
        },
        "id": "q04UZA8kVnFd",
        "outputId": "3662a713-1117-4562-b906-ad28ec99801b"
      },
      "outputs": [
        {
          "output_type": "stream",
          "name": "stdout",
          "text": [
            "+--------------------+-------+--------------------+--------------------+\n",
            "|           timestamp|pagenum|                path|                text|\n",
            "+--------------------+-------+--------------------+--------------------+\n",
            "|2023-01-23 13:48:...|      0|file:/content/noi...| \n",
            "\n",
            " \n",
            "\n",
            " \n",
            "\n",
            "ne Pa a ...|\n",
            "+--------------------+-------+--------------------+--------------------+\n",
            "\n"
          ]
        }
      ],
      "source": [
        "# show results\n",
        "spark.table(\"result\").select(\"timestamp\",\"pagenum\", \"path\", \"text\").show(10)"
      ]
    },
    {
      "cell_type": "markdown",
      "metadata": {
        "id": "oyPk7dD3VnFd"
      },
      "source": [
        "## Run streaming job for storing results to disk"
      ]
    },
    {
      "cell_type": "code",
      "execution_count": 37,
      "metadata": {
        "id": "z36PWzv-VnFd"
      },
      "outputs": [],
      "source": [
        "# format: could also be parquet, or csv\n",
        "# path: route to a file system location\n",
        "query = result.select(\"text\").writeStream \\\n",
        " .format('text') \\\n",
        " .option(\"path\", \"results/\") \\\n",
        " .option(\"checkpointLocation\", \"checkpointDir\") \\\n",
        " .start()"
      ]
    },
    {
      "cell_type": "code",
      "execution_count": 38,
      "metadata": {
        "id": "6IxwNFfHVnFd"
      },
      "outputs": [],
      "source": [
        "# get progress of streamig job\n",
        "query.lastProgress"
      ]
    },
    {
      "cell_type": "code",
      "execution_count": null,
      "metadata": {
        "id": "eWQ6rveKVnFe"
      },
      "outputs": [],
      "source": [
        "# need to run for stop steraming job\n",
        "query.stop()"
      ]
    },
    {
      "cell_type": "markdown",
      "metadata": {
        "id": "NGJa_r51VnFe"
      },
      "source": [
        "## Read results from disk"
      ]
    },
    {
      "cell_type": "code",
      "source": [
        "!cp /content/noised.pdf /content/noised_1.pdf"
      ],
      "metadata": {
        "id": "ewjnSxvQDuwc"
      },
      "execution_count": 40,
      "outputs": []
    },
    {
      "cell_type": "code",
      "execution_count": 42,
      "metadata": {
        "colab": {
          "base_uri": "https://localhost:8080/"
        },
        "id": "IUzerwK9VnFe",
        "outputId": "35b8143b-329a-48ec-ddd6-ee09c1b9cc52",
        "scrolled": true
      },
      "outputs": [
        {
          "output_type": "stream",
          "name": "stdout",
          "text": [
            "+----------------------------------------------------+\n",
            "|value                                               |\n",
            "+----------------------------------------------------+\n",
            "|er ‘Sample No. _ 5031 -: JS BD oats                 |\n",
            "|. Cartons --- OLD GOLD STRAIGHT                     |\n",
            "|. =, Requirements: Markings-~- Sample number on each|\n",
            "|Benzo (A) Pyrene Analyses — T/C -CF~ O.C S51: Fee - |\n",
            "|                                                    |\n",
            "| , BLEND CASING RECASING                            |\n",
            "|                                                    |\n",
            "|                                                    |\n",
            "|                                                    |\n",
            "|                                                    |\n",
            "|Laboratory “----- One Tray .                        |\n",
            "|| | le 4 68 fb                                      |\n",
            "|Filter Production--- -- , .                         |\n",
            "|Shipping ----------- Tot _                          |\n",
            "+----------------------------------------------------+\n",
            "\n"
          ]
        }
      ],
      "source": [
        "results = spark.read.format(\"text\").load(\"results/*.txt\")\n",
        "results.sample(.1).show(truncate=False)"
      ]
    },
    {
      "cell_type": "markdown",
      "metadata": {
        "id": "3BEWgzNPVnFe"
      },
      "source": [
        "## Clean results and checkpoint folders"
      ]
    },
    {
      "cell_type": "code",
      "execution_count": null,
      "metadata": {
        "id": "-a5ZHZLcVnFe"
      },
      "outputs": [],
      "source": [
        "%%bash\n",
        "rm -r -f results\n",
        "rm -r -f checkpointDir"
      ]
    }
  ],
  "metadata": {
    "colab": {
      "name": "6.1.SparkOcrStreamingPDF.ipynb",
      "provenance": []
    },
    "kernelspec": {
      "display_name": "Python 3 (ipykernel)",
      "language": "python",
      "name": "python3"
    },
    "language_info": {
      "codemirror_mode": {
        "name": "ipython",
        "version": 3
      },
      "file_extension": ".py",
      "mimetype": "text/x-python",
      "name": "python",
      "nbconvert_exporter": "python",
      "pygments_lexer": "ipython3",
      "version": "3.7.5"
    }
  },
  "nbformat": 4,
  "nbformat_minor": 0
}
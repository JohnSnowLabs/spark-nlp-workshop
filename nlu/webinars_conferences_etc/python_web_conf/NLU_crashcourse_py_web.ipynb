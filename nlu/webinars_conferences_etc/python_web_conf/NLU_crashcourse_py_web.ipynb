{
  "nbformat": 4,
  "nbformat_minor": 0,
  "metadata": {
    "colab": {
      "name": "NLU_crashcourse_py_web.ipynb",
      "provenance": [],
      "collapsed_sections": []
    },
    "kernelspec": {
      "name": "python3",
      "display_name": "Python 3"
    },
    "language_info": {
      "name": "python"
    }
  },
  "cells": [
    {
      "cell_type": "markdown",
      "metadata": {
        "id": "o8rERttgz2WZ"
      },
      "source": [
        "![JohnSnowLabs](https://nlp.johnsnowlabs.com/assets/images/logo.png)\n",
        "\n",
        "[![Open In Colab](https://colab.research.google.com/assets/colab-badge.svg)](https://colab.research.google.com/github/JohnSnowLabs/nlu/blob/master/examples/webinars_conferences_etc/python_web_conf/NLU_crashcourse_py_web.ipynb)\n",
        "\n",
        "\n",
        "<div>\n",
        "<img src=\"https://2021.pythonwebconf.com/images/pwcgenericlogo-opt2.jpg\" width=\"400\"  height=\"250\" >\n",
        "</div>\n",
        "\n",
        "\n",
        "\n",
        "\n",
        "# NLU 20 Minutes Crashcourse - the fast Data Science route\n",
        "This short notebook will teach you a lot of things!\n",
        "- Sentiment classification, binary, multi class and regressive\n",
        "- Extract Parts of Speech (POS)\n",
        "- Extract Named Entities (NER)\n",
        "- Extract Keywords (YAKE!)\n",
        "- Answer Open and Closed book questions with T5\n",
        "- Summarize text and more with Multi task T5\n",
        "- Translate text with Microsofts Marian Model\n",
        "- Train a Multi Lingual Classifier for 100+ languages from a dataset with just one language\n",
        "\n",
        "## More ressources \n",
        "- [Join our Slack](https://join.slack.com/t/spark-nlp/shared_invite/zt-lutct9gm-kuUazcyFKhuGY3_0AMkxqA)\n",
        "- [NLU Website](https://nlu.johnsnowlabs.com/)\n",
        "- [NLU Github](https://github.com/JohnSnowLabs/nlu)\n",
        "- [Many more NLU example tutorials](https://github.com/JohnSnowLabs/nlu/tree/master/examples)\n",
        "- [Overview of every powerful nlu 1-liner](https://nlu.johnsnowlabs.com/docs/en/examples)\n",
        "- [Checkout the Modelshub for an overview of all models](https://nlp.johnsnowlabs.com/models) \n",
        "- [Checkout the NLU Namespace where you can find every model as a tabel](https://nlu.johnsnowlabs.com/docs/en/spellbook)\n",
        "- [Intro to NLU article](https://medium.com/spark-nlp/1-line-of-code-350-nlp-models-with-john-snow-labs-nlu-in-python-2f1c55bba619)\n",
        "- [Indepth and easy Sentence Similarity Tutorial, with StackOverflow Questions using BERTology embeddings](https://medium.com/spark-nlp/easy-sentence-similarity-with-bert-sentence-embeddings-using-john-snow-labs-nlu-ea078deb6ebf)\n",
        "- [1 line of Python code for BERT, ALBERT, ELMO, ELECTRA, XLNET, GLOVE, Part of Speech with NLU and t-SNE](https://medium.com/spark-nlp/1-line-of-code-for-bert-albert-elmo-electra-xlnet-glove-part-of-speech-with-nlu-and-t-sne-9ebcd5379cd)"
      ]
    },
    {
      "cell_type": "markdown",
      "metadata": {
        "id": "GAVkEjc2l_jv"
      },
      "source": [
        "# Install NLU\n",
        "You need Java8, Pyspark and Spark-NLP installed, [see the installation guide for instructions](https://nlu.johnsnowlabs.com/docs/en/install). If you need help or run into troubles, [ping us on slack :)](https://join.slack.com/t/spark-nlp/shared_invite/zt-lutct9gm-kuUazcyFKhuGY3_0AMkxqA) "
      ]
    },
    {
      "cell_type": "code",
      "metadata": {
        "id": "jW47xThBKEhm"
      },
      "source": [
        "import os\n",
        "! apt-get update -qq > /dev/null   \n",
        "# Install java\n",
        "! apt-get install -y openjdk-8-jdk-headless -qq > /dev/null\n",
        "os.environ[\"JAVA_HOME\"] = \"/usr/lib/jvm/java-8-openjdk-amd64\"\n",
        "os.environ[\"PATH\"] = os.environ[\"JAVA_HOME\"] + \"/bin:\" + os.environ[\"PATH\"]\n",
        "! pip install nlu pyspark==2.4.7 > /dev/null    \n",
        "import nlu"
      ],
      "execution_count": 1,
      "outputs": []
    },
    {
      "cell_type": "markdown",
      "metadata": {
        "id": "jNw8mtj2jJyS"
      },
      "source": [
        "# Simple NLU basics on Strings"
      ]
    },
    {
      "cell_type": "markdown",
      "metadata": {
        "id": "cr3HrpqX0Lju"
      },
      "source": [
        "## Context based spell Checking in 1 line\n",
        "\n",
        "![Spell Check](https://i.imgflip.com/52wb7w.jpg)"
      ]
    },
    {
      "cell_type": "code",
      "metadata": {
        "colab": {
          "base_uri": "https://localhost:8080/",
          "height": 317
        },
        "id": "yiU5oCWGz31e",
        "outputId": "5d145fb5-bf6c-4346-d695-cf22f3041ede"
      },
      "source": [
        "nlu.load('spell').predict('I also liek to live dangertus')"
      ],
      "execution_count": 2,
      "outputs": [
        {
          "output_type": "stream",
          "text": [
            "spellcheck_dl download started this may take some time.\n",
            "Approximate size to download 112.2 MB\n",
            "[OK!]\n"
          ],
          "name": "stdout"
        },
        {
          "output_type": "execute_result",
          "data": {
            "text/html": [
              "<div>\n",
              "<style scoped>\n",
              "    .dataframe tbody tr th:only-of-type {\n",
              "        vertical-align: middle;\n",
              "    }\n",
              "\n",
              "    .dataframe tbody tr th {\n",
              "        vertical-align: top;\n",
              "    }\n",
              "\n",
              "    .dataframe thead th {\n",
              "        text-align: right;\n",
              "    }\n",
              "</style>\n",
              "<table border=\"1\" class=\"dataframe\">\n",
              "  <thead>\n",
              "    <tr style=\"text-align: right;\">\n",
              "      <th></th>\n",
              "      <th>spell</th>\n",
              "      <th>token</th>\n",
              "    </tr>\n",
              "    <tr>\n",
              "      <th>origin_index</th>\n",
              "      <th></th>\n",
              "      <th></th>\n",
              "    </tr>\n",
              "  </thead>\n",
              "  <tbody>\n",
              "    <tr>\n",
              "      <th>0</th>\n",
              "      <td>I</td>\n",
              "      <td>I</td>\n",
              "    </tr>\n",
              "    <tr>\n",
              "      <th>0</th>\n",
              "      <td>also</td>\n",
              "      <td>also</td>\n",
              "    </tr>\n",
              "    <tr>\n",
              "      <th>0</th>\n",
              "      <td>like</td>\n",
              "      <td>liek</td>\n",
              "    </tr>\n",
              "    <tr>\n",
              "      <th>0</th>\n",
              "      <td>to</td>\n",
              "      <td>to</td>\n",
              "    </tr>\n",
              "    <tr>\n",
              "      <th>0</th>\n",
              "      <td>live</td>\n",
              "      <td>live</td>\n",
              "    </tr>\n",
              "    <tr>\n",
              "      <th>0</th>\n",
              "      <td>dangerous</td>\n",
              "      <td>dangertus</td>\n",
              "    </tr>\n",
              "  </tbody>\n",
              "</table>\n",
              "</div>"
            ],
            "text/plain": [
              "                  spell      token\n",
              "origin_index                      \n",
              "0                     I          I\n",
              "0                  also       also\n",
              "0                  like       liek\n",
              "0                    to         to\n",
              "0                  live       live\n",
              "0             dangerous  dangertus"
            ]
          },
          "metadata": {
            "tags": []
          },
          "execution_count": 2
        }
      ]
    },
    {
      "cell_type": "markdown",
      "metadata": {
        "id": "EbRSJNNE0XH7"
      },
      "source": [
        "## Binary Sentiment classification in 1 Line\n",
        "![Binary Sentiment](https://cdn.pixabay.com/photo/2015/11/13/10/07/smiley-1041796_960_720.jpg)\n"
      ]
    },
    {
      "cell_type": "code",
      "metadata": {
        "colab": {
          "base_uri": "https://localhost:8080/",
          "height": 162
        },
        "id": "Kr7JAcnr0Khb",
        "outputId": "7ee86f82-50af-45cf-9366-9d332c515f52"
      },
      "source": [
        "nlu.load('sentiment').predict('I love NLU and rainy days!')"
      ],
      "execution_count": 3,
      "outputs": [
        {
          "output_type": "stream",
          "text": [
            "analyze_sentiment download started this may take some time.\n",
            "Approx size to download 4.9 MB\n",
            "[OK!]\n"
          ],
          "name": "stdout"
        },
        {
          "output_type": "execute_result",
          "data": {
            "text/html": [
              "<div>\n",
              "<style scoped>\n",
              "    .dataframe tbody tr th:only-of-type {\n",
              "        vertical-align: middle;\n",
              "    }\n",
              "\n",
              "    .dataframe tbody tr th {\n",
              "        vertical-align: top;\n",
              "    }\n",
              "\n",
              "    .dataframe thead th {\n",
              "        text-align: right;\n",
              "    }\n",
              "</style>\n",
              "<table border=\"1\" class=\"dataframe\">\n",
              "  <thead>\n",
              "    <tr style=\"text-align: right;\">\n",
              "      <th></th>\n",
              "      <th>sentiment</th>\n",
              "      <th>checked</th>\n",
              "      <th>sentiment_confidence</th>\n",
              "      <th>sentence</th>\n",
              "    </tr>\n",
              "    <tr>\n",
              "      <th>origin_index</th>\n",
              "      <th></th>\n",
              "      <th></th>\n",
              "      <th></th>\n",
              "      <th></th>\n",
              "    </tr>\n",
              "  </thead>\n",
              "  <tbody>\n",
              "    <tr>\n",
              "      <th>0</th>\n",
              "      <td>positive</td>\n",
              "      <td>[I, love, NLU, and, rainy, days, !]</td>\n",
              "      <td>0.688000</td>\n",
              "      <td>I love NLU and rainy days!</td>\n",
              "    </tr>\n",
              "  </tbody>\n",
              "</table>\n",
              "</div>"
            ],
            "text/plain": [
              "             sentiment  ...                    sentence\n",
              "origin_index            ...                            \n",
              "0             positive  ...  I love NLU and rainy days!\n",
              "\n",
              "[1 rows x 4 columns]"
            ]
          },
          "metadata": {
            "tags": []
          },
          "execution_count": 3
        }
      ]
    },
    {
      "cell_type": "markdown",
      "metadata": {
        "id": "p0z4S7kF0aeT"
      },
      "source": [
        "## Part of Speech (POS) in 1 line\n",
        "![Parts of Speech](https://image.shutterstock.com/image-photo/blackboard-background-written-colorful-chalk-600w-1166166529.jpg)\n",
        "\n",
        "|Tag |Description | Example|\n",
        "|------|------------|------|\n",
        "|CC| Coordinating conjunction | This batch of mushroom stew is savory **and** delicious    |\n",
        "|CD| Cardinal number | Here are **five** coins    |\n",
        "|DT| Determiner | **The** bunny went home    |\n",
        "|EX| Existential there | **There** is a storm coming    |\n",
        "|FW| Foreign word | I'm having a **déjà vu**    |\n",
        "|IN| Preposition or subordinating conjunction | He is cleverer **than** I am   |\n",
        "|JJ| Adjective | She wore a **beautiful** dress    |\n",
        "|JJR| Adjective, comparative | My house is **bigger** than yours    |\n",
        "|JJS| Adjective, superlative | I am the **shortest** person in my family   |\n",
        "|LS| List item marker | A number of things need to be considered before starting a business **,** such as premises **,** finance **,** product demand **,** staffing and access to customers |\n",
        "|MD| Modal | You **must** stop when the traffic lights turn red    |\n",
        "|NN| Noun, singular or mass | The **dog** likes to run    |\n",
        "|NNS| Noun, plural | The **cars** are fast    |\n",
        "|NNP| Proper noun, singular | I ordered the chair from **Amazon**  |\n",
        "|NNPS| Proper noun, plural | We visted the **Kennedys**   |\n",
        "|PDT| Predeterminer | **Both** the children had a toy   |\n",
        "|POS| Possessive ending | I built the dog'**s** house    |\n",
        "|PRP| Personal pronoun | **You** need to stop    |\n",
        "|PRP$| Possessive pronoun | Remember not to judge a book by **its** cover |\n",
        "|RB| Adverb | The dog barks **loudly**    |\n",
        "|RBR| Adverb, comparative | Could you sing more **quietly** please?   |\n",
        "|RBS| Adverb, superlative | Everyone in the race ran fast, but John ran **the fastest** of all    |\n",
        "|RP| Particle | He ate **up** all his dinner    |\n",
        "|SYM| Symbol | What are you doing **?**    |\n",
        "|TO| to | Please send it back **to** me    |\n",
        "|UH| Interjection | **Wow!** You look gorgeous    |\n",
        "|VB| Verb, base form | We **play** soccer |\n",
        "|VBD| Verb, past tense | I **worked** at a restaurant    |\n",
        "|VBG| Verb, gerund or present participle | **Smoking** kills people   |\n",
        "|VBN| Verb, past participle | She has **done** her homework    |\n",
        "|VBP| Verb, non-3rd person singular present | You **flit** from place to place    |\n",
        "|VBZ| Verb, 3rd person singular present | He never **calls** me    |\n",
        "|WDT| Wh-determiner | The store honored the complaints, **which** were less than 25 days old    |\n",
        "|WP| Wh-pronoun | **Who** can help me?    |\n",
        "|WP\\$| Possessive wh-pronoun | **Whose** fault is it?    |\n",
        "|WRB| Wh-adverb | **Where** are you going?  |"
      ]
    },
    {
      "cell_type": "code",
      "metadata": {
        "colab": {
          "base_uri": "https://localhost:8080/",
          "height": 441
        },
        "id": "49-eCSZQ0cQa",
        "outputId": "41e93932-54e9-4c99-8419-7a6974689a73"
      },
      "source": [
        "nlu.load('pos').predict('POS assigns each token in a sentence a grammatical label')"
      ],
      "execution_count": 4,
      "outputs": [
        {
          "output_type": "stream",
          "text": [
            "pos_anc download started this may take some time.\n",
            "Approximate size to download 4.3 MB\n",
            "[OK!]\n"
          ],
          "name": "stdout"
        },
        {
          "output_type": "execute_result",
          "data": {
            "text/html": [
              "<div>\n",
              "<style scoped>\n",
              "    .dataframe tbody tr th:only-of-type {\n",
              "        vertical-align: middle;\n",
              "    }\n",
              "\n",
              "    .dataframe tbody tr th {\n",
              "        vertical-align: top;\n",
              "    }\n",
              "\n",
              "    .dataframe thead th {\n",
              "        text-align: right;\n",
              "    }\n",
              "</style>\n",
              "<table border=\"1\" class=\"dataframe\">\n",
              "  <thead>\n",
              "    <tr style=\"text-align: right;\">\n",
              "      <th></th>\n",
              "      <th>pos</th>\n",
              "      <th>token</th>\n",
              "    </tr>\n",
              "    <tr>\n",
              "      <th>origin_index</th>\n",
              "      <th></th>\n",
              "      <th></th>\n",
              "    </tr>\n",
              "  </thead>\n",
              "  <tbody>\n",
              "    <tr>\n",
              "      <th>0</th>\n",
              "      <td>NNP</td>\n",
              "      <td>POS</td>\n",
              "    </tr>\n",
              "    <tr>\n",
              "      <th>0</th>\n",
              "      <td>NNS</td>\n",
              "      <td>assigns</td>\n",
              "    </tr>\n",
              "    <tr>\n",
              "      <th>0</th>\n",
              "      <td>DT</td>\n",
              "      <td>each</td>\n",
              "    </tr>\n",
              "    <tr>\n",
              "      <th>0</th>\n",
              "      <td>NN</td>\n",
              "      <td>token</td>\n",
              "    </tr>\n",
              "    <tr>\n",
              "      <th>0</th>\n",
              "      <td>IN</td>\n",
              "      <td>in</td>\n",
              "    </tr>\n",
              "    <tr>\n",
              "      <th>0</th>\n",
              "      <td>DT</td>\n",
              "      <td>a</td>\n",
              "    </tr>\n",
              "    <tr>\n",
              "      <th>0</th>\n",
              "      <td>NN</td>\n",
              "      <td>sentence</td>\n",
              "    </tr>\n",
              "    <tr>\n",
              "      <th>0</th>\n",
              "      <td>DT</td>\n",
              "      <td>a</td>\n",
              "    </tr>\n",
              "    <tr>\n",
              "      <th>0</th>\n",
              "      <td>JJ</td>\n",
              "      <td>grammatical</td>\n",
              "    </tr>\n",
              "    <tr>\n",
              "      <th>0</th>\n",
              "      <td>NN</td>\n",
              "      <td>label</td>\n",
              "    </tr>\n",
              "  </tbody>\n",
              "</table>\n",
              "</div>"
            ],
            "text/plain": [
              "              pos        token\n",
              "origin_index                  \n",
              "0             NNP          POS\n",
              "0             NNS      assigns\n",
              "0              DT         each\n",
              "0              NN        token\n",
              "0              IN           in\n",
              "0              DT            a\n",
              "0              NN     sentence\n",
              "0              DT            a\n",
              "0              JJ  grammatical\n",
              "0              NN        label"
            ]
          },
          "metadata": {
            "tags": []
          },
          "execution_count": 4
        }
      ]
    },
    {
      "cell_type": "markdown",
      "metadata": {
        "id": "2-ih6TXc0d6x"
      },
      "source": [
        "## Named Entity Recognition (NER) in 1 line\n",
        "\n",
        "![NER](http://ckl-it.de/wp-content/uploads/2021/02/ner-1.png)\n",
        "\n",
        "|Type | \tDescription |\n",
        "|------|--------------|\n",
        "| PERSON | \tPeople, including fictional like **Harry Potter** |\n",
        "| NORP | \tNationalities or religious or political groups like the **Germans** |\n",
        "| FAC | \tBuildings, airports, highways, bridges, etc. like **New York Airport** |\n",
        "| ORG | \tCompanies, agencies, institutions, etc. like **Microsoft** |\n",
        "| GPE | \tCountries, cities, states. like **Germany** |\n",
        "| LOC | \tNon-GPE locations, mountain ranges, bodies of water. Like the **Sahara desert**|\n",
        "| PRODUCT | \tObjects, vehicles, foods, etc. (Not services.) like **playstation** |\n",
        "| EVENT | \tNamed hurricanes, battles, wars, sports events, etc. like **hurricane Katrina**|\n",
        "| WORK_OF_ART | \tTitles of books, songs, etc. Like **Mona Lisa** |\n",
        "| LAW | \tNamed documents made into laws. Like : **Declaration of Independence** |\n",
        "| LANGUAGE | \tAny named language. Like **Turkish**|\n",
        "| DATE | \tAbsolute or relative dates or periods. Like every second **friday**|\n",
        "| TIME | \tTimes smaller than a day. Like **every minute**|\n",
        "| PERCENT | \tPercentage, including ”%“. Like **55%** of workers enjoy their work |\n",
        "| MONEY | \tMonetary values, including unit. Like **50$** for those pants |\n",
        "| QUANTITY | \tMeasurements, as of weight or distance. Like this person weights **50kg** |\n",
        "| ORDINAL | \t“first”, “second”, etc. Like David placed **first** in the tournament |\n",
        "| CARDINAL | \tNumerals that do not fall under another type. Like **hundreds** of models are avaiable in NLU |\n"
      ]
    },
    {
      "cell_type": "code",
      "metadata": {
        "colab": {
          "base_uri": "https://localhost:8080/",
          "height": 255
        },
        "id": "zoDjsSxx0eJY",
        "outputId": "aa2a4f93-fd95-4ed5-e7e1-06d43c371442"
      },
      "source": [
        "nlu.load('ner').predict(\"John Snow Labs congratulates the Amarican John Biden to winning the American election!\", output_level='chunk')"
      ],
      "execution_count": 5,
      "outputs": [
        {
          "output_type": "stream",
          "text": [
            "onto_recognize_entities_sm download started this may take some time.\n",
            "Approx size to download 159 MB\n",
            "[OK!]\n"
          ],
          "name": "stdout"
        },
        {
          "output_type": "execute_result",
          "data": {
            "text/html": [
              "<div>\n",
              "<style scoped>\n",
              "    .dataframe tbody tr th:only-of-type {\n",
              "        vertical-align: middle;\n",
              "    }\n",
              "\n",
              "    .dataframe tbody tr th {\n",
              "        vertical-align: top;\n",
              "    }\n",
              "\n",
              "    .dataframe thead th {\n",
              "        text-align: right;\n",
              "    }\n",
              "</style>\n",
              "<table border=\"1\" class=\"dataframe\">\n",
              "  <thead>\n",
              "    <tr style=\"text-align: right;\">\n",
              "      <th></th>\n",
              "      <th>embeddings</th>\n",
              "      <th>ner_confidence</th>\n",
              "      <th>entities</th>\n",
              "      <th>entities_class</th>\n",
              "    </tr>\n",
              "    <tr>\n",
              "      <th>origin_index</th>\n",
              "      <th></th>\n",
              "      <th></th>\n",
              "      <th></th>\n",
              "      <th></th>\n",
              "    </tr>\n",
              "  </thead>\n",
              "  <tbody>\n",
              "    <tr>\n",
              "      <th>0</th>\n",
              "      <td>[[-0.2747400104999542, 0.48680999875068665, -0...</td>\n",
              "      <td>[0.8730999827384949, 0.8913000226020813, 0.615...</td>\n",
              "      <td>John Snow Labs</td>\n",
              "      <td>PERSON</td>\n",
              "    </tr>\n",
              "    <tr>\n",
              "      <th>0</th>\n",
              "      <td>[[-0.2747400104999542, 0.48680999875068665, -0...</td>\n",
              "      <td>[0.8730999827384949, 0.8913000226020813, 0.615...</td>\n",
              "      <td>the Amarican</td>\n",
              "      <td>PERSON</td>\n",
              "    </tr>\n",
              "    <tr>\n",
              "      <th>0</th>\n",
              "      <td>[[-0.2747400104999542, 0.48680999875068665, -0...</td>\n",
              "      <td>[0.8730999827384949, 0.8913000226020813, 0.615...</td>\n",
              "      <td>John Biden</td>\n",
              "      <td>PERSON</td>\n",
              "    </tr>\n",
              "    <tr>\n",
              "      <th>0</th>\n",
              "      <td>[[-0.2747400104999542, 0.48680999875068665, -0...</td>\n",
              "      <td>[0.8730999827384949, 0.8913000226020813, 0.615...</td>\n",
              "      <td>American</td>\n",
              "      <td>NORP</td>\n",
              "    </tr>\n",
              "  </tbody>\n",
              "</table>\n",
              "</div>"
            ],
            "text/plain": [
              "                                                     embeddings  ... entities_class\n",
              "origin_index                                                     ...               \n",
              "0             [[-0.2747400104999542, 0.48680999875068665, -0...  ...         PERSON\n",
              "0             [[-0.2747400104999542, 0.48680999875068665, -0...  ...         PERSON\n",
              "0             [[-0.2747400104999542, 0.48680999875068665, -0...  ...         PERSON\n",
              "0             [[-0.2747400104999542, 0.48680999875068665, -0...  ...           NORP\n",
              "\n",
              "[4 rows x 4 columns]"
            ]
          },
          "metadata": {
            "tags": []
          },
          "execution_count": 5
        }
      ]
    },
    {
      "cell_type": "markdown",
      "metadata": {
        "id": "RcvxNNeXt83u"
      },
      "source": [
        "# Let's apply NLU to a dataset!\n",
        "\n",
        "<div>\n",
        "<img src=\"http://ckl-it.de/wp-content/uploads/2021/02/crypto.jpeg \" width=\"400\"  height=\"250\" >\n",
        "</div>\n"
      ]
    },
    {
      "cell_type": "code",
      "metadata": {
        "colab": {
          "base_uri": "https://localhost:8080/"
        },
        "id": "lKbaoFLMsIRA",
        "outputId": "8372512c-d7ba-4d86-f18a-0ac2ae7f4fbe"
      },
      "source": [
        "import pandas as pd \n",
        "import nlu\n",
        "!wget http://ckl-it.de/wp-content/uploads/2020/12/small_btc.csv \n",
        "df = pd.read_csv('/content/small_btc.csv').iloc[0:5000].title\n",
        "df\n",
        "\n"
      ],
      "execution_count": 2,
      "outputs": [
        {
          "output_type": "stream",
          "text": [
            "--2021-03-24 09:32:01--  http://ckl-it.de/wp-content/uploads/2020/12/small_btc.csv\n",
            "Resolving ckl-it.de (ckl-it.de)... 217.160.0.108, 2001:8d8:100f:f000::209\n",
            "Connecting to ckl-it.de (ckl-it.de)|217.160.0.108|:80... connected.\n",
            "HTTP request sent, awaiting response... 200 OK\n",
            "Length: 22244914 (21M) [text/csv]\n",
            "Saving to: ‘small_btc.csv’\n",
            "\n",
            "small_btc.csv       100%[===================>]  21.21M  6.62MB/s    in 3.5s    \n",
            "\n",
            "2021-03-24 09:32:04 (6.06 MB/s) - ‘small_btc.csv’ saved [22244914/22244914]\n",
            "\n"
          ],
          "name": "stdout"
        },
        {
          "output_type": "execute_result",
          "data": {
            "text/plain": [
              "0          Bitcoin Price Update: Will China Lead us Down?\n",
              "1       Key Bitcoin Price Levels for Week 51 (15 – 22 ...\n",
              "2       National Australia Bank, Citing Highly Flawed ...\n",
              "3       Chinese Bitcoin Ban Driven by  Chinese Banking...\n",
              "4                   Bitcoin Trade Update: Opened Position\n",
              "                              ...                        \n",
              "1995    Bitcoin Bill Pay Company Living Room of Satosh...\n",
              "1996    NYDFS Extends BitLicense Bitcoin Regulation Co...\n",
              "1997    Bitfinex Passes Stefan Thomas’s Proof Of Solve...\n",
              "1998    Cryptocurrency Exchange Platform AlphaPoint Pa...\n",
              "1999    Want to Buy And Sell Bitcoin Fast and Secure? ...\n",
              "Name: title, Length: 2000, dtype: object"
            ]
          },
          "metadata": {
            "tags": []
          },
          "execution_count": 2
        }
      ]
    },
    {
      "cell_type": "markdown",
      "metadata": {
        "id": "AMFwC0jX_dCT"
      },
      "source": [
        "## NER on a Crypto News dataset\n",
        "### The **NER** model which you can load via `nlu.load('ner')` recognizes 18 different classes in your dataset.\n",
        "We set output level to chunk, so that we get 1 row per NER class.\n",
        "\n",
        "\n",
        "#### Predicted entities:\n",
        "\n",
        "\n",
        "NER is avaiable in many languages, which you can [find in the John Snow Labs Modelshub](https://nlp.johnsnowlabs.com/models)"
      ]
    },
    {
      "cell_type": "markdown",
      "metadata": {
        "id": "tyqcrtFmBlmP"
      },
      "source": [
        ""
      ]
    },
    {
      "cell_type": "code",
      "metadata": {
        "colab": {
          "base_uri": "https://localhost:8080/",
          "height": 468
        },
        "id": "aUGAomeusNVv",
        "outputId": "29449f46-d86c-4a3b-e935-fa8af3182fcb"
      },
      "source": [
        "ner_df = nlu.load('ner').predict(df, output_level = 'chunk')\n",
        "ner_df "
      ],
      "execution_count": 3,
      "outputs": [
        {
          "output_type": "stream",
          "text": [
            "onto_recognize_entities_sm download started this may take some time.\n",
            "Approx size to download 159 MB\n",
            "[OK!]\n"
          ],
          "name": "stdout"
        },
        {
          "output_type": "execute_result",
          "data": {
            "text/html": [
              "<div>\n",
              "<style scoped>\n",
              "    .dataframe tbody tr th:only-of-type {\n",
              "        vertical-align: middle;\n",
              "    }\n",
              "\n",
              "    .dataframe tbody tr th {\n",
              "        vertical-align: top;\n",
              "    }\n",
              "\n",
              "    .dataframe thead th {\n",
              "        text-align: right;\n",
              "    }\n",
              "</style>\n",
              "<table border=\"1\" class=\"dataframe\">\n",
              "  <thead>\n",
              "    <tr style=\"text-align: right;\">\n",
              "      <th></th>\n",
              "      <th>entities</th>\n",
              "      <th>embeddings</th>\n",
              "      <th>entities_class</th>\n",
              "      <th>text</th>\n",
              "      <th>ner_confidence</th>\n",
              "      <th>title</th>\n",
              "    </tr>\n",
              "    <tr>\n",
              "      <th>origin_index</th>\n",
              "      <th></th>\n",
              "      <th></th>\n",
              "      <th></th>\n",
              "      <th></th>\n",
              "      <th></th>\n",
              "      <th></th>\n",
              "    </tr>\n",
              "  </thead>\n",
              "  <tbody>\n",
              "    <tr>\n",
              "      <th>0</th>\n",
              "      <td>China</td>\n",
              "      <td>[[0.8403199911117554, 0.13267000019550323, -0....</td>\n",
              "      <td>GPE</td>\n",
              "      <td>Bitcoin Price Update: Will China Lead us Down?</td>\n",
              "      <td>[0.9883000254631042, 0.9390000104904175, 0.683...</td>\n",
              "      <td>Bitcoin Price Update: Will China Lead us Down?</td>\n",
              "    </tr>\n",
              "    <tr>\n",
              "      <th>1</th>\n",
              "      <td>Week 51</td>\n",
              "      <td>[[-0.22009000182151794, 0.12280000001192093, 0...</td>\n",
              "      <td>DATE</td>\n",
              "      <td>Key Bitcoin Price Levels for Week 51 (15 – 22 ...</td>\n",
              "      <td>[0.9914000034332275, 0.35839998722076416, 0.97...</td>\n",
              "      <td>Key Bitcoin Price Levels for Week 51 (15 – 22 ...</td>\n",
              "    </tr>\n",
              "    <tr>\n",
              "      <th>1</th>\n",
              "      <td>15 – 22 Dec</td>\n",
              "      <td>[[-0.22009000182151794, 0.12280000001192093, 0...</td>\n",
              "      <td>DATE</td>\n",
              "      <td>Key Bitcoin Price Levels for Week 51 (15 – 22 ...</td>\n",
              "      <td>[0.9914000034332275, 0.35839998722076416, 0.97...</td>\n",
              "      <td>Key Bitcoin Price Levels for Week 51 (15 – 22 ...</td>\n",
              "    </tr>\n",
              "    <tr>\n",
              "      <th>2</th>\n",
              "      <td>Australia</td>\n",
              "      <td>[[-0.003313800087198615, 0.3894599974155426, 0...</td>\n",
              "      <td>GPE</td>\n",
              "      <td>National Australia Bank, Citing Highly Flawed ...</td>\n",
              "      <td>[0.9890000224113464, 0.5931000113487244, 0.880...</td>\n",
              "      <td>National Australia Bank, Citing Highly Flawed ...</td>\n",
              "    </tr>\n",
              "    <tr>\n",
              "      <th>3</th>\n",
              "      <td>Chinese</td>\n",
              "      <td>[[0.4327400028705597, 0.3958199918270111, 0.58...</td>\n",
              "      <td>NORP</td>\n",
              "      <td>Chinese Bitcoin Ban Driven by  Chinese Banking...</td>\n",
              "      <td>[0.9958000183105469, 0.9733999967575073, 0.883...</td>\n",
              "      <td>Chinese Bitcoin Ban Driven by  Chinese Banking...</td>\n",
              "    </tr>\n",
              "    <tr>\n",
              "      <th>...</th>\n",
              "      <td>...</td>\n",
              "      <td>...</td>\n",
              "      <td>...</td>\n",
              "      <td>...</td>\n",
              "      <td>...</td>\n",
              "      <td>...</td>\n",
              "    </tr>\n",
              "    <tr>\n",
              "      <th>1992</th>\n",
              "      <td>2015</td>\n",
              "      <td>[[0.48750001192092896, 0.4214000105857849, 0.0...</td>\n",
              "      <td>DATE</td>\n",
              "      <td>IBM to Unveil Bitcoin Blockchain Internet of T...</td>\n",
              "      <td>[0.9929999709129333, 0.9976999759674072, 0.622...</td>\n",
              "      <td>IBM to Unveil Bitcoin Blockchain Internet of T...</td>\n",
              "    </tr>\n",
              "    <tr>\n",
              "      <th>1994</th>\n",
              "      <td>Two</td>\n",
              "      <td>[[0.49737000465393066, 0.7104099988937378, 0.6...</td>\n",
              "      <td>CARDINAL</td>\n",
              "      <td>Butterfly Labs Announces Two Two Week Delays… ...</td>\n",
              "      <td>[0.9810000061988831, 0.5486999750137329, 0.347...</td>\n",
              "      <td>Butterfly Labs Announces Two Two Week Delays… ...</td>\n",
              "    </tr>\n",
              "    <tr>\n",
              "      <th>1994</th>\n",
              "      <td>Week</td>\n",
              "      <td>[[0.49737000465393066, 0.7104099988937378, 0.6...</td>\n",
              "      <td>DATE</td>\n",
              "      <td>Butterfly Labs Announces Two Two Week Delays… ...</td>\n",
              "      <td>[0.9810000061988831, 0.5486999750137329, 0.347...</td>\n",
              "      <td>Butterfly Labs Announces Two Two Week Delays… ...</td>\n",
              "    </tr>\n",
              "    <tr>\n",
              "      <th>1994</th>\n",
              "      <td>0.45W/GH</td>\n",
              "      <td>[[0.49737000465393066, 0.7104099988937378, 0.6...</td>\n",
              "      <td>CARDINAL</td>\n",
              "      <td>Butterfly Labs Announces Two Two Week Delays… ...</td>\n",
              "      <td>[0.9810000061988831, 0.5486999750137329, 0.347...</td>\n",
              "      <td>Butterfly Labs Announces Two Two Week Delays… ...</td>\n",
              "    </tr>\n",
              "    <tr>\n",
              "      <th>1997</th>\n",
              "      <td>Bitfinex Passes</td>\n",
              "      <td>[[0.0, 0.0, 0.0, 0.0, 0.0, 0.0, 0.0, 0.0, 0.0,...</td>\n",
              "      <td>PERSON</td>\n",
              "      <td>Bitfinex Passes Stefan Thomas’s Proof Of Solve...</td>\n",
              "      <td>[0.6801000237464905, 0.7791000008583069, 0.531...</td>\n",
              "      <td>Bitfinex Passes Stefan Thomas’s Proof Of Solve...</td>\n",
              "    </tr>\n",
              "  </tbody>\n",
              "</table>\n",
              "<p>1553 rows × 6 columns</p>\n",
              "</div>"
            ],
            "text/plain": [
              "                     entities  ...                                              title\n",
              "origin_index                   ...                                                   \n",
              "0                       China  ...     Bitcoin Price Update: Will China Lead us Down?\n",
              "1                     Week 51  ...  Key Bitcoin Price Levels for Week 51 (15 – 22 ...\n",
              "1                 15 – 22 Dec  ...  Key Bitcoin Price Levels for Week 51 (15 – 22 ...\n",
              "2                   Australia  ...  National Australia Bank, Citing Highly Flawed ...\n",
              "3                     Chinese  ...  Chinese Bitcoin Ban Driven by  Chinese Banking...\n",
              "...                       ...  ...                                                ...\n",
              "1992                     2015  ...  IBM to Unveil Bitcoin Blockchain Internet of T...\n",
              "1994                      Two  ...  Butterfly Labs Announces Two Two Week Delays… ...\n",
              "1994                     Week  ...  Butterfly Labs Announces Two Two Week Delays… ...\n",
              "1994                 0.45W/GH  ...  Butterfly Labs Announces Two Two Week Delays… ...\n",
              "1997          Bitfinex Passes  ...  Bitfinex Passes Stefan Thomas’s Proof Of Solve...\n",
              "\n",
              "[1553 rows x 6 columns]"
            ]
          },
          "metadata": {
            "tags": []
          },
          "execution_count": 3
        }
      ]
    },
    {
      "cell_type": "markdown",
      "metadata": {
        "id": "6gC7S2vqBpT1"
      },
      "source": [
        "### Top 50 Named Entities"
      ]
    },
    {
      "cell_type": "code",
      "metadata": {
        "id": "aKSSgTC-sVq8",
        "colab": {
          "base_uri": "https://localhost:8080/",
          "height": 1000
        },
        "outputId": "9159a42a-35c0-4792-9e4b-7999b6d78859"
      },
      "source": [
        "ner_df.entities.value_counts()[:100].plot.barh(figsize = (16,20))"
      ],
      "execution_count": 4,
      "outputs": [
        {
          "output_type": "execute_result",
          "data": {
            "text/plain": [
              "<matplotlib.axes._subplots.AxesSubplot at 0x7fa5a44cf9d0>"
            ]
          },
          "metadata": {
            "tags": []
          },
          "execution_count": 4
        },
        {
          "output_type": "display_data",
          "data": {
            "image/png": "[encoded data removed]",
            "text/plain": [
              "<Figure size 1152x1440 with 1 Axes>"
            ]
          },
          "metadata": {
            "tags": [],
            "needs_background": "light"
          }
        }
      ]
    },
    {
      "cell_type": "markdown",
      "metadata": {
        "id": "ElYjed34Bu8T"
      },
      "source": [
        "### Top 50 Named Entities which are PERSONS"
      ]
    },
    {
      "cell_type": "code",
      "metadata": {
        "id": "rynx78HUvQJI",
        "colab": {
          "base_uri": "https://localhost:8080/",
          "height": 1000
        },
        "outputId": "55a8048f-7163-44c6-e553-dc9948054d6b"
      },
      "source": [
        "ner_df[ner_df.entities_class == 'PERSON'].entities.value_counts()[:50].plot.barh(figsize=(18,20), title ='Top 50 Occuring Persons in the dataset')"
      ],
      "execution_count": 5,
      "outputs": [
        {
          "output_type": "execute_result",
          "data": {
            "text/plain": [
              "<matplotlib.axes._subplots.AxesSubplot at 0x7fa5a0651310>"
            ]
          },
          "metadata": {
            "tags": []
          },
          "execution_count": 5
        },
        {
          "output_type": "display_data",
          "data": {
            "image/png": "[encoded data removed]",
            "text/plain": [
              "<Figure size 1296x1440 with 1 Axes>"
            ]
          },
          "metadata": {
            "tags": [],
            "needs_background": "light"
          }
        }
      ]
    },
    {
      "cell_type": "markdown",
      "metadata": {
        "id": "B8oAF_MCBxyN"
      },
      "source": [
        "### Top 50 Named Entities which are Countries/Cities/States"
      ]
    },
    {
      "cell_type": "code",
      "metadata": {
        "colab": {
          "base_uri": "https://localhost:8080/",
          "height": 1000
        },
        "id": "IEiIMsFj9v2n",
        "outputId": "ed8a761c-5f81-4f1d-e0aa-e02a67908a21"
      },
      "source": [
        "ner_df[ner_df.entities_class == 'GPE'].entities.value_counts()[:50].plot.barh(figsize=(18,20),title ='Top 50 Countries/Cities/States Occuring in the dataset')"
      ],
      "execution_count": 6,
      "outputs": [
        {
          "output_type": "execute_result",
          "data": {
            "text/plain": [
              "<matplotlib.axes._subplots.AxesSubplot at 0x7fa59eddf090>"
            ]
          },
          "metadata": {
            "tags": []
          },
          "execution_count": 6
        },
        {
          "output_type": "display_data",
          "data": {
            "image/png": "[encoded data removed]",
            "text/plain": [
              "<Figure size 1296x1440 with 1 Axes>"
            ]
          },
          "metadata": {
            "tags": [],
            "needs_background": "light"
          }
        }
      ]
    },
    {
      "cell_type": "markdown",
      "metadata": {
        "id": "JiHofegqB0sM"
      },
      "source": [
        "### Top 50 Named Entities which are PRODUCTS "
      ]
    },
    {
      "cell_type": "code",
      "metadata": {
        "colab": {
          "base_uri": "https://localhost:8080/",
          "height": 1000
        },
        "id": "coeW-Kgs92fH",
        "outputId": "41933bd9-9089-4755-9d05-cf127001d1c8"
      },
      "source": [
        "ner_df[ner_df.entities_class == 'PRODUCT'].entities.value_counts()[:50].plot.barh(figsize=(18,20),title ='Top 50 products occuring in the dataset')"
      ],
      "execution_count": 7,
      "outputs": [
        {
          "output_type": "execute_result",
          "data": {
            "text/plain": [
              "<matplotlib.axes._subplots.AxesSubplot at 0x7fa59ec28c90>"
            ]
          },
          "metadata": {
            "tags": []
          },
          "execution_count": 7
        },
        {
          "output_type": "display_data",
          "data": {
            "image/png": "[encoded data removed]",
            "text/plain": [
              "<Figure size 1296x1440 with 1 Axes>"
            ]
          },
          "metadata": {
            "tags": [],
            "needs_background": "light"
          }
        }
      ]
    },
    {
      "cell_type": "markdown",
      "metadata": {
        "id": "ybfGwL9-B7MN"
      },
      "source": [
        "### Top 50 Named Entities which are ORGANIZATIONS"
      ]
    },
    {
      "cell_type": "code",
      "metadata": {
        "colab": {
          "base_uri": "https://localhost:8080/",
          "height": 1000
        },
        "id": "4ng-TNYu--09",
        "outputId": "997938ab-e90f-4199-fe3c-b97c947d7596"
      },
      "source": [
        "ner_df[ner_df.entities_class == 'ORG'].entities.value_counts()[:50].plot.barh(figsize=(18,20),title ='Top 50 products occuring in the dataset')"
      ],
      "execution_count": 8,
      "outputs": [
        {
          "output_type": "execute_result",
          "data": {
            "text/plain": [
              "<matplotlib.axes._subplots.AxesSubplot at 0x7fa59e980390>"
            ]
          },
          "metadata": {
            "tags": []
          },
          "execution_count": 8
        },
        {
          "output_type": "display_data",
          "data": {
            "image/png": "[encoded data removed]",
            "text/plain": [
              "<Figure size 1296x1440 with 1 Axes>"
            ]
          },
          "metadata": {
            "tags": [],
            "needs_background": "light"
          }
        }
      ]
    },
    {
      "cell_type": "markdown",
      "metadata": {
        "id": "p73T7MyeU2kS"
      },
      "source": [
        "## YAKE on a Crypto News dataset\n",
        "### The **YAKE!** model (Yet Another Keyword Extractor) is a **unsupervised** keyword extraction algorithm.\n",
        "You can load it via   which you can load via `nlu.load('yake')`. It has no weights and is very fast.\n",
        "It has various parameters that can be configured to influence which keywords are beeing extracted, [here for an more indepth YAKE guide](https://github.com/JohnSnowLabs/nlu/blob/master/examples/webinars_conferences_etc/multi_lingual_webinar/1_NLU_base_features_on_dataset_with_YAKE_Lemma_Stemm_classifiers_NER_.ipynb)"
      ]
    },
    {
      "cell_type": "code",
      "metadata": {
        "colab": {
          "base_uri": "https://localhost:8080/",
          "height": 620
        },
        "id": "Zu8-yar9VLqO",
        "outputId": "c600244c-7cca-4218-8cee-b55b0db82503"
      },
      "source": [
        "yake_df = nlu.load('yake').predict(df)\n",
        "yake_df"
      ],
      "execution_count": 9,
      "outputs": [
        {
          "output_type": "execute_result",
          "data": {
            "text/html": [
              "<div>\n",
              "<style scoped>\n",
              "    .dataframe tbody tr th:only-of-type {\n",
              "        vertical-align: middle;\n",
              "    }\n",
              "\n",
              "    .dataframe tbody tr th {\n",
              "        vertical-align: top;\n",
              "    }\n",
              "\n",
              "    .dataframe thead th {\n",
              "        text-align: right;\n",
              "    }\n",
              "</style>\n",
              "<table border=\"1\" class=\"dataframe\">\n",
              "  <thead>\n",
              "    <tr style=\"text-align: right;\">\n",
              "      <th></th>\n",
              "      <th>keywords_classes</th>\n",
              "      <th>text</th>\n",
              "      <th>keywords_confidences</th>\n",
              "      <th>document</th>\n",
              "      <th>title</th>\n",
              "    </tr>\n",
              "    <tr>\n",
              "      <th>origin_index</th>\n",
              "      <th></th>\n",
              "      <th></th>\n",
              "      <th></th>\n",
              "      <th></th>\n",
              "      <th></th>\n",
              "    </tr>\n",
              "  </thead>\n",
              "  <tbody>\n",
              "    <tr>\n",
              "      <th>0</th>\n",
              "      <td>[update, china, china lead]</td>\n",
              "      <td>Bitcoin Price Update: Will China Lead us Down?</td>\n",
              "      <td>[0.579886257648468, 0.579886257648468, 0.50663...</td>\n",
              "      <td>Bitcoin Price Update: Will China Lead us Down?</td>\n",
              "      <td>Bitcoin Price Update: Will China Lead us Down?</td>\n",
              "    </tr>\n",
              "    <tr>\n",
              "      <th>1</th>\n",
              "      <td>[price, levels, price levels]</td>\n",
              "      <td>Key Bitcoin Price Levels for Week 51 (15 – 22 ...</td>\n",
              "      <td>[0.579886257648468, 0.579886257648468, 0.50663...</td>\n",
              "      <td>Key Bitcoin Price Levels for Week 51 (15 – 22 ...</td>\n",
              "      <td>Key Bitcoin Price Levels for Week 51 (15 – 22 ...</td>\n",
              "    </tr>\n",
              "    <tr>\n",
              "      <th>2</th>\n",
              "      <td>[bubble, citing highly flawed, highly flawed d...</td>\n",
              "      <td>National Australia Bank, Citing Highly Flawed ...</td>\n",
              "      <td>[0.28654029965400696, 0.19553975760936737, 0.1...</td>\n",
              "      <td>National Australia Bank, Citing Highly Flawed ...</td>\n",
              "      <td>National Australia Bank, Citing Highly Flawed ...</td>\n",
              "    </tr>\n",
              "    <tr>\n",
              "      <th>3</th>\n",
              "      <td>[ban driven, banking crisis, bitcoin ban driven]</td>\n",
              "      <td>Chinese Bitcoin Ban Driven by  Chinese Banking...</td>\n",
              "      <td>[0.29364120960235596, 0.29364120960235596, 0.2...</td>\n",
              "      <td>Chinese Bitcoin Ban Driven by Chinese Banking ...</td>\n",
              "      <td>Chinese Bitcoin Ban Driven by  Chinese Banking...</td>\n",
              "    </tr>\n",
              "    <tr>\n",
              "      <th>4</th>\n",
              "      <td>[update, position, opened position]</td>\n",
              "      <td>Bitcoin Trade Update: Opened Position</td>\n",
              "      <td>[0.579886257648468, 0.26804494857788086, 0.184...</td>\n",
              "      <td>Bitcoin Trade Update: Opened Position</td>\n",
              "      <td>Bitcoin Trade Update: Opened Position</td>\n",
              "    </tr>\n",
              "    <tr>\n",
              "      <th>...</th>\n",
              "      <td>...</td>\n",
              "      <td>...</td>\n",
              "      <td>...</td>\n",
              "      <td>...</td>\n",
              "      <td>...</td>\n",
              "    </tr>\n",
              "    <tr>\n",
              "      <th>1995</th>\n",
              "      <td>[operations, resumes operations, satoshi resum...</td>\n",
              "      <td>Bitcoin Bill Pay Company Living Room of Satosh...</td>\n",
              "      <td>[0.26804494857788086, 0.1840423047542572, 0.16...</td>\n",
              "      <td>Bitcoin Bill Pay Company Living Room of Satosh...</td>\n",
              "      <td>Bitcoin Bill Pay Company Living Room of Satosh...</td>\n",
              "    </tr>\n",
              "    <tr>\n",
              "      <th>1996</th>\n",
              "      <td>[period, comment period, regulation comment pe...</td>\n",
              "      <td>NYDFS Extends BitLicense Bitcoin Regulation Co...</td>\n",
              "      <td>[0.26804494857788086, 0.1840423047542572, 0.16...</td>\n",
              "      <td>NYDFS Extends BitLicense Bitcoin Regulation Co...</td>\n",
              "      <td>NYDFS Extends BitLicense Bitcoin Regulation Co...</td>\n",
              "    </tr>\n",
              "    <tr>\n",
              "      <th>1997</th>\n",
              "      <td>[proof, audit, solvency audit]</td>\n",
              "      <td>Bitfinex Passes Stefan Thomas’s Proof Of Solve...</td>\n",
              "      <td>[0.579886257648468, 0.26804494857788086, 0.184...</td>\n",
              "      <td>Bitfinex Passes Stefan Thomas’s Proof Of Solve...</td>\n",
              "      <td>Bitfinex Passes Stefan Thomas’s Proof Of Solve...</td>\n",
              "    </tr>\n",
              "    <tr>\n",
              "      <th>1998</th>\n",
              "      <td>[platform, growth, support growth]</td>\n",
              "      <td>Cryptocurrency Exchange Platform AlphaPoint Pa...</td>\n",
              "      <td>[0.579886257648468, 0.26804494857788086, 0.184...</td>\n",
              "      <td>Cryptocurrency Exchange Platform AlphaPoint Pa...</td>\n",
              "      <td>Cryptocurrency Exchange Platform AlphaPoint Pa...</td>\n",
              "    </tr>\n",
              "    <tr>\n",
              "      <th>1999</th>\n",
              "      <td>[bitcoin fast, try coinrnr, sell bitcoin fast]</td>\n",
              "      <td>Want to Buy And Sell Bitcoin Fast and Secure? ...</td>\n",
              "      <td>[0.28912684321403503, 0.22583627700805664, 0.1...</td>\n",
              "      <td>Want to Buy And Sell Bitcoin Fast and Secure? ...</td>\n",
              "      <td>Want to Buy And Sell Bitcoin Fast and Secure? ...</td>\n",
              "    </tr>\n",
              "  </tbody>\n",
              "</table>\n",
              "<p>2000 rows × 5 columns</p>\n",
              "</div>"
            ],
            "text/plain": [
              "                                               keywords_classes  ...                                              title\n",
              "origin_index                                                     ...                                                   \n",
              "0                                   [update, china, china lead]  ...     Bitcoin Price Update: Will China Lead us Down?\n",
              "1                                 [price, levels, price levels]  ...  Key Bitcoin Price Levels for Week 51 (15 – 22 ...\n",
              "2             [bubble, citing highly flawed, highly flawed d...  ...  National Australia Bank, Citing Highly Flawed ...\n",
              "3              [ban driven, banking crisis, bitcoin ban driven]  ...  Chinese Bitcoin Ban Driven by  Chinese Banking...\n",
              "4                           [update, position, opened position]  ...              Bitcoin Trade Update: Opened Position\n",
              "...                                                         ...  ...                                                ...\n",
              "1995          [operations, resumes operations, satoshi resum...  ...  Bitcoin Bill Pay Company Living Room of Satosh...\n",
              "1996          [period, comment period, regulation comment pe...  ...  NYDFS Extends BitLicense Bitcoin Regulation Co...\n",
              "1997                             [proof, audit, solvency audit]  ...  Bitfinex Passes Stefan Thomas’s Proof Of Solve...\n",
              "1998                         [platform, growth, support growth]  ...  Cryptocurrency Exchange Platform AlphaPoint Pa...\n",
              "1999             [bitcoin fast, try coinrnr, sell bitcoin fast]  ...  Want to Buy And Sell Bitcoin Fast and Secure? ...\n",
              "\n",
              "[2000 rows x 5 columns]"
            ]
          },
          "metadata": {
            "tags": []
          },
          "execution_count": 9
        }
      ]
    },
    {
      "cell_type": "markdown",
      "metadata": {
        "id": "VJxjIrgdWZ0M"
      },
      "source": [
        "### Top 50 extracted Keywords with YAKE!"
      ]
    },
    {
      "cell_type": "code",
      "metadata": {
        "colab": {
          "base_uri": "https://localhost:8080/",
          "height": 1000
        },
        "id": "CMXkeiCLVo4u",
        "outputId": "eadc6f60-b279-4d2c-dbad-539121cc9402"
      },
      "source": [
        "yake_df.explode('keywords_classes').keywords_classes.value_counts()[0:50].plot.barh(figsize=(14,18))"
      ],
      "execution_count": 10,
      "outputs": [
        {
          "output_type": "execute_result",
          "data": {
            "text/plain": [
              "<matplotlib.axes._subplots.AxesSubplot at 0x7fa59ec1fbd0>"
            ]
          },
          "metadata": {
            "tags": []
          },
          "execution_count": 10
        },
        {
          "output_type": "display_data",
          "data": {
            "image/png": "[encoded data removed]",
            "text/plain": [
              "<Figure size 1008x1296 with 1 Axes>"
            ]
          },
          "metadata": {
            "tags": [],
            "needs_background": "light"
          }
        }
      ]
    },
    {
      "cell_type": "markdown",
      "metadata": {
        "id": "gXoYzE_RBaaj"
      },
      "source": [
        "## Binary Sentimental Analysis and Distribution on a dataset"
      ]
    },
    {
      "cell_type": "code",
      "metadata": {
        "colab": {
          "base_uri": "https://localhost:8080/",
          "height": 671
        },
        "id": "yjHx4TR3_SMe",
        "outputId": "7fb175d7-9314-4521-f3e3-aaa80f2eafa1"
      },
      "source": [
        "sent_df = nlu.load('sentiment').predict(df)\n",
        "sent_df"
      ],
      "execution_count": 11,
      "outputs": [
        {
          "output_type": "stream",
          "text": [
            "analyze_sentiment download started this may take some time.\n",
            "Approx size to download 4.9 MB\n",
            "[OK!]\n"
          ],
          "name": "stdout"
        },
        {
          "output_type": "execute_result",
          "data": {
            "text/html": [
              "<div>\n",
              "<style scoped>\n",
              "    .dataframe tbody tr th:only-of-type {\n",
              "        vertical-align: middle;\n",
              "    }\n",
              "\n",
              "    .dataframe tbody tr th {\n",
              "        vertical-align: top;\n",
              "    }\n",
              "\n",
              "    .dataframe thead th {\n",
              "        text-align: right;\n",
              "    }\n",
              "</style>\n",
              "<table border=\"1\" class=\"dataframe\">\n",
              "  <thead>\n",
              "    <tr style=\"text-align: right;\">\n",
              "      <th></th>\n",
              "      <th>sentiment_confidence</th>\n",
              "      <th>sentence</th>\n",
              "      <th>sentiment</th>\n",
              "      <th>text</th>\n",
              "      <th>checked</th>\n",
              "      <th>title</th>\n",
              "    </tr>\n",
              "    <tr>\n",
              "      <th>origin_index</th>\n",
              "      <th></th>\n",
              "      <th></th>\n",
              "      <th></th>\n",
              "      <th></th>\n",
              "      <th></th>\n",
              "      <th></th>\n",
              "    </tr>\n",
              "  </thead>\n",
              "  <tbody>\n",
              "    <tr>\n",
              "      <th>0</th>\n",
              "      <td>0.748000</td>\n",
              "      <td>Bitcoin Price Update: Will China Lead us Down?</td>\n",
              "      <td>negative</td>\n",
              "      <td>Bitcoin Price Update: Will China Lead us Down?</td>\n",
              "      <td>[Bitcoin, Price, Update, :, Will, China, Lead,...</td>\n",
              "      <td>Bitcoin Price Update: Will China Lead us Down?</td>\n",
              "    </tr>\n",
              "    <tr>\n",
              "      <th>1</th>\n",
              "      <td>0.788100</td>\n",
              "      <td>Key Bitcoin Price Levels for Week 51 (15 – 22 ...</td>\n",
              "      <td>positive</td>\n",
              "      <td>Key Bitcoin Price Levels for Week 51 (15 – 22 ...</td>\n",
              "      <td>[Key, Bitcoin, Price, Levels, for, Week, 51, (...</td>\n",
              "      <td>Key Bitcoin Price Levels for Week 51 (15 – 22 ...</td>\n",
              "    </tr>\n",
              "    <tr>\n",
              "      <th>2</th>\n",
              "      <td>0.385700</td>\n",
              "      <td>National Australia Bank, Citing Highly Flawed ...</td>\n",
              "      <td>positive</td>\n",
              "      <td>National Australia Bank, Citing Highly Flawed ...</td>\n",
              "      <td>[National, Australia, Bank, ,, Citing, Highly,...</td>\n",
              "      <td>National Australia Bank, Citing Highly Flawed ...</td>\n",
              "    </tr>\n",
              "    <tr>\n",
              "      <th>3</th>\n",
              "      <td>0.935000</td>\n",
              "      <td>Chinese Bitcoin Ban Driven by  Chinese Banking...</td>\n",
              "      <td>negative</td>\n",
              "      <td>Chinese Bitcoin Ban Driven by  Chinese Banking...</td>\n",
              "      <td>[Chinese, Bitcoin, Ban, Driven, by, Chinese, B...</td>\n",
              "      <td>Chinese Bitcoin Ban Driven by  Chinese Banking...</td>\n",
              "    </tr>\n",
              "    <tr>\n",
              "      <th>4</th>\n",
              "      <td>0.836900</td>\n",
              "      <td>Bitcoin Trade Update: Opened Position</td>\n",
              "      <td>negative</td>\n",
              "      <td>Bitcoin Trade Update: Opened Position</td>\n",
              "      <td>[Bitcoin, Trade, Update, :, opened, Position]</td>\n",
              "      <td>Bitcoin Trade Update: Opened Position</td>\n",
              "    </tr>\n",
              "    <tr>\n",
              "      <th>...</th>\n",
              "      <td>...</td>\n",
              "      <td>...</td>\n",
              "      <td>...</td>\n",
              "      <td>...</td>\n",
              "      <td>...</td>\n",
              "      <td>...</td>\n",
              "    </tr>\n",
              "    <tr>\n",
              "      <th>1996</th>\n",
              "      <td>0.500000</td>\n",
              "      <td>NYDFS Extends BitLicense Bitcoin Regulation Co...</td>\n",
              "      <td>positive</td>\n",
              "      <td>NYDFS Extends BitLicense Bitcoin Regulation Co...</td>\n",
              "      <td>[NYDFS, extends, BitLicense, Bitcoin, Regulati...</td>\n",
              "      <td>NYDFS Extends BitLicense Bitcoin Regulation Co...</td>\n",
              "    </tr>\n",
              "    <tr>\n",
              "      <th>1997</th>\n",
              "      <td>0.579300</td>\n",
              "      <td>Bitfinex Passes Stefan Thomas’s Proof Of Solve...</td>\n",
              "      <td>negative</td>\n",
              "      <td>Bitfinex Passes Stefan Thomas’s Proof Of Solve...</td>\n",
              "      <td>[Bitfinex, passes, Stefan, Thomas’s, Proof, Of...</td>\n",
              "      <td>Bitfinex Passes Stefan Thomas’s Proof Of Solve...</td>\n",
              "    </tr>\n",
              "    <tr>\n",
              "      <th>1998</th>\n",
              "      <td>0.652500</td>\n",
              "      <td>Cryptocurrency Exchange Platform AlphaPoint Pa...</td>\n",
              "      <td>negative</td>\n",
              "      <td>Cryptocurrency Exchange Platform AlphaPoint Pa...</td>\n",
              "      <td>[Cryptocurrency, Exchange, platform, AlphaPoin...</td>\n",
              "      <td>Cryptocurrency Exchange Platform AlphaPoint Pa...</td>\n",
              "    </tr>\n",
              "    <tr>\n",
              "      <th>1999</th>\n",
              "      <td>0.555900</td>\n",
              "      <td>Want to Buy And Sell Bitcoin Fast and Secure?</td>\n",
              "      <td>negative</td>\n",
              "      <td>Want to Buy And Sell Bitcoin Fast and Secure? ...</td>\n",
              "      <td>[Want, to, Buy, And, Sell, Bitcoin, Fast, and,...</td>\n",
              "      <td>Want to Buy And Sell Bitcoin Fast and Secure? ...</td>\n",
              "    </tr>\n",
              "    <tr>\n",
              "      <th>1999</th>\n",
              "      <td>1.000000</td>\n",
              "      <td>Try CoinRNR</td>\n",
              "      <td>positive</td>\n",
              "      <td>Want to Buy And Sell Bitcoin Fast and Secure? ...</td>\n",
              "      <td>[Want, to, Buy, And, Sell, Bitcoin, Fast, and,...</td>\n",
              "      <td>Want to Buy And Sell Bitcoin Fast and Secure? ...</td>\n",
              "    </tr>\n",
              "  </tbody>\n",
              "</table>\n",
              "<p>2069 rows × 6 columns</p>\n",
              "</div>"
            ],
            "text/plain": [
              "             sentiment_confidence  ...                                              title\n",
              "origin_index                       ...                                                   \n",
              "0                        0.748000  ...     Bitcoin Price Update: Will China Lead us Down?\n",
              "1                        0.788100  ...  Key Bitcoin Price Levels for Week 51 (15 – 22 ...\n",
              "2                        0.385700  ...  National Australia Bank, Citing Highly Flawed ...\n",
              "3                        0.935000  ...  Chinese Bitcoin Ban Driven by  Chinese Banking...\n",
              "4                        0.836900  ...              Bitcoin Trade Update: Opened Position\n",
              "...                           ...  ...                                                ...\n",
              "1996                     0.500000  ...  NYDFS Extends BitLicense Bitcoin Regulation Co...\n",
              "1997                     0.579300  ...  Bitfinex Passes Stefan Thomas’s Proof Of Solve...\n",
              "1998                     0.652500  ...  Cryptocurrency Exchange Platform AlphaPoint Pa...\n",
              "1999                     0.555900  ...  Want to Buy And Sell Bitcoin Fast and Secure? ...\n",
              "1999                     1.000000  ...  Want to Buy And Sell Bitcoin Fast and Secure? ...\n",
              "\n",
              "[2069 rows x 6 columns]"
            ]
          },
          "metadata": {
            "tags": []
          },
          "execution_count": 11
        }
      ]
    },
    {
      "cell_type": "code",
      "metadata": {
        "colab": {
          "base_uri": "https://localhost:8080/",
          "height": 332
        },
        "id": "3LHQb5biErAv",
        "outputId": "e746302b-5a68-4ac4-babc-7c84400ac578"
      },
      "source": [
        "sent_df.sentiment.value_counts().plot.bar(title='Sentiment ')"
      ],
      "execution_count": 12,
      "outputs": [
        {
          "output_type": "execute_result",
          "data": {
            "text/plain": [
              "<matplotlib.axes._subplots.AxesSubplot at 0x7fa59ed7b590>"
            ]
          },
          "metadata": {
            "tags": []
          },
          "execution_count": 12
        },
        {
          "output_type": "display_data",
          "data": {
            "image/png": "[encoded data removed]",
            "text/plain": [
              "<Figure size 432x288 with 1 Axes>"
            ]
          },
          "metadata": {
            "tags": [],
            "needs_background": "light"
          }
        }
      ]
    },
    {
      "cell_type": "markdown",
      "metadata": {
        "id": "3a3xxhUSCDhJ"
      },
      "source": [
        "## Emotional Analysis and Distribution of Headlines "
      ]
    },
    {
      "cell_type": "code",
      "metadata": {
        "colab": {
          "base_uri": "https://localhost:8080/",
          "height": 824
        },
        "id": "rrYi4f1PEpV3",
        "outputId": "bf386441-f4e4-4ca1-f6a7-8d964b1b27e1"
      },
      "source": [
        "emo_df = nlu.load('emotion').predict(df)\n",
        "emo_df"
      ],
      "execution_count": 13,
      "outputs": [
        {
          "output_type": "stream",
          "text": [
            "classifierdl_use_emotion download started this may take some time.\n",
            "Approximate size to download 21.3 MB\n",
            "[OK!]\n",
            "tfhub_use download started this may take some time.\n",
            "Approximate size to download 923.7 MB\n",
            "[OK!]\n",
            "\n",
            "\n",
            "\n",
            "\n",
            "\n",
            "\n"
          ],
          "name": "stdout"
        },
        {
          "output_type": "execute_result",
          "data": {
            "text/html": [
              "<div>\n",
              "<style scoped>\n",
              "    .dataframe tbody tr th:only-of-type {\n",
              "        vertical-align: middle;\n",
              "    }\n",
              "\n",
              "    .dataframe tbody tr th {\n",
              "        vertical-align: top;\n",
              "    }\n",
              "\n",
              "    .dataframe thead th {\n",
              "        text-align: right;\n",
              "    }\n",
              "</style>\n",
              "<table border=\"1\" class=\"dataframe\">\n",
              "  <thead>\n",
              "    <tr style=\"text-align: right;\">\n",
              "      <th></th>\n",
              "      <th>sentence</th>\n",
              "      <th>emotion</th>\n",
              "      <th>text</th>\n",
              "      <th>title</th>\n",
              "      <th>sentence_embeddings</th>\n",
              "      <th>emotion_confidence</th>\n",
              "    </tr>\n",
              "    <tr>\n",
              "      <th>origin_index</th>\n",
              "      <th></th>\n",
              "      <th></th>\n",
              "      <th></th>\n",
              "      <th></th>\n",
              "      <th></th>\n",
              "      <th></th>\n",
              "    </tr>\n",
              "  </thead>\n",
              "  <tbody>\n",
              "    <tr>\n",
              "      <th>0</th>\n",
              "      <td>Bitcoin Price Update: Will China Lead us Down?</td>\n",
              "      <td>fear</td>\n",
              "      <td>Bitcoin Price Update: Will China Lead us Down?</td>\n",
              "      <td>Bitcoin Price Update: Will China Lead us Down?</td>\n",
              "      <td>[0.05829371139407158, -0.036904484033584595, -...</td>\n",
              "      <td>0.998173</td>\n",
              "    </tr>\n",
              "    <tr>\n",
              "      <th>1</th>\n",
              "      <td>Key Bitcoin Price Levels for Week 51 (15 – 22 ...</td>\n",
              "      <td>joy</td>\n",
              "      <td>Key Bitcoin Price Levels for Week 51 (15 – 22 ...</td>\n",
              "      <td>Key Bitcoin Price Levels for Week 51 (15 – 22 ...</td>\n",
              "      <td>[0.038088250905275345, -0.04514157399535179, -...</td>\n",
              "      <td>0.997696</td>\n",
              "    </tr>\n",
              "    <tr>\n",
              "      <th>2</th>\n",
              "      <td>National Australia Bank, Citing Highly Flawed ...</td>\n",
              "      <td>fear</td>\n",
              "      <td>National Australia Bank, Citing Highly Flawed ...</td>\n",
              "      <td>National Australia Bank, Citing Highly Flawed ...</td>\n",
              "      <td>[0.050343189388513565, -0.013036551885306835, ...</td>\n",
              "      <td>0.999998</td>\n",
              "    </tr>\n",
              "    <tr>\n",
              "      <th>3</th>\n",
              "      <td>Chinese Bitcoin Ban Driven by Chinese Banking ...</td>\n",
              "      <td>fear</td>\n",
              "      <td>Chinese Bitcoin Ban Driven by  Chinese Banking...</td>\n",
              "      <td>Chinese Bitcoin Ban Driven by  Chinese Banking...</td>\n",
              "      <td>[0.055152829736471176, -0.05237917602062225, -...</td>\n",
              "      <td>0.999135</td>\n",
              "    </tr>\n",
              "    <tr>\n",
              "      <th>4</th>\n",
              "      <td>Bitcoin Trade Update: Opened Position</td>\n",
              "      <td>joy</td>\n",
              "      <td>Bitcoin Trade Update: Opened Position</td>\n",
              "      <td>Bitcoin Trade Update: Opened Position</td>\n",
              "      <td>[0.059269748628139496, -0.05646341294050217, -...</td>\n",
              "      <td>0.998864</td>\n",
              "    </tr>\n",
              "    <tr>\n",
              "      <th>...</th>\n",
              "      <td>...</td>\n",
              "      <td>...</td>\n",
              "      <td>...</td>\n",
              "      <td>...</td>\n",
              "      <td>...</td>\n",
              "      <td>...</td>\n",
              "    </tr>\n",
              "    <tr>\n",
              "      <th>1996</th>\n",
              "      <td>NYDFS Extends BitLicense Bitcoin Regulation Co...</td>\n",
              "      <td>fear</td>\n",
              "      <td>NYDFS Extends BitLicense Bitcoin Regulation Co...</td>\n",
              "      <td>NYDFS Extends BitLicense Bitcoin Regulation Co...</td>\n",
              "      <td>[0.0639236643910408, -0.05505230277776718, -0....</td>\n",
              "      <td>0.998281</td>\n",
              "    </tr>\n",
              "    <tr>\n",
              "      <th>1997</th>\n",
              "      <td>Bitfinex Passes Stefan Thomas’s Proof Of Solve...</td>\n",
              "      <td>fear</td>\n",
              "      <td>Bitfinex Passes Stefan Thomas’s Proof Of Solve...</td>\n",
              "      <td>Bitfinex Passes Stefan Thomas’s Proof Of Solve...</td>\n",
              "      <td>[0.059178080409765244, -0.041498005390167236, ...</td>\n",
              "      <td>0.772052</td>\n",
              "    </tr>\n",
              "    <tr>\n",
              "      <th>1998</th>\n",
              "      <td>Cryptocurrency Exchange Platform AlphaPoint Pa...</td>\n",
              "      <td>joy</td>\n",
              "      <td>Cryptocurrency Exchange Platform AlphaPoint Pa...</td>\n",
              "      <td>Cryptocurrency Exchange Platform AlphaPoint Pa...</td>\n",
              "      <td>[0.05369672179222107, -0.023480931296944618, -...</td>\n",
              "      <td>0.999348</td>\n",
              "    </tr>\n",
              "    <tr>\n",
              "      <th>1999</th>\n",
              "      <td>Want to Buy And Sell Bitcoin Fast and Secure?</td>\n",
              "      <td>fear</td>\n",
              "      <td>Want to Buy And Sell Bitcoin Fast and Secure? ...</td>\n",
              "      <td>Want to Buy And Sell Bitcoin Fast and Secure? ...</td>\n",
              "      <td>[0.0626637190580368, -0.05945301055908203, -0....</td>\n",
              "      <td>0.998905</td>\n",
              "    </tr>\n",
              "    <tr>\n",
              "      <th>1999</th>\n",
              "      <td>Try CoinRNR</td>\n",
              "      <td>fear</td>\n",
              "      <td>Want to Buy And Sell Bitcoin Fast and Secure? ...</td>\n",
              "      <td>Want to Buy And Sell Bitcoin Fast and Secure? ...</td>\n",
              "      <td>[0.02854502573609352, 0.055576108396053314, 0....</td>\n",
              "      <td>0.998905</td>\n",
              "    </tr>\n",
              "  </tbody>\n",
              "</table>\n",
              "<p>2069 rows × 6 columns</p>\n",
              "</div>"
            ],
            "text/plain": [
              "                                                       sentence  ... emotion_confidence\n",
              "origin_index                                                     ...                   \n",
              "0                Bitcoin Price Update: Will China Lead us Down?  ...           0.998173\n",
              "1             Key Bitcoin Price Levels for Week 51 (15 – 22 ...  ...           0.997696\n",
              "2             National Australia Bank, Citing Highly Flawed ...  ...           0.999998\n",
              "3             Chinese Bitcoin Ban Driven by Chinese Banking ...  ...           0.999135\n",
              "4                         Bitcoin Trade Update: Opened Position  ...           0.998864\n",
              "...                                                         ...  ...                ...\n",
              "1996          NYDFS Extends BitLicense Bitcoin Regulation Co...  ...           0.998281\n",
              "1997          Bitfinex Passes Stefan Thomas’s Proof Of Solve...  ...           0.772052\n",
              "1998          Cryptocurrency Exchange Platform AlphaPoint Pa...  ...           0.999348\n",
              "1999              Want to Buy And Sell Bitcoin Fast and Secure?  ...           0.998905\n",
              "1999                                                Try CoinRNR  ...           0.998905\n",
              "\n",
              "[2069 rows x 6 columns]"
            ]
          },
          "metadata": {
            "tags": []
          },
          "execution_count": 13
        }
      ]
    },
    {
      "cell_type": "code",
      "metadata": {
        "colab": {
          "base_uri": "https://localhost:8080/",
          "height": 329
        },
        "id": "anyAVNjFCG9H",
        "outputId": "d3f016dd-a62d-4579-db34-d3eb18c9a771"
      },
      "source": [
        "emo_df.emotion.value_counts().plot.bar(title='Emotion Distribution')\n"
      ],
      "execution_count": 14,
      "outputs": [
        {
          "output_type": "execute_result",
          "data": {
            "text/plain": [
              "<matplotlib.axes._subplots.AxesSubplot at 0x7fa5a051cb50>"
            ]
          },
          "metadata": {
            "tags": []
          },
          "execution_count": 14
        },
        {
          "output_type": "display_data",
          "data": {
            "image/png": "[encoded data removed]",
            "text/plain": [
              "<Figure size 432x288 with 1 Axes>"
            ]
          },
          "metadata": {
            "tags": [],
            "needs_background": "light"
          }
        }
      ]
    },
    {
      "cell_type": "markdown",
      "metadata": {
        "id": "a7wmKnjfiMjo"
      },
      "source": [
        "**Make sure to restart your notebook again** before starting the next section"
      ]
    },
    {
      "cell_type": "code",
      "metadata": {
        "colab": {
          "base_uri": "https://localhost:8080/",
          "height": 198
        },
        "id": "BHD2-AnQsYbX",
        "outputId": "c3da0e4d-991a-40b2-d8a0-de5bc812b0d3"
      },
      "source": [
        "print(\"Please restart kernel if you are in google colab and run next cell after the restart to configure java 8 back\")\n",
        "1+'wait'\n"
      ],
      "execution_count": 15,
      "outputs": [
        {
          "output_type": "stream",
          "text": [
            "Please restart kernel if you are in google colab and run next cell after the restart to configure java 8 back\n"
          ],
          "name": "stdout"
        },
        {
          "output_type": "error",
          "ename": "TypeError",
          "evalue": "ignored",
          "traceback": [
            "\u001b[0;31m---------------------------------------------------------------------------\u001b[0m",
            "\u001b[0;31mTypeError\u001b[0m                                 Traceback (most recent call last)",
            "\u001b[0;32m<ipython-input-15-b01dbc1fdf42>\u001b[0m in \u001b[0;36m<module>\u001b[0;34m()\u001b[0m\n\u001b[1;32m      1\u001b[0m \u001b[0mprint\u001b[0m\u001b[0;34m(\u001b[0m\u001b[0;34m\"Please restart kernel if you are in google colab and run next cell after the restart to configure java 8 back\"\u001b[0m\u001b[0;34m)\u001b[0m\u001b[0;34m\u001b[0m\u001b[0;34m\u001b[0m\u001b[0m\n\u001b[0;32m----> 2\u001b[0;31m \u001b[0;36m1\u001b[0m\u001b[0;34m+\u001b[0m\u001b[0;34m'wait'\u001b[0m\u001b[0;34m\u001b[0m\u001b[0;34m\u001b[0m\u001b[0m\n\u001b[0m",
            "\u001b[0;31mTypeError\u001b[0m: unsupported operand type(s) for +: 'int' and 'str'"
          ]
        }
      ]
    },
    {
      "cell_type": "code",
      "metadata": {
        "colab": {
          "base_uri": "https://localhost:8080/"
        },
        "id": "-EMQEjLaXFlE",
        "outputId": "65c035ad-9a0f-4870-cb6a-07af88ba7eb0"
      },
      "source": [
        "# This configures colab to use Java 8 again. \n",
        "# You need to run this in Google colab, because after restart it likes to set Java 11 as default, which will cause issues\n",
        "! echo 2 |  update-alternatives --config java\n",
        "import pandas as pd\n",
        "import nlu "
      ],
      "execution_count": 1,
      "outputs": [
        {
          "output_type": "stream",
          "text": [
            "There are 2 choices for the alternative java (providing /usr/bin/java).\n",
            "\n",
            "  Selection    Path                                            Priority   Status\n",
            "------------------------------------------------------------\n",
            "  0            /usr/lib/jvm/java-11-openjdk-amd64/bin/java      1111      auto mode\n",
            "  1            /usr/lib/jvm/java-11-openjdk-amd64/bin/java      1111      manual mode\n",
            "* 2            /usr/lib/jvm/java-8-openjdk-amd64/jre/bin/java   1081      manual mode\n",
            "\n",
            "Press <enter> to keep the current choice[*], or type selection number: "
          ],
          "name": "stdout"
        }
      ]
    },
    {
      "cell_type": "markdown",
      "metadata": {
        "id": "rN_H9hKmApll"
      },
      "source": [
        "# Answer **Closed Book** and Open **Book Questions** with Google's T5!\n",
        "\n",
        "<!-- [T5]() -->\n",
        "![T5 GIF](https://1.bp.blogspot.com/-o4oiOExxq1s/Xk26XPC3haI/AAAAAAAAFU8/NBlvOWB84L0PTYy9TzZBaLf6fwPGJTR0QCLcBGAsYHQ/s1600/image3.gif)\n",
        "\n",
        "You can load the **question answering** model with `nlu.load('en.t5')`"
      ]
    },
    {
      "cell_type": "code",
      "metadata": {
        "colab": {
          "base_uri": "https://localhost:8080/"
        },
        "id": "sKmud8AHN9yo",
        "outputId": "32fcd646-51ff-4e87-8fc9-9c7c13880098"
      },
      "source": [
        "# Load question answering T5 model\n",
        "t5_closed_question = nlu.load('en.t5')"
      ],
      "execution_count": 4,
      "outputs": [
        {
          "output_type": "stream",
          "text": [
            "google_t5_small_ssm_nq download started this may take some time.\n",
            "Approximate size to download 139 MB\n",
            "[OK!]\n"
          ],
          "name": "stdout"
        }
      ]
    },
    {
      "cell_type": "markdown",
      "metadata": {
        "id": "-F9rrWbfNyPZ"
      },
      "source": [
        "## Answer **Closed Book Questions**  \n",
        "Closed book means that no additional context is given and the model must answer the question with the knowledge stored in it's weights"
      ]
    },
    {
      "cell_type": "code",
      "metadata": {
        "colab": {
          "base_uri": "https://localhost:8080/",
          "height": 111
        },
        "id": "QsvnphOwfzVQ",
        "outputId": "47c0bb7a-cf85-4818-b0a9-2bf23371a8fd"
      },
      "source": [
        "t5_closed_question.predict(\"Who is president of Nigeria?\")"
      ],
      "execution_count": 5,
      "outputs": [
        {
          "output_type": "execute_result",
          "data": {
            "text/html": [
              "<div>\n",
              "<style scoped>\n",
              "    .dataframe tbody tr th:only-of-type {\n",
              "        vertical-align: middle;\n",
              "    }\n",
              "\n",
              "    .dataframe tbody tr th {\n",
              "        vertical-align: top;\n",
              "    }\n",
              "\n",
              "    .dataframe thead th {\n",
              "        text-align: right;\n",
              "    }\n",
              "</style>\n",
              "<table border=\"1\" class=\"dataframe\">\n",
              "  <thead>\n",
              "    <tr style=\"text-align: right;\">\n",
              "      <th></th>\n",
              "      <th>T5</th>\n",
              "      <th>document</th>\n",
              "    </tr>\n",
              "    <tr>\n",
              "      <th>origin_index</th>\n",
              "      <th></th>\n",
              "      <th></th>\n",
              "    </tr>\n",
              "  </thead>\n",
              "  <tbody>\n",
              "    <tr>\n",
              "      <th>0</th>\n",
              "      <td>Muhammadu Buhari</td>\n",
              "      <td>Who is president of Nigeria?</td>\n",
              "    </tr>\n",
              "  </tbody>\n",
              "</table>\n",
              "</div>"
            ],
            "text/plain": [
              "                            T5                      document\n",
              "origin_index                                                \n",
              "0             Muhammadu Buhari  Who is president of Nigeria?"
            ]
          },
          "metadata": {
            "tags": []
          },
          "execution_count": 5
        }
      ]
    },
    {
      "cell_type": "code",
      "metadata": {
        "colab": {
          "base_uri": "https://localhost:8080/",
          "height": 111
        },
        "id": "DcTbqAGmM6YY",
        "outputId": "98189c18-44a4-49b9-f98d-5312a8057091"
      },
      "source": [
        "t5_closed_question.predict(\"What is the most common language in India?\")"
      ],
      "execution_count": 6,
      "outputs": [
        {
          "output_type": "execute_result",
          "data": {
            "text/html": [
              "<div>\n",
              "<style scoped>\n",
              "    .dataframe tbody tr th:only-of-type {\n",
              "        vertical-align: middle;\n",
              "    }\n",
              "\n",
              "    .dataframe tbody tr th {\n",
              "        vertical-align: top;\n",
              "    }\n",
              "\n",
              "    .dataframe thead th {\n",
              "        text-align: right;\n",
              "    }\n",
              "</style>\n",
              "<table border=\"1\" class=\"dataframe\">\n",
              "  <thead>\n",
              "    <tr style=\"text-align: right;\">\n",
              "      <th></th>\n",
              "      <th>T5</th>\n",
              "      <th>document</th>\n",
              "    </tr>\n",
              "    <tr>\n",
              "      <th>origin_index</th>\n",
              "      <th></th>\n",
              "      <th></th>\n",
              "    </tr>\n",
              "  </thead>\n",
              "  <tbody>\n",
              "    <tr>\n",
              "      <th>0</th>\n",
              "      <td>Hindi</td>\n",
              "      <td>What is the most common language in India?</td>\n",
              "    </tr>\n",
              "  </tbody>\n",
              "</table>\n",
              "</div>"
            ],
            "text/plain": [
              "                 T5                                    document\n",
              "origin_index                                                   \n",
              "0             Hindi  What is the most common language in India?"
            ]
          },
          "metadata": {
            "tags": []
          },
          "execution_count": 6
        }
      ]
    },
    {
      "cell_type": "code",
      "metadata": {
        "colab": {
          "base_uri": "https://localhost:8080/",
          "height": 111
        },
        "id": "2Rb4EhK_NAb3",
        "outputId": "58955d3c-d3c6-4127-a403-687301d34019"
      },
      "source": [
        "t5_closed_question.predict(\"What is the capital of Germany?\")"
      ],
      "execution_count": 7,
      "outputs": [
        {
          "output_type": "execute_result",
          "data": {
            "text/html": [
              "<div>\n",
              "<style scoped>\n",
              "    .dataframe tbody tr th:only-of-type {\n",
              "        vertical-align: middle;\n",
              "    }\n",
              "\n",
              "    .dataframe tbody tr th {\n",
              "        vertical-align: top;\n",
              "    }\n",
              "\n",
              "    .dataframe thead th {\n",
              "        text-align: right;\n",
              "    }\n",
              "</style>\n",
              "<table border=\"1\" class=\"dataframe\">\n",
              "  <thead>\n",
              "    <tr style=\"text-align: right;\">\n",
              "      <th></th>\n",
              "      <th>T5</th>\n",
              "      <th>document</th>\n",
              "    </tr>\n",
              "    <tr>\n",
              "      <th>origin_index</th>\n",
              "      <th></th>\n",
              "      <th></th>\n",
              "    </tr>\n",
              "  </thead>\n",
              "  <tbody>\n",
              "    <tr>\n",
              "      <th>0</th>\n",
              "      <td>Berlin</td>\n",
              "      <td>What is the capital of Germany?</td>\n",
              "    </tr>\n",
              "  </tbody>\n",
              "</table>\n",
              "</div>"
            ],
            "text/plain": [
              "                  T5                         document\n",
              "origin_index                                         \n",
              "0             Berlin  What is the capital of Germany?"
            ]
          },
          "metadata": {
            "tags": []
          },
          "execution_count": 7
        }
      ]
    },
    {
      "cell_type": "markdown",
      "metadata": {
        "id": "ogxJNa5MOOQj"
      },
      "source": [
        "## Answer **Open Book Questions** \n",
        "These are questions where we give the model some additional context, that is used to answer the question"
      ]
    },
    {
      "cell_type": "code",
      "metadata": {
        "colab": {
          "base_uri": "https://localhost:8080/"
        },
        "id": "e9cwqQGtaTa5",
        "outputId": "498ca2f3-5b3a-4631-a838-5aeed27a3e87"
      },
      "source": [
        "t5_open_book = nlu.load('answer_question')"
      ],
      "execution_count": null,
      "outputs": [
        {
          "output_type": "stream",
          "text": [
            "t5_base download started this may take some time.\n",
            "Approximate size to download 446 MB\n",
            "[OK!]\n"
          ],
          "name": "stdout"
        }
      ]
    },
    {
      "cell_type": "code",
      "metadata": {
        "colab": {
          "base_uri": "https://localhost:8080/",
          "height": 142
        },
        "id": "OB5GOHxPYUYM",
        "outputId": "34026416-03dd-4196-aaec-dfd97c52b590"
      },
      "source": [
        "context   = 'Peters last week was terrible! He had an accident and broke his leg while skiing!'\n",
        "question1  = 'Why was peters week so bad?' \n",
        "question2  = 'How did peter broke his leg?' \n",
        "\n",
        "t5_open_book.predict([question1+context, question2 + context]) "
      ],
      "execution_count": null,
      "outputs": [
        {
          "output_type": "execute_result",
          "data": {
            "text/html": [
              "<div>\n",
              "<style scoped>\n",
              "    .dataframe tbody tr th:only-of-type {\n",
              "        vertical-align: middle;\n",
              "    }\n",
              "\n",
              "    .dataframe tbody tr th {\n",
              "        vertical-align: top;\n",
              "    }\n",
              "\n",
              "    .dataframe thead th {\n",
              "        text-align: right;\n",
              "    }\n",
              "</style>\n",
              "<table border=\"1\" class=\"dataframe\">\n",
              "  <thead>\n",
              "    <tr style=\"text-align: right;\">\n",
              "      <th></th>\n",
              "      <th>T5</th>\n",
              "      <th>document</th>\n",
              "    </tr>\n",
              "    <tr>\n",
              "      <th>origin_index</th>\n",
              "      <th></th>\n",
              "      <th></th>\n",
              "    </tr>\n",
              "  </thead>\n",
              "  <tbody>\n",
              "    <tr>\n",
              "      <th>0</th>\n",
              "      <td>He had an accident and broke his leg while skiing</td>\n",
              "      <td>Why was peters week so bad?Peters last week wa...</td>\n",
              "    </tr>\n",
              "    <tr>\n",
              "      <th>1</th>\n",
              "      <td>skiing</td>\n",
              "      <td>How did peter broke his leg?Peters last week w...</td>\n",
              "    </tr>\n",
              "  </tbody>\n",
              "</table>\n",
              "</div>"
            ],
            "text/plain": [
              "                                                             T5                                           document\n",
              "origin_index                                                                                                      \n",
              "0             He had an accident and broke his leg while skiing  Why was peters week so bad?Peters last week wa...\n",
              "1                                                        skiing  How did peter broke his leg?Peters last week w..."
            ]
          },
          "metadata": {
            "tags": []
          },
          "execution_count": 11
        }
      ]
    },
    {
      "cell_type": "code",
      "metadata": {
        "id": "kZb_BdGm1-yc"
      },
      "source": [
        "# Ask T5 questions in the context of a News Article\n",
        "question1 = 'Who is Jack ma?'\n",
        "question2 = 'Who is founder of Alibaba Group?'\n",
        "question3 = 'When did Jack Ma re-appear?'\n",
        "question4 = 'How did Alibaba stocks react?'\n",
        "question5 = 'Whom did Jack Ma meet?'\n",
        "question6 = 'Who did Jack Ma hide from?'\n",
        "\n",
        "\n",
        "# from https://www.bbc.com/news/business-55728338 \n",
        "news_article_context = \"\"\" context:\n",
        "Alibaba Group founder Jack Ma has made his first appearance since Chinese regulators cracked down on his business empire.\n",
        "His absence had fuelled speculation over his whereabouts amid increasing official scrutiny of his businesses.\n",
        "The billionaire met 100 rural teachers in China via a video meeting on Wednesday, according to local government media.\n",
        "Alibaba shares surged 5% on Hong Kong's stock exchange on the news.\n",
        "\"\"\"\n",
        "\n",
        "questions = [\n",
        "             question1+ news_article_context,\n",
        "             question2+ news_article_context,\n",
        "             question3+ news_article_context,\n",
        "             question4+ news_article_context,\n",
        "             question5+ news_article_context,\n",
        "             question6+ news_article_context,]\n",
        "\n"
      ],
      "execution_count": null,
      "outputs": []
    },
    {
      "cell_type": "code",
      "metadata": {
        "colab": {
          "base_uri": "https://localhost:8080/",
          "height": 266
        },
        "id": "e0kTj4ZN4kJi",
        "outputId": "96f6d139-4911-444e-b914-e9f2302fe137"
      },
      "source": [
        "t5_open_book.predict(questions)"
      ],
      "execution_count": null,
      "outputs": [
        {
          "output_type": "execute_result",
          "data": {
            "text/html": [
              "<div>\n",
              "<style scoped>\n",
              "    .dataframe tbody tr th:only-of-type {\n",
              "        vertical-align: middle;\n",
              "    }\n",
              "\n",
              "    .dataframe tbody tr th {\n",
              "        vertical-align: top;\n",
              "    }\n",
              "\n",
              "    .dataframe thead th {\n",
              "        text-align: right;\n",
              "    }\n",
              "</style>\n",
              "<table border=\"1\" class=\"dataframe\">\n",
              "  <thead>\n",
              "    <tr style=\"text-align: right;\">\n",
              "      <th></th>\n",
              "      <th>T5</th>\n",
              "      <th>document</th>\n",
              "    </tr>\n",
              "    <tr>\n",
              "      <th>origin_index</th>\n",
              "      <th></th>\n",
              "      <th></th>\n",
              "    </tr>\n",
              "  </thead>\n",
              "  <tbody>\n",
              "    <tr>\n",
              "      <th>0</th>\n",
              "      <td>Alibaba Group founder</td>\n",
              "      <td>Who is Jack ma? context: Alibaba Group founder...</td>\n",
              "    </tr>\n",
              "    <tr>\n",
              "      <th>1</th>\n",
              "      <td>Jack Ma</td>\n",
              "      <td>Who is founder of Alibaba Group? context: Alib...</td>\n",
              "    </tr>\n",
              "    <tr>\n",
              "      <th>2</th>\n",
              "      <td>Wednesday</td>\n",
              "      <td>When did Jack Ma re-appear? context: Alibaba G...</td>\n",
              "    </tr>\n",
              "    <tr>\n",
              "      <th>3</th>\n",
              "      <td>surged 5%</td>\n",
              "      <td>How did Alibaba stocks react? context: Alibaba...</td>\n",
              "    </tr>\n",
              "    <tr>\n",
              "      <th>4</th>\n",
              "      <td>100 rural teachers</td>\n",
              "      <td>Whom did Jack Ma meet? context: Alibaba Group ...</td>\n",
              "    </tr>\n",
              "    <tr>\n",
              "      <th>5</th>\n",
              "      <td>Chinese regulators</td>\n",
              "      <td>Who did Jack Ma hide from? context: Alibaba Gr...</td>\n",
              "    </tr>\n",
              "  </tbody>\n",
              "</table>\n",
              "</div>"
            ],
            "text/plain": [
              "                                 T5                                           document\n",
              "origin_index                                                                          \n",
              "0             Alibaba Group founder  Who is Jack ma? context: Alibaba Group founder...\n",
              "1                           Jack Ma  Who is founder of Alibaba Group? context: Alib...\n",
              "2                         Wednesday  When did Jack Ma re-appear? context: Alibaba G...\n",
              "3                         surged 5%  How did Alibaba stocks react? context: Alibaba...\n",
              "4                100 rural teachers  Whom did Jack Ma meet? context: Alibaba Group ...\n",
              "5                Chinese regulators  Who did Jack Ma hide from? context: Alibaba Gr..."
            ]
          },
          "metadata": {
            "tags": []
          },
          "execution_count": 9
        }
      ]
    },
    {
      "cell_type": "markdown",
      "metadata": {
        "id": "xJIuT3ZhOhoc"
      },
      "source": [
        "# Multi Problem T5 model for Summarization and more\n",
        "The main T5 model was trained for over 20 tasks from the SQUAD/GLUE/SUPERGLUE datasets. See [this notebook](https://github.com/JohnSnowLabs/nlu/blob/master/examples/webinars_conferences_etc/multi_lingual_webinar/7_T5_SQUAD_GLUE_SUPER_GLUE_TASKS.ipynb) for a demo of all tasks \n",
        "\n",
        "\n",
        "# Overview of every task available with T5\n",
        "[The T5 model](https://arxiv.org/pdf/1910.10683.pdf) is trained on various datasets for 17 different tasks which fall into 8 categories.\n",
        "\n",
        "\n",
        "\n",
        "1. Text summarization\n",
        "2. Question answering\n",
        "3. Translation\n",
        "4. Sentiment analysis\n",
        "5. Natural Language inference\n",
        "6. Coreference resolution\n",
        "7. Sentence Completion\n",
        "8. Word sense disambiguation\n",
        "\n",
        "### Every T5 Task with explanation:\n",
        "|Task Name | Explanation | \n",
        "|----------|--------------|\n",
        "|[1.CoLA](https://nyu-mll.github.io/CoLA/)                   | Classify if a sentence is gramaticaly correct|\n",
        "|[2.RTE](https://dl.acm.org/doi/10.1007/11736790_9)                    | Classify whether if a statement can be deducted from a sentence|\n",
        "|[3.MNLI](https://arxiv.org/abs/1704.05426)                   | Classify for a hypothesis and premise whether they contradict or contradict each other or neither of both (3 class).|\n",
        "|[4.MRPC](https://www.aclweb.org/anthology/I05-5002.pdf)                   | Classify whether a pair of sentences is a re-phrasing of each other (semantically equivalent)|\n",
        "|[5.QNLI](https://arxiv.org/pdf/1804.07461.pdf)                   | Classify whether the answer to a question can be deducted from an answer candidate.|\n",
        "|[6.QQP](https://www.quora.com/q/quoradata/First-Quora-Dataset-Release-Question-Pairs)                    | Classify whether a pair of questions is a re-phrasing of each other (semantically equivalent)|\n",
        "|[7.SST2](https://www.aclweb.org/anthology/D13-1170.pdf)                   | Classify the sentiment of a sentence as positive or negative|\n",
        "|[8.STSB](https://www.aclweb.org/anthology/S17-2001/)                   | Classify the sentiment of a sentence on a scale from 1 to 5 (21 Sentiment classes)|\n",
        "|[9.CB](https://ojs.ub.uni-konstanz.de/sub/index.php/sub/article/view/601)                     | Classify for a premise and a hypothesis whether they contradict each other or not (binary).|\n",
        "|[10.COPA](https://www.aaai.org/ocs/index.php/SSS/SSS11/paper/view/2418/0)                   | Classify for a question, premise, and 2 choices which choice the correct choice is (binary).|\n",
        "|[11.MultiRc](https://www.aclweb.org/anthology/N18-1023.pdf)                | Classify for a question, a paragraph of text, and an answer candidate, if the answer is correct (binary),|\n",
        "|[12.WiC](https://arxiv.org/abs/1808.09121)                    | Classify for a pair of sentences and a disambigous word if the word has the same meaning in both sentences.|\n",
        "|[13.WSC/DPR](https://www.aaai.org/ocs/index.php/KR/KR12/paper/view/4492/0)       | Predict for an ambiguous pronoun in a sentence what it is referring to.  |\n",
        "|[14.Summarization](https://arxiv.org/abs/1506.03340)          | Summarize text into a shorter representation.|\n",
        "|[15.SQuAD](https://arxiv.org/abs/1606.05250)                  | Answer a question for a given context.|\n",
        "|[16.WMT1.](https://arxiv.org/abs/1706.03762)                  | Translate English to German|\n",
        "|[17.WMT2.](https://arxiv.org/abs/1706.03762)                   | Translate English to French|\n",
        "|[18.WMT3.](https://arxiv.org/abs/1706.03762)                   | Translate English to Romanian|\n",
        "\n"
      ]
    },
    {
      "cell_type": "code",
      "metadata": {
        "colab": {
          "base_uri": "https://localhost:8080/"
        },
        "id": "XJw187r91QKN",
        "outputId": "f23a806f-cb31-4e7f-bcea-387885cb65a7"
      },
      "source": [
        "# Load the Multi Task Model T5\n",
        "t5_multi = nlu.load('en.t5.base')"
      ],
      "execution_count": 2,
      "outputs": [
        {
          "output_type": "stream",
          "text": [
            "t5_base download started this may take some time.\n",
            "Approximate size to download 446 MB\n",
            "[OK!]\n"
          ],
          "name": "stdout"
        }
      ]
    },
    {
      "cell_type": "code",
      "metadata": {
        "colab": {
          "base_uri": "https://localhost:8080/",
          "height": 111
        },
        "id": "_F6jE7IN1U-G",
        "outputId": "7b43ec80-e6a5-4af4-e268-964eebf5a457"
      },
      "source": [
        "# https://www.reuters.com/article/instant-article/idCAKBN2AA2WF\n",
        "text = \"\"\"(Reuters) - Mastercard Inc said on Wednesday it was planning to offer support for some cryptocurrencies on its network this year, joining a string of big-ticket firms that have pledged similar support.\n",
        "\n",
        "The credit-card giant’s announcement comes days after Elon Musk’s Tesla Inc revealed it had purchased $1.5 billion of bitcoin and would soon accept it as a form of payment.\n",
        "\n",
        "Asset manager BlackRock Inc and payments companies Square and PayPal have also recently backed cryptocurrencies.\n",
        "\n",
        "Mastercard already offers customers cards that allow people to transact using their cryptocurrencies, although without going through its network.\n",
        "\n",
        "\"Doing this work will create a lot more possibilities for shoppers and merchants, allowing them to transact in an entirely new form of payment. This change may open merchants up to new customers who are already flocking to digital assets,\" Mastercard said. (mstr.cd/3tLaPZM)\n",
        "\n",
        "Mastercard specified that not all cryptocurrencies will be supported on its network, adding that many of the hundreds of digital assets in circulation still need to tighten their compliance measures.\n",
        "\n",
        "Many cryptocurrencies have struggled to win the trust of mainstream investors and the general public due to their speculative nature and potential for money laundering.\n",
        "\"\"\"\n",
        "t5_multi['t5'].setTask('summarize ') \n",
        "short = t5_multi.predict(text)\n",
        "short"
      ],
      "execution_count": 3,
      "outputs": [
        {
          "output_type": "execute_result",
          "data": {
            "text/html": [
              "<div>\n",
              "<style scoped>\n",
              "    .dataframe tbody tr th:only-of-type {\n",
              "        vertical-align: middle;\n",
              "    }\n",
              "\n",
              "    .dataframe tbody tr th {\n",
              "        vertical-align: top;\n",
              "    }\n",
              "\n",
              "    .dataframe thead th {\n",
              "        text-align: right;\n",
              "    }\n",
              "</style>\n",
              "<table border=\"1\" class=\"dataframe\">\n",
              "  <thead>\n",
              "    <tr style=\"text-align: right;\">\n",
              "      <th></th>\n",
              "      <th>document</th>\n",
              "      <th>T5</th>\n",
              "    </tr>\n",
              "    <tr>\n",
              "      <th>origin_index</th>\n",
              "      <th></th>\n",
              "      <th></th>\n",
              "    </tr>\n",
              "  </thead>\n",
              "  <tbody>\n",
              "    <tr>\n",
              "      <th>0</th>\n",
              "      <td>(Reuters) - Mastercard Inc said on Wednesday i...</td>\n",
              "      <td>mastercard said on Wednesday it was planning t...</td>\n",
              "    </tr>\n",
              "  </tbody>\n",
              "</table>\n",
              "</div>"
            ],
            "text/plain": [
              "                                                       document                                                 T5\n",
              "origin_index                                                                                                      \n",
              "0             (Reuters) - Mastercard Inc said on Wednesday i...  mastercard said on Wednesday it was planning t..."
            ]
          },
          "metadata": {
            "tags": []
          },
          "execution_count": 3
        }
      ]
    },
    {
      "cell_type": "code",
      "metadata": {
        "colab": {
          "base_uri": "https://localhost:8080/"
        },
        "id": "1MtQlr_8PucN",
        "outputId": "4ac93080-4e17-46a4-af78-f7f95617151c"
      },
      "source": [
        "print(f\"Original Length {len(short.document.iloc[0])}   Summarized Length : {len(short.T5.iloc[0])} \\n summarized text :{short.T5.iloc[0]} \")\n"
      ],
      "execution_count": 4,
      "outputs": [
        {
          "output_type": "stream",
          "text": [
            "Original Length 1277   Summarized Length : 352 \n",
            " summarized text :mastercard said on Wednesday it was planning to offer support for some cryptocurrencies on its network this year . the credit-card giant’s announcement comes days after Elon Musk’s Tesla Inc revealed it had purchased $1.5 billion of bitcoin . asset manager blackrock and payments companies Square and PayPal have also recently backed cryptocurrencies . \n"
          ],
          "name": "stdout"
        }
      ]
    },
    {
      "cell_type": "code",
      "metadata": {
        "colab": {
          "base_uri": "https://localhost:8080/",
          "height": 69
        },
        "id": "ZqOJSkrWQQA9",
        "outputId": "b2b86de8-d7a2-42b5-ee05-00e5db68e2f0"
      },
      "source": [
        "short.T5.iloc[0]"
      ],
      "execution_count": 5,
      "outputs": [
        {
          "output_type": "execute_result",
          "data": {
            "application/vnd.google.colaboratory.intrinsic+json": {
              "type": "string"
            },
            "text/plain": [
              "'mastercard said on Wednesday it was planning to offer support for some cryptocurrencies on its network this year . the credit-card giant’s announcement comes days after Elon Musk’s Tesla Inc revealed it had purchased $1.5 billion of bitcoin . asset manager blackrock and payments companies Square and PayPal have also recently backed cryptocurrencies .'"
            ]
          },
          "metadata": {
            "tags": []
          },
          "execution_count": 5
        }
      ]
    },
    {
      "cell_type": "markdown",
      "metadata": {
        "id": "Sd_4hzC9hz8K"
      },
      "source": [
        "**Make sure to restart your notebook again** before starting the next section"
      ]
    },
    {
      "cell_type": "code",
      "metadata": {
        "id": "RQizVR2WhzTY"
      },
      "source": [
        "print(\"Please restart kernel if you are in google colab and run next cell after the restart to configure java 8 back\")\n",
        "1+'wait'\n"
      ],
      "execution_count": null,
      "outputs": []
    },
    {
      "cell_type": "code",
      "metadata": {
        "id": "41bGg_s0ioKK"
      },
      "source": [
        "# This configures colab to use Java 8 again. \n",
        "# You need to run this in Google colab, because after restart it likes to set Java 11 as default, which will cause issues\n",
        "! echo 2 |  update-alternatives --config java\n"
      ],
      "execution_count": null,
      "outputs": []
    },
    {
      "cell_type": "markdown",
      "metadata": {
        "id": "PDmjkRoHhrqn"
      },
      "source": [
        "# Translate between more than 200 Languages with  [ Microsofts Marian Models](https://marian-nmt.github.io/publications/)\n",
        "\n",
        "Marian is an efficient, free Neural Machine Translation framework mainly being developed by the Microsoft Translator team (646+ pretrained models & pipelines in 192+ languages)\n",
        "You need to specify the language your data is in as `start_language` and the language you want to translate to as `target_language`.    \n",
        " The language references must be [ISO language codes](https://en.wikipedia.org/wiki/List_of_ISO_639-1_codes)\n",
        "\n",
        "`nlu.load('<start_language>.translate_to.<target_language>')`       \n",
        "\n",
        "**Translate Turkish to English:**     \n",
        "`nlu.load('tr.translate_to.en')`\n",
        "\n",
        "**Translate English to French:**     \n",
        "`nlu.load('en.translate_to.fr')`\n",
        "\n",
        "\n",
        "**Translate French to Hebrew:**     \n",
        "`nlu.load('fr.translate_to.he')`\n",
        "\n",
        "\n",
        "\n",
        "\n",
        "\n",
        "![Languages](https://camo.githubusercontent.com/b548abf3d1f9657d01fd74404354ec49fc11eea0/687474703a2f2f636b6c2d69742e64652f77702d636f6e74656e742f75706c6f6164732f323032312f30322f666c6167732e6a706567)"
      ]
    },
    {
      "cell_type": "code",
      "metadata": {
        "id": "AjiWgkvQwxBy"
      },
      "source": [
        "import nlu\n",
        "import pandas as pd\n",
        "!wget http://ckl-it.de/wp-content/uploads/2020/12/small_btc.csv \n",
        "df = pd.read_csv('/content/small_btc.csv').iloc[0:20].title"
      ],
      "execution_count": null,
      "outputs": []
    },
    {
      "cell_type": "markdown",
      "metadata": {
        "id": "Q_dx5jDkeaGO"
      },
      "source": [
        "## Translate to German"
      ]
    },
    {
      "cell_type": "code",
      "metadata": {
        "id": "_DrnIRUlXpM6",
        "colab": {
          "base_uri": "https://localhost:8080/",
          "height": 782
        },
        "outputId": "70214999-e832-4942-dee5-f80ddfc44e80"
      },
      "source": [
        "translate_pipe = nlu.load('en.translate_to.de')\n",
        "translate_pipe.predict(df)"
      ],
      "execution_count": null,
      "outputs": [
        {
          "output_type": "stream",
          "text": [
            "translate_en_de download started this may take some time.\n",
            "Approx size to download 370.2 MB\n",
            "[OK!]\n"
          ],
          "name": "stdout"
        },
        {
          "output_type": "execute_result",
          "data": {
            "text/html": [
              "<div>\n",
              "<style scoped>\n",
              "    .dataframe tbody tr th:only-of-type {\n",
              "        vertical-align: middle;\n",
              "    }\n",
              "\n",
              "    .dataframe tbody tr th {\n",
              "        vertical-align: top;\n",
              "    }\n",
              "\n",
              "    .dataframe thead th {\n",
              "        text-align: right;\n",
              "    }\n",
              "</style>\n",
              "<table border=\"1\" class=\"dataframe\">\n",
              "  <thead>\n",
              "    <tr style=\"text-align: right;\">\n",
              "      <th></th>\n",
              "      <th>sentence</th>\n",
              "      <th>text</th>\n",
              "      <th>translation</th>\n",
              "      <th>title</th>\n",
              "    </tr>\n",
              "    <tr>\n",
              "      <th>origin_index</th>\n",
              "      <th></th>\n",
              "      <th></th>\n",
              "      <th></th>\n",
              "      <th></th>\n",
              "    </tr>\n",
              "  </thead>\n",
              "  <tbody>\n",
              "    <tr>\n",
              "      <th>0</th>\n",
              "      <td>Bitcoin Price Update: Will China Lead us Down?</td>\n",
              "      <td>Bitcoin Price Update: Will China Lead us Down?</td>\n",
              "      <td>Bitcoin Price Update: Wird China uns nach unte...</td>\n",
              "      <td>Bitcoin Price Update: Will China Lead us Down?</td>\n",
              "    </tr>\n",
              "    <tr>\n",
              "      <th>1</th>\n",
              "      <td>Key Bitcoin Price Levels for Week 51 (15 – 22 ...</td>\n",
              "      <td>Key Bitcoin Price Levels for Week 51 (15 – 22 ...</td>\n",
              "      <td>Preisniveaus für Bitcoin für Woche 51 (15.-22....</td>\n",
              "      <td>Key Bitcoin Price Levels for Week 51 (15 – 22 ...</td>\n",
              "    </tr>\n",
              "    <tr>\n",
              "      <th>2</th>\n",
              "      <td>National Australia Bank, Citing Highly Flawed ...</td>\n",
              "      <td>National Australia Bank, Citing Highly Flawed ...</td>\n",
              "      <td>Die National Australia Bank, die hochflawed Da...</td>\n",
              "      <td>National Australia Bank, Citing Highly Flawed ...</td>\n",
              "    </tr>\n",
              "    <tr>\n",
              "      <th>3</th>\n",
              "      <td>Chinese Bitcoin Ban Driven by  Chinese Banking...</td>\n",
              "      <td>Chinese Bitcoin Ban Driven by  Chinese Banking...</td>\n",
              "      <td>Chinesische Bitcoin Ban durch chinesische Bank...</td>\n",
              "      <td>Chinese Bitcoin Ban Driven by  Chinese Banking...</td>\n",
              "    </tr>\n",
              "    <tr>\n",
              "      <th>4</th>\n",
              "      <td>Bitcoin Trade Update: Opened Position</td>\n",
              "      <td>Bitcoin Trade Update: Opened Position</td>\n",
              "      <td>Bitcoin Trade Update: Geöffnete Position</td>\n",
              "      <td>Bitcoin Trade Update: Opened Position</td>\n",
              "    </tr>\n",
              "    <tr>\n",
              "      <th>5</th>\n",
              "      <td>Key Bitcoin Price Levels for Week 52 (22 – 28 ...</td>\n",
              "      <td>Key Bitcoin Price Levels for Week 52 (22 – 28 ...</td>\n",
              "      <td>Key Bitcoin Price Levels für Woche 52 (22. - 2...</td>\n",
              "      <td>Key Bitcoin Price Levels for Week 52 (22 – 28 ...</td>\n",
              "    </tr>\n",
              "    <tr>\n",
              "      <th>6</th>\n",
              "      <td>Bitcoin Survival</td>\n",
              "      <td>Bitcoin Survival</td>\n",
              "      <td>Bitcoin Überleben</td>\n",
              "      <td>Bitcoin Survival</td>\n",
              "    </tr>\n",
              "    <tr>\n",
              "      <th>7</th>\n",
              "      <td>Massive Bitcoin Sell Going On</td>\n",
              "      <td>Massive Bitcoin Sell Going On</td>\n",
              "      <td>Massive Bitcoin verkaufen weiter</td>\n",
              "      <td>Massive Bitcoin Sell Going On</td>\n",
              "    </tr>\n",
              "    <tr>\n",
              "      <th>8</th>\n",
              "      <td>Why Bitcoin will rise on Monday 23rd by more t...</td>\n",
              "      <td>Why Bitcoin will rise on Monday 23rd by more t...</td>\n",
              "      <td>Warum Bitcoin am Montag um mehr als 10% steige...</td>\n",
              "      <td>Why Bitcoin will rise on Monday 23rd by more t...</td>\n",
              "    </tr>\n",
              "    <tr>\n",
              "      <th>9</th>\n",
              "      <td>Why Bitcoin is falling, and will rise again</td>\n",
              "      <td>Why Bitcoin is falling, and will rise again</td>\n",
              "      <td>Warum Bitcoin fällt und wieder aufsteigt</td>\n",
              "      <td>Why Bitcoin is falling, and will rise again</td>\n",
              "    </tr>\n",
              "    <tr>\n",
              "      <th>10</th>\n",
              "      <td>Bitcoin Price in 2014</td>\n",
              "      <td>Bitcoin Price in 2014</td>\n",
              "      <td>Bitcoin Preis 2014</td>\n",
              "      <td>Bitcoin Price in 2014</td>\n",
              "    </tr>\n",
              "    <tr>\n",
              "      <th>11</th>\n",
              "      <td>This is probably the best time to invest in Bi...</td>\n",
              "      <td>This is probably the best time to invest in Bi...</td>\n",
              "      <td>Dies ist wahrscheinlich die beste Zeit, um in ...</td>\n",
              "      <td>This is probably the best time to invest in Bi...</td>\n",
              "    </tr>\n",
              "    <tr>\n",
              "      <th>12</th>\n",
              "      <td>Comparing Bitcoins and Oranges</td>\n",
              "      <td>Comparing Bitcoins and Oranges</td>\n",
              "      <td>Vergleich von Bitcoins und Orangen</td>\n",
              "      <td>Comparing Bitcoins and Oranges</td>\n",
              "    </tr>\n",
              "    <tr>\n",
              "      <th>13</th>\n",
              "      <td>Key Bitcoin Price Levels for the Week Ahead</td>\n",
              "      <td>Key Bitcoin Price Levels for the Week Ahead</td>\n",
              "      <td>Die wichtigsten Preisniveaus für Bitcoin für d...</td>\n",
              "      <td>Key Bitcoin Price Levels for the Week Ahead</td>\n",
              "    </tr>\n",
              "    <tr>\n",
              "      <th>14</th>\n",
              "      <td>The 2014 Bitcoin War Has Started— And it is Bo...</td>\n",
              "      <td>The 2014 Bitcoin War Has Started— And it is Bo...</td>\n",
              "      <td>Der Bitcoin-Krieg 2014 hat begonnen - Und es i...</td>\n",
              "      <td>The 2014 Bitcoin War Has Started— And it is Bo...</td>\n",
              "    </tr>\n",
              "    <tr>\n",
              "      <th>15</th>\n",
              "      <td>Two new Bitcoin ASIC Miners : Scam or Real?</td>\n",
              "      <td>Two new Bitcoin ASIC Miners : Scam or Real?</td>\n",
              "      <td>Zwei neue Bitcoin ASIC Miners: Scam oder Real?</td>\n",
              "      <td>Two new Bitcoin ASIC Miners : Scam or Real?</td>\n",
              "    </tr>\n",
              "    <tr>\n",
              "      <th>16</th>\n",
              "      <td>KnCMiner Announces 2TH/s Bitcoin ASIC Miner</td>\n",
              "      <td>KnCMiner Announces 2TH/s Bitcoin ASIC Miner</td>\n",
              "      <td>KnCMiner kündigt 2. Bitcoin ASIC Miner an</td>\n",
              "      <td>KnCMiner Announces 2TH/s Bitcoin ASIC Miner</td>\n",
              "    </tr>\n",
              "    <tr>\n",
              "      <th>17</th>\n",
              "      <td>PSA: Do Not Fall for the Apple Bitcoin Miner Hoax</td>\n",
              "      <td>PSA: Do Not Fall for the Apple Bitcoin Miner Hoax</td>\n",
              "      <td>PSA: Fallen Sie nicht für den Apple Bitcoin Mi...</td>\n",
              "      <td>PSA: Do Not Fall for the Apple Bitcoin Miner Hoax</td>\n",
              "    </tr>\n",
              "    <tr>\n",
              "      <th>18</th>\n",
              "      <td>Breaking News:</td>\n",
              "      <td>Breaking News: HashCows Mining Pool Hacked</td>\n",
              "      <td>Nachrichten:</td>\n",
              "      <td>Breaking News: HashCows Mining Pool Hacked</td>\n",
              "    </tr>\n",
              "    <tr>\n",
              "      <th>18</th>\n",
              "      <td>HashCows Mining Pool Hacked</td>\n",
              "      <td>Breaking News: HashCows Mining Pool Hacked</td>\n",
              "      <td>HashCows Bergbau Pool gehackt</td>\n",
              "      <td>Breaking News: HashCows Mining Pool Hacked</td>\n",
              "    </tr>\n",
              "    <tr>\n",
              "      <th>19</th>\n",
              "      <td>Primecoin Cloud Mining using Digital Ocean – T...</td>\n",
              "      <td>Primecoin Cloud Mining using Digital Ocean – T...</td>\n",
              "      <td>Primecoin Cloud Mining mit Digital Ocean - Der...</td>\n",
              "      <td>Primecoin Cloud Mining using Digital Ocean – T...</td>\n",
              "    </tr>\n",
              "  </tbody>\n",
              "</table>\n",
              "</div>"
            ],
            "text/plain": [
              "                                                       sentence  ...                                              title\n",
              "origin_index                                                     ...                                                   \n",
              "0                Bitcoin Price Update: Will China Lead us Down?  ...     Bitcoin Price Update: Will China Lead us Down?\n",
              "1             Key Bitcoin Price Levels for Week 51 (15 – 22 ...  ...  Key Bitcoin Price Levels for Week 51 (15 – 22 ...\n",
              "2             National Australia Bank, Citing Highly Flawed ...  ...  National Australia Bank, Citing Highly Flawed ...\n",
              "3             Chinese Bitcoin Ban Driven by  Chinese Banking...  ...  Chinese Bitcoin Ban Driven by  Chinese Banking...\n",
              "4                         Bitcoin Trade Update: Opened Position  ...              Bitcoin Trade Update: Opened Position\n",
              "5             Key Bitcoin Price Levels for Week 52 (22 – 28 ...  ...  Key Bitcoin Price Levels for Week 52 (22 – 28 ...\n",
              "6                                              Bitcoin Survival  ...                                   Bitcoin Survival\n",
              "7                                 Massive Bitcoin Sell Going On  ...                      Massive Bitcoin Sell Going On\n",
              "8             Why Bitcoin will rise on Monday 23rd by more t...  ...  Why Bitcoin will rise on Monday 23rd by more t...\n",
              "9                   Why Bitcoin is falling, and will rise again  ...        Why Bitcoin is falling, and will rise again\n",
              "10                                        Bitcoin Price in 2014  ...                              Bitcoin Price in 2014\n",
              "11            This is probably the best time to invest in Bi...  ...  This is probably the best time to invest in Bi...\n",
              "12                               Comparing Bitcoins and Oranges  ...                     Comparing Bitcoins and Oranges\n",
              "13                  Key Bitcoin Price Levels for the Week Ahead  ...        Key Bitcoin Price Levels for the Week Ahead\n",
              "14            The 2014 Bitcoin War Has Started— And it is Bo...  ...  The 2014 Bitcoin War Has Started— And it is Bo...\n",
              "15                  Two new Bitcoin ASIC Miners : Scam or Real?  ...        Two new Bitcoin ASIC Miners : Scam or Real?\n",
              "16                  KnCMiner Announces 2TH/s Bitcoin ASIC Miner  ...        KnCMiner Announces 2TH/s Bitcoin ASIC Miner\n",
              "17            PSA: Do Not Fall for the Apple Bitcoin Miner Hoax  ...  PSA: Do Not Fall for the Apple Bitcoin Miner Hoax\n",
              "18                                               Breaking News:  ...         Breaking News: HashCows Mining Pool Hacked\n",
              "18                                  HashCows Mining Pool Hacked  ...         Breaking News: HashCows Mining Pool Hacked\n",
              "19            Primecoin Cloud Mining using Digital Ocean – T...  ...  Primecoin Cloud Mining using Digital Ocean – T...\n",
              "\n",
              "[21 rows x 4 columns]"
            ]
          },
          "metadata": {
            "tags": []
          },
          "execution_count": 3
        }
      ]
    },
    {
      "cell_type": "markdown",
      "metadata": {
        "id": "9zyhBUxFeP6u"
      },
      "source": [
        "## Translate to Chinese"
      ]
    },
    {
      "cell_type": "code",
      "metadata": {
        "id": "B0Z3Ilt0eR3c",
        "colab": {
          "base_uri": "https://localhost:8080/",
          "height": 986
        },
        "outputId": "935afe6a-5c13-46fa-9936-5a5f5a0e7435"
      },
      "source": [
        "translate_pipe = nlu.load('en.translate_to.zh')\n",
        "translate_pipe.predict(df)"
      ],
      "execution_count": null,
      "outputs": [
        {
          "output_type": "stream",
          "text": [
            "translate_en_zh download started this may take some time.\n",
            "Approx size to download 396.8 MB\n",
            "[OK!]\n"
          ],
          "name": "stdout"
        },
        {
          "output_type": "execute_result",
          "data": {
            "text/html": [
              "<div>\n",
              "<style scoped>\n",
              "    .dataframe tbody tr th:only-of-type {\n",
              "        vertical-align: middle;\n",
              "    }\n",
              "\n",
              "    .dataframe tbody tr th {\n",
              "        vertical-align: top;\n",
              "    }\n",
              "\n",
              "    .dataframe thead th {\n",
              "        text-align: right;\n",
              "    }\n",
              "</style>\n",
              "<table border=\"1\" class=\"dataframe\">\n",
              "  <thead>\n",
              "    <tr style=\"text-align: right;\">\n",
              "      <th></th>\n",
              "      <th>title</th>\n",
              "      <th>sentence</th>\n",
              "      <th>translation</th>\n",
              "      <th>text</th>\n",
              "    </tr>\n",
              "    <tr>\n",
              "      <th>origin_index</th>\n",
              "      <th></th>\n",
              "      <th></th>\n",
              "      <th></th>\n",
              "      <th></th>\n",
              "    </tr>\n",
              "  </thead>\n",
              "  <tbody>\n",
              "    <tr>\n",
              "      <th>0</th>\n",
              "      <td>Bitcoin Price Update: Will China Lead us Down?</td>\n",
              "      <td>Bitcoin Price Update: Will China Lead us Down?</td>\n",
              "      <td>比特币价格最新消息:中国会带领我们下台吗?</td>\n",
              "      <td>Bitcoin Price Update: Will China Lead us Down?</td>\n",
              "    </tr>\n",
              "    <tr>\n",
              "      <th>1</th>\n",
              "      <td>Key Bitcoin Price Levels for Week 51 (15 – 22 ...</td>\n",
              "      <td>Key Bitcoin Price Levels for Week 51 (15 – 22 ...</td>\n",
              "      <td>第51周(12月15日至22日)的密钥比特币价格水平</td>\n",
              "      <td>Key Bitcoin Price Levels for Week 51 (15 – 22 ...</td>\n",
              "    </tr>\n",
              "    <tr>\n",
              "      <th>2</th>\n",
              "      <td>National Australia Bank, Citing Highly Flawed ...</td>\n",
              "      <td>National Australia Bank, Citing Highly Flawed ...</td>\n",
              "      <td>澳大利亚国家银行,援引高易燃数据,称比特币为泡泡</td>\n",
              "      <td>National Australia Bank, Citing Highly Flawed ...</td>\n",
              "    </tr>\n",
              "    <tr>\n",
              "      <th>3</th>\n",
              "      <td>Chinese Bitcoin Ban Driven by  Chinese Banking...</td>\n",
              "      <td>Chinese Bitcoin Ban Driven by  Chinese Banking...</td>\n",
              "      <td>受中国银行危机驱使的中国Bitcoin Ban ?</td>\n",
              "      <td>Chinese Bitcoin Ban Driven by  Chinese Banking...</td>\n",
              "    </tr>\n",
              "    <tr>\n",
              "      <th>4</th>\n",
              "      <td>Bitcoin Trade Update: Opened Position</td>\n",
              "      <td>Bitcoin Trade Update: Opened Position</td>\n",
              "      <td>比特币贸易最新贸易更新:开放位置</td>\n",
              "      <td>Bitcoin Trade Update: Opened Position</td>\n",
              "    </tr>\n",
              "    <tr>\n",
              "      <th>5</th>\n",
              "      <td>Key Bitcoin Price Levels for Week 52 (22 – 28 ...</td>\n",
              "      <td>Key Bitcoin Price Levels for Week 52 (22 – 28 ...</td>\n",
              "      <td>第52周(12月22日至28日)的密钥比特币价格水平 - 我的贸易计划</td>\n",
              "      <td>Key Bitcoin Price Levels for Week 52 (22 – 28 ...</td>\n",
              "    </tr>\n",
              "    <tr>\n",
              "      <th>6</th>\n",
              "      <td>Bitcoin Survival</td>\n",
              "      <td>Bitcoin Survival</td>\n",
              "      <td>比特币生存</td>\n",
              "      <td>Bitcoin Survival</td>\n",
              "    </tr>\n",
              "    <tr>\n",
              "      <th>7</th>\n",
              "      <td>Massive Bitcoin Sell Going On</td>\n",
              "      <td>Massive Bitcoin Sell Going On</td>\n",
              "      <td>大规模比特币卖卖继续</td>\n",
              "      <td>Massive Bitcoin Sell Going On</td>\n",
              "    </tr>\n",
              "    <tr>\n",
              "      <th>8</th>\n",
              "      <td>Why Bitcoin will rise on Monday 23rd by more t...</td>\n",
              "      <td>Why Bitcoin will rise on Monday 23rd by more t...</td>\n",
              "      <td>为什么比特币会在周一23日上升10%以上</td>\n",
              "      <td>Why Bitcoin will rise on Monday 23rd by more t...</td>\n",
              "    </tr>\n",
              "    <tr>\n",
              "      <th>9</th>\n",
              "      <td>Why Bitcoin is falling, and will rise again</td>\n",
              "      <td>Why Bitcoin is falling, and will rise again</td>\n",
              "      <td>为什么比特币掉下来,又会升起</td>\n",
              "      <td>Why Bitcoin is falling, and will rise again</td>\n",
              "    </tr>\n",
              "    <tr>\n",
              "      <th>10</th>\n",
              "      <td>Bitcoin Price in 2014</td>\n",
              "      <td>Bitcoin Price in 2014</td>\n",
              "      <td>2014年比特币价格</td>\n",
              "      <td>Bitcoin Price in 2014</td>\n",
              "    </tr>\n",
              "    <tr>\n",
              "      <th>11</th>\n",
              "      <td>This is probably the best time to invest in Bi...</td>\n",
              "      <td>This is probably the best time to invest in Bi...</td>\n",
              "      <td>这可能是投资比特币的最佳时机</td>\n",
              "      <td>This is probably the best time to invest in Bi...</td>\n",
              "    </tr>\n",
              "    <tr>\n",
              "      <th>12</th>\n",
              "      <td>Comparing Bitcoins and Oranges</td>\n",
              "      <td>Comparing Bitcoins and Oranges</td>\n",
              "      <td>比较比特币和橙子</td>\n",
              "      <td>Comparing Bitcoins and Oranges</td>\n",
              "    </tr>\n",
              "    <tr>\n",
              "      <th>13</th>\n",
              "      <td>Key Bitcoin Price Levels for the Week Ahead</td>\n",
              "      <td>Key Bitcoin Price Levels for the Week Ahead</td>\n",
              "      <td>提前一周的密钥 Bitcoin 价格水平</td>\n",
              "      <td>Key Bitcoin Price Levels for the Week Ahead</td>\n",
              "    </tr>\n",
              "    <tr>\n",
              "      <th>14</th>\n",
              "      <td>The 2014 Bitcoin War Has Started— And it is Bo...</td>\n",
              "      <td>The 2014 Bitcoin War Has Started— And it is Bo...</td>\n",
              "      <td>2014 Bitcoin 战争已经开始 2014 年 比特币战争已经开始了 - 第一次开战的...</td>\n",
              "      <td>The 2014 Bitcoin War Has Started— And it is Bo...</td>\n",
              "    </tr>\n",
              "    <tr>\n",
              "      <th>15</th>\n",
              "      <td>Two new Bitcoin ASIC Miners : Scam or Real?</td>\n",
              "      <td>Two new Bitcoin ASIC Miners : Scam or Real?</td>\n",
              "      <td>两枚新的比特币ASIC矿工:Scam还是Real?</td>\n",
              "      <td>Two new Bitcoin ASIC Miners : Scam or Real?</td>\n",
              "    </tr>\n",
              "    <tr>\n",
              "      <th>16</th>\n",
              "      <td>KnCMiner Announces 2TH/s Bitcoin ASIC Miner</td>\n",
              "      <td>KnCMiner Announces 2TH/s Bitcoin ASIC Miner</td>\n",
              "      <td>KnCMiner 宣布 2TH/ s Bitcoin ASIC 的比特币 ASIC 矿工</td>\n",
              "      <td>KnCMiner Announces 2TH/s Bitcoin ASIC Miner</td>\n",
              "    </tr>\n",
              "    <tr>\n",
              "      <th>17</th>\n",
              "      <td>PSA: Do Not Fall for the Apple Bitcoin Miner Hoax</td>\n",
              "      <td>PSA: Do Not Fall for the Apple Bitcoin Miner Hoax</td>\n",
              "      <td>PSA: 不要为苹果比特币矿工Hax而跌倒</td>\n",
              "      <td>PSA: Do Not Fall for the Apple Bitcoin Miner Hoax</td>\n",
              "    </tr>\n",
              "    <tr>\n",
              "      <th>18</th>\n",
              "      <td>Breaking News: HashCows Mining Pool Hacked</td>\n",
              "      <td>Breaking News:</td>\n",
              "      <td>断层新闻:</td>\n",
              "      <td>Breaking News: HashCows Mining Pool Hacked</td>\n",
              "    </tr>\n",
              "    <tr>\n",
              "      <th>18</th>\n",
              "      <td>Breaking News: HashCows Mining Pool Hacked</td>\n",
              "      <td>HashCows Mining Pool Hacked</td>\n",
              "      <td>混凝土回收池</td>\n",
              "      <td>Breaking News: HashCows Mining Pool Hacked</td>\n",
              "    </tr>\n",
              "    <tr>\n",
              "      <th>19</th>\n",
              "      <td>Primecoin Cloud Mining using Digital Ocean – T...</td>\n",
              "      <td>Primecoin Cloud Mining using Digital Ocean – T...</td>\n",
              "      <td>利用数字海洋开采原子弹云层 -- -- 完整指南</td>\n",
              "      <td>Primecoin Cloud Mining using Digital Ocean – T...</td>\n",
              "    </tr>\n",
              "  </tbody>\n",
              "</table>\n",
              "</div>"
            ],
            "text/plain": [
              "                                                          title  ...                                               text\n",
              "origin_index                                                     ...                                                   \n",
              "0                Bitcoin Price Update: Will China Lead us Down?  ...     Bitcoin Price Update: Will China Lead us Down?\n",
              "1             Key Bitcoin Price Levels for Week 51 (15 – 22 ...  ...  Key Bitcoin Price Levels for Week 51 (15 – 22 ...\n",
              "2             National Australia Bank, Citing Highly Flawed ...  ...  National Australia Bank, Citing Highly Flawed ...\n",
              "3             Chinese Bitcoin Ban Driven by  Chinese Banking...  ...  Chinese Bitcoin Ban Driven by  Chinese Banking...\n",
              "4                         Bitcoin Trade Update: Opened Position  ...              Bitcoin Trade Update: Opened Position\n",
              "5             Key Bitcoin Price Levels for Week 52 (22 – 28 ...  ...  Key Bitcoin Price Levels for Week 52 (22 – 28 ...\n",
              "6                                              Bitcoin Survival  ...                                   Bitcoin Survival\n",
              "7                                 Massive Bitcoin Sell Going On  ...                      Massive Bitcoin Sell Going On\n",
              "8             Why Bitcoin will rise on Monday 23rd by more t...  ...  Why Bitcoin will rise on Monday 23rd by more t...\n",
              "9                   Why Bitcoin is falling, and will rise again  ...        Why Bitcoin is falling, and will rise again\n",
              "10                                        Bitcoin Price in 2014  ...                              Bitcoin Price in 2014\n",
              "11            This is probably the best time to invest in Bi...  ...  This is probably the best time to invest in Bi...\n",
              "12                               Comparing Bitcoins and Oranges  ...                     Comparing Bitcoins and Oranges\n",
              "13                  Key Bitcoin Price Levels for the Week Ahead  ...        Key Bitcoin Price Levels for the Week Ahead\n",
              "14            The 2014 Bitcoin War Has Started— And it is Bo...  ...  The 2014 Bitcoin War Has Started— And it is Bo...\n",
              "15                  Two new Bitcoin ASIC Miners : Scam or Real?  ...        Two new Bitcoin ASIC Miners : Scam or Real?\n",
              "16                  KnCMiner Announces 2TH/s Bitcoin ASIC Miner  ...        KnCMiner Announces 2TH/s Bitcoin ASIC Miner\n",
              "17            PSA: Do Not Fall for the Apple Bitcoin Miner Hoax  ...  PSA: Do Not Fall for the Apple Bitcoin Miner Hoax\n",
              "18                   Breaking News: HashCows Mining Pool Hacked  ...         Breaking News: HashCows Mining Pool Hacked\n",
              "18                   Breaking News: HashCows Mining Pool Hacked  ...         Breaking News: HashCows Mining Pool Hacked\n",
              "19            Primecoin Cloud Mining using Digital Ocean – T...  ...  Primecoin Cloud Mining using Digital Ocean – T...\n",
              "\n",
              "[21 rows x 4 columns]"
            ]
          },
          "metadata": {
            "tags": []
          },
          "execution_count": 5
        }
      ]
    },
    {
      "cell_type": "markdown",
      "metadata": {
        "id": "SbE1KJQgeTiB"
      },
      "source": [
        "## Translate to Hindi"
      ]
    },
    {
      "cell_type": "code",
      "metadata": {
        "id": "5U2Xy6JAeXcj",
        "colab": {
          "base_uri": "https://localhost:8080/",
          "height": 782
        },
        "outputId": "d1a43bc5-3b44-4dae-fb84-7299a2539dd6"
      },
      "source": [
        "translate_pipe = nlu.load('en.translate_to.hi')\n",
        "translate_pipe.predict(df)"
      ],
      "execution_count": null,
      "outputs": [
        {
          "output_type": "stream",
          "text": [
            "translate_en_hi download started this may take some time.\n",
            "Approx size to download 385.8 MB\n",
            "[OK!]\n"
          ],
          "name": "stdout"
        },
        {
          "output_type": "execute_result",
          "data": {
            "text/html": [
              "<div>\n",
              "<style scoped>\n",
              "    .dataframe tbody tr th:only-of-type {\n",
              "        vertical-align: middle;\n",
              "    }\n",
              "\n",
              "    .dataframe tbody tr th {\n",
              "        vertical-align: top;\n",
              "    }\n",
              "\n",
              "    .dataframe thead th {\n",
              "        text-align: right;\n",
              "    }\n",
              "</style>\n",
              "<table border=\"1\" class=\"dataframe\">\n",
              "  <thead>\n",
              "    <tr style=\"text-align: right;\">\n",
              "      <th></th>\n",
              "      <th>sentence</th>\n",
              "      <th>text</th>\n",
              "      <th>translation</th>\n",
              "      <th>title</th>\n",
              "    </tr>\n",
              "    <tr>\n",
              "      <th>origin_index</th>\n",
              "      <th></th>\n",
              "      <th></th>\n",
              "      <th></th>\n",
              "      <th></th>\n",
              "    </tr>\n",
              "  </thead>\n",
              "  <tbody>\n",
              "    <tr>\n",
              "      <th>0</th>\n",
              "      <td>Bitcoin Price Update: Will China Lead us Down?</td>\n",
              "      <td>Bitcoin Price Update: Will China Lead us Down?</td>\n",
              "      <td>बिटटोन कीमत अद्यतन: क्या चीन हमें नीचे ले जाएगा?</td>\n",
              "      <td>Bitcoin Price Update: Will China Lead us Down?</td>\n",
              "    </tr>\n",
              "    <tr>\n",
              "      <th>1</th>\n",
              "      <td>Key Bitcoin Price Levels for Week 51 (15 – 22 ...</td>\n",
              "      <td>Key Bitcoin Price Levels for Week 51 (15 – 22 ...</td>\n",
              "      <td>सप्ताह 51 (15 - 22 डेक) के लिए कुंजी बिटस्लेट्...</td>\n",
              "      <td>Key Bitcoin Price Levels for Week 51 (15 – 22 ...</td>\n",
              "    </tr>\n",
              "    <tr>\n",
              "      <th>2</th>\n",
              "      <td>National Australia Bank, Citing Highly Flawed ...</td>\n",
              "      <td>National Australia Bank, Citing Highly Flawed ...</td>\n",
              "      <td>नैशनल ऑस्ट्रेलिया बैंक, उच्च रूप सेित डाटा का ...</td>\n",
              "      <td>National Australia Bank, Citing Highly Flawed ...</td>\n",
              "    </tr>\n",
              "    <tr>\n",
              "      <th>3</th>\n",
              "      <td>Chinese Bitcoin Ban Driven by  Chinese Banking...</td>\n",
              "      <td>Chinese Bitcoin Ban Driven by  Chinese Banking...</td>\n",
              "      <td>चीनी बिटपरन बैंगिंग संकट से ड्राइव?</td>\n",
              "      <td>Chinese Bitcoin Ban Driven by  Chinese Banking...</td>\n",
              "    </tr>\n",
              "    <tr>\n",
              "      <th>4</th>\n",
              "      <td>Bitcoin Trade Update: Opened Position</td>\n",
              "      <td>Bitcoin Trade Update: Opened Position</td>\n",
              "      <td>बिटफिक्स अद्यतन:</td>\n",
              "      <td>Bitcoin Trade Update: Opened Position</td>\n",
              "    </tr>\n",
              "    <tr>\n",
              "      <th>5</th>\n",
              "      <td>Key Bitcoin Price Levels for Week 52 (22 – 28 ...</td>\n",
              "      <td>Key Bitcoin Price Levels for Week 52 (22 – 28 ...</td>\n",
              "      <td>मैं इस बात को समझ नहीं पाया कि मैं क्या करूँ ।</td>\n",
              "      <td>Key Bitcoin Price Levels for Week 52 (22 – 28 ...</td>\n",
              "    </tr>\n",
              "    <tr>\n",
              "      <th>6</th>\n",
              "      <td>Bitcoin Survival</td>\n",
              "      <td>Bitcoin Survival</td>\n",
              "      <td>मेक्सेन सुरक्षा</td>\n",
              "      <td>Bitcoin Survival</td>\n",
              "    </tr>\n",
              "    <tr>\n",
              "      <th>7</th>\n",
              "      <td>Massive Bitcoin Sell Going On</td>\n",
              "      <td>Massive Bitcoin Sell Going On</td>\n",
              "      <td>भारी धातु की लत पर बिकना</td>\n",
              "      <td>Massive Bitcoin Sell Going On</td>\n",
              "    </tr>\n",
              "    <tr>\n",
              "      <th>8</th>\n",
              "      <td>Why Bitcoin will rise on Monday 23rd by more t...</td>\n",
              "      <td>Why Bitcoin will rise on Monday 23rd by more t...</td>\n",
              "      <td>क्यों बिटकोन सोमवार 23 बजे से 10% तक बढ़ जाएगा</td>\n",
              "      <td>Why Bitcoin will rise on Monday 23rd by more t...</td>\n",
              "    </tr>\n",
              "    <tr>\n",
              "      <th>9</th>\n",
              "      <td>Why Bitcoin is falling, and will rise again</td>\n",
              "      <td>Why Bitcoin is falling, and will rise again</td>\n",
              "      <td>अज़ाबेरी गिरता ही क्यों है, और फिर उठ खड़ा होगा</td>\n",
              "      <td>Why Bitcoin is falling, and will rise again</td>\n",
              "    </tr>\n",
              "    <tr>\n",
              "      <th>10</th>\n",
              "      <td>Bitcoin Price in 2014</td>\n",
              "      <td>Bitcoin Price in 2014</td>\n",
              "      <td>सन्‌ 2014 में बिटोन मूल्य</td>\n",
              "      <td>Bitcoin Price in 2014</td>\n",
              "    </tr>\n",
              "    <tr>\n",
              "      <th>11</th>\n",
              "      <td>This is probably the best time to invest in Bi...</td>\n",
              "      <td>This is probably the best time to invest in Bi...</td>\n",
              "      <td>शायद यह बिटको में निवेश करने का सबसे अच्छा समय है</td>\n",
              "      <td>This is probably the best time to invest in Bi...</td>\n",
              "    </tr>\n",
              "    <tr>\n",
              "      <th>12</th>\n",
              "      <td>Comparing Bitcoins and Oranges</td>\n",
              "      <td>Comparing Bitcoins and Oranges</td>\n",
              "      <td>बिटमेसिन्स तथा नारंगी तुलना करना</td>\n",
              "      <td>Comparing Bitcoins and Oranges</td>\n",
              "    </tr>\n",
              "    <tr>\n",
              "      <th>13</th>\n",
              "      <td>Key Bitcoin Price Levels for the Week Ahead</td>\n",
              "      <td>Key Bitcoin Price Levels for the Week Ahead</td>\n",
              "      <td>सप्ताह के लिए कुंजी बिट- स्तर आगे</td>\n",
              "      <td>Key Bitcoin Price Levels for the Week Ahead</td>\n",
              "    </tr>\n",
              "    <tr>\n",
              "      <th>14</th>\n",
              "      <td>The 2014 Bitcoin War Has Started— And it is Bo...</td>\n",
              "      <td>The 2014 Bitcoin War Has Started— And it is Bo...</td>\n",
              "      <td>2014 बिटपर युद्ध शुरू किया है - और यह है बॉबी ...</td>\n",
              "      <td>The 2014 Bitcoin War Has Started— And it is Bo...</td>\n",
              "    </tr>\n",
              "    <tr>\n",
              "      <th>15</th>\n",
              "      <td>Two new Bitcoin ASIC Miners : Scam or Real?</td>\n",
              "      <td>Two new Bitcoin ASIC Miners : Scam or Real?</td>\n",
              "      <td>दो नए बिट बिटपरन</td>\n",
              "      <td>Two new Bitcoin ASIC Miners : Scam or Real?</td>\n",
              "    </tr>\n",
              "    <tr>\n",
              "      <th>16</th>\n",
              "      <td>KnCMiner Announces 2TH/s Bitcoin ASIC Miner</td>\n",
              "      <td>KnCMiner Announces 2TH/s Bitcoin ASIC Miner</td>\n",
              "      <td>केनसीममंर घोषणा 2 माह/snin Mer</td>\n",
              "      <td>KnCMiner Announces 2TH/s Bitcoin ASIC Miner</td>\n",
              "    </tr>\n",
              "    <tr>\n",
              "      <th>17</th>\n",
              "      <td>PSA: Do Not Fall for the Apple Bitcoin Miner Hoax</td>\n",
              "      <td>PSA: Do Not Fall for the Apple Bitcoin Miner Hoax</td>\n",
              "      <td>PSA: एपीपेर होक्स के लिए मत गिरिए</td>\n",
              "      <td>PSA: Do Not Fall for the Apple Bitcoin Miner Hoax</td>\n",
              "    </tr>\n",
              "    <tr>\n",
              "      <th>18</th>\n",
              "      <td>Breaking News:</td>\n",
              "      <td>Breaking News: HashCows Mining Pool Hacked</td>\n",
              "      <td>समाचार ब्रेकिंगः</td>\n",
              "      <td>Breaking News: HashCows Mining Pool Hacked</td>\n",
              "    </tr>\n",
              "    <tr>\n",
              "      <th>18</th>\n",
              "      <td>HashCows Mining Pool Hacked</td>\n",
              "      <td>Breaking News: HashCows Mining Pool Hacked</td>\n",
              "      <td>हैश- बस्स पूलिंग</td>\n",
              "      <td>Breaking News: HashCows Mining Pool Hacked</td>\n",
              "    </tr>\n",
              "    <tr>\n",
              "      <th>19</th>\n",
              "      <td>Primecoin Cloud Mining using Digital Ocean – T...</td>\n",
              "      <td>Primecoin Cloud Mining using Digital Ocean – T...</td>\n",
              "      <td>डिजिटल महासागर - पूर्ण मार्गदर्शक का प्रयोग कर...</td>\n",
              "      <td>Primecoin Cloud Mining using Digital Ocean – T...</td>\n",
              "    </tr>\n",
              "  </tbody>\n",
              "</table>\n",
              "</div>"
            ],
            "text/plain": [
              "                                                       sentence  ...                                              title\n",
              "origin_index                                                     ...                                                   \n",
              "0                Bitcoin Price Update: Will China Lead us Down?  ...     Bitcoin Price Update: Will China Lead us Down?\n",
              "1             Key Bitcoin Price Levels for Week 51 (15 – 22 ...  ...  Key Bitcoin Price Levels for Week 51 (15 – 22 ...\n",
              "2             National Australia Bank, Citing Highly Flawed ...  ...  National Australia Bank, Citing Highly Flawed ...\n",
              "3             Chinese Bitcoin Ban Driven by  Chinese Banking...  ...  Chinese Bitcoin Ban Driven by  Chinese Banking...\n",
              "4                         Bitcoin Trade Update: Opened Position  ...              Bitcoin Trade Update: Opened Position\n",
              "5             Key Bitcoin Price Levels for Week 52 (22 – 28 ...  ...  Key Bitcoin Price Levels for Week 52 (22 – 28 ...\n",
              "6                                              Bitcoin Survival  ...                                   Bitcoin Survival\n",
              "7                                 Massive Bitcoin Sell Going On  ...                      Massive Bitcoin Sell Going On\n",
              "8             Why Bitcoin will rise on Monday 23rd by more t...  ...  Why Bitcoin will rise on Monday 23rd by more t...\n",
              "9                   Why Bitcoin is falling, and will rise again  ...        Why Bitcoin is falling, and will rise again\n",
              "10                                        Bitcoin Price in 2014  ...                              Bitcoin Price in 2014\n",
              "11            This is probably the best time to invest in Bi...  ...  This is probably the best time to invest in Bi...\n",
              "12                               Comparing Bitcoins and Oranges  ...                     Comparing Bitcoins and Oranges\n",
              "13                  Key Bitcoin Price Levels for the Week Ahead  ...        Key Bitcoin Price Levels for the Week Ahead\n",
              "14            The 2014 Bitcoin War Has Started— And it is Bo...  ...  The 2014 Bitcoin War Has Started— And it is Bo...\n",
              "15                  Two new Bitcoin ASIC Miners : Scam or Real?  ...        Two new Bitcoin ASIC Miners : Scam or Real?\n",
              "16                  KnCMiner Announces 2TH/s Bitcoin ASIC Miner  ...        KnCMiner Announces 2TH/s Bitcoin ASIC Miner\n",
              "17            PSA: Do Not Fall for the Apple Bitcoin Miner Hoax  ...  PSA: Do Not Fall for the Apple Bitcoin Miner Hoax\n",
              "18                                               Breaking News:  ...         Breaking News: HashCows Mining Pool Hacked\n",
              "18                                  HashCows Mining Pool Hacked  ...         Breaking News: HashCows Mining Pool Hacked\n",
              "19            Primecoin Cloud Mining using Digital Ocean – T...  ...  Primecoin Cloud Mining using Digital Ocean – T...\n",
              "\n",
              "[21 rows x 4 columns]"
            ]
          },
          "metadata": {
            "tags": []
          },
          "execution_count": 5
        }
      ]
    },
    {
      "cell_type": "markdown",
      "metadata": {
        "id": "50Ap0BIujDWr"
      },
      "source": [
        "# Train a Multi Lingual Classifier for 100+ languages from a dataset with just one language\n",
        "\n",
        "[Leverage Language-agnostic BERT Sentence Embedding (LABSE)​ and acheive state of the art!](https://arxiv.org/abs/2007.01852) ​  ​  \n",
        "\n",
        "Training a classifier with LABSE embeddings enables the knowledge to be transferred to 109 languages!\n",
        "With the [SentimentDL model](https://nlp.johnsnowlabs.com/docs/en/annotators#sentimentdl-multi-class-sentiment-analysis-annotator)  from Spark NLP you can achieve State Of the Art results on any binary class text classification problem.\n",
        "\n",
        "### Languages suppoted by LABSE\n",
        "![labse languages](http://ckl-it.de/wp-content/uploads/2021/02/LABSE.png)\n",
        "\n"
      ]
    },
    {
      "cell_type": "code",
      "metadata": {
        "colab": {
          "base_uri": "https://localhost:8080/",
          "height": 416
        },
        "id": "y4xSRWIhwT28",
        "outputId": "d244e1f7-36f9-4078-dd2f-496faa965763"
      },
      "source": [
        "# Download French twitter  Sentiment dataset  https://www.kaggle.com/hbaflast/french-twitter-sentiment-analysis\n",
        "! wget http://ckl-it.de/wp-content/uploads/2021/02/french_tweets.csv\n",
        "\n",
        "import pandas as pd\n",
        "\n",
        "train_path = '/content/french_tweets.csv'\n",
        "\n",
        "train_df = pd.read_csv(train_path)\n",
        "# the text data to use for classification should be in a column named 'text'\n",
        "columns=['text','y']\n",
        "train_df = train_df[columns]\n",
        "train_df = train_df.sample(frac=1).reset_index(drop=True)\n",
        "train_df"
      ],
      "execution_count": null,
      "outputs": [
        {
          "output_type": "execute_result",
          "data": {
            "text/html": [
              "<div>\n",
              "<style scoped>\n",
              "    .dataframe tbody tr th:only-of-type {\n",
              "        vertical-align: middle;\n",
              "    }\n",
              "\n",
              "    .dataframe tbody tr th {\n",
              "        vertical-align: top;\n",
              "    }\n",
              "\n",
              "    .dataframe thead th {\n",
              "        text-align: right;\n",
              "    }\n",
              "</style>\n",
              "<table border=\"1\" class=\"dataframe\">\n",
              "  <thead>\n",
              "    <tr style=\"text-align: right;\">\n",
              "      <th></th>\n",
              "      <th>text</th>\n",
              "      <th>y</th>\n",
              "    </tr>\n",
              "  </thead>\n",
              "  <tbody>\n",
              "    <tr>\n",
              "      <th>0</th>\n",
              "      <td>Nous avons apprÃ©ciÃ© la tournÃ©e en vÃ©lo du ...</td>\n",
              "      <td>positive</td>\n",
              "    </tr>\n",
              "    <tr>\n",
              "      <th>1</th>\n",
              "      <td>&amp; Quot; retournez-vous sur le chagrin brisÃ©, ...</td>\n",
              "      <td>positive</td>\n",
              "    </tr>\n",
              "    <tr>\n",
              "      <th>2</th>\n",
              "      <td>Le gagnant gagnant du prix a Ã©tÃ© crÃ©Ã© pour...</td>\n",
              "      <td>negative</td>\n",
              "    </tr>\n",
              "    <tr>\n",
              "      <th>3</th>\n",
              "      <td>Est venu maintenant de l'Ã©cole ... Ã©tait tel...</td>\n",
              "      <td>negative</td>\n",
              "    </tr>\n",
              "    <tr>\n",
              "      <th>4</th>\n",
              "      <td>Dans la cuisine avec des hongrois, faisant du ...</td>\n",
              "      <td>positive</td>\n",
              "    </tr>\n",
              "    <tr>\n",
              "      <th>...</th>\n",
              "      <td>...</td>\n",
              "      <td>...</td>\n",
              "    </tr>\n",
              "    <tr>\n",
              "      <th>99995</th>\n",
              "      <td>Merci. Je ne pense pas que je serai un grand f...</td>\n",
              "      <td>positive</td>\n",
              "    </tr>\n",
              "    <tr>\n",
              "      <th>99996</th>\n",
              "      <td>Je pense qu'ils Ã©taient aprÃ¨s que mon petit ...</td>\n",
              "      <td>negative</td>\n",
              "    </tr>\n",
              "    <tr>\n",
              "      <th>99997</th>\n",
              "      <td>Oui, j'adore les Caramellow! Seulement deux jo...</td>\n",
              "      <td>positive</td>\n",
              "    </tr>\n",
              "    <tr>\n",
              "      <th>99998</th>\n",
              "      <td>Je ne peux pas croire qu'elle soit Ã©veillÃ©e ...</td>\n",
              "      <td>negative</td>\n",
              "    </tr>\n",
              "    <tr>\n",
              "      <th>99999</th>\n",
              "      <td>4hours boom boom</td>\n",
              "      <td>positive</td>\n",
              "    </tr>\n",
              "  </tbody>\n",
              "</table>\n",
              "<p>100000 rows × 2 columns</p>\n",
              "</div>"
            ],
            "text/plain": [
              "                                                    text         y\n",
              "0      Nous avons apprÃ©ciÃ© la tournÃ©e en vÃ©lo du ...  positive\n",
              "1      & Quot; retournez-vous sur le chagrin brisÃ©, ...  positive\n",
              "2      Le gagnant gagnant du prix a Ã©tÃ© crÃ©Ã© pour...  negative\n",
              "3      Est venu maintenant de l'Ã©cole ... Ã©tait tel...  negative\n",
              "4      Dans la cuisine avec des hongrois, faisant du ...  positive\n",
              "...                                                  ...       ...\n",
              "99995  Merci. Je ne pense pas que je serai un grand f...  positive\n",
              "99996  Je pense qu'ils Ã©taient aprÃ¨s que mon petit ...  negative\n",
              "99997  Oui, j'adore les Caramellow! Seulement deux jo...  positive\n",
              "99998  Je ne peux pas croire qu'elle soit Ã©veillÃ©e ...  negative\n",
              "99999                                   4hours boom boom  positive\n",
              "\n",
              "[100000 rows x 2 columns]"
            ]
          },
          "metadata": {
            "tags": []
          },
          "execution_count": 3
        }
      ]
    },
    {
      "cell_type": "markdown",
      "metadata": {
        "id": "0296Om2C5anY"
      },
      "source": [
        "## Train Deep Learning Classifier using `nlu.load('train.sentiment')`\n",
        "\n",
        "Al you need is a Pandas Dataframe with a label column named `y` and the column with text data should be named `text`\n",
        "\n",
        "We are training on a french dataset and can then predict classes correct **in 100+ langauges**"
      ]
    },
    {
      "cell_type": "code",
      "metadata": {
        "colab": {
          "base_uri": "https://localhost:8080/",
          "height": 654
        },
        "id": "mptfvHx-MMMX",
        "outputId": "d264cbe7-194f-41e4-9dd4-c876e5209525"
      },
      "source": [
        "# Train longer!\n",
        "trainable_pipe = nlu.load('xx.embed_sentence.labse train.sentiment')\n",
        "trainable_pipe['sentiment_dl'].setMaxEpochs(60)  \n",
        "trainable_pipe['sentiment_dl'].setLr(0.005) \n",
        "fitted_pipe = trainable_pipe.fit(train_df.iloc[:2000])\n",
        "# predict with the trainable pipeline on dataset and get predictions\n",
        "preds = fitted_pipe.predict(train_df.iloc[:2000],output_level='document')\n",
        "\n",
        "#sentence detector that is part of the pipe generates sone NaNs. lets drop them first\n",
        "preds.dropna(inplace=True)\n",
        "print(classification_report(preds['y'], preds['sentiment']))\n",
        "\n",
        "preds"
      ],
      "execution_count": null,
      "outputs": [
        {
          "output_type": "stream",
          "text": [
            "labse download started this may take some time.\n",
            "Approximate size to download 1.7 GB\n",
            "[OK!]\n",
            "              precision    recall  f1-score   support\n",
            "\n",
            "    negative       0.88      0.94      0.91       980\n",
            "    positive       0.94      0.88      0.91      1020\n",
            "\n",
            "    accuracy                           0.91      2000\n",
            "   macro avg       0.91      0.91      0.91      2000\n",
            "weighted avg       0.91      0.91      0.91      2000\n",
            "\n"
          ],
          "name": "stdout"
        },
        {
          "output_type": "execute_result",
          "data": {
            "text/html": [
              "<div>\n",
              "<style scoped>\n",
              "    .dataframe tbody tr th:only-of-type {\n",
              "        vertical-align: middle;\n",
              "    }\n",
              "\n",
              "    .dataframe tbody tr th {\n",
              "        vertical-align: top;\n",
              "    }\n",
              "\n",
              "    .dataframe thead th {\n",
              "        text-align: right;\n",
              "    }\n",
              "</style>\n",
              "<table border=\"1\" class=\"dataframe\">\n",
              "  <thead>\n",
              "    <tr style=\"text-align: right;\">\n",
              "      <th></th>\n",
              "      <th>text</th>\n",
              "      <th>y</th>\n",
              "      <th>xx_embed_sentence_labse_embeddings</th>\n",
              "      <th>sentiment</th>\n",
              "      <th>document</th>\n",
              "      <th>sentiment_confidence</th>\n",
              "    </tr>\n",
              "    <tr>\n",
              "      <th>origin_index</th>\n",
              "      <th></th>\n",
              "      <th></th>\n",
              "      <th></th>\n",
              "      <th></th>\n",
              "      <th></th>\n",
              "      <th></th>\n",
              "    </tr>\n",
              "  </thead>\n",
              "  <tbody>\n",
              "    <tr>\n",
              "      <th>0</th>\n",
              "      <td>Nous avons apprÃ©ciÃ© la tournÃ©e en vÃ©lo du ...</td>\n",
              "      <td>positive</td>\n",
              "      <td>[0.01069789007306099, -0.002380969701334834, -...</td>\n",
              "      <td>positive</td>\n",
              "      <td>Nous avons apprÃ©ciÃ© la tournÃ©e en vÃ©lo du ...</td>\n",
              "      <td>0.999971</td>\n",
              "    </tr>\n",
              "    <tr>\n",
              "      <th>1</th>\n",
              "      <td>&amp; Quot; retournez-vous sur le chagrin brisÃ©, ...</td>\n",
              "      <td>positive</td>\n",
              "      <td>[-0.04572410136461258, -0.04519180953502655, -...</td>\n",
              "      <td>negative</td>\n",
              "      <td>&amp; Quot; retournez-vous sur le chagrin brisÃ©, ...</td>\n",
              "      <td>0.999979</td>\n",
              "    </tr>\n",
              "    <tr>\n",
              "      <th>2</th>\n",
              "      <td>Le gagnant gagnant du prix a Ã©tÃ© crÃ©Ã© pour...</td>\n",
              "      <td>negative</td>\n",
              "      <td>[0.008320541121065617, -0.0072850980795919895,...</td>\n",
              "      <td>negative</td>\n",
              "      <td>Le gagnant gagnant du prix a Ã©tÃ© crÃ©Ã© pour...</td>\n",
              "      <td>0.999638</td>\n",
              "    </tr>\n",
              "    <tr>\n",
              "      <th>3</th>\n",
              "      <td>Est venu maintenant de l'Ã©cole ... Ã©tait tel...</td>\n",
              "      <td>negative</td>\n",
              "      <td>[-0.035592492669820786, -0.05076301470398903, ...</td>\n",
              "      <td>negative</td>\n",
              "      <td>Est venu maintenant de l'Ã©cole ... Ã©tait tel...</td>\n",
              "      <td>1.000000</td>\n",
              "    </tr>\n",
              "    <tr>\n",
              "      <th>4</th>\n",
              "      <td>Dans la cuisine avec des hongrois, faisant du ...</td>\n",
              "      <td>positive</td>\n",
              "      <td>[0.01866792142391205, -0.06534530222415924, -0...</td>\n",
              "      <td>positive</td>\n",
              "      <td>Dans la cuisine avec des hongrois, faisant du ...</td>\n",
              "      <td>0.999910</td>\n",
              "    </tr>\n",
              "    <tr>\n",
              "      <th>...</th>\n",
              "      <td>...</td>\n",
              "      <td>...</td>\n",
              "      <td>...</td>\n",
              "      <td>...</td>\n",
              "      <td>...</td>\n",
              "      <td>...</td>\n",
              "    </tr>\n",
              "    <tr>\n",
              "      <th>1995</th>\n",
              "      <td>Vous devez suivre - transmettez-le ...</td>\n",
              "      <td>positive</td>\n",
              "      <td>[0.0030759747605770826, -0.04513533040881157, ...</td>\n",
              "      <td>positive</td>\n",
              "      <td>Vous devez suivre - transmettez-le ...</td>\n",
              "      <td>0.999833</td>\n",
              "    </tr>\n",
              "    <tr>\n",
              "      <th>1996</th>\n",
              "      <td>J'allais avoir ces pantalons gris luxuriants d...</td>\n",
              "      <td>negative</td>\n",
              "      <td>[-0.019949736073613167, 0.0064233033917844296,...</td>\n",
              "      <td>negative</td>\n",
              "      <td>J'allais avoir ces pantalons gris luxuriants d...</td>\n",
              "      <td>1.000000</td>\n",
              "    </tr>\n",
              "    <tr>\n",
              "      <th>1997</th>\n",
              "      <td>Juste \"quitter\" Les gens doivent dormir mainte...</td>\n",
              "      <td>positive</td>\n",
              "      <td>[-0.035448476672172546, -0.046279553323984146,...</td>\n",
              "      <td>positive</td>\n",
              "      <td>Juste \"quitter\" Les gens doivent dormir mainte...</td>\n",
              "      <td>0.995777</td>\n",
              "    </tr>\n",
              "    <tr>\n",
              "      <th>1998</th>\n",
              "      <td>Je suis un oreiller court.</td>\n",
              "      <td>negative</td>\n",
              "      <td>[-0.03656604886054993, 0.0003994253638666123, ...</td>\n",
              "      <td>negative</td>\n",
              "      <td>Je suis un oreiller court.</td>\n",
              "      <td>0.998347</td>\n",
              "    </tr>\n",
              "    <tr>\n",
              "      <th>1999</th>\n",
              "      <td>- walker granny w.shoshorts crainte</td>\n",
              "      <td>negative</td>\n",
              "      <td>[-0.003210075432434678, -0.07238200306892395, ...</td>\n",
              "      <td>negative</td>\n",
              "      <td>- walker granny w.shoshorts crainte</td>\n",
              "      <td>1.000000</td>\n",
              "    </tr>\n",
              "  </tbody>\n",
              "</table>\n",
              "<p>2000 rows × 6 columns</p>\n",
              "</div>"
            ],
            "text/plain": [
              "                                                           text  ... sentiment_confidence\n",
              "origin_index                                                     ...                     \n",
              "0             Nous avons apprÃ©ciÃ© la tournÃ©e en vÃ©lo du ...  ...             0.999971\n",
              "1             & Quot; retournez-vous sur le chagrin brisÃ©, ...  ...             0.999979\n",
              "2             Le gagnant gagnant du prix a Ã©tÃ© crÃ©Ã© pour...  ...             0.999638\n",
              "3             Est venu maintenant de l'Ã©cole ... Ã©tait tel...  ...             1.000000\n",
              "4             Dans la cuisine avec des hongrois, faisant du ...  ...             0.999910\n",
              "...                                                         ...  ...                  ...\n",
              "1995                     Vous devez suivre - transmettez-le ...  ...             0.999833\n",
              "1996          J'allais avoir ces pantalons gris luxuriants d...  ...             1.000000\n",
              "1997          Juste \"quitter\" Les gens doivent dormir mainte...  ...             0.995777\n",
              "1998                                 Je suis un oreiller court.  ...             0.998347\n",
              "1999                        - walker granny w.shoshorts crainte  ...             1.000000\n",
              "\n",
              "[2000 rows x 6 columns]"
            ]
          },
          "metadata": {
            "tags": []
          },
          "execution_count": 4
        }
      ]
    },
    {
      "cell_type": "markdown",
      "metadata": {
        "id": "lVyOE2wV0fw_"
      },
      "source": [
        "### Test the fitted pipe on new example"
      ]
    },
    {
      "cell_type": "markdown",
      "metadata": {
        "id": "RjtuNUcvuJTT"
      },
      "source": [
        "#### The Model understands Englsih\n",
        "![en](https://www.worldometers.info/img/flags/small/tn_nz-flag.gif)"
      ]
    },
    {
      "cell_type": "code",
      "metadata": {
        "colab": {
          "base_uri": "https://localhost:8080/",
          "height": 110
        },
        "id": "o0vu7PaWkcI7",
        "outputId": "f99f9f9d-f5f5-49cd-a8a2-a655a2b9d1c6"
      },
      "source": [
        "fitted_pipe.predict(\"This was awful!\")"
      ],
      "execution_count": null,
      "outputs": [
        {
          "output_type": "execute_result",
          "data": {
            "text/html": [
              "<div>\n",
              "<style scoped>\n",
              "    .dataframe tbody tr th:only-of-type {\n",
              "        vertical-align: middle;\n",
              "    }\n",
              "\n",
              "    .dataframe tbody tr th {\n",
              "        vertical-align: top;\n",
              "    }\n",
              "\n",
              "    .dataframe thead th {\n",
              "        text-align: right;\n",
              "    }\n",
              "</style>\n",
              "<table border=\"1\" class=\"dataframe\">\n",
              "  <thead>\n",
              "    <tr style=\"text-align: right;\">\n",
              "      <th></th>\n",
              "      <th>xx_embed_sentence_labse_embeddings</th>\n",
              "      <th>sentiment</th>\n",
              "      <th>document</th>\n",
              "      <th>sentiment_confidence</th>\n",
              "    </tr>\n",
              "    <tr>\n",
              "      <th>origin_index</th>\n",
              "      <th></th>\n",
              "      <th></th>\n",
              "      <th></th>\n",
              "      <th></th>\n",
              "    </tr>\n",
              "  </thead>\n",
              "  <tbody>\n",
              "    <tr>\n",
              "      <th>0</th>\n",
              "      <td>[0.034723345190286636, -0.06212149187922478, -...</td>\n",
              "      <td>negative</td>\n",
              "      <td>This was awful!</td>\n",
              "      <td>0.999652</td>\n",
              "    </tr>\n",
              "  </tbody>\n",
              "</table>\n",
              "</div>"
            ],
            "text/plain": [
              "                             xx_embed_sentence_labse_embeddings  ... sentiment_confidence\n",
              "origin_index                                                     ...                     \n",
              "0             [0.034723345190286636, -0.06212149187922478, -...  ...             0.999652\n",
              "\n",
              "[1 rows x 4 columns]"
            ]
          },
          "metadata": {
            "tags": []
          },
          "execution_count": 5
        }
      ]
    },
    {
      "cell_type": "code",
      "metadata": {
        "colab": {
          "base_uri": "https://localhost:8080/",
          "height": 110
        },
        "id": "1ykjRQhCtQ4w",
        "outputId": "433cc76c-af68-4308-b6a0-8b86435f29da"
      },
      "source": [
        "fitted_pipe.predict(\"This was great!\")"
      ],
      "execution_count": null,
      "outputs": [
        {
          "output_type": "execute_result",
          "data": {
            "text/html": [
              "<div>\n",
              "<style scoped>\n",
              "    .dataframe tbody tr th:only-of-type {\n",
              "        vertical-align: middle;\n",
              "    }\n",
              "\n",
              "    .dataframe tbody tr th {\n",
              "        vertical-align: top;\n",
              "    }\n",
              "\n",
              "    .dataframe thead th {\n",
              "        text-align: right;\n",
              "    }\n",
              "</style>\n",
              "<table border=\"1\" class=\"dataframe\">\n",
              "  <thead>\n",
              "    <tr style=\"text-align: right;\">\n",
              "      <th></th>\n",
              "      <th>xx_embed_sentence_labse_embeddings</th>\n",
              "      <th>sentiment</th>\n",
              "      <th>document</th>\n",
              "      <th>sentiment_confidence</th>\n",
              "    </tr>\n",
              "    <tr>\n",
              "      <th>origin_index</th>\n",
              "      <th></th>\n",
              "      <th></th>\n",
              "      <th></th>\n",
              "      <th></th>\n",
              "    </tr>\n",
              "  </thead>\n",
              "  <tbody>\n",
              "    <tr>\n",
              "      <th>0</th>\n",
              "      <td>[0.03868240490555763, -0.058592554181814194, -...</td>\n",
              "      <td>positive</td>\n",
              "      <td>This was great!</td>\n",
              "      <td>0.999994</td>\n",
              "    </tr>\n",
              "  </tbody>\n",
              "</table>\n",
              "</div>"
            ],
            "text/plain": [
              "                             xx_embed_sentence_labse_embeddings  ... sentiment_confidence\n",
              "origin_index                                                     ...                     \n",
              "0             [0.03868240490555763, -0.058592554181814194, -...  ...             0.999994\n",
              "\n",
              "[1 rows x 4 columns]"
            ]
          },
          "metadata": {
            "tags": []
          },
          "execution_count": 6
        }
      ]
    },
    {
      "cell_type": "markdown",
      "metadata": {
        "id": "vohym-XbuNHn"
      },
      "source": [
        "#### The Model understands German\n",
        "![de](https://www.worldometers.info/img/flags/small/tn_gm-flag.gif)"
      ]
    },
    {
      "cell_type": "code",
      "metadata": {
        "colab": {
          "base_uri": "https://localhost:8080/",
          "height": 110
        },
        "id": "dzaaZrI4tVWc",
        "outputId": "6a5f31a3-8438-4860-d17b-b4135a391cab"
      },
      "source": [
        "# German for:' this movie was great!'\n",
        "fitted_pipe.predict(\"Der Film war echt klasse!\")"
      ],
      "execution_count": null,
      "outputs": [
        {
          "output_type": "execute_result",
          "data": {
            "text/html": [
              "<div>\n",
              "<style scoped>\n",
              "    .dataframe tbody tr th:only-of-type {\n",
              "        vertical-align: middle;\n",
              "    }\n",
              "\n",
              "    .dataframe tbody tr th {\n",
              "        vertical-align: top;\n",
              "    }\n",
              "\n",
              "    .dataframe thead th {\n",
              "        text-align: right;\n",
              "    }\n",
              "</style>\n",
              "<table border=\"1\" class=\"dataframe\">\n",
              "  <thead>\n",
              "    <tr style=\"text-align: right;\">\n",
              "      <th></th>\n",
              "      <th>xx_embed_sentence_labse_embeddings</th>\n",
              "      <th>sentiment</th>\n",
              "      <th>document</th>\n",
              "      <th>sentiment_confidence</th>\n",
              "    </tr>\n",
              "    <tr>\n",
              "      <th>origin_index</th>\n",
              "      <th></th>\n",
              "      <th></th>\n",
              "      <th></th>\n",
              "      <th></th>\n",
              "    </tr>\n",
              "  </thead>\n",
              "  <tbody>\n",
              "    <tr>\n",
              "      <th>0</th>\n",
              "      <td>[-0.015189268626272678, -0.04834830388426781, ...</td>\n",
              "      <td>positive</td>\n",
              "      <td>Der Film war echt klasse!</td>\n",
              "      <td>0.999732</td>\n",
              "    </tr>\n",
              "  </tbody>\n",
              "</table>\n",
              "</div>"
            ],
            "text/plain": [
              "                             xx_embed_sentence_labse_embeddings  ... sentiment_confidence\n",
              "origin_index                                                     ...                     \n",
              "0             [-0.015189268626272678, -0.04834830388426781, ...  ...             0.999732\n",
              "\n",
              "[1 rows x 4 columns]"
            ]
          },
          "metadata": {
            "tags": []
          },
          "execution_count": 8
        }
      ]
    },
    {
      "cell_type": "code",
      "metadata": {
        "colab": {
          "base_uri": "https://localhost:8080/",
          "height": 110
        },
        "id": "BbhgTSBGtTtJ",
        "outputId": "ee0b2fdf-ea41-4b99-dbc4-690e47556e38"
      },
      "source": [
        "# German for: 'This movie was really boring'\n",
        "fitted_pipe.predict(\"Der Film war echt langweilig!\")"
      ],
      "execution_count": null,
      "outputs": [
        {
          "output_type": "execute_result",
          "data": {
            "text/html": [
              "<div>\n",
              "<style scoped>\n",
              "    .dataframe tbody tr th:only-of-type {\n",
              "        vertical-align: middle;\n",
              "    }\n",
              "\n",
              "    .dataframe tbody tr th {\n",
              "        vertical-align: top;\n",
              "    }\n",
              "\n",
              "    .dataframe thead th {\n",
              "        text-align: right;\n",
              "    }\n",
              "</style>\n",
              "<table border=\"1\" class=\"dataframe\">\n",
              "  <thead>\n",
              "    <tr style=\"text-align: right;\">\n",
              "      <th></th>\n",
              "      <th>xx_embed_sentence_labse_embeddings</th>\n",
              "      <th>sentiment</th>\n",
              "      <th>document</th>\n",
              "      <th>sentiment_confidence</th>\n",
              "    </tr>\n",
              "    <tr>\n",
              "      <th>origin_index</th>\n",
              "      <th></th>\n",
              "      <th></th>\n",
              "      <th></th>\n",
              "      <th></th>\n",
              "    </tr>\n",
              "  </thead>\n",
              "  <tbody>\n",
              "    <tr>\n",
              "      <th>0</th>\n",
              "      <td>[-0.013573350384831429, -0.05144454166293144, ...</td>\n",
              "      <td>negative</td>\n",
              "      <td>Der Film war echt langweilig!</td>\n",
              "      <td>0.999968</td>\n",
              "    </tr>\n",
              "  </tbody>\n",
              "</table>\n",
              "</div>"
            ],
            "text/plain": [
              "                             xx_embed_sentence_labse_embeddings  ... sentiment_confidence\n",
              "origin_index                                                     ...                     \n",
              "0             [-0.013573350384831429, -0.05144454166293144, ...  ...             0.999968\n",
              "\n",
              "[1 rows x 4 columns]"
            ]
          },
          "metadata": {
            "tags": []
          },
          "execution_count": 9
        }
      ]
    },
    {
      "cell_type": "markdown",
      "metadata": {
        "id": "a1JbtmWquQwj"
      },
      "source": [
        "#### The Model understands Chinese\n",
        "![zh](https://www.worldometers.info/img/flags/small/tn_ch-flag.gif)"
      ]
    },
    {
      "cell_type": "code",
      "metadata": {
        "colab": {
          "base_uri": "https://localhost:8080/",
          "height": 110
        },
        "id": "kYSYqtoRtc-P",
        "outputId": "e7de8c84-d564-4c0f-f110-62334aa3ba3c"
      },
      "source": [
        "# Chinese for: \"This model was awful!\"\n",
        "fitted_pipe.predict(\"这部电影太糟糕了！\")"
      ],
      "execution_count": null,
      "outputs": [
        {
          "output_type": "execute_result",
          "data": {
            "text/html": [
              "<div>\n",
              "<style scoped>\n",
              "    .dataframe tbody tr th:only-of-type {\n",
              "        vertical-align: middle;\n",
              "    }\n",
              "\n",
              "    .dataframe tbody tr th {\n",
              "        vertical-align: top;\n",
              "    }\n",
              "\n",
              "    .dataframe thead th {\n",
              "        text-align: right;\n",
              "    }\n",
              "</style>\n",
              "<table border=\"1\" class=\"dataframe\">\n",
              "  <thead>\n",
              "    <tr style=\"text-align: right;\">\n",
              "      <th></th>\n",
              "      <th>xx_embed_sentence_labse_embeddings</th>\n",
              "      <th>sentiment</th>\n",
              "      <th>document</th>\n",
              "      <th>sentiment_confidence</th>\n",
              "    </tr>\n",
              "    <tr>\n",
              "      <th>origin_index</th>\n",
              "      <th></th>\n",
              "      <th></th>\n",
              "      <th></th>\n",
              "      <th></th>\n",
              "    </tr>\n",
              "  </thead>\n",
              "  <tbody>\n",
              "    <tr>\n",
              "      <th>0</th>\n",
              "      <td>[-0.05075530335307121, -0.061598796397447586, ...</td>\n",
              "      <td>negative</td>\n",
              "      <td>这部电影太糟糕了！</td>\n",
              "      <td>1.000000</td>\n",
              "    </tr>\n",
              "  </tbody>\n",
              "</table>\n",
              "</div>"
            ],
            "text/plain": [
              "                             xx_embed_sentence_labse_embeddings  ... sentiment_confidence\n",
              "origin_index                                                     ...                     \n",
              "0             [-0.05075530335307121, -0.061598796397447586, ...  ...             1.000000\n",
              "\n",
              "[1 rows x 4 columns]"
            ]
          },
          "metadata": {
            "tags": []
          },
          "execution_count": 10
        }
      ]
    },
    {
      "cell_type": "code",
      "metadata": {
        "colab": {
          "base_uri": "https://localhost:8080/",
          "height": 110
        },
        "id": "06v9SD-QtlBU",
        "outputId": "7b3ed8e3-3d64-42ae-98f9-12ac8f931b51"
      },
      "source": [
        "# Chine for : \"This move was great!\"\n",
        "fitted_pipe.predict(\"此举很棒！\")\n"
      ],
      "execution_count": null,
      "outputs": [
        {
          "output_type": "execute_result",
          "data": {
            "text/html": [
              "<div>\n",
              "<style scoped>\n",
              "    .dataframe tbody tr th:only-of-type {\n",
              "        vertical-align: middle;\n",
              "    }\n",
              "\n",
              "    .dataframe tbody tr th {\n",
              "        vertical-align: top;\n",
              "    }\n",
              "\n",
              "    .dataframe thead th {\n",
              "        text-align: right;\n",
              "    }\n",
              "</style>\n",
              "<table border=\"1\" class=\"dataframe\">\n",
              "  <thead>\n",
              "    <tr style=\"text-align: right;\">\n",
              "      <th></th>\n",
              "      <th>xx_embed_sentence_labse_embeddings</th>\n",
              "      <th>sentiment</th>\n",
              "      <th>document</th>\n",
              "      <th>sentiment_confidence</th>\n",
              "    </tr>\n",
              "    <tr>\n",
              "      <th>origin_index</th>\n",
              "      <th></th>\n",
              "      <th></th>\n",
              "      <th></th>\n",
              "      <th></th>\n",
              "    </tr>\n",
              "  </thead>\n",
              "  <tbody>\n",
              "    <tr>\n",
              "      <th>0</th>\n",
              "      <td>[0.026034891605377197, -0.06586713343858719, -...</td>\n",
              "      <td>positive</td>\n",
              "      <td>此举很棒！</td>\n",
              "      <td>0.999995</td>\n",
              "    </tr>\n",
              "  </tbody>\n",
              "</table>\n",
              "</div>"
            ],
            "text/plain": [
              "                             xx_embed_sentence_labse_embeddings  ... sentiment_confidence\n",
              "origin_index                                                     ...                     \n",
              "0             [0.026034891605377197, -0.06586713343858719, -...  ...             0.999995\n",
              "\n",
              "[1 rows x 4 columns]"
            ]
          },
          "metadata": {
            "tags": []
          },
          "execution_count": 11
        }
      ]
    },
    {
      "cell_type": "markdown",
      "metadata": {
        "id": "9h7CvN4uu9Pb"
      },
      "source": [
        "#### Model understanda Afrikaans\n",
        "\n",
        "![af](https://www.worldometers.info/img/flags/small/tn_sf-flag.gif)\n",
        "\n"
      ]
    },
    {
      "cell_type": "code",
      "metadata": {
        "colab": {
          "base_uri": "https://localhost:8080/",
          "height": 110
        },
        "id": "VMPhbgw9twtf",
        "outputId": "e8e2f16e-c7d7-4c76-8a7d-e11fdac1ff16"
      },
      "source": [
        "# Afrikaans for 'This movie was amazing!'\n",
        "fitted_pipe.predict(\"Hierdie film was ongelooflik!\")\n"
      ],
      "execution_count": null,
      "outputs": [
        {
          "output_type": "execute_result",
          "data": {
            "text/html": [
              "<div>\n",
              "<style scoped>\n",
              "    .dataframe tbody tr th:only-of-type {\n",
              "        vertical-align: middle;\n",
              "    }\n",
              "\n",
              "    .dataframe tbody tr th {\n",
              "        vertical-align: top;\n",
              "    }\n",
              "\n",
              "    .dataframe thead th {\n",
              "        text-align: right;\n",
              "    }\n",
              "</style>\n",
              "<table border=\"1\" class=\"dataframe\">\n",
              "  <thead>\n",
              "    <tr style=\"text-align: right;\">\n",
              "      <th></th>\n",
              "      <th>xx_embed_sentence_labse_embeddings</th>\n",
              "      <th>sentiment</th>\n",
              "      <th>document</th>\n",
              "      <th>sentiment_confidence</th>\n",
              "    </tr>\n",
              "    <tr>\n",
              "      <th>origin_index</th>\n",
              "      <th></th>\n",
              "      <th></th>\n",
              "      <th></th>\n",
              "      <th></th>\n",
              "    </tr>\n",
              "  </thead>\n",
              "  <tbody>\n",
              "    <tr>\n",
              "      <th>0</th>\n",
              "      <td>[-0.019771253690123558, -0.02687731385231018, ...</td>\n",
              "      <td>positive</td>\n",
              "      <td>Hierdie film was ongelooflik!</td>\n",
              "      <td>0.857431</td>\n",
              "    </tr>\n",
              "  </tbody>\n",
              "</table>\n",
              "</div>"
            ],
            "text/plain": [
              "                             xx_embed_sentence_labse_embeddings  ... sentiment_confidence\n",
              "origin_index                                                     ...                     \n",
              "0             [-0.019771253690123558, -0.02687731385231018, ...  ...             0.857431\n",
              "\n",
              "[1 rows x 4 columns]"
            ]
          },
          "metadata": {
            "tags": []
          },
          "execution_count": 12
        }
      ]
    },
    {
      "cell_type": "code",
      "metadata": {
        "colab": {
          "base_uri": "https://localhost:8080/",
          "height": 110
        },
        "id": "zWgNTIdkumhX",
        "outputId": "6ec3643a-5729-4f52-cc64-e1ee58a2f9d6"
      },
      "source": [
        "# Afrikaans for :'The movie made me fall asleep, it's awful!'\n",
        "fitted_pipe.predict('Die film het my aan die slaap laat raak, dit is verskriklik!')"
      ],
      "execution_count": null,
      "outputs": [
        {
          "output_type": "execute_result",
          "data": {
            "text/html": [
              "<div>\n",
              "<style scoped>\n",
              "    .dataframe tbody tr th:only-of-type {\n",
              "        vertical-align: middle;\n",
              "    }\n",
              "\n",
              "    .dataframe tbody tr th {\n",
              "        vertical-align: top;\n",
              "    }\n",
              "\n",
              "    .dataframe thead th {\n",
              "        text-align: right;\n",
              "    }\n",
              "</style>\n",
              "<table border=\"1\" class=\"dataframe\">\n",
              "  <thead>\n",
              "    <tr style=\"text-align: right;\">\n",
              "      <th></th>\n",
              "      <th>xx_embed_sentence_labse_embeddings</th>\n",
              "      <th>sentiment</th>\n",
              "      <th>document</th>\n",
              "      <th>sentiment_confidence</th>\n",
              "    </tr>\n",
              "    <tr>\n",
              "      <th>origin_index</th>\n",
              "      <th></th>\n",
              "      <th></th>\n",
              "      <th></th>\n",
              "      <th></th>\n",
              "    </tr>\n",
              "  </thead>\n",
              "  <tbody>\n",
              "    <tr>\n",
              "      <th>0</th>\n",
              "      <td>[-0.05065516009926796, -0.017065495252609253, ...</td>\n",
              "      <td>negative</td>\n",
              "      <td>Die film het my aan die slaap laat raak, dit i...</td>\n",
              "      <td>0.999985</td>\n",
              "    </tr>\n",
              "  </tbody>\n",
              "</table>\n",
              "</div>"
            ],
            "text/plain": [
              "                             xx_embed_sentence_labse_embeddings  ... sentiment_confidence\n",
              "origin_index                                                     ...                     \n",
              "0             [-0.05065516009926796, -0.017065495252609253, ...  ...             0.999985\n",
              "\n",
              "[1 rows x 4 columns]"
            ]
          },
          "metadata": {
            "tags": []
          },
          "execution_count": 13
        }
      ]
    },
    {
      "cell_type": "markdown",
      "metadata": {
        "id": "rSEPkC-Bwnpg"
      },
      "source": [
        "#### The model understands Vietnamese\n",
        "![vi](https://www.worldometers.info/img/flags/small/tn_vm-flag.gif)"
      ]
    },
    {
      "cell_type": "code",
      "metadata": {
        "colab": {
          "base_uri": "https://localhost:8080/",
          "height": 110
        },
        "id": "wCcTS5gIu511",
        "outputId": "d545032e-0f0d-4660-ddc3-dcc81dd342b4"
      },
      "source": [
        "# Vietnamese for : 'The movie was painful to watch'\n",
        "fitted_pipe.predict('Phim đau điếng người xem')\n"
      ],
      "execution_count": null,
      "outputs": [
        {
          "output_type": "execute_result",
          "data": {
            "text/html": [
              "<div>\n",
              "<style scoped>\n",
              "    .dataframe tbody tr th:only-of-type {\n",
              "        vertical-align: middle;\n",
              "    }\n",
              "\n",
              "    .dataframe tbody tr th {\n",
              "        vertical-align: top;\n",
              "    }\n",
              "\n",
              "    .dataframe thead th {\n",
              "        text-align: right;\n",
              "    }\n",
              "</style>\n",
              "<table border=\"1\" class=\"dataframe\">\n",
              "  <thead>\n",
              "    <tr style=\"text-align: right;\">\n",
              "      <th></th>\n",
              "      <th>xx_embed_sentence_labse_embeddings</th>\n",
              "      <th>sentiment</th>\n",
              "      <th>document</th>\n",
              "      <th>sentiment_confidence</th>\n",
              "    </tr>\n",
              "    <tr>\n",
              "      <th>origin_index</th>\n",
              "      <th></th>\n",
              "      <th></th>\n",
              "      <th></th>\n",
              "      <th></th>\n",
              "    </tr>\n",
              "  </thead>\n",
              "  <tbody>\n",
              "    <tr>\n",
              "      <th>0</th>\n",
              "      <td>[-0.05414637178182602, 0.041687943041324615, -...</td>\n",
              "      <td>negative</td>\n",
              "      <td>Phim đau điếng người xem</td>\n",
              "      <td>1.000000</td>\n",
              "    </tr>\n",
              "  </tbody>\n",
              "</table>\n",
              "</div>"
            ],
            "text/plain": [
              "                             xx_embed_sentence_labse_embeddings  ... sentiment_confidence\n",
              "origin_index                                                     ...                     \n",
              "0             [-0.05414637178182602, 0.041687943041324615, -...  ...             1.000000\n",
              "\n",
              "[1 rows x 4 columns]"
            ]
          },
          "metadata": {
            "tags": []
          },
          "execution_count": 14
        }
      ]
    },
    {
      "cell_type": "code",
      "metadata": {
        "colab": {
          "base_uri": "https://localhost:8080/",
          "height": 110
        },
        "id": "M6giDPK-wm2G",
        "outputId": "4eb90934-b40c-497e-f15c-1060c13ea075"
      },
      "source": [
        "\n",
        "# Vietnamese for : 'This was the best movie ever'\n",
        "fitted_pipe.predict('Đây là bộ phim hay nhất từ ​​trước đến nay')"
      ],
      "execution_count": null,
      "outputs": [
        {
          "output_type": "execute_result",
          "data": {
            "text/html": [
              "<div>\n",
              "<style scoped>\n",
              "    .dataframe tbody tr th:only-of-type {\n",
              "        vertical-align: middle;\n",
              "    }\n",
              "\n",
              "    .dataframe tbody tr th {\n",
              "        vertical-align: top;\n",
              "    }\n",
              "\n",
              "    .dataframe thead th {\n",
              "        text-align: right;\n",
              "    }\n",
              "</style>\n",
              "<table border=\"1\" class=\"dataframe\">\n",
              "  <thead>\n",
              "    <tr style=\"text-align: right;\">\n",
              "      <th></th>\n",
              "      <th>xx_embed_sentence_labse_embeddings</th>\n",
              "      <th>sentiment</th>\n",
              "      <th>document</th>\n",
              "      <th>sentiment_confidence</th>\n",
              "    </tr>\n",
              "    <tr>\n",
              "      <th>origin_index</th>\n",
              "      <th></th>\n",
              "      <th></th>\n",
              "      <th></th>\n",
              "      <th></th>\n",
              "    </tr>\n",
              "  </thead>\n",
              "  <tbody>\n",
              "    <tr>\n",
              "      <th>0</th>\n",
              "      <td>[-0.035795845091342926, -0.005844905506819487,...</td>\n",
              "      <td>neutral</td>\n",
              "      <td>Đây là bộ phim hay nhất từ ​​trước đến nay</td>\n",
              "      <td>0.582394</td>\n",
              "    </tr>\n",
              "  </tbody>\n",
              "</table>\n",
              "</div>"
            ],
            "text/plain": [
              "                             xx_embed_sentence_labse_embeddings  ... sentiment_confidence\n",
              "origin_index                                                     ...                     \n",
              "0             [-0.035795845091342926, -0.005844905506819487,...  ...             0.582394\n",
              "\n",
              "[1 rows x 4 columns]"
            ]
          },
          "metadata": {
            "tags": []
          },
          "execution_count": 15
        }
      ]
    },
    {
      "cell_type": "markdown",
      "metadata": {
        "id": "IlkmAaMoxTuy"
      },
      "source": [
        "#### The model understands Japanese\n",
        "![ja](https://www.worldometers.info/img/flags/small/tn_ja-flag.gif)\n"
      ]
    },
    {
      "cell_type": "code",
      "metadata": {
        "colab": {
          "base_uri": "https://localhost:8080/",
          "height": 110
        },
        "id": "1IfJu3q8wwUt",
        "outputId": "c6d7ad98-d6f3-4baa-b323-2c7b22e9538e"
      },
      "source": [
        "\n",
        "# Japanese for : 'This is now my favorite movie!'\n",
        "fitted_pipe.predict('これが私のお気に入りの映画です！')"
      ],
      "execution_count": null,
      "outputs": [
        {
          "output_type": "execute_result",
          "data": {
            "text/html": [
              "<div>\n",
              "<style scoped>\n",
              "    .dataframe tbody tr th:only-of-type {\n",
              "        vertical-align: middle;\n",
              "    }\n",
              "\n",
              "    .dataframe tbody tr th {\n",
              "        vertical-align: top;\n",
              "    }\n",
              "\n",
              "    .dataframe thead th {\n",
              "        text-align: right;\n",
              "    }\n",
              "</style>\n",
              "<table border=\"1\" class=\"dataframe\">\n",
              "  <thead>\n",
              "    <tr style=\"text-align: right;\">\n",
              "      <th></th>\n",
              "      <th>xx_embed_sentence_labse_embeddings</th>\n",
              "      <th>sentiment</th>\n",
              "      <th>document</th>\n",
              "      <th>sentiment_confidence</th>\n",
              "    </tr>\n",
              "    <tr>\n",
              "      <th>origin_index</th>\n",
              "      <th></th>\n",
              "      <th></th>\n",
              "      <th></th>\n",
              "      <th></th>\n",
              "    </tr>\n",
              "  </thead>\n",
              "  <tbody>\n",
              "    <tr>\n",
              "      <th>0</th>\n",
              "      <td>[-0.00634439941495657, -0.03161682188510895, -...</td>\n",
              "      <td>positive</td>\n",
              "      <td>これが私のお気に入りの映画です！</td>\n",
              "      <td>0.999911</td>\n",
              "    </tr>\n",
              "  </tbody>\n",
              "</table>\n",
              "</div>"
            ],
            "text/plain": [
              "                             xx_embed_sentence_labse_embeddings  ... sentiment_confidence\n",
              "origin_index                                                     ...                     \n",
              "0             [-0.00634439941495657, -0.03161682188510895, -...  ...             0.999911\n",
              "\n",
              "[1 rows x 4 columns]"
            ]
          },
          "metadata": {
            "tags": []
          },
          "execution_count": 16
        }
      ]
    },
    {
      "cell_type": "code",
      "metadata": {
        "colab": {
          "base_uri": "https://localhost:8080/",
          "height": 110
        },
        "id": "h3k7_PFhxOve",
        "outputId": "5278b9a0-b621-4922-ab7d-3dd1709ca616"
      },
      "source": [
        "\n",
        "# Japanese for : 'I would rather kill myself than watch that movie again'\n",
        "fitted_pipe.predict('その映画をもう一度見るよりも自殺したい')"
      ],
      "execution_count": null,
      "outputs": [
        {
          "output_type": "execute_result",
          "data": {
            "text/html": [
              "<div>\n",
              "<style scoped>\n",
              "    .dataframe tbody tr th:only-of-type {\n",
              "        vertical-align: middle;\n",
              "    }\n",
              "\n",
              "    .dataframe tbody tr th {\n",
              "        vertical-align: top;\n",
              "    }\n",
              "\n",
              "    .dataframe thead th {\n",
              "        text-align: right;\n",
              "    }\n",
              "</style>\n",
              "<table border=\"1\" class=\"dataframe\">\n",
              "  <thead>\n",
              "    <tr style=\"text-align: right;\">\n",
              "      <th></th>\n",
              "      <th>xx_embed_sentence_labse_embeddings</th>\n",
              "      <th>sentiment</th>\n",
              "      <th>document</th>\n",
              "      <th>sentiment_confidence</th>\n",
              "    </tr>\n",
              "    <tr>\n",
              "      <th>origin_index</th>\n",
              "      <th></th>\n",
              "      <th></th>\n",
              "      <th></th>\n",
              "      <th></th>\n",
              "    </tr>\n",
              "  </thead>\n",
              "  <tbody>\n",
              "    <tr>\n",
              "      <th>0</th>\n",
              "      <td>[-0.04823154956102371, -0.03692080080509186, -...</td>\n",
              "      <td>negative</td>\n",
              "      <td>その映画をもう一度見るよりも自殺したい</td>\n",
              "      <td>0.999901</td>\n",
              "    </tr>\n",
              "  </tbody>\n",
              "</table>\n",
              "</div>"
            ],
            "text/plain": [
              "                             xx_embed_sentence_labse_embeddings  ... sentiment_confidence\n",
              "origin_index                                                     ...                     \n",
              "0             [-0.04823154956102371, -0.03692080080509186, -...  ...             0.999901\n",
              "\n",
              "[1 rows x 4 columns]"
            ]
          },
          "metadata": {
            "tags": []
          },
          "execution_count": 17
        }
      ]
    },
    {
      "cell_type": "markdown",
      "metadata": {
        "id": "VXu21c0iQRSC"
      },
      "source": [
        "# There are many more models you can put to use in 1 line of code!\n",
        "## Checkout [the Modelshub](https://nlp.johnsnowlabs.com/models) and the [NLU Namespace](https://nlu.johnsnowlabs.com/docs/en/spellbook) for more models\n",
        "\n",
        "\n",
        "### More ressources \n",
        "- [Join our Slack](https://join.slack.com/t/spark-nlp/shared_invite/zt-lutct9gm-kuUazcyFKhuGY3_0AMkxqA)\n",
        "- [NLU Website](https://nlu.johnsnowlabs.com/)\n",
        "- [NLU Github](https://github.com/JohnSnowLabs/nlu)\n",
        "- [Many more NLU example tutorials](https://github.com/JohnSnowLabs/nlu/tree/master/examples)\n",
        "- [Overview of every powerful nlu 1-liner](https://nlu.johnsnowlabs.com/docs/en/examples)\n",
        "- [Checkout the Modelshub for an overview of all models](https://nlp.johnsnowlabs.com/models) \n",
        "- [Checkout the NLU Namespace where you can find every model as a tabel](https://nlu.johnsnowlabs.com/docs/en/spellbook)\n",
        "- [Intro to NLU article](https://medium.com/spark-nlp/1-line-of-code-350-nlp-models-with-john-snow-labs-nlu-in-python-2f1c55bba619)\n",
        "- [Indepth and easy Sentence Similarity Tutorial, with StackOverflow Questions using BERTology embeddings](https://medium.com/spark-nlp/easy-sentence-similarity-with-bert-sentence-embeddings-using-john-snow-labs-nlu-ea078deb6ebf)\n",
        "- [1 line of Python code for BERT, ALBERT, ELMO, ELECTRA, XLNET, GLOVE, Part of Speech with NLU and t-SNE](https://medium.com/spark-nlp/1-line-of-code-for-bert-albert-elmo-electra-xlnet-glove-part-of-speech-with-nlu-and-t-sne-9ebcd5379cd)"
      ]
    },
    {
      "cell_type": "code",
      "metadata": {
        "id": "R8hBZm_zo5EI"
      },
      "source": [
        "while 1 : 1 "
      ],
      "execution_count": null,
      "outputs": []
    },
    {
      "cell_type": "code",
      "metadata": {
        "id": "zdr_NKxBqwRP"
      },
      "source": [
        ""
      ],
      "execution_count": null,
      "outputs": []
    }
  ]
}
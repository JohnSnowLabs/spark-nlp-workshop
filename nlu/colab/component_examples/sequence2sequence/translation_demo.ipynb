{
  "nbformat": 4,
  "nbformat_minor": 0,
  "metadata": {
    "colab": {
      "name": "translation_demo.ipynb",
      "provenance": [],
      "collapsed_sections": []
    },
    "kernelspec": {
      "name": "python3",
      "display_name": "Python 3"
    }
  },
  "cells": [
    {
      "cell_type": "markdown",
      "metadata": {
        "id": "5hueV5WBrCzf"
      },
      "source": [
        "![JohnSnowLabs](https://nlp.johnsnowlabs.com/assets/images/logo.png)\n",
        "\n",
        "\n",
        "\n",
        "[![Open In Colab](https://colab.research.google.com/assets/colab-badge.svg)](https://colab.research.google.com/github/JohnSnowLabs/nlu/blob/master/examples/colab/component_examples/sequence2sequence/translation_demo.ipynb)\n",
        "\n",
        " \n",
        " # Translate between more than 200 Languages in 1 line of code with the [Marian Models](https://marian-nmt.github.io/publications/)\n",
        "\n",
        " Marian is an efficient, free Neural Machine Translation framework mainly being developed by the Microsoft Translator team (646+ pretrained models & pipelines in 192+ languages)\n",
        "You need to specify the language your data is in as `start_language` and the language you want to translate to as `target_language`.    \n",
        " The language references must be [ISO language codes](https://en.wikipedia.org/wiki/List_of_ISO_639-1_codes)\n",
        "\n",
        "`nlu.load('<start_language>.translate.<target_language>')`       \n",
        "\n",
        "**Translate Turkish to English:**     \n",
        "`nlu.load('tr.translate_to.fr')`\n",
        "\n",
        "**Translate English to French:**     \n",
        "`nlu.load('en.translate_to.fr')`\n",
        "\n",
        "\n",
        "**Translate French to Hebrew:**     \n",
        "`nlu.load('fr.translate_to.he')`\n"
      ]
    },
    {
      "cell_type": "code",
      "metadata": {
        "id": "abuB9K1_QVuL",
        "colab": {
          "base_uri": "https://localhost:8080/"
        },
        "outputId": "84536a68-cdee-4f1b-c665-cb4457881362"
      },
      "source": [
        "!wget https://setup.johnsnowlabs.com/nlu/colab.sh -O - | bash\n",
        "  \n",
        "\n",
        "import nlu"
      ],
      "execution_count": null,
      "outputs": [
        {
          "output_type": "stream",
          "text": [
            "--2021-05-01 23:00:59--  https://raw.githubusercontent.com/JohnSnowLabs/nlu/master/scripts/colab_setup.sh\n",
            "Resolving raw.githubusercontent.com (raw.githubusercontent.com)... 185.199.109.133, 185.199.111.133, 185.199.108.133, ...\n",
            "Connecting to raw.githubusercontent.com (raw.githubusercontent.com)|185.199.109.133|:443... connected.\n",
            "HTTP request sent, awaiting response... 200 OK\n",
            "Length: 1671 (1.6K) [text/plain]\n",
            "Saving to: ‘STDOUT’\n",
            "\n",
            "\r-                     0%[                    ]       0  --.-KB/s               Installing  NLU 3.0.0 with  PySpark 3.0.2 and Spark NLP 3.0.1 for Google Colab ...\n",
            "\r-                   100%[===================>]   1.63K  --.-KB/s    in 0.001s  \n",
            "\n",
            "2021-05-01 23:00:59 (1.53 MB/s) - written to stdout [1671/1671]\n",
            "\n",
            "\u001b[K     |████████████████████████████████| 204.8MB 72kB/s \n",
            "\u001b[K     |████████████████████████████████| 153kB 50.2MB/s \n",
            "\u001b[K     |████████████████████████████████| 204kB 23.1MB/s \n",
            "\u001b[K     |████████████████████████████████| 204kB 58.2MB/s \n",
            "\u001b[?25h  Building wheel for pyspark (setup.py) ... \u001b[?25l\u001b[?25hdone\n"
          ],
          "name": "stdout"
        }
      ]
    },
    {
      "cell_type": "code",
      "metadata": {
        "colab": {
          "base_uri": "https://localhost:8080/"
        },
        "id": "5ugeWRVe0Pcc",
        "outputId": "ecf8e69f-d606-409c-d8f1-0fab3a6844d1"
      },
      "source": [
        "# Download bitcoin newsarticles\n",
        "import pandas as pd\n",
        "!wget http://ckl-it.de/wp-content/uploads/2020/12/small_btc.csv \n",
        "df = pd.read_csv('/content/small_btc.csv')"
      ],
      "execution_count": null,
      "outputs": [
        {
          "output_type": "stream",
          "text": [
            "--2021-05-01 23:03:01--  http://ckl-it.de/wp-content/uploads/2020/12/small_btc.csv\n",
            "Resolving ckl-it.de (ckl-it.de)... 217.160.0.108, 2001:8d8:100f:f000::209\n",
            "Connecting to ckl-it.de (ckl-it.de)|217.160.0.108|:80... connected.\n",
            "HTTP request sent, awaiting response... 200 OK\n",
            "Length: 22244914 (21M) [text/csv]\n",
            "Saving to: ‘small_btc.csv’\n",
            "\n",
            "small_btc.csv       100%[===================>]  21.21M  4.86MB/s    in 5.1s    \n",
            "\n",
            "2021-05-01 23:03:06 (4.14 MB/s) - ‘small_btc.csv’ saved [22244914/22244914]\n",
            "\n"
          ],
          "name": "stdout"
        }
      ]
    },
    {
      "cell_type": "markdown",
      "metadata": {
        "id": "xMnjlxA1V16o"
      },
      "source": [
        "# Translate English movie Titles to German"
      ]
    },
    {
      "cell_type": "code",
      "metadata": {
        "colab": {
          "base_uri": "https://localhost:8080/",
          "height": 410
        },
        "id": "ht0z7aiSVcIN",
        "outputId": "dd69d995-0d29-4070-d48d-56e14f33f734"
      },
      "source": [
        "\n",
        "translate_pipe = nlu.load('en.translate_to.de')\n",
        "de_df = translate_pipe.predict(df.title.iloc[:10])\n",
        "de_df\n"
      ],
      "execution_count": null,
      "outputs": [
        {
          "output_type": "stream",
          "text": [
            "translate_en_de download started this may take some time.\n",
            "Approx size to download 370.2 MB\n",
            "[OK!]\n"
          ],
          "name": "stdout"
        },
        {
          "output_type": "execute_result",
          "data": {
            "text/html": [
              "<div>\n",
              "<style scoped>\n",
              "    .dataframe tbody tr th:only-of-type {\n",
              "        vertical-align: middle;\n",
              "    }\n",
              "\n",
              "    .dataframe tbody tr th {\n",
              "        vertical-align: top;\n",
              "    }\n",
              "\n",
              "    .dataframe thead th {\n",
              "        text-align: right;\n",
              "    }\n",
              "</style>\n",
              "<table border=\"1\" class=\"dataframe\">\n",
              "  <thead>\n",
              "    <tr style=\"text-align: right;\">\n",
              "      <th></th>\n",
              "      <th>document</th>\n",
              "      <th>sentence</th>\n",
              "      <th>translated</th>\n",
              "    </tr>\n",
              "  </thead>\n",
              "  <tbody>\n",
              "    <tr>\n",
              "      <th>0</th>\n",
              "      <td>Bitcoin Price Update: Will China Lead us Down?</td>\n",
              "      <td>[Bitcoin Price Update: Will China Lead us Down?]</td>\n",
              "      <td>[Bitcoin Price Update: Wird China uns nach unt...</td>\n",
              "    </tr>\n",
              "    <tr>\n",
              "      <th>1</th>\n",
              "      <td>Key Bitcoin Price Levels for Week 51 (15 – 22 ...</td>\n",
              "      <td>[Key Bitcoin Price Levels for Week 51 (15 – 22...</td>\n",
              "      <td>[Preisniveaus für Bitcoin für Woche 51 (15.-22...</td>\n",
              "    </tr>\n",
              "    <tr>\n",
              "      <th>2</th>\n",
              "      <td>National Australia Bank, Citing Highly Flawed ...</td>\n",
              "      <td>[National Australia Bank, Citing Highly Flawed...</td>\n",
              "      <td>[Die National Australia Bank, die hochflawed D...</td>\n",
              "    </tr>\n",
              "    <tr>\n",
              "      <th>3</th>\n",
              "      <td>Chinese Bitcoin Ban Driven by  Chinese Banking...</td>\n",
              "      <td>[Chinese Bitcoin Ban Driven by  Chinese Bankin...</td>\n",
              "      <td>[Chinesische Bitcoin Ban durch chinesische Ban...</td>\n",
              "    </tr>\n",
              "    <tr>\n",
              "      <th>4</th>\n",
              "      <td>Bitcoin Trade Update: Opened Position</td>\n",
              "      <td>[Bitcoin Trade Update: Opened Position]</td>\n",
              "      <td>[Bitcoin Trade Update: Geöffnete Position]</td>\n",
              "    </tr>\n",
              "    <tr>\n",
              "      <th>5</th>\n",
              "      <td>Key Bitcoin Price Levels for Week 52 (22 – 28 ...</td>\n",
              "      <td>[Key Bitcoin Price Levels for Week 52 (22 – 28...</td>\n",
              "      <td>[Key Bitcoin Price Levels für Woche 52 (22. - ...</td>\n",
              "    </tr>\n",
              "    <tr>\n",
              "      <th>6</th>\n",
              "      <td>Bitcoin Survival</td>\n",
              "      <td>[Bitcoin Survival]</td>\n",
              "      <td>[Bitcoin Überleben]</td>\n",
              "    </tr>\n",
              "    <tr>\n",
              "      <th>7</th>\n",
              "      <td>Massive Bitcoin Sell Going On</td>\n",
              "      <td>[Massive Bitcoin Sell Going On]</td>\n",
              "      <td>[Massive Bitcoin verkaufen weiter]</td>\n",
              "    </tr>\n",
              "    <tr>\n",
              "      <th>8</th>\n",
              "      <td>Why Bitcoin will rise on Monday 23rd by more t...</td>\n",
              "      <td>[Why Bitcoin will rise on Monday 23rd by more ...</td>\n",
              "      <td>[Warum Bitcoin am Montag um mehr als 10% steig...</td>\n",
              "    </tr>\n",
              "    <tr>\n",
              "      <th>9</th>\n",
              "      <td>Why Bitcoin is falling, and will rise again</td>\n",
              "      <td>[Why Bitcoin is falling, and will rise again]</td>\n",
              "      <td>[Warum Bitcoin fällt und wieder aufsteigt]</td>\n",
              "    </tr>\n",
              "  </tbody>\n",
              "</table>\n",
              "</div>"
            ],
            "text/plain": [
              "                                            document  ...                                         translated\n",
              "0     Bitcoin Price Update: Will China Lead us Down?  ...  [Bitcoin Price Update: Wird China uns nach unt...\n",
              "1  Key Bitcoin Price Levels for Week 51 (15 – 22 ...  ...  [Preisniveaus für Bitcoin für Woche 51 (15.-22...\n",
              "2  National Australia Bank, Citing Highly Flawed ...  ...  [Die National Australia Bank, die hochflawed D...\n",
              "3  Chinese Bitcoin Ban Driven by  Chinese Banking...  ...  [Chinesische Bitcoin Ban durch chinesische Ban...\n",
              "4              Bitcoin Trade Update: Opened Position  ...         [Bitcoin Trade Update: Geöffnete Position]\n",
              "5  Key Bitcoin Price Levels for Week 52 (22 – 28 ...  ...  [Key Bitcoin Price Levels für Woche 52 (22. - ...\n",
              "6                                   Bitcoin Survival  ...                                [Bitcoin Überleben]\n",
              "7                      Massive Bitcoin Sell Going On  ...                 [Massive Bitcoin verkaufen weiter]\n",
              "8  Why Bitcoin will rise on Monday 23rd by more t...  ...  [Warum Bitcoin am Montag um mehr als 10% steig...\n",
              "9        Why Bitcoin is falling, and will rise again  ...         [Warum Bitcoin fällt und wieder aufsteigt]\n",
              "\n",
              "[10 rows x 3 columns]"
            ]
          },
          "metadata": {
            "tags": []
          },
          "execution_count": 3
        }
      ]
    },
    {
      "cell_type": "markdown",
      "metadata": {
        "id": "LbxlhONgD7ph"
      },
      "source": [
        "# Translate English to French"
      ]
    },
    {
      "cell_type": "code",
      "metadata": {
        "id": "ycAKvrDZIckC"
      },
      "source": [
        ""
      ],
      "execution_count": null,
      "outputs": []
    },
    {
      "cell_type": "code",
      "metadata": {
        "id": "2gKhAsr0IcyN"
      },
      "source": [
        ""
      ],
      "execution_count": null,
      "outputs": []
    },
    {
      "cell_type": "code",
      "metadata": {
        "id": "vvQ3UzDIhRz3",
        "colab": {
          "base_uri": "https://localhost:8080/",
          "height": 410
        },
        "outputId": "521d2fad-f652-4682-a86c-0423708a7129"
      },
      "source": [
        "translate_pipe = nlu.load('en.translate_to.fr')\n",
        "tr_df = translate_pipe.predict(df.title.iloc[:10])\n",
        "tr_df\n"
      ],
      "execution_count": null,
      "outputs": [
        {
          "output_type": "stream",
          "text": [
            "translate_en_fr download started this may take some time.\n",
            "Approx size to download 376 MB\n",
            "[OK!]\n"
          ],
          "name": "stdout"
        },
        {
          "output_type": "execute_result",
          "data": {
            "text/html": [
              "<div>\n",
              "<style scoped>\n",
              "    .dataframe tbody tr th:only-of-type {\n",
              "        vertical-align: middle;\n",
              "    }\n",
              "\n",
              "    .dataframe tbody tr th {\n",
              "        vertical-align: top;\n",
              "    }\n",
              "\n",
              "    .dataframe thead th {\n",
              "        text-align: right;\n",
              "    }\n",
              "</style>\n",
              "<table border=\"1\" class=\"dataframe\">\n",
              "  <thead>\n",
              "    <tr style=\"text-align: right;\">\n",
              "      <th></th>\n",
              "      <th>document</th>\n",
              "      <th>sentence</th>\n",
              "      <th>translated</th>\n",
              "    </tr>\n",
              "  </thead>\n",
              "  <tbody>\n",
              "    <tr>\n",
              "      <th>0</th>\n",
              "      <td>Bitcoin Price Update: Will China Lead us Down?</td>\n",
              "      <td>[Bitcoin Price Update: Will China Lead us Down?]</td>\n",
              "      <td>[Bitcoin Mise à jour de prix: La Chine nous mè...</td>\n",
              "    </tr>\n",
              "    <tr>\n",
              "      <th>1</th>\n",
              "      <td>Key Bitcoin Price Levels for Week 51 (15 – 22 ...</td>\n",
              "      <td>[Key Bitcoin Price Levels for Week 51 (15 – 22...</td>\n",
              "      <td>[Niveaux clés des prix Bitcoin pour la semaine...</td>\n",
              "    </tr>\n",
              "    <tr>\n",
              "      <th>2</th>\n",
              "      <td>National Australia Bank, Citing Highly Flawed ...</td>\n",
              "      <td>[National Australia Bank, Citing Highly Flawed...</td>\n",
              "      <td>[Banque nationale d'Australie, Citant des donn...</td>\n",
              "    </tr>\n",
              "    <tr>\n",
              "      <th>3</th>\n",
              "      <td>Chinese Bitcoin Ban Driven by  Chinese Banking...</td>\n",
              "      <td>[Chinese Bitcoin Ban Driven by  Chinese Bankin...</td>\n",
              "      <td>[L'interdiction de Bitcoin chinois sous l'infl...</td>\n",
              "    </tr>\n",
              "    <tr>\n",
              "      <th>4</th>\n",
              "      <td>Bitcoin Trade Update: Opened Position</td>\n",
              "      <td>[Bitcoin Trade Update: Opened Position]</td>\n",
              "      <td>[Bitcoin Trade Update: position ouverte]</td>\n",
              "    </tr>\n",
              "    <tr>\n",
              "      <th>5</th>\n",
              "      <td>Key Bitcoin Price Levels for Week 52 (22 – 28 ...</td>\n",
              "      <td>[Key Bitcoin Price Levels for Week 52 (22 – 28...</td>\n",
              "      <td>[Niveaux clés des prix Bitcoin pour la semaine...</td>\n",
              "    </tr>\n",
              "    <tr>\n",
              "      <th>6</th>\n",
              "      <td>Bitcoin Survival</td>\n",
              "      <td>[Bitcoin Survival]</td>\n",
              "      <td>[Survie Bitcoin]</td>\n",
              "    </tr>\n",
              "    <tr>\n",
              "      <th>7</th>\n",
              "      <td>Massive Bitcoin Sell Going On</td>\n",
              "      <td>[Massive Bitcoin Sell Going On]</td>\n",
              "      <td>[Vente de Bitcoin massif allant sur]</td>\n",
              "    </tr>\n",
              "    <tr>\n",
              "      <th>8</th>\n",
              "      <td>Why Bitcoin will rise on Monday 23rd by more t...</td>\n",
              "      <td>[Why Bitcoin will rise on Monday 23rd by more ...</td>\n",
              "      <td>[Pourquoi Bitcoin montera le lundi 23ème de pl...</td>\n",
              "    </tr>\n",
              "    <tr>\n",
              "      <th>9</th>\n",
              "      <td>Why Bitcoin is falling, and will rise again</td>\n",
              "      <td>[Why Bitcoin is falling, and will rise again]</td>\n",
              "      <td>[Pourquoi Bitcoin est en baisse, et va se leve...</td>\n",
              "    </tr>\n",
              "  </tbody>\n",
              "</table>\n",
              "</div>"
            ],
            "text/plain": [
              "                                            document  ...                                         translated\n",
              "0     Bitcoin Price Update: Will China Lead us Down?  ...  [Bitcoin Mise à jour de prix: La Chine nous mè...\n",
              "1  Key Bitcoin Price Levels for Week 51 (15 – 22 ...  ...  [Niveaux clés des prix Bitcoin pour la semaine...\n",
              "2  National Australia Bank, Citing Highly Flawed ...  ...  [Banque nationale d'Australie, Citant des donn...\n",
              "3  Chinese Bitcoin Ban Driven by  Chinese Banking...  ...  [L'interdiction de Bitcoin chinois sous l'infl...\n",
              "4              Bitcoin Trade Update: Opened Position  ...           [Bitcoin Trade Update: position ouverte]\n",
              "5  Key Bitcoin Price Levels for Week 52 (22 – 28 ...  ...  [Niveaux clés des prix Bitcoin pour la semaine...\n",
              "6                                   Bitcoin Survival  ...                                   [Survie Bitcoin]\n",
              "7                      Massive Bitcoin Sell Going On  ...               [Vente de Bitcoin massif allant sur]\n",
              "8  Why Bitcoin will rise on Monday 23rd by more t...  ...  [Pourquoi Bitcoin montera le lundi 23ème de pl...\n",
              "9        Why Bitcoin is falling, and will rise again  ...  [Pourquoi Bitcoin est en baisse, et va se leve...\n",
              "\n",
              "[10 rows x 3 columns]"
            ]
          },
          "metadata": {
            "tags": []
          },
          "execution_count": 4
        }
      ]
    },
    {
      "cell_type": "markdown",
      "metadata": {
        "id": "it3tWEkmD-1f"
      },
      "source": [
        "# Translate English to Hebrew"
      ]
    },
    {
      "cell_type": "code",
      "metadata": {
        "id": "j20Ci-ScdkZe",
        "colab": {
          "base_uri": "https://localhost:8080/",
          "height": 410
        },
        "outputId": "c86d2cf6-e407-4c76-a4ba-7af1335bcb1a"
      },
      "source": [
        "translate_pipe = nlu.load('en.translate_to.he')\n",
        "tr_df = translate_pipe.predict(df.title.iloc[:10])\n",
        "tr_df\n"
      ],
      "execution_count": null,
      "outputs": [
        {
          "output_type": "stream",
          "text": [
            "translate_en_he download started this may take some time.\n",
            "Approx size to download 399.3 MB\n",
            "[OK!]\n"
          ],
          "name": "stdout"
        },
        {
          "output_type": "execute_result",
          "data": {
            "text/html": [
              "<div>\n",
              "<style scoped>\n",
              "    .dataframe tbody tr th:only-of-type {\n",
              "        vertical-align: middle;\n",
              "    }\n",
              "\n",
              "    .dataframe tbody tr th {\n",
              "        vertical-align: top;\n",
              "    }\n",
              "\n",
              "    .dataframe thead th {\n",
              "        text-align: right;\n",
              "    }\n",
              "</style>\n",
              "<table border=\"1\" class=\"dataframe\">\n",
              "  <thead>\n",
              "    <tr style=\"text-align: right;\">\n",
              "      <th></th>\n",
              "      <th>document</th>\n",
              "      <th>sentence</th>\n",
              "      <th>translated</th>\n",
              "    </tr>\n",
              "  </thead>\n",
              "  <tbody>\n",
              "    <tr>\n",
              "      <th>0</th>\n",
              "      <td>Bitcoin Price Update: Will China Lead us Down?</td>\n",
              "      <td>[Bitcoin Price Update: Will China Lead us Down?]</td>\n",
              "      <td>[עדכון מחיר הביטקוין: האם סין תוביל אותנו למטה?]</td>\n",
              "    </tr>\n",
              "    <tr>\n",
              "      <th>1</th>\n",
              "      <td>Key Bitcoin Price Levels for Week 51 (15 – 22 ...</td>\n",
              "      <td>[Key Bitcoin Price Levels for Week 51 (15 – 22...</td>\n",
              "      <td>[רמת מחירי Bitcoin מפתח לשבוע 51 (15 - 22 Dec)]</td>\n",
              "    </tr>\n",
              "    <tr>\n",
              "      <th>2</th>\n",
              "      <td>National Australia Bank, Citing Highly Flawed ...</td>\n",
              "      <td>[National Australia Bank, Citing Highly Flawed...</td>\n",
              "      <td>[בנק אוסטרליה הלאומי, ציוץ מידע שגוי ביותר, קו...</td>\n",
              "    </tr>\n",
              "    <tr>\n",
              "      <th>3</th>\n",
              "      <td>Chinese Bitcoin Ban Driven by  Chinese Banking...</td>\n",
              "      <td>[Chinese Bitcoin Ban Driven by  Chinese Bankin...</td>\n",
              "      <td>[סיני Bitcoin באן מונע על ידי משבר הבנקאות הסי...</td>\n",
              "    </tr>\n",
              "    <tr>\n",
              "      <th>4</th>\n",
              "      <td>Bitcoin Trade Update: Opened Position</td>\n",
              "      <td>[Bitcoin Trade Update: Opened Position]</td>\n",
              "      <td>[עדכון ביטקוין: מיקום פתוח]</td>\n",
              "    </tr>\n",
              "    <tr>\n",
              "      <th>5</th>\n",
              "      <td>Key Bitcoin Price Levels for Week 52 (22 – 28 ...</td>\n",
              "      <td>[Key Bitcoin Price Levels for Week 52 (22 – 28...</td>\n",
              "      <td>[רמת מחירי Bitcoin מפתח לשבוע 52 (22 - 28 Dec)...</td>\n",
              "    </tr>\n",
              "    <tr>\n",
              "      <th>6</th>\n",
              "      <td>Bitcoin Survival</td>\n",
              "      <td>[Bitcoin Survival]</td>\n",
              "      <td>[הישרדות הביטקוין]</td>\n",
              "    </tr>\n",
              "    <tr>\n",
              "      <th>7</th>\n",
              "      <td>Massive Bitcoin Sell Going On</td>\n",
              "      <td>[Massive Bitcoin Sell Going On]</td>\n",
              "      <td>[מכירת Bitcoin מסיבית ממשיכה]</td>\n",
              "    </tr>\n",
              "    <tr>\n",
              "      <th>8</th>\n",
              "      <td>Why Bitcoin will rise on Monday 23rd by more t...</td>\n",
              "      <td>[Why Bitcoin will rise on Monday 23rd by more ...</td>\n",
              "      <td>[למה Bitcoin יעלה ביום שני 23 על ידי יותר מ -10%]</td>\n",
              "    </tr>\n",
              "    <tr>\n",
              "      <th>9</th>\n",
              "      <td>Why Bitcoin is falling, and will rise again</td>\n",
              "      <td>[Why Bitcoin is falling, and will rise again]</td>\n",
              "      <td>[למה ביטקוין נופל, ויתרומם שוב]</td>\n",
              "    </tr>\n",
              "  </tbody>\n",
              "</table>\n",
              "</div>"
            ],
            "text/plain": [
              "                                            document  ...                                         translated\n",
              "0     Bitcoin Price Update: Will China Lead us Down?  ...   [עדכון מחיר הביטקוין: האם סין תוביל אותנו למטה?]\n",
              "1  Key Bitcoin Price Levels for Week 51 (15 – 22 ...  ...    [רמת מחירי Bitcoin מפתח לשבוע 51 (15 - 22 Dec)]\n",
              "2  National Australia Bank, Citing Highly Flawed ...  ...  [בנק אוסטרליה הלאומי, ציוץ מידע שגוי ביותר, קו...\n",
              "3  Chinese Bitcoin Ban Driven by  Chinese Banking...  ...  [סיני Bitcoin באן מונע על ידי משבר הבנקאות הסי...\n",
              "4              Bitcoin Trade Update: Opened Position  ...                        [עדכון ביטקוין: מיקום פתוח]\n",
              "5  Key Bitcoin Price Levels for Week 52 (22 – 28 ...  ...  [רמת מחירי Bitcoin מפתח לשבוע 52 (22 - 28 Dec)...\n",
              "6                                   Bitcoin Survival  ...                                 [הישרדות הביטקוין]\n",
              "7                      Massive Bitcoin Sell Going On  ...                      [מכירת Bitcoin מסיבית ממשיכה]\n",
              "8  Why Bitcoin will rise on Monday 23rd by more t...  ...  [למה Bitcoin יעלה ביום שני 23 על ידי יותר מ -10%]\n",
              "9        Why Bitcoin is falling, and will rise again  ...                    [למה ביטקוין נופל, ויתרומם שוב]\n",
              "\n",
              "[10 rows x 3 columns]"
            ]
          },
          "metadata": {
            "tags": []
          },
          "execution_count": 5
        }
      ]
    }
  ]
}
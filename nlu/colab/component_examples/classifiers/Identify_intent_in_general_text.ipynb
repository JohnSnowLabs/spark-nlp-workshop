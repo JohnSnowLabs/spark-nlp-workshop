{
  "nbformat": 4,
  "nbformat_minor": 0,
  "metadata": {
    "colab": {
      "name": " Identify_intent_in_general_text.ipynb",
      "provenance": [],
      "collapsed_sections": [],
      "toc_visible": true
    },
    "kernelspec": {
      "name": "python3",
      "display_name": "Python 3"
    },
    "language_info": {
      "name": "python"
    }
  },
  "cells": [
    {
      "cell_type": "markdown",
      "metadata": {
        "id": "tOHVDa9DQQR5"
      },
      "source": [
        "![JohnSnowLabs](https://nlp.johnsnowlabs.com/assets/images/logo.png)\n",
        "\n",
        "[![Open In Colab](https://colab.research.google.com/assets/colab-badge.svg)](https://colab.research.google.com/github/JohnSnowLabs/nlu/blob/master/examples/colab/component_examples/classifiers/Identify_intent_in_general_text.ipynb)\n",
        "\n",
        "\n",
        "#[Identify intent in general text - SNIPS dataset](https://nlp.johnsnowlabs.com/2021/02/15/classifierdl_use_snips_en.html)\n",
        "\n",
        "Understand general commands and recognise the intent.\n",
        "\n",
        "\n",
        "\n",
        "This model can be used by services such as Alexa and Google Nest to understand the intent after converting speech to text and can help improve the user experince greatly.\n",
        "\n",
        "\n",
        "\n",
        "<br>\n",
        "\n",
        "This model can be used to predict the following news categories \n",
        "`AddToPlaylist`, `BookRestaurant`, `GetWeather`, `PlayMusic`, `RateBook`, `SearchCreativeWork`, `SearchScreeningEvent`\n",
        "\n",
        "<br>\n",
        "\n",
        "\n",
        "\n",
        "\n",
        "The data Source used to train this can be found [here](https://github.com/MiuLab/SlotGated-SLU)\n",
        "\n",
        "<br>\n",
        "\n",
        "##Benchmark on Dataset \n",
        "![image.png](data:image/png;base64,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)"
      ]
    },
    {
      "cell_type": "markdown",
      "source": [
        "##1.Setup Java 8 and NLU"
      ],
      "metadata": {
        "id": "HIxATMI7ixJx"
      }
    },
    {
      "cell_type": "code",
      "metadata": {
        "id": "SF5-Z-U4jukd",
        "colab": {
          "base_uri": "https://localhost:8080/"
        },
        "outputId": "0adfff86-4de6-4d1f-8eee-434481cfd197"
      },
      "source": [
        "!wget https://raw.githubusercontent.com/JohnSnowLabs/nlu/master/scripts/colab_setup.sh -O - | bash\n",
        "\n",
        "import nlu"
      ],
      "execution_count": null,
      "outputs": [
        {
          "output_type": "stream",
          "name": "stdout",
          "text": [
            "--2022-05-19 22:10:57--  https://raw.githubusercontent.com/JohnSnowLabs/nlu/master/scripts/colab_setup.sh\n",
            "Resolving raw.githubusercontent.com (raw.githubusercontent.com)... 185.199.108.133, 185.199.109.133, 185.199.110.133, ...\n",
            "Connecting to raw.githubusercontent.com (raw.githubusercontent.com)|185.199.108.133|:443... connected.\n",
            "HTTP request sent, awaiting response... 200 OK\n",
            "Length: 1665 (1.6K) [text/plain]\n",
            "Saving to: ‘STDOUT’\n",
            "\n",
            "\r-                     0%[                    ]       0  --.-KB/s               \r-                   100%[===================>]   1.63K  --.-KB/s    in 0s      \n",
            "\n",
            "2022-05-19 22:10:57 (33.5 MB/s) - written to stdout [1665/1665]\n",
            "\n",
            "Installing  NLU 3.4.4rc1 with  PySpark 3.0.3 and Spark NLP 3.4.3 for Google Colab ...\n",
            "Hit:1 https://developer.download.nvidia.com/compute/cuda/repos/ubuntu1804/x86_64  InRelease\n",
            "Get:2 https://cloud.r-project.org/bin/linux/ubuntu bionic-cran40/ InRelease [3,626 B]\n",
            "Ign:3 https://developer.download.nvidia.com/compute/machine-learning/repos/ubuntu1804/x86_64  InRelease\n",
            "Hit:4 https://developer.download.nvidia.com/compute/machine-learning/repos/ubuntu1804/x86_64  Release\n",
            "Hit:5 http://archive.ubuntu.com/ubuntu bionic InRelease\n",
            "Get:6 http://security.ubuntu.com/ubuntu bionic-security InRelease [88.7 kB]\n",
            "Hit:7 http://ppa.launchpad.net/c2d4u.team/c2d4u4.0+/ubuntu bionic InRelease\n",
            "Get:8 http://archive.ubuntu.com/ubuntu bionic-updates InRelease [88.7 kB]\n",
            "Hit:9 http://ppa.launchpad.net/cran/libgit2/ubuntu bionic InRelease\n",
            "Get:10 http://archive.ubuntu.com/ubuntu bionic-backports InRelease [74.6 kB]\n",
            "Hit:11 http://ppa.launchpad.net/deadsnakes/ppa/ubuntu bionic InRelease\n",
            "Get:13 http://ppa.launchpad.net/graphics-drivers/ppa/ubuntu bionic InRelease [21.3 kB]\n",
            "Get:14 http://security.ubuntu.com/ubuntu bionic-security/universe amd64 Packages [1,503 kB]\n",
            "Get:15 http://security.ubuntu.com/ubuntu bionic-security/multiverse amd64 Packages [22.8 kB]\n",
            "Get:16 http://security.ubuntu.com/ubuntu bionic-security/main amd64 Packages [2,765 kB]\n",
            "Get:17 http://archive.ubuntu.com/ubuntu bionic-updates/multiverse amd64 Packages [29.8 kB]\n",
            "Get:18 http://archive.ubuntu.com/ubuntu bionic-updates/universe amd64 Packages [2,277 kB]\n",
            "Get:19 http://security.ubuntu.com/ubuntu bionic-security/restricted amd64 Packages [932 kB]\n",
            "Get:20 http://archive.ubuntu.com/ubuntu bionic-updates/main amd64 Packages [3,199 kB]\n",
            "Get:21 http://archive.ubuntu.com/ubuntu bionic-updates/restricted amd64 Packages [966 kB]\n",
            "Get:22 http://ppa.launchpad.net/graphics-drivers/ppa/ubuntu bionic/main amd64 Packages [44.3 kB]\n",
            "Fetched 12.0 MB in 4s (2,946 kB/s)\n",
            "Reading package lists... Done\n",
            "tar: spark-3.0.2-bin-hadoop2.7.tgz: Cannot open: No such file or directory\n",
            "tar: Error is not recoverable: exiting now\n",
            "\u001b[K     |████████████████████████████████| 209.1 MB 57 kB/s \n",
            "\u001b[K     |████████████████████████████████| 144 kB 19.2 MB/s \n",
            "\u001b[K     |████████████████████████████████| 517 kB 64.0 MB/s \n",
            "\u001b[K     |████████████████████████████████| 198 kB 60.9 MB/s \n",
            "\u001b[?25h  Building wheel for pyspark (setup.py) ... \u001b[?25l\u001b[?25hdone\n"
          ]
        }
      ]
    },
    {
      "cell_type": "markdown",
      "source": [
        "##2.Load the mdoel and make Sample Predictions "
      ],
      "metadata": {
        "id": "XiVdjjfzij2R"
      }
    },
    {
      "cell_type": "code",
      "source": [
        "pipeline = nlu.load('en.ner.snips')\n",
        "pipeline.predict(\"Hey should we go grab a bite at a resturant?\")"
      ],
      "metadata": {
        "colab": {
          "base_uri": "https://localhost:8080/",
          "height": 245
        },
        "id": "zzWPoMYZsVj2",
        "outputId": "c6630c91-4991-4eb5-c20b-a6f2b6f90545"
      },
      "execution_count": null,
      "outputs": [
        {
          "output_type": "stream",
          "name": "stdout",
          "text": [
            "classifierdl_use_snips download started this may take some time.\n",
            "Approximate size to download 21.3 MB\n",
            "[OK!]\n",
            "tfhub_use download started this may take some time.\n",
            "Approximate size to download 923.7 MB\n",
            "[OK!]\n",
            "sentence_detector_dl download started this may take some time.\n",
            "Approximate size to download 354.6 KB\n",
            "[OK!]\n"
          ]
        },
        {
          "output_type": "execute_result",
          "data": {
            "text/plain": [
              "                                       sentence  \\\n",
              "0  Hey should we go grab a bite at a resturant?   \n",
              "\n",
              "                              sentence_embedding_use           snips  \\\n",
              "0  [-0.059718165546655655, 0.050846636295318604, ...  BookRestaurant   \n",
              "\n",
              "  snips_confidence_confidence  \n",
              "0                         1.0  "
            ],
            "text/html": [
              "\n",
              "  <div id=\"df-d89db517-4e2d-47f2-a7d4-09e56365bb5b\">\n",
              "    <div class=\"colab-df-container\">\n",
              "      <div>\n",
              "<style scoped>\n",
              "    .dataframe tbody tr th:only-of-type {\n",
              "        vertical-align: middle;\n",
              "    }\n",
              "\n",
              "    .dataframe tbody tr th {\n",
              "        vertical-align: top;\n",
              "    }\n",
              "\n",
              "    .dataframe thead th {\n",
              "        text-align: right;\n",
              "    }\n",
              "</style>\n",
              "<table border=\"1\" class=\"dataframe\">\n",
              "  <thead>\n",
              "    <tr style=\"text-align: right;\">\n",
              "      <th></th>\n",
              "      <th>sentence</th>\n",
              "      <th>sentence_embedding_use</th>\n",
              "      <th>snips</th>\n",
              "      <th>snips_confidence_confidence</th>\n",
              "    </tr>\n",
              "  </thead>\n",
              "  <tbody>\n",
              "    <tr>\n",
              "      <th>0</th>\n",
              "      <td>Hey should we go grab a bite at a resturant?</td>\n",
              "      <td>[-0.059718165546655655, 0.050846636295318604, ...</td>\n",
              "      <td>BookRestaurant</td>\n",
              "      <td>1.0</td>\n",
              "    </tr>\n",
              "  </tbody>\n",
              "</table>\n",
              "</div>\n",
              "      <button class=\"colab-df-convert\" onclick=\"convertToInteractive('df-d89db517-4e2d-47f2-a7d4-09e56365bb5b')\"\n",
              "              title=\"Convert this dataframe to an interactive table.\"\n",
              "              style=\"display:none;\">\n",
              "        \n",
              "  <svg xmlns=\"http://www.w3.org/2000/svg\" height=\"24px\"viewBox=\"0 0 24 24\"\n",
              "       width=\"24px\">\n",
              "    <path d=\"M0 0h24v24H0V0z\" fill=\"none\"/>\n",
              "    <path d=\"M18.56 5.44l.94 2.06.94-2.06 2.06-.94-2.06-.94-.94-2.06-.94 2.06-2.06.94zm-11 1L8.5 8.5l.94-2.06 2.06-.94-2.06-.94L8.5 2.5l-.94 2.06-2.06.94zm10 10l.94 2.06.94-2.06 2.06-.94-2.06-.94-.94-2.06-.94 2.06-2.06.94z\"/><path d=\"M17.41 7.96l-1.37-1.37c-.4-.4-.92-.59-1.43-.59-.52 0-1.04.2-1.43.59L10.3 9.45l-7.72 7.72c-.78.78-.78 2.05 0 2.83L4 21.41c.39.39.9.59 1.41.59.51 0 1.02-.2 1.41-.59l7.78-7.78 2.81-2.81c.8-.78.8-2.07 0-2.86zM5.41 20L4 18.59l7.72-7.72 1.47 1.35L5.41 20z\"/>\n",
              "  </svg>\n",
              "      </button>\n",
              "      \n",
              "  <style>\n",
              "    .colab-df-container {\n",
              "      display:flex;\n",
              "      flex-wrap:wrap;\n",
              "      gap: 12px;\n",
              "    }\n",
              "\n",
              "    .colab-df-convert {\n",
              "      background-color: #E8F0FE;\n",
              "      border: none;\n",
              "      border-radius: 50%;\n",
              "      cursor: pointer;\n",
              "      display: none;\n",
              "      fill: #1967D2;\n",
              "      height: 32px;\n",
              "      padding: 0 0 0 0;\n",
              "      width: 32px;\n",
              "    }\n",
              "\n",
              "    .colab-df-convert:hover {\n",
              "      background-color: #E2EBFA;\n",
              "      box-shadow: 0px 1px 2px rgba(60, 64, 67, 0.3), 0px 1px 3px 1px rgba(60, 64, 67, 0.15);\n",
              "      fill: #174EA6;\n",
              "    }\n",
              "\n",
              "    [theme=dark] .colab-df-convert {\n",
              "      background-color: #3B4455;\n",
              "      fill: #D2E3FC;\n",
              "    }\n",
              "\n",
              "    [theme=dark] .colab-df-convert:hover {\n",
              "      background-color: #434B5C;\n",
              "      box-shadow: 0px 1px 3px 1px rgba(0, 0, 0, 0.15);\n",
              "      filter: drop-shadow(0px 1px 2px rgba(0, 0, 0, 0.3));\n",
              "      fill: #FFFFFF;\n",
              "    }\n",
              "  </style>\n",
              "\n",
              "      <script>\n",
              "        const buttonEl =\n",
              "          document.querySelector('#df-d89db517-4e2d-47f2-a7d4-09e56365bb5b button.colab-df-convert');\n",
              "        buttonEl.style.display =\n",
              "          google.colab.kernel.accessAllowed ? 'block' : 'none';\n",
              "\n",
              "        async function convertToInteractive(key) {\n",
              "          const element = document.querySelector('#df-d89db517-4e2d-47f2-a7d4-09e56365bb5b');\n",
              "          const dataTable =\n",
              "            await google.colab.kernel.invokeFunction('convertToInteractive',\n",
              "                                                     [key], {});\n",
              "          if (!dataTable) return;\n",
              "\n",
              "          const docLinkHtml = 'Like what you see? Visit the ' +\n",
              "            '<a target=\"_blank\" href=https://colab.research.google.com/notebooks/data_table.ipynb>data table notebook</a>'\n",
              "            + ' to learn more about interactive tables.';\n",
              "          element.innerHTML = '';\n",
              "          dataTable['output_type'] = 'display_data';\n",
              "          await google.colab.output.renderOutput(dataTable, element);\n",
              "          const docLink = document.createElement('div');\n",
              "          docLink.innerHTML = docLinkHtml;\n",
              "          element.appendChild(docLink);\n",
              "        }\n",
              "      </script>\n",
              "    </div>\n",
              "  </div>\n",
              "  "
            ]
          },
          "metadata": {},
          "execution_count": 2
        }
      ]
    },
    {
      "cell_type": "markdown",
      "source": [
        "##3.Define Sample Sentences"
      ],
      "metadata": {
        "id": "_XcMyXVXsdYW"
      }
    },
    {
      "cell_type": "code",
      "source": [
        "sample_sentences = [\n",
        "\"i want to bring six of us to a bistro in town that serves hot chicken sandwich that is within the same area\", \n",
        "\"show weather forcast for the  stone memorial st  joseph peninsula state park on one hour from now\",\n",
        "\"Play the latest album  from Drake \"\n",
        "]"
      ],
      "metadata": {
        "id": "c_ty0gP6sglE"
      },
      "execution_count": null,
      "outputs": []
    },
    {
      "cell_type": "markdown",
      "source": [
        "##4.Predict on Sample Sentences"
      ],
      "metadata": {
        "id": "qpD0_HqksiLw"
      }
    },
    {
      "cell_type": "code",
      "source": [
        "pipeline.predict(sample_sentences)"
      ],
      "metadata": {
        "colab": {
          "base_uri": "https://localhost:8080/",
          "height": 144
        },
        "id": "zynQvfNmWI50",
        "outputId": "1b2c656e-6405-4935-a653-eeb8cc2060e4"
      },
      "execution_count": null,
      "outputs": [
        {
          "output_type": "execute_result",
          "data": {
            "text/plain": [
              "                                            sentence  \\\n",
              "0  i want to bring six of us to a bistro in town ...   \n",
              "1  show weather forcast for the stone memorial st...   \n",
              "2                   Play the latest album from Drake   \n",
              "\n",
              "                              sentence_embedding_use           snips  \\\n",
              "0  [0.032974954694509506, 0.026566199958324432, -...  BookRestaurant   \n",
              "1  [-0.02467229776084423, 0.05650756135582924, -0...      GetWeather   \n",
              "2  [-0.01043702568858862, -0.039566561579704285, ...       PlayMusic   \n",
              "\n",
              "  snips_confidence_confidence  \n",
              "0                         1.0  \n",
              "1                         1.0  \n",
              "2                    0.999877  "
            ],
            "text/html": [
              "\n",
              "  <div id=\"df-fee06c73-7837-4e0c-8aee-294cecbe6af6\">\n",
              "    <div class=\"colab-df-container\">\n",
              "      <div>\n",
              "<style scoped>\n",
              "    .dataframe tbody tr th:only-of-type {\n",
              "        vertical-align: middle;\n",
              "    }\n",
              "\n",
              "    .dataframe tbody tr th {\n",
              "        vertical-align: top;\n",
              "    }\n",
              "\n",
              "    .dataframe thead th {\n",
              "        text-align: right;\n",
              "    }\n",
              "</style>\n",
              "<table border=\"1\" class=\"dataframe\">\n",
              "  <thead>\n",
              "    <tr style=\"text-align: right;\">\n",
              "      <th></th>\n",
              "      <th>sentence</th>\n",
              "      <th>sentence_embedding_use</th>\n",
              "      <th>snips</th>\n",
              "      <th>snips_confidence_confidence</th>\n",
              "    </tr>\n",
              "  </thead>\n",
              "  <tbody>\n",
              "    <tr>\n",
              "      <th>0</th>\n",
              "      <td>i want to bring six of us to a bistro in town ...</td>\n",
              "      <td>[0.032974954694509506, 0.026566199958324432, -...</td>\n",
              "      <td>BookRestaurant</td>\n",
              "      <td>1.0</td>\n",
              "    </tr>\n",
              "    <tr>\n",
              "      <th>1</th>\n",
              "      <td>show weather forcast for the stone memorial st...</td>\n",
              "      <td>[-0.02467229776084423, 0.05650756135582924, -0...</td>\n",
              "      <td>GetWeather</td>\n",
              "      <td>1.0</td>\n",
              "    </tr>\n",
              "    <tr>\n",
              "      <th>2</th>\n",
              "      <td>Play the latest album from Drake</td>\n",
              "      <td>[-0.01043702568858862, -0.039566561579704285, ...</td>\n",
              "      <td>PlayMusic</td>\n",
              "      <td>0.999877</td>\n",
              "    </tr>\n",
              "  </tbody>\n",
              "</table>\n",
              "</div>\n",
              "      <button class=\"colab-df-convert\" onclick=\"convertToInteractive('df-fee06c73-7837-4e0c-8aee-294cecbe6af6')\"\n",
              "              title=\"Convert this dataframe to an interactive table.\"\n",
              "              style=\"display:none;\">\n",
              "        \n",
              "  <svg xmlns=\"http://www.w3.org/2000/svg\" height=\"24px\"viewBox=\"0 0 24 24\"\n",
              "       width=\"24px\">\n",
              "    <path d=\"M0 0h24v24H0V0z\" fill=\"none\"/>\n",
              "    <path d=\"M18.56 5.44l.94 2.06.94-2.06 2.06-.94-2.06-.94-.94-2.06-.94 2.06-2.06.94zm-11 1L8.5 8.5l.94-2.06 2.06-.94-2.06-.94L8.5 2.5l-.94 2.06-2.06.94zm10 10l.94 2.06.94-2.06 2.06-.94-2.06-.94-.94-2.06-.94 2.06-2.06.94z\"/><path d=\"M17.41 7.96l-1.37-1.37c-.4-.4-.92-.59-1.43-.59-.52 0-1.04.2-1.43.59L10.3 9.45l-7.72 7.72c-.78.78-.78 2.05 0 2.83L4 21.41c.39.39.9.59 1.41.59.51 0 1.02-.2 1.41-.59l7.78-7.78 2.81-2.81c.8-.78.8-2.07 0-2.86zM5.41 20L4 18.59l7.72-7.72 1.47 1.35L5.41 20z\"/>\n",
              "  </svg>\n",
              "      </button>\n",
              "      \n",
              "  <style>\n",
              "    .colab-df-container {\n",
              "      display:flex;\n",
              "      flex-wrap:wrap;\n",
              "      gap: 12px;\n",
              "    }\n",
              "\n",
              "    .colab-df-convert {\n",
              "      background-color: #E8F0FE;\n",
              "      border: none;\n",
              "      border-radius: 50%;\n",
              "      cursor: pointer;\n",
              "      display: none;\n",
              "      fill: #1967D2;\n",
              "      height: 32px;\n",
              "      padding: 0 0 0 0;\n",
              "      width: 32px;\n",
              "    }\n",
              "\n",
              "    .colab-df-convert:hover {\n",
              "      background-color: #E2EBFA;\n",
              "      box-shadow: 0px 1px 2px rgba(60, 64, 67, 0.3), 0px 1px 3px 1px rgba(60, 64, 67, 0.15);\n",
              "      fill: #174EA6;\n",
              "    }\n",
              "\n",
              "    [theme=dark] .colab-df-convert {\n",
              "      background-color: #3B4455;\n",
              "      fill: #D2E3FC;\n",
              "    }\n",
              "\n",
              "    [theme=dark] .colab-df-convert:hover {\n",
              "      background-color: #434B5C;\n",
              "      box-shadow: 0px 1px 3px 1px rgba(0, 0, 0, 0.15);\n",
              "      filter: drop-shadow(0px 1px 2px rgba(0, 0, 0, 0.3));\n",
              "      fill: #FFFFFF;\n",
              "    }\n",
              "  </style>\n",
              "\n",
              "      <script>\n",
              "        const buttonEl =\n",
              "          document.querySelector('#df-fee06c73-7837-4e0c-8aee-294cecbe6af6 button.colab-df-convert');\n",
              "        buttonEl.style.display =\n",
              "          google.colab.kernel.accessAllowed ? 'block' : 'none';\n",
              "\n",
              "        async function convertToInteractive(key) {\n",
              "          const element = document.querySelector('#df-fee06c73-7837-4e0c-8aee-294cecbe6af6');\n",
              "          const dataTable =\n",
              "            await google.colab.kernel.invokeFunction('convertToInteractive',\n",
              "                                                     [key], {});\n",
              "          if (!dataTable) return;\n",
              "\n",
              "          const docLinkHtml = 'Like what you see? Visit the ' +\n",
              "            '<a target=\"_blank\" href=https://colab.research.google.com/notebooks/data_table.ipynb>data table notebook</a>'\n",
              "            + ' to learn more about interactive tables.';\n",
              "          element.innerHTML = '';\n",
              "          dataTable['output_type'] = 'display_data';\n",
              "          await google.colab.output.renderOutput(dataTable, element);\n",
              "          const docLink = document.createElement('div');\n",
              "          docLink.innerHTML = docLinkHtml;\n",
              "          element.appendChild(docLink);\n",
              "        }\n",
              "      </script>\n",
              "    </div>\n",
              "  </div>\n",
              "  "
            ]
          },
          "metadata": {},
          "execution_count": 4
        }
      ]
    },
    {
      "cell_type": "markdown",
      "source": [
        "##5.Take a look at the parmaters of the pipeline"
      ],
      "metadata": {
        "id": "cEf6CWsxtDWJ"
      }
    },
    {
      "cell_type": "code",
      "source": [
        "pipeline.print_info()"
      ],
      "metadata": {
        "colab": {
          "base_uri": "https://localhost:8080/"
        },
        "id": "3TgLjxNltPCp",
        "outputId": "f604a689-17c9-465f-c587-5094bd76a54a"
      },
      "execution_count": null,
      "outputs": [
        {
          "output_type": "stream",
          "name": "stdout",
          "text": [
            "The following parameters are configurable for this NLU pipeline (You can copy paste the examples) :\n",
            ">>> component_list['classifier_dl@tfhub_use'] has settable params:\n",
            "component_list['classifier_dl@tfhub_use'].setClasses(['PlayMusic', 'BookRestaurant', 'RateBook', 'SearchScreeningEvent', 'SearchCreativeWork', 'AddToPlaylist', 'GetWeather'])  | Info: get the tags used to trained this ClassifierDLModel | Currently set to : ['PlayMusic', 'BookRestaurant', 'RateBook', 'SearchScreeningEvent', 'SearchCreativeWork', 'AddToPlaylist', 'GetWeather']\n",
            "component_list['classifier_dl@tfhub_use'].setStorageRef('tfhub_use')  | Info: unique reference name for identification | Currently set to : tfhub_use\n",
            ">>> component_list['universal_sentence_encoder@tfhub_use'] has settable params:\n",
            "component_list['universal_sentence_encoder@tfhub_use'].setDimension(512)  | Info: Number of embedding dimensions | Currently set to : 512\n",
            "component_list['universal_sentence_encoder@tfhub_use'].setLoadSP(False)  | Info: Whether to load SentencePiece ops file which is required only by multi-lingual models. This is not changeable after it's set with a pretrained model nor it is compatible with Windows. | Currently set to : False\n",
            "component_list['universal_sentence_encoder@tfhub_use'].setStorageRef('tfhub_use')  | Info: unique reference name for identification | Currently set to : tfhub_use\n",
            ">>> component_list['document_assembler'] has settable params:\n",
            "component_list['document_assembler'].setCleanupMode('shrink')  | Info: possible values: disabled, inplace, inplace_full, shrink, shrink_full, each, each_full, delete_full | Currently set to : shrink\n"
          ]
        }
      ]
    },
    {
      "cell_type": "markdown",
      "source": [
        "Looking Good! Let's test this model on a labelled dataset to see how it performs "
      ],
      "metadata": {
        "id": "1hF8dmLIkbSz"
      }
    },
    {
      "cell_type": "markdown",
      "source": [
        "##6.Download Data\n",
        "\n",
        "we are going to test the model on [this](https://github.com/MiuLab/SlotGated-SLU) dataset \n",
        "\n",
        "\n"
      ],
      "metadata": {
        "id": "uRbusvKOkVac"
      }
    },
    {
      "cell_type": "code",
      "source": [
        "!wget http://ckl-it.de/wp-content/uploads/2022/05/Data.csv"
      ],
      "metadata": {
        "colab": {
          "base_uri": "https://localhost:8080/"
        },
        "id": "KvD0rZTBrnrL",
        "outputId": "2654f555-890e-41f8-8bb2-209221b92fcd"
      },
      "execution_count": null,
      "outputs": [
        {
          "output_type": "stream",
          "name": "stdout",
          "text": [
            "--2022-05-19 22:12:57--  http://ckl-it.de/wp-content/uploads/2022/05/Data.csv\n",
            "Resolving ckl-it.de (ckl-it.de)... 217.160.0.108, 2001:8d8:100f:f000::209\n",
            "Connecting to ckl-it.de (ckl-it.de)|217.160.0.108|:80... connected.\n",
            "HTTP request sent, awaiting response... 200 OK\n",
            "Length: 975295 (952K) [text/csv]\n",
            "Saving to: ‘Data.csv’\n",
            "\n",
            "Data.csv            100%[===================>] 952.44K  1.01MB/s    in 0.9s    \n",
            "\n",
            "2022-05-19 22:12:59 (1.01 MB/s) - ‘Data.csv’ saved [975295/975295]\n",
            "\n"
          ]
        }
      ]
    },
    {
      "cell_type": "code",
      "source": [
        "import pandas  as pd \n",
        "df = pd.read_csv(\"Data.csv\")\n",
        "df.y = df.y.str.replace(\"\\n\",\"\")\n",
        "df"
      ],
      "metadata": {
        "colab": {
          "base_uri": "https://localhost:8080/",
          "height": 424
        },
        "id": "n-6bOT4krpr8",
        "outputId": "2e823257-09a2-4066-e6d9-86218df8b5b3"
      },
      "execution_count": null,
      "outputs": [
        {
          "output_type": "execute_result",
          "data": {
            "text/plain": [
              "                                                    Text               y\n",
              "0      me  maggie and ellen want to eat at lentil as ...  BookRestaurant\n",
              "1      add the singer maxine nightingale to the spani...   AddToPlaylist\n",
              "2          put jim fairchild onto spotlight spain 2016\\n   AddToPlaylist\n",
              "3                       play movement by duane allman \\n       PlayMusic\n",
              "4                      rate the descendants two points\\n        RateBook\n",
              "...                                                  ...             ...\n",
              "14479  book me a table for a party of eight in german...  BookRestaurant\n",
              "14480    add cary brothers to rock the 2000 s playlist\\n   AddToPlaylist\n",
              "14481  is it going to be rainy here one second from n...      GetWeather\n",
              "14482  i would give feast of the innocents a value of...        RateBook\n",
              "14483       will there be a cloud in vi in 14 minutes \\n      GetWeather\n",
              "\n",
              "[14484 rows x 2 columns]"
            ],
            "text/html": [
              "\n",
              "  <div id=\"df-6cbdbc3b-9ed2-440f-ab2a-cc69a0f1680c\">\n",
              "    <div class=\"colab-df-container\">\n",
              "      <div>\n",
              "<style scoped>\n",
              "    .dataframe tbody tr th:only-of-type {\n",
              "        vertical-align: middle;\n",
              "    }\n",
              "\n",
              "    .dataframe tbody tr th {\n",
              "        vertical-align: top;\n",
              "    }\n",
              "\n",
              "    .dataframe thead th {\n",
              "        text-align: right;\n",
              "    }\n",
              "</style>\n",
              "<table border=\"1\" class=\"dataframe\">\n",
              "  <thead>\n",
              "    <tr style=\"text-align: right;\">\n",
              "      <th></th>\n",
              "      <th>Text</th>\n",
              "      <th>y</th>\n",
              "    </tr>\n",
              "  </thead>\n",
              "  <tbody>\n",
              "    <tr>\n",
              "      <th>0</th>\n",
              "      <td>me  maggie and ellen want to eat at lentil as ...</td>\n",
              "      <td>BookRestaurant</td>\n",
              "    </tr>\n",
              "    <tr>\n",
              "      <th>1</th>\n",
              "      <td>add the singer maxine nightingale to the spani...</td>\n",
              "      <td>AddToPlaylist</td>\n",
              "    </tr>\n",
              "    <tr>\n",
              "      <th>2</th>\n",
              "      <td>put jim fairchild onto spotlight spain 2016\\n</td>\n",
              "      <td>AddToPlaylist</td>\n",
              "    </tr>\n",
              "    <tr>\n",
              "      <th>3</th>\n",
              "      <td>play movement by duane allman \\n</td>\n",
              "      <td>PlayMusic</td>\n",
              "    </tr>\n",
              "    <tr>\n",
              "      <th>4</th>\n",
              "      <td>rate the descendants two points\\n</td>\n",
              "      <td>RateBook</td>\n",
              "    </tr>\n",
              "    <tr>\n",
              "      <th>...</th>\n",
              "      <td>...</td>\n",
              "      <td>...</td>\n",
              "    </tr>\n",
              "    <tr>\n",
              "      <th>14479</th>\n",
              "      <td>book me a table for a party of eight in german...</td>\n",
              "      <td>BookRestaurant</td>\n",
              "    </tr>\n",
              "    <tr>\n",
              "      <th>14480</th>\n",
              "      <td>add cary brothers to rock the 2000 s playlist\\n</td>\n",
              "      <td>AddToPlaylist</td>\n",
              "    </tr>\n",
              "    <tr>\n",
              "      <th>14481</th>\n",
              "      <td>is it going to be rainy here one second from n...</td>\n",
              "      <td>GetWeather</td>\n",
              "    </tr>\n",
              "    <tr>\n",
              "      <th>14482</th>\n",
              "      <td>i would give feast of the innocents a value of...</td>\n",
              "      <td>RateBook</td>\n",
              "    </tr>\n",
              "    <tr>\n",
              "      <th>14483</th>\n",
              "      <td>will there be a cloud in vi in 14 minutes \\n</td>\n",
              "      <td>GetWeather</td>\n",
              "    </tr>\n",
              "  </tbody>\n",
              "</table>\n",
              "<p>14484 rows × 2 columns</p>\n",
              "</div>\n",
              "      <button class=\"colab-df-convert\" onclick=\"convertToInteractive('df-6cbdbc3b-9ed2-440f-ab2a-cc69a0f1680c')\"\n",
              "              title=\"Convert this dataframe to an interactive table.\"\n",
              "              style=\"display:none;\">\n",
              "        \n",
              "  <svg xmlns=\"http://www.w3.org/2000/svg\" height=\"24px\"viewBox=\"0 0 24 24\"\n",
              "       width=\"24px\">\n",
              "    <path d=\"M0 0h24v24H0V0z\" fill=\"none\"/>\n",
              "    <path d=\"M18.56 5.44l.94 2.06.94-2.06 2.06-.94-2.06-.94-.94-2.06-.94 2.06-2.06.94zm-11 1L8.5 8.5l.94-2.06 2.06-.94-2.06-.94L8.5 2.5l-.94 2.06-2.06.94zm10 10l.94 2.06.94-2.06 2.06-.94-2.06-.94-.94-2.06-.94 2.06-2.06.94z\"/><path d=\"M17.41 7.96l-1.37-1.37c-.4-.4-.92-.59-1.43-.59-.52 0-1.04.2-1.43.59L10.3 9.45l-7.72 7.72c-.78.78-.78 2.05 0 2.83L4 21.41c.39.39.9.59 1.41.59.51 0 1.02-.2 1.41-.59l7.78-7.78 2.81-2.81c.8-.78.8-2.07 0-2.86zM5.41 20L4 18.59l7.72-7.72 1.47 1.35L5.41 20z\"/>\n",
              "  </svg>\n",
              "      </button>\n",
              "      \n",
              "  <style>\n",
              "    .colab-df-container {\n",
              "      display:flex;\n",
              "      flex-wrap:wrap;\n",
              "      gap: 12px;\n",
              "    }\n",
              "\n",
              "    .colab-df-convert {\n",
              "      background-color: #E8F0FE;\n",
              "      border: none;\n",
              "      border-radius: 50%;\n",
              "      cursor: pointer;\n",
              "      display: none;\n",
              "      fill: #1967D2;\n",
              "      height: 32px;\n",
              "      padding: 0 0 0 0;\n",
              "      width: 32px;\n",
              "    }\n",
              "\n",
              "    .colab-df-convert:hover {\n",
              "      background-color: #E2EBFA;\n",
              "      box-shadow: 0px 1px 2px rgba(60, 64, 67, 0.3), 0px 1px 3px 1px rgba(60, 64, 67, 0.15);\n",
              "      fill: #174EA6;\n",
              "    }\n",
              "\n",
              "    [theme=dark] .colab-df-convert {\n",
              "      background-color: #3B4455;\n",
              "      fill: #D2E3FC;\n",
              "    }\n",
              "\n",
              "    [theme=dark] .colab-df-convert:hover {\n",
              "      background-color: #434B5C;\n",
              "      box-shadow: 0px 1px 3px 1px rgba(0, 0, 0, 0.15);\n",
              "      filter: drop-shadow(0px 1px 2px rgba(0, 0, 0, 0.3));\n",
              "      fill: #FFFFFF;\n",
              "    }\n",
              "  </style>\n",
              "\n",
              "      <script>\n",
              "        const buttonEl =\n",
              "          document.querySelector('#df-6cbdbc3b-9ed2-440f-ab2a-cc69a0f1680c button.colab-df-convert');\n",
              "        buttonEl.style.display =\n",
              "          google.colab.kernel.accessAllowed ? 'block' : 'none';\n",
              "\n",
              "        async function convertToInteractive(key) {\n",
              "          const element = document.querySelector('#df-6cbdbc3b-9ed2-440f-ab2a-cc69a0f1680c');\n",
              "          const dataTable =\n",
              "            await google.colab.kernel.invokeFunction('convertToInteractive',\n",
              "                                                     [key], {});\n",
              "          if (!dataTable) return;\n",
              "\n",
              "          const docLinkHtml = 'Like what you see? Visit the ' +\n",
              "            '<a target=\"_blank\" href=https://colab.research.google.com/notebooks/data_table.ipynb>data table notebook</a>'\n",
              "            + ' to learn more about interactive tables.';\n",
              "          element.innerHTML = '';\n",
              "          dataTable['output_type'] = 'display_data';\n",
              "          await google.colab.output.renderOutput(dataTable, element);\n",
              "          const docLink = document.createElement('div');\n",
              "          docLink.innerHTML = docLinkHtml;\n",
              "          element.appendChild(docLink);\n",
              "        }\n",
              "      </script>\n",
              "    </div>\n",
              "  </div>\n",
              "  "
            ]
          },
          "metadata": {},
          "execution_count": 3
        }
      ]
    },
    {
      "cell_type": "markdown",
      "source": [
        "Let's take  a Peek at the distribution of the labels "
      ],
      "metadata": {
        "id": "mUl3_RmhuSHW"
      }
    },
    {
      "cell_type": "code",
      "source": [
        "df.y.value_counts().plot.barh(title='Distribution of Labels')"
      ],
      "metadata": {
        "colab": {
          "base_uri": "https://localhost:8080/",
          "height": 298
        },
        "id": "7b9cKEyMtbWL",
        "outputId": "c6164d22-bf7d-4c27-bb9d-f27f2a25771b"
      },
      "execution_count": null,
      "outputs": [
        {
          "output_type": "execute_result",
          "data": {
            "text/plain": [
              "<matplotlib.axes._subplots.AxesSubplot at 0x7f00a6712c10>"
            ]
          },
          "metadata": {},
          "execution_count": 5
        },
        {
          "output_type": "display_data",
          "data": {
            "text/plain": [
              "<Figure size 432x288 with 1 Axes>"
            ],
            "image/png": "[encoded data removed]"
          },
          "metadata": {
            "needs_background": "light"
          }
        }
      ]
    },
    {
      "cell_type": "markdown",
      "source": [
        "##7.Make Predictions with the model"
      ],
      "metadata": {
        "id": "KHxOy5o9uyTG"
      }
    },
    {
      "cell_type": "code",
      "source": [
        "predctions = pipeline.predict(df,output_level = 'document')"
      ],
      "metadata": {
        "id": "QpmPv2q5uVyd"
      },
      "execution_count": null,
      "outputs": []
    },
    {
      "cell_type": "code",
      "source": [
        "predctions"
      ],
      "metadata": {
        "colab": {
          "base_uri": "https://localhost:8080/",
          "height": 641
        },
        "id": "j4JpnxjzMOsV",
        "outputId": "48d8f9f8-93fa-4db0-8439-e3b6420f6fc6"
      },
      "execution_count": null,
      "outputs": [
        {
          "output_type": "execute_result",
          "data": {
            "text/plain": [
              "                                                document  \\\n",
              "0      me maggie and ellen want to eat at lentil as a...   \n",
              "1      add the singer maxine nightingale to the spani...   \n",
              "2            put jim fairchild onto spotlight spain 2016   \n",
              "3                          play movement by duane allman   \n",
              "4                        rate the descendants two points   \n",
              "...                                                  ...   \n",
              "14479    book me a table for a party of eight in germany   \n",
              "14480      add cary brothers to rock the 2000 s playlist   \n",
              "14481   is it going to be rainy here one second from now   \n",
              "14482   i would give feast of the innocents a value of 1   \n",
              "14483          will there be a cloud in vi in 14 minutes   \n",
              "\n",
              "                                  sentence_embedding_use           snips  \\\n",
              "0      [[-0.017013607546687126, 0.034057579934597015,...  BookRestaurant   \n",
              "1      [[-0.058401599526405334, 0.030685268342494965,...   AddToPlaylist   \n",
              "2      [[0.07778624445199966, -0.04414999112486839, -...   AddToPlaylist   \n",
              "3      [[-0.019449099898338318, -0.016717910766601562...       PlayMusic   \n",
              "4      [[-0.07902456074953079, -0.0464814268052578, 0...        RateBook   \n",
              "...                                                  ...             ...   \n",
              "14479  [[-0.0052231671288609505, 0.010193767957389355...  BookRestaurant   \n",
              "14480  [[-0.025543220341205597, 0.022171588614583015,...   AddToPlaylist   \n",
              "14481  [[-0.06673435866832733, 0.030579980462789536, ...      GetWeather   \n",
              "14482  [[-0.021519748494029045, -0.04700062796473503,...        RateBook   \n",
              "14483  [[-0.03852422162890434, 0.03333006799221039, -...      GetWeather   \n",
              "\n",
              "      snips_confidence_confidence  \\\n",
              "0                             1.0   \n",
              "1                             1.0   \n",
              "2                        0.999995   \n",
              "3                             1.0   \n",
              "4                             1.0   \n",
              "...                           ...   \n",
              "14479                         1.0   \n",
              "14480                         1.0   \n",
              "14481                         1.0   \n",
              "14482                         1.0   \n",
              "14483                         1.0   \n",
              "\n",
              "                                                    text               y  \n",
              "0      me  maggie and ellen want to eat at lentil as ...  BookRestaurant  \n",
              "1      add the singer maxine nightingale to the spani...   AddToPlaylist  \n",
              "2          put jim fairchild onto spotlight spain 2016\\n   AddToPlaylist  \n",
              "3                       play movement by duane allman \\n       PlayMusic  \n",
              "4                      rate the descendants two points\\n        RateBook  \n",
              "...                                                  ...             ...  \n",
              "14479  book me a table for a party of eight in german...  BookRestaurant  \n",
              "14480    add cary brothers to rock the 2000 s playlist\\n   AddToPlaylist  \n",
              "14481  is it going to be rainy here one second from n...      GetWeather  \n",
              "14482  i would give feast of the innocents a value of...        RateBook  \n",
              "14483       will there be a cloud in vi in 14 minutes \\n      GetWeather  \n",
              "\n",
              "[14484 rows x 6 columns]"
            ],
            "text/html": [
              "\n",
              "  <div id=\"df-7fa188d2-7482-49c8-b7b0-892c8f419cad\">\n",
              "    <div class=\"colab-df-container\">\n",
              "      <div>\n",
              "<style scoped>\n",
              "    .dataframe tbody tr th:only-of-type {\n",
              "        vertical-align: middle;\n",
              "    }\n",
              "\n",
              "    .dataframe tbody tr th {\n",
              "        vertical-align: top;\n",
              "    }\n",
              "\n",
              "    .dataframe thead th {\n",
              "        text-align: right;\n",
              "    }\n",
              "</style>\n",
              "<table border=\"1\" class=\"dataframe\">\n",
              "  <thead>\n",
              "    <tr style=\"text-align: right;\">\n",
              "      <th></th>\n",
              "      <th>document</th>\n",
              "      <th>sentence_embedding_use</th>\n",
              "      <th>snips</th>\n",
              "      <th>snips_confidence_confidence</th>\n",
              "      <th>text</th>\n",
              "      <th>y</th>\n",
              "    </tr>\n",
              "  </thead>\n",
              "  <tbody>\n",
              "    <tr>\n",
              "      <th>0</th>\n",
              "      <td>me maggie and ellen want to eat at lentil as a...</td>\n",
              "      <td>[[-0.017013607546687126, 0.034057579934597015,...</td>\n",
              "      <td>BookRestaurant</td>\n",
              "      <td>1.0</td>\n",
              "      <td>me  maggie and ellen want to eat at lentil as ...</td>\n",
              "      <td>BookRestaurant</td>\n",
              "    </tr>\n",
              "    <tr>\n",
              "      <th>1</th>\n",
              "      <td>add the singer maxine nightingale to the spani...</td>\n",
              "      <td>[[-0.058401599526405334, 0.030685268342494965,...</td>\n",
              "      <td>AddToPlaylist</td>\n",
              "      <td>1.0</td>\n",
              "      <td>add the singer maxine nightingale to the spani...</td>\n",
              "      <td>AddToPlaylist</td>\n",
              "    </tr>\n",
              "    <tr>\n",
              "      <th>2</th>\n",
              "      <td>put jim fairchild onto spotlight spain 2016</td>\n",
              "      <td>[[0.07778624445199966, -0.04414999112486839, -...</td>\n",
              "      <td>AddToPlaylist</td>\n",
              "      <td>0.999995</td>\n",
              "      <td>put jim fairchild onto spotlight spain 2016\\n</td>\n",
              "      <td>AddToPlaylist</td>\n",
              "    </tr>\n",
              "    <tr>\n",
              "      <th>3</th>\n",
              "      <td>play movement by duane allman</td>\n",
              "      <td>[[-0.019449099898338318, -0.016717910766601562...</td>\n",
              "      <td>PlayMusic</td>\n",
              "      <td>1.0</td>\n",
              "      <td>play movement by duane allman \\n</td>\n",
              "      <td>PlayMusic</td>\n",
              "    </tr>\n",
              "    <tr>\n",
              "      <th>4</th>\n",
              "      <td>rate the descendants two points</td>\n",
              "      <td>[[-0.07902456074953079, -0.0464814268052578, 0...</td>\n",
              "      <td>RateBook</td>\n",
              "      <td>1.0</td>\n",
              "      <td>rate the descendants two points\\n</td>\n",
              "      <td>RateBook</td>\n",
              "    </tr>\n",
              "    <tr>\n",
              "      <th>...</th>\n",
              "      <td>...</td>\n",
              "      <td>...</td>\n",
              "      <td>...</td>\n",
              "      <td>...</td>\n",
              "      <td>...</td>\n",
              "      <td>...</td>\n",
              "    </tr>\n",
              "    <tr>\n",
              "      <th>14479</th>\n",
              "      <td>book me a table for a party of eight in germany</td>\n",
              "      <td>[[-0.0052231671288609505, 0.010193767957389355...</td>\n",
              "      <td>BookRestaurant</td>\n",
              "      <td>1.0</td>\n",
              "      <td>book me a table for a party of eight in german...</td>\n",
              "      <td>BookRestaurant</td>\n",
              "    </tr>\n",
              "    <tr>\n",
              "      <th>14480</th>\n",
              "      <td>add cary brothers to rock the 2000 s playlist</td>\n",
              "      <td>[[-0.025543220341205597, 0.022171588614583015,...</td>\n",
              "      <td>AddToPlaylist</td>\n",
              "      <td>1.0</td>\n",
              "      <td>add cary brothers to rock the 2000 s playlist\\n</td>\n",
              "      <td>AddToPlaylist</td>\n",
              "    </tr>\n",
              "    <tr>\n",
              "      <th>14481</th>\n",
              "      <td>is it going to be rainy here one second from now</td>\n",
              "      <td>[[-0.06673435866832733, 0.030579980462789536, ...</td>\n",
              "      <td>GetWeather</td>\n",
              "      <td>1.0</td>\n",
              "      <td>is it going to be rainy here one second from n...</td>\n",
              "      <td>GetWeather</td>\n",
              "    </tr>\n",
              "    <tr>\n",
              "      <th>14482</th>\n",
              "      <td>i would give feast of the innocents a value of 1</td>\n",
              "      <td>[[-0.021519748494029045, -0.04700062796473503,...</td>\n",
              "      <td>RateBook</td>\n",
              "      <td>1.0</td>\n",
              "      <td>i would give feast of the innocents a value of...</td>\n",
              "      <td>RateBook</td>\n",
              "    </tr>\n",
              "    <tr>\n",
              "      <th>14483</th>\n",
              "      <td>will there be a cloud in vi in 14 minutes</td>\n",
              "      <td>[[-0.03852422162890434, 0.03333006799221039, -...</td>\n",
              "      <td>GetWeather</td>\n",
              "      <td>1.0</td>\n",
              "      <td>will there be a cloud in vi in 14 minutes \\n</td>\n",
              "      <td>GetWeather</td>\n",
              "    </tr>\n",
              "  </tbody>\n",
              "</table>\n",
              "<p>14484 rows × 6 columns</p>\n",
              "</div>\n",
              "      <button class=\"colab-df-convert\" onclick=\"convertToInteractive('df-7fa188d2-7482-49c8-b7b0-892c8f419cad')\"\n",
              "              title=\"Convert this dataframe to an interactive table.\"\n",
              "              style=\"display:none;\">\n",
              "        \n",
              "  <svg xmlns=\"http://www.w3.org/2000/svg\" height=\"24px\"viewBox=\"0 0 24 24\"\n",
              "       width=\"24px\">\n",
              "    <path d=\"M0 0h24v24H0V0z\" fill=\"none\"/>\n",
              "    <path d=\"M18.56 5.44l.94 2.06.94-2.06 2.06-.94-2.06-.94-.94-2.06-.94 2.06-2.06.94zm-11 1L8.5 8.5l.94-2.06 2.06-.94-2.06-.94L8.5 2.5l-.94 2.06-2.06.94zm10 10l.94 2.06.94-2.06 2.06-.94-2.06-.94-.94-2.06-.94 2.06-2.06.94z\"/><path d=\"M17.41 7.96l-1.37-1.37c-.4-.4-.92-.59-1.43-.59-.52 0-1.04.2-1.43.59L10.3 9.45l-7.72 7.72c-.78.78-.78 2.05 0 2.83L4 21.41c.39.39.9.59 1.41.59.51 0 1.02-.2 1.41-.59l7.78-7.78 2.81-2.81c.8-.78.8-2.07 0-2.86zM5.41 20L4 18.59l7.72-7.72 1.47 1.35L5.41 20z\"/>\n",
              "  </svg>\n",
              "      </button>\n",
              "      \n",
              "  <style>\n",
              "    .colab-df-container {\n",
              "      display:flex;\n",
              "      flex-wrap:wrap;\n",
              "      gap: 12px;\n",
              "    }\n",
              "\n",
              "    .colab-df-convert {\n",
              "      background-color: #E8F0FE;\n",
              "      border: none;\n",
              "      border-radius: 50%;\n",
              "      cursor: pointer;\n",
              "      display: none;\n",
              "      fill: #1967D2;\n",
              "      height: 32px;\n",
              "      padding: 0 0 0 0;\n",
              "      width: 32px;\n",
              "    }\n",
              "\n",
              "    .colab-df-convert:hover {\n",
              "      background-color: #E2EBFA;\n",
              "      box-shadow: 0px 1px 2px rgba(60, 64, 67, 0.3), 0px 1px 3px 1px rgba(60, 64, 67, 0.15);\n",
              "      fill: #174EA6;\n",
              "    }\n",
              "\n",
              "    [theme=dark] .colab-df-convert {\n",
              "      background-color: #3B4455;\n",
              "      fill: #D2E3FC;\n",
              "    }\n",
              "\n",
              "    [theme=dark] .colab-df-convert:hover {\n",
              "      background-color: #434B5C;\n",
              "      box-shadow: 0px 1px 3px 1px rgba(0, 0, 0, 0.15);\n",
              "      filter: drop-shadow(0px 1px 2px rgba(0, 0, 0, 0.3));\n",
              "      fill: #FFFFFF;\n",
              "    }\n",
              "  </style>\n",
              "\n",
              "      <script>\n",
              "        const buttonEl =\n",
              "          document.querySelector('#df-7fa188d2-7482-49c8-b7b0-892c8f419cad button.colab-df-convert');\n",
              "        buttonEl.style.display =\n",
              "          google.colab.kernel.accessAllowed ? 'block' : 'none';\n",
              "\n",
              "        async function convertToInteractive(key) {\n",
              "          const element = document.querySelector('#df-7fa188d2-7482-49c8-b7b0-892c8f419cad');\n",
              "          const dataTable =\n",
              "            await google.colab.kernel.invokeFunction('convertToInteractive',\n",
              "                                                     [key], {});\n",
              "          if (!dataTable) return;\n",
              "\n",
              "          const docLinkHtml = 'Like what you see? Visit the ' +\n",
              "            '<a target=\"_blank\" href=https://colab.research.google.com/notebooks/data_table.ipynb>data table notebook</a>'\n",
              "            + ' to learn more about interactive tables.';\n",
              "          element.innerHTML = '';\n",
              "          dataTable['output_type'] = 'display_data';\n",
              "          await google.colab.output.renderOutput(dataTable, element);\n",
              "          const docLink = document.createElement('div');\n",
              "          docLink.innerHTML = docLinkHtml;\n",
              "          element.appendChild(docLink);\n",
              "        }\n",
              "      </script>\n",
              "    </div>\n",
              "  </div>\n",
              "  "
            ]
          },
          "metadata": {},
          "execution_count": 24
        }
      ]
    },
    {
      "cell_type": "markdown",
      "source": [
        "## 8.Evaluate Predictions "
      ],
      "metadata": {
        "id": "y03ZPigmGPYL"
      }
    },
    {
      "cell_type": "code",
      "source": [
        "from sklearn.metrics import classification_report\n",
        "print(classification_report(predctions['y'], predctions['snips']) )"
      ],
      "metadata": {
        "colab": {
          "base_uri": "https://localhost:8080/"
        },
        "id": "yfJtQLGDu8nN",
        "outputId": "9d6080f9-d5b1-423c-98b5-3c61bcad8346"
      },
      "execution_count": null,
      "outputs": [
        {
          "output_type": "stream",
          "name": "stdout",
          "text": [
            "                      precision    recall  f1-score   support\n",
            "\n",
            "       AddToPlaylist       0.99      0.99      0.99      2042\n",
            "      BookRestaurant       0.99      1.00      1.00      2073\n",
            "          GetWeather       1.00      0.99      1.00      2100\n",
            "           PlayMusic       0.96      0.97      0.97      2100\n",
            "            RateBook       1.00      1.00      1.00      2056\n",
            "  SearchCreativeWork       0.94      0.95      0.94      2054\n",
            "SearchScreeningEvent       0.98      0.96      0.97      2059\n",
            "\n",
            "            accuracy                           0.98     14484\n",
            "           macro avg       0.98      0.98      0.98     14484\n",
            "        weighted avg       0.98      0.98      0.98     14484\n",
            "\n"
          ]
        }
      ]
    },
    {
      "cell_type": "markdown",
      "metadata": {
        "id": "VXu21c0iQRSC"
      },
      "source": [
        "# There are many more models you can put to use in 1 line of code!\n",
        "## Checkout [the Modelshub](https://nlp.johnsnowlabs.com/models) and the [NLU Namespace](https://nlu.johnsnowlabs.com/docs/en/spellbook) for more models\n",
        "\n",
        "### NLU Webinars and Video Tutorials\n",
        "- [NLU & Streamlit Tutorial](https://vimeo.com/579508034#)\n",
        "- [Crash course of the 50 + Medical Domains and the 200+ Healtchare models in NLU](https://www.youtube.com/watch?v=gGDsZXt1SF8)\n",
        "- [Multi Lingual NLU Webinar - Tutorial on Chinese News dataset](https://www.youtube.com/watch?v=ftAOqJuxnV4)\n",
        "- [John Snow Labs NLU: Become a Data Science Superhero with One Line of Python code](https://events.johnsnowlabs.com/john-snow-labs-nlu-become-a-data-science-superhero-with-one-line-of-python-code?hsCtaTracking=c659363c-2188-4c86-945f-5cfb7b42fcfc%7C8b2b188b-92a3-48ba-ad7e-073b384425b0)\n",
        "- [Python Web Def Conf - Python's NLU library: 1,000+ Models, 200+ Languages, State of the Art Accuracy, 1 Line of Code](https://2021.pythonwebconf.com/presentations/john-snow-labs-nlu-the-simplicity-of-python-the-power-of-spark-nlp)\n",
        "- [NYC/DC NLP Meetup with NLU](https://youtu.be/hJR9m3NYnwk?t=2155)\n",
        "\n",
        "### More ressources \n",
        "- [Join our Slack](https://join.slack.com/t/spark-nlp/shared_invite/zt-lutct9gm-kuUazcyFKhuGY3_0AMkxqA)\n",
        "- [NLU Website](https://nlu.johnsnowlabs.com/)\n",
        "- [NLU Github](https://github.com/JohnSnowLabs/nlu)\n",
        "- [Many more NLU example tutorials](https://github.com/JohnSnowLabs/nlu/tree/master/examples)\n",
        "- [Overview of every powerful nlu 1-liner](https://nlu.johnsnowlabs.com/docs/en/examples)\n",
        "- [Checkout the Modelshub for an overview of all models](https://nlp.johnsnowlabs.com/models) \n",
        "- [Checkout the NLU Namespace where you can find every model as a tabel](https://nlu.johnsnowlabs.com/docs/en/spellbook)\n",
        "- [Intro to NLU article](https://medium.com/spark-nlp/1-line-of-code-350-nlp-models-with-john-snow-labs-nlu-in-python-2f1c55bba619)\n",
        "- [Indepth and easy Sentence Similarity Tutorial, with StackOverflow Questions using BERTology embeddings](https://medium.com/spark-nlp/easy-sentence-similarity-with-bert-sentence-embeddings-using-john-snow-labs-nlu-ea078deb6ebf)\n",
        "- [1 line of Python code for BERT, ALBERT, ELMO, ELECTRA, XLNET, GLOVE, Part of Speech with NLU and t-SNE](https://medium.com/spark-nlp/1-line-of-code-for-bert-albert-elmo-electra-xlnet-glove-part-of-speech-with-nlu-and-t-sne-9ebcd5379cd)"
      ]
    }
  ]
}
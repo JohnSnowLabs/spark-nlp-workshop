{
  "nbformat": 4,
  "nbformat_minor": 0,
  "metadata": {
    "colab": {
      "name": "Banking_Queries_Classification.ipynb",
      "provenance": [],
      "collapsed_sections": [],
      "toc_visible": true
    },
    "kernelspec": {
      "name": "python3",
      "display_name": "Python 3"
    },
    "language_info": {
      "name": "python"
    }
  },
  "cells": [
    {
      "cell_type": "markdown",
      "metadata": {
        "id": "tOHVDa9DQQR5"
      },
      "source": [
        "![JohnSnowLabs](https://nlp.johnsnowlabs.com/assets/images/logo.png)\n",
        "\n",
        "[![Open In Colab](https://colab.research.google.com/assets/colab-badge.svg)](https://colab.research.google.com/github/JohnSnowLabs/nlu/blob/master/examples/colab/component_examples/classifiers/Banking_Queries_Classification.ipynb)\n",
        "\n",
        "\n",
        "# [DistilBERT Sequence Classification - Industry](https://nlp.johnsnowlabs.com/2021/11/21/distilbert_sequence_classifier_banking77_en.html)\n",
        "\n",
        "Fine-tuned DistilBERT model by using Banking77 dataset. The dataset is composed of online banking queries annotated with their corresponding intents.\n",
        "\n",
        "BANKING77 dataset provides a very fine-grained set of intents in a banking domain. It comprises 13,083 customer service queries labeled with 77 intents. It focuses on fine-grained single-domain intent detection.\n",
        "\n",
        "It can be used to identify and sort help requests which would greatly increase the efficency of workers and also help provide automatic support . \n",
        "\n",
        "It can predict the following Entities\n",
        "\n",
        "`activate_my_card`, `age_limit`, `apple_pay_or_google_pay`, `atm_support`, `automatic_top_up`, `balance_not_updated_after_bank_transfer`, `balance_not_updated_after_cheque_or_cash_deposit`, `beneficiary_not_allowed`, `cancel_transfer`, `card_about_to_expire`, `card_acceptance`, `card_arrival`, `card_delivery_estimate`, `card_linking`, `card_not_working`, `card_payment_fee_charged`, `card_payment_not_recognised`, `card_payment_wrong_exchange_rate`, `card_swallowed`, `cash_withdrawal_charge`, `cash_withdrawal_not_recognised`, `change_pin`, `compromised_card`, `contactless_not_working`, `country_support`, `declined_card_payment`, `declined_cash_withdrawal`, `declined_transfer`, `direct_debit_payment_not_recognised`, `disposable_card_limits`, `edit_personal_details`, `exchange_charge`, `exchange_rate`, `exchange_via_app`, `extra_charge_on_statement`, `failed_transfer`, `fiat_currency_support`, `get_disposable_virtual_card`, `get_physical_card`, `getting_spare_card`, `getting_virtual_card`, `lost_or_stolen_card`, `lost_or_stolen_phone`, `order_physical_card`, `passcode_forgotten`, `pending_card_payment`, `pending_cash_withdrawal`, `pending_top_up`, `pending_transfer`, `pin_blocked`, `receiving_money`, `Refund_not_showing_up`, `request_refund`, `reverted_card_payment?`, `supported_cards_and_currencies`, `terminate_account`, `top_up_by_bank_transfer_charge`, `top_up_by_card_charge`, `top_up_by_cash_or_cheque`, `top_up_failed`, `top_up_limits`, `top_up_reverted`, `topping_up_by_card`, `transaction_charged_twice`, `transfer_fee_charged`, `transfer_into_account`, `transfer_not_received_by_recipient`, `transfer_timing`, `unable_to_verify_identity`, `verify_my_identity`, `verify_source_of_funds`, `verify_top_up`, `virtual_card_not_working`, `visa_or_mastercard`, `why_verify_identity`, `wrong_amount_of_cash_received`, `wrong_exchange_rate_for_cash_withdrawal`\n",
        "\n"
      ]
    },
    {
      "cell_type": "markdown",
      "source": [
        "##1.Setup Java 8 and NLU"
      ],
      "metadata": {
        "id": "HIxATMI7ixJx"
      }
    },
    {
      "cell_type": "code",
      "metadata": {
        "id": "SF5-Z-U4jukd",
        "colab": {
          "base_uri": "https://localhost:8080/"
        },
        "outputId": "49f6abad-3baa-4703-cd35-8147ad178f36"
      },
      "source": [
        "!wget https://raw.githubusercontent.com/JohnSnowLabs/nlu/master/scripts/colab_setup.sh -O - | bash\n",
        "\n",
        "import nlu"
      ],
      "execution_count": null,
      "outputs": [
        {
          "output_type": "stream",
          "name": "stdout",
          "text": [
            "--2022-05-19 22:58:41--  https://raw.githubusercontent.com/JohnSnowLabs/nlu/master/scripts/colab_setup.sh\n",
            "Resolving raw.githubusercontent.com (raw.githubusercontent.com)... 185.199.111.133, 185.199.108.133, 185.199.109.133, ...\n",
            "Connecting to raw.githubusercontent.com (raw.githubusercontent.com)|185.199.111.133|:443... connected.\n",
            "HTTP request sent, awaiting response... 200 OK\n",
            "Length: 1665 (1.6K) [text/plain]\n",
            "Saving to: ‘STDOUT’\n",
            "\n",
            "\r-                     0%[                    ]       0  --.-KB/s               Installing  NLU 3.4.4rc1 with  PySpark 3.0.3 and Spark NLP 3.4.3 for Google Colab ...\n",
            "\r-                   100%[===================>]   1.63K  --.-KB/s    in 0.001s  \n",
            "\n",
            "2022-05-19 22:58:41 (1.10 MB/s) - written to stdout [1665/1665]\n",
            "\n",
            "Get:1 http://security.ubuntu.com/ubuntu bionic-security InRelease [88.7 kB]\n",
            "Get:2 https://cloud.r-project.org/bin/linux/ubuntu bionic-cran40/ InRelease [3,626 B]\n",
            "Hit:3 https://developer.download.nvidia.com/compute/cuda/repos/ubuntu1804/x86_64  InRelease\n",
            "Hit:4 http://archive.ubuntu.com/ubuntu bionic InRelease\n",
            "Get:5 http://archive.ubuntu.com/ubuntu bionic-updates InRelease [88.7 kB]\n",
            "Get:6 http://archive.ubuntu.com/ubuntu bionic-backports InRelease [74.6 kB]\n",
            "Hit:7 http://ppa.launchpad.net/c2d4u.team/c2d4u4.0+/ubuntu bionic InRelease\n",
            "Ign:8 https://developer.download.nvidia.com/compute/machine-learning/repos/ubuntu1804/x86_64  InRelease\n",
            "Hit:9 https://developer.download.nvidia.com/compute/machine-learning/repos/ubuntu1804/x86_64  Release\n",
            "Hit:10 http://ppa.launchpad.net/cran/libgit2/ubuntu bionic InRelease\n",
            "Hit:11 http://ppa.launchpad.net/deadsnakes/ppa/ubuntu bionic InRelease\n",
            "Get:12 http://ppa.launchpad.net/graphics-drivers/ppa/ubuntu bionic InRelease [21.3 kB]\n",
            "Get:13 http://security.ubuntu.com/ubuntu bionic-security/main amd64 Packages [2,765 kB]\n",
            "Get:14 http://security.ubuntu.com/ubuntu bionic-security/multiverse amd64 Packages [22.8 kB]\n",
            "Get:15 http://security.ubuntu.com/ubuntu bionic-security/universe amd64 Packages [1,503 kB]\n",
            "Get:16 http://security.ubuntu.com/ubuntu bionic-security/restricted amd64 Packages [932 kB]\n",
            "Get:17 http://archive.ubuntu.com/ubuntu bionic-updates/universe amd64 Packages [2,277 kB]\n",
            "Get:18 http://archive.ubuntu.com/ubuntu bionic-updates/main amd64 Packages [3,199 kB]\n",
            "Get:19 http://archive.ubuntu.com/ubuntu bionic-updates/multiverse amd64 Packages [29.8 kB]\n",
            "Get:20 http://archive.ubuntu.com/ubuntu bionic-updates/restricted amd64 Packages [966 kB]\n",
            "Get:22 http://ppa.launchpad.net/graphics-drivers/ppa/ubuntu bionic/main amd64 Packages [44.3 kB]\n",
            "Fetched 12.0 MB in 3s (3,625 kB/s)\n",
            "Reading package lists... Done\n",
            "tar: spark-3.0.2-bin-hadoop2.7.tgz: Cannot open: No such file or directory\n",
            "tar: Error is not recoverable: exiting now\n",
            "\u001b[K     |████████████████████████████████| 209.1 MB 58 kB/s \n",
            "\u001b[K     |████████████████████████████████| 144 kB 20.7 MB/s \n",
            "\u001b[K     |████████████████████████████████| 517 kB 40.4 MB/s \n",
            "\u001b[K     |████████████████████████████████| 198 kB 44.9 MB/s \n",
            "\u001b[?25h  Building wheel for pyspark (setup.py) ... \u001b[?25l\u001b[?25hdone\n"
          ]
        }
      ]
    },
    {
      "cell_type": "markdown",
      "source": [
        "##2. Load the mdoel and make Sample Predictions "
      ],
      "metadata": {
        "id": "XiVdjjfzij2R"
      }
    },
    {
      "cell_type": "code",
      "source": [
        "pipeline = nlu.load('en.classify.distilbert_sequence.banking77')\n",
        "pipeline.predict(\"I am still waiting on my card?\",output_level='document')"
      ],
      "metadata": {
        "colab": {
          "base_uri": "https://localhost:8080/",
          "height": 135
        },
        "id": "zzWPoMYZsVj2",
        "outputId": "21cdcecc-48be-4142-a86d-15b406e5c91d"
      },
      "execution_count": null,
      "outputs": [
        {
          "output_type": "stream",
          "name": "stdout",
          "text": [
            "distilbert_sequence_classifier_banking77 download started this may take some time.\n",
            "Approximate size to download 235.1 MB\n",
            "[OK!]\n"
          ]
        },
        {
          "output_type": "execute_result",
          "data": {
            "text/plain": [
              "  classified_sequence classified_sequence_confidence  \\\n",
              "0        card_arrival                       0.989413   \n",
              "\n",
              "                         document  \n",
              "0  I am still waiting on my card?  "
            ],
            "text/html": [
              "\n",
              "  <div id=\"df-60c5924c-4464-4388-9af3-41f11fa78c34\">\n",
              "    <div class=\"colab-df-container\">\n",
              "      <div>\n",
              "<style scoped>\n",
              "    .dataframe tbody tr th:only-of-type {\n",
              "        vertical-align: middle;\n",
              "    }\n",
              "\n",
              "    .dataframe tbody tr th {\n",
              "        vertical-align: top;\n",
              "    }\n",
              "\n",
              "    .dataframe thead th {\n",
              "        text-align: right;\n",
              "    }\n",
              "</style>\n",
              "<table border=\"1\" class=\"dataframe\">\n",
              "  <thead>\n",
              "    <tr style=\"text-align: right;\">\n",
              "      <th></th>\n",
              "      <th>classified_sequence</th>\n",
              "      <th>classified_sequence_confidence</th>\n",
              "      <th>document</th>\n",
              "    </tr>\n",
              "  </thead>\n",
              "  <tbody>\n",
              "    <tr>\n",
              "      <th>0</th>\n",
              "      <td>card_arrival</td>\n",
              "      <td>0.989413</td>\n",
              "      <td>I am still waiting on my card?</td>\n",
              "    </tr>\n",
              "  </tbody>\n",
              "</table>\n",
              "</div>\n",
              "      <button class=\"colab-df-convert\" onclick=\"convertToInteractive('df-60c5924c-4464-4388-9af3-41f11fa78c34')\"\n",
              "              title=\"Convert this dataframe to an interactive table.\"\n",
              "              style=\"display:none;\">\n",
              "        \n",
              "  <svg xmlns=\"http://www.w3.org/2000/svg\" height=\"24px\"viewBox=\"0 0 24 24\"\n",
              "       width=\"24px\">\n",
              "    <path d=\"M0 0h24v24H0V0z\" fill=\"none\"/>\n",
              "    <path d=\"M18.56 5.44l.94 2.06.94-2.06 2.06-.94-2.06-.94-.94-2.06-.94 2.06-2.06.94zm-11 1L8.5 8.5l.94-2.06 2.06-.94-2.06-.94L8.5 2.5l-.94 2.06-2.06.94zm10 10l.94 2.06.94-2.06 2.06-.94-2.06-.94-.94-2.06-.94 2.06-2.06.94z\"/><path d=\"M17.41 7.96l-1.37-1.37c-.4-.4-.92-.59-1.43-.59-.52 0-1.04.2-1.43.59L10.3 9.45l-7.72 7.72c-.78.78-.78 2.05 0 2.83L4 21.41c.39.39.9.59 1.41.59.51 0 1.02-.2 1.41-.59l7.78-7.78 2.81-2.81c.8-.78.8-2.07 0-2.86zM5.41 20L4 18.59l7.72-7.72 1.47 1.35L5.41 20z\"/>\n",
              "  </svg>\n",
              "      </button>\n",
              "      \n",
              "  <style>\n",
              "    .colab-df-container {\n",
              "      display:flex;\n",
              "      flex-wrap:wrap;\n",
              "      gap: 12px;\n",
              "    }\n",
              "\n",
              "    .colab-df-convert {\n",
              "      background-color: #E8F0FE;\n",
              "      border: none;\n",
              "      border-radius: 50%;\n",
              "      cursor: pointer;\n",
              "      display: none;\n",
              "      fill: #1967D2;\n",
              "      height: 32px;\n",
              "      padding: 0 0 0 0;\n",
              "      width: 32px;\n",
              "    }\n",
              "\n",
              "    .colab-df-convert:hover {\n",
              "      background-color: #E2EBFA;\n",
              "      box-shadow: 0px 1px 2px rgba(60, 64, 67, 0.3), 0px 1px 3px 1px rgba(60, 64, 67, 0.15);\n",
              "      fill: #174EA6;\n",
              "    }\n",
              "\n",
              "    [theme=dark] .colab-df-convert {\n",
              "      background-color: #3B4455;\n",
              "      fill: #D2E3FC;\n",
              "    }\n",
              "\n",
              "    [theme=dark] .colab-df-convert:hover {\n",
              "      background-color: #434B5C;\n",
              "      box-shadow: 0px 1px 3px 1px rgba(0, 0, 0, 0.15);\n",
              "      filter: drop-shadow(0px 1px 2px rgba(0, 0, 0, 0.3));\n",
              "      fill: #FFFFFF;\n",
              "    }\n",
              "  </style>\n",
              "\n",
              "      <script>\n",
              "        const buttonEl =\n",
              "          document.querySelector('#df-60c5924c-4464-4388-9af3-41f11fa78c34 button.colab-df-convert');\n",
              "        buttonEl.style.display =\n",
              "          google.colab.kernel.accessAllowed ? 'block' : 'none';\n",
              "\n",
              "        async function convertToInteractive(key) {\n",
              "          const element = document.querySelector('#df-60c5924c-4464-4388-9af3-41f11fa78c34');\n",
              "          const dataTable =\n",
              "            await google.colab.kernel.invokeFunction('convertToInteractive',\n",
              "                                                     [key], {});\n",
              "          if (!dataTable) return;\n",
              "\n",
              "          const docLinkHtml = 'Like what you see? Visit the ' +\n",
              "            '<a target=\"_blank\" href=https://colab.research.google.com/notebooks/data_table.ipynb>data table notebook</a>'\n",
              "            + ' to learn more about interactive tables.';\n",
              "          element.innerHTML = '';\n",
              "          dataTable['output_type'] = 'display_data';\n",
              "          await google.colab.output.renderOutput(dataTable, element);\n",
              "          const docLink = document.createElement('div');\n",
              "          docLink.innerHTML = docLinkHtml;\n",
              "          element.appendChild(docLink);\n",
              "        }\n",
              "      </script>\n",
              "    </div>\n",
              "  </div>\n",
              "  "
            ]
          },
          "metadata": {},
          "execution_count": 5
        }
      ]
    },
    {
      "cell_type": "markdown",
      "source": [
        "##3.Define Sample Sentences"
      ],
      "metadata": {
        "id": "_XcMyXVXsdYW"
      }
    },
    {
      "cell_type": "code",
      "source": [
        "sample_sentences = [\n",
        "\"How many countries do you support?\",\n",
        "\"I am still waiting on my card?\t\",\n",
        "\"Can the card be mailed and used in Europe?\"\n",
        "]"
      ],
      "metadata": {
        "id": "c_ty0gP6sglE"
      },
      "execution_count": null,
      "outputs": []
    },
    {
      "cell_type": "markdown",
      "source": [
        "##4.Predict on Sample Sentences"
      ],
      "metadata": {
        "id": "qpD0_HqksiLw"
      }
    },
    {
      "cell_type": "code",
      "source": [
        "pipeline.predict(sample_sentences)"
      ],
      "metadata": {
        "colab": {
          "base_uri": "https://localhost:8080/",
          "height": 198
        },
        "id": "zynQvfNmWI50",
        "outputId": "af84e651-d7f2-4f13-dbcb-2ac6ac615880"
      },
      "execution_count": null,
      "outputs": [
        {
          "output_type": "stream",
          "name": "stdout",
          "text": [
            "sentence_detector_dl download started this may take some time.\n",
            "Approximate size to download 354.6 KB\n",
            "[OK!]\n"
          ]
        },
        {
          "output_type": "execute_result",
          "data": {
            "text/plain": [
              "  classified_sequence classified_sequence_confidence  \\\n",
              "0     country_support                       0.989771   \n",
              "1        card_arrival                       0.989413   \n",
              "2     country_support                       0.993269   \n",
              "\n",
              "                                     sentence  \n",
              "0          How many countries do you support?  \n",
              "1              I am still waiting on my card?  \n",
              "2  Can the card be mailed and used in Europe?  "
            ],
            "text/html": [
              "\n",
              "  <div id=\"df-255914e0-4a84-4e69-a00b-1a67fede709c\">\n",
              "    <div class=\"colab-df-container\">\n",
              "      <div>\n",
              "<style scoped>\n",
              "    .dataframe tbody tr th:only-of-type {\n",
              "        vertical-align: middle;\n",
              "    }\n",
              "\n",
              "    .dataframe tbody tr th {\n",
              "        vertical-align: top;\n",
              "    }\n",
              "\n",
              "    .dataframe thead th {\n",
              "        text-align: right;\n",
              "    }\n",
              "</style>\n",
              "<table border=\"1\" class=\"dataframe\">\n",
              "  <thead>\n",
              "    <tr style=\"text-align: right;\">\n",
              "      <th></th>\n",
              "      <th>classified_sequence</th>\n",
              "      <th>classified_sequence_confidence</th>\n",
              "      <th>sentence</th>\n",
              "    </tr>\n",
              "  </thead>\n",
              "  <tbody>\n",
              "    <tr>\n",
              "      <th>0</th>\n",
              "      <td>country_support</td>\n",
              "      <td>0.989771</td>\n",
              "      <td>How many countries do you support?</td>\n",
              "    </tr>\n",
              "    <tr>\n",
              "      <th>1</th>\n",
              "      <td>card_arrival</td>\n",
              "      <td>0.989413</td>\n",
              "      <td>I am still waiting on my card?</td>\n",
              "    </tr>\n",
              "    <tr>\n",
              "      <th>2</th>\n",
              "      <td>country_support</td>\n",
              "      <td>0.993269</td>\n",
              "      <td>Can the card be mailed and used in Europe?</td>\n",
              "    </tr>\n",
              "  </tbody>\n",
              "</table>\n",
              "</div>\n",
              "      <button class=\"colab-df-convert\" onclick=\"convertToInteractive('df-255914e0-4a84-4e69-a00b-1a67fede709c')\"\n",
              "              title=\"Convert this dataframe to an interactive table.\"\n",
              "              style=\"display:none;\">\n",
              "        \n",
              "  <svg xmlns=\"http://www.w3.org/2000/svg\" height=\"24px\"viewBox=\"0 0 24 24\"\n",
              "       width=\"24px\">\n",
              "    <path d=\"M0 0h24v24H0V0z\" fill=\"none\"/>\n",
              "    <path d=\"M18.56 5.44l.94 2.06.94-2.06 2.06-.94-2.06-.94-.94-2.06-.94 2.06-2.06.94zm-11 1L8.5 8.5l.94-2.06 2.06-.94-2.06-.94L8.5 2.5l-.94 2.06-2.06.94zm10 10l.94 2.06.94-2.06 2.06-.94-2.06-.94-.94-2.06-.94 2.06-2.06.94z\"/><path d=\"M17.41 7.96l-1.37-1.37c-.4-.4-.92-.59-1.43-.59-.52 0-1.04.2-1.43.59L10.3 9.45l-7.72 7.72c-.78.78-.78 2.05 0 2.83L4 21.41c.39.39.9.59 1.41.59.51 0 1.02-.2 1.41-.59l7.78-7.78 2.81-2.81c.8-.78.8-2.07 0-2.86zM5.41 20L4 18.59l7.72-7.72 1.47 1.35L5.41 20z\"/>\n",
              "  </svg>\n",
              "      </button>\n",
              "      \n",
              "  <style>\n",
              "    .colab-df-container {\n",
              "      display:flex;\n",
              "      flex-wrap:wrap;\n",
              "      gap: 12px;\n",
              "    }\n",
              "\n",
              "    .colab-df-convert {\n",
              "      background-color: #E8F0FE;\n",
              "      border: none;\n",
              "      border-radius: 50%;\n",
              "      cursor: pointer;\n",
              "      display: none;\n",
              "      fill: #1967D2;\n",
              "      height: 32px;\n",
              "      padding: 0 0 0 0;\n",
              "      width: 32px;\n",
              "    }\n",
              "\n",
              "    .colab-df-convert:hover {\n",
              "      background-color: #E2EBFA;\n",
              "      box-shadow: 0px 1px 2px rgba(60, 64, 67, 0.3), 0px 1px 3px 1px rgba(60, 64, 67, 0.15);\n",
              "      fill: #174EA6;\n",
              "    }\n",
              "\n",
              "    [theme=dark] .colab-df-convert {\n",
              "      background-color: #3B4455;\n",
              "      fill: #D2E3FC;\n",
              "    }\n",
              "\n",
              "    [theme=dark] .colab-df-convert:hover {\n",
              "      background-color: #434B5C;\n",
              "      box-shadow: 0px 1px 3px 1px rgba(0, 0, 0, 0.15);\n",
              "      filter: drop-shadow(0px 1px 2px rgba(0, 0, 0, 0.3));\n",
              "      fill: #FFFFFF;\n",
              "    }\n",
              "  </style>\n",
              "\n",
              "      <script>\n",
              "        const buttonEl =\n",
              "          document.querySelector('#df-255914e0-4a84-4e69-a00b-1a67fede709c button.colab-df-convert');\n",
              "        buttonEl.style.display =\n",
              "          google.colab.kernel.accessAllowed ? 'block' : 'none';\n",
              "\n",
              "        async function convertToInteractive(key) {\n",
              "          const element = document.querySelector('#df-255914e0-4a84-4e69-a00b-1a67fede709c');\n",
              "          const dataTable =\n",
              "            await google.colab.kernel.invokeFunction('convertToInteractive',\n",
              "                                                     [key], {});\n",
              "          if (!dataTable) return;\n",
              "\n",
              "          const docLinkHtml = 'Like what you see? Visit the ' +\n",
              "            '<a target=\"_blank\" href=https://colab.research.google.com/notebooks/data_table.ipynb>data table notebook</a>'\n",
              "            + ' to learn more about interactive tables.';\n",
              "          element.innerHTML = '';\n",
              "          dataTable['output_type'] = 'display_data';\n",
              "          await google.colab.output.renderOutput(dataTable, element);\n",
              "          const docLink = document.createElement('div');\n",
              "          docLink.innerHTML = docLinkHtml;\n",
              "          element.appendChild(docLink);\n",
              "        }\n",
              "      </script>\n",
              "    </div>\n",
              "  </div>\n",
              "  "
            ]
          },
          "metadata": {},
          "execution_count": 42
        }
      ]
    },
    {
      "cell_type": "markdown",
      "source": [
        "##5.Take a look at the parmaters of the pipeline"
      ],
      "metadata": {
        "id": "cEf6CWsxtDWJ"
      }
    },
    {
      "cell_type": "code",
      "source": [
        "pipeline.print_info()"
      ],
      "metadata": {
        "colab": {
          "base_uri": "https://localhost:8080/"
        },
        "id": "3TgLjxNltPCp",
        "outputId": "680a1da0-8514-42e8-b19e-131a89d7239d"
      },
      "execution_count": null,
      "outputs": [
        {
          "output_type": "stream",
          "name": "stdout",
          "text": [
            "The following parameters are configurable for this NLU pipeline (You can copy paste the examples) :\n",
            ">>> component_list['distil_bert_for_sequence_classification'] has settable params:\n",
            "component_list['distil_bert_for_sequence_classification'].setActivation('softmax')                         | Info: Whether to calcuate logits via Softmax or Sigmoid. Default is Softmax | Currently set to : softmax\n",
            "component_list['distil_bert_for_sequence_classification'].setBatchSize(8)                                  | Info: Size of every batch | Currently set to : 8\n",
            "component_list['distil_bert_for_sequence_classification'].setCoalesceSentences(False)                      | Info: Instead of 1 class per sentence (if inputCols is '''sentence''') output 1 class per document by averaging probabilities in all sentences. | Currently set to : False\n",
            "component_list['distil_bert_for_sequence_classification'].setMaxSentenceLength(512)                        | Info: Max sentence length to process | Currently set to : 512\n",
            "component_list['distil_bert_for_sequence_classification'].setCaseSensitive(True)                           | Info: whether to ignore case in tokens for embeddings matching | Currently set to : True\n",
            ">>> component_list['document_assembler'] has settable params:\n",
            "component_list['document_assembler'].setCleanupMode('shrink')                                              | Info: possible values: disabled, inplace, inplace_full, shrink, shrink_full, each, each_full, delete_full | Currently set to : shrink\n",
            ">>> component_list['tokenizer'] has settable params:\n",
            "component_list['tokenizer'].setTargetPattern('\\S+')                                                        | Info: pattern to grab from text as token candidates. Defaults \\S+ | Currently set to : \\S+\n",
            "component_list['tokenizer'].setContextChars(['.', ',', ';', ':', '!', '?', '*', '-', '(', ')', '\"', \"'\"])  | Info: character list used to separate from token boundaries | Currently set to : ['.', ',', ';', ':', '!', '?', '*', '-', '(', ')', '\"', \"'\"]\n",
            "component_list['tokenizer'].setCaseSensitiveExceptions(True)                                               | Info: Whether to care for case sensitiveness in exceptions | Currently set to : True\n",
            "component_list['tokenizer'].setMinLength(0)                                                                | Info: Set the minimum allowed legth for each token | Currently set to : 0\n",
            "component_list['tokenizer'].setMaxLength(99999)                                                            | Info: Set the maximum allowed legth for each token | Currently set to : 99999\n"
          ]
        }
      ]
    },
    {
      "cell_type": "markdown",
      "source": [
        "Looking Good! Let's test this model on a labelled dataset to see how it performs "
      ],
      "metadata": {
        "id": "1hF8dmLIkbSz"
      }
    },
    {
      "cell_type": "markdown",
      "source": [
        "##6.Download Data\n",
        "\n",
        "we are going to test the model on [this](https://huggingface.co/datasets/banking77) dataset \n",
        "\n",
        "Dataset composed of online banking queries annotated with their corresponding intents.\n",
        "\n",
        "BANKING77 dataset provides a very fine-grained set of intents in a banking domain. It comprises 13,083 customer service queries labeled with 77 intents. It focuses on fine-grained single-domain intent detection.\n"
      ],
      "metadata": {
        "id": "uRbusvKOkVac"
      }
    },
    {
      "cell_type": "code",
      "source": [
        "!wget http://ckl-it.de/wp-content/uploads/2022/04/Bank_Data.csv"
      ],
      "metadata": {
        "colab": {
          "base_uri": "https://localhost:8080/"
        },
        "id": "KvD0rZTBrnrL",
        "outputId": "1d1c68c3-e647-4c49-90ed-860de0453e59"
      },
      "execution_count": null,
      "outputs": [
        {
          "output_type": "stream",
          "name": "stdout",
          "text": [
            "--2022-05-19 22:48:40--  http://ckl-it.de/wp-content/uploads/2022/04/Bank_Data.csv\n",
            "Resolving ckl-it.de (ckl-it.de)... 217.160.0.108, 2001:8d8:100f:f000::209\n",
            "Connecting to ckl-it.de (ckl-it.de)|217.160.0.108|:80... connected.\n",
            "HTTP request sent, awaiting response... 200 OK\n",
            "Length: 1065932 (1.0M) [text/csv]\n",
            "Saving to: ‘Bank_Data.csv’\n",
            "\n",
            "Bank_Data.csv       100%[===================>]   1.02M  1.08MB/s    in 0.9s    \n",
            "\n",
            "2022-05-19 22:48:41 (1.08 MB/s) - ‘Bank_Data.csv’ saved [1065932/1065932]\n",
            "\n"
          ]
        }
      ]
    },
    {
      "cell_type": "code",
      "source": [
        "import pandas  as pd \n",
        "df = pd.read_csv(\"Bank_Data.csv\")\n",
        "df"
      ],
      "metadata": {
        "colab": {
          "base_uri": "https://localhost:8080/",
          "height": 424
        },
        "id": "n-6bOT4krpr8",
        "outputId": "9ce81e48-ba0f-4551-c8d8-2612b478db80"
      },
      "execution_count": null,
      "outputs": [
        {
          "output_type": "execute_result",
          "data": {
            "text/plain": [
              "                                                    text            label\n",
              "0                         I am still waiting on my card?     card_arrival\n",
              "1      What can I do if my card still hasn't arrived ...     card_arrival\n",
              "2      I have been waiting over a week. Is the card s...     card_arrival\n",
              "3      Can I track my card while it is in the process...     card_arrival\n",
              "4      How do I know if I will get my card, or if it ...     card_arrival\n",
              "...                                                  ...              ...\n",
              "13078      If i'm not in the UK, can I still get a card?  country_support\n",
              "13079                 How many countries do you support?  country_support\n",
              "13080              What countries do you do business in?  country_support\n",
              "13081             What are the countries you operate in.  country_support\n",
              "13082         Can the card be mailed and used in Europe?  country_support\n",
              "\n",
              "[13083 rows x 2 columns]"
            ],
            "text/html": [
              "\n",
              "  <div id=\"df-21861c2b-5e84-4926-9a4e-a2b13f80c882\">\n",
              "    <div class=\"colab-df-container\">\n",
              "      <div>\n",
              "<style scoped>\n",
              "    .dataframe tbody tr th:only-of-type {\n",
              "        vertical-align: middle;\n",
              "    }\n",
              "\n",
              "    .dataframe tbody tr th {\n",
              "        vertical-align: top;\n",
              "    }\n",
              "\n",
              "    .dataframe thead th {\n",
              "        text-align: right;\n",
              "    }\n",
              "</style>\n",
              "<table border=\"1\" class=\"dataframe\">\n",
              "  <thead>\n",
              "    <tr style=\"text-align: right;\">\n",
              "      <th></th>\n",
              "      <th>text</th>\n",
              "      <th>label</th>\n",
              "    </tr>\n",
              "  </thead>\n",
              "  <tbody>\n",
              "    <tr>\n",
              "      <th>0</th>\n",
              "      <td>I am still waiting on my card?</td>\n",
              "      <td>card_arrival</td>\n",
              "    </tr>\n",
              "    <tr>\n",
              "      <th>1</th>\n",
              "      <td>What can I do if my card still hasn't arrived ...</td>\n",
              "      <td>card_arrival</td>\n",
              "    </tr>\n",
              "    <tr>\n",
              "      <th>2</th>\n",
              "      <td>I have been waiting over a week. Is the card s...</td>\n",
              "      <td>card_arrival</td>\n",
              "    </tr>\n",
              "    <tr>\n",
              "      <th>3</th>\n",
              "      <td>Can I track my card while it is in the process...</td>\n",
              "      <td>card_arrival</td>\n",
              "    </tr>\n",
              "    <tr>\n",
              "      <th>4</th>\n",
              "      <td>How do I know if I will get my card, or if it ...</td>\n",
              "      <td>card_arrival</td>\n",
              "    </tr>\n",
              "    <tr>\n",
              "      <th>...</th>\n",
              "      <td>...</td>\n",
              "      <td>...</td>\n",
              "    </tr>\n",
              "    <tr>\n",
              "      <th>13078</th>\n",
              "      <td>If i'm not in the UK, can I still get a card?</td>\n",
              "      <td>country_support</td>\n",
              "    </tr>\n",
              "    <tr>\n",
              "      <th>13079</th>\n",
              "      <td>How many countries do you support?</td>\n",
              "      <td>country_support</td>\n",
              "    </tr>\n",
              "    <tr>\n",
              "      <th>13080</th>\n",
              "      <td>What countries do you do business in?</td>\n",
              "      <td>country_support</td>\n",
              "    </tr>\n",
              "    <tr>\n",
              "      <th>13081</th>\n",
              "      <td>What are the countries you operate in.</td>\n",
              "      <td>country_support</td>\n",
              "    </tr>\n",
              "    <tr>\n",
              "      <th>13082</th>\n",
              "      <td>Can the card be mailed and used in Europe?</td>\n",
              "      <td>country_support</td>\n",
              "    </tr>\n",
              "  </tbody>\n",
              "</table>\n",
              "<p>13083 rows × 2 columns</p>\n",
              "</div>\n",
              "      <button class=\"colab-df-convert\" onclick=\"convertToInteractive('df-21861c2b-5e84-4926-9a4e-a2b13f80c882')\"\n",
              "              title=\"Convert this dataframe to an interactive table.\"\n",
              "              style=\"display:none;\">\n",
              "        \n",
              "  <svg xmlns=\"http://www.w3.org/2000/svg\" height=\"24px\"viewBox=\"0 0 24 24\"\n",
              "       width=\"24px\">\n",
              "    <path d=\"M0 0h24v24H0V0z\" fill=\"none\"/>\n",
              "    <path d=\"M18.56 5.44l.94 2.06.94-2.06 2.06-.94-2.06-.94-.94-2.06-.94 2.06-2.06.94zm-11 1L8.5 8.5l.94-2.06 2.06-.94-2.06-.94L8.5 2.5l-.94 2.06-2.06.94zm10 10l.94 2.06.94-2.06 2.06-.94-2.06-.94-.94-2.06-.94 2.06-2.06.94z\"/><path d=\"M17.41 7.96l-1.37-1.37c-.4-.4-.92-.59-1.43-.59-.52 0-1.04.2-1.43.59L10.3 9.45l-7.72 7.72c-.78.78-.78 2.05 0 2.83L4 21.41c.39.39.9.59 1.41.59.51 0 1.02-.2 1.41-.59l7.78-7.78 2.81-2.81c.8-.78.8-2.07 0-2.86zM5.41 20L4 18.59l7.72-7.72 1.47 1.35L5.41 20z\"/>\n",
              "  </svg>\n",
              "      </button>\n",
              "      \n",
              "  <style>\n",
              "    .colab-df-container {\n",
              "      display:flex;\n",
              "      flex-wrap:wrap;\n",
              "      gap: 12px;\n",
              "    }\n",
              "\n",
              "    .colab-df-convert {\n",
              "      background-color: #E8F0FE;\n",
              "      border: none;\n",
              "      border-radius: 50%;\n",
              "      cursor: pointer;\n",
              "      display: none;\n",
              "      fill: #1967D2;\n",
              "      height: 32px;\n",
              "      padding: 0 0 0 0;\n",
              "      width: 32px;\n",
              "    }\n",
              "\n",
              "    .colab-df-convert:hover {\n",
              "      background-color: #E2EBFA;\n",
              "      box-shadow: 0px 1px 2px rgba(60, 64, 67, 0.3), 0px 1px 3px 1px rgba(60, 64, 67, 0.15);\n",
              "      fill: #174EA6;\n",
              "    }\n",
              "\n",
              "    [theme=dark] .colab-df-convert {\n",
              "      background-color: #3B4455;\n",
              "      fill: #D2E3FC;\n",
              "    }\n",
              "\n",
              "    [theme=dark] .colab-df-convert:hover {\n",
              "      background-color: #434B5C;\n",
              "      box-shadow: 0px 1px 3px 1px rgba(0, 0, 0, 0.15);\n",
              "      filter: drop-shadow(0px 1px 2px rgba(0, 0, 0, 0.3));\n",
              "      fill: #FFFFFF;\n",
              "    }\n",
              "  </style>\n",
              "\n",
              "      <script>\n",
              "        const buttonEl =\n",
              "          document.querySelector('#df-21861c2b-5e84-4926-9a4e-a2b13f80c882 button.colab-df-convert');\n",
              "        buttonEl.style.display =\n",
              "          google.colab.kernel.accessAllowed ? 'block' : 'none';\n",
              "\n",
              "        async function convertToInteractive(key) {\n",
              "          const element = document.querySelector('#df-21861c2b-5e84-4926-9a4e-a2b13f80c882');\n",
              "          const dataTable =\n",
              "            await google.colab.kernel.invokeFunction('convertToInteractive',\n",
              "                                                     [key], {});\n",
              "          if (!dataTable) return;\n",
              "\n",
              "          const docLinkHtml = 'Like what you see? Visit the ' +\n",
              "            '<a target=\"_blank\" href=https://colab.research.google.com/notebooks/data_table.ipynb>data table notebook</a>'\n",
              "            + ' to learn more about interactive tables.';\n",
              "          element.innerHTML = '';\n",
              "          dataTable['output_type'] = 'display_data';\n",
              "          await google.colab.output.renderOutput(dataTable, element);\n",
              "          const docLink = document.createElement('div');\n",
              "          docLink.innerHTML = docLinkHtml;\n",
              "          element.appendChild(docLink);\n",
              "        }\n",
              "      </script>\n",
              "    </div>\n",
              "  </div>\n",
              "  "
            ]
          },
          "metadata": {},
          "execution_count": 2
        }
      ]
    },
    {
      "cell_type": "markdown",
      "source": [
        "Let's take  a Peek at the distribution of the labels "
      ],
      "metadata": {
        "id": "mUl3_RmhuSHW"
      }
    },
    {
      "cell_type": "code",
      "source": [
        "df.label.value_counts().plot.barh(title='Distribution of Labels', figsize=(20,14))"
      ],
      "metadata": {
        "colab": {
          "base_uri": "https://localhost:8080/",
          "height": 529
        },
        "id": "7b9cKEyMtbWL",
        "outputId": "47cc7b4a-c143-4061-eaa1-1ea26162cdcf"
      },
      "execution_count": null,
      "outputs": [
        {
          "output_type": "execute_result",
          "data": {
            "text/plain": [
              "<matplotlib.axes._subplots.AxesSubplot at 0x7fba2ecb9f90>"
            ]
          },
          "metadata": {},
          "execution_count": 3
        },
        {
          "output_type": "display_data",
          "data": {
            "text/plain": [
              "<Figure size 1440x1008 with 1 Axes>"
            ],
            "image/png": "[encoded data removed]"
          },
          "metadata": {
            "needs_background": "light"
          }
        }
      ]
    },
    {
      "cell_type": "markdown",
      "source": [
        "##7.Make Predictions with the model"
      ],
      "metadata": {
        "id": "KHxOy5o9uyTG"
      }
    },
    {
      "cell_type": "code",
      "source": [
        "predctions = pipeline.predict(df,output_level = 'document')"
      ],
      "metadata": {
        "id": "QpmPv2q5uVyd"
      },
      "execution_count": null,
      "outputs": []
    },
    {
      "cell_type": "code",
      "source": [
        "predctions"
      ],
      "metadata": {
        "colab": {
          "base_uri": "https://localhost:8080/",
          "height": 424
        },
        "id": "j4JpnxjzMOsV",
        "outputId": "cc5ea183-2e18-4c5b-dfc7-8a59d1b00335"
      },
      "execution_count": null,
      "outputs": [
        {
          "output_type": "execute_result",
          "data": {
            "text/plain": [
              "      classified_sequence classified_sequence_confidence  \\\n",
              "0            card_arrival                       0.989413   \n",
              "1            card_arrival                       0.989708   \n",
              "2            card_arrival                       0.984588   \n",
              "3            card_arrival                       0.980207   \n",
              "4            card_arrival                       0.947395   \n",
              "...                   ...                            ...   \n",
              "13078     country_support                        0.99499   \n",
              "13079     country_support                       0.989771   \n",
              "13080     country_support                       0.994252   \n",
              "13081     country_support                       0.994301   \n",
              "13082     country_support                       0.993269   \n",
              "\n",
              "                                                document            label  \\\n",
              "0                         I am still waiting on my card?     card_arrival   \n",
              "1      What can I do if my card still hasn't arrived ...     card_arrival   \n",
              "2      I have been waiting over a week. Is the card s...     card_arrival   \n",
              "3      Can I track my card while it is in the process...     card_arrival   \n",
              "4      How do I know if I will get my card, or if it ...     card_arrival   \n",
              "...                                                  ...              ...   \n",
              "13078      If i'm not in the UK, can I still get a card?  country_support   \n",
              "13079                 How many countries do you support?  country_support   \n",
              "13080              What countries do you do business in?  country_support   \n",
              "13081             What are the countries you operate in.  country_support   \n",
              "13082         Can the card be mailed and used in Europe?  country_support   \n",
              "\n",
              "                                                    text  \n",
              "0                         I am still waiting on my card?  \n",
              "1      What can I do if my card still hasn't arrived ...  \n",
              "2      I have been waiting over a week. Is the card s...  \n",
              "3      Can I track my card while it is in the process...  \n",
              "4      How do I know if I will get my card, or if it ...  \n",
              "...                                                  ...  \n",
              "13078      If i'm not in the UK, can I still get a card?  \n",
              "13079                 How many countries do you support?  \n",
              "13080              What countries do you do business in?  \n",
              "13081             What are the countries you operate in.  \n",
              "13082         Can the card be mailed and used in Europe?  \n",
              "\n",
              "[13083 rows x 5 columns]"
            ],
            "text/html": [
              "\n",
              "  <div id=\"df-988b3ecb-1ac0-4e0a-aea1-8c102fbb39a8\">\n",
              "    <div class=\"colab-df-container\">\n",
              "      <div>\n",
              "<style scoped>\n",
              "    .dataframe tbody tr th:only-of-type {\n",
              "        vertical-align: middle;\n",
              "    }\n",
              "\n",
              "    .dataframe tbody tr th {\n",
              "        vertical-align: top;\n",
              "    }\n",
              "\n",
              "    .dataframe thead th {\n",
              "        text-align: right;\n",
              "    }\n",
              "</style>\n",
              "<table border=\"1\" class=\"dataframe\">\n",
              "  <thead>\n",
              "    <tr style=\"text-align: right;\">\n",
              "      <th></th>\n",
              "      <th>classified_sequence</th>\n",
              "      <th>classified_sequence_confidence</th>\n",
              "      <th>document</th>\n",
              "      <th>label</th>\n",
              "      <th>text</th>\n",
              "    </tr>\n",
              "  </thead>\n",
              "  <tbody>\n",
              "    <tr>\n",
              "      <th>0</th>\n",
              "      <td>card_arrival</td>\n",
              "      <td>0.989413</td>\n",
              "      <td>I am still waiting on my card?</td>\n",
              "      <td>card_arrival</td>\n",
              "      <td>I am still waiting on my card?</td>\n",
              "    </tr>\n",
              "    <tr>\n",
              "      <th>1</th>\n",
              "      <td>card_arrival</td>\n",
              "      <td>0.989708</td>\n",
              "      <td>What can I do if my card still hasn't arrived ...</td>\n",
              "      <td>card_arrival</td>\n",
              "      <td>What can I do if my card still hasn't arrived ...</td>\n",
              "    </tr>\n",
              "    <tr>\n",
              "      <th>2</th>\n",
              "      <td>card_arrival</td>\n",
              "      <td>0.984588</td>\n",
              "      <td>I have been waiting over a week. Is the card s...</td>\n",
              "      <td>card_arrival</td>\n",
              "      <td>I have been waiting over a week. Is the card s...</td>\n",
              "    </tr>\n",
              "    <tr>\n",
              "      <th>3</th>\n",
              "      <td>card_arrival</td>\n",
              "      <td>0.980207</td>\n",
              "      <td>Can I track my card while it is in the process...</td>\n",
              "      <td>card_arrival</td>\n",
              "      <td>Can I track my card while it is in the process...</td>\n",
              "    </tr>\n",
              "    <tr>\n",
              "      <th>4</th>\n",
              "      <td>card_arrival</td>\n",
              "      <td>0.947395</td>\n",
              "      <td>How do I know if I will get my card, or if it ...</td>\n",
              "      <td>card_arrival</td>\n",
              "      <td>How do I know if I will get my card, or if it ...</td>\n",
              "    </tr>\n",
              "    <tr>\n",
              "      <th>...</th>\n",
              "      <td>...</td>\n",
              "      <td>...</td>\n",
              "      <td>...</td>\n",
              "      <td>...</td>\n",
              "      <td>...</td>\n",
              "    </tr>\n",
              "    <tr>\n",
              "      <th>13078</th>\n",
              "      <td>country_support</td>\n",
              "      <td>0.99499</td>\n",
              "      <td>If i'm not in the UK, can I still get a card?</td>\n",
              "      <td>country_support</td>\n",
              "      <td>If i'm not in the UK, can I still get a card?</td>\n",
              "    </tr>\n",
              "    <tr>\n",
              "      <th>13079</th>\n",
              "      <td>country_support</td>\n",
              "      <td>0.989771</td>\n",
              "      <td>How many countries do you support?</td>\n",
              "      <td>country_support</td>\n",
              "      <td>How many countries do you support?</td>\n",
              "    </tr>\n",
              "    <tr>\n",
              "      <th>13080</th>\n",
              "      <td>country_support</td>\n",
              "      <td>0.994252</td>\n",
              "      <td>What countries do you do business in?</td>\n",
              "      <td>country_support</td>\n",
              "      <td>What countries do you do business in?</td>\n",
              "    </tr>\n",
              "    <tr>\n",
              "      <th>13081</th>\n",
              "      <td>country_support</td>\n",
              "      <td>0.994301</td>\n",
              "      <td>What are the countries you operate in.</td>\n",
              "      <td>country_support</td>\n",
              "      <td>What are the countries you operate in.</td>\n",
              "    </tr>\n",
              "    <tr>\n",
              "      <th>13082</th>\n",
              "      <td>country_support</td>\n",
              "      <td>0.993269</td>\n",
              "      <td>Can the card be mailed and used in Europe?</td>\n",
              "      <td>country_support</td>\n",
              "      <td>Can the card be mailed and used in Europe?</td>\n",
              "    </tr>\n",
              "  </tbody>\n",
              "</table>\n",
              "<p>13083 rows × 5 columns</p>\n",
              "</div>\n",
              "      <button class=\"colab-df-convert\" onclick=\"convertToInteractive('df-988b3ecb-1ac0-4e0a-aea1-8c102fbb39a8')\"\n",
              "              title=\"Convert this dataframe to an interactive table.\"\n",
              "              style=\"display:none;\">\n",
              "        \n",
              "  <svg xmlns=\"http://www.w3.org/2000/svg\" height=\"24px\"viewBox=\"0 0 24 24\"\n",
              "       width=\"24px\">\n",
              "    <path d=\"M0 0h24v24H0V0z\" fill=\"none\"/>\n",
              "    <path d=\"M18.56 5.44l.94 2.06.94-2.06 2.06-.94-2.06-.94-.94-2.06-.94 2.06-2.06.94zm-11 1L8.5 8.5l.94-2.06 2.06-.94-2.06-.94L8.5 2.5l-.94 2.06-2.06.94zm10 10l.94 2.06.94-2.06 2.06-.94-2.06-.94-.94-2.06-.94 2.06-2.06.94z\"/><path d=\"M17.41 7.96l-1.37-1.37c-.4-.4-.92-.59-1.43-.59-.52 0-1.04.2-1.43.59L10.3 9.45l-7.72 7.72c-.78.78-.78 2.05 0 2.83L4 21.41c.39.39.9.59 1.41.59.51 0 1.02-.2 1.41-.59l7.78-7.78 2.81-2.81c.8-.78.8-2.07 0-2.86zM5.41 20L4 18.59l7.72-7.72 1.47 1.35L5.41 20z\"/>\n",
              "  </svg>\n",
              "      </button>\n",
              "      \n",
              "  <style>\n",
              "    .colab-df-container {\n",
              "      display:flex;\n",
              "      flex-wrap:wrap;\n",
              "      gap: 12px;\n",
              "    }\n",
              "\n",
              "    .colab-df-convert {\n",
              "      background-color: #E8F0FE;\n",
              "      border: none;\n",
              "      border-radius: 50%;\n",
              "      cursor: pointer;\n",
              "      display: none;\n",
              "      fill: #1967D2;\n",
              "      height: 32px;\n",
              "      padding: 0 0 0 0;\n",
              "      width: 32px;\n",
              "    }\n",
              "\n",
              "    .colab-df-convert:hover {\n",
              "      background-color: #E2EBFA;\n",
              "      box-shadow: 0px 1px 2px rgba(60, 64, 67, 0.3), 0px 1px 3px 1px rgba(60, 64, 67, 0.15);\n",
              "      fill: #174EA6;\n",
              "    }\n",
              "\n",
              "    [theme=dark] .colab-df-convert {\n",
              "      background-color: #3B4455;\n",
              "      fill: #D2E3FC;\n",
              "    }\n",
              "\n",
              "    [theme=dark] .colab-df-convert:hover {\n",
              "      background-color: #434B5C;\n",
              "      box-shadow: 0px 1px 3px 1px rgba(0, 0, 0, 0.15);\n",
              "      filter: drop-shadow(0px 1px 2px rgba(0, 0, 0, 0.3));\n",
              "      fill: #FFFFFF;\n",
              "    }\n",
              "  </style>\n",
              "\n",
              "      <script>\n",
              "        const buttonEl =\n",
              "          document.querySelector('#df-988b3ecb-1ac0-4e0a-aea1-8c102fbb39a8 button.colab-df-convert');\n",
              "        buttonEl.style.display =\n",
              "          google.colab.kernel.accessAllowed ? 'block' : 'none';\n",
              "\n",
              "        async function convertToInteractive(key) {\n",
              "          const element = document.querySelector('#df-988b3ecb-1ac0-4e0a-aea1-8c102fbb39a8');\n",
              "          const dataTable =\n",
              "            await google.colab.kernel.invokeFunction('convertToInteractive',\n",
              "                                                     [key], {});\n",
              "          if (!dataTable) return;\n",
              "\n",
              "          const docLinkHtml = 'Like what you see? Visit the ' +\n",
              "            '<a target=\"_blank\" href=https://colab.research.google.com/notebooks/data_table.ipynb>data table notebook</a>'\n",
              "            + ' to learn more about interactive tables.';\n",
              "          element.innerHTML = '';\n",
              "          dataTable['output_type'] = 'display_data';\n",
              "          await google.colab.output.renderOutput(dataTable, element);\n",
              "          const docLink = document.createElement('div');\n",
              "          docLink.innerHTML = docLinkHtml;\n",
              "          element.appendChild(docLink);\n",
              "        }\n",
              "      </script>\n",
              "    </div>\n",
              "  </div>\n",
              "  "
            ]
          },
          "metadata": {},
          "execution_count": 38
        }
      ]
    },
    {
      "cell_type": "markdown",
      "source": [
        "##8.Evaluate Predictions "
      ],
      "metadata": {
        "id": "y03ZPigmGPYL"
      }
    },
    {
      "cell_type": "code",
      "source": [
        "from sklearn.metrics import classification_report\n",
        "print(classification_report(predctions['label'], predctions['classified_sequence']) )"
      ],
      "metadata": {
        "colab": {
          "base_uri": "https://localhost:8080/"
        },
        "id": "yfJtQLGDu8nN",
        "outputId": "0a90f9c9-682f-4566-a40f-b7bf972495a3"
      },
      "execution_count": null,
      "outputs": [
        {
          "output_type": "stream",
          "name": "stdout",
          "text": [
            "                                                  precision    recall  f1-score   support\n",
            "\n",
            "                           Refund_not_showing_up       1.00      1.00      1.00       202\n",
            "                                activate_my_card       1.00      0.99      1.00       199\n",
            "                                       age_limit       1.00      1.00      1.00       150\n",
            "                         apple_pay_or_google_pay       0.99      1.00      1.00       166\n",
            "                                     atm_support       0.95      1.00      0.97       127\n",
            "                                automatic_top_up       1.00      0.98      0.99       167\n",
            "         balance_not_updated_after_bank_transfer       0.95      0.96      0.96       211\n",
            "balance_not_updated_after_cheque_or_cash_deposit       1.00      0.99      0.99       221\n",
            "                         beneficiary_not_allowed       0.97      0.98      0.97       196\n",
            "                                 cancel_transfer       0.98      0.99      0.99       197\n",
            "                            card_about_to_expire       0.99      1.00      0.99       169\n",
            "                                 card_acceptance       0.91      0.97      0.94        99\n",
            "                                    card_arrival       0.99      0.94      0.97       193\n",
            "                          card_delivery_estimate       0.94      0.99      0.96       152\n",
            "                                    card_linking       1.00      0.99      0.99       179\n",
            "                                card_not_working       0.96      0.93      0.95       152\n",
            "                        card_payment_fee_charged       0.98      0.99      0.99       227\n",
            "                     card_payment_not_recognised       0.98      0.96      0.97       208\n",
            "                card_payment_wrong_exchange_rate       0.98      0.98      0.98       207\n",
            "                                  card_swallowed       1.00      0.97      0.98       101\n",
            "                          cash_withdrawal_charge       0.98      1.00      0.99       217\n",
            "                  cash_withdrawal_not_recognised       0.97      0.99      0.98       200\n",
            "                                      change_pin       0.99      0.98      0.98       162\n",
            "                                compromised_card       0.98      0.94      0.96       126\n",
            "                         contactless_not_working       1.00      0.96      0.98        75\n",
            "                                 country_support       0.98      1.00      0.99       169\n",
            "                           declined_card_payment       0.95      0.99      0.97       193\n",
            "                        declined_cash_withdrawal       0.95      0.97      0.96       213\n",
            "                               declined_transfer       0.98      0.92      0.95       173\n",
            "             direct_debit_payment_not_recognised       0.95      0.98      0.96       222\n",
            "                          disposable_card_limits       0.99      0.98      0.98       161\n",
            "                           edit_personal_details       1.00      1.00      1.00       161\n",
            "                                 exchange_charge       0.99      0.98      0.98       161\n",
            "                                   exchange_rate       0.97      0.99      0.98       152\n",
            "                                exchange_via_app       0.96      0.99      0.97       158\n",
            "                       extra_charge_on_statement       1.00      0.99      0.99       206\n",
            "                                 failed_transfer       0.97      0.94      0.96       177\n",
            "                           fiat_currency_support       0.99      0.96      0.97       166\n",
            "                     get_disposable_virtual_card       0.96      0.98      0.97       137\n",
            "                               get_physical_card       0.99      0.99      0.99       146\n",
            "                              getting_spare_card       0.99      0.99      0.99       169\n",
            "                            getting_virtual_card       0.98      0.99      0.99       138\n",
            "                             lost_or_stolen_card       0.94      0.98      0.96       122\n",
            "                            lost_or_stolen_phone       1.00      0.99      0.99       161\n",
            "                             order_physical_card       0.98      0.98      0.98       160\n",
            "                              passcode_forgotten       0.99      0.97      0.98       145\n",
            "                            pending_card_payment       0.98      0.98      0.98       199\n",
            "                         pending_cash_withdrawal       1.00      0.98      0.99       183\n",
            "                                  pending_top_up       0.97      0.97      0.97       189\n",
            "                                pending_transfer       0.98      0.94      0.96       188\n",
            "                                     pin_blocked       0.98      0.97      0.98       155\n",
            "                                 receiving_money       0.99      0.98      0.98       135\n",
            "                                  request_refund       1.00      0.99      1.00       209\n",
            "                          reverted_card_payment?       0.95      0.98      0.97       201\n",
            "                  supported_cards_and_currencies       0.95      1.00      0.98       169\n",
            "                               terminate_account       0.98      1.00      0.99       148\n",
            "                  top_up_by_bank_transfer_charge       0.99      0.97      0.98       151\n",
            "                           top_up_by_card_charge       0.99      0.97      0.98       154\n",
            "                        top_up_by_cash_or_cheque       0.98      0.99      0.98       154\n",
            "                                   top_up_failed       0.97      0.93      0.95       185\n",
            "                                   top_up_limits       0.96      0.99      0.97       137\n",
            "                                 top_up_reverted       0.95      0.94      0.94       186\n",
            "                              topping_up_by_card       0.94      0.94      0.94       143\n",
            "                       transaction_charged_twice       0.99      1.00      0.99       215\n",
            "                            transfer_fee_charged       0.99      1.00      0.99       212\n",
            "                           transfer_into_account       0.97      0.95      0.96       153\n",
            "              transfer_not_received_by_recipient       0.97      0.98      0.97       211\n",
            "                                 transfer_timing       0.94      0.98      0.96       168\n",
            "                       unable_to_verify_identity       0.97      0.93      0.95       142\n",
            "                              verify_my_identity       0.90      0.97      0.93       144\n",
            "                          verify_source_of_funds       1.00      1.00      1.00       153\n",
            "                                   verify_top_up       0.99      0.99      0.99       166\n",
            "                        virtual_card_not_working       1.00      0.90      0.95        81\n",
            "                              visa_or_mastercard       1.00      0.98      0.99       175\n",
            "                             why_verify_identity       0.94      0.93      0.93       161\n",
            "                   wrong_amount_of_cash_received       1.00      0.98      0.99       220\n",
            "         wrong_exchange_rate_for_cash_withdrawal       0.99      0.98      0.99       203\n",
            "\n",
            "                                        accuracy                           0.98     13083\n",
            "                                       macro avg       0.98      0.98      0.98     13083\n",
            "                                    weighted avg       0.98      0.98      0.98     13083\n",
            "\n"
          ]
        }
      ]
    },
    {
      "cell_type": "markdown",
      "metadata": {
        "id": "VXu21c0iQRSC"
      },
      "source": [
        "# There are many more models you can put to use in 1 line of code!\n",
        "## Checkout [the Modelshub](https://nlp.johnsnowlabs.com/models) and the [NLU Namespace](https://nlu.johnsnowlabs.com/docs/en/spellbook) for more models\n",
        "\n",
        "### NLU Webinars and Video Tutorials\n",
        "- [NLU & Streamlit Tutorial](https://vimeo.com/579508034#)\n",
        "- [Crash course of the 50 + Medical Domains and the 200+ Healtchare models in NLU](https://www.youtube.com/watch?v=gGDsZXt1SF8)\n",
        "- [Multi Lingual NLU Webinar - Tutorial on Chinese News dataset](https://www.youtube.com/watch?v=ftAOqJuxnV4)\n",
        "- [John Snow Labs NLU: Become a Data Science Superhero with One Line of Python code](https://events.johnsnowlabs.com/john-snow-labs-nlu-become-a-data-science-superhero-with-one-line-of-python-code?hsCtaTracking=c659363c-2188-4c86-945f-5cfb7b42fcfc%7C8b2b188b-92a3-48ba-ad7e-073b384425b0)\n",
        "- [Python Web Def Conf - Python's NLU library: 1,000+ Models, 200+ Languages, State of the Art Accuracy, 1 Line of Code](https://2021.pythonwebconf.com/presentations/john-snow-labs-nlu-the-simplicity-of-python-the-power-of-spark-nlp)\n",
        "- [NYC/DC NLP Meetup with NLU](https://youtu.be/hJR9m3NYnwk?t=2155)\n",
        "\n",
        "### More ressources \n",
        "- [Join our Slack](https://join.slack.com/t/spark-nlp/shared_invite/zt-lutct9gm-kuUazcyFKhuGY3_0AMkxqA)\n",
        "- [NLU Website](https://nlu.johnsnowlabs.com/)\n",
        "- [NLU Github](https://github.com/JohnSnowLabs/nlu)\n",
        "- [Many more NLU example tutorials](https://github.com/JohnSnowLabs/nlu/tree/master/examples)\n",
        "- [Overview of every powerful nlu 1-liner](https://nlu.johnsnowlabs.com/docs/en/examples)\n",
        "- [Checkout the Modelshub for an overview of all models](https://nlp.johnsnowlabs.com/models) \n",
        "- [Checkout the NLU Namespace where you can find every model as a tabel](https://nlu.johnsnowlabs.com/docs/en/spellbook)\n",
        "- [Intro to NLU article](https://medium.com/spark-nlp/1-line-of-code-350-nlp-models-with-john-snow-labs-nlu-in-python-2f1c55bba619)\n",
        "- [Indepth and easy Sentence Similarity Tutorial, with StackOverflow Questions using BERTology embeddings](https://medium.com/spark-nlp/easy-sentence-similarity-with-bert-sentence-embeddings-using-john-snow-labs-nlu-ea078deb6ebf)\n",
        "- [1 line of Python code for BERT, ALBERT, ELMO, ELECTRA, XLNET, GLOVE, Part of Speech with NLU and t-SNE](https://medium.com/spark-nlp/1-line-of-code-for-bert-albert-elmo-electra-xlnet-glove-part-of-speech-with-nlu-and-t-sne-9ebcd5379cd)"
      ]
    }
  ]
}
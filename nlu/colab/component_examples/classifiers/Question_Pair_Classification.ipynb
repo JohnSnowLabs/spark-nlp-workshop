{
 "nbformat": 4,
 "nbformat_minor": 0,
 "metadata": {
  "colab": {
   "name": "Question_Pair_Classification.ipynb",
   "provenance": [],
   "collapsed_sections": [],
   "toc_visible": true
  },
  "kernelspec": {
   "name": "python3",
   "display_name": "Python 3"
  },
  "language_info": {
   "name": "python"
  }
 },
 "cells": [
  {
   "cell_type": "markdown",
   "metadata": {
    "id": "tOHVDa9DQQR5",
    "pycharm": {
     "name": "#%% md\n"
    }
   },
   "source": [
    "![JohnSnowLabs](https://nlp.johnsnowlabs.com/assets/images/logo.png)\n",
    "\n",
    "[![Open In Colab](https://colab.research.google.com/assets/colab-badge.svg)](https://colab.research.google.com/github/JohnSnowLabs/nlu/blob/master/examples/colab/component_examples/classifiers/Question_Pair_Classification.ipynb)\n",
    "\n",
    "\n",
    "# [Question Pair Classifier](https://nlp.johnsnowlabs.com/2021/08/13/classifierdl_electra_questionpair_en.html)\n",
    "\n",
    "\n",
    "Identifies whether two question sentences are semantically repetitive or different.\n",
    "\n",
    "\n",
    "It can be used to classify similar questions therefore automatically showing answers to previously answered questions therefore people will get answers quicker\n",
    "##How to Use\n",
    "\n",
    "* The model is trained with `en.embed_sentence.electra_large_uncased` embeddings therefore the same embeddings should be used in the prediction pipeline.\n",
    "\n",
    "* The question pairs should be identified with “q1” and “q2” in the text. The input text format should be as follows : `text = \"q1: What is your name? q2: Who are you?\"`\n",
    "\n",
    "<br>\n",
    "\n",
    "This model can be used to predict the following news categories \n",
    "`almost_same`, `not_same`\n",
    "\n",
    "<br>\n",
    "\n",
    "\n",
    "\n",
    "\n",
    "The data Source used to train this can be found [here](https://quoradata.quora.com/First-Quora-Dataset-Release-Question-Pairs)\n",
    "\n",
    "<br>\n",
    "\n",
    "##Benchmark on Dataset \n",
    "![image.png](data:image/png;base64,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)"
   ]
  },
  {
   "cell_type": "markdown",
   "source": [
    "##1.Setup Java 8 and NLU"
   ],
   "metadata": {
    "id": "HIxATMI7ixJx",
    "pycharm": {
     "name": "#%% md\n"
    }
   }
  },
  {
   "cell_type": "code",
   "metadata": {
    "id": "SF5-Z-U4jukd",
    "colab": {
     "base_uri": "https://localhost:8080/"
    },
    "outputId": "0f6b53b9-d963-45fc-aa64-915970a47ade",
    "pycharm": {
     "name": "#%%\n"
    }
   },
   "source": [
    "!wget https://raw.githubusercontent.com/JohnSnowLabs/nlu/master/scripts/colab_setup.sh -O - | bash\n",
    "import nlu"
   ],
   "execution_count": null,
   "outputs": [
    {
     "output_type": "stream",
     "name": "stdout",
     "text": [
      "--2022-05-19 21:04:15--  https://raw.githubusercontent.com/JohnSnowLabs/nlu/master/scripts/colab_setup.sh\n",
      "Resolving raw.githubusercontent.com (raw.githubusercontent.com)... 185.199.108.133, 185.199.109.133, 185.199.110.133, ...\n",
      "Connecting to raw.githubusercontent.com (raw.githubusercontent.com)|185.199.108.133|:443... connected.\n",
      "HTTP request sent, awaiting response... 200 OK\n",
      "Length: 1665 (1.6K) [text/plain]\n",
      "Saving to: ‘STDOUT’\n",
      "\n",
      "\r-                     0%[                    ]       0  --.-KB/s               \r-                   100%[===================>]   1.63K  --.-KB/s    in 0s      \n",
      "\n",
      "2022-05-19 21:04:15 (36.5 MB/s) - written to stdout [1665/1665]\n",
      "\n",
      "Installing  NLU 3.4.4rc1 with  PySpark 3.0.3 and Spark NLP 3.4.3 for Google Colab ...\n",
      "Hit:1 https://developer.download.nvidia.com/compute/cuda/repos/ubuntu1804/x86_64  InRelease\n",
      "Ign:2 https://developer.download.nvidia.com/compute/machine-learning/repos/ubuntu1804/x86_64  InRelease\n",
      "Hit:3 https://developer.download.nvidia.com/compute/machine-learning/repos/ubuntu1804/x86_64  Release\n",
      "Hit:4 https://cloud.r-project.org/bin/linux/ubuntu bionic-cran40/ InRelease\n",
      "Hit:5 http://archive.ubuntu.com/ubuntu bionic InRelease\n",
      "Hit:6 http://security.ubuntu.com/ubuntu bionic-security InRelease\n",
      "Hit:7 http://ppa.launchpad.net/c2d4u.team/c2d4u4.0+/ubuntu bionic InRelease\n",
      "Hit:8 http://archive.ubuntu.com/ubuntu bionic-updates InRelease\n",
      "Hit:10 http://archive.ubuntu.com/ubuntu bionic-backports InRelease\n",
      "Hit:11 http://ppa.launchpad.net/cran/libgit2/ubuntu bionic InRelease\n",
      "Hit:12 http://ppa.launchpad.net/deadsnakes/ppa/ubuntu bionic InRelease\n",
      "Hit:13 http://ppa.launchpad.net/graphics-drivers/ppa/ubuntu bionic InRelease\n",
      "Reading package lists... Done\n",
      "tar: spark-3.0.2-bin-hadoop2.7.tgz: Cannot open: No such file or directory\n",
      "tar: Error is not recoverable: exiting now\n",
      "\u001B[31mERROR: pip's dependency resolver does not currently take into account all the packages that are installed. This behaviour is the source of the following dependency conflicts.\n",
      "nlu-tmp 3.4.4rc9 requires spark-nlp<3.5.0,>=3.4.4, but you have spark-nlp 3.4.3 which is incompatible.\u001B[0m\n",
      "Requirement already satisfied: nlu_tmp==3.4.4rc9 in /usr/local/lib/python3.7/dist-packages (3.4.4rc9)\n",
      "Requirement already satisfied: pyarrow>=0.16.0 in /usr/local/lib/python3.7/dist-packages (from nlu_tmp==3.4.4rc9) (6.0.1)\n",
      "Requirement already satisfied: dataclasses in /usr/local/lib/python3.7/dist-packages (from nlu_tmp==3.4.4rc9) (0.6)\n",
      "Requirement already satisfied: numpy in /usr/local/lib/python3.7/dist-packages (from nlu_tmp==3.4.4rc9) (1.21.6)\n",
      "Requirement already satisfied: pandas>=1.3.5 in /usr/local/lib/python3.7/dist-packages (from nlu_tmp==3.4.4rc9) (1.3.5)\n",
      "Collecting spark-nlp<3.5.0,>=3.4.4\n",
      "  Using cached spark_nlp-3.4.4-py2.py3-none-any.whl (145 kB)\n",
      "Requirement already satisfied: python-dateutil>=2.7.3 in /usr/local/lib/python3.7/dist-packages (from pandas>=1.3.5->nlu_tmp==3.4.4rc9) (2.8.2)\n",
      "Requirement already satisfied: pytz>=2017.3 in /usr/local/lib/python3.7/dist-packages (from pandas>=1.3.5->nlu_tmp==3.4.4rc9) (2022.1)\n",
      "Requirement already satisfied: six>=1.5 in /usr/local/lib/python3.7/dist-packages (from python-dateutil>=2.7.3->pandas>=1.3.5->nlu_tmp==3.4.4rc9) (1.15.0)\n",
      "Installing collected packages: spark-nlp\n",
      "  Attempting uninstall: spark-nlp\n",
      "    Found existing installation: spark-nlp 3.4.3\n",
      "    Uninstalling spark-nlp-3.4.3:\n",
      "      Successfully uninstalled spark-nlp-3.4.3\n",
      "Successfully installed spark-nlp-3.4.4\n"
     ]
    }
   ]
  },
  {
   "cell_type": "markdown",
   "source": [
    "##2.Load the mdoel and make Sample Predictions "
   ],
   "metadata": {
    "id": "XiVdjjfzij2R",
    "pycharm": {
     "name": "#%% md\n"
    }
   }
  },
  {
   "cell_type": "code",
   "source": [
    "pipeline = nlu.load('en.classify.questionpair')\n",
    "pipeline.predict(\"q1: What is your favorite movie? q2: Which movie do you like most?\",output_level = 'document')"
   ],
   "metadata": {
    "colab": {
     "base_uri": "https://localhost:8080/",
     "height": 298
    },
    "id": "zzWPoMYZsVj2",
    "outputId": "da44c279-aa14-44b4-fbe6-4fccee159945",
    "pycharm": {
     "name": "#%%\n"
    }
   },
   "execution_count": null,
   "outputs": [
    {
     "output_type": "stream",
     "name": "stdout",
     "text": [
      "classifierdl_electra_questionpair download started this may take some time.\n",
      "Approximate size to download 22.7 MB\n",
      "[OK!]\n",
      "sent_electra_large_uncased download started this may take some time.\n",
      "Approximate size to download 1.2 GB\n",
      "[OK!]\n"
     ]
    },
    {
     "output_type": "execute_result",
     "data": {
      "text/plain": [
       "                                            document questionpair  \\\n",
       "0  q1: What is your favorite movie? q2: Which mov...  almost_same   \n",
       "\n",
       "  questionpair_confidence_confidence  \\\n",
       "0                                1.0   \n",
       "\n",
       "       sentence_embedding_sent_electra_large_uncased  \n",
       "0  [0.1028885468840599, 0.09209786355495453, -0.0...  "
      ],
      "text/html": [
       "\n",
       "  <div id=\"df-09762542-95c0-4ff4-a4a9-56a01d63c545\">\n",
       "    <div class=\"colab-df-container\">\n",
       "      <div>\n",
       "<style scoped>\n",
       "    .dataframe tbody tr th:only-of-type {\n",
       "        vertical-align: middle;\n",
       "    }\n",
       "\n",
       "    .dataframe tbody tr th {\n",
       "        vertical-align: top;\n",
       "    }\n",
       "\n",
       "    .dataframe thead th {\n",
       "        text-align: right;\n",
       "    }\n",
       "</style>\n",
       "<table border=\"1\" class=\"dataframe\">\n",
       "  <thead>\n",
       "    <tr style=\"text-align: right;\">\n",
       "      <th></th>\n",
       "      <th>document</th>\n",
       "      <th>questionpair</th>\n",
       "      <th>questionpair_confidence_confidence</th>\n",
       "      <th>sentence_embedding_sent_electra_large_uncased</th>\n",
       "    </tr>\n",
       "  </thead>\n",
       "  <tbody>\n",
       "    <tr>\n",
       "      <th>0</th>\n",
       "      <td>q1: What is your favorite movie? q2: Which mov...</td>\n",
       "      <td>almost_same</td>\n",
       "      <td>1.0</td>\n",
       "      <td>[0.1028885468840599, 0.09209786355495453, -0.0...</td>\n",
       "    </tr>\n",
       "  </tbody>\n",
       "</table>\n",
       "</div>\n",
       "      <button class=\"colab-df-convert\" onclick=\"convertToInteractive('df-09762542-95c0-4ff4-a4a9-56a01d63c545')\"\n",
       "              title=\"Convert this dataframe to an interactive table.\"\n",
       "              style=\"display:none;\">\n",
       "        \n",
       "  <svg xmlns=\"http://www.w3.org/2000/svg\" height=\"24px\"viewBox=\"0 0 24 24\"\n",
       "       width=\"24px\">\n",
       "    <path d=\"M0 0h24v24H0V0z\" fill=\"none\"/>\n",
       "    <path d=\"M18.56 5.44l.94 2.06.94-2.06 2.06-.94-2.06-.94-.94-2.06-.94 2.06-2.06.94zm-11 1L8.5 8.5l.94-2.06 2.06-.94-2.06-.94L8.5 2.5l-.94 2.06-2.06.94zm10 10l.94 2.06.94-2.06 2.06-.94-2.06-.94-.94-2.06-.94 2.06-2.06.94z\"/><path d=\"M17.41 7.96l-1.37-1.37c-.4-.4-.92-.59-1.43-.59-.52 0-1.04.2-1.43.59L10.3 9.45l-7.72 7.72c-.78.78-.78 2.05 0 2.83L4 21.41c.39.39.9.59 1.41.59.51 0 1.02-.2 1.41-.59l7.78-7.78 2.81-2.81c.8-.78.8-2.07 0-2.86zM5.41 20L4 18.59l7.72-7.72 1.47 1.35L5.41 20z\"/>\n",
       "  </svg>\n",
       "      </button>\n",
       "      \n",
       "  <style>\n",
       "    .colab-df-container {\n",
       "      display:flex;\n",
       "      flex-wrap:wrap;\n",
       "      gap: 12px;\n",
       "    }\n",
       "\n",
       "    .colab-df-convert {\n",
       "      background-color: #E8F0FE;\n",
       "      border: none;\n",
       "      border-radius: 50%;\n",
       "      cursor: pointer;\n",
       "      display: none;\n",
       "      fill: #1967D2;\n",
       "      height: 32px;\n",
       "      padding: 0 0 0 0;\n",
       "      width: 32px;\n",
       "    }\n",
       "\n",
       "    .colab-df-convert:hover {\n",
       "      background-color: #E2EBFA;\n",
       "      box-shadow: 0px 1px 2px rgba(60, 64, 67, 0.3), 0px 1px 3px 1px rgba(60, 64, 67, 0.15);\n",
       "      fill: #174EA6;\n",
       "    }\n",
       "\n",
       "    [theme=dark] .colab-df-convert {\n",
       "      background-color: #3B4455;\n",
       "      fill: #D2E3FC;\n",
       "    }\n",
       "\n",
       "    [theme=dark] .colab-df-convert:hover {\n",
       "      background-color: #434B5C;\n",
       "      box-shadow: 0px 1px 3px 1px rgba(0, 0, 0, 0.15);\n",
       "      filter: drop-shadow(0px 1px 2px rgba(0, 0, 0, 0.3));\n",
       "      fill: #FFFFFF;\n",
       "    }\n",
       "  </style>\n",
       "\n",
       "      <script>\n",
       "        const buttonEl =\n",
       "          document.querySelector('#df-09762542-95c0-4ff4-a4a9-56a01d63c545 button.colab-df-convert');\n",
       "        buttonEl.style.display =\n",
       "          google.colab.kernel.accessAllowed ? 'block' : 'none';\n",
       "\n",
       "        async function convertToInteractive(key) {\n",
       "          const element = document.querySelector('#df-09762542-95c0-4ff4-a4a9-56a01d63c545');\n",
       "          const dataTable =\n",
       "            await google.colab.kernel.invokeFunction('convertToInteractive',\n",
       "                                                     [key], {});\n",
       "          if (!dataTable) return;\n",
       "\n",
       "          const docLinkHtml = 'Like what you see? Visit the ' +\n",
       "            '<a target=\"_blank\" href=https://colab.research.google.com/notebooks/data_table.ipynb>data table notebook</a>'\n",
       "            + ' to learn more about interactive tables.';\n",
       "          element.innerHTML = '';\n",
       "          dataTable['output_type'] = 'display_data';\n",
       "          await google.colab.output.renderOutput(dataTable, element);\n",
       "          const docLink = document.createElement('div');\n",
       "          docLink.innerHTML = docLinkHtml;\n",
       "          element.appendChild(docLink);\n",
       "        }\n",
       "      </script>\n",
       "    </div>\n",
       "  </div>\n",
       "  "
      ]
     },
     "metadata": {},
     "execution_count": 4
    }
   ]
  },
  {
   "cell_type": "markdown",
   "source": [
    "##3.Define Sample Sentences"
   ],
   "metadata": {
    "id": "_XcMyXVXsdYW",
    "pycharm": {
     "name": "#%% md\n"
    }
   }
  },
  {
   "cell_type": "code",
   "source": [
    "sample_sentences = [\n",
    "\"q1: What is your favorite movie? q2: Which movie do you like most?\",\n",
    "\"q1: What is your favorite movie? q2: Which movie genre would you like to watch?\",\n",
    "\"q1: Are you hungry? q2: You feel like eating?\",\n",
    "\"q1: what do we have for dinner? q2: What are we going to eat tonight?\"\n",
    "]"
   ],
   "metadata": {
    "id": "c_ty0gP6sglE",
    "pycharm": {
     "name": "#%%\n"
    }
   },
   "execution_count": null,
   "outputs": []
  },
  {
   "cell_type": "markdown",
   "source": [
    "##4.Predict on Sample Sentences"
   ],
   "metadata": {
    "id": "qpD0_HqksiLw",
    "pycharm": {
     "name": "#%% md\n"
    }
   }
  },
  {
   "cell_type": "code",
   "source": [
    "pipeline.predict(sample_sentences,output_level = 'document')"
   ],
   "metadata": {
    "colab": {
     "base_uri": "https://localhost:8080/",
     "height": 479
    },
    "id": "zynQvfNmWI50",
    "outputId": "e856105c-80f4-4944-bdea-34c3e3936667",
    "pycharm": {
     "name": "#%%\n"
    }
   },
   "execution_count": null,
   "outputs": [
    {
     "output_type": "execute_result",
     "data": {
      "text/plain": [
       "                                            document questionpair  \\\n",
       "0  q1: What is your favorite movie? q2: Which mov...  almost_same   \n",
       "1  q1: What is your favorite movie? q2: Which mov...     not_same   \n",
       "2      q1: Are you hungry? q2: You feel like eating?  almost_same   \n",
       "3  q1: what do we have for dinner? q2: What are w...  almost_same   \n",
       "\n",
       "  questionpair_confidence_confidence  \\\n",
       "0                                1.0   \n",
       "1                           0.690603   \n",
       "2                                1.0   \n",
       "3                           0.909598   \n",
       "\n",
       "       sentence_embedding_sent_electra_large_uncased  \n",
       "0  [[0.05963423475623131, 0.05926075577735901, -0...  \n",
       "1  [[0.08518768846988678, 0.046159692108631134, -...  \n",
       "2  [[-0.023364093154668808, -0.046164620667696, 0...  \n",
       "3  [[0.09144271165132523, 0.1139305904507637, 0.0...  "
      ],
      "text/html": [
       "\n",
       "  <div id=\"df-a85e02e9-4934-4886-ab88-21232f687ec7\">\n",
       "    <div class=\"colab-df-container\">\n",
       "      <div>\n",
       "<style scoped>\n",
       "    .dataframe tbody tr th:only-of-type {\n",
       "        vertical-align: middle;\n",
       "    }\n",
       "\n",
       "    .dataframe tbody tr th {\n",
       "        vertical-align: top;\n",
       "    }\n",
       "\n",
       "    .dataframe thead th {\n",
       "        text-align: right;\n",
       "    }\n",
       "</style>\n",
       "<table border=\"1\" class=\"dataframe\">\n",
       "  <thead>\n",
       "    <tr style=\"text-align: right;\">\n",
       "      <th></th>\n",
       "      <th>document</th>\n",
       "      <th>questionpair</th>\n",
       "      <th>questionpair_confidence_confidence</th>\n",
       "      <th>sentence_embedding_sent_electra_large_uncased</th>\n",
       "    </tr>\n",
       "  </thead>\n",
       "  <tbody>\n",
       "    <tr>\n",
       "      <th>0</th>\n",
       "      <td>q1: What is your favorite movie? q2: Which mov...</td>\n",
       "      <td>almost_same</td>\n",
       "      <td>1.0</td>\n",
       "      <td>[[0.05963423475623131, 0.05926075577735901, -0...</td>\n",
       "    </tr>\n",
       "    <tr>\n",
       "      <th>1</th>\n",
       "      <td>q1: What is your favorite movie? q2: Which mov...</td>\n",
       "      <td>not_same</td>\n",
       "      <td>0.690603</td>\n",
       "      <td>[[0.08518768846988678, 0.046159692108631134, -...</td>\n",
       "    </tr>\n",
       "    <tr>\n",
       "      <th>2</th>\n",
       "      <td>q1: Are you hungry? q2: You feel like eating?</td>\n",
       "      <td>almost_same</td>\n",
       "      <td>1.0</td>\n",
       "      <td>[[-0.023364093154668808, -0.046164620667696, 0...</td>\n",
       "    </tr>\n",
       "    <tr>\n",
       "      <th>3</th>\n",
       "      <td>q1: what do we have for dinner? q2: What are w...</td>\n",
       "      <td>almost_same</td>\n",
       "      <td>0.909598</td>\n",
       "      <td>[[0.09144271165132523, 0.1139305904507637, 0.0...</td>\n",
       "    </tr>\n",
       "  </tbody>\n",
       "</table>\n",
       "</div>\n",
       "      <button class=\"colab-df-convert\" onclick=\"convertToInteractive('df-a85e02e9-4934-4886-ab88-21232f687ec7')\"\n",
       "              title=\"Convert this dataframe to an interactive table.\"\n",
       "              style=\"display:none;\">\n",
       "        \n",
       "  <svg xmlns=\"http://www.w3.org/2000/svg\" height=\"24px\"viewBox=\"0 0 24 24\"\n",
       "       width=\"24px\">\n",
       "    <path d=\"M0 0h24v24H0V0z\" fill=\"none\"/>\n",
       "    <path d=\"M18.56 5.44l.94 2.06.94-2.06 2.06-.94-2.06-.94-.94-2.06-.94 2.06-2.06.94zm-11 1L8.5 8.5l.94-2.06 2.06-.94-2.06-.94L8.5 2.5l-.94 2.06-2.06.94zm10 10l.94 2.06.94-2.06 2.06-.94-2.06-.94-.94-2.06-.94 2.06-2.06.94z\"/><path d=\"M17.41 7.96l-1.37-1.37c-.4-.4-.92-.59-1.43-.59-.52 0-1.04.2-1.43.59L10.3 9.45l-7.72 7.72c-.78.78-.78 2.05 0 2.83L4 21.41c.39.39.9.59 1.41.59.51 0 1.02-.2 1.41-.59l7.78-7.78 2.81-2.81c.8-.78.8-2.07 0-2.86zM5.41 20L4 18.59l7.72-7.72 1.47 1.35L5.41 20z\"/>\n",
       "  </svg>\n",
       "      </button>\n",
       "      \n",
       "  <style>\n",
       "    .colab-df-container {\n",
       "      display:flex;\n",
       "      flex-wrap:wrap;\n",
       "      gap: 12px;\n",
       "    }\n",
       "\n",
       "    .colab-df-convert {\n",
       "      background-color: #E8F0FE;\n",
       "      border: none;\n",
       "      border-radius: 50%;\n",
       "      cursor: pointer;\n",
       "      display: none;\n",
       "      fill: #1967D2;\n",
       "      height: 32px;\n",
       "      padding: 0 0 0 0;\n",
       "      width: 32px;\n",
       "    }\n",
       "\n",
       "    .colab-df-convert:hover {\n",
       "      background-color: #E2EBFA;\n",
       "      box-shadow: 0px 1px 2px rgba(60, 64, 67, 0.3), 0px 1px 3px 1px rgba(60, 64, 67, 0.15);\n",
       "      fill: #174EA6;\n",
       "    }\n",
       "\n",
       "    [theme=dark] .colab-df-convert {\n",
       "      background-color: #3B4455;\n",
       "      fill: #D2E3FC;\n",
       "    }\n",
       "\n",
       "    [theme=dark] .colab-df-convert:hover {\n",
       "      background-color: #434B5C;\n",
       "      box-shadow: 0px 1px 3px 1px rgba(0, 0, 0, 0.15);\n",
       "      filter: drop-shadow(0px 1px 2px rgba(0, 0, 0, 0.3));\n",
       "      fill: #FFFFFF;\n",
       "    }\n",
       "  </style>\n",
       "\n",
       "      <script>\n",
       "        const buttonEl =\n",
       "          document.querySelector('#df-a85e02e9-4934-4886-ab88-21232f687ec7 button.colab-df-convert');\n",
       "        buttonEl.style.display =\n",
       "          google.colab.kernel.accessAllowed ? 'block' : 'none';\n",
       "\n",
       "        async function convertToInteractive(key) {\n",
       "          const element = document.querySelector('#df-a85e02e9-4934-4886-ab88-21232f687ec7');\n",
       "          const dataTable =\n",
       "            await google.colab.kernel.invokeFunction('convertToInteractive',\n",
       "                                                     [key], {});\n",
       "          if (!dataTable) return;\n",
       "\n",
       "          const docLinkHtml = 'Like what you see? Visit the ' +\n",
       "            '<a target=\"_blank\" href=https://colab.research.google.com/notebooks/data_table.ipynb>data table notebook</a>'\n",
       "            + ' to learn more about interactive tables.';\n",
       "          element.innerHTML = '';\n",
       "          dataTable['output_type'] = 'display_data';\n",
       "          await google.colab.output.renderOutput(dataTable, element);\n",
       "          const docLink = document.createElement('div');\n",
       "          docLink.innerHTML = docLinkHtml;\n",
       "          element.appendChild(docLink);\n",
       "        }\n",
       "      </script>\n",
       "    </div>\n",
       "  </div>\n",
       "  "
      ]
     },
     "metadata": {},
     "execution_count": 12
    }
   ]
  },
  {
   "cell_type": "markdown",
   "source": [
    "##5.Take a look at the parmaters of the pipeline"
   ],
   "metadata": {
    "id": "cEf6CWsxtDWJ",
    "pycharm": {
     "name": "#%% md\n"
    }
   }
  },
  {
   "cell_type": "code",
   "source": [
    "pipeline.print_info()"
   ],
   "metadata": {
    "colab": {
     "base_uri": "https://localhost:8080/"
    },
    "id": "3TgLjxNltPCp",
    "outputId": "75c80fcf-605a-4b2e-9401-1e67202136a2",
    "pycharm": {
     "name": "#%%\n"
    }
   },
   "execution_count": null,
   "outputs": [
    {
     "output_type": "stream",
     "name": "stdout",
     "text": [
      "The following parameters are configurable for this NLU pipeline (You can copy paste the examples) :\n",
      ">>> component_list['classifier_dl@sent_electra_large_uncased'] has settable params:\n",
      "component_list['classifier_dl@sent_electra_large_uncased'].setClasses(['almost_same', 'not_same'])  | Info: get the tags used to trained this ClassifierDLModel | Currently set to : ['almost_same', 'not_same']\n",
      "component_list['classifier_dl@sent_electra_large_uncased'].setStorageRef('sent_electra_large_uncased')  | Info: unique reference name for identification | Currently set to : sent_electra_large_uncased\n",
      ">>> component_list['bert_sentence_embeddings@sent_electra_large_uncased'] has settable params:\n",
      "component_list['bert_sentence_embeddings@sent_electra_large_uncased'].setBatchSize(8)  | Info: Size of every batch | Currently set to : 8\n",
      "component_list['bert_sentence_embeddings@sent_electra_large_uncased'].setIsLong(False)  | Info: Use Long type instead of Int type for inputs buffer - Some Bert models require Long instead of Int. | Currently set to : False\n",
      "component_list['bert_sentence_embeddings@sent_electra_large_uncased'].setMaxSentenceLength(128)  | Info: Max sentence length to process | Currently set to : 128\n",
      "component_list['bert_sentence_embeddings@sent_electra_large_uncased'].setDimension(1024)  | Info: Number of embedding dimensions | Currently set to : 1024\n",
      "component_list['bert_sentence_embeddings@sent_electra_large_uncased'].setCaseSensitive(False)  | Info: whether to ignore case in tokens for embeddings matching | Currently set to : False\n",
      "component_list['bert_sentence_embeddings@sent_electra_large_uncased'].setStorageRef('sent_electra_large_uncased')  | Info: unique reference name for identification | Currently set to : sent_electra_large_uncased\n",
      ">>> component_list['document_assembler'] has settable params:\n",
      "component_list['document_assembler'].setCleanupMode('shrink')  | Info: possible values: disabled, inplace, inplace_full, shrink, shrink_full, each, each_full, delete_full | Currently set to : shrink\n"
     ]
    }
   ]
  },
  {
   "cell_type": "markdown",
   "source": [
    "Looking Good! Let's test this model on a labelled dataset to see how it performs "
   ],
   "metadata": {
    "id": "1hF8dmLIkbSz",
    "pycharm": {
     "name": "#%% md\n"
    }
   }
  },
  {
   "cell_type": "markdown",
   "source": [
    "##6.Download Data\n",
    "\n",
    "we are going to test the model on [this](https://www.kaggle.com/datasets/quora/question-pairs-dataset) dataset \n",
    "\n",
    "Quora's first public dataset is related to the problem of identifying duplicate questions. At Quora, an important product principle is that there should be a single question page for each logically distinct question. For example, the queries “What is the most populous state in the USA?” and “Which state in the United States has the most people?” should not exist separately on Quora because the intent behind both is identical. Having a canonical page for each logically distinct query makes knowledge-sharing more efficient in many ways: for example, knowledge seekers can access all the answers to a question in a single location, and writers can reach a larger readership than if that audience was divided amongst several pages.\n",
    "\n",
    "The dataset is based on actual data from Quora and will give anyone the opportunity to train and test models of semantic equivalence.\n"
   ],
   "metadata": {
    "id": "uRbusvKOkVac",
    "pycharm": {
     "name": "#%% md\n"
    }
   }
  },
  {
   "cell_type": "code",
   "source": [
    "!wget http://ckl-it.de/wp-content/uploads/2022/05/questions_pair_data-1.csv"
   ],
   "metadata": {
    "colab": {
     "base_uri": "https://localhost:8080/"
    },
    "id": "KvD0rZTBrnrL",
    "outputId": "2384dcd0-ef12-4021-bb78-2283347fea0f",
    "pycharm": {
     "name": "#%%\n"
    }
   },
   "execution_count": null,
   "outputs": [
    {
     "output_type": "stream",
     "name": "stdout",
     "text": [
      "--2022-05-19 21:33:53--  http://ckl-it.de/wp-content/uploads/2022/05/questions_pair_data-1.csv\n",
      "Resolving ckl-it.de (ckl-it.de)... 217.160.0.108, 2001:8d8:100f:f000::209\n",
      "Connecting to ckl-it.de (ckl-it.de)|217.160.0.108|:80... connected.\n",
      "HTTP request sent, awaiting response... 200 OK\n",
      "Length: 57120912 (54M) [text/csv]\n",
      "Saving to: ‘questions_pair_data-1.csv’\n",
      "\n",
      "questions_pair_data 100%[===================>]  54.47M  17.5MB/s    in 3.9s    \n",
      "\n",
      "2022-05-19 21:33:58 (14.1 MB/s) - ‘questions_pair_data-1.csv’ saved [57120912/57120912]\n",
      "\n"
     ]
    }
   ]
  },
  {
   "cell_type": "code",
   "source": [
    "import pandas  as pd \n",
    "df = pd.read_csv(\"questions_pair_data-1.csv\")\n",
    "df"
   ],
   "metadata": {
    "colab": {
     "base_uri": "https://localhost:8080/",
     "height": 424
    },
    "id": "n-6bOT4krpr8",
    "outputId": "3db99169-938c-4183-cd39-614924709134",
    "pycharm": {
     "name": "#%%\n"
    }
   },
   "execution_count": null,
   "outputs": [
    {
     "output_type": "execute_result",
     "data": {
      "text/plain": [
       "                                                     text            y\n",
       "0       q1: What is the step by step guide to invest i...     not_same\n",
       "1       q1: What is the story of Kohinoor (Koh-i-Noor)...     not_same\n",
       "2       q1: How can I increase the speed of my interne...     not_same\n",
       "3       q1: Why am I mentally very lonely? How can I s...     not_same\n",
       "4       q1: Which one dissolve in water quikly sugar, ...     not_same\n",
       "...                                                   ...          ...\n",
       "404346  q1: How many keywords are there in the Racket ...     not_same\n",
       "404347  q1: Do you believe there is life after death? ...  almost_same\n",
       "404348        q1: What is one coin? q2: What's this coin?     not_same\n",
       "404349  q1: What is the approx annual cost of living w...     not_same\n",
       "404350  q1: What is like to have sex with cousin? q2: ...     not_same\n",
       "\n",
       "[404351 rows x 2 columns]"
      ],
      "text/html": [
       "\n",
       "  <div id=\"df-7b05e384-ec3e-42f7-90ea-bfb2dd2d9a67\">\n",
       "    <div class=\"colab-df-container\">\n",
       "      <div>\n",
       "<style scoped>\n",
       "    .dataframe tbody tr th:only-of-type {\n",
       "        vertical-align: middle;\n",
       "    }\n",
       "\n",
       "    .dataframe tbody tr th {\n",
       "        vertical-align: top;\n",
       "    }\n",
       "\n",
       "    .dataframe thead th {\n",
       "        text-align: right;\n",
       "    }\n",
       "</style>\n",
       "<table border=\"1\" class=\"dataframe\">\n",
       "  <thead>\n",
       "    <tr style=\"text-align: right;\">\n",
       "      <th></th>\n",
       "      <th>text</th>\n",
       "      <th>y</th>\n",
       "    </tr>\n",
       "  </thead>\n",
       "  <tbody>\n",
       "    <tr>\n",
       "      <th>0</th>\n",
       "      <td>q1: What is the step by step guide to invest i...</td>\n",
       "      <td>not_same</td>\n",
       "    </tr>\n",
       "    <tr>\n",
       "      <th>1</th>\n",
       "      <td>q1: What is the story of Kohinoor (Koh-i-Noor)...</td>\n",
       "      <td>not_same</td>\n",
       "    </tr>\n",
       "    <tr>\n",
       "      <th>2</th>\n",
       "      <td>q1: How can I increase the speed of my interne...</td>\n",
       "      <td>not_same</td>\n",
       "    </tr>\n",
       "    <tr>\n",
       "      <th>3</th>\n",
       "      <td>q1: Why am I mentally very lonely? How can I s...</td>\n",
       "      <td>not_same</td>\n",
       "    </tr>\n",
       "    <tr>\n",
       "      <th>4</th>\n",
       "      <td>q1: Which one dissolve in water quikly sugar, ...</td>\n",
       "      <td>not_same</td>\n",
       "    </tr>\n",
       "    <tr>\n",
       "      <th>...</th>\n",
       "      <td>...</td>\n",
       "      <td>...</td>\n",
       "    </tr>\n",
       "    <tr>\n",
       "      <th>404346</th>\n",
       "      <td>q1: How many keywords are there in the Racket ...</td>\n",
       "      <td>not_same</td>\n",
       "    </tr>\n",
       "    <tr>\n",
       "      <th>404347</th>\n",
       "      <td>q1: Do you believe there is life after death? ...</td>\n",
       "      <td>almost_same</td>\n",
       "    </tr>\n",
       "    <tr>\n",
       "      <th>404348</th>\n",
       "      <td>q1: What is one coin? q2: What's this coin?</td>\n",
       "      <td>not_same</td>\n",
       "    </tr>\n",
       "    <tr>\n",
       "      <th>404349</th>\n",
       "      <td>q1: What is the approx annual cost of living w...</td>\n",
       "      <td>not_same</td>\n",
       "    </tr>\n",
       "    <tr>\n",
       "      <th>404350</th>\n",
       "      <td>q1: What is like to have sex with cousin? q2: ...</td>\n",
       "      <td>not_same</td>\n",
       "    </tr>\n",
       "  </tbody>\n",
       "</table>\n",
       "<p>404351 rows × 2 columns</p>\n",
       "</div>\n",
       "      <button class=\"colab-df-convert\" onclick=\"convertToInteractive('df-7b05e384-ec3e-42f7-90ea-bfb2dd2d9a67')\"\n",
       "              title=\"Convert this dataframe to an interactive table.\"\n",
       "              style=\"display:none;\">\n",
       "        \n",
       "  <svg xmlns=\"http://www.w3.org/2000/svg\" height=\"24px\"viewBox=\"0 0 24 24\"\n",
       "       width=\"24px\">\n",
       "    <path d=\"M0 0h24v24H0V0z\" fill=\"none\"/>\n",
       "    <path d=\"M18.56 5.44l.94 2.06.94-2.06 2.06-.94-2.06-.94-.94-2.06-.94 2.06-2.06.94zm-11 1L8.5 8.5l.94-2.06 2.06-.94-2.06-.94L8.5 2.5l-.94 2.06-2.06.94zm10 10l.94 2.06.94-2.06 2.06-.94-2.06-.94-.94-2.06-.94 2.06-2.06.94z\"/><path d=\"M17.41 7.96l-1.37-1.37c-.4-.4-.92-.59-1.43-.59-.52 0-1.04.2-1.43.59L10.3 9.45l-7.72 7.72c-.78.78-.78 2.05 0 2.83L4 21.41c.39.39.9.59 1.41.59.51 0 1.02-.2 1.41-.59l7.78-7.78 2.81-2.81c.8-.78.8-2.07 0-2.86zM5.41 20L4 18.59l7.72-7.72 1.47 1.35L5.41 20z\"/>\n",
       "  </svg>\n",
       "      </button>\n",
       "      \n",
       "  <style>\n",
       "    .colab-df-container {\n",
       "      display:flex;\n",
       "      flex-wrap:wrap;\n",
       "      gap: 12px;\n",
       "    }\n",
       "\n",
       "    .colab-df-convert {\n",
       "      background-color: #E8F0FE;\n",
       "      border: none;\n",
       "      border-radius: 50%;\n",
       "      cursor: pointer;\n",
       "      display: none;\n",
       "      fill: #1967D2;\n",
       "      height: 32px;\n",
       "      padding: 0 0 0 0;\n",
       "      width: 32px;\n",
       "    }\n",
       "\n",
       "    .colab-df-convert:hover {\n",
       "      background-color: #E2EBFA;\n",
       "      box-shadow: 0px 1px 2px rgba(60, 64, 67, 0.3), 0px 1px 3px 1px rgba(60, 64, 67, 0.15);\n",
       "      fill: #174EA6;\n",
       "    }\n",
       "\n",
       "    [theme=dark] .colab-df-convert {\n",
       "      background-color: #3B4455;\n",
       "      fill: #D2E3FC;\n",
       "    }\n",
       "\n",
       "    [theme=dark] .colab-df-convert:hover {\n",
       "      background-color: #434B5C;\n",
       "      box-shadow: 0px 1px 3px 1px rgba(0, 0, 0, 0.15);\n",
       "      filter: drop-shadow(0px 1px 2px rgba(0, 0, 0, 0.3));\n",
       "      fill: #FFFFFF;\n",
       "    }\n",
       "  </style>\n",
       "\n",
       "      <script>\n",
       "        const buttonEl =\n",
       "          document.querySelector('#df-7b05e384-ec3e-42f7-90ea-bfb2dd2d9a67 button.colab-df-convert');\n",
       "        buttonEl.style.display =\n",
       "          google.colab.kernel.accessAllowed ? 'block' : 'none';\n",
       "\n",
       "        async function convertToInteractive(key) {\n",
       "          const element = document.querySelector('#df-7b05e384-ec3e-42f7-90ea-bfb2dd2d9a67');\n",
       "          const dataTable =\n",
       "            await google.colab.kernel.invokeFunction('convertToInteractive',\n",
       "                                                     [key], {});\n",
       "          if (!dataTable) return;\n",
       "\n",
       "          const docLinkHtml = 'Like what you see? Visit the ' +\n",
       "            '<a target=\"_blank\" href=https://colab.research.google.com/notebooks/data_table.ipynb>data table notebook</a>'\n",
       "            + ' to learn more about interactive tables.';\n",
       "          element.innerHTML = '';\n",
       "          dataTable['output_type'] = 'display_data';\n",
       "          await google.colab.output.renderOutput(dataTable, element);\n",
       "          const docLink = document.createElement('div');\n",
       "          docLink.innerHTML = docLinkHtml;\n",
       "          element.appendChild(docLink);\n",
       "        }\n",
       "      </script>\n",
       "    </div>\n",
       "  </div>\n",
       "  "
      ]
     },
     "metadata": {},
     "execution_count": 23
    }
   ]
  },
  {
   "cell_type": "markdown",
   "source": [
    "Let's take  a Peek at the distribution of the labels "
   ],
   "metadata": {
    "id": "mUl3_RmhuSHW",
    "pycharm": {
     "name": "#%% md\n"
    }
   }
  },
  {
   "cell_type": "code",
   "source": [
    "df.y.value_counts().plot.bar(title='Distribution of Labels')"
   ],
   "metadata": {
    "colab": {
     "base_uri": "https://localhost:8080/",
     "height": 354
    },
    "id": "n_c6k0EaNpM9",
    "outputId": "a32c041a-8f49-44e2-8f2b-513c4975ca4b",
    "pycharm": {
     "name": "#%%\n"
    }
   },
   "execution_count": null,
   "outputs": [
    {
     "output_type": "execute_result",
     "data": {
      "text/plain": [
       "<matplotlib.axes._subplots.AxesSubplot at 0x7f735b68ce10>"
      ]
     },
     "metadata": {},
     "execution_count": 24
    },
    {
     "output_type": "display_data",
     "data": {
      "text/plain": [
       "<Figure size 432x288 with 1 Axes>"
      ],
      "image/png": "[encoded data removed]"
     },
     "metadata": {
      "needs_background": "light"
     }
    }
   ]
  },
  {
   "cell_type": "markdown",
   "source": [
    "##7.Make Predictions with the model"
   ],
   "metadata": {
    "id": "KHxOy5o9uyTG",
    "pycharm": {
     "name": "#%% md\n"
    }
   }
  },
  {
   "cell_type": "code",
   "source": [
    "# The dataset is very large so we only take the first 15000 rows\n",
    "df = df.iloc[:15000]"
   ],
   "metadata": {
    "id": "SnWo1ID5Pji2",
    "pycharm": {
     "name": "#%%\n"
    }
   },
   "execution_count": null,
   "outputs": []
  },
  {
   "cell_type": "code",
   "source": [
    "predctions = pipeline.predict(df,output_level = 'document')"
   ],
   "metadata": {
    "id": "QpmPv2q5uVyd",
    "pycharm": {
     "name": "#%%\n"
    }
   },
   "execution_count": null,
   "outputs": []
  },
  {
   "cell_type": "code",
   "source": [
    "predctions = predctions.dropna(subset = ['questionpair'])"
   ],
   "metadata": {
    "id": "rvyeXaHfL9PP",
    "pycharm": {
     "name": "#%%\n"
    }
   },
   "execution_count": null,
   "outputs": []
  },
  {
   "cell_type": "code",
   "source": [
    "predctions"
   ],
   "metadata": {
    "colab": {
     "base_uri": "https://localhost:8080/",
     "height": 1000
    },
    "id": "j4JpnxjzMOsV",
    "outputId": "b1905216-1b0d-44d9-cced-e27872a2c467",
    "pycharm": {
     "name": "#%%\n"
    }
   },
   "execution_count": null,
   "outputs": [
    {
     "output_type": "execute_result",
     "data": {
      "text/plain": [
       "                                                document questionpair  \\\n",
       "0      q1: What is the step by step guide to invest i...     not_same   \n",
       "1      q1: What is the story of Kohinoor (Koh-i-Noor)...     not_same   \n",
       "2      q1: How can I increase the speed of my interne...  almost_same   \n",
       "3      q1: Why am I mentally very lonely? How can I s...     not_same   \n",
       "4      q1: Which one dissolve in water quikly sugar, ...     not_same   \n",
       "...                                                  ...          ...   \n",
       "14995  q1: What strikes first time visitors as specia...     not_same   \n",
       "14996  q1: I want to be a poet what should I do to ge...  almost_same   \n",
       "14997  q1: What is borderline personality disorder? q...     not_same   \n",
       "14998  q1: Are there more colors in a rainbow than th...     not_same   \n",
       "14999  q1: I am constantly thinking about something o...     not_same   \n",
       "\n",
       "      questionpair_confidence_confidence  \\\n",
       "0                                    1.0   \n",
       "1                               0.999998   \n",
       "2                                    1.0   \n",
       "3                                    1.0   \n",
       "4                                    1.0   \n",
       "...                                  ...   \n",
       "14995                                1.0   \n",
       "14996                           0.999999   \n",
       "14997                                1.0   \n",
       "14998                                1.0   \n",
       "14999                                1.0   \n",
       "\n",
       "           sentence_embedding_sent_electra_large_uncased  \\\n",
       "0      [[-0.14823496341705322, -0.20211371779441833, ...   \n",
       "1      [[0.10479416698217392, -0.07261374592781067, 0...   \n",
       "2      [[-0.07979179173707962, 0.046571265906095505, ...   \n",
       "3      [[-0.0022265498992055655, -0.04372467845678329...   \n",
       "4      [[-0.08860134333372116, 0.0703229010105133, 0....   \n",
       "...                                                  ...   \n",
       "14995  [[0.05599864944815636, 0.15240998566150665, 0....   \n",
       "14996  [[0.07333197444677353, -0.031826701015233994, ...   \n",
       "14997  [[-0.10858175903558731, -0.12562920153141022, ...   \n",
       "14998  [[0.011639977805316448, -0.07442142814397812, ...   \n",
       "14999  [[0.07383149117231369, -0.001604342251084745, ...   \n",
       "\n",
       "                                                    text            y  \n",
       "0      q1: What is the step by step guide to invest i...     not_same  \n",
       "1      q1: What is the story of Kohinoor (Koh-i-Noor)...     not_same  \n",
       "2      q1: How can I increase the speed of my interne...     not_same  \n",
       "3      q1: Why am I mentally very lonely? How can I s...     not_same  \n",
       "4      q1: Which one dissolve in water quikly sugar, ...     not_same  \n",
       "...                                                  ...          ...  \n",
       "14995  q1: What strikes first time visitors as specia...     not_same  \n",
       "14996  q1: I want to be a poet what should I do to ge...  almost_same  \n",
       "14997  q1: What is borderline personality disorder? q...  almost_same  \n",
       "14998  q1: Are there more colors in a rainbow than th...     not_same  \n",
       "14999  q1: I am constantly thinking about something o...  almost_same  \n",
       "\n",
       "[15000 rows x 6 columns]"
      ],
      "text/html": [
       "\n",
       "  <div id=\"df-4cb56634-426a-4b4c-b762-54da095d3924\">\n",
       "    <div class=\"colab-df-container\">\n",
       "      <div>\n",
       "<style scoped>\n",
       "    .dataframe tbody tr th:only-of-type {\n",
       "        vertical-align: middle;\n",
       "    }\n",
       "\n",
       "    .dataframe tbody tr th {\n",
       "        vertical-align: top;\n",
       "    }\n",
       "\n",
       "    .dataframe thead th {\n",
       "        text-align: right;\n",
       "    }\n",
       "</style>\n",
       "<table border=\"1\" class=\"dataframe\">\n",
       "  <thead>\n",
       "    <tr style=\"text-align: right;\">\n",
       "      <th></th>\n",
       "      <th>document</th>\n",
       "      <th>questionpair</th>\n",
       "      <th>questionpair_confidence_confidence</th>\n",
       "      <th>sentence_embedding_sent_electra_large_uncased</th>\n",
       "      <th>text</th>\n",
       "      <th>y</th>\n",
       "    </tr>\n",
       "  </thead>\n",
       "  <tbody>\n",
       "    <tr>\n",
       "      <th>0</th>\n",
       "      <td>q1: What is the step by step guide to invest i...</td>\n",
       "      <td>not_same</td>\n",
       "      <td>1.0</td>\n",
       "      <td>[[-0.14823496341705322, -0.20211371779441833, ...</td>\n",
       "      <td>q1: What is the step by step guide to invest i...</td>\n",
       "      <td>not_same</td>\n",
       "    </tr>\n",
       "    <tr>\n",
       "      <th>1</th>\n",
       "      <td>q1: What is the story of Kohinoor (Koh-i-Noor)...</td>\n",
       "      <td>not_same</td>\n",
       "      <td>0.999998</td>\n",
       "      <td>[[0.10479416698217392, -0.07261374592781067, 0...</td>\n",
       "      <td>q1: What is the story of Kohinoor (Koh-i-Noor)...</td>\n",
       "      <td>not_same</td>\n",
       "    </tr>\n",
       "    <tr>\n",
       "      <th>2</th>\n",
       "      <td>q1: How can I increase the speed of my interne...</td>\n",
       "      <td>almost_same</td>\n",
       "      <td>1.0</td>\n",
       "      <td>[[-0.07979179173707962, 0.046571265906095505, ...</td>\n",
       "      <td>q1: How can I increase the speed of my interne...</td>\n",
       "      <td>not_same</td>\n",
       "    </tr>\n",
       "    <tr>\n",
       "      <th>3</th>\n",
       "      <td>q1: Why am I mentally very lonely? How can I s...</td>\n",
       "      <td>not_same</td>\n",
       "      <td>1.0</td>\n",
       "      <td>[[-0.0022265498992055655, -0.04372467845678329...</td>\n",
       "      <td>q1: Why am I mentally very lonely? How can I s...</td>\n",
       "      <td>not_same</td>\n",
       "    </tr>\n",
       "    <tr>\n",
       "      <th>4</th>\n",
       "      <td>q1: Which one dissolve in water quikly sugar, ...</td>\n",
       "      <td>not_same</td>\n",
       "      <td>1.0</td>\n",
       "      <td>[[-0.08860134333372116, 0.0703229010105133, 0....</td>\n",
       "      <td>q1: Which one dissolve in water quikly sugar, ...</td>\n",
       "      <td>not_same</td>\n",
       "    </tr>\n",
       "    <tr>\n",
       "      <th>...</th>\n",
       "      <td>...</td>\n",
       "      <td>...</td>\n",
       "      <td>...</td>\n",
       "      <td>...</td>\n",
       "      <td>...</td>\n",
       "      <td>...</td>\n",
       "    </tr>\n",
       "    <tr>\n",
       "      <th>14995</th>\n",
       "      <td>q1: What strikes first time visitors as specia...</td>\n",
       "      <td>not_same</td>\n",
       "      <td>1.0</td>\n",
       "      <td>[[0.05599864944815636, 0.15240998566150665, 0....</td>\n",
       "      <td>q1: What strikes first time visitors as specia...</td>\n",
       "      <td>not_same</td>\n",
       "    </tr>\n",
       "    <tr>\n",
       "      <th>14996</th>\n",
       "      <td>q1: I want to be a poet what should I do to ge...</td>\n",
       "      <td>almost_same</td>\n",
       "      <td>0.999999</td>\n",
       "      <td>[[0.07333197444677353, -0.031826701015233994, ...</td>\n",
       "      <td>q1: I want to be a poet what should I do to ge...</td>\n",
       "      <td>almost_same</td>\n",
       "    </tr>\n",
       "    <tr>\n",
       "      <th>14997</th>\n",
       "      <td>q1: What is borderline personality disorder? q...</td>\n",
       "      <td>not_same</td>\n",
       "      <td>1.0</td>\n",
       "      <td>[[-0.10858175903558731, -0.12562920153141022, ...</td>\n",
       "      <td>q1: What is borderline personality disorder? q...</td>\n",
       "      <td>almost_same</td>\n",
       "    </tr>\n",
       "    <tr>\n",
       "      <th>14998</th>\n",
       "      <td>q1: Are there more colors in a rainbow than th...</td>\n",
       "      <td>not_same</td>\n",
       "      <td>1.0</td>\n",
       "      <td>[[0.011639977805316448, -0.07442142814397812, ...</td>\n",
       "      <td>q1: Are there more colors in a rainbow than th...</td>\n",
       "      <td>not_same</td>\n",
       "    </tr>\n",
       "    <tr>\n",
       "      <th>14999</th>\n",
       "      <td>q1: I am constantly thinking about something o...</td>\n",
       "      <td>not_same</td>\n",
       "      <td>1.0</td>\n",
       "      <td>[[0.07383149117231369, -0.001604342251084745, ...</td>\n",
       "      <td>q1: I am constantly thinking about something o...</td>\n",
       "      <td>almost_same</td>\n",
       "    </tr>\n",
       "  </tbody>\n",
       "</table>\n",
       "<p>15000 rows × 6 columns</p>\n",
       "</div>\n",
       "      <button class=\"colab-df-convert\" onclick=\"convertToInteractive('df-4cb56634-426a-4b4c-b762-54da095d3924')\"\n",
       "              title=\"Convert this dataframe to an interactive table.\"\n",
       "              style=\"display:none;\">\n",
       "        \n",
       "  <svg xmlns=\"http://www.w3.org/2000/svg\" height=\"24px\"viewBox=\"0 0 24 24\"\n",
       "       width=\"24px\">\n",
       "    <path d=\"M0 0h24v24H0V0z\" fill=\"none\"/>\n",
       "    <path d=\"M18.56 5.44l.94 2.06.94-2.06 2.06-.94-2.06-.94-.94-2.06-.94 2.06-2.06.94zm-11 1L8.5 8.5l.94-2.06 2.06-.94-2.06-.94L8.5 2.5l-.94 2.06-2.06.94zm10 10l.94 2.06.94-2.06 2.06-.94-2.06-.94-.94-2.06-.94 2.06-2.06.94z\"/><path d=\"M17.41 7.96l-1.37-1.37c-.4-.4-.92-.59-1.43-.59-.52 0-1.04.2-1.43.59L10.3 9.45l-7.72 7.72c-.78.78-.78 2.05 0 2.83L4 21.41c.39.39.9.59 1.41.59.51 0 1.02-.2 1.41-.59l7.78-7.78 2.81-2.81c.8-.78.8-2.07 0-2.86zM5.41 20L4 18.59l7.72-7.72 1.47 1.35L5.41 20z\"/>\n",
       "  </svg>\n",
       "      </button>\n",
       "      \n",
       "  <style>\n",
       "    .colab-df-container {\n",
       "      display:flex;\n",
       "      flex-wrap:wrap;\n",
       "      gap: 12px;\n",
       "    }\n",
       "\n",
       "    .colab-df-convert {\n",
       "      background-color: #E8F0FE;\n",
       "      border: none;\n",
       "      border-radius: 50%;\n",
       "      cursor: pointer;\n",
       "      display: none;\n",
       "      fill: #1967D2;\n",
       "      height: 32px;\n",
       "      padding: 0 0 0 0;\n",
       "      width: 32px;\n",
       "    }\n",
       "\n",
       "    .colab-df-convert:hover {\n",
       "      background-color: #E2EBFA;\n",
       "      box-shadow: 0px 1px 2px rgba(60, 64, 67, 0.3), 0px 1px 3px 1px rgba(60, 64, 67, 0.15);\n",
       "      fill: #174EA6;\n",
       "    }\n",
       "\n",
       "    [theme=dark] .colab-df-convert {\n",
       "      background-color: #3B4455;\n",
       "      fill: #D2E3FC;\n",
       "    }\n",
       "\n",
       "    [theme=dark] .colab-df-convert:hover {\n",
       "      background-color: #434B5C;\n",
       "      box-shadow: 0px 1px 3px 1px rgba(0, 0, 0, 0.15);\n",
       "      filter: drop-shadow(0px 1px 2px rgba(0, 0, 0, 0.3));\n",
       "      fill: #FFFFFF;\n",
       "    }\n",
       "  </style>\n",
       "\n",
       "      <script>\n",
       "        const buttonEl =\n",
       "          document.querySelector('#df-4cb56634-426a-4b4c-b762-54da095d3924 button.colab-df-convert');\n",
       "        buttonEl.style.display =\n",
       "          google.colab.kernel.accessAllowed ? 'block' : 'none';\n",
       "\n",
       "        async function convertToInteractive(key) {\n",
       "          const element = document.querySelector('#df-4cb56634-426a-4b4c-b762-54da095d3924');\n",
       "          const dataTable =\n",
       "            await google.colab.kernel.invokeFunction('convertToInteractive',\n",
       "                                                     [key], {});\n",
       "          if (!dataTable) return;\n",
       "\n",
       "          const docLinkHtml = 'Like what you see? Visit the ' +\n",
       "            '<a target=\"_blank\" href=https://colab.research.google.com/notebooks/data_table.ipynb>data table notebook</a>'\n",
       "            + ' to learn more about interactive tables.';\n",
       "          element.innerHTML = '';\n",
       "          dataTable['output_type'] = 'display_data';\n",
       "          await google.colab.output.renderOutput(dataTable, element);\n",
       "          const docLink = document.createElement('div');\n",
       "          docLink.innerHTML = docLinkHtml;\n",
       "          element.appendChild(docLink);\n",
       "        }\n",
       "      </script>\n",
       "    </div>\n",
       "  </div>\n",
       "  "
      ]
     },
     "metadata": {},
     "execution_count": 35
    }
   ]
  },
  {
   "cell_type": "markdown",
   "source": [
    "##8.Evaluate Predictions "
   ],
   "metadata": {
    "id": "y03ZPigmGPYL",
    "pycharm": {
     "name": "#%% md\n"
    }
   }
  },
  {
   "cell_type": "code",
   "source": [
    "from sklearn.metrics import classification_report\n",
    "print(classification_report(predctions['y'], predctions['questionpair']) )"
   ],
   "metadata": {
    "colab": {
     "base_uri": "https://localhost:8080/"
    },
    "id": "yfJtQLGDu8nN",
    "outputId": "4da6ed4b-dbc4-4855-b9dd-fcdbb0db79cd",
    "pycharm": {
     "name": "#%%\n"
    }
   },
   "execution_count": null,
   "outputs": [
    {
     "output_type": "stream",
     "name": "stdout",
     "text": [
      "              precision    recall  f1-score   support\n",
      "\n",
      " almost_same       0.60      0.86      0.71      5590\n",
      "    not_same       0.89      0.66      0.75      9410\n",
      "\n",
      "    accuracy                           0.73     15000\n",
      "   macro avg       0.74      0.76      0.73     15000\n",
      "weighted avg       0.78      0.73      0.74     15000\n",
      "\n"
     ]
    }
   ]
  },
  {
   "cell_type": "markdown",
   "metadata": {
    "id": "VXu21c0iQRSC",
    "pycharm": {
     "name": "#%% md\n"
    }
   },
   "source": [
    "# There are many more models you can put to use in 1 line of code!\n",
    "## Checkout [the Modelshub](https://nlp.johnsnowlabs.com/models) and the [NLU Namespace](https://nlu.johnsnowlabs.com/docs/en/spellbook) for more models\n",
    "\n",
    "### NLU Webinars and Video Tutorials\n",
    "- [NLU & Streamlit Tutorial](https://vimeo.com/579508034#)\n",
    "- [Crash course of the 50 + Medical Domains and the 200+ Healtchare models in NLU](https://www.youtube.com/watch?v=gGDsZXt1SF8)\n",
    "- [Multi Lingual NLU Webinar - Tutorial on Chinese News dataset](https://www.youtube.com/watch?v=ftAOqJuxnV4)\n",
    "- [John Snow Labs NLU: Become a Data Science Superhero with One Line of Python code](https://events.johnsnowlabs.com/john-snow-labs-nlu-become-a-data-science-superhero-with-one-line-of-python-code?hsCtaTracking=c659363c-2188-4c86-945f-5cfb7b42fcfc%7C8b2b188b-92a3-48ba-ad7e-073b384425b0)\n",
    "- [Python Web Def Conf - Python's NLU library: 1,000+ Models, 200+ Languages, State of the Art Accuracy, 1 Line of Code](https://2021.pythonwebconf.com/presentations/john-snow-labs-nlu-the-simplicity-of-python-the-power-of-spark-nlp)\n",
    "- [NYC/DC NLP Meetup with NLU](https://youtu.be/hJR9m3NYnwk?t=2155)\n",
    "\n",
    "### More ressources \n",
    "- [Join our Slack](https://join.slack.com/t/spark-nlp/shared_invite/zt-lutct9gm-kuUazcyFKhuGY3_0AMkxqA)\n",
    "- [NLU Website](https://nlu.johnsnowlabs.com/)\n",
    "- [NLU Github](https://github.com/JohnSnowLabs/nlu)\n",
    "- [Many more NLU example tutorials](https://github.com/JohnSnowLabs/nlu/tree/master/examples)\n",
    "- [Overview of every powerful nlu 1-liner](https://nlu.johnsnowlabs.com/docs/en/examples)\n",
    "- [Checkout the Modelshub for an overview of all models](https://nlp.johnsnowlabs.com/models) \n",
    "- [Checkout the NLU Namespace where you can find every model as a tabel](https://nlu.johnsnowlabs.com/docs/en/spellbook)\n",
    "- [Intro to NLU article](https://medium.com/spark-nlp/1-line-of-code-350-nlp-models-with-john-snow-labs-nlu-in-python-2f1c55bba619)\n",
    "- [Indepth and easy Sentence Similarity Tutorial, with StackOverflow Questions using BERTology embeddings](https://medium.com/spark-nlp/easy-sentence-similarity-with-bert-sentence-embeddings-using-john-snow-labs-nlu-ea078deb6ebf)\n",
    "- [1 line of Python code for BERT, ALBERT, ELMO, ELECTRA, XLNET, GLOVE, Part of Speech with NLU and t-SNE](https://medium.com/spark-nlp/1-line-of-code-for-bert-albert-elmo-electra-xlnet-glove-part-of-speech-with-nlu-and-t-sne-9ebcd5379cd)"
   ]
  }
 ]
}
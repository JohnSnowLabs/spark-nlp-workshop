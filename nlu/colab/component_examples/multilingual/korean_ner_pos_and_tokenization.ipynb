{
  "nbformat": 4,
  "nbformat_minor": 0,
  "metadata": {
    "colab": {
      "name": "korean_ner_pos_and_tokenization.ipynb",
      "provenance": [],
      "collapsed_sections": []
    },
    "kernelspec": {
      "name": "python3",
      "display_name": "Python 3"
    }
  },
  "cells": [
    {
      "cell_type": "markdown",
      "metadata": {
        "id": "E6qlUniWPXLL"
      },
      "source": [
        "\n",
        "\n",
        "![JohnSnowLabs](https://nlp.johnsnowlabs.com/assets/images/logo.png)\n",
        "\n",
        "[![Open In Colab](https://colab.research.google.com/assets/colab-badge.svg)](https://colab.research.google.com/github/JohnSnowLabs/nlu/blob/master/examples//colab/component_examples/multilingual/korean_ner_pos_and_tokenization.ipynb.ipynb)\n",
        "\n",
        " \n",
        " # Detect Named Entities (NER), Part of Speech Tags (POS) and Tokenize in Korean"
      ]
    },
    {
      "cell_type": "code",
      "metadata": {
        "id": "NyzSofTuC6Wl"
      },
      "source": [
        "import os\n",
        "! apt-get update -qq > /dev/null   \n",
        "# Install java\n",
        "! apt-get install -y openjdk-8-jdk-headless -qq > /dev/null\n",
        "os.environ[\"JAVA_HOME\"] = \"/usr/lib/jvm/java-8-openjdk-amd64\"\n",
        "os.environ[\"PATH\"] = os.environ[\"JAVA_HOME\"] + \"/bin:\" + os.environ[\"PATH\"]\n",
        "! pip install nlu pyspark==2.4.7 > /dev/null   \n",
        "import nlu\n"
      ],
      "execution_count": 1,
      "outputs": []
    },
    {
      "cell_type": "markdown",
      "metadata": {
        "id": "S_HM_VWcRu5C"
      },
      "source": [
        "# Tokenize in Korean"
      ]
    },
    {
      "cell_type": "code",
      "metadata": {
        "colab": {
          "base_uri": "https://localhost:8080/",
          "height": 316
        },
        "id": "9lKSMrKmCwSa",
        "outputId": "15554fca-ae3c-419d-b477-a89fd77860b0"
      },
      "source": [
        "# Tokenize in Korean\n",
        "import nlu\n",
        "pipe = nlu.load('ko.segment_words')\n",
        "\n",
        "\n",
        "# Korean for 'Asia's economy is booming'\n",
        "ko_data = '아시아 경제는 호황을 누리고 있습니다'\n",
        "\n",
        "df = pipe.predict(ko_data, output_level='token')\n",
        "df"
      ],
      "execution_count": 20,
      "outputs": [
        {
          "output_type": "stream",
          "text": [
            "wordseg_kaist_ud download started this may take some time.\n",
            "Approximate size to download 738.9 KB\n",
            "[OK!]\n"
          ],
          "name": "stdout"
        },
        {
          "output_type": "execute_result",
          "data": {
            "text/html": [
              "<div>\n",
              "<style scoped>\n",
              "    .dataframe tbody tr th:only-of-type {\n",
              "        vertical-align: middle;\n",
              "    }\n",
              "\n",
              "    .dataframe tbody tr th {\n",
              "        vertical-align: top;\n",
              "    }\n",
              "\n",
              "    .dataframe thead th {\n",
              "        text-align: right;\n",
              "    }\n",
              "</style>\n",
              "<table border=\"1\" class=\"dataframe\">\n",
              "  <thead>\n",
              "    <tr style=\"text-align: right;\">\n",
              "      <th></th>\n",
              "      <th>token</th>\n",
              "    </tr>\n",
              "    <tr>\n",
              "      <th>origin_index</th>\n",
              "      <th></th>\n",
              "    </tr>\n",
              "  </thead>\n",
              "  <tbody>\n",
              "    <tr>\n",
              "      <th>0</th>\n",
              "      <td>아시아</td>\n",
              "    </tr>\n",
              "    <tr>\n",
              "      <th>0</th>\n",
              "      <td>경제는</td>\n",
              "    </tr>\n",
              "    <tr>\n",
              "      <th>0</th>\n",
              "      <td>호황을</td>\n",
              "    </tr>\n",
              "    <tr>\n",
              "      <th>0</th>\n",
              "      <td>누리고</td>\n",
              "    </tr>\n",
              "    <tr>\n",
              "      <th>0</th>\n",
              "      <td>있습다</td>\n",
              "    </tr>\n",
              "    <tr>\n",
              "      <th>0</th>\n",
              "      <td>니</td>\n",
              "    </tr>\n",
              "  </tbody>\n",
              "</table>\n",
              "</div>"
            ],
            "text/plain": [
              "             token\n",
              "origin_index      \n",
              "0              아시아\n",
              "0              경제는\n",
              "0              호황을\n",
              "0              누리고\n",
              "0              있습다\n",
              "0                니"
            ]
          },
          "metadata": {
            "tags": []
          },
          "execution_count": 20
        }
      ]
    },
    {
      "cell_type": "markdown",
      "metadata": {
        "id": "WE8CjvFARyJm"
      },
      "source": [
        "# Extract Part of Speech in Korean"
      ]
    },
    {
      "cell_type": "code",
      "metadata": {
        "colab": {
          "base_uri": "https://localhost:8080/",
          "height": 213
        },
        "id": "Hqw6UalyPts-",
        "outputId": "d48f5deb-d0c2-47e4-f5f9-ad473ed9a1a3"
      },
      "source": [
        "# Extract Part of Speech\n",
        "pipe = nlu.load('ko.pos')\n",
        "\n",
        "df = pipe.predict(ko_data, output_level='document')\n",
        "df"
      ],
      "execution_count": 21,
      "outputs": [
        {
          "output_type": "stream",
          "text": [
            "pos_ud_kaist download started this may take some time.\n",
            "Approximate size to download 15.8 MB\n",
            "[OK!]\n",
            "wordseg_kaist_ud download started this may take some time.\n",
            "Approximate size to download 738.9 KB\n",
            "[OK!]\n"
          ],
          "name": "stdout"
        },
        {
          "output_type": "execute_result",
          "data": {
            "text/html": [
              "<div>\n",
              "<style scoped>\n",
              "    .dataframe tbody tr th:only-of-type {\n",
              "        vertical-align: middle;\n",
              "    }\n",
              "\n",
              "    .dataframe tbody tr th {\n",
              "        vertical-align: top;\n",
              "    }\n",
              "\n",
              "    .dataframe thead th {\n",
              "        text-align: right;\n",
              "    }\n",
              "</style>\n",
              "<table border=\"1\" class=\"dataframe\">\n",
              "  <thead>\n",
              "    <tr style=\"text-align: right;\">\n",
              "      <th></th>\n",
              "      <th>pos</th>\n",
              "      <th>document</th>\n",
              "    </tr>\n",
              "    <tr>\n",
              "      <th>origin_index</th>\n",
              "      <th></th>\n",
              "      <th></th>\n",
              "    </tr>\n",
              "  </thead>\n",
              "  <tbody>\n",
              "    <tr>\n",
              "      <th>0</th>\n",
              "      <td>[PROPN, NOUN, NOUN, VERB, AUX, PROPN]</td>\n",
              "      <td>아시아 경제는 호황을 누리고 있습니다</td>\n",
              "    </tr>\n",
              "  </tbody>\n",
              "</table>\n",
              "</div>"
            ],
            "text/plain": [
              "                                                pos              document\n",
              "origin_index                                                             \n",
              "0             [PROPN, NOUN, NOUN, VERB, AUX, PROPN]  아시아 경제는 호황을 누리고 있습니다"
            ]
          },
          "metadata": {
            "tags": []
          },
          "execution_count": 21
        }
      ]
    },
    {
      "cell_type": "markdown",
      "metadata": {
        "id": "KngQezoxR0k5"
      },
      "source": [
        "# Extract Named Entities in Korean"
      ]
    },
    {
      "cell_type": "code",
      "metadata": {
        "colab": {
          "base_uri": "https://localhost:8080/",
          "height": 264
        },
        "id": "Zuc7qS_pDYsG",
        "outputId": "5b21136d-2a6b-4663-9117-5dd1c0772ad0"
      },
      "source": [
        "# Extract named korean entities \n",
        "pipe = nlu.load('ko.ner.kmou.glove_840B_300d')\n",
        "\n",
        "# Since NER requires POS, we can tell NLU to keep the POS results with metadata=True\n",
        "df = pipe.predict(ko_data, output_level='document')\n",
        "df"
      ],
      "execution_count": 22,
      "outputs": [
        {
          "output_type": "stream",
          "text": [
            "ner_kmou_glove_840B_300d download started this may take some time.\n",
            "Approximate size to download 17.1 MB\n",
            "[OK!]\n",
            "wordseg_kaist_ud download started this may take some time.\n",
            "Approximate size to download 738.9 KB\n",
            "[OK!]\n",
            "glove_840B_300 download started this may take some time.\n",
            "Approximate size to download 2.3 GB\n",
            "[OK!]\n"
          ],
          "name": "stdout"
        },
        {
          "output_type": "execute_result",
          "data": {
            "text/html": [
              "<div>\n",
              "<style scoped>\n",
              "    .dataframe tbody tr th:only-of-type {\n",
              "        vertical-align: middle;\n",
              "    }\n",
              "\n",
              "    .dataframe tbody tr th {\n",
              "        vertical-align: top;\n",
              "    }\n",
              "\n",
              "    .dataframe thead th {\n",
              "        text-align: right;\n",
              "    }\n",
              "</style>\n",
              "<table border=\"1\" class=\"dataframe\">\n",
              "  <thead>\n",
              "    <tr style=\"text-align: right;\">\n",
              "      <th></th>\n",
              "      <th>entities</th>\n",
              "      <th>entities_confidence</th>\n",
              "      <th>document</th>\n",
              "      <th>ner_confidence</th>\n",
              "      <th>word_embeddings</th>\n",
              "    </tr>\n",
              "    <tr>\n",
              "      <th>origin_index</th>\n",
              "      <th></th>\n",
              "      <th></th>\n",
              "      <th></th>\n",
              "      <th></th>\n",
              "      <th></th>\n",
              "    </tr>\n",
              "  </thead>\n",
              "  <tbody>\n",
              "    <tr>\n",
              "      <th>0</th>\n",
              "      <td>[아시아, 있습니]</td>\n",
              "      <td>[LC, DT]</td>\n",
              "      <td>아시아 경제는 호황을 누리고 있습니다</td>\n",
              "      <td>[1.0, 1.0, 1.0, 1.0, 0.6022999882698059, 0.728...</td>\n",
              "      <td>[[0.0, 0.0, 0.0, 0.0, 0.0, 0.0, 0.0, 0.0, 0.0,...</td>\n",
              "    </tr>\n",
              "  </tbody>\n",
              "</table>\n",
              "</div>"
            ],
            "text/plain": [
              "                entities  ...                                    word_embeddings\n",
              "origin_index              ...                                                   \n",
              "0             [아시아, 있습니]  ...  [[0.0, 0.0, 0.0, 0.0, 0.0, 0.0, 0.0, 0.0, 0.0,...\n",
              "\n",
              "[1 rows x 5 columns]"
            ]
          },
          "metadata": {
            "tags": []
          },
          "execution_count": 22
        }
      ]
    },
    {
      "cell_type": "code",
      "metadata": {
        "colab": {
          "base_uri": "https://localhost:8080/"
        },
        "id": "nVIQ7eb7OAsS",
        "outputId": "032dd463-cc0f-4f6d-8a10-bf3d323801d9"
      },
      "source": [
        "df.entities"
      ],
      "execution_count": 23,
      "outputs": [
        {
          "output_type": "execute_result",
          "data": {
            "text/plain": [
              "origin_index\n",
              "0    [아시아, 있습니]\n",
              "Name: entities, dtype: object"
            ]
          },
          "metadata": {
            "tags": []
          },
          "execution_count": 23
        }
      ]
    },
    {
      "cell_type": "markdown",
      "metadata": {
        "id": "GQHblvNvR4Zf"
      },
      "source": [
        "# Translate Japanese extracted named entities to English"
      ]
    },
    {
      "cell_type": "code",
      "metadata": {
        "colab": {
          "base_uri": "https://localhost:8080/",
          "height": 162
        },
        "id": "UHyNj4l3GXgn",
        "outputId": "093009a4-37fd-4754-9f51-1cd7d78b15c3"
      },
      "source": [
        "translate_pipe = nlu.load('ko.translate_to.en')\n",
        "en_entities = translate_pipe.predict(df.entities.str.join(' ').values.tolist())\n",
        "en_entities"
      ],
      "execution_count": 24,
      "outputs": [
        {
          "output_type": "stream",
          "text": [
            "translate_ko_en download started this may take some time.\n",
            "Approx size to download 397 MB\n",
            "[OK!]\n"
          ],
          "name": "stdout"
        },
        {
          "output_type": "execute_result",
          "data": {
            "text/html": [
              "<div>\n",
              "<style scoped>\n",
              "    .dataframe tbody tr th:only-of-type {\n",
              "        vertical-align: middle;\n",
              "    }\n",
              "\n",
              "    .dataframe tbody tr th {\n",
              "        vertical-align: top;\n",
              "    }\n",
              "\n",
              "    .dataframe thead th {\n",
              "        text-align: right;\n",
              "    }\n",
              "</style>\n",
              "<table border=\"1\" class=\"dataframe\">\n",
              "  <thead>\n",
              "    <tr style=\"text-align: right;\">\n",
              "      <th></th>\n",
              "      <th>translation</th>\n",
              "      <th>sentence</th>\n",
              "    </tr>\n",
              "    <tr>\n",
              "      <th>origin_index</th>\n",
              "      <th></th>\n",
              "      <th></th>\n",
              "    </tr>\n",
              "  </thead>\n",
              "  <tbody>\n",
              "    <tr>\n",
              "      <th>0</th>\n",
              "      <td>Asia, Asia, Asia, Asia,</td>\n",
              "      <td>아시아 있습니</td>\n",
              "    </tr>\n",
              "  </tbody>\n",
              "</table>\n",
              "</div>"
            ],
            "text/plain": [
              "                          translation sentence\n",
              "origin_index                                  \n",
              "0             Asia, Asia, Asia, Asia,  아시아 있습니"
            ]
          },
          "metadata": {
            "tags": []
          },
          "execution_count": 24
        }
      ]
    },
    {
      "cell_type": "code",
      "metadata": {
        "id": "wnkmr3hv_TdJ"
      },
      "source": [
        ""
      ],
      "execution_count": null,
      "outputs": []
    }
  ]
}
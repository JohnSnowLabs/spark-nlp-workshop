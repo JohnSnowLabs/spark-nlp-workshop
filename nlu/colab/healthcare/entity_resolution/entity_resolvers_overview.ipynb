{
 "cells": [
  {
   "cell_type": "markdown",
   "metadata": {
    "id": "8ZelAXba3D05"
   },
   "source": [
    "![JohnSnowLabs](https://nlp.johnsnowlabs.com/assets/images/logo.png)\n",
    "\n",
    "[![Open In Colab](https://colab.research.google.com/assets/colab-badge.svg)](https://colab.research.google.com/github/JohnSnowLabs/nlu/blob/master/examples/colab/healthcare/entity_resolution/entity_resolvers_overview.ipynb)\n",
    "\n",
    "\n",
    "\n",
    "# Entity Resolution\n",
    "**Named entities** are sub-strings in a text that can be classified into catogires. For example, in the String   \n",
    "`\"Tesla is a great stock to invest  in \"` , the sub-string `\"Tesla\"` is a named entity, it can be classified with the label `company` by an ML algorithm.  \n",
    "**Named entities** can easily be extracted by the various pre-trained Deep Learning based NER algorithms provided by NLU. \n",
    "\n",
    "\n",
    "\n",
    "After extracting **named entities** an **entity resolution algorithm** can be applied to the extracted named entities. The resolution algorithm classifies each extracted entitiy into a class, which reduces dimensionality of the data and has many useful applications. \n",
    "For example : \n",
    "- \"**Tesla** is a great stock to invest in \"\n",
    "- \"**TSLA**  is a great stock to invest  in \"\n",
    "- \"**Tesla, Inc** is a great company to invest in\"    \n",
    "\n",
    "The sub-strings `Tesla` , `TSLA` and `Tesla, Inc` are all named entities, that are classified with the labeld `company` by the NER algorithm. It tells us, all these 3 sub-strings are of type `company`, but we cannot yet infer that these 3 strings are actually referring to literally the same company.    \n",
    "\n",
    "This exact problem is solved by the resolver algorithms, it would resolve all these 3 entities to a common name, like a company ID. This maps every reference of Tesla, regardless of how the string is represented, to the same ID.\n",
    "\n",
    "This example can analogusly be expanded to healthcare any any other text problems. In medical documents, the same disease can be referenced in many different ways. \n",
    "\n",
    "With NLU Healthcare you can leverage state of the art pre-trained NER models to extract **Medical Named Entities** (Diseases, Treatments, Posology, etc..) and **resolve these** to common **healthcare disease codes**.\n",
    "\n",
    "\n",
    "These algorithms are based provided by **Spark NLP for Healthcare's**  [SentenceEntitiyResolver](https://nlp.johnsnowlabs.com/docs/en/licensed_annotators#sentenceentityresolver) and [ChunkEntityResolvers](https://nlp.johnsnowlabs.com/docs/en/licensed_annotators#chunkentityresolver)\n",
    "\n",
    "\n",
    "## Avaiable models\n",
    "\n",
    "\n",
    "\n",
    "\n",
    "\n",
    "\n",
    "All the models avaiable are :\n",
    "\n",
    "\n",
    "| Language | nlu.load() reference                                         | Spark NLP Model reference          |\n",
    "| -------- | ------------------------------------------------------------ | ------------------------------------------------------------ |\n",
    "| English  | embed_sentence.biobert.mli | sbiobert_base_cased_mli          |\n",
    "| English  | resolve | sbiobertresolve_cpt          |\n",
    "| English  | resolve.cpt | sbiobertresolve_cpt          |\n",
    "| English  | resolve.cpt.augmented | sbiobertresolve_cpt_augmented          |\n",
    "| English  | resolve.cpt.procedures_augmented | sbiobertresolve_cpt_procedures_augmented          |\n",
    "| English  | resolve.hcc.augmented | sbiobertresolve_hcc_augmented          |\n",
    "| English  | [resolve.icd10cm](https://nlp.johnsnowlabs.com/2020/11/27/sbiobertresolve_icd10cm_en.html) | [sbiobertresolve_icd10cm](https://nlp.johnsnowlabs.com/2020/11/27/sbiobertresolve_icd10cm_en.html)                   |\n",
    "| English  | [resolve.icd10cm.augmented](https://nlp.johnsnowlabs.com/2020/12/13/sbiobertresolve_icd10cm_augmented_en.html) | [sbiobertresolve_icd10cm_augmented](https://nlp.johnsnowlabs.com/2020/12/13/sbiobertresolve_icd10cm_augmented_en.html)                   |\n",
    "| English  | [resolve.icd10cm.augmented_billable](https://nlp.johnsnowlabs.com/2021/02/06/sbiobertresolve_icd10cm_augmented_billable_hcc_en.html) | [sbiobertresolve_icd10cm_augmented_billable_hcc](https://nlp.johnsnowlabs.com/2021/02/06/sbiobertresolve_icd10cm_augmented_billable_hcc_en.html)                   |\n",
    "| English  | [resolve.icd10pcs](https://nlp.johnsnowlabs.com/2020/11/27/sbiobertresolve_icd10pcs_en.html) | [sbiobertresolve_icd10pcs](https://nlp.johnsnowlabs.com/2020/11/27/sbiobertresolve_icd10pcs_en.html)                   |\n",
    "| English  | [resolve.icdo](https://nlp.johnsnowlabs.com/2020/11/27/sbiobertresolve_icdo_en.html) | [sbiobertresolve_icdo](https://nlp.johnsnowlabs.com/2020/11/27/sbiobertresolve_icdo_en.html)                   |\n",
    "| English  | [resolve.rxcui](https://nlp.johnsnowlabs.com/2020/12/11/sbiobertresolve_rxcui_en.html) | [sbiobertresolve_rxcui](https://nlp.johnsnowlabs.com/2020/12/11/sbiobertresolve_rxcui_en.html)                   |\n",
    "| English  | [resolve.rxnorm](https://nlp.johnsnowlabs.com/2020/11/27/sbiobertresolve_rxnorm_en.html) | [sbiobertresolve_rxnorm](https://nlp.johnsnowlabs.com/2020/11/27/sbiobertresolve_rxnorm_en.html)                   |\n",
    "| English  | [resolve.snomed](https://nlp.johnsnowlabs.com/2020/11/27/sbiobertresolve_snomed_auxConcepts_en.html) | [sbiobertresolve_snomed_auxConcepts](https://nlp.johnsnowlabs.com/2020/11/27/sbiobertresolve_snomed_auxConcepts_en.html)                   |\n",
    "| English  | [resolve.snomed.aux_concepts](https://nlp.johnsnowlabs.com/2020/11/27/sbiobertresolve_snomed_auxConcepts_en.html) | [sbiobertresolve_snomed_auxConcepts](https://nlp.johnsnowlabs.com/2020/11/27/sbiobertresolve_snomed_auxConcepts_en.html)                   |\n",
    "| English  | [resolve.snomed.aux_concepts_int](https://nlp.johnsnowlabs.com/2020/11/27/sbiobertresolve_snomed_auxConcepts_int_en.html) | [sbiobertresolve_snomed_auxConcepts_int](https://nlp.johnsnowlabs.com/2020/11/27/sbiobertresolve_snomed_auxConcepts_int_en.html)                   |\n",
    "| English  | [resolve.snomed.findings](https://nlp.johnsnowlabs.com/2020/11/27/sbiobertresolve_snomed_findings_en.html) | [sbiobertresolve_snomed_findings](https://nlp.johnsnowlabs.com/2020/11/27/sbiobertresolve_snomed_findings_en.html)                   |\n",
    "| English  | [resolve.snomed.findings_int](https://nlp.johnsnowlabs.com/2020/11/27/sbiobertresolve_snomed_findings_int_en.html) | [sbiobertresolve_snomed_findings_int](https://nlp.johnsnowlabs.com/2020/11/27/sbiobertresolve_snomed_findings_int_en.html)                   |\n"
   ]
  },
  {
   "cell_type": "code",
   "execution_count": null,
   "metadata": {
    "colab": {
     "base_uri": "https://localhost:8080/"
    },
    "executionInfo": {
     "elapsed": 183665,
     "status": "ok",
     "timestamp": 1649994832035,
     "user": {
      "displayName": "ahmed lone",
      "userId": "02458088882398909889"
     },
     "user_tz": -300
    },
    "id": "OMiHjCtQhF_r",
    "outputId": "4d631ee8-4478-4aab-d481-fea89ee6a07e"
   },
   "outputs": [],
   "source": [
    "%%capture\n",
    "# # Install NLU\n",
    "# # Upload add your spark_nlp_fo\"r_healthcare.json\n",
    "!wget http://setup.johnsnowlabs.com/nlu/colab.sh -O - | bash\n",
    "import nlu"
   ]
  },
  {
   "cell_type": "markdown",
   "metadata": {
    "id": "kbnlNAw_W3Qj"
   },
   "source": [
    "#### [Athena Conditions Entity Resolver (Healthcare)](https://nlp.johnsnowlabs.com/2020/09/16/chunkresolve_athena_conditions_healthcare_en.html)"
   ]
  },
  {
   "cell_type": "code",
   "execution_count": 2,
   "metadata": {
    "colab": {
     "base_uri": "https://localhost:8080/",
     "height": 484
    },
    "executionInfo": {
     "elapsed": 24984,
     "status": "error",
     "timestamp": 1649994857006,
     "user": {
      "displayName": "ahmed lone",
      "userId": "02458088882398909889"
     },
     "user_tz": -300
    },
    "id": "n7zbAt-SW3Eh",
    "outputId": "6a6db16b-3967-4e8c-a557-865e5410fc0a"
   },
   "outputs": [
    {
     "name": "stdout",
     "output_type": "stream",
     "text": [
      "ner_wikiner_glove_840B_300 download started this may take some time.\n",
      "Approximate size to download 14.8 MB\n",
      "[OK!]\n"
     ]
    },
    {
     "ename": "Exception",
     "evalue": "ignored",
     "output_type": "error",
     "traceback": [
      "\u001b[0;31m---------------------------------------------------------------------------\u001b[0m",
      "\u001b[0;31mKeyError\u001b[0m                                  Traceback (most recent call last)",
      "\u001b[0;32m/usr/local/lib/python3.7/dist-packages/nlu/__init__.py\u001b[0m in \u001b[0;36mload\u001b[0;34m(request, path, verbose, gpu, streamlit_caching)\u001b[0m\n\u001b[1;32m     95\u001b[0m                 \u001b[0;32mcontinue\u001b[0m\u001b[0;34m\u001b[0m\u001b[0;34m\u001b[0m\u001b[0m\n\u001b[0;32m---> 96\u001b[0;31m             \u001b[0mnlu_component\u001b[0m \u001b[0;34m=\u001b[0m \u001b[0mnlu_ref_to_component\u001b[0m\u001b[0;34m(\u001b[0m\u001b[0mnlu_ref\u001b[0m\u001b[0;34m)\u001b[0m\u001b[0;34m\u001b[0m\u001b[0;34m\u001b[0m\u001b[0m\n\u001b[0m\u001b[1;32m     97\u001b[0m             \u001b[0;31m# if we get a list of components, then the NLU reference is a pipeline, we do not need to check order\u001b[0m\u001b[0;34m\u001b[0m\u001b[0;34m\u001b[0m\u001b[0;34m\u001b[0m\u001b[0m\n",
      "\u001b[0;32m/usr/local/lib/python3.7/dist-packages/nlu/pipe/component_resolution.py\u001b[0m in \u001b[0;36mnlu_ref_to_component\u001b[0;34m(nlu_ref, detect_lang, authenticated)\u001b[0m\n\u001b[1;32m    155\u001b[0m     \u001b[0;32melse\u001b[0m\u001b[0;34m:\u001b[0m\u001b[0;34m\u001b[0m\u001b[0;34m\u001b[0m\u001b[0m\n\u001b[0;32m--> 156\u001b[0;31m         \u001b[0mresolved_component\u001b[0m \u001b[0;34m=\u001b[0m \u001b[0mget_trained_component_for_nlp_model_ref\u001b[0m\u001b[0;34m(\u001b[0m\u001b[0mlang\u001b[0m\u001b[0;34m,\u001b[0m \u001b[0mnlu_ref\u001b[0m\u001b[0;34m,\u001b[0m \u001b[0mnlp_ref\u001b[0m\u001b[0;34m,\u001b[0m \u001b[0mlicense_type\u001b[0m\u001b[0;34m,\u001b[0m \u001b[0mmodel_params\u001b[0m\u001b[0;34m)\u001b[0m\u001b[0;34m\u001b[0m\u001b[0;34m\u001b[0m\u001b[0m\n\u001b[0m\u001b[1;32m    157\u001b[0m \u001b[0;34m\u001b[0m\u001b[0m\n",
      "\u001b[0;32m/usr/local/lib/python3.7/dist-packages/nlu/pipe/component_resolution.py\u001b[0m in \u001b[0;36mget_trained_component_for_nlp_model_ref\u001b[0;34m(lang, nlu_ref, nlp_ref, license_type, model_configs)\u001b[0m\n\u001b[1;32m    218\u001b[0m                                             model_configs: Optional[Dict[str, any]] = None) -> NluComponent:\n\u001b[0;32m--> 219\u001b[0;31m     \u001b[0manno_class\u001b[0m \u001b[0;34m=\u001b[0m \u001b[0mSpellbook\u001b[0m\u001b[0;34m.\u001b[0m\u001b[0mnlp_ref_to_anno_class\u001b[0m\u001b[0;34m[\u001b[0m\u001b[0mnlp_ref\u001b[0m\u001b[0;34m]\u001b[0m\u001b[0;34m\u001b[0m\u001b[0;34m\u001b[0m\u001b[0m\n\u001b[0m\u001b[1;32m    220\u001b[0m     \u001b[0mcomponent\u001b[0m \u001b[0;34m=\u001b[0m \u001b[0manno_class_to_empty_component\u001b[0m\u001b[0;34m(\u001b[0m\u001b[0manno_class\u001b[0m\u001b[0;34m)\u001b[0m\u001b[0;34m\u001b[0m\u001b[0;34m\u001b[0m\u001b[0m\n",
      "\u001b[0;31mKeyError\u001b[0m: None",
      "\nDuring handling of the above exception, another exception occurred:\n",
      "\u001b[0;31mException\u001b[0m                                 Traceback (most recent call last)",
      "\u001b[0;32m<ipython-input-2-1400222809d8>\u001b[0m in \u001b[0;36m<module>\u001b[0;34m()\u001b[0m\n\u001b[1;32m      1\u001b[0m \u001b[0mdata\u001b[0m \u001b[0;34m=\u001b[0m\u001b[0;34m\"\"\"The patient is a 5-month-old infant who presented initially on Monday with a cold, cough, and runny nose for 2 days. Mom states she had no fever. Her appetite was good but she was spitting up a lot. She had no difficulty breathing and her cough was described as dry and hacky. At that time, physical exam showed a right TM, which was red. Left TM was okay. She was fairly congested but looked happy and playful. She was started on Amoxil and Aldex and we told to recheck in 2 weeks to recheck her ear. Mom returned to clinic again today because she got much worse overnight. She was having difficulty breathing. She was much more congested and her appetite had decreased significantly today. She also spiked a temperature yesterday of 102.6 and always having trouble sleeping secondary to congestion.\"\"\"\u001b[0m\u001b[0;34m\u001b[0m\u001b[0;34m\u001b[0m\u001b[0m\n\u001b[0;32m----> 2\u001b[0;31m \u001b[0mnlu\u001b[0m\u001b[0;34m.\u001b[0m\u001b[0mload\u001b[0m\u001b[0;34m(\u001b[0m\u001b[0;34m'med_ner.jsl.wip.clinical en.resolve_chunk.cpt_clinical'\u001b[0m\u001b[0;34m)\u001b[0m\u001b[0;34m.\u001b[0m\u001b[0mpredict\u001b[0m\u001b[0;34m(\u001b[0m\u001b[0mdata\u001b[0m\u001b[0;34m,\u001b[0m \u001b[0moutput_level\u001b[0m\u001b[0;34m=\u001b[0m\u001b[0;34m'chunk'\u001b[0m\u001b[0;34m)\u001b[0m\u001b[0;34m\u001b[0m\u001b[0;34m\u001b[0m\u001b[0m\n\u001b[0m",
      "\u001b[0;32m/usr/local/lib/python3.7/dist-packages/nlu/__init__.py\u001b[0m in \u001b[0;36mload\u001b[0;34m(request, path, verbose, gpu, streamlit_caching)\u001b[0m\n\u001b[1;32m    109\u001b[0m             \u001b[0mprint\u001b[0m\u001b[0;34m(\u001b[0m\u001b[0merr\u001b[0m\u001b[0;34m)\u001b[0m\u001b[0;34m\u001b[0m\u001b[0;34m\u001b[0m\u001b[0m\n\u001b[1;32m    110\u001b[0m         raise Exception(\n\u001b[0;32m--> 111\u001b[0;31m             f\"Something went wrong during creating the Spark NLP model for your request =  {request} Did you use a NLU Spell?\")\n\u001b[0m\u001b[1;32m    112\u001b[0m     \u001b[0;31m# Complete Spark NLP Pipeline, which is defined as a DAG given by the starting Annotators\u001b[0m\u001b[0;34m\u001b[0m\u001b[0;34m\u001b[0m\u001b[0;34m\u001b[0m\u001b[0m\n\u001b[1;32m    113\u001b[0m     \u001b[0;32mtry\u001b[0m\u001b[0;34m:\u001b[0m\u001b[0;34m\u001b[0m\u001b[0;34m\u001b[0m\u001b[0m\n",
      "\u001b[0;31mException\u001b[0m: Something went wrong during creating the Spark NLP model for your request =  med_ner.jsl.wip.clinical en.resolve_chunk.cpt_clinical Did you use a NLU Spell?"
     ]
    }
   ],
   "source": [
    "data =\"\"\"The patient is a 5-month-old infant who presented initially on Monday with a cold, cough, and runny nose for 2 days. Mom states she had no fever. Her appetite was good but she was spitting up a lot. She had no difficulty breathing and her cough was described as dry and hacky. At that time, physical exam showed a right TM, which was red. Left TM was okay. She was fairly congested but looked happy and playful. She was started on Amoxil and Aldex and we told to recheck in 2 weeks to recheck her ear. Mom returned to clinic again today because she got much worse overnight. She was having difficulty breathing. She was much more congested and her appetite had decreased significantly today. She also spiked a temperature yesterday of 102.6 and always having trouble sleeping secondary to congestion.\"\"\"\n",
    "nlu.load('med_ner.jsl.wip.clinical en.resolve_chunk.cpt_clinical').predict(data, output_level='chunk')"
   ]
  },
  {
   "cell_type": "markdown",
   "metadata": {
    "id": "rSUTBWKi6Hb-"
   },
   "source": [
    "#### [Sentence Entity Resolver for ICD10-CM (sbiobert_base_cased_mli embeddings)](https://nlp.johnsnowlabs.com/2020/11/27/sbiobertresolve_icd10cm_en.html)"
   ]
  },
  {
   "cell_type": "code",
   "execution_count": null,
   "metadata": {
    "executionInfo": {
     "elapsed": 28,
     "status": "aborted",
     "timestamp": 1649994857000,
     "user": {
      "displayName": "ahmed lone",
      "userId": "02458088882398909889"
     },
     "user_tz": -300
    },
    "id": "emvKNnXE6HBv"
   },
   "outputs": [],
   "source": [
    "nlu.load(\"med_ner.jsl.wip.clinical en.resolve.icd10cm\").predict(\"\"\"This is an 82 - year-old male with a history of prior tobacco use , hypertension , chronic renal insufficiency , COPD ,\n",
    "gastritis , and TIA who initially presented to Braintree with a non-ST elevation MI and Guaiac positive stools , transferred to St . Margaret\\'s Center for Women & Infants for cardiac\n",
    "catheterization with PTCA to mid LAD lesion complicated by hypotension and bradycardia requiring Atropine , IV fluids and transient dopamine possibly secondary to vagal reaction , \n",
    "subsequently transferred to CCU for close monitoring , hemodynamically stable at the time of admission to the CCU .\"\"\",output_level =  \"sentence\")"
   ]
  },
  {
   "cell_type": "markdown",
   "metadata": {
    "id": "GlKDEOCrG13g"
   },
   "source": [
    "#### [Sentence Entity Resolver for ICD10-PCS (sbiobert_base_cased_mli embeddings)](https://nlp.johnsnowlabs.com/2020/11/27/sbiobertresolve_icd10pcs_en.html)"
   ]
  },
  {
   "cell_type": "code",
   "execution_count": null,
   "metadata": {
    "executionInfo": {
     "elapsed": 29,
     "status": "aborted",
     "timestamp": 1649994857001,
     "user": {
      "displayName": "ahmed lone",
      "userId": "02458088882398909889"
     },
     "user_tz": -300
    },
    "id": "AQjiCfFQG13h"
   },
   "outputs": [],
   "source": [
    "nlu.load(\"med_ner.jsl.wip.clinical en.resolve.icd10pcs\").predict(\"\"\"This is an 82 - year-old male with a history of prior tobacco use , hypertension , chronic renal insufficiency , COPD ,\n",
    "gastritis , and TIA who initially presented to Braintree with a non-ST elevation MI and Guaiac positive stools , transferred to St . Margaret\\'s Center for Women & Infants for cardiac\n",
    "catheterization with PTCA to mid LAD lesion complicated by hypotension and bradycardia requiring Atropine , IV fluids and transient dopamine possibly secondary to vagal reaction , \n",
    "subsequently transferred to CCU for close monitoring , hemodynamically stable at the time of admission to the CCU .\"\"\",output_level =  \"sentence\")"
   ]
  },
  {
   "cell_type": "markdown",
   "metadata": {
    "id": "lMep62x_G2AS"
   },
   "source": [
    "#### [Sentence Entity Resolver for RxCUI (sbiobert_base_cased_mli embeddings)](https://nlp.johnsnowlabs.com/2020/12/11/sbiobertresolve_rxcui_en.html)"
   ]
  },
  {
   "cell_type": "code",
   "execution_count": null,
   "metadata": {
    "executionInfo": {
     "elapsed": 30,
     "status": "aborted",
     "timestamp": 1649994857002,
     "user": {
      "displayName": "ahmed lone",
      "userId": "02458088882398909889"
     },
     "user_tz": -300
    },
    "id": "i4Jaj97KG2AT"
   },
   "outputs": [],
   "source": [
    "nlu.load(\"med_ner.jsl.wip.clinical en.resolve.rxcui\").predict(\"He was seen by the endocrinology service and she was discharged on 50 mg of eltrombopag oral at night, 5 mg amlodipine with meals, and metformin 1000 mg two times a day\",output_level =  \"sentence\")"
   ]
  },
  {
   "cell_type": "markdown",
   "metadata": {
    "id": "vifO7xR_LOhj"
   },
   "source": [
    "#### [Sentence Entity Resolver for RxNorm (sbiobert_base_cased_mli embeddings)](https://nlp.johnsnowlabs.com/2020/11/27/sbiobertresolve_rxnorm_en.html)"
   ]
  },
  {
   "cell_type": "code",
   "execution_count": null,
   "metadata": {
    "executionInfo": {
     "elapsed": 29,
     "status": "aborted",
     "timestamp": 1649994857002,
     "user": {
      "displayName": "ahmed lone",
      "userId": "02458088882398909889"
     },
     "user_tz": -300
    },
    "id": "m8cBuMRsLOhu"
   },
   "outputs": [],
   "source": [
    "import nlu\n",
    "nlu.load(\"med_ner.jsl.wip.clinical en.resolve.rxnorm\").predict(\"\"\"This is an 82 - year-old male with a history of prior tobacco use , hypertension , chronic renal insufficiency , COPD ,\n",
    "gastritis , and TIA who initially presented to Braintree with a non-ST elevation MI and Guaiac positive stools , transferred to St . Margaret\\'s Center for Women & Infants for cardiac\n",
    "catheterization with PTCA to mid LAD lesion complicated by hypotension and bradycardia requiring Atropine , IV fluids and transient dopamine possibly secondary to vagal reaction , \n",
    "subsequently transferred to CCU for close monitoring , hemodynamically stable at the time of admission to the CCU .\"\"\",output_level =  \"sentence\")"
   ]
  },
  {
   "cell_type": "markdown",
   "metadata": {
    "id": "c4y2ZMaeLOro"
   },
   "source": [
    "#### [Sentence Entity Resolver for Snomed Concepts, INT version (sbiobert_base_cased_mli embeddings)](https://nlp.johnsnowlabs.com/2020/11/27/sbiobertresolve_snomed_findings_int_en.html)"
   ]
  },
  {
   "cell_type": "code",
   "execution_count": null,
   "metadata": {
    "executionInfo": {
     "elapsed": 30,
     "status": "aborted",
     "timestamp": 1649994857003,
     "user": {
      "displayName": "ahmed lone",
      "userId": "02458088882398909889"
     },
     "user_tz": -300
    },
    "id": "XRmbCMNULOrq"
   },
   "outputs": [],
   "source": [
    "nlu.load(\"med_ner.jsl.wip.clinical en.resolve.snomed.findings_int\").predict(\"\"\"This is an 82 - year-old male with a history of prior tobacco use , hypertension , chronic renal insufficiency , COPD ,\n",
    "gastritis , and TIA who initially presented to Braintree with a non-ST elevation MI and Guaiac positive stools , transferred to St . Margaret\\'s Center for Women & Infants for cardiac\n",
    "catheterization with PTCA to mid LAD lesion complicated by hypotension and bradycardia requiring Atropine , IV fluids and transient dopamine possibly secondary to vagal reaction , \n",
    "subsequently transferred to CCU for close monitoring , hemodynamically stable at the time of admission to the CCU .\"\"\",output_level =  \"sentence\")"
   ]
  },
  {
   "cell_type": "code",
   "execution_count": null,
   "metadata": {
    "executionInfo": {
     "elapsed": 32,
     "status": "aborted",
     "timestamp": 1649994857005,
     "user": {
      "displayName": "ahmed lone",
      "userId": "02458088882398909889"
     },
     "user_tz": -300
    },
    "id": "f_mvF_EQj86x"
   },
   "outputs": [],
   "source": [
    "  "
   ]
  }
 ],
 "metadata": {
  "colab": {
   "collapsed_sections": [],
   "name": "entity_resolvers_overview.ipynb",
   "provenance": []
  },
  "kernelspec": {
   "display_name": "Python 3 (ipykernel)",
   "language": "python",
   "name": "python3"
  },
  "language_info": {
   "codemirror_mode": {
    "name": "ipython",
    "version": 3
   },
   "file_extension": ".py",
   "mimetype": "text/x-python",
   "name": "python",
   "nbconvert_exporter": "python",
   "pygments_lexer": "ipython3",
   "version": "3.7.5"
  }
 },
 "nbformat": 4,
 "nbformat_minor": 4
}

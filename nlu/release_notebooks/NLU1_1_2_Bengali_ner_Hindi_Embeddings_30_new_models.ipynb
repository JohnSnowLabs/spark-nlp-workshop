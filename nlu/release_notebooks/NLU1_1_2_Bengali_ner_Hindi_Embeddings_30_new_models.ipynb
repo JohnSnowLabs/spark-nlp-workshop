{
  "nbformat": 4,
  "nbformat_minor": 0,
  "metadata": {
    "colab": {
      "name": "NLU1.1.2_Bengali_ner_Hindi_Embeddings_30_new_models.ipynb",
      "provenance": [],
      "collapsed_sections": []
    },
    "kernelspec": {
      "name": "python3",
      "display_name": "Python 3"
    }
  },
  "cells": [
    {
      "cell_type": "markdown",
      "metadata": {
        "id": "ZZLszdjiZ_N5"
      },
      "source": [
        "![JohnSnowLabs](https://nlp.johnsnowlabs.com/assets/images/logo.png)\n",
        "\n",
        "[![Open In Colab](https://colab.research.google.com/assets/colab-badge.svg)](https://colab.research.google.com/github/JohnSnowLabs/nlu/blob/master/examples/release_notebooks/NLU1.1.2_Bengali_ner_Hindi_Embeddings_30_new_models.ipynb)"
      ]
    },
    {
      "cell_type": "code",
      "metadata": {
        "id": "KSWCUsDHevFY"
      },
      "source": [
        "import os\r\n",
        "from sklearn.metrics import classification_report\r\n",
        "! apt-get update -qq > /dev/null   \r\n",
        "# Install java\r\n",
        "! apt-get install -y openjdk-8-jdk-headless -qq > /dev/null\r\n",
        "os.environ[\"JAVA_HOME\"] = \"/usr/lib/jvm/java-8-openjdk-amd64\"\r\n",
        "os.environ[\"PATH\"] = os.environ[\"JAVA_HOME\"] + \"/bin:\" + os.environ[\"PATH\"]\r\n",
        "! pip install nlu  pyspark==2.4.7 > /dev/null \r\n",
        "import nlu\r\n",
        "import pandas as pd"
      ],
      "execution_count": null,
      "outputs": []
    },
    {
      "cell_type": "markdown",
      "metadata": {
        "id": "e5pI7niYZjuU"
      },
      "source": [
        "#### [Named Entity Recognition for Bengali (GloVe 840B 300d)](https://nlp.johnsnowlabs.com/2021/01/27/ner_jifs_glove_840B_300d_bn.html)\r\n"
      ]
    },
    {
      "cell_type": "code",
      "metadata": {
        "colab": {
          "base_uri": "https://localhost:8080/",
          "height": 627
        },
        "id": "1d1ztz0KM9LU",
        "outputId": "8f0dd289-139d-47b5-e2af-4ddec2439ca0"
      },
      "source": [
        "#Bengali for :  It began to be widely used in the United States in the early '90s.\r\n",
        "\r\n",
        "nlu.load(\"bn.ner\").predict(\"৯০ এর দশকের শুরুর দিকে বৃহৎ আকারে মার্কিন যুক্তরাষ্ট্রে এর প্রয়োগের প্রক্রিয়া শুরু হয়'\")"
      ],
      "execution_count": null,
      "outputs": [
        {
          "output_type": "stream",
          "text": [
            "ner_jifs_glove_840B_300d download started this may take some time.\n",
            "Approximate size to download 16.7 MB\n",
            "[OK!]\n",
            "glove_840B_300 download started this may take some time.\n",
            "Approximate size to download 2.3 GB\n",
            "[OK!]\n"
          ],
          "name": "stdout"
        },
        {
          "output_type": "execute_result",
          "data": {
            "text/html": [
              "<div>\n",
              "<style scoped>\n",
              "    .dataframe tbody tr th:only-of-type {\n",
              "        vertical-align: middle;\n",
              "    }\n",
              "\n",
              "    .dataframe tbody tr th {\n",
              "        vertical-align: top;\n",
              "    }\n",
              "\n",
              "    .dataframe thead th {\n",
              "        text-align: right;\n",
              "    }\n",
              "</style>\n",
              "<table border=\"1\" class=\"dataframe\">\n",
              "  <thead>\n",
              "    <tr style=\"text-align: right;\">\n",
              "      <th></th>\n",
              "      <th>entities</th>\n",
              "      <th>ner_confidence</th>\n",
              "      <th>token</th>\n",
              "      <th>word_embeddings</th>\n",
              "      <th>entities_confidence</th>\n",
              "    </tr>\n",
              "    <tr>\n",
              "      <th>origin_index</th>\n",
              "      <th></th>\n",
              "      <th></th>\n",
              "      <th></th>\n",
              "      <th></th>\n",
              "      <th></th>\n",
              "    </tr>\n",
              "  </thead>\n",
              "  <tbody>\n",
              "    <tr>\n",
              "      <th>0</th>\n",
              "      <td>[মার্কিন যুক্তরাষ্ট্রে]</td>\n",
              "      <td>1.000000</td>\n",
              "      <td>৯০</td>\n",
              "      <td>[0.0, 0.0, 0.0, 0.0, 0.0, 0.0, 0.0, 0.0, 0.0, ...</td>\n",
              "      <td>[LOC]</td>\n",
              "    </tr>\n",
              "    <tr>\n",
              "      <th>0</th>\n",
              "      <td>[মার্কিন যুক্তরাষ্ট্রে]</td>\n",
              "      <td>0.999900</td>\n",
              "      <td>এর</td>\n",
              "      <td>[0.0, 0.0, 0.0, 0.0, 0.0, 0.0, 0.0, 0.0, 0.0, ...</td>\n",
              "      <td>[LOC]</td>\n",
              "    </tr>\n",
              "    <tr>\n",
              "      <th>0</th>\n",
              "      <td>[মার্কিন যুক্তরাষ্ট্রে]</td>\n",
              "      <td>1.000000</td>\n",
              "      <td>দশকের</td>\n",
              "      <td>[0.0, 0.0, 0.0, 0.0, 0.0, 0.0, 0.0, 0.0, 0.0, ...</td>\n",
              "      <td>[LOC]</td>\n",
              "    </tr>\n",
              "    <tr>\n",
              "      <th>0</th>\n",
              "      <td>[মার্কিন যুক্তরাষ্ট্রে]</td>\n",
              "      <td>0.996900</td>\n",
              "      <td>শুরুর</td>\n",
              "      <td>[0.0, 0.0, 0.0, 0.0, 0.0, 0.0, 0.0, 0.0, 0.0, ...</td>\n",
              "      <td>[LOC]</td>\n",
              "    </tr>\n",
              "    <tr>\n",
              "      <th>0</th>\n",
              "      <td>[মার্কিন যুক্তরাষ্ট্রে]</td>\n",
              "      <td>1.000000</td>\n",
              "      <td>দিকে</td>\n",
              "      <td>[0.0, 0.0, 0.0, 0.0, 0.0, 0.0, 0.0, 0.0, 0.0, ...</td>\n",
              "      <td>[LOC]</td>\n",
              "    </tr>\n",
              "    <tr>\n",
              "      <th>0</th>\n",
              "      <td>[মার্কিন যুক্তরাষ্ট্রে]</td>\n",
              "      <td>0.999400</td>\n",
              "      <td>বৃহৎ</td>\n",
              "      <td>[0.0, 0.0, 0.0, 0.0, 0.0, 0.0, 0.0, 0.0, 0.0, ...</td>\n",
              "      <td>[LOC]</td>\n",
              "    </tr>\n",
              "    <tr>\n",
              "      <th>0</th>\n",
              "      <td>[মার্কিন যুক্তরাষ্ট্রে]</td>\n",
              "      <td>1.000000</td>\n",
              "      <td>আকারে</td>\n",
              "      <td>[0.0, 0.0, 0.0, 0.0, 0.0, 0.0, 0.0, 0.0, 0.0, ...</td>\n",
              "      <td>[LOC]</td>\n",
              "    </tr>\n",
              "    <tr>\n",
              "      <th>0</th>\n",
              "      <td>[মার্কিন যুক্তরাষ্ট্রে]</td>\n",
              "      <td>0.960200</td>\n",
              "      <td>মার্কিন</td>\n",
              "      <td>[0.0, 0.0, 0.0, 0.0, 0.0, 0.0, 0.0, 0.0, 0.0, ...</td>\n",
              "      <td>[LOC]</td>\n",
              "    </tr>\n",
              "    <tr>\n",
              "      <th>0</th>\n",
              "      <td>[মার্কিন যুক্তরাষ্ট্রে]</td>\n",
              "      <td>0.413400</td>\n",
              "      <td>যুক্তরাষ্ট্রে</td>\n",
              "      <td>[0.0, 0.0, 0.0, 0.0, 0.0, 0.0, 0.0, 0.0, 0.0, ...</td>\n",
              "      <td>[LOC]</td>\n",
              "    </tr>\n",
              "    <tr>\n",
              "      <th>0</th>\n",
              "      <td>[মার্কিন যুক্তরাষ্ট্রে]</td>\n",
              "      <td>1.000000</td>\n",
              "      <td>এর</td>\n",
              "      <td>[0.0, 0.0, 0.0, 0.0, 0.0, 0.0, 0.0, 0.0, 0.0, ...</td>\n",
              "      <td>[LOC]</td>\n",
              "    </tr>\n",
              "    <tr>\n",
              "      <th>0</th>\n",
              "      <td>[মার্কিন যুক্তরাষ্ট্রে]</td>\n",
              "      <td>1.000000</td>\n",
              "      <td>প্রয়োগের</td>\n",
              "      <td>[0.0, 0.0, 0.0, 0.0, 0.0, 0.0, 0.0, 0.0, 0.0, ...</td>\n",
              "      <td>[LOC]</td>\n",
              "    </tr>\n",
              "    <tr>\n",
              "      <th>0</th>\n",
              "      <td>[মার্কিন যুক্তরাষ্ট্রে]</td>\n",
              "      <td>1.000000</td>\n",
              "      <td>প্রক্রিয়া</td>\n",
              "      <td>[0.0, 0.0, 0.0, 0.0, 0.0, 0.0, 0.0, 0.0, 0.0, ...</td>\n",
              "      <td>[LOC]</td>\n",
              "    </tr>\n",
              "    <tr>\n",
              "      <th>0</th>\n",
              "      <td>[মার্কিন যুক্তরাষ্ট্রে]</td>\n",
              "      <td>0.999900</td>\n",
              "      <td>শুরু</td>\n",
              "      <td>[0.0, 0.0, 0.0, 0.0, 0.0, 0.0, 0.0, 0.0, 0.0, ...</td>\n",
              "      <td>[LOC]</td>\n",
              "    </tr>\n",
              "    <tr>\n",
              "      <th>0</th>\n",
              "      <td>[মার্কিন যুক্তরাষ্ট্রে]</td>\n",
              "      <td>1.000000</td>\n",
              "      <td>হয়</td>\n",
              "      <td>[0.0, 0.0, 0.0, 0.0, 0.0, 0.0, 0.0, 0.0, 0.0, ...</td>\n",
              "      <td>[LOC]</td>\n",
              "    </tr>\n",
              "    <tr>\n",
              "      <th>0</th>\n",
              "      <td>[মার্কিন যুক্তরাষ্ট্রে]</td>\n",
              "      <td>1.000000</td>\n",
              "      <td>'</td>\n",
              "      <td>[-0.2626200020313263, 0.5424500107765198, 0.07...</td>\n",
              "      <td>[LOC]</td>\n",
              "    </tr>\n",
              "  </tbody>\n",
              "</table>\n",
              "</div>"
            ],
            "text/plain": [
              "                             entities  ... entities_confidence\n",
              "origin_index                           ...                    \n",
              "0             [মার্কিন যুক্তরাষ্ট্রে]  ...               [LOC]\n",
              "0             [মার্কিন যুক্তরাষ্ট্রে]  ...               [LOC]\n",
              "0             [মার্কিন যুক্তরাষ্ট্রে]  ...               [LOC]\n",
              "0             [মার্কিন যুক্তরাষ্ট্রে]  ...               [LOC]\n",
              "0             [মার্কিন যুক্তরাষ্ট্রে]  ...               [LOC]\n",
              "0             [মার্কিন যুক্তরাষ্ট্রে]  ...               [LOC]\n",
              "0             [মার্কিন যুক্তরাষ্ট্রে]  ...               [LOC]\n",
              "0             [মার্কিন যুক্তরাষ্ট্রে]  ...               [LOC]\n",
              "0             [মার্কিন যুক্তরাষ্ট্রে]  ...               [LOC]\n",
              "0             [মার্কিন যুক্তরাষ্ট্রে]  ...               [LOC]\n",
              "0             [মার্কিন যুক্তরাষ্ট্রে]  ...               [LOC]\n",
              "0             [মার্কিন যুক্তরাষ্ট্রে]  ...               [LOC]\n",
              "0             [মার্কিন যুক্তরাষ্ট্রে]  ...               [LOC]\n",
              "0             [মার্কিন যুক্তরাষ্ট্রে]  ...               [LOC]\n",
              "0             [মার্কিন যুক্তরাষ্ট্রে]  ...               [LOC]\n",
              "\n",
              "[15 rows x 5 columns]"
            ]
          },
          "metadata": {
            "tags": []
          },
          "execution_count": 53
        }
      ]
    },
    {
      "cell_type": "markdown",
      "metadata": {
        "id": "Qyx1e-iWaIlF"
      },
      "source": [
        "#### [Bengali Lemmatizer](https://nlp.johnsnowlabs.com/2021/01/20/lemma_bn.html)\r\n"
      ]
    },
    {
      "cell_type": "code",
      "metadata": {
        "colab": {
          "base_uri": "https://localhost:8080/",
          "height": 157
        },
        "id": "HR8j_w3KZ0X-",
        "outputId": "7bd90bb5-e3fa-435b-c7fc-a7b1a8a8dc4c"
      },
      "source": [
        "#Bengali for :  One morning in the marble-decorated building of Vaidyanatha, an obese monk was engaged in the enchantment of Duis and the milk service of one and a half Vaidyanatha. Give me two to eat\r\n",
        "nlu.load(\"bn.lemma\").predict(\"একদিন প্রাতে বৈদ্যনাথের মার্বলমণ্ডিত দালানে একটি স্থূলোদর সন্ন্যাসী দুইসের মোহনভোগ এবং দেড়সের দুগ্ধ সেবায় নিযুক্ত আছে বৈদ্যনাথ গায়ে একখানি চাদর দিয়া জোড়করে একান্ত বিনীতভাবে ভূতলে বসিয়া ভক্তিভরে পবিত্র ভোজনব্যাপার নিরীক্ষণ করিতেছিলেন এমন সময় কোনোমতে দ্বারীদের দৃষ্টি এড়াইয়া জীর্ণদেহ বালক সহিত একটি অতি শীর্ণকায়া রমণী গৃহে প্রবেশ করিয়া ক্ষীণস্বরে কহিল বাবু দুটি খেতে দাও\")"
      ],
      "execution_count": null,
      "outputs": [
        {
          "output_type": "stream",
          "text": [
            "lemma download started this may take some time.\n",
            "Approximate size to download 90.6 KB\n",
            "[OK!]\n"
          ],
          "name": "stdout"
        },
        {
          "output_type": "execute_result",
          "data": {
            "text/html": [
              "<div>\n",
              "<style scoped>\n",
              "    .dataframe tbody tr th:only-of-type {\n",
              "        vertical-align: middle;\n",
              "    }\n",
              "\n",
              "    .dataframe tbody tr th {\n",
              "        vertical-align: top;\n",
              "    }\n",
              "\n",
              "    .dataframe thead th {\n",
              "        text-align: right;\n",
              "    }\n",
              "</style>\n",
              "<table border=\"1\" class=\"dataframe\">\n",
              "  <thead>\n",
              "    <tr style=\"text-align: right;\">\n",
              "      <th></th>\n",
              "      <th>lemma</th>\n",
              "      <th>document</th>\n",
              "    </tr>\n",
              "    <tr>\n",
              "      <th>origin_index</th>\n",
              "      <th></th>\n",
              "      <th></th>\n",
              "    </tr>\n",
              "  </thead>\n",
              "  <tbody>\n",
              "    <tr>\n",
              "      <th>0</th>\n",
              "      <td>[একদিন, প্রাতঃ, বৈদ্যনাথ, মার্বলমণ্ডিত, দালান,...</td>\n",
              "      <td>একদিন প্রাতে বৈদ্যনাথের মার্বলমণ্ডিত দালানে এক...</td>\n",
              "    </tr>\n",
              "  </tbody>\n",
              "</table>\n",
              "</div>"
            ],
            "text/plain": [
              "                                                          lemma                                           document\n",
              "origin_index                                                                                                      \n",
              "0             [একদিন, প্রাতঃ, বৈদ্যনাথ, মার্বলমণ্ডিত, দালান,...  একদিন প্রাতে বৈদ্যনাথের মার্বলমণ্ডিত দালানে এক..."
            ]
          },
          "metadata": {
            "tags": []
          },
          "execution_count": 13
        }
      ]
    },
    {
      "cell_type": "markdown",
      "metadata": {
        "id": "Um_h-L4AfTJ_"
      },
      "source": [
        "#### [Japanese Lemmatizer](https://nlp.johnsnowlabs.com/2021/01/15/lemma_ja.html)"
      ]
    },
    {
      "cell_type": "code",
      "metadata": {
        "colab": {
          "base_uri": "https://localhost:8080/",
          "height": 207
        },
        "id": "528wDX5SfyBj",
        "outputId": "be919479-ba28-436e-fb90-8fc1100f6467"
      },
      "source": [
        "#Japanese for :  Some residents were uncomfortable with this, but it seems that no one is now openly protesting or protesting.\r\n",
        "nlu.load(\"ja.lemma\").predict(\"これに不快感を示す住民はいましたが,現在,表立って反対や抗議の声を挙げている住民はいないようです。\")"
      ],
      "execution_count": null,
      "outputs": [
        {
          "output_type": "stream",
          "text": [
            "lemma download started this may take some time.\n",
            "Approximate size to download 3.4 MB\n",
            "[OK!]\n",
            "wordseg_gsd_ud download started this may take some time.\n",
            "Approximate size to download 1 MB\n",
            "[OK!]\n"
          ],
          "name": "stdout"
        },
        {
          "output_type": "execute_result",
          "data": {
            "text/html": [
              "<div>\n",
              "<style scoped>\n",
              "    .dataframe tbody tr th:only-of-type {\n",
              "        vertical-align: middle;\n",
              "    }\n",
              "\n",
              "    .dataframe tbody tr th {\n",
              "        vertical-align: top;\n",
              "    }\n",
              "\n",
              "    .dataframe thead th {\n",
              "        text-align: right;\n",
              "    }\n",
              "</style>\n",
              "<table border=\"1\" class=\"dataframe\">\n",
              "  <thead>\n",
              "    <tr style=\"text-align: right;\">\n",
              "      <th></th>\n",
              "      <th>lemma</th>\n",
              "      <th>document</th>\n",
              "    </tr>\n",
              "    <tr>\n",
              "      <th>origin_index</th>\n",
              "      <th></th>\n",
              "      <th></th>\n",
              "    </tr>\n",
              "  </thead>\n",
              "  <tbody>\n",
              "    <tr>\n",
              "      <th>0</th>\n",
              "      <td>[これ, にる, 不快, 感, を, 示す, 住民, はる, いる, まする, たる, がる...</td>\n",
              "      <td>これに不快感を示す住民はいましたが,現在,表立って反対や抗議の声を挙げている住民はいないようです。</td>\n",
              "    </tr>\n",
              "  </tbody>\n",
              "</table>\n",
              "</div>"
            ],
            "text/plain": [
              "                                                          lemma                                           document\n",
              "origin_index                                                                                                      \n",
              "0             [これ, にる, 不快, 感, を, 示す, 住民, はる, いる, まする, たる, がる...  これに不快感を示す住民はいましたが,現在,表立って反対や抗議の声を挙げている住民はいないようです。"
            ]
          },
          "metadata": {
            "tags": []
          },
          "execution_count": 15
        }
      ]
    },
    {
      "cell_type": "markdown",
      "metadata": {
        "id": "n6Qm7iIpgwVj"
      },
      "source": [
        "#### [Aharic Lemmatizer](https://nlp.johnsnowlabs.com/2021/01/20/lemma_am.html)"
      ]
    },
    {
      "cell_type": "code",
      "metadata": {
        "colab": {
          "base_uri": "https://localhost:8080/",
          "height": 157
        },
        "id": "tfIApxfigJww",
        "outputId": "a6181593-682c-4cc3-c005-cebcca97f4a5"
      },
      "source": [
        "#Aharic for :  Bookmark the permalink.\r\n",
        "nlu.load(\"am.lemma\").predict(\"መጽሐፉን መጽሐፍ ኡ ን አስያዛት አስያዝ ኧ ኣት ።\")"
      ],
      "execution_count": null,
      "outputs": [
        {
          "output_type": "stream",
          "text": [
            "lemma download started this may take some time.\n",
            "Approximate size to download 36 KB\n",
            "[OK!]\n"
          ],
          "name": "stdout"
        },
        {
          "output_type": "execute_result",
          "data": {
            "text/html": [
              "<div>\n",
              "<style scoped>\n",
              "    .dataframe tbody tr th:only-of-type {\n",
              "        vertical-align: middle;\n",
              "    }\n",
              "\n",
              "    .dataframe tbody tr th {\n",
              "        vertical-align: top;\n",
              "    }\n",
              "\n",
              "    .dataframe thead th {\n",
              "        text-align: right;\n",
              "    }\n",
              "</style>\n",
              "<table border=\"1\" class=\"dataframe\">\n",
              "  <thead>\n",
              "    <tr style=\"text-align: right;\">\n",
              "      <th></th>\n",
              "      <th>lemma</th>\n",
              "      <th>document</th>\n",
              "    </tr>\n",
              "    <tr>\n",
              "      <th>origin_index</th>\n",
              "      <th></th>\n",
              "      <th></th>\n",
              "    </tr>\n",
              "  </thead>\n",
              "  <tbody>\n",
              "    <tr>\n",
              "      <th>0</th>\n",
              "      <td>[_, መጽሐፍ, ኡ, ን, _, አስያዝ, ኧ, ኣት, ።]</td>\n",
              "      <td>መጽሐፉን መጽሐፍ ኡ ን አስያዛት አስያዝ ኧ ኣት ።</td>\n",
              "    </tr>\n",
              "  </tbody>\n",
              "</table>\n",
              "</div>"
            ],
            "text/plain": [
              "                                           lemma                          document\n",
              "origin_index                                                                      \n",
              "0             [_, መጽሐፍ, ኡ, ን, _, አስያዝ, ኧ, ኣት, ።]  መጽሐፉን መጽሐፍ ኡ ን አስያዛት አስያዝ ኧ ኣት ።"
            ]
          },
          "metadata": {
            "tags": []
          },
          "execution_count": 17
        }
      ]
    },
    {
      "cell_type": "markdown",
      "metadata": {
        "id": "-hO6rGcFhUq8"
      },
      "source": [
        "#### [Bhojpuri Lemmatizer](https://nlp.johnsnowlabs.com/2021/01/18/lemma_bh.html)\r\n"
      ]
    },
    {
      "cell_type": "code",
      "metadata": {
        "colab": {
          "base_uri": "https://localhost:8080/",
          "height": 157
        },
        "id": "4cTM0dKGgQC1",
        "outputId": "f0965d65-0448-472b-c631-f57af3ab16ba"
      },
      "source": [
        "#Bhojpuri for : In this event, participation of World Bhojpuri Conference, Purvanchal Ekta Manch, Veer Kunwar Singh Foundation, Purvanchal Bhojpuri Mahasabha, and Herf - Media.\r\n",
        "nlu.load(\"bh.lemma\").predict(\"एह आयोजन में विश्व भोजपुरी सम्मेलन , पूर्वांचल एकता मंच , वीर कुँवर सिंह फाउन्डेशन , पूर्वांचल भोजपुरी महासभा , अउर हर्फ - मीडिया के सहभागिता बा ।\")"
      ],
      "execution_count": null,
      "outputs": [
        {
          "output_type": "stream",
          "text": [
            "lemma download started this may take some time.\n",
            "Approximate size to download 24.3 KB\n",
            "[OK!]\n"
          ],
          "name": "stdout"
        },
        {
          "output_type": "execute_result",
          "data": {
            "text/html": [
              "<div>\n",
              "<style scoped>\n",
              "    .dataframe tbody tr th:only-of-type {\n",
              "        vertical-align: middle;\n",
              "    }\n",
              "\n",
              "    .dataframe tbody tr th {\n",
              "        vertical-align: top;\n",
              "    }\n",
              "\n",
              "    .dataframe thead th {\n",
              "        text-align: right;\n",
              "    }\n",
              "</style>\n",
              "<table border=\"1\" class=\"dataframe\">\n",
              "  <thead>\n",
              "    <tr style=\"text-align: right;\">\n",
              "      <th></th>\n",
              "      <th>lemma</th>\n",
              "      <th>document</th>\n",
              "    </tr>\n",
              "    <tr>\n",
              "      <th>origin_index</th>\n",
              "      <th></th>\n",
              "      <th></th>\n",
              "    </tr>\n",
              "  </thead>\n",
              "  <tbody>\n",
              "    <tr>\n",
              "      <th>0</th>\n",
              "      <td>[एह, आयोजन, में, विश्व, भोजपुरी, सम्मेलन, COMM...</td>\n",
              "      <td>एह आयोजन में विश्व भोजपुरी सम्मेलन , पूर्वांचल...</td>\n",
              "    </tr>\n",
              "  </tbody>\n",
              "</table>\n",
              "</div>"
            ],
            "text/plain": [
              "                                                          lemma                                           document\n",
              "origin_index                                                                                                      \n",
              "0             [एह, आयोजन, में, विश्व, भोजपुरी, सम्मेलन, COMM...  एह आयोजन में विश्व भोजपुरी सम्मेलन , पूर्वांचल..."
            ]
          },
          "metadata": {
            "tags": []
          },
          "execution_count": 19
        }
      ]
    },
    {
      "cell_type": "markdown",
      "metadata": {
        "id": "HVGMmQL_i3-f"
      },
      "source": [
        "#### [Named Entity Recognition - BERT Tiny (OntoNotes)](https://nlp.johnsnowlabs.com/2020/12/05/onto_small_bert_L2_128_en.html)"
      ]
    },
    {
      "cell_type": "code",
      "metadata": {
        "colab": {
          "base_uri": "https://localhost:8080/",
          "height": 224
        },
        "id": "Tdgh0NL6i3Ee",
        "outputId": "0dd7fc2c-ae5a-4a3f-ce9e-48b516d3bc27"
      },
      "source": [
        "nlu.load(\"en.ner.onto.bert.small_l2_128\").predict(\"\"\"William Henry Gates III (born October 28, 1955) is an American business magnate,\r\n",
        " software developer, investor, and philanthropist. He is best known as the co-founder of Microsoft Corporation. During his career at Microsoft,\r\n",
        "  Gates held the positions of chairman, chief executive officer (CEO), president and chief software architect,\r\n",
        "   while also being the largest individual shareholder until May 2014.\r\n",
        "    He is one of the best-known entrepreneurs and pioneers of the microcomputer revolution of the 1970s and 1980s. Born and raised in Seattle, Washington, Gates co-founded Microsoft with childhood friend Paul Allen in 1975, in Albuquerque, New Mexico;\r\n",
        "     it went on to become the world's largest personal computer software company. Gates led the company as chairman and CEO until stepping down as CEO in January 2000, but he remained chairman and became chief software architect.\r\n",
        "     During the late 1990s, Gates had been criticized for his business tactics, which have been considered anti-competitive. This opinion has been upheld by numerous court rulings. In June 2006, Gates announced that he would be transitioning to a part-time\r\n",
        "      role at Microsoft and full-time work at the Bill & Melinda Gates Foundation, the private charitable foundation that he and his wife, Melinda Gates, established in 2000.\r\n",
        " He gradually transferred his duties to Ray Ozzie and Craig Mundie.\r\n",
        "  He stepped down as chairman of Microsoft in February 2014 and assumed a new post as technology adviser to support the newly appointed CEO Satya Nadella.\"\"\",output_level = \"document\")"
      ],
      "execution_count": null,
      "outputs": [
        {
          "output_type": "stream",
          "text": [
            "onto_small_bert_L2_128 download started this may take some time.\n",
            "Approximate size to download 13.7 MB\n",
            "[OK!]\n",
            "small_bert_L2_128 download started this may take some time.\n",
            "Approximate size to download 16.1 MB\n",
            "[OK!]\n"
          ],
          "name": "stdout"
        },
        {
          "output_type": "execute_result",
          "data": {
            "text/html": [
              "<div>\n",
              "<style scoped>\n",
              "    .dataframe tbody tr th:only-of-type {\n",
              "        vertical-align: middle;\n",
              "    }\n",
              "\n",
              "    .dataframe tbody tr th {\n",
              "        vertical-align: top;\n",
              "    }\n",
              "\n",
              "    .dataframe thead th {\n",
              "        text-align: right;\n",
              "    }\n",
              "</style>\n",
              "<table border=\"1\" class=\"dataframe\">\n",
              "  <thead>\n",
              "    <tr style=\"text-align: right;\">\n",
              "      <th></th>\n",
              "      <th>entities</th>\n",
              "      <th>entities_confidence</th>\n",
              "      <th>ner_confidence</th>\n",
              "      <th>word_embeddings</th>\n",
              "      <th>document</th>\n",
              "    </tr>\n",
              "    <tr>\n",
              "      <th>origin_index</th>\n",
              "      <th></th>\n",
              "      <th></th>\n",
              "      <th></th>\n",
              "      <th></th>\n",
              "      <th></th>\n",
              "    </tr>\n",
              "  </thead>\n",
              "  <tbody>\n",
              "    <tr>\n",
              "      <th>0</th>\n",
              "      <td>[William Henry Gates III, October 28, 1955, Am...</td>\n",
              "      <td>[PERSON, DATE, NORP, ORG, ORG, PERSON, DATE, C...</td>\n",
              "      <td>[0.8536999821662903, 0.7195000052452087, 0.746...</td>\n",
              "      <td>[[-0.8243618011474609, 1.7665045261383057, 0.3...</td>\n",
              "      <td>William Henry Gates III (born October 28, 1955...</td>\n",
              "    </tr>\n",
              "  </tbody>\n",
              "</table>\n",
              "</div>"
            ],
            "text/plain": [
              "                                                       entities  ...                                           document\n",
              "origin_index                                                     ...                                                   \n",
              "0             [William Henry Gates III, October 28, 1955, Am...  ...  William Henry Gates III (born October 28, 1955...\n",
              "\n",
              "[1 rows x 5 columns]"
            ]
          },
          "metadata": {
            "tags": []
          },
          "execution_count": 2
        }
      ]
    },
    {
      "cell_type": "markdown",
      "metadata": {
        "id": "FnF0LBHCj6D8"
      },
      "source": [
        "####  [Named Entity Recognition - BERT Mini (OntoNotes)](https://nlp.johnsnowlabs.com/2020/12/05/onto_small_bert_L4_256_en.html)"
      ]
    },
    {
      "cell_type": "code",
      "metadata": {
        "colab": {
          "base_uri": "https://localhost:8080/",
          "height": 224
        },
        "id": "m68sUHSPhelw",
        "outputId": "a8ec3a48-ff3a-41f8-d9ab-6b77eff1f149"
      },
      "source": [
        "nlu.load(\"en.ner.onto.bert.small_l4_256\").predict(\"\"\"William Henry Gates III (born October 28, 1955) is an American business magnate,\r\n",
        " software developer, investor, and philanthropist. He is best known as the co-founder of Microsoft Corporation. During his career at Microsoft,\r\n",
        "  Gates held the positions of chairman, chief executive officer (CEO), president and chief software architect,\r\n",
        "   while also being the largest individual shareholder until May 2014.\r\n",
        "    He is one of the best-known entrepreneurs and pioneers of the microcomputer revolution of the 1970s and 1980s. Born and raised in Seattle, Washington, Gates co-founded Microsoft with childhood friend Paul Allen in 1975, in Albuquerque, New Mexico;\r\n",
        "     it went on to become the world's largest personal computer software company. Gates led the company as chairman and CEO until stepping down as CEO in January 2000, but he remained chairman and became chief software architect.\r\n",
        "     During the late 1990s, Gates had been criticized for his business tactics, which have been considered anti-competitive. This opinion has been upheld by numerous court rulings. In June 2006, Gates announced that he would be transitioning to a part-time\r\n",
        "      role at Microsoft and full-time work at the Bill & Melinda Gates Foundation, the private charitable foundation that he and his wife, Melinda Gates, established in 2000.\r\n",
        " He gradually transferred his duties to Ray Ozzie and Craig Mundie.\r\n",
        "  He stepped down as chairman of Microsoft in February 2014 and assumed a new post as technology adviser to support the newly appointed CEO Satya Nadella.\"\"\",output_level = \"document\")"
      ],
      "execution_count": null,
      "outputs": [
        {
          "output_type": "stream",
          "text": [
            "onto_small_bert_L4_256 download started this may take some time.\n",
            "Approximate size to download 14.1 MB\n",
            "[OK!]\n",
            "small_bert_L4_256 download started this may take some time.\n",
            "Approximate size to download 40.5 MB\n",
            "[OK!]\n"
          ],
          "name": "stdout"
        },
        {
          "output_type": "execute_result",
          "data": {
            "text/html": [
              "<div>\n",
              "<style scoped>\n",
              "    .dataframe tbody tr th:only-of-type {\n",
              "        vertical-align: middle;\n",
              "    }\n",
              "\n",
              "    .dataframe tbody tr th {\n",
              "        vertical-align: top;\n",
              "    }\n",
              "\n",
              "    .dataframe thead th {\n",
              "        text-align: right;\n",
              "    }\n",
              "</style>\n",
              "<table border=\"1\" class=\"dataframe\">\n",
              "  <thead>\n",
              "    <tr style=\"text-align: right;\">\n",
              "      <th></th>\n",
              "      <th>entities</th>\n",
              "      <th>entities_confidence</th>\n",
              "      <th>ner_confidence</th>\n",
              "      <th>word_embeddings</th>\n",
              "      <th>document</th>\n",
              "    </tr>\n",
              "    <tr>\n",
              "      <th>origin_index</th>\n",
              "      <th></th>\n",
              "      <th></th>\n",
              "      <th></th>\n",
              "      <th></th>\n",
              "      <th></th>\n",
              "    </tr>\n",
              "  </thead>\n",
              "  <tbody>\n",
              "    <tr>\n",
              "      <th>0</th>\n",
              "      <td>[William Henry Gates III, October 28, 1955, Am...</td>\n",
              "      <td>[PERSON, DATE, NORP, ORG, ORG, ORG, DATE, CARD...</td>\n",
              "      <td>[0.835099995136261, 0.40450000762939453, 0.331...</td>\n",
              "      <td>[[-1.0214945077896118, 1.0739562511444092, 0.7...</td>\n",
              "      <td>William Henry Gates III (born October 28, 1955...</td>\n",
              "    </tr>\n",
              "  </tbody>\n",
              "</table>\n",
              "</div>"
            ],
            "text/plain": [
              "                                                       entities  ...                                           document\n",
              "origin_index                                                     ...                                                   \n",
              "0             [William Henry Gates III, October 28, 1955, Am...  ...  William Henry Gates III (born October 28, 1955...\n",
              "\n",
              "[1 rows x 5 columns]"
            ]
          },
          "metadata": {
            "tags": []
          },
          "execution_count": 3
        }
      ]
    },
    {
      "cell_type": "markdown",
      "metadata": {
        "id": "JyKNWfjtkMm3"
      },
      "source": [
        "#### [Named Entity Recognition - BERT Small (OntoNotes)](https://nlp.johnsnowlabs.com/2020/12/05/onto_small_bert_L4_512_en.html)\r\n"
      ]
    },
    {
      "cell_type": "code",
      "metadata": {
        "colab": {
          "base_uri": "https://localhost:8080/",
          "height": 224
        },
        "id": "TnlpkT8HkJir",
        "outputId": "b3a78b2b-2316-46d6-8b5a-c153125277c5"
      },
      "source": [
        "nlu.load(\"en.ner.onto.bert.small_l4_512\").predict(\"\"\"William Henry Gates III (born October 28, 1955) is an American business magnate,\r\n",
        " software developer, investor, and philanthropist. He is best known as the co-founder of Microsoft Corporation. During his career at Microsoft,\r\n",
        "  Gates held the positions of chairman, chief executive officer (CEO), president and chief software architect,\r\n",
        "   while also being the largest individual shareholder until May 2014.\r\n",
        "    He is one of the best-known entrepreneurs and pioneers of the microcomputer revolution of the 1970s and 1980s. Born and raised in Seattle, Washington, Gates co-founded Microsoft with childhood friend Paul Allen in 1975, in Albuquerque, New Mexico;\r\n",
        "     it went on to become the world's largest personal computer software company. Gates led the company as chairman and CEO until stepping down as CEO in January 2000, but he remained chairman and became chief software architect.\r\n",
        "     During the late 1990s, Gates had been criticized for his business tactics, which have been considered anti-competitive. This opinion has been upheld by numerous court rulings. In June 2006, Gates announced that he would be transitioning to a part-time\r\n",
        "      role at Microsoft and full-time work at the Bill & Melinda Gates Foundation, the private charitable foundation that he and his wife, Melinda Gates, established in 2000.\r\n",
        " He gradually transferred his duties to Ray Ozzie and Craig Mundie.\r\n",
        "  He stepped down as chairman of Microsoft in February 2014 and assumed a new post as technology adviser to support the newly appointed CEO Satya Nadella.\"\"\",output_level = \"document\")"
      ],
      "execution_count": null,
      "outputs": [
        {
          "output_type": "stream",
          "text": [
            "onto_small_bert_L4_512 download started this may take some time.\n",
            "Approximate size to download 14.8 MB\n",
            "[OK!]\n",
            "small_bert_L4_512 download started this may take some time.\n",
            "Approximate size to download 104 MB\n",
            "[OK!]\n"
          ],
          "name": "stdout"
        },
        {
          "output_type": "execute_result",
          "data": {
            "text/html": [
              "<div>\n",
              "<style scoped>\n",
              "    .dataframe tbody tr th:only-of-type {\n",
              "        vertical-align: middle;\n",
              "    }\n",
              "\n",
              "    .dataframe tbody tr th {\n",
              "        vertical-align: top;\n",
              "    }\n",
              "\n",
              "    .dataframe thead th {\n",
              "        text-align: right;\n",
              "    }\n",
              "</style>\n",
              "<table border=\"1\" class=\"dataframe\">\n",
              "  <thead>\n",
              "    <tr style=\"text-align: right;\">\n",
              "      <th></th>\n",
              "      <th>entities</th>\n",
              "      <th>entities_confidence</th>\n",
              "      <th>ner_confidence</th>\n",
              "      <th>word_embeddings</th>\n",
              "      <th>document</th>\n",
              "    </tr>\n",
              "    <tr>\n",
              "      <th>origin_index</th>\n",
              "      <th></th>\n",
              "      <th></th>\n",
              "      <th></th>\n",
              "      <th></th>\n",
              "      <th></th>\n",
              "    </tr>\n",
              "  </thead>\n",
              "  <tbody>\n",
              "    <tr>\n",
              "      <th>0</th>\n",
              "      <td>[William Henry Gates III, October 28, 1955, Am...</td>\n",
              "      <td>[PERSON, DATE, NORP, ORG, ORG, PERSON, DATE, C...</td>\n",
              "      <td>[0.964900016784668, 0.8299000263214111, 0.9607...</td>\n",
              "      <td>[[0.7901005148887634, 0.03756155073642731, 0.1...</td>\n",
              "      <td>William Henry Gates III (born October 28, 1955...</td>\n",
              "    </tr>\n",
              "  </tbody>\n",
              "</table>\n",
              "</div>"
            ],
            "text/plain": [
              "                                                       entities  ...                                           document\n",
              "origin_index                                                     ...                                                   \n",
              "0             [William Henry Gates III, October 28, 1955, Am...  ...  William Henry Gates III (born October 28, 1955...\n",
              "\n",
              "[1 rows x 5 columns]"
            ]
          },
          "metadata": {
            "tags": []
          },
          "execution_count": 4
        }
      ]
    },
    {
      "cell_type": "markdown",
      "metadata": {
        "id": "FUCnf9_0kVZn"
      },
      "source": [
        "#### [Named Entity Recognition - BERT Medium (OntoNotes)](https://nlp.johnsnowlabs.com/2020/12/05/onto_small_bert_L8_512_en.html)"
      ]
    },
    {
      "cell_type": "code",
      "metadata": {
        "colab": {
          "base_uri": "https://localhost:8080/",
          "height": 224
        },
        "id": "3WzfYDrekQjW",
        "outputId": "a8426193-ce81-42a8-aca2-663e1e619c3d"
      },
      "source": [
        "nlu.load(\"en.ner.onto.bert.small_l8_512\").predict(\"\"\"William Henry Gates III (born October 28, 1955) is an American business magnate,\r\n",
        " software developer, investor, and philanthropist. He is best known as the co-founder of Microsoft Corporation. During his career at Microsoft,\r\n",
        "  Gates held the positions of chairman, chief executive officer (CEO), president and chief software architect,\r\n",
        "   while also being the largest individual shareholder until May 2014.\r\n",
        "    He is one of the best-known entrepreneurs and pioneers of the microcomputer revolution of the 1970s and 1980s. Born and raised in Seattle, Washington, Gates co-founded Microsoft with childhood friend Paul Allen in 1975, in Albuquerque, New Mexico;\r\n",
        "     it went on to become the world's largest personal computer software company. Gates led the company as chairman and CEO until stepping down as CEO in January 2000, but he remained chairman and became chief software architect.\r\n",
        "     During the late 1990s, Gates had been criticized for his business tactics, which have been considered anti-competitive. This opinion has been upheld by numerous court rulings. In June 2006, Gates announced that he would be transitioning to a part-time\r\n",
        "      role at Microsoft and full-time work at the Bill & Melinda Gates Foundation, the private charitable foundation that he and his wife, Melinda Gates, established in 2000.\r\n",
        " He gradually transferred his duties to Ray Ozzie and Craig Mundie.\r\n",
        "  He stepped down as chairman of Microsoft in February 2014 and assumed a new post as technology adviser to support the newly appointed CEO Satya Nadella.\"\"\",output_level = \"document\")"
      ],
      "execution_count": null,
      "outputs": [
        {
          "output_type": "stream",
          "text": [
            "onto_small_bert_L8_512 download started this may take some time.\n",
            "Approximate size to download 14.8 MB\n",
            "[OK!]\n",
            "small_bert_L8_512 download started this may take some time.\n",
            "Approximate size to download 149.1 MB\n",
            "[OK!]\n"
          ],
          "name": "stdout"
        },
        {
          "output_type": "execute_result",
          "data": {
            "text/html": [
              "<div>\n",
              "<style scoped>\n",
              "    .dataframe tbody tr th:only-of-type {\n",
              "        vertical-align: middle;\n",
              "    }\n",
              "\n",
              "    .dataframe tbody tr th {\n",
              "        vertical-align: top;\n",
              "    }\n",
              "\n",
              "    .dataframe thead th {\n",
              "        text-align: right;\n",
              "    }\n",
              "</style>\n",
              "<table border=\"1\" class=\"dataframe\">\n",
              "  <thead>\n",
              "    <tr style=\"text-align: right;\">\n",
              "      <th></th>\n",
              "      <th>entities</th>\n",
              "      <th>entities_confidence</th>\n",
              "      <th>ner_confidence</th>\n",
              "      <th>word_embeddings</th>\n",
              "      <th>document</th>\n",
              "    </tr>\n",
              "    <tr>\n",
              "      <th>origin_index</th>\n",
              "      <th></th>\n",
              "      <th></th>\n",
              "      <th></th>\n",
              "      <th></th>\n",
              "      <th></th>\n",
              "    </tr>\n",
              "  </thead>\n",
              "  <tbody>\n",
              "    <tr>\n",
              "      <th>0</th>\n",
              "      <td>[William Henry Gates III, October 28, 1955, Am...</td>\n",
              "      <td>[PERSON, DATE, NORP, ORG, ORG, PERSON, DATE, D...</td>\n",
              "      <td>[0.916700005531311, 0.5873000025749207, 0.8816...</td>\n",
              "      <td>[[0.6260977387428284, 1.1683838367462158, -0.0...</td>\n",
              "      <td>William Henry Gates III (born October 28, 1955...</td>\n",
              "    </tr>\n",
              "  </tbody>\n",
              "</table>\n",
              "</div>"
            ],
            "text/plain": [
              "                                                       entities  ...                                           document\n",
              "origin_index                                                     ...                                                   \n",
              "0             [William Henry Gates III, October 28, 1955, Am...  ...  William Henry Gates III (born October 28, 1955...\n",
              "\n",
              "[1 rows x 5 columns]"
            ]
          },
          "metadata": {
            "tags": []
          },
          "execution_count": 5
        }
      ]
    },
    {
      "cell_type": "markdown",
      "metadata": {
        "id": "2hiUg3fpkiNQ"
      },
      "source": [
        "#### [Named Entity Recognition - BERT Base (OntoNotes)](https://nlp.johnsnowlabs.com/2020/12/05/onto_bert_base_cased_en.html)"
      ]
    },
    {
      "cell_type": "code",
      "metadata": {
        "colab": {
          "base_uri": "https://localhost:8080/",
          "height": 224
        },
        "id": "-xDZlpTRkZbT",
        "outputId": "0e2905b8-4b51-4b96-fc18-74f2b43babb2"
      },
      "source": [
        "nlu.load(\"en.ner.onto.bert.cased_base\").predict(\"\"\"William Henry Gates III (born October 28, 1955) is an American business magnate,\r\n",
        " software developer, investor, and philanthropist. He is best known as the co-founder of Microsoft Corporation. During his career at Microsoft,\r\n",
        "  Gates held the positions of chairman, chief executive officer (CEO), president and chief software architect,\r\n",
        "   while also being the largest individual shareholder until May 2014.\r\n",
        "    He is one of the best-known entrepreneurs and pioneers of the microcomputer revolution of the 1970s and 1980s. Born and raised in Seattle, Washington, Gates co-founded Microsoft with childhood friend Paul Allen in 1975, in Albuquerque, New Mexico;\r\n",
        "     it went on to become the world's largest personal computer software company. Gates led the company as chairman and CEO until stepping down as CEO in January 2000, but he remained chairman and became chief software architect.\r\n",
        "     During the late 1990s, Gates had been criticized for his business tactics, which have been considered anti-competitive. This opinion has been upheld by numerous court rulings. In June 2006, Gates announced that he would be transitioning to a part-time\r\n",
        "      role at Microsoft and full-time work at the Bill & Melinda Gates Foundation, the private charitable foundation that he and his wife, Melinda Gates, established in 2000.\r\n",
        " He gradually transferred his duties to Ray Ozzie and Craig Mundie.\r\n",
        "  He stepped down as chairman of Microsoft in February 2014 and assumed a new post as technology adviser to support the newly appointed CEO Satya Nadella.\"\"\",output_level = \"document\")"
      ],
      "execution_count": null,
      "outputs": [
        {
          "output_type": "stream",
          "text": [
            "onto_bert_base_cased download started this may take some time.\n",
            "Approximate size to download 15.5 MB\n",
            "[OK!]\n",
            "bert_base_cased download started this may take some time.\n",
            "Approximate size to download 389.1 MB\n",
            "[OK!]\n"
          ],
          "name": "stdout"
        },
        {
          "output_type": "execute_result",
          "data": {
            "text/html": [
              "<div>\n",
              "<style scoped>\n",
              "    .dataframe tbody tr th:only-of-type {\n",
              "        vertical-align: middle;\n",
              "    }\n",
              "\n",
              "    .dataframe tbody tr th {\n",
              "        vertical-align: top;\n",
              "    }\n",
              "\n",
              "    .dataframe thead th {\n",
              "        text-align: right;\n",
              "    }\n",
              "</style>\n",
              "<table border=\"1\" class=\"dataframe\">\n",
              "  <thead>\n",
              "    <tr style=\"text-align: right;\">\n",
              "      <th></th>\n",
              "      <th>entities</th>\n",
              "      <th>entities_confidence</th>\n",
              "      <th>ner_confidence</th>\n",
              "      <th>word_embeddings</th>\n",
              "      <th>document</th>\n",
              "    </tr>\n",
              "    <tr>\n",
              "      <th>origin_index</th>\n",
              "      <th></th>\n",
              "      <th></th>\n",
              "      <th></th>\n",
              "      <th></th>\n",
              "      <th></th>\n",
              "    </tr>\n",
              "  </thead>\n",
              "  <tbody>\n",
              "    <tr>\n",
              "      <th>0</th>\n",
              "      <td>[William Henry Gates III, October 28, 1955, Am...</td>\n",
              "      <td>[PERSON, DATE, NORP, ORG, ORG, PERSON, DATE, C...</td>\n",
              "      <td>[0.504800021648407, 0.47290000319480896, 0.462...</td>\n",
              "      <td>[[0.41482892632484436, -0.48122864961624146, 0...</td>\n",
              "      <td>William Henry Gates III (born October 28, 1955...</td>\n",
              "    </tr>\n",
              "  </tbody>\n",
              "</table>\n",
              "</div>"
            ],
            "text/plain": [
              "                                                       entities  ...                                           document\n",
              "origin_index                                                     ...                                                   \n",
              "0             [William Henry Gates III, October 28, 1955, Am...  ...  William Henry Gates III (born October 28, 1955...\n",
              "\n",
              "[1 rows x 5 columns]"
            ]
          },
          "metadata": {
            "tags": []
          },
          "execution_count": 6
        }
      ]
    },
    {
      "cell_type": "markdown",
      "metadata": {
        "id": "QuUDQWFQk50f"
      },
      "source": [
        "#### [Named Entity Recognition - BERT Large (OntoNotes)](https://nlp.johnsnowlabs.com/2020/12/05/onto_electra_small_uncased_en.html)"
      ]
    },
    {
      "cell_type": "code",
      "metadata": {
        "colab": {
          "base_uri": "https://localhost:8080/",
          "height": 224
        },
        "id": "D1hyiuFskrbE",
        "outputId": "b174ba86-3945-4845-e8f3-c2a0b2ca4166"
      },
      "source": [
        "nlu.load(\"en.ner.onto.bert.cased_large\").predict(\"\"\"William Henry Gates III (born October 28, 1955) is an American business magnate,\r\n",
        " software developer, investor, and philanthropist. He is best known as the co-founder of Microsoft Corporation. During his career at Microsoft,\r\n",
        "  Gates held the positions of chairman, chief executive officer (CEO), president and chief software architect,\r\n",
        "   while also being the largest individual shareholder until May 2014.\r\n",
        "    He is one of the best-known entrepreneurs and pioneers of the microcomputer revolution of the 1970s and 1980s. Born and raised in Seattle, Washington, Gates co-founded Microsoft with childhood friend Paul Allen in 1975, in Albuquerque, New Mexico;\r\n",
        "     it went on to become the world's largest personal computer software company. Gates led the company as chairman and CEO until stepping down as CEO in January 2000, but he remained chairman and became chief software architect.\r\n",
        "     During the late 1990s, Gates had been criticized for his business tactics, which have been considered anti-competitive. This opinion has been upheld by numerous court rulings. In June 2006, Gates announced that he would be transitioning to a part-time\r\n",
        "      role at Microsoft and full-time work at the Bill & Melinda Gates Foundation, the private charitable foundation that he and his wife, Melinda Gates, established in 2000.\r\n",
        " He gradually transferred his duties to Ray Ozzie and Craig Mundie.\r\n",
        "  He stepped down as chairman of Microsoft in February 2014 and assumed a new post as technology adviser to support the newly appointed CEO Satya Nadella.\"\"\",output_level = \"document\")"
      ],
      "execution_count": null,
      "outputs": [
        {
          "output_type": "stream",
          "text": [
            "onto_bert_large_cased download started this may take some time.\n",
            "Approximate size to download 16.3 MB\n",
            "[OK!]\n",
            "bert_large_cased download started this may take some time.\n",
            "Approximate size to download 1.2 GB\n",
            "[OK!]\n"
          ],
          "name": "stdout"
        },
        {
          "output_type": "execute_result",
          "data": {
            "text/html": [
              "<div>\n",
              "<style scoped>\n",
              "    .dataframe tbody tr th:only-of-type {\n",
              "        vertical-align: middle;\n",
              "    }\n",
              "\n",
              "    .dataframe tbody tr th {\n",
              "        vertical-align: top;\n",
              "    }\n",
              "\n",
              "    .dataframe thead th {\n",
              "        text-align: right;\n",
              "    }\n",
              "</style>\n",
              "<table border=\"1\" class=\"dataframe\">\n",
              "  <thead>\n",
              "    <tr style=\"text-align: right;\">\n",
              "      <th></th>\n",
              "      <th>entities</th>\n",
              "      <th>entities_confidence</th>\n",
              "      <th>ner_confidence</th>\n",
              "      <th>word_embeddings</th>\n",
              "      <th>document</th>\n",
              "    </tr>\n",
              "    <tr>\n",
              "      <th>origin_index</th>\n",
              "      <th></th>\n",
              "      <th></th>\n",
              "      <th></th>\n",
              "      <th></th>\n",
              "      <th></th>\n",
              "    </tr>\n",
              "  </thead>\n",
              "  <tbody>\n",
              "    <tr>\n",
              "      <th>0</th>\n",
              "      <td>[William Henry Gates III, October 28, 1955, Am...</td>\n",
              "      <td>[PERSON, DATE, NORP, ORG, ORG, PERSON, DATE, C...</td>\n",
              "      <td>[0.7213000059127808, 0.6384000182151794, 0.731...</td>\n",
              "      <td>[[-0.5103424191474915, -0.8640458583831787, -0...</td>\n",
              "      <td>William Henry Gates III (born October 28, 1955...</td>\n",
              "    </tr>\n",
              "  </tbody>\n",
              "</table>\n",
              "</div>"
            ],
            "text/plain": [
              "                                                       entities  ...                                           document\n",
              "origin_index                                                     ...                                                   \n",
              "0             [William Henry Gates III, October 28, 1955, Am...  ...  William Henry Gates III (born October 28, 1955...\n",
              "\n",
              "[1 rows x 5 columns]"
            ]
          },
          "metadata": {
            "tags": []
          },
          "execution_count": 7
        }
      ]
    },
    {
      "cell_type": "markdown",
      "metadata": {
        "id": "TUktSZp_lTW2"
      },
      "source": [
        "#### [Named Entity Recognition - ELECTRA Small (OntoNotes)](https://nlp.johnsnowlabs.com/2020/12/05/onto_electra_small_uncased_en.html)"
      ]
    },
    {
      "cell_type": "code",
      "metadata": {
        "colab": {
          "base_uri": "https://localhost:8080/",
          "height": 224
        },
        "id": "c_-knvMDk5Jb",
        "outputId": "e4047922-884d-4886-be5c-b84d90280d4d"
      },
      "source": [
        "nlu.load(\"en.ner.onto.electra.uncased_small\").predict(\"\"\"William Henry Gates III (born October 28, 1955) is an American business magnate,\r\n",
        " software developer, investor, and philanthropist. He is best known as the co-founder of Microsoft Corporation. During his career at Microsoft,\r\n",
        "  Gates held the positions of chairman, chief executive officer (CEO), president and chief software architect,\r\n",
        "   while also being the largest individual shareholder until May 2014.\r\n",
        "    He is one of the best-known entrepreneurs and pioneers of the microcomputer revolution of the 1970s and 1980s. Born and raised in Seattle, Washington, Gates co-founded Microsoft with childhood friend Paul Allen in 1975, in Albuquerque, New Mexico;\r\n",
        "     it went on to become the world's largest personal computer software company. Gates led the company as chairman and CEO until stepping down as CEO in January 2000, but he remained chairman and became chief software architect.\r\n",
        "     During the late 1990s, Gates had been criticized for his business tactics, which have been considered anti-competitive. This opinion has been upheld by numerous court rulings. In June 2006, Gates announced that he would be transitioning to a part-time\r\n",
        "      role at Microsoft and full-time work at the Bill & Melinda Gates Foundation, the private charitable foundation that he and his wife, Melinda Gates, established in 2000.\r\n",
        " He gradually transferred his duties to Ray Ozzie and Craig Mundie.\r\n",
        "  He stepped down as chairman of Microsoft in February 2014 and assumed a new post as technology adviser to support the newly appointed CEO Satya Nadella.\"\"\",output_level = \"document\")"
      ],
      "execution_count": null,
      "outputs": [
        {
          "output_type": "stream",
          "text": [
            "onto_electra_small_uncased download started this may take some time.\n",
            "Approximate size to download 14.1 MB\n",
            "[OK!]\n",
            "electra_small_uncased download started this may take some time.\n",
            "Approximate size to download 48.7 MB\n",
            "[OK!]\n"
          ],
          "name": "stdout"
        },
        {
          "output_type": "execute_result",
          "data": {
            "text/html": [
              "<div>\n",
              "<style scoped>\n",
              "    .dataframe tbody tr th:only-of-type {\n",
              "        vertical-align: middle;\n",
              "    }\n",
              "\n",
              "    .dataframe tbody tr th {\n",
              "        vertical-align: top;\n",
              "    }\n",
              "\n",
              "    .dataframe thead th {\n",
              "        text-align: right;\n",
              "    }\n",
              "</style>\n",
              "<table border=\"1\" class=\"dataframe\">\n",
              "  <thead>\n",
              "    <tr style=\"text-align: right;\">\n",
              "      <th></th>\n",
              "      <th>entities</th>\n",
              "      <th>entities_confidence</th>\n",
              "      <th>ner_confidence</th>\n",
              "      <th>word_embeddings</th>\n",
              "      <th>document</th>\n",
              "    </tr>\n",
              "    <tr>\n",
              "      <th>origin_index</th>\n",
              "      <th></th>\n",
              "      <th></th>\n",
              "      <th></th>\n",
              "      <th></th>\n",
              "      <th></th>\n",
              "    </tr>\n",
              "  </thead>\n",
              "  <tbody>\n",
              "    <tr>\n",
              "      <th>0</th>\n",
              "      <td>[William Henry Gates III, October 28, 1955, Am...</td>\n",
              "      <td>[PERSON, DATE, NORP, ORG, ORG, PERSON, DATE, C...</td>\n",
              "      <td>[0.8496000170707703, 0.4465999901294708, 0.568...</td>\n",
              "      <td>[[-0.0023635271936655045, -0.02300167083740234...</td>\n",
              "      <td>William Henry Gates III (born October 28, 1955...</td>\n",
              "    </tr>\n",
              "  </tbody>\n",
              "</table>\n",
              "</div>"
            ],
            "text/plain": [
              "                                                       entities  ...                                           document\n",
              "origin_index                                                     ...                                                   \n",
              "0             [William Henry Gates III, October 28, 1955, Am...  ...  William Henry Gates III (born October 28, 1955...\n",
              "\n",
              "[1 rows x 5 columns]"
            ]
          },
          "metadata": {
            "tags": []
          },
          "execution_count": 8
        }
      ]
    },
    {
      "cell_type": "markdown",
      "metadata": {
        "id": "Ssz6pIlclay4"
      },
      "source": [
        "#### [Named Entity Recognition - ELECTRA Base (OntoNotes)](https://nlp.johnsnowlabs.com/2020/12/05/onto_electra_base_uncased_en.html)"
      ]
    },
    {
      "cell_type": "code",
      "metadata": {
        "colab": {
          "base_uri": "https://localhost:8080/",
          "height": 224
        },
        "id": "r5_qqv2IlaD7",
        "outputId": "d79bb19a-f71a-4666-bb56-4ee1e6417cbf"
      },
      "source": [
        "nlu.load(\"en.ner.onto.electra.uncased_base\").predict(\"\"\"William Henry Gates III (born October 28, 1955) is an American business magnate,\r\n",
        " software developer, investor, and philanthropist. He is best known as the co-founder of Microsoft Corporation. During his career at Microsoft,\r\n",
        "  Gates held the positions of chairman, chief executive officer (CEO), president and chief software architect,\r\n",
        "   while also being the largest individual shareholder until May 2014.\r\n",
        "    He is one of the best-known entrepreneurs and pioneers of the microcomputer revolution of the 1970s and 1980s. Born and raised in Seattle, Washington, Gates co-founded Microsoft with childhood friend Paul Allen in 1975, in Albuquerque, New Mexico;\r\n",
        "     it went on to become the world's largest personal computer software company. Gates led the company as chairman and CEO until stepping down as CEO in January 2000, but he remained chairman and became chief software architect.\r\n",
        "     During the late 1990s, Gates had been criticized for his business tactics, which have been considered anti-competitive. This opinion has been upheld by numerous court rulings. In June 2006, Gates announced that he would be transitioning to a part-time\r\n",
        "      role at Microsoft and full-time work at the Bill & Melinda Gates Foundation, the private charitable foundation that he and his wife, Melinda Gates, established in 2000.\r\n",
        " He gradually transferred his duties to Ray Ozzie and Craig Mundie.\r\n",
        "  He stepped down as chairman of Microsoft in February 2014 and assumed a new post as technology adviser to support the newly appointed CEO Satya Nadellabase.\"\"\",output_level = \"document\")"
      ],
      "execution_count": null,
      "outputs": [
        {
          "output_type": "stream",
          "text": [
            "onto_electra_base_uncased download started this may take some time.\n",
            "Approximate size to download 15.5 MB\n",
            "[OK!]\n",
            "electra_base_uncased download started this may take some time.\n",
            "Approximate size to download 389.1 MB\n",
            "[OK!]\n"
          ],
          "name": "stdout"
        },
        {
          "output_type": "execute_result",
          "data": {
            "text/html": [
              "<div>\n",
              "<style scoped>\n",
              "    .dataframe tbody tr th:only-of-type {\n",
              "        vertical-align: middle;\n",
              "    }\n",
              "\n",
              "    .dataframe tbody tr th {\n",
              "        vertical-align: top;\n",
              "    }\n",
              "\n",
              "    .dataframe thead th {\n",
              "        text-align: right;\n",
              "    }\n",
              "</style>\n",
              "<table border=\"1\" class=\"dataframe\">\n",
              "  <thead>\n",
              "    <tr style=\"text-align: right;\">\n",
              "      <th></th>\n",
              "      <th>entities_confidence</th>\n",
              "      <th>word_embeddings</th>\n",
              "      <th>entities</th>\n",
              "      <th>document</th>\n",
              "      <th>ner_confidence</th>\n",
              "    </tr>\n",
              "    <tr>\n",
              "      <th>origin_index</th>\n",
              "      <th></th>\n",
              "      <th></th>\n",
              "      <th></th>\n",
              "      <th></th>\n",
              "      <th></th>\n",
              "    </tr>\n",
              "  </thead>\n",
              "  <tbody>\n",
              "    <tr>\n",
              "      <th>0</th>\n",
              "      <td>[PERSON, DATE, NORP, ORG, ORG, PERSON, DATE, C...</td>\n",
              "      <td>[[-0.3254704475402832, -0.0503975935280323, 0....</td>\n",
              "      <td>[William Henry Gates III, October 28, 1955, Am...</td>\n",
              "      <td>William Henry Gates III (born October 28, 1955...</td>\n",
              "      <td>[0.5134000182151794, 0.9419000148773193, 0.802...</td>\n",
              "    </tr>\n",
              "  </tbody>\n",
              "</table>\n",
              "</div>"
            ],
            "text/plain": [
              "                                            entities_confidence  ...                                     ner_confidence\n",
              "origin_index                                                     ...                                                   \n",
              "0             [PERSON, DATE, NORP, ORG, ORG, PERSON, DATE, C...  ...  [0.5134000182151794, 0.9419000148773193, 0.802...\n",
              "\n",
              "[1 rows x 5 columns]"
            ]
          },
          "metadata": {
            "tags": []
          },
          "execution_count": 4
        }
      ]
    },
    {
      "cell_type": "markdown",
      "metadata": {
        "id": "D3W_-5ZqnLZi"
      },
      "source": [
        "#### [Named Entity Recognition - ELECTRA Large (OntoNotes)](https://nlp.johnsnowlabs.com/2020/12/05/onto_electra_large_uncased_en.html)"
      ]
    },
    {
      "cell_type": "code",
      "metadata": {
        "colab": {
          "base_uri": "https://localhost:8080/",
          "height": 224
        },
        "id": "I74UYCV1lg88",
        "outputId": "99502767-743c-4b6b-d57f-6cfcabb18e62"
      },
      "source": [
        "nlu.load(\"en.ner.onto.electra.uncased_large\").predict(\"\"\"William Henry Gates III (born October 28, 1955) is an American business magnate,\r\n",
        " software developer, investor, and philanthropist. He is best known as the co-founder of Microsoft Corporation. During his career at Microsoft,\r\n",
        "  Gates held the positions of chairman, chief executive officer (CEO), president and chief software architect,\r\n",
        "   while also being the largest individual shareholder until May 2014.\r\n",
        "    He is one of the best-known entrepreneurs and pioneers of the microcomputer revolution of the 1970s and 1980s. Born and raised in Seattle, Washington, Gates co-founded Microsoft with childhood friend Paul Allen in 1975, in Albuquerque, New Mexico;\r\n",
        "     it went on to become the world's largest personal computer software company. Gates led the company as chairman and CEO until stepping down as CEO in January 2000, but he remained chairman and became chief software architect.\r\n",
        "     During the late 1990s, Gates had been criticized for his business tactics, which have been considered anti-competitive. This opinion has been upheld by numerous court rulings. In June 2006, Gates announced that he would be transitioning to a part-time\r\n",
        "      role at Microsoft and full-time work at the Bill & Melinda Gates Foundation, the private charitable foundation that he and his wife, Melinda Gates, established in 2000.\r\n",
        " He gradually transferred his duties to Ray Ozzie and Craig Mundie.\r\n",
        "  He stepped down as chairman of Microsoft in February 2014 and assumed a new post as technology adviser to support the newly appointed CEO Satya Nadellabase.\"\"\",output_level = \"document\")"
      ],
      "execution_count": null,
      "outputs": [
        {
          "output_type": "stream",
          "text": [
            "onto_electra_large_uncased download started this may take some time.\n",
            "Approximate size to download 16.2 MB\n",
            "[OK!]\n",
            "electra_large_uncased download started this may take some time.\n",
            "Approximate size to download 1.2 GB\n",
            "[OK!]\n"
          ],
          "name": "stdout"
        },
        {
          "output_type": "execute_result",
          "data": {
            "text/html": [
              "<div>\n",
              "<style scoped>\n",
              "    .dataframe tbody tr th:only-of-type {\n",
              "        vertical-align: middle;\n",
              "    }\n",
              "\n",
              "    .dataframe tbody tr th {\n",
              "        vertical-align: top;\n",
              "    }\n",
              "\n",
              "    .dataframe thead th {\n",
              "        text-align: right;\n",
              "    }\n",
              "</style>\n",
              "<table border=\"1\" class=\"dataframe\">\n",
              "  <thead>\n",
              "    <tr style=\"text-align: right;\">\n",
              "      <th></th>\n",
              "      <th>entities_confidence</th>\n",
              "      <th>word_embeddings</th>\n",
              "      <th>entities</th>\n",
              "      <th>document</th>\n",
              "      <th>ner_confidence</th>\n",
              "    </tr>\n",
              "    <tr>\n",
              "      <th>origin_index</th>\n",
              "      <th></th>\n",
              "      <th></th>\n",
              "      <th></th>\n",
              "      <th></th>\n",
              "      <th></th>\n",
              "    </tr>\n",
              "  </thead>\n",
              "  <tbody>\n",
              "    <tr>\n",
              "      <th>0</th>\n",
              "      <td>[PERSON, DATE, NORP, ORG, ORG, PERSON, DATE, C...</td>\n",
              "      <td>[[0.36132267117500305, 0.05707388371229172, 0....</td>\n",
              "      <td>[William Henry Gates, October 28, 1955, Americ...</td>\n",
              "      <td>William Henry Gates III (born October 28, 1955...</td>\n",
              "      <td>[0.8442000150680542, 0.26840001344680786, 0.57...</td>\n",
              "    </tr>\n",
              "  </tbody>\n",
              "</table>\n",
              "</div>"
            ],
            "text/plain": [
              "                                            entities_confidence  ...                                     ner_confidence\n",
              "origin_index                                                     ...                                                   \n",
              "0             [PERSON, DATE, NORP, ORG, ORG, PERSON, DATE, C...  ...  [0.8442000150680542, 0.26840001344680786, 0.57...\n",
              "\n",
              "[1 rows x 5 columns]"
            ]
          },
          "metadata": {
            "tags": []
          },
          "execution_count": 5
        }
      ]
    },
    {
      "cell_type": "markdown",
      "metadata": {
        "id": "PSV43Gl3oIFV"
      },
      "source": [
        "#### [Recognize Entities OntoNotes - BERT Tiny](https://nlp.johnsnowlabs.com/2020/12/09/onto_recognize_entities_bert_tiny_en.html)"
      ]
    },
    {
      "cell_type": "code",
      "metadata": {
        "colab": {
          "base_uri": "https://localhost:8080/",
          "height": 174
        },
        "id": "myZJ9oqSn-p_",
        "outputId": "77fbd1f3-14e3-476a-e956-e14dfe1ab38f"
      },
      "source": [
        "nlu.load(\"en.ner.onto.bert.tiny\").predict(\"Johnson first entered politics when elected in 2001 as a member of Parliament. He then served eight years as the mayor of London, from 2008 to 2016, before rejoining Parliament.\",output_level=\"document\")"
      ],
      "execution_count": null,
      "outputs": [
        {
          "output_type": "stream",
          "text": [
            "onto_recognize_entities_bert_tiny download started this may take some time.\n",
            "Approx size to download 30.2 MB\n",
            "[OK!]\n"
          ],
          "name": "stdout"
        },
        {
          "output_type": "execute_result",
          "data": {
            "text/html": [
              "<div>\n",
              "<style scoped>\n",
              "    .dataframe tbody tr th:only-of-type {\n",
              "        vertical-align: middle;\n",
              "    }\n",
              "\n",
              "    .dataframe tbody tr th {\n",
              "        vertical-align: top;\n",
              "    }\n",
              "\n",
              "    .dataframe thead th {\n",
              "        text-align: right;\n",
              "    }\n",
              "</style>\n",
              "<table border=\"1\" class=\"dataframe\">\n",
              "  <thead>\n",
              "    <tr style=\"text-align: right;\">\n",
              "      <th></th>\n",
              "      <th>document</th>\n",
              "      <th>entities_confidence</th>\n",
              "      <th>embeddings</th>\n",
              "      <th>entities</th>\n",
              "      <th>ner_confidence</th>\n",
              "    </tr>\n",
              "    <tr>\n",
              "      <th>origin_index</th>\n",
              "      <th></th>\n",
              "      <th></th>\n",
              "      <th></th>\n",
              "      <th></th>\n",
              "      <th></th>\n",
              "    </tr>\n",
              "  </thead>\n",
              "  <tbody>\n",
              "    <tr>\n",
              "      <th>0</th>\n",
              "      <td>Johnson first entered politics when elected in...</td>\n",
              "      <td>[PERSON, ORDINAL, DATE, ORG, DATE, GPE, DATE]</td>\n",
              "      <td>[[-0.4546712636947632, 1.1734843254089355, -0....</td>\n",
              "      <td>[Johnson, first, 2001, Parliament, eight years...</td>\n",
              "      <td>[0.994700014591217, 0.9412999749183655, 0.9685...</td>\n",
              "    </tr>\n",
              "  </tbody>\n",
              "</table>\n",
              "</div>"
            ],
            "text/plain": [
              "                                                       document  ...                                     ner_confidence\n",
              "origin_index                                                     ...                                                   \n",
              "0             Johnson first entered politics when elected in...  ...  [0.994700014591217, 0.9412999749183655, 0.9685...\n",
              "\n",
              "[1 rows x 5 columns]"
            ]
          },
          "metadata": {
            "tags": []
          },
          "execution_count": 3
        }
      ]
    },
    {
      "cell_type": "markdown",
      "metadata": {
        "id": "SyDi_giJoWLQ"
      },
      "source": [
        "#### [Recognize Entities OntoNotes - BERT Mini](https://nlp.johnsnowlabs.com/2020/12/09/onto_recognize_entities_bert_mini_en.html)"
      ]
    },
    {
      "cell_type": "code",
      "metadata": {
        "colab": {
          "base_uri": "https://localhost:8080/",
          "height": 174
        },
        "id": "ibcxNxMIoVOr",
        "outputId": "eda8de2f-ae38-4547-addc-1b4b8b39623b"
      },
      "source": [
        "nlu.load(\"en.ner.onto.bert.mini\").predict(\"Johnson first entered politics when elected in 2001 as a member of Parliament. He then served eight years as the mayor of London, from 2008 to 2016, before rejoining Parliament.\",output_level=\"document\")"
      ],
      "execution_count": null,
      "outputs": [
        {
          "output_type": "stream",
          "text": [
            "onto_recognize_entities_bert_mini download started this may take some time.\n",
            "Approx size to download 54.9 MB\n",
            "[OK!]\n"
          ],
          "name": "stdout"
        },
        {
          "output_type": "execute_result",
          "data": {
            "text/html": [
              "<div>\n",
              "<style scoped>\n",
              "    .dataframe tbody tr th:only-of-type {\n",
              "        vertical-align: middle;\n",
              "    }\n",
              "\n",
              "    .dataframe tbody tr th {\n",
              "        vertical-align: top;\n",
              "    }\n",
              "\n",
              "    .dataframe thead th {\n",
              "        text-align: right;\n",
              "    }\n",
              "</style>\n",
              "<table border=\"1\" class=\"dataframe\">\n",
              "  <thead>\n",
              "    <tr style=\"text-align: right;\">\n",
              "      <th></th>\n",
              "      <th>document</th>\n",
              "      <th>entities_confidence</th>\n",
              "      <th>embeddings</th>\n",
              "      <th>entities</th>\n",
              "      <th>ner_confidence</th>\n",
              "    </tr>\n",
              "    <tr>\n",
              "      <th>origin_index</th>\n",
              "      <th></th>\n",
              "      <th></th>\n",
              "      <th></th>\n",
              "      <th></th>\n",
              "      <th></th>\n",
              "    </tr>\n",
              "  </thead>\n",
              "  <tbody>\n",
              "    <tr>\n",
              "      <th>0</th>\n",
              "      <td>Johnson first entered politics when elected in...</td>\n",
              "      <td>[PERSON, ORDINAL, DATE, DATE, GPE, DATE]</td>\n",
              "      <td>[[-1.2602146863937378, 1.057421088218689, -1.4...</td>\n",
              "      <td>[Johnson, first, 2001, eight years, London, 20...</td>\n",
              "      <td>[0.996399998664856, 0.9733999967575073, 0.8766...</td>\n",
              "    </tr>\n",
              "  </tbody>\n",
              "</table>\n",
              "</div>"
            ],
            "text/plain": [
              "                                                       document  ...                                     ner_confidence\n",
              "origin_index                                                     ...                                                   \n",
              "0             Johnson first entered politics when elected in...  ...  [0.996399998664856, 0.9733999967575073, 0.8766...\n",
              "\n",
              "[1 rows x 5 columns]"
            ]
          },
          "metadata": {
            "tags": []
          },
          "execution_count": 4
        }
      ]
    },
    {
      "cell_type": "markdown",
      "metadata": {
        "id": "q8MWky9nogRZ"
      },
      "source": [
        "#### [Recognize Entities OntoNotes - BERT Small](https://nlp.johnsnowlabs.com/2020/12/09/onto_recognize_entities_bert_small_en.html)\r\n"
      ]
    },
    {
      "cell_type": "code",
      "metadata": {
        "colab": {
          "base_uri": "https://localhost:8080/",
          "height": 174
        },
        "id": "aZ9-pKHpof4C",
        "outputId": "6a9abc7f-99bb-4ae3-aa86-90213f5d9b3e"
      },
      "source": [
        "nlu.load(\"en.ner.onto.bert.small\").predict(\"Johnson first entered politics when elected in 2001 as a member of Parliament. He then served eight years as the mayor of London, from 2008 to 2016, before rejoining Parliament.\",output_level=\"document\")"
      ],
      "execution_count": null,
      "outputs": [
        {
          "output_type": "stream",
          "text": [
            "onto_recognize_entities_bert_small download started this may take some time.\n",
            "Approx size to download 119.1 MB\n",
            "[OK!]\n"
          ],
          "name": "stdout"
        },
        {
          "output_type": "execute_result",
          "data": {
            "text/html": [
              "<div>\n",
              "<style scoped>\n",
              "    .dataframe tbody tr th:only-of-type {\n",
              "        vertical-align: middle;\n",
              "    }\n",
              "\n",
              "    .dataframe tbody tr th {\n",
              "        vertical-align: top;\n",
              "    }\n",
              "\n",
              "    .dataframe thead th {\n",
              "        text-align: right;\n",
              "    }\n",
              "</style>\n",
              "<table border=\"1\" class=\"dataframe\">\n",
              "  <thead>\n",
              "    <tr style=\"text-align: right;\">\n",
              "      <th></th>\n",
              "      <th>document</th>\n",
              "      <th>entities_confidence</th>\n",
              "      <th>embeddings</th>\n",
              "      <th>entities</th>\n",
              "      <th>ner_confidence</th>\n",
              "    </tr>\n",
              "    <tr>\n",
              "      <th>origin_index</th>\n",
              "      <th></th>\n",
              "      <th></th>\n",
              "      <th></th>\n",
              "      <th></th>\n",
              "      <th></th>\n",
              "    </tr>\n",
              "  </thead>\n",
              "  <tbody>\n",
              "    <tr>\n",
              "      <th>0</th>\n",
              "      <td>Johnson first entered politics when elected in...</td>\n",
              "      <td>[PERSON, ORDINAL, DATE, DATE, GPE, DATE, ORG]</td>\n",
              "      <td>[[0.762708306312561, -0.5289521217346191, 0.49...</td>\n",
              "      <td>[Johnson, first, 2001, eight years, London, 20...</td>\n",
              "      <td>[0.9987999796867371, 0.9610000252723694, 0.998...</td>\n",
              "    </tr>\n",
              "  </tbody>\n",
              "</table>\n",
              "</div>"
            ],
            "text/plain": [
              "                                                       document  ...                                     ner_confidence\n",
              "origin_index                                                     ...                                                   \n",
              "0             Johnson first entered politics when elected in...  ...  [0.9987999796867371, 0.9610000252723694, 0.998...\n",
              "\n",
              "[1 rows x 5 columns]"
            ]
          },
          "metadata": {
            "tags": []
          },
          "execution_count": 5
        }
      ]
    },
    {
      "cell_type": "markdown",
      "metadata": {
        "id": "cqcWjENGooDw"
      },
      "source": [
        "#### [Recognize Entities OntoNotes - BERT Medium](https://nlp.johnsnowlabs.com/2020/12/09/onto_recognize_entities_bert_medium_en.html)\r\n"
      ]
    },
    {
      "cell_type": "code",
      "metadata": {
        "colab": {
          "base_uri": "https://localhost:8080/",
          "height": 174
        },
        "id": "3QoLlBL2ob1-",
        "outputId": "c255e9f1-e55c-4226-df53-88e9be86f391"
      },
      "source": [
        "nlu.load(\"en.ner.onto.bert.medium\").predict(\"Johnson first entered politics when elected in 2001 as a member of Parliament. He then served eight years as the mayor of London, from 2008 to 2016, before rejoining Parliament.\",output_level=\"document\")"
      ],
      "execution_count": null,
      "outputs": [
        {
          "output_type": "stream",
          "text": [
            "onto_recognize_entities_bert_medium download started this may take some time.\n",
            "Approx size to download 164.2 MB\n",
            "[OK!]\n"
          ],
          "name": "stdout"
        },
        {
          "output_type": "execute_result",
          "data": {
            "text/html": [
              "<div>\n",
              "<style scoped>\n",
              "    .dataframe tbody tr th:only-of-type {\n",
              "        vertical-align: middle;\n",
              "    }\n",
              "\n",
              "    .dataframe tbody tr th {\n",
              "        vertical-align: top;\n",
              "    }\n",
              "\n",
              "    .dataframe thead th {\n",
              "        text-align: right;\n",
              "    }\n",
              "</style>\n",
              "<table border=\"1\" class=\"dataframe\">\n",
              "  <thead>\n",
              "    <tr style=\"text-align: right;\">\n",
              "      <th></th>\n",
              "      <th>document</th>\n",
              "      <th>entities_confidence</th>\n",
              "      <th>embeddings</th>\n",
              "      <th>entities</th>\n",
              "      <th>ner_confidence</th>\n",
              "    </tr>\n",
              "    <tr>\n",
              "      <th>origin_index</th>\n",
              "      <th></th>\n",
              "      <th></th>\n",
              "      <th></th>\n",
              "      <th></th>\n",
              "      <th></th>\n",
              "    </tr>\n",
              "  </thead>\n",
              "  <tbody>\n",
              "    <tr>\n",
              "      <th>0</th>\n",
              "      <td>Johnson first entered politics when elected in...</td>\n",
              "      <td>[PERSON, ORDINAL, DATE, DATE, GPE, DATE]</td>\n",
              "      <td>[[1.5288833379745483, 0.2753971219062805, 0.87...</td>\n",
              "      <td>[Johnson, first, 2001, eight years, London, 20...</td>\n",
              "      <td>[0.9969000220298767, 0.8575999736785889, 0.995...</td>\n",
              "    </tr>\n",
              "  </tbody>\n",
              "</table>\n",
              "</div>"
            ],
            "text/plain": [
              "                                                       document  ...                                     ner_confidence\n",
              "origin_index                                                     ...                                                   \n",
              "0             Johnson first entered politics when elected in...  ...  [0.9969000220298767, 0.8575999736785889, 0.995...\n",
              "\n",
              "[1 rows x 5 columns]"
            ]
          },
          "metadata": {
            "tags": []
          },
          "execution_count": 6
        }
      ]
    },
    {
      "cell_type": "markdown",
      "metadata": {
        "id": "jWI_LhEuorIj"
      },
      "source": [
        "#### [Recognize Entities OntoNotes - BERT Base](https://nlp.johnsnowlabs.com/2020/12/09/onto_recognize_entities_bert_base_en.html)"
      ]
    },
    {
      "cell_type": "code",
      "metadata": {
        "colab": {
          "base_uri": "https://localhost:8080/",
          "height": 174
        },
        "id": "soqCoACKonN4",
        "outputId": "d929051c-a133-4bcd-b222-bf0077b4e74a"
      },
      "source": [
        "nlu.load(\"en.ner.onto.bert.base\").predict(\"Johnson first entered politics when elected in 2001 as a member of Parliament. He then served eight years as the mayor of London, from 2008 to 2016, before rejoining Parliament.\",output_level=\"document\")"
      ],
      "execution_count": null,
      "outputs": [
        {
          "output_type": "stream",
          "text": [
            "onto_recognize_entities_bert_base download started this may take some time.\n",
            "Approx size to download 405 MB\n",
            "[OK!]\n"
          ],
          "name": "stdout"
        },
        {
          "output_type": "execute_result",
          "data": {
            "text/html": [
              "<div>\n",
              "<style scoped>\n",
              "    .dataframe tbody tr th:only-of-type {\n",
              "        vertical-align: middle;\n",
              "    }\n",
              "\n",
              "    .dataframe tbody tr th {\n",
              "        vertical-align: top;\n",
              "    }\n",
              "\n",
              "    .dataframe thead th {\n",
              "        text-align: right;\n",
              "    }\n",
              "</style>\n",
              "<table border=\"1\" class=\"dataframe\">\n",
              "  <thead>\n",
              "    <tr style=\"text-align: right;\">\n",
              "      <th></th>\n",
              "      <th>document</th>\n",
              "      <th>entities_confidence</th>\n",
              "      <th>embeddings</th>\n",
              "      <th>entities</th>\n",
              "      <th>ner_confidence</th>\n",
              "    </tr>\n",
              "    <tr>\n",
              "      <th>origin_index</th>\n",
              "      <th></th>\n",
              "      <th></th>\n",
              "      <th></th>\n",
              "      <th></th>\n",
              "      <th></th>\n",
              "    </tr>\n",
              "  </thead>\n",
              "  <tbody>\n",
              "    <tr>\n",
              "      <th>0</th>\n",
              "      <td>Johnson first entered politics when elected in...</td>\n",
              "      <td>[PERSON, ORDINAL, DATE, ORG, DATE, GPE, DATE, ...</td>\n",
              "      <td>[[0.251736581325531, -0.37001582980155945, 0.2...</td>\n",
              "      <td>[Johnson, first, 2001, Parliament, eight years...</td>\n",
              "      <td>[0.996999979019165, 0.933899998664856, 0.99930...</td>\n",
              "    </tr>\n",
              "  </tbody>\n",
              "</table>\n",
              "</div>"
            ],
            "text/plain": [
              "                                                       document  ...                                     ner_confidence\n",
              "origin_index                                                     ...                                                   \n",
              "0             Johnson first entered politics when elected in...  ...  [0.996999979019165, 0.933899998664856, 0.99930...\n",
              "\n",
              "[1 rows x 5 columns]"
            ]
          },
          "metadata": {
            "tags": []
          },
          "execution_count": 7
        }
      ]
    },
    {
      "cell_type": "markdown",
      "metadata": {
        "id": "mrsiGTULoyui"
      },
      "source": [
        "  #### [Recognize Entities OntoNotes - BERT Large](https://nlp.johnsnowlabs.com/2020/12/09/onto_recognize_entities_bert_large_en.html)"
      ]
    },
    {
      "cell_type": "code",
      "metadata": {
        "colab": {
          "base_uri": "https://localhost:8080/",
          "height": 174
        },
        "id": "JOutbicfouYF",
        "outputId": "720475af-a7f4-4586-bbb9-8c11fba0df34"
      },
      "source": [
        "nlu.load(\"en.ner.onto.bert.large\").predict(\"Johnson first entered politics when elected in 2001 as a member of Parliament. He then served eight years as the mayor of London, from 2008 to 2016, before rejoining Parliament.\",output_level=\"document\")"
      ],
      "execution_count": null,
      "outputs": [
        {
          "output_type": "stream",
          "text": [
            "onto_recognize_entities_bert_large download started this may take some time.\n",
            "Approx size to download 1.2 GB\n",
            "[OK!]\n"
          ],
          "name": "stdout"
        },
        {
          "output_type": "execute_result",
          "data": {
            "text/html": [
              "<div>\n",
              "<style scoped>\n",
              "    .dataframe tbody tr th:only-of-type {\n",
              "        vertical-align: middle;\n",
              "    }\n",
              "\n",
              "    .dataframe tbody tr th {\n",
              "        vertical-align: top;\n",
              "    }\n",
              "\n",
              "    .dataframe thead th {\n",
              "        text-align: right;\n",
              "    }\n",
              "</style>\n",
              "<table border=\"1\" class=\"dataframe\">\n",
              "  <thead>\n",
              "    <tr style=\"text-align: right;\">\n",
              "      <th></th>\n",
              "      <th>document</th>\n",
              "      <th>entities_confidence</th>\n",
              "      <th>embeddings</th>\n",
              "      <th>entities</th>\n",
              "      <th>ner_confidence</th>\n",
              "    </tr>\n",
              "    <tr>\n",
              "      <th>origin_index</th>\n",
              "      <th></th>\n",
              "      <th></th>\n",
              "      <th></th>\n",
              "      <th></th>\n",
              "      <th></th>\n",
              "    </tr>\n",
              "  </thead>\n",
              "  <tbody>\n",
              "    <tr>\n",
              "      <th>0</th>\n",
              "      <td>Johnson first entered politics when elected in...</td>\n",
              "      <td>[PERSON, ORDINAL, DATE, ORG, DATE, GPE, DATE, ...</td>\n",
              "      <td>[[-0.4543353319168091, -0.7595162987709045, 0....</td>\n",
              "      <td>[Johnson, first, 2001, Parliament, eight years...</td>\n",
              "      <td>[0.9786999821662903, 0.9549000263214111, 0.998...</td>\n",
              "    </tr>\n",
              "  </tbody>\n",
              "</table>\n",
              "</div>"
            ],
            "text/plain": [
              "                                                       document  ...                                     ner_confidence\n",
              "origin_index                                                     ...                                                   \n",
              "0             Johnson first entered politics when elected in...  ...  [0.9786999821662903, 0.9549000263214111, 0.998...\n",
              "\n",
              "[1 rows x 5 columns]"
            ]
          },
          "metadata": {
            "tags": []
          },
          "execution_count": 8
        }
      ]
    },
    {
      "cell_type": "markdown",
      "metadata": {
        "id": "eQgAjiW1pKgF"
      },
      "source": [
        "#### [Recognize Entities OntoNotes - ELECTRA Small](https://nlp.johnsnowlabs.com/2020/12/09/onto_recognize_entities_electra_small_en.html)"
      ]
    },
    {
      "cell_type": "code",
      "metadata": {
        "colab": {
          "base_uri": "https://localhost:8080/",
          "height": 174
        },
        "id": "6Qy78RBzpGKg",
        "outputId": "dfb71593-7419-422a-f129-ffca61676580"
      },
      "source": [
        "nlu.load(\"en.ner.onto.electra.small\").predict(\"Johnson first entered politics when elected in 2001 as a member of Parliament. He then served eight years as the mayor of London, from 2008 to 2016, before rejoining Parliament.\",output_level=\"document\")"
      ],
      "execution_count": null,
      "outputs": [
        {
          "output_type": "stream",
          "text": [
            "onto_recognize_entities_electra_small download started this may take some time.\n",
            "Approx size to download 63.1 MB\n",
            "[OK!]\n"
          ],
          "name": "stdout"
        },
        {
          "output_type": "execute_result",
          "data": {
            "text/html": [
              "<div>\n",
              "<style scoped>\n",
              "    .dataframe tbody tr th:only-of-type {\n",
              "        vertical-align: middle;\n",
              "    }\n",
              "\n",
              "    .dataframe tbody tr th {\n",
              "        vertical-align: top;\n",
              "    }\n",
              "\n",
              "    .dataframe thead th {\n",
              "        text-align: right;\n",
              "    }\n",
              "</style>\n",
              "<table border=\"1\" class=\"dataframe\">\n",
              "  <thead>\n",
              "    <tr style=\"text-align: right;\">\n",
              "      <th></th>\n",
              "      <th>embeddings</th>\n",
              "      <th>entities_confidence</th>\n",
              "      <th>document</th>\n",
              "      <th>entities</th>\n",
              "      <th>ner_confidence</th>\n",
              "    </tr>\n",
              "    <tr>\n",
              "      <th>origin_index</th>\n",
              "      <th></th>\n",
              "      <th></th>\n",
              "      <th></th>\n",
              "      <th></th>\n",
              "      <th></th>\n",
              "    </tr>\n",
              "  </thead>\n",
              "  <tbody>\n",
              "    <tr>\n",
              "      <th>0</th>\n",
              "      <td>[[0.7035379409790039, -0.6307563781738281, -1....</td>\n",
              "      <td>[PERSON, ORDINAL, DATE, DATE, GPE, DATE]</td>\n",
              "      <td>Johnson first entered politics when elected in...</td>\n",
              "      <td>[Johnson, first, 2001, eight years, London, 20...</td>\n",
              "      <td>[0.9952999949455261, 0.8589000105857849, 0.996...</td>\n",
              "    </tr>\n",
              "  </tbody>\n",
              "</table>\n",
              "</div>"
            ],
            "text/plain": [
              "                                                     embeddings  ...                                     ner_confidence\n",
              "origin_index                                                     ...                                                   \n",
              "0             [[0.7035379409790039, -0.6307563781738281, -1....  ...  [0.9952999949455261, 0.8589000105857849, 0.996...\n",
              "\n",
              "[1 rows x 5 columns]"
            ]
          },
          "metadata": {
            "tags": []
          },
          "execution_count": 2
        }
      ]
    },
    {
      "cell_type": "markdown",
      "metadata": {
        "id": "zlUKIvIhplze"
      },
      "source": [
        "#### [Recognize Entities OntoNotes - ELECTRA Base](https://nlp.johnsnowlabs.com/2020/12/09/onto_recognize_entities_electra_base_en.html)"
      ]
    },
    {
      "cell_type": "code",
      "metadata": {
        "colab": {
          "base_uri": "https://localhost:8080/",
          "height": 174
        },
        "id": "v7eMjrxzpSfa",
        "outputId": "20a61898-0c77-4107-cfe4-8b88a81986c7"
      },
      "source": [
        "nlu.load(\"en.ner.onto.electra.base\").predict(\"Johnson first entered politics when elected in 2001 as a member of Parliament. He then served eight years as the mayor of London, from 2008 to 2016, before rejoining Parliament.\",output_level=\"document\")"
      ],
      "execution_count": null,
      "outputs": [
        {
          "output_type": "stream",
          "text": [
            "onto_recognize_entities_electra_base download started this may take some time.\n",
            "Approx size to download 405 MB\n",
            "[OK!]\n"
          ],
          "name": "stdout"
        },
        {
          "output_type": "execute_result",
          "data": {
            "text/html": [
              "<div>\n",
              "<style scoped>\n",
              "    .dataframe tbody tr th:only-of-type {\n",
              "        vertical-align: middle;\n",
              "    }\n",
              "\n",
              "    .dataframe tbody tr th {\n",
              "        vertical-align: top;\n",
              "    }\n",
              "\n",
              "    .dataframe thead th {\n",
              "        text-align: right;\n",
              "    }\n",
              "</style>\n",
              "<table border=\"1\" class=\"dataframe\">\n",
              "  <thead>\n",
              "    <tr style=\"text-align: right;\">\n",
              "      <th></th>\n",
              "      <th>embeddings</th>\n",
              "      <th>entities_confidence</th>\n",
              "      <th>document</th>\n",
              "      <th>entities</th>\n",
              "      <th>ner_confidence</th>\n",
              "    </tr>\n",
              "    <tr>\n",
              "      <th>origin_index</th>\n",
              "      <th></th>\n",
              "      <th></th>\n",
              "      <th></th>\n",
              "      <th></th>\n",
              "      <th></th>\n",
              "    </tr>\n",
              "  </thead>\n",
              "  <tbody>\n",
              "    <tr>\n",
              "      <th>0</th>\n",
              "      <td>[[0.3622591197490692, -0.02143842540681362, -0...</td>\n",
              "      <td>[PERSON, ORDINAL, DATE, ORG, DATE, GPE, DATE, ...</td>\n",
              "      <td>Johnson first entered politics when elected in...</td>\n",
              "      <td>[Johnson, first, 2001, Parliament, eight years...</td>\n",
              "      <td>[0.9987999796867371, 0.9474999904632568, 0.999...</td>\n",
              "    </tr>\n",
              "  </tbody>\n",
              "</table>\n",
              "</div>"
            ],
            "text/plain": [
              "                                                     embeddings  ...                                     ner_confidence\n",
              "origin_index                                                     ...                                                   \n",
              "0             [[0.3622591197490692, -0.02143842540681362, -0...  ...  [0.9987999796867371, 0.9474999904632568, 0.999...\n",
              "\n",
              "[1 rows x 5 columns]"
            ]
          },
          "metadata": {
            "tags": []
          },
          "execution_count": 3
        }
      ]
    },
    {
      "cell_type": "markdown",
      "metadata": {
        "id": "jvkooLaypuyV"
      },
      "source": [
        "#### [Recognize Entities OntoNotes - ELECTRA Large](https://nlp.johnsnowlabs.com/2020/12/09/onto_recognize_entities_electra_large_en.html)\r\n"
      ]
    },
    {
      "cell_type": "code",
      "metadata": {
        "colab": {
          "base_uri": "https://localhost:8080/",
          "height": 174
        },
        "id": "-GeevpxGpsr9",
        "outputId": "9f7673b9-888b-4410-a5ca-d6cc100505f9"
      },
      "source": [
        "nlu.load(\"en.ner.onto.large\").predict(\"Johnson first entered politics when elected in 2001 as a member of Parliament. He then served eight years as the mayor of London, from 2008 to 2016, before rejoining Parliament.\",output_level=\"document\")"
      ],
      "execution_count": null,
      "outputs": [
        {
          "output_type": "stream",
          "text": [
            "onto_recognize_entities_electra_large download started this may take some time.\n",
            "Approx size to download 1.2 GB\n",
            "[OK!]\n"
          ],
          "name": "stdout"
        },
        {
          "output_type": "execute_result",
          "data": {
            "text/html": [
              "<div>\n",
              "<style scoped>\n",
              "    .dataframe tbody tr th:only-of-type {\n",
              "        vertical-align: middle;\n",
              "    }\n",
              "\n",
              "    .dataframe tbody tr th {\n",
              "        vertical-align: top;\n",
              "    }\n",
              "\n",
              "    .dataframe thead th {\n",
              "        text-align: right;\n",
              "    }\n",
              "</style>\n",
              "<table border=\"1\" class=\"dataframe\">\n",
              "  <thead>\n",
              "    <tr style=\"text-align: right;\">\n",
              "      <th></th>\n",
              "      <th>embeddings</th>\n",
              "      <th>entities_confidence</th>\n",
              "      <th>document</th>\n",
              "      <th>entities</th>\n",
              "      <th>ner_confidence</th>\n",
              "    </tr>\n",
              "    <tr>\n",
              "      <th>origin_index</th>\n",
              "      <th></th>\n",
              "      <th></th>\n",
              "      <th></th>\n",
              "      <th></th>\n",
              "      <th></th>\n",
              "    </tr>\n",
              "  </thead>\n",
              "  <tbody>\n",
              "    <tr>\n",
              "      <th>0</th>\n",
              "      <td>[[0.18863718211650848, -0.2816839814186096, -0...</td>\n",
              "      <td>[PERSON, ORDINAL, DATE, DATE, GPE, DATE]</td>\n",
              "      <td>Johnson first entered politics when elected in...</td>\n",
              "      <td>[Johnson, first, 2001, eight years, London, 20...</td>\n",
              "      <td>[0.9998000264167786, 0.9613999724388123, 0.998...</td>\n",
              "    </tr>\n",
              "  </tbody>\n",
              "</table>\n",
              "</div>"
            ],
            "text/plain": [
              "                                                     embeddings  ...                                     ner_confidence\n",
              "origin_index                                                     ...                                                   \n",
              "0             [[0.18863718211650848, -0.2816839814186096, -0...  ...  [0.9998000264167786, 0.9613999724388123, 0.998...\n",
              "\n",
              "[1 rows x 5 columns]"
            ]
          },
          "metadata": {
            "tags": []
          },
          "execution_count": 5
        }
      ]
    }
  ]
}
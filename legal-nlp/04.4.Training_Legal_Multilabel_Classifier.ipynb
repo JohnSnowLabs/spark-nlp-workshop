{
  "cells": [
    {
      "cell_type": "markdown",
      "metadata": {
        "id": "KLqW6FOnEvov"
      },
      "source": [
        "# Training Multilabel Classification Models with Legal NLP"
      ]
    },
    {
      "cell_type": "markdown",
      "metadata": {
        "id": "wxZDXLDCXkk_"
      },
      "source": [
        "\n",
        "![JohnSnowLabs](https://nlp.johnsnowlabs.com/assets/images/logo.png)\n"
      ]
    },
    {
      "cell_type": "markdown",
      "metadata": {
        "id": "pZ6sKi8ZX1z4"
      },
      "source": [
        "[![Open In Colab](https://colab.research.google.com/assets/colab-badge.svg)](https://colab.research.google.com/github/JohnSnowLabs/spark-nlp-workshop/blob/master/legal-nlp/04.4.Training_Legal_Multilabel_Classifier.ipynb)"
      ]
    },
    {
      "cell_type": "markdown",
      "metadata": {
        "id": "245d53bb"
      },
      "source": [
        "In this notebook, you will learn how to use Spark NLP and Legal NLP to train multilabel classification models.\n",
        "\n",
        "Let`s dive in!"
      ]
    },
    {
      "cell_type": "markdown",
      "metadata": {
        "id": "RPprYrOB-O7L"
      },
      "source": [
        "# Colab Setup"
      ]
    },
    {
      "cell_type": "markdown",
      "metadata": {
        "collapsed": false,
        "id": "gk3kZHmNj51v"
      },
      "source": [
        "# Installation"
      ]
    },
    {
      "cell_type": "code",
      "execution_count": null,
      "metadata": {
        "id": "_914itZsj51v",
        "pycharm": {
          "is_executing": true
        }
      },
      "outputs": [],
      "source": [
        "! pip install -q johnsnowlabs"
      ]
    },
    {
      "cell_type": "markdown",
      "metadata": {
        "id": "YPsbAnNoPt0Z"
      },
      "source": [
        "## Automatic Installation\n",
        "Using my.johnsnowlabs.com SSO"
      ]
    },
    {
      "cell_type": "code",
      "execution_count": null,
      "metadata": {
        "id": "fY0lcShkj51w",
        "pycharm": {
          "is_executing": true
        }
      },
      "outputs": [],
      "source": [
        "from johnsnowlabs import nlp, legal\n",
        "\n",
        "# nlp.install(force_browser=True)"
      ]
    },
    {
      "cell_type": "markdown",
      "metadata": {
        "id": "hsJvn_WWM2GL"
      },
      "source": [
        "## Manual downloading\n",
        "If you are not registered in my.johnsnowlabs.com, you received a license via e-email or you are using Safari, you may need to do a manual update of the license.\n",
        "\n",
        "- Go to my.johnsnowlabs.com\n",
        "- Download your license\n",
        "- Upload it using the following command"
      ]
    },
    {
      "cell_type": "code",
      "execution_count": null,
      "metadata": {
        "id": "i57QV3-_P2sQ"
      },
      "outputs": [],
      "source": [
        "from google.colab import files\n",
        "print('Please Upload your John Snow Labs License using the button below')\n",
        "license_keys = files.upload()"
      ]
    },
    {
      "cell_type": "markdown",
      "metadata": {
        "id": "xGgNdFzZP_hQ"
      },
      "source": [
        "- Install it"
      ]
    },
    {
      "cell_type": "code",
      "execution_count": null,
      "metadata": {
        "id": "OfmmPqknP4rR"
      },
      "outputs": [],
      "source": [
        "nlp.install()"
      ]
    },
    {
      "cell_type": "markdown",
      "metadata": {
        "id": "DCl5ErZkNNLk"
      },
      "source": [
        "# Starting"
      ]
    },
    {
      "cell_type": "code",
      "execution_count": null,
      "metadata": {
        "id": "wRXTnNl3j51w"
      },
      "outputs": [],
      "source": [
        "spark = nlp.start()"
      ]
    },
    {
      "cell_type": "markdown",
      "metadata": {
        "id": "e9d3bac3"
      },
      "source": [
        "## Introduction"
      ]
    },
    {
      "cell_type": "markdown",
      "metadata": {
        "id": "fd9e23a6"
      },
      "source": [
        "For the text classification tasks, we will use two annotators:\n",
        "\n",
        "- `MultiClassifierDL`: `Multilabel Classification` (can predict more than one class for each text) using a Bidirectional GRU with Convolution architecture built with TensorFlow that supports up to 100 classes. The inputs are Sentence Embeddings such as state-of-the-art UniversalSentenceEncoder, BertSentenceEmbeddings or SentenceEmbeddings.\n",
        "- `ClassifierDL`: uses the state-of-the-art Universal Sentence Encoder as an input for text classifications. Then, a deep learning model (DNNs) built with TensorFlow that supports `Binary Classification` and `Multiclass Classification` (up to 100 classes)."
      ]
    },
    {
      "cell_type": "markdown",
      "metadata": {
        "id": "BhKlxMBWH9-Z"
      },
      "source": [
        "## Loading the data"
      ]
    },
    {
      "cell_type": "code",
      "execution_count": null,
      "metadata": {
        "id": "2Ab4pyK6MyCZ"
      },
      "outputs": [],
      "source": [
        "! wget -q https://raw.githubusercontent.com/JohnSnowLabs/spark-nlp-workshop/master/legal-nlp/data/finance_data.csv"
      ]
    },
    {
      "cell_type": "code",
      "execution_count": null,
      "metadata": {
        "id": "inazYcpkqYym"
      },
      "outputs": [],
      "source": []
    },
    {
      "cell_type": "markdown",
      "metadata": {
        "id": "jWhU1pMUay0I"
      },
      "source": [
        "## With RoBerta Embeddings"
      ]
    },
    {
      "cell_type": "markdown",
      "metadata": {
        "id": "bHVFY_i4H5Gh"
      },
      "source": [
        "We do not have have any specific Legal Sentence Embeddings, but we can use Legal RoBerta Embeddings and then average them."
      ]
    },
    {
      "cell_type": "code",
      "execution_count": null,
      "metadata": {
        "colab": {
          "base_uri": "https://localhost:8080/"
        },
        "id": "OyKOEM7q9wWf",
        "outputId": "117daaf2-2d38-45c6-8a76-e61ace827bc2"
      },
      "outputs": [
        {
          "name": "stdout",
          "output_type": "stream",
          "text": [
            "Spark Session already created, some configs may not take.\n",
            "👌 Detected license file /content/spark_nlp_for_healthcare_spark_ocr_7163 (2).json\n"
          ]
        }
      ],
      "source": [
        "from johnsnowlabs import nlp, legal \n",
        "# Automatically load license data and start a session with all jars user has access to\n",
        "spark = nlp.start()"
      ]
    },
    {
      "cell_type": "code",
      "execution_count": null,
      "metadata": {
        "colab": {
          "base_uri": "https://localhost:8080/"
        },
        "id": "hn0igCCA9AmQ",
        "outputId": "e29db1bc-0317-4c1f-d2bc-dd63a35c90de"
      },
      "outputs": [
        {
          "name": "stdout",
          "output_type": "stream",
          "text": [
            "Shape of the full dataset: (27527, 2)\n"
          ]
        }
      ],
      "source": [
        "import pandas as pd\n",
        "df = pd.read_csv(\"finance_data.csv\")\n",
        "df['label'] = df['label'].apply(eval)\n",
        "print(f\"Shape of the full dataset: {df.shape}\")"
      ]
    },
    {
      "cell_type": "code",
      "execution_count": null,
      "metadata": {
        "id": "OXsVsr-y9VL3"
      },
      "outputs": [],
      "source": [
        "data = spark.createDataFrame(df)\n",
        "\n",
        "# If you have a single dataset, then split it or else you can load the test dataset the same way that you load the train data.\n",
        "\n",
        "train, test = data.limit(500).randomSplit([0.7, 0.3], seed=42)"
      ]
    },
    {
      "cell_type": "code",
      "execution_count": null,
      "metadata": {
        "colab": {
          "base_uri": "https://localhost:8080/"
        },
        "id": "8PG4NNyQdBnG",
        "outputId": "fba25275-a350-4e26-9bb6-078c8da07351"
      },
      "outputs": [
        {
          "name": "stdout",
          "output_type": "stream",
          "text": [
            "roberta_embeddings_legal_roberta_base download started this may take some time.\n",
            "Approximate size to download 447.2 MB\n",
            "[OK!]\n"
          ]
        }
      ],
      "source": [
        "embeddings = (\n",
        "    nlp.RoBertaEmbeddings.pretrained(\"roberta_embeddings_legal_roberta_base\", \"en\")\n",
        "    .setInputCols([\"document\", \"token\"])\n",
        "    .setOutputCol(\"embeddings\")\n",
        "    .setMaxSentenceLength(512)\n",
        ")"
      ]
    },
    {
      "cell_type": "markdown",
      "metadata": {
        "id": "j0qb4B5VweW1"
      },
      "source": [
        "This model takes longer to train, so we limit the number of epochs to `3`."
      ]
    },
    {
      "cell_type": "code",
      "execution_count": null,
      "metadata": {
        "id": "zdiCyuc3dBnJ"
      },
      "outputs": [],
      "source": [
        "document_assembler = (\n",
        "    nlp.DocumentAssembler().setInputCol(\"provision\").setOutputCol(\"document\")\n",
        ")\n",
        "\n",
        "tokenizer = nlp.Tokenizer().setInputCols([\"document\"]).setOutputCol(\"token\")\n",
        "\n",
        "embeddingsSentence = (\n",
        "    nlp.SentenceEmbeddings()\n",
        "    .setInputCols([\"document\", \"embeddings\"])\n",
        "    .setOutputCol(\"sentence_embeddings\")\n",
        "    .setPoolingStrategy(\"AVERAGE\")\n",
        ")\n",
        "\n",
        "classsifierdl = (\n",
        "    nlp.MultiClassifierDLApproach()\n",
        "    .setInputCols([\"sentence_embeddings\"])\n",
        "    .setOutputCol(\"class\")\n",
        "    .setLabelColumn(\"label\")\n",
        "    .setMaxEpochs(5)\n",
        "    .setLr(0.001)\n",
        "    .setRandomSeed(42)\n",
        "    .setEnableOutputLogs(True)\n",
        "    .setOutputLogsPath(\"multilabel_roberta_logs\")\n",
        "    .setBatchSize(8)\n",
        ")\n",
        "\n",
        "\n",
        "clf_pipeline = nlp.Pipeline(\n",
        "    stages=[\n",
        "        document_assembler,\n",
        "        tokenizer,\n",
        "        embeddings,\n",
        "        embeddingsSentence,\n",
        "        classsifierdl,\n",
        "    ]\n",
        ")"
      ]
    },
    {
      "cell_type": "code",
      "execution_count": null,
      "metadata": {
        "colab": {
          "base_uri": "https://localhost:8080/"
        },
        "id": "7fxOmkTNdBnK",
        "outputId": "fc7898a2-5f21-4d49-a102-7b99ac017011"
      },
      "outputs": [
        {
          "name": "stdout",
          "output_type": "stream",
          "text": [
            "CPU times: user 2.84 s, sys: 400 ms, total: 3.24 s\n",
            "Wall time: 9min 39s\n"
          ]
        }
      ],
      "source": [
        "%%time\n",
        "clf_pipelineModel = clf_pipeline.fit(train)"
      ]
    },
    {
      "cell_type": "code",
      "execution_count": null,
      "metadata": {
        "colab": {
          "base_uri": "https://localhost:8080/"
        },
        "id": "HkzBERAHSP5j",
        "outputId": "d8defa0c-143f-439c-d662-3b94b3ef28d9"
      },
      "outputs": [
        {
          "name": "stdout",
          "output_type": "stream",
          "text": [
            "Training started - epochs: 5 - learning_rate: 0.001 - batch_size: 8 - training_examples: 374 - classes: 15\n",
            "Epoch 0/5 - 2.69s - loss: 0.29948545 - acc: 0.9309782 - batches: 47\n",
            "Epoch 1/5 - 0.54s - loss: 0.18318962 - acc: 0.9618359 - batches: 47\n",
            "Epoch 2/5 - 0.56s - loss: 0.12013305 - acc: 0.9798308 - batches: 47\n",
            "Epoch 3/5 - 0.53s - loss: 0.08942111 - acc: 0.9921496 - batches: 47\n",
            "Epoch 4/5 - 0.54s - loss: 0.070660174 - acc: 0.9977053 - batches: 47\n",
            "\n"
          ]
        }
      ],
      "source": [
        "import os\n",
        "log_file_name = os.listdir(\"multilabel_roberta_logs\")[0]\n",
        "\n",
        "with open(\"multilabel_roberta_logs/\"+log_file_name, \"r\") as log_file :\n",
        "    print(log_file.read())"
      ]
    },
    {
      "cell_type": "code",
      "execution_count": null,
      "metadata": {
        "id": "Y-YfOWrudBnM"
      },
      "outputs": [],
      "source": [
        "preds = clf_pipelineModel.transform(test)"
      ]
    },
    {
      "cell_type": "code",
      "execution_count": null,
      "metadata": {
        "id": "9VfIUz3IdBnN"
      },
      "outputs": [],
      "source": [
        "preds_df = preds.select('provision','label',\"class.result\").toPandas()"
      ]
    },
    {
      "cell_type": "code",
      "execution_count": null,
      "metadata": {
        "colab": {
          "base_uri": "https://localhost:8080/",
          "height": 206
        },
        "id": "6KE4YTX9SYAs",
        "outputId": "f83c0958-e93f-4c49-a142-cc16cc9cb09a"
      },
      "outputs": [
        {
          "data": {
            "text/html": [
              "\n",
              "  <div id=\"df-0f12912e-eb7a-4649-b9b7-ff1a8a5937ac\">\n",
              "    <div class=\"colab-df-container\">\n",
              "      <div>\n",
              "<style scoped>\n",
              "    .dataframe tbody tr th:only-of-type {\n",
              "        vertical-align: middle;\n",
              "    }\n",
              "\n",
              "    .dataframe tbody tr th {\n",
              "        vertical-align: top;\n",
              "    }\n",
              "\n",
              "    .dataframe thead th {\n",
              "        text-align: right;\n",
              "    }\n",
              "</style>\n",
              "<table border=\"1\" class=\"dataframe\">\n",
              "  <thead>\n",
              "    <tr style=\"text-align: right;\">\n",
              "      <th></th>\n",
              "      <th>provision</th>\n",
              "      <th>label</th>\n",
              "      <th>result</th>\n",
              "    </tr>\n",
              "  </thead>\n",
              "  <tbody>\n",
              "    <tr>\n",
              "      <th>0</th>\n",
              "      <td>(a) THIS AGREEMENT AND ANY CLAIM, CONTROVERSY,...</td>\n",
              "      <td>[governing laws, entire agreements]</td>\n",
              "      <td>[governing laws, entire agreements]</td>\n",
              "    </tr>\n",
              "    <tr>\n",
              "      <th>1</th>\n",
              "      <td>All agreements, statements, representations an...</td>\n",
              "      <td>[survival]</td>\n",
              "      <td>[]</td>\n",
              "    </tr>\n",
              "    <tr>\n",
              "      <th>2</th>\n",
              "      <td>All covenants of the Company contained in this...</td>\n",
              "      <td>[survival]</td>\n",
              "      <td>[]</td>\n",
              "    </tr>\n",
              "    <tr>\n",
              "      <th>3</th>\n",
              "      <td>All covenants, agreements, representations and...</td>\n",
              "      <td>[survival]</td>\n",
              "      <td>[]</td>\n",
              "    </tr>\n",
              "    <tr>\n",
              "      <th>4</th>\n",
              "      <td>All indemnities set forth herein including, wi...</td>\n",
              "      <td>[survival]</td>\n",
              "      <td>[survival]</td>\n",
              "    </tr>\n",
              "  </tbody>\n",
              "</table>\n",
              "</div>\n",
              "      <button class=\"colab-df-convert\" onclick=\"convertToInteractive('df-0f12912e-eb7a-4649-b9b7-ff1a8a5937ac')\"\n",
              "              title=\"Convert this dataframe to an interactive table.\"\n",
              "              style=\"display:none;\">\n",
              "        \n",
              "  <svg xmlns=\"http://www.w3.org/2000/svg\" height=\"24px\"viewBox=\"0 0 24 24\"\n",
              "       width=\"24px\">\n",
              "    <path d=\"M0 0h24v24H0V0z\" fill=\"none\"/>\n",
              "    <path d=\"M18.56 5.44l.94 2.06.94-2.06 2.06-.94-2.06-.94-.94-2.06-.94 2.06-2.06.94zm-11 1L8.5 8.5l.94-2.06 2.06-.94-2.06-.94L8.5 2.5l-.94 2.06-2.06.94zm10 10l.94 2.06.94-2.06 2.06-.94-2.06-.94-.94-2.06-.94 2.06-2.06.94z\"/><path d=\"M17.41 7.96l-1.37-1.37c-.4-.4-.92-.59-1.43-.59-.52 0-1.04.2-1.43.59L10.3 9.45l-7.72 7.72c-.78.78-.78 2.05 0 2.83L4 21.41c.39.39.9.59 1.41.59.51 0 1.02-.2 1.41-.59l7.78-7.78 2.81-2.81c.8-.78.8-2.07 0-2.86zM5.41 20L4 18.59l7.72-7.72 1.47 1.35L5.41 20z\"/>\n",
              "  </svg>\n",
              "      </button>\n",
              "      \n",
              "  <style>\n",
              "    .colab-df-container {\n",
              "      display:flex;\n",
              "      flex-wrap:wrap;\n",
              "      gap: 12px;\n",
              "    }\n",
              "\n",
              "    .colab-df-convert {\n",
              "      background-color: #E8F0FE;\n",
              "      border: none;\n",
              "      border-radius: 50%;\n",
              "      cursor: pointer;\n",
              "      display: none;\n",
              "      fill: #1967D2;\n",
              "      height: 32px;\n",
              "      padding: 0 0 0 0;\n",
              "      width: 32px;\n",
              "    }\n",
              "\n",
              "    .colab-df-convert:hover {\n",
              "      background-color: #E2EBFA;\n",
              "      box-shadow: 0px 1px 2px rgba(60, 64, 67, 0.3), 0px 1px 3px 1px rgba(60, 64, 67, 0.15);\n",
              "      fill: #174EA6;\n",
              "    }\n",
              "\n",
              "    [theme=dark] .colab-df-convert {\n",
              "      background-color: #3B4455;\n",
              "      fill: #D2E3FC;\n",
              "    }\n",
              "\n",
              "    [theme=dark] .colab-df-convert:hover {\n",
              "      background-color: #434B5C;\n",
              "      box-shadow: 0px 1px 3px 1px rgba(0, 0, 0, 0.15);\n",
              "      filter: drop-shadow(0px 1px 2px rgba(0, 0, 0, 0.3));\n",
              "      fill: #FFFFFF;\n",
              "    }\n",
              "  </style>\n",
              "\n",
              "      <script>\n",
              "        const buttonEl =\n",
              "          document.querySelector('#df-0f12912e-eb7a-4649-b9b7-ff1a8a5937ac button.colab-df-convert');\n",
              "        buttonEl.style.display =\n",
              "          google.colab.kernel.accessAllowed ? 'block' : 'none';\n",
              "\n",
              "        async function convertToInteractive(key) {\n",
              "          const element = document.querySelector('#df-0f12912e-eb7a-4649-b9b7-ff1a8a5937ac');\n",
              "          const dataTable =\n",
              "            await google.colab.kernel.invokeFunction('convertToInteractive',\n",
              "                                                     [key], {});\n",
              "          if (!dataTable) return;\n",
              "\n",
              "          const docLinkHtml = 'Like what you see? Visit the ' +\n",
              "            '<a target=\"_blank\" href=https://colab.research.google.com/notebooks/data_table.ipynb>data table notebook</a>'\n",
              "            + ' to learn more about interactive tables.';\n",
              "          element.innerHTML = '';\n",
              "          dataTable['output_type'] = 'display_data';\n",
              "          await google.colab.output.renderOutput(dataTable, element);\n",
              "          const docLink = document.createElement('div');\n",
              "          docLink.innerHTML = docLinkHtml;\n",
              "          element.appendChild(docLink);\n",
              "        }\n",
              "      </script>\n",
              "    </div>\n",
              "  </div>\n",
              "  "
            ],
            "text/plain": [
              "                                           provision  \\\n",
              "0  (a) THIS AGREEMENT AND ANY CLAIM, CONTROVERSY,...   \n",
              "1  All agreements, statements, representations an...   \n",
              "2  All covenants of the Company contained in this...   \n",
              "3  All covenants, agreements, representations and...   \n",
              "4  All indemnities set forth herein including, wi...   \n",
              "\n",
              "                                 label                               result  \n",
              "0  [governing laws, entire agreements]  [governing laws, entire agreements]  \n",
              "1                           [survival]                                   []  \n",
              "2                           [survival]                                   []  \n",
              "3                           [survival]                                   []  \n",
              "4                           [survival]                           [survival]  "
            ]
          },
          "execution_count": 16,
          "metadata": {},
          "output_type": "execute_result"
        }
      ],
      "source": [
        "preds_df.head()"
      ]
    },
    {
      "cell_type": "code",
      "execution_count": null,
      "metadata": {
        "colab": {
          "base_uri": "https://localhost:8080/"
        },
        "id": "GJKWrIpOYLW_",
        "outputId": "bc5584fc-d00a-427f-dadb-5b9a4c9e7803"
      },
      "outputs": [
        {
          "name": "stdout",
          "output_type": "stream",
          "text": [
            "Classification report: \n",
            "               precision    recall  f1-score   support\n",
            "\n",
            "           0       0.86      0.50      0.63        12\n",
            "           1       0.25      0.17      0.20         6\n",
            "           2       0.88      0.78      0.82         9\n",
            "           3       1.00      0.86      0.92        14\n",
            "           4       1.00      0.76      0.87        17\n",
            "           5       1.00      0.60      0.75         5\n",
            "           6       1.00      0.93      0.97        15\n",
            "           7       1.00      0.88      0.93        16\n",
            "           8       1.00      0.50      0.67         4\n",
            "           9       0.92      1.00      0.96        12\n",
            "          10       0.82      0.75      0.78        12\n",
            "          11       0.33      0.17      0.22         6\n",
            "          12       1.00      0.40      0.57         5\n",
            "          13       1.00      0.57      0.73         7\n",
            "          14       0.50      0.25      0.33         4\n",
            "\n",
            "   micro avg       0.90      0.70      0.79       144\n",
            "   macro avg       0.84      0.61      0.69       144\n",
            "weighted avg       0.89      0.70      0.77       144\n",
            " samples avg       0.69      0.71      0.69       144\n",
            "\n",
            "F1 micro averaging: 0.7890624999999999\n",
            "ROC:  0.8475443871706758\n"
          ]
        }
      ],
      "source": [
        "from sklearn.preprocessing import MultiLabelBinarizer\n",
        "from sklearn.metrics import classification_report\n",
        "from sklearn.metrics import f1_score\n",
        "from sklearn.metrics import roc_auc_score\n",
        "\n",
        "mlb = MultiLabelBinarizer()\n",
        "\n",
        "y_true = mlb.fit_transform(preds_df['label'])\n",
        "y_pred = mlb.transform(preds_df['result'])\n",
        "\n",
        "print(\"Classification report: \\n\", (classification_report(y_true, y_pred)))\n",
        "print(\"F1 micro averaging:\",(f1_score(y_true, y_pred, average='micro')))\n",
        "print(\"ROC: \",(roc_auc_score(y_true, y_pred, average=\"micro\")))\n"
      ]
    },
    {
      "cell_type": "markdown",
      "metadata": {
        "id": "Zsap0xaejFCX"
      },
      "source": [
        "## Saving & loading back the trained model"
      ]
    },
    {
      "cell_type": "code",
      "execution_count": null,
      "metadata": {
        "colab": {
          "base_uri": "https://localhost:8080/"
        },
        "id": "BQoJ_DHSjFCX",
        "outputId": "5061a502-b673-4749-f11f-7a27d9d7e96f"
      },
      "outputs": [
        {
          "data": {
            "text/plain": [
              "[DocumentAssembler_1d2e84f9329b,\n",
              " REGEX_TOKENIZER_6535f7ba66e8,\n",
              " ROBERTA_EMBEDDINGS_b915dff90901,\n",
              " SentenceEmbeddings_c91854a61841,\n",
              " MultiClassifierDLModel_e68f1838e916]"
            ]
          },
          "execution_count": 18,
          "metadata": {},
          "output_type": "execute_result"
        }
      ],
      "source": [
        "clf_pipelineModel.stages"
      ]
    },
    {
      "cell_type": "code",
      "execution_count": null,
      "metadata": {
        "id": "3hKjHocZjFCY"
      },
      "outputs": [],
      "source": [
        "clf_pipelineModel.stages[-1].write().overwrite().save('MultilabelClfRoBerta')"
      ]
    },
    {
      "cell_type": "code",
      "execution_count": null,
      "metadata": {
        "id": "cXtTavvVjFCY"
      },
      "outputs": [],
      "source": [
        "# Load back  saved Multilabel Classifier Model\n",
        "MultilabelClfModel = nlp.MultiClassifierDLModel.load('MultilabelClfRoBerta')"
      ]
    },
    {
      "cell_type": "code",
      "execution_count": null,
      "metadata": {
        "id": "sxWzLYSgjFCY"
      },
      "outputs": [],
      "source": [
        "ld_pipeline = nlp.Pipeline(\n",
        "    stages=[\n",
        "        document_assembler,\n",
        "        tokenizer,\n",
        "        embeddings,\n",
        "        embeddingsSentence,\n",
        "        MultilabelClfModel,\n",
        "    ]\n",
        ")\n",
        "ld_pipeline_model = ld_pipeline.fit(spark.createDataFrame([[\"\"]]).toDF(\"provision\"))"
      ]
    },
    {
      "cell_type": "code",
      "execution_count": null,
      "metadata": {
        "id": "FKe7kDccjFCY"
      },
      "outputs": [],
      "source": [
        "# Apply Model Transform to testData\n",
        "ld_preds = ld_pipeline_model.transform(test)"
      ]
    },
    {
      "cell_type": "code",
      "execution_count": null,
      "metadata": {
        "id": "pnZwf9MejFCY"
      },
      "outputs": [],
      "source": [
        "ld_preds_df = ld_preds.select('provision','label',\"class.result\").toPandas()"
      ]
    },
    {
      "cell_type": "code",
      "execution_count": null,
      "metadata": {
        "colab": {
          "base_uri": "https://localhost:8080/",
          "height": 363
        },
        "id": "rWarQRPBjFCZ",
        "outputId": "e2d74659-f6a5-4cae-ab50-39fde8f18d05"
      },
      "outputs": [
        {
          "data": {
            "text/html": [
              "\n",
              "  <div id=\"df-a6d74b43-3f77-41ed-9837-63f4275a93c1\">\n",
              "    <div class=\"colab-df-container\">\n",
              "      <div>\n",
              "<style scoped>\n",
              "    .dataframe tbody tr th:only-of-type {\n",
              "        vertical-align: middle;\n",
              "    }\n",
              "\n",
              "    .dataframe tbody tr th {\n",
              "        vertical-align: top;\n",
              "    }\n",
              "\n",
              "    .dataframe thead th {\n",
              "        text-align: right;\n",
              "    }\n",
              "</style>\n",
              "<table border=\"1\" class=\"dataframe\">\n",
              "  <thead>\n",
              "    <tr style=\"text-align: right;\">\n",
              "      <th></th>\n",
              "      <th>provision</th>\n",
              "      <th>label</th>\n",
              "      <th>result</th>\n",
              "    </tr>\n",
              "  </thead>\n",
              "  <tbody>\n",
              "    <tr>\n",
              "      <th>0</th>\n",
              "      <td>(a) THIS AGREEMENT AND ANY CLAIM, CONTROVERSY,...</td>\n",
              "      <td>[governing laws, entire agreements]</td>\n",
              "      <td>[governing laws, entire agreements]</td>\n",
              "    </tr>\n",
              "    <tr>\n",
              "      <th>1</th>\n",
              "      <td>All agreements, statements, representations an...</td>\n",
              "      <td>[survival]</td>\n",
              "      <td>[]</td>\n",
              "    </tr>\n",
              "    <tr>\n",
              "      <th>2</th>\n",
              "      <td>All covenants of the Company contained in this...</td>\n",
              "      <td>[survival]</td>\n",
              "      <td>[]</td>\n",
              "    </tr>\n",
              "    <tr>\n",
              "      <th>3</th>\n",
              "      <td>All covenants, agreements, representations and...</td>\n",
              "      <td>[survival]</td>\n",
              "      <td>[]</td>\n",
              "    </tr>\n",
              "    <tr>\n",
              "      <th>4</th>\n",
              "      <td>All indemnities set forth herein including, wi...</td>\n",
              "      <td>[survival]</td>\n",
              "      <td>[survival]</td>\n",
              "    </tr>\n",
              "    <tr>\n",
              "      <th>5</th>\n",
              "      <td>All issues and questions concerning the constr...</td>\n",
              "      <td>[governing laws]</td>\n",
              "      <td>[governing laws]</td>\n",
              "    </tr>\n",
              "    <tr>\n",
              "      <th>6</th>\n",
              "      <td>All notices and communications that are requir...</td>\n",
              "      <td>[notices]</td>\n",
              "      <td>[notices]</td>\n",
              "    </tr>\n",
              "    <tr>\n",
              "      <th>7</th>\n",
              "      <td>All notices and other communications hereunder...</td>\n",
              "      <td>[notices]</td>\n",
              "      <td>[notices]</td>\n",
              "    </tr>\n",
              "    <tr>\n",
              "      <th>8</th>\n",
              "      <td>All notices and other communications provided ...</td>\n",
              "      <td>[notices]</td>\n",
              "      <td>[notices]</td>\n",
              "    </tr>\n",
              "    <tr>\n",
              "      <th>9</th>\n",
              "      <td>All notices and other communications required ...</td>\n",
              "      <td>[notices]</td>\n",
              "      <td>[notices]</td>\n",
              "    </tr>\n",
              "  </tbody>\n",
              "</table>\n",
              "</div>\n",
              "      <button class=\"colab-df-convert\" onclick=\"convertToInteractive('df-a6d74b43-3f77-41ed-9837-63f4275a93c1')\"\n",
              "              title=\"Convert this dataframe to an interactive table.\"\n",
              "              style=\"display:none;\">\n",
              "        \n",
              "  <svg xmlns=\"http://www.w3.org/2000/svg\" height=\"24px\"viewBox=\"0 0 24 24\"\n",
              "       width=\"24px\">\n",
              "    <path d=\"M0 0h24v24H0V0z\" fill=\"none\"/>\n",
              "    <path d=\"M18.56 5.44l.94 2.06.94-2.06 2.06-.94-2.06-.94-.94-2.06-.94 2.06-2.06.94zm-11 1L8.5 8.5l.94-2.06 2.06-.94-2.06-.94L8.5 2.5l-.94 2.06-2.06.94zm10 10l.94 2.06.94-2.06 2.06-.94-2.06-.94-.94-2.06-.94 2.06-2.06.94z\"/><path d=\"M17.41 7.96l-1.37-1.37c-.4-.4-.92-.59-1.43-.59-.52 0-1.04.2-1.43.59L10.3 9.45l-7.72 7.72c-.78.78-.78 2.05 0 2.83L4 21.41c.39.39.9.59 1.41.59.51 0 1.02-.2 1.41-.59l7.78-7.78 2.81-2.81c.8-.78.8-2.07 0-2.86zM5.41 20L4 18.59l7.72-7.72 1.47 1.35L5.41 20z\"/>\n",
              "  </svg>\n",
              "      </button>\n",
              "      \n",
              "  <style>\n",
              "    .colab-df-container {\n",
              "      display:flex;\n",
              "      flex-wrap:wrap;\n",
              "      gap: 12px;\n",
              "    }\n",
              "\n",
              "    .colab-df-convert {\n",
              "      background-color: #E8F0FE;\n",
              "      border: none;\n",
              "      border-radius: 50%;\n",
              "      cursor: pointer;\n",
              "      display: none;\n",
              "      fill: #1967D2;\n",
              "      height: 32px;\n",
              "      padding: 0 0 0 0;\n",
              "      width: 32px;\n",
              "    }\n",
              "\n",
              "    .colab-df-convert:hover {\n",
              "      background-color: #E2EBFA;\n",
              "      box-shadow: 0px 1px 2px rgba(60, 64, 67, 0.3), 0px 1px 3px 1px rgba(60, 64, 67, 0.15);\n",
              "      fill: #174EA6;\n",
              "    }\n",
              "\n",
              "    [theme=dark] .colab-df-convert {\n",
              "      background-color: #3B4455;\n",
              "      fill: #D2E3FC;\n",
              "    }\n",
              "\n",
              "    [theme=dark] .colab-df-convert:hover {\n",
              "      background-color: #434B5C;\n",
              "      box-shadow: 0px 1px 3px 1px rgba(0, 0, 0, 0.15);\n",
              "      filter: drop-shadow(0px 1px 2px rgba(0, 0, 0, 0.3));\n",
              "      fill: #FFFFFF;\n",
              "    }\n",
              "  </style>\n",
              "\n",
              "      <script>\n",
              "        const buttonEl =\n",
              "          document.querySelector('#df-a6d74b43-3f77-41ed-9837-63f4275a93c1 button.colab-df-convert');\n",
              "        buttonEl.style.display =\n",
              "          google.colab.kernel.accessAllowed ? 'block' : 'none';\n",
              "\n",
              "        async function convertToInteractive(key) {\n",
              "          const element = document.querySelector('#df-a6d74b43-3f77-41ed-9837-63f4275a93c1');\n",
              "          const dataTable =\n",
              "            await google.colab.kernel.invokeFunction('convertToInteractive',\n",
              "                                                     [key], {});\n",
              "          if (!dataTable) return;\n",
              "\n",
              "          const docLinkHtml = 'Like what you see? Visit the ' +\n",
              "            '<a target=\"_blank\" href=https://colab.research.google.com/notebooks/data_table.ipynb>data table notebook</a>'\n",
              "            + ' to learn more about interactive tables.';\n",
              "          element.innerHTML = '';\n",
              "          dataTable['output_type'] = 'display_data';\n",
              "          await google.colab.output.renderOutput(dataTable, element);\n",
              "          const docLink = document.createElement('div');\n",
              "          docLink.innerHTML = docLinkHtml;\n",
              "          element.appendChild(docLink);\n",
              "        }\n",
              "      </script>\n",
              "    </div>\n",
              "  </div>\n",
              "  "
            ],
            "text/plain": [
              "                                           provision  \\\n",
              "0  (a) THIS AGREEMENT AND ANY CLAIM, CONTROVERSY,...   \n",
              "1  All agreements, statements, representations an...   \n",
              "2  All covenants of the Company contained in this...   \n",
              "3  All covenants, agreements, representations and...   \n",
              "4  All indemnities set forth herein including, wi...   \n",
              "5  All issues and questions concerning the constr...   \n",
              "6  All notices and communications that are requir...   \n",
              "7  All notices and other communications hereunder...   \n",
              "8  All notices and other communications provided ...   \n",
              "9  All notices and other communications required ...   \n",
              "\n",
              "                                 label                               result  \n",
              "0  [governing laws, entire agreements]  [governing laws, entire agreements]  \n",
              "1                           [survival]                                   []  \n",
              "2                           [survival]                                   []  \n",
              "3                           [survival]                                   []  \n",
              "4                           [survival]                           [survival]  \n",
              "5                     [governing laws]                     [governing laws]  \n",
              "6                            [notices]                            [notices]  \n",
              "7                            [notices]                            [notices]  \n",
              "8                            [notices]                            [notices]  \n",
              "9                            [notices]                            [notices]  "
            ]
          },
          "execution_count": 24,
          "metadata": {},
          "output_type": "execute_result"
        }
      ],
      "source": [
        "ld_preds_df.head(10)"
      ]
    },
    {
      "cell_type": "markdown",
      "metadata": {
        "id": "c58uf8zLCqj7"
      },
      "source": [
        "## Zip Models for Modelshub Upload/Downloads"
      ]
    },
    {
      "cell_type": "code",
      "execution_count": null,
      "metadata": {
        "colab": {
          "base_uri": "https://localhost:8080/"
        },
        "id": "tfinWtXTRynE",
        "outputId": "5f66df77-46a3-4f91-a3df-2df0e1308702"
      },
      "outputs": [
        {
          "name": "stdout",
          "output_type": "stream",
          "text": [
            "  adding: fields/ (stored 0%)\n",
            "  adding: fields/datasetParams/ (stored 0%)\n",
            "  adding: fields/datasetParams/_SUCCESS (stored 0%)\n",
            "  adding: fields/datasetParams/.part-00000.crc (stored 0%)\n",
            "  adding: fields/datasetParams/part-00001 (deflated 34%)\n",
            "  adding: fields/datasetParams/part-00000 (deflated 27%)\n",
            "  adding: fields/datasetParams/.part-00001.crc (stored 0%)\n",
            "  adding: fields/datasetParams/._SUCCESS.crc (stored 0%)\n",
            "  adding: metadata/ (stored 0%)\n",
            "  adding: metadata/_SUCCESS (stored 0%)\n",
            "  adding: metadata/.part-00000.crc (stored 0%)\n",
            "  adding: metadata/part-00000 (deflated 41%)\n",
            "  adding: metadata/._SUCCESS.crc (stored 0%)\n",
            "  adding: multiclassifierdl_tensorflow (deflated 85%)\n"
          ]
        }
      ],
      "source": [
        "# cd into saved dir and zip\n",
        "! cd /content/MultilabelClfRoBerta ; zip -r /content/MultilabelClfRoBerta.zip *"
      ]
    },
    {
      "cell_type": "code",
      "execution_count": null,
      "metadata": {
        "id": "CnQdZqy48EXc"
      },
      "outputs": [],
      "source": []
    }
  ],
  "metadata": {
    "colab": {
      "provenance": []
    },
    "kernelspec": {
      "display_name": "Python 3",
      "name": "python3"
    },
    "language_info": {
      "name": "python"
    }
  },
  "nbformat": 4,
  "nbformat_minor": 0
}
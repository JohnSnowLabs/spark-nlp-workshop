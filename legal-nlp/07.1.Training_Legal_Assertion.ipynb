{
  "cells": [
    {
      "cell_type": "markdown",
      "id": "wxZDXLDCXkk_",
      "metadata": {
        "id": "wxZDXLDCXkk_"
      },
      "source": [
        "\n",
        "![JohnSnowLabs](https://nlp.johnsnowlabs.com/assets/images/logo.png)\n",
        "\n",
        "\n",
        "\n"
      ]
    },
    {
      "cell_type": "markdown",
      "id": "pZ6sKi8ZX1z4",
      "metadata": {
        "id": "pZ6sKi8ZX1z4"
      },
      "source": [
        "[![Open In Colab](https://colab.research.google.com/assets/colab-badge.svg)](https://colab.research.google.com/github/JohnSnowLabs/spark-nlp-workshop/blob/master/legal-nlp/07.1.Training_Legal_Assertion.ipynb)"
      ]
    },
    {
      "cell_type": "markdown",
      "id": "KLqW6FOnEvov",
      "metadata": {
        "id": "KLqW6FOnEvov"
      },
      "source": [
        "# Train Legal Assertion\n"
      ]
    },
    {
      "cell_type": "markdown",
      "id": "gk3kZHmNj51v",
      "metadata": {
        "collapsed": false,
        "id": "gk3kZHmNj51v"
      },
      "source": [
        "# Installation"
      ]
    },
    {
      "cell_type": "code",
      "execution_count": null,
      "id": "_914itZsj51v",
      "metadata": {
        "id": "_914itZsj51v",
        "pycharm": {
          "is_executing": true
        }
      },
      "outputs": [],
      "source": [
        "! pip install -q johnsnowlabs"
      ]
    },
    {
      "cell_type": "markdown",
      "id": "YPsbAnNoPt0Z",
      "metadata": {
        "id": "YPsbAnNoPt0Z"
      },
      "source": [
        "## Automatic Installation\n",
        "Using my.johnsnowlabs.com SSO"
      ]
    },
    {
      "cell_type": "code",
      "execution_count": null,
      "id": "fY0lcShkj51w",
      "metadata": {
        "id": "fY0lcShkj51w",
        "pycharm": {
          "is_executing": true
        }
      },
      "outputs": [],
      "source": [
        "from johnsnowlabs import nlp, legal\n",
        "\n",
        "# nlp.install(force_browser=True)"
      ]
    },
    {
      "cell_type": "markdown",
      "id": "hsJvn_WWM2GL",
      "metadata": {
        "id": "hsJvn_WWM2GL"
      },
      "source": [
        "## Manual downloading\n",
        "If you are not registered in my.johnsnowlabs.com, you received a license via e-email or you are using Safari, you may need to do a manual update of the license.\n",
        "\n",
        "- Go to my.johnsnowlabs.com\n",
        "- Download your license\n",
        "- Upload it using the following command"
      ]
    },
    {
      "cell_type": "code",
      "execution_count": null,
      "id": "i57QV3-_P2sQ",
      "metadata": {
        "id": "i57QV3-_P2sQ"
      },
      "outputs": [],
      "source": [
        "from google.colab import files\n",
        "print('Please Upload your John Snow Labs License using the button below')\n",
        "license_keys = files.upload()"
      ]
    },
    {
      "cell_type": "markdown",
      "id": "xGgNdFzZP_hQ",
      "metadata": {
        "id": "xGgNdFzZP_hQ"
      },
      "source": [
        "- Install it"
      ]
    },
    {
      "cell_type": "code",
      "execution_count": null,
      "id": "OfmmPqknP4rR",
      "metadata": {
        "id": "OfmmPqknP4rR"
      },
      "outputs": [],
      "source": [
        "nlp.install()"
      ]
    },
    {
      "cell_type": "markdown",
      "id": "DCl5ErZkNNLk",
      "metadata": {
        "id": "DCl5ErZkNNLk"
      },
      "source": [
        "# Starting"
      ]
    },
    {
      "cell_type": "code",
      "execution_count": null,
      "id": "wRXTnNl3j51w",
      "metadata": {
        "id": "wRXTnNl3j51w"
      },
      "outputs": [],
      "source": [
        "spark = nlp.start()"
      ]
    },
    {
      "cell_type": "markdown",
      "id": "JYBQyxEd0uR0",
      "metadata": {
        "id": "JYBQyxEd0uR0"
      },
      "source": [
        "# Data Prep "
      ]
    },
    {
      "cell_type": "code",
      "execution_count": null,
      "id": "AVBmGFcQ03La",
      "metadata": {
        "id": "AVBmGFcQ03La"
      },
      "outputs": [],
      "source": [
        "! wget -q https://raw.githubusercontent.com/JohnSnowLabs/spark-nlp-workshop/master/legal-nlp/data/assertion_fin.csv"
      ]
    },
    {
      "cell_type": "code",
      "execution_count": null,
      "id": "8iJF_HCw1Lgh",
      "metadata": {
        "id": "8iJF_HCw1Lgh"
      },
      "outputs": [],
      "source": [
        "import pandas as pd\n",
        "\n",
        "training_df = pd.read_csv('./assertion_fin.csv')"
      ]
    },
    {
      "cell_type": "code",
      "execution_count": null,
      "id": "JREBeTzb8ov-",
      "metadata": {
        "colab": {
          "base_uri": "https://localhost:8080/"
        },
        "id": "JREBeTzb8ov-",
        "outputId": "4a518053-c3cb-4be4-ced0-1e9160957343"
      },
      "outputs": [
        {
          "name": "stdout",
          "output_type": "stream",
          "text": [
            "+-------+--------------------+---------+-------+--------------------+------+---------------+\n",
            "|task_id|            sentence|tkn_start|tkn_end|               chunk|entity|assertion_label|\n",
            "+-------+--------------------+---------+-------+--------------------+------+---------------+\n",
            "|      1|The Swedish East ...|        1|      4|Swedish East Indi...|   ORG|           PAST|\n",
            "|      1|The Swedish East ...|        6|      8|Svenska Ostindisk...| ALIAS|           PAST|\n",
            "|      1|The Swedish East ...|       10|     10|                SOIC| ALIAS|           PAST|\n",
            "|      1|The Swedish East ...|       14|     14|          Gothenburg|   LOC|           PAST|\n",
            "|      1|The Swedish East ...|       15|     15|              Sweden|   LOC|           PAST|\n",
            "|      1|The Swedish East ...|       17|     17|                1731|  DATE|           PAST|\n",
            "|      1|The Swedish East ...|       25|     25|               China|   LOC|           PAST|\n",
            "|      1|The Swedish East ...|       28|     29|            Far East|   LOC|           PAST|\n",
            "|      1|The venture was i...|        9|     12|Dutch East India ...|   ORG|           PAST|\n",
            "|      1|The venture was i...|       15|     18|British East Indi...|   ORG|           PAST|\n",
            "|      1|This made Gothenb...|        2|      2|          Gothenburg|   LOC|           PAST|\n",
            "|      1|Trade with China ...|        2|      2|               China|   LOC|           PAST|\n",
            "|      1|Trade with China ...|       11|     11|              Sweden|   LOC|           PAST|\n",
            "|      1|The Chinese cultu...|       34|     34|              Sweden|   LOC|           PAST|\n",
            "|      1|The company folde...|        4|      4|                1813|  DATE|           PAST|\n",
            "|      1|nevertheless, it ...|       11|     11|          Gothenburg|   LOC|           PAST|\n",
            "|      1|Background Sweden...|       16|     17|          East India|   LOC|           PAST|\n",
            "|      1|The royal privile...|        5|      8|Swedish East Indi...|   ORG|           PAST|\n",
            "|      1|The royal privile...|        9|      9|                SOIC| ALIAS|           PAST|\n",
            "|      1|The royal privile...|       27|     28|          East India|   LOC|           PAST|\n",
            "+-------+--------------------+---------+-------+--------------------+------+---------------+\n",
            "only showing top 20 rows\n",
            "\n"
          ]
        }
      ],
      "source": [
        "training_data = spark.createDataFrame(training_df)\n",
        "training_data.show()"
      ]
    },
    {
      "cell_type": "code",
      "execution_count": null,
      "id": "ET8GD3y3-17e",
      "metadata": {
        "colab": {
          "base_uri": "https://localhost:8080/"
        },
        "id": "ET8GD3y3-17e",
        "outputId": "02b71da8-4ab5-41cd-b267-6977af9d0291"
      },
      "outputs": [
        {
          "name": "stdout",
          "output_type": "stream",
          "text": [
            "root\n",
            " |-- task_id: long (nullable = true)\n",
            " |-- sentence: string (nullable = true)\n",
            " |-- tkn_start: long (nullable = true)\n",
            " |-- tkn_end: long (nullable = true)\n",
            " |-- chunk: string (nullable = true)\n",
            " |-- entity: string (nullable = true)\n",
            " |-- assertion_label: string (nullable = true)\n",
            "\n"
          ]
        }
      ],
      "source": [
        "training_data.printSchema()"
      ]
    },
    {
      "cell_type": "code",
      "execution_count": null,
      "id": "R6xa4jp8Szs0",
      "metadata": {
        "colab": {
          "base_uri": "https://localhost:8080/"
        },
        "id": "R6xa4jp8Szs0",
        "outputId": "d0000eff-6757-45e5-9e93-6b798a0faa3b"
      },
      "outputs": [
        {
          "name": "stdout",
          "output_type": "stream",
          "text": [
            "CPU times: user 12.2 ms, sys: 1.13 ms, total: 13.4 ms\n",
            "Wall time: 830 ms\n"
          ]
        },
        {
          "data": {
            "text/plain": [
              "8050"
            ]
          },
          "execution_count": 10,
          "metadata": {},
          "output_type": "execute_result"
        }
      ],
      "source": [
        "%time training_data.count()"
      ]
    },
    {
      "cell_type": "code",
      "execution_count": null,
      "id": "fxcHD_Q_-_lD",
      "metadata": {
        "colab": {
          "base_uri": "https://localhost:8080/"
        },
        "id": "fxcHD_Q_-_lD",
        "outputId": "bbaea4e7-2410-4a4c-cb74-1ba07b52d329"
      },
      "outputs": [
        {
          "name": "stdout",
          "output_type": "stream",
          "text": [
            "Training Dataset Count: 8050\n",
            "Test Dataset Count: 802\n"
          ]
        }
      ],
      "source": [
        "(train_data, test_data) = training_data.randomSplit([0.9, 0.1], seed = 100)\n",
        "print(\"Training Dataset Count: \" + str(training_data.count()))\n",
        "print(\"Test Dataset Count: \" + str(test_data.count()))"
      ]
    },
    {
      "cell_type": "code",
      "execution_count": null,
      "id": "DFN_BuHU84HF",
      "metadata": {
        "colab": {
          "base_uri": "https://localhost:8080/"
        },
        "id": "DFN_BuHU84HF",
        "outputId": "2b38a7c8-6909-434d-8d64-32da67389d08"
      },
      "outputs": [
        {
          "name": "stdout",
          "output_type": "stream",
          "text": [
            "+-------+--------------------+---------+-------+--------------------+------+---------------+\n",
            "|task_id|            sentence|tkn_start|tkn_end|               chunk|entity|assertion_label|\n",
            "+-------+--------------------+---------+-------+--------------------+------+---------------+\n",
            "|      1|\"Stockholms-varve...|        6|      6|           Stockholm|   LOC|           PAST|\n",
            "|      1|\"The funny busine...|        5|      8|Swedish East Indi...|   ORG|           PAST|\n",
            "|      1|             (1998).|        0|      0|                1998|  DATE|           PAST|\n",
            "|      1|2.5 tonnes) and t...|       34|     34|              Sweden|   LOC|           PAST|\n",
            "|      1|37. Gothenburg: R...|        2|      7|Royal Society of ...|   ORG|           PAST|\n",
            "|      1|= Decline and fal...|       11|     11|                1806|  DATE|           PAST|\n",
            "|      1|= Early attempts ...|        9|     11|  Swedish East India|   ORG|           PAST|\n",
            "|      1|= Early attempts ...|       19|     19|            merchant|  ROLE|           PAST|\n",
            "|      1|= Early attempts ...|       20|     21|    Willem Usselincx|   PER|           PAST|\n",
            "|      1|= Sweden after th...|        1|      1|              Sweden|   LOC|           PAST|\n",
            "|      1|= The Royal chart...|        9|     12|Henrik König & Co...|   ORG|           PAST|\n",
            "|      1|= The Royal chart...|       39|     42|   Cape of Good Hope|   LOC|           PAST|\n",
            "|      1|= The Royal chart...|       46|     46|               Japan|   LOC|           PAST|\n",
            "|      1|= The Royal chart...|       79|     79|          Gothenburg|   LOC|           PAST|\n",
            "|      1|= The first octro...|        8|      8|           directors|  ROLE|           PAST|\n",
            "|      1|= The first octro...|       11|     11|                SOIC|   ORG|           PAST|\n",
            "|      1|= The first octro...|       13|     14|        Henrik König|   PER|           PAST|\n",
            "|      1|= The first octro...|       15|     16|      Colin Campbell|   PER|           PAST|\n",
            "|      1|= The first octro...|       23|     23|           Stockholm|   LOC|           PAST|\n",
            "|      1|= The fourth octr...|        6|      6|                SOIC|   ORG|           PAST|\n",
            "+-------+--------------------+---------+-------+--------------------+------+---------------+\n",
            "only showing top 20 rows\n",
            "\n"
          ]
        }
      ],
      "source": [
        "train_data.show()"
      ]
    },
    {
      "cell_type": "markdown",
      "id": "2WZDqlZA_kmb",
      "metadata": {
        "id": "2WZDqlZA_kmb"
      },
      "source": [
        "# Using RoBerta Embeddings"
      ]
    },
    {
      "cell_type": "code",
      "execution_count": null,
      "id": "7qfJh8ap_nI2",
      "metadata": {
        "colab": {
          "base_uri": "https://localhost:8080/"
        },
        "id": "7qfJh8ap_nI2",
        "outputId": "d6520564-f69d-4c9e-b06c-edd4207ec5e7"
      },
      "outputs": [
        {
          "name": "stdout",
          "output_type": "stream",
          "text": [
            "roberta_embeddings_legal_roberta_base download started this may take some time.\n",
            "Approximate size to download 447.2 MB\n",
            "[OK!]\n"
          ]
        }
      ],
      "source": [
        "roberta_embeddings = nlp.RoBertaEmbeddings.pretrained(\"roberta_embeddings_legal_roberta_base\",\"en\") \\\n",
        "    .setInputCols([\"document\", \"token\"]) \\\n",
        "    .setOutputCol(\"embeddings\") \\\n",
        "    .setMaxSentenceLength(512)"
      ]
    },
    {
      "cell_type": "code",
      "execution_count": null,
      "id": "Fe0957BT_rcy",
      "metadata": {
        "id": "Fe0957BT_rcy"
      },
      "outputs": [],
      "source": [
        "document = nlp.DocumentAssembler()\\\n",
        "    .setInputCol(\"sentence\")\\\n",
        "    .setOutputCol(\"document\")\n",
        "\n",
        "chunk = nlp.Doc2Chunk()\\\n",
        "    .setInputCols(\"document\")\\\n",
        "    .setOutputCol(\"doc_chunk\")\\\n",
        "    .setChunkCol(\"chunk\")\\\n",
        "    .setStartCol(\"tkn_start\")\\\n",
        "    .setStartColByTokenIndex(True)\\\n",
        "    .setFailOnMissing(False)\\\n",
        "    .setLowerCase(False)\n",
        "\n",
        "token = nlp.Tokenizer()\\\n",
        "    .setInputCols(['document'])\\\n",
        "    .setOutputCol('token')\n"
      ]
    },
    {
      "cell_type": "markdown",
      "id": "LFTO0PlI9-3e",
      "metadata": {
        "id": "LFTO0PlI9-3e"
      },
      "source": [
        "We save the test data in parquet format to use in `AssertionDLApproach()`. "
      ]
    },
    {
      "cell_type": "code",
      "execution_count": null,
      "id": "M9u4c65G9VaC",
      "metadata": {
        "id": "M9u4c65G9VaC"
      },
      "outputs": [],
      "source": [
        "assertion_pipeline = nlp.Pipeline(\n",
        "    stages = [\n",
        "    document,\n",
        "    chunk,\n",
        "    token,\n",
        "    roberta_embeddings])\n",
        "\n",
        "assertion_test_data = assertion_pipeline.fit(test_data).transform(test_data)"
      ]
    },
    {
      "cell_type": "code",
      "execution_count": null,
      "id": "r-UREmtI9Vd3",
      "metadata": {
        "colab": {
          "base_uri": "https://localhost:8080/"
        },
        "id": "r-UREmtI9Vd3",
        "outputId": "ac1eafe2-a654-4a67-831b-019c2fa23fe6"
      },
      "outputs": [
        {
          "data": {
            "text/plain": [
              "['task_id',\n",
              " 'sentence',\n",
              " 'tkn_start',\n",
              " 'tkn_end',\n",
              " 'chunk',\n",
              " 'entity',\n",
              " 'assertion_label',\n",
              " 'document',\n",
              " 'doc_chunk',\n",
              " 'token',\n",
              " 'embeddings']"
            ]
          },
          "execution_count": 16,
          "metadata": {},
          "output_type": "execute_result"
        }
      ],
      "source": [
        "assertion_test_data.columns"
      ]
    },
    {
      "cell_type": "code",
      "execution_count": null,
      "id": "kBaiXx78BTLT",
      "metadata": {
        "id": "kBaiXx78BTLT"
      },
      "outputs": [],
      "source": [
        "assertion_test_data.write.mode('overwrite').parquet('test_data.parquet')"
      ]
    },
    {
      "cell_type": "code",
      "execution_count": null,
      "id": "tFhN6evk9ViI",
      "metadata": {
        "id": "tFhN6evk9ViI"
      },
      "outputs": [],
      "source": [
        "assertion_train_data = assertion_pipeline.fit(training_data).transform(training_data)\n",
        "assertion_train_data.write.mode('overwrite').parquet('train_data.parquet')"
      ]
    },
    {
      "cell_type": "code",
      "execution_count": null,
      "id": "BtxnrvcA9VlN",
      "metadata": {
        "colab": {
          "base_uri": "https://localhost:8080/"
        },
        "id": "BtxnrvcA9VlN",
        "outputId": "812775a7-13c0-46da-8a9b-de0407541123"
      },
      "outputs": [
        {
          "data": {
            "text/plain": [
              "['task_id',\n",
              " 'sentence',\n",
              " 'tkn_start',\n",
              " 'tkn_end',\n",
              " 'chunk',\n",
              " 'entity',\n",
              " 'assertion_label',\n",
              " 'document',\n",
              " 'doc_chunk',\n",
              " 'token',\n",
              " 'embeddings']"
            ]
          },
          "execution_count": 19,
          "metadata": {},
          "output_type": "execute_result"
        }
      ],
      "source": [
        "assertion_train_data.columns"
      ]
    },
    {
      "cell_type": "markdown",
      "id": "uTishXbut1MS",
      "metadata": {
        "id": "uTishXbut1MS"
      },
      "source": [
        "## Graph setup"
      ]
    },
    {
      "cell_type": "code",
      "execution_count": null,
      "id": "1hTawAHemzGn",
      "metadata": {
        "colab": {
          "base_uri": "https://localhost:8080/"
        },
        "id": "1hTawAHemzGn",
        "outputId": "2791a447-0207-41fc-d790-28c75e3c87bf"
      },
      "outputs": [
        {
          "name": "stdout",
          "output_type": "stream",
          "text": [
            "\u001b[2K     \u001b[90m━━━━━━━━━━━━━━━━━━━━━━━━━━━━━━━━━━━━━━━\u001b[0m \u001b[32m489.6/489.6 MB\u001b[0m \u001b[31m2.6 MB/s\u001b[0m eta \u001b[36m0:00:00\u001b[0m\n",
            "\u001b[2K     \u001b[90m━━━━━━━━━━━━━━━━━━━━━━━━━━━━━━━━━━━━━━\u001b[0m \u001b[32m463.1/463.1 KB\u001b[0m \u001b[31m39.1 MB/s\u001b[0m eta \u001b[36m0:00:00\u001b[0m\n",
            "\u001b[2K     \u001b[90m━━━━━━━━━━━━━━━━━━━━━━━━━━━━━━━━━━━━━━━━\u001b[0m \u001b[32m1.3/1.3 MB\u001b[0m \u001b[31m72.8 MB/s\u001b[0m eta \u001b[36m0:00:00\u001b[0m\n",
            "\u001b[2K     \u001b[90m━━━━━━━━━━━━━━━━━━━━━━━━━━━━━━━━━━━━━━━━\u001b[0m \u001b[32m1.1/1.1 MB\u001b[0m \u001b[31m17.0 MB/s\u001b[0m eta \u001b[36m0:00:00\u001b[0m\n",
            "\u001b[?25h"
          ]
        }
      ],
      "source": [
        "!pip install -q tensorflow==2.7.0\n",
        "!pip install -q tensorflow-addons"
      ]
    },
    {
      "cell_type": "markdown",
      "id": "0ShZT8BBo4FY",
      "metadata": {
        "id": "0ShZT8BBo4FY"
      },
      "source": [
        "We will use TFGraphBuilder annotator which can be used to create graphs in the model training pipeline. \n",
        "\n",
        "TFGraphBuilder inspects the data and creates the proper graph if a suitable version of TensorFlow (<= 2.7 ) is available. The graph is stored in the defined folder and loaded by the approach."
      ]
    },
    {
      "cell_type": "code",
      "execution_count": null,
      "id": "XhU0L1OXdaLN",
      "metadata": {
        "id": "XhU0L1OXdaLN"
      },
      "outputs": [],
      "source": [
        "graph_folder= \"./tf_graphs\""
      ]
    },
    {
      "cell_type": "code",
      "execution_count": null,
      "id": "miNgoTjio0mL",
      "metadata": {
        "id": "miNgoTjio0mL"
      },
      "outputs": [],
      "source": [
        "assertion_graph_builder =  legal.TFGraphBuilder()\\\n",
        "    .setModelName(\"assertion_dl\")\\\n",
        "    .setInputCols([\"sentence\", \"token\", \"embeddings\"]) \\\n",
        "    .setLabelColumn(\"assertion_label\")\\\n",
        "    .setGraphFolder(graph_folder)\\\n",
        "    .setGraphFile(\"assertion_graph.pb\")\\\n",
        "    .setMaxSequenceLength(1200)\\\n",
        "    .setHiddenUnitsNumber(25)"
      ]
    },
    {
      "cell_type": "markdown",
      "id": "6D0Ng7nMUjJa",
      "metadata": {
        "id": "6D0Ng7nMUjJa"
      },
      "source": [
        "**Setting the Scope Window (Target Area) Dynamically in Assertion Status Detection Models**\n",
        "\n",
        "\n",
        "This parameter allows you to train the Assertion Status Models to focus on specific context windows when resolving the status of a NER chunk. The window is in format `[X,Y]` being `X` the number of tokens to consider on the left of the chunk, and `Y` the max number of tokens to consider on the right. Let’s take a look at what different windows mean:\n",
        "\n",
        "\n",
        "*   By default, the window is `[-1,-1]` which means that the Assertion Status will look at all of the tokens in the sentence/document (up to a maximum of tokens set in `setMaxSentLen()` ).\n",
        "*   `[0,0]` means “don’t pay attention to any token except the ner_chunk”, what basically is not considering any context for the Assertion resolution.\n",
        "*   `[9,15]` is what empirically seems to be the best baseline, meaning that we look up to 9 tokens on the left and 15 on the right of the ner chunk to understand the context and resolve the status.\n",
        "\n",
        "\n",
        "Check this [Scope Window Tuning Assertion Status Detection notebook](https://github.com/JohnSnowLabs/spark-nlp-workshop/blob/master/tutorials/Certification_Trainings/Healthcare/2.1.Scope_window_tuning_assertion_status_detection.ipynb)  that illustrates the effect of the different windows and how to properly fine-tune your AssertionDLModels to get the best of them.\n",
        "\n",
        "In our case, the best Scope Window is around [10,10]"
      ]
    },
    {
      "cell_type": "code",
      "execution_count": null,
      "id": "BQxGbYks91go",
      "metadata": {
        "id": "BQxGbYks91go"
      },
      "outputs": [],
      "source": [
        "scope_window = [50, 50]\n",
        "\n",
        "assertionStatus = legal.AssertionDLApproach()\\\n",
        "    .setLabelCol(\"assertion_label\")\\\n",
        "    .setInputCols(\"document\", \"doc_chunk\", \"embeddings\")\\\n",
        "    .setOutputCol(\"assertion\")\\\n",
        "    .setBatchSize(128)\\\n",
        "    .setLearningRate(0.001)\\\n",
        "    .setEpochs(2)\\\n",
        "    .setStartCol(\"tkn_start\")\\\n",
        "    .setEndCol(\"tkn_end\")\\\n",
        "    .setMaxSentLen(1200)\\\n",
        "    .setEnableOutputLogs(True)\\\n",
        "    .setOutputLogsPath('training_logs/')\\\n",
        "    .setGraphFolder(graph_folder)\\\n",
        "    .setGraphFile(f\"{graph_folder}/assertion_graph.pb\")\\\n",
        "    .setTestDataset(path=\"test_data.parquet\", read_as='SPARK', options={'format': 'parquet'})\\\n",
        "    .setScopeWindow(scope_window)\n",
        "    #.setValidationSplit(0.2)\\    \n",
        "    #.setDropout(0.1)\\    "
      ]
    },
    {
      "cell_type": "code",
      "execution_count": null,
      "id": "T2MZLeCYATrS",
      "metadata": {
        "id": "T2MZLeCYATrS"
      },
      "outputs": [],
      "source": [
        "clinical_assertion_pipeline = nlp.Pipeline(\n",
        "    stages = [\n",
        "    #document,\n",
        "    #chunk,\n",
        "    #token,\n",
        "    #embeddings,\n",
        "    assertion_graph_builder,\n",
        "    assertionStatus])"
      ]
    },
    {
      "cell_type": "code",
      "execution_count": null,
      "id": "yIvnuaQP91j8",
      "metadata": {
        "colab": {
          "base_uri": "https://localhost:8080/"
        },
        "id": "yIvnuaQP91j8",
        "outputId": "ec4930ef-3846-4827-e4e0-b4821ae7c958"
      },
      "outputs": [
        {
          "name": "stdout",
          "output_type": "stream",
          "text": [
            "root\n",
            " |-- task_id: long (nullable = true)\n",
            " |-- sentence: string (nullable = true)\n",
            " |-- tkn_start: long (nullable = true)\n",
            " |-- tkn_end: long (nullable = true)\n",
            " |-- chunk: string (nullable = true)\n",
            " |-- entity: string (nullable = true)\n",
            " |-- assertion_label: string (nullable = true)\n",
            "\n"
          ]
        }
      ],
      "source": [
        "training_data.printSchema()"
      ]
    },
    {
      "cell_type": "code",
      "execution_count": null,
      "id": "ueJz0aiJ_7l4",
      "metadata": {
        "id": "ueJz0aiJ_7l4"
      },
      "outputs": [],
      "source": [
        "assertion_train_data = spark.read.parquet('train_data.parquet')"
      ]
    },
    {
      "cell_type": "code",
      "execution_count": null,
      "id": "j1NCZ89T_7ol",
      "metadata": {
        "colab": {
          "base_uri": "https://localhost:8080/"
        },
        "id": "j1NCZ89T_7ol",
        "outputId": "a0722e8e-5004-4b4c-8dad-488370c9f63c"
      },
      "outputs": [
        {
          "name": "stdout",
          "output_type": "stream",
          "text": [
            "TF Graph Builder configuration:\n",
            "Model name: assertion_dl\n",
            "Graph folder: ./tf_graphs\n",
            "Graph file name: assertion_graph.pb\n",
            "Build params: {'n_classes': 4, 'feat_size': 768, 'max_seq_len': 1200, 'n_hidden': 25}\n"
          ]
        },
        {
          "name": "stderr",
          "output_type": "stream",
          "text": [
            "WARNING:tensorflow:From /usr/local/lib/python3.8/dist-packages/tensorflow/python/compat/v2_compat.py:111: disable_resource_variables (from tensorflow.python.ops.variable_scope) is deprecated and will be removed in a future version.\n",
            "Instructions for updating:\n",
            "non-resource variables are not supported in the long term\n"
          ]
        },
        {
          "name": "stdout",
          "output_type": "stream",
          "text": [
            "Device mapping: no known devices.\n"
          ]
        },
        {
          "name": "stderr",
          "output_type": "stream",
          "text": [
            "WARNING:tensorflow:From /usr/local/lib/python3.8/dist-packages/sparknlp_jsl/_tf_graph_builders/tf2contrib/rnn.py:229: bidirectional_dynamic_rnn (from tensorflow.python.ops.rnn) is deprecated and will be removed in a future version.\n",
            "Instructions for updating:\n",
            "Please use `keras.layers.Bidirectional(keras.layers.RNN(cell))`, which is equivalent to this API\n",
            "WARNING:tensorflow:From /usr/local/lib/python3.8/dist-packages/tensorflow/python/ops/rnn.py:441: dynamic_rnn (from tensorflow.python.ops.rnn) is deprecated and will be removed in a future version.\n",
            "Instructions for updating:\n",
            "Please use `keras.layers.RNN(cell)`, which is equivalent to this API\n",
            "WARNING:tensorflow:From /usr/local/lib/python3.8/dist-packages/tensorflow/python/keras/layers/legacy_rnn/rnn_cell_impl.py:766: calling Zeros.__init__ (from tensorflow.python.ops.init_ops) with dtype is deprecated and will be removed in a future version.\n",
            "Instructions for updating:\n",
            "Call initializer instance with the dtype argument instead of passing it to the constructor\n"
          ]
        },
        {
          "name": "stdout",
          "output_type": "stream",
          "text": [
            "Device mapping: no known devices.\n",
            "assertion_dl graph exported to ./tf_graphs/assertion_graph.pb\n",
            "CPU times: user 15.1 s, sys: 1.48 s, total: 16.6 s\n",
            "Wall time: 19min 4s\n"
          ]
        }
      ],
      "source": [
        "%%time\n",
        "assertion_model = clinical_assertion_pipeline.fit(assertion_train_data)"
      ]
    },
    {
      "cell_type": "markdown",
      "id": "30SmcTiSpnWa",
      "metadata": {
        "id": "30SmcTiSpnWa"
      },
      "source": [
        "Checking the results saved in the log file"
      ]
    },
    {
      "cell_type": "code",
      "execution_count": null,
      "id": "kOiu1vuspKut",
      "metadata": {
        "colab": {
          "base_uri": "https://localhost:8080/"
        },
        "id": "kOiu1vuspKut",
        "outputId": "08c74940-9fcf-4e1d-af32-585c41e3afaa"
      },
      "outputs": [
        {
          "data": {
            "text/plain": [
              "['AssertionDLApproach_2d70e95b57ae.log']"
            ]
          },
          "execution_count": 28,
          "metadata": {},
          "output_type": "execute_result"
        }
      ],
      "source": [
        "import os\n",
        "\n",
        "log_files = os.listdir(\"./training_logs\")\n",
        "log_files"
      ]
    },
    {
      "cell_type": "code",
      "execution_count": null,
      "id": "CcQV0-fIrJHz",
      "metadata": {
        "colab": {
          "base_uri": "https://localhost:8080/"
        },
        "id": "CcQV0-fIrJHz",
        "outputId": "cd3e2a25-9bc9-42a9-ae6d-0d447eb432fd"
      },
      "outputs": [
        {
          "name": "stdout",
          "output_type": "stream",
          "text": [
            "Name of the selected graph: ./tf_graphs/assertion_graph.pb\n",
            "Training started, trainExamples: 8050\n",
            "\n",
            "\n",
            "Epoch: 0 started, learning rate: 0.001, dataset size: 8050\n",
            "Done, 500.450298869 total training loss: 52.26979, avg training loss: 0.8296792, batches: 63\n",
            "Quality on test dataset: \n",
            "time to finish evaluation: 44.26s\n",
            "Total test loss: 2.1977\tAvg test loss: 0.3140\n",
            "label\t tp\t fp\t fn\t prec\t rec\t f1\n",
            "PRESENT\t 219\t 26\t 22\t 0.89387757\t 0.9087137\t 0.90123457\n",
            "POSSIBLE\t 166\t 27\t 22\t 0.8601036\t 0.88297874\t 0.87139106\n",
            "FUTURE\t 95\t 6\t 25\t 0.9405941\t 0.7916667\t 0.8597286\n",
            "PAST\t 234\t 29\t 19\t 0.88973385\t 0.9249012\t 0.90697676\n",
            "tp: 714 fp: 88 fn: 88 labels: 4\n",
            "Macro-average\t prec: 0.8960773, rec: 0.8770651, f1: 0.8864693\n",
            "Micro-average\t prec: 0.8902743, rec: 0.8902743, f1: 0.8902743\n",
            "\n",
            "\n",
            "Epoch: 1 started, learning rate: 9.5E-4, dataset size: 8050\n",
            "Done, 508.122675912 total training loss: 17.050142, avg training loss: 0.27063718, batches: 63\n",
            "Quality on test dataset: \n",
            "time to finish evaluation: 43.71s\n",
            "Total test loss: 1.1882\tAvg test loss: 0.1697\n",
            "label\t tp\t fp\t fn\t prec\t rec\t f1\n",
            "PRESENT\t 225\t 7\t 16\t 0.9698276\t 0.93360996\t 0.9513742\n",
            "POSSIBLE\t 176\t 7\t 12\t 0.96174866\t 0.9361702\t 0.94878703\n",
            "FUTURE\t 117\t 13\t 3\t 0.9\t 0.975\t 0.936\n",
            "PAST\t 243\t 14\t 10\t 0.9455253\t 0.9604743\t 0.9529412\n",
            "tp: 761 fp: 41 fn: 41 labels: 4\n",
            "Macro-average\t prec: 0.9442754, rec: 0.9513136, f1: 0.94778144\n",
            "Micro-average\t prec: 0.9488778, rec: 0.9488778, f1: 0.9488778\n",
            "\n",
            "\n",
            "\n"
          ]
        }
      ],
      "source": [
        "with open(\"./training_logs/\"+log_files[0]) as log_file:\n",
        "    print(log_file.read())"
      ]
    },
    {
      "cell_type": "code",
      "execution_count": null,
      "id": "bgcG00nT91nn",
      "metadata": {
        "id": "bgcG00nT91nn"
      },
      "outputs": [],
      "source": [
        "assertion_test_data = spark.read.parquet('test_data.parquet')"
      ]
    },
    {
      "cell_type": "code",
      "execution_count": null,
      "id": "-k2WrFkRyQyP",
      "metadata": {
        "colab": {
          "base_uri": "https://localhost:8080/"
        },
        "id": "-k2WrFkRyQyP",
        "outputId": "08b9fc92-fe3e-473d-9a8a-272230190782"
      },
      "outputs": [
        {
          "name": "stdout",
          "output_type": "stream",
          "text": [
            "+---------------+---------+\n",
            "|assertion_label|   result|\n",
            "+---------------+---------+\n",
            "|           PAST|   [PAST]|\n",
            "|           PAST|   [PAST]|\n",
            "|           PAST|   [PAST]|\n",
            "|        PRESENT|[PRESENT]|\n",
            "|           PAST|   [PAST]|\n",
            "|        PRESENT|[PRESENT]|\n",
            "|           PAST|   [PAST]|\n",
            "|           PAST|   [PAST]|\n",
            "|           PAST|   [PAST]|\n",
            "|           PAST|   [PAST]|\n",
            "|           PAST|   [PAST]|\n",
            "|           PAST|   [PAST]|\n",
            "|           PAST|   [PAST]|\n",
            "|           PAST|   [PAST]|\n",
            "|           PAST| [FUTURE]|\n",
            "|        PRESENT|[PRESENT]|\n",
            "|        PRESENT|[PRESENT]|\n",
            "|        PRESENT|[PRESENT]|\n",
            "|           PAST|   [PAST]|\n",
            "|           PAST|   [PAST]|\n",
            "+---------------+---------+\n",
            "only showing top 20 rows\n",
            "\n"
          ]
        }
      ],
      "source": [
        "preds = assertion_model.transform(assertion_test_data).select('assertion_label','assertion.result')\n",
        "\n",
        "preds.show()"
      ]
    },
    {
      "cell_type": "code",
      "execution_count": null,
      "id": "4yI73lwG2xk5",
      "metadata": {
        "id": "4yI73lwG2xk5"
      },
      "outputs": [],
      "source": [
        "preds_df = preds.toPandas()"
      ]
    },
    {
      "cell_type": "code",
      "execution_count": null,
      "id": "yRXZFGlQ3Z2U",
      "metadata": {
        "colab": {
          "base_uri": "https://localhost:8080/",
          "height": 424
        },
        "id": "yRXZFGlQ3Z2U",
        "outputId": "d4a2b65f-a02b-44bc-964d-ad4f9452c536"
      },
      "outputs": [
        {
          "data": {
            "text/html": [
              "\n",
              "  <div id=\"df-91631542-84ed-49d1-a211-5ba5a5a13a64\">\n",
              "    <div class=\"colab-df-container\">\n",
              "      <div>\n",
              "<style scoped>\n",
              "    .dataframe tbody tr th:only-of-type {\n",
              "        vertical-align: middle;\n",
              "    }\n",
              "\n",
              "    .dataframe tbody tr th {\n",
              "        vertical-align: top;\n",
              "    }\n",
              "\n",
              "    .dataframe thead th {\n",
              "        text-align: right;\n",
              "    }\n",
              "</style>\n",
              "<table border=\"1\" class=\"dataframe\">\n",
              "  <thead>\n",
              "    <tr style=\"text-align: right;\">\n",
              "      <th></th>\n",
              "      <th>assertion_label</th>\n",
              "      <th>result</th>\n",
              "    </tr>\n",
              "  </thead>\n",
              "  <tbody>\n",
              "    <tr>\n",
              "      <th>0</th>\n",
              "      <td>PAST</td>\n",
              "      <td>PAST</td>\n",
              "    </tr>\n",
              "    <tr>\n",
              "      <th>1</th>\n",
              "      <td>PAST</td>\n",
              "      <td>PAST</td>\n",
              "    </tr>\n",
              "    <tr>\n",
              "      <th>2</th>\n",
              "      <td>PAST</td>\n",
              "      <td>PAST</td>\n",
              "    </tr>\n",
              "    <tr>\n",
              "      <th>3</th>\n",
              "      <td>PRESENT</td>\n",
              "      <td>PRESENT</td>\n",
              "    </tr>\n",
              "    <tr>\n",
              "      <th>4</th>\n",
              "      <td>PAST</td>\n",
              "      <td>PAST</td>\n",
              "    </tr>\n",
              "    <tr>\n",
              "      <th>...</th>\n",
              "      <td>...</td>\n",
              "      <td>...</td>\n",
              "    </tr>\n",
              "    <tr>\n",
              "      <th>797</th>\n",
              "      <td>PRESENT</td>\n",
              "      <td>PRESENT</td>\n",
              "    </tr>\n",
              "    <tr>\n",
              "      <th>798</th>\n",
              "      <td>PRESENT</td>\n",
              "      <td>PRESENT</td>\n",
              "    </tr>\n",
              "    <tr>\n",
              "      <th>799</th>\n",
              "      <td>PRESENT</td>\n",
              "      <td>PRESENT</td>\n",
              "    </tr>\n",
              "    <tr>\n",
              "      <th>800</th>\n",
              "      <td>PRESENT</td>\n",
              "      <td>PRESENT</td>\n",
              "    </tr>\n",
              "    <tr>\n",
              "      <th>801</th>\n",
              "      <td>PRESENT</td>\n",
              "      <td>PRESENT</td>\n",
              "    </tr>\n",
              "  </tbody>\n",
              "</table>\n",
              "<p>799 rows × 2 columns</p>\n",
              "</div>\n",
              "      <button class=\"colab-df-convert\" onclick=\"convertToInteractive('df-91631542-84ed-49d1-a211-5ba5a5a13a64')\"\n",
              "              title=\"Convert this dataframe to an interactive table.\"\n",
              "              style=\"display:none;\">\n",
              "        \n",
              "  <svg xmlns=\"http://www.w3.org/2000/svg\" height=\"24px\"viewBox=\"0 0 24 24\"\n",
              "       width=\"24px\">\n",
              "    <path d=\"M0 0h24v24H0V0z\" fill=\"none\"/>\n",
              "    <path d=\"M18.56 5.44l.94 2.06.94-2.06 2.06-.94-2.06-.94-.94-2.06-.94 2.06-2.06.94zm-11 1L8.5 8.5l.94-2.06 2.06-.94-2.06-.94L8.5 2.5l-.94 2.06-2.06.94zm10 10l.94 2.06.94-2.06 2.06-.94-2.06-.94-.94-2.06-.94 2.06-2.06.94z\"/><path d=\"M17.41 7.96l-1.37-1.37c-.4-.4-.92-.59-1.43-.59-.52 0-1.04.2-1.43.59L10.3 9.45l-7.72 7.72c-.78.78-.78 2.05 0 2.83L4 21.41c.39.39.9.59 1.41.59.51 0 1.02-.2 1.41-.59l7.78-7.78 2.81-2.81c.8-.78.8-2.07 0-2.86zM5.41 20L4 18.59l7.72-7.72 1.47 1.35L5.41 20z\"/>\n",
              "  </svg>\n",
              "      </button>\n",
              "      \n",
              "  <style>\n",
              "    .colab-df-container {\n",
              "      display:flex;\n",
              "      flex-wrap:wrap;\n",
              "      gap: 12px;\n",
              "    }\n",
              "\n",
              "    .colab-df-convert {\n",
              "      background-color: #E8F0FE;\n",
              "      border: none;\n",
              "      border-radius: 50%;\n",
              "      cursor: pointer;\n",
              "      display: none;\n",
              "      fill: #1967D2;\n",
              "      height: 32px;\n",
              "      padding: 0 0 0 0;\n",
              "      width: 32px;\n",
              "    }\n",
              "\n",
              "    .colab-df-convert:hover {\n",
              "      background-color: #E2EBFA;\n",
              "      box-shadow: 0px 1px 2px rgba(60, 64, 67, 0.3), 0px 1px 3px 1px rgba(60, 64, 67, 0.15);\n",
              "      fill: #174EA6;\n",
              "    }\n",
              "\n",
              "    [theme=dark] .colab-df-convert {\n",
              "      background-color: #3B4455;\n",
              "      fill: #D2E3FC;\n",
              "    }\n",
              "\n",
              "    [theme=dark] .colab-df-convert:hover {\n",
              "      background-color: #434B5C;\n",
              "      box-shadow: 0px 1px 3px 1px rgba(0, 0, 0, 0.15);\n",
              "      filter: drop-shadow(0px 1px 2px rgba(0, 0, 0, 0.3));\n",
              "      fill: #FFFFFF;\n",
              "    }\n",
              "  </style>\n",
              "\n",
              "      <script>\n",
              "        const buttonEl =\n",
              "          document.querySelector('#df-91631542-84ed-49d1-a211-5ba5a5a13a64 button.colab-df-convert');\n",
              "        buttonEl.style.display =\n",
              "          google.colab.kernel.accessAllowed ? 'block' : 'none';\n",
              "\n",
              "        async function convertToInteractive(key) {\n",
              "          const element = document.querySelector('#df-91631542-84ed-49d1-a211-5ba5a5a13a64');\n",
              "          const dataTable =\n",
              "            await google.colab.kernel.invokeFunction('convertToInteractive',\n",
              "                                                     [key], {});\n",
              "          if (!dataTable) return;\n",
              "\n",
              "          const docLinkHtml = 'Like what you see? Visit the ' +\n",
              "            '<a target=\"_blank\" href=https://colab.research.google.com/notebooks/data_table.ipynb>data table notebook</a>'\n",
              "            + ' to learn more about interactive tables.';\n",
              "          element.innerHTML = '';\n",
              "          dataTable['output_type'] = 'display_data';\n",
              "          await google.colab.output.renderOutput(dataTable, element);\n",
              "          const docLink = document.createElement('div');\n",
              "          docLink.innerHTML = docLinkHtml;\n",
              "          element.appendChild(docLink);\n",
              "        }\n",
              "      </script>\n",
              "    </div>\n",
              "  </div>\n",
              "  "
            ],
            "text/plain": [
              "    assertion_label   result\n",
              "0              PAST     PAST\n",
              "1              PAST     PAST\n",
              "2              PAST     PAST\n",
              "3           PRESENT  PRESENT\n",
              "4              PAST     PAST\n",
              "..              ...      ...\n",
              "797         PRESENT  PRESENT\n",
              "798         PRESENT  PRESENT\n",
              "799         PRESENT  PRESENT\n",
              "800         PRESENT  PRESENT\n",
              "801         PRESENT  PRESENT\n",
              "\n",
              "[799 rows x 2 columns]"
            ]
          },
          "execution_count": 33,
          "metadata": {},
          "output_type": "execute_result"
        }
      ],
      "source": [
        "preds_df[\"result\"] = preds_df[\"result\"].apply(lambda x: x[0] if len(x) else pd.NA)\n",
        "preds_df.dropna(inplace=True)\n",
        "\n",
        "preds_df"
      ]
    },
    {
      "cell_type": "code",
      "execution_count": null,
      "id": "1hb1kyGAE0Gn",
      "metadata": {
        "colab": {
          "base_uri": "https://localhost:8080/"
        },
        "id": "1hb1kyGAE0Gn",
        "outputId": "cee2f9b4-42e7-4bb5-cc4c-3209d0a3049f"
      },
      "outputs": [
        {
          "name": "stdout",
          "output_type": "stream",
          "text": [
            "              precision    recall  f1-score   support\n",
            "\n",
            "      FUTURE       0.90      0.97      0.94       120\n",
            "        PAST       0.95      0.96      0.95       250\n",
            "    POSSIBLE       0.96      0.94      0.95       188\n",
            "     PRESENT       0.97      0.94      0.95       241\n",
            "\n",
            "    accuracy                           0.95       799\n",
            "   macro avg       0.95      0.95      0.95       799\n",
            "weighted avg       0.95      0.95      0.95       799\n",
            "\n"
          ]
        }
      ],
      "source": [
        "# We are going to use sklearn to evalute the results on test dataset\n",
        "from sklearn.metrics import classification_report\n",
        "\n",
        "print (classification_report( preds_df['assertion_label'], preds_df['result']))"
      ]
    },
    {
      "cell_type": "markdown",
      "id": "WuJ5YZ9sXU13",
      "metadata": {
        "id": "WuJ5YZ9sXU13"
      },
      "source": [
        "### Saving the trained model"
      ]
    },
    {
      "cell_type": "code",
      "execution_count": null,
      "id": "KBcoOwvwXV8p",
      "metadata": {
        "colab": {
          "base_uri": "https://localhost:8080/"
        },
        "id": "KBcoOwvwXV8p",
        "outputId": "c5626d70-1c2d-418f-b763-b037efe80fd0"
      },
      "outputs": [
        {
          "data": {
            "text/plain": [
              "[TFGraphBuilderModel_2ab67fe97fd2, LEGAL-ASSERTION_DL_6b6a15bdecd2]"
            ]
          },
          "execution_count": 35,
          "metadata": {},
          "output_type": "execute_result"
        }
      ],
      "source": [
        "assertion_model.stages"
      ]
    },
    {
      "cell_type": "code",
      "execution_count": null,
      "id": "ioMW1jSrA-wg",
      "metadata": {
        "id": "ioMW1jSrA-wg"
      },
      "outputs": [],
      "source": [
        "# Save a Spark NLP model\n",
        "assertion_model.stages[-1].write().overwrite().save('Assertion')\n",
        "\n",
        "# cd into saved dir and zip\n",
        "! cd /content/Assertion ; zip -r /content/Assertion.zip *"
      ]
    }
  ],
  "metadata": {
    "colab": {
      "machine_shape": "hm",
      "provenance": []
    },
    "gpuClass": "standard",
    "kernelspec": {
      "display_name": "tf-gpu",
      "language": "python",
      "name": "python3"
    },
    "language_info": {
      "codemirror_mode": {
        "name": "ipython",
        "version": 3
      },
      "file_extension": ".py",
      "mimetype": "text/x-python",
      "name": "python",
      "nbconvert_exporter": "python",
      "pygments_lexer": "ipython3",
      "version": "3.9.7 (default, Sep 16 2021, 16:59:28) [MSC v.1916 64 bit (AMD64)]"
    },
    "vscode": {
      "interpreter": {
        "hash": "3f47d918ae832c68584484921185f5c85a1760864bf927a683dc6fb56366cc77"
      }
    }
  },
  "nbformat": 4,
  "nbformat_minor": 5
}
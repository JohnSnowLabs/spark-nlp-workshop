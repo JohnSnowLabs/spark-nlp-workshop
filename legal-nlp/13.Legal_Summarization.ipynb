{
  "cells": [
    {
      "cell_type": "markdown",
      "metadata": {
        "id": "I08sFJYCxR0Z"
      },
      "source": [
        "![JohnSnowLabs](https://nlp.johnsnowlabs.com/assets/images/logo.png)"
      ]
    },
    {
      "cell_type": "markdown",
      "source": [
        "[![Open In Colab](https://colab.research.google.com/assets/colab-badge.svg)](https://colab.research.google.com/github/JohnSnowLabs/spark-nlp-workshop/blob/master/legal-nlp/13.Legal_Summarization.ipynb)"
      ],
      "metadata": {
        "id": "YGqw3ep-Nlxc"
      }
    },
    {
      "cell_type": "markdown",
      "metadata": {
        "collapsed": false,
        "id": "4iIO6G_B3pqq"
      },
      "source": [
        "#🎬 Installation"
      ]
    },
    {
      "cell_type": "code",
      "execution_count": null,
      "metadata": {
        "id": "hPwo4Czy3pqq",
        "pycharm": {
          "is_executing": true
        }
      },
      "outputs": [],
      "source": [
        "! pip install -q johnsnowlabs"
      ]
    },
    {
      "cell_type": "markdown",
      "metadata": {
        "id": "YPsbAnNoPt0Z"
      },
      "source": [
        "##🔗 Automatic Installation\n",
        "Using my.johnsnowlabs.com SSO"
      ]
    },
    {
      "cell_type": "code",
      "execution_count": null,
      "metadata": {
        "id": "_L-7mLYp3pqr",
        "pycharm": {
          "is_executing": true
        }
      },
      "outputs": [],
      "source": [
        "from johnsnowlabs import nlp, finance, legal\n",
        "\n",
        "nlp.install(refresh_install=True, visual=True, force_browser = True)"
      ]
    },
    {
      "cell_type": "markdown",
      "metadata": {
        "id": "hsJvn_WWM2GL"
      },
      "source": [
        "##🔗 Manual downloading\n",
        "If you are not registered in my.johnsnowlabs.com, you received a license via e-email or you are using Safari, you may need to do a manual update of the license.\n",
        "\n",
        "- Go to my.johnsnowlabs.com\n",
        "- Download your license\n",
        "- Upload it using the following command"
      ]
    },
    {
      "cell_type": "code",
      "execution_count": null,
      "metadata": {
        "id": "i57QV3-_P2sQ"
      },
      "outputs": [],
      "source": [
        "from google.colab import files\n",
        "print('Please Upload your John Snow Labs License using the button below')\n",
        "license_keys = files.upload()"
      ]
    },
    {
      "cell_type": "markdown",
      "metadata": {
        "id": "xGgNdFzZP_hQ"
      },
      "source": [
        "- Install it"
      ]
    },
    {
      "cell_type": "markdown",
      "metadata": {
        "id": "DCl5ErZkNNLk"
      },
      "source": [
        "#📌 Starting"
      ]
    },
    {
      "cell_type": "code",
      "execution_count": 3,
      "metadata": {
        "id": "x3jVICoa3pqr",
        "colab": {
          "base_uri": "https://localhost:8080/"
        },
        "outputId": "a8999829-6c05-4242-b3e4-97f980ba3ec4"
      },
      "outputs": [
        {
          "output_type": "stream",
          "name": "stdout",
          "text": [
            "👌 Launched \u001b[92mcpu optimized\u001b[39m session with with: 🚀Spark-NLP==4.4.0, 💊Spark-Healthcare==4.4.0, running on ⚡ PySpark==3.1.2\n"
          ]
        }
      ],
      "source": [
        "spark = nlp.start()"
      ]
    },
    {
      "cell_type": "markdown",
      "metadata": {
        "id": "nWu_IMfY4L1N"
      },
      "source": [
        "#🔎 Legal Text Summarization"
      ]
    },
    {
      "cell_type": "markdown",
      "metadata": {
        "collapsed": false,
        "id": "PV_iiuN13pqt"
      },
      "source": [
        "📜Explanation:\n",
        "\n",
        "Native Legal Text Summarization is a valuable tool for legal professionals who need to quickly understand the key points of a legal document. It can save time and improve accuracy, allowing lawyers to focus on more complex tasks.\n",
        "\n",
        "The Native Legal Text Summarization feature uses a deep learning model that has been trained on a large corpus of legal documents to automatically generate summaries of legal text. The model uses a combination of natural language processing techniques, such as entity recognition, part-of-speech tagging, and dependency parsing, to extract important information from the text.\n",
        "\n",
        "The summarization model then uses this extracted information to generate a summary that accurately captures the key points of the document in a concise and understandable manner. The resulting summary can be used to quickly identify relevant information, such as the outcome of a legal case or the main provisions of a regulation.\n",
        "\n",
        "By using our new Legal Summarizer() module, you can get state-of-the-art, short versions of your legal documents, without losing any information.\n",
        "\n",
        "We included 2 models for Legal Summarization:\n",
        "\n",
        "  - **Legal FLAN-T5 Summarization (Base):** The base model, with generic capacities for summarizing legal documents.\n",
        "  - **Legal Finetuned FLAN-T5 Summarization:** A specifically finetuned model trained to summarize Legal Agreements . For this task, we finetuned our base model with more than 8K sections from different legal commercial agreements.\n",
        "\n"
      ]
    },
    {
      "cell_type": "markdown",
      "source": [
        "### Let's see how to get summaries in different Legal documents using the `Summarizer()` module."
      ],
      "metadata": {
        "id": "6Pg0iSsnJ6cB"
      }
    },
    {
      "cell_type": "markdown",
      "source": [
        "\n",
        "## Subpoenas"
      ],
      "metadata": {
        "id": "s0A7Og7Oua6o"
      }
    },
    {
      "cell_type": "code",
      "source": [
        "document_assembler = nlp.DocumentAssembler()\\\n",
        "    .setInputCol(\"text\")\\\n",
        "    .setOutputCol(\"documents\")\n",
        "\n",
        "flant5 = legal.Summarizer().pretrained('legsum_flant5_legal_augmented','en','legal/models')\\\n",
        "    .setInputCols([\"documents\"])\\\n",
        "    .setOutputCol(\"summary\")\\\n",
        "    .setMaxNewTokens(1000)\n",
        "\n",
        "pipeline = nlp.Pipeline(stages=[document_assembler, flant5])\n",
        "\n",
        "data = spark.createDataFrame([\n",
        "  [1, \"\"\" \n",
        "NOTICE OF DEFAULT AND INTENT TO FORECLOSE\n",
        "\n",
        "PLEASE TAKE NOTICE that you are in default of your mortgage agreement with XYZ Bank, which is secured by the property located at 1234 Elm Street, Anytown, USA 12345. As of the date of this notice, the outstanding balance on your mortgage is $200,000, which includes principal, interest, late fees, and other charges.\n",
        "\n",
        "Under the terms of your mortgage agreement, you were required to make monthly payments of $1,200 on the first day of each month. However, you have failed to make your payments for the months of January, February, and March 2023. As a result, you are in default of your mortgage agreement, and the entire amount of the outstanding balance has become due and payable.\n",
        "\n",
        "UNLESS YOU TAKE ACTION TO CURE THIS DEFAULT, XYZ Bank INTENDS TO FORECLOSE ON YOUR PROPERTY. XYZ Bank will file a notice of default with the county recorder's office, which will initiate the foreclosure process. If the foreclosure proceeds, XYZ Bank will sell your property at a public auction to satisfy the outstanding balance on your mortgage.\n",
        "\n",
        "YOU HAVE THE RIGHT TO CURE THIS DEFAULT BY PAYING THE ENTIRE OUTSTANDING BALANCE OF $200,000, INCLUDING ALL FEES AND CHARGES, ON OR BEFORE APRIL 30th, 2023.\n",
        "\n",
        "IF YOU ARE UNABLE TO CURE THIS DEFAULT, YOU MAY BE ELIGIBLE FOR ALTERNATIVE FORECLOSURE PREVENTION OPTIONS, SUCH AS LOAN MODIFICATION, SHORT SALE, OR DEED IN LIEU OF FORECLOSURE. YOU MAY CONTACT XYZ BANK TO DISCUSS THESE OPTIONS OR TO SEEK ASSISTANCE FROM A HOUSING COUNSELOR.\n",
        "\n",
        "IF YOU HAVE ANY QUESTIONS ABOUT THIS NOTICE, PLEASE CONTACT XYZ BANK AS SOON AS POSSIBLE.\n",
        "\"\"\"]]).toDF('id', 'text')\n",
        "\n",
        "results = pipeline.fit(data).transform(data)\n",
        "\n",
        "results.select(\"summary.result\").show(truncate=False)"
      ],
      "metadata": {
        "colab": {
          "base_uri": "https://localhost:8080/"
        },
        "id": "NZ9v_1QquehT",
        "outputId": "3ac84632-ee45-43c3-c0bc-c48c24b68630"
      },
      "execution_count": 4,
      "outputs": [
        {
          "output_type": "stream",
          "name": "stdout",
          "text": [
            "legsum_flant5_legal_augmented download started this may take some time.\n",
            "[OK!]\n",
            "+----------------------------------------------------------------------------------------------------------------------------------------------------------------------------------------------------------------------------------------------------------------------------------------------------------------------------------------------------------------------------------------------------------------------------------------------------------------------------------------------------------------------------------------------------------------------------------------------------------------------------------------------------------------------------------------------------------------------------------------------------------------------------------------------------------+\n",
            "|result                                                                                                                                                                                                                                                                                                                                                                                                                                                                                                                                                                                                                                                                                                                                                                                                    |\n",
            "+----------------------------------------------------------------------------------------------------------------------------------------------------------------------------------------------------------------------------------------------------------------------------------------------------------------------------------------------------------------------------------------------------------------------------------------------------------------------------------------------------------------------------------------------------------------------------------------------------------------------------------------------------------------------------------------------------------------------------------------------------------------------------------------------------------+\n",
            "|[This notice states that you are in default of the mortgage agreement with XYZ Bank, which is secured by the property located at 1234 Elm Street, Anytown, USA 12345. The outstanding balance on the mortgage is $200,000, which includes principal, interest, late fees, and other charges. XYZ Bank will file a notice of default with the county recorder's office, which will initiate the foreclosure process. If the foreclosure proceeds, XYZ Bank will sell your property at a public auction to satisfy the outstanding balance on the mortgage. If you are unable to cure the defail, you may be able to take alternative foreclosure prevention options such as loan modification, short sale, or dee in LIEU of foreclosure. If you have any questions, contact XYZ BANK as soon as possible.]|\n",
            "+----------------------------------------------------------------------------------------------------------------------------------------------------------------------------------------------------------------------------------------------------------------------------------------------------------------------------------------------------------------------------------------------------------------------------------------------------------------------------------------------------------------------------------------------------------------------------------------------------------------------------------------------------------------------------------------------------------------------------------------------------------------------------------------------------------+\n",
            "\n"
          ]
        }
      ]
    },
    {
      "cell_type": "markdown",
      "source": [
        "## Mutual Non-Disclosure Agreement (MNDA)"
      ],
      "metadata": {
        "id": "IAUdI1tf07yj"
      }
    },
    {
      "cell_type": "code",
      "source": [
        "data = spark.createDataFrame([\n",
        "  [2, \"\"\"NOW, THEREFORE, in consideration of the Company’s disclosure of information to the Recipient\n",
        "and the promises set forth below, the parties agree as follows:\n",
        "\n",
        "     1. Confidential Information. “Confidential Information” as used in this\n",
        "Agreement means all information relating to the Company disclosed to the Recipient by the Company,\n",
        "including without limitation any business, technical, marketing, financial or other information,\n",
        "whether in written, electronic or oral form. Any and all reproductions, copies, notes, summaries,\n",
        "reports, analyses or other material derived by the Recipient or its Representatives (as defined\n",
        "below) in whole or in part from the Confidential Information in whatever form maintained shall be\n",
        "considered part of the Confidential Information itself and shall be treated as such. Confidential\n",
        "Information does not include information that (a) is or becomes part of the public domain other\n",
        "than as a result of disclosure by the Recipient or its Representatives; (b) becomes available to\n",
        "the Recipient on a nonconfidential basis from a source other than the Company, provided that source\n",
        "is not bound with respect to that information by a confidentiality agreement with the Company or is\n",
        "otherwise prohibited from transmitting that information by a contractual, legal or other\n",
        "obligation; (c) can be proven by the Recipient to have been in the Recipient’s possession prior to\n",
        "disclosure of the same by the Company; or (d) is independently developed by the Recipient without\n",
        "reference to or reliance on any of the Company’s Confidential Information.\"\"\"]\n",
        "]).toDF('id', 'text')\n",
        "\n",
        "results = pipeline.fit(data).transform(data)\n",
        "\n",
        "results.select(\"summary.result\").show(truncate=False)"
      ],
      "metadata": {
        "colab": {
          "base_uri": "https://localhost:8080/"
        },
        "id": "VIBcwhGxva_j",
        "outputId": "2f887dd7-aecd-4cfe-c5a2-5f4f2d2bcaa1"
      },
      "execution_count": 5,
      "outputs": [
        {
          "output_type": "stream",
          "name": "stdout",
          "text": [
            "+--------------------------------------------------------------------------------------------------------------------------------------------------------------------------------------------------------------------------------------------------------------------------------------------------------------------------------------------------------------------------------------------------------------------------------------------------------------------------------------------------------------------------------------------------------------------------------------------------------------------------------------------------------------------------------------------------------------------------------------------------------------------------------------------------------------------------------------------------------------------------------------------------------------------------------------+\n",
            "|result                                                                                                                                                                                                                                                                                                                                                                                                                                                                                                                                                                                                                                                                                                                                                                                                                                                                                                                                |\n",
            "+--------------------------------------------------------------------------------------------------------------------------------------------------------------------------------------------------------------------------------------------------------------------------------------------------------------------------------------------------------------------------------------------------------------------------------------------------------------------------------------------------------------------------------------------------------------------------------------------------------------------------------------------------------------------------------------------------------------------------------------------------------------------------------------------------------------------------------------------------------------------------------------------------------------------------------------+\n",
            "|[This legal agreement states that the company has disclosed all information relating to the company to the recipient, including any business, technical, marketing, financial or other information. It also states that any reproductions, copies, notes, summaries, reports, analyses or other material derived from the confidential information must be treated as part of the confidential information. The confidential information does not include information that is or becomes part of the public domain other than as a result of disclosure by the recipient or its representatives, becomes available to the recipient on a nonconfidential basis from a source other than the company, can be proven by the recipient to have been in the recipient’s possession prior to disclosure, or is independently developed by the recipient without reference to or reliance on any of the company’s confidential information.]|\n",
            "+--------------------------------------------------------------------------------------------------------------------------------------------------------------------------------------------------------------------------------------------------------------------------------------------------------------------------------------------------------------------------------------------------------------------------------------------------------------------------------------------------------------------------------------------------------------------------------------------------------------------------------------------------------------------------------------------------------------------------------------------------------------------------------------------------------------------------------------------------------------------------------------------------------------------------------------+\n",
            "\n"
          ]
        }
      ]
    },
    {
      "cell_type": "markdown",
      "source": [
        "## Commercial Agreements"
      ],
      "metadata": {
        "id": "3lQh-rtw1-rN"
      }
    },
    {
      "cell_type": "code",
      "source": [
        "data = spark.createDataFrame([\n",
        "  [3, \"\"\"EXHIBIT 99.2 Page 1 of 3 DISTRIBUTOR AGREEMENT Agreement made this 19t h day of March, 2020 Between: Co-Diagnostics, Inc. (herein referred to as \"Principal\") And PreCheck Health Services, Inc. (herein referred to as \"Distributor\"). In consideration of the mutual terms, conditions and covenants hereinafter set forth, Principal and Distributor acknowledge and agree to the following descriptions and conditions: DESCRIPTION OF PRINCIPAL The Principal is a company located in Utah, United States and is in the business of research and development of reagents. The Principal markets and sells it products globally through direct sales and distributors. DESCRIPTION OF DISTRIBUTOR The Distributor is a company operating or planning to operate in the United States of America, Latin America, Europe and Russia. The Distributor represents that the Distributor or a subsidiary of the Distributor is or will be fully licensed and registered in the Territory and will provide professional distribution services for the products of the Principal. CONDITIONS: 1. The Principal appoints the Distributor as a non-exclusive distributor, to sell Principal's qPCR infectious disease kits, Logix Smart COVID-19 PCR diagnostic test and Co-Dx Box™ instrument (the \"Products\"). The Products are described on Exhibit A to this Agreement. 2. The Principal grants Distributor non- exclusive rights to sell these products within the countries of Romania (the \"Territory\"), which may be amended by mutual written agreement.\n",
        "  \n",
        "Source: PRECHECK HEALTH SERVICES, INC., 8-K, 3/20/2020\n",
        "\n",
        "3. The Distributor accepts the appointment and shall use its commercially reasonable efforts to promote, market and sell the Products within the Territory, devote such time and attention as may be reasonably necessary and abide by the Principal's policies. 4. The Principal shall maintain the right to contact and market its products to potential customers in the Territory; but agrees to pass on all sales leads and orders to the Distributor. 5. The parties agree that the list of Products and/or prices may be amended from time to time. The Principal may unilaterally remove Products from the catalog or change prices. Additions to the Products shall be by mutual agreement. However, in the event the Distributor rejects a new product addition to the product list, the Principal shall then retain the right to market and distribute the new product that is rejected by the Distributor. 6. Unless accepted by the Principal, the Distributor agrees that during the term of this Agreement, the Distributor, either directly or indirectly, shall handle no products that are competitive with the Products within the Territory. 7. The Distributor shall obtain at its own expense, all necessary licenses and permits to allow the Distributor to conduct business as contemplated herein. The Distributor represents and warrants that the Distributor shall conduct business in strict conformity with all local, state and federal laws, rules and regulations. 8. The Principal agrees that the Distributor may employ or engage representatives or sub-distributors in furtherance of this Agreement and the Distributor agrees that the Distributor shall be solely responsible for the payment of wages or commissions to those representatives and sub-distributors, and that under no circumstances shall Distributor's representatives be deemed employees of Principal for any purpose whatsoever. 9. Principal will grant Distributor a discount based on the Products and Prices. The proposed discount is expected to be ¨%. Discount may vary depending on product volume ordered or promotions. 10. This Agreement shall be in effect until March 18. 2021, unless sooner terminated by either party upon (30) days written notice, without cause. 11. In the event of termination, the Distributor shall be entitled to receive all orders accepted by the Principal prior to the date of termination and may sell the ordered Products in the Territory. Payment to be made upon shipment\"\"\"]\n",
        "]).toDF('id', 'text')\n",
        "\n",
        "results = pipeline.fit(data).transform(data)\n",
        "\n",
        "results.select(\"summary.result\").show(truncate=False)"
      ],
      "metadata": {
        "colab": {
          "base_uri": "https://localhost:8080/"
        },
        "id": "Nn81ZCO812Qi",
        "outputId": "82e71278-6c93-44db-baac-f994662f80f9"
      },
      "execution_count": 6,
      "outputs": [
        {
          "output_type": "stream",
          "name": "stdout",
          "text": [
            "+--------------------------------------------------------------------------------------------------------------------------------------------------------------------------------------------------------------------------------------------------------------------------------------------------------------------------------------------------------------------------------------------------------------------------------------------------------------------------------------------------------------------------------------------------------------------------------------------------------------------------------------------------------------------------------------------------------------------------------------------------------------------------------------------------------------------------------------------------------+\n",
            "|result                                                                                                                                                                                                                                                                                                                                                                                                                                                                                                                                                                                                                                                                                                                                                                                                                                                  |\n",
            "+--------------------------------------------------------------------------------------------------------------------------------------------------------------------------------------------------------------------------------------------------------------------------------------------------------------------------------------------------------------------------------------------------------------------------------------------------------------------------------------------------------------------------------------------------------------------------------------------------------------------------------------------------------------------------------------------------------------------------------------------------------------------------------------------------------------------------------------------------------+\n",
            "|[This agreement is between Co-Diagnostics, Inc. and PreCheck Health Services, Inc., which outlines the terms and conditions of a distributor agreement between the two parties. The principal appoints the distributor as a non-exclusive distributor to sell Principal's qPCR infectious disease kits, Logix Smart COVID-19 PCR diagnostic test and Co-Dx BoxTM instrument. The distributor grants the distributor non-exclusive rights to sell these products within the countries of Romania. The distributor will also obtain all necessary licenses and permits to allow the distributor to conduct business. The distributor will also grant the distributor a discount based on the products and prices. The agreement is in effect until March 18, 2021, unless sooner terminated by either party upon (30) days written notice, without cause.]|\n",
            "+--------------------------------------------------------------------------------------------------------------------------------------------------------------------------------------------------------------------------------------------------------------------------------------------------------------------------------------------------------------------------------------------------------------------------------------------------------------------------------------------------------------------------------------------------------------------------------------------------------------------------------------------------------------------------------------------------------------------------------------------------------------------------------------------------------------------------------------------------------+\n",
            "\n"
          ]
        }
      ]
    }
  ],
  "metadata": {
    "colab": {
      "provenance": [],
      "toc_visible": true,
      "machine_shape": "hm"
    },
    "gpuClass": "standard",
    "kernelspec": {
      "display_name": "tf-gpu",
      "language": "python",
      "name": "python3"
    },
    "language_info": {
      "codemirror_mode": {
        "name": "ipython",
        "version": 3
      },
      "file_extension": ".py",
      "mimetype": "text/x-python",
      "name": "python",
      "nbconvert_exporter": "python",
      "pygments_lexer": "ipython3",
      "version": "3.9.7 (default, Sep 16 2021, 16:59:28) [MSC v.1916 64 bit (AMD64)]"
    },
    "vscode": {
      "interpreter": {
        "hash": "3f47d918ae832c68584484921185f5c85a1760864bf927a683dc6fb56366cc77"
      }
    },
    "accelerator": "GPU"
  },
  "nbformat": 4,
  "nbformat_minor": 0
}
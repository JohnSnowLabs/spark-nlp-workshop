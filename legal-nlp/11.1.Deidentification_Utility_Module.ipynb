{
  "cells": [
    {
      "cell_type": "markdown",
      "source": [
        "![JohnSnowLabs](https://nlp.johnsnowlabs.com/assets/images/logo.png)"
      ],
      "metadata": {
        "id": "uaBopjb7IIuk"
      },
      "id": "uaBopjb7IIuk"
    },
    {
      "cell_type": "markdown",
      "metadata": {
        "id": "fb2ac5e3-fe7c-4431-bb24-3c48649be54b"
      },
      "source": [
        "# Deidentification Utils\n",
        "This notebooks aims to showcase how to use the Deidentification module in `johnsnowlabs` library as a helper to carry out all deidentification tasks without any low code."
      ],
      "id": "fb2ac5e3-fe7c-4431-bb24-3c48649be54b"
    },
    {
      "cell_type": "markdown",
      "source": [
        "[![Open In Colab](https://colab.research.google.com/assets/colab-badge.svg)](https://colab.research.google.com/github/JohnSnowLabs/spark-nlp-workshop/blob/master/legal-nlp/11.1.Deidentification_Utility_Module.ipynb)"
      ],
      "metadata": {
        "id": "bbyFtQSnIKLp"
      },
      "id": "bbyFtQSnIKLp"
    },
    {
      "cell_type": "markdown",
      "metadata": {
        "collapsed": false,
        "id": "gk3kZHmNj51v"
      },
      "source": [
        "# Installation"
      ],
      "id": "gk3kZHmNj51v"
    },
    {
      "cell_type": "code",
      "execution_count": null,
      "metadata": {
        "id": "_914itZsj51v",
        "pycharm": {
          "is_executing": true
        }
      },
      "outputs": [],
      "source": [
        "! pip install -q johnsnowlabs"
      ],
      "id": "_914itZsj51v"
    },
    {
      "cell_type": "markdown",
      "metadata": {
        "id": "YPsbAnNoPt0Z"
      },
      "source": [
        "## Automatic Installation\n",
        "Using my.johnsnowlabs.com SSO"
      ],
      "id": "YPsbAnNoPt0Z"
    },
    {
      "cell_type": "code",
      "execution_count": null,
      "metadata": {
        "id": "fY0lcShkj51w",
        "pycharm": {
          "is_executing": true
        }
      },
      "outputs": [],
      "source": [
        "from johnsnowlabs import nlp, legal\n",
        "\n",
        "nlp.install(force_browser=True)"
      ],
      "id": "fY0lcShkj51w"
    },
    {
      "cell_type": "markdown",
      "metadata": {
        "id": "hsJvn_WWM2GL"
      },
      "source": [
        "## Manual downloading\n",
        "If you are not registered in my.johnsnowlabs.com, you received a license via e-email or you are using Safari, you may need to do a manual update of the license.\n",
        "\n",
        "- Go to my.johnsnowlabs.com\n",
        "- Download your license\n",
        "- Upload it using the following command"
      ],
      "id": "hsJvn_WWM2GL"
    },
    {
      "cell_type": "code",
      "execution_count": null,
      "metadata": {
        "id": "i57QV3-_P2sQ"
      },
      "outputs": [],
      "source": [
        "from google.colab import files\n",
        "print('Please Upload your John Snow Labs License using the button below')\n",
        "license_keys = files.upload()"
      ],
      "id": "i57QV3-_P2sQ"
    },
    {
      "cell_type": "markdown",
      "metadata": {
        "id": "xGgNdFzZP_hQ"
      },
      "source": [
        "- Install it"
      ],
      "id": "xGgNdFzZP_hQ"
    },
    {
      "cell_type": "code",
      "execution_count": null,
      "metadata": {
        "id": "OfmmPqknP4rR"
      },
      "outputs": [],
      "source": [
        "nlp.install()"
      ],
      "id": "OfmmPqknP4rR"
    },
    {
      "cell_type": "markdown",
      "metadata": {
        "id": "DCl5ErZkNNLk"
      },
      "source": [
        "# Starting"
      ],
      "id": "DCl5ErZkNNLk"
    },
    {
      "cell_type": "code",
      "execution_count": null,
      "metadata": {
        "id": "wRXTnNl3j51w"
      },
      "outputs": [],
      "source": [
        "spark = nlp.start()"
      ],
      "id": "wRXTnNl3j51w"
    },
    {
      "cell_type": "code",
      "source": [
        "import pandas as pd\n",
        "\n",
        "from pyspark.sql import DataFrame\n",
        "import pyspark.sql.functions as F\n",
        "import pyspark.sql.types as T\n",
        "import pyspark.sql as SQL\n",
        "from pyspark import keyword_only"
      ],
      "metadata": {
        "id": "guXFthmRBnLk"
      },
      "execution_count": null,
      "outputs": [],
      "id": "guXFthmRBnLk"
    },
    {
      "cell_type": "markdown",
      "source": [
        "# Module"
      ],
      "metadata": {
        "id": "Gp7HROWvKJAW"
      },
      "id": "Gp7HROWvKJAW"
    },
    {
      "cell_type": "markdown",
      "source": [
        "Description of Parameters: <br/>\n",
        "\n",
        "\n",
        "---\n",
        "\n",
        "\n",
        "\n",
        "---\n",
        "\n",
        "\n",
        "`custom_pipeline` : Sparknlp PipelineModel, optional\n",
        "            custom PipelineModel to be used for deidentification, by default None <br/>\n",
        "        `ner_chunk` : str, optional\n",
        "            final chunk column name of custom pipeline that will be deidentified, by default \"ner_chunk\" <br/>\n",
        "        `fields` : dict, optional\n",
        "            fields to be deidentified and their deidentification modes, by default {\"text\": \"mask\"} <br/>\n",
        "        `sentence` : str, optional\n",
        "            sentence column name of the given custom pipeline, by default \"sentence\" <br/>\n",
        "        `token` : str, optional\n",
        "            token column name of the given custom pipeline, by default \"token\" <br/>\n",
        "        `document` : str, optional\n",
        "            document column name of the given custom pipeline, by default \"document\" <br/>\n",
        "        `masking_policy` : str, optional\n",
        "            masking policy, by default \"entity_labels\" <br/>\n",
        "        `fixed_mask_length` : int, optional\n",
        "            fixed mask length, by default 4 <br/>\n",
        "        `obfuscate_date` : bool, optional\n",
        "            obfuscate date, by default True <br/>\n",
        "        `obfuscate_ref_source` : str, optional\n",
        "            obfuscate reference source, by default \"faker\" <br/>\n",
        "        `obfuscate_ref_file_path` : str, optional\n",
        "            obfuscate reference file path, by default None <br/>\n",
        "        `age_group_obfuscation` : bool, optional\n",
        "            age group obfuscation, by default False <br/>\n",
        "        `age_ranges` : list, optional\n",
        "            age ranges for obfuscation, by default [1, 4, 12, 20, 40, 60, 80] <br/>\n",
        "        `shift_days` : bool, optional\n",
        "            shift days, by default False <br/>\n",
        "        `number_of_days` : int, optional\n",
        "            number of days, by default None <br/>\n",
        "        `documentHashCoder_col_name` : str, optional\n",
        "            document hash coder column name, by default \"documentHash\" <br/>\n",
        "        `date_tag` : str, optional\n",
        "            date tag, by default \"DATE\" <br/>\n",
        "        `language` : str, optional\n",
        "            language, by default \"en\" <br/>\n",
        "        `region` : str, optional\n",
        "            region, by default \"us\" <br/>\n",
        "        `unnormalized_date` : bool, optional\n",
        "            unnormalized date, by default False <br/>\n",
        "        `unnormalized_mode` : str, optional\n",
        "            unnormalized mode, by default \"mask\" <br/>\n",
        "        `id_column_name` : str, optional\n",
        "            ID column name, by default \"id\" <br/>\n",
        "        `date_shift_column_name` : str, optional\n",
        "            date shift column name, by default \"date_shift\" <br/>\n",
        "        `separator` : str, optional\n",
        "            separator of input csv file, by default \"\\t\" <br/> \n",
        "        `input_file_path` : str, optional\n",
        "            input file path, by default None <br/>\n",
        "        `output_file_path` : str, optional\n",
        "            output file path, by default 'deidentified.csv'"
      ],
      "metadata": {
        "id": "TXG4aUNnNaiD"
      },
      "id": "TXG4aUNnNaiD"
    },
    {
      "cell_type": "markdown",
      "source": [
        "Returns\n",
        "\n",
        "\n",
        "---\n",
        "\n",
        "Spark DataFrame: Spark DataFrame with deidentified text <br/>\n",
        "csv/json file: A deidentified file."
      ],
      "metadata": {
        "id": "k1VfjOE3QILp"
      },
      "id": "k1VfjOE3QILp"
    },
    {
      "cell_type": "code",
      "execution_count": null,
      "id": "aa341709-5099-41ae-b93a-7981d3d4be20",
      "metadata": {
        "id": "aa341709-5099-41ae-b93a-7981d3d4be20"
      },
      "outputs": [],
      "source": [
        "text= \"\"\"EMPLOYMENT AGREEMENT,   effective  as  of  June  1,  2013  between  Synergy  Resources Corporation,  a Colorado corporation (the \"Company\"),  and John E. Smith (the \"Employee\").\n",
        "This First Amendment (Amendment) to the Employment Agreement between Service 1st Bank located in Stockton, California (Bank) and John E. Smith (Executive) is adopted, effective as of August 21, 2008, as set forth below.\"\"\"\n",
        "\n",
        "df= spark.createDataFrame([[text]]).toDF(\"text\")"
      ]
    },
    {
      "cell_type": "code",
      "source": [
        "df_pd = df.toPandas()\n",
        "df_pd.to_csv(\"deid_data.csv\", sep='@', index=False)"
      ],
      "metadata": {
        "id": "3x88tenHPiLo"
      },
      "id": "3x88tenHPiLo",
      "execution_count": null,
      "outputs": []
    },
    {
      "cell_type": "markdown",
      "id": "c0aca490-e7b3-4c0e-b4ad-efb7d682a327",
      "metadata": {
        "id": "c0aca490-e7b3-4c0e-b4ad-efb7d682a327"
      },
      "source": [
        "# With a custom pipeline"
      ]
    },
    {
      "cell_type": "code",
      "execution_count": null,
      "id": "69201fae-274f-4d5e-99c8-24985e5feba0",
      "metadata": {
        "scrolled": true,
        "tags": [],
        "id": "69201fae-274f-4d5e-99c8-24985e5feba0",
        "colab": {
          "base_uri": "https://localhost:8080/"
        },
        "outputId": "e53b8cb6-fbce-4199-fe5c-0a4589652ded"
      },
      "outputs": [
        {
          "output_type": "stream",
          "name": "stdout",
          "text": [
            "roberta_embeddings_legal_roberta_base download started this may take some time.\n",
            "Approximate size to download 447.2 MB\n",
            "[OK!]\n",
            "legner_contract_doc_parties_lg download started this may take some time.\n",
            "[OK!]\n"
          ]
        }
      ],
      "source": [
        "documentAssembler = nlp.DocumentAssembler()\\\n",
        "    .setInputCol(\"text\")\\\n",
        "    .setOutputCol(\"document\")\n",
        "\n",
        "sentenceDetector = nlp.SentenceDetector()\\\n",
        "    .setInputCols([\"document\"])\\\n",
        "    .setOutputCol(\"sentence\")\n",
        "\n",
        "tokenizer = nlp.Tokenizer()\\\n",
        "    .setInputCols([\"sentence\"])\\\n",
        "    .setOutputCol(\"token\")\n",
        "\n",
        "embeddings = nlp.RoBertaEmbeddings.pretrained(\"roberta_embeddings_legal_roberta_base\",\"en\") \\\n",
        "    .setInputCols([\"sentence\", \"token\"]) \\\n",
        "    .setOutputCol(\"embeddings\")\n",
        "\n",
        "legal_ner = legal.NerModel.pretrained(\"legner_contract_doc_parties_lg\", \"en\", \"legal/models\")\\\n",
        "    .setInputCols([\"sentence\", \"token\", \"embeddings\"]) \\\n",
        "    .setOutputCol(\"ner\") \n",
        "    #.setLabelCasing(\"upper\")\n",
        "\n",
        "ner_converter = legal.NerConverterInternal() \\\n",
        "    .setInputCols([\"sentence\", \"token\", \"ner\"])\\\n",
        "    .setOutputCol(\"ner_chunk\")\n",
        "\n",
        "nlpPipeline = nlp.Pipeline(stages=[\n",
        "      documentAssembler, \n",
        "      sentenceDetector,\n",
        "      tokenizer,\n",
        "      embeddings,\n",
        "      legal_ner,\n",
        "      ner_converter])\n",
        "\n",
        "empty_data = spark.createDataFrame([[\"\"]]).toDF(\"text\")\n",
        "\n",
        "model = nlpPipeline.fit(empty_data)"
      ]
    },
    {
      "cell_type": "code",
      "source": [
        "result = model.transform(spark.createDataFrame([[text]]).toDF(\"text\"))"
      ],
      "metadata": {
        "id": "49NhBvSa9hYW"
      },
      "id": "49NhBvSa9hYW",
      "execution_count": null,
      "outputs": []
    },
    {
      "cell_type": "code",
      "source": [
        "result.show()"
      ],
      "metadata": {
        "id": "yHG_FTIqPtju",
        "colab": {
          "base_uri": "https://localhost:8080/"
        },
        "outputId": "cb4115e8-34c7-420a-9230-c6dbb24dbb39"
      },
      "id": "yHG_FTIqPtju",
      "execution_count": null,
      "outputs": [
        {
          "output_type": "stream",
          "name": "stdout",
          "text": [
            "+--------------------+--------------------+--------------------+--------------------+--------------------+--------------------+--------------------+\n",
            "|                text|            document|            sentence|               token|          embeddings|                 ner|           ner_chunk|\n",
            "+--------------------+--------------------+--------------------+--------------------+--------------------+--------------------+--------------------+\n",
            "|EMPLOYMENT AGREEM...|[{document, 0, 39...|[{document, 0, 17...|[{token, 0, 9, EM...|[{word_embeddings...|[{named_entity, 0...|[{chunk, 0, 19, E...|\n",
            "+--------------------+--------------------+--------------------+--------------------+--------------------+--------------------+--------------------+\n",
            "\n"
          ]
        }
      ]
    },
    {
      "cell_type": "code",
      "source": [
        "result.select(F.explode('sentence')).show(truncate=50)"
      ],
      "metadata": {
        "id": "S4zcGzQlPx6V",
        "colab": {
          "base_uri": "https://localhost:8080/"
        },
        "outputId": "e984ca51-fc72-4eec-9fde-a544d38f9d85"
      },
      "id": "S4zcGzQlPx6V",
      "execution_count": null,
      "outputs": [
        {
          "output_type": "stream",
          "name": "stdout",
          "text": [
            "+--------------------------------------------------+\n",
            "|                                               col|\n",
            "+--------------------------------------------------+\n",
            "|{document, 0, 176, EMPLOYMENT AGREEMENT,   effe...|\n",
            "|{document, 178, 396, This First Amendment (Amen...|\n",
            "+--------------------------------------------------+\n",
            "\n"
          ]
        }
      ]
    },
    {
      "cell_type": "code",
      "source": [
        "from pyspark.sql import functions as F\n",
        "\n",
        "result_df = result.select(F.explode(F.arrays_zip(result.token.result, \n",
        "                                                 result.ner.result)).alias(\"cols\")) \\\n",
        "                  .select(F.expr(\"cols['0']\").alias(\"token\"),\n",
        "                          F.expr(\"cols['1']\").alias(\"ner_label\"))"
      ],
      "metadata": {
        "id": "gcce6cXw9jj_"
      },
      "id": "gcce6cXw9jj_",
      "execution_count": null,
      "outputs": []
    },
    {
      "cell_type": "code",
      "source": [
        "result_df.show()"
      ],
      "metadata": {
        "id": "CEMRr_OAPiqy",
        "colab": {
          "base_uri": "https://localhost:8080/"
        },
        "outputId": "d04009db-76e6-4293-c752-e5c39defd4c6"
      },
      "id": "CEMRr_OAPiqy",
      "execution_count": null,
      "outputs": [
        {
          "output_type": "stream",
          "name": "stdout",
          "text": [
            "+-----------+---------+\n",
            "|      token|ner_label|\n",
            "+-----------+---------+\n",
            "| EMPLOYMENT|    B-DOC|\n",
            "|  AGREEMENT|    I-DOC|\n",
            "|          ,|        O|\n",
            "|  effective|        O|\n",
            "|         as|        O|\n",
            "|         of|        O|\n",
            "|       June|B-EFFDATE|\n",
            "|          1|I-EFFDATE|\n",
            "|          ,|I-EFFDATE|\n",
            "|       2013|I-EFFDATE|\n",
            "|    between|        O|\n",
            "|    Synergy|  B-PARTY|\n",
            "|  Resources|  I-PARTY|\n",
            "|Corporation|  I-PARTY|\n",
            "|          ,|        O|\n",
            "|          a|        O|\n",
            "|   Colorado|        O|\n",
            "|corporation|        O|\n",
            "|          (|        O|\n",
            "|        the|        O|\n",
            "+-----------+---------+\n",
            "only showing top 20 rows\n",
            "\n"
          ]
        }
      ]
    },
    {
      "cell_type": "code",
      "source": [
        "result_df.select(\"token\", \"ner_label\").groupBy('ner_label').count().orderBy('count', ascending=False).show(truncate=False)"
      ],
      "metadata": {
        "id": "6y-Eu10e9lO2",
        "colab": {
          "base_uri": "https://localhost:8080/"
        },
        "outputId": "3d4f4dd3-4d2a-42ad-ae6d-9849e1dac79f"
      },
      "id": "6y-Eu10e9lO2",
      "execution_count": null,
      "outputs": [
        {
          "output_type": "stream",
          "name": "stdout",
          "text": [
            "+---------+-----+\n",
            "|ner_label|count|\n",
            "+---------+-----+\n",
            "|O        |49   |\n",
            "|I-PARTY  |10   |\n",
            "|I-EFFDATE|6    |\n",
            "|B-PARTY  |4    |\n",
            "|B-ALIAS  |4    |\n",
            "|B-DOC    |2    |\n",
            "|B-EFFDATE|2    |\n",
            "|I-DOC    |2    |\n",
            "+---------+-----+\n",
            "\n"
          ]
        }
      ]
    },
    {
      "cell_type": "markdown",
      "source": [
        "## Default parameters"
      ],
      "metadata": {
        "id": "Xxf8EYe-MmbA"
      },
      "id": "Xxf8EYe-MmbA"
    },
    {
      "cell_type": "code",
      "source": [
        "#from  sparknlp_jsl.deidentification_module import Deidentifier\n",
        "from deidentification_module import Deidentifier\n",
        "# we need to feed the module with an active spark session\n",
        "deid_implementor= Deidentifier(spark)"
      ],
      "metadata": {
        "id": "yK-ddxprM4oz"
      },
      "id": "yK-ddxprM4oz",
      "execution_count": null,
      "outputs": []
    },
    {
      "cell_type": "code",
      "source": [
        "res= deid_implementor.deidentify(input_file_path=\"deid_data.csv\",\n",
        "                                 output_file_path=\"deidentified.csv\", \n",
        "                                 custom_pipeline=model,\n",
        "                                 separator='@')\n"
      ],
      "metadata": {
        "id": "qZozwnLVM4Pq",
        "colab": {
          "base_uri": "https://localhost:8080/"
        },
        "outputId": "d8f1da91-31c3-4f1a-ed48-59a936fa57e2"
      },
      "id": "qZozwnLVM4Pq",
      "execution_count": null,
      "outputs": [
        {
          "output_type": "stream",
          "name": "stdout",
          "text": [
            "Deidentification process of the 'text' field has begun...\n",
            "Deidentification process of the 'text' field was completed...\n",
            "Deidentifcation successfully completed and the results saved as 'deidentified.csv' !\n"
          ]
        }
      ]
    },
    {
      "cell_type": "code",
      "source": [
        "res.show(n=50, truncate=False)"
      ],
      "metadata": {
        "id": "v_tr4YZpMlql",
        "colab": {
          "base_uri": "https://localhost:8080/"
        },
        "outputId": "72129ebe-fe74-4895-b500-ac452d53dcf4"
      },
      "id": "v_tr4YZpMlql",
      "execution_count": null,
      "outputs": [
        {
          "output_type": "stream",
          "name": "stdout",
          "text": [
            "+---+---------------------------------------------------------------------------------------------------------------------------------------------------------------------------------------------------------------------------+----------------------------------------------------------------------------------------------------------------------------------------------------------------------------------------+\n",
            "|ID |text                                                                                                                                                                                                                       |text_deidentified                                                                                                                                                                       |\n",
            "+---+---------------------------------------------------------------------------------------------------------------------------------------------------------------------------------------------------------------------------+----------------------------------------------------------------------------------------------------------------------------------------------------------------------------------------+\n",
            "|0  |EMPLOYMENT AGREEMENT,   effective  as  of  June  1,  2013  between  Synergy  Resources Corporation,  a Colorado corporation (the \"Company\"),  and John E. Smith (the \"Employee\").                                          |<DOC>,   effective  as  of  <EFFDATE>  between  <PARTY>,  a Colorado corporation (the \"<ALIAS>\"),  and <PARTY> (the \"<ALIAS>\").                                                         |\n",
            "|0  |This First Amendment (Amendment) to the Employment Agreement between Service 1st Bank located in Stockton, California (Bank) and John E. Smith (Executive) is adopted, effective as of August 21, 2008, as set forth below.|This First Amendment (Amendment) to the <DOC> between <PARTY> located in Stockton, California (<ALIAS>) and <PARTY> (<ALIAS>) is adopted, effective as of <EFFDATE>, as set forth below.|\n",
            "+---+---------------------------------------------------------------------------------------------------------------------------------------------------------------------------------------------------------------------------+----------------------------------------------------------------------------------------------------------------------------------------------------------------------------------------+\n",
            "\n"
          ]
        }
      ]
    },
    {
      "cell_type": "code",
      "source": [
        "#checking saved output file\n",
        "import pandas as pd\n",
        "res_data= pd.read_csv(\"deidentified.csv\")\n",
        "res_data.head()"
      ],
      "metadata": {
        "id": "FeoeISmMRFny",
        "colab": {
          "base_uri": "https://localhost:8080/",
          "height": 112
        },
        "outputId": "182c6eb6-df7f-4625-9311-49b0eae58ee8"
      },
      "id": "FeoeISmMRFny",
      "execution_count": null,
      "outputs": [
        {
          "output_type": "execute_result",
          "data": {
            "text/plain": [
              "   ID                                               text  \\\n",
              "0   0  EMPLOYMENT AGREEMENT,   effective  as  of  Jun...   \n",
              "1   0  This First Amendment (Amendment) to the Employ...   \n",
              "\n",
              "                                   text_deidentified  \n",
              "0  <DOC>,   effective  as  of  <EFFDATE>  between...  \n",
              "1  This First Amendment (Amendment) to the <DOC> ...  "
            ],
            "text/html": [
              "\n",
              "  <div id=\"df-c5e9f0c3-0465-4ec6-8bba-36c3056b1c12\">\n",
              "    <div class=\"colab-df-container\">\n",
              "      <div>\n",
              "<style scoped>\n",
              "    .dataframe tbody tr th:only-of-type {\n",
              "        vertical-align: middle;\n",
              "    }\n",
              "\n",
              "    .dataframe tbody tr th {\n",
              "        vertical-align: top;\n",
              "    }\n",
              "\n",
              "    .dataframe thead th {\n",
              "        text-align: right;\n",
              "    }\n",
              "</style>\n",
              "<table border=\"1\" class=\"dataframe\">\n",
              "  <thead>\n",
              "    <tr style=\"text-align: right;\">\n",
              "      <th></th>\n",
              "      <th>ID</th>\n",
              "      <th>text</th>\n",
              "      <th>text_deidentified</th>\n",
              "    </tr>\n",
              "  </thead>\n",
              "  <tbody>\n",
              "    <tr>\n",
              "      <th>0</th>\n",
              "      <td>0</td>\n",
              "      <td>EMPLOYMENT AGREEMENT,   effective  as  of  Jun...</td>\n",
              "      <td>&lt;DOC&gt;,   effective  as  of  &lt;EFFDATE&gt;  between...</td>\n",
              "    </tr>\n",
              "    <tr>\n",
              "      <th>1</th>\n",
              "      <td>0</td>\n",
              "      <td>This First Amendment (Amendment) to the Employ...</td>\n",
              "      <td>This First Amendment (Amendment) to the &lt;DOC&gt; ...</td>\n",
              "    </tr>\n",
              "  </tbody>\n",
              "</table>\n",
              "</div>\n",
              "      <button class=\"colab-df-convert\" onclick=\"convertToInteractive('df-c5e9f0c3-0465-4ec6-8bba-36c3056b1c12')\"\n",
              "              title=\"Convert this dataframe to an interactive table.\"\n",
              "              style=\"display:none;\">\n",
              "        \n",
              "  <svg xmlns=\"http://www.w3.org/2000/svg\" height=\"24px\"viewBox=\"0 0 24 24\"\n",
              "       width=\"24px\">\n",
              "    <path d=\"M0 0h24v24H0V0z\" fill=\"none\"/>\n",
              "    <path d=\"M18.56 5.44l.94 2.06.94-2.06 2.06-.94-2.06-.94-.94-2.06-.94 2.06-2.06.94zm-11 1L8.5 8.5l.94-2.06 2.06-.94-2.06-.94L8.5 2.5l-.94 2.06-2.06.94zm10 10l.94 2.06.94-2.06 2.06-.94-2.06-.94-.94-2.06-.94 2.06-2.06.94z\"/><path d=\"M17.41 7.96l-1.37-1.37c-.4-.4-.92-.59-1.43-.59-.52 0-1.04.2-1.43.59L10.3 9.45l-7.72 7.72c-.78.78-.78 2.05 0 2.83L4 21.41c.39.39.9.59 1.41.59.51 0 1.02-.2 1.41-.59l7.78-7.78 2.81-2.81c.8-.78.8-2.07 0-2.86zM5.41 20L4 18.59l7.72-7.72 1.47 1.35L5.41 20z\"/>\n",
              "  </svg>\n",
              "      </button>\n",
              "      \n",
              "  <style>\n",
              "    .colab-df-container {\n",
              "      display:flex;\n",
              "      flex-wrap:wrap;\n",
              "      gap: 12px;\n",
              "    }\n",
              "\n",
              "    .colab-df-convert {\n",
              "      background-color: #E8F0FE;\n",
              "      border: none;\n",
              "      border-radius: 50%;\n",
              "      cursor: pointer;\n",
              "      display: none;\n",
              "      fill: #1967D2;\n",
              "      height: 32px;\n",
              "      padding: 0 0 0 0;\n",
              "      width: 32px;\n",
              "    }\n",
              "\n",
              "    .colab-df-convert:hover {\n",
              "      background-color: #E2EBFA;\n",
              "      box-shadow: 0px 1px 2px rgba(60, 64, 67, 0.3), 0px 1px 3px 1px rgba(60, 64, 67, 0.15);\n",
              "      fill: #174EA6;\n",
              "    }\n",
              "\n",
              "    [theme=dark] .colab-df-convert {\n",
              "      background-color: #3B4455;\n",
              "      fill: #D2E3FC;\n",
              "    }\n",
              "\n",
              "    [theme=dark] .colab-df-convert:hover {\n",
              "      background-color: #434B5C;\n",
              "      box-shadow: 0px 1px 3px 1px rgba(0, 0, 0, 0.15);\n",
              "      filter: drop-shadow(0px 1px 2px rgba(0, 0, 0, 0.3));\n",
              "      fill: #FFFFFF;\n",
              "    }\n",
              "  </style>\n",
              "\n",
              "      <script>\n",
              "        const buttonEl =\n",
              "          document.querySelector('#df-c5e9f0c3-0465-4ec6-8bba-36c3056b1c12 button.colab-df-convert');\n",
              "        buttonEl.style.display =\n",
              "          google.colab.kernel.accessAllowed ? 'block' : 'none';\n",
              "\n",
              "        async function convertToInteractive(key) {\n",
              "          const element = document.querySelector('#df-c5e9f0c3-0465-4ec6-8bba-36c3056b1c12');\n",
              "          const dataTable =\n",
              "            await google.colab.kernel.invokeFunction('convertToInteractive',\n",
              "                                                     [key], {});\n",
              "          if (!dataTable) return;\n",
              "\n",
              "          const docLinkHtml = 'Like what you see? Visit the ' +\n",
              "            '<a target=\"_blank\" href=https://colab.research.google.com/notebooks/data_table.ipynb>data table notebook</a>'\n",
              "            + ' to learn more about interactive tables.';\n",
              "          element.innerHTML = '';\n",
              "          dataTable['output_type'] = 'display_data';\n",
              "          await google.colab.output.renderOutput(dataTable, element);\n",
              "          const docLink = document.createElement('div');\n",
              "          docLink.innerHTML = docLinkHtml;\n",
              "          element.appendChild(docLink);\n",
              "        }\n",
              "      </script>\n",
              "    </div>\n",
              "  </div>\n",
              "  "
            ]
          },
          "metadata": {},
          "execution_count": 43
        }
      ]
    },
    {
      "cell_type": "markdown",
      "id": "6f496f91-9d58-4b2d-83dd-ed0de657460c",
      "metadata": {
        "id": "6f496f91-9d58-4b2d-83dd-ed0de657460c"
      },
      "source": [
        "## Mask options \n"
      ]
    },
    {
      "cell_type": "markdown",
      "source": [
        "### same_length_chars"
      ],
      "metadata": {
        "id": "PiV_Sdg0Qq1M"
      },
      "id": "PiV_Sdg0Qq1M"
    },
    {
      "cell_type": "code",
      "execution_count": null,
      "id": "ec551f0f-c4fc-4087-b83b-683070017fe1",
      "metadata": {
        "scrolled": true,
        "tags": [],
        "id": "ec551f0f-c4fc-4087-b83b-683070017fe1",
        "colab": {
          "base_uri": "https://localhost:8080/"
        },
        "outputId": "3406ab63-de67-4fe9-96f7-e04c8a2d3c0f"
      },
      "outputs": [
        {
          "output_type": "stream",
          "name": "stdout",
          "text": [
            "Deidentification process of the 'text' field has begun...\n",
            "Deidentification process of the 'text' field was completed...\n",
            "Deidentifcation successfully completed and the results saved as 'deidentified.csv' !\n"
          ]
        }
      ],
      "source": [
        "res= deid_implementor.deidentify(input_file_path=\"deid_data.csv\",\n",
        "                                output_file_path=\"deidentified.csv\",\n",
        "                                custom_pipeline=model,\n",
        "                                fields={\"text\": \"mask\"}, masking_policy=\"same_length_chars\")"
      ]
    },
    {
      "cell_type": "code",
      "execution_count": null,
      "id": "105724c1-4803-473a-9fcd-83ef3460fd96",
      "metadata": {
        "id": "105724c1-4803-473a-9fcd-83ef3460fd96",
        "colab": {
          "base_uri": "https://localhost:8080/"
        },
        "outputId": "4d30220a-954f-4c19-8647-bbdf4bc5d7d7"
      },
      "outputs": [
        {
          "output_type": "stream",
          "name": "stdout",
          "text": [
            "+---+------------------------------------------------------------------------------------------------------------------------+------------------------------------------------------------------------------------------------------------------------+\n",
            "| ID|                                                                                                                    text|                                                                                                       text_deidentified|\n",
            "+---+------------------------------------------------------------------------------------------------------------------------+------------------------------------------------------------------------------------------------------------------------+\n",
            "|  0|EMPLOYMENT AGREEMENT,   effective  as  of  June  1,  2013  between  Synergy  Resources Corporation,  a Colorado corpo...|[******************],   effective  as  of  [************]  between  [****************************],  a Colorado corpo...|\n",
            "|  0|This First Amendment (Amendment) to the Employment Agreement between Service 1st Bank located in Stockton, California...|This First Amendment (Amendment) to the [******************] between [**************] located in Stockton, California...|\n",
            "+---+------------------------------------------------------------------------------------------------------------------------+------------------------------------------------------------------------------------------------------------------------+\n",
            "\n"
          ]
        }
      ],
      "source": [
        "res.show(truncate=120)"
      ]
    },
    {
      "cell_type": "markdown",
      "id": "b8324fef-246d-4731-be94-fbe818bcc3de",
      "metadata": {
        "id": "b8324fef-246d-4731-be94-fbe818bcc3de"
      },
      "source": [
        "### fixed_length_chars"
      ]
    },
    {
      "cell_type": "code",
      "execution_count": null,
      "id": "3e21fe0b-fa7d-42d6-94c0-fc437583cae5",
      "metadata": {
        "id": "3e21fe0b-fa7d-42d6-94c0-fc437583cae5",
        "colab": {
          "base_uri": "https://localhost:8080/"
        },
        "outputId": "d3430c0d-11d7-4a22-fe01-7fd165d522d1"
      },
      "outputs": [
        {
          "output_type": "stream",
          "name": "stdout",
          "text": [
            "Deidentification process of the 'text' field has begun...\n",
            "Deidentification process of the 'text' field was completed...\n",
            "Deidentifcation successfully completed and the results saved as 'deidentified.csv' !\n"
          ]
        }
      ],
      "source": [
        "res= deid_implementor.deidentify(input_file_path=\"deid_data.csv\",\n",
        "                                output_file_path=\"deidentified.csv\",\n",
        "                                custom_pipeline=model,\n",
        "                                fields={\"text\": \"mask\"}, masking_policy=\"fixed_length_chars\", fixed_mask_length=2)"
      ]
    },
    {
      "cell_type": "code",
      "execution_count": null,
      "id": "772513fd-01a7-4c6e-afb1-1863ac863636",
      "metadata": {
        "id": "772513fd-01a7-4c6e-afb1-1863ac863636",
        "colab": {
          "base_uri": "https://localhost:8080/"
        },
        "outputId": "f2bb8e99-303f-465d-d41d-51a2ee23c818"
      },
      "outputs": [
        {
          "output_type": "stream",
          "name": "stdout",
          "text": [
            "+---+------------------------------------------------------------------------------------------------------------------------+------------------------------------------------------------------------------------------------------------------------+\n",
            "| ID|                                                                                                                    text|                                                                                                       text_deidentified|\n",
            "+---+------------------------------------------------------------------------------------------------------------------------+------------------------------------------------------------------------------------------------------------------------+\n",
            "|  0|EMPLOYMENT AGREEMENT,   effective  as  of  June  1,  2013  between  Synergy  Resources Corporation,  a Colorado corpo...|                       **,   effective  as  of  **  between  **,  a Colorado corporation (the \"**\"),  and ** (the \"**\").|\n",
            "|  0|This First Amendment (Amendment) to the Employment Agreement between Service 1st Bank located in Stockton, California...|This First Amendment (Amendment) to the ** between ** located in Stockton, California (**) and ** (**) is adopted, ef...|\n",
            "+---+------------------------------------------------------------------------------------------------------------------------+------------------------------------------------------------------------------------------------------------------------+\n",
            "\n"
          ]
        }
      ],
      "source": [
        "res.show(truncate=120)"
      ]
    },
    {
      "cell_type": "markdown",
      "id": "f3d4e399-0ae4-441d-bc03-2040e65f8181",
      "metadata": {
        "id": "f3d4e399-0ae4-441d-bc03-2040e65f8181"
      },
      "source": [
        "## Obfuscate Options"
      ]
    },
    {
      "cell_type": "markdown",
      "source": [
        "### obfuscate_ref_source=\"file\""
      ],
      "metadata": {
        "id": "Qr54LYqETovR"
      },
      "id": "Qr54LYqETovR"
    },
    {
      "cell_type": "code",
      "source": [
        "obs_lines = \"\"\"John Snow Labs#PARTY\n",
        "Amazon INC#PARTY\n",
        "1st June, 2023#EFFDATE\n",
        "23 of July, 2023#EFFDATE\n",
        "Party 1#ALIAS\n",
        "Party 2#ALIAS\n",
        "PRIVATE AGREEMENT#DOC\n",
        "CONTRACT#DOC\n",
        "\"\"\"\n",
        "\n",
        "with open ('obfuscation.txt', 'w') as f:\n",
        "  f.write(obs_lines)"
      ],
      "metadata": {
        "id": "ysKMVf2sTt-L"
      },
      "id": "ysKMVf2sTt-L",
      "execution_count": null,
      "outputs": []
    },
    {
      "cell_type": "code",
      "source": [
        "df= spark.createDataFrame([[text]]).toDF(\"text\")\n",
        "df_pd= df.toPandas()\n",
        "df_pd.to_csv(\"deid_obfs_data.csv\", index=False)"
      ],
      "metadata": {
        "id": "YF3kzLRDUQ3i"
      },
      "id": "YF3kzLRDUQ3i",
      "execution_count": null,
      "outputs": []
    },
    {
      "cell_type": "code",
      "execution_count": null,
      "id": "4fa656da-8090-4546-acc4-13c328aa8769",
      "metadata": {
        "id": "4fa656da-8090-4546-acc4-13c328aa8769",
        "colab": {
          "base_uri": "https://localhost:8080/"
        },
        "outputId": "c5120cf4-20ad-4169-9721-67e2df145aa3"
      },
      "outputs": [
        {
          "output_type": "stream",
          "name": "stdout",
          "text": [
            "Deidentification process of the 'text' field has begun...\n",
            "Deidentification process of the 'text' field was completed...\n",
            "Deidentifcation successfully completed and the results saved as 'deidentified.csv' !\n"
          ]
        }
      ],
      "source": [
        "res= deid_implementor.deidentify(input_file_path=\"deid_obfs_data.csv\",\n",
        "                                output_file_path=\"deidentified.csv\",\n",
        "                                custom_pipeline=model,\n",
        "                                fields={\"text\": \"obfuscate\"}, obfuscate_ref_source=\"file\",\n",
        "                                obfuscate_ref_file_path=\"obfuscation.txt\")"
      ]
    },
    {
      "cell_type": "code",
      "execution_count": null,
      "id": "f869c051-261a-4286-acc5-019842c5be22",
      "metadata": {
        "id": "f869c051-261a-4286-acc5-019842c5be22",
        "colab": {
          "base_uri": "https://localhost:8080/"
        },
        "outputId": "99ac0db2-f3f4-4faf-ddd7-97c1b14a75b2"
      },
      "outputs": [
        {
          "output_type": "stream",
          "name": "stdout",
          "text": [
            "+---+------------------------------------------------------------------------------------------------------------------------+------------------------------------------------------------------------------------------------------------------------+\n",
            "| ID|                                                                                                                    text|                                                                                                       text_deidentified|\n",
            "+---+------------------------------------------------------------------------------------------------------------------------+------------------------------------------------------------------------------------------------------------------------+\n",
            "|  0|EMPLOYMENT AGREEMENT,   effective  as  of  June  1,  2013  between  Synergy  Resources Corporation,  a Colorado corpo...|PRIVATE AGREEMENT,   effective  as  of  23 of July, 2023  between  John Snow Labs,  a Colorado corporation (the \"Part...|\n",
            "|  0|This First Amendment (Amendment) to the Employment Agreement between Service 1st Bank located in Stockton, California...|This First Amendment (Amendment) to the CONTRACT between Amazon INC located in Stockton, California (Party 2) and Ama...|\n",
            "+---+------------------------------------------------------------------------------------------------------------------------+------------------------------------------------------------------------------------------------------------------------+\n",
            "\n"
          ]
        }
      ],
      "source": [
        "res.show(truncate=120)"
      ]
    },
    {
      "cell_type": "markdown",
      "id": "0b123c35-84ab-45be-9137-46a63e44791e",
      "metadata": {
        "id": "0b123c35-84ab-45be-9137-46a63e44791e"
      },
      "source": [
        "### obfuscate_ref_source=faker \n",
        "You can also use our internal faker library has its own vocabulary (with a predefined vocabulary for ORG, DOCUMENT TYPES, etc).\n",
        "\n",
        "However, some entities may not be supported by faker, as the number of models increase in the Financial NLP library. If so, you will just see <ENTITY>.\n",
        "\n",
        "In that case, please come back to a mixed or file-only approaches."
      ]
    },
    {
      "cell_type": "markdown",
      "id": "b40a41d1-3472-40db-99e1-9430aa3d4fbf",
      "metadata": {
        "id": "b40a41d1-3472-40db-99e1-9430aa3d4fbf"
      },
      "source": [
        "### obfuscate_ref_source=both\n",
        "This option uses both internal faker library and the file. "
      ]
    },
    {
      "cell_type": "code",
      "execution_count": null,
      "id": "67ae99c3-5aeb-4631-8780-da489e53a70e",
      "metadata": {
        "id": "67ae99c3-5aeb-4631-8780-da489e53a70e",
        "colab": {
          "base_uri": "https://localhost:8080/"
        },
        "outputId": "47ef8fa1-4a24-4ce6-8eb3-c3633d9028e7"
      },
      "outputs": [
        {
          "output_type": "stream",
          "name": "stdout",
          "text": [
            "Deidentification process of the 'text' field has begun...\n",
            "Deidentification process of the 'text' field was completed...\n",
            "Deidentifcation successfully completed and the results saved as 'deidentified.csv' !\n"
          ]
        }
      ],
      "source": [
        "res= deid_implementor.deidentify(input_file_path=\"deid_obfs_data.csv\",\n",
        "                                output_file_path=\"deidentified.csv\",\n",
        "                                custom_pipeline=model,\n",
        "                                fields={\"text\": \"obfuscate\"}, obfuscate_ref_source=\"both\",\n",
        "                                obfuscate_ref_file_path=\"obfuscation.txt\")"
      ]
    },
    {
      "cell_type": "code",
      "execution_count": null,
      "id": "e339d615-08a9-4507-88d3-cf712d101821",
      "metadata": {
        "id": "e339d615-08a9-4507-88d3-cf712d101821",
        "colab": {
          "base_uri": "https://localhost:8080/"
        },
        "outputId": "7cbf4677-db9e-49a9-c28c-d6577ff305f8"
      },
      "outputs": [
        {
          "output_type": "stream",
          "name": "stdout",
          "text": [
            "+---+------------------------------------------------------------------------------------------------------------------------+------------------------------------------------------------------------------------------------------------------------+\n",
            "| ID|                                                                                                                    text|                                                                                                       text_deidentified|\n",
            "+---+------------------------------------------------------------------------------------------------------------------------+------------------------------------------------------------------------------------------------------------------------+\n",
            "|  0|EMPLOYMENT AGREEMENT,   effective  as  of  June  1,  2013  between  Synergy  Resources Corporation,  a Colorado corpo...|PRIVATE AGREEMENT,   effective  as  of  23 of July, 2023  between  Amazon INC,  a Colorado corporation (the \"Party 1\"...|\n",
            "|  0|This First Amendment (Amendment) to the Employment Agreement between Service 1st Bank located in Stockton, California...|This First Amendment (Amendment) to the PRIVATE AGREEMENT between Amazon INC located in Stockton, California (Party 1...|\n",
            "+---+------------------------------------------------------------------------------------------------------------------------+------------------------------------------------------------------------------------------------------------------------+\n",
            "\n"
          ]
        }
      ],
      "source": [
        "res.show(truncate=120)"
      ]
    },
    {
      "cell_type": "markdown",
      "source": [
        "## Using Date Matcher to normalize the dates from text to date format"
      ],
      "metadata": {
        "id": "BL8sIoUQH95t"
      },
      "id": "BL8sIoUQH95t"
    },
    {
      "cell_type": "code",
      "source": [
        "import pandas as pd\n",
        "data = pd.DataFrame(\n",
        "    {'clientID' : ['A001', 'A001', 'A002'],\n",
        "     'text' : ['EMPLOYMENT AGREEMENT, effective as of June 1, 2013', \n",
        "               'This First Amendment adopted, effective as of August 21, 2008', \n",
        "               'Amendment to the Employment Agreement between Service 1st Bank located in Stockton, California (Bank) and John E. Smith (Executive) by 01/06/2023'\n",
        "              ]\n",
        "    }\n",
        ")\n",
        "\n",
        "my_input_df = spark.createDataFrame(data)\n",
        "\n",
        "my_input_df.show(truncate = False)"
      ],
      "metadata": {
        "colab": {
          "base_uri": "https://localhost:8080/"
        },
        "id": "Gp6k45l2H9hc",
        "outputId": "15ef1982-1aef-4791-a8da-1fe1b83df61d"
      },
      "id": "Gp6k45l2H9hc",
      "execution_count": null,
      "outputs": [
        {
          "output_type": "stream",
          "name": "stdout",
          "text": [
            "+--------+-------------------------------------------------------------------------------------------------------------------------------------------------+\n",
            "|clientID|text                                                                                                                                             |\n",
            "+--------+-------------------------------------------------------------------------------------------------------------------------------------------------+\n",
            "|A001    |EMPLOYMENT AGREEMENT, effective as of June 1, 2013                                                                                               |\n",
            "|A001    |This First Amendment adopted, effective as of August 21, 2008                                                                                    |\n",
            "|A002    |Amendment to the Employment Agreement between Service 1st Bank located in Stockton, California (Bank) and John E. Smith (Executive) by 01/06/2023|\n",
            "+--------+-------------------------------------------------------------------------------------------------------------------------------------------------+\n",
            "\n"
          ]
        }
      ]
    },
    {
      "cell_type": "code",
      "source": [
        "data"
      ],
      "metadata": {
        "colab": {
          "base_uri": "https://localhost:8080/",
          "height": 143
        },
        "id": "zYwyJv2uICws",
        "outputId": "785a5fe5-7886-4940-c7fd-1f30f4009598"
      },
      "id": "zYwyJv2uICws",
      "execution_count": null,
      "outputs": [
        {
          "output_type": "execute_result",
          "data": {
            "text/plain": [
              "  clientID                                               text\n",
              "0     A001  EMPLOYMENT AGREEMENT, effective as of June 1, ...\n",
              "1     A001  This First Amendment adopted, effective as of ...\n",
              "2     A002  Amendment to the Employment Agreement between ..."
            ],
            "text/html": [
              "\n",
              "  <div id=\"df-49594a3f-7bbd-405f-9718-31cf7618a6fe\">\n",
              "    <div class=\"colab-df-container\">\n",
              "      <div>\n",
              "<style scoped>\n",
              "    .dataframe tbody tr th:only-of-type {\n",
              "        vertical-align: middle;\n",
              "    }\n",
              "\n",
              "    .dataframe tbody tr th {\n",
              "        vertical-align: top;\n",
              "    }\n",
              "\n",
              "    .dataframe thead th {\n",
              "        text-align: right;\n",
              "    }\n",
              "</style>\n",
              "<table border=\"1\" class=\"dataframe\">\n",
              "  <thead>\n",
              "    <tr style=\"text-align: right;\">\n",
              "      <th></th>\n",
              "      <th>clientID</th>\n",
              "      <th>text</th>\n",
              "    </tr>\n",
              "  </thead>\n",
              "  <tbody>\n",
              "    <tr>\n",
              "      <th>0</th>\n",
              "      <td>A001</td>\n",
              "      <td>EMPLOYMENT AGREEMENT, effective as of June 1, ...</td>\n",
              "    </tr>\n",
              "    <tr>\n",
              "      <th>1</th>\n",
              "      <td>A001</td>\n",
              "      <td>This First Amendment adopted, effective as of ...</td>\n",
              "    </tr>\n",
              "    <tr>\n",
              "      <th>2</th>\n",
              "      <td>A002</td>\n",
              "      <td>Amendment to the Employment Agreement between ...</td>\n",
              "    </tr>\n",
              "  </tbody>\n",
              "</table>\n",
              "</div>\n",
              "      <button class=\"colab-df-convert\" onclick=\"convertToInteractive('df-49594a3f-7bbd-405f-9718-31cf7618a6fe')\"\n",
              "              title=\"Convert this dataframe to an interactive table.\"\n",
              "              style=\"display:none;\">\n",
              "        \n",
              "  <svg xmlns=\"http://www.w3.org/2000/svg\" height=\"24px\"viewBox=\"0 0 24 24\"\n",
              "       width=\"24px\">\n",
              "    <path d=\"M0 0h24v24H0V0z\" fill=\"none\"/>\n",
              "    <path d=\"M18.56 5.44l.94 2.06.94-2.06 2.06-.94-2.06-.94-.94-2.06-.94 2.06-2.06.94zm-11 1L8.5 8.5l.94-2.06 2.06-.94-2.06-.94L8.5 2.5l-.94 2.06-2.06.94zm10 10l.94 2.06.94-2.06 2.06-.94-2.06-.94-.94-2.06-.94 2.06-2.06.94z\"/><path d=\"M17.41 7.96l-1.37-1.37c-.4-.4-.92-.59-1.43-.59-.52 0-1.04.2-1.43.59L10.3 9.45l-7.72 7.72c-.78.78-.78 2.05 0 2.83L4 21.41c.39.39.9.59 1.41.59.51 0 1.02-.2 1.41-.59l7.78-7.78 2.81-2.81c.8-.78.8-2.07 0-2.86zM5.41 20L4 18.59l7.72-7.72 1.47 1.35L5.41 20z\"/>\n",
              "  </svg>\n",
              "      </button>\n",
              "      \n",
              "  <style>\n",
              "    .colab-df-container {\n",
              "      display:flex;\n",
              "      flex-wrap:wrap;\n",
              "      gap: 12px;\n",
              "    }\n",
              "\n",
              "    .colab-df-convert {\n",
              "      background-color: #E8F0FE;\n",
              "      border: none;\n",
              "      border-radius: 50%;\n",
              "      cursor: pointer;\n",
              "      display: none;\n",
              "      fill: #1967D2;\n",
              "      height: 32px;\n",
              "      padding: 0 0 0 0;\n",
              "      width: 32px;\n",
              "    }\n",
              "\n",
              "    .colab-df-convert:hover {\n",
              "      background-color: #E2EBFA;\n",
              "      box-shadow: 0px 1px 2px rgba(60, 64, 67, 0.3), 0px 1px 3px 1px rgba(60, 64, 67, 0.15);\n",
              "      fill: #174EA6;\n",
              "    }\n",
              "\n",
              "    [theme=dark] .colab-df-convert {\n",
              "      background-color: #3B4455;\n",
              "      fill: #D2E3FC;\n",
              "    }\n",
              "\n",
              "    [theme=dark] .colab-df-convert:hover {\n",
              "      background-color: #434B5C;\n",
              "      box-shadow: 0px 1px 3px 1px rgba(0, 0, 0, 0.15);\n",
              "      filter: drop-shadow(0px 1px 2px rgba(0, 0, 0, 0.3));\n",
              "      fill: #FFFFFF;\n",
              "    }\n",
              "  </style>\n",
              "\n",
              "      <script>\n",
              "        const buttonEl =\n",
              "          document.querySelector('#df-49594a3f-7bbd-405f-9718-31cf7618a6fe button.colab-df-convert');\n",
              "        buttonEl.style.display =\n",
              "          google.colab.kernel.accessAllowed ? 'block' : 'none';\n",
              "\n",
              "        async function convertToInteractive(key) {\n",
              "          const element = document.querySelector('#df-49594a3f-7bbd-405f-9718-31cf7618a6fe');\n",
              "          const dataTable =\n",
              "            await google.colab.kernel.invokeFunction('convertToInteractive',\n",
              "                                                     [key], {});\n",
              "          if (!dataTable) return;\n",
              "\n",
              "          const docLinkHtml = 'Like what you see? Visit the ' +\n",
              "            '<a target=\"_blank\" href=https://colab.research.google.com/notebooks/data_table.ipynb>data table notebook</a>'\n",
              "            + ' to learn more about interactive tables.';\n",
              "          element.innerHTML = '';\n",
              "          dataTable['output_type'] = 'display_data';\n",
              "          await google.colab.output.renderOutput(dataTable, element);\n",
              "          const docLink = document.createElement('div');\n",
              "          docLink.innerHTML = docLinkHtml;\n",
              "          element.appendChild(docLink);\n",
              "        }\n",
              "      </script>\n",
              "    </div>\n",
              "  </div>\n",
              "  "
            ]
          },
          "metadata": {},
          "execution_count": 91
        }
      ]
    },
    {
      "cell_type": "code",
      "source": [
        "documentAssembler = nlp.DocumentAssembler() \\\n",
        "    .setInputCol(\"text\") \\\n",
        "    .setOutputCol(\"document\")\n",
        "\n",
        "date = nlp.DateMatcher() \\\n",
        "    .setInputCols(\"document\") \\\n",
        "    .setOutputCol(\"date\") \\\n",
        "    .setOutputFormat(\"dd/MM/yyyy\")\n",
        "    #.setAnchorDateYear(2020) \\  Use these if you want to stick with a specific month and range of days\n",
        "    #.setAnchorDateMonth(1) \\\n",
        "    #.setAnchorDateDay(11) \\\n",
        "\n",
        "pipeline = nlp.Pipeline().setStages([\n",
        "    documentAssembler,\n",
        "    date\n",
        "])\n",
        "\n",
        "result = pipeline.fit(my_input_df).transform(my_input_df)"
      ],
      "metadata": {
        "id": "80tKw5iJIE_P"
      },
      "id": "80tKw5iJIE_P",
      "execution_count": null,
      "outputs": []
    },
    {
      "cell_type": "code",
      "source": [
        "result.select(\"clientID\", \"text\", \"date.begin\", \"date.end\", \"date.result\").show(truncate=False)"
      ],
      "metadata": {
        "colab": {
          "base_uri": "https://localhost:8080/"
        },
        "id": "f3En8TNNIgP8",
        "outputId": "bb782d51-e625-408e-98ed-5aa52277358c"
      },
      "id": "f3En8TNNIgP8",
      "execution_count": null,
      "outputs": [
        {
          "output_type": "stream",
          "name": "stdout",
          "text": [
            "+--------+-------------------------------------------------------------------------------------------------------------------------------------------------+-----+-----+------------+\n",
            "|clientID|text                                                                                                                                             |begin|end  |result      |\n",
            "+--------+-------------------------------------------------------------------------------------------------------------------------------------------------+-----+-----+------------+\n",
            "|A001    |EMPLOYMENT AGREEMENT, effective as of 2013/06/01                                                                                                 |[38] |[47] |[01/06/2013]|\n",
            "|A001    |This First Amendment adopted, effective as of 2008/08/21                                                                                         |[46] |[55] |[21/08/2008]|\n",
            "|A002    |Amendment to the Employment Agreement between Service 1st Bank located in Stockton, California (Bank) and John E. Smith (Executive) by 2023/01/06|[135]|[144]|[06/01/2023]|\n",
            "+--------+-------------------------------------------------------------------------------------------------------------------------------------------------+-----+-----+------------+\n",
            "\n"
          ]
        }
      ]
    },
    {
      "cell_type": "markdown",
      "source": [
        "You can then use `result` and `text[begin:end]` to modify your original strings"
      ],
      "metadata": {
        "id": "sIDhj8znJJw7"
      },
      "id": "sIDhj8znJJw7"
    },
    {
      "cell_type": "markdown",
      "id": "88c297af-e57a-4199-ac05-0665e7f9dc78",
      "metadata": {
        "id": "88c297af-e57a-4199-ac05-0665e7f9dc78"
      },
      "source": [
        "### shifting days according to the ID column\n",
        "We will normalize the dates first using a DateMatcher"
      ]
    },
    {
      "cell_type": "code",
      "execution_count": null,
      "id": "fe41fd52-1ec3-4cf4-a0c2-75333ec53ea2",
      "metadata": {
        "id": "fe41fd52-1ec3-4cf4-a0c2-75333ec53ea2",
        "colab": {
          "base_uri": "https://localhost:8080/"
        },
        "outputId": "5813dfe9-baa6-4e55-8d21-a90dea0226dc"
      },
      "outputs": [
        {
          "output_type": "stream",
          "name": "stdout",
          "text": [
            "+--------+-------------------------------------------------------------------------------------------------------------------------------------------------+\n",
            "|clientID|text                                                                                                                                             |\n",
            "+--------+-------------------------------------------------------------------------------------------------------------------------------------------------+\n",
            "|A001    |EMPLOYMENT AGREEMENT, effective as of 01/06/2013                                                                                                 |\n",
            "|A001    |This First Amendment adopted, effective as of 21/08/2008                                                                                         |\n",
            "|A002    |Amendment to the Employment Agreement between Service 1st Bank located in Stockton, California (Bank) and John E. Smith (Executive) by 06/01/2023|\n",
            "+--------+-------------------------------------------------------------------------------------------------------------------------------------------------+\n",
            "\n"
          ]
        }
      ],
      "source": [
        "import pandas as pd\n",
        "data = pd.DataFrame(\n",
        "    {'clientID' : ['A001', 'A001', 'A002'],\n",
        "     'text' : ['EMPLOYMENT AGREEMENT, effective as of 01/06/2013', \n",
        "               'This First Amendment adopted, effective as of 21/08/2008', \n",
        "               'Amendment to the Employment Agreement between Service 1st Bank located in Stockton, California (Bank) and John E. Smith (Executive) by 06/01/2023'\n",
        "              ]\n",
        "    }\n",
        ")\n",
        "\n",
        "my_input_df = spark.createDataFrame(data)\n",
        "\n",
        "my_input_df.show(truncate = False)"
      ]
    },
    {
      "cell_type": "code",
      "execution_count": null,
      "id": "cf4af6b3-82e9-4194-b04c-a2b9f81b7cfe",
      "metadata": {
        "id": "cf4af6b3-82e9-4194-b04c-a2b9f81b7cfe"
      },
      "outputs": [],
      "source": [
        "df_pd= my_input_df.toPandas()\n",
        "df_pd.to_csv(\"deid_id_data.csv\", index=False)"
      ]
    },
    {
      "cell_type": "markdown",
      "source": [
        "Custom pipeline with `DocumentHashCoder()`. "
      ],
      "metadata": {
        "id": "W4zBHBsuZT1I"
      },
      "id": "W4zBHBsuZT1I"
    },
    {
      "cell_type": "code",
      "execution_count": null,
      "id": "bafbafc6-fec9-47f2-9184-b4a0c55918b3",
      "metadata": {
        "scrolled": true,
        "tags": [],
        "id": "bafbafc6-fec9-47f2-9184-b4a0c55918b3",
        "outputId": "7a555189-5f9e-4ddd-c05d-b2a49d4388c3",
        "colab": {
          "base_uri": "https://localhost:8080/"
        }
      },
      "outputs": [
        {
          "output_type": "stream",
          "name": "stdout",
          "text": [
            "roberta_embeddings_legal_roberta_base download started this may take some time.\n",
            "Approximate size to download 447.2 MB\n",
            "[OK!]\n",
            "legner_deid download started this may take some time.\n",
            "[OK!]\n"
          ]
        }
      ],
      "source": [
        "documentAssembler = nlp.DocumentAssembler()\\\n",
        "    .setInputCol(\"text\")\\\n",
        "    .setOutputCol(\"document\")\n",
        "\n",
        "documentHasher = legal.DocumentHashCoder()\\\n",
        "    .setInputCols(\"document\")\\\n",
        "    .setOutputCol(\"document2\")\\\n",
        "    .setRangeDays(100)\\\n",
        "    .setNewDateShift(\"shift_days\")\\\n",
        "    .setPatientIdColumn(\"clientID\")\\\n",
        "    .setSeed(100)\n",
        "\n",
        "tokenizer = nlp.Tokenizer()\\\n",
        "    .setInputCols([\"document2\"])\\\n",
        "    .setOutputCol(\"token\")\n",
        "\n",
        "embeddings = nlp.RoBertaEmbeddings.pretrained(\"roberta_embeddings_legal_roberta_base\",\"en\") \\\n",
        "    .setInputCols([\"document2\", \"token\"]) \\\n",
        "    .setOutputCol(\"embeddings\")\n",
        "\n",
        "ner_model = legal.NerModel.pretrained('legner_deid', \"en\", \"legal/models\")\\\n",
        "        .setInputCols([\"document2\", \"token\", \"embeddings\"])\\\n",
        "        .setOutputCol(\"ner\")\n",
        "\n",
        "ner_converter = nlp.NerConverter()\\\n",
        "        .setInputCols([\"document2\",\"token\",\"ner\"])\\\n",
        "        .setOutputCol(\"ner_chunk\")\n",
        "    \n",
        "nlpPipeline = nlp.Pipeline().setStages([\n",
        "    documentAssembler,\n",
        "    documentHasher,\n",
        "    tokenizer,\n",
        "    embeddings,\n",
        "    ner_model,\n",
        "    ner_converter])\n",
        "\n",
        "empty_data = spark.createDataFrame([[\"\", \"\"]]).toDF(\"text\", \"clientID\")\n",
        "\n",
        "pipeline_model = nlpPipeline.fit(empty_data)"
      ]
    },
    {
      "cell_type": "code",
      "execution_count": null,
      "id": "477aca34-b392-4dae-946a-4e59e21c6240",
      "metadata": {
        "scrolled": true,
        "tags": [],
        "id": "477aca34-b392-4dae-946a-4e59e21c6240",
        "outputId": "bf61c9e2-14ff-4adc-c25b-ff094469f8ba",
        "colab": {
          "base_uri": "https://localhost:8080/"
        }
      },
      "outputs": [
        {
          "output_type": "stream",
          "name": "stdout",
          "text": [
            "Deidentification process of the 'text' field has begun...\n",
            "Deidentification process of the 'text' field was completed...\n",
            "Deidentifcation successfully completed and the results saved as 'deidentified.csv' !\n"
          ]
        }
      ],
      "source": [
        "res= deid_implementor.deidentify(input_file_path=\"deid_id_data.csv\",\n",
        "                                  output_file_path=\"deidentified.csv\",\n",
        "                                  custom_pipeline=pipeline_model,\n",
        "                                  fields={\"text\": \"obfuscate\"},\n",
        "                                  shift_days=True,\n",
        "                                  obfuscate_date=True, \n",
        "                                  ner_chunk=\"ner_chunk\",\n",
        "                                  token=\"token\",\n",
        "                                  documenthashcoder_col_name=\"document2\",\n",
        "                                  separator=\",\",\n",
        "                                  unnormalized_date=False\n",
        "                                  )"
      ]
    },
    {
      "cell_type": "code",
      "execution_count": null,
      "id": "506b4f84-972e-4efb-8ecc-963017ba1a5a",
      "metadata": {
        "id": "506b4f84-972e-4efb-8ecc-963017ba1a5a",
        "colab": {
          "base_uri": "https://localhost:8080/"
        },
        "outputId": "0acba5ff-d1a8-4e7d-d844-05dc9897e9af"
      },
      "outputs": [
        {
          "output_type": "stream",
          "name": "stdout",
          "text": [
            "+---+-------------------------------------------------------------------------------------------------------------------------------------------------+------------------------------------------------------------------------------------------------------------------------------------------------+\n",
            "|ID |text                                                                                                                                             |text_deidentified                                                                                                                               |\n",
            "+---+-------------------------------------------------------------------------------------------------------------------------------------------------+------------------------------------------------------------------------------------------------------------------------------------------------+\n",
            "|0  |EMPLOYMENT AGREEMENT, effective as of 01/06/2013                                                                                                 |EMPLOYMENT AGREEMENT, effective as of 01/01/2013                                                                                                |\n",
            "|1  |This First Amendment adopted, effective as of 21/08/2008                                                                                         |This First Amendment adopted, effective as of 16/08/2008                                                                                        |\n",
            "|2  |Amendment to the Employment Agreement between Service 1st Bank located in Stockton, California (Bank) and John E. Smith (Executive) by 06/01/2023|Amendment to the Employment Agreement between Service 1st Bank located in La place, IllinoisIndiana (Bank) and <PERSON> (<PERSON>) by 06/30/2023|\n",
            "+---+-------------------------------------------------------------------------------------------------------------------------------------------------+------------------------------------------------------------------------------------------------------------------------------------------------+\n",
            "\n"
          ]
        }
      ],
      "source": [
        "res.show(truncate=False)"
      ]
    },
    {
      "cell_type": "markdown",
      "id": "368b319b-6a86-4e8b-8ecf-2738f7fa1b94",
      "metadata": {
        "id": "368b319b-6a86-4e8b-8ecf-2738f7fa1b94"
      },
      "source": [
        "### shifting days according to specified values"
      ]
    },
    {
      "cell_type": "code",
      "execution_count": null,
      "id": "192051fa-e915-4cd2-8ce3-e65e9c0f23e7",
      "metadata": {
        "id": "192051fa-e915-4cd2-8ce3-e65e9c0f23e7",
        "colab": {
          "base_uri": "https://localhost:8080/"
        },
        "outputId": "0bcd361a-268e-4b41-9898-805e588a229d"
      },
      "outputs": [
        {
          "output_type": "stream",
          "name": "stdout",
          "text": [
            "+--------+-------------------------------------------------------------------------------------------------------------------------------------------------+---------+\n",
            "|clientID|text                                                                                                                                             |dateshift|\n",
            "+--------+-------------------------------------------------------------------------------------------------------------------------------------------------+---------+\n",
            "|A001    |EMPLOYMENT AGREEMENT, effective as of 01/06/2013                                                                                                 |10       |\n",
            "|A001    |This First Amendment adopted, effective as of 21/08/2008                                                                                         |-2       |\n",
            "|A002    |Amendment to the Employment Agreement between Service 1st Bank located in Stockton, California (Bank) and John E. Smith (Executive) by 06/01/2023|30       |\n",
            "+--------+-------------------------------------------------------------------------------------------------------------------------------------------------+---------+\n",
            "\n"
          ]
        }
      ],
      "source": [
        "data = pd.DataFrame(\n",
        "    {'clientID' : ['A001', 'A001', 'A002'],\n",
        "     'text' : ['EMPLOYMENT AGREEMENT, effective as of 01/06/2013', \n",
        "               'This First Amendment adopted, effective as of 21/08/2008', \n",
        "               'Amendment to the Employment Agreement between Service 1st Bank located in Stockton, California (Bank) and John E. Smith (Executive) by 06/01/2023'\n",
        "              ],\n",
        "     'dateshift' : ['10', '-2', '30']\n",
        "    }\n",
        ")\n",
        "\n",
        "my_input_df = spark.createDataFrame(data)\n",
        "\n",
        "my_input_df.show(truncate=False)"
      ]
    },
    {
      "cell_type": "code",
      "execution_count": null,
      "id": "571108db-7c92-477a-9dc2-78b56fb147d7",
      "metadata": {
        "id": "571108db-7c92-477a-9dc2-78b56fb147d7"
      },
      "outputs": [],
      "source": [
        "df_pd= my_input_df.toPandas()\n",
        "df_pd.to_csv(\"deid_specific_data.csv\", index=False)"
      ]
    },
    {
      "cell_type": "code",
      "execution_count": null,
      "id": "56fddf76-6c5c-48a6-b2b3-da2a7636d841",
      "metadata": {
        "scrolled": true,
        "tags": [],
        "id": "56fddf76-6c5c-48a6-b2b3-da2a7636d841",
        "colab": {
          "base_uri": "https://localhost:8080/"
        },
        "outputId": "1d1c2ae4-1f97-4682-f6b6-0bbfabf52a8d"
      },
      "outputs": [
        {
          "output_type": "stream",
          "name": "stdout",
          "text": [
            "roberta_embeddings_legal_roberta_base download started this may take some time.\n",
            "Approximate size to download 447.2 MB\n",
            "[OK!]\n",
            "legner_deid download started this may take some time.\n",
            "[OK!]\n"
          ]
        }
      ],
      "source": [
        "documentAssembler = nlp.DocumentAssembler()\\\n",
        "    .setInputCol(\"text\")\\\n",
        "    .setOutputCol(\"document\")\n",
        "\n",
        "documentHasher = legal.DocumentHashCoder()\\\n",
        "    .setInputCols(\"document\")\\\n",
        "    .setOutputCol(\"document2\")\\\n",
        "    .setDateShiftColumn(\"dateshift\")\\\n",
        "\n",
        "tokenizer = nlp.Tokenizer()\\\n",
        "    .setInputCols([\"document2\"])\\\n",
        "    .setOutputCol(\"token\")\n",
        "\n",
        "embeddings = nlp.RoBertaEmbeddings.pretrained(\"roberta_embeddings_legal_roberta_base\",\"en\") \\\n",
        "    .setInputCols([\"document2\", \"token\"]) \\\n",
        "    .setOutputCol(\"embeddings\")\n",
        "\n",
        "ner_model = legal.NerModel.pretrained('legner_deid', \"en\", \"legal/models\")\\\n",
        "        .setInputCols([\"document2\", \"token\", \"embeddings\"])\\\n",
        "        .setOutputCol(\"ner\")\n",
        "\n",
        "ner_converter = nlp.NerConverter()\\\n",
        "        .setInputCols([\"document2\",\"token\",\"ner\"])\\\n",
        "        .setOutputCol(\"ner_chunk\")\n",
        "    \n",
        "nlpPipeline = nlp.Pipeline().setStages([\n",
        "    documentAssembler,\n",
        "    documentHasher,\n",
        "    tokenizer,\n",
        "    embeddings,\n",
        "    ner_model,\n",
        "    ner_converter])\n",
        "\n",
        "empty_data = spark.createDataFrame([[\"\", \"\", \"\"]]).toDF(\"clientID\",\"text\", \"dateshift\")\n",
        "\n",
        "pipeline_col_model = nlpPipeline.fit(empty_data)"
      ]
    },
    {
      "cell_type": "code",
      "execution_count": null,
      "id": "a604518f-8149-46ea-8a1d-2d6cbc92a74e",
      "metadata": {
        "scrolled": true,
        "tags": [],
        "id": "a604518f-8149-46ea-8a1d-2d6cbc92a74e",
        "colab": {
          "base_uri": "https://localhost:8080/"
        },
        "outputId": "d01a2396-483c-47e7-afde-b21057b97d69"
      },
      "outputs": [
        {
          "output_type": "stream",
          "name": "stdout",
          "text": [
            "Deidentification process of the 'text' field has begun...\n",
            "Deidentification process of the 'text' field was completed...\n",
            "Deidentifcation successfully completed and the results saved as 'deid_specific_data.csv' !\n"
          ]
        }
      ],
      "source": [
        "res= deid_implementor.deidentify(input_file_path=\"deid_specific_data.csv\",\n",
        "                                                separator=\",\",\n",
        "                                                output_file_path=\"deid_specific_data.csv\",\n",
        "                                                custom_pipeline=pipeline_col_model,\n",
        "                                                fields={\"text\": \"obfuscate\"},\n",
        "                                                shift_days=True,\n",
        "                                                obfuscate_date=True, \n",
        "                                                ner_chunk=\"ner_chunk\",\n",
        "                                                token=\"token\",\n",
        "                                                documenthashcoder_col_name=\"document2\")"
      ]
    },
    {
      "cell_type": "code",
      "execution_count": null,
      "id": "32fe94b9-12fb-4a16-ba20-090a827e3c58",
      "metadata": {
        "id": "32fe94b9-12fb-4a16-ba20-090a827e3c58",
        "colab": {
          "base_uri": "https://localhost:8080/"
        },
        "outputId": "91b08cad-d66b-4390-814c-eb361b5133cd"
      },
      "outputs": [
        {
          "output_type": "stream",
          "name": "stdout",
          "text": [
            "+---+-------------------------------------------------------------------------------------------------------------------------------------------------+-----------------------------------------------------------------------------------------------------------------------------------------+\n",
            "|ID |text                                                                                                                                             |text_deidentified                                                                                                                        |\n",
            "+---+-------------------------------------------------------------------------------------------------------------------------------------------------+-----------------------------------------------------------------------------------------------------------------------------------------+\n",
            "|0  |EMPLOYMENT AGREEMENT, effective as of 01/06/2013                                                                                                 |EMPLOYMENT AGREEMENT, effective as of 01/16/2013                                                                                         |\n",
            "|1  |This First Amendment adopted, effective as of 21/08/2008                                                                                         |This First Amendment adopted, effective as of 19/08/2008                                                                                 |\n",
            "|2  |Amendment to the Employment Agreement between Service 1st Bank located in Stockton, California (Bank) and John E. Smith (Executive) by 06/01/2023|Amendment to the Employment Agreement between Service 1st Bank located in East Ryan, Georgia (Bank) and <PERSON> (<PERSON>) by 07/01/2023|\n",
            "+---+-------------------------------------------------------------------------------------------------------------------------------------------------+-----------------------------------------------------------------------------------------------------------------------------------------+\n",
            "\n"
          ]
        }
      ],
      "source": [
        "res.show(truncate=False)"
      ]
    },
    {
      "cell_type": "markdown",
      "id": "3df91aeb-681f-468e-ac67-67020093959e",
      "metadata": {
        "id": "3df91aeb-681f-468e-ac67-67020093959e"
      },
      "source": [
        "### unnormalized date formats"
      ]
    },
    {
      "cell_type": "code",
      "execution_count": null,
      "id": "12edc84b-f9e7-4bc9-b92f-b8785f84d012",
      "metadata": {
        "id": "12edc84b-f9e7-4bc9-b92f-b8785f84d012",
        "colab": {
          "base_uri": "https://localhost:8080/"
        },
        "outputId": "21d4fdcf-ded1-4b04-d3b4-dda07d898232"
      },
      "outputs": [
        {
          "output_type": "stream",
          "name": "stdout",
          "text": [
            "+--------+-------------------------------------------------------------------------------------------------------------------------------------------------+---------+\n",
            "|clientID|text                                                                                                                                             |dateshift|\n",
            "+--------+-------------------------------------------------------------------------------------------------------------------------------------------------+---------+\n",
            "|A001    |EMPLOYMENT AGREEMENT, effective as of Apr2013                                                                                                    |10       |\n",
            "|A001    |This First Amendment adopted, effective as of 21/08/2008                                                                                         |-2       |\n",
            "|A002    |Amendment to the Employment Agreement between Service 1st Bank located in Stockton, California (Bank) and John E. Smith (Executive) by 06/01/2023|30       |\n",
            "+--------+-------------------------------------------------------------------------------------------------------------------------------------------------+---------+\n",
            "\n"
          ]
        }
      ],
      "source": [
        "import pandas as pd\n",
        "\n",
        "data = pd.DataFrame(\n",
        "    {'clientID' : ['A001', 'A001', 'A002'],\n",
        "     'text' : ['EMPLOYMENT AGREEMENT, effective as of Apr2013', \n",
        "               'This First Amendment adopted, effective as of 21/08/2008', \n",
        "               'Amendment to the Employment Agreement between Service 1st Bank located in Stockton, California (Bank) and John E. Smith (Executive) by 06/01/2023'\n",
        "              ],\n",
        "     'dateshift' : ['10', '-2', '30']\n",
        "    }\n",
        ")\n",
        "\n",
        "\n",
        "my_input_df = spark.createDataFrame(data)\n",
        "\n",
        "my_input_df.show(truncate=False)"
      ]
    },
    {
      "cell_type": "code",
      "execution_count": null,
      "id": "a186c14e-ce61-4f7e-a09d-5f8a46eb41e7",
      "metadata": {
        "id": "a186c14e-ce61-4f7e-a09d-5f8a46eb41e7"
      },
      "outputs": [],
      "source": [
        "df_pd= my_input_df.toPandas()\n",
        "df_pd.to_csv(\"deid_unnormalized_data.csv\", index=False)"
      ]
    },
    {
      "cell_type": "code",
      "execution_count": null,
      "id": "f2ba23c4-5cf7-444b-b253-e2f8163b75e1",
      "metadata": {
        "scrolled": true,
        "tags": [],
        "id": "f2ba23c4-5cf7-444b-b253-e2f8163b75e1",
        "colab": {
          "base_uri": "https://localhost:8080/"
        },
        "outputId": "1cba5699-3375-44df-d4d7-3121a0ff528c"
      },
      "outputs": [
        {
          "output_type": "stream",
          "name": "stdout",
          "text": [
            "Deidentification process of the 'text' field has begun...\n",
            "Deidentification process of the 'text' field was completed...\n",
            "Deidentifcation successfully completed and the results saved as 'deidentified.csv' !\n"
          ]
        }
      ],
      "source": [
        "res= deid_implementor.deidentify(input_file_path=\"deid_unnormalized_data.csv\",\n",
        "                                                output_file_path=\"deidentified.csv\",\n",
        "                                                custom_pipeline=pipeline_col_model,\n",
        "                                                fields={\"text\": \"obfuscate\"},\n",
        "                                                shift_days=True,\n",
        "                                                obfuscate_date=True, \n",
        "                                                ner_chunk=\"ner_chunk\",\n",
        "                                                token=\"token\",\n",
        "                                                documenthashcoder_col_name=\"document2\",\n",
        "                                                separator=\",\",\n",
        "                                                unnormalized_date=True,\n",
        "                                                unnormalized_mode=\"mask\"\n",
        "                                                )"
      ]
    },
    {
      "cell_type": "code",
      "execution_count": null,
      "id": "2cda1462-9605-44f0-9d66-8efa761679b2",
      "metadata": {
        "id": "2cda1462-9605-44f0-9d66-8efa761679b2",
        "colab": {
          "base_uri": "https://localhost:8080/"
        },
        "outputId": "c2ba2fb5-83d9-4f23-d076-c58e68f721ff"
      },
      "outputs": [
        {
          "output_type": "stream",
          "name": "stdout",
          "text": [
            "+---+-------------------------------------------------------------------------------------------------------------------------------------------------+---------------------------------------------------------------------------------------------------------------------------------------------------------+\n",
            "|ID |text                                                                                                                                             |text_deidentified                                                                                                                                        |\n",
            "+---+-------------------------------------------------------------------------------------------------------------------------------------------------+---------------------------------------------------------------------------------------------------------------------------------------------------------+\n",
            "|0  |EMPLOYMENT AGREEMENT, effective as of Apr2013                                                                                                    |EMPLOYMENT AGREEMENT, effective as of <DATE>                                                                                                             |\n",
            "|1  |This First Amendment adopted, effective as of 21/08/2008                                                                                         |This First Amendment adopted, effective as of 19/08/2008                                                                                                 |\n",
            "|2  |Amendment to the Employment Agreement between Service 1st Bank located in Stockton, California (Bank) and John E. Smith (Executive) by 06/01/2023|Amendment to the Employment Agreement between Service 1st Bank located in Fornelos de Montes, North Carolina (Bank) and <PERSON> (<PERSON>) by 07/01/2023|\n",
            "+---+-------------------------------------------------------------------------------------------------------------------------------------------------+---------------------------------------------------------------------------------------------------------------------------------------------------------+\n",
            "\n"
          ]
        }
      ],
      "source": [
        "res.show(truncate=False)"
      ]
    },
    {
      "cell_type": "markdown",
      "id": "73a4ff14-b5eb-4e48-8659-4c0be03a2318",
      "metadata": {
        "id": "73a4ff14-b5eb-4e48-8659-4c0be03a2318"
      },
      "source": [
        "**unnormalized_mode=\"obfuscate\"**"
      ]
    },
    {
      "cell_type": "code",
      "execution_count": null,
      "id": "f79238e6-d0a6-4add-894f-4d1d75e6460f",
      "metadata": {
        "id": "f79238e6-d0a6-4add-894f-4d1d75e6460f",
        "colab": {
          "base_uri": "https://localhost:8080/"
        },
        "outputId": "37f91035-55b6-4fb9-e1fe-98563e3985ad"
      },
      "outputs": [
        {
          "output_type": "stream",
          "name": "stdout",
          "text": [
            "Deidentification process of the 'text' field has begun...\n",
            "Deidentification process of the 'text' field was completed...\n",
            "Deidentifcation successfully completed and the results saved as 'deidentified1.csv' !\n"
          ]
        }
      ],
      "source": [
        "res= deid_implementor.deidentify(input_file_path=\"deid_unnormalized_data.csv\",\n",
        "                                                output_file_path=\"deidentified1.csv\",\n",
        "                                                custom_pipeline=pipeline_col_model,\n",
        "                                                fields={\"text\": \"obfuscate\"},\n",
        "                                                shift_days=True,\n",
        "                                                obfuscate_date=True, \n",
        "                                                ner_chunk=\"ner_chunk\",\n",
        "                                                token=\"token\",\n",
        "                                                documenthashcoder_col_name=\"document2\",\n",
        "                                                separator=\",\",\n",
        "                                                unnormalized_date=True,\n",
        "                                                unnormalized_mode=\"obfuscate\"\n",
        "                                                )"
      ]
    },
    {
      "cell_type": "code",
      "execution_count": null,
      "id": "82fa23cd-85fc-4351-b116-40dcab242fe9",
      "metadata": {
        "id": "82fa23cd-85fc-4351-b116-40dcab242fe9",
        "colab": {
          "base_uri": "https://localhost:8080/"
        },
        "outputId": "65c9c167-8b97-4bac-e43e-4f650f1facb4"
      },
      "outputs": [
        {
          "output_type": "stream",
          "name": "stdout",
          "text": [
            "+---+-------------------------------------------------------------------------------------------------------------------------------------------------+-------------------------------------------------------------------------------------------------------------------------------------------+\n",
            "|ID |text                                                                                                                                             |text_deidentified                                                                                                                          |\n",
            "+---+-------------------------------------------------------------------------------------------------------------------------------------------------+-------------------------------------------------------------------------------------------------------------------------------------------+\n",
            "|0  |EMPLOYMENT AGREEMENT, effective as of Apr2013                                                                                                    |EMPLOYMENT AGREEMENT, effective as of 12-30-1988                                                                                           |\n",
            "|1  |This First Amendment adopted, effective as of 21/08/2008                                                                                         |This First Amendment adopted, effective as of 19/08/2008                                                                                   |\n",
            "|2  |Amendment to the Employment Agreement between Service 1st Bank located in Stockton, California (Bank) and John E. Smith (Executive) by 06/01/2023|Amendment to the Employment Agreement between Service 1st Bank located in Siglufjörður, Nevada (Bank) and <PERSON> (<PERSON>) by 07/01/2023|\n",
            "+---+-------------------------------------------------------------------------------------------------------------------------------------------------+-------------------------------------------------------------------------------------------------------------------------------------------+\n",
            "\n"
          ]
        }
      ],
      "source": [
        "res.show(truncate=False)"
      ]
    },
    {
      "cell_type": "markdown",
      "source": [
        "# Default pipeline for Legal domain\n",
        " This pipeline does not include the masking of DOCUMENT TYPE."
      ],
      "metadata": {
        "id": "yuU6fMFIEFN-"
      },
      "id": "yuU6fMFIEFN-"
    },
    {
      "cell_type": "code",
      "source": [
        "res= deid_implementor.deidentify(input_file_path=\"deid_data.csv\",\n",
        "                                 output_file_path=\"deidentified_custompipe.csv\",\n",
        "                                 domain=\"legal\")"
      ],
      "metadata": {
        "colab": {
          "base_uri": "https://localhost:8080/"
        },
        "id": "8lt-19EkEGbm",
        "outputId": "d7bf75bc-da96-4d38-b40d-e742b437fc2a"
      },
      "id": "8lt-19EkEGbm",
      "execution_count": null,
      "outputs": [
        {
          "output_type": "stream",
          "name": "stdout",
          "text": [
            "legpipe_deid download started this may take some time.\n",
            "Approx size to download 921.1 MB\n",
            "[OK!]\n",
            "Deidentification process of the 'text' field has begun...\n",
            "Deidentification process of the 'text' field was completed...\n",
            "Deidentifcation successfully completed and the results saved as 'deidentified_custompipe.csv' !\n"
          ]
        }
      ]
    },
    {
      "cell_type": "code",
      "source": [
        "res.show(truncate=False)"
      ],
      "metadata": {
        "colab": {
          "base_uri": "https://localhost:8080/"
        },
        "id": "Fy1AZenYlMLR",
        "outputId": "e815ba9b-7a07-4e62-9004-66e3483eff4c"
      },
      "id": "Fy1AZenYlMLR",
      "execution_count": null,
      "outputs": [
        {
          "output_type": "stream",
          "name": "stdout",
          "text": [
            "+---+---------------------------------------------------------------------------------------------------------------------------------------------------------------------------------------------------------------------------+------------------------------------------------------------------------------------------------------------------------------------------------------------------------------------------------------------+\n",
            "|ID |text                                                                                                                                                                                                                       |text_deidentified                                                                                                                                                                                           |\n",
            "+---+---------------------------------------------------------------------------------------------------------------------------------------------------------------------------------------------------------------------------+------------------------------------------------------------------------------------------------------------------------------------------------------------------------------------------------------------+\n",
            "|0  |EMPLOYMENT AGREEMENT,   effective  as  of  June  1,  2013  between  Synergy  Resources Corporation,  a Colorado corporation (the \"Company\"),  and John E. Smith (the \"Employee\").                                          |EMPLOYMENT AGREEMENT,   effective  as  of  <EFFDATE>  between  <PARTY>,  a Colorado corporation (the \"<ALIAS>\"),  and <PARTY> (the \"<ALIAS>\").                                                              |\n",
            "|0  |This First Amendment (Amendment) to the Employment Agreement between Service 1st Bank located in Stockton, California (Bank) and John E. Smith (Executive) is adopted, effective as of August 21, 2008, as set forth below.|This First Amendment (Amendment) to the Employment Agreement between <PARTY> Bank located in Stockton, California (<ALIAS>) and <PARTY> (<ALIAS>) is adopted, effective as of <EFFDATE>, as set forth below.|\n",
            "+---+---------------------------------------------------------------------------------------------------------------------------------------------------------------------------------------------------------------------------+------------------------------------------------------------------------------------------------------------------------------------------------------------------------------------------------------------+\n",
            "\n"
          ]
        }
      ]
    },
    {
      "cell_type": "markdown",
      "id": "aa5f5af0-ad93-4542-b86c-85128718a374",
      "metadata": {
        "id": "aa5f5af0-ad93-4542-b86c-85128718a374"
      },
      "source": [
        "# Structured Deidentification"
      ]
    },
    {
      "cell_type": "code",
      "source": [
        "from deidentification_utils import structured_deidentifier"
      ],
      "metadata": {
        "id": "sbtxmZfyl6Ih"
      },
      "id": "sbtxmZfyl6Ih",
      "execution_count": null,
      "outputs": []
    },
    {
      "cell_type": "code",
      "source": [
        "#sample data\n",
        "!wget -q https://raw.githubusercontent.com/JohnSnowLabs/spark-nlp-workshop/master/finance-nlp/data/hipaa-table-001.txt\n",
        "\n",
        "df = spark.read.format(\"csv\") \\\n",
        "    .option(\"sep\", \"\\t\") \\\n",
        "    .option(\"inferSchema\", \"true\") \\\n",
        "    .option(\"header\", \"true\") \\\n",
        "    .load(\"hipaa-table-001.txt\")\n",
        "\n",
        "df.show(truncate=False)"
      ],
      "metadata": {
        "id": "GBf31JxQFlQN",
        "colab": {
          "base_uri": "https://localhost:8080/"
        },
        "outputId": "94af82a4-ca55-4004-cdf9-1aa8715ca1ed"
      },
      "id": "GBf31JxQFlQN",
      "execution_count": null,
      "outputs": [
        {
          "output_type": "stream",
          "name": "stdout",
          "text": [
            "+---------------+----------+---+----------------------------------------------------+-------+--------------+---+---+\n",
            "|NAME           |DOB       |AGE|ADDRESS                                             |ZIPCODE|TEL           |SBP|DBP|\n",
            "+---------------+----------+---+----------------------------------------------------+-------+--------------+---+---+\n",
            "|Cecilia Chapman|04/02/1935|83 |711-2880 Nulla St. Mankato Mississippi              |69200  |(257) 563-7401|101|42 |\n",
            "|Iris Watson    |03/10/2009|9  |P.O. Box 283 8562 Fusce Rd. Frederick Nebraska      |20620  |(372) 587-2335|159|122|\n",
            "|Bryar Pitts    |11/01/1921|98 |5543 Aliquet St. Fort Dodge GA                      |20783  |(717) 450-4729|149|52 |\n",
            "|Theodore Lowe  |13/02/2002|16 |Ap #867-859 Sit Rd. Azusa New York                  |39531  |(793) 151-6230|134|115|\n",
            "|Calista Wise   |20/08/1942|76 |7292 Dictum Av. San Antonio MI                      |47096  |(492) 709-6392|139|78 |\n",
            "|Kyla Olsen     |12/05/1973|45 |Ap #651-8679 Sodales Av. Tamuning PA                |10855  |(654) 393-5734|120|112|\n",
            "|Forrest Ray    |11/01/1991|27 |191-103 Integer Rd. Corona New Mexico               |8219   |(404) 960-3807|143|126|\n",
            "|Hiroko Potter  |18/11/1937|81 |P.O. Box 887 2508 Dolor. Av. Muskegon KY            |12482  |(314) 244-6306|147|75 |\n",
            "|Celeste Slater |12/05/1980|38 |606-3727 Ullamcorper. Street Roseville NH           |11523  |(786) 713-8616|147|123|\n",
            "|Nyssa Vazquez  |24/09/1956|62 |511-5762 At Rd. Chelsea MI                          |67708  |(947) 278-5929|129|50 |\n",
            "|Lawrence Moreno|26/12/1906|112|935-9940 Tortor. Street Santa Rosa MN               |98804  |(684) 579-1879|133|102|\n",
            "|Ina Moran      |26/10/1983|35 |P.O. Box 929 4189 Nunc Road Lebanon KY              |69409  |(389) 737-2852|101|67 |\n",
            "|Aaron Hawkins  |26/09/2009|9  |5587 Nunc. Avenue Erie Rhode Island                 |24975  |(660) 663-4518|87 |81 |\n",
            "|Hedy Greene    |03/10/1920|98 |Ap #696-3279 Viverra. Avenue Latrobe DE             |38100  |(608) 265-2215|128|123|\n",
            "|Melvin Porter  |14/08/1911|107|P.O. Box 132 1599 Curabitur Rd. Bandera South Dakota|45149  |(959) 119-8364|83 |43 |\n",
            "|Keefe Sellers  |16/05/1937|81 |347-7666 Iaculis St. Woodruff SC                    |49854  |(468) 353-2641|148|109|\n",
            "|Joan Romero    |08/12/2004|14 |666-4366 Lacinia Avenue Idaho Falls Ohio            |19253  |(248) 675-4007|75 |53 |\n",
            "|Davis Patrick  |09/01/1956|63 |P.O. Box 147 2546 Sociosqu Rd. Bethlehem Utah       |2913   |(939) 353-1107|142|62 |\n",
            "|Leilani Boyer  |18/10/1934|84 |557-6308 Lacinia Road San Bernardino ND             |9289   |(570) 873-7090|137|48 |\n",
            "|Colby Bernard  |02/10/1905|113|Ap #285-7193 Ullamcorper Avenue Amesbury HI         |93373  |(302) 259-2375|84 |41 |\n",
            "+---------------+----------+---+----------------------------------------------------+-------+--------------+---+---+\n",
            "only showing top 20 rows\n",
            "\n"
          ]
        }
      ]
    },
    {
      "cell_type": "code",
      "source": [
        "df_pd= df.toPandas()\n",
        "df_pd.to_csv(\"deid_structured_data.csv\", index=False)"
      ],
      "metadata": {
        "id": "OKp92mbyFrCz"
      },
      "id": "OKp92mbyFrCz",
      "execution_count": null,
      "outputs": []
    },
    {
      "cell_type": "markdown",
      "id": "bfc841f6-4bc8-4a7c-9cf4-fc32f17afd67",
      "metadata": {
        "id": "bfc841f6-4bc8-4a7c-9cf4-fc32f17afd67"
      },
      "source": [
        "## Default parameters"
      ]
    },
    {
      "cell_type": "code",
      "execution_count": null,
      "id": "91dd6ea7-622d-45b6-aa7a-cb81febb6b3e",
      "metadata": {
        "id": "91dd6ea7-622d-45b6-aa7a-cb81febb6b3e",
        "colab": {
          "base_uri": "https://localhost:8080/"
        },
        "outputId": "38e63af2-3412-46c8-f94b-8cc617d858fe"
      },
      "outputs": [
        {
          "output_type": "stream",
          "name": "stdout",
          "text": [
            "Deidentifcation successfully completed and the results saved as 'deidentified.csv' !\n"
          ]
        }
      ],
      "source": [
        "res = structured_deidentifier(spark, input_file_path=\"deid_structured_data.csv\")"
      ]
    },
    {
      "cell_type": "code",
      "execution_count": null,
      "id": "2fb6a2d1-eec5-472a-bdff-5e08f31eb076",
      "metadata": {
        "id": "2fb6a2d1-eec5-472a-bdff-5e08f31eb076",
        "colab": {
          "base_uri": "https://localhost:8080/"
        },
        "outputId": "e9c07fdb-389e-40b2-baae-bd6823582831"
      },
      "outputs": [
        {
          "output_type": "stream",
          "name": "stdout",
          "text": [
            "+------------------+----------+-----+--------------------+-------+--------------+---+---+\n",
            "|              NAME|       DOB|  AGE|             ADDRESS|ZIPCODE|           TEL|SBP|DBP|\n",
            "+------------------+----------+-----+--------------------+-------+--------------+---+---+\n",
            "|   [Jade Pickerel]|04/02/1935| [82]|711-2880 Nulla St...|  69200|(257) 563-7401|101| 42|\n",
            "|   [Claressa Chol]|03/10/2009|  [8]|P.O. Box 283 8562...|  20620|(372) 587-2335|159|122|\n",
            "|    [Briscoe Rear]|11/01/1921| [82]|5543 Aliquet St. ...|  20783|(717) 450-4729|149| 52|\n",
            "|    [Trisha River]|13/02/2002| [13]|Ap #867-859 Sit R...|  39531|(793) 151-6230|134|115|\n",
            "|         [Al Gola]|20/08/1942| [74]|7292 Dictum Av. S...|  47096|(492) 709-6392|139| 78|\n",
            "|   [Milbert Gamma]|12/05/1973| [48]|Ap #651-8679 Soda...|  10855|(654) 393-5734|120|112|\n",
            "|   [Felice Dragon]|11/01/1991| [34]|191-103 Integer R...|   8219|(404) 960-3807|143|126|\n",
            "|   [Linnette Heys]|18/11/1937| [84]|P.O. Box 887 2508...|  12482|(314) 244-6306|147| 75|\n",
            "|    [Roger Fester]|12/05/1980| [32]|606-3727 Ullamcor...|  11523|(786) 713-8616|147|123|\n",
            "|   [Comer Rattler]|24/09/1956| [75]|511-5762 At Rd. C...|  67708|(947) 278-5929|129| 50|\n",
            "|       [Toy Lofty]|26/12/1906|[116]|935-9940 Tortor. ...|  98804|(684) 579-1879|133|102|\n",
            "|  [Rainell Gander]|26/10/1983| [28]|P.O. Box 929 4189...|  69409|(389) 737-2852|101| 67|\n",
            "|      [Sixto Beth]|26/09/2009|  [8]|5587 Nunc. Avenue...|  24975|(660) 663-4518| 87| 81|\n",
            "|     [Jesse Ghazi]|03/10/1920| [82]|Ap #696-3279 Vive...|  38100|(608) 265-2215|128|123|\n",
            "| [Lavaughn Horner]|14/08/1911|[106]|P.O. Box 132 1599...|  45149|(959) 119-8364| 83| 43|\n",
            "|[Cynthia Mustache]|16/05/1937| [84]|347-7666 Iaculis ...|  49854|(468) 353-2641|148|109|\n",
            "|    [Sharmon Holm]|08/12/2004| [18]|666-4366 Lacinia ...|  19253|(248) 675-4007| 75| 53|\n",
            "|      [Delene Sil]|09/01/1956| [76]|P.O. Box 147 2546...|   2913|(939) 353-1107|142| 62|\n",
            "|      [Jean Makua]|18/10/1934| [85]|557-6308 Lacinia ...|   9289|(570) 873-7090|137| 48|\n",
            "|         [Cris Gu]|02/10/1905|[109]|Ap #285-7193 Ulla...|  93373|(302) 259-2375| 84| 41|\n",
            "+------------------+----------+-----+--------------------+-------+--------------+---+---+\n",
            "only showing top 20 rows\n",
            "\n"
          ]
        }
      ],
      "source": [
        "res.show()"
      ]
    },
    {
      "cell_type": "markdown",
      "id": "aba6745f-a6e5-455a-a4b3-6cd334514242",
      "metadata": {
        "id": "aba6745f-a6e5-455a-a4b3-6cd334514242"
      },
      "source": [
        "## ref_source=File"
      ]
    },
    {
      "cell_type": "code",
      "source": [
        "obfuscator_unique_ref_test = '''Will Perry#NAME\n",
        "John Smith#NAME\n",
        "Marvin MARSHALL#NAME\n",
        "Hubert GROGAN#NAME\n",
        "ALTHEA COLBURN#NAME\n",
        "Kalil AMIN#NAME\n",
        "Inci FOUNTAIN#NAME\n",
        "Jackson WILLE#NAME\n",
        "Jack SANTOS#NAME\n",
        "Mahmood ALBURN#NAME\n",
        "Marnie MELINGTON#NAME\n",
        "Aysha GHAZI#NAME\n",
        "Maryland CODER#NAME\n",
        "Darene GEORGIOUS#NAME\n",
        "Shelly WELLBECK#NAME\n",
        "Min Kun JAE#NAME\n",
        "Thomson THOMAS#NAME\n",
        "Christian SUDDINBURG#NAME\n",
        "20#AGE\n",
        "30#AGE\n",
        "40#AGE\n",
        "50#AGE\n",
        "60#AGE\n",
        "(901)111-2222#TEL\n",
        "(109)333 1343#TEL\n",
        "(570) 874-1112#TEL\n",
        "(901)111-2222#TEL\n",
        "(109)333 1343#TEL\n",
        "(570) 874-1112#TEL\n",
        "28450#ZIPCODE\n",
        "49144#ZIPCODE\n",
        "14412#ZIPCODE\n",
        "10/10/1983#DOB\n",
        "04/06/1990#DOB\n",
        "03/11/2001#DOB\n",
        "'''\n",
        "\n",
        "with open('obfuscator_unique_ref_test.txt', 'w') as f:\n",
        "  f.write(obfuscator_unique_ref_test)"
      ],
      "metadata": {
        "id": "nq4Ow6jvGEHB"
      },
      "id": "nq4Ow6jvGEHB",
      "execution_count": null,
      "outputs": []
    },
    {
      "cell_type": "code",
      "execution_count": null,
      "id": "0c365708-8870-47c8-87e1-50bd72e3741e",
      "metadata": {
        "id": "0c365708-8870-47c8-87e1-50bd72e3741e",
        "colab": {
          "base_uri": "https://localhost:8080/"
        },
        "outputId": "742120f5-c250-4193-a630-385026868173"
      },
      "outputs": [
        {
          "output_type": "stream",
          "name": "stdout",
          "text": [
            "Deidentifcation successfully completed and the results saved as 'deidentified.csv' !\n"
          ]
        }
      ],
      "source": [
        "res= structured_deidentifier(spark, input_file_path= \"deid_structured_data.csv\",\n",
        "                                              ref_source=\"file\", \n",
        "                                              columns_seed={\"NAME\": 23, \"AGE\": 23}, \n",
        "                                              obfuscateRefFile=\"obfuscator_unique_ref_test.txt\")"
      ]
    },
    {
      "cell_type": "code",
      "execution_count": null,
      "id": "03f4fc62-d513-42ab-8d41-22bf59136040",
      "metadata": {
        "id": "03f4fc62-d513-42ab-8d41-22bf59136040",
        "colab": {
          "base_uri": "https://localhost:8080/"
        },
        "outputId": "8793add3-a6be-434a-e115-eca9512cc6d2"
      },
      "outputs": [
        {
          "output_type": "stream",
          "name": "stdout",
          "text": [
            "+------------------+----------+----+--------------------+-------+--------------+---+---+\n",
            "|              NAME|       DOB| AGE|             ADDRESS|ZIPCODE|           TEL|SBP|DBP|\n",
            "+------------------+----------+----+--------------------+-------+--------------+---+---+\n",
            "|   [Inci FOUNTAIN]|04/02/1935|[60]|711-2880 Nulla St...|  69200|(257) 563-7401|101| 42|\n",
            "|     [Jack SANTOS]|03/10/2009|[30]|P.O. Box 283 8562...|  20620|(372) 587-2335|159|122|\n",
            "|[Darene GEORGIOUS]|11/01/1921|[30]|5543 Aliquet St. ...|  20783|(717) 450-4729|149| 52|\n",
            "| [Shelly WELLBECK]|13/02/2002|[40]|Ap #867-859 Sit R...|  39531|(793) 151-6230|134|115|\n",
            "|   [Hubert GROGAN]|20/08/1942|[40]|7292 Dictum Av. S...|  47096|(492) 709-6392|139| 78|\n",
            "|      [Kalil AMIN]|12/05/1973|[40]|Ap #651-8679 Soda...|  10855|(654) 393-5734|120|112|\n",
            "|  [ALTHEA COLBURN]|11/01/1991|[60]|191-103 Integer R...|   8219|(404) 960-3807|143|126|\n",
            "|  [Thomson THOMAS]|18/11/1937|[60]|P.O. Box 887 2508...|  12482|(314) 244-6306|147| 75|\n",
            "|     [Jack SANTOS]|12/05/1980|[60]|606-3727 Ullamcor...|  11523|(786) 713-8616|147|123|\n",
            "|      [Will Perry]|24/09/1956|[20]|511-5762 At Rd. C...|  67708|(947) 278-5929|129| 50|\n",
            "|   [Jackson WILLE]|26/12/1906|[60]|935-9940 Tortor. ...|  98804|(684) 579-1879|133|102|\n",
            "| [Shelly WELLBECK]|26/10/1983|[40]|P.O. Box 929 4189...|  69409|(389) 737-2852|101| 67|\n",
            "|      [Kalil AMIN]|26/09/2009|[30]|5587 Nunc. Avenue...|  24975|(660) 663-4518| 87| 81|\n",
            "|[Marnie MELINGTON]|03/10/1920|[30]|Ap #696-3279 Vive...|  38100|(608) 265-2215|128|123|\n",
            "|     [Min Kun JAE]|14/08/1911|[30]|P.O. Box 132 1599...|  45149|(959) 119-8364| 83| 43|\n",
            "| [Marvin MARSHALL]|16/05/1937|[60]|347-7666 Iaculis ...|  49854|(468) 353-2641|148|109|\n",
            "| [Marvin MARSHALL]|08/12/2004|[50]|666-4366 Lacinia ...|  19253|(248) 675-4007| 75| 53|\n",
            "|     [Min Kun JAE]|09/01/1956|[30]|P.O. Box 147 2546...|   2913|(939) 353-1107|142| 62|\n",
            "|  [Maryland CODER]|18/10/1934|[20]|557-6308 Lacinia ...|   9289|(570) 873-7090|137| 48|\n",
            "|[Marnie MELINGTON]|02/10/1905|[20]|Ap #285-7193 Ulla...|  93373|(302) 259-2375| 84| 41|\n",
            "+------------------+----------+----+--------------------+-------+--------------+---+---+\n",
            "only showing top 20 rows\n",
            "\n"
          ]
        }
      ],
      "source": [
        "res.show()"
      ]
    },
    {
      "cell_type": "markdown",
      "id": "48155ef4-fe14-4372-8d2b-9cda5086acc2",
      "metadata": {
        "id": "48155ef4-fe14-4372-8d2b-9cda5086acc2"
      },
      "source": [
        "## shift days"
      ]
    },
    {
      "cell_type": "code",
      "execution_count": null,
      "id": "01cef8d9-982f-41f3-91a6-2808942b267d",
      "metadata": {
        "id": "01cef8d9-982f-41f3-91a6-2808942b267d",
        "colab": {
          "base_uri": "https://localhost:8080/",
          "height": 143
        },
        "outputId": "fb98909d-f60c-45e9-8c1e-25d70c462f28"
      },
      "outputs": [
        {
          "output_type": "execute_result",
          "data": {
            "text/plain": [
              "            NAME         DOB                  ADDRESS  SBP               TEL\n",
              "0    Juan García  13/02/1977            711 Nulla St.  140        673 431234\n",
              "1     Will Smith  23/02/1977          1 Green Avenue.  140  +23 (673) 431234\n",
              "2  Pedro Ximénez  11/04/1900  Calle del Libertador, 7  100        912 345623"
            ],
            "text/html": [
              "\n",
              "  <div id=\"df-fda6a1ec-c255-4cef-a351-82e49b754af6\">\n",
              "    <div class=\"colab-df-container\">\n",
              "      <div>\n",
              "<style scoped>\n",
              "    .dataframe tbody tr th:only-of-type {\n",
              "        vertical-align: middle;\n",
              "    }\n",
              "\n",
              "    .dataframe tbody tr th {\n",
              "        vertical-align: top;\n",
              "    }\n",
              "\n",
              "    .dataframe thead th {\n",
              "        text-align: right;\n",
              "    }\n",
              "</style>\n",
              "<table border=\"1\" class=\"dataframe\">\n",
              "  <thead>\n",
              "    <tr style=\"text-align: right;\">\n",
              "      <th></th>\n",
              "      <th>NAME</th>\n",
              "      <th>DOB</th>\n",
              "      <th>ADDRESS</th>\n",
              "      <th>SBP</th>\n",
              "      <th>TEL</th>\n",
              "    </tr>\n",
              "  </thead>\n",
              "  <tbody>\n",
              "    <tr>\n",
              "      <th>0</th>\n",
              "      <td>Juan García</td>\n",
              "      <td>13/02/1977</td>\n",
              "      <td>711 Nulla St.</td>\n",
              "      <td>140</td>\n",
              "      <td>673 431234</td>\n",
              "    </tr>\n",
              "    <tr>\n",
              "      <th>1</th>\n",
              "      <td>Will Smith</td>\n",
              "      <td>23/02/1977</td>\n",
              "      <td>1 Green Avenue.</td>\n",
              "      <td>140</td>\n",
              "      <td>+23 (673) 431234</td>\n",
              "    </tr>\n",
              "    <tr>\n",
              "      <th>2</th>\n",
              "      <td>Pedro Ximénez</td>\n",
              "      <td>11/04/1900</td>\n",
              "      <td>Calle del Libertador, 7</td>\n",
              "      <td>100</td>\n",
              "      <td>912 345623</td>\n",
              "    </tr>\n",
              "  </tbody>\n",
              "</table>\n",
              "</div>\n",
              "      <button class=\"colab-df-convert\" onclick=\"convertToInteractive('df-fda6a1ec-c255-4cef-a351-82e49b754af6')\"\n",
              "              title=\"Convert this dataframe to an interactive table.\"\n",
              "              style=\"display:none;\">\n",
              "        \n",
              "  <svg xmlns=\"http://www.w3.org/2000/svg\" height=\"24px\"viewBox=\"0 0 24 24\"\n",
              "       width=\"24px\">\n",
              "    <path d=\"M0 0h24v24H0V0z\" fill=\"none\"/>\n",
              "    <path d=\"M18.56 5.44l.94 2.06.94-2.06 2.06-.94-2.06-.94-.94-2.06-.94 2.06-2.06.94zm-11 1L8.5 8.5l.94-2.06 2.06-.94-2.06-.94L8.5 2.5l-.94 2.06-2.06.94zm10 10l.94 2.06.94-2.06 2.06-.94-2.06-.94-.94-2.06-.94 2.06-2.06.94z\"/><path d=\"M17.41 7.96l-1.37-1.37c-.4-.4-.92-.59-1.43-.59-.52 0-1.04.2-1.43.59L10.3 9.45l-7.72 7.72c-.78.78-.78 2.05 0 2.83L4 21.41c.39.39.9.59 1.41.59.51 0 1.02-.2 1.41-.59l7.78-7.78 2.81-2.81c.8-.78.8-2.07 0-2.86zM5.41 20L4 18.59l7.72-7.72 1.47 1.35L5.41 20z\"/>\n",
              "  </svg>\n",
              "      </button>\n",
              "      \n",
              "  <style>\n",
              "    .colab-df-container {\n",
              "      display:flex;\n",
              "      flex-wrap:wrap;\n",
              "      gap: 12px;\n",
              "    }\n",
              "\n",
              "    .colab-df-convert {\n",
              "      background-color: #E8F0FE;\n",
              "      border: none;\n",
              "      border-radius: 50%;\n",
              "      cursor: pointer;\n",
              "      display: none;\n",
              "      fill: #1967D2;\n",
              "      height: 32px;\n",
              "      padding: 0 0 0 0;\n",
              "      width: 32px;\n",
              "    }\n",
              "\n",
              "    .colab-df-convert:hover {\n",
              "      background-color: #E2EBFA;\n",
              "      box-shadow: 0px 1px 2px rgba(60, 64, 67, 0.3), 0px 1px 3px 1px rgba(60, 64, 67, 0.15);\n",
              "      fill: #174EA6;\n",
              "    }\n",
              "\n",
              "    [theme=dark] .colab-df-convert {\n",
              "      background-color: #3B4455;\n",
              "      fill: #D2E3FC;\n",
              "    }\n",
              "\n",
              "    [theme=dark] .colab-df-convert:hover {\n",
              "      background-color: #434B5C;\n",
              "      box-shadow: 0px 1px 3px 1px rgba(0, 0, 0, 0.15);\n",
              "      filter: drop-shadow(0px 1px 2px rgba(0, 0, 0, 0.3));\n",
              "      fill: #FFFFFF;\n",
              "    }\n",
              "  </style>\n",
              "\n",
              "      <script>\n",
              "        const buttonEl =\n",
              "          document.querySelector('#df-fda6a1ec-c255-4cef-a351-82e49b754af6 button.colab-df-convert');\n",
              "        buttonEl.style.display =\n",
              "          google.colab.kernel.accessAllowed ? 'block' : 'none';\n",
              "\n",
              "        async function convertToInteractive(key) {\n",
              "          const element = document.querySelector('#df-fda6a1ec-c255-4cef-a351-82e49b754af6');\n",
              "          const dataTable =\n",
              "            await google.colab.kernel.invokeFunction('convertToInteractive',\n",
              "                                                     [key], {});\n",
              "          if (!dataTable) return;\n",
              "\n",
              "          const docLinkHtml = 'Like what you see? Visit the ' +\n",
              "            '<a target=\"_blank\" href=https://colab.research.google.com/notebooks/data_table.ipynb>data table notebook</a>'\n",
              "            + ' to learn more about interactive tables.';\n",
              "          element.innerHTML = '';\n",
              "          dataTable['output_type'] = 'display_data';\n",
              "          await google.colab.output.renderOutput(dataTable, element);\n",
              "          const docLink = document.createElement('div');\n",
              "          docLink.innerHTML = docLinkHtml;\n",
              "          element.appendChild(docLink);\n",
              "        }\n",
              "      </script>\n",
              "    </div>\n",
              "  </div>\n",
              "  "
            ]
          },
          "metadata": {},
          "execution_count": 152
        }
      ],
      "source": [
        "# We can shift n days in the structured deidentification through \"days\" parameter when the column is a Date.\n",
        "\n",
        "df = spark.createDataFrame([\n",
        "            [\"Juan García\", \"13/02/1977\", \"711 Nulla St.\", \"140\", \"673 431234\"],\n",
        "            [\"Will Smith\", \"23/02/1977\", \"1 Green Avenue.\", \"140\", \"+23 (673) 431234\"],\n",
        "            [\"Pedro Ximénez\", \"11/04/1900\", \"Calle del Libertador, 7\", \"100\", \"912 345623\"]\n",
        "        ]).toDF(\"NAME\", \"DOB\", \"ADDRESS\", \"SBP\", \"TEL\")\n",
        "\n",
        "df_pd= df.toPandas()\n",
        "df_pd.to_csv(\"deid_dayshift_structured_data.csv\", index=False)\n",
        "df_pd.head()"
      ]
    },
    {
      "cell_type": "code",
      "execution_count": null,
      "id": "c4789c7e-410a-47c7-963b-b142ad4f69e6",
      "metadata": {
        "id": "c4789c7e-410a-47c7-963b-b142ad4f69e6",
        "colab": {
          "base_uri": "https://localhost:8080/"
        },
        "outputId": "61d262a4-6a09-48db-9e9a-dd9ed84cff5f"
      },
      "outputs": [
        {
          "output_type": "stream",
          "name": "stdout",
          "text": [
            "Deidentifcation successfully completed and the results saved as 'deidentified.csv' !\n"
          ]
        }
      ],
      "source": [
        "res= structured_deidentifier(spark, input_file_path= \"deid_dayshift_structured_data.csv\",\n",
        "                                              columns_dict= {\"NAME\": \"ID\", \"DOB\": \"DATE\"},\n",
        "                                              columns_seed= {\"NAME\": 23, \"DOB\": 23},\n",
        "                                              ref_source=\"faker\",\n",
        "                                              shift_days= 5\n",
        "                                             )"
      ]
    },
    {
      "cell_type": "code",
      "execution_count": null,
      "id": "db013741-9710-415f-b1ef-b6870ed814cd",
      "metadata": {
        "id": "db013741-9710-415f-b1ef-b6870ed814cd",
        "colab": {
          "base_uri": "https://localhost:8080/"
        },
        "outputId": "c634cd63-06fd-4832-db3f-fa88344ec4fd"
      },
      "outputs": [
        {
          "output_type": "stream",
          "name": "stdout",
          "text": [
            "+----------+------------+--------------------+---+----------------+\n",
            "|      NAME|         DOB|             ADDRESS|SBP|             TEL|\n",
            "+----------+------------+--------------------+---+----------------+\n",
            "|[N2649912]|[18/02/1977]|       711 Nulla St.|140|      673 431234|\n",
            "| [W466004]|[28/02/1977]|     1 Green Avenue.|140|+23 (673) 431234|\n",
            "| [M403810]|[16/04/1900]|Calle del Liberta...|100|      912 345623|\n",
            "+----------+------------+--------------------+---+----------------+\n",
            "\n"
          ]
        }
      ],
      "source": [
        "res.show()"
      ]
    }
  ],
  "metadata": {
    "kernelspec": {
      "display_name": "aet-base-work-python3",
      "language": "python",
      "name": "aet-base-work"
    },
    "language_info": {
      "codemirror_mode": {
        "name": "ipython",
        "version": 3
      },
      "file_extension": ".py",
      "mimetype": "text/x-python",
      "name": "python",
      "nbconvert_exporter": "python",
      "pygments_lexer": "ipython3",
      "version": "3.8.13"
    },
    "toc-autonumbering": true,
    "colab": {
      "provenance": []
    }
  },
  "nbformat": 4,
  "nbformat_minor": 5
}
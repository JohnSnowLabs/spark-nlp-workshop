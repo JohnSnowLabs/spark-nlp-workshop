{
  "cells": [
    {
      "cell_type": "markdown",
      "id": "db5f4f9a-7776-42b3-8758-85624d4c15ea",
      "metadata": {
        "id": "db5f4f9a-7776-42b3-8758-85624d4c15ea"
      },
      "source": [
        "![JohnSnowLabs](https://nlp.johnsnowlabs.com/assets/images/logo.png)"
      ]
    },
    {
      "cell_type": "markdown",
      "id": "21e9eafb",
      "metadata": {
        "id": "21e9eafb"
      },
      "source": [
        "[![Open In Colab](https://colab.research.google.com/assets/colab-badge.svg)](https://colab.research.google.com/github/JohnSnowLabs/spark-nlp-workshop/blob/master/legal-nlp/80.2.Legal_Contract_Understanding_NDA.ipynb)"
      ]
    },
    {
      "cell_type": "markdown",
      "id": "gk3kZHmNj51v",
      "metadata": {
        "collapsed": false,
        "id": "gk3kZHmNj51v"
      },
      "source": [
        "# 🎬 Installation"
      ]
    },
    {
      "cell_type": "code",
      "execution_count": null,
      "id": "_914itZsj51v",
      "metadata": {
        "id": "_914itZsj51v",
        "pycharm": {
          "is_executing": true
        }
      },
      "outputs": [],
      "source": [
        "! pip install -q johnsnowlabs"
      ]
    },
    {
      "cell_type": "markdown",
      "id": "YPsbAnNoPt0Z",
      "metadata": {
        "id": "YPsbAnNoPt0Z"
      },
      "source": [
        "## 🔗 Automatic Installation\n"
      ]
    },
    {
      "cell_type": "code",
      "execution_count": null,
      "id": "fY0lcShkj51w",
      "metadata": {
        "id": "fY0lcShkj51w",
        "pycharm": {
          "is_executing": true
        }
      },
      "outputs": [],
      "source": [
        "from johnsnowlabs import nlp, finance, legal\n",
        "\n",
        "nlp.install(refresh_install=True, visual=True, force_browser = True)"
      ]
    },
    {
      "cell_type": "markdown",
      "id": "hsJvn_WWM2GL",
      "metadata": {
        "id": "hsJvn_WWM2GL"
      },
      "source": [
        "## 🔗 Manual downloading\n",
        "If you are not registered in my.johnsnowlabs.com, you received a license via e-email or you are using Safari, you may need to do a manual update of the license.\n",
        "\n",
        "- Go to my.johnsnowlabs.com\n",
        "- Download your license\n",
        "- Upload it using the following command"
      ]
    },
    {
      "cell_type": "code",
      "execution_count": null,
      "id": "i57QV3-_P2sQ",
      "metadata": {
        "id": "i57QV3-_P2sQ"
      },
      "outputs": [],
      "source": [
        "from google.colab import files\n",
        "print('Please Upload your John Snow Labs License using the button below')\n",
        "license_keys = files.upload()"
      ]
    },
    {
      "cell_type": "markdown",
      "id": "xGgNdFzZP_hQ",
      "metadata": {
        "id": "xGgNdFzZP_hQ"
      },
      "source": [
        "- Install it"
      ]
    },
    {
      "cell_type": "code",
      "execution_count": null,
      "id": "OfmmPqknP4rR",
      "metadata": {
        "id": "OfmmPqknP4rR"
      },
      "outputs": [],
      "source": [
        "nlp.install(force_browser=True)"
      ]
    },
    {
      "cell_type": "markdown",
      "id": "DCl5ErZkNNLk",
      "metadata": {
        "id": "DCl5ErZkNNLk"
      },
      "source": [
        "# 📌 Starting"
      ]
    },
    {
      "cell_type": "code",
      "execution_count": null,
      "id": "wRXTnNl3j51w",
      "metadata": {
        "id": "wRXTnNl3j51w"
      },
      "outputs": [],
      "source": [
        "spark = nlp.start()"
      ]
    },
    {
      "cell_type": "markdown",
      "id": "FmR3AkNEMjEO",
      "metadata": {
        "id": "FmR3AkNEMjEO"
      },
      "source": [
        "## 🔎 **Legal Contract Understanding NDA**\n",
        "\n",
        "\n",
        "✍Explanation:\n",
        "\n",
        " A Non-Disclosure Agreement (NDA) is a legal contract designed to protect confidential information shared between parties involved in a business or professional relationship. The purpose of an NDA is to establish a legal obligation that restricts the receiving party from disclosing or using the confidential information for any purpose other than what is defined in the agreement.\n",
        "\n",
        " The `legclf_nda_agreements` model focuses specifically on analyzing Non-Disclosure Agreements (NDAs). NDAs are legal contracts designed to protect confidential information shared between parties. A specific Legal NLP model for NDAs is trained on a potentially large corpus of NDA documents to understand the specific clauses, terms and language commonly used in these agreements.\n",
        "\n",
        "- The `legclf_nda_agreements` model is a Bert Sentence Embeddings Document Classifier used to classify if the document belongs to the class nda or not (Binary Classification).\n",
        "\n",
        "\n"
      ]
    },
    {
      "cell_type": "markdown",
      "source": [
        "### Get sample text"
      ],
      "metadata": {
        "id": "vquFT4Rn7Qz1"
      },
      "id": "vquFT4Rn7Qz1"
    },
    {
      "cell_type": "code",
      "source": [
        "!wget https://raw.githubusercontent.com/JohnSnowLabs/spark-nlp-workshop/master/legal-nlp/data/non_disclosure_agreement.txt"
      ],
      "metadata": {
        "id": "xCg74OyMdNGi"
      },
      "id": "xCg74OyMdNGi",
      "execution_count": null,
      "outputs": []
    },
    {
      "cell_type": "code",
      "source": [
        "with open('non_disclosure_agreement.txt', 'r') as f:\n",
        "  text = f.read()\n",
        "  text = text[170:3384]\n",
        "  print(text)"
      ],
      "metadata": {
        "id": "YE5J6qr7gZiS",
        "outputId": "423fca06-20d9-4818-e720-d052fba0a326",
        "colab": {
          "base_uri": "https://localhost:8080/"
        }
      },
      "id": "YE5J6qr7gZiS",
      "execution_count": 5,
      "outputs": [
        {
          "output_type": "stream",
          "name": "stdout",
          "text": [
            "                        Non-Disclosure Agreement\n",
            "\n",
            "This Agreement is made between CELERITY SYSTEMS, INC., (\"CELERITY\") and UNISYS\n",
            "Corporation - Federal Systems Division. (\"UNISYS\") and concerns the handling,\n",
            "safeguarding and exchange of sensitive, proprietary or confidential information\n",
            "(collectively \"Proprietary Information\"). It is agreed and understood that any\n",
            "exchange of such Proprietary Information is expressly for the sole purpose of\n",
            "CELERITY and UNISYS evaluating a possible business arrangement involving an\n",
            "existing UNISYS contract with a federal government agency.\n",
            "\n",
            "1.   For the purposes hereof, Proprietary Information shall be any documents,\n",
            "     materials or information that (i) is in tangible form and clearly marked as\n",
            "     being proprietary, confidential or sensitive and (ii) is received by one\n",
            "     party to this Agreement (\"Recipient\") from the other party to this\n",
            "     Agreement (\"Transmitter\").\n",
            "\n",
            "2.   The Recipient agrees to safeguard, protect and handle all Proprietary\n",
            "     Information made available under this Agreement with the same degree of\n",
            "     care and procedures as Recipient applies to its own confidential or\n",
            "     proprietary information. Without the written consent of the Transmitter,\n",
            "     the Recipient of Proprietary Information agrees (i) not to disclose,\n",
            "     disseminate, reproduce or otherwise distribute such information and\n",
            "     materials to any third party, except a governmental judicial authority's\n",
            "     issued order and (ii) not to use such information for any other purposes\n",
            "     beyond that expressly set forth in this Agreement.\n",
            "\n",
            "3.   All Proprietary Information disclosed under this Agreement shall remain the\n",
            "     property of the Transmitter. It is agreed that the Recipient does not\n",
            "     obtain any title or license rights to the Proprietary Information furnished\n",
            "     under this Agreement.\n",
            "\n",
            "4.   All Proprietary Information exchanged under this Agreement shall be\n",
            "     returned or destroyed in accordance with written instructions upon the\n",
            "     earlier of a written request from the Transmitter or termination of this\n",
            "     Agreement. Either party may terminate this Agreement, at any time, by\n",
            "     providing written notice to the receiving party. Termination of this\n",
            "     Agreement shall not be construed as relieving the Recipient of its\n",
            "     obligations to safeguard, protect and dispose of the Proprietary\n",
            "     Information as set forth in this Agreement.\n",
            "\n",
            "5.   The Recipient's obligations to protect, safeguard and handle Proprietary\n",
            "     Information received hereunder shall not be binding if such Proprietary\n",
            "     Information (i) is in the public domain through no fault of the Recipient,\n",
            "     (ii) is known to the Recipient prior to disclosure hereunder, (iii) is\n",
            "     lawfully disclosed to Recipient by a third party. The Recipient's\n",
            "     obligations shall survive until the Proprietary Information has been\n",
            "     returned, destroyed in accordance with written instructions or covered by a\n",
            "     subsequent agreement between CELERITY and UNISYS for the contemplated\n",
            "     services.\n",
            "\n",
            "This represents the entire agreement of the parties relative to the subject\n",
            "matter and shall be governed and construed under the laws of the Commonwealth of\n",
            "Virginia.\n",
            "\n",
            "\n"
          ]
        }
      ]
    },
    {
      "cell_type": "code",
      "execution_count": null,
      "id": "YfObKaqZY4kC",
      "metadata": {
        "id": "YfObKaqZY4kC"
      },
      "outputs": [],
      "source": [
        "document_assembler = nlp.DocumentAssembler()\\\n",
        "    .setInputCol(\"text\")\\\n",
        "    .setOutputCol(\"document\")\n",
        "  \n",
        "embeddings = nlp.BertSentenceEmbeddings.pretrained(\"sent_bert_base_cased\", \"en\")\\\n",
        "    .setInputCols(\"document\")\\\n",
        "    .setOutputCol(\"sentence_embeddings\")\n",
        "    \n",
        "doc_classifier = legal.ClassifierDLModel.pretrained(\"legclf_nda_agreements\", \"en\", \"legal/models\")\\\n",
        "    .setInputCols([\"sentence_embeddings\"])\\\n",
        "    .setOutputCol(\"category\")\n",
        "    \n",
        "nlpPipeline = nlp.Pipeline(stages=[\n",
        "    document_assembler, \n",
        "    embeddings,\n",
        "    doc_classifier])\n",
        "\n",
        "df = spark.createDataFrame([[text]]).toDF(\"text\")\n",
        "\n",
        "model = nlpPipeline.fit(df)\n",
        "result = model.transform(df)"
      ]
    },
    {
      "cell_type": "code",
      "source": [
        "result.select(\"category.result\").show(truncate=False)"
      ],
      "metadata": {
        "id": "APKMsYqeRKgd",
        "outputId": "064da061-a06e-434f-f5b1-375cc755bfb9",
        "colab": {
          "base_uri": "https://localhost:8080/"
        }
      },
      "id": "APKMsYqeRKgd",
      "execution_count": 8,
      "outputs": [
        {
          "output_type": "stream",
          "name": "stdout",
          "text": [
            "+------+\n",
            "|result|\n",
            "+------+\n",
            "|[nda] |\n",
            "+------+\n",
            "\n"
          ]
        }
      ]
    },
    {
      "cell_type": "markdown",
      "source": [
        "## 🔎 **Multilabel Classification of NDA Clauses (paragraph, medium)**\n",
        "\n",
        "✍Explanation:\n",
        "\n",
        "This models is a version of `legmulticlf_mnda_sections_other` (sentence, medium) but expecting a bigger-than-sentence context, ideally between 2 and 4-5 sentences, or a small paragraph, to provide with more context.\n",
        "\n",
        "It should be run on sentences of the NDA clauses, and will retrieve a series of 1..N labels for each of them. The possible clause types detected my this model in NDA / MNDA aggrements are:\n",
        "\n",
        "- Parties to the Agreement - Names of the Parties Clause\n",
        "- Identification of What Information Is Confidential - Definition of Confidential Information Clause\n",
        "- Use of Confidential Information: Permitted Use Clause and Obligations of the Recipient\n",
        "- Time Frame of the Agreement - Termination Clause\n",
        "- Return of Confidential Information Clause\n",
        "- Remedies for Breaches of Agreement - Remedies Clause\n",
        "- Non-Solicitation Clause\n",
        "- Dispute Resolution Clause\n",
        "- Exceptions Clause\n",
        "- Non-competition clause\n",
        "- Other: Nothing of the above (synonym to [])\n",
        "\n",
        "📚 Predicted Entities\n",
        "`APPLIC_LAW`, `ASSIGNMENT`, `DEF_OF_CONF_INFO`,`DISPUTE_RESOL`, `EXCEPTIONS`, `NAMES_OF_PARTIES`, `NON_COMP`, `NON_SOLIC`, `PREAMBLE`, `REMEDIES`, `REQ_DISCL`, `RETURN_OF_CONF_INFO`, `TERMINATION`, `USE_OF_CONF_INFO`, `OTHER`"
      ],
      "metadata": {
        "id": "MacM9W359Rbf"
      },
      "id": "MacM9W359Rbf"
    },
    {
      "cell_type": "code",
      "execution_count": null,
      "id": "UsjsWeSzKrjv",
      "metadata": {
        "id": "UsjsWeSzKrjv"
      },
      "outputs": [],
      "source": [
        "document_assembler = nlp.DocumentAssembler() \\\n",
        "    .setInputCol(\"text\") \\\n",
        "    .setOutputCol(\"document\")\n",
        "\n",
        "text_splitter = legal.TextSplitter() \\\n",
        "    .setInputCols([\"document\"]) \\\n",
        "    .setOutputCol(\"sentences\") \\\n",
        "    .setExplodeSentences(True)\n",
        "\n",
        "embeddings = nlp.UniversalSentenceEncoder.pretrained()\\\n",
        "    .setInputCols(\"document\")\\\n",
        "    .setOutputCol(\"sentence_embeddings\")\n",
        "\n",
        "paragraph_classifier = nlp.MultiClassifierDLModel.pretrained(\"legmulticlf_mnda_sections_paragraph_other\", \"en\", \"legal/models\")\\\n",
        "    .setInputCols([\"sentence_embeddings\"])\\\n",
        "    .setOutputCol(\"class\")\n",
        "\n",
        "\n",
        "sentence_pipeline = nlp.Pipeline(stages=[document_assembler, \n",
        "                                         text_splitter, \n",
        "                                         embeddings, \n",
        "                                         paragraph_classifier])\n",
        "\n",
        "prediction_pipeline = nlp.Pipeline(stages=[document_assembler, \n",
        "                                           embeddings, \n",
        "                                           paragraph_classifier])\n",
        "\n",
        "df = spark.createDataFrame([[text]]).toDF(\"text\")\n",
        "\n",
        "sentence_model = sentence_pipeline.fit(df)\n",
        "prediction_model = prediction_pipeline.fit(df)\n",
        "\n",
        "sentence_lp = nlp.LightPipeline(sentence_model)\n",
        "prediction_lp = nlp.LightPipeline(prediction_model)"
      ]
    },
    {
      "cell_type": "code",
      "source": [
        "import pandas as pd\n",
        "\n",
        "# Create an empty dataframe to store the texts\n",
        "# class_texts_df = pd.DataFrame(columns=['Class', 'Text'])\n",
        "class_texts_df = []\n",
        "\n",
        "res = sentence_lp.fullAnnotate(text)\n",
        "sentences = [x.result for x in res[0]['sentences']]\n",
        "\n",
        "for i, s in enumerate(sentences):\n",
        "    prev_sentence = \"\" if i == 0 else sentences[i-1]\n",
        "    next_sentence = \"\" if i >= len(sentences)-1 else sentences[i+1]\n",
        "    chunk = \" \".join([prev_sentence, s, next_sentence]).strip()\n",
        "    annotation = prediction_lp.annotate(chunk)\n",
        "    predicted_class = annotation['class']\n",
        "    class_texts_df.append((s, predicted_class))\n",
        "\n",
        "\n",
        "    \n",
        "    # Append the text to the dataframe for the predicted class\n",
        "class_texts_df = pd.DataFrame(class_texts_df, columns=['text', 'class'])"
      ],
      "metadata": {
        "id": "ECO71Zf_ITqy"
      },
      "id": "ECO71Zf_ITqy",
      "execution_count": 10,
      "outputs": []
    },
    {
      "cell_type": "code",
      "source": [
        "class_texts_df[\"text\"][0]"
      ],
      "metadata": {
        "colab": {
          "base_uri": "https://localhost:8080/",
          "height": 36
        },
        "id": "L4Lv1w28I1oU",
        "outputId": "18e1717b-d6e9-46c6-eaae-65a52d5a5672"
      },
      "id": "L4Lv1w28I1oU",
      "execution_count": 12,
      "outputs": [
        {
          "output_type": "execute_result",
          "data": {
            "text/plain": [
              "'Non-Disclosure Agreement\\n\\nThis Agreement is made between CELERITY SYSTEMS, INC., (\"CELERITY\") and UNISYS\\nCorporation - Federal Systems Division.'"
            ],
            "application/vnd.google.colaboratory.intrinsic+json": {
              "type": "string"
            }
          },
          "metadata": {},
          "execution_count": 12
        }
      ]
    },
    {
      "cell_type": "code",
      "source": [
        "class_texts_df = class_texts_df.explode('class').reset_index(drop=True)"
      ],
      "metadata": {
        "id": "LK0fqCzZoDwV"
      },
      "id": "LK0fqCzZoDwV",
      "execution_count": 13,
      "outputs": []
    },
    {
      "cell_type": "code",
      "source": [
        "class_texts_df"
      ],
      "metadata": {
        "colab": {
          "base_uri": "https://localhost:8080/",
          "height": 739
        },
        "id": "gLtckH3LLPBP",
        "outputId": "9774335b-26f5-48c2-b77a-9d096bb6a6f5"
      },
      "id": "gLtckH3LLPBP",
      "execution_count": 14,
      "outputs": [
        {
          "output_type": "execute_result",
          "data": {
            "text/plain": [
              "                                                 text                class\n",
              "0   Non-Disclosure Agreement\\n\\nThis Agreement is ...     NAMES_OF_PARTIES\n",
              "1   (\"UNISYS\") and concerns the handling,\\nsafegua...     NAMES_OF_PARTIES\n",
              "2   It is agreed and understood that any\\nexchange...     DEF_OF_CONF_INFO\n",
              "3   1.   For the purposes hereof, Proprietary Info...     DEF_OF_CONF_INFO\n",
              "4   (i) is in tangible form and clearly marked as\\...                  NaN\n",
              "5   (ii) is received by one\\n     party to this Ag...                  NaN\n",
              "6   2.   The Recipient agrees to safeguard, protec...                  NaN\n",
              "7   Without the written consent of the Transmitter...  RETURN_OF_CONF_INFO\n",
              "8   (i) not to disclose,\\n     disseminate, reprod...     USE_OF_CONF_INFO\n",
              "9   (i) not to disclose,\\n     disseminate, reprod...  RETURN_OF_CONF_INFO\n",
              "10  (ii) not to use such information for any other...                  NaN\n",
              "11  3.   All Proprietary Information disclosed und...                  NaN\n",
              "12  It is agreed that the Recipient does not\\n    ...                  NaN\n",
              "13  4.   All Proprietary Information exchanged und...                  NaN\n",
              "14  Either party may terminate this Agreement, at ...                  NaN\n",
              "15  Termination of this\\n     Agreement shall not ...                  NaN\n",
              "16  5.   The Recipient's obligations to protect, s...                  NaN\n",
              "17  (i) is in the public domain through no fault o...                  NaN\n",
              "18  (ii) is known to the Recipient prior to disclo...           EXCEPTIONS\n",
              "19  (iii) is\\n     lawfully disclosed to Recipient...  RETURN_OF_CONF_INFO\n",
              "20  The Recipient's\\n     obligations shall surviv...                  NaN\n",
              "21  This represents the entire agreement of the pa...           ASSIGNMENT"
            ],
            "text/html": [
              "\n",
              "  <div id=\"df-a7e597aa-9a0a-41eb-99c4-581ea6c06d25\">\n",
              "    <div class=\"colab-df-container\">\n",
              "      <div>\n",
              "<style scoped>\n",
              "    .dataframe tbody tr th:only-of-type {\n",
              "        vertical-align: middle;\n",
              "    }\n",
              "\n",
              "    .dataframe tbody tr th {\n",
              "        vertical-align: top;\n",
              "    }\n",
              "\n",
              "    .dataframe thead th {\n",
              "        text-align: right;\n",
              "    }\n",
              "</style>\n",
              "<table border=\"1\" class=\"dataframe\">\n",
              "  <thead>\n",
              "    <tr style=\"text-align: right;\">\n",
              "      <th></th>\n",
              "      <th>text</th>\n",
              "      <th>class</th>\n",
              "    </tr>\n",
              "  </thead>\n",
              "  <tbody>\n",
              "    <tr>\n",
              "      <th>0</th>\n",
              "      <td>Non-Disclosure Agreement\\n\\nThis Agreement is ...</td>\n",
              "      <td>NAMES_OF_PARTIES</td>\n",
              "    </tr>\n",
              "    <tr>\n",
              "      <th>1</th>\n",
              "      <td>(\"UNISYS\") and concerns the handling,\\nsafegua...</td>\n",
              "      <td>NAMES_OF_PARTIES</td>\n",
              "    </tr>\n",
              "    <tr>\n",
              "      <th>2</th>\n",
              "      <td>It is agreed and understood that any\\nexchange...</td>\n",
              "      <td>DEF_OF_CONF_INFO</td>\n",
              "    </tr>\n",
              "    <tr>\n",
              "      <th>3</th>\n",
              "      <td>1.   For the purposes hereof, Proprietary Info...</td>\n",
              "      <td>DEF_OF_CONF_INFO</td>\n",
              "    </tr>\n",
              "    <tr>\n",
              "      <th>4</th>\n",
              "      <td>(i) is in tangible form and clearly marked as\\...</td>\n",
              "      <td>NaN</td>\n",
              "    </tr>\n",
              "    <tr>\n",
              "      <th>5</th>\n",
              "      <td>(ii) is received by one\\n     party to this Ag...</td>\n",
              "      <td>NaN</td>\n",
              "    </tr>\n",
              "    <tr>\n",
              "      <th>6</th>\n",
              "      <td>2.   The Recipient agrees to safeguard, protec...</td>\n",
              "      <td>NaN</td>\n",
              "    </tr>\n",
              "    <tr>\n",
              "      <th>7</th>\n",
              "      <td>Without the written consent of the Transmitter...</td>\n",
              "      <td>RETURN_OF_CONF_INFO</td>\n",
              "    </tr>\n",
              "    <tr>\n",
              "      <th>8</th>\n",
              "      <td>(i) not to disclose,\\n     disseminate, reprod...</td>\n",
              "      <td>USE_OF_CONF_INFO</td>\n",
              "    </tr>\n",
              "    <tr>\n",
              "      <th>9</th>\n",
              "      <td>(i) not to disclose,\\n     disseminate, reprod...</td>\n",
              "      <td>RETURN_OF_CONF_INFO</td>\n",
              "    </tr>\n",
              "    <tr>\n",
              "      <th>10</th>\n",
              "      <td>(ii) not to use such information for any other...</td>\n",
              "      <td>NaN</td>\n",
              "    </tr>\n",
              "    <tr>\n",
              "      <th>11</th>\n",
              "      <td>3.   All Proprietary Information disclosed und...</td>\n",
              "      <td>NaN</td>\n",
              "    </tr>\n",
              "    <tr>\n",
              "      <th>12</th>\n",
              "      <td>It is agreed that the Recipient does not\\n    ...</td>\n",
              "      <td>NaN</td>\n",
              "    </tr>\n",
              "    <tr>\n",
              "      <th>13</th>\n",
              "      <td>4.   All Proprietary Information exchanged und...</td>\n",
              "      <td>NaN</td>\n",
              "    </tr>\n",
              "    <tr>\n",
              "      <th>14</th>\n",
              "      <td>Either party may terminate this Agreement, at ...</td>\n",
              "      <td>NaN</td>\n",
              "    </tr>\n",
              "    <tr>\n",
              "      <th>15</th>\n",
              "      <td>Termination of this\\n     Agreement shall not ...</td>\n",
              "      <td>NaN</td>\n",
              "    </tr>\n",
              "    <tr>\n",
              "      <th>16</th>\n",
              "      <td>5.   The Recipient's obligations to protect, s...</td>\n",
              "      <td>NaN</td>\n",
              "    </tr>\n",
              "    <tr>\n",
              "      <th>17</th>\n",
              "      <td>(i) is in the public domain through no fault o...</td>\n",
              "      <td>NaN</td>\n",
              "    </tr>\n",
              "    <tr>\n",
              "      <th>18</th>\n",
              "      <td>(ii) is known to the Recipient prior to disclo...</td>\n",
              "      <td>EXCEPTIONS</td>\n",
              "    </tr>\n",
              "    <tr>\n",
              "      <th>19</th>\n",
              "      <td>(iii) is\\n     lawfully disclosed to Recipient...</td>\n",
              "      <td>RETURN_OF_CONF_INFO</td>\n",
              "    </tr>\n",
              "    <tr>\n",
              "      <th>20</th>\n",
              "      <td>The Recipient's\\n     obligations shall surviv...</td>\n",
              "      <td>NaN</td>\n",
              "    </tr>\n",
              "    <tr>\n",
              "      <th>21</th>\n",
              "      <td>This represents the entire agreement of the pa...</td>\n",
              "      <td>ASSIGNMENT</td>\n",
              "    </tr>\n",
              "  </tbody>\n",
              "</table>\n",
              "</div>\n",
              "      <button class=\"colab-df-convert\" onclick=\"convertToInteractive('df-a7e597aa-9a0a-41eb-99c4-581ea6c06d25')\"\n",
              "              title=\"Convert this dataframe to an interactive table.\"\n",
              "              style=\"display:none;\">\n",
              "        \n",
              "  <svg xmlns=\"http://www.w3.org/2000/svg\" height=\"24px\"viewBox=\"0 0 24 24\"\n",
              "       width=\"24px\">\n",
              "    <path d=\"M0 0h24v24H0V0z\" fill=\"none\"/>\n",
              "    <path d=\"M18.56 5.44l.94 2.06.94-2.06 2.06-.94-2.06-.94-.94-2.06-.94 2.06-2.06.94zm-11 1L8.5 8.5l.94-2.06 2.06-.94-2.06-.94L8.5 2.5l-.94 2.06-2.06.94zm10 10l.94 2.06.94-2.06 2.06-.94-2.06-.94-.94-2.06-.94 2.06-2.06.94z\"/><path d=\"M17.41 7.96l-1.37-1.37c-.4-.4-.92-.59-1.43-.59-.52 0-1.04.2-1.43.59L10.3 9.45l-7.72 7.72c-.78.78-.78 2.05 0 2.83L4 21.41c.39.39.9.59 1.41.59.51 0 1.02-.2 1.41-.59l7.78-7.78 2.81-2.81c.8-.78.8-2.07 0-2.86zM5.41 20L4 18.59l7.72-7.72 1.47 1.35L5.41 20z\"/>\n",
              "  </svg>\n",
              "      </button>\n",
              "      \n",
              "  <style>\n",
              "    .colab-df-container {\n",
              "      display:flex;\n",
              "      flex-wrap:wrap;\n",
              "      gap: 12px;\n",
              "    }\n",
              "\n",
              "    .colab-df-convert {\n",
              "      background-color: #E8F0FE;\n",
              "      border: none;\n",
              "      border-radius: 50%;\n",
              "      cursor: pointer;\n",
              "      display: none;\n",
              "      fill: #1967D2;\n",
              "      height: 32px;\n",
              "      padding: 0 0 0 0;\n",
              "      width: 32px;\n",
              "    }\n",
              "\n",
              "    .colab-df-convert:hover {\n",
              "      background-color: #E2EBFA;\n",
              "      box-shadow: 0px 1px 2px rgba(60, 64, 67, 0.3), 0px 1px 3px 1px rgba(60, 64, 67, 0.15);\n",
              "      fill: #174EA6;\n",
              "    }\n",
              "\n",
              "    [theme=dark] .colab-df-convert {\n",
              "      background-color: #3B4455;\n",
              "      fill: #D2E3FC;\n",
              "    }\n",
              "\n",
              "    [theme=dark] .colab-df-convert:hover {\n",
              "      background-color: #434B5C;\n",
              "      box-shadow: 0px 1px 3px 1px rgba(0, 0, 0, 0.15);\n",
              "      filter: drop-shadow(0px 1px 2px rgba(0, 0, 0, 0.3));\n",
              "      fill: #FFFFFF;\n",
              "    }\n",
              "  </style>\n",
              "\n",
              "      <script>\n",
              "        const buttonEl =\n",
              "          document.querySelector('#df-a7e597aa-9a0a-41eb-99c4-581ea6c06d25 button.colab-df-convert');\n",
              "        buttonEl.style.display =\n",
              "          google.colab.kernel.accessAllowed ? 'block' : 'none';\n",
              "\n",
              "        async function convertToInteractive(key) {\n",
              "          const element = document.querySelector('#df-a7e597aa-9a0a-41eb-99c4-581ea6c06d25');\n",
              "          const dataTable =\n",
              "            await google.colab.kernel.invokeFunction('convertToInteractive',\n",
              "                                                     [key], {});\n",
              "          if (!dataTable) return;\n",
              "\n",
              "          const docLinkHtml = 'Like what you see? Visit the ' +\n",
              "            '<a target=\"_blank\" href=https://colab.research.google.com/notebooks/data_table.ipynb>data table notebook</a>'\n",
              "            + ' to learn more about interactive tables.';\n",
              "          element.innerHTML = '';\n",
              "          dataTable['output_type'] = 'display_data';\n",
              "          await google.colab.output.renderOutput(dataTable, element);\n",
              "          const docLink = document.createElement('div');\n",
              "          docLink.innerHTML = docLinkHtml;\n",
              "          element.appendChild(docLink);\n",
              "        }\n",
              "      </script>\n",
              "    </div>\n",
              "  </div>\n",
              "  "
            ]
          },
          "metadata": {},
          "execution_count": 14
        }
      ]
    },
    {
      "cell_type": "code",
      "source": [
        "# Filter out rows with empty square brackets\n",
        "class_texts_df = class_texts_df.dropna(subset=['class'])\n",
        "\n",
        "# Print the filtered DataFrame\n",
        "class_texts_df"
      ],
      "metadata": {
        "colab": {
          "base_uri": "https://localhost:8080/",
          "height": 363
        },
        "id": "8tc3xy-oM8Fo",
        "outputId": "7b2d9f2f-4d80-4f2e-8638-6102f0ed3a60"
      },
      "id": "8tc3xy-oM8Fo",
      "execution_count": 15,
      "outputs": [
        {
          "output_type": "execute_result",
          "data": {
            "text/plain": [
              "                                                 text                class\n",
              "0   Non-Disclosure Agreement\\n\\nThis Agreement is ...     NAMES_OF_PARTIES\n",
              "1   (\"UNISYS\") and concerns the handling,\\nsafegua...     NAMES_OF_PARTIES\n",
              "2   It is agreed and understood that any\\nexchange...     DEF_OF_CONF_INFO\n",
              "3   1.   For the purposes hereof, Proprietary Info...     DEF_OF_CONF_INFO\n",
              "7   Without the written consent of the Transmitter...  RETURN_OF_CONF_INFO\n",
              "8   (i) not to disclose,\\n     disseminate, reprod...     USE_OF_CONF_INFO\n",
              "9   (i) not to disclose,\\n     disseminate, reprod...  RETURN_OF_CONF_INFO\n",
              "18  (ii) is known to the Recipient prior to disclo...           EXCEPTIONS\n",
              "19  (iii) is\\n     lawfully disclosed to Recipient...  RETURN_OF_CONF_INFO\n",
              "21  This represents the entire agreement of the pa...           ASSIGNMENT"
            ],
            "text/html": [
              "\n",
              "  <div id=\"df-2c961610-02e9-4c3f-8729-8f9e68843031\">\n",
              "    <div class=\"colab-df-container\">\n",
              "      <div>\n",
              "<style scoped>\n",
              "    .dataframe tbody tr th:only-of-type {\n",
              "        vertical-align: middle;\n",
              "    }\n",
              "\n",
              "    .dataframe tbody tr th {\n",
              "        vertical-align: top;\n",
              "    }\n",
              "\n",
              "    .dataframe thead th {\n",
              "        text-align: right;\n",
              "    }\n",
              "</style>\n",
              "<table border=\"1\" class=\"dataframe\">\n",
              "  <thead>\n",
              "    <tr style=\"text-align: right;\">\n",
              "      <th></th>\n",
              "      <th>text</th>\n",
              "      <th>class</th>\n",
              "    </tr>\n",
              "  </thead>\n",
              "  <tbody>\n",
              "    <tr>\n",
              "      <th>0</th>\n",
              "      <td>Non-Disclosure Agreement\\n\\nThis Agreement is ...</td>\n",
              "      <td>NAMES_OF_PARTIES</td>\n",
              "    </tr>\n",
              "    <tr>\n",
              "      <th>1</th>\n",
              "      <td>(\"UNISYS\") and concerns the handling,\\nsafegua...</td>\n",
              "      <td>NAMES_OF_PARTIES</td>\n",
              "    </tr>\n",
              "    <tr>\n",
              "      <th>2</th>\n",
              "      <td>It is agreed and understood that any\\nexchange...</td>\n",
              "      <td>DEF_OF_CONF_INFO</td>\n",
              "    </tr>\n",
              "    <tr>\n",
              "      <th>3</th>\n",
              "      <td>1.   For the purposes hereof, Proprietary Info...</td>\n",
              "      <td>DEF_OF_CONF_INFO</td>\n",
              "    </tr>\n",
              "    <tr>\n",
              "      <th>7</th>\n",
              "      <td>Without the written consent of the Transmitter...</td>\n",
              "      <td>RETURN_OF_CONF_INFO</td>\n",
              "    </tr>\n",
              "    <tr>\n",
              "      <th>8</th>\n",
              "      <td>(i) not to disclose,\\n     disseminate, reprod...</td>\n",
              "      <td>USE_OF_CONF_INFO</td>\n",
              "    </tr>\n",
              "    <tr>\n",
              "      <th>9</th>\n",
              "      <td>(i) not to disclose,\\n     disseminate, reprod...</td>\n",
              "      <td>RETURN_OF_CONF_INFO</td>\n",
              "    </tr>\n",
              "    <tr>\n",
              "      <th>18</th>\n",
              "      <td>(ii) is known to the Recipient prior to disclo...</td>\n",
              "      <td>EXCEPTIONS</td>\n",
              "    </tr>\n",
              "    <tr>\n",
              "      <th>19</th>\n",
              "      <td>(iii) is\\n     lawfully disclosed to Recipient...</td>\n",
              "      <td>RETURN_OF_CONF_INFO</td>\n",
              "    </tr>\n",
              "    <tr>\n",
              "      <th>21</th>\n",
              "      <td>This represents the entire agreement of the pa...</td>\n",
              "      <td>ASSIGNMENT</td>\n",
              "    </tr>\n",
              "  </tbody>\n",
              "</table>\n",
              "</div>\n",
              "      <button class=\"colab-df-convert\" onclick=\"convertToInteractive('df-2c961610-02e9-4c3f-8729-8f9e68843031')\"\n",
              "              title=\"Convert this dataframe to an interactive table.\"\n",
              "              style=\"display:none;\">\n",
              "        \n",
              "  <svg xmlns=\"http://www.w3.org/2000/svg\" height=\"24px\"viewBox=\"0 0 24 24\"\n",
              "       width=\"24px\">\n",
              "    <path d=\"M0 0h24v24H0V0z\" fill=\"none\"/>\n",
              "    <path d=\"M18.56 5.44l.94 2.06.94-2.06 2.06-.94-2.06-.94-.94-2.06-.94 2.06-2.06.94zm-11 1L8.5 8.5l.94-2.06 2.06-.94-2.06-.94L8.5 2.5l-.94 2.06-2.06.94zm10 10l.94 2.06.94-2.06 2.06-.94-2.06-.94-.94-2.06-.94 2.06-2.06.94z\"/><path d=\"M17.41 7.96l-1.37-1.37c-.4-.4-.92-.59-1.43-.59-.52 0-1.04.2-1.43.59L10.3 9.45l-7.72 7.72c-.78.78-.78 2.05 0 2.83L4 21.41c.39.39.9.59 1.41.59.51 0 1.02-.2 1.41-.59l7.78-7.78 2.81-2.81c.8-.78.8-2.07 0-2.86zM5.41 20L4 18.59l7.72-7.72 1.47 1.35L5.41 20z\"/>\n",
              "  </svg>\n",
              "      </button>\n",
              "      \n",
              "  <style>\n",
              "    .colab-df-container {\n",
              "      display:flex;\n",
              "      flex-wrap:wrap;\n",
              "      gap: 12px;\n",
              "    }\n",
              "\n",
              "    .colab-df-convert {\n",
              "      background-color: #E8F0FE;\n",
              "      border: none;\n",
              "      border-radius: 50%;\n",
              "      cursor: pointer;\n",
              "      display: none;\n",
              "      fill: #1967D2;\n",
              "      height: 32px;\n",
              "      padding: 0 0 0 0;\n",
              "      width: 32px;\n",
              "    }\n",
              "\n",
              "    .colab-df-convert:hover {\n",
              "      background-color: #E2EBFA;\n",
              "      box-shadow: 0px 1px 2px rgba(60, 64, 67, 0.3), 0px 1px 3px 1px rgba(60, 64, 67, 0.15);\n",
              "      fill: #174EA6;\n",
              "    }\n",
              "\n",
              "    [theme=dark] .colab-df-convert {\n",
              "      background-color: #3B4455;\n",
              "      fill: #D2E3FC;\n",
              "    }\n",
              "\n",
              "    [theme=dark] .colab-df-convert:hover {\n",
              "      background-color: #434B5C;\n",
              "      box-shadow: 0px 1px 3px 1px rgba(0, 0, 0, 0.15);\n",
              "      filter: drop-shadow(0px 1px 2px rgba(0, 0, 0, 0.3));\n",
              "      fill: #FFFFFF;\n",
              "    }\n",
              "  </style>\n",
              "\n",
              "      <script>\n",
              "        const buttonEl =\n",
              "          document.querySelector('#df-2c961610-02e9-4c3f-8729-8f9e68843031 button.colab-df-convert');\n",
              "        buttonEl.style.display =\n",
              "          google.colab.kernel.accessAllowed ? 'block' : 'none';\n",
              "\n",
              "        async function convertToInteractive(key) {\n",
              "          const element = document.querySelector('#df-2c961610-02e9-4c3f-8729-8f9e68843031');\n",
              "          const dataTable =\n",
              "            await google.colab.kernel.invokeFunction('convertToInteractive',\n",
              "                                                     [key], {});\n",
              "          if (!dataTable) return;\n",
              "\n",
              "          const docLinkHtml = 'Like what you see? Visit the ' +\n",
              "            '<a target=\"_blank\" href=https://colab.research.google.com/notebooks/data_table.ipynb>data table notebook</a>'\n",
              "            + ' to learn more about interactive tables.';\n",
              "          element.innerHTML = '';\n",
              "          dataTable['output_type'] = 'display_data';\n",
              "          await google.colab.output.renderOutput(dataTable, element);\n",
              "          const docLink = document.createElement('div');\n",
              "          docLink.innerHTML = docLinkHtml;\n",
              "          element.appendChild(docLink);\n",
              "        }\n",
              "      </script>\n",
              "    </div>\n",
              "  </div>\n",
              "  "
            ]
          },
          "metadata": {},
          "execution_count": 15
        }
      ]
    },
    {
      "cell_type": "markdown",
      "source": [
        "## 📌 **`NAMES_OF_PARTIES` CLAUSE-SPECIFIC NER**"
      ],
      "metadata": {
        "id": "01CEZubV-V-6"
      },
      "id": "01CEZubV-V-6"
    },
    {
      "cell_type": "markdown",
      "source": [
        "### Creating a dataframe with the texts of the `NAMES_OF_PARTIES` class"
      ],
      "metadata": {
        "id": "W0X8dVwvFc-d"
      },
      "id": "W0X8dVwvFc-d"
    },
    {
      "cell_type": "code",
      "source": [
        "names_of_the_parties_df = class_texts_df[class_texts_df['class']=='NAMES_OF_PARTIES']\n",
        "names_of_the_parties_df"
      ],
      "metadata": {
        "id": "A_GfEEFEl6IZ",
        "colab": {
          "base_uri": "https://localhost:8080/",
          "height": 112
        },
        "outputId": "ca9a1528-1930-4141-b51a-1ebdd921e534"
      },
      "id": "A_GfEEFEl6IZ",
      "execution_count": 16,
      "outputs": [
        {
          "output_type": "execute_result",
          "data": {
            "text/plain": [
              "                                                text             class\n",
              "0  Non-Disclosure Agreement\\n\\nThis Agreement is ...  NAMES_OF_PARTIES\n",
              "1  (\"UNISYS\") and concerns the handling,\\nsafegua...  NAMES_OF_PARTIES"
            ],
            "text/html": [
              "\n",
              "  <div id=\"df-f1fb2125-4026-419e-8f65-32e99a8da8c5\">\n",
              "    <div class=\"colab-df-container\">\n",
              "      <div>\n",
              "<style scoped>\n",
              "    .dataframe tbody tr th:only-of-type {\n",
              "        vertical-align: middle;\n",
              "    }\n",
              "\n",
              "    .dataframe tbody tr th {\n",
              "        vertical-align: top;\n",
              "    }\n",
              "\n",
              "    .dataframe thead th {\n",
              "        text-align: right;\n",
              "    }\n",
              "</style>\n",
              "<table border=\"1\" class=\"dataframe\">\n",
              "  <thead>\n",
              "    <tr style=\"text-align: right;\">\n",
              "      <th></th>\n",
              "      <th>text</th>\n",
              "      <th>class</th>\n",
              "    </tr>\n",
              "  </thead>\n",
              "  <tbody>\n",
              "    <tr>\n",
              "      <th>0</th>\n",
              "      <td>Non-Disclosure Agreement\\n\\nThis Agreement is ...</td>\n",
              "      <td>NAMES_OF_PARTIES</td>\n",
              "    </tr>\n",
              "    <tr>\n",
              "      <th>1</th>\n",
              "      <td>(\"UNISYS\") and concerns the handling,\\nsafegua...</td>\n",
              "      <td>NAMES_OF_PARTIES</td>\n",
              "    </tr>\n",
              "  </tbody>\n",
              "</table>\n",
              "</div>\n",
              "      <button class=\"colab-df-convert\" onclick=\"convertToInteractive('df-f1fb2125-4026-419e-8f65-32e99a8da8c5')\"\n",
              "              title=\"Convert this dataframe to an interactive table.\"\n",
              "              style=\"display:none;\">\n",
              "        \n",
              "  <svg xmlns=\"http://www.w3.org/2000/svg\" height=\"24px\"viewBox=\"0 0 24 24\"\n",
              "       width=\"24px\">\n",
              "    <path d=\"M0 0h24v24H0V0z\" fill=\"none\"/>\n",
              "    <path d=\"M18.56 5.44l.94 2.06.94-2.06 2.06-.94-2.06-.94-.94-2.06-.94 2.06-2.06.94zm-11 1L8.5 8.5l.94-2.06 2.06-.94-2.06-.94L8.5 2.5l-.94 2.06-2.06.94zm10 10l.94 2.06.94-2.06 2.06-.94-2.06-.94-.94-2.06-.94 2.06-2.06.94z\"/><path d=\"M17.41 7.96l-1.37-1.37c-.4-.4-.92-.59-1.43-.59-.52 0-1.04.2-1.43.59L10.3 9.45l-7.72 7.72c-.78.78-.78 2.05 0 2.83L4 21.41c.39.39.9.59 1.41.59.51 0 1.02-.2 1.41-.59l7.78-7.78 2.81-2.81c.8-.78.8-2.07 0-2.86zM5.41 20L4 18.59l7.72-7.72 1.47 1.35L5.41 20z\"/>\n",
              "  </svg>\n",
              "      </button>\n",
              "      \n",
              "  <style>\n",
              "    .colab-df-container {\n",
              "      display:flex;\n",
              "      flex-wrap:wrap;\n",
              "      gap: 12px;\n",
              "    }\n",
              "\n",
              "    .colab-df-convert {\n",
              "      background-color: #E8F0FE;\n",
              "      border: none;\n",
              "      border-radius: 50%;\n",
              "      cursor: pointer;\n",
              "      display: none;\n",
              "      fill: #1967D2;\n",
              "      height: 32px;\n",
              "      padding: 0 0 0 0;\n",
              "      width: 32px;\n",
              "    }\n",
              "\n",
              "    .colab-df-convert:hover {\n",
              "      background-color: #E2EBFA;\n",
              "      box-shadow: 0px 1px 2px rgba(60, 64, 67, 0.3), 0px 1px 3px 1px rgba(60, 64, 67, 0.15);\n",
              "      fill: #174EA6;\n",
              "    }\n",
              "\n",
              "    [theme=dark] .colab-df-convert {\n",
              "      background-color: #3B4455;\n",
              "      fill: #D2E3FC;\n",
              "    }\n",
              "\n",
              "    [theme=dark] .colab-df-convert:hover {\n",
              "      background-color: #434B5C;\n",
              "      box-shadow: 0px 1px 3px 1px rgba(0, 0, 0, 0.15);\n",
              "      filter: drop-shadow(0px 1px 2px rgba(0, 0, 0, 0.3));\n",
              "      fill: #FFFFFF;\n",
              "    }\n",
              "  </style>\n",
              "\n",
              "      <script>\n",
              "        const buttonEl =\n",
              "          document.querySelector('#df-f1fb2125-4026-419e-8f65-32e99a8da8c5 button.colab-df-convert');\n",
              "        buttonEl.style.display =\n",
              "          google.colab.kernel.accessAllowed ? 'block' : 'none';\n",
              "\n",
              "        async function convertToInteractive(key) {\n",
              "          const element = document.querySelector('#df-f1fb2125-4026-419e-8f65-32e99a8da8c5');\n",
              "          const dataTable =\n",
              "            await google.colab.kernel.invokeFunction('convertToInteractive',\n",
              "                                                     [key], {});\n",
              "          if (!dataTable) return;\n",
              "\n",
              "          const docLinkHtml = 'Like what you see? Visit the ' +\n",
              "            '<a target=\"_blank\" href=https://colab.research.google.com/notebooks/data_table.ipynb>data table notebook</a>'\n",
              "            + ' to learn more about interactive tables.';\n",
              "          element.innerHTML = '';\n",
              "          dataTable['output_type'] = 'display_data';\n",
              "          await google.colab.output.renderOutput(dataTable, element);\n",
              "          const docLink = document.createElement('div');\n",
              "          docLink.innerHTML = docLinkHtml;\n",
              "          element.appendChild(docLink);\n",
              "        }\n",
              "      </script>\n",
              "    </div>\n",
              "  </div>\n",
              "  "
            ]
          },
          "metadata": {},
          "execution_count": 16
        }
      ]
    },
    {
      "cell_type": "code",
      "source": [
        "names_of_the_parties_df[\"text\"][0]"
      ],
      "metadata": {
        "colab": {
          "base_uri": "https://localhost:8080/",
          "height": 36
        },
        "id": "lpfIjzBf2urt",
        "outputId": "d4cd1152-6cc0-42a6-bed3-040723504e7f"
      },
      "id": "lpfIjzBf2urt",
      "execution_count": 17,
      "outputs": [
        {
          "output_type": "execute_result",
          "data": {
            "text/plain": [
              "'Non-Disclosure Agreement\\n\\nThis Agreement is made between CELERITY SYSTEMS, INC., (\"CELERITY\") and UNISYS\\nCorporation - Federal Systems Division.'"
            ],
            "application/vnd.google.colaboratory.intrinsic+json": {
              "type": "string"
            }
          },
          "metadata": {},
          "execution_count": 17
        }
      ]
    },
    {
      "cell_type": "code",
      "source": [
        "document_assembler = nlp.DocumentAssembler()\\\n",
        "        .setInputCol(\"text\")\\\n",
        "        .setOutputCol(\"document\")\n",
        "        \n",
        "sentence_detector = legal.TextSplitter() \\\n",
        "    .setInputCols([\"document\"]) \\\n",
        "    .setOutputCol(\"sentence\") \\\n",
        "    .setExplodeSentences(True)\n",
        "\n",
        "tokenizer = nlp.Tokenizer()\\\n",
        "        .setInputCols([\"sentence\"])\\\n",
        "        .setOutputCol(\"token\")\n",
        "\n",
        "embeddings = nlp.RoBertaEmbeddings.pretrained(\"roberta_embeddings_legal_roberta_base\",\"en\") \\\n",
        "        .setInputCols([\"sentence\", \"token\"]) \\\n",
        "        .setOutputCol(\"embeddings\")\\\n",
        "        .setMaxSentenceLength(512)\\\n",
        "        .setCaseSensitive(True)\n",
        "\n",
        "# nda_names_of_parties\n",
        "ner_model_parties = legal.NerModel.pretrained(\"legner_nda_names_of_parties\", \"en\", \"legal/models\")\\\n",
        "        .setInputCols([\"sentence\", \"token\", \"embeddings\"])\\\n",
        "        .setOutputCol(\"ner_parties\")\n",
        "\n",
        "ner_converter_parties = nlp.NerConverter()\\\n",
        "        .setInputCols([\"sentence\", \"token\", \"ner_parties\"])\\\n",
        "        .setOutputCol(\"ner_chunk_parties\")\n",
        "\n",
        "\n",
        "nlpPipeline = nlp.Pipeline(stages=[\n",
        "        document_assembler,\n",
        "        sentence_detector,\n",
        "        tokenizer,\n",
        "        embeddings,\n",
        "        ner_model_parties,\n",
        "        ner_converter_parties, \n",
        "        ])\n",
        "\n",
        "names_of_the_parties_sdf = spark.createDataFrame(names_of_the_parties_df)\n",
        "\n",
        "model = nlpPipeline.fit(names_of_the_parties_sdf)\n",
        "result = model.transform(names_of_the_parties_sdf)\n"
      ],
      "metadata": {
        "id": "IovqcSVbjwYa"
      },
      "id": "IovqcSVbjwYa",
      "execution_count": null,
      "outputs": []
    },
    {
      "cell_type": "code",
      "source": [
        "from pyspark.sql import functions as F\n",
        "\n",
        "result_df = result.select(F.explode('ner_chunk_parties').alias(\"cols\")) \\\n",
        "                  .select(F.expr(\"cols.begin\").alias(\"begin\"),\n",
        "                          F.expr(\"cols.end\").alias(\"end\"),\n",
        "                          F.expr(\"cols.result\").alias(\"chunk\"),\n",
        "                          F.expr(\"cols.metadata.entity\").alias(\"entity\"))\n",
        "\n",
        "result_df.show(50, truncate=100)"
      ],
      "metadata": {
        "id": "isxjEw0D5sOf",
        "outputId": "df7005bd-90bc-46fb-9072-a311ebbe2f73",
        "colab": {
          "base_uri": "https://localhost:8080/"
        }
      },
      "id": "isxjEw0D5sOf",
      "execution_count": 19,
      "outputs": [
        {
          "output_type": "stream",
          "name": "stdout",
          "text": [
            "+-----+---+---------------------+------+\n",
            "|begin|end|                chunk|entity|\n",
            "+-----+---+---------------------+------+\n",
            "|   57| 77|CELERITY SYSTEMS, INC| PARTY|\n",
            "|   83| 90|             CELERITY| ALIAS|\n",
            "+-----+---+---------------------+------+\n",
            "\n"
          ]
        }
      ]
    },
    {
      "cell_type": "markdown",
      "id": "9kld4JdpOQLP",
      "metadata": {
        "id": "9kld4JdpOQLP"
      },
      "source": [
        "### 🧮 **NER Visualizer**\n",
        "For saving the visualization result as html, provide save_path parameter in the display function."
      ]
    },
    {
      "cell_type": "code",
      "source": [
        "# Importing the necessary functions\n",
        "from pyspark.sql.functions import col\n",
        "\n",
        "result = model.transform(names_of_the_parties_sdf)\n",
        "\n",
        "result.select(F.explode(F.arrays_zip('ner_chunk_parties.result', 'ner_chunk_parties.metadata')).alias(\"cols\")) \\\n",
        "      .select(F.expr(\"cols['0']\").alias(\"ner_chunk\"),\n",
        "              F.expr(\"cols['1']['entity']\").alias(\"label\")).show(300,truncate = False)\n",
        "\n",
        "print(\"\\n\\n\")\n",
        "\n",
        "from sparknlp_display import NerVisualizer\n",
        "\n",
        "visualiser = NerVisualizer()\n",
        "for i in range(result.count()):\n",
        "  visualiser.display(result = result.collect()[i] ,label_col = 'ner_chunk_parties', document_col = 'document')\n",
        "  print(\"\\n\\n\")\n"
      ],
      "metadata": {
        "colab": {
          "base_uri": "https://localhost:8080/",
          "height": 524
        },
        "id": "uhuZxZrOS2jh",
        "outputId": "44ffa02c-9231-408c-e4e8-a85382e0d3e4"
      },
      "id": "uhuZxZrOS2jh",
      "execution_count": 20,
      "outputs": [
        {
          "output_type": "stream",
          "name": "stdout",
          "text": [
            "+---------------------+-----+\n",
            "|ner_chunk            |label|\n",
            "+---------------------+-----+\n",
            "|CELERITY SYSTEMS, INC|PARTY|\n",
            "|CELERITY             |ALIAS|\n",
            "+---------------------+-----+\n",
            "\n",
            "\n",
            "\n",
            "\n"
          ]
        },
        {
          "output_type": "display_data",
          "data": {
            "text/plain": [
              "<IPython.core.display.HTML object>"
            ],
            "text/html": [
              "\n",
              "<style>\n",
              "    @import url('https://fonts.googleapis.com/css2?family=Montserrat:wght@300;400;500;600;700&display=swap');\n",
              "    @import url('https://fonts.googleapis.com/css2?family=Vistol Regular:wght@300;400;500;600;700&display=swap');\n",
              "    \n",
              "    .spark-nlp-display-scroll-entities {\n",
              "        border: 1px solid #E7EDF0;\n",
              "        border-radius: 3px;\n",
              "        text-align: justify;\n",
              "        \n",
              "    }\n",
              "    .spark-nlp-display-scroll-entities span {  \n",
              "        font-size: 14px;\n",
              "        line-height: 24px;\n",
              "        color: #536B76;\n",
              "        font-family: 'Montserrat', sans-serif !important;\n",
              "    }\n",
              "    \n",
              "    .spark-nlp-display-entity-wrapper{\n",
              "    \n",
              "        display: inline-grid;\n",
              "        text-align: center;\n",
              "        border-radius: 4px;\n",
              "        margin: 0 2px 5px 2px;\n",
              "        padding: 1px\n",
              "    }\n",
              "    .spark-nlp-display-entity-name{\n",
              "        font-size: 14px;\n",
              "        line-height: 24px;\n",
              "        font-family: 'Montserrat', sans-serif !important;\n",
              "        \n",
              "        background: #f1f2f3;\n",
              "        border-width: medium;\n",
              "        text-align: center;\n",
              "        \n",
              "        font-weight: 400;\n",
              "        \n",
              "        border-radius: 5px;\n",
              "        padding: 2px 5px;\n",
              "        display: block;\n",
              "        margin: 3px 2px;\n",
              "    \n",
              "    }\n",
              "    .spark-nlp-display-entity-type{\n",
              "        font-size: 14px;\n",
              "        line-height: 24px;\n",
              "        color: #ffffff;\n",
              "        font-family: 'Montserrat', sans-serif !important;\n",
              "        \n",
              "        text-transform: uppercase;\n",
              "        \n",
              "        font-weight: 500;\n",
              "\n",
              "        display: block;\n",
              "        padding: 3px 5px;\n",
              "    }\n",
              "    \n",
              "    .spark-nlp-display-entity-resolution{\n",
              "        font-size: 14px;\n",
              "        line-height: 24px;\n",
              "        color: #ffffff;\n",
              "        font-family: 'Vistol Regular', sans-serif !important;\n",
              "        \n",
              "        text-transform: uppercase;\n",
              "        \n",
              "        font-weight: 500;\n",
              "\n",
              "        display: block;\n",
              "        padding: 3px 5px;\n",
              "    }\n",
              "    \n",
              "    .spark-nlp-display-others{\n",
              "        font-size: 14px;\n",
              "        line-height: 24px;\n",
              "        font-family: 'Montserrat', sans-serif !important;\n",
              "        \n",
              "        font-weight: 400;\n",
              "    }\n",
              "\n",
              "</style>\n",
              " <span class=\"spark-nlp-display-others\" style=\"background-color: white\">Non-Disclosure Agreement<br><br>This Agreement is made between </span><span class=\"spark-nlp-display-entity-wrapper\" style=\"background-color: #4B8218\"><span class=\"spark-nlp-display-entity-name\">CELERITY SYSTEMS, INC </span><span class=\"spark-nlp-display-entity-type\">PARTY</span></span><span class=\"spark-nlp-display-others\" style=\"background-color: white\">., (\"</span><span class=\"spark-nlp-display-entity-wrapper\" style=\"background-color: #0A3013\"><span class=\"spark-nlp-display-entity-name\">CELERITY </span><span class=\"spark-nlp-display-entity-type\">ALIAS</span></span><span class=\"spark-nlp-display-others\" style=\"background-color: white\">\") and UNISYS<br>Corporation - Federal Systems Division.</span></div>"
            ]
          },
          "metadata": {}
        },
        {
          "output_type": "stream",
          "name": "stdout",
          "text": [
            "\n",
            "\n",
            "\n"
          ]
        },
        {
          "output_type": "display_data",
          "data": {
            "text/plain": [
              "<IPython.core.display.HTML object>"
            ],
            "text/html": [
              "\n",
              "<style>\n",
              "    @import url('https://fonts.googleapis.com/css2?family=Montserrat:wght@300;400;500;600;700&display=swap');\n",
              "    @import url('https://fonts.googleapis.com/css2?family=Vistol Regular:wght@300;400;500;600;700&display=swap');\n",
              "    \n",
              "    .spark-nlp-display-scroll-entities {\n",
              "        border: 1px solid #E7EDF0;\n",
              "        border-radius: 3px;\n",
              "        text-align: justify;\n",
              "        \n",
              "    }\n",
              "    .spark-nlp-display-scroll-entities span {  \n",
              "        font-size: 14px;\n",
              "        line-height: 24px;\n",
              "        color: #536B76;\n",
              "        font-family: 'Montserrat', sans-serif !important;\n",
              "    }\n",
              "    \n",
              "    .spark-nlp-display-entity-wrapper{\n",
              "    \n",
              "        display: inline-grid;\n",
              "        text-align: center;\n",
              "        border-radius: 4px;\n",
              "        margin: 0 2px 5px 2px;\n",
              "        padding: 1px\n",
              "    }\n",
              "    .spark-nlp-display-entity-name{\n",
              "        font-size: 14px;\n",
              "        line-height: 24px;\n",
              "        font-family: 'Montserrat', sans-serif !important;\n",
              "        \n",
              "        background: #f1f2f3;\n",
              "        border-width: medium;\n",
              "        text-align: center;\n",
              "        \n",
              "        font-weight: 400;\n",
              "        \n",
              "        border-radius: 5px;\n",
              "        padding: 2px 5px;\n",
              "        display: block;\n",
              "        margin: 3px 2px;\n",
              "    \n",
              "    }\n",
              "    .spark-nlp-display-entity-type{\n",
              "        font-size: 14px;\n",
              "        line-height: 24px;\n",
              "        color: #ffffff;\n",
              "        font-family: 'Montserrat', sans-serif !important;\n",
              "        \n",
              "        text-transform: uppercase;\n",
              "        \n",
              "        font-weight: 500;\n",
              "\n",
              "        display: block;\n",
              "        padding: 3px 5px;\n",
              "    }\n",
              "    \n",
              "    .spark-nlp-display-entity-resolution{\n",
              "        font-size: 14px;\n",
              "        line-height: 24px;\n",
              "        color: #ffffff;\n",
              "        font-family: 'Vistol Regular', sans-serif !important;\n",
              "        \n",
              "        text-transform: uppercase;\n",
              "        \n",
              "        font-weight: 500;\n",
              "\n",
              "        display: block;\n",
              "        padding: 3px 5px;\n",
              "    }\n",
              "    \n",
              "    .spark-nlp-display-others{\n",
              "        font-size: 14px;\n",
              "        line-height: 24px;\n",
              "        font-family: 'Montserrat', sans-serif !important;\n",
              "        \n",
              "        font-weight: 400;\n",
              "    }\n",
              "\n",
              "</style>\n",
              " <span class=\"spark-nlp-display-others\" style=\"background-color: white\">(\"UNISYS\") and concerns the handling,<br>safeguarding and exchange of sensitive, proprietary or confidential information<br>(collectively \"Proprietary Information\").</span></div>"
            ]
          },
          "metadata": {}
        },
        {
          "output_type": "stream",
          "name": "stdout",
          "text": [
            "\n",
            "\n",
            "\n"
          ]
        }
      ]
    },
    {
      "cell_type": "markdown",
      "source": [
        "## 📌 **`DEF_OF_CONF_INFO` CLAUSE-SPECIFIC NER**"
      ],
      "metadata": {
        "id": "V8ARiYBwHbx6"
      },
      "id": "V8ARiYBwHbx6"
    },
    {
      "cell_type": "code",
      "source": [
        "def_of_conf_info_df = class_texts_df[class_texts_df['class']=='DEF_OF_CONF_INFO']\n",
        "def_of_conf_info_df"
      ],
      "metadata": {
        "id": "QfD_vd4JH3Px",
        "colab": {
          "base_uri": "https://localhost:8080/",
          "height": 112
        },
        "outputId": "6b62d02d-7c3d-40f8-f0d4-41b44791bd9e"
      },
      "id": "QfD_vd4JH3Px",
      "execution_count": 21,
      "outputs": [
        {
          "output_type": "execute_result",
          "data": {
            "text/plain": [
              "                                                text             class\n",
              "2  It is agreed and understood that any\\nexchange...  DEF_OF_CONF_INFO\n",
              "3  1.   For the purposes hereof, Proprietary Info...  DEF_OF_CONF_INFO"
            ],
            "text/html": [
              "\n",
              "  <div id=\"df-0a1ab3f8-c4b3-47e0-b8f9-7dfcae057b48\">\n",
              "    <div class=\"colab-df-container\">\n",
              "      <div>\n",
              "<style scoped>\n",
              "    .dataframe tbody tr th:only-of-type {\n",
              "        vertical-align: middle;\n",
              "    }\n",
              "\n",
              "    .dataframe tbody tr th {\n",
              "        vertical-align: top;\n",
              "    }\n",
              "\n",
              "    .dataframe thead th {\n",
              "        text-align: right;\n",
              "    }\n",
              "</style>\n",
              "<table border=\"1\" class=\"dataframe\">\n",
              "  <thead>\n",
              "    <tr style=\"text-align: right;\">\n",
              "      <th></th>\n",
              "      <th>text</th>\n",
              "      <th>class</th>\n",
              "    </tr>\n",
              "  </thead>\n",
              "  <tbody>\n",
              "    <tr>\n",
              "      <th>2</th>\n",
              "      <td>It is agreed and understood that any\\nexchange...</td>\n",
              "      <td>DEF_OF_CONF_INFO</td>\n",
              "    </tr>\n",
              "    <tr>\n",
              "      <th>3</th>\n",
              "      <td>1.   For the purposes hereof, Proprietary Info...</td>\n",
              "      <td>DEF_OF_CONF_INFO</td>\n",
              "    </tr>\n",
              "  </tbody>\n",
              "</table>\n",
              "</div>\n",
              "      <button class=\"colab-df-convert\" onclick=\"convertToInteractive('df-0a1ab3f8-c4b3-47e0-b8f9-7dfcae057b48')\"\n",
              "              title=\"Convert this dataframe to an interactive table.\"\n",
              "              style=\"display:none;\">\n",
              "        \n",
              "  <svg xmlns=\"http://www.w3.org/2000/svg\" height=\"24px\"viewBox=\"0 0 24 24\"\n",
              "       width=\"24px\">\n",
              "    <path d=\"M0 0h24v24H0V0z\" fill=\"none\"/>\n",
              "    <path d=\"M18.56 5.44l.94 2.06.94-2.06 2.06-.94-2.06-.94-.94-2.06-.94 2.06-2.06.94zm-11 1L8.5 8.5l.94-2.06 2.06-.94-2.06-.94L8.5 2.5l-.94 2.06-2.06.94zm10 10l.94 2.06.94-2.06 2.06-.94-2.06-.94-.94-2.06-.94 2.06-2.06.94z\"/><path d=\"M17.41 7.96l-1.37-1.37c-.4-.4-.92-.59-1.43-.59-.52 0-1.04.2-1.43.59L10.3 9.45l-7.72 7.72c-.78.78-.78 2.05 0 2.83L4 21.41c.39.39.9.59 1.41.59.51 0 1.02-.2 1.41-.59l7.78-7.78 2.81-2.81c.8-.78.8-2.07 0-2.86zM5.41 20L4 18.59l7.72-7.72 1.47 1.35L5.41 20z\"/>\n",
              "  </svg>\n",
              "      </button>\n",
              "      \n",
              "  <style>\n",
              "    .colab-df-container {\n",
              "      display:flex;\n",
              "      flex-wrap:wrap;\n",
              "      gap: 12px;\n",
              "    }\n",
              "\n",
              "    .colab-df-convert {\n",
              "      background-color: #E8F0FE;\n",
              "      border: none;\n",
              "      border-radius: 50%;\n",
              "      cursor: pointer;\n",
              "      display: none;\n",
              "      fill: #1967D2;\n",
              "      height: 32px;\n",
              "      padding: 0 0 0 0;\n",
              "      width: 32px;\n",
              "    }\n",
              "\n",
              "    .colab-df-convert:hover {\n",
              "      background-color: #E2EBFA;\n",
              "      box-shadow: 0px 1px 2px rgba(60, 64, 67, 0.3), 0px 1px 3px 1px rgba(60, 64, 67, 0.15);\n",
              "      fill: #174EA6;\n",
              "    }\n",
              "\n",
              "    [theme=dark] .colab-df-convert {\n",
              "      background-color: #3B4455;\n",
              "      fill: #D2E3FC;\n",
              "    }\n",
              "\n",
              "    [theme=dark] .colab-df-convert:hover {\n",
              "      background-color: #434B5C;\n",
              "      box-shadow: 0px 1px 3px 1px rgba(0, 0, 0, 0.15);\n",
              "      filter: drop-shadow(0px 1px 2px rgba(0, 0, 0, 0.3));\n",
              "      fill: #FFFFFF;\n",
              "    }\n",
              "  </style>\n",
              "\n",
              "      <script>\n",
              "        const buttonEl =\n",
              "          document.querySelector('#df-0a1ab3f8-c4b3-47e0-b8f9-7dfcae057b48 button.colab-df-convert');\n",
              "        buttonEl.style.display =\n",
              "          google.colab.kernel.accessAllowed ? 'block' : 'none';\n",
              "\n",
              "        async function convertToInteractive(key) {\n",
              "          const element = document.querySelector('#df-0a1ab3f8-c4b3-47e0-b8f9-7dfcae057b48');\n",
              "          const dataTable =\n",
              "            await google.colab.kernel.invokeFunction('convertToInteractive',\n",
              "                                                     [key], {});\n",
              "          if (!dataTable) return;\n",
              "\n",
              "          const docLinkHtml = 'Like what you see? Visit the ' +\n",
              "            '<a target=\"_blank\" href=https://colab.research.google.com/notebooks/data_table.ipynb>data table notebook</a>'\n",
              "            + ' to learn more about interactive tables.';\n",
              "          element.innerHTML = '';\n",
              "          dataTable['output_type'] = 'display_data';\n",
              "          await google.colab.output.renderOutput(dataTable, element);\n",
              "          const docLink = document.createElement('div');\n",
              "          docLink.innerHTML = docLinkHtml;\n",
              "          element.appendChild(docLink);\n",
              "        }\n",
              "      </script>\n",
              "    </div>\n",
              "  </div>\n",
              "  "
            ]
          },
          "metadata": {},
          "execution_count": 21
        }
      ]
    },
    {
      "cell_type": "code",
      "source": [
        "def_of_conf_info_df[\"text\"][2]"
      ],
      "metadata": {
        "colab": {
          "base_uri": "https://localhost:8080/",
          "height": 54
        },
        "id": "v9r4FXaEE4XF",
        "outputId": "addda0dc-fa14-47f3-bb14-d6119af4047f"
      },
      "id": "v9r4FXaEE4XF",
      "execution_count": 22,
      "outputs": [
        {
          "output_type": "execute_result",
          "data": {
            "text/plain": [
              "'It is agreed and understood that any\\nexchange of such Proprietary Information is expressly for the sole purpose of\\nCELERITY and UNISYS evaluating a possible business arrangement involving an\\nexisting UNISYS contract with a federal government agency.'"
            ],
            "application/vnd.google.colaboratory.intrinsic+json": {
              "type": "string"
            }
          },
          "metadata": {},
          "execution_count": 22
        }
      ]
    },
    {
      "cell_type": "code",
      "source": [
        "# nda_conf_info\n",
        "ner_model_conf = legal.NerModel.pretrained(\"legner_nda_def_conf_info\", \"en\", \"legal/models\")\\\n",
        "        .setInputCols([\"sentence\", \"token\", \"embeddings\"])\\\n",
        "        .setOutputCol(\"ner_conf\")\n",
        "\n",
        "ner_converter_conf = nlp.NerConverter()\\\n",
        "        .setInputCols([\"sentence\", \"token\", \"ner_conf\"])\\\n",
        "        .setOutputCol(\"ner_chunk_conf\")\n",
        "\n",
        "nlpPipeline = nlp.Pipeline(stages=[\n",
        "        document_assembler,\n",
        "        sentence_detector,\n",
        "        tokenizer,\n",
        "        embeddings,\n",
        "        ner_model_conf,\n",
        "        ner_converter_conf, \n",
        "        ])\n",
        "\n",
        "def_of_conf_info_sdf = spark.createDataFrame(def_of_conf_info_df)\n",
        "\n",
        "model = nlpPipeline.fit(def_of_conf_info_sdf)\n",
        "result = model.transform(def_of_conf_info_sdf)\n",
        "\n",
        "\n",
        "from pyspark.sql import functions as F\n",
        "\n",
        "result_df = result.select(F.explode('ner_chunk_conf').alias(\"cols\")) \\\n",
        "                  .select(F.expr(\"cols.begin\").alias(\"begin\"),\n",
        "                          F.expr(\"cols.end\").alias(\"end\"),\n",
        "                          F.expr(\"cols.result\").alias(\"chunk\"),\n",
        "                          F.expr(\"cols.metadata.entity\").alias(\"entity\"))\n",
        "\n",
        "result_df.show(50, truncate=100)\n"
      ],
      "metadata": {
        "colab": {
          "base_uri": "https://localhost:8080/"
        },
        "id": "kIpDZ_ewHhsr",
        "outputId": "d91ee95c-19b0-47ea-de2f-1315a9da2582"
      },
      "id": "kIpDZ_ewHhsr",
      "execution_count": 23,
      "outputs": [
        {
          "output_type": "stream",
          "name": "stdout",
          "text": [
            "legner_nda_def_conf_info download started this may take some time.\n",
            "[OK!]\n",
            "+-----+---+-----+------+\n",
            "|begin|end|chunk|entity|\n",
            "+-----+---+-----+------+\n",
            "+-----+---+-----+------+\n",
            "\n"
          ]
        }
      ]
    },
    {
      "cell_type": "markdown",
      "source": [
        "### 🧮 **NER Visualizer**\n",
        "For saving the visualization result as html, provide save_path parameter in the display function."
      ],
      "metadata": {
        "id": "Jj5A3joCRFss"
      },
      "id": "Jj5A3joCRFss"
    },
    {
      "cell_type": "code",
      "source": [
        "# Importing the necessary functions\n",
        "from pyspark.sql.functions import col\n",
        "\n",
        "result = model.transform(def_of_conf_info_sdf)\n",
        "\n",
        "result.select(F.explode(F.arrays_zip('ner_chunk_conf.result', 'ner_chunk_conf.metadata')).alias(\"cols\")) \\\n",
        "      .select(F.expr(\"cols['0']\").alias(\"ner_chunk\"),\n",
        "              F.expr(\"cols['1']['entity']\").alias(\"label\")).show(300,truncate = False)\n",
        "\n",
        "print(\"\\n\\n\")\n",
        "\n",
        "from sparknlp_display import NerVisualizer\n",
        "\n",
        "visualiser = NerVisualizer()\n",
        "for i in range(result.count()):\n",
        "  visualiser.display(result = result.collect()[i] ,label_col = 'ner_chunk_conf', document_col = 'document')\n",
        "  print(\"\\n\\n\")\n"
      ],
      "metadata": {
        "colab": {
          "base_uri": "https://localhost:8080/",
          "height": 416
        },
        "id": "mx71Msd4IW7Q",
        "outputId": "2f78771d-3653-4a50-a27a-134adebe7e6e"
      },
      "id": "mx71Msd4IW7Q",
      "execution_count": 24,
      "outputs": [
        {
          "output_type": "stream",
          "name": "stdout",
          "text": [
            "+---------+-----+\n",
            "|ner_chunk|label|\n",
            "+---------+-----+\n",
            "+---------+-----+\n",
            "\n",
            "\n",
            "\n",
            "\n"
          ]
        },
        {
          "output_type": "display_data",
          "data": {
            "text/plain": [
              "<IPython.core.display.HTML object>"
            ],
            "text/html": [
              "\n",
              "<style>\n",
              "    @import url('https://fonts.googleapis.com/css2?family=Montserrat:wght@300;400;500;600;700&display=swap');\n",
              "    @import url('https://fonts.googleapis.com/css2?family=Vistol Regular:wght@300;400;500;600;700&display=swap');\n",
              "    \n",
              "    .spark-nlp-display-scroll-entities {\n",
              "        border: 1px solid #E7EDF0;\n",
              "        border-radius: 3px;\n",
              "        text-align: justify;\n",
              "        \n",
              "    }\n",
              "    .spark-nlp-display-scroll-entities span {  \n",
              "        font-size: 14px;\n",
              "        line-height: 24px;\n",
              "        color: #536B76;\n",
              "        font-family: 'Montserrat', sans-serif !important;\n",
              "    }\n",
              "    \n",
              "    .spark-nlp-display-entity-wrapper{\n",
              "    \n",
              "        display: inline-grid;\n",
              "        text-align: center;\n",
              "        border-radius: 4px;\n",
              "        margin: 0 2px 5px 2px;\n",
              "        padding: 1px\n",
              "    }\n",
              "    .spark-nlp-display-entity-name{\n",
              "        font-size: 14px;\n",
              "        line-height: 24px;\n",
              "        font-family: 'Montserrat', sans-serif !important;\n",
              "        \n",
              "        background: #f1f2f3;\n",
              "        border-width: medium;\n",
              "        text-align: center;\n",
              "        \n",
              "        font-weight: 400;\n",
              "        \n",
              "        border-radius: 5px;\n",
              "        padding: 2px 5px;\n",
              "        display: block;\n",
              "        margin: 3px 2px;\n",
              "    \n",
              "    }\n",
              "    .spark-nlp-display-entity-type{\n",
              "        font-size: 14px;\n",
              "        line-height: 24px;\n",
              "        color: #ffffff;\n",
              "        font-family: 'Montserrat', sans-serif !important;\n",
              "        \n",
              "        text-transform: uppercase;\n",
              "        \n",
              "        font-weight: 500;\n",
              "\n",
              "        display: block;\n",
              "        padding: 3px 5px;\n",
              "    }\n",
              "    \n",
              "    .spark-nlp-display-entity-resolution{\n",
              "        font-size: 14px;\n",
              "        line-height: 24px;\n",
              "        color: #ffffff;\n",
              "        font-family: 'Vistol Regular', sans-serif !important;\n",
              "        \n",
              "        text-transform: uppercase;\n",
              "        \n",
              "        font-weight: 500;\n",
              "\n",
              "        display: block;\n",
              "        padding: 3px 5px;\n",
              "    }\n",
              "    \n",
              "    .spark-nlp-display-others{\n",
              "        font-size: 14px;\n",
              "        line-height: 24px;\n",
              "        font-family: 'Montserrat', sans-serif !important;\n",
              "        \n",
              "        font-weight: 400;\n",
              "    }\n",
              "\n",
              "</style>\n",
              " <span class=\"spark-nlp-display-others\" style=\"background-color: white\">It is agreed and understood that any<br>exchange of such Proprietary Information is expressly for the sole purpose of<br>CELERITY and UNISYS evaluating a possible business arrangement involving an<br>existing UNISYS contract with a federal government agency.</span></div>"
            ]
          },
          "metadata": {}
        },
        {
          "output_type": "stream",
          "name": "stdout",
          "text": [
            "\n",
            "\n",
            "\n"
          ]
        },
        {
          "output_type": "display_data",
          "data": {
            "text/plain": [
              "<IPython.core.display.HTML object>"
            ],
            "text/html": [
              "\n",
              "<style>\n",
              "    @import url('https://fonts.googleapis.com/css2?family=Montserrat:wght@300;400;500;600;700&display=swap');\n",
              "    @import url('https://fonts.googleapis.com/css2?family=Vistol Regular:wght@300;400;500;600;700&display=swap');\n",
              "    \n",
              "    .spark-nlp-display-scroll-entities {\n",
              "        border: 1px solid #E7EDF0;\n",
              "        border-radius: 3px;\n",
              "        text-align: justify;\n",
              "        \n",
              "    }\n",
              "    .spark-nlp-display-scroll-entities span {  \n",
              "        font-size: 14px;\n",
              "        line-height: 24px;\n",
              "        color: #536B76;\n",
              "        font-family: 'Montserrat', sans-serif !important;\n",
              "    }\n",
              "    \n",
              "    .spark-nlp-display-entity-wrapper{\n",
              "    \n",
              "        display: inline-grid;\n",
              "        text-align: center;\n",
              "        border-radius: 4px;\n",
              "        margin: 0 2px 5px 2px;\n",
              "        padding: 1px\n",
              "    }\n",
              "    .spark-nlp-display-entity-name{\n",
              "        font-size: 14px;\n",
              "        line-height: 24px;\n",
              "        font-family: 'Montserrat', sans-serif !important;\n",
              "        \n",
              "        background: #f1f2f3;\n",
              "        border-width: medium;\n",
              "        text-align: center;\n",
              "        \n",
              "        font-weight: 400;\n",
              "        \n",
              "        border-radius: 5px;\n",
              "        padding: 2px 5px;\n",
              "        display: block;\n",
              "        margin: 3px 2px;\n",
              "    \n",
              "    }\n",
              "    .spark-nlp-display-entity-type{\n",
              "        font-size: 14px;\n",
              "        line-height: 24px;\n",
              "        color: #ffffff;\n",
              "        font-family: 'Montserrat', sans-serif !important;\n",
              "        \n",
              "        text-transform: uppercase;\n",
              "        \n",
              "        font-weight: 500;\n",
              "\n",
              "        display: block;\n",
              "        padding: 3px 5px;\n",
              "    }\n",
              "    \n",
              "    .spark-nlp-display-entity-resolution{\n",
              "        font-size: 14px;\n",
              "        line-height: 24px;\n",
              "        color: #ffffff;\n",
              "        font-family: 'Vistol Regular', sans-serif !important;\n",
              "        \n",
              "        text-transform: uppercase;\n",
              "        \n",
              "        font-weight: 500;\n",
              "\n",
              "        display: block;\n",
              "        padding: 3px 5px;\n",
              "    }\n",
              "    \n",
              "    .spark-nlp-display-others{\n",
              "        font-size: 14px;\n",
              "        line-height: 24px;\n",
              "        font-family: 'Montserrat', sans-serif !important;\n",
              "        \n",
              "        font-weight: 400;\n",
              "    }\n",
              "\n",
              "</style>\n",
              " <span class=\"spark-nlp-display-others\" style=\"background-color: white\">1.   For the purposes hereof, Proprietary Information shall be any documents,<br>     materials or information that</span></div>"
            ]
          },
          "metadata": {}
        },
        {
          "output_type": "stream",
          "name": "stdout",
          "text": [
            "\n",
            "\n",
            "\n"
          ]
        }
      ]
    },
    {
      "cell_type": "markdown",
      "source": [
        "## 📌 **`RETURN_OF_CONF_INFO` CLAUSE-SPECIFIC NER**"
      ],
      "metadata": {
        "id": "52p1g5zEImWV"
      },
      "id": "52p1g5zEImWV"
    },
    {
      "cell_type": "code",
      "source": [
        "return_of_conf_info_df = class_texts_df[class_texts_df['class']=='RETURN_OF_CONF_INFO']\n",
        "return_of_conf_info_df"
      ],
      "metadata": {
        "id": "BOKo5cFgJhfA",
        "colab": {
          "base_uri": "https://localhost:8080/",
          "height": 143
        },
        "outputId": "cb4b6e58-be84-4a41-e360-cebe25860176"
      },
      "execution_count": 25,
      "outputs": [
        {
          "output_type": "execute_result",
          "data": {
            "text/plain": [
              "                                                 text                class\n",
              "7   Without the written consent of the Transmitter...  RETURN_OF_CONF_INFO\n",
              "9   (i) not to disclose,\\n     disseminate, reprod...  RETURN_OF_CONF_INFO\n",
              "19  (iii) is\\n     lawfully disclosed to Recipient...  RETURN_OF_CONF_INFO"
            ],
            "text/html": [
              "\n",
              "  <div id=\"df-cceefdf6-9928-4ed3-816e-df4b384f1c87\">\n",
              "    <div class=\"colab-df-container\">\n",
              "      <div>\n",
              "<style scoped>\n",
              "    .dataframe tbody tr th:only-of-type {\n",
              "        vertical-align: middle;\n",
              "    }\n",
              "\n",
              "    .dataframe tbody tr th {\n",
              "        vertical-align: top;\n",
              "    }\n",
              "\n",
              "    .dataframe thead th {\n",
              "        text-align: right;\n",
              "    }\n",
              "</style>\n",
              "<table border=\"1\" class=\"dataframe\">\n",
              "  <thead>\n",
              "    <tr style=\"text-align: right;\">\n",
              "      <th></th>\n",
              "      <th>text</th>\n",
              "      <th>class</th>\n",
              "    </tr>\n",
              "  </thead>\n",
              "  <tbody>\n",
              "    <tr>\n",
              "      <th>7</th>\n",
              "      <td>Without the written consent of the Transmitter...</td>\n",
              "      <td>RETURN_OF_CONF_INFO</td>\n",
              "    </tr>\n",
              "    <tr>\n",
              "      <th>9</th>\n",
              "      <td>(i) not to disclose,\\n     disseminate, reprod...</td>\n",
              "      <td>RETURN_OF_CONF_INFO</td>\n",
              "    </tr>\n",
              "    <tr>\n",
              "      <th>19</th>\n",
              "      <td>(iii) is\\n     lawfully disclosed to Recipient...</td>\n",
              "      <td>RETURN_OF_CONF_INFO</td>\n",
              "    </tr>\n",
              "  </tbody>\n",
              "</table>\n",
              "</div>\n",
              "      <button class=\"colab-df-convert\" onclick=\"convertToInteractive('df-cceefdf6-9928-4ed3-816e-df4b384f1c87')\"\n",
              "              title=\"Convert this dataframe to an interactive table.\"\n",
              "              style=\"display:none;\">\n",
              "        \n",
              "  <svg xmlns=\"http://www.w3.org/2000/svg\" height=\"24px\"viewBox=\"0 0 24 24\"\n",
              "       width=\"24px\">\n",
              "    <path d=\"M0 0h24v24H0V0z\" fill=\"none\"/>\n",
              "    <path d=\"M18.56 5.44l.94 2.06.94-2.06 2.06-.94-2.06-.94-.94-2.06-.94 2.06-2.06.94zm-11 1L8.5 8.5l.94-2.06 2.06-.94-2.06-.94L8.5 2.5l-.94 2.06-2.06.94zm10 10l.94 2.06.94-2.06 2.06-.94-2.06-.94-.94-2.06-.94 2.06-2.06.94z\"/><path d=\"M17.41 7.96l-1.37-1.37c-.4-.4-.92-.59-1.43-.59-.52 0-1.04.2-1.43.59L10.3 9.45l-7.72 7.72c-.78.78-.78 2.05 0 2.83L4 21.41c.39.39.9.59 1.41.59.51 0 1.02-.2 1.41-.59l7.78-7.78 2.81-2.81c.8-.78.8-2.07 0-2.86zM5.41 20L4 18.59l7.72-7.72 1.47 1.35L5.41 20z\"/>\n",
              "  </svg>\n",
              "      </button>\n",
              "      \n",
              "  <style>\n",
              "    .colab-df-container {\n",
              "      display:flex;\n",
              "      flex-wrap:wrap;\n",
              "      gap: 12px;\n",
              "    }\n",
              "\n",
              "    .colab-df-convert {\n",
              "      background-color: #E8F0FE;\n",
              "      border: none;\n",
              "      border-radius: 50%;\n",
              "      cursor: pointer;\n",
              "      display: none;\n",
              "      fill: #1967D2;\n",
              "      height: 32px;\n",
              "      padding: 0 0 0 0;\n",
              "      width: 32px;\n",
              "    }\n",
              "\n",
              "    .colab-df-convert:hover {\n",
              "      background-color: #E2EBFA;\n",
              "      box-shadow: 0px 1px 2px rgba(60, 64, 67, 0.3), 0px 1px 3px 1px rgba(60, 64, 67, 0.15);\n",
              "      fill: #174EA6;\n",
              "    }\n",
              "\n",
              "    [theme=dark] .colab-df-convert {\n",
              "      background-color: #3B4455;\n",
              "      fill: #D2E3FC;\n",
              "    }\n",
              "\n",
              "    [theme=dark] .colab-df-convert:hover {\n",
              "      background-color: #434B5C;\n",
              "      box-shadow: 0px 1px 3px 1px rgba(0, 0, 0, 0.15);\n",
              "      filter: drop-shadow(0px 1px 2px rgba(0, 0, 0, 0.3));\n",
              "      fill: #FFFFFF;\n",
              "    }\n",
              "  </style>\n",
              "\n",
              "      <script>\n",
              "        const buttonEl =\n",
              "          document.querySelector('#df-cceefdf6-9928-4ed3-816e-df4b384f1c87 button.colab-df-convert');\n",
              "        buttonEl.style.display =\n",
              "          google.colab.kernel.accessAllowed ? 'block' : 'none';\n",
              "\n",
              "        async function convertToInteractive(key) {\n",
              "          const element = document.querySelector('#df-cceefdf6-9928-4ed3-816e-df4b384f1c87');\n",
              "          const dataTable =\n",
              "            await google.colab.kernel.invokeFunction('convertToInteractive',\n",
              "                                                     [key], {});\n",
              "          if (!dataTable) return;\n",
              "\n",
              "          const docLinkHtml = 'Like what you see? Visit the ' +\n",
              "            '<a target=\"_blank\" href=https://colab.research.google.com/notebooks/data_table.ipynb>data table notebook</a>'\n",
              "            + ' to learn more about interactive tables.';\n",
              "          element.innerHTML = '';\n",
              "          dataTable['output_type'] = 'display_data';\n",
              "          await google.colab.output.renderOutput(dataTable, element);\n",
              "          const docLink = document.createElement('div');\n",
              "          docLink.innerHTML = docLinkHtml;\n",
              "          element.appendChild(docLink);\n",
              "        }\n",
              "      </script>\n",
              "    </div>\n",
              "  </div>\n",
              "  "
            ]
          },
          "metadata": {},
          "execution_count": 25
        }
      ],
      "id": "BOKo5cFgJhfA"
    },
    {
      "cell_type": "code",
      "source": [
        "# nda_return_of_conf_info\n",
        "ner_model_return = legal.NerModel.pretrained(\"legner_nda_return_of_conf_info\", \"en\", \"legal/models\")\\\n",
        "        .setInputCols([\"sentence\", \"token\", \"embeddings\"])\\\n",
        "        .setOutputCol(\"ner_return\")\n",
        "\n",
        "ner_converter_return = nlp.NerConverter()\\\n",
        "        .setInputCols([\"sentence\", \"token\", \"ner_return\"])\\\n",
        "        .setOutputCol(\"ner_chunk_return\")\n",
        "\n",
        "nlpPipeline = nlp.Pipeline(stages=[\n",
        "        document_assembler,\n",
        "        sentence_detector,\n",
        "        tokenizer,\n",
        "        embeddings,\n",
        "        ner_model_return,\n",
        "        ner_converter_return, \n",
        "        ])\n",
        "\n",
        "return_of_conf_info_sdf = spark.createDataFrame(return_of_conf_info_df)\n",
        "\n",
        "model = nlpPipeline.fit(return_of_conf_info_sdf)\n",
        "result = model.transform(return_of_conf_info_sdf)\n"
      ],
      "metadata": {
        "id": "KOx1fZ73JhfI"
      },
      "execution_count": null,
      "outputs": [],
      "id": "KOx1fZ73JhfI"
    },
    {
      "cell_type": "markdown",
      "source": [
        "###🧮 **NER Visualizer**\n",
        "For saving the visualization result as html, provide save_path parameter in the display function."
      ],
      "metadata": {
        "id": "y9AynfHRRHon"
      },
      "id": "y9AynfHRRHon"
    },
    {
      "cell_type": "code",
      "source": [
        "# Importing the necessary functions\n",
        "from pyspark.sql.functions import col\n",
        "\n",
        "result = model.transform(return_of_conf_info_sdf)\n",
        "\n",
        "result.select(F.explode(F.arrays_zip('ner_chunk_return.result', 'ner_chunk_return.metadata')).alias(\"cols\")) \\\n",
        "      .select(F.expr(\"cols['0']\").alias(\"ner_chunk\"),\n",
        "              F.expr(\"cols['1']['entity']\").alias(\"label\")).show(300,truncate = False)\n",
        "\n",
        "print(\"\\n\\n\")\n",
        "\n",
        "from sparknlp_display import NerVisualizer\n",
        "\n",
        "visualiser = NerVisualizer()\n",
        "for i in range(result.count()):\n",
        "  visualiser.display(result = result.collect()[i] ,label_col = 'ner_chunk_return', document_col = 'document')\n",
        "  print(\"\\n\\n--------------\")"
      ],
      "metadata": {
        "colab": {
          "base_uri": "https://localhost:8080/",
          "height": 649
        },
        "id": "hHXGO5KDCVto",
        "outputId": "57db0cfb-44e1-43c5-c761-2721ff1db554"
      },
      "id": "hHXGO5KDCVto",
      "execution_count": 27,
      "outputs": [
        {
          "output_type": "stream",
          "name": "stdout",
          "text": [
            "+------------+-------------+\n",
            "|ner_chunk   |label        |\n",
            "+------------+-------------+\n",
            "|governmental|LEGAL_PURPOSE|\n",
            "|lawfully    |LEGAL_PURPOSE|\n",
            "+------------+-------------+\n",
            "\n",
            "\n",
            "\n",
            "\n"
          ]
        },
        {
          "output_type": "display_data",
          "data": {
            "text/plain": [
              "<IPython.core.display.HTML object>"
            ],
            "text/html": [
              "\n",
              "<style>\n",
              "    @import url('https://fonts.googleapis.com/css2?family=Montserrat:wght@300;400;500;600;700&display=swap');\n",
              "    @import url('https://fonts.googleapis.com/css2?family=Vistol Regular:wght@300;400;500;600;700&display=swap');\n",
              "    \n",
              "    .spark-nlp-display-scroll-entities {\n",
              "        border: 1px solid #E7EDF0;\n",
              "        border-radius: 3px;\n",
              "        text-align: justify;\n",
              "        \n",
              "    }\n",
              "    .spark-nlp-display-scroll-entities span {  \n",
              "        font-size: 14px;\n",
              "        line-height: 24px;\n",
              "        color: #536B76;\n",
              "        font-family: 'Montserrat', sans-serif !important;\n",
              "    }\n",
              "    \n",
              "    .spark-nlp-display-entity-wrapper{\n",
              "    \n",
              "        display: inline-grid;\n",
              "        text-align: center;\n",
              "        border-radius: 4px;\n",
              "        margin: 0 2px 5px 2px;\n",
              "        padding: 1px\n",
              "    }\n",
              "    .spark-nlp-display-entity-name{\n",
              "        font-size: 14px;\n",
              "        line-height: 24px;\n",
              "        font-family: 'Montserrat', sans-serif !important;\n",
              "        \n",
              "        background: #f1f2f3;\n",
              "        border-width: medium;\n",
              "        text-align: center;\n",
              "        \n",
              "        font-weight: 400;\n",
              "        \n",
              "        border-radius: 5px;\n",
              "        padding: 2px 5px;\n",
              "        display: block;\n",
              "        margin: 3px 2px;\n",
              "    \n",
              "    }\n",
              "    .spark-nlp-display-entity-type{\n",
              "        font-size: 14px;\n",
              "        line-height: 24px;\n",
              "        color: #ffffff;\n",
              "        font-family: 'Montserrat', sans-serif !important;\n",
              "        \n",
              "        text-transform: uppercase;\n",
              "        \n",
              "        font-weight: 500;\n",
              "\n",
              "        display: block;\n",
              "        padding: 3px 5px;\n",
              "    }\n",
              "    \n",
              "    .spark-nlp-display-entity-resolution{\n",
              "        font-size: 14px;\n",
              "        line-height: 24px;\n",
              "        color: #ffffff;\n",
              "        font-family: 'Vistol Regular', sans-serif !important;\n",
              "        \n",
              "        text-transform: uppercase;\n",
              "        \n",
              "        font-weight: 500;\n",
              "\n",
              "        display: block;\n",
              "        padding: 3px 5px;\n",
              "    }\n",
              "    \n",
              "    .spark-nlp-display-others{\n",
              "        font-size: 14px;\n",
              "        line-height: 24px;\n",
              "        font-family: 'Montserrat', sans-serif !important;\n",
              "        \n",
              "        font-weight: 400;\n",
              "    }\n",
              "\n",
              "</style>\n",
              " <span class=\"spark-nlp-display-others\" style=\"background-color: white\">Without the written consent of the Transmitter,<br>     the Recipient of Proprietary Information agrees</span></div>"
            ]
          },
          "metadata": {}
        },
        {
          "output_type": "stream",
          "name": "stdout",
          "text": [
            "\n",
            "\n",
            "--------------\n"
          ]
        },
        {
          "output_type": "display_data",
          "data": {
            "text/plain": [
              "<IPython.core.display.HTML object>"
            ],
            "text/html": [
              "\n",
              "<style>\n",
              "    @import url('https://fonts.googleapis.com/css2?family=Montserrat:wght@300;400;500;600;700&display=swap');\n",
              "    @import url('https://fonts.googleapis.com/css2?family=Vistol Regular:wght@300;400;500;600;700&display=swap');\n",
              "    \n",
              "    .spark-nlp-display-scroll-entities {\n",
              "        border: 1px solid #E7EDF0;\n",
              "        border-radius: 3px;\n",
              "        text-align: justify;\n",
              "        \n",
              "    }\n",
              "    .spark-nlp-display-scroll-entities span {  \n",
              "        font-size: 14px;\n",
              "        line-height: 24px;\n",
              "        color: #536B76;\n",
              "        font-family: 'Montserrat', sans-serif !important;\n",
              "    }\n",
              "    \n",
              "    .spark-nlp-display-entity-wrapper{\n",
              "    \n",
              "        display: inline-grid;\n",
              "        text-align: center;\n",
              "        border-radius: 4px;\n",
              "        margin: 0 2px 5px 2px;\n",
              "        padding: 1px\n",
              "    }\n",
              "    .spark-nlp-display-entity-name{\n",
              "        font-size: 14px;\n",
              "        line-height: 24px;\n",
              "        font-family: 'Montserrat', sans-serif !important;\n",
              "        \n",
              "        background: #f1f2f3;\n",
              "        border-width: medium;\n",
              "        text-align: center;\n",
              "        \n",
              "        font-weight: 400;\n",
              "        \n",
              "        border-radius: 5px;\n",
              "        padding: 2px 5px;\n",
              "        display: block;\n",
              "        margin: 3px 2px;\n",
              "    \n",
              "    }\n",
              "    .spark-nlp-display-entity-type{\n",
              "        font-size: 14px;\n",
              "        line-height: 24px;\n",
              "        color: #ffffff;\n",
              "        font-family: 'Montserrat', sans-serif !important;\n",
              "        \n",
              "        text-transform: uppercase;\n",
              "        \n",
              "        font-weight: 500;\n",
              "\n",
              "        display: block;\n",
              "        padding: 3px 5px;\n",
              "    }\n",
              "    \n",
              "    .spark-nlp-display-entity-resolution{\n",
              "        font-size: 14px;\n",
              "        line-height: 24px;\n",
              "        color: #ffffff;\n",
              "        font-family: 'Vistol Regular', sans-serif !important;\n",
              "        \n",
              "        text-transform: uppercase;\n",
              "        \n",
              "        font-weight: 500;\n",
              "\n",
              "        display: block;\n",
              "        padding: 3px 5px;\n",
              "    }\n",
              "    \n",
              "    .spark-nlp-display-others{\n",
              "        font-size: 14px;\n",
              "        line-height: 24px;\n",
              "        font-family: 'Montserrat', sans-serif !important;\n",
              "        \n",
              "        font-weight: 400;\n",
              "    }\n",
              "\n",
              "</style>\n",
              " <span class=\"spark-nlp-display-others\" style=\"background-color: white\">(i) not to disclose,<br>     disseminate, reproduce or otherwise distribute such information and<br>     materials to any third party, except a </span><span class=\"spark-nlp-display-entity-wrapper\" style=\"background-color: #96C28C\"><span class=\"spark-nlp-display-entity-name\">governmental </span><span class=\"spark-nlp-display-entity-type\">LEGAL_PURPOSE</span></span><span class=\"spark-nlp-display-others\" style=\"background-color: white\"> judicial authority's<br>     issued order and</span></div>"
            ]
          },
          "metadata": {}
        },
        {
          "output_type": "stream",
          "name": "stdout",
          "text": [
            "\n",
            "\n",
            "--------------\n"
          ]
        },
        {
          "output_type": "display_data",
          "data": {
            "text/plain": [
              "<IPython.core.display.HTML object>"
            ],
            "text/html": [
              "\n",
              "<style>\n",
              "    @import url('https://fonts.googleapis.com/css2?family=Montserrat:wght@300;400;500;600;700&display=swap');\n",
              "    @import url('https://fonts.googleapis.com/css2?family=Vistol Regular:wght@300;400;500;600;700&display=swap');\n",
              "    \n",
              "    .spark-nlp-display-scroll-entities {\n",
              "        border: 1px solid #E7EDF0;\n",
              "        border-radius: 3px;\n",
              "        text-align: justify;\n",
              "        \n",
              "    }\n",
              "    .spark-nlp-display-scroll-entities span {  \n",
              "        font-size: 14px;\n",
              "        line-height: 24px;\n",
              "        color: #536B76;\n",
              "        font-family: 'Montserrat', sans-serif !important;\n",
              "    }\n",
              "    \n",
              "    .spark-nlp-display-entity-wrapper{\n",
              "    \n",
              "        display: inline-grid;\n",
              "        text-align: center;\n",
              "        border-radius: 4px;\n",
              "        margin: 0 2px 5px 2px;\n",
              "        padding: 1px\n",
              "    }\n",
              "    .spark-nlp-display-entity-name{\n",
              "        font-size: 14px;\n",
              "        line-height: 24px;\n",
              "        font-family: 'Montserrat', sans-serif !important;\n",
              "        \n",
              "        background: #f1f2f3;\n",
              "        border-width: medium;\n",
              "        text-align: center;\n",
              "        \n",
              "        font-weight: 400;\n",
              "        \n",
              "        border-radius: 5px;\n",
              "        padding: 2px 5px;\n",
              "        display: block;\n",
              "        margin: 3px 2px;\n",
              "    \n",
              "    }\n",
              "    .spark-nlp-display-entity-type{\n",
              "        font-size: 14px;\n",
              "        line-height: 24px;\n",
              "        color: #ffffff;\n",
              "        font-family: 'Montserrat', sans-serif !important;\n",
              "        \n",
              "        text-transform: uppercase;\n",
              "        \n",
              "        font-weight: 500;\n",
              "\n",
              "        display: block;\n",
              "        padding: 3px 5px;\n",
              "    }\n",
              "    \n",
              "    .spark-nlp-display-entity-resolution{\n",
              "        font-size: 14px;\n",
              "        line-height: 24px;\n",
              "        color: #ffffff;\n",
              "        font-family: 'Vistol Regular', sans-serif !important;\n",
              "        \n",
              "        text-transform: uppercase;\n",
              "        \n",
              "        font-weight: 500;\n",
              "\n",
              "        display: block;\n",
              "        padding: 3px 5px;\n",
              "    }\n",
              "    \n",
              "    .spark-nlp-display-others{\n",
              "        font-size: 14px;\n",
              "        line-height: 24px;\n",
              "        font-family: 'Montserrat', sans-serif !important;\n",
              "        \n",
              "        font-weight: 400;\n",
              "    }\n",
              "\n",
              "</style>\n",
              " <span class=\"spark-nlp-display-others\" style=\"background-color: white\">(iii) is<br>     </span><span class=\"spark-nlp-display-entity-wrapper\" style=\"background-color: #5DC45D\"><span class=\"spark-nlp-display-entity-name\">lawfully </span><span class=\"spark-nlp-display-entity-type\">LEGAL_PURPOSE</span></span><span class=\"spark-nlp-display-others\" style=\"background-color: white\"> disclosed to Recipient by a third party.</span></div>"
            ]
          },
          "metadata": {}
        },
        {
          "output_type": "stream",
          "name": "stdout",
          "text": [
            "\n",
            "\n",
            "--------------\n"
          ]
        }
      ]
    },
    {
      "cell_type": "markdown",
      "source": [
        "## 📌 **`USE_OF_CONF_INFO` CLAUSE-SPECIFIC NER**"
      ],
      "metadata": {
        "id": "DYugK_wtKGkZ"
      },
      "id": "DYugK_wtKGkZ"
    },
    {
      "cell_type": "code",
      "source": [
        "use_of_conf_info_df = class_texts_df[class_texts_df['class']=='USE_OF_CONF_INFO']\n",
        "use_of_conf_info_df"
      ],
      "metadata": {
        "id": "jOZnpxDaKWib",
        "colab": {
          "base_uri": "https://localhost:8080/",
          "height": 81
        },
        "outputId": "d2162f8e-8187-4827-f723-aaba9969b806"
      },
      "execution_count": 28,
      "outputs": [
        {
          "output_type": "execute_result",
          "data": {
            "text/plain": [
              "                                                text             class\n",
              "8  (i) not to disclose,\\n     disseminate, reprod...  USE_OF_CONF_INFO"
            ],
            "text/html": [
              "\n",
              "  <div id=\"df-fbfe183a-9532-4ad4-8bf3-df09cb3d350d\">\n",
              "    <div class=\"colab-df-container\">\n",
              "      <div>\n",
              "<style scoped>\n",
              "    .dataframe tbody tr th:only-of-type {\n",
              "        vertical-align: middle;\n",
              "    }\n",
              "\n",
              "    .dataframe tbody tr th {\n",
              "        vertical-align: top;\n",
              "    }\n",
              "\n",
              "    .dataframe thead th {\n",
              "        text-align: right;\n",
              "    }\n",
              "</style>\n",
              "<table border=\"1\" class=\"dataframe\">\n",
              "  <thead>\n",
              "    <tr style=\"text-align: right;\">\n",
              "      <th></th>\n",
              "      <th>text</th>\n",
              "      <th>class</th>\n",
              "    </tr>\n",
              "  </thead>\n",
              "  <tbody>\n",
              "    <tr>\n",
              "      <th>8</th>\n",
              "      <td>(i) not to disclose,\\n     disseminate, reprod...</td>\n",
              "      <td>USE_OF_CONF_INFO</td>\n",
              "    </tr>\n",
              "  </tbody>\n",
              "</table>\n",
              "</div>\n",
              "      <button class=\"colab-df-convert\" onclick=\"convertToInteractive('df-fbfe183a-9532-4ad4-8bf3-df09cb3d350d')\"\n",
              "              title=\"Convert this dataframe to an interactive table.\"\n",
              "              style=\"display:none;\">\n",
              "        \n",
              "  <svg xmlns=\"http://www.w3.org/2000/svg\" height=\"24px\"viewBox=\"0 0 24 24\"\n",
              "       width=\"24px\">\n",
              "    <path d=\"M0 0h24v24H0V0z\" fill=\"none\"/>\n",
              "    <path d=\"M18.56 5.44l.94 2.06.94-2.06 2.06-.94-2.06-.94-.94-2.06-.94 2.06-2.06.94zm-11 1L8.5 8.5l.94-2.06 2.06-.94-2.06-.94L8.5 2.5l-.94 2.06-2.06.94zm10 10l.94 2.06.94-2.06 2.06-.94-2.06-.94-.94-2.06-.94 2.06-2.06.94z\"/><path d=\"M17.41 7.96l-1.37-1.37c-.4-.4-.92-.59-1.43-.59-.52 0-1.04.2-1.43.59L10.3 9.45l-7.72 7.72c-.78.78-.78 2.05 0 2.83L4 21.41c.39.39.9.59 1.41.59.51 0 1.02-.2 1.41-.59l7.78-7.78 2.81-2.81c.8-.78.8-2.07 0-2.86zM5.41 20L4 18.59l7.72-7.72 1.47 1.35L5.41 20z\"/>\n",
              "  </svg>\n",
              "      </button>\n",
              "      \n",
              "  <style>\n",
              "    .colab-df-container {\n",
              "      display:flex;\n",
              "      flex-wrap:wrap;\n",
              "      gap: 12px;\n",
              "    }\n",
              "\n",
              "    .colab-df-convert {\n",
              "      background-color: #E8F0FE;\n",
              "      border: none;\n",
              "      border-radius: 50%;\n",
              "      cursor: pointer;\n",
              "      display: none;\n",
              "      fill: #1967D2;\n",
              "      height: 32px;\n",
              "      padding: 0 0 0 0;\n",
              "      width: 32px;\n",
              "    }\n",
              "\n",
              "    .colab-df-convert:hover {\n",
              "      background-color: #E2EBFA;\n",
              "      box-shadow: 0px 1px 2px rgba(60, 64, 67, 0.3), 0px 1px 3px 1px rgba(60, 64, 67, 0.15);\n",
              "      fill: #174EA6;\n",
              "    }\n",
              "\n",
              "    [theme=dark] .colab-df-convert {\n",
              "      background-color: #3B4455;\n",
              "      fill: #D2E3FC;\n",
              "    }\n",
              "\n",
              "    [theme=dark] .colab-df-convert:hover {\n",
              "      background-color: #434B5C;\n",
              "      box-shadow: 0px 1px 3px 1px rgba(0, 0, 0, 0.15);\n",
              "      filter: drop-shadow(0px 1px 2px rgba(0, 0, 0, 0.3));\n",
              "      fill: #FFFFFF;\n",
              "    }\n",
              "  </style>\n",
              "\n",
              "      <script>\n",
              "        const buttonEl =\n",
              "          document.querySelector('#df-fbfe183a-9532-4ad4-8bf3-df09cb3d350d button.colab-df-convert');\n",
              "        buttonEl.style.display =\n",
              "          google.colab.kernel.accessAllowed ? 'block' : 'none';\n",
              "\n",
              "        async function convertToInteractive(key) {\n",
              "          const element = document.querySelector('#df-fbfe183a-9532-4ad4-8bf3-df09cb3d350d');\n",
              "          const dataTable =\n",
              "            await google.colab.kernel.invokeFunction('convertToInteractive',\n",
              "                                                     [key], {});\n",
              "          if (!dataTable) return;\n",
              "\n",
              "          const docLinkHtml = 'Like what you see? Visit the ' +\n",
              "            '<a target=\"_blank\" href=https://colab.research.google.com/notebooks/data_table.ipynb>data table notebook</a>'\n",
              "            + ' to learn more about interactive tables.';\n",
              "          element.innerHTML = '';\n",
              "          dataTable['output_type'] = 'display_data';\n",
              "          await google.colab.output.renderOutput(dataTable, element);\n",
              "          const docLink = document.createElement('div');\n",
              "          docLink.innerHTML = docLinkHtml;\n",
              "          element.appendChild(docLink);\n",
              "        }\n",
              "      </script>\n",
              "    </div>\n",
              "  </div>\n",
              "  "
            ]
          },
          "metadata": {},
          "execution_count": 28
        }
      ],
      "id": "jOZnpxDaKWib"
    },
    {
      "cell_type": "code",
      "source": [
        "# nda_use_of_conf_info\n",
        "ner_model_use = legal.NerModel.pretrained(\"legner_nda_confidential_information_restricted\", \"en\", \"legal/models\")\\\n",
        "        .setInputCols([\"sentence\", \"token\", \"embeddings\"])\\\n",
        "        .setOutputCol(\"ner_use\")\n",
        "\n",
        "ner_converter_use = nlp.NerConverter()\\\n",
        "        .setInputCols([\"sentence\", \"token\", \"ner_use\"])\\\n",
        "        .setOutputCol(\"ner_chunk_use\")\n",
        "\n",
        "nlpPipeline = nlp.Pipeline(stages=[\n",
        "        document_assembler,\n",
        "        sentence_detector,\n",
        "        tokenizer,\n",
        "        embeddings,\n",
        "        ner_model_use,\n",
        "        ner_converter_use, \n",
        "        ])\n",
        "\n",
        "use_of_conf_info_sdf = spark.createDataFrame(use_of_conf_info_df)\n",
        "\n",
        "model = nlpPipeline.fit(use_of_conf_info_sdf)\n",
        "result = model.transform(use_of_conf_info_sdf)\n",
        "\n"
      ],
      "metadata": {
        "id": "udCBa1v0KWiy"
      },
      "execution_count": null,
      "outputs": [],
      "id": "udCBa1v0KWiy"
    },
    {
      "cell_type": "markdown",
      "source": [
        "###🧮 **NER Visualizer**\n",
        "For saving the visualization result as html, provide save_path parameter in the display function."
      ],
      "metadata": {
        "id": "AcVB2su1RJXL"
      },
      "id": "AcVB2su1RJXL"
    },
    {
      "cell_type": "code",
      "source": [
        "# Importing the necessary functions\n",
        "from pyspark.sql.functions import col\n",
        "\n",
        "result = model.transform(use_of_conf_info_sdf)\n",
        "\n",
        "result.select(F.explode(F.arrays_zip('ner_chunk_use.result', 'ner_chunk_use.metadata')).alias(\"cols\")) \\\n",
        "      .select(F.expr(\"cols['0']\").alias(\"ner_chunk\"),\n",
        "              F.expr(\"cols['1']['entity']\").alias(\"label\")).show(300,truncate = False)\n",
        "\n",
        "print(\"\\n\\n\")\n",
        "\n",
        "from sparknlp_display import NerVisualizer\n",
        "\n",
        "visualiser = NerVisualizer()\n",
        "for i in range(result.count()):\n",
        "  visualiser.display(result = result.collect()[i] ,label_col = 'ner_chunk_use', document_col = 'document')\n",
        "  print(\"\\n\\n\")"
      ],
      "metadata": {
        "colab": {
          "base_uri": "https://localhost:8080/",
          "height": 564
        },
        "outputId": "ad922573-7299-4042-c0e7-22577b57ec65",
        "id": "veiinsTqKWiy"
      },
      "execution_count": 30,
      "outputs": [
        {
          "output_type": "stream",
          "name": "stdout",
          "text": [
            "+-----------+---------------------+\n",
            "|ner_chunk  |label                |\n",
            "+-----------+---------------------+\n",
            "|disclose   |RESTRICTED_ACTION    |\n",
            "|disseminate|RESTRICTED_ACTION    |\n",
            "|reproduce  |RESTRICTED_ACTION    |\n",
            "|distribute |RESTRICTED_ACTION    |\n",
            "|information|RESTRICTED_OBJECT    |\n",
            "|third party|RESTRICTED_IND_OBJECT|\n",
            "+-----------+---------------------+\n",
            "\n",
            "\n",
            "\n",
            "\n"
          ]
        },
        {
          "output_type": "display_data",
          "data": {
            "text/plain": [
              "<IPython.core.display.HTML object>"
            ],
            "text/html": [
              "\n",
              "<style>\n",
              "    @import url('https://fonts.googleapis.com/css2?family=Montserrat:wght@300;400;500;600;700&display=swap');\n",
              "    @import url('https://fonts.googleapis.com/css2?family=Vistol Regular:wght@300;400;500;600;700&display=swap');\n",
              "    \n",
              "    .spark-nlp-display-scroll-entities {\n",
              "        border: 1px solid #E7EDF0;\n",
              "        border-radius: 3px;\n",
              "        text-align: justify;\n",
              "        \n",
              "    }\n",
              "    .spark-nlp-display-scroll-entities span {  \n",
              "        font-size: 14px;\n",
              "        line-height: 24px;\n",
              "        color: #536B76;\n",
              "        font-family: 'Montserrat', sans-serif !important;\n",
              "    }\n",
              "    \n",
              "    .spark-nlp-display-entity-wrapper{\n",
              "    \n",
              "        display: inline-grid;\n",
              "        text-align: center;\n",
              "        border-radius: 4px;\n",
              "        margin: 0 2px 5px 2px;\n",
              "        padding: 1px\n",
              "    }\n",
              "    .spark-nlp-display-entity-name{\n",
              "        font-size: 14px;\n",
              "        line-height: 24px;\n",
              "        font-family: 'Montserrat', sans-serif !important;\n",
              "        \n",
              "        background: #f1f2f3;\n",
              "        border-width: medium;\n",
              "        text-align: center;\n",
              "        \n",
              "        font-weight: 400;\n",
              "        \n",
              "        border-radius: 5px;\n",
              "        padding: 2px 5px;\n",
              "        display: block;\n",
              "        margin: 3px 2px;\n",
              "    \n",
              "    }\n",
              "    .spark-nlp-display-entity-type{\n",
              "        font-size: 14px;\n",
              "        line-height: 24px;\n",
              "        color: #ffffff;\n",
              "        font-family: 'Montserrat', sans-serif !important;\n",
              "        \n",
              "        text-transform: uppercase;\n",
              "        \n",
              "        font-weight: 500;\n",
              "\n",
              "        display: block;\n",
              "        padding: 3px 5px;\n",
              "    }\n",
              "    \n",
              "    .spark-nlp-display-entity-resolution{\n",
              "        font-size: 14px;\n",
              "        line-height: 24px;\n",
              "        color: #ffffff;\n",
              "        font-family: 'Vistol Regular', sans-serif !important;\n",
              "        \n",
              "        text-transform: uppercase;\n",
              "        \n",
              "        font-weight: 500;\n",
              "\n",
              "        display: block;\n",
              "        padding: 3px 5px;\n",
              "    }\n",
              "    \n",
              "    .spark-nlp-display-others{\n",
              "        font-size: 14px;\n",
              "        line-height: 24px;\n",
              "        font-family: 'Montserrat', sans-serif !important;\n",
              "        \n",
              "        font-weight: 400;\n",
              "    }\n",
              "\n",
              "</style>\n",
              " <span class=\"spark-nlp-display-others\" style=\"background-color: white\">(i) not to </span><span class=\"spark-nlp-display-entity-wrapper\" style=\"background-color: #4DB7B8\"><span class=\"spark-nlp-display-entity-name\">disclose </span><span class=\"spark-nlp-display-entity-type\">RESTRICTED_ACTION</span></span><span class=\"spark-nlp-display-others\" style=\"background-color: white\">,<br>     </span><span class=\"spark-nlp-display-entity-wrapper\" style=\"background-color: #4DB7B8\"><span class=\"spark-nlp-display-entity-name\">disseminate </span><span class=\"spark-nlp-display-entity-type\">RESTRICTED_ACTION</span></span><span class=\"spark-nlp-display-others\" style=\"background-color: white\">, </span><span class=\"spark-nlp-display-entity-wrapper\" style=\"background-color: #4DB7B8\"><span class=\"spark-nlp-display-entity-name\">reproduce </span><span class=\"spark-nlp-display-entity-type\">RESTRICTED_ACTION</span></span><span class=\"spark-nlp-display-others\" style=\"background-color: white\"> or otherwise </span><span class=\"spark-nlp-display-entity-wrapper\" style=\"background-color: #4DB7B8\"><span class=\"spark-nlp-display-entity-name\">distribute </span><span class=\"spark-nlp-display-entity-type\">RESTRICTED_ACTION</span></span><span class=\"spark-nlp-display-others\" style=\"background-color: white\"> such </span><span class=\"spark-nlp-display-entity-wrapper\" style=\"background-color: #951AB7\"><span class=\"spark-nlp-display-entity-name\">information </span><span class=\"spark-nlp-display-entity-type\">RESTRICTED_OBJECT</span></span><span class=\"spark-nlp-display-others\" style=\"background-color: white\"> and<br>     materials to any </span><span class=\"spark-nlp-display-entity-wrapper\" style=\"background-color: #4217C5\"><span class=\"spark-nlp-display-entity-name\">third party </span><span class=\"spark-nlp-display-entity-type\">RESTRICTED_IND_OBJECT</span></span><span class=\"spark-nlp-display-others\" style=\"background-color: white\">, except a governmental judicial authority's<br>     issued order and</span></div>"
            ]
          },
          "metadata": {}
        },
        {
          "output_type": "stream",
          "name": "stdout",
          "text": [
            "\n",
            "\n",
            "\n"
          ]
        }
      ],
      "id": "veiinsTqKWiy"
    },
    {
      "cell_type": "markdown",
      "source": [
        "## 📌 **`ASSIGNMENT` CLAUSE-SPECIFIC NER**"
      ],
      "metadata": {
        "id": "yKhoTIghLriF"
      },
      "id": "yKhoTIghLriF"
    },
    {
      "cell_type": "code",
      "source": [
        "assign_df = class_texts_df[class_texts_df['class']=='ASSIGNMENT']\n",
        "assign_df"
      ],
      "metadata": {
        "id": "UEJART9GL3M9",
        "colab": {
          "base_uri": "https://localhost:8080/",
          "height": 81
        },
        "outputId": "b2c1ee5b-4dd8-4d5d-adf0-1dc806c1f000"
      },
      "execution_count": 32,
      "outputs": [
        {
          "output_type": "execute_result",
          "data": {
            "text/plain": [
              "                                                 text       class\n",
              "21  This represents the entire agreement of the pa...  ASSIGNMENT"
            ],
            "text/html": [
              "\n",
              "  <div id=\"df-b0948846-ca0f-4688-bb7a-ee46f19bb446\">\n",
              "    <div class=\"colab-df-container\">\n",
              "      <div>\n",
              "<style scoped>\n",
              "    .dataframe tbody tr th:only-of-type {\n",
              "        vertical-align: middle;\n",
              "    }\n",
              "\n",
              "    .dataframe tbody tr th {\n",
              "        vertical-align: top;\n",
              "    }\n",
              "\n",
              "    .dataframe thead th {\n",
              "        text-align: right;\n",
              "    }\n",
              "</style>\n",
              "<table border=\"1\" class=\"dataframe\">\n",
              "  <thead>\n",
              "    <tr style=\"text-align: right;\">\n",
              "      <th></th>\n",
              "      <th>text</th>\n",
              "      <th>class</th>\n",
              "    </tr>\n",
              "  </thead>\n",
              "  <tbody>\n",
              "    <tr>\n",
              "      <th>21</th>\n",
              "      <td>This represents the entire agreement of the pa...</td>\n",
              "      <td>ASSIGNMENT</td>\n",
              "    </tr>\n",
              "  </tbody>\n",
              "</table>\n",
              "</div>\n",
              "      <button class=\"colab-df-convert\" onclick=\"convertToInteractive('df-b0948846-ca0f-4688-bb7a-ee46f19bb446')\"\n",
              "              title=\"Convert this dataframe to an interactive table.\"\n",
              "              style=\"display:none;\">\n",
              "        \n",
              "  <svg xmlns=\"http://www.w3.org/2000/svg\" height=\"24px\"viewBox=\"0 0 24 24\"\n",
              "       width=\"24px\">\n",
              "    <path d=\"M0 0h24v24H0V0z\" fill=\"none\"/>\n",
              "    <path d=\"M18.56 5.44l.94 2.06.94-2.06 2.06-.94-2.06-.94-.94-2.06-.94 2.06-2.06.94zm-11 1L8.5 8.5l.94-2.06 2.06-.94-2.06-.94L8.5 2.5l-.94 2.06-2.06.94zm10 10l.94 2.06.94-2.06 2.06-.94-2.06-.94-.94-2.06-.94 2.06-2.06.94z\"/><path d=\"M17.41 7.96l-1.37-1.37c-.4-.4-.92-.59-1.43-.59-.52 0-1.04.2-1.43.59L10.3 9.45l-7.72 7.72c-.78.78-.78 2.05 0 2.83L4 21.41c.39.39.9.59 1.41.59.51 0 1.02-.2 1.41-.59l7.78-7.78 2.81-2.81c.8-.78.8-2.07 0-2.86zM5.41 20L4 18.59l7.72-7.72 1.47 1.35L5.41 20z\"/>\n",
              "  </svg>\n",
              "      </button>\n",
              "      \n",
              "  <style>\n",
              "    .colab-df-container {\n",
              "      display:flex;\n",
              "      flex-wrap:wrap;\n",
              "      gap: 12px;\n",
              "    }\n",
              "\n",
              "    .colab-df-convert {\n",
              "      background-color: #E8F0FE;\n",
              "      border: none;\n",
              "      border-radius: 50%;\n",
              "      cursor: pointer;\n",
              "      display: none;\n",
              "      fill: #1967D2;\n",
              "      height: 32px;\n",
              "      padding: 0 0 0 0;\n",
              "      width: 32px;\n",
              "    }\n",
              "\n",
              "    .colab-df-convert:hover {\n",
              "      background-color: #E2EBFA;\n",
              "      box-shadow: 0px 1px 2px rgba(60, 64, 67, 0.3), 0px 1px 3px 1px rgba(60, 64, 67, 0.15);\n",
              "      fill: #174EA6;\n",
              "    }\n",
              "\n",
              "    [theme=dark] .colab-df-convert {\n",
              "      background-color: #3B4455;\n",
              "      fill: #D2E3FC;\n",
              "    }\n",
              "\n",
              "    [theme=dark] .colab-df-convert:hover {\n",
              "      background-color: #434B5C;\n",
              "      box-shadow: 0px 1px 3px 1px rgba(0, 0, 0, 0.15);\n",
              "      filter: drop-shadow(0px 1px 2px rgba(0, 0, 0, 0.3));\n",
              "      fill: #FFFFFF;\n",
              "    }\n",
              "  </style>\n",
              "\n",
              "      <script>\n",
              "        const buttonEl =\n",
              "          document.querySelector('#df-b0948846-ca0f-4688-bb7a-ee46f19bb446 button.colab-df-convert');\n",
              "        buttonEl.style.display =\n",
              "          google.colab.kernel.accessAllowed ? 'block' : 'none';\n",
              "\n",
              "        async function convertToInteractive(key) {\n",
              "          const element = document.querySelector('#df-b0948846-ca0f-4688-bb7a-ee46f19bb446');\n",
              "          const dataTable =\n",
              "            await google.colab.kernel.invokeFunction('convertToInteractive',\n",
              "                                                     [key], {});\n",
              "          if (!dataTable) return;\n",
              "\n",
              "          const docLinkHtml = 'Like what you see? Visit the ' +\n",
              "            '<a target=\"_blank\" href=https://colab.research.google.com/notebooks/data_table.ipynb>data table notebook</a>'\n",
              "            + ' to learn more about interactive tables.';\n",
              "          element.innerHTML = '';\n",
              "          dataTable['output_type'] = 'display_data';\n",
              "          await google.colab.output.renderOutput(dataTable, element);\n",
              "          const docLink = document.createElement('div');\n",
              "          docLink.innerHTML = docLinkHtml;\n",
              "          element.appendChild(docLink);\n",
              "        }\n",
              "      </script>\n",
              "    </div>\n",
              "  </div>\n",
              "  "
            ]
          },
          "metadata": {},
          "execution_count": 32
        }
      ],
      "id": "UEJART9GL3M9"
    },
    {
      "cell_type": "code",
      "source": [
        "# nda_assigment\n",
        "ner_model_assigment = legal.NerModel.pretrained(\"legner_nda_assigment\", \"en\", \"legal/models\")\\\n",
        "        .setInputCols([\"sentence\", \"token\", \"embeddings\"])\\\n",
        "        .setOutputCol(\"ner_assigment\")\n",
        "\n",
        "ner_converter_assigment = nlp.NerConverter()\\\n",
        "        .setInputCols([\"sentence\", \"token\", \"ner_assigment\"])\\\n",
        "        .setOutputCol(\"ner_chunk_assigment\")\n",
        "\n",
        "nlpPipeline = nlp.Pipeline(stages=[\n",
        "        document_assembler,\n",
        "        sentence_detector,\n",
        "        tokenizer,\n",
        "        embeddings,\n",
        "        ner_model_assigment,\n",
        "        ner_converter_assigment, \n",
        "        ])\n",
        "\n",
        "assign_sdf = spark.createDataFrame(assign_df)\n",
        "\n",
        "model = nlpPipeline.fit(assign_sdf)\n",
        "result = model.transform(assign_sdf)"
      ],
      "metadata": {
        "id": "s6deON1xL3NF"
      },
      "execution_count": null,
      "outputs": [],
      "id": "s6deON1xL3NF"
    },
    {
      "cell_type": "markdown",
      "source": [
        "###🧮 **NER Visualizer**\n",
        "For saving the visualization result as html, provide save_path parameter in the display function."
      ],
      "metadata": {
        "id": "JoLetceQRLM5"
      },
      "id": "JoLetceQRLM5"
    },
    {
      "cell_type": "code",
      "source": [
        "# Importing the necessary functions\n",
        "from pyspark.sql.functions import col\n",
        "\n",
        "result = model.transform(assign_sdf)\n",
        "\n",
        "result.select(F.explode(F.arrays_zip('ner_chunk_assigment.result', 'ner_chunk_assigment.metadata')).alias(\"cols\")) \\\n",
        "      .select(F.expr(\"cols['0']\").alias(\"ner_chunk\"),\n",
        "              F.expr(\"cols['1']['entity']\").alias(\"label\")).show(300,truncate = False)\n",
        "\n",
        "print(\"\\n\\n\")\n",
        "\n",
        "from sparknlp_display import NerVisualizer\n",
        "\n",
        "visualiser = NerVisualizer()\n",
        "for i in range(result.count()):\n",
        "  visualiser.display(result = result.collect()[i] ,label_col = 'ner_chunk_assigment', document_col = 'document')\n",
        "  print(\"\\n\\n\")"
      ],
      "metadata": {
        "colab": {
          "base_uri": "https://localhost:8080/",
          "height": 290
        },
        "outputId": "40cf33ad-1c1b-4b47-af99-aeaf9f8165a2",
        "id": "qW9yBD5VL3NF"
      },
      "execution_count": 34,
      "outputs": [
        {
          "output_type": "stream",
          "name": "stdout",
          "text": [
            "+---------+-----+\n",
            "|ner_chunk|label|\n",
            "+---------+-----+\n",
            "+---------+-----+\n",
            "\n",
            "\n",
            "\n",
            "\n"
          ]
        },
        {
          "output_type": "display_data",
          "data": {
            "text/plain": [
              "<IPython.core.display.HTML object>"
            ],
            "text/html": [
              "\n",
              "<style>\n",
              "    @import url('https://fonts.googleapis.com/css2?family=Montserrat:wght@300;400;500;600;700&display=swap');\n",
              "    @import url('https://fonts.googleapis.com/css2?family=Vistol Regular:wght@300;400;500;600;700&display=swap');\n",
              "    \n",
              "    .spark-nlp-display-scroll-entities {\n",
              "        border: 1px solid #E7EDF0;\n",
              "        border-radius: 3px;\n",
              "        text-align: justify;\n",
              "        \n",
              "    }\n",
              "    .spark-nlp-display-scroll-entities span {  \n",
              "        font-size: 14px;\n",
              "        line-height: 24px;\n",
              "        color: #536B76;\n",
              "        font-family: 'Montserrat', sans-serif !important;\n",
              "    }\n",
              "    \n",
              "    .spark-nlp-display-entity-wrapper{\n",
              "    \n",
              "        display: inline-grid;\n",
              "        text-align: center;\n",
              "        border-radius: 4px;\n",
              "        margin: 0 2px 5px 2px;\n",
              "        padding: 1px\n",
              "    }\n",
              "    .spark-nlp-display-entity-name{\n",
              "        font-size: 14px;\n",
              "        line-height: 24px;\n",
              "        font-family: 'Montserrat', sans-serif !important;\n",
              "        \n",
              "        background: #f1f2f3;\n",
              "        border-width: medium;\n",
              "        text-align: center;\n",
              "        \n",
              "        font-weight: 400;\n",
              "        \n",
              "        border-radius: 5px;\n",
              "        padding: 2px 5px;\n",
              "        display: block;\n",
              "        margin: 3px 2px;\n",
              "    \n",
              "    }\n",
              "    .spark-nlp-display-entity-type{\n",
              "        font-size: 14px;\n",
              "        line-height: 24px;\n",
              "        color: #ffffff;\n",
              "        font-family: 'Montserrat', sans-serif !important;\n",
              "        \n",
              "        text-transform: uppercase;\n",
              "        \n",
              "        font-weight: 500;\n",
              "\n",
              "        display: block;\n",
              "        padding: 3px 5px;\n",
              "    }\n",
              "    \n",
              "    .spark-nlp-display-entity-resolution{\n",
              "        font-size: 14px;\n",
              "        line-height: 24px;\n",
              "        color: #ffffff;\n",
              "        font-family: 'Vistol Regular', sans-serif !important;\n",
              "        \n",
              "        text-transform: uppercase;\n",
              "        \n",
              "        font-weight: 500;\n",
              "\n",
              "        display: block;\n",
              "        padding: 3px 5px;\n",
              "    }\n",
              "    \n",
              "    .spark-nlp-display-others{\n",
              "        font-size: 14px;\n",
              "        line-height: 24px;\n",
              "        font-family: 'Montserrat', sans-serif !important;\n",
              "        \n",
              "        font-weight: 400;\n",
              "    }\n",
              "\n",
              "</style>\n",
              " <span class=\"spark-nlp-display-others\" style=\"background-color: white\">This represents the entire agreement of the parties relative to the subject<br>matter and shall be governed and construed under the laws of the Commonwealth of<br>Virginia.</span></div>"
            ]
          },
          "metadata": {}
        },
        {
          "output_type": "stream",
          "name": "stdout",
          "text": [
            "\n",
            "\n",
            "\n"
          ]
        }
      ],
      "id": "qW9yBD5VL3NF"
    },
    {
      "cell_type": "markdown",
      "source": [
        "## 📌 **`EXCEPTIONS` CLAUSE-SPECIFIC NER**"
      ],
      "metadata": {
        "id": "kPepeqefMbqv"
      },
      "id": "kPepeqefMbqv"
    },
    {
      "cell_type": "code",
      "source": [
        "exceptions_df = class_texts_df[class_texts_df['class']=='EXCEPTIONS']\n",
        "exceptions_df"
      ],
      "metadata": {
        "id": "C6VxKSVwM2bH",
        "colab": {
          "base_uri": "https://localhost:8080/",
          "height": 81
        },
        "outputId": "63c8db8e-a455-46a3-ee7d-14862d8636f5"
      },
      "execution_count": 35,
      "outputs": [
        {
          "output_type": "execute_result",
          "data": {
            "text/plain": [
              "                                                 text       class\n",
              "18  (ii) is known to the Recipient prior to disclo...  EXCEPTIONS"
            ],
            "text/html": [
              "\n",
              "  <div id=\"df-33cd77c3-1180-49c6-ab31-a3be76a83c23\">\n",
              "    <div class=\"colab-df-container\">\n",
              "      <div>\n",
              "<style scoped>\n",
              "    .dataframe tbody tr th:only-of-type {\n",
              "        vertical-align: middle;\n",
              "    }\n",
              "\n",
              "    .dataframe tbody tr th {\n",
              "        vertical-align: top;\n",
              "    }\n",
              "\n",
              "    .dataframe thead th {\n",
              "        text-align: right;\n",
              "    }\n",
              "</style>\n",
              "<table border=\"1\" class=\"dataframe\">\n",
              "  <thead>\n",
              "    <tr style=\"text-align: right;\">\n",
              "      <th></th>\n",
              "      <th>text</th>\n",
              "      <th>class</th>\n",
              "    </tr>\n",
              "  </thead>\n",
              "  <tbody>\n",
              "    <tr>\n",
              "      <th>18</th>\n",
              "      <td>(ii) is known to the Recipient prior to disclo...</td>\n",
              "      <td>EXCEPTIONS</td>\n",
              "    </tr>\n",
              "  </tbody>\n",
              "</table>\n",
              "</div>\n",
              "      <button class=\"colab-df-convert\" onclick=\"convertToInteractive('df-33cd77c3-1180-49c6-ab31-a3be76a83c23')\"\n",
              "              title=\"Convert this dataframe to an interactive table.\"\n",
              "              style=\"display:none;\">\n",
              "        \n",
              "  <svg xmlns=\"http://www.w3.org/2000/svg\" height=\"24px\"viewBox=\"0 0 24 24\"\n",
              "       width=\"24px\">\n",
              "    <path d=\"M0 0h24v24H0V0z\" fill=\"none\"/>\n",
              "    <path d=\"M18.56 5.44l.94 2.06.94-2.06 2.06-.94-2.06-.94-.94-2.06-.94 2.06-2.06.94zm-11 1L8.5 8.5l.94-2.06 2.06-.94-2.06-.94L8.5 2.5l-.94 2.06-2.06.94zm10 10l.94 2.06.94-2.06 2.06-.94-2.06-.94-.94-2.06-.94 2.06-2.06.94z\"/><path d=\"M17.41 7.96l-1.37-1.37c-.4-.4-.92-.59-1.43-.59-.52 0-1.04.2-1.43.59L10.3 9.45l-7.72 7.72c-.78.78-.78 2.05 0 2.83L4 21.41c.39.39.9.59 1.41.59.51 0 1.02-.2 1.41-.59l7.78-7.78 2.81-2.81c.8-.78.8-2.07 0-2.86zM5.41 20L4 18.59l7.72-7.72 1.47 1.35L5.41 20z\"/>\n",
              "  </svg>\n",
              "      </button>\n",
              "      \n",
              "  <style>\n",
              "    .colab-df-container {\n",
              "      display:flex;\n",
              "      flex-wrap:wrap;\n",
              "      gap: 12px;\n",
              "    }\n",
              "\n",
              "    .colab-df-convert {\n",
              "      background-color: #E8F0FE;\n",
              "      border: none;\n",
              "      border-radius: 50%;\n",
              "      cursor: pointer;\n",
              "      display: none;\n",
              "      fill: #1967D2;\n",
              "      height: 32px;\n",
              "      padding: 0 0 0 0;\n",
              "      width: 32px;\n",
              "    }\n",
              "\n",
              "    .colab-df-convert:hover {\n",
              "      background-color: #E2EBFA;\n",
              "      box-shadow: 0px 1px 2px rgba(60, 64, 67, 0.3), 0px 1px 3px 1px rgba(60, 64, 67, 0.15);\n",
              "      fill: #174EA6;\n",
              "    }\n",
              "\n",
              "    [theme=dark] .colab-df-convert {\n",
              "      background-color: #3B4455;\n",
              "      fill: #D2E3FC;\n",
              "    }\n",
              "\n",
              "    [theme=dark] .colab-df-convert:hover {\n",
              "      background-color: #434B5C;\n",
              "      box-shadow: 0px 1px 3px 1px rgba(0, 0, 0, 0.15);\n",
              "      filter: drop-shadow(0px 1px 2px rgba(0, 0, 0, 0.3));\n",
              "      fill: #FFFFFF;\n",
              "    }\n",
              "  </style>\n",
              "\n",
              "      <script>\n",
              "        const buttonEl =\n",
              "          document.querySelector('#df-33cd77c3-1180-49c6-ab31-a3be76a83c23 button.colab-df-convert');\n",
              "        buttonEl.style.display =\n",
              "          google.colab.kernel.accessAllowed ? 'block' : 'none';\n",
              "\n",
              "        async function convertToInteractive(key) {\n",
              "          const element = document.querySelector('#df-33cd77c3-1180-49c6-ab31-a3be76a83c23');\n",
              "          const dataTable =\n",
              "            await google.colab.kernel.invokeFunction('convertToInteractive',\n",
              "                                                     [key], {});\n",
              "          if (!dataTable) return;\n",
              "\n",
              "          const docLinkHtml = 'Like what you see? Visit the ' +\n",
              "            '<a target=\"_blank\" href=https://colab.research.google.com/notebooks/data_table.ipynb>data table notebook</a>'\n",
              "            + ' to learn more about interactive tables.';\n",
              "          element.innerHTML = '';\n",
              "          dataTable['output_type'] = 'display_data';\n",
              "          await google.colab.output.renderOutput(dataTable, element);\n",
              "          const docLink = document.createElement('div');\n",
              "          docLink.innerHTML = docLinkHtml;\n",
              "          element.appendChild(docLink);\n",
              "        }\n",
              "      </script>\n",
              "    </div>\n",
              "  </div>\n",
              "  "
            ]
          },
          "metadata": {},
          "execution_count": 35
        }
      ],
      "id": "C6VxKSVwM2bH"
    },
    {
      "cell_type": "code",
      "source": [
        "# nda_exceptions\n",
        "ner_model_exceptions = legal.NerModel.pretrained(\"legner_nda_exceptions\", \"en\", \"legal/models\")\\\n",
        "        .setInputCols([\"sentence\", \"token\", \"embeddings\"])\\\n",
        "        .setOutputCol(\"ner_exceptions\")\n",
        "\n",
        "ner_converter_exceptions = nlp.NerConverter()\\\n",
        "        .setInputCols([\"sentence\", \"token\", \"ner_exceptions\"])\\\n",
        "        .setOutputCol(\"ner_chunk_exceptions\")\n",
        "\n",
        "nlpPipeline = nlp.Pipeline(stages=[\n",
        "        document_assembler,\n",
        "        sentence_detector,\n",
        "        tokenizer,\n",
        "        embeddings,\n",
        "        ner_model_exceptions,\n",
        "        ner_converter_exceptions, \n",
        "        ])\n",
        "\n",
        "exceptions_sdf = spark.createDataFrame(exceptions_df)\n",
        "\n",
        "model = nlpPipeline.fit(exceptions_sdf)\n",
        "result = model.transform(exceptions_sdf)"
      ],
      "metadata": {
        "id": "NCyGSgXdM2bQ"
      },
      "execution_count": null,
      "outputs": [],
      "id": "NCyGSgXdM2bQ"
    },
    {
      "cell_type": "markdown",
      "source": [
        "###🧮 **NER Visualizer**\n",
        "For saving the visualization result as html, provide save_path parameter in the display function."
      ],
      "metadata": {
        "id": "brxChDS0RNQV"
      },
      "id": "brxChDS0RNQV"
    },
    {
      "cell_type": "code",
      "source": [
        "# Importing the necessary functions\n",
        "from pyspark.sql.functions import col\n",
        "\n",
        "result = model.transform(exceptions_sdf)\n",
        "\n",
        "result.select(F.explode(F.arrays_zip('ner_chunk_exceptions.result', 'ner_chunk_exceptions.metadata')).alias(\"cols\")) \\\n",
        "      .select(F.expr(\"cols['0']\").alias(\"ner_chunk\"),\n",
        "              F.expr(\"cols['1']['entity']\").alias(\"label\")).show(300,truncate = False)\n",
        "\n",
        "print(\"\\n\\n\")\n",
        "\n",
        "from sparknlp_display import NerVisualizer\n",
        "\n",
        "visualiser = NerVisualizer()\n",
        "for i in range(result.count()):\n",
        "  visualiser.display(result = result.collect()[i] ,label_col = 'ner_chunk_exceptions', document_col = 'document')\n",
        "  print(\"\\n\\n\")"
      ],
      "metadata": {
        "colab": {
          "base_uri": "https://localhost:8080/",
          "height": 325
        },
        "outputId": "c669c39a-1b90-4880-e34d-9248547b8f87",
        "id": "Kkv5HiaiM2bQ"
      },
      "execution_count": 37,
      "outputs": [
        {
          "output_type": "stream",
          "name": "stdout",
          "text": [
            "+---------+----------------+\n",
            "|ner_chunk|label           |\n",
            "+---------+----------------+\n",
            "|known    |EXCLUDED_INFO   |\n",
            "|prior to |EXCLUSION_GROUND|\n",
            "+---------+----------------+\n",
            "\n",
            "\n",
            "\n",
            "\n"
          ]
        },
        {
          "output_type": "display_data",
          "data": {
            "text/plain": [
              "<IPython.core.display.HTML object>"
            ],
            "text/html": [
              "\n",
              "<style>\n",
              "    @import url('https://fonts.googleapis.com/css2?family=Montserrat:wght@300;400;500;600;700&display=swap');\n",
              "    @import url('https://fonts.googleapis.com/css2?family=Vistol Regular:wght@300;400;500;600;700&display=swap');\n",
              "    \n",
              "    .spark-nlp-display-scroll-entities {\n",
              "        border: 1px solid #E7EDF0;\n",
              "        border-radius: 3px;\n",
              "        text-align: justify;\n",
              "        \n",
              "    }\n",
              "    .spark-nlp-display-scroll-entities span {  \n",
              "        font-size: 14px;\n",
              "        line-height: 24px;\n",
              "        color: #536B76;\n",
              "        font-family: 'Montserrat', sans-serif !important;\n",
              "    }\n",
              "    \n",
              "    .spark-nlp-display-entity-wrapper{\n",
              "    \n",
              "        display: inline-grid;\n",
              "        text-align: center;\n",
              "        border-radius: 4px;\n",
              "        margin: 0 2px 5px 2px;\n",
              "        padding: 1px\n",
              "    }\n",
              "    .spark-nlp-display-entity-name{\n",
              "        font-size: 14px;\n",
              "        line-height: 24px;\n",
              "        font-family: 'Montserrat', sans-serif !important;\n",
              "        \n",
              "        background: #f1f2f3;\n",
              "        border-width: medium;\n",
              "        text-align: center;\n",
              "        \n",
              "        font-weight: 400;\n",
              "        \n",
              "        border-radius: 5px;\n",
              "        padding: 2px 5px;\n",
              "        display: block;\n",
              "        margin: 3px 2px;\n",
              "    \n",
              "    }\n",
              "    .spark-nlp-display-entity-type{\n",
              "        font-size: 14px;\n",
              "        line-height: 24px;\n",
              "        color: #ffffff;\n",
              "        font-family: 'Montserrat', sans-serif !important;\n",
              "        \n",
              "        text-transform: uppercase;\n",
              "        \n",
              "        font-weight: 500;\n",
              "\n",
              "        display: block;\n",
              "        padding: 3px 5px;\n",
              "    }\n",
              "    \n",
              "    .spark-nlp-display-entity-resolution{\n",
              "        font-size: 14px;\n",
              "        line-height: 24px;\n",
              "        color: #ffffff;\n",
              "        font-family: 'Vistol Regular', sans-serif !important;\n",
              "        \n",
              "        text-transform: uppercase;\n",
              "        \n",
              "        font-weight: 500;\n",
              "\n",
              "        display: block;\n",
              "        padding: 3px 5px;\n",
              "    }\n",
              "    \n",
              "    .spark-nlp-display-others{\n",
              "        font-size: 14px;\n",
              "        line-height: 24px;\n",
              "        font-family: 'Montserrat', sans-serif !important;\n",
              "        \n",
              "        font-weight: 400;\n",
              "    }\n",
              "\n",
              "</style>\n",
              " <span class=\"spark-nlp-display-others\" style=\"background-color: white\">(ii) is </span><span class=\"spark-nlp-display-entity-wrapper\" style=\"background-color: #9DC3AC\"><span class=\"spark-nlp-display-entity-name\">known </span><span class=\"spark-nlp-display-entity-type\">EXCLUDED_INFO</span></span><span class=\"spark-nlp-display-others\" style=\"background-color: white\"> to the Recipient </span><span class=\"spark-nlp-display-entity-wrapper\" style=\"background-color: #610C98\"><span class=\"spark-nlp-display-entity-name\">prior to </span><span class=\"spark-nlp-display-entity-type\">EXCLUSION_GROUND</span></span><span class=\"spark-nlp-display-others\" style=\"background-color: white\"> disclosure hereunder,</span></div>"
            ]
          },
          "metadata": {}
        },
        {
          "output_type": "stream",
          "name": "stdout",
          "text": [
            "\n",
            "\n",
            "\n"
          ]
        }
      ],
      "id": "Kkv5HiaiM2bQ"
    },
    {
      "cell_type": "markdown",
      "source": [
        "## 📌 **Legal Pretrained Pipeline**"
      ],
      "metadata": {
        "id": "qg-xVhItQeHK"
      },
      "id": "qg-xVhItQeHK"
    },
    {
      "cell_type": "code",
      "source": [
        "legal_pipeline = nlp.PretrainedPipeline(\"legpipe_ner_contract_doc_parties_alias_former\", \"en\", \"legal/models\")\n",
        "\n",
        "result = legal_pipeline.annotate(text)"
      ],
      "metadata": {
        "id": "gnNq1ZkDMJgG"
      },
      "id": "gnNq1ZkDMJgG",
      "execution_count": null,
      "outputs": []
    },
    {
      "cell_type": "code",
      "source": [
        "result = legal_pipeline.fullAnnotate(text)[0]"
      ],
      "metadata": {
        "id": "Ll6V-AElO54t"
      },
      "id": "Ll6V-AElO54t",
      "execution_count": 39,
      "outputs": []
    },
    {
      "cell_type": "markdown",
      "source": [
        "###🧮 **NER Visualizer**\n",
        "For saving the visualization result as html, provide save_path parameter in the display function."
      ],
      "metadata": {
        "id": "yFTBW2MbRPbM"
      },
      "id": "yFTBW2MbRPbM"
    },
    {
      "cell_type": "code",
      "source": [
        "from johnsnowlabs import viz\n",
        "ner_viz = viz.NerVisualizer()\n",
        "ner_viz.display(result, label_col='ner_chunk')"
      ],
      "metadata": {
        "colab": {
          "base_uri": "https://localhost:8080/",
          "height": 1000
        },
        "id": "Sb_M3ETxO7-s",
        "outputId": "6c8b7f62-690e-49fa-a0e4-ae43e3df582e"
      },
      "id": "Sb_M3ETxO7-s",
      "execution_count": 40,
      "outputs": [
        {
          "output_type": "display_data",
          "data": {
            "text/plain": [
              "<IPython.core.display.HTML object>"
            ],
            "text/html": [
              "\n",
              "<style>\n",
              "    @import url('https://fonts.googleapis.com/css2?family=Montserrat:wght@300;400;500;600;700&display=swap');\n",
              "    @import url('https://fonts.googleapis.com/css2?family=Vistol Regular:wght@300;400;500;600;700&display=swap');\n",
              "    \n",
              "    .spark-nlp-display-scroll-entities {\n",
              "        border: 1px solid #E7EDF0;\n",
              "        border-radius: 3px;\n",
              "        text-align: justify;\n",
              "        \n",
              "    }\n",
              "    .spark-nlp-display-scroll-entities span {  \n",
              "        font-size: 14px;\n",
              "        line-height: 24px;\n",
              "        color: #536B76;\n",
              "        font-family: 'Montserrat', sans-serif !important;\n",
              "    }\n",
              "    \n",
              "    .spark-nlp-display-entity-wrapper{\n",
              "    \n",
              "        display: inline-grid;\n",
              "        text-align: center;\n",
              "        border-radius: 4px;\n",
              "        margin: 0 2px 5px 2px;\n",
              "        padding: 1px\n",
              "    }\n",
              "    .spark-nlp-display-entity-name{\n",
              "        font-size: 14px;\n",
              "        line-height: 24px;\n",
              "        font-family: 'Montserrat', sans-serif !important;\n",
              "        \n",
              "        background: #f1f2f3;\n",
              "        border-width: medium;\n",
              "        text-align: center;\n",
              "        \n",
              "        font-weight: 400;\n",
              "        \n",
              "        border-radius: 5px;\n",
              "        padding: 2px 5px;\n",
              "        display: block;\n",
              "        margin: 3px 2px;\n",
              "    \n",
              "    }\n",
              "    .spark-nlp-display-entity-type{\n",
              "        font-size: 14px;\n",
              "        line-height: 24px;\n",
              "        color: #ffffff;\n",
              "        font-family: 'Montserrat', sans-serif !important;\n",
              "        \n",
              "        text-transform: uppercase;\n",
              "        \n",
              "        font-weight: 500;\n",
              "\n",
              "        display: block;\n",
              "        padding: 3px 5px;\n",
              "    }\n",
              "    \n",
              "    .spark-nlp-display-entity-resolution{\n",
              "        font-size: 14px;\n",
              "        line-height: 24px;\n",
              "        color: #ffffff;\n",
              "        font-family: 'Vistol Regular', sans-serif !important;\n",
              "        \n",
              "        text-transform: uppercase;\n",
              "        \n",
              "        font-weight: 500;\n",
              "\n",
              "        display: block;\n",
              "        padding: 3px 5px;\n",
              "    }\n",
              "    \n",
              "    .spark-nlp-display-others{\n",
              "        font-size: 14px;\n",
              "        line-height: 24px;\n",
              "        font-family: 'Montserrat', sans-serif !important;\n",
              "        \n",
              "        font-weight: 400;\n",
              "    }\n",
              "\n",
              "</style>\n",
              " <span class=\"spark-nlp-display-others\" style=\"background-color: white\">                        Non-Disclosure Agreement<br><br>This Agreement is made between </span><span class=\"spark-nlp-display-entity-wrapper\" style=\"background-color: #4DBB00\"><span class=\"spark-nlp-display-entity-name\">CELERITY SYSTEMS, INC </span><span class=\"spark-nlp-display-entity-type\">PARTY</span></span><span class=\"spark-nlp-display-others\" style=\"background-color: white\">., (\"</span><span class=\"spark-nlp-display-entity-wrapper\" style=\"background-color: #474D81\"><span class=\"spark-nlp-display-entity-name\">CELERITY </span><span class=\"spark-nlp-display-entity-type\">ALIAS</span></span><span class=\"spark-nlp-display-others\" style=\"background-color: white\">\") and </span><span class=\"spark-nlp-display-entity-wrapper\" style=\"background-color: #4DBB00\"><span class=\"spark-nlp-display-entity-name\">UNISYS<br>Corporation - Federal Systems Division </span><span class=\"spark-nlp-display-entity-type\">PARTY</span></span><span class=\"spark-nlp-display-others\" style=\"background-color: white\">. (\"</span><span class=\"spark-nlp-display-entity-wrapper\" style=\"background-color: #474D81\"><span class=\"spark-nlp-display-entity-name\">UNISYS </span><span class=\"spark-nlp-display-entity-type\">ALIAS</span></span><span class=\"spark-nlp-display-others\" style=\"background-color: white\">\") and concerns the handling,<br>safeguarding and exchange of sensitive, proprietary or confidential information<br>(collectively \"Proprietary Information\"). It is agreed and understood that any<br>exchange of such Proprietary Information is expressly for the sole purpose of<br>CELERITY and </span><span class=\"spark-nlp-display-entity-wrapper\" style=\"background-color: #4DBB00\"><span class=\"spark-nlp-display-entity-name\">UNISYS </span><span class=\"spark-nlp-display-entity-type\">PARTY</span></span><span class=\"spark-nlp-display-others\" style=\"background-color: white\"> evaluating a possible business arrangement involving an<br>existing UNISYS contract with a federal government agency.<br><br>1.   For the purposes hereof, Proprietary Information shall be any documents,<br>     materials or information that (i) is in tangible form and clearly marked as<br>     being proprietary, confidential or sensitive and (ii) is received by one<br>     party to this Agreement (\"</span><span class=\"spark-nlp-display-entity-wrapper\" style=\"background-color: #474D81\"><span class=\"spark-nlp-display-entity-name\">Recipient </span><span class=\"spark-nlp-display-entity-type\">ALIAS</span></span><span class=\"spark-nlp-display-others\" style=\"background-color: white\">\") from the other party to this<br>     Agreement (\"</span><span class=\"spark-nlp-display-entity-wrapper\" style=\"background-color: #474D81\"><span class=\"spark-nlp-display-entity-name\">Transmitter </span><span class=\"spark-nlp-display-entity-type\">ALIAS</span></span><span class=\"spark-nlp-display-others\" style=\"background-color: white\">\").<br><br>2.   The Recipient agrees to safeguard, protect and handle all Proprietary<br>     Information made available under this Agreement with the same degree of<br>     care and procedures as Recipient applies to its own confidential or<br>     proprietary information. Without the written consent of the Transmitter,<br>     the Recipient of Proprietary Information agrees (i) not to disclose,<br>     disseminate, reproduce or otherwise distribute such information and<br>     materials to any third party, except a governmental judicial authority's<br>     issued order and (ii) not to use such information for any other purposes<br>     beyond that expressly set forth in this Agreement.<br><br>3.   All Proprietary Information disclosed under this Agreement shall remain the<br>     property of the </span><span class=\"spark-nlp-display-entity-wrapper\" style=\"background-color: #4DBB00\"><span class=\"spark-nlp-display-entity-name\">Transmitter </span><span class=\"spark-nlp-display-entity-type\">PARTY</span></span><span class=\"spark-nlp-display-others\" style=\"background-color: white\">. It is agreed that the Recipient does not<br>     obtain any title or license rights to the Proprietary Information furnished<br>     under this Agreement.<br><br>4.   All Proprietary Information exchanged under this Agreement shall be<br>     returned or destroyed in accordance with written instructions upon the<br>     earlier of a written request from the Transmitter or termination of this<br>     Agreement. Either party may terminate this Agreement, at any time, by<br>     providing written notice to the receiving party. Termination of this<br>     Agreement shall not be construed as relieving the Recipient of its<br>     obligations to safeguard, protect and dispose of the Proprietary<br>     Information as set forth in this Agreement.<br><br>5.   The Recipient's obligations to protect, safeguard and handle Proprietary<br>     Information received hereunder shall not be binding if such Proprietary<br>     Information (i) is in the public domain through no fault of the Recipient,<br>     (ii) is known to the Recipient prior to disclosure hereunder, (iii) is<br>     lawfully disclosed to Recipient by a third party. The Recipient's<br>     obligations shall survive until the Proprietary Information has been<br>     returned, destroyed in accordance with written instructions or covered by a<br>     subsequent agreement between CELERITY and </span><span class=\"spark-nlp-display-entity-wrapper\" style=\"background-color: #4DBB00\"><span class=\"spark-nlp-display-entity-name\">UNISYS </span><span class=\"spark-nlp-display-entity-type\">PARTY</span></span><span class=\"spark-nlp-display-others\" style=\"background-color: white\"> for the contemplated<br>     services.<br><br>This represents the entire agreement of the </span><span class=\"spark-nlp-display-entity-wrapper\" style=\"background-color: #4DBB00\"><span class=\"spark-nlp-display-entity-name\">parties </span><span class=\"spark-nlp-display-entity-type\">PARTY</span></span><span class=\"spark-nlp-display-others\" style=\"background-color: white\"> relative to the subject<br>matter and shall be governed and construed under the laws of the Commonwealth of<br>Virginia.<br><br></span></div>"
            ]
          },
          "metadata": {}
        }
      ]
    },
    {
      "cell_type": "markdown",
      "source": [
        "## 📌 **QUESTION ANSWERING**"
      ],
      "metadata": {
        "id": "Ewrc8wRSBnyS"
      },
      "id": "Ewrc8wRSBnyS"
    },
    {
      "cell_type": "code",
      "source": [
        "with open('non_disclosure_agreement.txt', 'r') as f:\n",
        "  text = f.read()\n",
        "  text = text[220:3384]\n",
        "  print(text)"
      ],
      "metadata": {
        "colab": {
          "base_uri": "https://localhost:8080/"
        },
        "id": "pRFVg0CPIw6T",
        "outputId": "1ff47908-0c9e-4970-c0b6-592b336eb662"
      },
      "id": "pRFVg0CPIw6T",
      "execution_count": 6,
      "outputs": [
        {
          "output_type": "stream",
          "name": "stdout",
          "text": [
            "This Agreement is made between CELERITY SYSTEMS, INC., (\"CELERITY\") and UNISYS\n",
            "Corporation - Federal Systems Division. (\"UNISYS\") and concerns the handling,\n",
            "safeguarding and exchange of sensitive, proprietary or confidential information\n",
            "(collectively \"Proprietary Information\"). It is agreed and understood that any\n",
            "exchange of such Proprietary Information is expressly for the sole purpose of\n",
            "CELERITY and UNISYS evaluating a possible business arrangement involving an\n",
            "existing UNISYS contract with a federal government agency.\n",
            "\n",
            "1.   For the purposes hereof, Proprietary Information shall be any documents,\n",
            "     materials or information that (i) is in tangible form and clearly marked as\n",
            "     being proprietary, confidential or sensitive and (ii) is received by one\n",
            "     party to this Agreement (\"Recipient\") from the other party to this\n",
            "     Agreement (\"Transmitter\").\n",
            "\n",
            "2.   The Recipient agrees to safeguard, protect and handle all Proprietary\n",
            "     Information made available under this Agreement with the same degree of\n",
            "     care and procedures as Recipient applies to its own confidential or\n",
            "     proprietary information. Without the written consent of the Transmitter,\n",
            "     the Recipient of Proprietary Information agrees (i) not to disclose,\n",
            "     disseminate, reproduce or otherwise distribute such information and\n",
            "     materials to any third party, except a governmental judicial authority's\n",
            "     issued order and (ii) not to use such information for any other purposes\n",
            "     beyond that expressly set forth in this Agreement.\n",
            "\n",
            "3.   All Proprietary Information disclosed under this Agreement shall remain the\n",
            "     property of the Transmitter. It is agreed that the Recipient does not\n",
            "     obtain any title or license rights to the Proprietary Information furnished\n",
            "     under this Agreement.\n",
            "\n",
            "4.   All Proprietary Information exchanged under this Agreement shall be\n",
            "     returned or destroyed in accordance with written instructions upon the\n",
            "     earlier of a written request from the Transmitter or termination of this\n",
            "     Agreement. Either party may terminate this Agreement, at any time, by\n",
            "     providing written notice to the receiving party. Termination of this\n",
            "     Agreement shall not be construed as relieving the Recipient of its\n",
            "     obligations to safeguard, protect and dispose of the Proprietary\n",
            "     Information as set forth in this Agreement.\n",
            "\n",
            "5.   The Recipient's obligations to protect, safeguard and handle Proprietary\n",
            "     Information received hereunder shall not be binding if such Proprietary\n",
            "     Information (i) is in the public domain through no fault of the Recipient,\n",
            "     (ii) is known to the Recipient prior to disclosure hereunder, (iii) is\n",
            "     lawfully disclosed to Recipient by a third party. The Recipient's\n",
            "     obligations shall survive until the Proprietary Information has been\n",
            "     returned, destroyed in accordance with written instructions or covered by a\n",
            "     subsequent agreement between CELERITY and UNISYS for the contemplated\n",
            "     services.\n",
            "\n",
            "This represents the entire agreement of the parties relative to the subject\n",
            "matter and shall be governed and construed under the laws of the Commonwealth of\n",
            "Virginia.\n",
            "\n",
            "\n"
          ]
        }
      ]
    },
    {
      "cell_type": "code",
      "source": [
        "# Split the text into paragraphs\n",
        "paragraphs = text.split('\\n\\n')\n",
        "\n",
        "# Remove empty paragraphs\n",
        "paragraphs = [p for p in paragraphs if p.strip() != \"\"]\n",
        "\n",
        "# Trim leading/trailing whitespaces from each paragraph\n",
        "paragraphs = [p.strip() for p in paragraphs]\n",
        "\n",
        "# Print the resulting list of paragraphs\n",
        "print(paragraphs)\n"
      ],
      "metadata": {
        "colab": {
          "base_uri": "https://localhost:8080/"
        },
        "id": "1ROqAWcyHbTf",
        "outputId": "1fa413a2-238b-419b-e64b-93cb9ef93a26"
      },
      "id": "1ROqAWcyHbTf",
      "execution_count": 25,
      "outputs": [
        {
          "output_type": "stream",
          "name": "stdout",
          "text": [
            "['This Agreement is made between CELERITY SYSTEMS, INC., (\"CELERITY\") and UNISYS\\nCorporation - Federal Systems Division. (\"UNISYS\") and concerns the handling,\\nsafeguarding and exchange of sensitive, proprietary or confidential information\\n(collectively \"Proprietary Information\"). It is agreed and understood that any\\nexchange of such Proprietary Information is expressly for the sole purpose of\\nCELERITY and UNISYS evaluating a possible business arrangement involving an\\nexisting UNISYS contract with a federal government agency.', '1.   For the purposes hereof, Proprietary Information shall be any documents,\\n     materials or information that (i) is in tangible form and clearly marked as\\n     being proprietary, confidential or sensitive and (ii) is received by one\\n     party to this Agreement (\"Recipient\") from the other party to this\\n     Agreement (\"Transmitter\").', \"2.   The Recipient agrees to safeguard, protect and handle all Proprietary\\n     Information made available under this Agreement with the same degree of\\n     care and procedures as Recipient applies to its own confidential or\\n     proprietary information. Without the written consent of the Transmitter,\\n     the Recipient of Proprietary Information agrees (i) not to disclose,\\n     disseminate, reproduce or otherwise distribute such information and\\n     materials to any third party, except a governmental judicial authority's\\n     issued order and (ii) not to use such information for any other purposes\\n     beyond that expressly set forth in this Agreement.\", '3.   All Proprietary Information disclosed under this Agreement shall remain the\\n     property of the Transmitter. It is agreed that the Recipient does not\\n     obtain any title or license rights to the Proprietary Information furnished\\n     under this Agreement.', '4.   All Proprietary Information exchanged under this Agreement shall be\\n     returned or destroyed in accordance with written instructions upon the\\n     earlier of a written request from the Transmitter or termination of this\\n     Agreement. Either party may terminate this Agreement, at any time, by\\n     providing written notice to the receiving party. Termination of this\\n     Agreement shall not be construed as relieving the Recipient of its\\n     obligations to safeguard, protect and dispose of the Proprietary\\n     Information as set forth in this Agreement.', \"5.   The Recipient's obligations to protect, safeguard and handle Proprietary\\n     Information received hereunder shall not be binding if such Proprietary\\n     Information (i) is in the public domain through no fault of the Recipient,\\n     (ii) is known to the Recipient prior to disclosure hereunder, (iii) is\\n     lawfully disclosed to Recipient by a third party. The Recipient's\\n     obligations shall survive until the Proprietary Information has been\\n     returned, destroyed in accordance with written instructions or covered by a\\n     subsequent agreement between CELERITY and UNISYS for the contemplated\\n     services.\", 'This represents the entire agreement of the parties relative to the subject\\nmatter and shall be governed and construed under the laws of the Commonwealth of\\nVirginia.']\n"
          ]
        }
      ]
    },
    {
      "cell_type": "code",
      "source": [
        "documentAssembler = nlp.MultiDocumentAssembler()\\\n",
        "        .setInputCols([\"question\", \"context\"])\\\n",
        "        .setOutputCols([\"document_question\", \"document_context\"])\n",
        "\n",
        "spanClassifier = nlp.BertForQuestionAnswering.pretrained(\"legqa_bert_large\",\"en\", \"legal/models\") \\\n",
        ".setInputCols([\"document_question\", \"document_context\"]) \\\n",
        ".setOutputCol(\"answer\") \\\n",
        ".setCaseSensitive(True)\n",
        "\n",
        "pipeline = nlp.Pipeline().setStages([\n",
        "documentAssembler,\n",
        "spanClassifier\n",
        "])"
      ],
      "metadata": {
        "id": "gxiHfLGTko6O"
      },
      "id": "gxiHfLGTko6O",
      "execution_count": null,
      "outputs": []
    },
    {
      "cell_type": "code",
      "source": [
        "new_text = [paragraphs[0]]\n",
        "\n",
        "questions = {0: [\"Between whom was this agreement made?\", \n",
        "                 \"What is the scope of this Agreement?\",\n",
        "                 \"What does the Agreement concern?\",\n",
        "                 \"What is the purpose of exchanging the Proprietary Information between CELERITY and UNISYS?\",\n",
        "                 \"What is the understanding between CELERITY and UNISYS regarding the exchange of Proprietary Information?\"]}\n",
        "\n",
        "# Create a list of dictionaries for each row in the DataFrame\n",
        "data = [{\"context\": text, \"question\": question} for text, question_list in zip(new_text, questions.values()) for question in question_list]\n",
        "\n",
        "# Create a DataFrame from the list of dictionaries\n",
        "df = spark.createDataFrame(data)\n",
        "\n",
        "# Display the resulting DataFrame\n",
        "df.show(truncate=90)\n"
      ],
      "metadata": {
        "colab": {
          "base_uri": "https://localhost:8080/"
        },
        "id": "KXidjQ1bj8GB",
        "outputId": "c94b4d26-a55b-4410-8602-c7d5c7e45d46"
      },
      "id": "KXidjQ1bj8GB",
      "execution_count": 27,
      "outputs": [
        {
          "output_type": "stream",
          "name": "stdout",
          "text": [
            "+------------------------------------------------------------------------------------------+------------------------------------------------------------------------------------------+\n",
            "|                                                                                   context|                                                                                  question|\n",
            "+------------------------------------------------------------------------------------------+------------------------------------------------------------------------------------------+\n",
            "|This Agreement is made between CELERITY SYSTEMS, INC., (\"CELERITY\") and UNISYS\n",
            "Corporat...|                                                     Between whom was this agreement made?|\n",
            "|This Agreement is made between CELERITY SYSTEMS, INC., (\"CELERITY\") and UNISYS\n",
            "Corporat...|                                                      What is the scope of this Agreement?|\n",
            "|This Agreement is made between CELERITY SYSTEMS, INC., (\"CELERITY\") and UNISYS\n",
            "Corporat...|                                                          What does the Agreement concern?|\n",
            "|This Agreement is made between CELERITY SYSTEMS, INC., (\"CELERITY\") and UNISYS\n",
            "Corporat...|What is the purpose of exchanging the Proprietary Information between CELERITY and UNISYS?|\n",
            "|This Agreement is made between CELERITY SYSTEMS, INC., (\"CELERITY\") and UNISYS\n",
            "Corporat...|What is the understanding between CELERITY and UNISYS regarding the exchange of Proprie...|\n",
            "+------------------------------------------------------------------------------------------+------------------------------------------------------------------------------------------+\n",
            "\n"
          ]
        }
      ]
    },
    {
      "cell_type": "code",
      "source": [
        "result = pipeline.fit(df).transform(df)\n",
        "\n",
        "result.select('answer.result').show(truncate=False)"
      ],
      "metadata": {
        "colab": {
          "base_uri": "https://localhost:8080/"
        },
        "id": "zp5q-D5BjBcm",
        "outputId": "4eb4ab86-23ee-4a32-b599-2202a70d28f5"
      },
      "id": "zp5q-D5BjBcm",
      "execution_count": 28,
      "outputs": [
        {
          "output_type": "stream",
          "name": "stdout",
          "text": [
            "+-------------------------------------------------------------------------------------------------------------------------------------------------------------------------------------------------------------------------+\n",
            "|result                                                                                                                                                                                                                   |\n",
            "+-------------------------------------------------------------------------------------------------------------------------------------------------------------------------------------------------------------------------+\n",
            "|[between CELERITY SYSTEMS , INC . , ( \" CELERITY \" ) and UNISYS Corporation - Federal Systems Division .]                                                                                                                |\n",
            "|[concerns the handling , safeguarding and exchange of sensitive , proprietary or confidential information]                                                                                                               |\n",
            "|[handling , safeguarding and exchange of sensitive , proprietary or confidential information]                                                                                                                            |\n",
            "|[evaluating a possible business arrangement involving an existing UNISYS contract with a federal government agency]                                                                                                      |\n",
            "|[any exchange of such Proprietary Information is expressly for the sole purpose of CELERITY and UNISYS evaluating a possible business arrangement involving an existing UNISYS contract with a federal government agency]|\n",
            "+-------------------------------------------------------------------------------------------------------------------------------------------------------------------------------------------------------------------------+\n",
            "\n"
          ]
        }
      ]
    },
    {
      "cell_type": "markdown",
      "source": [
        "## 📌 **SUMMARIZATION**"
      ],
      "metadata": {
        "id": "KAclcsLHCp-m"
      },
      "id": "KAclcsLHCp-m"
    },
    {
      "cell_type": "code",
      "source": [
        "document_assembler = nlp.DocumentAssembler()\\\n",
        "    .setInputCol(\"text\")\\\n",
        "    .setOutputCol(\"documents\")\n",
        "\n",
        "flant5 = legal.Summarizer().pretrained('legsum_flant5_legal_augmented','en','legal/models')\\\n",
        "    .setInputCols([\"documents\"])\\\n",
        "    .setOutputCol(\"summary\")\\\n",
        "    .setMaxTextLength(512)\\\n",
        "    .setMaxNewTokens(512)\n",
        "\n",
        "pipeline = nlp.Pipeline(stages=[document_assembler, \n",
        "                                flant5])\n",
        "\n",
        "data = spark.createDataFrame([[1, \" \"]]).toDF('id', 'text')"
      ],
      "metadata": {
        "id": "6zqIvc9KBPYL"
      },
      "id": "6zqIvc9KBPYL",
      "execution_count": null,
      "outputs": []
    },
    {
      "cell_type": "code",
      "source": [
        "model = pipeline.fit(data)"
      ],
      "metadata": {
        "id": "ndCzdInfwd4q"
      },
      "id": "ndCzdInfwd4q",
      "execution_count": 12,
      "outputs": []
    },
    {
      "cell_type": "code",
      "source": [
        "light_model = nlp.LightPipeline(model)\n",
        "light_result = light_model.annotate(paragraphs)"
      ],
      "metadata": {
        "id": "XLmzwlmTwYES"
      },
      "id": "XLmzwlmTwYES",
      "execution_count": 13,
      "outputs": []
    },
    {
      "cell_type": "code",
      "source": [
        "light_result"
      ],
      "metadata": {
        "colab": {
          "base_uri": "https://localhost:8080/"
        },
        "id": "LBrxIhSTyKo6",
        "outputId": "d2d5dd67-febe-4753-cfcd-84826f43bda4"
      },
      "id": "LBrxIhSTyKo6",
      "execution_count": 14,
      "outputs": [
        {
          "output_type": "execute_result",
          "data": {
            "text/plain": [
              "[{'documents': ['This Agreement is made between CELERITY SYSTEMS, INC., (\"CELERITY\") and UNISYS\\nCorporation - Federal Systems Division. (\"UNISYS\") and concerns the handling,\\nsafeguarding and exchange of sensitive, proprietary or confidential information\\n(collectively \"Proprietary Information\"). It is agreed and understood that any\\nexchange of such Proprietary Information is expressly for the sole purpose of\\nCELERITY and UNISYS evaluating a possible business arrangement involving an\\nexisting UNISYS contract with a federal government agency.'],\n",
              "  'summary': ['This agreement is between CELERITY Systems, Inc. and UNISYS Corporation - Federal Systems Division. It outlines the handling, safeguarding, and exchange of sensitive, proprietary, or confidential information. It is intended to evaluate a possible business arrangement involving an existing UNISYS contract with a federal government agency.']},\n",
              " {'documents': ['1.   For the purposes hereof, Proprietary Information shall be any documents,\\n     materials or information that (i) is in tangible form and clearly marked as\\n     being proprietary, confidential or sensitive and (ii) is received by one\\n     party to this Agreement (\"Recipient\") from the other party to this\\n     Agreement (\"Transmitter\").'],\n",
              "  'summary': ['This legal agreement states that any documents, materials, or information that are in tangible form and clearly marked as being proprietary, confidential, or sensitive must be received from the other party to the agreement.']},\n",
              " {'documents': [\"2.   The Recipient agrees to safeguard, protect and handle all Proprietary\\n     Information made available under this Agreement with the same degree of\\n     care and procedures as Recipient applies to its own confidential or\\n     proprietary information. Without the written consent of the Transmitter,\\n     the Recipient of Proprietary Information agrees (i) not to disclose,\\n     disseminate, reproduce or otherwise distribute such information and\\n     materials to any third party, except a governmental judicial authority's\\n     issued order and (ii) not to use such information for any other purposes\\n     beyond that expressly set forth in this Agreement.\"],\n",
              "  'summary': [\"This legal agreement states that the recipient agrees to safeguard, protect, and handle all proprietary information made available under the agreement with the same degree of care and procedures as the recipient applies to its own confidential or proprietary information. The recipient also agrees not to disclose, disseminate, reproduce, or otherwise distribute such information and materials to any third party, except a governmental judicial authority's issued order, and not to use such information for any other purposes beyond that expressly set forth in this agreement.\"]},\n",
              " {'documents': ['3.   All Proprietary Information disclosed under this Agreement shall remain the\\n     property of the Transmitter. It is agreed that the Recipient does not\\n     obtain any title or license rights to the Proprietary Information furnished\\n     under this Agreement.'],\n",
              "  'summary': ['This agreement states that all Proprietary Information disclosed under the agreement shall remain the property of the Transmitter and that the Recipient does not obtain any title or license rights to the Proprietary Information furnished under the agreement.']},\n",
              " {'documents': ['4.   All Proprietary Information exchanged under this Agreement shall be\\n     returned or destroyed in accordance with written instructions upon the\\n     earlier of a written request from the Transmitter or termination of this\\n     Agreement. Either party may terminate this Agreement, at any time, by\\n     providing written notice to the receiving party. Termination of this\\n     Agreement shall not be construed as relieving the Recipient of its\\n     obligations to safeguard, protect and dispose of the Proprietary\\n     Information as set forth in this Agreement.'],\n",
              "  'summary': ['This agreement states that all Proprietary Information exchanged under the agreement must be returned or destroyed in accordance with written instructions upon the earlier of a written request from the transmitter or termination of the agreement. The recipient may terminate the agreement at any time by providing written notice to the receiving party. The termination of the agreement does not construe the recipient of its obligations to safeguard, protect and dispose of the Proprietary Information as set forth in the agreement.']},\n",
              " {'documents': [\"5.   The Recipient's obligations to protect, safeguard and handle Proprietary\\n     Information received hereunder shall not be binding if such Proprietary\\n     Information (i) is in the public domain through no fault of the Recipient,\\n     (ii) is known to the Recipient prior to disclosure hereunder, (iii) is\\n     lawfully disclosed to Recipient by a third party. The Recipient's\\n     obligations shall survive until the Proprietary Information has been\\n     returned, destroyed in accordance with written instructions or covered by a\\n     subsequent agreement between CELERITY and UNISYS for the contemplated\\n     services.\"],\n",
              "  'summary': [\"This legal agreement states that the recipient's obligations to protect, safeguard, and handle the information received must not be binding if it is in the public domain through no fault of the recipient, is known to the recipient prior to disclosure, is lawfully disclosed to the recipient by a third party, and will survive until the information has been returned, destroyed, or covered by a subsequent agreement between CELERITY and UNISYS for the contemplated services.\"]},\n",
              " {'documents': ['This represents the entire agreement of the parties relative to the subject\\nmatter and shall be governed and construed under the laws of the Commonwealth of\\nVirginia.'],\n",
              "  'summary': ['This agreement is the entire agreement between the parties and will be governed and construed under the laws of the Commonwealth of Virginia.']}]"
            ]
          },
          "metadata": {},
          "execution_count": 14
        }
      ]
    },
    {
      "cell_type": "code",
      "source": [
        "combined_text = '\\n'.join([d['summary'][0] for d in light_result])\n",
        "print(combined_text)"
      ],
      "metadata": {
        "colab": {
          "base_uri": "https://localhost:8080/"
        },
        "id": "8nQ-4DuCwtyM",
        "outputId": "57110db0-2a1c-4526-e91d-b9e0888915a2"
      },
      "id": "8nQ-4DuCwtyM",
      "execution_count": 15,
      "outputs": [
        {
          "output_type": "stream",
          "name": "stdout",
          "text": [
            "This agreement is between CELERITY Systems, Inc. and UNISYS Corporation - Federal Systems Division. It outlines the handling, safeguarding, and exchange of sensitive, proprietary, or confidential information. It is intended to evaluate a possible business arrangement involving an existing UNISYS contract with a federal government agency.\n",
            "This legal agreement states that any documents, materials, or information that are in tangible form and clearly marked as being proprietary, confidential, or sensitive must be received from the other party to the agreement.\n",
            "This legal agreement states that the recipient agrees to safeguard, protect, and handle all proprietary information made available under the agreement with the same degree of care and procedures as the recipient applies to its own confidential or proprietary information. The recipient also agrees not to disclose, disseminate, reproduce, or otherwise distribute such information and materials to any third party, except a governmental judicial authority's issued order, and not to use such information for any other purposes beyond that expressly set forth in this agreement.\n",
            "This agreement states that all Proprietary Information disclosed under the agreement shall remain the property of the Transmitter and that the Recipient does not obtain any title or license rights to the Proprietary Information furnished under the agreement.\n",
            "This agreement states that all Proprietary Information exchanged under the agreement must be returned or destroyed in accordance with written instructions upon the earlier of a written request from the transmitter or termination of the agreement. The recipient may terminate the agreement at any time by providing written notice to the receiving party. The termination of the agreement does not construe the recipient of its obligations to safeguard, protect and dispose of the Proprietary Information as set forth in the agreement.\n",
            "This legal agreement states that the recipient's obligations to protect, safeguard, and handle the information received must not be binding if it is in the public domain through no fault of the recipient, is known to the recipient prior to disclosure, is lawfully disclosed to the recipient by a third party, and will survive until the information has been returned, destroyed, or covered by a subsequent agreement between CELERITY and UNISYS for the contemplated services.\n",
            "This agreement is the entire agreement between the parties and will be governed and construed under the laws of the Commonwealth of Virginia.\n"
          ]
        }
      ]
    },
    {
      "cell_type": "code",
      "source": [
        "light_model = nlp.LightPipeline(model)\n",
        "light_result = light_model.annotate(combined_text)"
      ],
      "metadata": {
        "id": "P-jhTAxH22st"
      },
      "id": "P-jhTAxH22st",
      "execution_count": 22,
      "outputs": []
    },
    {
      "cell_type": "code",
      "source": [
        "light_result['summary']"
      ],
      "metadata": {
        "colab": {
          "base_uri": "https://localhost:8080/"
        },
        "id": "DvkZ4CYcgq5m",
        "outputId": "81b94c6e-ebba-4a38-eb8b-74f4c4730a7f"
      },
      "id": "DvkZ4CYcgq5m",
      "execution_count": 24,
      "outputs": [
        {
          "output_type": "execute_result",
          "data": {
            "text/plain": [
              "[\"This legal agreement is between CELERITY Systems, Inc. and UNISYS Corporation - Federal Systems Division. It states that any documents, materials, or information that are in tangible form and clearly marked as being proprietary, confidential, or sensitive must be received from the other party to the agreement. The recipient agrees to safeguard, protect, and handle all proprietary information made available under the agreement with the same degree of care and procedures as the recipient applies to its own confidential or proprietary information. The recipient also agrees not to disclose, disseminate, reproduce, or otherwise distribute such information and materials to any third party, except a governmental judicial authority's issued order, and not to use such information for any other purposes beyond that expressly set forth in this agreement. The recipient may terminate the agreement at any time by providing written notice to the receiving party. The agreement is the entire agreement between the parties and will be governed and construed under the laws of the Commonwealth of Virginia.\"]"
            ]
          },
          "metadata": {},
          "execution_count": 24
        }
      ]
    },
    {
      "cell_type": "code",
      "source": [],
      "metadata": {
        "id": "C4f-7n67gvpb"
      },
      "id": "C4f-7n67gvpb",
      "execution_count": null,
      "outputs": []
    }
  ],
  "metadata": {
    "accelerator": "GPU",
    "colab": {
      "gpuType": "T4",
      "machine_shape": "hm",
      "provenance": [],
      "toc_visible": true
    },
    "gpuClass": "standard",
    "kernelspec": {
      "display_name": "tf-gpu",
      "language": "python",
      "name": "python3"
    },
    "language_info": {
      "codemirror_mode": {
        "name": "ipython",
        "version": 3
      },
      "file_extension": ".py",
      "mimetype": "text/x-python",
      "name": "python",
      "nbconvert_exporter": "python",
      "pygments_lexer": "ipython3",
      "version": "3.9.7 (default, Sep 16 2021, 16:59:28) [MSC v.1916 64 bit (AMD64)]"
    },
    "vscode": {
      "interpreter": {
        "hash": "3f47d918ae832c68584484921185f5c85a1760864bf927a683dc6fb56366cc77"
      }
    }
  },
  "nbformat": 4,
  "nbformat_minor": 5
}
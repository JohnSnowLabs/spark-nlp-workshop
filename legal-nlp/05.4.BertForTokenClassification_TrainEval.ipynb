{
  "cells": [
    {
      "cell_type": "markdown",
      "metadata": {
        "collapsed": false,
        "id": "RDayMKT-fgKA"
      },
      "source": [
        "![JohnSnowLabs](https://nlp.johnsnowlabs.com/assets/images/logo.png)"
      ]
    },
    {
      "cell_type": "markdown",
      "metadata": {
        "id": "aphGDPjATALI"
      },
      "source": [
        "[![Open In Colab](https://colab.research.google.com/assets/colab-badge.svg)](https://colab.research.google.com/github/JohnSnowLabs/spark-nlp-workshop/blob/master/legal-nlp/05.4.BertForTokenClassification_TrainEval.ipynb)"
      ]
    },
    {
      "cell_type": "markdown",
      "metadata": {
        "id": "3PaR_Jxcek01"
      },
      "source": [
        "# BERT FOR TOKEN CLASSIFICATION - Training/Test Split and Evaluation\n",
        "Using Hugging Face and importing it to Legal NLP for scalability.\n",
        "\n",
        "This is a transformer-based approach, which usually returns much bigger models (10x) compared to NerModel, but it can improve the performance over NerModel.\n",
        "\n",
        "In this notebook we don't save the model, we just train and get metrics on test set. Please see next notebook to check how we finally train with all data and save the model in Spark NLP format."
      ]
    },
    {
      "cell_type": "markdown",
      "metadata": {
        "id": "-lPn3DiN72gO"
      },
      "source": [
        "# Installation"
      ]
    },
    {
      "cell_type": "code",
      "execution_count": null,
      "metadata": {
        "id": "zoMfNqgRtLOg"
      },
      "outputs": [],
      "source": [
        "! pip -q install seqeval"
      ]
    },
    {
      "cell_type": "code",
      "execution_count": null,
      "metadata": {
        "id": "rwIqbitFoHtq"
      },
      "outputs": [],
      "source": [
        "! pip install transformers==4.8.1\n",
        "! pip install pyspark==3.1.2\n",
        "! pip install spark-nlp\n",
        "! pip install spark-nlp-display"
      ]
    },
    {
      "cell_type": "markdown",
      "metadata": {
        "id": "bp6w0FyRfIgX"
      },
      "source": [
        "# Setting name of the project"
      ]
    },
    {
      "cell_type": "code",
      "execution_count": null,
      "metadata": {
        "id": "x8cum6idfKnw"
      },
      "outputs": [],
      "source": [
        "PROJECT_NAME = 'legal_obligations'"
      ]
    },
    {
      "cell_type": "markdown",
      "metadata": {
        "id": "kEvXZO_TuhkH"
      },
      "source": [
        "# Imports"
      ]
    },
    {
      "cell_type": "code",
      "execution_count": null,
      "metadata": {
        "id": "F9Yxer2wuizZ"
      },
      "outputs": [],
      "source": [
        "import torch\n",
        "from torch.utils.data import TensorDataset, DataLoader, RandomSampler, SequentialSampler\n",
        "from transformers import BertTokenizer, BertConfig\n",
        "\n",
        "from tensorflow.keras.preprocessing.sequence import pad_sequences\n",
        "from sklearn.model_selection import train_test_split\n",
        "\n",
        "import sparknlp\n",
        "from pyspark.sql import functions as F\n",
        "\n",
        "from sparknlp.training import CoNLL\n",
        "from google.colab import files\n",
        "\n",
        "import pandas as pd\n",
        "import numpy as np\n",
        "from tqdm import tqdm, trange\n",
        "\n",
        "import transformers\n",
        "from transformers import BertForTokenClassification, TFBertForTokenClassification, AdamW\n",
        "from transformers import get_linear_schedule_with_warmup\n",
        "\n",
        "from sklearn.metrics import classification_report"
      ]
    },
    {
      "cell_type": "markdown",
      "metadata": {
        "id": "6ZVF2kvevCGZ"
      },
      "source": [
        "## Setting up Torch"
      ]
    },
    {
      "cell_type": "code",
      "execution_count": null,
      "metadata": {
        "colab": {
          "base_uri": "https://localhost:8080/",
          "height": 35
        },
        "id": "48k2DViAvEMe",
        "outputId": "45bdea65-3664-4e7c-d433-de0aa1f6fd9a"
      },
      "outputs": [
        {
          "data": {
            "application/vnd.google.colaboratory.intrinsic+json": {
              "type": "string"
            },
            "text/plain": [
              "'1.13.1+cu116'"
            ]
          },
          "execution_count": 7,
          "metadata": {},
          "output_type": "execute_result"
        }
      ],
      "source": [
        "torch.__version__"
      ]
    },
    {
      "cell_type": "code",
      "execution_count": null,
      "metadata": {
        "colab": {
          "base_uri": "https://localhost:8080/",
          "height": 35
        },
        "id": "F3rwT34cw0Mv",
        "outputId": "4e89dde4-0c9f-441a-c7ba-35526b596e17"
      },
      "outputs": [
        {
          "data": {
            "application/vnd.google.colaboratory.intrinsic+json": {
              "type": "string"
            },
            "text/plain": [
              "'Tesla T4'"
            ]
          },
          "execution_count": 8,
          "metadata": {},
          "output_type": "execute_result"
        }
      ],
      "source": [
        "device = torch.device(\"cuda\" if torch.cuda.is_available() else \"cpu\")\n",
        "n_gpu = torch.cuda.device_count()\n",
        "\n",
        "torch.cuda.get_device_name(0)"
      ]
    },
    {
      "cell_type": "markdown",
      "metadata": {
        "id": "rXgdr64B79_d"
      },
      "source": [
        "# Check that files are available"
      ]
    },
    {
      "cell_type": "code",
      "execution_count": null,
      "metadata": {
        "id": "FqtV1sCSKP7_"
      },
      "outputs": [],
      "source": [
        "! wget -q https://raw.githubusercontent.com/JohnSnowLabs/spark-nlp-workshop/master/legal-nlp/data/conll_noO.conll"
      ]
    },
    {
      "cell_type": "code",
      "execution_count": null,
      "metadata": {
        "colab": {
          "base_uri": "https://localhost:8080/"
        },
        "id": "Fe7x0snlYCxY",
        "outputId": "d6a8ff43-f106-4341-d600-d7fc800215b6"
      },
      "outputs": [
        {
          "name": "stdout",
          "output_type": "stream",
          "text": [
            "head: cannot open 'conll_noO.conll' for reading: No such file or directory\n"
          ]
        }
      ],
      "source": [
        "!head -n 20 conll_noO.conll"
      ]
    },
    {
      "cell_type": "markdown",
      "metadata": {
        "id": "c8H1P-jwe8CF"
      },
      "source": [
        "# Creating folders for logs and checkpoints"
      ]
    },
    {
      "cell_type": "code",
      "execution_count": null,
      "metadata": {
        "id": "_Tbd2bI9hkUn"
      },
      "outputs": [],
      "source": [
        "!mkdir {PROJECT_NAME}"
      ]
    },
    {
      "cell_type": "code",
      "execution_count": null,
      "metadata": {
        "id": "oUc4B7NThUK3"
      },
      "outputs": [],
      "source": [
        "!mkdir {PROJECT_NAME}/logs"
      ]
    },
    {
      "cell_type": "markdown",
      "metadata": {
        "id": "PTUf3GUWuslz"
      },
      "source": [
        "# Starting a Spark Session for SparkNLP"
      ]
    },
    {
      "cell_type": "code",
      "execution_count": null,
      "metadata": {
        "id": "frvjijxroKy9"
      },
      "outputs": [],
      "source": [
        "spark = sparknlp.start()"
      ]
    },
    {
      "cell_type": "code",
      "execution_count": null,
      "metadata": {
        "colab": {
          "base_uri": "https://localhost:8080/",
          "height": 219
        },
        "id": "IJ4Dg2ZesrEi",
        "outputId": "bb386921-d5bd-40c8-bf3e-668375234498"
      },
      "outputs": [
        {
          "data": {
            "text/html": [
              "\n",
              "            <div>\n",
              "                <p><b>SparkSession - in-memory</b></p>\n",
              "                \n",
              "        <div>\n",
              "            <p><b>SparkContext</b></p>\n",
              "\n",
              "            <p><a href=\"http://b1515dccf22e:4040\">Spark UI</a></p>\n",
              "\n",
              "            <dl>\n",
              "              <dt>Version</dt>\n",
              "                <dd><code>v3.1.2</code></dd>\n",
              "              <dt>Master</dt>\n",
              "                <dd><code>local[*]</code></dd>\n",
              "              <dt>AppName</dt>\n",
              "                <dd><code>Spark NLP</code></dd>\n",
              "            </dl>\n",
              "        </div>\n",
              "        \n",
              "            </div>\n",
              "        "
            ],
            "text/plain": [
              "<pyspark.sql.session.SparkSession at 0x7fd3ae081130>"
            ]
          },
          "execution_count": 13,
          "metadata": {},
          "output_type": "execute_result"
        }
      ],
      "source": [
        "spark"
      ]
    },
    {
      "cell_type": "markdown",
      "metadata": {
        "id": "vrwN2hCR8HH6"
      },
      "source": [
        "# Convert JSL conlls in dataframe format"
      ]
    },
    {
      "cell_type": "code",
      "execution_count": null,
      "metadata": {
        "id": "lBBV98gqo90p"
      },
      "outputs": [],
      "source": [
        "def get_conll_df(pth):\n",
        "  data = CoNLL().readDataset(spark, pth)\n",
        "  data = data.withColumn(\"sentence_idx\", F.monotonically_increasing_id())\n",
        "\n",
        "  df = data.select('sentence_idx', F.explode(F.arrays_zip('token.result','label.result','pos.result')).alias(\"cols\")) \\\n",
        "  .select('sentence_idx',\n",
        "          F.expr(\"cols['0']\").alias(\"word\"),\n",
        "          F.expr(\"cols['1']\").alias(\"tag\"),\n",
        "          F.expr(\"cols['2']\").alias(\"pos\")).toPandas()\n",
        "  return df\n",
        "\n",
        "data_df = get_conll_df('./conll_noO.conll')"
      ]
    },
    {
      "cell_type": "code",
      "execution_count": null,
      "metadata": {
        "id": "6MISo0vxsZUl"
      },
      "outputs": [],
      "source": [
        "train_idx, test_idx = train_test_split(data_df['sentence_idx'].unique(), shuffle=True, random_state=42, train_size=0.85, test_size=0.15)"
      ]
    },
    {
      "cell_type": "code",
      "execution_count": null,
      "metadata": {
        "colab": {
          "base_uri": "https://localhost:8080/"
        },
        "id": "dIUh0VhDsbiu",
        "outputId": "2bfa5637-a731-457c-997c-dea9513c8dc0"
      },
      "outputs": [
        {
          "data": {
            "text/plain": [
              "4268"
            ]
          },
          "execution_count": 18,
          "metadata": {},
          "output_type": "execute_result"
        }
      ],
      "source": [
        "len(train_idx)"
      ]
    },
    {
      "cell_type": "code",
      "execution_count": null,
      "metadata": {
        "colab": {
          "base_uri": "https://localhost:8080/"
        },
        "id": "ylqVnnmFsc2l",
        "outputId": "a04ffece-a59d-4e63-f7bd-cf7f7042c6f1"
      },
      "outputs": [
        {
          "data": {
            "text/plain": [
              "4268"
            ]
          },
          "execution_count": 19,
          "metadata": {},
          "output_type": "execute_result"
        }
      ],
      "source": [
        "len(train_idx)"
      ]
    },
    {
      "cell_type": "code",
      "execution_count": null,
      "metadata": {
        "id": "t1ZEKQF_iIJ3"
      },
      "outputs": [],
      "source": [
        "train_data_df = data_df[data_df['sentence_idx'].isin(train_idx)]\n",
        "test_data_df = data_df[data_df['sentence_idx'].isin(test_idx)]"
      ]
    },
    {
      "cell_type": "code",
      "execution_count": null,
      "metadata": {
        "colab": {
          "base_uri": "https://localhost:8080/",
          "height": 424
        },
        "id": "AKEyfJsisfEF",
        "outputId": "58e7f0a0-a25c-4b0a-e943-2d05c720775d"
      },
      "outputs": [
        {
          "data": {
            "text/html": [
              "\n",
              "  <div id=\"df-40705be8-035d-4cad-a190-7f542b3bea35\">\n",
              "    <div class=\"colab-df-container\">\n",
              "      <div>\n",
              "<style scoped>\n",
              "    .dataframe tbody tr th:only-of-type {\n",
              "        vertical-align: middle;\n",
              "    }\n",
              "\n",
              "    .dataframe tbody tr th {\n",
              "        vertical-align: top;\n",
              "    }\n",
              "\n",
              "    .dataframe thead th {\n",
              "        text-align: right;\n",
              "    }\n",
              "</style>\n",
              "<table border=\"1\" class=\"dataframe\">\n",
              "  <thead>\n",
              "    <tr style=\"text-align: right;\">\n",
              "      <th></th>\n",
              "      <th>sentence_idx</th>\n",
              "      <th>word</th>\n",
              "      <th>tag</th>\n",
              "      <th>pos</th>\n",
              "    </tr>\n",
              "  </thead>\n",
              "  <tbody>\n",
              "    <tr>\n",
              "      <th>0</th>\n",
              "      <td>0</td>\n",
              "      <td>Exhibit</td>\n",
              "      <td>O</td>\n",
              "      <td>NN</td>\n",
              "    </tr>\n",
              "    <tr>\n",
              "      <th>1</th>\n",
              "      <td>0</td>\n",
              "      <td>10.6</td>\n",
              "      <td>O</td>\n",
              "      <td>NN</td>\n",
              "    </tr>\n",
              "    <tr>\n",
              "      <th>2</th>\n",
              "      <td>0</td>\n",
              "      <td>memorandum</td>\n",
              "      <td>B-DOC</td>\n",
              "      <td>NN</td>\n",
              "    </tr>\n",
              "    <tr>\n",
              "      <th>3</th>\n",
              "      <td>0</td>\n",
              "      <td>Between</td>\n",
              "      <td>O</td>\n",
              "      <td>NN</td>\n",
              "    </tr>\n",
              "    <tr>\n",
              "      <th>4</th>\n",
              "      <td>0</td>\n",
              "      <td>(hereinafter</td>\n",
              "      <td>B-PARTY</td>\n",
              "      <td>NN</td>\n",
              "    </tr>\n",
              "    <tr>\n",
              "      <th>...</th>\n",
              "      <td>...</td>\n",
              "      <td>...</td>\n",
              "      <td>...</td>\n",
              "      <td>...</td>\n",
              "    </tr>\n",
              "    <tr>\n",
              "      <th>98359</th>\n",
              "      <td>8589937102</td>\n",
              "      <td>.</td>\n",
              "      <td>O</td>\n",
              "      <td>NN</td>\n",
              "    </tr>\n",
              "    <tr>\n",
              "      <th>98360</th>\n",
              "      <td>8589937102</td>\n",
              "      <td>Language</td>\n",
              "      <td>O</td>\n",
              "      <td>NN</td>\n",
              "    </tr>\n",
              "    <tr>\n",
              "      <th>98361</th>\n",
              "      <td>8589937102</td>\n",
              "      <td>and</td>\n",
              "      <td>O</td>\n",
              "      <td>NN</td>\n",
              "    </tr>\n",
              "    <tr>\n",
              "      <th>98362</th>\n",
              "      <td>8589937102</td>\n",
              "      <td>propietary</td>\n",
              "      <td>B-ROLE</td>\n",
              "      <td>NN</td>\n",
              "    </tr>\n",
              "    <tr>\n",
              "      <th>98363</th>\n",
              "      <td>8589937102</td>\n",
              "      <td>.</td>\n",
              "      <td>O</td>\n",
              "      <td>NN</td>\n",
              "    </tr>\n",
              "  </tbody>\n",
              "</table>\n",
              "<p>83262 rows × 4 columns</p>\n",
              "</div>\n",
              "      <button class=\"colab-df-convert\" onclick=\"convertToInteractive('df-40705be8-035d-4cad-a190-7f542b3bea35')\"\n",
              "              title=\"Convert this dataframe to an interactive table.\"\n",
              "              style=\"display:none;\">\n",
              "        \n",
              "  <svg xmlns=\"http://www.w3.org/2000/svg\" height=\"24px\"viewBox=\"0 0 24 24\"\n",
              "       width=\"24px\">\n",
              "    <path d=\"M0 0h24v24H0V0z\" fill=\"none\"/>\n",
              "    <path d=\"M18.56 5.44l.94 2.06.94-2.06 2.06-.94-2.06-.94-.94-2.06-.94 2.06-2.06.94zm-11 1L8.5 8.5l.94-2.06 2.06-.94-2.06-.94L8.5 2.5l-.94 2.06-2.06.94zm10 10l.94 2.06.94-2.06 2.06-.94-2.06-.94-.94-2.06-.94 2.06-2.06.94z\"/><path d=\"M17.41 7.96l-1.37-1.37c-.4-.4-.92-.59-1.43-.59-.52 0-1.04.2-1.43.59L10.3 9.45l-7.72 7.72c-.78.78-.78 2.05 0 2.83L4 21.41c.39.39.9.59 1.41.59.51 0 1.02-.2 1.41-.59l7.78-7.78 2.81-2.81c.8-.78.8-2.07 0-2.86zM5.41 20L4 18.59l7.72-7.72 1.47 1.35L5.41 20z\"/>\n",
              "  </svg>\n",
              "      </button>\n",
              "      \n",
              "  <style>\n",
              "    .colab-df-container {\n",
              "      display:flex;\n",
              "      flex-wrap:wrap;\n",
              "      gap: 12px;\n",
              "    }\n",
              "\n",
              "    .colab-df-convert {\n",
              "      background-color: #E8F0FE;\n",
              "      border: none;\n",
              "      border-radius: 50%;\n",
              "      cursor: pointer;\n",
              "      display: none;\n",
              "      fill: #1967D2;\n",
              "      height: 32px;\n",
              "      padding: 0 0 0 0;\n",
              "      width: 32px;\n",
              "    }\n",
              "\n",
              "    .colab-df-convert:hover {\n",
              "      background-color: #E2EBFA;\n",
              "      box-shadow: 0px 1px 2px rgba(60, 64, 67, 0.3), 0px 1px 3px 1px rgba(60, 64, 67, 0.15);\n",
              "      fill: #174EA6;\n",
              "    }\n",
              "\n",
              "    [theme=dark] .colab-df-convert {\n",
              "      background-color: #3B4455;\n",
              "      fill: #D2E3FC;\n",
              "    }\n",
              "\n",
              "    [theme=dark] .colab-df-convert:hover {\n",
              "      background-color: #434B5C;\n",
              "      box-shadow: 0px 1px 3px 1px rgba(0, 0, 0, 0.15);\n",
              "      filter: drop-shadow(0px 1px 2px rgba(0, 0, 0, 0.3));\n",
              "      fill: #FFFFFF;\n",
              "    }\n",
              "  </style>\n",
              "\n",
              "      <script>\n",
              "        const buttonEl =\n",
              "          document.querySelector('#df-40705be8-035d-4cad-a190-7f542b3bea35 button.colab-df-convert');\n",
              "        buttonEl.style.display =\n",
              "          google.colab.kernel.accessAllowed ? 'block' : 'none';\n",
              "\n",
              "        async function convertToInteractive(key) {\n",
              "          const element = document.querySelector('#df-40705be8-035d-4cad-a190-7f542b3bea35');\n",
              "          const dataTable =\n",
              "            await google.colab.kernel.invokeFunction('convertToInteractive',\n",
              "                                                     [key], {});\n",
              "          if (!dataTable) return;\n",
              "\n",
              "          const docLinkHtml = 'Like what you see? Visit the ' +\n",
              "            '<a target=\"_blank\" href=https://colab.research.google.com/notebooks/data_table.ipynb>data table notebook</a>'\n",
              "            + ' to learn more about interactive tables.';\n",
              "          element.innerHTML = '';\n",
              "          dataTable['output_type'] = 'display_data';\n",
              "          await google.colab.output.renderOutput(dataTable, element);\n",
              "          const docLink = document.createElement('div');\n",
              "          docLink.innerHTML = docLinkHtml;\n",
              "          element.appendChild(docLink);\n",
              "        }\n",
              "      </script>\n",
              "    </div>\n",
              "  </div>\n",
              "  "
            ],
            "text/plain": [
              "       sentence_idx          word      tag pos\n",
              "0                 0       Exhibit        O  NN\n",
              "1                 0          10.6        O  NN\n",
              "2                 0    memorandum    B-DOC  NN\n",
              "3                 0       Between        O  NN\n",
              "4                 0  (hereinafter  B-PARTY  NN\n",
              "...             ...           ...      ...  ..\n",
              "98359    8589937102             .        O  NN\n",
              "98360    8589937102      Language        O  NN\n",
              "98361    8589937102           and        O  NN\n",
              "98362    8589937102    propietary   B-ROLE  NN\n",
              "98363    8589937102             .        O  NN\n",
              "\n",
              "[83262 rows x 4 columns]"
            ]
          },
          "execution_count": 21,
          "metadata": {},
          "output_type": "execute_result"
        }
      ],
      "source": [
        "train_data_df"
      ]
    },
    {
      "cell_type": "code",
      "execution_count": null,
      "metadata": {
        "colab": {
          "base_uri": "https://localhost:8080/",
          "height": 424
        },
        "id": "OL4_ZptRsg_M",
        "outputId": "343bd6df-d3aa-4bd0-a34f-5cbcf59abee0"
      },
      "outputs": [
        {
          "data": {
            "text/html": [
              "\n",
              "  <div id=\"df-b7ae8757-b22e-4ee7-8d96-5f71e2a44e9b\">\n",
              "    <div class=\"colab-df-container\">\n",
              "      <div>\n",
              "<style scoped>\n",
              "    .dataframe tbody tr th:only-of-type {\n",
              "        vertical-align: middle;\n",
              "    }\n",
              "\n",
              "    .dataframe tbody tr th {\n",
              "        vertical-align: top;\n",
              "    }\n",
              "\n",
              "    .dataframe thead th {\n",
              "        text-align: right;\n",
              "    }\n",
              "</style>\n",
              "<table border=\"1\" class=\"dataframe\">\n",
              "  <thead>\n",
              "    <tr style=\"text-align: right;\">\n",
              "      <th></th>\n",
              "      <th>sentence_idx</th>\n",
              "      <th>word</th>\n",
              "      <th>tag</th>\n",
              "      <th>pos</th>\n",
              "    </tr>\n",
              "  </thead>\n",
              "  <tbody>\n",
              "    <tr>\n",
              "      <th>93</th>\n",
              "      <td>8</td>\n",
              "      <td>ARTICLE</td>\n",
              "      <td>O</td>\n",
              "      <td>NN</td>\n",
              "    </tr>\n",
              "    <tr>\n",
              "      <th>94</th>\n",
              "      <td>8</td>\n",
              "      <td>IV</td>\n",
              "      <td>O</td>\n",
              "      <td>NN</td>\n",
              "    </tr>\n",
              "    <tr>\n",
              "      <th>95</th>\n",
              "      <td>8</td>\n",
              "      <td>DUTIES</td>\n",
              "      <td>O</td>\n",
              "      <td>NN</td>\n",
              "    </tr>\n",
              "    <tr>\n",
              "      <th>96</th>\n",
              "      <td>8</td>\n",
              "      <td>AS</td>\n",
              "      <td>O</td>\n",
              "      <td>NN</td>\n",
              "    </tr>\n",
              "    <tr>\n",
              "      <th>97</th>\n",
              "      <td>8</td>\n",
              "      <td>WATER</td>\n",
              "      <td>B-PARTY</td>\n",
              "      <td>NN</td>\n",
              "    </tr>\n",
              "    <tr>\n",
              "      <th>...</th>\n",
              "      <td>...</td>\n",
              "      <td>...</td>\n",
              "      <td>...</td>\n",
              "      <td>...</td>\n",
              "    </tr>\n",
              "    <tr>\n",
              "      <th>98334</th>\n",
              "      <td>8589937099</td>\n",
              "      <td>determined</td>\n",
              "      <td>O</td>\n",
              "      <td>NN</td>\n",
              "    </tr>\n",
              "    <tr>\n",
              "      <th>98335</th>\n",
              "      <td>8589937099</td>\n",
              "      <td>to</td>\n",
              "      <td>O</td>\n",
              "      <td>NN</td>\n",
              "    </tr>\n",
              "    <tr>\n",
              "      <th>98336</th>\n",
              "      <td>8589937099</td>\n",
              "      <td>be</td>\n",
              "      <td>O</td>\n",
              "      <td>NN</td>\n",
              "    </tr>\n",
              "    <tr>\n",
              "      <th>98337</th>\n",
              "      <td>8589937099</td>\n",
              "      <td>void</td>\n",
              "      <td>O</td>\n",
              "      <td>NN</td>\n",
              "    </tr>\n",
              "    <tr>\n",
              "      <th>98338</th>\n",
              "      <td>8589937099</td>\n",
              "      <td>,</td>\n",
              "      <td>O</td>\n",
              "      <td>NN</td>\n",
              "    </tr>\n",
              "  </tbody>\n",
              "</table>\n",
              "<p>15102 rows × 4 columns</p>\n",
              "</div>\n",
              "      <button class=\"colab-df-convert\" onclick=\"convertToInteractive('df-b7ae8757-b22e-4ee7-8d96-5f71e2a44e9b')\"\n",
              "              title=\"Convert this dataframe to an interactive table.\"\n",
              "              style=\"display:none;\">\n",
              "        \n",
              "  <svg xmlns=\"http://www.w3.org/2000/svg\" height=\"24px\"viewBox=\"0 0 24 24\"\n",
              "       width=\"24px\">\n",
              "    <path d=\"M0 0h24v24H0V0z\" fill=\"none\"/>\n",
              "    <path d=\"M18.56 5.44l.94 2.06.94-2.06 2.06-.94-2.06-.94-.94-2.06-.94 2.06-2.06.94zm-11 1L8.5 8.5l.94-2.06 2.06-.94-2.06-.94L8.5 2.5l-.94 2.06-2.06.94zm10 10l.94 2.06.94-2.06 2.06-.94-2.06-.94-.94-2.06-.94 2.06-2.06.94z\"/><path d=\"M17.41 7.96l-1.37-1.37c-.4-.4-.92-.59-1.43-.59-.52 0-1.04.2-1.43.59L10.3 9.45l-7.72 7.72c-.78.78-.78 2.05 0 2.83L4 21.41c.39.39.9.59 1.41.59.51 0 1.02-.2 1.41-.59l7.78-7.78 2.81-2.81c.8-.78.8-2.07 0-2.86zM5.41 20L4 18.59l7.72-7.72 1.47 1.35L5.41 20z\"/>\n",
              "  </svg>\n",
              "      </button>\n",
              "      \n",
              "  <style>\n",
              "    .colab-df-container {\n",
              "      display:flex;\n",
              "      flex-wrap:wrap;\n",
              "      gap: 12px;\n",
              "    }\n",
              "\n",
              "    .colab-df-convert {\n",
              "      background-color: #E8F0FE;\n",
              "      border: none;\n",
              "      border-radius: 50%;\n",
              "      cursor: pointer;\n",
              "      display: none;\n",
              "      fill: #1967D2;\n",
              "      height: 32px;\n",
              "      padding: 0 0 0 0;\n",
              "      width: 32px;\n",
              "    }\n",
              "\n",
              "    .colab-df-convert:hover {\n",
              "      background-color: #E2EBFA;\n",
              "      box-shadow: 0px 1px 2px rgba(60, 64, 67, 0.3), 0px 1px 3px 1px rgba(60, 64, 67, 0.15);\n",
              "      fill: #174EA6;\n",
              "    }\n",
              "\n",
              "    [theme=dark] .colab-df-convert {\n",
              "      background-color: #3B4455;\n",
              "      fill: #D2E3FC;\n",
              "    }\n",
              "\n",
              "    [theme=dark] .colab-df-convert:hover {\n",
              "      background-color: #434B5C;\n",
              "      box-shadow: 0px 1px 3px 1px rgba(0, 0, 0, 0.15);\n",
              "      filter: drop-shadow(0px 1px 2px rgba(0, 0, 0, 0.3));\n",
              "      fill: #FFFFFF;\n",
              "    }\n",
              "  </style>\n",
              "\n",
              "      <script>\n",
              "        const buttonEl =\n",
              "          document.querySelector('#df-b7ae8757-b22e-4ee7-8d96-5f71e2a44e9b button.colab-df-convert');\n",
              "        buttonEl.style.display =\n",
              "          google.colab.kernel.accessAllowed ? 'block' : 'none';\n",
              "\n",
              "        async function convertToInteractive(key) {\n",
              "          const element = document.querySelector('#df-b7ae8757-b22e-4ee7-8d96-5f71e2a44e9b');\n",
              "          const dataTable =\n",
              "            await google.colab.kernel.invokeFunction('convertToInteractive',\n",
              "                                                     [key], {});\n",
              "          if (!dataTable) return;\n",
              "\n",
              "          const docLinkHtml = 'Like what you see? Visit the ' +\n",
              "            '<a target=\"_blank\" href=https://colab.research.google.com/notebooks/data_table.ipynb>data table notebook</a>'\n",
              "            + ' to learn more about interactive tables.';\n",
              "          element.innerHTML = '';\n",
              "          dataTable['output_type'] = 'display_data';\n",
              "          await google.colab.output.renderOutput(dataTable, element);\n",
              "          const docLink = document.createElement('div');\n",
              "          docLink.innerHTML = docLinkHtml;\n",
              "          element.appendChild(docLink);\n",
              "        }\n",
              "      </script>\n",
              "    </div>\n",
              "  </div>\n",
              "  "
            ],
            "text/plain": [
              "       sentence_idx        word      tag pos\n",
              "93                8     ARTICLE        O  NN\n",
              "94                8          IV        O  NN\n",
              "95                8      DUTIES        O  NN\n",
              "96                8          AS        O  NN\n",
              "97                8       WATER  B-PARTY  NN\n",
              "...             ...         ...      ...  ..\n",
              "98334    8589937099  determined        O  NN\n",
              "98335    8589937099          to        O  NN\n",
              "98336    8589937099          be        O  NN\n",
              "98337    8589937099        void        O  NN\n",
              "98338    8589937099           ,        O  NN\n",
              "\n",
              "[15102 rows x 4 columns]"
            ]
          },
          "execution_count": 22,
          "metadata": {},
          "output_type": "execute_result"
        }
      ],
      "source": [
        "test_data_df"
      ]
    },
    {
      "cell_type": "markdown",
      "metadata": {
        "id": "KJtYQBxNu5fJ"
      },
      "source": [
        "## Checking the DF looks good"
      ]
    },
    {
      "cell_type": "code",
      "execution_count": null,
      "metadata": {
        "colab": {
          "base_uri": "https://localhost:8080/",
          "height": 834
        },
        "id": "IZqA3OEqtIRf",
        "outputId": "b2190f0d-7329-42de-a26b-34cc1ee5cccc"
      },
      "outputs": [
        {
          "data": {
            "text/html": [
              "\n",
              "  <div id=\"df-01da516a-90cc-4b25-b3f6-e5b43c23e0bf\">\n",
              "    <div class=\"colab-df-container\">\n",
              "      <div>\n",
              "<style scoped>\n",
              "    .dataframe tbody tr th:only-of-type {\n",
              "        vertical-align: middle;\n",
              "    }\n",
              "\n",
              "    .dataframe tbody tr th {\n",
              "        vertical-align: top;\n",
              "    }\n",
              "\n",
              "    .dataframe thead th {\n",
              "        text-align: right;\n",
              "    }\n",
              "</style>\n",
              "<table border=\"1\" class=\"dataframe\">\n",
              "  <thead>\n",
              "    <tr style=\"text-align: right;\">\n",
              "      <th></th>\n",
              "      <th>sentence_idx</th>\n",
              "      <th>word</th>\n",
              "      <th>tag</th>\n",
              "      <th>pos</th>\n",
              "    </tr>\n",
              "  </thead>\n",
              "  <tbody>\n",
              "    <tr>\n",
              "      <th>0</th>\n",
              "      <td>0</td>\n",
              "      <td>Exhibit</td>\n",
              "      <td>O</td>\n",
              "      <td>NN</td>\n",
              "    </tr>\n",
              "    <tr>\n",
              "      <th>1</th>\n",
              "      <td>0</td>\n",
              "      <td>10.6</td>\n",
              "      <td>O</td>\n",
              "      <td>NN</td>\n",
              "    </tr>\n",
              "    <tr>\n",
              "      <th>2</th>\n",
              "      <td>0</td>\n",
              "      <td>memorandum</td>\n",
              "      <td>B-DOC</td>\n",
              "      <td>NN</td>\n",
              "    </tr>\n",
              "    <tr>\n",
              "      <th>3</th>\n",
              "      <td>0</td>\n",
              "      <td>Between</td>\n",
              "      <td>O</td>\n",
              "      <td>NN</td>\n",
              "    </tr>\n",
              "    <tr>\n",
              "      <th>4</th>\n",
              "      <td>0</td>\n",
              "      <td>(hereinafter</td>\n",
              "      <td>B-PARTY</td>\n",
              "      <td>NN</td>\n",
              "    </tr>\n",
              "    <tr>\n",
              "      <th>5</th>\n",
              "      <td>0</td>\n",
              "      <td>collectively</td>\n",
              "      <td>I-PARTY</td>\n",
              "      <td>NN</td>\n",
              "    </tr>\n",
              "    <tr>\n",
              "      <th>6</th>\n",
              "      <td>0</td>\n",
              "      <td>called</td>\n",
              "      <td>I-PARTY</td>\n",
              "      <td>NN</td>\n",
              "    </tr>\n",
              "    <tr>\n",
              "      <th>7</th>\n",
              "      <td>0</td>\n",
              "      <td>\"Parties\"</td>\n",
              "      <td>I-PARTY</td>\n",
              "      <td>NN</td>\n",
              "    </tr>\n",
              "    <tr>\n",
              "      <th>8</th>\n",
              "      <td>0</td>\n",
              "      <td>and</td>\n",
              "      <td>I-PARTY</td>\n",
              "      <td>NN</td>\n",
              "    </tr>\n",
              "    <tr>\n",
              "      <th>9</th>\n",
              "      <td>0</td>\n",
              "      <td>individually</td>\n",
              "      <td>I-PARTY</td>\n",
              "      <td>NN</td>\n",
              "    </tr>\n",
              "    <tr>\n",
              "      <th>10</th>\n",
              "      <td>0</td>\n",
              "      <td>called</td>\n",
              "      <td>I-PARTY</td>\n",
              "      <td>NN</td>\n",
              "    </tr>\n",
              "    <tr>\n",
              "      <th>11</th>\n",
              "      <td>0</td>\n",
              "      <td>\"Party\"),</td>\n",
              "      <td>I-PARTY</td>\n",
              "      <td>NN</td>\n",
              "    </tr>\n",
              "    <tr>\n",
              "      <th>12</th>\n",
              "      <td>0</td>\n",
              "      <td>And</td>\n",
              "      <td>O</td>\n",
              "      <td>NN</td>\n",
              "    </tr>\n",
              "    <tr>\n",
              "      <th>13</th>\n",
              "      <td>0</td>\n",
              "      <td>MBE</td>\n",
              "      <td>B-PARTY</td>\n",
              "      <td>NN</td>\n",
              "    </tr>\n",
              "    <tr>\n",
              "      <th>14</th>\n",
              "      <td>1</td>\n",
              "      <td>ARTICLE</td>\n",
              "      <td>O</td>\n",
              "      <td>NN</td>\n",
              "    </tr>\n",
              "    <tr>\n",
              "      <th>15</th>\n",
              "      <td>1</td>\n",
              "      <td>II</td>\n",
              "      <td>O</td>\n",
              "      <td>NN</td>\n",
              "    </tr>\n",
              "    <tr>\n",
              "      <th>16</th>\n",
              "      <td>1</td>\n",
              "      <td>ENGAGEMENT</td>\n",
              "      <td>O</td>\n",
              "      <td>NN</td>\n",
              "    </tr>\n",
              "    <tr>\n",
              "      <th>17</th>\n",
              "      <td>1</td>\n",
              "      <td>OF</td>\n",
              "      <td>O</td>\n",
              "      <td>NN</td>\n",
              "    </tr>\n",
              "    <tr>\n",
              "      <th>18</th>\n",
              "      <td>1</td>\n",
              "      <td>ZEBRA</td>\n",
              "      <td>B-PARTY</td>\n",
              "      <td>NN</td>\n",
              "    </tr>\n",
              "    <tr>\n",
              "      <th>19</th>\n",
              "      <td>1</td>\n",
              "      <td>BRAZIL</td>\n",
              "      <td>I-PARTY</td>\n",
              "      <td>NN</td>\n",
              "    </tr>\n",
              "    <tr>\n",
              "      <th>20</th>\n",
              "      <td>1</td>\n",
              "      <td>6</td>\n",
              "      <td>O</td>\n",
              "      <td>NN</td>\n",
              "    </tr>\n",
              "    <tr>\n",
              "      <th>21</th>\n",
              "      <td>2</td>\n",
              "      <td>ARTICLE</td>\n",
              "      <td>O</td>\n",
              "      <td>NN</td>\n",
              "    </tr>\n",
              "    <tr>\n",
              "      <th>22</th>\n",
              "      <td>2</td>\n",
              "      <td>II</td>\n",
              "      <td>O</td>\n",
              "      <td>NN</td>\n",
              "    </tr>\n",
              "    <tr>\n",
              "      <th>23</th>\n",
              "      <td>2</td>\n",
              "      <td>ENGAGEMENT</td>\n",
              "      <td>O</td>\n",
              "      <td>NN</td>\n",
              "    </tr>\n",
              "    <tr>\n",
              "      <th>24</th>\n",
              "      <td>2</td>\n",
              "      <td>OF</td>\n",
              "      <td>O</td>\n",
              "      <td>NN</td>\n",
              "    </tr>\n",
              "  </tbody>\n",
              "</table>\n",
              "</div>\n",
              "      <button class=\"colab-df-convert\" onclick=\"convertToInteractive('df-01da516a-90cc-4b25-b3f6-e5b43c23e0bf')\"\n",
              "              title=\"Convert this dataframe to an interactive table.\"\n",
              "              style=\"display:none;\">\n",
              "        \n",
              "  <svg xmlns=\"http://www.w3.org/2000/svg\" height=\"24px\"viewBox=\"0 0 24 24\"\n",
              "       width=\"24px\">\n",
              "    <path d=\"M0 0h24v24H0V0z\" fill=\"none\"/>\n",
              "    <path d=\"M18.56 5.44l.94 2.06.94-2.06 2.06-.94-2.06-.94-.94-2.06-.94 2.06-2.06.94zm-11 1L8.5 8.5l.94-2.06 2.06-.94-2.06-.94L8.5 2.5l-.94 2.06-2.06.94zm10 10l.94 2.06.94-2.06 2.06-.94-2.06-.94-.94-2.06-.94 2.06-2.06.94z\"/><path d=\"M17.41 7.96l-1.37-1.37c-.4-.4-.92-.59-1.43-.59-.52 0-1.04.2-1.43.59L10.3 9.45l-7.72 7.72c-.78.78-.78 2.05 0 2.83L4 21.41c.39.39.9.59 1.41.59.51 0 1.02-.2 1.41-.59l7.78-7.78 2.81-2.81c.8-.78.8-2.07 0-2.86zM5.41 20L4 18.59l7.72-7.72 1.47 1.35L5.41 20z\"/>\n",
              "  </svg>\n",
              "      </button>\n",
              "      \n",
              "  <style>\n",
              "    .colab-df-container {\n",
              "      display:flex;\n",
              "      flex-wrap:wrap;\n",
              "      gap: 12px;\n",
              "    }\n",
              "\n",
              "    .colab-df-convert {\n",
              "      background-color: #E8F0FE;\n",
              "      border: none;\n",
              "      border-radius: 50%;\n",
              "      cursor: pointer;\n",
              "      display: none;\n",
              "      fill: #1967D2;\n",
              "      height: 32px;\n",
              "      padding: 0 0 0 0;\n",
              "      width: 32px;\n",
              "    }\n",
              "\n",
              "    .colab-df-convert:hover {\n",
              "      background-color: #E2EBFA;\n",
              "      box-shadow: 0px 1px 2px rgba(60, 64, 67, 0.3), 0px 1px 3px 1px rgba(60, 64, 67, 0.15);\n",
              "      fill: #174EA6;\n",
              "    }\n",
              "\n",
              "    [theme=dark] .colab-df-convert {\n",
              "      background-color: #3B4455;\n",
              "      fill: #D2E3FC;\n",
              "    }\n",
              "\n",
              "    [theme=dark] .colab-df-convert:hover {\n",
              "      background-color: #434B5C;\n",
              "      box-shadow: 0px 1px 3px 1px rgba(0, 0, 0, 0.15);\n",
              "      filter: drop-shadow(0px 1px 2px rgba(0, 0, 0, 0.3));\n",
              "      fill: #FFFFFF;\n",
              "    }\n",
              "  </style>\n",
              "\n",
              "      <script>\n",
              "        const buttonEl =\n",
              "          document.querySelector('#df-01da516a-90cc-4b25-b3f6-e5b43c23e0bf button.colab-df-convert');\n",
              "        buttonEl.style.display =\n",
              "          google.colab.kernel.accessAllowed ? 'block' : 'none';\n",
              "\n",
              "        async function convertToInteractive(key) {\n",
              "          const element = document.querySelector('#df-01da516a-90cc-4b25-b3f6-e5b43c23e0bf');\n",
              "          const dataTable =\n",
              "            await google.colab.kernel.invokeFunction('convertToInteractive',\n",
              "                                                     [key], {});\n",
              "          if (!dataTable) return;\n",
              "\n",
              "          const docLinkHtml = 'Like what you see? Visit the ' +\n",
              "            '<a target=\"_blank\" href=https://colab.research.google.com/notebooks/data_table.ipynb>data table notebook</a>'\n",
              "            + ' to learn more about interactive tables.';\n",
              "          element.innerHTML = '';\n",
              "          dataTable['output_type'] = 'display_data';\n",
              "          await google.colab.output.renderOutput(dataTable, element);\n",
              "          const docLink = document.createElement('div');\n",
              "          docLink.innerHTML = docLinkHtml;\n",
              "          element.appendChild(docLink);\n",
              "        }\n",
              "      </script>\n",
              "    </div>\n",
              "  </div>\n",
              "  "
            ],
            "text/plain": [
              "    sentence_idx          word      tag pos\n",
              "0              0       Exhibit        O  NN\n",
              "1              0          10.6        O  NN\n",
              "2              0    memorandum    B-DOC  NN\n",
              "3              0       Between        O  NN\n",
              "4              0  (hereinafter  B-PARTY  NN\n",
              "5              0  collectively  I-PARTY  NN\n",
              "6              0        called  I-PARTY  NN\n",
              "7              0     \"Parties\"  I-PARTY  NN\n",
              "8              0           and  I-PARTY  NN\n",
              "9              0  individually  I-PARTY  NN\n",
              "10             0        called  I-PARTY  NN\n",
              "11             0     \"Party\"),  I-PARTY  NN\n",
              "12             0           And        O  NN\n",
              "13             0           MBE  B-PARTY  NN\n",
              "14             1       ARTICLE        O  NN\n",
              "15             1            II        O  NN\n",
              "16             1    ENGAGEMENT        O  NN\n",
              "17             1            OF        O  NN\n",
              "18             1         ZEBRA  B-PARTY  NN\n",
              "19             1        BRAZIL  I-PARTY  NN\n",
              "20             1             6        O  NN\n",
              "21             2       ARTICLE        O  NN\n",
              "22             2            II        O  NN\n",
              "23             2    ENGAGEMENT        O  NN\n",
              "24             2            OF        O  NN"
            ]
          },
          "execution_count": 23,
          "metadata": {},
          "output_type": "execute_result"
        }
      ],
      "source": [
        "train_data_df.head(25)"
      ]
    },
    {
      "cell_type": "code",
      "execution_count": null,
      "metadata": {
        "colab": {
          "base_uri": "https://localhost:8080/",
          "height": 834
        },
        "id": "AkGDhm9dYvJW",
        "outputId": "1b753b3e-bc8c-450b-c29a-68f41eb05d40"
      },
      "outputs": [
        {
          "data": {
            "text/html": [
              "\n",
              "  <div id=\"df-4f7350f3-251c-4717-b8ad-8ba9301c7720\">\n",
              "    <div class=\"colab-df-container\">\n",
              "      <div>\n",
              "<style scoped>\n",
              "    .dataframe tbody tr th:only-of-type {\n",
              "        vertical-align: middle;\n",
              "    }\n",
              "\n",
              "    .dataframe tbody tr th {\n",
              "        vertical-align: top;\n",
              "    }\n",
              "\n",
              "    .dataframe thead th {\n",
              "        text-align: right;\n",
              "    }\n",
              "</style>\n",
              "<table border=\"1\" class=\"dataframe\">\n",
              "  <thead>\n",
              "    <tr style=\"text-align: right;\">\n",
              "      <th></th>\n",
              "      <th>sentence_idx</th>\n",
              "      <th>word</th>\n",
              "      <th>tag</th>\n",
              "      <th>pos</th>\n",
              "    </tr>\n",
              "  </thead>\n",
              "  <tbody>\n",
              "    <tr>\n",
              "      <th>93</th>\n",
              "      <td>8</td>\n",
              "      <td>ARTICLE</td>\n",
              "      <td>O</td>\n",
              "      <td>NN</td>\n",
              "    </tr>\n",
              "    <tr>\n",
              "      <th>94</th>\n",
              "      <td>8</td>\n",
              "      <td>IV</td>\n",
              "      <td>O</td>\n",
              "      <td>NN</td>\n",
              "    </tr>\n",
              "    <tr>\n",
              "      <th>95</th>\n",
              "      <td>8</td>\n",
              "      <td>DUTIES</td>\n",
              "      <td>O</td>\n",
              "      <td>NN</td>\n",
              "    </tr>\n",
              "    <tr>\n",
              "      <th>96</th>\n",
              "      <td>8</td>\n",
              "      <td>AS</td>\n",
              "      <td>O</td>\n",
              "      <td>NN</td>\n",
              "    </tr>\n",
              "    <tr>\n",
              "      <th>97</th>\n",
              "      <td>8</td>\n",
              "      <td>WATER</td>\n",
              "      <td>B-PARTY</td>\n",
              "      <td>NN</td>\n",
              "    </tr>\n",
              "    <tr>\n",
              "      <th>98</th>\n",
              "      <td>8</td>\n",
              "      <td>NOW,</td>\n",
              "      <td>I-PARTY</td>\n",
              "      <td>NN</td>\n",
              "    </tr>\n",
              "    <tr>\n",
              "      <th>99</th>\n",
              "      <td>8</td>\n",
              "      <td>INC.</td>\n",
              "      <td>I-PARTY</td>\n",
              "      <td>NN</td>\n",
              "    </tr>\n",
              "    <tr>\n",
              "      <th>100</th>\n",
              "      <td>8</td>\n",
              "      <td>9</td>\n",
              "      <td>O</td>\n",
              "      <td>NN</td>\n",
              "    </tr>\n",
              "    <tr>\n",
              "      <th>126</th>\n",
              "      <td>12</td>\n",
              "      <td>6.6</td>\n",
              "      <td>O</td>\n",
              "      <td>NN</td>\n",
              "    </tr>\n",
              "    <tr>\n",
              "      <th>127</th>\n",
              "      <td>12</td>\n",
              "      <td>PRODUCT</td>\n",
              "      <td>B-DOC</td>\n",
              "      <td>NN</td>\n",
              "    </tr>\n",
              "    <tr>\n",
              "      <th>128</th>\n",
              "      <td>12</td>\n",
              "      <td>DEVELOPMENT</td>\n",
              "      <td>I-DOC</td>\n",
              "      <td>NN</td>\n",
              "    </tr>\n",
              "    <tr>\n",
              "      <th>129</th>\n",
              "      <td>12</td>\n",
              "      <td>AND</td>\n",
              "      <td>I-DOC</td>\n",
              "      <td>NN</td>\n",
              "    </tr>\n",
              "    <tr>\n",
              "      <th>130</th>\n",
              "      <td>12</td>\n",
              "      <td>CO-BRANDING</td>\n",
              "      <td>I-DOC</td>\n",
              "      <td>NN</td>\n",
              "    </tr>\n",
              "    <tr>\n",
              "      <th>131</th>\n",
              "      <td>12</td>\n",
              "      <td>AGREEMENT</td>\n",
              "      <td>I-DOC</td>\n",
              "      <td>NN</td>\n",
              "    </tr>\n",
              "    <tr>\n",
              "      <th>132</th>\n",
              "      <td>12</td>\n",
              "      <td>Inquiries</td>\n",
              "      <td>O</td>\n",
              "      <td>NN</td>\n",
              "    </tr>\n",
              "    <tr>\n",
              "      <th>133</th>\n",
              "      <td>12</td>\n",
              "      <td>17</td>\n",
              "      <td>O</td>\n",
              "      <td>NN</td>\n",
              "    </tr>\n",
              "    <tr>\n",
              "      <th>189</th>\n",
              "      <td>17</td>\n",
              "      <td>TCW</td>\n",
              "      <td>B-PARTY</td>\n",
              "      <td>NN</td>\n",
              "    </tr>\n",
              "    <tr>\n",
              "      <th>190</th>\n",
              "      <td>17</td>\n",
              "      <td>Pecos</td>\n",
              "      <td>B-PARTY</td>\n",
              "      <td>NN</td>\n",
              "    </tr>\n",
              "    <tr>\n",
              "      <th>191</th>\n",
              "      <td>17</td>\n",
              "      <td>Midstream</td>\n",
              "      <td>B-PARTY</td>\n",
              "      <td>NN</td>\n",
              "    </tr>\n",
              "    <tr>\n",
              "      <th>192</th>\n",
              "      <td>17</td>\n",
              "      <td>has</td>\n",
              "      <td>O</td>\n",
              "      <td>NN</td>\n",
              "    </tr>\n",
              "    <tr>\n",
              "      <th>193</th>\n",
              "      <td>17</td>\n",
              "      <td>purchased</td>\n",
              "      <td>O</td>\n",
              "      <td>NN</td>\n",
              "    </tr>\n",
              "    <tr>\n",
              "      <th>194</th>\n",
              "      <td>17</td>\n",
              "      <td>from</td>\n",
              "      <td>O</td>\n",
              "      <td>NN</td>\n",
              "    </tr>\n",
              "    <tr>\n",
              "      <th>195</th>\n",
              "      <td>17</td>\n",
              "      <td>(NCM,</td>\n",
              "      <td>B-PARTY</td>\n",
              "      <td>NN</td>\n",
              "    </tr>\n",
              "    <tr>\n",
              "      <th>196</th>\n",
              "      <td>17</td>\n",
              "      <td>YGP</td>\n",
              "      <td>I-PARTY</td>\n",
              "      <td>NN</td>\n",
              "    </tr>\n",
              "    <tr>\n",
              "      <th>197</th>\n",
              "      <td>17</td>\n",
              "      <td>and</td>\n",
              "      <td>I-PARTY</td>\n",
              "      <td>NN</td>\n",
              "    </tr>\n",
              "  </tbody>\n",
              "</table>\n",
              "</div>\n",
              "      <button class=\"colab-df-convert\" onclick=\"convertToInteractive('df-4f7350f3-251c-4717-b8ad-8ba9301c7720')\"\n",
              "              title=\"Convert this dataframe to an interactive table.\"\n",
              "              style=\"display:none;\">\n",
              "        \n",
              "  <svg xmlns=\"http://www.w3.org/2000/svg\" height=\"24px\"viewBox=\"0 0 24 24\"\n",
              "       width=\"24px\">\n",
              "    <path d=\"M0 0h24v24H0V0z\" fill=\"none\"/>\n",
              "    <path d=\"M18.56 5.44l.94 2.06.94-2.06 2.06-.94-2.06-.94-.94-2.06-.94 2.06-2.06.94zm-11 1L8.5 8.5l.94-2.06 2.06-.94-2.06-.94L8.5 2.5l-.94 2.06-2.06.94zm10 10l.94 2.06.94-2.06 2.06-.94-2.06-.94-.94-2.06-.94 2.06-2.06.94z\"/><path d=\"M17.41 7.96l-1.37-1.37c-.4-.4-.92-.59-1.43-.59-.52 0-1.04.2-1.43.59L10.3 9.45l-7.72 7.72c-.78.78-.78 2.05 0 2.83L4 21.41c.39.39.9.59 1.41.59.51 0 1.02-.2 1.41-.59l7.78-7.78 2.81-2.81c.8-.78.8-2.07 0-2.86zM5.41 20L4 18.59l7.72-7.72 1.47 1.35L5.41 20z\"/>\n",
              "  </svg>\n",
              "      </button>\n",
              "      \n",
              "  <style>\n",
              "    .colab-df-container {\n",
              "      display:flex;\n",
              "      flex-wrap:wrap;\n",
              "      gap: 12px;\n",
              "    }\n",
              "\n",
              "    .colab-df-convert {\n",
              "      background-color: #E8F0FE;\n",
              "      border: none;\n",
              "      border-radius: 50%;\n",
              "      cursor: pointer;\n",
              "      display: none;\n",
              "      fill: #1967D2;\n",
              "      height: 32px;\n",
              "      padding: 0 0 0 0;\n",
              "      width: 32px;\n",
              "    }\n",
              "\n",
              "    .colab-df-convert:hover {\n",
              "      background-color: #E2EBFA;\n",
              "      box-shadow: 0px 1px 2px rgba(60, 64, 67, 0.3), 0px 1px 3px 1px rgba(60, 64, 67, 0.15);\n",
              "      fill: #174EA6;\n",
              "    }\n",
              "\n",
              "    [theme=dark] .colab-df-convert {\n",
              "      background-color: #3B4455;\n",
              "      fill: #D2E3FC;\n",
              "    }\n",
              "\n",
              "    [theme=dark] .colab-df-convert:hover {\n",
              "      background-color: #434B5C;\n",
              "      box-shadow: 0px 1px 3px 1px rgba(0, 0, 0, 0.15);\n",
              "      filter: drop-shadow(0px 1px 2px rgba(0, 0, 0, 0.3));\n",
              "      fill: #FFFFFF;\n",
              "    }\n",
              "  </style>\n",
              "\n",
              "      <script>\n",
              "        const buttonEl =\n",
              "          document.querySelector('#df-4f7350f3-251c-4717-b8ad-8ba9301c7720 button.colab-df-convert');\n",
              "        buttonEl.style.display =\n",
              "          google.colab.kernel.accessAllowed ? 'block' : 'none';\n",
              "\n",
              "        async function convertToInteractive(key) {\n",
              "          const element = document.querySelector('#df-4f7350f3-251c-4717-b8ad-8ba9301c7720');\n",
              "          const dataTable =\n",
              "            await google.colab.kernel.invokeFunction('convertToInteractive',\n",
              "                                                     [key], {});\n",
              "          if (!dataTable) return;\n",
              "\n",
              "          const docLinkHtml = 'Like what you see? Visit the ' +\n",
              "            '<a target=\"_blank\" href=https://colab.research.google.com/notebooks/data_table.ipynb>data table notebook</a>'\n",
              "            + ' to learn more about interactive tables.';\n",
              "          element.innerHTML = '';\n",
              "          dataTable['output_type'] = 'display_data';\n",
              "          await google.colab.output.renderOutput(dataTable, element);\n",
              "          const docLink = document.createElement('div');\n",
              "          docLink.innerHTML = docLinkHtml;\n",
              "          element.appendChild(docLink);\n",
              "        }\n",
              "      </script>\n",
              "    </div>\n",
              "  </div>\n",
              "  "
            ],
            "text/plain": [
              "     sentence_idx         word      tag pos\n",
              "93              8      ARTICLE        O  NN\n",
              "94              8           IV        O  NN\n",
              "95              8       DUTIES        O  NN\n",
              "96              8           AS        O  NN\n",
              "97              8        WATER  B-PARTY  NN\n",
              "98              8         NOW,  I-PARTY  NN\n",
              "99              8         INC.  I-PARTY  NN\n",
              "100             8            9        O  NN\n",
              "126            12          6.6        O  NN\n",
              "127            12      PRODUCT    B-DOC  NN\n",
              "128            12  DEVELOPMENT    I-DOC  NN\n",
              "129            12          AND    I-DOC  NN\n",
              "130            12  CO-BRANDING    I-DOC  NN\n",
              "131            12    AGREEMENT    I-DOC  NN\n",
              "132            12    Inquiries        O  NN\n",
              "133            12           17        O  NN\n",
              "189            17          TCW  B-PARTY  NN\n",
              "190            17        Pecos  B-PARTY  NN\n",
              "191            17    Midstream  B-PARTY  NN\n",
              "192            17          has        O  NN\n",
              "193            17    purchased        O  NN\n",
              "194            17         from        O  NN\n",
              "195            17        (NCM,  B-PARTY  NN\n",
              "196            17          YGP  I-PARTY  NN\n",
              "197            17          and  I-PARTY  NN"
            ]
          },
          "execution_count": 24,
          "metadata": {},
          "output_type": "execute_result"
        }
      ],
      "source": [
        "test_data_df.head(25)"
      ]
    },
    {
      "cell_type": "code",
      "execution_count": null,
      "metadata": {
        "colab": {
          "base_uri": "https://localhost:8080/"
        },
        "id": "nvjHUc2pp3jO",
        "outputId": "2444f8ef-0ff2-40d9-9009-42feca9f6b7d"
      },
      "outputs": [
        {
          "name": "stdout",
          "output_type": "stream",
          "text": [
            "(83262, 4)\n"
          ]
        }
      ],
      "source": [
        "print (train_data_df.shape)"
      ]
    },
    {
      "cell_type": "code",
      "execution_count": null,
      "metadata": {
        "colab": {
          "base_uri": "https://localhost:8080/"
        },
        "id": "2LSATNk2Ywpy",
        "outputId": "65afdeb1-18b9-4a46-dd4b-3b0b66ea4822"
      },
      "outputs": [
        {
          "name": "stdout",
          "output_type": "stream",
          "text": [
            "(15102, 4)\n"
          ]
        }
      ],
      "source": [
        "print (test_data_df.shape)"
      ]
    },
    {
      "cell_type": "code",
      "execution_count": null,
      "metadata": {
        "colab": {
          "base_uri": "https://localhost:8080/"
        },
        "id": "pg3k2mCMqsaY",
        "outputId": "f57e5961-04a9-42ce-c992-4741bd155eb3"
      },
      "outputs": [
        {
          "data": {
            "text/plain": [
              "O            60545\n",
              "I-PARTY      10349\n",
              "B-PARTY       4894\n",
              "I-DOC         2730\n",
              "B-DOC         1689\n",
              "B-DATE        1527\n",
              "B-LAW          659\n",
              "B-ROLE         282\n",
              "B-LOC          221\n",
              "B-ORDINAL      132\n",
              "B-PERCENT      116\n",
              "B-PERSON        86\n",
              "I-EFFDATE       17\n",
              "B-EFFDATE       15\n",
              "Name: tag, dtype: int64"
            ]
          },
          "execution_count": 27,
          "metadata": {},
          "output_type": "execute_result"
        }
      ],
      "source": [
        "train_data_df['tag'].value_counts()"
      ]
    },
    {
      "cell_type": "code",
      "execution_count": null,
      "metadata": {
        "colab": {
          "base_uri": "https://localhost:8080/"
        },
        "id": "VaXdpd8aYyWD",
        "outputId": "3700942e-b8f6-4588-abb6-d756bd733fec"
      },
      "outputs": [
        {
          "data": {
            "text/plain": [
              "O            11125\n",
              "I-PARTY       1748\n",
              "B-PARTY        910\n",
              "I-DOC          473\n",
              "B-DOC          318\n",
              "B-DATE         269\n",
              "B-LAW          123\n",
              "B-LOC           38\n",
              "B-ROLE          34\n",
              "B-PERCENT       20\n",
              "B-ORDINAL       19\n",
              "I-EFFDATE       16\n",
              "B-PERSON         6\n",
              "B-EFFDATE        3\n",
              "Name: tag, dtype: int64"
            ]
          },
          "execution_count": 28,
          "metadata": {},
          "output_type": "execute_result"
        }
      ],
      "source": [
        "test_data_df['tag'].value_counts()"
      ]
    },
    {
      "cell_type": "markdown",
      "metadata": {
        "id": "lu_Kwnh28jMZ"
      },
      "source": [
        "# First, train / fine-tune a model on the dataset"
      ]
    },
    {
      "cell_type": "markdown",
      "metadata": {
        "id": "Rmgghg5ZvQNE"
      },
      "source": [
        "## Iterating function to feed the model with sentences\n",
        "Converting conll sentence annotations to tuples (word, pos, tag)"
      ]
    },
    {
      "cell_type": "code",
      "execution_count": null,
      "metadata": {
        "id": "JM2VMINvlpbM"
      },
      "outputs": [],
      "source": [
        "## convert conll file to sentences\n",
        "\n",
        "class SentenceGetter(object):\n",
        "    \n",
        "    def __init__(self, dataset):\n",
        "        self.n_sent = 1\n",
        "        self.dataset = dataset\n",
        "        self.empty = False\n",
        "        agg_func = lambda s: [(w,p, t) for w,p, t in zip(s[\"word\"].values.tolist(),\n",
        "                                                       s['pos'].values.tolist(),\n",
        "                                                        s[\"tag\"].values.tolist())]\n",
        "        self.grouped = self.dataset.groupby(\"sentence_idx\").apply(agg_func)\n",
        "        self.sentences = [s for s in self.grouped]\n",
        "    \n",
        "    def get_next(self):\n",
        "        try:\n",
        "            s = self.grouped[\"Sentence: {}\".format(self.n_sent)]\n",
        "            self.n_sent += 1\n",
        "            return s\n",
        "        except:\n",
        "            return None\n",
        "\n",
        "train_getter = SentenceGetter(train_data_df)\n",
        "test_getter = SentenceGetter(test_data_df)"
      ]
    },
    {
      "cell_type": "markdown",
      "metadata": {
        "id": "sIirptrGvzx5"
      },
      "source": [
        "## Getting sentences and labels\n",
        "- Sentences: concatenation of first element of tuple (word)\n",
        "- Labels: concatenation of second element of tuple (label)"
      ]
    },
    {
      "cell_type": "code",
      "execution_count": null,
      "metadata": {
        "colab": {
          "base_uri": "https://localhost:8080/"
        },
        "id": "1NqDzKVaqnfC",
        "outputId": "929bdb29-289b-4d64-af4f-283adf64b542"
      },
      "outputs": [
        {
          "name": "stdout",
          "output_type": "stream",
          "text": [
            "Example of train sentence:\n",
            "['3.2', '__________', '(\"Professional\")', 'Default', '7']\n",
            "Example of test sentence:\n",
            "['on', 'which', 'commercial', 'banks', 'in', 'Dallas', ',']\n",
            "Example of train sentence:\n",
            "['O', 'B-PARTY', 'I-PARTY', 'O', 'O']\n",
            "Example of test sentence:\n",
            "['O', 'O', 'O', 'O', 'O', 'B-LOC', 'O']\n"
          ]
        }
      ],
      "source": [
        "# Sentences \n",
        "train_sentences = [[word[0] for word in sentence] for sentence in train_getter.sentences]\n",
        "print(\"Example of train sentence:\")\n",
        "print (train_sentences[5])\n",
        "\n",
        "test_sentences = [[word[0] for word in sentence] for sentence in test_getter.sentences]\n",
        "print(\"Example of test sentence:\")\n",
        "print (test_sentences[5])\n",
        "\n",
        "# Labels\n",
        "train_labels = [[s[2] for s in sentence] for sentence in train_getter.sentences]\n",
        "print(\"Example of train sentence:\")\n",
        "print(train_labels[5])\n",
        "\n",
        "test_labels = [[s[2] for s in sentence] for sentence in test_getter.sentences]\n",
        "print(\"Example of test sentence:\")\n",
        "print(test_labels[5])"
      ]
    },
    {
      "cell_type": "markdown",
      "metadata": {
        "id": "_348YlM6wIVF"
      },
      "source": [
        "## Converting tags to numeric values with a dict"
      ]
    },
    {
      "cell_type": "code",
      "execution_count": null,
      "metadata": {
        "id": "0TQ27sykwKV9"
      },
      "outputs": [],
      "source": [
        "tag_values = list(set(train_data_df[\"tag\"].values))\n",
        "tag_values.append(\"PAD\")\n",
        "tag2idx = {t: i for i, t in enumerate(tag_values)}"
      ]
    },
    {
      "cell_type": "code",
      "execution_count": null,
      "metadata": {
        "colab": {
          "base_uri": "https://localhost:8080/"
        },
        "id": "7sRlF42ltmxP",
        "outputId": "f019c759-7eab-4eea-b2bd-39ea67208a6d"
      },
      "outputs": [
        {
          "name": "stdout",
          "output_type": "stream",
          "text": [
            "['B-PERCENT', 'B-PARTY', 'B-DOC', 'B-EFFDATE', 'O', 'I-PARTY', 'B-PERSON', 'B-ROLE', 'B-LAW', 'B-DATE']\n",
            "{'B-PERCENT': 0, 'B-PARTY': 1, 'B-DOC': 2, 'B-EFFDATE': 3, 'O': 4, 'I-PARTY': 5, 'B-PERSON': 6, 'B-ROLE': 7, 'B-LAW': 8, 'B-DATE': 9, 'I-DOC': 10, 'B-LOC': 11, 'I-EFFDATE': 12, 'B-ORDINAL': 13, 'PAD': 14}\n"
          ]
        }
      ],
      "source": [
        "print(tag_values[:10])\n",
        "print(tag2idx)"
      ]
    },
    {
      "cell_type": "markdown",
      "metadata": {
        "id": "pQpgb6uNwTon"
      },
      "source": [
        "## Model metadata"
      ]
    },
    {
      "cell_type": "markdown",
      "metadata": {
        "id": "llhtW7cwwXdp"
      },
      "source": [
        "### Bulding on top of biobert"
      ]
    },
    {
      "cell_type": "code",
      "execution_count": null,
      "metadata": {
        "id": "xRrXpP6eQvF1"
      },
      "outputs": [],
      "source": [
        "MODEL_TO_TRAIN = 'zlucia/custom-legalbert'"
      ]
    },
    {
      "cell_type": "markdown",
      "metadata": {
        "id": "EPQ1iXCkwdaZ"
      },
      "source": [
        "### Hyperparam settings"
      ]
    },
    {
      "cell_type": "code",
      "execution_count": null,
      "metadata": {
        "id": "WY1vbXSdqyCJ"
      },
      "outputs": [],
      "source": [
        "# Defining some key variables that will be used later on in the training\n",
        "MAX_LEN = 256\n",
        "TRAIN_BATCH_SIZE = 32\n",
        "VALID_BATCH_SIZE = 32\n",
        "EPOCHS = 15\n",
        "LEARNING_RATE = 2e-05"
      ]
    },
    {
      "cell_type": "markdown",
      "metadata": {
        "id": "nHkpIa-RuXH9"
      },
      "source": [
        "## Instantiating the proper tokenizer"
      ]
    },
    {
      "cell_type": "code",
      "execution_count": null,
      "metadata": {
        "colab": {
          "base_uri": "https://localhost:8080/",
          "height": 113,
          "referenced_widgets": [
            "863144573a37408eb5416ce8f6af9c86",
            "b9de820c39cd480a896d2ce2e1a20645",
            "32533379a5ec4ed9a7085c6a048c880e",
            "614f4d3c6d224db1a140f9b294930a04",
            "85febe5ee5664fb8908326abf80b92e9",
            "e9286c70975b4c9397481f7a675d7464",
            "61b6217d65a84a33bc636ee42d8120cb",
            "85d393f8870c424baaa6d786b3111550",
            "1bea35c843cf40f8b84919a8e9ead9de",
            "5a1c65fc453b4e288ae31ffbd4f189db",
            "c6830a5951cd47938d2591143b7b50d0",
            "9020fec906f34f88a7355a315a299d3b",
            "b566083a8e65484baecd9b2c0278a19f",
            "9b22f40648424cf7856800683506c836",
            "7b7a43579c3d4a64b6d8f98e7b894d60",
            "f63e6bb7d4044361b11a8b27d02bf057",
            "2fc919cd714e4aac84a9264d49f4f6eb",
            "896fccb8587c4f0886754250e2268cb0",
            "5c9862efa6be4ead99f63d91735bed00",
            "6a2ba7be01af47b6b702022ba639ff2b",
            "e016ef87dc4e4a1f8ffd3765c1746343",
            "291138f9b0d8418d8d2388fb20dd202e",
            "12319a3ee3fc4c33b3eacea45d962589",
            "b40f9bfae2af4d35b8d64cc779315192",
            "306949deb71641f3b0c8d3418c8f2d93",
            "64f5e2a1ea644f588102397503a7a55f",
            "7b2511c9aace471f9c88530957c1d6ca",
            "cd6f9a4b1705453a877e28009850f8bd",
            "91ac6507e4e742dfabbcc0de157935ff",
            "be29189178f34c49852aaf2f5c1f57fb",
            "57d10f5f349447c99e781a5a1eeb41a7",
            "6155d6cc0c924372a7b46f0c087d6ce7",
            "392299bc531e40cfb166776d451a4ca5"
          ]
        },
        "id": "GCNyWqxbuZ0U",
        "outputId": "81cde5d9-e148-4b1e-8fcf-b557e1a714e7"
      },
      "outputs": [
        {
          "data": {
            "application/vnd.jupyter.widget-view+json": {
              "model_id": "863144573a37408eb5416ce8f6af9c86",
              "version_major": 2,
              "version_minor": 0
            },
            "text/plain": [
              "Downloading:   0%|          | 0.00/251k [00:00<?, ?B/s]"
            ]
          },
          "metadata": {},
          "output_type": "display_data"
        },
        {
          "data": {
            "application/vnd.jupyter.widget-view+json": {
              "model_id": "9020fec906f34f88a7355a315a299d3b",
              "version_major": 2,
              "version_minor": 0
            },
            "text/plain": [
              "Downloading:   0%|          | 0.00/112 [00:00<?, ?B/s]"
            ]
          },
          "metadata": {},
          "output_type": "display_data"
        },
        {
          "data": {
            "application/vnd.jupyter.widget-view+json": {
              "model_id": "12319a3ee3fc4c33b3eacea45d962589",
              "version_major": 2,
              "version_minor": 0
            },
            "text/plain": [
              "Downloading:   0%|          | 0.00/307 [00:00<?, ?B/s]"
            ]
          },
          "metadata": {},
          "output_type": "display_data"
        }
      ],
      "source": [
        "tokenizer = BertTokenizer.from_pretrained(MODEL_TO_TRAIN, do_lower_case=False)"
      ]
    },
    {
      "cell_type": "markdown",
      "metadata": {
        "id": "oZ9qgZthxDpf"
      },
      "source": [
        "### Tokenize and extend the labels in case a word is split"
      ]
    },
    {
      "cell_type": "code",
      "execution_count": null,
      "metadata": {
        "id": "vgplIBl7xIeU"
      },
      "outputs": [],
      "source": [
        "def tokenize_and_preserve_labels(sentence, text_labels):\n",
        "    tokenized_sentence = []\n",
        "    labels = []\n",
        "\n",
        "    for word, label in zip(sentence, text_labels):\n",
        "\n",
        "        # Tokenize the word and count # of subwords the word is broken into\n",
        "        tokenized_word = tokenizer.tokenize(word)\n",
        "        n_subwords = len(tokenized_word)\n",
        "\n",
        "        # Add the tokenized word to the final tokenized word list\n",
        "        tokenized_sentence.extend(tokenized_word)\n",
        "\n",
        "        # Add the same label to the new list of labels `n_subwords` times\n",
        "        labels.extend([label] * n_subwords)\n",
        "\n",
        "    return tokenized_sentence, labels"
      ]
    },
    {
      "cell_type": "markdown",
      "metadata": {
        "id": "wv2q3gLOxMLo"
      },
      "source": [
        "## Tokenize and get tokens and labels"
      ]
    },
    {
      "cell_type": "code",
      "execution_count": null,
      "metadata": {
        "id": "It320LLkFve9"
      },
      "outputs": [],
      "source": [
        "train_tokenized_texts_and_labels = [\n",
        "    tokenize_and_preserve_labels(sent, labs)\n",
        "    for sent, labs in zip(train_sentences, train_labels)\n",
        "]\n",
        "\n",
        "test_tokenized_texts_and_labels = [\n",
        "    tokenize_and_preserve_labels(sent, labs)\n",
        "    for sent, labs in zip(test_sentences, test_labels)\n",
        "]\n",
        "\n",
        "train_tokenized_texts_tokens = [token_label_pair[0] for token_label_pair in train_tokenized_texts_and_labels]\n",
        "test_tokenized_texts_tokens = [token_label_pair[0] for token_label_pair in test_tokenized_texts_and_labels]\n",
        "\n",
        "train_tokenized_texts_labels = [token_label_pair[1] for token_label_pair in train_tokenized_texts_and_labels]\n",
        "test_tokenized_texts_labels = [token_label_pair[1] for token_label_pair in test_tokenized_texts_and_labels]"
      ]
    },
    {
      "cell_type": "code",
      "execution_count": null,
      "metadata": {
        "colab": {
          "base_uri": "https://localhost:8080/"
        },
        "id": "IZil3Wfrxm9y",
        "outputId": "13587611-4171-41e7-cf2a-582b736952a9"
      },
      "outputs": [
        {
          "name": "stdout",
          "output_type": "stream",
          "text": [
            "['3', '[UNK]', '2', '[UNK]', '[UNK]', '[UNK]', '[UNK]', '[UNK]', '[UNK]', '[UNK]', '[UNK]', '[UNK]', '[UNK]', '[UNK]', '[UNK]', '[UNK]', '[UNK]', '[UNK]', '[UNK]', '7']\n",
            "['O', 'O', 'O', 'B-PARTY', 'B-PARTY', 'B-PARTY', 'B-PARTY', 'B-PARTY', 'B-PARTY', 'B-PARTY', 'B-PARTY', 'B-PARTY', 'B-PARTY', 'I-PARTY', 'I-PARTY', 'I-PARTY', 'I-PARTY', 'I-PARTY', 'O', 'O']\n"
          ]
        }
      ],
      "source": [
        "print(train_tokenized_texts_tokens[5])\n",
        "print(train_tokenized_texts_labels[5])"
      ]
    },
    {
      "cell_type": "code",
      "execution_count": null,
      "metadata": {
        "colab": {
          "base_uri": "https://localhost:8080/"
        },
        "id": "KBSJcAnMbE3P",
        "outputId": "f06710c5-d688-46cd-a8a4-ac0d4f223440"
      },
      "outputs": [
        {
          "name": "stdout",
          "output_type": "stream",
          "text": [
            "['on', 'which', 'commercial', 'banks', 'in', '[UNK]', '[UNK]']\n",
            "['O', 'O', 'O', 'O', 'O', 'B-LOC', 'O']\n"
          ]
        }
      ],
      "source": [
        "print(test_tokenized_texts_tokens[5])\n",
        "print(test_tokenized_texts_labels[5])"
      ]
    },
    {
      "cell_type": "markdown",
      "metadata": {
        "id": "ZDKbLrQnxQCV"
      },
      "source": [
        "## Converting tokens to id && padding sentences to have fixed length"
      ]
    },
    {
      "cell_type": "code",
      "execution_count": null,
      "metadata": {
        "id": "6m89dg_yx5gN"
      },
      "outputs": [],
      "source": [
        "train_input_ids = pad_sequences([tokenizer.convert_tokens_to_ids(txt) for txt in train_tokenized_texts_tokens],\n",
        "                          maxlen=MAX_LEN, dtype=\"long\", value=0.0,\n",
        "                          truncating=\"post\", padding=\"post\")\n",
        "\n",
        "test_input_ids = pad_sequences([tokenizer.convert_tokens_to_ids(txt) for txt in test_tokenized_texts_tokens],\n",
        "                          maxlen=MAX_LEN, dtype=\"long\", value=0.0,\n",
        "                          truncating=\"post\", padding=\"post\")\n",
        "\n",
        "train_tags = pad_sequences([[tag2idx.get(l) for l in lab] for lab in train_tokenized_texts_labels],\n",
        "                     maxlen=MAX_LEN, value=tag2idx[\"PAD\"], padding=\"post\",\n",
        "                     dtype=\"long\", truncating=\"post\")\n",
        "\n",
        "test_tags = pad_sequences([[tag2idx.get(l) for l in lab] for lab in test_tokenized_texts_labels],\n",
        "                     maxlen=MAX_LEN, value=tag2idx[\"PAD\"], padding=\"post\",\n",
        "                     dtype=\"long\", truncating=\"post\")"
      ]
    },
    {
      "cell_type": "code",
      "execution_count": null,
      "metadata": {
        "colab": {
          "base_uri": "https://localhost:8080/"
        },
        "id": "A-bX2-QMx6GJ",
        "outputId": "5e08fd65-a8ef-4370-d10b-9ae0d6f6047a"
      },
      "outputs": [
        {
          "name": "stdout",
          "output_type": "stream",
          "text": [
            "[149   1 110   1   1   1   1   1   1   1   1   1   1   1   1   1   1   1\n",
            "   1 352   0   0   0   0   0   0   0   0   0   0   0   0   0   0   0   0\n",
            "   0   0   0   0   0   0   0   0   0   0   0   0   0   0   0   0   0   0\n",
            "   0   0   0   0   0   0   0   0   0   0   0   0   0   0   0   0   0   0\n",
            "   0   0   0   0   0   0   0   0   0   0   0   0   0   0   0   0   0   0\n",
            "   0   0   0   0   0   0   0   0   0   0   0   0   0   0   0   0   0   0\n",
            "   0   0   0   0   0   0   0   0   0   0   0   0   0   0   0   0   0   0\n",
            "   0   0   0   0   0   0   0   0   0   0   0   0   0   0   0   0   0   0\n",
            "   0   0   0   0   0   0   0   0   0   0   0   0   0   0   0   0   0   0\n",
            "   0   0   0   0   0   0   0   0   0   0   0   0   0   0   0   0   0   0\n",
            "   0   0   0   0   0   0   0   0   0   0   0   0   0   0   0   0   0   0\n",
            "   0   0   0   0   0   0   0   0   0   0   0   0   0   0   0   0   0   0\n",
            "   0   0   0   0   0   0   0   0   0   0   0   0   0   0   0   0   0   0\n",
            "   0   0   0   0   0   0   0   0   0   0   0   0   0   0   0   0   0   0\n",
            "   0   0   0   0]\n",
            "[  18   32 1423 2946   11    1    1    0    0    0    0    0    0    0\n",
            "    0    0    0    0    0    0    0    0    0    0    0    0    0    0\n",
            "    0    0    0    0    0    0    0    0    0    0    0    0    0    0\n",
            "    0    0    0    0    0    0    0    0    0    0    0    0    0    0\n",
            "    0    0    0    0    0    0    0    0    0    0    0    0    0    0\n",
            "    0    0    0    0    0    0    0    0    0    0    0    0    0    0\n",
            "    0    0    0    0    0    0    0    0    0    0    0    0    0    0\n",
            "    0    0    0    0    0    0    0    0    0    0    0    0    0    0\n",
            "    0    0    0    0    0    0    0    0    0    0    0    0    0    0\n",
            "    0    0    0    0    0    0    0    0    0    0    0    0    0    0\n",
            "    0    0    0    0    0    0    0    0    0    0    0    0    0    0\n",
            "    0    0    0    0    0    0    0    0    0    0    0    0    0    0\n",
            "    0    0    0    0    0    0    0    0    0    0    0    0    0    0\n",
            "    0    0    0    0    0    0    0    0    0    0    0    0    0    0\n",
            "    0    0    0    0    0    0    0    0    0    0    0    0    0    0\n",
            "    0    0    0    0    0    0    0    0    0    0    0    0    0    0\n",
            "    0    0    0    0    0    0    0    0    0    0    0    0    0    0\n",
            "    0    0    0    0    0    0    0    0    0    0    0    0    0    0\n",
            "    0    0    0    0]\n",
            "[ 4  4  4  1  1  1  1  1  1  1  1  1  1  5  5  5  5  5  4  4 14 14 14 14\n",
            " 14 14 14 14 14 14 14 14 14 14 14 14 14 14 14 14 14 14 14 14 14 14 14 14\n",
            " 14 14 14 14 14 14 14 14 14 14 14 14 14 14 14 14 14 14 14 14 14 14 14 14\n",
            " 14 14 14 14 14 14 14 14 14 14 14 14 14 14 14 14 14 14 14 14 14 14 14 14\n",
            " 14 14 14 14 14 14 14 14 14 14 14 14 14 14 14 14 14 14 14 14 14 14 14 14\n",
            " 14 14 14 14 14 14 14 14 14 14 14 14 14 14 14 14 14 14 14 14 14 14 14 14\n",
            " 14 14 14 14 14 14 14 14 14 14 14 14 14 14 14 14 14 14 14 14 14 14 14 14\n",
            " 14 14 14 14 14 14 14 14 14 14 14 14 14 14 14 14 14 14 14 14 14 14 14 14\n",
            " 14 14 14 14 14 14 14 14 14 14 14 14 14 14 14 14 14 14 14 14 14 14 14 14\n",
            " 14 14 14 14 14 14 14 14 14 14 14 14 14 14 14 14 14 14 14 14 14 14 14 14\n",
            " 14 14 14 14 14 14 14 14 14 14 14 14 14 14 14 14]\n",
            "[ 4  4  4  4  4 11  4 14 14 14 14 14 14 14 14 14 14 14 14 14 14 14 14 14\n",
            " 14 14 14 14 14 14 14 14 14 14 14 14 14 14 14 14 14 14 14 14 14 14 14 14\n",
            " 14 14 14 14 14 14 14 14 14 14 14 14 14 14 14 14 14 14 14 14 14 14 14 14\n",
            " 14 14 14 14 14 14 14 14 14 14 14 14 14 14 14 14 14 14 14 14 14 14 14 14\n",
            " 14 14 14 14 14 14 14 14 14 14 14 14 14 14 14 14 14 14 14 14 14 14 14 14\n",
            " 14 14 14 14 14 14 14 14 14 14 14 14 14 14 14 14 14 14 14 14 14 14 14 14\n",
            " 14 14 14 14 14 14 14 14 14 14 14 14 14 14 14 14 14 14 14 14 14 14 14 14\n",
            " 14 14 14 14 14 14 14 14 14 14 14 14 14 14 14 14 14 14 14 14 14 14 14 14\n",
            " 14 14 14 14 14 14 14 14 14 14 14 14 14 14 14 14 14 14 14 14 14 14 14 14\n",
            " 14 14 14 14 14 14 14 14 14 14 14 14 14 14 14 14 14 14 14 14 14 14 14 14\n",
            " 14 14 14 14 14 14 14 14 14 14 14 14 14 14 14 14]\n"
          ]
        }
      ],
      "source": [
        "print(train_input_ids[5])\n",
        "print(test_input_ids[5])\n",
        "print(train_tags[5])\n",
        "print(test_tags[5])"
      ]
    },
    {
      "cell_type": "markdown",
      "metadata": {
        "id": "R2lX8dW0x44u"
      },
      "source": [
        "## Now that sentences are padded, I need to prevent attention from seeing pads (id=0)"
      ]
    },
    {
      "cell_type": "code",
      "execution_count": null,
      "metadata": {
        "id": "npO2QNUqyVM3"
      },
      "outputs": [],
      "source": [
        "train_attention_masks = [[float(i != 0.0) for i in ii] for ii in train_input_ids]\n",
        "test_attention_masks = [[float(i != 0.0) for i in ii] for ii in test_input_ids]"
      ]
    },
    {
      "cell_type": "code",
      "execution_count": null,
      "metadata": {
        "colab": {
          "base_uri": "https://localhost:8080/"
        },
        "id": "Z4utRy9BycD9",
        "outputId": "275997fd-a2a6-4de8-d6eb-5a3f703bbbb9"
      },
      "outputs": [
        {
          "name": "stdout",
          "output_type": "stream",
          "text": [
            "[1.0, 1.0, 1.0, 1.0, 1.0, 1.0, 1.0, 1.0, 1.0, 1.0, 1.0, 1.0, 1.0, 1.0, 1.0, 1.0, 1.0, 1.0, 1.0, 1.0, 0.0, 0.0, 0.0, 0.0, 0.0, 0.0, 0.0, 0.0, 0.0, 0.0, 0.0, 0.0, 0.0, 0.0, 0.0, 0.0, 0.0, 0.0, 0.0, 0.0, 0.0, 0.0, 0.0, 0.0, 0.0, 0.0, 0.0, 0.0, 0.0, 0.0, 0.0, 0.0, 0.0, 0.0, 0.0, 0.0, 0.0, 0.0, 0.0, 0.0, 0.0, 0.0, 0.0, 0.0, 0.0, 0.0, 0.0, 0.0, 0.0, 0.0, 0.0, 0.0, 0.0, 0.0, 0.0, 0.0, 0.0, 0.0, 0.0, 0.0, 0.0, 0.0, 0.0, 0.0, 0.0, 0.0, 0.0, 0.0, 0.0, 0.0, 0.0, 0.0, 0.0, 0.0, 0.0, 0.0, 0.0, 0.0, 0.0, 0.0, 0.0, 0.0, 0.0, 0.0, 0.0, 0.0, 0.0, 0.0, 0.0, 0.0, 0.0, 0.0, 0.0, 0.0, 0.0, 0.0, 0.0, 0.0, 0.0, 0.0, 0.0, 0.0, 0.0, 0.0, 0.0, 0.0, 0.0, 0.0, 0.0, 0.0, 0.0, 0.0, 0.0, 0.0, 0.0, 0.0, 0.0, 0.0, 0.0, 0.0, 0.0, 0.0, 0.0, 0.0, 0.0, 0.0, 0.0, 0.0, 0.0, 0.0, 0.0, 0.0, 0.0, 0.0, 0.0, 0.0, 0.0, 0.0, 0.0, 0.0, 0.0, 0.0, 0.0, 0.0, 0.0, 0.0, 0.0, 0.0, 0.0, 0.0, 0.0, 0.0, 0.0, 0.0, 0.0, 0.0, 0.0, 0.0, 0.0, 0.0, 0.0, 0.0, 0.0, 0.0, 0.0, 0.0, 0.0, 0.0, 0.0, 0.0, 0.0, 0.0, 0.0, 0.0, 0.0, 0.0, 0.0, 0.0, 0.0, 0.0, 0.0, 0.0, 0.0, 0.0, 0.0, 0.0, 0.0, 0.0, 0.0, 0.0, 0.0, 0.0, 0.0, 0.0, 0.0, 0.0, 0.0, 0.0, 0.0, 0.0, 0.0, 0.0, 0.0, 0.0, 0.0, 0.0, 0.0, 0.0, 0.0, 0.0, 0.0, 0.0, 0.0, 0.0, 0.0, 0.0, 0.0, 0.0, 0.0, 0.0, 0.0, 0.0, 0.0, 0.0, 0.0, 0.0, 0.0, 0.0, 0.0, 0.0, 0.0, 0.0, 0.0, 0.0, 0.0, 0.0]\n",
            "[1.0, 1.0, 1.0, 1.0, 1.0, 1.0, 1.0, 0.0, 0.0, 0.0, 0.0, 0.0, 0.0, 0.0, 0.0, 0.0, 0.0, 0.0, 0.0, 0.0, 0.0, 0.0, 0.0, 0.0, 0.0, 0.0, 0.0, 0.0, 0.0, 0.0, 0.0, 0.0, 0.0, 0.0, 0.0, 0.0, 0.0, 0.0, 0.0, 0.0, 0.0, 0.0, 0.0, 0.0, 0.0, 0.0, 0.0, 0.0, 0.0, 0.0, 0.0, 0.0, 0.0, 0.0, 0.0, 0.0, 0.0, 0.0, 0.0, 0.0, 0.0, 0.0, 0.0, 0.0, 0.0, 0.0, 0.0, 0.0, 0.0, 0.0, 0.0, 0.0, 0.0, 0.0, 0.0, 0.0, 0.0, 0.0, 0.0, 0.0, 0.0, 0.0, 0.0, 0.0, 0.0, 0.0, 0.0, 0.0, 0.0, 0.0, 0.0, 0.0, 0.0, 0.0, 0.0, 0.0, 0.0, 0.0, 0.0, 0.0, 0.0, 0.0, 0.0, 0.0, 0.0, 0.0, 0.0, 0.0, 0.0, 0.0, 0.0, 0.0, 0.0, 0.0, 0.0, 0.0, 0.0, 0.0, 0.0, 0.0, 0.0, 0.0, 0.0, 0.0, 0.0, 0.0, 0.0, 0.0, 0.0, 0.0, 0.0, 0.0, 0.0, 0.0, 0.0, 0.0, 0.0, 0.0, 0.0, 0.0, 0.0, 0.0, 0.0, 0.0, 0.0, 0.0, 0.0, 0.0, 0.0, 0.0, 0.0, 0.0, 0.0, 0.0, 0.0, 0.0, 0.0, 0.0, 0.0, 0.0, 0.0, 0.0, 0.0, 0.0, 0.0, 0.0, 0.0, 0.0, 0.0, 0.0, 0.0, 0.0, 0.0, 0.0, 0.0, 0.0, 0.0, 0.0, 0.0, 0.0, 0.0, 0.0, 0.0, 0.0, 0.0, 0.0, 0.0, 0.0, 0.0, 0.0, 0.0, 0.0, 0.0, 0.0, 0.0, 0.0, 0.0, 0.0, 0.0, 0.0, 0.0, 0.0, 0.0, 0.0, 0.0, 0.0, 0.0, 0.0, 0.0, 0.0, 0.0, 0.0, 0.0, 0.0, 0.0, 0.0, 0.0, 0.0, 0.0, 0.0, 0.0, 0.0, 0.0, 0.0, 0.0, 0.0, 0.0, 0.0, 0.0, 0.0, 0.0, 0.0, 0.0, 0.0, 0.0, 0.0, 0.0, 0.0, 0.0, 0.0, 0.0, 0.0, 0.0, 0.0, 0.0, 0.0, 0.0, 0.0, 0.0, 0.0, 0.0, 0.0, 0.0, 0.0, 0.0, 0.0]\n"
          ]
        }
      ],
      "source": [
        "print(train_attention_masks[5])\n",
        "print(test_attention_masks[5])"
      ]
    },
    {
      "cell_type": "markdown",
      "metadata": {
        "id": "mfjyEjT_z4p9"
      },
      "source": [
        "### Double checking that pairing input-mask is in place"
      ]
    },
    {
      "cell_type": "code",
      "execution_count": null,
      "metadata": {
        "colab": {
          "base_uri": "https://localhost:8080/"
        },
        "id": "HdVBi7wXzo-Y",
        "outputId": "c6fd247c-7196-4f95-bb76-b527b7588c5b"
      },
      "outputs": [
        {
          "name": "stdout",
          "output_type": "stream",
          "text": [
            "Token id: 149\\Token mask: 1.0\n",
            "Token id: 1\\Token mask: 1.0\n",
            "Token id: 110\\Token mask: 1.0\n",
            "Token id: 1\\Token mask: 1.0\n",
            "Token id: 1\\Token mask: 1.0\n",
            "Token id: 1\\Token mask: 1.0\n",
            "Token id: 1\\Token mask: 1.0\n",
            "Token id: 1\\Token mask: 1.0\n",
            "Token id: 1\\Token mask: 1.0\n",
            "Token id: 1\\Token mask: 1.0\n",
            "Token id: 1\\Token mask: 1.0\n",
            "Token id: 1\\Token mask: 1.0\n",
            "Token id: 1\\Token mask: 1.0\n",
            "Token id: 1\\Token mask: 1.0\n",
            "Token id: 1\\Token mask: 1.0\n",
            "Token id: 1\\Token mask: 1.0\n",
            "Token id: 1\\Token mask: 1.0\n",
            "Token id: 1\\Token mask: 1.0\n",
            "Token id: 1\\Token mask: 1.0\n",
            "Token id: 352\\Token mask: 1.0\n",
            "Token id: 0\\Token mask: 0.0\n",
            "Token id: 0\\Token mask: 0.0\n",
            "Token id: 0\\Token mask: 0.0\n",
            "Token id: 0\\Token mask: 0.0\n",
            "Token id: 0\\Token mask: 0.0\n",
            "Token id: 0\\Token mask: 0.0\n",
            "Token id: 0\\Token mask: 0.0\n",
            "Token id: 0\\Token mask: 0.0\n",
            "Token id: 0\\Token mask: 0.0\n",
            "Token id: 0\\Token mask: 0.0\n",
            "Token id: 0\\Token mask: 0.0\n",
            "Token id: 0\\Token mask: 0.0\n",
            "Token id: 0\\Token mask: 0.0\n",
            "Token id: 0\\Token mask: 0.0\n",
            "Token id: 0\\Token mask: 0.0\n",
            "Token id: 0\\Token mask: 0.0\n",
            "Token id: 0\\Token mask: 0.0\n",
            "Token id: 0\\Token mask: 0.0\n",
            "Token id: 0\\Token mask: 0.0\n",
            "Token id: 0\\Token mask: 0.0\n",
            "Token id: 0\\Token mask: 0.0\n",
            "Token id: 0\\Token mask: 0.0\n",
            "Token id: 0\\Token mask: 0.0\n",
            "Token id: 0\\Token mask: 0.0\n",
            "Token id: 0\\Token mask: 0.0\n",
            "Token id: 0\\Token mask: 0.0\n",
            "Token id: 0\\Token mask: 0.0\n",
            "Token id: 0\\Token mask: 0.0\n",
            "Token id: 0\\Token mask: 0.0\n",
            "Token id: 0\\Token mask: 0.0\n",
            "Token id: 0\\Token mask: 0.0\n",
            "Token id: 0\\Token mask: 0.0\n",
            "Token id: 0\\Token mask: 0.0\n",
            "Token id: 0\\Token mask: 0.0\n",
            "Token id: 0\\Token mask: 0.0\n",
            "Token id: 0\\Token mask: 0.0\n",
            "Token id: 0\\Token mask: 0.0\n",
            "Token id: 0\\Token mask: 0.0\n",
            "Token id: 0\\Token mask: 0.0\n",
            "Token id: 0\\Token mask: 0.0\n",
            "Token id: 0\\Token mask: 0.0\n",
            "Token id: 0\\Token mask: 0.0\n",
            "Token id: 0\\Token mask: 0.0\n",
            "Token id: 0\\Token mask: 0.0\n",
            "Token id: 0\\Token mask: 0.0\n",
            "Token id: 0\\Token mask: 0.0\n",
            "Token id: 0\\Token mask: 0.0\n",
            "Token id: 0\\Token mask: 0.0\n",
            "Token id: 0\\Token mask: 0.0\n",
            "Token id: 0\\Token mask: 0.0\n",
            "Token id: 0\\Token mask: 0.0\n",
            "Token id: 0\\Token mask: 0.0\n",
            "Token id: 0\\Token mask: 0.0\n",
            "Token id: 0\\Token mask: 0.0\n",
            "Token id: 0\\Token mask: 0.0\n",
            "Token id: 0\\Token mask: 0.0\n",
            "Token id: 0\\Token mask: 0.0\n",
            "Token id: 0\\Token mask: 0.0\n",
            "Token id: 0\\Token mask: 0.0\n",
            "Token id: 0\\Token mask: 0.0\n",
            "Token id: 0\\Token mask: 0.0\n",
            "Token id: 0\\Token mask: 0.0\n",
            "Token id: 0\\Token mask: 0.0\n",
            "Token id: 0\\Token mask: 0.0\n",
            "Token id: 0\\Token mask: 0.0\n",
            "Token id: 0\\Token mask: 0.0\n",
            "Token id: 0\\Token mask: 0.0\n",
            "Token id: 0\\Token mask: 0.0\n",
            "Token id: 0\\Token mask: 0.0\n",
            "Token id: 0\\Token mask: 0.0\n",
            "Token id: 0\\Token mask: 0.0\n",
            "Token id: 0\\Token mask: 0.0\n",
            "Token id: 0\\Token mask: 0.0\n",
            "Token id: 0\\Token mask: 0.0\n",
            "Token id: 0\\Token mask: 0.0\n",
            "Token id: 0\\Token mask: 0.0\n",
            "Token id: 0\\Token mask: 0.0\n",
            "Token id: 0\\Token mask: 0.0\n",
            "Token id: 0\\Token mask: 0.0\n",
            "Token id: 0\\Token mask: 0.0\n",
            "Token id: 0\\Token mask: 0.0\n",
            "Token id: 0\\Token mask: 0.0\n",
            "Token id: 0\\Token mask: 0.0\n",
            "Token id: 0\\Token mask: 0.0\n",
            "Token id: 0\\Token mask: 0.0\n",
            "Token id: 0\\Token mask: 0.0\n",
            "Token id: 0\\Token mask: 0.0\n",
            "Token id: 0\\Token mask: 0.0\n",
            "Token id: 0\\Token mask: 0.0\n",
            "Token id: 0\\Token mask: 0.0\n",
            "Token id: 0\\Token mask: 0.0\n",
            "Token id: 0\\Token mask: 0.0\n",
            "Token id: 0\\Token mask: 0.0\n",
            "Token id: 0\\Token mask: 0.0\n",
            "Token id: 0\\Token mask: 0.0\n",
            "Token id: 0\\Token mask: 0.0\n",
            "Token id: 0\\Token mask: 0.0\n",
            "Token id: 0\\Token mask: 0.0\n",
            "Token id: 0\\Token mask: 0.0\n",
            "Token id: 0\\Token mask: 0.0\n",
            "Token id: 0\\Token mask: 0.0\n",
            "Token id: 0\\Token mask: 0.0\n",
            "Token id: 0\\Token mask: 0.0\n",
            "Token id: 0\\Token mask: 0.0\n",
            "Token id: 0\\Token mask: 0.0\n",
            "Token id: 0\\Token mask: 0.0\n",
            "Token id: 0\\Token mask: 0.0\n",
            "Token id: 0\\Token mask: 0.0\n",
            "Token id: 0\\Token mask: 0.0\n",
            "Token id: 0\\Token mask: 0.0\n",
            "Token id: 0\\Token mask: 0.0\n",
            "Token id: 0\\Token mask: 0.0\n",
            "Token id: 0\\Token mask: 0.0\n",
            "Token id: 0\\Token mask: 0.0\n",
            "Token id: 0\\Token mask: 0.0\n",
            "Token id: 0\\Token mask: 0.0\n",
            "Token id: 0\\Token mask: 0.0\n",
            "Token id: 0\\Token mask: 0.0\n",
            "Token id: 0\\Token mask: 0.0\n",
            "Token id: 0\\Token mask: 0.0\n",
            "Token id: 0\\Token mask: 0.0\n",
            "Token id: 0\\Token mask: 0.0\n",
            "Token id: 0\\Token mask: 0.0\n",
            "Token id: 0\\Token mask: 0.0\n",
            "Token id: 0\\Token mask: 0.0\n",
            "Token id: 0\\Token mask: 0.0\n",
            "Token id: 0\\Token mask: 0.0\n",
            "Token id: 0\\Token mask: 0.0\n",
            "Token id: 0\\Token mask: 0.0\n",
            "Token id: 0\\Token mask: 0.0\n",
            "Token id: 0\\Token mask: 0.0\n",
            "Token id: 0\\Token mask: 0.0\n",
            "Token id: 0\\Token mask: 0.0\n",
            "Token id: 0\\Token mask: 0.0\n",
            "Token id: 0\\Token mask: 0.0\n",
            "Token id: 0\\Token mask: 0.0\n",
            "Token id: 0\\Token mask: 0.0\n",
            "Token id: 0\\Token mask: 0.0\n",
            "Token id: 0\\Token mask: 0.0\n",
            "Token id: 0\\Token mask: 0.0\n",
            "Token id: 0\\Token mask: 0.0\n",
            "Token id: 0\\Token mask: 0.0\n",
            "Token id: 0\\Token mask: 0.0\n",
            "Token id: 0\\Token mask: 0.0\n",
            "Token id: 0\\Token mask: 0.0\n",
            "Token id: 0\\Token mask: 0.0\n",
            "Token id: 0\\Token mask: 0.0\n",
            "Token id: 0\\Token mask: 0.0\n",
            "Token id: 0\\Token mask: 0.0\n",
            "Token id: 0\\Token mask: 0.0\n",
            "Token id: 0\\Token mask: 0.0\n",
            "Token id: 0\\Token mask: 0.0\n",
            "Token id: 0\\Token mask: 0.0\n",
            "Token id: 0\\Token mask: 0.0\n",
            "Token id: 0\\Token mask: 0.0\n",
            "Token id: 0\\Token mask: 0.0\n",
            "Token id: 0\\Token mask: 0.0\n",
            "Token id: 0\\Token mask: 0.0\n",
            "Token id: 0\\Token mask: 0.0\n",
            "Token id: 0\\Token mask: 0.0\n",
            "Token id: 0\\Token mask: 0.0\n",
            "Token id: 0\\Token mask: 0.0\n",
            "Token id: 0\\Token mask: 0.0\n",
            "Token id: 0\\Token mask: 0.0\n",
            "Token id: 0\\Token mask: 0.0\n",
            "Token id: 0\\Token mask: 0.0\n",
            "Token id: 0\\Token mask: 0.0\n",
            "Token id: 0\\Token mask: 0.0\n",
            "Token id: 0\\Token mask: 0.0\n",
            "Token id: 0\\Token mask: 0.0\n",
            "Token id: 0\\Token mask: 0.0\n",
            "Token id: 0\\Token mask: 0.0\n",
            "Token id: 0\\Token mask: 0.0\n",
            "Token id: 0\\Token mask: 0.0\n",
            "Token id: 0\\Token mask: 0.0\n",
            "Token id: 0\\Token mask: 0.0\n",
            "Token id: 0\\Token mask: 0.0\n",
            "Token id: 0\\Token mask: 0.0\n",
            "Token id: 0\\Token mask: 0.0\n",
            "Token id: 0\\Token mask: 0.0\n",
            "Token id: 0\\Token mask: 0.0\n",
            "Token id: 0\\Token mask: 0.0\n",
            "Token id: 0\\Token mask: 0.0\n",
            "Token id: 0\\Token mask: 0.0\n",
            "Token id: 0\\Token mask: 0.0\n",
            "Token id: 0\\Token mask: 0.0\n",
            "Token id: 0\\Token mask: 0.0\n",
            "Token id: 0\\Token mask: 0.0\n",
            "Token id: 0\\Token mask: 0.0\n",
            "Token id: 0\\Token mask: 0.0\n",
            "Token id: 0\\Token mask: 0.0\n",
            "Token id: 0\\Token mask: 0.0\n",
            "Token id: 0\\Token mask: 0.0\n",
            "Token id: 0\\Token mask: 0.0\n",
            "Token id: 0\\Token mask: 0.0\n",
            "Token id: 0\\Token mask: 0.0\n",
            "Token id: 0\\Token mask: 0.0\n",
            "Token id: 0\\Token mask: 0.0\n",
            "Token id: 0\\Token mask: 0.0\n",
            "Token id: 0\\Token mask: 0.0\n",
            "Token id: 0\\Token mask: 0.0\n",
            "Token id: 0\\Token mask: 0.0\n",
            "Token id: 0\\Token mask: 0.0\n",
            "Token id: 0\\Token mask: 0.0\n",
            "Token id: 0\\Token mask: 0.0\n",
            "Token id: 0\\Token mask: 0.0\n",
            "Token id: 0\\Token mask: 0.0\n",
            "Token id: 0\\Token mask: 0.0\n",
            "Token id: 0\\Token mask: 0.0\n",
            "Token id: 0\\Token mask: 0.0\n",
            "Token id: 0\\Token mask: 0.0\n",
            "Token id: 0\\Token mask: 0.0\n",
            "Token id: 0\\Token mask: 0.0\n",
            "Token id: 0\\Token mask: 0.0\n",
            "Token id: 0\\Token mask: 0.0\n",
            "Token id: 0\\Token mask: 0.0\n",
            "Token id: 0\\Token mask: 0.0\n",
            "Token id: 0\\Token mask: 0.0\n",
            "Token id: 0\\Token mask: 0.0\n",
            "Token id: 0\\Token mask: 0.0\n",
            "Token id: 0\\Token mask: 0.0\n",
            "Token id: 0\\Token mask: 0.0\n",
            "Token id: 0\\Token mask: 0.0\n",
            "Token id: 0\\Token mask: 0.0\n",
            "Token id: 0\\Token mask: 0.0\n",
            "Token id: 0\\Token mask: 0.0\n",
            "Token id: 0\\Token mask: 0.0\n",
            "Token id: 0\\Token mask: 0.0\n",
            "Token id: 0\\Token mask: 0.0\n",
            "Token id: 0\\Token mask: 0.0\n",
            "Token id: 0\\Token mask: 0.0\n",
            "Token id: 0\\Token mask: 0.0\n",
            "Token id: 0\\Token mask: 0.0\n",
            "Token id: 0\\Token mask: 0.0\n",
            "Token id: 0\\Token mask: 0.0\n",
            "Token id: 0\\Token mask: 0.0\n"
          ]
        }
      ],
      "source": [
        "for i,m in zip(train_input_ids[5], train_attention_masks[5]):\n",
        "  print(f\"Token id: {i}\\Token mask: {m}\")"
      ]
    },
    {
      "cell_type": "code",
      "execution_count": null,
      "metadata": {
        "colab": {
          "base_uri": "https://localhost:8080/"
        },
        "id": "rpXOPZnxz-Gx",
        "outputId": "07c9215d-68c5-4802-8796-d23b1a232334"
      },
      "outputs": [
        {
          "name": "stdout",
          "output_type": "stream",
          "text": [
            "Token id: 18\\Token mask: 1.0\n",
            "Token id: 32\\Token mask: 1.0\n",
            "Token id: 1423\\Token mask: 1.0\n",
            "Token id: 2946\\Token mask: 1.0\n",
            "Token id: 11\\Token mask: 1.0\n",
            "Token id: 1\\Token mask: 1.0\n",
            "Token id: 1\\Token mask: 1.0\n",
            "Token id: 0\\Token mask: 0.0\n",
            "Token id: 0\\Token mask: 0.0\n",
            "Token id: 0\\Token mask: 0.0\n",
            "Token id: 0\\Token mask: 0.0\n",
            "Token id: 0\\Token mask: 0.0\n",
            "Token id: 0\\Token mask: 0.0\n",
            "Token id: 0\\Token mask: 0.0\n",
            "Token id: 0\\Token mask: 0.0\n",
            "Token id: 0\\Token mask: 0.0\n",
            "Token id: 0\\Token mask: 0.0\n",
            "Token id: 0\\Token mask: 0.0\n",
            "Token id: 0\\Token mask: 0.0\n",
            "Token id: 0\\Token mask: 0.0\n",
            "Token id: 0\\Token mask: 0.0\n",
            "Token id: 0\\Token mask: 0.0\n",
            "Token id: 0\\Token mask: 0.0\n",
            "Token id: 0\\Token mask: 0.0\n",
            "Token id: 0\\Token mask: 0.0\n",
            "Token id: 0\\Token mask: 0.0\n",
            "Token id: 0\\Token mask: 0.0\n",
            "Token id: 0\\Token mask: 0.0\n",
            "Token id: 0\\Token mask: 0.0\n",
            "Token id: 0\\Token mask: 0.0\n",
            "Token id: 0\\Token mask: 0.0\n",
            "Token id: 0\\Token mask: 0.0\n",
            "Token id: 0\\Token mask: 0.0\n",
            "Token id: 0\\Token mask: 0.0\n",
            "Token id: 0\\Token mask: 0.0\n",
            "Token id: 0\\Token mask: 0.0\n",
            "Token id: 0\\Token mask: 0.0\n",
            "Token id: 0\\Token mask: 0.0\n",
            "Token id: 0\\Token mask: 0.0\n",
            "Token id: 0\\Token mask: 0.0\n",
            "Token id: 0\\Token mask: 0.0\n",
            "Token id: 0\\Token mask: 0.0\n",
            "Token id: 0\\Token mask: 0.0\n",
            "Token id: 0\\Token mask: 0.0\n",
            "Token id: 0\\Token mask: 0.0\n",
            "Token id: 0\\Token mask: 0.0\n",
            "Token id: 0\\Token mask: 0.0\n",
            "Token id: 0\\Token mask: 0.0\n",
            "Token id: 0\\Token mask: 0.0\n",
            "Token id: 0\\Token mask: 0.0\n",
            "Token id: 0\\Token mask: 0.0\n",
            "Token id: 0\\Token mask: 0.0\n",
            "Token id: 0\\Token mask: 0.0\n",
            "Token id: 0\\Token mask: 0.0\n",
            "Token id: 0\\Token mask: 0.0\n",
            "Token id: 0\\Token mask: 0.0\n",
            "Token id: 0\\Token mask: 0.0\n",
            "Token id: 0\\Token mask: 0.0\n",
            "Token id: 0\\Token mask: 0.0\n",
            "Token id: 0\\Token mask: 0.0\n",
            "Token id: 0\\Token mask: 0.0\n",
            "Token id: 0\\Token mask: 0.0\n",
            "Token id: 0\\Token mask: 0.0\n",
            "Token id: 0\\Token mask: 0.0\n",
            "Token id: 0\\Token mask: 0.0\n",
            "Token id: 0\\Token mask: 0.0\n",
            "Token id: 0\\Token mask: 0.0\n",
            "Token id: 0\\Token mask: 0.0\n",
            "Token id: 0\\Token mask: 0.0\n",
            "Token id: 0\\Token mask: 0.0\n",
            "Token id: 0\\Token mask: 0.0\n",
            "Token id: 0\\Token mask: 0.0\n",
            "Token id: 0\\Token mask: 0.0\n",
            "Token id: 0\\Token mask: 0.0\n",
            "Token id: 0\\Token mask: 0.0\n",
            "Token id: 0\\Token mask: 0.0\n",
            "Token id: 0\\Token mask: 0.0\n",
            "Token id: 0\\Token mask: 0.0\n",
            "Token id: 0\\Token mask: 0.0\n",
            "Token id: 0\\Token mask: 0.0\n",
            "Token id: 0\\Token mask: 0.0\n",
            "Token id: 0\\Token mask: 0.0\n",
            "Token id: 0\\Token mask: 0.0\n",
            "Token id: 0\\Token mask: 0.0\n",
            "Token id: 0\\Token mask: 0.0\n",
            "Token id: 0\\Token mask: 0.0\n",
            "Token id: 0\\Token mask: 0.0\n",
            "Token id: 0\\Token mask: 0.0\n",
            "Token id: 0\\Token mask: 0.0\n",
            "Token id: 0\\Token mask: 0.0\n",
            "Token id: 0\\Token mask: 0.0\n",
            "Token id: 0\\Token mask: 0.0\n",
            "Token id: 0\\Token mask: 0.0\n",
            "Token id: 0\\Token mask: 0.0\n",
            "Token id: 0\\Token mask: 0.0\n",
            "Token id: 0\\Token mask: 0.0\n",
            "Token id: 0\\Token mask: 0.0\n",
            "Token id: 0\\Token mask: 0.0\n",
            "Token id: 0\\Token mask: 0.0\n",
            "Token id: 0\\Token mask: 0.0\n",
            "Token id: 0\\Token mask: 0.0\n",
            "Token id: 0\\Token mask: 0.0\n",
            "Token id: 0\\Token mask: 0.0\n",
            "Token id: 0\\Token mask: 0.0\n",
            "Token id: 0\\Token mask: 0.0\n",
            "Token id: 0\\Token mask: 0.0\n",
            "Token id: 0\\Token mask: 0.0\n",
            "Token id: 0\\Token mask: 0.0\n",
            "Token id: 0\\Token mask: 0.0\n",
            "Token id: 0\\Token mask: 0.0\n",
            "Token id: 0\\Token mask: 0.0\n",
            "Token id: 0\\Token mask: 0.0\n",
            "Token id: 0\\Token mask: 0.0\n",
            "Token id: 0\\Token mask: 0.0\n",
            "Token id: 0\\Token mask: 0.0\n",
            "Token id: 0\\Token mask: 0.0\n",
            "Token id: 0\\Token mask: 0.0\n",
            "Token id: 0\\Token mask: 0.0\n",
            "Token id: 0\\Token mask: 0.0\n",
            "Token id: 0\\Token mask: 0.0\n",
            "Token id: 0\\Token mask: 0.0\n",
            "Token id: 0\\Token mask: 0.0\n",
            "Token id: 0\\Token mask: 0.0\n",
            "Token id: 0\\Token mask: 0.0\n",
            "Token id: 0\\Token mask: 0.0\n",
            "Token id: 0\\Token mask: 0.0\n",
            "Token id: 0\\Token mask: 0.0\n",
            "Token id: 0\\Token mask: 0.0\n",
            "Token id: 0\\Token mask: 0.0\n",
            "Token id: 0\\Token mask: 0.0\n",
            "Token id: 0\\Token mask: 0.0\n",
            "Token id: 0\\Token mask: 0.0\n",
            "Token id: 0\\Token mask: 0.0\n",
            "Token id: 0\\Token mask: 0.0\n",
            "Token id: 0\\Token mask: 0.0\n",
            "Token id: 0\\Token mask: 0.0\n",
            "Token id: 0\\Token mask: 0.0\n",
            "Token id: 0\\Token mask: 0.0\n",
            "Token id: 0\\Token mask: 0.0\n",
            "Token id: 0\\Token mask: 0.0\n",
            "Token id: 0\\Token mask: 0.0\n",
            "Token id: 0\\Token mask: 0.0\n",
            "Token id: 0\\Token mask: 0.0\n",
            "Token id: 0\\Token mask: 0.0\n",
            "Token id: 0\\Token mask: 0.0\n",
            "Token id: 0\\Token mask: 0.0\n",
            "Token id: 0\\Token mask: 0.0\n",
            "Token id: 0\\Token mask: 0.0\n",
            "Token id: 0\\Token mask: 0.0\n",
            "Token id: 0\\Token mask: 0.0\n",
            "Token id: 0\\Token mask: 0.0\n",
            "Token id: 0\\Token mask: 0.0\n",
            "Token id: 0\\Token mask: 0.0\n",
            "Token id: 0\\Token mask: 0.0\n",
            "Token id: 0\\Token mask: 0.0\n",
            "Token id: 0\\Token mask: 0.0\n",
            "Token id: 0\\Token mask: 0.0\n",
            "Token id: 0\\Token mask: 0.0\n",
            "Token id: 0\\Token mask: 0.0\n",
            "Token id: 0\\Token mask: 0.0\n",
            "Token id: 0\\Token mask: 0.0\n",
            "Token id: 0\\Token mask: 0.0\n",
            "Token id: 0\\Token mask: 0.0\n",
            "Token id: 0\\Token mask: 0.0\n",
            "Token id: 0\\Token mask: 0.0\n",
            "Token id: 0\\Token mask: 0.0\n",
            "Token id: 0\\Token mask: 0.0\n",
            "Token id: 0\\Token mask: 0.0\n",
            "Token id: 0\\Token mask: 0.0\n",
            "Token id: 0\\Token mask: 0.0\n",
            "Token id: 0\\Token mask: 0.0\n",
            "Token id: 0\\Token mask: 0.0\n",
            "Token id: 0\\Token mask: 0.0\n",
            "Token id: 0\\Token mask: 0.0\n",
            "Token id: 0\\Token mask: 0.0\n",
            "Token id: 0\\Token mask: 0.0\n",
            "Token id: 0\\Token mask: 0.0\n",
            "Token id: 0\\Token mask: 0.0\n",
            "Token id: 0\\Token mask: 0.0\n",
            "Token id: 0\\Token mask: 0.0\n",
            "Token id: 0\\Token mask: 0.0\n",
            "Token id: 0\\Token mask: 0.0\n",
            "Token id: 0\\Token mask: 0.0\n",
            "Token id: 0\\Token mask: 0.0\n",
            "Token id: 0\\Token mask: 0.0\n",
            "Token id: 0\\Token mask: 0.0\n",
            "Token id: 0\\Token mask: 0.0\n",
            "Token id: 0\\Token mask: 0.0\n",
            "Token id: 0\\Token mask: 0.0\n",
            "Token id: 0\\Token mask: 0.0\n",
            "Token id: 0\\Token mask: 0.0\n",
            "Token id: 0\\Token mask: 0.0\n",
            "Token id: 0\\Token mask: 0.0\n",
            "Token id: 0\\Token mask: 0.0\n",
            "Token id: 0\\Token mask: 0.0\n",
            "Token id: 0\\Token mask: 0.0\n",
            "Token id: 0\\Token mask: 0.0\n",
            "Token id: 0\\Token mask: 0.0\n",
            "Token id: 0\\Token mask: 0.0\n",
            "Token id: 0\\Token mask: 0.0\n",
            "Token id: 0\\Token mask: 0.0\n",
            "Token id: 0\\Token mask: 0.0\n",
            "Token id: 0\\Token mask: 0.0\n",
            "Token id: 0\\Token mask: 0.0\n",
            "Token id: 0\\Token mask: 0.0\n",
            "Token id: 0\\Token mask: 0.0\n",
            "Token id: 0\\Token mask: 0.0\n",
            "Token id: 0\\Token mask: 0.0\n",
            "Token id: 0\\Token mask: 0.0\n",
            "Token id: 0\\Token mask: 0.0\n",
            "Token id: 0\\Token mask: 0.0\n",
            "Token id: 0\\Token mask: 0.0\n",
            "Token id: 0\\Token mask: 0.0\n",
            "Token id: 0\\Token mask: 0.0\n",
            "Token id: 0\\Token mask: 0.0\n",
            "Token id: 0\\Token mask: 0.0\n",
            "Token id: 0\\Token mask: 0.0\n",
            "Token id: 0\\Token mask: 0.0\n",
            "Token id: 0\\Token mask: 0.0\n",
            "Token id: 0\\Token mask: 0.0\n",
            "Token id: 0\\Token mask: 0.0\n",
            "Token id: 0\\Token mask: 0.0\n",
            "Token id: 0\\Token mask: 0.0\n",
            "Token id: 0\\Token mask: 0.0\n",
            "Token id: 0\\Token mask: 0.0\n",
            "Token id: 0\\Token mask: 0.0\n",
            "Token id: 0\\Token mask: 0.0\n",
            "Token id: 0\\Token mask: 0.0\n",
            "Token id: 0\\Token mask: 0.0\n",
            "Token id: 0\\Token mask: 0.0\n",
            "Token id: 0\\Token mask: 0.0\n",
            "Token id: 0\\Token mask: 0.0\n",
            "Token id: 0\\Token mask: 0.0\n",
            "Token id: 0\\Token mask: 0.0\n",
            "Token id: 0\\Token mask: 0.0\n",
            "Token id: 0\\Token mask: 0.0\n",
            "Token id: 0\\Token mask: 0.0\n",
            "Token id: 0\\Token mask: 0.0\n",
            "Token id: 0\\Token mask: 0.0\n",
            "Token id: 0\\Token mask: 0.0\n",
            "Token id: 0\\Token mask: 0.0\n",
            "Token id: 0\\Token mask: 0.0\n",
            "Token id: 0\\Token mask: 0.0\n",
            "Token id: 0\\Token mask: 0.0\n",
            "Token id: 0\\Token mask: 0.0\n",
            "Token id: 0\\Token mask: 0.0\n",
            "Token id: 0\\Token mask: 0.0\n",
            "Token id: 0\\Token mask: 0.0\n",
            "Token id: 0\\Token mask: 0.0\n",
            "Token id: 0\\Token mask: 0.0\n",
            "Token id: 0\\Token mask: 0.0\n",
            "Token id: 0\\Token mask: 0.0\n",
            "Token id: 0\\Token mask: 0.0\n",
            "Token id: 0\\Token mask: 0.0\n",
            "Token id: 0\\Token mask: 0.0\n",
            "Token id: 0\\Token mask: 0.0\n"
          ]
        }
      ],
      "source": [
        "for i,m in zip(test_input_ids[5], test_attention_masks[5]):\n",
        "  print(f\"Token id: {i}\\Token mask: {m}\")"
      ]
    },
    {
      "cell_type": "markdown",
      "metadata": {
        "id": "fDJYhS1BzTcl"
      },
      "source": [
        "## Arrays to tensors transformation"
      ]
    },
    {
      "cell_type": "code",
      "execution_count": null,
      "metadata": {
        "id": "Y6rVCtHUxRXB"
      },
      "outputs": [],
      "source": [
        "tr_inputs = torch.tensor(train_input_ids)\n",
        "val_inputs = torch.tensor(test_input_ids)\n",
        "tr_tags = torch.tensor(train_tags)\n",
        "val_tags = torch.tensor(test_tags)\n",
        "tr_masks = torch.tensor(train_attention_masks)\n",
        "val_masks = torch.tensor(test_attention_masks)"
      ]
    },
    {
      "cell_type": "code",
      "execution_count": null,
      "metadata": {
        "colab": {
          "base_uri": "https://localhost:8080/"
        },
        "id": "-jrBOkO-dfFR",
        "outputId": "f92636de-de63-47a3-cc1e-8053bfade8cb"
      },
      "outputs": [
        {
          "name": "stdout",
          "output_type": "stream",
          "text": [
            "tensor([149,   1, 110,   1,   1,   1,   1,   1,   1,   1,   1,   1,   1,   1,\n",
            "          1,   1,   1,   1,   1, 352,   0,   0,   0,   0,   0,   0,   0,   0,\n",
            "          0,   0,   0,   0,   0,   0,   0,   0,   0,   0,   0,   0,   0,   0,\n",
            "          0,   0,   0,   0,   0,   0,   0,   0,   0,   0,   0,   0,   0,   0,\n",
            "          0,   0,   0,   0,   0,   0,   0,   0,   0,   0,   0,   0,   0,   0,\n",
            "          0,   0,   0,   0,   0,   0,   0,   0,   0,   0,   0,   0,   0,   0,\n",
            "          0,   0,   0,   0,   0,   0,   0,   0,   0,   0,   0,   0,   0,   0,\n",
            "          0,   0,   0,   0,   0,   0,   0,   0,   0,   0,   0,   0,   0,   0,\n",
            "          0,   0,   0,   0,   0,   0,   0,   0,   0,   0,   0,   0,   0,   0,\n",
            "          0,   0,   0,   0,   0,   0,   0,   0,   0,   0,   0,   0,   0,   0,\n",
            "          0,   0,   0,   0,   0,   0,   0,   0,   0,   0,   0,   0,   0,   0,\n",
            "          0,   0,   0,   0,   0,   0,   0,   0,   0,   0,   0,   0,   0,   0,\n",
            "          0,   0,   0,   0,   0,   0,   0,   0,   0,   0,   0,   0,   0,   0,\n",
            "          0,   0,   0,   0,   0,   0,   0,   0,   0,   0,   0,   0,   0,   0,\n",
            "          0,   0,   0,   0,   0,   0,   0,   0,   0,   0,   0,   0,   0,   0,\n",
            "          0,   0,   0,   0,   0,   0,   0,   0,   0,   0,   0,   0,   0,   0,\n",
            "          0,   0,   0,   0,   0,   0,   0,   0,   0,   0,   0,   0,   0,   0,\n",
            "          0,   0,   0,   0,   0,   0,   0,   0,   0,   0,   0,   0,   0,   0,\n",
            "          0,   0,   0,   0])\n",
            "tensor([ 4,  4,  4,  1,  1,  1,  1,  1,  1,  1,  1,  1,  1,  5,  5,  5,  5,  5,\n",
            "         4,  4, 14, 14, 14, 14, 14, 14, 14, 14, 14, 14, 14, 14, 14, 14, 14, 14,\n",
            "        14, 14, 14, 14, 14, 14, 14, 14, 14, 14, 14, 14, 14, 14, 14, 14, 14, 14,\n",
            "        14, 14, 14, 14, 14, 14, 14, 14, 14, 14, 14, 14, 14, 14, 14, 14, 14, 14,\n",
            "        14, 14, 14, 14, 14, 14, 14, 14, 14, 14, 14, 14, 14, 14, 14, 14, 14, 14,\n",
            "        14, 14, 14, 14, 14, 14, 14, 14, 14, 14, 14, 14, 14, 14, 14, 14, 14, 14,\n",
            "        14, 14, 14, 14, 14, 14, 14, 14, 14, 14, 14, 14, 14, 14, 14, 14, 14, 14,\n",
            "        14, 14, 14, 14, 14, 14, 14, 14, 14, 14, 14, 14, 14, 14, 14, 14, 14, 14,\n",
            "        14, 14, 14, 14, 14, 14, 14, 14, 14, 14, 14, 14, 14, 14, 14, 14, 14, 14,\n",
            "        14, 14, 14, 14, 14, 14, 14, 14, 14, 14, 14, 14, 14, 14, 14, 14, 14, 14,\n",
            "        14, 14, 14, 14, 14, 14, 14, 14, 14, 14, 14, 14, 14, 14, 14, 14, 14, 14,\n",
            "        14, 14, 14, 14, 14, 14, 14, 14, 14, 14, 14, 14, 14, 14, 14, 14, 14, 14,\n",
            "        14, 14, 14, 14, 14, 14, 14, 14, 14, 14, 14, 14, 14, 14, 14, 14, 14, 14,\n",
            "        14, 14, 14, 14, 14, 14, 14, 14, 14, 14, 14, 14, 14, 14, 14, 14, 14, 14,\n",
            "        14, 14, 14, 14])\n",
            "tensor([1., 1., 1., 1., 1., 1., 1., 1., 1., 1., 1., 1., 1., 1., 1., 1., 1., 1.,\n",
            "        1., 1., 0., 0., 0., 0., 0., 0., 0., 0., 0., 0., 0., 0., 0., 0., 0., 0.,\n",
            "        0., 0., 0., 0., 0., 0., 0., 0., 0., 0., 0., 0., 0., 0., 0., 0., 0., 0.,\n",
            "        0., 0., 0., 0., 0., 0., 0., 0., 0., 0., 0., 0., 0., 0., 0., 0., 0., 0.,\n",
            "        0., 0., 0., 0., 0., 0., 0., 0., 0., 0., 0., 0., 0., 0., 0., 0., 0., 0.,\n",
            "        0., 0., 0., 0., 0., 0., 0., 0., 0., 0., 0., 0., 0., 0., 0., 0., 0., 0.,\n",
            "        0., 0., 0., 0., 0., 0., 0., 0., 0., 0., 0., 0., 0., 0., 0., 0., 0., 0.,\n",
            "        0., 0., 0., 0., 0., 0., 0., 0., 0., 0., 0., 0., 0., 0., 0., 0., 0., 0.,\n",
            "        0., 0., 0., 0., 0., 0., 0., 0., 0., 0., 0., 0., 0., 0., 0., 0., 0., 0.,\n",
            "        0., 0., 0., 0., 0., 0., 0., 0., 0., 0., 0., 0., 0., 0., 0., 0., 0., 0.,\n",
            "        0., 0., 0., 0., 0., 0., 0., 0., 0., 0., 0., 0., 0., 0., 0., 0., 0., 0.,\n",
            "        0., 0., 0., 0., 0., 0., 0., 0., 0., 0., 0., 0., 0., 0., 0., 0., 0., 0.,\n",
            "        0., 0., 0., 0., 0., 0., 0., 0., 0., 0., 0., 0., 0., 0., 0., 0., 0., 0.,\n",
            "        0., 0., 0., 0., 0., 0., 0., 0., 0., 0., 0., 0., 0., 0., 0., 0., 0., 0.,\n",
            "        0., 0., 0., 0.])\n"
          ]
        }
      ],
      "source": [
        "print(tr_inputs[5])\n",
        "print(tr_tags[5])\n",
        "print(tr_masks[5])"
      ]
    },
    {
      "cell_type": "code",
      "execution_count": null,
      "metadata": {
        "colab": {
          "base_uri": "https://localhost:8080/"
        },
        "id": "Nl0oukKydqu8",
        "outputId": "6af4f85f-ee91-469f-ecf5-7105d79497d1"
      },
      "outputs": [
        {
          "name": "stdout",
          "output_type": "stream",
          "text": [
            "tensor([  18,   32, 1423, 2946,   11,    1,    1,    0,    0,    0,    0,    0,\n",
            "           0,    0,    0,    0,    0,    0,    0,    0,    0,    0,    0,    0,\n",
            "           0,    0,    0,    0,    0,    0,    0,    0,    0,    0,    0,    0,\n",
            "           0,    0,    0,    0,    0,    0,    0,    0,    0,    0,    0,    0,\n",
            "           0,    0,    0,    0,    0,    0,    0,    0,    0,    0,    0,    0,\n",
            "           0,    0,    0,    0,    0,    0,    0,    0,    0,    0,    0,    0,\n",
            "           0,    0,    0,    0,    0,    0,    0,    0,    0,    0,    0,    0,\n",
            "           0,    0,    0,    0,    0,    0,    0,    0,    0,    0,    0,    0,\n",
            "           0,    0,    0,    0,    0,    0,    0,    0,    0,    0,    0,    0,\n",
            "           0,    0,    0,    0,    0,    0,    0,    0,    0,    0,    0,    0,\n",
            "           0,    0,    0,    0,    0,    0,    0,    0,    0,    0,    0,    0,\n",
            "           0,    0,    0,    0,    0,    0,    0,    0,    0,    0,    0,    0,\n",
            "           0,    0,    0,    0,    0,    0,    0,    0,    0,    0,    0,    0,\n",
            "           0,    0,    0,    0,    0,    0,    0,    0,    0,    0,    0,    0,\n",
            "           0,    0,    0,    0,    0,    0,    0,    0,    0,    0,    0,    0,\n",
            "           0,    0,    0,    0,    0,    0,    0,    0,    0,    0,    0,    0,\n",
            "           0,    0,    0,    0,    0,    0,    0,    0,    0,    0,    0,    0,\n",
            "           0,    0,    0,    0,    0,    0,    0,    0,    0,    0,    0,    0,\n",
            "           0,    0,    0,    0,    0,    0,    0,    0,    0,    0,    0,    0,\n",
            "           0,    0,    0,    0,    0,    0,    0,    0,    0,    0,    0,    0,\n",
            "           0,    0,    0,    0,    0,    0,    0,    0,    0,    0,    0,    0,\n",
            "           0,    0,    0,    0])\n",
            "tensor([ 4,  4,  4,  4,  4, 11,  4, 14, 14, 14, 14, 14, 14, 14, 14, 14, 14, 14,\n",
            "        14, 14, 14, 14, 14, 14, 14, 14, 14, 14, 14, 14, 14, 14, 14, 14, 14, 14,\n",
            "        14, 14, 14, 14, 14, 14, 14, 14, 14, 14, 14, 14, 14, 14, 14, 14, 14, 14,\n",
            "        14, 14, 14, 14, 14, 14, 14, 14, 14, 14, 14, 14, 14, 14, 14, 14, 14, 14,\n",
            "        14, 14, 14, 14, 14, 14, 14, 14, 14, 14, 14, 14, 14, 14, 14, 14, 14, 14,\n",
            "        14, 14, 14, 14, 14, 14, 14, 14, 14, 14, 14, 14, 14, 14, 14, 14, 14, 14,\n",
            "        14, 14, 14, 14, 14, 14, 14, 14, 14, 14, 14, 14, 14, 14, 14, 14, 14, 14,\n",
            "        14, 14, 14, 14, 14, 14, 14, 14, 14, 14, 14, 14, 14, 14, 14, 14, 14, 14,\n",
            "        14, 14, 14, 14, 14, 14, 14, 14, 14, 14, 14, 14, 14, 14, 14, 14, 14, 14,\n",
            "        14, 14, 14, 14, 14, 14, 14, 14, 14, 14, 14, 14, 14, 14, 14, 14, 14, 14,\n",
            "        14, 14, 14, 14, 14, 14, 14, 14, 14, 14, 14, 14, 14, 14, 14, 14, 14, 14,\n",
            "        14, 14, 14, 14, 14, 14, 14, 14, 14, 14, 14, 14, 14, 14, 14, 14, 14, 14,\n",
            "        14, 14, 14, 14, 14, 14, 14, 14, 14, 14, 14, 14, 14, 14, 14, 14, 14, 14,\n",
            "        14, 14, 14, 14, 14, 14, 14, 14, 14, 14, 14, 14, 14, 14, 14, 14, 14, 14,\n",
            "        14, 14, 14, 14])\n",
            "tensor([1., 1., 1., 1., 1., 1., 1., 0., 0., 0., 0., 0., 0., 0., 0., 0., 0., 0.,\n",
            "        0., 0., 0., 0., 0., 0., 0., 0., 0., 0., 0., 0., 0., 0., 0., 0., 0., 0.,\n",
            "        0., 0., 0., 0., 0., 0., 0., 0., 0., 0., 0., 0., 0., 0., 0., 0., 0., 0.,\n",
            "        0., 0., 0., 0., 0., 0., 0., 0., 0., 0., 0., 0., 0., 0., 0., 0., 0., 0.,\n",
            "        0., 0., 0., 0., 0., 0., 0., 0., 0., 0., 0., 0., 0., 0., 0., 0., 0., 0.,\n",
            "        0., 0., 0., 0., 0., 0., 0., 0., 0., 0., 0., 0., 0., 0., 0., 0., 0., 0.,\n",
            "        0., 0., 0., 0., 0., 0., 0., 0., 0., 0., 0., 0., 0., 0., 0., 0., 0., 0.,\n",
            "        0., 0., 0., 0., 0., 0., 0., 0., 0., 0., 0., 0., 0., 0., 0., 0., 0., 0.,\n",
            "        0., 0., 0., 0., 0., 0., 0., 0., 0., 0., 0., 0., 0., 0., 0., 0., 0., 0.,\n",
            "        0., 0., 0., 0., 0., 0., 0., 0., 0., 0., 0., 0., 0., 0., 0., 0., 0., 0.,\n",
            "        0., 0., 0., 0., 0., 0., 0., 0., 0., 0., 0., 0., 0., 0., 0., 0., 0., 0.,\n",
            "        0., 0., 0., 0., 0., 0., 0., 0., 0., 0., 0., 0., 0., 0., 0., 0., 0., 0.,\n",
            "        0., 0., 0., 0., 0., 0., 0., 0., 0., 0., 0., 0., 0., 0., 0., 0., 0., 0.,\n",
            "        0., 0., 0., 0., 0., 0., 0., 0., 0., 0., 0., 0., 0., 0., 0., 0., 0., 0.,\n",
            "        0., 0., 0., 0.])\n"
          ]
        }
      ],
      "source": [
        "print(val_inputs[5])\n",
        "print(val_tags[5])\n",
        "print(val_masks[5])"
      ]
    },
    {
      "cell_type": "markdown",
      "metadata": {
        "id": "GVWFGl4VeGi0"
      },
      "source": [
        "### Checking sizes match"
      ]
    },
    {
      "cell_type": "markdown",
      "metadata": {
        "id": "57W4P6CWeZ-s"
      },
      "source": [
        "#### Training"
      ]
    },
    {
      "cell_type": "code",
      "execution_count": null,
      "metadata": {
        "colab": {
          "base_uri": "https://localhost:8080/"
        },
        "id": "TrJVCikMeSvl",
        "outputId": "0005ab68-27e7-42d4-93f4-05117a0a5fbc"
      },
      "outputs": [
        {
          "data": {
            "text/plain": [
              "20"
            ]
          },
          "execution_count": 49,
          "metadata": {},
          "output_type": "execute_result"
        }
      ],
      "source": [
        "len([x for x in tr_inputs[5] if x != 0]) # How many NO_PADs we have?"
      ]
    },
    {
      "cell_type": "code",
      "execution_count": null,
      "metadata": {
        "colab": {
          "base_uri": "https://localhost:8080/"
        },
        "id": "Dbu7RaJEeUas",
        "outputId": "1b3f2d03-3c76-4ef8-df27-3675dc838440"
      },
      "outputs": [
        {
          "data": {
            "text/plain": [
              "256"
            ]
          },
          "execution_count": 50,
          "metadata": {},
          "output_type": "execute_result"
        }
      ],
      "source": [
        "len([x for x in tr_tags[5] if x != 7])"
      ]
    },
    {
      "cell_type": "code",
      "execution_count": null,
      "metadata": {
        "colab": {
          "base_uri": "https://localhost:8080/"
        },
        "id": "ea9OBwxdeXXN",
        "outputId": "d6011be8-be83-4dad-ff3e-4fe22ac9b2d0"
      },
      "outputs": [
        {
          "data": {
            "text/plain": [
              "20"
            ]
          },
          "execution_count": 51,
          "metadata": {},
          "output_type": "execute_result"
        }
      ],
      "source": [
        "len([x for x in tr_masks[5] if x != 0])"
      ]
    },
    {
      "cell_type": "markdown",
      "metadata": {
        "id": "NFGyaEZVebpB"
      },
      "source": [
        "#### Test"
      ]
    },
    {
      "cell_type": "code",
      "execution_count": null,
      "metadata": {
        "colab": {
          "base_uri": "https://localhost:8080/"
        },
        "id": "J_fAqoxaeLxw",
        "outputId": "294f1780-5a5e-4dc2-dc35-bda101d2f105"
      },
      "outputs": [
        {
          "data": {
            "text/plain": [
              "7"
            ]
          },
          "execution_count": 52,
          "metadata": {},
          "output_type": "execute_result"
        }
      ],
      "source": [
        "len([x for x in val_inputs[5] if x != 0]) # How many NO_PADs we have?"
      ]
    },
    {
      "cell_type": "code",
      "execution_count": null,
      "metadata": {
        "colab": {
          "base_uri": "https://localhost:8080/"
        },
        "id": "vXhC3Grpd8Av",
        "outputId": "71d74c19-a4ae-4ad7-f40d-4e41e74a67b5"
      },
      "outputs": [
        {
          "data": {
            "text/plain": [
              "256"
            ]
          },
          "execution_count": 53,
          "metadata": {},
          "output_type": "execute_result"
        }
      ],
      "source": [
        "len([x for x in val_tags[5] if x != 7])"
      ]
    },
    {
      "cell_type": "code",
      "execution_count": null,
      "metadata": {
        "colab": {
          "base_uri": "https://localhost:8080/"
        },
        "id": "q2LxFdyEeCPh",
        "outputId": "f91a6cf2-1a4a-43ad-b43b-ee4580df9663"
      },
      "outputs": [
        {
          "data": {
            "text/plain": [
              "7"
            ]
          },
          "execution_count": 54,
          "metadata": {},
          "output_type": "execute_result"
        }
      ],
      "source": [
        "len([x for x in val_masks[5] if x != 0])"
      ]
    },
    {
      "cell_type": "markdown",
      "metadata": {
        "id": "3j86Os-Y0UpL"
      },
      "source": [
        "## Creating the DataLoaders to feed the batches during training"
      ]
    },
    {
      "cell_type": "code",
      "execution_count": null,
      "metadata": {
        "id": "EncfL9XT0YJv"
      },
      "outputs": [],
      "source": [
        "train_data = TensorDataset(tr_inputs, tr_masks, tr_tags)\n",
        "train_sampler = RandomSampler(train_data)\n",
        "train_dataloader = DataLoader(train_data, sampler=train_sampler, batch_size=TRAIN_BATCH_SIZE)\n",
        "\n",
        "valid_data = TensorDataset(val_inputs, val_masks, val_tags)\n",
        "valid_sampler = SequentialSampler(valid_data)\n",
        "valid_dataloader = DataLoader(valid_data, sampler=valid_sampler, batch_size=TRAIN_BATCH_SIZE)"
      ]
    },
    {
      "cell_type": "markdown",
      "metadata": {
        "id": "2Vpu3C-x0kZn"
      },
      "source": [
        "# Loading the transformer model"
      ]
    },
    {
      "cell_type": "code",
      "execution_count": null,
      "metadata": {
        "colab": {
          "base_uri": "https://localhost:8080/",
          "height": 35
        },
        "id": "b66ISUfG0yx_",
        "outputId": "d55b83a8-452b-47f1-ab3e-5b997d613647"
      },
      "outputs": [
        {
          "data": {
            "application/vnd.google.colaboratory.intrinsic+json": {
              "type": "string"
            },
            "text/plain": [
              "'4.8.1'"
            ]
          },
          "execution_count": 56,
          "metadata": {},
          "output_type": "execute_result"
        }
      ],
      "source": [
        "transformers.__version__"
      ]
    },
    {
      "cell_type": "code",
      "execution_count": null,
      "metadata": {
        "colab": {
          "base_uri": "https://localhost:8080/",
          "height": 1000,
          "referenced_widgets": [
            "0e03d207743c4202864e1f5263432f96",
            "0f5f08c8ac5f4388b05532599a16aea8",
            "49fabfd337d349368f646030f2312405",
            "d7143e7a139b4cf0b292c2aca06a080a",
            "254fbfdde6444455ba4736c1d1ff97cc",
            "cf9386c97d8942beaf1a843f854ef65b",
            "9374cc3eb4bb40b8a24e57135cc6c0fb",
            "38f5cb6843bb4c2a98d8d17cc90fd5cc",
            "de3ddc2a2aa74ffda4ab74a62b535dec",
            "16cab295afd04b7c8a851072d421d0bb",
            "41acc7154be04a44ab593d04f91d6005",
            "b411aba703064746be08c78a7b8ea7b4",
            "4740e1f0e68f4f63aea8298e1f2e9bea",
            "e893745e7a9d413a9e54a0649cea5305",
            "55459a66a61345c2a5beed14553ee1f4",
            "48953b11a62743408c6302d4fb72bcbd",
            "ef87174cf4844e95a4d532a0ee52da8d",
            "06e6e9c7c9034270bd46471ae8a90b25",
            "957026749d414c6ab65de4fdfc4aac3f",
            "b762d400eb404a07af2583e039008e5a",
            "1e6137e0c9f34fdcb7980bf908c00297",
            "65afa4aaab3c42149a7e411604fbb893"
          ]
        },
        "id": "ba70EsrqGD_u",
        "outputId": "f955415d-27ba-4bc1-86c9-2fc545cd3014"
      },
      "outputs": [
        {
          "data": {
            "application/vnd.jupyter.widget-view+json": {
              "model_id": "0e03d207743c4202864e1f5263432f96",
              "version_major": 2,
              "version_minor": 0
            },
            "text/plain": [
              "Downloading:   0%|          | 0.00/747 [00:00<?, ?B/s]"
            ]
          },
          "metadata": {},
          "output_type": "display_data"
        },
        {
          "data": {
            "application/vnd.jupyter.widget-view+json": {
              "model_id": "b411aba703064746be08c78a7b8ea7b4",
              "version_major": 2,
              "version_minor": 0
            },
            "text/plain": [
              "Downloading:   0%|          | 0.00/445M [00:00<?, ?B/s]"
            ]
          },
          "metadata": {},
          "output_type": "display_data"
        },
        {
          "name": "stderr",
          "output_type": "stream",
          "text": [
            "Some weights of the model checkpoint at zlucia/custom-legalbert were not used when initializing BertForTokenClassification: ['cls.predictions.bias', 'cls.predictions.transform.LayerNorm.weight', 'cls.predictions.decoder.bias', 'cls.seq_relationship.weight', 'cls.seq_relationship.bias', 'cls.predictions.decoder.weight', 'cls.predictions.transform.LayerNorm.bias', 'cls.predictions.transform.dense.weight', 'cls.predictions.transform.dense.bias']\n",
            "- This IS expected if you are initializing BertForTokenClassification from the checkpoint of a model trained on another task or with another architecture (e.g. initializing a BertForSequenceClassification model from a BertForPreTraining model).\n",
            "- This IS NOT expected if you are initializing BertForTokenClassification from the checkpoint of a model that you expect to be exactly identical (initializing a BertForSequenceClassification model from a BertForSequenceClassification model).\n",
            "Some weights of BertForTokenClassification were not initialized from the model checkpoint at zlucia/custom-legalbert and are newly initialized: ['classifier.bias', 'classifier.weight']\n",
            "You should probably TRAIN this model on a down-stream task to be able to use it for predictions and inference.\n"
          ]
        },
        {
          "data": {
            "text/plain": [
              "BertForTokenClassification(\n",
              "  (bert): BertModel(\n",
              "    (embeddings): BertEmbeddings(\n",
              "      (word_embeddings): Embedding(32000, 768, padding_idx=0)\n",
              "      (position_embeddings): Embedding(512, 768)\n",
              "      (token_type_embeddings): Embedding(2, 768)\n",
              "      (LayerNorm): LayerNorm((768,), eps=1e-12, elementwise_affine=True)\n",
              "      (dropout): Dropout(p=0.1, inplace=False)\n",
              "    )\n",
              "    (encoder): BertEncoder(\n",
              "      (layer): ModuleList(\n",
              "        (0): BertLayer(\n",
              "          (attention): BertAttention(\n",
              "            (self): BertSelfAttention(\n",
              "              (query): Linear(in_features=768, out_features=768, bias=True)\n",
              "              (key): Linear(in_features=768, out_features=768, bias=True)\n",
              "              (value): Linear(in_features=768, out_features=768, bias=True)\n",
              "              (dropout): Dropout(p=0.1, inplace=False)\n",
              "            )\n",
              "            (output): BertSelfOutput(\n",
              "              (dense): Linear(in_features=768, out_features=768, bias=True)\n",
              "              (LayerNorm): LayerNorm((768,), eps=1e-12, elementwise_affine=True)\n",
              "              (dropout): Dropout(p=0.1, inplace=False)\n",
              "            )\n",
              "          )\n",
              "          (intermediate): BertIntermediate(\n",
              "            (dense): Linear(in_features=768, out_features=3072, bias=True)\n",
              "          )\n",
              "          (output): BertOutput(\n",
              "            (dense): Linear(in_features=3072, out_features=768, bias=True)\n",
              "            (LayerNorm): LayerNorm((768,), eps=1e-12, elementwise_affine=True)\n",
              "            (dropout): Dropout(p=0.1, inplace=False)\n",
              "          )\n",
              "        )\n",
              "        (1): BertLayer(\n",
              "          (attention): BertAttention(\n",
              "            (self): BertSelfAttention(\n",
              "              (query): Linear(in_features=768, out_features=768, bias=True)\n",
              "              (key): Linear(in_features=768, out_features=768, bias=True)\n",
              "              (value): Linear(in_features=768, out_features=768, bias=True)\n",
              "              (dropout): Dropout(p=0.1, inplace=False)\n",
              "            )\n",
              "            (output): BertSelfOutput(\n",
              "              (dense): Linear(in_features=768, out_features=768, bias=True)\n",
              "              (LayerNorm): LayerNorm((768,), eps=1e-12, elementwise_affine=True)\n",
              "              (dropout): Dropout(p=0.1, inplace=False)\n",
              "            )\n",
              "          )\n",
              "          (intermediate): BertIntermediate(\n",
              "            (dense): Linear(in_features=768, out_features=3072, bias=True)\n",
              "          )\n",
              "          (output): BertOutput(\n",
              "            (dense): Linear(in_features=3072, out_features=768, bias=True)\n",
              "            (LayerNorm): LayerNorm((768,), eps=1e-12, elementwise_affine=True)\n",
              "            (dropout): Dropout(p=0.1, inplace=False)\n",
              "          )\n",
              "        )\n",
              "        (2): BertLayer(\n",
              "          (attention): BertAttention(\n",
              "            (self): BertSelfAttention(\n",
              "              (query): Linear(in_features=768, out_features=768, bias=True)\n",
              "              (key): Linear(in_features=768, out_features=768, bias=True)\n",
              "              (value): Linear(in_features=768, out_features=768, bias=True)\n",
              "              (dropout): Dropout(p=0.1, inplace=False)\n",
              "            )\n",
              "            (output): BertSelfOutput(\n",
              "              (dense): Linear(in_features=768, out_features=768, bias=True)\n",
              "              (LayerNorm): LayerNorm((768,), eps=1e-12, elementwise_affine=True)\n",
              "              (dropout): Dropout(p=0.1, inplace=False)\n",
              "            )\n",
              "          )\n",
              "          (intermediate): BertIntermediate(\n",
              "            (dense): Linear(in_features=768, out_features=3072, bias=True)\n",
              "          )\n",
              "          (output): BertOutput(\n",
              "            (dense): Linear(in_features=3072, out_features=768, bias=True)\n",
              "            (LayerNorm): LayerNorm((768,), eps=1e-12, elementwise_affine=True)\n",
              "            (dropout): Dropout(p=0.1, inplace=False)\n",
              "          )\n",
              "        )\n",
              "        (3): BertLayer(\n",
              "          (attention): BertAttention(\n",
              "            (self): BertSelfAttention(\n",
              "              (query): Linear(in_features=768, out_features=768, bias=True)\n",
              "              (key): Linear(in_features=768, out_features=768, bias=True)\n",
              "              (value): Linear(in_features=768, out_features=768, bias=True)\n",
              "              (dropout): Dropout(p=0.1, inplace=False)\n",
              "            )\n",
              "            (output): BertSelfOutput(\n",
              "              (dense): Linear(in_features=768, out_features=768, bias=True)\n",
              "              (LayerNorm): LayerNorm((768,), eps=1e-12, elementwise_affine=True)\n",
              "              (dropout): Dropout(p=0.1, inplace=False)\n",
              "            )\n",
              "          )\n",
              "          (intermediate): BertIntermediate(\n",
              "            (dense): Linear(in_features=768, out_features=3072, bias=True)\n",
              "          )\n",
              "          (output): BertOutput(\n",
              "            (dense): Linear(in_features=3072, out_features=768, bias=True)\n",
              "            (LayerNorm): LayerNorm((768,), eps=1e-12, elementwise_affine=True)\n",
              "            (dropout): Dropout(p=0.1, inplace=False)\n",
              "          )\n",
              "        )\n",
              "        (4): BertLayer(\n",
              "          (attention): BertAttention(\n",
              "            (self): BertSelfAttention(\n",
              "              (query): Linear(in_features=768, out_features=768, bias=True)\n",
              "              (key): Linear(in_features=768, out_features=768, bias=True)\n",
              "              (value): Linear(in_features=768, out_features=768, bias=True)\n",
              "              (dropout): Dropout(p=0.1, inplace=False)\n",
              "            )\n",
              "            (output): BertSelfOutput(\n",
              "              (dense): Linear(in_features=768, out_features=768, bias=True)\n",
              "              (LayerNorm): LayerNorm((768,), eps=1e-12, elementwise_affine=True)\n",
              "              (dropout): Dropout(p=0.1, inplace=False)\n",
              "            )\n",
              "          )\n",
              "          (intermediate): BertIntermediate(\n",
              "            (dense): Linear(in_features=768, out_features=3072, bias=True)\n",
              "          )\n",
              "          (output): BertOutput(\n",
              "            (dense): Linear(in_features=3072, out_features=768, bias=True)\n",
              "            (LayerNorm): LayerNorm((768,), eps=1e-12, elementwise_affine=True)\n",
              "            (dropout): Dropout(p=0.1, inplace=False)\n",
              "          )\n",
              "        )\n",
              "        (5): BertLayer(\n",
              "          (attention): BertAttention(\n",
              "            (self): BertSelfAttention(\n",
              "              (query): Linear(in_features=768, out_features=768, bias=True)\n",
              "              (key): Linear(in_features=768, out_features=768, bias=True)\n",
              "              (value): Linear(in_features=768, out_features=768, bias=True)\n",
              "              (dropout): Dropout(p=0.1, inplace=False)\n",
              "            )\n",
              "            (output): BertSelfOutput(\n",
              "              (dense): Linear(in_features=768, out_features=768, bias=True)\n",
              "              (LayerNorm): LayerNorm((768,), eps=1e-12, elementwise_affine=True)\n",
              "              (dropout): Dropout(p=0.1, inplace=False)\n",
              "            )\n",
              "          )\n",
              "          (intermediate): BertIntermediate(\n",
              "            (dense): Linear(in_features=768, out_features=3072, bias=True)\n",
              "          )\n",
              "          (output): BertOutput(\n",
              "            (dense): Linear(in_features=3072, out_features=768, bias=True)\n",
              "            (LayerNorm): LayerNorm((768,), eps=1e-12, elementwise_affine=True)\n",
              "            (dropout): Dropout(p=0.1, inplace=False)\n",
              "          )\n",
              "        )\n",
              "        (6): BertLayer(\n",
              "          (attention): BertAttention(\n",
              "            (self): BertSelfAttention(\n",
              "              (query): Linear(in_features=768, out_features=768, bias=True)\n",
              "              (key): Linear(in_features=768, out_features=768, bias=True)\n",
              "              (value): Linear(in_features=768, out_features=768, bias=True)\n",
              "              (dropout): Dropout(p=0.1, inplace=False)\n",
              "            )\n",
              "            (output): BertSelfOutput(\n",
              "              (dense): Linear(in_features=768, out_features=768, bias=True)\n",
              "              (LayerNorm): LayerNorm((768,), eps=1e-12, elementwise_affine=True)\n",
              "              (dropout): Dropout(p=0.1, inplace=False)\n",
              "            )\n",
              "          )\n",
              "          (intermediate): BertIntermediate(\n",
              "            (dense): Linear(in_features=768, out_features=3072, bias=True)\n",
              "          )\n",
              "          (output): BertOutput(\n",
              "            (dense): Linear(in_features=3072, out_features=768, bias=True)\n",
              "            (LayerNorm): LayerNorm((768,), eps=1e-12, elementwise_affine=True)\n",
              "            (dropout): Dropout(p=0.1, inplace=False)\n",
              "          )\n",
              "        )\n",
              "        (7): BertLayer(\n",
              "          (attention): BertAttention(\n",
              "            (self): BertSelfAttention(\n",
              "              (query): Linear(in_features=768, out_features=768, bias=True)\n",
              "              (key): Linear(in_features=768, out_features=768, bias=True)\n",
              "              (value): Linear(in_features=768, out_features=768, bias=True)\n",
              "              (dropout): Dropout(p=0.1, inplace=False)\n",
              "            )\n",
              "            (output): BertSelfOutput(\n",
              "              (dense): Linear(in_features=768, out_features=768, bias=True)\n",
              "              (LayerNorm): LayerNorm((768,), eps=1e-12, elementwise_affine=True)\n",
              "              (dropout): Dropout(p=0.1, inplace=False)\n",
              "            )\n",
              "          )\n",
              "          (intermediate): BertIntermediate(\n",
              "            (dense): Linear(in_features=768, out_features=3072, bias=True)\n",
              "          )\n",
              "          (output): BertOutput(\n",
              "            (dense): Linear(in_features=3072, out_features=768, bias=True)\n",
              "            (LayerNorm): LayerNorm((768,), eps=1e-12, elementwise_affine=True)\n",
              "            (dropout): Dropout(p=0.1, inplace=False)\n",
              "          )\n",
              "        )\n",
              "        (8): BertLayer(\n",
              "          (attention): BertAttention(\n",
              "            (self): BertSelfAttention(\n",
              "              (query): Linear(in_features=768, out_features=768, bias=True)\n",
              "              (key): Linear(in_features=768, out_features=768, bias=True)\n",
              "              (value): Linear(in_features=768, out_features=768, bias=True)\n",
              "              (dropout): Dropout(p=0.1, inplace=False)\n",
              "            )\n",
              "            (output): BertSelfOutput(\n",
              "              (dense): Linear(in_features=768, out_features=768, bias=True)\n",
              "              (LayerNorm): LayerNorm((768,), eps=1e-12, elementwise_affine=True)\n",
              "              (dropout): Dropout(p=0.1, inplace=False)\n",
              "            )\n",
              "          )\n",
              "          (intermediate): BertIntermediate(\n",
              "            (dense): Linear(in_features=768, out_features=3072, bias=True)\n",
              "          )\n",
              "          (output): BertOutput(\n",
              "            (dense): Linear(in_features=3072, out_features=768, bias=True)\n",
              "            (LayerNorm): LayerNorm((768,), eps=1e-12, elementwise_affine=True)\n",
              "            (dropout): Dropout(p=0.1, inplace=False)\n",
              "          )\n",
              "        )\n",
              "        (9): BertLayer(\n",
              "          (attention): BertAttention(\n",
              "            (self): BertSelfAttention(\n",
              "              (query): Linear(in_features=768, out_features=768, bias=True)\n",
              "              (key): Linear(in_features=768, out_features=768, bias=True)\n",
              "              (value): Linear(in_features=768, out_features=768, bias=True)\n",
              "              (dropout): Dropout(p=0.1, inplace=False)\n",
              "            )\n",
              "            (output): BertSelfOutput(\n",
              "              (dense): Linear(in_features=768, out_features=768, bias=True)\n",
              "              (LayerNorm): LayerNorm((768,), eps=1e-12, elementwise_affine=True)\n",
              "              (dropout): Dropout(p=0.1, inplace=False)\n",
              "            )\n",
              "          )\n",
              "          (intermediate): BertIntermediate(\n",
              "            (dense): Linear(in_features=768, out_features=3072, bias=True)\n",
              "          )\n",
              "          (output): BertOutput(\n",
              "            (dense): Linear(in_features=3072, out_features=768, bias=True)\n",
              "            (LayerNorm): LayerNorm((768,), eps=1e-12, elementwise_affine=True)\n",
              "            (dropout): Dropout(p=0.1, inplace=False)\n",
              "          )\n",
              "        )\n",
              "        (10): BertLayer(\n",
              "          (attention): BertAttention(\n",
              "            (self): BertSelfAttention(\n",
              "              (query): Linear(in_features=768, out_features=768, bias=True)\n",
              "              (key): Linear(in_features=768, out_features=768, bias=True)\n",
              "              (value): Linear(in_features=768, out_features=768, bias=True)\n",
              "              (dropout): Dropout(p=0.1, inplace=False)\n",
              "            )\n",
              "            (output): BertSelfOutput(\n",
              "              (dense): Linear(in_features=768, out_features=768, bias=True)\n",
              "              (LayerNorm): LayerNorm((768,), eps=1e-12, elementwise_affine=True)\n",
              "              (dropout): Dropout(p=0.1, inplace=False)\n",
              "            )\n",
              "          )\n",
              "          (intermediate): BertIntermediate(\n",
              "            (dense): Linear(in_features=768, out_features=3072, bias=True)\n",
              "          )\n",
              "          (output): BertOutput(\n",
              "            (dense): Linear(in_features=3072, out_features=768, bias=True)\n",
              "            (LayerNorm): LayerNorm((768,), eps=1e-12, elementwise_affine=True)\n",
              "            (dropout): Dropout(p=0.1, inplace=False)\n",
              "          )\n",
              "        )\n",
              "        (11): BertLayer(\n",
              "          (attention): BertAttention(\n",
              "            (self): BertSelfAttention(\n",
              "              (query): Linear(in_features=768, out_features=768, bias=True)\n",
              "              (key): Linear(in_features=768, out_features=768, bias=True)\n",
              "              (value): Linear(in_features=768, out_features=768, bias=True)\n",
              "              (dropout): Dropout(p=0.1, inplace=False)\n",
              "            )\n",
              "            (output): BertSelfOutput(\n",
              "              (dense): Linear(in_features=768, out_features=768, bias=True)\n",
              "              (LayerNorm): LayerNorm((768,), eps=1e-12, elementwise_affine=True)\n",
              "              (dropout): Dropout(p=0.1, inplace=False)\n",
              "            )\n",
              "          )\n",
              "          (intermediate): BertIntermediate(\n",
              "            (dense): Linear(in_features=768, out_features=3072, bias=True)\n",
              "          )\n",
              "          (output): BertOutput(\n",
              "            (dense): Linear(in_features=3072, out_features=768, bias=True)\n",
              "            (LayerNorm): LayerNorm((768,), eps=1e-12, elementwise_affine=True)\n",
              "            (dropout): Dropout(p=0.1, inplace=False)\n",
              "          )\n",
              "        )\n",
              "      )\n",
              "    )\n",
              "  )\n",
              "  (dropout): Dropout(p=0.1, inplace=False)\n",
              "  (classifier): Linear(in_features=768, out_features=15, bias=True)\n",
              ")"
            ]
          },
          "execution_count": 57,
          "metadata": {},
          "output_type": "execute_result"
        }
      ],
      "source": [
        "model = BertForTokenClassification.from_pretrained(\n",
        "    MODEL_TO_TRAIN,\n",
        "    num_labels=len(tag2idx),\n",
        "    output_attentions = False,\n",
        "    output_hidden_states = False\n",
        ")\n",
        "model.to(device)"
      ]
    },
    {
      "cell_type": "markdown",
      "metadata": {
        "id": "rPsQIx1T1C1P"
      },
      "source": [
        "## Setting up the optimizer.\n",
        "We want to optimize weight values, so we add a decay.\n",
        "We can get all the weights from `model_named_parameters()`\n",
        "But we need to remove `bias`, `gamma` and `beta` which are Layer Normalization parameters we don't want to touch.\n",
        "\n",
        "Activate `FULL_TINETUNING` to modify weights in all the layers."
      ]
    },
    {
      "cell_type": "code",
      "execution_count": null,
      "metadata": {
        "id": "i60zq9ZAGWBk"
      },
      "outputs": [],
      "source": [
        "FULL_FINETUNING = True\n",
        "if FULL_FINETUNING:\n",
        "    param_optimizer = list(model.named_parameters())\n",
        "    no_decay = ['bias', 'gamma', 'beta']\n",
        "    optimizer_grouped_parameters = [\n",
        "        {'params': [p for n, p in param_optimizer if not any(nd in n for nd in no_decay)],\n",
        "         'weight_decay_rate': 0.01},\n",
        "        {'params': [p for n, p in param_optimizer if any(nd in n for nd in no_decay)],\n",
        "         'weight_decay_rate': 0.0}\n",
        "    ]\n",
        "else:\n",
        "    param_optimizer = list(model.classifier.named_parameters())\n",
        "    optimizer_grouped_parameters = [{\"params\": [p for n, p in param_optimizer]}]\n",
        "\n",
        "optimizer = AdamW(\n",
        "    optimizer_grouped_parameters,\n",
        "    lr=3e-5,\n",
        "    eps=1e-8\n",
        ")\n"
      ]
    },
    {
      "cell_type": "markdown",
      "metadata": {
        "id": "o107IXiT7e6F"
      },
      "source": [
        "## Setting up the scheduler\n",
        "It will manage Optimizer and Learning Rate changes. We use warmup"
      ]
    },
    {
      "cell_type": "code",
      "execution_count": null,
      "metadata": {
        "id": "j_XaydBy7iac"
      },
      "outputs": [],
      "source": [
        "epochs = 15\n",
        "max_grad_norm = 1.0\n",
        "\n",
        "# Total number of training steps is number of batches * number of epochs.\n",
        "total_steps = len(train_dataloader) * epochs\n",
        "\n",
        "# Create the learning rate scheduler.\n",
        "scheduler = get_linear_schedule_with_warmup(\n",
        "    optimizer,\n",
        "    num_warmup_steps=0,\n",
        "    num_training_steps=total_steps\n",
        ")\n"
      ]
    },
    {
      "cell_type": "markdown",
      "metadata": {
        "id": "iYMOIBG0Jkx1"
      },
      "source": [
        "Now, let's train"
      ]
    },
    {
      "cell_type": "code",
      "execution_count": null,
      "metadata": {
        "colab": {
          "base_uri": "https://localhost:8080/"
        },
        "id": "XC7Fro7bGWI5",
        "outputId": "771f9a78-e24a-48e8-fbfc-4633fb5997ca"
      },
      "outputs": [
        {
          "name": "stderr",
          "output_type": "stream",
          "text": [
            "Epoch:   0%|          | 0/15 [00:00<?, ?it/s]/usr/local/lib/python3.8/dist-packages/sklearn/metrics/_classification.py:1318: UndefinedMetricWarning: Precision and F-score are ill-defined and being set to 0.0 in labels with no predicted samples. Use `zero_division` parameter to control this behavior.\n",
            "  _warn_prf(average, modifier, msg_start, len(result))\n",
            "/usr/local/lib/python3.8/dist-packages/sklearn/metrics/_classification.py:1318: UndefinedMetricWarning: Precision and F-score are ill-defined and being set to 0.0 in labels with no predicted samples. Use `zero_division` parameter to control this behavior.\n",
            "  _warn_prf(average, modifier, msg_start, len(result))\n",
            "/usr/local/lib/python3.8/dist-packages/sklearn/metrics/_classification.py:1318: UndefinedMetricWarning: Precision and F-score are ill-defined and being set to 0.0 in labels with no predicted samples. Use `zero_division` parameter to control this behavior.\n",
            "  _warn_prf(average, modifier, msg_start, len(result))\n",
            "Epoch:   7%|▋         | 1/15 [03:05<43:22, 185.89s/it]"
          ]
        },
        {
          "name": "stdout",
          "output_type": "stream",
          "text": [
            "Average train loss: 0.8051821073489402\n",
            "\n",
            "Validation loss: 0.5784538872539997\n",
            "\n",
            "              precision    recall  f1-score   support\n",
            "\n",
            "      B-DATE       0.66      0.64      0.65       275\n",
            "       B-DOC       0.81      0.33      0.47       356\n",
            "   B-EFFDATE       0.00      0.00      0.00         8\n",
            "       B-LAW       0.66      0.39      0.49       187\n",
            "       B-LOC       0.00      0.00      0.00        46\n",
            "   B-ORDINAL       0.00      0.00      0.00        21\n",
            "     B-PARTY       0.63      0.41      0.50      1219\n",
            "   B-PERCENT       0.00      0.00      0.00        26\n",
            "    B-PERSON       0.00      0.00      0.00         6\n",
            "      B-ROLE       1.00      0.14      0.24        44\n",
            "       I-DOC       0.66      0.40      0.50       512\n",
            "   I-EFFDATE       0.00      0.00      0.00        19\n",
            "     I-PARTY       0.84      0.75      0.79      3139\n",
            "           O       0.85      0.96      0.90     11581\n",
            "\n",
            "    accuracy                           0.83     17439\n",
            "   macro avg       0.44      0.29      0.32     17439\n",
            "weighted avg       0.82      0.83      0.82     17439\n",
            "\n"
          ]
        },
        {
          "name": "stderr",
          "output_type": "stream",
          "text": [
            "/usr/local/lib/python3.8/dist-packages/sklearn/metrics/_classification.py:1318: UndefinedMetricWarning: Precision and F-score are ill-defined and being set to 0.0 in labels with no predicted samples. Use `zero_division` parameter to control this behavior.\n",
            "  _warn_prf(average, modifier, msg_start, len(result))\n",
            "/usr/local/lib/python3.8/dist-packages/sklearn/metrics/_classification.py:1318: UndefinedMetricWarning: Precision and F-score are ill-defined and being set to 0.0 in labels with no predicted samples. Use `zero_division` parameter to control this behavior.\n",
            "  _warn_prf(average, modifier, msg_start, len(result))\n",
            "/usr/local/lib/python3.8/dist-packages/sklearn/metrics/_classification.py:1318: UndefinedMetricWarning: Precision and F-score are ill-defined and being set to 0.0 in labels with no predicted samples. Use `zero_division` parameter to control this behavior.\n",
            "  _warn_prf(average, modifier, msg_start, len(result))\n",
            "\rEpoch:  13%|█▎        | 2/15 [06:14<40:40, 187.72s/it]"
          ]
        },
        {
          "name": "stdout",
          "output_type": "stream",
          "text": [
            "Average train loss: 0.5140464875235486\n",
            "\n",
            "Validation loss: 0.49340613558888435\n",
            "\n",
            "              precision    recall  f1-score   support\n",
            "\n",
            "      B-DATE       0.59      0.75      0.66       275\n",
            "       B-DOC       0.79      0.43      0.56       356\n",
            "   B-EFFDATE       0.00      0.00      0.00         8\n",
            "       B-LAW       0.61      0.53      0.57       187\n",
            "       B-LOC       1.00      0.02      0.04        46\n",
            "   B-ORDINAL       1.00      0.29      0.44        21\n",
            "     B-PARTY       0.70      0.43      0.53      1219\n",
            "   B-PERCENT       0.92      0.46      0.62        26\n",
            "    B-PERSON       0.00      0.00      0.00         6\n",
            "      B-ROLE       0.90      0.41      0.56        44\n",
            "       I-DOC       0.73      0.48      0.58       512\n",
            "   I-EFFDATE       0.00      0.00      0.00        19\n",
            "     I-PARTY       0.83      0.77      0.80      3139\n",
            "           O       0.87      0.95      0.91     11581\n",
            "\n",
            "    accuracy                           0.84     17439\n",
            "   macro avg       0.64      0.39      0.45     17439\n",
            "weighted avg       0.84      0.84      0.83     17439\n",
            "\n"
          ]
        },
        {
          "name": "stderr",
          "output_type": "stream",
          "text": [
            "/usr/local/lib/python3.8/dist-packages/sklearn/metrics/_classification.py:1318: UndefinedMetricWarning: Precision and F-score are ill-defined and being set to 0.0 in labels with no predicted samples. Use `zero_division` parameter to control this behavior.\n",
            "  _warn_prf(average, modifier, msg_start, len(result))\n",
            "/usr/local/lib/python3.8/dist-packages/sklearn/metrics/_classification.py:1318: UndefinedMetricWarning: Precision and F-score are ill-defined and being set to 0.0 in labels with no predicted samples. Use `zero_division` parameter to control this behavior.\n",
            "  _warn_prf(average, modifier, msg_start, len(result))\n",
            "/usr/local/lib/python3.8/dist-packages/sklearn/metrics/_classification.py:1318: UndefinedMetricWarning: Precision and F-score are ill-defined and being set to 0.0 in labels with no predicted samples. Use `zero_division` parameter to control this behavior.\n",
            "  _warn_prf(average, modifier, msg_start, len(result))\n",
            "\rEpoch:  20%|██        | 3/15 [09:24<37:40, 188.37s/it]"
          ]
        },
        {
          "name": "stdout",
          "output_type": "stream",
          "text": [
            "Average train loss: 0.42840198683204933\n",
            "\n",
            "Validation loss: 0.46881517705818015\n",
            "\n",
            "              precision    recall  f1-score   support\n",
            "\n",
            "      B-DATE       0.63      0.77      0.69       275\n",
            "       B-DOC       0.73      0.49      0.58       356\n",
            "   B-EFFDATE       0.00      0.00      0.00         8\n",
            "       B-LAW       0.69      0.53      0.60       187\n",
            "       B-LOC       0.50      0.04      0.08        46\n",
            "   B-ORDINAL       1.00      0.43      0.60        21\n",
            "     B-PARTY       0.70      0.46      0.56      1219\n",
            "   B-PERCENT       0.72      0.69      0.71        26\n",
            "    B-PERSON       0.00      0.00      0.00         6\n",
            "      B-ROLE       0.97      0.73      0.83        44\n",
            "       I-DOC       0.74      0.55      0.63       512\n",
            "   I-EFFDATE       0.00      0.00      0.00        19\n",
            "     I-PARTY       0.84      0.78      0.81      3139\n",
            "           O       0.88      0.95      0.91     11581\n",
            "\n",
            "    accuracy                           0.85     17439\n",
            "   macro avg       0.60      0.46      0.50     17439\n",
            "weighted avg       0.84      0.85      0.84     17439\n",
            "\n"
          ]
        },
        {
          "name": "stderr",
          "output_type": "stream",
          "text": [
            "/usr/local/lib/python3.8/dist-packages/sklearn/metrics/_classification.py:1318: UndefinedMetricWarning: Precision and F-score are ill-defined and being set to 0.0 in labels with no predicted samples. Use `zero_division` parameter to control this behavior.\n",
            "  _warn_prf(average, modifier, msg_start, len(result))\n",
            "/usr/local/lib/python3.8/dist-packages/sklearn/metrics/_classification.py:1318: UndefinedMetricWarning: Precision and F-score are ill-defined and being set to 0.0 in labels with no predicted samples. Use `zero_division` parameter to control this behavior.\n",
            "  _warn_prf(average, modifier, msg_start, len(result))\n",
            "/usr/local/lib/python3.8/dist-packages/sklearn/metrics/_classification.py:1318: UndefinedMetricWarning: Precision and F-score are ill-defined and being set to 0.0 in labels with no predicted samples. Use `zero_division` parameter to control this behavior.\n",
            "  _warn_prf(average, modifier, msg_start, len(result))\n",
            "\rEpoch:  27%|██▋       | 4/15 [12:32<34:33, 188.53s/it]"
          ]
        },
        {
          "name": "stdout",
          "output_type": "stream",
          "text": [
            "Average train loss: 0.37674027269900734\n",
            "\n",
            "Validation loss: 0.4438314704845349\n",
            "\n",
            "              precision    recall  f1-score   support\n",
            "\n",
            "      B-DATE       0.74      0.75      0.75       275\n",
            "       B-DOC       0.77      0.50      0.60       356\n",
            "   B-EFFDATE       1.00      0.25      0.40         8\n",
            "       B-LAW       0.62      0.64      0.63       187\n",
            "       B-LOC       0.45      0.11      0.18        46\n",
            "   B-ORDINAL       1.00      0.52      0.69        21\n",
            "     B-PARTY       0.66      0.53      0.59      1219\n",
            "   B-PERCENT       0.75      0.69      0.72        26\n",
            "    B-PERSON       0.00      0.00      0.00         6\n",
            "      B-ROLE       0.94      0.75      0.84        44\n",
            "       I-DOC       0.75      0.61      0.67       512\n",
            "   I-EFFDATE       0.00      0.00      0.00        19\n",
            "     I-PARTY       0.82      0.78      0.80      3139\n",
            "           O       0.89      0.94      0.91     11581\n",
            "\n",
            "    accuracy                           0.85     17439\n",
            "   macro avg       0.67      0.51      0.56     17439\n",
            "weighted avg       0.85      0.85      0.85     17439\n",
            "\n"
          ]
        },
        {
          "name": "stderr",
          "output_type": "stream",
          "text": [
            "/usr/local/lib/python3.8/dist-packages/sklearn/metrics/_classification.py:1318: UndefinedMetricWarning: Precision and F-score are ill-defined and being set to 0.0 in labels with no predicted samples. Use `zero_division` parameter to control this behavior.\n",
            "  _warn_prf(average, modifier, msg_start, len(result))\n",
            "/usr/local/lib/python3.8/dist-packages/sklearn/metrics/_classification.py:1318: UndefinedMetricWarning: Precision and F-score are ill-defined and being set to 0.0 in labels with no predicted samples. Use `zero_division` parameter to control this behavior.\n",
            "  _warn_prf(average, modifier, msg_start, len(result))\n",
            "/usr/local/lib/python3.8/dist-packages/sklearn/metrics/_classification.py:1318: UndefinedMetricWarning: Precision and F-score are ill-defined and being set to 0.0 in labels with no predicted samples. Use `zero_division` parameter to control this behavior.\n",
            "  _warn_prf(average, modifier, msg_start, len(result))\n",
            "\rEpoch:  33%|███▎      | 5/15 [15:41<31:25, 188.60s/it]"
          ]
        },
        {
          "name": "stdout",
          "output_type": "stream",
          "text": [
            "Average train loss: 0.35289629015015134\n",
            "\n",
            "Validation loss: 0.4591724102695783\n",
            "\n",
            "              precision    recall  f1-score   support\n",
            "\n",
            "      B-DATE       0.73      0.77      0.75       275\n",
            "       B-DOC       0.81      0.52      0.63       356\n",
            "   B-EFFDATE       1.00      0.50      0.67         8\n",
            "       B-LAW       0.62      0.64      0.63       187\n",
            "       B-LOC       0.39      0.20      0.26        46\n",
            "   B-ORDINAL       1.00      0.52      0.69        21\n",
            "     B-PARTY       0.63      0.56      0.59      1219\n",
            "   B-PERCENT       0.77      0.65      0.71        26\n",
            "    B-PERSON       0.00      0.00      0.00         6\n",
            "      B-ROLE       1.00      0.80      0.89        44\n",
            "       I-DOC       0.76      0.58      0.65       512\n",
            "   I-EFFDATE       0.00      0.00      0.00        19\n",
            "     I-PARTY       0.78      0.80      0.79      3139\n",
            "           O       0.90      0.92      0.91     11581\n",
            "\n",
            "    accuracy                           0.85     17439\n",
            "   macro avg       0.67      0.53      0.58     17439\n",
            "weighted avg       0.84      0.85      0.84     17439\n",
            "\n"
          ]
        },
        {
          "name": "stderr",
          "output_type": "stream",
          "text": [
            "/usr/local/lib/python3.8/dist-packages/sklearn/metrics/_classification.py:1318: UndefinedMetricWarning: Precision and F-score are ill-defined and being set to 0.0 in labels with no predicted samples. Use `zero_division` parameter to control this behavior.\n",
            "  _warn_prf(average, modifier, msg_start, len(result))\n",
            "/usr/local/lib/python3.8/dist-packages/sklearn/metrics/_classification.py:1318: UndefinedMetricWarning: Precision and F-score are ill-defined and being set to 0.0 in labels with no predicted samples. Use `zero_division` parameter to control this behavior.\n",
            "  _warn_prf(average, modifier, msg_start, len(result))\n",
            "/usr/local/lib/python3.8/dist-packages/sklearn/metrics/_classification.py:1318: UndefinedMetricWarning: Precision and F-score are ill-defined and being set to 0.0 in labels with no predicted samples. Use `zero_division` parameter to control this behavior.\n",
            "  _warn_prf(average, modifier, msg_start, len(result))\n",
            "\rEpoch:  40%|████      | 6/15 [18:50<28:18, 188.70s/it]"
          ]
        },
        {
          "name": "stdout",
          "output_type": "stream",
          "text": [
            "Average train loss: 0.3252535241642105\n",
            "\n",
            "Validation loss: 0.43623003115256626\n",
            "\n",
            "              precision    recall  f1-score   support\n",
            "\n",
            "      B-DATE       0.72      0.77      0.74       275\n",
            "       B-DOC       0.77      0.56      0.65       356\n",
            "   B-EFFDATE       1.00      0.62      0.77         8\n",
            "       B-LAW       0.65      0.65      0.65       187\n",
            "       B-LOC       0.32      0.28      0.30        46\n",
            "   B-ORDINAL       1.00      0.52      0.69        21\n",
            "     B-PARTY       0.72      0.51      0.60      1219\n",
            "   B-PERCENT       0.77      0.65      0.71        26\n",
            "    B-PERSON       0.00      0.00      0.00         6\n",
            "      B-ROLE       1.00      0.80      0.89        44\n",
            "       I-DOC       0.80      0.62      0.70       512\n",
            "   I-EFFDATE       0.00      0.00      0.00        19\n",
            "     I-PARTY       0.90      0.77      0.83      3139\n",
            "           O       0.88      0.96      0.92     11581\n",
            "\n",
            "    accuracy                           0.87     17439\n",
            "   macro avg       0.68      0.55      0.60     17439\n",
            "weighted avg       0.86      0.87      0.86     17439\n",
            "\n"
          ]
        },
        {
          "name": "stderr",
          "output_type": "stream",
          "text": [
            "/usr/local/lib/python3.8/dist-packages/sklearn/metrics/_classification.py:1318: UndefinedMetricWarning: Precision and F-score are ill-defined and being set to 0.0 in labels with no predicted samples. Use `zero_division` parameter to control this behavior.\n",
            "  _warn_prf(average, modifier, msg_start, len(result))\n",
            "/usr/local/lib/python3.8/dist-packages/sklearn/metrics/_classification.py:1318: UndefinedMetricWarning: Precision and F-score are ill-defined and being set to 0.0 in labels with no predicted samples. Use `zero_division` parameter to control this behavior.\n",
            "  _warn_prf(average, modifier, msg_start, len(result))\n",
            "/usr/local/lib/python3.8/dist-packages/sklearn/metrics/_classification.py:1318: UndefinedMetricWarning: Precision and F-score are ill-defined and being set to 0.0 in labels with no predicted samples. Use `zero_division` parameter to control this behavior.\n",
            "  _warn_prf(average, modifier, msg_start, len(result))\n",
            "\rEpoch:  47%|████▋     | 7/15 [21:59<25:10, 188.82s/it]"
          ]
        },
        {
          "name": "stdout",
          "output_type": "stream",
          "text": [
            "Average train loss: 0.3041251828310205\n",
            "\n",
            "Validation loss: 0.4424445399393638\n",
            "\n",
            "              precision    recall  f1-score   support\n",
            "\n",
            "      B-DATE       0.64      0.82      0.72       275\n",
            "       B-DOC       0.79      0.56      0.66       356\n",
            "   B-EFFDATE       1.00      0.50      0.67         8\n",
            "       B-LAW       0.64      0.66      0.65       187\n",
            "       B-LOC       0.34      0.28      0.31        46\n",
            "   B-ORDINAL       1.00      0.52      0.69        21\n",
            "     B-PARTY       0.70      0.54      0.61      1219\n",
            "   B-PERCENT       0.77      0.65      0.71        26\n",
            "    B-PERSON       0.00      0.00      0.00         6\n",
            "      B-ROLE       0.97      0.82      0.89        44\n",
            "       I-DOC       0.78      0.62      0.69       512\n",
            "   I-EFFDATE       1.00      0.21      0.35        19\n",
            "     I-PARTY       0.88      0.78      0.83      3139\n",
            "           O       0.89      0.95      0.92     11581\n",
            "\n",
            "    accuracy                           0.87     17439\n",
            "   macro avg       0.74      0.57      0.62     17439\n",
            "weighted avg       0.86      0.87      0.86     17439\n",
            "\n"
          ]
        },
        {
          "name": "stderr",
          "output_type": "stream",
          "text": [
            "/usr/local/lib/python3.8/dist-packages/sklearn/metrics/_classification.py:1318: UndefinedMetricWarning: Precision and F-score are ill-defined and being set to 0.0 in labels with no predicted samples. Use `zero_division` parameter to control this behavior.\n",
            "  _warn_prf(average, modifier, msg_start, len(result))\n",
            "/usr/local/lib/python3.8/dist-packages/sklearn/metrics/_classification.py:1318: UndefinedMetricWarning: Precision and F-score are ill-defined and being set to 0.0 in labels with no predicted samples. Use `zero_division` parameter to control this behavior.\n",
            "  _warn_prf(average, modifier, msg_start, len(result))\n",
            "/usr/local/lib/python3.8/dist-packages/sklearn/metrics/_classification.py:1318: UndefinedMetricWarning: Precision and F-score are ill-defined and being set to 0.0 in labels with no predicted samples. Use `zero_division` parameter to control this behavior.\n",
            "  _warn_prf(average, modifier, msg_start, len(result))\n",
            "\rEpoch:  53%|█████▎    | 8/15 [25:08<22:01, 188.77s/it]"
          ]
        },
        {
          "name": "stdout",
          "output_type": "stream",
          "text": [
            "Average train loss: 0.28523846142994824\n",
            "\n",
            "Validation loss: 0.452697000776728\n",
            "\n",
            "              precision    recall  f1-score   support\n",
            "\n",
            "      B-DATE       0.68      0.79      0.73       275\n",
            "       B-DOC       0.82      0.56      0.67       356\n",
            "   B-EFFDATE       1.00      0.62      0.77         8\n",
            "       B-LAW       0.69      0.66      0.67       187\n",
            "       B-LOC       0.35      0.26      0.30        46\n",
            "   B-ORDINAL       1.00      0.52      0.69        21\n",
            "     B-PARTY       0.68      0.55      0.61      1219\n",
            "   B-PERCENT       0.77      0.65      0.71        26\n",
            "    B-PERSON       0.00      0.00      0.00         6\n",
            "      B-ROLE       1.00      0.80      0.89        44\n",
            "       I-DOC       0.80      0.60      0.69       512\n",
            "   I-EFFDATE       1.00      0.16      0.27        19\n",
            "     I-PARTY       0.77      0.82      0.79      3139\n",
            "           O       0.90      0.92      0.91     11581\n",
            "\n",
            "    accuracy                           0.85     17439\n",
            "   macro avg       0.75      0.57      0.62     17439\n",
            "weighted avg       0.85      0.85      0.85     17439\n",
            "\n"
          ]
        },
        {
          "name": "stderr",
          "output_type": "stream",
          "text": [
            "/usr/local/lib/python3.8/dist-packages/sklearn/metrics/_classification.py:1318: UndefinedMetricWarning: Precision and F-score are ill-defined and being set to 0.0 in labels with no predicted samples. Use `zero_division` parameter to control this behavior.\n",
            "  _warn_prf(average, modifier, msg_start, len(result))\n",
            "/usr/local/lib/python3.8/dist-packages/sklearn/metrics/_classification.py:1318: UndefinedMetricWarning: Precision and F-score are ill-defined and being set to 0.0 in labels with no predicted samples. Use `zero_division` parameter to control this behavior.\n",
            "  _warn_prf(average, modifier, msg_start, len(result))\n",
            "/usr/local/lib/python3.8/dist-packages/sklearn/metrics/_classification.py:1318: UndefinedMetricWarning: Precision and F-score are ill-defined and being set to 0.0 in labels with no predicted samples. Use `zero_division` parameter to control this behavior.\n",
            "  _warn_prf(average, modifier, msg_start, len(result))\n",
            "\rEpoch:  60%|██████    | 9/15 [28:16<18:52, 188.78s/it]"
          ]
        },
        {
          "name": "stdout",
          "output_type": "stream",
          "text": [
            "Average train loss: 0.26900044328241207\n",
            "\n",
            "Validation loss: 0.4636924589673678\n",
            "\n",
            "              precision    recall  f1-score   support\n",
            "\n",
            "      B-DATE       0.72      0.78      0.75       275\n",
            "       B-DOC       0.79      0.56      0.66       356\n",
            "   B-EFFDATE       0.71      0.62      0.67         8\n",
            "       B-LAW       0.62      0.67      0.65       187\n",
            "       B-LOC       0.46      0.24      0.31        46\n",
            "   B-ORDINAL       0.92      0.52      0.67        21\n",
            "     B-PARTY       0.70      0.54      0.61      1219\n",
            "   B-PERCENT       0.71      0.65      0.68        26\n",
            "    B-PERSON       0.00      0.00      0.00         6\n",
            "      B-ROLE       1.00      0.80      0.89        44\n",
            "       I-DOC       0.79      0.62      0.70       512\n",
            "   I-EFFDATE       0.88      0.37      0.52        19\n",
            "     I-PARTY       0.83      0.80      0.81      3139\n",
            "           O       0.89      0.94      0.92     11581\n",
            "\n",
            "    accuracy                           0.86     17439\n",
            "   macro avg       0.72      0.58      0.63     17439\n",
            "weighted avg       0.86      0.86      0.86     17439\n",
            "\n"
          ]
        },
        {
          "name": "stderr",
          "output_type": "stream",
          "text": [
            "/usr/local/lib/python3.8/dist-packages/sklearn/metrics/_classification.py:1318: UndefinedMetricWarning: Precision and F-score are ill-defined and being set to 0.0 in labels with no predicted samples. Use `zero_division` parameter to control this behavior.\n",
            "  _warn_prf(average, modifier, msg_start, len(result))\n",
            "/usr/local/lib/python3.8/dist-packages/sklearn/metrics/_classification.py:1318: UndefinedMetricWarning: Precision and F-score are ill-defined and being set to 0.0 in labels with no predicted samples. Use `zero_division` parameter to control this behavior.\n",
            "  _warn_prf(average, modifier, msg_start, len(result))\n",
            "/usr/local/lib/python3.8/dist-packages/sklearn/metrics/_classification.py:1318: UndefinedMetricWarning: Precision and F-score are ill-defined and being set to 0.0 in labels with no predicted samples. Use `zero_division` parameter to control this behavior.\n",
            "  _warn_prf(average, modifier, msg_start, len(result))\n",
            "\rEpoch:  67%|██████▋   | 10/15 [31:25<15:43, 188.76s/it]"
          ]
        },
        {
          "name": "stdout",
          "output_type": "stream",
          "text": [
            "Average train loss: 0.2588984980734427\n",
            "\n",
            "Validation loss: 0.4543944566200177\n",
            "\n",
            "              precision    recall  f1-score   support\n",
            "\n",
            "      B-DATE       0.73      0.76      0.74       275\n",
            "       B-DOC       0.81      0.58      0.68       356\n",
            "   B-EFFDATE       1.00      0.62      0.77         8\n",
            "       B-LAW       0.64      0.66      0.65       187\n",
            "       B-LOC       0.47      0.30      0.37        46\n",
            "   B-ORDINAL       0.92      0.52      0.67        21\n",
            "     B-PARTY       0.71      0.55      0.62      1219\n",
            "   B-PERCENT       0.74      0.65      0.69        26\n",
            "    B-PERSON       0.00      0.00      0.00         6\n",
            "      B-ROLE       1.00      0.80      0.89        44\n",
            "       I-DOC       0.81      0.63      0.71       512\n",
            "   I-EFFDATE       1.00      0.37      0.54        19\n",
            "     I-PARTY       0.87      0.78      0.82      3139\n",
            "           O       0.89      0.96      0.92     11581\n",
            "\n",
            "    accuracy                           0.87     17439\n",
            "   macro avg       0.76      0.58      0.65     17439\n",
            "weighted avg       0.86      0.87      0.86     17439\n",
            "\n"
          ]
        },
        {
          "name": "stderr",
          "output_type": "stream",
          "text": [
            "/usr/local/lib/python3.8/dist-packages/sklearn/metrics/_classification.py:1318: UndefinedMetricWarning: Precision and F-score are ill-defined and being set to 0.0 in labels with no predicted samples. Use `zero_division` parameter to control this behavior.\n",
            "  _warn_prf(average, modifier, msg_start, len(result))\n",
            "/usr/local/lib/python3.8/dist-packages/sklearn/metrics/_classification.py:1318: UndefinedMetricWarning: Precision and F-score are ill-defined and being set to 0.0 in labels with no predicted samples. Use `zero_division` parameter to control this behavior.\n",
            "  _warn_prf(average, modifier, msg_start, len(result))\n",
            "/usr/local/lib/python3.8/dist-packages/sklearn/metrics/_classification.py:1318: UndefinedMetricWarning: Precision and F-score are ill-defined and being set to 0.0 in labels with no predicted samples. Use `zero_division` parameter to control this behavior.\n",
            "  _warn_prf(average, modifier, msg_start, len(result))\n",
            "\rEpoch:  73%|███████▎  | 11/15 [34:34<12:35, 188.85s/it]"
          ]
        },
        {
          "name": "stdout",
          "output_type": "stream",
          "text": [
            "Average train loss: 0.25048426527585554\n",
            "\n",
            "Validation loss: 0.4810361700753371\n",
            "\n",
            "              precision    recall  f1-score   support\n",
            "\n",
            "      B-DATE       0.67      0.81      0.74       275\n",
            "       B-DOC       0.84      0.57      0.68       356\n",
            "   B-EFFDATE       0.83      0.62      0.71         8\n",
            "       B-LAW       0.66      0.66      0.66       187\n",
            "       B-LOC       0.45      0.28      0.35        46\n",
            "   B-ORDINAL       0.92      0.52      0.67        21\n",
            "     B-PARTY       0.71      0.56      0.62      1219\n",
            "   B-PERCENT       0.74      0.65      0.69        26\n",
            "    B-PERSON       0.00      0.00      0.00         6\n",
            "      B-ROLE       1.00      0.84      0.91        44\n",
            "       I-DOC       0.83      0.59      0.69       512\n",
            "   I-EFFDATE       1.00      0.05      0.10        19\n",
            "     I-PARTY       0.81      0.80      0.81      3139\n",
            "           O       0.90      0.94      0.92     11581\n",
            "\n",
            "    accuracy                           0.86     17439\n",
            "   macro avg       0.74      0.56      0.61     17439\n",
            "weighted avg       0.86      0.86      0.86     17439\n",
            "\n"
          ]
        },
        {
          "name": "stderr",
          "output_type": "stream",
          "text": [
            "/usr/local/lib/python3.8/dist-packages/sklearn/metrics/_classification.py:1318: UndefinedMetricWarning: Precision and F-score are ill-defined and being set to 0.0 in labels with no predicted samples. Use `zero_division` parameter to control this behavior.\n",
            "  _warn_prf(average, modifier, msg_start, len(result))\n",
            "/usr/local/lib/python3.8/dist-packages/sklearn/metrics/_classification.py:1318: UndefinedMetricWarning: Precision and F-score are ill-defined and being set to 0.0 in labels with no predicted samples. Use `zero_division` parameter to control this behavior.\n",
            "  _warn_prf(average, modifier, msg_start, len(result))\n",
            "/usr/local/lib/python3.8/dist-packages/sklearn/metrics/_classification.py:1318: UndefinedMetricWarning: Precision and F-score are ill-defined and being set to 0.0 in labels with no predicted samples. Use `zero_division` parameter to control this behavior.\n",
            "  _warn_prf(average, modifier, msg_start, len(result))\n",
            "\rEpoch:  80%|████████  | 12/15 [37:43<09:26, 188.87s/it]"
          ]
        },
        {
          "name": "stdout",
          "output_type": "stream",
          "text": [
            "Average train loss: 0.24285436477234115\n",
            "\n",
            "Validation loss: 0.48704534644881886\n",
            "\n",
            "              precision    recall  f1-score   support\n",
            "\n",
            "      B-DATE       0.71      0.77      0.74       275\n",
            "       B-DOC       0.80      0.58      0.67       356\n",
            "   B-EFFDATE       1.00      0.62      0.77         8\n",
            "       B-LAW       0.69      0.64      0.67       187\n",
            "       B-LOC       0.45      0.33      0.38        46\n",
            "   B-ORDINAL       0.92      0.52      0.67        21\n",
            "     B-PARTY       0.71      0.55      0.62      1219\n",
            "   B-PERCENT       0.63      0.65      0.64        26\n",
            "    B-PERSON       0.00      0.00      0.00         6\n",
            "      B-ROLE       1.00      0.82      0.90        44\n",
            "       I-DOC       0.80      0.61      0.69       512\n",
            "   I-EFFDATE       1.00      0.32      0.48        19\n",
            "     I-PARTY       0.78      0.82      0.80      3139\n",
            "           O       0.90      0.93      0.92     11581\n",
            "\n",
            "    accuracy                           0.86     17439\n",
            "   macro avg       0.74      0.58      0.64     17439\n",
            "weighted avg       0.86      0.86      0.86     17439\n",
            "\n"
          ]
        },
        {
          "name": "stderr",
          "output_type": "stream",
          "text": [
            "/usr/local/lib/python3.8/dist-packages/sklearn/metrics/_classification.py:1318: UndefinedMetricWarning: Precision and F-score are ill-defined and being set to 0.0 in labels with no predicted samples. Use `zero_division` parameter to control this behavior.\n",
            "  _warn_prf(average, modifier, msg_start, len(result))\n",
            "/usr/local/lib/python3.8/dist-packages/sklearn/metrics/_classification.py:1318: UndefinedMetricWarning: Precision and F-score are ill-defined and being set to 0.0 in labels with no predicted samples. Use `zero_division` parameter to control this behavior.\n",
            "  _warn_prf(average, modifier, msg_start, len(result))\n",
            "/usr/local/lib/python3.8/dist-packages/sklearn/metrics/_classification.py:1318: UndefinedMetricWarning: Precision and F-score are ill-defined and being set to 0.0 in labels with no predicted samples. Use `zero_division` parameter to control this behavior.\n",
            "  _warn_prf(average, modifier, msg_start, len(result))\n",
            "\rEpoch:  87%|████████▋ | 13/15 [40:52<06:17, 188.82s/it]"
          ]
        },
        {
          "name": "stdout",
          "output_type": "stream",
          "text": [
            "Average train loss: 0.23669564457082037\n",
            "\n",
            "Validation loss: 0.47740485953787964\n",
            "\n",
            "              precision    recall  f1-score   support\n",
            "\n",
            "      B-DATE       0.69      0.80      0.74       275\n",
            "       B-DOC       0.79      0.60      0.68       356\n",
            "   B-EFFDATE       1.00      0.62      0.77         8\n",
            "       B-LAW       0.66      0.66      0.66       187\n",
            "       B-LOC       0.42      0.30      0.35        46\n",
            "   B-ORDINAL       0.92      0.52      0.67        21\n",
            "     B-PARTY       0.71      0.55      0.62      1219\n",
            "   B-PERCENT       0.63      0.65      0.64        26\n",
            "    B-PERSON       0.00      0.00      0.00         6\n",
            "      B-ROLE       1.00      0.84      0.91        44\n",
            "       I-DOC       0.78      0.65      0.71       512\n",
            "   I-EFFDATE       1.00      0.21      0.35        19\n",
            "     I-PARTY       0.82      0.80      0.81      3139\n",
            "           O       0.90      0.94      0.92     11581\n",
            "\n",
            "    accuracy                           0.86     17439\n",
            "   macro avg       0.74      0.58      0.63     17439\n",
            "weighted avg       0.86      0.86      0.86     17439\n",
            "\n"
          ]
        },
        {
          "name": "stderr",
          "output_type": "stream",
          "text": [
            "/usr/local/lib/python3.8/dist-packages/sklearn/metrics/_classification.py:1318: UndefinedMetricWarning: Precision and F-score are ill-defined and being set to 0.0 in labels with no predicted samples. Use `zero_division` parameter to control this behavior.\n",
            "  _warn_prf(average, modifier, msg_start, len(result))\n",
            "/usr/local/lib/python3.8/dist-packages/sklearn/metrics/_classification.py:1318: UndefinedMetricWarning: Precision and F-score are ill-defined and being set to 0.0 in labels with no predicted samples. Use `zero_division` parameter to control this behavior.\n",
            "  _warn_prf(average, modifier, msg_start, len(result))\n",
            "/usr/local/lib/python3.8/dist-packages/sklearn/metrics/_classification.py:1318: UndefinedMetricWarning: Precision and F-score are ill-defined and being set to 0.0 in labels with no predicted samples. Use `zero_division` parameter to control this behavior.\n",
            "  _warn_prf(average, modifier, msg_start, len(result))\n",
            "\rEpoch:  93%|█████████▎| 14/15 [44:01<03:08, 188.78s/it]"
          ]
        },
        {
          "name": "stdout",
          "output_type": "stream",
          "text": [
            "Average train loss: 0.23165874761431965\n",
            "\n",
            "Validation loss: 0.4857822445531686\n",
            "\n",
            "              precision    recall  f1-score   support\n",
            "\n",
            "      B-DATE       0.72      0.81      0.76       275\n",
            "       B-DOC       0.83      0.58      0.68       356\n",
            "   B-EFFDATE       1.00      0.62      0.77         8\n",
            "       B-LAW       0.66      0.67      0.66       187\n",
            "       B-LOC       0.42      0.30      0.35        46\n",
            "   B-ORDINAL       0.92      0.52      0.67        21\n",
            "     B-PARTY       0.71      0.56      0.62      1219\n",
            "   B-PERCENT       0.65      0.65      0.65        26\n",
            "    B-PERSON       0.00      0.00      0.00         6\n",
            "      B-ROLE       1.00      0.82      0.90        44\n",
            "       I-DOC       0.80      0.63      0.71       512\n",
            "   I-EFFDATE       1.00      0.16      0.27        19\n",
            "     I-PARTY       0.83      0.80      0.82      3139\n",
            "           O       0.90      0.95      0.92     11581\n",
            "\n",
            "    accuracy                           0.87     17439\n",
            "   macro avg       0.75      0.58      0.63     17439\n",
            "weighted avg       0.86      0.87      0.86     17439\n",
            "\n"
          ]
        },
        {
          "name": "stderr",
          "output_type": "stream",
          "text": [
            "/usr/local/lib/python3.8/dist-packages/sklearn/metrics/_classification.py:1318: UndefinedMetricWarning: Precision and F-score are ill-defined and being set to 0.0 in labels with no predicted samples. Use `zero_division` parameter to control this behavior.\n",
            "  _warn_prf(average, modifier, msg_start, len(result))\n",
            "/usr/local/lib/python3.8/dist-packages/sklearn/metrics/_classification.py:1318: UndefinedMetricWarning: Precision and F-score are ill-defined and being set to 0.0 in labels with no predicted samples. Use `zero_division` parameter to control this behavior.\n",
            "  _warn_prf(average, modifier, msg_start, len(result))\n",
            "/usr/local/lib/python3.8/dist-packages/sklearn/metrics/_classification.py:1318: UndefinedMetricWarning: Precision and F-score are ill-defined and being set to 0.0 in labels with no predicted samples. Use `zero_division` parameter to control this behavior.\n",
            "  _warn_prf(average, modifier, msg_start, len(result))\n",
            "Epoch: 100%|██████████| 15/15 [47:09<00:00, 188.66s/it]"
          ]
        },
        {
          "name": "stdout",
          "output_type": "stream",
          "text": [
            "Average train loss: 0.23067494748688455\n",
            "\n",
            "Validation loss: 0.48736114737888175\n",
            "\n",
            "              precision    recall  f1-score   support\n",
            "\n",
            "      B-DATE       0.70      0.81      0.75       275\n",
            "       B-DOC       0.81      0.59      0.68       356\n",
            "   B-EFFDATE       1.00      0.62      0.77         8\n",
            "       B-LAW       0.66      0.65      0.65       187\n",
            "       B-LOC       0.44      0.33      0.38        46\n",
            "   B-ORDINAL       0.92      0.52      0.67        21\n",
            "     B-PARTY       0.71      0.55      0.62      1219\n",
            "   B-PERCENT       0.61      0.65      0.63        26\n",
            "    B-PERSON       0.00      0.00      0.00         6\n",
            "      B-ROLE       1.00      0.84      0.91        44\n",
            "       I-DOC       0.80      0.63      0.71       512\n",
            "   I-EFFDATE       1.00      0.16      0.27        19\n",
            "     I-PARTY       0.81      0.80      0.81      3139\n",
            "           O       0.90      0.94      0.92     11581\n",
            "\n",
            "    accuracy                           0.86     17439\n",
            "   macro avg       0.74      0.58      0.63     17439\n",
            "weighted avg       0.86      0.86      0.86     17439\n",
            "\n"
          ]
        },
        {
          "name": "stderr",
          "output_type": "stream",
          "text": [
            "\n"
          ]
        }
      ],
      "source": [
        "## Store the average loss after each epoch so we can plot them.\n",
        "loss_values, validation_loss_values = [], []\n",
        "\n",
        "for EPOCH in trange(epochs, desc=\"Epoch\"):\n",
        "    # Put the model into training mode.\n",
        "    model.train()\n",
        "    # Reset the total loss for this epoch.\n",
        "    total_loss = 0\n",
        "\n",
        "    # Training loop\n",
        "    for step, batch in enumerate(train_dataloader):\n",
        "        # add batch to gpu\n",
        "        batch = tuple(t.to(device) for t in batch)\n",
        "        b_input_ids, b_input_mask, b_labels = batch\n",
        "        # Always clear any previously calculated gradients before performing a backward pass.\n",
        "        model.zero_grad()\n",
        "        # forward pass\n",
        "        # This will return the loss (rather than the model output)\n",
        "        # because we have provided the `labels`.\n",
        "        outputs = model(b_input_ids, token_type_ids=None,\n",
        "                        attention_mask=b_input_mask, labels=b_labels)\n",
        "        # get the loss\n",
        "        loss = outputs[0]\n",
        "        # Perform a backward pass to calculate the gradients.\n",
        "        loss.backward()\n",
        "        # track train loss\n",
        "        total_loss += loss.item()\n",
        "        # Clip the norm of the gradient\n",
        "        # This is to help prevent the \"exploding gradients\" problem.\n",
        "        torch.nn.utils.clip_grad_norm_(parameters=model.parameters(), max_norm=max_grad_norm)\n",
        "        # update parameters\n",
        "        optimizer.step()\n",
        "        # Update the learning rate.\n",
        "        scheduler.step()\n",
        "\n",
        "    # Calculate the average loss over the training data.\n",
        "    avg_train_loss = total_loss / len(train_dataloader)\n",
        "    tr_loss = f\"Average train loss: {str(avg_train_loss)}\\n\"\n",
        "\n",
        "    # Saving partial models (this creates the folder too)\n",
        "    if step > epochs - 5:\n",
        "\n",
        "      tokenizer.save_pretrained(f'{PROJECT_NAME}/{str(EPOCH)}/tokenizer/')\n",
        "      model.save_pretrained(save_directory=f'{PROJECT_NAME}/{str(EPOCH)}/',\n",
        "                            save_config=True, state_dict=model.state_dict)\n",
        "      # Saving checkpoint in case it crashes, to restore work\n",
        "      torch.save({\n",
        "          'epoch': EPOCH,\n",
        "          'model_state_dict': model.state_dict(),\n",
        "          'optimizer_state_dict': optimizer.state_dict(),\n",
        "          'loss': avg_train_loss,\n",
        "          }, f'{PROJECT_NAME}/{str(EPOCH)}/checkpoint.pth')\n",
        "    else:\n",
        "      print(\"Skipping saving the model. Too early\")\n",
        "\n",
        "    # Store the loss value for plotting the learning curve.\n",
        "    loss_values.append(avg_train_loss)\n",
        "\n",
        "    # Put the model into evaluation mode\n",
        "    model.eval()\n",
        "    # Reset the validation loss for this epoch.\n",
        "    eval_loss, eval_accuracy = 0, 0\n",
        "    nb_eval_steps, nb_eval_examples = 0, 0\n",
        "    predictions , true_labels = [], []\n",
        "    for batch in valid_dataloader:\n",
        "        batch = tuple(t.to(device) for t in batch)\n",
        "        b_input_ids, b_input_mask, b_labels = batch\n",
        "\n",
        "        # Telling the model not to compute or store gradients,\n",
        "        # saving memory and speeding up validation\n",
        "        with torch.no_grad():\n",
        "            # Forward pass, calculate logit predictions.\n",
        "            # This will return the logits rather than the loss because we have not provided labels.\n",
        "            outputs = model(b_input_ids, token_type_ids=None,\n",
        "                            attention_mask=b_input_mask, labels=b_labels)\n",
        "        # Move logits and labels to CPU\n",
        "        logits = outputs[1].detach().cpu().numpy()\n",
        "        label_ids = b_labels.to('cpu').numpy()\n",
        "\n",
        "        # Calculate the accuracy for this batch of test sentences.\n",
        "        eval_loss += outputs[0].mean().item()\n",
        "        predictions.extend([list(p) for p in np.argmax(logits, axis=2)])\n",
        "        true_labels.extend(label_ids)\n",
        "\n",
        "    eval_loss = eval_loss / len(valid_dataloader)\n",
        "    validation_loss_values.append(eval_loss)\n",
        "\n",
        "    val_loss = f\"Validation loss: {str(eval_loss)}\\n\"\n",
        "    \n",
        "    # Saving losses log\n",
        "    with open(f'{PROJECT_NAME}/logs/epoch_' + str(EPOCH) + '_loss.log', 'a') as f:\n",
        "      f.write(tr_loss)\n",
        "      f.write(val_loss)\n",
        "\n",
        "    # Calculating metrics\n",
        "    pred_tags = [tag_values[p_i] for p, l in zip(predictions, true_labels)\n",
        "                                 for p_i, l_i in zip(p, l) if tag_values[l_i] != \"PAD\"]\n",
        "    valid_tags = [tag_values[l_i] for l in true_labels\n",
        "                                  for l_i in l if tag_values[l_i] != \"PAD\"]\n",
        "    \n",
        "    report = classification_report(valid_tags, pred_tags)\n",
        "    \n",
        "    # Saving metrics\n",
        "    with open(f'{PROJECT_NAME}/logs/epoch_' + str(EPOCH) + '_metrics.log', 'a') as f:\n",
        "      f.write(report)\n",
        "\n",
        "    # Printing also to stdout\n",
        "    print(tr_loss)\n",
        "    print(val_loss)\n",
        "    print(report)\n"
      ]
    }
  ],
  "metadata": {
    "accelerator": "GPU",
    "colab": {
      "provenance": []
    },
    "gpuClass": "standard",
    "kernelspec": {
      "display_name": "Python 3",
      "name": "python3"
    },
    "language_info": {
      "name": "python"
    },
    "widgets": {
      "application/vnd.jupyter.widget-state+json": {
        "06e6e9c7c9034270bd46471ae8a90b25": {
          "model_module": "@jupyter-widgets/controls",
          "model_module_version": "1.5.0",
          "model_name": "DescriptionStyleModel",
          "state": {
            "_model_module": "@jupyter-widgets/controls",
            "_model_module_version": "1.5.0",
            "_model_name": "DescriptionStyleModel",
            "_view_count": null,
            "_view_module": "@jupyter-widgets/base",
            "_view_module_version": "1.2.0",
            "_view_name": "StyleView",
            "description_width": ""
          }
        },
        "0e03d207743c4202864e1f5263432f96": {
          "model_module": "@jupyter-widgets/controls",
          "model_module_version": "1.5.0",
          "model_name": "HBoxModel",
          "state": {
            "_dom_classes": [],
            "_model_module": "@jupyter-widgets/controls",
            "_model_module_version": "1.5.0",
            "_model_name": "HBoxModel",
            "_view_count": null,
            "_view_module": "@jupyter-widgets/controls",
            "_view_module_version": "1.5.0",
            "_view_name": "HBoxView",
            "box_style": "",
            "children": [
              "IPY_MODEL_0f5f08c8ac5f4388b05532599a16aea8",
              "IPY_MODEL_49fabfd337d349368f646030f2312405",
              "IPY_MODEL_d7143e7a139b4cf0b292c2aca06a080a"
            ],
            "layout": "IPY_MODEL_254fbfdde6444455ba4736c1d1ff97cc"
          }
        },
        "0f5f08c8ac5f4388b05532599a16aea8": {
          "model_module": "@jupyter-widgets/controls",
          "model_module_version": "1.5.0",
          "model_name": "HTMLModel",
          "state": {
            "_dom_classes": [],
            "_model_module": "@jupyter-widgets/controls",
            "_model_module_version": "1.5.0",
            "_model_name": "HTMLModel",
            "_view_count": null,
            "_view_module": "@jupyter-widgets/controls",
            "_view_module_version": "1.5.0",
            "_view_name": "HTMLView",
            "description": "",
            "description_tooltip": null,
            "layout": "IPY_MODEL_cf9386c97d8942beaf1a843f854ef65b",
            "placeholder": "​",
            "style": "IPY_MODEL_9374cc3eb4bb40b8a24e57135cc6c0fb",
            "value": "Downloading: 100%"
          }
        },
        "12319a3ee3fc4c33b3eacea45d962589": {
          "model_module": "@jupyter-widgets/controls",
          "model_module_version": "1.5.0",
          "model_name": "HBoxModel",
          "state": {
            "_dom_classes": [],
            "_model_module": "@jupyter-widgets/controls",
            "_model_module_version": "1.5.0",
            "_model_name": "HBoxModel",
            "_view_count": null,
            "_view_module": "@jupyter-widgets/controls",
            "_view_module_version": "1.5.0",
            "_view_name": "HBoxView",
            "box_style": "",
            "children": [
              "IPY_MODEL_b40f9bfae2af4d35b8d64cc779315192",
              "IPY_MODEL_306949deb71641f3b0c8d3418c8f2d93",
              "IPY_MODEL_64f5e2a1ea644f588102397503a7a55f"
            ],
            "layout": "IPY_MODEL_7b2511c9aace471f9c88530957c1d6ca"
          }
        },
        "16cab295afd04b7c8a851072d421d0bb": {
          "model_module": "@jupyter-widgets/base",
          "model_module_version": "1.2.0",
          "model_name": "LayoutModel",
          "state": {
            "_model_module": "@jupyter-widgets/base",
            "_model_module_version": "1.2.0",
            "_model_name": "LayoutModel",
            "_view_count": null,
            "_view_module": "@jupyter-widgets/base",
            "_view_module_version": "1.2.0",
            "_view_name": "LayoutView",
            "align_content": null,
            "align_items": null,
            "align_self": null,
            "border": null,
            "bottom": null,
            "display": null,
            "flex": null,
            "flex_flow": null,
            "grid_area": null,
            "grid_auto_columns": null,
            "grid_auto_flow": null,
            "grid_auto_rows": null,
            "grid_column": null,
            "grid_gap": null,
            "grid_row": null,
            "grid_template_areas": null,
            "grid_template_columns": null,
            "grid_template_rows": null,
            "height": null,
            "justify_content": null,
            "justify_items": null,
            "left": null,
            "margin": null,
            "max_height": null,
            "max_width": null,
            "min_height": null,
            "min_width": null,
            "object_fit": null,
            "object_position": null,
            "order": null,
            "overflow": null,
            "overflow_x": null,
            "overflow_y": null,
            "padding": null,
            "right": null,
            "top": null,
            "visibility": null,
            "width": null
          }
        },
        "1bea35c843cf40f8b84919a8e9ead9de": {
          "model_module": "@jupyter-widgets/controls",
          "model_module_version": "1.5.0",
          "model_name": "ProgressStyleModel",
          "state": {
            "_model_module": "@jupyter-widgets/controls",
            "_model_module_version": "1.5.0",
            "_model_name": "ProgressStyleModel",
            "_view_count": null,
            "_view_module": "@jupyter-widgets/base",
            "_view_module_version": "1.2.0",
            "_view_name": "StyleView",
            "bar_color": null,
            "description_width": ""
          }
        },
        "1e6137e0c9f34fdcb7980bf908c00297": {
          "model_module": "@jupyter-widgets/base",
          "model_module_version": "1.2.0",
          "model_name": "LayoutModel",
          "state": {
            "_model_module": "@jupyter-widgets/base",
            "_model_module_version": "1.2.0",
            "_model_name": "LayoutModel",
            "_view_count": null,
            "_view_module": "@jupyter-widgets/base",
            "_view_module_version": "1.2.0",
            "_view_name": "LayoutView",
            "align_content": null,
            "align_items": null,
            "align_self": null,
            "border": null,
            "bottom": null,
            "display": null,
            "flex": null,
            "flex_flow": null,
            "grid_area": null,
            "grid_auto_columns": null,
            "grid_auto_flow": null,
            "grid_auto_rows": null,
            "grid_column": null,
            "grid_gap": null,
            "grid_row": null,
            "grid_template_areas": null,
            "grid_template_columns": null,
            "grid_template_rows": null,
            "height": null,
            "justify_content": null,
            "justify_items": null,
            "left": null,
            "margin": null,
            "max_height": null,
            "max_width": null,
            "min_height": null,
            "min_width": null,
            "object_fit": null,
            "object_position": null,
            "order": null,
            "overflow": null,
            "overflow_x": null,
            "overflow_y": null,
            "padding": null,
            "right": null,
            "top": null,
            "visibility": null,
            "width": null
          }
        },
        "254fbfdde6444455ba4736c1d1ff97cc": {
          "model_module": "@jupyter-widgets/base",
          "model_module_version": "1.2.0",
          "model_name": "LayoutModel",
          "state": {
            "_model_module": "@jupyter-widgets/base",
            "_model_module_version": "1.2.0",
            "_model_name": "LayoutModel",
            "_view_count": null,
            "_view_module": "@jupyter-widgets/base",
            "_view_module_version": "1.2.0",
            "_view_name": "LayoutView",
            "align_content": null,
            "align_items": null,
            "align_self": null,
            "border": null,
            "bottom": null,
            "display": null,
            "flex": null,
            "flex_flow": null,
            "grid_area": null,
            "grid_auto_columns": null,
            "grid_auto_flow": null,
            "grid_auto_rows": null,
            "grid_column": null,
            "grid_gap": null,
            "grid_row": null,
            "grid_template_areas": null,
            "grid_template_columns": null,
            "grid_template_rows": null,
            "height": null,
            "justify_content": null,
            "justify_items": null,
            "left": null,
            "margin": null,
            "max_height": null,
            "max_width": null,
            "min_height": null,
            "min_width": null,
            "object_fit": null,
            "object_position": null,
            "order": null,
            "overflow": null,
            "overflow_x": null,
            "overflow_y": null,
            "padding": null,
            "right": null,
            "top": null,
            "visibility": null,
            "width": null
          }
        },
        "291138f9b0d8418d8d2388fb20dd202e": {
          "model_module": "@jupyter-widgets/controls",
          "model_module_version": "1.5.0",
          "model_name": "DescriptionStyleModel",
          "state": {
            "_model_module": "@jupyter-widgets/controls",
            "_model_module_version": "1.5.0",
            "_model_name": "DescriptionStyleModel",
            "_view_count": null,
            "_view_module": "@jupyter-widgets/base",
            "_view_module_version": "1.2.0",
            "_view_name": "StyleView",
            "description_width": ""
          }
        },
        "2fc919cd714e4aac84a9264d49f4f6eb": {
          "model_module": "@jupyter-widgets/base",
          "model_module_version": "1.2.0",
          "model_name": "LayoutModel",
          "state": {
            "_model_module": "@jupyter-widgets/base",
            "_model_module_version": "1.2.0",
            "_model_name": "LayoutModel",
            "_view_count": null,
            "_view_module": "@jupyter-widgets/base",
            "_view_module_version": "1.2.0",
            "_view_name": "LayoutView",
            "align_content": null,
            "align_items": null,
            "align_self": null,
            "border": null,
            "bottom": null,
            "display": null,
            "flex": null,
            "flex_flow": null,
            "grid_area": null,
            "grid_auto_columns": null,
            "grid_auto_flow": null,
            "grid_auto_rows": null,
            "grid_column": null,
            "grid_gap": null,
            "grid_row": null,
            "grid_template_areas": null,
            "grid_template_columns": null,
            "grid_template_rows": null,
            "height": null,
            "justify_content": null,
            "justify_items": null,
            "left": null,
            "margin": null,
            "max_height": null,
            "max_width": null,
            "min_height": null,
            "min_width": null,
            "object_fit": null,
            "object_position": null,
            "order": null,
            "overflow": null,
            "overflow_x": null,
            "overflow_y": null,
            "padding": null,
            "right": null,
            "top": null,
            "visibility": null,
            "width": null
          }
        },
        "306949deb71641f3b0c8d3418c8f2d93": {
          "model_module": "@jupyter-widgets/controls",
          "model_module_version": "1.5.0",
          "model_name": "FloatProgressModel",
          "state": {
            "_dom_classes": [],
            "_model_module": "@jupyter-widgets/controls",
            "_model_module_version": "1.5.0",
            "_model_name": "FloatProgressModel",
            "_view_count": null,
            "_view_module": "@jupyter-widgets/controls",
            "_view_module_version": "1.5.0",
            "_view_name": "ProgressView",
            "bar_style": "success",
            "description": "",
            "description_tooltip": null,
            "layout": "IPY_MODEL_be29189178f34c49852aaf2f5c1f57fb",
            "max": 307,
            "min": 0,
            "orientation": "horizontal",
            "style": "IPY_MODEL_57d10f5f349447c99e781a5a1eeb41a7",
            "value": 307
          }
        },
        "32533379a5ec4ed9a7085c6a048c880e": {
          "model_module": "@jupyter-widgets/controls",
          "model_module_version": "1.5.0",
          "model_name": "FloatProgressModel",
          "state": {
            "_dom_classes": [],
            "_model_module": "@jupyter-widgets/controls",
            "_model_module_version": "1.5.0",
            "_model_name": "FloatProgressModel",
            "_view_count": null,
            "_view_module": "@jupyter-widgets/controls",
            "_view_module_version": "1.5.0",
            "_view_name": "ProgressView",
            "bar_style": "success",
            "description": "",
            "description_tooltip": null,
            "layout": "IPY_MODEL_85d393f8870c424baaa6d786b3111550",
            "max": 251156,
            "min": 0,
            "orientation": "horizontal",
            "style": "IPY_MODEL_1bea35c843cf40f8b84919a8e9ead9de",
            "value": 251156
          }
        },
        "38f5cb6843bb4c2a98d8d17cc90fd5cc": {
          "model_module": "@jupyter-widgets/base",
          "model_module_version": "1.2.0",
          "model_name": "LayoutModel",
          "state": {
            "_model_module": "@jupyter-widgets/base",
            "_model_module_version": "1.2.0",
            "_model_name": "LayoutModel",
            "_view_count": null,
            "_view_module": "@jupyter-widgets/base",
            "_view_module_version": "1.2.0",
            "_view_name": "LayoutView",
            "align_content": null,
            "align_items": null,
            "align_self": null,
            "border": null,
            "bottom": null,
            "display": null,
            "flex": null,
            "flex_flow": null,
            "grid_area": null,
            "grid_auto_columns": null,
            "grid_auto_flow": null,
            "grid_auto_rows": null,
            "grid_column": null,
            "grid_gap": null,
            "grid_row": null,
            "grid_template_areas": null,
            "grid_template_columns": null,
            "grid_template_rows": null,
            "height": null,
            "justify_content": null,
            "justify_items": null,
            "left": null,
            "margin": null,
            "max_height": null,
            "max_width": null,
            "min_height": null,
            "min_width": null,
            "object_fit": null,
            "object_position": null,
            "order": null,
            "overflow": null,
            "overflow_x": null,
            "overflow_y": null,
            "padding": null,
            "right": null,
            "top": null,
            "visibility": null,
            "width": null
          }
        },
        "392299bc531e40cfb166776d451a4ca5": {
          "model_module": "@jupyter-widgets/controls",
          "model_module_version": "1.5.0",
          "model_name": "DescriptionStyleModel",
          "state": {
            "_model_module": "@jupyter-widgets/controls",
            "_model_module_version": "1.5.0",
            "_model_name": "DescriptionStyleModel",
            "_view_count": null,
            "_view_module": "@jupyter-widgets/base",
            "_view_module_version": "1.2.0",
            "_view_name": "StyleView",
            "description_width": ""
          }
        },
        "41acc7154be04a44ab593d04f91d6005": {
          "model_module": "@jupyter-widgets/controls",
          "model_module_version": "1.5.0",
          "model_name": "DescriptionStyleModel",
          "state": {
            "_model_module": "@jupyter-widgets/controls",
            "_model_module_version": "1.5.0",
            "_model_name": "DescriptionStyleModel",
            "_view_count": null,
            "_view_module": "@jupyter-widgets/base",
            "_view_module_version": "1.2.0",
            "_view_name": "StyleView",
            "description_width": ""
          }
        },
        "4740e1f0e68f4f63aea8298e1f2e9bea": {
          "model_module": "@jupyter-widgets/controls",
          "model_module_version": "1.5.0",
          "model_name": "HTMLModel",
          "state": {
            "_dom_classes": [],
            "_model_module": "@jupyter-widgets/controls",
            "_model_module_version": "1.5.0",
            "_model_name": "HTMLModel",
            "_view_count": null,
            "_view_module": "@jupyter-widgets/controls",
            "_view_module_version": "1.5.0",
            "_view_name": "HTMLView",
            "description": "",
            "description_tooltip": null,
            "layout": "IPY_MODEL_ef87174cf4844e95a4d532a0ee52da8d",
            "placeholder": "​",
            "style": "IPY_MODEL_06e6e9c7c9034270bd46471ae8a90b25",
            "value": "Downloading: 100%"
          }
        },
        "48953b11a62743408c6302d4fb72bcbd": {
          "model_module": "@jupyter-widgets/base",
          "model_module_version": "1.2.0",
          "model_name": "LayoutModel",
          "state": {
            "_model_module": "@jupyter-widgets/base",
            "_model_module_version": "1.2.0",
            "_model_name": "LayoutModel",
            "_view_count": null,
            "_view_module": "@jupyter-widgets/base",
            "_view_module_version": "1.2.0",
            "_view_name": "LayoutView",
            "align_content": null,
            "align_items": null,
            "align_self": null,
            "border": null,
            "bottom": null,
            "display": null,
            "flex": null,
            "flex_flow": null,
            "grid_area": null,
            "grid_auto_columns": null,
            "grid_auto_flow": null,
            "grid_auto_rows": null,
            "grid_column": null,
            "grid_gap": null,
            "grid_row": null,
            "grid_template_areas": null,
            "grid_template_columns": null,
            "grid_template_rows": null,
            "height": null,
            "justify_content": null,
            "justify_items": null,
            "left": null,
            "margin": null,
            "max_height": null,
            "max_width": null,
            "min_height": null,
            "min_width": null,
            "object_fit": null,
            "object_position": null,
            "order": null,
            "overflow": null,
            "overflow_x": null,
            "overflow_y": null,
            "padding": null,
            "right": null,
            "top": null,
            "visibility": null,
            "width": null
          }
        },
        "49fabfd337d349368f646030f2312405": {
          "model_module": "@jupyter-widgets/controls",
          "model_module_version": "1.5.0",
          "model_name": "FloatProgressModel",
          "state": {
            "_dom_classes": [],
            "_model_module": "@jupyter-widgets/controls",
            "_model_module_version": "1.5.0",
            "_model_name": "FloatProgressModel",
            "_view_count": null,
            "_view_module": "@jupyter-widgets/controls",
            "_view_module_version": "1.5.0",
            "_view_name": "ProgressView",
            "bar_style": "success",
            "description": "",
            "description_tooltip": null,
            "layout": "IPY_MODEL_38f5cb6843bb4c2a98d8d17cc90fd5cc",
            "max": 747,
            "min": 0,
            "orientation": "horizontal",
            "style": "IPY_MODEL_de3ddc2a2aa74ffda4ab74a62b535dec",
            "value": 747
          }
        },
        "55459a66a61345c2a5beed14553ee1f4": {
          "model_module": "@jupyter-widgets/controls",
          "model_module_version": "1.5.0",
          "model_name": "HTMLModel",
          "state": {
            "_dom_classes": [],
            "_model_module": "@jupyter-widgets/controls",
            "_model_module_version": "1.5.0",
            "_model_name": "HTMLModel",
            "_view_count": null,
            "_view_module": "@jupyter-widgets/controls",
            "_view_module_version": "1.5.0",
            "_view_name": "HTMLView",
            "description": "",
            "description_tooltip": null,
            "layout": "IPY_MODEL_1e6137e0c9f34fdcb7980bf908c00297",
            "placeholder": "​",
            "style": "IPY_MODEL_65afa4aaab3c42149a7e411604fbb893",
            "value": " 445M/445M [00:27&lt;00:00, 15.5MB/s]"
          }
        },
        "57d10f5f349447c99e781a5a1eeb41a7": {
          "model_module": "@jupyter-widgets/controls",
          "model_module_version": "1.5.0",
          "model_name": "ProgressStyleModel",
          "state": {
            "_model_module": "@jupyter-widgets/controls",
            "_model_module_version": "1.5.0",
            "_model_name": "ProgressStyleModel",
            "_view_count": null,
            "_view_module": "@jupyter-widgets/base",
            "_view_module_version": "1.2.0",
            "_view_name": "StyleView",
            "bar_color": null,
            "description_width": ""
          }
        },
        "5a1c65fc453b4e288ae31ffbd4f189db": {
          "model_module": "@jupyter-widgets/base",
          "model_module_version": "1.2.0",
          "model_name": "LayoutModel",
          "state": {
            "_model_module": "@jupyter-widgets/base",
            "_model_module_version": "1.2.0",
            "_model_name": "LayoutModel",
            "_view_count": null,
            "_view_module": "@jupyter-widgets/base",
            "_view_module_version": "1.2.0",
            "_view_name": "LayoutView",
            "align_content": null,
            "align_items": null,
            "align_self": null,
            "border": null,
            "bottom": null,
            "display": null,
            "flex": null,
            "flex_flow": null,
            "grid_area": null,
            "grid_auto_columns": null,
            "grid_auto_flow": null,
            "grid_auto_rows": null,
            "grid_column": null,
            "grid_gap": null,
            "grid_row": null,
            "grid_template_areas": null,
            "grid_template_columns": null,
            "grid_template_rows": null,
            "height": null,
            "justify_content": null,
            "justify_items": null,
            "left": null,
            "margin": null,
            "max_height": null,
            "max_width": null,
            "min_height": null,
            "min_width": null,
            "object_fit": null,
            "object_position": null,
            "order": null,
            "overflow": null,
            "overflow_x": null,
            "overflow_y": null,
            "padding": null,
            "right": null,
            "top": null,
            "visibility": null,
            "width": null
          }
        },
        "5c9862efa6be4ead99f63d91735bed00": {
          "model_module": "@jupyter-widgets/base",
          "model_module_version": "1.2.0",
          "model_name": "LayoutModel",
          "state": {
            "_model_module": "@jupyter-widgets/base",
            "_model_module_version": "1.2.0",
            "_model_name": "LayoutModel",
            "_view_count": null,
            "_view_module": "@jupyter-widgets/base",
            "_view_module_version": "1.2.0",
            "_view_name": "LayoutView",
            "align_content": null,
            "align_items": null,
            "align_self": null,
            "border": null,
            "bottom": null,
            "display": null,
            "flex": null,
            "flex_flow": null,
            "grid_area": null,
            "grid_auto_columns": null,
            "grid_auto_flow": null,
            "grid_auto_rows": null,
            "grid_column": null,
            "grid_gap": null,
            "grid_row": null,
            "grid_template_areas": null,
            "grid_template_columns": null,
            "grid_template_rows": null,
            "height": null,
            "justify_content": null,
            "justify_items": null,
            "left": null,
            "margin": null,
            "max_height": null,
            "max_width": null,
            "min_height": null,
            "min_width": null,
            "object_fit": null,
            "object_position": null,
            "order": null,
            "overflow": null,
            "overflow_x": null,
            "overflow_y": null,
            "padding": null,
            "right": null,
            "top": null,
            "visibility": null,
            "width": null
          }
        },
        "614f4d3c6d224db1a140f9b294930a04": {
          "model_module": "@jupyter-widgets/controls",
          "model_module_version": "1.5.0",
          "model_name": "HTMLModel",
          "state": {
            "_dom_classes": [],
            "_model_module": "@jupyter-widgets/controls",
            "_model_module_version": "1.5.0",
            "_model_name": "HTMLModel",
            "_view_count": null,
            "_view_module": "@jupyter-widgets/controls",
            "_view_module_version": "1.5.0",
            "_view_name": "HTMLView",
            "description": "",
            "description_tooltip": null,
            "layout": "IPY_MODEL_5a1c65fc453b4e288ae31ffbd4f189db",
            "placeholder": "​",
            "style": "IPY_MODEL_c6830a5951cd47938d2591143b7b50d0",
            "value": " 251k/251k [00:00&lt;00:00, 310kB/s]"
          }
        },
        "6155d6cc0c924372a7b46f0c087d6ce7": {
          "model_module": "@jupyter-widgets/base",
          "model_module_version": "1.2.0",
          "model_name": "LayoutModel",
          "state": {
            "_model_module": "@jupyter-widgets/base",
            "_model_module_version": "1.2.0",
            "_model_name": "LayoutModel",
            "_view_count": null,
            "_view_module": "@jupyter-widgets/base",
            "_view_module_version": "1.2.0",
            "_view_name": "LayoutView",
            "align_content": null,
            "align_items": null,
            "align_self": null,
            "border": null,
            "bottom": null,
            "display": null,
            "flex": null,
            "flex_flow": null,
            "grid_area": null,
            "grid_auto_columns": null,
            "grid_auto_flow": null,
            "grid_auto_rows": null,
            "grid_column": null,
            "grid_gap": null,
            "grid_row": null,
            "grid_template_areas": null,
            "grid_template_columns": null,
            "grid_template_rows": null,
            "height": null,
            "justify_content": null,
            "justify_items": null,
            "left": null,
            "margin": null,
            "max_height": null,
            "max_width": null,
            "min_height": null,
            "min_width": null,
            "object_fit": null,
            "object_position": null,
            "order": null,
            "overflow": null,
            "overflow_x": null,
            "overflow_y": null,
            "padding": null,
            "right": null,
            "top": null,
            "visibility": null,
            "width": null
          }
        },
        "61b6217d65a84a33bc636ee42d8120cb": {
          "model_module": "@jupyter-widgets/controls",
          "model_module_version": "1.5.0",
          "model_name": "DescriptionStyleModel",
          "state": {
            "_model_module": "@jupyter-widgets/controls",
            "_model_module_version": "1.5.0",
            "_model_name": "DescriptionStyleModel",
            "_view_count": null,
            "_view_module": "@jupyter-widgets/base",
            "_view_module_version": "1.2.0",
            "_view_name": "StyleView",
            "description_width": ""
          }
        },
        "64f5e2a1ea644f588102397503a7a55f": {
          "model_module": "@jupyter-widgets/controls",
          "model_module_version": "1.5.0",
          "model_name": "HTMLModel",
          "state": {
            "_dom_classes": [],
            "_model_module": "@jupyter-widgets/controls",
            "_model_module_version": "1.5.0",
            "_model_name": "HTMLModel",
            "_view_count": null,
            "_view_module": "@jupyter-widgets/controls",
            "_view_module_version": "1.5.0",
            "_view_name": "HTMLView",
            "description": "",
            "description_tooltip": null,
            "layout": "IPY_MODEL_6155d6cc0c924372a7b46f0c087d6ce7",
            "placeholder": "​",
            "style": "IPY_MODEL_392299bc531e40cfb166776d451a4ca5",
            "value": " 307/307 [00:00&lt;00:00, 16.4kB/s]"
          }
        },
        "65afa4aaab3c42149a7e411604fbb893": {
          "model_module": "@jupyter-widgets/controls",
          "model_module_version": "1.5.0",
          "model_name": "DescriptionStyleModel",
          "state": {
            "_model_module": "@jupyter-widgets/controls",
            "_model_module_version": "1.5.0",
            "_model_name": "DescriptionStyleModel",
            "_view_count": null,
            "_view_module": "@jupyter-widgets/base",
            "_view_module_version": "1.2.0",
            "_view_name": "StyleView",
            "description_width": ""
          }
        },
        "6a2ba7be01af47b6b702022ba639ff2b": {
          "model_module": "@jupyter-widgets/controls",
          "model_module_version": "1.5.0",
          "model_name": "ProgressStyleModel",
          "state": {
            "_model_module": "@jupyter-widgets/controls",
            "_model_module_version": "1.5.0",
            "_model_name": "ProgressStyleModel",
            "_view_count": null,
            "_view_module": "@jupyter-widgets/base",
            "_view_module_version": "1.2.0",
            "_view_name": "StyleView",
            "bar_color": null,
            "description_width": ""
          }
        },
        "7b2511c9aace471f9c88530957c1d6ca": {
          "model_module": "@jupyter-widgets/base",
          "model_module_version": "1.2.0",
          "model_name": "LayoutModel",
          "state": {
            "_model_module": "@jupyter-widgets/base",
            "_model_module_version": "1.2.0",
            "_model_name": "LayoutModel",
            "_view_count": null,
            "_view_module": "@jupyter-widgets/base",
            "_view_module_version": "1.2.0",
            "_view_name": "LayoutView",
            "align_content": null,
            "align_items": null,
            "align_self": null,
            "border": null,
            "bottom": null,
            "display": null,
            "flex": null,
            "flex_flow": null,
            "grid_area": null,
            "grid_auto_columns": null,
            "grid_auto_flow": null,
            "grid_auto_rows": null,
            "grid_column": null,
            "grid_gap": null,
            "grid_row": null,
            "grid_template_areas": null,
            "grid_template_columns": null,
            "grid_template_rows": null,
            "height": null,
            "justify_content": null,
            "justify_items": null,
            "left": null,
            "margin": null,
            "max_height": null,
            "max_width": null,
            "min_height": null,
            "min_width": null,
            "object_fit": null,
            "object_position": null,
            "order": null,
            "overflow": null,
            "overflow_x": null,
            "overflow_y": null,
            "padding": null,
            "right": null,
            "top": null,
            "visibility": null,
            "width": null
          }
        },
        "7b7a43579c3d4a64b6d8f98e7b894d60": {
          "model_module": "@jupyter-widgets/controls",
          "model_module_version": "1.5.0",
          "model_name": "HTMLModel",
          "state": {
            "_dom_classes": [],
            "_model_module": "@jupyter-widgets/controls",
            "_model_module_version": "1.5.0",
            "_model_name": "HTMLModel",
            "_view_count": null,
            "_view_module": "@jupyter-widgets/controls",
            "_view_module_version": "1.5.0",
            "_view_name": "HTMLView",
            "description": "",
            "description_tooltip": null,
            "layout": "IPY_MODEL_e016ef87dc4e4a1f8ffd3765c1746343",
            "placeholder": "​",
            "style": "IPY_MODEL_291138f9b0d8418d8d2388fb20dd202e",
            "value": " 112/112 [00:00&lt;00:00, 1.88kB/s]"
          }
        },
        "85d393f8870c424baaa6d786b3111550": {
          "model_module": "@jupyter-widgets/base",
          "model_module_version": "1.2.0",
          "model_name": "LayoutModel",
          "state": {
            "_model_module": "@jupyter-widgets/base",
            "_model_module_version": "1.2.0",
            "_model_name": "LayoutModel",
            "_view_count": null,
            "_view_module": "@jupyter-widgets/base",
            "_view_module_version": "1.2.0",
            "_view_name": "LayoutView",
            "align_content": null,
            "align_items": null,
            "align_self": null,
            "border": null,
            "bottom": null,
            "display": null,
            "flex": null,
            "flex_flow": null,
            "grid_area": null,
            "grid_auto_columns": null,
            "grid_auto_flow": null,
            "grid_auto_rows": null,
            "grid_column": null,
            "grid_gap": null,
            "grid_row": null,
            "grid_template_areas": null,
            "grid_template_columns": null,
            "grid_template_rows": null,
            "height": null,
            "justify_content": null,
            "justify_items": null,
            "left": null,
            "margin": null,
            "max_height": null,
            "max_width": null,
            "min_height": null,
            "min_width": null,
            "object_fit": null,
            "object_position": null,
            "order": null,
            "overflow": null,
            "overflow_x": null,
            "overflow_y": null,
            "padding": null,
            "right": null,
            "top": null,
            "visibility": null,
            "width": null
          }
        },
        "85febe5ee5664fb8908326abf80b92e9": {
          "model_module": "@jupyter-widgets/base",
          "model_module_version": "1.2.0",
          "model_name": "LayoutModel",
          "state": {
            "_model_module": "@jupyter-widgets/base",
            "_model_module_version": "1.2.0",
            "_model_name": "LayoutModel",
            "_view_count": null,
            "_view_module": "@jupyter-widgets/base",
            "_view_module_version": "1.2.0",
            "_view_name": "LayoutView",
            "align_content": null,
            "align_items": null,
            "align_self": null,
            "border": null,
            "bottom": null,
            "display": null,
            "flex": null,
            "flex_flow": null,
            "grid_area": null,
            "grid_auto_columns": null,
            "grid_auto_flow": null,
            "grid_auto_rows": null,
            "grid_column": null,
            "grid_gap": null,
            "grid_row": null,
            "grid_template_areas": null,
            "grid_template_columns": null,
            "grid_template_rows": null,
            "height": null,
            "justify_content": null,
            "justify_items": null,
            "left": null,
            "margin": null,
            "max_height": null,
            "max_width": null,
            "min_height": null,
            "min_width": null,
            "object_fit": null,
            "object_position": null,
            "order": null,
            "overflow": null,
            "overflow_x": null,
            "overflow_y": null,
            "padding": null,
            "right": null,
            "top": null,
            "visibility": null,
            "width": null
          }
        },
        "863144573a37408eb5416ce8f6af9c86": {
          "model_module": "@jupyter-widgets/controls",
          "model_module_version": "1.5.0",
          "model_name": "HBoxModel",
          "state": {
            "_dom_classes": [],
            "_model_module": "@jupyter-widgets/controls",
            "_model_module_version": "1.5.0",
            "_model_name": "HBoxModel",
            "_view_count": null,
            "_view_module": "@jupyter-widgets/controls",
            "_view_module_version": "1.5.0",
            "_view_name": "HBoxView",
            "box_style": "",
            "children": [
              "IPY_MODEL_b9de820c39cd480a896d2ce2e1a20645",
              "IPY_MODEL_32533379a5ec4ed9a7085c6a048c880e",
              "IPY_MODEL_614f4d3c6d224db1a140f9b294930a04"
            ],
            "layout": "IPY_MODEL_85febe5ee5664fb8908326abf80b92e9"
          }
        },
        "896fccb8587c4f0886754250e2268cb0": {
          "model_module": "@jupyter-widgets/controls",
          "model_module_version": "1.5.0",
          "model_name": "DescriptionStyleModel",
          "state": {
            "_model_module": "@jupyter-widgets/controls",
            "_model_module_version": "1.5.0",
            "_model_name": "DescriptionStyleModel",
            "_view_count": null,
            "_view_module": "@jupyter-widgets/base",
            "_view_module_version": "1.2.0",
            "_view_name": "StyleView",
            "description_width": ""
          }
        },
        "9020fec906f34f88a7355a315a299d3b": {
          "model_module": "@jupyter-widgets/controls",
          "model_module_version": "1.5.0",
          "model_name": "HBoxModel",
          "state": {
            "_dom_classes": [],
            "_model_module": "@jupyter-widgets/controls",
            "_model_module_version": "1.5.0",
            "_model_name": "HBoxModel",
            "_view_count": null,
            "_view_module": "@jupyter-widgets/controls",
            "_view_module_version": "1.5.0",
            "_view_name": "HBoxView",
            "box_style": "",
            "children": [
              "IPY_MODEL_b566083a8e65484baecd9b2c0278a19f",
              "IPY_MODEL_9b22f40648424cf7856800683506c836",
              "IPY_MODEL_7b7a43579c3d4a64b6d8f98e7b894d60"
            ],
            "layout": "IPY_MODEL_f63e6bb7d4044361b11a8b27d02bf057"
          }
        },
        "91ac6507e4e742dfabbcc0de157935ff": {
          "model_module": "@jupyter-widgets/controls",
          "model_module_version": "1.5.0",
          "model_name": "DescriptionStyleModel",
          "state": {
            "_model_module": "@jupyter-widgets/controls",
            "_model_module_version": "1.5.0",
            "_model_name": "DescriptionStyleModel",
            "_view_count": null,
            "_view_module": "@jupyter-widgets/base",
            "_view_module_version": "1.2.0",
            "_view_name": "StyleView",
            "description_width": ""
          }
        },
        "9374cc3eb4bb40b8a24e57135cc6c0fb": {
          "model_module": "@jupyter-widgets/controls",
          "model_module_version": "1.5.0",
          "model_name": "DescriptionStyleModel",
          "state": {
            "_model_module": "@jupyter-widgets/controls",
            "_model_module_version": "1.5.0",
            "_model_name": "DescriptionStyleModel",
            "_view_count": null,
            "_view_module": "@jupyter-widgets/base",
            "_view_module_version": "1.2.0",
            "_view_name": "StyleView",
            "description_width": ""
          }
        },
        "957026749d414c6ab65de4fdfc4aac3f": {
          "model_module": "@jupyter-widgets/base",
          "model_module_version": "1.2.0",
          "model_name": "LayoutModel",
          "state": {
            "_model_module": "@jupyter-widgets/base",
            "_model_module_version": "1.2.0",
            "_model_name": "LayoutModel",
            "_view_count": null,
            "_view_module": "@jupyter-widgets/base",
            "_view_module_version": "1.2.0",
            "_view_name": "LayoutView",
            "align_content": null,
            "align_items": null,
            "align_self": null,
            "border": null,
            "bottom": null,
            "display": null,
            "flex": null,
            "flex_flow": null,
            "grid_area": null,
            "grid_auto_columns": null,
            "grid_auto_flow": null,
            "grid_auto_rows": null,
            "grid_column": null,
            "grid_gap": null,
            "grid_row": null,
            "grid_template_areas": null,
            "grid_template_columns": null,
            "grid_template_rows": null,
            "height": null,
            "justify_content": null,
            "justify_items": null,
            "left": null,
            "margin": null,
            "max_height": null,
            "max_width": null,
            "min_height": null,
            "min_width": null,
            "object_fit": null,
            "object_position": null,
            "order": null,
            "overflow": null,
            "overflow_x": null,
            "overflow_y": null,
            "padding": null,
            "right": null,
            "top": null,
            "visibility": null,
            "width": null
          }
        },
        "9b22f40648424cf7856800683506c836": {
          "model_module": "@jupyter-widgets/controls",
          "model_module_version": "1.5.0",
          "model_name": "FloatProgressModel",
          "state": {
            "_dom_classes": [],
            "_model_module": "@jupyter-widgets/controls",
            "_model_module_version": "1.5.0",
            "_model_name": "FloatProgressModel",
            "_view_count": null,
            "_view_module": "@jupyter-widgets/controls",
            "_view_module_version": "1.5.0",
            "_view_name": "ProgressView",
            "bar_style": "success",
            "description": "",
            "description_tooltip": null,
            "layout": "IPY_MODEL_5c9862efa6be4ead99f63d91735bed00",
            "max": 112,
            "min": 0,
            "orientation": "horizontal",
            "style": "IPY_MODEL_6a2ba7be01af47b6b702022ba639ff2b",
            "value": 112
          }
        },
        "b40f9bfae2af4d35b8d64cc779315192": {
          "model_module": "@jupyter-widgets/controls",
          "model_module_version": "1.5.0",
          "model_name": "HTMLModel",
          "state": {
            "_dom_classes": [],
            "_model_module": "@jupyter-widgets/controls",
            "_model_module_version": "1.5.0",
            "_model_name": "HTMLModel",
            "_view_count": null,
            "_view_module": "@jupyter-widgets/controls",
            "_view_module_version": "1.5.0",
            "_view_name": "HTMLView",
            "description": "",
            "description_tooltip": null,
            "layout": "IPY_MODEL_cd6f9a4b1705453a877e28009850f8bd",
            "placeholder": "​",
            "style": "IPY_MODEL_91ac6507e4e742dfabbcc0de157935ff",
            "value": "Downloading: 100%"
          }
        },
        "b411aba703064746be08c78a7b8ea7b4": {
          "model_module": "@jupyter-widgets/controls",
          "model_module_version": "1.5.0",
          "model_name": "HBoxModel",
          "state": {
            "_dom_classes": [],
            "_model_module": "@jupyter-widgets/controls",
            "_model_module_version": "1.5.0",
            "_model_name": "HBoxModel",
            "_view_count": null,
            "_view_module": "@jupyter-widgets/controls",
            "_view_module_version": "1.5.0",
            "_view_name": "HBoxView",
            "box_style": "",
            "children": [
              "IPY_MODEL_4740e1f0e68f4f63aea8298e1f2e9bea",
              "IPY_MODEL_e893745e7a9d413a9e54a0649cea5305",
              "IPY_MODEL_55459a66a61345c2a5beed14553ee1f4"
            ],
            "layout": "IPY_MODEL_48953b11a62743408c6302d4fb72bcbd"
          }
        },
        "b566083a8e65484baecd9b2c0278a19f": {
          "model_module": "@jupyter-widgets/controls",
          "model_module_version": "1.5.0",
          "model_name": "HTMLModel",
          "state": {
            "_dom_classes": [],
            "_model_module": "@jupyter-widgets/controls",
            "_model_module_version": "1.5.0",
            "_model_name": "HTMLModel",
            "_view_count": null,
            "_view_module": "@jupyter-widgets/controls",
            "_view_module_version": "1.5.0",
            "_view_name": "HTMLView",
            "description": "",
            "description_tooltip": null,
            "layout": "IPY_MODEL_2fc919cd714e4aac84a9264d49f4f6eb",
            "placeholder": "​",
            "style": "IPY_MODEL_896fccb8587c4f0886754250e2268cb0",
            "value": "Downloading: 100%"
          }
        },
        "b762d400eb404a07af2583e039008e5a": {
          "model_module": "@jupyter-widgets/controls",
          "model_module_version": "1.5.0",
          "model_name": "ProgressStyleModel",
          "state": {
            "_model_module": "@jupyter-widgets/controls",
            "_model_module_version": "1.5.0",
            "_model_name": "ProgressStyleModel",
            "_view_count": null,
            "_view_module": "@jupyter-widgets/base",
            "_view_module_version": "1.2.0",
            "_view_name": "StyleView",
            "bar_color": null,
            "description_width": ""
          }
        },
        "b9de820c39cd480a896d2ce2e1a20645": {
          "model_module": "@jupyter-widgets/controls",
          "model_module_version": "1.5.0",
          "model_name": "HTMLModel",
          "state": {
            "_dom_classes": [],
            "_model_module": "@jupyter-widgets/controls",
            "_model_module_version": "1.5.0",
            "_model_name": "HTMLModel",
            "_view_count": null,
            "_view_module": "@jupyter-widgets/controls",
            "_view_module_version": "1.5.0",
            "_view_name": "HTMLView",
            "description": "",
            "description_tooltip": null,
            "layout": "IPY_MODEL_e9286c70975b4c9397481f7a675d7464",
            "placeholder": "​",
            "style": "IPY_MODEL_61b6217d65a84a33bc636ee42d8120cb",
            "value": "Downloading: 100%"
          }
        },
        "be29189178f34c49852aaf2f5c1f57fb": {
          "model_module": "@jupyter-widgets/base",
          "model_module_version": "1.2.0",
          "model_name": "LayoutModel",
          "state": {
            "_model_module": "@jupyter-widgets/base",
            "_model_module_version": "1.2.0",
            "_model_name": "LayoutModel",
            "_view_count": null,
            "_view_module": "@jupyter-widgets/base",
            "_view_module_version": "1.2.0",
            "_view_name": "LayoutView",
            "align_content": null,
            "align_items": null,
            "align_self": null,
            "border": null,
            "bottom": null,
            "display": null,
            "flex": null,
            "flex_flow": null,
            "grid_area": null,
            "grid_auto_columns": null,
            "grid_auto_flow": null,
            "grid_auto_rows": null,
            "grid_column": null,
            "grid_gap": null,
            "grid_row": null,
            "grid_template_areas": null,
            "grid_template_columns": null,
            "grid_template_rows": null,
            "height": null,
            "justify_content": null,
            "justify_items": null,
            "left": null,
            "margin": null,
            "max_height": null,
            "max_width": null,
            "min_height": null,
            "min_width": null,
            "object_fit": null,
            "object_position": null,
            "order": null,
            "overflow": null,
            "overflow_x": null,
            "overflow_y": null,
            "padding": null,
            "right": null,
            "top": null,
            "visibility": null,
            "width": null
          }
        },
        "c6830a5951cd47938d2591143b7b50d0": {
          "model_module": "@jupyter-widgets/controls",
          "model_module_version": "1.5.0",
          "model_name": "DescriptionStyleModel",
          "state": {
            "_model_module": "@jupyter-widgets/controls",
            "_model_module_version": "1.5.0",
            "_model_name": "DescriptionStyleModel",
            "_view_count": null,
            "_view_module": "@jupyter-widgets/base",
            "_view_module_version": "1.2.0",
            "_view_name": "StyleView",
            "description_width": ""
          }
        },
        "cd6f9a4b1705453a877e28009850f8bd": {
          "model_module": "@jupyter-widgets/base",
          "model_module_version": "1.2.0",
          "model_name": "LayoutModel",
          "state": {
            "_model_module": "@jupyter-widgets/base",
            "_model_module_version": "1.2.0",
            "_model_name": "LayoutModel",
            "_view_count": null,
            "_view_module": "@jupyter-widgets/base",
            "_view_module_version": "1.2.0",
            "_view_name": "LayoutView",
            "align_content": null,
            "align_items": null,
            "align_self": null,
            "border": null,
            "bottom": null,
            "display": null,
            "flex": null,
            "flex_flow": null,
            "grid_area": null,
            "grid_auto_columns": null,
            "grid_auto_flow": null,
            "grid_auto_rows": null,
            "grid_column": null,
            "grid_gap": null,
            "grid_row": null,
            "grid_template_areas": null,
            "grid_template_columns": null,
            "grid_template_rows": null,
            "height": null,
            "justify_content": null,
            "justify_items": null,
            "left": null,
            "margin": null,
            "max_height": null,
            "max_width": null,
            "min_height": null,
            "min_width": null,
            "object_fit": null,
            "object_position": null,
            "order": null,
            "overflow": null,
            "overflow_x": null,
            "overflow_y": null,
            "padding": null,
            "right": null,
            "top": null,
            "visibility": null,
            "width": null
          }
        },
        "cf9386c97d8942beaf1a843f854ef65b": {
          "model_module": "@jupyter-widgets/base",
          "model_module_version": "1.2.0",
          "model_name": "LayoutModel",
          "state": {
            "_model_module": "@jupyter-widgets/base",
            "_model_module_version": "1.2.0",
            "_model_name": "LayoutModel",
            "_view_count": null,
            "_view_module": "@jupyter-widgets/base",
            "_view_module_version": "1.2.0",
            "_view_name": "LayoutView",
            "align_content": null,
            "align_items": null,
            "align_self": null,
            "border": null,
            "bottom": null,
            "display": null,
            "flex": null,
            "flex_flow": null,
            "grid_area": null,
            "grid_auto_columns": null,
            "grid_auto_flow": null,
            "grid_auto_rows": null,
            "grid_column": null,
            "grid_gap": null,
            "grid_row": null,
            "grid_template_areas": null,
            "grid_template_columns": null,
            "grid_template_rows": null,
            "height": null,
            "justify_content": null,
            "justify_items": null,
            "left": null,
            "margin": null,
            "max_height": null,
            "max_width": null,
            "min_height": null,
            "min_width": null,
            "object_fit": null,
            "object_position": null,
            "order": null,
            "overflow": null,
            "overflow_x": null,
            "overflow_y": null,
            "padding": null,
            "right": null,
            "top": null,
            "visibility": null,
            "width": null
          }
        },
        "d7143e7a139b4cf0b292c2aca06a080a": {
          "model_module": "@jupyter-widgets/controls",
          "model_module_version": "1.5.0",
          "model_name": "HTMLModel",
          "state": {
            "_dom_classes": [],
            "_model_module": "@jupyter-widgets/controls",
            "_model_module_version": "1.5.0",
            "_model_name": "HTMLModel",
            "_view_count": null,
            "_view_module": "@jupyter-widgets/controls",
            "_view_module_version": "1.5.0",
            "_view_name": "HTMLView",
            "description": "",
            "description_tooltip": null,
            "layout": "IPY_MODEL_16cab295afd04b7c8a851072d421d0bb",
            "placeholder": "​",
            "style": "IPY_MODEL_41acc7154be04a44ab593d04f91d6005",
            "value": " 747/747 [00:00&lt;00:00, 44.9kB/s]"
          }
        },
        "de3ddc2a2aa74ffda4ab74a62b535dec": {
          "model_module": "@jupyter-widgets/controls",
          "model_module_version": "1.5.0",
          "model_name": "ProgressStyleModel",
          "state": {
            "_model_module": "@jupyter-widgets/controls",
            "_model_module_version": "1.5.0",
            "_model_name": "ProgressStyleModel",
            "_view_count": null,
            "_view_module": "@jupyter-widgets/base",
            "_view_module_version": "1.2.0",
            "_view_name": "StyleView",
            "bar_color": null,
            "description_width": ""
          }
        },
        "e016ef87dc4e4a1f8ffd3765c1746343": {
          "model_module": "@jupyter-widgets/base",
          "model_module_version": "1.2.0",
          "model_name": "LayoutModel",
          "state": {
            "_model_module": "@jupyter-widgets/base",
            "_model_module_version": "1.2.0",
            "_model_name": "LayoutModel",
            "_view_count": null,
            "_view_module": "@jupyter-widgets/base",
            "_view_module_version": "1.2.0",
            "_view_name": "LayoutView",
            "align_content": null,
            "align_items": null,
            "align_self": null,
            "border": null,
            "bottom": null,
            "display": null,
            "flex": null,
            "flex_flow": null,
            "grid_area": null,
            "grid_auto_columns": null,
            "grid_auto_flow": null,
            "grid_auto_rows": null,
            "grid_column": null,
            "grid_gap": null,
            "grid_row": null,
            "grid_template_areas": null,
            "grid_template_columns": null,
            "grid_template_rows": null,
            "height": null,
            "justify_content": null,
            "justify_items": null,
            "left": null,
            "margin": null,
            "max_height": null,
            "max_width": null,
            "min_height": null,
            "min_width": null,
            "object_fit": null,
            "object_position": null,
            "order": null,
            "overflow": null,
            "overflow_x": null,
            "overflow_y": null,
            "padding": null,
            "right": null,
            "top": null,
            "visibility": null,
            "width": null
          }
        },
        "e893745e7a9d413a9e54a0649cea5305": {
          "model_module": "@jupyter-widgets/controls",
          "model_module_version": "1.5.0",
          "model_name": "FloatProgressModel",
          "state": {
            "_dom_classes": [],
            "_model_module": "@jupyter-widgets/controls",
            "_model_module_version": "1.5.0",
            "_model_name": "FloatProgressModel",
            "_view_count": null,
            "_view_module": "@jupyter-widgets/controls",
            "_view_module_version": "1.5.0",
            "_view_name": "ProgressView",
            "bar_style": "success",
            "description": "",
            "description_tooltip": null,
            "layout": "IPY_MODEL_957026749d414c6ab65de4fdfc4aac3f",
            "max": 445060790,
            "min": 0,
            "orientation": "horizontal",
            "style": "IPY_MODEL_b762d400eb404a07af2583e039008e5a",
            "value": 445060790
          }
        },
        "e9286c70975b4c9397481f7a675d7464": {
          "model_module": "@jupyter-widgets/base",
          "model_module_version": "1.2.0",
          "model_name": "LayoutModel",
          "state": {
            "_model_module": "@jupyter-widgets/base",
            "_model_module_version": "1.2.0",
            "_model_name": "LayoutModel",
            "_view_count": null,
            "_view_module": "@jupyter-widgets/base",
            "_view_module_version": "1.2.0",
            "_view_name": "LayoutView",
            "align_content": null,
            "align_items": null,
            "align_self": null,
            "border": null,
            "bottom": null,
            "display": null,
            "flex": null,
            "flex_flow": null,
            "grid_area": null,
            "grid_auto_columns": null,
            "grid_auto_flow": null,
            "grid_auto_rows": null,
            "grid_column": null,
            "grid_gap": null,
            "grid_row": null,
            "grid_template_areas": null,
            "grid_template_columns": null,
            "grid_template_rows": null,
            "height": null,
            "justify_content": null,
            "justify_items": null,
            "left": null,
            "margin": null,
            "max_height": null,
            "max_width": null,
            "min_height": null,
            "min_width": null,
            "object_fit": null,
            "object_position": null,
            "order": null,
            "overflow": null,
            "overflow_x": null,
            "overflow_y": null,
            "padding": null,
            "right": null,
            "top": null,
            "visibility": null,
            "width": null
          }
        },
        "ef87174cf4844e95a4d532a0ee52da8d": {
          "model_module": "@jupyter-widgets/base",
          "model_module_version": "1.2.0",
          "model_name": "LayoutModel",
          "state": {
            "_model_module": "@jupyter-widgets/base",
            "_model_module_version": "1.2.0",
            "_model_name": "LayoutModel",
            "_view_count": null,
            "_view_module": "@jupyter-widgets/base",
            "_view_module_version": "1.2.0",
            "_view_name": "LayoutView",
            "align_content": null,
            "align_items": null,
            "align_self": null,
            "border": null,
            "bottom": null,
            "display": null,
            "flex": null,
            "flex_flow": null,
            "grid_area": null,
            "grid_auto_columns": null,
            "grid_auto_flow": null,
            "grid_auto_rows": null,
            "grid_column": null,
            "grid_gap": null,
            "grid_row": null,
            "grid_template_areas": null,
            "grid_template_columns": null,
            "grid_template_rows": null,
            "height": null,
            "justify_content": null,
            "justify_items": null,
            "left": null,
            "margin": null,
            "max_height": null,
            "max_width": null,
            "min_height": null,
            "min_width": null,
            "object_fit": null,
            "object_position": null,
            "order": null,
            "overflow": null,
            "overflow_x": null,
            "overflow_y": null,
            "padding": null,
            "right": null,
            "top": null,
            "visibility": null,
            "width": null
          }
        },
        "f63e6bb7d4044361b11a8b27d02bf057": {
          "model_module": "@jupyter-widgets/base",
          "model_module_version": "1.2.0",
          "model_name": "LayoutModel",
          "state": {
            "_model_module": "@jupyter-widgets/base",
            "_model_module_version": "1.2.0",
            "_model_name": "LayoutModel",
            "_view_count": null,
            "_view_module": "@jupyter-widgets/base",
            "_view_module_version": "1.2.0",
            "_view_name": "LayoutView",
            "align_content": null,
            "align_items": null,
            "align_self": null,
            "border": null,
            "bottom": null,
            "display": null,
            "flex": null,
            "flex_flow": null,
            "grid_area": null,
            "grid_auto_columns": null,
            "grid_auto_flow": null,
            "grid_auto_rows": null,
            "grid_column": null,
            "grid_gap": null,
            "grid_row": null,
            "grid_template_areas": null,
            "grid_template_columns": null,
            "grid_template_rows": null,
            "height": null,
            "justify_content": null,
            "justify_items": null,
            "left": null,
            "margin": null,
            "max_height": null,
            "max_width": null,
            "min_height": null,
            "min_width": null,
            "object_fit": null,
            "object_position": null,
            "order": null,
            "overflow": null,
            "overflow_x": null,
            "overflow_y": null,
            "padding": null,
            "right": null,
            "top": null,
            "visibility": null,
            "width": null
          }
        }
      }
    }
  },
  "nbformat": 4,
  "nbformat_minor": 0
}
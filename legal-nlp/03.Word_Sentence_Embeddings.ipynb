{
  "cells": [
    {
      "cell_type": "markdown",
      "id": "KyBA2DOGetGo",
      "metadata": {
        "id": "KyBA2DOGetGo"
      },
      "source": [
        "![JohnSnowLabs](https://nlp.johnsnowlabs.com/assets/images/logo.png)"
      ]
    },
    {
      "cell_type": "markdown",
      "id": "fGThHEbPetzq",
      "metadata": {
        "id": "fGThHEbPetzq"
      },
      "source": [
        "[![Open In Colab](https://colab.research.google.com/assets/colab-badge.svg)](https://colab.research.google.com/github/JohnSnowLabs/spark-nlp-workshop/blob/master/legal-nlp/03.Word_Sentence_Embeddings.ipynb)"
      ]
    },
    {
      "cell_type": "markdown",
      "id": "18e18220",
      "metadata": {
        "id": "18e18220"
      },
      "source": [
        "# Legal Word and Sentence Embeddings"
      ]
    },
    {
      "cell_type": "markdown",
      "id": "69a14890-bc41-4765-9557-89a969c04d8f",
      "metadata": {
        "id": "69a14890-bc41-4765-9557-89a969c04d8f"
      },
      "source": [
        "# Legal Word and Sentence Embeddings visualization using PCA (Principal Component Analysis)"
      ]
    },
    {
      "cell_type": "markdown",
      "id": "5f982ae9-0570-4f90-bd30-c9d55d219e5b",
      "metadata": {
        "id": "5f982ae9-0570-4f90-bd30-c9d55d219e5b"
      },
      "source": [
        "Modern NLP models work with a numerical representation of texts and their menaning. For token classification problems (inferring a class for a token, for example Name Entity Recognition) Word Embeddings are required. For sentences, paragraph, document classification - we use Sentence Embeddings.\n",
        "\n",
        "In this notebook, we use Spark NLP Legal Word (**roberta_embeddings_legal_roberta_base**) and Sentence (**sent_bert_base_uncased_legal**) Embeddings to get those numerical representations of the semantics of the texts. The result is a 768 embeddings matrix, impossible to process by the human eye.\n",
        "\n",
        "There are many techniques we can use to visualize those embeddings. We are using one of them - Principal Component Analysis, a dimensionality reduction process, carried out by Spark MLLib. Both embeddings have 768 dimensions, so we will reduced this dimensions from **768** to **3** (X, Y, Z) and will use a color for the word / sentence legend."
      ]
    },
    {
      "cell_type": "markdown",
      "id": "gk3kZHmNj51v",
      "metadata": {
        "collapsed": false,
        "id": "gk3kZHmNj51v"
      },
      "source": [
        "# Installation"
      ]
    },
    {
      "cell_type": "code",
      "execution_count": null,
      "id": "_914itZsj51v",
      "metadata": {
        "id": "_914itZsj51v",
        "pycharm": {
          "is_executing": true
        }
      },
      "outputs": [],
      "source": [
        "! pip install -q johnsnowlabs"
      ]
    },
    {
      "cell_type": "markdown",
      "id": "YPsbAnNoPt0Z",
      "metadata": {
        "id": "YPsbAnNoPt0Z"
      },
      "source": [
        "## Automatic Installation\n",
        "Using my.johnsnowlabs.com SSO"
      ]
    },
    {
      "cell_type": "code",
      "execution_count": null,
      "id": "fY0lcShkj51w",
      "metadata": {
        "id": "fY0lcShkj51w",
        "pycharm": {
          "is_executing": true
        }
      },
      "outputs": [],
      "source": [
        "from johnsnowlabs import nlp, legal\n",
        "\n",
        "# nlp.install(force_browser=True)"
      ]
    },
    {
      "cell_type": "markdown",
      "id": "hsJvn_WWM2GL",
      "metadata": {
        "id": "hsJvn_WWM2GL"
      },
      "source": [
        "## Manual downloading\n",
        "If you are not registered in my.johnsnowlabs.com, you received a license via e-email or you are using Safari, you may need to do a manual update of the license.\n",
        "\n",
        "- Go to my.johnsnowlabs.com\n",
        "- Download your license\n",
        "- Upload it using the following command"
      ]
    },
    {
      "cell_type": "code",
      "execution_count": null,
      "id": "i57QV3-_P2sQ",
      "metadata": {
        "id": "i57QV3-_P2sQ"
      },
      "outputs": [],
      "source": [
        "from google.colab import files\n",
        "print('Please Upload your John Snow Labs License using the button below')\n",
        "license_keys = files.upload()"
      ]
    },
    {
      "cell_type": "markdown",
      "id": "xGgNdFzZP_hQ",
      "metadata": {
        "id": "xGgNdFzZP_hQ"
      },
      "source": [
        "- Install it"
      ]
    },
    {
      "cell_type": "code",
      "execution_count": null,
      "id": "OfmmPqknP4rR",
      "metadata": {
        "id": "OfmmPqknP4rR"
      },
      "outputs": [],
      "source": [
        "nlp.install()"
      ]
    },
    {
      "cell_type": "markdown",
      "id": "DCl5ErZkNNLk",
      "metadata": {
        "id": "DCl5ErZkNNLk"
      },
      "source": [
        "# Starting"
      ]
    },
    {
      "cell_type": "code",
      "execution_count": null,
      "id": "wRXTnNl3j51w",
      "metadata": {
        "id": "wRXTnNl3j51w"
      },
      "outputs": [],
      "source": [
        "spark = nlp.start()"
      ]
    },
    {
      "cell_type": "markdown",
      "id": "4b7c011d-eac8-4eda-b272-027bab6a8895",
      "metadata": {
        "id": "4b7c011d-eac8-4eda-b272-027bab6a8895"
      },
      "source": [
        "# Get sample text"
      ]
    },
    {
      "cell_type": "code",
      "execution_count": null,
      "id": "_flo8uccfKfh",
      "metadata": {
        "id": "_flo8uccfKfh"
      },
      "outputs": [],
      "source": [
        "! pip install plotly\n",
        "\n",
        "# Downloading sample datasets.\n",
        "! wget -q https://raw.githubusercontent.com/JohnSnowLabs/spark-nlp-workshop/master/legal-nlp/data/legal_pca_samples.csv\n",
        "\n"
      ]
    },
    {
      "cell_type": "code",
      "execution_count": null,
      "id": "1b29ed0e-a708-441f-91b4-ab2905304581",
      "metadata": {
        "colab": {
          "base_uri": "https://localhost:8080/",
          "height": 206
        },
        "id": "1b29ed0e-a708-441f-91b4-ab2905304581",
        "outputId": "afb91431-2637-4960-bbd6-ddfd3fcc97f1",
        "tags": []
      },
      "outputs": [
        {
          "data": {
            "text/html": [
              "\n",
              "  <div id=\"df-19ed4b4c-d1a3-4fcb-b0bf-d5016d600ec6\">\n",
              "    <div class=\"colab-df-container\">\n",
              "      <div>\n",
              "<style scoped>\n",
              "    .dataframe tbody tr th:only-of-type {\n",
              "        vertical-align: middle;\n",
              "    }\n",
              "\n",
              "    .dataframe tbody tr th {\n",
              "        vertical-align: top;\n",
              "    }\n",
              "\n",
              "    .dataframe thead th {\n",
              "        text-align: right;\n",
              "    }\n",
              "</style>\n",
              "<table border=\"1\" class=\"dataframe\">\n",
              "  <thead>\n",
              "    <tr style=\"text-align: right;\">\n",
              "      <th></th>\n",
              "      <th>text</th>\n",
              "      <th>label</th>\n",
              "    </tr>\n",
              "  </thead>\n",
              "  <tbody>\n",
              "    <tr>\n",
              "      <th>0</th>\n",
              "      <td>The fiscal year of the Company (herein called ...</td>\n",
              "      <td>fiscal-year</td>\n",
              "    </tr>\n",
              "    <tr>\n",
              "      <th>1</th>\n",
              "      <td>Each of the Borrower and each other member of ...</td>\n",
              "      <td>fiscal-year</td>\n",
              "    </tr>\n",
              "    <tr>\n",
              "      <th>2</th>\n",
              "      <td>Purchaser shall pay as the total Purchase Pric...</td>\n",
              "      <td>purchase-price</td>\n",
              "    </tr>\n",
              "    <tr>\n",
              "      <th>3</th>\n",
              "      <td>The purchase price to be paid by Purchaser to ...</td>\n",
              "      <td>purchase-price</td>\n",
              "    </tr>\n",
              "    <tr>\n",
              "      <th>4</th>\n",
              "      <td>The Guarantor hereby unconditionally and irrev...</td>\n",
              "      <td>guarantee</td>\n",
              "    </tr>\n",
              "  </tbody>\n",
              "</table>\n",
              "</div>\n",
              "      <button class=\"colab-df-convert\" onclick=\"convertToInteractive('df-19ed4b4c-d1a3-4fcb-b0bf-d5016d600ec6')\"\n",
              "              title=\"Convert this dataframe to an interactive table.\"\n",
              "              style=\"display:none;\">\n",
              "        \n",
              "  <svg xmlns=\"http://www.w3.org/2000/svg\" height=\"24px\"viewBox=\"0 0 24 24\"\n",
              "       width=\"24px\">\n",
              "    <path d=\"M0 0h24v24H0V0z\" fill=\"none\"/>\n",
              "    <path d=\"M18.56 5.44l.94 2.06.94-2.06 2.06-.94-2.06-.94-.94-2.06-.94 2.06-2.06.94zm-11 1L8.5 8.5l.94-2.06 2.06-.94-2.06-.94L8.5 2.5l-.94 2.06-2.06.94zm10 10l.94 2.06.94-2.06 2.06-.94-2.06-.94-.94-2.06-.94 2.06-2.06.94z\"/><path d=\"M17.41 7.96l-1.37-1.37c-.4-.4-.92-.59-1.43-.59-.52 0-1.04.2-1.43.59L10.3 9.45l-7.72 7.72c-.78.78-.78 2.05 0 2.83L4 21.41c.39.39.9.59 1.41.59.51 0 1.02-.2 1.41-.59l7.78-7.78 2.81-2.81c.8-.78.8-2.07 0-2.86zM5.41 20L4 18.59l7.72-7.72 1.47 1.35L5.41 20z\"/>\n",
              "  </svg>\n",
              "      </button>\n",
              "      \n",
              "  <style>\n",
              "    .colab-df-container {\n",
              "      display:flex;\n",
              "      flex-wrap:wrap;\n",
              "      gap: 12px;\n",
              "    }\n",
              "\n",
              "    .colab-df-convert {\n",
              "      background-color: #E8F0FE;\n",
              "      border: none;\n",
              "      border-radius: 50%;\n",
              "      cursor: pointer;\n",
              "      display: none;\n",
              "      fill: #1967D2;\n",
              "      height: 32px;\n",
              "      padding: 0 0 0 0;\n",
              "      width: 32px;\n",
              "    }\n",
              "\n",
              "    .colab-df-convert:hover {\n",
              "      background-color: #E2EBFA;\n",
              "      box-shadow: 0px 1px 2px rgba(60, 64, 67, 0.3), 0px 1px 3px 1px rgba(60, 64, 67, 0.15);\n",
              "      fill: #174EA6;\n",
              "    }\n",
              "\n",
              "    [theme=dark] .colab-df-convert {\n",
              "      background-color: #3B4455;\n",
              "      fill: #D2E3FC;\n",
              "    }\n",
              "\n",
              "    [theme=dark] .colab-df-convert:hover {\n",
              "      background-color: #434B5C;\n",
              "      box-shadow: 0px 1px 3px 1px rgba(0, 0, 0, 0.15);\n",
              "      filter: drop-shadow(0px 1px 2px rgba(0, 0, 0, 0.3));\n",
              "      fill: #FFFFFF;\n",
              "    }\n",
              "  </style>\n",
              "\n",
              "      <script>\n",
              "        const buttonEl =\n",
              "          document.querySelector('#df-19ed4b4c-d1a3-4fcb-b0bf-d5016d600ec6 button.colab-df-convert');\n",
              "        buttonEl.style.display =\n",
              "          google.colab.kernel.accessAllowed ? 'block' : 'none';\n",
              "\n",
              "        async function convertToInteractive(key) {\n",
              "          const element = document.querySelector('#df-19ed4b4c-d1a3-4fcb-b0bf-d5016d600ec6');\n",
              "          const dataTable =\n",
              "            await google.colab.kernel.invokeFunction('convertToInteractive',\n",
              "                                                     [key], {});\n",
              "          if (!dataTable) return;\n",
              "\n",
              "          const docLinkHtml = 'Like what you see? Visit the ' +\n",
              "            '<a target=\"_blank\" href=https://colab.research.google.com/notebooks/data_table.ipynb>data table notebook</a>'\n",
              "            + ' to learn more about interactive tables.';\n",
              "          element.innerHTML = '';\n",
              "          dataTable['output_type'] = 'display_data';\n",
              "          await google.colab.output.renderOutput(dataTable, element);\n",
              "          const docLink = document.createElement('div');\n",
              "          docLink.innerHTML = docLinkHtml;\n",
              "          element.appendChild(docLink);\n",
              "        }\n",
              "      </script>\n",
              "    </div>\n",
              "  </div>\n",
              "  "
            ],
            "text/plain": [
              "                                                text           label\n",
              "0  The fiscal year of the Company (herein called ...     fiscal-year\n",
              "1  Each of the Borrower and each other member of ...     fiscal-year\n",
              "2  Purchaser shall pay as the total Purchase Pric...  purchase-price\n",
              "3  The purchase price to be paid by Purchaser to ...  purchase-price\n",
              "4  The Guarantor hereby unconditionally and irrev...       guarantee"
            ]
          },
          "execution_count": 7,
          "metadata": {},
          "output_type": "execute_result"
        }
      ],
      "source": [
        "import pandas as pd\n",
        "\n",
        "df = pd.read_csv('legal_pca_samples.csv')\n",
        "\n",
        "df.head()"
      ]
    },
    {
      "cell_type": "code",
      "execution_count": null,
      "id": "3977898f-24e8-43d6-a338-80f3bf8ad2a1",
      "metadata": {
        "colab": {
          "base_uri": "https://localhost:8080/"
        },
        "id": "3977898f-24e8-43d6-a338-80f3bf8ad2a1",
        "outputId": "1c95f00e-4bb0-46a0-b455-c1757b208f55",
        "tags": []
      },
      "outputs": [
        {
          "name": "stdout",
          "output_type": "stream",
          "text": [
            "+--------------------+--------------+\n",
            "|                text|         label|\n",
            "+--------------------+--------------+\n",
            "|The fiscal year o...|   fiscal-year|\n",
            "|Each of the Borro...|   fiscal-year|\n",
            "|Purchaser shall p...|purchase-price|\n",
            "|The purchase pric...|purchase-price|\n",
            "|The Guarantor her...|     guarantee|\n",
            "|The Holding Compa...|     guarantee|\n",
            "|GFS will bear its...|      expenses|\n",
            "|Each party shall ...|      expenses|\n",
            "|Failure by either...|        waiver|\n",
            "|Failure of any pa...|        waiver|\n",
            "+--------------------+--------------+\n",
            "\n"
          ]
        }
      ],
      "source": [
        "# Create spark dataframe\n",
        "sdf = spark.createDataFrame(df)\n",
        "sdf.show()"
      ]
    },
    {
      "cell_type": "markdown",
      "id": "d751fd45-9810-4b43-b893-0d373e8d4870",
      "metadata": {
        "id": "d751fd45-9810-4b43-b893-0d373e8d4870"
      },
      "source": [
        "# Sentence Embeddings"
      ]
    },
    {
      "cell_type": "code",
      "execution_count": null,
      "id": "b990cfd8-576f-4057-a548-0434d39897bd",
      "metadata": {
        "colab": {
          "base_uri": "https://localhost:8080/"
        },
        "id": "b990cfd8-576f-4057-a548-0434d39897bd",
        "outputId": "f7052602-52dc-439c-b671-a929c36c9765",
        "tags": []
      },
      "outputs": [
        {
          "name": "stdout",
          "output_type": "stream",
          "text": [
            "sent_bert_base_uncased_legal download started this may take some time.\n",
            "Approximate size to download 390.8 MB\n",
            "[OK!]\n"
          ]
        }
      ],
      "source": [
        "document_assembler = nlp.DocumentAssembler()\\\n",
        "    .setInputCol(\"text\")\\\n",
        "    .setOutputCol(\"document\")\n",
        "\n",
        "embeddings = nlp.BertSentenceEmbeddings.pretrained(\"sent_bert_base_uncased_legal\", \"en\") \\\n",
        "    .setInputCols(\"document\") \\\n",
        "    .setOutputCol(\"document_embeddings\")"
      ]
    },
    {
      "cell_type": "markdown",
      "id": "fde3b08f-6187-43fd-8d7b-3fe6da054c18",
      "metadata": {
        "id": "fde3b08f-6187-43fd-8d7b-3fe6da054c18"
      },
      "source": [
        "# Custom transform to retrieve the numerical embeddings from Spark NLP and pass it to Spark MLLib"
      ]
    },
    {
      "cell_type": "code",
      "execution_count": null,
      "id": "NqVQWyIoHlZf",
      "metadata": {
        "id": "NqVQWyIoHlZf"
      },
      "outputs": [],
      "source": [
        "from pyspark.sql import DataFrame\n",
        "import pyspark.sql.functions as F\n",
        "import pyspark.sql.types as T\n",
        "import pyspark.sql as SQL\n",
        "from pyspark import keyword_only"
      ]
    },
    {
      "cell_type": "code",
      "execution_count": null,
      "id": "30cfff3f-487b-4808-8b32-f54fc443777b",
      "metadata": {
        "id": "30cfff3f-487b-4808-8b32-f54fc443777b"
      },
      "outputs": [],
      "source": [
        "# This class extracts the embeddings from the Spark NLP Annotation object\n",
        "# from pyspark import ml as ML\n",
        "\n",
        "class EmbeddingsUDF(\n",
        "    nlp.Transformer, nlp.ML.param.shared.HasInputCol,  nlp.ML.param.shared.HasOutputCol,\n",
        "    nlp.ML.util.DefaultParamsReadable, nlp.ML.util.DefaultParamsWritable\n",
        "):\n",
        "    @keyword_only\n",
        "    def __init__(self):\n",
        "        super(EmbeddingsUDF, self).__init__()\n",
        "\n",
        "        def _sum(r):\n",
        "            result = 0.0\n",
        "            for e in r:\n",
        "                result += e\n",
        "            return result\n",
        "\n",
        "        self.udfs = {\n",
        "            'convertToVectorUDF': F.udf(lambda vs: nlp.ML.linalg.Vectors.dense(vs), nlp.ML.linalg.VectorUDT()),\n",
        "            'sumUDF': F.udf(lambda r: _sum(r), T.FloatType())\n",
        "        }\n",
        "\n",
        "    def _transform(self, dataset):\n",
        "\n",
        "        results = dataset.select(\n",
        "            \"*\", F.explode(\"document_embeddings.embeddings\").alias(\"embeddings\")\n",
        "        )\n",
        "        results = results.withColumn(\n",
        "            \"features\",\n",
        "            self.udfs['convertToVectorUDF'](F.col(\"embeddings\"))\n",
        "        )\n",
        "        results = results.withColumn(\n",
        "            \"emb_sum\",\n",
        "            self.udfs['sumUDF'](F.col(\"embeddings\"))\n",
        "        )\n",
        "        # Remove those with embeddings all zeroes (so we can calculate cosine distance)\n",
        "        results = results.where(F.col(\"emb_sum\")!=0.0)\n",
        "\n",
        "        return results"
      ]
    },
    {
      "cell_type": "code",
      "execution_count": null,
      "id": "5f82e139-1cc3-423d-9d53-c0ccfec835c2",
      "metadata": {
        "id": "5f82e139-1cc3-423d-9d53-c0ccfec835c2"
      },
      "outputs": [],
      "source": [
        "embeddings_for_pca = EmbeddingsUDF()"
      ]
    },
    {
      "cell_type": "code",
      "execution_count": null,
      "id": "5213dfcf-61bc-4db2-a8c7-797a318a13f4",
      "metadata": {
        "id": "5213dfcf-61bc-4db2-a8c7-797a318a13f4"
      },
      "outputs": [],
      "source": [
        "DIMENSIONS  = 3"
      ]
    },
    {
      "cell_type": "code",
      "execution_count": null,
      "id": "285ba04a-dbe2-4f53-9aa0-fc66ba783e14",
      "metadata": {
        "id": "285ba04a-dbe2-4f53-9aa0-fc66ba783e14"
      },
      "outputs": [],
      "source": [
        "# import pyspark\n",
        "pca = nlp.ML.feature.PCA(k=DIMENSIONS, inputCol=\"features\", outputCol=\"pca_features\")"
      ]
    },
    {
      "cell_type": "markdown",
      "id": "82f95669-0f8e-491b-b6d8-33f590aa06cf",
      "metadata": {
        "id": "82f95669-0f8e-491b-b6d8-33f590aa06cf"
      },
      "source": [
        "### Full Spark NLP + Spark MLLib pipeline"
      ]
    },
    {
      "cell_type": "code",
      "execution_count": null,
      "id": "c279de78-563f-474c-8d3e-3c72243bb04b",
      "metadata": {
        "id": "c279de78-563f-474c-8d3e-3c72243bb04b"
      },
      "outputs": [],
      "source": [
        "# We did all process in one pipeline\n",
        "\n",
        "pipeline = nlp.Pipeline().setStages([document_assembler, embeddings, embeddings_for_pca, pca])"
      ]
    },
    {
      "cell_type": "code",
      "execution_count": null,
      "id": "13c3691b-ba62-446c-ac2d-7f7e869781ef",
      "metadata": {
        "colab": {
          "base_uri": "https://localhost:8080/"
        },
        "id": "13c3691b-ba62-446c-ac2d-7f7e869781ef",
        "outputId": "ca4201f3-a0bd-420c-d45b-51737e5f559b"
      },
      "outputs": [
        {
          "data": {
            "text/plain": [
              "[DocumentAssembler_5bf685394361,\n",
              " BERT_SENTENCE_EMBEDDINGS_dae49a767331,\n",
              " EmbeddingsUDF_6cfa4744c08f,\n",
              " PCA_5be1eba924fe]"
            ]
          },
          "execution_count": 16,
          "metadata": {},
          "output_type": "execute_result"
        }
      ],
      "source": [
        "pipeline.getStages()"
      ]
    },
    {
      "cell_type": "code",
      "execution_count": null,
      "id": "0d46c615-d2b6-408a-99c3-bac0f824dcf4",
      "metadata": {
        "id": "0d46c615-d2b6-408a-99c3-bac0f824dcf4"
      },
      "outputs": [],
      "source": [
        "model = pipeline.fit(sdf)"
      ]
    },
    {
      "cell_type": "code",
      "execution_count": null,
      "id": "4d52ebe0-4257-4354-817f-5b8f2a363b8e",
      "metadata": {
        "id": "4d52ebe0-4257-4354-817f-5b8f2a363b8e"
      },
      "outputs": [],
      "source": [
        "result = model.transform(sdf)"
      ]
    },
    {
      "cell_type": "code",
      "execution_count": null,
      "id": "7b852cad-e1e7-48bc-94b0-9da7188a9727",
      "metadata": {
        "colab": {
          "base_uri": "https://localhost:8080/"
        },
        "id": "7b852cad-e1e7-48bc-94b0-9da7188a9727",
        "outputId": "bc7b6de9-6dc1-4fde-f8e5-ed3bd36a042c"
      },
      "outputs": [
        {
          "name": "stdout",
          "output_type": "stream",
          "text": [
            "+-----------------------------------------------------------+--------------+\n",
            "|pca_features                                               |label         |\n",
            "+-----------------------------------------------------------+--------------+\n",
            "|[-11.772444786459502,-3.1899426160082354,4.491155988811607]|fiscal-year   |\n",
            "|[-11.401114580806887,-3.769737534360105,3.2405607816256445]|fiscal-year   |\n",
            "|[-4.783313864981387,-0.4942406903061649,2.8697672467860604]|purchase-price|\n",
            "|[-5.455985032697512,-1.341242764724348,3.3317233401952815] |purchase-price|\n",
            "|[-8.841676655795247,-1.820364584047892,0.13392410273877264]|guarantee     |\n",
            "|[-11.532871191686567,-2.499575934119743,0.8141606865382864]|guarantee     |\n",
            "|[-5.731693818493872,-3.815858392691706,3.513588271042771]  |expenses      |\n",
            "|[-3.8010454974614007,-4.345361920061271,1.6774524605760994]|expenses      |\n",
            "|[-6.783526297480714,-5.815450054424824,3.236173498846246]  |waiver        |\n",
            "|[-7.13918115635957,-6.34043989712841,1.234729257880866]    |waiver        |\n",
            "+-----------------------------------------------------------+--------------+\n",
            "\n"
          ]
        }
      ],
      "source": [
        "result.select('pca_features', 'label').show(truncate=False)"
      ]
    },
    {
      "cell_type": "code",
      "execution_count": null,
      "id": "adbf7811-b04c-4f63-88e4-10e51341ce0f",
      "metadata": {
        "colab": {
          "base_uri": "https://localhost:8080/",
          "height": 363
        },
        "id": "adbf7811-b04c-4f63-88e4-10e51341ce0f",
        "outputId": "4f9ffdf8-1a2a-4fdb-a2cb-e3bde7a5bf2a"
      },
      "outputs": [
        {
          "data": {
            "text/html": [
              "\n",
              "  <div id=\"df-ddf6b85f-e3de-4840-b25b-57ddc93c5ba8\">\n",
              "    <div class=\"colab-df-container\">\n",
              "      <div>\n",
              "<style scoped>\n",
              "    .dataframe tbody tr th:only-of-type {\n",
              "        vertical-align: middle;\n",
              "    }\n",
              "\n",
              "    .dataframe tbody tr th {\n",
              "        vertical-align: top;\n",
              "    }\n",
              "\n",
              "    .dataframe thead th {\n",
              "        text-align: right;\n",
              "    }\n",
              "</style>\n",
              "<table border=\"1\" class=\"dataframe\">\n",
              "  <thead>\n",
              "    <tr style=\"text-align: right;\">\n",
              "      <th></th>\n",
              "      <th>pca_features</th>\n",
              "      <th>label</th>\n",
              "    </tr>\n",
              "  </thead>\n",
              "  <tbody>\n",
              "    <tr>\n",
              "      <th>0</th>\n",
              "      <td>[-11.772444786459502, -3.1899426160082354, 4.4...</td>\n",
              "      <td>fiscal-year</td>\n",
              "    </tr>\n",
              "    <tr>\n",
              "      <th>1</th>\n",
              "      <td>[-11.401114580806887, -3.769737534360105, 3.24...</td>\n",
              "      <td>fiscal-year</td>\n",
              "    </tr>\n",
              "    <tr>\n",
              "      <th>2</th>\n",
              "      <td>[-4.783313864981387, -0.4942406903061649, 2.86...</td>\n",
              "      <td>purchase-price</td>\n",
              "    </tr>\n",
              "    <tr>\n",
              "      <th>3</th>\n",
              "      <td>[-5.455985032697512, -1.341242764724348, 3.331...</td>\n",
              "      <td>purchase-price</td>\n",
              "    </tr>\n",
              "    <tr>\n",
              "      <th>4</th>\n",
              "      <td>[-8.841676655795247, -1.820364584047892, 0.133...</td>\n",
              "      <td>guarantee</td>\n",
              "    </tr>\n",
              "    <tr>\n",
              "      <th>5</th>\n",
              "      <td>[-11.532871191686567, -2.499575934119743, 0.81...</td>\n",
              "      <td>guarantee</td>\n",
              "    </tr>\n",
              "    <tr>\n",
              "      <th>6</th>\n",
              "      <td>[-5.731693818493872, -3.815858392691706, 3.513...</td>\n",
              "      <td>expenses</td>\n",
              "    </tr>\n",
              "    <tr>\n",
              "      <th>7</th>\n",
              "      <td>[-3.8010454974614007, -4.345361920061271, 1.67...</td>\n",
              "      <td>expenses</td>\n",
              "    </tr>\n",
              "    <tr>\n",
              "      <th>8</th>\n",
              "      <td>[-6.783526297480714, -5.815450054424824, 3.236...</td>\n",
              "      <td>waiver</td>\n",
              "    </tr>\n",
              "    <tr>\n",
              "      <th>9</th>\n",
              "      <td>[-7.13918115635957, -6.34043989712841, 1.23472...</td>\n",
              "      <td>waiver</td>\n",
              "    </tr>\n",
              "  </tbody>\n",
              "</table>\n",
              "</div>\n",
              "      <button class=\"colab-df-convert\" onclick=\"convertToInteractive('df-ddf6b85f-e3de-4840-b25b-57ddc93c5ba8')\"\n",
              "              title=\"Convert this dataframe to an interactive table.\"\n",
              "              style=\"display:none;\">\n",
              "        \n",
              "  <svg xmlns=\"http://www.w3.org/2000/svg\" height=\"24px\"viewBox=\"0 0 24 24\"\n",
              "       width=\"24px\">\n",
              "    <path d=\"M0 0h24v24H0V0z\" fill=\"none\"/>\n",
              "    <path d=\"M18.56 5.44l.94 2.06.94-2.06 2.06-.94-2.06-.94-.94-2.06-.94 2.06-2.06.94zm-11 1L8.5 8.5l.94-2.06 2.06-.94-2.06-.94L8.5 2.5l-.94 2.06-2.06.94zm10 10l.94 2.06.94-2.06 2.06-.94-2.06-.94-.94-2.06-.94 2.06-2.06.94z\"/><path d=\"M17.41 7.96l-1.37-1.37c-.4-.4-.92-.59-1.43-.59-.52 0-1.04.2-1.43.59L10.3 9.45l-7.72 7.72c-.78.78-.78 2.05 0 2.83L4 21.41c.39.39.9.59 1.41.59.51 0 1.02-.2 1.41-.59l7.78-7.78 2.81-2.81c.8-.78.8-2.07 0-2.86zM5.41 20L4 18.59l7.72-7.72 1.47 1.35L5.41 20z\"/>\n",
              "  </svg>\n",
              "      </button>\n",
              "      \n",
              "  <style>\n",
              "    .colab-df-container {\n",
              "      display:flex;\n",
              "      flex-wrap:wrap;\n",
              "      gap: 12px;\n",
              "    }\n",
              "\n",
              "    .colab-df-convert {\n",
              "      background-color: #E8F0FE;\n",
              "      border: none;\n",
              "      border-radius: 50%;\n",
              "      cursor: pointer;\n",
              "      display: none;\n",
              "      fill: #1967D2;\n",
              "      height: 32px;\n",
              "      padding: 0 0 0 0;\n",
              "      width: 32px;\n",
              "    }\n",
              "\n",
              "    .colab-df-convert:hover {\n",
              "      background-color: #E2EBFA;\n",
              "      box-shadow: 0px 1px 2px rgba(60, 64, 67, 0.3), 0px 1px 3px 1px rgba(60, 64, 67, 0.15);\n",
              "      fill: #174EA6;\n",
              "    }\n",
              "\n",
              "    [theme=dark] .colab-df-convert {\n",
              "      background-color: #3B4455;\n",
              "      fill: #D2E3FC;\n",
              "    }\n",
              "\n",
              "    [theme=dark] .colab-df-convert:hover {\n",
              "      background-color: #434B5C;\n",
              "      box-shadow: 0px 1px 3px 1px rgba(0, 0, 0, 0.15);\n",
              "      filter: drop-shadow(0px 1px 2px rgba(0, 0, 0, 0.3));\n",
              "      fill: #FFFFFF;\n",
              "    }\n",
              "  </style>\n",
              "\n",
              "      <script>\n",
              "        const buttonEl =\n",
              "          document.querySelector('#df-ddf6b85f-e3de-4840-b25b-57ddc93c5ba8 button.colab-df-convert');\n",
              "        buttonEl.style.display =\n",
              "          google.colab.kernel.accessAllowed ? 'block' : 'none';\n",
              "\n",
              "        async function convertToInteractive(key) {\n",
              "          const element = document.querySelector('#df-ddf6b85f-e3de-4840-b25b-57ddc93c5ba8');\n",
              "          const dataTable =\n",
              "            await google.colab.kernel.invokeFunction('convertToInteractive',\n",
              "                                                     [key], {});\n",
              "          if (!dataTable) return;\n",
              "\n",
              "          const docLinkHtml = 'Like what you see? Visit the ' +\n",
              "            '<a target=\"_blank\" href=https://colab.research.google.com/notebooks/data_table.ipynb>data table notebook</a>'\n",
              "            + ' to learn more about interactive tables.';\n",
              "          element.innerHTML = '';\n",
              "          dataTable['output_type'] = 'display_data';\n",
              "          await google.colab.output.renderOutput(dataTable, element);\n",
              "          const docLink = document.createElement('div');\n",
              "          docLink.innerHTML = docLinkHtml;\n",
              "          element.appendChild(docLink);\n",
              "        }\n",
              "      </script>\n",
              "    </div>\n",
              "  </div>\n",
              "  "
            ],
            "text/plain": [
              "                                        pca_features           label\n",
              "0  [-11.772444786459502, -3.1899426160082354, 4.4...     fiscal-year\n",
              "1  [-11.401114580806887, -3.769737534360105, 3.24...     fiscal-year\n",
              "2  [-4.783313864981387, -0.4942406903061649, 2.86...  purchase-price\n",
              "3  [-5.455985032697512, -1.341242764724348, 3.331...  purchase-price\n",
              "4  [-8.841676655795247, -1.820364584047892, 0.133...       guarantee\n",
              "5  [-11.532871191686567, -2.499575934119743, 0.81...       guarantee\n",
              "6  [-5.731693818493872, -3.815858392691706, 3.513...        expenses\n",
              "7  [-3.8010454974614007, -4.345361920061271, 1.67...        expenses\n",
              "8  [-6.783526297480714, -5.815450054424824, 3.236...          waiver\n",
              "9  [-7.13918115635957, -6.34043989712841, 1.23472...          waiver"
            ]
          },
          "execution_count": 20,
          "metadata": {},
          "output_type": "execute_result"
        }
      ],
      "source": [
        "df = result.select('pca_features', 'label').toPandas()\n",
        "\n",
        "df\n",
        "# As you see, dimension values are inside a list"
      ]
    },
    {
      "cell_type": "code",
      "execution_count": null,
      "id": "5c3707de-8ff4-49b7-89c2-85e9616bc337",
      "metadata": {
        "colab": {
          "base_uri": "https://localhost:8080/",
          "height": 363
        },
        "id": "5c3707de-8ff4-49b7-89c2-85e9616bc337",
        "outputId": "f05bbfaa-7ad1-4044-d7c2-e1b4afc6a610"
      },
      "outputs": [
        {
          "data": {
            "text/html": [
              "\n",
              "  <div id=\"df-5dd6b869-4547-4db0-95a1-e37b1dae59dd\">\n",
              "    <div class=\"colab-df-container\">\n",
              "      <div>\n",
              "<style scoped>\n",
              "    .dataframe tbody tr th:only-of-type {\n",
              "        vertical-align: middle;\n",
              "    }\n",
              "\n",
              "    .dataframe tbody tr th {\n",
              "        vertical-align: top;\n",
              "    }\n",
              "\n",
              "    .dataframe thead th {\n",
              "        text-align: right;\n",
              "    }\n",
              "</style>\n",
              "<table border=\"1\" class=\"dataframe\">\n",
              "  <thead>\n",
              "    <tr style=\"text-align: right;\">\n",
              "      <th></th>\n",
              "      <th>x</th>\n",
              "      <th>y</th>\n",
              "      <th>z</th>\n",
              "      <th>label</th>\n",
              "    </tr>\n",
              "  </thead>\n",
              "  <tbody>\n",
              "    <tr>\n",
              "      <th>0</th>\n",
              "      <td>-11.772445</td>\n",
              "      <td>-3.189943</td>\n",
              "      <td>4.491156</td>\n",
              "      <td>fiscal-year</td>\n",
              "    </tr>\n",
              "    <tr>\n",
              "      <th>1</th>\n",
              "      <td>-11.401115</td>\n",
              "      <td>-3.769738</td>\n",
              "      <td>3.240561</td>\n",
              "      <td>fiscal-year</td>\n",
              "    </tr>\n",
              "    <tr>\n",
              "      <th>2</th>\n",
              "      <td>-4.783314</td>\n",
              "      <td>-0.494241</td>\n",
              "      <td>2.869767</td>\n",
              "      <td>purchase-price</td>\n",
              "    </tr>\n",
              "    <tr>\n",
              "      <th>3</th>\n",
              "      <td>-5.455985</td>\n",
              "      <td>-1.341243</td>\n",
              "      <td>3.331723</td>\n",
              "      <td>purchase-price</td>\n",
              "    </tr>\n",
              "    <tr>\n",
              "      <th>4</th>\n",
              "      <td>-8.841677</td>\n",
              "      <td>-1.820365</td>\n",
              "      <td>0.133924</td>\n",
              "      <td>guarantee</td>\n",
              "    </tr>\n",
              "    <tr>\n",
              "      <th>5</th>\n",
              "      <td>-11.532871</td>\n",
              "      <td>-2.499576</td>\n",
              "      <td>0.814161</td>\n",
              "      <td>guarantee</td>\n",
              "    </tr>\n",
              "    <tr>\n",
              "      <th>6</th>\n",
              "      <td>-5.731694</td>\n",
              "      <td>-3.815858</td>\n",
              "      <td>3.513588</td>\n",
              "      <td>expenses</td>\n",
              "    </tr>\n",
              "    <tr>\n",
              "      <th>7</th>\n",
              "      <td>-3.801045</td>\n",
              "      <td>-4.345362</td>\n",
              "      <td>1.677452</td>\n",
              "      <td>expenses</td>\n",
              "    </tr>\n",
              "    <tr>\n",
              "      <th>8</th>\n",
              "      <td>-6.783526</td>\n",
              "      <td>-5.815450</td>\n",
              "      <td>3.236173</td>\n",
              "      <td>waiver</td>\n",
              "    </tr>\n",
              "    <tr>\n",
              "      <th>9</th>\n",
              "      <td>-7.139181</td>\n",
              "      <td>-6.340440</td>\n",
              "      <td>1.234729</td>\n",
              "      <td>waiver</td>\n",
              "    </tr>\n",
              "  </tbody>\n",
              "</table>\n",
              "</div>\n",
              "      <button class=\"colab-df-convert\" onclick=\"convertToInteractive('df-5dd6b869-4547-4db0-95a1-e37b1dae59dd')\"\n",
              "              title=\"Convert this dataframe to an interactive table.\"\n",
              "              style=\"display:none;\">\n",
              "        \n",
              "  <svg xmlns=\"http://www.w3.org/2000/svg\" height=\"24px\"viewBox=\"0 0 24 24\"\n",
              "       width=\"24px\">\n",
              "    <path d=\"M0 0h24v24H0V0z\" fill=\"none\"/>\n",
              "    <path d=\"M18.56 5.44l.94 2.06.94-2.06 2.06-.94-2.06-.94-.94-2.06-.94 2.06-2.06.94zm-11 1L8.5 8.5l.94-2.06 2.06-.94-2.06-.94L8.5 2.5l-.94 2.06-2.06.94zm10 10l.94 2.06.94-2.06 2.06-.94-2.06-.94-.94-2.06-.94 2.06-2.06.94z\"/><path d=\"M17.41 7.96l-1.37-1.37c-.4-.4-.92-.59-1.43-.59-.52 0-1.04.2-1.43.59L10.3 9.45l-7.72 7.72c-.78.78-.78 2.05 0 2.83L4 21.41c.39.39.9.59 1.41.59.51 0 1.02-.2 1.41-.59l7.78-7.78 2.81-2.81c.8-.78.8-2.07 0-2.86zM5.41 20L4 18.59l7.72-7.72 1.47 1.35L5.41 20z\"/>\n",
              "  </svg>\n",
              "      </button>\n",
              "      \n",
              "  <style>\n",
              "    .colab-df-container {\n",
              "      display:flex;\n",
              "      flex-wrap:wrap;\n",
              "      gap: 12px;\n",
              "    }\n",
              "\n",
              "    .colab-df-convert {\n",
              "      background-color: #E8F0FE;\n",
              "      border: none;\n",
              "      border-radius: 50%;\n",
              "      cursor: pointer;\n",
              "      display: none;\n",
              "      fill: #1967D2;\n",
              "      height: 32px;\n",
              "      padding: 0 0 0 0;\n",
              "      width: 32px;\n",
              "    }\n",
              "\n",
              "    .colab-df-convert:hover {\n",
              "      background-color: #E2EBFA;\n",
              "      box-shadow: 0px 1px 2px rgba(60, 64, 67, 0.3), 0px 1px 3px 1px rgba(60, 64, 67, 0.15);\n",
              "      fill: #174EA6;\n",
              "    }\n",
              "\n",
              "    [theme=dark] .colab-df-convert {\n",
              "      background-color: #3B4455;\n",
              "      fill: #D2E3FC;\n",
              "    }\n",
              "\n",
              "    [theme=dark] .colab-df-convert:hover {\n",
              "      background-color: #434B5C;\n",
              "      box-shadow: 0px 1px 3px 1px rgba(0, 0, 0, 0.15);\n",
              "      filter: drop-shadow(0px 1px 2px rgba(0, 0, 0, 0.3));\n",
              "      fill: #FFFFFF;\n",
              "    }\n",
              "  </style>\n",
              "\n",
              "      <script>\n",
              "        const buttonEl =\n",
              "          document.querySelector('#df-5dd6b869-4547-4db0-95a1-e37b1dae59dd button.colab-df-convert');\n",
              "        buttonEl.style.display =\n",
              "          google.colab.kernel.accessAllowed ? 'block' : 'none';\n",
              "\n",
              "        async function convertToInteractive(key) {\n",
              "          const element = document.querySelector('#df-5dd6b869-4547-4db0-95a1-e37b1dae59dd');\n",
              "          const dataTable =\n",
              "            await google.colab.kernel.invokeFunction('convertToInteractive',\n",
              "                                                     [key], {});\n",
              "          if (!dataTable) return;\n",
              "\n",
              "          const docLinkHtml = 'Like what you see? Visit the ' +\n",
              "            '<a target=\"_blank\" href=https://colab.research.google.com/notebooks/data_table.ipynb>data table notebook</a>'\n",
              "            + ' to learn more about interactive tables.';\n",
              "          element.innerHTML = '';\n",
              "          dataTable['output_type'] = 'display_data';\n",
              "          await google.colab.output.renderOutput(dataTable, element);\n",
              "          const docLink = document.createElement('div');\n",
              "          docLink.innerHTML = docLinkHtml;\n",
              "          element.appendChild(docLink);\n",
              "        }\n",
              "      </script>\n",
              "    </div>\n",
              "  </div>\n",
              "  "
            ],
            "text/plain": [
              "           x         y         z           label\n",
              "0 -11.772445 -3.189943  4.491156     fiscal-year\n",
              "1 -11.401115 -3.769738  3.240561     fiscal-year\n",
              "2  -4.783314 -0.494241  2.869767  purchase-price\n",
              "3  -5.455985 -1.341243  3.331723  purchase-price\n",
              "4  -8.841677 -1.820365  0.133924       guarantee\n",
              "5 -11.532871 -2.499576  0.814161       guarantee\n",
              "6  -5.731694 -3.815858  3.513588        expenses\n",
              "7  -3.801045 -4.345362  1.677452        expenses\n",
              "8  -6.783526 -5.815450  3.236173          waiver\n",
              "9  -7.139181 -6.340440  1.234729          waiver"
            ]
          },
          "execution_count": 21,
          "metadata": {},
          "output_type": "execute_result"
        }
      ],
      "source": [
        "# We extract the dimension values out off the list\n",
        "\n",
        "df[\"x\"] = df[\"pca_features\"].apply(lambda x: x[0])\n",
        "\n",
        "df[\"y\"] = df[\"pca_features\"].apply(lambda x: x[1])\n",
        "\n",
        "df[\"z\"] = df[\"pca_features\"].apply(lambda x: x[2])\n",
        "\n",
        "df = df[[\"x\", \"y\", \"z\", \"label\"]]\n",
        "\n",
        "df"
      ]
    },
    {
      "cell_type": "code",
      "execution_count": null,
      "id": "7281d091-9356-41a7-83e7-6b5ee541a09c",
      "metadata": {
        "colab": {
          "base_uri": "https://localhost:8080/",
          "height": 617
        },
        "id": "7281d091-9356-41a7-83e7-6b5ee541a09c",
        "outputId": "b14b52af-6dc3-41f9-8f42-f64a7f076328",
        "tags": []
      },
      "outputs": [
        {
          "data": {
            "text/html": [
              "<html>\n",
              "<head><meta charset=\"utf-8\" /></head>\n",
              "<body>\n",
              "    <div>            <script src=\"https://cdnjs.cloudflare.com/ajax/libs/mathjax/2.7.5/MathJax.js?config=TeX-AMS-MML_SVG\"></script><script type=\"text/javascript\">if (window.MathJax) {MathJax.Hub.Config({SVG: {font: \"STIX-Web\"}});}</script>                <script type=\"text/javascript\">window.PlotlyConfig = {MathJaxConfig: 'local'};</script>\n",
              "        <script src=\"https://cdn.plot.ly/plotly-2.8.3.min.js\"></script>                <div id=\"d7400109-f2e3-4914-9323-e91b31404cbb\" class=\"plotly-graph-div\" style=\"height:600px; width:800px;\"></div>            <script type=\"text/javascript\">                                    window.PLOTLYENV=window.PLOTLYENV || {};                                    if (document.getElementById(\"d7400109-f2e3-4914-9323-e91b31404cbb\")) {                    Plotly.newPlot(                        \"d7400109-f2e3-4914-9323-e91b31404cbb\",                        [{\"hovertemplate\":\"label=fiscal-year<br>x=%{x}<br>y=%{y}<br>z=%{z}<extra></extra>\",\"legendgroup\":\"fiscal-year\",\"marker\":{\"color\":\"#636efa\",\"symbol\":\"circle\"},\"mode\":\"markers\",\"name\":\"fiscal-year\",\"scene\":\"scene\",\"showlegend\":true,\"x\":[-11.772444786459502,-11.401114580806887],\"y\":[-3.1899426160082354,-3.769737534360105],\"z\":[4.491155988811607,3.2405607816256445],\"type\":\"scatter3d\"},{\"hovertemplate\":\"label=purchase-price<br>x=%{x}<br>y=%{y}<br>z=%{z}<extra></extra>\",\"legendgroup\":\"purchase-price\",\"marker\":{\"color\":\"#EF553B\",\"symbol\":\"circle\"},\"mode\":\"markers\",\"name\":\"purchase-price\",\"scene\":\"scene\",\"showlegend\":true,\"x\":[-4.783313864981387,-5.455985032697512],\"y\":[-0.4942406903061649,-1.341242764724348],\"z\":[2.8697672467860604,3.3317233401952815],\"type\":\"scatter3d\"},{\"hovertemplate\":\"label=guarantee<br>x=%{x}<br>y=%{y}<br>z=%{z}<extra></extra>\",\"legendgroup\":\"guarantee\",\"marker\":{\"color\":\"#00cc96\",\"symbol\":\"circle\"},\"mode\":\"markers\",\"name\":\"guarantee\",\"scene\":\"scene\",\"showlegend\":true,\"x\":[-8.841676655795247,-11.532871191686567],\"y\":[-1.820364584047892,-2.499575934119743],\"z\":[0.13392410273877264,0.8141606865382864],\"type\":\"scatter3d\"},{\"hovertemplate\":\"label=expenses<br>x=%{x}<br>y=%{y}<br>z=%{z}<extra></extra>\",\"legendgroup\":\"expenses\",\"marker\":{\"color\":\"#ab63fa\",\"symbol\":\"circle\"},\"mode\":\"markers\",\"name\":\"expenses\",\"scene\":\"scene\",\"showlegend\":true,\"x\":[-5.731693818493872,-3.8010454974614007],\"y\":[-3.815858392691706,-4.345361920061271],\"z\":[3.513588271042771,1.6774524605760994],\"type\":\"scatter3d\"},{\"hovertemplate\":\"label=waiver<br>x=%{x}<br>y=%{y}<br>z=%{z}<extra></extra>\",\"legendgroup\":\"waiver\",\"marker\":{\"color\":\"#FFA15A\",\"symbol\":\"circle\"},\"mode\":\"markers\",\"name\":\"waiver\",\"scene\":\"scene\",\"showlegend\":true,\"x\":[-6.783526297480714,-7.13918115635957],\"y\":[-5.815450054424824,-6.34043989712841],\"z\":[3.236173498846246,1.234729257880866],\"type\":\"scatter3d\"}],                        {\"template\":{\"data\":{\"bar\":[{\"error_x\":{\"color\":\"#2a3f5f\"},\"error_y\":{\"color\":\"#2a3f5f\"},\"marker\":{\"line\":{\"color\":\"#E5ECF6\",\"width\":0.5},\"pattern\":{\"fillmode\":\"overlay\",\"size\":10,\"solidity\":0.2}},\"type\":\"bar\"}],\"barpolar\":[{\"marker\":{\"line\":{\"color\":\"#E5ECF6\",\"width\":0.5},\"pattern\":{\"fillmode\":\"overlay\",\"size\":10,\"solidity\":0.2}},\"type\":\"barpolar\"}],\"carpet\":[{\"aaxis\":{\"endlinecolor\":\"#2a3f5f\",\"gridcolor\":\"white\",\"linecolor\":\"white\",\"minorgridcolor\":\"white\",\"startlinecolor\":\"#2a3f5f\"},\"baxis\":{\"endlinecolor\":\"#2a3f5f\",\"gridcolor\":\"white\",\"linecolor\":\"white\",\"minorgridcolor\":\"white\",\"startlinecolor\":\"#2a3f5f\"},\"type\":\"carpet\"}],\"choropleth\":[{\"colorbar\":{\"outlinewidth\":0,\"ticks\":\"\"},\"type\":\"choropleth\"}],\"contour\":[{\"colorbar\":{\"outlinewidth\":0,\"ticks\":\"\"},\"colorscale\":[[0.0,\"#0d0887\"],[0.1111111111111111,\"#46039f\"],[0.2222222222222222,\"#7201a8\"],[0.3333333333333333,\"#9c179e\"],[0.4444444444444444,\"#bd3786\"],[0.5555555555555556,\"#d8576b\"],[0.6666666666666666,\"#ed7953\"],[0.7777777777777778,\"#fb9f3a\"],[0.8888888888888888,\"#fdca26\"],[1.0,\"#f0f921\"]],\"type\":\"contour\"}],\"contourcarpet\":[{\"colorbar\":{\"outlinewidth\":0,\"ticks\":\"\"},\"type\":\"contourcarpet\"}],\"heatmap\":[{\"colorbar\":{\"outlinewidth\":0,\"ticks\":\"\"},\"colorscale\":[[0.0,\"#0d0887\"],[0.1111111111111111,\"#46039f\"],[0.2222222222222222,\"#7201a8\"],[0.3333333333333333,\"#9c179e\"],[0.4444444444444444,\"#bd3786\"],[0.5555555555555556,\"#d8576b\"],[0.6666666666666666,\"#ed7953\"],[0.7777777777777778,\"#fb9f3a\"],[0.8888888888888888,\"#fdca26\"],[1.0,\"#f0f921\"]],\"type\":\"heatmap\"}],\"heatmapgl\":[{\"colorbar\":{\"outlinewidth\":0,\"ticks\":\"\"},\"colorscale\":[[0.0,\"#0d0887\"],[0.1111111111111111,\"#46039f\"],[0.2222222222222222,\"#7201a8\"],[0.3333333333333333,\"#9c179e\"],[0.4444444444444444,\"#bd3786\"],[0.5555555555555556,\"#d8576b\"],[0.6666666666666666,\"#ed7953\"],[0.7777777777777778,\"#fb9f3a\"],[0.8888888888888888,\"#fdca26\"],[1.0,\"#f0f921\"]],\"type\":\"heatmapgl\"}],\"histogram\":[{\"marker\":{\"pattern\":{\"fillmode\":\"overlay\",\"size\":10,\"solidity\":0.2}},\"type\":\"histogram\"}],\"histogram2d\":[{\"colorbar\":{\"outlinewidth\":0,\"ticks\":\"\"},\"colorscale\":[[0.0,\"#0d0887\"],[0.1111111111111111,\"#46039f\"],[0.2222222222222222,\"#7201a8\"],[0.3333333333333333,\"#9c179e\"],[0.4444444444444444,\"#bd3786\"],[0.5555555555555556,\"#d8576b\"],[0.6666666666666666,\"#ed7953\"],[0.7777777777777778,\"#fb9f3a\"],[0.8888888888888888,\"#fdca26\"],[1.0,\"#f0f921\"]],\"type\":\"histogram2d\"}],\"histogram2dcontour\":[{\"colorbar\":{\"outlinewidth\":0,\"ticks\":\"\"},\"colorscale\":[[0.0,\"#0d0887\"],[0.1111111111111111,\"#46039f\"],[0.2222222222222222,\"#7201a8\"],[0.3333333333333333,\"#9c179e\"],[0.4444444444444444,\"#bd3786\"],[0.5555555555555556,\"#d8576b\"],[0.6666666666666666,\"#ed7953\"],[0.7777777777777778,\"#fb9f3a\"],[0.8888888888888888,\"#fdca26\"],[1.0,\"#f0f921\"]],\"type\":\"histogram2dcontour\"}],\"mesh3d\":[{\"colorbar\":{\"outlinewidth\":0,\"ticks\":\"\"},\"type\":\"mesh3d\"}],\"parcoords\":[{\"line\":{\"colorbar\":{\"outlinewidth\":0,\"ticks\":\"\"}},\"type\":\"parcoords\"}],\"pie\":[{\"automargin\":true,\"type\":\"pie\"}],\"scatter\":[{\"marker\":{\"colorbar\":{\"outlinewidth\":0,\"ticks\":\"\"}},\"type\":\"scatter\"}],\"scatter3d\":[{\"line\":{\"colorbar\":{\"outlinewidth\":0,\"ticks\":\"\"}},\"marker\":{\"colorbar\":{\"outlinewidth\":0,\"ticks\":\"\"}},\"type\":\"scatter3d\"}],\"scattercarpet\":[{\"marker\":{\"colorbar\":{\"outlinewidth\":0,\"ticks\":\"\"}},\"type\":\"scattercarpet\"}],\"scattergeo\":[{\"marker\":{\"colorbar\":{\"outlinewidth\":0,\"ticks\":\"\"}},\"type\":\"scattergeo\"}],\"scattergl\":[{\"marker\":{\"colorbar\":{\"outlinewidth\":0,\"ticks\":\"\"}},\"type\":\"scattergl\"}],\"scattermapbox\":[{\"marker\":{\"colorbar\":{\"outlinewidth\":0,\"ticks\":\"\"}},\"type\":\"scattermapbox\"}],\"scatterpolar\":[{\"marker\":{\"colorbar\":{\"outlinewidth\":0,\"ticks\":\"\"}},\"type\":\"scatterpolar\"}],\"scatterpolargl\":[{\"marker\":{\"colorbar\":{\"outlinewidth\":0,\"ticks\":\"\"}},\"type\":\"scatterpolargl\"}],\"scatterternary\":[{\"marker\":{\"colorbar\":{\"outlinewidth\":0,\"ticks\":\"\"}},\"type\":\"scatterternary\"}],\"surface\":[{\"colorbar\":{\"outlinewidth\":0,\"ticks\":\"\"},\"colorscale\":[[0.0,\"#0d0887\"],[0.1111111111111111,\"#46039f\"],[0.2222222222222222,\"#7201a8\"],[0.3333333333333333,\"#9c179e\"],[0.4444444444444444,\"#bd3786\"],[0.5555555555555556,\"#d8576b\"],[0.6666666666666666,\"#ed7953\"],[0.7777777777777778,\"#fb9f3a\"],[0.8888888888888888,\"#fdca26\"],[1.0,\"#f0f921\"]],\"type\":\"surface\"}],\"table\":[{\"cells\":{\"fill\":{\"color\":\"#EBF0F8\"},\"line\":{\"color\":\"white\"}},\"header\":{\"fill\":{\"color\":\"#C8D4E3\"},\"line\":{\"color\":\"white\"}},\"type\":\"table\"}]},\"layout\":{\"annotationdefaults\":{\"arrowcolor\":\"#2a3f5f\",\"arrowhead\":0,\"arrowwidth\":1},\"autotypenumbers\":\"strict\",\"coloraxis\":{\"colorbar\":{\"outlinewidth\":0,\"ticks\":\"\"}},\"colorscale\":{\"diverging\":[[0,\"#8e0152\"],[0.1,\"#c51b7d\"],[0.2,\"#de77ae\"],[0.3,\"#f1b6da\"],[0.4,\"#fde0ef\"],[0.5,\"#f7f7f7\"],[0.6,\"#e6f5d0\"],[0.7,\"#b8e186\"],[0.8,\"#7fbc41\"],[0.9,\"#4d9221\"],[1,\"#276419\"]],\"sequential\":[[0.0,\"#0d0887\"],[0.1111111111111111,\"#46039f\"],[0.2222222222222222,\"#7201a8\"],[0.3333333333333333,\"#9c179e\"],[0.4444444444444444,\"#bd3786\"],[0.5555555555555556,\"#d8576b\"],[0.6666666666666666,\"#ed7953\"],[0.7777777777777778,\"#fb9f3a\"],[0.8888888888888888,\"#fdca26\"],[1.0,\"#f0f921\"]],\"sequentialminus\":[[0.0,\"#0d0887\"],[0.1111111111111111,\"#46039f\"],[0.2222222222222222,\"#7201a8\"],[0.3333333333333333,\"#9c179e\"],[0.4444444444444444,\"#bd3786\"],[0.5555555555555556,\"#d8576b\"],[0.6666666666666666,\"#ed7953\"],[0.7777777777777778,\"#fb9f3a\"],[0.8888888888888888,\"#fdca26\"],[1.0,\"#f0f921\"]]},\"colorway\":[\"#636efa\",\"#EF553B\",\"#00cc96\",\"#ab63fa\",\"#FFA15A\",\"#19d3f3\",\"#FF6692\",\"#B6E880\",\"#FF97FF\",\"#FECB52\"],\"font\":{\"color\":\"#2a3f5f\"},\"geo\":{\"bgcolor\":\"white\",\"lakecolor\":\"white\",\"landcolor\":\"#E5ECF6\",\"showlakes\":true,\"showland\":true,\"subunitcolor\":\"white\"},\"hoverlabel\":{\"align\":\"left\"},\"hovermode\":\"closest\",\"mapbox\":{\"style\":\"light\"},\"paper_bgcolor\":\"white\",\"plot_bgcolor\":\"#E5ECF6\",\"polar\":{\"angularaxis\":{\"gridcolor\":\"white\",\"linecolor\":\"white\",\"ticks\":\"\"},\"bgcolor\":\"#E5ECF6\",\"radialaxis\":{\"gridcolor\":\"white\",\"linecolor\":\"white\",\"ticks\":\"\"}},\"scene\":{\"xaxis\":{\"backgroundcolor\":\"#E5ECF6\",\"gridcolor\":\"white\",\"gridwidth\":2,\"linecolor\":\"white\",\"showbackground\":true,\"ticks\":\"\",\"zerolinecolor\":\"white\"},\"yaxis\":{\"backgroundcolor\":\"#E5ECF6\",\"gridcolor\":\"white\",\"gridwidth\":2,\"linecolor\":\"white\",\"showbackground\":true,\"ticks\":\"\",\"zerolinecolor\":\"white\"},\"zaxis\":{\"backgroundcolor\":\"#E5ECF6\",\"gridcolor\":\"white\",\"gridwidth\":2,\"linecolor\":\"white\",\"showbackground\":true,\"ticks\":\"\",\"zerolinecolor\":\"white\"}},\"shapedefaults\":{\"line\":{\"color\":\"#2a3f5f\"}},\"ternary\":{\"aaxis\":{\"gridcolor\":\"white\",\"linecolor\":\"white\",\"ticks\":\"\"},\"baxis\":{\"gridcolor\":\"white\",\"linecolor\":\"white\",\"ticks\":\"\"},\"bgcolor\":\"#E5ECF6\",\"caxis\":{\"gridcolor\":\"white\",\"linecolor\":\"white\",\"ticks\":\"\"}},\"title\":{\"x\":0.05},\"xaxis\":{\"automargin\":true,\"gridcolor\":\"white\",\"linecolor\":\"white\",\"ticks\":\"\",\"title\":{\"standoff\":15},\"zerolinecolor\":\"white\",\"zerolinewidth\":2},\"yaxis\":{\"automargin\":true,\"gridcolor\":\"white\",\"linecolor\":\"white\",\"ticks\":\"\",\"title\":{\"standoff\":15},\"zerolinecolor\":\"white\",\"zerolinewidth\":2}}},\"scene\":{\"domain\":{\"x\":[0.0,1.0],\"y\":[0.0,1.0]},\"xaxis\":{\"title\":{\"text\":\"x\"}},\"yaxis\":{\"title\":{\"text\":\"y\"}},\"zaxis\":{\"title\":{\"text\":\"z\"}}},\"legend\":{\"title\":{\"text\":\"label\"},\"tracegroupgap\":0},\"margin\":{\"t\":60},\"height\":600,\"width\":800},                        {\"responsive\": true}                    ).then(function(){\n",
              "                            \n",
              "var gd = document.getElementById('d7400109-f2e3-4914-9323-e91b31404cbb');\n",
              "var x = new MutationObserver(function (mutations, observer) {{\n",
              "        var display = window.getComputedStyle(gd).display;\n",
              "        if (!display || display === 'none') {{\n",
              "            console.log([gd, 'removed!']);\n",
              "            Plotly.purge(gd);\n",
              "            observer.disconnect();\n",
              "        }}\n",
              "}});\n",
              "\n",
              "// Listen for the removal of the full notebook cells\n",
              "var notebookContainer = gd.closest('#notebook-container');\n",
              "if (notebookContainer) {{\n",
              "    x.observe(notebookContainer, {childList: true});\n",
              "}}\n",
              "\n",
              "// Listen for the clearing of the current output cell\n",
              "var outputEl = gd.closest('.output');\n",
              "if (outputEl) {{\n",
              "    x.observe(outputEl, {childList: true});\n",
              "}}\n",
              "\n",
              "                        })                };                            </script>        </div>\n",
              "</body>\n",
              "</html>"
            ]
          },
          "metadata": {},
          "output_type": "display_data"
        }
      ],
      "source": [
        "import plotly.express as px\n",
        "\n",
        "fig = px.scatter_3d(df, x='x', y='y', z='z', color='label', width=800, height=600)\n",
        "\n",
        "fig.show()"
      ]
    },
    {
      "cell_type": "markdown",
      "id": "602bc911-284b-4e0e-8882-99ac444fbb51",
      "metadata": {
        "id": "602bc911-284b-4e0e-8882-99ac444fbb51"
      },
      "source": [
        "# Word Embeddings"
      ]
    },
    {
      "cell_type": "markdown",
      "id": "11bfbc63-cb97-4189-8d6c-6629bbc898e8",
      "metadata": {
        "id": "11bfbc63-cb97-4189-8d6c-6629bbc898e8"
      },
      "source": [
        "We can also visualize the semantics of words, instead of full texts, by using Word Embeddings. We will add a Tokenizer and a WordEmbeddings model to get those embeddings, and them apply PCA as before."
      ]
    },
    {
      "cell_type": "code",
      "execution_count": null,
      "id": "0cebc272-4b73-4a66-89ed-64278a46bab8",
      "metadata": {
        "colab": {
          "base_uri": "https://localhost:8080/"
        },
        "id": "0cebc272-4b73-4a66-89ed-64278a46bab8",
        "outputId": "e833f4dc-b70e-48bf-a204-ea7c84ddbf84"
      },
      "outputs": [
        {
          "name": "stdout",
          "output_type": "stream",
          "text": [
            "roberta_embeddings_legal_roberta_base download started this may take some time.\n",
            "Approximate size to download 447.2 MB\n",
            "[OK!]\n"
          ]
        }
      ],
      "source": [
        "document_assembler = nlp.DocumentAssembler()\\\n",
        "    .setInputCol(\"text\")\\\n",
        "    .setOutputCol(\"document\")\n",
        "\n",
        "tokenizer = nlp.Tokenizer() \\\n",
        "    .setInputCols(\"document\")\\\n",
        "    .setOutputCol(\"token\")\n",
        "\n",
        "embeddings = nlp.RoBertaEmbeddings.pretrained(\"roberta_embeddings_legal_roberta_base\",\"en\") \\\n",
        "    .setInputCols([\"document\", \"token\"])\\\n",
        "    .setOutputCol(\"document_embeddings\")"
      ]
    },
    {
      "cell_type": "code",
      "execution_count": null,
      "id": "5b2a3d86-cac7-40b7-a769-69d3b0a1dea1",
      "metadata": {
        "id": "5b2a3d86-cac7-40b7-a769-69d3b0a1dea1"
      },
      "outputs": [],
      "source": [
        "# Firstly we splitted the pipeline in two to get all token embeddings\n",
        "\n",
        "pipeline = nlp.Pipeline().setStages([document_assembler, tokenizer, embeddings])"
      ]
    },
    {
      "cell_type": "code",
      "execution_count": null,
      "id": "28f0cced-e804-4415-aa57-6ae05587adf2",
      "metadata": {
        "id": "28f0cced-e804-4415-aa57-6ae05587adf2"
      },
      "outputs": [],
      "source": [
        "model = pipeline.fit(sdf)"
      ]
    },
    {
      "cell_type": "code",
      "execution_count": null,
      "id": "31090faa-0bbe-4e94-8384-e38a338e1989",
      "metadata": {
        "id": "31090faa-0bbe-4e94-8384-e38a338e1989"
      },
      "outputs": [],
      "source": [
        "result = model.transform(sdf)"
      ]
    },
    {
      "cell_type": "code",
      "execution_count": null,
      "id": "1815b79d-81c5-45ec-ac80-418e31f9df8e",
      "metadata": {
        "colab": {
          "base_uri": "https://localhost:8080/"
        },
        "id": "1815b79d-81c5-45ec-ac80-418e31f9df8e",
        "outputId": "af5b03c8-5db0-49d0-f158-bd9db2b7f245",
        "tags": []
      },
      "outputs": [
        {
          "name": "stdout",
          "output_type": "stream",
          "text": [
            "+--------+--------------------------------------------------------------------------------+-----------+\n",
            "|   token|                                                                      embeddings|      label|\n",
            "+--------+--------------------------------------------------------------------------------+-----------+\n",
            "|     The|[-0.19058353, 0.02907179, 0.13235606, 0.19562247, 0.77783114, 0.28990984, -0....|fiscal-year|\n",
            "|  fiscal|[-0.19621773, 0.14509664, 0.23111394, -0.50601673, -0.38397044, -0.16950981, ...|fiscal-year|\n",
            "|    year|[0.08006305, 0.22008368, 0.23202448, -0.4419725, 0.58936155, -0.23692255, 0.1...|fiscal-year|\n",
            "|      of|[-0.14090274, 0.1561361, 0.24000195, -0.2449323, 0.897756, 0.4878102, 0.09172...|fiscal-year|\n",
            "|     the|[-0.060954493, -0.08232107, 0.31499305, 0.12840052, -0.014585197, 0.97888094,...|fiscal-year|\n",
            "| Company|[-0.06074696, 0.27488312, 0.07146063, -0.39569926, 0.73315394, 0.80515677, 0....|fiscal-year|\n",
            "|       (|[0.110985324, -0.23188369, 0.11235473, 0.07458283, 0.86609805, -0.11237967, -...|fiscal-year|\n",
            "|  herein|[-0.08064859, -0.058290023, 0.0014471374, -0.01494734, 0.27398092, -0.2031553...|fiscal-year|\n",
            "|  called|[0.053557806, 0.15397249, 0.060474608, 0.4370787, 1.2082465, 0.19268233, 0.22...|fiscal-year|\n",
            "|     the|[-0.08710292, 0.07147774, 0.15197286, 0.064896256, -0.08188284, 0.2993784, -0...|fiscal-year|\n",
            "|       \"|[0.055207815, 0.19191758, 0.009991504, -0.002567485, 1.0418481, 0.21364337, -...|fiscal-year|\n",
            "|  fiscal|[-0.1470953, 0.01782197, 0.27213296, -0.48752263, -0.48709112, -0.22528148, -...|fiscal-year|\n",
            "|    year|[0.095891975, -0.018594256, 0.24576741, -0.5265815, 0.23036353, -0.16599163, ...|fiscal-year|\n",
            "|      \")|[0.078799084, -0.059296016, -0.094316624, 0.2230134, 0.4947757, -0.19168603, ...|fiscal-year|\n",
            "|   shall|[-0.18689272, -0.030554991, 0.24993144, -0.08885674, -0.15760154, -0.33531106...|fiscal-year|\n",
            "|     end|[0.15657824, -0.16092332, 0.25242153, 0.055000648, -2.078185, -0.21233702, 0....|fiscal-year|\n",
            "|      on|[0.37850147, 0.45011467, 0.3628455, 0.48866218, 0.7129808, -0.018029705, 0.25...|fiscal-year|\n",
            "|December|[0.46872914, 0.040406726, -0.021835068, 0.1527489, 1.0853444, 0.26045752, 0.1...|fiscal-year|\n",
            "|      31|[0.20654202, 0.15854497, 0.18410315, 0.0818382, 0.7390951, -0.018805683, -0.0...|fiscal-year|\n",
            "|      of|[0.043495774, -0.11597665, 0.090747505, -0.10574559, 1.0775036, 0.4324377, 0....|fiscal-year|\n",
            "+--------+--------------------------------------------------------------------------------+-----------+\n",
            "only showing top 20 rows\n",
            "\n"
          ]
        }
      ],
      "source": [
        "result_df = result.select(\"label\", F.explode(F.arrays_zip(\"token.result\", \"document_embeddings.embeddings\")).alias(\"cols\"))\\\n",
        "                   .select(F.expr(\"cols['0']\").alias(\"token\"),\n",
        "                           F.expr(\"cols['1']\").alias(\"embeddings\"),\n",
        "                           \"label\")\n",
        "\n",
        "result_df.show(truncate = 80)\n"
      ]
    },
    {
      "cell_type": "code",
      "execution_count": null,
      "id": "6186b5d6-fa75-42db-b5f6-febbe0f6c957",
      "metadata": {
        "id": "6186b5d6-fa75-42db-b5f6-febbe0f6c957"
      },
      "outputs": [],
      "source": [
        "# Here we defined inheritance class from that defined previously EmbeddingsUDF class\n",
        "class WordEmbeddingsUDF(EmbeddingsUDF):    \n",
        "    def _transform(self, dataset):\n",
        "        \n",
        "        results = dataset.select('token', 'label', 'embeddings') # We changed this line because our embedding cloumn is already exploded\n",
        "\n",
        "        results = results.withColumn(\n",
        "            \"features\",\n",
        "            self.udfs['convertToVectorUDF'](F.col(\"embeddings\"))\n",
        "        )\n",
        "        results = results.withColumn(\n",
        "            \"emb_sum\",\n",
        "            self.udfs['sumUDF'](F.col(\"embeddings\"))\n",
        "        )\n",
        "        # Remove those with embeddings all zeroes (so we can calculate cosine distance)\n",
        "        results = results.where(F.col(\"emb_sum\")!=0.0)\n",
        "\n",
        "        return results"
      ]
    },
    {
      "cell_type": "code",
      "execution_count": null,
      "id": "e416012e-ba80-4ca8-98de-aa675660ecb1",
      "metadata": {
        "id": "e416012e-ba80-4ca8-98de-aa675660ecb1"
      },
      "outputs": [],
      "source": [
        "embeddings_for_pca = WordEmbeddingsUDF()"
      ]
    },
    {
      "cell_type": "code",
      "execution_count": null,
      "id": "0cca3d1f-0261-42de-96f8-f68f7fe6210a",
      "metadata": {
        "id": "0cca3d1f-0261-42de-96f8-f68f7fe6210a"
      },
      "outputs": [],
      "source": [
        "DIMENSIONS  = 3"
      ]
    },
    {
      "cell_type": "code",
      "execution_count": null,
      "id": "2f9e30a2-cc23-463f-87d1-4846c7a321e7",
      "metadata": {
        "id": "2f9e30a2-cc23-463f-87d1-4846c7a321e7"
      },
      "outputs": [],
      "source": [
        "# import pyspark\n",
        "pca = nlp.ML.feature.PCA(k=DIMENSIONS, inputCol=\"features\", outputCol=\"pca_features\")"
      ]
    },
    {
      "cell_type": "markdown",
      "id": "4ec00af2-8e16-4473-8b43-4f7cff630a3d",
      "metadata": {
        "id": "4ec00af2-8e16-4473-8b43-4f7cff630a3d"
      },
      "source": [
        "## Full Spark NLP + Spark MLLib pipeline"
      ]
    },
    {
      "cell_type": "code",
      "execution_count": null,
      "id": "69b8590b-2bf4-45b9-924d-d7438b87f08a",
      "metadata": {
        "id": "69b8590b-2bf4-45b9-924d-d7438b87f08a"
      },
      "outputs": [],
      "source": [
        "# We run the second part of the pipeline\n",
        "\n",
        "pipeline = nlp.Pipeline().setStages([embeddings_for_pca, pca])\n"
      ]
    },
    {
      "cell_type": "code",
      "execution_count": null,
      "id": "8207c543-9fb0-4187-a359-61abad891934",
      "metadata": {
        "id": "8207c543-9fb0-4187-a359-61abad891934",
        "tags": []
      },
      "outputs": [],
      "source": [
        "model = pipeline.fit(result_df)"
      ]
    },
    {
      "cell_type": "code",
      "execution_count": null,
      "id": "cf674445-20d2-4ee9-8409-6a3782794aae",
      "metadata": {
        "id": "cf674445-20d2-4ee9-8409-6a3782794aae"
      },
      "outputs": [],
      "source": [
        "result = model.transform(result_df)"
      ]
    },
    {
      "cell_type": "code",
      "execution_count": null,
      "id": "9093ca0e-e46e-40e8-8958-c47702fc4a43",
      "metadata": {
        "colab": {
          "base_uri": "https://localhost:8080/"
        },
        "id": "9093ca0e-e46e-40e8-8958-c47702fc4a43",
        "outputId": "f202f90d-2dae-4e85-bd3a-6559b9811324",
        "tags": []
      },
      "outputs": [
        {
          "name": "stdout",
          "output_type": "stream",
          "text": [
            "+--------+------------------------------------------------------------+------------------------------------------------------------+-----------+\n",
            "|   token|                                                  embeddings|                                                pca_features|      label|\n",
            "+--------+------------------------------------------------------------+------------------------------------------------------------+-----------+\n",
            "|     The|[-0.19058353, 0.02907179, 0.13235606, 0.19562247, 0.77783...|  [6.574778635662339,7.6528643152564015,-0.9220368677054432]|fiscal-year|\n",
            "|  fiscal|[-0.19621773, 0.14509664, 0.23111394, -0.50601673, -0.383...| [5.227397542553495,-0.0694029672524412,-1.3976501037958822]|fiscal-year|\n",
            "|    year|[0.08006305, 0.22008368, 0.23202448, -0.4419725, 0.589361...|    [9.185603253708326,1.001476454698103,1.0998418807415162]|fiscal-year|\n",
            "|      of|[-0.14090274, 0.1561361, 0.24000195, -0.2449323, 0.897756...|   [6.3979324524305445,3.191733260939924,-1.040544103553439]|fiscal-year|\n",
            "|     the|[-0.060954493, -0.08232107, 0.31499305, 0.12840052, -0.01...|     [7.77230332673885,8.005475053468887,-2.271736013190039]|fiscal-year|\n",
            "| Company|[-0.06074696, 0.27488312, 0.07146063, -0.39569926, 0.7331...|   [3.2013668405560214,3.937854790584655,-2.406238603092233]|fiscal-year|\n",
            "|       (|[0.110985324, -0.23188369, 0.11235473, 0.07458283, 0.8660...|   [3.269571804637959,1.5800735810201134,2.1269500437774234]|fiscal-year|\n",
            "|  herein|[-0.08064859, -0.058290023, 0.0014471374, -0.01494734, 0....| [5.247826039352115,0.5408417657370646,-0.47203405448576574]|fiscal-year|\n",
            "|  called|[0.053557806, 0.15397249, 0.060474608, 0.4370787, 1.20824...|   [4.847898216209749,1.4702102417997367,0.5524336349777422]|fiscal-year|\n",
            "|     the|[-0.08710292, 0.07147774, 0.15197286, 0.064896256, -0.081...|   [6.271760317901665,5.412338972542296,-0.6796084839958201]|fiscal-year|\n",
            "|       \"|[0.055207815, 0.19191758, 0.009991504, -0.002567485, 1.04...|[2.4479726850149217,1.5318524384079215,-0.10305883622591752]|fiscal-year|\n",
            "|  fiscal|[-0.1470953, 0.01782197, 0.27213296, -0.48752263, -0.4870...|[5.302236740600088,-0.15669450550898825,-1.4091690076473595]|fiscal-year|\n",
            "|    year|[0.095891975, -0.018594256, 0.24576741, -0.5265815, 0.230...|   [9.220593008510424,1.3564914956023917,1.4299372998005777]|fiscal-year|\n",
            "|      \")|[0.078799084, -0.059296016, -0.094316624, 0.2230134, 0.49...|   [1.9428341433794285,1.5016615615898998,2.006955153494797]|fiscal-year|\n",
            "|   shall|[-0.18689272, -0.030554991, 0.24993144, -0.08885674, -0.1...|    [5.095637934479384,6.438950219915092,0.7663098417911028]|fiscal-year|\n",
            "|     end|[0.15657824, -0.16092332, 0.25242153, 0.055000648, -2.078...|[6.9425969581731914,1.3926450973052942,-0.31013222703115134]|fiscal-year|\n",
            "|      on|[0.37850147, 0.45011467, 0.3628455, 0.48866218, 0.7129808...|   [7.604271715902337,3.4642732856316387,1.3114421435598524]|fiscal-year|\n",
            "|December|[0.46872914, 0.040406726, -0.021835068, 0.1527489, 1.0853...|   [6.591853614995775,2.6569153728991117,-3.111520758927112]|fiscal-year|\n",
            "|      31|[0.20654202, 0.15854497, 0.18410315, 0.0818382, 0.7390951...|     [4.47430585393639,1.845559780475156,0.5983510001342645]|fiscal-year|\n",
            "|      of|[0.043495774, -0.11597665, 0.090747505, -0.10574559, 1.07...|  [6.01819019460602,3.198919645098623,-0.014779883075421147]|fiscal-year|\n",
            "+--------+------------------------------------------------------------+------------------------------------------------------------+-----------+\n",
            "only showing top 20 rows\n",
            "\n"
          ]
        }
      ],
      "source": [
        "result.select(\"token\", \"embeddings\", \"pca_features\", \"label\").show(truncate = 60)"
      ]
    },
    {
      "cell_type": "code",
      "execution_count": null,
      "id": "2299c9bc-8e8e-4c49-ad29-133df31da543",
      "metadata": {
        "id": "2299c9bc-8e8e-4c49-ad29-133df31da543"
      },
      "outputs": [],
      "source": [
        "df = result.select('token', 'pca_features',  'label').toPandas()\n",
        "\n",
        "df"
      ]
    },
    {
      "cell_type": "code",
      "execution_count": null,
      "id": "20443a2f-9e6e-4cd2-885e-b42720bcb840",
      "metadata": {
        "id": "20443a2f-9e6e-4cd2-885e-b42720bcb840"
      },
      "outputs": [],
      "source": [
        "df[\"x\"] = df[\"pca_features\"].apply(lambda x: x[0])\n",
        "\n",
        "df[\"y\"] = df[\"pca_features\"].apply(lambda x: x[1])\n",
        "\n",
        "df[\"z\"] = df[\"pca_features\"].apply(lambda x: x[2])\n",
        "\n",
        "df = df[[\"token\", \"x\", \"y\", \"z\", \"label\"]]\n",
        "\n",
        "df"
      ]
    },
    {
      "cell_type": "code",
      "execution_count": null,
      "id": "e96d9799-e838-4cdc-903e-dbd5cdc37aa9",
      "metadata": {
        "id": "e96d9799-e838-4cdc-903e-dbd5cdc37aa9",
        "tags": []
      },
      "outputs": [],
      "source": [
        "import plotly.express as px\n",
        "\n",
        "fig = px.scatter_3d(df, x = 'x', y = 'y', z = 'z', color = \"label\", width=1000, height = 800, hover_data = [\"token\", \"label\"])\n",
        "\n",
        "fig.show()"
      ]
    },
    {
      "cell_type": "markdown",
      "id": "i8Vd4v12AYZs",
      "metadata": {
        "id": "i8Vd4v12AYZs"
      },
      "source": [
        "You can see how the same token gets different embeddings depending on the context."
      ]
    }
  ],
  "metadata": {
    "colab": {
      "machine_shape": "hm",
      "provenance": []
    },
    "kernelspec": {
      "display_name": "Python 3",
      "name": "python3"
    },
    "language_info": {
      "name": "python"
    }
  },
  "nbformat": 4,
  "nbformat_minor": 5
}
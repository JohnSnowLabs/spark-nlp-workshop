{
  "nbformat": 4,
  "nbformat_minor": 0,
  "metadata": {
    "colab": {
      "provenance": []
    },
    "kernelspec": {
      "name": "python3",
      "display_name": "Python 3"
    },
    "language_info": {
      "name": "python"
    }
  },
  "cells": [
    {
      "cell_type": "markdown",
      "metadata": {
        "id": "LWoEwxGWo1iI"
      },
      "source": [
        "![JohnSnowLabs](https://nlp.johnsnowlabs.com/assets/images/logo.png)"
      ]
    },
    {
      "cell_type": "markdown",
      "metadata": {
        "id": "k5NVFZYOIs_A"
      },
      "source": [
        "[![Open In Colab](https://colab.research.google.com/assets/colab-badge.svg)](https://colab.research.google.com/github/JohnSnowLabs/spark-nlp-workshop/blob/master/legal-nlp/04.5.Classifying_with_WindowSplitting.ipynb)"
      ]
    },
    {
      "cell_type": "markdown",
      "metadata": {
        "id": "7vpPa8JDRKJ6"
      },
      "source": [
        "# **Splitting with Contextual Window Embeddings**\n"
      ]
    },
    {
      "cell_type": "markdown",
      "metadata": {
        "collapsed": false,
        "id": "gk3kZHmNj51v"
      },
      "source": [
        "#🎬 Installation"
      ]
    },
    {
      "cell_type": "code",
      "execution_count": null,
      "metadata": {
        "id": "_914itZsj51v",
        "pycharm": {
          "is_executing": true
        }
      },
      "outputs": [],
      "source": [
        "! pip install -q johnsnowlabs"
      ]
    },
    {
      "cell_type": "markdown",
      "metadata": {
        "id": "YPsbAnNoPt0Z"
      },
      "source": [
        "##🔗 Automatic Installation\n",
        "Using my.johnsnowlabs.com SSO"
      ]
    },
    {
      "cell_type": "code",
      "execution_count": null,
      "metadata": {
        "id": "fY0lcShkj51w",
        "pycharm": {
          "is_executing": true
        }
      },
      "outputs": [],
      "source": [
        "from johnsnowlabs import nlp, legal\n",
        "\n",
        "# nlp.install(force_browser=True)"
      ]
    },
    {
      "cell_type": "markdown",
      "metadata": {
        "id": "hsJvn_WWM2GL"
      },
      "source": [
        "##🔗 Manual downloading\n",
        "If you are not registered in my.johnsnowlabs.com, you received a license via e-email or you are using Safari, you may need to do a manual update of the license.\n",
        "\n",
        "- Go to my.johnsnowlabs.com\n",
        "- Download your license\n",
        "- Upload it using the following command"
      ]
    },
    {
      "cell_type": "code",
      "execution_count": null,
      "metadata": {
        "id": "i57QV3-_P2sQ"
      },
      "outputs": [],
      "source": [
        "from google.colab import files\n",
        "print('Please Upload your John Snow Labs License using the button below')\n",
        "license_keys = files.upload()"
      ]
    },
    {
      "cell_type": "markdown",
      "metadata": {
        "id": "xGgNdFzZP_hQ"
      },
      "source": [
        "- Install it"
      ]
    },
    {
      "cell_type": "code",
      "execution_count": null,
      "metadata": {
        "id": "OfmmPqknP4rR"
      },
      "outputs": [],
      "source": [
        "nlp.install()"
      ]
    },
    {
      "cell_type": "markdown",
      "metadata": {
        "id": "DCl5ErZkNNLk"
      },
      "source": [
        "#📌 Starting"
      ]
    },
    {
      "cell_type": "code",
      "execution_count": null,
      "metadata": {
        "id": "wRXTnNl3j51w"
      },
      "outputs": [],
      "source": [
        "spark = nlp.start()"
      ]
    },
    {
      "cell_type": "markdown",
      "metadata": {
        "id": "74b31459-0f72-47f1-90f1-1e4941c0e269"
      },
      "source": [
        "##📃 Sentence Splitting with Contextual Window Embeddings\n",
        "Classifiers, in order to properly manage the text length, require to split big documents into smaller chunks. This can be done at sentence, paragraph, section or page level.\n",
        "\n",
        "However, after splitting, the Classifier will only see the splits, and the rest of the text becomes out of reach for them to be taken into account.\n",
        "\n",
        "This creates several issues:\n",
        "\n",
        "1️⃣- Small splits may not have a meaning of their own if not combined with the surroundings.\n",
        "\n",
        "2️⃣- Splits may be ambiguous, and disambiguation may only happen taking into account the surroundings.\n",
        "\n",
        "Fortunately, `WindowedSentenceModel` can help to provide some context from the surroundings."
      ]
    },
    {
      "cell_type": "markdown",
      "source": [
        "# Comparing Classification of isolated sentences with contexualized"
      ],
      "metadata": {
        "id": "XOU8wnB2xvaB"
      }
    },
    {
      "cell_type": "markdown",
      "source": [
        "First, let's take a document and split it by sentences. Then, we are going to run a classifier and see the results."
      ],
      "metadata": {
        "id": "LQ1_PvUxx85B"
      }
    },
    {
      "cell_type": "code",
      "source": [
        "!wget https://raw.githubusercontent.com/JohnSnowLabs/spark-nlp-workshop/master/legal-nlp/data/mnda_example.txt"
      ],
      "metadata": {
        "colab": {
          "base_uri": "https://localhost:8080/"
        },
        "id": "xx-DUy5Dx1or",
        "outputId": "70fa9878-d041-4ecb-bbeb-9d4091863bbc"
      },
      "execution_count": 5,
      "outputs": [
        {
          "output_type": "stream",
          "name": "stdout",
          "text": [
            "--2023-04-25 09:44:06--  https://raw.githubusercontent.com/JohnSnowLabs/spark-nlp-workshop/master/legal-nlp/data/mnda_example.txt\n",
            "Resolving raw.githubusercontent.com (raw.githubusercontent.com)... 185.199.108.133, 185.199.109.133, 185.199.110.133, ...\n",
            "Connecting to raw.githubusercontent.com (raw.githubusercontent.com)|185.199.108.133|:443... connected.\n",
            "HTTP request sent, awaiting response... 200 OK\n",
            "Length: 10836 (11K) [text/plain]\n",
            "Saving to: ‘mnda_example.txt’\n",
            "\n",
            "\rmnda_example.txt      0%[                    ]       0  --.-KB/s               \rmnda_example.txt    100%[===================>]  10.58K  --.-KB/s    in 0s      \n",
            "\n",
            "2023-04-25 09:44:06 (75.9 MB/s) - ‘mnda_example.txt’ saved [10836/10836]\n",
            "\n"
          ]
        }
      ]
    },
    {
      "cell_type": "code",
      "source": [
        "!head mnda_example.txt"
      ],
      "metadata": {
        "colab": {
          "base_uri": "https://localhost:8080/"
        },
        "id": "hFG-WAxOzJOd",
        "outputId": "396750ce-1e57-4930-b005-39c9c02fd714"
      },
      "execution_count": 6,
      "outputs": [
        {
          "output_type": "stream",
          "name": "stdout",
          "text": [
            "1  \r\n",
            "MUTUAL NONDISCLOSURE AGREEMENT  \r\n",
            "This Mutual Nondisclosure Agreement (the “Agreement”) is made on _________ (“Effective  \r\n",
            "Date”) by and between:  \r\n",
            "(1) John Snow Labs, a Delaware corporation, registered at 16192 Coastal Highway,  \r\n",
            "Lewes, Delaware 19958 (“John Snow Labs”), and   \r\n",
            "(2) Achiles, S.L, a Spanish corporation, registered at Gran Via, 2º floor, Offices 9\r\n",
            "and 10.(“Company”),  \r\n",
            "(each a “party” and together the “parties”).  \r\n",
            "Recitals:  \r\n"
          ]
        }
      ]
    },
    {
      "cell_type": "markdown",
      "source": [
        "This is an NDA text. We have a classifier for it which identifies which clause the text belongs to.\n",
        "\n",
        "However, it works much better with more text, so Context Windows will come in handy. Let's see them in action."
      ],
      "metadata": {
        "id": "Ybob9i1kzQOb"
      }
    },
    {
      "cell_type": "markdown",
      "source": [
        "## Sentence splitting"
      ],
      "metadata": {
        "id": "KQFvdt2vzOI8"
      }
    },
    {
      "cell_type": "markdown",
      "source": [
        "Let's get some sentences"
      ],
      "metadata": {
        "id": "1W0LwIPV0BTr"
      }
    },
    {
      "cell_type": "code",
      "source": [
        "with open('mnda_example.txt', 'r') as f:\n",
        "  text = f.read()\n",
        "\n",
        "df = spark.createDataFrame([[text]]).toDF(\"text\")"
      ],
      "metadata": {
        "id": "8QYW8qGA0LXt"
      },
      "execution_count": 113,
      "outputs": []
    },
    {
      "cell_type": "markdown",
      "source": [
        "Let's create first just a Sentence Splitting pipeline"
      ],
      "metadata": {
        "id": "y2A3aAAv0EYc"
      }
    },
    {
      "cell_type": "code",
      "source": [
        "doc_assembler = nlp.DocumentAssembler()\\\n",
        "  .setInputCol(\"text\")\\\n",
        "  .setOutputCol(\"document\")\n",
        "\n",
        "sentence_detector = nlp.SentenceDetector()\\\n",
        "  .setInputCols([\"document\"])\\\n",
        "  .setOutputCol(\"isolated_sentence\")\n",
        "\n",
        "sentence_pipeline = nlp.Pipeline(stages=[doc_assembler, sentence_detector])\n",
        "\n",
        "sentence_pipeline_model = sentence_pipeline.fit(df)\n",
        "\n",
        "sentence_pipeline_lp = nlp.LightPipeline(sentence_pipeline_model)"
      ],
      "metadata": {
        "id": "HW3_DWuwzPfc"
      },
      "execution_count": 116,
      "outputs": []
    },
    {
      "cell_type": "code",
      "source": [
        "from pyspark.sql import functions as F\n",
        "\n",
        "isolated_sentences = sentence_pipeline_lp.annotate(text)['isolated_sentence'][:25]\n",
        "isolated_sentences"
      ],
      "metadata": {
        "colab": {
          "base_uri": "https://localhost:8080/"
        },
        "id": "mpEowas_0AI8",
        "outputId": "f205a415-c62a-40be-c8ef-688bcbcf4bd3"
      },
      "execution_count": 117,
      "outputs": [
        {
          "output_type": "execute_result",
          "data": {
            "text/plain": [
              "['1  \\nMUTUAL NONDISCLOSURE AGREEMENT  \\nThis Mutual Nondisclosure Agreement (the “Agreement”) is made on _________ (“Effective  \\nDate”) by and between:  \\n(1) John Snow Labs, a Delaware corporation, registered at 16192 Coastal Highway,  \\nLewes, Delaware 19958 (“John Snow Labs”), and   \\n(2) Achiles, S.L, a Spanish corporation, registered at Gran Via, 2º floor, Offices 9\\nand 10.(“Company”),  \\n(each a “party” and together the “parties”).',\n",
              " 'Recitals:  \\nJohn Snow Labs and Company intend to explore the possibility of a business relationship  \\nbetween each other, whereby each party (“Discloser”) may disclose sensitive information to the  \\nother party (“Recipient”).',\n",
              " 'The parties agree as follows:',\n",
              " '1. Definition.',\n",
              " '1.1 The term “Confidential Information” means, to the extent previously, presently or  \\nsubsequently disclosed by or for Discloser to Recipient (whether in writing, orally or by  \\nanother means), all financial, business, economic, legal, competitively sensitive and technical  \\ninformation of Discloser or any of its affiliates, suppliers, customers and employees  \\n(including, without limitation, information about research, development, operations,  \\nmarketing, transactions, regulatory affairs, discoveries, inventions, methods, processes,  \\narticles, materials, algorithms, software, specifications, designs, drawings, data, strategies,  \\ncodes, patterns, plans, prospects, know-how, formulas, prototypes, procedures, concepts and  \\nideas, whether tangible or intangible, and including all copies, abstracts, summaries, analyses  \\nand other derivatives thereof), that is marked, traditionally recognized or otherwise identified  \\nas proprietary or confidential at the time of disclosure, or that by its nature would be  \\nunderstood by a reasonable person to be proprietary or confidential.',\n",
              " '1.2 Confidential Information shall not include any information that:',\n",
              " '(a)  was rightfully known to Recipient without restriction before receipt from Discloser;',\n",
              " '(b)  is rightfully disclosed to Recipient without restriction by a third party;',\n",
              " '(c)  is or becomes generally known to the public without violation of this Agreement by  \\nRecipient;',\n",
              " 'or',\n",
              " '(d)  is independently developed by Recipient or its employees without access to or reliance  \\non such information.',\n",
              " 'June 8, 2022 \\n  \\n 2  \\n1.3 Discloser represents and warrants to Recipient that it is authorized to disclose any and all  \\nConfidential Information made available to Recipient under this Agreement.',\n",
              " '2. Restrictions.',\n",
              " '2.1 As to the Discloser of Confidential Information, Recipient agrees:',\n",
              " '(a)  to use the Confidential Information only for the purpose set out in this Agreement and  \\nfor its consideration internally of a business relationship or transaction between the  \\nparties, and its performance in any resulting arrangement, but not for any other  \\npurpose;',\n",
              " '(b)  to strictly maintain the Confidential Information as confidential, and exercise  \\nreasonable precautions to prevent any unauthorized access, use or disclosure;',\n",
              " '(c)  not to copy the Confidential Information without a prior written approval of Discloser  \\nand for any purpose other than set out in this Agreement;',\n",
              " '(d)  not to disclose the Confidential Information to any third party other than Recipient’s  \\nemployees and agents who have a need to know for the permitted purpose and who are  \\napprised of the confidential nature of the Confidential Information and all of the  \\nrestrictions in this Agreement;',\n",
              " '(e)  not to decompile, disassemble or otherwise reverse engineer of any Confidential  \\nInformation, or use any similar means to discover its underlying composition,  \\nstructure, source code or trade secrets;',\n",
              " 'and',\n",
              " '(f)  not to export or re-export any Confidential Information or product thereof in violation  \\nof U.S. or other export control laws or regulations.',\n",
              " '2.2 Recipient acknowledges the confidential character of the Confidential Information, therefore  \\nundertakes to protect and maintain strictly such information in the same grade of protection  \\nas its own Confidential Information, but in no case any less than reasonable care.',\n",
              " '2.3 The terms and conditions of any transaction or possible transaction between the parties, the  \\nfact that disclosures, evaluations or discussions are taking place, and the status and results  \\nthereof will also be held in confidence by both parties and not disclosed to any third party.',\n",
              " 'Each party shall be responsible for any breach of its confidentiality obligations by its  \\nrespective employees and agents.',\n",
              " '3. Compelled Disclosures.']"
            ]
          },
          "metadata": {},
          "execution_count": 117
        }
      ]
    },
    {
      "cell_type": "markdown",
      "source": [
        "Let's store the embeddings in a separate object to use it for classification purposes"
      ],
      "metadata": {
        "id": "edSnyEvZFymc"
      }
    },
    {
      "cell_type": "markdown",
      "source": [
        "## Now, let's see our classifier in action with those splits"
      ],
      "metadata": {
        "id": "nC0ZTQiZ0vwJ"
      }
    },
    {
      "cell_type": "code",
      "source": [
        "embeddings = nlp.UniversalSentenceEncoder.pretrained()\\\n",
        "                    .setInputCols([\"document\"])\\\n",
        "                    .setOutputCol(\"embeddings\")\n",
        "\n",
        "classifier = nlp.MultiClassifierDLModel.pretrained(\"legmulticlf_mnda_sections_paragraph_other\", \"en\", \"legal/models\")\\\n",
        "                    .setInputCols([\"embeddings\"])\\\n",
        "                    .setOutputCol(\"label\")\n",
        "\n",
        "prediction_pipeline = nlp.Pipeline(stages=[doc_assembler, embeddings, classifier])\n",
        "\n",
        "prediction_model = prediction_pipeline.fit(df)\n",
        "\n",
        "prediction_lp = nlp.LightPipeline(prediction_model)"
      ],
      "metadata": {
        "colab": {
          "base_uri": "https://localhost:8080/"
        },
        "id": "GRqVsL8S0eNX",
        "outputId": "a005f51b-e833-429f-c08c-87988e80835e"
      },
      "execution_count": 121,
      "outputs": [
        {
          "output_type": "stream",
          "name": "stdout",
          "text": [
            "tfhub_use download started this may take some time.\n",
            "Approximate size to download 923.7 MB\n",
            "[OK!]\n",
            "legmulticlf_mnda_sections_paragraph_other download started this may take some time.\n",
            "Approximate size to download 12.7 MB\n",
            "[OK!]\n"
          ]
        }
      ]
    },
    {
      "cell_type": "markdown",
      "source": [
        "Now, let's create a dataframe where we will store the sentences and the labels to compare the different methods"
      ],
      "metadata": {
        "id": "fjdKjy3EB0Ve"
      }
    },
    {
      "cell_type": "code",
      "source": [
        "import pandas as pd\n",
        "\n",
        "comparison_table = []\n",
        "\n",
        "for s in isolated_sentences:\n",
        "  label = prediction_lp.annotate(s)['label']\n",
        "\n",
        "  if len(label) == 0:\n",
        "    label = ['OTHER']\n",
        "  comparison_table.append(        (s, label)   )\n",
        "\n",
        "comparison_table_df = pd.DataFrame(comparison_table, columns=['sentence', 'label_no_context'])"
      ],
      "metadata": {
        "id": "ZEZDIKhw9OxP"
      },
      "execution_count": 122,
      "outputs": []
    },
    {
      "cell_type": "code",
      "source": [
        "comparison_table_df"
      ],
      "metadata": {
        "colab": {
          "base_uri": "https://localhost:8080/",
          "height": 833
        },
        "id": "XtKZa9FNCDXD",
        "outputId": "9682c589-f229-4ec3-83d8-a08137dcc21f"
      },
      "execution_count": 123,
      "outputs": [
        {
          "output_type": "execute_result",
          "data": {
            "text/plain": [
              "                                             sentence    label_no_context\n",
              "0   1  \\nMUTUAL NONDISCLOSURE AGREEMENT  \\nThis Mu...  [NAMES_OF_PARTIES]\n",
              "1   Recitals:  \\nJohn Snow Labs and Company intend...          [PREAMBLE]\n",
              "2                       The parties agree as follows:       [TERMINATION]\n",
              "3                                      1. Definition.  [DEF_OF_CONF_INFO]\n",
              "4   1.1 The term “Confidential Information” means,...  [DEF_OF_CONF_INFO]\n",
              "5   1.2 Confidential Information shall not include...             [OTHER]\n",
              "6   (a)  was rightfully known to Recipient without...             [OTHER]\n",
              "7   (b)  is rightfully disclosed to Recipient with...             [OTHER]\n",
              "8   (c)  is or becomes generally known to the publ...        [EXCEPTIONS]\n",
              "9                                                  or             [OTHER]\n",
              "10  (d)  is independently developed by Recipient o...        [EXCEPTIONS]\n",
              "11  June 8, 2022 \\n  \\n 2  \\n1.3 Discloser represe...             [OTHER]\n",
              "12                                   2. Restrictions.             [OTHER]\n",
              "13  2.1 As to the Discloser of Confidential Inform...             [OTHER]\n",
              "14  (a)  to use the Confidential Information only ...          [PREAMBLE]\n",
              "15  (b)  to strictly maintain the Confidential Inf...  [USE_OF_CONF_INFO]\n",
              "16  (c)  not to copy the Confidential Information ...             [OTHER]\n",
              "17  (d)  not to disclose the Confidential Informat...  [USE_OF_CONF_INFO]\n",
              "18  (e)  not to decompile, disassemble or otherwis...  [USE_OF_CONF_INFO]\n",
              "19                                                and             [OTHER]\n",
              "20  (f)  not to export or re-export any Confidenti...             [OTHER]\n",
              "21  2.2 Recipient acknowledges the confidential ch...  [REQ_DISCL, OTHER]\n",
              "22  2.3 The terms and conditions of any transactio...             [OTHER]\n",
              "23  Each party shall be responsible for any breach...  [USE_OF_CONF_INFO]\n",
              "24                          3. Compelled Disclosures.             [OTHER]"
            ],
            "text/html": [
              "\n",
              "  <div id=\"df-d0a9b6e0-15b1-4a0f-b602-48611fcd6f5d\">\n",
              "    <div class=\"colab-df-container\">\n",
              "      <div>\n",
              "<style scoped>\n",
              "    .dataframe tbody tr th:only-of-type {\n",
              "        vertical-align: middle;\n",
              "    }\n",
              "\n",
              "    .dataframe tbody tr th {\n",
              "        vertical-align: top;\n",
              "    }\n",
              "\n",
              "    .dataframe thead th {\n",
              "        text-align: right;\n",
              "    }\n",
              "</style>\n",
              "<table border=\"1\" class=\"dataframe\">\n",
              "  <thead>\n",
              "    <tr style=\"text-align: right;\">\n",
              "      <th></th>\n",
              "      <th>sentence</th>\n",
              "      <th>label_no_context</th>\n",
              "    </tr>\n",
              "  </thead>\n",
              "  <tbody>\n",
              "    <tr>\n",
              "      <th>0</th>\n",
              "      <td>1  \\nMUTUAL NONDISCLOSURE AGREEMENT  \\nThis Mu...</td>\n",
              "      <td>[NAMES_OF_PARTIES]</td>\n",
              "    </tr>\n",
              "    <tr>\n",
              "      <th>1</th>\n",
              "      <td>Recitals:  \\nJohn Snow Labs and Company intend...</td>\n",
              "      <td>[PREAMBLE]</td>\n",
              "    </tr>\n",
              "    <tr>\n",
              "      <th>2</th>\n",
              "      <td>The parties agree as follows:</td>\n",
              "      <td>[TERMINATION]</td>\n",
              "    </tr>\n",
              "    <tr>\n",
              "      <th>3</th>\n",
              "      <td>1. Definition.</td>\n",
              "      <td>[DEF_OF_CONF_INFO]</td>\n",
              "    </tr>\n",
              "    <tr>\n",
              "      <th>4</th>\n",
              "      <td>1.1 The term “Confidential Information” means,...</td>\n",
              "      <td>[DEF_OF_CONF_INFO]</td>\n",
              "    </tr>\n",
              "    <tr>\n",
              "      <th>5</th>\n",
              "      <td>1.2 Confidential Information shall not include...</td>\n",
              "      <td>[OTHER]</td>\n",
              "    </tr>\n",
              "    <tr>\n",
              "      <th>6</th>\n",
              "      <td>(a)  was rightfully known to Recipient without...</td>\n",
              "      <td>[OTHER]</td>\n",
              "    </tr>\n",
              "    <tr>\n",
              "      <th>7</th>\n",
              "      <td>(b)  is rightfully disclosed to Recipient with...</td>\n",
              "      <td>[OTHER]</td>\n",
              "    </tr>\n",
              "    <tr>\n",
              "      <th>8</th>\n",
              "      <td>(c)  is or becomes generally known to the publ...</td>\n",
              "      <td>[EXCEPTIONS]</td>\n",
              "    </tr>\n",
              "    <tr>\n",
              "      <th>9</th>\n",
              "      <td>or</td>\n",
              "      <td>[OTHER]</td>\n",
              "    </tr>\n",
              "    <tr>\n",
              "      <th>10</th>\n",
              "      <td>(d)  is independently developed by Recipient o...</td>\n",
              "      <td>[EXCEPTIONS]</td>\n",
              "    </tr>\n",
              "    <tr>\n",
              "      <th>11</th>\n",
              "      <td>June 8, 2022 \\n  \\n 2  \\n1.3 Discloser represe...</td>\n",
              "      <td>[OTHER]</td>\n",
              "    </tr>\n",
              "    <tr>\n",
              "      <th>12</th>\n",
              "      <td>2. Restrictions.</td>\n",
              "      <td>[OTHER]</td>\n",
              "    </tr>\n",
              "    <tr>\n",
              "      <th>13</th>\n",
              "      <td>2.1 As to the Discloser of Confidential Inform...</td>\n",
              "      <td>[OTHER]</td>\n",
              "    </tr>\n",
              "    <tr>\n",
              "      <th>14</th>\n",
              "      <td>(a)  to use the Confidential Information only ...</td>\n",
              "      <td>[PREAMBLE]</td>\n",
              "    </tr>\n",
              "    <tr>\n",
              "      <th>15</th>\n",
              "      <td>(b)  to strictly maintain the Confidential Inf...</td>\n",
              "      <td>[USE_OF_CONF_INFO]</td>\n",
              "    </tr>\n",
              "    <tr>\n",
              "      <th>16</th>\n",
              "      <td>(c)  not to copy the Confidential Information ...</td>\n",
              "      <td>[OTHER]</td>\n",
              "    </tr>\n",
              "    <tr>\n",
              "      <th>17</th>\n",
              "      <td>(d)  not to disclose the Confidential Informat...</td>\n",
              "      <td>[USE_OF_CONF_INFO]</td>\n",
              "    </tr>\n",
              "    <tr>\n",
              "      <th>18</th>\n",
              "      <td>(e)  not to decompile, disassemble or otherwis...</td>\n",
              "      <td>[USE_OF_CONF_INFO]</td>\n",
              "    </tr>\n",
              "    <tr>\n",
              "      <th>19</th>\n",
              "      <td>and</td>\n",
              "      <td>[OTHER]</td>\n",
              "    </tr>\n",
              "    <tr>\n",
              "      <th>20</th>\n",
              "      <td>(f)  not to export or re-export any Confidenti...</td>\n",
              "      <td>[OTHER]</td>\n",
              "    </tr>\n",
              "    <tr>\n",
              "      <th>21</th>\n",
              "      <td>2.2 Recipient acknowledges the confidential ch...</td>\n",
              "      <td>[REQ_DISCL, OTHER]</td>\n",
              "    </tr>\n",
              "    <tr>\n",
              "      <th>22</th>\n",
              "      <td>2.3 The terms and conditions of any transactio...</td>\n",
              "      <td>[OTHER]</td>\n",
              "    </tr>\n",
              "    <tr>\n",
              "      <th>23</th>\n",
              "      <td>Each party shall be responsible for any breach...</td>\n",
              "      <td>[USE_OF_CONF_INFO]</td>\n",
              "    </tr>\n",
              "    <tr>\n",
              "      <th>24</th>\n",
              "      <td>3. Compelled Disclosures.</td>\n",
              "      <td>[OTHER]</td>\n",
              "    </tr>\n",
              "  </tbody>\n",
              "</table>\n",
              "</div>\n",
              "      <button class=\"colab-df-convert\" onclick=\"convertToInteractive('df-d0a9b6e0-15b1-4a0f-b602-48611fcd6f5d')\"\n",
              "              title=\"Convert this dataframe to an interactive table.\"\n",
              "              style=\"display:none;\">\n",
              "        \n",
              "  <svg xmlns=\"http://www.w3.org/2000/svg\" height=\"24px\"viewBox=\"0 0 24 24\"\n",
              "       width=\"24px\">\n",
              "    <path d=\"M0 0h24v24H0V0z\" fill=\"none\"/>\n",
              "    <path d=\"M18.56 5.44l.94 2.06.94-2.06 2.06-.94-2.06-.94-.94-2.06-.94 2.06-2.06.94zm-11 1L8.5 8.5l.94-2.06 2.06-.94-2.06-.94L8.5 2.5l-.94 2.06-2.06.94zm10 10l.94 2.06.94-2.06 2.06-.94-2.06-.94-.94-2.06-.94 2.06-2.06.94z\"/><path d=\"M17.41 7.96l-1.37-1.37c-.4-.4-.92-.59-1.43-.59-.52 0-1.04.2-1.43.59L10.3 9.45l-7.72 7.72c-.78.78-.78 2.05 0 2.83L4 21.41c.39.39.9.59 1.41.59.51 0 1.02-.2 1.41-.59l7.78-7.78 2.81-2.81c.8-.78.8-2.07 0-2.86zM5.41 20L4 18.59l7.72-7.72 1.47 1.35L5.41 20z\"/>\n",
              "  </svg>\n",
              "      </button>\n",
              "      \n",
              "  <style>\n",
              "    .colab-df-container {\n",
              "      display:flex;\n",
              "      flex-wrap:wrap;\n",
              "      gap: 12px;\n",
              "    }\n",
              "\n",
              "    .colab-df-convert {\n",
              "      background-color: #E8F0FE;\n",
              "      border: none;\n",
              "      border-radius: 50%;\n",
              "      cursor: pointer;\n",
              "      display: none;\n",
              "      fill: #1967D2;\n",
              "      height: 32px;\n",
              "      padding: 0 0 0 0;\n",
              "      width: 32px;\n",
              "    }\n",
              "\n",
              "    .colab-df-convert:hover {\n",
              "      background-color: #E2EBFA;\n",
              "      box-shadow: 0px 1px 2px rgba(60, 64, 67, 0.3), 0px 1px 3px 1px rgba(60, 64, 67, 0.15);\n",
              "      fill: #174EA6;\n",
              "    }\n",
              "\n",
              "    [theme=dark] .colab-df-convert {\n",
              "      background-color: #3B4455;\n",
              "      fill: #D2E3FC;\n",
              "    }\n",
              "\n",
              "    [theme=dark] .colab-df-convert:hover {\n",
              "      background-color: #434B5C;\n",
              "      box-shadow: 0px 1px 3px 1px rgba(0, 0, 0, 0.15);\n",
              "      filter: drop-shadow(0px 1px 2px rgba(0, 0, 0, 0.3));\n",
              "      fill: #FFFFFF;\n",
              "    }\n",
              "  </style>\n",
              "\n",
              "      <script>\n",
              "        const buttonEl =\n",
              "          document.querySelector('#df-d0a9b6e0-15b1-4a0f-b602-48611fcd6f5d button.colab-df-convert');\n",
              "        buttonEl.style.display =\n",
              "          google.colab.kernel.accessAllowed ? 'block' : 'none';\n",
              "\n",
              "        async function convertToInteractive(key) {\n",
              "          const element = document.querySelector('#df-d0a9b6e0-15b1-4a0f-b602-48611fcd6f5d');\n",
              "          const dataTable =\n",
              "            await google.colab.kernel.invokeFunction('convertToInteractive',\n",
              "                                                     [key], {});\n",
              "          if (!dataTable) return;\n",
              "\n",
              "          const docLinkHtml = 'Like what you see? Visit the ' +\n",
              "            '<a target=\"_blank\" href=https://colab.research.google.com/notebooks/data_table.ipynb>data table notebook</a>'\n",
              "            + ' to learn more about interactive tables.';\n",
              "          element.innerHTML = '';\n",
              "          dataTable['output_type'] = 'display_data';\n",
              "          await google.colab.output.renderOutput(dataTable, element);\n",
              "          const docLink = document.createElement('div');\n",
              "          docLink.innerHTML = docLinkHtml;\n",
              "          element.appendChild(docLink);\n",
              "        }\n",
              "      </script>\n",
              "    </div>\n",
              "  </div>\n",
              "  "
            ]
          },
          "metadata": {},
          "execution_count": 123
        }
      ]
    },
    {
      "cell_type": "markdown",
      "source": [
        "# Now, let's use Context Windows.\n",
        "Context windows give to each sentence, a context of ```[-n, +n]``` so that the model cna classify them with more information.\n",
        "\n",
        "```n``` is a number of sentences which is configurable."
      ],
      "metadata": {
        "id": "_A0qQppY1xQy"
      }
    },
    {
      "cell_type": "code",
      "source": [
        "from johnsnowlabs import legal\n",
        "\n",
        "context_window = legal.WindowedSentenceModel()\\\n",
        "                    .setInputCols([\"isolated_sentence\"])\\\n",
        "                    .setOutputCol(\"window\")\\\n",
        "                    .setWindowSize(1)\n",
        "\n",
        "window_splitting_pipeline = nlp.Pipeline(stages=[doc_assembler, sentence_detector, context_window])\n",
        "\n",
        "window_splitting_model = window_splitting_pipeline.fit(df)\n",
        "\n",
        "window_splitting_lp = nlp.LightPipeline(window_splitting_model)"
      ],
      "metadata": {
        "id": "SoznAphM4oQg"
      },
      "execution_count": 131,
      "outputs": []
    },
    {
      "cell_type": "code",
      "source": [
        "from pyspark.sql import functions as F\n",
        "\n",
        "windows = window_splitting_lp.annotate(text)['window'][:25]\n",
        "windows"
      ],
      "metadata": {
        "colab": {
          "base_uri": "https://localhost:8080/"
        },
        "id": "zMDZJ9QtM-Gz",
        "outputId": "fc5e74e3-e8b0-4a9a-d54d-30d610ee6c28"
      },
      "execution_count": 132,
      "outputs": [
        {
          "output_type": "execute_result",
          "data": {
            "text/plain": [
              "['1  \\nMUTUAL NONDISCLOSURE AGREEMENT  \\nThis Mutual Nondisclosure Agreement (the “Agreement”) is made on _________ (“Effective  \\nDate”) by and between:  \\n(1) John Snow Labs, a Delaware corporation, registered at 16192 Coastal Highway,  \\nLewes, Delaware 19958 (“John Snow Labs”), and   \\n(2) Achiles, S.L, a Spanish corporation, registered at Gran Via, 2º floor, Offices 9\\nand 10.(“Company”),  \\n(each a “party” and together the “parties”). Recitals:  \\nJohn Snow Labs and Company intend to explore the possibility of a business relationship  \\nbetween each other, whereby each party (“Discloser”) may disclose sensitive information to the  \\nother party (“Recipient”).',\n",
              " '1  \\nMUTUAL NONDISCLOSURE AGREEMENT  \\nThis Mutual Nondisclosure Agreement (the “Agreement”) is made on _________ (“Effective  \\nDate”) by and between:  \\n(1) John Snow Labs, a Delaware corporation, registered at 16192 Coastal Highway,  \\nLewes, Delaware 19958 (“John Snow Labs”), and   \\n(2) Achiles, S.L, a Spanish corporation, registered at Gran Via, 2º floor, Offices 9\\nand 10.(“Company”),  \\n(each a “party” and together the “parties”). Recitals:  \\nJohn Snow Labs and Company intend to explore the possibility of a business relationship  \\nbetween each other, whereby each party (“Discloser”) may disclose sensitive information to the  \\nother party (“Recipient”). The parties agree as follows:',\n",
              " 'Recitals:  \\nJohn Snow Labs and Company intend to explore the possibility of a business relationship  \\nbetween each other, whereby each party (“Discloser”) may disclose sensitive information to the  \\nother party (“Recipient”). The parties agree as follows: 1. Definition.',\n",
              " 'The parties agree as follows: 1. Definition. 1.1 The term “Confidential Information” means, to the extent previously, presently or  \\nsubsequently disclosed by or for Discloser to Recipient (whether in writing, orally or by  \\nanother means), all financial, business, economic, legal, competitively sensitive and technical  \\ninformation of Discloser or any of its affiliates, suppliers, customers and employees  \\n(including, without limitation, information about research, development, operations,  \\nmarketing, transactions, regulatory affairs, discoveries, inventions, methods, processes,  \\narticles, materials, algorithms, software, specifications, designs, drawings, data, strategies,  \\ncodes, patterns, plans, prospects, know-how, formulas, prototypes, procedures, concepts and  \\nideas, whether tangible or intangible, and including all copies, abstracts, summaries, analyses  \\nand other derivatives thereof), that is marked, traditionally recognized or otherwise identified  \\nas proprietary or confidential at the time of disclosure, or that by its nature would be  \\nunderstood by a reasonable person to be proprietary or confidential.',\n",
              " '1. Definition. 1.1 The term “Confidential Information” means, to the extent previously, presently or  \\nsubsequently disclosed by or for Discloser to Recipient (whether in writing, orally or by  \\nanother means), all financial, business, economic, legal, competitively sensitive and technical  \\ninformation of Discloser or any of its affiliates, suppliers, customers and employees  \\n(including, without limitation, information about research, development, operations,  \\nmarketing, transactions, regulatory affairs, discoveries, inventions, methods, processes,  \\narticles, materials, algorithms, software, specifications, designs, drawings, data, strategies,  \\ncodes, patterns, plans, prospects, know-how, formulas, prototypes, procedures, concepts and  \\nideas, whether tangible or intangible, and including all copies, abstracts, summaries, analyses  \\nand other derivatives thereof), that is marked, traditionally recognized or otherwise identified  \\nas proprietary or confidential at the time of disclosure, or that by its nature would be  \\nunderstood by a reasonable person to be proprietary or confidential. 1.2 Confidential Information shall not include any information that:',\n",
              " '1.1 The term “Confidential Information” means, to the extent previously, presently or  \\nsubsequently disclosed by or for Discloser to Recipient (whether in writing, orally or by  \\nanother means), all financial, business, economic, legal, competitively sensitive and technical  \\ninformation of Discloser or any of its affiliates, suppliers, customers and employees  \\n(including, without limitation, information about research, development, operations,  \\nmarketing, transactions, regulatory affairs, discoveries, inventions, methods, processes,  \\narticles, materials, algorithms, software, specifications, designs, drawings, data, strategies,  \\ncodes, patterns, plans, prospects, know-how, formulas, prototypes, procedures, concepts and  \\nideas, whether tangible or intangible, and including all copies, abstracts, summaries, analyses  \\nand other derivatives thereof), that is marked, traditionally recognized or otherwise identified  \\nas proprietary or confidential at the time of disclosure, or that by its nature would be  \\nunderstood by a reasonable person to be proprietary or confidential. 1.2 Confidential Information shall not include any information that: (a)  was rightfully known to Recipient without restriction before receipt from Discloser;',\n",
              " '1.2 Confidential Information shall not include any information that: (a)  was rightfully known to Recipient without restriction before receipt from Discloser; (b)  is rightfully disclosed to Recipient without restriction by a third party;',\n",
              " '(a)  was rightfully known to Recipient without restriction before receipt from Discloser; (b)  is rightfully disclosed to Recipient without restriction by a third party; (c)  is or becomes generally known to the public without violation of this Agreement by  \\nRecipient;',\n",
              " '(b)  is rightfully disclosed to Recipient without restriction by a third party; (c)  is or becomes generally known to the public without violation of this Agreement by  \\nRecipient; or',\n",
              " '(c)  is or becomes generally known to the public without violation of this Agreement by  \\nRecipient; or (d)  is independently developed by Recipient or its employees without access to or reliance  \\non such information.',\n",
              " 'or (d)  is independently developed by Recipient or its employees without access to or reliance  \\non such information. June 8, 2022 \\n  \\n 2  \\n1.3 Discloser represents and warrants to Recipient that it is authorized to disclose any and all  \\nConfidential Information made available to Recipient under this Agreement.',\n",
              " '(d)  is independently developed by Recipient or its employees without access to or reliance  \\non such information. June 8, 2022 \\n  \\n 2  \\n1.3 Discloser represents and warrants to Recipient that it is authorized to disclose any and all  \\nConfidential Information made available to Recipient under this Agreement. 2. Restrictions.',\n",
              " 'June 8, 2022 \\n  \\n 2  \\n1.3 Discloser represents and warrants to Recipient that it is authorized to disclose any and all  \\nConfidential Information made available to Recipient under this Agreement. 2. Restrictions. 2.1 As to the Discloser of Confidential Information, Recipient agrees:',\n",
              " '2. Restrictions. 2.1 As to the Discloser of Confidential Information, Recipient agrees: (a)  to use the Confidential Information only for the purpose set out in this Agreement and  \\nfor its consideration internally of a business relationship or transaction between the  \\nparties, and its performance in any resulting arrangement, but not for any other  \\npurpose;',\n",
              " '2.1 As to the Discloser of Confidential Information, Recipient agrees: (a)  to use the Confidential Information only for the purpose set out in this Agreement and  \\nfor its consideration internally of a business relationship or transaction between the  \\nparties, and its performance in any resulting arrangement, but not for any other  \\npurpose; (b)  to strictly maintain the Confidential Information as confidential, and exercise  \\nreasonable precautions to prevent any unauthorized access, use or disclosure;',\n",
              " '(a)  to use the Confidential Information only for the purpose set out in this Agreement and  \\nfor its consideration internally of a business relationship or transaction between the  \\nparties, and its performance in any resulting arrangement, but not for any other  \\npurpose; (b)  to strictly maintain the Confidential Information as confidential, and exercise  \\nreasonable precautions to prevent any unauthorized access, use or disclosure; (c)  not to copy the Confidential Information without a prior written approval of Discloser  \\nand for any purpose other than set out in this Agreement;',\n",
              " '(b)  to strictly maintain the Confidential Information as confidential, and exercise  \\nreasonable precautions to prevent any unauthorized access, use or disclosure; (c)  not to copy the Confidential Information without a prior written approval of Discloser  \\nand for any purpose other than set out in this Agreement; (d)  not to disclose the Confidential Information to any third party other than Recipient’s  \\nemployees and agents who have a need to know for the permitted purpose and who are  \\napprised of the confidential nature of the Confidential Information and all of the  \\nrestrictions in this Agreement;',\n",
              " '(c)  not to copy the Confidential Information without a prior written approval of Discloser  \\nand for any purpose other than set out in this Agreement; (d)  not to disclose the Confidential Information to any third party other than Recipient’s  \\nemployees and agents who have a need to know for the permitted purpose and who are  \\napprised of the confidential nature of the Confidential Information and all of the  \\nrestrictions in this Agreement; (e)  not to decompile, disassemble or otherwise reverse engineer of any Confidential  \\nInformation, or use any similar means to discover its underlying composition,  \\nstructure, source code or trade secrets;',\n",
              " '(d)  not to disclose the Confidential Information to any third party other than Recipient’s  \\nemployees and agents who have a need to know for the permitted purpose and who are  \\napprised of the confidential nature of the Confidential Information and all of the  \\nrestrictions in this Agreement; (e)  not to decompile, disassemble or otherwise reverse engineer of any Confidential  \\nInformation, or use any similar means to discover its underlying composition,  \\nstructure, source code or trade secrets; and',\n",
              " '(e)  not to decompile, disassemble or otherwise reverse engineer of any Confidential  \\nInformation, or use any similar means to discover its underlying composition,  \\nstructure, source code or trade secrets; and (f)  not to export or re-export any Confidential Information or product thereof in violation  \\nof U.S. or other export control laws or regulations.',\n",
              " 'and (f)  not to export or re-export any Confidential Information or product thereof in violation  \\nof U.S. or other export control laws or regulations. 2.2 Recipient acknowledges the confidential character of the Confidential Information, therefore  \\nundertakes to protect and maintain strictly such information in the same grade of protection  \\nas its own Confidential Information, but in no case any less than reasonable care.',\n",
              " '(f)  not to export or re-export any Confidential Information or product thereof in violation  \\nof U.S. or other export control laws or regulations. 2.2 Recipient acknowledges the confidential character of the Confidential Information, therefore  \\nundertakes to protect and maintain strictly such information in the same grade of protection  \\nas its own Confidential Information, but in no case any less than reasonable care. 2.3 The terms and conditions of any transaction or possible transaction between the parties, the  \\nfact that disclosures, evaluations or discussions are taking place, and the status and results  \\nthereof will also be held in confidence by both parties and not disclosed to any third party.',\n",
              " '2.2 Recipient acknowledges the confidential character of the Confidential Information, therefore  \\nundertakes to protect and maintain strictly such information in the same grade of protection  \\nas its own Confidential Information, but in no case any less than reasonable care. 2.3 The terms and conditions of any transaction or possible transaction between the parties, the  \\nfact that disclosures, evaluations or discussions are taking place, and the status and results  \\nthereof will also be held in confidence by both parties and not disclosed to any third party. Each party shall be responsible for any breach of its confidentiality obligations by its  \\nrespective employees and agents.',\n",
              " '2.3 The terms and conditions of any transaction or possible transaction between the parties, the  \\nfact that disclosures, evaluations or discussions are taking place, and the status and results  \\nthereof will also be held in confidence by both parties and not disclosed to any third party. Each party shall be responsible for any breach of its confidentiality obligations by its  \\nrespective employees and agents. 3. Compelled Disclosures.',\n",
              " 'Each party shall be responsible for any breach of its confidentiality obligations by its  \\nrespective employees and agents. 3. Compelled Disclosures. These restrictions will not prevent either party from complying with any law, regulation,  \\ncourt order or other legal requirement that purports to compel disclosure of any Confidential  \\nInformation.']"
            ]
          },
          "metadata": {},
          "execution_count": 132
        }
      ]
    },
    {
      "cell_type": "markdown",
      "source": [
        "And now, let's classify the sentences with their window, to compare the impact of them in an isolated way from the context:"
      ],
      "metadata": {
        "id": "CcIBXXedNeHq"
      }
    },
    {
      "cell_type": "code",
      "source": [
        "window_labels = []\n",
        "for w in windows:\n",
        "  label = prediction_lp.annotate(w)['label']\n",
        "  if len(label) == 0:\n",
        "    label = ['OTHER']\n",
        "  window_labels.append(label)"
      ],
      "metadata": {
        "id": "_4c81-1ZNZQK"
      },
      "execution_count": 135,
      "outputs": []
    },
    {
      "cell_type": "markdown",
      "source": [
        "## Now, let's visualize the difference!"
      ],
      "metadata": {
        "id": "7NBK86JqN-a2"
      }
    },
    {
      "cell_type": "code",
      "source": [
        "comparison_table_df['label_context'] = window_labels\n",
        "comparison_table_df"
      ],
      "metadata": {
        "colab": {
          "base_uri": "https://localhost:8080/",
          "height": 833
        },
        "id": "bjYZfX1VN-BB",
        "outputId": "d01656ae-4755-43d3-bfb1-72d6e8c50c24"
      },
      "execution_count": 136,
      "outputs": [
        {
          "output_type": "execute_result",
          "data": {
            "text/plain": [
              "                                             sentence    label_no_context  \\\n",
              "0   1  \\nMUTUAL NONDISCLOSURE AGREEMENT  \\nThis Mu...  [NAMES_OF_PARTIES]   \n",
              "1   Recitals:  \\nJohn Snow Labs and Company intend...          [PREAMBLE]   \n",
              "2                       The parties agree as follows:       [TERMINATION]   \n",
              "3                                      1. Definition.  [DEF_OF_CONF_INFO]   \n",
              "4   1.1 The term “Confidential Information” means,...  [DEF_OF_CONF_INFO]   \n",
              "5   1.2 Confidential Information shall not include...             [OTHER]   \n",
              "6   (a)  was rightfully known to Recipient without...             [OTHER]   \n",
              "7   (b)  is rightfully disclosed to Recipient with...             [OTHER]   \n",
              "8   (c)  is or becomes generally known to the publ...        [EXCEPTIONS]   \n",
              "9                                                  or             [OTHER]   \n",
              "10  (d)  is independently developed by Recipient o...        [EXCEPTIONS]   \n",
              "11  June 8, 2022 \\n  \\n 2  \\n1.3 Discloser represe...             [OTHER]   \n",
              "12                                   2. Restrictions.             [OTHER]   \n",
              "13  2.1 As to the Discloser of Confidential Inform...             [OTHER]   \n",
              "14  (a)  to use the Confidential Information only ...          [PREAMBLE]   \n",
              "15  (b)  to strictly maintain the Confidential Inf...  [USE_OF_CONF_INFO]   \n",
              "16  (c)  not to copy the Confidential Information ...             [OTHER]   \n",
              "17  (d)  not to disclose the Confidential Informat...  [USE_OF_CONF_INFO]   \n",
              "18  (e)  not to decompile, disassemble or otherwis...  [USE_OF_CONF_INFO]   \n",
              "19                                                and             [OTHER]   \n",
              "20  (f)  not to export or re-export any Confidenti...             [OTHER]   \n",
              "21  2.2 Recipient acknowledges the confidential ch...  [REQ_DISCL, OTHER]   \n",
              "22  2.3 The terms and conditions of any transactio...             [OTHER]   \n",
              "23  Each party shall be responsible for any breach...  [USE_OF_CONF_INFO]   \n",
              "24                          3. Compelled Disclosures.             [OTHER]   \n",
              "\n",
              "         label_context  \n",
              "0   [NAMES_OF_PARTIES]  \n",
              "1   [NAMES_OF_PARTIES]  \n",
              "2           [PREAMBLE]  \n",
              "3   [DEF_OF_CONF_INFO]  \n",
              "4   [DEF_OF_CONF_INFO]  \n",
              "5   [DEF_OF_CONF_INFO]  \n",
              "6         [EXCEPTIONS]  \n",
              "7         [EXCEPTIONS]  \n",
              "8         [EXCEPTIONS]  \n",
              "9         [EXCEPTIONS]  \n",
              "10             [OTHER]  \n",
              "11             [OTHER]  \n",
              "12             [OTHER]  \n",
              "13             [OTHER]  \n",
              "14  [USE_OF_CONF_INFO]  \n",
              "15             [OTHER]  \n",
              "16  [USE_OF_CONF_INFO]  \n",
              "17  [USE_OF_CONF_INFO]  \n",
              "18  [USE_OF_CONF_INFO]  \n",
              "19         [NON_SOLIC]  \n",
              "20             [OTHER]  \n",
              "21  [USE_OF_CONF_INFO]  \n",
              "22  [USE_OF_CONF_INFO]  \n",
              "23  [USE_OF_CONF_INFO]  \n",
              "24  [USE_OF_CONF_INFO]  "
            ],
            "text/html": [
              "\n",
              "  <div id=\"df-cf639f3c-ebea-4da7-981c-6ab8e3ec86c6\">\n",
              "    <div class=\"colab-df-container\">\n",
              "      <div>\n",
              "<style scoped>\n",
              "    .dataframe tbody tr th:only-of-type {\n",
              "        vertical-align: middle;\n",
              "    }\n",
              "\n",
              "    .dataframe tbody tr th {\n",
              "        vertical-align: top;\n",
              "    }\n",
              "\n",
              "    .dataframe thead th {\n",
              "        text-align: right;\n",
              "    }\n",
              "</style>\n",
              "<table border=\"1\" class=\"dataframe\">\n",
              "  <thead>\n",
              "    <tr style=\"text-align: right;\">\n",
              "      <th></th>\n",
              "      <th>sentence</th>\n",
              "      <th>label_no_context</th>\n",
              "      <th>label_context</th>\n",
              "    </tr>\n",
              "  </thead>\n",
              "  <tbody>\n",
              "    <tr>\n",
              "      <th>0</th>\n",
              "      <td>1  \\nMUTUAL NONDISCLOSURE AGREEMENT  \\nThis Mu...</td>\n",
              "      <td>[NAMES_OF_PARTIES]</td>\n",
              "      <td>[NAMES_OF_PARTIES]</td>\n",
              "    </tr>\n",
              "    <tr>\n",
              "      <th>1</th>\n",
              "      <td>Recitals:  \\nJohn Snow Labs and Company intend...</td>\n",
              "      <td>[PREAMBLE]</td>\n",
              "      <td>[NAMES_OF_PARTIES]</td>\n",
              "    </tr>\n",
              "    <tr>\n",
              "      <th>2</th>\n",
              "      <td>The parties agree as follows:</td>\n",
              "      <td>[TERMINATION]</td>\n",
              "      <td>[PREAMBLE]</td>\n",
              "    </tr>\n",
              "    <tr>\n",
              "      <th>3</th>\n",
              "      <td>1. Definition.</td>\n",
              "      <td>[DEF_OF_CONF_INFO]</td>\n",
              "      <td>[DEF_OF_CONF_INFO]</td>\n",
              "    </tr>\n",
              "    <tr>\n",
              "      <th>4</th>\n",
              "      <td>1.1 The term “Confidential Information” means,...</td>\n",
              "      <td>[DEF_OF_CONF_INFO]</td>\n",
              "      <td>[DEF_OF_CONF_INFO]</td>\n",
              "    </tr>\n",
              "    <tr>\n",
              "      <th>5</th>\n",
              "      <td>1.2 Confidential Information shall not include...</td>\n",
              "      <td>[OTHER]</td>\n",
              "      <td>[DEF_OF_CONF_INFO]</td>\n",
              "    </tr>\n",
              "    <tr>\n",
              "      <th>6</th>\n",
              "      <td>(a)  was rightfully known to Recipient without...</td>\n",
              "      <td>[OTHER]</td>\n",
              "      <td>[EXCEPTIONS]</td>\n",
              "    </tr>\n",
              "    <tr>\n",
              "      <th>7</th>\n",
              "      <td>(b)  is rightfully disclosed to Recipient with...</td>\n",
              "      <td>[OTHER]</td>\n",
              "      <td>[EXCEPTIONS]</td>\n",
              "    </tr>\n",
              "    <tr>\n",
              "      <th>8</th>\n",
              "      <td>(c)  is or becomes generally known to the publ...</td>\n",
              "      <td>[EXCEPTIONS]</td>\n",
              "      <td>[EXCEPTIONS]</td>\n",
              "    </tr>\n",
              "    <tr>\n",
              "      <th>9</th>\n",
              "      <td>or</td>\n",
              "      <td>[OTHER]</td>\n",
              "      <td>[EXCEPTIONS]</td>\n",
              "    </tr>\n",
              "    <tr>\n",
              "      <th>10</th>\n",
              "      <td>(d)  is independently developed by Recipient o...</td>\n",
              "      <td>[EXCEPTIONS]</td>\n",
              "      <td>[OTHER]</td>\n",
              "    </tr>\n",
              "    <tr>\n",
              "      <th>11</th>\n",
              "      <td>June 8, 2022 \\n  \\n 2  \\n1.3 Discloser represe...</td>\n",
              "      <td>[OTHER]</td>\n",
              "      <td>[OTHER]</td>\n",
              "    </tr>\n",
              "    <tr>\n",
              "      <th>12</th>\n",
              "      <td>2. Restrictions.</td>\n",
              "      <td>[OTHER]</td>\n",
              "      <td>[OTHER]</td>\n",
              "    </tr>\n",
              "    <tr>\n",
              "      <th>13</th>\n",
              "      <td>2.1 As to the Discloser of Confidential Inform...</td>\n",
              "      <td>[OTHER]</td>\n",
              "      <td>[OTHER]</td>\n",
              "    </tr>\n",
              "    <tr>\n",
              "      <th>14</th>\n",
              "      <td>(a)  to use the Confidential Information only ...</td>\n",
              "      <td>[PREAMBLE]</td>\n",
              "      <td>[USE_OF_CONF_INFO]</td>\n",
              "    </tr>\n",
              "    <tr>\n",
              "      <th>15</th>\n",
              "      <td>(b)  to strictly maintain the Confidential Inf...</td>\n",
              "      <td>[USE_OF_CONF_INFO]</td>\n",
              "      <td>[OTHER]</td>\n",
              "    </tr>\n",
              "    <tr>\n",
              "      <th>16</th>\n",
              "      <td>(c)  not to copy the Confidential Information ...</td>\n",
              "      <td>[OTHER]</td>\n",
              "      <td>[USE_OF_CONF_INFO]</td>\n",
              "    </tr>\n",
              "    <tr>\n",
              "      <th>17</th>\n",
              "      <td>(d)  not to disclose the Confidential Informat...</td>\n",
              "      <td>[USE_OF_CONF_INFO]</td>\n",
              "      <td>[USE_OF_CONF_INFO]</td>\n",
              "    </tr>\n",
              "    <tr>\n",
              "      <th>18</th>\n",
              "      <td>(e)  not to decompile, disassemble or otherwis...</td>\n",
              "      <td>[USE_OF_CONF_INFO]</td>\n",
              "      <td>[USE_OF_CONF_INFO]</td>\n",
              "    </tr>\n",
              "    <tr>\n",
              "      <th>19</th>\n",
              "      <td>and</td>\n",
              "      <td>[OTHER]</td>\n",
              "      <td>[NON_SOLIC]</td>\n",
              "    </tr>\n",
              "    <tr>\n",
              "      <th>20</th>\n",
              "      <td>(f)  not to export or re-export any Confidenti...</td>\n",
              "      <td>[OTHER]</td>\n",
              "      <td>[OTHER]</td>\n",
              "    </tr>\n",
              "    <tr>\n",
              "      <th>21</th>\n",
              "      <td>2.2 Recipient acknowledges the confidential ch...</td>\n",
              "      <td>[REQ_DISCL, OTHER]</td>\n",
              "      <td>[USE_OF_CONF_INFO]</td>\n",
              "    </tr>\n",
              "    <tr>\n",
              "      <th>22</th>\n",
              "      <td>2.3 The terms and conditions of any transactio...</td>\n",
              "      <td>[OTHER]</td>\n",
              "      <td>[USE_OF_CONF_INFO]</td>\n",
              "    </tr>\n",
              "    <tr>\n",
              "      <th>23</th>\n",
              "      <td>Each party shall be responsible for any breach...</td>\n",
              "      <td>[USE_OF_CONF_INFO]</td>\n",
              "      <td>[USE_OF_CONF_INFO]</td>\n",
              "    </tr>\n",
              "    <tr>\n",
              "      <th>24</th>\n",
              "      <td>3. Compelled Disclosures.</td>\n",
              "      <td>[OTHER]</td>\n",
              "      <td>[USE_OF_CONF_INFO]</td>\n",
              "    </tr>\n",
              "  </tbody>\n",
              "</table>\n",
              "</div>\n",
              "      <button class=\"colab-df-convert\" onclick=\"convertToInteractive('df-cf639f3c-ebea-4da7-981c-6ab8e3ec86c6')\"\n",
              "              title=\"Convert this dataframe to an interactive table.\"\n",
              "              style=\"display:none;\">\n",
              "        \n",
              "  <svg xmlns=\"http://www.w3.org/2000/svg\" height=\"24px\"viewBox=\"0 0 24 24\"\n",
              "       width=\"24px\">\n",
              "    <path d=\"M0 0h24v24H0V0z\" fill=\"none\"/>\n",
              "    <path d=\"M18.56 5.44l.94 2.06.94-2.06 2.06-.94-2.06-.94-.94-2.06-.94 2.06-2.06.94zm-11 1L8.5 8.5l.94-2.06 2.06-.94-2.06-.94L8.5 2.5l-.94 2.06-2.06.94zm10 10l.94 2.06.94-2.06 2.06-.94-2.06-.94-.94-2.06-.94 2.06-2.06.94z\"/><path d=\"M17.41 7.96l-1.37-1.37c-.4-.4-.92-.59-1.43-.59-.52 0-1.04.2-1.43.59L10.3 9.45l-7.72 7.72c-.78.78-.78 2.05 0 2.83L4 21.41c.39.39.9.59 1.41.59.51 0 1.02-.2 1.41-.59l7.78-7.78 2.81-2.81c.8-.78.8-2.07 0-2.86zM5.41 20L4 18.59l7.72-7.72 1.47 1.35L5.41 20z\"/>\n",
              "  </svg>\n",
              "      </button>\n",
              "      \n",
              "  <style>\n",
              "    .colab-df-container {\n",
              "      display:flex;\n",
              "      flex-wrap:wrap;\n",
              "      gap: 12px;\n",
              "    }\n",
              "\n",
              "    .colab-df-convert {\n",
              "      background-color: #E8F0FE;\n",
              "      border: none;\n",
              "      border-radius: 50%;\n",
              "      cursor: pointer;\n",
              "      display: none;\n",
              "      fill: #1967D2;\n",
              "      height: 32px;\n",
              "      padding: 0 0 0 0;\n",
              "      width: 32px;\n",
              "    }\n",
              "\n",
              "    .colab-df-convert:hover {\n",
              "      background-color: #E2EBFA;\n",
              "      box-shadow: 0px 1px 2px rgba(60, 64, 67, 0.3), 0px 1px 3px 1px rgba(60, 64, 67, 0.15);\n",
              "      fill: #174EA6;\n",
              "    }\n",
              "\n",
              "    [theme=dark] .colab-df-convert {\n",
              "      background-color: #3B4455;\n",
              "      fill: #D2E3FC;\n",
              "    }\n",
              "\n",
              "    [theme=dark] .colab-df-convert:hover {\n",
              "      background-color: #434B5C;\n",
              "      box-shadow: 0px 1px 3px 1px rgba(0, 0, 0, 0.15);\n",
              "      filter: drop-shadow(0px 1px 2px rgba(0, 0, 0, 0.3));\n",
              "      fill: #FFFFFF;\n",
              "    }\n",
              "  </style>\n",
              "\n",
              "      <script>\n",
              "        const buttonEl =\n",
              "          document.querySelector('#df-cf639f3c-ebea-4da7-981c-6ab8e3ec86c6 button.colab-df-convert');\n",
              "        buttonEl.style.display =\n",
              "          google.colab.kernel.accessAllowed ? 'block' : 'none';\n",
              "\n",
              "        async function convertToInteractive(key) {\n",
              "          const element = document.querySelector('#df-cf639f3c-ebea-4da7-981c-6ab8e3ec86c6');\n",
              "          const dataTable =\n",
              "            await google.colab.kernel.invokeFunction('convertToInteractive',\n",
              "                                                     [key], {});\n",
              "          if (!dataTable) return;\n",
              "\n",
              "          const docLinkHtml = 'Like what you see? Visit the ' +\n",
              "            '<a target=\"_blank\" href=https://colab.research.google.com/notebooks/data_table.ipynb>data table notebook</a>'\n",
              "            + ' to learn more about interactive tables.';\n",
              "          element.innerHTML = '';\n",
              "          dataTable['output_type'] = 'display_data';\n",
              "          await google.colab.output.renderOutput(dataTable, element);\n",
              "          const docLink = document.createElement('div');\n",
              "          docLink.innerHTML = docLinkHtml;\n",
              "          element.appendChild(docLink);\n",
              "        }\n",
              "      </script>\n",
              "    </div>\n",
              "  </div>\n",
              "  "
            ]
          },
          "metadata": {},
          "execution_count": 136
        }
      ]
    },
    {
      "cell_type": "markdown",
      "source": [
        "# Evaluation"
      ],
      "metadata": {
        "id": "T-yRAS_mPy-4"
      }
    },
    {
      "cell_type": "markdown",
      "source": [
        "![image.png](data:image/png;base64,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)"
      ],
      "metadata": {
        "id": "tSOIOaw1Px5J"
      }
    },
    {
      "cell_type": "markdown",
      "source": [
        "Although this is not a recipe you can use at any case, and highly depends on how your classifier was trained, it can really help to:\n",
        "✅ Standardise blocks of predictions, capturing and grouping sentences together\n",
        "✅ Carry out the meaning to the surroundings to resolve short sentences without much meaning\n",
        "\n",
        "❌However, this does not come without a caveat. Sometimes, short sentences with no meaningful text may get affected by the surroundings."
      ],
      "metadata": {
        "id": "26TM2CK9P0pg"
      }
    }
  ]
}
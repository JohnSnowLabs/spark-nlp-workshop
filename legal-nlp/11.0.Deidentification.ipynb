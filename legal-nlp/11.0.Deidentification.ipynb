{
 "cells": [
  {
   "cell_type": "markdown",
   "id": "b7f2c545-14d6-41da-a4cc-0dc8a6ea3180",
   "metadata": {
    "id": "b7f2c545-14d6-41da-a4cc-0dc8a6ea3180"
   },
   "source": [
    "![JohnSnowLabs](https://nlp.johnsnowlabs.com/assets/images/logo.png)"
   ]
  },
  {
   "cell_type": "markdown",
   "id": "21e9eafb",
   "metadata": {
    "id": "21e9eafb"
   },
   "source": [
    "[![Open In Colab](https://colab.research.google.com/assets/colab-badge.svg)](https://colab.research.google.com/github/JohnSnowLabs/spark-nlp-workshop/blob/master/legal-nlp/11.0.Deidentification.ipynb)"
   ]
  },
  {
   "cell_type": "markdown",
   "id": "fb2ac5e3-fe7c-4431-bb24-3c48649be54b",
   "metadata": {
    "id": "fb2ac5e3-fe7c-4431-bb24-3c48649be54b"
   },
   "source": [
    "# Legal Deidentification"
   ]
  },
  {
   "cell_type": "markdown",
   "id": "gk3kZHmNj51v",
   "metadata": {
    "collapsed": false,
    "id": "gk3kZHmNj51v"
   },
   "source": [
    "# Installation"
   ]
  },
  {
   "cell_type": "code",
   "execution_count": 1,
   "id": "_914itZsj51v",
   "metadata": {
    "colab": {
     "base_uri": "https://localhost:8080/"
    },
    "id": "_914itZsj51v",
    "outputId": "48607b65-cb80-4669-8492-c45f1d043505",
    "pycharm": {
     "is_executing": true
    }
   },
   "outputs": [
    {
     "name": "stdout",
     "output_type": "stream",
     "text": [
      "\u001b[2K     \u001b[90m━━━━━━━━━━━━━━━━━━━━━━━━━━━━━━━━━━━━━━━━\u001b[0m \u001b[32m310.8/310.8 MB\u001b[0m \u001b[31m3.6 MB/s\u001b[0m eta \u001b[36m0:00:00\u001b[0m\n",
      "\u001b[?25h  Preparing metadata (setup.py) ... \u001b[?25l\u001b[?25hdone\n",
      "\u001b[2K     \u001b[90m━━━━━━━━━━━━━━━━━━━━━━━━━━━━━━━━━━━━━━━━\u001b[0m \u001b[32m108.9/108.9 kB\u001b[0m \u001b[31m8.9 MB/s\u001b[0m eta \u001b[36m0:00:00\u001b[0m\n",
      "\u001b[2K   \u001b[90m━━━━━━━━━━━━━━━━━━━━━━━━━━━━━━━━━━━━━━━━\u001b[0m \u001b[32m141.0/141.0 kB\u001b[0m \u001b[31m13.7 MB/s\u001b[0m eta \u001b[36m0:00:00\u001b[0m\n",
      "\u001b[2K   \u001b[90m━━━━━━━━━━━━━━━━━━━━━━━━━━━━━━━━━━━━━━━━\u001b[0m \u001b[32m683.3/683.3 kB\u001b[0m \u001b[31m45.3 MB/s\u001b[0m eta \u001b[36m0:00:00\u001b[0m\n",
      "\u001b[2K   \u001b[90m━━━━━━━━━━━━━━━━━━━━━━━━━━━━━━━━━━━━━━━━\u001b[0m \u001b[32m620.8/620.8 kB\u001b[0m \u001b[31m44.5 MB/s\u001b[0m eta \u001b[36m0:00:00\u001b[0m\n",
      "\u001b[2K   \u001b[90m━━━━━━━━━━━━━━━━━━━━━━━━━━━━━━━━━━━━━━━━\u001b[0m \u001b[32m95.6/95.6 kB\u001b[0m \u001b[31m8.7 MB/s\u001b[0m eta \u001b[36m0:00:00\u001b[0m\n",
      "\u001b[2K   \u001b[90m━━━━━━━━━━━━━━━━━━━━━━━━━━━━━━━━━━━━━━━━\u001b[0m \u001b[32m66.9/66.9 kB\u001b[0m \u001b[31m6.2 MB/s\u001b[0m eta \u001b[36m0:00:00\u001b[0m\n",
      "\u001b[2K   \u001b[90m━━━━━━━━━━━━━━━━━━━━━━━━━━━━━━━━━━━━━━━━\u001b[0m \u001b[32m139.2/139.2 kB\u001b[0m \u001b[31m12.5 MB/s\u001b[0m eta \u001b[36m0:00:00\u001b[0m\n",
      "\u001b[2K   \u001b[90m━━━━━━━━━━━━━━━━━━━━━━━━━━━━━━━━━━━━━━━━\u001b[0m \u001b[32m12.8/12.8 MB\u001b[0m \u001b[31m107.6 MB/s\u001b[0m eta \u001b[36m0:00:00\u001b[0m\n",
      "\u001b[2K   \u001b[90m━━━━━━━━━━━━━━━━━━━━━━━━━━━━━━━━━━━━━━━━\u001b[0m \u001b[32m82.6/82.6 kB\u001b[0m \u001b[31m8.3 MB/s\u001b[0m eta \u001b[36m0:00:00\u001b[0m\n",
      "\u001b[2K   \u001b[90m━━━━━━━━━━━━━━━━━━━━━━━━━━━━━━━━━━━━━━━━\u001b[0m \u001b[32m150.3/150.3 kB\u001b[0m \u001b[31m14.0 MB/s\u001b[0m eta \u001b[36m0:00:00\u001b[0m\n",
      "\u001b[2K   \u001b[90m━━━━━━━━━━━━━━━━━━━━━━━━━━━━━━━━━━━━━━━━\u001b[0m \u001b[32m1.6/1.6 MB\u001b[0m \u001b[31m71.1 MB/s\u001b[0m eta \u001b[36m0:00:00\u001b[0m\n",
      "\u001b[?25h  Building wheel for pyspark (setup.py) ... \u001b[?25l\u001b[?25hdone\n"
     ]
    }
   ],
   "source": [
    "! pip install -q johnsnowlabs"
   ]
  },
  {
   "cell_type": "markdown",
   "id": "YPsbAnNoPt0Z",
   "metadata": {
    "id": "YPsbAnNoPt0Z"
   },
   "source": [
    "## Automatic Installation\n",
    "Using my.johnsnowlabs.com SSO"
   ]
  },
  {
   "cell_type": "code",
   "execution_count": null,
   "id": "fY0lcShkj51w",
   "metadata": {
    "colab": {
     "base_uri": "https://localhost:8080/",
     "height": 258
    },
    "id": "fY0lcShkj51w",
    "outputId": "7c5db64c-96b6-4a62-cfd5-1677bbc96df3",
    "pycharm": {
     "is_executing": true
    }
   },
   "outputs": [],
   "source": [
    "from johnsnowlabs import nlp, legal\n",
    "\n",
    "# nlp.install(force_browser=True)"
   ]
  },
  {
   "cell_type": "markdown",
   "id": "hsJvn_WWM2GL",
   "metadata": {
    "id": "hsJvn_WWM2GL"
   },
   "source": [
    "## Manual downloading\n",
    "If you are not registered in my.johnsnowlabs.com, you received a license via e-email or you are using Safari, you may need to do a manual update of the license.\n",
    "\n",
    "- Go to my.johnsnowlabs.com\n",
    "- Download your license\n",
    "- Upload it using the following command"
   ]
  },
  {
   "cell_type": "code",
   "execution_count": null,
   "id": "i57QV3-_P2sQ",
   "metadata": {
    "id": "i57QV3-_P2sQ"
   },
   "outputs": [],
   "source": [
    "from google.colab import files\n",
    "\n",
    "print(\"Please Upload your John Snow Labs License using the button below\")\n",
    "license_keys = files.upload()"
   ]
  },
  {
   "cell_type": "markdown",
   "id": "xGgNdFzZP_hQ",
   "metadata": {
    "id": "xGgNdFzZP_hQ"
   },
   "source": [
    "- Install it"
   ]
  },
  {
   "cell_type": "code",
   "execution_count": null,
   "id": "OfmmPqknP4rR",
   "metadata": {
    "id": "OfmmPqknP4rR"
   },
   "outputs": [],
   "source": [
    "nlp.install()"
   ]
  },
  {
   "cell_type": "markdown",
   "id": "DCl5ErZkNNLk",
   "metadata": {
    "id": "DCl5ErZkNNLk"
   },
   "source": [
    "# Starting"
   ]
  },
  {
   "cell_type": "code",
   "execution_count": 2,
   "id": "wRXTnNl3j51w",
   "metadata": {
    "colab": {
     "base_uri": "https://localhost:8080/"
    },
    "id": "wRXTnNl3j51w",
    "outputId": "e88a1400-36ab-4295-e6e3-f2310c89628b"
   },
   "outputs": [
    {
     "name": "stdout",
     "output_type": "stream",
     "text": [
      "📋 Loading license number 0 from /root/.johnsnowlabs/licenses/license_number_{number}_for_Spark-Healthcare_Spark-OCR.json\n",
      "👌 Launched \u001b[92mcpu optimized\u001b[39m session with with: 🚀Spark-NLP==5.5.0, 💊Spark-Healthcare==5.5.0, running on ⚡ PySpark==3.4.0\n"
     ]
    }
   ],
   "source": [
    "spark = nlp.start()"
   ]
  },
  {
   "cell_type": "markdown",
   "id": "3c5c1990-1e00-4141-8825-5e9e75d402ad",
   "metadata": {
    "id": "3c5c1990-1e00-4141-8825-5e9e75d402ad"
   },
   "source": [
    "# Deidentification Model"
   ]
  },
  {
   "cell_type": "markdown",
   "id": "124c01da-b9a9-4327-a46b-f09d1d89d893",
   "metadata": {
    "id": "124c01da-b9a9-4327-a46b-f09d1d89d893"
   },
   "source": [
    "Some legal information can be considered sensitive. (e.g.,document, organization, address, signer)"
   ]
  },
  {
   "cell_type": "code",
   "execution_count": null,
   "id": "fc92df9a-8ede-4db3-80b9-be1e713f45d6",
   "metadata": {
    "colab": {
     "base_uri": "https://localhost:8080/"
    },
    "id": "fc92df9a-8ede-4db3-80b9-be1e713f45d6",
    "outputId": "e801014e-96d1-4712-ec28-4b152a4f75a9"
   },
   "outputs": [
    {
     "name": "stdout",
     "output_type": "stream",
     "text": [
      "roberta_embeddings_legal_roberta_base download started this may take some time.\n",
      "Approximate size to download 447.2 MB\n",
      "[OK!]\n",
      "legner_contract_doc_parties_lg download started this may take some time.\n",
      "[OK!]\n"
     ]
    }
   ],
   "source": [
    "documentAssembler = nlp.DocumentAssembler().setInputCol(\"text\").setOutputCol(\"document\")\n",
    "\n",
    "sentenceDetector = (\n",
    "    nlp.SentenceDetector().setInputCols([\"document\"]).setOutputCol(\"sentence\")\n",
    ")\n",
    "\n",
    "tokenizer = nlp.Tokenizer().setInputCols([\"sentence\"]).setOutputCol(\"token\")\n",
    "\n",
    "embeddings = (\n",
    "    nlp.RoBertaEmbeddings.pretrained(\"roberta_embeddings_legal_roberta_base\", \"en\")\n",
    "    .setInputCols([\"sentence\", \"token\"])\n",
    "    .setOutputCol(\"embeddings\")\n",
    "    .setStorageRef(\"roberta_embeddings_legal_roberta_base_en\")\n",
    ")\n",
    "\n",
    "legal_ner = (\n",
    "    legal.NerModel.pretrained(\"legner_contract_doc_parties_lg\", \"en\", \"legal/models\")\n",
    "    .setInputCols([\"sentence\", \"token\", \"embeddings\"])\n",
    "    .setOutputCol(\"ner\")\n",
    ")\n",
    "# .setLabelCasing(\"upper\")\n",
    "\n",
    "ner_converter = (\n",
    "    legal.NerConverterInternal()\n",
    "    .setInputCols([\"sentence\", \"token\", \"ner\"])\n",
    "    .setOutputCol(\"ner_chunk\")\n",
    "    .setReplaceLabels({\"ALIAS\": \"PARTY\"})\n",
    ")  # \"ALIAS\" are secondary names of companies, so let's extract them also as PARTY\n",
    "\n",
    "nlpPipeline = nlp.Pipeline(\n",
    "    stages=[\n",
    "        documentAssembler,\n",
    "        sentenceDetector,\n",
    "        tokenizer,\n",
    "        embeddings,\n",
    "        legal_ner,\n",
    "        ner_converter,\n",
    "    ]\n",
    ")\n",
    "\n",
    "empty_data = spark.createDataFrame([[\"\"]]).toDF(\"text\")\n",
    "\n",
    "model = nlpPipeline.fit(empty_data)"
   ]
  },
  {
   "cell_type": "markdown",
   "id": "3ddb9087-f3d2-4b14-89ad-507e3910e889",
   "metadata": {
    "id": "3ddb9087-f3d2-4b14-89ad-507e3910e889"
   },
   "source": [
    "### Pretrained NER models extracts:\n",
    "- Document\n",
    "- Date\n",
    "- Party (Organization Name)\n",
    "- Alias"
   ]
  },
  {
   "cell_type": "code",
   "execution_count": 8,
   "id": "f594290b-6ea9-47a2-9515-76faed5ab63c",
   "metadata": {
    "colab": {
     "base_uri": "https://localhost:8080/"
    },
    "id": "f594290b-6ea9-47a2-9515-76faed5ab63c",
    "outputId": "d318f2dc-5b42-4de4-b6e9-63d20d3a0aad"
   },
   "outputs": [
    {
     "data": {
      "text/plain": [
       "['O',\n",
       " 'B-EFFDATE',\n",
       " 'B-ORG',\n",
       " 'I-DOC',\n",
       " 'I-ORG',\n",
       " 'B-ALIAS',\n",
       " 'I-ALIAS',\n",
       " 'I-EFFDATE',\n",
       " 'B-PARTY',\n",
       " 'B-FORMER_NAME',\n",
       " 'I-FORMER_NAME',\n",
       " 'B-DOC',\n",
       " 'I-PARTY']"
      ]
     },
     "execution_count": 8,
     "metadata": {},
     "output_type": "execute_result"
    }
   ],
   "source": [
    "legal_ner.getClasses()"
   ]
  },
  {
   "cell_type": "code",
   "execution_count": 9,
   "id": "5f5fbf4b-ad6c-4042-8fff-4b6082aeed5c",
   "metadata": {
    "id": "5f5fbf4b-ad6c-4042-8fff-4b6082aeed5c"
   },
   "outputs": [],
   "source": [
    "text = \"\"\"THIS STRATEGIC ALLIANCE AGREEMENT (\"Agreement\") is made and entered into as of December 14, 2016 , by and between Hyatt Franchising Latin America, L.L.C. a limited liability company organized and existing under the laws of the State of Delaware\"\"\""
   ]
  },
  {
   "cell_type": "code",
   "execution_count": 10,
   "id": "7cd9d648-81ec-46fa-aa02-20506f0ba7dd",
   "metadata": {
    "id": "7cd9d648-81ec-46fa-aa02-20506f0ba7dd"
   },
   "outputs": [],
   "source": [
    "result = model.transform(spark.createDataFrame([[text]]).toDF(\"text\"))"
   ]
  },
  {
   "cell_type": "code",
   "execution_count": null,
   "id": "3fa9c519-347f-4f63-8f32-b240526ab42e",
   "metadata": {
    "id": "3fa9c519-347f-4f63-8f32-b240526ab42e"
   },
   "outputs": [],
   "source": [
    "from pyspark.sql import functions as F\n",
    "\n",
    "result_df = result.select(\n",
    "    F.explode(F.arrays_zip(result.token.result, result.ner.result)).alias(\"cols\")\n",
    ").select(F.expr(\"cols['0']\").alias(\"token\"), F.expr(\"cols['1']\").alias(\"ner_label\"))"
   ]
  },
  {
   "cell_type": "code",
   "execution_count": null,
   "id": "3df21455-9650-4d3d-8b11-8380a0883121",
   "metadata": {
    "colab": {
     "base_uri": "https://localhost:8080/"
    },
    "id": "3df21455-9650-4d3d-8b11-8380a0883121",
    "outputId": "665fb083-4d99-4ccf-d640-7a1c192a077c"
   },
   "outputs": [
    {
     "name": "stdout",
     "output_type": "stream",
     "text": [
      "+---------+-----+\n",
      "|ner_label|count|\n",
      "+---------+-----+\n",
      "|O        |31   |\n",
      "|I-PARTY  |5    |\n",
      "|I-EFFDATE|3    |\n",
      "|I-DOC    |2    |\n",
      "|B-DOC    |1    |\n",
      "|B-PARTY  |1    |\n",
      "|B-EFFDATE|1    |\n",
      "+---------+-----+\n",
      "\n"
     ]
    }
   ],
   "source": [
    "result_df.select(\"token\", \"ner_label\").groupBy(\"ner_label\").count().orderBy(\n",
    "    \"count\", ascending=False\n",
    ").show(truncate=False)"
   ]
  },
  {
   "cell_type": "markdown",
   "id": "ba982823-16d8-477d-9a47-d41d9087523d",
   "metadata": {
    "id": "ba982823-16d8-477d-9a47-d41d9087523d"
   },
   "source": [
    "### Check extracted sensitive entities\n",
    "We have left DOC (document type) as a sensitive entity. If it is not, you only need to blacklist the entity in the NerConverterInternal:\n",
    "\n",
    "```\n",
    "legal_ner = legal.NerModel.pretrained(\"legner_contract_doc_parties_lg\", \"en\", \"legal/models\")\\\n",
    "    .setInputCols([\"sentence\", \"token\", \"embeddings\"]) \\\n",
    "    .setOutputCol(\"ner\")\n",
    "    .setBlackList([\"DOC\"])\n",
    "```"
   ]
  },
  {
   "cell_type": "code",
   "execution_count": null,
   "id": "8e766d87-e1f2-49e3-afe2-f7d0d7703e6f",
   "metadata": {
    "colab": {
     "base_uri": "https://localhost:8080/"
    },
    "id": "8e766d87-e1f2-49e3-afe2-f7d0d7703e6f",
    "outputId": "dbb4d703-0821-4d6f-b9d1-7754f38ed2d5"
   },
   "outputs": [
    {
     "name": "stdout",
     "output_type": "stream",
     "text": [
      "+--------------------------------------+---------+\n",
      "|chunk                                 |ner_label|\n",
      "+--------------------------------------+---------+\n",
      "|STRATEGIC ALLIANCE AGREEMENT          |DOC      |\n",
      "|December 14, 2016                     |EFFDATE  |\n",
      "|Hyatt Franchising Latin America, L.L.C|PARTY    |\n",
      "+--------------------------------------+---------+\n",
      "\n"
     ]
    }
   ],
   "source": [
    "result.select(\n",
    "    F.explode(F.arrays_zip(result.ner_chunk.result, result.ner_chunk.metadata)).alias(\n",
    "        \"cols\"\n",
    "    )\n",
    ").select(\n",
    "    F.expr(\"cols['0']\").alias(\"chunk\"), F.expr(\"cols['1']['entity']\").alias(\"ner_label\")\n",
    ").show(truncate=False)"
   ]
  },
  {
   "cell_type": "markdown",
   "id": "7cccf04f-6630-4f8c-96af-f5b7e35c119d",
   "metadata": {
    "id": "7cccf04f-6630-4f8c-96af-f5b7e35c119d"
   },
   "source": [
    "## Masking and Obfuscation"
   ]
  },
  {
   "cell_type": "markdown",
   "id": "a4648bf0-9c6e-49b3-9080-7bb3551e1675",
   "metadata": {
    "id": "a4648bf0-9c6e-49b3-9080-7bb3551e1675"
   },
   "source": [
    "### Replace these enitites with Tags"
   ]
  },
  {
   "cell_type": "code",
   "execution_count": null,
   "id": "fa7ac54e-46d5-4a9b-a74b-3859a283ac65",
   "metadata": {
    "id": "fa7ac54e-46d5-4a9b-a74b-3859a283ac65"
   },
   "outputs": [],
   "source": [
    "deidentification = (\n",
    "    legal.DeIdentification()\n",
    "    .setInputCols([\"sentence\", \"token\", \"ner_chunk\"])\n",
    "    .setOutputCol(\"deidentified\")\n",
    "    .setMode(\"mask\")\n",
    "    .setReturnEntityMappings(True)\n",
    ")  #  return a new column to save the mappings between the mask/obfuscated entities and original entities. REquired for \"ReIdentification\"\n",
    "# .setMappingsColumn(\"MappingCol\") # change the name of the column, 'aux' is default\n",
    "\n",
    "deidPipeline = nlp.Pipeline(\n",
    "    stages=[\n",
    "        documentAssembler,\n",
    "        sentenceDetector,\n",
    "        tokenizer,\n",
    "        embeddings,\n",
    "        legal_ner,\n",
    "        ner_converter,\n",
    "        deidentification,\n",
    "    ]\n",
    ")\n",
    "\n",
    "empty_data = spark.createDataFrame([[\"\"]]).toDF(\"text\")\n",
    "\n",
    "model_deid = deidPipeline.fit(empty_data)"
   ]
  },
  {
   "cell_type": "code",
   "execution_count": 15,
   "id": "bf417b51-c6d0-44b3-ac80-43da90300247",
   "metadata": {
    "id": "bf417b51-c6d0-44b3-ac80-43da90300247"
   },
   "outputs": [],
   "source": [
    "result = model_deid.transform(spark.createDataFrame([[text]]).toDF(\"text\"))"
   ]
  },
  {
   "cell_type": "code",
   "execution_count": 16,
   "id": "3bf8f80c-4277-4302-8993-a0f88311b66f",
   "metadata": {
    "colab": {
     "base_uri": "https://localhost:8080/"
    },
    "id": "3bf8f80c-4277-4302-8993-a0f88311b66f",
    "outputId": "76d661c6-a670-457f-8ff2-0e22965c919b"
   },
   "outputs": [
    {
     "name": "stdout",
     "output_type": "stream",
     "text": [
      "+--------------------+--------------------+--------------------+--------------------+--------------------+--------------------+--------------------+--------------------+--------------------+\n",
      "|                text|            document|            sentence|               token|          embeddings|                 ner|           ner_chunk|        deidentified|                 aux|\n",
      "+--------------------+--------------------+--------------------+--------------------+--------------------+--------------------+--------------------+--------------------+--------------------+\n",
      "|THIS STRATEGIC AL...|[{document, 0, 24...|[{document, 0, 24...|[{token, 0, 3, TH...|[{word_embeddings...|[{named_entity, 0...|[{chunk, 5, 32, S...|[{document, 0, 18...|[{chunk, 5, 9, <D...|\n",
      "+--------------------+--------------------+--------------------+--------------------+--------------------+--------------------+--------------------+--------------------+--------------------+\n",
      "\n"
     ]
    }
   ],
   "source": [
    "result.show()"
   ]
  },
  {
   "cell_type": "code",
   "execution_count": null,
   "id": "n1J-VZN6cH41",
   "metadata": {
    "id": "n1J-VZN6cH41"
   },
   "outputs": [],
   "source": [
    "reIdentification = (\n",
    "    legal.ReIdentification()\n",
    "    .setInputCols([\"aux\", \"deidentified\"])\n",
    "    .setOutputCol(\"original\")\n",
    ")"
   ]
  },
  {
   "cell_type": "code",
   "execution_count": 18,
   "id": "ofzMwi08cOoG",
   "metadata": {
    "id": "ofzMwi08cOoG"
   },
   "outputs": [],
   "source": [
    "reid_result = reIdentification.transform(result)"
   ]
  },
  {
   "cell_type": "code",
   "execution_count": 19,
   "id": "AtvYEclecQw3",
   "metadata": {
    "colab": {
     "base_uri": "https://localhost:8080/"
    },
    "id": "AtvYEclecQw3",
    "outputId": "aaac0f4f-6ab5-46b1-c786-82e23a773942"
   },
   "outputs": [
    {
     "name": "stdout",
     "output_type": "stream",
     "text": [
      "+--------------------+--------------------+--------------------+--------------------+--------------------+--------------------+--------------------+--------------------+--------------------+--------------------+\n",
      "|                text|            document|            sentence|               token|          embeddings|                 ner|           ner_chunk|        deidentified|                 aux|            original|\n",
      "+--------------------+--------------------+--------------------+--------------------+--------------------+--------------------+--------------------+--------------------+--------------------+--------------------+\n",
      "|THIS STRATEGIC AL...|[{document, 0, 24...|[{document, 0, 24...|[{token, 0, 3, TH...|[{word_embeddings...|[{named_entity, 0...|[{chunk, 5, 32, S...|[{document, 0, 18...|[{chunk, 5, 9, <D...|[{document, 0, 24...|\n",
      "+--------------------+--------------------+--------------------+--------------------+--------------------+--------------------+--------------------+--------------------+--------------------+--------------------+\n",
      "\n"
     ]
    }
   ],
   "source": [
    "reid_result.show()"
   ]
  },
  {
   "cell_type": "markdown",
   "id": "JxgYEb-fg4SE",
   "metadata": {
    "id": "JxgYEb-fg4SE"
   },
   "source": [
    "# ReIdentification"
   ]
  },
  {
   "cell_type": "code",
   "execution_count": null,
   "id": "CzV7G_HbcRF_",
   "metadata": {
    "colab": {
     "base_uri": "https://localhost:8080/"
    },
    "id": "CzV7G_HbcRF_",
    "outputId": "1dc6f7fa-e400-4fec-ee9a-5d40e98a9cac"
   },
   "outputs": [
    {
     "name": "stdout",
     "output_type": "stream",
     "text": [
      "THIS STRATEGIC ALLIANCE AGREEMENT (\"Agreement\") is made and entered into as of December 14, 2016 , by and between Hyatt Franchising Latin America, L.L.C. a limited liability company organized and existing under the laws of the State of Delaware\n",
      "+------------------------------------------------------------------------------------------------------------------------------------------------------------------------------------------------------------------------------------------------------+\n",
      "|result                                                                                                                                                                                                                                                |\n",
      "+------------------------------------------------------------------------------------------------------------------------------------------------------------------------------------------------------------------------------------------------------+\n",
      "|[THIS STRATEGIC ALLIANCE AGREEMENT (\"Agreement\") is made and entered into as of December 14, 2016 , by and between Hyatt Franchising Latin America, L.L.C. a limited liability company organized and existing under the laws of the State of Delaware]|\n",
      "+------------------------------------------------------------------------------------------------------------------------------------------------------------------------------------------------------------------------------------------------------+\n",
      "\n"
     ]
    }
   ],
   "source": [
    "print(text)\n",
    "\n",
    "reid_result.select(\"original.result\").show(truncate=False)"
   ]
  },
  {
   "cell_type": "code",
   "execution_count": null,
   "id": "a8892001-1392-4bc2-ab92-81d565c9d996",
   "metadata": {
    "colab": {
     "base_uri": "https://localhost:8080/",
     "height": 80
    },
    "id": "a8892001-1392-4bc2-ab92-81d565c9d996",
    "outputId": "1011be80-3c34-4838-87e5-89b77f0c3d80"
   },
   "outputs": [
    {
     "data": {
      "application/vnd.google.colaboratory.intrinsic+json": {
       "summary": "{\n  \"name\": \"      \",\n  \"rows\": 1,\n  \"fields\": [\n    {\n      \"column\": \"sentence\",\n      \"properties\": {\n        \"dtype\": \"string\",\n        \"num_unique_values\": 1,\n        \"samples\": [\n          \"THIS STRATEGIC ALLIANCE AGREEMENT (\\\"Agreement\\\") is made and entered into as of December 14, 2016 , by and between Hyatt Franchising Latin America, L.L.C. a limited liability company organized and existing under the laws of the State of Delaware\"\n        ],\n        \"semantic_type\": \"\",\n        \"description\": \"\"\n      }\n    },\n    {\n      \"column\": \"deidentified\",\n      \"properties\": {\n        \"dtype\": \"string\",\n        \"num_unique_values\": 1,\n        \"samples\": [\n          \"THIS <DOC> (\\\"Agreement\\\") is made and entered into as of <EFFDATE> , by and between <PARTY>. a limited liability company organized and existing under the laws of the State of Delaware\"\n        ],\n        \"semantic_type\": \"\",\n        \"description\": \"\"\n      }\n    }\n  ]\n}",
       "type": "dataframe"
      },
      "text/html": [
       "\n",
       "  <div id=\"df-4417ecc5-562b-482a-aaeb-6d25e340331c\" class=\"colab-df-container\">\n",
       "    <div>\n",
       "<style scoped>\n",
       "    .dataframe tbody tr th:only-of-type {\n",
       "        vertical-align: middle;\n",
       "    }\n",
       "\n",
       "    .dataframe tbody tr th {\n",
       "        vertical-align: top;\n",
       "    }\n",
       "\n",
       "    .dataframe thead th {\n",
       "        text-align: right;\n",
       "    }\n",
       "</style>\n",
       "<table border=\"1\" class=\"dataframe\">\n",
       "  <thead>\n",
       "    <tr style=\"text-align: right;\">\n",
       "      <th></th>\n",
       "      <th>sentence</th>\n",
       "      <th>deidentified</th>\n",
       "    </tr>\n",
       "  </thead>\n",
       "  <tbody>\n",
       "    <tr>\n",
       "      <th>0</th>\n",
       "      <td>THIS STRATEGIC ALLIANCE AGREEMENT (\"Agreement\"...</td>\n",
       "      <td>THIS &lt;DOC&gt; (\"Agreement\") is made and entered i...</td>\n",
       "    </tr>\n",
       "  </tbody>\n",
       "</table>\n",
       "</div>\n",
       "    <div class=\"colab-df-buttons\">\n",
       "\n",
       "  <div class=\"colab-df-container\">\n",
       "    <button class=\"colab-df-convert\" onclick=\"convertToInteractive('df-4417ecc5-562b-482a-aaeb-6d25e340331c')\"\n",
       "            title=\"Convert this dataframe to an interactive table.\"\n",
       "            style=\"display:none;\">\n",
       "\n",
       "  <svg xmlns=\"http://www.w3.org/2000/svg\" height=\"24px\" viewBox=\"0 -960 960 960\">\n",
       "    <path d=\"M120-120v-720h720v720H120Zm60-500h600v-160H180v160Zm220 220h160v-160H400v160Zm0 220h160v-160H400v160ZM180-400h160v-160H180v160Zm440 0h160v-160H620v160ZM180-180h160v-160H180v160Zm440 0h160v-160H620v160Z\"/>\n",
       "  </svg>\n",
       "    </button>\n",
       "\n",
       "  <style>\n",
       "    .colab-df-container {\n",
       "      display:flex;\n",
       "      gap: 12px;\n",
       "    }\n",
       "\n",
       "    .colab-df-convert {\n",
       "      background-color: #E8F0FE;\n",
       "      border: none;\n",
       "      border-radius: 50%;\n",
       "      cursor: pointer;\n",
       "      display: none;\n",
       "      fill: #1967D2;\n",
       "      height: 32px;\n",
       "      padding: 0 0 0 0;\n",
       "      width: 32px;\n",
       "    }\n",
       "\n",
       "    .colab-df-convert:hover {\n",
       "      background-color: #E2EBFA;\n",
       "      box-shadow: 0px 1px 2px rgba(60, 64, 67, 0.3), 0px 1px 3px 1px rgba(60, 64, 67, 0.15);\n",
       "      fill: #174EA6;\n",
       "    }\n",
       "\n",
       "    .colab-df-buttons div {\n",
       "      margin-bottom: 4px;\n",
       "    }\n",
       "\n",
       "    [theme=dark] .colab-df-convert {\n",
       "      background-color: #3B4455;\n",
       "      fill: #D2E3FC;\n",
       "    }\n",
       "\n",
       "    [theme=dark] .colab-df-convert:hover {\n",
       "      background-color: #434B5C;\n",
       "      box-shadow: 0px 1px 3px 1px rgba(0, 0, 0, 0.15);\n",
       "      filter: drop-shadow(0px 1px 2px rgba(0, 0, 0, 0.3));\n",
       "      fill: #FFFFFF;\n",
       "    }\n",
       "  </style>\n",
       "\n",
       "    <script>\n",
       "      const buttonEl =\n",
       "        document.querySelector('#df-4417ecc5-562b-482a-aaeb-6d25e340331c button.colab-df-convert');\n",
       "      buttonEl.style.display =\n",
       "        google.colab.kernel.accessAllowed ? 'block' : 'none';\n",
       "\n",
       "      async function convertToInteractive(key) {\n",
       "        const element = document.querySelector('#df-4417ecc5-562b-482a-aaeb-6d25e340331c');\n",
       "        const dataTable =\n",
       "          await google.colab.kernel.invokeFunction('convertToInteractive',\n",
       "                                                    [key], {});\n",
       "        if (!dataTable) return;\n",
       "\n",
       "        const docLinkHtml = 'Like what you see? Visit the ' +\n",
       "          '<a target=\"_blank\" href=https://colab.research.google.com/notebooks/data_table.ipynb>data table notebook</a>'\n",
       "          + ' to learn more about interactive tables.';\n",
       "        element.innerHTML = '';\n",
       "        dataTable['output_type'] = 'display_data';\n",
       "        await google.colab.output.renderOutput(dataTable, element);\n",
       "        const docLink = document.createElement('div');\n",
       "        docLink.innerHTML = docLinkHtml;\n",
       "        element.appendChild(docLink);\n",
       "      }\n",
       "    </script>\n",
       "  </div>\n",
       "\n",
       "\n",
       "    </div>\n",
       "  </div>\n"
      ],
      "text/plain": [
       "                                            sentence  \\\n",
       "0  THIS STRATEGIC ALLIANCE AGREEMENT (\"Agreement\"...   \n",
       "\n",
       "                                        deidentified  \n",
       "0  THIS <DOC> (\"Agreement\") is made and entered i...  "
      ]
     },
     "execution_count": 21,
     "metadata": {},
     "output_type": "execute_result"
    }
   ],
   "source": [
    "result.select(\n",
    "    F.explode(F.arrays_zip(result.sentence.result, result.deidentified.result)).alias(\n",
    "        \"cols\"\n",
    "    )\n",
    ").select(\n",
    "    F.expr(\"cols['0']\").alias(\"sentence\"), F.expr(\"cols['1']\").alias(\"deidentified\")\n",
    ").toPandas()"
   ]
  },
  {
   "cell_type": "markdown",
   "id": "5MQrBZl3cbEb",
   "metadata": {
    "id": "5MQrBZl3cbEb"
   },
   "source": [
    "## Other different masking strategies"
   ]
  },
  {
   "cell_type": "markdown",
   "id": "fc7f7662-6fb7-4ad6-b7a8-aa9587dafc85",
   "metadata": {
    "id": "fc7f7662-6fb7-4ad6-b7a8-aa9587dafc85"
   },
   "source": [
    "We have three modes to mask the entities in the Deidentification annotator. You can select the modes using the `.setMaskingPolicy()` parameter. The methods are the followings:\n",
    "\n",
    "**“entity_labels”**: Mask with the entity type of that chunk. (default) <br/>\n",
    "**“same_length_chars”**: Mask the deid entities with same length of asterix ( * ) with brackets ( [ , ] ) on both end. <br/>\n",
    "**“fixed_length_chars”**: Mask the deid entities with a fixed length of asterix ( * ). The length is setting up using the `setFixedMaskLength()` method. <br/>\n",
    "\n",
    "Let's try each of these and compare the results:"
   ]
  },
  {
   "cell_type": "code",
   "execution_count": null,
   "id": "2294859f-933e-4675-a573-bc67c7dc7ce5",
   "metadata": {
    "id": "2294859f-933e-4675-a573-bc67c7dc7ce5"
   },
   "outputs": [],
   "source": [
    "# deid model with \"entity_labels\"\n",
    "deid_entity_labels = (\n",
    "    legal.DeIdentification()\n",
    "    .setInputCols([\"sentence\", \"token\", \"ner_chunk\"])\n",
    "    .setOutputCol(\"deid_entity_label\")\n",
    "    .setMode(\"mask\")\n",
    "    .setReturnEntityMappings(False)\n",
    "    .setMaskingPolicy(\"entity_labels\")\n",
    ")\n",
    "\n",
    "# deid model with \"same_length_chars\"\n",
    "deid_same_length = (\n",
    "    legal.DeIdentification()\n",
    "    .setInputCols([\"sentence\", \"token\", \"ner_chunk\"])\n",
    "    .setOutputCol(\"deid_same_length\")\n",
    "    .setMode(\"mask\")\n",
    "    .setReturnEntityMappings(False)\n",
    "    .setMaskingPolicy(\"same_length_chars\")\n",
    ")\n",
    "\n",
    "# deid model with \"fixed_length_chars\"\n",
    "deid_fixed_length = (\n",
    "    legal.DeIdentification()\n",
    "    .setInputCols([\"sentence\", \"token\", \"ner_chunk\"])\n",
    "    .setOutputCol(\"deid_fixed_length\")\n",
    "    .setMode(\"mask\")\n",
    "    .setReturnEntityMappings(False)\n",
    "    .setMaskingPolicy(\"fixed_length_chars\")\n",
    "    .setFixedMaskLength(4)\n",
    ")\n",
    "\n",
    "\n",
    "deidPipeline = nlp.Pipeline(\n",
    "    stages=[\n",
    "        documentAssembler,\n",
    "        sentenceDetector,\n",
    "        tokenizer,\n",
    "        embeddings,\n",
    "        legal_ner,\n",
    "        ner_converter,\n",
    "        deid_entity_labels,\n",
    "        deid_same_length,\n",
    "        deid_fixed_length,\n",
    "    ]\n",
    ")\n",
    "\n",
    "\n",
    "empty_data = spark.createDataFrame([[\"\"]]).toDF(\"text\")\n",
    "model_deid = deidPipeline.fit(empty_data)"
   ]
  },
  {
   "cell_type": "code",
   "execution_count": 23,
   "id": "a5d82d09-b920-45e3-8856-cbb3a43697af",
   "metadata": {
    "id": "a5d82d09-b920-45e3-8856-cbb3a43697af"
   },
   "outputs": [],
   "source": [
    "result = model_deid.transform(spark.createDataFrame([[text]]).toDF(\"text\"))"
   ]
  },
  {
   "cell_type": "code",
   "execution_count": 24,
   "id": "d94fccb3-8874-428e-8cf3-2ed1bf443002",
   "metadata": {
    "colab": {
     "base_uri": "https://localhost:8080/"
    },
    "id": "d94fccb3-8874-428e-8cf3-2ed1bf443002",
    "outputId": "48d8b166-56aa-42d4-a37d-ba761d52f8c7"
   },
   "outputs": [
    {
     "name": "stdout",
     "output_type": "stream",
     "text": [
      "+--------------------+--------------------+--------------------+--------------------+--------------------+--------------------+--------------------+--------------------+--------------------+--------------------+\n",
      "|                text|            document|            sentence|               token|          embeddings|                 ner|           ner_chunk|   deid_entity_label|    deid_same_length|   deid_fixed_length|\n",
      "+--------------------+--------------------+--------------------+--------------------+--------------------+--------------------+--------------------+--------------------+--------------------+--------------------+\n",
      "|THIS STRATEGIC AL...|[{document, 0, 24...|[{document, 0, 24...|[{token, 0, 3, TH...|[{word_embeddings...|[{named_entity, 0...|[{chunk, 5, 32, S...|[{document, 0, 18...|[{document, 0, 24...|[{document, 0, 17...|\n",
      "+--------------------+--------------------+--------------------+--------------------+--------------------+--------------------+--------------------+--------------------+--------------------+--------------------+\n",
      "\n"
     ]
    }
   ],
   "source": [
    "result.show()"
   ]
  },
  {
   "cell_type": "code",
   "execution_count": null,
   "id": "f759241e-63a1-47ef-a562-a0a0272ed0e0",
   "metadata": {
    "colab": {
     "base_uri": "https://localhost:8080/",
     "height": 98
    },
    "id": "f759241e-63a1-47ef-a562-a0a0272ed0e0",
    "outputId": "cde3a645-5828-4aeb-b0b9-4e95a3adf5bc"
   },
   "outputs": [
    {
     "data": {
      "application/vnd.google.colaboratory.intrinsic+json": {
       "summary": "{\n  \"name\": \"                     F\",\n  \"rows\": 1,\n  \"fields\": [\n    {\n      \"column\": \"sentence\",\n      \"properties\": {\n        \"dtype\": \"string\",\n        \"num_unique_values\": 1,\n        \"samples\": [\n          \"THIS STRATEGIC ALLIANCE AGREEMENT (\\\"Agreement\\\") is made and entered into as of December 14, 2016 , by and between Hyatt Franchising Latin America, L.L.C. a limited liability company organized and existing under the laws of the State of Delaware\"\n        ],\n        \"semantic_type\": \"\",\n        \"description\": \"\"\n      }\n    },\n    {\n      \"column\": \"deid_entity_label\",\n      \"properties\": {\n        \"dtype\": \"string\",\n        \"num_unique_values\": 1,\n        \"samples\": [\n          \"THIS <DOC> (\\\"Agreement\\\") is made and entered into as of <EFFDATE> , by and between <PARTY>. a limited liability company organized and existing under the laws of the State of Delaware\"\n        ],\n        \"semantic_type\": \"\",\n        \"description\": \"\"\n      }\n    },\n    {\n      \"column\": \"deid_same_length\",\n      \"properties\": {\n        \"dtype\": \"string\",\n        \"num_unique_values\": 1,\n        \"samples\": [\n          \"THIS [**************************] (\\\"Agreement\\\") is made and entered into as of [***************] , by and between [************************************]. a limited liability company organized and existing under the laws of the State of Delaware\"\n        ],\n        \"semantic_type\": \"\",\n        \"description\": \"\"\n      }\n    },\n    {\n      \"column\": \"deid_fixed_length\",\n      \"properties\": {\n        \"dtype\": \"string\",\n        \"num_unique_values\": 1,\n        \"samples\": [\n          \"THIS **** (\\\"Agreement\\\") is made and entered into as of **** , by and between ****. a limited liability company organized and existing under the laws of the State of Delaware\"\n        ],\n        \"semantic_type\": \"\",\n        \"description\": \"\"\n      }\n    }\n  ]\n}",
       "type": "dataframe"
      },
      "text/html": [
       "\n",
       "  <div id=\"df-1f3a8233-4111-49a2-bacb-8f7c2956b858\" class=\"colab-df-container\">\n",
       "    <div>\n",
       "<style scoped>\n",
       "    .dataframe tbody tr th:only-of-type {\n",
       "        vertical-align: middle;\n",
       "    }\n",
       "\n",
       "    .dataframe tbody tr th {\n",
       "        vertical-align: top;\n",
       "    }\n",
       "\n",
       "    .dataframe thead th {\n",
       "        text-align: right;\n",
       "    }\n",
       "</style>\n",
       "<table border=\"1\" class=\"dataframe\">\n",
       "  <thead>\n",
       "    <tr style=\"text-align: right;\">\n",
       "      <th></th>\n",
       "      <th>sentence</th>\n",
       "      <th>deid_entity_label</th>\n",
       "      <th>deid_same_length</th>\n",
       "      <th>deid_fixed_length</th>\n",
       "    </tr>\n",
       "  </thead>\n",
       "  <tbody>\n",
       "    <tr>\n",
       "      <th>0</th>\n",
       "      <td>THIS STRATEGIC ALLIANCE AGREEMENT (\"Agreement\"...</td>\n",
       "      <td>THIS &lt;DOC&gt; (\"Agreement\") is made and entered i...</td>\n",
       "      <td>THIS [**************************] (\"Agreement\"...</td>\n",
       "      <td>THIS **** (\"Agreement\") is made and entered in...</td>\n",
       "    </tr>\n",
       "  </tbody>\n",
       "</table>\n",
       "</div>\n",
       "    <div class=\"colab-df-buttons\">\n",
       "\n",
       "  <div class=\"colab-df-container\">\n",
       "    <button class=\"colab-df-convert\" onclick=\"convertToInteractive('df-1f3a8233-4111-49a2-bacb-8f7c2956b858')\"\n",
       "            title=\"Convert this dataframe to an interactive table.\"\n",
       "            style=\"display:none;\">\n",
       "\n",
       "  <svg xmlns=\"http://www.w3.org/2000/svg\" height=\"24px\" viewBox=\"0 -960 960 960\">\n",
       "    <path d=\"M120-120v-720h720v720H120Zm60-500h600v-160H180v160Zm220 220h160v-160H400v160Zm0 220h160v-160H400v160ZM180-400h160v-160H180v160Zm440 0h160v-160H620v160ZM180-180h160v-160H180v160Zm440 0h160v-160H620v160Z\"/>\n",
       "  </svg>\n",
       "    </button>\n",
       "\n",
       "  <style>\n",
       "    .colab-df-container {\n",
       "      display:flex;\n",
       "      gap: 12px;\n",
       "    }\n",
       "\n",
       "    .colab-df-convert {\n",
       "      background-color: #E8F0FE;\n",
       "      border: none;\n",
       "      border-radius: 50%;\n",
       "      cursor: pointer;\n",
       "      display: none;\n",
       "      fill: #1967D2;\n",
       "      height: 32px;\n",
       "      padding: 0 0 0 0;\n",
       "      width: 32px;\n",
       "    }\n",
       "\n",
       "    .colab-df-convert:hover {\n",
       "      background-color: #E2EBFA;\n",
       "      box-shadow: 0px 1px 2px rgba(60, 64, 67, 0.3), 0px 1px 3px 1px rgba(60, 64, 67, 0.15);\n",
       "      fill: #174EA6;\n",
       "    }\n",
       "\n",
       "    .colab-df-buttons div {\n",
       "      margin-bottom: 4px;\n",
       "    }\n",
       "\n",
       "    [theme=dark] .colab-df-convert {\n",
       "      background-color: #3B4455;\n",
       "      fill: #D2E3FC;\n",
       "    }\n",
       "\n",
       "    [theme=dark] .colab-df-convert:hover {\n",
       "      background-color: #434B5C;\n",
       "      box-shadow: 0px 1px 3px 1px rgba(0, 0, 0, 0.15);\n",
       "      filter: drop-shadow(0px 1px 2px rgba(0, 0, 0, 0.3));\n",
       "      fill: #FFFFFF;\n",
       "    }\n",
       "  </style>\n",
       "\n",
       "    <script>\n",
       "      const buttonEl =\n",
       "        document.querySelector('#df-1f3a8233-4111-49a2-bacb-8f7c2956b858 button.colab-df-convert');\n",
       "      buttonEl.style.display =\n",
       "        google.colab.kernel.accessAllowed ? 'block' : 'none';\n",
       "\n",
       "      async function convertToInteractive(key) {\n",
       "        const element = document.querySelector('#df-1f3a8233-4111-49a2-bacb-8f7c2956b858');\n",
       "        const dataTable =\n",
       "          await google.colab.kernel.invokeFunction('convertToInteractive',\n",
       "                                                    [key], {});\n",
       "        if (!dataTable) return;\n",
       "\n",
       "        const docLinkHtml = 'Like what you see? Visit the ' +\n",
       "          '<a target=\"_blank\" href=https://colab.research.google.com/notebooks/data_table.ipynb>data table notebook</a>'\n",
       "          + ' to learn more about interactive tables.';\n",
       "        element.innerHTML = '';\n",
       "        dataTable['output_type'] = 'display_data';\n",
       "        await google.colab.output.renderOutput(dataTable, element);\n",
       "        const docLink = document.createElement('div');\n",
       "        docLink.innerHTML = docLinkHtml;\n",
       "        element.appendChild(docLink);\n",
       "      }\n",
       "    </script>\n",
       "  </div>\n",
       "\n",
       "\n",
       "    </div>\n",
       "  </div>\n"
      ],
      "text/plain": [
       "                                            sentence  \\\n",
       "0  THIS STRATEGIC ALLIANCE AGREEMENT (\"Agreement\"...   \n",
       "\n",
       "                                   deid_entity_label  \\\n",
       "0  THIS <DOC> (\"Agreement\") is made and entered i...   \n",
       "\n",
       "                                    deid_same_length  \\\n",
       "0  THIS [**************************] (\"Agreement\"...   \n",
       "\n",
       "                                   deid_fixed_length  \n",
       "0  THIS **** (\"Agreement\") is made and entered in...  "
      ]
     },
     "execution_count": 25,
     "metadata": {},
     "output_type": "execute_result"
    }
   ],
   "source": [
    "result.select(\n",
    "    F.explode(\n",
    "        F.arrays_zip(\n",
    "            result.sentence.result,\n",
    "            result.deid_entity_label.result,\n",
    "            result.deid_same_length.result,\n",
    "            result.deid_fixed_length.result,\n",
    "        )\n",
    "    ).alias(\"cols\")\n",
    ").select(\n",
    "    F.expr(\"cols['0']\").alias(\"sentence\"),\n",
    "    F.expr(\"cols['1']\").alias(\"deid_entity_label\"),\n",
    "    F.expr(\"cols['2']\").alias(\"deid_same_length\"),\n",
    "    F.expr(\"cols['3']\").alias(\"deid_fixed_length\"),\n",
    ").toPandas()"
   ]
  },
  {
   "cell_type": "markdown",
   "id": "24ad89cd-3022-46df-b4a1-6f6d90d0445a",
   "metadata": {
    "id": "24ad89cd-3022-46df-b4a1-6f6d90d0445a"
   },
   "source": [
    "### Mapping Column"
   ]
  },
  {
   "cell_type": "code",
   "execution_count": 26,
   "id": "941bfa77-2a19-4d47-ace2-0d5c6eb66514",
   "metadata": {
    "colab": {
     "base_uri": "https://localhost:8080/"
    },
    "id": "941bfa77-2a19-4d47-ace2-0d5c6eb66514",
    "outputId": "9120a0e3-537a-46d4-fae2-99b1b8efb717"
   },
   "outputs": [
    {
     "name": "stdout",
     "output_type": "stream",
     "text": [
      "+------------------------------------------------------------------------------------------------------------------------------------------------------------------------------------------------------------------------------------------------------------------------------------------------------------------------------------------------------------------------------------------------------------------------------------------------------+\n",
      "|ner_chunk                                                                                                                                                                                                                                                                                                                                                                                                                                             |\n",
      "+------------------------------------------------------------------------------------------------------------------------------------------------------------------------------------------------------------------------------------------------------------------------------------------------------------------------------------------------------------------------------------------------------------------------------------------------------+\n",
      "|[{chunk, 5, 32, STRATEGIC ALLIANCE AGREEMENT, {entity -> DOC, confidence -> 0.9753, ner_source -> ner_chunk, chunk -> 0, sentence -> 0}, []}, {chunk, 79, 95, December 14, 2016, {entity -> EFFDATE, confidence -> 0.934925, ner_source -> ner_chunk, chunk -> 1, sentence -> 0}, []}, {chunk, 114, 151, Hyatt Franchising Latin America, L.L.C, {entity -> PARTY, confidence -> 0.73328334, ner_source -> ner_chunk, chunk -> 2, sentence -> 0}, []}]|\n",
      "+------------------------------------------------------------------------------------------------------------------------------------------------------------------------------------------------------------------------------------------------------------------------------------------------------------------------------------------------------------------------------------------------------------------------------------------------------+\n",
      "\n"
     ]
    }
   ],
   "source": [
    "result.select(\"ner_chunk\").show(truncate=False)"
   ]
  },
  {
   "cell_type": "code",
   "execution_count": null,
   "id": "ea4502c9-ae7b-4bf0-97ec-0ed7a6ba2f32",
   "metadata": {
    "colab": {
     "base_uri": "https://localhost:8080/"
    },
    "id": "ea4502c9-ae7b-4bf0-97ec-0ed7a6ba2f32",
    "outputId": "70419564-1467-4c19-9bf2-301989d55a3a"
   },
   "outputs": [
    {
     "name": "stdout",
     "output_type": "stream",
     "text": [
      "+-------+----------+--------+\n",
      "|label  |beginLabel|endLabel|\n",
      "+-------+----------+--------+\n",
      "|DOC    |5         |32      |\n",
      "|EFFDATE|79        |95      |\n",
      "|PARTY  |114       |151     |\n",
      "+-------+----------+--------+\n",
      "\n"
     ]
    }
   ],
   "source": [
    "result.select(\n",
    "    F.explode(\n",
    "        F.arrays_zip(\n",
    "            result.ner_chunk.metadata, result.ner_chunk.begin, result.ner_chunk.end\n",
    "        )\n",
    "    ).alias(\"cols\")\n",
    ").select(\n",
    "    F.expr(\"cols['0']['entity']\").alias(\"label\"),\n",
    "    F.expr(\"cols['1']\").alias(\"beginLabel\"),\n",
    "    F.expr(\"cols['2']\").alias(\"endLabel\"),\n",
    ").show(truncate=False)"
   ]
  },
  {
   "cell_type": "markdown",
   "id": "27d5c012-0eef-48a5-9d3d-915e942f5639",
   "metadata": {
    "id": "27d5c012-0eef-48a5-9d3d-915e942f5639"
   },
   "source": [
    "## Using NER, ContextualParser and ZeroShotNER in the same Deideintification pipeline"
   ]
  },
  {
   "cell_type": "code",
   "execution_count": null,
   "id": "Pexzov3sc0Kd",
   "metadata": {
    "id": "Pexzov3sc0Kd"
   },
   "outputs": [],
   "source": [
    "# Create JSON file for PART\n",
    "alias = {\n",
    "    \"entity\": \"ALIAS\",\n",
    "    \"ruleScope\": \"document\",\n",
    "    \"completeMatchRegex\": \"true\",\n",
    "    \"regex\": '[\"“].*?[\"”]',\n",
    "    \"matchScope\": \"sub-token\",\n",
    "    \"contextLength\": 100,\n",
    "}\n",
    "\n",
    "email = {\n",
    "    \"entity\": \"EMAIL\",\n",
    "    \"ruleScope\": \"document\",\n",
    "    \"completeMatchRegex\": \"true\",\n",
    "    \"regex\": \"[\\w-\\.]+@([\\w-]+\\.)+[\\w-]{2,4}\",\n",
    "    \"matchScope\": \"sub-token\",\n",
    "    \"contextLength\": 100,\n",
    "}\n",
    "\n",
    "phone = {\n",
    "    \"entity\": \"PHONE\",\n",
    "    \"ruleScope\": \"document\",\n",
    "    \"completeMatchRegex\": \"true\",\n",
    "    \"regex\": \"(\\+?\\d{1,3}[\\s-]?)?\\(?\\d{3}\\)?[\\s.-]?\\d{3}[\\s.-]?\\d+\",\n",
    "    \"matchScope\": \"sub-token\",\n",
    "    \"contextLength\": 100,\n",
    "}\n",
    "\n",
    "import json\n",
    "\n",
    "with open(\"alias.json\", \"w\") as f:\n",
    "    json.dump(alias, f)\n",
    "\n",
    "with open(\"email.json\", \"w\") as f:\n",
    "    json.dump(email, f)\n",
    "\n",
    "with open(\"phone.json\", \"w\") as f:\n",
    "    json.dump(phone, f)"
   ]
  },
  {
   "cell_type": "code",
   "execution_count": null,
   "id": "4b11381f-af80-49e7-9d30-418a753fa08f",
   "metadata": {
    "colab": {
     "base_uri": "https://localhost:8080/"
    },
    "id": "4b11381f-af80-49e7-9d30-418a753fa08f",
    "outputId": "65d24325-3feb-4fcf-b3e3-16fbc33d1cf3"
   },
   "outputs": [
    {
     "name": "stdout",
     "output_type": "stream",
     "text": [
      "roberta_embeddings_legal_roberta_base download started this may take some time.\n",
      "Approximate size to download 447.2 MB\n",
      "[OK!]\n",
      "legner_contract_doc_parties_lg download started this may take some time.\n",
      "[OK!]\n",
      "legner_roberta_zeroshot download started this may take some time.\n",
      "[OK!]\n",
      "legner_signers download started this may take some time.\n",
      "[OK!]\n"
     ]
    }
   ],
   "source": [
    "documentAssembler = nlp.DocumentAssembler().setInputCol(\"text\").setOutputCol(\"document\")\n",
    "\n",
    "sentenceDetector = (\n",
    "    nlp.SentenceDetector().setInputCols([\"document\"]).setOutputCol(\"sentence\")\n",
    ")\n",
    "\n",
    "tokenizer = nlp.Tokenizer().setInputCols([\"sentence\"]).setOutputCol(\"token\")\n",
    "\n",
    "embeddings = (\n",
    "    nlp.RoBertaEmbeddings.pretrained(\"roberta_embeddings_legal_roberta_base\", \"en\")\n",
    "    .setInputCols([\"sentence\", \"token\"])\n",
    "    .setOutputCol(\"embeddings\")\n",
    "    .setStorageRef(\"roberta_embeddings_legal_roberta_base_en\")\n",
    ")\n",
    "\n",
    "ner_model = (\n",
    "    legal.NerModel.pretrained(\"legner_contract_doc_parties_lg\", \"en\", \"legal/models\")\n",
    "    .setInputCols([\"sentence\", \"token\", \"embeddings\"])\n",
    "    .setOutputCol(\"ner\")\n",
    ")\n",
    "\n",
    "ner_converter = (\n",
    "    legal.NerConverterInternal()\n",
    "    .setInputCols([\"sentence\", \"token\", \"ner\"])\n",
    "    .setOutputCol(\"ner_chunk\")\n",
    "    .setWhiteList([\"EFFDATE\", \"PARTY\", \"ALIAS\"])\n",
    "    .setReplaceLabels({\"FORMER_NAME\": \"PARTY\"})\n",
    "    .setGreedyMode(True)\n",
    ")\n",
    "\n",
    "zero_shot_ner = (\n",
    "    legal.ZeroShotNerModel.pretrained(\"legner_roberta_zeroshot\", \"en\", \"legal/models\")\n",
    "    .setInputCols([\"sentence\", \"token\"])\n",
    "    .setOutputCol(\"zero_shot_ner\")\n",
    "    .setPredictionThreshold(0.1)\n",
    "    .setEntityDefinitions(\n",
    "        {\n",
    "            \"ADDRESS\": [\"Which address?\", \"Where is the location?\"],\n",
    "            \"SIGNING_PERSON\": [\"Which person?\", \"What is the person name?\"],\n",
    "            \"PARTY\": [\"Which LLC?\", \"Which Inc?\", \"Which PLC?\", \"Which Corp?\"],\n",
    "        }\n",
    "    )\n",
    ")\n",
    "\n",
    "\n",
    "zeroshot_ner_converter = (\n",
    "    legal.NerConverterInternal()\n",
    "    .setInputCols([\"sentence\", \"token\", \"zero_shot_ner\"])\n",
    "    .setOutputCol(\"zero_ner_chunk\")\n",
    ")\n",
    "ner_model2 = (\n",
    "    legal.NerModel.pretrained(\"legner_signers\", \"en\", \"legal/models\")\n",
    "    .setInputCols([\"sentence\", \"token\", \"embeddings\"])\n",
    "    .setOutputCol(\"ner2\")\n",
    ")\n",
    "\n",
    "ner_converter2 = (\n",
    "    nlp.NerConverter()\n",
    "    .setInputCols([\"sentence\", \"token\", \"ner2\"])\n",
    "    .setOutputCol(\"ner_chunk2\")\n",
    ")\n",
    "\n",
    "alias_parser = (\n",
    "    legal.ContextualParserApproach()\n",
    "    .setInputCols([\"sentence\", \"token\"])\n",
    "    .setOutputCol(\"alias\")\n",
    "    .setJsonPath(\"alias.json\")\n",
    "    .setPrefixAndSuffixMatch(False)\n",
    "    .setOptionalContextRules(True)\n",
    "    .setCaseSensitive(False)\n",
    ")\n",
    "\n",
    "email_parser = (\n",
    "    legal.ContextualParserApproach()\n",
    "    .setInputCols([\"sentence\", \"token\"])\n",
    "    .setOutputCol(\"email\")\n",
    "    .setJsonPath(\"email.json\")\n",
    "    .setPrefixAndSuffixMatch(False)\n",
    "    .setOptionalContextRules(True)\n",
    "    .setCaseSensitive(False)\n",
    ")\n",
    "\n",
    "phone_parser = (\n",
    "    legal.ContextualParserApproach()\n",
    "    .setInputCols([\"sentence\", \"token\"])\n",
    "    .setOutputCol(\"phone\")\n",
    "    .setJsonPath(\"phone.json\")\n",
    "    .setPrefixAndSuffixMatch(False)\n",
    "    .setOptionalContextRules(True)\n",
    "    .setCaseSensitive(False)\n",
    ")\n",
    "\n",
    "chunk_merger = (\n",
    "    legal.ChunkMergeApproach()\n",
    "    .setInputCols(\n",
    "        \"email\", \"phone\", \"ner_chunk\", \"ner_chunk2\", \"zero_ner_chunk\", \"alias\"\n",
    "    )\n",
    "    .setOutputCol(\"merged_ner_chunks\")\n",
    ")\n",
    "\n",
    "nlpPipeline = nlp.Pipeline(\n",
    "    stages=[\n",
    "        documentAssembler,\n",
    "        sentenceDetector,\n",
    "        tokenizer,\n",
    "        embeddings,\n",
    "        ner_model,\n",
    "        ner_converter,\n",
    "        ner_model2,\n",
    "        ner_converter2,\n",
    "        zero_shot_ner,\n",
    "        zeroshot_ner_converter,\n",
    "        alias_parser,\n",
    "        email_parser,\n",
    "        phone_parser,\n",
    "        chunk_merger,\n",
    "    ]\n",
    ")\n",
    "\n",
    "empty_data = spark.createDataFrame([[\"\"]]).toDF(\"text\")\n",
    "\n",
    "model = nlpPipeline.fit(empty_data)"
   ]
  },
  {
   "cell_type": "code",
   "execution_count": 30,
   "id": "8f4ef972-ad0c-4297-896a-94b639027810",
   "metadata": {
    "id": "8f4ef972-ad0c-4297-896a-94b639027810"
   },
   "outputs": [],
   "source": [
    "text = \"\"\"\n",
    "This Commercial Lease (this “Lease”) dated February 11, 2021, but made effective as of January 1, 2021 (the “Effective Date”), is made by and between 605 NASH, LLC, a California limited liability company (“Landlord”) and NANTKWEST, INC., a Delaware corporation (“Tenant”).\n",
    "\n",
    "605 NASH, LLC,\t \tNANTKWEST, inc.,\n",
    "a California limited liability company\t \ta Delaware corporation\n",
    "\n",
    "\n",
    "By:\t \t/s/ Charles Kenworthy\t \tBy:\t \t/s/ Richard Adcock\n",
    "Name: Charles N. Kenworthy\t \tName: Richard Adcock\n",
    "Title:   Manager\t \tTitle:   CEO\n",
    "\n",
    "Attention: Chuck Kenworthy\t \tAttention: Chief Financial Officer\n",
    "Email:\n",
    "juan@johnsnowlabs.com\n",
    "Telephone numbers:\n",
    "304.123.333\n",
    "304-123-333\n",
    "+34 304-123-333\n",
    "0034304123333\n",
    "\"\"\""
   ]
  },
  {
   "cell_type": "code",
   "execution_count": null,
   "id": "63fe74f9-768c-47c1-87e0-86d7a2a556bf",
   "metadata": {
    "colab": {
     "base_uri": "https://localhost:8080/"
    },
    "id": "63fe74f9-768c-47c1-87e0-86d7a2a556bf",
    "outputId": "71b68090-ca7a-4765-8ccd-dec59957d6d8"
   },
   "outputs": [
    {
     "name": "stdout",
     "output_type": "stream",
     "text": [
      "+-----------------+---------+\n",
      "|chunk            |ner_label|\n",
      "+-----------------+---------+\n",
      "|February 11, 2021|EFFDATE  |\n",
      "|January 1, 2021  |EFFDATE  |\n",
      "|NASH, LLC        |PARTY    |\n",
      "|NANTKWEST,       |PARTY    |\n",
      "|605 NASH, LLC    |PARTY    |\n",
      "+-----------------+---------+\n",
      "\n"
     ]
    }
   ],
   "source": [
    "result = model.transform(spark.createDataFrame([[text]]).toDF(\"text\"))\n",
    "\n",
    "# legal_ner\n",
    "result.select(\n",
    "    F.explode(F.arrays_zip(result.ner_chunk.result, result.ner_chunk.metadata)).alias(\n",
    "        \"cols\"\n",
    "    )\n",
    ").select(\n",
    "    F.expr(\"cols['0']\").alias(\"chunk\"), F.expr(\"cols['1']['entity']\").alias(\"ner_label\")\n",
    ").show(truncate=False)"
   ]
  },
  {
   "cell_type": "code",
   "execution_count": null,
   "id": "3256773b-3371-4af4-a4e3-34e2c818640c",
   "metadata": {
    "colab": {
     "base_uri": "https://localhost:8080/"
    },
    "id": "3256773b-3371-4af4-a4e3-34e2c818640c",
    "outputId": "90da1132-6689-4b8e-91ac-8043f8804cb2"
   },
   "outputs": [
    {
     "name": "stdout",
     "output_type": "stream",
     "text": [
      "+-----------------------------+--------------+\n",
      "|chunk                        |ner_label     |\n",
      "+-----------------------------+--------------+\n",
      "|605                          |PARTY         |\n",
      "|NASH, LLC,                   |PARTY         |\n",
      "|NANTKWEST, INC               |PARTY         |\n",
      "|NASH, LLC,\\t \\tNANTKWEST, inc|PARTY         |\n",
      "|Charles Kenworthy            |SIGNING_PERSON|\n",
      "|Richard Adcock               |SIGNING_PERSON|\n",
      "|Charles N. Kenworthy         |SIGNING_PERSON|\n",
      "|Richard Adcock               |SIGNING_PERSON|\n",
      "|Manager                      |SIGNING_TITLE |\n",
      "|CEO                          |SIGNING_TITLE |\n",
      "|Chuck Kenworthy              |SIGNING_PERSON|\n",
      "|Chief Financial Officer      |SIGNING_TITLE |\n",
      "+-----------------------------+--------------+\n",
      "\n"
     ]
    }
   ],
   "source": [
    "# ner_signers\n",
    "result.select(\n",
    "    F.explode(F.arrays_zip(result.ner_chunk2.result, result.ner_chunk2.metadata)).alias(\n",
    "        \"cols\"\n",
    "    )\n",
    ").select(\n",
    "    F.expr(\"cols['0']\").alias(\"chunk\"), F.expr(\"cols['1']['entity']\").alias(\"ner_label\")\n",
    ").show(truncate=False)"
   ]
  },
  {
   "cell_type": "code",
   "execution_count": null,
   "id": "oWIpQahtd5qz",
   "metadata": {
    "colab": {
     "base_uri": "https://localhost:8080/"
    },
    "id": "oWIpQahtd5qz",
    "outputId": "783e17f5-1b1f-459f-f86b-481d7e8d4075"
   },
   "outputs": [
    {
     "name": "stdout",
     "output_type": "stream",
     "text": [
      "+-------------+---------+\n",
      "|chunk        |ner_label|\n",
      "+-------------+---------+\n",
      "|605 NASH, LLC|PARTY    |\n",
      "|California   |ADDRESS  |\n",
      "|NANTKWEST    |PARTY    |\n",
      "|Delaware     |ADDRESS  |\n",
      "+-------------+---------+\n",
      "\n"
     ]
    }
   ],
   "source": [
    "# zero_shot_ner\n",
    "result.select(\n",
    "    F.explode(\n",
    "        F.arrays_zip(result.zero_ner_chunk.result, result.zero_ner_chunk.metadata)\n",
    "    ).alias(\"cols\")\n",
    ").select(\n",
    "    F.expr(\"cols['0']\").alias(\"chunk\"), F.expr(\"cols['1']['entity']\").alias(\"ner_label\")\n",
    ").show(truncate=False)"
   ]
  },
  {
   "cell_type": "code",
   "execution_count": null,
   "id": "4a899327-42d8-48c1-ab4a-5f692b10be22",
   "metadata": {
    "colab": {
     "base_uri": "https://localhost:8080/"
    },
    "id": "4a899327-42d8-48c1-ab4a-5f692b10be22",
    "outputId": "5ef11682-5c4a-46dd-c4b4-a818156434e6"
   },
   "outputs": [
    {
     "name": "stdout",
     "output_type": "stream",
     "text": [
      "+-----------------------------+--------------+\n",
      "|chunk                        |ner_label     |\n",
      "+-----------------------------+--------------+\n",
      "|“Lease”                      |ALIAS         |\n",
      "|February 11, 2021            |EFFDATE       |\n",
      "|January 1, 2021              |EFFDATE       |\n",
      "|“Effective Date”             |ALIAS         |\n",
      "|605 NASH, LLC                |PARTY         |\n",
      "|California                   |ADDRESS       |\n",
      "|“Landlord”                   |ALIAS         |\n",
      "|NANTKWEST, INC               |PARTY         |\n",
      "|Delaware                     |ADDRESS       |\n",
      "|“Tenant”                     |ALIAS         |\n",
      "|NASH, LLC,\\t \\tNANTKWEST, inc|PARTY         |\n",
      "|Charles Kenworthy            |SIGNING_PERSON|\n",
      "|Richard Adcock               |SIGNING_PERSON|\n",
      "|Charles N. Kenworthy         |SIGNING_PERSON|\n",
      "|Richard Adcock               |SIGNING_PERSON|\n",
      "|Manager                      |SIGNING_TITLE |\n",
      "|CEO                          |SIGNING_TITLE |\n",
      "|Chuck Kenworthy              |SIGNING_PERSON|\n",
      "|Chief Financial Officer      |SIGNING_TITLE |\n",
      "|juan@johnsnowlabs.com        |EMAIL         |\n",
      "|304.123.333                  |PHONE         |\n",
      "|304-123-333                  |PHONE         |\n",
      "|+34 304-123-333              |PHONE         |\n",
      "|0034304123333                |PHONE         |\n",
      "+-----------------------------+--------------+\n",
      "\n"
     ]
    }
   ],
   "source": [
    "# merged_chunk\n",
    "result.select(\n",
    "    F.explode(\n",
    "        F.arrays_zip(result.merged_ner_chunks.result, result.merged_ner_chunks.metadata)\n",
    "    ).alias(\"cols\")\n",
    ").select(\n",
    "    F.expr(\"cols['0']\").alias(\"chunk\"), F.expr(\"cols['1']['entity']\").alias(\"ner_label\")\n",
    ").show(n=50, truncate=False)"
   ]
  },
  {
   "cell_type": "markdown",
   "id": "0de79296-97f8-4daa-940c-1fd8d176c8c3",
   "metadata": {
    "id": "0de79296-97f8-4daa-940c-1fd8d176c8c3"
   },
   "source": [
    "## Obfuscation mode"
   ]
  },
  {
   "cell_type": "markdown",
   "id": "52e7c83b-780b-4d3e-be7f-604cd310babd",
   "metadata": {
    "id": "52e7c83b-780b-4d3e-be7f-604cd310babd"
   },
   "source": [
    "In the obfuscation mode **DeIdentificationModel** will replace sensitive entities with random values of the same type.\n"
   ]
  },
  {
   "cell_type": "markdown",
   "id": "3qJhJlKpegAA",
   "metadata": {
    "id": "3qJhJlKpegAA"
   },
   "source": [
    "### Using external [Faker](https://faker.readthedocs.io/en/master/) library"
   ]
  },
  {
   "cell_type": "code",
   "execution_count": 35,
   "id": "DWtHGsUIeh2J",
   "metadata": {
    "colab": {
     "base_uri": "https://localhost:8080/"
    },
    "id": "DWtHGsUIeh2J",
    "outputId": "6aa31570-897e-4408-a56d-be2fe088e5af"
   },
   "outputs": [
    {
     "name": "stdout",
     "output_type": "stream",
     "text": [
      "Collecting faker\n",
      "  Downloading Faker-33.0.0-py3-none-any.whl.metadata (15 kB)\n",
      "Requirement already satisfied: python-dateutil>=2.4 in /usr/local/lib/python3.10/dist-packages (from faker) (2.8.2)\n",
      "Requirement already satisfied: typing-extensions in /usr/local/lib/python3.10/dist-packages (from faker) (4.12.2)\n",
      "Requirement already satisfied: six>=1.5 in /usr/local/lib/python3.10/dist-packages (from python-dateutil>=2.4->faker) (1.16.0)\n",
      "Downloading Faker-33.0.0-py3-none-any.whl (1.9 MB)\n",
      "\u001b[?25l   \u001b[90m━━━━━━━━━━━━━━━━━━━━━━━━━━━━━━━━━━━━━━━━\u001b[0m \u001b[32m0.0/1.9 MB\u001b[0m \u001b[31m?\u001b[0m eta \u001b[36m-:--:--\u001b[0m\r\u001b[2K   \u001b[91m━━━━━━━━━━━━━━━━━━━━━━━━━━━━━━━━━━━━━━━\u001b[0m\u001b[91m╸\u001b[0m \u001b[32m1.9/1.9 MB\u001b[0m \u001b[31m107.5 MB/s\u001b[0m eta \u001b[36m0:00:01\u001b[0m\r\u001b[2K   \u001b[90m━━━━━━━━━━━━━━━━━━━━━━━━━━━━━━━━━━━━━━━━\u001b[0m \u001b[32m1.9/1.9 MB\u001b[0m \u001b[31m51.5 MB/s\u001b[0m eta \u001b[36m0:00:00\u001b[0m\n",
      "\u001b[?25hInstalling collected packages: faker\n",
      "Successfully installed faker-33.0.0\n"
     ]
    }
   ],
   "source": [
    "!pip install faker"
   ]
  },
  {
   "cell_type": "code",
   "execution_count": null,
   "id": "14JQsuxjenrJ",
   "metadata": {
    "id": "14JQsuxjenrJ"
   },
   "outputs": [],
   "source": [
    "from faker import Faker\n",
    "\n",
    "fk = Faker()"
   ]
  },
  {
   "cell_type": "code",
   "execution_count": null,
   "id": "31b20c5a-bc56-43e1-9101-6503c23ab49b",
   "metadata": {
    "id": "31b20c5a-bc56-43e1-9101-6503c23ab49b"
   },
   "outputs": [],
   "source": [
    "# This is the obfuscation dict for the new entities\n",
    "obs_lines = \"\"\"CEO#SIGNING_TITLE\n",
    "Chief Executive Officer#SIGNING_TITLE\n",
    "Chief Legal Officer#SIGNING_TITLE\n",
    "Chief Financial officer#SIGNING_TITLE\n",
    "Legal Representative#SIGNING_TILE\n",
    "\"Alias\"#ALIAS\n",
    "\"Alias\"#ALIAS\"\"\"\n",
    "\n",
    "for _ in range(25):\n",
    "    add = fk.address().strip()\n",
    "    for ad in add.split(\"\\n\"):\n",
    "        obs_lines += f\"\\n{ad}#ADDRESS\"\n",
    "    obs_lines += f\"\\n{fk.name().strip()}#SIGNING_PERSON\"\n",
    "    obs_lines += f\"\\n{fk.date().strip()}#EFFDATE\"\n",
    "    obs_lines += f\"\\n{fk.company().strip()}#PARTY\"\n",
    "    obs_lines += f\"\\n{fk.phone_number().strip()}#PHONE\"\n",
    "    obs_lines += f\"\\n{fk.email().strip()}#EMAIL\"\n",
    "\n",
    "with open(\"obfuscate.txt\", \"w\") as f:\n",
    "    f.write(obs_lines)"
   ]
  },
  {
   "cell_type": "code",
   "execution_count": null,
   "id": "_wjSsNWPhp_p",
   "metadata": {
    "id": "_wjSsNWPhp_p"
   },
   "outputs": [],
   "source": [
    "# Previous Masking Annotators\n",
    "# deid model with \"entity_labels\"\n",
    "deid_entity_labels = (\n",
    "    legal.DeIdentification()\n",
    "    .setInputCols([\"sentence\", \"token\", \"merged_ner_chunks\"])\n",
    "    .setOutputCol(\"deidentified\")\n",
    "    .setMode(\"mask\")\n",
    "    .setMaskingPolicy(\"entity_labels\")\n",
    ")\n",
    "\n",
    "# deid model with \"same_length_chars\"\n",
    "deid_same_length = (\n",
    "    legal.DeIdentification()\n",
    "    .setInputCols([\"sentence\", \"token\", \"merged_ner_chunks\"])\n",
    "    .setOutputCol(\"masked_with_chars\")\n",
    "    .setMode(\"mask\")\n",
    "    .setMaskingPolicy(\"same_length_chars\")\n",
    ")\n",
    "\n",
    "# deid model with \"fixed_length_chars\"\n",
    "deid_fixed_length = (\n",
    "    legal.DeIdentification()\n",
    "    .setInputCols([\"sentence\", \"token\", \"merged_ner_chunks\"])\n",
    "    .setOutputCol(\"masked_fixed_length_chars\")\n",
    "    .setMode(\"mask\")\n",
    "    .setMaskingPolicy(\"fixed_length_chars\")\n",
    "    .setFixedMaskLength(4)\n",
    ")\n"
   ]
  },
  {
   "cell_type": "code",
   "execution_count": null,
   "id": "210db7c7-e1a3-46ac-941f-160abc068ada",
   "metadata": {
    "id": "210db7c7-e1a3-46ac-941f-160abc068ada"
   },
   "outputs": [],
   "source": [
    "# Obfuscation with Faker\n",
    "obfuscation = (\n",
    "    legal.DeIdentification()\n",
    "    .setInputCols([\"sentence\", \"token\", \"merged_ner_chunks\"])\n",
    "    .setOutputCol(\"obfuscated\")\n",
    "    .setMode(\"obfuscate\")\n",
    "    .setObfuscateDate(True)\n",
    "    .setObfuscateRefFile(\"obfuscate.txt\")\n",
    "    .setObfuscateRefSource(\"both\")\n",
    ")\n",
    "\n",
    "nlpPipeline = nlp.Pipeline(\n",
    "    stages=[\n",
    "        documentAssembler,\n",
    "        sentenceDetector,\n",
    "        tokenizer,\n",
    "        embeddings,\n",
    "        ner_model,\n",
    "        ner_converter,\n",
    "        ner_model2,\n",
    "        ner_converter2,\n",
    "        zero_shot_ner,\n",
    "        zeroshot_ner_converter,\n",
    "        alias_parser,\n",
    "        email_parser,\n",
    "        phone_parser,\n",
    "        chunk_merger,\n",
    "        deid_entity_labels,\n",
    "        deid_same_length,\n",
    "        deid_fixed_length,\n",
    "        obfuscation,\n",
    "    ]\n",
    ")\n",
    "\n",
    "obfuscation_model = nlpPipeline.fit(empty_data)"
   ]
  },
  {
   "cell_type": "code",
   "execution_count": 40,
   "id": "38268201-7202-462e-b195-59709e7fdc8f",
   "metadata": {
    "id": "38268201-7202-462e-b195-59709e7fdc8f"
   },
   "outputs": [],
   "source": [
    "text = \"\"\"This Commercial Lease (this “Lease”) dated February 11, 2021, but made effective as of January 1, 2021 (the “Effective Date”), is made by and between 605 NASH, LLC, a California limited liability company (“Landlord”) and NANTKWEST, INC., a Delaware corporation (“Tenant”).\n",
    "\n",
    "605 NASH, LLC,\t \tNANTKWEST, inc.,\n",
    "a California limited liability company\t \ta Delaware corporation\n",
    "\n",
    "\n",
    "By:\t \t/s/ Charles Kenworthy\t \tBy:\t \t/s/ Richard Adcock\n",
    "Name: Charles N. Kenworthy\t \tName: Richard Adcock\n",
    "Title:   Manager\t \tTitle:   CEO\n",
    "\n",
    "Address:\n",
    "9922 Jefferson Blvd.\n",
    "Culver City, CA 90232\n",
    "Attention: Chuck Kenworthy\t \tAttention: Chief Financial Officer cfo@johnkopkins.com (0031) 913-123\"\"\""
   ]
  },
  {
   "cell_type": "code",
   "execution_count": null,
   "id": "0264dd21-5927-46b3-82f3-575d7a0b7a16",
   "metadata": {
    "colab": {
     "base_uri": "https://localhost:8080/"
    },
    "id": "0264dd21-5927-46b3-82f3-575d7a0b7a16",
    "outputId": "bdb4a80c-9056-45c6-d5c6-ea81b81908af"
   },
   "outputs": [
    {
     "name": "stdout",
     "output_type": "stream",
     "text": [
      "This Commercial Lease (this <ALIAS>) dated <EFFDATE>, but made effective as of <EFFDATE> (the <ALIAS>), is made by and between <PARTY> a <ADDRESS> limited liability company (<ALIAS>) and <PARTY>., a <ADDRESS> corporation (<ALIAS>).\n",
      "605 <PARTY>.,\n",
      "a California limited liability company\t \ta Delaware corporation\n",
      " \t \t \t \t \t \t \n",
      " \t \t \t \t \t \t \n",
      "By:\t \t/s/ <SIGNING_PERSON>\t \tBy:\t \t/s/ <SIGNING_PERSON>\n",
      "Name: <SIGNING_PERSON>\t \tName: <SIGNING_PERSON>\n",
      "Title:   <SIGNING_TITLE>\t \tTitle:   <SIGNING_TITLE>\n",
      " \t \t \t \t \t \t \n",
      "Address:\n",
      "<ADDRESS>.\n",
      "<ADDRESS> 90232\n",
      "Attention: Chuck Kenworthy\t \tAttention: <SIGNING_TITLE> <EMAIL> (<PHONE>\n"
     ]
    }
   ],
   "source": [
    "result = obfuscation_model.transform(spark.createDataFrame([[text]]).toDF(\"text\"))\n",
    "print(\"\\n\".join(result.select(\"deidentified.result\").collect()[0].result))"
   ]
  },
  {
   "cell_type": "code",
   "execution_count": null,
   "id": "QC-tuSf712OQ",
   "metadata": {
    "colab": {
     "base_uri": "https://localhost:8080/"
    },
    "id": "QC-tuSf712OQ",
    "outputId": "5ecee39c-bd48-4fb6-aea2-9dd52e7c01c0"
   },
   "outputs": [
    {
     "name": "stdout",
     "output_type": "stream",
     "text": [
      "This Commercial Lease (this Paramount Group) dated April 12, 2021, but made effective as of March 2, 2021 (the Summit Capital), is made by and between Liberty Legal Solutions, PC a Anthonyton, OR 24470 limited liability company (Sunrise Holdings) and Emerald City Law Firm, PC., a Michelleside, CA 58081 corporation (Starlight Capital).\n",
      "605 Sunburst Enterprises, Inc..,\n",
      "a California limited liability company\t \ta Delaware corporation\n",
      " \t \t \t \t \t \t \n",
      " \t \t \t \t \t \t \n",
      "By:\t \t/s/ Almeta Jacobus\t \tBy:\t \t/s/ Lary Point\n",
      "Name: Conchetta Deeds\t \tName: Lary Point\n",
      "Title:   Deputy Treasurer\t \tTitle:   Agent-in-charge\n",
      " \t \t \t \t \t \t \n",
      "Address:\n",
      "06232 Kelley Lock.\n",
      "South Alexandra, KS 90829 90232\n",
      "Attention: Chuck Kenworthy\t \tAttention: Legal Advisor Ambrose@hotmail.com (4814) 546-958\n"
     ]
    }
   ],
   "source": [
    "print(\"\\n\".join(result.select(\"obfuscated.result\").collect()[0].result))"
   ]
  },
  {
   "cell_type": "markdown",
   "id": "3ebd5940-8389-4acb-b505-6dab2eebbbb3",
   "metadata": {
    "id": "3ebd5940-8389-4acb-b505-6dab2eebbbb3"
   },
   "source": [
    "## Using Light Pipelines"
   ]
  },
  {
   "cell_type": "code",
   "execution_count": null,
   "id": "79bba6fc-b913-4e23-b6e1-315616756073",
   "metadata": {
    "colab": {
     "base_uri": "https://localhost:8080/"
    },
    "id": "79bba6fc-b913-4e23-b6e1-315616756073",
    "outputId": "e23e885a-479e-4e84-a378-3d8638214663"
   },
   "outputs": [
    {
     "name": "stdout",
     "output_type": "stream",
     "text": [
      "This Commercial Lease (this <ALIAS>) dated <EFFDATE>, but made effective as of <EFFDATE> (the <ALIAS>), is made by and between <PARTY> a <ADDRESS> limited liability company (<ALIAS>) and <PARTY>., a <ADDRESS> corporation (<ALIAS>).\n",
      "605 <PARTY>.,\n",
      "a California limited liability company\t \ta Delaware corporation\n",
      " \t \t \t \t \t \t \n",
      " \t \t \t \t \t \t \n",
      "By:\t \t/s/ <SIGNING_PERSON>\t \tBy:\t \t/s/ <SIGNING_PERSON>\n",
      "Name: <SIGNING_PERSON>\t \tName: <SIGNING_PERSON>\n",
      "Title:   <SIGNING_TITLE>\t \tTitle:   <SIGNING_TITLE>\n",
      " \t \t \t \t \t \t \n",
      "Address:\n",
      "<ADDRESS>.\n",
      "<ADDRESS> 90232\n",
      "Attention: Chuck Kenworthy\t \tAttention: <SIGNING_TITLE> <EMAIL> (<PHONE>\n"
     ]
    }
   ],
   "source": [
    "light_model = nlp.LightPipeline(obfuscation_model)\n",
    "annotated_text = light_model.annotate(text)\n",
    "print(\"\\n\".join(annotated_text[\"deidentified\"]))"
   ]
  },
  {
   "cell_type": "code",
   "execution_count": null,
   "id": "9f0c3c9f-b7b6-4e68-ae5d-9c8833bf06d4",
   "metadata": {
    "colab": {
     "base_uri": "https://localhost:8080/"
    },
    "id": "9f0c3c9f-b7b6-4e68-ae5d-9c8833bf06d4",
    "outputId": "416a3621-a3a6-44ed-f2f3-72858de7b988"
   },
   "outputs": [
    {
     "name": "stdout",
     "output_type": "stream",
     "text": [
      "This Commercial Lease (this Paramount Group) dated April 12, 2021, but made effective as of March 2, 2021 (the Summit Capital), is made by and between Liberty Legal Solutions, PC a Anthonyton, OR 24470 limited liability company (Sunrise Holdings) and Emerald City Law Firm, PC., a Michelleside, CA 58081 corporation (Starlight Capital).\n",
      "605 Sunburst Enterprises, Inc..,\n",
      "a California limited liability company\t \ta Delaware corporation\n",
      " \t \t \t \t \t \t \n",
      " \t \t \t \t \t \t \n",
      "By:\t \t/s/ Almeta Jacobus\t \tBy:\t \t/s/ Lary Point\n",
      "Name: Conchetta Deeds\t \tName: Lary Point\n",
      "Title:   Deputy Treasurer\t \tTitle:   Agent-in-charge\n",
      " \t \t \t \t \t \t \n",
      "Address:\n",
      "06232 Kelley Lock.\n",
      "South Alexandra, KS 90829 90232\n",
      "Attention: Chuck Kenworthy\t \tAttention: Legal Advisor Ambrose@hotmail.com (4814) 546-958\n",
      "This Commercial Lease (this <ALIAS>) dated <EFFDATE>, but made effective as of <EFFDATE> (the <ALIAS>), is made by and between <PARTY> a <ADDRESS> limited liability company (<ALIAS>) and <PARTY>., a <ADDRESS> corporation (<ALIAS>).\n",
      "605 <PARTY>.,\n",
      "a California limited liability company\t \ta Delaware corporation\n",
      " \t \t \t \t \t \t \n",
      " \t \t \t \t \t \t \n",
      "By:\t \t/s/ <SIGNING_PERSON>\t \tBy:\t \t/s/ <SIGNING_PERSON>\n",
      "Name: <SIGNING_PERSON>\t \tName: <SIGNING_PERSON>\n",
      "Title:   <SIGNING_TITLE>\t \tTitle:   <SIGNING_TITLE>\n",
      " \t \t \t \t \t \t \n",
      "Address:\n",
      "<ADDRESS>.\n",
      "<ADDRESS> 90232\n",
      "Attention: Chuck Kenworthy\t \tAttention: <SIGNING_TITLE> <EMAIL> (<PHONE>\n",
      "This Commercial Lease (this [*****]) dated [***************], but made effective as of [*************] (the [**************]), is made by and between [************] a [********] limited liability company ([********]) and [************]., a [******] corporation ([******]).\n",
      "605 [*************************].,\n",
      "a California limited liability company\t \ta Delaware corporation\n",
      " \t \t \t \t \t \t \n",
      " \t \t \t \t \t \t \n",
      "By:\t \t/s/ [***************]\t \tBy:\t \t/s/ [************]\n",
      "Name: [******************]\t \tName: [************]\n",
      "Title:   [*****]\t \tTitle:   [*]\n",
      " \t \t \t \t \t \t \n",
      "Address:\n",
      "[*****************].\n",
      "[*************] 90232\n",
      "Attention: Chuck Kenworthy\t \tAttention: [*********************] [**Ambrose@hotmail.com***********]\n",
      "This Commercial Lease (this <ALIAS>) dated <EFFDATE>, but made effective as of <EFFDATE> (the <ALIAS>), is made by and between <PARTY> a <ADDRESS> limited liability company (<ALIAS>) and <PARTY>., a <ADDRESS> corporation (<ALIAS>).\n",
      "605 <PARTY>.,\n",
      "a California limited liability company\t \ta Delaware corporation\n",
      " \t \t \t \t \t \t \n",
      " \t \t \t \t \t \t \n",
      "By:\t \t/s/ <SIGNING_PERSON>\t \tBy:\t \t/s/ <SIGNING_PERSON>\n",
      "Name: <SIGNING_PERSON>\t \tName: <SIGNING_PERSON>\n",
      "Title:   <SIGNING_TITLE>\t \tTitle:   <SIGNING_TITLE>\n",
      " \t \t \t \t \t \t \n",
      "Address:\n",
      "<ADDRESS>.\n",
      "<ADDRESS> 90232\n",
      "Attention: Chuck Kenworthy\t \tAttention: <SIGNING_TITLE> <EMAIL> (<PHONE>\n",
      "This Commercial Lease (this ****) dated ****, but made effective as of **** (the ****), is made by and between **** a **** limited liability company (****) and ****., a **** corporation (****).\n"
     ]
    }
   ],
   "source": [
    "print(\"\\n\".join(annotated_text[\"obfuscated\"]))"
   ]
  },
  {
   "cell_type": "markdown",
   "id": "zm9B278ZZlyr",
   "metadata": {
    "id": "zm9B278ZZlyr"
   },
   "source": [
    "## Shifting Days\n",
    "\n",
    "We use the `medical.DocumentHashCoder()` annotator to determine shifting days. This annotator gets the hash of the specified column and creates a new document column containing day shift information. And then, the `medical.DeIdentification()` annotator deidentifies this new doc. We should set the seed parameter to hash consistently.  "
   ]
  },
  {
   "cell_type": "code",
   "execution_count": null,
   "id": "_17tC0tqZr_l",
   "metadata": {
    "colab": {
     "base_uri": "https://localhost:8080/"
    },
    "id": "_17tC0tqZr_l",
    "outputId": "a6a9c42b-341e-4d8b-ac4e-fc5299ace5e6"
   },
   "outputs": [
    {
     "name": "stdout",
     "output_type": "stream",
     "text": [
      "+----------+-------------------------------------------+\n",
      "|DocumentID|text                                       |\n",
      "+----------+-------------------------------------------+\n",
      "|A001      |Chris Brown was arrested on 10/02/2022     |\n",
      "|A001      |Mark White has bought a stock on 02/28/2020|\n",
      "|A002      |John has bought a house on 03/15/2022      |\n",
      "|A002      |John Moore was discharged on 12/31/2022    |\n",
      "+----------+-------------------------------------------+\n",
      "\n"
     ]
    }
   ],
   "source": [
    "import pandas as pd\n",
    "\n",
    "data = pd.DataFrame(\n",
    "    {\n",
    "        \"DocumentID\": [\"A001\", \"A001\", \"A002\", \"A002\"],\n",
    "        \"text\": [\n",
    "            \"Chris Brown was arrested on 10/02/2022\",\n",
    "            \"Mark White has bought a stock on 02/28/2020\",\n",
    "            \"John has bought a house on 03/15/2022\",\n",
    "            \"John Moore was discharged on 12/31/2022\",\n",
    "        ],\n",
    "    }\n",
    ")\n",
    "\n",
    "my_input_df = spark.createDataFrame(data)\n",
    "\n",
    "my_input_df.show(truncate=False)"
   ]
  },
  {
   "cell_type": "markdown",
   "id": "Rsp2fUfMwlC0",
   "metadata": {
    "id": "Rsp2fUfMwlC0"
   },
   "source": [
    "### Shifting days according to the ID column\n",
    "\n",
    "We use the `legal.DocumentHashCoder()` annotator to determine shifting days. This annotator gets the hash of the specified column and creates a new document column containing day shift information. And then, the `legal.DeIdentification()` annotator deidentifies this new doc. We should set the seed parameter to hash consistently.  "
   ]
  },
  {
   "cell_type": "code",
   "execution_count": null,
   "id": "IH83aro3wg9w",
   "metadata": {
    "colab": {
     "base_uri": "https://localhost:8080/"
    },
    "id": "IH83aro3wg9w",
    "outputId": "be5df85b-30cd-4850-99d8-476ac013e6b2"
   },
   "outputs": [
    {
     "name": "stdout",
     "output_type": "stream",
     "text": [
      "roberta_embeddings_legal_roberta_base download started this may take some time.\n",
      "Approximate size to download 447.2 MB\n",
      "[OK!]\n",
      "legner_deid download started this may take some time.\n",
      "[OK!]\n"
     ]
    }
   ],
   "source": [
    "documentAssembler = nlp.DocumentAssembler().setInputCol(\"text\").setOutputCol(\"document\")\n",
    "\n",
    "documentHasher = (\n",
    "    legal.DocumentHashCoder()\n",
    "    .setInputCols(\"document\")\n",
    "    .setOutputCol(\"document2\")\n",
    "    .setPatientIdColumn(\"DocumentID\")\n",
    "    .setRangeDays(100)\n",
    "    .setNewDateShift(\"shift_days\")\n",
    "    .setSeed(100)\n",
    ")\n",
    "\n",
    "# sentenceDetector = nlp.SentenceDetector()\\\n",
    "#     .setInputCols([\"document2\"])\\\n",
    "#     .setOutputCol(\"sentence\")\n",
    "\n",
    "tokenizer = nlp.Tokenizer().setInputCols([\"document2\"]).setOutputCol(\"token\")\n",
    "\n",
    "embeddings = (\n",
    "    nlp.RoBertaEmbeddings.pretrained(\"roberta_embeddings_legal_roberta_base\", \"en\")\n",
    "    .setInputCols([\"document2\", \"token\"])\n",
    "    .setOutputCol(\"embeddings\")\n",
    "    .setStorageRef(\"roberta_embeddings_legal_roberta_base_en\")\n",
    ")\n",
    "\n",
    "legal_ner = (\n",
    "    legal.NerModel.pretrained(\"legner_deid\", \"en\", \"legal/models\")\n",
    "    .setInputCols([\"document2\", \"token\", \"embeddings\"])\n",
    "    .setOutputCol(\"ner\")\n",
    ")\n",
    "# .setLabelCasing(\"upper\")\n",
    "\n",
    "ner_converter = (\n",
    "    legal.NerConverterInternal()\n",
    "    .setInputCols([\"document2\", \"token\", \"ner\"])\n",
    "    .setOutputCol(\"ner_chunk\")\n",
    ")\n",
    "\n",
    "deid = (\n",
    "    legal.DeIdentification()\n",
    "    .setInputCols([\"document2\", \"token\", \"ner_chunk\"])\n",
    "    .setOutputCol(\"deidentified\")\n",
    "    .setMode(\"obfuscate\")\n",
    "    .setObfuscateDate(True)\n",
    "    .setDateTag(\"DATE\")\n",
    "    .setLanguage(\"en\")\n",
    "    .setObfuscateRefSource(\"faker\")\n",
    "    .setUseShifDays(True)\n",
    "    .setRegion(\"us\")\n",
    ")\n",
    "\n",
    "pipeline = nlp.Pipeline(\n",
    "    stages=[\n",
    "        documentAssembler,\n",
    "        documentHasher,\n",
    "        sentenceDetector,\n",
    "        tokenizer,\n",
    "        embeddings,\n",
    "        legal_ner,\n",
    "        ner_converter,\n",
    "        deid,\n",
    "    ]\n",
    ")\n",
    "\n",
    "empty_data = spark.createDataFrame([[\"\", \"\"]]).toDF(\"text\", \"DocumentID\")\n",
    "\n",
    "pipeline_model = pipeline.fit(empty_data)"
   ]
  },
  {
   "cell_type": "code",
   "execution_count": null,
   "id": "KPz7-XcBwhBT",
   "metadata": {
    "colab": {
     "base_uri": "https://localhost:8080/"
    },
    "id": "KPz7-XcBwhBT",
    "outputId": "517b889b-0533-4ebd-b4fb-01d220f28793"
   },
   "outputs": [
    {
     "name": "stdout",
     "output_type": "stream",
     "text": [
      "+----------+-------------------------------------------+----------------------------------------------+\n",
      "|DocumentID|text                                       |result                                        |\n",
      "+----------+-------------------------------------------+----------------------------------------------+\n",
      "|A001      |Chris Brown was arrested on 10/02/2022     |[Devota Fontan was arrested on 09/27/2022]    |\n",
      "|A001      |Mark White has bought a stock on 02/28/2020|[Juana Nones has bought a stock on 02/23/2020]|\n",
      "|A002      |John has bought a house on 03/15/2022      |[Darcy Eaton has bought a house on 04/13/2022]|\n",
      "|A002      |John Moore was discharged on 12/31/2022    |[Phyllis Breeze was discharged on 01/29/2023] |\n",
      "+----------+-------------------------------------------+----------------------------------------------+\n",
      "\n"
     ]
    }
   ],
   "source": [
    "output = pipeline_model.transform(my_input_df)\n",
    "\n",
    "output.select(\"DocumentID\", \"text\", \"deidentified.result\").show(truncate=False)"
   ]
  },
  {
   "cell_type": "markdown",
   "id": "zpJiuktQwrkt",
   "metadata": {
    "id": "zpJiuktQwrkt"
   },
   "source": [
    "### Shifting days according to specified values\n",
    "\n",
    "Instead of shifting days according to ID column, we can specify shifting values with another column.\n",
    "\n",
    "```python\n",
    "documentHasher = legal.DocumentHashCoder()\\\n",
    "    .setInputCols(\"document\")\\\n",
    "    .setOutputCol(\"document2\")\\\n",
    "    .setDateShiftColumn(\"dateshift\")\\\n",
    "```\n"
   ]
  },
  {
   "cell_type": "code",
   "execution_count": null,
   "id": "zexpaYvcwrtG",
   "metadata": {
    "colab": {
     "base_uri": "https://localhost:8080/"
    },
    "id": "zexpaYvcwrtG",
    "outputId": "89431123-f178-4f94-9100-09b82d210779"
   },
   "outputs": [
    {
     "name": "stdout",
     "output_type": "stream",
     "text": [
      "+----------+-------------------------------------------+---------+\n",
      "|DocumentID|text                                       |dateshift|\n",
      "+----------+-------------------------------------------+---------+\n",
      "|A001      |Chris Brown was arrested on 10/02/2019     |5        |\n",
      "|A001      |Mark White has bought a stock on 02/28/2020|5        |\n",
      "|A002      |John has bought a house on 03/15/2022      |10       |\n",
      "|A002      |John Moore was discharged on 12/31/2022    |10       |\n",
      "+----------+-------------------------------------------+---------+\n",
      "\n"
     ]
    }
   ],
   "source": [
    "data = pd.DataFrame(\n",
    "    {\n",
    "        \"DocumentID\": [\"A001\", \"A001\", \"A002\", \"A002\"],\n",
    "        \"text\": [\n",
    "            \"Chris Brown was arrested on 10/02/2019\",\n",
    "            \"Mark White has bought a stock on 02/28/2020\",\n",
    "            \"John has bought a house on 03/15/2022\",\n",
    "            \"John Moore was discharged on 12/31/2022\",\n",
    "        ],\n",
    "        \"dateshift\": [\"5\", \"5\", \"10\", \"10\"],\n",
    "    }\n",
    ")\n",
    "\n",
    "\n",
    "my_input_df = spark.createDataFrame(data)\n",
    "\n",
    "my_input_df.show(truncate=False)"
   ]
  },
  {
   "cell_type": "code",
   "execution_count": null,
   "id": "dgB4NqBi0Z-t",
   "metadata": {
    "colab": {
     "base_uri": "https://localhost:8080/"
    },
    "id": "dgB4NqBi0Z-t",
    "outputId": "79fa63ee-6676-4364-9d7e-57cee364482d"
   },
   "outputs": [
    {
     "name": "stdout",
     "output_type": "stream",
     "text": [
      "roberta_embeddings_legal_roberta_base download started this may take some time.\n",
      "Approximate size to download 447.2 MB\n",
      "[OK!]\n",
      "legner_deid download started this may take some time.\n",
      "[OK!]\n"
     ]
    }
   ],
   "source": [
    "documentAssembler = nlp.DocumentAssembler().setInputCol(\"text\").setOutputCol(\"document\")\n",
    "\n",
    "documentHasher = (\n",
    "    legal.DocumentHashCoder()\n",
    "    .setInputCols(\"document\")\n",
    "    .setOutputCol(\"document2\")\n",
    "    .setDateShiftColumn(\"dateshift\")\n",
    ")\n",
    "\n",
    "\n",
    "# sentenceDetector = nlp.SentenceDetecto()\\\n",
    "#     .setInputCols([\"document2\"])\\\n",
    "#     .setOutputCol(\"sentence\")\n",
    "\n",
    "tokenizer = nlp.Tokenizer().setInputCols([\"document2\"]).setOutputCol(\"token\")\n",
    "\n",
    "embeddings = (\n",
    "    nlp.RoBertaEmbeddings.pretrained(\"roberta_embeddings_legal_roberta_base\", \"en\")\n",
    "    .setInputCols([\"document2\", \"token\"])\n",
    "    .setOutputCol(\"embeddings\")\n",
    "    .setStorageRef(\"roberta_embeddings_legal_roberta_base_en\")\n",
    ")\n",
    "\n",
    "legal_ner = (\n",
    "    legal.NerModel.pretrained(\"legner_deid\", \"en\", \"legal/models\")\n",
    "    .setInputCols([\"document2\", \"token\", \"embeddings\"])\n",
    "    .setOutputCol(\"ner\")\n",
    ")\n",
    "# .setLabelCasing(\"upper\")\n",
    "\n",
    "ner_converter = (\n",
    "    legal.NerConverterInternal()\n",
    "    .setInputCols([\"document2\", \"token\", \"ner\"])\n",
    "    .setOutputCol(\"ner_chunk\")\n",
    ")\n",
    "\n",
    "obfuscation = (\n",
    "    legal.DeIdentification()\n",
    "    .setInputCols([\"document2\", \"token\", \"ner_chunk\"])\n",
    "    .setOutputCol(\"deidentified\")\n",
    "    .setMode(\"obfuscate\")\n",
    "    .setObfuscateDate(True)\n",
    "    .setDateTag(\"DATE\")\n",
    "    .setLanguage(\"en\")\n",
    "    .setObfuscateRefSource(\"faker\")\n",
    "    .setUseShifDays(True)\n",
    "    .setRegion(\"us\")\n",
    ")\n",
    "\n",
    "pipeline = nlp.Pipeline(\n",
    "    stages=[\n",
    "        documentAssembler,\n",
    "        documentHasher,\n",
    "        tokenizer,\n",
    "        embeddings,\n",
    "        legal_ner,\n",
    "        ner_converter,\n",
    "        obfuscation,\n",
    "    ]\n",
    ")\n",
    "\n",
    "empty_data = spark.createDataFrame([[\"\", \"\", \"\"]]).toDF(\n",
    "    \"text\", \"DocumentID\", \"dateshift\"\n",
    ")\n",
    "\n",
    "pipeline_model = pipeline.fit(empty_data)"
   ]
  },
  {
   "cell_type": "code",
   "execution_count": null,
   "id": "tVV_Tb5a1IY3",
   "metadata": {
    "colab": {
     "base_uri": "https://localhost:8080/"
    },
    "id": "tVV_Tb5a1IY3",
    "outputId": "b51d47fb-5460-4d52-84ef-d9cf5e612e29"
   },
   "outputs": [
    {
     "name": "stdout",
     "output_type": "stream",
     "text": [
      "+-------------------------------------------+---------+-------------------------------------------------+\n",
      "|text                                       |dateshift|result                                           |\n",
      "+-------------------------------------------+---------+-------------------------------------------------+\n",
      "|Chris Brown was arrested on 10/02/2019     |5        |[Alisia Apple was arrested on 10/07/2019]        |\n",
      "|Mark White has bought a stock on 02/28/2020|5        |[Fayrene Hope has bought a stock on 03/04/2020]  |\n",
      "|John has bought a house on 03/15/2022      |10       |[Rosebud Confer has bought a house on 03/25/2022]|\n",
      "|John Moore was discharged on 12/31/2022    |10       |[Chandler Combs was discharged on 01/10/2023]    |\n",
      "+-------------------------------------------+---------+-------------------------------------------------+\n",
      "\n"
     ]
    }
   ],
   "source": [
    "output = pipeline_model.transform(my_input_df)\n",
    "\n",
    "output.select(\"text\", \"dateshift\", \"deidentified.result\").show(truncate=False)"
   ]
  },
  {
   "cell_type": "markdown",
   "id": "_olmWxXfV5AO",
   "metadata": {
    "id": "_olmWxXfV5AO"
   },
   "source": [
    "### Masking Unnormalized Date Formats\n",
    "\n",
    "`setUnnormalizedDateMode()` parameter is used to mask the DATE entities that can not be normalized. In the example below, please check `03Apr2022` which couldn't be normalized and it is masked in the output."
   ]
  },
  {
   "cell_type": "code",
   "execution_count": null,
   "id": "ecMNdkr_V0Xq",
   "metadata": {
    "colab": {
     "base_uri": "https://localhost:8080/"
    },
    "id": "ecMNdkr_V0Xq",
    "outputId": "3d3d3ce0-0866-431b-d2ad-7cf24bcb9396"
   },
   "outputs": [
    {
     "name": "stdout",
     "output_type": "stream",
     "text": [
      "roberta_embeddings_legal_roberta_base download started this may take some time.\n",
      "Approximate size to download 447.2 MB\n",
      "[OK!]\n",
      "legner_deid download started this may take some time.\n",
      "[OK!]\n",
      "+-------------------------------------------+---------+----------------------------------------------+\n",
      "|text                                       |dateshift|result                                        |\n",
      "+-------------------------------------------+---------+----------------------------------------------+\n",
      "|Chris Brown was arrested on 10/02/2022     |5        |[Kathalene Pali was arrested on 10/14/2022]   |\n",
      "|Mark White has bought a stock on 02/28/2020|5        |[Leldon Push has bought a stock on 03/11/2020]|\n",
      "|John has bought a house on 03Apr2022       |10       |[Garen Juneau has bought a house on 03Apr2022]|\n",
      "|John Moore was discharged on 12/31/2022    |10       |[Heddy Liverpool was discharged on 01/12/2023]|\n",
      "+-------------------------------------------+---------+----------------------------------------------+\n",
      "\n"
     ]
    }
   ],
   "source": [
    "data = pd.DataFrame(\n",
    "    {\n",
    "        \"DocumentID\": [\"A001\", \"A001\", \"A002\", \"A002\"],\n",
    "        \"text\": [\n",
    "            \"Chris Brown was arrested on 10/02/2022\",\n",
    "            \"Mark White has bought a stock on 02/28/2020\",\n",
    "            \"John has bought a house on 03Apr2022\",\n",
    "            \"John Moore was discharged on 12/31/2022\",\n",
    "        ],\n",
    "        \"dateshift\": [\"5\", \"5\", \"10\", \"10\"],\n",
    "    }\n",
    ")\n",
    "\n",
    "my_input_df = spark.createDataFrame(data)\n",
    "\n",
    "\n",
    "documentAssembler = nlp.DocumentAssembler().setInputCol(\"text\").setOutputCol(\"document\")\n",
    "\n",
    "documentHasher = (\n",
    "    legal.DocumentHashCoder()\n",
    "    .setInputCols(\"document\")\n",
    "    .setOutputCol(\"document2\")\n",
    "    .setDateShiftColumn(\"dateshift\")\n",
    ")\n",
    "\n",
    "\n",
    "# sentenceDetector = nlp.SentenceDetector()\\\n",
    "#     .setInputCols([\"document2\"])\\\n",
    "#     .setOutputCol(\"sentence\")\n",
    "\n",
    "tokenizer = nlp.Tokenizer().setInputCols([\"document2\"]).setOutputCol(\"token\")\n",
    "\n",
    "embeddings = (\n",
    "    nlp.RoBertaEmbeddings.pretrained(\"roberta_embeddings_legal_roberta_base\", \"en\")\n",
    "    .setInputCols([\"document2\", \"token\"])\n",
    "    .setOutputCol(\"embeddings\")\n",
    "    .setStorageRef(\"roberta_embeddings_legal_roberta_base_en\")\n",
    ")\n",
    "\n",
    "legal_ner = (\n",
    "    legal.NerModel.pretrained(\"legner_deid\", \"en\", \"legal/models\")\n",
    "    .setInputCols([\"document2\", \"token\", \"embeddings\"])\n",
    "    .setOutputCol(\"ner\")\n",
    ")\n",
    "# .setLabelCasing(\"upper\")\n",
    "\n",
    "ner_converter = (\n",
    "    legal.NerConverterInternal()\n",
    "    .setInputCols([\"document2\", \"token\", \"ner\"])\n",
    "    .setOutputCol(\"ner_chunk\")\n",
    ")\n",
    "\n",
    "obfuscation = (\n",
    "    legal.DeIdentification()\n",
    "    .setInputCols([\"sentence\", \"token\", \"ner_chunk\"])\n",
    "    .setOutputCol(\"deidentified\")\n",
    "    .setMode(\"obfuscate\")\n",
    "    .setObfuscateDate(True)\n",
    "    .setDateTag(\"DATE\")\n",
    "    .setLanguage(\"en\")\n",
    "    .setObfuscateRefSource(\"faker\")\n",
    "    .setUseShifDays(True)\n",
    "    .setRegion(\"us\")\n",
    "    .setUnnormalizedDateMode(\"mask\")\n",
    ")\n",
    "\n",
    "pipeline = nlp.Pipeline(\n",
    "    stages=[\n",
    "        documentAssembler,\n",
    "        documentHasher,\n",
    "        sentenceDetector,\n",
    "        tokenizer,\n",
    "        embeddings,\n",
    "        legal_ner,\n",
    "        ner_converter,\n",
    "        obfuscation,\n",
    "    ]\n",
    ")\n",
    "\n",
    "\n",
    "output = pipeline.fit(my_input_df).transform(my_input_df)\n",
    "\n",
    "output.select(\"text\", \"dateshift\", \"deidentified.result\").show(truncate=False)"
   ]
  },
  {
   "cell_type": "code",
   "execution_count": null,
   "id": "tV1QWUyh0Zhi",
   "metadata": {
    "id": "tV1QWUyh0Zhi"
   },
   "outputs": [],
   "source": []
  },
  {
   "cell_type": "markdown",
   "id": "zwM9GsKnXPOg",
   "metadata": {
    "id": "zwM9GsKnXPOg"
   },
   "source": [
    "# Structured Deidentification"
   ]
  },
  {
   "cell_type": "code",
   "execution_count": null,
   "id": "JLY-pfeYXQAY",
   "metadata": {
    "colab": {
     "base_uri": "https://localhost:8080/"
    },
    "id": "JLY-pfeYXQAY",
    "outputId": "f77caccd-ae74-4369-b94e-64975458bd6b"
   },
   "outputs": [
    {
     "name": "stdout",
     "output_type": "stream",
     "text": [
      "+---------------+----------+---+----------------------------------------------------+-------+--------------+---+---+\n",
      "|NAME           |DOB       |AGE|ADDRESS                                             |ZIPCODE|TEL           |SBP|DBP|\n",
      "+---------------+----------+---+----------------------------------------------------+-------+--------------+---+---+\n",
      "|Cecilia Chapman|04/02/1935|83 |711-2880 Nulla St. Mankato Mississippi              |69200  |(257) 563-7401|101|42 |\n",
      "|Iris Watson    |03/10/2009|9  |P.O. Box 283 8562 Fusce Rd. Frederick Nebraska      |20620  |(372) 587-2335|159|122|\n",
      "|Bryar Pitts    |11/01/1921|98 |5543 Aliquet St. Fort Dodge GA                      |20783  |(717) 450-4729|149|52 |\n",
      "|Theodore Lowe  |13/02/2002|16 |Ap #867-859 Sit Rd. Azusa New York                  |39531  |(793) 151-6230|134|115|\n",
      "|Calista Wise   |20/08/1942|76 |7292 Dictum Av. San Antonio MI                      |47096  |(492) 709-6392|139|78 |\n",
      "|Kyla Olsen     |12/05/1973|45 |Ap #651-8679 Sodales Av. Tamuning PA                |10855  |(654) 393-5734|120|112|\n",
      "|Forrest Ray    |11/01/1991|27 |191-103 Integer Rd. Corona New Mexico               |8219   |(404) 960-3807|143|126|\n",
      "|Hiroko Potter  |18/11/1937|81 |P.O. Box 887 2508 Dolor. Av. Muskegon KY            |12482  |(314) 244-6306|147|75 |\n",
      "|Celeste Slater |12/05/1980|38 |606-3727 Ullamcorper. Street Roseville NH           |11523  |(786) 713-8616|147|123|\n",
      "|Nyssa Vazquez  |24/09/1956|62 |511-5762 At Rd. Chelsea MI                          |67708  |(947) 278-5929|129|50 |\n",
      "|Lawrence Moreno|26/12/1906|112|935-9940 Tortor. Street Santa Rosa MN               |98804  |(684) 579-1879|133|102|\n",
      "|Ina Moran      |26/10/1983|35 |P.O. Box 929 4189 Nunc Road Lebanon KY              |69409  |(389) 737-2852|101|67 |\n",
      "|Aaron Hawkins  |26/09/2009|9  |5587 Nunc. Avenue Erie Rhode Island                 |24975  |(660) 663-4518|87 |81 |\n",
      "|Hedy Greene    |03/10/1920|98 |Ap #696-3279 Viverra. Avenue Latrobe DE             |38100  |(608) 265-2215|128|123|\n",
      "|Melvin Porter  |14/08/1911|107|P.O. Box 132 1599 Curabitur Rd. Bandera South Dakota|45149  |(959) 119-8364|83 |43 |\n",
      "|Keefe Sellers  |16/05/1937|81 |347-7666 Iaculis St. Woodruff SC                    |49854  |(468) 353-2641|148|109|\n",
      "|Joan Romero    |08/12/2004|14 |666-4366 Lacinia Avenue Idaho Falls Ohio            |19253  |(248) 675-4007|75 |53 |\n",
      "|Davis Patrick  |09/01/1956|63 |P.O. Box 147 2546 Sociosqu Rd. Bethlehem Utah       |2913   |(939) 353-1107|142|62 |\n",
      "|Leilani Boyer  |18/10/1934|84 |557-6308 Lacinia Road San Bernardino ND             |9289   |(570) 873-7090|137|48 |\n",
      "|Colby Bernard  |02/10/1905|113|Ap #285-7193 Ullamcorper Avenue Amesbury HI         |93373  |(302) 259-2375|84 |41 |\n",
      "+---------------+----------+---+----------------------------------------------------+-------+--------------+---+---+\n",
      "only showing top 20 rows\n",
      "\n"
     ]
    }
   ],
   "source": [
    "!wget -q https://raw.githubusercontent.com/JohnSnowLabs/spark-nlp-workshop/master/legal-nlp/data/hipaa-table-001.txt\n",
    "\n",
    "df = (\n",
    "    spark.read.format(\"csv\")\n",
    "    .option(\"sep\", \"\\t\")\n",
    "    .option(\"inferSchema\", \"true\")\n",
    "    .option(\"header\", \"true\")\n",
    "    .load(\"hipaa-table-001.txt\")\n",
    ")\n",
    "\n",
    "df.show(truncate=False)"
   ]
  },
  {
   "cell_type": "code",
   "execution_count": null,
   "id": "PQ84IQTGcFAd",
   "metadata": {
    "colab": {
     "base_uri": "https://localhost:8080/"
    },
    "id": "PQ84IQTGcFAd",
    "outputId": "b42e1073-6588-422d-a5c8-d44dd0432594"
   },
   "outputs": [
    {
     "name": "stdout",
     "output_type": "stream",
     "text": [
      "+------------------+----------+-----+----------------------------------------------------+-------+--------------+---+---+\n",
      "|NAME              |DOB       |AGE  |ADDRESS                                             |ZIPCODE|TEL           |SBP|DBP|\n",
      "+------------------+----------+-----+----------------------------------------------------+-------+--------------+---+---+\n",
      "|[Chanetta Comes]  |04/02/1935|[94] |711-2880 Nulla St. Mankato Mississippi              |69200  |(257) 563-7401|101|42 |\n",
      "|[Odella Bending]  |03/10/2009|[8]  |P.O. Box 283 8562 Fusce Rd. Frederick Nebraska      |20620  |(372) 587-2335|159|122|\n",
      "|[Carylon Claude]  |11/01/1921|[89] |5543 Aliquet St. Fort Dodge GA                      |20783  |(717) 450-4729|149|52 |\n",
      "|[Mathews Solomons]|13/02/2002|[17] |Ap #867-859 Sit Rd. Azusa New York                  |39531  |(793) 151-6230|134|115|\n",
      "|[Abel Hoe]        |20/08/1942|[66] |7292 Dictum Av. San Antonio MI                      |47096  |(492) 709-6392|139|78 |\n",
      "|[Chrystal Crape]  |12/05/1973|[54] |Ap #651-8679 Sodales Av. Tamuning PA                |10855  |(654) 393-5734|120|112|\n",
      "|[Stephens Eis]    |11/01/1991|[35] |191-103 Integer Rd. Corona New Mexico               |8219   |(404) 960-3807|143|126|\n",
      "|[Annella Kief]    |18/11/1937|[92] |P.O. Box 887 2508 Dolor. Av. Muskegon KY            |12482  |(314) 244-6306|147|75 |\n",
      "|[Garold Kail]     |12/05/1980|[26] |606-3727 Ullamcorper. Street Roseville NH           |11523  |(786) 713-8616|147|123|\n",
      "|[Wynema Heck]     |24/09/1956|[72] |511-5762 At Rd. Chelsea MI                          |67708  |(947) 278-5929|129|50 |\n",
      "|[Geno Kida]       |26/12/1906|[104]|935-9940 Tortor. Street Santa Rosa MN               |98804  |(684) 579-1879|133|102|\n",
      "|[Donavan Fuchs]   |26/10/1983|[23] |P.O. Box 929 4189 Nunc Road Lebanon KY              |69409  |(389) 737-2852|101|67 |\n",
      "|[Clide Dalton]    |26/09/2009|[8]  |5587 Nunc. Avenue Erie Rhode Island                 |24975  |(660) 663-4518|87 |81 |\n",
      "|[Nestor Banter]   |03/10/1920|[89] |Ap #696-3279 Viverra. Avenue Latrobe DE             |38100  |(608) 265-2215|128|123|\n",
      "|[Armandina Lana]  |14/08/1911|[119]|P.O. Box 132 1599 Curabitur Rd. Bandera South Dakota|45149  |(959) 119-8364|83 |43 |\n",
      "|[Alaina Aline]    |16/05/1937|[92] |347-7666 Iaculis St. Woodruff SC                    |49854  |(468) 353-2641|148|109|\n",
      "|[Lind Repine]     |08/12/2004|[15] |666-4366 Lacinia Avenue Idaho Falls Ohio            |19253  |(248) 675-4007|75 |53 |\n",
      "|[Dotti Gear]      |09/01/1956|[73] |P.O. Box 147 2546 Sociosqu Rd. Bethlehem Utah       |2913   |(939) 353-1107|142|62 |\n",
      "|[Twanna Galas]    |18/10/1934|[95] |557-6308 Lacinia Road San Bernardino ND             |9289   |(570) 873-7090|137|48 |\n",
      "|[Forest Idol]     |02/10/1905|[105]|Ap #285-7193 Ullamcorper Avenue Amesbury HI         |93373  |(302) 259-2375|84 |41 |\n",
      "+------------------+----------+-----+----------------------------------------------------+-------+--------------+---+---+\n",
      "only showing top 20 rows\n",
      "\n"
     ]
    }
   ],
   "source": [
    "obfuscator = legal.StructuredDeidentification(\n",
    "    spark, {\"NAME\": \"PATIENT\", \"AGE\": \"AGE\"}, obfuscateRefSource=\"faker\"\n",
    ")\n",
    "obfuscator_df = obfuscator.obfuscateColumns(df)\n",
    "obfuscator_df.show(truncate=False)"
   ]
  },
  {
   "cell_type": "code",
   "execution_count": null,
   "id": "-GmMv8T-I0CX",
   "metadata": {
    "id": "-GmMv8T-I0CX"
   },
   "outputs": [],
   "source": [
    "obfuscator_unique_ref_test = \"\"\"Will Perry#CLIENT\n",
    "John Smith#CLIENT\n",
    "Marvin MARSHALL#CLIENT\n",
    "Hubert GROGAN#CLIENT\n",
    "ALTHEA COLBURN#CLIENT\n",
    "Kalil AMIN#CLIENT\n",
    "Inci FOUNTAIN#CLIENT\n",
    "Jackson WILLE#CLIENT\n",
    "Jack SANTOS#CLIENT\n",
    "Mahmood ALBURN#CLIENT\n",
    "Marnie MELINGTON#CLIENT\n",
    "Aysha GHAZI#CLIENT\n",
    "Maryland CODER#CLIENT\n",
    "Darene GEORGIOUS#CLIENT\n",
    "Shelly WELLBECK#CLIENT\n",
    "Min Kun JAE#CLIENT\n",
    "Thomson THOMAS#CLIENT\n",
    "Christian SUDDINBURG#CLIENT\n",
    "Aberdeen#CITY\n",
    "Louisburg St#STREET\n",
    "France#LOC\n",
    "5552312#PHONE\n",
    "Calle del Libertador#ADDRESS\n",
    "111#ID\n",
    "20#AGE\n",
    "30#AGE\n",
    "40#AGE\n",
    "50#AGE\n",
    "60#AGE\n",
    "\"\"\"\n",
    "\n",
    "with open(\"obfuscator_unique_ref_test.txt\", \"w\") as f:\n",
    "    f.write(obfuscator_unique_ref_test)"
   ]
  },
  {
   "cell_type": "code",
   "execution_count": null,
   "id": "PTwdR034I70n",
   "metadata": {
    "colab": {
     "base_uri": "https://localhost:8080/"
    },
    "id": "PTwdR034I70n",
    "outputId": "77d27717-8144-46c2-be11-4e82fb14f2a2"
   },
   "outputs": [
    {
     "name": "stdout",
     "output_type": "stream",
     "text": [
      "+----------------------+----+\n",
      "|NAME                  |AGE |\n",
      "+----------------------+----+\n",
      "|[Christian SUDDINBURG]|[60]|\n",
      "|[Christian SUDDINBURG]|[30]|\n",
      "|[Thomson THOMAS]      |[30]|\n",
      "|[Aysha GHAZI]         |[40]|\n",
      "|[Jack SANTOS]         |[40]|\n",
      "|[Mahmood ALBURN]      |[40]|\n",
      "|[Jackson WILLE]       |[60]|\n",
      "|[Maryland CODER]      |[60]|\n",
      "|[Kalil AMIN]          |[60]|\n",
      "|[Kalil AMIN]          |[20]|\n",
      "|[Thomson THOMAS]      |[60]|\n",
      "|[Kalil AMIN]          |[40]|\n",
      "|[Mahmood ALBURN]      |[30]|\n",
      "|[Darene GEORGIOUS]    |[30]|\n",
      "|[Jack SANTOS]         |[30]|\n",
      "|[Maryland CODER]      |[60]|\n",
      "|[Darene GEORGIOUS]    |[50]|\n",
      "|[Maryland CODER]      |[30]|\n",
      "|[Mahmood ALBURN]      |[20]|\n",
      "|[Thomson THOMAS]      |[20]|\n",
      "+----------------------+----+\n",
      "only showing top 20 rows\n",
      "\n"
     ]
    }
   ],
   "source": [
    "# obfuscateRefSource = \"file\"\n",
    "\n",
    "obfuscator = legal.StructuredDeidentification(\n",
    "    spark,\n",
    "    {\"NAME\": \"CLIENT\", \"AGE\": \"AGE\"},\n",
    "    obfuscateRefFile=\"/content/obfuscator_unique_ref_test.txt\",\n",
    "    obfuscateRefSource=\"file\",\n",
    "    columnsSeed={\"NAME\": 23, \"AGE\": 23},\n",
    ")\n",
    "obfuscator_df = obfuscator.obfuscateColumns(df)\n",
    "obfuscator_df.select(\"NAME\", \"AGE\").show(truncate=False)"
   ]
  },
  {
   "cell_type": "markdown",
   "id": "w8tW5fFafQmL",
   "metadata": {
    "id": "w8tW5fFafQmL"
   },
   "source": [
    "We can **shift n days** in the structured deidentification through \"days\" parameter when the column is a Date."
   ]
  },
  {
   "cell_type": "code",
   "execution_count": null,
   "id": "iBzoNufMfYCn",
   "metadata": {
    "colab": {
     "base_uri": "https://localhost:8080/"
    },
    "id": "iBzoNufMfYCn",
    "outputId": "cc6ac15b-e615-48e7-cd97-cba0d0e3795d"
   },
   "outputs": [
    {
     "name": "stdout",
     "output_type": "stream",
     "text": [
      "+-------------+----------+-----------------------+---+----------------+\n",
      "|NAME         |DOB       |ADDRESS                |SBP|TEL             |\n",
      "+-------------+----------+-----------------------+---+----------------+\n",
      "|Juan García  |13/02/1977|711 Nulla St.          |140|673 431234      |\n",
      "|Will Smith   |23/02/1977|1 Green Avenue.        |140|+23 (673) 431234|\n",
      "|Pedro Ximénez|11/04/1900|Calle del Libertador, 7|100|912 345623      |\n",
      "+-------------+----------+-----------------------+---+----------------+\n",
      "\n"
     ]
    }
   ],
   "source": [
    "df = spark.createDataFrame(\n",
    "    [\n",
    "        [\"Juan García\", \"13/02/1977\", \"711 Nulla St.\", \"140\", \"673 431234\"],\n",
    "        [\"Will Smith\", \"23/02/1977\", \"1 Green Avenue.\", \"140\", \"+23 (673) 431234\"],\n",
    "        [\"Pedro Ximénez\", \"11/04/1900\", \"Calle del Libertador, 7\", \"100\", \"912 345623\"],\n",
    "    ]\n",
    ").toDF(\"NAME\", \"DOB\", \"ADDRESS\", \"SBP\", \"TEL\")\n",
    "df.show(truncate=False)"
   ]
  },
  {
   "cell_type": "code",
   "execution_count": null,
   "id": "Fez0Rqq_fX3C",
   "metadata": {
    "id": "Fez0Rqq_fX3C"
   },
   "outputs": [],
   "source": [
    "obfuscator = legal.StructuredDeidentification(\n",
    "    spark=spark,\n",
    "    columns={\"NAME\": \"ID\", \"DOB\": \"DATE\"},\n",
    "    columnsSeed={\"NAME\": 23, \"DOB\": 23},\n",
    "    obfuscateRefSource=\"faker\",\n",
    "    days=5,\n",
    ")"
   ]
  },
  {
   "cell_type": "code",
   "execution_count": 59,
   "id": "HgNuMKhngFq2",
   "metadata": {
    "colab": {
     "base_uri": "https://localhost:8080/"
    },
    "id": "HgNuMKhngFq2",
    "outputId": "8c164516-e11a-4ebf-a0b2-18faa0a3ac12"
   },
   "outputs": [
    {
     "name": "stdout",
     "output_type": "stream",
     "text": [
      "+---------------+------------+-----------------------+---+----------------+\n",
      "|NAME           |DOB         |ADDRESS                |SBP|TEL             |\n",
      "+---------------+------------+-----------------------+---+----------------+\n",
      "|[MRDW ZDKBXD]  |[18/02/1977]|711 Nulla St.          |140|673 431234      |\n",
      "|[UGJJ QKGBF]   |[28/02/1977]|1 Green Avenue.        |140|+23 (673) 431234|\n",
      "|[EFEIV WTXRUFA]|[16/04/1900]|Calle del Libertador, 7|100|912 345623      |\n",
      "+---------------+------------+-----------------------+---+----------------+\n",
      "\n"
     ]
    }
   ],
   "source": [
    "result = obfuscator.obfuscateColumns(df)\n",
    "result.show(truncate=False)"
   ]
  },
  {
   "cell_type": "markdown",
   "id": "cc5ac615-13af-4149-bf78-96e2d27d9c5f",
   "metadata": {
    "id": "cc5ac615-13af-4149-bf78-96e2d27d9c5f"
   },
   "source": [
    "# Save the Pipeline and Use it from Your Local"
   ]
  },
  {
   "cell_type": "code",
   "execution_count": null,
   "id": "f54386d7-486c-44e9-9557-954c45d9d493",
   "metadata": {
    "id": "f54386d7-486c-44e9-9557-954c45d9d493"
   },
   "outputs": [],
   "source": [
    "model.write().overwrite().save(\"pipeline_deid\")"
   ]
  },
  {
   "cell_type": "code",
   "execution_count": 61,
   "id": "2a6de84f-d5da-405a-afe6-7d3840dd454d",
   "metadata": {
    "id": "2a6de84f-d5da-405a-afe6-7d3840dd454d"
   },
   "outputs": [],
   "source": [
    "deid_pipeline = nlp.PretrainedPipeline.from_disk(\"pipeline_deid\")"
   ]
  },
  {
   "cell_type": "code",
   "execution_count": 62,
   "id": "cbd89eeb-f5f5-4639-9ccf-29c2491f4d37",
   "metadata": {
    "id": "cbd89eeb-f5f5-4639-9ccf-29c2491f4d37"
   },
   "outputs": [],
   "source": [
    "data = spark.createDataFrame([[text]]).toDF(\"text\")"
   ]
  },
  {
   "cell_type": "code",
   "execution_count": 63,
   "id": "e78dea29-7a4c-4724-8e2f-93e635c2602e",
   "metadata": {
    "colab": {
     "base_uri": "https://localhost:8080/"
    },
    "id": "e78dea29-7a4c-4724-8e2f-93e635c2602e",
    "outputId": "03e3d4b0-e1db-4527-8eb0-3488aa73a547"
   },
   "outputs": [
    {
     "data": {
      "text/plain": [
       "[DocumentAssembler_b12257598998,\n",
       " SentenceDetector_61976255ccfb,\n",
       " REGEX_TOKENIZER_929e7567a2e7,\n",
       " ROBERTA_EMBEDDINGS_ad42a9ffcbbd,\n",
       " LegalNerModel_2581d15a167e,\n",
       " NER_CONVERTER_fa87d8c4a8a1,\n",
       " LegalNerModel_a75ed7366584,\n",
       " NerConverter_401903d11811,\n",
       " ZeroShotRobertaNer_5d06c0297d21,\n",
       " NER_CONVERTER_051406fa648b,\n",
       " CONTEXTUAL-PARSER_885c814223c2,\n",
       " CONTEXTUAL-PARSER_319c4be4cdee,\n",
       " CONTEXTUAL-PARSER_2e1f324e5be3,\n",
       " MERGE_6d7115c64635]"
      ]
     },
     "execution_count": 63,
     "metadata": {},
     "output_type": "execute_result"
    }
   ],
   "source": [
    "deid_pipeline.model.stages"
   ]
  },
  {
   "cell_type": "code",
   "execution_count": 64,
   "id": "de7e48e9-4433-40c8-8e88-a5d5a0265bb9",
   "metadata": {
    "colab": {
     "base_uri": "https://localhost:8080/"
    },
    "id": "de7e48e9-4433-40c8-8e88-a5d5a0265bb9",
    "outputId": "10ffe27a-dfd7-4a4b-cdc4-3618a3a3b2b7"
   },
   "outputs": [
    {
     "name": "stdout",
     "output_type": "stream",
     "text": [
      "+--------------------+--------------------+--------------------+--------------------+--------------------+--------------------+--------------------+--------------------+--------------------+--------------------+--------------------+--------------------+--------------------+--------------------+--------------------+\n",
      "|                text|            document|            sentence|               token|          embeddings|                 ner|           ner_chunk|                ner2|          ner_chunk2|       zero_shot_ner|      zero_ner_chunk|               alias|               email|               phone|   merged_ner_chunks|\n",
      "+--------------------+--------------------+--------------------+--------------------+--------------------+--------------------+--------------------+--------------------+--------------------+--------------------+--------------------+--------------------+--------------------+--------------------+--------------------+\n",
      "|This Commercial L...|[{document, 0, 70...|[{document, 0, 27...|[{token, 0, 3, Th...|[{word_embeddings...|[{named_entity, 0...|[{chunk, 43, 59, ...|[{named_entity, 0...|[{chunk, 150, 163...|[{named_entity, 0...|[{chunk, 150, 162...|[{chunk, 28, 34, ...|[{chunk, 667, 685...|[{chunk, 688, 700...|[{chunk, 28, 34, ...|\n",
      "+--------------------+--------------------+--------------------+--------------------+--------------------+--------------------+--------------------+--------------------+--------------------+--------------------+--------------------+--------------------+--------------------+--------------------+--------------------+\n",
      "\n"
     ]
    }
   ],
   "source": [
    "deid_pipeline.model.transform(data).show()"
   ]
  },
  {
   "cell_type": "markdown",
   "id": "615a3cf3-ae62-40cf-b9b2-a68c8053c908",
   "metadata": {
    "id": "615a3cf3-ae62-40cf-b9b2-a68c8053c908"
   },
   "source": [
    "# Pretrained Deidentification Pipeline\n",
    "\n",
    "We have this pipeline can be used to deidentify legal information from texts.The legal information will be masked and obfuscated in the resulting text. The pipeline can mask and obfuscate `DOC`, `EFFDATE`, `PARTY`, `ALIAS`, `SIGNING_PERSON`, `SIGNING_TITLE`, `COUNTRY`, `CITY`, `STATE`, `STREET`, `ZIP`, `EMAIL`, `FAX`, `LOCATION-OTHER`, `DATE`,`PHONE` among many others."
   ]
  },
  {
   "cell_type": "code",
   "execution_count": 3,
   "id": "994c32d7-44e7-4637-9f64-454af9168dab",
   "metadata": {
    "colab": {
     "base_uri": "https://localhost:8080/"
    },
    "id": "994c32d7-44e7-4637-9f64-454af9168dab",
    "outputId": "c43e4b2d-5fcd-49bd-d4f8-6158be9fd8b2"
   },
   "outputs": [
    {
     "name": "stdout",
     "output_type": "stream",
     "text": [
      "legpipe_deid download started this may take some time.\n",
      "Approx size to download 479.9 MB\n",
      "[OK!]\n"
     ]
    }
   ],
   "source": [
    "deid_pipeline = nlp.PretrainedPipeline(\"legpipe_deid\", \"en\", \"legal/models\")"
   ]
  },
  {
   "cell_type": "code",
   "execution_count": 4,
   "id": "a09f14d8-54d9-4ed9-a7c4-6074f421020a",
   "metadata": {
    "colab": {
     "base_uri": "https://localhost:8080/"
    },
    "id": "a09f14d8-54d9-4ed9-a7c4-6074f421020a",
    "outputId": "988daa86-2434-4147-d175-187341d3d09e"
   },
   "outputs": [
    {
     "data": {
      "text/plain": [
       "[DocumentAssembler_bedb6ad8e416,\n",
       " SentenceDetector_7cb9cad055b9,\n",
       " REGEX_TOKENIZER_33de4324d9e9,\n",
       " DateMatcher_8860a592901e,\n",
       " Date2Chunk_d279ac477b89,\n",
       " ROBERTA_EMBEDDINGS_b915dff90901,\n",
       " LegalNerModel_8f2f91053ea4,\n",
       " NER_CONVERTER_f2f2eec81402,\n",
       " LegalNerModel_2581d15a167e,\n",
       " NER_CONVERTER_4502c0659baf,\n",
       " LegalNerModel_a75ed7366584,\n",
       " NER_CONVERTER_8d11e477e502,\n",
       " CONTEXTUAL-PARSER_eb730f0f4a6c,\n",
       " CONTEXTUAL-PARSER_c310f42dcaa2,\n",
       " CONTEXTUAL-PARSER_712bc31c58d5,\n",
       " CONTEXTUAL-PARSER_33a381cc561e,\n",
       " CONTEXTUAL-PARSER_19bbf8091ca3,\n",
       " MERGE_a653ce055651,\n",
       " DE-IDENTIFICATION_ae309c4ceb31,\n",
       " DE-IDENTIFICATION_746e07dacaec,\n",
       " DE-IDENTIFICATION_6a27cdc8a13f,\n",
       " DE-IDENTIFICATION_27363070431f]"
      ]
     },
     "execution_count": 4,
     "metadata": {},
     "output_type": "execute_result"
    }
   ],
   "source": [
    "deid_pipeline.model.stages"
   ]
  },
  {
   "cell_type": "code",
   "execution_count": null,
   "id": "00a6b038-7178-4fe3-b7f6-664bad53ff92",
   "metadata": {
    "id": "00a6b038-7178-4fe3-b7f6-664bad53ff92"
   },
   "outputs": [],
   "source": [
    "text = \"\"\"CARGILL, INCORPORATED\n",
    "\n",
    "By:     Pirkko Suominen\n",
    "\n",
    "\n",
    "\n",
    "Name: Pirkko Suominen Title: Director, Bio Technology Development  Center,  Date:   10/19/2011\n",
    "\n",
    "BIOAMBER, SAS\n",
    "\n",
    "By:     Jean-François Huc\n",
    "\n",
    "\n",
    "\n",
    "Name: Jean-François Huc  Title: President Date:   October 15, 2011\n",
    "\n",
    "email : jeanfran@gmail.com\n",
    "phone : 18087339090 \"\"\""
   ]
  },
  {
   "cell_type": "code",
   "execution_count": null,
   "id": "bd76c039-f1bb-4839-a2c5-9b5715629700",
   "metadata": {
    "id": "bd76c039-f1bb-4839-a2c5-9b5715629700"
   },
   "outputs": [],
   "source": [
    "deid_res = deid_pipeline.annotate(text)"
   ]
  },
  {
   "cell_type": "code",
   "execution_count": 7,
   "id": "84add88b-9686-4fcc-83fa-6f64465f4aff",
   "metadata": {
    "colab": {
     "base_uri": "https://localhost:8080/"
    },
    "id": "84add88b-9686-4fcc-83fa-6f64465f4aff",
    "outputId": "5ef1da85-eecf-47b1-e86b-0a40897a9fd9"
   },
   "outputs": [
    {
     "data": {
      "text/plain": [
       "dict_keys(['obfuscated', 'email', 'document', 'ner_signers_chunk', 'deidentified', 'ner_contracts_chunk', 'alias', 'chiefs', 'masked_fixed_length_chars', 'ner_contracts', 'date', 'token', 'ner_signers', 'ner_generic_chunk', 'embeddings', 'ner_date_chunk', 'merged_ner_chunks', 'sentence', 'phone', 'orgs', 'masked_with_chars', 'ner_generic'])"
      ]
     },
     "execution_count": 7,
     "metadata": {},
     "output_type": "execute_result"
    }
   ],
   "source": [
    "deid_res.keys()"
   ]
  },
  {
   "cell_type": "code",
   "execution_count": null,
   "id": "9551bf51-c2e4-4d7c-968e-1c75bd43f888",
   "metadata": {
    "colab": {
     "base_uri": "https://localhost:8080/",
     "height": 167
    },
    "id": "9551bf51-c2e4-4d7c-968e-1c75bd43f888",
    "outputId": "f21e4b87-d78d-49f1-a195-ff3d4e467c7f"
   },
   "outputs": [
    {
     "data": {
      "application/vnd.google.colaboratory.intrinsic+json": {
       "summary": "{\n  \"name\": \"df\",\n  \"rows\": 1,\n  \"fields\": [\n    {\n      \"column\": \"Sentence\",\n      \"properties\": {\n        \"dtype\": \"string\",\n        \"num_unique_values\": 1,\n        \"samples\": [\n          \"CARGILL, INCORPORATED\\n\\nBy:     Pirkko Suominen\\n\\n\\n\\nName: Pirkko Suominen Title: Director, Bio Technology Development  Center,  Date:   10/19/2011\\n\\nBIOAMBER, SAS\\n\\nBy:     Jean-Fran\\u00e7ois Huc\\n\\n\\n\\nName: Jean-Fran\\u00e7ois Huc  Title: President Date:   October 15, 2011\\n\\nemail : jeanfran@gmail.com\\nphone : 18087339090\"\n        ],\n        \"semantic_type\": \"\",\n        \"description\": \"\"\n      }\n    },\n    {\n      \"column\": \"Masked\",\n      \"properties\": {\n        \"dtype\": \"string\",\n        \"num_unique_values\": 1,\n        \"samples\": [\n          \"<ORG>\\n\\nBy:     <PERSON>\\n\\n\\n\\nName: <PERSON> Title: <PROFESSION>,  Date:   <DATE>\\n\\nBIOAMBER, SAS\\n\\nBy:     <PERSON>\\n\\n\\n\\nName: <PERSON>  Title: <PROFESSION> Date:   <DATE>\\n\\nemail : <EMAIL>\\nphone : <PHONE>\"\n        ],\n        \"semantic_type\": \"\",\n        \"description\": \"\"\n      }\n    },\n    {\n      \"column\": \"Masked with Chars\",\n      \"properties\": {\n        \"dtype\": \"string\",\n        \"num_unique_values\": 1,\n        \"samples\": [\n          \"[*******************]\\n\\nBy:     [*************]\\n\\n\\n\\nName: [*************] Title: [******************************************],  Date:   [********]\\n\\nBIOAMBER, SAS\\n\\nBy:     [***************]\\n\\n\\n\\nName: [***************]  Title: [*******] Date:   [**************]\\n\\nemail : [****************]\\nphone : [*********]\"\n        ],\n        \"semantic_type\": \"\",\n        \"description\": \"\"\n      }\n    },\n    {\n      \"column\": \"Masked with Fixed Chars\",\n      \"properties\": {\n        \"dtype\": \"string\",\n        \"num_unique_values\": 1,\n        \"samples\": [\n          \"****\\n\\nBy:     ****\\n\\n\\n\\nName: **** Title: ****,  Date:   ****\\n\\nBIOAMBER, SAS\\n\\nBy:     ****\\n\\n\\n\\nName: ****  Title: **** Date:   ****\\n\\nemail : ****\\nphone : ****\"\n        ],\n        \"semantic_type\": \"\",\n        \"description\": \"\"\n      }\n    },\n    {\n      \"column\": \"Obfuscated\",\n      \"properties\": {\n        \"dtype\": \"string\",\n        \"num_unique_values\": 1,\n        \"samples\": [\n          \"Rohm and Haas\\n\\nBy:     Aneita Keens\\n\\n\\n\\nName: Aneita Keens Title: Production assistant, radio,  Date:   1982-10-07\\n\\nBIOAMBER, SAS\\n\\nBy:     Bethanne Brooks\\n\\n\\n\\nName: Bethanne Brooks  Title: Systems developer Date:   2008-02-12\\n\\nemail : Delius@google.com\\nphone : 16109604540\"\n        ],\n        \"semantic_type\": \"\",\n        \"description\": \"\"\n      }\n    }\n  ]\n}",
       "type": "dataframe",
       "variable_name": "df"
      },
      "text/html": [
       "\n",
       "  <div id=\"df-b66b0de0-0110-4f81-9279-5c371cf087c2\" class=\"colab-df-container\">\n",
       "    <div>\n",
       "<style scoped>\n",
       "    .dataframe tbody tr th:only-of-type {\n",
       "        vertical-align: middle;\n",
       "    }\n",
       "\n",
       "    .dataframe tbody tr th {\n",
       "        vertical-align: top;\n",
       "    }\n",
       "\n",
       "    .dataframe thead th {\n",
       "        text-align: right;\n",
       "    }\n",
       "</style>\n",
       "<table border=\"1\" class=\"dataframe\">\n",
       "  <thead>\n",
       "    <tr style=\"text-align: right;\">\n",
       "      <th></th>\n",
       "      <th>Sentence</th>\n",
       "      <th>Masked</th>\n",
       "      <th>Masked with Chars</th>\n",
       "      <th>Masked with Fixed Chars</th>\n",
       "      <th>Obfuscated</th>\n",
       "    </tr>\n",
       "  </thead>\n",
       "  <tbody>\n",
       "    <tr>\n",
       "      <th>0</th>\n",
       "      <td>CARGILL, INCORPORATED\\n\\nBy:     Pirkko Suominen\\n\\n\\n\\nName: Pirkko Suominen Title: Director, B...</td>\n",
       "      <td>&lt;ORG&gt;\\n\\nBy:     &lt;PERSON&gt;\\n\\n\\n\\nName: &lt;PERSON&gt; Title: &lt;PROFESSION&gt;,  Date:   &lt;DATE&gt;\\n\\nBIOAMBER...</td>\n",
       "      <td>[*******************]\\n\\nBy:     [*************]\\n\\n\\n\\nName: [*************] Title: [**********...</td>\n",
       "      <td>****\\n\\nBy:     ****\\n\\n\\n\\nName: **** Title: ****,  Date:   ****\\n\\nBIOAMBER, SAS\\n\\nBy:     **...</td>\n",
       "      <td>Rohm and Haas\\n\\nBy:     Aneita Keens\\n\\n\\n\\nName: Aneita Keens Title: Production assistant, rad...</td>\n",
       "    </tr>\n",
       "  </tbody>\n",
       "</table>\n",
       "</div>\n",
       "    <div class=\"colab-df-buttons\">\n",
       "\n",
       "  <div class=\"colab-df-container\">\n",
       "    <button class=\"colab-df-convert\" onclick=\"convertToInteractive('df-b66b0de0-0110-4f81-9279-5c371cf087c2')\"\n",
       "            title=\"Convert this dataframe to an interactive table.\"\n",
       "            style=\"display:none;\">\n",
       "\n",
       "  <svg xmlns=\"http://www.w3.org/2000/svg\" height=\"24px\" viewBox=\"0 -960 960 960\">\n",
       "    <path d=\"M120-120v-720h720v720H120Zm60-500h600v-160H180v160Zm220 220h160v-160H400v160Zm0 220h160v-160H400v160ZM180-400h160v-160H180v160Zm440 0h160v-160H620v160ZM180-180h160v-160H180v160Zm440 0h160v-160H620v160Z\"/>\n",
       "  </svg>\n",
       "    </button>\n",
       "\n",
       "  <style>\n",
       "    .colab-df-container {\n",
       "      display:flex;\n",
       "      gap: 12px;\n",
       "    }\n",
       "\n",
       "    .colab-df-convert {\n",
       "      background-color: #E8F0FE;\n",
       "      border: none;\n",
       "      border-radius: 50%;\n",
       "      cursor: pointer;\n",
       "      display: none;\n",
       "      fill: #1967D2;\n",
       "      height: 32px;\n",
       "      padding: 0 0 0 0;\n",
       "      width: 32px;\n",
       "    }\n",
       "\n",
       "    .colab-df-convert:hover {\n",
       "      background-color: #E2EBFA;\n",
       "      box-shadow: 0px 1px 2px rgba(60, 64, 67, 0.3), 0px 1px 3px 1px rgba(60, 64, 67, 0.15);\n",
       "      fill: #174EA6;\n",
       "    }\n",
       "\n",
       "    .colab-df-buttons div {\n",
       "      margin-bottom: 4px;\n",
       "    }\n",
       "\n",
       "    [theme=dark] .colab-df-convert {\n",
       "      background-color: #3B4455;\n",
       "      fill: #D2E3FC;\n",
       "    }\n",
       "\n",
       "    [theme=dark] .colab-df-convert:hover {\n",
       "      background-color: #434B5C;\n",
       "      box-shadow: 0px 1px 3px 1px rgba(0, 0, 0, 0.15);\n",
       "      filter: drop-shadow(0px 1px 2px rgba(0, 0, 0, 0.3));\n",
       "      fill: #FFFFFF;\n",
       "    }\n",
       "  </style>\n",
       "\n",
       "    <script>\n",
       "      const buttonEl =\n",
       "        document.querySelector('#df-b66b0de0-0110-4f81-9279-5c371cf087c2 button.colab-df-convert');\n",
       "      buttonEl.style.display =\n",
       "        google.colab.kernel.accessAllowed ? 'block' : 'none';\n",
       "\n",
       "      async function convertToInteractive(key) {\n",
       "        const element = document.querySelector('#df-b66b0de0-0110-4f81-9279-5c371cf087c2');\n",
       "        const dataTable =\n",
       "          await google.colab.kernel.invokeFunction('convertToInteractive',\n",
       "                                                    [key], {});\n",
       "        if (!dataTable) return;\n",
       "\n",
       "        const docLinkHtml = 'Like what you see? Visit the ' +\n",
       "          '<a target=\"_blank\" href=https://colab.research.google.com/notebooks/data_table.ipynb>data table notebook</a>'\n",
       "          + ' to learn more about interactive tables.';\n",
       "        element.innerHTML = '';\n",
       "        dataTable['output_type'] = 'display_data';\n",
       "        await google.colab.output.renderOutput(dataTable, element);\n",
       "        const docLink = document.createElement('div');\n",
       "        docLink.innerHTML = docLinkHtml;\n",
       "        element.appendChild(docLink);\n",
       "      }\n",
       "    </script>\n",
       "  </div>\n",
       "\n",
       "\n",
       "  <div id=\"id_84e36280-4739-4c20-a925-b4068d8655bb\">\n",
       "    <style>\n",
       "      .colab-df-generate {\n",
       "        background-color: #E8F0FE;\n",
       "        border: none;\n",
       "        border-radius: 50%;\n",
       "        cursor: pointer;\n",
       "        display: none;\n",
       "        fill: #1967D2;\n",
       "        height: 32px;\n",
       "        padding: 0 0 0 0;\n",
       "        width: 32px;\n",
       "      }\n",
       "\n",
       "      .colab-df-generate:hover {\n",
       "        background-color: #E2EBFA;\n",
       "        box-shadow: 0px 1px 2px rgba(60, 64, 67, 0.3), 0px 1px 3px 1px rgba(60, 64, 67, 0.15);\n",
       "        fill: #174EA6;\n",
       "      }\n",
       "\n",
       "      [theme=dark] .colab-df-generate {\n",
       "        background-color: #3B4455;\n",
       "        fill: #D2E3FC;\n",
       "      }\n",
       "\n",
       "      [theme=dark] .colab-df-generate:hover {\n",
       "        background-color: #434B5C;\n",
       "        box-shadow: 0px 1px 3px 1px rgba(0, 0, 0, 0.15);\n",
       "        filter: drop-shadow(0px 1px 2px rgba(0, 0, 0, 0.3));\n",
       "        fill: #FFFFFF;\n",
       "      }\n",
       "    </style>\n",
       "    <button class=\"colab-df-generate\" onclick=\"generateWithVariable('df')\"\n",
       "            title=\"Generate code using this dataframe.\"\n",
       "            style=\"display:none;\">\n",
       "\n",
       "  <svg xmlns=\"http://www.w3.org/2000/svg\" height=\"24px\"viewBox=\"0 0 24 24\"\n",
       "       width=\"24px\">\n",
       "    <path d=\"M7,19H8.4L18.45,9,17,7.55,7,17.6ZM5,21V16.75L18.45,3.32a2,2,0,0,1,2.83,0l1.4,1.43a1.91,1.91,0,0,1,.58,1.4,1.91,1.91,0,0,1-.58,1.4L9.25,21ZM18.45,9,17,7.55Zm-12,3A5.31,5.31,0,0,0,4.9,8.1,5.31,5.31,0,0,0,1,6.5,5.31,5.31,0,0,0,4.9,4.9,5.31,5.31,0,0,0,6.5,1,5.31,5.31,0,0,0,8.1,4.9,5.31,5.31,0,0,0,12,6.5,5.46,5.46,0,0,0,6.5,12Z\"/>\n",
       "  </svg>\n",
       "    </button>\n",
       "    <script>\n",
       "      (() => {\n",
       "      const buttonEl =\n",
       "        document.querySelector('#id_84e36280-4739-4c20-a925-b4068d8655bb button.colab-df-generate');\n",
       "      buttonEl.style.display =\n",
       "        google.colab.kernel.accessAllowed ? 'block' : 'none';\n",
       "\n",
       "      buttonEl.onclick = () => {\n",
       "        google.colab.notebook.generateWithVariable('df');\n",
       "      }\n",
       "      })();\n",
       "    </script>\n",
       "  </div>\n",
       "\n",
       "    </div>\n",
       "  </div>\n"
      ],
      "text/plain": [
       "                                                                                              Sentence  \\\n",
       "0  CARGILL, INCORPORATED\\n\\nBy:     Pirkko Suominen\\n\\n\\n\\nName: Pirkko Suominen Title: Director, B...   \n",
       "\n",
       "                                                                                                Masked  \\\n",
       "0  <ORG>\\n\\nBy:     <PERSON>\\n\\n\\n\\nName: <PERSON> Title: <PROFESSION>,  Date:   <DATE>\\n\\nBIOAMBER...   \n",
       "\n",
       "                                                                                     Masked with Chars  \\\n",
       "0  [*******************]\\n\\nBy:     [*************]\\n\\n\\n\\nName: [*************] Title: [**********...   \n",
       "\n",
       "                                                                               Masked with Fixed Chars  \\\n",
       "0  ****\\n\\nBy:     ****\\n\\n\\n\\nName: **** Title: ****,  Date:   ****\\n\\nBIOAMBER, SAS\\n\\nBy:     **...   \n",
       "\n",
       "                                                                                            Obfuscated  \n",
       "0  Rohm and Haas\\n\\nBy:     Aneita Keens\\n\\n\\n\\nName: Aneita Keens Title: Production assistant, rad...  "
      ]
     },
     "execution_count": 8,
     "metadata": {},
     "output_type": "execute_result"
    }
   ],
   "source": [
    "import pandas as pd\n",
    "\n",
    "pd.set_option(\"display.max_colwidth\", 100)\n",
    "\n",
    "df = pd.DataFrame(\n",
    "    list(\n",
    "        zip(\n",
    "            deid_res[\"sentence\"],\n",
    "            deid_res[\"deidentified\"],\n",
    "            deid_res[\"masked_with_chars\"],\n",
    "            deid_res[\"masked_fixed_length_chars\"],\n",
    "            deid_res[\"obfuscated\"],\n",
    "        )\n",
    "    ),\n",
    "    columns=[\n",
    "        \"Sentence\",\n",
    "        \"Masked\",\n",
    "        \"Masked with Chars\",\n",
    "        \"Masked with Fixed Chars\",\n",
    "        \"Obfuscated\",\n",
    "    ],\n",
    ")\n",
    "\n",
    "df"
   ]
  },
  {
   "cell_type": "code",
   "execution_count": null,
   "id": "e8XtuKg4z4VR",
   "metadata": {
    "id": "e8XtuKg4z4VR"
   },
   "outputs": [],
   "source": []
  }
 ],
 "metadata": {
  "accelerator": "GPU",
  "colab": {
   "gpuClass": "premium",
   "provenance": []
  },
  "gpuClass": "premium",
  "kernelspec": {
   "display_name": "tf-gpu",
   "language": "python",
   "name": "python3"
  },
  "language_info": {
   "codemirror_mode": {
    "name": "ipython",
    "version": 3
   },
   "file_extension": ".py",
   "mimetype": "text/x-python",
   "name": "python",
   "nbconvert_exporter": "python",
   "pygments_lexer": "ipython3",
   "version": "3.9.7 (default, Sep 16 2021, 16:59:28) [MSC v.1916 64 bit (AMD64)]"
  },
  "vscode": {
   "interpreter": {
    "hash": "3f47d918ae832c68584484921185f5c85a1760864bf927a683dc6fb56366cc77"
   }
  }
 },
 "nbformat": 4,
 "nbformat_minor": 5
}

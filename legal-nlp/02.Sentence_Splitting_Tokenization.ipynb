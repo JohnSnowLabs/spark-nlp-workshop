{
  "cells": [
    {
      "cell_type": "markdown",
      "metadata": {
        "id": "I08sFJYCxR0Z"
      },
      "source": [
        "![JohnSnowLabs](https://nlp.johnsnowlabs.com/assets/images/logo.png)"
      ]
    },
    {
      "cell_type": "markdown",
      "metadata": {
        "id": "FwJ-P56kq6FU"
      },
      "source": [
        "[![Open In Colab](https://colab.research.google.com/assets/colab-badge.svg)](https://colab.research.google.com/github/JohnSnowLabs/spark-nlp-workshop/blob/master/legal-nlp/02.Sentence_Splitting_Tokenization.ipynb)"
      ]
    },
    {
      "cell_type": "markdown",
      "metadata": {
        "collapsed": false,
        "id": "gk3kZHmNj51v"
      },
      "source": [
        "#🎬 Installation"
      ]
    },
    {
      "cell_type": "code",
      "execution_count": null,
      "metadata": {
        "id": "_914itZsj51v",
        "pycharm": {
          "is_executing": true
        }
      },
      "outputs": [],
      "source": [
        "! pip install -q johnsnowlabs"
      ]
    },
    {
      "cell_type": "markdown",
      "metadata": {
        "id": "YPsbAnNoPt0Z"
      },
      "source": [
        "##🔗 Automatic Installation\n",
        "Using my.johnsnowlabs.com SSO"
      ]
    },
    {
      "cell_type": "code",
      "execution_count": null,
      "metadata": {
        "id": "fY0lcShkj51w",
        "pycharm": {
          "is_executing": true
        }
      },
      "outputs": [],
      "source": [
        "from johnsnowlabs import nlp, legal\n",
        "\n",
        "# nlp.install(force_browser=True)"
      ]
    },
    {
      "cell_type": "markdown",
      "metadata": {
        "id": "hsJvn_WWM2GL"
      },
      "source": [
        "##🔗 Manual downloading\n",
        "If you are not registered in my.johnsnowlabs.com, you received a license via e-email or you are using Safari, you may need to do a manual update of the license.\n",
        "\n",
        "- Go to my.johnsnowlabs.com\n",
        "- Download your license\n",
        "- Upload it using the following command"
      ]
    },
    {
      "cell_type": "code",
      "execution_count": null,
      "metadata": {
        "id": "i57QV3-_P2sQ"
      },
      "outputs": [],
      "source": [
        "from google.colab import files\n",
        "print('Please Upload your John Snow Labs License using the button below')\n",
        "license_keys = files.upload()"
      ]
    },
    {
      "cell_type": "markdown",
      "metadata": {
        "id": "xGgNdFzZP_hQ"
      },
      "source": [
        "- Install it"
      ]
    },
    {
      "cell_type": "code",
      "execution_count": null,
      "metadata": {
        "id": "OfmmPqknP4rR"
      },
      "outputs": [],
      "source": [
        "nlp.install()"
      ]
    },
    {
      "cell_type": "markdown",
      "metadata": {
        "id": "DCl5ErZkNNLk"
      },
      "source": [
        "#📌 Starting"
      ]
    },
    {
      "cell_type": "code",
      "execution_count": null,
      "metadata": {
        "id": "wRXTnNl3j51w"
      },
      "outputs": [],
      "source": [
        "spark = nlp.start()"
      ]
    },
    {
      "cell_type": "markdown",
      "metadata": {
        "id": "KcFQ-pqcRhA3"
      },
      "source": [
        "#🔎 2. Splitting for training word-based classifiers (as Named Entity Recognition)\n",
        "\n",
        "In the previous notebook we have seen how splitting documents and pages is important for **Text Classification**: `you may leave in too much information, or too little`.\n",
        "\n",
        "For **Word (token) Classification** splitting is also very important. We usually split **by sentences**, although they may be other use cases where you may need information from the context.\n",
        "\n",
        "This is the usual TextSplitter pipeline which will be used by default for training our NER models.\n",
        "\n",
        "📚Default `TextSplitter()` breaks texts by lines using the following patterns:\n",
        "\n",
        "```\n",
        "- Lists (\"(i), (ii)\", \"(a), (b)\", \"1., 2.\")\n",
        "- Numbers\n",
        "- Abbreviations\n",
        "- Punctuations\n",
        "- Multiple Periods\n",
        "- Geo-Locations/Coordinates (\"N°. 1026.253.553.\")\n",
        "- Ellipsis (\"...\")\n",
        "- In-between punctuations\n",
        "- Quotation marks\n",
        "- Exclamation Points\n",
        "- Basic Breakers (\".\", \";\")\n",
        "```"
      ]
    },
    {
      "cell_type": "code",
      "execution_count": null,
      "metadata": {
        "id": "R3BQpJr5SOiV"
      },
      "outputs": [],
      "source": [
        "document_assembler = nlp.DocumentAssembler() \\\n",
        "    .setInputCol(\"text\") \\\n",
        "    .setOutputCol(\"document\")\n",
        "\n",
        "text_splitter = legal.TextSplitter() \\\n",
        "    .setInputCols([\"document\"]) \\\n",
        "    .setOutputCol(\"sentences\") \\\n",
        "    .setExplodeSentences(True)\n",
        "\n",
        "nlp_pipeline = nlp.Pipeline(stages=[\n",
        "    document_assembler,\n",
        "    text_splitter])"
      ]
    },
    {
      "cell_type": "code",
      "execution_count": null,
      "metadata": {
        "id": "SjlATAuCeYld"
      },
      "outputs": [],
      "source": [
        "text = \"\"\"WHEREAS, the Borrowers have requested the Lenders to provide a revolving credit facility to the Borrowers in an aggregate principal amount not to exceed $225,000,000. WHEREAS, proceeds of the revolving credit facility shall be used for (1) refinancing existing Indebtedness, and (2) general corporate purposes. And WHEREAS, the Lenders are willing to provide such credit upon the terms and conditions hereinafter set forth;\"\"\""
      ]
    },
    {
      "cell_type": "code",
      "execution_count": null,
      "metadata": {
        "colab": {
          "base_uri": "https://localhost:8080/",
          "height": 53
        },
        "id": "GEcyheA0fHYM",
        "outputId": "20000954-5b2c-4e5b-e06d-e07d8545be5e"
      },
      "outputs": [
        {
          "data": {
            "application/vnd.google.colaboratory.intrinsic+json": {
              "type": "string"
            },
            "text/plain": [
              "'WHEREAS, the Borrowers have requested the Lenders to provide a revolving credit facility to the Borrowers in an aggregate principal amount not to exceed $225,000,000. WHEREAS, proceeds of the revolving credit facility shall be used for (1) refinancing existing Indebtedness, and (2) general corporate purposes. And WHEREAS, the Lenders are willing to provide such credit upon the terms and conditions hereinafter set forth;'"
            ]
          },
          "execution_count": 8,
          "metadata": {},
          "output_type": "execute_result"
        }
      ],
      "source": [
        "text"
      ]
    },
    {
      "cell_type": "code",
      "execution_count": null,
      "metadata": {
        "id": "KmSErdcHeb4S"
      },
      "outputs": [],
      "source": [
        "df = spark.createDataFrame([[text]]).toDF(\"text\")\n",
        "\n",
        "res = nlp_pipeline.fit(df).transform(df)"
      ]
    },
    {
      "cell_type": "code",
      "execution_count": null,
      "metadata": {
        "colab": {
          "base_uri": "https://localhost:8080/"
        },
        "id": "8OxpbPyne2OC",
        "outputId": "09d2c86e-cc94-4699-9a6d-92f239f9c857"
      },
      "outputs": [
        {
          "name": "stdout",
          "output_type": "stream",
          "text": [
            "+--------------------+\n",
            "|              result|\n",
            "+--------------------+\n",
            "|[WHEREAS, the Bor...|\n",
            "|[WHEREAS, proceed...|\n",
            "|[And WHEREAS, the...|\n",
            "+--------------------+\n",
            "\n"
          ]
        }
      ],
      "source": [
        "res.select('sentences.result').show()"
      ]
    },
    {
      "cell_type": "markdown",
      "metadata": {
        "id": "_N8bapWTAjld"
      },
      "source": [
        "![image.png](data:image/png;base64,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)"
      ]
    },
    {
      "cell_type": "markdown",
      "metadata": {
        "id": "3XQDh09qS070"
      },
      "source": [
        "But you already know from previous notebook that you can customize those boundaries using `setCustomBounds()`."
      ]
    },
    {
      "cell_type": "markdown",
      "metadata": {
        "id": "Tmb58fnnS9mc"
      },
      "source": [
        "In addition, you have a Deep Learning pretrained SentenceDetector, called `SentenceDetectorDLModel`."
      ]
    },
    {
      "cell_type": "code",
      "execution_count": null,
      "metadata": {
        "id": "mHjCa_fJSef1"
      },
      "outputs": [],
      "source": [
        "document_assembler = nlp.DocumentAssembler() \\\n",
        "    .setInputCol(\"text\") \\\n",
        "    .setOutputCol(\"document\")\n",
        "\n",
        "sentence_detector = nlp.SentenceDetectorDLModel()\\\n",
        "    .setInputCols([\"document\"]) \\\n",
        "    .setOutputCol(\"sentence\")\n",
        "\n",
        "nlp_pipeline = nlp.Pipeline(stages=[\n",
        "    document_assembler,\n",
        "    sentence_detector])"
      ]
    },
    {
      "cell_type": "markdown",
      "metadata": {
        "id": "z6Gj9aEWTOy8"
      },
      "source": [
        "That model is `pretrained`, which means it learnt during training time the boundaries of sentences and it can't be modified.\n",
        "\n",
        "You can train your SentenceDetector using DeepLearning as explained here: https://nlp.johnsnowlabs.com/docs/en/annotators#sentencedetectordl"
      ]
    },
    {
      "cell_type": "markdown",
      "metadata": {
        "id": "cSdIMxrzaSii"
      },
      "source": [
        "###✔️ Length restriction of Transformers"
      ]
    },
    {
      "cell_type": "markdown",
      "metadata": {
        "id": "yS1cbkpxaVEb"
      },
      "source": [
        "Transformers have restrictions in terms of the number of tokens they can process, as shown in the list below. Any subsequent token after that limit of subwords will be discarded from the sentence.\n",
        "\n",
        "| Transformer | Limit of tokens |\n",
        "|-------------|-----------------|\n",
        "| BERT        | 512             |\n",
        "| XLNet       | 512             |\n",
        "| RoBERTa     | 512             |\n",
        "| XLM-RoBERTa | 512             |\n",
        "| Electra     | 512             |\n",
        "| Longformers*| 4096 (8 x BERT) |\n"
      ]
    },
    {
      "cell_type": "markdown",
      "metadata": {
        "id": "Sk_5xbOWcsdo"
      },
      "source": [
        "As you can see, most of the transformers work with a token limit of 512. There are several exceptions, as Longformer and BigBird, which allow up to 4096."
      ]
    },
    {
      "cell_type": "markdown",
      "metadata": {
        "id": "t52Dd93odNLb"
      },
      "source": [
        "#🔎 Tokenization\n",
        "Tokenization is the NLP task in charge of splitting sentences in smaller pieces, usually words. Althought it's a `splitting` task, we don't call it splitting, we call it `tokenization`."
      ]
    },
    {
      "cell_type": "markdown",
      "metadata": {
        "id": "erc2n91dVuI9"
      },
      "source": [
        "The main component to do tokenization is the `Tokenizer`. It will get the `tokens` from the piece of text you pass to it.\n",
        "\n",
        "You can tokenize at `whole-text` level:"
      ]
    },
    {
      "cell_type": "code",
      "execution_count": null,
      "metadata": {
        "id": "sDbc0JMsV60q"
      },
      "outputs": [],
      "source": [
        "document_assembler = nlp.DocumentAssembler() \\\n",
        "    .setInputCol(\"text\") \\\n",
        "    .setOutputCol(\"document\")\n",
        "\n",
        "tokenizer = nlp.Tokenizer()\\\n",
        "    .setInputCols([\"document\"]) \\\n",
        "    .setOutputCol(\"tokens\")\n",
        "\n",
        "nlp_pipeline = nlp.Pipeline(stages=[\n",
        "    document_assembler,\n",
        "    tokenizer])"
      ]
    },
    {
      "cell_type": "markdown",
      "metadata": {
        "id": "VSDMKf_rV6dL"
      },
      "source": [
        "... but more frequently we do it at `sentence` or `paragraph` level, using it after TextSplitter."
      ]
    },
    {
      "cell_type": "code",
      "execution_count": null,
      "metadata": {
        "id": "BM9dnrthWHJL"
      },
      "outputs": [],
      "source": [
        "document_assembler = nlp.DocumentAssembler() \\\n",
        "    .setInputCol(\"text\") \\\n",
        "    .setOutputCol(\"document\")\n",
        "\n",
        "text_splitter = legal.TextSplitter() \\\n",
        "    .setInputCols([\"document\"])\\\n",
        "    .setOutputCol(\"sentences\")\\\n",
        "    .setExplodeSentences(True)\n",
        "\n",
        "tokenizer = nlp.Tokenizer()\\\n",
        "    .setInputCols([\"sentences\"]) \\\n",
        "    .setOutputCol(\"tokens\")\n",
        "\n",
        "nlp_pipeline = nlp.Pipeline(stages=[\n",
        "    document_assembler,\n",
        "    text_splitter,\n",
        "    tokenizer])"
      ]
    },
    {
      "cell_type": "code",
      "execution_count": null,
      "metadata": {
        "id": "uykzI5FZgF0h"
      },
      "outputs": [],
      "source": [
        "fit = nlp_pipeline.fit(df)\n",
        "\n",
        "lp = nlp.LightPipeline(fit)\n",
        "\n",
        "res = lp.fullAnnotate(text)"
      ]
    },
    {
      "cell_type": "code",
      "execution_count": null,
      "metadata": {
        "colab": {
          "base_uri": "https://localhost:8080/"
        },
        "id": "-t53ZXI7hJ-C",
        "outputId": "fbc1f4dc-31f2-4122-8fcc-143a5cefb819"
      },
      "outputs": [
        {
          "name": "stdout",
          "output_type": "stream",
          "text": [
            "Sentence: WHEREAS, the Borrowers have requested the Lenders to provide a revolving credit facility to the Borrowers in an aggregate principal amount not to exceed $225,000,000.\n",
            "Tokens: ['WHEREAS', ',', 'the', 'Borrowers', 'have', 'requested', 'the', 'Lenders', 'to', 'provide', 'a', 'revolving', 'credit', 'facility', 'to', 'the', 'Borrowers', 'in', 'an', 'aggregate', 'principal', 'amount', 'not', 'to', 'exceed', '$225,000,000', '.']\n",
            "\n",
            "Sentence: WHEREAS, proceeds of the revolving credit facility shall be used for (1) refinancing existing Indebtedness, and (2) general corporate purposes.\n",
            "Tokens: ['WHEREAS', ',', 'proceeds', 'of', 'the', 'revolving', 'credit', 'facility', 'shall', 'be', 'used', 'for', '(', '1', ')', 'refinancing', 'existing', 'Indebtedness', ',', 'and', '(', '2', ')', 'general', 'corporate', 'purposes', '.']\n",
            "\n",
            "Sentence: And WHEREAS, the Lenders are willing to provide such credit upon the terms and conditions hereinafter set forth;\n",
            "Tokens: ['And', 'WHEREAS', ',', 'the', 'Lenders', 'are', 'willing', 'to', 'provide', 'such', 'credit', 'upon', 'the', 'terms', 'and', 'conditions', 'hereinafter', 'set', 'forth', ';']\n",
            "\n"
          ]
        }
      ],
      "source": [
        "sentences = res[0]['sentences']\n",
        "tokens = res[0]['tokens']\n",
        "\n",
        "for i in range(len(sentences)):\n",
        "  sen_tokens = [x.result for x in tokens if x.metadata['sentence'] == str(i)]\n",
        "  print(f\"Sentence: {sentences[i].result}\")\n",
        "  print(f\"Tokens: {sen_tokens}\")\n",
        "  print()"
      ]
    },
    {
      "cell_type": "markdown",
      "metadata": {
        "id": "Px9SMGZbiGuv"
      },
      "source": [
        "##✔️ The problem of legal verbosity"
      ]
    },
    {
      "cell_type": "markdown",
      "metadata": {
        "id": "Niy3mZAjoayg"
      },
      "source": [
        "Legal models are usually `verbose`. Sentences have much more words than in conversational or informal versions of the language. Just take a look at this piece of text, extracted from a SEC 10-K filing.\n",
        "\n",
        "> _Under Nevada law, we are prohibited from paying dividends if the distribution would result in our Company not being able to pay its debts as they become due in the normal course of business if our total assets would be less than the sum of our total liabilities plus the amount that would be needed to pay the dividends, or if we were to be dissolved at the time of distribution to satisfy the preferential rights upon dissolution of stockholders whose preferential rights are superior to those receiving the distribution._\n",
        "\n",
        "Often times, you can find inline lists:\n",
        "\n",
        "> _In addition to these objective standards, the NYSE American may delist the securities of any issuer (i) if, in its opinion, the issuer’s financial condition and/or operating results appear unsatisfactory; (ii) if it appears that the extent of public distribution or the aggregate market value of the security has become so reduced as to make continued listing on the NYSE American inadvisable; (iii) if the issuer sells or disposes of principal operating assets or ceases to be an operating company; (iv) if an issuer fails to comply with the NYSE American’s listing requirements; (v) if an issuer’s securities sell at what the NYSE American considers a “low selling price” which the exchange generally considers $0.20 per share and the issuer fails to correct this via a reverse split of shares after notification by the NYSE American; or (vi) if any other event occurs or any condition exists which makes continued listing on the NYSE American, in its opinion, inadvisable._\n",
        "\n",
        "And sometimes, very long enumerations...\n",
        "\n",
        "> _On June 20, 2019, Inuvo entered into an Agreement and Plan of Merger Termination Agreement (the “Merger Termination Agreement”) with ConversionPoint Technologies Inc., a Delaware corporation (“CPT”), ConversionPoint Holdings, Inc., a Delaware corporation (“Parent”), CPT Merger Sub, Inc., a Delaware corporation, (“CPT Merger Sub”), and CPT Cigar Merger Sub, Inc., a Nevada corporation (“Inuvo Merger Sub”)_\n",
        "\n",
        "... and what is worse, some of them combined.\n",
        "\n",
        "> _On June 20, 2019, Inuvo entered into an Agreement and Plan of Merger Termination Agreement (the “Merger Termination Agreement”) with ConversionPoint Technologies Inc., a Delaware corporation (“CPT”), ConversionPoint Holdings, Inc., a Delaware corporation (“Parent”), CPT Merger Sub, Inc., a Delaware corporation, (“CPT Merger Sub”), and CPT Cigar Merger Sub, Inc., a Nevada corporation (“Inuvo Merger Sub”) which, among other things, terminated the Agreement and Plan of Merger, dated November 2, 2018, by and among Inuvo, CPT, Parent, CPT Merger Sub, and Inuvo Merger Sub, as amended (the “Merger Agreement”), pursuant to which Inuvo would have merged with and into Inuvo Merger Sub and become a wholly-owned subsidiary of Parent, and CPT would have merged with and into CPT Merger Sub and become a wholly-owned subsidiary of Parent (the “Mergers”), and (2) terminated each of the Support Agreements that were entered into by certain officers and directors of Inuvo and the parties to the Merger Agreement_\n"
      ]
    },
    {
      "cell_type": "markdown",
      "metadata": {
        "id": "y9ZW-hOqiWDI"
      },
      "source": [
        "If reading those long sentences is already a challenge for humans, just imagine how challenging it may be for a machine. Let's talk about these restrictions.\n",
        "\n",
        "TextSplitter, without custom bounds, will not split what is inside a sentence. As a result, some sentences may end up having `a high amount of words` being last tokens not taken into account due to Transformers Restrictions (512 tokens) or getting the information deluded."
      ]
    },
    {
      "cell_type": "code",
      "execution_count": null,
      "metadata": {
        "id": "PRvOXTIkjYgD"
      },
      "outputs": [],
      "source": [
        "text = \"On June 20, 2019, Inuvo entered into an Agreement and Plan of Merger Termination Agreement (the “Merger Termination Agreement”) with ConversionPoint Technologies Inc., a Delaware corporation (“CPT”), ConversionPoint Holdings, Inc., a Delaware corporation (“Parent”), CPT Merger Sub, Inc., a Delaware corporation, (“CPT Merger Sub”), and CPT Cigar Merger Sub, Inc., a Nevada corporation (“Inuvo Merger Sub”) which, among other things, terminated the Agreement and Plan of Merger, dated November 2, 2018, by and among Inuvo, CPT, Parent, CPT Merger Sub, and Inuvo Merger Sub, as amended (the “Merger Agreement”), pursuant to which Inuvo would have merged with and into Inuvo Merger Sub and become a wholly-owned subsidiary of Parent, and CPT would have merged with and into CPT Merger Sub and become a wholly-owned subsidiary of Parent (the “Mergers”), and (2) terminated each of the Support Agreements that were entered into by certain officers and directors of Inuvo and the parties to the Merger Agreement\""
      ]
    },
    {
      "cell_type": "code",
      "execution_count": null,
      "metadata": {
        "colab": {
          "base_uri": "https://localhost:8080/"
        },
        "id": "7rt4BqcqjjBv",
        "outputId": "c86ec14a-fa2d-4f3b-a800-ef2a44959272"
      },
      "outputs": [
        {
          "name": "stdout",
          "output_type": "stream",
          "text": [
            "Sentence: On June 20, 2019, Inuvo entered into an Agreement and Plan of Merger Termination Agreement (the “Merger Termination Agreement”) with ConversionPoint Technologies Inc., a Delaware corporation (“CPT”), ConversionPoint Holdings, Inc., a Delaware corporation (“Parent”), CPT Merger Sub, Inc., a Delaware corporation, (“CPT Merger Sub”), and CPT Cigar Merger Sub, Inc., a Nevada corporation (“Inuvo Merger Sub”) which, among other things, terminated the Agreement and Plan of Merger, dated November 2, 2018, by and among Inuvo, CPT, Parent, CPT Merger Sub, and Inuvo Merger Sub, as amended (the “Merger Agreement”), pursuant to which Inuvo would have merged with and into Inuvo Merger Sub and become a wholly-owned subsidiary of Parent, and CPT would have merged with and into CPT Merger Sub and become a wholly-owned subsidiary of Parent (the “Mergers”), and (2) terminated each of the Support Agreements that were entered into by certain officers and directors of Inuvo and the parties to the Merger Agreement\n",
            "Tokens 192: ['On', 'June', '20', ',', '2019', ',', 'Inuvo', 'entered', 'into', 'an', 'Agreement', 'and', 'Plan', 'of', 'Merger', 'Termination', 'Agreement', '(', 'the', '“Merger', 'Termination', 'Agreement”', ')', 'with', 'ConversionPoint', 'Technologies', 'Inc', '.,', 'a', 'Delaware', 'corporation', '(', '“CPT”', '),', 'ConversionPoint', 'Holdings', ',', 'Inc', '.,', 'a', 'Delaware', 'corporation', '(', '“Parent”', '),', 'CPT', 'Merger', 'Sub', ',', 'Inc', '.,', 'a', 'Delaware', 'corporation', ',', '(', '“CPT', 'Merger', 'Sub”', '),', 'and', 'CPT', 'Cigar', 'Merger', 'Sub', ',', 'Inc', '.,', 'a', 'Nevada', 'corporation', '(', '“Inuvo', 'Merger', 'Sub”', ')', 'which', ',', 'among', 'other', 'things', ',', 'terminated', 'the', 'Agreement', 'and', 'Plan', 'of', 'Merger', ',', 'dated', 'November', '2', ',', '2018', ',', 'by', 'and', 'among', 'Inuvo', ',', 'CPT', ',', 'Parent', ',', 'CPT', 'Merger', 'Sub', ',', 'and', 'Inuvo', 'Merger', 'Sub', ',', 'as', 'amended', '(', 'the', '“Merger', 'Agreement”', '),', 'pursuant', 'to', 'which', 'Inuvo', 'would', 'have', 'merged', 'with', 'and', 'into', 'Inuvo', 'Merger', 'Sub', 'and', 'become', 'a', 'wholly-owned', 'subsidiary', 'of', 'Parent', ',', 'and', 'CPT', 'would', 'have', 'merged', 'with', 'and', 'into', 'CPT', 'Merger', 'Sub', 'and', 'become', 'a', 'wholly-owned', 'subsidiary', 'of', 'Parent', '(', 'the', '“Mergers”', '),', 'and', '(', '2', ')', 'terminated', 'each', 'of', 'the', 'Support', 'Agreements', 'that', 'were', 'entered', 'into', 'by', 'certain', 'officers', 'and', 'directors', 'of', 'Inuvo', 'and', 'the', 'parties', 'to', 'the', 'Merger', 'Agreement']\n",
            "\n"
          ]
        }
      ],
      "source": [
        "res = lp.fullAnnotate(text)\n",
        "\n",
        "sentences = res[0]['sentences']\n",
        "tokens = res[0]['tokens']\n",
        "\n",
        "for i in range(len(sentences)):\n",
        "  sen_tokens = [x.result for x in tokens if x.metadata['sentence'] == str(i)]\n",
        "  print(f\"Sentence: {sentences[i].result}\")\n",
        "  print(f\"Tokens {len(sen_tokens)}: {sen_tokens}\")\n",
        "  print()"
      ]
    },
    {
      "cell_type": "markdown",
      "metadata": {
        "id": "ETQAtbuvj1u4"
      },
      "source": [
        "##✔️ What can we expect from a sentence with 192 tokens?"
      ]
    },
    {
      "cell_type": "markdown",
      "metadata": {
        "id": "8Whmbjhzj9kf"
      },
      "source": [
        "We can't say for sure, but these are the possible consequences:\n",
        "- But the longer the sentence is, the more diluted the information may be.\n",
        "- Issues may arise about the `token` number limitations for transformer-based models.\n",
        "\n",
        "You may think - well, we are still very far from 512 tokens, right?\n",
        "\n",
        "Well, I have bad news for you...."
      ]
    },
    {
      "cell_type": "markdown",
      "metadata": {
        "id": "xjNY7V7SQovC"
      },
      "source": [
        "##✔️ About Out of Vocabulary and Subwording in Transformers Tokenization\n",
        "The number of words in a vocabulary used in a transformer can't be infinite. Better to say, the number of `tokens`. A token is the smallest piece of text we woprk with, obtained after a `tokenization` process. \n",
        "\n",
        "`Tokenizing` means separating a sentence into these smaller pieces. In languages with words separated by white spaces, there are at least 3 ways to do that:\n"
      ]
    },
    {
      "cell_type": "markdown",
      "metadata": {
        "id": "HOCq_4aLUuOr"
      },
      "source": [
        "\n",
        "![image.png](data:image/png;base64,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)"
      ]
    },
    {
      "cell_type": "markdown",
      "metadata": {
        "id": "tXImjfMmTHmu"
      },
      "source": [
        "Let's simplify and think we just separate the tokens by using punctuation. In a sentence like:\n",
        "`Let's tokenize! Isn't this easy?`\n",
        "\n",
        "We would be getting:\n",
        "`Let ' s tokenize ! Isn ' t this easy ?`\n",
        "\n",
        "📚That's already 11 tokens to go to the vocabulary. The traditional way to build a vocabulary is was just that:\n",
        "- 1) Tokenizing the corpus;\n",
        "- 2) Getting each token;\n",
        "- 3) Adding it to the vocabulary\n",
        "\n",
        "**Problem**: languages may consist of 500K to 1M words, if we take into consideration different forms (is not, is, isn ' t ...) . That's something unbearable for real-time NLP architectures to cope with."
      ]
    },
    {
      "cell_type": "markdown",
      "metadata": {
        "id": "TCRaL2K7XQL1"
      },
      "source": [
        "###📌 Out of Vocabulary"
      ]
    },
    {
      "cell_type": "markdown",
      "metadata": {
        "id": "4AsP_S1PW-Xu"
      },
      "source": [
        "**1st solution**: OOV (Out of Vocabulary). The first ML/DL algorithms used to prune the vocabulary, leaving the top-N most frequent tokens seen in the corpus and discarding the rest\n",
        "\n",
        "This approach soon run short, as the necesities to capture all the meaning of a text without discardign anything became crucial"
      ]
    },
    {
      "cell_type": "markdown",
      "metadata": {
        "id": "WhwHt0G_XR_k"
      },
      "source": [
        "###📌 Subword tokenization"
      ]
    },
    {
      "cell_type": "markdown",
      "metadata": {
        "id": "hPt1aLiEXaME"
      },
      "source": [
        "The **2nd solution** is _subword tokenization_. The idea behind this is that we can split words into sequences of characters, if we see a probability of that sequence of characters being frequently used to form other words. For example, let's suppose we have the following sentence:\n",
        "\n",
        "`My favourite Natural Language Processing library is clearly Spark NLP!`\n",
        "\n",
        "The subword tokenization algorithm used by `BERT` transformers is called WordPiece. The result WordPiece returns for that sentence is:\n",
        "\n",
        "```\n",
        "['My', 'favourite', 'Natural', 'Language', 'Process', '##ing', 'library', 'is', 'clearly', 'Spa', '##rk', 'NL', '##P', '!']\n",
        "```"
      ]
    },
    {
      "cell_type": "markdown",
      "metadata": {
        "id": "VcGkVPlKZJ5a"
      },
      "source": [
        "📚As we can see, we got:\n",
        "- `Processing` split into 2 subwords: `Process` and `##ing`. That's because `Process` seems a very common subword in the texts used to train BERT, and `ing` a very common subword (suffix) as well. The `##` means that subwords goes attached to the previous word (`Process`).\n",
        "- `Spark` split into `Spa`(again, `Spa` is a common subword, for example, `Spa` in Wellness) and `##rk`\n",
        "- `NLP` into `NL` and `#P`\n",
        "\n",
        "As you have probably noticed, proper nouns are usually split in more than one subword, as also derivative words (Process - Process+ing).\n",
        "\n",
        "This second approach is the most used in State of the Art NLP architectures, including in all the Spark NLP Transformers."
      ]
    },
    {
      "cell_type": "markdown",
      "metadata": {
        "id": "ryVm3i9KVEJC"
      },
      "source": [
        "#📚 So, what happened to our previous 192 tokens❓\n",
        "When we use a Transformer model, those 192 tokens will also be split into different `subwords`, which counts as 1 for the token restriction. Example:\n",
        "- `Spark NLP` is not 2 tokens, it is 4 tokens: `Spa ##rk NL ##P`\n",
        "\n",
        "So our previous 192 tokens probably are already about ~400. Still inside the boundaries of Bert, but we are very close already...\n",
        "\n",
        "| Transformer | Limit of tokens |\n",
        "|-------------|-----------------|\n",
        "| BERT        | 512             |\n",
        "| XLNet       | 512             |\n",
        "| RoBERTa     | 512             |\n",
        "| XLM-RoBERTa | 512             |\n",
        "| Electra     | 512             |\n",
        "| Longformers*| 4096 (8 x BERT) |\n"
      ]
    },
    {
      "cell_type": "markdown",
      "metadata": {
        "id": "ApfIWT39kWgv"
      },
      "source": [
        "#📜 Solutions: Let's try go find sub-sentences using splitting!\n",
        "As we do for paragraphs inside pages, or pages inside documents."
      ]
    },
    {
      "cell_type": "markdown",
      "metadata": {
        "id": "6a-2L7mugB_O"
      },
      "source": [
        "##📌 Non-aggressive sentence splitting"
      ]
    },
    {
      "cell_type": "code",
      "execution_count": null,
      "metadata": {
        "id": "VTL_ZMjjgP5Q"
      },
      "outputs": [],
      "source": [
        "text = \"\"\"In addition to these objective standards, the NYSE American may delist the securities of any issuer (i) if, in its opinion, the issuer’s financial condition and/or operating results appear unsatisfactory; (ii) if it appears that the extent of public distribution or the aggregate market value of the security has become so reduced as to make continued listing on the NYSE American inadvisable; (iii) if the issuer sells or disposes of principal operating assets or ceases to be an operating company; (iv) if an issuer fails to comply with the NYSE American’s listing requirements; (v) if an issuer’s securities sell at what the NYSE American considers a “low selling price” which the exchange generally considers $0.20 per share and the issuer fails to correct this via a reverse split of shares after notification by the NYSE American; or (vi) if any other event occurs or any condition exists which makes continued listing on the NYSE American, in its opinion, inadvisable.\"\"\""
      ]
    },
    {
      "cell_type": "markdown",
      "metadata": {
        "id": "yE-aJoE-mRCv"
      },
      "source": [
        "`.setCustomBounds`accepts a list of regular expressions to be used to split the sentence. \n",
        "\n",
        "By default, already containst he following:\n",
        "\n",
        "```\n",
        "Lists (“(i), (ii)”, “(a), (b)”, “1., 2.”)\n",
        "Numbers\n",
        "Abbreviations\n",
        "Punctuations\n",
        "Multiple Periods\n",
        "Geo-Locations/Coordinates (“N°. 1026.253.553.”)\n",
        "Ellipsis (”…”)\n",
        "In-between punctuations\n",
        "Quotation marks\n",
        "Exclamation Points\n",
        "Basic Breakers (“.”, “;”)\n",
        "```\n",
        "\n",
        "If you want to disable predefined expresions, use `.setUseCustomBoundsOnly(True)`. We will leave them."
      ]
    },
    {
      "cell_type": "code",
      "execution_count": null,
      "metadata": {
        "id": "DEa5SITBxmY0"
      },
      "outputs": [],
      "source": [
        "documentAssembler = nlp.DocumentAssembler()\\\n",
        "    .setInputCol(\"text\")\\\n",
        "    .setOutputCol(\"document\")\n",
        "        \n",
        "textSplitter = legal.TextSplitter()\\\n",
        "    .setInputCols([\"document\"])\\\n",
        "    .setOutputCol(\"sentence\")\n",
        "\n",
        "nlpPipeline = nlp.Pipeline(stages=[\n",
        "        documentAssembler,\n",
        "        textSplitter])\n",
        "\n",
        "empty_data = spark.createDataFrame([[\"\"]]).toDF(\"text\")\n",
        "\n",
        "model = nlpPipeline.fit(empty_data)\n"
      ]
    },
    {
      "cell_type": "code",
      "execution_count": null,
      "metadata": {
        "id": "eFVN6txZhqwL"
      },
      "outputs": [],
      "source": [
        "lp = nlp.LightPipeline(model)"
      ]
    },
    {
      "cell_type": "code",
      "execution_count": null,
      "metadata": {
        "colab": {
          "base_uri": "https://localhost:8080/"
        },
        "id": "LmmdDTXnhuOZ",
        "outputId": "29d4d889-3d07-47ca-90d3-230c9ef28631"
      },
      "outputs": [
        {
          "data": {
            "text/plain": [
              "['In addition to these objective standards, the NYSE American may delist the securities of any issuer',\n",
              " '(i) if, in its opinion, the issuer’s financial condition and/or operating results appear unsatisfactory;',\n",
              " '(ii) if it appears that the extent of public distribution or the aggregate market value of the security has become so reduced as to make continued listing on the NYSE American inadvisable;',\n",
              " '(iii) if the issuer sells or disposes of principal operating assets or ceases to be an operating company;',\n",
              " '(iv) if an issuer fails to comply with the NYSE American’s listing requirements;',\n",
              " '(v) if an issuer’s securities sell at what the NYSE American considers a “low selling price” which the exchange generally considers $0.20 per share and the issuer fails to correct this via a reverse split of shares after notification by the NYSE American;',\n",
              " 'or',\n",
              " '(vi) if any other event occurs or any condition exists which makes continued listing on the NYSE American, in its opinion, inadvisable.']"
            ]
          },
          "execution_count": 21,
          "metadata": {},
          "output_type": "execute_result"
        }
      ],
      "source": [
        "lp.annotate(text)['sentence']"
      ]
    },
    {
      "cell_type": "markdown",
      "metadata": {
        "id": "R-IKuzTqmhV5"
      },
      "source": [
        "For this case, the default tokenization may suffice;\n",
        "\n",
        "But take a look at this example:"
      ]
    },
    {
      "cell_type": "code",
      "execution_count": null,
      "metadata": {
        "id": "nMiJAU29mv8L"
      },
      "outputs": [],
      "source": [
        "text = 'Taiwan. Speaking only hours after Chinese state media said the time was right to engage in political talks with Taiwan, Foreign Ministry spokesman Shen Guofang told Reuters: \"The necessary atmosphere for the opening of the talks has been disrupted by the Taiwan authorities.\"'"
      ]
    },
    {
      "cell_type": "code",
      "execution_count": null,
      "metadata": {
        "colab": {
          "base_uri": "https://localhost:8080/",
          "height": 36
        },
        "id": "P0rGH8ATB19m",
        "outputId": "73deb85a-8cbd-4c5e-b2d6-8bc6d3e60668"
      },
      "outputs": [
        {
          "data": {
            "application/vnd.google.colaboratory.intrinsic+json": {
              "type": "string"
            },
            "text/plain": [
              "'Taiwan. Speaking only hours after Chinese state media said the time was right to engage in political talks with Taiwan, Foreign Ministry spokesman Shen Guofang told Reuters: \"The necessary atmosphere for the opening of the talks has been disrupted by the Taiwan authorities.\"'"
            ]
          },
          "execution_count": 23,
          "metadata": {},
          "output_type": "execute_result"
        }
      ],
      "source": [
        "text"
      ]
    },
    {
      "cell_type": "code",
      "execution_count": null,
      "metadata": {
        "colab": {
          "base_uri": "https://localhost:8080/"
        },
        "id": "DDzj1xEjB7eG",
        "outputId": "ba1d1ff3-c56b-4124-db7b-6754ca83b7ee"
      },
      "outputs": [
        {
          "data": {
            "text/plain": [
              "['Taiwan.',\n",
              " 'Speaking only hours after Chinese state media said the time was right to engage in political talks with Taiwan, Foreign Ministry spokesman Shen Guofang told Reuters: \"The necessary atmosphere for the opening of the talks has been disrupted by the Taiwan authorities.\"']"
            ]
          },
          "execution_count": 24,
          "metadata": {},
          "output_type": "execute_result"
        }
      ],
      "source": [
        "lp.annotate(text)['sentence']"
      ]
    },
    {
      "cell_type": "markdown",
      "metadata": {
        "id": "FHuRZFEGCAlk"
      },
      "source": [
        "The second sentence seems still too big! Let's use some more custom bounds..."
      ]
    },
    {
      "cell_type": "code",
      "execution_count": null,
      "metadata": {
        "id": "XpqHH7H3mw4h"
      },
      "outputs": [],
      "source": [
        "documentAssembler = nlp.DocumentAssembler()\\\n",
        "    .setInputCol(\"text\")\\\n",
        "    .setOutputCol(\"document\")\n",
        "        \n",
        "textSplitter = legal.TextSplitter()\\\n",
        "    .setInputCols([\"document\"])\\\n",
        "    .setOutputCol(\"sentence\")\\\n",
        "    .setCustomBounds([\";\",\":\", \"\\\"\"])\\\n",
        "    .setUseCustomBoundsOnly(False)\n",
        "\n",
        "nlpPipeline = nlp.Pipeline(stages=[\n",
        "        documentAssembler,\n",
        "        textSplitter])\n",
        "\n",
        "empty_data = spark.createDataFrame([[\"\"]]).toDF(\"text\")\n",
        "\n",
        "model = nlpPipeline.fit(empty_data)\n"
      ]
    },
    {
      "cell_type": "markdown",
      "metadata": {
        "id": "eGXNukt1m7hr"
      },
      "source": [
        "However, several quotes in a sentence may require a splitting by quotes. `;`, `\"` with `.setCustomBounds`"
      ]
    },
    {
      "cell_type": "code",
      "execution_count": null,
      "metadata": {
        "id": "JjDqfVaml7p7"
      },
      "outputs": [],
      "source": [
        "lp = nlp.LightPipeline(model)"
      ]
    },
    {
      "cell_type": "code",
      "execution_count": null,
      "metadata": {
        "colab": {
          "base_uri": "https://localhost:8080/"
        },
        "id": "vHImhFfWl8lx",
        "outputId": "c95dbfe6-eb00-48fe-ec9a-164eb780f58c"
      },
      "outputs": [
        {
          "data": {
            "text/plain": [
              "['Taiwan.',\n",
              " 'Speaking only hours after Chinese state media said the time was right to engage in political talks with Taiwan, Foreign Ministry spokesman Shen Guofang told Reuters',\n",
              " 'The necessary atmosphere for the opening of the talks has been disrupted by the Taiwan authorities.']"
            ]
          },
          "execution_count": 27,
          "metadata": {},
          "output_type": "execute_result"
        }
      ],
      "source": [
        "lp.annotate(text)['sentence']"
      ]
    },
    {
      "cell_type": "markdown",
      "metadata": {
        "id": "_IkWA1pkCX3u"
      },
      "source": [
        "much better!"
      ]
    },
    {
      "cell_type": "markdown",
      "metadata": {
        "id": "V2iA9ICro4z4"
      },
      "source": [
        "##📌 Aggressive sentence-splitting\n",
        "Sometimes the splitting with \"conservative\" techniques is not enough. In that case, you may considering breaking the sentence structure. \n",
        "\n",
        "This has the main caveat that you may lose context by breaking the sentence into smaller pieces.\n",
        "\n",
        "However, if there is no other way you can split a sentence, it's better to lose some context but using all the words, than just not splitting and cutting off the sentence on the 512nd token.\n",
        "\n",
        "Even when you are within the limits, sometimes splitting into smaller chunks helps the model repetitive patterns which may get deluded in big sentences.\n",
        "\n",
        "Also, the performance degrades the longer the sentence is. Sometimes splitting in smaller sentences may provide with an performance improvement."
      ]
    },
    {
      "cell_type": "code",
      "execution_count": null,
      "metadata": {
        "id": "czon3nRSo34R"
      },
      "outputs": [],
      "source": [
        "text = 'On June 20, 2019, Inuvo entered into an Agreement and Plan of Merger Termination Agreement (the “Merger Termination Agreement”) with ConversionPoint Technologies Inc., a Delaware corporation (“CPT”), ConversionPoint Holdings, Inc., a Delaware corporation (“Parent”), CPT Merger Sub, Inc., a Delaware corporation, (“CPT Merger Sub”), and CPT Cigar Merger Sub, Inc., a Nevada corporation (“Inuvo Merger Sub”) which, among other things, terminated the Agreement and Plan of Merger, dated November 2, 2018, by and among Inuvo, CPT, Parent, CPT Merger Sub, and Inuvo Merger Sub, as amended (the “Merger Agreement”), pursuant to which Inuvo would have merged with and into Inuvo Merger Sub and become a wholly-owned subsidiary of Parent, and CPT would have merged with and into CPT Merger Sub and become a wholly-owned subsidiary of Parent (the “Mergers”), and (2) terminated each of the Support Agreements that were entered into by certain officers and directors of Inuvo and the parties to the Merger Agreement\"'"
      ]
    },
    {
      "cell_type": "code",
      "execution_count": null,
      "metadata": {
        "id": "iKqUu3NbpwXf"
      },
      "outputs": [],
      "source": [
        "documentAssembler = nlp.DocumentAssembler()\\\n",
        "    .setInputCol(\"text\")\\\n",
        "    .setOutputCol(\"document\")\n",
        "        \n",
        "textSplitter = legal.TextSplitter()\\\n",
        "    .setInputCols([\"document\"])\\\n",
        "    .setOutputCol(\"sentence\")\\\n",
        "    .setCustomBounds([\";\",\"\\\"\"])\\\n",
        "    .setUseCustomBoundsOnly(False)\n",
        "\n",
        "nlpPipeline = nlp.Pipeline(stages=[\n",
        "        documentAssembler,\n",
        "        textSplitter])\n",
        "\n",
        "empty_data = spark.createDataFrame([[\"\"]]).toDF(\"text\")\n",
        "\n",
        "model = nlpPipeline.fit(empty_data)\n"
      ]
    },
    {
      "cell_type": "code",
      "execution_count": null,
      "metadata": {
        "id": "7xjMN7CDrcL7"
      },
      "outputs": [],
      "source": [
        "lp = nlp.LightPipeline(model)"
      ]
    },
    {
      "cell_type": "markdown",
      "metadata": {
        "id": "e_NiCwXIrhg1"
      },
      "source": [
        "Conservative splitting does not help"
      ]
    },
    {
      "cell_type": "code",
      "execution_count": null,
      "metadata": {
        "colab": {
          "base_uri": "https://localhost:8080/"
        },
        "id": "BJylSx4XrdWd",
        "outputId": "8cf283a4-27ca-45bc-942c-9c0d54ce14e4"
      },
      "outputs": [
        {
          "data": {
            "text/plain": [
              "['On June 20, 2019, Inuvo entered into an Agreement and Plan of Merger Termination Agreement (the “Merger Termination Agreement”) with ConversionPoint Technologies Inc., a Delaware corporation (“CPT”), ConversionPoint Holdings, Inc., a Delaware corporation (“Parent”), CPT Merger Sub, Inc., a Delaware corporation, (“CPT Merger Sub”), and CPT Cigar Merger Sub, Inc., a Nevada corporation (“Inuvo Merger Sub”) which, among other things, terminated the Agreement and Plan of Merger, dated November 2, 2018, by and among Inuvo, CPT, Parent, CPT Merger Sub, and Inuvo Merger Sub, as amended (the “Merger Agreement”), pursuant to which Inuvo would have merged with and into Inuvo Merger Sub and become a wholly-owned subsidiary of Parent, and CPT would have merged with and into CPT Merger Sub and become a wholly-owned subsidiary of Parent (the “Mergers”), and (2) terminated each of the Support Agreements that were entered into by certain officers and directors of Inuvo and the parties to the Merger Agreement']"
            ]
          },
          "execution_count": 31,
          "metadata": {},
          "output_type": "execute_result"
        }
      ],
      "source": [
        "lp.annotate(text)['sentence']"
      ]
    },
    {
      "cell_type": "markdown",
      "metadata": {
        "id": "ATyJ0jSasF72"
      },
      "source": [
        "Splitting by parethensis"
      ]
    },
    {
      "cell_type": "code",
      "execution_count": null,
      "metadata": {
        "id": "dyJs-OaHrvxI"
      },
      "outputs": [],
      "source": [
        "documentAssembler = nlp.DocumentAssembler()\\\n",
        "    .setInputCol(\"text\")\\\n",
        "    .setOutputCol(\"document\")\n",
        "        \n",
        "textSplitter = legal.TextSplitter()\\\n",
        "    .setInputCols([\"document\"])\\\n",
        "    .setOutputCol(\"sentence\")\\\n",
        "    .setCustomBounds([\"\\(\",\"\\)\"])\\\n",
        "    .setUseCustomBoundsOnly(False)\n",
        "\n",
        "nlpPipeline = nlp.Pipeline(stages=[\n",
        "        documentAssembler,\n",
        "        textSplitter])\n",
        "\n",
        "empty_data = spark.createDataFrame([[\"\"]]).toDF(\"text\")\n",
        "\n",
        "model = nlpPipeline.fit(empty_data)\n"
      ]
    },
    {
      "cell_type": "code",
      "execution_count": null,
      "metadata": {
        "id": "LVQog7uGr1jO"
      },
      "outputs": [],
      "source": [
        "lp = nlp.LightPipeline(model)"
      ]
    },
    {
      "cell_type": "code",
      "execution_count": null,
      "metadata": {
        "colab": {
          "base_uri": "https://localhost:8080/"
        },
        "id": "MGVv04ohr2j-",
        "outputId": "57f1790d-5633-42de-e3c5-4aeaa6e3390b"
      },
      "outputs": [
        {
          "data": {
            "text/plain": [
              "['On June 20, 2019, Inuvo entered into an Agreement and Plan of Merger Termination Agreement',\n",
              " 'the “Merger Termination Agreement”',\n",
              " 'with ConversionPoint Technologies Inc., a Delaware corporation',\n",
              " '“CPT”',\n",
              " ', ConversionPoint Holdings, Inc., a Delaware corporation',\n",
              " '“Parent”',\n",
              " ', CPT Merger Sub, Inc., a Delaware corporation,',\n",
              " '“CPT Merger Sub”',\n",
              " ', and CPT Cigar Merger Sub, Inc., a Nevada corporation',\n",
              " '“Inuvo Merger Sub”',\n",
              " 'which, among other things, terminated the Agreement and Plan of Merger, dated November 2, 2018, by and among Inuvo, CPT, Parent, CPT Merger Sub, and Inuvo Merger Sub, as amended',\n",
              " 'the “Merger Agreement”',\n",
              " ', pursuant to which Inuvo would have merged with and into Inuvo Merger Sub and become a wholly-owned subsidiary of Parent, and CPT would have merged with and into CPT Merger Sub and become a wholly-owned subsidiary of Parent',\n",
              " 'the “Mergers”',\n",
              " ', and',\n",
              " '2',\n",
              " 'terminated each of the Support Agreements that were entered into by certain officers and directors of Inuvo and the parties to the Merger Agreement\"']"
            ]
          },
          "execution_count": 34,
          "metadata": {},
          "output_type": "execute_result"
        }
      ],
      "source": [
        "lp.annotate(text)['sentence']"
      ]
    },
    {
      "cell_type": "markdown",
      "metadata": {
        "id": "V68b5p3MsIZU"
      },
      "source": [
        "We can use **REGEX** or just several characters in a row in our `setCustomBounds`to be able to have finegrain splits."
      ]
    },
    {
      "cell_type": "code",
      "execution_count": null,
      "metadata": {
        "id": "8lSHIvMLsazd"
      },
      "outputs": [],
      "source": [
        "documentAssembler = nlp.DocumentAssembler()\\\n",
        "    .setInputCol(\"text\")\\\n",
        "    .setOutputCol(\"document\")\n",
        "        \n",
        "textSplitter = legal.TextSplitter()\\\n",
        "    .setInputCols([\"document\"])\\\n",
        "    .setOutputCol(\"sentence\")\\\n",
        "    .setUseCustomBoundsOnly(False)\\\n",
        "    .setCustomBounds([\", and\"])\n",
        "\n",
        "nlpPipeline = nlp.Pipeline(stages=[\n",
        "        documentAssembler,\n",
        "        textSplitter])\n",
        "\n",
        "empty_data = spark.createDataFrame([[\"\"]]).toDF(\"text\")\n",
        "\n",
        "model = nlpPipeline.fit(empty_data)\n"
      ]
    },
    {
      "cell_type": "code",
      "execution_count": null,
      "metadata": {
        "id": "f9gwpiw8scXF"
      },
      "outputs": [],
      "source": [
        "lp = nlp.LightPipeline(model)"
      ]
    },
    {
      "cell_type": "code",
      "execution_count": null,
      "metadata": {
        "colab": {
          "base_uri": "https://localhost:8080/"
        },
        "id": "BcIcDQCpsdGO",
        "outputId": "616f5c47-9917-405b-8c68-7992dbfbb529"
      },
      "outputs": [
        {
          "data": {
            "text/plain": [
              "['On June 20, 2019, Inuvo entered into an Agreement and Plan of Merger Termination Agreement (the “Merger Termination Agreement”) with ConversionPoint Technologies Inc., a Delaware corporation (“CPT”), ConversionPoint Holdings, Inc., a Delaware corporation (“Parent”), CPT Merger Sub, Inc., a Delaware corporation, (“CPT Merger Sub”)',\n",
              " 'CPT Cigar Merger Sub, Inc., a Nevada corporation (“Inuvo Merger Sub”) which, among other things, terminated the Agreement and Plan of Merger, dated November 2, 2018, by and among Inuvo, CPT, Parent, CPT Merger Sub',\n",
              " 'Inuvo Merger Sub, as amended (the “Merger Agreement”), pursuant to which Inuvo would have merged with and into Inuvo Merger Sub and become a wholly-owned subsidiary of Parent',\n",
              " 'CPT would have merged with and into CPT Merger Sub and become a wholly-owned subsidiary of Parent (the “Mergers”)',\n",
              " '(2) terminated each of the Support Agreements that were entered into by certain officers and directors of Inuvo and the parties to the Merger Agreement\"']"
            ]
          },
          "execution_count": 37,
          "metadata": {},
          "output_type": "execute_result"
        }
      ],
      "source": [
        "lp.annotate(text)['sentence']"
      ]
    },
    {
      "cell_type": "markdown",
      "metadata": {
        "id": "xsa9w7audkfy"
      },
      "source": [
        "##📜 Conclusions\n",
        "In this notebook we will show you several techniques and their caveats to properly split Sentences so that you reduce your sentence length after tokenization.\n",
        "\n",
        "Doing this has proved to be better even when you are within the limits of your sentence token length (512) - smaller chunks of pieces of text are better managed than long sequences."
      ]
    },
    {
      "cell_type": "code",
      "source": [],
      "metadata": {
        "id": "BuR6Li_-cDtK"
      },
      "execution_count": null,
      "outputs": []
    }
  ],
  "metadata": {
    "colab": {
      "collapsed_sections": [
        "xsa9w7audkfy"
      ],
      "provenance": [],
      "toc_visible": true
    },
    "gpuClass": "standard",
    "kernelspec": {
      "display_name": "tf-gpu",
      "language": "python",
      "name": "python3"
    },
    "language_info": {
      "codemirror_mode": {
        "name": "ipython",
        "version": 3
      },
      "file_extension": ".py",
      "mimetype": "text/x-python",
      "name": "python",
      "nbconvert_exporter": "python",
      "pygments_lexer": "ipython3",
      "version": "3.9.7 (default, Sep 16 2021, 16:59:28) [MSC v.1916 64 bit (AMD64)]"
    },
    "vscode": {
      "interpreter": {
        "hash": "3f47d918ae832c68584484921185f5c85a1760864bf927a683dc6fb56366cc77"
      }
    }
  },
  "nbformat": 4,
  "nbformat_minor": 0
}
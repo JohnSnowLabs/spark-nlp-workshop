{
  "cells": [
    {
      "cell_type": "markdown",
      "id": "db5f4f9a-7776-42b3-8758-85624d4c15ea",
      "metadata": {
        "id": "db5f4f9a-7776-42b3-8758-85624d4c15ea"
      },
      "source": [
        "![JohnSnowLabs](https://nlp.johnsnowlabs.com/assets/images/logo.png)"
      ]
    },
    {
      "attachments": {},
      "cell_type": "markdown",
      "id": "21e9eafb",
      "metadata": {
        "id": "21e9eafb"
      },
      "source": [
        "[![Open In Colab](https://colab.research.google.com/assets/colab-badge.svg)](https://colab.research.google.com/github/JohnSnowLabs/spark-nlp-workshop/blob/master/legal-nlp/10.0.Data_Augmentation_with_ChunkMappers.ipynb)"
      ]
    },
    {
      "cell_type": "markdown",
      "id": "cfbbcfc0-e0b7-4c25-8bd7-c64d90f836d1",
      "metadata": {
        "id": "cfbbcfc0-e0b7-4c25-8bd7-c64d90f836d1"
      },
      "source": [
        "# Legal Data Augmentation with Chunk Mappers"
      ]
    },
    {
      "cell_type": "markdown",
      "id": "gk3kZHmNj51v",
      "metadata": {
        "collapsed": false,
        "id": "gk3kZHmNj51v"
      },
      "source": [
        "# Installation"
      ]
    },
    {
      "cell_type": "code",
      "execution_count": null,
      "id": "_914itZsj51v",
      "metadata": {
        "colab": {
          "base_uri": "https://localhost:8080/"
        },
        "id": "_914itZsj51v",
        "outputId": "b75c1b70-998f-491d-8e2a-fa9eec13f5ff",
        "pycharm": {
          "is_executing": true
        }
      },
      "outputs": [],
      "source": [
        "! pip install -q johnsnowlabs"
      ]
    },
    {
      "cell_type": "markdown",
      "id": "YPsbAnNoPt0Z",
      "metadata": {
        "id": "YPsbAnNoPt0Z"
      },
      "source": [
        "## Automatic Installation\n",
        "Using my.johnsnowlabs.com SSO"
      ]
    },
    {
      "cell_type": "code",
      "execution_count": null,
      "id": "fY0lcShkj51w",
      "metadata": {
        "id": "fY0lcShkj51w",
        "pycharm": {
          "is_executing": true
        }
      },
      "outputs": [],
      "source": [
        "from johnsnowlabs import nlp, legal\n",
        "\n",
        "# nlp.install(force_browser=True)"
      ]
    },
    {
      "cell_type": "markdown",
      "id": "hsJvn_WWM2GL",
      "metadata": {
        "id": "hsJvn_WWM2GL"
      },
      "source": [
        "## Manual downloading\n",
        "If you are not registered in my.johnsnowlabs.com, you received a license via e-email or you are using Safari, you may need to do a manual update of the license.\n",
        "\n",
        "- Go to my.johnsnowlabs.com\n",
        "- Download your license\n",
        "- Upload it using the following command"
      ]
    },
    {
      "cell_type": "code",
      "execution_count": null,
      "id": "i57QV3-_P2sQ",
      "metadata": {
        "colab": {
          "base_uri": "https://localhost:8080/",
          "height": 89
        },
        "id": "i57QV3-_P2sQ",
        "outputId": "e4187378-9631-441d-872b-27105d77dcd5"
      },
      "outputs": [
        {
          "name": "stdout",
          "output_type": "stream",
          "text": [
            "Please Upload your John Snow Labs License using the button below\n"
          ]
        },
        {
          "data": {
            "text/html": [
              "\n",
              "     <input type=\"file\" id=\"files-26b34cde-6a27-4ce5-8cf8-5401594b596a\" name=\"files[]\" multiple disabled\n",
              "        style=\"border:none\" />\n",
              "     <output id=\"result-26b34cde-6a27-4ce5-8cf8-5401594b596a\">\n",
              "      Upload widget is only available when the cell has been executed in the\n",
              "      current browser session. Please rerun this cell to enable.\n",
              "      </output>\n",
              "      <script>// Copyright 2017 Google LLC\n",
              "//\n",
              "// Licensed under the Apache License, Version 2.0 (the \"License\");\n",
              "// you may not use this file except in compliance with the License.\n",
              "// You may obtain a copy of the License at\n",
              "//\n",
              "//      http://www.apache.org/licenses/LICENSE-2.0\n",
              "//\n",
              "// Unless required by applicable law or agreed to in writing, software\n",
              "// distributed under the License is distributed on an \"AS IS\" BASIS,\n",
              "// WITHOUT WARRANTIES OR CONDITIONS OF ANY KIND, either express or implied.\n",
              "// See the License for the specific language governing permissions and\n",
              "// limitations under the License.\n",
              "\n",
              "/**\n",
              " * @fileoverview Helpers for google.colab Python module.\n",
              " */\n",
              "(function(scope) {\n",
              "function span(text, styleAttributes = {}) {\n",
              "  const element = document.createElement('span');\n",
              "  element.textContent = text;\n",
              "  for (const key of Object.keys(styleAttributes)) {\n",
              "    element.style[key] = styleAttributes[key];\n",
              "  }\n",
              "  return element;\n",
              "}\n",
              "\n",
              "// Max number of bytes which will be uploaded at a time.\n",
              "const MAX_PAYLOAD_SIZE = 100 * 1024;\n",
              "\n",
              "function _uploadFiles(inputId, outputId) {\n",
              "  const steps = uploadFilesStep(inputId, outputId);\n",
              "  const outputElement = document.getElementById(outputId);\n",
              "  // Cache steps on the outputElement to make it available for the next call\n",
              "  // to uploadFilesContinue from Python.\n",
              "  outputElement.steps = steps;\n",
              "\n",
              "  return _uploadFilesContinue(outputId);\n",
              "}\n",
              "\n",
              "// This is roughly an async generator (not supported in the browser yet),\n",
              "// where there are multiple asynchronous steps and the Python side is going\n",
              "// to poll for completion of each step.\n",
              "// This uses a Promise to block the python side on completion of each step,\n",
              "// then passes the result of the previous step as the input to the next step.\n",
              "function _uploadFilesContinue(outputId) {\n",
              "  const outputElement = document.getElementById(outputId);\n",
              "  const steps = outputElement.steps;\n",
              "\n",
              "  const next = steps.next(outputElement.lastPromiseValue);\n",
              "  return Promise.resolve(next.value.promise).then((value) => {\n",
              "    // Cache the last promise value to make it available to the next\n",
              "    // step of the generator.\n",
              "    outputElement.lastPromiseValue = value;\n",
              "    return next.value.response;\n",
              "  });\n",
              "}\n",
              "\n",
              "/**\n",
              " * Generator function which is called between each async step of the upload\n",
              " * process.\n",
              " * @param {string} inputId Element ID of the input file picker element.\n",
              " * @param {string} outputId Element ID of the output display.\n",
              " * @return {!Iterable<!Object>} Iterable of next steps.\n",
              " */\n",
              "function* uploadFilesStep(inputId, outputId) {\n",
              "  const inputElement = document.getElementById(inputId);\n",
              "  inputElement.disabled = false;\n",
              "\n",
              "  const outputElement = document.getElementById(outputId);\n",
              "  outputElement.innerHTML = '';\n",
              "\n",
              "  const pickedPromise = new Promise((resolve) => {\n",
              "    inputElement.addEventListener('change', (e) => {\n",
              "      resolve(e.target.files);\n",
              "    });\n",
              "  });\n",
              "\n",
              "  const cancel = document.createElement('button');\n",
              "  inputElement.parentElement.appendChild(cancel);\n",
              "  cancel.textContent = 'Cancel upload';\n",
              "  const cancelPromise = new Promise((resolve) => {\n",
              "    cancel.onclick = () => {\n",
              "      resolve(null);\n",
              "    };\n",
              "  });\n",
              "\n",
              "  // Wait for the user to pick the files.\n",
              "  const files = yield {\n",
              "    promise: Promise.race([pickedPromise, cancelPromise]),\n",
              "    response: {\n",
              "      action: 'starting',\n",
              "    }\n",
              "  };\n",
              "\n",
              "  cancel.remove();\n",
              "\n",
              "  // Disable the input element since further picks are not allowed.\n",
              "  inputElement.disabled = true;\n",
              "\n",
              "  if (!files) {\n",
              "    return {\n",
              "      response: {\n",
              "        action: 'complete',\n",
              "      }\n",
              "    };\n",
              "  }\n",
              "\n",
              "  for (const file of files) {\n",
              "    const li = document.createElement('li');\n",
              "    li.append(span(file.name, {fontWeight: 'bold'}));\n",
              "    li.append(span(\n",
              "        `(${file.type || 'n/a'}) - ${file.size} bytes, ` +\n",
              "        `last modified: ${\n",
              "            file.lastModifiedDate ? file.lastModifiedDate.toLocaleDateString() :\n",
              "                                    'n/a'} - `));\n",
              "    const percent = span('0% done');\n",
              "    li.appendChild(percent);\n",
              "\n",
              "    outputElement.appendChild(li);\n",
              "\n",
              "    const fileDataPromise = new Promise((resolve) => {\n",
              "      const reader = new FileReader();\n",
              "      reader.onload = (e) => {\n",
              "        resolve(e.target.result);\n",
              "      };\n",
              "      reader.readAsArrayBuffer(file);\n",
              "    });\n",
              "    // Wait for the data to be ready.\n",
              "    let fileData = yield {\n",
              "      promise: fileDataPromise,\n",
              "      response: {\n",
              "        action: 'continue',\n",
              "      }\n",
              "    };\n",
              "\n",
              "    // Use a chunked sending to avoid message size limits. See b/62115660.\n",
              "    let position = 0;\n",
              "    do {\n",
              "      const length = Math.min(fileData.byteLength - position, MAX_PAYLOAD_SIZE);\n",
              "      const chunk = new Uint8Array(fileData, position, length);\n",
              "      position += length;\n",
              "\n",
              "      const base64 = btoa(String.fromCharCode.apply(null, chunk));\n",
              "      yield {\n",
              "        response: {\n",
              "          action: 'append',\n",
              "          file: file.name,\n",
              "          data: base64,\n",
              "        },\n",
              "      };\n",
              "\n",
              "      let percentDone = fileData.byteLength === 0 ?\n",
              "          100 :\n",
              "          Math.round((position / fileData.byteLength) * 100);\n",
              "      percent.textContent = `${percentDone}% done`;\n",
              "\n",
              "    } while (position < fileData.byteLength);\n",
              "  }\n",
              "\n",
              "  // All done.\n",
              "  yield {\n",
              "    response: {\n",
              "      action: 'complete',\n",
              "    }\n",
              "  };\n",
              "}\n",
              "\n",
              "scope.google = scope.google || {};\n",
              "scope.google.colab = scope.google.colab || {};\n",
              "scope.google.colab._files = {\n",
              "  _uploadFiles,\n",
              "  _uploadFilesContinue,\n",
              "};\n",
              "})(self);\n",
              "</script> "
            ],
            "text/plain": [
              "<IPython.core.display.HTML object>"
            ]
          },
          "metadata": {},
          "output_type": "display_data"
        },
        {
          "name": "stdout",
          "output_type": "stream",
          "text": [
            "Saving spark_nlp_for_healthcare_spark_ocr_7163 (2).json to spark_nlp_for_healthcare_spark_ocr_7163 (2).json\n"
          ]
        }
      ],
      "source": [
        "from google.colab import files\n",
        "print('Please Upload your John Snow Labs License using the button below')\n",
        "license_keys = files.upload()"
      ]
    },
    {
      "cell_type": "markdown",
      "id": "xGgNdFzZP_hQ",
      "metadata": {
        "id": "xGgNdFzZP_hQ"
      },
      "source": [
        "- Install it"
      ]
    },
    {
      "cell_type": "code",
      "execution_count": null,
      "id": "OfmmPqknP4rR",
      "metadata": {
        "colab": {
          "base_uri": "https://localhost:8080/"
        },
        "id": "OfmmPqknP4rR",
        "outputId": "132c787d-8ad1-4795-c67a-ab14e02f6e26"
      },
      "outputs": [
        {
          "name": "stdout",
          "output_type": "stream",
          "text": [
            "👌 Detected license file /content/spark_nlp_for_healthcare_spark_ocr_7163 (2).json\n",
            "📋 Stored John Snow Labs License in /root/.johnsnowlabs/licenses/license_number_0_for_Spark-Healthcare_Spark-OCR.json\n",
            "👷 Setting up  John Snow Labs home in /root/.johnsnowlabs, this might take a few minutes.\n",
            "Downloading 🐍+🚀 Python Library spark_nlp-4.2.4-py2.py3-none-any.whl\n",
            "Downloading 🐍+💊 Python Library spark_nlp_jsl-4.2.4-py3-none-any.whl\n",
            "Downloading 🫘+🚀 Java Library spark-nlp-assembly-4.2.4.jar\n",
            "Downloading 🫘+💊 Java Library spark-nlp-jsl-4.2.4.jar\n",
            "🙆 JSL Home setup in /root/.johnsnowlabs\n",
            "👌 Detected license file /content/spark_nlp_for_healthcare_spark_ocr_7163 (2).json\n",
            "Installing /root/.johnsnowlabs/py_installs/spark_nlp_jsl-4.2.4-py3-none-any.whl to /usr/bin/python3\n",
            "Running: /usr/bin/python3 -m pip install /root/.johnsnowlabs/py_installs/spark_nlp_jsl-4.2.4-py3-none-any.whl\n",
            "Installed 1 products:\n",
            "💊 Spark-Healthcare==4.2.4 installed! ✅ Heal the planet with NLP! \n"
          ]
        }
      ],
      "source": [
        "nlp.install()"
      ]
    },
    {
      "cell_type": "markdown",
      "id": "DCl5ErZkNNLk",
      "metadata": {
        "id": "DCl5ErZkNNLk"
      },
      "source": [
        "# Starting"
      ]
    },
    {
      "cell_type": "code",
      "execution_count": null,
      "id": "wRXTnNl3j51w",
      "metadata": {
        "colab": {
          "base_uri": "https://localhost:8080/"
        },
        "id": "wRXTnNl3j51w",
        "outputId": "2653b9f0-658e-49c5-ef7a-7ddb12a9e084"
      },
      "outputs": [
        {
          "name": "stdout",
          "output_type": "stream",
          "text": [
            "👌 Detected license file /content/spark_nlp_for_healthcare_spark_ocr_7163 (2).json\n",
            "👌 Launched \u001b[92mcpu optimized\u001b[39m session with with: 🚀Spark-NLP==4.2.4, 💊Spark-Healthcare==4.2.4, running on ⚡ PySpark==3.1.2\n"
          ]
        }
      ],
      "source": [
        "spark = nlp.start()"
      ]
    },
    {
      "cell_type": "markdown",
      "id": "d2cd4221-fbca-4ca1-86a9-65e6264c4ad1",
      "metadata": {
        "id": "d2cd4221-fbca-4ca1-86a9-65e6264c4ad1"
      },
      "source": [
        "# About Data Augmentation"
      ]
    },
    {
      "cell_type": "markdown",
      "id": "bf9835fd-9def-44e4-b022-e8db0f045fec",
      "metadata": {
        "id": "bf9835fd-9def-44e4-b022-e8db0f045fec"
      },
      "source": [
        "__Data Augmentation__ is the process of increase an extracted datapoint with external sources. \n",
        "\n",
        "For example, let's suppose I work with a document which mentions the company _Apple_. We could be talking about stock prices, or some legal litigations, or just a commercial agreement with a provider, among others.\n",
        "\n",
        "In the document, we can extract entities using NER as an Organization\n",
        "\n",
        "Well, with __Data Augmentation__, we can use external sources, as _SEC Edgar, Crunchbase, Nasdaq_ or even _Wikipedia_, to enrich `Apple` with much more information, allowing us to take better decisions.\n",
        "\n",
        "Let's see how to do it."
      ]
    },
    {
      "cell_type": "markdown",
      "id": "eef8c0e5-6793-4db5-ab39-f6381c9e500d",
      "metadata": {
        "id": "eef8c0e5-6793-4db5-ab39-f6381c9e500d"
      },
      "source": [
        "# Step 1: Name Entity Recognition"
      ]
    },
    {
      "cell_type": "markdown",
      "id": "612f9fe0-4d7c-4d6e-afc1-47a59b99f529",
      "metadata": {
        "id": "612f9fe0-4d7c-4d6e-afc1-47a59b99f529"
      },
      "source": [
        "Let's suppose we get this news from scrapping the Internet, or from Wikipedia."
      ]
    },
    {
      "cell_type": "code",
      "execution_count": null,
      "id": "ExkBVodzxYqf",
      "metadata": {
        "colab": {
          "base_uri": "https://localhost:8080/",
          "height": 36
        },
        "id": "ExkBVodzxYqf",
        "outputId": "6685451d-5bc6-4fa6-ad95-e5ea2c7bf83d"
      },
      "outputs": [
        {
          "data": {
            "application/vnd.google.colaboratory.intrinsic+json": {
              "type": "string"
            },
            "text/plain": [
              "'Apple became the first publicly traded U.S. company to be valued at over $1 trillion in August 2018, then $2 trillion in August 2020, and most recently $3 trillion in January 2022. '"
            ]
          },
          "execution_count": 6,
          "metadata": {},
          "output_type": "execute_result"
        }
      ],
      "source": [
        "text = \"\"\"Apple became the first publicly traded U.S. company to be valued at over $1 trillion in August 2018, then $2 trillion in August 2020, and most recently $3 trillion in January 2022. \"\"\"\n",
        "\n",
        "text"
      ]
    },
    {
      "cell_type": "markdown",
      "id": "71a5e806-9659-4b41-8ab6-38f81b26797f",
      "metadata": {
        "id": "71a5e806-9659-4b41-8ab6-38f81b26797f"
      },
      "source": [
        "Firstly, We use NER model to extract the companies name from the text."
      ]
    },
    {
      "cell_type": "code",
      "execution_count": null,
      "id": "cb765952-24c2-48b6-8d86-5413b13bd9fa",
      "metadata": {
        "colab": {
          "base_uri": "https://localhost:8080/"
        },
        "id": "cb765952-24c2-48b6-8d86-5413b13bd9fa",
        "outputId": "f1f0a410-f1c3-44c1-e603-904d9e0acf1e"
      },
      "outputs": [
        {
          "name": "stdout",
          "output_type": "stream",
          "text": [
            "sentence_detector_dl download started this may take some time.\n",
            "Approximate size to download 514.9 KB\n",
            "[OK!]\n",
            "bert_embeddings_sec_bert_base download started this may take some time.\n",
            "Approximate size to download 390.4 MB\n",
            "[OK!]\n",
            "legner_orgs_prods_alias download started this may take some time.\n",
            "[OK!]\n"
          ]
        }
      ],
      "source": [
        "documentAssembler = nlp.DocumentAssembler()\\\n",
        "    .setInputCol(\"text\")\\\n",
        "    .setOutputCol(\"document\")\n",
        "    \n",
        "sentenceDetector = nlp.SentenceDetectorDLModel.pretrained(\"sentence_detector_dl\",\"xx\")\\\n",
        "    .setInputCols([\"document\"])\\\n",
        "    .setOutputCol(\"sentence\")\n",
        "\n",
        "tokenizer = nlp.Tokenizer()\\\n",
        "    .setInputCols([\"sentence\"])\\\n",
        "    .setOutputCol(\"token\")\n",
        "\n",
        "embeddings = nlp.BertEmbeddings.pretrained(\"bert_embeddings_sec_bert_base\",\"en\") \\\n",
        "    .setInputCols([\"sentence\", \"token\"]) \\\n",
        "    .setOutputCol(\"embeddings\")\n",
        "\n",
        "ner_model = legal.NerModel.pretrained(\"legner_orgs_prods_alias\", \"en\", \"legal/models\")\\\n",
        "    .setInputCols([\"sentence\", \"token\", \"embeddings\"])\\\n",
        "    .setOutputCol(\"ner\")\n",
        "        \n",
        "ner_converter = nlp.NerConverter()\\\n",
        "    .setInputCols([\"sentence\",\"token\",\"ner\"])\\\n",
        "    .setOutputCol(\"ner_chunk\")\n",
        "\n",
        "nlpPipeline = nlp.Pipeline(stages=[\n",
        "        documentAssembler,\n",
        "        sentenceDetector,\n",
        "        tokenizer,\n",
        "        embeddings,\n",
        "        ner_model,\n",
        "        ner_converter,\n",
        "])\n",
        "\n",
        "empty_data = spark.createDataFrame([[\"\"]]).toDF(\"text\")\n",
        "\n",
        "model = nlpPipeline.fit(empty_data)"
      ]
    },
    {
      "cell_type": "markdown",
      "id": "37eae9a4-52e1-400e-a1dd-effc6ed1da35",
      "metadata": {
        "id": "37eae9a4-52e1-400e-a1dd-effc6ed1da35"
      },
      "source": [
        "## We use LightPipelines to get the result"
      ]
    },
    {
      "cell_type": "code",
      "execution_count": null,
      "id": "76a05a20-b9b1-4868-a198-0e950c05a786",
      "metadata": {
        "colab": {
          "base_uri": "https://localhost:8080/"
        },
        "id": "76a05a20-b9b1-4868-a198-0e950c05a786",
        "outputId": "e0d89c5a-041b-4028-8269-9f79e335c260"
      },
      "outputs": [
        {
          "data": {
            "text/plain": [
              "[{'document': [Annotation(document, 0, 180, Apple became the first publicly traded U.S. company to be valued at over $1 trillion in August 2018, then $2 trillion in August 2020, and most recently $3 trillion in January 2022. , {})],\n",
              "  'ner_chunk': [Annotation(chunk, 0, 4, Apple, {'entity': 'ORG', 'sentence': '0', 'chunk': '0', 'confidence': '0.9911'})],\n",
              "  'token': [Annotation(token, 0, 4, Apple, {'sentence': '0'}),\n",
              "   Annotation(token, 6, 11, became, {'sentence': '0'}),\n",
              "   Annotation(token, 13, 15, the, {'sentence': '0'}),\n",
              "   Annotation(token, 17, 21, first, {'sentence': '0'}),\n",
              "   Annotation(token, 23, 30, publicly, {'sentence': '0'}),\n",
              "   Annotation(token, 32, 37, traded, {'sentence': '0'}),\n",
              "   Annotation(token, 39, 41, U.S, {'sentence': '0'}),\n",
              "   Annotation(token, 42, 42, ., {'sentence': '0'}),\n",
              "   Annotation(token, 44, 50, company, {'sentence': '0'}),\n",
              "   Annotation(token, 52, 53, to, {'sentence': '0'}),\n",
              "   Annotation(token, 55, 56, be, {'sentence': '0'}),\n",
              "   Annotation(token, 58, 63, valued, {'sentence': '0'}),\n",
              "   Annotation(token, 65, 66, at, {'sentence': '0'}),\n",
              "   Annotation(token, 68, 71, over, {'sentence': '0'}),\n",
              "   Annotation(token, 73, 74, $1, {'sentence': '0'}),\n",
              "   Annotation(token, 76, 83, trillion, {'sentence': '0'}),\n",
              "   Annotation(token, 85, 86, in, {'sentence': '0'}),\n",
              "   Annotation(token, 88, 93, August, {'sentence': '0'}),\n",
              "   Annotation(token, 95, 98, 2018, {'sentence': '0'}),\n",
              "   Annotation(token, 99, 99, ,, {'sentence': '0'}),\n",
              "   Annotation(token, 101, 104, then, {'sentence': '0'}),\n",
              "   Annotation(token, 106, 107, $2, {'sentence': '0'}),\n",
              "   Annotation(token, 109, 116, trillion, {'sentence': '0'}),\n",
              "   Annotation(token, 118, 119, in, {'sentence': '0'}),\n",
              "   Annotation(token, 121, 126, August, {'sentence': '0'}),\n",
              "   Annotation(token, 128, 131, 2020, {'sentence': '0'}),\n",
              "   Annotation(token, 132, 132, ,, {'sentence': '0'}),\n",
              "   Annotation(token, 134, 136, and, {'sentence': '0'}),\n",
              "   Annotation(token, 138, 141, most, {'sentence': '0'}),\n",
              "   Annotation(token, 143, 150, recently, {'sentence': '0'}),\n",
              "   Annotation(token, 152, 153, $3, {'sentence': '0'}),\n",
              "   Annotation(token, 155, 162, trillion, {'sentence': '0'}),\n",
              "   Annotation(token, 164, 165, in, {'sentence': '0'}),\n",
              "   Annotation(token, 167, 173, January, {'sentence': '0'}),\n",
              "   Annotation(token, 175, 178, 2022, {'sentence': '0'}),\n",
              "   Annotation(token, 179, 179, ., {'sentence': '0'})],\n",
              "  'ner': [Annotation(named_entity, 0, 4, B-ORG, {'word': 'Apple', 'confidence': '0.9911', 'sentence': '0'}),\n",
              "   Annotation(named_entity, 6, 11, O, {'word': 'became', 'confidence': '1.0', 'sentence': '0'}),\n",
              "   Annotation(named_entity, 13, 15, O, {'word': 'the', 'confidence': '0.9974', 'sentence': '0'}),\n",
              "   Annotation(named_entity, 17, 21, O, {'word': 'first', 'confidence': '0.9616', 'sentence': '0'}),\n",
              "   Annotation(named_entity, 23, 30, O, {'word': 'publicly', 'confidence': '0.9964', 'sentence': '0'}),\n",
              "   Annotation(named_entity, 32, 37, O, {'word': 'traded', 'confidence': '0.9951', 'sentence': '0'}),\n",
              "   Annotation(named_entity, 39, 41, O, {'word': 'U.S', 'confidence': '0.813', 'sentence': '0'}),\n",
              "   Annotation(named_entity, 42, 42, O, {'word': '.', 'confidence': '0.5688', 'sentence': '0'}),\n",
              "   Annotation(named_entity, 44, 50, O, {'word': 'company', 'confidence': '0.7468', 'sentence': '0'}),\n",
              "   Annotation(named_entity, 52, 53, O, {'word': 'to', 'confidence': '0.9966', 'sentence': '0'}),\n",
              "   Annotation(named_entity, 55, 56, O, {'word': 'be', 'confidence': '0.9962', 'sentence': '0'}),\n",
              "   Annotation(named_entity, 58, 63, O, {'word': 'valued', 'confidence': '0.9999', 'sentence': '0'}),\n",
              "   Annotation(named_entity, 65, 66, O, {'word': 'at', 'confidence': '0.9996', 'sentence': '0'}),\n",
              "   Annotation(named_entity, 68, 71, O, {'word': 'over', 'confidence': '0.9985', 'sentence': '0'}),\n",
              "   Annotation(named_entity, 73, 74, O, {'word': '$1', 'confidence': '0.9996', 'sentence': '0'}),\n",
              "   Annotation(named_entity, 76, 83, O, {'word': 'trillion', 'confidence': '0.9929', 'sentence': '0'}),\n",
              "   Annotation(named_entity, 85, 86, O, {'word': 'in', 'confidence': '0.9997', 'sentence': '0'}),\n",
              "   Annotation(named_entity, 88, 93, O, {'word': 'August', 'confidence': '0.9948', 'sentence': '0'}),\n",
              "   Annotation(named_entity, 95, 98, O, {'word': '2018', 'confidence': '0.8674', 'sentence': '0'}),\n",
              "   Annotation(named_entity, 99, 99, O, {'word': ',', 'confidence': '0.9998', 'sentence': '0'}),\n",
              "   Annotation(named_entity, 101, 104, O, {'word': 'then', 'confidence': '1.0', 'sentence': '0'}),\n",
              "   Annotation(named_entity, 106, 107, O, {'word': '$2', 'confidence': '0.9998', 'sentence': '0'}),\n",
              "   Annotation(named_entity, 109, 116, O, {'word': 'trillion', 'confidence': '0.9968', 'sentence': '0'}),\n",
              "   Annotation(named_entity, 118, 119, O, {'word': 'in', 'confidence': '0.9997', 'sentence': '0'}),\n",
              "   Annotation(named_entity, 121, 126, O, {'word': 'August', 'confidence': '0.9938', 'sentence': '0'}),\n",
              "   Annotation(named_entity, 128, 131, O, {'word': '2020', 'confidence': '0.9683', 'sentence': '0'}),\n",
              "   Annotation(named_entity, 132, 132, O, {'word': ',', 'confidence': '0.9997', 'sentence': '0'}),\n",
              "   Annotation(named_entity, 134, 136, O, {'word': 'and', 'confidence': '1.0', 'sentence': '0'}),\n",
              "   Annotation(named_entity, 138, 141, O, {'word': 'most', 'confidence': '1.0', 'sentence': '0'}),\n",
              "   Annotation(named_entity, 143, 150, O, {'word': 'recently', 'confidence': '0.9999', 'sentence': '0'}),\n",
              "   Annotation(named_entity, 152, 153, O, {'word': '$3', 'confidence': '0.9998', 'sentence': '0'}),\n",
              "   Annotation(named_entity, 155, 162, O, {'word': 'trillion', 'confidence': '0.9977', 'sentence': '0'}),\n",
              "   Annotation(named_entity, 164, 165, O, {'word': 'in', 'confidence': '0.9998', 'sentence': '0'}),\n",
              "   Annotation(named_entity, 167, 173, O, {'word': 'January', 'confidence': '0.9799', 'sentence': '0'}),\n",
              "   Annotation(named_entity, 175, 178, O, {'word': '2022', 'confidence': '0.8621', 'sentence': '0'}),\n",
              "   Annotation(named_entity, 179, 179, O, {'word': '.', 'confidence': '1.0', 'sentence': '0'})],\n",
              "  'embeddings': [Annotation(word_embeddings, 0, 4, Apple, {'isOOV': 'false', 'pieceId': '101', 'isWordStart': 'true', 'token': 'Apple', 'sentence': '0'}),\n",
              "   Annotation(word_embeddings, 6, 11, became, {'isOOV': 'false', 'pieceId': '3563', 'isWordStart': 'true', 'token': 'became', 'sentence': '0'}),\n",
              "   Annotation(word_embeddings, 13, 15, the, {'isOOV': 'false', 'pieceId': '612', 'isWordStart': 'true', 'token': 'the', 'sentence': '0'}),\n",
              "   Annotation(word_embeddings, 17, 21, first, {'isOOV': 'false', 'pieceId': '1579', 'isWordStart': 'true', 'token': 'first', 'sentence': '0'}),\n",
              "   Annotation(word_embeddings, 23, 30, publicly, {'isOOV': 'false', 'pieceId': '4118', 'isWordStart': 'true', 'token': 'publicly', 'sentence': '0'}),\n",
              "   Annotation(word_embeddings, 32, 37, traded, {'isOOV': 'false', 'pieceId': '3420', 'isWordStart': 'true', 'token': 'traded', 'sentence': '0'}),\n",
              "   Annotation(word_embeddings, 39, 41, U.S, {'isOOV': 'false', 'pieceId': '101', 'isWordStart': 'true', 'token': 'U.S', 'sentence': '0'}),\n",
              "   Annotation(word_embeddings, 42, 42, ., {'isOOV': 'false', 'pieceId': '118', 'isWordStart': 'true', 'token': '.', 'sentence': '0'}),\n",
              "   Annotation(word_embeddings, 44, 50, company, {'isOOV': 'false', 'pieceId': '683', 'isWordStart': 'true', 'token': 'company', 'sentence': '0'}),\n",
              "   Annotation(word_embeddings, 52, 53, to, {'isOOV': 'false', 'pieceId': '631', 'isWordStart': 'true', 'token': 'to', 'sentence': '0'}),\n",
              "   Annotation(word_embeddings, 55, 56, be, {'isOOV': 'false', 'pieceId': '681', 'isWordStart': 'true', 'token': 'be', 'sentence': '0'}),\n",
              "   Annotation(word_embeddings, 58, 63, valued, {'isOOV': 'false', 'pieceId': '3755', 'isWordStart': 'true', 'token': 'valued', 'sentence': '0'}),\n",
              "   Annotation(word_embeddings, 65, 66, at, {'isOOV': 'false', 'pieceId': '746', 'isWordStart': 'true', 'token': 'at', 'sentence': '0'}),\n",
              "   Annotation(word_embeddings, 68, 71, over, {'isOOV': 'false', 'pieceId': '986', 'isWordStart': 'true', 'token': 'over', 'sentence': '0'}),\n",
              "   Annotation(word_embeddings, 73, 74, $1, {'isOOV': 'false', 'pieceId': '108', 'isWordStart': 'true', 'token': '$1', 'sentence': '0'}),\n",
              "   Annotation(word_embeddings, 76, 83, trillion, {'isOOV': 'false', 'pieceId': '15963', 'isWordStart': 'true', 'token': 'trillion', 'sentence': '0'}),\n",
              "   Annotation(word_embeddings, 85, 86, in, {'isOOV': 'false', 'pieceId': '617', 'isWordStart': 'true', 'token': 'in', 'sentence': '0'}),\n",
              "   Annotation(word_embeddings, 88, 93, August, {'isOOV': 'false', 'pieceId': '101', 'isWordStart': 'true', 'token': 'August', 'sentence': '0'}),\n",
              "   Annotation(word_embeddings, 95, 98, 2018, {'isOOV': 'false', 'pieceId': '1932', 'isWordStart': 'true', 'token': '2018', 'sentence': '0'}),\n",
              "   Annotation(word_embeddings, 99, 99, ,, {'isOOV': 'false', 'pieceId': '116', 'isWordStart': 'true', 'token': ',', 'sentence': '0'}),\n",
              "   Annotation(word_embeddings, 101, 104, then, {'isOOV': 'false', 'pieceId': '2431', 'isWordStart': 'true', 'token': 'then', 'sentence': '0'}),\n",
              "   Annotation(word_embeddings, 106, 107, $2, {'isOOV': 'false', 'pieceId': '108', 'isWordStart': 'true', 'token': '$2', 'sentence': '0'}),\n",
              "   Annotation(word_embeddings, 109, 116, trillion, {'isOOV': 'false', 'pieceId': '15963', 'isWordStart': 'true', 'token': 'trillion', 'sentence': '0'}),\n",
              "   Annotation(word_embeddings, 118, 119, in, {'isOOV': 'false', 'pieceId': '617', 'isWordStart': 'true', 'token': 'in', 'sentence': '0'}),\n",
              "   Annotation(word_embeddings, 121, 126, August, {'isOOV': 'false', 'pieceId': '101', 'isWordStart': 'true', 'token': 'August', 'sentence': '0'}),\n",
              "   Annotation(word_embeddings, 128, 131, 2020, {'isOOV': 'false', 'pieceId': '5195', 'isWordStart': 'true', 'token': '2020', 'sentence': '0'}),\n",
              "   Annotation(word_embeddings, 132, 132, ,, {'isOOV': 'false', 'pieceId': '116', 'isWordStart': 'true', 'token': ',', 'sentence': '0'}),\n",
              "   Annotation(word_embeddings, 134, 136, and, {'isOOV': 'false', 'pieceId': '624', 'isWordStart': 'true', 'token': 'and', 'sentence': '0'}),\n",
              "   Annotation(word_embeddings, 138, 141, most, {'isOOV': 'false', 'pieceId': '2058', 'isWordStart': 'true', 'token': 'most', 'sentence': '0'}),\n",
              "   Annotation(word_embeddings, 143, 150, recently, {'isOOV': 'false', 'pieceId': '3757', 'isWordStart': 'true', 'token': 'recently', 'sentence': '0'}),\n",
              "   Annotation(word_embeddings, 152, 153, $3, {'isOOV': 'false', 'pieceId': '108', 'isWordStart': 'true', 'token': '$3', 'sentence': '0'}),\n",
              "   Annotation(word_embeddings, 155, 162, trillion, {'isOOV': 'false', 'pieceId': '15963', 'isWordStart': 'true', 'token': 'trillion', 'sentence': '0'}),\n",
              "   Annotation(word_embeddings, 164, 165, in, {'isOOV': 'false', 'pieceId': '617', 'isWordStart': 'true', 'token': 'in', 'sentence': '0'}),\n",
              "   Annotation(word_embeddings, 167, 173, January, {'isOOV': 'false', 'pieceId': '101', 'isWordStart': 'true', 'token': 'January', 'sentence': '0'}),\n",
              "   Annotation(word_embeddings, 175, 178, 2022, {'isOOV': 'false', 'pieceId': '6997', 'isWordStart': 'true', 'token': '2022', 'sentence': '0'}),\n",
              "   Annotation(word_embeddings, 179, 179, ., {'isOOV': 'false', 'pieceId': '118', 'isWordStart': 'true', 'token': '.', 'sentence': '0'})],\n",
              "  'sentence': [Annotation(document, 0, 179, Apple became the first publicly traded U.S. company to be valued at over $1 trillion in August 2018, then $2 trillion in August 2020, and most recently $3 trillion in January 2022., {'sentence': '0'})]}]"
            ]
          },
          "execution_count": 8,
          "metadata": {},
          "output_type": "execute_result"
        }
      ],
      "source": [
        "lp_ner = nlp.LightPipeline(model)\n",
        "\n",
        "ner_result = lp_ner.fullAnnotate(text)\n",
        "\n",
        "ner_result"
      ]
    },
    {
      "cell_type": "code",
      "execution_count": null,
      "id": "k9fWYB1Nptid",
      "metadata": {
        "colab": {
          "base_uri": "https://localhost:8080/",
          "height": 81
        },
        "id": "k9fWYB1Nptid",
        "outputId": "f29a854e-373d-4dd9-f092-ee6d9e564e10"
      },
      "outputs": [
        {
          "data": {
            "text/html": [
              "\n",
              "  <div id=\"df-53feb042-f76d-47f1-8581-48ab53a13364\">\n",
              "    <div class=\"colab-df-container\">\n",
              "      <div>\n",
              "<style scoped>\n",
              "    .dataframe tbody tr th:only-of-type {\n",
              "        vertical-align: middle;\n",
              "    }\n",
              "\n",
              "    .dataframe tbody tr th {\n",
              "        vertical-align: top;\n",
              "    }\n",
              "\n",
              "    .dataframe thead th {\n",
              "        text-align: right;\n",
              "    }\n",
              "</style>\n",
              "<table border=\"1\" class=\"dataframe\">\n",
              "  <thead>\n",
              "    <tr style=\"text-align: right;\">\n",
              "      <th></th>\n",
              "      <th>chunks</th>\n",
              "      <th>begin</th>\n",
              "      <th>end</th>\n",
              "      <th>entities</th>\n",
              "    </tr>\n",
              "  </thead>\n",
              "  <tbody>\n",
              "    <tr>\n",
              "      <th>0</th>\n",
              "      <td>Apple</td>\n",
              "      <td>0</td>\n",
              "      <td>4</td>\n",
              "      <td>ORG</td>\n",
              "    </tr>\n",
              "  </tbody>\n",
              "</table>\n",
              "</div>\n",
              "      <button class=\"colab-df-convert\" onclick=\"convertToInteractive('df-53feb042-f76d-47f1-8581-48ab53a13364')\"\n",
              "              title=\"Convert this dataframe to an interactive table.\"\n",
              "              style=\"display:none;\">\n",
              "        \n",
              "  <svg xmlns=\"http://www.w3.org/2000/svg\" height=\"24px\"viewBox=\"0 0 24 24\"\n",
              "       width=\"24px\">\n",
              "    <path d=\"M0 0h24v24H0V0z\" fill=\"none\"/>\n",
              "    <path d=\"M18.56 5.44l.94 2.06.94-2.06 2.06-.94-2.06-.94-.94-2.06-.94 2.06-2.06.94zm-11 1L8.5 8.5l.94-2.06 2.06-.94-2.06-.94L8.5 2.5l-.94 2.06-2.06.94zm10 10l.94 2.06.94-2.06 2.06-.94-2.06-.94-.94-2.06-.94 2.06-2.06.94z\"/><path d=\"M17.41 7.96l-1.37-1.37c-.4-.4-.92-.59-1.43-.59-.52 0-1.04.2-1.43.59L10.3 9.45l-7.72 7.72c-.78.78-.78 2.05 0 2.83L4 21.41c.39.39.9.59 1.41.59.51 0 1.02-.2 1.41-.59l7.78-7.78 2.81-2.81c.8-.78.8-2.07 0-2.86zM5.41 20L4 18.59l7.72-7.72 1.47 1.35L5.41 20z\"/>\n",
              "  </svg>\n",
              "      </button>\n",
              "      \n",
              "  <style>\n",
              "    .colab-df-container {\n",
              "      display:flex;\n",
              "      flex-wrap:wrap;\n",
              "      gap: 12px;\n",
              "    }\n",
              "\n",
              "    .colab-df-convert {\n",
              "      background-color: #E8F0FE;\n",
              "      border: none;\n",
              "      border-radius: 50%;\n",
              "      cursor: pointer;\n",
              "      display: none;\n",
              "      fill: #1967D2;\n",
              "      height: 32px;\n",
              "      padding: 0 0 0 0;\n",
              "      width: 32px;\n",
              "    }\n",
              "\n",
              "    .colab-df-convert:hover {\n",
              "      background-color: #E2EBFA;\n",
              "      box-shadow: 0px 1px 2px rgba(60, 64, 67, 0.3), 0px 1px 3px 1px rgba(60, 64, 67, 0.15);\n",
              "      fill: #174EA6;\n",
              "    }\n",
              "\n",
              "    [theme=dark] .colab-df-convert {\n",
              "      background-color: #3B4455;\n",
              "      fill: #D2E3FC;\n",
              "    }\n",
              "\n",
              "    [theme=dark] .colab-df-convert:hover {\n",
              "      background-color: #434B5C;\n",
              "      box-shadow: 0px 1px 3px 1px rgba(0, 0, 0, 0.15);\n",
              "      filter: drop-shadow(0px 1px 2px rgba(0, 0, 0, 0.3));\n",
              "      fill: #FFFFFF;\n",
              "    }\n",
              "  </style>\n",
              "\n",
              "      <script>\n",
              "        const buttonEl =\n",
              "          document.querySelector('#df-53feb042-f76d-47f1-8581-48ab53a13364 button.colab-df-convert');\n",
              "        buttonEl.style.display =\n",
              "          google.colab.kernel.accessAllowed ? 'block' : 'none';\n",
              "\n",
              "        async function convertToInteractive(key) {\n",
              "          const element = document.querySelector('#df-53feb042-f76d-47f1-8581-48ab53a13364');\n",
              "          const dataTable =\n",
              "            await google.colab.kernel.invokeFunction('convertToInteractive',\n",
              "                                                     [key], {});\n",
              "          if (!dataTable) return;\n",
              "\n",
              "          const docLinkHtml = 'Like what you see? Visit the ' +\n",
              "            '<a target=\"_blank\" href=https://colab.research.google.com/notebooks/data_table.ipynb>data table notebook</a>'\n",
              "            + ' to learn more about interactive tables.';\n",
              "          element.innerHTML = '';\n",
              "          dataTable['output_type'] = 'display_data';\n",
              "          await google.colab.output.renderOutput(dataTable, element);\n",
              "          const docLink = document.createElement('div');\n",
              "          docLink.innerHTML = docLinkHtml;\n",
              "          element.appendChild(docLink);\n",
              "        }\n",
              "      </script>\n",
              "    </div>\n",
              "  </div>\n",
              "  "
            ],
            "text/plain": [
              "  chunks  begin  end entities\n",
              "0  Apple      0    4      ORG"
            ]
          },
          "execution_count": 9,
          "metadata": {},
          "output_type": "execute_result"
        }
      ],
      "source": [
        "import pandas as pd\n",
        "\n",
        "chunks = []\n",
        "entities = []\n",
        "begin = []\n",
        "end = []\n",
        "\n",
        "for n in ner_result[0]['ner_chunk']:\n",
        "        \n",
        "    begin.append(n.begin)\n",
        "    end.append(n.end)\n",
        "    chunks.append(n.result)\n",
        "    entities.append(n.metadata['entity']) \n",
        "    \n",
        "df = pd.DataFrame({'chunks':chunks, 'begin': begin, 'end':end, 'entities':entities})\n",
        "\n",
        "df.head(20)"
      ]
    },
    {
      "cell_type": "markdown",
      "id": "9fe41161-c8fd-467e-9fff-5d4fe1cb5160",
      "metadata": {
        "id": "9fe41161-c8fd-467e-9fff-5d4fe1cb5160"
      },
      "source": [
        "Alright! Company names has been detected as an organization. \n",
        "\n",
        "But before __augmenting__, there is a very important step we need to carry out: `Company Name Normalization`"
      ]
    },
    {
      "cell_type": "markdown",
      "id": "eb3e2808-3550-46d9-835b-f747cac4123c",
      "metadata": {
        "id": "eb3e2808-3550-46d9-835b-f747cac4123c"
      },
      "source": [
        "# Step 2: Company Names Normalization"
      ]
    },
    {
      "cell_type": "markdown",
      "id": "4e55a84c-2806-4a0e-b30f-90a43dc497ca",
      "metadata": {
        "id": "4e55a84c-2806-4a0e-b30f-90a43dc497ca"
      },
      "source": [
        "Let's suppose we want to manually get information about these companies.\n",
        "\n",
        "Since it's a public US company, we can go to [SEC Edgar's database](https://www.sec.gov/edgar/searchedgar/companysearch) and look for it."
      ]
    },
    {
      "cell_type": "markdown",
      "id": "13f414e7-d727-4b8a-ba8a-8b0c644bb7da",
      "metadata": {
        "id": "13f414e7-d727-4b8a-ba8a-8b0c644bb7da"
      },
      "source": [
        "Unfortunately, `Apple` is not the official name of the company, which means no entry for `Apple` is available. That's were __Company Names Normalization__ comes in handy."
      ]
    },
    {
      "cell_type": "markdown",
      "id": "6eb8eb7f-1bda-454c-8318-bb4df34f0b6a",
      "metadata": {
        "id": "6eb8eb7f-1bda-454c-8318-bb4df34f0b6a"
      },
      "source": [
        "`Company Name Normalization` is the process of obtaining the name of the company used by data providers, usually the **\"official\"** name of the company.\n",
        "\n",
        "Sometimes, some data providers may have different versions of the name with different punctuation. For example, for Meta:\n",
        "- Meta Platforms, Inc.\n",
        "- Meta Platforms Inc.\n",
        "- Meta Platforms, Inc\n",
        "- etc\n",
        "\n",
        "So, it's mandatory we do `Company Normalization` taking into account the database / datasource provider we want to extract data from. The data providers we have are:\n",
        "- SEC Edgar\n",
        "- Crunchbase until 2015\n",
        "- Wikidata (in progress)\n",
        "\n",
        "Let's normalize `Apple` to the official name in _SEC Edgar_."
      ]
    },
    {
      "cell_type": "code",
      "execution_count": null,
      "id": "2564fd32-99ec-451c-ae34-2792cf3036ef",
      "metadata": {
        "colab": {
          "base_uri": "https://localhost:8080/"
        },
        "id": "2564fd32-99ec-451c-ae34-2792cf3036ef",
        "outputId": "e056f3e9-f1e6-4819-df4d-7c0bde32b732"
      },
      "outputs": [
        {
          "name": "stdout",
          "output_type": "stream",
          "text": [
            "tfhub_use download started this may take some time.\n",
            "Approximate size to download 923.7 MB\n",
            "[OK!]\n",
            "legel_edgar_company_name download started this may take some time.\n",
            "[OK!]\n"
          ]
        }
      ],
      "source": [
        "embeddings = nlp.UniversalSentenceEncoder.pretrained(\"tfhub_use\", \"en\") \\\n",
        "      .setInputCols(\"document\") \\\n",
        "      .setOutputCol(\"sentence_embeddings\")\n",
        "    \n",
        "resolver = legal.SentenceEntityResolverModel.pretrained(\"legel_edgar_company_name\", \"en\", \"legal/models\")\\\n",
        "      .setInputCols([\"sentence_embeddings\"]) \\\n",
        "      .setOutputCol(\"resolution\")\\\n",
        "      .setDistanceFunction(\"EUCLIDEAN\")\n",
        "\n",
        "pipelineModel = nlp.PipelineModel(\n",
        "      stages = [\n",
        "          documentAssembler,\n",
        "          embeddings,\n",
        "          resolver])\n",
        "\n",
        "lp_res = nlp.LightPipeline(pipelineModel)"
      ]
    },
    {
      "cell_type": "code",
      "execution_count": null,
      "id": "36a6d5f7-6477-4219-acf7-53a95d1ebea3",
      "metadata": {
        "colab": {
          "base_uri": "https://localhost:8080/"
        },
        "id": "36a6d5f7-6477-4219-acf7-53a95d1ebea3",
        "outputId": "a276ca8e-7db1-414c-e8d3-16a5b8f83a15"
      },
      "outputs": [
        {
          "data": {
            "text/plain": [
              "['Apple']"
            ]
          },
          "execution_count": 11,
          "metadata": {},
          "output_type": "execute_result"
        }
      ],
      "source": [
        "ORG = list(df[\"chunks\"])\n",
        "\n",
        "ORG"
      ]
    },
    {
      "cell_type": "code",
      "execution_count": null,
      "id": "c319f7b8-fe7e-4408-9960-15e7675a36c1",
      "metadata": {
        "colab": {
          "base_uri": "https://localhost:8080/"
        },
        "id": "c319f7b8-fe7e-4408-9960-15e7675a36c1",
        "outputId": "2cc1031a-0f9c-4351-d9b6-8834e69cbdfa"
      },
      "outputs": [
        {
          "data": {
            "text/plain": [
              "[{'document': ['Apple'],\n",
              "  'sentence_embeddings': ['Apple'],\n",
              "  'resolution': ['APPLE INC']}]"
            ]
          },
          "execution_count": 12,
          "metadata": {},
          "output_type": "execute_result"
        }
      ],
      "source": [
        "el_res = lp_res.annotate(ORG)\n",
        "\n",
        "el_res"
      ]
    },
    {
      "cell_type": "markdown",
      "id": "109efb72-bfae-413b-b1cb-ef1c57b9b66d",
      "metadata": {
        "id": "109efb72-bfae-413b-b1cb-ef1c57b9b66d"
      },
      "source": [
        "Here is our normalized name for:\n",
        "- Apple: `APPLE INC`.\n",
        "\n",
        "Now, let's see which information is available in Edgar database for `APPLE INC` company"
      ]
    },
    {
      "cell_type": "code",
      "execution_count": null,
      "id": "DzcZS7pLuYJz",
      "metadata": {
        "colab": {
          "base_uri": "https://localhost:8080/"
        },
        "id": "DzcZS7pLuYJz",
        "outputId": "25d7fb7d-d723-47fc-c7c2-b2ad4662afa8"
      },
      "outputs": [
        {
          "data": {
            "text/plain": [
              "['APPLE INC']"
            ]
          },
          "execution_count": 13,
          "metadata": {},
          "output_type": "execute_result"
        }
      ],
      "source": [
        "NORM_ORG = el_res[0][\"resolution\"]\n",
        "\n",
        "NORM_ORG"
      ]
    },
    {
      "cell_type": "markdown",
      "id": "85e51e16-56a2-4dad-a27c-1047a36ecea3",
      "metadata": {
        "id": "85e51e16-56a2-4dad-a27c-1047a36ecea3"
      },
      "source": [
        "# Step 3: Data Augmentation with Chunk Mappers"
      ]
    },
    {
      "cell_type": "markdown",
      "id": "39dff3ed-08f0-4961-ba54-bbffb2606a81",
      "metadata": {
        "id": "39dff3ed-08f0-4961-ba54-bbffb2606a81"
      },
      "source": [
        "The component which carries out __Data Augmentation__ is called `ChunkMapper`.\n",
        "\n",
        "It's name comes from the way it works: it uses a _Ner Chunk_ to map it to an external data source.\n",
        "\n",
        "As a result, you will get a JSON with a dictionary of additional fields and their values. \n",
        "\n",
        "Let's take a look at how it works."
      ]
    },
    {
      "cell_type": "code",
      "execution_count": null,
      "id": "b246357e-0ab7-489b-9dc0-6d74d3eb97ef",
      "metadata": {
        "colab": {
          "base_uri": "https://localhost:8080/"
        },
        "id": "b246357e-0ab7-489b-9dc0-6d74d3eb97ef",
        "outputId": "9736bec5-98d4-4faa-fc68-85d9476f9d8f"
      },
      "outputs": [
        {
          "name": "stdout",
          "output_type": "stream",
          "text": [
            "legmapper_edgar_companyname download started this may take some time.\n",
            "[OK!]\n"
          ]
        }
      ],
      "source": [
        "chunkAssembler = nlp.Doc2Chunk() \\\n",
        "    .setInputCols(\"document\") \\\n",
        "    .setOutputCol(\"chunk\") \\\n",
        "    .setIsArray(False)\n",
        "\n",
        "CM =legal.ChunkMapperModel().pretrained(\"legmapper_edgar_companyname\", \"en\", \"legal/models\")\\\n",
        "      .setInputCols([\"chunk\"])\\\n",
        "      .setOutputCol(\"mappings\")\n",
        "\n",
        "cm_pipeline = nlp.Pipeline(stages=[documentAssembler, chunkAssembler, CM])\n",
        "\n",
        "fit_cm_pipeline = cm_pipeline.fit(empty_data)"
      ]
    },
    {
      "cell_type": "code",
      "execution_count": null,
      "id": "340f193f-dabd-4e41-96e0-0afe0a22ed8b",
      "metadata": {
        "colab": {
          "base_uri": "https://localhost:8080/"
        },
        "id": "340f193f-dabd-4e41-96e0-0afe0a22ed8b",
        "outputId": "208e8d3b-399b-4a53-d8b4-1eb8d8d63979"
      },
      "outputs": [
        {
          "name": "stdout",
          "output_type": "stream",
          "text": [
            "+---------+\n",
            "|     text|\n",
            "+---------+\n",
            "|APPLE INC|\n",
            "+---------+\n",
            "\n"
          ]
        }
      ],
      "source": [
        "# LightPipelines don't support Doc2Chunk, so we will use here usual transform\n",
        "\n",
        "df = spark.createDataFrame([NORM_ORG]).toDF(\"text\")\n",
        "\n",
        "df.show()"
      ]
    },
    {
      "cell_type": "code",
      "execution_count": null,
      "id": "1b6729d6-32a9-4cea-b88f-0b6b7bf04d83",
      "metadata": {
        "colab": {
          "base_uri": "https://localhost:8080/"
        },
        "id": "1b6729d6-32a9-4cea-b88f-0b6b7bf04d83",
        "outputId": "5868ffcb-8808-4410-a8ec-29216e06cc1d"
      },
      "outputs": [
        {
          "name": "stdout",
          "output_type": "stream",
          "text": [
            "+---------+--------------------+--------------------+--------------------+\n",
            "|     text|            document|               chunk|            mappings|\n",
            "+---------+--------------------+--------------------+--------------------+\n",
            "|APPLE INC|[{document, 0, 8,...|[{chunk, 0, 8, AP...|[{labeled_depende...|\n",
            "+---------+--------------------+--------------------+--------------------+\n",
            "\n"
          ]
        }
      ],
      "source": [
        "res = fit_cm_pipeline.transform(df)\n",
        "\n",
        "res.show()"
      ]
    },
    {
      "cell_type": "code",
      "execution_count": null,
      "id": "DM6_W0Iqw7Rv",
      "metadata": {
        "colab": {
          "base_uri": "https://localhost:8080/"
        },
        "id": "DM6_W0Iqw7Rv",
        "outputId": "130a4ca8-6983-4066-82c0-8be61901bae5"
      },
      "outputs": [
        {
          "name": "stdout",
          "output_type": "stream",
          "text": [
            "+---------------------------------------------------------------------------------------------------------------------------------------------------------------------------------+\n",
            "|result                                                                                                                                                                           |\n",
            "+---------------------------------------------------------------------------------------------------------------------------------------------------------------------------------+\n",
            "|[APPLE INC, ELECTRONIC COMPUTERS [3571], 3571, 942404110, 930, CA, CA, ONE INFINITE LOOP, CUPERTINO, CA, 95014, (408) 996-1010, APPLE COMPUTER INC, 19970808, 2017-02-01, 320193]|\n",
            "+---------------------------------------------------------------------------------------------------------------------------------------------------------------------------------+\n",
            "\n"
          ]
        }
      ],
      "source": [
        "res.select(\"mappings.result\").show(truncate=False)"
      ]
    },
    {
      "cell_type": "code",
      "execution_count": null,
      "id": "c2d4a37d-b0a1-413a-9e36-5489396a042d",
      "metadata": {
        "colab": {
          "base_uri": "https://localhost:8080/"
        },
        "id": "c2d4a37d-b0a1-413a-9e36-5489396a042d",
        "outputId": "43716c5d-2de1-4f0b-d4aa-3481a7693f46"
      },
      "outputs": [
        {
          "data": {
            "text/plain": [
              "[Row(text='APPLE INC', document=[Row(annotatorType='document', begin=0, end=8, result='APPLE INC', metadata={'sentence': '0'}, embeddings=[])], chunk=[Row(annotatorType='chunk', begin=0, end=8, result='APPLE INC', metadata={'sentence': '0', 'chunk': '0'}, embeddings=[])], mappings=[Row(annotatorType='labeled_dependency', begin=0, end=8, result='APPLE INC', metadata={'sentence': '0', 'ops': '0.0', 'distance': '0.0', 'all_relations': '', 'chunk': '0', '__trained__': 'APPLE INC', '__distance_function__': 'levenshtein', '__relation_name__': 'name', 'entity': 'APPLE INC', 'relation': 'name'}, embeddings=[]), Row(annotatorType='labeled_dependency', begin=0, end=8, result='ELECTRONIC COMPUTERS [3571]', metadata={'sentence': '0', 'ops': '0.0', 'distance': '0.0', 'all_relations': '', 'chunk': '0', '__trained__': 'APPLE INC', '__distance_function__': 'levenshtein', '__relation_name__': 'sic', 'entity': 'APPLE INC', 'relation': 'sic'}, embeddings=[]), Row(annotatorType='labeled_dependency', begin=0, end=8, result='3571', metadata={'sentence': '0', 'ops': '0.0', 'distance': '0.0', 'all_relations': '0', 'chunk': '0', '__trained__': 'APPLE INC', '__distance_function__': 'levenshtein', '__relation_name__': 'sic_code', 'entity': 'APPLE INC', 'relation': 'sic_code'}, embeddings=[]), Row(annotatorType='labeled_dependency', begin=0, end=8, result='942404110', metadata={'sentence': '0', 'ops': '0.0', 'distance': '0.0', 'all_relations': '0', 'chunk': '0', '__trained__': 'APPLE INC', '__distance_function__': 'levenshtein', '__relation_name__': 'irs_number', 'entity': 'APPLE INC', 'relation': 'irs_number'}, embeddings=[]), Row(annotatorType='labeled_dependency', begin=0, end=8, result='930', metadata={'sentence': '0', 'ops': '0.0', 'distance': '0.0', 'all_relations': '924:::927:::0:::929:::925:::926', 'chunk': '0', '__trained__': 'APPLE INC', '__distance_function__': 'levenshtein', '__relation_name__': 'fiscal_year_end', 'entity': 'APPLE INC', 'relation': 'fiscal_year_end'}, embeddings=[]), Row(annotatorType='labeled_dependency', begin=0, end=8, result='CA', metadata={'sentence': '0', 'ops': '0.0', 'distance': '0.0', 'all_relations': '', 'chunk': '0', '__trained__': 'APPLE INC', '__distance_function__': 'levenshtein', '__relation_name__': 'state_location', 'entity': 'APPLE INC', 'relation': 'state_location'}, embeddings=[]), Row(annotatorType='labeled_dependency', begin=0, end=8, result='CA', metadata={'sentence': '0', 'ops': '0.0', 'distance': '0.0', 'all_relations': '', 'chunk': '0', '__trained__': 'APPLE INC', '__distance_function__': 'levenshtein', '__relation_name__': 'state_incorporation', 'entity': 'APPLE INC', 'relation': 'state_incorporation'}, embeddings=[]), Row(annotatorType='labeled_dependency', begin=0, end=8, result='ONE INFINITE LOOP', metadata={'sentence': '0', 'ops': '0.0', 'distance': '0.0', 'all_relations': 'ONE APPLE PARK WAY:::1 INFINITE LOOP', 'chunk': '0', '__trained__': 'APPLE INC', '__distance_function__': 'levenshtein', '__relation_name__': 'business_street', 'entity': 'APPLE INC', 'relation': 'business_street'}, embeddings=[]), Row(annotatorType='labeled_dependency', begin=0, end=8, result='CUPERTINO', metadata={'sentence': '0', 'ops': '0.0', 'distance': '0.0', 'all_relations': '', 'chunk': '0', '__trained__': 'APPLE INC', '__distance_function__': 'levenshtein', '__relation_name__': 'business_city', 'entity': 'APPLE INC', 'relation': 'business_city'}, embeddings=[]), Row(annotatorType='labeled_dependency', begin=0, end=8, result='CA', metadata={'sentence': '0', 'ops': '0.0', 'distance': '0.0', 'all_relations': '', 'chunk': '0', '__trained__': 'APPLE INC', '__distance_function__': 'levenshtein', '__relation_name__': 'business_state', 'entity': 'APPLE INC', 'relation': 'business_state'}, embeddings=[]), Row(annotatorType='labeled_dependency', begin=0, end=8, result='95014', metadata={'sentence': '0', 'ops': '0.0', 'distance': '0.0', 'all_relations': '', 'chunk': '0', '__trained__': 'APPLE INC', '__distance_function__': 'levenshtein', '__relation_name__': 'business_zip', 'entity': 'APPLE INC', 'relation': 'business_zip'}, embeddings=[]), Row(annotatorType='labeled_dependency', begin=0, end=8, result='(408) 996-1010', metadata={'sentence': '0', 'ops': '0.0', 'distance': '0.0', 'all_relations': '4089961010', 'chunk': '0', '__trained__': 'APPLE INC', '__distance_function__': 'levenshtein', '__relation_name__': 'business_phone', 'entity': 'APPLE INC', 'relation': 'business_phone'}, embeddings=[]), Row(annotatorType='labeled_dependency', begin=0, end=8, result='APPLE COMPUTER INC', metadata={'sentence': '0', 'ops': '0.0', 'distance': '0.0', 'all_relations': '', 'chunk': '0', '__trained__': 'APPLE INC', '__distance_function__': 'levenshtein', '__relation_name__': 'former_name', 'entity': 'APPLE INC', 'relation': 'former_name'}, embeddings=[]), Row(annotatorType='labeled_dependency', begin=0, end=8, result='19970808', metadata={'sentence': '0', 'ops': '0.0', 'distance': '0.0', 'all_relations': '', 'chunk': '0', '__trained__': 'APPLE INC', '__distance_function__': 'levenshtein', '__relation_name__': 'former_name_date', 'entity': 'APPLE INC', 'relation': 'former_name_date'}, embeddings=[]), Row(annotatorType='labeled_dependency', begin=0, end=8, result='2017-02-01', metadata={'sentence': '0', 'ops': '0.0', 'distance': '0.0', 'all_relations': '2017-11-03:::2016-01-27:::2016-07-27:::2016-10-26:::2019-01-30:::2018-05-02:::2018-08-01:::2018-11-05:::2015-01-27:::2015-01-28:::2015-04-28:::2015-07-22:::2015-10-02:::2015-10-28:::2015-12-14:::2015-12-17:::2014-01-03:::2015-12-28:::2015-12-22:::2015-12-11:::2013-12-17:::2014-01-10:::2014-01-27:::2014-02-04:::2014-01-23:::2014-02-12:::2014-01-28:::2014-01-31:::2014-02-10:::2014-02-07:::2014-01-08:::2014-03-05:::2014-03-06:::2014-03-18:::2014-03-04:::2014-03-11:::2014-02-27:::2014-03-31:::2013-01-24:::2013-10-30:::2013-12-26:::2012-01-25:::2012-10-31:::2012-07-25:::2011-07-20:::2011-10-26:::2010-07-21:::2010-10-27:::2009-07-22:::2009-10-27:::2008-05-01:::2008-02-01:::2008-07-23:::2007-02-02:::2008-11-05:::2007-11-15', 'chunk': '0', '__trained__': 'APPLE INC', '__distance_function__': 'levenshtein', '__relation_name__': 'date', 'entity': 'APPLE INC', 'relation': 'date'}, embeddings=[]), Row(annotatorType='labeled_dependency', begin=0, end=8, result='320193', metadata={'sentence': '0', 'ops': '0.0', 'distance': '0.0', 'all_relations': '', 'chunk': '0', '__trained__': 'APPLE INC', '__distance_function__': 'levenshtein', '__relation_name__': 'company_id', 'entity': 'APPLE INC', 'relation': 'company_id'}, embeddings=[])])]"
            ]
          },
          "execution_count": 18,
          "metadata": {},
          "output_type": "execute_result"
        }
      ],
      "source": [
        "r = res.collect()\n",
        "r"
      ]
    },
    {
      "cell_type": "code",
      "execution_count": null,
      "id": "bd37fe7a-6823-4ab3-a41e-e1e711fdbbb8",
      "metadata": {
        "id": "bd37fe7a-6823-4ab3-a41e-e1e711fdbbb8"
      },
      "outputs": [],
      "source": [
        "json_dict = dict()\n",
        "for n in r[0]['mappings']:\n",
        "    json_dict[n.metadata['relation']] = str(n.result)"
      ]
    },
    {
      "cell_type": "code",
      "execution_count": null,
      "id": "35e22829-8c0d-4853-a896-cc9502a567b1",
      "metadata": {
        "colab": {
          "base_uri": "https://localhost:8080/"
        },
        "id": "35e22829-8c0d-4853-a896-cc9502a567b1",
        "outputId": "f09a09c0-859d-4432-fb57-5865ce13017d"
      },
      "outputs": [
        {
          "name": "stdout",
          "output_type": "stream",
          "text": [
            "{\n",
            "    \"business_city\": \"CUPERTINO\",\n",
            "    \"business_phone\": \"(408) 996-1010\",\n",
            "    \"business_state\": \"CA\",\n",
            "    \"business_street\": \"ONE INFINITE LOOP\",\n",
            "    \"business_zip\": \"95014\",\n",
            "    \"company_id\": \"320193\",\n",
            "    \"date\": \"2017-02-01\",\n",
            "    \"fiscal_year_end\": \"930\",\n",
            "    \"former_name\": \"APPLE COMPUTER INC\",\n",
            "    \"former_name_date\": \"19970808\",\n",
            "    \"irs_number\": \"942404110\",\n",
            "    \"name\": \"APPLE INC\",\n",
            "    \"sic\": \"ELECTRONIC COMPUTERS [3571]\",\n",
            "    \"sic_code\": \"3571\",\n",
            "    \"state_incorporation\": \"CA\",\n",
            "    \"state_location\": \"CA\"\n",
            "}\n"
          ]
        }
      ],
      "source": [
        "import json\n",
        "print(json.dumps(json_dict, indent=4, sort_keys=True))"
      ]
    },
    {
      "cell_type": "markdown",
      "id": "6nlPDwUsFkYR",
      "metadata": {
        "id": "6nlPDwUsFkYR"
      },
      "source": [
        "Yes, here it is. We get additional information about `APPLE INC` using only company name."
      ]
    },
    {
      "cell_type": "markdown",
      "id": "UP1E0vZOpZ3h",
      "metadata": {
        "id": "UP1E0vZOpZ3h"
      },
      "source": [
        "# Train Your Own ChunkMapper Model"
      ]
    },
    {
      "cell_type": "markdown",
      "id": "34f517bb-adde-4daa-b12d-921b37dd6d38",
      "metadata": {
        "id": "34f517bb-adde-4daa-b12d-921b37dd6d38"
      },
      "source": [
        "Here, we will train a ChunkMapper model with 1000 samples"
      ]
    },
    {
      "cell_type": "markdown",
      "id": "Zu2TOFZ65AEg",
      "metadata": {
        "id": "Zu2TOFZ65AEg"
      },
      "source": [
        "### Load Dataset"
      ]
    },
    {
      "cell_type": "code",
      "execution_count": null,
      "id": "mvHfQ12f5Ef4",
      "metadata": {
        "id": "mvHfQ12f5Ef4"
      },
      "outputs": [],
      "source": [
        "! wget -q https://raw.githubusercontent.com/JohnSnowLabs/spark-nlp-workshop/master/tutorials/Certification_Trainings_JSL/Legal/data/sample_openedgar.json"
      ]
    },
    {
      "cell_type": "code",
      "execution_count": null,
      "id": "8be8c43c-ebf2-4d1e-b98b-31c0fe68cabc",
      "metadata": {
        "id": "8be8c43c-ebf2-4d1e-b98b-31c0fe68cabc"
      },
      "outputs": [],
      "source": [
        "import json\n",
        "with open('sample_openedgar.json', 'r') as f:\n",
        "    company_json = json.load(f)"
      ]
    },
    {
      "cell_type": "code",
      "execution_count": null,
      "id": "be07f846-109f-4834-89ff-483bd00c5ab5",
      "metadata": {
        "colab": {
          "base_uri": "https://localhost:8080/"
        },
        "id": "be07f846-109f-4834-89ff-483bd00c5ab5",
        "outputId": "c5709051-7c64-4474-bcb7-96e7aa0a55b1"
      },
      "outputs": [
        {
          "data": {
            "text/plain": [
              "{'key': 'Rayton Solar Inc.',\n",
              " 'relations': [{'key': 'name', 'values': ['Rayton Solar Inc.']},\n",
              "  {'key': 'sic', 'values': ['SEMICONDUCTORS & RELATED DEVICES [3674]']},\n",
              "  {'key': 'sic_code', 'values': [3674]},\n",
              "  {'key': 'irs_number', 'values': [0]},\n",
              "  {'key': 'fiscal_year_end', 'values': [1231]},\n",
              "  {'key': 'state_location', 'values': ['CA']},\n",
              "  {'key': 'state_incorporation', 'values': ['DE']},\n",
              "  {'key': 'business_street', 'values': ['920 COLORADO AVE.']},\n",
              "  {'key': 'business_city', 'values': ['SANTA MONICA']},\n",
              "  {'key': 'business_state', 'values': ['CA']},\n",
              "  {'key': 'business_zip', 'values': ['90401']},\n",
              "  {'key': 'business_phone', 'values': ['(661) 259-4786']},\n",
              "  {'key': 'former_name', 'values': ['']},\n",
              "  {'key': 'former_name_date', 'values': ['']},\n",
              "  {'key': 'date',\n",
              "   'values': ['2017-01-10',\n",
              "    '2017-01-20',\n",
              "    '2017-01-06',\n",
              "    '2017-05-15',\n",
              "    '2017-09-28',\n",
              "    '2016-11-29',\n",
              "    '2016-12-20',\n",
              "    '2016-12-22',\n",
              "    '2022-09-21',\n",
              "    '2019-06-27',\n",
              "    '2018-03-22',\n",
              "    '2018-04-30',\n",
              "    '2018-12-10',\n",
              "    '2021-09-22',\n",
              "    '2020-06-08',\n",
              "    '2020-09-28']},\n",
              "  {'key': 'company_id', 'values': [1654124]}]}"
            ]
          },
          "execution_count": 23,
          "metadata": {},
          "output_type": "execute_result"
        }
      ],
      "source": [
        "company_json['mappings'][0]"
      ]
    },
    {
      "cell_type": "markdown",
      "id": "jiN1I0L_vqPK",
      "metadata": {
        "id": "jiN1I0L_vqPK"
      },
      "source": [
        "### Check a sample company"
      ]
    },
    {
      "cell_type": "code",
      "execution_count": null,
      "id": "80cd73e4-288c-44fc-8ff3-fdded39ba25a",
      "metadata": {
        "colab": {
          "base_uri": "https://localhost:8080/"
        },
        "id": "80cd73e4-288c-44fc-8ff3-fdded39ba25a",
        "outputId": "ca863678-384b-4593-db4b-c7160f2fe48e"
      },
      "outputs": [
        {
          "name": "stdout",
          "output_type": "stream",
          "text": [
            "{'key': 'Rayton Solar Inc.', 'relations': [{'key': 'name', 'values': ['Rayton Solar Inc.']}, {'key': 'sic', 'values': ['SEMICONDUCTORS & RELATED DEVICES [3674]']}, {'key': 'sic_code', 'values': [3674]}, {'key': 'irs_number', 'values': [0]}, {'key': 'fiscal_year_end', 'values': [1231]}, {'key': 'state_location', 'values': ['CA']}, {'key': 'state_incorporation', 'values': ['DE']}, {'key': 'business_street', 'values': ['920 COLORADO AVE.']}, {'key': 'business_city', 'values': ['SANTA MONICA']}, {'key': 'business_state', 'values': ['CA']}, {'key': 'business_zip', 'values': ['90401']}, {'key': 'business_phone', 'values': ['(661) 259-4786']}, {'key': 'former_name', 'values': ['']}, {'key': 'former_name_date', 'values': ['']}, {'key': 'date', 'values': ['2017-01-10', '2017-01-20', '2017-01-06', '2017-05-15', '2017-09-28', '2016-11-29', '2016-12-20', '2016-12-22', '2022-09-21', '2019-06-27', '2018-03-22', '2018-04-30', '2018-12-10', '2021-09-22', '2020-06-08', '2020-09-28']}, {'key': 'company_id', 'values': [1654124]}]}\n"
          ]
        }
      ],
      "source": [
        "for x in company_json['mappings']:\n",
        "    if 'Rayton Solar Inc.' in x['key']:\n",
        "        print(x)"
      ]
    },
    {
      "cell_type": "markdown",
      "id": "loOpl4LqvvPi",
      "metadata": {
        "id": "loOpl4LqvvPi"
      },
      "source": [
        "### Check all keys"
      ]
    },
    {
      "cell_type": "code",
      "execution_count": null,
      "id": "e9fe7709-868d-453f-a162-7fa737f50989",
      "metadata": {
        "id": "e9fe7709-868d-453f-a162-7fa737f50989"
      },
      "outputs": [],
      "source": [
        "all_rels = [x['key'] for x in company_json['mappings'][0]['relations']]"
      ]
    },
    {
      "cell_type": "code",
      "execution_count": null,
      "id": "c47604d3-9028-41a1-a0be-a669d105beb3",
      "metadata": {
        "colab": {
          "base_uri": "https://localhost:8080/"
        },
        "id": "c47604d3-9028-41a1-a0be-a669d105beb3",
        "outputId": "41f05fd5-9b6c-4a20-bc09-0f2b4c399f41"
      },
      "outputs": [
        {
          "data": {
            "text/plain": [
              "['name',\n",
              " 'sic',\n",
              " 'sic_code',\n",
              " 'irs_number',\n",
              " 'fiscal_year_end',\n",
              " 'state_location',\n",
              " 'state_incorporation',\n",
              " 'business_street',\n",
              " 'business_city',\n",
              " 'business_state',\n",
              " 'business_zip',\n",
              " 'business_phone',\n",
              " 'former_name',\n",
              " 'former_name_date',\n",
              " 'date',\n",
              " 'company_id']"
            ]
          },
          "execution_count": 26,
          "metadata": {},
          "output_type": "execute_result"
        }
      ],
      "source": [
        "all_rels"
      ]
    },
    {
      "cell_type": "markdown",
      "id": "7opshMS1vx1H",
      "metadata": {
        "id": "7opshMS1vx1H"
      },
      "source": [
        "### Create ChunkMapperApproach"
      ]
    },
    {
      "cell_type": "code",
      "execution_count": null,
      "id": "b5d078b5-bd12-4d4a-ade7-3200a278e061",
      "metadata": {
        "id": "b5d078b5-bd12-4d4a-ade7-3200a278e061",
        "tags": []
      },
      "outputs": [],
      "source": [
        "chunkerMapper = legal.ChunkMapperApproach()\\\n",
        "      .setInputCols([\"ner_chunk\"])\\\n",
        "      .setOutputCol(\"mappings\")\\\n",
        "      .setDictionary(\"sample_openedgar.json\")\\\n",
        "      .setRels(all_rels)"
      ]
    },
    {
      "cell_type": "code",
      "execution_count": null,
      "id": "940ca6b5-a603-4060-a112-d1f407834d4f",
      "metadata": {
        "id": "940ca6b5-a603-4060-a112-d1f407834d4f"
      },
      "outputs": [],
      "source": [
        "empty_dataset = spark.createDataFrame([[\"\"]]).toDF(\"text\")"
      ]
    },
    {
      "cell_type": "code",
      "execution_count": null,
      "id": "6bd7485a-6f3c-442a-8d74-a07ae0385d56",
      "metadata": {
        "id": "6bd7485a-6f3c-442a-8d74-a07ae0385d56"
      },
      "outputs": [],
      "source": [
        "fit_CM = chunkerMapper.fit(empty_dataset)"
      ]
    },
    {
      "cell_type": "code",
      "execution_count": null,
      "id": "d3336018-e50c-4cb9-a07f-755bae236d80",
      "metadata": {
        "id": "d3336018-e50c-4cb9-a07f-755bae236d80"
      },
      "outputs": [],
      "source": [
        "# Save model\n",
        "fit_CM.write().overwrite().save('openedgar_2000_2022_company_mapper')"
      ]
    },
    {
      "cell_type": "markdown",
      "id": "Cg0oUxTbv3oE",
      "metadata": {
        "id": "Cg0oUxTbv3oE"
      },
      "source": [
        "### Let's test our ChunkMapper model"
      ]
    },
    {
      "cell_type": "code",
      "execution_count": null,
      "id": "DlxWvIcTsqTd",
      "metadata": {
        "id": "DlxWvIcTsqTd"
      },
      "outputs": [],
      "source": [
        "text = [\"\"\"Rayton Solar is an American solar cell and engineered wafer manufacturer.\"\"\"]"
      ]
    },
    {
      "cell_type": "code",
      "execution_count": null,
      "id": "_E5Szc8ast4n",
      "metadata": {
        "colab": {
          "base_uri": "https://localhost:8080/"
        },
        "id": "_E5Szc8ast4n",
        "outputId": "0b86b9f3-4ade-4b7f-a344-966c2ef8c103"
      },
      "outputs": [
        {
          "data": {
            "text/plain": [
              "[{'document': [Annotation(document, 0, 72, Rayton Solar is an American solar cell and engineered wafer manufacturer., {})],\n",
              "  'ner_chunk': [Annotation(chunk, 0, 11, Rayton Solar, {'entity': 'ORG', 'sentence': '0', 'chunk': '0', 'confidence': '0.86965'})],\n",
              "  'token': [Annotation(token, 0, 5, Rayton, {'sentence': '0'}),\n",
              "   Annotation(token, 7, 11, Solar, {'sentence': '0'}),\n",
              "   Annotation(token, 13, 14, is, {'sentence': '0'}),\n",
              "   Annotation(token, 16, 17, an, {'sentence': '0'}),\n",
              "   Annotation(token, 19, 26, American, {'sentence': '0'}),\n",
              "   Annotation(token, 28, 32, solar, {'sentence': '0'}),\n",
              "   Annotation(token, 34, 37, cell, {'sentence': '0'}),\n",
              "   Annotation(token, 39, 41, and, {'sentence': '0'}),\n",
              "   Annotation(token, 43, 52, engineered, {'sentence': '0'}),\n",
              "   Annotation(token, 54, 58, wafer, {'sentence': '0'}),\n",
              "   Annotation(token, 60, 71, manufacturer, {'sentence': '0'}),\n",
              "   Annotation(token, 72, 72, ., {'sentence': '0'})],\n",
              "  'ner': [Annotation(named_entity, 0, 5, B-ORG, {'word': 'Rayton', 'confidence': '0.877', 'sentence': '0'}),\n",
              "   Annotation(named_entity, 7, 11, I-ORG, {'word': 'Solar', 'confidence': '0.8623', 'sentence': '0'}),\n",
              "   Annotation(named_entity, 13, 14, O, {'word': 'is', 'confidence': '0.9999', 'sentence': '0'}),\n",
              "   Annotation(named_entity, 16, 17, O, {'word': 'an', 'confidence': '0.9997', 'sentence': '0'}),\n",
              "   Annotation(named_entity, 19, 26, O, {'word': 'American', 'confidence': '0.9196', 'sentence': '0'}),\n",
              "   Annotation(named_entity, 28, 32, O, {'word': 'solar', 'confidence': '0.7847', 'sentence': '0'}),\n",
              "   Annotation(named_entity, 34, 37, O, {'word': 'cell', 'confidence': '0.3838', 'sentence': '0'}),\n",
              "   Annotation(named_entity, 39, 41, O, {'word': 'and', 'confidence': '0.9698', 'sentence': '0'}),\n",
              "   Annotation(named_entity, 43, 52, O, {'word': 'engineered', 'confidence': '0.9897', 'sentence': '0'}),\n",
              "   Annotation(named_entity, 54, 58, O, {'word': 'wafer', 'confidence': '0.6962', 'sentence': '0'}),\n",
              "   Annotation(named_entity, 60, 71, O, {'word': 'manufacturer', 'confidence': '0.8535', 'sentence': '0'}),\n",
              "   Annotation(named_entity, 72, 72, O, {'word': '.', 'confidence': '1.0', 'sentence': '0'})],\n",
              "  'embeddings': [Annotation(word_embeddings, 0, 5, Rayton, {'isOOV': 'false', 'pieceId': '101', 'isWordStart': 'true', 'token': 'Rayton', 'sentence': '0'}),\n",
              "   Annotation(word_embeddings, 7, 11, Solar, {'isOOV': 'false', 'pieceId': '101', 'isWordStart': 'true', 'token': 'Solar', 'sentence': '0'}),\n",
              "   Annotation(word_embeddings, 13, 14, is, {'isOOV': 'false', 'pieceId': '686', 'isWordStart': 'true', 'token': 'is', 'sentence': '0'}),\n",
              "   Annotation(word_embeddings, 16, 17, an, {'isOOV': 'false', 'pieceId': '620', 'isWordStart': 'true', 'token': 'an', 'sentence': '0'}),\n",
              "   Annotation(word_embeddings, 19, 26, American, {'isOOV': 'false', 'pieceId': '101', 'isWordStart': 'true', 'token': 'American', 'sentence': '0'}),\n",
              "   Annotation(word_embeddings, 28, 32, solar, {'isOOV': 'false', 'pieceId': '5634', 'isWordStart': 'true', 'token': 'solar', 'sentence': '0'}),\n",
              "   Annotation(word_embeddings, 34, 37, cell, {'isOOV': 'false', 'pieceId': '3318', 'isWordStart': 'true', 'token': 'cell', 'sentence': '0'}),\n",
              "   Annotation(word_embeddings, 39, 41, and, {'isOOV': 'false', 'pieceId': '624', 'isWordStart': 'true', 'token': 'and', 'sentence': '0'}),\n",
              "   Annotation(word_embeddings, 43, 52, engineered, {'isOOV': 'false', 'pieceId': '8109', 'isWordStart': 'true', 'token': 'engineered', 'sentence': '0'}),\n",
              "   Annotation(word_embeddings, 54, 58, wafer, {'isOOV': 'false', 'pieceId': '8326', 'isWordStart': 'true', 'token': 'wafer', 'sentence': '0'}),\n",
              "   Annotation(word_embeddings, 60, 71, manufacturer, {'isOOV': 'false', 'pieceId': '4382', 'isWordStart': 'true', 'token': 'manufacturer', 'sentence': '0'}),\n",
              "   Annotation(word_embeddings, 72, 72, ., {'isOOV': 'false', 'pieceId': '118', 'isWordStart': 'true', 'token': '.', 'sentence': '0'})],\n",
              "  'sentence': [Annotation(document, 0, 72, Rayton Solar is an American solar cell and engineered wafer manufacturer., {'sentence': '0'})]}]"
            ]
          },
          "execution_count": 32,
          "metadata": {},
          "output_type": "execute_result"
        }
      ],
      "source": [
        "# We get company name from sample text\n",
        "\n",
        "ner_result = lp_ner.fullAnnotate(text)\n",
        "\n",
        "ner_result"
      ]
    },
    {
      "cell_type": "code",
      "execution_count": null,
      "id": "uGcQcPIntV5e",
      "metadata": {
        "colab": {
          "base_uri": "https://localhost:8080/",
          "height": 36
        },
        "id": "uGcQcPIntV5e",
        "outputId": "153ec4ca-310f-4eec-bd04-ac6243be5419"
      },
      "outputs": [
        {
          "data": {
            "application/vnd.google.colaboratory.intrinsic+json": {
              "type": "string"
            },
            "text/plain": [
              "'Rayton Solar'"
            ]
          },
          "execution_count": 33,
          "metadata": {},
          "output_type": "execute_result"
        }
      ],
      "source": [
        "ORG = ner_result[0][\"ner_chunk\"][0].result\n",
        "\n",
        "ORG"
      ]
    },
    {
      "cell_type": "code",
      "execution_count": null,
      "id": "vFFo5P9Nttss",
      "metadata": {
        "colab": {
          "base_uri": "https://localhost:8080/"
        },
        "id": "vFFo5P9Nttss",
        "outputId": "2238e109-f205-4068-a780-fb2743f30b32"
      },
      "outputs": [
        {
          "data": {
            "text/plain": [
              "{'document': ['Rayton Solar'],\n",
              " 'sentence_embeddings': ['Rayton Solar'],\n",
              " 'resolution': ['Rayton Solar Inc.']}"
            ]
          },
          "execution_count": 34,
          "metadata": {},
          "output_type": "execute_result"
        }
      ],
      "source": [
        "# We normalize company name\n",
        "\n",
        "el_res = lp_res.annotate(ORG)\n",
        "\n",
        "el_res"
      ]
    },
    {
      "cell_type": "code",
      "execution_count": null,
      "id": "EbCbbGZ9ttvP",
      "metadata": {
        "colab": {
          "base_uri": "https://localhost:8080/"
        },
        "id": "EbCbbGZ9ttvP",
        "outputId": "ea1b98ba-290f-4c5f-9904-add028e81839"
      },
      "outputs": [
        {
          "data": {
            "text/plain": [
              "['Rayton Solar Inc.']"
            ]
          },
          "execution_count": 35,
          "metadata": {},
          "output_type": "execute_result"
        }
      ],
      "source": [
        "NORM_ORG = el_res[\"resolution\"]\n",
        "\n",
        "NORM_ORG"
      ]
    },
    {
      "cell_type": "markdown",
      "id": "z-2Q7nnywUaH",
      "metadata": {
        "id": "z-2Q7nnywUaH"
      },
      "source": [
        "### Let's load our ChunkMapper model"
      ]
    },
    {
      "cell_type": "code",
      "execution_count": null,
      "id": "Vx3_V33_ttyC",
      "metadata": {
        "id": "Vx3_V33_ttyC"
      },
      "outputs": [],
      "source": [
        "documentAssembler = nlp.DocumentAssembler()\\\n",
        "    .setInputCol(\"text\")\\\n",
        "    .setOutputCol(\"document\")\n",
        "\n",
        "chunkAssembler = nlp.Doc2Chunk() \\\n",
        "    .setInputCols(\"document\") \\\n",
        "    .setOutputCol(\"chunk\") \\\n",
        "    .setIsArray(False)\n",
        "\n",
        "CM =legal.ChunkMapperModel().load(\"openedgar_2000_2022_company_mapper\")\\\n",
        "      .setInputCols([\"chunk\"])\\\n",
        "      .setOutputCol(\"mappings\")\n",
        "\n",
        "cm_pipeline = nlp.Pipeline(stages=[documentAssembler, \n",
        "                                   chunkAssembler, \n",
        "                                   CM])\n",
        "\n",
        "fit_cm_pipeline = cm_pipeline.fit(empty_data)"
      ]
    },
    {
      "cell_type": "code",
      "execution_count": null,
      "id": "w5I4muUkvJG7",
      "metadata": {
        "colab": {
          "base_uri": "https://localhost:8080/"
        },
        "id": "w5I4muUkvJG7",
        "outputId": "3a6ef6fc-6ae4-4622-fa4c-8d77a2d62025"
      },
      "outputs": [
        {
          "name": "stdout",
          "output_type": "stream",
          "text": [
            "+-----------------+\n",
            "|             text|\n",
            "+-----------------+\n",
            "|Rayton Solar Inc.|\n",
            "+-----------------+\n",
            "\n"
          ]
        }
      ],
      "source": [
        "# LightPipelines don't support Doc2Chunk, so we will use here usual transform\n",
        "\n",
        "df = spark.createDataFrame([NORM_ORG]).toDF(\"text\")\n",
        "\n",
        "df.show()"
      ]
    },
    {
      "cell_type": "code",
      "execution_count": null,
      "id": "zS0Q-zamvOsT",
      "metadata": {
        "colab": {
          "base_uri": "https://localhost:8080/"
        },
        "id": "zS0Q-zamvOsT",
        "outputId": "c1cfb3a6-afbb-45e9-fadf-eab26548bf6d"
      },
      "outputs": [
        {
          "name": "stdout",
          "output_type": "stream",
          "text": [
            "+-----------------+--------------------+--------------------+--------------------+\n",
            "|             text|            document|               chunk|            mappings|\n",
            "+-----------------+--------------------+--------------------+--------------------+\n",
            "|Rayton Solar Inc.|[{document, 0, 16...|[{chunk, 0, 16, R...|[{labeled_depende...|\n",
            "+-----------------+--------------------+--------------------+--------------------+\n",
            "\n"
          ]
        }
      ],
      "source": [
        "res = fit_cm_pipeline.transform(df)\n",
        "\n",
        "res.show()"
      ]
    },
    {
      "cell_type": "code",
      "execution_count": null,
      "id": "e7b2c22c-49f6-4277-8636-62b876b0bf08",
      "metadata": {
        "colab": {
          "base_uri": "https://localhost:8080/"
        },
        "id": "e7b2c22c-49f6-4277-8636-62b876b0bf08",
        "outputId": "9d648f83-490c-42bd-b9ca-1e6d7863aac4",
        "tags": []
      },
      "outputs": [
        {
          "name": "stdout",
          "output_type": "stream",
          "text": [
            "+------------------------------------------------------------------------------------------------------------------------------------------------------------------------+\n",
            "|result                                                                                                                                                                  |\n",
            "+------------------------------------------------------------------------------------------------------------------------------------------------------------------------+\n",
            "|[Rayton Solar Inc., SEMICONDUCTORS & RELATED DEVICES [3674], 3674, 0, 1231, CA, DE, 920 COLORADO AVE., SANTA MONICA, CA, 90401, (661) 259-4786, , , 2017-01-10, 1654124]|\n",
            "+------------------------------------------------------------------------------------------------------------------------------------------------------------------------+\n",
            "\n"
          ]
        }
      ],
      "source": [
        "res.select(\"mappings.result\").show(truncate=False)"
      ]
    },
    {
      "cell_type": "code",
      "execution_count": null,
      "id": "fqeUMOeDuVUx",
      "metadata": {
        "colab": {
          "base_uri": "https://localhost:8080/"
        },
        "id": "fqeUMOeDuVUx",
        "outputId": "5f0b6b7d-42f9-4736-c3ab-4f3a29a743f4"
      },
      "outputs": [
        {
          "data": {
            "text/plain": [
              "[Row(mappings=[Row(annotatorType='labeled_dependency', begin=0, end=16, result='Rayton Solar Inc.', metadata={'sentence': '0', 'ops': '0.0', 'distance': '-2.220446049250313E-16', 'all_relations': '', 'chunk': '0', '__trained__': 'Rayton Solar Inc.', '__distance_function__': 'cosine', '__relation_name__': 'name', 'entity': 'Rayton Solar Inc.', 'relation': 'name'}, embeddings=[]), Row(annotatorType='labeled_dependency', begin=0, end=16, result='SEMICONDUCTORS & RELATED DEVICES [3674]', metadata={'sentence': '0', 'ops': '0.0', 'distance': '-2.220446049250313E-16', 'all_relations': '', 'chunk': '0', '__trained__': 'Rayton Solar Inc.', '__distance_function__': 'cosine', '__relation_name__': 'sic', 'entity': 'Rayton Solar Inc.', 'relation': 'sic'}, embeddings=[]), Row(annotatorType='labeled_dependency', begin=0, end=16, result='3674', metadata={'sentence': '0', 'ops': '0.0', 'distance': '-2.220446049250313E-16', 'all_relations': '', 'chunk': '0', '__trained__': 'Rayton Solar Inc.', '__distance_function__': 'cosine', '__relation_name__': 'sic_code', 'entity': 'Rayton Solar Inc.', 'relation': 'sic_code'}, embeddings=[]), Row(annotatorType='labeled_dependency', begin=0, end=16, result='0', metadata={'sentence': '0', 'ops': '0.0', 'distance': '-2.220446049250313E-16', 'all_relations': '', 'chunk': '0', '__trained__': 'Rayton Solar Inc.', '__distance_function__': 'cosine', '__relation_name__': 'irs_number', 'entity': 'Rayton Solar Inc.', 'relation': 'irs_number'}, embeddings=[]), Row(annotatorType='labeled_dependency', begin=0, end=16, result='1231', metadata={'sentence': '0', 'ops': '0.0', 'distance': '-2.220446049250313E-16', 'all_relations': '', 'chunk': '0', '__trained__': 'Rayton Solar Inc.', '__distance_function__': 'cosine', '__relation_name__': 'fiscal_year_end', 'entity': 'Rayton Solar Inc.', 'relation': 'fiscal_year_end'}, embeddings=[]), Row(annotatorType='labeled_dependency', begin=0, end=16, result='CA', metadata={'sentence': '0', 'ops': '0.0', 'distance': '-2.220446049250313E-16', 'all_relations': '', 'chunk': '0', '__trained__': 'Rayton Solar Inc.', '__distance_function__': 'cosine', '__relation_name__': 'state_location', 'entity': 'Rayton Solar Inc.', 'relation': 'state_location'}, embeddings=[]), Row(annotatorType='labeled_dependency', begin=0, end=16, result='DE', metadata={'sentence': '0', 'ops': '0.0', 'distance': '-2.220446049250313E-16', 'all_relations': '', 'chunk': '0', '__trained__': 'Rayton Solar Inc.', '__distance_function__': 'cosine', '__relation_name__': 'state_incorporation', 'entity': 'Rayton Solar Inc.', 'relation': 'state_incorporation'}, embeddings=[]), Row(annotatorType='labeled_dependency', begin=0, end=16, result='920 COLORADO AVE.', metadata={'sentence': '0', 'ops': '0.0', 'distance': '-2.220446049250313E-16', 'all_relations': '', 'chunk': '0', '__trained__': 'Rayton Solar Inc.', '__distance_function__': 'cosine', '__relation_name__': 'business_street', 'entity': 'Rayton Solar Inc.', 'relation': 'business_street'}, embeddings=[]), Row(annotatorType='labeled_dependency', begin=0, end=16, result='SANTA MONICA', metadata={'sentence': '0', 'ops': '0.0', 'distance': '-2.220446049250313E-16', 'all_relations': '', 'chunk': '0', '__trained__': 'Rayton Solar Inc.', '__distance_function__': 'cosine', '__relation_name__': 'business_city', 'entity': 'Rayton Solar Inc.', 'relation': 'business_city'}, embeddings=[]), Row(annotatorType='labeled_dependency', begin=0, end=16, result='CA', metadata={'sentence': '0', 'ops': '0.0', 'distance': '-2.220446049250313E-16', 'all_relations': '', 'chunk': '0', '__trained__': 'Rayton Solar Inc.', '__distance_function__': 'cosine', '__relation_name__': 'business_state', 'entity': 'Rayton Solar Inc.', 'relation': 'business_state'}, embeddings=[]), Row(annotatorType='labeled_dependency', begin=0, end=16, result='90401', metadata={'sentence': '0', 'ops': '0.0', 'distance': '-2.220446049250313E-16', 'all_relations': '', 'chunk': '0', '__trained__': 'Rayton Solar Inc.', '__distance_function__': 'cosine', '__relation_name__': 'business_zip', 'entity': 'Rayton Solar Inc.', 'relation': 'business_zip'}, embeddings=[]), Row(annotatorType='labeled_dependency', begin=0, end=16, result='(661) 259-4786', metadata={'sentence': '0', 'ops': '0.0', 'distance': '-2.220446049250313E-16', 'all_relations': '', 'chunk': '0', '__trained__': 'Rayton Solar Inc.', '__distance_function__': 'cosine', '__relation_name__': 'business_phone', 'entity': 'Rayton Solar Inc.', 'relation': 'business_phone'}, embeddings=[]), Row(annotatorType='labeled_dependency', begin=0, end=16, result='', metadata={'sentence': '0', 'ops': '0.0', 'distance': '-2.220446049250313E-16', 'all_relations': '', 'chunk': '0', '__trained__': 'Rayton Solar Inc.', '__distance_function__': 'cosine', '__relation_name__': 'former_name', 'entity': 'Rayton Solar Inc.', 'relation': 'former_name'}, embeddings=[]), Row(annotatorType='labeled_dependency', begin=0, end=16, result='', metadata={'sentence': '0', 'ops': '0.0', 'distance': '-2.220446049250313E-16', 'all_relations': '', 'chunk': '0', '__trained__': 'Rayton Solar Inc.', '__distance_function__': 'cosine', '__relation_name__': 'former_name_date', 'entity': 'Rayton Solar Inc.', 'relation': 'former_name_date'}, embeddings=[]), Row(annotatorType='labeled_dependency', begin=0, end=16, result='2017-01-10', metadata={'sentence': '0', 'ops': '0.0', 'distance': '-2.220446049250313E-16', 'all_relations': '2017-01-20:::2017-01-06:::2017-05-15:::2017-09-28:::2016-11-29:::2016-12-20:::2016-12-22:::2022-09-21:::2019-06-27:::2018-03-22:::2018-04-30:::2018-12-10:::2021-09-22:::2020-06-08:::2020-09-28', 'chunk': '0', '__trained__': 'Rayton Solar Inc.', '__distance_function__': 'cosine', '__relation_name__': 'date', 'entity': 'Rayton Solar Inc.', 'relation': 'date'}, embeddings=[]), Row(annotatorType='labeled_dependency', begin=0, end=16, result='1654124', metadata={'sentence': '0', 'ops': '0.0', 'distance': '-2.220446049250313E-16', 'all_relations': '', 'chunk': '0', '__trained__': 'Rayton Solar Inc.', '__distance_function__': 'cosine', '__relation_name__': 'company_id', 'entity': 'Rayton Solar Inc.', 'relation': 'company_id'}, embeddings=[])])]"
            ]
          },
          "execution_count": 40,
          "metadata": {},
          "output_type": "execute_result"
        }
      ],
      "source": [
        "r = res.select(\"mappings\").collect()\n",
        "r"
      ]
    },
    {
      "cell_type": "code",
      "execution_count": null,
      "id": "3ed118db-d108-4637-8d1f-67c7e5106458",
      "metadata": {
        "id": "3ed118db-d108-4637-8d1f-67c7e5106458"
      },
      "outputs": [],
      "source": [
        "json_dict = dict()\n",
        "for n in r[0]['mappings']:\n",
        "    json_dict[n.metadata['relation']] = str(n.result)"
      ]
    },
    {
      "cell_type": "code",
      "execution_count": null,
      "id": "0bee659b-9446-4255-9c67-2a685de56c56",
      "metadata": {
        "colab": {
          "base_uri": "https://localhost:8080/"
        },
        "id": "0bee659b-9446-4255-9c67-2a685de56c56",
        "outputId": "e02f4abe-e698-4ac1-b449-09080504c737"
      },
      "outputs": [
        {
          "name": "stdout",
          "output_type": "stream",
          "text": [
            "{\n",
            "    \"business_city\": \"SANTA MONICA\",\n",
            "    \"business_phone\": \"(661) 259-4786\",\n",
            "    \"business_state\": \"CA\",\n",
            "    \"business_street\": \"920 COLORADO AVE.\",\n",
            "    \"business_zip\": \"90401\",\n",
            "    \"company_id\": \"1654124\",\n",
            "    \"date\": \"2017-01-10\",\n",
            "    \"fiscal_year_end\": \"1231\",\n",
            "    \"former_name\": \"\",\n",
            "    \"former_name_date\": \"\",\n",
            "    \"irs_number\": \"0\",\n",
            "    \"name\": \"Rayton Solar Inc.\",\n",
            "    \"sic\": \"SEMICONDUCTORS & RELATED DEVICES [3674]\",\n",
            "    \"sic_code\": \"3674\",\n",
            "    \"state_incorporation\": \"DE\",\n",
            "    \"state_location\": \"CA\"\n",
            "}\n"
          ]
        }
      ],
      "source": [
        "import json\n",
        "print(json.dumps(json_dict, indent=4, sort_keys=True))"
      ]
    }
  ],
  "metadata": {
    "colab": {
      "machine_shape": "hm",
      "provenance": [],
      "toc_visible": true
    },
    "gpuClass": "standard",
    "kernelspec": {
      "display_name": "tf-gpu",
      "language": "python",
      "name": "python3"
    },
    "language_info": {
      "codemirror_mode": {
        "name": "ipython",
        "version": 3
      },
      "file_extension": ".py",
      "mimetype": "text/x-python",
      "name": "python",
      "nbconvert_exporter": "python",
      "pygments_lexer": "ipython3",
      "version": "3.9.7 (default, Sep 16 2021, 16:59:28) [MSC v.1916 64 bit (AMD64)]"
    },
    "vscode": {
      "interpreter": {
        "hash": "3f47d918ae832c68584484921185f5c85a1760864bf927a683dc6fb56366cc77"
      }
    }
  },
  "nbformat": 4,
  "nbformat_minor": 5
}

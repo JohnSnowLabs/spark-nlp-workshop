{
  "cells": [
    {
      "cell_type": "markdown",
      "metadata": {
        "id": "I08sFJYCxR0Z"
      },
      "source": [
        "![JohnSnowLabs](https://nlp.johnsnowlabs.com/assets/images/logo.png)"
      ]
    },
    {
      "cell_type": "markdown",
      "metadata": {
        "id": "YGqw3ep-Nlxc"
      },
      "source": [
        "[![Open In Colab](https://colab.research.google.com/assets/colab-badge.svg)](https://colab.research.google.com/github/JohnSnowLabs/spark-nlp-workshop/blob/master/legal-nlp/13.0.Legal_Summarization.ipynb)"
      ]
    },
    {
      "cell_type": "markdown",
      "metadata": {
        "collapsed": false,
        "id": "4iIO6G_B3pqq"
      },
      "source": [
        "#🎬 Installation"
      ]
    },
    {
      "cell_type": "code",
      "execution_count": null,
      "metadata": {
        "id": "hPwo4Czy3pqq",
        "pycharm": {
          "is_executing": true
        }
      },
      "outputs": [],
      "source": [
        "! pip install -q johnsnowlabs"
      ]
    },
    {
      "cell_type": "markdown",
      "metadata": {
        "id": "YPsbAnNoPt0Z"
      },
      "source": [
        "##🔗 Automatic Installation\n",
        "Using my.johnsnowlabs.com SSO"
      ]
    },
    {
      "cell_type": "code",
      "execution_count": null,
      "metadata": {
        "id": "_L-7mLYp3pqr",
        "pycharm": {
          "is_executing": true
        }
      },
      "outputs": [],
      "source": [
        "from johnsnowlabs import nlp, finance, legal\n",
        "\n",
        "nlp.install(refresh_install=True, force_browser = True)"
      ]
    },
    {
      "cell_type": "markdown",
      "metadata": {
        "id": "hsJvn_WWM2GL"
      },
      "source": [
        "##🔗 Manual downloading\n",
        "If you are not registered in my.johnsnowlabs.com, you received a license via e-email or you are using Safari, you may need to do a manual update of the license.\n",
        "\n",
        "- Go to my.johnsnowlabs.com\n",
        "- Download your license\n",
        "- Upload it using the following command"
      ]
    },
    {
      "cell_type": "code",
      "execution_count": null,
      "metadata": {
        "id": "i57QV3-_P2sQ"
      },
      "outputs": [],
      "source": [
        "from google.colab import files\n",
        "print('Please Upload your John Snow Labs License using the button below')\n",
        "license_keys = files.upload()"
      ]
    },
    {
      "cell_type": "markdown",
      "metadata": {
        "id": "xGgNdFzZP_hQ"
      },
      "source": [
        "- Install it"
      ]
    },
    {
      "cell_type": "markdown",
      "metadata": {
        "id": "DCl5ErZkNNLk"
      },
      "source": [
        "#📌 Starting"
      ]
    },
    {
      "cell_type": "code",
      "execution_count": null,
      "metadata": {
        "id": "x3jVICoa3pqr"
      },
      "outputs": [],
      "source": [
        "spark = nlp.start()"
      ]
    },
    {
      "cell_type": "markdown",
      "metadata": {
        "id": "nWu_IMfY4L1N"
      },
      "source": [
        "#🔎 Legal Text Summarization"
      ]
    },
    {
      "cell_type": "markdown",
      "metadata": {
        "collapsed": false,
        "id": "PV_iiuN13pqt"
      },
      "source": [
        "📜Explanation:\n",
        "\n",
        "Native Legal Text Summarization is a valuable tool for legal professionals who need to quickly understand the key points of a legal document. It can save time and improve accuracy, allowing lawyers to focus on more complex tasks.\n",
        "\n",
        "The Native Legal Text Summarization feature uses a deep learning model that has been trained on a large corpus of legal documents to automatically generate summaries of legal text. The model uses a combination of natural language processing techniques, such as entity recognition, part-of-speech tagging, and dependency parsing, to extract important information from the text.\n",
        "\n",
        "The summarization model then uses this extracted information to generate a summary that accurately captures the key points of the document in a concise and understandable manner. The resulting summary can be used to quickly identify relevant information, such as the outcome of a legal case or the main provisions of a regulation.\n",
        "\n",
        "By using our new Legal Summarizer() module, you can get state-of-the-art, short versions of your legal documents, without losing any information.\n",
        "\n",
        "We included 2 models for Legal Summarization:\n",
        "\n",
        "  - **Legal FLAN-T5 Summarization (Base):** The base model, with generic capacities for summarizing legal documents.\n",
        "  - **Legal Finetuned FLAN-T5 Summarization:** A specifically finetuned model trained to summarize Legal Agreements . For this task, we finetuned our base model with more than 8K sections from different legal commercial agreements.\n",
        "\n"
      ]
    },
    {
      "cell_type": "markdown",
      "metadata": {
        "id": "6Pg0iSsnJ6cB"
      },
      "source": [
        "### Let's see how to get summaries in different Legal documents using the `Summarizer()` module."
      ]
    },
    {
      "cell_type": "markdown",
      "metadata": {
        "id": "s0A7Og7Oua6o"
      },
      "source": [
        "\n",
        "## 🧮 Subpoenas"
      ]
    },
    {
      "cell_type": "code",
      "execution_count": null,
      "metadata": {
        "colab": {
          "base_uri": "https://localhost:8080/"
        },
        "id": "NZ9v_1QquehT",
        "outputId": "3ac84632-ee45-43c3-c0bc-c48c24b68630"
      },
      "outputs": [
        {
          "name": "stdout",
          "output_type": "stream",
          "text": [
            "legsum_flant5_legal_augmented download started this may take some time.\n",
            "[OK!]\n",
            "+----------------------------------------------------------------------------------------------------------------------------------------------------------------------------------------------------------------------------------------------------------------------------------------------------------------------------------------------------------------------------------------------------------------------------------------------------------------------------------------------------------------------------------------------------------------------------------------------------------------------------------------------------------------------------------------------------------------------------------------------------------------------------------------------------------+\n",
            "|result                                                                                                                                                                                                                                                                                                                                                                                                                                                                                                                                                                                                                                                                                                                                                                                                    |\n",
            "+----------------------------------------------------------------------------------------------------------------------------------------------------------------------------------------------------------------------------------------------------------------------------------------------------------------------------------------------------------------------------------------------------------------------------------------------------------------------------------------------------------------------------------------------------------------------------------------------------------------------------------------------------------------------------------------------------------------------------------------------------------------------------------------------------------+\n",
            "|[This notice states that you are in default of the mortgage agreement with XYZ Bank, which is secured by the property located at 1234 Elm Street, Anytown, USA 12345. The outstanding balance on the mortgage is $200,000, which includes principal, interest, late fees, and other charges. XYZ Bank will file a notice of default with the county recorder's office, which will initiate the foreclosure process. If the foreclosure proceeds, XYZ Bank will sell your property at a public auction to satisfy the outstanding balance on the mortgage. If you are unable to cure the defail, you may be able to take alternative foreclosure prevention options such as loan modification, short sale, or dee in LIEU of foreclosure. If you have any questions, contact XYZ BANK as soon as possible.]|\n",
            "+----------------------------------------------------------------------------------------------------------------------------------------------------------------------------------------------------------------------------------------------------------------------------------------------------------------------------------------------------------------------------------------------------------------------------------------------------------------------------------------------------------------------------------------------------------------------------------------------------------------------------------------------------------------------------------------------------------------------------------------------------------------------------------------------------------+\n",
            "\n"
          ]
        }
      ],
      "source": [
        "document_assembler = nlp.DocumentAssembler()\\\n",
        "    .setInputCol(\"text\")\\\n",
        "    .setOutputCol(\"documents\")\n",
        "\n",
        "flant5 = legal.Summarizer().pretrained('legsum_flant5_legal_augmented','en','legal/models')\\\n",
        "    .setInputCols([\"documents\"])\\\n",
        "    .setOutputCol(\"summary\")\\\n",
        "    .setMaxNewTokens(1000)\n",
        "\n",
        "pipeline = nlp.Pipeline(stages=[document_assembler, flant5])\n",
        "\n",
        "data = spark.createDataFrame([\n",
        "  [1, \"\"\" \n",
        "NOTICE OF DEFAULT AND INTENT TO FORECLOSE\n",
        "\n",
        "PLEASE TAKE NOTICE that you are in default of your mortgage agreement with XYZ Bank, which is secured by the property located at 1234 Elm Street, Anytown, USA 12345. As of the date of this notice, the outstanding balance on your mortgage is $200,000, which includes principal, interest, late fees, and other charges.\n",
        "\n",
        "Under the terms of your mortgage agreement, you were required to make monthly payments of $1,200 on the first day of each month. However, you have failed to make your payments for the months of January, February, and March 2023. As a result, you are in default of your mortgage agreement, and the entire amount of the outstanding balance has become due and payable.\n",
        "\n",
        "UNLESS YOU TAKE ACTION TO CURE THIS DEFAULT, XYZ Bank INTENDS TO FORECLOSE ON YOUR PROPERTY. XYZ Bank will file a notice of default with the county recorder's office, which will initiate the foreclosure process. If the foreclosure proceeds, XYZ Bank will sell your property at a public auction to satisfy the outstanding balance on your mortgage.\n",
        "\n",
        "YOU HAVE THE RIGHT TO CURE THIS DEFAULT BY PAYING THE ENTIRE OUTSTANDING BALANCE OF $200,000, INCLUDING ALL FEES AND CHARGES, ON OR BEFORE APRIL 30th, 2023.\n",
        "\n",
        "IF YOU ARE UNABLE TO CURE THIS DEFAULT, YOU MAY BE ELIGIBLE FOR ALTERNATIVE FORECLOSURE PREVENTION OPTIONS, SUCH AS LOAN MODIFICATION, SHORT SALE, OR DEED IN LIEU OF FORECLOSURE. YOU MAY CONTACT XYZ BANK TO DISCUSS THESE OPTIONS OR TO SEEK ASSISTANCE FROM A HOUSING COUNSELOR.\n",
        "\n",
        "IF YOU HAVE ANY QUESTIONS ABOUT THIS NOTICE, PLEASE CONTACT XYZ BANK AS SOON AS POSSIBLE.\n",
        "\"\"\"]]).toDF('id', 'text')\n",
        "\n",
        "results = pipeline.fit(data).transform(data)\n",
        "\n",
        "results.select(\"summary.result\").show(truncate=False)"
      ]
    },
    {
      "cell_type": "markdown",
      "metadata": {
        "id": "IAUdI1tf07yj"
      },
      "source": [
        "## 🧮 Mutual Non-Disclosure Agreement (MNDA)"
      ]
    },
    {
      "cell_type": "code",
      "execution_count": null,
      "metadata": {
        "colab": {
          "base_uri": "https://localhost:8080/"
        },
        "id": "VIBcwhGxva_j",
        "outputId": "2f887dd7-aecd-4cfe-c5a2-5f4f2d2bcaa1"
      },
      "outputs": [
        {
          "name": "stdout",
          "output_type": "stream",
          "text": [
            "+--------------------------------------------------------------------------------------------------------------------------------------------------------------------------------------------------------------------------------------------------------------------------------------------------------------------------------------------------------------------------------------------------------------------------------------------------------------------------------------------------------------------------------------------------------------------------------------------------------------------------------------------------------------------------------------------------------------------------------------------------------------------------------------------------------------------------------------------------------------------------------------------------------------------------------------+\n",
            "|result                                                                                                                                                                                                                                                                                                                                                                                                                                                                                                                                                                                                                                                                                                                                                                                                                                                                                                                                |\n",
            "+--------------------------------------------------------------------------------------------------------------------------------------------------------------------------------------------------------------------------------------------------------------------------------------------------------------------------------------------------------------------------------------------------------------------------------------------------------------------------------------------------------------------------------------------------------------------------------------------------------------------------------------------------------------------------------------------------------------------------------------------------------------------------------------------------------------------------------------------------------------------------------------------------------------------------------------+\n",
            "|[This legal agreement states that the company has disclosed all information relating to the company to the recipient, including any business, technical, marketing, financial or other information. It also states that any reproductions, copies, notes, summaries, reports, analyses or other material derived from the confidential information must be treated as part of the confidential information. The confidential information does not include information that is or becomes part of the public domain other than as a result of disclosure by the recipient or its representatives, becomes available to the recipient on a nonconfidential basis from a source other than the company, can be proven by the recipient to have been in the recipient’s possession prior to disclosure, or is independently developed by the recipient without reference to or reliance on any of the company’s confidential information.]|\n",
            "+--------------------------------------------------------------------------------------------------------------------------------------------------------------------------------------------------------------------------------------------------------------------------------------------------------------------------------------------------------------------------------------------------------------------------------------------------------------------------------------------------------------------------------------------------------------------------------------------------------------------------------------------------------------------------------------------------------------------------------------------------------------------------------------------------------------------------------------------------------------------------------------------------------------------------------------+\n",
            "\n"
          ]
        }
      ],
      "source": [
        "data = spark.createDataFrame([\n",
        "  [2, \"\"\"NOW, THEREFORE, in consideration of the Company’s disclosure of information to the Recipient\n",
        "and the promises set forth below, the parties agree as follows:\n",
        "\n",
        "     1. Confidential Information. “Confidential Information” as used in this\n",
        "Agreement means all information relating to the Company disclosed to the Recipient by the Company,\n",
        "including without limitation any business, technical, marketing, financial or other information,\n",
        "whether in written, electronic or oral form. Any and all reproductions, copies, notes, summaries,\n",
        "reports, analyses or other material derived by the Recipient or its Representatives (as defined\n",
        "below) in whole or in part from the Confidential Information in whatever form maintained shall be\n",
        "considered part of the Confidential Information itself and shall be treated as such. Confidential\n",
        "Information does not include information that (a) is or becomes part of the public domain other\n",
        "than as a result of disclosure by the Recipient or its Representatives; (b) becomes available to\n",
        "the Recipient on a nonconfidential basis from a source other than the Company, provided that source\n",
        "is not bound with respect to that information by a confidentiality agreement with the Company or is\n",
        "otherwise prohibited from transmitting that information by a contractual, legal or other\n",
        "obligation; (c) can be proven by the Recipient to have been in the Recipient’s possession prior to\n",
        "disclosure of the same by the Company; or (d) is independently developed by the Recipient without\n",
        "reference to or reliance on any of the Company’s Confidential Information.\"\"\"]\n",
        "]).toDF('id', 'text')\n",
        "\n",
        "results = pipeline.fit(data).transform(data)\n",
        "\n",
        "results.select(\"summary.result\").show(truncate=False)"
      ]
    },
    {
      "cell_type": "markdown",
      "metadata": {
        "id": "3lQh-rtw1-rN"
      },
      "source": [
        "## 🧮 Commercial Agreements"
      ]
    },
    {
      "cell_type": "code",
      "execution_count": null,
      "metadata": {
        "colab": {
          "base_uri": "https://localhost:8080/"
        },
        "id": "Nn81ZCO812Qi",
        "outputId": "82e71278-6c93-44db-baac-f994662f80f9"
      },
      "outputs": [
        {
          "name": "stdout",
          "output_type": "stream",
          "text": [
            "+--------------------------------------------------------------------------------------------------------------------------------------------------------------------------------------------------------------------------------------------------------------------------------------------------------------------------------------------------------------------------------------------------------------------------------------------------------------------------------------------------------------------------------------------------------------------------------------------------------------------------------------------------------------------------------------------------------------------------------------------------------------------------------------------------------------------------------------------------------+\n",
            "|result                                                                                                                                                                                                                                                                                                                                                                                                                                                                                                                                                                                                                                                                                                                                                                                                                                                  |\n",
            "+--------------------------------------------------------------------------------------------------------------------------------------------------------------------------------------------------------------------------------------------------------------------------------------------------------------------------------------------------------------------------------------------------------------------------------------------------------------------------------------------------------------------------------------------------------------------------------------------------------------------------------------------------------------------------------------------------------------------------------------------------------------------------------------------------------------------------------------------------------+\n",
            "|[This agreement is between Co-Diagnostics, Inc. and PreCheck Health Services, Inc., which outlines the terms and conditions of a distributor agreement between the two parties. The principal appoints the distributor as a non-exclusive distributor to sell Principal's qPCR infectious disease kits, Logix Smart COVID-19 PCR diagnostic test and Co-Dx BoxTM instrument. The distributor grants the distributor non-exclusive rights to sell these products within the countries of Romania. The distributor will also obtain all necessary licenses and permits to allow the distributor to conduct business. The distributor will also grant the distributor a discount based on the products and prices. The agreement is in effect until March 18, 2021, unless sooner terminated by either party upon (30) days written notice, without cause.]|\n",
            "+--------------------------------------------------------------------------------------------------------------------------------------------------------------------------------------------------------------------------------------------------------------------------------------------------------------------------------------------------------------------------------------------------------------------------------------------------------------------------------------------------------------------------------------------------------------------------------------------------------------------------------------------------------------------------------------------------------------------------------------------------------------------------------------------------------------------------------------------------------+\n",
            "\n"
          ]
        }
      ],
      "source": [
        "data = spark.createDataFrame([\n",
        "  [3, \"\"\"EXHIBIT 99.2 Page 1 of 3 DISTRIBUTOR AGREEMENT Agreement made this 19t h day of March, 2020 Between: Co-Diagnostics, Inc. (herein referred to as \"Principal\") And PreCheck Health Services, Inc. (herein referred to as \"Distributor\"). In consideration of the mutual terms, conditions and covenants hereinafter set forth, Principal and Distributor acknowledge and agree to the following descriptions and conditions: DESCRIPTION OF PRINCIPAL The Principal is a company located in Utah, United States and is in the business of research and development of reagents. The Principal markets and sells it products globally through direct sales and distributors. DESCRIPTION OF DISTRIBUTOR The Distributor is a company operating or planning to operate in the United States of America, Latin America, Europe and Russia. The Distributor represents that the Distributor or a subsidiary of the Distributor is or will be fully licensed and registered in the Territory and will provide professional distribution services for the products of the Principal. CONDITIONS: 1. The Principal appoints the Distributor as a non-exclusive distributor, to sell Principal's qPCR infectious disease kits, Logix Smart COVID-19 PCR diagnostic test and Co-Dx Box™ instrument (the \"Products\"). The Products are described on Exhibit A to this Agreement. 2. The Principal grants Distributor non- exclusive rights to sell these products within the countries of Romania (the \"Territory\"), which may be amended by mutual written agreement.\n",
        "  \n",
        "Source: PRECHECK HEALTH SERVICES, INC., 8-K, 3/20/2020\n",
        "\n",
        "3. The Distributor accepts the appointment and shall use its commercially reasonable efforts to promote, market and sell the Products within the Territory, devote such time and attention as may be reasonably necessary and abide by the Principal's policies. 4. The Principal shall maintain the right to contact and market its products to potential customers in the Territory; but agrees to pass on all sales leads and orders to the Distributor. 5. The parties agree that the list of Products and/or prices may be amended from time to time. The Principal may unilaterally remove Products from the catalog or change prices. Additions to the Products shall be by mutual agreement. However, in the event the Distributor rejects a new product addition to the product list, the Principal shall then retain the right to market and distribute the new product that is rejected by the Distributor. 6. Unless accepted by the Principal, the Distributor agrees that during the term of this Agreement, the Distributor, either directly or indirectly, shall handle no products that are competitive with the Products within the Territory. 7. The Distributor shall obtain at its own expense, all necessary licenses and permits to allow the Distributor to conduct business as contemplated herein. The Distributor represents and warrants that the Distributor shall conduct business in strict conformity with all local, state and federal laws, rules and regulations. 8. The Principal agrees that the Distributor may employ or engage representatives or sub-distributors in furtherance of this Agreement and the Distributor agrees that the Distributor shall be solely responsible for the payment of wages or commissions to those representatives and sub-distributors, and that under no circumstances shall Distributor's representatives be deemed employees of Principal for any purpose whatsoever. 9. Principal will grant Distributor a discount based on the Products and Prices. The proposed discount is expected to be ¨%. Discount may vary depending on product volume ordered or promotions. 10. This Agreement shall be in effect until March 18. 2021, unless sooner terminated by either party upon (30) days written notice, without cause. 11. In the event of termination, the Distributor shall be entitled to receive all orders accepted by the Principal prior to the date of termination and may sell the ordered Products in the Territory. Payment to be made upon shipment\"\"\"]\n",
        "]).toDF('id', 'text')\n",
        "\n",
        "results = pipeline.fit(data).transform(data)\n",
        "\n",
        "results.select(\"summary.result\").show(truncate=False)"
      ]
    },
    {
      "cell_type": "markdown",
      "source": [
        "## 🏓**Long Document Summarization**\n",
        "\n",
        " For long document summarization, the following steps can be taken:\n",
        "\n",
        "1.   **Splitting the Document**: The initial step is to split the long document into smaller chunks. This is done to ensure that each chunk stays within the token limit imposed by the model and tokenizer. The document can be divided into paragraphs, sections, or any logical divisions based on the content.\n",
        "2.   **Token Limit**:  We split the text into sentences,  The initial text is divided into separate sentences. Starting with an empty container, the sentences are added to it one by one, in the order they appear in the original text. As each sentence is added, the total number of characters in the accumulated text is calculated and monitored. After adding each sentence, the accumulated character count is compared to the specified limit of 400 characters. The process continues until the total character count reaches or exceeds the specified limit. At this point, the process stops, and the accumulated text, consisting of all the sentences added so far, is considered the final output.\n",
        "3.   **Applying Summarization**: After the document is divided into manageable chunks, summarization is applied to each chunk independently. This can be done using the chosen summarization model or technique. The aim is to generate concise summaries for each chunk, capturing the essential information within the given constraints.\n",
        "4.   **Merging and Refining**: Once summaries are generated for each individual chunk, they can be merged and refined to form a coherent and comprehensive summary of the entire long document. This can involve removing redundant information, resolving inconsistencies, and ensuring smooth transitions between different chunks.\n",
        "5.   **Iterative Process:** If the summary generated from the merged chunks exceeds the desired length or does not meet the desired quality, the process can be iterated. This might involve adjusting the splitting strategy, revising the summarization model parameters, or applying additional techniques to improve the summary.\n",
        "\n",
        "\n",
        "\n",
        "\n",
        "\n",
        "\n"
      ],
      "metadata": {
        "id": "WB5912mY9Ru1"
      }
    },
    {
      "cell_type": "markdown",
      "source": [
        "⏳ Load sample txt file"
      ],
      "metadata": {
        "id": "CXgdLlqs9fVy"
      }
    },
    {
      "cell_type": "code",
      "source": [
        "text = \"\"\"\n",
        "This Share Exchange Agreement (the \"\"Agreement\"\") is made and entered by and between 1536692 Ontario Inc. an Ontario Corporation, duly registered by the laws of Ontario, Canada and in good standing (“Ontario”), the shareholders of Ontario (the “Ontario Shareholders”) and Fox Petroleum Inc. (“Fox”), a Nevada corporation also duly registered and in good standing, effective as of July 15, 2010.  \n",
        "A. ONTARIO is the owner of a Scrap Plastic processing plant with certain equipment, fixtures, and improvements, the assets, located in Xxxxxxxx, Xxxxxxx Xxxxxx, \n",
        "B. The ONTARIO Shareholders desire to exchange their shares of common stock held of record in ONTARIO representing 100% of the total issued and outstanding shares of ONTARIO and FOX desires to issue an aggregate of ________ shares of its common stock to the ONTARIO Shareholders;\n",
        "X. XXX further desires to assume an aggregate debt in the amount of $225,000.00 incurred by ONTARIO to Davfam Investments (1998) Ltd. during fiscal year 1995, as reflected in the financial books and records of ONTARIO (the “Ontario Debt”), which Ontario Debt has verbally established conversion terms;  \n",
        "Now, therefore, in consideration of the parties' covenants and promises contained in this Agreement, and for other good and valuable consideration, the receipt and sufficiency of which the parties acknowledge the parties agree:  \n",
        "1. Definitions. The following defined terms, wherever used in this Agreement, shall have the meanings described below: \n",
        "1.1 “Assets” means and includes: (a) the consulting business and operations\n",
        "1.2 “Shares” means all of the shares currently held by the shareholders of ONTARIO Polymers Inc.\n",
        "1.3 \"\"Closing\"\" means the delivery of documents to be executed and delivered by the parties, the deposit and delivery of the Purchase Price, as defined in this Agreement, and the consummation of the transactions contemplated under this Agreement.\n",
        "1.4 \"\"Closing Date\"\" means the date on which the Closing occurs as provided in Section 6.1.\n",
        "1.5 \"\"Data\"\" means environmental, title and other information, data and reports in ONTARIO’s possession or control relating to the Land and the Permits. \n",
        "1.6 \"\"Effective Date\"\" means July 13, 2010 and as fully executed by ONTARIO and FOX.\n",
        "1.7 “Land” means the site, where the fixtures and improvements are located described in Exhibit A, Part 1, \n",
        "2.1 ONTARIO Shareholders. Subject to all of the terms and conditions of this Agreement, the ONTARIO Shareholders agree to tender their respective shares of ONTARIO held of record to FOX.\n",
        "2.2 Issuance of Shares. FOX agrees to issue to the ONTARIO Shareholders an aggregate of One Million Seven Hundred and Fifty Thousand (1,750,000) shares of its common stock to the ONTARIO Shareholders and to assume the ONTARIO Debt. \n",
        "2.3 Assumption and Performance of Permits. ONTARIO shall continue to maintain and keep current all operating permits and licenses required to operate Plastics recycling Facility \n",
        "3. Representations and Warranties of ONTARIO. ONTARIO represents and warrants to FOX the following:\n",
        "3.1 Organization and Authorization. ONTARIO is a corporation duly organized and validly existing and in good standing under the laws of the Ontario. ONTARIO has the full power and authority to enter into this Agreement and to consummate the transactions contemplated under this Agreement. The making and performance of this Agreement and the agreements and other instruments required to be executed by ONTARIO have been, or at the Closing will have been, duly authorized by all necessary corporate actions and will be duly executed by a person authorized by ONTARIO to do so. ONTARIO shall deliver to FOX duly approved and executed resolutions of the directors and shareholders approving ONTARIO’s execution and delivery of this Agreement and the performance of its obligations under this Agreement.\n",
        "3.2 No Breach of Laws or Contracts. The consummation by ONTARIO of the transactions contemplated by this Agreement will not result in the breach of any term or provision of, or constitute a default under any applicable law or regulation, its articles of organization or operating agreement, or under any other agreement or instrument to which ONTARIO is a party, by which it is bound, or which affects the Assets. \n",
        "3.3 Binding Obligations. When executed and delivered, this Agreement and all instruments executed and delivered by ONTARIO pursuant to this Agreement will constitute legal and binding obligations of ONTARIO and will be valid and enforceable in accordance with their respective terms. \n",
        "3.4 Compliance with Laws. ONTARIO has not received notice from any governmental agency, of any physical or environmental condition existing on the Land or any access to the Land or created by ONTARIO or of any action or failure to act by ONTARIO which is a material violation of any applicable law, regulation or ordinance. To ONTARIO’s knowledge, there are currently no off-site improvement requirements that any governmental authority has imposed or threatened to impose on the Land. \n",
        "3.5 No Litigation. There is no suit, action, arbitration or legal, administrative or other proceeding or governmental investigation pending or, to the knowledge of ONTARIO without inquiry, threatened against, or affecting the Assets or the ability of ONTARIO to perform its covenants and obligations under this Agreement. \n",
        "3.6.1 Title to the Land. ONTARIO represents and warrants that ONTARIO’s title to the Assets is good and marketable and on the Closing shall be free and clear of any lien, claim or encumbrance, except the following (the “Permitted Exceptions”): \n",
        "(a) Liens for taxes and mortgages acknowledged by FOX on the Assets not yet due and payable or which are being contested in good faith; \n",
        "(b) Any items listed in the Title Commitment or any amendment or update to the Title Commitment to which FOX does not timely deliver to ONTARIO a Notice of Objection pursuant to Section 3.9.5. \n",
        "3.6.2 Encroachments. To ONTARIOS’s knowledge, the improvements on the Land lie entirely within the boundaries of the Land and no structure of any kind encroaches on or over the Land.\n",
        "3.6.3 Condemnation. To ONTARIO’s knowledge, no portion of any of the Land or improvements on the Land is the subject of, or affected by, any condemnation or eminent domain proceeding.\n",
        "3.6.5 Taxes. ONTARIO represents that all taxes, including without limitation, advalorem, property (both real and personal), production, severance, reclamation, and similar taxes and assessments based upon or measured by ownership of property or production of minerals or the receipt of proceeds there from which have become due and payable have been properly paid. FOX will not be liable for any taxes which accrue or are assessed before the Closing. To ONTARIOs’s knowledge, there are no pending or threatened special assessments affecting the Assets. \n",
        "4. Representations and Warranties of FOX. FOX agrees, represents and warrants to ONTARIO the following: \n",
        "4.1 No Breach of Law or Contracts. The consummation by FOX of the transactions contemplated by this Agreement will not result in a breach of any term or provision of, or constitute a default under any applicable law, regulation or ordinance or any other agreement or instrument to which FOX is a party or by which it is bound. \n",
        "4.2 Binding Obligations. When executed and delivered this Agreement and all instruments executed by FOX pursuant to this Agreement, will constitute legal and binding obligations of FOX and will be valid and enforceable in accordance with their respective terms. \n",
        "4.3 No Litigation. There is no suit, action, arbitration or legal, administrative or other proceeding or governmental investigation pending or, to the knowledge of FOX without inquiry, threatened against, or affecting the Assets or the ability of FOX to perform its covenants and obligations under this Agreement. \n",
        "4.4 Brokers. FOX has incurred no liability, contingent or otherwise, for broker's or finder's fees relating to the transactions contemplated by this Agreement.\n",
        "4.5 Assumption of Ontario Debt. FOX agrees to assume the ONTARIO Debt and to further do and perform all acts and execute and deliver all documents and take all such other steps as may be necessary or desirable to give full effect to the repayment terms of the ONTARIO Debt.\n",
        "4.6 Organization and Authorization. FOX is a corporation duly organized and validly existing and in good standing under the laws of Nevada. FOX has the full power and authority to enter into this Agreement and to consummate the transactions contemplated under this Agreement. The making and performance of this Agreement and the agreements and other instruments required to be executed by FOX have been, or at the Closing will have been, duly authorized by all necessary corporate actions and will be duly executed by a person authorized by FOX to do so. \n",
        "5.1.1 Maintenance of Property. Until the Closing, ONTARIO shall cause the Assets to be maintained and operated in a good and workmanlike manner, shall not partition the Assets,shall maintain insurance now in force with respect to the Assets, shall pay or cause to be paid all costs and expenses incurred in connection with this Agreement, shall keep the Underlying Agreements in full force and effect, and shall perform and comply with all of the conditions and covenants contained in same and all other agreements relating to the Assets. \n",
        "5.1.3 Copies of Agreements. ONTARIO has disclosed to FOX the existence of and has furnished FOX with copies of all agreements and contracts relating to the Assets, to the extent that MDP is aware of the existence of such agreements and contracts. \n",
        "5.1.4 Notification of FOX of Suits, Litigation, Material Adverse Change, Etc. Until the Closing, ONTARIO promptly shall notify FOX of any suit, action, or other proceeding, actual or threatened, before any court, governmental agency or arbitrator and any cause of action or any other adverse change which relates to the Assets or which might result in impairment or loss of ONTARIO's title to any portion of the Assets or the value of the Assets or which might hinder or impede the operation of the Assets or which seeks to restrain or prohibit or to obtain substantial damages from ONTARIO in respect of, or which is related to or arises out of, this Agreement or the consummation of all or any part of the transactions contemplated under this Agreement of which ONTARIO becomes aware.\n",
        "5.1.5 Agreement Not to Market the Assets. Until the Closing and thereafter if the Closing occurs, ONTARIO shall not assign, transfer, encumber or in any way dispose of any interest in or to the Shares to any other person or entity, or negotiate with any other person or entity with respect to the transfer or grant of any interest or option whatsoever in the Assets, except that ONTARIO may continue to sell aggregate, sand and gravel from the Assets in the ordinary course of ONTARIO’s business. These obligations of ONTARIO shall terminate before the Closing if and at such time as this Agreement is terminated as provided in Section 8.  \n",
        "5.1.7 Permits and Underlying Agreements. ONTARIO shall maintain the Permits and Underlying Agreements in full force and effect. \n",
        "5.2.1 Maintenance and Confidentiality of Data. Before the Closing, FOX shall exercise due diligence in safeguarding and maintaining all Data and keeping the Data confidential, except for such disclosure as reasonably deemed necessary by FOX for purposes of obtaining financing and such disclosures as counsel for either party may advise is legally required or an announcement which is required to be made to all governmental or regulatory agency, in which cases ONTARIO shall be given reasonable advance notice and the right to review and comment on same. If the Closing does not occur, FOX’s obligation to maintain the confidentiality Data shall survive termination of this Agreement. \n",
        "5.2.2 Maintenance of Representations and Warranties. FOX shall use its reasonable best efforts to cause all of the representations and warranties of FOX contained in this Agreement to be true and correct as of the Closing; provided, however, that nothing contained in this Section shall create an obligation of FOX to ONTARIO to pay money or undertake any additional legal obligation. \n",
        "6.1 Date and Place of Closing. The parties will execute and deliver to each other a signed counterpart or copy of this Agreement as escrow instructions and such general conditions of escrow as requires. In the event of any conflict between the terms of this Agreement and the general conditions of the closing, the terms of this Agreement shall control. The Closing shall be held at a time mutually agreed upon by ONTARIO and FOX on the Closing Date, unless extended by the parties' agreement. The Closing will be held at the offices of the ONTARIO. The Closing shall occur on or before June 25th, 2010.\n",
        "\"\"\""
      ],
      "metadata": {
        "id": "Lj9Vun3L9Znw"
      },
      "execution_count": null,
      "outputs": []
    },
    {
      "cell_type": "markdown",
      "source": [
        "## Pipeline specified to separate text into tokens\n",
        "\n",
        "Tokenization is the NLP task in charge of splitting sentences in smaller pieces, usually words. Althought it's a splitting task, we don't call it splitting, we call it tokenization.\n",
        "\n",
        "The main component to do tokenization is the Tokenizer. It will get the tokens from the piece of text you pass to it."
      ],
      "metadata": {
        "id": "Kvxxd9oO-lX0"
      }
    },
    {
      "cell_type": "code",
      "source": [
        "document_assembler = nlp.DocumentAssembler() \\\n",
        "    .setInputCol(\"text\") \\\n",
        "    .setOutputCol(\"document\")\n",
        "\n",
        "text_splitter = legal.TextSplitter() \\\n",
        "    .setInputCols([\"document\"])\\\n",
        "    .setOutputCol(\"sentences\")\\\n",
        "    .setCustomBounds([\"\\n\\n\"])\\\n",
        "    .setExplodeSentences(True)\n",
        "\n",
        "tokenizer = nlp.Tokenizer()\\\n",
        "    .setInputCols([\"sentences\"]) \\\n",
        "    .setOutputCol(\"tokens\")\n",
        "\n",
        "nlp_pipeline = nlp.Pipeline(stages=[\n",
        "    document_assembler,\n",
        "    text_splitter,\n",
        "    tokenizer])\n",
        "\n",
        "df = spark.createDataFrame([[text]]).toDF(\"text\")\n",
        "\n",
        "fit = nlp_pipeline.fit(df)\n",
        "lp = nlp.LightPipeline(fit)\n",
        "\n",
        "res = lp.fullAnnotate(text)"
      ],
      "metadata": {
        "id": "3AHevBfy9cgU"
      },
      "execution_count": null,
      "outputs": []
    },
    {
      "cell_type": "code",
      "source": [
        "sentences = res[0]['sentences']\n",
        "tokens = res[0]['tokens']\n",
        "\n",
        "for i in range(len(sentences)):\n",
        "  sen_tokens = [x.result for x in tokens if x.metadata['sentence'] == str(i)]\n",
        "  print(f\"Sentence: {sentences[i].result}\")\n",
        "  print(f\"Tokens {len(sen_tokens)}: {sen_tokens}\")\n",
        "  print(\"*\"*250)"
      ],
      "metadata": {
        "id": "Mb-7SXBE-tGG",
        "outputId": "0eb0b6ca-29c6-4132-e5d9-97207144ede7",
        "colab": {
          "base_uri": "https://localhost:8080/"
        }
      },
      "execution_count": null,
      "outputs": [
        {
          "output_type": "stream",
          "name": "stdout",
          "text": [
            "Sentence: This Share Exchange Agreement (the \"\"Agreement\"\") is made and entered by and between 1536692 Ontario Inc. an Ontario Corporation, duly registered by the laws of Ontario, Canada and in good standing (“Ontario”), the shareholders of Ontario (the “Ontario Shareholders”) and Fox Petroleum Inc.\n",
            "Tokens 54: ['This', 'Share', 'Exchange', 'Agreement', '(', 'the', '\"\"', 'Agreement', '\"\")', 'is', 'made', 'and', 'entered', 'by', 'and', 'between', '1536692', 'Ontario', 'Inc', '.', 'an', 'Ontario', 'Corporation', ',', 'duly', 'registered', 'by', 'the', 'laws', 'of', 'Ontario', ',', 'Canada', 'and', 'in', 'good', 'standing', '(', '“Ontario”', '),', 'the', 'shareholders', 'of', 'Ontario', '(', 'the', '“Ontario', 'Shareholders”', ')', 'and', 'Fox', 'Petroleum', 'Inc', '.']\n",
            "**********************************************************************************************************************************************************************************************************************************************************\n",
            "Sentence: (“Fox”), a Nevada corporation also duly registered and in good standing, effective as of July 15, 2010.\n",
            "Tokens 22: ['(', '“Fox”', '),', 'a', 'Nevada', 'corporation', 'also', 'duly', 'registered', 'and', 'in', 'good', 'standing', ',', 'effective', 'as', 'of', 'July', '15', ',', '2010', '.']\n",
            "**********************************************************************************************************************************************************************************************************************************************************\n",
            "Sentence: A. ONTARIO is the owner of a Scrap Plastic processing plant with certain equipment, fixtures, and improvements, the assets, located in Xxxxxxxx, Xxxxxxx Xxxxxx, \n",
            "B. The ONTARIO Shareholders desire to exchange their shares of common stock held of record in ONTARIO representing 100% of the total issued and outstanding shares of ONTARIO and FOX desires to issue an aggregate of ________ shares of its common stock to the ONTARIO Shareholders;\n",
            "Tokens 79: ['A', '.', 'ONTARIO', 'is', 'the', 'owner', 'of', 'a', 'Scrap', 'Plastic', 'processing', 'plant', 'with', 'certain', 'equipment', ',', 'fixtures', ',', 'and', 'improvements', ',', 'the', 'assets', ',', 'located', 'in', 'Xxxxxxxx', ',', 'Xxxxxxx', 'Xxxxxx', ',', 'B', '.', 'The', 'ONTARIO', 'Shareholders', 'desire', 'to', 'exchange', 'their', 'shares', 'of', 'common', 'stock', 'held', 'of', 'record', 'in', 'ONTARIO', 'representing', '100%', 'of', 'the', 'total', 'issued', 'and', 'outstanding', 'shares', 'of', 'ONTARIO', 'and', 'FOX', 'desires', 'to', 'issue', 'an', 'aggregate', 'of', '________', 'shares', 'of', 'its', 'common', 'stock', 'to', 'the', 'ONTARIO', 'Shareholders', ';']\n",
            "**********************************************************************************************************************************************************************************************************************************************************\n",
            "Sentence: X. XXX further desires to assume an aggregate debt in the amount of $225,000.00 incurred by ONTARIO to Davfam Investments (1998) Ltd. during fiscal year 1995, as reflected in the financial books and records of ONTARIO (the “Ontario Debt”), which Ontario Debt has verbally established conversion terms;\n",
            "Tokens 55: ['X', '.', 'XXX', 'further', 'desires', 'to', 'assume', 'an', 'aggregate', 'debt', 'in', 'the', 'amount', 'of', '$225,000.00', 'incurred', 'by', 'ONTARIO', 'to', 'Davfam', 'Investments', '(', '1998', ')', 'Ltd', '.', 'during', 'fiscal', 'year', '1995', ',', 'as', 'reflected', 'in', 'the', 'financial', 'books', 'and', 'records', 'of', 'ONTARIO', '(', 'the', '“Ontario', 'Debt”', '),', 'which', 'Ontario', 'Debt', 'has', 'verbally', 'established', 'conversion', 'terms', ';']\n",
            "**********************************************************************************************************************************************************************************************************************************************************\n",
            "Sentence: Now, therefore, in consideration of the parties' covenants and promises contained in this Agreement, and for other good and valuable consideration, the receipt and sufficiency of which the parties acknowledge the parties agree:\n",
            "Tokens 39: ['Now', ',', 'therefore', ',', 'in', 'consideration', 'of', 'the', 'parties', \"'\", 'covenants', 'and', 'promises', 'contained', 'in', 'this', 'Agreement', ',', 'and', 'for', 'other', 'good', 'and', 'valuable', 'consideration', ',', 'the', 'receipt', 'and', 'sufficiency', 'of', 'which', 'the', 'parties', 'acknowledge', 'the', 'parties', 'agree', ':']\n",
            "**********************************************************************************************************************************************************************************************************************************************************\n",
            "Sentence: 1. Definitions.\n",
            "Tokens 4: ['1', '.', 'Definitions', '.']\n",
            "**********************************************************************************************************************************************************************************************************************************************************\n",
            "Sentence: The following defined terms, wherever used in this Agreement, shall have the meanings described below: \n",
            "1.1 “Assets” means and includes:\n",
            "Tokens 24: ['The', 'following', 'defined', 'terms', ',', 'wherever', 'used', 'in', 'this', 'Agreement', ',', 'shall', 'have', 'the', 'meanings', 'described', 'below', ':', '1.1', '“Assets”', 'means', 'and', 'includes', ':']\n",
            "**********************************************************************************************************************************************************************************************************************************************************\n",
            "Sentence: (a) the consulting business and operations\n",
            "1.2 “Shares” means all of the shares currently held by the shareholders of ONTARIO Polymers Inc.\n",
            "1.3 \"\"Closing\"\" means the delivery of documents to be executed and delivered by the parties, the deposit and delivery of the Purchase Price, as defined in this Agreement, and the consummation of the transactions contemplated under this Agreement.\n",
            "Tokens 69: ['(', 'a', ')', 'the', 'consulting', 'business', 'and', 'operations', '1.2', '“Shares”', 'means', 'all', 'of', 'the', 'shares', 'currently', 'held', 'by', 'the', 'shareholders', 'of', 'ONTARIO', 'Polymers', 'Inc', '.', '1.3', '\"\"', 'Closing', '\"\"', 'means', 'the', 'delivery', 'of', 'documents', 'to', 'be', 'executed', 'and', 'delivered', 'by', 'the', 'parties', ',', 'the', 'deposit', 'and', 'delivery', 'of', 'the', 'Purchase', 'Price', ',', 'as', 'defined', 'in', 'this', 'Agreement', ',', 'and', 'the', 'consummation', 'of', 'the', 'transactions', 'contemplated', 'under', 'this', 'Agreement', '.']\n",
            "**********************************************************************************************************************************************************************************************************************************************************\n",
            "Sentence: 1.4 \"\"Closing Date\"\" means the date on which the Closing occurs as provided in Section 6.1.\n",
            "Tokens 19: ['1.4', '\"\"', 'Closing', 'Date', '\"\"', 'means', 'the', 'date', 'on', 'which', 'the', 'Closing', 'occurs', 'as', 'provided', 'in', 'Section', '6.1', '.']\n",
            "**********************************************************************************************************************************************************************************************************************************************************\n",
            "Sentence: 1.5 \"\"Data\"\" means environmental, title and other information, data and reports in ONTARIO’s possession or control relating to the Land and the Permits.\n",
            "Tokens 28: ['1.5', '\"\"', 'Data', '\"\"', 'means', 'environmental', ',', 'title', 'and', 'other', 'information', ',', 'data', 'and', 'reports', 'in', 'ONTARIO’s', 'possession', 'or', 'control', 'relating', 'to', 'the', 'Land', 'and', 'the', 'Permits', '.']\n",
            "**********************************************************************************************************************************************************************************************************************************************************\n",
            "Sentence: 1.6 \"\"Effective Date\"\" means July 13, 2010 and as fully executed by ONTARIO and FOX.\n",
            "Tokens 19: ['1.6', '\"\"', 'Effective', 'Date', '\"\"', 'means', 'July', '13', ',', '2010', 'and', 'as', 'fully', 'executed', 'by', 'ONTARIO', 'and', 'FOX', '.']\n",
            "**********************************************************************************************************************************************************************************************************************************************************\n",
            "Sentence: 1.7 “Land” means the site, where the fixtures and improvements are located described in Exhibit A, Part 1, \n",
            "2.1 ONTARIO Shareholders.\n",
            "Tokens 25: ['1.7', '“Land”', 'means', 'the', 'site', ',', 'where', 'the', 'fixtures', 'and', 'improvements', 'are', 'located', 'described', 'in', 'Exhibit', 'A', ',', 'Part', '1', ',', '2.1', 'ONTARIO', 'Shareholders', '.']\n",
            "**********************************************************************************************************************************************************************************************************************************************************\n",
            "Sentence: Subject to all of the terms and conditions of this Agreement, the ONTARIO Shareholders agree to tender their respective shares of ONTARIO held of record to FOX.\n",
            "Tokens 29: ['Subject', 'to', 'all', 'of', 'the', 'terms', 'and', 'conditions', 'of', 'this', 'Agreement', ',', 'the', 'ONTARIO', 'Shareholders', 'agree', 'to', 'tender', 'their', 'respective', 'shares', 'of', 'ONTARIO', 'held', 'of', 'record', 'to', 'FOX', '.']\n",
            "**********************************************************************************************************************************************************************************************************************************************************\n",
            "Sentence: 2.2 Issuance of Shares.\n",
            "Tokens 5: ['2.2', 'Issuance', 'of', 'Shares', '.']\n",
            "**********************************************************************************************************************************************************************************************************************************************************\n",
            "Sentence: FOX agrees to issue to the ONTARIO Shareholders an aggregate of One Million Seven Hundred and Fifty Thousand (1,750,000) shares of its common stock to the ONTARIO Shareholders and to assume the ONTARIO Debt.\n",
            "Tokens 37: ['FOX', 'agrees', 'to', 'issue', 'to', 'the', 'ONTARIO', 'Shareholders', 'an', 'aggregate', 'of', 'One', 'Million', 'Seven', 'Hundred', 'and', 'Fifty', 'Thousand', '(', '1,750,000', ')', 'shares', 'of', 'its', 'common', 'stock', 'to', 'the', 'ONTARIO', 'Shareholders', 'and', 'to', 'assume', 'the', 'ONTARIO', 'Debt', '.']\n",
            "**********************************************************************************************************************************************************************************************************************************************************\n",
            "Sentence: 2.3 Assumption and Performance of Permits.\n",
            "Tokens 7: ['2.3', 'Assumption', 'and', 'Performance', 'of', 'Permits', '.']\n",
            "**********************************************************************************************************************************************************************************************************************************************************\n",
            "Sentence: ONTARIO shall continue to maintain and keep current all operating permits and licenses required to operate Plastics recycling Facility\n",
            "Tokens 19: ['ONTARIO', 'shall', 'continue', 'to', 'maintain', 'and', 'keep', 'current', 'all', 'operating', 'permits', 'and', 'licenses', 'required', 'to', 'operate', 'Plastics', 'recycling', 'Facility']\n",
            "**********************************************************************************************************************************************************************************************************************************************************\n",
            "Sentence: 3. Representations and Warranties of ONTARIO.\n",
            "Tokens 8: ['3', '.', 'Representations', 'and', 'Warranties', 'of', 'ONTARIO', '.']\n",
            "**********************************************************************************************************************************************************************************************************************************************************\n",
            "Sentence: ONTARIO represents and warrants to FOX the following:\n",
            "3.1 Organization and Authorization.\n",
            "Tokens 14: ['ONTARIO', 'represents', 'and', 'warrants', 'to', 'FOX', 'the', 'following', ':', '3.1', 'Organization', 'and', 'Authorization', '.']\n",
            "**********************************************************************************************************************************************************************************************************************************************************\n",
            "Sentence: ONTARIO is a corporation duly organized and validly existing and in good standing under the laws of the Ontario.\n",
            "Tokens 20: ['ONTARIO', 'is', 'a', 'corporation', 'duly', 'organized', 'and', 'validly', 'existing', 'and', 'in', 'good', 'standing', 'under', 'the', 'laws', 'of', 'the', 'Ontario', '.']\n",
            "**********************************************************************************************************************************************************************************************************************************************************\n",
            "Sentence: ONTARIO has the full power and authority to enter into this Agreement and to consummate the transactions contemplated under this Agreement.\n",
            "Tokens 22: ['ONTARIO', 'has', 'the', 'full', 'power', 'and', 'authority', 'to', 'enter', 'into', 'this', 'Agreement', 'and', 'to', 'consummate', 'the', 'transactions', 'contemplated', 'under', 'this', 'Agreement', '.']\n",
            "**********************************************************************************************************************************************************************************************************************************************************\n",
            "Sentence: The making and performance of this Agreement and the agreements and other instruments required to be executed by ONTARIO have been, or at the Closing will have been, duly authorized by all necessary corporate actions and will be duly executed by a person authorized by ONTARIO to do so.\n",
            "Tokens 52: ['The', 'making', 'and', 'performance', 'of', 'this', 'Agreement', 'and', 'the', 'agreements', 'and', 'other', 'instruments', 'required', 'to', 'be', 'executed', 'by', 'ONTARIO', 'have', 'been', ',', 'or', 'at', 'the', 'Closing', 'will', 'have', 'been', ',', 'duly', 'authorized', 'by', 'all', 'necessary', 'corporate', 'actions', 'and', 'will', 'be', 'duly', 'executed', 'by', 'a', 'person', 'authorized', 'by', 'ONTARIO', 'to', 'do', 'so', '.']\n",
            "**********************************************************************************************************************************************************************************************************************************************************\n",
            "Sentence: ONTARIO shall deliver to FOX duly approved and executed resolutions of the directors and shareholders approving ONTARIO’s execution and delivery of this Agreement and the performance of its obligations under this Agreement.\n",
            "Tokens 33: ['ONTARIO', 'shall', 'deliver', 'to', 'FOX', 'duly', 'approved', 'and', 'executed', 'resolutions', 'of', 'the', 'directors', 'and', 'shareholders', 'approving', 'ONTARIO’s', 'execution', 'and', 'delivery', 'of', 'this', 'Agreement', 'and', 'the', 'performance', 'of', 'its', 'obligations', 'under', 'this', 'Agreement', '.']\n",
            "**********************************************************************************************************************************************************************************************************************************************************\n",
            "Sentence: 3.2 No Breach of Laws or Contracts.\n",
            "Tokens 8: ['3.2', 'No', 'Breach', 'of', 'Laws', 'or', 'Contracts', '.']\n",
            "**********************************************************************************************************************************************************************************************************************************************************\n",
            "Sentence: The consummation by ONTARIO of the transactions contemplated by this Agreement will not result in the breach of any term or provision of, or constitute a default under any applicable law or regulation, its articles of organization or operating agreement, or under any other agreement or instrument to which ONTARIO is a party, by which it is bound, or which affects the Assets.\n",
            "Tokens 69: ['The', 'consummation', 'by', 'ONTARIO', 'of', 'the', 'transactions', 'contemplated', 'by', 'this', 'Agreement', 'will', 'not', 'result', 'in', 'the', 'breach', 'of', 'any', 'term', 'or', 'provision', 'of', ',', 'or', 'constitute', 'a', 'default', 'under', 'any', 'applicable', 'law', 'or', 'regulation', ',', 'its', 'articles', 'of', 'organization', 'or', 'operating', 'agreement', ',', 'or', 'under', 'any', 'other', 'agreement', 'or', 'instrument', 'to', 'which', 'ONTARIO', 'is', 'a', 'party', ',', 'by', 'which', 'it', 'is', 'bound', ',', 'or', 'which', 'affects', 'the', 'Assets', '.']\n",
            "**********************************************************************************************************************************************************************************************************************************************************\n",
            "Sentence: 3.3 Binding Obligations.\n",
            "Tokens 4: ['3.3', 'Binding', 'Obligations', '.']\n",
            "**********************************************************************************************************************************************************************************************************************************************************\n",
            "Sentence: When executed and delivered, this Agreement and all instruments executed and delivered by ONTARIO pursuant to this Agreement will constitute legal and binding obligations of ONTARIO and will be valid and enforceable in accordance with their respective terms.\n",
            "Tokens 40: ['When', 'executed', 'and', 'delivered', ',', 'this', 'Agreement', 'and', 'all', 'instruments', 'executed', 'and', 'delivered', 'by', 'ONTARIO', 'pursuant', 'to', 'this', 'Agreement', 'will', 'constitute', 'legal', 'and', 'binding', 'obligations', 'of', 'ONTARIO', 'and', 'will', 'be', 'valid', 'and', 'enforceable', 'in', 'accordance', 'with', 'their', 'respective', 'terms', '.']\n",
            "**********************************************************************************************************************************************************************************************************************************************************\n",
            "Sentence: 3.4 Compliance with Laws.\n",
            "Tokens 5: ['3.4', 'Compliance', 'with', 'Laws', '.']\n",
            "**********************************************************************************************************************************************************************************************************************************************************\n",
            "Sentence: ONTARIO has not received notice from any governmental agency, of any physical or environmental condition existing on the Land or any access to the Land or created by ONTARIO or of any action or failure to act by ONTARIO which is a material violation of any applicable law, regulation or ordinance.\n",
            "Tokens 54: ['ONTARIO', 'has', 'not', 'received', 'notice', 'from', 'any', 'governmental', 'agency', ',', 'of', 'any', 'physical', 'or', 'environmental', 'condition', 'existing', 'on', 'the', 'Land', 'or', 'any', 'access', 'to', 'the', 'Land', 'or', 'created', 'by', 'ONTARIO', 'or', 'of', 'any', 'action', 'or', 'failure', 'to', 'act', 'by', 'ONTARIO', 'which', 'is', 'a', 'material', 'violation', 'of', 'any', 'applicable', 'law', ',', 'regulation', 'or', 'ordinance', '.']\n",
            "**********************************************************************************************************************************************************************************************************************************************************\n",
            "Sentence: To ONTARIO’s knowledge, there are currently no off-site improvement requirements that any governmental authority has imposed or threatened to impose on the Land.\n",
            "Tokens 25: ['To', 'ONTARIO’s', 'knowledge', ',', 'there', 'are', 'currently', 'no', 'off-site', 'improvement', 'requirements', 'that', 'any', 'governmental', 'authority', 'has', 'imposed', 'or', 'threatened', 'to', 'impose', 'on', 'the', 'Land', '.']\n",
            "**********************************************************************************************************************************************************************************************************************************************************\n",
            "Sentence: 3.5 No Litigation.\n",
            "Tokens 4: ['3.5', 'No', 'Litigation', '.']\n",
            "**********************************************************************************************************************************************************************************************************************************************************\n",
            "Sentence: There is no suit, action, arbitration or legal, administrative or other proceeding or governmental investigation pending or, to the knowledge of ONTARIO without inquiry, threatened against, or affecting the Assets or the ability of ONTARIO to perform its covenants and obligations under this Agreement.\n",
            "Tokens 51: ['There', 'is', 'no', 'suit', ',', 'action', ',', 'arbitration', 'or', 'legal', ',', 'administrative', 'or', 'other', 'proceeding', 'or', 'governmental', 'investigation', 'pending', 'or', ',', 'to', 'the', 'knowledge', 'of', 'ONTARIO', 'without', 'inquiry', ',', 'threatened', 'against', ',', 'or', 'affecting', 'the', 'Assets', 'or', 'the', 'ability', 'of', 'ONTARIO', 'to', 'perform', 'its', 'covenants', 'and', 'obligations', 'under', 'this', 'Agreement', '.']\n",
            "**********************************************************************************************************************************************************************************************************************************************************\n",
            "Sentence: 3.6.1 Title to the Land.\n",
            "Tokens 6: ['3.6.1', 'Title', 'to', 'the', 'Land', '.']\n",
            "**********************************************************************************************************************************************************************************************************************************************************\n",
            "Sentence: ONTARIO represents and warrants that ONTARIO’s title to the Assets is good and marketable and on the Closing shall be free and clear of any lien, claim or encumbrance, except the following (the “Permitted Exceptions”):\n",
            "Tokens 39: ['ONTARIO', 'represents', 'and', 'warrants', 'that', 'ONTARIO’s', 'title', 'to', 'the', 'Assets', 'is', 'good', 'and', 'marketable', 'and', 'on', 'the', 'Closing', 'shall', 'be', 'free', 'and', 'clear', 'of', 'any', 'lien', ',', 'claim', 'or', 'encumbrance', ',', 'except', 'the', 'following', '(', 'the', '“Permitted', 'Exceptions”', '):']\n",
            "**********************************************************************************************************************************************************************************************************************************************************\n",
            "Sentence: (a) Liens for taxes and mortgages acknowledged by FOX on the Assets not yet due and payable or which are being contested in good faith;\n",
            "Tokens 28: ['(', 'a', ')', 'Liens', 'for', 'taxes', 'and', 'mortgages', 'acknowledged', 'by', 'FOX', 'on', 'the', 'Assets', 'not', 'yet', 'due', 'and', 'payable', 'or', 'which', 'are', 'being', 'contested', 'in', 'good', 'faith', ';']\n",
            "**********************************************************************************************************************************************************************************************************************************************************\n",
            "Sentence: (b) Any items listed in the Title Commitment or any amendment or update to the Title Commitment to which FOX does not timely deliver to ONTARIO a Notice of Objection pursuant to Section 3.9.5.\n",
            "Tokens 37: ['(', 'b', ')', 'Any', 'items', 'listed', 'in', 'the', 'Title', 'Commitment', 'or', 'any', 'amendment', 'or', 'update', 'to', 'the', 'Title', 'Commitment', 'to', 'which', 'FOX', 'does', 'not', 'timely', 'deliver', 'to', 'ONTARIO', 'a', 'Notice', 'of', 'Objection', 'pursuant', 'to', 'Section', '3.9.5', '.']\n",
            "**********************************************************************************************************************************************************************************************************************************************************\n",
            "Sentence: 3.6.2 Encroachments.\n",
            "Tokens 3: ['3.6.2', 'Encroachments', '.']\n",
            "**********************************************************************************************************************************************************************************************************************************************************\n",
            "Sentence: To ONTARIOS’s knowledge, the improvements on the Land lie entirely within the boundaries of the Land and no structure of any kind encroaches on or over the Land.\n",
            "Tokens 30: ['To', 'ONTARIOS’s', 'knowledge', ',', 'the', 'improvements', 'on', 'the', 'Land', 'lie', 'entirely', 'within', 'the', 'boundaries', 'of', 'the', 'Land', 'and', 'no', 'structure', 'of', 'any', 'kind', 'encroaches', 'on', 'or', 'over', 'the', 'Land', '.']\n",
            "**********************************************************************************************************************************************************************************************************************************************************\n",
            "Sentence: 3.6.3 Condemnation.\n",
            "Tokens 3: ['3.6.3', 'Condemnation', '.']\n",
            "**********************************************************************************************************************************************************************************************************************************************************\n",
            "Sentence: To ONTARIO’s knowledge, no portion of any of the Land or improvements on the Land is the subject of, or affected by, any condemnation or eminent domain proceeding.\n",
            "Tokens 32: ['To', 'ONTARIO’s', 'knowledge', ',', 'no', 'portion', 'of', 'any', 'of', 'the', 'Land', 'or', 'improvements', 'on', 'the', 'Land', 'is', 'the', 'subject', 'of', ',', 'or', 'affected', 'by', ',', 'any', 'condemnation', 'or', 'eminent', 'domain', 'proceeding', '.']\n",
            "**********************************************************************************************************************************************************************************************************************************************************\n",
            "Sentence: 3.6.5 Taxes.\n",
            "Tokens 3: ['3.6.5', 'Taxes', '.']\n",
            "**********************************************************************************************************************************************************************************************************************************************************\n",
            "Sentence: ONTARIO represents that all taxes, including without limitation, advalorem, property (both real and personal), production, severance, reclamation, and similar taxes and assessments based upon or measured by ownership of property or production of minerals or the receipt of proceeds there from which have become due and payable have been properly paid.\n",
            "Tokens 60: ['ONTARIO', 'represents', 'that', 'all', 'taxes', ',', 'including', 'without', 'limitation', ',', 'advalorem', ',', 'property', '(', 'both', 'real', 'and', 'personal', '),', 'production', ',', 'severance', ',', 'reclamation', ',', 'and', 'similar', 'taxes', 'and', 'assessments', 'based', 'upon', 'or', 'measured', 'by', 'ownership', 'of', 'property', 'or', 'production', 'of', 'minerals', 'or', 'the', 'receipt', 'of', 'proceeds', 'there', 'from', 'which', 'have', 'become', 'due', 'and', 'payable', 'have', 'been', 'properly', 'paid', '.']\n",
            "**********************************************************************************************************************************************************************************************************************************************************\n",
            "Sentence: FOX will not be liable for any taxes which accrue or are assessed before the Closing.\n",
            "Tokens 17: ['FOX', 'will', 'not', 'be', 'liable', 'for', 'any', 'taxes', 'which', 'accrue', 'or', 'are', 'assessed', 'before', 'the', 'Closing', '.']\n",
            "**********************************************************************************************************************************************************************************************************************************************************\n",
            "Sentence: To ONTARIOs’s knowledge, there are no pending or threatened special assessments affecting the Assets.\n",
            "Tokens 16: ['To', 'ONTARIOs’s', 'knowledge', ',', 'there', 'are', 'no', 'pending', 'or', 'threatened', 'special', 'assessments', 'affecting', 'the', 'Assets', '.']\n",
            "**********************************************************************************************************************************************************************************************************************************************************\n",
            "Sentence: 4. Representations and Warranties of FOX.\n",
            "Tokens 8: ['4', '.', 'Representations', 'and', 'Warranties', 'of', 'FOX', '.']\n",
            "**********************************************************************************************************************************************************************************************************************************************************\n",
            "Sentence: FOX agrees, represents and warrants to ONTARIO the following: \n",
            "4.1 No Breach of Law or Contracts.\n",
            "Tokens 19: ['FOX', 'agrees', ',', 'represents', 'and', 'warrants', 'to', 'ONTARIO', 'the', 'following', ':', '4.1', 'No', 'Breach', 'of', 'Law', 'or', 'Contracts', '.']\n",
            "**********************************************************************************************************************************************************************************************************************************************************\n",
            "Sentence: The consummation by FOX of the transactions contemplated by this Agreement will not result in a breach of any term or provision of, or constitute a default under any applicable law, regulation or ordinance or any other agreement or instrument to which FOX is a party or by which it is bound.\n",
            "Tokens 55: ['The', 'consummation', 'by', 'FOX', 'of', 'the', 'transactions', 'contemplated', 'by', 'this', 'Agreement', 'will', 'not', 'result', 'in', 'a', 'breach', 'of', 'any', 'term', 'or', 'provision', 'of', ',', 'or', 'constitute', 'a', 'default', 'under', 'any', 'applicable', 'law', ',', 'regulation', 'or', 'ordinance', 'or', 'any', 'other', 'agreement', 'or', 'instrument', 'to', 'which', 'FOX', 'is', 'a', 'party', 'or', 'by', 'which', 'it', 'is', 'bound', '.']\n",
            "**********************************************************************************************************************************************************************************************************************************************************\n",
            "Sentence: 4.2 Binding Obligations.\n",
            "Tokens 4: ['4.2', 'Binding', 'Obligations', '.']\n",
            "**********************************************************************************************************************************************************************************************************************************************************\n",
            "Sentence: When executed and delivered this Agreement and all instruments executed by FOX pursuant to this Agreement, will constitute legal and binding obligations of FOX and will be valid and enforceable in accordance with their respective terms.\n",
            "Tokens 38: ['When', 'executed', 'and', 'delivered', 'this', 'Agreement', 'and', 'all', 'instruments', 'executed', 'by', 'FOX', 'pursuant', 'to', 'this', 'Agreement', ',', 'will', 'constitute', 'legal', 'and', 'binding', 'obligations', 'of', 'FOX', 'and', 'will', 'be', 'valid', 'and', 'enforceable', 'in', 'accordance', 'with', 'their', 'respective', 'terms', '.']\n",
            "**********************************************************************************************************************************************************************************************************************************************************\n",
            "Sentence: 4.3 No Litigation.\n",
            "Tokens 4: ['4.3', 'No', 'Litigation', '.']\n",
            "**********************************************************************************************************************************************************************************************************************************************************\n",
            "Sentence: There is no suit, action, arbitration or legal, administrative or other proceeding or governmental investigation pending or, to the knowledge of FOX without inquiry, threatened against, or affecting the Assets or the ability of FOX to perform its covenants and obligations under this Agreement.\n",
            "Tokens 51: ['There', 'is', 'no', 'suit', ',', 'action', ',', 'arbitration', 'or', 'legal', ',', 'administrative', 'or', 'other', 'proceeding', 'or', 'governmental', 'investigation', 'pending', 'or', ',', 'to', 'the', 'knowledge', 'of', 'FOX', 'without', 'inquiry', ',', 'threatened', 'against', ',', 'or', 'affecting', 'the', 'Assets', 'or', 'the', 'ability', 'of', 'FOX', 'to', 'perform', 'its', 'covenants', 'and', 'obligations', 'under', 'this', 'Agreement', '.']\n",
            "**********************************************************************************************************************************************************************************************************************************************************\n",
            "Sentence: 4.4 Brokers.\n",
            "Tokens 3: ['4.4', 'Brokers', '.']\n",
            "**********************************************************************************************************************************************************************************************************************************************************\n",
            "Sentence: FOX has incurred no liability, contingent or otherwise, for broker's or finder's fees relating to the transactions contemplated by this Agreement.\n",
            "Tokens 24: ['FOX', 'has', 'incurred', 'no', 'liability', ',', 'contingent', 'or', 'otherwise', ',', 'for', \"broker's\", 'or', \"finder's\", 'fees', 'relating', 'to', 'the', 'transactions', 'contemplated', 'by', 'this', 'Agreement', '.']\n",
            "**********************************************************************************************************************************************************************************************************************************************************\n",
            "Sentence: 4.5 Assumption of Ontario Debt.\n",
            "Tokens 6: ['4.5', 'Assumption', 'of', 'Ontario', 'Debt', '.']\n",
            "**********************************************************************************************************************************************************************************************************************************************************\n",
            "Sentence: FOX agrees to assume the ONTARIO Debt and to further do and perform all acts and execute and deliver all documents and take all such other steps as may be necessary or desirable to give full effect to the repayment terms of the ONTARIO Debt.\n",
            "Tokens 46: ['FOX', 'agrees', 'to', 'assume', 'the', 'ONTARIO', 'Debt', 'and', 'to', 'further', 'do', 'and', 'perform', 'all', 'acts', 'and', 'execute', 'and', 'deliver', 'all', 'documents', 'and', 'take', 'all', 'such', 'other', 'steps', 'as', 'may', 'be', 'necessary', 'or', 'desirable', 'to', 'give', 'full', 'effect', 'to', 'the', 'repayment', 'terms', 'of', 'the', 'ONTARIO', 'Debt', '.']\n",
            "**********************************************************************************************************************************************************************************************************************************************************\n",
            "Sentence: 4.6 Organization and Authorization.\n",
            "Tokens 5: ['4.6', 'Organization', 'and', 'Authorization', '.']\n",
            "**********************************************************************************************************************************************************************************************************************************************************\n",
            "Sentence: FOX is a corporation duly organized and validly existing and in good standing under the laws of Nevada.\n",
            "Tokens 19: ['FOX', 'is', 'a', 'corporation', 'duly', 'organized', 'and', 'validly', 'existing', 'and', 'in', 'good', 'standing', 'under', 'the', 'laws', 'of', 'Nevada', '.']\n",
            "**********************************************************************************************************************************************************************************************************************************************************\n",
            "Sentence: FOX has the full power and authority to enter into this Agreement and to consummate the transactions contemplated under this Agreement.\n",
            "Tokens 22: ['FOX', 'has', 'the', 'full', 'power', 'and', 'authority', 'to', 'enter', 'into', 'this', 'Agreement', 'and', 'to', 'consummate', 'the', 'transactions', 'contemplated', 'under', 'this', 'Agreement', '.']\n",
            "**********************************************************************************************************************************************************************************************************************************************************\n",
            "Sentence: The making and performance of this Agreement and the agreements and other instruments required to be executed by FOX have been, or at the Closing will have been, duly authorized by all necessary corporate actions and will be duly executed by a person authorized by FOX to do so.\n",
            "Tokens 52: ['The', 'making', 'and', 'performance', 'of', 'this', 'Agreement', 'and', 'the', 'agreements', 'and', 'other', 'instruments', 'required', 'to', 'be', 'executed', 'by', 'FOX', 'have', 'been', ',', 'or', 'at', 'the', 'Closing', 'will', 'have', 'been', ',', 'duly', 'authorized', 'by', 'all', 'necessary', 'corporate', 'actions', 'and', 'will', 'be', 'duly', 'executed', 'by', 'a', 'person', 'authorized', 'by', 'FOX', 'to', 'do', 'so', '.']\n",
            "**********************************************************************************************************************************************************************************************************************************************************\n",
            "Sentence: 5.1.1 Maintenance of Property.\n",
            "Tokens 5: ['5.1.1', 'Maintenance', 'of', 'Property', '.']\n",
            "**********************************************************************************************************************************************************************************************************************************************************\n",
            "Sentence: Until the Closing, ONTARIO shall cause the Assets to be maintained and operated in a good and workmanlike manner, shall not partition the Assets,shall maintain insurance now in force with respect to the Assets, shall pay or cause to be paid all costs and expenses incurred in connection with this Agreement, shall keep the Underlying Agreements in full force and effect, and shall perform and comply with all of the conditions and covenants contained in same and all other agreements relating to the Assets.\n",
            "Tokens 90: ['Until', 'the', 'Closing', ',', 'ONTARIO', 'shall', 'cause', 'the', 'Assets', 'to', 'be', 'maintained', 'and', 'operated', 'in', 'a', 'good', 'and', 'workmanlike', 'manner', ',', 'shall', 'not', 'partition', 'the', 'Assets,shall', 'maintain', 'insurance', 'now', 'in', 'force', 'with', 'respect', 'to', 'the', 'Assets', ',', 'shall', 'pay', 'or', 'cause', 'to', 'be', 'paid', 'all', 'costs', 'and', 'expenses', 'incurred', 'in', 'connection', 'with', 'this', 'Agreement', ',', 'shall', 'keep', 'the', 'Underlying', 'Agreements', 'in', 'full', 'force', 'and', 'effect', ',', 'and', 'shall', 'perform', 'and', 'comply', 'with', 'all', 'of', 'the', 'conditions', 'and', 'covenants', 'contained', 'in', 'same', 'and', 'all', 'other', 'agreements', 'relating', 'to', 'the', 'Assets', '.']\n",
            "**********************************************************************************************************************************************************************************************************************************************************\n",
            "Sentence: 5.1.3 Copies of Agreements.\n",
            "Tokens 5: ['5.1.3', 'Copies', 'of', 'Agreements', '.']\n",
            "**********************************************************************************************************************************************************************************************************************************************************\n",
            "Sentence: ONTARIO has disclosed to FOX the existence of and has furnished FOX with copies of all agreements and contracts relating to the Assets, to the extent that MDP is aware of the existence of such agreements and contracts.\n",
            "Tokens 40: ['ONTARIO', 'has', 'disclosed', 'to', 'FOX', 'the', 'existence', 'of', 'and', 'has', 'furnished', 'FOX', 'with', 'copies', 'of', 'all', 'agreements', 'and', 'contracts', 'relating', 'to', 'the', 'Assets', ',', 'to', 'the', 'extent', 'that', 'MDP', 'is', 'aware', 'of', 'the', 'existence', 'of', 'such', 'agreements', 'and', 'contracts', '.']\n",
            "**********************************************************************************************************************************************************************************************************************************************************\n",
            "Sentence: 5.1.4 Notification of FOX of Suits, Litigation, Material Adverse Change, Etc.\n",
            "Tokens 15: ['5.1.4', 'Notification', 'of', 'FOX', 'of', 'Suits', ',', 'Litigation', ',', 'Material', 'Adverse', 'Change', ',', 'Etc', '.']\n",
            "**********************************************************************************************************************************************************************************************************************************************************\n",
            "Sentence: Until the Closing, ONTARIO promptly shall notify FOX of any suit, action, or other proceeding, actual or threatened, before any court, governmental agency or arbitrator and any cause of action or any other adverse change which relates to the Assets or which might result in impairment or loss of ONTARIO's title to any portion of the Assets or the value of the Assets or which might hinder or impede the operation of the Assets or which seeks to restrain or prohibit or to obtain substantial damages from ONTARIO in respect of, or which is related to or arises out of, this Agreement or the consummation of all or any part of the transactions contemplated under this Agreement of which ONTARIO becomes aware.\n",
            "Tokens 131: ['Until', 'the', 'Closing', ',', 'ONTARIO', 'promptly', 'shall', 'notify', 'FOX', 'of', 'any', 'suit', ',', 'action', ',', 'or', 'other', 'proceeding', ',', 'actual', 'or', 'threatened', ',', 'before', 'any', 'court', ',', 'governmental', 'agency', 'or', 'arbitrator', 'and', 'any', 'cause', 'of', 'action', 'or', 'any', 'other', 'adverse', 'change', 'which', 'relates', 'to', 'the', 'Assets', 'or', 'which', 'might', 'result', 'in', 'impairment', 'or', 'loss', 'of', \"ONTARIO's\", 'title', 'to', 'any', 'portion', 'of', 'the', 'Assets', 'or', 'the', 'value', 'of', 'the', 'Assets', 'or', 'which', 'might', 'hinder', 'or', 'impede', 'the', 'operation', 'of', 'the', 'Assets', 'or', 'which', 'seeks', 'to', 'restrain', 'or', 'prohibit', 'or', 'to', 'obtain', 'substantial', 'damages', 'from', 'ONTARIO', 'in', 'respect', 'of', ',', 'or', 'which', 'is', 'related', 'to', 'or', 'arises', 'out', 'of', ',', 'this', 'Agreement', 'or', 'the', 'consummation', 'of', 'all', 'or', 'any', 'part', 'of', 'the', 'transactions', 'contemplated', 'under', 'this', 'Agreement', 'of', 'which', 'ONTARIO', 'becomes', 'aware', '.']\n",
            "**********************************************************************************************************************************************************************************************************************************************************\n",
            "Sentence: 5.1.5 Agreement Not to Market the Assets.\n",
            "Tokens 8: ['5.1.5', 'Agreement', 'Not', 'to', 'Market', 'the', 'Assets', '.']\n",
            "**********************************************************************************************************************************************************************************************************************************************************\n",
            "Sentence: Until the Closing and thereafter if the Closing occurs, ONTARIO shall not assign, transfer, encumber or in any way dispose of any interest in or to the Shares to any other person or entity, or negotiate with any other person or entity with respect to the transfer or grant of any interest or option whatsoever in the Assets, except that ONTARIO may continue to sell aggregate, sand and gravel from the Assets in the ordinary course of ONTARIO’s business.\n",
            "Tokens 86: ['Until', 'the', 'Closing', 'and', 'thereafter', 'if', 'the', 'Closing', 'occurs', ',', 'ONTARIO', 'shall', 'not', 'assign', ',', 'transfer', ',', 'encumber', 'or', 'in', 'any', 'way', 'dispose', 'of', 'any', 'interest', 'in', 'or', 'to', 'the', 'Shares', 'to', 'any', 'other', 'person', 'or', 'entity', ',', 'or', 'negotiate', 'with', 'any', 'other', 'person', 'or', 'entity', 'with', 'respect', 'to', 'the', 'transfer', 'or', 'grant', 'of', 'any', 'interest', 'or', 'option', 'whatsoever', 'in', 'the', 'Assets', ',', 'except', 'that', 'ONTARIO', 'may', 'continue', 'to', 'sell', 'aggregate', ',', 'sand', 'and', 'gravel', 'from', 'the', 'Assets', 'in', 'the', 'ordinary', 'course', 'of', 'ONTARIO’s', 'business', '.']\n",
            "**********************************************************************************************************************************************************************************************************************************************************\n",
            "Sentence: These obligations of ONTARIO shall terminate before the Closing if and at such time as this Agreement is terminated as provided in Section\n",
            "Tokens 23: ['These', 'obligations', 'of', 'ONTARIO', 'shall', 'terminate', 'before', 'the', 'Closing', 'if', 'and', 'at', 'such', 'time', 'as', 'this', 'Agreement', 'is', 'terminated', 'as', 'provided', 'in', 'Section']\n",
            "**********************************************************************************************************************************************************************************************************************************************************\n",
            "Sentence: 8.  \n",
            "5.1.7 Permits and Underlying Agreements.\n",
            "Tokens 8: ['8', '.', '5.1.7', 'Permits', 'and', 'Underlying', 'Agreements', '.']\n",
            "**********************************************************************************************************************************************************************************************************************************************************\n",
            "Sentence: ONTARIO shall maintain the Permits and Underlying Agreements in full force and effect.\n",
            "Tokens 14: ['ONTARIO', 'shall', 'maintain', 'the', 'Permits', 'and', 'Underlying', 'Agreements', 'in', 'full', 'force', 'and', 'effect', '.']\n",
            "**********************************************************************************************************************************************************************************************************************************************************\n",
            "Sentence: 5.2.1 Maintenance and Confidentiality of Data.\n",
            "Tokens 7: ['5.2.1', 'Maintenance', 'and', 'Confidentiality', 'of', 'Data', '.']\n",
            "**********************************************************************************************************************************************************************************************************************************************************\n",
            "Sentence: Before the Closing, FOX shall exercise due diligence in safeguarding and maintaining all Data and keeping the Data confidential, except for such disclosure as reasonably deemed necessary by FOX for purposes of obtaining financing and such disclosures as counsel for either party may advise is legally required or an announcement which is required to be made to all governmental or regulatory agency, in which cases ONTARIO shall be given reasonable advance notice and the right to review and comment on same.\n",
            "Tokens 85: ['Before', 'the', 'Closing', ',', 'FOX', 'shall', 'exercise', 'due', 'diligence', 'in', 'safeguarding', 'and', 'maintaining', 'all', 'Data', 'and', 'keeping', 'the', 'Data', 'confidential', ',', 'except', 'for', 'such', 'disclosure', 'as', 'reasonably', 'deemed', 'necessary', 'by', 'FOX', 'for', 'purposes', 'of', 'obtaining', 'financing', 'and', 'such', 'disclosures', 'as', 'counsel', 'for', 'either', 'party', 'may', 'advise', 'is', 'legally', 'required', 'or', 'an', 'announcement', 'which', 'is', 'required', 'to', 'be', 'made', 'to', 'all', 'governmental', 'or', 'regulatory', 'agency', ',', 'in', 'which', 'cases', 'ONTARIO', 'shall', 'be', 'given', 'reasonable', 'advance', 'notice', 'and', 'the', 'right', 'to', 'review', 'and', 'comment', 'on', 'same', '.']\n",
            "**********************************************************************************************************************************************************************************************************************************************************\n",
            "Sentence: If the Closing does not occur, FOX’s obligation to maintain the confidentiality Data shall survive termination of this Agreement.\n",
            "Tokens 21: ['If', 'the', 'Closing', 'does', 'not', 'occur', ',', 'FOX’s', 'obligation', 'to', 'maintain', 'the', 'confidentiality', 'Data', 'shall', 'survive', 'termination', 'of', 'this', 'Agreement', '.']\n",
            "**********************************************************************************************************************************************************************************************************************************************************\n",
            "Sentence: 5.2.2 Maintenance of Representations and Warranties.\n",
            "Tokens 7: ['5.2.2', 'Maintenance', 'of', 'Representations', 'and', 'Warranties', '.']\n",
            "**********************************************************************************************************************************************************************************************************************************************************\n",
            "Sentence: FOX shall use its reasonable best efforts to cause all of the representations and warranties of FOX contained in this Agreement to be true and correct as of the Closing;\n",
            "Tokens 31: ['FOX', 'shall', 'use', 'its', 'reasonable', 'best', 'efforts', 'to', 'cause', 'all', 'of', 'the', 'representations', 'and', 'warranties', 'of', 'FOX', 'contained', 'in', 'this', 'Agreement', 'to', 'be', 'true', 'and', 'correct', 'as', 'of', 'the', 'Closing', ';']\n",
            "**********************************************************************************************************************************************************************************************************************************************************\n",
            "Sentence: provided, however, that nothing contained in this Section shall create an obligation of FOX to ONTARIO to pay money or undertake any additional legal obligation.\n",
            "Tokens 28: ['provided', ',', 'however', ',', 'that', 'nothing', 'contained', 'in', 'this', 'Section', 'shall', 'create', 'an', 'obligation', 'of', 'FOX', 'to', 'ONTARIO', 'to', 'pay', 'money', 'or', 'undertake', 'any', 'additional', 'legal', 'obligation', '.']\n",
            "**********************************************************************************************************************************************************************************************************************************************************\n",
            "Sentence: 6.1 Date and Place of Closing.\n",
            "Tokens 7: ['6.1', 'Date', 'and', 'Place', 'of', 'Closing', '.']\n",
            "**********************************************************************************************************************************************************************************************************************************************************\n",
            "Sentence: The parties will execute and deliver to each other a signed counterpart or copy of this Agreement as escrow instructions and such general conditions of escrow as requires.\n",
            "Tokens 29: ['The', 'parties', 'will', 'execute', 'and', 'deliver', 'to', 'each', 'other', 'a', 'signed', 'counterpart', 'or', 'copy', 'of', 'this', 'Agreement', 'as', 'escrow', 'instructions', 'and', 'such', 'general', 'conditions', 'of', 'escrow', 'as', 'requires', '.']\n",
            "**********************************************************************************************************************************************************************************************************************************************************\n",
            "Sentence: In the event of any conflict between the terms of this Agreement and the general conditions of the closing, the terms of this Agreement shall control.\n",
            "Tokens 28: ['In', 'the', 'event', 'of', 'any', 'conflict', 'between', 'the', 'terms', 'of', 'this', 'Agreement', 'and', 'the', 'general', 'conditions', 'of', 'the', 'closing', ',', 'the', 'terms', 'of', 'this', 'Agreement', 'shall', 'control', '.']\n",
            "**********************************************************************************************************************************************************************************************************************************************************\n",
            "Sentence: The Closing shall be held at a time mutually agreed upon by ONTARIO and FOX on the Closing Date, unless extended by the parties' agreement.\n",
            "Tokens 28: ['The', 'Closing', 'shall', 'be', 'held', 'at', 'a', 'time', 'mutually', 'agreed', 'upon', 'by', 'ONTARIO', 'and', 'FOX', 'on', 'the', 'Closing', 'Date', ',', 'unless', 'extended', 'by', 'the', 'parties', \"'\", 'agreement', '.']\n",
            "**********************************************************************************************************************************************************************************************************************************************************\n",
            "Sentence: The Closing will be held at the offices of the ONTARIO.\n",
            "Tokens 12: ['The', 'Closing', 'will', 'be', 'held', 'at', 'the', 'offices', 'of', 'the', 'ONTARIO', '.']\n",
            "**********************************************************************************************************************************************************************************************************************************************************\n",
            "Sentence: The Closing shall occur on or before June 25th, 2010.\n",
            "Tokens 12: ['The', 'Closing', 'shall', 'occur', 'on', 'or', 'before', 'June', '25th', ',', '2010', '.']\n",
            "**********************************************************************************************************************************************************************************************************************************************************\n"
          ]
        }
      ]
    },
    {
      "cell_type": "code",
      "source": [
        "sentences = res[0]['sentences']\n",
        "tokens = res[0]['tokens']\n",
        "\n",
        "total_token = 0\n",
        "total_sentences = \"\"\n",
        "final_sentences = []\n",
        "\n",
        "for i in range(len(sentences)):\n",
        "  sen_tokens = [x.result for x in tokens if x.metadata['sentence'] == str(i)]\n",
        "  total_token += len(sen_tokens)\n",
        "  if total_token <= 300:\n",
        "    total_sentences += sentences[i].result\n",
        "  elif total_token > 300:\n",
        "    print(f\"Tokens: {total_token-len(sen_tokens)}\")\n",
        "    total_token = len(sen_tokens)\n",
        "    final_sentences.append(total_sentences)\n",
        "    print(f\"Sentences: {total_sentences}\")\n",
        "    print(\"*\"*250)\n",
        "    total_sentences = \"\"\n",
        "    total_sentences += sentences[i].result\n",
        "\n",
        "final_sentences.append(total_sentences)\n"
      ],
      "metadata": {
        "id": "82CS1dIv-t3w",
        "outputId": "aa331c16-d83a-4b29-b3c4-b97596905ffc",
        "colab": {
          "base_uri": "https://localhost:8080/"
        }
      },
      "execution_count": null,
      "outputs": [
        {
          "output_type": "stream",
          "name": "stdout",
          "text": [
            "Tokens: 277\n",
            "Sentences: This Share Exchange Agreement (the \"\"Agreement\"\") is made and entered by and between 1536692 Ontario Inc. an Ontario Corporation, duly registered by the laws of Ontario, Canada and in good standing (“Ontario”), the shareholders of Ontario (the “Ontario Shareholders”) and Fox Petroleum Inc.(“Fox”), a Nevada corporation also duly registered and in good standing, effective as of July 15, 2010.A. ONTARIO is the owner of a Scrap Plastic processing plant with certain equipment, fixtures, and improvements, the assets, located in Xxxxxxxx, Xxxxxxx Xxxxxx, \n",
            "B. The ONTARIO Shareholders desire to exchange their shares of common stock held of record in ONTARIO representing 100% of the total issued and outstanding shares of ONTARIO and FOX desires to issue an aggregate of ________ shares of its common stock to the ONTARIO Shareholders;X. XXX further desires to assume an aggregate debt in the amount of $225,000.00 incurred by ONTARIO to Davfam Investments (1998) Ltd. during fiscal year 1995, as reflected in the financial books and records of ONTARIO (the “Ontario Debt”), which Ontario Debt has verbally established conversion terms;Now, therefore, in consideration of the parties' covenants and promises contained in this Agreement, and for other good and valuable consideration, the receipt and sufficiency of which the parties acknowledge the parties agree:1. Definitions.The following defined terms, wherever used in this Agreement, shall have the meanings described below: \n",
            "1.1 “Assets” means and includes:\n",
            "**********************************************************************************************************************************************************************************************************************************************************\n",
            "Tokens: 299\n",
            "Sentences: (a) the consulting business and operations\n",
            "1.2 “Shares” means all of the shares currently held by the shareholders of ONTARIO Polymers Inc.\n",
            "1.3 \"\"Closing\"\" means the delivery of documents to be executed and delivered by the parties, the deposit and delivery of the Purchase Price, as defined in this Agreement, and the consummation of the transactions contemplated under this Agreement.1.4 \"\"Closing Date\"\" means the date on which the Closing occurs as provided in Section 6.1.1.5 \"\"Data\"\" means environmental, title and other information, data and reports in ONTARIO’s possession or control relating to the Land and the Permits.1.6 \"\"Effective Date\"\" means July 13, 2010 and as fully executed by ONTARIO and FOX.1.7 “Land” means the site, where the fixtures and improvements are located described in Exhibit A, Part 1, \n",
            "2.1 ONTARIO Shareholders.Subject to all of the terms and conditions of this Agreement, the ONTARIO Shareholders agree to tender their respective shares of ONTARIO held of record to FOX.2.2 Issuance of Shares.FOX agrees to issue to the ONTARIO Shareholders an aggregate of One Million Seven Hundred and Fifty Thousand (1,750,000) shares of its common stock to the ONTARIO Shareholders and to assume the ONTARIO Debt.2.3 Assumption and Performance of Permits.ONTARIO shall continue to maintain and keep current all operating permits and licenses required to operate Plastics recycling Facility3. Representations and Warranties of ONTARIO.ONTARIO represents and warrants to FOX the following:\n",
            "3.1 Organization and Authorization.ONTARIO is a corporation duly organized and validly existing and in good standing under the laws of the Ontario.\n",
            "**********************************************************************************************************************************************************************************************************************************************************\n",
            "Tokens: 287\n",
            "Sentences: ONTARIO has the full power and authority to enter into this Agreement and to consummate the transactions contemplated under this Agreement.The making and performance of this Agreement and the agreements and other instruments required to be executed by ONTARIO have been, or at the Closing will have been, duly authorized by all necessary corporate actions and will be duly executed by a person authorized by ONTARIO to do so.ONTARIO shall deliver to FOX duly approved and executed resolutions of the directors and shareholders approving ONTARIO’s execution and delivery of this Agreement and the performance of its obligations under this Agreement.3.2 No Breach of Laws or Contracts.The consummation by ONTARIO of the transactions contemplated by this Agreement will not result in the breach of any term or provision of, or constitute a default under any applicable law or regulation, its articles of organization or operating agreement, or under any other agreement or instrument to which ONTARIO is a party, by which it is bound, or which affects the Assets.3.3 Binding Obligations.When executed and delivered, this Agreement and all instruments executed and delivered by ONTARIO pursuant to this Agreement will constitute legal and binding obligations of ONTARIO and will be valid and enforceable in accordance with their respective terms.3.4 Compliance with Laws.ONTARIO has not received notice from any governmental agency, of any physical or environmental condition existing on the Land or any access to the Land or created by ONTARIO or of any action or failure to act by ONTARIO which is a material violation of any applicable law, regulation or ordinance.\n",
            "**********************************************************************************************************************************************************************************************************************************************************\n",
            "Tokens: 261\n",
            "Sentences: To ONTARIO’s knowledge, there are currently no off-site improvement requirements that any governmental authority has imposed or threatened to impose on the Land.3.5 No Litigation.There is no suit, action, arbitration or legal, administrative or other proceeding or governmental investigation pending or, to the knowledge of ONTARIO without inquiry, threatened against, or affecting the Assets or the ability of ONTARIO to perform its covenants and obligations under this Agreement.3.6.1 Title to the Land.ONTARIO represents and warrants that ONTARIO’s title to the Assets is good and marketable and on the Closing shall be free and clear of any lien, claim or encumbrance, except the following (the “Permitted Exceptions”):(a) Liens for taxes and mortgages acknowledged by FOX on the Assets not yet due and payable or which are being contested in good faith;(b) Any items listed in the Title Commitment or any amendment or update to the Title Commitment to which FOX does not timely deliver to ONTARIO a Notice of Objection pursuant to Section 3.9.5.3.6.2 Encroachments.To ONTARIOS’s knowledge, the improvements on the Land lie entirely within the boundaries of the Land and no structure of any kind encroaches on or over the Land.3.6.3 Condemnation.To ONTARIO’s knowledge, no portion of any of the Land or improvements on the Land is the subject of, or affected by, any condemnation or eminent domain proceeding.3.6.5 Taxes.\n",
            "**********************************************************************************************************************************************************************************************************************************************************\n",
            "Tokens: 299\n",
            "Sentences: ONTARIO represents that all taxes, including without limitation, advalorem, property (both real and personal), production, severance, reclamation, and similar taxes and assessments based upon or measured by ownership of property or production of minerals or the receipt of proceeds there from which have become due and payable have been properly paid.FOX will not be liable for any taxes which accrue or are assessed before the Closing.To ONTARIOs’s knowledge, there are no pending or threatened special assessments affecting the Assets.4. Representations and Warranties of FOX.FOX agrees, represents and warrants to ONTARIO the following: \n",
            "4.1 No Breach of Law or Contracts.The consummation by FOX of the transactions contemplated by this Agreement will not result in a breach of any term or provision of, or constitute a default under any applicable law, regulation or ordinance or any other agreement or instrument to which FOX is a party or by which it is bound.4.2 Binding Obligations.When executed and delivered this Agreement and all instruments executed by FOX pursuant to this Agreement, will constitute legal and binding obligations of FOX and will be valid and enforceable in accordance with their respective terms.4.3 No Litigation.There is no suit, action, arbitration or legal, administrative or other proceeding or governmental investigation pending or, to the knowledge of FOX without inquiry, threatened against, or affecting the Assets or the ability of FOX to perform its covenants and obligations under this Agreement.4.4 Brokers.FOX has incurred no liability, contingent or otherwise, for broker's or finder's fees relating to the transactions contemplated by this Agreement.\n",
            "**********************************************************************************************************************************************************************************************************************************************************\n",
            "Tokens: 290\n",
            "Sentences: 4.5 Assumption of Ontario Debt.FOX agrees to assume the ONTARIO Debt and to further do and perform all acts and execute and deliver all documents and take all such other steps as may be necessary or desirable to give full effect to the repayment terms of the ONTARIO Debt.4.6 Organization and Authorization.FOX is a corporation duly organized and validly existing and in good standing under the laws of Nevada.FOX has the full power and authority to enter into this Agreement and to consummate the transactions contemplated under this Agreement.The making and performance of this Agreement and the agreements and other instruments required to be executed by FOX have been, or at the Closing will have been, duly authorized by all necessary corporate actions and will be duly executed by a person authorized by FOX to do so.5.1.1 Maintenance of Property.Until the Closing, ONTARIO shall cause the Assets to be maintained and operated in a good and workmanlike manner, shall not partition the Assets,shall maintain insurance now in force with respect to the Assets, shall pay or cause to be paid all costs and expenses incurred in connection with this Agreement, shall keep the Underlying Agreements in full force and effect, and shall perform and comply with all of the conditions and covenants contained in same and all other agreements relating to the Assets.5.1.3 Copies of Agreements.ONTARIO has disclosed to FOX the existence of and has furnished FOX with copies of all agreements and contracts relating to the Assets, to the extent that MDP is aware of the existence of such agreements and contracts.\n",
            "**********************************************************************************************************************************************************************************************************************************************************\n",
            "Tokens: 292\n",
            "Sentences: 5.1.4 Notification of FOX of Suits, Litigation, Material Adverse Change, Etc.Until the Closing, ONTARIO promptly shall notify FOX of any suit, action, or other proceeding, actual or threatened, before any court, governmental agency or arbitrator and any cause of action or any other adverse change which relates to the Assets or which might result in impairment or loss of ONTARIO's title to any portion of the Assets or the value of the Assets or which might hinder or impede the operation of the Assets or which seeks to restrain or prohibit or to obtain substantial damages from ONTARIO in respect of, or which is related to or arises out of, this Agreement or the consummation of all or any part of the transactions contemplated under this Agreement of which ONTARIO becomes aware.5.1.5 Agreement Not to Market the Assets.Until the Closing and thereafter if the Closing occurs, ONTARIO shall not assign, transfer, encumber or in any way dispose of any interest in or to the Shares to any other person or entity, or negotiate with any other person or entity with respect to the transfer or grant of any interest or option whatsoever in the Assets, except that ONTARIO may continue to sell aggregate, sand and gravel from the Assets in the ordinary course of ONTARIO’s business.These obligations of ONTARIO shall terminate before the Closing if and at such time as this Agreement is terminated as provided in Section8.  \n",
            "5.1.7 Permits and Underlying Agreements.ONTARIO shall maintain the Permits and Underlying Agreements in full force and effect.5.2.1 Maintenance and Confidentiality of Data.\n",
            "**********************************************************************************************************************************************************************************************************************************************************\n"
          ]
        }
      ]
    },
    {
      "cell_type": "code",
      "source": [
        "final_sentences"
      ],
      "metadata": {
        "id": "ossrOIqO_IHt",
        "outputId": "d9c466d2-5425-419b-9e49-83597a030c64",
        "colab": {
          "base_uri": "https://localhost:8080/"
        }
      },
      "execution_count": null,
      "outputs": [
        {
          "output_type": "execute_result",
          "data": {
            "text/plain": [
              "['This Share Exchange Agreement (the \"\"Agreement\"\") is made and entered by and between 1536692 Ontario Inc. an Ontario Corporation, duly registered by the laws of Ontario, Canada and in good standing (“Ontario”), the shareholders of Ontario (the “Ontario Shareholders”) and Fox Petroleum Inc.(“Fox”), a Nevada corporation also duly registered and in good standing, effective as of July 15, 2010.A. ONTARIO is the owner of a Scrap Plastic processing plant with certain equipment, fixtures, and improvements, the assets, located in Xxxxxxxx, Xxxxxxx Xxxxxx, \\nB. The ONTARIO Shareholders desire to exchange their shares of common stock held of record in ONTARIO representing 100% of the total issued and outstanding shares of ONTARIO and FOX desires to issue an aggregate of ________ shares of its common stock to the ONTARIO Shareholders;X. XXX further desires to assume an aggregate debt in the amount of $225,000.00 incurred by ONTARIO to Davfam Investments (1998) Ltd. during fiscal year 1995, as reflected in the financial books and records of ONTARIO (the “Ontario Debt”), which Ontario Debt has verbally established conversion terms;Now, therefore, in consideration of the parties\\' covenants and promises contained in this Agreement, and for other good and valuable consideration, the receipt and sufficiency of which the parties acknowledge the parties agree:1. Definitions.The following defined terms, wherever used in this Agreement, shall have the meanings described below: \\n1.1 “Assets” means and includes:',\n",
              " '(a) the consulting business and operations\\n1.2 “Shares” means all of the shares currently held by the shareholders of ONTARIO Polymers Inc.\\n1.3 \"\"Closing\"\" means the delivery of documents to be executed and delivered by the parties, the deposit and delivery of the Purchase Price, as defined in this Agreement, and the consummation of the transactions contemplated under this Agreement.1.4 \"\"Closing Date\"\" means the date on which the Closing occurs as provided in Section 6.1.1.5 \"\"Data\"\" means environmental, title and other information, data and reports in ONTARIO’s possession or control relating to the Land and the Permits.1.6 \"\"Effective Date\"\" means July 13, 2010 and as fully executed by ONTARIO and FOX.1.7 “Land” means the site, where the fixtures and improvements are located described in Exhibit A, Part 1, \\n2.1 ONTARIO Shareholders.Subject to all of the terms and conditions of this Agreement, the ONTARIO Shareholders agree to tender their respective shares of ONTARIO held of record to FOX.2.2 Issuance of Shares.FOX agrees to issue to the ONTARIO Shareholders an aggregate of One Million Seven Hundred and Fifty Thousand (1,750,000) shares of its common stock to the ONTARIO Shareholders and to assume the ONTARIO Debt.2.3 Assumption and Performance of Permits.ONTARIO shall continue to maintain and keep current all operating permits and licenses required to operate Plastics recycling Facility3. Representations and Warranties of ONTARIO.ONTARIO represents and warrants to FOX the following:\\n3.1 Organization and Authorization.ONTARIO is a corporation duly organized and validly existing and in good standing under the laws of the Ontario.',\n",
              " 'ONTARIO has the full power and authority to enter into this Agreement and to consummate the transactions contemplated under this Agreement.The making and performance of this Agreement and the agreements and other instruments required to be executed by ONTARIO have been, or at the Closing will have been, duly authorized by all necessary corporate actions and will be duly executed by a person authorized by ONTARIO to do so.ONTARIO shall deliver to FOX duly approved and executed resolutions of the directors and shareholders approving ONTARIO’s execution and delivery of this Agreement and the performance of its obligations under this Agreement.3.2 No Breach of Laws or Contracts.The consummation by ONTARIO of the transactions contemplated by this Agreement will not result in the breach of any term or provision of, or constitute a default under any applicable law or regulation, its articles of organization or operating agreement, or under any other agreement or instrument to which ONTARIO is a party, by which it is bound, or which affects the Assets.3.3 Binding Obligations.When executed and delivered, this Agreement and all instruments executed and delivered by ONTARIO pursuant to this Agreement will constitute legal and binding obligations of ONTARIO and will be valid and enforceable in accordance with their respective terms.3.4 Compliance with Laws.ONTARIO has not received notice from any governmental agency, of any physical or environmental condition existing on the Land or any access to the Land or created by ONTARIO or of any action or failure to act by ONTARIO which is a material violation of any applicable law, regulation or ordinance.',\n",
              " 'To ONTARIO’s knowledge, there are currently no off-site improvement requirements that any governmental authority has imposed or threatened to impose on the Land.3.5 No Litigation.There is no suit, action, arbitration or legal, administrative or other proceeding or governmental investigation pending or, to the knowledge of ONTARIO without inquiry, threatened against, or affecting the Assets or the ability of ONTARIO to perform its covenants and obligations under this Agreement.3.6.1 Title to the Land.ONTARIO represents and warrants that ONTARIO’s title to the Assets is good and marketable and on the Closing shall be free and clear of any lien, claim or encumbrance, except the following (the “Permitted Exceptions”):(a) Liens for taxes and mortgages acknowledged by FOX on the Assets not yet due and payable or which are being contested in good faith;(b) Any items listed in the Title Commitment or any amendment or update to the Title Commitment to which FOX does not timely deliver to ONTARIO a Notice of Objection pursuant to Section 3.9.5.3.6.2 Encroachments.To ONTARIOS’s knowledge, the improvements on the Land lie entirely within the boundaries of the Land and no structure of any kind encroaches on or over the Land.3.6.3 Condemnation.To ONTARIO’s knowledge, no portion of any of the Land or improvements on the Land is the subject of, or affected by, any condemnation or eminent domain proceeding.3.6.5 Taxes.',\n",
              " \"ONTARIO represents that all taxes, including without limitation, advalorem, property (both real and personal), production, severance, reclamation, and similar taxes and assessments based upon or measured by ownership of property or production of minerals or the receipt of proceeds there from which have become due and payable have been properly paid.FOX will not be liable for any taxes which accrue or are assessed before the Closing.To ONTARIOs’s knowledge, there are no pending or threatened special assessments affecting the Assets.4. Representations and Warranties of FOX.FOX agrees, represents and warrants to ONTARIO the following: \\n4.1 No Breach of Law or Contracts.The consummation by FOX of the transactions contemplated by this Agreement will not result in a breach of any term or provision of, or constitute a default under any applicable law, regulation or ordinance or any other agreement or instrument to which FOX is a party or by which it is bound.4.2 Binding Obligations.When executed and delivered this Agreement and all instruments executed by FOX pursuant to this Agreement, will constitute legal and binding obligations of FOX and will be valid and enforceable in accordance with their respective terms.4.3 No Litigation.There is no suit, action, arbitration or legal, administrative or other proceeding or governmental investigation pending or, to the knowledge of FOX without inquiry, threatened against, or affecting the Assets or the ability of FOX to perform its covenants and obligations under this Agreement.4.4 Brokers.FOX has incurred no liability, contingent or otherwise, for broker's or finder's fees relating to the transactions contemplated by this Agreement.\",\n",
              " '4.5 Assumption of Ontario Debt.FOX agrees to assume the ONTARIO Debt and to further do and perform all acts and execute and deliver all documents and take all such other steps as may be necessary or desirable to give full effect to the repayment terms of the ONTARIO Debt.4.6 Organization and Authorization.FOX is a corporation duly organized and validly existing and in good standing under the laws of Nevada.FOX has the full power and authority to enter into this Agreement and to consummate the transactions contemplated under this Agreement.The making and performance of this Agreement and the agreements and other instruments required to be executed by FOX have been, or at the Closing will have been, duly authorized by all necessary corporate actions and will be duly executed by a person authorized by FOX to do so.5.1.1 Maintenance of Property.Until the Closing, ONTARIO shall cause the Assets to be maintained and operated in a good and workmanlike manner, shall not partition the Assets,shall maintain insurance now in force with respect to the Assets, shall pay or cause to be paid all costs and expenses incurred in connection with this Agreement, shall keep the Underlying Agreements in full force and effect, and shall perform and comply with all of the conditions and covenants contained in same and all other agreements relating to the Assets.5.1.3 Copies of Agreements.ONTARIO has disclosed to FOX the existence of and has furnished FOX with copies of all agreements and contracts relating to the Assets, to the extent that MDP is aware of the existence of such agreements and contracts.',\n",
              " \"5.1.4 Notification of FOX of Suits, Litigation, Material Adverse Change, Etc.Until the Closing, ONTARIO promptly shall notify FOX of any suit, action, or other proceeding, actual or threatened, before any court, governmental agency or arbitrator and any cause of action or any other adverse change which relates to the Assets or which might result in impairment or loss of ONTARIO's title to any portion of the Assets or the value of the Assets or which might hinder or impede the operation of the Assets or which seeks to restrain or prohibit or to obtain substantial damages from ONTARIO in respect of, or which is related to or arises out of, this Agreement or the consummation of all or any part of the transactions contemplated under this Agreement of which ONTARIO becomes aware.5.1.5 Agreement Not to Market the Assets.Until the Closing and thereafter if the Closing occurs, ONTARIO shall not assign, transfer, encumber or in any way dispose of any interest in or to the Shares to any other person or entity, or negotiate with any other person or entity with respect to the transfer or grant of any interest or option whatsoever in the Assets, except that ONTARIO may continue to sell aggregate, sand and gravel from the Assets in the ordinary course of ONTARIO’s business.These obligations of ONTARIO shall terminate before the Closing if and at such time as this Agreement is terminated as provided in Section8.  \\n5.1.7 Permits and Underlying Agreements.ONTARIO shall maintain the Permits and Underlying Agreements in full force and effect.5.2.1 Maintenance and Confidentiality of Data.\",\n",
              " \"Before the Closing, FOX shall exercise due diligence in safeguarding and maintaining all Data and keeping the Data confidential, except for such disclosure as reasonably deemed necessary by FOX for purposes of obtaining financing and such disclosures as counsel for either party may advise is legally required or an announcement which is required to be made to all governmental or regulatory agency, in which cases ONTARIO shall be given reasonable advance notice and the right to review and comment on same.If the Closing does not occur, FOX’s obligation to maintain the confidentiality Data shall survive termination of this Agreement.5.2.2 Maintenance of Representations and Warranties.FOX shall use its reasonable best efforts to cause all of the representations and warranties of FOX contained in this Agreement to be true and correct as of the Closing;provided, however, that nothing contained in this Section shall create an obligation of FOX to ONTARIO to pay money or undertake any additional legal obligation.6.1 Date and Place of Closing.The parties will execute and deliver to each other a signed counterpart or copy of this Agreement as escrow instructions and such general conditions of escrow as requires.In the event of any conflict between the terms of this Agreement and the general conditions of the closing, the terms of this Agreement shall control.The Closing shall be held at a time mutually agreed upon by ONTARIO and FOX on the Closing Date, unless extended by the parties' agreement.The Closing will be held at the offices of the ONTARIO.The Closing shall occur on or before June 25th, 2010.\"]"
            ]
          },
          "metadata": {},
          "execution_count": 9
        }
      ]
    },
    {
      "cell_type": "code",
      "source": [
        "document_assembler = nlp.DocumentAssembler()\\\n",
        "    .setInputCol(\"text\")\\\n",
        "    .setOutputCol(\"documents\")\n",
        "\n",
        "flant5 = legal.Summarizer().pretrained('legsum_flant5_legal_augmented','en','legal/models')\\\n",
        "    .setInputCols([\"documents\"])\\\n",
        "    .setOutputCol(\"summary\")\\\n",
        "    .setMaxTextLength(512)\\\n",
        "    .setMaxNewTokens(512)\n",
        "\n",
        "pipeline = nlp.Pipeline(stages=[document_assembler, \n",
        "                                flant5])\n",
        "\n",
        "data = spark.createDataFrame([[1, \" \"]]).toDF('id', 'text')\n",
        "\n",
        "model = pipeline.fit(data)\n",
        "light_model = nlp.LightPipeline(model)\n",
        "\n",
        "light_result = light_model.annotate(final_sentences)"
      ],
      "metadata": {
        "id": "WQzvkG0J_IdC"
      },
      "execution_count": null,
      "outputs": []
    },
    {
      "cell_type": "code",
      "source": [
        "light_result"
      ],
      "metadata": {
        "id": "gDzGASVNAAHT",
        "outputId": "71e5a0ad-aa10-4150-dd89-265d00aeec72",
        "colab": {
          "base_uri": "https://localhost:8080/"
        }
      },
      "execution_count": null,
      "outputs": [
        {
          "output_type": "execute_result",
          "data": {
            "text/plain": [
              "[{'documents': ['This Share Exchange Agreement (the \"\"Agreement\"\") is made and entered by and between 1536692 Ontario Inc. an Ontario Corporation, duly registered by the laws of Ontario, Canada and in good standing (“Ontario”), the shareholders of Ontario (the “Ontario Shareholders”) and Fox Petroleum Inc.(“Fox”), a Nevada corporation also duly registered and in good standing, effective as of July 15, 2010.A. ONTARIO is the owner of a Scrap Plastic processing plant with certain equipment, fixtures, and improvements, the assets, located in Xxxxxxxx, Xxxxxxx Xxxxxx, \\nB. The ONTARIO Shareholders desire to exchange their shares of common stock held of record in ONTARIO representing 100% of the total issued and outstanding shares of ONTARIO and FOX desires to issue an aggregate of ________ shares of its common stock to the ONTARIO Shareholders;X. XXX further desires to assume an aggregate debt in the amount of $225,000.00 incurred by ONTARIO to Davfam Investments (1998) Ltd. during fiscal year 1995, as reflected in the financial books and records of ONTARIO (the “Ontario Debt”), which Ontario Debt has verbally established conversion terms;Now, therefore, in consideration of the parties\\' covenants and promises contained in this Agreement, and for other good and valuable consideration, the receipt and sufficiency of which the parties acknowledge the parties agree:1. Definitions.The following defined terms, wherever used in this Agreement, shall have the meanings described below: \\n1.1 “Assets” means and includes:'],\n",
              "  'summary': [\"This agreement is between Ontario Inc., an Ontario Corporation, and Fox Petroleum Inc., a Nevada Corporation. Ontario is the owner of a Scrap Plastic processing plant with certain equipment, fixtures, and improvements, the assets, located in Xxxxxxxx, Xxxxxxx Xxxxxx, B. The Ontario Shareholders desire to exchange their shares of common stock held of record in Ontario representing 100% of the total issued and outstanding shares of Ontario and Fox desires to issue an aggregate of ________ shares of Fox's common stock to the Ontario Shareholders. Fox also desires to assume an aggregate debt in the amount of $225,000.00 incurred by Ontario to Davfam Investments (1998) Ltd. during fiscal year 1995.\"]},\n",
              " {'documents': ['(a) the consulting business and operations\\n1.2 “Shares” means all of the shares currently held by the shareholders of ONTARIO Polymers Inc.\\n1.3 \"\"Closing\"\" means the delivery of documents to be executed and delivered by the parties, the deposit and delivery of the Purchase Price, as defined in this Agreement, and the consummation of the transactions contemplated under this Agreement.1.4 \"\"Closing Date\"\" means the date on which the Closing occurs as provided in Section 6.1.1.5 \"\"Data\"\" means environmental, title and other information, data and reports in ONTARIO’s possession or control relating to the Land and the Permits.1.6 \"\"Effective Date\"\" means July 13, 2010 and as fully executed by ONTARIO and FOX.1.7 “Land” means the site, where the fixtures and improvements are located described in Exhibit A, Part 1, \\n2.1 ONTARIO Shareholders.Subject to all of the terms and conditions of this Agreement, the ONTARIO Shareholders agree to tender their respective shares of ONTARIO held of record to FOX.2.2 Issuance of Shares.FOX agrees to issue to the ONTARIO Shareholders an aggregate of One Million Seven Hundred and Fifty Thousand (1,750,000) shares of its common stock to the ONTARIO Shareholders and to assume the ONTARIO Debt.2.3 Assumption and Performance of Permits.ONTARIO shall continue to maintain and keep current all operating permits and licenses required to operate Plastics recycling Facility3. Representations and Warranties of ONTARIO.ONTARIO represents and warrants to FOX the following:\\n3.1 Organization and Authorization.ONTARIO is a corporation duly organized and validly existing and in good standing under the laws of the Ontario.'],\n",
              "  'summary': ['This legal agreement outlines the consulting business and operations of Ontario Polymers Inc. The agreement outlines the delivery of documents, deposit and delivery of the Purchase Price, and the consummation of the transactions contemplated under the agreement. It also outlines the date on which the closing occurs, the data, and the land. The Ontario Shareholders agree to tender their shares of Ontario held of record to Fox, and Fox will issue 1,750,000 shares of its common stock to the Ontario Shareholders and to assume the Ontario Debt. Ontario also represents and warrants that it is a corporation duly organized and validly existing and in good standing under the laws of the Ontario.']},\n",
              " {'documents': ['ONTARIO has the full power and authority to enter into this Agreement and to consummate the transactions contemplated under this Agreement.The making and performance of this Agreement and the agreements and other instruments required to be executed by ONTARIO have been, or at the Closing will have been, duly authorized by all necessary corporate actions and will be duly executed by a person authorized by ONTARIO to do so.ONTARIO shall deliver to FOX duly approved and executed resolutions of the directors and shareholders approving ONTARIO’s execution and delivery of this Agreement and the performance of its obligations under this Agreement.3.2 No Breach of Laws or Contracts.The consummation by ONTARIO of the transactions contemplated by this Agreement will not result in the breach of any term or provision of, or constitute a default under any applicable law or regulation, its articles of organization or operating agreement, or under any other agreement or instrument to which ONTARIO is a party, by which it is bound, or which affects the Assets.3.3 Binding Obligations.When executed and delivered, this Agreement and all instruments executed and delivered by ONTARIO pursuant to this Agreement will constitute legal and binding obligations of ONTARIO and will be valid and enforceable in accordance with their respective terms.3.4 Compliance with Laws.ONTARIO has not received notice from any governmental agency, of any physical or environmental condition existing on the Land or any access to the Land or created by ONTARIO or of any action or failure to act by ONTARIO which is a material violation of any applicable law, regulation or ordinance.'],\n",
              "  'summary': ['Ontario has the full power and authority to enter into this agreement and to consummate the transactions contemplated under it. The making and performance of this agreement and the agreements and other instruments required to be executed by Ontario have been authorized by all necessary corporate actions and will be duly executed by a person authorized by Ontario to do so. Ontario will deliver to Fox duly approved and executed resolutions of the directors and shareholders approving Ontario’s execution and delivery of this agreement and the performance of its obligations under this agreement. The consummation of the transactions will not result in the breach of any term or provision of, or constitute a default under any applicable law or regulation, its articles of organization or operating agreement, or under any other agreement or instrument to which Ontario is a party, by which it is bound, or which affects the Assets. This agreement and all instruments executed and delivered by Ontario pursuant to this Agreement will constitute legal and binding obligations of Ontario and will be valid and enforceable in accordance with their respective terms. Ontario has not received notice from any governmental agency, of any physical or environmental condition existing on the Land or any access to the Land or created by Ontario or of any action or failure to act by Ontario which is a material violation of any applicable law, regulation or ordinance.']},\n",
              " {'documents': ['To ONTARIO’s knowledge, there are currently no off-site improvement requirements that any governmental authority has imposed or threatened to impose on the Land.3.5 No Litigation.There is no suit, action, arbitration or legal, administrative or other proceeding or governmental investigation pending or, to the knowledge of ONTARIO without inquiry, threatened against, or affecting the Assets or the ability of ONTARIO to perform its covenants and obligations under this Agreement.3.6.1 Title to the Land.ONTARIO represents and warrants that ONTARIO’s title to the Assets is good and marketable and on the Closing shall be free and clear of any lien, claim or encumbrance, except the following (the “Permitted Exceptions”):(a) Liens for taxes and mortgages acknowledged by FOX on the Assets not yet due and payable or which are being contested in good faith;(b) Any items listed in the Title Commitment or any amendment or update to the Title Commitment to which FOX does not timely deliver to ONTARIO a Notice of Objection pursuant to Section 3.9.5.3.6.2 Encroachments.To ONTARIOS’s knowledge, the improvements on the Land lie entirely within the boundaries of the Land and no structure of any kind encroaches on or over the Land.3.6.3 Condemnation.To ONTARIO’s knowledge, no portion of any of the Land or improvements on the Land is the subject of, or affected by, any condemnation or eminent domain proceeding.3.6.5 Taxes.'],\n",
              "  'summary': [\"Ontario has no off-site improvement requirements that any governmental authority has imposed or threatened to impose on the Land, and there are no pending or threatened legal proceedings or governmental investigations pending or threatened against the Assets or the ability of Ontario to perform its covenants and obligations under this Agreement. Ontario's title to the Assets is good and marketable and on the Closing shall be free and clear of any lien, claim or encumbrance, except for liens for taxes and mortgages acknowledged by Fox on the Assets not yet due and payable or which are being contested in good faith. The improvements on the Land lie entirely within the boundaries of the Land and no structure of any kind encroaches on or over the Land. No portion of any of the Land or improvements on the Land is the subject of, or affected by, any condemnation or eminent domain proceeding.\"]},\n",
              " {'documents': [\"ONTARIO represents that all taxes, including without limitation, advalorem, property (both real and personal), production, severance, reclamation, and similar taxes and assessments based upon or measured by ownership of property or production of minerals or the receipt of proceeds there from which have become due and payable have been properly paid.FOX will not be liable for any taxes which accrue or are assessed before the Closing.To ONTARIOs’s knowledge, there are no pending or threatened special assessments affecting the Assets.4. Representations and Warranties of FOX.FOX agrees, represents and warrants to ONTARIO the following: \\n4.1 No Breach of Law or Contracts.The consummation by FOX of the transactions contemplated by this Agreement will not result in a breach of any term or provision of, or constitute a default under any applicable law, regulation or ordinance or any other agreement or instrument to which FOX is a party or by which it is bound.4.2 Binding Obligations.When executed and delivered this Agreement and all instruments executed by FOX pursuant to this Agreement, will constitute legal and binding obligations of FOX and will be valid and enforceable in accordance with their respective terms.4.3 No Litigation.There is no suit, action, arbitration or legal, administrative or other proceeding or governmental investigation pending or, to the knowledge of FOX without inquiry, threatened against, or affecting the Assets or the ability of FOX to perform its covenants and obligations under this Agreement.4.4 Brokers.FOX has incurred no liability, contingent or otherwise, for broker's or finder's fees relating to the transactions contemplated by this Agreement.\"],\n",
              "  'summary': [\"Ontario represents that all taxes, including advalorem, property, production, severance, reclamation, and similar taxes and assessments based upon or measured by ownership of property or production of minerals or the receipt of proceeds there from which have become due and payable have been properly paid. Fox agrees to not be liable for any taxes which accrue or are assessed before the Closing. Fox also represents and warrants that the consummation by Fox of the transactions will not result in a breach of any term or provision of, or constitute a default under any applicable law, regulation or ordinance or any other agreement or instrument to which Fox is a party or by which it is bound. There is no suit, action, arbitration or legal, administrative or other proceeding or governmental investigation pending or, to the knowledge of FOX without inquiry, threatened against, or affecting the Assets or the ability of FOX to perform its covenants and obligations under this Agreement. Fox has incurred no liability, contingent or otherwise, for broker's or finder's fees relating to the transactions contemplated by this Agreement.\"]},\n",
              " {'documents': ['4.5 Assumption of Ontario Debt.FOX agrees to assume the ONTARIO Debt and to further do and perform all acts and execute and deliver all documents and take all such other steps as may be necessary or desirable to give full effect to the repayment terms of the ONTARIO Debt.4.6 Organization and Authorization.FOX is a corporation duly organized and validly existing and in good standing under the laws of Nevada.FOX has the full power and authority to enter into this Agreement and to consummate the transactions contemplated under this Agreement.The making and performance of this Agreement and the agreements and other instruments required to be executed by FOX have been, or at the Closing will have been, duly authorized by all necessary corporate actions and will be duly executed by a person authorized by FOX to do so.5.1.1 Maintenance of Property.Until the Closing, ONTARIO shall cause the Assets to be maintained and operated in a good and workmanlike manner, shall not partition the Assets,shall maintain insurance now in force with respect to the Assets, shall pay or cause to be paid all costs and expenses incurred in connection with this Agreement, shall keep the Underlying Agreements in full force and effect, and shall perform and comply with all of the conditions and covenants contained in same and all other agreements relating to the Assets.5.1.3 Copies of Agreements.ONTARIO has disclosed to FOX the existence of and has furnished FOX with copies of all agreements and contracts relating to the Assets, to the extent that MDP is aware of the existence of such agreements and contracts.'],\n",
              "  'summary': ['Fox agrees to assume the Ontario Debt and to do and perform all acts and execute and deliver all documents and take all other steps necessary to give full effect to the repayment terms of the Ontario Debt. Fox is a corporation duly organized and validly existing and in good standing under the laws of Nevada, and has the full power and authority to enter into this Agreement and to consummate the transactions contemplated under this Agreement. Ontario shall cause the Assets to be maintained and operated in a good and workmanlike manner, shall not partition the Assets, shall maintain insurance now in force with respect to the Assets, shall pay or cause to be paid all costs and expenses incurred in connection with this Agreement, shall keep the Underlying Agreements in full force and effect, and shall perform and comply with all of the conditions and covenants contained in same and all other agreements relating to the Assets. Ontario has disclosed to Fox the existence of and has furnished Fox with copies of all agreements and contracts relating to the Assets, to the extent that MDP is aware of the existence of such agreements and contracts.']},\n",
              " {'documents': [\"5.1.4 Notification of FOX of Suits, Litigation, Material Adverse Change, Etc.Until the Closing, ONTARIO promptly shall notify FOX of any suit, action, or other proceeding, actual or threatened, before any court, governmental agency or arbitrator and any cause of action or any other adverse change which relates to the Assets or which might result in impairment or loss of ONTARIO's title to any portion of the Assets or the value of the Assets or which might hinder or impede the operation of the Assets or which seeks to restrain or prohibit or to obtain substantial damages from ONTARIO in respect of, or which is related to or arises out of, this Agreement or the consummation of all or any part of the transactions contemplated under this Agreement of which ONTARIO becomes aware.5.1.5 Agreement Not to Market the Assets.Until the Closing and thereafter if the Closing occurs, ONTARIO shall not assign, transfer, encumber or in any way dispose of any interest in or to the Shares to any other person or entity, or negotiate with any other person or entity with respect to the transfer or grant of any interest or option whatsoever in the Assets, except that ONTARIO may continue to sell aggregate, sand and gravel from the Assets in the ordinary course of ONTARIO’s business.These obligations of ONTARIO shall terminate before the Closing if and at such time as this Agreement is terminated as provided in Section8.  \\n5.1.7 Permits and Underlying Agreements.ONTARIO shall maintain the Permits and Underlying Agreements in full force and effect.5.2.1 Maintenance and Confidentiality of Data.\"],\n",
              "  'summary': [\"This legal agreement states that Ontario must promptly notify Fox of any suits, actions, or other proceedings that might result in impairment or loss of Ontario's title to any portion of the Assets or the value of the Assets, or which might hinder or impede the operation of the Assets. Ontario must also not assign, transfer, encumber, or dispose of any interest in or to the Shares to any other person or entity, or negotiate with any other person or entity with respect to the transfer or grant of any interest or option whatsoever in the Assets, except that Ontario may continue to sell aggregate, sand and gravel from the Assets in the ordinary course of ONTARIO’s business. Ontario must also maintain the permits and underlying agreements in full force and effect, and maintain the confidentiality of data.\"]},\n",
              " {'documents': [\"Before the Closing, FOX shall exercise due diligence in safeguarding and maintaining all Data and keeping the Data confidential, except for such disclosure as reasonably deemed necessary by FOX for purposes of obtaining financing and such disclosures as counsel for either party may advise is legally required or an announcement which is required to be made to all governmental or regulatory agency, in which cases ONTARIO shall be given reasonable advance notice and the right to review and comment on same.If the Closing does not occur, FOX’s obligation to maintain the confidentiality Data shall survive termination of this Agreement.5.2.2 Maintenance of Representations and Warranties.FOX shall use its reasonable best efforts to cause all of the representations and warranties of FOX contained in this Agreement to be true and correct as of the Closing;provided, however, that nothing contained in this Section shall create an obligation of FOX to ONTARIO to pay money or undertake any additional legal obligation.6.1 Date and Place of Closing.The parties will execute and deliver to each other a signed counterpart or copy of this Agreement as escrow instructions and such general conditions of escrow as requires.In the event of any conflict between the terms of this Agreement and the general conditions of the closing, the terms of this Agreement shall control.The Closing shall be held at a time mutually agreed upon by ONTARIO and FOX on the Closing Date, unless extended by the parties' agreement.The Closing will be held at the offices of the ONTARIO.The Closing shall occur on or before June 25th, 2010.\"],\n",
              "  'summary': [\"This legal agreement states that Fox must exercise due diligence in safeguarding and maintaining all data and keeping the data confidential, except for disclosures necessary for purposes of obtaining financing and announcements required to be made to all governmental or regulatory agencies. Fox must also use its reasonable best efforts to cause all of the representations and warranties of Fox contained in this Agreement to be true and correct as of the Closing. The Closing will take place at a mutually agreed upon time by ONTARIO and FOX on the Closing Date, unless extended by the parties' agreement. The Closing will occur on or before June 25th, 2010.\"]}]"
            ]
          },
          "metadata": {},
          "execution_count": 11
        }
      ]
    },
    {
      "cell_type": "code",
      "source": [
        "final_sentences = []\n",
        "for item in light_result:\n",
        "    final_sentences.append(item['summary'][0])"
      ],
      "metadata": {
        "id": "7E0spT5BAAJv"
      },
      "execution_count": null,
      "outputs": []
    },
    {
      "cell_type": "code",
      "source": [
        "final_sentences"
      ],
      "metadata": {
        "id": "F9j30oLpAAL6",
        "outputId": "0f0017a5-3d28-4ee0-e424-d8a6f5ecf8a8",
        "colab": {
          "base_uri": "https://localhost:8080/"
        }
      },
      "execution_count": null,
      "outputs": [
        {
          "output_type": "execute_result",
          "data": {
            "text/plain": [
              "[\"This agreement is between Ontario Inc., an Ontario Corporation, and Fox Petroleum Inc., a Nevada Corporation. Ontario is the owner of a Scrap Plastic processing plant with certain equipment, fixtures, and improvements, the assets, located in Xxxxxxxx, Xxxxxxx Xxxxxx, B. The Ontario Shareholders desire to exchange their shares of common stock held of record in Ontario representing 100% of the total issued and outstanding shares of Ontario and Fox desires to issue an aggregate of ________ shares of Fox's common stock to the Ontario Shareholders. Fox also desires to assume an aggregate debt in the amount of $225,000.00 incurred by Ontario to Davfam Investments (1998) Ltd. during fiscal year 1995.\",\n",
              " 'This legal agreement outlines the consulting business and operations of Ontario Polymers Inc. The agreement outlines the delivery of documents, deposit and delivery of the Purchase Price, and the consummation of the transactions contemplated under the agreement. It also outlines the date on which the closing occurs, the data, and the land. The Ontario Shareholders agree to tender their shares of Ontario held of record to Fox, and Fox will issue 1,750,000 shares of its common stock to the Ontario Shareholders and to assume the Ontario Debt. Ontario also represents and warrants that it is a corporation duly organized and validly existing and in good standing under the laws of the Ontario.',\n",
              " 'Ontario has the full power and authority to enter into this agreement and to consummate the transactions contemplated under it. The making and performance of this agreement and the agreements and other instruments required to be executed by Ontario have been authorized by all necessary corporate actions and will be duly executed by a person authorized by Ontario to do so. Ontario will deliver to Fox duly approved and executed resolutions of the directors and shareholders approving Ontario’s execution and delivery of this agreement and the performance of its obligations under this agreement. The consummation of the transactions will not result in the breach of any term or provision of, or constitute a default under any applicable law or regulation, its articles of organization or operating agreement, or under any other agreement or instrument to which Ontario is a party, by which it is bound, or which affects the Assets. This agreement and all instruments executed and delivered by Ontario pursuant to this Agreement will constitute legal and binding obligations of Ontario and will be valid and enforceable in accordance with their respective terms. Ontario has not received notice from any governmental agency, of any physical or environmental condition existing on the Land or any access to the Land or created by Ontario or of any action or failure to act by Ontario which is a material violation of any applicable law, regulation or ordinance.',\n",
              " \"Ontario has no off-site improvement requirements that any governmental authority has imposed or threatened to impose on the Land, and there are no pending or threatened legal proceedings or governmental investigations pending or threatened against the Assets or the ability of Ontario to perform its covenants and obligations under this Agreement. Ontario's title to the Assets is good and marketable and on the Closing shall be free and clear of any lien, claim or encumbrance, except for liens for taxes and mortgages acknowledged by Fox on the Assets not yet due and payable or which are being contested in good faith. The improvements on the Land lie entirely within the boundaries of the Land and no structure of any kind encroaches on or over the Land. No portion of any of the Land or improvements on the Land is the subject of, or affected by, any condemnation or eminent domain proceeding.\",\n",
              " \"Ontario represents that all taxes, including advalorem, property, production, severance, reclamation, and similar taxes and assessments based upon or measured by ownership of property or production of minerals or the receipt of proceeds there from which have become due and payable have been properly paid. Fox agrees to not be liable for any taxes which accrue or are assessed before the Closing. Fox also represents and warrants that the consummation by Fox of the transactions will not result in a breach of any term or provision of, or constitute a default under any applicable law, regulation or ordinance or any other agreement or instrument to which Fox is a party or by which it is bound. There is no suit, action, arbitration or legal, administrative or other proceeding or governmental investigation pending or, to the knowledge of FOX without inquiry, threatened against, or affecting the Assets or the ability of FOX to perform its covenants and obligations under this Agreement. Fox has incurred no liability, contingent or otherwise, for broker's or finder's fees relating to the transactions contemplated by this Agreement.\",\n",
              " 'Fox agrees to assume the Ontario Debt and to do and perform all acts and execute and deliver all documents and take all other steps necessary to give full effect to the repayment terms of the Ontario Debt. Fox is a corporation duly organized and validly existing and in good standing under the laws of Nevada, and has the full power and authority to enter into this Agreement and to consummate the transactions contemplated under this Agreement. Ontario shall cause the Assets to be maintained and operated in a good and workmanlike manner, shall not partition the Assets, shall maintain insurance now in force with respect to the Assets, shall pay or cause to be paid all costs and expenses incurred in connection with this Agreement, shall keep the Underlying Agreements in full force and effect, and shall perform and comply with all of the conditions and covenants contained in same and all other agreements relating to the Assets. Ontario has disclosed to Fox the existence of and has furnished Fox with copies of all agreements and contracts relating to the Assets, to the extent that MDP is aware of the existence of such agreements and contracts.',\n",
              " \"This legal agreement states that Ontario must promptly notify Fox of any suits, actions, or other proceedings that might result in impairment or loss of Ontario's title to any portion of the Assets or the value of the Assets, or which might hinder or impede the operation of the Assets. Ontario must also not assign, transfer, encumber, or dispose of any interest in or to the Shares to any other person or entity, or negotiate with any other person or entity with respect to the transfer or grant of any interest or option whatsoever in the Assets, except that Ontario may continue to sell aggregate, sand and gravel from the Assets in the ordinary course of ONTARIO’s business. Ontario must also maintain the permits and underlying agreements in full force and effect, and maintain the confidentiality of data.\",\n",
              " \"This legal agreement states that Fox must exercise due diligence in safeguarding and maintaining all data and keeping the data confidential, except for disclosures necessary for purposes of obtaining financing and announcements required to be made to all governmental or regulatory agencies. Fox must also use its reasonable best efforts to cause all of the representations and warranties of Fox contained in this Agreement to be true and correct as of the Closing. The Closing will take place at a mutually agreed upon time by ONTARIO and FOX on the Closing Date, unless extended by the parties' agreement. The Closing will occur on or before June 25th, 2010.\"]"
            ]
          },
          "metadata": {},
          "execution_count": 13
        }
      ]
    },
    {
      "cell_type": "code",
      "source": [
        "def summa(final_sentences, groupcount=2):\n",
        "    groups = [\"\".join(map(str, final_sentences[i:i+groupcount])) for i in range(0, len(final_sentences), groupcount)]\n",
        "    for group in groups:\n",
        "        print(group)\n",
        "    return groups\n",
        "\n",
        "while len(final_sentences) > 1:\n",
        "    print(\"The Number of Sentences:\", len(final_sentences))\n",
        "    print()\n",
        "    final_sentences = summa(final_sentences, groupcount=2)\n",
        "    print(\"Number of Sentences After Grouping:\", len(final_sentences))\n",
        "\n",
        "    final_summary = light_model.annotate(final_sentences)\n",
        "    final_sentences = [final_summary[i][\"summary\"] for i in range(len(final_sentences))]\n",
        "    print()\n",
        "    print(\"Number of Sentences After Annotate:\", len(final_sentences))\n",
        "    print()\n",
        "    print(\"<<< SUMMARY of the SENTENCES >>>\\n\", final_sentences)\n",
        "    print()\n",
        "    print(\"<>\" * 50)\n",
        "\n",
        "if len(final_sentences) == 1:\n",
        "    final_summary = light_model.annotate(final_sentences[0])\n",
        "    print(\"The final summary of the long thesis inserted into the Pipeline.\")\n",
        "    print(\"<>\" * 50)\n",
        "    print(final_summary[0][\"summary\"])\n"
      ],
      "metadata": {
        "id": "qD5-sJ11AAOT",
        "outputId": "f6c32d16-066e-4f61-963a-f2fa677c17ae",
        "colab": {
          "base_uri": "https://localhost:8080/"
        }
      },
      "execution_count": null,
      "outputs": [
        {
          "output_type": "stream",
          "name": "stdout",
          "text": [
            "The Number of Sentences: 8\n",
            "\n",
            "This agreement is between Ontario Inc., an Ontario Corporation, and Fox Petroleum Inc., a Nevada Corporation. Ontario is the owner of a Scrap Plastic processing plant with certain equipment, fixtures, and improvements, the assets, located in Xxxxxxxx, Xxxxxxx Xxxxxx, B. The Ontario Shareholders desire to exchange their shares of common stock held of record in Ontario representing 100% of the total issued and outstanding shares of Ontario and Fox desires to issue an aggregate of ________ shares of Fox's common stock to the Ontario Shareholders. Fox also desires to assume an aggregate debt in the amount of $225,000.00 incurred by Ontario to Davfam Investments (1998) Ltd. during fiscal year 1995.This legal agreement outlines the consulting business and operations of Ontario Polymers Inc. The agreement outlines the delivery of documents, deposit and delivery of the Purchase Price, and the consummation of the transactions contemplated under the agreement. It also outlines the date on which the closing occurs, the data, and the land. The Ontario Shareholders agree to tender their shares of Ontario held of record to Fox, and Fox will issue 1,750,000 shares of its common stock to the Ontario Shareholders and to assume the Ontario Debt. Ontario also represents and warrants that it is a corporation duly organized and validly existing and in good standing under the laws of the Ontario.\n",
            "Ontario has the full power and authority to enter into this agreement and to consummate the transactions contemplated under it. The making and performance of this agreement and the agreements and other instruments required to be executed by Ontario have been authorized by all necessary corporate actions and will be duly executed by a person authorized by Ontario to do so. Ontario will deliver to Fox duly approved and executed resolutions of the directors and shareholders approving Ontario’s execution and delivery of this agreement and the performance of its obligations under this agreement. The consummation of the transactions will not result in the breach of any term or provision of, or constitute a default under any applicable law or regulation, its articles of organization or operating agreement, or under any other agreement or instrument to which Ontario is a party, by which it is bound, or which affects the Assets. This agreement and all instruments executed and delivered by Ontario pursuant to this Agreement will constitute legal and binding obligations of Ontario and will be valid and enforceable in accordance with their respective terms. Ontario has not received notice from any governmental agency, of any physical or environmental condition existing on the Land or any access to the Land or created by Ontario or of any action or failure to act by Ontario which is a material violation of any applicable law, regulation or ordinance.Ontario has no off-site improvement requirements that any governmental authority has imposed or threatened to impose on the Land, and there are no pending or threatened legal proceedings or governmental investigations pending or threatened against the Assets or the ability of Ontario to perform its covenants and obligations under this Agreement. Ontario's title to the Assets is good and marketable and on the Closing shall be free and clear of any lien, claim or encumbrance, except for liens for taxes and mortgages acknowledged by Fox on the Assets not yet due and payable or which are being contested in good faith. The improvements on the Land lie entirely within the boundaries of the Land and no structure of any kind encroaches on or over the Land. No portion of any of the Land or improvements on the Land is the subject of, or affected by, any condemnation or eminent domain proceeding.\n",
            "Ontario represents that all taxes, including advalorem, property, production, severance, reclamation, and similar taxes and assessments based upon or measured by ownership of property or production of minerals or the receipt of proceeds there from which have become due and payable have been properly paid. Fox agrees to not be liable for any taxes which accrue or are assessed before the Closing. Fox also represents and warrants that the consummation by Fox of the transactions will not result in a breach of any term or provision of, or constitute a default under any applicable law, regulation or ordinance or any other agreement or instrument to which Fox is a party or by which it is bound. There is no suit, action, arbitration or legal, administrative or other proceeding or governmental investigation pending or, to the knowledge of FOX without inquiry, threatened against, or affecting the Assets or the ability of FOX to perform its covenants and obligations under this Agreement. Fox has incurred no liability, contingent or otherwise, for broker's or finder's fees relating to the transactions contemplated by this Agreement.Fox agrees to assume the Ontario Debt and to do and perform all acts and execute and deliver all documents and take all other steps necessary to give full effect to the repayment terms of the Ontario Debt. Fox is a corporation duly organized and validly existing and in good standing under the laws of Nevada, and has the full power and authority to enter into this Agreement and to consummate the transactions contemplated under this Agreement. Ontario shall cause the Assets to be maintained and operated in a good and workmanlike manner, shall not partition the Assets, shall maintain insurance now in force with respect to the Assets, shall pay or cause to be paid all costs and expenses incurred in connection with this Agreement, shall keep the Underlying Agreements in full force and effect, and shall perform and comply with all of the conditions and covenants contained in same and all other agreements relating to the Assets. Ontario has disclosed to Fox the existence of and has furnished Fox with copies of all agreements and contracts relating to the Assets, to the extent that MDP is aware of the existence of such agreements and contracts.\n",
            "This legal agreement states that Ontario must promptly notify Fox of any suits, actions, or other proceedings that might result in impairment or loss of Ontario's title to any portion of the Assets or the value of the Assets, or which might hinder or impede the operation of the Assets. Ontario must also not assign, transfer, encumber, or dispose of any interest in or to the Shares to any other person or entity, or negotiate with any other person or entity with respect to the transfer or grant of any interest or option whatsoever in the Assets, except that Ontario may continue to sell aggregate, sand and gravel from the Assets in the ordinary course of ONTARIO’s business. Ontario must also maintain the permits and underlying agreements in full force and effect, and maintain the confidentiality of data.This legal agreement states that Fox must exercise due diligence in safeguarding and maintaining all data and keeping the data confidential, except for disclosures necessary for purposes of obtaining financing and announcements required to be made to all governmental or regulatory agencies. Fox must also use its reasonable best efforts to cause all of the representations and warranties of Fox contained in this Agreement to be true and correct as of the Closing. The Closing will take place at a mutually agreed upon time by ONTARIO and FOX on the Closing Date, unless extended by the parties' agreement. The Closing will occur on or before June 25th, 2010.\n",
            "Number of Sentences After Grouping: 4\n",
            "\n",
            "Number of Sentences After Annotate: 4\n",
            "\n",
            "<<< SUMMARY of the SENTENCES >>>\n",
            " [[\"This legal agreement is between Ontario Inc. and Fox Petroleum Inc., a Nevada Corporation. Ontario is the owner of a Scrap Plastic processing plant with certain equipment, fixtures, and improvements, the assets, located in Xxxxxxxx, Xxxxxxx Xxxxxx, B. The Ontario Shareholders desire to exchange their shares of common stock held of record in Ontario representing 100% of the total issued and outstanding shares of Ontario and Fox desires to issue an aggregate of ________ shares of Fox's common stock to the Ontario Shareholders. Fox also desires to assume an aggregate debt in the amount of $225,000.00 incurred by Ontario to Davfam Investments (1998) Ltd. during fiscal year 1995. The legal agreement outlines the consulting business and operations of Ontario Polymers Inc. and the delivery of documents, deposit and delivery of the Purchase Price, and the consummation of the transactions contemplated under the agreement. The Ontario Shareholders agree to tender their shares of Ontario held of record to Fox, and Fox will issue 1,750,000 shares of its common stock to the Ontario Shareholders and to assume the Ontario Debt. Ontario also represents and warrants that it is a corporation duly organized and validly existing and in good standing under the laws of the Ontario.\"], [\"Ontario has the full power and authority to enter into this agreement and to consummate the transactions contemplated under it. The making and performance of this agreement and the agreements and other instruments required to be executed by Ontario have been authorized by all necessary corporate actions and will be duly executed by a person authorized by Ontario to do so. Ontario will deliver to Fox duly approved and executed resolutions of the directors and shareholders approving Ontario's execution and delivery of this agreement and the performance of its obligations under this agreement. The consummation of the transactions will not result in the breach of any term or provision of, or constitute a default under any applicable law or regulation, its articles of organization or operating agreement, or under any other agreement or instrument to which Ontario is a party, by which it is bound, or which affects the Assets. Ontario has no off-site improvement requirements that any governmental authority has imposed or threatened to impose on the Land, and there are no pending or threatened legal proceedings or governmental investigations pending or threatened against the Assets or the ability of Ontario to perform its covenants and obligations under this Agreement. Ontario's title to the Assets is good and marketable and on the Closing shall be free and clear of any lien, claim or encumbrance, except for liens for taxes and mortgages acknowledged by Fox on the Assets not yet due and payable or which are being contested in good faith. Ontario's title to the Assets is good and marketable and on the Closing shall be free and clear of any lien, claim or encumbrance, except for liens for taxes and mortgages acknowledged by Fox on the Assets not yet due and payable or which are being contested in good faith. Ontario's title to the Assets is good and marketable and on the Closing shall be free and clear of any lien, claim or encumbrance, except for liens for taxes and mortgages acknowledged by Fox on the Assets not yet due and payable or which are being contested in good faith. Ontario's title to the Assets is good and marketable and on the Closing shall be free and clear of any lien, claim or encumbrance, except for liens for taxes and mortgages acknowledged by Fox on the Assets not yet due and payable or which are being contested in good faith. Ontario's title to\"], [\"Ontario represents that all taxes, including advalorem, property, production, severance, reclamation, and similar taxes and assessments based upon or measured by ownership of property or production of minerals or the receipt of proceeds there from which have become due and payable have been properly paid. Fox also represents and warrants that the consummation by Fox of the transactions will not result in a breach of any term or provision of, or constitute a default under any applicable law, regulation or ordinance or any other agreement or instrument to which Fox is a party or by which it is bound. Fox has incurred no liability, contingent or otherwise, for broker's or finder's fees relating to the transactions contemplated by this Agreement. Fox agrees to assume the Ontario Debt and to do and perform all acts and execute and deliver all documents and take all other steps necessary to give full effect to the repayment terms of the Ontario Debt. Ontario has disclosed to Fox the existence of and has furnished Fox with copies of all agreements and contracts relating to the Assets, to the extent that MDP is aware of the existence of such agreements and contracts.\"], [\"Ontario must promptly notify Fox of any suits, actions, or other proceedings that might result in impairment or loss of Ontario's title to any portion of the Assets or the value of the Assets, or which might hinder or impede the operation of the Assets. Ontario must also not assign, transfer, encumber, or dispose of any interest in or to the Shares to any other person or entity, or negotiate with any other person or entity with respect to the transfer or grant of any interest or option whatsoever in the Assets. Fox must exercise due diligence in safeguarding and maintaining all data and keeping the data confidential, except for disclosures necessary for purposes of obtaining financing and announcements required to be made to all governmental or regulatory agencies. The Closing will take place at a mutually agreed upon time by Ontario and Fox on the Closing Date, unless extended by the parties' agreement. The Closing will occur on or before June 25th, 2010.\"]]\n",
            "\n",
            "<><><><><><><><><><><><><><><><><><><><><><><><><><><><><><><><><><><><><><><><><><><><><><><><><><>\n",
            "The Number of Sentences: 4\n",
            "\n",
            "[\"This legal agreement is between Ontario Inc. and Fox Petroleum Inc., a Nevada Corporation. Ontario is the owner of a Scrap Plastic processing plant with certain equipment, fixtures, and improvements, the assets, located in Xxxxxxxx, Xxxxxxx Xxxxxx, B. The Ontario Shareholders desire to exchange their shares of common stock held of record in Ontario representing 100% of the total issued and outstanding shares of Ontario and Fox desires to issue an aggregate of ________ shares of Fox's common stock to the Ontario Shareholders. Fox also desires to assume an aggregate debt in the amount of $225,000.00 incurred by Ontario to Davfam Investments (1998) Ltd. during fiscal year 1995. The legal agreement outlines the consulting business and operations of Ontario Polymers Inc. and the delivery of documents, deposit and delivery of the Purchase Price, and the consummation of the transactions contemplated under the agreement. The Ontario Shareholders agree to tender their shares of Ontario held of record to Fox, and Fox will issue 1,750,000 shares of its common stock to the Ontario Shareholders and to assume the Ontario Debt. Ontario also represents and warrants that it is a corporation duly organized and validly existing and in good standing under the laws of the Ontario.\"][\"Ontario has the full power and authority to enter into this agreement and to consummate the transactions contemplated under it. The making and performance of this agreement and the agreements and other instruments required to be executed by Ontario have been authorized by all necessary corporate actions and will be duly executed by a person authorized by Ontario to do so. Ontario will deliver to Fox duly approved and executed resolutions of the directors and shareholders approving Ontario's execution and delivery of this agreement and the performance of its obligations under this agreement. The consummation of the transactions will not result in the breach of any term or provision of, or constitute a default under any applicable law or regulation, its articles of organization or operating agreement, or under any other agreement or instrument to which Ontario is a party, by which it is bound, or which affects the Assets. Ontario has no off-site improvement requirements that any governmental authority has imposed or threatened to impose on the Land, and there are no pending or threatened legal proceedings or governmental investigations pending or threatened against the Assets or the ability of Ontario to perform its covenants and obligations under this Agreement. Ontario's title to the Assets is good and marketable and on the Closing shall be free and clear of any lien, claim or encumbrance, except for liens for taxes and mortgages acknowledged by Fox on the Assets not yet due and payable or which are being contested in good faith. Ontario's title to the Assets is good and marketable and on the Closing shall be free and clear of any lien, claim or encumbrance, except for liens for taxes and mortgages acknowledged by Fox on the Assets not yet due and payable or which are being contested in good faith. Ontario's title to the Assets is good and marketable and on the Closing shall be free and clear of any lien, claim or encumbrance, except for liens for taxes and mortgages acknowledged by Fox on the Assets not yet due and payable or which are being contested in good faith. Ontario's title to the Assets is good and marketable and on the Closing shall be free and clear of any lien, claim or encumbrance, except for liens for taxes and mortgages acknowledged by Fox on the Assets not yet due and payable or which are being contested in good faith. Ontario's title to\"]\n",
            "[\"Ontario represents that all taxes, including advalorem, property, production, severance, reclamation, and similar taxes and assessments based upon or measured by ownership of property or production of minerals or the receipt of proceeds there from which have become due and payable have been properly paid. Fox also represents and warrants that the consummation by Fox of the transactions will not result in a breach of any term or provision of, or constitute a default under any applicable law, regulation or ordinance or any other agreement or instrument to which Fox is a party or by which it is bound. Fox has incurred no liability, contingent or otherwise, for broker's or finder's fees relating to the transactions contemplated by this Agreement. Fox agrees to assume the Ontario Debt and to do and perform all acts and execute and deliver all documents and take all other steps necessary to give full effect to the repayment terms of the Ontario Debt. Ontario has disclosed to Fox the existence of and has furnished Fox with copies of all agreements and contracts relating to the Assets, to the extent that MDP is aware of the existence of such agreements and contracts.\"][\"Ontario must promptly notify Fox of any suits, actions, or other proceedings that might result in impairment or loss of Ontario's title to any portion of the Assets or the value of the Assets, or which might hinder or impede the operation of the Assets. Ontario must also not assign, transfer, encumber, or dispose of any interest in or to the Shares to any other person or entity, or negotiate with any other person or entity with respect to the transfer or grant of any interest or option whatsoever in the Assets. Fox must exercise due diligence in safeguarding and maintaining all data and keeping the data confidential, except for disclosures necessary for purposes of obtaining financing and announcements required to be made to all governmental or regulatory agencies. The Closing will take place at a mutually agreed upon time by Ontario and Fox on the Closing Date, unless extended by the parties' agreement. The Closing will occur on or before June 25th, 2010.\"]\n",
            "Number of Sentences After Grouping: 2\n",
            "\n",
            "Number of Sentences After Annotate: 2\n",
            "\n",
            "<<< SUMMARY of the SENTENCES >>>\n",
            " [[\"Ontario Inc. and Fox Petroleum Inc. are the owners of a Scrap Plastic processing plant with certain equipment, fixtures, and improvements, the assets, located in Xxxxxxxx, Xxxxxxx Xxxxxx, B. The Ontario Shareholders desire to exchange their shares of common stock held of record in Ontario representing 100% of the total issued and outstanding shares of Ontario and Fox desires to issue an aggregate of ________ shares of Fox's common stock to the Ontario Shareholders and to assume the Ontario Debt. Ontario also represents and warrants that it is a corporation duly organized and validly existing and in good standing under the laws of the Ontario. Ontario has the full power and authority to enter into this agreement and to consummate the transactions contemplated under it. Ontario will deliver to Fox duly approved and executed resolutions of the directors and shareholders approving Ontario's execution and delivery of this agreement and the performance of its obligations under this agreement. Ontario's title to the Assets is good and marketable and on the Closing shall be free and clear of any lien, claim or encumbrance, except for liens for taxes and mortgages acknowledged by Fox on the Assets not yet due and payable or which are being contested in good faith. Ontario's title to the Assets is good and marketable and on the Closing shall be free and clear of any lien, claim or encumbrance, except for liens for taxes and mortgages acknowledged by Fox on the Assets not yet due and payable or which are being contested in good faith. Ontario's title to the Assets is good and marketable and on the Closing shall be free and clear of any lien, claim or encumbrance, except for liens for taxes and mortgages acknowledged by Fox on the Assets not yet due and payable or which are being contested in good faith. Ontario's title to the Assets is good and marketable and on the Closing shall be free and clear of any lien, claim or encumbrance, except for liens for taxes and mortgages acknowledged by Fox on the Assets not yet due and payable or which are being contested in good faith.\"], [\"Ontario and Fox agree to pay all taxes, including advalorem, property, production, severance, reclamation, and similar taxes and assessments based upon or measured by ownership of property or production of minerals or the receipt of proceeds there from which have become due and payable have been properly paid. Fox also represents and warrants that the consummation by Fox of the transactions will not result in a breach of any term or provision of, or constitute a default under any applicable law, regulation or ordinance or any other agreement or instrument to which Fox is a party or by which it is bound. Ontario has disclosed to Fox the existence of and has furnished Fox with copies of all agreements and contracts relating to the Assets, to the extent that MDP is aware of the existence of such agreements and contracts. Ontario must promptly notify Fox of any suits, actions, or other proceedings that might result in impairment or loss of Ontario's title to any portion of the Assets or the value of the Assets, or which might hinder or impede the operation of the Assets. Ontario must also not assign, transfer, encumber, or dispose of any interest in or to the Shares to any other person or entity, or negotiate with any other person or entity with respect to the transfer or grant of any interest or option whatsoever in the Assets. Fox must exercise due diligence in safeguarding and maintaining all data and keeping the data confidential, except for disclosures necessary for purposes of obtaining financing and announcements required to be made to all governmental or regulatory agencies. The Closing will take place at a mutually agreed upon time by Ontario and Fox on the Closing Date, unless extended by the parties' agreement.\"]]\n",
            "\n",
            "<><><><><><><><><><><><><><><><><><><><><><><><><><><><><><><><><><><><><><><><><><><><><><><><><><>\n",
            "The Number of Sentences: 2\n",
            "\n",
            "[\"Ontario Inc. and Fox Petroleum Inc. are the owners of a Scrap Plastic processing plant with certain equipment, fixtures, and improvements, the assets, located in Xxxxxxxx, Xxxxxxx Xxxxxx, B. The Ontario Shareholders desire to exchange their shares of common stock held of record in Ontario representing 100% of the total issued and outstanding shares of Ontario and Fox desires to issue an aggregate of ________ shares of Fox's common stock to the Ontario Shareholders and to assume the Ontario Debt. Ontario also represents and warrants that it is a corporation duly organized and validly existing and in good standing under the laws of the Ontario. Ontario has the full power and authority to enter into this agreement and to consummate the transactions contemplated under it. Ontario will deliver to Fox duly approved and executed resolutions of the directors and shareholders approving Ontario's execution and delivery of this agreement and the performance of its obligations under this agreement. Ontario's title to the Assets is good and marketable and on the Closing shall be free and clear of any lien, claim or encumbrance, except for liens for taxes and mortgages acknowledged by Fox on the Assets not yet due and payable or which are being contested in good faith. Ontario's title to the Assets is good and marketable and on the Closing shall be free and clear of any lien, claim or encumbrance, except for liens for taxes and mortgages acknowledged by Fox on the Assets not yet due and payable or which are being contested in good faith. Ontario's title to the Assets is good and marketable and on the Closing shall be free and clear of any lien, claim or encumbrance, except for liens for taxes and mortgages acknowledged by Fox on the Assets not yet due and payable or which are being contested in good faith. Ontario's title to the Assets is good and marketable and on the Closing shall be free and clear of any lien, claim or encumbrance, except for liens for taxes and mortgages acknowledged by Fox on the Assets not yet due and payable or which are being contested in good faith.\"][\"Ontario and Fox agree to pay all taxes, including advalorem, property, production, severance, reclamation, and similar taxes and assessments based upon or measured by ownership of property or production of minerals or the receipt of proceeds there from which have become due and payable have been properly paid. Fox also represents and warrants that the consummation by Fox of the transactions will not result in a breach of any term or provision of, or constitute a default under any applicable law, regulation or ordinance or any other agreement or instrument to which Fox is a party or by which it is bound. Ontario has disclosed to Fox the existence of and has furnished Fox with copies of all agreements and contracts relating to the Assets, to the extent that MDP is aware of the existence of such agreements and contracts. Ontario must promptly notify Fox of any suits, actions, or other proceedings that might result in impairment or loss of Ontario's title to any portion of the Assets or the value of the Assets, or which might hinder or impede the operation of the Assets. Ontario must also not assign, transfer, encumber, or dispose of any interest in or to the Shares to any other person or entity, or negotiate with any other person or entity with respect to the transfer or grant of any interest or option whatsoever in the Assets. Fox must exercise due diligence in safeguarding and maintaining all data and keeping the data confidential, except for disclosures necessary for purposes of obtaining financing and announcements required to be made to all governmental or regulatory agencies. The Closing will take place at a mutually agreed upon time by Ontario and Fox on the Closing Date, unless extended by the parties' agreement.\"]\n",
            "Number of Sentences After Grouping: 1\n",
            "\n",
            "Number of Sentences After Annotate: 1\n",
            "\n",
            "<<< SUMMARY of the SENTENCES >>>\n",
            " [[\"Ontario Inc. and Fox Petroleum Inc. are the owners of a Scrap Plastic processing plant with certain equipment, fixtures, and improvements, the assets, located in Xxxxxxxx, Xxxxxxx Xxxxxx, B. The Ontario Shareholders desire to exchange their shares of common stock held of record in Ontario representing 100% of the total issued and outstanding shares of Ontario and Fox desires to issue an aggregate of ________ shares of Fox's common stock to the Ontario Shareholders and to assume the Ontario Debt. Ontario also represents and warrants that it is a corporation duly organized and validly existing and in good standing under the laws of the Ontario. Ontario will deliver to Fox duly approved and executed resolutions of the directors and shareholders approving Ontario's execution and delivery of this agreement and the performance of its obligations under this agreement. Ontario's title to the Assets is good and marketable and on the Closing shall be free and clear of any lien, claim or encumbrance, except for liens for taxes and mortgages acknowledged by Fox on the Assets not yet due and payable or which are being contested in good faith. Ontario must pay all taxes, including advalorem, property, production, severance, reclamation, and similar taxes and assessments based upon or measured by ownership of property or production of minerals or the receipt of proceeds there from which have become due and payable have been properly paid. Ontario must also represent and warrant that the consummation by Fox of the transactions will not result in a breach of any term or provision of, or constitute a default under any applicable law, regulation or ordinance or any other agreement or instrument to which Fox is a party or by which it is bound. Ontario must promptly notify Fox of any suits, actions, or other proceedings that might result in impairment or loss of Ontario's title to any portion of the Assets or the value of the Assets, or which might hinder or impede the operation of the Assets. Ontario must exercise due diligence in safeguarding and maintaining all data and keeping the data confidential, except for disclosures necessary for purposes of obtaining financing and announcements required to be made to all governmental or regulatory agencies. The Closing will take place at a mutually agreed upon time by Ontario and Fox on the Closing Date, unless extended by the parties' agreement.\"]]\n",
            "\n",
            "<><><><><><><><><><><><><><><><><><><><><><><><><><><><><><><><><><><><><><><><><><><><><><><><><><>\n",
            "The final summary of the long thesis inserted into the Pipeline.\n",
            "<><><><><><><><><><><><><><><><><><><><><><><><><><><><><><><><><><><><><><><><><><><><><><><><><><>\n",
            "[\"Ontario Inc. and Fox Petroleum Inc. are the owners of a Scrap Plastic processing plant with certain equipment, fixtures, and improvements, the assets, located in Xxxxxxxx, Xxxxxxx Xxxxxx, B. The Ontario Shareholders desire to exchange their shares of common stock held of record in Ontario representing 100% of the total issued and outstanding shares of Ontario and Fox desires to issue an aggregate of ________ shares of Fox's common stock to the Ontario Shareholders and to assume the Ontario Debt. Ontario also represents and warrants that it is a corporation duly organized and validly existing and in good standing under the laws of the Ontario. Ontario must deliver to Fox duly approved and executed resolutions of the directors and shareholders approving Ontario's execution and delivery of this agreement and the performance of its obligations under this agreement. Ontario's title to the Assets is good and marketable and on the Closing shall be free and clear of any lien, claim or encumbrance, except for liens for taxes and mortgages acknowledged by Fox on the Assets not yet due and payable or which are being contested in good faith. Ontario must pay all taxes, including advalorem, property, production, severance, reclamation, and similar taxes and assessments based upon or measured by ownership of property or production of minerals or the receipt of proceeds there from which have become due and payable have been properly paid. Ontario must promptly notify Fox of any suits, actions, or other proceedings that might result in impairment or loss of Ontario's title to any portion of the Assets or the value of the Assets, or which might hinder or impede the operation of the Assets. The Closing will take place at a mutually agreed upon time by Ontario and Fox on the Closing Date, unless extended by the parties' agreement.\"]\n"
          ]
        }
      ]
    }
  ],
  "metadata": {
    "accelerator": "GPU",
    "colab": {
      "machine_shape": "hm",
      "provenance": [],
      "toc_visible": true
    },
    "gpuClass": "standard",
    "kernelspec": {
      "display_name": "tf-gpu",
      "language": "python",
      "name": "python3"
    },
    "language_info": {
      "codemirror_mode": {
        "name": "ipython",
        "version": 3
      },
      "file_extension": ".py",
      "mimetype": "text/x-python",
      "name": "python",
      "nbconvert_exporter": "python",
      "pygments_lexer": "ipython3",
      "version": "3.9.7 (default, Sep 16 2021, 16:59:28) [MSC v.1916 64 bit (AMD64)]"
    },
    "vscode": {
      "interpreter": {
        "hash": "3f47d918ae832c68584484921185f5c85a1760864bf927a683dc6fb56366cc77"
      }
    }
  },
  "nbformat": 4,
  "nbformat_minor": 0
}
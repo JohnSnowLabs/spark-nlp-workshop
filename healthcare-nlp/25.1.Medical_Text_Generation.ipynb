{
 "cells": [
  {
   "cell_type": "markdown",
   "metadata": {
    "id": "JWCwiy5flBq7"
   },
   "source": [
    "![JohnSnowLabs](https://nlp.johnsnowlabs.com/assets/images/logo.png)\n"
   ]
  },
  {
   "cell_type": "markdown",
   "metadata": {
    "id": "WwQqbVm4r_hV"
   },
   "source": [
    "[![Open In Colab](https://colab.research.google.com/assets/colab-badge.svg)](https://colab.research.google.com/github/JohnSnowLabs/spark-nlp-workshop/blob/master/healthcare-nlp/25.1.Medical_Text_Generation.ipynb)\n"
   ]
  },
  {
   "cell_type": "markdown",
   "metadata": {
    "id": "5hzypXmUlNYC"
   },
   "source": [
    "# **Medical Text Generation**"
   ]
  },
  {
   "cell_type": "markdown",
   "metadata": {
    "id": "cR1mia8SxJVA"
   },
   "source": [
    "MedicalTextGenerator uses the basic BioGPT model to perform various tasks related to medical text abstraction. With this annotator, a user can provide a prompt and context and instruct the system to perform a specific task, such as explaining why a patient may have a particular disease or paraphrasing the context more directly. In addition, this annotator can create a clinical note for a cancer patient using the given keywords or write medical texts based on introductory sentences. The BioGPT model is trained on large volumes of medical data allowing it to identify and extract the most relevant information from the text provided.\n",
    "\n",
    "\n",
    "Available models can be found at the [Models Hub](https://nlp.johnsnowlabs.com/models?annotator=MedicalTextGenerator).\n"
   ]
  },
  {
   "cell_type": "markdown",
   "metadata": {
    "id": "okhT7AcXxben"
   },
   "source": [
    "## Colab Setup"
   ]
  },
  {
   "cell_type": "markdown",
   "metadata": {
    "id": "G7dOaR_TlgE-"
   },
   "source": [
    "📌To run this yourself, you will need to upload your license keys to the notebook. Just Run The Cell Below in order to do that. Also You can open the file explorer on the left side of the screen and upload `license_keys.json` to the folder that opens.\n",
    "Otherwise, you can look at the example outputs at the bottom of the notebook."
   ]
  },
  {
   "cell_type": "code",
   "execution_count": null,
   "metadata": {
    "id": "tQLe_InJtnzA"
   },
   "outputs": [],
   "source": [
    "# Install the johnsnowlabs library to access Spark-OCR and Spark-NLP for Healthcare, Finance, and Legal.\n",
    "! pip install -q johnsnowlabs"
   ]
  },
  {
   "cell_type": "code",
   "source": [
    "from google.colab import files\n",
    "print('Please Upload your John Snow Labs License using the button below')\n",
    "license_keys = files.upload()"
   ],
   "metadata": {
    "id": "Jjj9gCdWMXyF"
   },
   "execution_count": null,
   "outputs": []
  },
  {
   "cell_type": "code",
   "source": [
    "from johnsnowlabs import nlp, medical, visual\n",
    "\n",
    "# After uploading your license run this to install all licensed Python Wheels and pre-download Jars the Spark Session JVM\n",
    "nlp.install()"
   ],
   "metadata": {
    "id": "L1LFkCjFMyxi"
   },
   "execution_count": null,
   "outputs": []
  },
  {
   "cell_type": "code",
   "source": [
    "from johnsnowlabs import nlp, medical, visual\n",
    "import pandas as pd\n",
    "\n",
    "# Automatically load license data and start a session with all jars user has access to\n",
    "spark = nlp.start()"
   ],
   "metadata": {
    "colab": {
     "base_uri": "https://localhost:8080/"
    },
    "id": "fCy9pQxhhIkD",
    "outputId": "aac069f7-18ee-4bf5-b5ca-d638b74f2c8b"
   },
   "execution_count": null,
   "outputs": []
  },
  {
   "cell_type": "code",
   "source": [
    "from pyspark.sql import DataFrame\n",
    "import pyspark.sql.functions as F\n",
    "import pyspark.sql.types as T\n",
    "import pyspark.sql as SQL\n",
    "from pyspark import keyword_only"
   ],
   "metadata": {
    "id": "gTVeDWGmhKuk"
   },
   "execution_count": null,
   "outputs": []
  },
  {
   "cell_type": "markdown",
   "metadata": {
    "id": "7Nv8ISD_ltNo"
   },
   "source": [
    "# 🔎 MODELS"
   ]
  },
  {
   "cell_type": "markdown",
   "source": [
    "<div align=\"center\">\n",
    "\n",
    "| **Index** | **Text Generator Models**        |\n",
    "|---------------|----------------------|\n",
    "| 1        |  [text_generator_biomedical_biogpt_base](https://nlp.johnsnowlabs.com/2023/04/03/text_generator_biomedical_biogpt_base_en.html)     |\n",
    "| 2      | [text_generator_generic_jsl_base](https://nlp.johnsnowlabs.com/2023/04/03/text_generator_generic_jsl_base_en.html)    |\n",
    "| 3      | [text_generator_generic_flan_base](https://nlp.johnsnowlabs.com/2023/04/03/text_generator_generic_flan_base_en.html)    |\n",
    "| 4      | [text_generator_generic_flan_t5_large](https://nlp.johnsnowlabs.com/2023/04/04/text_generator_generic_flan_t5_large_en.html)    |\n",
    "\n",
    "\n",
    "</div>"
   ],
   "metadata": {
    "id": "7ymKYxvOVI89"
   }
  },
  {
   "cell_type": "markdown",
   "metadata": {
    "id": "EUP83I58lxPD"
   },
   "source": [
    "## 📑  **text_generator_biomedical_biogpt_base**\n",
    "\n",
    "This model is a BioGPT (LLM) based text generation model that is finetuned with biomedical datasets (Pubmed abstracts) by John Snow Labs.  Given a few tokens as an intro, it can generate human-like, conceptually meaningful texts  up to 1024 tokens given an input text (max 1024 tokens)."
   ]
  },
  {
   "cell_type": "code",
   "source": [
    "document_assembler = nlp.DocumentAssembler()\\\n",
    "    .setInputCol(\"prompt\")\\\n",
    "    .setOutputCol(\"document_prompt\")\n",
    "\n",
    "med_text_generator  = medical.TextGenerator.pretrained(\"text_generator_biomedical_biogpt_base\", \"en\", \"clinical/models\")\\\n",
    "    .setInputCols(\"document_prompt\")\\\n",
    "    .setOutputCol(\"answer\")\\\n",
    "    .setMaxNewTokens(256)\\\n",
    "    .setDoSample(True)\\\n",
    "    .setTopK(3)\\\n",
    "    .setRandomSeed(42)\n",
    "\n",
    "pipeline = nlp.Pipeline(stages=[document_assembler, med_text_generator])\n",
    "\n",
    "model = pipeline.fit(spark.createDataFrame([[\"\"]]).toDF(\"prompt\"))"
   ],
   "metadata": {
    "id": "zb26jOqQdoQh",
    "colab": {
     "base_uri": "https://localhost:8080/"
    },
    "outputId": "71bbde2d-4b28-41f9-e8a5-cfb56741a4f0"
   },
   "execution_count": null,
   "outputs": []
  },
  {
   "cell_type": "code",
   "source": [
    "data = spark.createDataFrame([['Covid 19 is']]).toDF(\"prompt\")\n",
    "\n",
    "result = pipeline.fit(data).transform(data)\n",
    "\n",
    "result.select(\"answer.result\").show(truncate=False)"
   ],
   "metadata": {
    "colab": {
     "base_uri": "https://localhost:8080/"
    },
    "id": "2r6gRCtnpFMi",
    "outputId": "aea41fb6-46c7-497d-e45c-152f3edf1155"
   },
   "execution_count": null,
   "outputs": []
  },
  {
   "cell_type": "markdown",
   "source": [
    "### **📍 LightPipelines**"
   ],
   "metadata": {
    "id": "4GjbnXm0ghO7"
   }
  },
  {
   "cell_type": "code",
   "source": [
    "med_text_generator.setMaxNewTokens(128)"
   ],
   "metadata": {
    "colab": {
     "base_uri": "https://localhost:8080/"
    },
    "id": "BSEex6UQE5YU",
    "outputId": "0b80a8f2-6409-4711-bfe5-01c2fa0d77c0"
   },
   "execution_count": null,
   "outputs": []
  },
  {
   "cell_type": "code",
   "source": [
    "text = [\"SARS-CoV-2\",\n",
    "        \"Asthma is a chronic respiratory disease characterized by\"]\n",
    "\n",
    "light_model = nlp.LightPipeline(model)\n",
    "light_result = light_model.annotate(text)"
   ],
   "metadata": {
    "id": "V5jMf0LmBfP5"
   },
   "execution_count": null,
   "outputs": []
  },
  {
   "cell_type": "code",
   "source": [
    "import textwrap\n",
    "\n",
    "for i in range(len(light_result)):\n",
    "    document_text = textwrap.fill(light_result[i]['document_prompt'][0], width=120)\n",
    "    summary_text = textwrap.fill(light_result[i]['answer'][0], width=120)\n",
    "    \n",
    "    print(\"➤ Document {}: \\n{}\".format(i+1, document_text))\n",
    "    print(\"\\n\")\n",
    "    print(\"➤ Answer {}: \\n{}\".format(i+1, summary_text))\n",
    "    print(\"\\n\")"
   ],
   "metadata": {
    "colab": {
     "base_uri": "https://localhost:8080/"
    },
    "id": "VHZi0ftTBg_-",
    "outputId": "8c331e0c-7eda-4029-a015-548f0f15c4b9"
   },
   "execution_count": null,
   "outputs": []
  }
 ],
 "metadata": {
  "accelerator": "GPU",
  "colab": {
   "machine_shape": "hm",
   "provenance": []
  },
  "gpuClass": "standard",
  "kernelspec": {
   "display_name": "Python 3",
   "name": "python3"
  },
  "language_info": {
   "name": "python"
  }
 },
 "nbformat": 4,
 "nbformat_minor": 0
}
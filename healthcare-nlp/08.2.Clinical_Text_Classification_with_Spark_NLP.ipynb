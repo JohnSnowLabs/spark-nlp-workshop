{
  "cells": [
    {
      "attachments": {},
      "cell_type": "markdown",
      "metadata": {},
      "source": [
        "![JohnSnowLabs](https://nlp.johnsnowlabs.com/assets/images/logo.png)"
      ]
    },
    {
      "attachments": {},
      "cell_type": "markdown",
      "metadata": {},
      "source": [
        "[![Open In Colab](https://colab.research.google.com/assets/colab-badge.svg)](https://colab.research.google.com/github/JohnSnowLabs/spark-nlp-workshop/blob/master/tutorials/Certification_Trainings_JSL/Healthcare/30.Clinical_Text_Classification_with_Spark_NLP.ipynb)"
      ]
    },
    {
      "attachments": {},
      "cell_type": "markdown",
      "metadata": {
        "id": "T70JAFhuB_hY"
      },
      "source": [
        "# Colab Setup"
      ]
    },
    {
      "cell_type": "code",
      "execution_count": null,
      "metadata": {
        "id": "MRTflinqmhKL"
      },
      "outputs": [],
      "source": [
        "! pip install -q johnsnowlabs "
      ]
    },
    {
      "cell_type": "code",
      "execution_count": null,
      "metadata": {
        "id": "S4dTiT4aJeq7"
      },
      "outputs": [],
      "source": [
        "from google.colab import files\n",
        "print('Please Upload your John Snow Labs License using the button below')\n",
        "license_keys = files.upload()"
      ]
    },
    {
      "cell_type": "code",
      "execution_count": 3,
      "metadata": {
        "colab": {
          "base_uri": "https://localhost:8080/"
        },
        "id": "LOdhMuyDmwGh",
        "outputId": "594d34b5-10e9-495c-c259-33cbd0841b4e"
      },
      "outputs": [
        {
          "name": "stdout",
          "output_type": "stream",
          "text": [
            "👌 Detected license file /content/spark_nlp_for_healthcare_spark_ocr_4_2_4.json\n",
            "📋 Stored John Snow Labs License in /root/.johnsnowlabs/licenses/license_number_0_for_Spark-Healthcare_Spark-OCR.json\n",
            "👷 Setting up  John Snow Labs home in /root/.johnsnowlabs, this might take a few minutes.\n",
            "Downloading 🐍+🚀 Python Library spark_nlp-4.2.4-py2.py3-none-any.whl\n",
            "Downloading 🐍+💊 Python Library spark_nlp_jsl-4.2.4-py3-none-any.whl\n",
            "Downloading 🫘+🚀 Java Library spark-nlp-assembly-4.2.4.jar\n",
            "Downloading 🫘+💊 Java Library spark-nlp-jsl-4.2.4.jar\n",
            "🙆 JSL Home setup in /root/.johnsnowlabs\n",
            "👌 Detected license file /content/spark_nlp_for_healthcare_spark_ocr_4_2_4.json\n",
            "Installing /root/.johnsnowlabs/py_installs/spark_nlp_jsl-4.2.4-py3-none-any.whl to /usr/bin/python3\n",
            "Running: /usr/bin/python3 -m pip install /root/.johnsnowlabs/py_installs/spark_nlp_jsl-4.2.4-py3-none-any.whl\n",
            "Installed 1 products:\n",
            "💊 Spark-Healthcare==4.2.4 installed! ✅ Heal the planet with NLP! \n"
          ]
        }
      ],
      "source": [
        "from johnsnowlabs import nlp, medical\n",
        "\n",
        "# After uploading your license run this to install all licensed Python Wheels and pre-download Jars the Spark Session JVM\n",
        "nlp.install()"
      ]
    },
    {
      "cell_type": "code",
      "execution_count": 4,
      "metadata": {
        "colab": {
          "base_uri": "https://localhost:8080/"
        },
        "id": "kUjJNc9fJoFT",
        "outputId": "359544eb-8f57-4c06-bc3b-01521902bc1b"
      },
      "outputs": [
        {
          "name": "stdout",
          "output_type": "stream",
          "text": [
            "👌 Detected license file /content/spark_nlp_for_healthcare_spark_ocr_4_2_4.json\n",
            "🤓 Looks like you are missing some jars, trying fetching them ...\n",
            "👌 Detected license file /content/spark_nlp_for_healthcare_spark_ocr_4_2_4.json\n",
            "Downloading 🫘+🚀 Java Library spark-nlp-gpu-assembly-4.2.4.jar\n",
            "🙆 JSL Home setup in /root/.johnsnowlabs\n",
            "👌 Detected license file /content/spark_nlp_for_healthcare_spark_ocr_4_2_4.json\n",
            "👌 Launched \u001b[92mgpu optimized\u001b[39m session with with: 🚀Spark-NLP==4.2.4, 💊Spark-Healthcare==4.2.4, running on ⚡ PySpark==3.1.2\n"
          ]
        }
      ],
      "source": [
        "from johnsnowlabs import nlp, medical, visual\n",
        "import pandas as pd\n",
        "from sklearn.metrics import confusion_matrix, classification_report, accuracy_score\n",
        "import pyspark.sql.functions as F\n",
        "\n",
        "# Automatically load license data and start a session with all jars user has access to\n",
        "spark = nlp.start(hardware_target=\"gpu\")"
      ]
    },
    {
      "cell_type": "markdown",
      "metadata": {
        "id": "seqQtw6ryhDm"
      },
      "source": [
        "# Classifiers\n",
        "\n",
        "The below classifiers will be used in this notebook.ClassifierDL, MultiClassifierDL, and GenericClassifier will be trained using healthcare_100d, embeddingd_clinical, and bert sentence embeddings(sbiobert_base_cased_mli). DocumentLogRegClassifier accepts tokens, so sentence embeddings are not utilized during DocumentLogRegClassifier training.\n",
        "\n",
        "## ClassifierDL\n",
        "\n",
        "ClassifierDL is a generic Multi-class Text Classification annotator. ClassifierDL uses the state-of-the-art Universal Sentence Encoder as an input for text classifications. The ClassifierDL annotator uses a deep learning model (DNNs) built inside TensorFlow and supports up to 100 classes. For more information please [follow the link](https://nlp.johnsnowlabs.com/docs/en/annotators#classifierdl).\n",
        "\n",
        "\n",
        "##  MultiClassifierDL\n",
        "\n",
        "MultiClassifierDL is a Multi-label Text Classification annotator.MultiClassifierDL uses a Bidirectional GRU with a convolutional model built inside TensorFlow and supports up to 100 classes.  For more information please [follow the link](https://nlp.johnsnowlabs.com/docs/en/annotators#multiclassifierdl).\n",
        "\n",
        "\n",
        "## GenericClassifier\n",
        "\n",
        "GenericClassifier is a TensorFlow model for the generic classification of feature vectors in Healthcare  Lİbrary. It takes FEATURE_VECTOR annotations from FeaturesAssembler as input, classifies them, and outputs CATEGORY annotations. Please see [the link](https://nlp.johnsnowlabs.com/docs/en/licensed_annotators#genericclassifier) for more information.\n",
        "\n",
        "## DocumentLogRegClassifier\n",
        "\n",
        "DocumentLogRegClassifier is a model to classify documents with a Logarithmic Regression algorithm in Healthcare  Library. Training data requires columns for text and labels. The result is a trained DocumentLogRegClassifierModel. you can get more info [here](https://nlp.johnsnowlabs.com/docs/en/licensed_annotators#documentlogregclassifier). \n"
      ]
    },
    {
      "cell_type": "markdown",
      "metadata": {
        "id": "V9VJxCgQDbci"
      },
      "source": [
        "# ADE Dataset"
      ]
    },
    {
      "cell_type": "markdown",
      "metadata": {
        "id": "26_3aTINil5M"
      },
      "source": [
        "### Data Preprocessing"
      ]
    },
    {
      "cell_type": "code",
      "execution_count": 5,
      "metadata": {
        "id": "hItCL5OYilb-"
      },
      "outputs": [],
      "source": [
        "#downloading sample datasets\n",
        "!wget -q https://raw.githubusercontent.com/JohnSnowLabs/spark-nlp-workshop/master/tutorials/Certification_Trainings/Healthcare/data/ADE_Corpus_V2/ADE-NEG.txt\n",
        "!wget -q https://raw.githubusercontent.com/JohnSnowLabs/spark-nlp-workshop/master/tutorials/Certification_Trainings/Healthcare/data/ADE_Corpus_V2/DRUG-AE.rel"
      ]
    },
    {
      "cell_type": "markdown",
      "metadata": {
        "id": "CcjKu0_XrfLy"
      },
      "source": [
        "**ADE-Negative Dataset**"
      ]
    },
    {
      "cell_type": "code",
      "execution_count": 6,
      "metadata": {
        "colab": {
          "base_uri": "https://localhost:8080/",
          "height": 206
        },
        "id": "Y8bRpYvWilZB",
        "outputId": "4c428095-d143-486a-b158-58e63eead4e8"
      },
      "outputs": [
        {
          "data": {
            "text/html": [
              "\n",
              "  <div id=\"df-48ad17e8-bc6b-4bb6-9db9-4c9ce06303a5\">\n",
              "    <div class=\"colab-df-container\">\n",
              "      <div>\n",
              "<style scoped>\n",
              "    .dataframe tbody tr th:only-of-type {\n",
              "        vertical-align: middle;\n",
              "    }\n",
              "\n",
              "    .dataframe tbody tr th {\n",
              "        vertical-align: top;\n",
              "    }\n",
              "\n",
              "    .dataframe thead th {\n",
              "        text-align: right;\n",
              "    }\n",
              "</style>\n",
              "<table border=\"1\" class=\"dataframe\">\n",
              "  <thead>\n",
              "    <tr style=\"text-align: right;\">\n",
              "      <th></th>\n",
              "      <th>col1</th>\n",
              "    </tr>\n",
              "  </thead>\n",
              "  <tbody>\n",
              "    <tr>\n",
              "      <th>0</th>\n",
              "      <td>6460590 NEG Clioquinol intoxication occurring ...</td>\n",
              "    </tr>\n",
              "    <tr>\n",
              "      <th>1</th>\n",
              "      <td>8600337 NEG \"Retinoic acid syndrome\" was preve...</td>\n",
              "    </tr>\n",
              "    <tr>\n",
              "      <th>2</th>\n",
              "      <td>8402502 NEG BACKGROUND: External beam radiatio...</td>\n",
              "    </tr>\n",
              "    <tr>\n",
              "      <th>3</th>\n",
              "      <td>8700794 NEG Although the enuresis ceased, she ...</td>\n",
              "    </tr>\n",
              "    <tr>\n",
              "      <th>4</th>\n",
              "      <td>17662448 NEG A 42-year-old woman had uneventfu...</td>\n",
              "    </tr>\n",
              "  </tbody>\n",
              "</table>\n",
              "</div>\n",
              "      <button class=\"colab-df-convert\" onclick=\"convertToInteractive('df-48ad17e8-bc6b-4bb6-9db9-4c9ce06303a5')\"\n",
              "              title=\"Convert this dataframe to an interactive table.\"\n",
              "              style=\"display:none;\">\n",
              "        \n",
              "  <svg xmlns=\"http://www.w3.org/2000/svg\" height=\"24px\"viewBox=\"0 0 24 24\"\n",
              "       width=\"24px\">\n",
              "    <path d=\"M0 0h24v24H0V0z\" fill=\"none\"/>\n",
              "    <path d=\"M18.56 5.44l.94 2.06.94-2.06 2.06-.94-2.06-.94-.94-2.06-.94 2.06-2.06.94zm-11 1L8.5 8.5l.94-2.06 2.06-.94-2.06-.94L8.5 2.5l-.94 2.06-2.06.94zm10 10l.94 2.06.94-2.06 2.06-.94-2.06-.94-.94-2.06-.94 2.06-2.06.94z\"/><path d=\"M17.41 7.96l-1.37-1.37c-.4-.4-.92-.59-1.43-.59-.52 0-1.04.2-1.43.59L10.3 9.45l-7.72 7.72c-.78.78-.78 2.05 0 2.83L4 21.41c.39.39.9.59 1.41.59.51 0 1.02-.2 1.41-.59l7.78-7.78 2.81-2.81c.8-.78.8-2.07 0-2.86zM5.41 20L4 18.59l7.72-7.72 1.47 1.35L5.41 20z\"/>\n",
              "  </svg>\n",
              "      </button>\n",
              "      \n",
              "  <style>\n",
              "    .colab-df-container {\n",
              "      display:flex;\n",
              "      flex-wrap:wrap;\n",
              "      gap: 12px;\n",
              "    }\n",
              "\n",
              "    .colab-df-convert {\n",
              "      background-color: #E8F0FE;\n",
              "      border: none;\n",
              "      border-radius: 50%;\n",
              "      cursor: pointer;\n",
              "      display: none;\n",
              "      fill: #1967D2;\n",
              "      height: 32px;\n",
              "      padding: 0 0 0 0;\n",
              "      width: 32px;\n",
              "    }\n",
              "\n",
              "    .colab-df-convert:hover {\n",
              "      background-color: #E2EBFA;\n",
              "      box-shadow: 0px 1px 2px rgba(60, 64, 67, 0.3), 0px 1px 3px 1px rgba(60, 64, 67, 0.15);\n",
              "      fill: #174EA6;\n",
              "    }\n",
              "\n",
              "    [theme=dark] .colab-df-convert {\n",
              "      background-color: #3B4455;\n",
              "      fill: #D2E3FC;\n",
              "    }\n",
              "\n",
              "    [theme=dark] .colab-df-convert:hover {\n",
              "      background-color: #434B5C;\n",
              "      box-shadow: 0px 1px 3px 1px rgba(0, 0, 0, 0.15);\n",
              "      filter: drop-shadow(0px 1px 2px rgba(0, 0, 0, 0.3));\n",
              "      fill: #FFFFFF;\n",
              "    }\n",
              "  </style>\n",
              "\n",
              "      <script>\n",
              "        const buttonEl =\n",
              "          document.querySelector('#df-48ad17e8-bc6b-4bb6-9db9-4c9ce06303a5 button.colab-df-convert');\n",
              "        buttonEl.style.display =\n",
              "          google.colab.kernel.accessAllowed ? 'block' : 'none';\n",
              "\n",
              "        async function convertToInteractive(key) {\n",
              "          const element = document.querySelector('#df-48ad17e8-bc6b-4bb6-9db9-4c9ce06303a5');\n",
              "          const dataTable =\n",
              "            await google.colab.kernel.invokeFunction('convertToInteractive',\n",
              "                                                     [key], {});\n",
              "          if (!dataTable) return;\n",
              "\n",
              "          const docLinkHtml = 'Like what you see? Visit the ' +\n",
              "            '<a target=\"_blank\" href=https://colab.research.google.com/notebooks/data_table.ipynb>data table notebook</a>'\n",
              "            + ' to learn more about interactive tables.';\n",
              "          element.innerHTML = '';\n",
              "          dataTable['output_type'] = 'display_data';\n",
              "          await google.colab.output.renderOutput(dataTable, element);\n",
              "          const docLink = document.createElement('div');\n",
              "          docLink.innerHTML = docLinkHtml;\n",
              "          element.appendChild(docLink);\n",
              "        }\n",
              "      </script>\n",
              "    </div>\n",
              "  </div>\n",
              "  "
            ],
            "text/plain": [
              "                                                col1\n",
              "0  6460590 NEG Clioquinol intoxication occurring ...\n",
              "1  8600337 NEG \"Retinoic acid syndrome\" was preve...\n",
              "2  8402502 NEG BACKGROUND: External beam radiatio...\n",
              "3  8700794 NEG Although the enuresis ceased, she ...\n",
              "4  17662448 NEG A 42-year-old woman had uneventfu..."
            ]
          },
          "execution_count": 6,
          "metadata": {},
          "output_type": "execute_result"
        }
      ],
      "source": [
        "df_neg= pd.read_csv(\"ADE-NEG.txt\", header=None, delimiter=\"\\t\", names=[\"col1\"])\n",
        "df_neg.head()"
      ]
    },
    {
      "cell_type": "code",
      "execution_count": 7,
      "metadata": {
        "colab": {
          "base_uri": "https://localhost:8080/",
          "height": 206
        },
        "id": "wrPm_XSyv-R2",
        "outputId": "43bcc6e6-324e-4245-fc9f-a4d5736c5301"
      },
      "outputs": [
        {
          "data": {
            "text/html": [
              "\n",
              "  <div id=\"df-71550703-f325-4b9d-9867-a3a13599f4b7\">\n",
              "    <div class=\"colab-df-container\">\n",
              "      <div>\n",
              "<style scoped>\n",
              "    .dataframe tbody tr th:only-of-type {\n",
              "        vertical-align: middle;\n",
              "    }\n",
              "\n",
              "    .dataframe tbody tr th {\n",
              "        vertical-align: top;\n",
              "    }\n",
              "\n",
              "    .dataframe thead th {\n",
              "        text-align: right;\n",
              "    }\n",
              "</style>\n",
              "<table border=\"1\" class=\"dataframe\">\n",
              "  <thead>\n",
              "    <tr style=\"text-align: right;\">\n",
              "      <th></th>\n",
              "      <th>text</th>\n",
              "      <th>category</th>\n",
              "    </tr>\n",
              "  </thead>\n",
              "  <tbody>\n",
              "    <tr>\n",
              "      <th>0</th>\n",
              "      <td>Clioquinol intoxication occurring in the trea...</td>\n",
              "      <td>neg</td>\n",
              "    </tr>\n",
              "    <tr>\n",
              "      <th>1</th>\n",
              "      <td>\"Retinoic acid syndrome\" was prevented with s...</td>\n",
              "      <td>neg</td>\n",
              "    </tr>\n",
              "    <tr>\n",
              "      <th>2</th>\n",
              "      <td>BACKGROUND: External beam radiation therapy o...</td>\n",
              "      <td>neg</td>\n",
              "    </tr>\n",
              "    <tr>\n",
              "      <th>3</th>\n",
              "      <td>Although the enuresis ceased, she developed t...</td>\n",
              "      <td>neg</td>\n",
              "    </tr>\n",
              "    <tr>\n",
              "      <th>4</th>\n",
              "      <td>A 42-year-old woman had uneventful bilateral ...</td>\n",
              "      <td>neg</td>\n",
              "    </tr>\n",
              "  </tbody>\n",
              "</table>\n",
              "</div>\n",
              "      <button class=\"colab-df-convert\" onclick=\"convertToInteractive('df-71550703-f325-4b9d-9867-a3a13599f4b7')\"\n",
              "              title=\"Convert this dataframe to an interactive table.\"\n",
              "              style=\"display:none;\">\n",
              "        \n",
              "  <svg xmlns=\"http://www.w3.org/2000/svg\" height=\"24px\"viewBox=\"0 0 24 24\"\n",
              "       width=\"24px\">\n",
              "    <path d=\"M0 0h24v24H0V0z\" fill=\"none\"/>\n",
              "    <path d=\"M18.56 5.44l.94 2.06.94-2.06 2.06-.94-2.06-.94-.94-2.06-.94 2.06-2.06.94zm-11 1L8.5 8.5l.94-2.06 2.06-.94-2.06-.94L8.5 2.5l-.94 2.06-2.06.94zm10 10l.94 2.06.94-2.06 2.06-.94-2.06-.94-.94-2.06-.94 2.06-2.06.94z\"/><path d=\"M17.41 7.96l-1.37-1.37c-.4-.4-.92-.59-1.43-.59-.52 0-1.04.2-1.43.59L10.3 9.45l-7.72 7.72c-.78.78-.78 2.05 0 2.83L4 21.41c.39.39.9.59 1.41.59.51 0 1.02-.2 1.41-.59l7.78-7.78 2.81-2.81c.8-.78.8-2.07 0-2.86zM5.41 20L4 18.59l7.72-7.72 1.47 1.35L5.41 20z\"/>\n",
              "  </svg>\n",
              "      </button>\n",
              "      \n",
              "  <style>\n",
              "    .colab-df-container {\n",
              "      display:flex;\n",
              "      flex-wrap:wrap;\n",
              "      gap: 12px;\n",
              "    }\n",
              "\n",
              "    .colab-df-convert {\n",
              "      background-color: #E8F0FE;\n",
              "      border: none;\n",
              "      border-radius: 50%;\n",
              "      cursor: pointer;\n",
              "      display: none;\n",
              "      fill: #1967D2;\n",
              "      height: 32px;\n",
              "      padding: 0 0 0 0;\n",
              "      width: 32px;\n",
              "    }\n",
              "\n",
              "    .colab-df-convert:hover {\n",
              "      background-color: #E2EBFA;\n",
              "      box-shadow: 0px 1px 2px rgba(60, 64, 67, 0.3), 0px 1px 3px 1px rgba(60, 64, 67, 0.15);\n",
              "      fill: #174EA6;\n",
              "    }\n",
              "\n",
              "    [theme=dark] .colab-df-convert {\n",
              "      background-color: #3B4455;\n",
              "      fill: #D2E3FC;\n",
              "    }\n",
              "\n",
              "    [theme=dark] .colab-df-convert:hover {\n",
              "      background-color: #434B5C;\n",
              "      box-shadow: 0px 1px 3px 1px rgba(0, 0, 0, 0.15);\n",
              "      filter: drop-shadow(0px 1px 2px rgba(0, 0, 0, 0.3));\n",
              "      fill: #FFFFFF;\n",
              "    }\n",
              "  </style>\n",
              "\n",
              "      <script>\n",
              "        const buttonEl =\n",
              "          document.querySelector('#df-71550703-f325-4b9d-9867-a3a13599f4b7 button.colab-df-convert');\n",
              "        buttonEl.style.display =\n",
              "          google.colab.kernel.accessAllowed ? 'block' : 'none';\n",
              "\n",
              "        async function convertToInteractive(key) {\n",
              "          const element = document.querySelector('#df-71550703-f325-4b9d-9867-a3a13599f4b7');\n",
              "          const dataTable =\n",
              "            await google.colab.kernel.invokeFunction('convertToInteractive',\n",
              "                                                     [key], {});\n",
              "          if (!dataTable) return;\n",
              "\n",
              "          const docLinkHtml = 'Like what you see? Visit the ' +\n",
              "            '<a target=\"_blank\" href=https://colab.research.google.com/notebooks/data_table.ipynb>data table notebook</a>'\n",
              "            + ' to learn more about interactive tables.';\n",
              "          element.innerHTML = '';\n",
              "          dataTable['output_type'] = 'display_data';\n",
              "          await google.colab.output.renderOutput(dataTable, element);\n",
              "          const docLink = document.createElement('div');\n",
              "          docLink.innerHTML = docLinkHtml;\n",
              "          element.appendChild(docLink);\n",
              "        }\n",
              "      </script>\n",
              "    </div>\n",
              "  </div>\n",
              "  "
            ],
            "text/plain": [
              "                                                text category\n",
              "0   Clioquinol intoxication occurring in the trea...      neg\n",
              "1   \"Retinoic acid syndrome\" was prevented with s...      neg\n",
              "2   BACKGROUND: External beam radiation therapy o...      neg\n",
              "3   Although the enuresis ceased, she developed t...      neg\n",
              "4   A 42-year-old woman had uneventful bilateral ...      neg"
            ]
          },
          "execution_count": 7,
          "metadata": {},
          "output_type": "execute_result"
        }
      ],
      "source": [
        "df_neg['text'] =  df_neg.col1.str.split('NEG').str[1]\n",
        "df_neg[\"category\"] = \"neg\"\n",
        "df_neg= df_neg[[\"text\", \"category\"]]\n",
        "df_neg.head()"
      ]
    },
    {
      "cell_type": "markdown",
      "metadata": {
        "id": "gzu9ELiirkMf"
      },
      "source": [
        "**ADE Positive Dataset**"
      ]
    },
    {
      "cell_type": "code",
      "execution_count": 8,
      "metadata": {
        "colab": {
          "base_uri": "https://localhost:8080/",
          "height": 206
        },
        "id": "F4Y20JbRqcLP",
        "outputId": "c9410bcf-2b8c-48e4-cc16-473302a2c3c0"
      },
      "outputs": [
        {
          "data": {
            "text/html": [
              "\n",
              "  <div id=\"df-6a2b6cfe-d69b-4c84-915a-b59b3c4856ff\">\n",
              "    <div class=\"colab-df-container\">\n",
              "      <div>\n",
              "<style scoped>\n",
              "    .dataframe tbody tr th:only-of-type {\n",
              "        vertical-align: middle;\n",
              "    }\n",
              "\n",
              "    .dataframe tbody tr th {\n",
              "        vertical-align: top;\n",
              "    }\n",
              "\n",
              "    .dataframe thead th {\n",
              "        text-align: right;\n",
              "    }\n",
              "</style>\n",
              "<table border=\"1\" class=\"dataframe\">\n",
              "  <thead>\n",
              "    <tr style=\"text-align: right;\">\n",
              "      <th></th>\n",
              "      <th>0</th>\n",
              "      <th>1</th>\n",
              "      <th>2</th>\n",
              "      <th>3</th>\n",
              "      <th>4</th>\n",
              "      <th>5</th>\n",
              "      <th>6</th>\n",
              "      <th>7</th>\n",
              "    </tr>\n",
              "  </thead>\n",
              "  <tbody>\n",
              "    <tr>\n",
              "      <th>0</th>\n",
              "      <td>10030778</td>\n",
              "      <td>Intravenous azithromycin-induced ototoxicity.</td>\n",
              "      <td>ototoxicity</td>\n",
              "      <td>43</td>\n",
              "      <td>54</td>\n",
              "      <td>azithromycin</td>\n",
              "      <td>22</td>\n",
              "      <td>34</td>\n",
              "    </tr>\n",
              "    <tr>\n",
              "      <th>1</th>\n",
              "      <td>10048291</td>\n",
              "      <td>Immobilization, while Paget's bone disease was...</td>\n",
              "      <td>increased calcium-release</td>\n",
              "      <td>960</td>\n",
              "      <td>985</td>\n",
              "      <td>dihydrotachysterol</td>\n",
              "      <td>908</td>\n",
              "      <td>926</td>\n",
              "    </tr>\n",
              "    <tr>\n",
              "      <th>2</th>\n",
              "      <td>10048291</td>\n",
              "      <td>Unaccountable severe hypercalcemia in a patien...</td>\n",
              "      <td>hypercalcemia</td>\n",
              "      <td>31</td>\n",
              "      <td>44</td>\n",
              "      <td>dihydrotachysterol</td>\n",
              "      <td>94</td>\n",
              "      <td>112</td>\n",
              "    </tr>\n",
              "    <tr>\n",
              "      <th>3</th>\n",
              "      <td>10082597</td>\n",
              "      <td>METHODS: We report two cases of pseudoporphyri...</td>\n",
              "      <td>pseudoporphyria</td>\n",
              "      <td>620</td>\n",
              "      <td>635</td>\n",
              "      <td>naproxen</td>\n",
              "      <td>646</td>\n",
              "      <td>654</td>\n",
              "    </tr>\n",
              "    <tr>\n",
              "      <th>4</th>\n",
              "      <td>10082597</td>\n",
              "      <td>METHODS: We report two cases of pseudoporphyri...</td>\n",
              "      <td>pseudoporphyria</td>\n",
              "      <td>620</td>\n",
              "      <td>635</td>\n",
              "      <td>oxaprozin</td>\n",
              "      <td>659</td>\n",
              "      <td>668</td>\n",
              "    </tr>\n",
              "  </tbody>\n",
              "</table>\n",
              "</div>\n",
              "      <button class=\"colab-df-convert\" onclick=\"convertToInteractive('df-6a2b6cfe-d69b-4c84-915a-b59b3c4856ff')\"\n",
              "              title=\"Convert this dataframe to an interactive table.\"\n",
              "              style=\"display:none;\">\n",
              "        \n",
              "  <svg xmlns=\"http://www.w3.org/2000/svg\" height=\"24px\"viewBox=\"0 0 24 24\"\n",
              "       width=\"24px\">\n",
              "    <path d=\"M0 0h24v24H0V0z\" fill=\"none\"/>\n",
              "    <path d=\"M18.56 5.44l.94 2.06.94-2.06 2.06-.94-2.06-.94-.94-2.06-.94 2.06-2.06.94zm-11 1L8.5 8.5l.94-2.06 2.06-.94-2.06-.94L8.5 2.5l-.94 2.06-2.06.94zm10 10l.94 2.06.94-2.06 2.06-.94-2.06-.94-.94-2.06-.94 2.06-2.06.94z\"/><path d=\"M17.41 7.96l-1.37-1.37c-.4-.4-.92-.59-1.43-.59-.52 0-1.04.2-1.43.59L10.3 9.45l-7.72 7.72c-.78.78-.78 2.05 0 2.83L4 21.41c.39.39.9.59 1.41.59.51 0 1.02-.2 1.41-.59l7.78-7.78 2.81-2.81c.8-.78.8-2.07 0-2.86zM5.41 20L4 18.59l7.72-7.72 1.47 1.35L5.41 20z\"/>\n",
              "  </svg>\n",
              "      </button>\n",
              "      \n",
              "  <style>\n",
              "    .colab-df-container {\n",
              "      display:flex;\n",
              "      flex-wrap:wrap;\n",
              "      gap: 12px;\n",
              "    }\n",
              "\n",
              "    .colab-df-convert {\n",
              "      background-color: #E8F0FE;\n",
              "      border: none;\n",
              "      border-radius: 50%;\n",
              "      cursor: pointer;\n",
              "      display: none;\n",
              "      fill: #1967D2;\n",
              "      height: 32px;\n",
              "      padding: 0 0 0 0;\n",
              "      width: 32px;\n",
              "    }\n",
              "\n",
              "    .colab-df-convert:hover {\n",
              "      background-color: #E2EBFA;\n",
              "      box-shadow: 0px 1px 2px rgba(60, 64, 67, 0.3), 0px 1px 3px 1px rgba(60, 64, 67, 0.15);\n",
              "      fill: #174EA6;\n",
              "    }\n",
              "\n",
              "    [theme=dark] .colab-df-convert {\n",
              "      background-color: #3B4455;\n",
              "      fill: #D2E3FC;\n",
              "    }\n",
              "\n",
              "    [theme=dark] .colab-df-convert:hover {\n",
              "      background-color: #434B5C;\n",
              "      box-shadow: 0px 1px 3px 1px rgba(0, 0, 0, 0.15);\n",
              "      filter: drop-shadow(0px 1px 2px rgba(0, 0, 0, 0.3));\n",
              "      fill: #FFFFFF;\n",
              "    }\n",
              "  </style>\n",
              "\n",
              "      <script>\n",
              "        const buttonEl =\n",
              "          document.querySelector('#df-6a2b6cfe-d69b-4c84-915a-b59b3c4856ff button.colab-df-convert');\n",
              "        buttonEl.style.display =\n",
              "          google.colab.kernel.accessAllowed ? 'block' : 'none';\n",
              "\n",
              "        async function convertToInteractive(key) {\n",
              "          const element = document.querySelector('#df-6a2b6cfe-d69b-4c84-915a-b59b3c4856ff');\n",
              "          const dataTable =\n",
              "            await google.colab.kernel.invokeFunction('convertToInteractive',\n",
              "                                                     [key], {});\n",
              "          if (!dataTable) return;\n",
              "\n",
              "          const docLinkHtml = 'Like what you see? Visit the ' +\n",
              "            '<a target=\"_blank\" href=https://colab.research.google.com/notebooks/data_table.ipynb>data table notebook</a>'\n",
              "            + ' to learn more about interactive tables.';\n",
              "          element.innerHTML = '';\n",
              "          dataTable['output_type'] = 'display_data';\n",
              "          await google.colab.output.renderOutput(dataTable, element);\n",
              "          const docLink = document.createElement('div');\n",
              "          docLink.innerHTML = docLinkHtml;\n",
              "          element.appendChild(docLink);\n",
              "        }\n",
              "      </script>\n",
              "    </div>\n",
              "  </div>\n",
              "  "
            ],
            "text/plain": [
              "          0                                                  1  \\\n",
              "0  10030778      Intravenous azithromycin-induced ototoxicity.   \n",
              "1  10048291  Immobilization, while Paget's bone disease was...   \n",
              "2  10048291  Unaccountable severe hypercalcemia in a patien...   \n",
              "3  10082597  METHODS: We report two cases of pseudoporphyri...   \n",
              "4  10082597  METHODS: We report two cases of pseudoporphyri...   \n",
              "\n",
              "                           2    3    4                   5    6    7  \n",
              "0                ototoxicity   43   54        azithromycin   22   34  \n",
              "1  increased calcium-release  960  985  dihydrotachysterol  908  926  \n",
              "2              hypercalcemia   31   44  dihydrotachysterol   94  112  \n",
              "3            pseudoporphyria  620  635            naproxen  646  654  \n",
              "4            pseudoporphyria  620  635           oxaprozin  659  668  "
            ]
          },
          "execution_count": 8,
          "metadata": {},
          "output_type": "execute_result"
        }
      ],
      "source": [
        "df_pos= pd.read_csv(\"DRUG-AE.rel\", header=None, delimiter=\"|\")\n",
        "df_pos.head()"
      ]
    },
    {
      "cell_type": "code",
      "execution_count": 9,
      "metadata": {
        "colab": {
          "base_uri": "https://localhost:8080/",
          "height": 206
        },
        "id": "ICMIXpnHrc5u",
        "outputId": "4c6117eb-640e-4f2d-e4c7-bd40f101b333"
      },
      "outputs": [
        {
          "data": {
            "text/html": [
              "\n",
              "  <div id=\"df-13deb39b-0b93-40bc-bdd4-c846f157ef1f\">\n",
              "    <div class=\"colab-df-container\">\n",
              "      <div>\n",
              "<style scoped>\n",
              "    .dataframe tbody tr th:only-of-type {\n",
              "        vertical-align: middle;\n",
              "    }\n",
              "\n",
              "    .dataframe tbody tr th {\n",
              "        vertical-align: top;\n",
              "    }\n",
              "\n",
              "    .dataframe thead th {\n",
              "        text-align: right;\n",
              "    }\n",
              "</style>\n",
              "<table border=\"1\" class=\"dataframe\">\n",
              "  <thead>\n",
              "    <tr style=\"text-align: right;\">\n",
              "      <th></th>\n",
              "      <th>text</th>\n",
              "      <th>category</th>\n",
              "    </tr>\n",
              "  </thead>\n",
              "  <tbody>\n",
              "    <tr>\n",
              "      <th>0</th>\n",
              "      <td>Intravenous azithromycin-induced ototoxicity.</td>\n",
              "      <td>pos</td>\n",
              "    </tr>\n",
              "    <tr>\n",
              "      <th>1</th>\n",
              "      <td>Immobilization, while Paget's bone disease was...</td>\n",
              "      <td>pos</td>\n",
              "    </tr>\n",
              "    <tr>\n",
              "      <th>2</th>\n",
              "      <td>Unaccountable severe hypercalcemia in a patien...</td>\n",
              "      <td>pos</td>\n",
              "    </tr>\n",
              "    <tr>\n",
              "      <th>3</th>\n",
              "      <td>METHODS: We report two cases of pseudoporphyri...</td>\n",
              "      <td>pos</td>\n",
              "    </tr>\n",
              "    <tr>\n",
              "      <th>4</th>\n",
              "      <td>METHODS: We report two cases of pseudoporphyri...</td>\n",
              "      <td>pos</td>\n",
              "    </tr>\n",
              "  </tbody>\n",
              "</table>\n",
              "</div>\n",
              "      <button class=\"colab-df-convert\" onclick=\"convertToInteractive('df-13deb39b-0b93-40bc-bdd4-c846f157ef1f')\"\n",
              "              title=\"Convert this dataframe to an interactive table.\"\n",
              "              style=\"display:none;\">\n",
              "        \n",
              "  <svg xmlns=\"http://www.w3.org/2000/svg\" height=\"24px\"viewBox=\"0 0 24 24\"\n",
              "       width=\"24px\">\n",
              "    <path d=\"M0 0h24v24H0V0z\" fill=\"none\"/>\n",
              "    <path d=\"M18.56 5.44l.94 2.06.94-2.06 2.06-.94-2.06-.94-.94-2.06-.94 2.06-2.06.94zm-11 1L8.5 8.5l.94-2.06 2.06-.94-2.06-.94L8.5 2.5l-.94 2.06-2.06.94zm10 10l.94 2.06.94-2.06 2.06-.94-2.06-.94-.94-2.06-.94 2.06-2.06.94z\"/><path d=\"M17.41 7.96l-1.37-1.37c-.4-.4-.92-.59-1.43-.59-.52 0-1.04.2-1.43.59L10.3 9.45l-7.72 7.72c-.78.78-.78 2.05 0 2.83L4 21.41c.39.39.9.59 1.41.59.51 0 1.02-.2 1.41-.59l7.78-7.78 2.81-2.81c.8-.78.8-2.07 0-2.86zM5.41 20L4 18.59l7.72-7.72 1.47 1.35L5.41 20z\"/>\n",
              "  </svg>\n",
              "      </button>\n",
              "      \n",
              "  <style>\n",
              "    .colab-df-container {\n",
              "      display:flex;\n",
              "      flex-wrap:wrap;\n",
              "      gap: 12px;\n",
              "    }\n",
              "\n",
              "    .colab-df-convert {\n",
              "      background-color: #E8F0FE;\n",
              "      border: none;\n",
              "      border-radius: 50%;\n",
              "      cursor: pointer;\n",
              "      display: none;\n",
              "      fill: #1967D2;\n",
              "      height: 32px;\n",
              "      padding: 0 0 0 0;\n",
              "      width: 32px;\n",
              "    }\n",
              "\n",
              "    .colab-df-convert:hover {\n",
              "      background-color: #E2EBFA;\n",
              "      box-shadow: 0px 1px 2px rgba(60, 64, 67, 0.3), 0px 1px 3px 1px rgba(60, 64, 67, 0.15);\n",
              "      fill: #174EA6;\n",
              "    }\n",
              "\n",
              "    [theme=dark] .colab-df-convert {\n",
              "      background-color: #3B4455;\n",
              "      fill: #D2E3FC;\n",
              "    }\n",
              "\n",
              "    [theme=dark] .colab-df-convert:hover {\n",
              "      background-color: #434B5C;\n",
              "      box-shadow: 0px 1px 3px 1px rgba(0, 0, 0, 0.15);\n",
              "      filter: drop-shadow(0px 1px 2px rgba(0, 0, 0, 0.3));\n",
              "      fill: #FFFFFF;\n",
              "    }\n",
              "  </style>\n",
              "\n",
              "      <script>\n",
              "        const buttonEl =\n",
              "          document.querySelector('#df-13deb39b-0b93-40bc-bdd4-c846f157ef1f button.colab-df-convert');\n",
              "        buttonEl.style.display =\n",
              "          google.colab.kernel.accessAllowed ? 'block' : 'none';\n",
              "\n",
              "        async function convertToInteractive(key) {\n",
              "          const element = document.querySelector('#df-13deb39b-0b93-40bc-bdd4-c846f157ef1f');\n",
              "          const dataTable =\n",
              "            await google.colab.kernel.invokeFunction('convertToInteractive',\n",
              "                                                     [key], {});\n",
              "          if (!dataTable) return;\n",
              "\n",
              "          const docLinkHtml = 'Like what you see? Visit the ' +\n",
              "            '<a target=\"_blank\" href=https://colab.research.google.com/notebooks/data_table.ipynb>data table notebook</a>'\n",
              "            + ' to learn more about interactive tables.';\n",
              "          element.innerHTML = '';\n",
              "          dataTable['output_type'] = 'display_data';\n",
              "          await google.colab.output.renderOutput(dataTable, element);\n",
              "          const docLink = document.createElement('div');\n",
              "          docLink.innerHTML = docLinkHtml;\n",
              "          element.appendChild(docLink);\n",
              "        }\n",
              "      </script>\n",
              "    </div>\n",
              "  </div>\n",
              "  "
            ],
            "text/plain": [
              "                                                text category\n",
              "0      Intravenous azithromycin-induced ototoxicity.      pos\n",
              "1  Immobilization, while Paget's bone disease was...      pos\n",
              "2  Unaccountable severe hypercalcemia in a patien...      pos\n",
              "3  METHODS: We report two cases of pseudoporphyri...      pos\n",
              "4  METHODS: We report two cases of pseudoporphyri...      pos"
            ]
          },
          "execution_count": 9,
          "metadata": {},
          "output_type": "execute_result"
        }
      ],
      "source": [
        "df_pos[\"category\"]= \"pos\"\n",
        "df_pos.rename(columns={1: \"text\"}, inplace=True)\n",
        "df_pos= df_pos[[\"text\", \"category\"]]\n",
        "df_pos.head()"
      ]
    },
    {
      "cell_type": "markdown",
      "metadata": {
        "id": "V2iOoomSwTeH"
      },
      "source": [
        "**Merging Positive and Negative dataset**"
      ]
    },
    {
      "cell_type": "code",
      "execution_count": 10,
      "metadata": {
        "colab": {
          "base_uri": "https://localhost:8080/",
          "height": 206
        },
        "id": "3ju23pYJrcxT",
        "outputId": "29850cc0-cdd6-4d34-8332-ca95fa488150"
      },
      "outputs": [
        {
          "data": {
            "text/html": [
              "\n",
              "  <div id=\"df-c2e0eca5-fc8a-413d-a6b9-8211fc9ccf76\">\n",
              "    <div class=\"colab-df-container\">\n",
              "      <div>\n",
              "<style scoped>\n",
              "    .dataframe tbody tr th:only-of-type {\n",
              "        vertical-align: middle;\n",
              "    }\n",
              "\n",
              "    .dataframe tbody tr th {\n",
              "        vertical-align: top;\n",
              "    }\n",
              "\n",
              "    .dataframe thead th {\n",
              "        text-align: right;\n",
              "    }\n",
              "</style>\n",
              "<table border=\"1\" class=\"dataframe\">\n",
              "  <thead>\n",
              "    <tr style=\"text-align: right;\">\n",
              "      <th></th>\n",
              "      <th>text</th>\n",
              "      <th>category</th>\n",
              "    </tr>\n",
              "  </thead>\n",
              "  <tbody>\n",
              "    <tr>\n",
              "      <th>0</th>\n",
              "      <td>Clioquinol intoxication occurring in the trea...</td>\n",
              "      <td>neg</td>\n",
              "    </tr>\n",
              "    <tr>\n",
              "      <th>1</th>\n",
              "      <td>\"Retinoic acid syndrome\" was prevented with s...</td>\n",
              "      <td>neg</td>\n",
              "    </tr>\n",
              "    <tr>\n",
              "      <th>2</th>\n",
              "      <td>BACKGROUND: External beam radiation therapy o...</td>\n",
              "      <td>neg</td>\n",
              "    </tr>\n",
              "    <tr>\n",
              "      <th>3</th>\n",
              "      <td>Although the enuresis ceased, she developed t...</td>\n",
              "      <td>neg</td>\n",
              "    </tr>\n",
              "    <tr>\n",
              "      <th>4</th>\n",
              "      <td>A 42-year-old woman had uneventful bilateral ...</td>\n",
              "      <td>neg</td>\n",
              "    </tr>\n",
              "  </tbody>\n",
              "</table>\n",
              "</div>\n",
              "      <button class=\"colab-df-convert\" onclick=\"convertToInteractive('df-c2e0eca5-fc8a-413d-a6b9-8211fc9ccf76')\"\n",
              "              title=\"Convert this dataframe to an interactive table.\"\n",
              "              style=\"display:none;\">\n",
              "        \n",
              "  <svg xmlns=\"http://www.w3.org/2000/svg\" height=\"24px\"viewBox=\"0 0 24 24\"\n",
              "       width=\"24px\">\n",
              "    <path d=\"M0 0h24v24H0V0z\" fill=\"none\"/>\n",
              "    <path d=\"M18.56 5.44l.94 2.06.94-2.06 2.06-.94-2.06-.94-.94-2.06-.94 2.06-2.06.94zm-11 1L8.5 8.5l.94-2.06 2.06-.94-2.06-.94L8.5 2.5l-.94 2.06-2.06.94zm10 10l.94 2.06.94-2.06 2.06-.94-2.06-.94-.94-2.06-.94 2.06-2.06.94z\"/><path d=\"M17.41 7.96l-1.37-1.37c-.4-.4-.92-.59-1.43-.59-.52 0-1.04.2-1.43.59L10.3 9.45l-7.72 7.72c-.78.78-.78 2.05 0 2.83L4 21.41c.39.39.9.59 1.41.59.51 0 1.02-.2 1.41-.59l7.78-7.78 2.81-2.81c.8-.78.8-2.07 0-2.86zM5.41 20L4 18.59l7.72-7.72 1.47 1.35L5.41 20z\"/>\n",
              "  </svg>\n",
              "      </button>\n",
              "      \n",
              "  <style>\n",
              "    .colab-df-container {\n",
              "      display:flex;\n",
              "      flex-wrap:wrap;\n",
              "      gap: 12px;\n",
              "    }\n",
              "\n",
              "    .colab-df-convert {\n",
              "      background-color: #E8F0FE;\n",
              "      border: none;\n",
              "      border-radius: 50%;\n",
              "      cursor: pointer;\n",
              "      display: none;\n",
              "      fill: #1967D2;\n",
              "      height: 32px;\n",
              "      padding: 0 0 0 0;\n",
              "      width: 32px;\n",
              "    }\n",
              "\n",
              "    .colab-df-convert:hover {\n",
              "      background-color: #E2EBFA;\n",
              "      box-shadow: 0px 1px 2px rgba(60, 64, 67, 0.3), 0px 1px 3px 1px rgba(60, 64, 67, 0.15);\n",
              "      fill: #174EA6;\n",
              "    }\n",
              "\n",
              "    [theme=dark] .colab-df-convert {\n",
              "      background-color: #3B4455;\n",
              "      fill: #D2E3FC;\n",
              "    }\n",
              "\n",
              "    [theme=dark] .colab-df-convert:hover {\n",
              "      background-color: #434B5C;\n",
              "      box-shadow: 0px 1px 3px 1px rgba(0, 0, 0, 0.15);\n",
              "      filter: drop-shadow(0px 1px 2px rgba(0, 0, 0, 0.3));\n",
              "      fill: #FFFFFF;\n",
              "    }\n",
              "  </style>\n",
              "\n",
              "      <script>\n",
              "        const buttonEl =\n",
              "          document.querySelector('#df-c2e0eca5-fc8a-413d-a6b9-8211fc9ccf76 button.colab-df-convert');\n",
              "        buttonEl.style.display =\n",
              "          google.colab.kernel.accessAllowed ? 'block' : 'none';\n",
              "\n",
              "        async function convertToInteractive(key) {\n",
              "          const element = document.querySelector('#df-c2e0eca5-fc8a-413d-a6b9-8211fc9ccf76');\n",
              "          const dataTable =\n",
              "            await google.colab.kernel.invokeFunction('convertToInteractive',\n",
              "                                                     [key], {});\n",
              "          if (!dataTable) return;\n",
              "\n",
              "          const docLinkHtml = 'Like what you see? Visit the ' +\n",
              "            '<a target=\"_blank\" href=https://colab.research.google.com/notebooks/data_table.ipynb>data table notebook</a>'\n",
              "            + ' to learn more about interactive tables.';\n",
              "          element.innerHTML = '';\n",
              "          dataTable['output_type'] = 'display_data';\n",
              "          await google.colab.output.renderOutput(dataTable, element);\n",
              "          const docLink = document.createElement('div');\n",
              "          docLink.innerHTML = docLinkHtml;\n",
              "          element.appendChild(docLink);\n",
              "        }\n",
              "      </script>\n",
              "    </div>\n",
              "  </div>\n",
              "  "
            ],
            "text/plain": [
              "                                                text category\n",
              "0   Clioquinol intoxication occurring in the trea...      neg\n",
              "1   \"Retinoic acid syndrome\" was prevented with s...      neg\n",
              "2   BACKGROUND: External beam radiation therapy o...      neg\n",
              "3   Although the enuresis ceased, she developed t...      neg\n",
              "4   A 42-year-old woman had uneventful bilateral ...      neg"
            ]
          },
          "execution_count": 10,
          "metadata": {},
          "output_type": "execute_result"
        }
      ],
      "source": [
        "ade_df= pd.concat([df_neg, df_pos])\n",
        "ade_df.head()"
      ]
    },
    {
      "cell_type": "code",
      "execution_count": 11,
      "metadata": {
        "colab": {
          "base_uri": "https://localhost:8080/"
        },
        "id": "Lg_RjRi1lFUa",
        "outputId": "593e6bdd-f575-408e-85ac-ef8fd8327071"
      },
      "outputs": [
        {
          "data": {
            "text/plain": [
              "neg    16695\n",
              "pos     6821\n",
              "Name: category, dtype: int64"
            ]
          },
          "execution_count": 11,
          "metadata": {},
          "output_type": "execute_result"
        }
      ],
      "source": [
        "ade_df[\"category\"].value_counts()"
      ]
    },
    {
      "cell_type": "code",
      "execution_count": 12,
      "metadata": {
        "colab": {
          "base_uri": "https://localhost:8080/"
        },
        "id": "wMWdhHvjzGRp",
        "outputId": "d8e1bfa9-c290-4313-94cb-1d1ab5fd219f"
      },
      "outputs": [
        {
          "name": "stdout",
          "output_type": "stream",
          "text": [
            "<class 'pandas.core.frame.DataFrame'>\n",
            "Int64Index: 23516 entries, 0 to 6820\n",
            "Data columns (total 2 columns):\n",
            " #   Column    Non-Null Count  Dtype \n",
            "---  ------    --------------  ----- \n",
            " 0   text      23516 non-null  object\n",
            " 1   category  23516 non-null  object\n",
            "dtypes: object(2)\n",
            "memory usage: 551.2+ KB\n"
          ]
        }
      ],
      "source": [
        "ade_df.info()"
      ]
    },
    {
      "cell_type": "markdown",
      "metadata": {
        "id": "d3QJwfWXYd2-"
      },
      "source": [
        "We take 30% of the data to make a faster run. You can use all data for better scores."
      ]
    },
    {
      "cell_type": "code",
      "execution_count": 13,
      "metadata": {
        "colab": {
          "base_uri": "https://localhost:8080/"
        },
        "id": "54RWnCr0yWL5",
        "outputId": "6ecca3d0-2d32-4b2c-ae2a-9351db92bb14"
      },
      "outputs": [
        {
          "name": "stdout",
          "output_type": "stream",
          "text": [
            "Training Dataset Count: 5531\n",
            "Test Dataset Count: 1427\n"
          ]
        }
      ],
      "source": [
        "spark_df = spark.createDataFrame(ade_df).sample(0.3, 3) # limit the data\n",
        "\n",
        "trainingData, testData = spark_df.randomSplit([0.8, 0.2], seed = 100)\n",
        "\n",
        "print(\"Training Dataset Count: \" + str(trainingData.count()))\n",
        "print(\"Test Dataset Count: \" + str(testData.count()))"
      ]
    },
    {
      "cell_type": "code",
      "execution_count": 14,
      "metadata": {
        "colab": {
          "base_uri": "https://localhost:8080/"
        },
        "id": "c3nAmtMmcu_q",
        "outputId": "d19769d4-3997-4eea-8107-023428370c98"
      },
      "outputs": [
        {
          "name": "stdout",
          "output_type": "stream",
          "text": [
            "+--------+-----+\n",
            "|category|count|\n",
            "+--------+-----+\n",
            "|     pos| 2026|\n",
            "|     neg| 4932|\n",
            "+--------+-----+\n",
            "\n"
          ]
        }
      ],
      "source": [
        "spark_df.groupBy(\"category\").count().show()"
      ]
    },
    {
      "cell_type": "code",
      "execution_count": 15,
      "metadata": {
        "colab": {
          "base_uri": "https://localhost:8080/"
        },
        "id": "UXGiAxzX_RJd",
        "outputId": "cbd9a032-5c89-4758-9f7f-bcb846ae7f45"
      },
      "outputs": [
        {
          "name": "stdout",
          "output_type": "stream",
          "text": [
            "root\n",
            " |-- text: string (nullable = true)\n",
            " |-- category: string (nullable = true)\n",
            "\n"
          ]
        }
      ],
      "source": [
        "spark_df.printSchema()"
      ]
    },
    {
      "cell_type": "code",
      "execution_count": 16,
      "metadata": {
        "colab": {
          "base_uri": "https://localhost:8080/"
        },
        "id": "fnTr4Bs_seoA",
        "outputId": "7bb8560e-120b-4471-ed8f-1766890e3e4a"
      },
      "outputs": [
        {
          "data": {
            "text/plain": [
              "[Row(text=' Clioquinol intoxication occurring in the treatment of acrodermatitis enteropathica with reference to SMON outside of Japan.', category='neg'),\n",
              " Row(text=' A 42-year-old woman had uneventful bilateral laser-assisted subepithelial keratectomy (LASEK) to correct myopia.', category='neg'),\n",
              " Row(text=' A 16-year-old girl with erosive, polyarticular JRA showed no detectable change in her articular disease following nine exchanges.', category='neg')]"
            ]
          },
          "execution_count": 16,
          "metadata": {},
          "output_type": "execute_result"
        }
      ],
      "source": [
        "spark_df.head(3)"
      ]
    },
    {
      "cell_type": "markdown",
      "metadata": {
        "id": "BCAJFO4YDbcj"
      },
      "source": [
        "## 100 Dimension Healthcare Embeddings (embeddings_healthcare_100d)\n",
        "\n"
      ]
    },
    {
      "cell_type": "markdown",
      "metadata": {
        "id": "oDySIR35ECjy"
      },
      "source": [
        "Now we will extract [healthcare_100d embeddings](https://nlp.johnsnowlabs.com/2020/05/29/embeddings_healthcare_100d_en.html) and use it in the classificaiton model training."
      ]
    },
    {
      "cell_type": "code",
      "execution_count": 17,
      "metadata": {
        "colab": {
          "base_uri": "https://localhost:8080/"
        },
        "id": "oxFX8bVEDbcj",
        "outputId": "3b612f83-5f3d-4ab7-8918-8cae64069405"
      },
      "outputs": [
        {
          "name": "stdout",
          "output_type": "stream",
          "text": [
            "embeddings_healthcare_100d download started this may take some time.\n",
            "Approximate size to download 475.8 MB\n",
            "[OK!]\n"
          ]
        }
      ],
      "source": [
        "document_assembler = nlp.DocumentAssembler()\\\n",
        "        .setInputCol(\"text\")\\\n",
        "        .setOutputCol(\"document\")\n",
        "\n",
        "tokenizer = nlp.Tokenizer() \\\n",
        "            .setInputCols([\"document\"]) \\\n",
        "            .setOutputCol(\"token\")\n",
        "\n",
        "word_embeddings = nlp.WordEmbeddingsModel.pretrained(\"embeddings_healthcare_100d\",\"en\",\"clinical/models\")\\\n",
        "        .setInputCols([\"document\",\"token\"])\\\n",
        "        .setOutputCol(\"word_embeddings\")\n",
        "\n",
        "sentence_embeddings = nlp.SentenceEmbeddings() \\\n",
        "        .setInputCols([\"document\", \"word_embeddings\"]) \\\n",
        "        .setOutputCol(\"sentence_embeddings\") \\\n",
        "        .setPoolingStrategy(\"AVERAGE\")\n",
        "\n",
        "embeddings_pipeline = nlp.Pipeline(\n",
        "    stages = [\n",
        "        document_assembler,\n",
        "        tokenizer,\n",
        "        word_embeddings,\n",
        "        sentence_embeddings,\n",
        "\n",
        "    ])"
      ]
    },
    {
      "cell_type": "code",
      "execution_count": 18,
      "metadata": {
        "colab": {
          "base_uri": "https://localhost:8080/"
        },
        "id": "ihBi5IicDbcj",
        "outputId": "a5a5d516-33dd-40d0-c147-d8b135237090"
      },
      "outputs": [
        {
          "name": "stdout",
          "output_type": "stream",
          "text": [
            "+--------------------------------------------------------------------------------+--------+--------------------------------------------------------------------------------+\n",
            "|                                                                            text|category|                                                             sentence_embeddings|\n",
            "+--------------------------------------------------------------------------------+--------+--------------------------------------------------------------------------------+\n",
            "| \"Syndrome malin\"-like symptoms probably due to interaction between neurolept...|     neg|[{sentence_embeddings, 0, 109,  \"Syndrome malin\"-like symptoms probably due t...|\n",
            "| 'Bail-out' bivalirudin use in patients with thrombotic complications unrespo...|     neg|[{sentence_embeddings, 0, 150,  'Bail-out' bivalirudin use in patients with t...|\n",
            "+--------------------------------------------------------------------------------+--------+--------------------------------------------------------------------------------+\n",
            "only showing top 2 rows\n",
            "\n"
          ]
        }
      ],
      "source": [
        "trainingData_with_embeddings = embeddings_pipeline.fit(trainingData).transform(trainingData)\n",
        "trainingData_with_embeddings = trainingData_with_embeddings.select(\"text\",\"category\",\"sentence_embeddings\")\n",
        "trainingData_with_embeddings.show(2,truncate=80)"
      ]
    },
    {
      "cell_type": "code",
      "execution_count": 19,
      "metadata": {
        "colab": {
          "base_uri": "https://localhost:8080/"
        },
        "id": "yGWfNABSDbck",
        "outputId": "c6fbcd89-8d63-4f60-a149-6e8f6b27fca5"
      },
      "outputs": [
        {
          "name": "stdout",
          "output_type": "stream",
          "text": [
            "+--------------------------------------------------------------------------------+--------+--------------------------------------------------------------------------------+\n",
            "|                                                                            text|category|                                                             sentence_embeddings|\n",
            "+--------------------------------------------------------------------------------+--------+--------------------------------------------------------------------------------+\n",
            "| 1 previously untreated patient with plasma-cell leukaemia and 8 patients wit...|     neg|[{sentence_embeddings, 0, 166,  1 previously untreated patient with plasma-ce...|\n",
            "| A 15-year-old boy had temporary hypertropia, supraduction deficit, ipsilater...|     neg|[{sentence_embeddings, 0, 262,  A 15-year-old boy had temporary hypertropia, ...|\n",
            "+--------------------------------------------------------------------------------+--------+--------------------------------------------------------------------------------+\n",
            "only showing top 2 rows\n",
            "\n"
          ]
        }
      ],
      "source": [
        "testData_with_embeddings = embeddings_pipeline.fit(testData).transform(testData)\n",
        "testData_with_embeddings = testData_with_embeddings.select(\"text\",\"category\",\"sentence_embeddings\")\n",
        "testData_with_embeddings.show(2,truncate=80)"
      ]
    },
    {
      "cell_type": "code",
      "execution_count": 20,
      "metadata": {
        "colab": {
          "base_uri": "https://localhost:8080/"
        },
        "id": "jC4RxfRuqrj1",
        "outputId": "738fb36b-ae8c-48e6-d530-98615d02783c"
      },
      "outputs": [
        {
          "name": "stdout",
          "output_type": "stream",
          "text": [
            "root\n",
            " |-- text: string (nullable = true)\n",
            " |-- category: string (nullable = true)\n",
            " |-- sentence_embeddings: array (nullable = true)\n",
            " |    |-- element: struct (containsNull = true)\n",
            " |    |    |-- annotatorType: string (nullable = true)\n",
            " |    |    |-- begin: integer (nullable = false)\n",
            " |    |    |-- end: integer (nullable = false)\n",
            " |    |    |-- result: string (nullable = true)\n",
            " |    |    |-- metadata: map (nullable = true)\n",
            " |    |    |    |-- key: string\n",
            " |    |    |    |-- value: string (valueContainsNull = true)\n",
            " |    |    |-- embeddings: array (nullable = true)\n",
            " |    |    |    |-- element: float (containsNull = false)\n",
            "\n"
          ]
        }
      ],
      "source": [
        "testData_with_embeddings.printSchema()"
      ]
    },
    {
      "cell_type": "code",
      "execution_count": 21,
      "metadata": {
        "colab": {
          "base_uri": "https://localhost:8080/"
        },
        "id": "YfN3PwLxqS4r",
        "outputId": "b9ba5435-e102-44d8-f2bd-8e7156d5d62f"
      },
      "outputs": [
        {
          "name": "stdout",
          "output_type": "stream",
          "text": [
            "+-----------------------------------------------------------------------------------------------------------------------------------------------------------------------------------------------------------------------------------------------------------------------------------------------------------------------------------------------------------------------------------------------------------------------------------------------------------------------------------------------------------------------------------------------------------------------------------------------------------------------------------------------------------------------------------------------------------------------------------------------------------------------------------------------------------------------------------------------------------------------------------------------------------------------------------------------------------------------------------------------------------------------------------------------------------------------------------------------------------------------------------------------------------------------------------------------------------------------------------------------------------------------------------------------------------------------+\n",
            "|sentence_embeddings.embeddings                                                                                                                                                                                                                                                                                                                                                                                                                                                                                                                                                                                                                                                                                                                                                                                                                                                                                                                                                                                                                                                                                                                                                                                                                                                                                         |\n",
            "+-----------------------------------------------------------------------------------------------------------------------------------------------------------------------------------------------------------------------------------------------------------------------------------------------------------------------------------------------------------------------------------------------------------------------------------------------------------------------------------------------------------------------------------------------------------------------------------------------------------------------------------------------------------------------------------------------------------------------------------------------------------------------------------------------------------------------------------------------------------------------------------------------------------------------------------------------------------------------------------------------------------------------------------------------------------------------------------------------------------------------------------------------------------------------------------------------------------------------------------------------------------------------------------------------------------------------+\n",
            "|[[0.022050034, -0.015850784, 0.11884041, 0.16476665, -0.14348501, -0.1576596, -0.031154968, -0.1393246, 0.008547665, 0.01948343, -0.06832732, -0.23502605, 0.16064002, 0.16505416, 0.2740694, 0.07459623, -0.1776, -0.14385794, -0.13320805, 0.0254037, 0.13955306, -0.39874554, 0.21927465, -0.05248432, -0.013975959, -0.09057002, 0.08343936, 0.26041448, 0.061222605, -0.07655008, -0.042449083, -0.15549056, 0.029453786, -4.287451E-4, 0.0770777, 0.052662022, 0.04082857, 0.25772887, 0.057650663, -0.11365128, -0.032210674, -0.1047935, 0.02238484, -0.16155325, -0.121390514, 0.021449536, -0.21215256, -0.34033817, 0.24506395, -0.23816873, -0.32267797, -0.17322257, -0.13762051, 0.17141055, 0.068881445, 0.32408792, 0.0066144993, 0.097635254, 0.17141618, -0.18405564, -0.14688526, -0.1419593, 0.004553265, -0.011070732, -0.12574588, 0.191843, 0.030556304, 1.5938584E-5, -0.16586679, 0.10518273, 0.11186178, 0.045896884, -0.09700643, 0.1546321, -0.0018957073, -0.15406738, 0.040614784, 0.009987646, -0.14022075, -0.121953055, -0.027745197, -0.18565337, -0.07562292, 0.20089634, 0.10763431, -0.08733105, 0.037615, 0.23033628, -0.098229475, 0.114785895, 0.132198, -0.07346697, -0.184836, 0.23428474, 0.0014427511, 0.031846795, -0.09335248, 0.2601243, -0.020144142, -0.05439963]]    |\n",
            "|[[0.036828704, 0.052321058, 0.11382609, -0.05798419, -0.1450678, 0.13031518, 0.13105926, 0.077215254, -0.11359191, -0.052483696, 0.025067052, -0.065493144, 0.0972958, 0.17433612, 0.32081118, 0.120722145, -0.060612965, -0.13809446, -0.0633434, 0.08836364, -0.05126225, -0.28671345, -0.02139778, -0.24837501, -0.19183423, -0.048396163, -0.03277982, 0.42781973, 0.06354014, 0.13798347, -0.045132216, -0.19414294, 0.014440931, 0.14622109, 0.1534094, -0.115605995, -0.21968617, 0.3393487, 0.077721894, 0.0066978885, -0.26575065, -0.2803977, 0.1971252, -0.2754831, -0.013873734, 0.031998154, -0.22224252, -0.4223647, 0.12533534, -0.24477065, -0.20392273, -0.2595492, -0.28265497, 0.118678354, 0.012662884, 0.17667644, -0.025581334, 0.04520109, 0.23938307, -0.18062139, -0.17067623, -0.16384235, -0.11276326, -0.054647528, -0.0875182, 0.13253942, 0.31704667, 0.11637622, 0.109152205, 0.32440117, -0.05386958, 0.24748857, -0.15540409, 0.2030577, 0.09518503, -0.069421776, -0.020613715, -0.06336081, -0.09288615, -0.067019716, 0.12710205, -0.09450426, 0.060741078, 0.20993252, -0.13400853, -0.122290775, -0.13350283, -0.028439805, -0.16822737, 0.03975756, 0.07278193, 0.10378045, -0.163854, 0.08184167, -0.22104272, 0.005102664, 0.00906274, 0.40425077, -0.19299535, -0.08048587]] |\n",
            "|[[0.06133546, 0.08840095, 0.15639272, 0.114668004, -0.2140057, -0.08125059, 0.08913489, -0.1002837, 0.004876906, -0.074242726, 0.03445086, -0.14109944, 0.19309564, 0.25734743, 0.25590873, 0.107905254, -0.14508152, -0.18583016, -0.092931755, -0.01544418, 0.0125256125, -0.4040237, 0.08747564, -0.11891114, -0.07511187, -0.12213378, -0.026458537, 0.3580473, 0.12741722, -6.861486E-4, -0.12040229, -0.09489917, 0.13890828, 0.054144114, 0.15664355, -0.067553274, -0.08660592, 0.32107133, 0.08193131, -0.03477757, -0.090152316, -0.243487, 0.1391524, -0.15884571, -0.14609669, 0.09713936, -0.28682235, -0.36976308, 0.25402966, -0.13950408, -0.2593149, -0.22419378, -0.2506967, 0.10783362, 0.06381494, 0.2983351, -0.0029599816, 0.16719376, 0.15912123, -0.15692592, -0.19489051, -0.11727452, 0.009319597, -0.04369802, -0.0766744, 0.17832157, 0.05303132, 0.113078065, -0.048853863, 0.17880191, 0.15312684, 0.05760455, -0.11058054, 0.19222456, -0.07548987, -0.18384753, -0.10525153, -0.053241875, -0.05763864, -0.0052016587, -0.02037694, -0.19389628, -0.004329425, 0.18860058, 0.04699045, -0.03298173, -0.08882544, 0.2566961, -0.052023698, 0.122032925, 0.15283778, -0.062266868, -0.21671638, 0.20687981, -0.071965605, 0.111865, -0.017279066, 0.30696622, -0.019217268, -0.11909051]]|\n",
            "+-----------------------------------------------------------------------------------------------------------------------------------------------------------------------------------------------------------------------------------------------------------------------------------------------------------------------------------------------------------------------------------------------------------------------------------------------------------------------------------------------------------------------------------------------------------------------------------------------------------------------------------------------------------------------------------------------------------------------------------------------------------------------------------------------------------------------------------------------------------------------------------------------------------------------------------------------------------------------------------------------------------------------------------------------------------------------------------------------------------------------------------------------------------------------------------------------------------------------------------------------------------------------------------------------------------------------+\n",
            "only showing top 3 rows\n",
            "\n"
          ]
        }
      ],
      "source": [
        "testData_with_embeddings.select(testData_with_embeddings.sentence_embeddings.embeddings).show(3,truncate=False)"
      ]
    },
    {
      "cell_type": "code",
      "execution_count": 22,
      "metadata": {
        "id": "C4nDUXMnadqo"
      },
      "outputs": [],
      "source": [
        "log_folder=\"ADE_logs_healthcare_100d\"\n",
        "!mkdir -p $log_folder"
      ]
    },
    {
      "cell_type": "markdown",
      "metadata": {
        "id": "Q9MywCqKDbck"
      },
      "source": [
        "### ClassifierDLApproach"
      ]
    },
    {
      "cell_type": "code",
      "execution_count": 23,
      "metadata": {
        "id": "EhvRGlkmDbck"
      },
      "outputs": [],
      "source": [
        "classifier_dl = nlp.ClassifierDLApproach()\\\n",
        "        .setInputCols([\"sentence_embeddings\"])\\\n",
        "        .setOutputCol(\"prediction\")\\\n",
        "        .setLabelColumn(\"category\")\\\n",
        "        .setBatchSize(16)\\\n",
        "        .setMaxEpochs(30)\\\n",
        "        .setLr(0.002)\\\n",
        "        .setDropout(0.3)\\\n",
        "        .setEnableOutputLogs(True)\\\n",
        "        .setOutputLogsPath(log_folder)\\\n",
        "        # .setValidationSplit(0.1)\n",
        "\n",
        "classifier_dl_pipeline = nlp.Pipeline(\n",
        "    stages = [\n",
        "        classifier_dl\n",
        "    ])"
      ]
    },
    {
      "cell_type": "code",
      "execution_count": 24,
      "metadata": {
        "id": "lM7Dpdx7Dbck"
      },
      "outputs": [],
      "source": [
        "clfDL_model_hc100 = classifier_dl_pipeline.fit(trainingData_with_embeddings)"
      ]
    },
    {
      "cell_type": "code",
      "execution_count": 25,
      "metadata": {
        "colab": {
          "base_uri": "https://localhost:8080/"
        },
        "id": "2UbziPErDbck",
        "outputId": "9ee20f5f-5d21-4a7b-e4d8-2831bba46ee3"
      },
      "outputs": [
        {
          "name": "stdout",
          "output_type": "stream",
          "text": [
            "Training started - epochs: 30 - learning_rate: 0.002 - batch_size: 16 - training_examples: 5531 - classes: 2\n",
            "Epoch 0/30 - 2.97s - loss: 213.4142 - acc: 0.71500325 - batches: 346\n",
            "Epoch 1/30 - 0.72s - loss: 213.3889 - acc: 0.71590906 - batches: 346\n",
            "Epoch 2/30 - 0.69s - loss: 213.38892 - acc: 0.71590906 - batches: 346\n",
            "Epoch 3/30 - 0.68s - loss: 213.38892 - acc: 0.71590906 - batches: 346\n",
            "Epoch 4/30 - 0.69s - loss: 213.3875 - acc: 0.71590906 - batches: 346\n",
            "Epoch 5/30 - 0.67s - loss: 196.64636 - acc: 0.7421607 - batches: 346\n",
            "Epoch 6/30 - 0.66s - loss: 186.75948 - acc: 0.7858201 - batches: 346\n",
            "Epoch 7/30 - 0.64s - loss: 182.13054 - acc: 0.7962286 - batches: 346\n",
            "Epoch 8/30 - 0.63s - loss: 178.61742 - acc: 0.8065546 - batches: 346\n",
            "Epoch 9/30 - 0.63s - loss: 175.86868 - acc: 0.81353754 - batches: 346\n",
            "Epoch 10/30 - 0.62s - loss: 173.49712 - acc: 0.82096505 - batches: 346\n",
            "Epoch 11/30 - 0.60s - loss: 171.38243 - acc: 0.82857376 - batches: 346\n",
            "Epoch 12/30 - 0.60s - loss: 169.56264 - acc: 0.83201575 - batches: 346\n",
            "Epoch 13/30 - 0.60s - loss: 168.00783 - acc: 0.8349143 - batches: 346\n",
            "Epoch 14/30 - 0.61s - loss: 166.68413 - acc: 0.8383564 - batches: 346\n",
            "Epoch 15/30 - 0.60s - loss: 165.55634 - acc: 0.84278655 - batches: 346\n",
            "Epoch 16/30 - 0.60s - loss: 164.60413 - acc: 0.84568506 - batches: 346\n",
            "Epoch 17/30 - 0.60s - loss: 163.76717 - acc: 0.84948945 - batches: 346\n",
            "Epoch 18/30 - 0.61s - loss: 163.02223 - acc: 0.85075754 - batches: 346\n",
            "Epoch 19/30 - 0.60s - loss: 162.34416 - acc: 0.85256916 - batches: 346\n",
            "Epoch 20/30 - 0.59s - loss: 161.72415 - acc: 0.8541996 - batches: 346\n",
            "Epoch 21/30 - 0.59s - loss: 161.12985 - acc: 0.85510534 - batches: 346\n",
            "Epoch 22/30 - 0.59s - loss: 160.54318 - acc: 0.85681814 - batches: 346\n",
            "Epoch 23/30 - 0.61s - loss: 159.96318 - acc: 0.8588109 - batches: 346\n",
            "Epoch 24/30 - 0.59s - loss: 159.38832 - acc: 0.86007905 - batches: 346\n",
            "Epoch 25/30 - 0.60s - loss: 158.82536 - acc: 0.861166 - batches: 346\n",
            "Epoch 26/30 - 0.61s - loss: 158.25642 - acc: 0.86315876 - batches: 346\n",
            "Epoch 27/30 - 0.59s - loss: 157.73787 - acc: 0.8649703 - batches: 346\n",
            "Epoch 28/30 - 0.58s - loss: 157.25273 - acc: 0.86660075 - batches: 346\n",
            "Epoch 29/30 - 0.57s - loss: 156.80296 - acc: 0.8684124 - batches: 346\n"
          ]
        }
      ],
      "source": [
        "!cat $log_folder/ClassifierDLApproach_*"
      ]
    },
    {
      "cell_type": "code",
      "execution_count": 26,
      "metadata": {
        "id": "w7Wzu_40qH6T"
      },
      "outputs": [],
      "source": [
        "preds = clfDL_model_hc100.transform(testData_with_embeddings).cache()"
      ]
    },
    {
      "cell_type": "code",
      "execution_count": 27,
      "metadata": {
        "colab": {
          "base_uri": "https://localhost:8080/"
        },
        "id": "oeqPLNbZvuJQ",
        "outputId": "9b1a5e24-3e18-4786-a706-41850c0bb109"
      },
      "outputs": [
        {
          "name": "stdout",
          "output_type": "stream",
          "text": [
            "root\n",
            " |-- text: string (nullable = true)\n",
            " |-- category: string (nullable = true)\n",
            " |-- sentence_embeddings: array (nullable = true)\n",
            " |    |-- element: struct (containsNull = true)\n",
            " |    |    |-- annotatorType: string (nullable = true)\n",
            " |    |    |-- begin: integer (nullable = false)\n",
            " |    |    |-- end: integer (nullable = false)\n",
            " |    |    |-- result: string (nullable = true)\n",
            " |    |    |-- metadata: map (nullable = true)\n",
            " |    |    |    |-- key: string\n",
            " |    |    |    |-- value: string (valueContainsNull = true)\n",
            " |    |    |-- embeddings: array (nullable = true)\n",
            " |    |    |    |-- element: float (containsNull = false)\n",
            " |-- prediction: array (nullable = true)\n",
            " |    |-- element: struct (containsNull = true)\n",
            " |    |    |-- annotatorType: string (nullable = true)\n",
            " |    |    |-- begin: integer (nullable = false)\n",
            " |    |    |-- end: integer (nullable = false)\n",
            " |    |    |-- result: string (nullable = true)\n",
            " |    |    |-- metadata: map (nullable = true)\n",
            " |    |    |    |-- key: string\n",
            " |    |    |    |-- value: string (valueContainsNull = true)\n",
            " |    |    |-- embeddings: array (nullable = true)\n",
            " |    |    |    |-- element: float (containsNull = false)\n",
            "\n",
            "+-------------------------------------------------------------------------------------+\n",
            "|prediction                                                                           |\n",
            "+-------------------------------------------------------------------------------------+\n",
            "|[{category, 0, 166, neg, {sentence -> 0, pos -> 0.020687046, neg -> 0.979313}, []}]  |\n",
            "|[{category, 0, 262, neg, {sentence -> 0, pos -> 2.3593488E-5, neg -> 0.9999764}, []}]|\n",
            "|[{category, 0, 172, neg, {sentence -> 0, pos -> 0.3396682, neg -> 0.6603318}, []}]   |\n",
            "|[{category, 0, 93, neg, {sentence -> 0, pos -> 0.0813267, neg -> 0.9186733}, []}]    |\n",
            "|[{category, 0, 136, neg, {sentence -> 0, pos -> 0.17682607, neg -> 0.8231739}, []}]  |\n",
            "+-------------------------------------------------------------------------------------+\n",
            "only showing top 5 rows\n",
            "\n",
            "+--------+-----------------+\n",
            "|category|prediction.result|\n",
            "+--------+-----------------+\n",
            "|neg     |[neg]            |\n",
            "|neg     |[neg]            |\n",
            "|neg     |[neg]            |\n",
            "|neg     |[neg]            |\n",
            "|neg     |[neg]            |\n",
            "+--------+-----------------+\n",
            "only showing top 5 rows\n",
            "\n"
          ]
        }
      ],
      "source": [
        "preds.printSchema()\n",
        "preds.select(preds.prediction).show(5, truncate=False)\n",
        "preds.select(preds.category, preds.prediction.result).show(5, truncate=False)"
      ]
    },
    {
      "cell_type": "code",
      "execution_count": 28,
      "metadata": {
        "colab": {
          "base_uri": "https://localhost:8080/"
        },
        "id": "l0yEqGcJDbck",
        "outputId": "b4c168d1-2f4e-4ff9-bfad-3e8dadd7100e"
      },
      "outputs": [
        {
          "name": "stdout",
          "output_type": "stream",
          "text": [
            "              precision    recall  f1-score   support\n",
            "\n",
            "         neg       0.84      0.93      0.88       982\n",
            "         pos       0.79      0.61      0.69       445\n",
            "\n",
            "    accuracy                           0.83      1427\n",
            "   macro avg       0.82      0.77      0.79      1427\n",
            "weighted avg       0.83      0.83      0.82      1427\n",
            "\n"
          ]
        }
      ],
      "source": [
        "preds_df = preds.select(\"category\",\"text\",\"prediction.result\").toPandas()\n",
        "preds_df[\"result\"] = preds_df[\"result\"].apply(lambda x : x[0])\n",
        "\n",
        "print (classification_report(preds_df[\"category\"], preds_df[\"result\"]))"
      ]
    },
    {
      "cell_type": "markdown",
      "metadata": {
        "id": "3NRB48Jd8PBL"
      },
      "source": [
        "### MultiClassifierDL"
      ]
    },
    {
      "cell_type": "markdown",
      "metadata": {
        "id": "fHNzlFhIi1IU"
      },
      "source": [
        "We will use MultiClassifierDL built by using Bidirectional GRU and CNNs inside TensorFlow that supports up to 100 classes. It is designed for multi-label classification purposes. Here we will use MultiClassifierDL as a binary classifier. "
      ]
    },
    {
      "cell_type": "code",
      "execution_count": 29,
      "metadata": {
        "id": "H7BFPBvBkRXm"
      },
      "outputs": [],
      "source": [
        "# MultiClassifierDL accepts list of strings as input label. So we convert label column to array type.\n",
        "trainingData_with_embeddings = trainingData_with_embeddings.withColumn(\"category_array\", F.array(F.col(\"category\")))\n",
        "testData_with_embeddings = testData_with_embeddings.withColumn(\"category_array\", F.array(F.col(\"category\")))"
      ]
    },
    {
      "cell_type": "code",
      "execution_count": 30,
      "metadata": {
        "id": "qfayOhW1QGuZ"
      },
      "outputs": [],
      "source": [
        "multiClassifier = nlp.MultiClassifierDLApproach()\\\n",
        "  .setInputCols(\"sentence_embeddings\")\\\n",
        "  .setOutputCol(\"prediction\")\\\n",
        "  .setLabelColumn(\"category_array\")\\\n",
        "  .setBatchSize(16)\\\n",
        "  .setMaxEpochs(20)\\\n",
        "  .setLr(9e-3)\\\n",
        "  .setThreshold(0.5)\\\n",
        "  .setShufflePerEpoch(False)\\\n",
        "  .setEnableOutputLogs(True)\\\n",
        "  .setOutputLogsPath(log_folder)\\\n",
        "#   .setValidationSplit(0.1)\n",
        "\n",
        "multiClassifier_pipeline = nlp.Pipeline(\n",
        "    stages = [\n",
        "        multiClassifier\n",
        "    ])"
      ]
    },
    {
      "cell_type": "code",
      "execution_count": 31,
      "metadata": {
        "id": "uis9foJpQ56_"
      },
      "outputs": [],
      "source": [
        "multiClassifier_model_hc100 = multiClassifier_pipeline.fit(trainingData_with_embeddings)"
      ]
    },
    {
      "cell_type": "code",
      "execution_count": 32,
      "metadata": {
        "colab": {
          "base_uri": "https://localhost:8080/"
        },
        "id": "oZ4muaEcQ56_",
        "outputId": "9f7c4523-a09c-4171-ae6d-a3669e1cc407"
      },
      "outputs": [
        {
          "name": "stdout",
          "output_type": "stream",
          "text": [
            "Training started - epochs: 20 - learning_rate: 0.009 - batch_size: 16 - training_examples: 5531 - classes: 2\n",
            "Epoch 0/20 - 10.25s - loss: 0.5176699 - acc: 0.7431242 - batches: 346\n",
            "Epoch 1/20 - 2.62s - loss: 0.455924 - acc: 0.77926546 - batches: 346\n",
            "Epoch 2/20 - 2.64s - loss: 0.4211432 - acc: 0.8023633 - batches: 346\n",
            "Epoch 3/20 - 2.81s - loss: 0.39984825 - acc: 0.81567854 - batches: 346\n",
            "Epoch 4/20 - 2.60s - loss: 0.38461468 - acc: 0.82220024 - batches: 346\n",
            "Epoch 5/20 - 2.62s - loss: 0.369243 - acc: 0.83053356 - batches: 346\n",
            "Epoch 6/20 - 2.63s - loss: 0.35459203 - acc: 0.8384964 - batches: 346\n",
            "Epoch 7/20 - 2.59s - loss: 0.33994544 - acc: 0.8460145 - batches: 346\n",
            "Epoch 8/20 - 2.60s - loss: 0.32596117 - acc: 0.8519927 - batches: 346\n",
            "Epoch 9/20 - 2.59s - loss: 0.31245267 - acc: 0.8593297 - batches: 346\n",
            "Epoch 10/20 - 2.67s - loss: 0.29904976 - acc: 0.86875 - batches: 346\n",
            "Epoch 11/20 - 2.62s - loss: 0.2859285 - acc: 0.87391305 - batches: 346\n",
            "Epoch 12/20 - 2.61s - loss: 0.2736531 - acc: 0.8810688 - batches: 346\n",
            "Epoch 13/20 - 2.56s - loss: 0.26165637 - acc: 0.88586956 - batches: 346\n",
            "Epoch 14/20 - 2.57s - loss: 0.24886066 - acc: 0.8946558 - batches: 346\n",
            "Epoch 15/20 - 2.57s - loss: 0.23471038 - acc: 0.901087 - batches: 346\n",
            "Epoch 16/20 - 2.59s - loss: 0.22024071 - acc: 0.9091486 - batches: 346\n",
            "Epoch 17/20 - 2.58s - loss: 0.20687783 - acc: 0.9167572 - batches: 346\n",
            "Epoch 18/20 - 2.59s - loss: 0.19479366 - acc: 0.92527175 - batches: 346\n",
            "Epoch 19/20 - 2.56s - loss: 0.18184596 - acc: 0.93188405 - batches: 346\n"
          ]
        }
      ],
      "source": [
        "!cat $log_folder/MultiClassifierDLApproach_*"
      ]
    },
    {
      "cell_type": "code",
      "execution_count": 33,
      "metadata": {
        "id": "aU71yDTEQ57A"
      },
      "outputs": [],
      "source": [
        "preds = multiClassifier_model_hc100.transform(testData_with_embeddings).cache()"
      ]
    },
    {
      "cell_type": "code",
      "execution_count": 34,
      "metadata": {
        "colab": {
          "base_uri": "https://localhost:8080/"
        },
        "id": "sMqK2PTaQ57A",
        "outputId": "cd07f90a-0b38-4f84-e79d-ae87274a1f9a"
      },
      "outputs": [
        {
          "name": "stdout",
          "output_type": "stream",
          "text": [
            "root\n",
            " |-- text: string (nullable = true)\n",
            " |-- category: string (nullable = true)\n",
            " |-- sentence_embeddings: array (nullable = true)\n",
            " |    |-- element: struct (containsNull = true)\n",
            " |    |    |-- annotatorType: string (nullable = true)\n",
            " |    |    |-- begin: integer (nullable = false)\n",
            " |    |    |-- end: integer (nullable = false)\n",
            " |    |    |-- result: string (nullable = true)\n",
            " |    |    |-- metadata: map (nullable = true)\n",
            " |    |    |    |-- key: string\n",
            " |    |    |    |-- value: string (valueContainsNull = true)\n",
            " |    |    |-- embeddings: array (nullable = true)\n",
            " |    |    |    |-- element: float (containsNull = false)\n",
            " |-- category_array: array (nullable = false)\n",
            " |    |-- element: string (containsNull = true)\n",
            " |-- prediction: array (nullable = true)\n",
            " |    |-- element: struct (containsNull = true)\n",
            " |    |    |-- annotatorType: string (nullable = true)\n",
            " |    |    |-- begin: integer (nullable = false)\n",
            " |    |    |-- end: integer (nullable = false)\n",
            " |    |    |-- result: string (nullable = true)\n",
            " |    |    |-- metadata: map (nullable = true)\n",
            " |    |    |    |-- key: string\n",
            " |    |    |    |-- value: string (valueContainsNull = true)\n",
            " |    |    |-- embeddings: array (nullable = true)\n",
            " |    |    |    |-- element: float (containsNull = false)\n",
            "\n",
            "+-------------------------------------------------------------------------------------+\n",
            "|prediction                                                                           |\n",
            "+-------------------------------------------------------------------------------------+\n",
            "|[{category, 0, 166, neg, {sentence -> 0, pos -> 0.0022747568, neg -> 0.9976865}, []}]|\n",
            "|[{category, 0, 262, neg, {sentence -> 0, pos -> 4.3467724E-5, neg -> 0.9999567}, []}]|\n",
            "|[{category, 0, 172, pos, {sentence -> 0, pos -> 0.549542, neg -> 0.44900683}, []}]   |\n",
            "|[{category, 0, 93, neg, {sentence -> 0, pos -> 0.15105107, neg -> 0.848075}, []}]    |\n",
            "|[{category, 0, 136, neg, {sentence -> 0, pos -> 0.2163663, neg -> 0.7837788}, []}]   |\n",
            "+-------------------------------------------------------------------------------------+\n",
            "only showing top 5 rows\n",
            "\n",
            "+--------------+-----------------+\n",
            "|category_array|prediction.result|\n",
            "+--------------+-----------------+\n",
            "|[neg]         |[neg]            |\n",
            "|[neg]         |[neg]            |\n",
            "|[neg]         |[pos]            |\n",
            "|[neg]         |[neg]            |\n",
            "|[neg]         |[neg]            |\n",
            "+--------------+-----------------+\n",
            "only showing top 5 rows\n",
            "\n"
          ]
        }
      ],
      "source": [
        "preds.printSchema()\n",
        "preds.select(preds.prediction).show(5, truncate=False)\n",
        "preds.select(preds.category_array, preds.prediction.result).show(5, truncate=False)"
      ]
    },
    {
      "cell_type": "code",
      "execution_count": 35,
      "metadata": {
        "colab": {
          "base_uri": "https://localhost:8080/"
        },
        "id": "fdYjuIgznI9H",
        "outputId": "d5b2b8b0-7ffe-449b-c17b-6793a13e1136"
      },
      "outputs": [
        {
          "data": {
            "text/plain": [
              "['neg']    1101\n",
              "['pos']     326\n",
              "Name: result, dtype: int64"
            ]
          },
          "execution_count": 35,
          "metadata": {},
          "output_type": "execute_result"
        }
      ],
      "source": [
        "preds_df = preds.select(\"category\",\"text\",\"prediction.result\",\"prediction.metadata\").toPandas()\n",
        "preds_df.result.apply(lambda x: str(x) ).value_counts()"
      ]
    },
    {
      "cell_type": "code",
      "execution_count": 36,
      "metadata": {
        "colab": {
          "base_uri": "https://localhost:8080/",
          "height": 49
        },
        "id": "s52SZO6k2nu7",
        "outputId": "26938fe0-6984-4007-c5ac-eca2b5c57f39"
      },
      "outputs": [
        {
          "data": {
            "text/html": [
              "\n",
              "  <div id=\"df-59cb7035-7293-458b-bcdc-817b4811e387\">\n",
              "    <div class=\"colab-df-container\">\n",
              "      <div>\n",
              "<style scoped>\n",
              "    .dataframe tbody tr th:only-of-type {\n",
              "        vertical-align: middle;\n",
              "    }\n",
              "\n",
              "    .dataframe tbody tr th {\n",
              "        vertical-align: top;\n",
              "    }\n",
              "\n",
              "    .dataframe thead th {\n",
              "        text-align: right;\n",
              "    }\n",
              "</style>\n",
              "<table border=\"1\" class=\"dataframe\">\n",
              "  <thead>\n",
              "    <tr style=\"text-align: right;\">\n",
              "      <th></th>\n",
              "      <th>category</th>\n",
              "      <th>text</th>\n",
              "      <th>result</th>\n",
              "      <th>metadata</th>\n",
              "    </tr>\n",
              "  </thead>\n",
              "  <tbody>\n",
              "  </tbody>\n",
              "</table>\n",
              "</div>\n",
              "      <button class=\"colab-df-convert\" onclick=\"convertToInteractive('df-59cb7035-7293-458b-bcdc-817b4811e387')\"\n",
              "              title=\"Convert this dataframe to an interactive table.\"\n",
              "              style=\"display:none;\">\n",
              "        \n",
              "  <svg xmlns=\"http://www.w3.org/2000/svg\" height=\"24px\"viewBox=\"0 0 24 24\"\n",
              "       width=\"24px\">\n",
              "    <path d=\"M0 0h24v24H0V0z\" fill=\"none\"/>\n",
              "    <path d=\"M18.56 5.44l.94 2.06.94-2.06 2.06-.94-2.06-.94-.94-2.06-.94 2.06-2.06.94zm-11 1L8.5 8.5l.94-2.06 2.06-.94-2.06-.94L8.5 2.5l-.94 2.06-2.06.94zm10 10l.94 2.06.94-2.06 2.06-.94-2.06-.94-.94-2.06-.94 2.06-2.06.94z\"/><path d=\"M17.41 7.96l-1.37-1.37c-.4-.4-.92-.59-1.43-.59-.52 0-1.04.2-1.43.59L10.3 9.45l-7.72 7.72c-.78.78-.78 2.05 0 2.83L4 21.41c.39.39.9.59 1.41.59.51 0 1.02-.2 1.41-.59l7.78-7.78 2.81-2.81c.8-.78.8-2.07 0-2.86zM5.41 20L4 18.59l7.72-7.72 1.47 1.35L5.41 20z\"/>\n",
              "  </svg>\n",
              "      </button>\n",
              "      \n",
              "  <style>\n",
              "    .colab-df-container {\n",
              "      display:flex;\n",
              "      flex-wrap:wrap;\n",
              "      gap: 12px;\n",
              "    }\n",
              "\n",
              "    .colab-df-convert {\n",
              "      background-color: #E8F0FE;\n",
              "      border: none;\n",
              "      border-radius: 50%;\n",
              "      cursor: pointer;\n",
              "      display: none;\n",
              "      fill: #1967D2;\n",
              "      height: 32px;\n",
              "      padding: 0 0 0 0;\n",
              "      width: 32px;\n",
              "    }\n",
              "\n",
              "    .colab-df-convert:hover {\n",
              "      background-color: #E2EBFA;\n",
              "      box-shadow: 0px 1px 2px rgba(60, 64, 67, 0.3), 0px 1px 3px 1px rgba(60, 64, 67, 0.15);\n",
              "      fill: #174EA6;\n",
              "    }\n",
              "\n",
              "    [theme=dark] .colab-df-convert {\n",
              "      background-color: #3B4455;\n",
              "      fill: #D2E3FC;\n",
              "    }\n",
              "\n",
              "    [theme=dark] .colab-df-convert:hover {\n",
              "      background-color: #434B5C;\n",
              "      box-shadow: 0px 1px 3px 1px rgba(0, 0, 0, 0.15);\n",
              "      filter: drop-shadow(0px 1px 2px rgba(0, 0, 0, 0.3));\n",
              "      fill: #FFFFFF;\n",
              "    }\n",
              "  </style>\n",
              "\n",
              "      <script>\n",
              "        const buttonEl =\n",
              "          document.querySelector('#df-59cb7035-7293-458b-bcdc-817b4811e387 button.colab-df-convert');\n",
              "        buttonEl.style.display =\n",
              "          google.colab.kernel.accessAllowed ? 'block' : 'none';\n",
              "\n",
              "        async function convertToInteractive(key) {\n",
              "          const element = document.querySelector('#df-59cb7035-7293-458b-bcdc-817b4811e387');\n",
              "          const dataTable =\n",
              "            await google.colab.kernel.invokeFunction('convertToInteractive',\n",
              "                                                     [key], {});\n",
              "          if (!dataTable) return;\n",
              "\n",
              "          const docLinkHtml = 'Like what you see? Visit the ' +\n",
              "            '<a target=\"_blank\" href=https://colab.research.google.com/notebooks/data_table.ipynb>data table notebook</a>'\n",
              "            + ' to learn more about interactive tables.';\n",
              "          element.innerHTML = '';\n",
              "          dataTable['output_type'] = 'display_data';\n",
              "          await google.colab.output.renderOutput(dataTable, element);\n",
              "          const docLink = document.createElement('div');\n",
              "          docLink.innerHTML = docLinkHtml;\n",
              "          element.appendChild(docLink);\n",
              "        }\n",
              "      </script>\n",
              "    </div>\n",
              "  </div>\n",
              "  "
            ],
            "text/plain": [
              "Empty DataFrame\n",
              "Columns: [category, text, result, metadata]\n",
              "Index: []"
            ]
          },
          "execution_count": 36,
          "metadata": {},
          "output_type": "execute_result"
        }
      ],
      "source": [
        "preds_df[preds_df.result.apply(len)==2]"
      ]
    },
    {
      "cell_type": "code",
      "execution_count": 37,
      "metadata": {
        "colab": {
          "base_uri": "https://localhost:8080/",
          "height": 49
        },
        "id": "F64-vahk3MQn",
        "outputId": "b337fd1a-fd82-40ec-f805-8ebe252406d8"
      },
      "outputs": [
        {
          "data": {
            "text/html": [
              "\n",
              "  <div id=\"df-bcf136ad-eba3-4832-8a86-070cebb9bb26\">\n",
              "    <div class=\"colab-df-container\">\n",
              "      <div>\n",
              "<style scoped>\n",
              "    .dataframe tbody tr th:only-of-type {\n",
              "        vertical-align: middle;\n",
              "    }\n",
              "\n",
              "    .dataframe tbody tr th {\n",
              "        vertical-align: top;\n",
              "    }\n",
              "\n",
              "    .dataframe thead th {\n",
              "        text-align: right;\n",
              "    }\n",
              "</style>\n",
              "<table border=\"1\" class=\"dataframe\">\n",
              "  <thead>\n",
              "    <tr style=\"text-align: right;\">\n",
              "      <th></th>\n",
              "      <th>category</th>\n",
              "      <th>text</th>\n",
              "      <th>result</th>\n",
              "      <th>metadata</th>\n",
              "    </tr>\n",
              "  </thead>\n",
              "  <tbody>\n",
              "  </tbody>\n",
              "</table>\n",
              "</div>\n",
              "      <button class=\"colab-df-convert\" onclick=\"convertToInteractive('df-bcf136ad-eba3-4832-8a86-070cebb9bb26')\"\n",
              "              title=\"Convert this dataframe to an interactive table.\"\n",
              "              style=\"display:none;\">\n",
              "        \n",
              "  <svg xmlns=\"http://www.w3.org/2000/svg\" height=\"24px\"viewBox=\"0 0 24 24\"\n",
              "       width=\"24px\">\n",
              "    <path d=\"M0 0h24v24H0V0z\" fill=\"none\"/>\n",
              "    <path d=\"M18.56 5.44l.94 2.06.94-2.06 2.06-.94-2.06-.94-.94-2.06-.94 2.06-2.06.94zm-11 1L8.5 8.5l.94-2.06 2.06-.94-2.06-.94L8.5 2.5l-.94 2.06-2.06.94zm10 10l.94 2.06.94-2.06 2.06-.94-2.06-.94-.94-2.06-.94 2.06-2.06.94z\"/><path d=\"M17.41 7.96l-1.37-1.37c-.4-.4-.92-.59-1.43-.59-.52 0-1.04.2-1.43.59L10.3 9.45l-7.72 7.72c-.78.78-.78 2.05 0 2.83L4 21.41c.39.39.9.59 1.41.59.51 0 1.02-.2 1.41-.59l7.78-7.78 2.81-2.81c.8-.78.8-2.07 0-2.86zM5.41 20L4 18.59l7.72-7.72 1.47 1.35L5.41 20z\"/>\n",
              "  </svg>\n",
              "      </button>\n",
              "      \n",
              "  <style>\n",
              "    .colab-df-container {\n",
              "      display:flex;\n",
              "      flex-wrap:wrap;\n",
              "      gap: 12px;\n",
              "    }\n",
              "\n",
              "    .colab-df-convert {\n",
              "      background-color: #E8F0FE;\n",
              "      border: none;\n",
              "      border-radius: 50%;\n",
              "      cursor: pointer;\n",
              "      display: none;\n",
              "      fill: #1967D2;\n",
              "      height: 32px;\n",
              "      padding: 0 0 0 0;\n",
              "      width: 32px;\n",
              "    }\n",
              "\n",
              "    .colab-df-convert:hover {\n",
              "      background-color: #E2EBFA;\n",
              "      box-shadow: 0px 1px 2px rgba(60, 64, 67, 0.3), 0px 1px 3px 1px rgba(60, 64, 67, 0.15);\n",
              "      fill: #174EA6;\n",
              "    }\n",
              "\n",
              "    [theme=dark] .colab-df-convert {\n",
              "      background-color: #3B4455;\n",
              "      fill: #D2E3FC;\n",
              "    }\n",
              "\n",
              "    [theme=dark] .colab-df-convert:hover {\n",
              "      background-color: #434B5C;\n",
              "      box-shadow: 0px 1px 3px 1px rgba(0, 0, 0, 0.15);\n",
              "      filter: drop-shadow(0px 1px 2px rgba(0, 0, 0, 0.3));\n",
              "      fill: #FFFFFF;\n",
              "    }\n",
              "  </style>\n",
              "\n",
              "      <script>\n",
              "        const buttonEl =\n",
              "          document.querySelector('#df-bcf136ad-eba3-4832-8a86-070cebb9bb26 button.colab-df-convert');\n",
              "        buttonEl.style.display =\n",
              "          google.colab.kernel.accessAllowed ? 'block' : 'none';\n",
              "\n",
              "        async function convertToInteractive(key) {\n",
              "          const element = document.querySelector('#df-bcf136ad-eba3-4832-8a86-070cebb9bb26');\n",
              "          const dataTable =\n",
              "            await google.colab.kernel.invokeFunction('convertToInteractive',\n",
              "                                                     [key], {});\n",
              "          if (!dataTable) return;\n",
              "\n",
              "          const docLinkHtml = 'Like what you see? Visit the ' +\n",
              "            '<a target=\"_blank\" href=https://colab.research.google.com/notebooks/data_table.ipynb>data table notebook</a>'\n",
              "            + ' to learn more about interactive tables.';\n",
              "          element.innerHTML = '';\n",
              "          dataTable['output_type'] = 'display_data';\n",
              "          await google.colab.output.renderOutput(dataTable, element);\n",
              "          const docLink = document.createElement('div');\n",
              "          docLink.innerHTML = docLinkHtml;\n",
              "          element.appendChild(docLink);\n",
              "        }\n",
              "      </script>\n",
              "    </div>\n",
              "  </div>\n",
              "  "
            ],
            "text/plain": [
              "Empty DataFrame\n",
              "Columns: [category, text, result, metadata]\n",
              "Index: []"
            ]
          },
          "execution_count": 37,
          "metadata": {},
          "output_type": "execute_result"
        }
      ],
      "source": [
        "preds_df[preds_df.result.apply(len)==0]"
      ]
    },
    {
      "cell_type": "markdown",
      "metadata": {
        "id": "yPS9qyw-nYJN"
      },
      "source": [
        "MultiClassifierDL is a multi-label classifier, so some predictions may include both labels or none of the labels. That can be controlled a bit with `.setThreshold()` parameter during training. For now we will keep not keep zero label predictions and get the highest score as prediction."
      ]
    },
    {
      "cell_type": "code",
      "execution_count": 38,
      "metadata": {
        "colab": {
          "base_uri": "https://localhost:8080/"
        },
        "id": "ZG5XKJVd79vg",
        "outputId": "649ea7cd-5f6f-4f62-8696-6a4a2b6518e6"
      },
      "outputs": [
        {
          "data": {
            "text/plain": [
              "neg    1101\n",
              "pos     326\n",
              "Name: result, dtype: int64"
            ]
          },
          "execution_count": 38,
          "metadata": {},
          "output_type": "execute_result"
        }
      ],
      "source": [
        "# We will get the highest score label as result. You can control the number of zero label results with setThreshold() in the training.\n",
        "preds_df[\"scores\"] = preds_df.metadata.apply(lambda x: {k:float(v) for k,v in x[0].items()} if len(x)>=1 else \"\")\n",
        "preds_df[\"result\"] = preds_df.scores.apply(lambda x: max(x, key=x.get) if len(x)>=1 else \"\")\n",
        "preds_df[\"result\"].value_counts()"
      ]
    },
    {
      "cell_type": "code",
      "execution_count": 39,
      "metadata": {
        "colab": {
          "base_uri": "https://localhost:8080/"
        },
        "id": "MT8hQSEqQ57A",
        "outputId": "0858fd1d-b4bf-4603-d9d3-e2dbd780bb9c"
      },
      "outputs": [
        {
          "name": "stdout",
          "output_type": "stream",
          "text": [
            "              precision    recall  f1-score   support\n",
            "\n",
            "         neg       0.82      0.92      0.87       982\n",
            "         pos       0.77      0.56      0.65       445\n",
            "\n",
            "    accuracy                           0.81      1427\n",
            "   macro avg       0.79      0.74      0.76      1427\n",
            "weighted avg       0.81      0.81      0.80      1427\n",
            "\n"
          ]
        }
      ],
      "source": [
        "print (classification_report(preds_df[\"category\"], preds_df[\"result\"]))"
      ]
    },
    {
      "cell_type": "markdown",
      "metadata": {
        "id": "aCf989KwQB3H"
      },
      "source": [
        "### Generic Classifier"
      ]
    },
    {
      "cell_type": "code",
      "execution_count": null,
      "metadata": {
        "id": "IeVxl4ruiJtr"
      },
      "outputs": [],
      "source": [
        "!pip install -q tensorflow==2.7.0 tensorflow_addons"
      ]
    },
    {
      "cell_type": "code",
      "execution_count": 41,
      "metadata": {
        "id": "N1Z9so_UQB3I"
      },
      "outputs": [],
      "source": [
        "from sparknlp_jsl.annotator import TFGraphBuilder\n",
        "\n",
        "graph_folder = \"gc_graph\"\n",
        "\n",
        "gc_graph_builder =medical.TFGraphBuilder()\\\n",
        "    .setModelName(\"generic_classifier\")\\\n",
        "    .setInputCols([\"features\"])\\\n",
        "    .setLabelColumn(\"category\")\\\n",
        "    .setHiddenLayers([300,200, 50])\\\n",
        "    .setHiddenAct(\"tanh\")\\\n",
        "    .setHiddenActL2(True)\\\n",
        "    .setBatchNorm(True)\\\n",
        "    .setGraphFolder(graph_folder)\\\n",
        "    .setGraphFile(\"gcf_graph_100d.pb\")"
      ]
    },
    {
      "cell_type": "markdown",
      "metadata": {
        "id": "_ADlQFAHch6j"
      },
      "source": [
        "GenericClassifier needs outputs from FeaturesAssembler. The FeaturesAssembler is used to collect features from different columns or an embeddings column.\n",
        "\n",
        "The GenericClassifierApproach takes FEATURE_VECTOR annotations as input, classifies them and outputs CATEGORY annotations."
      ]
    },
    {
      "cell_type": "code",
      "execution_count": 42,
      "metadata": {
        "id": "f7saGLwvQB3I"
      },
      "outputs": [],
      "source": [
        "features_asm = medical.FeaturesAssembler()\\\n",
        "    .setInputCols([\"sentence_embeddings\"])\\\n",
        "    .setOutputCol(\"features\")\n",
        "      \n",
        "gen_clf =medical.GenericClassifierApproach()\\\n",
        "    .setLabelColumn(\"category\")\\\n",
        "    .setInputCols(\"features\")\\\n",
        "    .setOutputCol(\"prediction\")\\\n",
        "    .setModelFile(f\"{graph_folder}/gcf_graph_100d.pb\")\\\n",
        "    .setEpochsNumber(25)\\\n",
        "    .setBatchSize(128)\\\n",
        "    .setLearningRate(0.004)\\\n",
        "    .setOutputLogsPath(log_folder)\\\n",
        "    .setDropout(0.2)\\\n",
        "    .setFixImbalance(True)\\\n",
        "    # .setValidationSplit(0.1)\n",
        "\n",
        "clf_Pipeline = nlp.Pipeline(stages=[\n",
        "    features_asm,\n",
        "    gc_graph_builder,\n",
        "    gen_clf])\n"
      ]
    },
    {
      "cell_type": "code",
      "execution_count": 43,
      "metadata": {
        "colab": {
          "base_uri": "https://localhost:8080/"
        },
        "id": "oSG7cx7yQB3I",
        "outputId": "cc004e49-8a71-40a4-89cb-a98bd706cd2c"
      },
      "outputs": [
        {
          "name": "stdout",
          "output_type": "stream",
          "text": [
            "TF Graph Builder configuration:\n",
            "Model name: generic_classifier\n",
            "Graph folder: gc_graph\n",
            "Graph file name: gcf_graph_100d.pb\n",
            "Build params: {'input_dim': 100, 'output_dim': 2, 'hidden_layers': [300, 200, 50], 'hidden_act': 'tanh', 'hidden_act_l2': True, 'batch_norm': True}\n"
          ]
        },
        {
          "name": "stderr",
          "output_type": "stream",
          "text": [
            "WARNING:tensorflow:From /usr/local/lib/python3.8/dist-packages/keras/layers/normalization/batch_normalization.py:532: _colocate_with (from tensorflow.python.framework.ops) is deprecated and will be removed in a future version.\n",
            "Instructions for updating:\n",
            "Colocations handled automatically by placer.\n"
          ]
        },
        {
          "name": "stdout",
          "output_type": "stream",
          "text": [
            "generic_classifier graph exported to gc_graph/gcf_graph_100d.pb\n"
          ]
        }
      ],
      "source": [
        "generic_model_hc100 = clf_Pipeline.fit(trainingData_with_embeddings)"
      ]
    },
    {
      "cell_type": "code",
      "execution_count": 44,
      "metadata": {
        "colab": {
          "base_uri": "https://localhost:8080/"
        },
        "id": "9PSm7rd0QB3I",
        "outputId": "f51c775d-f2b7-49a5-fdc9-ffe9b76055af"
      },
      "outputs": [
        {
          "name": "stdout",
          "output_type": "stream",
          "text": [
            "Training 25 epochs\n",
            "Epoch 1/25\t0.36s\tLoss: 11.602804\tACC: 0.63699496\n",
            "Epoch 2/25\t0.15s\tLoss: 9.809979\tACC: 0.7157447\n",
            "Epoch 3/25\t0.14s\tLoss: 9.825923\tACC: 0.70832676\n",
            "Epoch 4/25\t0.17s\tLoss: 9.7528105\tACC: 0.7178293\n",
            "Epoch 5/25\t0.11s\tLoss: 9.190969\tACC: 0.7249776\n",
            "Epoch 6/25\t0.12s\tLoss: 9.060632\tACC: 0.73922163\n",
            "Epoch 7/25\t0.12s\tLoss: 8.69786\tACC: 0.75684583\n",
            "Epoch 8/25\t0.12s\tLoss: 9.215672\tACC: 0.73296773\n",
            "Epoch 9/25\t0.13s\tLoss: 8.904336\tACC: 0.7545376\n",
            "Epoch 10/25\t0.11s\tLoss: 8.859076\tACC: 0.74499553\n",
            "Epoch 11/25\t0.15s\tLoss: 8.480491\tACC: 0.7662103\n",
            "Epoch 12/25\t0.13s\tLoss: 8.340234\tACC: 0.77136606\n",
            "Epoch 13/25\t0.15s\tLoss: 8.1141815\tACC: 0.77384526\n",
            "Epoch 14/25\t0.14s\tLoss: 8.361834\tACC: 0.76776224\n",
            "Epoch 15/25\t0.13s\tLoss: 8.222735\tACC: 0.7755419\n",
            "Epoch 16/25\t0.14s\tLoss: 8.171166\tACC: 0.7765612\n",
            "Epoch 17/25\t0.14s\tLoss: 8.173243\tACC: 0.7799282\n",
            "Epoch 18/25\t0.14s\tLoss: 7.8197684\tACC: 0.77646255\n",
            "Epoch 19/25\t0.19s\tLoss: 8.093162\tACC: 0.78246665\n",
            "Epoch 20/25\t0.13s\tLoss: 8.055086\tACC: 0.78134865\n",
            "Epoch 21/25\t0.11s\tLoss: 7.6232524\tACC: 0.7821904\n",
            "Epoch 22/25\t0.14s\tLoss: 7.736327\tACC: 0.79208755\n",
            "Epoch 23/25\t0.12s\tLoss: 7.812682\tACC: 0.78507733\n",
            "Epoch 24/25\t0.14s\tLoss: 7.5654435\tACC: 0.79692763\n",
            "Epoch 25/25\t0.15s\tLoss: 7.5984173\tACC: 0.79568475\n",
            "Training completed.\n"
          ]
        }
      ],
      "source": [
        "!cat $log_folder/GenericClassifierApproach_*"
      ]
    },
    {
      "cell_type": "code",
      "execution_count": 45,
      "metadata": {
        "id": "3Sqm6pF95vYX"
      },
      "outputs": [],
      "source": [
        "pred_df = generic_model_hc100.transform(testData_with_embeddings).cache()"
      ]
    },
    {
      "cell_type": "code",
      "execution_count": 46,
      "metadata": {
        "colab": {
          "base_uri": "https://localhost:8080/"
        },
        "id": "EW_Bbcb55xe-",
        "outputId": "09f8d197-8e95-41a4-856d-c058573b1763"
      },
      "outputs": [
        {
          "name": "stdout",
          "output_type": "stream",
          "text": [
            "root\n",
            " |-- text: string (nullable = true)\n",
            " |-- category: string (nullable = true)\n",
            " |-- sentence_embeddings: array (nullable = true)\n",
            " |    |-- element: struct (containsNull = true)\n",
            " |    |    |-- annotatorType: string (nullable = true)\n",
            " |    |    |-- begin: integer (nullable = false)\n",
            " |    |    |-- end: integer (nullable = false)\n",
            " |    |    |-- result: string (nullable = true)\n",
            " |    |    |-- metadata: map (nullable = true)\n",
            " |    |    |    |-- key: string\n",
            " |    |    |    |-- value: string (valueContainsNull = true)\n",
            " |    |    |-- embeddings: array (nullable = true)\n",
            " |    |    |    |-- element: float (containsNull = false)\n",
            " |-- category_array: array (nullable = false)\n",
            " |    |-- element: string (containsNull = true)\n",
            " |-- prediction: array (nullable = true)\n",
            " |    |-- element: struct (containsNull = true)\n",
            " |    |    |-- annotatorType: string (nullable = true)\n",
            " |    |    |-- begin: integer (nullable = false)\n",
            " |    |    |-- end: integer (nullable = false)\n",
            " |    |    |-- result: string (nullable = true)\n",
            " |    |    |-- metadata: map (nullable = true)\n",
            " |    |    |    |-- key: string\n",
            " |    |    |    |-- value: string (valueContainsNull = true)\n",
            " |    |    |-- embeddings: array (nullable = true)\n",
            " |    |    |    |-- element: float (containsNull = false)\n",
            "\n",
            "+-------------------------------------------------------------------------------------+\n",
            "|prediction                                                                           |\n",
            "+-------------------------------------------------------------------------------------+\n",
            "|[{category, 0, 166, neg, {sentence -> 0, pos -> 0.0022747568, neg -> 0.9976865}, []}]|\n",
            "|[{category, 0, 262, neg, {sentence -> 0, pos -> 4.3467724E-5, neg -> 0.9999567}, []}]|\n",
            "|[{category, 0, 172, pos, {sentence -> 0, pos -> 0.549542, neg -> 0.44900683}, []}]   |\n",
            "|[{category, 0, 93, neg, {sentence -> 0, pos -> 0.15105107, neg -> 0.848075}, []}]    |\n",
            "|[{category, 0, 136, neg, {sentence -> 0, pos -> 0.2163663, neg -> 0.7837788}, []}]   |\n",
            "+-------------------------------------------------------------------------------------+\n",
            "only showing top 5 rows\n",
            "\n",
            "+--------+-----------------+\n",
            "|category|prediction.result|\n",
            "+--------+-----------------+\n",
            "|neg     |[neg]            |\n",
            "|neg     |[neg]            |\n",
            "|neg     |[pos]            |\n",
            "|neg     |[neg]            |\n",
            "|neg     |[neg]            |\n",
            "+--------+-----------------+\n",
            "only showing top 5 rows\n",
            "\n"
          ]
        }
      ],
      "source": [
        "preds.printSchema()\n",
        "preds.select(preds.prediction).show(5, truncate=False)\n",
        "preds.select(preds.category, preds.prediction.result).show(5, truncate=False)"
      ]
    },
    {
      "cell_type": "code",
      "execution_count": 47,
      "metadata": {
        "colab": {
          "base_uri": "https://localhost:8080/"
        },
        "id": "NHCBTwrmQB3I",
        "outputId": "1cd37f31-9c55-4614-adee-09cbadf58564"
      },
      "outputs": [
        {
          "name": "stdout",
          "output_type": "stream",
          "text": [
            "              precision    recall  f1-score   support\n",
            "\n",
            "         neg       0.91      0.74      0.81       982\n",
            "         pos       0.59      0.85      0.70       445\n",
            "\n",
            "    accuracy                           0.77      1427\n",
            "   macro avg       0.75      0.79      0.76      1427\n",
            "weighted avg       0.81      0.77      0.78      1427\n",
            "\n"
          ]
        }
      ],
      "source": [
        "preds_df = pred_df.select('category','prediction.result').toPandas()\n",
        "preds_df['result'] = preds_df.result.apply(lambda x : x[0])\n",
        "\n",
        "print (classification_report(preds_df['category'], preds_df['result']))"
      ]
    },
    {
      "cell_type": "markdown",
      "metadata": {
        "id": "hF378LqHvDRK"
      },
      "source": [
        "## 200 Dimension Healthcare Embeddings (embeddings_clinical)\n",
        "\n"
      ]
    },
    {
      "cell_type": "markdown",
      "metadata": {
        "id": "hEppd4Q3vDRK"
      },
      "source": [
        "Now we will extract [embeddings_clinical](https://nlp.johnsnowlabs.com/2020/01/28/embeddings_clinical_en.html) embeddings which has 200 dimension output and use this embeddings in the model training."
      ]
    },
    {
      "cell_type": "code",
      "execution_count": 48,
      "metadata": {
        "colab": {
          "base_uri": "https://localhost:8080/"
        },
        "id": "Dv95E2vNvDRK",
        "outputId": "50e0d989-739c-439d-c128-334691cd2055"
      },
      "outputs": [
        {
          "name": "stdout",
          "output_type": "stream",
          "text": [
            "embeddings_clinical download started this may take some time.\n",
            "Approximate size to download 1.6 GB\n",
            "[OK!]\n"
          ]
        }
      ],
      "source": [
        "document_assembler = nlp.DocumentAssembler()\\\n",
        "        .setInputCol(\"text\")\\\n",
        "        .setOutputCol(\"document\")\n",
        "\n",
        "tokenizer = nlp.Tokenizer() \\\n",
        "            .setInputCols([\"document\"]) \\\n",
        "            .setOutputCol(\"token\")\n",
        "\n",
        "word_embeddings = nlp.WordEmbeddingsModel.pretrained(\"embeddings_clinical\",\"en\",\"clinical/models\")\\\n",
        "        .setInputCols([\"document\",\"token\"])\\\n",
        "        .setOutputCol(\"word_embeddings\")\n",
        "\n",
        "sentence_embeddings = nlp.SentenceEmbeddings() \\\n",
        "        .setInputCols([\"document\", \"word_embeddings\"]) \\\n",
        "        .setOutputCol(\"sentence_embeddings\") \\\n",
        "        .setPoolingStrategy(\"AVERAGE\")\n",
        "\n",
        "embeddings_pipeline = nlp.Pipeline(\n",
        "    stages = [\n",
        "        document_assembler,\n",
        "        tokenizer,\n",
        "        word_embeddings,\n",
        "        sentence_embeddings,\n",
        "    ])"
      ]
    },
    {
      "cell_type": "code",
      "execution_count": 49,
      "metadata": {
        "colab": {
          "base_uri": "https://localhost:8080/"
        },
        "id": "uj2dbrthvDRK",
        "outputId": "f80d99f7-228d-4d59-8571-7df8f243e6b0"
      },
      "outputs": [
        {
          "name": "stdout",
          "output_type": "stream",
          "text": [
            "+--------------------------------------------------------------------------------+--------+--------------------------------------------------------------------------------+\n",
            "|                                                                            text|category|                                                             sentence_embeddings|\n",
            "+--------------------------------------------------------------------------------+--------+--------------------------------------------------------------------------------+\n",
            "| \"Syndrome malin\"-like symptoms probably due to interaction between neurolept...|     neg|[{sentence_embeddings, 0, 109,  \"Syndrome malin\"-like symptoms probably due t...|\n",
            "| 'Bail-out' bivalirudin use in patients with thrombotic complications unrespo...|     neg|[{sentence_embeddings, 0, 150,  'Bail-out' bivalirudin use in patients with t...|\n",
            "+--------------------------------------------------------------------------------+--------+--------------------------------------------------------------------------------+\n",
            "only showing top 2 rows\n",
            "\n"
          ]
        }
      ],
      "source": [
        "trainingData_with_embeddings = embeddings_pipeline.fit(trainingData).transform(trainingData)\\\n",
        "                                                  .select(\"text\",\"category\",\"sentence_embeddings\")\n",
        "trainingData_with_embeddings.show(2,truncate=80)"
      ]
    },
    {
      "cell_type": "code",
      "execution_count": 50,
      "metadata": {
        "colab": {
          "base_uri": "https://localhost:8080/"
        },
        "id": "jPZSMm5pvDRK",
        "outputId": "ce4cb567-3ac7-4d69-f202-f3bb8a4b8981"
      },
      "outputs": [
        {
          "name": "stdout",
          "output_type": "stream",
          "text": [
            "+--------------------------------------------------------------------------------+--------+--------------------------------------------------------------------------------+\n",
            "|                                                                            text|category|                                                             sentence_embeddings|\n",
            "+--------------------------------------------------------------------------------+--------+--------------------------------------------------------------------------------+\n",
            "| 1 previously untreated patient with plasma-cell leukaemia and 8 patients wit...|     neg|[{sentence_embeddings, 0, 166,  1 previously untreated patient with plasma-ce...|\n",
            "| A 15-year-old boy had temporary hypertropia, supraduction deficit, ipsilater...|     neg|[{sentence_embeddings, 0, 262,  A 15-year-old boy had temporary hypertropia, ...|\n",
            "+--------------------------------------------------------------------------------+--------+--------------------------------------------------------------------------------+\n",
            "only showing top 2 rows\n",
            "\n"
          ]
        }
      ],
      "source": [
        "testData_with_embeddings = embeddings_pipeline.fit(testData).transform(testData)\\\n",
        "                                                  .select(\"text\",\"category\",\"sentence_embeddings\")\n",
        "testData_with_embeddings.show(2,truncate=80)"
      ]
    },
    {
      "cell_type": "code",
      "execution_count": 51,
      "metadata": {
        "id": "qrF7eDHBdmBp"
      },
      "outputs": [],
      "source": [
        "log_folder=\"ADE_logs_healthcare_200d\""
      ]
    },
    {
      "cell_type": "markdown",
      "metadata": {
        "id": "coHHa_CRvDRL"
      },
      "source": [
        "### ClassifierDLApproach"
      ]
    },
    {
      "cell_type": "code",
      "execution_count": 52,
      "metadata": {
        "id": "thQ0sg91vDRL"
      },
      "outputs": [],
      "source": [
        "classifier_dl = nlp.ClassifierDLApproach()\\\n",
        "        .setInputCols([\"sentence_embeddings\"])\\\n",
        "        .setOutputCol(\"class\")\\\n",
        "        .setLabelColumn(\"category\")\\\n",
        "        .setBatchSize(16)\\\n",
        "        .setMaxEpochs(30)\\\n",
        "        .setLr(0.001)\\\n",
        "        .setDropout(0.3)\\\n",
        "        .setEnableOutputLogs(True)\\\n",
        "        .setOutputLogsPath(log_folder)\n",
        "\n",
        "classifier_dl_pipeline = nlp.Pipeline(\n",
        "    stages = [\n",
        "        classifier_dl\n",
        "    ])"
      ]
    },
    {
      "cell_type": "code",
      "execution_count": 53,
      "metadata": {
        "id": "VdWaWXcbvDRL"
      },
      "outputs": [],
      "source": [
        "clfDL_model_hc200 = classifier_dl_pipeline.fit(trainingData_with_embeddings)"
      ]
    },
    {
      "cell_type": "code",
      "execution_count": 54,
      "metadata": {
        "colab": {
          "base_uri": "https://localhost:8080/"
        },
        "id": "1W67GqjCvDRL",
        "outputId": "75d5440b-e0cc-41a7-c18c-52ee4466933a"
      },
      "outputs": [
        {
          "name": "stdout",
          "output_type": "stream",
          "text": [
            "              precision    recall  f1-score   support\n",
            "\n",
            "         neg       0.88      0.92      0.90       982\n",
            "         pos       0.80      0.73      0.76       445\n",
            "\n",
            "    accuracy                           0.86      1427\n",
            "   macro avg       0.84      0.82      0.83      1427\n",
            "weighted avg       0.86      0.86      0.86      1427\n",
            "\n"
          ]
        }
      ],
      "source": [
        "preds = clfDL_model_hc200.transform(testData_with_embeddings)\n",
        "\n",
        "preds_df = preds.select(\"category\",\"text\",\"class.result\").toPandas()\n",
        "preds_df[\"result\"] = preds_df[\"result\"].apply(lambda x : x[0])\n",
        "\n",
        "print (classification_report(preds_df[\"category\"], preds_df[\"result\"]))"
      ]
    },
    {
      "cell_type": "markdown",
      "metadata": {
        "id": "Vz6ja6oP90It"
      },
      "source": [
        "### MultiClassifierDL"
      ]
    },
    {
      "cell_type": "code",
      "execution_count": 55,
      "metadata": {
        "id": "u7AzomVo90Iu"
      },
      "outputs": [],
      "source": [
        "# MultiClassifierDL accepts list of strings as input label. So we convert label column to array type.\n",
        "trainingData_with_embeddings = trainingData_with_embeddings.withColumn(\"category_array\", F.array(F.col(\"category\")))\n",
        "testData_with_embeddings = testData_with_embeddings.withColumn(\"category_array\", F.array(F.col(\"category\")))"
      ]
    },
    {
      "cell_type": "code",
      "execution_count": 56,
      "metadata": {
        "id": "O25HWJXx90Iu"
      },
      "outputs": [],
      "source": [
        "multiClassifier =nlp.MultiClassifierDLApproach()\\\n",
        "  .setInputCols(\"sentence_embeddings\")\\\n",
        "  .setOutputCol(\"prediction\")\\\n",
        "  .setLabelColumn(\"category_array\")\\\n",
        "  .setBatchSize(32)\\\n",
        "  .setMaxEpochs(20)\\\n",
        "  .setLr(9e-3)\\\n",
        "  .setThreshold(0.5)\\\n",
        "  .setShufflePerEpoch(False)\\\n",
        "  .setEnableOutputLogs(True)\\\n",
        "  .setOutputLogsPath(log_folder)\\\n",
        "#   .setValidationSplit(0.1)\n",
        "\n",
        "multiClassifier_pipeline = nlp.Pipeline(\n",
        "    stages = [\n",
        "        multiClassifier\n",
        "    ])"
      ]
    },
    {
      "cell_type": "code",
      "execution_count": 57,
      "metadata": {
        "id": "AfwUG4E890Iu"
      },
      "outputs": [],
      "source": [
        "multiClassifier_model_hc200 = multiClassifier_pipeline.fit(trainingData_with_embeddings)"
      ]
    },
    {
      "cell_type": "code",
      "execution_count": 58,
      "metadata": {
        "id": "dqWL8GcD90Iu"
      },
      "outputs": [],
      "source": [
        "preds = multiClassifier_model_hc200.transform(testData_with_embeddings)"
      ]
    },
    {
      "cell_type": "code",
      "execution_count": 59,
      "metadata": {
        "colab": {
          "base_uri": "https://localhost:8080/"
        },
        "id": "leP1l4bN90Iu",
        "outputId": "71430e39-865f-4697-853c-58c9f661d4e6"
      },
      "outputs": [
        {
          "data": {
            "text/plain": [
              "['neg']           1032\n",
              "['pos']            394\n",
              "['pos', 'neg']       1\n",
              "Name: result, dtype: int64"
            ]
          },
          "execution_count": 59,
          "metadata": {},
          "output_type": "execute_result"
        }
      ],
      "source": [
        "preds_df = preds.select(\"category\",\"text\",\"prediction.result\",\"prediction.metadata\").toPandas()\n",
        "preds_df.result.apply(lambda x: str(x) ).value_counts()"
      ]
    },
    {
      "cell_type": "code",
      "execution_count": 60,
      "metadata": {
        "colab": {
          "base_uri": "https://localhost:8080/"
        },
        "id": "puS1FgQ-90Iv",
        "outputId": "e3c678e1-3c4e-420c-d299-ba5e43a6b871"
      },
      "outputs": [
        {
          "data": {
            "text/plain": [
              "neg    1032\n",
              "pos     395\n",
              "Name: result, dtype: int64"
            ]
          },
          "execution_count": 60,
          "metadata": {},
          "output_type": "execute_result"
        }
      ],
      "source": [
        "# We will get the highest score label as result. You can control the number of zero label results with setThreshold() in the training.\n",
        "preds_df[\"scores\"] = preds_df.metadata.apply(lambda x: {k:float(v) for k,v in x[0].items()} if len(x)>=1 else \"\")\n",
        "preds_df[\"result\"] = preds_df.scores.apply(lambda x: max(x, key=x.get) if len(x)>=1 else \"\")\n",
        "preds_df[\"result\"].value_counts()"
      ]
    },
    {
      "cell_type": "code",
      "execution_count": 61,
      "metadata": {
        "colab": {
          "base_uri": "https://localhost:8080/"
        },
        "id": "8F9FcFBN90Iv",
        "outputId": "e27b01a1-c490-4dac-c2d5-f6c6dd222fc2"
      },
      "outputs": [
        {
          "name": "stdout",
          "output_type": "stream",
          "text": [
            "              precision    recall  f1-score   support\n",
            "\n",
            "         neg       0.87      0.92      0.90       982\n",
            "         pos       0.80      0.71      0.75       445\n",
            "\n",
            "    accuracy                           0.85      1427\n",
            "   macro avg       0.84      0.81      0.82      1427\n",
            "weighted avg       0.85      0.85      0.85      1427\n",
            "\n"
          ]
        }
      ],
      "source": [
        "print (classification_report(preds_df[\"category\"], preds_df[\"result\"]))"
      ]
    },
    {
      "cell_type": "markdown",
      "metadata": {
        "id": "lwu69bczvDRL"
      },
      "source": [
        "### Generic Classifier"
      ]
    },
    {
      "cell_type": "code",
      "execution_count": 62,
      "metadata": {
        "id": "5j2f-YZdiNdK"
      },
      "outputs": [],
      "source": [
        "# !pip install -q tensorflow==2.7.0 tensorflow_addons"
      ]
    },
    {
      "cell_type": "code",
      "execution_count": 63,
      "metadata": {
        "id": "YTuqFVXKvDRL"
      },
      "outputs": [],
      "source": [
        "from sparknlp_jsl.annotator import TFGraphBuilder\n",
        "\n",
        "graph_folder = \"gc_graph\"\n",
        "\n",
        "gc_graph_builder = medical.TFGraphBuilder()\\\n",
        "    .setModelName(\"generic_classifier\")\\\n",
        "    .setInputCols([\"features\"])\\\n",
        "    .setLabelColumn(\"category\")\\\n",
        "    .setHiddenLayers([300,200, 50])\\\n",
        "    .setHiddenAct(\"tanh\")\\\n",
        "    .setHiddenActL2(True)\\\n",
        "    .setBatchNorm(True)\\\n",
        "    .setGraphFolder(graph_folder)\\\n",
        "    .setGraphFile(\"gcf_graph_200d.pb\")"
      ]
    },
    {
      "cell_type": "code",
      "execution_count": 64,
      "metadata": {
        "id": "Acx95To9vDRL"
      },
      "outputs": [],
      "source": [
        "features_asm =medical.FeaturesAssembler()\\\n",
        "    .setInputCols([\"sentence_embeddings\"])\\\n",
        "    .setOutputCol(\"features\")\n",
        "      \n",
        "gen_clf =medical.GenericClassifierApproach()\\\n",
        "    .setLabelColumn(\"category\")\\\n",
        "    .setInputCols(\"features\")\\\n",
        "    .setOutputCol(\"prediction\")\\\n",
        "    .setModelFile(f\"{graph_folder}/gcf_graph_200d.pb\")\\\n",
        "    .setEpochsNumber(40)\\\n",
        "    .setBatchSize(16)\\\n",
        "    .setLearningRate(0.001)\\\n",
        "    .setOutputLogsPath(log_folder)\\\n",
        "    .setDropout(0.5)\\\n",
        "    .setFixImbalance(True)\\\n",
        "    # .setValidationSplit(0.1)\n",
        "\n",
        "clf_Pipeline = nlp.Pipeline(stages=[\n",
        "    features_asm,\n",
        "    gc_graph_builder,\n",
        "    gen_clf])\n"
      ]
    },
    {
      "cell_type": "code",
      "execution_count": 65,
      "metadata": {
        "colab": {
          "base_uri": "https://localhost:8080/"
        },
        "id": "07qsryq3vDRL",
        "outputId": "11e8def7-0ef5-4442-e84a-c950a6be41aa"
      },
      "outputs": [
        {
          "name": "stdout",
          "output_type": "stream",
          "text": [
            "TF Graph Builder configuration:\n",
            "Model name: generic_classifier\n",
            "Graph folder: gc_graph\n",
            "Graph file name: gcf_graph_200d.pb\n",
            "Build params: {'input_dim': 200, 'output_dim': 2, 'hidden_layers': [300, 200, 50], 'hidden_act': 'tanh', 'hidden_act_l2': True, 'batch_norm': True}\n",
            "generic_classifier graph exported to gc_graph/gcf_graph_200d.pb\n"
          ]
        }
      ],
      "source": [
        "generic_model_hc200 = clf_Pipeline.fit(trainingData_with_embeddings)"
      ]
    },
    {
      "cell_type": "code",
      "execution_count": 66,
      "metadata": {
        "colab": {
          "base_uri": "https://localhost:8080/"
        },
        "id": "WahobkK8vDRL",
        "outputId": "0b17cd73-0b20-414b-a9a7-cc109efa736c"
      },
      "outputs": [
        {
          "name": "stdout",
          "output_type": "stream",
          "text": [
            "              precision    recall  f1-score   support\n",
            "\n",
            "         neg       0.92      0.82      0.87       982\n",
            "         pos       0.68      0.84      0.75       445\n",
            "\n",
            "    accuracy                           0.83      1427\n",
            "   macro avg       0.80      0.83      0.81      1427\n",
            "weighted avg       0.84      0.83      0.83      1427\n",
            "\n"
          ]
        }
      ],
      "source": [
        "pred_df = generic_model_hc200.transform(testData_with_embeddings)\n",
        "\n",
        "preds_df = pred_df.select('category','prediction.result').toPandas()\n",
        "preds_df['result'] = preds_df.result.apply(lambda x : x[0])\n",
        "\n",
        "print (classification_report(preds_df['category'], preds_df['result']))"
      ]
    },
    {
      "cell_type": "markdown",
      "metadata": {
        "id": "HToBQLkiOHDp"
      },
      "source": [
        "## Bert Sentence Embeddings (sbiobert_base_cased_mli)"
      ]
    },
    {
      "cell_type": "markdown",
      "metadata": {
        "id": "GBpfp09tTedK"
      },
      "source": [
        "Now we will extract [sbiobert_base_cased_mli](https://nlp.johnsnowlabs.com/2020/11/27/sbiobert_base_cased_mli_en.html) embeddings which has 768 dimension output and use this embeddings in the model training."
      ]
    },
    {
      "cell_type": "code",
      "execution_count": 67,
      "metadata": {
        "colab": {
          "base_uri": "https://localhost:8080/"
        },
        "id": "eCfAkAC7podJ",
        "outputId": "4a9b3d9e-9351-48c2-d087-c3b2392d739d"
      },
      "outputs": [
        {
          "name": "stdout",
          "output_type": "stream",
          "text": [
            "sbiobert_base_cased_mli download started this may take some time.\n",
            "Approximate size to download 384.3 MB\n",
            "[OK!]\n"
          ]
        }
      ],
      "source": [
        "document_assembler = nlp.DocumentAssembler()\\\n",
        "    .setInputCol(\"text\")\\\n",
        "    .setOutputCol(\"document\")\n",
        "        \n",
        "bert_sent = nlp.BertSentenceEmbeddings.pretrained(\"sbiobert_base_cased_mli\", 'en','clinical/models')\\\n",
        "    .setInputCols([\"document\"])\\\n",
        "    .setOutputCol(\"sentence_embeddings\")\n",
        "\n",
        "embeddings_pipeline = nlp.Pipeline(\n",
        "    stages = [document_assembler,\n",
        "              bert_sent])"
      ]
    },
    {
      "cell_type": "code",
      "execution_count": 68,
      "metadata": {
        "colab": {
          "base_uri": "https://localhost:8080/"
        },
        "id": "PbcLStVLpoaN",
        "outputId": "81d86d99-6b02-4713-93ab-a8440057d239"
      },
      "outputs": [
        {
          "name": "stdout",
          "output_type": "stream",
          "text": [
            "+--------------------------------------------------------------------------------+--------+--------------------------------------------------------------------------------+\n",
            "|                                                                            text|category|                                                             sentence_embeddings|\n",
            "+--------------------------------------------------------------------------------+--------+--------------------------------------------------------------------------------+\n",
            "| \"Syndrome malin\"-like symptoms probably due to interaction between neurolept...|     neg|[{sentence_embeddings, 0, 109,  \"Syndrome malin\"-like symptoms probably due t...|\n",
            "| 'Bail-out' bivalirudin use in patients with thrombotic complications unrespo...|     neg|[{sentence_embeddings, 0, 150,  'Bail-out' bivalirudin use in patients with t...|\n",
            "+--------------------------------------------------------------------------------+--------+--------------------------------------------------------------------------------+\n",
            "only showing top 2 rows\n",
            "\n"
          ]
        }
      ],
      "source": [
        "trainingData_with_embeddings = embeddings_pipeline.fit(trainingData).transform(trainingData)\\\n",
        "                                                  .select(\"text\",\"category\",\"sentence_embeddings\")\n",
        "\n",
        "trainingData_with_embeddings.show(2,truncate=80)"
      ]
    },
    {
      "cell_type": "code",
      "execution_count": 69,
      "metadata": {
        "colab": {
          "base_uri": "https://localhost:8080/"
        },
        "id": "qoby-bTzpoYQ",
        "outputId": "54b382df-655b-4818-d46b-d65ee8653009"
      },
      "outputs": [
        {
          "name": "stdout",
          "output_type": "stream",
          "text": [
            "+--------------------------------------------------------------------------------+--------+--------------------------------------------------------------------------------+\n",
            "|                                                                            text|category|                                                             sentence_embeddings|\n",
            "+--------------------------------------------------------------------------------+--------+--------------------------------------------------------------------------------+\n",
            "| 1 previously untreated patient with plasma-cell leukaemia and 8 patients wit...|     neg|[{sentence_embeddings, 0, 166,  1 previously untreated patient with plasma-ce...|\n",
            "| A 15-year-old boy had temporary hypertropia, supraduction deficit, ipsilater...|     neg|[{sentence_embeddings, 0, 262,  A 15-year-old boy had temporary hypertropia, ...|\n",
            "+--------------------------------------------------------------------------------+--------+--------------------------------------------------------------------------------+\n",
            "only showing top 2 rows\n",
            "\n"
          ]
        }
      ],
      "source": [
        "testData_with_embeddings = embeddings_pipeline.fit(testData).transform(testData)\\\n",
        "                                                  .select(\"text\",\"category\",\"sentence_embeddings\")\n",
        "\n",
        "testData_with_embeddings.show(2,truncate=80)"
      ]
    },
    {
      "cell_type": "code",
      "execution_count": 70,
      "metadata": {
        "id": "_EetBOQUpoWQ"
      },
      "outputs": [],
      "source": [
        "log_folder=\"ADE_logs_bert\""
      ]
    },
    {
      "cell_type": "markdown",
      "metadata": {
        "id": "289YUVX7yGE1"
      },
      "source": [
        "### ClassifierDLApproach"
      ]
    },
    {
      "cell_type": "code",
      "execution_count": 71,
      "metadata": {
        "id": "ZzCU998wyGE2"
      },
      "outputs": [],
      "source": [
        "classifier_dl = nlp.ClassifierDLApproach()\\\n",
        "        .setInputCols([\"sentence_embeddings\"])\\\n",
        "        .setOutputCol(\"class\")\\\n",
        "        .setLabelColumn(\"category\")\\\n",
        "        .setBatchSize(8)\\\n",
        "        .setMaxEpochs(2)\\\n",
        "        .setLr(0.001)\\\n",
        "        .setDropout(0.3)\\\n",
        "        .setEnableOutputLogs(True)\\\n",
        "        .setOutputLogsPath(log_folder)\n",
        "\n",
        "classifier_dl_pipeline = nlp.Pipeline(stages=[classifier_dl])"
      ]
    },
    {
      "cell_type": "code",
      "execution_count": 72,
      "metadata": {
        "id": "AnpZcIyPyGE2"
      },
      "outputs": [],
      "source": [
        "clfDL_model_bert = classifier_dl_pipeline.fit(trainingData_with_embeddings)"
      ]
    },
    {
      "cell_type": "code",
      "execution_count": 73,
      "metadata": {
        "colab": {
          "base_uri": "https://localhost:8080/"
        },
        "id": "WTekTE0kyGE2",
        "outputId": "105e69b6-1129-485a-ca7d-bea92512a1bf"
      },
      "outputs": [
        {
          "name": "stdout",
          "output_type": "stream",
          "text": [
            "              precision    recall  f1-score   support\n",
            "\n",
            "         neg       0.91      0.88      0.89       982\n",
            "         pos       0.75      0.82      0.78       445\n",
            "\n",
            "    accuracy                           0.86      1427\n",
            "   macro avg       0.83      0.85      0.84      1427\n",
            "weighted avg       0.86      0.86      0.86      1427\n",
            "\n"
          ]
        }
      ],
      "source": [
        "preds = clfDL_model_bert.transform(testData_with_embeddings)\n",
        "\n",
        "preds_df = preds.select(\"category\",\"text\",\"class.result\").toPandas()\n",
        "preds_df[\"result\"] = preds_df[\"result\"].apply(lambda x : x[0])\n",
        "\n",
        "print (classification_report(preds_df[\"category\"], preds_df[\"result\"]))"
      ]
    },
    {
      "cell_type": "markdown",
      "metadata": {
        "id": "rGyp2ylnT7qq"
      },
      "source": [
        "### MultiClassifierDL"
      ]
    },
    {
      "cell_type": "code",
      "execution_count": 74,
      "metadata": {
        "id": "rgc8eN32T7qq"
      },
      "outputs": [],
      "source": [
        "# MultiClassifierDL accepts list of strings as input label. So we convert label column to array type.\n",
        "trainingData_with_embeddings = trainingData_with_embeddings.withColumn(\"category_array\", F.array(F.col(\"category\")))\n",
        "testData_with_embeddings = testData_with_embeddings.withColumn(\"category_array\", F.array(F.col(\"category\")))"
      ]
    },
    {
      "cell_type": "code",
      "execution_count": 75,
      "metadata": {
        "id": "VNSQp8iyT7qr"
      },
      "outputs": [],
      "source": [
        "multiClassifier =nlp.MultiClassifierDLApproach()\\\n",
        "  .setInputCols(\"sentence_embeddings\")\\\n",
        "  .setOutputCol(\"prediction\")\\\n",
        "  .setLabelColumn(\"category_array\")\\\n",
        "  .setBatchSize(32)\\\n",
        "  .setMaxEpochs(20)\\\n",
        "  .setLr(9e-3)\\\n",
        "  .setThreshold(0.5)\\\n",
        "  .setShufflePerEpoch(False)\\\n",
        "  .setEnableOutputLogs(True)\\\n",
        "  .setOutputLogsPath(log_folder)\\\n",
        "#   .setValidationSplit(0.1)\n",
        "\n",
        "multiClassifier_pipeline = nlp.Pipeline(\n",
        "    stages = [\n",
        "        multiClassifier\n",
        "    ])"
      ]
    },
    {
      "cell_type": "code",
      "execution_count": 76,
      "metadata": {
        "id": "2KuFBI44T7qr"
      },
      "outputs": [],
      "source": [
        "multiClassifier_model_hc200 = multiClassifier_pipeline.fit(trainingData_with_embeddings)"
      ]
    },
    {
      "cell_type": "code",
      "execution_count": 77,
      "metadata": {
        "id": "WF1cSwJrT7qr"
      },
      "outputs": [],
      "source": [
        "preds = multiClassifier_model_hc200.transform(testData_with_embeddings)"
      ]
    },
    {
      "cell_type": "code",
      "execution_count": 78,
      "metadata": {
        "colab": {
          "base_uri": "https://localhost:8080/"
        },
        "id": "DAMLtlVsT7qr",
        "outputId": "75034176-409a-476e-c8ca-447a78218930"
      },
      "outputs": [
        {
          "data": {
            "text/plain": [
              "['neg']    1076\n",
              "['pos']     351\n",
              "Name: result, dtype: int64"
            ]
          },
          "execution_count": 78,
          "metadata": {},
          "output_type": "execute_result"
        }
      ],
      "source": [
        "preds_df = preds.select(\"category\",\"text\",\"prediction.result\",\"prediction.metadata\").toPandas()\n",
        "preds_df.result.apply(lambda x: str(x) ).value_counts()"
      ]
    },
    {
      "cell_type": "code",
      "execution_count": 79,
      "metadata": {
        "colab": {
          "base_uri": "https://localhost:8080/"
        },
        "id": "HcZ7OAaYT7qr",
        "outputId": "7687ee43-629a-4b55-b9a0-c276856b01a5"
      },
      "outputs": [
        {
          "data": {
            "text/plain": [
              "neg    1076\n",
              "pos     351\n",
              "Name: result, dtype: int64"
            ]
          },
          "execution_count": 79,
          "metadata": {},
          "output_type": "execute_result"
        }
      ],
      "source": [
        "# We will get the highest score label as result. You can control the number of zero label results with setThreshold() in the training.\n",
        "preds_df[\"scores\"] = preds_df.metadata.apply(lambda x: {k:float(v) for k,v in x[0].items()} if len(x)>=1 else \"\")\n",
        "preds_df[\"result\"] = preds_df.scores.apply(lambda x: max(x, key=x.get) if len(x)>=1 else \"\")\n",
        "preds_df[\"result\"].value_counts()"
      ]
    },
    {
      "cell_type": "code",
      "execution_count": 80,
      "metadata": {
        "colab": {
          "base_uri": "https://localhost:8080/"
        },
        "id": "Crbnvw7GT7qr",
        "outputId": "08db9cc8-4a49-4272-da28-d652ace39d84"
      },
      "outputs": [
        {
          "name": "stdout",
          "output_type": "stream",
          "text": [
            "              precision    recall  f1-score   support\n",
            "\n",
            "         neg       0.87      0.95      0.91       982\n",
            "         pos       0.87      0.68      0.76       445\n",
            "\n",
            "    accuracy                           0.87      1427\n",
            "   macro avg       0.87      0.82      0.84      1427\n",
            "weighted avg       0.87      0.87      0.86      1427\n",
            "\n"
          ]
        }
      ],
      "source": [
        "print (classification_report(preds_df[\"category\"], preds_df[\"result\"]))"
      ]
    },
    {
      "cell_type": "markdown",
      "metadata": {
        "id": "Y4hlGSE9yGE3"
      },
      "source": [
        "### Generic Classifier"
      ]
    },
    {
      "cell_type": "code",
      "execution_count": 81,
      "metadata": {
        "id": "lFjM5RcliQSx"
      },
      "outputs": [],
      "source": [
        "# !pip install -q tensorflow==2.7.0 tensorflow_addons"
      ]
    },
    {
      "cell_type": "code",
      "execution_count": 82,
      "metadata": {
        "id": "yNSz6-FbyGE3"
      },
      "outputs": [],
      "source": [
        "from sparknlp_jsl.annotator import TFGraphBuilder\n",
        "\n",
        "graph_folder = \"gc_graph\"\n",
        "\n",
        "gc_graph_builder =medical.TFGraphBuilder()\\\n",
        "    .setModelName(\"generic_classifier\")\\\n",
        "    .setInputCols([\"features\"])\\\n",
        "    .setLabelColumn(\"category\")\\\n",
        "    .setHiddenLayers([300,200, 50])\\\n",
        "    .setHiddenAct(\"tanh\")\\\n",
        "    .setHiddenActL2(True)\\\n",
        "    .setBatchNorm(True)\\\n",
        "    .setGraphFolder(graph_folder)\\\n",
        "    .setGraphFile(\"gcf_graph_bert.pb\")"
      ]
    },
    {
      "cell_type": "code",
      "execution_count": 83,
      "metadata": {
        "id": "lYsWcP6yyGE3"
      },
      "outputs": [],
      "source": [
        "features_asm =medical.FeaturesAssembler()\\\n",
        "    .setInputCols([\"sentence_embeddings\"])\\\n",
        "    .setOutputCol(\"features\")\n",
        "      \n",
        "gen_clf =medical.GenericClassifierApproach()\\\n",
        "    .setLabelColumn(\"category\")\\\n",
        "    .setInputCols(\"features\")\\\n",
        "    .setOutputCol(\"prediction\")\\\n",
        "    .setModelFile(f\"{graph_folder}/gcf_graph_bert.pb\")\\\n",
        "    .setEpochsNumber(20)\\\n",
        "    .setBatchSize(32)\\\n",
        "    .setLearningRate(0.001)\\\n",
        "    .setOutputLogsPath(log_folder)\\\n",
        "    .setDropout(0.5)\\\n",
        "    .setFixImbalance(True)\\\n",
        "    # .setValidationSplit(0.1)\n",
        "\n",
        "clf_Pipeline = nlp.Pipeline(stages=[\n",
        "    features_asm,\n",
        "    gc_graph_builder,\n",
        "    gen_clf])\n"
      ]
    },
    {
      "cell_type": "code",
      "execution_count": 84,
      "metadata": {
        "colab": {
          "base_uri": "https://localhost:8080/"
        },
        "id": "uTJY05QbyGE3",
        "outputId": "7808eb7b-2460-4995-bef9-9a9664050d12"
      },
      "outputs": [
        {
          "name": "stdout",
          "output_type": "stream",
          "text": [
            "TF Graph Builder configuration:\n",
            "Model name: generic_classifier\n",
            "Graph folder: gc_graph\n",
            "Graph file name: gcf_graph_bert.pb\n",
            "Build params: {'input_dim': 768, 'output_dim': 2, 'hidden_layers': [300, 200, 50], 'hidden_act': 'tanh', 'hidden_act_l2': True, 'batch_norm': True}\n",
            "generic_classifier graph exported to gc_graph/gcf_graph_bert.pb\n"
          ]
        }
      ],
      "source": [
        "generic_model_bert = clf_Pipeline.fit(trainingData_with_embeddings)"
      ]
    },
    {
      "cell_type": "code",
      "execution_count": 85,
      "metadata": {
        "colab": {
          "base_uri": "https://localhost:8080/"
        },
        "id": "EB1ONwUvyGE3",
        "outputId": "416337ce-2906-436d-901c-a463de26103b"
      },
      "outputs": [
        {
          "name": "stdout",
          "output_type": "stream",
          "text": [
            "              precision    recall  f1-score   support\n",
            "\n",
            "         neg       0.91      0.93      0.92       982\n",
            "         pos       0.83      0.81      0.82       445\n",
            "\n",
            "    accuracy                           0.89      1427\n",
            "   macro avg       0.87      0.87      0.87      1427\n",
            "weighted avg       0.89      0.89      0.89      1427\n",
            "\n"
          ]
        }
      ],
      "source": [
        "pred_df = generic_model_bert.transform(testData_with_embeddings)\n",
        "\n",
        "preds_df = pred_df.select('category','prediction.result').toPandas()\n",
        "preds_df['result'] = preds_df.result.apply(lambda x : x[0])\n",
        "\n",
        "print (classification_report(preds_df['category'], preds_df['result']))"
      ]
    },
    {
      "cell_type": "markdown",
      "metadata": {
        "id": "HAEFUdy1gyh1"
      },
      "source": [
        "## DocumentLogRegClassifier"
      ]
    },
    {
      "cell_type": "code",
      "execution_count": 86,
      "metadata": {
        "id": "4YOr31bfg0hm"
      },
      "outputs": [],
      "source": [
        "document_assembler = nlp.DocumentAssembler()\\\n",
        "    .setInputCol(\"text\")\\\n",
        "    .setOutputCol(\"document\")\n",
        "\n",
        "tokenizer = nlp.Tokenizer() \\\n",
        "    .setInputCols([\"document\"]) \\\n",
        "    .setOutputCol(\"token\")\n",
        "\n",
        "normalizer = nlp.Normalizer() \\\n",
        "      .setInputCols([\"token\"]) \\\n",
        "      .setOutputCol(\"normalized\")\n",
        "\n",
        "stopwords_cleaner = nlp.StopWordsCleaner()\\\n",
        "      .setInputCols(\"normalized\")\\\n",
        "      .setOutputCol(\"cleanTokens\")\\\n",
        "      .setCaseSensitive(False)\n",
        "\n",
        "stemmer = nlp.Stemmer() \\\n",
        "      .setInputCols([\"cleanTokens\"]) \\\n",
        "      .setOutputCol(\"stem\")\n",
        "\n",
        "logreg = medical.DocumentLogRegClassifierApproach()\\\n",
        "    .setInputCols(\"stem\")\\\n",
        "    .setLabelCol(\"category\")\\\n",
        "    .setOutputCol(\"prediction\")\\\n",
        "    .setMaxIter(10)\\\n",
        "    .setTol(1e-6)\n",
        "\n",
        "clf_Pipeline = nlp.Pipeline(stages=[\n",
        "    document_assembler, \n",
        "    tokenizer,\n",
        "    normalizer,\n",
        "    stopwords_cleaner, \n",
        "    stemmer, \n",
        "    logreg])\n",
        "doclogreg_model = clf_Pipeline.fit(trainingData)"
      ]
    },
    {
      "cell_type": "code",
      "execution_count": 87,
      "metadata": {
        "colab": {
          "base_uri": "https://localhost:8080/"
        },
        "id": "61zEw5EQg0d-",
        "outputId": "ee62cfc5-b162-40d2-c6dd-ae5248097b6a"
      },
      "outputs": [
        {
          "name": "stdout",
          "output_type": "stream",
          "text": [
            "              precision    recall  f1-score   support\n",
            "\n",
            "         neg       0.85      0.87      0.86       982\n",
            "         pos       0.70      0.67      0.68       445\n",
            "\n",
            "    accuracy                           0.81      1427\n",
            "   macro avg       0.78      0.77      0.77      1427\n",
            "weighted avg       0.81      0.81      0.81      1427\n",
            "\n"
          ]
        }
      ],
      "source": [
        "pred_df = doclogreg_model.transform(testData)\n",
        "\n",
        "preds_df = pred_df.select('category','prediction.result').toPandas()\n",
        "preds_df['result'] = preds_df.result.apply(lambda x : x[0])\n",
        "\n",
        "print (classification_report(preds_df['category'], preds_df['result']))"
      ]
    },
    {
      "cell_type": "markdown",
      "metadata": {
        "id": "IryBN-nlB8fu"
      },
      "source": [
        "# Mtsamples Dataset"
      ]
    },
    {
      "cell_type": "markdown",
      "metadata": {
        "id": "9VTK1AsahOpz"
      },
      "source": [
        "## Load Dataset"
      ]
    },
    {
      "cell_type": "code",
      "execution_count": 88,
      "metadata": {
        "id": "CHPqy3NeZMWW"
      },
      "outputs": [],
      "source": [
        "!wget -q https://raw.githubusercontent.com/JohnSnowLabs/spark-nlp-workshop/master/tutorials/Certification_Trainings/Healthcare/data/mtsamples_classifier.csv"
      ]
    },
    {
      "cell_type": "code",
      "execution_count": 89,
      "metadata": {
        "colab": {
          "base_uri": "https://localhost:8080/"
        },
        "id": "44eb4f5f-9065-4512-aad6-2afc89f74220",
        "outputId": "a56eb82c-c8a5-46c4-b97e-cc4ebaeee6b3"
      },
      "outputs": [
        {
          "name": "stdout",
          "output_type": "stream",
          "text": [
            "+----------------+----------------------------------------------------------------------------------------------------+\n",
            "|        category|                                                                                                text|\n",
            "+----------------+----------------------------------------------------------------------------------------------------+\n",
            "|Gastroenterology| PROCEDURES PERFORMED: Colonoscopy. INDICATIONS: Renewed symptoms likely consistent with active f...|\n",
            "|Gastroenterology| OPERATION 1. Ivor-Lewis esophagogastrectomy. 2. Feeding jejunostomy. 3. Placement of two right-s...|\n",
            "|Gastroenterology| PREOPERATIVE DIAGNOSES: 1. Gastroesophageal reflux disease. 2. Chronic dyspepsia. POSTOPERATIVE ...|\n",
            "|Gastroenterology| PROCEDURE: Colonoscopy. PREOPERATIVE DIAGNOSES: Rectal bleeding and perirectal abscess. POSTOPER...|\n",
            "|Gastroenterology| PREOPERATIVE DIAGNOSIS: Right colon tumor. POSTOPERATIVE DIAGNOSES: 1. Right colon cancer. 2. As...|\n",
            "|Gastroenterology| PREOPERATIVE DIAGNOSIS (ES): 1. Cholelithiasis. 2. Cholecystitis. POSTOPERATIVE DIAGNOSIS (ES): ...|\n",
            "|Gastroenterology| The patient was taken to the GI lab and placed in the left lateral supine position. Continuous p...|\n",
            "|Gastroenterology| PREOPERATIVE DIAGNOSIS: Gastrostomy (gastrocutaneous fistula). POSTOPERATIVE DIAGNOSIS: Gastrost...|\n",
            "|Gastroenterology| PREOPERATIVE DIAGNOSIS: Acute acalculous cholecystitis. POSTOPERATIVE DIAGNOSIS: Acute hemorrhag...|\n",
            "|Gastroenterology| HISTORY OF PRESENT ILLNESS: This is a 10-year-old who was found with biliary atresia and underwe...|\n",
            "+----------------+----------------------------------------------------------------------------------------------------+\n",
            "only showing top 10 rows\n",
            "\n"
          ]
        }
      ],
      "source": [
        "spark_df = spark.read.csv(\"mtsamples_classifier.csv\", header = True)\n",
        "\n",
        "spark_df.show(10,truncate=100)"
      ]
    },
    {
      "cell_type": "code",
      "execution_count": 90,
      "metadata": {
        "colab": {
          "base_uri": "https://localhost:8080/"
        },
        "id": "yApqQhjp_EZx",
        "outputId": "2f5bd7eb-ced1-48a9-f00b-e88b88de1c37"
      },
      "outputs": [
        {
          "name": "stdout",
          "output_type": "stream",
          "text": [
            "root\n",
            " |-- category: string (nullable = true)\n",
            " |-- text: string (nullable = true)\n",
            "\n"
          ]
        }
      ],
      "source": [
        "spark_df.printSchema()"
      ]
    },
    {
      "cell_type": "code",
      "execution_count": 91,
      "metadata": {
        "colab": {
          "base_uri": "https://localhost:8080/"
        },
        "id": "f0886fb5-fd9d-4199-b142-637cad880866",
        "outputId": "25b33696-6c1d-4cfe-abd3-40a4ba4fd470"
      },
      "outputs": [
        {
          "data": {
            "text/plain": [
              "638"
            ]
          },
          "execution_count": 91,
          "metadata": {},
          "output_type": "execute_result"
        }
      ],
      "source": [
        "spark_df.count()"
      ]
    },
    {
      "cell_type": "code",
      "execution_count": 92,
      "metadata": {
        "colab": {
          "base_uri": "https://localhost:8080/"
        },
        "id": "241bd286-350c-421e-92f4-a80164ed2dc1",
        "outputId": "77c78251-2b93-4b97-9616-bcae1e12aa11"
      },
      "outputs": [
        {
          "name": "stdout",
          "output_type": "stream",
          "text": [
            "+----------------+-----+\n",
            "|        category|count|\n",
            "+----------------+-----+\n",
            "|         Urology|  115|\n",
            "|       Neurology|  143|\n",
            "|      Orthopedic|  223|\n",
            "|Gastroenterology|  157|\n",
            "+----------------+-----+\n",
            "\n"
          ]
        }
      ],
      "source": [
        "spark_df.groupBy(\"category\").count().show()"
      ]
    },
    {
      "cell_type": "code",
      "execution_count": 93,
      "metadata": {
        "id": "db12fe42-90b6-434d-852a-ea86cad9a963"
      },
      "outputs": [],
      "source": [
        "(trainingData, testData) = spark_df.randomSplit([0.8, 0.2], seed = 42)"
      ]
    },
    {
      "cell_type": "code",
      "execution_count": 94,
      "metadata": {
        "colab": {
          "base_uri": "https://localhost:8080/"
        },
        "id": "P3iINSk1hc2E",
        "outputId": "23e7b0e0-7a45-4976-fe9c-6a81fe2c33ea"
      },
      "outputs": [
        {
          "name": "stdout",
          "output_type": "stream",
          "text": [
            "+----------------+-----+\n",
            "|        category|count|\n",
            "+----------------+-----+\n",
            "|         Urology|   95|\n",
            "|       Neurology|  121|\n",
            "|      Orthopedic|  188|\n",
            "|Gastroenterology|  132|\n",
            "+----------------+-----+\n",
            "\n"
          ]
        }
      ],
      "source": [
        "trainingData.groupBy(\"category\").count().show()"
      ]
    },
    {
      "cell_type": "code",
      "execution_count": 95,
      "metadata": {
        "colab": {
          "base_uri": "https://localhost:8080/"
        },
        "id": "UofCYygtKNw7",
        "outputId": "e338de45-d90b-498b-b815-0854b4763b3c"
      },
      "outputs": [
        {
          "name": "stdout",
          "output_type": "stream",
          "text": [
            "+----------------+-----+\n",
            "|        category|count|\n",
            "+----------------+-----+\n",
            "|         Urology|   20|\n",
            "|       Neurology|   22|\n",
            "|      Orthopedic|   35|\n",
            "|Gastroenterology|   25|\n",
            "+----------------+-----+\n",
            "\n"
          ]
        }
      ],
      "source": [
        "testData.groupBy(\"category\").count().show()"
      ]
    },
    {
      "cell_type": "markdown",
      "metadata": {
        "id": "F5fxqMw69oZ_"
      },
      "source": [
        "## 100 Dimension Healthcare Embeddings (embeddings_healthcare_100d)\n",
        "\n"
      ]
    },
    {
      "cell_type": "markdown",
      "metadata": {
        "id": "z3E3d1_w9oZ_"
      },
      "source": [
        "We will extract [healthcare_100d embeddings](https://nlp.johnsnowlabs.com/2020/05/29/embeddings_healthcare_100d_en.html) and use it in the classificaiton model training."
      ]
    },
    {
      "cell_type": "code",
      "execution_count": 96,
      "metadata": {
        "colab": {
          "base_uri": "https://localhost:8080/"
        },
        "id": "dGwOkIhg9oZ_",
        "outputId": "b61a0144-a440-4050-b7e8-0c2a3c42c284"
      },
      "outputs": [
        {
          "name": "stdout",
          "output_type": "stream",
          "text": [
            "embeddings_healthcare_100d download started this may take some time.\n",
            "Approximate size to download 475.8 MB\n",
            "[OK!]\n"
          ]
        }
      ],
      "source": [
        "document_assembler = nlp.DocumentAssembler()\\\n",
        "        .setInputCol(\"text\")\\\n",
        "        .setOutputCol(\"document\")\n",
        "\n",
        "tokenizer = nlp.Tokenizer() \\\n",
        "            .setInputCols([\"document\"]) \\\n",
        "            .setOutputCol(\"token\")\n",
        "\n",
        "word_embeddings = nlp.WordEmbeddingsModel.pretrained(\"embeddings_healthcare_100d\",\"en\",\"clinical/models\")\\\n",
        "        .setInputCols([\"document\",\"token\"])\\\n",
        "        .setOutputCol(\"word_embeddings\")\n",
        "\n",
        "sentence_embeddings = nlp.SentenceEmbeddings() \\\n",
        "        .setInputCols([\"document\", \"word_embeddings\"]) \\\n",
        "        .setOutputCol(\"sentence_embeddings\") \\\n",
        "        .setPoolingStrategy(\"AVERAGE\")\n",
        "\n",
        "embeddings_pipeline = nlp.Pipeline(\n",
        "    stages = [\n",
        "        document_assembler,\n",
        "        tokenizer,\n",
        "        word_embeddings,\n",
        "        sentence_embeddings,\n",
        "\n",
        "    ])"
      ]
    },
    {
      "cell_type": "code",
      "execution_count": 97,
      "metadata": {
        "colab": {
          "base_uri": "https://localhost:8080/"
        },
        "id": "NtiB6Xgv9oZ_",
        "outputId": "8000992d-7799-4689-e6b6-6862b84c5f42"
      },
      "outputs": [
        {
          "name": "stdout",
          "output_type": "stream",
          "text": [
            "+--------------------------------------------------------------------------------+----------------+--------------------------------------------------------------------------------+\n",
            "|                                                                            text|        category|                                                             sentence_embeddings|\n",
            "+--------------------------------------------------------------------------------+----------------+--------------------------------------------------------------------------------+\n",
            "| ADMISSION DIAGNOSIS: Symptomatic cholelithiasis. DISCHARGE DIAGNOSIS: Sympto...|Gastroenterology|[{sentence_embeddings, 0, 2228,  ADMISSION DIAGNOSIS: Symptomatic cholelithia...|\n",
            "| ADMITTING DIAGNOSES: Hiatal hernia, gastroesophageal reflux disease reflux. ...|Gastroenterology|[{sentence_embeddings, 0, 3237,  ADMITTING DIAGNOSES: Hiatal hernia, gastroes...|\n",
            "+--------------------------------------------------------------------------------+----------------+--------------------------------------------------------------------------------+\n",
            "only showing top 2 rows\n",
            "\n"
          ]
        }
      ],
      "source": [
        "trainingData_with_embeddings = embeddings_pipeline.fit(trainingData).transform(trainingData)\n",
        "trainingData_with_embeddings = trainingData_with_embeddings.select(\"text\",\"category\",\"sentence_embeddings\")\n",
        "trainingData_with_embeddings.show(2,truncate=80)"
      ]
    },
    {
      "cell_type": "code",
      "execution_count": 98,
      "metadata": {
        "colab": {
          "base_uri": "https://localhost:8080/"
        },
        "id": "_hMuZrio9oaA",
        "outputId": "c37f883b-2bba-49f7-ca40-89486cccf845"
      },
      "outputs": [
        {
          "name": "stdout",
          "output_type": "stream",
          "text": [
            "+--------------------------------------------------------------------------------+----------------+--------------------------------------------------------------------------------+\n",
            "|                                                                            text|        category|                                                             sentence_embeddings|\n",
            "+--------------------------------------------------------------------------------+----------------+--------------------------------------------------------------------------------+\n",
            "| ADMITTING DIAGNOSIS: Gastrointestinal bleed. HISTORY OF PRESENT ILLNESS: Ms....|Gastroenterology|[{sentence_embeddings, 0, 3978,  ADMITTING DIAGNOSIS: Gastrointestinal bleed....|\n",
            "| CHIEF COMPLAINT: Dysphagia and hematemesis while vomiting. HISTORY OF PRESEN...|Gastroenterology|[{sentence_embeddings, 0, 6515,  CHIEF COMPLAINT: Dysphagia and hematemesis w...|\n",
            "+--------------------------------------------------------------------------------+----------------+--------------------------------------------------------------------------------+\n",
            "only showing top 2 rows\n",
            "\n"
          ]
        }
      ],
      "source": [
        "testData_with_embeddings = embeddings_pipeline.fit(testData).transform(testData)\n",
        "testData_with_embeddings = testData_with_embeddings.select(\"text\",\"category\",\"sentence_embeddings\")\n",
        "testData_with_embeddings.show(2,truncate=80)"
      ]
    },
    {
      "cell_type": "code",
      "execution_count": 99,
      "metadata": {
        "colab": {
          "base_uri": "https://localhost:8080/"
        },
        "id": "ZgqbexSQ9oaA",
        "outputId": "9a4ccf6c-0e0d-4d95-d697-32d7fd919983"
      },
      "outputs": [
        {
          "name": "stdout",
          "output_type": "stream",
          "text": [
            "root\n",
            " |-- text: string (nullable = true)\n",
            " |-- category: string (nullable = true)\n",
            " |-- sentence_embeddings: array (nullable = true)\n",
            " |    |-- element: struct (containsNull = true)\n",
            " |    |    |-- annotatorType: string (nullable = true)\n",
            " |    |    |-- begin: integer (nullable = false)\n",
            " |    |    |-- end: integer (nullable = false)\n",
            " |    |    |-- result: string (nullable = true)\n",
            " |    |    |-- metadata: map (nullable = true)\n",
            " |    |    |    |-- key: string\n",
            " |    |    |    |-- value: string (valueContainsNull = true)\n",
            " |    |    |-- embeddings: array (nullable = true)\n",
            " |    |    |    |-- element: float (containsNull = false)\n",
            "\n"
          ]
        }
      ],
      "source": [
        "testData_with_embeddings.printSchema()"
      ]
    },
    {
      "cell_type": "code",
      "execution_count": 100,
      "metadata": {
        "colab": {
          "base_uri": "https://localhost:8080/"
        },
        "id": "aX5ka1ok9oaA",
        "outputId": "af7d7069-0627-44e1-cc69-8050709230bc"
      },
      "outputs": [
        {
          "name": "stdout",
          "output_type": "stream",
          "text": [
            "+--------------------------------------------------------------------------------+\n",
            "|                                                  sentence_embeddings.embeddings|\n",
            "+--------------------------------------------------------------------------------+\n",
            "|[[-0.010433162, 0.0127568655, 0.110687375, 0.1609855, -0.14818177, -0.0508564...|\n",
            "|[[-0.0055608996, 0.018396137, 0.12305377, 0.13861515, -0.18651922, -0.0755996...|\n",
            "|[[-0.019461514, 0.060639214, 0.11142021, 0.12826534, -0.16216077, -0.10416892...|\n",
            "+--------------------------------------------------------------------------------+\n",
            "only showing top 3 rows\n",
            "\n"
          ]
        }
      ],
      "source": [
        "testData_with_embeddings.select(testData_with_embeddings.sentence_embeddings.embeddings).show(3,truncate=80)"
      ]
    },
    {
      "cell_type": "code",
      "execution_count": 101,
      "metadata": {
        "id": "V99u_ru-9oaA"
      },
      "outputs": [],
      "source": [
        "log_folder=\"Mt_logs_healthcare_100d\"\n",
        "!mkdir -p $log_folder"
      ]
    },
    {
      "cell_type": "markdown",
      "metadata": {
        "id": "7HUPl4fh9oaA"
      },
      "source": [
        "### ClassifierDLApproach"
      ]
    },
    {
      "cell_type": "code",
      "execution_count": 102,
      "metadata": {
        "id": "Dzhptr2o9oaA"
      },
      "outputs": [],
      "source": [
        "classifier_dl = nlp.ClassifierDLApproach()\\\n",
        "        .setInputCols([\"sentence_embeddings\"])\\\n",
        "        .setOutputCol(\"prediction\")\\\n",
        "        .setLabelColumn(\"category\")\\\n",
        "        .setBatchSize(8)\\\n",
        "        .setMaxEpochs(50)\\\n",
        "        .setLr(0.005)\\\n",
        "        .setDropout(0.3)\\\n",
        "        .setEnableOutputLogs(True)\\\n",
        "        .setOutputLogsPath(log_folder)\\\n",
        "        # .setValidationSplit(0.1)\n",
        "\n",
        "classifier_dl_pipeline = nlp.Pipeline(stages=[classifier_dl])"
      ]
    },
    {
      "cell_type": "code",
      "execution_count": 103,
      "metadata": {
        "id": "GP8eSc7Q9oaB"
      },
      "outputs": [],
      "source": [
        "clfDL_model_hc100 = classifier_dl_pipeline.fit(trainingData_with_embeddings)"
      ]
    },
    {
      "cell_type": "code",
      "execution_count": 104,
      "metadata": {
        "id": "3CKuuqYb9oaB"
      },
      "outputs": [],
      "source": [
        "preds = clfDL_model_hc100.transform(testData_with_embeddings)"
      ]
    },
    {
      "cell_type": "code",
      "execution_count": 105,
      "metadata": {
        "colab": {
          "base_uri": "https://localhost:8080/"
        },
        "id": "uGFN40ju9oaB",
        "outputId": "82bd6e71-2925-48a4-b92b-92afe56f1b21"
      },
      "outputs": [
        {
          "name": "stdout",
          "output_type": "stream",
          "text": [
            "                  precision    recall  f1-score   support\n",
            "\n",
            "Gastroenterology       0.76      0.76      0.76        25\n",
            "       Neurology       0.73      0.73      0.73        22\n",
            "      Orthopedic       0.87      0.94      0.90        35\n",
            "         Urology       0.59      0.50      0.54        20\n",
            "\n",
            "        accuracy                           0.76       102\n",
            "       macro avg       0.74      0.73      0.73       102\n",
            "    weighted avg       0.76      0.76      0.76       102\n",
            "\n"
          ]
        }
      ],
      "source": [
        "preds_df = preds.select(\"category\",\"text\",\"prediction.result\").toPandas()\n",
        "preds_df[\"result\"] = preds_df[\"result\"].apply(lambda x : x[0])\n",
        "\n",
        "print (classification_report(preds_df[\"category\"], preds_df[\"result\"]))"
      ]
    },
    {
      "cell_type": "markdown",
      "metadata": {
        "id": "zaaRNh3W9oaB"
      },
      "source": [
        "### MultiClassifierDL"
      ]
    },
    {
      "cell_type": "code",
      "execution_count": 106,
      "metadata": {
        "id": "FnURVIYR9oaB"
      },
      "outputs": [],
      "source": [
        "# MultiClassifierDL accepts list of strings as input label. So we convert label column to array type.\n",
        "trainingData_with_embeddings = trainingData_with_embeddings.withColumn(\"category_array\", F.array(F.col(\"category\")))\n",
        "testData_with_embeddings = testData_with_embeddings.withColumn(\"category_array\", F.array(F.col(\"category\")))"
      ]
    },
    {
      "cell_type": "code",
      "execution_count": 107,
      "metadata": {
        "id": "BHBThSDF9oaB"
      },
      "outputs": [],
      "source": [
        "multiClassifier =nlp.MultiClassifierDLApproach()\\\n",
        "  .setInputCols(\"sentence_embeddings\")\\\n",
        "  .setOutputCol(\"prediction\")\\\n",
        "  .setLabelColumn(\"category_array\")\\\n",
        "  .setBatchSize(8)\\\n",
        "  .setMaxEpochs(40)\\\n",
        "  .setLr(5e-3)\\\n",
        "  .setThreshold(0.5)\\\n",
        "  .setShufflePerEpoch(False)\\\n",
        "  .setEnableOutputLogs(True)\\\n",
        "  .setOutputLogsPath(log_folder)\\\n",
        "#   .setValidationSplit(0.1)\n",
        "\n",
        "multiClassifier_pipeline = nlp.Pipeline(\n",
        "    stages = [\n",
        "        multiClassifier\n",
        "    ])"
      ]
    },
    {
      "cell_type": "code",
      "execution_count": 108,
      "metadata": {
        "id": "Ls8aG1NS9oaB"
      },
      "outputs": [],
      "source": [
        "multiClassifier_model_hc100 = multiClassifier_pipeline.fit(trainingData_with_embeddings)"
      ]
    },
    {
      "cell_type": "code",
      "execution_count": 109,
      "metadata": {
        "id": "zbwCsFnA9oaC"
      },
      "outputs": [],
      "source": [
        "preds = multiClassifier_model_hc100.transform(testData_with_embeddings)"
      ]
    },
    {
      "cell_type": "code",
      "execution_count": 110,
      "metadata": {
        "colab": {
          "base_uri": "https://localhost:8080/"
        },
        "id": "l5ZNDAi69oaC",
        "outputId": "93505e20-3ae7-47bf-e370-97d832b3886e"
      },
      "outputs": [
        {
          "data": {
            "text/plain": [
              "['Orthopedic']                        35\n",
              "['Urology']                           21\n",
              "['Gastroenterology']                  19\n",
              "['Neurology']                         17\n",
              "[]                                     5\n",
              "['Neurology', 'Orthopedic']            4\n",
              "['Orthopedic', 'Gastroenterology']     1\n",
              "Name: result, dtype: int64"
            ]
          },
          "execution_count": 110,
          "metadata": {},
          "output_type": "execute_result"
        }
      ],
      "source": [
        "preds_df = preds.select(\"category\",\"text\",\"prediction.result\",\"prediction.metadata\").toPandas()\n",
        "preds_df.result.apply(lambda x: str(x) ).value_counts()"
      ]
    },
    {
      "cell_type": "code",
      "execution_count": 111,
      "metadata": {
        "colab": {
          "base_uri": "https://localhost:8080/"
        },
        "id": "jCaUwm8k9oaD",
        "outputId": "b319bc74-961d-4fcc-a616-83969306fa88"
      },
      "outputs": [
        {
          "data": {
            "text/plain": [
              "Orthopedic          36\n",
              "Urology             21\n",
              "Gastroenterology    20\n",
              "Neurology           20\n",
              "                     5\n",
              "Name: result, dtype: int64"
            ]
          },
          "execution_count": 111,
          "metadata": {},
          "output_type": "execute_result"
        }
      ],
      "source": [
        "# We will get the highest score label as result. You can control the number of zero label results with setThreshold() in the training.\n",
        "preds_df[\"scores\"] = preds_df.metadata.apply(lambda x: {k:float(v) for k,v in x[0].items()} if len(x)>=1 else \"\")\n",
        "preds_df[\"result\"] = preds_df.scores.apply(lambda x: max(x, key=x.get) if len(x)>=1 else \"\")\n",
        "preds_df[\"result\"].value_counts()"
      ]
    },
    {
      "cell_type": "code",
      "execution_count": 112,
      "metadata": {
        "colab": {
          "base_uri": "https://localhost:8080/"
        },
        "id": "7UoCi9IN9oaD",
        "outputId": "84a41c99-c91f-4047-b746-e10eb7f6633b"
      },
      "outputs": [
        {
          "name": "stdout",
          "output_type": "stream",
          "text": [
            "                  precision    recall  f1-score   support\n",
            "\n",
            "                       0.00      0.00      0.00         0\n",
            "Gastroenterology       0.95      0.76      0.84        25\n",
            "       Neurology       0.80      0.73      0.76        22\n",
            "      Orthopedic       0.89      0.91      0.90        35\n",
            "         Urology       0.90      0.95      0.93        20\n",
            "\n",
            "        accuracy                           0.84       102\n",
            "       macro avg       0.71      0.67      0.69       102\n",
            "    weighted avg       0.89      0.84      0.86       102\n",
            "\n"
          ]
        }
      ],
      "source": [
        "print (classification_report(preds_df[\"category\"], preds_df[\"result\"]))"
      ]
    },
    {
      "cell_type": "markdown",
      "metadata": {
        "id": "xIjin3kR9oaD"
      },
      "source": [
        "### Generic Classifier"
      ]
    },
    {
      "cell_type": "code",
      "execution_count": 113,
      "metadata": {
        "id": "Wwy2d7889oaD"
      },
      "outputs": [],
      "source": [
        "# !pip install -q tensorflow==2.7.0 tensorflow_addons"
      ]
    },
    {
      "cell_type": "code",
      "execution_count": 114,
      "metadata": {
        "id": "kbBy9Fei9oaD"
      },
      "outputs": [],
      "source": [
        "from sparknlp_jsl.annotator import TFGraphBuilder\n",
        "\n",
        "graph_folder = \"gc_graph\"\n",
        "\n",
        "gc_graph_builder =medical.TFGraphBuilder()\\\n",
        "    .setModelName(\"generic_classifier\")\\\n",
        "    .setInputCols([\"features\"])\\\n",
        "    .setLabelColumn(\"category\")\\\n",
        "    .setHiddenLayers([300,200, 50])\\\n",
        "    .setHiddenAct(\"tanh\")\\\n",
        "    .setHiddenActL2(True)\\\n",
        "    .setBatchNorm(True)\\\n",
        "    .setGraphFolder(graph_folder)\\\n",
        "    .setGraphFile(\"gcf_graph_100d.pb\")"
      ]
    },
    {
      "cell_type": "code",
      "execution_count": 115,
      "metadata": {
        "id": "k_4aonYQ9oaD"
      },
      "outputs": [],
      "source": [
        "features_asm =medical.FeaturesAssembler()\\\n",
        "    .setInputCols([\"sentence_embeddings\"])\\\n",
        "    .setOutputCol(\"features\")\n",
        "      \n",
        "gen_clf =medical.GenericClassifierApproach()\\\n",
        "    .setLabelColumn(\"category\")\\\n",
        "    .setInputCols(\"features\")\\\n",
        "    .setOutputCol(\"prediction\")\\\n",
        "    .setModelFile(f\"{graph_folder}/gcf_graph_100d.pb\")\\\n",
        "    .setEpochsNumber(50)\\\n",
        "    .setBatchSize(32)\\\n",
        "    .setLearningRate(0.001)\\\n",
        "    .setOutputLogsPath(log_folder)\\\n",
        "    .setDropout(0.3)\\\n",
        "    .setFixImbalance(False)\\\n",
        "    # .setValidationSplit(0.1)\n",
        "\n",
        "clf_Pipeline = nlp.Pipeline(stages=[\n",
        "    features_asm,\n",
        "    gc_graph_builder,\n",
        "    gen_clf])\n"
      ]
    },
    {
      "cell_type": "code",
      "execution_count": 116,
      "metadata": {
        "colab": {
          "base_uri": "https://localhost:8080/"
        },
        "id": "4LA5_oIb9oaE",
        "outputId": "5487e186-b014-4951-9736-c3e9f0043e6c"
      },
      "outputs": [
        {
          "name": "stdout",
          "output_type": "stream",
          "text": [
            "TF Graph Builder configuration:\n",
            "Model name: generic_classifier\n",
            "Graph folder: gc_graph\n",
            "Graph file name: gcf_graph_100d.pb\n",
            "Build params: {'input_dim': 100, 'output_dim': 4, 'hidden_layers': [300, 200, 50], 'hidden_act': 'tanh', 'hidden_act_l2': True, 'batch_norm': True}\n",
            "generic_classifier graph exported to gc_graph/gcf_graph_100d.pb\n"
          ]
        }
      ],
      "source": [
        "generic_model_hc100 = clf_Pipeline.fit(trainingData_with_embeddings)"
      ]
    },
    {
      "cell_type": "code",
      "execution_count": 117,
      "metadata": {
        "id": "YSMrZRPx9oaE"
      },
      "outputs": [],
      "source": [
        "pred_df = generic_model_hc100.transform(testData_with_embeddings)"
      ]
    },
    {
      "cell_type": "code",
      "execution_count": 118,
      "metadata": {
        "colab": {
          "base_uri": "https://localhost:8080/"
        },
        "id": "geckbyhy9oaE",
        "outputId": "23d44296-2055-4952-87b9-f25a23770bef"
      },
      "outputs": [
        {
          "name": "stdout",
          "output_type": "stream",
          "text": [
            "                  precision    recall  f1-score   support\n",
            "\n",
            "Gastroenterology       0.95      0.84      0.89        25\n",
            "       Neurology       0.81      0.77      0.79        22\n",
            "      Orthopedic       0.89      0.94      0.92        35\n",
            "         Urology       0.86      0.95      0.90        20\n",
            "\n",
            "        accuracy                           0.88       102\n",
            "       macro avg       0.88      0.88      0.88       102\n",
            "    weighted avg       0.88      0.88      0.88       102\n",
            "\n"
          ]
        }
      ],
      "source": [
        "preds_df = pred_df.select('category','prediction.result').toPandas()\n",
        "preds_df['result'] = preds_df.result.apply(lambda x : x[0])\n",
        "\n",
        "print (classification_report(preds_df['category'], preds_df['result']))"
      ]
    },
    {
      "cell_type": "markdown",
      "metadata": {
        "id": "kF60nUsj9oaE"
      },
      "source": [
        "## 200 Dimension Healthcare Embeddings (embeddings_clinical)\n",
        "\n"
      ]
    },
    {
      "cell_type": "markdown",
      "metadata": {
        "id": "fBJMu9pr9oaE"
      },
      "source": [
        "Now we will extract [embeddings_clinical](https://nlp.johnsnowlabs.com/2020/01/28/embeddings_clinical_en.html) embeddings which has 200 dimension output and use this embeddings in the model training."
      ]
    },
    {
      "cell_type": "code",
      "execution_count": 119,
      "metadata": {
        "colab": {
          "base_uri": "https://localhost:8080/"
        },
        "id": "PzSG35rb9oaE",
        "outputId": "d62345d5-78b2-4813-d1dd-475e3355886e"
      },
      "outputs": [
        {
          "name": "stdout",
          "output_type": "stream",
          "text": [
            "embeddings_clinical download started this may take some time.\n",
            "Approximate size to download 1.6 GB\n",
            "[OK!]\n"
          ]
        }
      ],
      "source": [
        "document_assembler = nlp.DocumentAssembler()\\\n",
        "        .setInputCol(\"text\")\\\n",
        "        .setOutputCol(\"document\")\n",
        "\n",
        "tokenizer = nlp.Tokenizer() \\\n",
        "            .setInputCols([\"document\"]) \\\n",
        "            .setOutputCol(\"token\")\n",
        "\n",
        "word_embeddings = nlp.WordEmbeddingsModel.pretrained(\"embeddings_clinical\",\"en\",\"clinical/models\")\\\n",
        "        .setInputCols([\"document\",\"token\"])\\\n",
        "        .setOutputCol(\"word_embeddings\")\n",
        "\n",
        "sentence_embeddings = nlp.SentenceEmbeddings() \\\n",
        "        .setInputCols([\"document\", \"word_embeddings\"]) \\\n",
        "        .setOutputCol(\"sentence_embeddings\") \\\n",
        "        .setPoolingStrategy(\"AVERAGE\")\n",
        "\n",
        "embeddings_pipeline = nlp.Pipeline(\n",
        "    stages = [\n",
        "        document_assembler,\n",
        "        tokenizer,\n",
        "        word_embeddings,\n",
        "        sentence_embeddings,\n",
        "    ])"
      ]
    },
    {
      "cell_type": "code",
      "execution_count": 120,
      "metadata": {
        "colab": {
          "base_uri": "https://localhost:8080/"
        },
        "id": "MXN8Cqyp9oaF",
        "outputId": "fcad9b8e-8bc1-428a-fe01-578ba9070289"
      },
      "outputs": [
        {
          "name": "stdout",
          "output_type": "stream",
          "text": [
            "+--------------------------------------------------------------------------------+----------------+--------------------------------------------------------------------------------+\n",
            "|                                                                            text|        category|                                                             sentence_embeddings|\n",
            "+--------------------------------------------------------------------------------+----------------+--------------------------------------------------------------------------------+\n",
            "| ADMISSION DIAGNOSIS: Symptomatic cholelithiasis. DISCHARGE DIAGNOSIS: Sympto...|Gastroenterology|[{sentence_embeddings, 0, 2228,  ADMISSION DIAGNOSIS: Symptomatic cholelithia...|\n",
            "| ADMITTING DIAGNOSES: Hiatal hernia, gastroesophageal reflux disease reflux. ...|Gastroenterology|[{sentence_embeddings, 0, 3237,  ADMITTING DIAGNOSES: Hiatal hernia, gastroes...|\n",
            "+--------------------------------------------------------------------------------+----------------+--------------------------------------------------------------------------------+\n",
            "only showing top 2 rows\n",
            "\n"
          ]
        }
      ],
      "source": [
        "trainingData_with_embeddings = embeddings_pipeline.fit(trainingData).transform(trainingData)\\\n",
        "                                                  .select(\"text\",\"category\",\"sentence_embeddings\")\n",
        "trainingData_with_embeddings.show(2,truncate=80)"
      ]
    },
    {
      "cell_type": "code",
      "execution_count": 121,
      "metadata": {
        "colab": {
          "base_uri": "https://localhost:8080/"
        },
        "id": "fpBY0D_y9oaF",
        "outputId": "c2158e38-a482-4bbd-a421-0810e748ff8e"
      },
      "outputs": [
        {
          "name": "stdout",
          "output_type": "stream",
          "text": [
            "+--------------------------------------------------------------------------------+----------------+--------------------------------------------------------------------------------+\n",
            "|                                                                            text|        category|                                                             sentence_embeddings|\n",
            "+--------------------------------------------------------------------------------+----------------+--------------------------------------------------------------------------------+\n",
            "| ADMITTING DIAGNOSIS: Gastrointestinal bleed. HISTORY OF PRESENT ILLNESS: Ms....|Gastroenterology|[{sentence_embeddings, 0, 3978,  ADMITTING DIAGNOSIS: Gastrointestinal bleed....|\n",
            "| CHIEF COMPLAINT: Dysphagia and hematemesis while vomiting. HISTORY OF PRESEN...|Gastroenterology|[{sentence_embeddings, 0, 6515,  CHIEF COMPLAINT: Dysphagia and hematemesis w...|\n",
            "+--------------------------------------------------------------------------------+----------------+--------------------------------------------------------------------------------+\n",
            "only showing top 2 rows\n",
            "\n"
          ]
        }
      ],
      "source": [
        "testData_with_embeddings = embeddings_pipeline.fit(testData).transform(testData)\\\n",
        "                                                  .select(\"text\",\"category\",\"sentence_embeddings\")\n",
        "testData_with_embeddings.show(2,truncate=80)"
      ]
    },
    {
      "cell_type": "code",
      "execution_count": 122,
      "metadata": {
        "id": "GGIXfOlX9oaF"
      },
      "outputs": [],
      "source": [
        "log_folder=\"Mt_logs_healthcare_200d\""
      ]
    },
    {
      "cell_type": "markdown",
      "metadata": {
        "id": "5W6ac3UP9oaF"
      },
      "source": [
        "### ClassifierDLApproach "
      ]
    },
    {
      "cell_type": "code",
      "execution_count": 123,
      "metadata": {
        "id": "2z7EgX-q9oaF"
      },
      "outputs": [],
      "source": [
        "classifier_dl = nlp.ClassifierDLApproach()\\\n",
        "        .setInputCols([\"sentence_embeddings\"])\\\n",
        "        .setOutputCol(\"class\")\\\n",
        "        .setLabelColumn(\"category\")\\\n",
        "        .setBatchSize(8)\\\n",
        "        .setMaxEpochs(50)\\\n",
        "        .setLr(0.005)\\\n",
        "        .setDropout(0.1)\\\n",
        "        .setEnableOutputLogs(True)\\\n",
        "        .setOutputLogsPath(log_folder)\n",
        "\n",
        "classifier_dl_pipeline = nlp.Pipeline(stages=[classifier_dl])"
      ]
    },
    {
      "cell_type": "code",
      "execution_count": 124,
      "metadata": {
        "id": "U0mSiCzC9oaF"
      },
      "outputs": [],
      "source": [
        "clfDL_model_hc200 = classifier_dl_pipeline.fit(trainingData_with_embeddings)"
      ]
    },
    {
      "cell_type": "code",
      "execution_count": 125,
      "metadata": {
        "colab": {
          "base_uri": "https://localhost:8080/"
        },
        "id": "boLjiAyP9oaF",
        "outputId": "29313222-9d05-4191-d06b-88420273b169"
      },
      "outputs": [
        {
          "name": "stdout",
          "output_type": "stream",
          "text": [
            "                  precision    recall  f1-score   support\n",
            "\n",
            "Gastroenterology       1.00      0.76      0.86        25\n",
            "       Neurology       0.94      0.73      0.82        22\n",
            "      Orthopedic       0.87      0.97      0.92        35\n",
            "         Urology       0.74      1.00      0.85        20\n",
            "\n",
            "        accuracy                           0.87       102\n",
            "       macro avg       0.89      0.86      0.86       102\n",
            "    weighted avg       0.89      0.87      0.87       102\n",
            "\n"
          ]
        }
      ],
      "source": [
        "preds = clfDL_model_hc200.transform(testData_with_embeddings)\n",
        "\n",
        "preds_df = preds.select(\"category\",\"text\",\"class.result\").toPandas()\n",
        "preds_df[\"result\"] = preds_df[\"result\"].apply(lambda x : x[0])\n",
        "\n",
        "print (classification_report(preds_df[\"category\"], preds_df[\"result\"]))"
      ]
    },
    {
      "cell_type": "markdown",
      "metadata": {
        "id": "y_hWPzoj9oaG"
      },
      "source": [
        "### MultiClassifierDL\n",
        "\n"
      ]
    },
    {
      "cell_type": "code",
      "execution_count": 126,
      "metadata": {
        "id": "mcUXN0td9oaG"
      },
      "outputs": [],
      "source": [
        "# MultiClassifierDL accepts list of strings as input label. So we convert label column to array type.\n",
        "trainingData_with_embeddings = trainingData_with_embeddings.withColumn(\"category_array\", F.array(F.col(\"category\")))\n",
        "testData_with_embeddings = testData_with_embeddings.withColumn(\"category_array\", F.array(F.col(\"category\")))"
      ]
    },
    {
      "cell_type": "code",
      "execution_count": 127,
      "metadata": {
        "id": "4YBVhvLL9oaG"
      },
      "outputs": [],
      "source": [
        "multiClassifier =nlp.MultiClassifierDLApproach()\\\n",
        "  .setInputCols(\"sentence_embeddings\")\\\n",
        "  .setOutputCol(\"prediction\")\\\n",
        "  .setLabelColumn(\"category_array\")\\\n",
        "  .setBatchSize(16)\\\n",
        "  .setMaxEpochs(20)\\\n",
        "  .setLr(9e-3)\\\n",
        "  .setThreshold(0.2)\\\n",
        "  .setShufflePerEpoch(False)\\\n",
        "  .setEnableOutputLogs(True)\\\n",
        "  .setOutputLogsPath(log_folder)\\\n",
        "#   .setValidationSplit(0.1)\n",
        "\n",
        "multiClassifier_pipeline = nlp.Pipeline(\n",
        "    stages = [\n",
        "        multiClassifier\n",
        "    ])"
      ]
    },
    {
      "cell_type": "code",
      "execution_count": 128,
      "metadata": {
        "id": "ABetRCmn9oaG"
      },
      "outputs": [],
      "source": [
        "multiClassifier_model_hc200 = multiClassifier_pipeline.fit(trainingData_with_embeddings)"
      ]
    },
    {
      "cell_type": "code",
      "execution_count": 129,
      "metadata": {
        "id": "EdZbqqEk9oaG"
      },
      "outputs": [],
      "source": [
        "preds = multiClassifier_model_hc200.transform(testData_with_embeddings)"
      ]
    },
    {
      "cell_type": "code",
      "execution_count": 130,
      "metadata": {
        "colab": {
          "base_uri": "https://localhost:8080/"
        },
        "id": "lY4vVTH29oaG",
        "outputId": "2269bddd-2d1b-4fa5-e133-e81e338847cd"
      },
      "outputs": [
        {
          "data": {
            "text/plain": [
              "['Orthopedic']                        32\n",
              "['Gastroenterology']                  19\n",
              "['Urology']                           18\n",
              "['Neurology']                         13\n",
              "['Neurology', 'Orthopedic']           11\n",
              "[]                                     4\n",
              "['Orthopedic', 'Gastroenterology']     3\n",
              "['Urology', 'Orthopedic']              1\n",
              "['Urology', 'Gastroenterology']        1\n",
              "Name: result, dtype: int64"
            ]
          },
          "execution_count": 130,
          "metadata": {},
          "output_type": "execute_result"
        }
      ],
      "source": [
        "preds_df = preds.select(\"category\",\"text\",\"prediction.result\",\"prediction.metadata\").toPandas()\n",
        "preds_df.result.apply(lambda x: str(x) ).value_counts()"
      ]
    },
    {
      "cell_type": "code",
      "execution_count": 131,
      "metadata": {
        "colab": {
          "base_uri": "https://localhost:8080/"
        },
        "id": "DOKLfZR59oaH",
        "outputId": "2e5e668a-0639-4d32-a9b5-e7ff00234e01"
      },
      "outputs": [
        {
          "data": {
            "text/plain": [
              "Orthopedic          38\n",
              "Gastroenterology    22\n",
              "Urology             20\n",
              "Neurology           18\n",
              "                     4\n",
              "Name: result, dtype: int64"
            ]
          },
          "execution_count": 131,
          "metadata": {},
          "output_type": "execute_result"
        }
      ],
      "source": [
        "# We will get the highest score label as result. you can control the number of zero label results with setThreshold() in the training.\n",
        "preds_df[\"scores\"] = preds_df.metadata.apply(lambda x: {k:float(v) for k,v in x[0].items()} if len(x)>=1 else \"\")\n",
        "preds_df[\"result\"] = preds_df.scores.apply(lambda x: max(x, key=x.get) if len(x)>=1 else \"\")\n",
        "preds_df[\"result\"].value_counts()"
      ]
    },
    {
      "cell_type": "code",
      "execution_count": 132,
      "metadata": {
        "colab": {
          "base_uri": "https://localhost:8080/"
        },
        "id": "2E9ibEbQ9oaH",
        "outputId": "e604f6df-29ad-4934-9a0b-79a89d1884fb"
      },
      "outputs": [
        {
          "name": "stdout",
          "output_type": "stream",
          "text": [
            "                  precision    recall  f1-score   support\n",
            "\n",
            "                       0.00      0.00      0.00         0\n",
            "Gastroenterology       1.00      0.88      0.94        25\n",
            "       Neurology       0.89      0.73      0.80        22\n",
            "      Orthopedic       0.87      0.94      0.90        35\n",
            "         Urology       0.90      0.90      0.90        20\n",
            "\n",
            "        accuracy                           0.87       102\n",
            "       macro avg       0.73      0.69      0.71       102\n",
            "    weighted avg       0.91      0.87      0.89       102\n",
            "\n"
          ]
        }
      ],
      "source": [
        "print (classification_report(preds_df[\"category\"], preds_df[\"result\"]))"
      ]
    },
    {
      "cell_type": "markdown",
      "metadata": {
        "id": "7gUOXo5W9oaH"
      },
      "source": [
        "### Generic Classifier "
      ]
    },
    {
      "cell_type": "code",
      "execution_count": 133,
      "metadata": {
        "id": "YaFaVvVg9oaH"
      },
      "outputs": [],
      "source": [
        "# !pip install -q tensorflow==2.7.0 tensorflow_addons"
      ]
    },
    {
      "cell_type": "code",
      "execution_count": 134,
      "metadata": {
        "id": "sRkEeD1N9oaH"
      },
      "outputs": [],
      "source": [
        "from sparknlp_jsl.annotator import TFGraphBuilder\n",
        "\n",
        "graph_folder = \"gc_graph\"\n",
        "\n",
        "gc_graph_builder =medical.TFGraphBuilder()\\\n",
        "    .setModelName(\"generic_classifier\")\\\n",
        "    .setInputCols([\"features\"])\\\n",
        "    .setLabelColumn(\"category\")\\\n",
        "    .setHiddenLayers([300,200, 50])\\\n",
        "    .setHiddenAct(\"tanh\")\\\n",
        "    .setHiddenActL2(True)\\\n",
        "    .setBatchNorm(True)\\\n",
        "    .setGraphFolder(graph_folder)\\\n",
        "    .setGraphFile(\"gcf_graph_200d.pb\")"
      ]
    },
    {
      "cell_type": "code",
      "execution_count": 135,
      "metadata": {
        "id": "NhVTwRJP9oaH"
      },
      "outputs": [],
      "source": [
        "features_asm =medical.FeaturesAssembler()\\\n",
        "    .setInputCols([\"sentence_embeddings\"])\\\n",
        "    .setOutputCol(\"features\")\n",
        "      \n",
        "gen_clf =medical.GenericClassifierApproach()\\\n",
        "    .setLabelColumn(\"category\")\\\n",
        "    .setInputCols(\"features\")\\\n",
        "    .setOutputCol(\"prediction\")\\\n",
        "    .setModelFile(f\"{graph_folder}/gcf_graph_200d.pb\")\\\n",
        "    .setEpochsNumber(30)\\\n",
        "    .setBatchSize(32)\\\n",
        "    .setLearningRate(0.001)\\\n",
        "    .setOutputLogsPath(log_folder)\\\n",
        "    .setDropout(0.3)\\\n",
        "    .setFixImbalance(True)\\\n",
        "    # .setValidationSplit(0.1)\n",
        "\n",
        "clf_Pipeline = nlp.Pipeline(stages=[\n",
        "    features_asm,\n",
        "    gc_graph_builder,\n",
        "    gen_clf])\n"
      ]
    },
    {
      "cell_type": "code",
      "execution_count": 136,
      "metadata": {
        "colab": {
          "base_uri": "https://localhost:8080/"
        },
        "id": "98tT6yJQ9oaH",
        "outputId": "d6801d16-6b9f-488d-be52-7f3c426a0eca"
      },
      "outputs": [
        {
          "name": "stdout",
          "output_type": "stream",
          "text": [
            "TF Graph Builder configuration:\n",
            "Model name: generic_classifier\n",
            "Graph folder: gc_graph\n",
            "Graph file name: gcf_graph_200d.pb\n",
            "Build params: {'input_dim': 200, 'output_dim': 4, 'hidden_layers': [300, 200, 50], 'hidden_act': 'tanh', 'hidden_act_l2': True, 'batch_norm': True}\n",
            "generic_classifier graph exported to gc_graph/gcf_graph_200d.pb\n"
          ]
        }
      ],
      "source": [
        "generic_model_hc200 = clf_Pipeline.fit(trainingData_with_embeddings)"
      ]
    },
    {
      "cell_type": "code",
      "execution_count": 137,
      "metadata": {
        "colab": {
          "base_uri": "https://localhost:8080/"
        },
        "id": "hsId-8YF9oaI",
        "outputId": "326702fc-883f-43d2-95f7-d04af6496fdc"
      },
      "outputs": [
        {
          "name": "stdout",
          "output_type": "stream",
          "text": [
            "                  precision    recall  f1-score   support\n",
            "\n",
            "Gastroenterology       1.00      0.76      0.86        25\n",
            "       Neurology       0.86      0.86      0.86        22\n",
            "      Orthopedic       0.94      0.91      0.93        35\n",
            "         Urology       0.74      1.00      0.85        20\n",
            "\n",
            "        accuracy                           0.88       102\n",
            "       macro avg       0.89      0.88      0.88       102\n",
            "    weighted avg       0.90      0.88      0.88       102\n",
            "\n"
          ]
        }
      ],
      "source": [
        "pred_df = generic_model_hc200.transform(testData_with_embeddings)\n",
        "\n",
        "preds_df = pred_df.select('category','prediction.result').toPandas()\n",
        "preds_df['result'] = preds_df.result.apply(lambda x : x[0])\n",
        "\n",
        "print (classification_report(preds_df['category'], preds_df['result']))"
      ]
    },
    {
      "cell_type": "markdown",
      "metadata": {
        "id": "2LqFI4dmW4Ep"
      },
      "source": [
        "## Bert Sentence Embeddings (sbiobert_base_cased_mli)"
      ]
    },
    {
      "cell_type": "markdown",
      "metadata": {
        "id": "RcQPzSbOVOpn"
      },
      "source": [
        "We will extract [sbiobert_base_cased_mli](https://nlp.johnsnowlabs.com/2020/11/27/sbiobert_base_cased_mli_en.html) embeddings which has 768 dimension output and use this embeddings in the model training."
      ]
    },
    {
      "cell_type": "code",
      "execution_count": 138,
      "metadata": {
        "colab": {
          "base_uri": "https://localhost:8080/"
        },
        "id": "e7pupvygW4Eq",
        "outputId": "f67e1960-7f7d-4e6d-dc57-f87670da889b"
      },
      "outputs": [
        {
          "name": "stdout",
          "output_type": "stream",
          "text": [
            "sbiobert_base_cased_mli download started this may take some time.\n",
            "Approximate size to download 384.3 MB\n",
            "[OK!]\n"
          ]
        }
      ],
      "source": [
        "document_assembler = nlp.DocumentAssembler()\\\n",
        "    .setInputCol(\"text\")\\\n",
        "    .setOutputCol(\"document\")\n",
        "        \n",
        "bert_sent = nlp.BertSentenceEmbeddings.pretrained(\"sbiobert_base_cased_mli\", 'en','clinical/models')\\\n",
        "    .setInputCols([\"document\"])\\\n",
        "    .setOutputCol(\"sentence_embeddings\")\n",
        "\n",
        "embeddings_pipeline = nlp.Pipeline(\n",
        "    stages = [document_assembler,\n",
        "              bert_sent])"
      ]
    },
    {
      "cell_type": "code",
      "execution_count": 139,
      "metadata": {
        "colab": {
          "base_uri": "https://localhost:8080/"
        },
        "id": "A-_AaTGCW4Eq",
        "outputId": "73d5da28-f7de-49e4-8714-04a5a459573b"
      },
      "outputs": [
        {
          "name": "stdout",
          "output_type": "stream",
          "text": [
            "+--------------------------------------------------------------------------------+----------------+--------------------------------------------------------------------------------+\n",
            "|                                                                            text|        category|                                                             sentence_embeddings|\n",
            "+--------------------------------------------------------------------------------+----------------+--------------------------------------------------------------------------------+\n",
            "| ADMISSION DIAGNOSIS: Symptomatic cholelithiasis. DISCHARGE DIAGNOSIS: Sympto...|Gastroenterology|[{sentence_embeddings, 0, 2228,  ADMISSION DIAGNOSIS: Symptomatic cholelithia...|\n",
            "| ADMITTING DIAGNOSES: Hiatal hernia, gastroesophageal reflux disease reflux. ...|Gastroenterology|[{sentence_embeddings, 0, 3237,  ADMITTING DIAGNOSES: Hiatal hernia, gastroes...|\n",
            "+--------------------------------------------------------------------------------+----------------+--------------------------------------------------------------------------------+\n",
            "only showing top 2 rows\n",
            "\n"
          ]
        }
      ],
      "source": [
        "trainingData_with_embeddings = embeddings_pipeline.fit(trainingData).transform(trainingData)\\\n",
        "                                                  .select(\"text\",\"category\",\"sentence_embeddings\")\n",
        "\n",
        "trainingData_with_embeddings.show(2,truncate=80)"
      ]
    },
    {
      "cell_type": "code",
      "execution_count": 140,
      "metadata": {
        "colab": {
          "base_uri": "https://localhost:8080/"
        },
        "id": "sGAKs2o0W4Eq",
        "outputId": "f2876a13-fee7-44c9-ff03-79f622d45802"
      },
      "outputs": [
        {
          "name": "stdout",
          "output_type": "stream",
          "text": [
            "+--------------------------------------------------------------------------------+----------------+--------------------------------------------------------------------------------+\n",
            "|                                                                            text|        category|                                                             sentence_embeddings|\n",
            "+--------------------------------------------------------------------------------+----------------+--------------------------------------------------------------------------------+\n",
            "| ADMITTING DIAGNOSIS: Gastrointestinal bleed. HISTORY OF PRESENT ILLNESS: Ms....|Gastroenterology|[{sentence_embeddings, 0, 3978,  ADMITTING DIAGNOSIS: Gastrointestinal bleed....|\n",
            "| CHIEF COMPLAINT: Dysphagia and hematemesis while vomiting. HISTORY OF PRESEN...|Gastroenterology|[{sentence_embeddings, 0, 6515,  CHIEF COMPLAINT: Dysphagia and hematemesis w...|\n",
            "+--------------------------------------------------------------------------------+----------------+--------------------------------------------------------------------------------+\n",
            "only showing top 2 rows\n",
            "\n"
          ]
        }
      ],
      "source": [
        "testData_with_embeddings = embeddings_pipeline.fit(testData).transform(testData)\\\n",
        "                                                  .select(\"text\",\"category\",\"sentence_embeddings\")\n",
        "\n",
        "testData_with_embeddings.show(2,truncate=80)"
      ]
    },
    {
      "cell_type": "code",
      "execution_count": 141,
      "metadata": {
        "id": "WiR3GJpbW4Eq"
      },
      "outputs": [],
      "source": [
        "log_folder=\"Mt_logs_bert\""
      ]
    },
    {
      "cell_type": "markdown",
      "metadata": {
        "id": "NqYpg6-dW4Eq"
      },
      "source": [
        "### ClassifierDLApproach "
      ]
    },
    {
      "cell_type": "code",
      "execution_count": 142,
      "metadata": {
        "id": "vkb4PlGsW4Eq"
      },
      "outputs": [],
      "source": [
        "classifier_dl = nlp.ClassifierDLApproach()\\\n",
        "        .setInputCols([\"sentence_embeddings\"])\\\n",
        "        .setOutputCol(\"class\")\\\n",
        "        .setLabelColumn(\"category\")\\\n",
        "        .setBatchSize(8)\\\n",
        "        .setMaxEpochs(30)\\\n",
        "        .setLr(0.002)\\\n",
        "        .setDropout(0.1)\\\n",
        "        .setEnableOutputLogs(True)\\\n",
        "        .setOutputLogsPath(log_folder)\n",
        "\n",
        "classifier_dl_pipeline = nlp.Pipeline(stages=[classifier_dl])"
      ]
    },
    {
      "cell_type": "code",
      "execution_count": 143,
      "metadata": {
        "id": "WG0-PJA2W4Eq"
      },
      "outputs": [],
      "source": [
        "clfDL_model_bert = classifier_dl_pipeline.fit(trainingData_with_embeddings)"
      ]
    },
    {
      "cell_type": "code",
      "execution_count": 144,
      "metadata": {
        "colab": {
          "base_uri": "https://localhost:8080/"
        },
        "id": "B_29_8JBW4Eq",
        "outputId": "e5f85129-7676-4e5e-dbdb-537b9b665cc0"
      },
      "outputs": [
        {
          "name": "stdout",
          "output_type": "stream",
          "text": [
            "                  precision    recall  f1-score   support\n",
            "\n",
            "Gastroenterology       1.00      0.84      0.91        25\n",
            "       Neurology       0.72      0.82      0.77        22\n",
            "      Orthopedic       0.88      0.83      0.85        35\n",
            "         Urology       0.74      0.85      0.79        20\n",
            "\n",
            "        accuracy                           0.83       102\n",
            "       macro avg       0.83      0.83      0.83       102\n",
            "    weighted avg       0.85      0.83      0.84       102\n",
            "\n"
          ]
        }
      ],
      "source": [
        "preds = clfDL_model_bert.transform(testData_with_embeddings)\n",
        "\n",
        "preds_df = preds.select(\"category\",\"text\",\"class.result\").toPandas()\n",
        "preds_df[\"result\"] = preds_df[\"result\"].apply(lambda x : x[0])\n",
        "\n",
        "print (classification_report(preds_df[\"category\"], preds_df[\"result\"]))"
      ]
    },
    {
      "cell_type": "markdown",
      "metadata": {
        "id": "0Fw49226W4Er"
      },
      "source": [
        "### MultiClassifierDL "
      ]
    },
    {
      "cell_type": "code",
      "execution_count": 145,
      "metadata": {
        "id": "Co9lWcRxW4Er"
      },
      "outputs": [],
      "source": [
        "# MultiClassifierDL accepts list of strings as input label. So we convert label column to array type.\n",
        "trainingData_with_embeddings = trainingData_with_embeddings.withColumn(\"category_array\", F.array(F.col(\"category\")))\n",
        "testData_with_embeddings = testData_with_embeddings.withColumn(\"category_array\", F.array(F.col(\"category\")))"
      ]
    },
    {
      "cell_type": "code",
      "execution_count": 146,
      "metadata": {
        "id": "5itVNwSWW4Er"
      },
      "outputs": [],
      "source": [
        "multiClassifier =nlp.MultiClassifierDLApproach()\\\n",
        "  .setInputCols(\"sentence_embeddings\")\\\n",
        "  .setOutputCol(\"prediction\")\\\n",
        "  .setLabelColumn(\"category_array\")\\\n",
        "  .setBatchSize(8)\\\n",
        "  .setMaxEpochs(20)\\\n",
        "  .setLr(9e-3)\\\n",
        "  .setThreshold(0.5)\\\n",
        "  .setShufflePerEpoch(False)\\\n",
        "  .setEnableOutputLogs(True)\\\n",
        "  .setOutputLogsPath(log_folder)\\\n",
        "#   .setValidationSplit(0.1)\n",
        "\n",
        "multiClassifier_pipeline = nlp.Pipeline(\n",
        "    stages = [\n",
        "        multiClassifier\n",
        "    ])"
      ]
    },
    {
      "cell_type": "code",
      "execution_count": 147,
      "metadata": {
        "id": "Y2p8qfzeW4Er"
      },
      "outputs": [],
      "source": [
        "multiClassifier_model_hc200 = multiClassifier_pipeline.fit(trainingData_with_embeddings)"
      ]
    },
    {
      "cell_type": "code",
      "execution_count": 148,
      "metadata": {
        "id": "j812VMg5W4Er"
      },
      "outputs": [],
      "source": [
        "preds = multiClassifier_model_hc200.transform(testData_with_embeddings)"
      ]
    },
    {
      "cell_type": "code",
      "execution_count": 149,
      "metadata": {
        "colab": {
          "base_uri": "https://localhost:8080/"
        },
        "id": "Ero8R_rhW4Er",
        "outputId": "96b82916-e12c-432b-c231-9b94e0ea973f"
      },
      "outputs": [
        {
          "data": {
            "text/plain": [
              "['Orthopedic']          33\n",
              "['Gastroenterology']    23\n",
              "['Neurology']           22\n",
              "['Urology']             19\n",
              "[]                       5\n",
              "Name: result, dtype: int64"
            ]
          },
          "execution_count": 149,
          "metadata": {},
          "output_type": "execute_result"
        }
      ],
      "source": [
        "preds_df = preds.select(\"category\",\"text\",\"prediction.result\",\"prediction.metadata\").toPandas()\n",
        "preds_df.result.apply(lambda x: str(x) ).value_counts()"
      ]
    },
    {
      "cell_type": "code",
      "execution_count": 150,
      "metadata": {
        "colab": {
          "base_uri": "https://localhost:8080/"
        },
        "id": "eIr0FA55W4Er",
        "outputId": "d5ba293a-e4b4-4d05-dd67-9176a10587f9"
      },
      "outputs": [
        {
          "data": {
            "text/plain": [
              "Orthopedic          33\n",
              "Gastroenterology    23\n",
              "Neurology           22\n",
              "Urology             19\n",
              "                     5\n",
              "Name: result, dtype: int64"
            ]
          },
          "execution_count": 150,
          "metadata": {},
          "output_type": "execute_result"
        }
      ],
      "source": [
        "# We will get the highest score label as result. You can control the number of zero label results with setThreshold() in the training.\n",
        "preds_df[\"scores\"] = preds_df.metadata.apply(lambda x: {k:float(v) for k,v in x[0].items()} if len(x)>=1 else \"\")\n",
        "preds_df[\"result\"] = preds_df.scores.apply(lambda x: max(x, key=x.get) if len(x)>=1 else \"\")\n",
        "preds_df[\"result\"].value_counts()"
      ]
    },
    {
      "cell_type": "code",
      "execution_count": 151,
      "metadata": {
        "colab": {
          "base_uri": "https://localhost:8080/"
        },
        "id": "m9BKG5kHW4Es",
        "outputId": "185bea34-4d1f-4caf-dd46-6414d93f6ab9"
      },
      "outputs": [
        {
          "name": "stdout",
          "output_type": "stream",
          "text": [
            "                  precision    recall  f1-score   support\n",
            "\n",
            "                       0.00      0.00      0.00         0\n",
            "Gastroenterology       1.00      0.92      0.96        25\n",
            "       Neurology       0.82      0.82      0.82        22\n",
            "      Orthopedic       0.91      0.86      0.88        35\n",
            "         Urology       0.89      0.85      0.87        20\n",
            "\n",
            "        accuracy                           0.86       102\n",
            "       macro avg       0.72      0.69      0.71       102\n",
            "    weighted avg       0.91      0.86      0.89       102\n",
            "\n"
          ]
        }
      ],
      "source": [
        "print (classification_report(preds_df[\"category\"], preds_df[\"result\"]))"
      ]
    },
    {
      "cell_type": "markdown",
      "metadata": {
        "id": "hhNpyXkeW4Es"
      },
      "source": [
        "### Generic Classifier "
      ]
    },
    {
      "cell_type": "code",
      "execution_count": 152,
      "metadata": {
        "id": "aO-WNe20W4Es"
      },
      "outputs": [],
      "source": [
        "# !pip install -q tensorflow==2.7.0 tensorflow_addons"
      ]
    },
    {
      "cell_type": "code",
      "execution_count": 153,
      "metadata": {
        "id": "a0pS3YdEW4Es"
      },
      "outputs": [],
      "source": [
        "from sparknlp_jsl.annotator import TFGraphBuilder\n",
        "\n",
        "graph_folder = \"gc_graph\"\n",
        "\n",
        "gc_graph_builder =medical.TFGraphBuilder()\\\n",
        "    .setModelName(\"generic_classifier\")\\\n",
        "    .setInputCols([\"features\"])\\\n",
        "    .setLabelColumn(\"category\")\\\n",
        "    .setHiddenLayers([300,200, 50])\\\n",
        "    .setHiddenAct(\"tanh\")\\\n",
        "    .setHiddenActL2(True)\\\n",
        "    .setBatchNorm(True)\\\n",
        "    .setGraphFolder(graph_folder)\\\n",
        "    .setGraphFile(\"gcf_graph_bert.pb\")"
      ]
    },
    {
      "cell_type": "code",
      "execution_count": 154,
      "metadata": {
        "id": "aBuFW-1iW4Es"
      },
      "outputs": [],
      "source": [
        "features_asm =medical.FeaturesAssembler()\\\n",
        "    .setInputCols([\"sentence_embeddings\"])\\\n",
        "    .setOutputCol(\"features\")\n",
        "      \n",
        "gen_clf =medical.GenericClassifierApproach()\\\n",
        "    .setLabelColumn(\"category\")\\\n",
        "    .setInputCols(\"features\")\\\n",
        "    .setOutputCol(\"prediction\")\\\n",
        "    .setModelFile(f\"{graph_folder}/gcf_graph_bert.pb\")\\\n",
        "    .setEpochsNumber(25)\\\n",
        "    .setBatchSize(8)\\\n",
        "    .setLearningRate(0.002)\\\n",
        "    .setOutputLogsPath(log_folder)\\\n",
        "    .setDropout(0.2)\\\n",
        "    .setFixImbalance(True)\\\n",
        "    # .setValidationSplit(0.1)\n",
        "\n",
        "clf_Pipeline = nlp.Pipeline(stages=[\n",
        "    features_asm,\n",
        "    gc_graph_builder,\n",
        "    gen_clf])\n"
      ]
    },
    {
      "cell_type": "code",
      "execution_count": 155,
      "metadata": {
        "colab": {
          "base_uri": "https://localhost:8080/"
        },
        "id": "Xpi8bsOAW4Es",
        "outputId": "e8482c7e-9e4d-4549-f870-efa95264c8fb"
      },
      "outputs": [
        {
          "name": "stdout",
          "output_type": "stream",
          "text": [
            "TF Graph Builder configuration:\n",
            "Model name: generic_classifier\n",
            "Graph folder: gc_graph\n",
            "Graph file name: gcf_graph_bert.pb\n",
            "Build params: {'input_dim': 768, 'output_dim': 4, 'hidden_layers': [300, 200, 50], 'hidden_act': 'tanh', 'hidden_act_l2': True, 'batch_norm': True}\n",
            "generic_classifier graph exported to gc_graph/gcf_graph_bert.pb\n"
          ]
        }
      ],
      "source": [
        "generic_model_bert = clf_Pipeline.fit(trainingData_with_embeddings)"
      ]
    },
    {
      "cell_type": "code",
      "execution_count": 156,
      "metadata": {
        "colab": {
          "base_uri": "https://localhost:8080/"
        },
        "id": "5aw-VIEhW4Es",
        "outputId": "b23b8035-867b-4d3c-e9d3-e3c4b2e1c31e"
      },
      "outputs": [
        {
          "name": "stdout",
          "output_type": "stream",
          "text": [
            "                  precision    recall  f1-score   support\n",
            "\n",
            "Gastroenterology       0.92      0.92      0.92        25\n",
            "       Neurology       0.73      0.86      0.79        22\n",
            "      Orthopedic       0.87      0.77      0.82        35\n",
            "         Urology       0.90      0.90      0.90        20\n",
            "\n",
            "        accuracy                           0.85       102\n",
            "       macro avg       0.86      0.86      0.86       102\n",
            "    weighted avg       0.86      0.85      0.85       102\n",
            "\n"
          ]
        }
      ],
      "source": [
        "pred_df = generic_model_bert.transform(testData_with_embeddings)\n",
        "\n",
        "preds_df = pred_df.select('category','prediction.result').toPandas()\n",
        "preds_df['result'] = preds_df.result.apply(lambda x : x[0])\n",
        "\n",
        "print (classification_report(preds_df['category'], preds_df['result']))"
      ]
    },
    {
      "cell_type": "markdown",
      "metadata": {
        "id": "hJCE-sWM9oaK"
      },
      "source": [
        "## DocumentLogRegClassifier"
      ]
    },
    {
      "cell_type": "code",
      "execution_count": 157,
      "metadata": {
        "id": "FUHSa7b79oaK"
      },
      "outputs": [],
      "source": [
        "document_assembler = nlp.DocumentAssembler()\\\n",
        "    .setInputCol(\"text\")\\\n",
        "    .setOutputCol(\"document\")\n",
        "\n",
        "tokenizer = nlp.Tokenizer() \\\n",
        "    .setInputCols([\"document\"]) \\\n",
        "    .setOutputCol(\"token\")\n",
        "\n",
        "logreg = medical.DocumentLogRegClassifierApproach()\\\n",
        "    .setInputCols(\"token\")\\\n",
        "    .setLabelCol(\"category\")\\\n",
        "    .setOutputCol(\"prediction\")\\\n",
        "    .setMaxIter(10)\\\n",
        "    .setTol(1e-6)\n",
        "\n",
        "clf_Pipeline = nlp.Pipeline(stages=[document_assembler,\n",
        "                                tokenizer,\n",
        "                                logreg])\n",
        "\n",
        "doclogreg_model = clf_Pipeline.fit(trainingData)"
      ]
    },
    {
      "cell_type": "code",
      "execution_count": 158,
      "metadata": {
        "colab": {
          "base_uri": "https://localhost:8080/"
        },
        "id": "PbOx1a7X9oaK",
        "outputId": "80b06eba-5592-43e4-f42c-3391a97ef40e"
      },
      "outputs": [
        {
          "name": "stdout",
          "output_type": "stream",
          "text": [
            "                  precision    recall  f1-score   support\n",
            "\n",
            "Gastroenterology       0.88      0.88      0.88        25\n",
            "       Neurology       0.81      0.77      0.79        22\n",
            "      Orthopedic       0.86      0.89      0.87        35\n",
            "         Urology       0.90      0.90      0.90        20\n",
            "\n",
            "        accuracy                           0.86       102\n",
            "       macro avg       0.86      0.86      0.86       102\n",
            "    weighted avg       0.86      0.86      0.86       102\n",
            "\n"
          ]
        }
      ],
      "source": [
        "pred_df = doclogreg_model.transform(testData)\n",
        "\n",
        "preds_df = pred_df.select('category','prediction.result').toPandas()\n",
        "preds_df['result'] = preds_df.result.apply(lambda x : x[0])\n",
        "\n",
        "print (classification_report(preds_df['category'], preds_df['result']))"
      ]
    }
  ],
  "metadata": {
    "accelerator": "GPU",
    "colab": {
      "machine_shape": "hm",
      "provenance": [],
      "toc_visible": true
    },
    "gpuClass": "standard",
    "kernelspec": {
      "display_name": "Python 3",
      "language": "python",
      "name": "python3"
    },
    "language_info": {
      "name": "python",
      "version": "3.10.4 (tags/v3.10.4:9d38120, Mar 23 2022, 23:13:41) [MSC v.1929 64 bit (AMD64)]"
    },
    "vscode": {
      "interpreter": {
        "hash": "8f527f757492231011ff0f96452bff72dba1ece595fe9390d852b709bf8922e1"
      }
    }
  },
  "nbformat": 4,
  "nbformat_minor": 0
}

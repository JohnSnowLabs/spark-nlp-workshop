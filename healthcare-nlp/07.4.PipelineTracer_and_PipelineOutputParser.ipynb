{
  "cells": [
    {
      "cell_type": "markdown",
      "metadata": {
        "id": "oBSetWAsP_Ln"
      },
      "source": [
        "![JohnSnowLabs](https://nlp.johnsnowlabs.com/assets/images/logo.png)"
      ]
    },
    {
      "cell_type": "markdown",
      "metadata": {
        "id": "hvptxCpHQA2H"
      },
      "source": [
        "[![Open In Colab](https://colab.research.google.com/assets/colab-badge.svg)](https://colab.research.google.com/github/JohnSnowLabs/spark-nlp-workshop/blob/master/tutorials/Certification_Trainings/Healthcare/11.4.PipelineTracer_and_PipelineOutputParser.ipynb)"
      ]
    },
    {
      "cell_type": "markdown",
      "metadata": {
        "id": "2MuCuTUFP6--"
      },
      "source": [
        "#   **📜 PipelineTracer and PipelineOutputParser**\n"
      ]
    },
    {
      "cell_type": "markdown",
      "metadata": {
        "id": "XF0g5Y4tqKhR"
      },
      "source": [
        "\n",
        "# Colab Setup"
      ]
    },
    {
      "cell_type": "code",
      "execution_count": 1,
      "metadata": {
        "id": "Na3Wb8m6pUtS"
      },
      "outputs": [],
      "source": [
        "# Install the johnsnowlabs library to access Spark-OCR and Spark-NLP for Healthcare, Finance, and Legal.\n",
        "! pip install -q johnsnowlabs"
      ]
    },
    {
      "cell_type": "code",
      "execution_count": null,
      "metadata": {
        "id": "5l9kTjQlpUtT"
      },
      "outputs": [],
      "source": [
        "from google.colab import files\n",
        "print('Please Upload your John Snow Labs License using the button below')\n",
        "license_keys = files.upload()"
      ]
    },
    {
      "cell_type": "code",
      "execution_count": null,
      "metadata": {
        "id": "i2WFb0SxpUtT"
      },
      "outputs": [],
      "source": [
        "from johnsnowlabs import nlp, medical\n",
        "# After uploading your license run this to install all licensed Python Wheels and pre-download Jars the Spark Session JVM\n",
        "\n",
        "nlp.settings.enforce_versions=False\n",
        "nlp.install(refresh_install=True)"
      ]
    },
    {
      "cell_type": "code",
      "execution_count": null,
      "metadata": {
        "id": "0TW-JXkT_le8"
      },
      "outputs": [],
      "source": [
        "from johnsnowlabs import nlp, medical\n",
        "import pandas as pd\n",
        "from pyspark.sql import functions as F\n",
        "\n",
        "# Automatically load license data and start a session with all jars user has access to\n",
        "spark = nlp.start()"
      ]
    },
    {
      "cell_type": "code",
      "execution_count": 2,
      "metadata": {
        "colab": {
          "base_uri": "https://localhost:8080/",
          "height": 237
        },
        "id": "WfT1dFNt_mua",
        "outputId": "6d9ca2b5-5322-4c20-de25-9c683919bbdc"
      },
      "outputs": [
        {
          "data": {
            "text/html": [
              "\n",
              "            <div>\n",
              "                <p><b>SparkSession - in-memory</b></p>\n",
              "                \n",
              "        <div>\n",
              "            <p><b>SparkContext</b></p>\n",
              "\n",
              "            <p><a href=\"http://7460e5e9fc28:4040\">Spark UI</a></p>\n",
              "\n",
              "            <dl>\n",
              "              <dt>Version</dt>\n",
              "                <dd><code>v3.4.0</code></dd>\n",
              "              <dt>Master</dt>\n",
              "                <dd><code>local[*]</code></dd>\n",
              "              <dt>AppName</dt>\n",
              "                <dd><code>John-Snow-Labs-Spark-Session 🚀 with Jars for: 🚀Spark-NLP==5.3.2, 💊Spark-Healthcare==5.3.3, running on ⚡ PySpark==3.4.0</code></dd>\n",
              "            </dl>\n",
              "        </div>\n",
              "        \n",
              "            </div>\n",
              "        "
            ],
            "text/plain": [
              "<pyspark.sql.session.SparkSession at 0x78f8506155d0>"
            ]
          },
          "execution_count": 2,
          "metadata": {},
          "output_type": "execute_result"
        }
      ],
      "source": [
        "spark"
      ]
    },
    {
      "cell_type": "markdown",
      "metadata": {},
      "source": [
        "## Healthcare NLP for Data Scientists Course\n",
        "\n",
        "If you are not familiar with the components in this notebook, you can check [Healthcare NLP for Data Scientists Udemy Course](https://www.udemy.com/course/healthcare-nlp-for-data-scientists/) and the [MOOC Notebooks](https://github.com/JohnSnowLabs/spark-nlp-workshop/tree/master/Spark_NLP_Udemy_MOOC/Healthcare_NLP) for each components."
      ]
    },
    {
      "cell_type": "markdown",
      "metadata": {
        "id": "3jO9_qEJ98kI"
      },
      "source": [
        "# PipelineTracer\n",
        "\n",
        "\n",
        "\n",
        "    PipelineTracer is a class that allows to trace the stages of a pipeline and get information about them.\n",
        "    The `PipelineTracer` class provides functionality for tracing and retrieving information about the various stages of a pipeline.\n",
        "    It can be used to obtain detailed insights into the entities, assertions, and relationships utilized within the pipeline.\n",
        "    Compatibility with both `PipelineModel` and `PretrainedPipeline`.\n",
        "    It can be used with a PipelineModel or a PretrainedPipeline.\n",
        "    Additionally, it can be used to create a parser dictionary that can be used to create a PipelineOutputParser.\n"
      ]
    },
    {
      "cell_type": "markdown",
      "metadata": {
        "id": "RfHKi21zRY7u"
      },
      "source": [
        "## **🔎 Parameters**\n",
        "\n",
        "**Parameters**:\n",
        "\n",
        "- `printPipelineSchema`: Prints the schema of the pipeline.\n",
        "- `createParserDictionary`: Returns a parser dictionary that can be used to create a PipelineOutputParser\n",
        "- `getPossibleEntities`: Returns a list of possible entities that the pipeline can include.\n",
        "- `getPossibleAssertions`: Returns a list of possible assertions that the pipeline can include\n",
        "- `getPossibleRelations`: Returns a list of possible relations that the pipeline can include.\n",
        "- `getPipelineStages`: Returns a list of PipelineStage objects that represent the stages of the pipeline.\n",
        "- `getParserDictDirectly`: Returns a parser dictionary that can be used to create a PipelineOutputParser. This method is used to get the parser dictionary directly without creating a PipelineTracer objec.\n",
        "- `listAvailableModels`: Returns a list of available models for a given language and source\n",
        "- `showAvailableModels`: Prints a list of available models for a given language and source."
      ]
    },
    {
      "cell_type": "code",
      "execution_count": 3,
      "metadata": {
        "id": "EpP0bWyJk3RU"
      },
      "outputs": [],
      "source": [
        "from sparknlp_jsl.pipeline_tracer import PipelineTracer"
      ]
    },
    {
      "cell_type": "markdown",
      "metadata": {
        "id": "G0EGjnn6UUcH"
      },
      "source": [
        "### showAvailableModels"
      ]
    },
    {
      "cell_type": "code",
      "execution_count": 4,
      "metadata": {
        "colab": {
          "base_uri": "https://localhost:8080/"
        },
        "id": "9nPoUphC-CfI",
        "outputId": "fd4cc779-b8bd-45e8-8e7e-1cb6f0029c51"
      },
      "outputs": [
        {
          "name": "stdout",
          "output_type": "stream",
          "text": [
            "clinical_deidentification\n",
            "explain_clinical_doc_ade\n",
            "explain_clinical_doc_biomarker\n",
            "explain_clinical_doc_generic\n",
            "explain_clinical_doc_granular\n",
            "explain_clinical_doc_medication\n",
            "explain_clinical_doc_oncology\n",
            "explain_clinical_doc_public_health\n",
            "explain_clinical_doc_radiology\n",
            "explain_clinical_doc_risk_factors\n",
            "explain_clinical_doc_vop\n",
            "icd10cm_resolver_pipeline\n",
            "icd10cm_rxnorm_resolver_pipeline\n",
            "rxnorm_resolver_pipeline\n",
            "snomed_resolver_pipeline\n"
          ]
        }
      ],
      "source": [
        "PipelineTracer.showAvailableModels(language=\"en\", source=\"clinical/models\")"
      ]
    },
    {
      "cell_type": "markdown",
      "metadata": {
        "id": "m3sk4ybCUWNs"
      },
      "source": [
        "### listAvailableModels"
      ]
    },
    {
      "cell_type": "code",
      "execution_count": 5,
      "metadata": {
        "colab": {
          "base_uri": "https://localhost:8080/"
        },
        "id": "PyWOT-F8-RId",
        "outputId": "1451b150-893c-401f-e52f-a5a29230972f"
      },
      "outputs": [
        {
          "name": "stdout",
          "output_type": "stream",
          "text": [
            "{'document_identifier': 'clinical_deidentification', 'document_text': 'sentence', 'entities': [{'ner_chunk_column_name': 'ner_chunk', 'assertion_column_name': '', 'resolver_column_name': ''}], 'relations': [], 'summaries': [], 'deidentifications': [{'original': 'sentence', 'obfuscated': 'obfuscated', 'masked': ''}], 'classifications': []}\n",
            "{'document_identifier': 'explain_clinical_doc_ade', 'document_text': 'document', 'entities': [{'ner_chunk_column_name': 'ner_chunks_ade', 'assertion_column_name': '', 'resolver_column_name': ''}, {'ner_chunk_column_name': 'ner_chunks_ade', 'assertion_column_name': 'assertion', 'resolver_column_name': ''}], 'relations': ['relations'], 'summaries': [], 'deidentifications': [], 'classifications': [{'classification_column_name': 'class', 'sentence_column_name': 'sentence'}]}\n",
            "{'document_identifier': 'explain_clinical_doc_biomarker', 'document_text': 'document', 'entities': [{'ner_chunk_column_name': 'ner_biomarker_chunk', 'assertion_column_name': '', 'resolver_column_name': ''}], 'relations': ['re_oncology_biomarker_result_wip'], 'summaries': '', 'deidentifications': [], 'classifications': [{'classification_column_name': 'prediction', 'sentence_column_name': 'sentence'}]}\n",
            "{'document_identifier': 'explain_clinical_doc_generic', 'document_text': 'document', 'entities': [{'ner_chunk_column_name': 'merged_chunk', 'assertion_column_name': 'assertion', 'resolver_column_name': ''}], 'relations': ['relations'], 'summaries': [], 'deidentifications': [], 'classifications': []}\n",
            "{'document_identifier': 'explain_clinical_doc_granular', 'document_text': 'document', 'entities': [{'ner_chunk_column_name': 'jsl_ner_chunk', 'assertion_column_name': '', 'resolver_column_name': ''}, {'ner_chunk_column_name': 'assertion_ner_chunk', 'assertion_column_name': 'assertion', 'resolver_column_name': ''}], 'relations': ['all_relations'], 'summaries': [], 'deidentifications': [], 'classifications': []}\n",
            "{'document_identifier': 'explain_clinical_doc_medication', 'document_text': 'document', 'entities': [{'ner_chunk_column_name': 'ner_posology_chunk', 'assertion_column_name': '', 'resolver_column_name': ''}, {'ner_chunk_column_name': 'assertion_ner_chunk', 'assertion_column_name': 'assertion', 'resolver_column_name': ''}], 'relations': ['relations'], 'summaries': [], 'deidentifications': [], 'classifications': []}\n",
            "{'document_identifier': 'explain_clinical_doc_oncology', 'document_text': 'document', 'entities': [{'ner_chunk_column_name': 'merged_chunk_for_assertion', 'assertion_column_name': 'assertion', 'resolver_column_name': ''}, {'ner_chunk_column_name': 'merged_chunk', 'assertion_column_name': '', 'resolver_column_name': ''}], 'relations': ['all_relations'], 'summaries': [], 'deidentifications': [], 'classifications': []}\n",
            "{'document_identifier': 'explain_clinical_doc_public_health', 'document_text': 'document', 'entities': [{'ner_chunk_column_name': 'merged_ner_chunk', 'assertion_column_name': '', 'resolver_column_name': ''}, {'ner_chunk_column_name': 'merged_ner_chunk_assertion', 'assertion_column_name': 'assertion', 'resolver_column_name': ''}], 'relations': ['relations'], 'summaries': [], 'deidentifications': [], 'classifications': []}\n",
            "{'document_identifier': 'explain_clinical_doc_radiology', 'document_text': 'document', 'entities': [{'ner_chunk_column_name': 'merged_chunk', 'assertion_column_name': '', 'resolver_column_name': ''}, {'ner_chunk_column_name': 'merged_chunk_for_assertion', 'assertion_column_name': 'assertion', 'resolver_column_name': ''}], 'relations': ['relations'], 'summaries': [], 'deidentifications': [], 'classifications': []}\n",
            "{'document_identifier': 'explain_clinical_doc_risk_factors', 'document_text': 'document', 'entities': [{'ner_chunk_column_name': 'merged_ner_chunk', 'assertion_column_name': '', 'resolver_column_name': ''}, {'ner_chunk_column_name': 'merged_ner_chunk_assertion', 'assertion_column_name': 'assertion', 'resolver_column_name': ''}], 'relations': ['relations'], 'summaries': [], 'deidentifications': [], 'classifications': []}\n",
            "{'document_identifier': 'explain_clinical_doc_vop', 'document_text': 'document', 'entities': [{'ner_chunk_column_name': 'merged_ner_chunk', 'assertion_column_name': '', 'resolver_column_name': ''}, {'ner_chunk_column_name': 'merged_ner_chunk_assertion', 'assertion_column_name': 'assertion', 'resolver_column_name': ''}], 'relations': ['relations'], 'summaries': [], 'deidentifications': [], 'classifications': []}\n",
            "{'document_identifier': 'icd10cm_resolver_pipeline', 'document_text': 'document', 'entities': [{'ner_chunk_column_name': 'chunk', 'assertion_column_name': '', 'resolver_column_name': 'icd10cm'}], 'relations': [], 'summaries': [], 'deidentifications': [], 'classifications': []}\n",
            "{'document_identifier': 'icd10cm_rxnorm_resolver_pipeline', 'document_text': 'document', 'entities': [{'ner_chunk_column_name': 'final_ner_chunk', 'assertion_column_name': '', 'resolver_column_name': 'icd10cm_code'}], 'relations': [], 'summaries': [], 'deidentifications': [], 'classifications': []}\n",
            "{'document_identifier': 'rxnorm_resolver_pipeline', 'document_text': 'document', 'entities': [{'ner_chunk_column_name': 'chunk', 'assertion_column_name': '', 'resolver_column_name': 'RxNorm'}], 'relations': [], 'summaries': [], 'deidentifications': [], 'classifications': []}\n",
            "{'document_identifier': 'snomed_resolver_pipeline', 'document_text': 'document', 'entities': [{'ner_chunk_column_name': 'merged_chunk', 'assertion_column_name': '', 'resolver_column_name': 'snomed_code'}], 'relations': [], 'summaries': [], 'deidentifications': [], 'classifications': []}\n"
          ]
        }
      ],
      "source": [
        "for model in PipelineTracer.listAvailableModels():\n",
        "  print(PipelineTracer.getParserDictDirectly(model))"
      ]
    },
    {
      "cell_type": "markdown",
      "metadata": {
        "id": "neweI9LIU75T"
      },
      "source": [
        "### createParserDictionary"
      ]
    },
    {
      "cell_type": "code",
      "execution_count": 6,
      "metadata": {
        "colab": {
          "base_uri": "https://localhost:8080/"
        },
        "id": "Uqs9ofJ2--OC",
        "outputId": "02fe096c-327f-4e37-896e-b0b02edbfe89"
      },
      "outputs": [
        {
          "name": "stdout",
          "output_type": "stream",
          "text": [
            "explain_clinical_doc_oncology download started this may take some time.\n",
            "Approx size to download 1.8 GB\n",
            "[OK!]\n"
          ]
        }
      ],
      "source": [
        "oncology_pipeline = nlp.PretrainedPipeline(\"explain_clinical_doc_oncology\", \"en\", \"clinical/models\")\n"
      ]
    },
    {
      "cell_type": "code",
      "execution_count": null,
      "metadata": {
        "id": "J5c-ng_HGBOi"
      },
      "outputs": [],
      "source": [
        "tracer = PipelineTracer(oncology_pipeline)"
      ]
    },
    {
      "cell_type": "code",
      "execution_count": 7,
      "metadata": {
        "colab": {
          "base_uri": "https://localhost:8080/"
        },
        "id": "d1D7WVXwVjmc",
        "outputId": "92a9564a-8de4-47c3-ef57-956163bbce38"
      },
      "outputs": [
        {
          "data": {
            "text/plain": [
              "{'document_identifier': '',\n",
              " 'document_text': 'document',\n",
              " 'entities': [{'ner_chunk_column_name': 'merged_chunk',\n",
              "   'assertion_column_name': '',\n",
              "   'resolver_column_name': ''},\n",
              "  {'ner_chunk_column_name': 'merged_chunk_for_assertion',\n",
              "   'assertion_column_name': 'assertion',\n",
              "   'resolver_column_name': ''}],\n",
              " 'relations': ['all_relations'],\n",
              " 'summaries': [],\n",
              " 'deidentifications': [],\n",
              " 'classifications': []}"
            ]
          },
          "execution_count": 7,
          "metadata": {},
          "output_type": "execute_result"
        }
      ],
      "source": [
        "tracer.createParserDictionary()"
      ]
    },
    {
      "cell_type": "markdown",
      "metadata": {
        "id": "YPQcSoVcVoM0"
      },
      "source": [
        "### printPipelineSchema"
      ]
    },
    {
      "cell_type": "code",
      "execution_count": 8,
      "metadata": {
        "colab": {
          "base_uri": "https://localhost:8080/"
        },
        "id": "gOnit5Ca_a8x",
        "outputId": "a4e2d464-d407-4fae-9dba-935b9853f5bc"
      },
      "outputs": [
        {
          "name": "stdout",
          "output_type": "stream",
          "text": [
            "root\n",
            " |-- DocumentAssembler\n",
            " |    |-- uid: string (DocumentAssembler_27a75510357d)\n",
            " |    |-- index: int (0)\n",
            " |    |-- inputCol: string (text)\n",
            " |    |-- outputCol: string (document)\n",
            " |    |-- inputAnnotatorType: none (----------)\n",
            " |    |-- outputAnnotatorType: string (DOCUMENT)\n",
            " |\n",
            " |-- SentenceDetectorDLModel\n",
            " |    |-- uid: string (SentenceDetectorDLModel_6bafc4746ea5)\n",
            " |    |-- index: int (1)\n",
            " |    |-- inputCols: array (document)\n",
            " |    |-- outputCol: string (sentence)\n",
            " |    |-- inputAnnotatorTypes: array (DOCUMENT)\n",
            " |    |-- outputAnnotatorType: string (DOCUMENT)\n",
            " |\n",
            " |-- TokenizerModel\n",
            " |    |-- uid: string (REGEX_TOKENIZER_6e5cf9a1fd71)\n",
            " |    |-- index: int (2)\n",
            " |    |-- inputCols: array (sentence)\n",
            " |    |-- outputCol: string (token)\n",
            " |    |-- inputAnnotatorTypes: array (DOCUMENT)\n",
            " |    |-- outputAnnotatorType: string (TOKEN)\n",
            " |\n",
            " |-- WordEmbeddingsModel\n",
            " |    |-- uid: string (WORD_EMBEDDINGS_MODEL_9004b1d00302)\n",
            " |    |-- index: int (3)\n",
            " |    |-- inputCols: array (sentence, token)\n",
            " |    |-- outputCol: string (embeddings)\n",
            " |    |-- inputAnnotatorTypes: array (DOCUMENT, TOKEN)\n",
            " |    |-- outputAnnotatorType: string (WORD_EMBEDDINGS)\n",
            " |\n",
            " |-- MedicalNerModel\n",
            " |    |-- uid: string (MedicalNerModel_8c59079bd37d)\n",
            " |    |-- index: int (4)\n",
            " |    |-- inputCols: array (sentence, token, embeddings)\n",
            " |    |-- outputCol: string (ner_oncology)\n",
            " |    |-- inputAnnotatorTypes: array (DOCUMENT, TOKEN, WORD_EMBEDDINGS)\n",
            " |    |-- outputAnnotatorType: string (NAMED_ENTITY)\n",
            " |\n",
            " |-- NerConverterInternalModel\n",
            " |    |-- uid: string (NER_CONVERTER_aae905eabecd)\n",
            " |    |-- index: int (5)\n",
            " |    |-- inputCols: array (sentence, token, ner_oncology)\n",
            " |    |-- outputCol: string (ner_oncology_chunk)\n",
            " |    |-- inputAnnotatorTypes: array (DOCUMENT, TOKEN, NAMED_ENTITY)\n",
            " |    |-- outputAnnotatorType: string (CHUNK)\n",
            " |\n",
            " |-- MedicalNerModel\n",
            " |    |-- uid: string (MedicalNerModel_f17b93cea1f2)\n",
            " |    |-- index: int (6)\n",
            " |    |-- inputCols: array (sentence, token, embeddings)\n",
            " |    |-- outputCol: string (ner_oncology_anatomy_general)\n",
            " |    |-- inputAnnotatorTypes: array (DOCUMENT, TOKEN, WORD_EMBEDDINGS)\n",
            " |    |-- outputAnnotatorType: string (NAMED_ENTITY)\n",
            " |\n",
            " |-- NerConverterInternalModel\n",
            " |    |-- uid: string (NER_CONVERTER_d853e04c2e01)\n",
            " |    |-- index: int (7)\n",
            " |    |-- inputCols: array (sentence, token, ner_oncology_anatomy_general)\n",
            " |    |-- outputCol: string (ner_oncology_anatomy_general_chunk)\n",
            " |    |-- inputAnnotatorTypes: array (DOCUMENT, TOKEN, NAMED_ENTITY)\n",
            " |    |-- outputAnnotatorType: string (CHUNK)\n",
            " |\n",
            " |-- MedicalNerModel\n",
            " |    |-- uid: string (MedicalNerModel_58233645f160)\n",
            " |    |-- index: int (8)\n",
            " |    |-- inputCols: array (sentence, token, embeddings)\n",
            " |    |-- outputCol: string (ner_oncology_response_to_treatment)\n",
            " |    |-- inputAnnotatorTypes: array (DOCUMENT, TOKEN, WORD_EMBEDDINGS)\n",
            " |    |-- outputAnnotatorType: string (NAMED_ENTITY)\n",
            " |\n",
            " |-- NerConverterInternalModel\n",
            " |    |-- uid: string (NER_CONVERTER_5ce93c414b8d)\n",
            " |    |-- index: int (9)\n",
            " |    |-- inputCols: array (sentence, token, ner_oncology_response_to_treatment)\n",
            " |    |-- outputCol: string (ner_oncology_response_to_treatment_chunk)\n",
            " |    |-- inputAnnotatorTypes: array (DOCUMENT, TOKEN, NAMED_ENTITY)\n",
            " |    |-- outputAnnotatorType: string (CHUNK)\n",
            " |\n",
            " |-- MedicalNerModel\n",
            " |    |-- uid: string (MedicalNerModel_185d3fbf617b)\n",
            " |    |-- index: int (10)\n",
            " |    |-- inputCols: array (sentence, token, embeddings)\n",
            " |    |-- outputCol: string (ner_oncology_unspecific_posology)\n",
            " |    |-- inputAnnotatorTypes: array (DOCUMENT, TOKEN, WORD_EMBEDDINGS)\n",
            " |    |-- outputAnnotatorType: string (NAMED_ENTITY)\n",
            " |\n",
            " |-- NerConverterInternalModel\n",
            " |    |-- uid: string (NER_CONVERTER_35d0a19d956d)\n",
            " |    |-- index: int (11)\n",
            " |    |-- inputCols: array (sentence, token, ner_oncology_unspecific_posology)\n",
            " |    |-- outputCol: string (ner_oncology_unspecific_posology_chunk)\n",
            " |    |-- inputAnnotatorTypes: array (DOCUMENT, TOKEN, NAMED_ENTITY)\n",
            " |    |-- outputAnnotatorType: string (CHUNK)\n",
            " |\n",
            " |-- MedicalNerModel\n",
            " |    |-- uid: string (MedicalNerModel_ceff3f64ab20)\n",
            " |    |-- index: int (12)\n",
            " |    |-- inputCols: array (sentence, token, embeddings)\n",
            " |    |-- outputCol: string (ner_oncology_tnm)\n",
            " |    |-- inputAnnotatorTypes: array (DOCUMENT, TOKEN, WORD_EMBEDDINGS)\n",
            " |    |-- outputAnnotatorType: string (NAMED_ENTITY)\n",
            " |\n",
            " |-- NerConverterInternalModel\n",
            " |    |-- uid: string (NER_CONVERTER_d9ff402a260b)\n",
            " |    |-- index: int (13)\n",
            " |    |-- inputCols: array (sentence, token, ner_oncology_tnm)\n",
            " |    |-- outputCol: string (ner_oncology_tnm_chunk)\n",
            " |    |-- inputAnnotatorTypes: array (DOCUMENT, TOKEN, NAMED_ENTITY)\n",
            " |    |-- outputAnnotatorType: string (CHUNK)\n",
            " |\n",
            " |-- MedicalNerModel\n",
            " |    |-- uid: string (MedicalNerModel_c89cbceb1028)\n",
            " |    |-- index: int (14)\n",
            " |    |-- inputCols: array (sentence, token, embeddings)\n",
            " |    |-- outputCol: string (ner_jsl)\n",
            " |    |-- inputAnnotatorTypes: array (DOCUMENT, TOKEN, WORD_EMBEDDINGS)\n",
            " |    |-- outputAnnotatorType: string (NAMED_ENTITY)\n",
            " |\n",
            " |-- NerConverterInternalModel\n",
            " |    |-- uid: string (NER_CONVERTER_585154374903)\n",
            " |    |-- index: int (15)\n",
            " |    |-- inputCols: array (sentence, token, ner_jsl)\n",
            " |    |-- outputCol: string (ner_jsl_chunk)\n",
            " |    |-- inputAnnotatorTypes: array (DOCUMENT, TOKEN, NAMED_ENTITY)\n",
            " |    |-- outputAnnotatorType: string (CHUNK)\n",
            " |\n",
            " |-- MedicalNerModel\n",
            " |    |-- uid: string (MedicalNerModel_d674613cb476)\n",
            " |    |-- index: int (16)\n",
            " |    |-- inputCols: array (sentence, token, embeddings)\n",
            " |    |-- outputCol: string (ner_posology)\n",
            " |    |-- inputAnnotatorTypes: array (DOCUMENT, TOKEN, WORD_EMBEDDINGS)\n",
            " |    |-- outputAnnotatorType: string (NAMED_ENTITY)\n",
            " |\n",
            " |-- NerConverterInternalModel\n",
            " |    |-- uid: string (NER_CONVERTER_ac2ba2b45e0f)\n",
            " |    |-- index: int (17)\n",
            " |    |-- inputCols: array (sentence, token, ner_posology)\n",
            " |    |-- outputCol: string (ner_posology_chunk)\n",
            " |    |-- inputAnnotatorTypes: array (DOCUMENT, TOKEN, NAMED_ENTITY)\n",
            " |    |-- outputAnnotatorType: string (CHUNK)\n",
            " |\n",
            " |-- ChunkMergeModel\n",
            " |    |-- uid: string (MERGE_7d48f150a747)\n",
            " |    |-- index: int (18)\n",
            " |    |-- inputCols: array (ner_oncology_chunk, ner_oncology_anatomy_general_chunk, ner_oncology_response_to_treatment_chunk, ner_oncology_unspecific_posology_chunk, ner_oncology_tnm_chunk, ner_jsl_chunk, ner_posology_chunk)\n",
            " |    |-- outputCol: string (merged_chunk)\n",
            " |    |-- inputAnnotatorType: string (CHUNK)\n",
            " |    |-- outputAnnotatorType: string (CHUNK)\n",
            " |\n",
            " |-- ChunkMergeModel\n",
            " |    |-- uid: string (MERGE_4b45f109726e)\n",
            " |    |-- index: int (19)\n",
            " |    |-- inputCols: array (ner_oncology_chunk, ner_oncology_anatomy_general_chunk, ner_oncology_response_to_treatment_chunk, ner_oncology_unspecific_posology_chunk, ner_oncology_tnm_chunk, ner_jsl_chunk, ner_posology_chunk)\n",
            " |    |-- outputCol: string (merged_chunk_for_assertion)\n",
            " |    |-- inputAnnotatorType: string (CHUNK)\n",
            " |    |-- outputAnnotatorType: string (CHUNK)\n",
            " |\n",
            " |-- AssertionDLModel\n",
            " |    |-- uid: string (ASSERTION_DL_8d77f383c928)\n",
            " |    |-- index: int (20)\n",
            " |    |-- inputCols: array (sentence, merged_chunk_for_assertion, embeddings)\n",
            " |    |-- outputCol: string (assertion)\n",
            " |    |-- inputAnnotatorTypes: array (DOCUMENT, CHUNK, WORD_EMBEDDINGS)\n",
            " |    |-- outputAnnotatorType: string (ASSERTION)\n",
            " |\n",
            " |-- PerceptronModel\n",
            " |    |-- uid: string (POS_6f55785005bf)\n",
            " |    |-- index: int (21)\n",
            " |    |-- inputCols: array (sentence, token)\n",
            " |    |-- outputCol: string (pos_tags)\n",
            " |    |-- inputAnnotatorTypes: array (TOKEN, DOCUMENT)\n",
            " |    |-- outputAnnotatorType: string (POS)\n",
            " |\n",
            " |-- DependencyParserModel\n",
            " |    |-- uid: string (dependency_e7755462ba78)\n",
            " |    |-- index: int (22)\n",
            " |    |-- inputCols: array (sentence, pos_tags, token)\n",
            " |    |-- outputCol: string (dependencies)\n",
            " |    |-- inputAnnotatorTypes: array (DOCUMENT, POS, TOKEN)\n",
            " |    |-- outputAnnotatorType: string (DEPENDENCY)\n",
            " |\n",
            " |-- RelationExtractionModel\n",
            " |    |-- uid: string (RelationExtractionModel_68ebe11369b6)\n",
            " |    |-- index: int (23)\n",
            " |    |-- inputCols: array (embeddings, pos_tags, merged_chunk, dependencies)\n",
            " |    |-- outputCol: string (re_oncology_granular_wip)\n",
            " |    |-- inputAnnotatorTypes: array (WORD_EMBEDDINGS, POS, CHUNK, DEPENDENCY)\n",
            " |    |-- outputAnnotatorType: string (CATEGORY)\n",
            " |\n",
            " |-- PosologyREModel\n",
            " |    |-- uid: string (PosologyREModel_9d8e740c3320)\n",
            " |    |-- index: int (24)\n",
            " |    |-- inputCols: array (embeddings, pos_tags, merged_chunk, dependencies)\n",
            " |    |-- outputCol: string (re_posology_granular)\n",
            " |    |-- inputAnnotatorType: array (WORD_EMBEDDINGS, POS, CHUNK, DEPENDENCY)\n",
            " |    |-- outputAnnotatorType: string (CATEGORY)\n",
            " |\n",
            " |-- AnnotationMerger\n",
            " |    |-- uid: string (AnnotationMerger_863b7903b093)\n",
            " |    |-- index: int (25)\n",
            " |    |-- inputCols: array (re_oncology_granular_wip, re_posology_granular)\n",
            " |    |-- outputCol: string (all_relations)\n",
            " |    |-- inputAnnotatorType: array (CATEGORY)\n",
            " |    |-- outputAnnotatorType: string (CATEGORY)\n",
            "\n"
          ]
        }
      ],
      "source": [
        "tracer.printPipelineSchema()"
      ]
    },
    {
      "cell_type": "markdown",
      "metadata": {
        "id": "idqlz6MkVtkb"
      },
      "source": [
        "### getPossibleEntities"
      ]
    },
    {
      "cell_type": "code",
      "execution_count": 9,
      "metadata": {
        "colab": {
          "base_uri": "https://localhost:8080/"
        },
        "id": "aVseQVSy_gfZ",
        "outputId": "452579a8-e0a8-4825-e7be-e50ce1b087e8"
      },
      "outputs": [
        {
          "data": {
            "text/plain": [
              "['Cycle_Number',\n",
              " 'Direction',\n",
              " 'Histological_Type',\n",
              " 'Biomarker_Result',\n",
              " 'Site_Other_Body_Part',\n",
              " 'Hormonal_Therapy',\n",
              " 'Death_Entity',\n",
              " 'Targeted_Therapy',\n",
              " 'Route',\n",
              " 'Tumor_Finding',\n",
              " 'Duration',\n",
              " 'Pathology_Result',\n",
              " 'Chemotherapy',\n",
              " 'Date',\n",
              " 'Radiotherapy',\n",
              " 'Radiation_Dose',\n",
              " 'Oncogene',\n",
              " 'Cancer_Surgery',\n",
              " 'Tumor_Size',\n",
              " 'Staging',\n",
              " 'Pathology_Test',\n",
              " 'Cancer_Dx',\n",
              " 'Age',\n",
              " 'Site_Lung',\n",
              " 'Site_Breast',\n",
              " 'Site_Liver',\n",
              " 'Site_Lymph_Node',\n",
              " 'Response_To_Treatment',\n",
              " 'Site_Brain',\n",
              " 'Immunotherapy',\n",
              " 'Race_Ethnicity',\n",
              " 'Metastasis',\n",
              " 'Smoking_Status',\n",
              " 'Imaging_Test',\n",
              " 'Relative_Date',\n",
              " 'Line_Of_Therapy',\n",
              " 'Unspecific_Therapy',\n",
              " 'Site_Bone',\n",
              " 'Gender',\n",
              " 'Cycle_Count',\n",
              " 'Cancer_Score',\n",
              " 'Adenopathy',\n",
              " 'Grade',\n",
              " 'Biomarker',\n",
              " 'Invasion',\n",
              " 'Frequency',\n",
              " 'Performance_Status',\n",
              " 'Dosage',\n",
              " 'Cycle_Day',\n",
              " 'Anatomical_Site',\n",
              " 'Size_Trend',\n",
              " 'Posology_Information',\n",
              " 'Cancer_Therapy',\n",
              " 'Lymph_Node',\n",
              " 'Tumor_Description',\n",
              " 'Lymph_Node_Modifier',\n",
              " 'Alcohol',\n",
              " 'BMI',\n",
              " 'Communicable_Disease',\n",
              " 'Obesity',\n",
              " 'Oncological',\n",
              " 'Diabetes',\n",
              " 'Weight',\n",
              " 'Overweight']"
            ]
          },
          "execution_count": 9,
          "metadata": {},
          "output_type": "execute_result"
        }
      ],
      "source": [
        "tracer.getPossibleEntities()"
      ]
    },
    {
      "cell_type": "markdown",
      "metadata": {
        "id": "9-fBd8IWWHOj"
      },
      "source": [
        "### getPossibleAssertions"
      ]
    },
    {
      "cell_type": "code",
      "execution_count": 10,
      "metadata": {
        "colab": {
          "base_uri": "https://localhost:8080/"
        },
        "id": "5cJE86EWBBAd",
        "outputId": "25e287a7-f6f1-4ece-96c9-134b7fb4ed4e"
      },
      "outputs": [
        {
          "data": {
            "text/plain": [
              "['Past', 'Family', 'Absent', 'Hypothetical', 'Possible', 'Present']"
            ]
          },
          "execution_count": 10,
          "metadata": {},
          "output_type": "execute_result"
        }
      ],
      "source": [
        "tracer.getPossibleAssertions()"
      ]
    },
    {
      "cell_type": "markdown",
      "metadata": {
        "id": "sM3cobaQWQFZ"
      },
      "source": [
        "### getPossibleRelations"
      ]
    },
    {
      "cell_type": "code",
      "execution_count": 11,
      "metadata": {
        "colab": {
          "base_uri": "https://localhost:8080/"
        },
        "id": "0P4BfPNxBFR9",
        "outputId": "cc45190e-ae97-4486-c538-8e93cbf5debb"
      },
      "outputs": [
        {
          "data": {
            "text/plain": [
              "['is_size_of', 'is_date_of', 'is_location_of', 'is_finding_of']"
            ]
          },
          "execution_count": 11,
          "metadata": {},
          "output_type": "execute_result"
        }
      ],
      "source": [
        "tracer.getPossibleRelations()"
      ]
    },
    {
      "cell_type": "markdown",
      "metadata": {
        "id": "htyBZE7mV0wC"
      },
      "source": [
        "### getPipelineStages"
      ]
    },
    {
      "cell_type": "code",
      "execution_count": 12,
      "metadata": {
        "colab": {
          "base_uri": "https://localhost:8080/"
        },
        "id": "_oFkBGcZBMLx",
        "outputId": "c7000260-a844-4203-db57-34e3ad1cb9e5"
      },
      "outputs": [
        {
          "name": "stdout",
          "output_type": "stream",
          "text": [
            "{'uid': 'DocumentAssembler_27a75510357d', 'name': 'DocumentAssembler', 'index': 0, 'inputCol': StageField(inputCol, text, string), 'outputCol': StageField(outputCol, document, string), 'inputAnnotatorType': StageField(inputAnnotatorType, ----------, none), 'outputAnnotatorType': StageField(outputAnnotatorType, document, string)}\n",
            "{'uid': 'SentenceDetectorDLModel_6bafc4746ea5', 'name': 'SentenceDetectorDLModel', 'index': 1, 'inputCol': StageField(inputCols, [document], array), 'outputCol': StageField(outputCol, sentence, string), 'inputAnnotatorType': StageField(inputAnnotatorTypes, [document], array), 'outputAnnotatorType': StageField(outputAnnotatorType, document, string)}\n",
            "{'uid': 'REGEX_TOKENIZER_6e5cf9a1fd71', 'name': 'TokenizerModel', 'index': 2, 'inputCol': StageField(inputCols, [sentence], array), 'outputCol': StageField(outputCol, token, string), 'inputAnnotatorType': StageField(inputAnnotatorTypes, [document], array), 'outputAnnotatorType': StageField(outputAnnotatorType, token, string)}\n",
            "{'uid': 'WORD_EMBEDDINGS_MODEL_9004b1d00302', 'name': 'WordEmbeddingsModel', 'index': 3, 'inputCol': StageField(inputCols, [sentence, token], array), 'outputCol': StageField(outputCol, embeddings, string), 'inputAnnotatorType': StageField(inputAnnotatorTypes, [document, token], array), 'outputAnnotatorType': StageField(outputAnnotatorType, word_embeddings, string)}\n",
            "{'uid': 'MedicalNerModel_8c59079bd37d', 'name': 'MedicalNerModel', 'index': 4, 'inputCol': StageField(inputCols, [sentence, token, embeddings], array), 'outputCol': StageField(outputCol, ner_oncology, string), 'inputAnnotatorType': StageField(inputAnnotatorTypes, [document, token, word_embeddings], array), 'outputAnnotatorType': StageField(outputAnnotatorType, named_entity, string)}\n",
            "{'uid': 'NER_CONVERTER_aae905eabecd', 'name': 'NerConverterInternalModel', 'index': 5, 'inputCol': StageField(inputCols, [sentence, token, ner_oncology], array), 'outputCol': StageField(outputCol, ner_oncology_chunk, string), 'inputAnnotatorType': StageField(inputAnnotatorTypes, [document, token, named_entity], array), 'outputAnnotatorType': StageField(outputAnnotatorType, chunk, string)}\n",
            "{'uid': 'MedicalNerModel_f17b93cea1f2', 'name': 'MedicalNerModel', 'index': 6, 'inputCol': StageField(inputCols, [sentence, token, embeddings], array), 'outputCol': StageField(outputCol, ner_oncology_anatomy_general, string), 'inputAnnotatorType': StageField(inputAnnotatorTypes, [document, token, word_embeddings], array), 'outputAnnotatorType': StageField(outputAnnotatorType, named_entity, string)}\n",
            "{'uid': 'NER_CONVERTER_d853e04c2e01', 'name': 'NerConverterInternalModel', 'index': 7, 'inputCol': StageField(inputCols, [sentence, token, ner_oncology_anatomy_general], array), 'outputCol': StageField(outputCol, ner_oncology_anatomy_general_chunk, string), 'inputAnnotatorType': StageField(inputAnnotatorTypes, [document, token, named_entity], array), 'outputAnnotatorType': StageField(outputAnnotatorType, chunk, string)}\n",
            "{'uid': 'MedicalNerModel_58233645f160', 'name': 'MedicalNerModel', 'index': 8, 'inputCol': StageField(inputCols, [sentence, token, embeddings], array), 'outputCol': StageField(outputCol, ner_oncology_response_to_treatment, string), 'inputAnnotatorType': StageField(inputAnnotatorTypes, [document, token, word_embeddings], array), 'outputAnnotatorType': StageField(outputAnnotatorType, named_entity, string)}\n",
            "{'uid': 'NER_CONVERTER_5ce93c414b8d', 'name': 'NerConverterInternalModel', 'index': 9, 'inputCol': StageField(inputCols, [sentence, token, ner_oncology_response_to_treatment], array), 'outputCol': StageField(outputCol, ner_oncology_response_to_treatment_chunk, string), 'inputAnnotatorType': StageField(inputAnnotatorTypes, [document, token, named_entity], array), 'outputAnnotatorType': StageField(outputAnnotatorType, chunk, string)}\n",
            "{'uid': 'MedicalNerModel_185d3fbf617b', 'name': 'MedicalNerModel', 'index': 10, 'inputCol': StageField(inputCols, [sentence, token, embeddings], array), 'outputCol': StageField(outputCol, ner_oncology_unspecific_posology, string), 'inputAnnotatorType': StageField(inputAnnotatorTypes, [document, token, word_embeddings], array), 'outputAnnotatorType': StageField(outputAnnotatorType, named_entity, string)}\n",
            "{'uid': 'NER_CONVERTER_35d0a19d956d', 'name': 'NerConverterInternalModel', 'index': 11, 'inputCol': StageField(inputCols, [sentence, token, ner_oncology_unspecific_posology], array), 'outputCol': StageField(outputCol, ner_oncology_unspecific_posology_chunk, string), 'inputAnnotatorType': StageField(inputAnnotatorTypes, [document, token, named_entity], array), 'outputAnnotatorType': StageField(outputAnnotatorType, chunk, string)}\n",
            "{'uid': 'MedicalNerModel_ceff3f64ab20', 'name': 'MedicalNerModel', 'index': 12, 'inputCol': StageField(inputCols, [sentence, token, embeddings], array), 'outputCol': StageField(outputCol, ner_oncology_tnm, string), 'inputAnnotatorType': StageField(inputAnnotatorTypes, [document, token, word_embeddings], array), 'outputAnnotatorType': StageField(outputAnnotatorType, named_entity, string)}\n",
            "{'uid': 'NER_CONVERTER_d9ff402a260b', 'name': 'NerConverterInternalModel', 'index': 13, 'inputCol': StageField(inputCols, [sentence, token, ner_oncology_tnm], array), 'outputCol': StageField(outputCol, ner_oncology_tnm_chunk, string), 'inputAnnotatorType': StageField(inputAnnotatorTypes, [document, token, named_entity], array), 'outputAnnotatorType': StageField(outputAnnotatorType, chunk, string)}\n",
            "{'uid': 'MedicalNerModel_c89cbceb1028', 'name': 'MedicalNerModel', 'index': 14, 'inputCol': StageField(inputCols, [sentence, token, embeddings], array), 'outputCol': StageField(outputCol, ner_jsl, string), 'inputAnnotatorType': StageField(inputAnnotatorTypes, [document, token, word_embeddings], array), 'outputAnnotatorType': StageField(outputAnnotatorType, named_entity, string)}\n",
            "{'uid': 'NER_CONVERTER_585154374903', 'name': 'NerConverterInternalModel', 'index': 15, 'inputCol': StageField(inputCols, [sentence, token, ner_jsl], array), 'outputCol': StageField(outputCol, ner_jsl_chunk, string), 'inputAnnotatorType': StageField(inputAnnotatorTypes, [document, token, named_entity], array), 'outputAnnotatorType': StageField(outputAnnotatorType, chunk, string)}\n",
            "{'uid': 'MedicalNerModel_d674613cb476', 'name': 'MedicalNerModel', 'index': 16, 'inputCol': StageField(inputCols, [sentence, token, embeddings], array), 'outputCol': StageField(outputCol, ner_posology, string), 'inputAnnotatorType': StageField(inputAnnotatorTypes, [document, token, word_embeddings], array), 'outputAnnotatorType': StageField(outputAnnotatorType, named_entity, string)}\n",
            "{'uid': 'NER_CONVERTER_ac2ba2b45e0f', 'name': 'NerConverterInternalModel', 'index': 17, 'inputCol': StageField(inputCols, [sentence, token, ner_posology], array), 'outputCol': StageField(outputCol, ner_posology_chunk, string), 'inputAnnotatorType': StageField(inputAnnotatorTypes, [document, token, named_entity], array), 'outputAnnotatorType': StageField(outputAnnotatorType, chunk, string)}\n",
            "{'uid': 'MERGE_7d48f150a747', 'name': 'ChunkMergeModel', 'index': 18, 'inputCol': StageField(inputCols, [ner_oncology_chunk, ner_oncology_anatomy_general_chunk, ner_oncology_response_to_treatment_chunk, ner_oncology_unspecific_posology_chunk, ner_oncology_tnm_chunk, ner_jsl_chunk, ner_posology_chunk], array), 'outputCol': StageField(outputCol, merged_chunk, string), 'inputAnnotatorType': StageField(inputAnnotatorType, chunk, string), 'outputAnnotatorType': StageField(outputAnnotatorType, chunk, string)}\n",
            "{'uid': 'MERGE_4b45f109726e', 'name': 'ChunkMergeModel', 'index': 19, 'inputCol': StageField(inputCols, [ner_oncology_chunk, ner_oncology_anatomy_general_chunk, ner_oncology_response_to_treatment_chunk, ner_oncology_unspecific_posology_chunk, ner_oncology_tnm_chunk, ner_jsl_chunk, ner_posology_chunk], array), 'outputCol': StageField(outputCol, merged_chunk_for_assertion, string), 'inputAnnotatorType': StageField(inputAnnotatorType, chunk, string), 'outputAnnotatorType': StageField(outputAnnotatorType, chunk, string)}\n",
            "{'uid': 'ASSERTION_DL_8d77f383c928', 'name': 'AssertionDLModel', 'index': 20, 'inputCol': StageField(inputCols, [sentence, merged_chunk_for_assertion, embeddings], array), 'outputCol': StageField(outputCol, assertion, string), 'inputAnnotatorType': StageField(inputAnnotatorTypes, [document, chunk, word_embeddings], array), 'outputAnnotatorType': StageField(outputAnnotatorType, assertion, string)}\n",
            "{'uid': 'POS_6f55785005bf', 'name': 'PerceptronModel', 'index': 21, 'inputCol': StageField(inputCols, [sentence, token], array), 'outputCol': StageField(outputCol, pos_tags, string), 'inputAnnotatorType': StageField(inputAnnotatorTypes, [token, document], array), 'outputAnnotatorType': StageField(outputAnnotatorType, pos, string)}\n",
            "{'uid': 'dependency_e7755462ba78', 'name': 'DependencyParserModel', 'index': 22, 'inputCol': StageField(inputCols, [sentence, pos_tags, token], array), 'outputCol': StageField(outputCol, dependencies, string), 'inputAnnotatorType': StageField(inputAnnotatorTypes, [document, pos, token], array), 'outputAnnotatorType': StageField(outputAnnotatorType, dependency, string)}\n",
            "{'uid': 'RelationExtractionModel_68ebe11369b6', 'name': 'RelationExtractionModel', 'index': 23, 'inputCol': StageField(inputCols, [embeddings, pos_tags, merged_chunk, dependencies], array), 'outputCol': StageField(outputCol, re_oncology_granular_wip, string), 'inputAnnotatorType': StageField(inputAnnotatorTypes, [word_embeddings, pos, chunk, dependency], array), 'outputAnnotatorType': StageField(outputAnnotatorType, category, string)}\n",
            "{'uid': 'PosologyREModel_9d8e740c3320', 'name': 'PosologyREModel', 'index': 24, 'inputCol': StageField(inputCols, [embeddings, pos_tags, merged_chunk, dependencies], array), 'outputCol': StageField(outputCol, re_posology_granular, string), 'inputAnnotatorType': StageField(inputAnnotatorType, [word_embeddings, pos, chunk, dependency], array), 'outputAnnotatorType': StageField(outputAnnotatorType, category, string)}\n",
            "{'uid': 'AnnotationMerger_863b7903b093', 'name': 'AnnotationMerger', 'index': 25, 'inputCol': StageField(inputCols, [re_oncology_granular_wip, re_posology_granular], array), 'outputCol': StageField(outputCol, all_relations, string), 'inputAnnotatorType': StageField(inputAnnotatorType, [category], array), 'outputAnnotatorType': StageField(outputAnnotatorType, category, string)}\n"
          ]
        }
      ],
      "source": [
        "stages = tracer.getPipelineStages()\n",
        "for stage in stages:\n",
        "    print(stage.__dict__())"
      ]
    },
    {
      "cell_type": "markdown",
      "metadata": {
        "id": "gUWRBq45B-mS"
      },
      "source": [
        "## with Custom Pipeline\n",
        "\n",
        "\n"
      ]
    },
    {
      "cell_type": "code",
      "execution_count": 13,
      "metadata": {
        "colab": {
          "base_uri": "https://localhost:8080/"
        },
        "id": "aa8cXy6vBme8",
        "outputId": "ae884973-6676-4f0b-ff57-b747107bc3e0"
      },
      "outputs": [
        {
          "name": "stdout",
          "output_type": "stream",
          "text": [
            "embeddings_clinical download started this may take some time.\n",
            "Approximate size to download 1.6 GB\n",
            "[OK!]\n",
            "ner_clinical download started this may take some time.\n",
            "[OK!]\n",
            "assertion_dl_large download started this may take some time.\n",
            "[OK!]\n"
          ]
        }
      ],
      "source": [
        "document_assembler = nlp.DocumentAssembler() \\\n",
        "    .setInputCol(\"text\") \\\n",
        "    .setOutputCol(\"document\")\n",
        "\n",
        "sentence_detector = nlp.SentenceDetector() \\\n",
        "    .setInputCols([\"document\"]) \\\n",
        "    .setOutputCol(\"sentence\")\n",
        "\n",
        "tokenizer = nlp.Tokenizer() \\\n",
        "    .setInputCols([\"sentence\"]) \\\n",
        "    .setOutputCol(\"token\")\n",
        "\n",
        "word_embeddings = nlp.WordEmbeddingsModel \\\n",
        "    .pretrained(\"embeddings_clinical\", \"en\", \"clinical/models\") \\\n",
        "    .setInputCols([\"sentence\", \"token\"]) \\\n",
        "    .setOutputCol(\"embeddings\")\n",
        "\n",
        "clinical_ner = medical.NerModel \\\n",
        "    .pretrained(\"ner_clinical\", \"en\", \"clinical/models\") \\\n",
        "    .setInputCols([\"sentence\", \"token\", \"embeddings\"]) \\\n",
        "    .setOutputCol(\"ner\")\n",
        "\n",
        "ner_converter = medical.NerConverterInternal() \\\n",
        "    .setInputCols([\"sentence\", \"token\", \"ner\"]) \\\n",
        "    .setOutputCol(\"ner_chunk\") \\\n",
        "    .setWhiteList([\"TREATMENT\", \"PROBLEM\"])\n",
        "\n",
        "clinical_assertion = medical.AssertionDLModel \\\n",
        "    .pretrained(\"assertion_dl_large\", \"en\", \"clinical/models\") \\\n",
        "    .setInputCols([\"sentence\", \"ner_chunk\", \"embeddings\"]) \\\n",
        "    .setOutputCol(\"assertion\") \\\n",
        "    .setIncludeConfidence(True) \\\n",
        "    .setEntityAssertionCaseSensitive(False) \\\n",
        "    .setEntityAssertion({\"treAtment\": [\"present\"]}) \\\n",
        "    .setReplaceLabels({\"PRESENT\": \"available\", \"absent\": \"none\", \"Conditional\": \"Optional\"})\n",
        "\n",
        "pipeline = nlp.Pipeline(stages=[\n",
        "    document_assembler,\n",
        "    sentence_detector,\n",
        "    tokenizer,\n",
        "    word_embeddings,\n",
        "    clinical_ner,\n",
        "    ner_converter,\n",
        "    clinical_assertion])\n",
        "\n",
        "model = pipeline.fit(spark.createDataFrame([[\"\"]]).toDF(\"text\"))"
      ]
    },
    {
      "cell_type": "code",
      "execution_count": 14,
      "metadata": {
        "colab": {
          "base_uri": "https://localhost:8080/"
        },
        "id": "o6t-WaGsCX99",
        "outputId": "d239d4f3-d648-4186-f5af-b54a2a66ed54"
      },
      "outputs": [
        {
          "data": {
            "text/plain": [
              "{'document_identifier': '',\n",
              " 'document_text': 'document',\n",
              " 'entities': [{'ner_chunk_column_name': 'ner_chunk',\n",
              "   'assertion_column_name': '',\n",
              "   'resolver_column_name': ''},\n",
              "  {'ner_chunk_column_name': 'ner_chunk',\n",
              "   'assertion_column_name': 'assertion',\n",
              "   'resolver_column_name': ''}],\n",
              " 'relations': [],\n",
              " 'summaries': [],\n",
              " 'deidentifications': [],\n",
              " 'classifications': []}"
            ]
          },
          "execution_count": 14,
          "metadata": {},
          "output_type": "execute_result"
        }
      ],
      "source": [
        "tracer = PipelineTracer(model)\n",
        "tracer.createParserDictionary()"
      ]
    },
    {
      "cell_type": "code",
      "execution_count": 15,
      "metadata": {
        "colab": {
          "base_uri": "https://localhost:8080/"
        },
        "id": "bNmybsbuCgah",
        "outputId": "9cf33d04-474a-47da-9dd0-a0b2c7d7849c"
      },
      "outputs": [
        {
          "data": {
            "text/plain": [
              "['available',\n",
              " 'none',\n",
              " 'hypothetical',\n",
              " 'possible',\n",
              " 'Optional',\n",
              " 'associated_with_someone_else']"
            ]
          },
          "execution_count": 15,
          "metadata": {},
          "output_type": "execute_result"
        }
      ],
      "source": [
        "tracer.getPossibleAssertions()"
      ]
    },
    {
      "cell_type": "code",
      "execution_count": 16,
      "metadata": {
        "colab": {
          "base_uri": "https://localhost:8080/"
        },
        "id": "ewQkpTIQClMJ",
        "outputId": "d9e8888e-e86f-48fd-b60b-3f8c18eafc54"
      },
      "outputs": [
        {
          "data": {
            "text/plain": [
              "['TREATMENT', 'PROBLEM']"
            ]
          },
          "execution_count": 16,
          "metadata": {},
          "output_type": "execute_result"
        }
      ],
      "source": [
        "tracer.getPossibleEntities()"
      ]
    },
    {
      "cell_type": "code",
      "execution_count": 17,
      "metadata": {
        "colab": {
          "base_uri": "https://localhost:8080/"
        },
        "id": "A4yYZLb5CpLm",
        "outputId": "e7396f50-3052-41f8-916f-c6a36623dca4"
      },
      "outputs": [
        {
          "name": "stdout",
          "output_type": "stream",
          "text": [
            "root\n",
            " |-- DocumentAssembler\n",
            " |    |-- uid: string (DocumentAssembler_8fef027a48c6)\n",
            " |    |-- index: int (0)\n",
            " |    |-- inputCol: string (text)\n",
            " |    |-- outputCol: string (document)\n",
            " |    |-- inputAnnotatorType: none (----------)\n",
            " |    |-- outputAnnotatorType: string (DOCUMENT)\n",
            " |\n",
            " |-- SentenceDetector\n",
            " |    |-- uid: string (SentenceDetector_c6388281d469)\n",
            " |    |-- index: int (1)\n",
            " |    |-- inputCols: array (document)\n",
            " |    |-- outputCol: string (sentence)\n",
            " |    |-- inputAnnotatorTypes: array (DOCUMENT)\n",
            " |    |-- outputAnnotatorType: string (DOCUMENT)\n",
            " |\n",
            " |-- TokenizerModel\n",
            " |    |-- uid: string (REGEX_TOKENIZER_b9aecbb19f1a)\n",
            " |    |-- index: int (2)\n",
            " |    |-- inputCols: array (sentence)\n",
            " |    |-- outputCol: string (token)\n",
            " |    |-- inputAnnotatorTypes: array (DOCUMENT)\n",
            " |    |-- outputAnnotatorType: string (TOKEN)\n",
            " |\n",
            " |-- WordEmbeddingsModel\n",
            " |    |-- uid: string (WORD_EMBEDDINGS_MODEL_9004b1d00302)\n",
            " |    |-- index: int (3)\n",
            " |    |-- inputCols: array (sentence, token)\n",
            " |    |-- outputCol: string (embeddings)\n",
            " |    |-- inputAnnotatorTypes: array (DOCUMENT, TOKEN)\n",
            " |    |-- outputAnnotatorType: string (WORD_EMBEDDINGS)\n",
            " |\n",
            " |-- MedicalNerModel\n",
            " |    |-- uid: string (MedicalNerModel_cd5ce67b529f)\n",
            " |    |-- index: int (4)\n",
            " |    |-- inputCols: array (sentence, token, embeddings)\n",
            " |    |-- outputCol: string (ner)\n",
            " |    |-- inputAnnotatorTypes: array (DOCUMENT, TOKEN, WORD_EMBEDDINGS)\n",
            " |    |-- outputAnnotatorType: string (NAMED_ENTITY)\n",
            " |\n",
            " |-- NerConverterInternalModel\n",
            " |    |-- uid: string (NER_CONVERTER_033f8c087d27)\n",
            " |    |-- index: int (5)\n",
            " |    |-- inputCols: array (sentence, token, ner)\n",
            " |    |-- outputCol: string (ner_chunk)\n",
            " |    |-- inputAnnotatorTypes: array (DOCUMENT, TOKEN, NAMED_ENTITY)\n",
            " |    |-- outputAnnotatorType: string (CHUNK)\n",
            " |\n",
            " |-- AssertionDLModel\n",
            " |    |-- uid: string (ASSERTION_DL_74c9bae2d9f5)\n",
            " |    |-- index: int (6)\n",
            " |    |-- inputCols: array (sentence, ner_chunk, embeddings)\n",
            " |    |-- outputCol: string (assertion)\n",
            " |    |-- inputAnnotatorTypes: array (DOCUMENT, CHUNK, WORD_EMBEDDINGS)\n",
            " |    |-- outputAnnotatorType: string (ASSERTION)\n",
            "\n"
          ]
        }
      ],
      "source": [
        "tracer.printPipelineSchema()"
      ]
    },
    {
      "cell_type": "markdown",
      "metadata": {
        "id": "LtArYD0fsKVj"
      },
      "source": [
        "# PipelineOutputParser\n",
        "\n",
        "The output parser module seamlessly integrates with existing systems to return clear, easy-to-read & process prettified results in dictionary format from pretrained pipelines. It is designed to enhance API integration, and user understanding and streamline data analysis workflows."
      ]
    },
    {
      "cell_type": "markdown",
      "metadata": {
        "id": "M4X5gs5TqI4e"
      },
      "source": [
        "## clinical_deidentification"
      ]
    },
    {
      "cell_type": "code",
      "execution_count": 18,
      "metadata": {
        "colab": {
          "base_uri": "https://localhost:8080/"
        },
        "id": "8XrNv5hxkPwd",
        "outputId": "2f00ae84-911f-4777-ed9a-01e8d95c9e38"
      },
      "outputs": [
        {
          "name": "stdout",
          "output_type": "stream",
          "text": [
            "clinical_deidentification download started this may take some time.\n",
            "Approx size to download 1.6 GB\n",
            "[OK!]\n"
          ]
        }
      ],
      "source": [
        "pretrained_pipeline = nlp.PretrainedPipeline(\"clinical_deidentification\", \"en\", \"clinical/models\")\n",
        "\n",
        "text = [\n",
        "    '''Record date : 2093-01-13 , David Hale , M.D . , Name : Hendrickson Ora , MR # 7194334 Date : 01/13/93 . PCP : Oliveira , 25 years-old , Record date : 2079-11-09 . Cocke County Baptist Hospital , 0295 Keats Street , Phone 55-555-5555 .''',\n",
        "    \"\"\"Record date: 2093-01-13, David Hale, M.D., Name: Hendrickson, Ora MR. # 7194334 Date: 01/13/93 PCP: Oliveira, 25 years old, Record date: 1-11-2000. Cocke County Baptist Hospital. 0295 Keats Street. Phone +1 (302) 786-5227. The patient's complaints first surfaced when he started working for Brothers Coal-Mine.\"\"\",\n",
        "]\n",
        "\n",
        "results = pretrained_pipeline.fullAnnotate(text)\n"
      ]
    },
    {
      "cell_type": "code",
      "execution_count": 19,
      "metadata": {
        "colab": {
          "base_uri": "https://localhost:8080/"
        },
        "id": "3h3HS0P6lHs_",
        "outputId": "8a6033e7-379a-407e-bb46-1a48b7331944"
      },
      "outputs": [
        {
          "data": {
            "text/plain": [
              "{'document_identifier': 'clinical_deidentification',\n",
              " 'document_text': 'sentence',\n",
              " 'entities': [{'ner_chunk_column_name': 'ner_chunk',\n",
              "   'assertion_column_name': '',\n",
              "   'resolver_column_name': ''}],\n",
              " 'relations': [],\n",
              " 'summaries': [],\n",
              " 'deidentifications': [{'original': 'sentence',\n",
              "   'obfuscated': 'obfuscated',\n",
              "   'masked': ''}],\n",
              " 'classifications': []}"
            ]
          },
          "execution_count": 19,
          "metadata": {},
          "output_type": "execute_result"
        }
      ],
      "source": [
        "pipeline_tracer = PipelineTracer(pretrained_pipeline)\n",
        "\n",
        "column_maps = pipeline_tracer.createParserDictionary()\n",
        "column_maps.update({\"document_identifier\": \"clinical_deidentification\"})\n",
        "column_maps"
      ]
    },
    {
      "cell_type": "code",
      "execution_count": 20,
      "metadata": {
        "colab": {
          "base_uri": "https://localhost:8080/"
        },
        "id": "iJ52opzmnIr-",
        "outputId": "2565e75f-4229-40b3-8f14-03b3918e08cd"
      },
      "outputs": [
        {
          "data": {
            "text/plain": [
              "{'document_identifier': 'clinical_deidentification',\n",
              " 'document_text': 'sentence',\n",
              " 'entities': [{'ner_chunk_column_name': 'ner_chunk',\n",
              "   'assertion_column_name': '',\n",
              "   'resolver_column_name': ''}],\n",
              " 'relations': [],\n",
              " 'summaries': [],\n",
              " 'deidentifications': [{'original': 'sentence',\n",
              "   'obfuscated': 'obfuscated',\n",
              "   'masked': ''}],\n",
              " 'classifications': []}"
            ]
          },
          "execution_count": 20,
          "metadata": {},
          "output_type": "execute_result"
        }
      ],
      "source": [
        "columns_directly = PipelineTracer.getParserDictDirectly(\"clinical_deidentification\", \"en\", \"clinical/models\")\n",
        "columns_directly"
      ]
    },
    {
      "cell_type": "code",
      "execution_count": 21,
      "metadata": {
        "colab": {
          "base_uri": "https://localhost:8080/"
        },
        "id": "I5amkqaxoCW8",
        "outputId": "9b6057b4-d839-4b11-d80d-c362cf3b3aed"
      },
      "outputs": [
        {
          "data": {
            "text/plain": [
              "{'result': [{'document_identifier': 'clinical_deidentification',\n",
              "   'document_text': ['Record date : 2093-01-13 , David Hale , M.D . , Name : Hendrickson Ora , MR # 7194334 Date : 01/13/93 .',\n",
              "    'PCP : Oliveira , 25 years-old , Record date : 2079-11-09 .',\n",
              "    'Cocke County Baptist Hospital , 0295 Keats Street , Phone 55-555-5555 .'],\n",
              "   'entities': [[{'chunk_id': '0',\n",
              "      'begin': 14,\n",
              "      'end': 23,\n",
              "      'chunk': '2093-01-13',\n",
              "      'label': 'DATE',\n",
              "      'assertion': None,\n",
              "      'term_code': None},\n",
              "     {'chunk_id': '1',\n",
              "      'begin': 27,\n",
              "      'end': 36,\n",
              "      'chunk': 'David Hale',\n",
              "      'label': 'DOCTOR',\n",
              "      'assertion': None,\n",
              "      'term_code': None},\n",
              "     {'chunk_id': '2',\n",
              "      'begin': 55,\n",
              "      'end': 69,\n",
              "      'chunk': 'Hendrickson Ora',\n",
              "      'label': 'PATIENT',\n",
              "      'assertion': None,\n",
              "      'term_code': None},\n",
              "     {'chunk_id': '3',\n",
              "      'begin': 78,\n",
              "      'end': 84,\n",
              "      'chunk': '7194334',\n",
              "      'label': 'MEDICALRECORD',\n",
              "      'assertion': None,\n",
              "      'term_code': None},\n",
              "     {'chunk_id': '4',\n",
              "      'begin': 93,\n",
              "      'end': 100,\n",
              "      'chunk': '01/13/93',\n",
              "      'label': 'DATE',\n",
              "      'assertion': None,\n",
              "      'term_code': None},\n",
              "     {'chunk_id': '5',\n",
              "      'begin': 110,\n",
              "      'end': 117,\n",
              "      'chunk': 'Oliveira',\n",
              "      'label': 'DOCTOR',\n",
              "      'assertion': None,\n",
              "      'term_code': None},\n",
              "     {'chunk_id': '6',\n",
              "      'begin': 121,\n",
              "      'end': 122,\n",
              "      'chunk': '25',\n",
              "      'label': 'AGE',\n",
              "      'assertion': None,\n",
              "      'term_code': None},\n",
              "     {'chunk_id': '7',\n",
              "      'begin': 150,\n",
              "      'end': 159,\n",
              "      'chunk': '2079-11-09',\n",
              "      'label': 'DATE',\n",
              "      'assertion': None,\n",
              "      'term_code': None},\n",
              "     {'chunk_id': '8',\n",
              "      'begin': 163,\n",
              "      'end': 191,\n",
              "      'chunk': 'Cocke County Baptist Hospital',\n",
              "      'label': 'HOSPITAL',\n",
              "      'assertion': None,\n",
              "      'term_code': None},\n",
              "     {'chunk_id': '9',\n",
              "      'begin': 195,\n",
              "      'end': 211,\n",
              "      'chunk': '0295 Keats Street',\n",
              "      'label': 'STREET',\n",
              "      'assertion': None,\n",
              "      'term_code': None},\n",
              "     {'chunk_id': '10',\n",
              "      'begin': 221,\n",
              "      'end': 231,\n",
              "      'chunk': '55-555-5555',\n",
              "      'label': 'PHONE',\n",
              "      'assertion': None,\n",
              "      'term_code': None}]],\n",
              "   'relations': [],\n",
              "   'summaries': [],\n",
              "   'deidentifications': [{'original': ['Record date : 2093-01-13 , David Hale , M.D . , Name : Hendrickson Ora , MR # 7194334 Date : 01/13/93 .',\n",
              "      'PCP : Oliveira , 25 years-old , Record date : 2079-11-09 .',\n",
              "      'Cocke County Baptist Hospital , 0295 Keats Street , Phone 55-555-5555 .'],\n",
              "     'obfuscated': ['Record date : 2093-02-16 , Simon Dubin , M.D . , Name : Arlon Bergamo , MR # 1090081 Date : 02/16/93 .',\n",
              "      'PCP : Cheryn Coss , 21 years-old , Record date : 2079-12-13 .',\n",
              "      'AVERA HEART HOSPITAL OF SOUTH DAKOTA , 800 Share Drive , Phone 13-086-5784 .'],\n",
              "     'masked': []}],\n",
              "   'classifications': []},\n",
              "  {'document_identifier': 'clinical_deidentification',\n",
              "   'document_text': ['Record date: 2093-01-13, David Hale, M.D., Name: Hendrickson, Ora MR.',\n",
              "    '# 7194334 Date: 01/13/93 PCP: Oliveira, 25 years old, Record date: 1-11-2000.',\n",
              "    'Cocke County Baptist Hospital. 0295 Keats Street.',\n",
              "    'Phone +1 (302) 786-5227.',\n",
              "    \"The patient's complaints first surfaced when he started working for Brothers Coal-Mine.\"],\n",
              "   'entities': [[{'chunk_id': '0',\n",
              "      'begin': 13,\n",
              "      'end': 22,\n",
              "      'chunk': '2093-01-13',\n",
              "      'label': 'DATE',\n",
              "      'assertion': None,\n",
              "      'term_code': None},\n",
              "     {'chunk_id': '1',\n",
              "      'begin': 25,\n",
              "      'end': 34,\n",
              "      'chunk': 'David Hale',\n",
              "      'label': 'DOCTOR',\n",
              "      'assertion': None,\n",
              "      'term_code': None},\n",
              "     {'chunk_id': '2',\n",
              "      'begin': 49,\n",
              "      'end': 64,\n",
              "      'chunk': 'Hendrickson, Ora',\n",
              "      'label': 'DOCTOR',\n",
              "      'assertion': None,\n",
              "      'term_code': None},\n",
              "     {'chunk_id': '3',\n",
              "      'begin': 72,\n",
              "      'end': 78,\n",
              "      'chunk': '7194334',\n",
              "      'label': 'MEDICALRECORD',\n",
              "      'assertion': None,\n",
              "      'term_code': None},\n",
              "     {'chunk_id': '4',\n",
              "      'begin': 86,\n",
              "      'end': 93,\n",
              "      'chunk': '01/13/93',\n",
              "      'label': 'DATE',\n",
              "      'assertion': None,\n",
              "      'term_code': None},\n",
              "     {'chunk_id': '5',\n",
              "      'begin': 100,\n",
              "      'end': 107,\n",
              "      'chunk': 'Oliveira',\n",
              "      'label': 'DOCTOR',\n",
              "      'assertion': None,\n",
              "      'term_code': None},\n",
              "     {'chunk_id': '6',\n",
              "      'begin': 110,\n",
              "      'end': 111,\n",
              "      'chunk': '25',\n",
              "      'label': 'AGE',\n",
              "      'assertion': None,\n",
              "      'term_code': None},\n",
              "     {'chunk_id': '7',\n",
              "      'begin': 137,\n",
              "      'end': 145,\n",
              "      'chunk': '1-11-2000',\n",
              "      'label': 'DATE',\n",
              "      'assertion': None,\n",
              "      'term_code': None},\n",
              "     {'chunk_id': '8',\n",
              "      'begin': 148,\n",
              "      'end': 195,\n",
              "      'chunk': 'Cocke County Baptist Hospital. 0295 Keats Street',\n",
              "      'label': 'LOCATION',\n",
              "      'assertion': None,\n",
              "      'term_code': None},\n",
              "     {'chunk_id': '9',\n",
              "      'begin': 204,\n",
              "      'end': 220,\n",
              "      'chunk': '+1 (302) 786-5227',\n",
              "      'label': 'PHONE',\n",
              "      'assertion': None,\n",
              "      'term_code': None},\n",
              "     {'chunk_id': '10',\n",
              "      'begin': 291,\n",
              "      'end': 308,\n",
              "      'chunk': 'Brothers Coal-Mine',\n",
              "      'label': 'ORGANIZATION',\n",
              "      'assertion': None,\n",
              "      'term_code': None}]],\n",
              "   'relations': [],\n",
              "   'summaries': [],\n",
              "   'deidentifications': [{'original': ['Record date: 2093-01-13, David Hale, M.D., Name: Hendrickson, Ora MR.',\n",
              "      '# 7194334 Date: 01/13/93 PCP: Oliveira, 25 years old, Record date: 1-11-2000.',\n",
              "      'Cocke County Baptist Hospital. 0295 Keats Street.',\n",
              "      'Phone +1 (302) 786-5227.',\n",
              "      \"The patient's complaints first surfaced when he started working for Brothers Coal-Mine.\"],\n",
              "     'obfuscated': ['Record date: 2093-02-16, Simon Dubin, M.D., Name: Arlon Bergamo MR.',\n",
              "      '# 6164549 Date: 02/16/93 PCP: Cheryn Coss, 21 years old, Record date: 5-12-2000.',\n",
              "      '1001 Gause Blvd.',\n",
              "      'Phone +1 (914) 782-9562.',\n",
              "      \"The patient's complaints first surfaced when he started working for Eaton Corporation.\"],\n",
              "     'masked': []}],\n",
              "   'classifications': []}]}"
            ]
          },
          "execution_count": 21,
          "metadata": {},
          "output_type": "execute_result"
        }
      ],
      "source": [
        "pipeline_parser = medical.PipelineOutputParser(column_maps)\n",
        "result = pipeline_parser.run(results)\n",
        "\n",
        "result"
      ]
    },
    {
      "cell_type": "markdown",
      "metadata": {
        "id": "KfdFKAitYujO"
      },
      "source": [
        "## icd10cm_resolver_pipeline"
      ]
    },
    {
      "cell_type": "code",
      "execution_count": 22,
      "metadata": {
        "colab": {
          "base_uri": "https://localhost:8080/"
        },
        "id": "mQc7IScSX8XN",
        "outputId": "b0ee3fc2-1da2-4e81-e487-aa29da8c1a4c"
      },
      "outputs": [
        {
          "name": "stdout",
          "output_type": "stream",
          "text": [
            "icd10cm_resolver_pipeline download started this may take some time.\n",
            "Approx size to download 3.3 GB\n",
            "[OK!]\n"
          ]
        }
      ],
      "source": [
        "icd10cm_pipeline = nlp.PretrainedPipeline(\"icd10cm_resolver_pipeline\", \"en\", \"clinical/models\")\n",
        "\n",
        "text = \"\"\"A 28-year-old female with a history of gestational diabetes mellitus diagnosed eight years and anisakiasis. Also, it was reported that fetal and neonatal hemorrhage\"\"\"\n",
        "\n",
        "results = icd10cm_pipeline.fullAnnotate(text)"
      ]
    },
    {
      "cell_type": "code",
      "execution_count": 23,
      "metadata": {
        "colab": {
          "base_uri": "https://localhost:8080/"
        },
        "id": "3mE6mKINt35R",
        "outputId": "7204baec-2ada-4f3d-cef5-df82411f0294"
      },
      "outputs": [
        {
          "data": {
            "text/plain": [
              "{'document_identifier': 'icd10cm_resolver_pipeline',\n",
              " 'document_text': 'document',\n",
              " 'entities': [{'ner_chunk_column_name': 'chunk',\n",
              "   'assertion_column_name': '',\n",
              "   'resolver_column_name': 'icd10cm'}],\n",
              " 'relations': [],\n",
              " 'summaries': [],\n",
              " 'deidentifications': [],\n",
              " 'classifications': []}"
            ]
          },
          "execution_count": 23,
          "metadata": {},
          "output_type": "execute_result"
        }
      ],
      "source": [
        "pipeline_tracer = PipelineTracer(icd10cm_pipeline)\n",
        "\n",
        "column_maps = pipeline_tracer.createParserDictionary()\n",
        "column_maps.update({\"document_identifier\": \"icd10cm_resolver_pipeline\"})\n",
        "column_maps"
      ]
    },
    {
      "cell_type": "code",
      "execution_count": 24,
      "metadata": {
        "colab": {
          "base_uri": "https://localhost:8080/"
        },
        "id": "NYrQyJpet30k",
        "outputId": "93b3ac70-0f94-4969-9235-060a47b80ebf"
      },
      "outputs": [
        {
          "data": {
            "text/plain": [
              "{'document_identifier': 'icd10cm_resolver_pipeline',\n",
              " 'document_text': 'document',\n",
              " 'entities': [{'ner_chunk_column_name': 'chunk',\n",
              "   'assertion_column_name': '',\n",
              "   'resolver_column_name': 'icd10cm'}],\n",
              " 'relations': [],\n",
              " 'summaries': [],\n",
              " 'deidentifications': [],\n",
              " 'classifications': []}"
            ]
          },
          "execution_count": 24,
          "metadata": {},
          "output_type": "execute_result"
        }
      ],
      "source": [
        "columns_directly = PipelineTracer.getParserDictDirectly(\"icd10cm_resolver_pipeline\", \"en\", \"clinical/models\")\n",
        "columns_directly"
      ]
    },
    {
      "cell_type": "code",
      "execution_count": 25,
      "metadata": {
        "colab": {
          "base_uri": "https://localhost:8080/"
        },
        "id": "SIgH2-rlt3xp",
        "outputId": "b1af6638-e5d8-4f3e-f951-0260d2bed9f2"
      },
      "outputs": [
        {
          "data": {
            "text/plain": [
              "{'result': [{'document_identifier': 'icd10cm_resolver_pipeline',\n",
              "   'document_text': ['A 28-year-old female with a history of gestational diabetes mellitus diagnosed eight years and anisakiasis. Also, it was reported that fetal and neonatal hemorrhage'],\n",
              "   'entities': [[{'chunk_id': '0',\n",
              "      'begin': 39,\n",
              "      'end': 67,\n",
              "      'chunk': 'gestational diabetes mellitus',\n",
              "      'label': 'PROBLEM',\n",
              "      'assertion': None,\n",
              "      'term_code': 'O24.919'},\n",
              "     {'chunk_id': '1',\n",
              "      'begin': 95,\n",
              "      'end': 105,\n",
              "      'chunk': 'anisakiasis',\n",
              "      'label': 'PROBLEM',\n",
              "      'assertion': None,\n",
              "      'term_code': 'B81.0'},\n",
              "     {'chunk_id': '2',\n",
              "      'begin': 135,\n",
              "      'end': 163,\n",
              "      'chunk': 'fetal and neonatal hemorrhage',\n",
              "      'label': 'PROBLEM',\n",
              "      'assertion': None,\n",
              "      'term_code': 'P549'}]],\n",
              "   'relations': [],\n",
              "   'summaries': [],\n",
              "   'deidentifications': [],\n",
              "   'classifications': []}]}"
            ]
          },
          "execution_count": 25,
          "metadata": {},
          "output_type": "execute_result"
        }
      ],
      "source": [
        "\n",
        "pipeline_parser = medical.PipelineOutputParser(column_maps)\n",
        "result = pipeline_parser.run(results)\n",
        "\n",
        "result"
      ]
    },
    {
      "cell_type": "code",
      "execution_count": 27,
      "metadata": {
        "colab": {
          "base_uri": "https://localhost:8080/"
        },
        "id": "f3uG90VBr1oO",
        "outputId": "c52265fe-b7aa-478c-965e-a72cdd3a413a"
      },
      "outputs": [
        {
          "data": {
            "text/plain": [
              "{'result': [{'document_identifier': 'icd10cm_resolver_pipeline',\n",
              "   'document_text': ['A 28-year-old female with a history of gestational diabetes mellitus diagnosed eight years and anisakiasis. Also, it was reported that fetal and neonatal hemorrhage'],\n",
              "   'entities': [[{'chunk_id': '0',\n",
              "      'begin': 39,\n",
              "      'end': 67,\n",
              "      'chunk': 'gestational diabetes mellitus',\n",
              "      'label': 'PROBLEM',\n",
              "      'assertion': None,\n",
              "      'term_code': 'O24.919'},\n",
              "     {'chunk_id': '1',\n",
              "      'begin': 95,\n",
              "      'end': 105,\n",
              "      'chunk': 'anisakiasis',\n",
              "      'label': 'PROBLEM',\n",
              "      'assertion': None,\n",
              "      'term_code': 'B81.0'},\n",
              "     {'chunk_id': '2',\n",
              "      'begin': 135,\n",
              "      'end': 163,\n",
              "      'chunk': 'fetal and neonatal hemorrhage',\n",
              "      'label': 'PROBLEM',\n",
              "      'assertion': None,\n",
              "      'term_code': 'P549'}]],\n",
              "   'relations': [],\n",
              "   'summaries': [],\n",
              "   'deidentifications': [],\n",
              "   'classifications': []}]}"
            ]
          },
          "execution_count": 27,
          "metadata": {},
          "output_type": "execute_result"
        }
      ],
      "source": [
        "column_maps = {\n",
        "    \"document_identifier\": \"icd10cm_resolver_pipeline\",\n",
        "    \"document_text\": \"document\",\n",
        "    \"entities\": [\n",
        "        {\n",
        "            \"ner_chunk_column_name\": \"chunk\",\n",
        "            \"assertion_column_name\": None,\n",
        "            \"resolver_column_name\": \"icd10cm\"\n",
        "        },\n",
        "    ],\n",
        "    \"relations\": [],\n",
        "    \"summaries\": [],\n",
        "    \"deidentifications\": [],\n",
        "    \"classifications\":[]\n",
        "}\n",
        "\n",
        "pipeline_parser = medical.PipelineOutputParser(column_maps)\n",
        "\n",
        "parsed_result = pipeline_parser.run(results)\n",
        "parsed_result"
      ]
    },
    {
      "cell_type": "markdown",
      "metadata": {
        "id": "BPmbtx0JWfRb"
      },
      "source": [
        "## explain_clinical_doc_biomarker"
      ]
    },
    {
      "cell_type": "code",
      "execution_count": 29,
      "metadata": {
        "colab": {
          "base_uri": "https://localhost:8080/"
        },
        "id": "Qi38iNU-sNwO",
        "outputId": "9f8b016e-80ca-4aeb-964e-3ef424f28eb3"
      },
      "outputs": [
        {
          "name": "stdout",
          "output_type": "stream",
          "text": [
            "explain_clinical_doc_biomarker download started this may take some time.\n",
            "Approx size to download 2 GB\n",
            "[OK!]\n"
          ]
        }
      ],
      "source": [
        "biomarker_pipeline = nlp.PretrainedPipeline(\"explain_clinical_doc_biomarker\", \"en\", \"clinical/models\")\n",
        "\n",
        "results = biomarker_pipeline.fullAnnotate(\"\"\"In the bone- marrow (BM) aspiration, blasts accounted for 88.1% of ANCs, which were positive for CD9 and CD10 on flow cytometry. Measurements of serum tumor markers showed elevated level of Cyfra21-1: 4.77 ng/mL, NSE: 19.60 ng/mL, and SCCA: 2.58 ng/mL. Immunohistochemical staining showed positive staining for CK5/6, P40, and negative staining for TTF-1 and weakly positive staining for ALK.\"\"\")"
      ]
    },
    {
      "cell_type": "code",
      "execution_count": 30,
      "metadata": {
        "colab": {
          "base_uri": "https://localhost:8080/"
        },
        "id": "h-PXuEoRpsGu",
        "outputId": "89551fdf-eba3-4b26-b095-31808b24eb8c"
      },
      "outputs": [
        {
          "data": {
            "text/plain": [
              "{'document_identifier': 'explain_clinical_doc_biomarker',\n",
              " 'document_text': 'document',\n",
              " 'entities': [{'ner_chunk_column_name': 'merged_chunk',\n",
              "   'assertion_column_name': '',\n",
              "   'resolver_column_name': ''}],\n",
              " 'relations': ['re_oncology_biomarker_result_wip'],\n",
              " 'summaries': [],\n",
              " 'deidentifications': [],\n",
              " 'classifications': [{'classification_column_name': 'prediction',\n",
              "   'sentence_column_name': 'sentence'}]}"
            ]
          },
          "execution_count": 30,
          "metadata": {},
          "output_type": "execute_result"
        }
      ],
      "source": [
        "pipeline_tracer = PipelineTracer(biomarker_pipeline)\n",
        "\n",
        "column_maps = pipeline_tracer.createParserDictionary()\n",
        "column_maps.update({\"document_identifier\": \"explain_clinical_doc_biomarker\"})\n",
        "column_maps"
      ]
    },
    {
      "cell_type": "code",
      "execution_count": 31,
      "metadata": {
        "colab": {
          "base_uri": "https://localhost:8080/"
        },
        "id": "tjqFk-Wjp454",
        "outputId": "1a1fe882-e40f-4cac-912d-94b76ff41bb0"
      },
      "outputs": [
        {
          "data": {
            "text/plain": [
              "{'document_identifier': 'explain_clinical_doc_biomarker',\n",
              " 'document_text': 'document',\n",
              " 'entities': [{'ner_chunk_column_name': 'ner_biomarker_chunk',\n",
              "   'assertion_column_name': '',\n",
              "   'resolver_column_name': ''}],\n",
              " 'relations': ['re_oncology_biomarker_result_wip'],\n",
              " 'summaries': '',\n",
              " 'deidentifications': [],\n",
              " 'classifications': [{'classification_column_name': 'prediction',\n",
              "   'sentence_column_name': 'sentence'}]}"
            ]
          },
          "execution_count": 31,
          "metadata": {},
          "output_type": "execute_result"
        }
      ],
      "source": [
        "columns_directly = PipelineTracer.getParserDictDirectly(\"explain_clinical_doc_biomarker\", \"en\", \"clinical/models\")\n",
        "columns_directly"
      ]
    },
    {
      "cell_type": "code",
      "execution_count": 32,
      "metadata": {
        "colab": {
          "base_uri": "https://localhost:8080/"
        },
        "id": "_U6NWUJMp_iY",
        "outputId": "241a2c48-cc84-4772-878a-67bfc010152b"
      },
      "outputs": [
        {
          "data": {
            "text/plain": [
              "{'result': [{'document_identifier': 'explain_clinical_doc_biomarker',\n",
              "   'document_text': ['In the bone- marrow (BM) aspiration, blasts accounted for 88.1% of ANCs, which were positive for CD9 and CD10 on flow cytometry. Measurements of serum tumor markers showed elevated level of Cyfra21-1: 4.77 ng/mL, NSE: 19.60 ng/mL, and SCCA: 2.58 ng/mL. Immunohistochemical staining showed positive staining for CK5/6, P40, and negative staining for TTF-1 and weakly positive staining for ALK.'],\n",
              "   'entities': [[{'chunk_id': '0',\n",
              "      'begin': 84,\n",
              "      'end': 91,\n",
              "      'chunk': 'positive',\n",
              "      'label': 'Biomarker_Result',\n",
              "      'assertion': None,\n",
              "      'term_code': None},\n",
              "     {'chunk_id': '1',\n",
              "      'begin': 97,\n",
              "      'end': 99,\n",
              "      'chunk': 'CD9',\n",
              "      'label': 'Biomarker',\n",
              "      'assertion': None,\n",
              "      'term_code': None},\n",
              "     {'chunk_id': '2',\n",
              "      'begin': 105,\n",
              "      'end': 108,\n",
              "      'chunk': 'CD10',\n",
              "      'label': 'Biomarker',\n",
              "      'assertion': None,\n",
              "      'term_code': None},\n",
              "     {'chunk_id': '3',\n",
              "      'begin': 151,\n",
              "      'end': 163,\n",
              "      'chunk': 'tumor markers',\n",
              "      'label': 'Biomarker',\n",
              "      'assertion': None,\n",
              "      'term_code': None},\n",
              "     {'chunk_id': '4',\n",
              "      'begin': 172,\n",
              "      'end': 185,\n",
              "      'chunk': 'elevated level',\n",
              "      'label': 'Biomarker_Result',\n",
              "      'assertion': None,\n",
              "      'term_code': None},\n",
              "     {'chunk_id': '5',\n",
              "      'begin': 190,\n",
              "      'end': 198,\n",
              "      'chunk': 'Cyfra21-1',\n",
              "      'label': 'Biomarker',\n",
              "      'assertion': None,\n",
              "      'term_code': None},\n",
              "     {'chunk_id': '6',\n",
              "      'begin': 201,\n",
              "      'end': 210,\n",
              "      'chunk': '4.77 ng/mL',\n",
              "      'label': 'Biomarker_Result',\n",
              "      'assertion': None,\n",
              "      'term_code': None},\n",
              "     {'chunk_id': '7',\n",
              "      'begin': 213,\n",
              "      'end': 215,\n",
              "      'chunk': 'NSE',\n",
              "      'label': 'Biomarker',\n",
              "      'assertion': None,\n",
              "      'term_code': None},\n",
              "     {'chunk_id': '8',\n",
              "      'begin': 218,\n",
              "      'end': 228,\n",
              "      'chunk': '19.60 ng/mL',\n",
              "      'label': 'Biomarker_Result',\n",
              "      'assertion': None,\n",
              "      'term_code': None},\n",
              "     {'chunk_id': '9',\n",
              "      'begin': 235,\n",
              "      'end': 238,\n",
              "      'chunk': 'SCCA',\n",
              "      'label': 'Biomarker',\n",
              "      'assertion': None,\n",
              "      'term_code': None},\n",
              "     {'chunk_id': '10',\n",
              "      'begin': 241,\n",
              "      'end': 250,\n",
              "      'chunk': '2.58 ng/mL',\n",
              "      'label': 'Biomarker_Result',\n",
              "      'assertion': None,\n",
              "      'term_code': None},\n",
              "     {'chunk_id': '11',\n",
              "      'begin': 289,\n",
              "      'end': 296,\n",
              "      'chunk': 'positive',\n",
              "      'label': 'Biomarker_Result',\n",
              "      'assertion': None,\n",
              "      'term_code': None},\n",
              "     {'chunk_id': '12',\n",
              "      'begin': 311,\n",
              "      'end': 315,\n",
              "      'chunk': 'CK5/6',\n",
              "      'label': 'Biomarker',\n",
              "      'assertion': None,\n",
              "      'term_code': None},\n",
              "     {'chunk_id': '13',\n",
              "      'begin': 318,\n",
              "      'end': 320,\n",
              "      'chunk': 'P40',\n",
              "      'label': 'Biomarker',\n",
              "      'assertion': None,\n",
              "      'term_code': None},\n",
              "     {'chunk_id': '14',\n",
              "      'begin': 327,\n",
              "      'end': 334,\n",
              "      'chunk': 'negative',\n",
              "      'label': 'Biomarker_Result',\n",
              "      'assertion': None,\n",
              "      'term_code': None},\n",
              "     {'chunk_id': '15',\n",
              "      'begin': 349,\n",
              "      'end': 353,\n",
              "      'chunk': 'TTF-1',\n",
              "      'label': 'Biomarker',\n",
              "      'assertion': None,\n",
              "      'term_code': None},\n",
              "     {'chunk_id': '16',\n",
              "      'begin': 359,\n",
              "      'end': 382,\n",
              "      'chunk': 'weakly positive staining',\n",
              "      'label': 'Biomarker_Result',\n",
              "      'assertion': None,\n",
              "      'term_code': None},\n",
              "     {'chunk_id': '17',\n",
              "      'begin': 388,\n",
              "      'end': 390,\n",
              "      'chunk': 'ALK',\n",
              "      'label': 'Biomarker',\n",
              "      'assertion': None,\n",
              "      'term_code': None}]],\n",
              "   'relations': [[{'relation': 'is_finding_of',\n",
              "      'entity1': 'Biomarker_Result',\n",
              "      'entity1_begin': '84',\n",
              "      'entity1_end': '91',\n",
              "      'chunk1': 'positive',\n",
              "      'entity2': 'Biomarker',\n",
              "      'entity2_begin': '97',\n",
              "      'entity2_end': '99',\n",
              "      'chunk2': 'CD9',\n",
              "      'confidence': '0.9932805'},\n",
              "     {'relation': 'is_finding_of',\n",
              "      'entity1': 'Biomarker_Result',\n",
              "      'entity1_begin': '84',\n",
              "      'entity1_end': '91',\n",
              "      'chunk1': 'positive',\n",
              "      'entity2': 'Biomarker',\n",
              "      'entity2_begin': '105',\n",
              "      'entity2_end': '108',\n",
              "      'chunk2': 'CD10',\n",
              "      'confidence': '0.9988914'},\n",
              "     {'relation': 'is_finding_of',\n",
              "      'entity1': 'Biomarker',\n",
              "      'entity1_begin': '151',\n",
              "      'entity1_end': '163',\n",
              "      'chunk1': 'tumor markers',\n",
              "      'entity2': 'Biomarker_Result',\n",
              "      'entity2_begin': '172',\n",
              "      'entity2_end': '185',\n",
              "      'chunk2': 'elevated level',\n",
              "      'confidence': '0.90050846'},\n",
              "     {'relation': 'O',\n",
              "      'entity1': 'Biomarker',\n",
              "      'entity1_begin': '151',\n",
              "      'entity1_end': '163',\n",
              "      'chunk1': 'tumor markers',\n",
              "      'entity2': 'Biomarker_Result',\n",
              "      'entity2_begin': '201',\n",
              "      'entity2_end': '210',\n",
              "      'chunk2': '4.77 ng/mL',\n",
              "      'confidence': '0.7407979'},\n",
              "     {'relation': 'O',\n",
              "      'entity1': 'Biomarker',\n",
              "      'entity1_begin': '151',\n",
              "      'entity1_end': '163',\n",
              "      'chunk1': 'tumor markers',\n",
              "      'entity2': 'Biomarker_Result',\n",
              "      'entity2_begin': '218',\n",
              "      'entity2_end': '228',\n",
              "      'chunk2': '19.60 ng/mL',\n",
              "      'confidence': '0.9778502'},\n",
              "     {'relation': 'O',\n",
              "      'entity1': 'Biomarker',\n",
              "      'entity1_begin': '151',\n",
              "      'entity1_end': '163',\n",
              "      'chunk1': 'tumor markers',\n",
              "      'entity2': 'Biomarker_Result',\n",
              "      'entity2_begin': '241',\n",
              "      'entity2_end': '250',\n",
              "      'chunk2': '2.58 ng/mL',\n",
              "      'confidence': '0.9993332'},\n",
              "     {'relation': 'is_finding_of',\n",
              "      'entity1': 'Biomarker_Result',\n",
              "      'entity1_begin': '172',\n",
              "      'entity1_end': '185',\n",
              "      'chunk1': 'elevated level',\n",
              "      'entity2': 'Biomarker',\n",
              "      'entity2_begin': '190',\n",
              "      'entity2_end': '198',\n",
              "      'chunk2': 'Cyfra21-1',\n",
              "      'confidence': '0.9950375'},\n",
              "     {'relation': 'O',\n",
              "      'entity1': 'Biomarker_Result',\n",
              "      'entity1_begin': '172',\n",
              "      'entity1_end': '185',\n",
              "      'chunk1': 'elevated level',\n",
              "      'entity2': 'Biomarker',\n",
              "      'entity2_begin': '213',\n",
              "      'entity2_end': '215',\n",
              "      'chunk2': 'NSE',\n",
              "      'confidence': '0.81141526'},\n",
              "     {'relation': 'O',\n",
              "      'entity1': 'Biomarker_Result',\n",
              "      'entity1_begin': '172',\n",
              "      'entity1_end': '185',\n",
              "      'chunk1': 'elevated level',\n",
              "      'entity2': 'Biomarker',\n",
              "      'entity2_begin': '235',\n",
              "      'entity2_end': '238',\n",
              "      'chunk2': 'SCCA',\n",
              "      'confidence': '0.9064728'},\n",
              "     {'relation': 'is_finding_of',\n",
              "      'entity1': 'Biomarker',\n",
              "      'entity1_begin': '190',\n",
              "      'entity1_end': '198',\n",
              "      'chunk1': 'Cyfra21-1',\n",
              "      'entity2': 'Biomarker_Result',\n",
              "      'entity2_begin': '201',\n",
              "      'entity2_end': '210',\n",
              "      'chunk2': '4.77 ng/mL',\n",
              "      'confidence': '0.9818734'},\n",
              "     {'relation': 'is_finding_of',\n",
              "      'entity1': 'Biomarker',\n",
              "      'entity1_begin': '190',\n",
              "      'entity1_end': '198',\n",
              "      'chunk1': 'Cyfra21-1',\n",
              "      'entity2': 'Biomarker_Result',\n",
              "      'entity2_begin': '218',\n",
              "      'entity2_end': '228',\n",
              "      'chunk2': '19.60 ng/mL',\n",
              "      'confidence': '0.54173946'},\n",
              "     {'relation': 'O',\n",
              "      'entity1': 'Biomarker',\n",
              "      'entity1_begin': '190',\n",
              "      'entity1_end': '198',\n",
              "      'chunk1': 'Cyfra21-1',\n",
              "      'entity2': 'Biomarker_Result',\n",
              "      'entity2_begin': '241',\n",
              "      'entity2_end': '250',\n",
              "      'chunk2': '2.58 ng/mL',\n",
              "      'confidence': '0.952869'},\n",
              "     {'relation': 'O',\n",
              "      'entity1': 'Biomarker_Result',\n",
              "      'entity1_begin': '201',\n",
              "      'entity1_end': '210',\n",
              "      'chunk1': '4.77 ng/mL',\n",
              "      'entity2': 'Biomarker',\n",
              "      'entity2_begin': '213',\n",
              "      'entity2_end': '215',\n",
              "      'chunk2': 'NSE',\n",
              "      'confidence': '0.9998766'},\n",
              "     {'relation': 'O',\n",
              "      'entity1': 'Biomarker_Result',\n",
              "      'entity1_begin': '201',\n",
              "      'entity1_end': '210',\n",
              "      'chunk1': '4.77 ng/mL',\n",
              "      'entity2': 'Biomarker',\n",
              "      'entity2_begin': '235',\n",
              "      'entity2_end': '238',\n",
              "      'chunk2': 'SCCA',\n",
              "      'confidence': '0.9999279'},\n",
              "     {'relation': 'is_finding_of',\n",
              "      'entity1': 'Biomarker',\n",
              "      'entity1_begin': '213',\n",
              "      'entity1_end': '215',\n",
              "      'chunk1': 'NSE',\n",
              "      'entity2': 'Biomarker_Result',\n",
              "      'entity2_begin': '218',\n",
              "      'entity2_end': '228',\n",
              "      'chunk2': '19.60 ng/mL',\n",
              "      'confidence': '0.9881728'},\n",
              "     {'relation': 'O',\n",
              "      'entity1': 'Biomarker',\n",
              "      'entity1_begin': '213',\n",
              "      'entity1_end': '215',\n",
              "      'chunk1': 'NSE',\n",
              "      'entity2': 'Biomarker_Result',\n",
              "      'entity2_begin': '241',\n",
              "      'entity2_end': '250',\n",
              "      'chunk2': '2.58 ng/mL',\n",
              "      'confidence': '0.98150694'},\n",
              "     {'relation': 'O',\n",
              "      'entity1': 'Biomarker_Result',\n",
              "      'entity1_begin': '218',\n",
              "      'entity1_end': '228',\n",
              "      'chunk1': '19.60 ng/mL',\n",
              "      'entity2': 'Biomarker',\n",
              "      'entity2_begin': '235',\n",
              "      'entity2_end': '238',\n",
              "      'chunk2': 'SCCA',\n",
              "      'confidence': '0.99992144'},\n",
              "     {'relation': 'is_finding_of',\n",
              "      'entity1': 'Biomarker',\n",
              "      'entity1_begin': '235',\n",
              "      'entity1_end': '238',\n",
              "      'chunk1': 'SCCA',\n",
              "      'entity2': 'Biomarker_Result',\n",
              "      'entity2_begin': '241',\n",
              "      'entity2_end': '250',\n",
              "      'chunk2': '2.58 ng/mL',\n",
              "      'confidence': '0.9957568'},\n",
              "     {'relation': 'is_finding_of',\n",
              "      'entity1': 'Biomarker_Result',\n",
              "      'entity1_begin': '289',\n",
              "      'entity1_end': '296',\n",
              "      'chunk1': 'positive',\n",
              "      'entity2': 'Biomarker',\n",
              "      'entity2_begin': '311',\n",
              "      'entity2_end': '315',\n",
              "      'chunk2': 'CK5/6',\n",
              "      'confidence': '0.8663684'},\n",
              "     {'relation': 'is_finding_of',\n",
              "      'entity1': 'Biomarker_Result',\n",
              "      'entity1_begin': '289',\n",
              "      'entity1_end': '296',\n",
              "      'chunk1': 'positive',\n",
              "      'entity2': 'Biomarker',\n",
              "      'entity2_begin': '318',\n",
              "      'entity2_end': '320',\n",
              "      'chunk2': 'P40',\n",
              "      'confidence': '0.8959994'},\n",
              "     {'relation': 'O',\n",
              "      'entity1': 'Biomarker_Result',\n",
              "      'entity1_begin': '289',\n",
              "      'entity1_end': '296',\n",
              "      'chunk1': 'positive',\n",
              "      'entity2': 'Biomarker',\n",
              "      'entity2_begin': '349',\n",
              "      'entity2_end': '353',\n",
              "      'chunk2': 'TTF-1',\n",
              "      'confidence': '0.9821239'},\n",
              "     {'relation': 'O',\n",
              "      'entity1': 'Biomarker_Result',\n",
              "      'entity1_begin': '289',\n",
              "      'entity1_end': '296',\n",
              "      'chunk1': 'positive',\n",
              "      'entity2': 'Biomarker',\n",
              "      'entity2_begin': '388',\n",
              "      'entity2_end': '390',\n",
              "      'chunk2': 'ALK',\n",
              "      'confidence': '0.99950695'},\n",
              "     {'relation': 'O',\n",
              "      'entity1': 'Biomarker',\n",
              "      'entity1_begin': '311',\n",
              "      'entity1_end': '315',\n",
              "      'chunk1': 'CK5/6',\n",
              "      'entity2': 'Biomarker_Result',\n",
              "      'entity2_begin': '327',\n",
              "      'entity2_end': '334',\n",
              "      'chunk2': 'negative',\n",
              "      'confidence': '0.9834041'},\n",
              "     {'relation': 'O',\n",
              "      'entity1': 'Biomarker',\n",
              "      'entity1_begin': '311',\n",
              "      'entity1_end': '315',\n",
              "      'chunk1': 'CK5/6',\n",
              "      'entity2': 'Biomarker_Result',\n",
              "      'entity2_begin': '359',\n",
              "      'entity2_end': '382',\n",
              "      'chunk2': 'weakly positive staining',\n",
              "      'confidence': '0.999496'},\n",
              "     {'relation': 'O',\n",
              "      'entity1': 'Biomarker',\n",
              "      'entity1_begin': '318',\n",
              "      'entity1_end': '320',\n",
              "      'chunk1': 'P40',\n",
              "      'entity2': 'Biomarker_Result',\n",
              "      'entity2_begin': '327',\n",
              "      'entity2_end': '334',\n",
              "      'chunk2': 'negative',\n",
              "      'confidence': '0.9339211'},\n",
              "     {'relation': 'O',\n",
              "      'entity1': 'Biomarker',\n",
              "      'entity1_begin': '318',\n",
              "      'entity1_end': '320',\n",
              "      'chunk1': 'P40',\n",
              "      'entity2': 'Biomarker_Result',\n",
              "      'entity2_begin': '359',\n",
              "      'entity2_end': '382',\n",
              "      'chunk2': 'weakly positive staining',\n",
              "      'confidence': '0.9994236'},\n",
              "     {'relation': 'is_finding_of',\n",
              "      'entity1': 'Biomarker_Result',\n",
              "      'entity1_begin': '327',\n",
              "      'entity1_end': '334',\n",
              "      'chunk1': 'negative',\n",
              "      'entity2': 'Biomarker',\n",
              "      'entity2_begin': '349',\n",
              "      'entity2_end': '353',\n",
              "      'chunk2': 'TTF-1',\n",
              "      'confidence': '0.99416393'},\n",
              "     {'relation': 'O',\n",
              "      'entity1': 'Biomarker_Result',\n",
              "      'entity1_begin': '327',\n",
              "      'entity1_end': '334',\n",
              "      'chunk1': 'negative',\n",
              "      'entity2': 'Biomarker',\n",
              "      'entity2_begin': '388',\n",
              "      'entity2_end': '390',\n",
              "      'chunk2': 'ALK',\n",
              "      'confidence': '0.85932535'},\n",
              "     {'relation': 'O',\n",
              "      'entity1': 'Biomarker',\n",
              "      'entity1_begin': '349',\n",
              "      'entity1_end': '353',\n",
              "      'chunk1': 'TTF-1',\n",
              "      'entity2': 'Biomarker_Result',\n",
              "      'entity2_begin': '359',\n",
              "      'entity2_end': '382',\n",
              "      'chunk2': 'weakly positive staining',\n",
              "      'confidence': '0.9996277'},\n",
              "     {'relation': 'is_finding_of',\n",
              "      'entity1': 'Biomarker_Result',\n",
              "      'entity1_begin': '359',\n",
              "      'entity1_end': '382',\n",
              "      'chunk1': 'weakly positive staining',\n",
              "      'entity2': 'Biomarker',\n",
              "      'entity2_begin': '388',\n",
              "      'entity2_end': '390',\n",
              "      'chunk2': 'ALK',\n",
              "      'confidence': '0.98843086'}]],\n",
              "   'summaries': [],\n",
              "   'deidentifications': [],\n",
              "   'classifications': [[{'category': '1',\n",
              "      'sentence': 'In the bone- marrow (BM) aspiration, blasts accounted for 88.1% of ANCs, which were positive for CD9 and CD10 on flow cytometry.',\n",
              "      'sentence_id': '0'},\n",
              "     {'category': '1',\n",
              "      'sentence': 'Measurements of serum tumor markers showed elevated level of Cyfra21-1: 4.77 ng/mL, NSE: 19.60 ng/mL, and SCCA: 2.58 ng/mL.',\n",
              "      'sentence_id': '1'},\n",
              "     {'category': '1',\n",
              "      'sentence': 'Immunohistochemical staining showed positive staining for CK5/6, P40, and negative staining for TTF-1 and weakly positive staining for ALK.',\n",
              "      'sentence_id': '2'}]]}]}"
            ]
          },
          "execution_count": 32,
          "metadata": {},
          "output_type": "execute_result"
        }
      ],
      "source": [
        "pipeline_parser = medical.PipelineOutputParser(column_maps)\n",
        "result = pipeline_parser.run(results)\n",
        "\n",
        "result"
      ]
    },
    {
      "cell_type": "code",
      "execution_count": 33,
      "metadata": {
        "colab": {
          "base_uri": "https://localhost:8080/"
        },
        "id": "xVBvIB3FeAhJ",
        "outputId": "db7f59a1-614e-41c2-ba37-aa6fc9d126f2"
      },
      "outputs": [
        {
          "data": {
            "text/plain": [
              "{'result': [{'document_identifier': 'explain_clinical_doc_biomarker',\n",
              "   'document_text': ['In the bone- marrow (BM) aspiration, blasts accounted for 88.1% of ANCs, which were positive for CD9 and CD10 on flow cytometry. Measurements of serum tumor markers showed elevated level of Cyfra21-1: 4.77 ng/mL, NSE: 19.60 ng/mL, and SCCA: 2.58 ng/mL. Immunohistochemical staining showed positive staining for CK5/6, P40, and negative staining for TTF-1 and weakly positive staining for ALK.'],\n",
              "   'entities': [[{'chunk_id': '0',\n",
              "      'begin': 84,\n",
              "      'end': 91,\n",
              "      'chunk': 'positive',\n",
              "      'label': 'Biomarker_Result',\n",
              "      'assertion': None,\n",
              "      'term_code': None},\n",
              "     {'chunk_id': '1',\n",
              "      'begin': 97,\n",
              "      'end': 99,\n",
              "      'chunk': 'CD9',\n",
              "      'label': 'Biomarker',\n",
              "      'assertion': None,\n",
              "      'term_code': None},\n",
              "     {'chunk_id': '2',\n",
              "      'begin': 105,\n",
              "      'end': 108,\n",
              "      'chunk': 'CD10',\n",
              "      'label': 'Biomarker',\n",
              "      'assertion': None,\n",
              "      'term_code': None},\n",
              "     {'chunk_id': '3',\n",
              "      'begin': 151,\n",
              "      'end': 163,\n",
              "      'chunk': 'tumor markers',\n",
              "      'label': 'Biomarker',\n",
              "      'assertion': None,\n",
              "      'term_code': None},\n",
              "     {'chunk_id': '4',\n",
              "      'begin': 172,\n",
              "      'end': 185,\n",
              "      'chunk': 'elevated level',\n",
              "      'label': 'Biomarker_Result',\n",
              "      'assertion': None,\n",
              "      'term_code': None},\n",
              "     {'chunk_id': '5',\n",
              "      'begin': 190,\n",
              "      'end': 198,\n",
              "      'chunk': 'Cyfra21-1',\n",
              "      'label': 'Biomarker',\n",
              "      'assertion': None,\n",
              "      'term_code': None},\n",
              "     {'chunk_id': '6',\n",
              "      'begin': 201,\n",
              "      'end': 210,\n",
              "      'chunk': '4.77 ng/mL',\n",
              "      'label': 'Biomarker_Result',\n",
              "      'assertion': None,\n",
              "      'term_code': None},\n",
              "     {'chunk_id': '7',\n",
              "      'begin': 213,\n",
              "      'end': 215,\n",
              "      'chunk': 'NSE',\n",
              "      'label': 'Biomarker',\n",
              "      'assertion': None,\n",
              "      'term_code': None},\n",
              "     {'chunk_id': '8',\n",
              "      'begin': 218,\n",
              "      'end': 228,\n",
              "      'chunk': '19.60 ng/mL',\n",
              "      'label': 'Biomarker_Result',\n",
              "      'assertion': None,\n",
              "      'term_code': None},\n",
              "     {'chunk_id': '9',\n",
              "      'begin': 235,\n",
              "      'end': 238,\n",
              "      'chunk': 'SCCA',\n",
              "      'label': 'Biomarker',\n",
              "      'assertion': None,\n",
              "      'term_code': None},\n",
              "     {'chunk_id': '10',\n",
              "      'begin': 241,\n",
              "      'end': 250,\n",
              "      'chunk': '2.58 ng/mL',\n",
              "      'label': 'Biomarker_Result',\n",
              "      'assertion': None,\n",
              "      'term_code': None},\n",
              "     {'chunk_id': '11',\n",
              "      'begin': 289,\n",
              "      'end': 296,\n",
              "      'chunk': 'positive',\n",
              "      'label': 'Biomarker_Result',\n",
              "      'assertion': None,\n",
              "      'term_code': None},\n",
              "     {'chunk_id': '12',\n",
              "      'begin': 311,\n",
              "      'end': 315,\n",
              "      'chunk': 'CK5/6',\n",
              "      'label': 'Biomarker',\n",
              "      'assertion': None,\n",
              "      'term_code': None},\n",
              "     {'chunk_id': '13',\n",
              "      'begin': 318,\n",
              "      'end': 320,\n",
              "      'chunk': 'P40',\n",
              "      'label': 'Biomarker',\n",
              "      'assertion': None,\n",
              "      'term_code': None},\n",
              "     {'chunk_id': '14',\n",
              "      'begin': 327,\n",
              "      'end': 334,\n",
              "      'chunk': 'negative',\n",
              "      'label': 'Biomarker_Result',\n",
              "      'assertion': None,\n",
              "      'term_code': None},\n",
              "     {'chunk_id': '15',\n",
              "      'begin': 349,\n",
              "      'end': 353,\n",
              "      'chunk': 'TTF-1',\n",
              "      'label': 'Biomarker',\n",
              "      'assertion': None,\n",
              "      'term_code': None},\n",
              "     {'chunk_id': '16',\n",
              "      'begin': 359,\n",
              "      'end': 382,\n",
              "      'chunk': 'weakly positive staining',\n",
              "      'label': 'Biomarker_Result',\n",
              "      'assertion': None,\n",
              "      'term_code': None},\n",
              "     {'chunk_id': '17',\n",
              "      'begin': 388,\n",
              "      'end': 390,\n",
              "      'chunk': 'ALK',\n",
              "      'label': 'Biomarker',\n",
              "      'assertion': None,\n",
              "      'term_code': None}]],\n",
              "   'relations': [[{'relation': 'is_finding_of',\n",
              "      'entity1': 'Biomarker_Result',\n",
              "      'entity1_begin': '84',\n",
              "      'entity1_end': '91',\n",
              "      'chunk1': 'positive',\n",
              "      'entity2': 'Biomarker',\n",
              "      'entity2_begin': '97',\n",
              "      'entity2_end': '99',\n",
              "      'chunk2': 'CD9',\n",
              "      'confidence': '0.9932805'},\n",
              "     {'relation': 'is_finding_of',\n",
              "      'entity1': 'Biomarker_Result',\n",
              "      'entity1_begin': '84',\n",
              "      'entity1_end': '91',\n",
              "      'chunk1': 'positive',\n",
              "      'entity2': 'Biomarker',\n",
              "      'entity2_begin': '105',\n",
              "      'entity2_end': '108',\n",
              "      'chunk2': 'CD10',\n",
              "      'confidence': '0.9988914'},\n",
              "     {'relation': 'is_finding_of',\n",
              "      'entity1': 'Biomarker',\n",
              "      'entity1_begin': '151',\n",
              "      'entity1_end': '163',\n",
              "      'chunk1': 'tumor markers',\n",
              "      'entity2': 'Biomarker_Result',\n",
              "      'entity2_begin': '172',\n",
              "      'entity2_end': '185',\n",
              "      'chunk2': 'elevated level',\n",
              "      'confidence': '0.90050846'},\n",
              "     {'relation': 'O',\n",
              "      'entity1': 'Biomarker',\n",
              "      'entity1_begin': '151',\n",
              "      'entity1_end': '163',\n",
              "      'chunk1': 'tumor markers',\n",
              "      'entity2': 'Biomarker_Result',\n",
              "      'entity2_begin': '201',\n",
              "      'entity2_end': '210',\n",
              "      'chunk2': '4.77 ng/mL',\n",
              "      'confidence': '0.7407979'},\n",
              "     {'relation': 'O',\n",
              "      'entity1': 'Biomarker',\n",
              "      'entity1_begin': '151',\n",
              "      'entity1_end': '163',\n",
              "      'chunk1': 'tumor markers',\n",
              "      'entity2': 'Biomarker_Result',\n",
              "      'entity2_begin': '218',\n",
              "      'entity2_end': '228',\n",
              "      'chunk2': '19.60 ng/mL',\n",
              "      'confidence': '0.9778502'},\n",
              "     {'relation': 'O',\n",
              "      'entity1': 'Biomarker',\n",
              "      'entity1_begin': '151',\n",
              "      'entity1_end': '163',\n",
              "      'chunk1': 'tumor markers',\n",
              "      'entity2': 'Biomarker_Result',\n",
              "      'entity2_begin': '241',\n",
              "      'entity2_end': '250',\n",
              "      'chunk2': '2.58 ng/mL',\n",
              "      'confidence': '0.9993332'},\n",
              "     {'relation': 'is_finding_of',\n",
              "      'entity1': 'Biomarker_Result',\n",
              "      'entity1_begin': '172',\n",
              "      'entity1_end': '185',\n",
              "      'chunk1': 'elevated level',\n",
              "      'entity2': 'Biomarker',\n",
              "      'entity2_begin': '190',\n",
              "      'entity2_end': '198',\n",
              "      'chunk2': 'Cyfra21-1',\n",
              "      'confidence': '0.9950375'},\n",
              "     {'relation': 'O',\n",
              "      'entity1': 'Biomarker_Result',\n",
              "      'entity1_begin': '172',\n",
              "      'entity1_end': '185',\n",
              "      'chunk1': 'elevated level',\n",
              "      'entity2': 'Biomarker',\n",
              "      'entity2_begin': '213',\n",
              "      'entity2_end': '215',\n",
              "      'chunk2': 'NSE',\n",
              "      'confidence': '0.81141526'},\n",
              "     {'relation': 'O',\n",
              "      'entity1': 'Biomarker_Result',\n",
              "      'entity1_begin': '172',\n",
              "      'entity1_end': '185',\n",
              "      'chunk1': 'elevated level',\n",
              "      'entity2': 'Biomarker',\n",
              "      'entity2_begin': '235',\n",
              "      'entity2_end': '238',\n",
              "      'chunk2': 'SCCA',\n",
              "      'confidence': '0.9064728'},\n",
              "     {'relation': 'is_finding_of',\n",
              "      'entity1': 'Biomarker',\n",
              "      'entity1_begin': '190',\n",
              "      'entity1_end': '198',\n",
              "      'chunk1': 'Cyfra21-1',\n",
              "      'entity2': 'Biomarker_Result',\n",
              "      'entity2_begin': '201',\n",
              "      'entity2_end': '210',\n",
              "      'chunk2': '4.77 ng/mL',\n",
              "      'confidence': '0.9818734'},\n",
              "     {'relation': 'is_finding_of',\n",
              "      'entity1': 'Biomarker',\n",
              "      'entity1_begin': '190',\n",
              "      'entity1_end': '198',\n",
              "      'chunk1': 'Cyfra21-1',\n",
              "      'entity2': 'Biomarker_Result',\n",
              "      'entity2_begin': '218',\n",
              "      'entity2_end': '228',\n",
              "      'chunk2': '19.60 ng/mL',\n",
              "      'confidence': '0.54173946'},\n",
              "     {'relation': 'O',\n",
              "      'entity1': 'Biomarker',\n",
              "      'entity1_begin': '190',\n",
              "      'entity1_end': '198',\n",
              "      'chunk1': 'Cyfra21-1',\n",
              "      'entity2': 'Biomarker_Result',\n",
              "      'entity2_begin': '241',\n",
              "      'entity2_end': '250',\n",
              "      'chunk2': '2.58 ng/mL',\n",
              "      'confidence': '0.952869'},\n",
              "     {'relation': 'O',\n",
              "      'entity1': 'Biomarker_Result',\n",
              "      'entity1_begin': '201',\n",
              "      'entity1_end': '210',\n",
              "      'chunk1': '4.77 ng/mL',\n",
              "      'entity2': 'Biomarker',\n",
              "      'entity2_begin': '213',\n",
              "      'entity2_end': '215',\n",
              "      'chunk2': 'NSE',\n",
              "      'confidence': '0.9998766'},\n",
              "     {'relation': 'O',\n",
              "      'entity1': 'Biomarker_Result',\n",
              "      'entity1_begin': '201',\n",
              "      'entity1_end': '210',\n",
              "      'chunk1': '4.77 ng/mL',\n",
              "      'entity2': 'Biomarker',\n",
              "      'entity2_begin': '235',\n",
              "      'entity2_end': '238',\n",
              "      'chunk2': 'SCCA',\n",
              "      'confidence': '0.9999279'},\n",
              "     {'relation': 'is_finding_of',\n",
              "      'entity1': 'Biomarker',\n",
              "      'entity1_begin': '213',\n",
              "      'entity1_end': '215',\n",
              "      'chunk1': 'NSE',\n",
              "      'entity2': 'Biomarker_Result',\n",
              "      'entity2_begin': '218',\n",
              "      'entity2_end': '228',\n",
              "      'chunk2': '19.60 ng/mL',\n",
              "      'confidence': '0.9881728'},\n",
              "     {'relation': 'O',\n",
              "      'entity1': 'Biomarker',\n",
              "      'entity1_begin': '213',\n",
              "      'entity1_end': '215',\n",
              "      'chunk1': 'NSE',\n",
              "      'entity2': 'Biomarker_Result',\n",
              "      'entity2_begin': '241',\n",
              "      'entity2_end': '250',\n",
              "      'chunk2': '2.58 ng/mL',\n",
              "      'confidence': '0.98150694'},\n",
              "     {'relation': 'O',\n",
              "      'entity1': 'Biomarker_Result',\n",
              "      'entity1_begin': '218',\n",
              "      'entity1_end': '228',\n",
              "      'chunk1': '19.60 ng/mL',\n",
              "      'entity2': 'Biomarker',\n",
              "      'entity2_begin': '235',\n",
              "      'entity2_end': '238',\n",
              "      'chunk2': 'SCCA',\n",
              "      'confidence': '0.99992144'},\n",
              "     {'relation': 'is_finding_of',\n",
              "      'entity1': 'Biomarker',\n",
              "      'entity1_begin': '235',\n",
              "      'entity1_end': '238',\n",
              "      'chunk1': 'SCCA',\n",
              "      'entity2': 'Biomarker_Result',\n",
              "      'entity2_begin': '241',\n",
              "      'entity2_end': '250',\n",
              "      'chunk2': '2.58 ng/mL',\n",
              "      'confidence': '0.9957568'},\n",
              "     {'relation': 'is_finding_of',\n",
              "      'entity1': 'Biomarker_Result',\n",
              "      'entity1_begin': '289',\n",
              "      'entity1_end': '296',\n",
              "      'chunk1': 'positive',\n",
              "      'entity2': 'Biomarker',\n",
              "      'entity2_begin': '311',\n",
              "      'entity2_end': '315',\n",
              "      'chunk2': 'CK5/6',\n",
              "      'confidence': '0.8663684'},\n",
              "     {'relation': 'is_finding_of',\n",
              "      'entity1': 'Biomarker_Result',\n",
              "      'entity1_begin': '289',\n",
              "      'entity1_end': '296',\n",
              "      'chunk1': 'positive',\n",
              "      'entity2': 'Biomarker',\n",
              "      'entity2_begin': '318',\n",
              "      'entity2_end': '320',\n",
              "      'chunk2': 'P40',\n",
              "      'confidence': '0.8959994'},\n",
              "     {'relation': 'O',\n",
              "      'entity1': 'Biomarker_Result',\n",
              "      'entity1_begin': '289',\n",
              "      'entity1_end': '296',\n",
              "      'chunk1': 'positive',\n",
              "      'entity2': 'Biomarker',\n",
              "      'entity2_begin': '349',\n",
              "      'entity2_end': '353',\n",
              "      'chunk2': 'TTF-1',\n",
              "      'confidence': '0.9821239'},\n",
              "     {'relation': 'O',\n",
              "      'entity1': 'Biomarker_Result',\n",
              "      'entity1_begin': '289',\n",
              "      'entity1_end': '296',\n",
              "      'chunk1': 'positive',\n",
              "      'entity2': 'Biomarker',\n",
              "      'entity2_begin': '388',\n",
              "      'entity2_end': '390',\n",
              "      'chunk2': 'ALK',\n",
              "      'confidence': '0.99950695'},\n",
              "     {'relation': 'O',\n",
              "      'entity1': 'Biomarker',\n",
              "      'entity1_begin': '311',\n",
              "      'entity1_end': '315',\n",
              "      'chunk1': 'CK5/6',\n",
              "      'entity2': 'Biomarker_Result',\n",
              "      'entity2_begin': '327',\n",
              "      'entity2_end': '334',\n",
              "      'chunk2': 'negative',\n",
              "      'confidence': '0.9834041'},\n",
              "     {'relation': 'O',\n",
              "      'entity1': 'Biomarker',\n",
              "      'entity1_begin': '311',\n",
              "      'entity1_end': '315',\n",
              "      'chunk1': 'CK5/6',\n",
              "      'entity2': 'Biomarker_Result',\n",
              "      'entity2_begin': '359',\n",
              "      'entity2_end': '382',\n",
              "      'chunk2': 'weakly positive staining',\n",
              "      'confidence': '0.999496'},\n",
              "     {'relation': 'O',\n",
              "      'entity1': 'Biomarker',\n",
              "      'entity1_begin': '318',\n",
              "      'entity1_end': '320',\n",
              "      'chunk1': 'P40',\n",
              "      'entity2': 'Biomarker_Result',\n",
              "      'entity2_begin': '327',\n",
              "      'entity2_end': '334',\n",
              "      'chunk2': 'negative',\n",
              "      'confidence': '0.9339211'},\n",
              "     {'relation': 'O',\n",
              "      'entity1': 'Biomarker',\n",
              "      'entity1_begin': '318',\n",
              "      'entity1_end': '320',\n",
              "      'chunk1': 'P40',\n",
              "      'entity2': 'Biomarker_Result',\n",
              "      'entity2_begin': '359',\n",
              "      'entity2_end': '382',\n",
              "      'chunk2': 'weakly positive staining',\n",
              "      'confidence': '0.9994236'},\n",
              "     {'relation': 'is_finding_of',\n",
              "      'entity1': 'Biomarker_Result',\n",
              "      'entity1_begin': '327',\n",
              "      'entity1_end': '334',\n",
              "      'chunk1': 'negative',\n",
              "      'entity2': 'Biomarker',\n",
              "      'entity2_begin': '349',\n",
              "      'entity2_end': '353',\n",
              "      'chunk2': 'TTF-1',\n",
              "      'confidence': '0.99416393'},\n",
              "     {'relation': 'O',\n",
              "      'entity1': 'Biomarker_Result',\n",
              "      'entity1_begin': '327',\n",
              "      'entity1_end': '334',\n",
              "      'chunk1': 'negative',\n",
              "      'entity2': 'Biomarker',\n",
              "      'entity2_begin': '388',\n",
              "      'entity2_end': '390',\n",
              "      'chunk2': 'ALK',\n",
              "      'confidence': '0.85932535'},\n",
              "     {'relation': 'O',\n",
              "      'entity1': 'Biomarker',\n",
              "      'entity1_begin': '349',\n",
              "      'entity1_end': '353',\n",
              "      'chunk1': 'TTF-1',\n",
              "      'entity2': 'Biomarker_Result',\n",
              "      'entity2_begin': '359',\n",
              "      'entity2_end': '382',\n",
              "      'chunk2': 'weakly positive staining',\n",
              "      'confidence': '0.9996277'},\n",
              "     {'relation': 'is_finding_of',\n",
              "      'entity1': 'Biomarker_Result',\n",
              "      'entity1_begin': '359',\n",
              "      'entity1_end': '382',\n",
              "      'chunk1': 'weakly positive staining',\n",
              "      'entity2': 'Biomarker',\n",
              "      'entity2_begin': '388',\n",
              "      'entity2_end': '390',\n",
              "      'chunk2': 'ALK',\n",
              "      'confidence': '0.98843086'}]],\n",
              "   'summaries': [],\n",
              "   'deidentifications': [],\n",
              "   'classifications': [[{'category': '1',\n",
              "      'sentence': 'In the bone- marrow (BM) aspiration, blasts accounted for 88.1% of ANCs, which were positive for CD9 and CD10 on flow cytometry.',\n",
              "      'sentence_id': '0'},\n",
              "     {'category': '1',\n",
              "      'sentence': 'Measurements of serum tumor markers showed elevated level of Cyfra21-1: 4.77 ng/mL, NSE: 19.60 ng/mL, and SCCA: 2.58 ng/mL.',\n",
              "      'sentence_id': '1'},\n",
              "     {'category': '1',\n",
              "      'sentence': 'Immunohistochemical staining showed positive staining for CK5/6, P40, and negative staining for TTF-1 and weakly positive staining for ALK.',\n",
              "      'sentence_id': '2'}]]}]}"
            ]
          },
          "execution_count": 33,
          "metadata": {},
          "output_type": "execute_result"
        }
      ],
      "source": [
        "column_maps = {\n",
        "    \"document_identifier\": \"explain_clinical_doc_biomarker\",\n",
        "    \"document_text\": \"document\",\n",
        "    \"entities\": [\n",
        "        {\n",
        "            \"ner_chunk_column_name\": \"merged_chunk\",\n",
        "            \"assertion_column_name\": None,\n",
        "            \"resolver_column_name\": None\n",
        "        }\n",
        "    ],\n",
        "    \"relations\": [\"re_oncology_biomarker_result_wip\"],\n",
        "    \"summaries\": None,\n",
        "    \"deidentifications\": [],\n",
        "    \"classifications\":[{\n",
        "        \"classification_column_name\": \"prediction\",\n",
        "        \"sentence_column_name\": \"sentence\",\n",
        "\n",
        "    }]\n",
        "}\n",
        "\n",
        "pipeline_parser = medical.PipelineOutputParser(column_maps)\n",
        "\n",
        "parsed_result = pipeline_parser.run(results)\n",
        "parsed_result"
      ]
    },
    {
      "cell_type": "markdown",
      "metadata": {
        "id": "-T1vVSgh-YjO"
      },
      "source": [
        "## explain_clinical_doc_oncology"
      ]
    },
    {
      "cell_type": "code",
      "execution_count": 34,
      "metadata": {
        "colab": {
          "base_uri": "https://localhost:8080/"
        },
        "id": "BAX4jbmpX8ST",
        "outputId": "8f014c3a-33f0-44d0-cb94-bd5ce506b092"
      },
      "outputs": [
        {
          "name": "stdout",
          "output_type": "stream",
          "text": [
            "explain_clinical_doc_oncology download started this may take some time.\n",
            "Approx size to download 1.8 GB\n",
            "[OK!]\n"
          ]
        }
      ],
      "source": [
        "oncology_pipeline = nlp.PretrainedPipeline(\"explain_clinical_doc_oncology\", \"en\", \"clinical/models\")\n",
        "\n",
        "results = oncology_pipeline.fullAnnotate(\"\"\"The Patient underwent a computed tomography (CT) scan of the abdomen and pelvis, which showed a complex ovarian mass. A Pap smear performed one month later was positive for atypical glandular cells suspicious for adenocarcinoma. The pathologic specimen showed extension of the tumor throughout the fallopian tubes, appendix, omentum, and 5 out of 5 enlarged lymph nodes. The final pathologic diagnosis of the tumor was stage IIIC papillary serous ovarian adenocarcinoma. Two months later, the patient was diagnosed with lung metastases.Neoadjuvant chemotherapy with the regimens of Cyclophosphamide (500 mg/m2) is being given for 6 cycles with poor response\"\"\")\n"
      ]
    },
    {
      "cell_type": "code",
      "execution_count": 35,
      "metadata": {
        "colab": {
          "base_uri": "https://localhost:8080/"
        },
        "id": "vYrHEqa5-li6",
        "outputId": "261da659-6a2a-4a6d-90cd-49721caef616"
      },
      "outputs": [
        {
          "data": {
            "text/plain": [
              "{'document_identifier': 'explain_clinical_doc_oncology',\n",
              " 'document_text': 'document',\n",
              " 'entities': [{'ner_chunk_column_name': 'merged_chunk',\n",
              "   'assertion_column_name': '',\n",
              "   'resolver_column_name': ''},\n",
              "  {'ner_chunk_column_name': 'merged_chunk_for_assertion',\n",
              "   'assertion_column_name': 'assertion',\n",
              "   'resolver_column_name': ''}],\n",
              " 'relations': ['all_relations'],\n",
              " 'summaries': [],\n",
              " 'deidentifications': [],\n",
              " 'classifications': []}"
            ]
          },
          "execution_count": 35,
          "metadata": {},
          "output_type": "execute_result"
        }
      ],
      "source": [
        "pipeline_tracer = PipelineTracer(oncology_pipeline)\n",
        "\n",
        "column_maps = pipeline_tracer.createParserDictionary()\n",
        "column_maps.update({\"document_identifier\": \"explain_clinical_doc_oncology\"})\n",
        "column_maps"
      ]
    },
    {
      "cell_type": "code",
      "execution_count": 36,
      "metadata": {
        "colab": {
          "base_uri": "https://localhost:8080/"
        },
        "id": "oE03ZYuEMiNf",
        "outputId": "ae8bd5ab-f7e6-4eeb-f6ef-ebba7199e38c"
      },
      "outputs": [
        {
          "name": "stdout",
          "output_type": "stream",
          "text": [
            "{'document_identifier': 'explain_clinical_doc_oncology', 'document_text': 'document', 'entities': [{'ner_chunk_column_name': 'merged_chunk', 'assertion_column_name': '', 'resolver_column_name': ''}, {'ner_chunk_column_name': 'merged_chunk_for_assertion', 'assertion_column_name': 'assertion', 'resolver_column_name': ''}], 'relations': ['all_relations'], 'summaries': [], 'deidentifications': [], 'classifications': []}\n"
          ]
        }
      ],
      "source": [
        "print(column_maps)"
      ]
    },
    {
      "cell_type": "code",
      "execution_count": 37,
      "metadata": {
        "colab": {
          "base_uri": "https://localhost:8080/"
        },
        "id": "nmpEUCvm-lgW",
        "outputId": "72c6ea48-cbd5-47a4-dcc5-8239cf7f6a99"
      },
      "outputs": [
        {
          "data": {
            "text/plain": [
              "{'document_identifier': 'explain_clinical_doc_oncology',\n",
              " 'document_text': 'document',\n",
              " 'entities': [{'ner_chunk_column_name': 'merged_chunk_for_assertion',\n",
              "   'assertion_column_name': 'assertion',\n",
              "   'resolver_column_name': ''},\n",
              "  {'ner_chunk_column_name': 'merged_chunk',\n",
              "   'assertion_column_name': '',\n",
              "   'resolver_column_name': ''}],\n",
              " 'relations': ['all_relations'],\n",
              " 'summaries': [],\n",
              " 'deidentifications': [],\n",
              " 'classifications': []}"
            ]
          },
          "execution_count": 37,
          "metadata": {},
          "output_type": "execute_result"
        }
      ],
      "source": [
        "columns_directly = PipelineTracer.getParserDictDirectly(\"explain_clinical_doc_oncology\", \"en\", \"clinical/models\")\n",
        "columns_directly"
      ]
    },
    {
      "cell_type": "code",
      "execution_count": 38,
      "metadata": {
        "colab": {
          "base_uri": "https://localhost:8080/"
        },
        "id": "1T5VLU4k-ldc",
        "outputId": "029697b1-9bde-4abf-fea1-bb5d7117d8f1"
      },
      "outputs": [
        {
          "data": {
            "text/plain": [
              "{'result': [{'document_identifier': 'explain_clinical_doc_oncology',\n",
              "   'document_text': ['The Patient underwent a computed tomography (CT) scan of the abdomen and pelvis, which showed a complex ovarian mass. A Pap smear performed one month later was positive for atypical glandular cells suspicious for adenocarcinoma. The pathologic specimen showed extension of the tumor throughout the fallopian tubes, appendix, omentum, and 5 out of 5 enlarged lymph nodes. The final pathologic diagnosis of the tumor was stage IIIC papillary serous ovarian adenocarcinoma. Two months later, the patient was diagnosed with lung metastases.Neoadjuvant chemotherapy with the regimens of Cyclophosphamide (500 mg/m2) is being given for 6 cycles with poor response'],\n",
              "   'entities': [[{'chunk_id': '0',\n",
              "      'begin': 24,\n",
              "      'end': 42,\n",
              "      'chunk': 'computed tomography',\n",
              "      'label': 'Imaging_Test',\n",
              "      'assertion': None,\n",
              "      'term_code': None},\n",
              "     {'chunk_id': '1',\n",
              "      'begin': 45,\n",
              "      'end': 46,\n",
              "      'chunk': 'CT',\n",
              "      'label': 'Imaging_Test',\n",
              "      'assertion': None,\n",
              "      'term_code': None},\n",
              "     {'chunk_id': '2',\n",
              "      'begin': 61,\n",
              "      'end': 67,\n",
              "      'chunk': 'abdomen',\n",
              "      'label': 'Site_Other_Body_Part',\n",
              "      'assertion': None,\n",
              "      'term_code': None},\n",
              "     {'chunk_id': '3',\n",
              "      'begin': 73,\n",
              "      'end': 78,\n",
              "      'chunk': 'pelvis',\n",
              "      'label': 'Site_Other_Body_Part',\n",
              "      'assertion': None,\n",
              "      'term_code': None},\n",
              "     {'chunk_id': '4',\n",
              "      'begin': 104,\n",
              "      'end': 110,\n",
              "      'chunk': 'ovarian',\n",
              "      'label': 'Site_Other_Body_Part',\n",
              "      'assertion': None,\n",
              "      'term_code': None},\n",
              "     {'chunk_id': '5',\n",
              "      'begin': 112,\n",
              "      'end': 115,\n",
              "      'chunk': 'mass',\n",
              "      'label': 'Tumor_Finding',\n",
              "      'assertion': None,\n",
              "      'term_code': None},\n",
              "     {'chunk_id': '6',\n",
              "      'begin': 120,\n",
              "      'end': 128,\n",
              "      'chunk': 'Pap smear',\n",
              "      'label': 'Pathology_Test',\n",
              "      'assertion': None,\n",
              "      'term_code': None},\n",
              "     {'chunk_id': '7',\n",
              "      'begin': 140,\n",
              "      'end': 154,\n",
              "      'chunk': 'one month later',\n",
              "      'label': 'Relative_Date',\n",
              "      'assertion': None,\n",
              "      'term_code': None},\n",
              "     {'chunk_id': '8',\n",
              "      'begin': 173,\n",
              "      'end': 196,\n",
              "      'chunk': 'atypical glandular cells',\n",
              "      'label': 'Pathology_Result',\n",
              "      'assertion': None,\n",
              "      'term_code': None},\n",
              "     {'chunk_id': '9',\n",
              "      'begin': 213,\n",
              "      'end': 226,\n",
              "      'chunk': 'adenocarcinoma',\n",
              "      'label': 'Cancer_Dx',\n",
              "      'assertion': None,\n",
              "      'term_code': None},\n",
              "     {'chunk_id': '10',\n",
              "      'begin': 233,\n",
              "      'end': 251,\n",
              "      'chunk': 'pathologic specimen',\n",
              "      'label': 'Pathology_Test',\n",
              "      'assertion': None,\n",
              "      'term_code': None},\n",
              "     {'chunk_id': '11',\n",
              "      'begin': 260,\n",
              "      'end': 268,\n",
              "      'chunk': 'extension',\n",
              "      'label': 'Invasion',\n",
              "      'assertion': None,\n",
              "      'term_code': None},\n",
              "     {'chunk_id': '12',\n",
              "      'begin': 277,\n",
              "      'end': 281,\n",
              "      'chunk': 'tumor',\n",
              "      'label': 'Tumor_Finding',\n",
              "      'assertion': None,\n",
              "      'term_code': None},\n",
              "     {'chunk_id': '13',\n",
              "      'begin': 298,\n",
              "      'end': 312,\n",
              "      'chunk': 'fallopian tubes',\n",
              "      'label': 'Site_Other_Body_Part',\n",
              "      'assertion': None,\n",
              "      'term_code': None},\n",
              "     {'chunk_id': '14',\n",
              "      'begin': 315,\n",
              "      'end': 322,\n",
              "      'chunk': 'appendix',\n",
              "      'label': 'Site_Other_Body_Part',\n",
              "      'assertion': None,\n",
              "      'term_code': None},\n",
              "     {'chunk_id': '15',\n",
              "      'begin': 325,\n",
              "      'end': 331,\n",
              "      'chunk': 'omentum',\n",
              "      'label': 'Site_Other_Body_Part',\n",
              "      'assertion': None,\n",
              "      'term_code': None},\n",
              "     {'chunk_id': '16',\n",
              "      'begin': 349,\n",
              "      'end': 356,\n",
              "      'chunk': 'enlarged',\n",
              "      'label': 'Lymph_Node_Modifier',\n",
              "      'assertion': None,\n",
              "      'term_code': None},\n",
              "     {'chunk_id': '17',\n",
              "      'begin': 358,\n",
              "      'end': 368,\n",
              "      'chunk': 'lymph nodes',\n",
              "      'label': 'Site_Lymph_Node',\n",
              "      'assertion': None,\n",
              "      'term_code': None},\n",
              "     {'chunk_id': '18',\n",
              "      'begin': 409,\n",
              "      'end': 413,\n",
              "      'chunk': 'tumor',\n",
              "      'label': 'Tumor_Finding',\n",
              "      'assertion': None,\n",
              "      'term_code': None},\n",
              "     {'chunk_id': '19',\n",
              "      'begin': 419,\n",
              "      'end': 428,\n",
              "      'chunk': 'stage IIIC',\n",
              "      'label': 'Staging',\n",
              "      'assertion': None,\n",
              "      'term_code': None},\n",
              "     {'chunk_id': '20',\n",
              "      'begin': 430,\n",
              "      'end': 468,\n",
              "      'chunk': 'papillary serous ovarian adenocarcinoma',\n",
              "      'label': 'Oncological',\n",
              "      'assertion': None,\n",
              "      'term_code': None},\n",
              "     {'chunk_id': '21',\n",
              "      'begin': 471,\n",
              "      'end': 486,\n",
              "      'chunk': 'Two months later',\n",
              "      'label': 'Relative_Date',\n",
              "      'assertion': None,\n",
              "      'term_code': None},\n",
              "     {'chunk_id': '22',\n",
              "      'begin': 520,\n",
              "      'end': 534,\n",
              "      'chunk': 'lung metastases',\n",
              "      'label': 'Oncological',\n",
              "      'assertion': None,\n",
              "      'term_code': None},\n",
              "     {'chunk_id': '23',\n",
              "      'begin': 536,\n",
              "      'end': 559,\n",
              "      'chunk': 'Neoadjuvant chemotherapy',\n",
              "      'label': 'Chemotherapy',\n",
              "      'assertion': None,\n",
              "      'term_code': None},\n",
              "     {'chunk_id': '24',\n",
              "      'begin': 582,\n",
              "      'end': 597,\n",
              "      'chunk': 'Cyclophosphamide',\n",
              "      'label': 'Chemotherapy',\n",
              "      'assertion': None,\n",
              "      'term_code': None},\n",
              "     {'chunk_id': '25',\n",
              "      'begin': 600,\n",
              "      'end': 608,\n",
              "      'chunk': '500 mg/m2',\n",
              "      'label': 'Dosage',\n",
              "      'assertion': None,\n",
              "      'term_code': None},\n",
              "     {'chunk_id': '26',\n",
              "      'begin': 630,\n",
              "      'end': 637,\n",
              "      'chunk': '6 cycles',\n",
              "      'label': 'Cycle_Count',\n",
              "      'assertion': None,\n",
              "      'term_code': None},\n",
              "     {'chunk_id': '27',\n",
              "      'begin': 644,\n",
              "      'end': 656,\n",
              "      'chunk': 'poor response',\n",
              "      'label': 'Response_To_Treatment',\n",
              "      'assertion': None,\n",
              "      'term_code': None}],\n",
              "    [{'chunk_id': '0',\n",
              "      'begin': 24,\n",
              "      'end': 42,\n",
              "      'chunk': 'computed tomography',\n",
              "      'label': 'Imaging_Test',\n",
              "      'assertion': 'Past',\n",
              "      'term_code': None},\n",
              "     {'chunk_id': '1',\n",
              "      'begin': 45,\n",
              "      'end': 46,\n",
              "      'chunk': 'CT',\n",
              "      'label': 'Imaging_Test',\n",
              "      'assertion': 'Past',\n",
              "      'term_code': None},\n",
              "     {'chunk_id': '2',\n",
              "      'begin': 112,\n",
              "      'end': 115,\n",
              "      'chunk': 'mass',\n",
              "      'label': 'Tumor_Finding',\n",
              "      'assertion': 'Present',\n",
              "      'term_code': None},\n",
              "     {'chunk_id': '3',\n",
              "      'begin': 120,\n",
              "      'end': 128,\n",
              "      'chunk': 'Pap smear',\n",
              "      'label': 'Pathology_Test',\n",
              "      'assertion': 'Past',\n",
              "      'term_code': None},\n",
              "     {'chunk_id': '4',\n",
              "      'begin': 173,\n",
              "      'end': 196,\n",
              "      'chunk': 'atypical glandular cells',\n",
              "      'label': 'Pathology_Result',\n",
              "      'assertion': 'Present',\n",
              "      'term_code': None},\n",
              "     {'chunk_id': '5',\n",
              "      'begin': 213,\n",
              "      'end': 226,\n",
              "      'chunk': 'adenocarcinoma',\n",
              "      'label': 'Cancer_Dx',\n",
              "      'assertion': 'Possible',\n",
              "      'term_code': None},\n",
              "     {'chunk_id': '6',\n",
              "      'begin': 233,\n",
              "      'end': 251,\n",
              "      'chunk': 'pathologic specimen',\n",
              "      'label': 'Pathology_Test',\n",
              "      'assertion': 'Past',\n",
              "      'term_code': None},\n",
              "     {'chunk_id': '7',\n",
              "      'begin': 260,\n",
              "      'end': 268,\n",
              "      'chunk': 'extension',\n",
              "      'label': 'Invasion',\n",
              "      'assertion': 'Present',\n",
              "      'term_code': None},\n",
              "     {'chunk_id': '8',\n",
              "      'begin': 277,\n",
              "      'end': 281,\n",
              "      'chunk': 'tumor',\n",
              "      'label': 'Tumor_Finding',\n",
              "      'assertion': 'Present',\n",
              "      'term_code': None},\n",
              "     {'chunk_id': '9',\n",
              "      'begin': 349,\n",
              "      'end': 356,\n",
              "      'chunk': 'enlarged',\n",
              "      'label': 'Lymph_Node_Modifier',\n",
              "      'assertion': 'Present',\n",
              "      'term_code': None},\n",
              "     {'chunk_id': '10',\n",
              "      'begin': 409,\n",
              "      'end': 413,\n",
              "      'chunk': 'tumor',\n",
              "      'label': 'Tumor_Finding',\n",
              "      'assertion': 'Present',\n",
              "      'term_code': None},\n",
              "     {'chunk_id': '11',\n",
              "      'begin': 430,\n",
              "      'end': 468,\n",
              "      'chunk': 'papillary serous ovarian adenocarcinoma',\n",
              "      'label': 'Oncological',\n",
              "      'assertion': 'Present',\n",
              "      'term_code': None},\n",
              "     {'chunk_id': '12',\n",
              "      'begin': 520,\n",
              "      'end': 534,\n",
              "      'chunk': 'lung metastases',\n",
              "      'label': 'Oncological',\n",
              "      'assertion': 'Present',\n",
              "      'term_code': None},\n",
              "     {'chunk_id': '13',\n",
              "      'begin': 536,\n",
              "      'end': 559,\n",
              "      'chunk': 'Neoadjuvant chemotherapy',\n",
              "      'label': 'Chemotherapy',\n",
              "      'assertion': 'Present',\n",
              "      'term_code': None},\n",
              "     {'chunk_id': '14',\n",
              "      'begin': 582,\n",
              "      'end': 597,\n",
              "      'chunk': 'Cyclophosphamide',\n",
              "      'label': 'Chemotherapy',\n",
              "      'assertion': 'Present',\n",
              "      'term_code': None},\n",
              "     {'chunk_id': '15',\n",
              "      'begin': 630,\n",
              "      'end': 637,\n",
              "      'chunk': '6 cycles',\n",
              "      'label': 'Cycle_Count',\n",
              "      'assertion': 'Present',\n",
              "      'term_code': None}]],\n",
              "   'relations': [[{'relation': 'O',\n",
              "      'entity1': 'Site_Other_Body_Part',\n",
              "      'entity1_begin': '61',\n",
              "      'entity1_end': '67',\n",
              "      'chunk1': 'abdomen',\n",
              "      'entity2': 'Tumor_Finding',\n",
              "      'entity2_begin': '112',\n",
              "      'entity2_end': '115',\n",
              "      'chunk2': 'mass',\n",
              "      'confidence': '0.9439166'},\n",
              "     {'relation': 'O',\n",
              "      'entity1': 'Site_Other_Body_Part',\n",
              "      'entity1_begin': '73',\n",
              "      'entity1_end': '78',\n",
              "      'chunk1': 'pelvis',\n",
              "      'entity2': 'Tumor_Finding',\n",
              "      'entity2_begin': '112',\n",
              "      'entity2_end': '115',\n",
              "      'chunk2': 'mass',\n",
              "      'confidence': '0.9611397'},\n",
              "     {'relation': 'is_location_of',\n",
              "      'entity1': 'Site_Other_Body_Part',\n",
              "      'entity1_begin': '104',\n",
              "      'entity1_end': '110',\n",
              "      'chunk1': 'ovarian',\n",
              "      'entity2': 'Tumor_Finding',\n",
              "      'entity2_begin': '112',\n",
              "      'entity2_end': '115',\n",
              "      'chunk2': 'mass',\n",
              "      'confidence': '0.922661'},\n",
              "     {'relation': 'is_finding_of',\n",
              "      'entity1': 'Pathology_Test',\n",
              "      'entity1_begin': '120',\n",
              "      'entity1_end': '128',\n",
              "      'chunk1': 'Pap smear',\n",
              "      'entity2': 'Cancer_Dx',\n",
              "      'entity2_begin': '213',\n",
              "      'entity2_end': '226',\n",
              "      'chunk2': 'adenocarcinoma',\n",
              "      'confidence': '0.52542114'},\n",
              "     {'relation': 'is_location_of',\n",
              "      'entity1': 'Tumor_Finding',\n",
              "      'entity1_begin': '277',\n",
              "      'entity1_end': '281',\n",
              "      'chunk1': 'tumor',\n",
              "      'entity2': 'Site_Other_Body_Part',\n",
              "      'entity2_begin': '298',\n",
              "      'entity2_end': '312',\n",
              "      'chunk2': 'fallopian tubes',\n",
              "      'confidence': '0.9026299'},\n",
              "     {'relation': 'is_location_of',\n",
              "      'entity1': 'Tumor_Finding',\n",
              "      'entity1_begin': '277',\n",
              "      'entity1_end': '281',\n",
              "      'chunk1': 'tumor',\n",
              "      'entity2': 'Site_Other_Body_Part',\n",
              "      'entity2_begin': '315',\n",
              "      'entity2_end': '322',\n",
              "      'chunk2': 'appendix',\n",
              "      'confidence': '0.6649267'},\n",
              "     {'relation': 'O',\n",
              "      'entity1': 'Tumor_Finding',\n",
              "      'entity1_begin': '277',\n",
              "      'entity1_end': '281',\n",
              "      'chunk1': 'tumor',\n",
              "      'entity2': 'Site_Other_Body_Part',\n",
              "      'entity2_begin': '325',\n",
              "      'entity2_end': '331',\n",
              "      'chunk2': 'omentum',\n",
              "      'confidence': '0.80328876'},\n",
              "     {'relation': 'Chemotherapy-Dosage',\n",
              "      'entity1': 'Chemotherapy',\n",
              "      'entity1_begin': '536',\n",
              "      'entity1_end': '559',\n",
              "      'chunk1': 'Neoadjuvant chemotherapy',\n",
              "      'entity2': 'Dosage',\n",
              "      'entity2_begin': '600',\n",
              "      'entity2_end': '608',\n",
              "      'chunk2': '500 mg/m2',\n",
              "      'confidence': '1.0'},\n",
              "     {'relation': 'Chemotherapy-Cycle_Count',\n",
              "      'entity1': 'Chemotherapy',\n",
              "      'entity1_begin': '536',\n",
              "      'entity1_end': '559',\n",
              "      'chunk1': 'Neoadjuvant chemotherapy',\n",
              "      'entity2': 'Cycle_Count',\n",
              "      'entity2_begin': '630',\n",
              "      'entity2_end': '637',\n",
              "      'chunk2': '6 cycles',\n",
              "      'confidence': '1.0'},\n",
              "     {'relation': 'Chemotherapy-Dosage',\n",
              "      'entity1': 'Chemotherapy',\n",
              "      'entity1_begin': '582',\n",
              "      'entity1_end': '597',\n",
              "      'chunk1': 'Cyclophosphamide',\n",
              "      'entity2': 'Dosage',\n",
              "      'entity2_begin': '600',\n",
              "      'entity2_end': '608',\n",
              "      'chunk2': '500 mg/m2',\n",
              "      'confidence': '1.0'},\n",
              "     {'relation': 'Chemotherapy-Cycle_Count',\n",
              "      'entity1': 'Chemotherapy',\n",
              "      'entity1_begin': '582',\n",
              "      'entity1_end': '597',\n",
              "      'chunk1': 'Cyclophosphamide',\n",
              "      'entity2': 'Cycle_Count',\n",
              "      'entity2_begin': '630',\n",
              "      'entity2_end': '637',\n",
              "      'chunk2': '6 cycles',\n",
              "      'confidence': '1.0'}]],\n",
              "   'summaries': [],\n",
              "   'deidentifications': [],\n",
              "   'classifications': []}]}"
            ]
          },
          "execution_count": 38,
          "metadata": {},
          "output_type": "execute_result"
        }
      ],
      "source": [
        "pipeline_parser = medical.PipelineOutputParser(column_maps)\n",
        "result = pipeline_parser.run(results)\n",
        "\n",
        "result"
      ]
    }
  ],
  "metadata": {
    "colab": {
      "machine_shape": "hm",
      "provenance": [],
      "toc_visible": true
    },
    "kernelspec": {
      "display_name": "Python 3",
      "name": "python3"
    },
    "language_info": {
      "codemirror_mode": {
        "name": "ipython",
        "version": 3
      },
      "file_extension": ".py",
      "mimetype": "text/x-python",
      "name": "python",
      "nbconvert_exporter": "python",
      "pygments_lexer": "ipython3",
      "version": "undefined.undefined.undefined"
    }
  },
  "nbformat": 4,
  "nbformat_minor": 0
}

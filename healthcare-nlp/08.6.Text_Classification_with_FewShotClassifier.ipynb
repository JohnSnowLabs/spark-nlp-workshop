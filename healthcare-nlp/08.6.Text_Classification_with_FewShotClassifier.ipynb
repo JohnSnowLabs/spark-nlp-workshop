{
  "cells": [
    {
      "cell_type": "markdown",
      "metadata": {
        "id": "I08sFJYCxR0Z"
      },
      "source": [
        "![JohnSnowLabs](https://nlp.johnsnowlabs.com/assets/images/logo.png)"
      ]
    },
    {
      "cell_type": "markdown",
      "metadata": {
        "id": "FwJ-P56kq6FU"
      },
      "source": [
        "[![Open In Colab](https://colab.research.google.com/assets/colab-badge.svg)](https://colab.research.google.com/github/JohnSnowLabs/spark-nlp-workshop/blob/master/healthcare-nlp/08.6.Text_Classification_with_FewShotClassifier.ipynb)"
      ]
    },
    {
      "cell_type": "markdown",
      "metadata": {
        "id": "DswHLT5m0F7t"
      },
      "source": [
        "## Colab Setup"
      ]
    },
    {
      "cell_type": "code",
      "execution_count": null,
      "metadata": {
        "id": "ELqzaf32MT6E"
      },
      "outputs": [],
      "source": [
        "# Install the johnsnowlabs library to access Spark-OCR and Spark-NLP for Healthcare, Finance, and Legal.\n",
        "! pip install -q johnsnowlabs"
      ]
    },
    {
      "cell_type": "code",
      "execution_count": null,
      "metadata": {
        "id": "RO2dIA414yL_"
      },
      "outputs": [],
      "source": [
        "from google.colab import files\n",
        "print('Please Upload your John Snow Labs License using the button below')\n",
        "license_keys = files.upload()"
      ]
    },
    {
      "cell_type": "code",
      "execution_count": null,
      "metadata": {
        "id": "dmcB5zVBHZO8"
      },
      "outputs": [],
      "source": [
        "from johnsnowlabs import nlp, medical\n",
        "\n",
        "# After uploading your license run this to install all licensed Python Wheels and pre-download Jars the Spark Session JVM\n",
        "nlp.settings.enforce_versions=True\n",
        "nlp.install(refresh_install=True)"
      ]
    },
    {
      "cell_type": "code",
      "execution_count": null,
      "metadata": {
        "id": "VuUopTuyQd7v"
      },
      "outputs": [],
      "source": [
        "from johnsnowlabs import nlp, medical\n",
        "import pandas as pd\n",
        "import warnings\n",
        "warnings.filterwarnings('ignore')\n",
        "\n",
        "# Automatically load license data and start a session with all jars user has access to\n",
        "spark = nlp.start()\n"
      ]
    },
    {
      "cell_type": "code",
      "execution_count": 5,
      "metadata": {
        "colab": {
          "base_uri": "https://localhost:8080/",
          "height": 222
        },
        "id": "W7Q10-ARUA4m",
        "outputId": "9fe6fece-aa5c-4f28-a0f1-55ececb27c4f"
      },
      "outputs": [
        {
          "output_type": "execute_result",
          "data": {
            "text/plain": [
              "<pyspark.sql.session.SparkSession at 0x7b5483a4ad50>"
            ],
            "text/html": [
              "\n",
              "            <div>\n",
              "                <p><b>SparkSession - in-memory</b></p>\n",
              "                \n",
              "        <div>\n",
              "            <p><b>SparkContext</b></p>\n",
              "\n",
              "            <p><a href=\"http://d3a1421bda75:4040\">Spark UI</a></p>\n",
              "\n",
              "            <dl>\n",
              "              <dt>Version</dt>\n",
              "                <dd><code>v3.4.0</code></dd>\n",
              "              <dt>Master</dt>\n",
              "                <dd><code>local[*]</code></dd>\n",
              "              <dt>AppName</dt>\n",
              "                <dd><code>John-Snow-Labs-Spark-Session 🚀 with Jars for: 🚀Spark-NLP==6.1.3, 💊Spark-Healthcare==6.1.1, running on ⚡ PySpark==3.4.0</code></dd>\n",
              "            </dl>\n",
              "        </div>\n",
              "        \n",
              "            </div>\n",
              "        "
            ]
          },
          "metadata": {},
          "execution_count": 5
        }
      ],
      "source": [
        "spark"
      ]
    },
    {
      "cell_type": "code",
      "execution_count": null,
      "metadata": {
        "id": "ZHfvDVl2_BVn"
      },
      "outputs": [],
      "source": [
        "!pip install -q git+https://github.com/tensorflow/addons.git"
      ]
    },
    {
      "cell_type": "code",
      "execution_count": 14,
      "metadata": {
        "id": "64ha-hAkBeFN"
      },
      "outputs": [],
      "source": [
        "from pyspark.sql import DataFrame\n",
        "import pyspark.sql.functions as F\n",
        "import pyspark.sql.types as T\n",
        "import pyspark.sql as SQL\n",
        "from pyspark import keyword_only\n",
        "from sklearn.metrics import classification_report"
      ]
    },
    {
      "cell_type": "markdown",
      "metadata": {
        "id": "ca0HOJm_IUFP"
      },
      "source": [
        "## Healthcare NLP for Data Scientists Course\n",
        "\n",
        "If you are not familiar with the components in this notebook, you can check [Healthcare NLP for Data Scientists Udemy Course](https://www.udemy.com/course/healthcare-nlp-for-data-scientists/) and the [MOOC Notebooks](https://github.com/JohnSnowLabs/spark-nlp-workshop/tree/master/Spark_NLP_Udemy_MOOC/Healthcare_NLP) for each components."
      ]
    },
    {
      "cell_type": "markdown",
      "metadata": {
        "id": "-b5g8T8PC5CO"
      },
      "source": [
        "# Few Shot Classification"
      ]
    },
    {
      "cell_type": "markdown",
      "metadata": {
        "id": "ehEmX2X3NexI"
      },
      "source": [
        "The `FewShotClassifierApproach` and `FewShotClassifierModel` annotators are new additions to the set of annotators available in the NLP library. These annotators specifically target few-shot classification tasks, which involve training a model to make accurate predictions with limited labeled data.\n",
        "\n",
        "These new annotators provide a valuable capability for handling scenarios where labeled data is scarce or expensive to obtain. By effectively utilizing limited labeled examples, the few-shot classification approach enables the creation of models that can generalize and classify new instances accurately, even with minimal training data.\n",
        "\n",
        "The FewShotClassifier is designed to process sentence embeddings as input. It generates category annotations, providing labels along with confidence scores that range from 0 to 1. Input annotation types supported by this model include `SENTENCE_EMBEDDINGS`, while the output annotation type is `CATEGORY`."
      ]
    },
    {
      "cell_type": "code",
      "execution_count": 15,
      "metadata": {
        "id": "jwrBclWKXHwK"
      },
      "outputs": [],
      "source": [
        "data = [\n",
        "    [\"ADE_positive\", 'Both PAN and methotrexate have been independently demonstrated to cause sensorineural hearing loss.'],\n",
        "    [\"ADE_positive\", 'Increased lash length, thickness, and pigmentation are well-documented side effects of prostaglandin analog glaucoma drops.'],\n",
        "    [\"ADE_positive\", 'We reviewed the records of 3 patients with lymphoproliferative disorders who experienced acute coronary syndromes associated with their initial infusion of rituximab.'],\n",
        "    [\"ADE_positive\", 'A 58-year-old woman with rheumatoid arthritis (RA) developed fever, skin eruptions, leukocytopenia, and thrombocytopenia, 3 weeks after treatment with sulfasalazine.'],\n",
        "    [\"ADE_positive\", 'Adrenal suppression in a fetus due to administration of methylprednisolone has hitherto been rarely published.'],\n",
        "    [\"ADE_negative\", 'Serum concentration of cerivastatin at 6 h after taking the last dose (0.15 mg) was 8062.5 ng/L, which was almost 5.7 times higher than that of normal persons.'],\n",
        "    [\"ADE_negative\", 'The usual treatment includes quick relief bronchodilator medications of the sympathomimetic class and controller medications that may include the long-acting inhaled bronchodilator salmeterol.'],\n",
        "    [\"ADE_negative\", 'Pathogenic mechanisms for the development of pseudomembranous colitis and the epidemiology of this condition in patients with AIDS are discussed.'],\n",
        "    [\"ADE_negative\", 'On the basis of the clinico-radiologic presentation, a pulmonary hemorrhage was likely to occur; so to clarify the origin of this process, a complete serologic examination was performed but all the antibodies were negative.'],\n",
        "    [\"ADE_negative\", 'I report a patient who developed the syndrome during treatment for schizophrenia with the antipsychotic agent molindone hydrochloride.']\n",
        "]"
      ]
    },
    {
      "cell_type": "code",
      "execution_count": 16,
      "metadata": {
        "colab": {
          "base_uri": "https://localhost:8080/"
        },
        "id": "c446a284-9507-4c64-a023-f7099b0f36d8",
        "outputId": "0bfc85cc-8739-44c0-8e84-39b3e63dbdc3"
      },
      "outputs": [
        {
          "output_type": "stream",
          "name": "stdout",
          "text": [
            "+------------+----------------------------------------------------------------------------------------------------+\n",
            "|       label|                                                                                                text|\n",
            "+------------+----------------------------------------------------------------------------------------------------+\n",
            "|ADE_positive| Both PAN and methotrexate have been independently demonstrated to cause sensorineural hearing loss.|\n",
            "|ADE_positive|Increased lash length, thickness, and pigmentation are well-documented side effects of prostaglan...|\n",
            "|ADE_positive|We reviewed the records of 3 patients with lymphoproliferative disorders who experienced acute co...|\n",
            "|ADE_positive|A 58-year-old woman with rheumatoid arthritis (RA) developed fever, skin eruptions, leukocytopeni...|\n",
            "|ADE_positive|Adrenal suppression in a fetus due to administration of methylprednisolone has hitherto been rare...|\n",
            "|ADE_negative|Serum concentration of cerivastatin at 6 h after taking the last dose (0.15 mg) was 8062.5 ng/L, ...|\n",
            "|ADE_negative|The usual treatment includes quick relief bronchodilator medications of the sympathomimetic class...|\n",
            "|ADE_negative|Pathogenic mechanisms for the development of pseudomembranous colitis and the epidemiology of thi...|\n",
            "|ADE_negative|On the basis of the clinico-radiologic presentation, a pulmonary hemorrhage was likely to occur; ...|\n",
            "|ADE_negative|I report a patient who developed the syndrome during treatment for schizophrenia with the antipsy...|\n",
            "+------------+----------------------------------------------------------------------------------------------------+\n",
            "\n"
          ]
        }
      ],
      "source": [
        "train_data = spark.createDataFrame(data).toDF(\"label\",\"text\")\n",
        "train_data.show(truncate=100)"
      ]
    },
    {
      "cell_type": "code",
      "execution_count": 17,
      "metadata": {
        "colab": {
          "base_uri": "https://localhost:8080/"
        },
        "id": "c7e1534d-d23d-4dde-8e72-1b20153035e7",
        "outputId": "5d8525a4-d1d0-4bad-ccff-af9dad57094f"
      },
      "outputs": [
        {
          "output_type": "stream",
          "name": "stdout",
          "text": [
            "sbiobert_base_cased_mli download started this may take some time.\n",
            "Approximate size to download 384.3 MB\n",
            "[OK!]\n"
          ]
        }
      ],
      "source": [
        "document_asm = nlp.DocumentAssembler()\\\n",
        "    .setInputCol(\"text\")\\\n",
        "    .setOutputCol(\"sentence\")\n",
        "\n",
        "sentence_embeddings = nlp.BertSentenceEmbeddings\\\n",
        "    .pretrained(\"sbiobert_base_cased_mli\",\"en\",\"clinical/models\")\\\n",
        "    .setInputCols([\"sentence\"])\\\n",
        "    .setOutputCol(\"sentence_embeddings\")\n",
        "\n",
        "graph_builder = medical.TFGraphBuilder()\\\n",
        "    .setModelName(\"fewshot_classifier\")\\\n",
        "    .setInputCols([\"sentence_embeddings\"]) \\\n",
        "    .setLabelColumn(\"label\")\\\n",
        "    .setGraphFolder(\"/tmp\")\\\n",
        "    .setGraphFile(\"log_reg_graph.pb\")\\\n",
        "\n",
        "few_shot_approach = medical.FewShotClassifierApproach()\\\n",
        "    .setLabelColumn(\"label\")\\\n",
        "    .setInputCols([\"sentence_embeddings\"])\\\n",
        "    .setOutputCol(\"prediction\")\\\n",
        "    .setModelFile(f\"/tmp/log_reg_graph.pb\")\\\n",
        "    .setEpochsNumber(10)\\\n",
        "    .setBatchSize(1)\\\n",
        "    .setLearningRate(0.001)\n",
        "\n",
        "pipeline = nlp.Pipeline(\n",
        "    stages=[\n",
        "        document_asm,\n",
        "        sentence_embeddings,\n",
        "        graph_builder,\n",
        "        few_shot_approach\n",
        "])"
      ]
    },
    {
      "cell_type": "code",
      "execution_count": 18,
      "metadata": {
        "colab": {
          "base_uri": "https://localhost:8080/"
        },
        "id": "b67e226a-633a-4569-9613-0a7787b65f40",
        "outputId": "708b2669-2f7d-4aa1-e81c-1eb83f0a0762"
      },
      "outputs": [
        {
          "output_type": "stream",
          "name": "stdout",
          "text": [
            "TF Graph Builder configuration:\n",
            "Model name: fewshot_classifier\n",
            "Graph folder: /tmp\n",
            "Graph file name: log_reg_graph.pb\n",
            "Build params: {'input_dim': 768, 'output_dim': 2, 'hidden_layers': [], 'output_act': 'sigmoid'}\n",
            "fewshot_classifier graph exported to /tmp/log_reg_graph.pb\n",
            "CPU times: user 302 ms, sys: 28.8 ms, total: 331 ms\n",
            "Wall time: 4.75 s\n"
          ]
        }
      ],
      "source": [
        "%%time\n",
        "model = pipeline.fit(train_data)"
      ]
    },
    {
      "cell_type": "code",
      "execution_count": 19,
      "metadata": {
        "id": "7ceb7a0a-31ed-4763-a314-fd3dbc19db75"
      },
      "outputs": [],
      "source": [
        "model.stages[-1].write().overwrite().save(\"/tmp/few_shot_model\")"
      ]
    },
    {
      "cell_type": "code",
      "execution_count": 20,
      "metadata": {
        "id": "826cb97b-25ac-4f3c-b927-6cd1deb6d2f0"
      },
      "outputs": [],
      "source": [
        "few_shot_model = medical.FewShotClassifierModel.load(\"/tmp/few_shot_model\")"
      ]
    },
    {
      "cell_type": "markdown",
      "metadata": {
        "id": "lGmkN7YJ8yA9"
      },
      "source": [
        "## with LightPipeline"
      ]
    },
    {
      "cell_type": "code",
      "execution_count": 21,
      "metadata": {
        "id": "9a8a6b0f-e3a1-4dbc-bf5c-bfa8a9cbe510"
      },
      "outputs": [],
      "source": [
        "lpipeline = nlp.LightPipeline(nlp.Pipeline(\n",
        "                stages=[\n",
        "                    document_asm,\n",
        "                    sentence_embeddings,\n",
        "                    few_shot_model.setMultiClass(False)\n",
        "                ]).fit(train_data))"
      ]
    },
    {
      "cell_type": "code",
      "execution_count": 22,
      "metadata": {
        "id": "4d676717-7ba2-4653-9688-bdb327b6dcdd"
      },
      "outputs": [],
      "source": [
        "tests = [\n",
        "    'Bleomycin pneumonitis potentiated by oxygen administration.',\n",
        "    'Enzymes derived from two different bacterial sources (Escherichia coli and Erwinia carotovora) are in common use.',\n",
        "    'These cases and others quoted indicate that dependence on pressurized aerosol bronchodilators can and does occur in young people.',\n",
        "    'PVT during chemotherapy in children is a rare event and appears to be closely related to intensive chemotherapy containing busulfan and to be associated with HVOD.',\n",
        "]"
      ]
    },
    {
      "cell_type": "code",
      "execution_count": 23,
      "metadata": {
        "colab": {
          "base_uri": "https://localhost:8080/"
        },
        "id": "8ddc3469-75c8-4020-9970-7eca8c9a5e7a",
        "outputId": "02498142-5c8b-4701-cf29-865586e440ce"
      },
      "outputs": [
        {
          "output_type": "stream",
          "name": "stdout",
          "text": [
            "0 {'sentence': [Annotation(document, 0, 58, Bleomycin pneumonitis potentiated by oxygen administration., {}, [])], 'sentence_embeddings': [Annotation(sentence_embeddings, 0, 58, Bleomycin pneumonitis potentiated by oxygen administration., {'sentence': '0', 'token': 'Bleomycin pneumonitis potentiated by oxygen administration.', 'pieceId': '-1', 'isWordStart': 'true'}, [])], 'prediction': [Annotation(category, 0, 0, ADE_positive, {'confidence': '0.7748149'}, [])]}\n",
            "1 {'sentence': [Annotation(document, 0, 112, Enzymes derived from two different bacterial sources (Escherichia coli and Erwinia carotovora) are in common use., {}, [])], 'sentence_embeddings': [Annotation(sentence_embeddings, 0, 112, Enzymes derived from two different bacterial sources (Escherichia coli and Erwinia carotovora) are in common use., {'sentence': '0', 'token': 'Enzymes derived from two different bacterial sources (Escherichia coli and Erwinia carotovora) are in common use.', 'pieceId': '-1', 'isWordStart': 'true'}, [])], 'prediction': [Annotation(category, 0, 0, ADE_negative, {'confidence': '0.68406105'}, [])]}\n",
            "2 {'sentence': [Annotation(document, 0, 128, These cases and others quoted indicate that dependence on pressurized aerosol bronchodilators can and does occur in young people., {}, [])], 'sentence_embeddings': [Annotation(sentence_embeddings, 0, 128, These cases and others quoted indicate that dependence on pressurized aerosol bronchodilators can and does occur in young people., {'sentence': '0', 'token': 'These cases and others quoted indicate that dependence on pressurized aerosol bronchodilators can and does occur in young people.', 'pieceId': '-1', 'isWordStart': 'true'}, [])], 'prediction': [Annotation(category, 0, 0, ADE_positive, {'confidence': '0.5916398'}, [])]}\n",
            "3 {'sentence': [Annotation(document, 0, 162, PVT during chemotherapy in children is a rare event and appears to be closely related to intensive chemotherapy containing busulfan and to be associated with HVOD., {}, [])], 'sentence_embeddings': [Annotation(sentence_embeddings, 0, 162, PVT during chemotherapy in children is a rare event and appears to be closely related to intensive chemotherapy containing busulfan and to be associated with HVOD., {'sentence': '0', 'token': 'PVT during chemotherapy in children is a rare event and appears to be closely related to intensive chemotherapy containing busulfan and to be associated with HVOD.', 'pieceId': '-1', 'isWordStart': 'true'}, [])], 'prediction': [Annotation(category, 0, 0, ADE_positive, {'confidence': '0.62139165'}, [])]}\n"
          ]
        }
      ],
      "source": [
        "for i, r in enumerate(lpipeline.fullAnnotate(tests)):\n",
        "    print(i, r)\n"
      ]
    },
    {
      "cell_type": "code",
      "execution_count": 24,
      "metadata": {
        "colab": {
          "base_uri": "https://localhost:8080/"
        },
        "id": "48HvjAKfZ75U",
        "outputId": "b7d08127-aec5-4a20-d3a6-7f6f3aec0760"
      },
      "outputs": [
        {
          "output_type": "stream",
          "name": "stdout",
          "text": [
            "0 ADE_positive\n",
            "1 ADE_negative\n",
            "2 ADE_positive\n",
            "3 ADE_positive\n"
          ]
        }
      ],
      "source": [
        "for i, r in enumerate(lpipeline.fullAnnotate(tests)):\n",
        "    print(i ,r[\"prediction\"][0].result)"
      ]
    },
    {
      "cell_type": "code",
      "execution_count": 25,
      "metadata": {
        "colab": {
          "base_uri": "https://localhost:8080/"
        },
        "id": "rfdkSntdJMTN",
        "outputId": "a5a56c6f-87b7-4707-ea6f-ba01bc6ff9c7"
      },
      "outputs": [
        {
          "output_type": "stream",
          "name": "stdout",
          "text": [
            "0 Annotation(category, 0, 0, ADE_positive, {'confidence': '0.7748149'}, []) Bleomycin pneumonitis potentiated by oxygen administration.\n",
            "1 Annotation(category, 0, 0, ADE_negative, {'confidence': '0.68406105'}, []) Enzymes derived from two different bacterial sources (Escherichia coli and Erwinia carotovora) are in common use.\n",
            "2 Annotation(category, 0, 0, ADE_positive, {'confidence': '0.5916398'}, []) These cases and others quoted indicate that dependence on pressurized aerosol bronchodilators can and does occur in young people.\n",
            "3 Annotation(category, 0, 0, ADE_positive, {'confidence': '0.62139165'}, []) PVT during chemotherapy in children is a rare event and appears to be closely related to intensive chemotherapy containing busulfan and to be associated with HVOD.\n"
          ]
        }
      ],
      "source": [
        "for i, r in enumerate(lpipeline.fullAnnotate(tests)):\n",
        "    print(i ,r[\"prediction\"][0],r[\"sentence\"][0].result )"
      ]
    },
    {
      "cell_type": "code",
      "execution_count": 26,
      "metadata": {
        "colab": {
          "base_uri": "https://localhost:8080/"
        },
        "id": "gEqjSREg2aX7",
        "outputId": "107b1326-b3c8-4f2a-839d-f673d7a9ea55"
      },
      "outputs": [
        {
          "output_type": "execute_result",
          "data": {
            "text/plain": [
              "[{'sentence': [Annotation(document, 0, 152, After 1 week of nefazodone therapy the patient experienced headache, confusion, and \"gray areas\" in her vision, without abnormal ophthalmologic findings., {}, [])],\n",
              "  'sentence_embeddings': [Annotation(sentence_embeddings, 0, 152, After 1 week of nefazodone therapy the patient experienced headache, confusion, and \"gray areas\" in her vision, without abnormal ophthalmologic findings., {'sentence': '0', 'token': 'After 1 week of nefazodone therapy the patient experienced headache, confusion, and \"gray areas\" in her vision, without abnormal ophthalmologic findings.', 'pieceId': '-1', 'isWordStart': 'true'}, [])],\n",
              "  'prediction': [Annotation(category, 0, 0, ADE_negative, {'confidence': '0.50165457'}, [])]}]"
            ]
          },
          "metadata": {},
          "execution_count": 26
        }
      ],
      "source": [
        "lpipeline.fullAnnotate('After 1 week of nefazodone therapy the patient experienced headache, confusion, and \"gray areas\" in her vision, without abnormal ophthalmologic findings.')"
      ]
    },
    {
      "cell_type": "code",
      "execution_count": 27,
      "metadata": {
        "id": "47967a44-8c3f-46db-92fb-7baf80937862"
      },
      "outputs": [],
      "source": [
        "lpipeline_multi = nlp.LightPipeline(nlp.Pipeline(\n",
        "                      stages=[\n",
        "                          document_asm,\n",
        "                          sentence_embeddings,\n",
        "                          few_shot_model.setMultiClass(True)\n",
        "                      ]).fit(train_data))"
      ]
    },
    {
      "cell_type": "code",
      "execution_count": 28,
      "metadata": {
        "colab": {
          "base_uri": "https://localhost:8080/"
        },
        "id": "c64cd5cf-a2e3-4671-b56f-bf6d9d383208",
        "outputId": "bd57274b-4332-415a-ab50-1137e6e978d0"
      },
      "outputs": [
        {
          "output_type": "stream",
          "name": "stdout",
          "text": [
            "0 {'sentence': [Annotation(document, 0, 58, Bleomycin pneumonitis potentiated by oxygen administration., {}, [])], 'sentence_embeddings': [Annotation(sentence_embeddings, 0, 58, Bleomycin pneumonitis potentiated by oxygen administration., {'sentence': '0', 'token': 'Bleomycin pneumonitis potentiated by oxygen administration.', 'pieceId': '-1', 'isWordStart': 'true'}, [])], 'prediction': [Annotation(category, 0, 0, ADE_positive, {'confidence': '0.7748149'}, []), Annotation(category, 0, 0, ADE_negative, {'confidence': '0.26696292'}, [])]}\n",
            "1 {'sentence': [Annotation(document, 0, 112, Enzymes derived from two different bacterial sources (Escherichia coli and Erwinia carotovora) are in common use., {}, [])], 'sentence_embeddings': [Annotation(sentence_embeddings, 0, 112, Enzymes derived from two different bacterial sources (Escherichia coli and Erwinia carotovora) are in common use., {'sentence': '0', 'token': 'Enzymes derived from two different bacterial sources (Escherichia coli and Erwinia carotovora) are in common use.', 'pieceId': '-1', 'isWordStart': 'true'}, [])], 'prediction': [Annotation(category, 0, 0, ADE_positive, {'confidence': '0.2453861'}, []), Annotation(category, 0, 0, ADE_negative, {'confidence': '0.68406105'}, [])]}\n",
            "2 {'sentence': [Annotation(document, 0, 128, These cases and others quoted indicate that dependence on pressurized aerosol bronchodilators can and does occur in young people., {}, [])], 'sentence_embeddings': [Annotation(sentence_embeddings, 0, 128, These cases and others quoted indicate that dependence on pressurized aerosol bronchodilators can and does occur in young people., {'sentence': '0', 'token': 'These cases and others quoted indicate that dependence on pressurized aerosol bronchodilators can and does occur in young people.', 'pieceId': '-1', 'isWordStart': 'true'}, [])], 'prediction': [Annotation(category, 0, 0, ADE_positive, {'confidence': '0.5916398'}, []), Annotation(category, 0, 0, ADE_negative, {'confidence': '0.5114412'}, [])]}\n",
            "3 {'sentence': [Annotation(document, 0, 162, PVT during chemotherapy in children is a rare event and appears to be closely related to intensive chemotherapy containing busulfan and to be associated with HVOD., {}, [])], 'sentence_embeddings': [Annotation(sentence_embeddings, 0, 162, PVT during chemotherapy in children is a rare event and appears to be closely related to intensive chemotherapy containing busulfan and to be associated with HVOD., {'sentence': '0', 'token': 'PVT during chemotherapy in children is a rare event and appears to be closely related to intensive chemotherapy containing busulfan and to be associated with HVOD.', 'pieceId': '-1', 'isWordStart': 'true'}, [])], 'prediction': [Annotation(category, 0, 0, ADE_positive, {'confidence': '0.62139165'}, []), Annotation(category, 0, 0, ADE_negative, {'confidence': '0.59960246'}, [])]}\n"
          ]
        }
      ],
      "source": [
        "for i, r in enumerate(lpipeline_multi.fullAnnotate(tests)):\n",
        "    print(i,r)\n"
      ]
    },
    {
      "cell_type": "code",
      "execution_count": 29,
      "metadata": {
        "colab": {
          "base_uri": "https://localhost:8080/"
        },
        "id": "JLgk4o5Vcsr9",
        "outputId": "2ff3dec3-a4c1-47e3-f4d9-a59033ead1bd"
      },
      "outputs": [
        {
          "output_type": "stream",
          "name": "stdout",
          "text": [
            "0 [Annotation(category, 0, 0, ADE_positive, {'confidence': '0.7748149'}, []), Annotation(category, 0, 0, ADE_negative, {'confidence': '0.26696292'}, [])]\n",
            "1 [Annotation(category, 0, 0, ADE_positive, {'confidence': '0.2453861'}, []), Annotation(category, 0, 0, ADE_negative, {'confidence': '0.68406105'}, [])]\n",
            "2 [Annotation(category, 0, 0, ADE_positive, {'confidence': '0.5916398'}, []), Annotation(category, 0, 0, ADE_negative, {'confidence': '0.5114412'}, [])]\n",
            "3 [Annotation(category, 0, 0, ADE_positive, {'confidence': '0.62139165'}, []), Annotation(category, 0, 0, ADE_negative, {'confidence': '0.59960246'}, [])]\n"
          ]
        }
      ],
      "source": [
        "for i, r in enumerate(lpipeline_multi.fullAnnotate(tests)):\n",
        "    print(i, r[\"prediction\"])\n"
      ]
    },
    {
      "cell_type": "code",
      "execution_count": 30,
      "metadata": {
        "colab": {
          "base_uri": "https://localhost:8080/"
        },
        "id": "g-lChKd8ozN9",
        "outputId": "f08ec8c5-d40c-42b3-bcad-ba00593ede7e"
      },
      "outputs": [
        {
          "output_type": "execute_result",
          "data": {
            "text/plain": [
              "[{'sentence': [Annotation(document, 0, 152, After 1 week of nefazodone therapy the patient experienced headache, confusion, and \"gray areas\" in her vision, without abnormal ophthalmologic findings., {}, [])],\n",
              "  'sentence_embeddings': [Annotation(sentence_embeddings, 0, 152, After 1 week of nefazodone therapy the patient experienced headache, confusion, and \"gray areas\" in her vision, without abnormal ophthalmologic findings., {'sentence': '0', 'token': 'After 1 week of nefazodone therapy the patient experienced headache, confusion, and \"gray areas\" in her vision, without abnormal ophthalmologic findings.', 'pieceId': '-1', 'isWordStart': 'true'}, [])],\n",
              "  'prediction': [Annotation(category, 0, 0, ADE_positive, {'confidence': '0.4123436'}, []),\n",
              "   Annotation(category, 0, 0, ADE_negative, {'confidence': '0.50165457'}, [])]}]"
            ]
          },
          "metadata": {},
          "execution_count": 30
        }
      ],
      "source": [
        "lpipeline_multi.fullAnnotate('After 1 week of nefazodone therapy the patient experienced headache, confusion, and \"gray areas\" in her vision, without abnormal ophthalmologic findings.')"
      ]
    },
    {
      "cell_type": "markdown",
      "metadata": {
        "id": "mKAE5_7U0vLJ"
      },
      "source": [
        "## with transform"
      ]
    },
    {
      "cell_type": "code",
      "execution_count": 31,
      "metadata": {
        "id": "OE8iwPeg0xaj"
      },
      "outputs": [],
      "source": [
        "test_data = spark.createDataFrame([\n",
        "    ['After 1 week of nefazodone therapy the patient experienced headache, confusion, and \"gray areas\" in her vision, without abnormal ophthalmologic findings.'],\n",
        "    ['Possible linkage of amprenavir with intracranial bleeding in an HIV-infected hemophiliac.'],\n",
        "    ['Results Radiographic responses to sirolimus were observed in all patients.'],\n",
        "    ['Obtaining appropriate cultures can be critical in making the diagnosis and directing treatment.']\n",
        "]).toDF(\"text\")"
      ]
    },
    {
      "cell_type": "code",
      "execution_count": 32,
      "metadata": {
        "colab": {
          "base_uri": "https://localhost:8080/"
        },
        "id": "WqbOZAQb0_Ua",
        "outputId": "33b4517c-7b2e-4373-c356-615caabe4b54"
      },
      "outputs": [
        {
          "output_type": "stream",
          "name": "stdout",
          "text": [
            "+---------------------------------------------------------------------------------------------------------------------------------------------------------+----------------------------------------------------------------+\n",
            "|text                                                                                                                                                     |prediction                                                      |\n",
            "+---------------------------------------------------------------------------------------------------------------------------------------------------------+----------------------------------------------------------------+\n",
            "|After 1 week of nefazodone therapy the patient experienced headache, confusion, and \"gray areas\" in her vision, without abnormal ophthalmologic findings.|[{category, 0, 0, ADE_negative, {confidence -> 0.50165457}, []}]|\n",
            "|Possible linkage of amprenavir with intracranial bleeding in an HIV-infected hemophiliac.                                                                |[{category, 0, 0, ADE_positive, {confidence -> 0.57943493}, []}]|\n",
            "|Results Radiographic responses to sirolimus were observed in all patients.                                                                               |[{category, 0, 0, ADE_negative, {confidence -> 0.86455816}, []}]|\n",
            "|Obtaining appropriate cultures can be critical in making the diagnosis and directing treatment.                                                          |[{category, 0, 0, ADE_negative, {confidence -> 0.4173585}, []}] |\n",
            "+---------------------------------------------------------------------------------------------------------------------------------------------------------+----------------------------------------------------------------+\n",
            "\n"
          ]
        }
      ],
      "source": [
        "result = model.transform(test_data)\n",
        "\n",
        "result.select(\"text\",\"prediction\").show(truncate=False)"
      ]
    },
    {
      "cell_type": "code",
      "execution_count": 33,
      "metadata": {
        "colab": {
          "base_uri": "https://localhost:8080/"
        },
        "id": "gZlArfZL1Jrz",
        "outputId": "a4ea8777-a24d-4117-802e-307d591186b5"
      },
      "outputs": [
        {
          "output_type": "stream",
          "name": "stdout",
          "text": [
            "+---------------------------------------------------------------------------------------------------------------------------------------------------------+--------------------------------------------------------------------------------------------------------------------------------+\n",
            "|text                                                                                                                                                     |prediction                                                                                                                      |\n",
            "+---------------------------------------------------------------------------------------------------------------------------------------------------------+--------------------------------------------------------------------------------------------------------------------------------+\n",
            "|After 1 week of nefazodone therapy the patient experienced headache, confusion, and \"gray areas\" in her vision, without abnormal ophthalmologic findings.|[{category, 0, 0, ADE_positive, {confidence -> 0.4123436}, []}, {category, 0, 0, ADE_negative, {confidence -> 0.50165457}, []}] |\n",
            "|Possible linkage of amprenavir with intracranial bleeding in an HIV-infected hemophiliac.                                                                |[{category, 0, 0, ADE_positive, {confidence -> 0.57943493}, []}, {category, 0, 0, ADE_negative, {confidence -> 0.29543298}, []}]|\n",
            "|Results Radiographic responses to sirolimus were observed in all patients.                                                                               |[{category, 0, 0, ADE_positive, {confidence -> 0.1073519}, []}, {category, 0, 0, ADE_negative, {confidence -> 0.86455816}, []}] |\n",
            "|Obtaining appropriate cultures can be critical in making the diagnosis and directing treatment.                                                          |[{category, 0, 0, ADE_positive, {confidence -> 0.23037189}, []}, {category, 0, 0, ADE_negative, {confidence -> 0.4173585}, []}] |\n",
            "+---------------------------------------------------------------------------------------------------------------------------------------------------------+--------------------------------------------------------------------------------------------------------------------------------+\n",
            "\n"
          ]
        }
      ],
      "source": [
        "model_multi = nlp.Pipeline(\n",
        "                  stages=[\n",
        "                      document_asm,\n",
        "                      sentence_embeddings,\n",
        "                      few_shot_model.setMultiClass(True)\n",
        "                  ]).fit(train_data)\n",
        "\n",
        "result_2 = model_multi.transform(test_data)\n",
        "\n",
        "result_2.select(\"text\",\"prediction\").show(truncate=False)"
      ]
    },
    {
      "cell_type": "markdown",
      "metadata": {
        "id": "zMr2oIa1CXLh"
      },
      "source": [
        "## with word embeddings"
      ]
    },
    {
      "cell_type": "code",
      "execution_count": 34,
      "metadata": {
        "colab": {
          "base_uri": "https://localhost:8080/"
        },
        "id": "vhJ1FZ4_CWxf",
        "outputId": "f26858c9-de02-45c9-d327-05c273555383"
      },
      "outputs": [
        {
          "output_type": "stream",
          "name": "stdout",
          "text": [
            "embeddings_clinical download started this may take some time.\n",
            "Approximate size to download 1.6 GB\n",
            "[OK!]\n"
          ]
        }
      ],
      "source": [
        "tokenizer = nlp.Tokenizer() \\\n",
        "    .setInputCols([\"sentence\"]) \\\n",
        "    .setOutputCol(\"token\")\n",
        "\n",
        "word_embeddings = nlp.WordEmbeddingsModel.pretrained(\"embeddings_clinical\",\"en\",\"clinical/models\")\\\n",
        "    .setInputCols([\"sentence\",\"token\"])\\\n",
        "    .setOutputCol(\"word_embeddings\")\n",
        "\n",
        "sentence_embeddings = nlp.SentenceEmbeddings() \\\n",
        "    .setInputCols([\"sentence\", \"word_embeddings\"]) \\\n",
        "    .setOutputCol(\"sentence_embeddings\") \\\n",
        "    .setPoolingStrategy(\"AVERAGE\")\n",
        "\n",
        "pipeline = nlp.Pipeline(\n",
        "    stages=[\n",
        "        document_asm,\n",
        "        tokenizer,\n",
        "        word_embeddings,\n",
        "        sentence_embeddings,\n",
        "        few_shot_approach\n",
        "    ])\n",
        "\n",
        "model = pipeline.fit(spark.createDataFrame([[\"\",\"\"]]).toDF(\"label\",\"text\"))\n",
        "\n",
        "lpipeline = nlp.LightPipeline(model)"
      ]
    },
    {
      "cell_type": "code",
      "execution_count": 35,
      "metadata": {
        "colab": {
          "base_uri": "https://localhost:8080/"
        },
        "id": "SR2IEqj4iWTg",
        "outputId": "12406b2e-452f-4fd0-8a29-b1fbd7d1e88c"
      },
      "outputs": [
        {
          "output_type": "execute_result",
          "data": {
            "text/plain": [
              "[{'word_embeddings': [Annotation(word_embeddings, 0, 8, Nephrotic, {'isOOV': 'false', 'pieceId': '-1', 'isWordStart': 'true', 'token': 'Nephrotic', 'sentence': '0'}, []),\n",
              "   Annotation(word_embeddings, 10, 17, syndrome, {'isOOV': 'false', 'pieceId': '-1', 'isWordStart': 'true', 'token': 'syndrome', 'sentence': '0'}, []),\n",
              "   Annotation(word_embeddings, 19, 28, associated, {'isOOV': 'false', 'pieceId': '-1', 'isWordStart': 'true', 'token': 'associated', 'sentence': '0'}, []),\n",
              "   Annotation(word_embeddings, 30, 33, with, {'isOOV': 'false', 'pieceId': '-1', 'isWordStart': 'true', 'token': 'with', 'sentence': '0'}, []),\n",
              "   Annotation(word_embeddings, 35, 52, interferon-beta-1b, {'isOOV': 'false', 'pieceId': '-1', 'isWordStart': 'true', 'token': 'interferon-beta-1b', 'sentence': '0'}, []),\n",
              "   Annotation(word_embeddings, 54, 60, therapy, {'isOOV': 'false', 'pieceId': '-1', 'isWordStart': 'true', 'token': 'therapy', 'sentence': '0'}, []),\n",
              "   Annotation(word_embeddings, 62, 64, for, {'isOOV': 'false', 'pieceId': '-1', 'isWordStart': 'true', 'token': 'for', 'sentence': '0'}, []),\n",
              "   Annotation(word_embeddings, 66, 73, multiple, {'isOOV': 'false', 'pieceId': '-1', 'isWordStart': 'true', 'token': 'multiple', 'sentence': '0'}, []),\n",
              "   Annotation(word_embeddings, 75, 83, sclerosis, {'isOOV': 'false', 'pieceId': '-1', 'isWordStart': 'true', 'token': 'sclerosis', 'sentence': '0'}, []),\n",
              "   Annotation(word_embeddings, 84, 84, ., {'isOOV': 'false', 'pieceId': '-1', 'isWordStart': 'true', 'token': '.', 'sentence': '0'}, [])],\n",
              "  'prediction': [Annotation(category, 0, 0, N/A, {'confidence': '0.4970439'}, [])],\n",
              "  'sentence_embeddings': [Annotation(sentence_embeddings, 0, 84, Nephrotic syndrome associated with interferon-beta-1b therapy for multiple sclerosis., {'sentence': '0', 'token': 'Nephrotic syndrome associated with interferon-beta-1b therapy for multiple sclerosis.', 'pieceId': '-1', 'isWordStart': 'true'}, [])],\n",
              "  'token': [Annotation(token, 0, 8, Nephrotic, {'sentence': '0'}, []),\n",
              "   Annotation(token, 10, 17, syndrome, {'sentence': '0'}, []),\n",
              "   Annotation(token, 19, 28, associated, {'sentence': '0'}, []),\n",
              "   Annotation(token, 30, 33, with, {'sentence': '0'}, []),\n",
              "   Annotation(token, 35, 52, interferon-beta-1b, {'sentence': '0'}, []),\n",
              "   Annotation(token, 54, 60, therapy, {'sentence': '0'}, []),\n",
              "   Annotation(token, 62, 64, for, {'sentence': '0'}, []),\n",
              "   Annotation(token, 66, 73, multiple, {'sentence': '0'}, []),\n",
              "   Annotation(token, 75, 83, sclerosis, {'sentence': '0'}, []),\n",
              "   Annotation(token, 84, 84, ., {'sentence': '0'}, [])],\n",
              "  'sentence': [Annotation(document, 0, 84, Nephrotic syndrome associated with interferon-beta-1b therapy for multiple sclerosis., {}, [])]}]"
            ]
          },
          "metadata": {},
          "execution_count": 35
        }
      ],
      "source": [
        "lpipeline.fullAnnotate('Nephrotic syndrome associated with interferon-beta-1b therapy for multiple sclerosis.')"
      ]
    },
    {
      "cell_type": "markdown",
      "metadata": {
        "id": "UajnaTzbDp7c"
      },
      "source": [
        "# MTSamples Dataset"
      ]
    },
    {
      "cell_type": "code",
      "execution_count": 36,
      "metadata": {
        "id": "CHPqy3NeZMWW"
      },
      "outputs": [],
      "source": [
        "!wget -q https://raw.githubusercontent.com/JohnSnowLabs/spark-nlp-workshop/master/tutorials/Certification_Trainings/Healthcare/data/mtsamples_classifier.csv"
      ]
    },
    {
      "cell_type": "code",
      "execution_count": 37,
      "metadata": {
        "colab": {
          "base_uri": "https://localhost:8080/"
        },
        "id": "44eb4f5f-9065-4512-aad6-2afc89f74220",
        "outputId": "bdb85289-07f1-4320-d20e-037146b8bd01"
      },
      "outputs": [
        {
          "output_type": "stream",
          "name": "stdout",
          "text": [
            "+----------------+----------------------------------------------------------------------------------------------------+\n",
            "|        category|                                                                                                text|\n",
            "+----------------+----------------------------------------------------------------------------------------------------+\n",
            "|Gastroenterology| PROCEDURES PERFORMED: Colonoscopy. INDICATIONS: Renewed symptoms likely consistent with active f...|\n",
            "|Gastroenterology| OPERATION 1. Ivor-Lewis esophagogastrectomy. 2. Feeding jejunostomy. 3. Placement of two right-s...|\n",
            "|Gastroenterology| PREOPERATIVE DIAGNOSES: 1. Gastroesophageal reflux disease. 2. Chronic dyspepsia. POSTOPERATIVE ...|\n",
            "|Gastroenterology| PROCEDURE: Colonoscopy. PREOPERATIVE DIAGNOSES: Rectal bleeding and perirectal abscess. POSTOPER...|\n",
            "|Gastroenterology| PREOPERATIVE DIAGNOSIS: Right colon tumor. POSTOPERATIVE DIAGNOSES: 1. Right colon cancer. 2. As...|\n",
            "|Gastroenterology| PREOPERATIVE DIAGNOSIS (ES): 1. Cholelithiasis. 2. Cholecystitis. POSTOPERATIVE DIAGNOSIS (ES): ...|\n",
            "|Gastroenterology| The patient was taken to the GI lab and placed in the left lateral supine position. Continuous p...|\n",
            "|Gastroenterology| PREOPERATIVE DIAGNOSIS: Gastrostomy (gastrocutaneous fistula). POSTOPERATIVE DIAGNOSIS: Gastrost...|\n",
            "|Gastroenterology| PREOPERATIVE DIAGNOSIS: Acute acalculous cholecystitis. POSTOPERATIVE DIAGNOSIS: Acute hemorrhag...|\n",
            "|Gastroenterology| HISTORY OF PRESENT ILLNESS: This is a 10-year-old who was found with biliary atresia and underwe...|\n",
            "+----------------+----------------------------------------------------------------------------------------------------+\n",
            "only showing top 10 rows\n",
            "\n"
          ]
        }
      ],
      "source": [
        "spark_df = spark.read.csv(\"mtsamples_classifier.csv\", header = True)\n",
        "\n",
        "spark_df.show(10,truncate=100)"
      ]
    },
    {
      "cell_type": "code",
      "execution_count": 38,
      "metadata": {
        "colab": {
          "base_uri": "https://localhost:8080/"
        },
        "id": "241bd286-350c-421e-92f4-a80164ed2dc1",
        "outputId": "26132993-461e-4b35-f643-6676599af844"
      },
      "outputs": [
        {
          "output_type": "stream",
          "name": "stdout",
          "text": [
            "+----------------+-----+\n",
            "|        category|count|\n",
            "+----------------+-----+\n",
            "|         Urology|  115|\n",
            "|       Neurology|  143|\n",
            "|      Orthopedic|  223|\n",
            "|Gastroenterology|  157|\n",
            "+----------------+-----+\n",
            "\n"
          ]
        }
      ],
      "source": [
        "spark_df.groupBy(\"category\").count().show()"
      ]
    },
    {
      "cell_type": "code",
      "execution_count": 39,
      "metadata": {
        "colab": {
          "base_uri": "https://localhost:8080/"
        },
        "id": "db12fe42-90b6-434d-852a-ea86cad9a963",
        "outputId": "60e34ec0-cdc2-488c-b264-8b3ef046631e"
      },
      "outputs": [
        {
          "output_type": "stream",
          "name": "stdout",
          "text": [
            "trainingData_with_embeddings:        536\n",
            "testData_with_embeddings:            102\n",
            "trainingData_part1_with_embeddings:  280\n"
          ]
        }
      ],
      "source": [
        "(trainingData, testData) = spark_df.randomSplit([0.8, 0.2], seed = 42)\n",
        "(trainingData_part1, trainingData_part2) = trainingData.randomSplit([0.5, 0.5], seed = 42)\n",
        "\n",
        "print(\"trainingData_with_embeddings:       \",trainingData.count())\n",
        "print(\"testData_with_embeddings:           \",testData.count())\n",
        "print(\"trainingData_part1_with_embeddings: \",trainingData_part1.count())"
      ]
    },
    {
      "cell_type": "markdown",
      "metadata": {
        "id": "RcQPzSbOVOpn"
      },
      "source": [
        "We will extract [sbiobert_base_cased_mli](https://nlp.johnsnowlabs.com/2020/11/27/sbiobert_base_cased_mli_en.html) embeddings which has 768 dimension output and use this embeddings in the model training."
      ]
    },
    {
      "cell_type": "code",
      "execution_count": 40,
      "metadata": {
        "colab": {
          "base_uri": "https://localhost:8080/"
        },
        "id": "e7pupvygW4Eq",
        "outputId": "cc068cc9-023c-4dbd-ccaf-a9f552f38837"
      },
      "outputs": [
        {
          "output_type": "stream",
          "name": "stdout",
          "text": [
            "sbiobert_base_cased_mli download started this may take some time.\n",
            "Approximate size to download 384.3 MB\n",
            "[OK!]\n"
          ]
        }
      ],
      "source": [
        "document_assembler = nlp.DocumentAssembler()\\\n",
        "    .setInputCol(\"text\")\\\n",
        "    .setOutputCol(\"document\")\n",
        "\n",
        "bert_sent = nlp.BertSentenceEmbeddings.pretrained(\"sbiobert_base_cased_mli\", 'en','clinical/models')\\\n",
        "    .setInputCols([\"document\"])\\\n",
        "    .setOutputCol(\"sentence_embeddings\")\n",
        "\n",
        "embeddings_pipeline = nlp.Pipeline(\n",
        "    stages = [document_assembler,\n",
        "              bert_sent])"
      ]
    },
    {
      "cell_type": "code",
      "execution_count": 41,
      "metadata": {
        "colab": {
          "base_uri": "https://localhost:8080/"
        },
        "id": "A-_AaTGCW4Eq",
        "outputId": "714d7e07-5a8e-413e-e678-ebfc856cc661"
      },
      "outputs": [
        {
          "output_type": "stream",
          "name": "stdout",
          "text": [
            "+------------------------------------------------------------+----------------+------------------------------------------------------------+\n",
            "|                                                        text|        category|                                         sentence_embeddings|\n",
            "+------------------------------------------------------------+----------------+------------------------------------------------------------+\n",
            "| ADMISSION DIAGNOSIS: Symptomatic cholelithiasis. DISCHAR...|Gastroenterology|[{sentence_embeddings, 0, 2228,  ADMISSION DIAGNOSIS: Sym...|\n",
            "| ADMITTING DIAGNOSES: Hiatal hernia, gastroesophageal ref...|Gastroenterology|[{sentence_embeddings, 0, 3237,  ADMITTING DIAGNOSES: Hia...|\n",
            "+------------------------------------------------------------+----------------+------------------------------------------------------------+\n",
            "only showing top 2 rows\n",
            "\n"
          ]
        }
      ],
      "source": [
        "trainingData_with_embeddings = embeddings_pipeline.fit(trainingData).transform(trainingData)\\\n",
        "                                                  .select(\"text\",\"category\",\"sentence_embeddings\")\n",
        "\n",
        "trainingData_with_embeddings.show(2,truncate=60)"
      ]
    },
    {
      "cell_type": "code",
      "execution_count": 42,
      "metadata": {
        "colab": {
          "base_uri": "https://localhost:8080/"
        },
        "id": "sGAKs2o0W4Eq",
        "outputId": "68fbb2e8-3d23-457b-a4e6-8a08092958f9"
      },
      "outputs": [
        {
          "output_type": "stream",
          "name": "stdout",
          "text": [
            "+------------------------------------------------------------+----------------+------------------------------------------------------------+\n",
            "|                                                        text|        category|                                         sentence_embeddings|\n",
            "+------------------------------------------------------------+----------------+------------------------------------------------------------+\n",
            "| ADMITTING DIAGNOSIS: Gastrointestinal bleed. HISTORY OF ...|Gastroenterology|[{sentence_embeddings, 0, 3978,  ADMITTING DIAGNOSIS: Gas...|\n",
            "| CHIEF COMPLAINT: Dysphagia and hematemesis while vomitin...|Gastroenterology|[{sentence_embeddings, 0, 6515,  CHIEF COMPLAINT: Dysphag...|\n",
            "+------------------------------------------------------------+----------------+------------------------------------------------------------+\n",
            "only showing top 2 rows\n",
            "\n"
          ]
        }
      ],
      "source": [
        "testData_with_embeddings = embeddings_pipeline.fit(testData).transform(testData)\\\n",
        "                                                  .select(\"text\",\"category\",\"sentence_embeddings\")\n",
        "\n",
        "testData_with_embeddings.show(2,truncate=60)"
      ]
    },
    {
      "cell_type": "code",
      "execution_count": 43,
      "metadata": {
        "id": "LzWT86oXKXkI"
      },
      "outputs": [],
      "source": [
        "trainingData_part1_with_embeddings = embeddings_pipeline.fit(trainingData_part1).transform(trainingData_part1)\\\n",
        "                                                  .select(\"text\",\"category\",\"sentence_embeddings\")\n",
        "\n",
        "trainingData_part2_with_embeddings = embeddings_pipeline.fit(trainingData_part2).transform(trainingData_part2)\\\n",
        "                                                  .select(\"text\",\"category\",\"sentence_embeddings\")"
      ]
    },
    {
      "cell_type": "markdown",
      "metadata": {
        "id": "NqYpg6-dW4Eq"
      },
      "source": [
        "### ClassifierDL"
      ]
    },
    {
      "cell_type": "code",
      "execution_count": 44,
      "metadata": {
        "id": "WiR3GJpbW4Eq"
      },
      "outputs": [],
      "source": [
        "log_folder=\"classifier_dl_logs_bert\""
      ]
    },
    {
      "cell_type": "code",
      "execution_count": 45,
      "metadata": {
        "id": "vkb4PlGsW4Eq"
      },
      "outputs": [],
      "source": [
        "classifier_dl = nlp.ClassifierDLApproach()\\\n",
        "        .setInputCols([\"sentence_embeddings\"])\\\n",
        "        .setOutputCol(\"prediction_class\")\\\n",
        "        .setLabelColumn(\"category\")\\\n",
        "        .setBatchSize(8)\\\n",
        "        .setMaxEpochs(10)\\\n",
        "        .setLr(0.002)\\\n",
        "        .setDropout(0.1)\\\n",
        "        .setEnableOutputLogs(True)\\\n",
        "        .setOutputLogsPath(log_folder)\n",
        "\n",
        "classifier_dl_pipeline = nlp.Pipeline(stages=[classifier_dl])"
      ]
    },
    {
      "cell_type": "code",
      "execution_count": 46,
      "metadata": {
        "colab": {
          "base_uri": "https://localhost:8080/"
        },
        "id": "WG0-PJA2W4Eq",
        "outputId": "aa19b584-d285-41d1-ff00-97434f978731"
      },
      "outputs": [
        {
          "output_type": "stream",
          "name": "stdout",
          "text": [
            "CPU times: user 36.4 ms, sys: 17.3 ms, total: 53.7 ms\n",
            "Wall time: 2min 54s\n"
          ]
        }
      ],
      "source": [
        "%%time\n",
        "clfDL_model_bert = classifier_dl_pipeline.fit(trainingData_with_embeddings)"
      ]
    },
    {
      "cell_type": "code",
      "execution_count": 47,
      "metadata": {
        "colab": {
          "base_uri": "https://localhost:8080/"
        },
        "id": "B_29_8JBW4Eq",
        "outputId": "606bb812-9d39-45a8-d91d-d2f33620288f"
      },
      "outputs": [
        {
          "output_type": "stream",
          "name": "stdout",
          "text": [
            "                  precision    recall  f1-score   support\n",
            "\n",
            "Gastroenterology       1.00      0.88      0.94        25\n",
            "       Neurology       0.83      0.86      0.84        22\n",
            "      Orthopedic       0.91      0.83      0.87        35\n",
            "         Urology       0.76      0.95      0.84        20\n",
            "\n",
            "        accuracy                           0.87       102\n",
            "       macro avg       0.87      0.88      0.87       102\n",
            "    weighted avg       0.88      0.87      0.87       102\n",
            "\n"
          ]
        }
      ],
      "source": [
        "preds = clfDL_model_bert.transform(testData_with_embeddings)\n",
        "\n",
        "preds_df = preds.select(\"category\",\"text\",\"prediction_class.result\").toPandas()\n",
        "preds_df[\"result\"] = preds_df[\"result\"].apply(lambda x : x[0])\n",
        "\n",
        "print(classification_report(preds_df[\"category\"], preds_df[\"result\"]))"
      ]
    },
    {
      "cell_type": "code",
      "execution_count": 48,
      "metadata": {
        "id": "qDnPLheTi_RL"
      },
      "outputs": [],
      "source": [
        "results_df = pd.DataFrame(columns=[\"macro-f1-score\",\"weighted-f1-score\",\"accuracy\"])\n",
        "\n",
        "res = classification_report(preds_df[\"category\"], preds_df[\"result\"], output_dict=True)\n",
        "results_df.loc[\"ClassifierDL_full_Data\"] = [res[\"macro avg\"][\"f1-score\"], res[\"weighted avg\"][\"f1-score\"], res[\"accuracy\"]]"
      ]
    },
    {
      "cell_type": "code",
      "execution_count": 49,
      "metadata": {
        "colab": {
          "base_uri": "https://localhost:8080/",
          "height": 89
        },
        "id": "r5zaLGTJQVb3",
        "outputId": "5ef0cdeb-1ac2-4add-8197-518f2721f545"
      },
      "outputs": [
        {
          "output_type": "execute_result",
          "data": {
            "text/plain": [
              "                        macro-f1-score  weighted-f1-score  accuracy\n",
              "ClassifierDL_full_Data        0.872683            0.87421  0.872549"
            ],
            "text/html": [
              "\n",
              "  <div id=\"df-765603d7-a04d-4f1e-b33c-fce54c062ea9\" class=\"colab-df-container\">\n",
              "    <div>\n",
              "<style scoped>\n",
              "    .dataframe tbody tr th:only-of-type {\n",
              "        vertical-align: middle;\n",
              "    }\n",
              "\n",
              "    .dataframe tbody tr th {\n",
              "        vertical-align: top;\n",
              "    }\n",
              "\n",
              "    .dataframe thead th {\n",
              "        text-align: right;\n",
              "    }\n",
              "</style>\n",
              "<table border=\"1\" class=\"dataframe\">\n",
              "  <thead>\n",
              "    <tr style=\"text-align: right;\">\n",
              "      <th></th>\n",
              "      <th>macro-f1-score</th>\n",
              "      <th>weighted-f1-score</th>\n",
              "      <th>accuracy</th>\n",
              "    </tr>\n",
              "  </thead>\n",
              "  <tbody>\n",
              "    <tr>\n",
              "      <th>ClassifierDL_full_Data</th>\n",
              "      <td>0.872683</td>\n",
              "      <td>0.87421</td>\n",
              "      <td>0.872549</td>\n",
              "    </tr>\n",
              "  </tbody>\n",
              "</table>\n",
              "</div>\n",
              "    <div class=\"colab-df-buttons\">\n",
              "\n",
              "  <div class=\"colab-df-container\">\n",
              "    <button class=\"colab-df-convert\" onclick=\"convertToInteractive('df-765603d7-a04d-4f1e-b33c-fce54c062ea9')\"\n",
              "            title=\"Convert this dataframe to an interactive table.\"\n",
              "            style=\"display:none;\">\n",
              "\n",
              "  <svg xmlns=\"http://www.w3.org/2000/svg\" height=\"24px\" viewBox=\"0 -960 960 960\">\n",
              "    <path d=\"M120-120v-720h720v720H120Zm60-500h600v-160H180v160Zm220 220h160v-160H400v160Zm0 220h160v-160H400v160ZM180-400h160v-160H180v160Zm440 0h160v-160H620v160ZM180-180h160v-160H180v160Zm440 0h160v-160H620v160Z\"/>\n",
              "  </svg>\n",
              "    </button>\n",
              "\n",
              "  <style>\n",
              "    .colab-df-container {\n",
              "      display:flex;\n",
              "      gap: 12px;\n",
              "    }\n",
              "\n",
              "    .colab-df-convert {\n",
              "      background-color: #E8F0FE;\n",
              "      border: none;\n",
              "      border-radius: 50%;\n",
              "      cursor: pointer;\n",
              "      display: none;\n",
              "      fill: #1967D2;\n",
              "      height: 32px;\n",
              "      padding: 0 0 0 0;\n",
              "      width: 32px;\n",
              "    }\n",
              "\n",
              "    .colab-df-convert:hover {\n",
              "      background-color: #E2EBFA;\n",
              "      box-shadow: 0px 1px 2px rgba(60, 64, 67, 0.3), 0px 1px 3px 1px rgba(60, 64, 67, 0.15);\n",
              "      fill: #174EA6;\n",
              "    }\n",
              "\n",
              "    .colab-df-buttons div {\n",
              "      margin-bottom: 4px;\n",
              "    }\n",
              "\n",
              "    [theme=dark] .colab-df-convert {\n",
              "      background-color: #3B4455;\n",
              "      fill: #D2E3FC;\n",
              "    }\n",
              "\n",
              "    [theme=dark] .colab-df-convert:hover {\n",
              "      background-color: #434B5C;\n",
              "      box-shadow: 0px 1px 3px 1px rgba(0, 0, 0, 0.15);\n",
              "      filter: drop-shadow(0px 1px 2px rgba(0, 0, 0, 0.3));\n",
              "      fill: #FFFFFF;\n",
              "    }\n",
              "  </style>\n",
              "\n",
              "    <script>\n",
              "      const buttonEl =\n",
              "        document.querySelector('#df-765603d7-a04d-4f1e-b33c-fce54c062ea9 button.colab-df-convert');\n",
              "      buttonEl.style.display =\n",
              "        google.colab.kernel.accessAllowed ? 'block' : 'none';\n",
              "\n",
              "      async function convertToInteractive(key) {\n",
              "        const element = document.querySelector('#df-765603d7-a04d-4f1e-b33c-fce54c062ea9');\n",
              "        const dataTable =\n",
              "          await google.colab.kernel.invokeFunction('convertToInteractive',\n",
              "                                                    [key], {});\n",
              "        if (!dataTable) return;\n",
              "\n",
              "        const docLinkHtml = 'Like what you see? Visit the ' +\n",
              "          '<a target=\"_blank\" href=https://colab.research.google.com/notebooks/data_table.ipynb>data table notebook</a>'\n",
              "          + ' to learn more about interactive tables.';\n",
              "        element.innerHTML = '';\n",
              "        dataTable['output_type'] = 'display_data';\n",
              "        await google.colab.output.renderOutput(dataTable, element);\n",
              "        const docLink = document.createElement('div');\n",
              "        docLink.innerHTML = docLinkHtml;\n",
              "        element.appendChild(docLink);\n",
              "      }\n",
              "    </script>\n",
              "  </div>\n",
              "\n",
              "\n",
              "  <div id=\"id_c49feb71-358d-4724-9112-4050c7d8ad1e\">\n",
              "    <style>\n",
              "      .colab-df-generate {\n",
              "        background-color: #E8F0FE;\n",
              "        border: none;\n",
              "        border-radius: 50%;\n",
              "        cursor: pointer;\n",
              "        display: none;\n",
              "        fill: #1967D2;\n",
              "        height: 32px;\n",
              "        padding: 0 0 0 0;\n",
              "        width: 32px;\n",
              "      }\n",
              "\n",
              "      .colab-df-generate:hover {\n",
              "        background-color: #E2EBFA;\n",
              "        box-shadow: 0px 1px 2px rgba(60, 64, 67, 0.3), 0px 1px 3px 1px rgba(60, 64, 67, 0.15);\n",
              "        fill: #174EA6;\n",
              "      }\n",
              "\n",
              "      [theme=dark] .colab-df-generate {\n",
              "        background-color: #3B4455;\n",
              "        fill: #D2E3FC;\n",
              "      }\n",
              "\n",
              "      [theme=dark] .colab-df-generate:hover {\n",
              "        background-color: #434B5C;\n",
              "        box-shadow: 0px 1px 3px 1px rgba(0, 0, 0, 0.15);\n",
              "        filter: drop-shadow(0px 1px 2px rgba(0, 0, 0, 0.3));\n",
              "        fill: #FFFFFF;\n",
              "      }\n",
              "    </style>\n",
              "    <button class=\"colab-df-generate\" onclick=\"generateWithVariable('results_df')\"\n",
              "            title=\"Generate code using this dataframe.\"\n",
              "            style=\"display:none;\">\n",
              "\n",
              "  <svg xmlns=\"http://www.w3.org/2000/svg\" height=\"24px\"viewBox=\"0 0 24 24\"\n",
              "       width=\"24px\">\n",
              "    <path d=\"M7,19H8.4L18.45,9,17,7.55,7,17.6ZM5,21V16.75L18.45,3.32a2,2,0,0,1,2.83,0l1.4,1.43a1.91,1.91,0,0,1,.58,1.4,1.91,1.91,0,0,1-.58,1.4L9.25,21ZM18.45,9,17,7.55Zm-12,3A5.31,5.31,0,0,0,4.9,8.1,5.31,5.31,0,0,0,1,6.5,5.31,5.31,0,0,0,4.9,4.9,5.31,5.31,0,0,0,6.5,1,5.31,5.31,0,0,0,8.1,4.9,5.31,5.31,0,0,0,12,6.5,5.46,5.46,0,0,0,6.5,12Z\"/>\n",
              "  </svg>\n",
              "    </button>\n",
              "    <script>\n",
              "      (() => {\n",
              "      const buttonEl =\n",
              "        document.querySelector('#id_c49feb71-358d-4724-9112-4050c7d8ad1e button.colab-df-generate');\n",
              "      buttonEl.style.display =\n",
              "        google.colab.kernel.accessAllowed ? 'block' : 'none';\n",
              "\n",
              "      buttonEl.onclick = () => {\n",
              "        google.colab.notebook.generateWithVariable('results_df');\n",
              "      }\n",
              "      })();\n",
              "    </script>\n",
              "  </div>\n",
              "\n",
              "    </div>\n",
              "  </div>\n"
            ],
            "application/vnd.google.colaboratory.intrinsic+json": {
              "type": "dataframe",
              "variable_name": "results_df",
              "summary": "{\n  \"name\": \"results_df\",\n  \"rows\": 1,\n  \"fields\": [\n    {\n      \"column\": \"macro-f1-score\",\n      \"properties\": {\n        \"dtype\": \"number\",\n        \"std\": null,\n        \"min\": 0.8726826858614728,\n        \"max\": 0.8726826858614728,\n        \"num_unique_values\": 1,\n        \"samples\": [\n          0.8726826858614728\n        ],\n        \"semantic_type\": \"\",\n        \"description\": \"\"\n      }\n    },\n    {\n      \"column\": \"weighted-f1-score\",\n      \"properties\": {\n        \"dtype\": \"number\",\n        \"std\": null,\n        \"min\": 0.8742100926323743,\n        \"max\": 0.8742100926323743,\n        \"num_unique_values\": 1,\n        \"samples\": [\n          0.8742100926323743\n        ],\n        \"semantic_type\": \"\",\n        \"description\": \"\"\n      }\n    },\n    {\n      \"column\": \"accuracy\",\n      \"properties\": {\n        \"dtype\": \"number\",\n        \"std\": null,\n        \"min\": 0.8725490196078431,\n        \"max\": 0.8725490196078431,\n        \"num_unique_values\": 1,\n        \"samples\": [\n          0.8725490196078431\n        ],\n        \"semantic_type\": \"\",\n        \"description\": \"\"\n      }\n    }\n  ]\n}"
            }
          },
          "metadata": {},
          "execution_count": 49
        }
      ],
      "source": [
        "results_df"
      ]
    },
    {
      "cell_type": "markdown",
      "metadata": {
        "id": "CD2LW9yVOKz_"
      },
      "source": [
        "### ClassifierDL partial"
      ]
    },
    {
      "cell_type": "code",
      "execution_count": 50,
      "metadata": {
        "id": "KWcGQLleOKz_"
      },
      "outputs": [],
      "source": [
        "log_folder=\"classifier_dl_logs_bert\""
      ]
    },
    {
      "cell_type": "code",
      "execution_count": 51,
      "metadata": {
        "id": "1WNH-l1yOKz_"
      },
      "outputs": [],
      "source": [
        "classifier_dl = nlp.ClassifierDLApproach()\\\n",
        "        .setInputCols([\"sentence_embeddings\"])\\\n",
        "        .setOutputCol(\"prediction_class\")\\\n",
        "        .setLabelColumn(\"category\")\\\n",
        "        .setBatchSize(8)\\\n",
        "        .setMaxEpochs(10)\\\n",
        "        .setLr(0.002)\\\n",
        "        .setDropout(0.1)\\\n",
        "        .setEnableOutputLogs(True)\\\n",
        "        .setOutputLogsPath(log_folder)\n",
        "\n",
        "classifier_dl_pipeline = nlp.Pipeline(stages=[classifier_dl])"
      ]
    },
    {
      "cell_type": "code",
      "execution_count": 52,
      "metadata": {
        "colab": {
          "base_uri": "https://localhost:8080/"
        },
        "id": "LoSwhxLwOKz_",
        "outputId": "21a8d19e-e923-4b52-e58e-72f5bc019050"
      },
      "outputs": [
        {
          "output_type": "stream",
          "name": "stdout",
          "text": [
            "CPU times: user 21.1 ms, sys: 5.18 ms, total: 26.3 ms\n",
            "Wall time: 1min 27s\n"
          ]
        }
      ],
      "source": [
        "%%time\n",
        "\n",
        "clfDL_model_bert = classifier_dl_pipeline.fit(trainingData_part1_with_embeddings)"
      ]
    },
    {
      "cell_type": "code",
      "execution_count": 53,
      "metadata": {
        "colab": {
          "base_uri": "https://localhost:8080/"
        },
        "id": "jCrRUmAJOK0A",
        "outputId": "2bd4bf3c-9560-4dee-d223-087258c8c40a"
      },
      "outputs": [
        {
          "output_type": "stream",
          "name": "stdout",
          "text": [
            "                  precision    recall  f1-score   support\n",
            "\n",
            "Gastroenterology       0.00      0.00      0.00        25\n",
            "       Neurology       0.00      0.00      0.00        22\n",
            "      Orthopedic       0.34      1.00      0.51        35\n",
            "         Urology       0.00      0.00      0.00        20\n",
            "\n",
            "        accuracy                           0.34       102\n",
            "       macro avg       0.09      0.25      0.13       102\n",
            "    weighted avg       0.12      0.34      0.18       102\n",
            "\n"
          ]
        }
      ],
      "source": [
        "preds = clfDL_model_bert.transform(testData_with_embeddings)\n",
        "\n",
        "preds_df = preds.select(\"category\",\"text\",\"prediction_class.result\").toPandas()\n",
        "preds_df[\"result\"] = preds_df[\"result\"].apply(lambda x : x[0])\n",
        "\n",
        "print (classification_report(preds_df[\"category\"], preds_df[\"result\"]))"
      ]
    },
    {
      "cell_type": "code",
      "execution_count": 54,
      "metadata": {
        "id": "79ZRC0LROK0A"
      },
      "outputs": [],
      "source": [
        "res = classification_report(preds_df[\"category\"], preds_df[\"result\"], output_dict=True)\n",
        "results_df.loc[\"ClassifierDL_partial_Data\"] = [res[\"macro avg\"][\"f1-score\"], res[\"weighted avg\"][\"f1-score\"], res[\"accuracy\"]]"
      ]
    },
    {
      "cell_type": "code",
      "execution_count": 55,
      "metadata": {
        "colab": {
          "base_uri": "https://localhost:8080/",
          "height": 125
        },
        "id": "OhjPiQ3lg2PC",
        "outputId": "29204091-adc7-442c-e298-97f5e7feae83"
      },
      "outputs": [
        {
          "output_type": "execute_result",
          "data": {
            "text/plain": [
              "                           macro-f1-score  weighted-f1-score  accuracy\n",
              "ClassifierDL_full_Data           0.872683           0.874210  0.872549\n",
              "ClassifierDL_partial_Data        0.127737           0.175326  0.343137"
            ],
            "text/html": [
              "\n",
              "  <div id=\"df-ad745674-c0cb-4c2a-b3a7-2b072141035f\" class=\"colab-df-container\">\n",
              "    <div>\n",
              "<style scoped>\n",
              "    .dataframe tbody tr th:only-of-type {\n",
              "        vertical-align: middle;\n",
              "    }\n",
              "\n",
              "    .dataframe tbody tr th {\n",
              "        vertical-align: top;\n",
              "    }\n",
              "\n",
              "    .dataframe thead th {\n",
              "        text-align: right;\n",
              "    }\n",
              "</style>\n",
              "<table border=\"1\" class=\"dataframe\">\n",
              "  <thead>\n",
              "    <tr style=\"text-align: right;\">\n",
              "      <th></th>\n",
              "      <th>macro-f1-score</th>\n",
              "      <th>weighted-f1-score</th>\n",
              "      <th>accuracy</th>\n",
              "    </tr>\n",
              "  </thead>\n",
              "  <tbody>\n",
              "    <tr>\n",
              "      <th>ClassifierDL_full_Data</th>\n",
              "      <td>0.872683</td>\n",
              "      <td>0.874210</td>\n",
              "      <td>0.872549</td>\n",
              "    </tr>\n",
              "    <tr>\n",
              "      <th>ClassifierDL_partial_Data</th>\n",
              "      <td>0.127737</td>\n",
              "      <td>0.175326</td>\n",
              "      <td>0.343137</td>\n",
              "    </tr>\n",
              "  </tbody>\n",
              "</table>\n",
              "</div>\n",
              "    <div class=\"colab-df-buttons\">\n",
              "\n",
              "  <div class=\"colab-df-container\">\n",
              "    <button class=\"colab-df-convert\" onclick=\"convertToInteractive('df-ad745674-c0cb-4c2a-b3a7-2b072141035f')\"\n",
              "            title=\"Convert this dataframe to an interactive table.\"\n",
              "            style=\"display:none;\">\n",
              "\n",
              "  <svg xmlns=\"http://www.w3.org/2000/svg\" height=\"24px\" viewBox=\"0 -960 960 960\">\n",
              "    <path d=\"M120-120v-720h720v720H120Zm60-500h600v-160H180v160Zm220 220h160v-160H400v160Zm0 220h160v-160H400v160ZM180-400h160v-160H180v160Zm440 0h160v-160H620v160ZM180-180h160v-160H180v160Zm440 0h160v-160H620v160Z\"/>\n",
              "  </svg>\n",
              "    </button>\n",
              "\n",
              "  <style>\n",
              "    .colab-df-container {\n",
              "      display:flex;\n",
              "      gap: 12px;\n",
              "    }\n",
              "\n",
              "    .colab-df-convert {\n",
              "      background-color: #E8F0FE;\n",
              "      border: none;\n",
              "      border-radius: 50%;\n",
              "      cursor: pointer;\n",
              "      display: none;\n",
              "      fill: #1967D2;\n",
              "      height: 32px;\n",
              "      padding: 0 0 0 0;\n",
              "      width: 32px;\n",
              "    }\n",
              "\n",
              "    .colab-df-convert:hover {\n",
              "      background-color: #E2EBFA;\n",
              "      box-shadow: 0px 1px 2px rgba(60, 64, 67, 0.3), 0px 1px 3px 1px rgba(60, 64, 67, 0.15);\n",
              "      fill: #174EA6;\n",
              "    }\n",
              "\n",
              "    .colab-df-buttons div {\n",
              "      margin-bottom: 4px;\n",
              "    }\n",
              "\n",
              "    [theme=dark] .colab-df-convert {\n",
              "      background-color: #3B4455;\n",
              "      fill: #D2E3FC;\n",
              "    }\n",
              "\n",
              "    [theme=dark] .colab-df-convert:hover {\n",
              "      background-color: #434B5C;\n",
              "      box-shadow: 0px 1px 3px 1px rgba(0, 0, 0, 0.15);\n",
              "      filter: drop-shadow(0px 1px 2px rgba(0, 0, 0, 0.3));\n",
              "      fill: #FFFFFF;\n",
              "    }\n",
              "  </style>\n",
              "\n",
              "    <script>\n",
              "      const buttonEl =\n",
              "        document.querySelector('#df-ad745674-c0cb-4c2a-b3a7-2b072141035f button.colab-df-convert');\n",
              "      buttonEl.style.display =\n",
              "        google.colab.kernel.accessAllowed ? 'block' : 'none';\n",
              "\n",
              "      async function convertToInteractive(key) {\n",
              "        const element = document.querySelector('#df-ad745674-c0cb-4c2a-b3a7-2b072141035f');\n",
              "        const dataTable =\n",
              "          await google.colab.kernel.invokeFunction('convertToInteractive',\n",
              "                                                    [key], {});\n",
              "        if (!dataTable) return;\n",
              "\n",
              "        const docLinkHtml = 'Like what you see? Visit the ' +\n",
              "          '<a target=\"_blank\" href=https://colab.research.google.com/notebooks/data_table.ipynb>data table notebook</a>'\n",
              "          + ' to learn more about interactive tables.';\n",
              "        element.innerHTML = '';\n",
              "        dataTable['output_type'] = 'display_data';\n",
              "        await google.colab.output.renderOutput(dataTable, element);\n",
              "        const docLink = document.createElement('div');\n",
              "        docLink.innerHTML = docLinkHtml;\n",
              "        element.appendChild(docLink);\n",
              "      }\n",
              "    </script>\n",
              "  </div>\n",
              "\n",
              "\n",
              "    <div id=\"df-8944854b-fa8f-44d7-91d3-91b1f0790d06\">\n",
              "      <button class=\"colab-df-quickchart\" onclick=\"quickchart('df-8944854b-fa8f-44d7-91d3-91b1f0790d06')\"\n",
              "                title=\"Suggest charts\"\n",
              "                style=\"display:none;\">\n",
              "\n",
              "<svg xmlns=\"http://www.w3.org/2000/svg\" height=\"24px\"viewBox=\"0 0 24 24\"\n",
              "     width=\"24px\">\n",
              "    <g>\n",
              "        <path d=\"M19 3H5c-1.1 0-2 .9-2 2v14c0 1.1.9 2 2 2h14c1.1 0 2-.9 2-2V5c0-1.1-.9-2-2-2zM9 17H7v-7h2v7zm4 0h-2V7h2v10zm4 0h-2v-4h2v4z\"/>\n",
              "    </g>\n",
              "</svg>\n",
              "      </button>\n",
              "\n",
              "<style>\n",
              "  .colab-df-quickchart {\n",
              "      --bg-color: #E8F0FE;\n",
              "      --fill-color: #1967D2;\n",
              "      --hover-bg-color: #E2EBFA;\n",
              "      --hover-fill-color: #174EA6;\n",
              "      --disabled-fill-color: #AAA;\n",
              "      --disabled-bg-color: #DDD;\n",
              "  }\n",
              "\n",
              "  [theme=dark] .colab-df-quickchart {\n",
              "      --bg-color: #3B4455;\n",
              "      --fill-color: #D2E3FC;\n",
              "      --hover-bg-color: #434B5C;\n",
              "      --hover-fill-color: #FFFFFF;\n",
              "      --disabled-bg-color: #3B4455;\n",
              "      --disabled-fill-color: #666;\n",
              "  }\n",
              "\n",
              "  .colab-df-quickchart {\n",
              "    background-color: var(--bg-color);\n",
              "    border: none;\n",
              "    border-radius: 50%;\n",
              "    cursor: pointer;\n",
              "    display: none;\n",
              "    fill: var(--fill-color);\n",
              "    height: 32px;\n",
              "    padding: 0;\n",
              "    width: 32px;\n",
              "  }\n",
              "\n",
              "  .colab-df-quickchart:hover {\n",
              "    background-color: var(--hover-bg-color);\n",
              "    box-shadow: 0 1px 2px rgba(60, 64, 67, 0.3), 0 1px 3px 1px rgba(60, 64, 67, 0.15);\n",
              "    fill: var(--button-hover-fill-color);\n",
              "  }\n",
              "\n",
              "  .colab-df-quickchart-complete:disabled,\n",
              "  .colab-df-quickchart-complete:disabled:hover {\n",
              "    background-color: var(--disabled-bg-color);\n",
              "    fill: var(--disabled-fill-color);\n",
              "    box-shadow: none;\n",
              "  }\n",
              "\n",
              "  .colab-df-spinner {\n",
              "    border: 2px solid var(--fill-color);\n",
              "    border-color: transparent;\n",
              "    border-bottom-color: var(--fill-color);\n",
              "    animation:\n",
              "      spin 1s steps(1) infinite;\n",
              "  }\n",
              "\n",
              "  @keyframes spin {\n",
              "    0% {\n",
              "      border-color: transparent;\n",
              "      border-bottom-color: var(--fill-color);\n",
              "      border-left-color: var(--fill-color);\n",
              "    }\n",
              "    20% {\n",
              "      border-color: transparent;\n",
              "      border-left-color: var(--fill-color);\n",
              "      border-top-color: var(--fill-color);\n",
              "    }\n",
              "    30% {\n",
              "      border-color: transparent;\n",
              "      border-left-color: var(--fill-color);\n",
              "      border-top-color: var(--fill-color);\n",
              "      border-right-color: var(--fill-color);\n",
              "    }\n",
              "    40% {\n",
              "      border-color: transparent;\n",
              "      border-right-color: var(--fill-color);\n",
              "      border-top-color: var(--fill-color);\n",
              "    }\n",
              "    60% {\n",
              "      border-color: transparent;\n",
              "      border-right-color: var(--fill-color);\n",
              "    }\n",
              "    80% {\n",
              "      border-color: transparent;\n",
              "      border-right-color: var(--fill-color);\n",
              "      border-bottom-color: var(--fill-color);\n",
              "    }\n",
              "    90% {\n",
              "      border-color: transparent;\n",
              "      border-bottom-color: var(--fill-color);\n",
              "    }\n",
              "  }\n",
              "</style>\n",
              "\n",
              "      <script>\n",
              "        async function quickchart(key) {\n",
              "          const quickchartButtonEl =\n",
              "            document.querySelector('#' + key + ' button');\n",
              "          quickchartButtonEl.disabled = true;  // To prevent multiple clicks.\n",
              "          quickchartButtonEl.classList.add('colab-df-spinner');\n",
              "          try {\n",
              "            const charts = await google.colab.kernel.invokeFunction(\n",
              "                'suggestCharts', [key], {});\n",
              "          } catch (error) {\n",
              "            console.error('Error during call to suggestCharts:', error);\n",
              "          }\n",
              "          quickchartButtonEl.classList.remove('colab-df-spinner');\n",
              "          quickchartButtonEl.classList.add('colab-df-quickchart-complete');\n",
              "        }\n",
              "        (() => {\n",
              "          let quickchartButtonEl =\n",
              "            document.querySelector('#df-8944854b-fa8f-44d7-91d3-91b1f0790d06 button');\n",
              "          quickchartButtonEl.style.display =\n",
              "            google.colab.kernel.accessAllowed ? 'block' : 'none';\n",
              "        })();\n",
              "      </script>\n",
              "    </div>\n",
              "\n",
              "  <div id=\"id_2f65ba89-3f80-4419-b13f-f9d078bc168f\">\n",
              "    <style>\n",
              "      .colab-df-generate {\n",
              "        background-color: #E8F0FE;\n",
              "        border: none;\n",
              "        border-radius: 50%;\n",
              "        cursor: pointer;\n",
              "        display: none;\n",
              "        fill: #1967D2;\n",
              "        height: 32px;\n",
              "        padding: 0 0 0 0;\n",
              "        width: 32px;\n",
              "      }\n",
              "\n",
              "      .colab-df-generate:hover {\n",
              "        background-color: #E2EBFA;\n",
              "        box-shadow: 0px 1px 2px rgba(60, 64, 67, 0.3), 0px 1px 3px 1px rgba(60, 64, 67, 0.15);\n",
              "        fill: #174EA6;\n",
              "      }\n",
              "\n",
              "      [theme=dark] .colab-df-generate {\n",
              "        background-color: #3B4455;\n",
              "        fill: #D2E3FC;\n",
              "      }\n",
              "\n",
              "      [theme=dark] .colab-df-generate:hover {\n",
              "        background-color: #434B5C;\n",
              "        box-shadow: 0px 1px 3px 1px rgba(0, 0, 0, 0.15);\n",
              "        filter: drop-shadow(0px 1px 2px rgba(0, 0, 0, 0.3));\n",
              "        fill: #FFFFFF;\n",
              "      }\n",
              "    </style>\n",
              "    <button class=\"colab-df-generate\" onclick=\"generateWithVariable('results_df')\"\n",
              "            title=\"Generate code using this dataframe.\"\n",
              "            style=\"display:none;\">\n",
              "\n",
              "  <svg xmlns=\"http://www.w3.org/2000/svg\" height=\"24px\"viewBox=\"0 0 24 24\"\n",
              "       width=\"24px\">\n",
              "    <path d=\"M7,19H8.4L18.45,9,17,7.55,7,17.6ZM5,21V16.75L18.45,3.32a2,2,0,0,1,2.83,0l1.4,1.43a1.91,1.91,0,0,1,.58,1.4,1.91,1.91,0,0,1-.58,1.4L9.25,21ZM18.45,9,17,7.55Zm-12,3A5.31,5.31,0,0,0,4.9,8.1,5.31,5.31,0,0,0,1,6.5,5.31,5.31,0,0,0,4.9,4.9,5.31,5.31,0,0,0,6.5,1,5.31,5.31,0,0,0,8.1,4.9,5.31,5.31,0,0,0,12,6.5,5.46,5.46,0,0,0,6.5,12Z\"/>\n",
              "  </svg>\n",
              "    </button>\n",
              "    <script>\n",
              "      (() => {\n",
              "      const buttonEl =\n",
              "        document.querySelector('#id_2f65ba89-3f80-4419-b13f-f9d078bc168f button.colab-df-generate');\n",
              "      buttonEl.style.display =\n",
              "        google.colab.kernel.accessAllowed ? 'block' : 'none';\n",
              "\n",
              "      buttonEl.onclick = () => {\n",
              "        google.colab.notebook.generateWithVariable('results_df');\n",
              "      }\n",
              "      })();\n",
              "    </script>\n",
              "  </div>\n",
              "\n",
              "    </div>\n",
              "  </div>\n"
            ],
            "application/vnd.google.colaboratory.intrinsic+json": {
              "type": "dataframe",
              "variable_name": "results_df",
              "summary": "{\n  \"name\": \"results_df\",\n  \"rows\": 2,\n  \"fields\": [\n    {\n      \"column\": \"macro-f1-score\",\n      \"properties\": {\n        \"dtype\": \"number\",\n        \"std\": 0.5267559860860467,\n        \"min\": 0.12773722627737227,\n        \"max\": 0.8726826858614728,\n        \"num_unique_values\": 2,\n        \"samples\": [\n          0.12773722627737227,\n          0.8726826858614728\n        ],\n        \"semantic_type\": \"\",\n        \"description\": \"\"\n      }\n    },\n    {\n      \"column\": \"weighted-f1-score\",\n      \"properties\": {\n        \"dtype\": \"number\",\n        \"std\": 0.49418596068700643,\n        \"min\": 0.17532560469443254,\n        \"max\": 0.8742100926323743,\n        \"num_unique_values\": 2,\n        \"samples\": [\n          0.17532560469443254,\n          0.8742100926323743\n        ],\n        \"semantic_type\": \"\",\n        \"description\": \"\"\n      }\n    },\n    {\n      \"column\": \"accuracy\",\n      \"properties\": {\n        \"dtype\": \"number\",\n        \"std\": 0.37435064886346636,\n        \"min\": 0.3431372549019608,\n        \"max\": 0.8725490196078431,\n        \"num_unique_values\": 2,\n        \"samples\": [\n          0.3431372549019608,\n          0.8725490196078431\n        ],\n        \"semantic_type\": \"\",\n        \"description\": \"\"\n      }\n    }\n  ]\n}"
            }
          },
          "metadata": {},
          "execution_count": 55
        }
      ],
      "source": [
        "results_df"
      ]
    },
    {
      "cell_type": "markdown",
      "metadata": {
        "id": "Pi2MnMtnOBqX"
      },
      "source": [
        "## Few Shot partial"
      ]
    },
    {
      "cell_type": "code",
      "execution_count": 56,
      "metadata": {
        "id": "7X9CmpqnEPy5"
      },
      "outputs": [],
      "source": [
        "graph_builder = medical.TFGraphBuilder()\\\n",
        "    .setModelName(\"fewshot_classifier\")\\\n",
        "    .setInputCols([\"sentence_embeddings\"]) \\\n",
        "    .setLabelColumn(\"category\")\\\n",
        "    .setGraphFolder(\"/tmp\")\\\n",
        "    .setGraphFile(\"log_reg_graph.pb\")\\\n",
        "\n",
        "few_shot_approach = medical.FewShotClassifierApproach()\\\n",
        "    .setLabelColumn(\"category\")\\\n",
        "    .setInputCols([\"sentence_embeddings\"])\\\n",
        "    .setOutputCol(\"prediction\")\\\n",
        "    .setModelFile(f\"/tmp/log_reg_graph.pb\")\\\n",
        "    .setEpochsNumber(10)\\\n",
        "    .setBatchSize(8)\\\n",
        "    .setLearningRate(0.002)\n",
        "\n",
        "pipeline = nlp.Pipeline(\n",
        "    stages=[\n",
        "        graph_builder,\n",
        "        few_shot_approach\n",
        "    ])"
      ]
    },
    {
      "cell_type": "code",
      "execution_count": 57,
      "metadata": {
        "colab": {
          "base_uri": "https://localhost:8080/"
        },
        "id": "xtlyno7Za2Pf",
        "outputId": "bb2cb5a7-7b76-45b2-e4c3-a682f98a3394"
      },
      "outputs": [
        {
          "output_type": "stream",
          "name": "stdout",
          "text": [
            "TF Graph Builder configuration:\n",
            "Model name: fewshot_classifier\n",
            "Graph folder: /tmp\n",
            "Graph file name: log_reg_graph.pb\n",
            "Build params: {'input_dim': 768, 'output_dim': 4, 'hidden_layers': [], 'output_act': 'sigmoid'}\n",
            "fewshot_classifier graph exported to /tmp/log_reg_graph.pb\n",
            "CPU times: user 446 ms, sys: 19.9 ms, total: 466 ms\n",
            "Wall time: 2min 45s\n"
          ]
        }
      ],
      "source": [
        "%%time\n",
        "model = pipeline.fit(trainingData_part1_with_embeddings)"
      ]
    },
    {
      "cell_type": "code",
      "execution_count": 58,
      "metadata": {
        "id": "2tNX9qDqG1Ul"
      },
      "outputs": [],
      "source": [
        "preds = model.transform(testData_with_embeddings)"
      ]
    },
    {
      "cell_type": "code",
      "execution_count": 59,
      "metadata": {
        "colab": {
          "base_uri": "https://localhost:8080/"
        },
        "id": "uGFN40ju9oaB",
        "outputId": "14b8e07e-843d-4888-933e-b6d45fc0570d"
      },
      "outputs": [
        {
          "output_type": "stream",
          "name": "stdout",
          "text": [
            "                  precision    recall  f1-score   support\n",
            "\n",
            "Gastroenterology       0.88      0.88      0.88        25\n",
            "       Neurology       0.84      0.73      0.78        22\n",
            "      Orthopedic       0.79      0.89      0.84        35\n",
            "         Urology       0.84      0.80      0.82        20\n",
            "\n",
            "        accuracy                           0.83       102\n",
            "       macro avg       0.84      0.82      0.83       102\n",
            "    weighted avg       0.84      0.83      0.83       102\n",
            "\n"
          ]
        }
      ],
      "source": [
        "from sklearn.metrics import  classification_report\n",
        "\n",
        "preds_df = preds.select(\"category\",\"text\",\"prediction.result\").toPandas()\n",
        "preds_df[\"result\"] = preds_df[\"result\"].apply(lambda x : x[0])\n",
        "\n",
        "print (classification_report(preds_df[\"category\"], preds_df[\"result\"]))"
      ]
    },
    {
      "cell_type": "code",
      "execution_count": 60,
      "metadata": {
        "id": "kJN3UlasDR4K"
      },
      "outputs": [],
      "source": [
        "res = classification_report(preds_df[\"category\"], preds_df[\"result\"], output_dict=True)\n",
        "results_df.loc[\"FewShot_partial_Data\"] = [res[\"macro avg\"][\"f1-score\"], res[\"weighted avg\"][\"f1-score\"], res[\"accuracy\"]]"
      ]
    },
    {
      "cell_type": "code",
      "execution_count": 61,
      "metadata": {
        "colab": {
          "base_uri": "https://localhost:8080/",
          "height": 144
        },
        "id": "ol94TOHFlC6m",
        "outputId": "c76c703c-8da4-49a1-a506-01fec329a42e"
      },
      "outputs": [
        {
          "output_type": "execute_result",
          "data": {
            "text/plain": [
              "                           macro-f1-score  weighted-f1-score  accuracy\n",
              "ClassifierDL_full_Data           0.872683           0.874210  0.872549\n",
              "ClassifierDL_partial_Data        0.127737           0.175326  0.343137\n",
              "FewShot_partial_Data             0.829710           0.832405  0.833333"
            ],
            "text/html": [
              "\n",
              "  <div id=\"df-718dad43-5199-4bc4-8d9f-66206a172556\" class=\"colab-df-container\">\n",
              "    <div>\n",
              "<style scoped>\n",
              "    .dataframe tbody tr th:only-of-type {\n",
              "        vertical-align: middle;\n",
              "    }\n",
              "\n",
              "    .dataframe tbody tr th {\n",
              "        vertical-align: top;\n",
              "    }\n",
              "\n",
              "    .dataframe thead th {\n",
              "        text-align: right;\n",
              "    }\n",
              "</style>\n",
              "<table border=\"1\" class=\"dataframe\">\n",
              "  <thead>\n",
              "    <tr style=\"text-align: right;\">\n",
              "      <th></th>\n",
              "      <th>macro-f1-score</th>\n",
              "      <th>weighted-f1-score</th>\n",
              "      <th>accuracy</th>\n",
              "    </tr>\n",
              "  </thead>\n",
              "  <tbody>\n",
              "    <tr>\n",
              "      <th>ClassifierDL_full_Data</th>\n",
              "      <td>0.872683</td>\n",
              "      <td>0.874210</td>\n",
              "      <td>0.872549</td>\n",
              "    </tr>\n",
              "    <tr>\n",
              "      <th>ClassifierDL_partial_Data</th>\n",
              "      <td>0.127737</td>\n",
              "      <td>0.175326</td>\n",
              "      <td>0.343137</td>\n",
              "    </tr>\n",
              "    <tr>\n",
              "      <th>FewShot_partial_Data</th>\n",
              "      <td>0.829710</td>\n",
              "      <td>0.832405</td>\n",
              "      <td>0.833333</td>\n",
              "    </tr>\n",
              "  </tbody>\n",
              "</table>\n",
              "</div>\n",
              "    <div class=\"colab-df-buttons\">\n",
              "\n",
              "  <div class=\"colab-df-container\">\n",
              "    <button class=\"colab-df-convert\" onclick=\"convertToInteractive('df-718dad43-5199-4bc4-8d9f-66206a172556')\"\n",
              "            title=\"Convert this dataframe to an interactive table.\"\n",
              "            style=\"display:none;\">\n",
              "\n",
              "  <svg xmlns=\"http://www.w3.org/2000/svg\" height=\"24px\" viewBox=\"0 -960 960 960\">\n",
              "    <path d=\"M120-120v-720h720v720H120Zm60-500h600v-160H180v160Zm220 220h160v-160H400v160Zm0 220h160v-160H400v160ZM180-400h160v-160H180v160Zm440 0h160v-160H620v160ZM180-180h160v-160H180v160Zm440 0h160v-160H620v160Z\"/>\n",
              "  </svg>\n",
              "    </button>\n",
              "\n",
              "  <style>\n",
              "    .colab-df-container {\n",
              "      display:flex;\n",
              "      gap: 12px;\n",
              "    }\n",
              "\n",
              "    .colab-df-convert {\n",
              "      background-color: #E8F0FE;\n",
              "      border: none;\n",
              "      border-radius: 50%;\n",
              "      cursor: pointer;\n",
              "      display: none;\n",
              "      fill: #1967D2;\n",
              "      height: 32px;\n",
              "      padding: 0 0 0 0;\n",
              "      width: 32px;\n",
              "    }\n",
              "\n",
              "    .colab-df-convert:hover {\n",
              "      background-color: #E2EBFA;\n",
              "      box-shadow: 0px 1px 2px rgba(60, 64, 67, 0.3), 0px 1px 3px 1px rgba(60, 64, 67, 0.15);\n",
              "      fill: #174EA6;\n",
              "    }\n",
              "\n",
              "    .colab-df-buttons div {\n",
              "      margin-bottom: 4px;\n",
              "    }\n",
              "\n",
              "    [theme=dark] .colab-df-convert {\n",
              "      background-color: #3B4455;\n",
              "      fill: #D2E3FC;\n",
              "    }\n",
              "\n",
              "    [theme=dark] .colab-df-convert:hover {\n",
              "      background-color: #434B5C;\n",
              "      box-shadow: 0px 1px 3px 1px rgba(0, 0, 0, 0.15);\n",
              "      filter: drop-shadow(0px 1px 2px rgba(0, 0, 0, 0.3));\n",
              "      fill: #FFFFFF;\n",
              "    }\n",
              "  </style>\n",
              "\n",
              "    <script>\n",
              "      const buttonEl =\n",
              "        document.querySelector('#df-718dad43-5199-4bc4-8d9f-66206a172556 button.colab-df-convert');\n",
              "      buttonEl.style.display =\n",
              "        google.colab.kernel.accessAllowed ? 'block' : 'none';\n",
              "\n",
              "      async function convertToInteractive(key) {\n",
              "        const element = document.querySelector('#df-718dad43-5199-4bc4-8d9f-66206a172556');\n",
              "        const dataTable =\n",
              "          await google.colab.kernel.invokeFunction('convertToInteractive',\n",
              "                                                    [key], {});\n",
              "        if (!dataTable) return;\n",
              "\n",
              "        const docLinkHtml = 'Like what you see? Visit the ' +\n",
              "          '<a target=\"_blank\" href=https://colab.research.google.com/notebooks/data_table.ipynb>data table notebook</a>'\n",
              "          + ' to learn more about interactive tables.';\n",
              "        element.innerHTML = '';\n",
              "        dataTable['output_type'] = 'display_data';\n",
              "        await google.colab.output.renderOutput(dataTable, element);\n",
              "        const docLink = document.createElement('div');\n",
              "        docLink.innerHTML = docLinkHtml;\n",
              "        element.appendChild(docLink);\n",
              "      }\n",
              "    </script>\n",
              "  </div>\n",
              "\n",
              "\n",
              "    <div id=\"df-c6a4e7a7-7fff-4b55-9354-e70b7ed7f9f8\">\n",
              "      <button class=\"colab-df-quickchart\" onclick=\"quickchart('df-c6a4e7a7-7fff-4b55-9354-e70b7ed7f9f8')\"\n",
              "                title=\"Suggest charts\"\n",
              "                style=\"display:none;\">\n",
              "\n",
              "<svg xmlns=\"http://www.w3.org/2000/svg\" height=\"24px\"viewBox=\"0 0 24 24\"\n",
              "     width=\"24px\">\n",
              "    <g>\n",
              "        <path d=\"M19 3H5c-1.1 0-2 .9-2 2v14c0 1.1.9 2 2 2h14c1.1 0 2-.9 2-2V5c0-1.1-.9-2-2-2zM9 17H7v-7h2v7zm4 0h-2V7h2v10zm4 0h-2v-4h2v4z\"/>\n",
              "    </g>\n",
              "</svg>\n",
              "      </button>\n",
              "\n",
              "<style>\n",
              "  .colab-df-quickchart {\n",
              "      --bg-color: #E8F0FE;\n",
              "      --fill-color: #1967D2;\n",
              "      --hover-bg-color: #E2EBFA;\n",
              "      --hover-fill-color: #174EA6;\n",
              "      --disabled-fill-color: #AAA;\n",
              "      --disabled-bg-color: #DDD;\n",
              "  }\n",
              "\n",
              "  [theme=dark] .colab-df-quickchart {\n",
              "      --bg-color: #3B4455;\n",
              "      --fill-color: #D2E3FC;\n",
              "      --hover-bg-color: #434B5C;\n",
              "      --hover-fill-color: #FFFFFF;\n",
              "      --disabled-bg-color: #3B4455;\n",
              "      --disabled-fill-color: #666;\n",
              "  }\n",
              "\n",
              "  .colab-df-quickchart {\n",
              "    background-color: var(--bg-color);\n",
              "    border: none;\n",
              "    border-radius: 50%;\n",
              "    cursor: pointer;\n",
              "    display: none;\n",
              "    fill: var(--fill-color);\n",
              "    height: 32px;\n",
              "    padding: 0;\n",
              "    width: 32px;\n",
              "  }\n",
              "\n",
              "  .colab-df-quickchart:hover {\n",
              "    background-color: var(--hover-bg-color);\n",
              "    box-shadow: 0 1px 2px rgba(60, 64, 67, 0.3), 0 1px 3px 1px rgba(60, 64, 67, 0.15);\n",
              "    fill: var(--button-hover-fill-color);\n",
              "  }\n",
              "\n",
              "  .colab-df-quickchart-complete:disabled,\n",
              "  .colab-df-quickchart-complete:disabled:hover {\n",
              "    background-color: var(--disabled-bg-color);\n",
              "    fill: var(--disabled-fill-color);\n",
              "    box-shadow: none;\n",
              "  }\n",
              "\n",
              "  .colab-df-spinner {\n",
              "    border: 2px solid var(--fill-color);\n",
              "    border-color: transparent;\n",
              "    border-bottom-color: var(--fill-color);\n",
              "    animation:\n",
              "      spin 1s steps(1) infinite;\n",
              "  }\n",
              "\n",
              "  @keyframes spin {\n",
              "    0% {\n",
              "      border-color: transparent;\n",
              "      border-bottom-color: var(--fill-color);\n",
              "      border-left-color: var(--fill-color);\n",
              "    }\n",
              "    20% {\n",
              "      border-color: transparent;\n",
              "      border-left-color: var(--fill-color);\n",
              "      border-top-color: var(--fill-color);\n",
              "    }\n",
              "    30% {\n",
              "      border-color: transparent;\n",
              "      border-left-color: var(--fill-color);\n",
              "      border-top-color: var(--fill-color);\n",
              "      border-right-color: var(--fill-color);\n",
              "    }\n",
              "    40% {\n",
              "      border-color: transparent;\n",
              "      border-right-color: var(--fill-color);\n",
              "      border-top-color: var(--fill-color);\n",
              "    }\n",
              "    60% {\n",
              "      border-color: transparent;\n",
              "      border-right-color: var(--fill-color);\n",
              "    }\n",
              "    80% {\n",
              "      border-color: transparent;\n",
              "      border-right-color: var(--fill-color);\n",
              "      border-bottom-color: var(--fill-color);\n",
              "    }\n",
              "    90% {\n",
              "      border-color: transparent;\n",
              "      border-bottom-color: var(--fill-color);\n",
              "    }\n",
              "  }\n",
              "</style>\n",
              "\n",
              "      <script>\n",
              "        async function quickchart(key) {\n",
              "          const quickchartButtonEl =\n",
              "            document.querySelector('#' + key + ' button');\n",
              "          quickchartButtonEl.disabled = true;  // To prevent multiple clicks.\n",
              "          quickchartButtonEl.classList.add('colab-df-spinner');\n",
              "          try {\n",
              "            const charts = await google.colab.kernel.invokeFunction(\n",
              "                'suggestCharts', [key], {});\n",
              "          } catch (error) {\n",
              "            console.error('Error during call to suggestCharts:', error);\n",
              "          }\n",
              "          quickchartButtonEl.classList.remove('colab-df-spinner');\n",
              "          quickchartButtonEl.classList.add('colab-df-quickchart-complete');\n",
              "        }\n",
              "        (() => {\n",
              "          let quickchartButtonEl =\n",
              "            document.querySelector('#df-c6a4e7a7-7fff-4b55-9354-e70b7ed7f9f8 button');\n",
              "          quickchartButtonEl.style.display =\n",
              "            google.colab.kernel.accessAllowed ? 'block' : 'none';\n",
              "        })();\n",
              "      </script>\n",
              "    </div>\n",
              "\n",
              "  <div id=\"id_11a0a620-208d-469d-8c4d-5535f072ba01\">\n",
              "    <style>\n",
              "      .colab-df-generate {\n",
              "        background-color: #E8F0FE;\n",
              "        border: none;\n",
              "        border-radius: 50%;\n",
              "        cursor: pointer;\n",
              "        display: none;\n",
              "        fill: #1967D2;\n",
              "        height: 32px;\n",
              "        padding: 0 0 0 0;\n",
              "        width: 32px;\n",
              "      }\n",
              "\n",
              "      .colab-df-generate:hover {\n",
              "        background-color: #E2EBFA;\n",
              "        box-shadow: 0px 1px 2px rgba(60, 64, 67, 0.3), 0px 1px 3px 1px rgba(60, 64, 67, 0.15);\n",
              "        fill: #174EA6;\n",
              "      }\n",
              "\n",
              "      [theme=dark] .colab-df-generate {\n",
              "        background-color: #3B4455;\n",
              "        fill: #D2E3FC;\n",
              "      }\n",
              "\n",
              "      [theme=dark] .colab-df-generate:hover {\n",
              "        background-color: #434B5C;\n",
              "        box-shadow: 0px 1px 3px 1px rgba(0, 0, 0, 0.15);\n",
              "        filter: drop-shadow(0px 1px 2px rgba(0, 0, 0, 0.3));\n",
              "        fill: #FFFFFF;\n",
              "      }\n",
              "    </style>\n",
              "    <button class=\"colab-df-generate\" onclick=\"generateWithVariable('results_df')\"\n",
              "            title=\"Generate code using this dataframe.\"\n",
              "            style=\"display:none;\">\n",
              "\n",
              "  <svg xmlns=\"http://www.w3.org/2000/svg\" height=\"24px\"viewBox=\"0 0 24 24\"\n",
              "       width=\"24px\">\n",
              "    <path d=\"M7,19H8.4L18.45,9,17,7.55,7,17.6ZM5,21V16.75L18.45,3.32a2,2,0,0,1,2.83,0l1.4,1.43a1.91,1.91,0,0,1,.58,1.4,1.91,1.91,0,0,1-.58,1.4L9.25,21ZM18.45,9,17,7.55Zm-12,3A5.31,5.31,0,0,0,4.9,8.1,5.31,5.31,0,0,0,1,6.5,5.31,5.31,0,0,0,4.9,4.9,5.31,5.31,0,0,0,6.5,1,5.31,5.31,0,0,0,8.1,4.9,5.31,5.31,0,0,0,12,6.5,5.46,5.46,0,0,0,6.5,12Z\"/>\n",
              "  </svg>\n",
              "    </button>\n",
              "    <script>\n",
              "      (() => {\n",
              "      const buttonEl =\n",
              "        document.querySelector('#id_11a0a620-208d-469d-8c4d-5535f072ba01 button.colab-df-generate');\n",
              "      buttonEl.style.display =\n",
              "        google.colab.kernel.accessAllowed ? 'block' : 'none';\n",
              "\n",
              "      buttonEl.onclick = () => {\n",
              "        google.colab.notebook.generateWithVariable('results_df');\n",
              "      }\n",
              "      })();\n",
              "    </script>\n",
              "  </div>\n",
              "\n",
              "    </div>\n",
              "  </div>\n"
            ],
            "application/vnd.google.colaboratory.intrinsic+json": {
              "type": "dataframe",
              "variable_name": "results_df",
              "summary": "{\n  \"name\": \"results_df\",\n  \"rows\": 3,\n  \"fields\": [\n    {\n      \"column\": \"macro-f1-score\",\n      \"properties\": {\n        \"dtype\": \"number\",\n        \"std\": 0.4182414888887045,\n        \"min\": 0.12773722627737227,\n        \"max\": 0.8726826858614728,\n        \"num_unique_values\": 3,\n        \"samples\": [\n          0.8726826858614728,\n          0.12773722627737227,\n          0.8297096158071768\n        ],\n        \"semantic_type\": \"\",\n        \"description\": \"\"\n      }\n    },\n    {\n      \"column\": \"weighted-f1-score\",\n      \"properties\": {\n        \"dtype\": \"number\",\n        \"std\": 0.39199076401639876,\n        \"min\": 0.17532560469443254,\n        \"max\": 0.8742100926323743,\n        \"num_unique_values\": 3,\n        \"samples\": [\n          0.8742100926323743,\n          0.17532560469443254,\n          0.8324050239401746\n        ],\n        \"semantic_type\": \"\",\n        \"description\": \"\"\n      }\n    },\n    {\n      \"column\": \"accuracy\",\n      \"properties\": {\n        \"dtype\": \"number\",\n        \"std\": 0.2949878195136407,\n        \"min\": 0.3431372549019608,\n        \"max\": 0.8725490196078431,\n        \"num_unique_values\": 3,\n        \"samples\": [\n          0.8725490196078431,\n          0.3431372549019608,\n          0.8333333333333334\n        ],\n        \"semantic_type\": \"\",\n        \"description\": \"\"\n      }\n    }\n  ]\n}"
            }
          },
          "metadata": {},
          "execution_count": 61
        }
      ],
      "source": [
        "results_df"
      ]
    },
    {
      "cell_type": "markdown",
      "metadata": {
        "id": "2M_CTIpvZtQL"
      },
      "source": [
        "# Few Shot Clasification Model"
      ]
    },
    {
      "cell_type": "markdown",
      "metadata": {
        "id": "yfiFkJylaFDr"
      },
      "source": [
        "|index|model|\n",
        "|-----:|:-----|\n",
        "|1|[few_shot_classifier_age_group_sbiobert_cased_mli](https://nlp.johnsnowlabs.com/2023/08/17/few_shot_classifier_age_group_sbiobert_cased_mli_en.html)\n",
        "|2|[few_shot_classifier_patient_complaint_sbiobert_cased_mli](https://nlp.johnsnowlabs.com/2023/08/30/few_shot_classifier_patient_complaint_sbiobert_cased_mli_en.html)"
      ]
    },
    {
      "cell_type": "markdown",
      "metadata": {
        "id": "YsU39WCQSyS8"
      },
      "source": [
        "1.\t`few_shot_classifier_age_group_sbiobert_cased_mli`"
      ]
    },
    {
      "cell_type": "code",
      "execution_count": 62,
      "metadata": {
        "colab": {
          "base_uri": "https://localhost:8080/"
        },
        "id": "swjR2iBMS_Ks",
        "outputId": "f5aac75e-f9b3-4db1-9b78-764434f22e6e"
      },
      "outputs": [
        {
          "output_type": "stream",
          "name": "stdout",
          "text": [
            "sbiobert_base_cased_mli download started this may take some time.\n",
            "Approximate size to download 384.3 MB\n",
            "[OK!]\n",
            "few_shot_classifier_age_group_sbiobert_cased_mli download started this may take some time.\n",
            "Approximate size to download 46.1 KB\n",
            "[OK!]\n"
          ]
        }
      ],
      "source": [
        "document_assembler = nlp.DocumentAssembler()\\\n",
        "    .setInputCol(\"text\")\\\n",
        "    .setOutputCol(\"document\")\n",
        "\n",
        "bert_sent = nlp.BertSentenceEmbeddings.pretrained(\"sbiobert_base_cased_mli\", \"en\", \"clinical/models\")\\\n",
        "    .setInputCols([\"document\"])\\\n",
        "    .setOutputCol(\"sentence_embeddings\")\n",
        "\n",
        "few_shot_classifier = medical.FewShotClassifierModel.pretrained(\"few_shot_classifier_age_group_sbiobert_cased_mli\", \"en\", \"clinical/models\")\\\n",
        "    .setInputCols([\"sentence_embeddings\"])\\\n",
        "    .setOutputCol(\"prediction\")\n",
        "\n",
        "clf_Pipeline = nlp.Pipeline(stages=[\n",
        "    document_assembler,\n",
        "    bert_sent,\n",
        "    few_shot_classifier\n",
        "])\n",
        "\n",
        "data = spark.createDataFrame([\n",
        "    [\"\"\"A patient presented with complaints of chest pain and shortness of breath. The medical history revealed the patient had a smoking habit for over 30 years, and was diagnosed with hypertension two years ago. After a detailed physical examination, the doctor found a noticeable wheeze on lung auscultation and prescribed a spirometry test, which showed irreversible airway obstruction. The patient was diagnosed with Chronic obstructive pulmonary disease (COPD) caused by smoking.\"\"\"],\n",
        " [\"\"\"Hi, wondering if anyone has had a similar situation. My 1 year old daughter has the following; loose stools/ pale stools, elevated liver enzymes, low iron.  5 months and still no answers from drs. \"\"\"],\n",
        " [\"\"\"Hi have chronic gastritis from 4 month(confirmed by endoscopy).I do not have acid reflux.Only dull ache above abdomen and left side of chest.I am on reberprozole and librax.My question is whether chronic gastritis is curable or is it a lifetime condition?I am loosing hope because this dull ache is not going away.Please please reply\"\"\"]\n",
        "    ]).toDF(\"text\")\n",
        "\n",
        "result = clf_Pipeline.fit(data).transform(data)"
      ]
    },
    {
      "cell_type": "code",
      "execution_count": 63,
      "metadata": {
        "colab": {
          "base_uri": "https://localhost:8080/"
        },
        "id": "SnO3XO-bS_Hm",
        "outputId": "a1b75d52-2638-49f8-e6e0-cda1bc675e4d"
      },
      "outputs": [
        {
          "output_type": "execute_result",
          "data": {
            "text/plain": [
              "['Unknown', 'Adult', 'Child']"
            ]
          },
          "metadata": {},
          "execution_count": 63
        }
      ],
      "source": [
        "few_shot_classifier.getClasses()"
      ]
    },
    {
      "cell_type": "code",
      "execution_count": 64,
      "metadata": {
        "colab": {
          "base_uri": "https://localhost:8080/"
        },
        "id": "kkCQ6T2fS_Dj",
        "outputId": "7191308a-9a30-4230-9c76-f5f3fcb1368f"
      },
      "outputs": [
        {
          "output_type": "stream",
          "name": "stdout",
          "text": [
            "+--------------------+--------------------+--------------------+--------------------+\n",
            "|                text|            document| sentence_embeddings|          prediction|\n",
            "+--------------------+--------------------+--------------------+--------------------+\n",
            "|A patient present...|[{document, 0, 47...|[{sentence_embedd...|[{category, 0, 0,...|\n",
            "|Hi, wondering if ...|[{document, 0, 19...|[{sentence_embedd...|[{category, 0, 0,...|\n",
            "|Hi have chronic g...|[{document, 0, 33...|[{sentence_embedd...|[{category, 0, 0,...|\n",
            "+--------------------+--------------------+--------------------+--------------------+\n",
            "\n"
          ]
        }
      ],
      "source": [
        "result.show()"
      ]
    },
    {
      "cell_type": "code",
      "execution_count": 65,
      "metadata": {
        "colab": {
          "base_uri": "https://localhost:8080/"
        },
        "id": "6HQhCADnSvK8",
        "outputId": "59faf0e3-d32b-4fe4-dc88-ec6f9d86079b"
      },
      "outputs": [
        {
          "output_type": "stream",
          "name": "stdout",
          "text": [
            "+---------+------------------------------------------------------------------------------------------------------------------------------------------------------+\n",
            "|   result|                                                                                                                                                  text|\n",
            "+---------+------------------------------------------------------------------------------------------------------------------------------------------------------+\n",
            "|  [Adult]|A patient presented with complaints of chest pain and shortness of breath. The medical history revealed the patient had a smoking habit for over 30...|\n",
            "|  [Child]|Hi, wondering if anyone has had a similar situation. My 1 year old daughter has the following; loose stools/ pale stools, elevated liver enzymes, l...|\n",
            "|[Unknown]|Hi have chronic gastritis from 4 month(confirmed by endoscopy).I do not have acid reflux.Only dull ache above abdomen and left side of chest.I am o...|\n",
            "+---------+------------------------------------------------------------------------------------------------------------------------------------------------------+\n",
            "\n"
          ]
        }
      ],
      "source": [
        "result.select('prediction.result','text').show(truncate=150)"
      ]
    },
    {
      "cell_type": "markdown",
      "metadata": {
        "id": "lma5s1ktS8JY"
      },
      "source": [
        "2.\t`few_shot_classifier_patient_complaint_sbiobert_cased_mli`"
      ]
    },
    {
      "cell_type": "code",
      "execution_count": 66,
      "metadata": {
        "colab": {
          "base_uri": "https://localhost:8080/"
        },
        "id": "ffZTeFLyaI5W",
        "outputId": "18524b7d-882b-4ace-d5fe-49258d051aba"
      },
      "outputs": [
        {
          "output_type": "stream",
          "name": "stdout",
          "text": [
            "sbiobert_base_cased_mli download started this may take some time.\n",
            "Approximate size to download 384.3 MB\n",
            "[OK!]\n",
            "few_shot_classifier_patient_complaint_sbiobert_cased_mli download started this may take some time.\n",
            "Approximate size to download 37.5 KB\n",
            "[OK!]\n"
          ]
        }
      ],
      "source": [
        "document_assembler = nlp.DocumentAssembler()\\\n",
        "    .setInputCol(\"text\")\\\n",
        "    .setOutputCol(\"document\")\n",
        "\n",
        "bert_sent = nlp.BertSentenceEmbeddings.pretrained(\"sbiobert_base_cased_mli\", \"en\", \"clinical/models\")\\\n",
        "    .setInputCols([\"document\"])\\\n",
        "    .setOutputCol(\"sentence_embeddings\")\n",
        "\n",
        "few_shot_classifier = medical.FewShotClassifierModel.pretrained(\"few_shot_classifier_patient_complaint_sbiobert_cased_mli\", \"en\", \"clinical/models\")\\\n",
        "    .setInputCols([\"sentence_embeddings\"])\\\n",
        "    .setOutputCol(\"prediction\")\n",
        "\n",
        "clf_Pipeline = nlp.Pipeline(stages=[\n",
        "    document_assembler,\n",
        "    bert_sent,\n",
        "    few_shot_classifier\n",
        "])\n",
        "\n",
        "data = spark.createDataFrame([[\"\"\"The Medical Center is a large state of the art hospital facility with great doctors, nurses, technicians and receptionists.  Service is top notch, knowledgeable and friendly.  This hospital site has plenty of parking\"\"\"],\n",
        " [\"\"\"My gf dad wasn’t feeling well so we decided to take him to this place cus it’s his insurance and we waited for a while and mind that my girl dad couldn’t breath good while the staff seem not to care and when they got to us they said they we’re gonna a take some blood samples and they made us wait again and to see the staff workers talking to each other and laughing taking there time and not seeming to care about there patience, while we were in the lobby there was another guy who told us they also made him wait while he can hardly breath and they left him there to wait my girl dad is coughing and not doing better and when the lady came in my girl dad didn’t have his shirt because he was hot and the lady came in said put on his shirt on and then left still waiting to get help rn\"\"\"]]).toDF(\"text\")\n",
        "\n",
        "result = clf_Pipeline.fit(data).transform(data)"
      ]
    },
    {
      "cell_type": "code",
      "execution_count": 67,
      "metadata": {
        "colab": {
          "base_uri": "https://localhost:8080/"
        },
        "id": "2b9lERLpZJSn",
        "outputId": "e60c4f3d-a089-473d-99c0-d6a8842bde4b"
      },
      "outputs": [
        {
          "output_type": "execute_result",
          "data": {
            "text/plain": [
              "['No_Complaint', 'Complaint']"
            ]
          },
          "metadata": {},
          "execution_count": 67
        }
      ],
      "source": [
        "few_shot_classifier.getClasses()"
      ]
    },
    {
      "cell_type": "code",
      "execution_count": 68,
      "metadata": {
        "colab": {
          "base_uri": "https://localhost:8080/"
        },
        "id": "GxT8GrenaI8A",
        "outputId": "162e9d68-c9a2-4b12-caa4-b8ee9a086027"
      },
      "outputs": [
        {
          "output_type": "stream",
          "name": "stdout",
          "text": [
            "+--------------------+--------------------+--------------------+--------------------+\n",
            "|                text|            document| sentence_embeddings|          prediction|\n",
            "+--------------------+--------------------+--------------------+--------------------+\n",
            "|The Medical Cente...|[{document, 0, 21...|[{sentence_embedd...|[{category, 0, 0,...|\n",
            "|My gf dad wasn’t ...|[{document, 0, 78...|[{sentence_embedd...|[{category, 0, 0,...|\n",
            "+--------------------+--------------------+--------------------+--------------------+\n",
            "\n"
          ]
        }
      ],
      "source": [
        "result.show()\n"
      ]
    },
    {
      "cell_type": "code",
      "execution_count": 69,
      "metadata": {
        "colab": {
          "base_uri": "https://localhost:8080/"
        },
        "id": "TQdPF5-KaLt0",
        "outputId": "3268ab84-f345-4e1d-ff04-923b07ee9b51"
      },
      "outputs": [
        {
          "output_type": "stream",
          "name": "stdout",
          "text": [
            "+--------------+------------------------------------------------------------------------------------------------------------------------------------------------------+\n",
            "|        result|                                                                                                                                                  text|\n",
            "+--------------+------------------------------------------------------------------------------------------------------------------------------------------------------+\n",
            "|[No_Complaint]|The Medical Center is a large state of the art hospital facility with great doctors, nurses, technicians and receptionists.  Service is top notch, ...|\n",
            "|   [Complaint]|My gf dad wasn’t feeling well so we decided to take him to this place cus it’s his insurance and we waited for a while and mind that my girl dad co...|\n",
            "+--------------+------------------------------------------------------------------------------------------------------------------------------------------------------+\n",
            "\n"
          ]
        }
      ],
      "source": [
        "result.select('prediction.result', 'text').show(truncate=150)\n"
      ]
    }
  ],
  "metadata": {
    "colab": {
      "machine_shape": "hm",
      "provenance": [],
      "toc_visible": true
    },
    "kernelspec": {
      "display_name": "Python 3",
      "name": "python3"
    },
    "language_info": {
      "name": "python"
    }
  },
  "nbformat": 4,
  "nbformat_minor": 0
}
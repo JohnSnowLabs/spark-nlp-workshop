{
  "cells": [
    {
      "cell_type": "markdown",
      "metadata": {
        "id": "TC67imitKuBg"
      },
      "source": [
        "![JohnSnowLabs](https://nlp.johnsnowlabs.com/assets/images/logo.png)"
      ]
    },
    {
      "attachments": {},
      "cell_type": "markdown",
      "metadata": {
        "id": "JXd7D50SKuBm"
      },
      "source": [
        "[![Open In Colab](https://colab.research.google.com/assets/colab-badge.svg)](https://colab.research.google.com/github/JohnSnowLabs/spark-nlp-workshop/blob/master/healthcare-nlp/08.2.Clinical_Text_Classification_with_SparkNLP.ipynb)"
      ]
    },
    {
      "cell_type": "markdown",
      "metadata": {
        "id": "T70JAFhuB_hY"
      },
      "source": [
        "# Colab Setup"
      ]
    },
    {
      "cell_type": "code",
      "execution_count": null,
      "metadata": {
        "id": "MRTflinqmhKL"
      },
      "outputs": [],
      "source": [
        "! pip install -q johnsnowlabs "
      ]
    },
    {
      "cell_type": "code",
      "execution_count": null,
      "metadata": {
        "id": "S4dTiT4aJeq7"
      },
      "outputs": [],
      "source": [
        "from google.colab import files\n",
        "print('Please Upload your John Snow Labs License using the button below')\n",
        "license_keys = files.upload()"
      ]
    },
    {
      "cell_type": "code",
      "execution_count": null,
      "metadata": {
        "id": "LOdhMuyDmwGh"
      },
      "outputs": [],
      "source": [
        "from johnsnowlabs import nlp, medical\n",
        "\n",
        "# After uploading your license run this to install all licensed Python Wheels and pre-download Jars the Spark Session JVM\n",
        "nlp.install()"
      ]
    },
    {
      "cell_type": "code",
      "execution_count": null,
      "metadata": {
        "id": "kUjJNc9fJoFT"
      },
      "outputs": [],
      "source": [
        "from johnsnowlabs import nlp, medical, visual\n",
        "import pandas as pd\n",
        "from sklearn.metrics import confusion_matrix, classification_report, accuracy_score\n",
        "import pyspark.sql.functions as F\n",
        "\n",
        "# Automatically load license data and start a session with all jars user has access to\n",
        "spark = nlp.start(hardware_target=\"gpu\")"
      ]
    },
    {
      "cell_type": "markdown",
      "metadata": {
        "id": "seqQtw6ryhDm"
      },
      "source": [
        "# Classifiers\n",
        "\n",
        "The below classifiers will be used in this notebook.ClassifierDL, MultiClassifierDL, and GenericClassifier will be trained using healthcare_100d, embeddingd_clinical, and bert sentence embeddings(sbiobert_base_cased_mli). DocumentLogRegClassifier accepts tokens, so sentence embeddings are not utilized during DocumentLogRegClassifier training.\n",
        "\n",
        "## ClassifierDL\n",
        "\n",
        "ClassifierDL is a generic Multi-class Text Classification annotator. ClassifierDL uses the state-of-the-art Universal Sentence Encoder as an input for text classifications. The ClassifierDL annotator uses a deep learning model (DNNs) built inside TensorFlow and supports up to 100 classes. For more information please [follow the link](https://nlp.johnsnowlabs.com/docs/en/annotators#classifierdl).\n",
        "\n",
        "\n",
        "##  MultiClassifierDL\n",
        "\n",
        "MultiClassifierDL is a Multi-label Text Classification annotator.MultiClassifierDL uses a Bidirectional GRU with a convolutional model built inside TensorFlow and supports up to 100 classes.  For more information please [follow the link](https://nlp.johnsnowlabs.com/docs/en/annotators#multiclassifierdl).\n",
        "\n",
        "\n",
        "## GenericClassifier\n",
        "\n",
        "GenericClassifier is a TensorFlow model for the generic classification of feature vectors in Healthcare  Lİbrary. It takes FEATURE_VECTOR annotations from FeaturesAssembler as input, classifies them, and outputs CATEGORY annotations. Please see [the link](https://nlp.johnsnowlabs.com/docs/en/licensed_annotators#genericclassifier) for more information.\n",
        "\n",
        "## GenericLogRegClassifierApproach\n",
        "\n",
        "`GenericLogRegClassifierApproach` is a derivative of GenericClassifier which implements a multinomial *Logistic Regression*. This is a single layer neural network with the logistic function at the output. The input to the model is `FeatureVector` and the output is `Category` annotations with labels and corresponding confidence scores varying between 0 and 1. Training data requires \"text\" and their \"label\" columns only and the trained model will be a `GenericLogRegClassifierModel()`.\n",
        "\n",
        "\n",
        "## GenericSVMClassifierApproach\n",
        "\n",
        "`GenericSVMClassifierApproach` is a derivative of GenericClassifier which implements *SVM (Support Vector Machine)* classification. The input to the model is `FeatureVector` and the output is `Category` annotations with labels and corresponding confidence scores. The scores are standardized using the logistic function so that they vary between 0 and 1. Taining data requires \"text\" and their \"label\" columns only and the trained model will be a `GenericSVMClassifierModel()`\n",
        "\n",
        "## DocumentLogRegClassifier\n",
        "\n",
        "DocumentLogRegClassifier is a model to classify documents with a Logarithmic Regression algorithm in Healthcare  Library. Training data requires columns for text and labels. The result is a trained DocumentLogRegClassifierModel. you can get more info [here](https://nlp.johnsnowlabs.com/docs/en/licensed_annotators#documentlogregclassifier). \n"
      ]
    },
    {
      "cell_type": "markdown",
      "metadata": {
        "id": "V9VJxCgQDbci"
      },
      "source": [
        "# ADE Dataset"
      ]
    },
    {
      "cell_type": "markdown",
      "metadata": {
        "id": "26_3aTINil5M"
      },
      "source": [
        "### Data Preprocessing"
      ]
    },
    {
      "cell_type": "code",
      "execution_count": null,
      "metadata": {
        "id": "hItCL5OYilb-"
      },
      "outputs": [],
      "source": [
        "#downloading sample datasets\n",
        "!wget -q https://raw.githubusercontent.com/JohnSnowLabs/spark-nlp-workshop/master/tutorials/Certification_Trainings/Healthcare/data/ADE_Corpus_V2/ADE-NEG.txt\n",
        "!wget -q https://raw.githubusercontent.com/JohnSnowLabs/spark-nlp-workshop/master/tutorials/Certification_Trainings/Healthcare/data/ADE_Corpus_V2/DRUG-AE.rel"
      ]
    },
    {
      "cell_type": "markdown",
      "metadata": {
        "id": "CcjKu0_XrfLy"
      },
      "source": [
        "**ADE-Negative Dataset**"
      ]
    },
    {
      "cell_type": "code",
      "execution_count": null,
      "metadata": {
        "colab": {
          "base_uri": "https://localhost:8080/",
          "height": 206
        },
        "id": "Y8bRpYvWilZB",
        "outputId": "f6b6c1cd-c444-41d9-f065-1b7ad574ffe4"
      },
      "outputs": [
        {
          "data": {
            "text/html": [
              "\n",
              "  <div id=\"df-e3aa9c77-7b4e-4bc7-be3f-7db6af2bbf9f\">\n",
              "    <div class=\"colab-df-container\">\n",
              "      <div>\n",
              "<style scoped>\n",
              "    .dataframe tbody tr th:only-of-type {\n",
              "        vertical-align: middle;\n",
              "    }\n",
              "\n",
              "    .dataframe tbody tr th {\n",
              "        vertical-align: top;\n",
              "    }\n",
              "\n",
              "    .dataframe thead th {\n",
              "        text-align: right;\n",
              "    }\n",
              "</style>\n",
              "<table border=\"1\" class=\"dataframe\">\n",
              "  <thead>\n",
              "    <tr style=\"text-align: right;\">\n",
              "      <th></th>\n",
              "      <th>col1</th>\n",
              "    </tr>\n",
              "  </thead>\n",
              "  <tbody>\n",
              "    <tr>\n",
              "      <th>0</th>\n",
              "      <td>6460590 NEG Clioquinol intoxication occurring ...</td>\n",
              "    </tr>\n",
              "    <tr>\n",
              "      <th>1</th>\n",
              "      <td>8600337 NEG \"Retinoic acid syndrome\" was preve...</td>\n",
              "    </tr>\n",
              "    <tr>\n",
              "      <th>2</th>\n",
              "      <td>8402502 NEG BACKGROUND: External beam radiatio...</td>\n",
              "    </tr>\n",
              "    <tr>\n",
              "      <th>3</th>\n",
              "      <td>8700794 NEG Although the enuresis ceased, she ...</td>\n",
              "    </tr>\n",
              "    <tr>\n",
              "      <th>4</th>\n",
              "      <td>17662448 NEG A 42-year-old woman had uneventfu...</td>\n",
              "    </tr>\n",
              "  </tbody>\n",
              "</table>\n",
              "</div>\n",
              "      <button class=\"colab-df-convert\" onclick=\"convertToInteractive('df-e3aa9c77-7b4e-4bc7-be3f-7db6af2bbf9f')\"\n",
              "              title=\"Convert this dataframe to an interactive table.\"\n",
              "              style=\"display:none;\">\n",
              "        \n",
              "  <svg xmlns=\"http://www.w3.org/2000/svg\" height=\"24px\"viewBox=\"0 0 24 24\"\n",
              "       width=\"24px\">\n",
              "    <path d=\"M0 0h24v24H0V0z\" fill=\"none\"/>\n",
              "    <path d=\"M18.56 5.44l.94 2.06.94-2.06 2.06-.94-2.06-.94-.94-2.06-.94 2.06-2.06.94zm-11 1L8.5 8.5l.94-2.06 2.06-.94-2.06-.94L8.5 2.5l-.94 2.06-2.06.94zm10 10l.94 2.06.94-2.06 2.06-.94-2.06-.94-.94-2.06-.94 2.06-2.06.94z\"/><path d=\"M17.41 7.96l-1.37-1.37c-.4-.4-.92-.59-1.43-.59-.52 0-1.04.2-1.43.59L10.3 9.45l-7.72 7.72c-.78.78-.78 2.05 0 2.83L4 21.41c.39.39.9.59 1.41.59.51 0 1.02-.2 1.41-.59l7.78-7.78 2.81-2.81c.8-.78.8-2.07 0-2.86zM5.41 20L4 18.59l7.72-7.72 1.47 1.35L5.41 20z\"/>\n",
              "  </svg>\n",
              "      </button>\n",
              "      \n",
              "  <style>\n",
              "    .colab-df-container {\n",
              "      display:flex;\n",
              "      flex-wrap:wrap;\n",
              "      gap: 12px;\n",
              "    }\n",
              "\n",
              "    .colab-df-convert {\n",
              "      background-color: #E8F0FE;\n",
              "      border: none;\n",
              "      border-radius: 50%;\n",
              "      cursor: pointer;\n",
              "      display: none;\n",
              "      fill: #1967D2;\n",
              "      height: 32px;\n",
              "      padding: 0 0 0 0;\n",
              "      width: 32px;\n",
              "    }\n",
              "\n",
              "    .colab-df-convert:hover {\n",
              "      background-color: #E2EBFA;\n",
              "      box-shadow: 0px 1px 2px rgba(60, 64, 67, 0.3), 0px 1px 3px 1px rgba(60, 64, 67, 0.15);\n",
              "      fill: #174EA6;\n",
              "    }\n",
              "\n",
              "    [theme=dark] .colab-df-convert {\n",
              "      background-color: #3B4455;\n",
              "      fill: #D2E3FC;\n",
              "    }\n",
              "\n",
              "    [theme=dark] .colab-df-convert:hover {\n",
              "      background-color: #434B5C;\n",
              "      box-shadow: 0px 1px 3px 1px rgba(0, 0, 0, 0.15);\n",
              "      filter: drop-shadow(0px 1px 2px rgba(0, 0, 0, 0.3));\n",
              "      fill: #FFFFFF;\n",
              "    }\n",
              "  </style>\n",
              "\n",
              "      <script>\n",
              "        const buttonEl =\n",
              "          document.querySelector('#df-e3aa9c77-7b4e-4bc7-be3f-7db6af2bbf9f button.colab-df-convert');\n",
              "        buttonEl.style.display =\n",
              "          google.colab.kernel.accessAllowed ? 'block' : 'none';\n",
              "\n",
              "        async function convertToInteractive(key) {\n",
              "          const element = document.querySelector('#df-e3aa9c77-7b4e-4bc7-be3f-7db6af2bbf9f');\n",
              "          const dataTable =\n",
              "            await google.colab.kernel.invokeFunction('convertToInteractive',\n",
              "                                                     [key], {});\n",
              "          if (!dataTable) return;\n",
              "\n",
              "          const docLinkHtml = 'Like what you see? Visit the ' +\n",
              "            '<a target=\"_blank\" href=https://colab.research.google.com/notebooks/data_table.ipynb>data table notebook</a>'\n",
              "            + ' to learn more about interactive tables.';\n",
              "          element.innerHTML = '';\n",
              "          dataTable['output_type'] = 'display_data';\n",
              "          await google.colab.output.renderOutput(dataTable, element);\n",
              "          const docLink = document.createElement('div');\n",
              "          docLink.innerHTML = docLinkHtml;\n",
              "          element.appendChild(docLink);\n",
              "        }\n",
              "      </script>\n",
              "    </div>\n",
              "  </div>\n",
              "  "
            ],
            "text/plain": [
              "                                                col1\n",
              "0  6460590 NEG Clioquinol intoxication occurring ...\n",
              "1  8600337 NEG \"Retinoic acid syndrome\" was preve...\n",
              "2  8402502 NEG BACKGROUND: External beam radiatio...\n",
              "3  8700794 NEG Although the enuresis ceased, she ...\n",
              "4  17662448 NEG A 42-year-old woman had uneventfu..."
            ]
          },
          "execution_count": 6,
          "metadata": {},
          "output_type": "execute_result"
        }
      ],
      "source": [
        "df_neg= pd.read_csv(\"ADE-NEG.txt\", header=None, delimiter=\"\\t\", names=[\"col1\"])\n",
        "df_neg.head()"
      ]
    },
    {
      "cell_type": "code",
      "execution_count": null,
      "metadata": {
        "colab": {
          "base_uri": "https://localhost:8080/",
          "height": 206
        },
        "id": "wrPm_XSyv-R2",
        "outputId": "6fe0c6eb-f0ea-4bf2-9078-090213295074"
      },
      "outputs": [
        {
          "data": {
            "text/html": [
              "\n",
              "  <div id=\"df-2e4f85ed-7ce9-408f-aa8a-c6f0a9a64bab\">\n",
              "    <div class=\"colab-df-container\">\n",
              "      <div>\n",
              "<style scoped>\n",
              "    .dataframe tbody tr th:only-of-type {\n",
              "        vertical-align: middle;\n",
              "    }\n",
              "\n",
              "    .dataframe tbody tr th {\n",
              "        vertical-align: top;\n",
              "    }\n",
              "\n",
              "    .dataframe thead th {\n",
              "        text-align: right;\n",
              "    }\n",
              "</style>\n",
              "<table border=\"1\" class=\"dataframe\">\n",
              "  <thead>\n",
              "    <tr style=\"text-align: right;\">\n",
              "      <th></th>\n",
              "      <th>text</th>\n",
              "      <th>category</th>\n",
              "    </tr>\n",
              "  </thead>\n",
              "  <tbody>\n",
              "    <tr>\n",
              "      <th>0</th>\n",
              "      <td>Clioquinol intoxication occurring in the trea...</td>\n",
              "      <td>neg</td>\n",
              "    </tr>\n",
              "    <tr>\n",
              "      <th>1</th>\n",
              "      <td>\"Retinoic acid syndrome\" was prevented with s...</td>\n",
              "      <td>neg</td>\n",
              "    </tr>\n",
              "    <tr>\n",
              "      <th>2</th>\n",
              "      <td>BACKGROUND: External beam radiation therapy o...</td>\n",
              "      <td>neg</td>\n",
              "    </tr>\n",
              "    <tr>\n",
              "      <th>3</th>\n",
              "      <td>Although the enuresis ceased, she developed t...</td>\n",
              "      <td>neg</td>\n",
              "    </tr>\n",
              "    <tr>\n",
              "      <th>4</th>\n",
              "      <td>A 42-year-old woman had uneventful bilateral ...</td>\n",
              "      <td>neg</td>\n",
              "    </tr>\n",
              "  </tbody>\n",
              "</table>\n",
              "</div>\n",
              "      <button class=\"colab-df-convert\" onclick=\"convertToInteractive('df-2e4f85ed-7ce9-408f-aa8a-c6f0a9a64bab')\"\n",
              "              title=\"Convert this dataframe to an interactive table.\"\n",
              "              style=\"display:none;\">\n",
              "        \n",
              "  <svg xmlns=\"http://www.w3.org/2000/svg\" height=\"24px\"viewBox=\"0 0 24 24\"\n",
              "       width=\"24px\">\n",
              "    <path d=\"M0 0h24v24H0V0z\" fill=\"none\"/>\n",
              "    <path d=\"M18.56 5.44l.94 2.06.94-2.06 2.06-.94-2.06-.94-.94-2.06-.94 2.06-2.06.94zm-11 1L8.5 8.5l.94-2.06 2.06-.94-2.06-.94L8.5 2.5l-.94 2.06-2.06.94zm10 10l.94 2.06.94-2.06 2.06-.94-2.06-.94-.94-2.06-.94 2.06-2.06.94z\"/><path d=\"M17.41 7.96l-1.37-1.37c-.4-.4-.92-.59-1.43-.59-.52 0-1.04.2-1.43.59L10.3 9.45l-7.72 7.72c-.78.78-.78 2.05 0 2.83L4 21.41c.39.39.9.59 1.41.59.51 0 1.02-.2 1.41-.59l7.78-7.78 2.81-2.81c.8-.78.8-2.07 0-2.86zM5.41 20L4 18.59l7.72-7.72 1.47 1.35L5.41 20z\"/>\n",
              "  </svg>\n",
              "      </button>\n",
              "      \n",
              "  <style>\n",
              "    .colab-df-container {\n",
              "      display:flex;\n",
              "      flex-wrap:wrap;\n",
              "      gap: 12px;\n",
              "    }\n",
              "\n",
              "    .colab-df-convert {\n",
              "      background-color: #E8F0FE;\n",
              "      border: none;\n",
              "      border-radius: 50%;\n",
              "      cursor: pointer;\n",
              "      display: none;\n",
              "      fill: #1967D2;\n",
              "      height: 32px;\n",
              "      padding: 0 0 0 0;\n",
              "      width: 32px;\n",
              "    }\n",
              "\n",
              "    .colab-df-convert:hover {\n",
              "      background-color: #E2EBFA;\n",
              "      box-shadow: 0px 1px 2px rgba(60, 64, 67, 0.3), 0px 1px 3px 1px rgba(60, 64, 67, 0.15);\n",
              "      fill: #174EA6;\n",
              "    }\n",
              "\n",
              "    [theme=dark] .colab-df-convert {\n",
              "      background-color: #3B4455;\n",
              "      fill: #D2E3FC;\n",
              "    }\n",
              "\n",
              "    [theme=dark] .colab-df-convert:hover {\n",
              "      background-color: #434B5C;\n",
              "      box-shadow: 0px 1px 3px 1px rgba(0, 0, 0, 0.15);\n",
              "      filter: drop-shadow(0px 1px 2px rgba(0, 0, 0, 0.3));\n",
              "      fill: #FFFFFF;\n",
              "    }\n",
              "  </style>\n",
              "\n",
              "      <script>\n",
              "        const buttonEl =\n",
              "          document.querySelector('#df-2e4f85ed-7ce9-408f-aa8a-c6f0a9a64bab button.colab-df-convert');\n",
              "        buttonEl.style.display =\n",
              "          google.colab.kernel.accessAllowed ? 'block' : 'none';\n",
              "\n",
              "        async function convertToInteractive(key) {\n",
              "          const element = document.querySelector('#df-2e4f85ed-7ce9-408f-aa8a-c6f0a9a64bab');\n",
              "          const dataTable =\n",
              "            await google.colab.kernel.invokeFunction('convertToInteractive',\n",
              "                                                     [key], {});\n",
              "          if (!dataTable) return;\n",
              "\n",
              "          const docLinkHtml = 'Like what you see? Visit the ' +\n",
              "            '<a target=\"_blank\" href=https://colab.research.google.com/notebooks/data_table.ipynb>data table notebook</a>'\n",
              "            + ' to learn more about interactive tables.';\n",
              "          element.innerHTML = '';\n",
              "          dataTable['output_type'] = 'display_data';\n",
              "          await google.colab.output.renderOutput(dataTable, element);\n",
              "          const docLink = document.createElement('div');\n",
              "          docLink.innerHTML = docLinkHtml;\n",
              "          element.appendChild(docLink);\n",
              "        }\n",
              "      </script>\n",
              "    </div>\n",
              "  </div>\n",
              "  "
            ],
            "text/plain": [
              "                                                text category\n",
              "0   Clioquinol intoxication occurring in the trea...      neg\n",
              "1   \"Retinoic acid syndrome\" was prevented with s...      neg\n",
              "2   BACKGROUND: External beam radiation therapy o...      neg\n",
              "3   Although the enuresis ceased, she developed t...      neg\n",
              "4   A 42-year-old woman had uneventful bilateral ...      neg"
            ]
          },
          "execution_count": 7,
          "metadata": {},
          "output_type": "execute_result"
        }
      ],
      "source": [
        "df_neg['text'] =  df_neg.col1.str.split('NEG').str[1]\n",
        "df_neg[\"category\"] = \"neg\"\n",
        "df_neg= df_neg[[\"text\", \"category\"]]\n",
        "df_neg.head()"
      ]
    },
    {
      "cell_type": "markdown",
      "metadata": {
        "id": "gzu9ELiirkMf"
      },
      "source": [
        "**ADE Positive Dataset**"
      ]
    },
    {
      "cell_type": "code",
      "execution_count": null,
      "metadata": {
        "colab": {
          "base_uri": "https://localhost:8080/",
          "height": 493
        },
        "id": "F4Y20JbRqcLP",
        "outputId": "ea2502ba-2f96-49d9-cc4f-2fd371476acf"
      },
      "outputs": [
        {
          "data": {
            "text/html": [
              "\n",
              "  <div id=\"df-2e46b886-6dda-4c8f-b365-626b1e97d8cc\">\n",
              "    <div class=\"colab-df-container\">\n",
              "      <div>\n",
              "<style scoped>\n",
              "    .dataframe tbody tr th:only-of-type {\n",
              "        vertical-align: middle;\n",
              "    }\n",
              "\n",
              "    .dataframe tbody tr th {\n",
              "        vertical-align: top;\n",
              "    }\n",
              "\n",
              "    .dataframe thead th {\n",
              "        text-align: right;\n",
              "    }\n",
              "</style>\n",
              "<table border=\"1\" class=\"dataframe\">\n",
              "  <thead>\n",
              "    <tr style=\"text-align: right;\">\n",
              "      <th></th>\n",
              "      <th>0</th>\n",
              "      <th>1</th>\n",
              "      <th>2</th>\n",
              "      <th>3</th>\n",
              "      <th>4</th>\n",
              "      <th>5</th>\n",
              "      <th>6</th>\n",
              "      <th>7</th>\n",
              "    </tr>\n",
              "  </thead>\n",
              "  <tbody>\n",
              "    <tr>\n",
              "      <th>0</th>\n",
              "      <td>10030778</td>\n",
              "      <td>Intravenous azithromycin-induced ototoxicity.</td>\n",
              "      <td>ototoxicity</td>\n",
              "      <td>43</td>\n",
              "      <td>54</td>\n",
              "      <td>azithromycin</td>\n",
              "      <td>22</td>\n",
              "      <td>34</td>\n",
              "    </tr>\n",
              "    <tr>\n",
              "      <th>1</th>\n",
              "      <td>10048291</td>\n",
              "      <td>Immobilization, while Paget's bone disease was...</td>\n",
              "      <td>increased calcium-release</td>\n",
              "      <td>960</td>\n",
              "      <td>985</td>\n",
              "      <td>dihydrotachysterol</td>\n",
              "      <td>908</td>\n",
              "      <td>926</td>\n",
              "    </tr>\n",
              "    <tr>\n",
              "      <th>2</th>\n",
              "      <td>10048291</td>\n",
              "      <td>Unaccountable severe hypercalcemia in a patien...</td>\n",
              "      <td>hypercalcemia</td>\n",
              "      <td>31</td>\n",
              "      <td>44</td>\n",
              "      <td>dihydrotachysterol</td>\n",
              "      <td>94</td>\n",
              "      <td>112</td>\n",
              "    </tr>\n",
              "    <tr>\n",
              "      <th>3</th>\n",
              "      <td>10082597</td>\n",
              "      <td>METHODS: We report two cases of pseudoporphyri...</td>\n",
              "      <td>pseudoporphyria</td>\n",
              "      <td>620</td>\n",
              "      <td>635</td>\n",
              "      <td>naproxen</td>\n",
              "      <td>646</td>\n",
              "      <td>654</td>\n",
              "    </tr>\n",
              "    <tr>\n",
              "      <th>4</th>\n",
              "      <td>10082597</td>\n",
              "      <td>METHODS: We report two cases of pseudoporphyri...</td>\n",
              "      <td>pseudoporphyria</td>\n",
              "      <td>620</td>\n",
              "      <td>635</td>\n",
              "      <td>oxaprozin</td>\n",
              "      <td>659</td>\n",
              "      <td>668</td>\n",
              "    </tr>\n",
              "  </tbody>\n",
              "</table>\n",
              "</div>\n",
              "      <button class=\"colab-df-convert\" onclick=\"convertToInteractive('df-2e46b886-6dda-4c8f-b365-626b1e97d8cc')\"\n",
              "              title=\"Convert this dataframe to an interactive table.\"\n",
              "              style=\"display:none;\">\n",
              "        \n",
              "  <svg xmlns=\"http://www.w3.org/2000/svg\" height=\"24px\"viewBox=\"0 0 24 24\"\n",
              "       width=\"24px\">\n",
              "    <path d=\"M0 0h24v24H0V0z\" fill=\"none\"/>\n",
              "    <path d=\"M18.56 5.44l.94 2.06.94-2.06 2.06-.94-2.06-.94-.94-2.06-.94 2.06-2.06.94zm-11 1L8.5 8.5l.94-2.06 2.06-.94-2.06-.94L8.5 2.5l-.94 2.06-2.06.94zm10 10l.94 2.06.94-2.06 2.06-.94-2.06-.94-.94-2.06-.94 2.06-2.06.94z\"/><path d=\"M17.41 7.96l-1.37-1.37c-.4-.4-.92-.59-1.43-.59-.52 0-1.04.2-1.43.59L10.3 9.45l-7.72 7.72c-.78.78-.78 2.05 0 2.83L4 21.41c.39.39.9.59 1.41.59.51 0 1.02-.2 1.41-.59l7.78-7.78 2.81-2.81c.8-.78.8-2.07 0-2.86zM5.41 20L4 18.59l7.72-7.72 1.47 1.35L5.41 20z\"/>\n",
              "  </svg>\n",
              "      </button>\n",
              "      \n",
              "  <style>\n",
              "    .colab-df-container {\n",
              "      display:flex;\n",
              "      flex-wrap:wrap;\n",
              "      gap: 12px;\n",
              "    }\n",
              "\n",
              "    .colab-df-convert {\n",
              "      background-color: #E8F0FE;\n",
              "      border: none;\n",
              "      border-radius: 50%;\n",
              "      cursor: pointer;\n",
              "      display: none;\n",
              "      fill: #1967D2;\n",
              "      height: 32px;\n",
              "      padding: 0 0 0 0;\n",
              "      width: 32px;\n",
              "    }\n",
              "\n",
              "    .colab-df-convert:hover {\n",
              "      background-color: #E2EBFA;\n",
              "      box-shadow: 0px 1px 2px rgba(60, 64, 67, 0.3), 0px 1px 3px 1px rgba(60, 64, 67, 0.15);\n",
              "      fill: #174EA6;\n",
              "    }\n",
              "\n",
              "    [theme=dark] .colab-df-convert {\n",
              "      background-color: #3B4455;\n",
              "      fill: #D2E3FC;\n",
              "    }\n",
              "\n",
              "    [theme=dark] .colab-df-convert:hover {\n",
              "      background-color: #434B5C;\n",
              "      box-shadow: 0px 1px 3px 1px rgba(0, 0, 0, 0.15);\n",
              "      filter: drop-shadow(0px 1px 2px rgba(0, 0, 0, 0.3));\n",
              "      fill: #FFFFFF;\n",
              "    }\n",
              "  </style>\n",
              "\n",
              "      <script>\n",
              "        const buttonEl =\n",
              "          document.querySelector('#df-2e46b886-6dda-4c8f-b365-626b1e97d8cc button.colab-df-convert');\n",
              "        buttonEl.style.display =\n",
              "          google.colab.kernel.accessAllowed ? 'block' : 'none';\n",
              "\n",
              "        async function convertToInteractive(key) {\n",
              "          const element = document.querySelector('#df-2e46b886-6dda-4c8f-b365-626b1e97d8cc');\n",
              "          const dataTable =\n",
              "            await google.colab.kernel.invokeFunction('convertToInteractive',\n",
              "                                                     [key], {});\n",
              "          if (!dataTable) return;\n",
              "\n",
              "          const docLinkHtml = 'Like what you see? Visit the ' +\n",
              "            '<a target=\"_blank\" href=https://colab.research.google.com/notebooks/data_table.ipynb>data table notebook</a>'\n",
              "            + ' to learn more about interactive tables.';\n",
              "          element.innerHTML = '';\n",
              "          dataTable['output_type'] = 'display_data';\n",
              "          await google.colab.output.renderOutput(dataTable, element);\n",
              "          const docLink = document.createElement('div');\n",
              "          docLink.innerHTML = docLinkHtml;\n",
              "          element.appendChild(docLink);\n",
              "        }\n",
              "      </script>\n",
              "    </div>\n",
              "  </div>\n",
              "  "
            ],
            "text/plain": [
              "          0                                                  1  \\\n",
              "0  10030778      Intravenous azithromycin-induced ototoxicity.   \n",
              "1  10048291  Immobilization, while Paget's bone disease was...   \n",
              "2  10048291  Unaccountable severe hypercalcemia in a patien...   \n",
              "3  10082597  METHODS: We report two cases of pseudoporphyri...   \n",
              "4  10082597  METHODS: We report two cases of pseudoporphyri...   \n",
              "\n",
              "                           2    3    4                   5    6    7  \n",
              "0                ototoxicity   43   54        azithromycin   22   34  \n",
              "1  increased calcium-release  960  985  dihydrotachysterol  908  926  \n",
              "2              hypercalcemia   31   44  dihydrotachysterol   94  112  \n",
              "3            pseudoporphyria  620  635            naproxen  646  654  \n",
              "4            pseudoporphyria  620  635           oxaprozin  659  668  "
            ]
          },
          "execution_count": 8,
          "metadata": {},
          "output_type": "execute_result"
        }
      ],
      "source": [
        "df_pos= pd.read_csv(\"DRUG-AE.rel\", header=None, delimiter=\"|\")\n",
        "df_pos.head()"
      ]
    },
    {
      "cell_type": "code",
      "execution_count": null,
      "metadata": {
        "colab": {
          "base_uri": "https://localhost:8080/",
          "height": 206
        },
        "id": "ICMIXpnHrc5u",
        "outputId": "be5520c2-cf4a-4825-ae94-c7d1bb9e60e5"
      },
      "outputs": [
        {
          "data": {
            "text/html": [
              "\n",
              "  <div id=\"df-ef2b193f-6989-4257-b070-7d8ac0d1ec22\">\n",
              "    <div class=\"colab-df-container\">\n",
              "      <div>\n",
              "<style scoped>\n",
              "    .dataframe tbody tr th:only-of-type {\n",
              "        vertical-align: middle;\n",
              "    }\n",
              "\n",
              "    .dataframe tbody tr th {\n",
              "        vertical-align: top;\n",
              "    }\n",
              "\n",
              "    .dataframe thead th {\n",
              "        text-align: right;\n",
              "    }\n",
              "</style>\n",
              "<table border=\"1\" class=\"dataframe\">\n",
              "  <thead>\n",
              "    <tr style=\"text-align: right;\">\n",
              "      <th></th>\n",
              "      <th>text</th>\n",
              "      <th>category</th>\n",
              "    </tr>\n",
              "  </thead>\n",
              "  <tbody>\n",
              "    <tr>\n",
              "      <th>0</th>\n",
              "      <td>Intravenous azithromycin-induced ototoxicity.</td>\n",
              "      <td>pos</td>\n",
              "    </tr>\n",
              "    <tr>\n",
              "      <th>1</th>\n",
              "      <td>Immobilization, while Paget's bone disease was...</td>\n",
              "      <td>pos</td>\n",
              "    </tr>\n",
              "    <tr>\n",
              "      <th>2</th>\n",
              "      <td>Unaccountable severe hypercalcemia in a patien...</td>\n",
              "      <td>pos</td>\n",
              "    </tr>\n",
              "    <tr>\n",
              "      <th>3</th>\n",
              "      <td>METHODS: We report two cases of pseudoporphyri...</td>\n",
              "      <td>pos</td>\n",
              "    </tr>\n",
              "    <tr>\n",
              "      <th>4</th>\n",
              "      <td>METHODS: We report two cases of pseudoporphyri...</td>\n",
              "      <td>pos</td>\n",
              "    </tr>\n",
              "  </tbody>\n",
              "</table>\n",
              "</div>\n",
              "      <button class=\"colab-df-convert\" onclick=\"convertToInteractive('df-ef2b193f-6989-4257-b070-7d8ac0d1ec22')\"\n",
              "              title=\"Convert this dataframe to an interactive table.\"\n",
              "              style=\"display:none;\">\n",
              "        \n",
              "  <svg xmlns=\"http://www.w3.org/2000/svg\" height=\"24px\"viewBox=\"0 0 24 24\"\n",
              "       width=\"24px\">\n",
              "    <path d=\"M0 0h24v24H0V0z\" fill=\"none\"/>\n",
              "    <path d=\"M18.56 5.44l.94 2.06.94-2.06 2.06-.94-2.06-.94-.94-2.06-.94 2.06-2.06.94zm-11 1L8.5 8.5l.94-2.06 2.06-.94-2.06-.94L8.5 2.5l-.94 2.06-2.06.94zm10 10l.94 2.06.94-2.06 2.06-.94-2.06-.94-.94-2.06-.94 2.06-2.06.94z\"/><path d=\"M17.41 7.96l-1.37-1.37c-.4-.4-.92-.59-1.43-.59-.52 0-1.04.2-1.43.59L10.3 9.45l-7.72 7.72c-.78.78-.78 2.05 0 2.83L4 21.41c.39.39.9.59 1.41.59.51 0 1.02-.2 1.41-.59l7.78-7.78 2.81-2.81c.8-.78.8-2.07 0-2.86zM5.41 20L4 18.59l7.72-7.72 1.47 1.35L5.41 20z\"/>\n",
              "  </svg>\n",
              "      </button>\n",
              "      \n",
              "  <style>\n",
              "    .colab-df-container {\n",
              "      display:flex;\n",
              "      flex-wrap:wrap;\n",
              "      gap: 12px;\n",
              "    }\n",
              "\n",
              "    .colab-df-convert {\n",
              "      background-color: #E8F0FE;\n",
              "      border: none;\n",
              "      border-radius: 50%;\n",
              "      cursor: pointer;\n",
              "      display: none;\n",
              "      fill: #1967D2;\n",
              "      height: 32px;\n",
              "      padding: 0 0 0 0;\n",
              "      width: 32px;\n",
              "    }\n",
              "\n",
              "    .colab-df-convert:hover {\n",
              "      background-color: #E2EBFA;\n",
              "      box-shadow: 0px 1px 2px rgba(60, 64, 67, 0.3), 0px 1px 3px 1px rgba(60, 64, 67, 0.15);\n",
              "      fill: #174EA6;\n",
              "    }\n",
              "\n",
              "    [theme=dark] .colab-df-convert {\n",
              "      background-color: #3B4455;\n",
              "      fill: #D2E3FC;\n",
              "    }\n",
              "\n",
              "    [theme=dark] .colab-df-convert:hover {\n",
              "      background-color: #434B5C;\n",
              "      box-shadow: 0px 1px 3px 1px rgba(0, 0, 0, 0.15);\n",
              "      filter: drop-shadow(0px 1px 2px rgba(0, 0, 0, 0.3));\n",
              "      fill: #FFFFFF;\n",
              "    }\n",
              "  </style>\n",
              "\n",
              "      <script>\n",
              "        const buttonEl =\n",
              "          document.querySelector('#df-ef2b193f-6989-4257-b070-7d8ac0d1ec22 button.colab-df-convert');\n",
              "        buttonEl.style.display =\n",
              "          google.colab.kernel.accessAllowed ? 'block' : 'none';\n",
              "\n",
              "        async function convertToInteractive(key) {\n",
              "          const element = document.querySelector('#df-ef2b193f-6989-4257-b070-7d8ac0d1ec22');\n",
              "          const dataTable =\n",
              "            await google.colab.kernel.invokeFunction('convertToInteractive',\n",
              "                                                     [key], {});\n",
              "          if (!dataTable) return;\n",
              "\n",
              "          const docLinkHtml = 'Like what you see? Visit the ' +\n",
              "            '<a target=\"_blank\" href=https://colab.research.google.com/notebooks/data_table.ipynb>data table notebook</a>'\n",
              "            + ' to learn more about interactive tables.';\n",
              "          element.innerHTML = '';\n",
              "          dataTable['output_type'] = 'display_data';\n",
              "          await google.colab.output.renderOutput(dataTable, element);\n",
              "          const docLink = document.createElement('div');\n",
              "          docLink.innerHTML = docLinkHtml;\n",
              "          element.appendChild(docLink);\n",
              "        }\n",
              "      </script>\n",
              "    </div>\n",
              "  </div>\n",
              "  "
            ],
            "text/plain": [
              "                                                text category\n",
              "0      Intravenous azithromycin-induced ototoxicity.      pos\n",
              "1  Immobilization, while Paget's bone disease was...      pos\n",
              "2  Unaccountable severe hypercalcemia in a patien...      pos\n",
              "3  METHODS: We report two cases of pseudoporphyri...      pos\n",
              "4  METHODS: We report two cases of pseudoporphyri...      pos"
            ]
          },
          "execution_count": 9,
          "metadata": {},
          "output_type": "execute_result"
        }
      ],
      "source": [
        "df_pos[\"category\"]= \"pos\"\n",
        "df_pos.rename(columns={1: \"text\"}, inplace=True)\n",
        "df_pos= df_pos[[\"text\", \"category\"]]\n",
        "df_pos.head()"
      ]
    },
    {
      "cell_type": "markdown",
      "metadata": {
        "id": "V2iOoomSwTeH"
      },
      "source": [
        "**Merging Positive and Negative dataset**"
      ]
    },
    {
      "cell_type": "code",
      "execution_count": null,
      "metadata": {
        "colab": {
          "base_uri": "https://localhost:8080/",
          "height": 206
        },
        "id": "3ju23pYJrcxT",
        "outputId": "9ecdb59b-05c7-4afc-a45c-8c03cc53987c"
      },
      "outputs": [
        {
          "data": {
            "text/html": [
              "\n",
              "  <div id=\"df-3a4b709c-1e6c-4531-9558-f3b0d5937d1e\">\n",
              "    <div class=\"colab-df-container\">\n",
              "      <div>\n",
              "<style scoped>\n",
              "    .dataframe tbody tr th:only-of-type {\n",
              "        vertical-align: middle;\n",
              "    }\n",
              "\n",
              "    .dataframe tbody tr th {\n",
              "        vertical-align: top;\n",
              "    }\n",
              "\n",
              "    .dataframe thead th {\n",
              "        text-align: right;\n",
              "    }\n",
              "</style>\n",
              "<table border=\"1\" class=\"dataframe\">\n",
              "  <thead>\n",
              "    <tr style=\"text-align: right;\">\n",
              "      <th></th>\n",
              "      <th>text</th>\n",
              "      <th>category</th>\n",
              "    </tr>\n",
              "  </thead>\n",
              "  <tbody>\n",
              "    <tr>\n",
              "      <th>0</th>\n",
              "      <td>Clioquinol intoxication occurring in the trea...</td>\n",
              "      <td>neg</td>\n",
              "    </tr>\n",
              "    <tr>\n",
              "      <th>1</th>\n",
              "      <td>\"Retinoic acid syndrome\" was prevented with s...</td>\n",
              "      <td>neg</td>\n",
              "    </tr>\n",
              "    <tr>\n",
              "      <th>2</th>\n",
              "      <td>BACKGROUND: External beam radiation therapy o...</td>\n",
              "      <td>neg</td>\n",
              "    </tr>\n",
              "    <tr>\n",
              "      <th>3</th>\n",
              "      <td>Although the enuresis ceased, she developed t...</td>\n",
              "      <td>neg</td>\n",
              "    </tr>\n",
              "    <tr>\n",
              "      <th>4</th>\n",
              "      <td>A 42-year-old woman had uneventful bilateral ...</td>\n",
              "      <td>neg</td>\n",
              "    </tr>\n",
              "  </tbody>\n",
              "</table>\n",
              "</div>\n",
              "      <button class=\"colab-df-convert\" onclick=\"convertToInteractive('df-3a4b709c-1e6c-4531-9558-f3b0d5937d1e')\"\n",
              "              title=\"Convert this dataframe to an interactive table.\"\n",
              "              style=\"display:none;\">\n",
              "        \n",
              "  <svg xmlns=\"http://www.w3.org/2000/svg\" height=\"24px\"viewBox=\"0 0 24 24\"\n",
              "       width=\"24px\">\n",
              "    <path d=\"M0 0h24v24H0V0z\" fill=\"none\"/>\n",
              "    <path d=\"M18.56 5.44l.94 2.06.94-2.06 2.06-.94-2.06-.94-.94-2.06-.94 2.06-2.06.94zm-11 1L8.5 8.5l.94-2.06 2.06-.94-2.06-.94L8.5 2.5l-.94 2.06-2.06.94zm10 10l.94 2.06.94-2.06 2.06-.94-2.06-.94-.94-2.06-.94 2.06-2.06.94z\"/><path d=\"M17.41 7.96l-1.37-1.37c-.4-.4-.92-.59-1.43-.59-.52 0-1.04.2-1.43.59L10.3 9.45l-7.72 7.72c-.78.78-.78 2.05 0 2.83L4 21.41c.39.39.9.59 1.41.59.51 0 1.02-.2 1.41-.59l7.78-7.78 2.81-2.81c.8-.78.8-2.07 0-2.86zM5.41 20L4 18.59l7.72-7.72 1.47 1.35L5.41 20z\"/>\n",
              "  </svg>\n",
              "      </button>\n",
              "      \n",
              "  <style>\n",
              "    .colab-df-container {\n",
              "      display:flex;\n",
              "      flex-wrap:wrap;\n",
              "      gap: 12px;\n",
              "    }\n",
              "\n",
              "    .colab-df-convert {\n",
              "      background-color: #E8F0FE;\n",
              "      border: none;\n",
              "      border-radius: 50%;\n",
              "      cursor: pointer;\n",
              "      display: none;\n",
              "      fill: #1967D2;\n",
              "      height: 32px;\n",
              "      padding: 0 0 0 0;\n",
              "      width: 32px;\n",
              "    }\n",
              "\n",
              "    .colab-df-convert:hover {\n",
              "      background-color: #E2EBFA;\n",
              "      box-shadow: 0px 1px 2px rgba(60, 64, 67, 0.3), 0px 1px 3px 1px rgba(60, 64, 67, 0.15);\n",
              "      fill: #174EA6;\n",
              "    }\n",
              "\n",
              "    [theme=dark] .colab-df-convert {\n",
              "      background-color: #3B4455;\n",
              "      fill: #D2E3FC;\n",
              "    }\n",
              "\n",
              "    [theme=dark] .colab-df-convert:hover {\n",
              "      background-color: #434B5C;\n",
              "      box-shadow: 0px 1px 3px 1px rgba(0, 0, 0, 0.15);\n",
              "      filter: drop-shadow(0px 1px 2px rgba(0, 0, 0, 0.3));\n",
              "      fill: #FFFFFF;\n",
              "    }\n",
              "  </style>\n",
              "\n",
              "      <script>\n",
              "        const buttonEl =\n",
              "          document.querySelector('#df-3a4b709c-1e6c-4531-9558-f3b0d5937d1e button.colab-df-convert');\n",
              "        buttonEl.style.display =\n",
              "          google.colab.kernel.accessAllowed ? 'block' : 'none';\n",
              "\n",
              "        async function convertToInteractive(key) {\n",
              "          const element = document.querySelector('#df-3a4b709c-1e6c-4531-9558-f3b0d5937d1e');\n",
              "          const dataTable =\n",
              "            await google.colab.kernel.invokeFunction('convertToInteractive',\n",
              "                                                     [key], {});\n",
              "          if (!dataTable) return;\n",
              "\n",
              "          const docLinkHtml = 'Like what you see? Visit the ' +\n",
              "            '<a target=\"_blank\" href=https://colab.research.google.com/notebooks/data_table.ipynb>data table notebook</a>'\n",
              "            + ' to learn more about interactive tables.';\n",
              "          element.innerHTML = '';\n",
              "          dataTable['output_type'] = 'display_data';\n",
              "          await google.colab.output.renderOutput(dataTable, element);\n",
              "          const docLink = document.createElement('div');\n",
              "          docLink.innerHTML = docLinkHtml;\n",
              "          element.appendChild(docLink);\n",
              "        }\n",
              "      </script>\n",
              "    </div>\n",
              "  </div>\n",
              "  "
            ],
            "text/plain": [
              "                                                text category\n",
              "0   Clioquinol intoxication occurring in the trea...      neg\n",
              "1   \"Retinoic acid syndrome\" was prevented with s...      neg\n",
              "2   BACKGROUND: External beam radiation therapy o...      neg\n",
              "3   Although the enuresis ceased, she developed t...      neg\n",
              "4   A 42-year-old woman had uneventful bilateral ...      neg"
            ]
          },
          "execution_count": 10,
          "metadata": {},
          "output_type": "execute_result"
        }
      ],
      "source": [
        "ade_df= pd.concat([df_neg, df_pos])\n",
        "ade_df.head()"
      ]
    },
    {
      "cell_type": "code",
      "execution_count": null,
      "metadata": {
        "colab": {
          "base_uri": "https://localhost:8080/"
        },
        "id": "Lg_RjRi1lFUa",
        "outputId": "3e47656d-bf82-4728-a307-0fb0758265ac"
      },
      "outputs": [
        {
          "data": {
            "text/plain": [
              "neg    16695\n",
              "pos     6821\n",
              "Name: category, dtype: int64"
            ]
          },
          "execution_count": 11,
          "metadata": {},
          "output_type": "execute_result"
        }
      ],
      "source": [
        "ade_df[\"category\"].value_counts()"
      ]
    },
    {
      "cell_type": "code",
      "execution_count": null,
      "metadata": {
        "colab": {
          "base_uri": "https://localhost:8080/"
        },
        "id": "wMWdhHvjzGRp",
        "outputId": "8d14cf13-22e9-4be9-bd99-ed70bda640e7"
      },
      "outputs": [
        {
          "name": "stdout",
          "output_type": "stream",
          "text": [
            "<class 'pandas.core.frame.DataFrame'>\n",
            "Int64Index: 23516 entries, 0 to 6820\n",
            "Data columns (total 2 columns):\n",
            " #   Column    Non-Null Count  Dtype \n",
            "---  ------    --------------  ----- \n",
            " 0   text      23516 non-null  object\n",
            " 1   category  23516 non-null  object\n",
            "dtypes: object(2)\n",
            "memory usage: 551.2+ KB\n"
          ]
        }
      ],
      "source": [
        "ade_df.info()"
      ]
    },
    {
      "cell_type": "markdown",
      "metadata": {
        "id": "d3QJwfWXYd2-"
      },
      "source": [
        "We take 30% of the data to make a faster run. You can use all data for better scores."
      ]
    },
    {
      "cell_type": "code",
      "execution_count": null,
      "metadata": {
        "colab": {
          "base_uri": "https://localhost:8080/"
        },
        "id": "54RWnCr0yWL5",
        "outputId": "a74deece-5302-46d5-8a07-4828c1272292"
      },
      "outputs": [
        {
          "name": "stdout",
          "output_type": "stream",
          "text": [
            "Training Dataset Count: 5531\n",
            "Test Dataset Count: 1427\n"
          ]
        }
      ],
      "source": [
        "spark_df = spark.createDataFrame(ade_df).sample(0.3, 3) # limit the data\n",
        "\n",
        "trainingData, testData = spark_df.randomSplit([0.8, 0.2], seed = 100)\n",
        "\n",
        "print(\"Training Dataset Count: \" + str(trainingData.count()))\n",
        "print(\"Test Dataset Count: \" + str(testData.count()))"
      ]
    },
    {
      "cell_type": "code",
      "execution_count": null,
      "metadata": {
        "colab": {
          "base_uri": "https://localhost:8080/"
        },
        "id": "c3nAmtMmcu_q",
        "outputId": "8391d8ed-f587-4383-ebda-96de54e67723"
      },
      "outputs": [
        {
          "name": "stdout",
          "output_type": "stream",
          "text": [
            "+--------+-----+\n",
            "|category|count|\n",
            "+--------+-----+\n",
            "|     pos| 2026|\n",
            "|     neg| 4932|\n",
            "+--------+-----+\n",
            "\n"
          ]
        }
      ],
      "source": [
        "spark_df.groupBy(\"category\").count().show()"
      ]
    },
    {
      "cell_type": "code",
      "execution_count": null,
      "metadata": {
        "colab": {
          "base_uri": "https://localhost:8080/"
        },
        "id": "UXGiAxzX_RJd",
        "outputId": "2f15ecac-2379-4e72-95e7-98c966d8528f"
      },
      "outputs": [
        {
          "name": "stdout",
          "output_type": "stream",
          "text": [
            "root\n",
            " |-- text: string (nullable = true)\n",
            " |-- category: string (nullable = true)\n",
            "\n"
          ]
        }
      ],
      "source": [
        "spark_df.printSchema()"
      ]
    },
    {
      "cell_type": "code",
      "execution_count": null,
      "metadata": {
        "colab": {
          "base_uri": "https://localhost:8080/"
        },
        "id": "fnTr4Bs_seoA",
        "outputId": "a93fc8bc-7e77-4faf-f3c7-863d2e4a93aa"
      },
      "outputs": [
        {
          "data": {
            "text/plain": [
              "[Row(text=' Clioquinol intoxication occurring in the treatment of acrodermatitis enteropathica with reference to SMON outside of Japan.', category='neg'),\n",
              " Row(text=' A 42-year-old woman had uneventful bilateral laser-assisted subepithelial keratectomy (LASEK) to correct myopia.', category='neg'),\n",
              " Row(text=' A 16-year-old girl with erosive, polyarticular JRA showed no detectable change in her articular disease following nine exchanges.', category='neg')]"
            ]
          },
          "execution_count": 16,
          "metadata": {},
          "output_type": "execute_result"
        }
      ],
      "source": [
        "spark_df.head(3)"
      ]
    },
    {
      "cell_type": "markdown",
      "metadata": {
        "id": "BCAJFO4YDbcj"
      },
      "source": [
        "## 100 Dimension Healthcare Embeddings (embeddings_healthcare_100d)\n",
        "\n"
      ]
    },
    {
      "cell_type": "markdown",
      "metadata": {
        "id": "oDySIR35ECjy"
      },
      "source": [
        "Now we will extract [healthcare_100d embeddings](https://nlp.johnsnowlabs.com/2020/05/29/embeddings_healthcare_100d_en.html) and use it in the classificaiton model training."
      ]
    },
    {
      "cell_type": "code",
      "execution_count": null,
      "metadata": {
        "colab": {
          "base_uri": "https://localhost:8080/"
        },
        "id": "oxFX8bVEDbcj",
        "outputId": "6c368dc0-03eb-435a-da8f-4ef949221fcf"
      },
      "outputs": [
        {
          "name": "stdout",
          "output_type": "stream",
          "text": [
            "embeddings_healthcare_100d download started this may take some time.\n",
            "Approximate size to download 475.8 MB\n",
            "[OK!]\n"
          ]
        }
      ],
      "source": [
        "document_assembler = nlp.DocumentAssembler()\\\n",
        "        .setInputCol(\"text\")\\\n",
        "        .setOutputCol(\"document\")\n",
        "\n",
        "tokenizer = nlp.Tokenizer() \\\n",
        "            .setInputCols([\"document\"]) \\\n",
        "            .setOutputCol(\"token\")\n",
        "\n",
        "word_embeddings = nlp.WordEmbeddingsModel.pretrained(\"embeddings_healthcare_100d\",\"en\",\"clinical/models\")\\\n",
        "        .setInputCols([\"document\",\"token\"])\\\n",
        "        .setOutputCol(\"word_embeddings\")\n",
        "\n",
        "sentence_embeddings = nlp.SentenceEmbeddings() \\\n",
        "        .setInputCols([\"document\", \"word_embeddings\"]) \\\n",
        "        .setOutputCol(\"sentence_embeddings\") \\\n",
        "        .setPoolingStrategy(\"AVERAGE\")\n",
        "\n",
        "embeddings_pipeline = nlp.Pipeline(\n",
        "    stages = [\n",
        "        document_assembler,\n",
        "        tokenizer,\n",
        "        word_embeddings,\n",
        "        sentence_embeddings,\n",
        "\n",
        "    ])"
      ]
    },
    {
      "cell_type": "code",
      "execution_count": null,
      "metadata": {
        "colab": {
          "base_uri": "https://localhost:8080/"
        },
        "id": "ihBi5IicDbcj",
        "outputId": "05c330d9-8028-43a8-aad6-2d101b1d4c73"
      },
      "outputs": [
        {
          "name": "stdout",
          "output_type": "stream",
          "text": [
            "+--------------------------------------------------------------------------------+--------+--------------------------------------------------------------------------------+\n",
            "|                                                                            text|category|                                                             sentence_embeddings|\n",
            "+--------------------------------------------------------------------------------+--------+--------------------------------------------------------------------------------+\n",
            "| \"Syndrome malin\"-like symptoms probably due to interaction between neurolept...|     neg|[{sentence_embeddings, 0, 109,  \"Syndrome malin\"-like symptoms probably due t...|\n",
            "| 'Bail-out' bivalirudin use in patients with thrombotic complications unrespo...|     neg|[{sentence_embeddings, 0, 150,  'Bail-out' bivalirudin use in patients with t...|\n",
            "+--------------------------------------------------------------------------------+--------+--------------------------------------------------------------------------------+\n",
            "only showing top 2 rows\n",
            "\n"
          ]
        }
      ],
      "source": [
        "trainingData_with_embeddings = embeddings_pipeline.fit(trainingData).transform(trainingData)\n",
        "trainingData_with_embeddings = trainingData_with_embeddings.select(\"text\",\"category\",\"sentence_embeddings\")\n",
        "trainingData_with_embeddings.show(2,truncate=80)"
      ]
    },
    {
      "cell_type": "code",
      "execution_count": null,
      "metadata": {
        "colab": {
          "base_uri": "https://localhost:8080/"
        },
        "id": "yGWfNABSDbck",
        "outputId": "0e9f1c34-0552-4c90-b4f4-50167238aaba"
      },
      "outputs": [
        {
          "name": "stdout",
          "output_type": "stream",
          "text": [
            "+--------------------------------------------------------------------------------+--------+--------------------------------------------------------------------------------+\n",
            "|                                                                            text|category|                                                             sentence_embeddings|\n",
            "+--------------------------------------------------------------------------------+--------+--------------------------------------------------------------------------------+\n",
            "| 1 previously untreated patient with plasma-cell leukaemia and 8 patients wit...|     neg|[{sentence_embeddings, 0, 166,  1 previously untreated patient with plasma-ce...|\n",
            "| A 15-year-old boy had temporary hypertropia, supraduction deficit, ipsilater...|     neg|[{sentence_embeddings, 0, 262,  A 15-year-old boy had temporary hypertropia, ...|\n",
            "+--------------------------------------------------------------------------------+--------+--------------------------------------------------------------------------------+\n",
            "only showing top 2 rows\n",
            "\n"
          ]
        }
      ],
      "source": [
        "testData_with_embeddings = embeddings_pipeline.fit(testData).transform(testData)\n",
        "testData_with_embeddings = testData_with_embeddings.select(\"text\",\"category\",\"sentence_embeddings\")\n",
        "testData_with_embeddings.show(2,truncate=80)"
      ]
    },
    {
      "cell_type": "code",
      "execution_count": null,
      "metadata": {
        "colab": {
          "base_uri": "https://localhost:8080/"
        },
        "id": "jC4RxfRuqrj1",
        "outputId": "10270e88-8382-43c8-d76c-45be4e1beeb8"
      },
      "outputs": [
        {
          "name": "stdout",
          "output_type": "stream",
          "text": [
            "root\n",
            " |-- text: string (nullable = true)\n",
            " |-- category: string (nullable = true)\n",
            " |-- sentence_embeddings: array (nullable = true)\n",
            " |    |-- element: struct (containsNull = true)\n",
            " |    |    |-- annotatorType: string (nullable = true)\n",
            " |    |    |-- begin: integer (nullable = false)\n",
            " |    |    |-- end: integer (nullable = false)\n",
            " |    |    |-- result: string (nullable = true)\n",
            " |    |    |-- metadata: map (nullable = true)\n",
            " |    |    |    |-- key: string\n",
            " |    |    |    |-- value: string (valueContainsNull = true)\n",
            " |    |    |-- embeddings: array (nullable = true)\n",
            " |    |    |    |-- element: float (containsNull = false)\n",
            "\n"
          ]
        }
      ],
      "source": [
        "testData_with_embeddings.printSchema()"
      ]
    },
    {
      "cell_type": "code",
      "execution_count": null,
      "metadata": {
        "colab": {
          "base_uri": "https://localhost:8080/"
        },
        "id": "YfN3PwLxqS4r",
        "outputId": "0dc0af8b-2af9-4e9d-bcd3-bf58ca746d9f"
      },
      "outputs": [
        {
          "name": "stdout",
          "output_type": "stream",
          "text": [
            "+-----------------------------------------------------------------------------------------------------------------------------------------------------------------------------------------------------------------------------------------------------------------------------------------------------------------------------------------------------------------------------------------------------------------------------------------------------------------------------------------------------------------------------------------------------------------------------------------------------------------------------------------------------------------------------------------------------------------------------------------------------------------------------------------------------------------------------------------------------------------------------------------------------------------------------------------------------------------------------------------------------------------------------------------------------------------------------------------------------------------------------------------------------------------------------------------------------------------------------------------------------------------------------------------------------------------------+\n",
            "|sentence_embeddings.embeddings                                                                                                                                                                                                                                                                                                                                                                                                                                                                                                                                                                                                                                                                                                                                                                                                                                                                                                                                                                                                                                                                                                                                                                                                                                                                                         |\n",
            "+-----------------------------------------------------------------------------------------------------------------------------------------------------------------------------------------------------------------------------------------------------------------------------------------------------------------------------------------------------------------------------------------------------------------------------------------------------------------------------------------------------------------------------------------------------------------------------------------------------------------------------------------------------------------------------------------------------------------------------------------------------------------------------------------------------------------------------------------------------------------------------------------------------------------------------------------------------------------------------------------------------------------------------------------------------------------------------------------------------------------------------------------------------------------------------------------------------------------------------------------------------------------------------------------------------------------------+\n",
            "|[[0.022050034, -0.015850784, 0.11884041, 0.16476665, -0.14348501, -0.1576596, -0.031154968, -0.1393246, 0.008547665, 0.01948343, -0.06832732, -0.23502605, 0.16064002, 0.16505416, 0.2740694, 0.07459623, -0.1776, -0.14385794, -0.13320805, 0.0254037, 0.13955306, -0.39874554, 0.21927465, -0.05248432, -0.013975959, -0.09057002, 0.08343936, 0.26041448, 0.061222605, -0.07655008, -0.042449083, -0.15549056, 0.029453786, -4.287451E-4, 0.0770777, 0.052662022, 0.04082857, 0.25772887, 0.057650663, -0.11365128, -0.032210674, -0.1047935, 0.02238484, -0.16155325, -0.121390514, 0.021449536, -0.21215256, -0.34033817, 0.24506395, -0.23816873, -0.32267797, -0.17322257, -0.13762051, 0.17141055, 0.068881445, 0.32408792, 0.0066144993, 0.097635254, 0.17141618, -0.18405564, -0.14688526, -0.1419593, 0.004553265, -0.011070732, -0.12574588, 0.191843, 0.030556304, 1.5938584E-5, -0.16586679, 0.10518273, 0.11186178, 0.045896884, -0.09700643, 0.1546321, -0.0018957073, -0.15406738, 0.040614784, 0.009987646, -0.14022075, -0.121953055, -0.027745197, -0.18565337, -0.07562292, 0.20089634, 0.10763431, -0.08733105, 0.037615, 0.23033628, -0.098229475, 0.114785895, 0.132198, -0.07346697, -0.184836, 0.23428474, 0.0014427511, 0.031846795, -0.09335248, 0.2601243, -0.020144142, -0.05439963]]    |\n",
            "|[[0.036828704, 0.052321058, 0.11382609, -0.05798419, -0.1450678, 0.13031518, 0.13105926, 0.077215254, -0.11359191, -0.052483696, 0.025067052, -0.065493144, 0.0972958, 0.17433612, 0.32081118, 0.120722145, -0.060612965, -0.13809446, -0.0633434, 0.08836364, -0.05126225, -0.28671345, -0.02139778, -0.24837501, -0.19183423, -0.048396163, -0.03277982, 0.42781973, 0.06354014, 0.13798347, -0.045132216, -0.19414294, 0.014440931, 0.14622109, 0.1534094, -0.115605995, -0.21968617, 0.3393487, 0.077721894, 0.0066978885, -0.26575065, -0.2803977, 0.1971252, -0.2754831, -0.013873734, 0.031998154, -0.22224252, -0.4223647, 0.12533534, -0.24477065, -0.20392273, -0.2595492, -0.28265497, 0.118678354, 0.012662884, 0.17667644, -0.025581334, 0.04520109, 0.23938307, -0.18062139, -0.17067623, -0.16384235, -0.11276326, -0.054647528, -0.0875182, 0.13253942, 0.31704667, 0.11637622, 0.109152205, 0.32440117, -0.05386958, 0.24748857, -0.15540409, 0.2030577, 0.09518503, -0.069421776, -0.020613715, -0.06336081, -0.09288615, -0.067019716, 0.12710205, -0.09450426, 0.060741078, 0.20993252, -0.13400853, -0.122290775, -0.13350283, -0.028439805, -0.16822737, 0.03975756, 0.07278193, 0.10378045, -0.163854, 0.08184167, -0.22104272, 0.005102664, 0.00906274, 0.40425077, -0.19299535, -0.08048587]] |\n",
            "|[[0.06133546, 0.08840095, 0.15639272, 0.114668004, -0.2140057, -0.08125059, 0.08913489, -0.1002837, 0.004876906, -0.074242726, 0.03445086, -0.14109944, 0.19309564, 0.25734743, 0.25590873, 0.107905254, -0.14508152, -0.18583016, -0.092931755, -0.01544418, 0.0125256125, -0.4040237, 0.08747564, -0.11891114, -0.07511187, -0.12213378, -0.026458537, 0.3580473, 0.12741722, -6.861486E-4, -0.12040229, -0.09489917, 0.13890828, 0.054144114, 0.15664355, -0.067553274, -0.08660592, 0.32107133, 0.08193131, -0.03477757, -0.090152316, -0.243487, 0.1391524, -0.15884571, -0.14609669, 0.09713936, -0.28682235, -0.36976308, 0.25402966, -0.13950408, -0.2593149, -0.22419378, -0.2506967, 0.10783362, 0.06381494, 0.2983351, -0.0029599816, 0.16719376, 0.15912123, -0.15692592, -0.19489051, -0.11727452, 0.009319597, -0.04369802, -0.0766744, 0.17832157, 0.05303132, 0.113078065, -0.048853863, 0.17880191, 0.15312684, 0.05760455, -0.11058054, 0.19222456, -0.07548987, -0.18384753, -0.10525153, -0.053241875, -0.05763864, -0.0052016587, -0.02037694, -0.19389628, -0.004329425, 0.18860058, 0.04699045, -0.03298173, -0.08882544, 0.2566961, -0.052023698, 0.122032925, 0.15283778, -0.062266868, -0.21671638, 0.20687981, -0.071965605, 0.111865, -0.017279066, 0.30696622, -0.019217268, -0.11909051]]|\n",
            "+-----------------------------------------------------------------------------------------------------------------------------------------------------------------------------------------------------------------------------------------------------------------------------------------------------------------------------------------------------------------------------------------------------------------------------------------------------------------------------------------------------------------------------------------------------------------------------------------------------------------------------------------------------------------------------------------------------------------------------------------------------------------------------------------------------------------------------------------------------------------------------------------------------------------------------------------------------------------------------------------------------------------------------------------------------------------------------------------------------------------------------------------------------------------------------------------------------------------------------------------------------------------------------------------------------------------------+\n",
            "only showing top 3 rows\n",
            "\n"
          ]
        }
      ],
      "source": [
        "testData_with_embeddings.select(testData_with_embeddings.sentence_embeddings.embeddings).show(3,truncate=False)"
      ]
    },
    {
      "cell_type": "code",
      "execution_count": null,
      "metadata": {
        "id": "C4nDUXMnadqo"
      },
      "outputs": [],
      "source": [
        "log_folder=\"ADE_logs_healthcare_100d\"\n",
        "!mkdir -p $log_folder"
      ]
    },
    {
      "cell_type": "markdown",
      "metadata": {
        "id": "Q9MywCqKDbck"
      },
      "source": [
        "### ClassifierDLApproach"
      ]
    },
    {
      "cell_type": "code",
      "execution_count": null,
      "metadata": {
        "id": "EhvRGlkmDbck"
      },
      "outputs": [],
      "source": [
        "classifier_dl = nlp.ClassifierDLApproach()\\\n",
        "        .setInputCols([\"sentence_embeddings\"])\\\n",
        "        .setOutputCol(\"prediction\")\\\n",
        "        .setLabelColumn(\"category\")\\\n",
        "        .setBatchSize(16)\\\n",
        "        .setMaxEpochs(30)\\\n",
        "        .setLr(0.002)\\\n",
        "        .setDropout(0.3)\\\n",
        "        .setEnableOutputLogs(True)\\\n",
        "        .setOutputLogsPath(log_folder)\\\n",
        "        # .setValidationSplit(0.1)\n",
        "\n",
        "classifier_dl_pipeline = nlp.Pipeline(\n",
        "    stages = [\n",
        "        classifier_dl\n",
        "    ])"
      ]
    },
    {
      "cell_type": "code",
      "execution_count": null,
      "metadata": {
        "id": "lM7Dpdx7Dbck"
      },
      "outputs": [],
      "source": [
        "clfDL_model_hc100 = classifier_dl_pipeline.fit(trainingData_with_embeddings)"
      ]
    },
    {
      "cell_type": "code",
      "execution_count": null,
      "metadata": {
        "colab": {
          "base_uri": "https://localhost:8080/"
        },
        "id": "2UbziPErDbck",
        "outputId": "25659bb5-dfa5-487d-f006-f4002a722b03"
      },
      "outputs": [
        {
          "name": "stdout",
          "output_type": "stream",
          "text": [
            "Training started - epochs: 30 - learning_rate: 0.002 - batch_size: 16 - training_examples: 5531 - classes: 2\n",
            "Epoch 0/30 - 3.73s - loss: 189.75111 - acc: 0.7523056 - batches: 346\n",
            "Epoch 1/30 - 0.69s - loss: 175.62492 - acc: 0.8018445 - batches: 346\n",
            "Epoch 2/30 - 0.67s - loss: 169.34398 - acc: 0.82203555 - batches: 346\n",
            "Epoch 3/30 - 0.68s - loss: 164.51093 - acc: 0.83109355 - batches: 346\n",
            "Epoch 4/30 - 0.71s - loss: 161.37875 - acc: 0.84214425 - batches: 346\n",
            "Epoch 5/30 - 0.66s - loss: 159.21469 - acc: 0.848666 - batches: 346\n",
            "Epoch 6/30 - 0.65s - loss: 157.47668 - acc: 0.85772395 - batches: 346\n",
            "Epoch 7/30 - 0.66s - loss: 156.04858 - acc: 0.8615283 - batches: 346\n",
            "Epoch 8/30 - 0.65s - loss: 154.84445 - acc: 0.864608 - batches: 346\n",
            "Epoch 9/30 - 0.65s - loss: 153.76982 - acc: 0.8669631 - batches: 346\n",
            "Epoch 10/30 - 0.64s - loss: 152.77791 - acc: 0.87022394 - batches: 346\n",
            "Epoch 11/30 - 0.64s - loss: 151.87325 - acc: 0.87475294 - batches: 346\n",
            "Epoch 12/30 - 0.63s - loss: 151.10619 - acc: 0.8762022 - batches: 346\n",
            "Epoch 13/30 - 0.63s - loss: 150.4371 - acc: 0.8783761 - batches: 346\n",
            "Epoch 14/30 - 0.66s - loss: 149.82431 - acc: 0.88055 - batches: 346\n",
            "Epoch 15/30 - 0.65s - loss: 149.27974 - acc: 0.8812747 - batches: 346\n",
            "Epoch 16/30 - 0.66s - loss: 148.76407 - acc: 0.88381094 - batches: 346\n",
            "Epoch 17/30 - 0.67s - loss: 148.27171 - acc: 0.885079 - batches: 346\n",
            "Epoch 18/30 - 0.68s - loss: 147.83127 - acc: 0.8856225 - batches: 346\n",
            "Epoch 19/30 - 0.62s - loss: 147.40791 - acc: 0.8870718 - batches: 346\n",
            "Epoch 20/30 - 0.59s - loss: 147.03229 - acc: 0.8877964 - batches: 346\n",
            "Epoch 21/30 - 0.62s - loss: 146.67448 - acc: 0.8894268 - batches: 346\n",
            "Epoch 22/30 - 0.60s - loss: 146.3384 - acc: 0.889888 - batches: 346\n",
            "Epoch 23/30 - 0.60s - loss: 146.03888 - acc: 0.8911561 - batches: 346\n",
            "Epoch 24/30 - 0.59s - loss: 145.76202 - acc: 0.89260536 - batches: 346\n",
            "Epoch 25/30 - 0.61s - loss: 145.49281 - acc: 0.894417 - batches: 346\n",
            "Epoch 26/30 - 0.59s - loss: 145.2457 - acc: 0.89496046 - batches: 346\n",
            "Epoch 27/30 - 0.58s - loss: 145.01848 - acc: 0.8958662 - batches: 346\n",
            "Epoch 28/30 - 0.58s - loss: 144.81245 - acc: 0.8965909 - batches: 346\n",
            "Epoch 29/30 - 0.59s - loss: 144.6011 - acc: 0.897859 - batches: 346\n"
          ]
        }
      ],
      "source": [
        "!cat $log_folder/ClassifierDLApproach_*"
      ]
    },
    {
      "cell_type": "code",
      "execution_count": null,
      "metadata": {
        "id": "w7Wzu_40qH6T"
      },
      "outputs": [],
      "source": [
        "preds = clfDL_model_hc100.transform(testData_with_embeddings).cache()"
      ]
    },
    {
      "cell_type": "code",
      "execution_count": null,
      "metadata": {
        "colab": {
          "base_uri": "https://localhost:8080/"
        },
        "id": "oeqPLNbZvuJQ",
        "outputId": "28556394-5460-485b-9bc6-072c5db50130"
      },
      "outputs": [
        {
          "name": "stdout",
          "output_type": "stream",
          "text": [
            "root\n",
            " |-- text: string (nullable = true)\n",
            " |-- category: string (nullable = true)\n",
            " |-- sentence_embeddings: array (nullable = true)\n",
            " |    |-- element: struct (containsNull = true)\n",
            " |    |    |-- annotatorType: string (nullable = true)\n",
            " |    |    |-- begin: integer (nullable = false)\n",
            " |    |    |-- end: integer (nullable = false)\n",
            " |    |    |-- result: string (nullable = true)\n",
            " |    |    |-- metadata: map (nullable = true)\n",
            " |    |    |    |-- key: string\n",
            " |    |    |    |-- value: string (valueContainsNull = true)\n",
            " |    |    |-- embeddings: array (nullable = true)\n",
            " |    |    |    |-- element: float (containsNull = false)\n",
            " |-- prediction: array (nullable = true)\n",
            " |    |-- element: struct (containsNull = true)\n",
            " |    |    |-- annotatorType: string (nullable = true)\n",
            " |    |    |-- begin: integer (nullable = false)\n",
            " |    |    |-- end: integer (nullable = false)\n",
            " |    |    |-- result: string (nullable = true)\n",
            " |    |    |-- metadata: map (nullable = true)\n",
            " |    |    |    |-- key: string\n",
            " |    |    |    |-- value: string (valueContainsNull = true)\n",
            " |    |    |-- embeddings: array (nullable = true)\n",
            " |    |    |    |-- element: float (containsNull = false)\n",
            "\n",
            "+--------------------------------------------------------------------------------------+\n",
            "|prediction                                                                            |\n",
            "+--------------------------------------------------------------------------------------+\n",
            "|[{category, 0, 166, neg, {sentence -> 0, pos -> 0.0037828975, neg -> 0.9962171}, []}] |\n",
            "|[{category, 0, 262, neg, {sentence -> 0, pos -> 1.7080263E-6, neg -> 0.99999833}, []}]|\n",
            "|[{category, 0, 172, neg, {sentence -> 0, pos -> 0.14362113, neg -> 0.8563789}, []}]   |\n",
            "|[{category, 0, 93, neg, {sentence -> 0, pos -> 8.5049804E-4, neg -> 0.99914944}, []}] |\n",
            "|[{category, 0, 136, neg, {sentence -> 0, pos -> 0.02191766, neg -> 0.9780823}, []}]   |\n",
            "+--------------------------------------------------------------------------------------+\n",
            "only showing top 5 rows\n",
            "\n",
            "+--------+-----------------+\n",
            "|category|prediction.result|\n",
            "+--------+-----------------+\n",
            "|neg     |[neg]            |\n",
            "|neg     |[neg]            |\n",
            "|neg     |[neg]            |\n",
            "|neg     |[neg]            |\n",
            "|neg     |[neg]            |\n",
            "+--------+-----------------+\n",
            "only showing top 5 rows\n",
            "\n"
          ]
        }
      ],
      "source": [
        "preds.printSchema()\n",
        "preds.select(preds.prediction).show(5, truncate=False)\n",
        "preds.select(preds.category, preds.prediction.result).show(5, truncate=False)"
      ]
    },
    {
      "cell_type": "code",
      "execution_count": null,
      "metadata": {
        "colab": {
          "base_uri": "https://localhost:8080/"
        },
        "id": "l0yEqGcJDbck",
        "outputId": "9a528bbb-614b-41c5-a363-779c9d249280"
      },
      "outputs": [
        {
          "name": "stdout",
          "output_type": "stream",
          "text": [
            "              precision    recall  f1-score   support\n",
            "\n",
            "         neg       0.86      0.90      0.88       982\n",
            "         pos       0.76      0.69      0.72       445\n",
            "\n",
            "    accuracy                           0.83      1427\n",
            "   macro avg       0.81      0.79      0.80      1427\n",
            "weighted avg       0.83      0.83      0.83      1427\n",
            "\n"
          ]
        }
      ],
      "source": [
        "preds_df = preds.select(\"category\",\"text\",\"prediction.result\").toPandas()\n",
        "preds_df[\"result\"] = preds_df[\"result\"].apply(lambda x : x[0])\n",
        "\n",
        "print (classification_report(preds_df[\"category\"], preds_df[\"result\"]))"
      ]
    },
    {
      "cell_type": "markdown",
      "metadata": {
        "id": "3NRB48Jd8PBL"
      },
      "source": [
        "### MultiClassifierDL"
      ]
    },
    {
      "cell_type": "markdown",
      "metadata": {
        "id": "fHNzlFhIi1IU"
      },
      "source": [
        "We will use MultiClassifierDL built by using Bidirectional GRU and CNNs inside TensorFlow that supports up to 100 classes. It is designed for multi-label classification purposes. Here we will use MultiClassifierDL as a binary classifier. "
      ]
    },
    {
      "cell_type": "code",
      "execution_count": null,
      "metadata": {
        "id": "H7BFPBvBkRXm"
      },
      "outputs": [],
      "source": [
        "# MultiClassifierDL accepts list of strings as input label. So we convert label column to array type.\n",
        "trainingData_with_embeddings = trainingData_with_embeddings.withColumn(\"category_array\", F.array(F.col(\"category\")))\n",
        "testData_with_embeddings = testData_with_embeddings.withColumn(\"category_array\", F.array(F.col(\"category\")))"
      ]
    },
    {
      "cell_type": "code",
      "execution_count": null,
      "metadata": {
        "id": "qfayOhW1QGuZ"
      },
      "outputs": [],
      "source": [
        "multiClassifier = nlp.MultiClassifierDLApproach()\\\n",
        "  .setInputCols(\"sentence_embeddings\")\\\n",
        "  .setOutputCol(\"prediction\")\\\n",
        "  .setLabelColumn(\"category_array\")\\\n",
        "  .setBatchSize(16)\\\n",
        "  .setMaxEpochs(20)\\\n",
        "  .setLr(9e-3)\\\n",
        "  .setThreshold(0.5)\\\n",
        "  .setShufflePerEpoch(False)\\\n",
        "  .setEnableOutputLogs(True)\\\n",
        "  .setOutputLogsPath(log_folder)\\\n",
        "#   .setValidationSplit(0.1)\n",
        "\n",
        "multiClassifier_pipeline = nlp.Pipeline(\n",
        "    stages = [\n",
        "        multiClassifier\n",
        "    ])"
      ]
    },
    {
      "cell_type": "code",
      "execution_count": null,
      "metadata": {
        "id": "uis9foJpQ56_"
      },
      "outputs": [],
      "source": [
        "multiClassifier_model_hc100 = multiClassifier_pipeline.fit(trainingData_with_embeddings)"
      ]
    },
    {
      "cell_type": "code",
      "execution_count": null,
      "metadata": {
        "colab": {
          "base_uri": "https://localhost:8080/"
        },
        "id": "oZ4muaEcQ56_",
        "outputId": "4acfae4f-413e-42e0-a062-cf622c0f67ce"
      },
      "outputs": [
        {
          "name": "stdout",
          "output_type": "stream",
          "text": [
            "Training started - epochs: 20 - learning_rate: 0.009 - batch_size: 16 - training_examples: 5531 - classes: 2\n",
            "Epoch 0/20 - 10.94s - loss: 0.5176699 - acc: 0.7431242 - batches: 346\n",
            "Epoch 1/20 - 2.86s - loss: 0.45592391 - acc: 0.77926546 - batches: 346\n",
            "Epoch 2/20 - 3.03s - loss: 0.42114297 - acc: 0.8023633 - batches: 346\n",
            "Epoch 3/20 - 2.72s - loss: 0.39981228 - acc: 0.81558794 - batches: 346\n",
            "Epoch 4/20 - 2.74s - loss: 0.38461632 - acc: 0.82174736 - batches: 346\n",
            "Epoch 5/20 - 2.73s - loss: 0.3692872 - acc: 0.83139 - batches: 346\n",
            "Epoch 6/20 - 2.96s - loss: 0.3546942 - acc: 0.83813405 - batches: 346\n",
            "Epoch 7/20 - 2.82s - loss: 0.34020808 - acc: 0.8442029 - batches: 346\n",
            "Epoch 8/20 - 2.65s - loss: 0.3262495 - acc: 0.8541667 - batches: 346\n",
            "Epoch 9/20 - 2.73s - loss: 0.31264758 - acc: 0.8611413 - batches: 346\n",
            "Epoch 10/20 - 2.78s - loss: 0.29955116 - acc: 0.8677536 - batches: 346\n",
            "Epoch 11/20 - 3.14s - loss: 0.2856323 - acc: 0.8763587 - batches: 346\n",
            "Epoch 12/20 - 2.78s - loss: 0.27050516 - acc: 0.88596016 - batches: 346\n",
            "Epoch 13/20 - 2.80s - loss: 0.25789407 - acc: 0.8905797 - batches: 346\n",
            "Epoch 14/20 - 2.74s - loss: 0.24467102 - acc: 0.8943841 - batches: 346\n",
            "Epoch 15/20 - 2.94s - loss: 0.23153548 - acc: 0.9025362 - batches: 346\n",
            "Epoch 16/20 - 2.86s - loss: 0.21910457 - acc: 0.9099638 - batches: 346\n",
            "Epoch 17/20 - 2.70s - loss: 0.20517008 - acc: 0.91621375 - batches: 346\n",
            "Epoch 18/20 - 2.66s - loss: 0.19327573 - acc: 0.92391306 - batches: 346\n",
            "Epoch 19/20 - 2.68s - loss: 0.17943972 - acc: 0.93324274 - batches: 346\n"
          ]
        }
      ],
      "source": [
        "!cat $log_folder/MultiClassifierDLApproach_*"
      ]
    },
    {
      "cell_type": "code",
      "execution_count": null,
      "metadata": {
        "id": "aU71yDTEQ57A"
      },
      "outputs": [],
      "source": [
        "preds = multiClassifier_model_hc100.transform(testData_with_embeddings).cache()"
      ]
    },
    {
      "cell_type": "code",
      "execution_count": null,
      "metadata": {
        "colab": {
          "base_uri": "https://localhost:8080/"
        },
        "id": "sMqK2PTaQ57A",
        "outputId": "217bacc0-2f3b-4aca-af69-4b6d13b36dee"
      },
      "outputs": [
        {
          "name": "stdout",
          "output_type": "stream",
          "text": [
            "root\n",
            " |-- text: string (nullable = true)\n",
            " |-- category: string (nullable = true)\n",
            " |-- sentence_embeddings: array (nullable = true)\n",
            " |    |-- element: struct (containsNull = true)\n",
            " |    |    |-- annotatorType: string (nullable = true)\n",
            " |    |    |-- begin: integer (nullable = false)\n",
            " |    |    |-- end: integer (nullable = false)\n",
            " |    |    |-- result: string (nullable = true)\n",
            " |    |    |-- metadata: map (nullable = true)\n",
            " |    |    |    |-- key: string\n",
            " |    |    |    |-- value: string (valueContainsNull = true)\n",
            " |    |    |-- embeddings: array (nullable = true)\n",
            " |    |    |    |-- element: float (containsNull = false)\n",
            " |-- category_array: array (nullable = false)\n",
            " |    |-- element: string (containsNull = true)\n",
            " |-- prediction: array (nullable = true)\n",
            " |    |-- element: struct (containsNull = true)\n",
            " |    |    |-- annotatorType: string (nullable = true)\n",
            " |    |    |-- begin: integer (nullable = false)\n",
            " |    |    |-- end: integer (nullable = false)\n",
            " |    |    |-- result: string (nullable = true)\n",
            " |    |    |-- metadata: map (nullable = true)\n",
            " |    |    |    |-- key: string\n",
            " |    |    |    |-- value: string (valueContainsNull = true)\n",
            " |    |    |-- embeddings: array (nullable = true)\n",
            " |    |    |    |-- element: float (containsNull = false)\n",
            "\n",
            "+-------------------------------------------------------------------------------------+\n",
            "|prediction                                                                           |\n",
            "+-------------------------------------------------------------------------------------+\n",
            "|[{category, 0, 166, neg, {sentence -> 0, pos -> 0.020086566, neg -> 0.97943234}, []}]|\n",
            "|[{category, 0, 262, neg, {sentence -> 0, pos -> 2.0814769E-6, neg -> 0.999998}, []}] |\n",
            "|[{category, 0, 172, pos, {sentence -> 0, pos -> 0.54828835, neg -> 0.4517691}, []}]  |\n",
            "|[{category, 0, 93, neg, {sentence -> 0, pos -> 0.06704558, neg -> 0.9331865}, []}]   |\n",
            "|[{category, 0, 136, neg, {sentence -> 0, pos -> 0.17461559, neg -> 0.82565016}, []}] |\n",
            "+-------------------------------------------------------------------------------------+\n",
            "only showing top 5 rows\n",
            "\n",
            "+--------------+-----------------+\n",
            "|category_array|prediction.result|\n",
            "+--------------+-----------------+\n",
            "|[neg]         |[neg]            |\n",
            "|[neg]         |[neg]            |\n",
            "|[neg]         |[pos]            |\n",
            "|[neg]         |[neg]            |\n",
            "|[neg]         |[neg]            |\n",
            "+--------------+-----------------+\n",
            "only showing top 5 rows\n",
            "\n"
          ]
        }
      ],
      "source": [
        "preds.printSchema()\n",
        "preds.select(preds.prediction).show(5, truncate=False)\n",
        "preds.select(preds.category_array, preds.prediction.result).show(5, truncate=False)"
      ]
    },
    {
      "cell_type": "code",
      "execution_count": null,
      "metadata": {
        "colab": {
          "base_uri": "https://localhost:8080/"
        },
        "id": "fdYjuIgznI9H",
        "outputId": "27f76680-56bc-4894-c0e3-b9414434bf69"
      },
      "outputs": [
        {
          "data": {
            "text/plain": [
              "['neg']    1088\n",
              "['pos']     339\n",
              "Name: result, dtype: int64"
            ]
          },
          "execution_count": 35,
          "metadata": {},
          "output_type": "execute_result"
        }
      ],
      "source": [
        "preds_df = preds.select(\"category\",\"text\",\"prediction.result\",\"prediction.metadata\").toPandas()\n",
        "preds_df.result.apply(lambda x: str(x) ).value_counts()"
      ]
    },
    {
      "cell_type": "code",
      "execution_count": null,
      "metadata": {
        "colab": {
          "base_uri": "https://localhost:8080/",
          "height": 49
        },
        "id": "s52SZO6k2nu7",
        "outputId": "1302cab2-4ba6-4594-b2ff-ff73d0aa0d3e"
      },
      "outputs": [
        {
          "data": {
            "text/html": [
              "\n",
              "  <div id=\"df-f44f8a04-cd55-409a-a095-e7138b9a8e77\">\n",
              "    <div class=\"colab-df-container\">\n",
              "      <div>\n",
              "<style scoped>\n",
              "    .dataframe tbody tr th:only-of-type {\n",
              "        vertical-align: middle;\n",
              "    }\n",
              "\n",
              "    .dataframe tbody tr th {\n",
              "        vertical-align: top;\n",
              "    }\n",
              "\n",
              "    .dataframe thead th {\n",
              "        text-align: right;\n",
              "    }\n",
              "</style>\n",
              "<table border=\"1\" class=\"dataframe\">\n",
              "  <thead>\n",
              "    <tr style=\"text-align: right;\">\n",
              "      <th></th>\n",
              "      <th>category</th>\n",
              "      <th>text</th>\n",
              "      <th>result</th>\n",
              "      <th>metadata</th>\n",
              "    </tr>\n",
              "  </thead>\n",
              "  <tbody>\n",
              "  </tbody>\n",
              "</table>\n",
              "</div>\n",
              "      <button class=\"colab-df-convert\" onclick=\"convertToInteractive('df-f44f8a04-cd55-409a-a095-e7138b9a8e77')\"\n",
              "              title=\"Convert this dataframe to an interactive table.\"\n",
              "              style=\"display:none;\">\n",
              "        \n",
              "  <svg xmlns=\"http://www.w3.org/2000/svg\" height=\"24px\"viewBox=\"0 0 24 24\"\n",
              "       width=\"24px\">\n",
              "    <path d=\"M0 0h24v24H0V0z\" fill=\"none\"/>\n",
              "    <path d=\"M18.56 5.44l.94 2.06.94-2.06 2.06-.94-2.06-.94-.94-2.06-.94 2.06-2.06.94zm-11 1L8.5 8.5l.94-2.06 2.06-.94-2.06-.94L8.5 2.5l-.94 2.06-2.06.94zm10 10l.94 2.06.94-2.06 2.06-.94-2.06-.94-.94-2.06-.94 2.06-2.06.94z\"/><path d=\"M17.41 7.96l-1.37-1.37c-.4-.4-.92-.59-1.43-.59-.52 0-1.04.2-1.43.59L10.3 9.45l-7.72 7.72c-.78.78-.78 2.05 0 2.83L4 21.41c.39.39.9.59 1.41.59.51 0 1.02-.2 1.41-.59l7.78-7.78 2.81-2.81c.8-.78.8-2.07 0-2.86zM5.41 20L4 18.59l7.72-7.72 1.47 1.35L5.41 20z\"/>\n",
              "  </svg>\n",
              "      </button>\n",
              "      \n",
              "  <style>\n",
              "    .colab-df-container {\n",
              "      display:flex;\n",
              "      flex-wrap:wrap;\n",
              "      gap: 12px;\n",
              "    }\n",
              "\n",
              "    .colab-df-convert {\n",
              "      background-color: #E8F0FE;\n",
              "      border: none;\n",
              "      border-radius: 50%;\n",
              "      cursor: pointer;\n",
              "      display: none;\n",
              "      fill: #1967D2;\n",
              "      height: 32px;\n",
              "      padding: 0 0 0 0;\n",
              "      width: 32px;\n",
              "    }\n",
              "\n",
              "    .colab-df-convert:hover {\n",
              "      background-color: #E2EBFA;\n",
              "      box-shadow: 0px 1px 2px rgba(60, 64, 67, 0.3), 0px 1px 3px 1px rgba(60, 64, 67, 0.15);\n",
              "      fill: #174EA6;\n",
              "    }\n",
              "\n",
              "    [theme=dark] .colab-df-convert {\n",
              "      background-color: #3B4455;\n",
              "      fill: #D2E3FC;\n",
              "    }\n",
              "\n",
              "    [theme=dark] .colab-df-convert:hover {\n",
              "      background-color: #434B5C;\n",
              "      box-shadow: 0px 1px 3px 1px rgba(0, 0, 0, 0.15);\n",
              "      filter: drop-shadow(0px 1px 2px rgba(0, 0, 0, 0.3));\n",
              "      fill: #FFFFFF;\n",
              "    }\n",
              "  </style>\n",
              "\n",
              "      <script>\n",
              "        const buttonEl =\n",
              "          document.querySelector('#df-f44f8a04-cd55-409a-a095-e7138b9a8e77 button.colab-df-convert');\n",
              "        buttonEl.style.display =\n",
              "          google.colab.kernel.accessAllowed ? 'block' : 'none';\n",
              "\n",
              "        async function convertToInteractive(key) {\n",
              "          const element = document.querySelector('#df-f44f8a04-cd55-409a-a095-e7138b9a8e77');\n",
              "          const dataTable =\n",
              "            await google.colab.kernel.invokeFunction('convertToInteractive',\n",
              "                                                     [key], {});\n",
              "          if (!dataTable) return;\n",
              "\n",
              "          const docLinkHtml = 'Like what you see? Visit the ' +\n",
              "            '<a target=\"_blank\" href=https://colab.research.google.com/notebooks/data_table.ipynb>data table notebook</a>'\n",
              "            + ' to learn more about interactive tables.';\n",
              "          element.innerHTML = '';\n",
              "          dataTable['output_type'] = 'display_data';\n",
              "          await google.colab.output.renderOutput(dataTable, element);\n",
              "          const docLink = document.createElement('div');\n",
              "          docLink.innerHTML = docLinkHtml;\n",
              "          element.appendChild(docLink);\n",
              "        }\n",
              "      </script>\n",
              "    </div>\n",
              "  </div>\n",
              "  "
            ],
            "text/plain": [
              "Empty DataFrame\n",
              "Columns: [category, text, result, metadata]\n",
              "Index: []"
            ]
          },
          "execution_count": 36,
          "metadata": {},
          "output_type": "execute_result"
        }
      ],
      "source": [
        "preds_df[preds_df.result.apply(len)==2]"
      ]
    },
    {
      "cell_type": "code",
      "execution_count": null,
      "metadata": {
        "colab": {
          "base_uri": "https://localhost:8080/",
          "height": 49
        },
        "id": "F64-vahk3MQn",
        "outputId": "ddbcf331-d4a3-4c0b-d0d6-51eb185d0f88"
      },
      "outputs": [
        {
          "data": {
            "text/html": [
              "\n",
              "  <div id=\"df-67791043-4a15-4764-b523-c60088407773\">\n",
              "    <div class=\"colab-df-container\">\n",
              "      <div>\n",
              "<style scoped>\n",
              "    .dataframe tbody tr th:only-of-type {\n",
              "        vertical-align: middle;\n",
              "    }\n",
              "\n",
              "    .dataframe tbody tr th {\n",
              "        vertical-align: top;\n",
              "    }\n",
              "\n",
              "    .dataframe thead th {\n",
              "        text-align: right;\n",
              "    }\n",
              "</style>\n",
              "<table border=\"1\" class=\"dataframe\">\n",
              "  <thead>\n",
              "    <tr style=\"text-align: right;\">\n",
              "      <th></th>\n",
              "      <th>category</th>\n",
              "      <th>text</th>\n",
              "      <th>result</th>\n",
              "      <th>metadata</th>\n",
              "    </tr>\n",
              "  </thead>\n",
              "  <tbody>\n",
              "  </tbody>\n",
              "</table>\n",
              "</div>\n",
              "      <button class=\"colab-df-convert\" onclick=\"convertToInteractive('df-67791043-4a15-4764-b523-c60088407773')\"\n",
              "              title=\"Convert this dataframe to an interactive table.\"\n",
              "              style=\"display:none;\">\n",
              "        \n",
              "  <svg xmlns=\"http://www.w3.org/2000/svg\" height=\"24px\"viewBox=\"0 0 24 24\"\n",
              "       width=\"24px\">\n",
              "    <path d=\"M0 0h24v24H0V0z\" fill=\"none\"/>\n",
              "    <path d=\"M18.56 5.44l.94 2.06.94-2.06 2.06-.94-2.06-.94-.94-2.06-.94 2.06-2.06.94zm-11 1L8.5 8.5l.94-2.06 2.06-.94-2.06-.94L8.5 2.5l-.94 2.06-2.06.94zm10 10l.94 2.06.94-2.06 2.06-.94-2.06-.94-.94-2.06-.94 2.06-2.06.94z\"/><path d=\"M17.41 7.96l-1.37-1.37c-.4-.4-.92-.59-1.43-.59-.52 0-1.04.2-1.43.59L10.3 9.45l-7.72 7.72c-.78.78-.78 2.05 0 2.83L4 21.41c.39.39.9.59 1.41.59.51 0 1.02-.2 1.41-.59l7.78-7.78 2.81-2.81c.8-.78.8-2.07 0-2.86zM5.41 20L4 18.59l7.72-7.72 1.47 1.35L5.41 20z\"/>\n",
              "  </svg>\n",
              "      </button>\n",
              "      \n",
              "  <style>\n",
              "    .colab-df-container {\n",
              "      display:flex;\n",
              "      flex-wrap:wrap;\n",
              "      gap: 12px;\n",
              "    }\n",
              "\n",
              "    .colab-df-convert {\n",
              "      background-color: #E8F0FE;\n",
              "      border: none;\n",
              "      border-radius: 50%;\n",
              "      cursor: pointer;\n",
              "      display: none;\n",
              "      fill: #1967D2;\n",
              "      height: 32px;\n",
              "      padding: 0 0 0 0;\n",
              "      width: 32px;\n",
              "    }\n",
              "\n",
              "    .colab-df-convert:hover {\n",
              "      background-color: #E2EBFA;\n",
              "      box-shadow: 0px 1px 2px rgba(60, 64, 67, 0.3), 0px 1px 3px 1px rgba(60, 64, 67, 0.15);\n",
              "      fill: #174EA6;\n",
              "    }\n",
              "\n",
              "    [theme=dark] .colab-df-convert {\n",
              "      background-color: #3B4455;\n",
              "      fill: #D2E3FC;\n",
              "    }\n",
              "\n",
              "    [theme=dark] .colab-df-convert:hover {\n",
              "      background-color: #434B5C;\n",
              "      box-shadow: 0px 1px 3px 1px rgba(0, 0, 0, 0.15);\n",
              "      filter: drop-shadow(0px 1px 2px rgba(0, 0, 0, 0.3));\n",
              "      fill: #FFFFFF;\n",
              "    }\n",
              "  </style>\n",
              "\n",
              "      <script>\n",
              "        const buttonEl =\n",
              "          document.querySelector('#df-67791043-4a15-4764-b523-c60088407773 button.colab-df-convert');\n",
              "        buttonEl.style.display =\n",
              "          google.colab.kernel.accessAllowed ? 'block' : 'none';\n",
              "\n",
              "        async function convertToInteractive(key) {\n",
              "          const element = document.querySelector('#df-67791043-4a15-4764-b523-c60088407773');\n",
              "          const dataTable =\n",
              "            await google.colab.kernel.invokeFunction('convertToInteractive',\n",
              "                                                     [key], {});\n",
              "          if (!dataTable) return;\n",
              "\n",
              "          const docLinkHtml = 'Like what you see? Visit the ' +\n",
              "            '<a target=\"_blank\" href=https://colab.research.google.com/notebooks/data_table.ipynb>data table notebook</a>'\n",
              "            + ' to learn more about interactive tables.';\n",
              "          element.innerHTML = '';\n",
              "          dataTable['output_type'] = 'display_data';\n",
              "          await google.colab.output.renderOutput(dataTable, element);\n",
              "          const docLink = document.createElement('div');\n",
              "          docLink.innerHTML = docLinkHtml;\n",
              "          element.appendChild(docLink);\n",
              "        }\n",
              "      </script>\n",
              "    </div>\n",
              "  </div>\n",
              "  "
            ],
            "text/plain": [
              "Empty DataFrame\n",
              "Columns: [category, text, result, metadata]\n",
              "Index: []"
            ]
          },
          "execution_count": 37,
          "metadata": {},
          "output_type": "execute_result"
        }
      ],
      "source": [
        "preds_df[preds_df.result.apply(len)==0]"
      ]
    },
    {
      "cell_type": "markdown",
      "metadata": {
        "id": "yPS9qyw-nYJN"
      },
      "source": [
        "MultiClassifierDL is a multi-label classifier, so some predictions may include both labels or none of the labels. That can be controlled a bit with `.setThreshold()` parameter during training. For now we will keep not keep zero label predictions and get the highest score as prediction."
      ]
    },
    {
      "cell_type": "code",
      "execution_count": null,
      "metadata": {
        "colab": {
          "base_uri": "https://localhost:8080/"
        },
        "id": "ZG5XKJVd79vg",
        "outputId": "88d96d65-a955-4980-f851-99a31d4555fd"
      },
      "outputs": [
        {
          "data": {
            "text/plain": [
              "neg    1088\n",
              "pos     339\n",
              "Name: result, dtype: int64"
            ]
          },
          "execution_count": 38,
          "metadata": {},
          "output_type": "execute_result"
        }
      ],
      "source": [
        "# We will get the highest score label as result. You can control the number of zero label results with setThreshold() in the training.\n",
        "preds_df[\"scores\"] = preds_df.metadata.apply(lambda x: {k:float(v) for k,v in x[0].items()} if len(x)>=1 else \"\")\n",
        "preds_df[\"result\"] = preds_df.scores.apply(lambda x: max(x, key=x.get) if len(x)>=1 else \"\")\n",
        "preds_df[\"result\"].value_counts()"
      ]
    },
    {
      "cell_type": "code",
      "execution_count": null,
      "metadata": {
        "colab": {
          "base_uri": "https://localhost:8080/"
        },
        "id": "MT8hQSEqQ57A",
        "outputId": "4e0f7d74-deae-4591-e8c5-e79f2388b01a"
      },
      "outputs": [
        {
          "name": "stdout",
          "output_type": "stream",
          "text": [
            "              precision    recall  f1-score   support\n",
            "\n",
            "         neg       0.83      0.92      0.87       982\n",
            "         pos       0.76      0.58      0.66       445\n",
            "\n",
            "    accuracy                           0.81      1427\n",
            "   macro avg       0.79      0.75      0.76      1427\n",
            "weighted avg       0.81      0.81      0.80      1427\n",
            "\n"
          ]
        }
      ],
      "source": [
        "print (classification_report(preds_df[\"category\"], preds_df[\"result\"]))"
      ]
    },
    {
      "cell_type": "markdown",
      "metadata": {
        "id": "aCf989KwQB3H"
      },
      "source": [
        "### Generic Classifier"
      ]
    },
    {
      "cell_type": "code",
      "execution_count": null,
      "metadata": {
        "colab": {
          "base_uri": "https://localhost:8080/"
        },
        "id": "IeVxl4ruiJtr",
        "outputId": "955807f3-ca18-46b5-ac35-3b4ed7704205"
      },
      "outputs": [
        {
          "name": "stdout",
          "output_type": "stream",
          "text": [
            "\u001b[?25l     \u001b[90m━━━━━━━━━━━━━━━━━━━━━━━━━━━━━━━━━━━━━━━━\u001b[0m \u001b[32m0.0/1.1 MB\u001b[0m \u001b[31m?\u001b[0m eta \u001b[36m-:--:--\u001b[0m\r\u001b[2K     \u001b[90m━━━━━━━━━━━━━━━━━━━━━━━━━━━━━━━━━━━━━━━━\u001b[0m \u001b[32m1.1/1.1 MB\u001b[0m \u001b[31m51.4 MB/s\u001b[0m eta \u001b[36m0:00:00\u001b[0m\n",
            "\u001b[?25h"
          ]
        }
      ],
      "source": [
        "!pip install -q tensorflow==2.11.0 tensorflow_addons"
      ]
    },
    {
      "cell_type": "code",
      "execution_count": null,
      "metadata": {
        "id": "N1Z9so_UQB3I"
      },
      "outputs": [],
      "source": [
        "from sparknlp_jsl.annotator import TFGraphBuilder\n",
        "\n",
        "graph_folder = \"gc_graph\"\n",
        "\n",
        "gc_graph_builder =medical.TFGraphBuilder()\\\n",
        "    .setModelName(\"generic_classifier\")\\\n",
        "    .setInputCols([\"features\"])\\\n",
        "    .setLabelColumn(\"category\")\\\n",
        "    .setHiddenLayers([300,200, 50])\\\n",
        "    .setHiddenAct(\"tanh\")\\\n",
        "    .setHiddenActL2(True)\\\n",
        "    .setBatchNorm(True)\\\n",
        "    .setGraphFolder(graph_folder)\\\n",
        "    .setGraphFile(\"gcf_graph_100d.pb\")"
      ]
    },
    {
      "cell_type": "markdown",
      "metadata": {
        "id": "_ADlQFAHch6j"
      },
      "source": [
        "GenericClassifier needs outputs from FeaturesAssembler. The FeaturesAssembler is used to collect features from different columns or an embeddings column.\n",
        "\n",
        "The GenericClassifierApproach takes FEATURE_VECTOR annotations as input, classifies them and outputs CATEGORY annotations."
      ]
    },
    {
      "cell_type": "code",
      "execution_count": null,
      "metadata": {
        "id": "f7saGLwvQB3I"
      },
      "outputs": [],
      "source": [
        "features_asm = medical.FeaturesAssembler()\\\n",
        "    .setInputCols([\"sentence_embeddings\"])\\\n",
        "    .setOutputCol(\"features\")\n",
        "      \n",
        "gen_clf =medical.GenericClassifierApproach()\\\n",
        "    .setLabelColumn(\"category\")\\\n",
        "    .setInputCols(\"features\")\\\n",
        "    .setOutputCol(\"prediction\")\\\n",
        "    .setModelFile(f\"{graph_folder}/gcf_graph_100d.pb\")\\\n",
        "    .setEpochsNumber(25)\\\n",
        "    .setBatchSize(128)\\\n",
        "    .setLearningRate(0.004)\\\n",
        "    .setOutputLogsPath(log_folder)\\\n",
        "    .setDropout(0.2)\\\n",
        "    .setFixImbalance(True)\\\n",
        "    # .setValidationSplit(0.1)\n",
        "\n",
        "clf_Pipeline = nlp.Pipeline(stages=[\n",
        "    features_asm,\n",
        "    gc_graph_builder,\n",
        "    gen_clf])\n"
      ]
    },
    {
      "cell_type": "code",
      "execution_count": null,
      "metadata": {
        "colab": {
          "base_uri": "https://localhost:8080/"
        },
        "id": "oSG7cx7yQB3I",
        "outputId": "99be59a7-f6ee-49ae-8729-29a23112a88a"
      },
      "outputs": [
        {
          "name": "stdout",
          "output_type": "stream",
          "text": [
            "TF Graph Builder configuration:\n",
            "Model name: generic_classifier\n",
            "Graph folder: gc_graph\n",
            "Graph file name: gcf_graph_100d.pb\n",
            "Build params: {'input_dim': 100, 'output_dim': 2, 'hidden_layers': [300, 200, 50], 'hidden_act': 'tanh', 'hidden_act_l2': True, 'batch_norm': True}\n"
          ]
        },
        {
          "name": "stderr",
          "output_type": "stream",
          "text": [
            "WARNING:tensorflow:From /usr/local/lib/python3.8/dist-packages/keras/layers/normalization/batch_normalization.py:561: _colocate_with (from tensorflow.python.framework.ops) is deprecated and will be removed in a future version.\n",
            "Instructions for updating:\n",
            "Colocations handled automatically by placer.\n"
          ]
        },
        {
          "name": "stdout",
          "output_type": "stream",
          "text": [
            "generic_classifier graph exported to gc_graph/gcf_graph_100d.pb\n"
          ]
        }
      ],
      "source": [
        "generic_model_hc100 = clf_Pipeline.fit(trainingData_with_embeddings)"
      ]
    },
    {
      "cell_type": "code",
      "execution_count": null,
      "metadata": {
        "colab": {
          "base_uri": "https://localhost:8080/"
        },
        "id": "9PSm7rd0QB3I",
        "outputId": "3bf5dc0f-4ae8-4133-b8c0-1277c011ccba"
      },
      "outputs": [
        {
          "name": "stdout",
          "output_type": "stream",
          "text": [
            "Training 25 epochs\n",
            "Epoch 1/25\t0.47s\tLoss: 12.082781\tACC: 0.62057424\n",
            "Epoch 2/25\t0.20s\tLoss: 9.757496\tACC: 0.7308765\n",
            "Epoch 3/25\t0.17s\tLoss: 10.080137\tACC: 0.70859635\n",
            "Epoch 4/25\t0.16s\tLoss: 9.551863\tACC: 0.7258654\n",
            "Epoch 5/25\t0.15s\tLoss: 9.164324\tACC: 0.7364268\n",
            "Epoch 6/25\t0.16s\tLoss: 9.027724\tACC: 0.74325943\n",
            "Epoch 7/25\t0.14s\tLoss: 8.727636\tACC: 0.74796796\n",
            "Epoch 8/25\t0.12s\tLoss: 8.744375\tACC: 0.7546297\n",
            "Epoch 9/25\t0.15s\tLoss: 8.912432\tACC: 0.7493029\n",
            "Epoch 10/25\t0.15s\tLoss: 8.547589\tACC: 0.76097566\n",
            "Epoch 11/25\t0.12s\tLoss: 8.44485\tACC: 0.7664799\n",
            "Epoch 12/25\t0.13s\tLoss: 8.269875\tACC: 0.7712805\n",
            "Epoch 13/25\t0.13s\tLoss: 8.1486\tACC: 0.7771728\n",
            "Epoch 14/25\t0.13s\tLoss: 8.092053\tACC: 0.7805924\n",
            "Epoch 15/25\t0.12s\tLoss: 8.239771\tACC: 0.7713266\n",
            "Epoch 16/25\t0.14s\tLoss: 8.102629\tACC: 0.78206545\n",
            "Epoch 17/25\t0.14s\tLoss: 7.953369\tACC: 0.78023726\n",
            "Epoch 18/25\t0.14s\tLoss: 7.8793\tACC: 0.7892006\n",
            "Epoch 19/25\t0.13s\tLoss: 8.0347395\tACC: 0.7873001\n",
            "Epoch 20/25\t0.14s\tLoss: 8.058263\tACC: 0.78587306\n",
            "Epoch 21/25\t0.12s\tLoss: 7.7168407\tACC: 0.7846302\n",
            "Epoch 22/25\t0.12s\tLoss: 7.756884\tACC: 0.78494585\n",
            "Epoch 23/25\t0.13s\tLoss: 7.882688\tACC: 0.7818353\n",
            "Epoch 24/25\t0.14s\tLoss: 7.5709853\tACC: 0.79750633\n",
            "Epoch 25/25\t0.13s\tLoss: 7.556375\tACC: 0.7971052\n",
            "Training completed.\n"
          ]
        }
      ],
      "source": [
        "!cat $log_folder/GenericClassifierApproach_*"
      ]
    },
    {
      "cell_type": "code",
      "execution_count": null,
      "metadata": {
        "id": "3Sqm6pF95vYX"
      },
      "outputs": [],
      "source": [
        "pred_df = generic_model_hc100.transform(testData_with_embeddings).cache()"
      ]
    },
    {
      "cell_type": "code",
      "execution_count": null,
      "metadata": {
        "colab": {
          "base_uri": "https://localhost:8080/"
        },
        "id": "EW_Bbcb55xe-",
        "outputId": "a624863b-9f10-449c-8e9f-8c06ed2a045e"
      },
      "outputs": [
        {
          "name": "stdout",
          "output_type": "stream",
          "text": [
            "root\n",
            " |-- text: string (nullable = true)\n",
            " |-- category: string (nullable = true)\n",
            " |-- sentence_embeddings: array (nullable = true)\n",
            " |    |-- element: struct (containsNull = true)\n",
            " |    |    |-- annotatorType: string (nullable = true)\n",
            " |    |    |-- begin: integer (nullable = false)\n",
            " |    |    |-- end: integer (nullable = false)\n",
            " |    |    |-- result: string (nullable = true)\n",
            " |    |    |-- metadata: map (nullable = true)\n",
            " |    |    |    |-- key: string\n",
            " |    |    |    |-- value: string (valueContainsNull = true)\n",
            " |    |    |-- embeddings: array (nullable = true)\n",
            " |    |    |    |-- element: float (containsNull = false)\n",
            " |-- category_array: array (nullable = false)\n",
            " |    |-- element: string (containsNull = true)\n",
            " |-- prediction: array (nullable = true)\n",
            " |    |-- element: struct (containsNull = true)\n",
            " |    |    |-- annotatorType: string (nullable = true)\n",
            " |    |    |-- begin: integer (nullable = false)\n",
            " |    |    |-- end: integer (nullable = false)\n",
            " |    |    |-- result: string (nullable = true)\n",
            " |    |    |-- metadata: map (nullable = true)\n",
            " |    |    |    |-- key: string\n",
            " |    |    |    |-- value: string (valueContainsNull = true)\n",
            " |    |    |-- embeddings: array (nullable = true)\n",
            " |    |    |    |-- element: float (containsNull = false)\n",
            "\n",
            "+-------------------------------------------------------------------------------------+\n",
            "|prediction                                                                           |\n",
            "+-------------------------------------------------------------------------------------+\n",
            "|[{category, 0, 166, neg, {sentence -> 0, pos -> 0.020086566, neg -> 0.97943234}, []}]|\n",
            "|[{category, 0, 262, neg, {sentence -> 0, pos -> 2.0814769E-6, neg -> 0.999998}, []}] |\n",
            "|[{category, 0, 172, pos, {sentence -> 0, pos -> 0.54828835, neg -> 0.4517691}, []}]  |\n",
            "|[{category, 0, 93, neg, {sentence -> 0, pos -> 0.06704558, neg -> 0.9331865}, []}]   |\n",
            "|[{category, 0, 136, neg, {sentence -> 0, pos -> 0.17461559, neg -> 0.82565016}, []}] |\n",
            "+-------------------------------------------------------------------------------------+\n",
            "only showing top 5 rows\n",
            "\n",
            "+--------+-----------------+\n",
            "|category|prediction.result|\n",
            "+--------+-----------------+\n",
            "|neg     |[neg]            |\n",
            "|neg     |[neg]            |\n",
            "|neg     |[pos]            |\n",
            "|neg     |[neg]            |\n",
            "|neg     |[neg]            |\n",
            "+--------+-----------------+\n",
            "only showing top 5 rows\n",
            "\n"
          ]
        }
      ],
      "source": [
        "preds.printSchema()\n",
        "preds.select(preds.prediction).show(5, truncate=False)\n",
        "preds.select(preds.category, preds.prediction.result).show(5, truncate=False)"
      ]
    },
    {
      "cell_type": "code",
      "execution_count": null,
      "metadata": {
        "colab": {
          "base_uri": "https://localhost:8080/"
        },
        "id": "NHCBTwrmQB3I",
        "outputId": "089cbe4a-c62a-4aa7-8c9d-efc17d66e02b"
      },
      "outputs": [
        {
          "name": "stdout",
          "output_type": "stream",
          "text": [
            "              precision    recall  f1-score   support\n",
            "\n",
            "         neg       0.92      0.71      0.81       982\n",
            "         pos       0.58      0.87      0.70       445\n",
            "\n",
            "    accuracy                           0.76      1427\n",
            "   macro avg       0.75      0.79      0.75      1427\n",
            "weighted avg       0.82      0.76      0.77      1427\n",
            "\n"
          ]
        }
      ],
      "source": [
        "preds_df = pred_df.select('category','prediction.result').toPandas()\n",
        "preds_df['result'] = preds_df.result.apply(lambda x : x[0])\n",
        "\n",
        "print (classification_report(preds_df['category'], preds_df['result']))"
      ]
    },
    {
      "cell_type": "markdown",
      "metadata": {
        "id": "moyOD1bWPnBR"
      },
      "source": [
        "### GenericLogRegClassifier"
      ]
    },
    {
      "cell_type": "code",
      "execution_count": null,
      "metadata": {
        "id": "DfbdLp5ZPnBR"
      },
      "outputs": [],
      "source": [
        "graph_folder = \"gc_graph\"\n",
        "\n",
        "gc_logreg_graph_builder = medical.TFGraphBuilder()\\\n",
        "    .setModelName(\"logreg_classifier\")\\\n",
        "    .setInputCols([\"feature_vector\"]) \\\n",
        "    .setLabelColumn(\"category\")\\\n",
        "    .setGraphFolder(graph_folder)\\\n",
        "    .setGraphFile(\"log_reg_graph.pb\")"
      ]
    },
    {
      "cell_type": "markdown",
      "metadata": {
        "id": "nF-VGSTbPnBS"
      },
      "source": [
        "GenericLogRegClassifier needs outputs from FeaturesAssembler. The FeaturesAssembler is used to collect features from different columns or an embeddings column.\n",
        "\n",
        "The GenericLogRegClassifier takes FEATURE_VECTOR annotations as input, classifies them and outputs CATEGORY annotations."
      ]
    },
    {
      "cell_type": "code",
      "execution_count": null,
      "metadata": {
        "id": "RrPR_-6kPnBS"
      },
      "outputs": [],
      "source": [
        "features_asm = medical.FeaturesAssembler()\\\n",
        "    .setInputCols([\"sentence_embeddings\"])\\\n",
        "    .setOutputCol(\"feature_vector\")\n",
        "      \n",
        "gen_clf = medical.GenericLogRegClassifierApproach()\\\n",
        "    .setLabelColumn(\"category\")\\\n",
        "    .setInputCols(\"feature_vector\")\\\n",
        "    .setOutputCol(\"prediction\")\\\n",
        "    .setModelFile(f\"{graph_folder}/log_reg_graph.pb\")\\\n",
        "    .setEpochsNumber(25)\\\n",
        "    .setBatchSize(128)\\\n",
        "    .setLearningRate(0.004)\\\n",
        "    .setOutputLogsPath(log_folder)\\\n",
        "    .setDropout(0.2)\\\n",
        "    .setFixImbalance(True)\\\n",
        "    # .setValidationSplit(0.1)\n",
        "\n",
        "clf_Pipeline = nlp.Pipeline(stages=[\n",
        "    features_asm,\n",
        "    gc_logreg_graph_builder,\n",
        "    gen_clf])\n"
      ]
    },
    {
      "cell_type": "code",
      "execution_count": null,
      "metadata": {
        "colab": {
          "base_uri": "https://localhost:8080/"
        },
        "id": "JvS4gi_sPnBS",
        "outputId": "02a88055-7b4c-4108-9af5-a230c919e217"
      },
      "outputs": [
        {
          "name": "stdout",
          "output_type": "stream",
          "text": [
            "TF Graph Builder configuration:\n",
            "Model name: logreg_classifier\n",
            "Graph folder: gc_graph\n",
            "Graph file name: log_reg_graph.pb\n",
            "Build params: {'input_dim': 100, 'output_dim': 2, 'hidden_layers': [], 'output_act': 'sigmoid'}\n",
            "logreg_classifier graph exported to gc_graph/log_reg_graph.pb\n"
          ]
        }
      ],
      "source": [
        "generic_model_hc100 = clf_Pipeline.fit(trainingData_with_embeddings)"
      ]
    },
    {
      "cell_type": "code",
      "execution_count": null,
      "metadata": {
        "colab": {
          "base_uri": "https://localhost:8080/"
        },
        "id": "Kj-r_R-_PnBT",
        "outputId": "b5158b67-b14e-4663-8085-4b3705d45345"
      },
      "outputs": [
        {
          "name": "stdout",
          "output_type": "stream",
          "text": [
            "Training 25 epochs\n",
            "Epoch 1/25\t0.19s\tLoss: 27.725254\tACC: 0.6654961\n",
            "Epoch 2/25\t0.08s\tLoss: 25.898941\tACC: 0.7126407\n",
            "Epoch 3/25\t0.08s\tLoss: 25.168678\tACC: 0.7158302\n",
            "Epoch 4/25\t0.12s\tLoss: 24.557821\tACC: 0.71773726\n",
            "Epoch 5/25\t0.09s\tLoss: 24.27574\tACC: 0.7159288\n",
            "Epoch 6/25\t0.11s\tLoss: 23.950256\tACC: 0.7230245\n",
            "Epoch 7/25\t0.11s\tLoss: 23.838213\tACC: 0.7277331\n",
            "Epoch 8/25\t0.08s\tLoss: 23.467005\tACC: 0.73039645\n",
            "Epoch 9/25\t0.08s\tLoss: 23.194754\tACC: 0.7294166\n",
            "Epoch 10/25\t0.08s\tLoss: 23.094522\tACC: 0.7323496\n",
            "Epoch 11/25\t0.10s\tLoss: 22.869274\tACC: 0.7431279\n",
            "Epoch 12/25\t0.10s\tLoss: 22.844965\tACC: 0.73886657\n",
            "Epoch 13/25\t0.08s\tLoss: 22.73261\tACC: 0.7425558\n",
            "Epoch 14/25\t0.09s\tLoss: 22.71855\tACC: 0.7421086\n",
            "Epoch 15/25\t0.08s\tLoss: 22.551315\tACC: 0.7441538\n",
            "Epoch 16/25\t0.10s\tLoss: 22.563852\tACC: 0.7396294\n",
            "Epoch 17/25\t0.08s\tLoss: 22.706177\tACC: 0.74300295\n",
            "Epoch 18/25\t0.09s\tLoss: 22.292599\tACC: 0.7445023\n",
            "Epoch 19/25\t0.11s\tLoss: 22.476967\tACC: 0.744818\n",
            "Epoch 20/25\t0.09s\tLoss: 22.186666\tACC: 0.7483231\n",
            "Epoch 21/25\t0.08s\tLoss: 22.459446\tACC: 0.7424703\n",
            "Epoch 22/25\t0.11s\tLoss: 22.14539\tACC: 0.7441998\n",
            "Epoch 23/25\t0.12s\tLoss: 22.308365\tACC: 0.7488623\n",
            "Epoch 24/25\t0.09s\tLoss: 22.234835\tACC: 0.74761945\n",
            "Epoch 25/25\t0.10s\tLoss: 22.113522\tACC: 0.7471262\n",
            "Training completed.\n"
          ]
        }
      ],
      "source": [
        "!cat $log_folder/GenericLogRegClassifierApproach*"
      ]
    },
    {
      "cell_type": "code",
      "execution_count": null,
      "metadata": {
        "id": "9acpNGeCPnBT"
      },
      "outputs": [],
      "source": [
        "pred_df = generic_model_hc100.transform(testData_with_embeddings)"
      ]
    },
    {
      "cell_type": "code",
      "execution_count": null,
      "metadata": {
        "colab": {
          "base_uri": "https://localhost:8080/"
        },
        "id": "jxk_78fcPnBT",
        "outputId": "c90fddf5-fd10-480e-e18c-7194502327da"
      },
      "outputs": [
        {
          "name": "stdout",
          "output_type": "stream",
          "text": [
            "root\n",
            " |-- text: string (nullable = true)\n",
            " |-- category: string (nullable = true)\n",
            " |-- sentence_embeddings: array (nullable = true)\n",
            " |    |-- element: struct (containsNull = true)\n",
            " |    |    |-- annotatorType: string (nullable = true)\n",
            " |    |    |-- begin: integer (nullable = false)\n",
            " |    |    |-- end: integer (nullable = false)\n",
            " |    |    |-- result: string (nullable = true)\n",
            " |    |    |-- metadata: map (nullable = true)\n",
            " |    |    |    |-- key: string\n",
            " |    |    |    |-- value: string (valueContainsNull = true)\n",
            " |    |    |-- embeddings: array (nullable = true)\n",
            " |    |    |    |-- element: float (containsNull = false)\n",
            " |-- category_array: array (nullable = false)\n",
            " |    |-- element: string (containsNull = true)\n",
            " |-- prediction: array (nullable = true)\n",
            " |    |-- element: struct (containsNull = true)\n",
            " |    |    |-- annotatorType: string (nullable = true)\n",
            " |    |    |-- begin: integer (nullable = false)\n",
            " |    |    |-- end: integer (nullable = false)\n",
            " |    |    |-- result: string (nullable = true)\n",
            " |    |    |-- metadata: map (nullable = true)\n",
            " |    |    |    |-- key: string\n",
            " |    |    |    |-- value: string (valueContainsNull = true)\n",
            " |    |    |-- embeddings: array (nullable = true)\n",
            " |    |    |    |-- element: float (containsNull = false)\n",
            "\n",
            "+-------------------------------------------------------------------------------------+\n",
            "|prediction                                                                           |\n",
            "+-------------------------------------------------------------------------------------+\n",
            "|[{category, 0, 166, neg, {sentence -> 0, pos -> 0.020086566, neg -> 0.97943234}, []}]|\n",
            "|[{category, 0, 262, neg, {sentence -> 0, pos -> 2.0814769E-6, neg -> 0.999998}, []}] |\n",
            "|[{category, 0, 172, pos, {sentence -> 0, pos -> 0.54828835, neg -> 0.4517691}, []}]  |\n",
            "|[{category, 0, 93, neg, {sentence -> 0, pos -> 0.06704558, neg -> 0.9331865}, []}]   |\n",
            "|[{category, 0, 136, neg, {sentence -> 0, pos -> 0.17461559, neg -> 0.82565016}, []}] |\n",
            "+-------------------------------------------------------------------------------------+\n",
            "only showing top 5 rows\n",
            "\n",
            "+--------+-----------------+\n",
            "|category|prediction.result|\n",
            "+--------+-----------------+\n",
            "|neg     |[neg]            |\n",
            "|neg     |[neg]            |\n",
            "|neg     |[pos]            |\n",
            "|neg     |[neg]            |\n",
            "|neg     |[neg]            |\n",
            "+--------+-----------------+\n",
            "only showing top 5 rows\n",
            "\n"
          ]
        }
      ],
      "source": [
        "preds.printSchema()\n",
        "preds.select(preds.prediction).show(5, truncate=False)\n",
        "preds.select(preds.category, preds.prediction.result).show(5, truncate=False)"
      ]
    },
    {
      "cell_type": "code",
      "execution_count": null,
      "metadata": {
        "colab": {
          "base_uri": "https://localhost:8080/"
        },
        "id": "iF3ut5msPnBT",
        "outputId": "89043a93-1fdf-405f-9d8a-8e43789c9f7f"
      },
      "outputs": [
        {
          "name": "stdout",
          "output_type": "stream",
          "text": [
            "              precision    recall  f1-score   support\n",
            "\n",
            "         neg       0.74      0.95      0.83       982\n",
            "         pos       0.72      0.27      0.39       445\n",
            "\n",
            "    accuracy                           0.74      1427\n",
            "   macro avg       0.73      0.61      0.61      1427\n",
            "weighted avg       0.74      0.74      0.70      1427\n",
            "\n"
          ]
        }
      ],
      "source": [
        "preds_df = pred_df.select('category','prediction.result').toPandas()\n",
        "preds_df['result'] = preds_df.result.apply(lambda x : x[0])\n",
        "\n",
        "print (classification_report(preds_df['category'], preds_df['result']))"
      ]
    },
    {
      "cell_type": "markdown",
      "metadata": {
        "id": "kGx7LiTFUytq"
      },
      "source": [
        "### GenericSVMClassifier"
      ]
    },
    {
      "cell_type": "code",
      "execution_count": null,
      "metadata": {
        "id": "QQxZi5VjUytq"
      },
      "outputs": [],
      "source": [
        "graph_folder = \"gc_graph\"\n",
        "\n",
        "gc_svm_graph_builder = medical.TFGraphBuilder()\\\n",
        "    .setModelName(\"svm_classifier\")\\\n",
        "    .setInputCols([\"feature_vector\"]) \\\n",
        "    .setLabelColumn(\"category\")\\\n",
        "    .setGraphFolder(graph_folder)\\\n",
        "    .setGraphFile(\"svm_graph.pb\")"
      ]
    },
    {
      "cell_type": "markdown",
      "metadata": {
        "id": "HCczHJ9EUytq"
      },
      "source": [
        "GenericSVMClassifier needs outputs from FeaturesAssembler. The FeaturesAssembler is used to collect features from different columns or an embeddings column.\n",
        "\n",
        "The GenericSVMClassifier takes FEATURE_VECTOR annotations as input, classifies them and outputs CATEGORY annotations."
      ]
    },
    {
      "cell_type": "code",
      "execution_count": null,
      "metadata": {
        "id": "iLlsBDJjUytq"
      },
      "outputs": [],
      "source": [
        "features_asm = medical.FeaturesAssembler()\\\n",
        "    .setInputCols([\"sentence_embeddings\"])\\\n",
        "    .setOutputCol(\"feature_vector\")\n",
        "      \n",
        "gen_clf = medical.GenericSVMClassifierApproach()\\\n",
        "    .setLabelColumn(\"category\")\\\n",
        "    .setInputCols(\"feature_vector\")\\\n",
        "    .setOutputCol(\"prediction\")\\\n",
        "    .setModelFile(f\"{graph_folder}/svm_graph.pb\")\\\n",
        "    .setEpochsNumber(25)\\\n",
        "    .setBatchSize(128)\\\n",
        "    .setLearningRate(0.004)\\\n",
        "    .setOutputLogsPath(log_folder)\\\n",
        "    .setDropout(0.2)\\\n",
        "    .setFixImbalance(True)\\\n",
        "    # .setValidationSplit(0.1)\n",
        "\n",
        "clf_Pipeline = nlp.Pipeline(stages=[\n",
        "    features_asm,\n",
        "    gc_svm_graph_builder,\n",
        "    gen_clf])\n"
      ]
    },
    {
      "cell_type": "code",
      "execution_count": null,
      "metadata": {
        "colab": {
          "base_uri": "https://localhost:8080/"
        },
        "id": "K8KAXYtkUytq",
        "outputId": "26b57999-98b6-4869-83d1-aea1f2f47227"
      },
      "outputs": [
        {
          "name": "stdout",
          "output_type": "stream",
          "text": [
            "TF Graph Builder configuration:\n",
            "Model name: svm_classifier\n",
            "Graph folder: gc_graph\n",
            "Graph file name: svm_graph.pb\n",
            "Build params: {'input_dim': 100, 'output_dim': 2, 'hidden_layers': [], 'output_act': 'sigmoid', 'loss_func': 'hinge'}\n",
            "svm_classifier graph exported to gc_graph/svm_graph.pb\n"
          ]
        }
      ],
      "source": [
        "generic_model_hc100 = clf_Pipeline.fit(trainingData_with_embeddings)"
      ]
    },
    {
      "cell_type": "code",
      "execution_count": null,
      "metadata": {
        "colab": {
          "base_uri": "https://localhost:8080/"
        },
        "id": "laXPq5hLUytq",
        "outputId": "aa312ab4-a217-41fe-b5fc-2022cd07e658"
      },
      "outputs": [
        {
          "name": "stdout",
          "output_type": "stream",
          "text": [
            "Training 25 epochs\n",
            "Epoch 1/25\t0.19s\tLoss: 33.426285\tACC: 0.710464\n",
            "Epoch 2/25\t0.08s\tLoss: 26.525383\tACC: 0.7141467\n",
            "Epoch 3/25\t0.08s\tLoss: 25.768673\tACC: 0.71485686\n",
            "Epoch 4/25\t0.08s\tLoss: 25.402172\tACC: 0.7149884\n",
            "Epoch 5/25\t0.08s\tLoss: 25.261005\tACC: 0.71813846\n",
            "Epoch 6/25\t0.07s\tLoss: 25.00893\tACC: 0.71938133\n",
            "Epoch 7/25\t0.08s\tLoss: 25.07841\tACC: 0.7188552\n",
            "Epoch 8/25\t0.07s\tLoss: 25.027952\tACC: 0.7224918\n",
            "Epoch 9/25\t0.08s\tLoss: 24.82555\tACC: 0.72173554\n",
            "Epoch 10/25\t0.08s\tLoss: 24.668526\tACC: 0.726043\n",
            "Epoch 11/25\t0.08s\tLoss: 24.557262\tACC: 0.7281671\n",
            "Epoch 12/25\t0.08s\tLoss: 24.936146\tACC: 0.72236687\n",
            "Epoch 13/25\t0.08s\tLoss: 24.679155\tACC: 0.72639155\n",
            "Epoch 14/25\t0.08s\tLoss: 24.659782\tACC: 0.73065287\n",
            "Epoch 15/25\t0.07s\tLoss: 24.36838\tACC: 0.7366504\n",
            "Epoch 16/25\t0.08s\tLoss: 24.272463\tACC: 0.73647285\n",
            "Epoch 17/25\t0.10s\tLoss: 24.354816\tACC: 0.73545355\n",
            "Epoch 18/25\t0.07s\tLoss: 24.404793\tACC: 0.73899806\n",
            "Epoch 19/25\t0.08s\tLoss: 24.588554\tACC: 0.73354644\n",
            "Epoch 20/25\t0.08s\tLoss: 24.478838\tACC: 0.73482877\n",
            "Epoch 21/25\t0.08s\tLoss: 24.563555\tACC: 0.7388271\n",
            "Epoch 22/25\t0.08s\tLoss: 24.560863\tACC: 0.73842597\n",
            "Epoch 23/25\t0.08s\tLoss: 24.674122\tACC: 0.73519045\n",
            "Epoch 24/25\t0.07s\tLoss: 24.29034\tACC: 0.7451271\n",
            "Epoch 25/25\t0.08s\tLoss: 24.273558\tACC: 0.741885\n",
            "Training completed.\n"
          ]
        }
      ],
      "source": [
        "!cat $log_folder/GenericSVMClassifierApproach*"
      ]
    },
    {
      "cell_type": "code",
      "execution_count": null,
      "metadata": {
        "id": "F0t-aE9hUytq"
      },
      "outputs": [],
      "source": [
        "pred_df = generic_model_hc100.transform(testData_with_embeddings)"
      ]
    },
    {
      "cell_type": "code",
      "execution_count": null,
      "metadata": {
        "colab": {
          "base_uri": "https://localhost:8080/"
        },
        "id": "4HmAqC2fUytq",
        "outputId": "14556e15-70bc-43bc-da24-aad5ebf0e513"
      },
      "outputs": [
        {
          "name": "stdout",
          "output_type": "stream",
          "text": [
            "root\n",
            " |-- text: string (nullable = true)\n",
            " |-- category: string (nullable = true)\n",
            " |-- sentence_embeddings: array (nullable = true)\n",
            " |    |-- element: struct (containsNull = true)\n",
            " |    |    |-- annotatorType: string (nullable = true)\n",
            " |    |    |-- begin: integer (nullable = false)\n",
            " |    |    |-- end: integer (nullable = false)\n",
            " |    |    |-- result: string (nullable = true)\n",
            " |    |    |-- metadata: map (nullable = true)\n",
            " |    |    |    |-- key: string\n",
            " |    |    |    |-- value: string (valueContainsNull = true)\n",
            " |    |    |-- embeddings: array (nullable = true)\n",
            " |    |    |    |-- element: float (containsNull = false)\n",
            " |-- category_array: array (nullable = false)\n",
            " |    |-- element: string (containsNull = true)\n",
            " |-- prediction: array (nullable = true)\n",
            " |    |-- element: struct (containsNull = true)\n",
            " |    |    |-- annotatorType: string (nullable = true)\n",
            " |    |    |-- begin: integer (nullable = false)\n",
            " |    |    |-- end: integer (nullable = false)\n",
            " |    |    |-- result: string (nullable = true)\n",
            " |    |    |-- metadata: map (nullable = true)\n",
            " |    |    |    |-- key: string\n",
            " |    |    |    |-- value: string (valueContainsNull = true)\n",
            " |    |    |-- embeddings: array (nullable = true)\n",
            " |    |    |    |-- element: float (containsNull = false)\n",
            "\n",
            "+-------------------------------------------------------------------------------------+\n",
            "|prediction                                                                           |\n",
            "+-------------------------------------------------------------------------------------+\n",
            "|[{category, 0, 166, neg, {sentence -> 0, pos -> 0.020086566, neg -> 0.97943234}, []}]|\n",
            "|[{category, 0, 262, neg, {sentence -> 0, pos -> 2.0814769E-6, neg -> 0.999998}, []}] |\n",
            "|[{category, 0, 172, pos, {sentence -> 0, pos -> 0.54828835, neg -> 0.4517691}, []}]  |\n",
            "|[{category, 0, 93, neg, {sentence -> 0, pos -> 0.06704558, neg -> 0.9331865}, []}]   |\n",
            "|[{category, 0, 136, neg, {sentence -> 0, pos -> 0.17461559, neg -> 0.82565016}, []}] |\n",
            "+-------------------------------------------------------------------------------------+\n",
            "only showing top 5 rows\n",
            "\n",
            "+--------+-----------------+\n",
            "|category|prediction.result|\n",
            "+--------+-----------------+\n",
            "|neg     |[neg]            |\n",
            "|neg     |[neg]            |\n",
            "|neg     |[pos]            |\n",
            "|neg     |[neg]            |\n",
            "|neg     |[neg]            |\n",
            "+--------+-----------------+\n",
            "only showing top 5 rows\n",
            "\n"
          ]
        }
      ],
      "source": [
        "preds.printSchema()\n",
        "preds.select(preds.prediction).show(5, truncate=False)\n",
        "preds.select(preds.category, preds.prediction.result).show(5, truncate=False)"
      ]
    },
    {
      "cell_type": "code",
      "execution_count": null,
      "metadata": {
        "colab": {
          "base_uri": "https://localhost:8080/"
        },
        "id": "OmNN-FEuUytr",
        "outputId": "960a32d5-49ec-44e5-93f7-d9a7a4558626"
      },
      "outputs": [
        {
          "name": "stdout",
          "output_type": "stream",
          "text": [
            "              precision    recall  f1-score   support\n",
            "\n",
            "         neg       0.72      0.97      0.83       982\n",
            "         pos       0.75      0.18      0.29       445\n",
            "\n",
            "    accuracy                           0.73      1427\n",
            "   macro avg       0.74      0.58      0.56      1427\n",
            "weighted avg       0.73      0.73      0.66      1427\n",
            "\n"
          ]
        }
      ],
      "source": [
        "preds_df = pred_df.select('category','prediction.result').toPandas()\n",
        "preds_df['result'] = preds_df.result.apply(lambda x : x[0])\n",
        "\n",
        "print (classification_report(preds_df['category'], preds_df['result']))"
      ]
    },
    {
      "cell_type": "markdown",
      "metadata": {
        "id": "hF378LqHvDRK"
      },
      "source": [
        "## 200 Dimension Healthcare Embeddings (embeddings_clinical)\n",
        "\n"
      ]
    },
    {
      "cell_type": "markdown",
      "metadata": {
        "id": "hEppd4Q3vDRK"
      },
      "source": [
        "Now we will extract [embeddings_clinical](https://nlp.johnsnowlabs.com/2020/01/28/embeddings_clinical_en.html) embeddings which has 200 dimension output and use this embeddings in the model training."
      ]
    },
    {
      "cell_type": "code",
      "execution_count": null,
      "metadata": {
        "colab": {
          "base_uri": "https://localhost:8080/"
        },
        "id": "Dv95E2vNvDRK",
        "outputId": "8dcc4da5-bde7-4f01-cb8a-b65284e540c5"
      },
      "outputs": [
        {
          "name": "stdout",
          "output_type": "stream",
          "text": [
            "embeddings_clinical download started this may take some time.\n",
            "Approximate size to download 1.6 GB\n",
            "[OK!]\n"
          ]
        }
      ],
      "source": [
        "document_assembler = nlp.DocumentAssembler()\\\n",
        "        .setInputCol(\"text\")\\\n",
        "        .setOutputCol(\"document\")\n",
        "\n",
        "tokenizer = nlp.Tokenizer() \\\n",
        "            .setInputCols([\"document\"]) \\\n",
        "            .setOutputCol(\"token\")\n",
        "\n",
        "word_embeddings = nlp.WordEmbeddingsModel.pretrained(\"embeddings_clinical\",\"en\",\"clinical/models\")\\\n",
        "        .setInputCols([\"document\",\"token\"])\\\n",
        "        .setOutputCol(\"word_embeddings\")\n",
        "\n",
        "sentence_embeddings = nlp.SentenceEmbeddings() \\\n",
        "        .setInputCols([\"document\", \"word_embeddings\"]) \\\n",
        "        .setOutputCol(\"sentence_embeddings\") \\\n",
        "        .setPoolingStrategy(\"AVERAGE\")\n",
        "\n",
        "embeddings_pipeline = nlp.Pipeline(\n",
        "    stages = [\n",
        "        document_assembler,\n",
        "        tokenizer,\n",
        "        word_embeddings,\n",
        "        sentence_embeddings,\n",
        "    ])"
      ]
    },
    {
      "cell_type": "code",
      "execution_count": null,
      "metadata": {
        "colab": {
          "base_uri": "https://localhost:8080/"
        },
        "id": "uj2dbrthvDRK",
        "outputId": "14b9c8ad-22e7-49ce-9926-a691970b55a2"
      },
      "outputs": [
        {
          "name": "stdout",
          "output_type": "stream",
          "text": [
            "+--------------------------------------------------------------------------------+--------+--------------------------------------------------------------------------------+\n",
            "|                                                                            text|category|                                                             sentence_embeddings|\n",
            "+--------------------------------------------------------------------------------+--------+--------------------------------------------------------------------------------+\n",
            "| \"Syndrome malin\"-like symptoms probably due to interaction between neurolept...|     neg|[{sentence_embeddings, 0, 109,  \"Syndrome malin\"-like symptoms probably due t...|\n",
            "| 'Bail-out' bivalirudin use in patients with thrombotic complications unrespo...|     neg|[{sentence_embeddings, 0, 150,  'Bail-out' bivalirudin use in patients with t...|\n",
            "+--------------------------------------------------------------------------------+--------+--------------------------------------------------------------------------------+\n",
            "only showing top 2 rows\n",
            "\n"
          ]
        }
      ],
      "source": [
        "trainingData_with_embeddings = embeddings_pipeline.fit(trainingData).transform(trainingData)\\\n",
        "                                                  .select(\"text\",\"category\",\"sentence_embeddings\")\n",
        "trainingData_with_embeddings.show(2,truncate=80)"
      ]
    },
    {
      "cell_type": "code",
      "execution_count": null,
      "metadata": {
        "colab": {
          "base_uri": "https://localhost:8080/"
        },
        "id": "jPZSMm5pvDRK",
        "outputId": "d5f3659d-25f1-4d48-cd1f-e66edfba74b1"
      },
      "outputs": [
        {
          "name": "stdout",
          "output_type": "stream",
          "text": [
            "+--------------------------------------------------------------------------------+--------+--------------------------------------------------------------------------------+\n",
            "|                                                                            text|category|                                                             sentence_embeddings|\n",
            "+--------------------------------------------------------------------------------+--------+--------------------------------------------------------------------------------+\n",
            "| 1 previously untreated patient with plasma-cell leukaemia and 8 patients wit...|     neg|[{sentence_embeddings, 0, 166,  1 previously untreated patient with plasma-ce...|\n",
            "| A 15-year-old boy had temporary hypertropia, supraduction deficit, ipsilater...|     neg|[{sentence_embeddings, 0, 262,  A 15-year-old boy had temporary hypertropia, ...|\n",
            "+--------------------------------------------------------------------------------+--------+--------------------------------------------------------------------------------+\n",
            "only showing top 2 rows\n",
            "\n"
          ]
        }
      ],
      "source": [
        "testData_with_embeddings = embeddings_pipeline.fit(testData).transform(testData)\\\n",
        "                                                  .select(\"text\",\"category\",\"sentence_embeddings\")\n",
        "testData_with_embeddings.show(2,truncate=80)"
      ]
    },
    {
      "cell_type": "code",
      "execution_count": null,
      "metadata": {
        "id": "qrF7eDHBdmBp"
      },
      "outputs": [],
      "source": [
        "log_folder=\"ADE_logs_healthcare_200d\""
      ]
    },
    {
      "cell_type": "markdown",
      "metadata": {
        "id": "coHHa_CRvDRL"
      },
      "source": [
        "### ClassifierDLApproach"
      ]
    },
    {
      "cell_type": "code",
      "execution_count": null,
      "metadata": {
        "id": "thQ0sg91vDRL"
      },
      "outputs": [],
      "source": [
        "classifier_dl = nlp.ClassifierDLApproach()\\\n",
        "        .setInputCols([\"sentence_embeddings\"])\\\n",
        "        .setOutputCol(\"class\")\\\n",
        "        .setLabelColumn(\"category\")\\\n",
        "        .setBatchSize(16)\\\n",
        "        .setMaxEpochs(30)\\\n",
        "        .setLr(0.001)\\\n",
        "        .setDropout(0.3)\\\n",
        "        .setEnableOutputLogs(True)\\\n",
        "        .setOutputLogsPath(log_folder)\n",
        "\n",
        "classifier_dl_pipeline = nlp.Pipeline(\n",
        "    stages = [\n",
        "        classifier_dl\n",
        "    ])"
      ]
    },
    {
      "cell_type": "code",
      "execution_count": null,
      "metadata": {
        "id": "VdWaWXcbvDRL"
      },
      "outputs": [],
      "source": [
        "clfDL_model_hc200 = classifier_dl_pipeline.fit(trainingData_with_embeddings)"
      ]
    },
    {
      "cell_type": "code",
      "execution_count": null,
      "metadata": {
        "colab": {
          "base_uri": "https://localhost:8080/"
        },
        "id": "1W67GqjCvDRL",
        "outputId": "8451f00c-c973-4b2f-a369-2cde76b3ebf7"
      },
      "outputs": [
        {
          "name": "stdout",
          "output_type": "stream",
          "text": [
            "              precision    recall  f1-score   support\n",
            "\n",
            "         neg       0.89      0.91      0.90       982\n",
            "         pos       0.79      0.74      0.76       445\n",
            "\n",
            "    accuracy                           0.86      1427\n",
            "   macro avg       0.84      0.83      0.83      1427\n",
            "weighted avg       0.86      0.86      0.86      1427\n",
            "\n"
          ]
        }
      ],
      "source": [
        "preds = clfDL_model_hc200.transform(testData_with_embeddings)\n",
        "\n",
        "preds_df = preds.select(\"category\",\"text\",\"class.result\").toPandas()\n",
        "preds_df[\"result\"] = preds_df[\"result\"].apply(lambda x : x[0])\n",
        "\n",
        "print (classification_report(preds_df[\"category\"], preds_df[\"result\"]))"
      ]
    },
    {
      "cell_type": "markdown",
      "metadata": {
        "id": "Vz6ja6oP90It"
      },
      "source": [
        "### MultiClassifierDL"
      ]
    },
    {
      "cell_type": "code",
      "execution_count": null,
      "metadata": {
        "id": "u7AzomVo90Iu"
      },
      "outputs": [],
      "source": [
        "# MultiClassifierDL accepts list of strings as input label. So we convert label column to array type.\n",
        "trainingData_with_embeddings = trainingData_with_embeddings.withColumn(\"category_array\", F.array(F.col(\"category\")))\n",
        "testData_with_embeddings = testData_with_embeddings.withColumn(\"category_array\", F.array(F.col(\"category\")))"
      ]
    },
    {
      "cell_type": "code",
      "execution_count": null,
      "metadata": {
        "id": "O25HWJXx90Iu"
      },
      "outputs": [],
      "source": [
        "multiClassifier =nlp.MultiClassifierDLApproach()\\\n",
        "  .setInputCols(\"sentence_embeddings\")\\\n",
        "  .setOutputCol(\"prediction\")\\\n",
        "  .setLabelColumn(\"category_array\")\\\n",
        "  .setBatchSize(32)\\\n",
        "  .setMaxEpochs(20)\\\n",
        "  .setLr(9e-3)\\\n",
        "  .setThreshold(0.5)\\\n",
        "  .setShufflePerEpoch(False)\\\n",
        "  .setEnableOutputLogs(True)\\\n",
        "  .setOutputLogsPath(log_folder)\\\n",
        "#   .setValidationSplit(0.1)\n",
        "\n",
        "multiClassifier_pipeline = nlp.Pipeline(\n",
        "    stages = [\n",
        "        multiClassifier\n",
        "    ])"
      ]
    },
    {
      "cell_type": "code",
      "execution_count": null,
      "metadata": {
        "id": "AfwUG4E890Iu"
      },
      "outputs": [],
      "source": [
        "multiClassifier_model_hc200 = multiClassifier_pipeline.fit(trainingData_with_embeddings)"
      ]
    },
    {
      "cell_type": "code",
      "execution_count": null,
      "metadata": {
        "id": "dqWL8GcD90Iu"
      },
      "outputs": [],
      "source": [
        "preds = multiClassifier_model_hc200.transform(testData_with_embeddings)"
      ]
    },
    {
      "cell_type": "code",
      "execution_count": null,
      "metadata": {
        "colab": {
          "base_uri": "https://localhost:8080/"
        },
        "id": "leP1l4bN90Iu",
        "outputId": "7d708b6c-d6ff-4f65-9ab8-44ceaadbfc6b"
      },
      "outputs": [
        {
          "data": {
            "text/plain": [
              "['neg']    938\n",
              "['pos']    488\n",
              "[]           1\n",
              "Name: result, dtype: int64"
            ]
          },
          "execution_count": 73,
          "metadata": {},
          "output_type": "execute_result"
        }
      ],
      "source": [
        "preds_df = preds.select(\"category\",\"text\",\"prediction.result\",\"prediction.metadata\").toPandas()\n",
        "preds_df.result.apply(lambda x: str(x) ).value_counts()"
      ]
    },
    {
      "cell_type": "code",
      "execution_count": null,
      "metadata": {
        "colab": {
          "base_uri": "https://localhost:8080/"
        },
        "id": "puS1FgQ-90Iv",
        "outputId": "46af1741-25fe-4b06-b52a-760bfd51a9d7"
      },
      "outputs": [
        {
          "data": {
            "text/plain": [
              "neg    938\n",
              "pos    488\n",
              "         1\n",
              "Name: result, dtype: int64"
            ]
          },
          "execution_count": 74,
          "metadata": {},
          "output_type": "execute_result"
        }
      ],
      "source": [
        "# We will get the highest score label as result. You can control the number of zero label results with setThreshold() in the training.\n",
        "preds_df[\"scores\"] = preds_df.metadata.apply(lambda x: {k:float(v) for k,v in x[0].items()} if len(x)>=1 else \"\")\n",
        "preds_df[\"result\"] = preds_df.scores.apply(lambda x: max(x, key=x.get) if len(x)>=1 else \"\")\n",
        "preds_df[\"result\"].value_counts()"
      ]
    },
    {
      "cell_type": "code",
      "execution_count": null,
      "metadata": {
        "colab": {
          "base_uri": "https://localhost:8080/"
        },
        "id": "8F9FcFBN90Iv",
        "outputId": "cf18599d-131b-4ffb-f521-8139a0b0bebe"
      },
      "outputs": [
        {
          "name": "stdout",
          "output_type": "stream",
          "text": [
            "              precision    recall  f1-score   support\n",
            "\n",
            "                   0.00      0.00      0.00         0\n",
            "         neg       0.92      0.87      0.89       982\n",
            "         pos       0.75      0.82      0.78       445\n",
            "\n",
            "    accuracy                           0.86      1427\n",
            "   macro avg       0.56      0.57      0.56      1427\n",
            "weighted avg       0.86      0.86      0.86      1427\n",
            "\n"
          ]
        }
      ],
      "source": [
        "print (classification_report(preds_df[\"category\"], preds_df[\"result\"]))"
      ]
    },
    {
      "cell_type": "markdown",
      "metadata": {
        "id": "lwu69bczvDRL"
      },
      "source": [
        "### Generic Classifier"
      ]
    },
    {
      "cell_type": "code",
      "execution_count": null,
      "metadata": {
        "id": "5j2f-YZdiNdK"
      },
      "outputs": [],
      "source": [
        "# !pip install -q tensorflow==2.7.0 tensorflow_addons"
      ]
    },
    {
      "cell_type": "code",
      "execution_count": null,
      "metadata": {
        "id": "YTuqFVXKvDRL"
      },
      "outputs": [],
      "source": [
        "#from sparknlp_jsl.annotator import TFGraphBuilder\n",
        "\n",
        "graph_folder = \"gc_graph\"\n",
        "\n",
        "gc_graph_builder = medical.TFGraphBuilder()\\\n",
        "    .setModelName(\"generic_classifier\")\\\n",
        "    .setInputCols([\"features\"])\\\n",
        "    .setLabelColumn(\"category\")\\\n",
        "    .setHiddenLayers([300,200, 50])\\\n",
        "    .setHiddenAct(\"tanh\")\\\n",
        "    .setHiddenActL2(True)\\\n",
        "    .setBatchNorm(True)\\\n",
        "    .setGraphFolder(graph_folder)\\\n",
        "    .setGraphFile(\"gcf_graph_200d.pb\")"
      ]
    },
    {
      "cell_type": "code",
      "execution_count": null,
      "metadata": {
        "id": "Acx95To9vDRL"
      },
      "outputs": [],
      "source": [
        "features_asm =medical.FeaturesAssembler()\\\n",
        "    .setInputCols([\"sentence_embeddings\"])\\\n",
        "    .setOutputCol(\"features\")\n",
        "      \n",
        "gen_clf =medical.GenericClassifierApproach()\\\n",
        "    .setLabelColumn(\"category\")\\\n",
        "    .setInputCols(\"features\")\\\n",
        "    .setOutputCol(\"prediction\")\\\n",
        "    .setModelFile(f\"{graph_folder}/gcf_graph_200d.pb\")\\\n",
        "    .setEpochsNumber(40)\\\n",
        "    .setBatchSize(16)\\\n",
        "    .setLearningRate(0.001)\\\n",
        "    .setOutputLogsPath(log_folder)\\\n",
        "    .setDropout(0.5)\\\n",
        "    .setFixImbalance(True)\\\n",
        "    # .setValidationSplit(0.1)\n",
        "\n",
        "clf_Pipeline = nlp.Pipeline(stages=[\n",
        "    features_asm,\n",
        "    gc_graph_builder,\n",
        "    gen_clf])\n"
      ]
    },
    {
      "cell_type": "code",
      "execution_count": null,
      "metadata": {
        "colab": {
          "base_uri": "https://localhost:8080/"
        },
        "id": "07qsryq3vDRL",
        "outputId": "93a9c70c-d422-4813-f8d5-ac9555ace77b"
      },
      "outputs": [
        {
          "name": "stdout",
          "output_type": "stream",
          "text": [
            "TF Graph Builder configuration:\n",
            "Model name: generic_classifier\n",
            "Graph folder: gc_graph\n",
            "Graph file name: gcf_graph_200d.pb\n",
            "Build params: {'input_dim': 200, 'output_dim': 2, 'hidden_layers': [300, 200, 50], 'hidden_act': 'tanh', 'hidden_act_l2': True, 'batch_norm': True}\n",
            "generic_classifier graph exported to gc_graph/gcf_graph_200d.pb\n"
          ]
        }
      ],
      "source": [
        "generic_model_hc200 = clf_Pipeline.fit(trainingData_with_embeddings)"
      ]
    },
    {
      "cell_type": "code",
      "execution_count": null,
      "metadata": {
        "colab": {
          "base_uri": "https://localhost:8080/"
        },
        "id": "WahobkK8vDRL",
        "outputId": "0c1db74c-040f-4e36-e8c3-669bae8e82fa"
      },
      "outputs": [
        {
          "name": "stdout",
          "output_type": "stream",
          "text": [
            "              precision    recall  f1-score   support\n",
            "\n",
            "         neg       0.92      0.81      0.86       982\n",
            "         pos       0.67      0.85      0.75       445\n",
            "\n",
            "    accuracy                           0.82      1427\n",
            "   macro avg       0.79      0.83      0.80      1427\n",
            "weighted avg       0.84      0.82      0.82      1427\n",
            "\n"
          ]
        }
      ],
      "source": [
        "pred_df = generic_model_hc200.transform(testData_with_embeddings)\n",
        "\n",
        "preds_df = pred_df.select('category','prediction.result').toPandas()\n",
        "preds_df['result'] = preds_df.result.apply(lambda x : x[0])\n",
        "\n",
        "print (classification_report(preds_df['category'], preds_df['result']))"
      ]
    },
    {
      "cell_type": "markdown",
      "metadata": {
        "id": "MqvORol0XIG-"
      },
      "source": [
        "### GenericLogRegClassifier"
      ]
    },
    {
      "cell_type": "code",
      "execution_count": null,
      "metadata": {
        "id": "S7Ms5F5hXIG_"
      },
      "outputs": [],
      "source": [
        "graph_folder = \"gc_graph\"\n",
        "\n",
        "gc_logreg_graph_builder = medical.TFGraphBuilder()\\\n",
        "    .setModelName(\"logreg_classifier\")\\\n",
        "    .setInputCols([\"feature_vector\"]) \\\n",
        "    .setLabelColumn(\"category\")\\\n",
        "    .setGraphFolder(graph_folder)\\\n",
        "    .setGraphFile(\"log_reg_graph.pb\")"
      ]
    },
    {
      "cell_type": "markdown",
      "metadata": {
        "id": "xUGr1BJJXIG_"
      },
      "source": [
        "GenericLogRegClassifier needs outputs from FeaturesAssembler. The FeaturesAssembler is used to collect features from different columns or an embeddings column.\n",
        "\n",
        "The GenericLogRegClassifier takes FEATURE_VECTOR annotations as input, classifies them and outputs CATEGORY annotations."
      ]
    },
    {
      "cell_type": "code",
      "execution_count": null,
      "metadata": {
        "id": "yuItEMF0XIG_"
      },
      "outputs": [],
      "source": [
        "features_asm = medical.FeaturesAssembler()\\\n",
        "    .setInputCols([\"sentence_embeddings\"])\\\n",
        "    .setOutputCol(\"feature_vector\")\n",
        "      \n",
        "gen_clf = medical.GenericLogRegClassifierApproach()\\\n",
        "    .setLabelColumn(\"category\")\\\n",
        "    .setInputCols(\"feature_vector\")\\\n",
        "    .setOutputCol(\"prediction\")\\\n",
        "    .setModelFile(f\"{graph_folder}/log_reg_graph.pb\")\\\n",
        "    .setEpochsNumber(25)\\\n",
        "    .setBatchSize(128)\\\n",
        "    .setLearningRate(0.004)\\\n",
        "    .setOutputLogsPath(log_folder)\\\n",
        "    .setDropout(0.2)\\\n",
        "    .setFixImbalance(True)\\\n",
        "    # .setValidationSplit(0.1)\n",
        "\n",
        "clf_Pipeline = nlp.Pipeline(stages=[\n",
        "    features_asm,\n",
        "    gc_logreg_graph_builder,\n",
        "    gen_clf])\n"
      ]
    },
    {
      "cell_type": "code",
      "execution_count": null,
      "metadata": {
        "colab": {
          "base_uri": "https://localhost:8080/"
        },
        "id": "MWTfnlebXIG_",
        "outputId": "0d2ae279-841b-4857-fa01-16896432e1a0"
      },
      "outputs": [
        {
          "name": "stdout",
          "output_type": "stream",
          "text": [
            "TF Graph Builder configuration:\n",
            "Model name: logreg_classifier\n",
            "Graph folder: gc_graph\n",
            "Graph file name: log_reg_graph.pb\n",
            "Build params: {'input_dim': 200, 'output_dim': 2, 'hidden_layers': [], 'output_act': 'sigmoid'}\n",
            "logreg_classifier graph exported to gc_graph/log_reg_graph.pb\n"
          ]
        }
      ],
      "source": [
        "generic_model_hc100 = clf_Pipeline.fit(trainingData_with_embeddings)"
      ]
    },
    {
      "cell_type": "code",
      "execution_count": null,
      "metadata": {
        "colab": {
          "base_uri": "https://localhost:8080/"
        },
        "id": "hwGdESTdXIG_",
        "outputId": "32ae2717-0924-4197-fcc4-57e617b4b99c"
      },
      "outputs": [
        {
          "name": "stdout",
          "output_type": "stream",
          "text": [
            "Training 25 epochs\n",
            "Epoch 1/25\t0.13s\tLoss: 26.04299\tACC: 0.7166259\n",
            "Epoch 2/25\t0.06s\tLoss: 24.621386\tACC: 0.7145938\n",
            "Epoch 3/25\t0.06s\tLoss: 23.543066\tACC: 0.7224458\n",
            "Epoch 4/25\t0.06s\tLoss: 22.724138\tACC: 0.7359796\n",
            "Epoch 5/25\t0.06s\tLoss: 22.40437\tACC: 0.7391888\n",
            "Epoch 6/25\t0.06s\tLoss: 21.883837\tACC: 0.7514336\n",
            "Epoch 7/25\t0.06s\tLoss: 21.752583\tACC: 0.76186347\n",
            "Epoch 8/25\t0.06s\tLoss: 21.470306\tACC: 0.75405097\n",
            "Epoch 9/25\t0.07s\tLoss: 21.311256\tACC: 0.76252764\n",
            "Epoch 10/25\t0.05s\tLoss: 20.965302\tACC: 0.7654146\n",
            "Epoch 11/25\t0.05s\tLoss: 20.60025\tACC: 0.7773043\n",
            "Epoch 12/25\t0.05s\tLoss: 20.640434\tACC: 0.7726418\n",
            "Epoch 13/25\t0.06s\tLoss: 20.576294\tACC: 0.7720697\n",
            "Epoch 14/25\t0.05s\tLoss: 20.445593\tACC: 0.77331257\n",
            "Epoch 15/25\t0.06s\tLoss: 20.522554\tACC: 0.7706098\n",
            "Epoch 16/25\t0.06s\tLoss: 20.306301\tACC: 0.7767322\n",
            "Epoch 17/25\t0.06s\tLoss: 20.040346\tACC: 0.7770807\n",
            "Epoch 18/25\t0.06s\tLoss: 20.344408\tACC: 0.7768637\n",
            "Epoch 19/25\t0.06s\tLoss: 19.989435\tACC: 0.776068\n",
            "Epoch 20/25\t0.06s\tLoss: 20.23527\tACC: 0.78023726\n",
            "Epoch 21/25\t0.06s\tLoss: 20.01604\tACC: 0.78432107\n",
            "Epoch 22/25\t0.06s\tLoss: 19.901676\tACC: 0.78010577\n",
            "Epoch 23/25\t0.06s\tLoss: 20.083824\tACC: 0.782414\n",
            "Epoch 24/25\t0.06s\tLoss: 19.80045\tACC: 0.78010577\n",
            "Epoch 25/25\t0.06s\tLoss: 19.722025\tACC: 0.7800137\n",
            "Training completed.\n"
          ]
        }
      ],
      "source": [
        "!cat $log_folder/GenericLogRegClassifierApproach*"
      ]
    },
    {
      "cell_type": "code",
      "execution_count": null,
      "metadata": {
        "id": "ORF9ZLKgXIG_"
      },
      "outputs": [],
      "source": [
        "pred_df = generic_model_hc100.transform(testData_with_embeddings)"
      ]
    },
    {
      "cell_type": "code",
      "execution_count": null,
      "metadata": {
        "colab": {
          "base_uri": "https://localhost:8080/"
        },
        "id": "gYmzm70NXIG_",
        "outputId": "fe105ea5-fe3c-4d88-a1aa-7015b1a25438"
      },
      "outputs": [
        {
          "name": "stdout",
          "output_type": "stream",
          "text": [
            "root\n",
            " |-- text: string (nullable = true)\n",
            " |-- category: string (nullable = true)\n",
            " |-- sentence_embeddings: array (nullable = true)\n",
            " |    |-- element: struct (containsNull = true)\n",
            " |    |    |-- annotatorType: string (nullable = true)\n",
            " |    |    |-- begin: integer (nullable = false)\n",
            " |    |    |-- end: integer (nullable = false)\n",
            " |    |    |-- result: string (nullable = true)\n",
            " |    |    |-- metadata: map (nullable = true)\n",
            " |    |    |    |-- key: string\n",
            " |    |    |    |-- value: string (valueContainsNull = true)\n",
            " |    |    |-- embeddings: array (nullable = true)\n",
            " |    |    |    |-- element: float (containsNull = false)\n",
            " |-- category_array: array (nullable = false)\n",
            " |    |-- element: string (containsNull = true)\n",
            " |-- prediction: array (nullable = true)\n",
            " |    |-- element: struct (containsNull = true)\n",
            " |    |    |-- annotatorType: string (nullable = true)\n",
            " |    |    |-- begin: integer (nullable = false)\n",
            " |    |    |-- end: integer (nullable = false)\n",
            " |    |    |-- result: string (nullable = true)\n",
            " |    |    |-- metadata: map (nullable = true)\n",
            " |    |    |    |-- key: string\n",
            " |    |    |    |-- value: string (valueContainsNull = true)\n",
            " |    |    |-- embeddings: array (nullable = true)\n",
            " |    |    |    |-- element: float (containsNull = false)\n",
            "\n",
            "+-------------------------------------------------------------------------------------+\n",
            "|prediction                                                                           |\n",
            "+-------------------------------------------------------------------------------------+\n",
            "|[{category, 0, 166, neg, {sentence -> 0, pos -> 5.1765556E-7, neg -> 0.9999995}, []}]|\n",
            "|[{category, 0, 262, neg, {sentence -> 0, pos -> 4.183994E-5, neg -> 0.9999578}, []}] |\n",
            "|[{category, 0, 172, neg, {sentence -> 0, pos -> 0.053227566, neg -> 0.9468717}, []}] |\n",
            "|[{category, 0, 93, neg, {sentence -> 0, pos -> 0.017262537, neg -> 0.9824107}, []}]  |\n",
            "|[{category, 0, 136, neg, {sentence -> 0, pos -> 0.0052390425, neg -> 0.9947812}, []}]|\n",
            "+-------------------------------------------------------------------------------------+\n",
            "only showing top 5 rows\n",
            "\n",
            "+--------+-----------------+\n",
            "|category|prediction.result|\n",
            "+--------+-----------------+\n",
            "|neg     |[neg]            |\n",
            "|neg     |[neg]            |\n",
            "|neg     |[neg]            |\n",
            "|neg     |[neg]            |\n",
            "|neg     |[neg]            |\n",
            "+--------+-----------------+\n",
            "only showing top 5 rows\n",
            "\n"
          ]
        }
      ],
      "source": [
        "preds.printSchema()\n",
        "preds.select(preds.prediction).show(5, truncate=False)\n",
        "preds.select(preds.category, preds.prediction.result).show(5, truncate=False)"
      ]
    },
    {
      "cell_type": "code",
      "execution_count": null,
      "metadata": {
        "colab": {
          "base_uri": "https://localhost:8080/"
        },
        "id": "d1By23e1XIHA",
        "outputId": "0d8a8be0-3769-4f71-8fe9-36f7f8f09ebc"
      },
      "outputs": [
        {
          "name": "stdout",
          "output_type": "stream",
          "text": [
            "              precision    recall  f1-score   support\n",
            "\n",
            "         neg       0.79      0.93      0.85       982\n",
            "         pos       0.74      0.46      0.57       445\n",
            "\n",
            "    accuracy                           0.78      1427\n",
            "   macro avg       0.76      0.69      0.71      1427\n",
            "weighted avg       0.77      0.78      0.76      1427\n",
            "\n"
          ]
        }
      ],
      "source": [
        "preds_df = pred_df.select('category','prediction.result').toPandas()\n",
        "preds_df['result'] = preds_df.result.apply(lambda x : x[0])\n",
        "\n",
        "print (classification_report(preds_df['category'], preds_df['result']))"
      ]
    },
    {
      "cell_type": "markdown",
      "metadata": {
        "id": "A4fphEjMXV7W"
      },
      "source": [
        "### GenericSVMClassifier"
      ]
    },
    {
      "cell_type": "code",
      "execution_count": null,
      "metadata": {
        "id": "WWViS8s6XV7X"
      },
      "outputs": [],
      "source": [
        "graph_folder = \"gc_graph\"\n",
        "\n",
        "gc_svm_graph_builder = medical.TFGraphBuilder()\\\n",
        "    .setModelName(\"svm_classifier\")\\\n",
        "    .setInputCols([\"feature_vector\"]) \\\n",
        "    .setLabelColumn(\"category\")\\\n",
        "    .setGraphFolder(graph_folder)\\\n",
        "    .setGraphFile(\"svm_graph.pb\")"
      ]
    },
    {
      "cell_type": "markdown",
      "metadata": {
        "id": "JcM7VyV7XV7X"
      },
      "source": [
        "GenericSVMClassifier needs outputs from FeaturesAssembler. The FeaturesAssembler is used to collect features from different columns or an embeddings column.\n",
        "\n",
        "The GenericSVMClassifier takes FEATURE_VECTOR annotations as input, classifies them and outputs CATEGORY annotations."
      ]
    },
    {
      "cell_type": "code",
      "execution_count": null,
      "metadata": {
        "id": "px8t14s8XV7X"
      },
      "outputs": [],
      "source": [
        "features_asm = medical.FeaturesAssembler()\\\n",
        "    .setInputCols([\"sentence_embeddings\"])\\\n",
        "    .setOutputCol(\"feature_vector\")\n",
        "      \n",
        "gen_clf = medical.GenericSVMClassifierApproach()\\\n",
        "    .setLabelColumn(\"category\")\\\n",
        "    .setInputCols(\"feature_vector\")\\\n",
        "    .setOutputCol(\"prediction\")\\\n",
        "    .setModelFile(f\"{graph_folder}/svm_graph.pb\")\\\n",
        "    .setEpochsNumber(25)\\\n",
        "    .setBatchSize(128)\\\n",
        "    .setLearningRate(0.004)\\\n",
        "    .setOutputLogsPath(log_folder)\\\n",
        "    .setDropout(0.2)\\\n",
        "    .setFixImbalance(True)\\\n",
        "    # .setValidationSplit(0.1)\n",
        "\n",
        "clf_Pipeline = nlp.Pipeline(stages=[\n",
        "    features_asm,\n",
        "    gc_svm_graph_builder,\n",
        "    gen_clf])\n"
      ]
    },
    {
      "cell_type": "code",
      "execution_count": null,
      "metadata": {
        "colab": {
          "base_uri": "https://localhost:8080/"
        },
        "id": "QHi6KIMSXV7X",
        "outputId": "0f797bd1-99ab-4693-ed17-281793a83ef9"
      },
      "outputs": [
        {
          "name": "stdout",
          "output_type": "stream",
          "text": [
            "TF Graph Builder configuration:\n",
            "Model name: svm_classifier\n",
            "Graph folder: gc_graph\n",
            "Graph file name: svm_graph.pb\n",
            "Build params: {'input_dim': 200, 'output_dim': 2, 'hidden_layers': [], 'output_act': 'sigmoid', 'loss_func': 'hinge'}\n",
            "svm_classifier graph exported to gc_graph/svm_graph.pb\n"
          ]
        }
      ],
      "source": [
        "generic_model_hc100 = clf_Pipeline.fit(trainingData_with_embeddings)"
      ]
    },
    {
      "cell_type": "code",
      "execution_count": null,
      "metadata": {
        "colab": {
          "base_uri": "https://localhost:8080/"
        },
        "id": "4sh8kNQqXV7X",
        "outputId": "bdaccfb0-1538-44f9-f069-0e9cfaaed85e"
      },
      "outputs": [
        {
          "name": "stdout",
          "output_type": "stream",
          "text": [
            "Training 25 epochs\n",
            "Epoch 1/25\t0.16s\tLoss: 31.058128\tACC: 0.6734401\n",
            "Epoch 2/25\t0.08s\tLoss: 25.432837\tACC: 0.7160537\n",
            "Epoch 3/25\t0.07s\tLoss: 24.786303\tACC: 0.7166785\n",
            "Epoch 4/25\t0.07s\tLoss: 24.389965\tACC: 0.72480005\n",
            "Epoch 5/25\t0.07s\tLoss: 23.631254\tACC: 0.7323824\n",
            "Epoch 6/25\t0.06s\tLoss: 23.308153\tACC: 0.7422796\n",
            "Epoch 7/25\t0.07s\tLoss: 22.996788\tACC: 0.75426793\n",
            "Epoch 8/25\t0.07s\tLoss: 23.203959\tACC: 0.754097\n",
            "Epoch 9/25\t0.07s\tLoss: 22.679329\tACC: 0.7627052\n",
            "Epoch 10/25\t0.06s\tLoss: 22.484568\tACC: 0.76962334\n",
            "Epoch 11/25\t0.07s\tLoss: 22.288795\tACC: 0.7758904\n",
            "Epoch 12/25\t0.06s\tLoss: 22.433739\tACC: 0.7743385\n",
            "Epoch 13/25\t0.07s\tLoss: 22.283274\tACC: 0.7797112\n",
            "Epoch 14/25\t0.07s\tLoss: 22.252922\tACC: 0.7782381\n",
            "Epoch 15/25\t0.07s\tLoss: 22.183752\tACC: 0.775851\n",
            "Epoch 16/25\t0.07s\tLoss: 21.952219\tACC: 0.7772188\n",
            "Epoch 17/25\t0.07s\tLoss: 22.34063\tACC: 0.7752723\n",
            "Epoch 18/25\t0.07s\tLoss: 21.668781\tACC: 0.7882273\n",
            "Epoch 19/25\t0.07s\tLoss: 21.848234\tACC: 0.78010577\n",
            "Epoch 20/25\t0.07s\tLoss: 21.563772\tACC: 0.7866688\n",
            "Epoch 21/25\t0.07s\tLoss: 21.535536\tACC: 0.7892466\n",
            "Epoch 22/25\t0.07s\tLoss: 21.657888\tACC: 0.7872935\n",
            "Epoch 23/25\t0.06s\tLoss: 22.015797\tACC: 0.7805069\n",
            "Epoch 24/25\t0.07s\tLoss: 21.570858\tACC: 0.78521544\n",
            "Epoch 25/25\t0.07s\tLoss: 21.640844\tACC: 0.78591913\n",
            "Training completed.\n"
          ]
        }
      ],
      "source": [
        "!cat $log_folder/GenericSVMClassifierApproach*"
      ]
    },
    {
      "cell_type": "code",
      "execution_count": null,
      "metadata": {
        "id": "JFhqwwIAXV7X"
      },
      "outputs": [],
      "source": [
        "pred_df = generic_model_hc100.transform(testData_with_embeddings)"
      ]
    },
    {
      "cell_type": "code",
      "execution_count": null,
      "metadata": {
        "colab": {
          "base_uri": "https://localhost:8080/"
        },
        "id": "1bm1EakmXV7X",
        "outputId": "510bca6b-0185-4621-ef67-66a8be2e2b34"
      },
      "outputs": [
        {
          "name": "stdout",
          "output_type": "stream",
          "text": [
            "root\n",
            " |-- text: string (nullable = true)\n",
            " |-- category: string (nullable = true)\n",
            " |-- sentence_embeddings: array (nullable = true)\n",
            " |    |-- element: struct (containsNull = true)\n",
            " |    |    |-- annotatorType: string (nullable = true)\n",
            " |    |    |-- begin: integer (nullable = false)\n",
            " |    |    |-- end: integer (nullable = false)\n",
            " |    |    |-- result: string (nullable = true)\n",
            " |    |    |-- metadata: map (nullable = true)\n",
            " |    |    |    |-- key: string\n",
            " |    |    |    |-- value: string (valueContainsNull = true)\n",
            " |    |    |-- embeddings: array (nullable = true)\n",
            " |    |    |    |-- element: float (containsNull = false)\n",
            " |-- category_array: array (nullable = false)\n",
            " |    |-- element: string (containsNull = true)\n",
            " |-- prediction: array (nullable = true)\n",
            " |    |-- element: struct (containsNull = true)\n",
            " |    |    |-- annotatorType: string (nullable = true)\n",
            " |    |    |-- begin: integer (nullable = false)\n",
            " |    |    |-- end: integer (nullable = false)\n",
            " |    |    |-- result: string (nullable = true)\n",
            " |    |    |-- metadata: map (nullable = true)\n",
            " |    |    |    |-- key: string\n",
            " |    |    |    |-- value: string (valueContainsNull = true)\n",
            " |    |    |-- embeddings: array (nullable = true)\n",
            " |    |    |    |-- element: float (containsNull = false)\n",
            "\n",
            "+-------------------------------------------------------------------------------------+\n",
            "|prediction                                                                           |\n",
            "+-------------------------------------------------------------------------------------+\n",
            "|[{category, 0, 166, neg, {sentence -> 0, pos -> 5.1765556E-7, neg -> 0.9999995}, []}]|\n",
            "|[{category, 0, 262, neg, {sentence -> 0, pos -> 4.183994E-5, neg -> 0.9999578}, []}] |\n",
            "|[{category, 0, 172, neg, {sentence -> 0, pos -> 0.053227566, neg -> 0.9468717}, []}] |\n",
            "|[{category, 0, 93, neg, {sentence -> 0, pos -> 0.017262537, neg -> 0.9824107}, []}]  |\n",
            "|[{category, 0, 136, neg, {sentence -> 0, pos -> 0.0052390425, neg -> 0.9947812}, []}]|\n",
            "+-------------------------------------------------------------------------------------+\n",
            "only showing top 5 rows\n",
            "\n",
            "+--------+-----------------+\n",
            "|category|prediction.result|\n",
            "+--------+-----------------+\n",
            "|neg     |[neg]            |\n",
            "|neg     |[neg]            |\n",
            "|neg     |[neg]            |\n",
            "|neg     |[neg]            |\n",
            "|neg     |[neg]            |\n",
            "+--------+-----------------+\n",
            "only showing top 5 rows\n",
            "\n"
          ]
        }
      ],
      "source": [
        "preds.printSchema()\n",
        "preds.select(preds.prediction).show(5, truncate=False)\n",
        "preds.select(preds.category, preds.prediction.result).show(5, truncate=False)"
      ]
    },
    {
      "cell_type": "code",
      "execution_count": null,
      "metadata": {
        "colab": {
          "base_uri": "https://localhost:8080/"
        },
        "id": "8so1Xnn9XV7Y",
        "outputId": "2dfaf860-46c9-4f93-d77d-70a040641852"
      },
      "outputs": [
        {
          "name": "stdout",
          "output_type": "stream",
          "text": [
            "              precision    recall  f1-score   support\n",
            "\n",
            "         neg       0.81      0.92      0.86       982\n",
            "         pos       0.75      0.52      0.61       445\n",
            "\n",
            "    accuracy                           0.80      1427\n",
            "   macro avg       0.78      0.72      0.74      1427\n",
            "weighted avg       0.79      0.80      0.78      1427\n",
            "\n"
          ]
        }
      ],
      "source": [
        "preds_df = pred_df.select('category','prediction.result').toPandas()\n",
        "preds_df['result'] = preds_df.result.apply(lambda x : x[0])\n",
        "\n",
        "print (classification_report(preds_df['category'], preds_df['result']))"
      ]
    },
    {
      "cell_type": "markdown",
      "metadata": {
        "id": "HToBQLkiOHDp"
      },
      "source": [
        "## Bert Sentence Embeddings (sbiobert_base_cased_mli)"
      ]
    },
    {
      "cell_type": "markdown",
      "metadata": {
        "id": "GBpfp09tTedK"
      },
      "source": [
        "Now we will extract [sbiobert_base_cased_mli](https://nlp.johnsnowlabs.com/2020/11/27/sbiobert_base_cased_mli_en.html) embeddings which has 768 dimension output and use this embeddings in the model training."
      ]
    },
    {
      "cell_type": "code",
      "execution_count": null,
      "metadata": {
        "colab": {
          "base_uri": "https://localhost:8080/"
        },
        "id": "eCfAkAC7podJ",
        "outputId": "980e722d-7714-4ca0-c346-65be3e4bfc42"
      },
      "outputs": [
        {
          "name": "stdout",
          "output_type": "stream",
          "text": [
            "sbiobert_base_cased_mli download started this may take some time.\n",
            "Approximate size to download 384.3 MB\n",
            "[OK!]\n"
          ]
        }
      ],
      "source": [
        "document_assembler = nlp.DocumentAssembler()\\\n",
        "    .setInputCol(\"text\")\\\n",
        "    .setOutputCol(\"document\")\n",
        "        \n",
        "bert_sent = nlp.BertSentenceEmbeddings.pretrained(\"sbiobert_base_cased_mli\", 'en','clinical/models')\\\n",
        "    .setInputCols([\"document\"])\\\n",
        "    .setOutputCol(\"sentence_embeddings\")\n",
        "\n",
        "embeddings_pipeline = nlp.Pipeline(\n",
        "    stages = [document_assembler,\n",
        "              bert_sent])"
      ]
    },
    {
      "cell_type": "code",
      "execution_count": null,
      "metadata": {
        "colab": {
          "base_uri": "https://localhost:8080/"
        },
        "id": "PbcLStVLpoaN",
        "outputId": "d01036f0-bbcf-433c-f50b-fc22934b003d"
      },
      "outputs": [
        {
          "name": "stdout",
          "output_type": "stream",
          "text": [
            "+--------------------------------------------------------------------------------+--------+--------------------------------------------------------------------------------+\n",
            "|                                                                            text|category|                                                             sentence_embeddings|\n",
            "+--------------------------------------------------------------------------------+--------+--------------------------------------------------------------------------------+\n",
            "| \"Syndrome malin\"-like symptoms probably due to interaction between neurolept...|     neg|[{sentence_embeddings, 0, 109,  \"Syndrome malin\"-like symptoms probably due t...|\n",
            "| 'Bail-out' bivalirudin use in patients with thrombotic complications unrespo...|     neg|[{sentence_embeddings, 0, 150,  'Bail-out' bivalirudin use in patients with t...|\n",
            "+--------------------------------------------------------------------------------+--------+--------------------------------------------------------------------------------+\n",
            "only showing top 2 rows\n",
            "\n"
          ]
        }
      ],
      "source": [
        "trainingData_with_embeddings = embeddings_pipeline.fit(trainingData).transform(trainingData)\\\n",
        "                                                  .select(\"text\",\"category\",\"sentence_embeddings\")\n",
        "\n",
        "trainingData_with_embeddings.show(2,truncate=80)"
      ]
    },
    {
      "cell_type": "code",
      "execution_count": null,
      "metadata": {
        "colab": {
          "base_uri": "https://localhost:8080/"
        },
        "id": "qoby-bTzpoYQ",
        "outputId": "954a85e5-2871-40bb-eb94-17fb89a1895d"
      },
      "outputs": [
        {
          "name": "stdout",
          "output_type": "stream",
          "text": [
            "+--------------------------------------------------------------------------------+--------+--------------------------------------------------------------------------------+\n",
            "|                                                                            text|category|                                                             sentence_embeddings|\n",
            "+--------------------------------------------------------------------------------+--------+--------------------------------------------------------------------------------+\n",
            "| 1 previously untreated patient with plasma-cell leukaemia and 8 patients wit...|     neg|[{sentence_embeddings, 0, 166,  1 previously untreated patient with plasma-ce...|\n",
            "| A 15-year-old boy had temporary hypertropia, supraduction deficit, ipsilater...|     neg|[{sentence_embeddings, 0, 262,  A 15-year-old boy had temporary hypertropia, ...|\n",
            "+--------------------------------------------------------------------------------+--------+--------------------------------------------------------------------------------+\n",
            "only showing top 2 rows\n",
            "\n"
          ]
        }
      ],
      "source": [
        "testData_with_embeddings = embeddings_pipeline.fit(testData).transform(testData)\\\n",
        "                                                  .select(\"text\",\"category\",\"sentence_embeddings\")\n",
        "\n",
        "testData_with_embeddings.show(2,truncate=80)"
      ]
    },
    {
      "cell_type": "code",
      "execution_count": null,
      "metadata": {
        "id": "_EetBOQUpoWQ"
      },
      "outputs": [],
      "source": [
        "log_folder=\"ADE_logs_bert\""
      ]
    },
    {
      "cell_type": "markdown",
      "metadata": {
        "id": "289YUVX7yGE1"
      },
      "source": [
        "### ClassifierDLApproach"
      ]
    },
    {
      "cell_type": "code",
      "execution_count": null,
      "metadata": {
        "id": "ZzCU998wyGE2"
      },
      "outputs": [],
      "source": [
        "classifier_dl = nlp.ClassifierDLApproach()\\\n",
        "        .setInputCols([\"sentence_embeddings\"])\\\n",
        "        .setOutputCol(\"class\")\\\n",
        "        .setLabelColumn(\"category\")\\\n",
        "        .setBatchSize(8)\\\n",
        "        .setMaxEpochs(2)\\\n",
        "        .setLr(0.001)\\\n",
        "        .setDropout(0.3)\\\n",
        "        .setEnableOutputLogs(True)\\\n",
        "        .setOutputLogsPath(log_folder)\n",
        "\n",
        "classifier_dl_pipeline = nlp.Pipeline(stages=[classifier_dl])"
      ]
    },
    {
      "cell_type": "code",
      "execution_count": null,
      "metadata": {
        "id": "AnpZcIyPyGE2"
      },
      "outputs": [],
      "source": [
        "clfDL_model_bert = classifier_dl_pipeline.fit(trainingData_with_embeddings)"
      ]
    },
    {
      "cell_type": "code",
      "execution_count": null,
      "metadata": {
        "colab": {
          "base_uri": "https://localhost:8080/"
        },
        "id": "WTekTE0kyGE2",
        "outputId": "59b1848d-3744-49dd-97c2-a3dcf5831b69"
      },
      "outputs": [
        {
          "name": "stdout",
          "output_type": "stream",
          "text": [
            "              precision    recall  f1-score   support\n",
            "\n",
            "         neg       0.69      1.00      0.82       982\n",
            "         pos       0.00      0.00      0.00       445\n",
            "\n",
            "    accuracy                           0.69      1427\n",
            "   macro avg       0.34      0.50      0.41      1427\n",
            "weighted avg       0.47      0.69      0.56      1427\n",
            "\n"
          ]
        }
      ],
      "source": [
        "preds = clfDL_model_bert.transform(testData_with_embeddings)\n",
        "\n",
        "preds_df = preds.select(\"category\",\"text\",\"class.result\").toPandas()\n",
        "preds_df[\"result\"] = preds_df[\"result\"].apply(lambda x : x[0])\n",
        "\n",
        "print (classification_report(preds_df[\"category\"], preds_df[\"result\"]))"
      ]
    },
    {
      "cell_type": "markdown",
      "metadata": {
        "id": "rGyp2ylnT7qq"
      },
      "source": [
        "### MultiClassifierDL"
      ]
    },
    {
      "cell_type": "code",
      "execution_count": null,
      "metadata": {
        "id": "rgc8eN32T7qq"
      },
      "outputs": [],
      "source": [
        "# MultiClassifierDL accepts list of strings as input label. So we convert label column to array type.\n",
        "trainingData_with_embeddings = trainingData_with_embeddings.withColumn(\"category_array\", F.array(F.col(\"category\")))\n",
        "testData_with_embeddings = testData_with_embeddings.withColumn(\"category_array\", F.array(F.col(\"category\")))"
      ]
    },
    {
      "cell_type": "code",
      "execution_count": null,
      "metadata": {
        "id": "VNSQp8iyT7qr"
      },
      "outputs": [],
      "source": [
        "multiClassifier =nlp.MultiClassifierDLApproach()\\\n",
        "  .setInputCols(\"sentence_embeddings\")\\\n",
        "  .setOutputCol(\"prediction\")\\\n",
        "  .setLabelColumn(\"category_array\")\\\n",
        "  .setBatchSize(32)\\\n",
        "  .setMaxEpochs(20)\\\n",
        "  .setLr(9e-3)\\\n",
        "  .setThreshold(0.5)\\\n",
        "  .setShufflePerEpoch(False)\\\n",
        "  .setEnableOutputLogs(True)\\\n",
        "  .setOutputLogsPath(log_folder)\\\n",
        "#   .setValidationSplit(0.1)\n",
        "\n",
        "multiClassifier_pipeline = nlp.Pipeline(\n",
        "    stages = [\n",
        "        multiClassifier\n",
        "    ])"
      ]
    },
    {
      "cell_type": "code",
      "execution_count": null,
      "metadata": {
        "id": "2KuFBI44T7qr"
      },
      "outputs": [],
      "source": [
        "multiClassifier_model_hc200 = multiClassifier_pipeline.fit(trainingData_with_embeddings)"
      ]
    },
    {
      "cell_type": "code",
      "execution_count": null,
      "metadata": {
        "id": "WF1cSwJrT7qr"
      },
      "outputs": [],
      "source": [
        "preds = multiClassifier_model_hc200.transform(testData_with_embeddings)"
      ]
    },
    {
      "cell_type": "code",
      "execution_count": null,
      "metadata": {
        "colab": {
          "base_uri": "https://localhost:8080/"
        },
        "id": "DAMLtlVsT7qr",
        "outputId": "53f41649-4b8b-4500-a28c-8594da39aa00"
      },
      "outputs": [
        {
          "data": {
            "text/plain": [
              "['neg']    1061\n",
              "['pos']     366\n",
              "Name: result, dtype: int64"
            ]
          },
          "execution_count": 106,
          "metadata": {},
          "output_type": "execute_result"
        }
      ],
      "source": [
        "preds_df = preds.select(\"category\",\"text\",\"prediction.result\",\"prediction.metadata\").toPandas()\n",
        "preds_df.result.apply(lambda x: str(x) ).value_counts()"
      ]
    },
    {
      "cell_type": "code",
      "execution_count": null,
      "metadata": {
        "colab": {
          "base_uri": "https://localhost:8080/"
        },
        "id": "HcZ7OAaYT7qr",
        "outputId": "5ce18364-4269-43f4-b412-f16f1506a2fc"
      },
      "outputs": [
        {
          "data": {
            "text/plain": [
              "neg    1061\n",
              "pos     366\n",
              "Name: result, dtype: int64"
            ]
          },
          "execution_count": 107,
          "metadata": {},
          "output_type": "execute_result"
        }
      ],
      "source": [
        "# We will get the highest score label as result. You can control the number of zero label results with setThreshold() in the training.\n",
        "preds_df[\"scores\"] = preds_df.metadata.apply(lambda x: {k:float(v) for k,v in x[0].items()} if len(x)>=1 else \"\")\n",
        "preds_df[\"result\"] = preds_df.scores.apply(lambda x: max(x, key=x.get) if len(x)>=1 else \"\")\n",
        "preds_df[\"result\"].value_counts()"
      ]
    },
    {
      "cell_type": "code",
      "execution_count": null,
      "metadata": {
        "colab": {
          "base_uri": "https://localhost:8080/"
        },
        "id": "Crbnvw7GT7qr",
        "outputId": "e630455a-db29-4304-b7d5-bf6c918541dc"
      },
      "outputs": [
        {
          "name": "stdout",
          "output_type": "stream",
          "text": [
            "              precision    recall  f1-score   support\n",
            "\n",
            "         neg       0.86      0.93      0.90       982\n",
            "         pos       0.82      0.67      0.74       445\n",
            "\n",
            "    accuracy                           0.85      1427\n",
            "   macro avg       0.84      0.80      0.82      1427\n",
            "weighted avg       0.85      0.85      0.85      1427\n",
            "\n"
          ]
        }
      ],
      "source": [
        "print (classification_report(preds_df[\"category\"], preds_df[\"result\"]))"
      ]
    },
    {
      "cell_type": "markdown",
      "metadata": {
        "id": "Y4hlGSE9yGE3"
      },
      "source": [
        "### Generic Classifier"
      ]
    },
    {
      "cell_type": "code",
      "execution_count": null,
      "metadata": {
        "id": "lFjM5RcliQSx"
      },
      "outputs": [],
      "source": [
        "# !pip install -q tensorflow==2.7.0 tensorflow_addons"
      ]
    },
    {
      "cell_type": "code",
      "execution_count": null,
      "metadata": {
        "id": "yNSz6-FbyGE3"
      },
      "outputs": [],
      "source": [
        "from sparknlp_jsl.annotator import TFGraphBuilder\n",
        "\n",
        "graph_folder = \"gc_graph\"\n",
        "\n",
        "gc_graph_builder =medical.TFGraphBuilder()\\\n",
        "    .setModelName(\"generic_classifier\")\\\n",
        "    .setInputCols([\"features\"])\\\n",
        "    .setLabelColumn(\"category\")\\\n",
        "    .setHiddenLayers([300,200, 50])\\\n",
        "    .setHiddenAct(\"tanh\")\\\n",
        "    .setHiddenActL2(True)\\\n",
        "    .setBatchNorm(True)\\\n",
        "    .setGraphFolder(graph_folder)\\\n",
        "    .setGraphFile(\"gcf_graph_bert.pb\")"
      ]
    },
    {
      "cell_type": "code",
      "execution_count": null,
      "metadata": {
        "id": "lYsWcP6yyGE3"
      },
      "outputs": [],
      "source": [
        "features_asm =medical.FeaturesAssembler()\\\n",
        "    .setInputCols([\"sentence_embeddings\"])\\\n",
        "    .setOutputCol(\"features\")\n",
        "      \n",
        "gen_clf =medical.GenericClassifierApproach()\\\n",
        "    .setLabelColumn(\"category\")\\\n",
        "    .setInputCols(\"features\")\\\n",
        "    .setOutputCol(\"prediction\")\\\n",
        "    .setModelFile(f\"{graph_folder}/gcf_graph_bert.pb\")\\\n",
        "    .setEpochsNumber(20)\\\n",
        "    .setBatchSize(32)\\\n",
        "    .setLearningRate(0.001)\\\n",
        "    .setOutputLogsPath(log_folder)\\\n",
        "    .setDropout(0.5)\\\n",
        "    .setFixImbalance(True)\\\n",
        "    # .setValidationSplit(0.1)\n",
        "\n",
        "clf_Pipeline = nlp.Pipeline(stages=[\n",
        "    features_asm,\n",
        "    gc_graph_builder,\n",
        "    gen_clf])\n"
      ]
    },
    {
      "cell_type": "code",
      "execution_count": null,
      "metadata": {
        "colab": {
          "base_uri": "https://localhost:8080/"
        },
        "id": "uTJY05QbyGE3",
        "outputId": "d5073c99-5a8c-4d8a-82a5-bf32c4e71498"
      },
      "outputs": [
        {
          "name": "stdout",
          "output_type": "stream",
          "text": [
            "TF Graph Builder configuration:\n",
            "Model name: generic_classifier\n",
            "Graph folder: gc_graph\n",
            "Graph file name: gcf_graph_bert.pb\n",
            "Build params: {'input_dim': 768, 'output_dim': 2, 'hidden_layers': [300, 200, 50], 'hidden_act': 'tanh', 'hidden_act_l2': True, 'batch_norm': True}\n",
            "generic_classifier graph exported to gc_graph/gcf_graph_bert.pb\n"
          ]
        }
      ],
      "source": [
        "generic_model_bert = clf_Pipeline.fit(trainingData_with_embeddings)"
      ]
    },
    {
      "cell_type": "code",
      "execution_count": null,
      "metadata": {
        "colab": {
          "base_uri": "https://localhost:8080/"
        },
        "id": "EB1ONwUvyGE3",
        "outputId": "f5a60c35-cdda-4b0d-b0aa-552dcdb92436"
      },
      "outputs": [
        {
          "name": "stdout",
          "output_type": "stream",
          "text": [
            "              precision    recall  f1-score   support\n",
            "\n",
            "         neg       0.93      0.89      0.91       982\n",
            "         pos       0.78      0.86      0.82       445\n",
            "\n",
            "    accuracy                           0.88      1427\n",
            "   macro avg       0.86      0.88      0.87      1427\n",
            "weighted avg       0.89      0.88      0.88      1427\n",
            "\n"
          ]
        }
      ],
      "source": [
        "pred_df = generic_model_bert.transform(testData_with_embeddings)\n",
        "\n",
        "preds_df = pred_df.select('category','prediction.result').toPandas()\n",
        "preds_df['result'] = preds_df.result.apply(lambda x : x[0])\n",
        "\n",
        "print (classification_report(preds_df['category'], preds_df['result']))"
      ]
    },
    {
      "cell_type": "markdown",
      "metadata": {
        "id": "wP2hYqY1XJVB"
      },
      "source": [
        "### GenericLogRegClassifier"
      ]
    },
    {
      "cell_type": "code",
      "execution_count": null,
      "metadata": {
        "id": "nMqP9w4YXJVB"
      },
      "outputs": [],
      "source": [
        "graph_folder = \"gc_graph\"\n",
        "\n",
        "gc_logreg_graph_builder = medical.TFGraphBuilder()\\\n",
        "    .setModelName(\"logreg_classifier\")\\\n",
        "    .setInputCols([\"feature_vector\"]) \\\n",
        "    .setLabelColumn(\"category\")\\\n",
        "    .setGraphFolder(graph_folder)\\\n",
        "    .setGraphFile(\"log_reg_graph.pb\")"
      ]
    },
    {
      "cell_type": "markdown",
      "metadata": {
        "id": "ubEJt4C5XJVB"
      },
      "source": [
        "GenericLogRegClassifier needs outputs from FeaturesAssembler. The FeaturesAssembler is used to collect features from different columns or an embeddings column.\n",
        "\n",
        "The GenericLogRegClassifier takes FEATURE_VECTOR annotations as input, classifies them and outputs CATEGORY annotations."
      ]
    },
    {
      "cell_type": "code",
      "execution_count": null,
      "metadata": {
        "id": "JciMxptEXJVB"
      },
      "outputs": [],
      "source": [
        "features_asm = medical.FeaturesAssembler()\\\n",
        "    .setInputCols([\"sentence_embeddings\"])\\\n",
        "    .setOutputCol(\"feature_vector\")\n",
        "      \n",
        "gen_clf = medical.GenericLogRegClassifierApproach()\\\n",
        "    .setLabelColumn(\"category\")\\\n",
        "    .setInputCols(\"feature_vector\")\\\n",
        "    .setOutputCol(\"prediction\")\\\n",
        "    .setModelFile(f\"{graph_folder}/log_reg_graph.pb\")\\\n",
        "    .setEpochsNumber(25)\\\n",
        "    .setBatchSize(128)\\\n",
        "    .setLearningRate(0.004)\\\n",
        "    .setOutputLogsPath(log_folder)\\\n",
        "    .setDropout(0.2)\\\n",
        "    .setFixImbalance(True)\\\n",
        "    # .setValidationSplit(0.1)\n",
        "\n",
        "clf_Pipeline = nlp.Pipeline(stages=[\n",
        "    features_asm,\n",
        "    gc_logreg_graph_builder,\n",
        "    gen_clf])\n"
      ]
    },
    {
      "cell_type": "code",
      "execution_count": null,
      "metadata": {
        "colab": {
          "base_uri": "https://localhost:8080/"
        },
        "id": "vxDhTsP0XJVC",
        "outputId": "1e804d16-dfa9-4e92-ec8c-13d8f2d51d06"
      },
      "outputs": [
        {
          "name": "stdout",
          "output_type": "stream",
          "text": [
            "TF Graph Builder configuration:\n",
            "Model name: logreg_classifier\n",
            "Graph folder: gc_graph\n",
            "Graph file name: log_reg_graph.pb\n",
            "Build params: {'input_dim': 768, 'output_dim': 2, 'hidden_layers': [], 'output_act': 'sigmoid'}\n",
            "logreg_classifier graph exported to gc_graph/log_reg_graph.pb\n"
          ]
        }
      ],
      "source": [
        "generic_model_hc100 = clf_Pipeline.fit(trainingData_with_embeddings)"
      ]
    },
    {
      "cell_type": "code",
      "execution_count": null,
      "metadata": {
        "colab": {
          "base_uri": "https://localhost:8080/"
        },
        "id": "MZet3wRGXJVC",
        "outputId": "04b5c858-d381-4611-ccc4-c2502f9c8043"
      },
      "outputs": [
        {
          "name": "stdout",
          "output_type": "stream",
          "text": [
            "Training 25 epochs\n",
            "Epoch 1/25\t0.16s\tLoss: 21.490278\tACC: 0.7685185\n",
            "Epoch 2/25\t0.06s\tLoss: 16.711014\tACC: 0.830841\n",
            "Epoch 3/25\t0.06s\tLoss: 15.628862\tACC: 0.8405672\n",
            "Epoch 4/25\t0.06s\tLoss: 14.887003\tACC: 0.849616\n",
            "Epoch 5/25\t0.06s\tLoss: 14.480483\tACC: 0.8557384\n",
            "Epoch 6/25\t0.06s\tLoss: 14.262522\tACC: 0.8616898\n",
            "Epoch 7/25\t0.06s\tLoss: 14.280499\tACC: 0.8548506\n",
            "Epoch 8/25\t0.06s\tLoss: 13.6470175\tACC: 0.8659512\n",
            "Epoch 9/25\t0.06s\tLoss: 13.772535\tACC: 0.8627552\n",
            "Epoch 10/25\t0.07s\tLoss: 13.880726\tACC: 0.8626697\n",
            "Epoch 11/25\t0.06s\tLoss: 13.81312\tACC: 0.8617819\n",
            "Epoch 12/25\t0.06s\tLoss: 13.326372\tACC: 0.87069917\n",
            "Epoch 13/25\t0.06s\tLoss: 13.796119\tACC: 0.8640047\n",
            "Epoch 14/25\t0.06s\tLoss: 13.78298\tACC: 0.86240005\n",
            "Epoch 15/25\t0.06s\tLoss: 13.310244\tACC: 0.8713634\n",
            "Epoch 16/25\t0.06s\tLoss: 13.423906\tACC: 0.8658131\n",
            "Epoch 17/25\t0.06s\tLoss: 13.366165\tACC: 0.86919326\n",
            "Epoch 18/25\t0.06s\tLoss: 13.969917\tACC: 0.8584938\n",
            "Epoch 19/25\t0.08s\tLoss: 13.2213955\tACC: 0.86750317\n",
            "Epoch 20/25\t0.07s\tLoss: 13.673065\tACC: 0.8612032\n",
            "Epoch 21/25\t0.07s\tLoss: 13.28417\tACC: 0.871587\n",
            "Epoch 22/25\t0.08s\tLoss: 13.381948\tACC: 0.8657276\n",
            "Epoch 23/25\t0.07s\tLoss: 13.718583\tACC: 0.86244607\n",
            "Epoch 24/25\t0.07s\tLoss: 13.313233\tACC: 0.8662603\n",
            "Epoch 25/25\t0.07s\tLoss: 13.232178\tACC: 0.87171847\n",
            "Training completed.\n"
          ]
        }
      ],
      "source": [
        "!cat $log_folder/GenericLogRegClassifierApproach*"
      ]
    },
    {
      "cell_type": "code",
      "execution_count": null,
      "metadata": {
        "id": "EpQZpzg1XJVC"
      },
      "outputs": [],
      "source": [
        "pred_df = generic_model_hc100.transform(testData_with_embeddings)"
      ]
    },
    {
      "cell_type": "code",
      "execution_count": null,
      "metadata": {
        "colab": {
          "base_uri": "https://localhost:8080/"
        },
        "id": "Nh4NrAwJXJVC",
        "outputId": "7c75fd04-8065-42ab-9b6d-ebf6b051b0a5"
      },
      "outputs": [
        {
          "name": "stdout",
          "output_type": "stream",
          "text": [
            "root\n",
            " |-- text: string (nullable = true)\n",
            " |-- category: string (nullable = true)\n",
            " |-- sentence_embeddings: array (nullable = true)\n",
            " |    |-- element: struct (containsNull = true)\n",
            " |    |    |-- annotatorType: string (nullable = true)\n",
            " |    |    |-- begin: integer (nullable = false)\n",
            " |    |    |-- end: integer (nullable = false)\n",
            " |    |    |-- result: string (nullable = true)\n",
            " |    |    |-- metadata: map (nullable = true)\n",
            " |    |    |    |-- key: string\n",
            " |    |    |    |-- value: string (valueContainsNull = true)\n",
            " |    |    |-- embeddings: array (nullable = true)\n",
            " |    |    |    |-- element: float (containsNull = false)\n",
            " |-- category_array: array (nullable = false)\n",
            " |    |-- element: string (containsNull = true)\n",
            " |-- prediction: array (nullable = true)\n",
            " |    |-- element: struct (containsNull = true)\n",
            " |    |    |-- annotatorType: string (nullable = true)\n",
            " |    |    |-- begin: integer (nullable = false)\n",
            " |    |    |-- end: integer (nullable = false)\n",
            " |    |    |-- result: string (nullable = true)\n",
            " |    |    |-- metadata: map (nullable = true)\n",
            " |    |    |    |-- key: string\n",
            " |    |    |    |-- value: string (valueContainsNull = true)\n",
            " |    |    |-- embeddings: array (nullable = true)\n",
            " |    |    |    |-- element: float (containsNull = false)\n",
            "\n",
            "+--------------------------------------------------------------------------------------+\n",
            "|prediction                                                                            |\n",
            "+--------------------------------------------------------------------------------------+\n",
            "|[{category, 0, 166, neg, {sentence -> 0, pos -> 1.66262E-4, neg -> 0.999846}, []}]    |\n",
            "|[{category, 0, 262, neg, {sentence -> 0, pos -> 4.1976676E-4, neg -> 0.99959785}, []}]|\n",
            "|[{category, 0, 172, neg, {sentence -> 0, pos -> 0.06716612, neg -> 0.9356399}, []}]   |\n",
            "|[{category, 0, 93, neg, {sentence -> 0, pos -> 7.054224E-4, neg -> 0.99933916}, []}]  |\n",
            "|[{category, 0, 136, neg, {sentence -> 0, pos -> 5.2428828E-8, neg -> 1.0}, []}]       |\n",
            "+--------------------------------------------------------------------------------------+\n",
            "only showing top 5 rows\n",
            "\n",
            "+--------+-----------------+\n",
            "|category|prediction.result|\n",
            "+--------+-----------------+\n",
            "|neg     |[neg]            |\n",
            "|neg     |[neg]            |\n",
            "|neg     |[neg]            |\n",
            "|neg     |[neg]            |\n",
            "|neg     |[neg]            |\n",
            "+--------+-----------------+\n",
            "only showing top 5 rows\n",
            "\n"
          ]
        }
      ],
      "source": [
        "preds.printSchema()\n",
        "preds.select(preds.prediction).show(5, truncate=False)\n",
        "preds.select(preds.category, preds.prediction.result).show(5, truncate=False)"
      ]
    },
    {
      "cell_type": "code",
      "execution_count": null,
      "metadata": {
        "colab": {
          "base_uri": "https://localhost:8080/"
        },
        "id": "YAIyaNA5XJVC",
        "outputId": "9b4ca57c-4720-4080-b8b4-96c9a338a5d0"
      },
      "outputs": [
        {
          "name": "stdout",
          "output_type": "stream",
          "text": [
            "              precision    recall  f1-score   support\n",
            "\n",
            "         neg       0.87      0.94      0.91       982\n",
            "         pos       0.84      0.70      0.76       445\n",
            "\n",
            "    accuracy                           0.87      1427\n",
            "   macro avg       0.86      0.82      0.84      1427\n",
            "weighted avg       0.86      0.87      0.86      1427\n",
            "\n"
          ]
        }
      ],
      "source": [
        "preds_df = pred_df.select('category','prediction.result').toPandas()\n",
        "preds_df['result'] = preds_df.result.apply(lambda x : x[0])\n",
        "\n",
        "print (classification_report(preds_df['category'], preds_df['result']))"
      ]
    },
    {
      "cell_type": "markdown",
      "metadata": {
        "id": "fJ53RrHWXXHj"
      },
      "source": [
        "### GenericSVMClassifier"
      ]
    },
    {
      "cell_type": "code",
      "execution_count": null,
      "metadata": {
        "id": "xyjJzPzBXXHk"
      },
      "outputs": [],
      "source": [
        "graph_folder = \"gc_graph\"\n",
        "\n",
        "gc_svm_graph_builder = medical.TFGraphBuilder()\\\n",
        "    .setModelName(\"svm_classifier\")\\\n",
        "    .setInputCols([\"feature_vector\"]) \\\n",
        "    .setLabelColumn(\"category\")\\\n",
        "    .setGraphFolder(graph_folder)\\\n",
        "    .setGraphFile(\"svm_graph.pb\")"
      ]
    },
    {
      "cell_type": "markdown",
      "metadata": {
        "id": "VX7v20wHXXHk"
      },
      "source": [
        "GenericSVMClassifier needs outputs from FeaturesAssembler. The FeaturesAssembler is used to collect features from different columns or an embeddings column.\n",
        "\n",
        "The GenericSVMClassifier takes FEATURE_VECTOR annotations as input, classifies them and outputs CATEGORY annotations."
      ]
    },
    {
      "cell_type": "code",
      "execution_count": null,
      "metadata": {
        "id": "0vzQ80M5XXHk"
      },
      "outputs": [],
      "source": [
        "features_asm = medical.FeaturesAssembler()\\\n",
        "    .setInputCols([\"sentence_embeddings\"])\\\n",
        "    .setOutputCol(\"feature_vector\")\n",
        "      \n",
        "gen_clf = medical.GenericSVMClassifierApproach()\\\n",
        "    .setLabelColumn(\"category\")\\\n",
        "    .setInputCols(\"feature_vector\")\\\n",
        "    .setOutputCol(\"prediction\")\\\n",
        "    .setModelFile(f\"{graph_folder}/svm_graph.pb\")\\\n",
        "    .setEpochsNumber(25)\\\n",
        "    .setBatchSize(128)\\\n",
        "    .setLearningRate(0.004)\\\n",
        "    .setOutputLogsPath(log_folder)\\\n",
        "    .setDropout(0.2)\\\n",
        "    .setFixImbalance(True)\\\n",
        "    # .setValidationSplit(0.1)\n",
        "\n",
        "clf_Pipeline = nlp.Pipeline(stages=[\n",
        "    features_asm,\n",
        "    gc_svm_graph_builder,\n",
        "    gen_clf])\n"
      ]
    },
    {
      "cell_type": "code",
      "execution_count": null,
      "metadata": {
        "colab": {
          "base_uri": "https://localhost:8080/"
        },
        "id": "9BieY4KtXXHk",
        "outputId": "1deccd65-b684-4478-f46b-6068bb826c02"
      },
      "outputs": [
        {
          "name": "stdout",
          "output_type": "stream",
          "text": [
            "TF Graph Builder configuration:\n",
            "Model name: svm_classifier\n",
            "Graph folder: gc_graph\n",
            "Graph file name: svm_graph.pb\n",
            "Build params: {'input_dim': 768, 'output_dim': 2, 'hidden_layers': [], 'output_act': 'sigmoid', 'loss_func': 'hinge'}\n",
            "svm_classifier graph exported to gc_graph/svm_graph.pb\n"
          ]
        }
      ],
      "source": [
        "generic_model_hc100 = clf_Pipeline.fit(trainingData_with_embeddings)"
      ]
    },
    {
      "cell_type": "code",
      "execution_count": null,
      "metadata": {
        "colab": {
          "base_uri": "https://localhost:8080/"
        },
        "id": "SBAlazuPXXHk",
        "outputId": "8b7a5241-788e-49cf-b8ae-26a6d57c634d"
      },
      "outputs": [
        {
          "name": "stdout",
          "output_type": "stream",
          "text": [
            "Training 25 epochs\n",
            "Epoch 1/25\t0.17s\tLoss: 25.204493\tACC: 0.77113587\n",
            "Epoch 2/25\t0.08s\tLoss: 18.767488\tACC: 0.82551426\n",
            "Epoch 3/25\t0.07s\tLoss: 16.820026\tACC: 0.84232956\n",
            "Epoch 4/25\t0.07s\tLoss: 16.319622\tACC: 0.85001713\n",
            "Epoch 5/25\t0.07s\tLoss: 15.535469\tACC: 0.8584938\n",
            "Epoch 6/25\t0.07s\tLoss: 15.701779\tACC: 0.8542259\n",
            "Epoch 7/25\t0.07s\tLoss: 16.520525\tACC: 0.8508194\n",
            "Epoch 8/25\t0.07s\tLoss: 15.947368\tACC: 0.85588306\n",
            "Epoch 9/25\t0.07s\tLoss: 15.042729\tACC: 0.868437\n",
            "Epoch 10/25\t0.07s\tLoss: 14.668651\tACC: 0.86337334\n",
            "Epoch 11/25\t0.07s\tLoss: 15.623028\tACC: 0.8593816\n",
            "Epoch 12/25\t0.08s\tLoss: 14.756052\tACC: 0.86643785\n",
            "Epoch 13/25\t0.09s\tLoss: 15.502031\tACC: 0.85942763\n",
            "Epoch 14/25\t0.09s\tLoss: 15.719972\tACC: 0.85640913\n",
            "Epoch 15/25\t0.09s\tLoss: 15.671838\tACC: 0.8588489\n",
            "Epoch 16/25\t0.10s\tLoss: 15.423007\tACC: 0.85942763\n",
            "Epoch 17/25\t0.08s\tLoss: 15.976094\tACC: 0.8509049\n",
            "Epoch 18/25\t0.08s\tLoss: 15.1980095\tACC: 0.8609796\n",
            "Epoch 19/25\t0.08s\tLoss: 15.021896\tACC: 0.8638205\n",
            "Epoch 20/25\t0.08s\tLoss: 15.150192\tACC: 0.86284727\n",
            "Epoch 21/25\t0.08s\tLoss: 16.154932\tACC: 0.84983957\n",
            "Epoch 22/25\t0.08s\tLoss: 15.073907\tACC: 0.8604864\n",
            "Epoch 23/25\t0.08s\tLoss: 15.277446\tACC: 0.85720485\n",
            "Epoch 24/25\t0.08s\tLoss: 15.087508\tACC: 0.8627157\n",
            "Epoch 25/25\t0.08s\tLoss: 15.192466\tACC: 0.86070997\n",
            "Training completed.\n"
          ]
        }
      ],
      "source": [
        "!cat $log_folder/GenericSVMClassifierApproach*"
      ]
    },
    {
      "cell_type": "code",
      "execution_count": null,
      "metadata": {
        "id": "iHL0IWHQXXHk"
      },
      "outputs": [],
      "source": [
        "pred_df = generic_model_hc100.transform(testData_with_embeddings)"
      ]
    },
    {
      "cell_type": "code",
      "execution_count": null,
      "metadata": {
        "colab": {
          "base_uri": "https://localhost:8080/"
        },
        "id": "dDK-wAVNXXHl",
        "outputId": "b0a82a82-6492-4b11-fea3-c54a285c7c29"
      },
      "outputs": [
        {
          "name": "stdout",
          "output_type": "stream",
          "text": [
            "root\n",
            " |-- text: string (nullable = true)\n",
            " |-- category: string (nullable = true)\n",
            " |-- sentence_embeddings: array (nullable = true)\n",
            " |    |-- element: struct (containsNull = true)\n",
            " |    |    |-- annotatorType: string (nullable = true)\n",
            " |    |    |-- begin: integer (nullable = false)\n",
            " |    |    |-- end: integer (nullable = false)\n",
            " |    |    |-- result: string (nullable = true)\n",
            " |    |    |-- metadata: map (nullable = true)\n",
            " |    |    |    |-- key: string\n",
            " |    |    |    |-- value: string (valueContainsNull = true)\n",
            " |    |    |-- embeddings: array (nullable = true)\n",
            " |    |    |    |-- element: float (containsNull = false)\n",
            " |-- category_array: array (nullable = false)\n",
            " |    |-- element: string (containsNull = true)\n",
            " |-- prediction: array (nullable = true)\n",
            " |    |-- element: struct (containsNull = true)\n",
            " |    |    |-- annotatorType: string (nullable = true)\n",
            " |    |    |-- begin: integer (nullable = false)\n",
            " |    |    |-- end: integer (nullable = false)\n",
            " |    |    |-- result: string (nullable = true)\n",
            " |    |    |-- metadata: map (nullable = true)\n",
            " |    |    |    |-- key: string\n",
            " |    |    |    |-- value: string (valueContainsNull = true)\n",
            " |    |    |-- embeddings: array (nullable = true)\n",
            " |    |    |    |-- element: float (containsNull = false)\n",
            "\n",
            "+--------------------------------------------------------------------------------------+\n",
            "|prediction                                                                            |\n",
            "+--------------------------------------------------------------------------------------+\n",
            "|[{category, 0, 166, neg, {sentence -> 0, pos -> 1.66262E-4, neg -> 0.999846}, []}]    |\n",
            "|[{category, 0, 262, neg, {sentence -> 0, pos -> 4.1976676E-4, neg -> 0.99959785}, []}]|\n",
            "|[{category, 0, 172, neg, {sentence -> 0, pos -> 0.06716612, neg -> 0.9356399}, []}]   |\n",
            "|[{category, 0, 93, neg, {sentence -> 0, pos -> 7.054224E-4, neg -> 0.99933916}, []}]  |\n",
            "|[{category, 0, 136, neg, {sentence -> 0, pos -> 5.2428828E-8, neg -> 1.0}, []}]       |\n",
            "+--------------------------------------------------------------------------------------+\n",
            "only showing top 5 rows\n",
            "\n",
            "+--------+-----------------+\n",
            "|category|prediction.result|\n",
            "+--------+-----------------+\n",
            "|neg     |[neg]            |\n",
            "|neg     |[neg]            |\n",
            "|neg     |[neg]            |\n",
            "|neg     |[neg]            |\n",
            "|neg     |[neg]            |\n",
            "+--------+-----------------+\n",
            "only showing top 5 rows\n",
            "\n"
          ]
        }
      ],
      "source": [
        "preds.printSchema()\n",
        "preds.select(preds.prediction).show(5, truncate=False)\n",
        "preds.select(preds.category, preds.prediction.result).show(5, truncate=False)"
      ]
    },
    {
      "cell_type": "code",
      "execution_count": null,
      "metadata": {
        "colab": {
          "base_uri": "https://localhost:8080/"
        },
        "id": "O1pwRdfMXXHl",
        "outputId": "771dff1c-f275-40dd-9344-a6f2d83e52c0"
      },
      "outputs": [
        {
          "name": "stdout",
          "output_type": "stream",
          "text": [
            "              precision    recall  f1-score   support\n",
            "\n",
            "         neg       0.87      0.95      0.91       982\n",
            "         pos       0.86      0.69      0.76       445\n",
            "\n",
            "    accuracy                           0.87      1427\n",
            "   macro avg       0.86      0.82      0.83      1427\n",
            "weighted avg       0.87      0.87      0.86      1427\n",
            "\n"
          ]
        }
      ],
      "source": [
        "preds_df = pred_df.select('category','prediction.result').toPandas()\n",
        "preds_df['result'] = preds_df.result.apply(lambda x : x[0])\n",
        "\n",
        "print (classification_report(preds_df['category'], preds_df['result']))"
      ]
    },
    {
      "cell_type": "markdown",
      "metadata": {
        "id": "HAEFUdy1gyh1"
      },
      "source": [
        "## DocumentLogRegClassifier"
      ]
    },
    {
      "cell_type": "code",
      "execution_count": null,
      "metadata": {
        "id": "4YOr31bfg0hm"
      },
      "outputs": [],
      "source": [
        "document_assembler = nlp.DocumentAssembler()\\\n",
        "    .setInputCol(\"text\")\\\n",
        "    .setOutputCol(\"document\")\n",
        "\n",
        "tokenizer = nlp.Tokenizer() \\\n",
        "    .setInputCols([\"document\"]) \\\n",
        "    .setOutputCol(\"token\")\n",
        "\n",
        "normalizer = nlp.Normalizer() \\\n",
        "      .setInputCols([\"token\"]) \\\n",
        "      .setOutputCol(\"normalized\")\n",
        "\n",
        "stopwords_cleaner = nlp.StopWordsCleaner()\\\n",
        "      .setInputCols(\"normalized\")\\\n",
        "      .setOutputCol(\"cleanTokens\")\\\n",
        "      .setCaseSensitive(False)\n",
        "\n",
        "stemmer = nlp.Stemmer() \\\n",
        "      .setInputCols([\"cleanTokens\"]) \\\n",
        "      .setOutputCol(\"stem\")\n",
        "\n",
        "logreg = medical.DocumentLogRegClassifierApproach()\\\n",
        "    .setInputCols(\"stem\")\\\n",
        "    .setLabelCol(\"category\")\\\n",
        "    .setOutputCol(\"prediction\")\\\n",
        "    .setMaxIter(10)\\\n",
        "    .setTol(1e-6)\n",
        "\n",
        "clf_Pipeline = nlp.Pipeline(stages=[\n",
        "    document_assembler, \n",
        "    tokenizer,\n",
        "    normalizer,\n",
        "    stopwords_cleaner, \n",
        "    stemmer, \n",
        "    logreg])\n",
        "doclogreg_model = clf_Pipeline.fit(trainingData)"
      ]
    },
    {
      "cell_type": "code",
      "execution_count": null,
      "metadata": {
        "colab": {
          "base_uri": "https://localhost:8080/"
        },
        "id": "61zEw5EQg0d-",
        "outputId": "6623b831-f2e0-45fc-f309-7b01c1efac3c"
      },
      "outputs": [
        {
          "name": "stdout",
          "output_type": "stream",
          "text": [
            "              precision    recall  f1-score   support\n",
            "\n",
            "         neg       0.85      0.87      0.86       982\n",
            "         pos       0.70      0.67      0.68       445\n",
            "\n",
            "    accuracy                           0.81      1427\n",
            "   macro avg       0.78      0.77      0.77      1427\n",
            "weighted avg       0.81      0.81      0.81      1427\n",
            "\n"
          ]
        }
      ],
      "source": [
        "pred_df = doclogreg_model.transform(testData)\n",
        "\n",
        "preds_df = pred_df.select('category','prediction.result').toPandas()\n",
        "preds_df['result'] = preds_df.result.apply(lambda x : x[0])\n",
        "\n",
        "print (classification_report(preds_df['category'], preds_df['result']))"
      ]
    },
    {
      "cell_type": "markdown",
      "metadata": {
        "id": "IryBN-nlB8fu"
      },
      "source": [
        "# Mtsamples Dataset"
      ]
    },
    {
      "cell_type": "markdown",
      "metadata": {
        "id": "9VTK1AsahOpz"
      },
      "source": [
        "## Load Dataset"
      ]
    },
    {
      "cell_type": "code",
      "execution_count": null,
      "metadata": {
        "id": "CHPqy3NeZMWW"
      },
      "outputs": [],
      "source": [
        "!wget -q https://raw.githubusercontent.com/JohnSnowLabs/spark-nlp-workshop/master/tutorials/Certification_Trainings/Healthcare/data/mtsamples_classifier.csv"
      ]
    },
    {
      "cell_type": "code",
      "execution_count": null,
      "metadata": {
        "colab": {
          "base_uri": "https://localhost:8080/"
        },
        "id": "44eb4f5f-9065-4512-aad6-2afc89f74220",
        "outputId": "a8a86b58-d1ac-4169-ad02-b76726f5b6ce"
      },
      "outputs": [
        {
          "name": "stdout",
          "output_type": "stream",
          "text": [
            "+----------------+----------------------------------------------------------------------------------------------------+\n",
            "|        category|                                                                                                text|\n",
            "+----------------+----------------------------------------------------------------------------------------------------+\n",
            "|Gastroenterology| PROCEDURES PERFORMED: Colonoscopy. INDICATIONS: Renewed symptoms likely consistent with active f...|\n",
            "|Gastroenterology| OPERATION 1. Ivor-Lewis esophagogastrectomy. 2. Feeding jejunostomy. 3. Placement of two right-s...|\n",
            "|Gastroenterology| PREOPERATIVE DIAGNOSES: 1. Gastroesophageal reflux disease. 2. Chronic dyspepsia. POSTOPERATIVE ...|\n",
            "|Gastroenterology| PROCEDURE: Colonoscopy. PREOPERATIVE DIAGNOSES: Rectal bleeding and perirectal abscess. POSTOPER...|\n",
            "|Gastroenterology| PREOPERATIVE DIAGNOSIS: Right colon tumor. POSTOPERATIVE DIAGNOSES: 1. Right colon cancer. 2. As...|\n",
            "|Gastroenterology| PREOPERATIVE DIAGNOSIS (ES): 1. Cholelithiasis. 2. Cholecystitis. POSTOPERATIVE DIAGNOSIS (ES): ...|\n",
            "|Gastroenterology| The patient was taken to the GI lab and placed in the left lateral supine position. Continuous p...|\n",
            "|Gastroenterology| PREOPERATIVE DIAGNOSIS: Gastrostomy (gastrocutaneous fistula). POSTOPERATIVE DIAGNOSIS: Gastrost...|\n",
            "|Gastroenterology| PREOPERATIVE DIAGNOSIS: Acute acalculous cholecystitis. POSTOPERATIVE DIAGNOSIS: Acute hemorrhag...|\n",
            "|Gastroenterology| HISTORY OF PRESENT ILLNESS: This is a 10-year-old who was found with biliary atresia and underwe...|\n",
            "+----------------+----------------------------------------------------------------------------------------------------+\n",
            "only showing top 10 rows\n",
            "\n"
          ]
        }
      ],
      "source": [
        "spark_df = spark.read.csv(\"mtsamples_classifier.csv\", header = True)\n",
        "\n",
        "spark_df.show(10,truncate=100)"
      ]
    },
    {
      "cell_type": "code",
      "execution_count": null,
      "metadata": {
        "colab": {
          "base_uri": "https://localhost:8080/"
        },
        "id": "yApqQhjp_EZx",
        "outputId": "6176bee2-92ba-4c8a-cfb6-360de2c7aea2"
      },
      "outputs": [
        {
          "name": "stdout",
          "output_type": "stream",
          "text": [
            "root\n",
            " |-- category: string (nullable = true)\n",
            " |-- text: string (nullable = true)\n",
            "\n"
          ]
        }
      ],
      "source": [
        "spark_df.printSchema()"
      ]
    },
    {
      "cell_type": "code",
      "execution_count": null,
      "metadata": {
        "colab": {
          "base_uri": "https://localhost:8080/"
        },
        "id": "f0886fb5-fd9d-4199-b142-637cad880866",
        "outputId": "eeb71b9b-055a-4d03-d5d5-a0da69c0fd1e"
      },
      "outputs": [
        {
          "data": {
            "text/plain": [
              "638"
            ]
          },
          "execution_count": 133,
          "metadata": {},
          "output_type": "execute_result"
        }
      ],
      "source": [
        "spark_df.count()"
      ]
    },
    {
      "cell_type": "code",
      "execution_count": null,
      "metadata": {
        "colab": {
          "base_uri": "https://localhost:8080/"
        },
        "id": "241bd286-350c-421e-92f4-a80164ed2dc1",
        "outputId": "72e11b5f-5584-4db9-ebe6-3de5b8b33844"
      },
      "outputs": [
        {
          "name": "stdout",
          "output_type": "stream",
          "text": [
            "+----------------+-----+\n",
            "|        category|count|\n",
            "+----------------+-----+\n",
            "|         Urology|  115|\n",
            "|       Neurology|  143|\n",
            "|      Orthopedic|  223|\n",
            "|Gastroenterology|  157|\n",
            "+----------------+-----+\n",
            "\n"
          ]
        }
      ],
      "source": [
        "spark_df.groupBy(\"category\").count().show()"
      ]
    },
    {
      "cell_type": "code",
      "execution_count": null,
      "metadata": {
        "id": "db12fe42-90b6-434d-852a-ea86cad9a963"
      },
      "outputs": [],
      "source": [
        "(trainingData, testData) = spark_df.randomSplit([0.8, 0.2], seed = 42)"
      ]
    },
    {
      "cell_type": "code",
      "execution_count": null,
      "metadata": {
        "colab": {
          "base_uri": "https://localhost:8080/"
        },
        "id": "P3iINSk1hc2E",
        "outputId": "3be4ddd1-91bb-4a7b-a6cb-583424857fe1"
      },
      "outputs": [
        {
          "name": "stdout",
          "output_type": "stream",
          "text": [
            "+----------------+-----+\n",
            "|        category|count|\n",
            "+----------------+-----+\n",
            "|         Urology|   95|\n",
            "|       Neurology|  121|\n",
            "|      Orthopedic|  188|\n",
            "|Gastroenterology|  132|\n",
            "+----------------+-----+\n",
            "\n"
          ]
        }
      ],
      "source": [
        "trainingData.groupBy(\"category\").count().show()"
      ]
    },
    {
      "cell_type": "code",
      "execution_count": null,
      "metadata": {
        "colab": {
          "base_uri": "https://localhost:8080/"
        },
        "id": "UofCYygtKNw7",
        "outputId": "46121c9c-701f-475d-cae7-60ae954db601"
      },
      "outputs": [
        {
          "name": "stdout",
          "output_type": "stream",
          "text": [
            "+----------------+-----+\n",
            "|        category|count|\n",
            "+----------------+-----+\n",
            "|         Urology|   20|\n",
            "|       Neurology|   22|\n",
            "|      Orthopedic|   35|\n",
            "|Gastroenterology|   25|\n",
            "+----------------+-----+\n",
            "\n"
          ]
        }
      ],
      "source": [
        "testData.groupBy(\"category\").count().show()"
      ]
    },
    {
      "cell_type": "markdown",
      "metadata": {
        "id": "F5fxqMw69oZ_"
      },
      "source": [
        "## 100 Dimension Healthcare Embeddings (embeddings_healthcare_100d)\n",
        "\n"
      ]
    },
    {
      "cell_type": "markdown",
      "metadata": {
        "id": "z3E3d1_w9oZ_"
      },
      "source": [
        "We will extract [healthcare_100d embeddings](https://nlp.johnsnowlabs.com/2020/05/29/embeddings_healthcare_100d_en.html) and use it in the classificaiton model training."
      ]
    },
    {
      "cell_type": "code",
      "execution_count": null,
      "metadata": {
        "colab": {
          "base_uri": "https://localhost:8080/"
        },
        "id": "dGwOkIhg9oZ_",
        "outputId": "49f44b33-4064-4831-946d-e54ef5204fd3"
      },
      "outputs": [
        {
          "name": "stdout",
          "output_type": "stream",
          "text": [
            "embeddings_healthcare_100d download started this may take some time.\n",
            "Approximate size to download 475.8 MB\n",
            "[OK!]\n"
          ]
        }
      ],
      "source": [
        "document_assembler = nlp.DocumentAssembler()\\\n",
        "        .setInputCol(\"text\")\\\n",
        "        .setOutputCol(\"document\")\n",
        "\n",
        "tokenizer = nlp.Tokenizer() \\\n",
        "            .setInputCols([\"document\"]) \\\n",
        "            .setOutputCol(\"token\")\n",
        "\n",
        "word_embeddings = nlp.WordEmbeddingsModel.pretrained(\"embeddings_healthcare_100d\",\"en\",\"clinical/models\")\\\n",
        "        .setInputCols([\"document\",\"token\"])\\\n",
        "        .setOutputCol(\"word_embeddings\")\n",
        "\n",
        "sentence_embeddings = nlp.SentenceEmbeddings() \\\n",
        "        .setInputCols([\"document\", \"word_embeddings\"]) \\\n",
        "        .setOutputCol(\"sentence_embeddings\") \\\n",
        "        .setPoolingStrategy(\"AVERAGE\")\n",
        "\n",
        "embeddings_pipeline = nlp.Pipeline(\n",
        "    stages = [\n",
        "        document_assembler,\n",
        "        tokenizer,\n",
        "        word_embeddings,\n",
        "        sentence_embeddings,\n",
        "\n",
        "    ])"
      ]
    },
    {
      "cell_type": "code",
      "execution_count": null,
      "metadata": {
        "colab": {
          "base_uri": "https://localhost:8080/"
        },
        "id": "NtiB6Xgv9oZ_",
        "outputId": "a4654094-b79a-481a-925b-445038c62bca"
      },
      "outputs": [
        {
          "name": "stdout",
          "output_type": "stream",
          "text": [
            "+--------------------------------------------------------------------------------+----------------+--------------------------------------------------------------------------------+\n",
            "|                                                                            text|        category|                                                             sentence_embeddings|\n",
            "+--------------------------------------------------------------------------------+----------------+--------------------------------------------------------------------------------+\n",
            "| ADMISSION DIAGNOSIS: Symptomatic cholelithiasis. DISCHARGE DIAGNOSIS: Sympto...|Gastroenterology|[{sentence_embeddings, 0, 2228,  ADMISSION DIAGNOSIS: Symptomatic cholelithia...|\n",
            "| ADMITTING DIAGNOSES: Hiatal hernia, gastroesophageal reflux disease reflux. ...|Gastroenterology|[{sentence_embeddings, 0, 3237,  ADMITTING DIAGNOSES: Hiatal hernia, gastroes...|\n",
            "+--------------------------------------------------------------------------------+----------------+--------------------------------------------------------------------------------+\n",
            "only showing top 2 rows\n",
            "\n"
          ]
        }
      ],
      "source": [
        "trainingData_with_embeddings = embeddings_pipeline.fit(trainingData).transform(trainingData)\n",
        "trainingData_with_embeddings = trainingData_with_embeddings.select(\"text\",\"category\",\"sentence_embeddings\")\n",
        "trainingData_with_embeddings.show(2,truncate=80)"
      ]
    },
    {
      "cell_type": "code",
      "execution_count": null,
      "metadata": {
        "colab": {
          "base_uri": "https://localhost:8080/"
        },
        "id": "_hMuZrio9oaA",
        "outputId": "7cdd7156-d21d-49ab-9fa7-d6dc5aef8bc3"
      },
      "outputs": [
        {
          "name": "stdout",
          "output_type": "stream",
          "text": [
            "+--------------------------------------------------------------------------------+----------------+--------------------------------------------------------------------------------+\n",
            "|                                                                            text|        category|                                                             sentence_embeddings|\n",
            "+--------------------------------------------------------------------------------+----------------+--------------------------------------------------------------------------------+\n",
            "| ADMITTING DIAGNOSIS: Gastrointestinal bleed. HISTORY OF PRESENT ILLNESS: Ms....|Gastroenterology|[{sentence_embeddings, 0, 3978,  ADMITTING DIAGNOSIS: Gastrointestinal bleed....|\n",
            "| CHIEF COMPLAINT: Dysphagia and hematemesis while vomiting. HISTORY OF PRESEN...|Gastroenterology|[{sentence_embeddings, 0, 6515,  CHIEF COMPLAINT: Dysphagia and hematemesis w...|\n",
            "+--------------------------------------------------------------------------------+----------------+--------------------------------------------------------------------------------+\n",
            "only showing top 2 rows\n",
            "\n"
          ]
        }
      ],
      "source": [
        "testData_with_embeddings = embeddings_pipeline.fit(testData).transform(testData)\n",
        "testData_with_embeddings = testData_with_embeddings.select(\"text\",\"category\",\"sentence_embeddings\")\n",
        "testData_with_embeddings.show(2,truncate=80)"
      ]
    },
    {
      "cell_type": "code",
      "execution_count": null,
      "metadata": {
        "colab": {
          "base_uri": "https://localhost:8080/"
        },
        "id": "ZgqbexSQ9oaA",
        "outputId": "4e0f034f-3ca7-4f51-e127-5917a25de878"
      },
      "outputs": [
        {
          "name": "stdout",
          "output_type": "stream",
          "text": [
            "root\n",
            " |-- text: string (nullable = true)\n",
            " |-- category: string (nullable = true)\n",
            " |-- sentence_embeddings: array (nullable = true)\n",
            " |    |-- element: struct (containsNull = true)\n",
            " |    |    |-- annotatorType: string (nullable = true)\n",
            " |    |    |-- begin: integer (nullable = false)\n",
            " |    |    |-- end: integer (nullable = false)\n",
            " |    |    |-- result: string (nullable = true)\n",
            " |    |    |-- metadata: map (nullable = true)\n",
            " |    |    |    |-- key: string\n",
            " |    |    |    |-- value: string (valueContainsNull = true)\n",
            " |    |    |-- embeddings: array (nullable = true)\n",
            " |    |    |    |-- element: float (containsNull = false)\n",
            "\n"
          ]
        }
      ],
      "source": [
        "testData_with_embeddings.printSchema()"
      ]
    },
    {
      "cell_type": "code",
      "execution_count": null,
      "metadata": {
        "colab": {
          "base_uri": "https://localhost:8080/"
        },
        "id": "aX5ka1ok9oaA",
        "outputId": "41388565-a1d3-46b6-d0ad-15267f1ec5ab"
      },
      "outputs": [
        {
          "name": "stdout",
          "output_type": "stream",
          "text": [
            "+--------------------------------------------------------------------------------+\n",
            "|                                                  sentence_embeddings.embeddings|\n",
            "+--------------------------------------------------------------------------------+\n",
            "|[[-0.010433162, 0.0127568655, 0.110687375, 0.1609855, -0.14818177, -0.0508564...|\n",
            "|[[-0.0055608996, 0.018396137, 0.12305377, 0.13861515, -0.18651922, -0.0755996...|\n",
            "|[[-0.019461514, 0.060639214, 0.11142021, 0.12826534, -0.16216077, -0.10416892...|\n",
            "+--------------------------------------------------------------------------------+\n",
            "only showing top 3 rows\n",
            "\n"
          ]
        }
      ],
      "source": [
        "testData_with_embeddings.select(testData_with_embeddings.sentence_embeddings.embeddings).show(3,truncate=80)"
      ]
    },
    {
      "cell_type": "code",
      "execution_count": null,
      "metadata": {
        "id": "V99u_ru-9oaA"
      },
      "outputs": [],
      "source": [
        "log_folder=\"Mt_logs_healthcare_100d\"\n",
        "!mkdir -p $log_folder"
      ]
    },
    {
      "cell_type": "markdown",
      "metadata": {
        "id": "7HUPl4fh9oaA"
      },
      "source": [
        "### ClassifierDLApproach"
      ]
    },
    {
      "cell_type": "code",
      "execution_count": null,
      "metadata": {
        "id": "Dzhptr2o9oaA"
      },
      "outputs": [],
      "source": [
        "classifier_dl = nlp.ClassifierDLApproach()\\\n",
        "        .setInputCols([\"sentence_embeddings\"])\\\n",
        "        .setOutputCol(\"prediction\")\\\n",
        "        .setLabelColumn(\"category\")\\\n",
        "        .setBatchSize(8)\\\n",
        "        .setMaxEpochs(50)\\\n",
        "        .setLr(0.005)\\\n",
        "        .setDropout(0.3)\\\n",
        "        .setEnableOutputLogs(True)\\\n",
        "        .setOutputLogsPath(log_folder)\\\n",
        "        # .setValidationSplit(0.1)\n",
        "\n",
        "classifier_dl_pipeline = nlp.Pipeline(stages=[classifier_dl])"
      ]
    },
    {
      "cell_type": "code",
      "execution_count": null,
      "metadata": {
        "id": "GP8eSc7Q9oaB"
      },
      "outputs": [],
      "source": [
        "clfDL_model_hc100 = classifier_dl_pipeline.fit(trainingData_with_embeddings)"
      ]
    },
    {
      "cell_type": "code",
      "execution_count": null,
      "metadata": {
        "id": "3CKuuqYb9oaB"
      },
      "outputs": [],
      "source": [
        "preds = clfDL_model_hc100.transform(testData_with_embeddings)"
      ]
    },
    {
      "cell_type": "code",
      "execution_count": null,
      "metadata": {
        "colab": {
          "base_uri": "https://localhost:8080/"
        },
        "id": "uGFN40ju9oaB",
        "outputId": "28eea248-bda3-4f69-b1d3-6a9024995e44"
      },
      "outputs": [
        {
          "name": "stdout",
          "output_type": "stream",
          "text": [
            "                  precision    recall  f1-score   support\n",
            "\n",
            "Gastroenterology       0.78      0.72      0.75        25\n",
            "       Neurology       0.76      0.73      0.74        22\n",
            "      Orthopedic       0.89      0.94      0.92        35\n",
            "         Urology       0.57      0.60      0.59        20\n",
            "\n",
            "        accuracy                           0.77       102\n",
            "       macro avg       0.75      0.75      0.75       102\n",
            "    weighted avg       0.77      0.77      0.77       102\n",
            "\n"
          ]
        }
      ],
      "source": [
        "preds_df = preds.select(\"category\",\"text\",\"prediction.result\").toPandas()\n",
        "preds_df[\"result\"] = preds_df[\"result\"].apply(lambda x : x[0])\n",
        "\n",
        "print (classification_report(preds_df[\"category\"], preds_df[\"result\"]))"
      ]
    },
    {
      "cell_type": "markdown",
      "metadata": {
        "id": "zaaRNh3W9oaB"
      },
      "source": [
        "### MultiClassifierDL"
      ]
    },
    {
      "cell_type": "code",
      "execution_count": null,
      "metadata": {
        "id": "FnURVIYR9oaB"
      },
      "outputs": [],
      "source": [
        "# MultiClassifierDL accepts list of strings as input label. So we convert label column to array type.\n",
        "trainingData_with_embeddings = trainingData_with_embeddings.withColumn(\"category_array\", F.array(F.col(\"category\")))\n",
        "testData_with_embeddings = testData_with_embeddings.withColumn(\"category_array\", F.array(F.col(\"category\")))"
      ]
    },
    {
      "cell_type": "code",
      "execution_count": null,
      "metadata": {
        "id": "BHBThSDF9oaB"
      },
      "outputs": [],
      "source": [
        "multiClassifier =nlp.MultiClassifierDLApproach()\\\n",
        "  .setInputCols(\"sentence_embeddings\")\\\n",
        "  .setOutputCol(\"prediction\")\\\n",
        "  .setLabelColumn(\"category_array\")\\\n",
        "  .setBatchSize(8)\\\n",
        "  .setMaxEpochs(40)\\\n",
        "  .setLr(5e-3)\\\n",
        "  .setThreshold(0.5)\\\n",
        "  .setShufflePerEpoch(False)\\\n",
        "  .setEnableOutputLogs(True)\\\n",
        "  .setOutputLogsPath(log_folder)\\\n",
        "#   .setValidationSplit(0.1)\n",
        "\n",
        "multiClassifier_pipeline = nlp.Pipeline(\n",
        "    stages = [\n",
        "        multiClassifier\n",
        "    ])"
      ]
    },
    {
      "cell_type": "code",
      "execution_count": null,
      "metadata": {
        "id": "Ls8aG1NS9oaB"
      },
      "outputs": [],
      "source": [
        "multiClassifier_model_hc100 = multiClassifier_pipeline.fit(trainingData_with_embeddings)"
      ]
    },
    {
      "cell_type": "code",
      "execution_count": null,
      "metadata": {
        "id": "zbwCsFnA9oaC"
      },
      "outputs": [],
      "source": [
        "preds = multiClassifier_model_hc100.transform(testData_with_embeddings)"
      ]
    },
    {
      "cell_type": "code",
      "execution_count": null,
      "metadata": {
        "colab": {
          "base_uri": "https://localhost:8080/"
        },
        "id": "l5ZNDAi69oaC",
        "outputId": "5603e170-18a6-4a09-9e37-c634b3d3bf27"
      },
      "outputs": [
        {
          "data": {
            "text/plain": [
              "['Orthopedic']                        35\n",
              "['Urology']                           21\n",
              "['Gastroenterology']                  19\n",
              "['Neurology']                         17\n",
              "[]                                     5\n",
              "['Neurology', 'Orthopedic']            4\n",
              "['Orthopedic', 'Gastroenterology']     1\n",
              "Name: result, dtype: int64"
            ]
          },
          "execution_count": 152,
          "metadata": {},
          "output_type": "execute_result"
        }
      ],
      "source": [
        "preds_df = preds.select(\"category\",\"text\",\"prediction.result\",\"prediction.metadata\").toPandas()\n",
        "preds_df.result.apply(lambda x: str(x) ).value_counts()"
      ]
    },
    {
      "cell_type": "code",
      "execution_count": null,
      "metadata": {
        "colab": {
          "base_uri": "https://localhost:8080/"
        },
        "id": "jCaUwm8k9oaD",
        "outputId": "80127fe4-7058-4c29-cc16-cf491dd5716d"
      },
      "outputs": [
        {
          "data": {
            "text/plain": [
              "Orthopedic          36\n",
              "Urology             21\n",
              "Gastroenterology    20\n",
              "Neurology           20\n",
              "                     5\n",
              "Name: result, dtype: int64"
            ]
          },
          "execution_count": 153,
          "metadata": {},
          "output_type": "execute_result"
        }
      ],
      "source": [
        "# We will get the highest score label as result. You can control the number of zero label results with setThreshold() in the training.\n",
        "preds_df[\"scores\"] = preds_df.metadata.apply(lambda x: {k:float(v) for k,v in x[0].items()} if len(x)>=1 else \"\")\n",
        "preds_df[\"result\"] = preds_df.scores.apply(lambda x: max(x, key=x.get) if len(x)>=1 else \"\")\n",
        "preds_df[\"result\"].value_counts()"
      ]
    },
    {
      "cell_type": "code",
      "execution_count": null,
      "metadata": {
        "colab": {
          "base_uri": "https://localhost:8080/"
        },
        "id": "7UoCi9IN9oaD",
        "outputId": "2c5bef61-36ab-4b20-ef54-0baba537185d"
      },
      "outputs": [
        {
          "name": "stdout",
          "output_type": "stream",
          "text": [
            "                  precision    recall  f1-score   support\n",
            "\n",
            "                       0.00      0.00      0.00         0\n",
            "Gastroenterology       0.95      0.76      0.84        25\n",
            "       Neurology       0.80      0.73      0.76        22\n",
            "      Orthopedic       0.89      0.91      0.90        35\n",
            "         Urology       0.90      0.95      0.93        20\n",
            "\n",
            "        accuracy                           0.84       102\n",
            "       macro avg       0.71      0.67      0.69       102\n",
            "    weighted avg       0.89      0.84      0.86       102\n",
            "\n"
          ]
        }
      ],
      "source": [
        "print (classification_report(preds_df[\"category\"], preds_df[\"result\"]))"
      ]
    },
    {
      "cell_type": "markdown",
      "metadata": {
        "id": "xIjin3kR9oaD"
      },
      "source": [
        "### Generic Classifier"
      ]
    },
    {
      "cell_type": "code",
      "execution_count": null,
      "metadata": {
        "id": "Wwy2d7889oaD"
      },
      "outputs": [],
      "source": [
        "# !pip install -q tensorflow==2.7.0 tensorflow_addons"
      ]
    },
    {
      "cell_type": "code",
      "execution_count": null,
      "metadata": {
        "id": "kbBy9Fei9oaD"
      },
      "outputs": [],
      "source": [
        "from sparknlp_jsl.annotator import TFGraphBuilder\n",
        "\n",
        "graph_folder = \"gc_graph\"\n",
        "\n",
        "gc_graph_builder =medical.TFGraphBuilder()\\\n",
        "    .setModelName(\"generic_classifier\")\\\n",
        "    .setInputCols([\"features\"])\\\n",
        "    .setLabelColumn(\"category\")\\\n",
        "    .setHiddenLayers([300,200, 50])\\\n",
        "    .setHiddenAct(\"tanh\")\\\n",
        "    .setHiddenActL2(True)\\\n",
        "    .setBatchNorm(True)\\\n",
        "    .setGraphFolder(graph_folder)\\\n",
        "    .setGraphFile(\"gcf_graph_100d.pb\")"
      ]
    },
    {
      "cell_type": "code",
      "execution_count": null,
      "metadata": {
        "id": "k_4aonYQ9oaD"
      },
      "outputs": [],
      "source": [
        "features_asm =medical.FeaturesAssembler()\\\n",
        "    .setInputCols([\"sentence_embeddings\"])\\\n",
        "    .setOutputCol(\"features\")\n",
        "      \n",
        "gen_clf =medical.GenericClassifierApproach()\\\n",
        "    .setLabelColumn(\"category\")\\\n",
        "    .setInputCols(\"features\")\\\n",
        "    .setOutputCol(\"prediction\")\\\n",
        "    .setModelFile(f\"{graph_folder}/gcf_graph_100d.pb\")\\\n",
        "    .setEpochsNumber(50)\\\n",
        "    .setBatchSize(32)\\\n",
        "    .setLearningRate(0.001)\\\n",
        "    .setOutputLogsPath(log_folder)\\\n",
        "    .setDropout(0.3)\\\n",
        "    .setFixImbalance(False)\\\n",
        "    # .setValidationSplit(0.1)\n",
        "\n",
        "clf_Pipeline = nlp.Pipeline(stages=[\n",
        "    features_asm,\n",
        "    gc_graph_builder,\n",
        "    gen_clf])\n"
      ]
    },
    {
      "cell_type": "code",
      "execution_count": null,
      "metadata": {
        "colab": {
          "base_uri": "https://localhost:8080/"
        },
        "id": "4LA5_oIb9oaE",
        "outputId": "70874ba8-2897-4193-f529-6b145a36a186"
      },
      "outputs": [
        {
          "name": "stdout",
          "output_type": "stream",
          "text": [
            "TF Graph Builder configuration:\n",
            "Model name: generic_classifier\n",
            "Graph folder: gc_graph\n",
            "Graph file name: gcf_graph_100d.pb\n",
            "Build params: {'input_dim': 100, 'output_dim': 4, 'hidden_layers': [300, 200, 50], 'hidden_act': 'tanh', 'hidden_act_l2': True, 'batch_norm': True}\n",
            "generic_classifier graph exported to gc_graph/gcf_graph_100d.pb\n"
          ]
        }
      ],
      "source": [
        "generic_model_hc100 = clf_Pipeline.fit(trainingData_with_embeddings)"
      ]
    },
    {
      "cell_type": "code",
      "execution_count": null,
      "metadata": {
        "id": "YSMrZRPx9oaE"
      },
      "outputs": [],
      "source": [
        "pred_df = generic_model_hc100.transform(testData_with_embeddings)"
      ]
    },
    {
      "cell_type": "code",
      "execution_count": null,
      "metadata": {
        "colab": {
          "base_uri": "https://localhost:8080/"
        },
        "id": "geckbyhy9oaE",
        "outputId": "ed6e461f-f003-473e-9c64-cbb3b029dd32"
      },
      "outputs": [
        {
          "name": "stdout",
          "output_type": "stream",
          "text": [
            "                  precision    recall  f1-score   support\n",
            "\n",
            "Gastroenterology       0.88      0.92      0.90        25\n",
            "       Neurology       0.85      0.77      0.81        22\n",
            "      Orthopedic       0.87      0.94      0.90        35\n",
            "         Urology       0.94      0.85      0.89        20\n",
            "\n",
            "        accuracy                           0.88       102\n",
            "       macro avg       0.89      0.87      0.88       102\n",
            "    weighted avg       0.88      0.88      0.88       102\n",
            "\n"
          ]
        }
      ],
      "source": [
        "preds_df = pred_df.select('category','prediction.result').toPandas()\n",
        "preds_df['result'] = preds_df.result.apply(lambda x : x[0])\n",
        "\n",
        "print (classification_report(preds_df['category'], preds_df['result']))"
      ]
    },
    {
      "cell_type": "markdown",
      "metadata": {
        "id": "hOnIAdo9XKrE"
      },
      "source": [
        "### GenericLogRegClassifier"
      ]
    },
    {
      "cell_type": "code",
      "execution_count": null,
      "metadata": {
        "id": "xC6Kg1KeXKrE"
      },
      "outputs": [],
      "source": [
        "graph_folder = \"gc_graph\"\n",
        "\n",
        "gc_logreg_graph_builder = medical.TFGraphBuilder()\\\n",
        "    .setModelName(\"logreg_classifier\")\\\n",
        "    .setInputCols([\"feature_vector\"]) \\\n",
        "    .setLabelColumn(\"category\")\\\n",
        "    .setGraphFolder(graph_folder)\\\n",
        "    .setGraphFile(\"log_reg_graph.pb\")"
      ]
    },
    {
      "cell_type": "markdown",
      "metadata": {
        "id": "8R6PZ_qlXKrE"
      },
      "source": [
        "GenericLogRegClassifier needs outputs from FeaturesAssembler. The FeaturesAssembler is used to collect features from different columns or an embeddings column.\n",
        "\n",
        "The GenericLogRegClassifier takes FEATURE_VECTOR annotations as input, classifies them and outputs CATEGORY annotations."
      ]
    },
    {
      "cell_type": "code",
      "execution_count": null,
      "metadata": {
        "id": "EWrEoT2sXKrF"
      },
      "outputs": [],
      "source": [
        "features_asm = medical.FeaturesAssembler()\\\n",
        "    .setInputCols([\"sentence_embeddings\"])\\\n",
        "    .setOutputCol(\"feature_vector\")\n",
        "      \n",
        "gen_clf = medical.GenericLogRegClassifierApproach()\\\n",
        "    .setLabelColumn(\"category\")\\\n",
        "    .setInputCols(\"feature_vector\")\\\n",
        "    .setOutputCol(\"prediction\")\\\n",
        "    .setModelFile(f\"{graph_folder}/log_reg_graph.pb\")\\\n",
        "    .setEpochsNumber(25)\\\n",
        "    .setBatchSize(128)\\\n",
        "    .setLearningRate(0.004)\\\n",
        "    .setOutputLogsPath(log_folder)\\\n",
        "    .setDropout(0.2)\\\n",
        "    .setFixImbalance(True)\\\n",
        "    # .setValidationSplit(0.1)\n",
        "\n",
        "clf_Pipeline = nlp.Pipeline(stages=[\n",
        "    features_asm,\n",
        "    gc_logreg_graph_builder,\n",
        "    gen_clf])\n"
      ]
    },
    {
      "cell_type": "code",
      "execution_count": null,
      "metadata": {
        "colab": {
          "base_uri": "https://localhost:8080/"
        },
        "id": "Bfkzw4n3XKrF",
        "outputId": "b9e6a81b-e250-4203-eec4-88f06d80ec3b"
      },
      "outputs": [
        {
          "name": "stdout",
          "output_type": "stream",
          "text": [
            "TF Graph Builder configuration:\n",
            "Model name: logreg_classifier\n",
            "Graph folder: gc_graph\n",
            "Graph file name: log_reg_graph.pb\n",
            "Build params: {'input_dim': 100, 'output_dim': 4, 'hidden_layers': [], 'output_act': 'sigmoid'}\n",
            "logreg_classifier graph exported to gc_graph/log_reg_graph.pb\n"
          ]
        }
      ],
      "source": [
        "generic_model_hc100 = clf_Pipeline.fit(trainingData_with_embeddings)"
      ]
    },
    {
      "cell_type": "code",
      "execution_count": null,
      "metadata": {
        "colab": {
          "base_uri": "https://localhost:8080/"
        },
        "id": "_N1mFDPUXKrF",
        "outputId": "30a3d6b9-3f67-456e-b861-7611ccd722ae"
      },
      "outputs": [
        {
          "name": "stdout",
          "output_type": "stream",
          "text": [
            "Training 25 epochs\n",
            "Epoch 1/25\t0.09s\tLoss: 3.4591072\tACC: 0.253125\n",
            "Epoch 2/25\t0.01s\tLoss: 3.2175627\tACC: 0.24166667\n",
            "Epoch 3/25\t0.01s\tLoss: 3.0400388\tACC: 0.259375\n",
            "Epoch 4/25\t0.01s\tLoss: 2.935348\tACC: 0.27291667\n",
            "Epoch 5/25\t0.01s\tLoss: 2.8367057\tACC: 0.3484375\n",
            "Epoch 6/25\t0.01s\tLoss: 2.772933\tACC: 0.3875\n",
            "Epoch 7/25\t0.01s\tLoss: 2.7623243\tACC: 0.3515625\n",
            "Epoch 8/25\t0.01s\tLoss: 2.7234015\tACC: 0.35260418\n",
            "Epoch 9/25\t0.01s\tLoss: 2.6715605\tACC: 0.38333336\n",
            "Epoch 10/25\t0.01s\tLoss: 2.695961\tACC: 0.35625\n",
            "Epoch 11/25\t0.01s\tLoss: 2.6589093\tACC: 0.36822918\n",
            "Epoch 12/25\t0.01s\tLoss: 2.6475878\tACC: 0.38177085\n",
            "Epoch 13/25\t0.01s\tLoss: 2.6574771\tACC: 0.359375\n",
            "Epoch 14/25\t0.01s\tLoss: 2.6605709\tACC: 0.32760417\n",
            "Epoch 15/25\t0.01s\tLoss: 2.6249707\tACC: 0.35885417\n",
            "Epoch 16/25\t0.01s\tLoss: 2.6098797\tACC: 0.3697917\n",
            "Epoch 17/25\t0.01s\tLoss: 2.6222844\tACC: 0.41614586\n",
            "Epoch 18/25\t0.01s\tLoss: 2.6214879\tACC: 0.41302085\n",
            "Epoch 19/25\t0.01s\tLoss: 2.585606\tACC: 0.45885414\n",
            "Epoch 20/25\t0.01s\tLoss: 2.5880198\tACC: 0.4703125\n",
            "Epoch 21/25\t0.01s\tLoss: 2.5398655\tACC: 0.5015625\n",
            "Epoch 22/25\t0.01s\tLoss: 2.527521\tACC: 0.46875\n",
            "Epoch 23/25\t0.01s\tLoss: 2.5255723\tACC: 0.43229166\n",
            "Epoch 24/25\t0.01s\tLoss: 2.4909954\tACC: 0.4703125\n",
            "Epoch 25/25\t0.01s\tLoss: 2.5354474\tACC: 0.43489584\n",
            "Training completed.\n"
          ]
        }
      ],
      "source": [
        "!cat $log_folder/GenericLogRegClassifierApproach*"
      ]
    },
    {
      "cell_type": "code",
      "execution_count": null,
      "metadata": {
        "id": "FAP8vtiUXKrG"
      },
      "outputs": [],
      "source": [
        "pred_df = generic_model_hc100.transform(testData_with_embeddings)"
      ]
    },
    {
      "cell_type": "code",
      "execution_count": null,
      "metadata": {
        "colab": {
          "base_uri": "https://localhost:8080/"
        },
        "id": "C6TkkGApXKrG",
        "outputId": "4dac0b37-ffdc-4640-e21c-4ca5d765bbe2"
      },
      "outputs": [
        {
          "name": "stdout",
          "output_type": "stream",
          "text": [
            "root\n",
            " |-- text: string (nullable = true)\n",
            " |-- category: string (nullable = true)\n",
            " |-- sentence_embeddings: array (nullable = true)\n",
            " |    |-- element: struct (containsNull = true)\n",
            " |    |    |-- annotatorType: string (nullable = true)\n",
            " |    |    |-- begin: integer (nullable = false)\n",
            " |    |    |-- end: integer (nullable = false)\n",
            " |    |    |-- result: string (nullable = true)\n",
            " |    |    |-- metadata: map (nullable = true)\n",
            " |    |    |    |-- key: string\n",
            " |    |    |    |-- value: string (valueContainsNull = true)\n",
            " |    |    |-- embeddings: array (nullable = true)\n",
            " |    |    |    |-- element: float (containsNull = false)\n",
            " |-- category_array: array (nullable = false)\n",
            " |    |-- element: string (containsNull = true)\n",
            " |-- prediction: array (nullable = true)\n",
            " |    |-- element: struct (containsNull = true)\n",
            " |    |    |-- annotatorType: string (nullable = true)\n",
            " |    |    |-- begin: integer (nullable = false)\n",
            " |    |    |-- end: integer (nullable = false)\n",
            " |    |    |-- result: string (nullable = true)\n",
            " |    |    |-- metadata: map (nullable = true)\n",
            " |    |    |    |-- key: string\n",
            " |    |    |    |-- value: string (valueContainsNull = true)\n",
            " |    |    |-- embeddings: array (nullable = true)\n",
            " |    |    |    |-- element: float (containsNull = false)\n",
            "\n",
            "+--------------------------------------------------------------------------------------------------------------------------------------------------------------------------------------------------------------------------------------------------------------------------------------------------------------------------------------------+\n",
            "|prediction                                                                                                                                                                                                                                                                                                                                  |\n",
            "+--------------------------------------------------------------------------------------------------------------------------------------------------------------------------------------------------------------------------------------------------------------------------------------------------------------------------------------------+\n",
            "|[{category, 0, 3978, Gastroenterology, {Gastroenterology -> 0.99850166, Urology -> 0.0016348315, Orthopedic -> 0.03536487, sentence -> 0, Neurology -> 0.01229052}, []}]                                                                                                                                                                    |\n",
            "|[{category, 0, 6515, Gastroenterology, {Gastroenterology -> 0.97478414, Urology -> 4.977015E-6, Orthopedic -> 0.33015022, sentence -> 0, Neurology -> 0.006431457}, []}]                                                                                                                                                                    |\n",
            "|[{category, 0, 2187, Orthopedic, {Gastroenterology -> 0.99926466, Urology -> 4.9344283E-8, Orthopedic -> 0.66924846, sentence -> 0, Neurology -> 0.025282454}, []}, {category, 0, 2187, Gastroenterology, {Gastroenterology -> 0.99926466, Urology -> 4.9344283E-8, Orthopedic -> 0.66924846, sentence -> 0, Neurology -> 0.025282454}, []}]|\n",
            "|[{category, 0, 1279, Gastroenterology, {Gastroenterology -> 1.0, Urology -> 1.6817072E-5, Orthopedic -> 1.5491272E-5, sentence -> 0, Neurology -> 1.5020674E-6}, []}]                                                                                                                                                                       |\n",
            "|[{category, 0, 1677, Gastroenterology, {Gastroenterology -> 0.9999999, Urology -> 0.0019552445, Orthopedic -> 5.3364506E-6, sentence -> 0, Neurology -> 1.9282916E-5}, []}]                                                                                                                                                                 |\n",
            "+--------------------------------------------------------------------------------------------------------------------------------------------------------------------------------------------------------------------------------------------------------------------------------------------------------------------------------------------+\n",
            "only showing top 5 rows\n",
            "\n",
            "+----------------+------------------------------+\n",
            "|category        |prediction.result             |\n",
            "+----------------+------------------------------+\n",
            "|Gastroenterology|[Gastroenterology]            |\n",
            "|Gastroenterology|[Gastroenterology]            |\n",
            "|Gastroenterology|[Orthopedic, Gastroenterology]|\n",
            "|Gastroenterology|[Gastroenterology]            |\n",
            "|Gastroenterology|[Gastroenterology]            |\n",
            "+----------------+------------------------------+\n",
            "only showing top 5 rows\n",
            "\n"
          ]
        }
      ],
      "source": [
        "preds.printSchema()\n",
        "preds.select(preds.prediction).show(5, truncate=False)\n",
        "preds.select(preds.category, preds.prediction.result).show(5, truncate=False)"
      ]
    },
    {
      "cell_type": "code",
      "execution_count": null,
      "metadata": {
        "colab": {
          "base_uri": "https://localhost:8080/"
        },
        "id": "caRWCdadXKrG",
        "outputId": "fa2e305a-a65e-4ba4-e909-523d6f8913fd"
      },
      "outputs": [
        {
          "name": "stdout",
          "output_type": "stream",
          "text": [
            "                  precision    recall  f1-score   support\n",
            "\n",
            "Gastroenterology       0.83      0.20      0.32        25\n",
            "       Neurology       1.00      0.05      0.09        22\n",
            "      Orthopedic       0.37      1.00      0.54        35\n",
            "         Urology       0.00      0.00      0.00        20\n",
            "\n",
            "        accuracy                           0.40       102\n",
            "       macro avg       0.55      0.31      0.24       102\n",
            "    weighted avg       0.55      0.40      0.28       102\n",
            "\n"
          ]
        }
      ],
      "source": [
        "preds_df = pred_df.select('category','prediction.result').toPandas()\n",
        "preds_df['result'] = preds_df.result.apply(lambda x : x[0])\n",
        "\n",
        "print (classification_report(preds_df['category'], preds_df['result']))"
      ]
    },
    {
      "cell_type": "markdown",
      "metadata": {
        "id": "wNNMzT-XXYmA"
      },
      "source": [
        "### GenericSVMClassifier"
      ]
    },
    {
      "cell_type": "code",
      "execution_count": null,
      "metadata": {
        "id": "M7ludWh3XYmB"
      },
      "outputs": [],
      "source": [
        "graph_folder = \"gc_graph\"\n",
        "\n",
        "gc_svm_graph_builder = medical.TFGraphBuilder()\\\n",
        "    .setModelName(\"svm_classifier\")\\\n",
        "    .setInputCols([\"feature_vector\"]) \\\n",
        "    .setLabelColumn(\"category\")\\\n",
        "    .setGraphFolder(graph_folder)\\\n",
        "    .setGraphFile(\"svm_graph.pb\")"
      ]
    },
    {
      "cell_type": "markdown",
      "metadata": {
        "id": "pLqqH3HOXYmB"
      },
      "source": [
        "GenericSVMClassifier needs outputs from FeaturesAssembler. The FeaturesAssembler is used to collect features from different columns or an embeddings column.\n",
        "\n",
        "The GenericSVMClassifier takes FEATURE_VECTOR annotations as input, classifies them and outputs CATEGORY annotations."
      ]
    },
    {
      "cell_type": "code",
      "execution_count": null,
      "metadata": {
        "id": "jNZAxL3iXYmB"
      },
      "outputs": [],
      "source": [
        "features_asm = medical.FeaturesAssembler()\\\n",
        "    .setInputCols([\"sentence_embeddings\"])\\\n",
        "    .setOutputCol(\"feature_vector\")\n",
        "      \n",
        "gen_clf = medical.GenericSVMClassifierApproach()\\\n",
        "    .setLabelColumn(\"category\")\\\n",
        "    .setInputCols(\"feature_vector\")\\\n",
        "    .setOutputCol(\"prediction\")\\\n",
        "    .setModelFile(f\"{graph_folder}/svm_graph.pb\")\\\n",
        "    .setEpochsNumber(25)\\\n",
        "    .setBatchSize(128)\\\n",
        "    .setLearningRate(0.004)\\\n",
        "    .setOutputLogsPath(log_folder)\\\n",
        "    .setDropout(0.2)\\\n",
        "    .setFixImbalance(True)\\\n",
        "    # .setValidationSplit(0.1)\n",
        "\n",
        "clf_Pipeline = nlp.Pipeline(stages=[\n",
        "    features_asm,\n",
        "    gc_svm_graph_builder,\n",
        "    gen_clf])\n"
      ]
    },
    {
      "cell_type": "code",
      "execution_count": null,
      "metadata": {
        "colab": {
          "base_uri": "https://localhost:8080/"
        },
        "id": "FOpLj7MbXYmB",
        "outputId": "00deafc5-0e53-4e89-f1f7-7f579c1d89e6"
      },
      "outputs": [
        {
          "name": "stdout",
          "output_type": "stream",
          "text": [
            "TF Graph Builder configuration:\n",
            "Model name: svm_classifier\n",
            "Graph folder: gc_graph\n",
            "Graph file name: svm_graph.pb\n",
            "Build params: {'input_dim': 100, 'output_dim': 4, 'hidden_layers': [], 'output_act': 'sigmoid', 'loss_func': 'hinge'}\n",
            "svm_classifier graph exported to gc_graph/svm_graph.pb\n"
          ]
        }
      ],
      "source": [
        "generic_model_hc100 = clf_Pipeline.fit(trainingData_with_embeddings)"
      ]
    },
    {
      "cell_type": "code",
      "execution_count": null,
      "metadata": {
        "colab": {
          "base_uri": "https://localhost:8080/"
        },
        "id": "yuQFrBbNXYmB",
        "outputId": "0a1e5d08-bb3c-4257-da3d-70b9f20b6fc8"
      },
      "outputs": [
        {
          "name": "stdout",
          "output_type": "stream",
          "text": [
            "Training 25 epochs\n",
            "Epoch 1/25\t0.10s\tLoss: 6.008815\tACC: 0.24270833\n",
            "Epoch 2/25\t0.01s\tLoss: 5.29038\tACC: 0.375\n",
            "Epoch 3/25\t0.01s\tLoss: 5.417824\tACC: 0.41458336\n",
            "Epoch 4/25\t0.01s\tLoss: 5.2801194\tACC: 0.46666664\n",
            "Epoch 5/25\t0.01s\tLoss: 5.086564\tACC: 0.51770836\n",
            "Epoch 6/25\t0.01s\tLoss: 5.036023\tACC: 0.49427086\n",
            "Epoch 7/25\t0.01s\tLoss: 4.9865675\tACC: 0.5234375\n",
            "Epoch 8/25\t0.01s\tLoss: 4.865882\tACC: 0.55572915\n",
            "Epoch 9/25\t0.01s\tLoss: 4.833692\tACC: 0.5416666\n",
            "Epoch 10/25\t0.01s\tLoss: 4.748389\tACC: 0.56041664\n",
            "Epoch 11/25\t0.01s\tLoss: 4.7354565\tACC: 0.5609375\n",
            "Epoch 12/25\t0.01s\tLoss: 4.663606\tACC: 0.60729164\n",
            "Epoch 13/25\t0.01s\tLoss: 4.669315\tACC: 0.5572916\n",
            "Epoch 14/25\t0.01s\tLoss: 4.466198\tACC: 0.5942708\n",
            "Epoch 15/25\t0.01s\tLoss: 4.528787\tACC: 0.6020833\n",
            "Epoch 16/25\t0.01s\tLoss: 4.39523\tACC: 0.6234375\n",
            "Epoch 17/25\t0.01s\tLoss: 4.502599\tACC: 0.5875\n",
            "Epoch 18/25\t0.01s\tLoss: 4.354523\tACC: 0.66614586\n",
            "Epoch 19/25\t0.01s\tLoss: 4.4413395\tACC: 0.6078125\n",
            "Epoch 20/25\t0.01s\tLoss: 4.3317204\tACC: 0.64166665\n",
            "Epoch 21/25\t0.01s\tLoss: 4.333268\tACC: 0.6359375\n",
            "Epoch 22/25\t0.01s\tLoss: 4.291996\tACC: 0.6692709\n",
            "Epoch 23/25\t0.01s\tLoss: 4.1561184\tACC: 0.6671875\n",
            "Epoch 24/25\t0.01s\tLoss: 4.03034\tACC: 0.65729165\n",
            "Epoch 25/25\t0.01s\tLoss: 3.9498348\tACC: 0.678125\n",
            "Training completed.\n"
          ]
        }
      ],
      "source": [
        "!cat $log_folder/GenericSVMClassifierApproach*"
      ]
    },
    {
      "cell_type": "code",
      "execution_count": null,
      "metadata": {
        "id": "pN0Ts7VqXYmC"
      },
      "outputs": [],
      "source": [
        "pred_df = generic_model_hc100.transform(testData_with_embeddings)"
      ]
    },
    {
      "cell_type": "code",
      "execution_count": null,
      "metadata": {
        "colab": {
          "base_uri": "https://localhost:8080/"
        },
        "id": "EKZUU1fMXYmC",
        "outputId": "9e9caba0-ba69-4e29-b2cc-390ae5a02440"
      },
      "outputs": [
        {
          "name": "stdout",
          "output_type": "stream",
          "text": [
            "root\n",
            " |-- text: string (nullable = true)\n",
            " |-- category: string (nullable = true)\n",
            " |-- sentence_embeddings: array (nullable = true)\n",
            " |    |-- element: struct (containsNull = true)\n",
            " |    |    |-- annotatorType: string (nullable = true)\n",
            " |    |    |-- begin: integer (nullable = false)\n",
            " |    |    |-- end: integer (nullable = false)\n",
            " |    |    |-- result: string (nullable = true)\n",
            " |    |    |-- metadata: map (nullable = true)\n",
            " |    |    |    |-- key: string\n",
            " |    |    |    |-- value: string (valueContainsNull = true)\n",
            " |    |    |-- embeddings: array (nullable = true)\n",
            " |    |    |    |-- element: float (containsNull = false)\n",
            " |-- category_array: array (nullable = false)\n",
            " |    |-- element: string (containsNull = true)\n",
            " |-- prediction: array (nullable = true)\n",
            " |    |-- element: struct (containsNull = true)\n",
            " |    |    |-- annotatorType: string (nullable = true)\n",
            " |    |    |-- begin: integer (nullable = false)\n",
            " |    |    |-- end: integer (nullable = false)\n",
            " |    |    |-- result: string (nullable = true)\n",
            " |    |    |-- metadata: map (nullable = true)\n",
            " |    |    |    |-- key: string\n",
            " |    |    |    |-- value: string (valueContainsNull = true)\n",
            " |    |    |-- embeddings: array (nullable = true)\n",
            " |    |    |    |-- element: float (containsNull = false)\n",
            "\n",
            "+--------------------------------------------------------------------------------------------------------------------------------------------------------------------------------------------------------------------------------------------------------------------------------------------------------------------------------------------+\n",
            "|prediction                                                                                                                                                                                                                                                                                                                                  |\n",
            "+--------------------------------------------------------------------------------------------------------------------------------------------------------------------------------------------------------------------------------------------------------------------------------------------------------------------------------------------+\n",
            "|[{category, 0, 3978, Gastroenterology, {Gastroenterology -> 0.99850166, Urology -> 0.0016348315, Orthopedic -> 0.03536487, sentence -> 0, Neurology -> 0.01229052}, []}]                                                                                                                                                                    |\n",
            "|[{category, 0, 6515, Gastroenterology, {Gastroenterology -> 0.97478414, Urology -> 4.977015E-6, Orthopedic -> 0.33015022, sentence -> 0, Neurology -> 0.006431457}, []}]                                                                                                                                                                    |\n",
            "|[{category, 0, 2187, Orthopedic, {Gastroenterology -> 0.99926466, Urology -> 4.9344283E-8, Orthopedic -> 0.66924846, sentence -> 0, Neurology -> 0.025282454}, []}, {category, 0, 2187, Gastroenterology, {Gastroenterology -> 0.99926466, Urology -> 4.9344283E-8, Orthopedic -> 0.66924846, sentence -> 0, Neurology -> 0.025282454}, []}]|\n",
            "|[{category, 0, 1279, Gastroenterology, {Gastroenterology -> 1.0, Urology -> 1.6817072E-5, Orthopedic -> 1.5491272E-5, sentence -> 0, Neurology -> 1.5020674E-6}, []}]                                                                                                                                                                       |\n",
            "|[{category, 0, 1677, Gastroenterology, {Gastroenterology -> 0.9999999, Urology -> 0.0019552445, Orthopedic -> 5.3364506E-6, sentence -> 0, Neurology -> 1.9282916E-5}, []}]                                                                                                                                                                 |\n",
            "+--------------------------------------------------------------------------------------------------------------------------------------------------------------------------------------------------------------------------------------------------------------------------------------------------------------------------------------------+\n",
            "only showing top 5 rows\n",
            "\n",
            "+----------------+------------------------------+\n",
            "|category        |prediction.result             |\n",
            "+----------------+------------------------------+\n",
            "|Gastroenterology|[Gastroenterology]            |\n",
            "|Gastroenterology|[Gastroenterology]            |\n",
            "|Gastroenterology|[Orthopedic, Gastroenterology]|\n",
            "|Gastroenterology|[Gastroenterology]            |\n",
            "|Gastroenterology|[Gastroenterology]            |\n",
            "+----------------+------------------------------+\n",
            "only showing top 5 rows\n",
            "\n"
          ]
        }
      ],
      "source": [
        "preds.printSchema()\n",
        "preds.select(preds.prediction).show(5, truncate=False)\n",
        "preds.select(preds.category, preds.prediction.result).show(5, truncate=False)"
      ]
    },
    {
      "cell_type": "code",
      "execution_count": null,
      "metadata": {
        "colab": {
          "base_uri": "https://localhost:8080/"
        },
        "id": "KRFJdGyEXYmC",
        "outputId": "9db90c18-37d3-4fe9-aca3-835e1dc8cddb"
      },
      "outputs": [
        {
          "name": "stdout",
          "output_type": "stream",
          "text": [
            "                  precision    recall  f1-score   support\n",
            "\n",
            "Gastroenterology       0.61      0.88      0.72        25\n",
            "       Neurology       0.92      0.50      0.65        22\n",
            "      Orthopedic       0.63      0.97      0.76        35\n",
            "         Urology       0.00      0.00      0.00        20\n",
            "\n",
            "        accuracy                           0.66       102\n",
            "       macro avg       0.54      0.59      0.53       102\n",
            "    weighted avg       0.56      0.66      0.58       102\n",
            "\n"
          ]
        }
      ],
      "source": [
        "preds_df = pred_df.select('category','prediction.result').toPandas()\n",
        "preds_df['result'] = preds_df.result.apply(lambda x : x[0])\n",
        "\n",
        "print (classification_report(preds_df['category'], preds_df['result']))"
      ]
    },
    {
      "cell_type": "markdown",
      "metadata": {
        "id": "kF60nUsj9oaE"
      },
      "source": [
        "## 200 Dimension Healthcare Embeddings (embeddings_clinical)\n",
        "\n"
      ]
    },
    {
      "cell_type": "markdown",
      "metadata": {
        "id": "fBJMu9pr9oaE"
      },
      "source": [
        "Now we will extract [embeddings_clinical](https://nlp.johnsnowlabs.com/2020/01/28/embeddings_clinical_en.html) embeddings which has 200 dimension output and use this embeddings in the model training."
      ]
    },
    {
      "cell_type": "code",
      "execution_count": null,
      "metadata": {
        "colab": {
          "base_uri": "https://localhost:8080/"
        },
        "id": "PzSG35rb9oaE",
        "outputId": "399615d8-0de3-4909-8568-89df2bbc9209"
      },
      "outputs": [
        {
          "name": "stdout",
          "output_type": "stream",
          "text": [
            "embeddings_clinical download started this may take some time.\n",
            "Approximate size to download 1.6 GB\n",
            "[OK!]\n"
          ]
        }
      ],
      "source": [
        "document_assembler = nlp.DocumentAssembler()\\\n",
        "        .setInputCol(\"text\")\\\n",
        "        .setOutputCol(\"document\")\n",
        "\n",
        "tokenizer = nlp.Tokenizer() \\\n",
        "            .setInputCols([\"document\"]) \\\n",
        "            .setOutputCol(\"token\")\n",
        "\n",
        "word_embeddings = nlp.WordEmbeddingsModel.pretrained(\"embeddings_clinical\",\"en\",\"clinical/models\")\\\n",
        "        .setInputCols([\"document\",\"token\"])\\\n",
        "        .setOutputCol(\"word_embeddings\")\n",
        "\n",
        "sentence_embeddings = nlp.SentenceEmbeddings() \\\n",
        "        .setInputCols([\"document\", \"word_embeddings\"]) \\\n",
        "        .setOutputCol(\"sentence_embeddings\") \\\n",
        "        .setPoolingStrategy(\"AVERAGE\")\n",
        "\n",
        "embeddings_pipeline = nlp.Pipeline(\n",
        "    stages = [\n",
        "        document_assembler,\n",
        "        tokenizer,\n",
        "        word_embeddings,\n",
        "        sentence_embeddings,\n",
        "    ])"
      ]
    },
    {
      "cell_type": "code",
      "execution_count": null,
      "metadata": {
        "colab": {
          "base_uri": "https://localhost:8080/"
        },
        "id": "MXN8Cqyp9oaF",
        "outputId": "1f9b8637-0f45-4f73-a6fd-8076e0fbbea6"
      },
      "outputs": [
        {
          "name": "stdout",
          "output_type": "stream",
          "text": [
            "+--------------------------------------------------------------------------------+----------------+--------------------------------------------------------------------------------+\n",
            "|                                                                            text|        category|                                                             sentence_embeddings|\n",
            "+--------------------------------------------------------------------------------+----------------+--------------------------------------------------------------------------------+\n",
            "| ADMISSION DIAGNOSIS: Symptomatic cholelithiasis. DISCHARGE DIAGNOSIS: Sympto...|Gastroenterology|[{sentence_embeddings, 0, 2228,  ADMISSION DIAGNOSIS: Symptomatic cholelithia...|\n",
            "| ADMITTING DIAGNOSES: Hiatal hernia, gastroesophageal reflux disease reflux. ...|Gastroenterology|[{sentence_embeddings, 0, 3237,  ADMITTING DIAGNOSES: Hiatal hernia, gastroes...|\n",
            "+--------------------------------------------------------------------------------+----------------+--------------------------------------------------------------------------------+\n",
            "only showing top 2 rows\n",
            "\n"
          ]
        }
      ],
      "source": [
        "trainingData_with_embeddings = embeddings_pipeline.fit(trainingData).transform(trainingData)\\\n",
        "                                                  .select(\"text\",\"category\",\"sentence_embeddings\")\n",
        "trainingData_with_embeddings.show(2,truncate=80)"
      ]
    },
    {
      "cell_type": "code",
      "execution_count": null,
      "metadata": {
        "colab": {
          "base_uri": "https://localhost:8080/"
        },
        "id": "fpBY0D_y9oaF",
        "outputId": "b8dd549a-72d6-4ea8-abf6-9093d7c5b93f"
      },
      "outputs": [
        {
          "name": "stdout",
          "output_type": "stream",
          "text": [
            "+--------------------------------------------------------------------------------+----------------+--------------------------------------------------------------------------------+\n",
            "|                                                                            text|        category|                                                             sentence_embeddings|\n",
            "+--------------------------------------------------------------------------------+----------------+--------------------------------------------------------------------------------+\n",
            "| ADMITTING DIAGNOSIS: Gastrointestinal bleed. HISTORY OF PRESENT ILLNESS: Ms....|Gastroenterology|[{sentence_embeddings, 0, 3978,  ADMITTING DIAGNOSIS: Gastrointestinal bleed....|\n",
            "| CHIEF COMPLAINT: Dysphagia and hematemesis while vomiting. HISTORY OF PRESEN...|Gastroenterology|[{sentence_embeddings, 0, 6515,  CHIEF COMPLAINT: Dysphagia and hematemesis w...|\n",
            "+--------------------------------------------------------------------------------+----------------+--------------------------------------------------------------------------------+\n",
            "only showing top 2 rows\n",
            "\n"
          ]
        }
      ],
      "source": [
        "testData_with_embeddings = embeddings_pipeline.fit(testData).transform(testData)\\\n",
        "                                                  .select(\"text\",\"category\",\"sentence_embeddings\")\n",
        "testData_with_embeddings.show(2,truncate=80)"
      ]
    },
    {
      "cell_type": "code",
      "execution_count": null,
      "metadata": {
        "id": "GGIXfOlX9oaF"
      },
      "outputs": [],
      "source": [
        "log_folder=\"Mt_logs_healthcare_200d\""
      ]
    },
    {
      "cell_type": "markdown",
      "metadata": {
        "id": "5W6ac3UP9oaF"
      },
      "source": [
        "### ClassifierDLApproach "
      ]
    },
    {
      "cell_type": "code",
      "execution_count": null,
      "metadata": {
        "id": "2z7EgX-q9oaF"
      },
      "outputs": [],
      "source": [
        "classifier_dl = nlp.ClassifierDLApproach()\\\n",
        "        .setInputCols([\"sentence_embeddings\"])\\\n",
        "        .setOutputCol(\"class\")\\\n",
        "        .setLabelColumn(\"category\")\\\n",
        "        .setBatchSize(8)\\\n",
        "        .setMaxEpochs(50)\\\n",
        "        .setLr(0.005)\\\n",
        "        .setDropout(0.1)\\\n",
        "        .setEnableOutputLogs(True)\\\n",
        "        .setOutputLogsPath(log_folder)\n",
        "\n",
        "classifier_dl_pipeline = nlp.Pipeline(stages=[classifier_dl])"
      ]
    },
    {
      "cell_type": "code",
      "execution_count": null,
      "metadata": {
        "id": "U0mSiCzC9oaF"
      },
      "outputs": [],
      "source": [
        "clfDL_model_hc200 = classifier_dl_pipeline.fit(trainingData_with_embeddings)"
      ]
    },
    {
      "cell_type": "code",
      "execution_count": null,
      "metadata": {
        "colab": {
          "base_uri": "https://localhost:8080/"
        },
        "id": "boLjiAyP9oaF",
        "outputId": "ab6ec046-d4a0-4465-fd6d-77df1de8122a"
      },
      "outputs": [
        {
          "name": "stdout",
          "output_type": "stream",
          "text": [
            "                  precision    recall  f1-score   support\n",
            "\n",
            "Gastroenterology       0.73      0.76      0.75        25\n",
            "       Neurology       0.94      0.68      0.79        22\n",
            "      Orthopedic       0.87      0.97      0.92        35\n",
            "         Urology       0.62      0.65      0.63        20\n",
            "\n",
            "        accuracy                           0.79       102\n",
            "       macro avg       0.79      0.77      0.77       102\n",
            "    weighted avg       0.80      0.79      0.79       102\n",
            "\n"
          ]
        }
      ],
      "source": [
        "preds = clfDL_model_hc200.transform(testData_with_embeddings)\n",
        "\n",
        "preds_df = preds.select(\"category\",\"text\",\"class.result\").toPandas()\n",
        "preds_df[\"result\"] = preds_df[\"result\"].apply(lambda x : x[0])\n",
        "\n",
        "print (classification_report(preds_df[\"category\"], preds_df[\"result\"]))"
      ]
    },
    {
      "cell_type": "markdown",
      "metadata": {
        "id": "y_hWPzoj9oaG"
      },
      "source": [
        "### MultiClassifierDL\n",
        "\n"
      ]
    },
    {
      "cell_type": "code",
      "execution_count": null,
      "metadata": {
        "id": "mcUXN0td9oaG"
      },
      "outputs": [],
      "source": [
        "# MultiClassifierDL accepts list of strings as input label. So we convert label column to array type.\n",
        "trainingData_with_embeddings = trainingData_with_embeddings.withColumn(\"category_array\", F.array(F.col(\"category\")))\n",
        "testData_with_embeddings = testData_with_embeddings.withColumn(\"category_array\", F.array(F.col(\"category\")))"
      ]
    },
    {
      "cell_type": "code",
      "execution_count": null,
      "metadata": {
        "id": "4YBVhvLL9oaG"
      },
      "outputs": [],
      "source": [
        "multiClassifier =nlp.MultiClassifierDLApproach()\\\n",
        "  .setInputCols(\"sentence_embeddings\")\\\n",
        "  .setOutputCol(\"prediction\")\\\n",
        "  .setLabelColumn(\"category_array\")\\\n",
        "  .setBatchSize(16)\\\n",
        "  .setMaxEpochs(20)\\\n",
        "  .setLr(9e-3)\\\n",
        "  .setThreshold(0.2)\\\n",
        "  .setShufflePerEpoch(False)\\\n",
        "  .setEnableOutputLogs(True)\\\n",
        "  .setOutputLogsPath(log_folder)\\\n",
        "#   .setValidationSplit(0.1)\n",
        "\n",
        "multiClassifier_pipeline = nlp.Pipeline(\n",
        "    stages = [\n",
        "        multiClassifier\n",
        "    ])"
      ]
    },
    {
      "cell_type": "code",
      "execution_count": null,
      "metadata": {
        "id": "ABetRCmn9oaG"
      },
      "outputs": [],
      "source": [
        "multiClassifier_model_hc200 = multiClassifier_pipeline.fit(trainingData_with_embeddings)"
      ]
    },
    {
      "cell_type": "code",
      "execution_count": null,
      "metadata": {
        "id": "EdZbqqEk9oaG"
      },
      "outputs": [],
      "source": [
        "preds = multiClassifier_model_hc200.transform(testData_with_embeddings)"
      ]
    },
    {
      "cell_type": "code",
      "execution_count": null,
      "metadata": {
        "colab": {
          "base_uri": "https://localhost:8080/"
        },
        "id": "lY4vVTH29oaG",
        "outputId": "a3298729-b911-459e-9383-0eeca5f3cc3a"
      },
      "outputs": [
        {
          "data": {
            "text/plain": [
              "['Orthopedic']                        32\n",
              "['Gastroenterology']                  19\n",
              "['Urology']                           18\n",
              "['Neurology']                         13\n",
              "['Neurology', 'Orthopedic']           11\n",
              "[]                                     4\n",
              "['Orthopedic', 'Gastroenterology']     3\n",
              "['Urology', 'Orthopedic']              1\n",
              "['Urology', 'Gastroenterology']        1\n",
              "Name: result, dtype: int64"
            ]
          },
          "execution_count": 186,
          "metadata": {},
          "output_type": "execute_result"
        }
      ],
      "source": [
        "preds_df = preds.select(\"category\",\"text\",\"prediction.result\",\"prediction.metadata\").toPandas()\n",
        "preds_df.result.apply(lambda x: str(x) ).value_counts()"
      ]
    },
    {
      "cell_type": "code",
      "execution_count": null,
      "metadata": {
        "colab": {
          "base_uri": "https://localhost:8080/"
        },
        "id": "DOKLfZR59oaH",
        "outputId": "995b2bab-e867-455e-f16e-168835c4e1cb"
      },
      "outputs": [
        {
          "data": {
            "text/plain": [
              "Orthopedic          38\n",
              "Gastroenterology    22\n",
              "Urology             20\n",
              "Neurology           18\n",
              "                     4\n",
              "Name: result, dtype: int64"
            ]
          },
          "execution_count": 187,
          "metadata": {},
          "output_type": "execute_result"
        }
      ],
      "source": [
        "# We will get the highest score label as result. you can control the number of zero label results with setThreshold() in the training.\n",
        "preds_df[\"scores\"] = preds_df.metadata.apply(lambda x: {k:float(v) for k,v in x[0].items()} if len(x)>=1 else \"\")\n",
        "preds_df[\"result\"] = preds_df.scores.apply(lambda x: max(x, key=x.get) if len(x)>=1 else \"\")\n",
        "preds_df[\"result\"].value_counts()"
      ]
    },
    {
      "cell_type": "code",
      "execution_count": null,
      "metadata": {
        "colab": {
          "base_uri": "https://localhost:8080/"
        },
        "id": "2E9ibEbQ9oaH",
        "outputId": "e732a71c-1b5f-4c4a-8f47-36494ea53ec2"
      },
      "outputs": [
        {
          "name": "stdout",
          "output_type": "stream",
          "text": [
            "                  precision    recall  f1-score   support\n",
            "\n",
            "                       0.00      0.00      0.00         0\n",
            "Gastroenterology       1.00      0.88      0.94        25\n",
            "       Neurology       0.89      0.73      0.80        22\n",
            "      Orthopedic       0.87      0.94      0.90        35\n",
            "         Urology       0.90      0.90      0.90        20\n",
            "\n",
            "        accuracy                           0.87       102\n",
            "       macro avg       0.73      0.69      0.71       102\n",
            "    weighted avg       0.91      0.87      0.89       102\n",
            "\n"
          ]
        }
      ],
      "source": [
        "print (classification_report(preds_df[\"category\"], preds_df[\"result\"]))"
      ]
    },
    {
      "cell_type": "markdown",
      "metadata": {
        "id": "7gUOXo5W9oaH"
      },
      "source": [
        "### Generic Classifier "
      ]
    },
    {
      "cell_type": "code",
      "execution_count": null,
      "metadata": {
        "id": "YaFaVvVg9oaH"
      },
      "outputs": [],
      "source": [
        "# !pip install -q tensorflow==2.7.0 tensorflow_addons"
      ]
    },
    {
      "cell_type": "code",
      "execution_count": null,
      "metadata": {
        "id": "sRkEeD1N9oaH"
      },
      "outputs": [],
      "source": [
        "from sparknlp_jsl.annotator import TFGraphBuilder\n",
        "\n",
        "graph_folder = \"gc_graph\"\n",
        "\n",
        "gc_graph_builder =medical.TFGraphBuilder()\\\n",
        "    .setModelName(\"generic_classifier\")\\\n",
        "    .setInputCols([\"features\"])\\\n",
        "    .setLabelColumn(\"category\")\\\n",
        "    .setHiddenLayers([300,200, 50])\\\n",
        "    .setHiddenAct(\"tanh\")\\\n",
        "    .setHiddenActL2(True)\\\n",
        "    .setBatchNorm(True)\\\n",
        "    .setGraphFolder(graph_folder)\\\n",
        "    .setGraphFile(\"gcf_graph_200d.pb\")"
      ]
    },
    {
      "cell_type": "code",
      "execution_count": null,
      "metadata": {
        "id": "NhVTwRJP9oaH"
      },
      "outputs": [],
      "source": [
        "features_asm =medical.FeaturesAssembler()\\\n",
        "    .setInputCols([\"sentence_embeddings\"])\\\n",
        "    .setOutputCol(\"features\")\n",
        "      \n",
        "gen_clf =medical.GenericClassifierApproach()\\\n",
        "    .setLabelColumn(\"category\")\\\n",
        "    .setInputCols(\"features\")\\\n",
        "    .setOutputCol(\"prediction\")\\\n",
        "    .setModelFile(f\"{graph_folder}/gcf_graph_200d.pb\")\\\n",
        "    .setEpochsNumber(30)\\\n",
        "    .setBatchSize(32)\\\n",
        "    .setLearningRate(0.001)\\\n",
        "    .setOutputLogsPath(log_folder)\\\n",
        "    .setDropout(0.3)\\\n",
        "    .setFixImbalance(True)\\\n",
        "    # .setValidationSplit(0.1)\n",
        "\n",
        "clf_Pipeline = nlp.Pipeline(stages=[\n",
        "    features_asm,\n",
        "    gc_graph_builder,\n",
        "    gen_clf])\n"
      ]
    },
    {
      "cell_type": "code",
      "execution_count": null,
      "metadata": {
        "colab": {
          "base_uri": "https://localhost:8080/"
        },
        "id": "98tT6yJQ9oaH",
        "outputId": "5c41eb8e-a528-49b4-c644-87874ddd7077"
      },
      "outputs": [
        {
          "name": "stdout",
          "output_type": "stream",
          "text": [
            "TF Graph Builder configuration:\n",
            "Model name: generic_classifier\n",
            "Graph folder: gc_graph\n",
            "Graph file name: gcf_graph_200d.pb\n",
            "Build params: {'input_dim': 200, 'output_dim': 4, 'hidden_layers': [300, 200, 50], 'hidden_act': 'tanh', 'hidden_act_l2': True, 'batch_norm': True}\n",
            "generic_classifier graph exported to gc_graph/gcf_graph_200d.pb\n"
          ]
        }
      ],
      "source": [
        "generic_model_hc200 = clf_Pipeline.fit(trainingData_with_embeddings)"
      ]
    },
    {
      "cell_type": "code",
      "execution_count": null,
      "metadata": {
        "colab": {
          "base_uri": "https://localhost:8080/"
        },
        "id": "hsId-8YF9oaI",
        "outputId": "4ba1e03b-a16a-481e-f7e9-1665140fff09"
      },
      "outputs": [
        {
          "name": "stdout",
          "output_type": "stream",
          "text": [
            "                  precision    recall  f1-score   support\n",
            "\n",
            "Gastroenterology       0.88      0.88      0.88        25\n",
            "       Neurology       0.88      0.68      0.77        22\n",
            "      Orthopedic       0.85      0.94      0.89        35\n",
            "         Urology       0.86      0.90      0.88        20\n",
            "\n",
            "        accuracy                           0.86       102\n",
            "       macro avg       0.87      0.85      0.85       102\n",
            "    weighted avg       0.86      0.86      0.86       102\n",
            "\n"
          ]
        }
      ],
      "source": [
        "pred_df = generic_model_hc200.transform(testData_with_embeddings)\n",
        "\n",
        "preds_df = pred_df.select('category','prediction.result').toPandas()\n",
        "preds_df['result'] = preds_df.result.apply(lambda x : x[0])\n",
        "\n",
        "print (classification_report(preds_df['category'], preds_df['result']))"
      ]
    },
    {
      "cell_type": "markdown",
      "metadata": {
        "id": "yz9TOU2DXReN"
      },
      "source": [
        "### GenericLogRegClassifier"
      ]
    },
    {
      "cell_type": "code",
      "execution_count": null,
      "metadata": {
        "id": "w-_bSCH6XReN"
      },
      "outputs": [],
      "source": [
        "graph_folder = \"gc_graph\"\n",
        "\n",
        "gc_logreg_graph_builder = medical.TFGraphBuilder()\\\n",
        "    .setModelName(\"logreg_classifier\")\\\n",
        "    .setInputCols([\"feature_vector\"]) \\\n",
        "    .setLabelColumn(\"category\")\\\n",
        "    .setGraphFolder(graph_folder)\\\n",
        "    .setGraphFile(\"log_reg_graph.pb\")"
      ]
    },
    {
      "cell_type": "markdown",
      "metadata": {
        "id": "e2JtY0P5XReN"
      },
      "source": [
        "GenericLogRegClassifier needs outputs from FeaturesAssembler. The FeaturesAssembler is used to collect features from different columns or an embeddings column.\n",
        "\n",
        "The GenericLogRegClassifier takes FEATURE_VECTOR annotations as input, classifies them and outputs CATEGORY annotations."
      ]
    },
    {
      "cell_type": "code",
      "execution_count": null,
      "metadata": {
        "id": "baz581gzXReN"
      },
      "outputs": [],
      "source": [
        "features_asm = medical.FeaturesAssembler()\\\n",
        "    .setInputCols([\"sentence_embeddings\"])\\\n",
        "    .setOutputCol(\"feature_vector\")\n",
        "      \n",
        "gen_clf = medical.GenericLogRegClassifierApproach()\\\n",
        "    .setLabelColumn(\"category\")\\\n",
        "    .setInputCols(\"feature_vector\")\\\n",
        "    .setOutputCol(\"prediction\")\\\n",
        "    .setModelFile(f\"{graph_folder}/log_reg_graph.pb\")\\\n",
        "    .setEpochsNumber(25)\\\n",
        "    .setBatchSize(128)\\\n",
        "    .setLearningRate(0.004)\\\n",
        "    .setOutputLogsPath(log_folder)\\\n",
        "    .setDropout(0.2)\\\n",
        "    .setFixImbalance(True)\\\n",
        "    # .setValidationSplit(0.1)\n",
        "\n",
        "clf_Pipeline = nlp.Pipeline(stages=[\n",
        "    features_asm,\n",
        "    gc_logreg_graph_builder,\n",
        "    gen_clf])\n"
      ]
    },
    {
      "cell_type": "code",
      "execution_count": null,
      "metadata": {
        "colab": {
          "base_uri": "https://localhost:8080/"
        },
        "id": "jVoRHwNmXReO",
        "outputId": "16cbbc3d-6bfd-4f35-fef8-12ce3e3633b2"
      },
      "outputs": [
        {
          "name": "stdout",
          "output_type": "stream",
          "text": [
            "TF Graph Builder configuration:\n",
            "Model name: logreg_classifier\n",
            "Graph folder: gc_graph\n",
            "Graph file name: log_reg_graph.pb\n",
            "Build params: {'input_dim': 200, 'output_dim': 4, 'hidden_layers': [], 'output_act': 'sigmoid'}\n",
            "logreg_classifier graph exported to gc_graph/log_reg_graph.pb\n"
          ]
        }
      ],
      "source": [
        "generic_model_hc100 = clf_Pipeline.fit(trainingData_with_embeddings)"
      ]
    },
    {
      "cell_type": "code",
      "execution_count": null,
      "metadata": {
        "colab": {
          "base_uri": "https://localhost:8080/"
        },
        "id": "cZ0zrybpXReO",
        "outputId": "8744fc7e-e5e5-4e99-c204-642fb969abb0"
      },
      "outputs": [
        {
          "name": "stdout",
          "output_type": "stream",
          "text": [
            "Training 25 epochs\n",
            "Epoch 1/25\t0.33s\tLoss: 3.5066636\tACC: 0.21458332\n",
            "Epoch 2/25\t0.01s\tLoss: 3.1059568\tACC: 0.21197918\n",
            "Epoch 3/25\t0.01s\tLoss: 2.8738773\tACC: 0.2682292\n",
            "Epoch 4/25\t0.01s\tLoss: 2.7688437\tACC: 0.3723958\n",
            "Epoch 5/25\t0.01s\tLoss: 2.711024\tACC: 0.37708333\n",
            "Epoch 6/25\t0.01s\tLoss: 2.7015207\tACC: 0.35572916\n",
            "Epoch 7/25\t0.01s\tLoss: 2.65962\tACC: 0.36302084\n",
            "Epoch 8/25\t0.01s\tLoss: 2.6975627\tACC: 0.3255208\n",
            "Epoch 9/25\t0.01s\tLoss: 2.671928\tACC: 0.36666667\n",
            "Epoch 10/25\t0.01s\tLoss: 2.6496096\tACC: 0.3890625\n",
            "Epoch 11/25\t0.01s\tLoss: 2.628315\tACC: 0.4296875\n",
            "Epoch 12/25\t0.01s\tLoss: 2.577706\tACC: 0.5130209\n",
            "Epoch 13/25\t0.01s\tLoss: 2.5484698\tACC: 0.5161458\n",
            "Epoch 14/25\t0.01s\tLoss: 2.556626\tACC: 0.44375\n",
            "Epoch 15/25\t0.01s\tLoss: 2.5364676\tACC: 0.40104166\n",
            "Epoch 16/25\t0.01s\tLoss: 2.5288365\tACC: 0.44479164\n",
            "Epoch 17/25\t0.01s\tLoss: 2.5167692\tACC: 0.46666664\n",
            "Epoch 18/25\t0.01s\tLoss: 2.4864218\tACC: 0.51770836\n",
            "Epoch 19/25\t0.01s\tLoss: 2.4740875\tACC: 0.53802085\n",
            "Epoch 20/25\t0.01s\tLoss: 2.4456973\tACC: 0.53125\n",
            "Epoch 21/25\t0.01s\tLoss: 2.4408014\tACC: 0.5260416\n",
            "Epoch 22/25\t0.01s\tLoss: 2.4672742\tACC: 0.49322915\n",
            "Epoch 23/25\t0.01s\tLoss: 2.4483283\tACC: 0.4953125\n",
            "Epoch 24/25\t0.01s\tLoss: 2.4201846\tACC: 0.5541667\n",
            "Epoch 25/25\t0.01s\tLoss: 2.412768\tACC: 0.596875\n",
            "Training completed.\n"
          ]
        }
      ],
      "source": [
        "!cat $log_folder/GenericLogRegClassifierApproach*"
      ]
    },
    {
      "cell_type": "code",
      "execution_count": null,
      "metadata": {
        "id": "uHg_HbimXReO"
      },
      "outputs": [],
      "source": [
        "pred_df = generic_model_hc100.transform(testData_with_embeddings)"
      ]
    },
    {
      "cell_type": "code",
      "execution_count": null,
      "metadata": {
        "colab": {
          "base_uri": "https://localhost:8080/"
        },
        "id": "Meq71t1BXReO",
        "outputId": "8b45ddc3-9583-413e-b4da-220ae8a3a472"
      },
      "outputs": [
        {
          "name": "stdout",
          "output_type": "stream",
          "text": [
            "root\n",
            " |-- text: string (nullable = true)\n",
            " |-- category: string (nullable = true)\n",
            " |-- sentence_embeddings: array (nullable = true)\n",
            " |    |-- element: struct (containsNull = true)\n",
            " |    |    |-- annotatorType: string (nullable = true)\n",
            " |    |    |-- begin: integer (nullable = false)\n",
            " |    |    |-- end: integer (nullable = false)\n",
            " |    |    |-- result: string (nullable = true)\n",
            " |    |    |-- metadata: map (nullable = true)\n",
            " |    |    |    |-- key: string\n",
            " |    |    |    |-- value: string (valueContainsNull = true)\n",
            " |    |    |-- embeddings: array (nullable = true)\n",
            " |    |    |    |-- element: float (containsNull = false)\n",
            " |-- category_array: array (nullable = false)\n",
            " |    |-- element: string (containsNull = true)\n",
            " |-- prediction: array (nullable = true)\n",
            " |    |-- element: struct (containsNull = true)\n",
            " |    |    |-- annotatorType: string (nullable = true)\n",
            " |    |    |-- begin: integer (nullable = false)\n",
            " |    |    |-- end: integer (nullable = false)\n",
            " |    |    |-- result: string (nullable = true)\n",
            " |    |    |-- metadata: map (nullable = true)\n",
            " |    |    |    |-- key: string\n",
            " |    |    |    |-- value: string (valueContainsNull = true)\n",
            " |    |    |-- embeddings: array (nullable = true)\n",
            " |    |    |    |-- element: float (containsNull = false)\n",
            "\n",
            "+--------------------------------------------------------------------------------------------------------------------------------------------------------------------------------------------------------------------------------------------------------------------------------------------------------------------------------------------+\n",
            "|prediction                                                                                                                                                                                                                                                                                                                                  |\n",
            "+--------------------------------------------------------------------------------------------------------------------------------------------------------------------------------------------------------------------------------------------------------------------------------------------------------------------------------------------+\n",
            "|[{category, 0, 3978, Gastroenterology, {Gastroenterology -> 0.98011357, Urology -> 3.025794E-4, Orthopedic -> 0.030288545, sentence -> 0, Neurology -> 0.13503543}, []}]                                                                                                                                                                    |\n",
            "|[{category, 0, 6515, Orthopedic, {Gastroenterology -> 0.9824294, Urology -> 2.4011006E-6, Orthopedic -> 0.44919255, sentence -> 0, Neurology -> 0.0042110723}, []}, {category, 0, 6515, Gastroenterology, {Gastroenterology -> 0.9824294, Urology -> 2.4011006E-6, Orthopedic -> 0.44919255, sentence -> 0, Neurology -> 0.0042110723}, []}]|\n",
            "|[{category, 0, 2187, Orthopedic, {Gastroenterology -> 0.9990965, Urology -> 1.5377817E-6, Orthopedic -> 0.46656576, sentence -> 0, Neurology -> 0.0024354695}, []}, {category, 0, 2187, Gastroenterology, {Gastroenterology -> 0.9990965, Urology -> 1.5377817E-6, Orthopedic -> 0.46656576, sentence -> 0, Neurology -> 0.0024354695}, []}]|\n",
            "|[{category, 0, 1279, Gastroenterology, {Gastroenterology -> 0.9999999, Urology -> 1.7776685E-5, Orthopedic -> 1.6405356E-5, sentence -> 0, Neurology -> 2.3847826E-4}, []}]                                                                                                                                                                 |\n",
            "|[{category, 0, 1677, Gastroenterology, {Gastroenterology -> 0.9999949, Urology -> 3.8535177E-6, Orthopedic -> 2.9486656E-4, sentence -> 0, Neurology -> 7.091606E-5}, []}]                                                                                                                                                                  |\n",
            "+--------------------------------------------------------------------------------------------------------------------------------------------------------------------------------------------------------------------------------------------------------------------------------------------------------------------------------------------+\n",
            "only showing top 5 rows\n",
            "\n",
            "+----------------+------------------------------+\n",
            "|category        |prediction.result             |\n",
            "+----------------+------------------------------+\n",
            "|Gastroenterology|[Gastroenterology]            |\n",
            "|Gastroenterology|[Orthopedic, Gastroenterology]|\n",
            "|Gastroenterology|[Orthopedic, Gastroenterology]|\n",
            "|Gastroenterology|[Gastroenterology]            |\n",
            "|Gastroenterology|[Gastroenterology]            |\n",
            "+----------------+------------------------------+\n",
            "only showing top 5 rows\n",
            "\n"
          ]
        }
      ],
      "source": [
        "preds.printSchema()\n",
        "preds.select(preds.prediction).show(5, truncate=False)\n",
        "preds.select(preds.category, preds.prediction.result).show(5, truncate=False)"
      ]
    },
    {
      "cell_type": "code",
      "execution_count": null,
      "metadata": {
        "colab": {
          "base_uri": "https://localhost:8080/"
        },
        "id": "NjByOpYPXReO",
        "outputId": "bb0357aa-d836-493c-ff1e-9c5d544858a5"
      },
      "outputs": [
        {
          "name": "stdout",
          "output_type": "stream",
          "text": [
            "                  precision    recall  f1-score   support\n",
            "\n",
            "Gastroenterology       0.73      0.64      0.68        25\n",
            "       Neurology       0.80      0.36      0.50        22\n",
            "      Orthopedic       0.49      0.97      0.65        35\n",
            "         Urology       0.00      0.00      0.00        20\n",
            "\n",
            "        accuracy                           0.57       102\n",
            "       macro avg       0.50      0.49      0.46       102\n",
            "    weighted avg       0.52      0.57      0.50       102\n",
            "\n"
          ]
        }
      ],
      "source": [
        "preds_df = pred_df.select('category','prediction.result').toPandas()\n",
        "preds_df['result'] = preds_df.result.apply(lambda x : x[0])\n",
        "\n",
        "print (classification_report(preds_df['category'], preds_df['result']))"
      ]
    },
    {
      "cell_type": "markdown",
      "metadata": {
        "id": "1lkESKp6XaCP"
      },
      "source": [
        "### GenericSVMClassifier"
      ]
    },
    {
      "cell_type": "code",
      "execution_count": null,
      "metadata": {
        "id": "gs_iLR10XaCP"
      },
      "outputs": [],
      "source": [
        "graph_folder = \"gc_graph\"\n",
        "\n",
        "gc_svm_graph_builder = medical.TFGraphBuilder()\\\n",
        "    .setModelName(\"svm_classifier\")\\\n",
        "    .setInputCols([\"feature_vector\"]) \\\n",
        "    .setLabelColumn(\"category\")\\\n",
        "    .setGraphFolder(graph_folder)\\\n",
        "    .setGraphFile(\"svm_graph.pb\")"
      ]
    },
    {
      "cell_type": "markdown",
      "metadata": {
        "id": "EMVMo7DKXaCP"
      },
      "source": [
        "GenericSVMClassifier needs outputs from FeaturesAssembler. The FeaturesAssembler is used to collect features from different columns or an embeddings column.\n",
        "\n",
        "The GenericSVMClassifier takes FEATURE_VECTOR annotations as input, classifies them and outputs CATEGORY annotations."
      ]
    },
    {
      "cell_type": "code",
      "execution_count": null,
      "metadata": {
        "id": "QVu8zWtJXaCQ"
      },
      "outputs": [],
      "source": [
        "features_asm = medical.FeaturesAssembler()\\\n",
        "    .setInputCols([\"sentence_embeddings\"])\\\n",
        "    .setOutputCol(\"feature_vector\")\n",
        "      \n",
        "gen_clf = medical.GenericSVMClassifierApproach()\\\n",
        "    .setLabelColumn(\"category\")\\\n",
        "    .setInputCols(\"feature_vector\")\\\n",
        "    .setOutputCol(\"prediction\")\\\n",
        "    .setModelFile(f\"{graph_folder}/svm_graph.pb\")\\\n",
        "    .setEpochsNumber(25)\\\n",
        "    .setBatchSize(128)\\\n",
        "    .setLearningRate(0.004)\\\n",
        "    .setOutputLogsPath(log_folder)\\\n",
        "    .setDropout(0.2)\\\n",
        "    .setFixImbalance(True)\\\n",
        "    # .setValidationSplit(0.1)\n",
        "\n",
        "clf_Pipeline = nlp.Pipeline(stages=[\n",
        "    features_asm,\n",
        "    gc_svm_graph_builder,\n",
        "    gen_clf])\n"
      ]
    },
    {
      "cell_type": "code",
      "execution_count": null,
      "metadata": {
        "colab": {
          "base_uri": "https://localhost:8080/"
        },
        "id": "DPRquqVZXaCQ",
        "outputId": "06cd8323-abf2-455d-b536-a66a2226cb69"
      },
      "outputs": [
        {
          "name": "stdout",
          "output_type": "stream",
          "text": [
            "TF Graph Builder configuration:\n",
            "Model name: svm_classifier\n",
            "Graph folder: gc_graph\n",
            "Graph file name: svm_graph.pb\n",
            "Build params: {'input_dim': 200, 'output_dim': 4, 'hidden_layers': [], 'output_act': 'sigmoid', 'loss_func': 'hinge'}\n",
            "svm_classifier graph exported to gc_graph/svm_graph.pb\n"
          ]
        }
      ],
      "source": [
        "generic_model_hc100 = clf_Pipeline.fit(trainingData_with_embeddings)"
      ]
    },
    {
      "cell_type": "code",
      "execution_count": null,
      "metadata": {
        "colab": {
          "base_uri": "https://localhost:8080/"
        },
        "id": "aLQpgEx-XaCQ",
        "outputId": "38d1ce0a-c0a9-47c4-86f1-b7c81d2ef2ac"
      },
      "outputs": [
        {
          "name": "stdout",
          "output_type": "stream",
          "text": [
            "Training 25 epochs\n",
            "Epoch 1/25\t0.33s\tLoss: 5.5190153\tACC: 0.31458333\n",
            "Epoch 2/25\t0.01s\tLoss: 5.4710207\tACC: 0.32760417\n",
            "Epoch 3/25\t0.01s\tLoss: 5.2188997\tACC: 0.403125\n",
            "Epoch 4/25\t0.01s\tLoss: 5.172654\tACC: 0.41666666\n",
            "Epoch 5/25\t0.01s\tLoss: 5.084012\tACC: 0.45885414\n",
            "Epoch 6/25\t0.01s\tLoss: 4.930412\tACC: 0.49375\n",
            "Epoch 7/25\t0.01s\tLoss: 4.817296\tACC: 0.5697917\n",
            "Epoch 8/25\t0.01s\tLoss: 4.875178\tACC: 0.5385417\n",
            "Epoch 9/25\t0.01s\tLoss: 4.7677846\tACC: 0.5630208\n",
            "Epoch 10/25\t0.01s\tLoss: 4.6884985\tACC: 0.58802086\n",
            "Epoch 11/25\t0.01s\tLoss: 4.560391\tACC: 0.6302084\n",
            "Epoch 12/25\t0.01s\tLoss: 4.577107\tACC: 0.64427084\n",
            "Epoch 13/25\t0.01s\tLoss: 4.516133\tACC: 0.6328125\n",
            "Epoch 14/25\t0.01s\tLoss: 4.4473352\tACC: 0.64427084\n",
            "Epoch 15/25\t0.01s\tLoss: 4.4356766\tACC: 0.6333333\n",
            "Epoch 16/25\t0.01s\tLoss: 4.310003\tACC: 0.7026042\n",
            "Epoch 17/25\t0.01s\tLoss: 4.2137804\tACC: 0.671875\n",
            "Epoch 18/25\t0.01s\tLoss: 4.231407\tACC: 0.6625\n",
            "Epoch 19/25\t0.01s\tLoss: 4.1475825\tACC: 0.6979166\n",
            "Epoch 20/25\t0.01s\tLoss: 4.117505\tACC: 0.6921875\n",
            "Epoch 21/25\t0.01s\tLoss: 4.0049157\tACC: 0.70885414\n",
            "Epoch 22/25\t0.01s\tLoss: 3.9670715\tACC: 0.7046875\n",
            "Epoch 23/25\t0.01s\tLoss: 3.9961598\tACC: 0.68177086\n",
            "Epoch 24/25\t0.01s\tLoss: 3.8398445\tACC: 0.7125\n",
            "Epoch 25/25\t0.01s\tLoss: 3.8555665\tACC: 0.69114584\n",
            "Training completed.\n"
          ]
        }
      ],
      "source": [
        "!cat $log_folder/GenericSVMClassifierApproach*"
      ]
    },
    {
      "cell_type": "code",
      "execution_count": null,
      "metadata": {
        "id": "sgC_XhZJXaCQ"
      },
      "outputs": [],
      "source": [
        "pred_df = generic_model_hc100.transform(testData_with_embeddings)"
      ]
    },
    {
      "cell_type": "code",
      "execution_count": null,
      "metadata": {
        "colab": {
          "base_uri": "https://localhost:8080/"
        },
        "id": "SmFaDKB3XaCR",
        "outputId": "67c2d1a6-49ee-49e2-bc37-50d5f61eca1c"
      },
      "outputs": [
        {
          "name": "stdout",
          "output_type": "stream",
          "text": [
            "root\n",
            " |-- text: string (nullable = true)\n",
            " |-- category: string (nullable = true)\n",
            " |-- sentence_embeddings: array (nullable = true)\n",
            " |    |-- element: struct (containsNull = true)\n",
            " |    |    |-- annotatorType: string (nullable = true)\n",
            " |    |    |-- begin: integer (nullable = false)\n",
            " |    |    |-- end: integer (nullable = false)\n",
            " |    |    |-- result: string (nullable = true)\n",
            " |    |    |-- metadata: map (nullable = true)\n",
            " |    |    |    |-- key: string\n",
            " |    |    |    |-- value: string (valueContainsNull = true)\n",
            " |    |    |-- embeddings: array (nullable = true)\n",
            " |    |    |    |-- element: float (containsNull = false)\n",
            " |-- category_array: array (nullable = false)\n",
            " |    |-- element: string (containsNull = true)\n",
            " |-- prediction: array (nullable = true)\n",
            " |    |-- element: struct (containsNull = true)\n",
            " |    |    |-- annotatorType: string (nullable = true)\n",
            " |    |    |-- begin: integer (nullable = false)\n",
            " |    |    |-- end: integer (nullable = false)\n",
            " |    |    |-- result: string (nullable = true)\n",
            " |    |    |-- metadata: map (nullable = true)\n",
            " |    |    |    |-- key: string\n",
            " |    |    |    |-- value: string (valueContainsNull = true)\n",
            " |    |    |-- embeddings: array (nullable = true)\n",
            " |    |    |    |-- element: float (containsNull = false)\n",
            "\n",
            "+--------------------------------------------------------------------------------------------------------------------------------------------------------------------------------------------------------------------------------------------------------------------------------------------------------------------------------------------+\n",
            "|prediction                                                                                                                                                                                                                                                                                                                                  |\n",
            "+--------------------------------------------------------------------------------------------------------------------------------------------------------------------------------------------------------------------------------------------------------------------------------------------------------------------------------------------+\n",
            "|[{category, 0, 3978, Gastroenterology, {Gastroenterology -> 0.98011357, Urology -> 3.025794E-4, Orthopedic -> 0.030288545, sentence -> 0, Neurology -> 0.13503543}, []}]                                                                                                                                                                    |\n",
            "|[{category, 0, 6515, Orthopedic, {Gastroenterology -> 0.9824294, Urology -> 2.4011006E-6, Orthopedic -> 0.44919255, sentence -> 0, Neurology -> 0.0042110723}, []}, {category, 0, 6515, Gastroenterology, {Gastroenterology -> 0.9824294, Urology -> 2.4011006E-6, Orthopedic -> 0.44919255, sentence -> 0, Neurology -> 0.0042110723}, []}]|\n",
            "|[{category, 0, 2187, Orthopedic, {Gastroenterology -> 0.9990965, Urology -> 1.5377817E-6, Orthopedic -> 0.46656576, sentence -> 0, Neurology -> 0.0024354695}, []}, {category, 0, 2187, Gastroenterology, {Gastroenterology -> 0.9990965, Urology -> 1.5377817E-6, Orthopedic -> 0.46656576, sentence -> 0, Neurology -> 0.0024354695}, []}]|\n",
            "|[{category, 0, 1279, Gastroenterology, {Gastroenterology -> 0.9999999, Urology -> 1.7776685E-5, Orthopedic -> 1.6405356E-5, sentence -> 0, Neurology -> 2.3847826E-4}, []}]                                                                                                                                                                 |\n",
            "|[{category, 0, 1677, Gastroenterology, {Gastroenterology -> 0.9999949, Urology -> 3.8535177E-6, Orthopedic -> 2.9486656E-4, sentence -> 0, Neurology -> 7.091606E-5}, []}]                                                                                                                                                                  |\n",
            "+--------------------------------------------------------------------------------------------------------------------------------------------------------------------------------------------------------------------------------------------------------------------------------------------------------------------------------------------+\n",
            "only showing top 5 rows\n",
            "\n",
            "+----------------+------------------------------+\n",
            "|category        |prediction.result             |\n",
            "+----------------+------------------------------+\n",
            "|Gastroenterology|[Gastroenterology]            |\n",
            "|Gastroenterology|[Orthopedic, Gastroenterology]|\n",
            "|Gastroenterology|[Orthopedic, Gastroenterology]|\n",
            "|Gastroenterology|[Gastroenterology]            |\n",
            "|Gastroenterology|[Gastroenterology]            |\n",
            "+----------------+------------------------------+\n",
            "only showing top 5 rows\n",
            "\n"
          ]
        }
      ],
      "source": [
        "preds.printSchema()\n",
        "preds.select(preds.prediction).show(5, truncate=False)\n",
        "preds.select(preds.category, preds.prediction.result).show(5, truncate=False)"
      ]
    },
    {
      "cell_type": "code",
      "execution_count": null,
      "metadata": {
        "colab": {
          "base_uri": "https://localhost:8080/"
        },
        "id": "05LprRjwXaCR",
        "outputId": "aaab9c10-1326-436a-b0b0-5801effad147"
      },
      "outputs": [
        {
          "name": "stdout",
          "output_type": "stream",
          "text": [
            "                  precision    recall  f1-score   support\n",
            "\n",
            "Gastroenterology       0.61      0.68      0.64        25\n",
            "       Neurology       0.62      0.82      0.71        22\n",
            "      Orthopedic       0.71      0.86      0.78        35\n",
            "         Urology       1.00      0.15      0.26        20\n",
            "\n",
            "        accuracy                           0.67       102\n",
            "       macro avg       0.74      0.63      0.60       102\n",
            "    weighted avg       0.72      0.67      0.63       102\n",
            "\n"
          ]
        }
      ],
      "source": [
        "preds_df = pred_df.select('category','prediction.result').toPandas()\n",
        "preds_df['result'] = preds_df.result.apply(lambda x : x[0])\n",
        "\n",
        "print (classification_report(preds_df['category'], preds_df['result']))"
      ]
    },
    {
      "cell_type": "markdown",
      "metadata": {
        "id": "2LqFI4dmW4Ep"
      },
      "source": [
        "## Bert Sentence Embeddings (sbiobert_base_cased_mli)"
      ]
    },
    {
      "cell_type": "markdown",
      "metadata": {
        "id": "RcQPzSbOVOpn"
      },
      "source": [
        "We will extract [sbiobert_base_cased_mli](https://nlp.johnsnowlabs.com/2020/11/27/sbiobert_base_cased_mli_en.html) embeddings which has 768 dimension output and use this embeddings in the model training."
      ]
    },
    {
      "cell_type": "code",
      "execution_count": null,
      "metadata": {
        "colab": {
          "base_uri": "https://localhost:8080/"
        },
        "id": "e7pupvygW4Eq",
        "outputId": "4190517b-4a78-4669-834f-450452847f0c"
      },
      "outputs": [
        {
          "name": "stdout",
          "output_type": "stream",
          "text": [
            "sbiobert_base_cased_mli download started this may take some time.\n",
            "Approximate size to download 384.3 MB\n",
            "[OK!]\n"
          ]
        }
      ],
      "source": [
        "document_assembler = nlp.DocumentAssembler()\\\n",
        "    .setInputCol(\"text\")\\\n",
        "    .setOutputCol(\"document\")\n",
        "        \n",
        "bert_sent = nlp.BertSentenceEmbeddings.pretrained(\"sbiobert_base_cased_mli\", 'en','clinical/models')\\\n",
        "    .setInputCols([\"document\"])\\\n",
        "    .setOutputCol(\"sentence_embeddings\")\n",
        "\n",
        "embeddings_pipeline = nlp.Pipeline(\n",
        "    stages = [document_assembler,\n",
        "              bert_sent])"
      ]
    },
    {
      "cell_type": "code",
      "execution_count": null,
      "metadata": {
        "colab": {
          "base_uri": "https://localhost:8080/"
        },
        "id": "A-_AaTGCW4Eq",
        "outputId": "ce543ac5-08b3-4ecf-9a7d-3d90bdda8a2d"
      },
      "outputs": [
        {
          "name": "stdout",
          "output_type": "stream",
          "text": [
            "+--------------------------------------------------------------------------------+--------+--------------------------------------------------------------------------------+\n",
            "|                                                                            text|category|                                                             sentence_embeddings|\n",
            "+--------------------------------------------------------------------------------+--------+--------------------------------------------------------------------------------+\n",
            "| \"Syndrome malin\"-like symptoms probably due to interaction between neurolept...|     neg|[{sentence_embeddings, 0, 109,  \"Syndrome malin\"-like symptoms probably due t...|\n",
            "| 'Bail-out' bivalirudin use in patients with thrombotic complications unrespo...|     neg|[{sentence_embeddings, 0, 150,  'Bail-out' bivalirudin use in patients with t...|\n",
            "+--------------------------------------------------------------------------------+--------+--------------------------------------------------------------------------------+\n",
            "only showing top 2 rows\n",
            "\n"
          ]
        }
      ],
      "source": [
        "trainingData_with_embeddings = embeddings_pipeline.fit(trainingData).transform(trainingData)\\\n",
        "                                                  .select(\"text\",\"category\",\"sentence_embeddings\")\n",
        "\n",
        "trainingData_with_embeddings.show(2,truncate=80)"
      ]
    },
    {
      "cell_type": "code",
      "execution_count": null,
      "metadata": {
        "colab": {
          "base_uri": "https://localhost:8080/"
        },
        "id": "sGAKs2o0W4Eq",
        "outputId": "f4f551e9-73cf-40e4-825a-da538255a938"
      },
      "outputs": [
        {
          "name": "stdout",
          "output_type": "stream",
          "text": [
            "+--------------------------------------------------------------------------------+--------+--------------------------------------------------------------------------------+\n",
            "|                                                                            text|category|                                                             sentence_embeddings|\n",
            "+--------------------------------------------------------------------------------+--------+--------------------------------------------------------------------------------+\n",
            "| 1 previously untreated patient with plasma-cell leukaemia and 8 patients wit...|     neg|[{sentence_embeddings, 0, 166,  1 previously untreated patient with plasma-ce...|\n",
            "| A 15-year-old boy had temporary hypertropia, supraduction deficit, ipsilater...|     neg|[{sentence_embeddings, 0, 262,  A 15-year-old boy had temporary hypertropia, ...|\n",
            "+--------------------------------------------------------------------------------+--------+--------------------------------------------------------------------------------+\n",
            "only showing top 2 rows\n",
            "\n"
          ]
        }
      ],
      "source": [
        "testData_with_embeddings = embeddings_pipeline.fit(testData).transform(testData)\\\n",
        "                                                  .select(\"text\",\"category\",\"sentence_embeddings\")\n",
        "\n",
        "testData_with_embeddings.show(2,truncate=80)"
      ]
    },
    {
      "cell_type": "code",
      "execution_count": null,
      "metadata": {
        "id": "WiR3GJpbW4Eq"
      },
      "outputs": [],
      "source": [
        "log_folder=\"Mt_logs_bert\""
      ]
    },
    {
      "cell_type": "markdown",
      "metadata": {
        "id": "NqYpg6-dW4Eq"
      },
      "source": [
        "### ClassifierDLApproach "
      ]
    },
    {
      "cell_type": "code",
      "execution_count": null,
      "metadata": {
        "id": "vkb4PlGsW4Eq"
      },
      "outputs": [],
      "source": [
        "classifier_dl = nlp.ClassifierDLApproach()\\\n",
        "        .setInputCols([\"sentence_embeddings\"])\\\n",
        "        .setOutputCol(\"class\")\\\n",
        "        .setLabelColumn(\"category\")\\\n",
        "        .setBatchSize(8)\\\n",
        "        .setMaxEpochs(30)\\\n",
        "        .setLr(0.002)\\\n",
        "        .setDropout(0.1)\\\n",
        "        .setEnableOutputLogs(True)\\\n",
        "        .setOutputLogsPath(log_folder)\n",
        "\n",
        "classifier_dl_pipeline = nlp.Pipeline(stages=[classifier_dl])"
      ]
    },
    {
      "cell_type": "code",
      "execution_count": null,
      "metadata": {
        "id": "WG0-PJA2W4Eq"
      },
      "outputs": [],
      "source": [
        "clfDL_model_bert = classifier_dl_pipeline.fit(trainingData_with_embeddings)"
      ]
    },
    {
      "cell_type": "code",
      "execution_count": null,
      "metadata": {
        "colab": {
          "base_uri": "https://localhost:8080/"
        },
        "id": "B_29_8JBW4Eq",
        "outputId": "f2501666-0a19-4c0e-9554-db4bd2e2fbda"
      },
      "outputs": [
        {
          "name": "stdout",
          "output_type": "stream",
          "text": [
            "              precision    recall  f1-score   support\n",
            "\n",
            "         neg       0.69      1.00      0.82       982\n",
            "         pos       0.00      0.00      0.00       445\n",
            "\n",
            "    accuracy                           0.69      1427\n",
            "   macro avg       0.34      0.50      0.41      1427\n",
            "weighted avg       0.47      0.69      0.56      1427\n",
            "\n"
          ]
        }
      ],
      "source": [
        "preds = clfDL_model_bert.transform(testData_with_embeddings)\n",
        "\n",
        "preds_df = preds.select(\"category\",\"text\",\"class.result\").toPandas()\n",
        "preds_df[\"result\"] = preds_df[\"result\"].apply(lambda x : x[0])\n",
        "\n",
        "print (classification_report(preds_df[\"category\"], preds_df[\"result\"]))"
      ]
    },
    {
      "cell_type": "markdown",
      "metadata": {
        "id": "0Fw49226W4Er"
      },
      "source": [
        "### MultiClassifierDL "
      ]
    },
    {
      "cell_type": "code",
      "execution_count": null,
      "metadata": {
        "id": "Co9lWcRxW4Er"
      },
      "outputs": [],
      "source": [
        "# MultiClassifierDL accepts list of strings as input label. So we convert label column to array type.\n",
        "trainingData_with_embeddings = trainingData_with_embeddings.withColumn(\"category_array\", F.array(F.col(\"category\")))\n",
        "testData_with_embeddings = testData_with_embeddings.withColumn(\"category_array\", F.array(F.col(\"category\")))"
      ]
    },
    {
      "cell_type": "code",
      "execution_count": null,
      "metadata": {
        "id": "5itVNwSWW4Er"
      },
      "outputs": [],
      "source": [
        "multiClassifier =nlp.MultiClassifierDLApproach()\\\n",
        "  .setInputCols(\"sentence_embeddings\")\\\n",
        "  .setOutputCol(\"prediction\")\\\n",
        "  .setLabelColumn(\"category_array\")\\\n",
        "  .setBatchSize(8)\\\n",
        "  .setMaxEpochs(20)\\\n",
        "  .setLr(9e-3)\\\n",
        "  .setThreshold(0.5)\\\n",
        "  .setShufflePerEpoch(False)\\\n",
        "  .setEnableOutputLogs(True)\\\n",
        "  .setOutputLogsPath(log_folder)\\\n",
        "#   .setValidationSplit(0.1)\n",
        "\n",
        "multiClassifier_pipeline = nlp.Pipeline(\n",
        "    stages = [\n",
        "        multiClassifier\n",
        "    ])"
      ]
    },
    {
      "cell_type": "code",
      "execution_count": null,
      "metadata": {
        "id": "Y2p8qfzeW4Er"
      },
      "outputs": [],
      "source": [
        "multiClassifier_model_hc200 = multiClassifier_pipeline.fit(trainingData_with_embeddings)"
      ]
    },
    {
      "cell_type": "code",
      "execution_count": null,
      "metadata": {
        "id": "j812VMg5W4Er"
      },
      "outputs": [],
      "source": [
        "preds = multiClassifier_model_hc200.transform(testData_with_embeddings)"
      ]
    },
    {
      "cell_type": "code",
      "execution_count": null,
      "metadata": {
        "colab": {
          "base_uri": "https://localhost:8080/"
        },
        "id": "Ero8R_rhW4Er",
        "outputId": "77b0f56a-8bbb-4ac2-d824-45d71b94fc45"
      },
      "outputs": [
        {
          "data": {
            "text/plain": [
              "['neg']           1105\n",
              "['pos']            320\n",
              "['pos', 'neg']       2\n",
              "Name: result, dtype: int64"
            ]
          },
          "execution_count": 30,
          "metadata": {},
          "output_type": "execute_result"
        }
      ],
      "source": [
        "preds_df = preds.select(\"category\",\"text\",\"prediction.result\",\"prediction.metadata\").toPandas()\n",
        "preds_df.result.apply(lambda x: str(x) ).value_counts()"
      ]
    },
    {
      "cell_type": "code",
      "execution_count": null,
      "metadata": {
        "colab": {
          "base_uri": "https://localhost:8080/"
        },
        "id": "eIr0FA55W4Er",
        "outputId": "f2414cc3-1221-4a45-bbf5-f537d3939b63"
      },
      "outputs": [
        {
          "data": {
            "text/plain": [
              "neg    1105\n",
              "pos     322\n",
              "Name: result, dtype: int64"
            ]
          },
          "execution_count": 31,
          "metadata": {},
          "output_type": "execute_result"
        }
      ],
      "source": [
        "# We will get the highest score label as result. You can control the number of zero label results with setThreshold() in the training.\n",
        "preds_df[\"scores\"] = preds_df.metadata.apply(lambda x: {k:float(v) for k,v in x[0].items()} if len(x)>=1 else \"\")\n",
        "preds_df[\"result\"] = preds_df.scores.apply(lambda x: max(x, key=x.get) if len(x)>=1 else \"\")\n",
        "preds_df[\"result\"].value_counts()"
      ]
    },
    {
      "cell_type": "code",
      "execution_count": null,
      "metadata": {
        "colab": {
          "base_uri": "https://localhost:8080/"
        },
        "id": "m9BKG5kHW4Es",
        "outputId": "c8d6fee4-af8e-4b3a-99ec-1c59ad466dad"
      },
      "outputs": [
        {
          "name": "stdout",
          "output_type": "stream",
          "text": [
            "              precision    recall  f1-score   support\n",
            "\n",
            "         neg       0.85      0.96      0.90       982\n",
            "         pos       0.87      0.63      0.73       445\n",
            "\n",
            "    accuracy                           0.85      1427\n",
            "   macro avg       0.86      0.79      0.81      1427\n",
            "weighted avg       0.85      0.85      0.85      1427\n",
            "\n"
          ]
        }
      ],
      "source": [
        "print (classification_report(preds_df[\"category\"], preds_df[\"result\"]))"
      ]
    },
    {
      "cell_type": "markdown",
      "metadata": {
        "id": "hhNpyXkeW4Es"
      },
      "source": [
        "### Generic Classifier "
      ]
    },
    {
      "cell_type": "code",
      "execution_count": null,
      "metadata": {
        "id": "aO-WNe20W4Es"
      },
      "outputs": [],
      "source": [
        "# !pip install -q tensorflow==2.7.0 tensorflow_addons"
      ]
    },
    {
      "cell_type": "code",
      "execution_count": null,
      "metadata": {
        "id": "a0pS3YdEW4Es"
      },
      "outputs": [],
      "source": [
        "from sparknlp_jsl.annotator import TFGraphBuilder\n",
        "\n",
        "graph_folder = \"gc_graph\"\n",
        "\n",
        "gc_graph_builder =medical.TFGraphBuilder()\\\n",
        "    .setModelName(\"generic_classifier\")\\\n",
        "    .setInputCols([\"features\"])\\\n",
        "    .setLabelColumn(\"category\")\\\n",
        "    .setHiddenLayers([300,200, 50])\\\n",
        "    .setHiddenAct(\"tanh\")\\\n",
        "    .setHiddenActL2(True)\\\n",
        "    .setBatchNorm(True)\\\n",
        "    .setGraphFolder(graph_folder)\\\n",
        "    .setGraphFile(\"gcf_graph_bert.pb\")"
      ]
    },
    {
      "cell_type": "code",
      "execution_count": null,
      "metadata": {
        "id": "aBuFW-1iW4Es"
      },
      "outputs": [],
      "source": [
        "features_asm =medical.FeaturesAssembler()\\\n",
        "    .setInputCols([\"sentence_embeddings\"])\\\n",
        "    .setOutputCol(\"features\")\n",
        "      \n",
        "gen_clf =medical.GenericClassifierApproach()\\\n",
        "    .setLabelColumn(\"category\")\\\n",
        "    .setInputCols(\"features\")\\\n",
        "    .setOutputCol(\"prediction\")\\\n",
        "    .setModelFile(f\"{graph_folder}/gcf_graph_bert.pb\")\\\n",
        "    .setEpochsNumber(25)\\\n",
        "    .setBatchSize(8)\\\n",
        "    .setLearningRate(0.002)\\\n",
        "    .setOutputLogsPath(log_folder)\\\n",
        "    .setDropout(0.2)\\\n",
        "    .setFixImbalance(True)\\\n",
        "    # .setValidationSplit(0.1)\n",
        "\n",
        "clf_Pipeline = nlp.Pipeline(stages=[\n",
        "    features_asm,\n",
        "    gc_graph_builder,\n",
        "    gen_clf])\n"
      ]
    },
    {
      "cell_type": "code",
      "execution_count": null,
      "metadata": {
        "colab": {
          "base_uri": "https://localhost:8080/"
        },
        "id": "Xpi8bsOAW4Es",
        "outputId": "47522528-f846-4c52-9a40-25393da9f7cb"
      },
      "outputs": [
        {
          "name": "stdout",
          "output_type": "stream",
          "text": [
            "TF Graph Builder configuration:\n",
            "Model name: generic_classifier\n",
            "Graph folder: gc_graph\n",
            "Graph file name: gcf_graph_bert.pb\n",
            "Build params: {'input_dim': 768, 'output_dim': 2, 'hidden_layers': [300, 200, 50], 'hidden_act': 'tanh', 'hidden_act_l2': True, 'batch_norm': True}\n"
          ]
        },
        {
          "name": "stderr",
          "output_type": "stream",
          "text": [
            "WARNING:tensorflow:From /usr/local/lib/python3.8/dist-packages/keras/layers/normalization/batch_normalization.py:561: _colocate_with (from tensorflow.python.framework.ops) is deprecated and will be removed in a future version.\n",
            "Instructions for updating:\n",
            "Colocations handled automatically by placer.\n"
          ]
        },
        {
          "name": "stdout",
          "output_type": "stream",
          "text": [
            "generic_classifier graph exported to gc_graph/gcf_graph_bert.pb\n"
          ]
        }
      ],
      "source": [
        "generic_model_bert = clf_Pipeline.fit(trainingData_with_embeddings)"
      ]
    },
    {
      "cell_type": "code",
      "execution_count": null,
      "metadata": {
        "colab": {
          "base_uri": "https://localhost:8080/"
        },
        "id": "5aw-VIEhW4Es",
        "outputId": "215882e8-6d5c-4852-bf59-d93e1cfe58d9"
      },
      "outputs": [
        {
          "name": "stdout",
          "output_type": "stream",
          "text": [
            "              precision    recall  f1-score   support\n",
            "\n",
            "         neg       0.97      0.78      0.86       982\n",
            "         pos       0.66      0.94      0.77       445\n",
            "\n",
            "    accuracy                           0.83      1427\n",
            "   macro avg       0.81      0.86      0.82      1427\n",
            "weighted avg       0.87      0.83      0.83      1427\n",
            "\n"
          ]
        }
      ],
      "source": [
        "pred_df = generic_model_bert.transform(testData_with_embeddings)\n",
        "\n",
        "preds_df = pred_df.select('category','prediction.result').toPandas()\n",
        "preds_df['result'] = preds_df.result.apply(lambda x : x[0])\n",
        "\n",
        "print (classification_report(preds_df['category'], preds_df['result']))"
      ]
    },
    {
      "cell_type": "markdown",
      "metadata": {
        "id": "5q09e4l9XPgU"
      },
      "source": [
        "### GenericLogRegClassifier"
      ]
    },
    {
      "cell_type": "code",
      "execution_count": null,
      "metadata": {
        "id": "Q9DQJEOfXPgV"
      },
      "outputs": [],
      "source": [
        "graph_folder = \"gc_graph\"\n",
        "\n",
        "gc_logreg_graph_builder = medical.TFGraphBuilder()\\\n",
        "    .setModelName(\"logreg_classifier\")\\\n",
        "    .setInputCols([\"feature_vector\"]) \\\n",
        "    .setLabelColumn(\"category\")\\\n",
        "    .setGraphFolder(graph_folder)\\\n",
        "    .setGraphFile(\"log_reg_graph.pb\")"
      ]
    },
    {
      "cell_type": "markdown",
      "metadata": {
        "id": "DeC8XjkcXPgV"
      },
      "source": [
        "GenericLogRegClassifier needs outputs from FeaturesAssembler. The FeaturesAssembler is used to collect features from different columns or an embeddings column.\n",
        "\n",
        "The GenericLogRegClassifier takes FEATURE_VECTOR annotations as input, classifies them and outputs CATEGORY annotations."
      ]
    },
    {
      "cell_type": "code",
      "execution_count": null,
      "metadata": {
        "id": "eEGJ7oHQXPgV"
      },
      "outputs": [],
      "source": [
        "features_asm = medical.FeaturesAssembler()\\\n",
        "    .setInputCols([\"sentence_embeddings\"])\\\n",
        "    .setOutputCol(\"feature_vector\")\n",
        "      \n",
        "gen_clf = medical.GenericLogRegClassifierApproach()\\\n",
        "    .setLabelColumn(\"category\")\\\n",
        "    .setInputCols(\"feature_vector\")\\\n",
        "    .setOutputCol(\"prediction\")\\\n",
        "    .setModelFile(f\"{graph_folder}/log_reg_graph.pb\")\\\n",
        "    .setEpochsNumber(25)\\\n",
        "    .setBatchSize(128)\\\n",
        "    .setLearningRate(0.004)\\\n",
        "    .setOutputLogsPath(log_folder)\\\n",
        "    .setDropout(0.2)\\\n",
        "    .setFixImbalance(True)\\\n",
        "    # .setValidationSplit(0.1)\n",
        "\n",
        "clf_Pipeline = nlp.Pipeline(stages=[\n",
        "    features_asm,\n",
        "    gc_logreg_graph_builder,\n",
        "    gen_clf])\n"
      ]
    },
    {
      "cell_type": "code",
      "execution_count": null,
      "metadata": {
        "colab": {
          "base_uri": "https://localhost:8080/"
        },
        "id": "2mw3fPhtXPgV",
        "outputId": "ba05194e-6e48-49d6-ee4c-14a0f5af9385"
      },
      "outputs": [
        {
          "name": "stdout",
          "output_type": "stream",
          "text": [
            "TF Graph Builder configuration:\n",
            "Model name: logreg_classifier\n",
            "Graph folder: gc_graph\n",
            "Graph file name: log_reg_graph.pb\n",
            "Build params: {'input_dim': 768, 'output_dim': 2, 'hidden_layers': [], 'output_act': 'sigmoid'}\n",
            "logreg_classifier graph exported to gc_graph/log_reg_graph.pb\n"
          ]
        }
      ],
      "source": [
        "generic_model_hc100 = clf_Pipeline.fit(trainingData_with_embeddings)"
      ]
    },
    {
      "cell_type": "code",
      "execution_count": null,
      "metadata": {
        "colab": {
          "base_uri": "https://localhost:8080/"
        },
        "id": "UAm-wWTvXPgV",
        "outputId": "e24c9233-a31f-48a1-9d41-706c391ab5ef"
      },
      "outputs": [
        {
          "name": "stdout",
          "output_type": "stream",
          "text": [
            "Training 25 epochs\n",
            "Epoch 1/25\t0.15s\tLoss: 21.13333\tACC: 0.766572\n",
            "Epoch 2/25\t0.07s\tLoss: 16.368893\tACC: 0.83639127\n",
            "Epoch 3/25\t0.07s\tLoss: 15.349411\tACC: 0.84788644\n",
            "Epoch 4/25\t0.06s\tLoss: 14.867418\tACC: 0.85245687\n",
            "Epoch 5/25\t0.06s\tLoss: 14.650602\tACC: 0.84846514\n",
            "Epoch 6/25\t0.07s\tLoss: 14.117679\tACC: 0.8622225\n",
            "Epoch 7/25\t0.07s\tLoss: 14.229368\tACC: 0.8596512\n",
            "Epoch 8/25\t0.07s\tLoss: 14.207264\tACC: 0.85831624\n",
            "Epoch 9/25\t0.06s\tLoss: 13.872311\tACC: 0.8642611\n",
            "Epoch 10/25\t0.07s\tLoss: 13.727418\tACC: 0.8672335\n",
            "Epoch 11/25\t0.06s\tLoss: 13.906328\tACC: 0.8612032\n",
            "Epoch 12/25\t0.06s\tLoss: 13.330467\tACC: 0.86634576\n",
            "Epoch 13/25\t0.06s\tLoss: 13.524981\tACC: 0.86497134\n",
            "Epoch 14/25\t0.06s\tLoss: 13.245172\tACC: 0.8724287\n",
            "Epoch 15/25\t0.06s\tLoss: 13.209822\tACC: 0.8719421\n",
            "Epoch 16/25\t0.06s\tLoss: 13.807668\tACC: 0.85880286\n",
            "Epoch 17/25\t0.06s\tLoss: 13.469735\tACC: 0.8705216\n",
            "Epoch 18/25\t0.06s\tLoss: 13.28601\tACC: 0.8689236\n",
            "Epoch 19/25\t0.06s\tLoss: 13.518498\tACC: 0.8654185\n",
            "Epoch 20/25\t0.06s\tLoss: 13.609458\tACC: 0.86555004\n",
            "Epoch 21/25\t0.06s\tLoss: 13.249204\tACC: 0.87065315\n",
            "Epoch 22/25\t0.06s\tLoss: 13.1711645\tACC: 0.87340856\n",
            "Epoch 23/25\t0.07s\tLoss: 13.632193\tACC: 0.86328787\n",
            "Epoch 24/25\t0.07s\tLoss: 13.227254\tACC: 0.87269175\n",
            "Epoch 25/25\t0.06s\tLoss: 13.31019\tACC: 0.8695944\n",
            "Training completed.\n"
          ]
        }
      ],
      "source": [
        "!cat $log_folder/GenericLogRegClassifierApproach*"
      ]
    },
    {
      "cell_type": "code",
      "execution_count": null,
      "metadata": {
        "id": "h5Zqfx_WXPgV"
      },
      "outputs": [],
      "source": [
        "pred_df = generic_model_hc100.transform(testData_with_embeddings)"
      ]
    },
    {
      "cell_type": "code",
      "execution_count": null,
      "metadata": {
        "colab": {
          "base_uri": "https://localhost:8080/"
        },
        "id": "kZoQXrfpXPgW",
        "outputId": "58684c8e-51e0-43ac-f794-a6e051a8b459"
      },
      "outputs": [
        {
          "name": "stdout",
          "output_type": "stream",
          "text": [
            "root\n",
            " |-- text: string (nullable = true)\n",
            " |-- category: string (nullable = true)\n",
            " |-- sentence_embeddings: array (nullable = true)\n",
            " |    |-- element: struct (containsNull = true)\n",
            " |    |    |-- annotatorType: string (nullable = true)\n",
            " |    |    |-- begin: integer (nullable = false)\n",
            " |    |    |-- end: integer (nullable = false)\n",
            " |    |    |-- result: string (nullable = true)\n",
            " |    |    |-- metadata: map (nullable = true)\n",
            " |    |    |    |-- key: string\n",
            " |    |    |    |-- value: string (valueContainsNull = true)\n",
            " |    |    |-- embeddings: array (nullable = true)\n",
            " |    |    |    |-- element: float (containsNull = false)\n",
            " |-- category_array: array (nullable = false)\n",
            " |    |-- element: string (containsNull = true)\n",
            " |-- prediction: array (nullable = true)\n",
            " |    |-- element: struct (containsNull = true)\n",
            " |    |    |-- annotatorType: string (nullable = true)\n",
            " |    |    |-- begin: integer (nullable = false)\n",
            " |    |    |-- end: integer (nullable = false)\n",
            " |    |    |-- result: string (nullable = true)\n",
            " |    |    |-- metadata: map (nullable = true)\n",
            " |    |    |    |-- key: string\n",
            " |    |    |    |-- value: string (valueContainsNull = true)\n",
            " |    |    |-- embeddings: array (nullable = true)\n",
            " |    |    |    |-- element: float (containsNull = false)\n",
            "\n",
            "+--------------------------------------------------------------------------------------+\n",
            "|prediction                                                                            |\n",
            "+--------------------------------------------------------------------------------------+\n",
            "|[{category, 0, 166, neg, {sentence -> 0, pos -> 0.0016890189, neg -> 0.9983448}, []}] |\n",
            "|[{category, 0, 262, neg, {sentence -> 0, pos -> 0.16961391, neg -> 0.8351859}, []}]   |\n",
            "|[{category, 0, 172, neg, {sentence -> 0, pos -> 0.05280607, neg -> 0.9476179}, []}]   |\n",
            "|[{category, 0, 93, neg, {sentence -> 0, pos -> 7.680298E-4, neg -> 0.9992473}, []}]   |\n",
            "|[{category, 0, 136, neg, {sentence -> 0, pos -> 3.7684725E-4, neg -> 0.99962294}, []}]|\n",
            "+--------------------------------------------------------------------------------------+\n",
            "only showing top 5 rows\n",
            "\n",
            "+--------+-----------------+\n",
            "|category|prediction.result|\n",
            "+--------+-----------------+\n",
            "|neg     |[neg]            |\n",
            "|neg     |[neg]            |\n",
            "|neg     |[neg]            |\n",
            "|neg     |[neg]            |\n",
            "|neg     |[neg]            |\n",
            "+--------+-----------------+\n",
            "only showing top 5 rows\n",
            "\n"
          ]
        }
      ],
      "source": [
        "preds.printSchema()\n",
        "preds.select(preds.prediction).show(5, truncate=False)\n",
        "preds.select(preds.category, preds.prediction.result).show(5, truncate=False)"
      ]
    },
    {
      "cell_type": "code",
      "execution_count": null,
      "metadata": {
        "colab": {
          "base_uri": "https://localhost:8080/"
        },
        "id": "gk6E1IuzXPgW",
        "outputId": "0a61cb9a-806c-4d91-eb56-fbfb2bc98335"
      },
      "outputs": [
        {
          "name": "stdout",
          "output_type": "stream",
          "text": [
            "              precision    recall  f1-score   support\n",
            "\n",
            "         neg       0.91      0.88      0.89       982\n",
            "         pos       0.75      0.82      0.78       445\n",
            "\n",
            "    accuracy                           0.86      1427\n",
            "   macro avg       0.83      0.85      0.84      1427\n",
            "weighted avg       0.86      0.86      0.86      1427\n",
            "\n"
          ]
        }
      ],
      "source": [
        "preds_df = pred_df.select('category','prediction.result').toPandas()\n",
        "preds_df['result'] = preds_df.result.apply(lambda x : x[0])\n",
        "\n",
        "print (classification_report(preds_df['category'], preds_df['result']))"
      ]
    },
    {
      "cell_type": "markdown",
      "metadata": {
        "id": "2Ninh1PfXbR1"
      },
      "source": [
        "### GenericSVMClassifier"
      ]
    },
    {
      "cell_type": "code",
      "execution_count": null,
      "metadata": {
        "id": "-HiP42eZXbR1"
      },
      "outputs": [],
      "source": [
        "graph_folder = \"gc_graph\"\n",
        "\n",
        "gc_svm_graph_builder = medical.TFGraphBuilder()\\\n",
        "    .setModelName(\"svm_classifier\")\\\n",
        "    .setInputCols([\"feature_vector\"]) \\\n",
        "    .setLabelColumn(\"category\")\\\n",
        "    .setGraphFolder(graph_folder)\\\n",
        "    .setGraphFile(\"svm_graph.pb\")"
      ]
    },
    {
      "cell_type": "markdown",
      "metadata": {
        "id": "PgSWTx2_XbR1"
      },
      "source": [
        "GenericSVMClassifier needs outputs from FeaturesAssembler. The FeaturesAssembler is used to collect features from different columns or an embeddings column.\n",
        "\n",
        "The GenericSVMClassifier takes FEATURE_VECTOR annotations as input, classifies them and outputs CATEGORY annotations."
      ]
    },
    {
      "cell_type": "code",
      "execution_count": null,
      "metadata": {
        "id": "IfKccrLdXbR1"
      },
      "outputs": [],
      "source": [
        "features_asm = medical.FeaturesAssembler()\\\n",
        "    .setInputCols([\"sentence_embeddings\"])\\\n",
        "    .setOutputCol(\"feature_vector\")\n",
        "      \n",
        "gen_clf = medical.GenericSVMClassifierApproach()\\\n",
        "    .setLabelColumn(\"category\")\\\n",
        "    .setInputCols(\"feature_vector\")\\\n",
        "    .setOutputCol(\"prediction\")\\\n",
        "    .setModelFile(f\"{graph_folder}/svm_graph.pb\")\\\n",
        "    .setEpochsNumber(25)\\\n",
        "    .setBatchSize(128)\\\n",
        "    .setLearningRate(0.004)\\\n",
        "    .setOutputLogsPath(log_folder)\\\n",
        "    .setDropout(0.2)\\\n",
        "    .setFixImbalance(True)\\\n",
        "    # .setValidationSplit(0.1)\n",
        "\n",
        "clf_Pipeline = nlp.Pipeline(stages=[\n",
        "    features_asm,\n",
        "    gc_svm_graph_builder,\n",
        "    gen_clf])\n"
      ]
    },
    {
      "cell_type": "code",
      "execution_count": null,
      "metadata": {
        "colab": {
          "base_uri": "https://localhost:8080/"
        },
        "id": "3PSzGUAKXbR2",
        "outputId": "6d807e93-0ca0-4ee7-cbbd-1ee777cd0fd0"
      },
      "outputs": [
        {
          "name": "stdout",
          "output_type": "stream",
          "text": [
            "TF Graph Builder configuration:\n",
            "Model name: svm_classifier\n",
            "Graph folder: gc_graph\n",
            "Graph file name: svm_graph.pb\n",
            "Build params: {'input_dim': 768, 'output_dim': 2, 'hidden_layers': [], 'output_act': 'sigmoid', 'loss_func': 'hinge'}\n",
            "svm_classifier graph exported to gc_graph/svm_graph.pb\n"
          ]
        }
      ],
      "source": [
        "generic_model_hc100 = clf_Pipeline.fit(trainingData_with_embeddings)"
      ]
    },
    {
      "cell_type": "code",
      "execution_count": null,
      "metadata": {
        "colab": {
          "base_uri": "https://localhost:8080/"
        },
        "id": "fjvvroJHXbR2",
        "outputId": "2d3fc22f-ed7b-43ac-b89c-8f990eea4645"
      },
      "outputs": [
        {
          "name": "stdout",
          "output_type": "stream",
          "text": [
            "Training 25 epochs\n",
            "Epoch 1/25\t0.17s\tLoss: 26.084478\tACC: 0.7603575\n",
            "Epoch 2/25\t0.08s\tLoss: 18.10065\tACC: 0.82657963\n",
            "Epoch 3/25\t0.08s\tLoss: 16.449371\tACC: 0.8495239\n",
            "Epoch 4/25\t0.08s\tLoss: 16.356663\tACC: 0.8433094\n",
            "Epoch 5/25\t0.07s\tLoss: 15.976372\tACC: 0.85663277\n",
            "Epoch 6/25\t0.08s\tLoss: 15.681889\tACC: 0.8557844\n",
            "Epoch 7/25\t0.08s\tLoss: 16.313326\tACC: 0.8522333\n",
            "Epoch 8/25\t0.08s\tLoss: 15.932546\tACC: 0.8525884\n",
            "Epoch 9/25\t0.08s\tLoss: 15.615725\tACC: 0.8584938\n",
            "Epoch 10/25\t0.09s\tLoss: 15.672672\tACC: 0.8541864\n",
            "Epoch 11/25\t0.09s\tLoss: 15.023664\tACC: 0.8615583\n",
            "Epoch 12/25\t0.08s\tLoss: 15.67601\tACC: 0.854364\n",
            "Epoch 13/25\t0.08s\tLoss: 16.418985\tACC: 0.8506353\n",
            "Epoch 14/25\t0.09s\tLoss: 14.837163\tACC: 0.86958784\n",
            "Epoch 15/25\t0.08s\tLoss: 14.787988\tACC: 0.86395204\n",
            "Epoch 16/25\t0.08s\tLoss: 15.6768\tACC: 0.8584017\n",
            "Epoch 17/25\t0.08s\tLoss: 15.403945\tACC: 0.8599997\n",
            "Epoch 18/25\t0.08s\tLoss: 15.095381\tACC: 0.8607626\n",
            "Epoch 19/25\t0.08s\tLoss: 15.419379\tACC: 0.85969067\n",
            "Epoch 20/25\t0.08s\tLoss: 15.751317\tACC: 0.8569418\n",
            "Epoch 21/25\t0.08s\tLoss: 15.454591\tACC: 0.86262363\n",
            "Epoch 22/25\t0.08s\tLoss: 16.717485\tACC: 0.8521872\n",
            "Epoch 23/25\t0.08s\tLoss: 15.559441\tACC: 0.8585793\n",
            "Epoch 24/25\t0.08s\tLoss: 15.893851\tACC: 0.8582702\n",
            "Epoch 25/25\t0.08s\tLoss: 15.939719\tACC: 0.85720485\n",
            "Training completed.\n"
          ]
        }
      ],
      "source": [
        "!cat $log_folder/GenericSVMClassifierApproach*"
      ]
    },
    {
      "cell_type": "code",
      "execution_count": null,
      "metadata": {
        "id": "Guibj0k8XbR2"
      },
      "outputs": [],
      "source": [
        "pred_df = generic_model_hc100.transform(testData_with_embeddings)"
      ]
    },
    {
      "cell_type": "code",
      "execution_count": null,
      "metadata": {
        "colab": {
          "base_uri": "https://localhost:8080/"
        },
        "id": "NCldMbp1XbR2",
        "outputId": "6eae554e-bb21-403b-9fd7-9cac6fdf8d9a"
      },
      "outputs": [
        {
          "name": "stdout",
          "output_type": "stream",
          "text": [
            "root\n",
            " |-- text: string (nullable = true)\n",
            " |-- category: string (nullable = true)\n",
            " |-- sentence_embeddings: array (nullable = true)\n",
            " |    |-- element: struct (containsNull = true)\n",
            " |    |    |-- annotatorType: string (nullable = true)\n",
            " |    |    |-- begin: integer (nullable = false)\n",
            " |    |    |-- end: integer (nullable = false)\n",
            " |    |    |-- result: string (nullable = true)\n",
            " |    |    |-- metadata: map (nullable = true)\n",
            " |    |    |    |-- key: string\n",
            " |    |    |    |-- value: string (valueContainsNull = true)\n",
            " |    |    |-- embeddings: array (nullable = true)\n",
            " |    |    |    |-- element: float (containsNull = false)\n",
            " |-- category_array: array (nullable = false)\n",
            " |    |-- element: string (containsNull = true)\n",
            " |-- prediction: array (nullable = true)\n",
            " |    |-- element: struct (containsNull = true)\n",
            " |    |    |-- annotatorType: string (nullable = true)\n",
            " |    |    |-- begin: integer (nullable = false)\n",
            " |    |    |-- end: integer (nullable = false)\n",
            " |    |    |-- result: string (nullable = true)\n",
            " |    |    |-- metadata: map (nullable = true)\n",
            " |    |    |    |-- key: string\n",
            " |    |    |    |-- value: string (valueContainsNull = true)\n",
            " |    |    |-- embeddings: array (nullable = true)\n",
            " |    |    |    |-- element: float (containsNull = false)\n",
            "\n",
            "+--------------------------------------------------------------------------------------+\n",
            "|prediction                                                                            |\n",
            "+--------------------------------------------------------------------------------------+\n",
            "|[{category, 0, 166, neg, {sentence -> 0, pos -> 0.0016890189, neg -> 0.9983448}, []}] |\n",
            "|[{category, 0, 262, neg, {sentence -> 0, pos -> 0.16961391, neg -> 0.8351859}, []}]   |\n",
            "|[{category, 0, 172, neg, {sentence -> 0, pos -> 0.05280607, neg -> 0.9476179}, []}]   |\n",
            "|[{category, 0, 93, neg, {sentence -> 0, pos -> 7.680298E-4, neg -> 0.9992473}, []}]   |\n",
            "|[{category, 0, 136, neg, {sentence -> 0, pos -> 3.7684725E-4, neg -> 0.99962294}, []}]|\n",
            "+--------------------------------------------------------------------------------------+\n",
            "only showing top 5 rows\n",
            "\n",
            "+--------+-----------------+\n",
            "|category|prediction.result|\n",
            "+--------+-----------------+\n",
            "|neg     |[neg]            |\n",
            "|neg     |[neg]            |\n",
            "|neg     |[neg]            |\n",
            "|neg     |[neg]            |\n",
            "|neg     |[neg]            |\n",
            "+--------+-----------------+\n",
            "only showing top 5 rows\n",
            "\n"
          ]
        }
      ],
      "source": [
        "preds.printSchema()\n",
        "preds.select(preds.prediction).show(5, truncate=False)\n",
        "preds.select(preds.category, preds.prediction.result).show(5, truncate=False)"
      ]
    },
    {
      "cell_type": "code",
      "execution_count": null,
      "metadata": {
        "colab": {
          "base_uri": "https://localhost:8080/"
        },
        "id": "ElyprrUMXbR2",
        "outputId": "75a03173-8e5b-43d2-dd14-eb0e41c74ccb"
      },
      "outputs": [
        {
          "name": "stdout",
          "output_type": "stream",
          "text": [
            "              precision    recall  f1-score   support\n",
            "\n",
            "         neg       0.88      0.94      0.91       982\n",
            "         pos       0.85      0.71      0.77       445\n",
            "\n",
            "    accuracy                           0.87      1427\n",
            "   macro avg       0.86      0.83      0.84      1427\n",
            "weighted avg       0.87      0.87      0.87      1427\n",
            "\n"
          ]
        }
      ],
      "source": [
        "preds_df = pred_df.select('category','prediction.result').toPandas()\n",
        "preds_df['result'] = preds_df.result.apply(lambda x : x[0])\n",
        "\n",
        "print (classification_report(preds_df['category'], preds_df['result']))"
      ]
    },
    {
      "cell_type": "markdown",
      "metadata": {
        "id": "hJCE-sWM9oaK"
      },
      "source": [
        "## DocumentLogRegClassifier"
      ]
    },
    {
      "cell_type": "code",
      "execution_count": null,
      "metadata": {
        "id": "FUHSa7b79oaK"
      },
      "outputs": [],
      "source": [
        "document_assembler = nlp.DocumentAssembler()\\\n",
        "    .setInputCol(\"text\")\\\n",
        "    .setOutputCol(\"document\")\n",
        "\n",
        "tokenizer = nlp.Tokenizer() \\\n",
        "    .setInputCols([\"document\"]) \\\n",
        "    .setOutputCol(\"token\")\n",
        "\n",
        "logreg = medical.DocumentLogRegClassifierApproach()\\\n",
        "    .setInputCols(\"token\")\\\n",
        "    .setLabelCol(\"category\")\\\n",
        "    .setOutputCol(\"prediction\")\\\n",
        "    .setMaxIter(10)\\\n",
        "    .setTol(1e-6)\n",
        "\n",
        "clf_Pipeline = nlp.Pipeline(stages=[document_assembler,\n",
        "                                tokenizer,\n",
        "                                logreg])\n",
        "\n",
        "doclogreg_model = clf_Pipeline.fit(trainingData)"
      ]
    },
    {
      "cell_type": "code",
      "execution_count": null,
      "metadata": {
        "colab": {
          "base_uri": "https://localhost:8080/"
        },
        "id": "PbOx1a7X9oaK",
        "outputId": "235c9f19-4421-41f4-e738-07260a0ad3f8"
      },
      "outputs": [
        {
          "name": "stdout",
          "output_type": "stream",
          "text": [
            "              precision    recall  f1-score   support\n",
            "\n",
            "         neg       0.85      0.91      0.88       982\n",
            "         pos       0.76      0.66      0.71       445\n",
            "\n",
            "    accuracy                           0.83      1427\n",
            "   macro avg       0.81      0.78      0.79      1427\n",
            "weighted avg       0.83      0.83      0.83      1427\n",
            "\n"
          ]
        }
      ],
      "source": [
        "pred_df = doclogreg_model.transform(testData)\n",
        "\n",
        "preds_df = pred_df.select('category','prediction.result').toPandas()\n",
        "preds_df['result'] = preds_df.result.apply(lambda x : x[0])\n",
        "\n",
        "print (classification_report(preds_df['category'], preds_df['result']))"
      ]
    }
  ],
  "metadata": {
    "accelerator": "GPU",
    "colab": {
      "machine_shape": "hm",
      "provenance": [],
      "toc_visible": true
    },
    "gpuClass": "standard",
    "kernelspec": {
      "display_name": "Python 3",
      "language": "python",
      "name": "python3"
    },
    "language_info": {
      "name": "python",
      "version": "3.10.4 (tags/v3.10.4:9d38120, Mar 23 2022, 23:13:41) [MSC v.1929 64 bit (AMD64)]"
    },
    "vscode": {
      "interpreter": {
        "hash": "8f527f757492231011ff0f96452bff72dba1ece595fe9390d852b709bf8922e1"
      }
    }
  },
  "nbformat": 4,
  "nbformat_minor": 0
}

{
  "cells": [
    {
      "cell_type": "markdown",
      "metadata": {
        "id": "I08sFJYCxR0Z"
      },
      "source": [
        "![JohnSnowLabs](https://nlp.johnsnowlabs.com/assets/images/logo.png)"
      ]
    },
    {
      "cell_type": "markdown",
      "metadata": {
        "id": "LKI5K1wQrSe9"
      },
      "source": [
        "[![Open In Colab](https://colab.research.google.com/assets/colab-badge.svg)](https://colab.research.google.com/github/JohnSnowLabs/spark-nlp-workshop/blob/master/healthcare-nlp/04.7.Deidentification_Custom_Pretrained_Pipelines.ipynb)\n"
      ]
    },
    {
      "cell_type": "markdown",
      "source": [
        "## Healthcare NLP for Data Scientists Course\n",
        "\n",
        "If you are not familiar with the components in this notebook, you can check [Healthcare NLP for Data Scientists Udemy Course](https://www.udemy.com/course/healthcare-nlp-for-data-scientists/) and the [MOOC Notebooks](https://github.com/JohnSnowLabs/spark-nlp-workshop/tree/master/Spark_NLP_Udemy_MOOC/Healthcare_NLP) for each components."
      ],
      "metadata": {
        "id": "e0N2TiwAR9y4"
      }
    },
    {
      "cell_type": "markdown",
      "metadata": {
        "id": "okhT7AcXxben"
      },
      "source": [
        "## Colab Setup"
      ]
    },
    {
      "cell_type": "code",
      "execution_count": null,
      "metadata": {
        "id": "tQLe_InJtnzA"
      },
      "outputs": [],
      "source": [
        "# Install the johnsnowlabs library to access Spark-OCR and Spark-NLP for Healthcare, Finance, and Legal.\n",
        "! pip install -q johnsnowlabs"
      ]
    },
    {
      "cell_type": "code",
      "execution_count": null,
      "metadata": {
        "id": "JGkYS4CGtN87"
      },
      "outputs": [],
      "source": [
        "from google.colab import files\n",
        "print('Please Upload your John Snow Labs License using the button below')\n",
        "license_keys = files.upload()"
      ]
    },
    {
      "cell_type": "code",
      "execution_count": null,
      "metadata": {
        "id": "iUNHVaSdL0tO"
      },
      "outputs": [],
      "source": [
        "from johnsnowlabs import nlp, medical\n",
        "\n",
        "# After uploading your license run this to install all licensed Python Wheels and pre-download Jars the Spark Session JVM\n",
        "nlp.settings.enforce_versions=True\n",
        "nlp.install(refresh_install=True)"
      ]
    },
    {
      "cell_type": "code",
      "source": [
        "from johnsnowlabs import nlp, medical\n",
        "# Automatically load license data and start a session with all jars user has access to\n",
        "\n",
        "spark = nlp.start()"
      ],
      "metadata": {
        "id": "SGXV8wvFvpak",
        "colab": {
          "base_uri": "https://localhost:8080/"
        },
        "outputId": "fce2af1e-7dab-4d18-a9c7-e6e2c5f29331"
      },
      "execution_count": 4,
      "outputs": [
        {
          "output_type": "stream",
          "name": "stdout",
          "text": [
            "👌 Detected license file /content/spark_nlp_for_healthcare_spark_ocr_9596 (8).json\n",
            "👌 Launched \u001b[92mcpu optimized\u001b[39m session with with: 🚀Spark-NLP==5.5.3, 💊Spark-Healthcare==5.5.3, running on ⚡ PySpark==3.4.0\n"
          ]
        }
      ]
    },
    {
      "cell_type": "code",
      "source": [
        "spark"
      ],
      "metadata": {
        "colab": {
          "base_uri": "https://localhost:8080/",
          "height": 219
        },
        "id": "lyDpsIJfvtq5",
        "outputId": "23dcfc11-c1b0-4352-def9-476cab1050fd"
      },
      "execution_count": 5,
      "outputs": [
        {
          "output_type": "execute_result",
          "data": {
            "text/plain": [
              "<pyspark.sql.session.SparkSession at 0x7a3e9a266950>"
            ],
            "text/html": [
              "\n",
              "            <div>\n",
              "                <p><b>SparkSession - in-memory</b></p>\n",
              "                \n",
              "        <div>\n",
              "            <p><b>SparkContext</b></p>\n",
              "\n",
              "            <p><a href=\"http://127.0.0.1:4050\">Spark UI</a></p>\n",
              "\n",
              "            <dl>\n",
              "              <dt>Version</dt>\n",
              "                <dd><code>v3.4.0</code></dd>\n",
              "              <dt>Master</dt>\n",
              "                <dd><code>local[*]</code></dd>\n",
              "              <dt>AppName</dt>\n",
              "                <dd><code>John-Snow-Labs-Spark-Session 🚀 with Jars for: 🚀Spark-NLP==5.5.3, 💊Spark-Healthcare==5.5.3, running on ⚡ PySpark==3.4.0</code></dd>\n",
              "            </dl>\n",
              "        </div>\n",
              "        \n",
              "            </div>\n",
              "        "
            ]
          },
          "metadata": {},
          "execution_count": 5
        }
      ]
    },
    {
      "cell_type": "code",
      "source": [
        "import json\n",
        "import os\n",
        "\n",
        "import sparknlp\n",
        "import sparknlp_jsl\n",
        "\n",
        "from sparknlp.base import *\n",
        "from sparknlp.util import *\n",
        "from sparknlp.annotator import *\n",
        "from sparknlp_jsl.annotator import *\n",
        "from sparknlp_jsl.pipeline_tracer import PipelineTracer\n",
        "from sparknlp_jsl.pipeline_output_parser import PipelineOutputParser\n",
        "\n",
        "from pyspark.sql import functions as F\n",
        "from pyspark.sql import SparkSession\n",
        "from pyspark.ml import Pipeline, PipelineModel\n",
        "\n",
        "import pandas as pd\n",
        "pd.set_option('display.max_columns', None)\n",
        "pd.set_option('display.expand_frame_repr', False)\n",
        "pd.set_option('max_colwidth', 200)\n",
        "\n",
        "import string\n",
        "import numpy as np"
      ],
      "metadata": {
        "id": "AF0Bi_tlvpX4"
      },
      "execution_count": 6,
      "outputs": []
    },
    {
      "cell_type": "markdown",
      "source": [
        "# Pretrained Deidentification Pipeline\n",
        "\n",
        "The purpose of this notebook is to adjust pretrained pipelines to meet our specific needs. Additionally, it highlights the differences between several de-identification pretrained pipelines. For more information, you can check [here](https://nlp.johnsnowlabs.com/models?task=De-identification&type=pipeline)."
      ],
      "metadata": {
        "id": "hmW62kUuV4m1"
      }
    },
    {
      "cell_type": "markdown",
      "metadata": {
        "id": "51L8GAXtsPcT"
      },
      "source": [
        "# Deidentification Pipelines Stage Comparison\n",
        "\n",
        "\n",
        "| Deidentification Pipeline Name | Stages |\n",
        "|:--------------------------------|:-----------------------------|\n",
        "| [clinical_deidentification](https://nlp.johnsnowlabs.com/2022/09/14/clinical_deidentification_en.html) | 2 NER, 1 Deidentification, 14 Rule-based NER, 1 clinical embedding, 3 chunk merger  |  \n",
        "| [clinical_deidentification_generic](https://nlp.johnsnowlabs.com/2024/02/21/clinical_deidentification_generic_en.html) | 1 NER, 4 Deidentification, 13 Rule-based NER, 1 clinical embedding, 2 chunk merger  |\n",
        "| [clinical_deidentification_generic_optimized](https://nlp.johnsnowlabs.com/2024/03/14/clinical_deidentification_generic_optimized_en.html) | 1 NER, 1 Deidentification, 13 Rule-based NER, 1 clinical embedding, 2 chunk merger  |\n",
        "| [clinical_deidentification_glove](https://nlp.johnsnowlabs.com/2022/03/04/clinical_deidentification_glove_en_3_0.html) | 2 NER, 4 Deidentification, 13 Rule-based NER, 1 clinical embedding, 3 chunk merger  |\n",
        "| [clinical_deidentification_glove_augmented](https://nlp.johnsnowlabs.com/2022/09/16/clinical_deidentification_glove_augmented_en.html) | 2 NER, 4 Deidentification, 8 Rule-based NER, 1 clinical embedding, 3 chunk merger  |\n",
        "| [clinical_deidentification_langtest](https://nlp.johnsnowlabs.com/2024/01/10/clinical_deidentification_langtest_en.html) | 2 NER, 4 Deidentification, 12 Rule-based NER, 1 clinical embedding, 3 chunk merger  |\n",
        "| [clinical_deidentification_multi_mode_output](https://nlp.johnsnowlabs.com/2024/05/31/clinical_deidentification_multi_mode_output_en.html) | 2 NER, 4 Deidentification, 15 Rule-based NER, 1 clinical embedding, 3 chunk merger |\n",
        "| [clinical_deidentification_obfuscation_medium](https://nlp.johnsnowlabs.com/2024/02/09/clinical_deidentification_obfuscation_medium_en.html) | 2 NER, 1 Deidentification, 2 Rule-based NER, 1 clinical embedding, 1 chunk merger  |\n",
        "| [clinical_deidentification_obfuscation_small](https://nlp.johnsnowlabs.com/2024/02/09/clinical_deidentification_obfuscation_small_en.html) | 1 NER, 1 Deidentification, 3 Rule-based NER, 1 clinical embedding, 1 chunk merger  |\n",
        "| [clinical_deidentification_slim](https://nlp.johnsnowlabs.com/2023/06/17/clinical_deidentification_slim_en.html) | 2 NER, 4 Deidentification, 15 Rule-based NER, 1 clinical embedding, 3 chunk merger  |\n",
        "| [clinical_deidentification_subentity](https://nlp.johnsnowlabs.com/2024/02/21/clinical_deidentification_subentity_en.html) | 1 NER, 4 Deidentification, 13 Rule-based NER, 1 clinical embedding, 2 chunk merger  |\n",
        "| [clinical_deidentification_subentity_nameAugmented](https://nlp.johnsnowlabs.com/2024/03/14/clinical_deidentification_subentity_nameAugmented_en.html) | 2 NER, 4 Deidentification, 13 Rule-based NER, 1 clinical embedding, 2 chunk merger  |\n",
        "| [clinical_deidentification_subentity_optimized](https://nlp.johnsnowlabs.com/2024/03/14/clinical_deidentification_subentity_optimized_en.html) | 1 NER, 1 Deidentification, 13 Rule-based NER, 1 clinical embedding, 2 chunk merger  |\n",
        "| [clinical_deidentification_wip](https://nlp.johnsnowlabs.com/2023/06/17/clinical_deidentification_wip_en.html) | 2 NER, 4 Deidentification, 15 Rule-based NER, 1 clinical embedding, 3 chunk merger  |\n",
        "| [ner_deid_augmented_pipeline](https://nlp.johnsnowlabs.com/2022/03/21/ner_deid_augmented_pipeline_en_3_0.html) | 1 NER, 1 clinical embedding |\n",
        "| [ner_deid_biobert_pipeline](https://nlp.johnsnowlabs.com/2022/03/21/ner_deid_biobert_pipeline_en_3_0.html) | 1 NER, 1 clinical embedding  |\n",
        "| [ner_deid_context_augmented_pipeline](https://nlp.johnsnowlabs.com/2024/05/20/ner_deid_context_augmented_pipeline_en.html) | 2 NER, 14 Rule-based NER, 1 clinical embedding, 3 chunk merger  |\n",
        "| [ner_deid_context_nameAugmented_pipeline](https://nlp.johnsnowlabs.com/2024/05/21/ner_deid_context_nameAugmented_pipeline_en.html) | 3 NER, 14 Rule-based NER, 1 clinical embedding, 3 chunk merger  |\n",
        "| [ner_deid_enriched_biobert_pipeline](https://nlp.johnsnowlabs.com/2022/03/21/ner_deid_enriched_biobert_pipeline_en_3_0.html) | 1 NER, 1 clinical embedding  |\n",
        "| [ner_deid_enriched_pipeline](https://nlp.johnsnowlabs.com/2022/03/21/ner_deid_enriched_pipeline_en_3_0.html) | 1 NER, 1 clinical embedding  |\n",
        "| [ner_deid_generic_augmented_pipeline](https://nlp.johnsnowlabs.com/2022/03/21/ner_deid_generic_augmented_pipeline_en_3_0.html) | 1 NER, 1 clinical embedding  |\n",
        "| [ner_deid_generic_context_augmented_pipeline](https://nlp.johnsnowlabs.com/2024/05/20/ner_deid_generic_context_augmented_pipeline_en.html) | 1 NER, 13 Rule-based NER, 1 clinical embedding, 2 chunk merger  |\n",
        "| [ner_deid_generic_glove_pipeline](https://nlp.johnsnowlabs.com/2023/03/13/ner_deid_generic_glove_pipeline_en.html) | 1 NER, 1 clinical embedding  |\n",
        "| [ner_deid_large_pipeline](https://nlp.johnsnowlabs.com/2022/03/21/ner_deid_large_pipeline_en_3_0.html) | 1 NER, 1 clinical embedding  |\n",
        "| [ner_deid_sd_large_pipeline](https://nlp.johnsnowlabs.com/2022/03/21/ner_deid_sd_large_pipeline_en_3_0.html) | 1 NER, 1 clinical embedding  |\n",
        "| [ner_deid_sd_pipeline](https://nlp.johnsnowlabs.com/2022/03/21/ner_deid_sd_pipeline_en_3_0.html) | 1 NER, 1 clinical embedding  |\n",
        "| [ner_deid_subentity_augmented_i2b2_pipeline](https://nlp.johnsnowlabs.com/2022/03/21/ner_deid_subentity_augmented_i2b2_pipeline_en_3_0.html) | 1 NER, 1 clinical embedding  |\n",
        "\n",
        "\n"
      ]
    },
    {
      "cell_type": "markdown",
      "source": [
        "## clinical_deidentification"
      ],
      "metadata": {
        "id": "87BI-HcKFmY3"
      }
    },
    {
      "cell_type": "markdown",
      "source": [
        "This pipeline can be used to deidentify PHI information from medical texts. The PHI information will be masked and obfuscated in the resulting text. The pipeline can mask and obfuscate `LOCATION`, `CONTACT`, `PROFESSION`, `NAME`, `DATE`, `ID`, `AGE`, `MEDICALRECORD`, `ORGANIZATION`, `HEALTHPLAN`, `DOCTOR`, `USERNAME`, `URL`, `DEVICE`, `CITY`, `ZIP`, `STATE`, `PATIENT`, `COUNTRY`, `STREET`, `PHONE`, `HOSPITAL`, `EMAIL`, `IDNUM`, `BIOID`, `FAX`, `SSN`, `ACCOUNT`, `DLN`, `PLATE`, `VIN`, `LICENSE` entities.\n",
        "\n",
        "This pipeline is the optimized version of the previous `clinical_deidentification` pipelines, resulting in significantly improved speed. It returns obfuscated version of the texts as the result and its masked with entity labels version in the metadata."
      ],
      "metadata": {
        "id": "xr013ADpsT_t"
      }
    },
    {
      "cell_type": "code",
      "source": [
        "from sparknlp.pretrained import PretrainedPipeline\n",
        "\n",
        "deid_pipeline = nlp.PretrainedPipeline(\"clinical_deidentification\", \"en\", \"clinical/models\")"
      ],
      "metadata": {
        "id": "eRlGizrqimZD",
        "colab": {
          "base_uri": "https://localhost:8080/"
        },
        "outputId": "125435f0-8b48-4846-de83-c4e9af7c6d15"
      },
      "execution_count": 7,
      "outputs": [
        {
          "output_type": "stream",
          "name": "stdout",
          "text": [
            "clinical_deidentification download started this may take some time.\n",
            "Approx size to download 1.6 GB\n",
            "[OK!]\n"
          ]
        }
      ]
    },
    {
      "cell_type": "code",
      "source": [
        "text= \"\"\"Dr. John Lee, from Royal Medical Clinic in Chicago, attended to the patient on 11/05/2024.\n",
        "         The patient’s medical record number is 56467890.\n",
        "         The patient, Emma Wilson, is 50 years old, with a history of chronic kidney disease stage 3 (N18.3).\n",
        "         Her contact number is 444-456-7890.\"\"\""
      ],
      "metadata": {
        "id": "bX7Xmm2Xleot"
      },
      "execution_count": 8,
      "outputs": []
    },
    {
      "cell_type": "code",
      "source": [
        "%%time\n",
        "deid_result = deid_pipeline.fullAnnotate(text)\n",
        "print(deid_result[0].keys())\n",
        "print(\"\\nMasked Result\")\n",
        "print(\"--\"*30)\n",
        "print('\\n'.join([i.metadata['masked'] for i in deid_result[0]['obfuscated']]))\n",
        "print(\"\\nObfuscated Result\")\n",
        "print(\"--\"*30)\n",
        "print('\\n'.join([i.result for i in deid_result[0]['obfuscated']]),\"\\n\")"
      ],
      "metadata": {
        "id": "fJhB1KC1pE7O",
        "colab": {
          "base_uri": "https://localhost:8080/"
        },
        "outputId": "aee8ef6d-c448-4cdf-c986-cc86b1fe6dc2"
      },
      "execution_count": 9,
      "outputs": [
        {
          "output_type": "stream",
          "name": "stdout",
          "text": [
            "dict_keys(['obfuscated', 'ner_chunk', 'sentence'])\n",
            "\n",
            "Masked Result\n",
            "------------------------------------------------------------\n",
            "Dr. <DOCTOR>, from <HOSPITAL> in <CITY>, attended to the patient on <DATE>.\n",
            "The patient’s medical record number is <MEDICALRECORD>.\n",
            "The patient, <PATIENT>, is <AGE> years old, with a history of chronic kidney disease stage 3 (N18.3).\n",
            "Her contact number is <PHONE>.\n",
            "\n",
            "Obfuscated Result\n",
            "------------------------------------------------------------\n",
            "Dr. Lacy Pick, from Baltimore VA Medical Center in Healdton, attended to the patient on 06/06/2024.\n",
            "The patient’s medical record number is 47576981.\n",
            "The patient, Joyce Nixon, is 40 years old, with a history of chronic kidney disease stage 3 (N18.3).\n",
            "Her contact number is 222-214-3658. \n",
            "\n",
            "CPU times: user 44.5 ms, sys: 19.9 ms, total: 64.4 ms\n",
            "Wall time: 4.11 s\n"
          ]
        }
      ]
    },
    {
      "cell_type": "markdown",
      "source": [
        "For this pretrained pipeline, the time it takes to get the result from the text here is 328 ms and you can see below which entity it is."
      ],
      "metadata": {
        "id": "3KicxOXTmNOY"
      }
    },
    {
      "cell_type": "code",
      "source": [
        "from sparknlp_jsl.pipeline_tracer import PipelineTracer\n",
        "pipeline_tracer_deid = PipelineTracer(deid_pipeline)\n",
        "pipeline_tracer_deid.getPossibleEntities()"
      ],
      "metadata": {
        "colab": {
          "base_uri": "https://localhost:8080/"
        },
        "id": "2MagGbTbC2c7",
        "outputId": "e8ed1523-3de4-4dcc-f1ea-8dec416d0709"
      },
      "execution_count": 10,
      "outputs": [
        {
          "output_type": "execute_result",
          "data": {
            "text/plain": [
              "['LOCATION',\n",
              " 'CONTACT',\n",
              " 'PROFESSION',\n",
              " 'NAME',\n",
              " 'DATE',\n",
              " 'ID',\n",
              " 'AGE',\n",
              " 'MEDICALRECORD',\n",
              " 'ORGANIZATION',\n",
              " 'HEALTHPLAN',\n",
              " 'DOCTOR',\n",
              " 'USERNAME',\n",
              " 'URL',\n",
              " 'DEVICE',\n",
              " 'CITY',\n",
              " 'ZIP',\n",
              " 'STATE',\n",
              " 'PATIENT',\n",
              " 'COUNTRY',\n",
              " 'STREET',\n",
              " 'PHONE',\n",
              " 'HOSPITAL',\n",
              " 'EMAIL',\n",
              " 'IDNUM',\n",
              " 'BIOID',\n",
              " 'FAX',\n",
              " 'SSN',\n",
              " 'ACCOUNT',\n",
              " 'DLN',\n",
              " 'PLATE',\n",
              " 'VIN',\n",
              " 'LICENSE']"
            ]
          },
          "metadata": {},
          "execution_count": 10
        }
      ]
    },
    {
      "cell_type": "markdown",
      "source": [
        "## clinical_deidentification_subentity_optimized"
      ],
      "metadata": {
        "id": "ViI4fGW-Fk3a"
      }
    },
    {
      "cell_type": "markdown",
      "source": [
        "This pipeline can be used to deidentify PHI information from medical texts. The PHI information will be obfuscated in the resulting text and also masked with entitiy labels in the metadata. The pipeline can obfuscate and mask `MEDICALRECORD`, `ORGANIZATION`, `PROFESSION`, `HEALTHPLAN`, `DOCTOR`, `USERNAME`, `URL`, `LOCATION-OTHER`, `DEVICE`, `CITY`, `DATE`, `ZIP`, `STATE`, `PATIENT`, `COUNTRY`, `STREET`, `PHONE`, `HOSPITAL`, `EMAIL`, `IDNUM`, `BIOID`, `FAX`, `AGE`, `SSN`, `ACCOUNT`, `DLN`, `PLATE`, `VIN`, `LICENSE` entities. This pipeline is built using the `ner_deid_subentity_augmented` model as well as `ContextualParser`, `RegexMatcher`, and `TextMatcher` and a single `Deidentification` stage for optimization."
      ],
      "metadata": {
        "id": "X8EUxeodtIuL"
      }
    },
    {
      "cell_type": "code",
      "source": [
        "deid_subentity_pipeline = nlp.PretrainedPipeline(\"clinical_deidentification_subentity_optimized\", \"en\", \"clinical/models\")"
      ],
      "metadata": {
        "colab": {
          "base_uri": "https://localhost:8080/"
        },
        "id": "hD7Kaid4GFAb",
        "outputId": "41844d70-6ef3-415c-d060-52e1df3313bb"
      },
      "execution_count": 11,
      "outputs": [
        {
          "output_type": "stream",
          "name": "stdout",
          "text": [
            "clinical_deidentification_subentity_optimized download started this may take some time.\n",
            "Approx size to download 1.6 GB\n",
            "[OK!]\n"
          ]
        }
      ]
    },
    {
      "cell_type": "code",
      "source": [
        "%%time\n",
        "deid_subentity_result = deid_subentity_pipeline.fullAnnotate(text)\n",
        "deid_subentity_result[0].keys()\n",
        "print(\"\\nMasked Result\")\n",
        "print(\"--\"*30)\n",
        "print('\\n'.join([i.metadata['masked'] for i in deid_subentity_result[0]['obfuscated']]))\n",
        "print(\"\\nObfuscated Result\")\n",
        "print(\"--\"*30)\n",
        "print('\\n'.join([i.result for i in deid_subentity_result[0]['obfuscated']]),\"\\n\")"
      ],
      "metadata": {
        "colab": {
          "base_uri": "https://localhost:8080/"
        },
        "id": "W5l2r54NGPWc",
        "outputId": "e7e55256-5286-4017-99af-136ef4b11c7d"
      },
      "execution_count": 12,
      "outputs": [
        {
          "output_type": "stream",
          "name": "stdout",
          "text": [
            "\n",
            "Masked Result\n",
            "------------------------------------------------------------\n",
            "Dr. <DOCTOR>, from <HOSPITAL> in <CITY>, attended to the patient on <DATE>.\n",
            "The patient’s medical record number is <IDNUM>.\n",
            "The patient, <PATIENT>, is <AGE> years old, with a history of chronic kidney disease stage 3 (N18.3).\n",
            "Her contact number is <PHONE>.\n",
            "\n",
            "Obfuscated Result\n",
            "------------------------------------------------------------\n",
            "Dr. Milburn Aliment, from MARCUS DALY MEMORIAL HOSPITAL in Hostomice pod Brdy, attended to the patient on 13/05/2024.\n",
            "The patient’s medical record number is 58687092.\n",
            "The patient, Alvis Jourdain, is 56 years old, with a history of chronic kidney disease stage 3 (N18.3).\n",
            "Her contact number is 222-214-3658. \n",
            "\n",
            "CPU times: user 23.9 ms, sys: 4.89 ms, total: 28.8 ms\n",
            "Wall time: 503 ms\n"
          ]
        }
      ]
    },
    {
      "cell_type": "markdown",
      "source": [
        "For this pretrained pipeline, the time it takes to get the result from the text here is 675 ms and you can see below which entities it is."
      ],
      "metadata": {
        "id": "0XtupqX0n5f3"
      }
    },
    {
      "cell_type": "code",
      "source": [
        "pipeline_tracer_subentity = PipelineTracer(deid_subentity_pipeline)\n",
        "pipeline_tracer_subentity.getPossibleEntities()"
      ],
      "metadata": {
        "colab": {
          "base_uri": "https://localhost:8080/"
        },
        "id": "XumV6uiMGkOb",
        "outputId": "8a857f32-6e9c-4456-8408-4ab5f609bc13"
      },
      "execution_count": 13,
      "outputs": [
        {
          "output_type": "execute_result",
          "data": {
            "text/plain": [
              "['MEDICALRECORD',\n",
              " 'ORGANIZATION',\n",
              " 'PROFESSION',\n",
              " 'HEALTHPLAN',\n",
              " 'DOCTOR',\n",
              " 'USERNAME',\n",
              " 'URL',\n",
              " 'LOCATION-OTHER',\n",
              " 'DEVICE',\n",
              " 'CITY',\n",
              " 'DATE',\n",
              " 'ZIP',\n",
              " 'STATE',\n",
              " 'PATIENT',\n",
              " 'COUNTRY',\n",
              " 'STREET',\n",
              " 'PHONE',\n",
              " 'HOSPITAL',\n",
              " 'EMAIL',\n",
              " 'IDNUM',\n",
              " 'BIOID',\n",
              " 'FAX',\n",
              " 'AGE',\n",
              " 'SSN',\n",
              " 'ACCOUNT',\n",
              " 'DLN',\n",
              " 'PLATE',\n",
              " 'VIN',\n",
              " 'LICENSE']"
            ]
          },
          "metadata": {},
          "execution_count": 13
        }
      ]
    },
    {
      "cell_type": "markdown",
      "source": [
        "## clinical_deidentification_generic_optimized"
      ],
      "metadata": {
        "id": "xkxO0_BPHJht"
      }
    },
    {
      "cell_type": "markdown",
      "source": [
        "This pipeline can be used to de-identify PHI information from medical texts. The PHI information will be obfuscated in the resulting text and masked with entity labels in the metadata. The pipeline can obfuscate and mask `LOCATION`, `CONTACT`, `PROFESSION`, `NAME`, `DATE`, `ID`, `AGE`, `COUNTRY`, `SSN`, `ACCOUNT`, `DLN`, `PLATE`, `VIN`, `LICENSE`, `PHONE`, `ZIP`, `MEDICALRECORD`, `EMAIL` entities. This pipeline is built using the `ner_deid_generic_augmented` model, and `ContextualParser`, `RegexMatcher`, and `TextMatcher` and a single `Deidentification` stage for optimization."
      ],
      "metadata": {
        "id": "-JTMqmzmtYdu"
      }
    },
    {
      "cell_type": "code",
      "source": [
        "deid_generic_pipeline = nlp.PretrainedPipeline(\"clinical_deidentification_generic_optimized\", \"en\", \"clinical/models\")"
      ],
      "metadata": {
        "colab": {
          "base_uri": "https://localhost:8080/"
        },
        "id": "gkbZyEYcHTQN",
        "outputId": "44657a40-4dfe-4cb6-e7dc-87a3690bb5a2"
      },
      "execution_count": 14,
      "outputs": [
        {
          "output_type": "stream",
          "name": "stdout",
          "text": [
            "clinical_deidentification_generic_optimized download started this may take some time.\n",
            "Approx size to download 1.6 GB\n",
            "[OK!]\n"
          ]
        }
      ]
    },
    {
      "cell_type": "code",
      "source": [
        "%%time\n",
        "deid_generic_result = deid_generic_pipeline.fullAnnotate(text)\n",
        "deid_generic_result[0].keys()\n",
        "print(\"\\nMasked Result\")\n",
        "print(\"--\"*30)\n",
        "print('\\n'.join([i.metadata['masked'] for i in deid_generic_result[0]['obfuscated']]))\n",
        "print(\"\\nObfuscated Result\")\n",
        "print(\"--\"*30)\n",
        "print('\\n'.join([i.result for i in deid_generic_result[0]['obfuscated']]),\"\\n\")"
      ],
      "metadata": {
        "colab": {
          "base_uri": "https://localhost:8080/"
        },
        "id": "hekHbtfUHJ2G",
        "outputId": "e9ff460f-4e82-419a-dd30-cea43305f2ed"
      },
      "execution_count": 15,
      "outputs": [
        {
          "output_type": "stream",
          "name": "stdout",
          "text": [
            "\n",
            "Masked Result\n",
            "------------------------------------------------------------\n",
            "Dr. <NAME>, from <LOCATION> in <LOCATION>, attended to the patient on <DATE>.\n",
            "The patient’s medical record number is <ID>.\n",
            "The patient, <NAME>, is <AGE> years old, with a history of chronic kidney disease stage 3 (N18.3).\n",
            "Her contact number is <CONTACT>.\n",
            "\n",
            "Obfuscated Result\n",
            "------------------------------------------------------------\n",
            "Dr. Mliss Anderson, from 220 Steuben St in 2828 North National Avenue, attended to the patient on 12/06/2024.\n",
            "The patient’s medical record number is 47576981.\n",
            "The patient, Marcus Sewer, is 47 years old, with a history of chronic kidney disease stage 3 (N18.3).\n",
            "Her contact number is (54) 5291-7595. \n",
            "\n",
            "CPU times: user 21.8 ms, sys: 16.2 ms, total: 37.9 ms\n",
            "Wall time: 539 ms\n"
          ]
        }
      ]
    },
    {
      "cell_type": "markdown",
      "source": [
        "For this pretrained pipeline, the time it takes to get the result from the text here is 675 ms and you can see below which entities it is."
      ],
      "metadata": {
        "id": "afncGOJ-ohpO"
      }
    },
    {
      "cell_type": "code",
      "source": [
        "pipeline_tracer_generic = PipelineTracer(deid_generic_pipeline)\n",
        "pipeline_tracer_generic.getPossibleEntities()"
      ],
      "metadata": {
        "colab": {
          "base_uri": "https://localhost:8080/"
        },
        "id": "LZhgmb05Hmlt",
        "outputId": "933c0942-8d6a-49de-ca20-7131405c6c9e"
      },
      "execution_count": 16,
      "outputs": [
        {
          "output_type": "execute_result",
          "data": {
            "text/plain": [
              "['LOCATION',\n",
              " 'CONTACT',\n",
              " 'PROFESSION',\n",
              " 'NAME',\n",
              " 'DATE',\n",
              " 'ID',\n",
              " 'AGE',\n",
              " 'COUNTRY',\n",
              " 'SSN',\n",
              " 'ACCOUNT',\n",
              " 'DLN',\n",
              " 'PLATE',\n",
              " 'VIN',\n",
              " 'LICENSE',\n",
              " 'PHONE',\n",
              " 'ZIP',\n",
              " 'MEDICALRECORD',\n",
              " 'EMAIL']"
            ]
          },
          "metadata": {},
          "execution_count": 16
        }
      ]
    },
    {
      "cell_type": "markdown",
      "source": [
        "## clinical_deidentification_multi_mode_output"
      ],
      "metadata": {
        "id": "hz5LsnxyINKr"
      }
    },
    {
      "cell_type": "markdown",
      "source": [
        "This pipeline can be used to de-identify PHI information from medical texts. The PHI information will be masked and obfuscated in the resulting text. The pipeline can mask and obfuscate `LOCATION`, `CONTACT`, `PROFESSION`, `NAME`, `DATE`, `ID`, `AGE`, `MEDICALRECORD`, `ORGANIZATION`, `HEALTHPLAN`, `DOCTOR`, `USERNAME`, `URL`, `DEVICE`, `CITY`, `ZIP`, `STATE`, `PATIENT`, `COUNTRY`, `STREET`, `PHONE`, `HOSPITAL`, `EMAIL`, `IDNUM`, `BIOID`, `FAX`, `SSN`, `ACCOUNT`, `DLN`, `PLATE`, `VIN`, `LICENSE` entities.\n",
        "\n",
        "This pipeline simultaneously produces masked with entity labels, fixed-length char, same-length char and obfuscated version of the text."
      ],
      "metadata": {
        "id": "S45MPImPtm2B"
      }
    },
    {
      "cell_type": "code",
      "source": [
        "deid_multi_mode_pipeline = nlp.PretrainedPipeline(\"clinical_deidentification_multi_mode_output\", \"en\", \"clinical/models\")"
      ],
      "metadata": {
        "colab": {
          "base_uri": "https://localhost:8080/"
        },
        "id": "07WBbbaKINh5",
        "outputId": "36daa978-39fe-43f1-ec5c-5323a2b4bdaf"
      },
      "execution_count": 17,
      "outputs": [
        {
          "output_type": "stream",
          "name": "stdout",
          "text": [
            "clinical_deidentification_multi_mode_output download started this may take some time.\n",
            "Approx size to download 1.6 GB\n",
            "[OK!]\n"
          ]
        }
      ]
    },
    {
      "cell_type": "code",
      "source": [
        "%%time\n",
        "deid_multi_mode_result = deid_multi_mode_pipeline.annotate(text)\n",
        "deid_multi_mode_result.keys()\n",
        "\n",
        "pd.set_option(\"display.max_colwidth\", 200)\n",
        "df= pd.DataFrame(list(zip(deid_multi_mode_result[\"sentence\"],\n",
        "                          deid_multi_mode_result[\"masked\"],\n",
        "                          deid_multi_mode_result[\"masked_with_chars\"],\n",
        "                          deid_multi_mode_result[\"masked_fixed_length_chars\"],\n",
        "                          deid_multi_mode_result[\"obfuscated\"])),\n",
        "\n",
        "                 columns= [\"Sentence\",\n",
        "                           \"Masked\",\n",
        "                           \"Masked with Chars\",\n",
        "                           \"Masked with Fixed Chars\",\n",
        "                           \"Obfuscated\"])\n",
        "df"
      ],
      "metadata": {
        "colab": {
          "base_uri": "https://localhost:8080/",
          "height": 366
        },
        "id": "nXuneGZxITGF",
        "outputId": "51fe015e-2a7e-4665-99f4-43d7bbcdb4ff"
      },
      "execution_count": 18,
      "outputs": [
        {
          "output_type": "stream",
          "name": "stdout",
          "text": [
            "CPU times: user 54.6 ms, sys: 23.9 ms, total: 78.4 ms\n",
            "Wall time: 1.15 s\n"
          ]
        },
        {
          "output_type": "execute_result",
          "data": {
            "text/plain": [
              "                                                                                               Sentence                                                                                                 Masked                                                                                     Masked with Chars                                                                          Masked with Fixed Chars                                                                                                 Obfuscated\n",
              "0            Dr. John Lee, from Royal Medical Clinic in Chicago, attended to the patient on 11/05/2024.                            Dr. <DOCTOR>, from <HOSPITAL> in <CITY>, attended to the patient on <DATE>.            Dr. [******], from [******************] in [*****], attended to the patient on [********].                                    Dr. ****, from **** in ****, attended to the patient on ****.      Dr. Remonia Carmin, from MERCY HOSPITAL ADA, INC. in Botucatu, attended to the patient on 31/05/2024.\n",
              "1                                                      The patient’s medical record number is 56467890.                                                The patient’s medical record number is <MEDICALRECORD>.                                                      The patient’s medical record number is [******].                                                     The patient’s medical record number is ****.                                                           The patient’s medical record number is 47576981.\n",
              "2  The patient, Emma Wilson, is 50 years old, with a history of chronic kidney disease stage 3 (N18.3).  The patient, <PATIENT>, is <AGE> years old, with a history of chronic kidney disease stage 3 (N18.3).  The patient, [*********], is ** years old, with a history of chronic kidney disease stage 3 (N18.3).  The patient, ****, is **** years old, with a history of chronic kidney disease stage 3 (N18.3).  The patient, Bettylou Brunner, is 56 years old, with a history of chronic kidney disease stage 3 (N18.3).\n",
              "3                                                                   Her contact number is 444-456-7890.                                                                         Her contact number is <PHONE>.                                                                   Her contact number is [**********].                                                                      Her contact number is ****.                                                                        Her contact number is 222-214-3658."
            ],
            "text/html": [
              "\n",
              "  <div id=\"df-a93b473d-2a45-4697-8fb6-cf68d8f60946\" class=\"colab-df-container\">\n",
              "    <div>\n",
              "<style scoped>\n",
              "    .dataframe tbody tr th:only-of-type {\n",
              "        vertical-align: middle;\n",
              "    }\n",
              "\n",
              "    .dataframe tbody tr th {\n",
              "        vertical-align: top;\n",
              "    }\n",
              "\n",
              "    .dataframe thead th {\n",
              "        text-align: right;\n",
              "    }\n",
              "</style>\n",
              "<table border=\"1\" class=\"dataframe\">\n",
              "  <thead>\n",
              "    <tr style=\"text-align: right;\">\n",
              "      <th></th>\n",
              "      <th>Sentence</th>\n",
              "      <th>Masked</th>\n",
              "      <th>Masked with Chars</th>\n",
              "      <th>Masked with Fixed Chars</th>\n",
              "      <th>Obfuscated</th>\n",
              "    </tr>\n",
              "  </thead>\n",
              "  <tbody>\n",
              "    <tr>\n",
              "      <th>0</th>\n",
              "      <td>Dr. John Lee, from Royal Medical Clinic in Chicago, attended to the patient on 11/05/2024.</td>\n",
              "      <td>Dr. &lt;DOCTOR&gt;, from &lt;HOSPITAL&gt; in &lt;CITY&gt;, attended to the patient on &lt;DATE&gt;.</td>\n",
              "      <td>Dr. [******], from [******************] in [*****], attended to the patient on [********].</td>\n",
              "      <td>Dr. ****, from **** in ****, attended to the patient on ****.</td>\n",
              "      <td>Dr. Remonia Carmin, from MERCY HOSPITAL ADA, INC. in Botucatu, attended to the patient on 31/05/2024.</td>\n",
              "    </tr>\n",
              "    <tr>\n",
              "      <th>1</th>\n",
              "      <td>The patient’s medical record number is 56467890.</td>\n",
              "      <td>The patient’s medical record number is &lt;MEDICALRECORD&gt;.</td>\n",
              "      <td>The patient’s medical record number is [******].</td>\n",
              "      <td>The patient’s medical record number is ****.</td>\n",
              "      <td>The patient’s medical record number is 47576981.</td>\n",
              "    </tr>\n",
              "    <tr>\n",
              "      <th>2</th>\n",
              "      <td>The patient, Emma Wilson, is 50 years old, with a history of chronic kidney disease stage 3 (N18.3).</td>\n",
              "      <td>The patient, &lt;PATIENT&gt;, is &lt;AGE&gt; years old, with a history of chronic kidney disease stage 3 (N18.3).</td>\n",
              "      <td>The patient, [*********], is ** years old, with a history of chronic kidney disease stage 3 (N18.3).</td>\n",
              "      <td>The patient, ****, is **** years old, with a history of chronic kidney disease stage 3 (N18.3).</td>\n",
              "      <td>The patient, Bettylou Brunner, is 56 years old, with a history of chronic kidney disease stage 3 (N18.3).</td>\n",
              "    </tr>\n",
              "    <tr>\n",
              "      <th>3</th>\n",
              "      <td>Her contact number is 444-456-7890.</td>\n",
              "      <td>Her contact number is &lt;PHONE&gt;.</td>\n",
              "      <td>Her contact number is [**********].</td>\n",
              "      <td>Her contact number is ****.</td>\n",
              "      <td>Her contact number is 222-214-3658.</td>\n",
              "    </tr>\n",
              "  </tbody>\n",
              "</table>\n",
              "</div>\n",
              "    <div class=\"colab-df-buttons\">\n",
              "\n",
              "  <div class=\"colab-df-container\">\n",
              "    <button class=\"colab-df-convert\" onclick=\"convertToInteractive('df-a93b473d-2a45-4697-8fb6-cf68d8f60946')\"\n",
              "            title=\"Convert this dataframe to an interactive table.\"\n",
              "            style=\"display:none;\">\n",
              "\n",
              "  <svg xmlns=\"http://www.w3.org/2000/svg\" height=\"24px\" viewBox=\"0 -960 960 960\">\n",
              "    <path d=\"M120-120v-720h720v720H120Zm60-500h600v-160H180v160Zm220 220h160v-160H400v160Zm0 220h160v-160H400v160ZM180-400h160v-160H180v160Zm440 0h160v-160H620v160ZM180-180h160v-160H180v160Zm440 0h160v-160H620v160Z\"/>\n",
              "  </svg>\n",
              "    </button>\n",
              "\n",
              "  <style>\n",
              "    .colab-df-container {\n",
              "      display:flex;\n",
              "      gap: 12px;\n",
              "    }\n",
              "\n",
              "    .colab-df-convert {\n",
              "      background-color: #E8F0FE;\n",
              "      border: none;\n",
              "      border-radius: 50%;\n",
              "      cursor: pointer;\n",
              "      display: none;\n",
              "      fill: #1967D2;\n",
              "      height: 32px;\n",
              "      padding: 0 0 0 0;\n",
              "      width: 32px;\n",
              "    }\n",
              "\n",
              "    .colab-df-convert:hover {\n",
              "      background-color: #E2EBFA;\n",
              "      box-shadow: 0px 1px 2px rgba(60, 64, 67, 0.3), 0px 1px 3px 1px rgba(60, 64, 67, 0.15);\n",
              "      fill: #174EA6;\n",
              "    }\n",
              "\n",
              "    .colab-df-buttons div {\n",
              "      margin-bottom: 4px;\n",
              "    }\n",
              "\n",
              "    [theme=dark] .colab-df-convert {\n",
              "      background-color: #3B4455;\n",
              "      fill: #D2E3FC;\n",
              "    }\n",
              "\n",
              "    [theme=dark] .colab-df-convert:hover {\n",
              "      background-color: #434B5C;\n",
              "      box-shadow: 0px 1px 3px 1px rgba(0, 0, 0, 0.15);\n",
              "      filter: drop-shadow(0px 1px 2px rgba(0, 0, 0, 0.3));\n",
              "      fill: #FFFFFF;\n",
              "    }\n",
              "  </style>\n",
              "\n",
              "    <script>\n",
              "      const buttonEl =\n",
              "        document.querySelector('#df-a93b473d-2a45-4697-8fb6-cf68d8f60946 button.colab-df-convert');\n",
              "      buttonEl.style.display =\n",
              "        google.colab.kernel.accessAllowed ? 'block' : 'none';\n",
              "\n",
              "      async function convertToInteractive(key) {\n",
              "        const element = document.querySelector('#df-a93b473d-2a45-4697-8fb6-cf68d8f60946');\n",
              "        const dataTable =\n",
              "          await google.colab.kernel.invokeFunction('convertToInteractive',\n",
              "                                                    [key], {});\n",
              "        if (!dataTable) return;\n",
              "\n",
              "        const docLinkHtml = 'Like what you see? Visit the ' +\n",
              "          '<a target=\"_blank\" href=https://colab.research.google.com/notebooks/data_table.ipynb>data table notebook</a>'\n",
              "          + ' to learn more about interactive tables.';\n",
              "        element.innerHTML = '';\n",
              "        dataTable['output_type'] = 'display_data';\n",
              "        await google.colab.output.renderOutput(dataTable, element);\n",
              "        const docLink = document.createElement('div');\n",
              "        docLink.innerHTML = docLinkHtml;\n",
              "        element.appendChild(docLink);\n",
              "      }\n",
              "    </script>\n",
              "  </div>\n",
              "\n",
              "\n",
              "<div id=\"df-adec43ac-783f-42d8-8fc0-e17397715ac2\">\n",
              "  <button class=\"colab-df-quickchart\" onclick=\"quickchart('df-adec43ac-783f-42d8-8fc0-e17397715ac2')\"\n",
              "            title=\"Suggest charts\"\n",
              "            style=\"display:none;\">\n",
              "\n",
              "<svg xmlns=\"http://www.w3.org/2000/svg\" height=\"24px\"viewBox=\"0 0 24 24\"\n",
              "     width=\"24px\">\n",
              "    <g>\n",
              "        <path d=\"M19 3H5c-1.1 0-2 .9-2 2v14c0 1.1.9 2 2 2h14c1.1 0 2-.9 2-2V5c0-1.1-.9-2-2-2zM9 17H7v-7h2v7zm4 0h-2V7h2v10zm4 0h-2v-4h2v4z\"/>\n",
              "    </g>\n",
              "</svg>\n",
              "  </button>\n",
              "\n",
              "<style>\n",
              "  .colab-df-quickchart {\n",
              "      --bg-color: #E8F0FE;\n",
              "      --fill-color: #1967D2;\n",
              "      --hover-bg-color: #E2EBFA;\n",
              "      --hover-fill-color: #174EA6;\n",
              "      --disabled-fill-color: #AAA;\n",
              "      --disabled-bg-color: #DDD;\n",
              "  }\n",
              "\n",
              "  [theme=dark] .colab-df-quickchart {\n",
              "      --bg-color: #3B4455;\n",
              "      --fill-color: #D2E3FC;\n",
              "      --hover-bg-color: #434B5C;\n",
              "      --hover-fill-color: #FFFFFF;\n",
              "      --disabled-bg-color: #3B4455;\n",
              "      --disabled-fill-color: #666;\n",
              "  }\n",
              "\n",
              "  .colab-df-quickchart {\n",
              "    background-color: var(--bg-color);\n",
              "    border: none;\n",
              "    border-radius: 50%;\n",
              "    cursor: pointer;\n",
              "    display: none;\n",
              "    fill: var(--fill-color);\n",
              "    height: 32px;\n",
              "    padding: 0;\n",
              "    width: 32px;\n",
              "  }\n",
              "\n",
              "  .colab-df-quickchart:hover {\n",
              "    background-color: var(--hover-bg-color);\n",
              "    box-shadow: 0 1px 2px rgba(60, 64, 67, 0.3), 0 1px 3px 1px rgba(60, 64, 67, 0.15);\n",
              "    fill: var(--button-hover-fill-color);\n",
              "  }\n",
              "\n",
              "  .colab-df-quickchart-complete:disabled,\n",
              "  .colab-df-quickchart-complete:disabled:hover {\n",
              "    background-color: var(--disabled-bg-color);\n",
              "    fill: var(--disabled-fill-color);\n",
              "    box-shadow: none;\n",
              "  }\n",
              "\n",
              "  .colab-df-spinner {\n",
              "    border: 2px solid var(--fill-color);\n",
              "    border-color: transparent;\n",
              "    border-bottom-color: var(--fill-color);\n",
              "    animation:\n",
              "      spin 1s steps(1) infinite;\n",
              "  }\n",
              "\n",
              "  @keyframes spin {\n",
              "    0% {\n",
              "      border-color: transparent;\n",
              "      border-bottom-color: var(--fill-color);\n",
              "      border-left-color: var(--fill-color);\n",
              "    }\n",
              "    20% {\n",
              "      border-color: transparent;\n",
              "      border-left-color: var(--fill-color);\n",
              "      border-top-color: var(--fill-color);\n",
              "    }\n",
              "    30% {\n",
              "      border-color: transparent;\n",
              "      border-left-color: var(--fill-color);\n",
              "      border-top-color: var(--fill-color);\n",
              "      border-right-color: var(--fill-color);\n",
              "    }\n",
              "    40% {\n",
              "      border-color: transparent;\n",
              "      border-right-color: var(--fill-color);\n",
              "      border-top-color: var(--fill-color);\n",
              "    }\n",
              "    60% {\n",
              "      border-color: transparent;\n",
              "      border-right-color: var(--fill-color);\n",
              "    }\n",
              "    80% {\n",
              "      border-color: transparent;\n",
              "      border-right-color: var(--fill-color);\n",
              "      border-bottom-color: var(--fill-color);\n",
              "    }\n",
              "    90% {\n",
              "      border-color: transparent;\n",
              "      border-bottom-color: var(--fill-color);\n",
              "    }\n",
              "  }\n",
              "</style>\n",
              "\n",
              "  <script>\n",
              "    async function quickchart(key) {\n",
              "      const quickchartButtonEl =\n",
              "        document.querySelector('#' + key + ' button');\n",
              "      quickchartButtonEl.disabled = true;  // To prevent multiple clicks.\n",
              "      quickchartButtonEl.classList.add('colab-df-spinner');\n",
              "      try {\n",
              "        const charts = await google.colab.kernel.invokeFunction(\n",
              "            'suggestCharts', [key], {});\n",
              "      } catch (error) {\n",
              "        console.error('Error during call to suggestCharts:', error);\n",
              "      }\n",
              "      quickchartButtonEl.classList.remove('colab-df-spinner');\n",
              "      quickchartButtonEl.classList.add('colab-df-quickchart-complete');\n",
              "    }\n",
              "    (() => {\n",
              "      let quickchartButtonEl =\n",
              "        document.querySelector('#df-adec43ac-783f-42d8-8fc0-e17397715ac2 button');\n",
              "      quickchartButtonEl.style.display =\n",
              "        google.colab.kernel.accessAllowed ? 'block' : 'none';\n",
              "    })();\n",
              "  </script>\n",
              "</div>\n",
              "\n",
              "  <div id=\"id_4f1b543c-dfc6-4c58-89fb-f504a96f397f\">\n",
              "    <style>\n",
              "      .colab-df-generate {\n",
              "        background-color: #E8F0FE;\n",
              "        border: none;\n",
              "        border-radius: 50%;\n",
              "        cursor: pointer;\n",
              "        display: none;\n",
              "        fill: #1967D2;\n",
              "        height: 32px;\n",
              "        padding: 0 0 0 0;\n",
              "        width: 32px;\n",
              "      }\n",
              "\n",
              "      .colab-df-generate:hover {\n",
              "        background-color: #E2EBFA;\n",
              "        box-shadow: 0px 1px 2px rgba(60, 64, 67, 0.3), 0px 1px 3px 1px rgba(60, 64, 67, 0.15);\n",
              "        fill: #174EA6;\n",
              "      }\n",
              "\n",
              "      [theme=dark] .colab-df-generate {\n",
              "        background-color: #3B4455;\n",
              "        fill: #D2E3FC;\n",
              "      }\n",
              "\n",
              "      [theme=dark] .colab-df-generate:hover {\n",
              "        background-color: #434B5C;\n",
              "        box-shadow: 0px 1px 3px 1px rgba(0, 0, 0, 0.15);\n",
              "        filter: drop-shadow(0px 1px 2px rgba(0, 0, 0, 0.3));\n",
              "        fill: #FFFFFF;\n",
              "      }\n",
              "    </style>\n",
              "    <button class=\"colab-df-generate\" onclick=\"generateWithVariable('df')\"\n",
              "            title=\"Generate code using this dataframe.\"\n",
              "            style=\"display:none;\">\n",
              "\n",
              "  <svg xmlns=\"http://www.w3.org/2000/svg\" height=\"24px\"viewBox=\"0 0 24 24\"\n",
              "       width=\"24px\">\n",
              "    <path d=\"M7,19H8.4L18.45,9,17,7.55,7,17.6ZM5,21V16.75L18.45,3.32a2,2,0,0,1,2.83,0l1.4,1.43a1.91,1.91,0,0,1,.58,1.4,1.91,1.91,0,0,1-.58,1.4L9.25,21ZM18.45,9,17,7.55Zm-12,3A5.31,5.31,0,0,0,4.9,8.1,5.31,5.31,0,0,0,1,6.5,5.31,5.31,0,0,0,4.9,4.9,5.31,5.31,0,0,0,6.5,1,5.31,5.31,0,0,0,8.1,4.9,5.31,5.31,0,0,0,12,6.5,5.46,5.46,0,0,0,6.5,12Z\"/>\n",
              "  </svg>\n",
              "    </button>\n",
              "    <script>\n",
              "      (() => {\n",
              "      const buttonEl =\n",
              "        document.querySelector('#id_4f1b543c-dfc6-4c58-89fb-f504a96f397f button.colab-df-generate');\n",
              "      buttonEl.style.display =\n",
              "        google.colab.kernel.accessAllowed ? 'block' : 'none';\n",
              "\n",
              "      buttonEl.onclick = () => {\n",
              "        google.colab.notebook.generateWithVariable('df');\n",
              "      }\n",
              "      })();\n",
              "    </script>\n",
              "  </div>\n",
              "\n",
              "    </div>\n",
              "  </div>\n"
            ],
            "application/vnd.google.colaboratory.intrinsic+json": {
              "type": "dataframe",
              "variable_name": "df",
              "summary": "{\n  \"name\": \"df\",\n  \"rows\": 4,\n  \"fields\": [\n    {\n      \"column\": \"Sentence\",\n      \"properties\": {\n        \"dtype\": \"string\",\n        \"num_unique_values\": 4,\n        \"samples\": [\n          \"The patient\\u2019s medical record number is 56467890.\",\n          \"Her contact number is 444-456-7890.\",\n          \"Dr. John Lee, from Royal Medical Clinic in Chicago, attended to the patient on 11/05/2024.\"\n        ],\n        \"semantic_type\": \"\",\n        \"description\": \"\"\n      }\n    },\n    {\n      \"column\": \"Masked\",\n      \"properties\": {\n        \"dtype\": \"string\",\n        \"num_unique_values\": 4,\n        \"samples\": [\n          \"The patient\\u2019s medical record number is <MEDICALRECORD>.\",\n          \"Her contact number is <PHONE>.\",\n          \"Dr. <DOCTOR>, from <HOSPITAL> in <CITY>, attended to the patient on <DATE>.\"\n        ],\n        \"semantic_type\": \"\",\n        \"description\": \"\"\n      }\n    },\n    {\n      \"column\": \"Masked with Chars\",\n      \"properties\": {\n        \"dtype\": \"string\",\n        \"num_unique_values\": 4,\n        \"samples\": [\n          \"The patient\\u2019s medical record number is [******].\",\n          \"Her contact number is [**********].\",\n          \"Dr. [******], from [******************] in [*****], attended to the patient on [********].\"\n        ],\n        \"semantic_type\": \"\",\n        \"description\": \"\"\n      }\n    },\n    {\n      \"column\": \"Masked with Fixed Chars\",\n      \"properties\": {\n        \"dtype\": \"string\",\n        \"num_unique_values\": 4,\n        \"samples\": [\n          \"The patient\\u2019s medical record number is ****.\",\n          \"Her contact number is ****.\",\n          \"Dr. ****, from **** in ****, attended to the patient on ****.\"\n        ],\n        \"semantic_type\": \"\",\n        \"description\": \"\"\n      }\n    },\n    {\n      \"column\": \"Obfuscated\",\n      \"properties\": {\n        \"dtype\": \"string\",\n        \"num_unique_values\": 4,\n        \"samples\": [\n          \"The patient\\u2019s medical record number is 47576981.\",\n          \"Her contact number is 222-214-3658.\",\n          \"Dr. Remonia Carmin, from MERCY HOSPITAL ADA, INC. in Botucatu, attended to the patient on 31/05/2024.\"\n        ],\n        \"semantic_type\": \"\",\n        \"description\": \"\"\n      }\n    }\n  ]\n}"
            }
          },
          "metadata": {},
          "execution_count": 18
        }
      ]
    },
    {
      "cell_type": "markdown",
      "source": [
        "For this pretrained pipeline, the time it takes to get the result from the text here is 1.17 s and you can see below which entity it is.\n"
      ],
      "metadata": {
        "id": "n3MefYmsn_ey"
      }
    },
    {
      "cell_type": "code",
      "source": [
        "pipeline_tracer_multi_mode = PipelineTracer(deid_multi_mode_pipeline)\n",
        "pipeline_tracer_multi_mode.getPossibleEntities()"
      ],
      "metadata": {
        "colab": {
          "base_uri": "https://localhost:8080/"
        },
        "id": "iKgypwlgl8Mj",
        "outputId": "8f62576c-d4b7-484f-8621-d069c17367df"
      },
      "execution_count": 19,
      "outputs": [
        {
          "output_type": "execute_result",
          "data": {
            "text/plain": [
              "['LOCATION',\n",
              " 'CONTACT',\n",
              " 'PROFESSION',\n",
              " 'NAME',\n",
              " 'DATE',\n",
              " 'ID',\n",
              " 'AGE',\n",
              " 'MEDICALRECORD',\n",
              " 'ORGANIZATION',\n",
              " 'HEALTHPLAN',\n",
              " 'DOCTOR',\n",
              " 'USERNAME',\n",
              " 'URL',\n",
              " 'DEVICE',\n",
              " 'CITY',\n",
              " 'ZIP',\n",
              " 'STATE',\n",
              " 'PATIENT',\n",
              " 'COUNTRY',\n",
              " 'STREET',\n",
              " 'PHONE',\n",
              " 'HOSPITAL',\n",
              " 'EMAIL',\n",
              " 'BIOID',\n",
              " 'FAX',\n",
              " 'SSN',\n",
              " 'ACCOUNT',\n",
              " 'DLN',\n",
              " 'PLATE',\n",
              " 'VIN',\n",
              " 'LICENSE']"
            ]
          },
          "metadata": {},
          "execution_count": 19
        }
      ]
    },
    {
      "cell_type": "markdown",
      "source": [
        "As seen above, each pretrained de-identification pipeline is designed for specific purposes. Some pipelines return only main entities, while others include both main and sub-entities. Additionally, depending on the models and stages used within each pretrained pipeline, there are differences in processing times. It also appears that certain pretrained models have different keys. Here, you can select the pretrained pipeline that best fits your needs. For more information, you can check [here](https://nlp.johnsnowlabs.com/models?task=De-identification&type=pipeline)."
      ],
      "metadata": {
        "id": "f1erneXPeQIH"
      }
    },
    {
      "cell_type": "markdown",
      "metadata": {
        "id": "4oW9hFmMiqla"
      },
      "source": [
        "# Pipeline Stage Modification\n",
        "\n",
        "Now we will examine how to modify the pretrained pipelines according to our requirements using the `clinical_deidentification`.\n"
      ]
    },
    {
      "cell_type": "code",
      "source": [
        "# # We will use transform after every change we make. For this we create empty_data.\n",
        "empty_data = spark.createDataFrame([[\"\"]]).toDF(\"text\")"
      ],
      "metadata": {
        "id": "j1usF4GH9igT"
      },
      "execution_count": 20,
      "outputs": []
    },
    {
      "cell_type": "markdown",
      "source": [
        "Here, we are checking the stages of the pretrained pipeline."
      ],
      "metadata": {
        "id": "KjqW6fjFwHBk"
      }
    },
    {
      "cell_type": "code",
      "execution_count": 21,
      "metadata": {
        "id": "Ff1Xw4aGiqlb",
        "colab": {
          "base_uri": "https://localhost:8080/"
        },
        "outputId": "a9817070-c54c-4772-de4f-a687f84b0b59"
      },
      "outputs": [
        {
          "output_type": "execute_result",
          "data": {
            "text/plain": [
              "[DocumentAssembler_0293828e42e5,\n",
              " SentenceDetectorDLModel_6bafc4746ea5,\n",
              " REGEX_TOKENIZER_ede41b4357b5,\n",
              " WORD_EMBEDDINGS_MODEL_9004b1d00302,\n",
              " MedicalNerModel_e8178a1262cc,\n",
              " NER_CONVERTER_1058f6f116d4,\n",
              " MedicalNerModel_9d4a08b1c03d,\n",
              " NER_CONVERTER_dc9b41725c7e,\n",
              " MERGE_14697a4bf7ea,\n",
              " CONTEXTUAL-PARSER_29d8f2e94a43,\n",
              " CONTEXTUAL-PARSER_9b30de083926,\n",
              " CONTEXTUAL-PARSER_009dd91ad279,\n",
              " CONTEXTUAL-PARSER_70bce6260bb4,\n",
              " CONTEXTUAL-PARSER_c7c49d4cc377,\n",
              " CONTEXTUAL-PARSER_4cdb8328ac10,\n",
              " ENTITY_EXTRACTOR_00a0458116f7,\n",
              " ENTITY_EXTRACTOR_396241ad6df7,\n",
              " CONTEXTUAL-PARSER_24e76bf85739,\n",
              " REGEX_MATCHER_e4237b63b8d9,\n",
              " CONTEXTUAL-PARSER_2b9eb4befaa6,\n",
              " CONTEXTUAL-PARSER_0892cc982b30,\n",
              " CONTEXTUAL-PARSER_20cecdf31e95,\n",
              " CONTEXTUAL-PARSER_69dda3cbafc9,\n",
              " MERGE_359f55073107,\n",
              " MERGE_2493d1337efe,\n",
              " DE-IDENTIFICATION_030ae1ab1b7a,\n",
              " Finisher_e9a5d603229b]"
            ]
          },
          "metadata": {},
          "execution_count": 21
        }
      ],
      "source": [
        "deid_pipeline.model.stages"
      ]
    },
    {
      "cell_type": "code",
      "source": [
        "len(deid_pipeline.model.stages)"
      ],
      "metadata": {
        "colab": {
          "base_uri": "https://localhost:8080/"
        },
        "id": "2cTg81qeHi-p",
        "outputId": "96370358-04b5-44e3-b7fe-4ee76d8af45f"
      },
      "execution_count": 22,
      "outputs": [
        {
          "output_type": "execute_result",
          "data": {
            "text/plain": [
              "27"
            ]
          },
          "metadata": {},
          "execution_count": 22
        }
      ]
    },
    {
      "cell_type": "markdown",
      "source": [
        "You can view each stage of the pipeline by using the `printPipelineSchema` function."
      ],
      "metadata": {
        "id": "ViPkhFYbS4Bc"
      }
    },
    {
      "cell_type": "code",
      "source": [
        "pipeline_tracer_deid.printPipelineSchema()"
      ],
      "metadata": {
        "colab": {
          "base_uri": "https://localhost:8080/"
        },
        "id": "vpmfaN4fS4hD",
        "outputId": "d9d10c20-8831-41b7-da72-813d81edd854"
      },
      "execution_count": 23,
      "outputs": [
        {
          "output_type": "stream",
          "name": "stdout",
          "text": [
            "root\n",
            " |-- DocumentAssembler\n",
            " |    |-- uid: string (DocumentAssembler_0293828e42e5)\n",
            " |    |-- index: int (0)\n",
            " |    |-- inputCol: string (text)\n",
            " |    |-- outputCol: string (document)\n",
            " |    |-- inputAnnotatorType: none (----------)\n",
            " |    |-- outputAnnotatorType: string (DOCUMENT)\n",
            " |\n",
            " |-- SentenceDetectorDLModel\n",
            " |    |-- uid: string (SentenceDetectorDLModel_6bafc4746ea5)\n",
            " |    |-- index: int (1)\n",
            " |    |-- inputCols: array (document)\n",
            " |    |-- outputCol: string (sentence)\n",
            " |    |-- inputAnnotatorTypes: array (DOCUMENT)\n",
            " |    |-- outputAnnotatorType: string (DOCUMENT)\n",
            " |\n",
            " |-- TokenizerModel\n",
            " |    |-- uid: string (REGEX_TOKENIZER_ede41b4357b5)\n",
            " |    |-- index: int (2)\n",
            " |    |-- inputCols: array (sentence)\n",
            " |    |-- outputCol: string (token)\n",
            " |    |-- inputAnnotatorTypes: array (DOCUMENT)\n",
            " |    |-- outputAnnotatorType: string (TOKEN)\n",
            " |\n",
            " |-- WordEmbeddingsModel\n",
            " |    |-- uid: string (WORD_EMBEDDINGS_MODEL_9004b1d00302)\n",
            " |    |-- index: int (3)\n",
            " |    |-- inputCols: array (sentence, token)\n",
            " |    |-- outputCol: string (embeddings)\n",
            " |    |-- inputAnnotatorTypes: array (DOCUMENT, TOKEN)\n",
            " |    |-- outputAnnotatorType: string (WORD_EMBEDDINGS)\n",
            " |\n",
            " |-- MedicalNerModel\n",
            " |    |-- uid: string (MedicalNerModel_e8178a1262cc)\n",
            " |    |-- index: int (4)\n",
            " |    |-- inputCols: array (sentence, token, embeddings)\n",
            " |    |-- outputCol: string (ner)\n",
            " |    |-- inputAnnotatorTypes: array (DOCUMENT, TOKEN, WORD_EMBEDDINGS)\n",
            " |    |-- outputAnnotatorType: string (NAMED_ENTITY)\n",
            " |\n",
            " |-- NerConverterInternalModel\n",
            " |    |-- uid: string (NER_CONVERTER_1058f6f116d4)\n",
            " |    |-- index: int (5)\n",
            " |    |-- inputCols: array (sentence, token, ner)\n",
            " |    |-- outputCol: string (ner_chunk_large)\n",
            " |    |-- inputAnnotatorTypes: array (DOCUMENT, TOKEN, NAMED_ENTITY)\n",
            " |    |-- outputAnnotatorType: string (CHUNK)\n",
            " |\n",
            " |-- MedicalNerModel\n",
            " |    |-- uid: string (MedicalNerModel_9d4a08b1c03d)\n",
            " |    |-- index: int (6)\n",
            " |    |-- inputCols: array (sentence, token, embeddings)\n",
            " |    |-- outputCol: string (ner_enriched)\n",
            " |    |-- inputAnnotatorTypes: array (DOCUMENT, TOKEN, WORD_EMBEDDINGS)\n",
            " |    |-- outputAnnotatorType: string (NAMED_ENTITY)\n",
            " |\n",
            " |-- NerConverterInternalModel\n",
            " |    |-- uid: string (NER_CONVERTER_dc9b41725c7e)\n",
            " |    |-- index: int (7)\n",
            " |    |-- inputCols: array (sentence, token, ner_enriched)\n",
            " |    |-- outputCol: string (ner_chunk_enriched)\n",
            " |    |-- inputAnnotatorTypes: array (DOCUMENT, TOKEN, NAMED_ENTITY)\n",
            " |    |-- outputAnnotatorType: string (CHUNK)\n",
            " |\n",
            " |-- ChunkMergeModel\n",
            " |    |-- uid: string (MERGE_14697a4bf7ea)\n",
            " |    |-- index: int (8)\n",
            " |    |-- inputCols: array (ner_chunk_enriched, ner_chunk_large)\n",
            " |    |-- outputCol: string (deid_merged_chunk)\n",
            " |    |-- inputAnnotatorType: string (CHUNK)\n",
            " |    |-- outputAnnotatorType: string (CHUNK)\n",
            " |\n",
            " |-- ContextualParserModel\n",
            " |    |-- uid: string (CONTEXTUAL-PARSER_29d8f2e94a43)\n",
            " |    |-- index: int (9)\n",
            " |    |-- inputCols: array (sentence, token)\n",
            " |    |-- outputCol: string (entity_ssn)\n",
            " |    |-- inputAnnotatorTypes: array (DOCUMENT, TOKEN)\n",
            " |    |-- outputAnnotatorType: string (CHUNK)\n",
            " |\n",
            " |-- ContextualParserModel\n",
            " |    |-- uid: string (CONTEXTUAL-PARSER_9b30de083926)\n",
            " |    |-- index: int (10)\n",
            " |    |-- inputCols: array (sentence, token)\n",
            " |    |-- outputCol: string (entity_account)\n",
            " |    |-- inputAnnotatorTypes: array (DOCUMENT, TOKEN)\n",
            " |    |-- outputAnnotatorType: string (CHUNK)\n",
            " |\n",
            " |-- ContextualParserModel\n",
            " |    |-- uid: string (CONTEXTUAL-PARSER_009dd91ad279)\n",
            " |    |-- index: int (11)\n",
            " |    |-- inputCols: array (sentence, token)\n",
            " |    |-- outputCol: string (entity_dln)\n",
            " |    |-- inputAnnotatorTypes: array (DOCUMENT, TOKEN)\n",
            " |    |-- outputAnnotatorType: string (CHUNK)\n",
            " |\n",
            " |-- ContextualParserModel\n",
            " |    |-- uid: string (CONTEXTUAL-PARSER_70bce6260bb4)\n",
            " |    |-- index: int (12)\n",
            " |    |-- inputCols: array (sentence, token)\n",
            " |    |-- outputCol: string (entity_plate)\n",
            " |    |-- inputAnnotatorTypes: array (DOCUMENT, TOKEN)\n",
            " |    |-- outputAnnotatorType: string (CHUNK)\n",
            " |\n",
            " |-- ContextualParserModel\n",
            " |    |-- uid: string (CONTEXTUAL-PARSER_c7c49d4cc377)\n",
            " |    |-- index: int (13)\n",
            " |    |-- inputCols: array (sentence, token)\n",
            " |    |-- outputCol: string (entity_vin)\n",
            " |    |-- inputAnnotatorTypes: array (DOCUMENT, TOKEN)\n",
            " |    |-- outputAnnotatorType: string (CHUNK)\n",
            " |\n",
            " |-- ContextualParserModel\n",
            " |    |-- uid: string (CONTEXTUAL-PARSER_4cdb8328ac10)\n",
            " |    |-- index: int (14)\n",
            " |    |-- inputCols: array (sentence, token)\n",
            " |    |-- outputCol: string (entity_license)\n",
            " |    |-- inputAnnotatorTypes: array (DOCUMENT, TOKEN)\n",
            " |    |-- outputAnnotatorType: string (CHUNK)\n",
            " |\n",
            " |-- TextMatcherInternalModel\n",
            " |    |-- uid: string (ENTITY_EXTRACTOR_00a0458116f7)\n",
            " |    |-- index: int (15)\n",
            " |    |-- inputCols: array (sentence, token)\n",
            " |    |-- outputCol: string (entity_country)\n",
            " |    |-- inputAnnotatorTypes: array (DOCUMENT, TOKEN)\n",
            " |    |-- outputAnnotatorType: string (CHUNK)\n",
            " |\n",
            " |-- TextMatcherInternalModel\n",
            " |    |-- uid: string (ENTITY_EXTRACTOR_396241ad6df7)\n",
            " |    |-- index: int (16)\n",
            " |    |-- inputCols: array (sentence, token)\n",
            " |    |-- outputCol: string (entity_state)\n",
            " |    |-- inputAnnotatorTypes: array (DOCUMENT, TOKEN)\n",
            " |    |-- outputAnnotatorType: string (CHUNK)\n",
            " |\n",
            " |-- ContextualParserModel\n",
            " |    |-- uid: string (CONTEXTUAL-PARSER_24e76bf85739)\n",
            " |    |-- index: int (17)\n",
            " |    |-- inputCols: array (sentence, token)\n",
            " |    |-- outputCol: string (entity_age)\n",
            " |    |-- inputAnnotatorTypes: array (DOCUMENT, TOKEN)\n",
            " |    |-- outputAnnotatorType: string (CHUNK)\n",
            " |\n",
            " |-- RegexMatcherModel\n",
            " |    |-- uid: string (REGEX_MATCHER_e4237b63b8d9)\n",
            " |    |-- index: int (18)\n",
            " |    |-- inputCols: array (sentence)\n",
            " |    |-- outputCol: string (entity_date)\n",
            " |    |-- inputAnnotatorTypes: array (DOCUMENT)\n",
            " |    |-- outputAnnotatorType: string (CHUNK)\n",
            " |\n",
            " |-- ContextualParserModel\n",
            " |    |-- uid: string (CONTEXTUAL-PARSER_2b9eb4befaa6)\n",
            " |    |-- index: int (19)\n",
            " |    |-- inputCols: array (sentence, token)\n",
            " |    |-- outputCol: string (entity_phone)\n",
            " |    |-- inputAnnotatorTypes: array (DOCUMENT, TOKEN)\n",
            " |    |-- outputAnnotatorType: string (CHUNK)\n",
            " |\n",
            " |-- ContextualParserModel\n",
            " |    |-- uid: string (CONTEXTUAL-PARSER_0892cc982b30)\n",
            " |    |-- index: int (20)\n",
            " |    |-- inputCols: array (sentence, token)\n",
            " |    |-- outputCol: string (entity_zip)\n",
            " |    |-- inputAnnotatorTypes: array (DOCUMENT, TOKEN)\n",
            " |    |-- outputAnnotatorType: string (CHUNK)\n",
            " |\n",
            " |-- ContextualParserModel\n",
            " |    |-- uid: string (CONTEXTUAL-PARSER_20cecdf31e95)\n",
            " |    |-- index: int (21)\n",
            " |    |-- inputCols: array (sentence, token)\n",
            " |    |-- outputCol: string (entity_med)\n",
            " |    |-- inputAnnotatorTypes: array (DOCUMENT, TOKEN)\n",
            " |    |-- outputAnnotatorType: string (CHUNK)\n",
            " |\n",
            " |-- ContextualParserModel\n",
            " |    |-- uid: string (CONTEXTUAL-PARSER_69dda3cbafc9)\n",
            " |    |-- index: int (22)\n",
            " |    |-- inputCols: array (sentence, token)\n",
            " |    |-- outputCol: string (entity_email)\n",
            " |    |-- inputAnnotatorTypes: array (DOCUMENT, TOKEN)\n",
            " |    |-- outputAnnotatorType: string (CHUNK)\n",
            " |\n",
            " |-- ChunkMergeModel\n",
            " |    |-- uid: string (MERGE_359f55073107)\n",
            " |    |-- index: int (23)\n",
            " |    |-- inputCols: array (entity_zip, entity_ssn, entity_account, entity_date, entity_phone, entity_age, entity_email, entity_med, entity_dln, entity_license, entity_plate, entity_vin, entity_country, entity_state)\n",
            " |    |-- outputCol: string (deid_merged_parse1)\n",
            " |    |-- inputAnnotatorType: string (CHUNK)\n",
            " |    |-- outputAnnotatorType: string (CHUNK)\n",
            " |\n",
            " |-- ChunkMergeModel\n",
            " |    |-- uid: string (MERGE_2493d1337efe)\n",
            " |    |-- index: int (24)\n",
            " |    |-- inputCols: array (deid_merged_parse1, deid_merged_chunk)\n",
            " |    |-- outputCol: string (ner_chunk)\n",
            " |    |-- inputAnnotatorType: string (CHUNK)\n",
            " |    |-- outputAnnotatorType: string (CHUNK)\n",
            " |\n",
            " |-- DeIdentificationModel\n",
            " |    |-- uid: string (DE-IDENTIFICATION_030ae1ab1b7a)\n",
            " |    |-- index: int (25)\n",
            " |    |-- inputCols: array (sentence, token, ner_chunk)\n",
            " |    |-- outputCol: string (obfuscated)\n",
            " |    |-- inputAnnotatorTypes: array (DOCUMENT, TOKEN, CHUNK)\n",
            " |    |-- outputAnnotatorType: string (DOCUMENT)\n",
            " |\n",
            " |-- Finisher\n",
            " |    |-- uid: string (Finisher_e9a5d603229b)\n",
            " |    |-- index: int (26)\n",
            " |    |-- inputCols: array (sentence, ner_chunk, obfuscated)\n",
            " |    |-- outputCols: array (finished_sentence, finished_ner_chunk, finished_obfuscated)\n",
            " |    |-- inputAnnotatorType: none (----------)\n",
            " |    |-- outputAnnotatorType: none (----------)\n",
            "\n"
          ]
        }
      ]
    },
    {
      "cell_type": "code",
      "source": [
        "deid_result[0].keys()"
      ],
      "metadata": {
        "colab": {
          "base_uri": "https://localhost:8080/"
        },
        "id": "laf-euh39nrO",
        "outputId": "1c0e7f42-88e3-4fe9-de50-d2981980712a"
      },
      "execution_count": 24,
      "outputs": [
        {
          "output_type": "execute_result",
          "data": {
            "text/plain": [
              "dict_keys(['obfuscated', 'ner_chunk', 'sentence'])"
            ]
          },
          "metadata": {},
          "execution_count": 24
        }
      ]
    },
    {
      "cell_type": "code",
      "source": [
        "for res in deid_result:\n",
        "    sentence = [original_text.result for original_text in res[\"sentence\"]]\n",
        "    masked = [masked_text.metadata[\"masked\"] for masked_text in res[\"obfuscated\"]]\n",
        "    obfuscated = [obfuscated_text.result for obfuscated_text in res[\"obfuscated\"]]\n",
        "\n",
        "df = pd.DataFrame({\"Sentence\": sentence, \"Masked\": masked, \"Obfuscated\": obfuscated})\n",
        "\n",
        "df"
      ],
      "metadata": {
        "colab": {
          "base_uri": "https://localhost:8080/",
          "height": 209
        },
        "id": "dUb0eYp396EV",
        "outputId": "edf8e8a6-12cd-4187-dba7-8365a940db2f"
      },
      "execution_count": 25,
      "outputs": [
        {
          "output_type": "execute_result",
          "data": {
            "text/plain": [
              "                                                                                               Sentence                                                                                                 Masked                                                                                            Obfuscated\n",
              "0            Dr. John Lee, from Royal Medical Clinic in Chicago, attended to the patient on 11/05/2024.                            Dr. <DOCTOR>, from <HOSPITAL> in <CITY>, attended to the patient on <DATE>.   Dr. Lacy Pick, from Baltimore VA Medical Center in Healdton, attended to the patient on 06/06/2024.\n",
              "1                                                      The patient’s medical record number is 56467890.                                                The patient’s medical record number is <MEDICALRECORD>.                                                      The patient’s medical record number is 47576981.\n",
              "2  The patient, Emma Wilson, is 50 years old, with a history of chronic kidney disease stage 3 (N18.3).  The patient, <PATIENT>, is <AGE> years old, with a history of chronic kidney disease stage 3 (N18.3).  The patient, Joyce Nixon, is 40 years old, with a history of chronic kidney disease stage 3 (N18.3).\n",
              "3                                                                   Her contact number is 444-456-7890.                                                                         Her contact number is <PHONE>.                                                                   Her contact number is 222-214-3658."
            ],
            "text/html": [
              "\n",
              "  <div id=\"df-98a80cf6-d9a8-49a8-aa50-eec412d3046e\" class=\"colab-df-container\">\n",
              "    <div>\n",
              "<style scoped>\n",
              "    .dataframe tbody tr th:only-of-type {\n",
              "        vertical-align: middle;\n",
              "    }\n",
              "\n",
              "    .dataframe tbody tr th {\n",
              "        vertical-align: top;\n",
              "    }\n",
              "\n",
              "    .dataframe thead th {\n",
              "        text-align: right;\n",
              "    }\n",
              "</style>\n",
              "<table border=\"1\" class=\"dataframe\">\n",
              "  <thead>\n",
              "    <tr style=\"text-align: right;\">\n",
              "      <th></th>\n",
              "      <th>Sentence</th>\n",
              "      <th>Masked</th>\n",
              "      <th>Obfuscated</th>\n",
              "    </tr>\n",
              "  </thead>\n",
              "  <tbody>\n",
              "    <tr>\n",
              "      <th>0</th>\n",
              "      <td>Dr. John Lee, from Royal Medical Clinic in Chicago, attended to the patient on 11/05/2024.</td>\n",
              "      <td>Dr. &lt;DOCTOR&gt;, from &lt;HOSPITAL&gt; in &lt;CITY&gt;, attended to the patient on &lt;DATE&gt;.</td>\n",
              "      <td>Dr. Lacy Pick, from Baltimore VA Medical Center in Healdton, attended to the patient on 06/06/2024.</td>\n",
              "    </tr>\n",
              "    <tr>\n",
              "      <th>1</th>\n",
              "      <td>The patient’s medical record number is 56467890.</td>\n",
              "      <td>The patient’s medical record number is &lt;MEDICALRECORD&gt;.</td>\n",
              "      <td>The patient’s medical record number is 47576981.</td>\n",
              "    </tr>\n",
              "    <tr>\n",
              "      <th>2</th>\n",
              "      <td>The patient, Emma Wilson, is 50 years old, with a history of chronic kidney disease stage 3 (N18.3).</td>\n",
              "      <td>The patient, &lt;PATIENT&gt;, is &lt;AGE&gt; years old, with a history of chronic kidney disease stage 3 (N18.3).</td>\n",
              "      <td>The patient, Joyce Nixon, is 40 years old, with a history of chronic kidney disease stage 3 (N18.3).</td>\n",
              "    </tr>\n",
              "    <tr>\n",
              "      <th>3</th>\n",
              "      <td>Her contact number is 444-456-7890.</td>\n",
              "      <td>Her contact number is &lt;PHONE&gt;.</td>\n",
              "      <td>Her contact number is 222-214-3658.</td>\n",
              "    </tr>\n",
              "  </tbody>\n",
              "</table>\n",
              "</div>\n",
              "    <div class=\"colab-df-buttons\">\n",
              "\n",
              "  <div class=\"colab-df-container\">\n",
              "    <button class=\"colab-df-convert\" onclick=\"convertToInteractive('df-98a80cf6-d9a8-49a8-aa50-eec412d3046e')\"\n",
              "            title=\"Convert this dataframe to an interactive table.\"\n",
              "            style=\"display:none;\">\n",
              "\n",
              "  <svg xmlns=\"http://www.w3.org/2000/svg\" height=\"24px\" viewBox=\"0 -960 960 960\">\n",
              "    <path d=\"M120-120v-720h720v720H120Zm60-500h600v-160H180v160Zm220 220h160v-160H400v160Zm0 220h160v-160H400v160ZM180-400h160v-160H180v160Zm440 0h160v-160H620v160ZM180-180h160v-160H180v160Zm440 0h160v-160H620v160Z\"/>\n",
              "  </svg>\n",
              "    </button>\n",
              "\n",
              "  <style>\n",
              "    .colab-df-container {\n",
              "      display:flex;\n",
              "      gap: 12px;\n",
              "    }\n",
              "\n",
              "    .colab-df-convert {\n",
              "      background-color: #E8F0FE;\n",
              "      border: none;\n",
              "      border-radius: 50%;\n",
              "      cursor: pointer;\n",
              "      display: none;\n",
              "      fill: #1967D2;\n",
              "      height: 32px;\n",
              "      padding: 0 0 0 0;\n",
              "      width: 32px;\n",
              "    }\n",
              "\n",
              "    .colab-df-convert:hover {\n",
              "      background-color: #E2EBFA;\n",
              "      box-shadow: 0px 1px 2px rgba(60, 64, 67, 0.3), 0px 1px 3px 1px rgba(60, 64, 67, 0.15);\n",
              "      fill: #174EA6;\n",
              "    }\n",
              "\n",
              "    .colab-df-buttons div {\n",
              "      margin-bottom: 4px;\n",
              "    }\n",
              "\n",
              "    [theme=dark] .colab-df-convert {\n",
              "      background-color: #3B4455;\n",
              "      fill: #D2E3FC;\n",
              "    }\n",
              "\n",
              "    [theme=dark] .colab-df-convert:hover {\n",
              "      background-color: #434B5C;\n",
              "      box-shadow: 0px 1px 3px 1px rgba(0, 0, 0, 0.15);\n",
              "      filter: drop-shadow(0px 1px 2px rgba(0, 0, 0, 0.3));\n",
              "      fill: #FFFFFF;\n",
              "    }\n",
              "  </style>\n",
              "\n",
              "    <script>\n",
              "      const buttonEl =\n",
              "        document.querySelector('#df-98a80cf6-d9a8-49a8-aa50-eec412d3046e button.colab-df-convert');\n",
              "      buttonEl.style.display =\n",
              "        google.colab.kernel.accessAllowed ? 'block' : 'none';\n",
              "\n",
              "      async function convertToInteractive(key) {\n",
              "        const element = document.querySelector('#df-98a80cf6-d9a8-49a8-aa50-eec412d3046e');\n",
              "        const dataTable =\n",
              "          await google.colab.kernel.invokeFunction('convertToInteractive',\n",
              "                                                    [key], {});\n",
              "        if (!dataTable) return;\n",
              "\n",
              "        const docLinkHtml = 'Like what you see? Visit the ' +\n",
              "          '<a target=\"_blank\" href=https://colab.research.google.com/notebooks/data_table.ipynb>data table notebook</a>'\n",
              "          + ' to learn more about interactive tables.';\n",
              "        element.innerHTML = '';\n",
              "        dataTable['output_type'] = 'display_data';\n",
              "        await google.colab.output.renderOutput(dataTable, element);\n",
              "        const docLink = document.createElement('div');\n",
              "        docLink.innerHTML = docLinkHtml;\n",
              "        element.appendChild(docLink);\n",
              "      }\n",
              "    </script>\n",
              "  </div>\n",
              "\n",
              "\n",
              "<div id=\"df-3f2b6bac-67ba-4a06-82d6-1417ef09e32c\">\n",
              "  <button class=\"colab-df-quickchart\" onclick=\"quickchart('df-3f2b6bac-67ba-4a06-82d6-1417ef09e32c')\"\n",
              "            title=\"Suggest charts\"\n",
              "            style=\"display:none;\">\n",
              "\n",
              "<svg xmlns=\"http://www.w3.org/2000/svg\" height=\"24px\"viewBox=\"0 0 24 24\"\n",
              "     width=\"24px\">\n",
              "    <g>\n",
              "        <path d=\"M19 3H5c-1.1 0-2 .9-2 2v14c0 1.1.9 2 2 2h14c1.1 0 2-.9 2-2V5c0-1.1-.9-2-2-2zM9 17H7v-7h2v7zm4 0h-2V7h2v10zm4 0h-2v-4h2v4z\"/>\n",
              "    </g>\n",
              "</svg>\n",
              "  </button>\n",
              "\n",
              "<style>\n",
              "  .colab-df-quickchart {\n",
              "      --bg-color: #E8F0FE;\n",
              "      --fill-color: #1967D2;\n",
              "      --hover-bg-color: #E2EBFA;\n",
              "      --hover-fill-color: #174EA6;\n",
              "      --disabled-fill-color: #AAA;\n",
              "      --disabled-bg-color: #DDD;\n",
              "  }\n",
              "\n",
              "  [theme=dark] .colab-df-quickchart {\n",
              "      --bg-color: #3B4455;\n",
              "      --fill-color: #D2E3FC;\n",
              "      --hover-bg-color: #434B5C;\n",
              "      --hover-fill-color: #FFFFFF;\n",
              "      --disabled-bg-color: #3B4455;\n",
              "      --disabled-fill-color: #666;\n",
              "  }\n",
              "\n",
              "  .colab-df-quickchart {\n",
              "    background-color: var(--bg-color);\n",
              "    border: none;\n",
              "    border-radius: 50%;\n",
              "    cursor: pointer;\n",
              "    display: none;\n",
              "    fill: var(--fill-color);\n",
              "    height: 32px;\n",
              "    padding: 0;\n",
              "    width: 32px;\n",
              "  }\n",
              "\n",
              "  .colab-df-quickchart:hover {\n",
              "    background-color: var(--hover-bg-color);\n",
              "    box-shadow: 0 1px 2px rgba(60, 64, 67, 0.3), 0 1px 3px 1px rgba(60, 64, 67, 0.15);\n",
              "    fill: var(--button-hover-fill-color);\n",
              "  }\n",
              "\n",
              "  .colab-df-quickchart-complete:disabled,\n",
              "  .colab-df-quickchart-complete:disabled:hover {\n",
              "    background-color: var(--disabled-bg-color);\n",
              "    fill: var(--disabled-fill-color);\n",
              "    box-shadow: none;\n",
              "  }\n",
              "\n",
              "  .colab-df-spinner {\n",
              "    border: 2px solid var(--fill-color);\n",
              "    border-color: transparent;\n",
              "    border-bottom-color: var(--fill-color);\n",
              "    animation:\n",
              "      spin 1s steps(1) infinite;\n",
              "  }\n",
              "\n",
              "  @keyframes spin {\n",
              "    0% {\n",
              "      border-color: transparent;\n",
              "      border-bottom-color: var(--fill-color);\n",
              "      border-left-color: var(--fill-color);\n",
              "    }\n",
              "    20% {\n",
              "      border-color: transparent;\n",
              "      border-left-color: var(--fill-color);\n",
              "      border-top-color: var(--fill-color);\n",
              "    }\n",
              "    30% {\n",
              "      border-color: transparent;\n",
              "      border-left-color: var(--fill-color);\n",
              "      border-top-color: var(--fill-color);\n",
              "      border-right-color: var(--fill-color);\n",
              "    }\n",
              "    40% {\n",
              "      border-color: transparent;\n",
              "      border-right-color: var(--fill-color);\n",
              "      border-top-color: var(--fill-color);\n",
              "    }\n",
              "    60% {\n",
              "      border-color: transparent;\n",
              "      border-right-color: var(--fill-color);\n",
              "    }\n",
              "    80% {\n",
              "      border-color: transparent;\n",
              "      border-right-color: var(--fill-color);\n",
              "      border-bottom-color: var(--fill-color);\n",
              "    }\n",
              "    90% {\n",
              "      border-color: transparent;\n",
              "      border-bottom-color: var(--fill-color);\n",
              "    }\n",
              "  }\n",
              "</style>\n",
              "\n",
              "  <script>\n",
              "    async function quickchart(key) {\n",
              "      const quickchartButtonEl =\n",
              "        document.querySelector('#' + key + ' button');\n",
              "      quickchartButtonEl.disabled = true;  // To prevent multiple clicks.\n",
              "      quickchartButtonEl.classList.add('colab-df-spinner');\n",
              "      try {\n",
              "        const charts = await google.colab.kernel.invokeFunction(\n",
              "            'suggestCharts', [key], {});\n",
              "      } catch (error) {\n",
              "        console.error('Error during call to suggestCharts:', error);\n",
              "      }\n",
              "      quickchartButtonEl.classList.remove('colab-df-spinner');\n",
              "      quickchartButtonEl.classList.add('colab-df-quickchart-complete');\n",
              "    }\n",
              "    (() => {\n",
              "      let quickchartButtonEl =\n",
              "        document.querySelector('#df-3f2b6bac-67ba-4a06-82d6-1417ef09e32c button');\n",
              "      quickchartButtonEl.style.display =\n",
              "        google.colab.kernel.accessAllowed ? 'block' : 'none';\n",
              "    })();\n",
              "  </script>\n",
              "</div>\n",
              "\n",
              "  <div id=\"id_9ac2361a-1cdf-486e-b478-dd634be5c16f\">\n",
              "    <style>\n",
              "      .colab-df-generate {\n",
              "        background-color: #E8F0FE;\n",
              "        border: none;\n",
              "        border-radius: 50%;\n",
              "        cursor: pointer;\n",
              "        display: none;\n",
              "        fill: #1967D2;\n",
              "        height: 32px;\n",
              "        padding: 0 0 0 0;\n",
              "        width: 32px;\n",
              "      }\n",
              "\n",
              "      .colab-df-generate:hover {\n",
              "        background-color: #E2EBFA;\n",
              "        box-shadow: 0px 1px 2px rgba(60, 64, 67, 0.3), 0px 1px 3px 1px rgba(60, 64, 67, 0.15);\n",
              "        fill: #174EA6;\n",
              "      }\n",
              "\n",
              "      [theme=dark] .colab-df-generate {\n",
              "        background-color: #3B4455;\n",
              "        fill: #D2E3FC;\n",
              "      }\n",
              "\n",
              "      [theme=dark] .colab-df-generate:hover {\n",
              "        background-color: #434B5C;\n",
              "        box-shadow: 0px 1px 3px 1px rgba(0, 0, 0, 0.15);\n",
              "        filter: drop-shadow(0px 1px 2px rgba(0, 0, 0, 0.3));\n",
              "        fill: #FFFFFF;\n",
              "      }\n",
              "    </style>\n",
              "    <button class=\"colab-df-generate\" onclick=\"generateWithVariable('df')\"\n",
              "            title=\"Generate code using this dataframe.\"\n",
              "            style=\"display:none;\">\n",
              "\n",
              "  <svg xmlns=\"http://www.w3.org/2000/svg\" height=\"24px\"viewBox=\"0 0 24 24\"\n",
              "       width=\"24px\">\n",
              "    <path d=\"M7,19H8.4L18.45,9,17,7.55,7,17.6ZM5,21V16.75L18.45,3.32a2,2,0,0,1,2.83,0l1.4,1.43a1.91,1.91,0,0,1,.58,1.4,1.91,1.91,0,0,1-.58,1.4L9.25,21ZM18.45,9,17,7.55Zm-12,3A5.31,5.31,0,0,0,4.9,8.1,5.31,5.31,0,0,0,1,6.5,5.31,5.31,0,0,0,4.9,4.9,5.31,5.31,0,0,0,6.5,1,5.31,5.31,0,0,0,8.1,4.9,5.31,5.31,0,0,0,12,6.5,5.46,5.46,0,0,0,6.5,12Z\"/>\n",
              "  </svg>\n",
              "    </button>\n",
              "    <script>\n",
              "      (() => {\n",
              "      const buttonEl =\n",
              "        document.querySelector('#id_9ac2361a-1cdf-486e-b478-dd634be5c16f button.colab-df-generate');\n",
              "      buttonEl.style.display =\n",
              "        google.colab.kernel.accessAllowed ? 'block' : 'none';\n",
              "\n",
              "      buttonEl.onclick = () => {\n",
              "        google.colab.notebook.generateWithVariable('df');\n",
              "      }\n",
              "      })();\n",
              "    </script>\n",
              "  </div>\n",
              "\n",
              "    </div>\n",
              "  </div>\n"
            ],
            "application/vnd.google.colaboratory.intrinsic+json": {
              "type": "dataframe",
              "variable_name": "df",
              "summary": "{\n  \"name\": \"df\",\n  \"rows\": 4,\n  \"fields\": [\n    {\n      \"column\": \"Sentence\",\n      \"properties\": {\n        \"dtype\": \"string\",\n        \"num_unique_values\": 4,\n        \"samples\": [\n          \"The patient\\u2019s medical record number is 56467890.\",\n          \"Her contact number is 444-456-7890.\",\n          \"Dr. John Lee, from Royal Medical Clinic in Chicago, attended to the patient on 11/05/2024.\"\n        ],\n        \"semantic_type\": \"\",\n        \"description\": \"\"\n      }\n    },\n    {\n      \"column\": \"Masked\",\n      \"properties\": {\n        \"dtype\": \"string\",\n        \"num_unique_values\": 4,\n        \"samples\": [\n          \"The patient\\u2019s medical record number is <MEDICALRECORD>.\",\n          \"Her contact number is <PHONE>.\",\n          \"Dr. <DOCTOR>, from <HOSPITAL> in <CITY>, attended to the patient on <DATE>.\"\n        ],\n        \"semantic_type\": \"\",\n        \"description\": \"\"\n      }\n    },\n    {\n      \"column\": \"Obfuscated\",\n      \"properties\": {\n        \"dtype\": \"string\",\n        \"num_unique_values\": 4,\n        \"samples\": [\n          \"The patient\\u2019s medical record number is 47576981.\",\n          \"Her contact number is 222-214-3658.\",\n          \"Dr. Lacy Pick, from Baltimore VA Medical Center in Healdton, attended to the patient on 06/06/2024.\"\n        ],\n        \"semantic_type\": \"\",\n        \"description\": \"\"\n      }\n    }\n  ]\n}"
            }
          },
          "metadata": {},
          "execution_count": 25
        }
      ]
    },
    {
      "cell_type": "markdown",
      "source": [
        "## Remove Label (setBlackList)\n",
        "\n",
        "Now, let's add a **setBlackList** to an existing ChunkMergeModel."
      ],
      "metadata": {
        "id": "4HLrDTDXzNSD"
      }
    },
    {
      "cell_type": "code",
      "source": [
        "deid_pipeline.model.stages[24] = deid_pipeline.model.stages[24].setBlackList(['DATE'])\n",
        "deid_pipeline.transform(empty_data)"
      ],
      "metadata": {
        "id": "GlccJhAv2dsQ",
        "colab": {
          "base_uri": "https://localhost:8080/"
        },
        "outputId": "a3b95f4f-ffc2-4278-c8e6-8ad2d4a69e01"
      },
      "execution_count": 26,
      "outputs": [
        {
          "output_type": "execute_result",
          "data": {
            "text/plain": [
              "DataFrame[text: string, finished_sentence: array<string>, finished_ner_chunk: array<string>, finished_obfuscated: array<string>, finished_sentence_metadata: array<struct<_1:string,_2:string>>, finished_ner_chunk_metadata: array<struct<_1:string,_2:string>>, finished_obfuscated_metadata: array<struct<_1:string,_2:string>>]"
            ]
          },
          "metadata": {},
          "execution_count": 26
        }
      ]
    },
    {
      "cell_type": "code",
      "source": [
        "deid_res= deid_pipeline.fullAnnotate(text)"
      ],
      "metadata": {
        "id": "TLnf_3FHTT3d"
      },
      "execution_count": 27,
      "outputs": []
    },
    {
      "cell_type": "code",
      "source": [
        "deid_res[0][\"ner_chunk\"]"
      ],
      "metadata": {
        "colab": {
          "base_uri": "https://localhost:8080/"
        },
        "id": "ATBjdzf5a-r9",
        "outputId": "259388ee-0ed1-4ce2-91cc-135bd600c495"
      },
      "execution_count": 28,
      "outputs": [
        {
          "output_type": "execute_result",
          "data": {
            "text/plain": [
              "[Annotation(chunk, 4, 11, John Lee, {'entity': 'DOCTOR', 'confidence': '0.9941', 'ner_source': 'ner_chunk_enriched', 'chunk': '0', 'sentence': '0'}, []),\n",
              " Annotation(chunk, 19, 38, Royal Medical Clinic, {'entity': 'HOSPITAL', 'confidence': '0.98686665', 'ner_source': 'ner_chunk_enriched', 'chunk': '1', 'sentence': '0'}, []),\n",
              " Annotation(chunk, 43, 49, Chicago, {'entity': 'CITY', 'confidence': '0.9773', 'ner_source': 'ner_chunk_enriched', 'chunk': '2', 'sentence': '0'}, []),\n",
              " Annotation(chunk, 139, 146, 56467890, {'entity': 'MEDICALRECORD', 'confidence': '0.6796', 'ner_source': 'ner_chunk_enriched', 'chunk': '3', 'sentence': '1'}, []),\n",
              " Annotation(chunk, 171, 181, Emma Wilson, {'entity': 'PATIENT', 'confidence': '0.99395', 'ner_source': 'ner_chunk_enriched', 'chunk': '4', 'sentence': '2'}, []),\n",
              " Annotation(chunk, 187, 188, 50, {'tokenIndex': '7', 'entity': 'AGE', 'confidence': '0.75', 'field': 'AGE', 'ner_source': 'entity_age', 'chunk': '5', 'normalized': '', 'sentence': '2'}, []),\n",
              " Annotation(chunk, 290, 301, 444-456-7890, {'entity': 'PHONE', 'confidence': '0.9624', 'ner_source': 'ner_chunk_enriched', 'chunk': '6', 'sentence': '3'}, [])]"
            ]
          },
          "metadata": {},
          "execution_count": 28
        }
      ]
    },
    {
      "cell_type": "markdown",
      "source": [
        "As a result, we have added the **DATE** entity to the blacklist, and it did not return the **DATE** chunks."
      ],
      "metadata": {
        "id": "bRVmozEvST2M"
      }
    },
    {
      "cell_type": "code",
      "source": [
        "for res in deid_res:\n",
        "    sentence = [original_text.result for original_text in res[\"sentence\"]]\n",
        "    masked = [masked_text.metadata[\"masked\"] for masked_text in res[\"obfuscated\"]]\n",
        "    obfuscated = [obfuscated_text.result for obfuscated_text in res[\"obfuscated\"]]\n",
        "\n",
        "df = pd.DataFrame({\"Sentence\": sentence, \"Masked\": masked, \"Obfuscated\": obfuscated})\n",
        "\n",
        "df"
      ],
      "metadata": {
        "colab": {
          "base_uri": "https://localhost:8080/",
          "height": 209
        },
        "id": "dGQ1Rf0mSSP6",
        "outputId": "f81e9bc9-52fc-45b7-da39-4c62d73375d4"
      },
      "execution_count": 29,
      "outputs": [
        {
          "output_type": "execute_result",
          "data": {
            "text/plain": [
              "                                                                                               Sentence                                                                                                 Masked                                                                                            Obfuscated\n",
              "0            Dr. John Lee, from Royal Medical Clinic in Chicago, attended to the patient on 11/05/2024.                        Dr. <DOCTOR>, from <HOSPITAL> in <CITY>, attended to the patient on 11/05/2024.   Dr. Lacy Pick, from Baltimore VA Medical Center in Healdton, attended to the patient on 11/05/2024.\n",
              "1                                                      The patient’s medical record number is 56467890.                                                The patient’s medical record number is <MEDICALRECORD>.                                                      The patient’s medical record number is 47576981.\n",
              "2  The patient, Emma Wilson, is 50 years old, with a history of chronic kidney disease stage 3 (N18.3).  The patient, <PATIENT>, is <AGE> years old, with a history of chronic kidney disease stage 3 (N18.3).  The patient, Joyce Nixon, is 40 years old, with a history of chronic kidney disease stage 3 (N18.3).\n",
              "3                                                                   Her contact number is 444-456-7890.                                                                         Her contact number is <PHONE>.                                                                   Her contact number is 222-214-3658."
            ],
            "text/html": [
              "\n",
              "  <div id=\"df-11056f9b-9552-446b-a020-f36181f0c138\" class=\"colab-df-container\">\n",
              "    <div>\n",
              "<style scoped>\n",
              "    .dataframe tbody tr th:only-of-type {\n",
              "        vertical-align: middle;\n",
              "    }\n",
              "\n",
              "    .dataframe tbody tr th {\n",
              "        vertical-align: top;\n",
              "    }\n",
              "\n",
              "    .dataframe thead th {\n",
              "        text-align: right;\n",
              "    }\n",
              "</style>\n",
              "<table border=\"1\" class=\"dataframe\">\n",
              "  <thead>\n",
              "    <tr style=\"text-align: right;\">\n",
              "      <th></th>\n",
              "      <th>Sentence</th>\n",
              "      <th>Masked</th>\n",
              "      <th>Obfuscated</th>\n",
              "    </tr>\n",
              "  </thead>\n",
              "  <tbody>\n",
              "    <tr>\n",
              "      <th>0</th>\n",
              "      <td>Dr. John Lee, from Royal Medical Clinic in Chicago, attended to the patient on 11/05/2024.</td>\n",
              "      <td>Dr. &lt;DOCTOR&gt;, from &lt;HOSPITAL&gt; in &lt;CITY&gt;, attended to the patient on 11/05/2024.</td>\n",
              "      <td>Dr. Lacy Pick, from Baltimore VA Medical Center in Healdton, attended to the patient on 11/05/2024.</td>\n",
              "    </tr>\n",
              "    <tr>\n",
              "      <th>1</th>\n",
              "      <td>The patient’s medical record number is 56467890.</td>\n",
              "      <td>The patient’s medical record number is &lt;MEDICALRECORD&gt;.</td>\n",
              "      <td>The patient’s medical record number is 47576981.</td>\n",
              "    </tr>\n",
              "    <tr>\n",
              "      <th>2</th>\n",
              "      <td>The patient, Emma Wilson, is 50 years old, with a history of chronic kidney disease stage 3 (N18.3).</td>\n",
              "      <td>The patient, &lt;PATIENT&gt;, is &lt;AGE&gt; years old, with a history of chronic kidney disease stage 3 (N18.3).</td>\n",
              "      <td>The patient, Joyce Nixon, is 40 years old, with a history of chronic kidney disease stage 3 (N18.3).</td>\n",
              "    </tr>\n",
              "    <tr>\n",
              "      <th>3</th>\n",
              "      <td>Her contact number is 444-456-7890.</td>\n",
              "      <td>Her contact number is &lt;PHONE&gt;.</td>\n",
              "      <td>Her contact number is 222-214-3658.</td>\n",
              "    </tr>\n",
              "  </tbody>\n",
              "</table>\n",
              "</div>\n",
              "    <div class=\"colab-df-buttons\">\n",
              "\n",
              "  <div class=\"colab-df-container\">\n",
              "    <button class=\"colab-df-convert\" onclick=\"convertToInteractive('df-11056f9b-9552-446b-a020-f36181f0c138')\"\n",
              "            title=\"Convert this dataframe to an interactive table.\"\n",
              "            style=\"display:none;\">\n",
              "\n",
              "  <svg xmlns=\"http://www.w3.org/2000/svg\" height=\"24px\" viewBox=\"0 -960 960 960\">\n",
              "    <path d=\"M120-120v-720h720v720H120Zm60-500h600v-160H180v160Zm220 220h160v-160H400v160Zm0 220h160v-160H400v160ZM180-400h160v-160H180v160Zm440 0h160v-160H620v160ZM180-180h160v-160H180v160Zm440 0h160v-160H620v160Z\"/>\n",
              "  </svg>\n",
              "    </button>\n",
              "\n",
              "  <style>\n",
              "    .colab-df-container {\n",
              "      display:flex;\n",
              "      gap: 12px;\n",
              "    }\n",
              "\n",
              "    .colab-df-convert {\n",
              "      background-color: #E8F0FE;\n",
              "      border: none;\n",
              "      border-radius: 50%;\n",
              "      cursor: pointer;\n",
              "      display: none;\n",
              "      fill: #1967D2;\n",
              "      height: 32px;\n",
              "      padding: 0 0 0 0;\n",
              "      width: 32px;\n",
              "    }\n",
              "\n",
              "    .colab-df-convert:hover {\n",
              "      background-color: #E2EBFA;\n",
              "      box-shadow: 0px 1px 2px rgba(60, 64, 67, 0.3), 0px 1px 3px 1px rgba(60, 64, 67, 0.15);\n",
              "      fill: #174EA6;\n",
              "    }\n",
              "\n",
              "    .colab-df-buttons div {\n",
              "      margin-bottom: 4px;\n",
              "    }\n",
              "\n",
              "    [theme=dark] .colab-df-convert {\n",
              "      background-color: #3B4455;\n",
              "      fill: #D2E3FC;\n",
              "    }\n",
              "\n",
              "    [theme=dark] .colab-df-convert:hover {\n",
              "      background-color: #434B5C;\n",
              "      box-shadow: 0px 1px 3px 1px rgba(0, 0, 0, 0.15);\n",
              "      filter: drop-shadow(0px 1px 2px rgba(0, 0, 0, 0.3));\n",
              "      fill: #FFFFFF;\n",
              "    }\n",
              "  </style>\n",
              "\n",
              "    <script>\n",
              "      const buttonEl =\n",
              "        document.querySelector('#df-11056f9b-9552-446b-a020-f36181f0c138 button.colab-df-convert');\n",
              "      buttonEl.style.display =\n",
              "        google.colab.kernel.accessAllowed ? 'block' : 'none';\n",
              "\n",
              "      async function convertToInteractive(key) {\n",
              "        const element = document.querySelector('#df-11056f9b-9552-446b-a020-f36181f0c138');\n",
              "        const dataTable =\n",
              "          await google.colab.kernel.invokeFunction('convertToInteractive',\n",
              "                                                    [key], {});\n",
              "        if (!dataTable) return;\n",
              "\n",
              "        const docLinkHtml = 'Like what you see? Visit the ' +\n",
              "          '<a target=\"_blank\" href=https://colab.research.google.com/notebooks/data_table.ipynb>data table notebook</a>'\n",
              "          + ' to learn more about interactive tables.';\n",
              "        element.innerHTML = '';\n",
              "        dataTable['output_type'] = 'display_data';\n",
              "        await google.colab.output.renderOutput(dataTable, element);\n",
              "        const docLink = document.createElement('div');\n",
              "        docLink.innerHTML = docLinkHtml;\n",
              "        element.appendChild(docLink);\n",
              "      }\n",
              "    </script>\n",
              "  </div>\n",
              "\n",
              "\n",
              "<div id=\"df-0b6fba81-3604-4bc0-80ad-7471e556da42\">\n",
              "  <button class=\"colab-df-quickchart\" onclick=\"quickchart('df-0b6fba81-3604-4bc0-80ad-7471e556da42')\"\n",
              "            title=\"Suggest charts\"\n",
              "            style=\"display:none;\">\n",
              "\n",
              "<svg xmlns=\"http://www.w3.org/2000/svg\" height=\"24px\"viewBox=\"0 0 24 24\"\n",
              "     width=\"24px\">\n",
              "    <g>\n",
              "        <path d=\"M19 3H5c-1.1 0-2 .9-2 2v14c0 1.1.9 2 2 2h14c1.1 0 2-.9 2-2V5c0-1.1-.9-2-2-2zM9 17H7v-7h2v7zm4 0h-2V7h2v10zm4 0h-2v-4h2v4z\"/>\n",
              "    </g>\n",
              "</svg>\n",
              "  </button>\n",
              "\n",
              "<style>\n",
              "  .colab-df-quickchart {\n",
              "      --bg-color: #E8F0FE;\n",
              "      --fill-color: #1967D2;\n",
              "      --hover-bg-color: #E2EBFA;\n",
              "      --hover-fill-color: #174EA6;\n",
              "      --disabled-fill-color: #AAA;\n",
              "      --disabled-bg-color: #DDD;\n",
              "  }\n",
              "\n",
              "  [theme=dark] .colab-df-quickchart {\n",
              "      --bg-color: #3B4455;\n",
              "      --fill-color: #D2E3FC;\n",
              "      --hover-bg-color: #434B5C;\n",
              "      --hover-fill-color: #FFFFFF;\n",
              "      --disabled-bg-color: #3B4455;\n",
              "      --disabled-fill-color: #666;\n",
              "  }\n",
              "\n",
              "  .colab-df-quickchart {\n",
              "    background-color: var(--bg-color);\n",
              "    border: none;\n",
              "    border-radius: 50%;\n",
              "    cursor: pointer;\n",
              "    display: none;\n",
              "    fill: var(--fill-color);\n",
              "    height: 32px;\n",
              "    padding: 0;\n",
              "    width: 32px;\n",
              "  }\n",
              "\n",
              "  .colab-df-quickchart:hover {\n",
              "    background-color: var(--hover-bg-color);\n",
              "    box-shadow: 0 1px 2px rgba(60, 64, 67, 0.3), 0 1px 3px 1px rgba(60, 64, 67, 0.15);\n",
              "    fill: var(--button-hover-fill-color);\n",
              "  }\n",
              "\n",
              "  .colab-df-quickchart-complete:disabled,\n",
              "  .colab-df-quickchart-complete:disabled:hover {\n",
              "    background-color: var(--disabled-bg-color);\n",
              "    fill: var(--disabled-fill-color);\n",
              "    box-shadow: none;\n",
              "  }\n",
              "\n",
              "  .colab-df-spinner {\n",
              "    border: 2px solid var(--fill-color);\n",
              "    border-color: transparent;\n",
              "    border-bottom-color: var(--fill-color);\n",
              "    animation:\n",
              "      spin 1s steps(1) infinite;\n",
              "  }\n",
              "\n",
              "  @keyframes spin {\n",
              "    0% {\n",
              "      border-color: transparent;\n",
              "      border-bottom-color: var(--fill-color);\n",
              "      border-left-color: var(--fill-color);\n",
              "    }\n",
              "    20% {\n",
              "      border-color: transparent;\n",
              "      border-left-color: var(--fill-color);\n",
              "      border-top-color: var(--fill-color);\n",
              "    }\n",
              "    30% {\n",
              "      border-color: transparent;\n",
              "      border-left-color: var(--fill-color);\n",
              "      border-top-color: var(--fill-color);\n",
              "      border-right-color: var(--fill-color);\n",
              "    }\n",
              "    40% {\n",
              "      border-color: transparent;\n",
              "      border-right-color: var(--fill-color);\n",
              "      border-top-color: var(--fill-color);\n",
              "    }\n",
              "    60% {\n",
              "      border-color: transparent;\n",
              "      border-right-color: var(--fill-color);\n",
              "    }\n",
              "    80% {\n",
              "      border-color: transparent;\n",
              "      border-right-color: var(--fill-color);\n",
              "      border-bottom-color: var(--fill-color);\n",
              "    }\n",
              "    90% {\n",
              "      border-color: transparent;\n",
              "      border-bottom-color: var(--fill-color);\n",
              "    }\n",
              "  }\n",
              "</style>\n",
              "\n",
              "  <script>\n",
              "    async function quickchart(key) {\n",
              "      const quickchartButtonEl =\n",
              "        document.querySelector('#' + key + ' button');\n",
              "      quickchartButtonEl.disabled = true;  // To prevent multiple clicks.\n",
              "      quickchartButtonEl.classList.add('colab-df-spinner');\n",
              "      try {\n",
              "        const charts = await google.colab.kernel.invokeFunction(\n",
              "            'suggestCharts', [key], {});\n",
              "      } catch (error) {\n",
              "        console.error('Error during call to suggestCharts:', error);\n",
              "      }\n",
              "      quickchartButtonEl.classList.remove('colab-df-spinner');\n",
              "      quickchartButtonEl.classList.add('colab-df-quickchart-complete');\n",
              "    }\n",
              "    (() => {\n",
              "      let quickchartButtonEl =\n",
              "        document.querySelector('#df-0b6fba81-3604-4bc0-80ad-7471e556da42 button');\n",
              "      quickchartButtonEl.style.display =\n",
              "        google.colab.kernel.accessAllowed ? 'block' : 'none';\n",
              "    })();\n",
              "  </script>\n",
              "</div>\n",
              "\n",
              "  <div id=\"id_bc49c299-67bc-4947-875c-30d52c5e9016\">\n",
              "    <style>\n",
              "      .colab-df-generate {\n",
              "        background-color: #E8F0FE;\n",
              "        border: none;\n",
              "        border-radius: 50%;\n",
              "        cursor: pointer;\n",
              "        display: none;\n",
              "        fill: #1967D2;\n",
              "        height: 32px;\n",
              "        padding: 0 0 0 0;\n",
              "        width: 32px;\n",
              "      }\n",
              "\n",
              "      .colab-df-generate:hover {\n",
              "        background-color: #E2EBFA;\n",
              "        box-shadow: 0px 1px 2px rgba(60, 64, 67, 0.3), 0px 1px 3px 1px rgba(60, 64, 67, 0.15);\n",
              "        fill: #174EA6;\n",
              "      }\n",
              "\n",
              "      [theme=dark] .colab-df-generate {\n",
              "        background-color: #3B4455;\n",
              "        fill: #D2E3FC;\n",
              "      }\n",
              "\n",
              "      [theme=dark] .colab-df-generate:hover {\n",
              "        background-color: #434B5C;\n",
              "        box-shadow: 0px 1px 3px 1px rgba(0, 0, 0, 0.15);\n",
              "        filter: drop-shadow(0px 1px 2px rgba(0, 0, 0, 0.3));\n",
              "        fill: #FFFFFF;\n",
              "      }\n",
              "    </style>\n",
              "    <button class=\"colab-df-generate\" onclick=\"generateWithVariable('df')\"\n",
              "            title=\"Generate code using this dataframe.\"\n",
              "            style=\"display:none;\">\n",
              "\n",
              "  <svg xmlns=\"http://www.w3.org/2000/svg\" height=\"24px\"viewBox=\"0 0 24 24\"\n",
              "       width=\"24px\">\n",
              "    <path d=\"M7,19H8.4L18.45,9,17,7.55,7,17.6ZM5,21V16.75L18.45,3.32a2,2,0,0,1,2.83,0l1.4,1.43a1.91,1.91,0,0,1,.58,1.4,1.91,1.91,0,0,1-.58,1.4L9.25,21ZM18.45,9,17,7.55Zm-12,3A5.31,5.31,0,0,0,4.9,8.1,5.31,5.31,0,0,0,1,6.5,5.31,5.31,0,0,0,4.9,4.9,5.31,5.31,0,0,0,6.5,1,5.31,5.31,0,0,0,8.1,4.9,5.31,5.31,0,0,0,12,6.5,5.46,5.46,0,0,0,6.5,12Z\"/>\n",
              "  </svg>\n",
              "    </button>\n",
              "    <script>\n",
              "      (() => {\n",
              "      const buttonEl =\n",
              "        document.querySelector('#id_bc49c299-67bc-4947-875c-30d52c5e9016 button.colab-df-generate');\n",
              "      buttonEl.style.display =\n",
              "        google.colab.kernel.accessAllowed ? 'block' : 'none';\n",
              "\n",
              "      buttonEl.onclick = () => {\n",
              "        google.colab.notebook.generateWithVariable('df');\n",
              "      }\n",
              "      })();\n",
              "    </script>\n",
              "  </div>\n",
              "\n",
              "    </div>\n",
              "  </div>\n"
            ],
            "application/vnd.google.colaboratory.intrinsic+json": {
              "type": "dataframe",
              "variable_name": "df",
              "summary": "{\n  \"name\": \"df\",\n  \"rows\": 4,\n  \"fields\": [\n    {\n      \"column\": \"Sentence\",\n      \"properties\": {\n        \"dtype\": \"string\",\n        \"num_unique_values\": 4,\n        \"samples\": [\n          \"The patient\\u2019s medical record number is 56467890.\",\n          \"Her contact number is 444-456-7890.\",\n          \"Dr. John Lee, from Royal Medical Clinic in Chicago, attended to the patient on 11/05/2024.\"\n        ],\n        \"semantic_type\": \"\",\n        \"description\": \"\"\n      }\n    },\n    {\n      \"column\": \"Masked\",\n      \"properties\": {\n        \"dtype\": \"string\",\n        \"num_unique_values\": 4,\n        \"samples\": [\n          \"The patient\\u2019s medical record number is <MEDICALRECORD>.\",\n          \"Her contact number is <PHONE>.\",\n          \"Dr. <DOCTOR>, from <HOSPITAL> in <CITY>, attended to the patient on 11/05/2024.\"\n        ],\n        \"semantic_type\": \"\",\n        \"description\": \"\"\n      }\n    },\n    {\n      \"column\": \"Obfuscated\",\n      \"properties\": {\n        \"dtype\": \"string\",\n        \"num_unique_values\": 4,\n        \"samples\": [\n          \"The patient\\u2019s medical record number is 47576981.\",\n          \"Her contact number is 222-214-3658.\",\n          \"Dr. Lacy Pick, from Baltimore VA Medical Center in Healdton, attended to the patient on 11/05/2024.\"\n        ],\n        \"semantic_type\": \"\",\n        \"description\": \"\"\n      }\n    }\n  ]\n}"
            }
          },
          "metadata": {},
          "execution_count": 29
        }
      ]
    },
    {
      "cell_type": "markdown",
      "source": [
        "## Remove Label (setBlackListEntities)\n",
        "\n",
        "Now, let's add a **setBlackListEntities** to an existing DeIdentificationModel."
      ],
      "metadata": {
        "id": "OiFMlLxaEb8k"
      }
    },
    {
      "cell_type": "code",
      "source": [
        "deid_pipeline.model.stages[25] = deid_pipeline.model.stages[25].setBlackListEntities(['DOCTOR'])\n",
        "deid_pipeline.transform(empty_data)"
      ],
      "metadata": {
        "colab": {
          "base_uri": "https://localhost:8080/"
        },
        "id": "WofeEi_R-BOD",
        "outputId": "467f49ff-9903-449d-e2e3-02150335bd5e"
      },
      "execution_count": 30,
      "outputs": [
        {
          "output_type": "execute_result",
          "data": {
            "text/plain": [
              "DataFrame[text: string, finished_sentence: array<string>, finished_ner_chunk: array<string>, finished_obfuscated: array<string>, finished_sentence_metadata: array<struct<_1:string,_2:string>>, finished_ner_chunk_metadata: array<struct<_1:string,_2:string>>, finished_obfuscated_metadata: array<struct<_1:string,_2:string>>]"
            ]
          },
          "metadata": {},
          "execution_count": 30
        }
      ]
    },
    {
      "cell_type": "code",
      "source": [
        "deid_res = deid_pipeline.fullAnnotate(text)"
      ],
      "metadata": {
        "id": "0KaxyexOEr_u"
      },
      "execution_count": 31,
      "outputs": []
    },
    {
      "cell_type": "code",
      "source": [
        "deid_res[0][\"obfuscated\"]"
      ],
      "metadata": {
        "colab": {
          "base_uri": "https://localhost:8080/"
        },
        "id": "CHJ4wLsTEw00",
        "outputId": "a28f78ca-58fe-4873-fc8b-f25e3e0b7b49"
      },
      "execution_count": 32,
      "outputs": [
        {
          "output_type": "execute_result",
          "data": {
            "text/plain": [
              "[Annotation(document, 0, 97, Dr. John Lee, from Baltimore VA Medical Center in Healdton, attended to the patient on 11/05/2024., {'sentence': '0', 'originalIndex': '0', 'masked': 'Dr. John Lee, from <HOSPITAL> in <CITY>, attended to the patient on 11/05/2024.'}, []),\n",
              " Annotation(document, 98, 145, The patient’s medical record number is 47576981., {'sentence': '1', 'originalIndex': '100', 'masked': 'The patient’s medical record number is <MEDICALRECORD>.'}, []),\n",
              " Annotation(document, 146, 245, The patient, Joyce Nixon, is 40 years old, with a history of chronic kidney disease stage 3 (N18.3)., {'sentence': '2', 'originalIndex': '158', 'masked': 'The patient, <PATIENT>, is <AGE> years old, with a history of chronic kidney disease stage 3 (N18.3).'}, []),\n",
              " Annotation(document, 246, 280, Her contact number is 222-214-3658., {'sentence': '3', 'originalIndex': '268', 'masked': 'Her contact number is <PHONE>.'}, [])]"
            ]
          },
          "metadata": {},
          "execution_count": 32
        }
      ]
    },
    {
      "cell_type": "markdown",
      "source": [
        "As a result, we have added the **DOCTOR** entity to the BlackListEntities, and it will not obfuscate the **DOCTOR** chunks."
      ],
      "metadata": {
        "id": "vxjvlgNwgDaA"
      }
    },
    {
      "cell_type": "code",
      "source": [
        "for res in deid_res:\n",
        "    sentence = [original_text.result for original_text in res[\"sentence\"]]\n",
        "    masked = [masked_text.metadata[\"masked\"] for masked_text in res[\"obfuscated\"]]\n",
        "    obfuscated = [obfuscated_text.result for obfuscated_text in res[\"obfuscated\"]]\n",
        "\n",
        "df = pd.DataFrame({\"Sentence\": sentence, \"Masked\": masked, \"Obfuscated\": obfuscated})\n",
        "\n",
        "df"
      ],
      "metadata": {
        "colab": {
          "base_uri": "https://localhost:8080/",
          "height": 209
        },
        "id": "Qg1qpq4RMVjh",
        "outputId": "ae2a961d-097b-44f7-e872-dee68ac0f1b1"
      },
      "execution_count": 33,
      "outputs": [
        {
          "output_type": "execute_result",
          "data": {
            "text/plain": [
              "                                                                                               Sentence                                                                                                 Masked                                                                                            Obfuscated\n",
              "0            Dr. John Lee, from Royal Medical Clinic in Chicago, attended to the patient on 11/05/2024.                        Dr. John Lee, from <HOSPITAL> in <CITY>, attended to the patient on 11/05/2024.    Dr. John Lee, from Baltimore VA Medical Center in Healdton, attended to the patient on 11/05/2024.\n",
              "1                                                      The patient’s medical record number is 56467890.                                                The patient’s medical record number is <MEDICALRECORD>.                                                      The patient’s medical record number is 47576981.\n",
              "2  The patient, Emma Wilson, is 50 years old, with a history of chronic kidney disease stage 3 (N18.3).  The patient, <PATIENT>, is <AGE> years old, with a history of chronic kidney disease stage 3 (N18.3).  The patient, Joyce Nixon, is 40 years old, with a history of chronic kidney disease stage 3 (N18.3).\n",
              "3                                                                   Her contact number is 444-456-7890.                                                                         Her contact number is <PHONE>.                                                                   Her contact number is 222-214-3658."
            ],
            "text/html": [
              "\n",
              "  <div id=\"df-206d3fee-e1d4-4cf5-95a9-c71892476346\" class=\"colab-df-container\">\n",
              "    <div>\n",
              "<style scoped>\n",
              "    .dataframe tbody tr th:only-of-type {\n",
              "        vertical-align: middle;\n",
              "    }\n",
              "\n",
              "    .dataframe tbody tr th {\n",
              "        vertical-align: top;\n",
              "    }\n",
              "\n",
              "    .dataframe thead th {\n",
              "        text-align: right;\n",
              "    }\n",
              "</style>\n",
              "<table border=\"1\" class=\"dataframe\">\n",
              "  <thead>\n",
              "    <tr style=\"text-align: right;\">\n",
              "      <th></th>\n",
              "      <th>Sentence</th>\n",
              "      <th>Masked</th>\n",
              "      <th>Obfuscated</th>\n",
              "    </tr>\n",
              "  </thead>\n",
              "  <tbody>\n",
              "    <tr>\n",
              "      <th>0</th>\n",
              "      <td>Dr. John Lee, from Royal Medical Clinic in Chicago, attended to the patient on 11/05/2024.</td>\n",
              "      <td>Dr. John Lee, from &lt;HOSPITAL&gt; in &lt;CITY&gt;, attended to the patient on 11/05/2024.</td>\n",
              "      <td>Dr. John Lee, from Baltimore VA Medical Center in Healdton, attended to the patient on 11/05/2024.</td>\n",
              "    </tr>\n",
              "    <tr>\n",
              "      <th>1</th>\n",
              "      <td>The patient’s medical record number is 56467890.</td>\n",
              "      <td>The patient’s medical record number is &lt;MEDICALRECORD&gt;.</td>\n",
              "      <td>The patient’s medical record number is 47576981.</td>\n",
              "    </tr>\n",
              "    <tr>\n",
              "      <th>2</th>\n",
              "      <td>The patient, Emma Wilson, is 50 years old, with a history of chronic kidney disease stage 3 (N18.3).</td>\n",
              "      <td>The patient, &lt;PATIENT&gt;, is &lt;AGE&gt; years old, with a history of chronic kidney disease stage 3 (N18.3).</td>\n",
              "      <td>The patient, Joyce Nixon, is 40 years old, with a history of chronic kidney disease stage 3 (N18.3).</td>\n",
              "    </tr>\n",
              "    <tr>\n",
              "      <th>3</th>\n",
              "      <td>Her contact number is 444-456-7890.</td>\n",
              "      <td>Her contact number is &lt;PHONE&gt;.</td>\n",
              "      <td>Her contact number is 222-214-3658.</td>\n",
              "    </tr>\n",
              "  </tbody>\n",
              "</table>\n",
              "</div>\n",
              "    <div class=\"colab-df-buttons\">\n",
              "\n",
              "  <div class=\"colab-df-container\">\n",
              "    <button class=\"colab-df-convert\" onclick=\"convertToInteractive('df-206d3fee-e1d4-4cf5-95a9-c71892476346')\"\n",
              "            title=\"Convert this dataframe to an interactive table.\"\n",
              "            style=\"display:none;\">\n",
              "\n",
              "  <svg xmlns=\"http://www.w3.org/2000/svg\" height=\"24px\" viewBox=\"0 -960 960 960\">\n",
              "    <path d=\"M120-120v-720h720v720H120Zm60-500h600v-160H180v160Zm220 220h160v-160H400v160Zm0 220h160v-160H400v160ZM180-400h160v-160H180v160Zm440 0h160v-160H620v160ZM180-180h160v-160H180v160Zm440 0h160v-160H620v160Z\"/>\n",
              "  </svg>\n",
              "    </button>\n",
              "\n",
              "  <style>\n",
              "    .colab-df-container {\n",
              "      display:flex;\n",
              "      gap: 12px;\n",
              "    }\n",
              "\n",
              "    .colab-df-convert {\n",
              "      background-color: #E8F0FE;\n",
              "      border: none;\n",
              "      border-radius: 50%;\n",
              "      cursor: pointer;\n",
              "      display: none;\n",
              "      fill: #1967D2;\n",
              "      height: 32px;\n",
              "      padding: 0 0 0 0;\n",
              "      width: 32px;\n",
              "    }\n",
              "\n",
              "    .colab-df-convert:hover {\n",
              "      background-color: #E2EBFA;\n",
              "      box-shadow: 0px 1px 2px rgba(60, 64, 67, 0.3), 0px 1px 3px 1px rgba(60, 64, 67, 0.15);\n",
              "      fill: #174EA6;\n",
              "    }\n",
              "\n",
              "    .colab-df-buttons div {\n",
              "      margin-bottom: 4px;\n",
              "    }\n",
              "\n",
              "    [theme=dark] .colab-df-convert {\n",
              "      background-color: #3B4455;\n",
              "      fill: #D2E3FC;\n",
              "    }\n",
              "\n",
              "    [theme=dark] .colab-df-convert:hover {\n",
              "      background-color: #434B5C;\n",
              "      box-shadow: 0px 1px 3px 1px rgba(0, 0, 0, 0.15);\n",
              "      filter: drop-shadow(0px 1px 2px rgba(0, 0, 0, 0.3));\n",
              "      fill: #FFFFFF;\n",
              "    }\n",
              "  </style>\n",
              "\n",
              "    <script>\n",
              "      const buttonEl =\n",
              "        document.querySelector('#df-206d3fee-e1d4-4cf5-95a9-c71892476346 button.colab-df-convert');\n",
              "      buttonEl.style.display =\n",
              "        google.colab.kernel.accessAllowed ? 'block' : 'none';\n",
              "\n",
              "      async function convertToInteractive(key) {\n",
              "        const element = document.querySelector('#df-206d3fee-e1d4-4cf5-95a9-c71892476346');\n",
              "        const dataTable =\n",
              "          await google.colab.kernel.invokeFunction('convertToInteractive',\n",
              "                                                    [key], {});\n",
              "        if (!dataTable) return;\n",
              "\n",
              "        const docLinkHtml = 'Like what you see? Visit the ' +\n",
              "          '<a target=\"_blank\" href=https://colab.research.google.com/notebooks/data_table.ipynb>data table notebook</a>'\n",
              "          + ' to learn more about interactive tables.';\n",
              "        element.innerHTML = '';\n",
              "        dataTable['output_type'] = 'display_data';\n",
              "        await google.colab.output.renderOutput(dataTable, element);\n",
              "        const docLink = document.createElement('div');\n",
              "        docLink.innerHTML = docLinkHtml;\n",
              "        element.appendChild(docLink);\n",
              "      }\n",
              "    </script>\n",
              "  </div>\n",
              "\n",
              "\n",
              "<div id=\"df-5f4a8be6-3569-44a8-8481-adf9ca517f40\">\n",
              "  <button class=\"colab-df-quickchart\" onclick=\"quickchart('df-5f4a8be6-3569-44a8-8481-adf9ca517f40')\"\n",
              "            title=\"Suggest charts\"\n",
              "            style=\"display:none;\">\n",
              "\n",
              "<svg xmlns=\"http://www.w3.org/2000/svg\" height=\"24px\"viewBox=\"0 0 24 24\"\n",
              "     width=\"24px\">\n",
              "    <g>\n",
              "        <path d=\"M19 3H5c-1.1 0-2 .9-2 2v14c0 1.1.9 2 2 2h14c1.1 0 2-.9 2-2V5c0-1.1-.9-2-2-2zM9 17H7v-7h2v7zm4 0h-2V7h2v10zm4 0h-2v-4h2v4z\"/>\n",
              "    </g>\n",
              "</svg>\n",
              "  </button>\n",
              "\n",
              "<style>\n",
              "  .colab-df-quickchart {\n",
              "      --bg-color: #E8F0FE;\n",
              "      --fill-color: #1967D2;\n",
              "      --hover-bg-color: #E2EBFA;\n",
              "      --hover-fill-color: #174EA6;\n",
              "      --disabled-fill-color: #AAA;\n",
              "      --disabled-bg-color: #DDD;\n",
              "  }\n",
              "\n",
              "  [theme=dark] .colab-df-quickchart {\n",
              "      --bg-color: #3B4455;\n",
              "      --fill-color: #D2E3FC;\n",
              "      --hover-bg-color: #434B5C;\n",
              "      --hover-fill-color: #FFFFFF;\n",
              "      --disabled-bg-color: #3B4455;\n",
              "      --disabled-fill-color: #666;\n",
              "  }\n",
              "\n",
              "  .colab-df-quickchart {\n",
              "    background-color: var(--bg-color);\n",
              "    border: none;\n",
              "    border-radius: 50%;\n",
              "    cursor: pointer;\n",
              "    display: none;\n",
              "    fill: var(--fill-color);\n",
              "    height: 32px;\n",
              "    padding: 0;\n",
              "    width: 32px;\n",
              "  }\n",
              "\n",
              "  .colab-df-quickchart:hover {\n",
              "    background-color: var(--hover-bg-color);\n",
              "    box-shadow: 0 1px 2px rgba(60, 64, 67, 0.3), 0 1px 3px 1px rgba(60, 64, 67, 0.15);\n",
              "    fill: var(--button-hover-fill-color);\n",
              "  }\n",
              "\n",
              "  .colab-df-quickchart-complete:disabled,\n",
              "  .colab-df-quickchart-complete:disabled:hover {\n",
              "    background-color: var(--disabled-bg-color);\n",
              "    fill: var(--disabled-fill-color);\n",
              "    box-shadow: none;\n",
              "  }\n",
              "\n",
              "  .colab-df-spinner {\n",
              "    border: 2px solid var(--fill-color);\n",
              "    border-color: transparent;\n",
              "    border-bottom-color: var(--fill-color);\n",
              "    animation:\n",
              "      spin 1s steps(1) infinite;\n",
              "  }\n",
              "\n",
              "  @keyframes spin {\n",
              "    0% {\n",
              "      border-color: transparent;\n",
              "      border-bottom-color: var(--fill-color);\n",
              "      border-left-color: var(--fill-color);\n",
              "    }\n",
              "    20% {\n",
              "      border-color: transparent;\n",
              "      border-left-color: var(--fill-color);\n",
              "      border-top-color: var(--fill-color);\n",
              "    }\n",
              "    30% {\n",
              "      border-color: transparent;\n",
              "      border-left-color: var(--fill-color);\n",
              "      border-top-color: var(--fill-color);\n",
              "      border-right-color: var(--fill-color);\n",
              "    }\n",
              "    40% {\n",
              "      border-color: transparent;\n",
              "      border-right-color: var(--fill-color);\n",
              "      border-top-color: var(--fill-color);\n",
              "    }\n",
              "    60% {\n",
              "      border-color: transparent;\n",
              "      border-right-color: var(--fill-color);\n",
              "    }\n",
              "    80% {\n",
              "      border-color: transparent;\n",
              "      border-right-color: var(--fill-color);\n",
              "      border-bottom-color: var(--fill-color);\n",
              "    }\n",
              "    90% {\n",
              "      border-color: transparent;\n",
              "      border-bottom-color: var(--fill-color);\n",
              "    }\n",
              "  }\n",
              "</style>\n",
              "\n",
              "  <script>\n",
              "    async function quickchart(key) {\n",
              "      const quickchartButtonEl =\n",
              "        document.querySelector('#' + key + ' button');\n",
              "      quickchartButtonEl.disabled = true;  // To prevent multiple clicks.\n",
              "      quickchartButtonEl.classList.add('colab-df-spinner');\n",
              "      try {\n",
              "        const charts = await google.colab.kernel.invokeFunction(\n",
              "            'suggestCharts', [key], {});\n",
              "      } catch (error) {\n",
              "        console.error('Error during call to suggestCharts:', error);\n",
              "      }\n",
              "      quickchartButtonEl.classList.remove('colab-df-spinner');\n",
              "      quickchartButtonEl.classList.add('colab-df-quickchart-complete');\n",
              "    }\n",
              "    (() => {\n",
              "      let quickchartButtonEl =\n",
              "        document.querySelector('#df-5f4a8be6-3569-44a8-8481-adf9ca517f40 button');\n",
              "      quickchartButtonEl.style.display =\n",
              "        google.colab.kernel.accessAllowed ? 'block' : 'none';\n",
              "    })();\n",
              "  </script>\n",
              "</div>\n",
              "\n",
              "  <div id=\"id_95a444df-2c57-4a51-aaa0-b79e7f677c2e\">\n",
              "    <style>\n",
              "      .colab-df-generate {\n",
              "        background-color: #E8F0FE;\n",
              "        border: none;\n",
              "        border-radius: 50%;\n",
              "        cursor: pointer;\n",
              "        display: none;\n",
              "        fill: #1967D2;\n",
              "        height: 32px;\n",
              "        padding: 0 0 0 0;\n",
              "        width: 32px;\n",
              "      }\n",
              "\n",
              "      .colab-df-generate:hover {\n",
              "        background-color: #E2EBFA;\n",
              "        box-shadow: 0px 1px 2px rgba(60, 64, 67, 0.3), 0px 1px 3px 1px rgba(60, 64, 67, 0.15);\n",
              "        fill: #174EA6;\n",
              "      }\n",
              "\n",
              "      [theme=dark] .colab-df-generate {\n",
              "        background-color: #3B4455;\n",
              "        fill: #D2E3FC;\n",
              "      }\n",
              "\n",
              "      [theme=dark] .colab-df-generate:hover {\n",
              "        background-color: #434B5C;\n",
              "        box-shadow: 0px 1px 3px 1px rgba(0, 0, 0, 0.15);\n",
              "        filter: drop-shadow(0px 1px 2px rgba(0, 0, 0, 0.3));\n",
              "        fill: #FFFFFF;\n",
              "      }\n",
              "    </style>\n",
              "    <button class=\"colab-df-generate\" onclick=\"generateWithVariable('df')\"\n",
              "            title=\"Generate code using this dataframe.\"\n",
              "            style=\"display:none;\">\n",
              "\n",
              "  <svg xmlns=\"http://www.w3.org/2000/svg\" height=\"24px\"viewBox=\"0 0 24 24\"\n",
              "       width=\"24px\">\n",
              "    <path d=\"M7,19H8.4L18.45,9,17,7.55,7,17.6ZM5,21V16.75L18.45,3.32a2,2,0,0,1,2.83,0l1.4,1.43a1.91,1.91,0,0,1,.58,1.4,1.91,1.91,0,0,1-.58,1.4L9.25,21ZM18.45,9,17,7.55Zm-12,3A5.31,5.31,0,0,0,4.9,8.1,5.31,5.31,0,0,0,1,6.5,5.31,5.31,0,0,0,4.9,4.9,5.31,5.31,0,0,0,6.5,1,5.31,5.31,0,0,0,8.1,4.9,5.31,5.31,0,0,0,12,6.5,5.46,5.46,0,0,0,6.5,12Z\"/>\n",
              "  </svg>\n",
              "    </button>\n",
              "    <script>\n",
              "      (() => {\n",
              "      const buttonEl =\n",
              "        document.querySelector('#id_95a444df-2c57-4a51-aaa0-b79e7f677c2e button.colab-df-generate');\n",
              "      buttonEl.style.display =\n",
              "        google.colab.kernel.accessAllowed ? 'block' : 'none';\n",
              "\n",
              "      buttonEl.onclick = () => {\n",
              "        google.colab.notebook.generateWithVariable('df');\n",
              "      }\n",
              "      })();\n",
              "    </script>\n",
              "  </div>\n",
              "\n",
              "    </div>\n",
              "  </div>\n"
            ],
            "application/vnd.google.colaboratory.intrinsic+json": {
              "type": "dataframe",
              "variable_name": "df",
              "summary": "{\n  \"name\": \"df\",\n  \"rows\": 4,\n  \"fields\": [\n    {\n      \"column\": \"Sentence\",\n      \"properties\": {\n        \"dtype\": \"string\",\n        \"num_unique_values\": 4,\n        \"samples\": [\n          \"The patient\\u2019s medical record number is 56467890.\",\n          \"Her contact number is 444-456-7890.\",\n          \"Dr. John Lee, from Royal Medical Clinic in Chicago, attended to the patient on 11/05/2024.\"\n        ],\n        \"semantic_type\": \"\",\n        \"description\": \"\"\n      }\n    },\n    {\n      \"column\": \"Masked\",\n      \"properties\": {\n        \"dtype\": \"string\",\n        \"num_unique_values\": 4,\n        \"samples\": [\n          \"The patient\\u2019s medical record number is <MEDICALRECORD>.\",\n          \"Her contact number is <PHONE>.\",\n          \"Dr. John Lee, from <HOSPITAL> in <CITY>, attended to the patient on 11/05/2024.\"\n        ],\n        \"semantic_type\": \"\",\n        \"description\": \"\"\n      }\n    },\n    {\n      \"column\": \"Obfuscated\",\n      \"properties\": {\n        \"dtype\": \"string\",\n        \"num_unique_values\": 4,\n        \"samples\": [\n          \"The patient\\u2019s medical record number is 47576981.\",\n          \"Her contact number is 222-214-3658.\",\n          \"Dr. John Lee, from Baltimore VA Medical Center in Healdton, attended to the patient on 11/05/2024.\"\n        ],\n        \"semantic_type\": \"\",\n        \"description\": \"\"\n      }\n    }\n  ]\n}"
            }
          },
          "metadata": {},
          "execution_count": 33
        }
      ]
    },
    {
      "cell_type": "markdown",
      "metadata": {
        "id": "ajX_49jHXQXm"
      },
      "source": [
        "## Added New Stage (ICD10_CODE)\n",
        "\n",
        "Now, we will add the **ICD10CM parse model** to the pretrained pipeline we have."
      ]
    },
    {
      "cell_type": "code",
      "execution_count": 34,
      "metadata": {
        "colab": {
          "base_uri": "https://localhost:8080/"
        },
        "outputId": "b2f6366a-bedd-4ae0-aa59-d2bfb64d38df",
        "id": "xVgBCP89XQXm"
      },
      "outputs": [
        {
          "output_type": "stream",
          "name": "stdout",
          "text": [
            "sentence_detector_dl_healthcare download started this may take some time.\n",
            "Approximate size to download 367.3 KB\n",
            "[OK!]\n"
          ]
        }
      ],
      "source": [
        "documentAssembler = DocumentAssembler()\\\n",
        "    .setInputCol(\"text\")\\\n",
        "    .setOutputCol(\"document\")\n",
        "\n",
        "sentenceDetector = SentenceDetectorDLModel.pretrained(\"sentence_detector_dl_healthcare\", \"en\", \"clinical/models\")\\\n",
        "    .setInputCols([\"document\"])\\\n",
        "    .setOutputCol(\"sentence\")\n",
        "\n",
        "tokenizer = Tokenizer()\\\n",
        "    .setInputCols([\"sentence\"])\\\n",
        "    .setOutputCol(\"token\")\n",
        "\n",
        "icd10cm = {\n",
        "    \"entity\": \"ICD10_CODE\",\n",
        "    \"ruleScope\": \"sentence\",\n",
        "    \"regex\": \"^[A-Z]\\d{1,2}(.\\d{1,2})?$\",\n",
        "    \"matchScope\": \"token\",\n",
        "    \"contextLength\": 15\n",
        "}\n",
        "\n",
        "with open('icd10cm.json', 'w') as f:\n",
        "    json.dump(icd10cm, f)\n",
        "\n",
        "icd10cm_parser = ContextualParserApproach() \\\n",
        "      .setInputCols([\"sentence\", \"token\"]) \\\n",
        "      .setOutputCol(\"entity_icd10cm\") \\\n",
        "      .setJsonPath(\"icd10cm.json\") \\\n",
        "      .setCaseSensitive(False) \\\n",
        "      .setPrefixAndSuffixMatch(False)\\\n",
        "      .setShortestContextMatch(False)\\\n",
        "      .setOptionalContextRules(False)\\\n",
        "      .setCompleteContextMatch(True)\n",
        "\n",
        "icd10cm_parser_pipeline = Pipeline(stages=[\n",
        "    documentAssembler,\n",
        "    sentenceDetector,\n",
        "    tokenizer,\n",
        "    icd10cm_parser\n",
        "])\n",
        "\n",
        "empty_data = spark.createDataFrame([[\"\"]]).toDF(\"text\")\n",
        "icd10cm_parser_model = icd10cm_parser_pipeline.fit(empty_data)"
      ]
    },
    {
      "cell_type": "code",
      "source": [
        "# icd10cm_parser_model test\n",
        "txt = \"\"\"During her pregnancy, the patient was diagnosed with gestational diabetes mellitus (O24.489) and pre-existing type 1 diabetes (O24.11),\n",
        "and she also experienced persistent nausea (R11.1) and frequent urination (R35).\"\"\"\n",
        "\n",
        "LightPipeline(icd10cm_parser_model).annotate(txt)[\"entity_icd10cm\"]"
      ],
      "metadata": {
        "colab": {
          "base_uri": "https://localhost:8080/"
        },
        "id": "PBW2XsiLGEF8",
        "outputId": "3046d3ae-2d14-425f-9e60-84a4bdf97cb9"
      },
      "execution_count": 35,
      "outputs": [
        {
          "output_type": "execute_result",
          "data": {
            "text/plain": [
              "['O24.11', 'R11.1', 'R35']"
            ]
          },
          "metadata": {},
          "execution_count": 35
        }
      ]
    },
    {
      "cell_type": "code",
      "source": [
        "icd10cm_parser_model.stages[-1].write().overwrite().save(\"icd10cm_parser\")\n",
        "icd10cm_parser1=ContextualParserModel.load(\"/content/icd10cm_parser\")\\\n",
        "      .setInputCols([\"sentence\", \"token\"])\\\n",
        "      .setOutputCol(\"entity_icd10cm\")"
      ],
      "metadata": {
        "id": "3AqWIe7Y9rWu"
      },
      "execution_count": 36,
      "outputs": []
    },
    {
      "source": [
        "deid_pipeline.model.stages = (\n",
        "    deid_pipeline.model.stages[:22] +  # We are adding our ICD10CM parsel model to the appropriate place in the schema.\n",
        "    [icd10cm_parser1] +\n",
        "    deid_pipeline.model.stages[22:]\n",
        ")"
      ],
      "cell_type": "code",
      "metadata": {
        "id": "I0lG8gzE5Eyj"
      },
      "execution_count": 37,
      "outputs": []
    },
    {
      "cell_type": "code",
      "source": [
        "deid_pipeline.model.stages"
      ],
      "metadata": {
        "colab": {
          "base_uri": "https://localhost:8080/"
        },
        "id": "hXvn3qkc5KOi",
        "outputId": "08c68b9e-c849-44de-b795-baaccb4344e4"
      },
      "execution_count": 38,
      "outputs": [
        {
          "output_type": "execute_result",
          "data": {
            "text/plain": [
              "[DocumentAssembler_0293828e42e5,\n",
              " SentenceDetectorDLModel_6bafc4746ea5,\n",
              " REGEX_TOKENIZER_ede41b4357b5,\n",
              " WORD_EMBEDDINGS_MODEL_9004b1d00302,\n",
              " MedicalNerModel_e8178a1262cc,\n",
              " NER_CONVERTER_1058f6f116d4,\n",
              " MedicalNerModel_9d4a08b1c03d,\n",
              " NER_CONVERTER_dc9b41725c7e,\n",
              " MERGE_14697a4bf7ea,\n",
              " CONTEXTUAL-PARSER_29d8f2e94a43,\n",
              " CONTEXTUAL-PARSER_9b30de083926,\n",
              " CONTEXTUAL-PARSER_009dd91ad279,\n",
              " CONTEXTUAL-PARSER_70bce6260bb4,\n",
              " CONTEXTUAL-PARSER_c7c49d4cc377,\n",
              " CONTEXTUAL-PARSER_4cdb8328ac10,\n",
              " ENTITY_EXTRACTOR_00a0458116f7,\n",
              " ENTITY_EXTRACTOR_396241ad6df7,\n",
              " CONTEXTUAL-PARSER_24e76bf85739,\n",
              " REGEX_MATCHER_e4237b63b8d9,\n",
              " CONTEXTUAL-PARSER_2b9eb4befaa6,\n",
              " CONTEXTUAL-PARSER_0892cc982b30,\n",
              " CONTEXTUAL-PARSER_20cecdf31e95,\n",
              " CONTEXTUAL-PARSER_0f3936810ce2,\n",
              " CONTEXTUAL-PARSER_69dda3cbafc9,\n",
              " MERGE_359f55073107,\n",
              " MERGE_2493d1337efe,\n",
              " DE-IDENTIFICATION_030ae1ab1b7a,\n",
              " Finisher_e9a5d603229b]"
            ]
          },
          "metadata": {},
          "execution_count": 38
        }
      ]
    },
    {
      "cell_type": "code",
      "source": [
        "len(deid_pipeline.model.stages)"
      ],
      "metadata": {
        "colab": {
          "base_uri": "https://localhost:8080/"
        },
        "id": "5WYhg-03HoLq",
        "outputId": "dcf9ec67-87aa-4102-e136-3d684a527956"
      },
      "execution_count": 39,
      "outputs": [
        {
          "output_type": "execute_result",
          "data": {
            "text/plain": [
              "28"
            ]
          },
          "metadata": {},
          "execution_count": 39
        }
      ]
    },
    {
      "cell_type": "markdown",
      "source": [
        "We can see an increase in the number of stages in the model above. We are adding the output of the newly added **icd10cm_parser** to **ChunkMerge**."
      ],
      "metadata": {
        "id": "Vv4Y_yDMzXDF"
      }
    },
    {
      "cell_type": "code",
      "source": [
        "merger_input_cols = deid_pipeline.model.stages[24].getInputCols()\n",
        "merger_input_cols"
      ],
      "metadata": {
        "colab": {
          "base_uri": "https://localhost:8080/"
        },
        "id": "zaasLrjdsz3i",
        "outputId": "c9b5adf6-8346-442b-f6cd-7da40c8a24c3"
      },
      "execution_count": 40,
      "outputs": [
        {
          "output_type": "execute_result",
          "data": {
            "text/plain": [
              "['entity_zip',\n",
              " 'entity_ssn',\n",
              " 'entity_account',\n",
              " 'entity_date',\n",
              " 'entity_phone',\n",
              " 'entity_age',\n",
              " 'entity_email',\n",
              " 'entity_med',\n",
              " 'entity_dln',\n",
              " 'entity_license',\n",
              " 'entity_plate',\n",
              " 'entity_vin',\n",
              " 'entity_country',\n",
              " 'entity_state']"
            ]
          },
          "metadata": {},
          "execution_count": 40
        }
      ]
    },
    {
      "cell_type": "code",
      "source": [
        "deid_pipeline.model.stages[24] = deid_pipeline.model.stages[24]\\\n",
        "      .setInputCols([\"entity_icd10cm\"]+merger_input_cols)\\\n",
        "      .setOutputCol(\"deid_merged_parse1\")"
      ],
      "metadata": {
        "id": "ub7zaG6U5oLR"
      },
      "execution_count": 41,
      "outputs": []
    },
    {
      "cell_type": "code",
      "source": [
        "deid_pipeline.model.stages[24].getInputCols()"
      ],
      "metadata": {
        "colab": {
          "base_uri": "https://localhost:8080/"
        },
        "id": "Qg1doObltLD_",
        "outputId": "06df8b36-4ff1-47df-fdb3-b4796313f4b8"
      },
      "execution_count": 42,
      "outputs": [
        {
          "output_type": "execute_result",
          "data": {
            "text/plain": [
              "['entity_icd10cm',\n",
              " 'entity_zip',\n",
              " 'entity_ssn',\n",
              " 'entity_account',\n",
              " 'entity_date',\n",
              " 'entity_phone',\n",
              " 'entity_age',\n",
              " 'entity_email',\n",
              " 'entity_med',\n",
              " 'entity_dln',\n",
              " 'entity_license',\n",
              " 'entity_plate',\n",
              " 'entity_vin',\n",
              " 'entity_country',\n",
              " 'entity_state']"
            ]
          },
          "metadata": {},
          "execution_count": 42
        }
      ]
    },
    {
      "cell_type": "code",
      "source": [
        "deid_lp = LightPipeline(deid_pipeline.model)"
      ],
      "metadata": {
        "id": "1PZx1ehPwYg3"
      },
      "execution_count": 43,
      "outputs": []
    },
    {
      "cell_type": "code",
      "source": [
        "deid_res= deid_lp.fullAnnotate(text)"
      ],
      "metadata": {
        "id": "DtOlpELzvUJc"
      },
      "execution_count": 44,
      "outputs": []
    },
    {
      "cell_type": "code",
      "execution_count": 45,
      "metadata": {
        "id": "ENqZA85Diqlb",
        "colab": {
          "base_uri": "https://localhost:8080/"
        },
        "outputId": "4cb5b939-9573-4161-ee1e-63c16fc5395d"
      },
      "outputs": [
        {
          "output_type": "execute_result",
          "data": {
            "text/plain": [
              "dict_keys(['obfuscated', 'ner_chunk', 'sentence'])"
            ]
          },
          "metadata": {},
          "execution_count": 45
        }
      ],
      "source": [
        "deid_res[0].keys()"
      ]
    },
    {
      "cell_type": "code",
      "execution_count": 46,
      "metadata": {
        "id": "0MSeuqbejWki",
        "colab": {
          "base_uri": "https://localhost:8080/",
          "height": 209
        },
        "outputId": "5f0b6e3d-3ec9-4b5e-efe6-cee6e4bdf994"
      },
      "outputs": [
        {
          "output_type": "execute_result",
          "data": {
            "text/plain": [
              "                                                                                               Sentence                                                                                                        Masked                                                                                                   Obfuscated\n",
              "0            Dr. John Lee, from Royal Medical Clinic in Chicago, attended to the patient on 11/05/2024.                               Dr. John Lee, from <HOSPITAL> in <CITY>, attended to the patient on 11/05/2024.           Dr. John Lee, from Baltimore VA Medical Center in Healdton, attended to the patient on 11/05/2024.\n",
              "1                                                      The patient’s medical record number is 56467890.                                                       The patient’s medical record number is <MEDICALRECORD>.                                                             The patient’s medical record number is 47576981.\n",
              "2  The patient, Emma Wilson, is 50 years old, with a history of chronic kidney disease stage 3 (N18.3).  The patient, <PATIENT>, is <AGE> years old, with a history of chronic kidney disease stage 3 (<ICD10_CODE>).  The patient, Joyce Nixon, is 40 years old, with a history of chronic kidney disease stage 3 (<ICD10_CODE>).\n",
              "3                                                                   Her contact number is 444-456-7890.                                                                                Her contact number is <PHONE>.                                                                          Her contact number is 222-214-3658."
            ],
            "text/html": [
              "\n",
              "  <div id=\"df-c71f7908-2380-419b-bdb0-dd6df82b2997\" class=\"colab-df-container\">\n",
              "    <div>\n",
              "<style scoped>\n",
              "    .dataframe tbody tr th:only-of-type {\n",
              "        vertical-align: middle;\n",
              "    }\n",
              "\n",
              "    .dataframe tbody tr th {\n",
              "        vertical-align: top;\n",
              "    }\n",
              "\n",
              "    .dataframe thead th {\n",
              "        text-align: right;\n",
              "    }\n",
              "</style>\n",
              "<table border=\"1\" class=\"dataframe\">\n",
              "  <thead>\n",
              "    <tr style=\"text-align: right;\">\n",
              "      <th></th>\n",
              "      <th>Sentence</th>\n",
              "      <th>Masked</th>\n",
              "      <th>Obfuscated</th>\n",
              "    </tr>\n",
              "  </thead>\n",
              "  <tbody>\n",
              "    <tr>\n",
              "      <th>0</th>\n",
              "      <td>Dr. John Lee, from Royal Medical Clinic in Chicago, attended to the patient on 11/05/2024.</td>\n",
              "      <td>Dr. John Lee, from &lt;HOSPITAL&gt; in &lt;CITY&gt;, attended to the patient on 11/05/2024.</td>\n",
              "      <td>Dr. John Lee, from Baltimore VA Medical Center in Healdton, attended to the patient on 11/05/2024.</td>\n",
              "    </tr>\n",
              "    <tr>\n",
              "      <th>1</th>\n",
              "      <td>The patient’s medical record number is 56467890.</td>\n",
              "      <td>The patient’s medical record number is &lt;MEDICALRECORD&gt;.</td>\n",
              "      <td>The patient’s medical record number is 47576981.</td>\n",
              "    </tr>\n",
              "    <tr>\n",
              "      <th>2</th>\n",
              "      <td>The patient, Emma Wilson, is 50 years old, with a history of chronic kidney disease stage 3 (N18.3).</td>\n",
              "      <td>The patient, &lt;PATIENT&gt;, is &lt;AGE&gt; years old, with a history of chronic kidney disease stage 3 (&lt;ICD10_CODE&gt;).</td>\n",
              "      <td>The patient, Joyce Nixon, is 40 years old, with a history of chronic kidney disease stage 3 (&lt;ICD10_CODE&gt;).</td>\n",
              "    </tr>\n",
              "    <tr>\n",
              "      <th>3</th>\n",
              "      <td>Her contact number is 444-456-7890.</td>\n",
              "      <td>Her contact number is &lt;PHONE&gt;.</td>\n",
              "      <td>Her contact number is 222-214-3658.</td>\n",
              "    </tr>\n",
              "  </tbody>\n",
              "</table>\n",
              "</div>\n",
              "    <div class=\"colab-df-buttons\">\n",
              "\n",
              "  <div class=\"colab-df-container\">\n",
              "    <button class=\"colab-df-convert\" onclick=\"convertToInteractive('df-c71f7908-2380-419b-bdb0-dd6df82b2997')\"\n",
              "            title=\"Convert this dataframe to an interactive table.\"\n",
              "            style=\"display:none;\">\n",
              "\n",
              "  <svg xmlns=\"http://www.w3.org/2000/svg\" height=\"24px\" viewBox=\"0 -960 960 960\">\n",
              "    <path d=\"M120-120v-720h720v720H120Zm60-500h600v-160H180v160Zm220 220h160v-160H400v160Zm0 220h160v-160H400v160ZM180-400h160v-160H180v160Zm440 0h160v-160H620v160ZM180-180h160v-160H180v160Zm440 0h160v-160H620v160Z\"/>\n",
              "  </svg>\n",
              "    </button>\n",
              "\n",
              "  <style>\n",
              "    .colab-df-container {\n",
              "      display:flex;\n",
              "      gap: 12px;\n",
              "    }\n",
              "\n",
              "    .colab-df-convert {\n",
              "      background-color: #E8F0FE;\n",
              "      border: none;\n",
              "      border-radius: 50%;\n",
              "      cursor: pointer;\n",
              "      display: none;\n",
              "      fill: #1967D2;\n",
              "      height: 32px;\n",
              "      padding: 0 0 0 0;\n",
              "      width: 32px;\n",
              "    }\n",
              "\n",
              "    .colab-df-convert:hover {\n",
              "      background-color: #E2EBFA;\n",
              "      box-shadow: 0px 1px 2px rgba(60, 64, 67, 0.3), 0px 1px 3px 1px rgba(60, 64, 67, 0.15);\n",
              "      fill: #174EA6;\n",
              "    }\n",
              "\n",
              "    .colab-df-buttons div {\n",
              "      margin-bottom: 4px;\n",
              "    }\n",
              "\n",
              "    [theme=dark] .colab-df-convert {\n",
              "      background-color: #3B4455;\n",
              "      fill: #D2E3FC;\n",
              "    }\n",
              "\n",
              "    [theme=dark] .colab-df-convert:hover {\n",
              "      background-color: #434B5C;\n",
              "      box-shadow: 0px 1px 3px 1px rgba(0, 0, 0, 0.15);\n",
              "      filter: drop-shadow(0px 1px 2px rgba(0, 0, 0, 0.3));\n",
              "      fill: #FFFFFF;\n",
              "    }\n",
              "  </style>\n",
              "\n",
              "    <script>\n",
              "      const buttonEl =\n",
              "        document.querySelector('#df-c71f7908-2380-419b-bdb0-dd6df82b2997 button.colab-df-convert');\n",
              "      buttonEl.style.display =\n",
              "        google.colab.kernel.accessAllowed ? 'block' : 'none';\n",
              "\n",
              "      async function convertToInteractive(key) {\n",
              "        const element = document.querySelector('#df-c71f7908-2380-419b-bdb0-dd6df82b2997');\n",
              "        const dataTable =\n",
              "          await google.colab.kernel.invokeFunction('convertToInteractive',\n",
              "                                                    [key], {});\n",
              "        if (!dataTable) return;\n",
              "\n",
              "        const docLinkHtml = 'Like what you see? Visit the ' +\n",
              "          '<a target=\"_blank\" href=https://colab.research.google.com/notebooks/data_table.ipynb>data table notebook</a>'\n",
              "          + ' to learn more about interactive tables.';\n",
              "        element.innerHTML = '';\n",
              "        dataTable['output_type'] = 'display_data';\n",
              "        await google.colab.output.renderOutput(dataTable, element);\n",
              "        const docLink = document.createElement('div');\n",
              "        docLink.innerHTML = docLinkHtml;\n",
              "        element.appendChild(docLink);\n",
              "      }\n",
              "    </script>\n",
              "  </div>\n",
              "\n",
              "\n",
              "<div id=\"df-7456d0e6-8aa6-4f27-913c-2c8fc8a66061\">\n",
              "  <button class=\"colab-df-quickchart\" onclick=\"quickchart('df-7456d0e6-8aa6-4f27-913c-2c8fc8a66061')\"\n",
              "            title=\"Suggest charts\"\n",
              "            style=\"display:none;\">\n",
              "\n",
              "<svg xmlns=\"http://www.w3.org/2000/svg\" height=\"24px\"viewBox=\"0 0 24 24\"\n",
              "     width=\"24px\">\n",
              "    <g>\n",
              "        <path d=\"M19 3H5c-1.1 0-2 .9-2 2v14c0 1.1.9 2 2 2h14c1.1 0 2-.9 2-2V5c0-1.1-.9-2-2-2zM9 17H7v-7h2v7zm4 0h-2V7h2v10zm4 0h-2v-4h2v4z\"/>\n",
              "    </g>\n",
              "</svg>\n",
              "  </button>\n",
              "\n",
              "<style>\n",
              "  .colab-df-quickchart {\n",
              "      --bg-color: #E8F0FE;\n",
              "      --fill-color: #1967D2;\n",
              "      --hover-bg-color: #E2EBFA;\n",
              "      --hover-fill-color: #174EA6;\n",
              "      --disabled-fill-color: #AAA;\n",
              "      --disabled-bg-color: #DDD;\n",
              "  }\n",
              "\n",
              "  [theme=dark] .colab-df-quickchart {\n",
              "      --bg-color: #3B4455;\n",
              "      --fill-color: #D2E3FC;\n",
              "      --hover-bg-color: #434B5C;\n",
              "      --hover-fill-color: #FFFFFF;\n",
              "      --disabled-bg-color: #3B4455;\n",
              "      --disabled-fill-color: #666;\n",
              "  }\n",
              "\n",
              "  .colab-df-quickchart {\n",
              "    background-color: var(--bg-color);\n",
              "    border: none;\n",
              "    border-radius: 50%;\n",
              "    cursor: pointer;\n",
              "    display: none;\n",
              "    fill: var(--fill-color);\n",
              "    height: 32px;\n",
              "    padding: 0;\n",
              "    width: 32px;\n",
              "  }\n",
              "\n",
              "  .colab-df-quickchart:hover {\n",
              "    background-color: var(--hover-bg-color);\n",
              "    box-shadow: 0 1px 2px rgba(60, 64, 67, 0.3), 0 1px 3px 1px rgba(60, 64, 67, 0.15);\n",
              "    fill: var(--button-hover-fill-color);\n",
              "  }\n",
              "\n",
              "  .colab-df-quickchart-complete:disabled,\n",
              "  .colab-df-quickchart-complete:disabled:hover {\n",
              "    background-color: var(--disabled-bg-color);\n",
              "    fill: var(--disabled-fill-color);\n",
              "    box-shadow: none;\n",
              "  }\n",
              "\n",
              "  .colab-df-spinner {\n",
              "    border: 2px solid var(--fill-color);\n",
              "    border-color: transparent;\n",
              "    border-bottom-color: var(--fill-color);\n",
              "    animation:\n",
              "      spin 1s steps(1) infinite;\n",
              "  }\n",
              "\n",
              "  @keyframes spin {\n",
              "    0% {\n",
              "      border-color: transparent;\n",
              "      border-bottom-color: var(--fill-color);\n",
              "      border-left-color: var(--fill-color);\n",
              "    }\n",
              "    20% {\n",
              "      border-color: transparent;\n",
              "      border-left-color: var(--fill-color);\n",
              "      border-top-color: var(--fill-color);\n",
              "    }\n",
              "    30% {\n",
              "      border-color: transparent;\n",
              "      border-left-color: var(--fill-color);\n",
              "      border-top-color: var(--fill-color);\n",
              "      border-right-color: var(--fill-color);\n",
              "    }\n",
              "    40% {\n",
              "      border-color: transparent;\n",
              "      border-right-color: var(--fill-color);\n",
              "      border-top-color: var(--fill-color);\n",
              "    }\n",
              "    60% {\n",
              "      border-color: transparent;\n",
              "      border-right-color: var(--fill-color);\n",
              "    }\n",
              "    80% {\n",
              "      border-color: transparent;\n",
              "      border-right-color: var(--fill-color);\n",
              "      border-bottom-color: var(--fill-color);\n",
              "    }\n",
              "    90% {\n",
              "      border-color: transparent;\n",
              "      border-bottom-color: var(--fill-color);\n",
              "    }\n",
              "  }\n",
              "</style>\n",
              "\n",
              "  <script>\n",
              "    async function quickchart(key) {\n",
              "      const quickchartButtonEl =\n",
              "        document.querySelector('#' + key + ' button');\n",
              "      quickchartButtonEl.disabled = true;  // To prevent multiple clicks.\n",
              "      quickchartButtonEl.classList.add('colab-df-spinner');\n",
              "      try {\n",
              "        const charts = await google.colab.kernel.invokeFunction(\n",
              "            'suggestCharts', [key], {});\n",
              "      } catch (error) {\n",
              "        console.error('Error during call to suggestCharts:', error);\n",
              "      }\n",
              "      quickchartButtonEl.classList.remove('colab-df-spinner');\n",
              "      quickchartButtonEl.classList.add('colab-df-quickchart-complete');\n",
              "    }\n",
              "    (() => {\n",
              "      let quickchartButtonEl =\n",
              "        document.querySelector('#df-7456d0e6-8aa6-4f27-913c-2c8fc8a66061 button');\n",
              "      quickchartButtonEl.style.display =\n",
              "        google.colab.kernel.accessAllowed ? 'block' : 'none';\n",
              "    })();\n",
              "  </script>\n",
              "</div>\n",
              "\n",
              "  <div id=\"id_480c7c9a-237c-45d0-b677-470a5b41411e\">\n",
              "    <style>\n",
              "      .colab-df-generate {\n",
              "        background-color: #E8F0FE;\n",
              "        border: none;\n",
              "        border-radius: 50%;\n",
              "        cursor: pointer;\n",
              "        display: none;\n",
              "        fill: #1967D2;\n",
              "        height: 32px;\n",
              "        padding: 0 0 0 0;\n",
              "        width: 32px;\n",
              "      }\n",
              "\n",
              "      .colab-df-generate:hover {\n",
              "        background-color: #E2EBFA;\n",
              "        box-shadow: 0px 1px 2px rgba(60, 64, 67, 0.3), 0px 1px 3px 1px rgba(60, 64, 67, 0.15);\n",
              "        fill: #174EA6;\n",
              "      }\n",
              "\n",
              "      [theme=dark] .colab-df-generate {\n",
              "        background-color: #3B4455;\n",
              "        fill: #D2E3FC;\n",
              "      }\n",
              "\n",
              "      [theme=dark] .colab-df-generate:hover {\n",
              "        background-color: #434B5C;\n",
              "        box-shadow: 0px 1px 3px 1px rgba(0, 0, 0, 0.15);\n",
              "        filter: drop-shadow(0px 1px 2px rgba(0, 0, 0, 0.3));\n",
              "        fill: #FFFFFF;\n",
              "      }\n",
              "    </style>\n",
              "    <button class=\"colab-df-generate\" onclick=\"generateWithVariable('df')\"\n",
              "            title=\"Generate code using this dataframe.\"\n",
              "            style=\"display:none;\">\n",
              "\n",
              "  <svg xmlns=\"http://www.w3.org/2000/svg\" height=\"24px\"viewBox=\"0 0 24 24\"\n",
              "       width=\"24px\">\n",
              "    <path d=\"M7,19H8.4L18.45,9,17,7.55,7,17.6ZM5,21V16.75L18.45,3.32a2,2,0,0,1,2.83,0l1.4,1.43a1.91,1.91,0,0,1,.58,1.4,1.91,1.91,0,0,1-.58,1.4L9.25,21ZM18.45,9,17,7.55Zm-12,3A5.31,5.31,0,0,0,4.9,8.1,5.31,5.31,0,0,0,1,6.5,5.31,5.31,0,0,0,4.9,4.9,5.31,5.31,0,0,0,6.5,1,5.31,5.31,0,0,0,8.1,4.9,5.31,5.31,0,0,0,12,6.5,5.46,5.46,0,0,0,6.5,12Z\"/>\n",
              "  </svg>\n",
              "    </button>\n",
              "    <script>\n",
              "      (() => {\n",
              "      const buttonEl =\n",
              "        document.querySelector('#id_480c7c9a-237c-45d0-b677-470a5b41411e button.colab-df-generate');\n",
              "      buttonEl.style.display =\n",
              "        google.colab.kernel.accessAllowed ? 'block' : 'none';\n",
              "\n",
              "      buttonEl.onclick = () => {\n",
              "        google.colab.notebook.generateWithVariable('df');\n",
              "      }\n",
              "      })();\n",
              "    </script>\n",
              "  </div>\n",
              "\n",
              "    </div>\n",
              "  </div>\n"
            ],
            "application/vnd.google.colaboratory.intrinsic+json": {
              "type": "dataframe",
              "variable_name": "df",
              "summary": "{\n  \"name\": \"df\",\n  \"rows\": 4,\n  \"fields\": [\n    {\n      \"column\": \"Sentence\",\n      \"properties\": {\n        \"dtype\": \"string\",\n        \"num_unique_values\": 4,\n        \"samples\": [\n          \"The patient\\u2019s medical record number is 56467890.\",\n          \"Her contact number is 444-456-7890.\",\n          \"Dr. John Lee, from Royal Medical Clinic in Chicago, attended to the patient on 11/05/2024.\"\n        ],\n        \"semantic_type\": \"\",\n        \"description\": \"\"\n      }\n    },\n    {\n      \"column\": \"Masked\",\n      \"properties\": {\n        \"dtype\": \"string\",\n        \"num_unique_values\": 4,\n        \"samples\": [\n          \"The patient\\u2019s medical record number is <MEDICALRECORD>.\",\n          \"Her contact number is <PHONE>.\",\n          \"Dr. John Lee, from <HOSPITAL> in <CITY>, attended to the patient on 11/05/2024.\"\n        ],\n        \"semantic_type\": \"\",\n        \"description\": \"\"\n      }\n    },\n    {\n      \"column\": \"Obfuscated\",\n      \"properties\": {\n        \"dtype\": \"string\",\n        \"num_unique_values\": 4,\n        \"samples\": [\n          \"The patient\\u2019s medical record number is 47576981.\",\n          \"Her contact number is 222-214-3658.\",\n          \"Dr. John Lee, from Baltimore VA Medical Center in Healdton, attended to the patient on 11/05/2024.\"\n        ],\n        \"semantic_type\": \"\",\n        \"description\": \"\"\n      }\n    }\n  ]\n}"
            }
          },
          "metadata": {},
          "execution_count": 46
        }
      ],
      "source": [
        "for res in deid_res:\n",
        "    sentence = [original_text.result for original_text in res[\"sentence\"]]\n",
        "    masked = [masked_text.metadata[\"masked\"] for masked_text in res[\"obfuscated\"]]\n",
        "    obfuscated = [obfuscated_text.result for obfuscated_text in res[\"obfuscated\"]]\n",
        "\n",
        "df = pd.DataFrame({\"Sentence\": sentence, \"Masked\": masked, \"Obfuscated\": obfuscated})\n",
        "\n",
        "df"
      ]
    },
    {
      "cell_type": "markdown",
      "source": [
        "The results of the **ICD10CM** we added are also displayed."
      ],
      "metadata": {
        "id": "4Hxbe2qVDnOy"
      }
    },
    {
      "cell_type": "markdown",
      "source": [
        "Now we will exclude **ICD10_CODE** entities"
      ],
      "metadata": {
        "id": "ZJMeLrVSeC53"
      }
    },
    {
      "cell_type": "code",
      "source": [
        "deid_pipeline.model.stages[-3].getInputCols()"
      ],
      "metadata": {
        "colab": {
          "base_uri": "https://localhost:8080/"
        },
        "id": "DVdvHG4teGmN",
        "outputId": "07e41f86-c6fb-446a-ca0d-309c6def4997"
      },
      "execution_count": 47,
      "outputs": [
        {
          "output_type": "execute_result",
          "data": {
            "text/plain": [
              "['deid_merged_parse1', 'deid_merged_chunk']"
            ]
          },
          "metadata": {},
          "execution_count": 47
        }
      ]
    },
    {
      "cell_type": "code",
      "source": [
        "deid_pipeline.model.stages[-3] = deid_pipeline.model.stages[-3].setBlackList(['ICD10_CODE'])"
      ],
      "metadata": {
        "id": "1cNgwU9TeKpF"
      },
      "execution_count": 48,
      "outputs": []
    },
    {
      "cell_type": "code",
      "source": [
        "deid_lp = LightPipeline(deid_pipeline.model)"
      ],
      "metadata": {
        "id": "In43lJICeN4c"
      },
      "execution_count": 49,
      "outputs": []
    },
    {
      "cell_type": "code",
      "source": [
        "deid_res= deid_lp.fullAnnotate(text)"
      ],
      "metadata": {
        "id": "07X40klAePqc"
      },
      "execution_count": 50,
      "outputs": []
    },
    {
      "cell_type": "code",
      "source": [
        "for res in deid_res:\n",
        "    sentence = [original_text.result for original_text in res[\"sentence\"]]\n",
        "    masked = [masked_text.metadata[\"masked\"] for masked_text in res[\"obfuscated\"]]\n",
        "    obfuscated = [obfuscated_text.result for obfuscated_text in res[\"obfuscated\"]]\n",
        "\n",
        "df = pd.DataFrame({\"Sentence\": sentence, \"Masked\": masked, \"Obfuscated\": obfuscated})\n",
        "\n",
        "df"
      ],
      "metadata": {
        "colab": {
          "base_uri": "https://localhost:8080/",
          "height": 209
        },
        "id": "lJzZ4sfXeSIu",
        "outputId": "5b6f5ab9-76b5-4e20-dd4e-2f66cc38e964"
      },
      "execution_count": 51,
      "outputs": [
        {
          "output_type": "execute_result",
          "data": {
            "text/plain": [
              "                                                                                               Sentence                                                                                                 Masked                                                                                            Obfuscated\n",
              "0            Dr. John Lee, from Royal Medical Clinic in Chicago, attended to the patient on 11/05/2024.                            Dr. John Lee, from <HOSPITAL> in <CITY>, attended to the patient on <DATE>.    Dr. John Lee, from Baltimore VA Medical Center in Healdton, attended to the patient on 06/06/2024.\n",
              "1                                                      The patient’s medical record number is 56467890.                                                The patient’s medical record number is <MEDICALRECORD>.                                                      The patient’s medical record number is 47576981.\n",
              "2  The patient, Emma Wilson, is 50 years old, with a history of chronic kidney disease stage 3 (N18.3).  The patient, <PATIENT>, is <AGE> years old, with a history of chronic kidney disease stage 3 (N18.3).  The patient, Joyce Nixon, is 40 years old, with a history of chronic kidney disease stage 3 (N18.3).\n",
              "3                                                                   Her contact number is 444-456-7890.                                                                         Her contact number is <PHONE>.                                                                   Her contact number is 222-214-3658."
            ],
            "text/html": [
              "\n",
              "  <div id=\"df-52c1ff92-aff0-46c5-9b57-14543615b6ee\" class=\"colab-df-container\">\n",
              "    <div>\n",
              "<style scoped>\n",
              "    .dataframe tbody tr th:only-of-type {\n",
              "        vertical-align: middle;\n",
              "    }\n",
              "\n",
              "    .dataframe tbody tr th {\n",
              "        vertical-align: top;\n",
              "    }\n",
              "\n",
              "    .dataframe thead th {\n",
              "        text-align: right;\n",
              "    }\n",
              "</style>\n",
              "<table border=\"1\" class=\"dataframe\">\n",
              "  <thead>\n",
              "    <tr style=\"text-align: right;\">\n",
              "      <th></th>\n",
              "      <th>Sentence</th>\n",
              "      <th>Masked</th>\n",
              "      <th>Obfuscated</th>\n",
              "    </tr>\n",
              "  </thead>\n",
              "  <tbody>\n",
              "    <tr>\n",
              "      <th>0</th>\n",
              "      <td>Dr. John Lee, from Royal Medical Clinic in Chicago, attended to the patient on 11/05/2024.</td>\n",
              "      <td>Dr. John Lee, from &lt;HOSPITAL&gt; in &lt;CITY&gt;, attended to the patient on &lt;DATE&gt;.</td>\n",
              "      <td>Dr. John Lee, from Baltimore VA Medical Center in Healdton, attended to the patient on 06/06/2024.</td>\n",
              "    </tr>\n",
              "    <tr>\n",
              "      <th>1</th>\n",
              "      <td>The patient’s medical record number is 56467890.</td>\n",
              "      <td>The patient’s medical record number is &lt;MEDICALRECORD&gt;.</td>\n",
              "      <td>The patient’s medical record number is 47576981.</td>\n",
              "    </tr>\n",
              "    <tr>\n",
              "      <th>2</th>\n",
              "      <td>The patient, Emma Wilson, is 50 years old, with a history of chronic kidney disease stage 3 (N18.3).</td>\n",
              "      <td>The patient, &lt;PATIENT&gt;, is &lt;AGE&gt; years old, with a history of chronic kidney disease stage 3 (N18.3).</td>\n",
              "      <td>The patient, Joyce Nixon, is 40 years old, with a history of chronic kidney disease stage 3 (N18.3).</td>\n",
              "    </tr>\n",
              "    <tr>\n",
              "      <th>3</th>\n",
              "      <td>Her contact number is 444-456-7890.</td>\n",
              "      <td>Her contact number is &lt;PHONE&gt;.</td>\n",
              "      <td>Her contact number is 222-214-3658.</td>\n",
              "    </tr>\n",
              "  </tbody>\n",
              "</table>\n",
              "</div>\n",
              "    <div class=\"colab-df-buttons\">\n",
              "\n",
              "  <div class=\"colab-df-container\">\n",
              "    <button class=\"colab-df-convert\" onclick=\"convertToInteractive('df-52c1ff92-aff0-46c5-9b57-14543615b6ee')\"\n",
              "            title=\"Convert this dataframe to an interactive table.\"\n",
              "            style=\"display:none;\">\n",
              "\n",
              "  <svg xmlns=\"http://www.w3.org/2000/svg\" height=\"24px\" viewBox=\"0 -960 960 960\">\n",
              "    <path d=\"M120-120v-720h720v720H120Zm60-500h600v-160H180v160Zm220 220h160v-160H400v160Zm0 220h160v-160H400v160ZM180-400h160v-160H180v160Zm440 0h160v-160H620v160ZM180-180h160v-160H180v160Zm440 0h160v-160H620v160Z\"/>\n",
              "  </svg>\n",
              "    </button>\n",
              "\n",
              "  <style>\n",
              "    .colab-df-container {\n",
              "      display:flex;\n",
              "      gap: 12px;\n",
              "    }\n",
              "\n",
              "    .colab-df-convert {\n",
              "      background-color: #E8F0FE;\n",
              "      border: none;\n",
              "      border-radius: 50%;\n",
              "      cursor: pointer;\n",
              "      display: none;\n",
              "      fill: #1967D2;\n",
              "      height: 32px;\n",
              "      padding: 0 0 0 0;\n",
              "      width: 32px;\n",
              "    }\n",
              "\n",
              "    .colab-df-convert:hover {\n",
              "      background-color: #E2EBFA;\n",
              "      box-shadow: 0px 1px 2px rgba(60, 64, 67, 0.3), 0px 1px 3px 1px rgba(60, 64, 67, 0.15);\n",
              "      fill: #174EA6;\n",
              "    }\n",
              "\n",
              "    .colab-df-buttons div {\n",
              "      margin-bottom: 4px;\n",
              "    }\n",
              "\n",
              "    [theme=dark] .colab-df-convert {\n",
              "      background-color: #3B4455;\n",
              "      fill: #D2E3FC;\n",
              "    }\n",
              "\n",
              "    [theme=dark] .colab-df-convert:hover {\n",
              "      background-color: #434B5C;\n",
              "      box-shadow: 0px 1px 3px 1px rgba(0, 0, 0, 0.15);\n",
              "      filter: drop-shadow(0px 1px 2px rgba(0, 0, 0, 0.3));\n",
              "      fill: #FFFFFF;\n",
              "    }\n",
              "  </style>\n",
              "\n",
              "    <script>\n",
              "      const buttonEl =\n",
              "        document.querySelector('#df-52c1ff92-aff0-46c5-9b57-14543615b6ee button.colab-df-convert');\n",
              "      buttonEl.style.display =\n",
              "        google.colab.kernel.accessAllowed ? 'block' : 'none';\n",
              "\n",
              "      async function convertToInteractive(key) {\n",
              "        const element = document.querySelector('#df-52c1ff92-aff0-46c5-9b57-14543615b6ee');\n",
              "        const dataTable =\n",
              "          await google.colab.kernel.invokeFunction('convertToInteractive',\n",
              "                                                    [key], {});\n",
              "        if (!dataTable) return;\n",
              "\n",
              "        const docLinkHtml = 'Like what you see? Visit the ' +\n",
              "          '<a target=\"_blank\" href=https://colab.research.google.com/notebooks/data_table.ipynb>data table notebook</a>'\n",
              "          + ' to learn more about interactive tables.';\n",
              "        element.innerHTML = '';\n",
              "        dataTable['output_type'] = 'display_data';\n",
              "        await google.colab.output.renderOutput(dataTable, element);\n",
              "        const docLink = document.createElement('div');\n",
              "        docLink.innerHTML = docLinkHtml;\n",
              "        element.appendChild(docLink);\n",
              "      }\n",
              "    </script>\n",
              "  </div>\n",
              "\n",
              "\n",
              "<div id=\"df-f04451ba-5324-42be-89f4-197137569c36\">\n",
              "  <button class=\"colab-df-quickchart\" onclick=\"quickchart('df-f04451ba-5324-42be-89f4-197137569c36')\"\n",
              "            title=\"Suggest charts\"\n",
              "            style=\"display:none;\">\n",
              "\n",
              "<svg xmlns=\"http://www.w3.org/2000/svg\" height=\"24px\"viewBox=\"0 0 24 24\"\n",
              "     width=\"24px\">\n",
              "    <g>\n",
              "        <path d=\"M19 3H5c-1.1 0-2 .9-2 2v14c0 1.1.9 2 2 2h14c1.1 0 2-.9 2-2V5c0-1.1-.9-2-2-2zM9 17H7v-7h2v7zm4 0h-2V7h2v10zm4 0h-2v-4h2v4z\"/>\n",
              "    </g>\n",
              "</svg>\n",
              "  </button>\n",
              "\n",
              "<style>\n",
              "  .colab-df-quickchart {\n",
              "      --bg-color: #E8F0FE;\n",
              "      --fill-color: #1967D2;\n",
              "      --hover-bg-color: #E2EBFA;\n",
              "      --hover-fill-color: #174EA6;\n",
              "      --disabled-fill-color: #AAA;\n",
              "      --disabled-bg-color: #DDD;\n",
              "  }\n",
              "\n",
              "  [theme=dark] .colab-df-quickchart {\n",
              "      --bg-color: #3B4455;\n",
              "      --fill-color: #D2E3FC;\n",
              "      --hover-bg-color: #434B5C;\n",
              "      --hover-fill-color: #FFFFFF;\n",
              "      --disabled-bg-color: #3B4455;\n",
              "      --disabled-fill-color: #666;\n",
              "  }\n",
              "\n",
              "  .colab-df-quickchart {\n",
              "    background-color: var(--bg-color);\n",
              "    border: none;\n",
              "    border-radius: 50%;\n",
              "    cursor: pointer;\n",
              "    display: none;\n",
              "    fill: var(--fill-color);\n",
              "    height: 32px;\n",
              "    padding: 0;\n",
              "    width: 32px;\n",
              "  }\n",
              "\n",
              "  .colab-df-quickchart:hover {\n",
              "    background-color: var(--hover-bg-color);\n",
              "    box-shadow: 0 1px 2px rgba(60, 64, 67, 0.3), 0 1px 3px 1px rgba(60, 64, 67, 0.15);\n",
              "    fill: var(--button-hover-fill-color);\n",
              "  }\n",
              "\n",
              "  .colab-df-quickchart-complete:disabled,\n",
              "  .colab-df-quickchart-complete:disabled:hover {\n",
              "    background-color: var(--disabled-bg-color);\n",
              "    fill: var(--disabled-fill-color);\n",
              "    box-shadow: none;\n",
              "  }\n",
              "\n",
              "  .colab-df-spinner {\n",
              "    border: 2px solid var(--fill-color);\n",
              "    border-color: transparent;\n",
              "    border-bottom-color: var(--fill-color);\n",
              "    animation:\n",
              "      spin 1s steps(1) infinite;\n",
              "  }\n",
              "\n",
              "  @keyframes spin {\n",
              "    0% {\n",
              "      border-color: transparent;\n",
              "      border-bottom-color: var(--fill-color);\n",
              "      border-left-color: var(--fill-color);\n",
              "    }\n",
              "    20% {\n",
              "      border-color: transparent;\n",
              "      border-left-color: var(--fill-color);\n",
              "      border-top-color: var(--fill-color);\n",
              "    }\n",
              "    30% {\n",
              "      border-color: transparent;\n",
              "      border-left-color: var(--fill-color);\n",
              "      border-top-color: var(--fill-color);\n",
              "      border-right-color: var(--fill-color);\n",
              "    }\n",
              "    40% {\n",
              "      border-color: transparent;\n",
              "      border-right-color: var(--fill-color);\n",
              "      border-top-color: var(--fill-color);\n",
              "    }\n",
              "    60% {\n",
              "      border-color: transparent;\n",
              "      border-right-color: var(--fill-color);\n",
              "    }\n",
              "    80% {\n",
              "      border-color: transparent;\n",
              "      border-right-color: var(--fill-color);\n",
              "      border-bottom-color: var(--fill-color);\n",
              "    }\n",
              "    90% {\n",
              "      border-color: transparent;\n",
              "      border-bottom-color: var(--fill-color);\n",
              "    }\n",
              "  }\n",
              "</style>\n",
              "\n",
              "  <script>\n",
              "    async function quickchart(key) {\n",
              "      const quickchartButtonEl =\n",
              "        document.querySelector('#' + key + ' button');\n",
              "      quickchartButtonEl.disabled = true;  // To prevent multiple clicks.\n",
              "      quickchartButtonEl.classList.add('colab-df-spinner');\n",
              "      try {\n",
              "        const charts = await google.colab.kernel.invokeFunction(\n",
              "            'suggestCharts', [key], {});\n",
              "      } catch (error) {\n",
              "        console.error('Error during call to suggestCharts:', error);\n",
              "      }\n",
              "      quickchartButtonEl.classList.remove('colab-df-spinner');\n",
              "      quickchartButtonEl.classList.add('colab-df-quickchart-complete');\n",
              "    }\n",
              "    (() => {\n",
              "      let quickchartButtonEl =\n",
              "        document.querySelector('#df-f04451ba-5324-42be-89f4-197137569c36 button');\n",
              "      quickchartButtonEl.style.display =\n",
              "        google.colab.kernel.accessAllowed ? 'block' : 'none';\n",
              "    })();\n",
              "  </script>\n",
              "</div>\n",
              "\n",
              "  <div id=\"id_ee67377e-a63c-44b8-896d-872bf1b62a03\">\n",
              "    <style>\n",
              "      .colab-df-generate {\n",
              "        background-color: #E8F0FE;\n",
              "        border: none;\n",
              "        border-radius: 50%;\n",
              "        cursor: pointer;\n",
              "        display: none;\n",
              "        fill: #1967D2;\n",
              "        height: 32px;\n",
              "        padding: 0 0 0 0;\n",
              "        width: 32px;\n",
              "      }\n",
              "\n",
              "      .colab-df-generate:hover {\n",
              "        background-color: #E2EBFA;\n",
              "        box-shadow: 0px 1px 2px rgba(60, 64, 67, 0.3), 0px 1px 3px 1px rgba(60, 64, 67, 0.15);\n",
              "        fill: #174EA6;\n",
              "      }\n",
              "\n",
              "      [theme=dark] .colab-df-generate {\n",
              "        background-color: #3B4455;\n",
              "        fill: #D2E3FC;\n",
              "      }\n",
              "\n",
              "      [theme=dark] .colab-df-generate:hover {\n",
              "        background-color: #434B5C;\n",
              "        box-shadow: 0px 1px 3px 1px rgba(0, 0, 0, 0.15);\n",
              "        filter: drop-shadow(0px 1px 2px rgba(0, 0, 0, 0.3));\n",
              "        fill: #FFFFFF;\n",
              "      }\n",
              "    </style>\n",
              "    <button class=\"colab-df-generate\" onclick=\"generateWithVariable('df')\"\n",
              "            title=\"Generate code using this dataframe.\"\n",
              "            style=\"display:none;\">\n",
              "\n",
              "  <svg xmlns=\"http://www.w3.org/2000/svg\" height=\"24px\"viewBox=\"0 0 24 24\"\n",
              "       width=\"24px\">\n",
              "    <path d=\"M7,19H8.4L18.45,9,17,7.55,7,17.6ZM5,21V16.75L18.45,3.32a2,2,0,0,1,2.83,0l1.4,1.43a1.91,1.91,0,0,1,.58,1.4,1.91,1.91,0,0,1-.58,1.4L9.25,21ZM18.45,9,17,7.55Zm-12,3A5.31,5.31,0,0,0,4.9,8.1,5.31,5.31,0,0,0,1,6.5,5.31,5.31,0,0,0,4.9,4.9,5.31,5.31,0,0,0,6.5,1,5.31,5.31,0,0,0,8.1,4.9,5.31,5.31,0,0,0,12,6.5,5.46,5.46,0,0,0,6.5,12Z\"/>\n",
              "  </svg>\n",
              "    </button>\n",
              "    <script>\n",
              "      (() => {\n",
              "      const buttonEl =\n",
              "        document.querySelector('#id_ee67377e-a63c-44b8-896d-872bf1b62a03 button.colab-df-generate');\n",
              "      buttonEl.style.display =\n",
              "        google.colab.kernel.accessAllowed ? 'block' : 'none';\n",
              "\n",
              "      buttonEl.onclick = () => {\n",
              "        google.colab.notebook.generateWithVariable('df');\n",
              "      }\n",
              "      })();\n",
              "    </script>\n",
              "  </div>\n",
              "\n",
              "    </div>\n",
              "  </div>\n"
            ],
            "application/vnd.google.colaboratory.intrinsic+json": {
              "type": "dataframe",
              "variable_name": "df",
              "summary": "{\n  \"name\": \"df\",\n  \"rows\": 4,\n  \"fields\": [\n    {\n      \"column\": \"Sentence\",\n      \"properties\": {\n        \"dtype\": \"string\",\n        \"num_unique_values\": 4,\n        \"samples\": [\n          \"The patient\\u2019s medical record number is 56467890.\",\n          \"Her contact number is 444-456-7890.\",\n          \"Dr. John Lee, from Royal Medical Clinic in Chicago, attended to the patient on 11/05/2024.\"\n        ],\n        \"semantic_type\": \"\",\n        \"description\": \"\"\n      }\n    },\n    {\n      \"column\": \"Masked\",\n      \"properties\": {\n        \"dtype\": \"string\",\n        \"num_unique_values\": 4,\n        \"samples\": [\n          \"The patient\\u2019s medical record number is <MEDICALRECORD>.\",\n          \"Her contact number is <PHONE>.\",\n          \"Dr. John Lee, from <HOSPITAL> in <CITY>, attended to the patient on <DATE>.\"\n        ],\n        \"semantic_type\": \"\",\n        \"description\": \"\"\n      }\n    },\n    {\n      \"column\": \"Obfuscated\",\n      \"properties\": {\n        \"dtype\": \"string\",\n        \"num_unique_values\": 4,\n        \"samples\": [\n          \"The patient\\u2019s medical record number is 47576981.\",\n          \"Her contact number is 222-214-3658.\",\n          \"Dr. John Lee, from Baltimore VA Medical Center in Healdton, attended to the patient on 06/06/2024.\"\n        ],\n        \"semantic_type\": \"\",\n        \"description\": \"\"\n      }\n    }\n  ]\n}"
            }
          },
          "metadata": {},
          "execution_count": 51
        }
      ]
    },
    {
      "cell_type": "markdown",
      "source": [
        "As an alternative method, you can save the modified pretrained pipeline and load it using the `from_disk` method.\n",
        "\n",
        "\n",
        "```python\n",
        "deid_pipeline.model.write().overwrite().save(\"modified_pipeline\")\n",
        "\n",
        "# We are loading the pretrained pipeline using the `from_disk` method.\n",
        "from sparknlp.pretrained import PretrainedPipeline\n",
        "\n",
        "new_pipe = PretrainedPipeline.from_disk('modified_pipeline')\n",
        "\n",
        "deid_res= new_pipe.fullAnnotate(text)\n",
        "```\n",
        "\n"
      ],
      "metadata": {
        "id": "6PgLW83Gw-id"
      }
    },
    {
      "cell_type": "markdown",
      "source": [
        "## Remove Stage (Finisher)\n",
        "\n",
        "Finally, let's review a removal stage. For example, we will remove the Finisher stage from the pipeline."
      ],
      "metadata": {
        "id": "LnnnHm41__tO"
      }
    },
    {
      "cell_type": "code",
      "source": [
        "deid_pipeline.model.stages = deid_pipeline.model.stages[:-1]"
      ],
      "metadata": {
        "id": "HxM6i_Xv__RF"
      },
      "execution_count": 52,
      "outputs": []
    },
    {
      "cell_type": "code",
      "source": [
        "deid_pipeline.model.stages"
      ],
      "metadata": {
        "colab": {
          "base_uri": "https://localhost:8080/"
        },
        "id": "X0JizYRnAuWL",
        "outputId": "2f1f36b6-3977-477e-aded-d36b752742e3"
      },
      "execution_count": 53,
      "outputs": [
        {
          "output_type": "execute_result",
          "data": {
            "text/plain": [
              "[DocumentAssembler_0293828e42e5,\n",
              " SentenceDetectorDLModel_6bafc4746ea5,\n",
              " REGEX_TOKENIZER_ede41b4357b5,\n",
              " WORD_EMBEDDINGS_MODEL_9004b1d00302,\n",
              " MedicalNerModel_e8178a1262cc,\n",
              " NER_CONVERTER_1058f6f116d4,\n",
              " MedicalNerModel_9d4a08b1c03d,\n",
              " NER_CONVERTER_dc9b41725c7e,\n",
              " MERGE_14697a4bf7ea,\n",
              " CONTEXTUAL-PARSER_29d8f2e94a43,\n",
              " CONTEXTUAL-PARSER_9b30de083926,\n",
              " CONTEXTUAL-PARSER_009dd91ad279,\n",
              " CONTEXTUAL-PARSER_70bce6260bb4,\n",
              " CONTEXTUAL-PARSER_c7c49d4cc377,\n",
              " CONTEXTUAL-PARSER_4cdb8328ac10,\n",
              " ENTITY_EXTRACTOR_00a0458116f7,\n",
              " ENTITY_EXTRACTOR_396241ad6df7,\n",
              " CONTEXTUAL-PARSER_24e76bf85739,\n",
              " REGEX_MATCHER_e4237b63b8d9,\n",
              " CONTEXTUAL-PARSER_2b9eb4befaa6,\n",
              " CONTEXTUAL-PARSER_0892cc982b30,\n",
              " CONTEXTUAL-PARSER_20cecdf31e95,\n",
              " CONTEXTUAL-PARSER_0f3936810ce2,\n",
              " CONTEXTUAL-PARSER_69dda3cbafc9,\n",
              " MERGE_359f55073107,\n",
              " MERGE_2493d1337efe,\n",
              " DE-IDENTIFICATION_030ae1ab1b7a]"
            ]
          },
          "metadata": {},
          "execution_count": 53
        }
      ]
    },
    {
      "cell_type": "code",
      "source": [
        "len(deid_pipeline.model.stages)"
      ],
      "metadata": {
        "colab": {
          "base_uri": "https://localhost:8080/"
        },
        "id": "uSXVqsP1BOH4",
        "outputId": "14b5b387-128e-4eb1-a2b3-46e9d420bf02"
      },
      "execution_count": 54,
      "outputs": [
        {
          "output_type": "execute_result",
          "data": {
            "text/plain": [
              "27"
            ]
          },
          "metadata": {},
          "execution_count": 54
        }
      ]
    },
    {
      "cell_type": "code",
      "source": [
        "deid_lp = LightPipeline(deid_pipeline.model)\n",
        "\n",
        "deid_res = deid_lp.fullAnnotate(text)\n",
        "\n",
        "deid_res[0].keys()"
      ],
      "metadata": {
        "id": "628oldqvp7Rw",
        "colab": {
          "base_uri": "https://localhost:8080/"
        },
        "outputId": "299620ce-4297-4221-a4f9-1661e4764a13"
      },
      "execution_count": 55,
      "outputs": [
        {
          "output_type": "execute_result",
          "data": {
            "text/plain": [
              "dict_keys(['entity_ssn', 'ner_enriched', 'obfuscated', 'entity_vin', 'entity_dln', 'entity_country', 'document', 'ner_chunk', 'deid_merged_parse1', 'entity_med', 'ner_chunk_large', 'entity_phone', 'entity_zip', 'entity_state', 'entity_account', 'ner_chunk_enriched', 'entity_email', 'entity_icd10cm', 'token', 'entity_date', 'ner', 'entity_age', 'embeddings', 'deid_merged_chunk', 'entity_license', 'sentence', 'entity_plate'])"
            ]
          },
          "metadata": {},
          "execution_count": 55
        }
      ]
    },
    {
      "cell_type": "markdown",
      "source": [
        "As seen in the results, previously we were only seeing the outputs of the Finisher method since we were using it. Now that we've removed the Finisher stage, we can see the outputs of all stages."
      ],
      "metadata": {
        "id": "M3OL73GP1zeU"
      }
    },
    {
      "cell_type": "markdown",
      "source": [
        "If you want to see which JSL models are used in the pretrained pipeline stages, you can check in the `/root/cache_pretrained` folder."
      ],
      "metadata": {
        "id": "R4tERj772VOq"
      }
    }
  ],
  "metadata": {
    "colab": {
      "machine_shape": "hm",
      "provenance": [],
      "toc_visible": true
    },
    "kernelspec": {
      "display_name": "Python 3",
      "name": "python3"
    },
    "language_info": {
      "codemirror_mode": {
        "name": "ipython",
        "version": 3
      },
      "file_extension": ".py",
      "mimetype": "text/x-python",
      "name": "python",
      "nbconvert_exporter": "python",
      "pygments_lexer": "ipython3",
      "version": "3.9.7"
    },
    "vscode": {
      "interpreter": {
        "hash": "3f47d918ae832c68584484921185f5c85a1760864bf927a683dc6fb56366cc77"
      }
    }
  },
  "nbformat": 4,
  "nbformat_minor": 0
}
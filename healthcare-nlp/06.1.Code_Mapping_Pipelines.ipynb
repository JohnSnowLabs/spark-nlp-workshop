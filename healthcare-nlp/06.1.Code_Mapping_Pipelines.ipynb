{
 "cells": [
  {
   "cell_type": "markdown",
   "metadata": {
    "id": "glAlwoLd9II2"
   },
   "source": [
    "![JohnSnowLabs](https://nlp.johnsnowlabs.com/assets/images/logo.png)\n",
    "\n",
    "[![Open In Colab](https://colab.research.google.com/assets/colab-badge.svg)](https://colab.research.google.com/github/JohnSnowLabs/spark-nlp-workshop/blob/master/healthcare-nlp/06.1.Code_Mapping_Pipelines.ipynb)"
   ]
  },
  {
   "cell_type": "code",
   "execution_count": null,
   "metadata": {
    "id": "ELqzaf32MT6E"
   },
   "outputs": [],
   "source": [
    "# Install the johnsnowlabs library to access Spark-OCR and Spark-NLP for Healthcare, Finance, and Legal.\n",
    "! pip install -q johnsnowlabs==5.3.4"
   ]
  },
  {
   "cell_type": "code",
   "execution_count": null,
   "metadata": {
    "id": "RO2dIA414yL_"
   },
   "outputs": [],
   "source": [
    "from google.colab import files\n",
    "print('Please Upload your John Snow Labs License using the button below')\n",
    "license_keys = files.upload()"
   ]
  },
  {
   "cell_type": "code",
   "execution_count": null,
   "metadata": {
    "id": "dmcB5zVBHZO8"
   },
   "outputs": [],
   "source": [
    "from johnsnowlabs import nlp, medical, visual\n",
    "\n",
    "# After uploading your license run this to install all licensed Python Wheels and pre-download Jars the Spark Session JVM\n",
    "nlp.settings.enforce_versions=True\n",
    "nlp.install(refresh_install=True)"
   ]
  },
  {
   "cell_type": "code",
   "execution_count": null,
   "metadata": {
    "id": "lQ8-BI-_5QjG"
   },
   "outputs": [],
   "source": [
    "from johnsnowlabs import nlp, medical, visual\n",
    "\n",
    "# Automatically load license data and start a session with all jars user has access to\n",
    "spark = nlp.start()"
   ]
  },
  {
   "cell_type": "code",
   "execution_count": null,
   "metadata": {
    "colab": {
     "base_uri": "https://localhost:8080/",
     "height": 237
    },
    "executionInfo": {
     "elapsed": 809,
     "status": "ok",
     "timestamp": 1712936434687,
     "user": {
      "displayName": "Monster C",
      "userId": "08787989274818793476"
     },
     "user_tz": -180
    },
    "id": "nL7t_rWJuH-Q",
    "outputId": "b0c162a9-945b-4a53-8c1b-9b306b49bcb2"
   },
   "outputs": [
    {
     "data": {
      "text/html": [
       "\n",
       "            <div>\n",
       "                <p><b>SparkSession - in-memory</b></p>\n",
       "                \n",
       "        <div>\n",
       "            <p><b>SparkContext</b></p>\n",
       "\n",
       "            <p><a href=\"http://459c7bd28d2c:4040\">Spark UI</a></p>\n",
       "\n",
       "            <dl>\n",
       "              <dt>Version</dt>\n",
       "                <dd><code>v3.4.0</code></dd>\n",
       "              <dt>Master</dt>\n",
       "                <dd><code>local[*]</code></dd>\n",
       "              <dt>AppName</dt>\n",
       "                <dd><code>John-Snow-Labs-Spark-Session 🚀 with Jars for: 🚀Spark-NLP==5.3.1, 💊Spark-Healthcare==5.3.1, running on ⚡ PySpark==3.4.0</code></dd>\n",
       "            </dl>\n",
       "        </div>\n",
       "        \n",
       "            </div>\n",
       "        "
      ],
      "text/plain": [
       "<pyspark.sql.session.SparkSession at 0x7a196661eb30>"
      ]
     },
     "execution_count": 5,
     "metadata": {},
     "output_type": "execute_result"
    }
   ],
   "source": [
    "spark"
   ]
  },
  {
   "cell_type": "markdown",
   "metadata": {},
   "source": [
    "## Healthcare NLP for Data Scientists Course\n",
    "\n",
    "If you are not familiar with the components in this notebook, you can check [Healthcare NLP for Data Scientists Udemy Course](https://www.udemy.com/course/healthcare-nlp-for-data-scientists/) and the [MOOC Notebooks](https://github.com/JohnSnowLabs/spark-nlp-workshop/tree/master/Spark_NLP_Udemy_MOOC/Healthcare_NLP) for each components."
   ]
  },
  {
   "cell_type": "markdown",
   "metadata": {
    "id": "Fl-qaRiCFB5p"
   },
   "source": [
    "# HEALTHCARE CODES MAPPING BY USING PRETRAINED PIPELINES\n"
   ]
  },
  {
   "cell_type": "markdown",
   "metadata": {
    "id": "BNNH9X1OxzEF"
   },
   "source": [
    "- **Chunk Mapper Pretrained Pipelines**"
   ]
  },
  {
   "cell_type": "markdown",
   "metadata": {
    "id": "ZvPudM7ix0Ex"
   },
   "source": [
    "|index|model|\n",
    "|-----:|:-----|\n",
    "| 1| [hpo_mapper_pipeline](https://nlp.johnsnowlabs.com/2025/05/08/hpo_mapper_pipeline_en.html) |\n",
    "| 2| [hpo_mapper_pipeline_v2](https://nlp.johnsnowlabs.com/2025/06/26/hpo_mapper_pipeline_v2_en.html)|\n",
    "| 3| [hpo_mapper_pipeline_v3](https://nlp.johnsnowlabs.com/2025/08/07/hpo_mapper_pipeline_v3_en.html)|\n",
    "| 4| [icd10_icd9_mapping](https://nlp.johnsnowlabs.com/2022/09/30/icd10_icd9_mapping_en.html)   |\n",
    "| 5| [icd10cm_multi_mapper_pipeline](https://nlp.johnsnowlabs.com/2023/08/16/icd10cm_multi_mapper_pipeline_en.html) |\n",
    "| 6| [icd10cm_resolver_pipeline](https://nlp.johnsnowlabs.com/2024/08/22/icd10cm_resolver_pipeline_en.html) |\n",
    "| 7| [icd10cm_snomed_mapping](https://nlp.johnsnowlabs.com/2022/06/27/icd10cm_snomed_mapping_en_3_0.html)   |\n",
    "| 8| [icd10cm_umls_mapping](https://nlp.johnsnowlabs.com/2022/06/27/icd10cm_umls_mapping_en_3_0.html)   |\n",
    "| 9| [icdo_snomed_mapping](https://nlp.johnsnowlabs.com/2022/06/27/icdo_snomed_mapping_en_3_0.html)   |\n",
    "| 10| [mesh_umls_mapping](https://nlp.johnsnowlabs.com/2021/07/01/mesh_umls_mapping_en.html)   |\n",
    "| 11| [rxnorm_ndc_mapping](https://nlp.johnsnowlabs.com/2023/06/17/rxnorm_ndc_mapping_en.html) |\n",
    "| 12| [rxnorm_umls_mapping](https://nlp.johnsnowlabs.com/2023/06/17/rxnorm_umls_mapping_en.html) |\n",
    "| 13| [rxnorm_mesh_mapping](https://nlp.johnsnowlabs.com/2021/07/01/rxnorm_mesh_mapping_en.html)   |\n",
    "| 14| [snomed_icd10cm_mapping](https://nlp.johnsnowlabs.com/2023/06/17/snomed_icd10cm_mapping_en.html) |\n",
    "| 15| [snomed_icdo_mapping](https://nlp.johnsnowlabs.com/2022/06/27/snomed_icdo_mapping_en_3_0.html)   |\n",
    "| 16| [snomed_multi_mapper_pipeline](https://nlp.johnsnowlabs.com/2024/12/23/snomed_multi_mapper_pipeline_en.html) |\n",
    "| 17| [snomed_umls_mapping](https://nlp.johnsnowlabs.com/2023/06/17/snomed_umls_mapping_en.html) |\n",
    "\n",
    "\n",
    "**You can find all these models and more [NLP Models Hub](https://nlp.johnsnowlabs.com/models?edition=Spark+NLP+for+Healthcare&type=pipeline&task=Chunk+Mapping)**"
   ]
  },
  {
   "cell_type": "markdown",
   "metadata": {
    "id": "0qnaH9P0O9M8"
   },
   "source": [
    "## ICD10 to ICD9 Code Mapping\n",
    "This pretrained pipeline maps ICD10 codes to ICD9 codes without using any text data. You’ll just feed a comma or white space delimited ICD10 codes and it will return the corresponding ICD9 codes as a list. If there is no mapping, the original code is returned with no mapping."
   ]
  },
  {
   "cell_type": "code",
   "execution_count": null,
   "metadata": {
    "colab": {
     "base_uri": "https://localhost:8080/"
    },
    "executionInfo": {
     "elapsed": 16515,
     "status": "ok",
     "timestamp": 1712936451193,
     "user": {
      "displayName": "Monster C",
      "userId": "08787989274818793476"
     },
     "user_tz": -180
    },
    "id": "n8df9LSlPHsR",
    "outputId": "cdfbaf97-7274-4eeb-8158-d1a3fa5e14bc"
   },
   "outputs": [
    {
     "name": "stdout",
     "output_type": "stream",
     "text": [
      "icd10_icd9_mapping download started this may take some time.\n",
      "Approx size to download 579.7 KB\n",
      "[OK!]\n"
     ]
    }
   ],
   "source": [
    "icd10_icd9_pipeline = nlp.PretrainedPipeline(\"icd10_icd9_mapping\", \"en\", \"clinical/models\")"
   ]
  },
  {
   "cell_type": "code",
   "execution_count": null,
   "metadata": {
    "colab": {
     "base_uri": "https://localhost:8080/"
    },
    "executionInfo": {
     "elapsed": 7,
     "status": "ok",
     "timestamp": 1712936451193,
     "user": {
      "displayName": "Monster C",
      "userId": "08787989274818793476"
     },
     "user_tz": -180
    },
    "id": "7e_ZsK9NPHpq",
    "outputId": "9fe15085-ab86-4f05-9ccf-25428a70ec46"
   },
   "outputs": [
    {
     "data": {
      "text/plain": [
       "[DocumentAssembler_78a9faf419f2,\n",
       " REGEX_TOKENIZER_cb2df0b8d959,\n",
       " CHUNKER-MAPPER_3ac48fe0df3d]"
      ]
     },
     "execution_count": 7,
     "metadata": {},
     "output_type": "execute_result"
    }
   ],
   "source": [
    "icd10_icd9_pipeline.model.stages"
   ]
  },
  {
   "cell_type": "code",
   "execution_count": null,
   "metadata": {
    "colab": {
     "base_uri": "https://localhost:8080/"
    },
    "executionInfo": {
     "elapsed": 5,
     "status": "ok",
     "timestamp": 1712936451193,
     "user": {
      "displayName": "Monster C",
      "userId": "08787989274818793476"
     },
     "user_tz": -180
    },
    "id": "iyBujBonPtoI",
    "outputId": "e106d17f-5c22-4b11-ca2e-52c6cbfb1fec"
   },
   "outputs": [
    {
     "data": {
      "text/plain": [
       "{'document': ['E669 R630 J988'],\n",
       " 'icd10cm_code': ['E669', 'R630', 'J988'],\n",
       " 'icd9_code': ['27800', '7830', '5198']}"
      ]
     },
     "execution_count": 8,
     "metadata": {},
     "output_type": "execute_result"
    }
   ],
   "source": [
    "icd10_icd9_pipeline.annotate('E669 R630 J988')"
   ]
  },
  {
   "cell_type": "markdown",
   "metadata": {
    "id": "sOTc_bMzPouX"
   },
   "source": [
    "| ICD10 | Details |\n",
    "| ---------- | ----------------------------:|\n",
    "| E669 | Obesity |\n",
    "| R630 | Anorexia |\n",
    "| J988 | Other specified respiratory disorders |\n",
    "\n",
    "\n",
    "\n",
    "| ICD9 | Details |\n",
    "| ---------- | ---------------------------:|\n",
    "| 27800 | Obesity |\n",
    "| 7830 | Anorexia |\n",
    "| 5198 | Other diseases of respiratory system |"
   ]
  },
  {
   "cell_type": "markdown",
   "metadata": {
    "id": "DT_zgN35kCy2"
   },
   "source": [
    "## ICD10CM to SNOMED Code Mapping\n",
    "\n",
    "This pretrained pipeline maps ICD10CM codes to SNOMED codes without using any text data. You’ll just feed a comma or white space delimited ICD10CM codes and it will return the corresponding SNOMED codes as a list. For the time being, it supports 132K Snomed codes and will be augmented & enriched in the next releases."
   ]
  },
  {
   "cell_type": "code",
   "execution_count": null,
   "metadata": {
    "colab": {
     "base_uri": "https://localhost:8080/"
    },
    "executionInfo": {
     "elapsed": 7012,
     "status": "ok",
     "timestamp": 1712936458202,
     "user": {
      "displayName": "Monster C",
      "userId": "08787989274818793476"
     },
     "user_tz": -180
    },
    "id": "AU090GkuF5G_",
    "outputId": "6ef77a21-46c5-4943-cddc-e1b1970818d6"
   },
   "outputs": [
    {
     "name": "stdout",
     "output_type": "stream",
     "text": [
      "icd10cm_snomed_mapping download started this may take some time.\n",
      "Approx size to download 1 MB\n",
      "[OK!]\n"
     ]
    }
   ],
   "source": [
    "icd10_snomed_pipeline = nlp.PretrainedPipeline(\"icd10cm_snomed_mapping\", \"en\", \"clinical/models\")"
   ]
  },
  {
   "cell_type": "code",
   "execution_count": null,
   "metadata": {
    "colab": {
     "base_uri": "https://localhost:8080/"
    },
    "executionInfo": {
     "elapsed": 13,
     "status": "ok",
     "timestamp": 1712936458202,
     "user": {
      "displayName": "Monster C",
      "userId": "08787989274818793476"
     },
     "user_tz": -180
    },
    "id": "N5ei7EUX1D79",
    "outputId": "a96cede4-ff64-4348-b585-3ec98748eeab"
   },
   "outputs": [
    {
     "data": {
      "text/plain": [
       "[DocumentAssembler_9ae20ea07807,\n",
       " REGEX_TOKENIZER_8176a6b6e586,\n",
       " CHUNKER-MAPPER_5968de7123c1]"
      ]
     },
     "execution_count": 10,
     "metadata": {},
     "output_type": "execute_result"
    }
   ],
   "source": [
    "icd10_snomed_pipeline.model.stages"
   ]
  },
  {
   "cell_type": "code",
   "execution_count": null,
   "metadata": {
    "colab": {
     "base_uri": "https://localhost:8080/"
    },
    "executionInfo": {
     "elapsed": 12,
     "status": "ok",
     "timestamp": 1712936458203,
     "user": {
      "displayName": "Monster C",
      "userId": "08787989274818793476"
     },
     "user_tz": -180
    },
    "id": "tgF3D4Eu1GvT",
    "outputId": "86d9c317-4dc2-4378-c826-74e77ea49197"
   },
   "outputs": [
    {
     "data": {
      "text/plain": [
       "{'document': ['M8950 E119 H16269'],\n",
       " 'icd10cm_code': ['M8950', 'E119', 'H16269'],\n",
       " 'snomed_code': ['716868003', '170771004', '51264003']}"
      ]
     },
     "execution_count": 11,
     "metadata": {},
     "output_type": "execute_result"
    }
   ],
   "source": [
    "icd10_snomed_pipeline.annotate('M8950 E119 H16269')"
   ]
  },
  {
   "cell_type": "markdown",
   "metadata": {
    "id": "WJ96Cz0g1JBq"
   },
   "source": [
    "|**ICD10CM Code** | **ICD10CM Details** | **SNOMED Code** | **SNOMED Details** |\n",
    "| ---------- | -----------:| ---------- | -----------:|\n",
    "| M8950 |  Osteolysis, unspecified site | 716868003 | Multicentric osteolysis nodulosis arthropathy spectrum |\n",
    "| E119 | Type 2 diabetes mellitus | 170771004 | Diabetic - follow-up default |\n",
    "| H16269 | Vernal keratoconjunctivitis, with limbar and corneal involvement, unspecified eye | 51264003 | Limbal AND/OR corneal involvement in vernal conjunctivitis |\n"
   ]
  },
  {
   "cell_type": "markdown",
   "metadata": {
    "id": "pexEzXUR1QVA"
   },
   "source": [
    "## SNOMED to ICD10CM Code Mapping\n",
    "\n",
    "This pretrained pipeline maps SNOMED codes to ICD10CM codes without using any text data. You'll just feed a comma or white space delimited SNOMED codes and it will return the corresponding candidate ICD10CM codes as a list (multiple ICD10 codes for each Snomed code). For the time being, it supports 132K Snomed codes and 30K ICD10 codes and will be augmented & enriched in the next releases."
   ]
  },
  {
   "cell_type": "code",
   "execution_count": null,
   "metadata": {
    "colab": {
     "base_uri": "https://localhost:8080/"
    },
    "executionInfo": {
     "elapsed": 8519,
     "status": "ok",
     "timestamp": 1712936466711,
     "user": {
      "displayName": "Monster C",
      "userId": "08787989274818793476"
     },
     "user_tz": -180
    },
    "id": "PzmLZkEIf_io",
    "outputId": "a20cc53f-511d-4f97-fa57-1aa55558d74b"
   },
   "outputs": [
    {
     "name": "stdout",
     "output_type": "stream",
     "text": [
      "snomed_icd10cm_mapping download started this may take some time.\n",
      "Approx size to download 1.5 MB\n",
      "[OK!]\n"
     ]
    }
   ],
   "source": [
    "snomed_icd10_pipeline = nlp.PretrainedPipeline(\"snomed_icd10cm_mapping\",\"en\",\"clinical/models\")"
   ]
  },
  {
   "cell_type": "code",
   "execution_count": null,
   "metadata": {
    "colab": {
     "base_uri": "https://localhost:8080/"
    },
    "executionInfo": {
     "elapsed": 14,
     "status": "ok",
     "timestamp": 1712936466711,
     "user": {
      "displayName": "Monster C",
      "userId": "08787989274818793476"
     },
     "user_tz": -180
    },
    "id": "3NwM9_KegkN4",
    "outputId": "5c1399f7-970a-474d-e15a-9957a0a41ab2"
   },
   "outputs": [
    {
     "data": {
      "text/plain": [
       "[DocumentAssembler_4d05b9c5d71e,\n",
       " REGEX_TOKENIZER_d8ccf33e2cd4,\n",
       " CHUNKER-MAPPER_fa42286a8f92]"
      ]
     },
     "execution_count": 13,
     "metadata": {},
     "output_type": "execute_result"
    }
   ],
   "source": [
    "snomed_icd10_pipeline.model.stages"
   ]
  },
  {
   "cell_type": "code",
   "execution_count": null,
   "metadata": {
    "colab": {
     "base_uri": "https://localhost:8080/"
    },
    "executionInfo": {
     "elapsed": 13,
     "status": "ok",
     "timestamp": 1712936466712,
     "user": {
      "displayName": "Monster C",
      "userId": "08787989274818793476"
     },
     "user_tz": -180
    },
    "id": "8eIIYB56kCVI",
    "outputId": "b602f26f-b29a-40b3-99bb-4d2f2659da3b"
   },
   "outputs": [
    {
     "data": {
      "text/plain": [
       "{'document': ['716868003 170771004 51264003'],\n",
       " 'snomed_code': ['716868003', '170771004', '51264003'],\n",
       " 'icd10cm_code': ['M89.50', 'E11.9', 'H16.269']}"
      ]
     },
     "execution_count": 14,
     "metadata": {},
     "output_type": "execute_result"
    }
   ],
   "source": [
    "snomed_icd10_pipeline.annotate('716868003 170771004 51264003')"
   ]
  },
  {
   "cell_type": "markdown",
   "metadata": {
    "id": "NRCHks681oDa"
   },
   "source": [
    "| **SNOMED Code** | **SNOMED Details** |**ICD10CM Code** | **ICD10CM Details** |\n",
    "| ---------- | -----------:| ---------- | -----------:|\n",
    "| 716868003 | Multicentric osteolysis nodulosis arthropathy spectrum | M89.50 |  Osteolysis, unspecified site |\n",
    "| 170771004 | Diabetic - follow-up default | E11.9 | Type 2 diabetes mellitus |\n",
    "| 51264003 | Limbal AND/OR corneal involvement in vernal conjunctivitis | H16.269 | Vernal keratoconjunctivitis, with limbar and corneal involvement, unspecified eye |\n",
    "\n"
   ]
  },
  {
   "cell_type": "markdown",
   "metadata": {
    "id": "-U3K0lEjfkqE"
   },
   "source": [
    "## ICD-O to SNOMED Code Mapping\n",
    "\n",
    "This pretrained pipeline maps ICD-O codes to SNOMED codes without using any text data. You’ll just feed a comma or white space delimited ICD-O codes and it will return the corresponding SNOMED codes as a list."
   ]
  },
  {
   "cell_type": "code",
   "execution_count": null,
   "metadata": {
    "colab": {
     "base_uri": "https://localhost:8080/"
    },
    "executionInfo": {
     "elapsed": 7434,
     "status": "ok",
     "timestamp": 1712936474134,
     "user": {
      "displayName": "Monster C",
      "userId": "08787989274818793476"
     },
     "user_tz": -180
    },
    "id": "V-M8vEO_fkqT",
    "outputId": "3b630b89-ccd4-4544-9fbc-7b69eb56643e"
   },
   "outputs": [
    {
     "name": "stdout",
     "output_type": "stream",
     "text": [
      "icdo_snomed_mapping download started this may take some time.\n",
      "Approx size to download 134.1 KB\n",
      "[OK!]\n"
     ]
    }
   ],
   "source": [
    "icdo_snomed_pipeline = nlp.PretrainedPipeline(\"icdo_snomed_mapping\", \"en\", \"clinical/models\")"
   ]
  },
  {
   "cell_type": "code",
   "execution_count": null,
   "metadata": {
    "colab": {
     "base_uri": "https://localhost:8080/"
    },
    "executionInfo": {
     "elapsed": 5,
     "status": "ok",
     "timestamp": 1712936474134,
     "user": {
      "displayName": "Monster C",
      "userId": "08787989274818793476"
     },
     "user_tz": -180
    },
    "id": "YpscYr9dfkqU",
    "outputId": "bd84d3f2-b365-47c0-9abc-e8b785e99d20"
   },
   "outputs": [
    {
     "data": {
      "text/plain": [
       "[DocumentAssembler_666bb5cbda3a,\n",
       " REGEX_TOKENIZER_9a9b8335227b,\n",
       " CHUNKER-MAPPER_e9822ba7753b]"
      ]
     },
     "execution_count": 16,
     "metadata": {},
     "output_type": "execute_result"
    }
   ],
   "source": [
    "icdo_snomed_pipeline.model.stages"
   ]
  },
  {
   "cell_type": "code",
   "execution_count": null,
   "metadata": {
    "colab": {
     "base_uri": "https://localhost:8080/"
    },
    "executionInfo": {
     "elapsed": 3,
     "status": "ok",
     "timestamp": 1712936474134,
     "user": {
      "displayName": "Monster C",
      "userId": "08787989274818793476"
     },
     "user_tz": -180
    },
    "id": "GnSzbUcjfkqV",
    "outputId": "3cdeb26b-7fd3-4009-a059-b0bb59b62390"
   },
   "outputs": [
    {
     "data": {
      "text/plain": [
       "{'document': ['8172/3 C77.5 8982/0'],\n",
       " 'icdo_code': ['8172/3', 'C77.5', '8982/0'],\n",
       " 'snomed_code': ['128646008', '5394000', '69291002']}"
      ]
     },
     "execution_count": 17,
     "metadata": {},
     "output_type": "execute_result"
    }
   ],
   "source": [
    "icdo_snomed_pipeline.annotate('8172/3 C77.5 8982/0')"
   ]
  },
  {
   "cell_type": "markdown",
   "metadata": {
    "id": "sWK-6W8MfkqV"
   },
   "source": [
    "|**ICDO Code** | **ICDOCM Details** | **SNOMED Code** | **SNOMED Details** |\n",
    "| ---------- | -----------:| ---------- | -----------:|\n",
    "| 8172/3 |  Hepatocellular carcinoma, scirrhous | 128646008 | Hepatocellular carcinoma, scirrhous |\n",
    "| C77.5 | Pelvic lymph nodes | 5394000 | Structure of uterine paracervical lymph node |\n",
    "| 8982/0 | Myoepithelioma, NOS | 69291002 | Myoepithelial adenoma |\n"
   ]
  },
  {
   "cell_type": "markdown",
   "metadata": {
    "id": "x9cnKUdzkGkI"
   },
   "source": [
    "## SNOMED to ICD-O Code Mapping\n",
    "\n",
    "This pretrained pipeline maps SNOMED codes to ICD-O codes without using any text data. You’ll just feed a comma or white space delimited SNOMED codes and it will return the corresponding ICD-O codes as a list."
   ]
  },
  {
   "cell_type": "code",
   "execution_count": null,
   "metadata": {
    "colab": {
     "base_uri": "https://localhost:8080/"
    },
    "executionInfo": {
     "elapsed": 7005,
     "status": "ok",
     "timestamp": 1712936481137,
     "user": {
      "displayName": "Monster C",
      "userId": "08787989274818793476"
     },
     "user_tz": -180
    },
    "id": "b5mKHJZpkGkd",
    "outputId": "8aee5efd-bddd-4d8f-95bc-c30dda04c806"
   },
   "outputs": [
    {
     "name": "stdout",
     "output_type": "stream",
     "text": [
      "snomed_icdo_mapping download started this may take some time.\n",
      "Approx size to download 207.8 KB\n",
      "[OK!]\n"
     ]
    }
   ],
   "source": [
    "snomed_icdo_pipeline = nlp.PretrainedPipeline(\"snomed_icdo_mapping\", \"en\", \"clinical/models\")"
   ]
  },
  {
   "cell_type": "code",
   "execution_count": null,
   "metadata": {
    "colab": {
     "base_uri": "https://localhost:8080/"
    },
    "executionInfo": {
     "elapsed": 6,
     "status": "ok",
     "timestamp": 1712936481137,
     "user": {
      "displayName": "Monster C",
      "userId": "08787989274818793476"
     },
     "user_tz": -180
    },
    "id": "_FVvZ8QJkGke",
    "outputId": "f12e4408-1c63-4ebe-bd32-bbdf36c3d231"
   },
   "outputs": [
    {
     "data": {
      "text/plain": [
       "[DocumentAssembler_82ca3d0764d1,\n",
       " REGEX_TOKENIZER_42013a5c2e7a,\n",
       " CHUNKER-MAPPER_2e80f745c696]"
      ]
     },
     "execution_count": 19,
     "metadata": {},
     "output_type": "execute_result"
    }
   ],
   "source": [
    "snomed_icdo_pipeline.model.stages"
   ]
  },
  {
   "cell_type": "code",
   "execution_count": null,
   "metadata": {
    "colab": {
     "base_uri": "https://localhost:8080/"
    },
    "executionInfo": {
     "elapsed": 4,
     "status": "ok",
     "timestamp": 1712936481137,
     "user": {
      "displayName": "Monster C",
      "userId": "08787989274818793476"
     },
     "user_tz": -180
    },
    "id": "Y0JGaBsNkGke",
    "outputId": "e589cc5a-d25f-4901-ce2a-4c0a4c95a62c"
   },
   "outputs": [
    {
     "data": {
      "text/plain": [
       "{'document': ['128646008 5394000 69291002'],\n",
       " 'snomed_code': ['128646008', '5394000', '69291002'],\n",
       " 'icdo_code': ['8172/3', 'C77.5', '8982/0']}"
      ]
     },
     "execution_count": 20,
     "metadata": {},
     "output_type": "execute_result"
    }
   ],
   "source": [
    "snomed_icdo_pipeline.annotate('128646008 5394000 69291002')"
   ]
  },
  {
   "cell_type": "markdown",
   "metadata": {
    "id": "-kyyz4IjkGkf"
   },
   "source": [
    "|**SNOMED Code** | **SNOMED Details** |**ICDO Code** | **ICDOCM Details** |\n",
    "| ---------- | -----------:| ---------- | -----------:|\n",
    "|128646008 | Hepatocellular carcinoma, scirrhous | 8172/3 |  Hepatocellular carcinoma, scirrhous |\n",
    "|5394000 | Structure of uterine paracervical lymph node | C77.5 | Pelvic lymph nodes |\n",
    "|69291002 | Myoepithelial adenoma | 8982/0 | Myoepithelioma, NOS |\n",
    "\n",
    "\n",
    "\n"
   ]
  },
  {
   "cell_type": "markdown",
   "metadata": {
    "id": "v7ObC0PY2Lyl"
   },
   "source": [
    "## ICD10CM to UMLS Code Mapping\n",
    "\n",
    "This pretrained pipeline maps ICD10CM codes to UMLS codes without using any text data. You’ll just feed white space delimited ICD10CM codes and it will return the corresponding UMLS codes as a list. If there is no mapping, the original code is returned with no mapping."
   ]
  },
  {
   "cell_type": "code",
   "execution_count": null,
   "metadata": {
    "colab": {
     "base_uri": "https://localhost:8080/"
    },
    "executionInfo": {
     "elapsed": 8583,
     "status": "ok",
     "timestamp": 1712936489717,
     "user": {
      "displayName": "Monster C",
      "userId": "08787989274818793476"
     },
     "user_tz": -180
    },
    "id": "59P47ew52dJb",
    "outputId": "40be66b0-da30-49b2-cc9d-b8fde40cd180"
   },
   "outputs": [
    {
     "name": "stdout",
     "output_type": "stream",
     "text": [
      "icd10cm_umls_mapping download started this may take some time.\n",
      "Approx size to download 934.1 KB\n",
      "[OK!]\n"
     ]
    }
   ],
   "source": [
    "icd10_umls_pipeline = nlp.PretrainedPipeline( \"icd10cm_umls_mapping\",\"en\",\"clinical/models\")"
   ]
  },
  {
   "cell_type": "code",
   "execution_count": null,
   "metadata": {
    "colab": {
     "base_uri": "https://localhost:8080/"
    },
    "executionInfo": {
     "elapsed": 14,
     "status": "ok",
     "timestamp": 1712936489717,
     "user": {
      "displayName": "Monster C",
      "userId": "08787989274818793476"
     },
     "user_tz": -180
    },
    "id": "lsTRf6L84lS9",
    "outputId": "6e150ee1-7de6-4306-9a15-e29ac45a7e6c"
   },
   "outputs": [
    {
     "data": {
      "text/plain": [
       "[DocumentAssembler_25b094820972,\n",
       " REGEX_TOKENIZER_49a40e5cb790,\n",
       " CHUNKER-MAPPER_fc0d256341f7]"
      ]
     },
     "execution_count": 22,
     "metadata": {},
     "output_type": "execute_result"
    }
   ],
   "source": [
    "icd10_umls_pipeline.model.stages"
   ]
  },
  {
   "cell_type": "code",
   "execution_count": null,
   "metadata": {
    "colab": {
     "base_uri": "https://localhost:8080/"
    },
    "executionInfo": {
     "elapsed": 12,
     "status": "ok",
     "timestamp": 1712936489717,
     "user": {
      "displayName": "Monster C",
      "userId": "08787989274818793476"
     },
     "user_tz": -180
    },
    "id": "7zewPsIh159o",
    "outputId": "fb509e8f-2907-4519-91a7-16e0b7ee8400"
   },
   "outputs": [
    {
     "data": {
      "text/plain": [
       "{'document': ['M8950 R822 R0901'],\n",
       " 'icd10cm_code': ['M8950', 'R822', 'R0901'],\n",
       " 'umls_code': ['C4721411', 'C0159076', 'C0004044']}"
      ]
     },
     "execution_count": 23,
     "metadata": {},
     "output_type": "execute_result"
    }
   ],
   "source": [
    "icd10_umls_pipeline.annotate(\"M8950 R822 R0901\")"
   ]
  },
  {
   "cell_type": "markdown",
   "metadata": {
    "id": "1vWoupDw_4sV"
   },
   "source": [
    "|**ICD10CM Code** | **ICD10CM Details** | **UMLS Code** | **UMLS Details** |\n",
    "| ---------- | -----------:| ---------- | -----------:|\n",
    "| M8950 |  Osteolysis, unspecified site | C4721411 | osteolysis |\n",
    "| R822 | Biliuria | C0159076 | Biliuria |\n",
    "| R0901 | Asphyxia | C0004044 | Asphyxia |\n",
    "\n"
   ]
  },
  {
   "cell_type": "markdown",
   "metadata": {
    "id": "peoHROwU3s4h"
   },
   "source": [
    "## SNOMED to UMLS Code Mapping\n",
    "\n",
    "This pretrained pipeline maps SNOMED codes to UMLS codes without using any text data. You’ll just feed white space delimited SNOMED codes and it will return the corresponding UMLS codes as a list. If there is no mapping, the original code is returned with no mapping."
   ]
  },
  {
   "cell_type": "code",
   "execution_count": null,
   "metadata": {
    "colab": {
     "base_uri": "https://localhost:8080/"
    },
    "executionInfo": {
     "elapsed": 22146,
     "status": "ok",
     "timestamp": 1712936511852,
     "user": {
      "displayName": "Monster C",
      "userId": "08787989274818793476"
     },
     "user_tz": -180
    },
    "id": "52QHba1LhNKT",
    "outputId": "619172ef-6855-4111-8c7a-e6ce1289bcf7"
   },
   "outputs": [
    {
     "name": "stdout",
     "output_type": "stream",
     "text": [
      "snomed_umls_mapping download started this may take some time.\n",
      "Approx size to download 4.9 MB\n",
      "[OK!]\n"
     ]
    }
   ],
   "source": [
    "snomed_umls_pipeline = nlp.PretrainedPipeline(\"snomed_umls_mapping\",\"en\",\"clinical/models\")"
   ]
  },
  {
   "cell_type": "code",
   "execution_count": null,
   "metadata": {
    "colab": {
     "base_uri": "https://localhost:8080/"
    },
    "executionInfo": {
     "elapsed": 6,
     "status": "ok",
     "timestamp": 1712936511852,
     "user": {
      "displayName": "Monster C",
      "userId": "08787989274818793476"
     },
     "user_tz": -180
    },
    "id": "B0mO9gfE4qG4",
    "outputId": "048493fd-356f-4dee-a0e0-5d2c913e2172"
   },
   "outputs": [
    {
     "data": {
      "text/plain": [
       "[DocumentAssembler_9e30bb9a34d6,\n",
       " REGEX_TOKENIZER_59c5ae0eef37,\n",
       " CHUNKER-MAPPER_6ecd1e714646]"
      ]
     },
     "execution_count": 25,
     "metadata": {},
     "output_type": "execute_result"
    }
   ],
   "source": [
    "snomed_umls_pipeline.model.stages"
   ]
  },
  {
   "cell_type": "code",
   "execution_count": null,
   "metadata": {
    "colab": {
     "base_uri": "https://localhost:8080/"
    },
    "executionInfo": {
     "elapsed": 4,
     "status": "ok",
     "timestamp": 1712936511852,
     "user": {
      "displayName": "Monster C",
      "userId": "08787989274818793476"
     },
     "user_tz": -180
    },
    "id": "_ZSNj4-6hUb9",
    "outputId": "3ceadc07-506c-44cb-94a3-9a2a070c4104"
   },
   "outputs": [
    {
     "data": {
      "text/plain": [
       "{'document': ['733187009 449433008 51264003'],\n",
       " 'snomed_code': ['733187009', '449433008', '51264003'],\n",
       " 'umls_code': ['C4546029', 'C3164619', 'C0271267']}"
      ]
     },
     "execution_count": 26,
     "metadata": {},
     "output_type": "execute_result"
    }
   ],
   "source": [
    "snomed_umls_pipeline.annotate('733187009 449433008 51264003')"
   ]
  },
  {
   "cell_type": "markdown",
   "metadata": {
    "id": "e5qYdIEv4JPL"
   },
   "source": [
    "|**SNOMED Code** | **SNOMED Details** | **UMLS Code** | **UMLS Details** |\n",
    "| ---------- | -----------:| ---------- | -----------:|\n",
    "| 733187009 | osteolysis following surgical procedure on skeletal system | C4546029 | osteolysis following surgical procedure on skeletal system |\n",
    "| 449433008 | Diffuse stenosis of left pulmonary artery | C3164619 | diffuse stenosis of left pulmonary artery |\n",
    "| 51264003 | Limbal AND/OR corneal involvement in vernal conjunctivitis | C0271267 | limbal and/or corneal involvement in vernal conjunctivitis |\n",
    "\n",
    "\n"
   ]
  },
  {
   "cell_type": "markdown",
   "metadata": {
    "id": "7HN0u38B4OkU"
   },
   "source": [
    "## RXNORM to UMLS Code Mapping\n",
    "\n",
    "This pretrained pipeline maps RxNorm codes to UMLS codes without using any text data. You’ll just feed white space-delimited RxNorm codes and it will return the corresponding UMLS codes as a list. If there is no mapping, the original code is returned with no mapping."
   ]
  },
  {
   "cell_type": "code",
   "execution_count": null,
   "metadata": {
    "colab": {
     "base_uri": "https://localhost:8080/"
    },
    "executionInfo": {
     "elapsed": 11887,
     "status": "ok",
     "timestamp": 1712936523736,
     "user": {
      "displayName": "Monster C",
      "userId": "08787989274818793476"
     },
     "user_tz": -180
    },
    "id": "m2qkwxXijweG",
    "outputId": "00fac80d-9f54-4940-b80b-f232920820a4"
   },
   "outputs": [
    {
     "name": "stdout",
     "output_type": "stream",
     "text": [
      "rxnorm_umls_mapping download started this may take some time.\n",
      "Approx size to download 1.8 MB\n",
      "[OK!]\n"
     ]
    }
   ],
   "source": [
    "rxnorm_umls_pipeline = nlp.PretrainedPipeline( \"rxnorm_umls_mapping\",\"en\",\"clinical/models\")"
   ]
  },
  {
   "cell_type": "code",
   "execution_count": null,
   "metadata": {
    "colab": {
     "base_uri": "https://localhost:8080/"
    },
    "executionInfo": {
     "elapsed": 14,
     "status": "ok",
     "timestamp": 1712936523736,
     "user": {
      "displayName": "Monster C",
      "userId": "08787989274818793476"
     },
     "user_tz": -180
    },
    "id": "ExcCU2id4vK1",
    "outputId": "93488249-4ba2-4f84-a3eb-a5be022ef0e4"
   },
   "outputs": [
    {
     "data": {
      "text/plain": [
       "[DocumentAssembler_4e185a5b8ed5,\n",
       " REGEX_TOKENIZER_fa6b16a107b9,\n",
       " CHUNKER-MAPPER_5ac1d410c34d]"
      ]
     },
     "execution_count": 28,
     "metadata": {},
     "output_type": "execute_result"
    }
   ],
   "source": [
    "rxnorm_umls_pipeline.model.stages"
   ]
  },
  {
   "cell_type": "code",
   "execution_count": null,
   "metadata": {
    "colab": {
     "base_uri": "https://localhost:8080/"
    },
    "executionInfo": {
     "elapsed": 12,
     "status": "ok",
     "timestamp": 1712936523736,
     "user": {
      "displayName": "Monster C",
      "userId": "08787989274818793476"
     },
     "user_tz": -180
    },
    "id": "4VHq1Wijj4kC",
    "outputId": "680cfea2-ed98-4044-935d-85566ec40dfe"
   },
   "outputs": [
    {
     "data": {
      "text/plain": [
       "{'document': ['1161611 315677 343663'],\n",
       " 'rxnorm_code': ['1161611', '315677', '343663'],\n",
       " 'umls_code': ['C3215948', 'C0984912', 'C1146501']}"
      ]
     },
     "execution_count": 29,
     "metadata": {},
     "output_type": "execute_result"
    }
   ],
   "source": [
    "rxnorm_umls_pipeline.annotate(\"1161611 315677 343663\")"
   ]
  },
  {
   "cell_type": "markdown",
   "metadata": {
    "id": "3dr-PkwU5XT7"
   },
   "source": [
    "|**RxNorm Code** | **RxNorm Details** | **UMLS Code** | **UMLS Details** |\n",
    "| ---------- | -----------:| ---------- | -----------:|\n",
    "| 1161611 |  metformin Pill | C3215948 | metformin pill |\n",
    "| 315677 | cimetidine 100 mg | C0984912 | cimetidine 100 mg |\n",
    "| 343663 | insulin lispro 50 UNT/ML | C1146501 | insulin lispro 50 unt/ml |"
   ]
  },
  {
   "cell_type": "markdown",
   "metadata": {
    "id": "FCfxbiR04iER"
   },
   "source": [
    "## MESH to UMLS Code Mapping\n",
    "\n",
    "This pretrained pipeline maps MeSH codes to UMLS codes without using any text data. You’ll just feed white space delimited MeSH codes and it will return the corresponding UMLS codes as a list. If there is no mapping, the original code is returned with no mapping."
   ]
  },
  {
   "cell_type": "code",
   "execution_count": null,
   "metadata": {
    "colab": {
     "base_uri": "https://localhost:8080/"
    },
    "executionInfo": {
     "elapsed": 16899,
     "status": "ok",
     "timestamp": 1712936540624,
     "user": {
      "displayName": "Monster C",
      "userId": "08787989274818793476"
     },
     "user_tz": -180
    },
    "id": "PQT8VgD9mQ04",
    "outputId": "9db502e8-3ac6-4400-a41f-77cb6393e97d"
   },
   "outputs": [
    {
     "name": "stdout",
     "output_type": "stream",
     "text": [
      "mesh_umls_mapping download started this may take some time.\n",
      "Approx size to download 3.7 MB\n",
      "[OK!]\n"
     ]
    }
   ],
   "source": [
    "mesh_umls_pipeline = nlp.PretrainedPipeline( \"mesh_umls_mapping\",\"en\",\"clinical/models\")"
   ]
  },
  {
   "cell_type": "code",
   "execution_count": null,
   "metadata": {
    "colab": {
     "base_uri": "https://localhost:8080/"
    },
    "executionInfo": {
     "elapsed": 8,
     "status": "ok",
     "timestamp": 1712936540625,
     "user": {
      "displayName": "Monster C",
      "userId": "08787989274818793476"
     },
     "user_tz": -180
    },
    "id": "BM2nR5_G5pYp",
    "outputId": "63dd0f9e-e7e4-4cc5-9f6c-ef946abc089e"
   },
   "outputs": [
    {
     "data": {
      "text/plain": [
       "[DocumentAssembler_7610a83bd4ea,\n",
       " REGEX_TOKENIZER_8b771a14973c,\n",
       " CHUNKER-MAPPER_4039b8f2b99c]"
      ]
     },
     "execution_count": 31,
     "metadata": {},
     "output_type": "execute_result"
    }
   ],
   "source": [
    "mesh_umls_pipeline.model.stages"
   ]
  },
  {
   "cell_type": "code",
   "execution_count": null,
   "metadata": {
    "colab": {
     "base_uri": "https://localhost:8080/"
    },
    "executionInfo": {
     "elapsed": 5,
     "status": "ok",
     "timestamp": 1712936540625,
     "user": {
      "displayName": "Monster C",
      "userId": "08787989274818793476"
     },
     "user_tz": -180
    },
    "id": "lAgVLp0AmZb1",
    "outputId": "36088560-b175-49fd-ff96-4ab63487122b"
   },
   "outputs": [
    {
     "data": {
      "text/plain": [
       "{'document': ['C028491 D019326 C579867'],\n",
       " 'mesh_code': ['C028491', 'D019326', 'C579867'],\n",
       " 'umls_code': ['C0043904', 'C0045010', 'C3696376']}"
      ]
     },
     "execution_count": 32,
     "metadata": {},
     "output_type": "execute_result"
    }
   ],
   "source": [
    "mesh_umls_pipeline.annotate(\"C028491 D019326 C579867\")"
   ]
  },
  {
   "cell_type": "markdown",
   "metadata": {
    "id": "lcoTDMcI5wmz"
   },
   "source": [
    "|**MeSH Code** | **MeSH Details** | **UMLS Code** | **UMLS Details** |\n",
    "|-| -| - | -|\n",
    "| C028491 |  1,3-butylene glycol | C0043904 | 1,3-butylene glycol |\n",
    "| D019326 | 17-alpha-Hydroxyprogesterone | C0045010 | 17-alpha-hydroxyprogesterone |\n",
    "| C579867 | 3-Methylglutaconic Aciduria | C3696376 | 3-Methylglutaconic Aciduria |"
   ]
  },
  {
   "cell_type": "markdown",
   "metadata": {
    "id": "POZtAyb650FP"
   },
   "source": [
    "## RXNORM to MESH Code Mapping\n",
    "\n",
    "This pretrained pipeline maps RxNorm codes to MeSH codes without using any text data. You’ll just feed white space-delimited RxNorm codes and it will return the corresponding MeSH codes as a list. If there is no mapping, the original code is returned with no mapping."
   ]
  },
  {
   "cell_type": "code",
   "execution_count": null,
   "metadata": {
    "colab": {
     "base_uri": "https://localhost:8080/"
    },
    "executionInfo": {
     "elapsed": 6900,
     "status": "ok",
     "timestamp": 1712936547521,
     "user": {
      "displayName": "Monster C",
      "userId": "08787989274818793476"
     },
     "user_tz": -180
    },
    "id": "iN5cwIg-wj4q",
    "outputId": "b497a413-5f9b-4eee-cafa-be7a63f06c82"
   },
   "outputs": [
    {
     "name": "stdout",
     "output_type": "stream",
     "text": [
      "rxnorm_mesh_mapping download started this may take some time.\n",
      "Approx size to download 101.1 KB\n",
      "[OK!]\n"
     ]
    }
   ],
   "source": [
    "rxnorm_mesh_pipeline = nlp.PretrainedPipeline( \"rxnorm_mesh_mapping\",\"en\",\"clinical/models\")"
   ]
  },
  {
   "cell_type": "code",
   "execution_count": null,
   "metadata": {
    "colab": {
     "base_uri": "https://localhost:8080/"
    },
    "executionInfo": {
     "elapsed": 596,
     "status": "ok",
     "timestamp": 1712936548106,
     "user": {
      "displayName": "Monster C",
      "userId": "08787989274818793476"
     },
     "user_tz": -180
    },
    "id": "E1q_o0ql6J82",
    "outputId": "78ebdd9c-1217-49a5-9cda-5af44b36bf58"
   },
   "outputs": [
    {
     "data": {
      "text/plain": [
       "[DocumentAssembler_d554433bf767,\n",
       " REGEX_TOKENIZER_e88353b947c6,\n",
       " LEMMATIZER_568c2c2ed9f2,\n",
       " Finisher_9aef0b33bc5c]"
      ]
     },
     "execution_count": 34,
     "metadata": {},
     "output_type": "execute_result"
    }
   ],
   "source": [
    "rxnorm_mesh_pipeline.model.stages"
   ]
  },
  {
   "cell_type": "code",
   "execution_count": null,
   "metadata": {
    "colab": {
     "base_uri": "https://localhost:8080/"
    },
    "executionInfo": {
     "elapsed": 5,
     "status": "ok",
     "timestamp": 1712936548106,
     "user": {
      "displayName": "Monster C",
      "userId": "08787989274818793476"
     },
     "user_tz": -180
    },
    "id": "XQQyZ_NUwjLo",
    "outputId": "34201f1a-ff81-4f6d-c8ce-677ee6b8adc7"
   },
   "outputs": [
    {
     "data": {
      "text/plain": [
       "{'rxnorm': ['1191', '6809', '47613'],\n",
       " 'mesh': ['D001241', 'D008687', 'D019355']}"
      ]
     },
     "execution_count": 35,
     "metadata": {},
     "output_type": "execute_result"
    }
   ],
   "source": [
    "rxnorm_mesh_pipeline.annotate(\"1191 6809 47613\")"
   ]
  },
  {
   "cell_type": "markdown",
   "metadata": {
    "id": "Ub7QLdr46OkO"
   },
   "source": [
    "|**RxNorm** | **Details** |\n",
    "| ---------- | -----------:|\n",
    "| 1191 |  aspirin |\n",
    "| 6809 | metformin |\n",
    "| 47613 | calcium citrate |\n",
    "\n",
    "| **MeSH** | **Details** |\n",
    "| ---------- | -----------:|\n",
    "| D001241 | Aspirin |\n",
    "| D008687 | Metformin |\n",
    "| D019355 | Calcium Citrate |"
   ]
  },
  {
   "cell_type": "markdown",
   "metadata": {
    "id": "AXb_n8zjmPhK"
   },
   "source": [
    "## RXNORM to NDC Code Mapping\n",
    "\n",
    "This pretrained pipeline maps RxNorm codes to NDC codes without using any text data. You’ll just feed white space-delimited RxNorm codes and it will return the corresponding NDC codes as a list."
   ]
  },
  {
   "cell_type": "code",
   "execution_count": null,
   "metadata": {
    "colab": {
     "base_uri": "https://localhost:8080/"
    },
    "executionInfo": {
     "elapsed": 7793,
     "status": "ok",
     "timestamp": 1712936555895,
     "user": {
      "displayName": "Monster C",
      "userId": "08787989274818793476"
     },
     "user_tz": -180
    },
    "id": "DwTVJVq3mPhZ",
    "outputId": "1b063eda-218d-4bd5-d8b8-6756f80373c3"
   },
   "outputs": [
    {
     "name": "stdout",
     "output_type": "stream",
     "text": [
      "rxnorm_ndc_mapping download started this may take some time.\n",
      "Approx size to download 3.9 MB\n",
      "[OK!]\n"
     ]
    }
   ],
   "source": [
    "rxnorm_ndc_pipeline = nlp.PretrainedPipeline( \"rxnorm_ndc_mapping\",\"en\",\"clinical/models\")"
   ]
  },
  {
   "cell_type": "code",
   "execution_count": null,
   "metadata": {
    "colab": {
     "base_uri": "https://localhost:8080/"
    },
    "executionInfo": {
     "elapsed": 15,
     "status": "ok",
     "timestamp": 1712936555895,
     "user": {
      "displayName": "Monster C",
      "userId": "08787989274818793476"
     },
     "user_tz": -180
    },
    "id": "e7slfonzmPha",
    "outputId": "447c33a9-a113-4221-ab9c-8bc1ec3c6a0e"
   },
   "outputs": [
    {
     "data": {
      "text/plain": [
       "[DocumentAssembler_f92d7dac3ac1,\n",
       " REGEX_TOKENIZER_4be4a602c96a,\n",
       " CHUNKER-MAPPER_2d7b0e176787,\n",
       " CHUNKER-MAPPER_2d7b0e176787]"
      ]
     },
     "execution_count": 37,
     "metadata": {},
     "output_type": "execute_result"
    }
   ],
   "source": [
    "rxnorm_ndc_pipeline.model.stages"
   ]
  },
  {
   "cell_type": "code",
   "execution_count": null,
   "metadata": {
    "colab": {
     "base_uri": "https://localhost:8080/"
    },
    "executionInfo": {
     "elapsed": 13,
     "status": "ok",
     "timestamp": 1712936555895,
     "user": {
      "displayName": "Monster C",
      "userId": "08787989274818793476"
     },
     "user_tz": -180
    },
    "id": "9skxiaafmPhb",
    "outputId": "76975004-30b0-4562-9c42-37c5f995cfc2"
   },
   "outputs": [
    {
     "data": {
      "text/plain": [
       "{'document': ['1191 6809 47613'],\n",
       " 'rxnorm_code': ['1191', '6809', '47613'],\n",
       " 'package_ndc': ['62991-1176-06', '38779-2126-04', '00178-0796-30'],\n",
       " 'product_ndc': ['62991-1176', '38779-2126', '00178-0796']}"
      ]
     },
     "execution_count": 38,
     "metadata": {},
     "output_type": "execute_result"
    }
   ],
   "source": [
    "rxnorm_ndc_pipeline.annotate(\"1191 6809 47613\")"
   ]
  },
  {
   "cell_type": "markdown",
   "metadata": {
    "id": "X2qQSpEMmPhc"
   },
   "source": [
    "|**RxNorm** | **Details** |\n",
    "| ---------- | -----------:|\n",
    "| 1191 |  aspirin |\n",
    "| 6809 | metformin |\n",
    "| 47613 | calcium citrate |"
   ]
  }
 ],
 "metadata": {
  "colab": {
   "machine_shape": "hm",
   "provenance": []
  },
  "kernelspec": {
   "display_name": "Python 3",
   "name": "python3"
  },
  "language_info": {
   "name": "python"
  }
 },
 "nbformat": 4,
 "nbformat_minor": 0
}

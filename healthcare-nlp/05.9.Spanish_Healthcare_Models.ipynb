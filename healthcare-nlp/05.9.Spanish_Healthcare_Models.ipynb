{
  "cells": [
    {
      "cell_type": "markdown",
      "metadata": {
        "id": "gkWLJu2nwE4t"
      },
      "source": [
        "![JohnSnowLabs](https://nlp.johnsnowlabs.com/assets/images/logo.png)"
      ]
    },
    {
      "cell_type": "markdown",
      "metadata": {
        "id": "rYu-D6dnwIts"
      },
      "source": [
        "[![Open In Colab](https://colab.research.google.com/assets/colab-badge.svg)](https://colab.research.google.com/github/JohnSnowLabs/spark-nlp-workshop/blob/master/tutorials/Certification_Trainings/Healthcare/05.9.Spanish_Healthcare_Models.ipynb)"
      ]
    },
    {
      "cell_type": "markdown",
      "metadata": {
        "id": "FEGVvkVW28zo"
      },
      "source": [
        "📌 SNOMED CT is one of the most comprehensive and precise multilingual health terminologies in the world, widely used for the electronic exchange of clinical information. It serves as a key standard in many countries and enhances interoperability by enabling structured encoding of medical terms.\n",
        "\n",
        "In this notebook, we introduce the \"biolordresolve_snomed_augmented\" model, specifically designed for entity resolution and normalization of medical terms in Spanish within the SNOMED CT hierarchy. This model:\n",
        "\n",
        "Provides extensive and accurate coverage of medical terms in Spanish.\n",
        "\n",
        "Enhances interoperability by mapping concepts to other coding systems like ICD-9 and ICD-10.\n",
        "\n",
        "Facilitates the extraction and structuring of clinical information from medical texts.\n",
        "\n",
        "This notebook will demonstrate how to use \"biolordresolve_snomed_augmented\" to normalize medical terms and improve the quality of clinical data processing in Spanish. Let's get started! 🚀\n",
        "\n"
      ]
    },
    {
      "cell_type": "markdown",
      "metadata": {
        "id": "vOQFzb7ToOBK"
      },
      "source": [
        "# Colab Setup"
      ]
    },
    {
      "cell_type": "code",
      "execution_count": null,
      "metadata": {
        "id": "PHmIMvr-glhO"
      },
      "outputs": [],
      "source": [
        "# Install the johnsnowlabs library to access Spark-OCR and Spark-NLP for Healthcare, Finance, and Legal.\n",
        "! pip install -q johnsnowlabs"
      ]
    },
    {
      "cell_type": "code",
      "execution_count": null,
      "metadata": {
        "id": "TV24svVggy88"
      },
      "outputs": [],
      "source": [
        "from google.colab import files\n",
        "print('Please Upload your John Snow Labs License using the button below')\n",
        "license_keys = files.upload()"
      ]
    },
    {
      "cell_type": "code",
      "execution_count": null,
      "metadata": {
        "id": "QSB4fx78g7-R"
      },
      "outputs": [],
      "source": [
        "from johnsnowlabs import nlp, medical\n",
        "\n",
        "# After uploading your license run this to install all licensed Python Wheels and pre-download Jars the Spark Session JVM\n",
        "nlp.settings.enforce_versions=True\n",
        "nlp.install(refresh_install=True)"
      ]
    },
    {
      "cell_type": "code",
      "execution_count": 4,
      "metadata": {
        "colab": {
          "base_uri": "https://localhost:8080/"
        },
        "id": "T5aK4A57g_ug",
        "outputId": "d0441a48-a13e-4448-a738-f31d75f37f6e"
      },
      "outputs": [
        {
          "name": "stdout",
          "output_type": "stream",
          "text": [
            "👌 Detected license file /content/spark_nlp_for_healthcare_spark_ocr_9596 (8).json\n",
            "👌 Launched \u001b[92mcpu optimized\u001b[39m session with with: 🚀Spark-NLP==5.5.3, 💊Spark-Healthcare==5.5.3, running on ⚡ PySpark==3.4.0\n"
          ]
        }
      ],
      "source": [
        "from johnsnowlabs import nlp, medical\n",
        "import pandas as pd\n",
        "\n",
        "# Automatically load license data and start a session with all jars user has access to\n",
        "spark = nlp.start()"
      ]
    },
    {
      "cell_type": "code",
      "execution_count": 5,
      "metadata": {
        "colab": {
          "base_uri": "https://localhost:8080/",
          "height": 219
        },
        "id": "4GRr1CdEhBrO",
        "outputId": "d0cedfdc-a0f4-454d-ab1a-d16191a6d7ec"
      },
      "outputs": [
        {
          "data": {
            "text/html": [
              "\n",
              "            <div>\n",
              "                <p><b>SparkSession - in-memory</b></p>\n",
              "                \n",
              "        <div>\n",
              "            <p><b>SparkContext</b></p>\n",
              "\n",
              "            <p><a href=\"http://127.0.0.1:4050\">Spark UI</a></p>\n",
              "\n",
              "            <dl>\n",
              "              <dt>Version</dt>\n",
              "                <dd><code>v3.4.0</code></dd>\n",
              "              <dt>Master</dt>\n",
              "                <dd><code>local[*]</code></dd>\n",
              "              <dt>AppName</dt>\n",
              "                <dd><code>John-Snow-Labs-Spark-Session 🚀 with Jars for: 🚀Spark-NLP==5.5.3, 💊Spark-Healthcare==5.5.3, running on ⚡ PySpark==3.4.0</code></dd>\n",
              "            </dl>\n",
              "        </div>\n",
              "        \n",
              "            </div>\n",
              "        "
            ],
            "text/plain": [
              "<pyspark.sql.session.SparkSession at 0x7b40a1f08b50>"
            ]
          },
          "execution_count": 5,
          "metadata": {},
          "output_type": "execute_result"
        }
      ],
      "source": [
        "spark"
      ]
    },
    {
      "cell_type": "code",
      "execution_count": 6,
      "metadata": {
        "id": "IHWbsCXGhYwM"
      },
      "outputs": [],
      "source": [
        "from pyspark.sql import DataFrame\n",
        "import pyspark.sql.functions as F\n",
        "import pyspark.sql.types as T\n",
        "import pyspark.sql as SQL\n",
        "from pyspark import keyword_only\n",
        "from sparknlp_jsl.pipeline_tracer import PipelineTracer"
      ]
    },
    {
      "cell_type": "markdown",
      "metadata": {
        "id": "_Z0kLCkMvBfi"
      },
      "source": [
        "# Sentence Entity Resolver Models"
      ]
    },
    {
      "cell_type": "markdown",
      "metadata": {
        "id": "xsXTQ0QnLLoM"
      },
      "source": [
        "\n",
        "A common NLP problem in biomedical aplications is to identify the presence of clinical entities in a given text. This clinical entities could be diseases, symptoms, drugs, results of clinical investigations or others.\n",
        "\n",
        "To convert a sentence or document into a vector for semantic search or to build a recommendation system, one of the most popularly advised approaches is to pass the text through a transformer model like BERT, etc, and collect the embedding vector of CLS token or average out the embeddings of the tokens from the last layer to get a single vector.\n",
        "\n",
        "Truth be told, this approach of finding similar documents through embedding the CLS token or average embedding of the last layer performs much worse than averaging of word2vec/Glove embedding to form a sentence/document vector.\n",
        "On top of that, word2vec/Glove averaging is very fast to run when compared to extracting a vector through the transformer model.\n",
        "\n",
        "A better approach for transformer-based embedding is to use fine-tuned Siamese network variants (SBERT etc) that are trained to embed similar sentences/ documents to a closer embedding space and separate the non-similar ones. That’s what we are doing here at Sentence Resolvers and it is why we outperform Chunk Resolvers.\n",
        "\n",
        "Otherwise, the raw embedding vectors (CLS, etc) from the last layers of these transformer models don't yield any superior results for similarity search when compared to avg word2vec/Glove embeddings."
      ]
    },
    {
      "cell_type": "markdown",
      "metadata": {
        "id": "y-b6ghtxLLoN"
      },
      "source": [
        "Other than providing the code in the \"result\" field it provides more metadata about the matching process:\n",
        "\n",
        "- sentence -> Sentence ID\n",
        "- target_text -> Text to resolve\n",
        "- resolved_text -> Best match text\n",
        "- confidence -> Relative confidence for the top match (distance to probability)\n",
        "- confidence_ratio -> Relative confidence for the top match. TopMatchConfidence / SecondMatchConfidence\n",
        "- alternative_codes -> List of other plausible codes (in the KNN neighborhood)\n",
        "- all_k_resolutions -> All codes descriptions\n",
        "- all_k_results -> All resolved codes for metrics calculation purposes\n",
        "- all_k_aux_labels -> All auxillary information if the model contains"
      ]
    },
    {
      "cell_type": "markdown",
      "metadata": {
        "id": "R-mYgEdiLLoN"
      },
      "source": [
        "We create a new pipeline that from each of these problems will try to assign an resolution on the content, the sentence embeddings and some pretrained models for resolver annotation.\n",
        "\n",
        "The architecture of this new pipeline will be as follows:\n",
        "\n",
        "- DocumentAssembler (text -> document)\n",
        "\n",
        "- SentenceDetector (document -> sentence)\n",
        "\n",
        "- Tokenizer (sentence -> token)\n",
        "\n",
        "- WordEmbeddingsModel ([sentence, token] -> embeddings)\n",
        "\n",
        "- MedicalNerModel ([sentence, token, embeddings] -> ner)\n",
        "\n",
        "- NerConverter ([\"sentence, token, ner] -> ner_chunk\n",
        "\n",
        "- Chunk2Doc (ner_chunk) -> ner_chunk_doc\n",
        "\n",
        "- BertSentenceEmbeddings (ner_chunk_doc) -> sbert_embeddings\n",
        "\n",
        "- SentenceEntityResolverModel ([ner_chunk, sbert_embeddings] -> resolution)\n",
        "\n",
        "So from a text we end having a list of Named Entities (ner_chunk) and their resolutions."
      ]
    },
    {
      "cell_type": "markdown",
      "metadata": {
        "id": "kdzhLd6NLLoN"
      },
      "source": [
        "`setPreservePosition(True)` takes exactly the original indices (under some tokenization conditions it might include some undesires chars like `\")\",\"]\"...)`\n",
        "\n",
        "`setPreservePosition(False)` takes adjusted indices based on substring indexing of the first (for begin) and last (for end) tokens\n"
      ]
    },
    {
      "cell_type": "markdown",
      "metadata": {
        "id": "XPB8bWgnGvkO"
      },
      "source": [
        "## Healthcare NLP for Data Scientists Course\n",
        "\n",
        "If you are not familiar with the components in this notebook, you can check [Healthcare NLP for Data Scientists Udemy Course](https://www.udemy.com/course/healthcare-nlp-for-data-scientists/) and the [MOOC Notebooks](https://github.com/JohnSnowLabs/spark-nlp-workshop/tree/master/Spark_NLP_Udemy_MOOC/Healthcare_NLP) for each components."
      ]
    },
    {
      "cell_type": "markdown",
      "metadata": {
        "id": "9r37f_Vr4wut"
      },
      "source": [
        "### Helper Function\n",
        "Writing Generic Function For Getting the Codes and Relation Pair"
      ]
    },
    {
      "cell_type": "code",
      "execution_count": 17,
      "metadata": {
        "id": "mbcU1rdn42MJ"
      },
      "outputs": [],
      "source": [
        "# returns LP resolution results\n",
        "\n",
        "import pandas as pd\n",
        "pd.set_option('display.max_colwidth', 0)\n",
        "\n",
        "def get_codes (lp, text, vocab='icd10cm_code', aux=False, hcc=False):\n",
        "    \"\"\"\n",
        "    Extracts codes from text using a given LightPipeline model and returns the results in pandas DataFrame format.\n",
        "\n",
        "    Parameters:\n",
        "    - lp (LightPipeline): The LightPipeline model to be used for annotation.\n",
        "    - text (str): The text from which codes are to be extracted.\n",
        "    - vocab (str, optional): The vocabulary to use for code extraction. Default is 'icd10cm_code'.\n",
        "    - aux (bool, optional): Whether to include auxiliary information. Default is False.\n",
        "    - hcc (bool, optional): Whether to extract hierarchical condition category (HCC) related information in the ICD-10-CM model results. Default is False.\n",
        "\n",
        "    Returns:\n",
        "    - pandas.DataFrame: A DataFrame containing extracted codes along with their metadata.\n",
        "                         Columns include 'chunks', 'begin', 'end', 'code', 'resolutions', 'all_codes', 'all_resolutions', 'all_k_aux_labels', 'all_distances'.\n",
        "                         If 'hcc' is True, additional columns 'billable', 'hcc_status', and 'hcc_code' will be included.\n",
        "    \"\"\"\n",
        "\n",
        "    full_light_result = lp.fullAnnotate(text)\n",
        "\n",
        "    chunks = [chunk.result for chunk in full_light_result[0]['ner_chunk']]\n",
        "    begin = [chunk.begin for chunk in full_light_result[0]['ner_chunk']]\n",
        "    end = [chunk.end for chunk in full_light_result[0]['ner_chunk']]\n",
        "    codes = [code.result for code in full_light_result[0][vocab]]\n",
        "    resolutions = [code.metadata['resolved_text'].split(':::') for code in full_light_result[0][vocab]]\n",
        "    all_codes = [code.metadata['all_k_results'].split(':::') for code in full_light_result[0][vocab]]\n",
        "    all_resolutions = [code.metadata['all_k_resolutions'].split(':::') for code in full_light_result[0][vocab]]\n",
        "    all_distances = [code.metadata['all_k_distances'].split(':::') for code in full_light_result[0][vocab]]\n",
        "    all_cosines = [code.metadata['all_k_cosine_distances'].split(':::') for code in full_light_result[0][vocab]]\n",
        "    all_k_aux_labels = [\n",
        "        code.metadata.get('all_k_aux_labels', '').split(':::') if aux else []\n",
        "        for code in full_light_result[0][vocab]\n",
        "    ]\n",
        "\n",
        "    df = pd.DataFrame({\n",
        "        'chunks': chunks,\n",
        "        'begin': begin,\n",
        "        'end': end,\n",
        "        'code': codes,\n",
        "        'resolution': resolutions,\n",
        "        'all_codes': all_codes,\n",
        "        'all_resolutions': all_resolutions,\n",
        "        'all_k_aux_labels': all_k_aux_labels,\n",
        "        'all_cos_distances': all_cosines\n",
        "    })\n",
        "\n",
        "    if not aux:\n",
        "        df = df.drop(['all_k_aux_labels'], axis=1)\n",
        "\n",
        "    if hcc:\n",
        "\n",
        "        df['billable'] = df['all_k_aux_labels'].apply(lambda x: [i.split('||')[0] for i in x])\n",
        "        df['hcc_status'] = df['all_k_aux_labels'].apply(lambda x: [i.split('||')[1] for i in x])\n",
        "        df['hcc_code'] = df['all_k_aux_labels'].apply(lambda x: [i.split('||')[2] for i in x])\n",
        "        df = df.drop(['all_k_aux_labels'], axis=1)\n",
        "\n",
        "    return df"
      ]
    },
    {
      "cell_type": "markdown",
      "metadata": {
        "id": "cfihiVDdv4We"
      },
      "source": [
        "## Sentence Entity Resolver (SNOMED)"
      ]
    },
    {
      "cell_type": "markdown",
      "metadata": {
        "id": "ZtoIn0qyv4We"
      },
      "source": [
        "🔍  Please see the [Clinical_Entity_Resolvers](https://colab.research.google.com/github/JohnSnowLabs/spark-nlp-workshop/blob/master/tutorials/Certification_Trainings/Healthcare/3.Clinical_Entity_Resolvers.ipynb) notebook for more examples"
      ]
    },
    {
      "cell_type": "code",
      "execution_count": 7,
      "metadata": {
        "colab": {
          "base_uri": "https://localhost:8080/"
        },
        "id": "odE7eW7YITQW",
        "outputId": "3f678d91-e139-445f-a928-7e13e0c841cb"
      },
      "outputs": [
        {
          "name": "stdout",
          "output_type": "stream",
          "text": [
            "sentence_detector_dl download started this may take some time.\n",
            "Approximate size to download 514.9 KB\n",
            "[OK!]\n",
            "w2v_cc_300d download started this may take some time.\n",
            "Approximate size to download 1.2 GB\n",
            "[OK!]\n",
            "ner_eu_clinical_condition download started this may take some time.\n",
            "[OK!]\n",
            "sent_xlm_roberta_biolord_2023_m download started this may take some time.\n",
            "Approximate size to download 973.6 MB\n",
            "[OK!]\n",
            "biolordresolve_snomed_augmented download started this may take some time.\n",
            "[OK!]\n"
          ]
        }
      ],
      "source": [
        "document_assembler = nlp.DocumentAssembler()\\\n",
        "  .setInputCol(\"text\")\\\n",
        "  .setOutputCol(\"document\")\n",
        "\n",
        "sentence_detector = nlp.SentenceDetectorDLModel.pretrained(\"sentence_detector_dl\", \"xx\")\\\n",
        "  .setInputCols([\"document\"])\\\n",
        "  .setOutputCol(\"sentence\")\n",
        "\n",
        "tokenizer = nlp.Tokenizer()\\\n",
        "  .setInputCols([\"sentence\"])\\\n",
        "  .setOutputCol(\"token\")\\\n",
        "\n",
        "word_embeddings = nlp.WordEmbeddingsModel.pretrained(\"w2v_cc_300d\",\"es\")\\\n",
        "  .setInputCols([\"sentence\",\"token\"])\\\n",
        "  .setOutputCol(\"embeddings\")\n",
        "\n",
        "ner_eu = medical.NerModel.pretrained(\"ner_eu_clinical_condition\", \"es\", \"clinical/models\") \\\n",
        "  .setInputCols([\"sentence\", \"token\", \"embeddings\"]) \\\n",
        "  .setOutputCol(\"ner_eu\")\n",
        "\n",
        "ner_eu_converter = medical.NerConverterInternal() \\\n",
        "  .setInputCols([\"sentence\", \"token\", \"ner_eu\"]) \\\n",
        "  .setOutputCol(\"ner_eu_chunk\")\n",
        "\n",
        "chunk2doc = nlp.Chunk2Doc()\\\n",
        "  .setInputCols(\"ner_eu_chunk\")\\\n",
        "  .setOutputCol(\"ner_chunk_doc\")\n",
        "\n",
        "biolord_embeddings = nlp.XlmRoBertaSentenceEmbeddings.pretrained(\"sent_xlm_roberta_biolord_2023_m\",\"xx\")\\\n",
        "    .setInputCols([\"ner_chunk_doc\"])\\\n",
        "    .setOutputCol(\"biolord_embeddings\")\n",
        "\n",
        "snomed_resolver = medical.SentenceEntityResolverModel.pretrained(\"biolordresolve_snomed_augmented\",\"es\", \"clinical/models\") \\\n",
        "      .setInputCols([\"biolord_embeddings\"]) \\\n",
        "      .setOutputCol(\"snomed_code\")\\\n",
        "      .setDistanceFunction(\"EUCLIDEAN\")\n",
        "\n",
        "snomed_pipeline = nlp.Pipeline(stages = [\n",
        "    document_assembler,\n",
        "    sentence_detector,\n",
        "    tokenizer,\n",
        "    word_embeddings,\n",
        "    ner_eu,\n",
        "    ner_eu_converter,\n",
        "    chunk2doc,\n",
        "    biolord_embeddings,\n",
        "    snomed_resolver\n",
        "])\n",
        "\n",
        "\n",
        "clinical_note = (\"La paciente, con antecedente de diabetes mellitus gestacional evolucionada a tipo 2 y obesidad, presenta vómitos de una semana de evolución junto con dolorosa inflamación de sínfisis de pubis que dificulta la deambulación.\")\n",
        "\n",
        "data = spark.createDataFrame([[clinical_note]]).toDF(\"text\")\n",
        "\n",
        "snomed_result = snomed_pipeline.fit(data).transform(data)"
      ]
    },
    {
      "cell_type": "code",
      "execution_count": 8,
      "metadata": {
        "colab": {
          "base_uri": "https://localhost:8080/"
        },
        "id": "5FJ8EEOO1x4D",
        "outputId": "ec9eccee-ad8b-4f17-d495-3323c58380de"
      },
      "outputs": [
        {
          "name": "stdout",
          "output_type": "stream",
          "text": [
            "+-----------------------------+-----+---+------------------+---------+-------------------------------------------------------------+-----------------------------------------------------------------------------------------------------------------------------------------------------------------------------------------------------------------------------------------------------------------------------------------------------------------------------------------------------------------------------------------------------------------------------------------------------------------------------------------------------------------------------------------------------------------------------------------------------------------------------------------------------------------------------------------------------------------------------------------------------------------------------------------------------------------------------------------------------------------------------------------------------------------------------------------------------------------------------------------------------------------------------------------------------------------------------------------+---------------------------------------------------------------------------------------------------------------------------------------------------------------------------------------------+\n",
            "|chunk                        |begin|end|ner_label         |snomed   |resolution                                                   |all_resolution                                                                                                                                                                                                                                                                                                                                                                                                                                                                                                                                                                                                                                                                                                                                                                                                                                                                                                                                                                                                                                                                           |all_result                                                                                                                                                                                   |\n",
            "+-----------------------------+-----+---+------------------+---------+-------------------------------------------------------------+-----------------------------------------------------------------------------------------------------------------------------------------------------------------------------------------------------------------------------------------------------------------------------------------------------------------------------------------------------------------------------------------------------------------------------------------------------------------------------------------------------------------------------------------------------------------------------------------------------------------------------------------------------------------------------------------------------------------------------------------------------------------------------------------------------------------------------------------------------------------------------------------------------------------------------------------------------------------------------------------------------------------------------------------------------------------------------------------+---------------------------------------------------------------------------------------------------------------------------------------------------------------------------------------------+\n",
            "|diabetes mellitus gestacional|32   |60 |clinical_condition|11687002 |diabetes mellitus gestacional [diabetes mellitus gestacional]|diabetes mellitus gestacional [diabetes mellitus gestacional]:::diabetes mellitus gestacional que complica el embarazo [diabetes mellitus gestacional que complica el embarazo]:::prediabetes gestacional [prediabetes gestacional]:::antecedente materno de diabetes gestacional [antecedente materno de diabetes gestacional]:::diabetes mellitus gestacional en el momento del nacimiento [diabetes mellitus gestacional en el momento del nacimiento]:::alteración de la tolerancia a la glucosa en el embarazo [alteración de la tolerancia a la glucosa en el embarazo]:::antecedente de embarazo con diabetes mellitus gestacional [antecedente de embarazo con diabetes mellitus gestacional]:::trastorno hiperglucémico del embarazo [trastorno hiperglucémico del embarazo]:::diabetes mellitus gestacional posparto [diabetes mellitus gestacional posparto]:::diabetes mellitus preexistente en el embarazo [diabetes mellitus preexistente en el embarazo]:::embarazo con prueba de tolerancia anormal a la glucosa [embarazo con prueba de tolerancia anormal a la glucosa]|11687002:::40801000119106:::16896421000119107:::721151003:::10753491000119101:::237628005:::472971004:::237625008:::40791000119105:::609563008:::372048000                                   |\n",
            "|obesidad                     |86   |93 |clinical_condition|414916001|obesidad [obesidad]                                          |obesidad [obesidad]:::obeso [obeso]:::constitución obesa [constitución obesa]:::obesidad según factores contribuyentes [obesidad según factores contribuyentes]:::enfermedad relacionada con la obesidad [enfermedad relacionada con la obesidad]:::obesidad mórbida [obesidad mórbida]:::sobrepeso [sobrepeso]:::obesidad exógena [obesidad exógena]:::obesidad hiperplásica [obesidad hiperplásica]:::obesidad central [obesidad central]:::obesidad generalizada [obesidad generalizada]:::obesidad androide (trastorno) [obesidad androide]:::peso corporal aumentado [peso corporal aumentado]:::peso corporal elevado [peso corporal elevado]                                                                                                                                                                                                                                                                                                                                                                                                                                      |414916001:::414915002:::271590003:::414919008:::363247006:::238136002:::238131007:::415530009:::414438005:::248311001:::238134004:::238132000:::8943002:::840358001                          |\n",
            "|vómitos                      |105  |111|clinical_condition|422400008|vómitos [vómitos]                                            |vómitos [vómitos]:::síntoma de vómito [síntoma de vómito]:::vómito agudo [vómito agudo]:::náuseas y vómitos [náuseas y vómitos]:::vómito en chorro [vómito en chorro]:::vómito - hallazgo [vómito - hallazgo]:::náuseas [náuseas]:::comida vomitada [comida vomitada]:::vómito subrepticio [vómito subrepticio]:::estado de náuseas y vómitos [estado de náuseas y vómitos]:::vomita alimento [vomita alimento]:::vómitos incontrolables [vómitos incontrolables]:::hematemesis [hematemesis]                                                                                                                                                                                                                                                                                                                                                                                                                                                                                                                                                                                            |422400008:::249497008:::23971007:::16932000:::8579004:::300359004:::422587007:::301790009:::38685005:::405166007:::225586007:::332982000:::8765009                                           |\n",
            "|dolorosa                     |150  |157|clinical_condition|71393004 |dolorimiento [dolorimiento]                                  |dolorimiento [dolorimiento]:::dolor [dolor]:::dolor que corroe [dolor que corroe]:::agonía [agonía]:::dolor atroz (hallazgo) [dolor atroz]:::sinalgia [sinalgia]:::dolor lancinante [dolor lancinante]:::presencia de dolor [presencia de dolor]:::molestia [molestia]:::más dolor [más dolor]:::dolor intenso [dolor intenso]:::dolor agudísimo [dolor agudísimo]:::naturaleza del dolor [naturaleza del dolor]:::dolor actual lancinante [dolor actual lancinante]:::enfermedad y dolor [enfermedad y dolor]:::hiperestesia [hiperestesia]                                                                                                                                                                                                                                                                                                                                                                                                                                                                                                                                             |71393004:::22253000:::301371003:::102498003:::67849003:::6617009:::279097006:::35331000087107:::1269496002:::1144586002:::279095003:::41226008:::364632003:::301384007:::301375007:::14151009|\n",
            "|inflamación                  |159  |169|clinical_condition|128139000|enfermedad inflamatoria [enfermedad inflamatoria]            |enfermedad inflamatoria [enfermedad inflamatoria]:::morfología inflamatoria [morfología inflamatoria]:::inflamación activa [inflamación activa]:::parainflamación [parainflamación]:::lesión inflamatoria [lesión inflamatoria]:::inflamación de estructuras o tejidos corporales específicos [inflamación de estructuras o tejidos corporales específicos]:::dolor inflamatorio [dolor inflamatorio]:::inflamación aguda y crónica [inflamación aguda y crónica]:::enfermedad inflamatoria aguda [enfermedad inflamatoria aguda]:::morfología inflamatoria aguda [morfología inflamatoria aguda]:::inflamación atípica [inflamación atípica]:::inflamación de órganos (corporales) específicos [inflamación de órganos (corporales) específicos]:::inflamación progresiva [inflamación progresiva]                                                                                                                                                                                                                                                                                      |128139000:::409774005:::4532008:::733935006:::708039003:::363170005:::65761003:::75889009:::128482007:::409776007:::125328005:::363169009:::125329002                                        |\n",
            "+-----------------------------+-----+---+------------------+---------+-------------------------------------------------------------+-----------------------------------------------------------------------------------------------------------------------------------------------------------------------------------------------------------------------------------------------------------------------------------------------------------------------------------------------------------------------------------------------------------------------------------------------------------------------------------------------------------------------------------------------------------------------------------------------------------------------------------------------------------------------------------------------------------------------------------------------------------------------------------------------------------------------------------------------------------------------------------------------------------------------------------------------------------------------------------------------------------------------------------------------------------------------------------------+---------------------------------------------------------------------------------------------------------------------------------------------------------------------------------------------+\n",
            "\n"
          ]
        }
      ],
      "source": [
        "snomed_result.select(F.explode(F.arrays_zip(snomed_result.ner_eu_chunk.result,\n",
        "                                                          snomed_result.ner_eu_chunk.begin,\n",
        "                                                          snomed_result.ner_eu_chunk.end,\n",
        "                                                          snomed_result.ner_eu_chunk.metadata,\n",
        "                                                          snomed_result.snomed_code.result,\n",
        "                                                          snomed_result.snomed_code.metadata)).alias(\"cols\"))\\\n",
        "                  .select(F.expr(\"cols['0']\").alias(\"chunk\"),\n",
        "                          F.expr(\"cols['1']\").alias(\"begin\"),\n",
        "                          F.expr(\"cols['2']\").alias(\"end\"),\n",
        "                          F.expr(\"cols['3']['entity']\").alias(\"ner_label\"),\n",
        "                          F.expr(\"cols['4']\").alias(\"snomed\"),\n",
        "                          F.expr(\"cols['5']['resolved_text']\").alias(\"resolution\"),\n",
        "                          F.expr(\"cols['5']['all_k_resolutions']\").alias(\"all_resolution\"),\n",
        "                          F.expr(\"cols['5']['all_k_results']\").alias(\"all_result\"))\\\n",
        "                       .filter(\"ner_label!='O'\")\\\n",
        "                       .show(1000,truncate=False)"
      ]
    },
    {
      "cell_type": "markdown",
      "metadata": {
        "id": "dYiUmxJ-2ZSk"
      },
      "source": [
        "### Visualization"
      ]
    },
    {
      "cell_type": "markdown",
      "metadata": {
        "id": "sXwd4WfkIy_d"
      },
      "source": [
        "📺 `EntityResolverVisualizer` is a tool for visualization of Snomed CT  results."
      ]
    },
    {
      "cell_type": "code",
      "execution_count": 9,
      "metadata": {
        "id": "av6Ks0CrZEI7"
      },
      "outputs": [],
      "source": [
        "result = snomed_result.collect()"
      ]
    },
    {
      "cell_type": "code",
      "execution_count": 13,
      "metadata": {
        "colab": {
          "base_uri": "https://localhost:8080/",
          "height": 279
        },
        "id": "U0LrZOO2ZEFx",
        "outputId": "93f8819e-8e7b-4282-a290-7676fa63d8e9"
      },
      "outputs": [
        {
          "data": {
            "text/html": [
              "\n",
              "<style>\n",
              "    @import url('https://fonts.googleapis.com/css2?family=Montserrat:wght@300;400;500;600;700&display=swap');\n",
              "    @import url('https://fonts.googleapis.com/css2?family=Vistol Regular:wght@300;400;500;600;700&display=swap');\n",
              "    \n",
              "    .spark-nlp-display-scroll-entities {\n",
              "        border: 1px solid #E7EDF0;\n",
              "        border-radius: 3px;\n",
              "        text-align: justify;\n",
              "        \n",
              "    }\n",
              "    .spark-nlp-display-scroll-entities span {  \n",
              "        font-size: 14px;\n",
              "        line-height: 24px;\n",
              "        color: #536B76;\n",
              "        font-family: 'Montserrat', sans-serif !important;\n",
              "    }\n",
              "    \n",
              "    .spark-nlp-display-entity-wrapper{\n",
              "    \n",
              "        display: inline-grid;\n",
              "        text-align: center;\n",
              "        border-radius: 4px;\n",
              "        margin: 0 2px 5px 2px;\n",
              "        padding: 1px\n",
              "    }\n",
              "    .spark-nlp-display-entity-name{\n",
              "        font-size: 14px;\n",
              "        line-height: 24px;\n",
              "        font-family: 'Montserrat', sans-serif !important;\n",
              "        \n",
              "        background: #f1f2f3;\n",
              "        border-width: medium;\n",
              "        text-align: center;\n",
              "        \n",
              "        font-weight: 400;\n",
              "        \n",
              "        border-radius: 5px;\n",
              "        padding: 2px 5px;\n",
              "        display: block;\n",
              "        margin: 3px 2px;\n",
              "    \n",
              "    }\n",
              "    .spark-nlp-display-entity-type{\n",
              "        font-size: 14px;\n",
              "        line-height: 24px;\n",
              "        color: #ffffff;\n",
              "        font-family: 'Montserrat', sans-serif !important;\n",
              "        \n",
              "        text-transform: uppercase;\n",
              "        \n",
              "        font-weight: 500;\n",
              "\n",
              "        display: block;\n",
              "        padding: 3px 5px;\n",
              "    }\n",
              "    \n",
              "    .spark-nlp-display-entity-resolution{\n",
              "        font-size: 14px;\n",
              "        line-height: 24px;\n",
              "        color: #ffffff;\n",
              "        font-family: 'Vistol Regular', sans-serif !important;\n",
              "        \n",
              "        text-transform: uppercase;\n",
              "        \n",
              "        font-weight: 500;\n",
              "\n",
              "        display: block;\n",
              "        padding: 3px 5px;\n",
              "    }\n",
              "    \n",
              "    .spark-nlp-display-others{\n",
              "        font-size: 14px;\n",
              "        line-height: 24px;\n",
              "        font-family: 'Montserrat', sans-serif !important;\n",
              "        \n",
              "        font-weight: 400;\n",
              "    }\n",
              "\n",
              "</style>\n",
              " <span class=\"spark-nlp-display-others\" style=\"background-color: white\">La paciente, con antecedente de </span><span class=\"spark-nlp-display-entity-wrapper\" style=\"background-color: #AF8C2CB3\"><span class=\"spark-nlp-display-entity-name\">diabetes mellitus gestacional </span><span class=\"spark-nlp-display-entity-type\">clinical_condition</span><span class=\"spark-nlp-display-entity-resolution\" style=\"background-color: #AF8C2CFF\">11687002 </span><span class=\"spark-nlp-display-entity-resolution\" style=\"background-color: #AF8C2CCC\">diabetes mellitus gestacional [diabetes mellitus gestacional]</span></span><span class=\"spark-nlp-display-others\" style=\"background-color: white\"> evolucionada a tipo 2 y </span><span class=\"spark-nlp-display-entity-wrapper\" style=\"background-color: #AF8C2CB3\"><span class=\"spark-nlp-display-entity-name\">obesidad </span><span class=\"spark-nlp-display-entity-type\">clinical_condition</span><span class=\"spark-nlp-display-entity-resolution\" style=\"background-color: #AF8C2CFF\">414916001 </span><span class=\"spark-nlp-display-entity-resolution\" style=\"background-color: #AF8C2CCC\">obesidad [obesidad]</span></span><span class=\"spark-nlp-display-others\" style=\"background-color: white\">, presenta </span><span class=\"spark-nlp-display-entity-wrapper\" style=\"background-color: #AF8C2CB3\"><span class=\"spark-nlp-display-entity-name\">vómitos </span><span class=\"spark-nlp-display-entity-type\">clinical_condition</span><span class=\"spark-nlp-display-entity-resolution\" style=\"background-color: #AF8C2CFF\">422400008 </span><span class=\"spark-nlp-display-entity-resolution\" style=\"background-color: #AF8C2CCC\">vómitos [vómitos]</span></span><span class=\"spark-nlp-display-others\" style=\"background-color: white\"> de una semana de evolución junto con </span><span class=\"spark-nlp-display-entity-wrapper\" style=\"background-color: #AF8C2CB3\"><span class=\"spark-nlp-display-entity-name\">dolorosa </span><span class=\"spark-nlp-display-entity-type\">clinical_condition</span><span class=\"spark-nlp-display-entity-resolution\" style=\"background-color: #AF8C2CFF\">71393004 </span><span class=\"spark-nlp-display-entity-resolution\" style=\"background-color: #AF8C2CCC\">dolorimiento [dolorimiento]</span></span><span class=\"spark-nlp-display-others\" style=\"background-color: white\"> </span><span class=\"spark-nlp-display-entity-wrapper\" style=\"background-color: #AF8C2CB3\"><span class=\"spark-nlp-display-entity-name\">inflamación </span><span class=\"spark-nlp-display-entity-type\">clinical_condition</span><span class=\"spark-nlp-display-entity-resolution\" style=\"background-color: #AF8C2CFF\">128139000 </span><span class=\"spark-nlp-display-entity-resolution\" style=\"background-color: #AF8C2CCC\">enfermedad inflamatoria [enfermedad inflamatoria]</span></span><span class=\"spark-nlp-display-others\" style=\"background-color: white\"> de sínfisis de pubis que dificulta la deambulación.</span></div>"
            ],
            "text/plain": [
              "<IPython.core.display.HTML object>"
            ]
          },
          "metadata": {},
          "output_type": "display_data"
        }
      ],
      "source": [
        "from sparknlp_display import EntityResolverVisualizer\n",
        "\n",
        "visualiser = nlp.viz.EntityResolverVisualizer()\n",
        "\n",
        "for i in range(len(result)):\n",
        "  visualiser.display(result[i], 'ner_eu_chunk', 'snomed_code', save_path=\"example_resolver.html\")"
      ]
    },
    {
      "cell_type": "markdown",
      "metadata": {
        "id": "8TQ_Gabo3cYi"
      },
      "source": [
        "**If you have already extracted the relevant chunks, you can directly retrieve SNOMED CT codes using the following pipeline:**"
      ]
    },
    {
      "cell_type": "code",
      "execution_count": 15,
      "metadata": {
        "colab": {
          "base_uri": "https://localhost:8080/"
        },
        "id": "1jp_LBEK2UYk",
        "outputId": "e2f31c79-f21a-4223-e71b-54978dc6c554"
      },
      "outputs": [
        {
          "name": "stdout",
          "output_type": "stream",
          "text": [
            "sent_xlm_roberta_biolord_2023_m download started this may take some time.\n",
            "Approximate size to download 973.6 MB\n",
            "[OK!]\n",
            "biolordresolve_snomed_augmented download started this may take some time.\n",
            "[OK!]\n"
          ]
        }
      ],
      "source": [
        "documentAssembler = nlp.DocumentAssembler()\\\n",
        "    .setInputCol(\"text\")\\\n",
        "    .setOutputCol(\"ner_chunk\")\n",
        "\n",
        "biolord_embeddings = nlp.XlmRoBertaSentenceEmbeddings\\\n",
        "    .pretrained(\"sent_xlm_roberta_biolord_2023_m\",\"xx\")\\\n",
        "    .setInputCols([\"ner_chunk\"])\\\n",
        "    .setOutputCol(\"biolord_embeddings\")\n",
        "\n",
        "snomed_ct_resolver = medical.SentenceEntityResolverModel.pretrained(\"biolordresolve_snomed_augmented\",\"es\", \"clinical/models\") \\\n",
        "    .setInputCols([\"biolord_embeddings\"]) \\\n",
        "    .setOutputCol(\"snomed_code\")\\\n",
        "    .setDistanceFunction(\"EUCLIDEAN\")\n",
        "\n",
        "snomed_pipelineModel = nlp.PipelineModel(\n",
        "    stages = [\n",
        "        documentAssembler,\n",
        "        biolord_embeddings,\n",
        "        snomed_ct_resolver])\n",
        "\n",
        "snomed_lp = nlp.LightPipeline(snomed_pipelineModel)"
      ]
    },
    {
      "cell_type": "code",
      "execution_count": 18,
      "metadata": {
        "colab": {
          "base_uri": "https://localhost:8080/",
          "height": 254
        },
        "id": "Inlgeuzd-6EO",
        "outputId": "42bc4eee-a9e4-4015-92cc-c917e427a6a1"
      },
      "outputs": [
        {
          "name": "stdout",
          "output_type": "stream",
          "text": [
            "CPU times: user 47.3 ms, sys: 10.6 ms, total: 57.9 ms\n",
            "Wall time: 2.95 s\n"
          ]
        },
        {
          "data": {
            "application/vnd.google.colaboratory.intrinsic+json": {
              "summary": "{\n  \"name\": \"get_ipython()\",\n  \"rows\": 1,\n  \"fields\": [\n    {\n      \"column\": \"chunks\",\n      \"properties\": {\n        \"dtype\": \"string\",\n        \"num_unique_values\": 1,\n        \"samples\": [\n          \"EPOC\"\n        ],\n        \"semantic_type\": \"\",\n        \"description\": \"\"\n      }\n    },\n    {\n      \"column\": \"begin\",\n      \"properties\": {\n        \"dtype\": \"number\",\n        \"std\": null,\n        \"min\": 0,\n        \"max\": 0,\n        \"num_unique_values\": 1,\n        \"samples\": [\n          0\n        ],\n        \"semantic_type\": \"\",\n        \"description\": \"\"\n      }\n    },\n    {\n      \"column\": \"end\",\n      \"properties\": {\n        \"dtype\": \"number\",\n        \"std\": null,\n        \"min\": 3,\n        \"max\": 3,\n        \"num_unique_values\": 1,\n        \"samples\": [\n          3\n        ],\n        \"semantic_type\": \"\",\n        \"description\": \"\"\n      }\n    },\n    {\n      \"column\": \"code\",\n      \"properties\": {\n        \"dtype\": \"string\",\n        \"num_unique_values\": 1,\n        \"samples\": [\n          \"13645005\"\n        ],\n        \"semantic_type\": \"\",\n        \"description\": \"\"\n      }\n    },\n    {\n      \"column\": \"resolution\",\n      \"properties\": {\n        \"dtype\": \"object\",\n        \"semantic_type\": \"\",\n        \"description\": \"\"\n      }\n    },\n    {\n      \"column\": \"all_codes\",\n      \"properties\": {\n        \"dtype\": \"object\",\n        \"semantic_type\": \"\",\n        \"description\": \"\"\n      }\n    },\n    {\n      \"column\": \"all_resolutions\",\n      \"properties\": {\n        \"dtype\": \"object\",\n        \"semantic_type\": \"\",\n        \"description\": \"\"\n      }\n    },\n    {\n      \"column\": \"all_cos_distances\",\n      \"properties\": {\n        \"dtype\": \"object\",\n        \"semantic_type\": \"\",\n        \"description\": \"\"\n      }\n    }\n  ]\n}",
              "type": "dataframe"
            },
            "text/html": [
              "\n",
              "  <div id=\"df-7f9a1ee9-e208-46ab-91b7-d0e29d1e8f9f\" class=\"colab-df-container\">\n",
              "    <div>\n",
              "<style scoped>\n",
              "    .dataframe tbody tr th:only-of-type {\n",
              "        vertical-align: middle;\n",
              "    }\n",
              "\n",
              "    .dataframe tbody tr th {\n",
              "        vertical-align: top;\n",
              "    }\n",
              "\n",
              "    .dataframe thead th {\n",
              "        text-align: right;\n",
              "    }\n",
              "</style>\n",
              "<table border=\"1\" class=\"dataframe\">\n",
              "  <thead>\n",
              "    <tr style=\"text-align: right;\">\n",
              "      <th></th>\n",
              "      <th>chunks</th>\n",
              "      <th>begin</th>\n",
              "      <th>end</th>\n",
              "      <th>code</th>\n",
              "      <th>resolution</th>\n",
              "      <th>all_codes</th>\n",
              "      <th>all_resolutions</th>\n",
              "      <th>all_cos_distances</th>\n",
              "    </tr>\n",
              "  </thead>\n",
              "  <tbody>\n",
              "    <tr>\n",
              "      <th>0</th>\n",
              "      <td>EPOC</td>\n",
              "      <td>0</td>\n",
              "      <td>3</td>\n",
              "      <td>13645005</td>\n",
              "      <td>[EPOC - enfermedad pulmonar obstructiva crónica [EPOC - enfermedad pulmonar obstructiva crónica]]</td>\n",
              "      <td>[13645005, 135836000, 413839001, 297241004, 90616004, 17097001, 125295001, 233762004, 266899005, 185086009, 86555001, 708030004]</td>\n",
              "      <td>[EPOC - enfermedad pulmonar obstructiva crónica [EPOC - enfermedad pulmonar obstructiva crónica], EPOC terminal [EPOC terminal], enfermedad pulmonar crónica [enfermedad pulmonar crónica], antecedente familiar de EPOC [antecedente familiar de EPOC], síndrome de hiperventilación crónica [síndrome de hiperventilación crónica], enfermedad respiratoria crónica [enfermedad respiratoria crónica], enfisema crónico [enfisema crónico], neumoconiosis crónica [neumoconiosis crónica], antecedente familiar de bronquitis/enfermedad pulmonar obstructiva crónica [antecedente familiar de bronquitis/enfermedad pulmonar obstructiva crónica], bronquitis crónica con enfisema [bronquitis crónica con enfisema], mucoviscidosis con compromiso pulmonar [mucoviscidosis con compromiso pulmonar], fibrosis pulmonar combinada con enfisema [fibrosis pulmonar combinada con enfisema]]</td>\n",
              "      <td>[0.1265, 0.1274, 0.1574, 0.1646, 0.1654, 0.1723, 0.1730, 0.1818, 0.1829, 0.1843, 0.1886, 0.1893]</td>\n",
              "    </tr>\n",
              "  </tbody>\n",
              "</table>\n",
              "</div>\n",
              "    <div class=\"colab-df-buttons\">\n",
              "\n",
              "  <div class=\"colab-df-container\">\n",
              "    <button class=\"colab-df-convert\" onclick=\"convertToInteractive('df-7f9a1ee9-e208-46ab-91b7-d0e29d1e8f9f')\"\n",
              "            title=\"Convert this dataframe to an interactive table.\"\n",
              "            style=\"display:none;\">\n",
              "\n",
              "  <svg xmlns=\"http://www.w3.org/2000/svg\" height=\"24px\" viewBox=\"0 -960 960 960\">\n",
              "    <path d=\"M120-120v-720h720v720H120Zm60-500h600v-160H180v160Zm220 220h160v-160H400v160Zm0 220h160v-160H400v160ZM180-400h160v-160H180v160Zm440 0h160v-160H620v160ZM180-180h160v-160H180v160Zm440 0h160v-160H620v160Z\"/>\n",
              "  </svg>\n",
              "    </button>\n",
              "\n",
              "  <style>\n",
              "    .colab-df-container {\n",
              "      display:flex;\n",
              "      gap: 12px;\n",
              "    }\n",
              "\n",
              "    .colab-df-convert {\n",
              "      background-color: #E8F0FE;\n",
              "      border: none;\n",
              "      border-radius: 50%;\n",
              "      cursor: pointer;\n",
              "      display: none;\n",
              "      fill: #1967D2;\n",
              "      height: 32px;\n",
              "      padding: 0 0 0 0;\n",
              "      width: 32px;\n",
              "    }\n",
              "\n",
              "    .colab-df-convert:hover {\n",
              "      background-color: #E2EBFA;\n",
              "      box-shadow: 0px 1px 2px rgba(60, 64, 67, 0.3), 0px 1px 3px 1px rgba(60, 64, 67, 0.15);\n",
              "      fill: #174EA6;\n",
              "    }\n",
              "\n",
              "    .colab-df-buttons div {\n",
              "      margin-bottom: 4px;\n",
              "    }\n",
              "\n",
              "    [theme=dark] .colab-df-convert {\n",
              "      background-color: #3B4455;\n",
              "      fill: #D2E3FC;\n",
              "    }\n",
              "\n",
              "    [theme=dark] .colab-df-convert:hover {\n",
              "      background-color: #434B5C;\n",
              "      box-shadow: 0px 1px 3px 1px rgba(0, 0, 0, 0.15);\n",
              "      filter: drop-shadow(0px 1px 2px rgba(0, 0, 0, 0.3));\n",
              "      fill: #FFFFFF;\n",
              "    }\n",
              "  </style>\n",
              "\n",
              "    <script>\n",
              "      const buttonEl =\n",
              "        document.querySelector('#df-7f9a1ee9-e208-46ab-91b7-d0e29d1e8f9f button.colab-df-convert');\n",
              "      buttonEl.style.display =\n",
              "        google.colab.kernel.accessAllowed ? 'block' : 'none';\n",
              "\n",
              "      async function convertToInteractive(key) {\n",
              "        const element = document.querySelector('#df-7f9a1ee9-e208-46ab-91b7-d0e29d1e8f9f');\n",
              "        const dataTable =\n",
              "          await google.colab.kernel.invokeFunction('convertToInteractive',\n",
              "                                                    [key], {});\n",
              "        if (!dataTable) return;\n",
              "\n",
              "        const docLinkHtml = 'Like what you see? Visit the ' +\n",
              "          '<a target=\"_blank\" href=https://colab.research.google.com/notebooks/data_table.ipynb>data table notebook</a>'\n",
              "          + ' to learn more about interactive tables.';\n",
              "        element.innerHTML = '';\n",
              "        dataTable['output_type'] = 'display_data';\n",
              "        await google.colab.output.renderOutput(dataTable, element);\n",
              "        const docLink = document.createElement('div');\n",
              "        docLink.innerHTML = docLinkHtml;\n",
              "        element.appendChild(docLink);\n",
              "      }\n",
              "    </script>\n",
              "  </div>\n",
              "\n",
              "\n",
              "    </div>\n",
              "  </div>\n"
            ],
            "text/plain": [
              "  chunks  begin  end      code  \\\n",
              "0  EPOC   0      3    13645005   \n",
              "\n",
              "                                                                                          resolution  \\\n",
              "0  [EPOC - enfermedad pulmonar obstructiva crónica [EPOC - enfermedad pulmonar obstructiva crónica]]   \n",
              "\n",
              "                                                                                                                          all_codes  \\\n",
              "0  [13645005, 135836000, 413839001, 297241004, 90616004, 17097001, 125295001, 233762004, 266899005, 185086009, 86555001, 708030004]   \n",
              "\n",
              "                                                                                                                                                                                                                                                                                                                                                                                                                                                                                                                                                                                                                                                                                                                                                                                                                                                                                  all_resolutions  \\\n",
              "0  [EPOC - enfermedad pulmonar obstructiva crónica [EPOC - enfermedad pulmonar obstructiva crónica], EPOC terminal [EPOC terminal], enfermedad pulmonar crónica [enfermedad pulmonar crónica], antecedente familiar de EPOC [antecedente familiar de EPOC], síndrome de hiperventilación crónica [síndrome de hiperventilación crónica], enfermedad respiratoria crónica [enfermedad respiratoria crónica], enfisema crónico [enfisema crónico], neumoconiosis crónica [neumoconiosis crónica], antecedente familiar de bronquitis/enfermedad pulmonar obstructiva crónica [antecedente familiar de bronquitis/enfermedad pulmonar obstructiva crónica], bronquitis crónica con enfisema [bronquitis crónica con enfisema], mucoviscidosis con compromiso pulmonar [mucoviscidosis con compromiso pulmonar], fibrosis pulmonar combinada con enfisema [fibrosis pulmonar combinada con enfisema]]   \n",
              "\n",
              "                                                                                  all_cos_distances  \n",
              "0  [0.1265, 0.1274, 0.1574, 0.1646, 0.1654, 0.1723, 0.1730, 0.1818, 0.1829, 0.1843, 0.1886, 0.1893]  "
            ]
          },
          "execution_count": 18,
          "metadata": {},
          "output_type": "execute_result"
        }
      ],
      "source": [
        "text = 'EPOC'\n",
        "\n",
        "%time get_codes (snomed_lp, text, vocab='snomed_code')"
      ]
    },
    {
      "cell_type": "code",
      "execution_count": 19,
      "metadata": {
        "colab": {
          "base_uri": "https://localhost:8080/",
          "height": 219
        },
        "id": "-yrls8qZALMc",
        "outputId": "3cd9f6af-ae73-4f3e-d424-fdd2ae2b5c67"
      },
      "outputs": [
        {
          "name": "stdout",
          "output_type": "stream",
          "text": [
            "CPU times: user 40 ms, sys: 10.4 ms, total: 50.3 ms\n",
            "Wall time: 2.38 s\n"
          ]
        },
        {
          "data": {
            "application/vnd.google.colaboratory.intrinsic+json": {
              "summary": "{\n  \"name\": \"get_ipython()\",\n  \"rows\": 1,\n  \"fields\": [\n    {\n      \"column\": \"chunks\",\n      \"properties\": {\n        \"dtype\": \"string\",\n        \"num_unique_values\": 1,\n        \"samples\": [\n          \"Insuficiencia card\\u00edaca congestiva\"\n        ],\n        \"semantic_type\": \"\",\n        \"description\": \"\"\n      }\n    },\n    {\n      \"column\": \"begin\",\n      \"properties\": {\n        \"dtype\": \"number\",\n        \"std\": null,\n        \"min\": 0,\n        \"max\": 0,\n        \"num_unique_values\": 1,\n        \"samples\": [\n          0\n        ],\n        \"semantic_type\": \"\",\n        \"description\": \"\"\n      }\n    },\n    {\n      \"column\": \"end\",\n      \"properties\": {\n        \"dtype\": \"number\",\n        \"std\": null,\n        \"min\": 32,\n        \"max\": 32,\n        \"num_unique_values\": 1,\n        \"samples\": [\n          32\n        ],\n        \"semantic_type\": \"\",\n        \"description\": \"\"\n      }\n    },\n    {\n      \"column\": \"code\",\n      \"properties\": {\n        \"dtype\": \"string\",\n        \"num_unique_values\": 1,\n        \"samples\": [\n          \"42343007\"\n        ],\n        \"semantic_type\": \"\",\n        \"description\": \"\"\n      }\n    },\n    {\n      \"column\": \"resolution\",\n      \"properties\": {\n        \"dtype\": \"object\",\n        \"semantic_type\": \"\",\n        \"description\": \"\"\n      }\n    },\n    {\n      \"column\": \"all_codes\",\n      \"properties\": {\n        \"dtype\": \"object\",\n        \"semantic_type\": \"\",\n        \"description\": \"\"\n      }\n    },\n    {\n      \"column\": \"all_resolutions\",\n      \"properties\": {\n        \"dtype\": \"object\",\n        \"semantic_type\": \"\",\n        \"description\": \"\"\n      }\n    },\n    {\n      \"column\": \"all_cos_distances\",\n      \"properties\": {\n        \"dtype\": \"object\",\n        \"semantic_type\": \"\",\n        \"description\": \"\"\n      }\n    }\n  ]\n}",
              "type": "dataframe"
            },
            "text/html": [
              "\n",
              "  <div id=\"df-cdc1a46c-66ce-4f6e-a0fb-8dcd236983ce\" class=\"colab-df-container\">\n",
              "    <div>\n",
              "<style scoped>\n",
              "    .dataframe tbody tr th:only-of-type {\n",
              "        vertical-align: middle;\n",
              "    }\n",
              "\n",
              "    .dataframe tbody tr th {\n",
              "        vertical-align: top;\n",
              "    }\n",
              "\n",
              "    .dataframe thead th {\n",
              "        text-align: right;\n",
              "    }\n",
              "</style>\n",
              "<table border=\"1\" class=\"dataframe\">\n",
              "  <thead>\n",
              "    <tr style=\"text-align: right;\">\n",
              "      <th></th>\n",
              "      <th>chunks</th>\n",
              "      <th>begin</th>\n",
              "      <th>end</th>\n",
              "      <th>code</th>\n",
              "      <th>resolution</th>\n",
              "      <th>all_codes</th>\n",
              "      <th>all_resolutions</th>\n",
              "      <th>all_cos_distances</th>\n",
              "    </tr>\n",
              "  </thead>\n",
              "  <tbody>\n",
              "    <tr>\n",
              "      <th>0</th>\n",
              "      <td>Insuficiencia cardíaca congestiva</td>\n",
              "      <td>0</td>\n",
              "      <td>32</td>\n",
              "      <td>42343007</td>\n",
              "      <td>[insuficiencia cardíaca congestiva [insuficiencia cardíaca congestiva]]</td>\n",
              "      <td>[42343007, 84114007, 88805009, 698594003, 48447003, 56265001, 128238001, 96311000119109, 105981003]</td>\n",
              "      <td>[insuficiencia cardíaca congestiva [insuficiencia cardíaca congestiva], insuficiencia cardíaca [insuficiencia cardíaca], insuficiencia cardíaca congestiva crónica [insuficiencia cardíaca congestiva crónica], insuficiencia cardíaca congestiva sintomática [insuficiencia cardíaca congestiva sintomática], insuficiencia cardíaca crónica [insuficiencia cardíaca crónica], cardiopatía (trastorno) [cardiopatía], cardiopatía crónica [cardiopatía crónica], exacerbación de insuficiencia cardíaca congestiva [exacerbación de insuficiencia cardíaca congestiva], disfunción cardíaca [disfunción cardíaca]]</td>\n",
              "      <td>[0.0007, 0.0409, 0.0657, 0.0689, 0.0898, 0.0944, 0.1124, 0.1259, 0.1327]</td>\n",
              "    </tr>\n",
              "  </tbody>\n",
              "</table>\n",
              "</div>\n",
              "    <div class=\"colab-df-buttons\">\n",
              "\n",
              "  <div class=\"colab-df-container\">\n",
              "    <button class=\"colab-df-convert\" onclick=\"convertToInteractive('df-cdc1a46c-66ce-4f6e-a0fb-8dcd236983ce')\"\n",
              "            title=\"Convert this dataframe to an interactive table.\"\n",
              "            style=\"display:none;\">\n",
              "\n",
              "  <svg xmlns=\"http://www.w3.org/2000/svg\" height=\"24px\" viewBox=\"0 -960 960 960\">\n",
              "    <path d=\"M120-120v-720h720v720H120Zm60-500h600v-160H180v160Zm220 220h160v-160H400v160Zm0 220h160v-160H400v160ZM180-400h160v-160H180v160Zm440 0h160v-160H620v160ZM180-180h160v-160H180v160Zm440 0h160v-160H620v160Z\"/>\n",
              "  </svg>\n",
              "    </button>\n",
              "\n",
              "  <style>\n",
              "    .colab-df-container {\n",
              "      display:flex;\n",
              "      gap: 12px;\n",
              "    }\n",
              "\n",
              "    .colab-df-convert {\n",
              "      background-color: #E8F0FE;\n",
              "      border: none;\n",
              "      border-radius: 50%;\n",
              "      cursor: pointer;\n",
              "      display: none;\n",
              "      fill: #1967D2;\n",
              "      height: 32px;\n",
              "      padding: 0 0 0 0;\n",
              "      width: 32px;\n",
              "    }\n",
              "\n",
              "    .colab-df-convert:hover {\n",
              "      background-color: #E2EBFA;\n",
              "      box-shadow: 0px 1px 2px rgba(60, 64, 67, 0.3), 0px 1px 3px 1px rgba(60, 64, 67, 0.15);\n",
              "      fill: #174EA6;\n",
              "    }\n",
              "\n",
              "    .colab-df-buttons div {\n",
              "      margin-bottom: 4px;\n",
              "    }\n",
              "\n",
              "    [theme=dark] .colab-df-convert {\n",
              "      background-color: #3B4455;\n",
              "      fill: #D2E3FC;\n",
              "    }\n",
              "\n",
              "    [theme=dark] .colab-df-convert:hover {\n",
              "      background-color: #434B5C;\n",
              "      box-shadow: 0px 1px 3px 1px rgba(0, 0, 0, 0.15);\n",
              "      filter: drop-shadow(0px 1px 2px rgba(0, 0, 0, 0.3));\n",
              "      fill: #FFFFFF;\n",
              "    }\n",
              "  </style>\n",
              "\n",
              "    <script>\n",
              "      const buttonEl =\n",
              "        document.querySelector('#df-cdc1a46c-66ce-4f6e-a0fb-8dcd236983ce button.colab-df-convert');\n",
              "      buttonEl.style.display =\n",
              "        google.colab.kernel.accessAllowed ? 'block' : 'none';\n",
              "\n",
              "      async function convertToInteractive(key) {\n",
              "        const element = document.querySelector('#df-cdc1a46c-66ce-4f6e-a0fb-8dcd236983ce');\n",
              "        const dataTable =\n",
              "          await google.colab.kernel.invokeFunction('convertToInteractive',\n",
              "                                                    [key], {});\n",
              "        if (!dataTable) return;\n",
              "\n",
              "        const docLinkHtml = 'Like what you see? Visit the ' +\n",
              "          '<a target=\"_blank\" href=https://colab.research.google.com/notebooks/data_table.ipynb>data table notebook</a>'\n",
              "          + ' to learn more about interactive tables.';\n",
              "        element.innerHTML = '';\n",
              "        dataTable['output_type'] = 'display_data';\n",
              "        await google.colab.output.renderOutput(dataTable, element);\n",
              "        const docLink = document.createElement('div');\n",
              "        docLink.innerHTML = docLinkHtml;\n",
              "        element.appendChild(docLink);\n",
              "      }\n",
              "    </script>\n",
              "  </div>\n",
              "\n",
              "\n",
              "    </div>\n",
              "  </div>\n"
            ],
            "text/plain": [
              "                              chunks  begin  end      code  \\\n",
              "0  Insuficiencia cardíaca congestiva  0      32   42343007   \n",
              "\n",
              "                                                                resolution  \\\n",
              "0  [insuficiencia cardíaca congestiva [insuficiencia cardíaca congestiva]]   \n",
              "\n",
              "                                                                                             all_codes  \\\n",
              "0  [42343007, 84114007, 88805009, 698594003, 48447003, 56265001, 128238001, 96311000119109, 105981003]   \n",
              "\n",
              "                                                                                                                                                                                                                                                                                                                                                                                                                                                                                                                                                                                                       all_resolutions  \\\n",
              "0  [insuficiencia cardíaca congestiva [insuficiencia cardíaca congestiva], insuficiencia cardíaca [insuficiencia cardíaca], insuficiencia cardíaca congestiva crónica [insuficiencia cardíaca congestiva crónica], insuficiencia cardíaca congestiva sintomática [insuficiencia cardíaca congestiva sintomática], insuficiencia cardíaca crónica [insuficiencia cardíaca crónica], cardiopatía (trastorno) [cardiopatía], cardiopatía crónica [cardiopatía crónica], exacerbación de insuficiencia cardíaca congestiva [exacerbación de insuficiencia cardíaca congestiva], disfunción cardíaca [disfunción cardíaca]]   \n",
              "\n",
              "                                                          all_cos_distances  \n",
              "0  [0.0007, 0.0409, 0.0657, 0.0689, 0.0898, 0.0944, 0.1124, 0.1259, 0.1327]  "
            ]
          },
          "execution_count": 19,
          "metadata": {},
          "output_type": "execute_result"
        }
      ],
      "source": [
        "text = 'Insuficiencia cardíaca congestiva'\n",
        "\n",
        "%time get_codes (snomed_lp, text, vocab='snomed_code')"
      ]
    },
    {
      "cell_type": "code",
      "execution_count": 20,
      "metadata": {
        "colab": {
          "base_uri": "https://localhost:8080/",
          "height": 237
        },
        "id": "Kw9ULweSB-UE",
        "outputId": "98ff159a-bf7c-4e17-893a-6ef3cd54d172"
      },
      "outputs": [
        {
          "name": "stdout",
          "output_type": "stream",
          "text": [
            "CPU times: user 44.4 ms, sys: 10.9 ms, total: 55.3 ms\n",
            "Wall time: 2.38 s\n"
          ]
        },
        {
          "data": {
            "application/vnd.google.colaboratory.intrinsic+json": {
              "summary": "{\n  \"name\": \"get_ipython()\",\n  \"rows\": 1,\n  \"fields\": [\n    {\n      \"column\": \"chunks\",\n      \"properties\": {\n        \"dtype\": \"string\",\n        \"num_unique_values\": 1,\n        \"samples\": [\n          \"TB\"\n        ],\n        \"semantic_type\": \"\",\n        \"description\": \"\"\n      }\n    },\n    {\n      \"column\": \"begin\",\n      \"properties\": {\n        \"dtype\": \"number\",\n        \"std\": null,\n        \"min\": 0,\n        \"max\": 0,\n        \"num_unique_values\": 1,\n        \"samples\": [\n          0\n        ],\n        \"semantic_type\": \"\",\n        \"description\": \"\"\n      }\n    },\n    {\n      \"column\": \"end\",\n      \"properties\": {\n        \"dtype\": \"number\",\n        \"std\": null,\n        \"min\": 1,\n        \"max\": 1,\n        \"num_unique_values\": 1,\n        \"samples\": [\n          1\n        ],\n        \"semantic_type\": \"\",\n        \"description\": \"\"\n      }\n    },\n    {\n      \"column\": \"code\",\n      \"properties\": {\n        \"dtype\": \"string\",\n        \"num_unique_values\": 1,\n        \"samples\": [\n          \"56717001\"\n        ],\n        \"semantic_type\": \"\",\n        \"description\": \"\"\n      }\n    },\n    {\n      \"column\": \"resolution\",\n      \"properties\": {\n        \"dtype\": \"object\",\n        \"semantic_type\": \"\",\n        \"description\": \"\"\n      }\n    },\n    {\n      \"column\": \"all_codes\",\n      \"properties\": {\n        \"dtype\": \"object\",\n        \"semantic_type\": \"\",\n        \"description\": \"\"\n      }\n    },\n    {\n      \"column\": \"all_resolutions\",\n      \"properties\": {\n        \"dtype\": \"object\",\n        \"semantic_type\": \"\",\n        \"description\": \"\"\n      }\n    },\n    {\n      \"column\": \"all_cos_distances\",\n      \"properties\": {\n        \"dtype\": \"object\",\n        \"semantic_type\": \"\",\n        \"description\": \"\"\n      }\n    }\n  ]\n}",
              "type": "dataframe"
            },
            "text/html": [
              "\n",
              "  <div id=\"df-2b871876-7518-471e-96ba-9c70bde05309\" class=\"colab-df-container\">\n",
              "    <div>\n",
              "<style scoped>\n",
              "    .dataframe tbody tr th:only-of-type {\n",
              "        vertical-align: middle;\n",
              "    }\n",
              "\n",
              "    .dataframe tbody tr th {\n",
              "        vertical-align: top;\n",
              "    }\n",
              "\n",
              "    .dataframe thead th {\n",
              "        text-align: right;\n",
              "    }\n",
              "</style>\n",
              "<table border=\"1\" class=\"dataframe\">\n",
              "  <thead>\n",
              "    <tr style=\"text-align: right;\">\n",
              "      <th></th>\n",
              "      <th>chunks</th>\n",
              "      <th>begin</th>\n",
              "      <th>end</th>\n",
              "      <th>code</th>\n",
              "      <th>resolution</th>\n",
              "      <th>all_codes</th>\n",
              "      <th>all_resolutions</th>\n",
              "      <th>all_cos_distances</th>\n",
              "    </tr>\n",
              "  </thead>\n",
              "  <tbody>\n",
              "    <tr>\n",
              "      <th>0</th>\n",
              "      <td>TB</td>\n",
              "      <td>0</td>\n",
              "      <td>1</td>\n",
              "      <td>56717001</td>\n",
              "      <td>[tuberculosis [tuberculosis]]</td>\n",
              "      <td>[56717001, 186269001, 373576009, 63309002, 427099000, 15202009, 415760001, 25629007, 88356006, 51014003, 36354002, 154283005, 22990009, 423997002, 123583002]</td>\n",
              "      <td>[tuberculosis [tuberculosis], tuberculosis ótica [tuberculosis ótica], infección causada por Mycobacterium tuberculosis (trastorno) [infección causada por Mycobacterium tuberculosis], tuberculosis primaria [tuberculosis primaria], tuberculosis activa [tuberculosis activa], tuberculoma (trastorno) [tuberculoma], tuberculosis-estado [tuberculosis-estado], tuberculosis aguda (trastorno) [tuberculosis aguda], complejo primario tuberculoso (trastorno) [complejo primario tuberculoso], tuberculosis secundaria [tuberculosis secundaria], bacilo de la tuberculosis humana [bacilo de la tuberculosis humana], tuberculosis pulmonar (trastorno) [tuberculosis pulmonar], tuberculosis crónica [tuberculosis crónica], TB extrapulmonar [TB extrapulmonar], tubercúlide [tubercúlide]]</td>\n",
              "      <td>[0.0112, 0.0316, 0.1233, 0.1237, 0.1259, 0.1522, 0.1658, 0.1665, 0.1696, 0.1861, 0.2058, 0.2130, 0.2142, 0.2182, 0.2184]</td>\n",
              "    </tr>\n",
              "  </tbody>\n",
              "</table>\n",
              "</div>\n",
              "    <div class=\"colab-df-buttons\">\n",
              "\n",
              "  <div class=\"colab-df-container\">\n",
              "    <button class=\"colab-df-convert\" onclick=\"convertToInteractive('df-2b871876-7518-471e-96ba-9c70bde05309')\"\n",
              "            title=\"Convert this dataframe to an interactive table.\"\n",
              "            style=\"display:none;\">\n",
              "\n",
              "  <svg xmlns=\"http://www.w3.org/2000/svg\" height=\"24px\" viewBox=\"0 -960 960 960\">\n",
              "    <path d=\"M120-120v-720h720v720H120Zm60-500h600v-160H180v160Zm220 220h160v-160H400v160Zm0 220h160v-160H400v160ZM180-400h160v-160H180v160Zm440 0h160v-160H620v160ZM180-180h160v-160H180v160Zm440 0h160v-160H620v160Z\"/>\n",
              "  </svg>\n",
              "    </button>\n",
              "\n",
              "  <style>\n",
              "    .colab-df-container {\n",
              "      display:flex;\n",
              "      gap: 12px;\n",
              "    }\n",
              "\n",
              "    .colab-df-convert {\n",
              "      background-color: #E8F0FE;\n",
              "      border: none;\n",
              "      border-radius: 50%;\n",
              "      cursor: pointer;\n",
              "      display: none;\n",
              "      fill: #1967D2;\n",
              "      height: 32px;\n",
              "      padding: 0 0 0 0;\n",
              "      width: 32px;\n",
              "    }\n",
              "\n",
              "    .colab-df-convert:hover {\n",
              "      background-color: #E2EBFA;\n",
              "      box-shadow: 0px 1px 2px rgba(60, 64, 67, 0.3), 0px 1px 3px 1px rgba(60, 64, 67, 0.15);\n",
              "      fill: #174EA6;\n",
              "    }\n",
              "\n",
              "    .colab-df-buttons div {\n",
              "      margin-bottom: 4px;\n",
              "    }\n",
              "\n",
              "    [theme=dark] .colab-df-convert {\n",
              "      background-color: #3B4455;\n",
              "      fill: #D2E3FC;\n",
              "    }\n",
              "\n",
              "    [theme=dark] .colab-df-convert:hover {\n",
              "      background-color: #434B5C;\n",
              "      box-shadow: 0px 1px 3px 1px rgba(0, 0, 0, 0.15);\n",
              "      filter: drop-shadow(0px 1px 2px rgba(0, 0, 0, 0.3));\n",
              "      fill: #FFFFFF;\n",
              "    }\n",
              "  </style>\n",
              "\n",
              "    <script>\n",
              "      const buttonEl =\n",
              "        document.querySelector('#df-2b871876-7518-471e-96ba-9c70bde05309 button.colab-df-convert');\n",
              "      buttonEl.style.display =\n",
              "        google.colab.kernel.accessAllowed ? 'block' : 'none';\n",
              "\n",
              "      async function convertToInteractive(key) {\n",
              "        const element = document.querySelector('#df-2b871876-7518-471e-96ba-9c70bde05309');\n",
              "        const dataTable =\n",
              "          await google.colab.kernel.invokeFunction('convertToInteractive',\n",
              "                                                    [key], {});\n",
              "        if (!dataTable) return;\n",
              "\n",
              "        const docLinkHtml = 'Like what you see? Visit the ' +\n",
              "          '<a target=\"_blank\" href=https://colab.research.google.com/notebooks/data_table.ipynb>data table notebook</a>'\n",
              "          + ' to learn more about interactive tables.';\n",
              "        element.innerHTML = '';\n",
              "        dataTable['output_type'] = 'display_data';\n",
              "        await google.colab.output.renderOutput(dataTable, element);\n",
              "        const docLink = document.createElement('div');\n",
              "        docLink.innerHTML = docLinkHtml;\n",
              "        element.appendChild(docLink);\n",
              "      }\n",
              "    </script>\n",
              "  </div>\n",
              "\n",
              "\n",
              "    </div>\n",
              "  </div>\n"
            ],
            "text/plain": [
              "  chunks  begin  end      code                     resolution  \\\n",
              "0  TB     0      1    56717001  [tuberculosis [tuberculosis]]   \n",
              "\n",
              "                                                                                                                                                       all_codes  \\\n",
              "0  [56717001, 186269001, 373576009, 63309002, 427099000, 15202009, 415760001, 25629007, 88356006, 51014003, 36354002, 154283005, 22990009, 423997002, 123583002]   \n",
              "\n",
              "                                                                                                                                                                                                                                                                                                                                                                                                                                                                                                                                                                                                                                                                                                                                                                                       all_resolutions  \\\n",
              "0  [tuberculosis [tuberculosis], tuberculosis ótica [tuberculosis ótica], infección causada por Mycobacterium tuberculosis (trastorno) [infección causada por Mycobacterium tuberculosis], tuberculosis primaria [tuberculosis primaria], tuberculosis activa [tuberculosis activa], tuberculoma (trastorno) [tuberculoma], tuberculosis-estado [tuberculosis-estado], tuberculosis aguda (trastorno) [tuberculosis aguda], complejo primario tuberculoso (trastorno) [complejo primario tuberculoso], tuberculosis secundaria [tuberculosis secundaria], bacilo de la tuberculosis humana [bacilo de la tuberculosis humana], tuberculosis pulmonar (trastorno) [tuberculosis pulmonar], tuberculosis crónica [tuberculosis crónica], TB extrapulmonar [TB extrapulmonar], tubercúlide [tubercúlide]]   \n",
              "\n",
              "                                                                                                          all_cos_distances  \n",
              "0  [0.0112, 0.0316, 0.1233, 0.1237, 0.1259, 0.1522, 0.1658, 0.1665, 0.1696, 0.1861, 0.2058, 0.2130, 0.2142, 0.2182, 0.2184]  "
            ]
          },
          "execution_count": 20,
          "metadata": {},
          "output_type": "execute_result"
        }
      ],
      "source": [
        "text = 'TB'\n",
        "\n",
        "%time get_codes (snomed_lp, text, vocab='snomed_code')"
      ]
    },
    {
      "cell_type": "code",
      "execution_count": 21,
      "metadata": {
        "colab": {
          "base_uri": "https://localhost:8080/",
          "height": 219
        },
        "id": "c0UzJ_7J7-DZ",
        "outputId": "132078b1-0641-467f-bc41-9bf9a2f4df4c"
      },
      "outputs": [
        {
          "name": "stdout",
          "output_type": "stream",
          "text": [
            "CPU times: user 48.7 ms, sys: 11.1 ms, total: 59.8 ms\n",
            "Wall time: 2.63 s\n"
          ]
        },
        {
          "data": {
            "application/vnd.google.colaboratory.intrinsic+json": {
              "summary": "{\n  \"name\": \"get_ipython()\",\n  \"rows\": 1,\n  \"fields\": [\n    {\n      \"column\": \"chunks\",\n      \"properties\": {\n        \"dtype\": \"string\",\n        \"num_unique_values\": 1,\n        \"samples\": [\n          \"Dolor de cabeza\"\n        ],\n        \"semantic_type\": \"\",\n        \"description\": \"\"\n      }\n    },\n    {\n      \"column\": \"begin\",\n      \"properties\": {\n        \"dtype\": \"number\",\n        \"std\": null,\n        \"min\": 0,\n        \"max\": 0,\n        \"num_unique_values\": 1,\n        \"samples\": [\n          0\n        ],\n        \"semantic_type\": \"\",\n        \"description\": \"\"\n      }\n    },\n    {\n      \"column\": \"end\",\n      \"properties\": {\n        \"dtype\": \"number\",\n        \"std\": null,\n        \"min\": 14,\n        \"max\": 14,\n        \"num_unique_values\": 1,\n        \"samples\": [\n          14\n        ],\n        \"semantic_type\": \"\",\n        \"description\": \"\"\n      }\n    },\n    {\n      \"column\": \"code\",\n      \"properties\": {\n        \"dtype\": \"string\",\n        \"num_unique_values\": 1,\n        \"samples\": [\n          \"25064002\"\n        ],\n        \"semantic_type\": \"\",\n        \"description\": \"\"\n      }\n    },\n    {\n      \"column\": \"resolution\",\n      \"properties\": {\n        \"dtype\": \"object\",\n        \"semantic_type\": \"\",\n        \"description\": \"\"\n      }\n    },\n    {\n      \"column\": \"all_codes\",\n      \"properties\": {\n        \"dtype\": \"object\",\n        \"semantic_type\": \"\",\n        \"description\": \"\"\n      }\n    },\n    {\n      \"column\": \"all_resolutions\",\n      \"properties\": {\n        \"dtype\": \"object\",\n        \"semantic_type\": \"\",\n        \"description\": \"\"\n      }\n    },\n    {\n      \"column\": \"all_cos_distances\",\n      \"properties\": {\n        \"dtype\": \"object\",\n        \"semantic_type\": \"\",\n        \"description\": \"\"\n      }\n    }\n  ]\n}",
              "type": "dataframe"
            },
            "text/html": [
              "\n",
              "  <div id=\"df-bc87719f-72bb-4cd9-adbd-23d3ac610698\" class=\"colab-df-container\">\n",
              "    <div>\n",
              "<style scoped>\n",
              "    .dataframe tbody tr th:only-of-type {\n",
              "        vertical-align: middle;\n",
              "    }\n",
              "\n",
              "    .dataframe tbody tr th {\n",
              "        vertical-align: top;\n",
              "    }\n",
              "\n",
              "    .dataframe thead th {\n",
              "        text-align: right;\n",
              "    }\n",
              "</style>\n",
              "<table border=\"1\" class=\"dataframe\">\n",
              "  <thead>\n",
              "    <tr style=\"text-align: right;\">\n",
              "      <th></th>\n",
              "      <th>chunks</th>\n",
              "      <th>begin</th>\n",
              "      <th>end</th>\n",
              "      <th>code</th>\n",
              "      <th>resolution</th>\n",
              "      <th>all_codes</th>\n",
              "      <th>all_resolutions</th>\n",
              "      <th>all_cos_distances</th>\n",
              "    </tr>\n",
              "  </thead>\n",
              "  <tbody>\n",
              "    <tr>\n",
              "      <th>0</th>\n",
              "      <td>Dolor de cabeza</td>\n",
              "      <td>0</td>\n",
              "      <td>14</td>\n",
              "      <td>25064002</td>\n",
              "      <td>[dolor de cabeza [dolor de cabeza]]</td>\n",
              "      <td>[25064002, 230461009, 735938006, 193031009, 398057008, 364760007, 162309007, 122711000119109, 1263575002, 712831003, 425839000, 162307009]</td>\n",
              "      <td>[dolor de cabeza [dolor de cabeza], trastorno relativo a la cefalea [trastorno relativo a la cefalea], cefalea aguda [cefalea aguda], cefalea en acúmulos [cefalea en acúmulos], cefalea por tensión [cefalea por tensión], características de la cefalea - hallazgo [características de la cefalea - hallazgo], cefalea fulgurante [cefalea fulgurante], cefalea despertador [cefalea despertador], cefalea en forma de moneda [cefalea en forma de moneda], cefaleas frecuentes [cefaleas frecuentes], dolor irradiado a la cabeza [dolor irradiado a la cabeza], cefalea continua [cefalea continua]]</td>\n",
              "      <td>[0.0011, 0.0508, 0.0655, 0.0664, 0.0688, 0.0820, 0.0823, 0.1068, 0.1088, 0.1126, 0.1134, 0.1135]</td>\n",
              "    </tr>\n",
              "  </tbody>\n",
              "</table>\n",
              "</div>\n",
              "    <div class=\"colab-df-buttons\">\n",
              "\n",
              "  <div class=\"colab-df-container\">\n",
              "    <button class=\"colab-df-convert\" onclick=\"convertToInteractive('df-bc87719f-72bb-4cd9-adbd-23d3ac610698')\"\n",
              "            title=\"Convert this dataframe to an interactive table.\"\n",
              "            style=\"display:none;\">\n",
              "\n",
              "  <svg xmlns=\"http://www.w3.org/2000/svg\" height=\"24px\" viewBox=\"0 -960 960 960\">\n",
              "    <path d=\"M120-120v-720h720v720H120Zm60-500h600v-160H180v160Zm220 220h160v-160H400v160Zm0 220h160v-160H400v160ZM180-400h160v-160H180v160Zm440 0h160v-160H620v160ZM180-180h160v-160H180v160Zm440 0h160v-160H620v160Z\"/>\n",
              "  </svg>\n",
              "    </button>\n",
              "\n",
              "  <style>\n",
              "    .colab-df-container {\n",
              "      display:flex;\n",
              "      gap: 12px;\n",
              "    }\n",
              "\n",
              "    .colab-df-convert {\n",
              "      background-color: #E8F0FE;\n",
              "      border: none;\n",
              "      border-radius: 50%;\n",
              "      cursor: pointer;\n",
              "      display: none;\n",
              "      fill: #1967D2;\n",
              "      height: 32px;\n",
              "      padding: 0 0 0 0;\n",
              "      width: 32px;\n",
              "    }\n",
              "\n",
              "    .colab-df-convert:hover {\n",
              "      background-color: #E2EBFA;\n",
              "      box-shadow: 0px 1px 2px rgba(60, 64, 67, 0.3), 0px 1px 3px 1px rgba(60, 64, 67, 0.15);\n",
              "      fill: #174EA6;\n",
              "    }\n",
              "\n",
              "    .colab-df-buttons div {\n",
              "      margin-bottom: 4px;\n",
              "    }\n",
              "\n",
              "    [theme=dark] .colab-df-convert {\n",
              "      background-color: #3B4455;\n",
              "      fill: #D2E3FC;\n",
              "    }\n",
              "\n",
              "    [theme=dark] .colab-df-convert:hover {\n",
              "      background-color: #434B5C;\n",
              "      box-shadow: 0px 1px 3px 1px rgba(0, 0, 0, 0.15);\n",
              "      filter: drop-shadow(0px 1px 2px rgba(0, 0, 0, 0.3));\n",
              "      fill: #FFFFFF;\n",
              "    }\n",
              "  </style>\n",
              "\n",
              "    <script>\n",
              "      const buttonEl =\n",
              "        document.querySelector('#df-bc87719f-72bb-4cd9-adbd-23d3ac610698 button.colab-df-convert');\n",
              "      buttonEl.style.display =\n",
              "        google.colab.kernel.accessAllowed ? 'block' : 'none';\n",
              "\n",
              "      async function convertToInteractive(key) {\n",
              "        const element = document.querySelector('#df-bc87719f-72bb-4cd9-adbd-23d3ac610698');\n",
              "        const dataTable =\n",
              "          await google.colab.kernel.invokeFunction('convertToInteractive',\n",
              "                                                    [key], {});\n",
              "        if (!dataTable) return;\n",
              "\n",
              "        const docLinkHtml = 'Like what you see? Visit the ' +\n",
              "          '<a target=\"_blank\" href=https://colab.research.google.com/notebooks/data_table.ipynb>data table notebook</a>'\n",
              "          + ' to learn more about interactive tables.';\n",
              "        element.innerHTML = '';\n",
              "        dataTable['output_type'] = 'display_data';\n",
              "        await google.colab.output.renderOutput(dataTable, element);\n",
              "        const docLink = document.createElement('div');\n",
              "        docLink.innerHTML = docLinkHtml;\n",
              "        element.appendChild(docLink);\n",
              "      }\n",
              "    </script>\n",
              "  </div>\n",
              "\n",
              "\n",
              "    </div>\n",
              "  </div>\n"
            ],
            "text/plain": [
              "            chunks  begin  end      code                           resolution  \\\n",
              "0  Dolor de cabeza  0      14   25064002  [dolor de cabeza [dolor de cabeza]]   \n",
              "\n",
              "                                                                                                                                    all_codes  \\\n",
              "0  [25064002, 230461009, 735938006, 193031009, 398057008, 364760007, 162309007, 122711000119109, 1263575002, 712831003, 425839000, 162307009]   \n",
              "\n",
              "                                                                                                                                                                                                                                                                                                                                                                                                                                                                                                                                                                                            all_resolutions  \\\n",
              "0  [dolor de cabeza [dolor de cabeza], trastorno relativo a la cefalea [trastorno relativo a la cefalea], cefalea aguda [cefalea aguda], cefalea en acúmulos [cefalea en acúmulos], cefalea por tensión [cefalea por tensión], características de la cefalea - hallazgo [características de la cefalea - hallazgo], cefalea fulgurante [cefalea fulgurante], cefalea despertador [cefalea despertador], cefalea en forma de moneda [cefalea en forma de moneda], cefaleas frecuentes [cefaleas frecuentes], dolor irradiado a la cabeza [dolor irradiado a la cabeza], cefalea continua [cefalea continua]]   \n",
              "\n",
              "                                                                                  all_cos_distances  \n",
              "0  [0.0011, 0.0508, 0.0655, 0.0664, 0.0688, 0.0820, 0.0823, 0.1068, 0.1088, 0.1126, 0.1134, 0.1135]  "
            ]
          },
          "execution_count": 21,
          "metadata": {},
          "output_type": "execute_result"
        }
      ],
      "source": [
        "text = 'Dolor de cabeza'\n",
        "\n",
        "%time get_codes (snomed_lp, text, vocab='snomed_code')"
      ]
    },
    {
      "cell_type": "code",
      "execution_count": 22,
      "metadata": {
        "colab": {
          "base_uri": "https://localhost:8080/",
          "height": 219
        },
        "id": "nrNwhEqk8DHT",
        "outputId": "49939362-da13-49df-d46d-e6c01d033415"
      },
      "outputs": [
        {
          "name": "stdout",
          "output_type": "stream",
          "text": [
            "CPU times: user 38.3 ms, sys: 11.8 ms, total: 50.2 ms\n",
            "Wall time: 2.26 s\n"
          ]
        },
        {
          "data": {
            "application/vnd.google.colaboratory.intrinsic+json": {
              "summary": "{\n  \"name\": \"get_ipython()\",\n  \"rows\": 1,\n  \"fields\": [\n    {\n      \"column\": \"chunks\",\n      \"properties\": {\n        \"dtype\": \"string\",\n        \"num_unique_values\": 1,\n        \"samples\": [\n          \"Embarazo\"\n        ],\n        \"semantic_type\": \"\",\n        \"description\": \"\"\n      }\n    },\n    {\n      \"column\": \"begin\",\n      \"properties\": {\n        \"dtype\": \"number\",\n        \"std\": null,\n        \"min\": 0,\n        \"max\": 0,\n        \"num_unique_values\": 1,\n        \"samples\": [\n          0\n        ],\n        \"semantic_type\": \"\",\n        \"description\": \"\"\n      }\n    },\n    {\n      \"column\": \"end\",\n      \"properties\": {\n        \"dtype\": \"number\",\n        \"std\": null,\n        \"min\": 7,\n        \"max\": 7,\n        \"num_unique_values\": 1,\n        \"samples\": [\n          7\n        ],\n        \"semantic_type\": \"\",\n        \"description\": \"\"\n      }\n    },\n    {\n      \"column\": \"code\",\n      \"properties\": {\n        \"dtype\": \"string\",\n        \"num_unique_values\": 1,\n        \"samples\": [\n          \"289908002\"\n        ],\n        \"semantic_type\": \"\",\n        \"description\": \"\"\n      }\n    },\n    {\n      \"column\": \"resolution\",\n      \"properties\": {\n        \"dtype\": \"object\",\n        \"semantic_type\": \"\",\n        \"description\": \"\"\n      }\n    },\n    {\n      \"column\": \"all_codes\",\n      \"properties\": {\n        \"dtype\": \"object\",\n        \"semantic_type\": \"\",\n        \"description\": \"\"\n      }\n    },\n    {\n      \"column\": \"all_resolutions\",\n      \"properties\": {\n        \"dtype\": \"object\",\n        \"semantic_type\": \"\",\n        \"description\": \"\"\n      }\n    },\n    {\n      \"column\": \"all_cos_distances\",\n      \"properties\": {\n        \"dtype\": \"object\",\n        \"semantic_type\": \"\",\n        \"description\": \"\"\n      }\n    }\n  ]\n}",
              "type": "dataframe"
            },
            "text/html": [
              "\n",
              "  <div id=\"df-a58b3a42-e1b3-4f99-a159-4ce79a6a4f43\" class=\"colab-df-container\">\n",
              "    <div>\n",
              "<style scoped>\n",
              "    .dataframe tbody tr th:only-of-type {\n",
              "        vertical-align: middle;\n",
              "    }\n",
              "\n",
              "    .dataframe tbody tr th {\n",
              "        vertical-align: top;\n",
              "    }\n",
              "\n",
              "    .dataframe thead th {\n",
              "        text-align: right;\n",
              "    }\n",
              "</style>\n",
              "<table border=\"1\" class=\"dataframe\">\n",
              "  <thead>\n",
              "    <tr style=\"text-align: right;\">\n",
              "      <th></th>\n",
              "      <th>chunks</th>\n",
              "      <th>begin</th>\n",
              "      <th>end</th>\n",
              "      <th>code</th>\n",
              "      <th>resolution</th>\n",
              "      <th>all_codes</th>\n",
              "      <th>all_resolutions</th>\n",
              "      <th>all_cos_distances</th>\n",
              "    </tr>\n",
              "  </thead>\n",
              "  <tbody>\n",
              "    <tr>\n",
              "      <th>0</th>\n",
              "      <td>Embarazo</td>\n",
              "      <td>0</td>\n",
              "      <td>7</td>\n",
              "      <td>289908002</td>\n",
              "      <td>[embarazo [embarazo]]</td>\n",
              "      <td>[289908002, 161732006, 77386006, 255409004, 169563005, 127364007, 366321006, 118185001, 169565003, 87527008, 9899009, 276986009]</td>\n",
              "      <td>[embarazo [embarazo], embarazada [embarazada], embarazada (hallazgo) [embarazo confirmado], mujer embarazada (persona) [mujer embarazada], embarazada - en historia clínica (hallazgo) [embarazada - en historia clínica], primigesta (hallazgo) [primigesta], embarazo - hallazgo [embarazo - hallazgo], hallazgo relacionado con el embarazo [hallazgo relacionado con el embarazo], embarazada - gestación planeada (hallazgo) [embarazada - gestación planeada], embarazo a término (hallazgo) [embarazo a término], embarazo ovárico [embarazo ovárico], preparto [preparto]]</td>\n",
              "      <td>[0.0231, 0.0420, 0.0707, 0.1157, 0.1558, 0.1595, 0.1705, 0.1837, 0.1886, 0.1981, 0.2086, 0.2177]</td>\n",
              "    </tr>\n",
              "  </tbody>\n",
              "</table>\n",
              "</div>\n",
              "    <div class=\"colab-df-buttons\">\n",
              "\n",
              "  <div class=\"colab-df-container\">\n",
              "    <button class=\"colab-df-convert\" onclick=\"convertToInteractive('df-a58b3a42-e1b3-4f99-a159-4ce79a6a4f43')\"\n",
              "            title=\"Convert this dataframe to an interactive table.\"\n",
              "            style=\"display:none;\">\n",
              "\n",
              "  <svg xmlns=\"http://www.w3.org/2000/svg\" height=\"24px\" viewBox=\"0 -960 960 960\">\n",
              "    <path d=\"M120-120v-720h720v720H120Zm60-500h600v-160H180v160Zm220 220h160v-160H400v160Zm0 220h160v-160H400v160ZM180-400h160v-160H180v160Zm440 0h160v-160H620v160ZM180-180h160v-160H180v160Zm440 0h160v-160H620v160Z\"/>\n",
              "  </svg>\n",
              "    </button>\n",
              "\n",
              "  <style>\n",
              "    .colab-df-container {\n",
              "      display:flex;\n",
              "      gap: 12px;\n",
              "    }\n",
              "\n",
              "    .colab-df-convert {\n",
              "      background-color: #E8F0FE;\n",
              "      border: none;\n",
              "      border-radius: 50%;\n",
              "      cursor: pointer;\n",
              "      display: none;\n",
              "      fill: #1967D2;\n",
              "      height: 32px;\n",
              "      padding: 0 0 0 0;\n",
              "      width: 32px;\n",
              "    }\n",
              "\n",
              "    .colab-df-convert:hover {\n",
              "      background-color: #E2EBFA;\n",
              "      box-shadow: 0px 1px 2px rgba(60, 64, 67, 0.3), 0px 1px 3px 1px rgba(60, 64, 67, 0.15);\n",
              "      fill: #174EA6;\n",
              "    }\n",
              "\n",
              "    .colab-df-buttons div {\n",
              "      margin-bottom: 4px;\n",
              "    }\n",
              "\n",
              "    [theme=dark] .colab-df-convert {\n",
              "      background-color: #3B4455;\n",
              "      fill: #D2E3FC;\n",
              "    }\n",
              "\n",
              "    [theme=dark] .colab-df-convert:hover {\n",
              "      background-color: #434B5C;\n",
              "      box-shadow: 0px 1px 3px 1px rgba(0, 0, 0, 0.15);\n",
              "      filter: drop-shadow(0px 1px 2px rgba(0, 0, 0, 0.3));\n",
              "      fill: #FFFFFF;\n",
              "    }\n",
              "  </style>\n",
              "\n",
              "    <script>\n",
              "      const buttonEl =\n",
              "        document.querySelector('#df-a58b3a42-e1b3-4f99-a159-4ce79a6a4f43 button.colab-df-convert');\n",
              "      buttonEl.style.display =\n",
              "        google.colab.kernel.accessAllowed ? 'block' : 'none';\n",
              "\n",
              "      async function convertToInteractive(key) {\n",
              "        const element = document.querySelector('#df-a58b3a42-e1b3-4f99-a159-4ce79a6a4f43');\n",
              "        const dataTable =\n",
              "          await google.colab.kernel.invokeFunction('convertToInteractive',\n",
              "                                                    [key], {});\n",
              "        if (!dataTable) return;\n",
              "\n",
              "        const docLinkHtml = 'Like what you see? Visit the ' +\n",
              "          '<a target=\"_blank\" href=https://colab.research.google.com/notebooks/data_table.ipynb>data table notebook</a>'\n",
              "          + ' to learn more about interactive tables.';\n",
              "        element.innerHTML = '';\n",
              "        dataTable['output_type'] = 'display_data';\n",
              "        await google.colab.output.renderOutput(dataTable, element);\n",
              "        const docLink = document.createElement('div');\n",
              "        docLink.innerHTML = docLinkHtml;\n",
              "        element.appendChild(docLink);\n",
              "      }\n",
              "    </script>\n",
              "  </div>\n",
              "\n",
              "\n",
              "    </div>\n",
              "  </div>\n"
            ],
            "text/plain": [
              "     chunks  begin  end       code             resolution  \\\n",
              "0  Embarazo  0      7    289908002  [embarazo [embarazo]]   \n",
              "\n",
              "                                                                                                                          all_codes  \\\n",
              "0  [289908002, 161732006, 77386006, 255409004, 169563005, 127364007, 366321006, 118185001, 169565003, 87527008, 9899009, 276986009]   \n",
              "\n",
              "                                                                                                                                                                                                                                                                                                                                                                                                                                                                                                                                                                      all_resolutions  \\\n",
              "0  [embarazo [embarazo], embarazada [embarazada], embarazada (hallazgo) [embarazo confirmado], mujer embarazada (persona) [mujer embarazada], embarazada - en historia clínica (hallazgo) [embarazada - en historia clínica], primigesta (hallazgo) [primigesta], embarazo - hallazgo [embarazo - hallazgo], hallazgo relacionado con el embarazo [hallazgo relacionado con el embarazo], embarazada - gestación planeada (hallazgo) [embarazada - gestación planeada], embarazo a término (hallazgo) [embarazo a término], embarazo ovárico [embarazo ovárico], preparto [preparto]]   \n",
              "\n",
              "                                                                                  all_cos_distances  \n",
              "0  [0.0231, 0.0420, 0.0707, 0.1157, 0.1558, 0.1595, 0.1705, 0.1837, 0.1886, 0.1981, 0.2086, 0.2177]  "
            ]
          },
          "execution_count": 22,
          "metadata": {},
          "output_type": "execute_result"
        }
      ],
      "source": [
        "text = 'Embarazo'\n",
        "\n",
        "%time get_codes (snomed_lp, text, vocab='snomed_code')"
      ]
    },
    {
      "cell_type": "code",
      "execution_count": 23,
      "metadata": {
        "colab": {
          "base_uri": "https://localhost:8080/",
          "height": 289
        },
        "id": "NU2OJgmvAv12",
        "outputId": "83203a1a-bfbd-48c4-8871-111d7ebdbbc4"
      },
      "outputs": [
        {
          "name": "stdout",
          "output_type": "stream",
          "text": [
            "CPU times: user 39.2 ms, sys: 8.37 ms, total: 47.6 ms\n",
            "Wall time: 2.46 s\n"
          ]
        },
        {
          "data": {
            "application/vnd.google.colaboratory.intrinsic+json": {
              "summary": "{\n  \"name\": \"get_ipython()\",\n  \"rows\": 1,\n  \"fields\": [\n    {\n      \"column\": \"chunks\",\n      \"properties\": {\n        \"dtype\": \"string\",\n        \"num_unique_values\": 1,\n        \"samples\": [\n          \"ERGE\"\n        ],\n        \"semantic_type\": \"\",\n        \"description\": \"\"\n      }\n    },\n    {\n      \"column\": \"begin\",\n      \"properties\": {\n        \"dtype\": \"number\",\n        \"std\": null,\n        \"min\": 0,\n        \"max\": 0,\n        \"num_unique_values\": 1,\n        \"samples\": [\n          0\n        ],\n        \"semantic_type\": \"\",\n        \"description\": \"\"\n      }\n    },\n    {\n      \"column\": \"end\",\n      \"properties\": {\n        \"dtype\": \"number\",\n        \"std\": null,\n        \"min\": 3,\n        \"max\": 3,\n        \"num_unique_values\": 1,\n        \"samples\": [\n          3\n        ],\n        \"semantic_type\": \"\",\n        \"description\": \"\"\n      }\n    },\n    {\n      \"column\": \"code\",\n      \"properties\": {\n        \"dtype\": \"string\",\n        \"num_unique_values\": 1,\n        \"samples\": [\n          \"235595009\"\n        ],\n        \"semantic_type\": \"\",\n        \"description\": \"\"\n      }\n    },\n    {\n      \"column\": \"resolution\",\n      \"properties\": {\n        \"dtype\": \"object\",\n        \"semantic_type\": \"\",\n        \"description\": \"\"\n      }\n    },\n    {\n      \"column\": \"all_codes\",\n      \"properties\": {\n        \"dtype\": \"object\",\n        \"semantic_type\": \"\",\n        \"description\": \"\"\n      }\n    },\n    {\n      \"column\": \"all_resolutions\",\n      \"properties\": {\n        \"dtype\": \"object\",\n        \"semantic_type\": \"\",\n        \"description\": \"\"\n      }\n    },\n    {\n      \"column\": \"all_cos_distances\",\n      \"properties\": {\n        \"dtype\": \"object\",\n        \"semantic_type\": \"\",\n        \"description\": \"\"\n      }\n    }\n  ]\n}",
              "type": "dataframe"
            },
            "text/html": [
              "\n",
              "  <div id=\"df-f8dbf6d6-2394-4663-aab8-37d7f9b7dbd9\" class=\"colab-df-container\">\n",
              "    <div>\n",
              "<style scoped>\n",
              "    .dataframe tbody tr th:only-of-type {\n",
              "        vertical-align: middle;\n",
              "    }\n",
              "\n",
              "    .dataframe tbody tr th {\n",
              "        vertical-align: top;\n",
              "    }\n",
              "\n",
              "    .dataframe thead th {\n",
              "        text-align: right;\n",
              "    }\n",
              "</style>\n",
              "<table border=\"1\" class=\"dataframe\">\n",
              "  <thead>\n",
              "    <tr style=\"text-align: right;\">\n",
              "      <th></th>\n",
              "      <th>chunks</th>\n",
              "      <th>begin</th>\n",
              "      <th>end</th>\n",
              "      <th>code</th>\n",
              "      <th>resolution</th>\n",
              "      <th>all_codes</th>\n",
              "      <th>all_resolutions</th>\n",
              "      <th>all_cos_distances</th>\n",
              "    </tr>\n",
              "  </thead>\n",
              "  <tbody>\n",
              "    <tr>\n",
              "      <th>0</th>\n",
              "      <td>ERGE</td>\n",
              "      <td>0</td>\n",
              "      <td>3</td>\n",
              "      <td>235595009</td>\n",
              "      <td>[RGE [RGE]]</td>\n",
              "      <td>[235595009, 717847008, 717846004, 9733003, 413216002, 57433008, 10999201000119106, 300290000, 413211007, 245754007, 40719004, 266433003, 266435005, 79693006]</td>\n",
              "      <td>[RGE [RGE], enfermedad por reflujo gastroesofágico erosiva [enfermedad por reflujo gastroesofágico erosiva], enfermedad por reflujo gastroesofágico no erosiva [enfermedad por reflujo gastroesofágico no erosiva], reflujo gastroduodenal [reflujo gastroduodenal], gastropatía erosiva [gastropatía erosiva], gastritis por reflujo [gastritis por reflujo], reflujo gastroesofágico en un niño (trastorno) [reflujo gastroesofágico en un niño], reflujo gástrico excesivo [reflujo gástrico excesivo], duodenopatía erosiva [duodenopatía erosiva], enfermedad del reflujo gastroesofágico con ulceración [enfermedad del reflujo gastroesofágico con ulceración], esofagitis erosiva [esofagitis erosiva], enfermedad por reflujo gastroesofágico con esofagitis [enfermedad por reflujo gastroesofágico con esofagitis], enfermedad por reflujo gastroesofágico sin esofagitis [enfermedad por reflujo gastroesofágico sin esofagitis], alteración en la digestión intestinal de células epiteliales [alteración en la digestión intestinal de células epiteliales]]</td>\n",
              "      <td>[0.1240, 0.1427, 0.2325, 0.2373, 0.2456, 0.2506, 0.2531, 0.2542, 0.2555, 0.2561, 0.2591, 0.2703, 0.2705, 0.2779]</td>\n",
              "    </tr>\n",
              "  </tbody>\n",
              "</table>\n",
              "</div>\n",
              "    <div class=\"colab-df-buttons\">\n",
              "\n",
              "  <div class=\"colab-df-container\">\n",
              "    <button class=\"colab-df-convert\" onclick=\"convertToInteractive('df-f8dbf6d6-2394-4663-aab8-37d7f9b7dbd9')\"\n",
              "            title=\"Convert this dataframe to an interactive table.\"\n",
              "            style=\"display:none;\">\n",
              "\n",
              "  <svg xmlns=\"http://www.w3.org/2000/svg\" height=\"24px\" viewBox=\"0 -960 960 960\">\n",
              "    <path d=\"M120-120v-720h720v720H120Zm60-500h600v-160H180v160Zm220 220h160v-160H400v160Zm0 220h160v-160H400v160ZM180-400h160v-160H180v160Zm440 0h160v-160H620v160ZM180-180h160v-160H180v160Zm440 0h160v-160H620v160Z\"/>\n",
              "  </svg>\n",
              "    </button>\n",
              "\n",
              "  <style>\n",
              "    .colab-df-container {\n",
              "      display:flex;\n",
              "      gap: 12px;\n",
              "    }\n",
              "\n",
              "    .colab-df-convert {\n",
              "      background-color: #E8F0FE;\n",
              "      border: none;\n",
              "      border-radius: 50%;\n",
              "      cursor: pointer;\n",
              "      display: none;\n",
              "      fill: #1967D2;\n",
              "      height: 32px;\n",
              "      padding: 0 0 0 0;\n",
              "      width: 32px;\n",
              "    }\n",
              "\n",
              "    .colab-df-convert:hover {\n",
              "      background-color: #E2EBFA;\n",
              "      box-shadow: 0px 1px 2px rgba(60, 64, 67, 0.3), 0px 1px 3px 1px rgba(60, 64, 67, 0.15);\n",
              "      fill: #174EA6;\n",
              "    }\n",
              "\n",
              "    .colab-df-buttons div {\n",
              "      margin-bottom: 4px;\n",
              "    }\n",
              "\n",
              "    [theme=dark] .colab-df-convert {\n",
              "      background-color: #3B4455;\n",
              "      fill: #D2E3FC;\n",
              "    }\n",
              "\n",
              "    [theme=dark] .colab-df-convert:hover {\n",
              "      background-color: #434B5C;\n",
              "      box-shadow: 0px 1px 3px 1px rgba(0, 0, 0, 0.15);\n",
              "      filter: drop-shadow(0px 1px 2px rgba(0, 0, 0, 0.3));\n",
              "      fill: #FFFFFF;\n",
              "    }\n",
              "  </style>\n",
              "\n",
              "    <script>\n",
              "      const buttonEl =\n",
              "        document.querySelector('#df-f8dbf6d6-2394-4663-aab8-37d7f9b7dbd9 button.colab-df-convert');\n",
              "      buttonEl.style.display =\n",
              "        google.colab.kernel.accessAllowed ? 'block' : 'none';\n",
              "\n",
              "      async function convertToInteractive(key) {\n",
              "        const element = document.querySelector('#df-f8dbf6d6-2394-4663-aab8-37d7f9b7dbd9');\n",
              "        const dataTable =\n",
              "          await google.colab.kernel.invokeFunction('convertToInteractive',\n",
              "                                                    [key], {});\n",
              "        if (!dataTable) return;\n",
              "\n",
              "        const docLinkHtml = 'Like what you see? Visit the ' +\n",
              "          '<a target=\"_blank\" href=https://colab.research.google.com/notebooks/data_table.ipynb>data table notebook</a>'\n",
              "          + ' to learn more about interactive tables.';\n",
              "        element.innerHTML = '';\n",
              "        dataTable['output_type'] = 'display_data';\n",
              "        await google.colab.output.renderOutput(dataTable, element);\n",
              "        const docLink = document.createElement('div');\n",
              "        docLink.innerHTML = docLinkHtml;\n",
              "        element.appendChild(docLink);\n",
              "      }\n",
              "    </script>\n",
              "  </div>\n",
              "\n",
              "\n",
              "    </div>\n",
              "  </div>\n"
            ],
            "text/plain": [
              "  chunks  begin  end       code   resolution  \\\n",
              "0  ERGE   0      3    235595009  [RGE [RGE]]   \n",
              "\n",
              "                                                                                                                                                       all_codes  \\\n",
              "0  [235595009, 717847008, 717846004, 9733003, 413216002, 57433008, 10999201000119106, 300290000, 413211007, 245754007, 40719004, 266433003, 266435005, 79693006]   \n",
              "\n",
              "                                                                                                                                                                                                                                                                                                                                                                                                                                                                                                                                                                                                                                                                                                                                                                                                                                                                                                                                                                                                                                                              all_resolutions  \\\n",
              "0  [RGE [RGE], enfermedad por reflujo gastroesofágico erosiva [enfermedad por reflujo gastroesofágico erosiva], enfermedad por reflujo gastroesofágico no erosiva [enfermedad por reflujo gastroesofágico no erosiva], reflujo gastroduodenal [reflujo gastroduodenal], gastropatía erosiva [gastropatía erosiva], gastritis por reflujo [gastritis por reflujo], reflujo gastroesofágico en un niño (trastorno) [reflujo gastroesofágico en un niño], reflujo gástrico excesivo [reflujo gástrico excesivo], duodenopatía erosiva [duodenopatía erosiva], enfermedad del reflujo gastroesofágico con ulceración [enfermedad del reflujo gastroesofágico con ulceración], esofagitis erosiva [esofagitis erosiva], enfermedad por reflujo gastroesofágico con esofagitis [enfermedad por reflujo gastroesofágico con esofagitis], enfermedad por reflujo gastroesofágico sin esofagitis [enfermedad por reflujo gastroesofágico sin esofagitis], alteración en la digestión intestinal de células epiteliales [alteración en la digestión intestinal de células epiteliales]]   \n",
              "\n",
              "                                                                                                  all_cos_distances  \n",
              "0  [0.1240, 0.1427, 0.2325, 0.2373, 0.2456, 0.2506, 0.2531, 0.2542, 0.2555, 0.2561, 0.2591, 0.2703, 0.2705, 0.2779]  "
            ]
          },
          "execution_count": 23,
          "metadata": {},
          "output_type": "execute_result"
        }
      ],
      "source": [
        "text = 'ERGE'\n",
        "\n",
        "%time get_codes (snomed_lp, text, vocab='snomed_code')"
      ]
    }
  ],
  "metadata": {
    "colab": {
      "machine_shape": "hm",
      "provenance": []
    },
    "kernelspec": {
      "display_name": "Python 3",
      "name": "python3"
    },
    "language_info": {
      "name": "python"
    }
  },
  "nbformat": 4,
  "nbformat_minor": 0
}
